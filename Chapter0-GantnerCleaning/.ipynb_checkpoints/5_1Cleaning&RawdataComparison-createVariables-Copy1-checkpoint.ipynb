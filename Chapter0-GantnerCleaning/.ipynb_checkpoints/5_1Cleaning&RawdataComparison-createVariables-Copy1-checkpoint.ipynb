{
 "cells": [
  {
   "cell_type": "code",
   "execution_count": 1,
   "metadata": {},
   "outputs": [],
   "source": [
    "#basic package\n",
    "import json\n",
    "import tqdm\n",
    "import os\n",
    "import numpy as np\n",
    "import glob\n",
    "import pandas as pd\n",
    "import sys\n",
    "import shutil\n",
    "import time\n",
    "import datetime as dt\n",
    "import itertools\n",
    "import re\n",
    "from collections import Counter\n",
    "from collections import defaultdict\n",
    "import operator\n",
    "import math\n",
    "import functools\n",
    "import collections\n",
    "import random\n",
    "from matplotlib.colors import DivergingNorm\n",
    "\n",
    "#0-1 normalisation\n",
    "from sklearn import preprocessing\n",
    "\n",
    "from scipy.stats import pearsonr\n",
    "import scipy.stats as stats\n",
    "\n",
    "#modelling\n",
    "from sklearn.preprocessing import StandardScaler, MinMaxScaler\n",
    "from sklearn.utils import shuffle\n",
    "from sklearn.metrics import classification_report, confusion_matrix, plot_confusion_matrix, cohen_kappa_score, r2_score,\\\n",
    "mean_squared_error, mean_absolute_error, explained_variance_score#catboost, for a better support of categorical data\n",
    "from catboost import CatBoostClassifier, Pool\n",
    "\n",
    "#plot\n",
    "import matplotlib.pyplot as plt\n",
    "import seaborn as sns"
   ]
  },
  {
   "cell_type": "code",
   "execution_count": 2,
   "metadata": {},
   "outputs": [
    {
     "name": "stderr",
     "output_type": "stream",
     "text": [
      "C:\\Users\\camil\\anaconda3\\lib\\site-packages\\scipy\\sparse\\sparsetools.py:21: DeprecationWarning: `scipy.sparse.sparsetools` is deprecated!\n",
      "scipy.sparse.sparsetools is a private module for scipy.sparse, and should not be used.\n",
      "  _deprecated()\n"
     ]
    }
   ],
   "source": [
    "PACKAGE_PARENT = '../'\n",
    "SCRIPT_DIR = os.path.dirname(os.path.realpath(os.path.join(os.getcwd(), os.path.expanduser('__file__'))))\n",
    "sys.path.append(os.path.normpath(os.path.join(SCRIPT_DIR, PACKAGE_PARENT)))\n",
    "from UTILS import cleaning_processing, HenDailyVariable_Origins\n",
    "import config_origins as config"
   ]
  },
  {
   "cell_type": "code",
   "execution_count": 3,
   "metadata": {},
   "outputs": [
    {
     "name": "stderr",
     "output_type": "stream",
     "text": [
      "C:\\Users\\camil\\anaconda3\\lib\\site-packages\\ipykernel\\ipkernel.py:283: DeprecationWarning: `should_run_async` will not call `transform_cell` automatically in the future. Please pass the result to `transformed_cell` argument and any exception that happen during thetransform in `preprocessing_exc_tuple` in IPython 7.17 and above.\n",
      "  and should_run_async(code)\n"
     ]
    }
   ],
   "source": [
    "random.seed(0)"
   ]
  },
  {
   "cell_type": "code",
   "execution_count": 4,
   "metadata": {},
   "outputs": [
    {
     "name": "stderr",
     "output_type": "stream",
     "text": [
      "C:\\Users\\camil\\anaconda3\\lib\\site-packages\\ipykernel\\ipkernel.py:283: DeprecationWarning: `should_run_async` will not call `transform_cell` automatically in the future. Please pass the result to `transformed_cell` argument and any exception that happen during thetransform in `preprocessing_exc_tuple` in IPython 7.17 and above.\n",
      "  and should_run_async(code)\n"
     ]
    }
   ],
   "source": [
    "#initialise parameters\n",
    "path_extracted_data = config.path_extracted_data\n",
    "path_initial_data = config.path_initial_data\n",
    "id_run = config.id_run\n",
    "dico_matching = config.dico_matching\n",
    "dico_night_hour = config.dico_night_hour\n",
    "nbr_maxdur2beremoved = config.nbr_maxdur2beremoved\n",
    "dico_garden_opening_hour = config.dico_garden_opening_hour\n",
    "path_extracted_data_cleaning = os.path.join(path_extracted_data,'Cleaning')\n",
    "path_extracted_data_cleaning_model = os.path.join(path_extracted_data_cleaning,'model')  \n",
    "path_extracted_data_cleaning_rawvscleaned = os.path.join(path_extracted_data_cleaning,'Raw&Cleaned')  \n",
    "#create a director if not existing\n",
    "if not os.path.exists(path_extracted_data_cleaning_rawvscleaned):\n",
    "    os.makedirs(path_extracted_data_cleaning_rawvscleaned)\n",
    "    \n",
    "path_extracted_data_cleaning_rawvscleaned_DF = os.path.join(path_extracted_data_cleaning_rawvscleaned,'var_expl')\n",
    "if not os.path.exists(path_extracted_data_cleaning_rawvscleaned_DF):\n",
    "    os.makedirs(path_extracted_data_cleaning_rawvscleaned_DF)\n",
    "\n",
    "#feature for model\n",
    "li_cont_select = config.li_cont_select\n",
    "li_bin = config.li_bin\n",
    "li_cat_select = config.li_cat_select"
   ]
  },
  {
   "cell_type": "markdown",
   "metadata": {},
   "source": [
    "# Download data & model"
   ]
  },
  {
   "cell_type": "code",
   "execution_count": 5,
   "metadata": {},
   "outputs": [
    {
     "name": "stderr",
     "output_type": "stream",
     "text": [
      "C:\\Users\\camil\\anaconda3\\lib\\site-packages\\ipykernel\\ipkernel.py:283: DeprecationWarning: `should_run_async` will not call `transform_cell` automatically in the future. Please pass the result to `transformed_cell` argument and any exception that happen during thetransform in `preprocessing_exc_tuple` in IPython 7.17 and above.\n",
      "  and should_run_async(code)\n"
     ]
    }
   ],
   "source": [
    "#start end of october, on data that the system never saw!!\n",
    "date_min = dt.datetime(2020, 10, 27)\n",
    "#end at the very end to have most info\n",
    "date_max = dt.datetime(2022,12,30)"
   ]
  },
  {
   "cell_type": "code",
   "execution_count": 6,
   "metadata": {},
   "outputs": [
    {
     "name": "stderr",
     "output_type": "stream",
     "text": [
      "C:\\Users\\camil\\anaconda3\\lib\\site-packages\\ipykernel\\ipkernel.py:283: DeprecationWarning: `should_run_async` will not call `transform_cell` automatically in the future. Please pass the result to `transformed_cell` argument and any exception that happen during thetransform in `preprocessing_exc_tuple` in IPython 7.17 and above.\n",
      "  and should_run_async(code)\n",
      "C:\\Users\\camil\\anaconda3\\lib\\site-packages\\numpy\\lib\\arraysetops.py:580: FutureWarning: elementwise comparison failed; returning scalar instead, but in the future will perform elementwise comparison\n",
      "  mask |= (ar1 == a)\n"
     ]
    },
    {
     "name": "stdout",
     "output_type": "stream",
     "text": [
      "(2425329, 15)\n"
     ]
    },
    {
     "name": "stderr",
     "output_type": "stream",
     "text": [
      "\r",
      "  0%|                                                                                          | 0/179 [00:00<?, ?it/s]"
     ]
    },
    {
     "name": "stdout",
     "output_type": "stream",
     "text": [
      "(2148188, 15)\n"
     ]
    },
    {
     "name": "stderr",
     "output_type": "stream",
     "text": [
      "100%|████████████████████████████████████████████████████████████████████████████████| 179/179 [03:54<00:00,  1.31s/it]\n"
     ]
    },
    {
     "name": "stdout",
     "output_type": "stream",
     "text": [
      "small VERIFICATION of zone matching, before droping the old names\n"
     ]
    },
    {
     "data": {
      "text/html": [
       "<div>\n",
       "<style scoped>\n",
       "    .dataframe tbody tr th:only-of-type {\n",
       "        vertical-align: middle;\n",
       "    }\n",
       "\n",
       "    .dataframe tbody tr th {\n",
       "        vertical-align: top;\n",
       "    }\n",
       "\n",
       "    .dataframe thead th {\n",
       "        text-align: right;\n",
       "    }\n",
       "</style>\n",
       "<table border=\"1\" class=\"dataframe\">\n",
       "  <thead>\n",
       "    <tr style=\"text-align: right;\">\n",
       "      <th></th>\n",
       "      <th>system</th>\n",
       "      <th>zone2</th>\n",
       "      <th>zone3</th>\n",
       "      <th>zone4</th>\n",
       "      <th>zone2_match</th>\n",
       "      <th>zone3_match</th>\n",
       "      <th>zone4_match</th>\n",
       "    </tr>\n",
       "  </thead>\n",
       "  <tbody>\n",
       "    <tr>\n",
       "      <th>277141</th>\n",
       "      <td>3 - 5</td>\n",
       "      <td>2</td>\n",
       "      <td>1</td>\n",
       "      <td>0</td>\n",
       "      <td>3_Zone</td>\n",
       "      <td>2_Zone</td>\n",
       "      <td>NoOtherZone</td>\n",
       "    </tr>\n",
       "    <tr>\n",
       "      <th>277142</th>\n",
       "      <td>3 - 5</td>\n",
       "      <td>3</td>\n",
       "      <td>0</td>\n",
       "      <td>0</td>\n",
       "      <td>4_Zone</td>\n",
       "      <td>NoOtherZone</td>\n",
       "      <td>NoOtherZone</td>\n",
       "    </tr>\n",
       "    <tr>\n",
       "      <th>277143</th>\n",
       "      <td>3 - 5</td>\n",
       "      <td>4</td>\n",
       "      <td>0</td>\n",
       "      <td>0</td>\n",
       "      <td>5_Zone</td>\n",
       "      <td>NoOtherZone</td>\n",
       "      <td>NoOtherZone</td>\n",
       "    </tr>\n",
       "    <tr>\n",
       "      <th>277144</th>\n",
       "      <td>3 - 5</td>\n",
       "      <td>3</td>\n",
       "      <td>4</td>\n",
       "      <td>0</td>\n",
       "      <td>4_Zone</td>\n",
       "      <td>5_Zone</td>\n",
       "      <td>NoOtherZone</td>\n",
       "    </tr>\n",
       "    <tr>\n",
       "      <th>277145</th>\n",
       "      <td>3 - 5</td>\n",
       "      <td>4</td>\n",
       "      <td>0</td>\n",
       "      <td>0</td>\n",
       "      <td>5_Zone</td>\n",
       "      <td>NoOtherZone</td>\n",
       "      <td>NoOtherZone</td>\n",
       "    </tr>\n",
       "    <tr>\n",
       "      <th>277146</th>\n",
       "      <td>3 - 5</td>\n",
       "      <td>3</td>\n",
       "      <td>4</td>\n",
       "      <td>0</td>\n",
       "      <td>4_Zone</td>\n",
       "      <td>5_Zone</td>\n",
       "      <td>NoOtherZone</td>\n",
       "    </tr>\n",
       "    <tr>\n",
       "      <th>277147</th>\n",
       "      <td>3 - 5</td>\n",
       "      <td>3</td>\n",
       "      <td>1</td>\n",
       "      <td>0</td>\n",
       "      <td>4_Zone</td>\n",
       "      <td>2_Zone</td>\n",
       "      <td>NoOtherZone</td>\n",
       "    </tr>\n",
       "    <tr>\n",
       "      <th>277148</th>\n",
       "      <td>3 - 5</td>\n",
       "      <td>2</td>\n",
       "      <td>3</td>\n",
       "      <td>1</td>\n",
       "      <td>3_Zone</td>\n",
       "      <td>4_Zone</td>\n",
       "      <td>2_Zone</td>\n",
       "    </tr>\n",
       "    <tr>\n",
       "      <th>277149</th>\n",
       "      <td>8 - 9</td>\n",
       "      <td>1</td>\n",
       "      <td>3</td>\n",
       "      <td>6</td>\n",
       "      <td>2_Zone</td>\n",
       "      <td>4_Zone</td>\n",
       "      <td>miniZone3</td>\n",
       "    </tr>\n",
       "    <tr>\n",
       "      <th>277150</th>\n",
       "      <td>8 - 9</td>\n",
       "      <td>4</td>\n",
       "      <td>3</td>\n",
       "      <td>1</td>\n",
       "      <td>5_Zone</td>\n",
       "      <td>4_Zone</td>\n",
       "      <td>2_Zone</td>\n",
       "    </tr>\n",
       "  </tbody>\n",
       "</table>\n",
       "</div>"
      ],
      "text/plain": [
       "       system  zone2  zone3  zone4 zone2_match  zone3_match  zone4_match\n",
       "277141  3 - 5      2      1      0      3_Zone       2_Zone  NoOtherZone\n",
       "277142  3 - 5      3      0      0      4_Zone  NoOtherZone  NoOtherZone\n",
       "277143  3 - 5      4      0      0      5_Zone  NoOtherZone  NoOtherZone\n",
       "277144  3 - 5      3      4      0      4_Zone       5_Zone  NoOtherZone\n",
       "277145  3 - 5      4      0      0      5_Zone  NoOtherZone  NoOtherZone\n",
       "277146  3 - 5      3      4      0      4_Zone       5_Zone  NoOtherZone\n",
       "277147  3 - 5      3      1      0      4_Zone       2_Zone  NoOtherZone\n",
       "277148  3 - 5      2      3      1      3_Zone       4_Zone       2_Zone\n",
       "277149  8 - 9      1      3      6      2_Zone       4_Zone    miniZone3\n",
       "277150  8 - 9      4      3      1      5_Zone       4_Zone       2_Zone"
      ]
     },
     "metadata": {},
     "output_type": "display_data"
    },
    {
     "name": "stdout",
     "output_type": "stream",
     "text": [
      "specifically, a small verification of when zone2 was equal to 9\n"
     ]
    },
    {
     "data": {
      "text/html": [
       "<div>\n",
       "<style scoped>\n",
       "    .dataframe tbody tr th:only-of-type {\n",
       "        vertical-align: middle;\n",
       "    }\n",
       "\n",
       "    .dataframe tbody tr th {\n",
       "        vertical-align: top;\n",
       "    }\n",
       "\n",
       "    .dataframe thead th {\n",
       "        text-align: right;\n",
       "    }\n",
       "</style>\n",
       "<table border=\"1\" class=\"dataframe\">\n",
       "  <thead>\n",
       "    <tr style=\"text-align: right;\">\n",
       "      <th></th>\n",
       "      <th>Timestamp</th>\n",
       "      <th>HenID</th>\n",
       "      <th>Zone</th>\n",
       "      <th>PenID</th>\n",
       "      <th>TagID</th>\n",
       "      <th>signalstrength</th>\n",
       "      <th>system</th>\n",
       "      <th>date</th>\n",
       "      <th>zone2</th>\n",
       "      <th>signalstzone2</th>\n",
       "      <th>...</th>\n",
       "      <th>next3_zone</th>\n",
       "      <th>previous3_zone</th>\n",
       "      <th>next4_zone</th>\n",
       "      <th>previous4_zone</th>\n",
       "      <th>next5_zone</th>\n",
       "      <th>previous5_zone</th>\n",
       "      <th>previousZone==NextZone</th>\n",
       "      <th>zone2_match</th>\n",
       "      <th>zone3_match</th>\n",
       "      <th>zone4_match</th>\n",
       "    </tr>\n",
       "  </thead>\n",
       "  <tbody>\n",
       "    <tr>\n",
       "      <th>278062</th>\n",
       "      <td>2020-10-27 05:14:29</td>\n",
       "      <td>hen_47</td>\n",
       "      <td>2_Zone</td>\n",
       "      <td>pen12</td>\n",
       "      <td>tag_175</td>\n",
       "      <td>6</td>\n",
       "      <td>10 - 12</td>\n",
       "      <td>2020-10-27</td>\n",
       "      <td>9</td>\n",
       "      <td>4</td>\n",
       "      <td>...</td>\n",
       "      <td>2_Zone</td>\n",
       "      <td>3_Zone</td>\n",
       "      <td>2_Zone</td>\n",
       "      <td>NaN</td>\n",
       "      <td>2_Zone</td>\n",
       "      <td>NaN</td>\n",
       "      <td>True</td>\n",
       "      <td>2_Zone</td>\n",
       "      <td>5_Zone</td>\n",
       "      <td>3_Zone</td>\n",
       "    </tr>\n",
       "    <tr>\n",
       "      <th>278072</th>\n",
       "      <td>2020-10-27 05:14:45</td>\n",
       "      <td>hen_68</td>\n",
       "      <td>2_Zone</td>\n",
       "      <td>pen12</td>\n",
       "      <td>tag_179</td>\n",
       "      <td>6</td>\n",
       "      <td>10 - 12</td>\n",
       "      <td>2020-10-27</td>\n",
       "      <td>9</td>\n",
       "      <td>5</td>\n",
       "      <td>...</td>\n",
       "      <td>3_Zone</td>\n",
       "      <td>3_Zone</td>\n",
       "      <td>3_Zone</td>\n",
       "      <td>3_Zone</td>\n",
       "      <td>3_Zone</td>\n",
       "      <td>3_Zone</td>\n",
       "      <td>True</td>\n",
       "      <td>2_Zone</td>\n",
       "      <td>NoOtherZone</td>\n",
       "      <td>NoOtherZone</td>\n",
       "    </tr>\n",
       "    <tr>\n",
       "      <th>278109</th>\n",
       "      <td>2020-10-27 05:16:02</td>\n",
       "      <td>hen_68</td>\n",
       "      <td>2_Zone</td>\n",
       "      <td>pen12</td>\n",
       "      <td>tag_179</td>\n",
       "      <td>18</td>\n",
       "      <td>10 - 12</td>\n",
       "      <td>2020-10-27</td>\n",
       "      <td>9</td>\n",
       "      <td>8</td>\n",
       "      <td>...</td>\n",
       "      <td>3_Zone</td>\n",
       "      <td>2_Zone</td>\n",
       "      <td>3_Zone</td>\n",
       "      <td>2_Zone</td>\n",
       "      <td>3_Zone</td>\n",
       "      <td>3_Zone</td>\n",
       "      <td>False</td>\n",
       "      <td>2_Zone</td>\n",
       "      <td>5_Zone</td>\n",
       "      <td>3_Zone</td>\n",
       "    </tr>\n",
       "  </tbody>\n",
       "</table>\n",
       "<p>3 rows × 39 columns</p>\n",
       "</div>"
      ],
      "text/plain": [
       "                 Timestamp   HenID    Zone  PenID    TagID  signalstrength  \\\n",
       "278062 2020-10-27 05:14:29  hen_47  2_Zone  pen12  tag_175               6   \n",
       "278072 2020-10-27 05:14:45  hen_68  2_Zone  pen12  tag_179               6   \n",
       "278109 2020-10-27 05:16:02  hen_68  2_Zone  pen12  tag_179              18   \n",
       "\n",
       "         system       date  zone2  signalstzone2  ...  next3_zone  \\\n",
       "278062  10 - 12 2020-10-27      9              4  ...      2_Zone   \n",
       "278072  10 - 12 2020-10-27      9              5  ...      3_Zone   \n",
       "278109  10 - 12 2020-10-27      9              8  ...      3_Zone   \n",
       "\n",
       "        previous3_zone next4_zone previous4_zone next5_zone previous5_zone  \\\n",
       "278062          3_Zone     2_Zone            NaN     2_Zone            NaN   \n",
       "278072          3_Zone     3_Zone         3_Zone     3_Zone         3_Zone   \n",
       "278109          2_Zone     3_Zone         2_Zone     3_Zone         3_Zone   \n",
       "\n",
       "       previousZone==NextZone  zone2_match  zone3_match  zone4_match  \n",
       "278062                   True       2_Zone       5_Zone       3_Zone  \n",
       "278072                   True       2_Zone  NoOtherZone  NoOtherZone  \n",
       "278109                  False       2_Zone       5_Zone       3_Zone  \n",
       "\n",
       "[3 rows x 39 columns]"
      ]
     },
     "metadata": {},
     "output_type": "display_data"
    },
    {
     "name": "stdout",
     "output_type": "stream",
     "text": [
      "Total running time: 27.42 mn\n",
      "(2144152, 40)\n"
     ]
    },
    {
     "data": {
      "text/html": [
       "<div>\n",
       "<style scoped>\n",
       "    .dataframe tbody tr th:only-of-type {\n",
       "        vertical-align: middle;\n",
       "    }\n",
       "\n",
       "    .dataframe tbody tr th {\n",
       "        vertical-align: top;\n",
       "    }\n",
       "\n",
       "    .dataframe thead th {\n",
       "        text-align: right;\n",
       "    }\n",
       "</style>\n",
       "<table border=\"1\" class=\"dataframe\">\n",
       "  <thead>\n",
       "    <tr style=\"text-align: right;\">\n",
       "      <th></th>\n",
       "      <th>Timestamp</th>\n",
       "      <th>HenID</th>\n",
       "      <th>Trackingsystem_Zone</th>\n",
       "      <th>PenID</th>\n",
       "      <th>TagID</th>\n",
       "      <th>signalstrength</th>\n",
       "      <th>system</th>\n",
       "      <th>date</th>\n",
       "      <th>signalstzone2</th>\n",
       "      <th>next1_record_date</th>\n",
       "      <th>...</th>\n",
       "      <th>next5_zone</th>\n",
       "      <th>previous5_zone</th>\n",
       "      <th>previousZone==NextZone</th>\n",
       "      <th>zone2_match</th>\n",
       "      <th>zone3_match</th>\n",
       "      <th>zone4_match</th>\n",
       "      <th>zone3_match_exist</th>\n",
       "      <th>next2zone==Zone</th>\n",
       "      <th>previous2zone==Zone</th>\n",
       "      <th>time</th>\n",
       "    </tr>\n",
       "  </thead>\n",
       "  <tbody>\n",
       "    <tr>\n",
       "      <th>277141</th>\n",
       "      <td>2020-10-27 00:03:07</td>\n",
       "      <td>hen_100</td>\n",
       "      <td>4_Zone</td>\n",
       "      <td>pen5</td>\n",
       "      <td>tag_121</td>\n",
       "      <td>6</td>\n",
       "      <td>3 - 5</td>\n",
       "      <td>2020-10-27</td>\n",
       "      <td>5</td>\n",
       "      <td>2020-10-27 00:03:12</td>\n",
       "      <td>...</td>\n",
       "      <td>5_Zone</td>\n",
       "      <td>NaN</td>\n",
       "      <td>False</td>\n",
       "      <td>3_Zone</td>\n",
       "      <td>2_Zone</td>\n",
       "      <td>NoOtherZone</td>\n",
       "      <td>1</td>\n",
       "      <td>0</td>\n",
       "      <td>0</td>\n",
       "      <td>00:03:07</td>\n",
       "    </tr>\n",
       "    <tr>\n",
       "      <th>277142</th>\n",
       "      <td>2020-10-27 00:03:12</td>\n",
       "      <td>hen_100</td>\n",
       "      <td>5_Zone</td>\n",
       "      <td>pen5</td>\n",
       "      <td>tag_121</td>\n",
       "      <td>9</td>\n",
       "      <td>3 - 5</td>\n",
       "      <td>2020-10-27</td>\n",
       "      <td>6</td>\n",
       "      <td>2020-10-27 00:20:52</td>\n",
       "      <td>...</td>\n",
       "      <td>3_Zone</td>\n",
       "      <td>NaN</td>\n",
       "      <td>False</td>\n",
       "      <td>4_Zone</td>\n",
       "      <td>NoOtherZone</td>\n",
       "      <td>NoOtherZone</td>\n",
       "      <td>0</td>\n",
       "      <td>1</td>\n",
       "      <td>0</td>\n",
       "      <td>00:03:12</td>\n",
       "    </tr>\n",
       "    <tr>\n",
       "      <th>277143</th>\n",
       "      <td>2020-10-27 00:15:39</td>\n",
       "      <td>hen_73</td>\n",
       "      <td>4_Zone</td>\n",
       "      <td>pen4</td>\n",
       "      <td>tag_41</td>\n",
       "      <td>4</td>\n",
       "      <td>3 - 5</td>\n",
       "      <td>2020-10-27</td>\n",
       "      <td>3</td>\n",
       "      <td>2020-10-27 00:15:42</td>\n",
       "      <td>...</td>\n",
       "      <td>3_Zone</td>\n",
       "      <td>NaN</td>\n",
       "      <td>False</td>\n",
       "      <td>5_Zone</td>\n",
       "      <td>NoOtherZone</td>\n",
       "      <td>NoOtherZone</td>\n",
       "      <td>0</td>\n",
       "      <td>1</td>\n",
       "      <td>0</td>\n",
       "      <td>00:15:39</td>\n",
       "    </tr>\n",
       "  </tbody>\n",
       "</table>\n",
       "<p>3 rows × 40 columns</p>\n",
       "</div>"
      ],
      "text/plain": [
       "                 Timestamp    HenID Trackingsystem_Zone PenID    TagID  \\\n",
       "277141 2020-10-27 00:03:07  hen_100              4_Zone  pen5  tag_121   \n",
       "277142 2020-10-27 00:03:12  hen_100              5_Zone  pen5  tag_121   \n",
       "277143 2020-10-27 00:15:39   hen_73              4_Zone  pen4   tag_41   \n",
       "\n",
       "        signalstrength system       date  signalstzone2   next1_record_date  \\\n",
       "277141               6  3 - 5 2020-10-27              5 2020-10-27 00:03:12   \n",
       "277142               9  3 - 5 2020-10-27              6 2020-10-27 00:20:52   \n",
       "277143               4  3 - 5 2020-10-27              3 2020-10-27 00:15:42   \n",
       "\n",
       "        ... next5_zone previous5_zone previousZone==NextZone zone2_match  \\\n",
       "277141  ...     5_Zone            NaN                  False      3_Zone   \n",
       "277142  ...     3_Zone            NaN                  False      4_Zone   \n",
       "277143  ...     3_Zone            NaN                  False      5_Zone   \n",
       "\n",
       "        zone3_match  zone4_match  zone3_match_exist next2zone==Zone  \\\n",
       "277141       2_Zone  NoOtherZone                  1               0   \n",
       "277142  NoOtherZone  NoOtherZone                  0               1   \n",
       "277143  NoOtherZone  NoOtherZone                  0               1   \n",
       "\n",
       "       previous2zone==Zone      time  \n",
       "277141                   0  00:03:07  \n",
       "277142                   0  00:03:12  \n",
       "277143                   0  00:15:39  \n",
       "\n",
       "[3 rows x 40 columns]"
      ]
     },
     "execution_count": 6,
     "metadata": {},
     "output_type": "execute_result"
    }
   ],
   "source": [
    "#download data and add the necessary processing as the duraiton, next/previous zones etc\n",
    "START_TIME = time.perf_counter()\n",
    "#min date is dt.datetime(2020, 10, 15) so that we dont have only birds not moving\n",
    "df = cleaning_processing(date_min=date_min, date_max=date_max, config=config)\n",
    "df['time'] = df['Timestamp'].map(lambda x: dt.datetime.time(x))\n",
    "df.rename(columns={'Zone':'Trackingsystem_Zone'}, inplace=True)\n",
    "df.to_csv(os.path.join(path_extracted_data_cleaning_rawvscleaned,'df_records_initial_processed.csv'), sep=';', index=False)\n",
    "END_TIME = time.perf_counter()\n",
    "print (\"Total running time: %.2f mn\" %((END_TIME-START_TIME)/60))\n",
    "print(df.shape)\n",
    "df.head(3)"
   ]
  },
  {
   "cell_type": "code",
   "execution_count": 7,
   "metadata": {},
   "outputs": [
    {
     "name": "stderr",
     "output_type": "stream",
     "text": [
      "C:\\Users\\camil\\anaconda3\\lib\\site-packages\\ipykernel\\ipkernel.py:283: DeprecationWarning: `should_run_async` will not call `transform_cell` automatically in the future. Please pass the result to `transformed_cell` argument and any exception that happen during thetransform in `preprocessing_exc_tuple` in IPython 7.17 and above.\n",
      "  and should_run_async(code)\n"
     ]
    }
   ],
   "source": [
    "model = CatBoostClassifier()\n",
    "model.load_model(os.path.join(path_extracted_data_cleaning_model,'FINAL_Catboost'));"
   ]
  },
  {
   "cell_type": "markdown",
   "metadata": {},
   "source": [
    "# Data preprocessing"
   ]
  },
  {
   "cell_type": "code",
   "execution_count": 30,
   "metadata": {},
   "outputs": [
    {
     "name": "stderr",
     "output_type": "stream",
     "text": [
      "C:\\Users\\camil\\anaconda3\\lib\\site-packages\\ipykernel\\ipkernel.py:283: DeprecationWarning: `should_run_async` will not call `transform_cell` automatically in the future. Please pass the result to `transformed_cell` argument and any exception that happen during thetransform in `preprocessing_exc_tuple` in IPython 7.17 and above.\n",
      "  and should_run_async(code)\n"
     ]
    },
    {
     "data": {
      "text/plain": [
       "False    1960341\n",
       "True      183811\n",
       "Name: is_dur_bigger_900, dtype: int64"
      ]
     },
     "metadata": {},
     "output_type": "display_data"
    },
    {
     "data": {
      "text/plain": [
       "False    1081483\n",
       "True     1062669\n",
       "Name: is_dur_smaller_60sec, dtype: int64"
      ]
     },
     "metadata": {},
     "output_type": "display_data"
    },
    {
     "name": "stdout",
     "output_type": "stream",
     "text": [
      "(2144152, 43)\n"
     ]
    },
    {
     "data": {
      "text/html": [
       "<div>\n",
       "<style scoped>\n",
       "    .dataframe tbody tr th:only-of-type {\n",
       "        vertical-align: middle;\n",
       "    }\n",
       "\n",
       "    .dataframe tbody tr th {\n",
       "        vertical-align: top;\n",
       "    }\n",
       "\n",
       "    .dataframe thead th {\n",
       "        text-align: right;\n",
       "    }\n",
       "</style>\n",
       "<table border=\"1\" class=\"dataframe\">\n",
       "  <thead>\n",
       "    <tr style=\"text-align: right;\">\n",
       "      <th></th>\n",
       "      <th>Timestamp</th>\n",
       "      <th>HenID</th>\n",
       "      <th>Trackingsystem_Zone</th>\n",
       "      <th>PenID</th>\n",
       "      <th>TagID</th>\n",
       "      <th>signalstrength</th>\n",
       "      <th>system</th>\n",
       "      <th>date</th>\n",
       "      <th>signalstzone2</th>\n",
       "      <th>next1_record_date</th>\n",
       "      <th>...</th>\n",
       "      <th>zone2_match</th>\n",
       "      <th>zone3_match</th>\n",
       "      <th>zone4_match</th>\n",
       "      <th>zone3_match_exist</th>\n",
       "      <th>next2zone==Zone</th>\n",
       "      <th>previous2zone==Zone</th>\n",
       "      <th>time</th>\n",
       "      <th>is_dur_smaller_60sec</th>\n",
       "      <th>nbr_nan</th>\n",
       "      <th>is_dur_bigger_900</th>\n",
       "    </tr>\n",
       "  </thead>\n",
       "  <tbody>\n",
       "    <tr>\n",
       "      <th>0</th>\n",
       "      <td>2020-10-27 00:03:07</td>\n",
       "      <td>hen_100</td>\n",
       "      <td>4_Zone</td>\n",
       "      <td>pen5</td>\n",
       "      <td>tag_121</td>\n",
       "      <td>6</td>\n",
       "      <td>3 - 5</td>\n",
       "      <td>2020-10-27</td>\n",
       "      <td>5</td>\n",
       "      <td>2020-10-27 00:03:12</td>\n",
       "      <td>...</td>\n",
       "      <td>3_Zone</td>\n",
       "      <td>2_Zone</td>\n",
       "      <td>NoOtherZone</td>\n",
       "      <td>1</td>\n",
       "      <td>0</td>\n",
       "      <td>0</td>\n",
       "      <td>00:03:07</td>\n",
       "      <td>True</td>\n",
       "      <td>1</td>\n",
       "      <td>False</td>\n",
       "    </tr>\n",
       "    <tr>\n",
       "      <th>1</th>\n",
       "      <td>2020-10-27 00:03:12</td>\n",
       "      <td>hen_100</td>\n",
       "      <td>5_Zone</td>\n",
       "      <td>pen5</td>\n",
       "      <td>tag_121</td>\n",
       "      <td>9</td>\n",
       "      <td>3 - 5</td>\n",
       "      <td>2020-10-27</td>\n",
       "      <td>6</td>\n",
       "      <td>2020-10-27 00:20:52</td>\n",
       "      <td>...</td>\n",
       "      <td>4_Zone</td>\n",
       "      <td>NoOtherZone</td>\n",
       "      <td>NoOtherZone</td>\n",
       "      <td>0</td>\n",
       "      <td>1</td>\n",
       "      <td>0</td>\n",
       "      <td>00:03:12</td>\n",
       "      <td>False</td>\n",
       "      <td>0</td>\n",
       "      <td>True</td>\n",
       "    </tr>\n",
       "    <tr>\n",
       "      <th>2</th>\n",
       "      <td>2020-10-27 00:15:39</td>\n",
       "      <td>hen_73</td>\n",
       "      <td>4_Zone</td>\n",
       "      <td>pen4</td>\n",
       "      <td>tag_41</td>\n",
       "      <td>4</td>\n",
       "      <td>3 - 5</td>\n",
       "      <td>2020-10-27</td>\n",
       "      <td>3</td>\n",
       "      <td>2020-10-27 00:15:42</td>\n",
       "      <td>...</td>\n",
       "      <td>5_Zone</td>\n",
       "      <td>NoOtherZone</td>\n",
       "      <td>NoOtherZone</td>\n",
       "      <td>0</td>\n",
       "      <td>1</td>\n",
       "      <td>0</td>\n",
       "      <td>00:15:39</td>\n",
       "      <td>True</td>\n",
       "      <td>1</td>\n",
       "      <td>False</td>\n",
       "    </tr>\n",
       "  </tbody>\n",
       "</table>\n",
       "<p>3 rows × 43 columns</p>\n",
       "</div>"
      ],
      "text/plain": [
       "            Timestamp    HenID Trackingsystem_Zone PenID    TagID  \\\n",
       "0 2020-10-27 00:03:07  hen_100              4_Zone  pen5  tag_121   \n",
       "1 2020-10-27 00:03:12  hen_100              5_Zone  pen5  tag_121   \n",
       "2 2020-10-27 00:15:39   hen_73              4_Zone  pen4   tag_41   \n",
       "\n",
       "   signalstrength system       date  signalstzone2    next1_record_date  ...  \\\n",
       "0               6  3 - 5 2020-10-27              5  2020-10-27 00:03:12  ...   \n",
       "1               9  3 - 5 2020-10-27              6  2020-10-27 00:20:52  ...   \n",
       "2               4  3 - 5 2020-10-27              3  2020-10-27 00:15:42  ...   \n",
       "\n",
       "  zone2_match  zone3_match  zone4_match zone3_match_exist  next2zone==Zone  \\\n",
       "0      3_Zone       2_Zone  NoOtherZone                 1                0   \n",
       "1      4_Zone  NoOtherZone  NoOtherZone                 0                1   \n",
       "2      5_Zone  NoOtherZone  NoOtherZone                 0                1   \n",
       "\n",
       "   previous2zone==Zone      time is_dur_smaller_60sec nbr_nan  \\\n",
       "0                    0  00:03:07                 True       1   \n",
       "1                    0  00:03:12                False       0   \n",
       "2                    0  00:15:39                 True       1   \n",
       "\n",
       "  is_dur_bigger_900  \n",
       "0             False  \n",
       "1              True  \n",
       "2             False  \n",
       "\n",
       "[3 rows x 43 columns]"
      ]
     },
     "execution_count": 30,
     "metadata": {},
     "output_type": "execute_result"
    }
   ],
   "source": [
    "df = pd.read_csv(os.path.join(path_extracted_data_cleaning_rawvscleaned,'df_records_initial_processed.csv'), sep=';',\n",
    "                 parse_dates=['Timestamp','date'], dayfirst=True) \n",
    "df['is_dur_bigger_'+str(nbr_maxdur2beremoved)] = df['duration'].map(lambda x: x>=nbr_maxdur2beremoved)\n",
    "display(df['is_dur_bigger_'+str(nbr_maxdur2beremoved)].value_counts())\n",
    "df['is_dur_smaller_60sec'] = df['duration'].map(lambda x: x<60)\n",
    "display(df['is_dur_smaller_60sec'].value_counts())\n",
    "print(df.shape)\n",
    "df.head(3)"
   ]
  },
  {
   "cell_type": "markdown",
   "metadata": {},
   "source": [
    "### handle nan"
   ]
  },
  {
   "cell_type": "code",
   "execution_count": 31,
   "metadata": {},
   "outputs": [
    {
     "name": "stderr",
     "output_type": "stream",
     "text": [
      "C:\\Users\\camil\\anaconda3\\lib\\site-packages\\ipykernel\\ipkernel.py:283: DeprecationWarning: `should_run_async` will not call `transform_cell` automatically in the future. Please pass the result to `transformed_cell` argument and any exception that happen during thetransform in `preprocessing_exc_tuple` in IPython 7.17 and above.\n",
      "  and should_run_async(code)\n"
     ]
    },
    {
     "data": {
      "text/plain": [
       "0    2143531\n",
       "1        443\n",
       "2        178\n",
       "Name: nbr_nan, dtype: int64"
      ]
     },
     "metadata": {},
     "output_type": "display_data"
    }
   ],
   "source": [
    "#add info on nan values in the initial df, in order to replace at the end all prediction based on features involvig at least \n",
    "#one nan, by 1\n",
    "#Indeed, for records with some nan features, we will predict them a 1 all the time its only 0,05% of the time , i.e. when its \n",
    "#first or last transition. Indeed, we dont want to loose any records!\n",
    "df['nbr_nan'] = df.filter(li_cont_select+li_cat_select, axis=1).isnull().sum(axis=1).tolist()\n",
    "display(df['nbr_nan'].value_counts())"
   ]
  },
  {
   "cell_type": "code",
   "execution_count": 10,
   "metadata": {},
   "outputs": [
    {
     "name": "stderr",
     "output_type": "stream",
     "text": [
      "C:\\Users\\camil\\anaconda3\\lib\\site-packages\\ipykernel\\ipkernel.py:283: DeprecationWarning: `should_run_async` will not call `transform_cell` automatically in the future. Please pass the result to `transformed_cell` argument and any exception that happen during thetransform in `preprocessing_exc_tuple` in IPython 7.17 and above.\n",
      "  and should_run_async(code)\n"
     ]
    },
    {
     "name": "stdout",
     "output_type": "stream",
     "text": [
      "(2144152, 13)\n"
     ]
    },
    {
     "data": {
      "text/html": [
       "<div>\n",
       "<style scoped>\n",
       "    .dataframe tbody tr th:only-of-type {\n",
       "        vertical-align: middle;\n",
       "    }\n",
       "\n",
       "    .dataframe tbody tr th {\n",
       "        vertical-align: top;\n",
       "    }\n",
       "\n",
       "    .dataframe thead th {\n",
       "        text-align: right;\n",
       "    }\n",
       "</style>\n",
       "<table border=\"1\" class=\"dataframe\">\n",
       "  <thead>\n",
       "    <tr style=\"text-align: right;\">\n",
       "      <th></th>\n",
       "      <th>signalstrength</th>\n",
       "      <th>signalstzone2</th>\n",
       "      <th>duration</th>\n",
       "      <th>next_duration</th>\n",
       "      <th>previous_duration</th>\n",
       "      <th>next2zone==Zone</th>\n",
       "      <th>previous2zone==Zone</th>\n",
       "      <th>zone3_match_exist</th>\n",
       "      <th>Trackingsystem_Zone</th>\n",
       "      <th>zone2_match</th>\n",
       "      <th>previous1_zone</th>\n",
       "      <th>next1_zone</th>\n",
       "      <th>system</th>\n",
       "    </tr>\n",
       "  </thead>\n",
       "  <tbody>\n",
       "    <tr>\n",
       "      <th>0</th>\n",
       "      <td>6</td>\n",
       "      <td>5</td>\n",
       "      <td>5.0</td>\n",
       "      <td>1060.0</td>\n",
       "      <td>0.0</td>\n",
       "      <td>0</td>\n",
       "      <td>0</td>\n",
       "      <td>1</td>\n",
       "      <td>4_Zone</td>\n",
       "      <td>3_Zone</td>\n",
       "      <td>NaN</td>\n",
       "      <td>5_Zone</td>\n",
       "      <td>3 - 5</td>\n",
       "    </tr>\n",
       "    <tr>\n",
       "      <th>2</th>\n",
       "      <td>4</td>\n",
       "      <td>3</td>\n",
       "      <td>3.0</td>\n",
       "      <td>297.0</td>\n",
       "      <td>0.0</td>\n",
       "      <td>1</td>\n",
       "      <td>0</td>\n",
       "      <td>0</td>\n",
       "      <td>4_Zone</td>\n",
       "      <td>5_Zone</td>\n",
       "      <td>NaN</td>\n",
       "      <td>3_Zone</td>\n",
       "      <td>3 - 5</td>\n",
       "    </tr>\n",
       "    <tr>\n",
       "      <th>8</th>\n",
       "      <td>8</td>\n",
       "      <td>7</td>\n",
       "      <td>7.0</td>\n",
       "      <td>2624.0</td>\n",
       "      <td>0.0</td>\n",
       "      <td>1</td>\n",
       "      <td>0</td>\n",
       "      <td>1</td>\n",
       "      <td>5_Zone</td>\n",
       "      <td>2_Zone</td>\n",
       "      <td>NaN</td>\n",
       "      <td>3_Zone</td>\n",
       "      <td>8 - 9</td>\n",
       "    </tr>\n",
       "    <tr>\n",
       "      <th>14</th>\n",
       "      <td>14</td>\n",
       "      <td>5</td>\n",
       "      <td>1407.0</td>\n",
       "      <td>2.0</td>\n",
       "      <td>0.0</td>\n",
       "      <td>1</td>\n",
       "      <td>0</td>\n",
       "      <td>1</td>\n",
       "      <td>3_Zone</td>\n",
       "      <td>2_Zone</td>\n",
       "      <td>NaN</td>\n",
       "      <td>2_Zone</td>\n",
       "      <td>8 - 9</td>\n",
       "    </tr>\n",
       "    <tr>\n",
       "      <th>15</th>\n",
       "      <td>10</td>\n",
       "      <td>9</td>\n",
       "      <td>47.0</td>\n",
       "      <td>19.0</td>\n",
       "      <td>0.0</td>\n",
       "      <td>1</td>\n",
       "      <td>0</td>\n",
       "      <td>1</td>\n",
       "      <td>3_Zone</td>\n",
       "      <td>2_Zone</td>\n",
       "      <td>NaN</td>\n",
       "      <td>2_Zone</td>\n",
       "      <td>3 - 5</td>\n",
       "    </tr>\n",
       "    <tr>\n",
       "      <th>...</th>\n",
       "      <td>...</td>\n",
       "      <td>...</td>\n",
       "      <td>...</td>\n",
       "      <td>...</td>\n",
       "      <td>...</td>\n",
       "      <td>...</td>\n",
       "      <td>...</td>\n",
       "      <td>...</td>\n",
       "      <td>...</td>\n",
       "      <td>...</td>\n",
       "      <td>...</td>\n",
       "      <td>...</td>\n",
       "      <td>...</td>\n",
       "    </tr>\n",
       "    <tr>\n",
       "      <th>2144147</th>\n",
       "      <td>11</td>\n",
       "      <td>6</td>\n",
       "      <td>9.0</td>\n",
       "      <td>NaN</td>\n",
       "      <td>326.0</td>\n",
       "      <td>0</td>\n",
       "      <td>1</td>\n",
       "      <td>0</td>\n",
       "      <td>3_Zone</td>\n",
       "      <td>3_Zone</td>\n",
       "      <td>3_Zone</td>\n",
       "      <td>3_Zone</td>\n",
       "      <td>10 - 12</td>\n",
       "    </tr>\n",
       "    <tr>\n",
       "      <th>2144148</th>\n",
       "      <td>9</td>\n",
       "      <td>8</td>\n",
       "      <td>5.0</td>\n",
       "      <td>NaN</td>\n",
       "      <td>78.0</td>\n",
       "      <td>0</td>\n",
       "      <td>1</td>\n",
       "      <td>1</td>\n",
       "      <td>3_Zone</td>\n",
       "      <td>3_Zone</td>\n",
       "      <td>3_Zone</td>\n",
       "      <td>3_Zone</td>\n",
       "      <td>10 - 12</td>\n",
       "    </tr>\n",
       "    <tr>\n",
       "      <th>2144149</th>\n",
       "      <td>13</td>\n",
       "      <td>9</td>\n",
       "      <td>NaN</td>\n",
       "      <td>0.0</td>\n",
       "      <td>5.0</td>\n",
       "      <td>0</td>\n",
       "      <td>1</td>\n",
       "      <td>1</td>\n",
       "      <td>3_Zone</td>\n",
       "      <td>miniZone3</td>\n",
       "      <td>3_Zone</td>\n",
       "      <td>NaN</td>\n",
       "      <td>10 - 12</td>\n",
       "    </tr>\n",
       "    <tr>\n",
       "      <th>2144150</th>\n",
       "      <td>13</td>\n",
       "      <td>11</td>\n",
       "      <td>NaN</td>\n",
       "      <td>0.0</td>\n",
       "      <td>9.0</td>\n",
       "      <td>0</td>\n",
       "      <td>1</td>\n",
       "      <td>0</td>\n",
       "      <td>3_Zone</td>\n",
       "      <td>miniZone3</td>\n",
       "      <td>3_Zone</td>\n",
       "      <td>NaN</td>\n",
       "      <td>10 - 12</td>\n",
       "    </tr>\n",
       "    <tr>\n",
       "      <th>2144151</th>\n",
       "      <td>15</td>\n",
       "      <td>13</td>\n",
       "      <td>NaN</td>\n",
       "      <td>0.0</td>\n",
       "      <td>1184.0</td>\n",
       "      <td>0</td>\n",
       "      <td>1</td>\n",
       "      <td>1</td>\n",
       "      <td>3_Zone</td>\n",
       "      <td>2_Zone</td>\n",
       "      <td>2_Zone</td>\n",
       "      <td>NaN</td>\n",
       "      <td>10 - 12</td>\n",
       "    </tr>\n",
       "  </tbody>\n",
       "</table>\n",
       "<p>621 rows × 13 columns</p>\n",
       "</div>"
      ],
      "text/plain": [
       "         signalstrength  signalstzone2  duration  next_duration  \\\n",
       "0                     6              5       5.0         1060.0   \n",
       "2                     4              3       3.0          297.0   \n",
       "8                     8              7       7.0         2624.0   \n",
       "14                   14              5    1407.0            2.0   \n",
       "15                   10              9      47.0           19.0   \n",
       "...                 ...            ...       ...            ...   \n",
       "2144147              11              6       9.0            NaN   \n",
       "2144148               9              8       5.0            NaN   \n",
       "2144149              13              9       NaN            0.0   \n",
       "2144150              13             11       NaN            0.0   \n",
       "2144151              15             13       NaN            0.0   \n",
       "\n",
       "         previous_duration  next2zone==Zone  previous2zone==Zone  \\\n",
       "0                      0.0                0                    0   \n",
       "2                      0.0                1                    0   \n",
       "8                      0.0                1                    0   \n",
       "14                     0.0                1                    0   \n",
       "15                     0.0                1                    0   \n",
       "...                    ...              ...                  ...   \n",
       "2144147              326.0                0                    1   \n",
       "2144148               78.0                0                    1   \n",
       "2144149                5.0                0                    1   \n",
       "2144150                9.0                0                    1   \n",
       "2144151             1184.0                0                    1   \n",
       "\n",
       "         zone3_match_exist Trackingsystem_Zone zone2_match previous1_zone  \\\n",
       "0                        1              4_Zone      3_Zone            NaN   \n",
       "2                        0              4_Zone      5_Zone            NaN   \n",
       "8                        1              5_Zone      2_Zone            NaN   \n",
       "14                       1              3_Zone      2_Zone            NaN   \n",
       "15                       1              3_Zone      2_Zone            NaN   \n",
       "...                    ...                 ...         ...            ...   \n",
       "2144147                  0              3_Zone      3_Zone         3_Zone   \n",
       "2144148                  1              3_Zone      3_Zone         3_Zone   \n",
       "2144149                  1              3_Zone   miniZone3         3_Zone   \n",
       "2144150                  0              3_Zone   miniZone3         3_Zone   \n",
       "2144151                  1              3_Zone      2_Zone         2_Zone   \n",
       "\n",
       "        next1_zone   system  \n",
       "0           5_Zone    3 - 5  \n",
       "2           3_Zone    3 - 5  \n",
       "8           3_Zone    8 - 9  \n",
       "14          2_Zone    8 - 9  \n",
       "15          2_Zone    3 - 5  \n",
       "...            ...      ...  \n",
       "2144147     3_Zone  10 - 12  \n",
       "2144148     3_Zone  10 - 12  \n",
       "2144149        NaN  10 - 12  \n",
       "2144150        NaN  10 - 12  \n",
       "2144151        NaN  10 - 12  \n",
       "\n",
       "[621 rows x 13 columns]"
      ]
     },
     "metadata": {},
     "output_type": "display_data"
    },
    {
     "data": {
      "text/html": [
       "<div>\n",
       "<style scoped>\n",
       "    .dataframe tbody tr th:only-of-type {\n",
       "        vertical-align: middle;\n",
       "    }\n",
       "\n",
       "    .dataframe tbody tr th {\n",
       "        vertical-align: top;\n",
       "    }\n",
       "\n",
       "    .dataframe thead th {\n",
       "        text-align: right;\n",
       "    }\n",
       "</style>\n",
       "<table border=\"1\" class=\"dataframe\">\n",
       "  <thead>\n",
       "    <tr style=\"text-align: right;\">\n",
       "      <th></th>\n",
       "      <th>Trackingsystem_Zone</th>\n",
       "      <th>zone2_match</th>\n",
       "      <th>previous1_zone</th>\n",
       "      <th>next1_zone</th>\n",
       "      <th>system</th>\n",
       "    </tr>\n",
       "  </thead>\n",
       "  <tbody>\n",
       "    <tr>\n",
       "      <th>0</th>\n",
       "      <td>4_Zone</td>\n",
       "      <td>3_Zone</td>\n",
       "      <td>NaN</td>\n",
       "      <td>5_Zone</td>\n",
       "      <td>3 - 5</td>\n",
       "    </tr>\n",
       "    <tr>\n",
       "      <th>1</th>\n",
       "      <td>5_Zone</td>\n",
       "      <td>4_Zone</td>\n",
       "      <td>4_Zone</td>\n",
       "      <td>3_Zone</td>\n",
       "      <td>3 - 5</td>\n",
       "    </tr>\n",
       "    <tr>\n",
       "      <th>2</th>\n",
       "      <td>4_Zone</td>\n",
       "      <td>5_Zone</td>\n",
       "      <td>NaN</td>\n",
       "      <td>3_Zone</td>\n",
       "      <td>3 - 5</td>\n",
       "    </tr>\n",
       "  </tbody>\n",
       "</table>\n",
       "</div>"
      ],
      "text/plain": [
       "  Trackingsystem_Zone zone2_match previous1_zone next1_zone system\n",
       "0              4_Zone      3_Zone            NaN     5_Zone  3 - 5\n",
       "1              5_Zone      4_Zone         4_Zone     3_Zone  3 - 5\n",
       "2              4_Zone      5_Zone            NaN     3_Zone  3 - 5"
      ]
     },
     "metadata": {},
     "output_type": "display_data"
    },
    {
     "data": {
      "text/html": [
       "<div>\n",
       "<style scoped>\n",
       "    .dataframe tbody tr th:only-of-type {\n",
       "        vertical-align: middle;\n",
       "    }\n",
       "\n",
       "    .dataframe tbody tr th {\n",
       "        vertical-align: top;\n",
       "    }\n",
       "\n",
       "    .dataframe thead th {\n",
       "        text-align: right;\n",
       "    }\n",
       "</style>\n",
       "<table border=\"1\" class=\"dataframe\">\n",
       "  <thead>\n",
       "    <tr style=\"text-align: right;\">\n",
       "      <th></th>\n",
       "      <th>Trackingsystem_Zone</th>\n",
       "      <th>zone2_match</th>\n",
       "      <th>previous1_zone</th>\n",
       "      <th>next1_zone</th>\n",
       "      <th>system</th>\n",
       "    </tr>\n",
       "  </thead>\n",
       "  <tbody>\n",
       "    <tr>\n",
       "      <th>0</th>\n",
       "      <td>4_Zone</td>\n",
       "      <td>3_Zone</td>\n",
       "      <td>3_Zone</td>\n",
       "      <td>5_Zone</td>\n",
       "      <td>3 - 5</td>\n",
       "    </tr>\n",
       "    <tr>\n",
       "      <th>1</th>\n",
       "      <td>5_Zone</td>\n",
       "      <td>4_Zone</td>\n",
       "      <td>4_Zone</td>\n",
       "      <td>3_Zone</td>\n",
       "      <td>3 - 5</td>\n",
       "    </tr>\n",
       "    <tr>\n",
       "      <th>2</th>\n",
       "      <td>4_Zone</td>\n",
       "      <td>5_Zone</td>\n",
       "      <td>3_Zone</td>\n",
       "      <td>3_Zone</td>\n",
       "      <td>3 - 5</td>\n",
       "    </tr>\n",
       "  </tbody>\n",
       "</table>\n",
       "</div>"
      ],
      "text/plain": [
       "  Trackingsystem_Zone zone2_match previous1_zone next1_zone system\n",
       "0              4_Zone      3_Zone         3_Zone     5_Zone  3 - 5\n",
       "1              5_Zone      4_Zone         4_Zone     3_Zone  3 - 5\n",
       "2              4_Zone      5_Zone         3_Zone     3_Zone  3 - 5"
      ]
     },
     "execution_count": 10,
     "metadata": {},
     "output_type": "execute_result"
    }
   ],
   "source": [
    "#show rows with at least one nan\n",
    "#df_X = df.filter(li_cont_select+li_cat_select, axis=1)\n",
    "#print(df_X.shape)\n",
    "#display(df_X[df_X.isna().any(axis=1)])\n",
    "#-->seems to be mainly previous and next zone for initial records \n",
    "#fillnan\n",
    "#display BEFORE categoricalfeatures\n",
    "display(df_X[li_cat_select].head(3))\n",
    "df_X[li_cont_select] = df_X[li_cont_select].fillna(df_X[li_cont_select].mean().iloc[0])\n",
    "df_X[li_cat_select] = df_X[li_cat_select].fillna(df_X[li_cat_select].mode().iloc[0])\n",
    "#display AFTER categoricalfeatures\n",
    "df_X[li_cat_select].head(3)"
   ]
  },
  {
   "cell_type": "markdown",
   "metadata": {},
   "source": [
    "### scaling"
   ]
  },
  {
   "cell_type": "code",
   "execution_count": 11,
   "metadata": {},
   "outputs": [
    {
     "name": "stderr",
     "output_type": "stream",
     "text": [
      "C:\\Users\\camil\\anaconda3\\lib\\site-packages\\ipykernel\\ipkernel.py:283: DeprecationWarning: `should_run_async` will not call `transform_cell` automatically in the future. Please pass the result to `transformed_cell` argument and any exception that happen during thetransform in `preprocessing_exc_tuple` in IPython 7.17 and above.\n",
      "  and should_run_async(code)\n"
     ]
    },
    {
     "data": {
      "text/html": [
       "<div>\n",
       "<style scoped>\n",
       "    .dataframe tbody tr th:only-of-type {\n",
       "        vertical-align: middle;\n",
       "    }\n",
       "\n",
       "    .dataframe tbody tr th {\n",
       "        vertical-align: top;\n",
       "    }\n",
       "\n",
       "    .dataframe thead th {\n",
       "        text-align: right;\n",
       "    }\n",
       "</style>\n",
       "<table border=\"1\" class=\"dataframe\">\n",
       "  <thead>\n",
       "    <tr style=\"text-align: right;\">\n",
       "      <th></th>\n",
       "      <th>signalstrength</th>\n",
       "      <th>signalstzone2</th>\n",
       "      <th>duration</th>\n",
       "      <th>next_duration</th>\n",
       "      <th>previous_duration</th>\n",
       "      <th>next2zone==Zone</th>\n",
       "      <th>previous2zone==Zone</th>\n",
       "      <th>zone3_match_exist</th>\n",
       "    </tr>\n",
       "  </thead>\n",
       "  <tbody>\n",
       "    <tr>\n",
       "      <th>0</th>\n",
       "      <td>6</td>\n",
       "      <td>5</td>\n",
       "      <td>5.0</td>\n",
       "      <td>1060.0</td>\n",
       "      <td>0.0</td>\n",
       "      <td>0</td>\n",
       "      <td>0</td>\n",
       "      <td>1</td>\n",
       "    </tr>\n",
       "    <tr>\n",
       "      <th>1</th>\n",
       "      <td>9</td>\n",
       "      <td>6</td>\n",
       "      <td>1060.0</td>\n",
       "      <td>7.0</td>\n",
       "      <td>5.0</td>\n",
       "      <td>1</td>\n",
       "      <td>0</td>\n",
       "      <td>0</td>\n",
       "    </tr>\n",
       "    <tr>\n",
       "      <th>2</th>\n",
       "      <td>4</td>\n",
       "      <td>3</td>\n",
       "      <td>3.0</td>\n",
       "      <td>297.0</td>\n",
       "      <td>0.0</td>\n",
       "      <td>1</td>\n",
       "      <td>0</td>\n",
       "      <td>0</td>\n",
       "    </tr>\n",
       "  </tbody>\n",
       "</table>\n",
       "</div>"
      ],
      "text/plain": [
       "   signalstrength  signalstzone2  duration  next_duration  previous_duration  \\\n",
       "0               6              5       5.0         1060.0                0.0   \n",
       "1               9              6    1060.0            7.0                5.0   \n",
       "2               4              3       3.0          297.0                0.0   \n",
       "\n",
       "   next2zone==Zone  previous2zone==Zone  zone3_match_exist  \n",
       "0                0                    0                  1  \n",
       "1                1                    0                  0  \n",
       "2                1                    0                  0  "
      ]
     },
     "metadata": {},
     "output_type": "display_data"
    },
    {
     "data": {
      "text/html": [
       "<div>\n",
       "<style scoped>\n",
       "    .dataframe tbody tr th:only-of-type {\n",
       "        vertical-align: middle;\n",
       "    }\n",
       "\n",
       "    .dataframe tbody tr th {\n",
       "        vertical-align: top;\n",
       "    }\n",
       "\n",
       "    .dataframe thead th {\n",
       "        text-align: right;\n",
       "    }\n",
       "</style>\n",
       "<table border=\"1\" class=\"dataframe\">\n",
       "  <thead>\n",
       "    <tr style=\"text-align: right;\">\n",
       "      <th></th>\n",
       "      <th>signalstrength</th>\n",
       "      <th>signalstzone2</th>\n",
       "      <th>duration</th>\n",
       "      <th>next_duration</th>\n",
       "      <th>previous_duration</th>\n",
       "      <th>next2zone==Zone</th>\n",
       "      <th>previous2zone==Zone</th>\n",
       "      <th>zone3_match_exist</th>\n",
       "    </tr>\n",
       "  </thead>\n",
       "  <tbody>\n",
       "    <tr>\n",
       "      <th>0</th>\n",
       "      <td>-1.344953</td>\n",
       "      <td>-0.737476</td>\n",
       "      <td>-0.123721</td>\n",
       "      <td>0.123503</td>\n",
       "      <td>-0.124897</td>\n",
       "      <td>0</td>\n",
       "      <td>0</td>\n",
       "      <td>1</td>\n",
       "    </tr>\n",
       "    <tr>\n",
       "      <th>1</th>\n",
       "      <td>-0.595354</td>\n",
       "      <td>-0.465135</td>\n",
       "      <td>0.123292</td>\n",
       "      <td>-0.123163</td>\n",
       "      <td>-0.123727</td>\n",
       "      <td>1</td>\n",
       "      <td>0</td>\n",
       "      <td>0</td>\n",
       "    </tr>\n",
       "    <tr>\n",
       "      <th>2</th>\n",
       "      <td>-1.844685</td>\n",
       "      <td>-1.282158</td>\n",
       "      <td>-0.124189</td>\n",
       "      <td>-0.055230</td>\n",
       "      <td>-0.124897</td>\n",
       "      <td>1</td>\n",
       "      <td>0</td>\n",
       "      <td>0</td>\n",
       "    </tr>\n",
       "  </tbody>\n",
       "</table>\n",
       "</div>"
      ],
      "text/plain": [
       "   signalstrength  signalstzone2  duration  next_duration  previous_duration  \\\n",
       "0       -1.344953      -0.737476 -0.123721       0.123503          -0.124897   \n",
       "1       -0.595354      -0.465135  0.123292      -0.123163          -0.123727   \n",
       "2       -1.844685      -1.282158 -0.124189      -0.055230          -0.124897   \n",
       "\n",
       "   next2zone==Zone  previous2zone==Zone  zone3_match_exist  \n",
       "0                0                    0                  1  \n",
       "1                1                    0                  0  \n",
       "2                1                    0                  0  "
      ]
     },
     "metadata": {},
     "output_type": "display_data"
    }
   ],
   "source": [
    "#scaling numerical data: necessary due to duration high values\n",
    "display(df_X[li_cont_select].head(3))\n",
    "sc = StandardScaler()\n",
    "li_scale = [x for x in li_cont_select if x not in li_bin]\n",
    "df_X[li_scale] = sc.fit_transform(df_X[li_scale])\n",
    "display(df_X[li_cont_select].head(3))"
   ]
  },
  {
   "cell_type": "code",
   "execution_count": 22,
   "metadata": {},
   "outputs": [
    {
     "name": "stderr",
     "output_type": "stream",
     "text": [
      "C:\\Users\\camil\\anaconda3\\lib\\site-packages\\ipykernel\\ipkernel.py:283: DeprecationWarning: `should_run_async` will not call `transform_cell` automatically in the future. Please pass the result to `transformed_cell` argument and any exception that happen during thetransform in `preprocessing_exc_tuple` in IPython 7.17 and above.\n",
      "  and should_run_async(code)\n"
     ]
    },
    {
     "data": {
      "text/html": [
       "<div>\n",
       "<style scoped>\n",
       "    .dataframe tbody tr th:only-of-type {\n",
       "        vertical-align: middle;\n",
       "    }\n",
       "\n",
       "    .dataframe tbody tr th {\n",
       "        vertical-align: top;\n",
       "    }\n",
       "\n",
       "    .dataframe thead th {\n",
       "        text-align: right;\n",
       "    }\n",
       "</style>\n",
       "<table border=\"1\" class=\"dataframe\">\n",
       "  <thead>\n",
       "    <tr style=\"text-align: right;\">\n",
       "      <th></th>\n",
       "      <th>Trackingsystem_Zone</th>\n",
       "      <th>zone2_match</th>\n",
       "      <th>previous1_zone</th>\n",
       "      <th>next1_zone</th>\n",
       "      <th>system</th>\n",
       "    </tr>\n",
       "  </thead>\n",
       "  <tbody>\n",
       "    <tr>\n",
       "      <th>0</th>\n",
       "      <td>4_Zone</td>\n",
       "      <td>3_Zone</td>\n",
       "      <td>3_Zone</td>\n",
       "      <td>5_Zone</td>\n",
       "      <td>3 - 5</td>\n",
       "    </tr>\n",
       "    <tr>\n",
       "      <th>1</th>\n",
       "      <td>5_Zone</td>\n",
       "      <td>4_Zone</td>\n",
       "      <td>4_Zone</td>\n",
       "      <td>3_Zone</td>\n",
       "      <td>3 - 5</td>\n",
       "    </tr>\n",
       "    <tr>\n",
       "      <th>2</th>\n",
       "      <td>4_Zone</td>\n",
       "      <td>5_Zone</td>\n",
       "      <td>3_Zone</td>\n",
       "      <td>3_Zone</td>\n",
       "      <td>3 - 5</td>\n",
       "    </tr>\n",
       "  </tbody>\n",
       "</table>\n",
       "</div>"
      ],
      "text/plain": [
       "  Trackingsystem_Zone zone2_match previous1_zone next1_zone system\n",
       "0              4_Zone      3_Zone         3_Zone     5_Zone  3 - 5\n",
       "1              5_Zone      4_Zone         4_Zone     3_Zone  3 - 5\n",
       "2              4_Zone      5_Zone         3_Zone     3_Zone  3 - 5"
      ]
     },
     "execution_count": 22,
     "metadata": {},
     "output_type": "execute_result"
    }
   ],
   "source": [
    "df_X[li_cat_select].head(3)"
   ]
  },
  {
   "cell_type": "markdown",
   "metadata": {},
   "source": [
    "# Cleaning"
   ]
  },
  {
   "cell_type": "code",
   "execution_count": 12,
   "metadata": {},
   "outputs": [
    {
     "name": "stderr",
     "output_type": "stream",
     "text": [
      "C:\\Users\\camil\\anaconda3\\lib\\site-packages\\ipykernel\\ipkernel.py:283: DeprecationWarning: `should_run_async` will not call `transform_cell` automatically in the future. Please pass the result to `transformed_cell` argument and any exception that happen during thetransform in `preprocessing_exc_tuple` in IPython 7.17 and above.\n",
      "  and should_run_async(code)\n"
     ]
    },
    {
     "name": "stdout",
     "output_type": "stream",
     "text": [
      "Total running time for prediction: 0.06 mn\n"
     ]
    }
   ],
   "source": [
    "####################### predict\n",
    "START_TIME = time.perf_counter()\n",
    "#predict, and if its wintergarten (i.e. 1_Zone) put =1\n",
    "df_X['model_prediction'] = df_X.apply(lambda x: model.predict(pd.DataFrame(x[li_cont_select+\\\n",
    "                                                                                    li_cat_select]).transpose())[0] if\\\n",
    "                                                       x['Trackingsystem_Zone']!='1_Zone' else 1, axis=1)\n",
    "if df_X[(df_X['is_dur_smaller_60sec'])&(df_X['Trackingsystem_Zone']=='1_Zone')&(df_X['is_first_observation'])].shape[0]>0:\n",
    "    print('WARNING: you have a first observation of a batch taht is wintergarten, less than 60seconds, \\\n",
    "    so you need to add the rules as in the computation of 1seconds time serie for the threshodl method')\n",
    "    sys.exit()\n",
    "#predict false if <60seconds\n",
    "df_X.loc[(df_X['is_dur_smaller_60sec'])&(df_X['Trackingsystem_Zone']=='1_Zone'), 'model_prediction'] = 0\n",
    "\n",
    "\n",
    "\n",
    "\n",
    "predictions = model.predict(df_X)\n",
    "END_TIME = time.perf_counter()\n",
    "#prediction_proba = model.predict_proba(df_X)\n",
    "df['model_prediction'] = predictions\n",
    "#df['model_prediction_proba0'] = [round(x[0],2) for x in prediction_proba]\n",
    "#df['model_prediction_proba1'] = [round(x[1],2) for x in prediction_proba]\n",
    "print (\"Total running time for prediction: %.2f mn\" %((END_TIME-START_TIME)/60))"
   ]
  },
  {
   "cell_type": "code",
   "execution_count": 16,
   "metadata": {},
   "outputs": [
    {
     "name": "stderr",
     "output_type": "stream",
     "text": [
      "C:\\Users\\camil\\anaconda3\\lib\\site-packages\\ipykernel\\ipkernel.py:283: DeprecationWarning: `should_run_async` will not call `transform_cell` automatically in the future. Please pass the result to `transformed_cell` argument and any exception that happen during thetransform in `preprocessing_exc_tuple` in IPython 7.17 and above.\n",
      "  and should_run_async(code)\n"
     ]
    },
    {
     "data": {
      "text/html": [
       "<div>\n",
       "<style scoped>\n",
       "    .dataframe tbody tr th:only-of-type {\n",
       "        vertical-align: middle;\n",
       "    }\n",
       "\n",
       "    .dataframe tbody tr th {\n",
       "        vertical-align: top;\n",
       "    }\n",
       "\n",
       "    .dataframe thead th {\n",
       "        text-align: right;\n",
       "    }\n",
       "</style>\n",
       "<table border=\"1\" class=\"dataframe\">\n",
       "  <thead>\n",
       "    <tr style=\"text-align: right;\">\n",
       "      <th></th>\n",
       "      <th>Timestamp</th>\n",
       "      <th>HenID</th>\n",
       "      <th>Trackingsystem_Zone</th>\n",
       "      <th>PenID</th>\n",
       "      <th>TagID</th>\n",
       "      <th>signalstrength</th>\n",
       "      <th>system</th>\n",
       "      <th>date</th>\n",
       "      <th>signalstzone2</th>\n",
       "      <th>next1_record_date</th>\n",
       "      <th>...</th>\n",
       "      <th>previousZone==NextZone</th>\n",
       "      <th>zone2_match</th>\n",
       "      <th>zone3_match</th>\n",
       "      <th>zone4_match</th>\n",
       "      <th>zone3_match_exist</th>\n",
       "      <th>next2zone==Zone</th>\n",
       "      <th>previous2zone==Zone</th>\n",
       "      <th>time</th>\n",
       "      <th>nbr_nan</th>\n",
       "      <th>model_prediction</th>\n",
       "    </tr>\n",
       "  </thead>\n",
       "  <tbody>\n",
       "    <tr>\n",
       "      <th>0</th>\n",
       "      <td>2020-10-27 00:03:07</td>\n",
       "      <td>hen_100</td>\n",
       "      <td>4_Zone</td>\n",
       "      <td>pen5</td>\n",
       "      <td>tag_121</td>\n",
       "      <td>6</td>\n",
       "      <td>3 - 5</td>\n",
       "      <td>2020-10-27</td>\n",
       "      <td>5</td>\n",
       "      <td>2020-10-27 00:03:12</td>\n",
       "      <td>...</td>\n",
       "      <td>False</td>\n",
       "      <td>3_Zone</td>\n",
       "      <td>2_Zone</td>\n",
       "      <td>NoOtherZone</td>\n",
       "      <td>1</td>\n",
       "      <td>0</td>\n",
       "      <td>0</td>\n",
       "      <td>00:03:07</td>\n",
       "      <td>1</td>\n",
       "      <td>0</td>\n",
       "    </tr>\n",
       "    <tr>\n",
       "      <th>1</th>\n",
       "      <td>2020-10-27 00:03:12</td>\n",
       "      <td>hen_100</td>\n",
       "      <td>5_Zone</td>\n",
       "      <td>pen5</td>\n",
       "      <td>tag_121</td>\n",
       "      <td>9</td>\n",
       "      <td>3 - 5</td>\n",
       "      <td>2020-10-27</td>\n",
       "      <td>6</td>\n",
       "      <td>2020-10-27 00:20:52</td>\n",
       "      <td>...</td>\n",
       "      <td>False</td>\n",
       "      <td>4_Zone</td>\n",
       "      <td>NoOtherZone</td>\n",
       "      <td>NoOtherZone</td>\n",
       "      <td>0</td>\n",
       "      <td>1</td>\n",
       "      <td>0</td>\n",
       "      <td>00:03:12</td>\n",
       "      <td>0</td>\n",
       "      <td>1</td>\n",
       "    </tr>\n",
       "    <tr>\n",
       "      <th>2</th>\n",
       "      <td>2020-10-27 00:15:39</td>\n",
       "      <td>hen_73</td>\n",
       "      <td>4_Zone</td>\n",
       "      <td>pen4</td>\n",
       "      <td>tag_41</td>\n",
       "      <td>4</td>\n",
       "      <td>3 - 5</td>\n",
       "      <td>2020-10-27</td>\n",
       "      <td>3</td>\n",
       "      <td>2020-10-27 00:15:42</td>\n",
       "      <td>...</td>\n",
       "      <td>False</td>\n",
       "      <td>5_Zone</td>\n",
       "      <td>NoOtherZone</td>\n",
       "      <td>NoOtherZone</td>\n",
       "      <td>0</td>\n",
       "      <td>1</td>\n",
       "      <td>0</td>\n",
       "      <td>00:15:39</td>\n",
       "      <td>1</td>\n",
       "      <td>0</td>\n",
       "    </tr>\n",
       "  </tbody>\n",
       "</table>\n",
       "<p>3 rows × 42 columns</p>\n",
       "</div>"
      ],
      "text/plain": [
       "            Timestamp    HenID Trackingsystem_Zone PenID    TagID  \\\n",
       "0 2020-10-27 00:03:07  hen_100              4_Zone  pen5  tag_121   \n",
       "1 2020-10-27 00:03:12  hen_100              5_Zone  pen5  tag_121   \n",
       "2 2020-10-27 00:15:39   hen_73              4_Zone  pen4   tag_41   \n",
       "\n",
       "   signalstrength system       date  signalstzone2    next1_record_date  ...  \\\n",
       "0               6  3 - 5 2020-10-27              5  2020-10-27 00:03:12  ...   \n",
       "1               9  3 - 5 2020-10-27              6  2020-10-27 00:20:52  ...   \n",
       "2               4  3 - 5 2020-10-27              3  2020-10-27 00:15:42  ...   \n",
       "\n",
       "  previousZone==NextZone zone2_match  zone3_match  zone4_match  \\\n",
       "0                  False      3_Zone       2_Zone  NoOtherZone   \n",
       "1                  False      4_Zone  NoOtherZone  NoOtherZone   \n",
       "2                  False      5_Zone  NoOtherZone  NoOtherZone   \n",
       "\n",
       "   zone3_match_exist  next2zone==Zone  previous2zone==Zone      time nbr_nan  \\\n",
       "0                  1                0                    0  00:03:07       1   \n",
       "1                  0                1                    0  00:03:12       0   \n",
       "2                  0                1                    0  00:15:39       1   \n",
       "\n",
       "  model_prediction  \n",
       "0                0  \n",
       "1                1  \n",
       "2                0  \n",
       "\n",
       "[3 rows x 42 columns]"
      ]
     },
     "execution_count": 16,
     "metadata": {},
     "output_type": "execute_result"
    }
   ],
   "source": [
    "df.head(3)"
   ]
  },
  {
   "cell_type": "code",
   "execution_count": 20,
   "metadata": {},
   "outputs": [
    {
     "name": "stderr",
     "output_type": "stream",
     "text": [
      "C:\\Users\\camil\\anaconda3\\lib\\site-packages\\ipykernel\\ipkernel.py:283: DeprecationWarning: `should_run_async` will not call `transform_cell` automatically in the future. Please pass the result to `transformed_cell` argument and any exception that happen during thetransform in `preprocessing_exc_tuple` in IPython 7.17 and above.\n",
      "  and should_run_async(code)\n"
     ]
    },
    {
     "ename": "KeyboardInterrupt",
     "evalue": "",
     "output_type": "error",
     "traceback": [
      "\u001b[1;31m---------------------------------------------------------------------------\u001b[0m",
      "\u001b[1;31mKeyboardInterrupt\u001b[0m                         Traceback (most recent call last)",
      "\u001b[1;32m<ipython-input-20-0fadf71d9584>\u001b[0m in \u001b[0;36m<module>\u001b[1;34m\u001b[0m\n\u001b[0;32m      5\u001b[0m \u001b[1;31m#extract the previously correct-predicted-zone (i.e. which might differ from the previous zone)\u001b[0m\u001b[1;33m\u001b[0m\u001b[1;33m\u001b[0m\u001b[1;33m\u001b[0m\u001b[0m\n\u001b[0;32m      6\u001b[0m \u001b[0mdf\u001b[0m \u001b[1;33m=\u001b[0m \u001b[0mdf\u001b[0m\u001b[1;33m.\u001b[0m\u001b[0msort_values\u001b[0m\u001b[1;33m(\u001b[0m\u001b[1;33m[\u001b[0m\u001b[1;34m'Timestamp'\u001b[0m\u001b[1;33m]\u001b[0m\u001b[1;33m,\u001b[0m \u001b[0mascending\u001b[0m\u001b[1;33m=\u001b[0m\u001b[1;32mTrue\u001b[0m\u001b[1;33m)\u001b[0m\u001b[1;33m\u001b[0m\u001b[1;33m\u001b[0m\u001b[0m\n\u001b[1;32m----> 7\u001b[1;33m \u001b[0mdf\u001b[0m\u001b[1;33m[\u001b[0m\u001b[1;34m'previous1_correctzone'\u001b[0m\u001b[1;33m]\u001b[0m \u001b[1;33m=\u001b[0m \u001b[0mdf\u001b[0m\u001b[1;33m.\u001b[0m\u001b[0mapply\u001b[0m\u001b[1;33m(\u001b[0m\u001b[1;32mlambda\u001b[0m \u001b[0mx\u001b[0m\u001b[1;33m:\u001b[0m \u001b[0mdf\u001b[0m\u001b[1;33m[\u001b[0m\u001b[1;33m(\u001b[0m\u001b[0mdf\u001b[0m\u001b[1;33m[\u001b[0m\u001b[1;34m'HenID'\u001b[0m\u001b[1;33m]\u001b[0m\u001b[1;33m==\u001b[0m\u001b[0mx\u001b[0m\u001b[1;33m[\u001b[0m\u001b[1;34m'HenID'\u001b[0m\u001b[1;33m]\u001b[0m\u001b[1;33m)\u001b[0m\u001b[1;33m&\u001b[0m\u001b[1;33m(\u001b[0m\u001b[0mdf\u001b[0m\u001b[1;33m[\u001b[0m\u001b[1;34m'Timestamp'\u001b[0m\u001b[1;33m]\u001b[0m\u001b[1;33m<\u001b[0m\u001b[0mx\u001b[0m\u001b[1;33m[\u001b[0m\u001b[1;34m'Timestamp'\u001b[0m\u001b[1;33m]\u001b[0m\u001b[1;33m)\u001b[0m\u001b[1;33m]\u001b[0m\u001b[1;33m[\u001b[0m\u001b[1;34m'Trackingsystem_Zone'\u001b[0m\u001b[1;33m]\u001b[0m\u001b[1;33m,\u001b[0m \u001b[0maxis\u001b[0m\u001b[1;33m=\u001b[0m\u001b[1;36m1\u001b[0m\u001b[1;33m)\u001b[0m\u001b[1;33m\u001b[0m\u001b[1;33m\u001b[0m\u001b[0m\n\u001b[0m\u001b[0;32m      8\u001b[0m \u001b[1;31m#total time\u001b[0m\u001b[1;33m\u001b[0m\u001b[1;33m\u001b[0m\u001b[1;33m\u001b[0m\u001b[0m\n\u001b[0;32m      9\u001b[0m \u001b[0mEND_TIME\u001b[0m \u001b[1;33m=\u001b[0m \u001b[0mtime\u001b[0m\u001b[1;33m.\u001b[0m\u001b[0mperf_counter\u001b[0m\u001b[1;33m(\u001b[0m\u001b[1;33m)\u001b[0m\u001b[1;33m\u001b[0m\u001b[1;33m\u001b[0m\u001b[0m\n",
      "\u001b[1;32m~\\anaconda3\\lib\\site-packages\\pandas\\core\\frame.py\u001b[0m in \u001b[0;36mapply\u001b[1;34m(self, func, axis, raw, result_type, args, **kwds)\u001b[0m\n\u001b[0;32m   7545\u001b[0m             \u001b[0mkwds\u001b[0m\u001b[1;33m=\u001b[0m\u001b[0mkwds\u001b[0m\u001b[1;33m,\u001b[0m\u001b[1;33m\u001b[0m\u001b[1;33m\u001b[0m\u001b[0m\n\u001b[0;32m   7546\u001b[0m         )\n\u001b[1;32m-> 7547\u001b[1;33m         \u001b[1;32mreturn\u001b[0m \u001b[0mop\u001b[0m\u001b[1;33m.\u001b[0m\u001b[0mget_result\u001b[0m\u001b[1;33m(\u001b[0m\u001b[1;33m)\u001b[0m\u001b[1;33m\u001b[0m\u001b[1;33m\u001b[0m\u001b[0m\n\u001b[0m\u001b[0;32m   7548\u001b[0m \u001b[1;33m\u001b[0m\u001b[0m\n\u001b[0;32m   7549\u001b[0m     \u001b[1;32mdef\u001b[0m \u001b[0mapplymap\u001b[0m\u001b[1;33m(\u001b[0m\u001b[0mself\u001b[0m\u001b[1;33m,\u001b[0m \u001b[0mfunc\u001b[0m\u001b[1;33m)\u001b[0m \u001b[1;33m->\u001b[0m \u001b[1;34m\"DataFrame\"\u001b[0m\u001b[1;33m:\u001b[0m\u001b[1;33m\u001b[0m\u001b[1;33m\u001b[0m\u001b[0m\n",
      "\u001b[1;32m~\\anaconda3\\lib\\site-packages\\pandas\\core\\apply.py\u001b[0m in \u001b[0;36mget_result\u001b[1;34m(self)\u001b[0m\n\u001b[0;32m    178\u001b[0m             \u001b[1;32mreturn\u001b[0m \u001b[0mself\u001b[0m\u001b[1;33m.\u001b[0m\u001b[0mapply_raw\u001b[0m\u001b[1;33m(\u001b[0m\u001b[1;33m)\u001b[0m\u001b[1;33m\u001b[0m\u001b[1;33m\u001b[0m\u001b[0m\n\u001b[0;32m    179\u001b[0m \u001b[1;33m\u001b[0m\u001b[0m\n\u001b[1;32m--> 180\u001b[1;33m         \u001b[1;32mreturn\u001b[0m \u001b[0mself\u001b[0m\u001b[1;33m.\u001b[0m\u001b[0mapply_standard\u001b[0m\u001b[1;33m(\u001b[0m\u001b[1;33m)\u001b[0m\u001b[1;33m\u001b[0m\u001b[1;33m\u001b[0m\u001b[0m\n\u001b[0m\u001b[0;32m    181\u001b[0m \u001b[1;33m\u001b[0m\u001b[0m\n\u001b[0;32m    182\u001b[0m     \u001b[1;32mdef\u001b[0m \u001b[0mapply_empty_result\u001b[0m\u001b[1;33m(\u001b[0m\u001b[0mself\u001b[0m\u001b[1;33m)\u001b[0m\u001b[1;33m:\u001b[0m\u001b[1;33m\u001b[0m\u001b[1;33m\u001b[0m\u001b[0m\n",
      "\u001b[1;32m~\\anaconda3\\lib\\site-packages\\pandas\\core\\apply.py\u001b[0m in \u001b[0;36mapply_standard\u001b[1;34m(self)\u001b[0m\n\u001b[0;32m    253\u001b[0m \u001b[1;33m\u001b[0m\u001b[0m\n\u001b[0;32m    254\u001b[0m     \u001b[1;32mdef\u001b[0m \u001b[0mapply_standard\u001b[0m\u001b[1;33m(\u001b[0m\u001b[0mself\u001b[0m\u001b[1;33m)\u001b[0m\u001b[1;33m:\u001b[0m\u001b[1;33m\u001b[0m\u001b[1;33m\u001b[0m\u001b[0m\n\u001b[1;32m--> 255\u001b[1;33m         \u001b[0mresults\u001b[0m\u001b[1;33m,\u001b[0m \u001b[0mres_index\u001b[0m \u001b[1;33m=\u001b[0m \u001b[0mself\u001b[0m\u001b[1;33m.\u001b[0m\u001b[0mapply_series_generator\u001b[0m\u001b[1;33m(\u001b[0m\u001b[1;33m)\u001b[0m\u001b[1;33m\u001b[0m\u001b[1;33m\u001b[0m\u001b[0m\n\u001b[0m\u001b[0;32m    256\u001b[0m \u001b[1;33m\u001b[0m\u001b[0m\n\u001b[0;32m    257\u001b[0m         \u001b[1;31m# wrap results\u001b[0m\u001b[1;33m\u001b[0m\u001b[1;33m\u001b[0m\u001b[1;33m\u001b[0m\u001b[0m\n",
      "\u001b[1;32m~\\anaconda3\\lib\\site-packages\\pandas\\core\\apply.py\u001b[0m in \u001b[0;36mapply_series_generator\u001b[1;34m(self)\u001b[0m\n\u001b[0;32m    282\u001b[0m                 \u001b[1;32mfor\u001b[0m \u001b[0mi\u001b[0m\u001b[1;33m,\u001b[0m \u001b[0mv\u001b[0m \u001b[1;32min\u001b[0m \u001b[0menumerate\u001b[0m\u001b[1;33m(\u001b[0m\u001b[0mseries_gen\u001b[0m\u001b[1;33m)\u001b[0m\u001b[1;33m:\u001b[0m\u001b[1;33m\u001b[0m\u001b[1;33m\u001b[0m\u001b[0m\n\u001b[0;32m    283\u001b[0m                     \u001b[1;31m# ignore SettingWithCopy here in case the user mutates\u001b[0m\u001b[1;33m\u001b[0m\u001b[1;33m\u001b[0m\u001b[1;33m\u001b[0m\u001b[0m\n\u001b[1;32m--> 284\u001b[1;33m                     \u001b[0mresults\u001b[0m\u001b[1;33m[\u001b[0m\u001b[0mi\u001b[0m\u001b[1;33m]\u001b[0m \u001b[1;33m=\u001b[0m \u001b[0mself\u001b[0m\u001b[1;33m.\u001b[0m\u001b[0mf\u001b[0m\u001b[1;33m(\u001b[0m\u001b[0mv\u001b[0m\u001b[1;33m)\u001b[0m\u001b[1;33m\u001b[0m\u001b[1;33m\u001b[0m\u001b[0m\n\u001b[0m\u001b[0;32m    285\u001b[0m                     \u001b[1;32mif\u001b[0m \u001b[0misinstance\u001b[0m\u001b[1;33m(\u001b[0m\u001b[0mresults\u001b[0m\u001b[1;33m[\u001b[0m\u001b[0mi\u001b[0m\u001b[1;33m]\u001b[0m\u001b[1;33m,\u001b[0m \u001b[0mABCSeries\u001b[0m\u001b[1;33m)\u001b[0m\u001b[1;33m:\u001b[0m\u001b[1;33m\u001b[0m\u001b[1;33m\u001b[0m\u001b[0m\n\u001b[0;32m    286\u001b[0m                         \u001b[1;31m# If we have a view on v, we need to make a copy because\u001b[0m\u001b[1;33m\u001b[0m\u001b[1;33m\u001b[0m\u001b[1;33m\u001b[0m\u001b[0m\n",
      "\u001b[1;32m<ipython-input-20-0fadf71d9584>\u001b[0m in \u001b[0;36m<lambda>\u001b[1;34m(x)\u001b[0m\n\u001b[0;32m      5\u001b[0m \u001b[1;31m#extract the previously correct-predicted-zone (i.e. which might differ from the previous zone)\u001b[0m\u001b[1;33m\u001b[0m\u001b[1;33m\u001b[0m\u001b[1;33m\u001b[0m\u001b[0m\n\u001b[0;32m      6\u001b[0m \u001b[0mdf\u001b[0m \u001b[1;33m=\u001b[0m \u001b[0mdf\u001b[0m\u001b[1;33m.\u001b[0m\u001b[0msort_values\u001b[0m\u001b[1;33m(\u001b[0m\u001b[1;33m[\u001b[0m\u001b[1;34m'Timestamp'\u001b[0m\u001b[1;33m]\u001b[0m\u001b[1;33m,\u001b[0m \u001b[0mascending\u001b[0m\u001b[1;33m=\u001b[0m\u001b[1;32mTrue\u001b[0m\u001b[1;33m)\u001b[0m\u001b[1;33m\u001b[0m\u001b[1;33m\u001b[0m\u001b[0m\n\u001b[1;32m----> 7\u001b[1;33m \u001b[0mdf\u001b[0m\u001b[1;33m[\u001b[0m\u001b[1;34m'previous1_correctzone'\u001b[0m\u001b[1;33m]\u001b[0m \u001b[1;33m=\u001b[0m \u001b[0mdf\u001b[0m\u001b[1;33m.\u001b[0m\u001b[0mapply\u001b[0m\u001b[1;33m(\u001b[0m\u001b[1;32mlambda\u001b[0m \u001b[0mx\u001b[0m\u001b[1;33m:\u001b[0m \u001b[0mdf\u001b[0m\u001b[1;33m[\u001b[0m\u001b[1;33m(\u001b[0m\u001b[0mdf\u001b[0m\u001b[1;33m[\u001b[0m\u001b[1;34m'HenID'\u001b[0m\u001b[1;33m]\u001b[0m\u001b[1;33m==\u001b[0m\u001b[0mx\u001b[0m\u001b[1;33m[\u001b[0m\u001b[1;34m'HenID'\u001b[0m\u001b[1;33m]\u001b[0m\u001b[1;33m)\u001b[0m\u001b[1;33m&\u001b[0m\u001b[1;33m(\u001b[0m\u001b[0mdf\u001b[0m\u001b[1;33m[\u001b[0m\u001b[1;34m'Timestamp'\u001b[0m\u001b[1;33m]\u001b[0m\u001b[1;33m<\u001b[0m\u001b[0mx\u001b[0m\u001b[1;33m[\u001b[0m\u001b[1;34m'Timestamp'\u001b[0m\u001b[1;33m]\u001b[0m\u001b[1;33m)\u001b[0m\u001b[1;33m]\u001b[0m\u001b[1;33m[\u001b[0m\u001b[1;34m'Trackingsystem_Zone'\u001b[0m\u001b[1;33m]\u001b[0m\u001b[1;33m,\u001b[0m \u001b[0maxis\u001b[0m\u001b[1;33m=\u001b[0m\u001b[1;36m1\u001b[0m\u001b[1;33m)\u001b[0m\u001b[1;33m\u001b[0m\u001b[1;33m\u001b[0m\u001b[0m\n\u001b[0m\u001b[0;32m      8\u001b[0m \u001b[1;31m#total time\u001b[0m\u001b[1;33m\u001b[0m\u001b[1;33m\u001b[0m\u001b[1;33m\u001b[0m\u001b[0m\n\u001b[0;32m      9\u001b[0m \u001b[0mEND_TIME\u001b[0m \u001b[1;33m=\u001b[0m \u001b[0mtime\u001b[0m\u001b[1;33m.\u001b[0m\u001b[0mperf_counter\u001b[0m\u001b[1;33m(\u001b[0m\u001b[1;33m)\u001b[0m\u001b[1;33m\u001b[0m\u001b[1;33m\u001b[0m\u001b[0m\n",
      "\u001b[1;32m~\\anaconda3\\lib\\site-packages\\pandas\\core\\ops\\common.py\u001b[0m in \u001b[0;36mnew_method\u001b[1;34m(self, other)\u001b[0m\n\u001b[0;32m     63\u001b[0m         \u001b[0mother\u001b[0m \u001b[1;33m=\u001b[0m \u001b[0mitem_from_zerodim\u001b[0m\u001b[1;33m(\u001b[0m\u001b[0mother\u001b[0m\u001b[1;33m)\u001b[0m\u001b[1;33m\u001b[0m\u001b[1;33m\u001b[0m\u001b[0m\n\u001b[0;32m     64\u001b[0m \u001b[1;33m\u001b[0m\u001b[0m\n\u001b[1;32m---> 65\u001b[1;33m         \u001b[1;32mreturn\u001b[0m \u001b[0mmethod\u001b[0m\u001b[1;33m(\u001b[0m\u001b[0mself\u001b[0m\u001b[1;33m,\u001b[0m \u001b[0mother\u001b[0m\u001b[1;33m)\u001b[0m\u001b[1;33m\u001b[0m\u001b[1;33m\u001b[0m\u001b[0m\n\u001b[0m\u001b[0;32m     66\u001b[0m \u001b[1;33m\u001b[0m\u001b[0m\n\u001b[0;32m     67\u001b[0m     \u001b[1;32mreturn\u001b[0m \u001b[0mnew_method\u001b[0m\u001b[1;33m\u001b[0m\u001b[1;33m\u001b[0m\u001b[0m\n",
      "\u001b[1;32m~\\anaconda3\\lib\\site-packages\\pandas\\core\\ops\\__init__.py\u001b[0m in \u001b[0;36mwrapper\u001b[1;34m(self, other)\u001b[0m\n\u001b[0;32m    368\u001b[0m         \u001b[0mrvalues\u001b[0m \u001b[1;33m=\u001b[0m \u001b[0mextract_array\u001b[0m\u001b[1;33m(\u001b[0m\u001b[0mother\u001b[0m\u001b[1;33m,\u001b[0m \u001b[0mextract_numpy\u001b[0m\u001b[1;33m=\u001b[0m\u001b[1;32mTrue\u001b[0m\u001b[1;33m)\u001b[0m\u001b[1;33m\u001b[0m\u001b[1;33m\u001b[0m\u001b[0m\n\u001b[0;32m    369\u001b[0m \u001b[1;33m\u001b[0m\u001b[0m\n\u001b[1;32m--> 370\u001b[1;33m         \u001b[0mres_values\u001b[0m \u001b[1;33m=\u001b[0m \u001b[0mcomparison_op\u001b[0m\u001b[1;33m(\u001b[0m\u001b[0mlvalues\u001b[0m\u001b[1;33m,\u001b[0m \u001b[0mrvalues\u001b[0m\u001b[1;33m,\u001b[0m \u001b[0mop\u001b[0m\u001b[1;33m)\u001b[0m\u001b[1;33m\u001b[0m\u001b[1;33m\u001b[0m\u001b[0m\n\u001b[0m\u001b[0;32m    371\u001b[0m \u001b[1;33m\u001b[0m\u001b[0m\n\u001b[0;32m    372\u001b[0m         \u001b[1;32mreturn\u001b[0m \u001b[0mself\u001b[0m\u001b[1;33m.\u001b[0m\u001b[0m_construct_result\u001b[0m\u001b[1;33m(\u001b[0m\u001b[0mres_values\u001b[0m\u001b[1;33m,\u001b[0m \u001b[0mname\u001b[0m\u001b[1;33m=\u001b[0m\u001b[0mres_name\u001b[0m\u001b[1;33m)\u001b[0m\u001b[1;33m\u001b[0m\u001b[1;33m\u001b[0m\u001b[0m\n",
      "\u001b[1;32m~\\anaconda3\\lib\\site-packages\\pandas\\core\\ops\\array_ops.py\u001b[0m in \u001b[0;36mcomparison_op\u001b[1;34m(left, right, op)\u001b[0m\n\u001b[0;32m    227\u001b[0m     \u001b[1;32mif\u001b[0m \u001b[0mshould_extension_dispatch\u001b[0m\u001b[1;33m(\u001b[0m\u001b[0mlvalues\u001b[0m\u001b[1;33m,\u001b[0m \u001b[0mrvalues\u001b[0m\u001b[1;33m)\u001b[0m\u001b[1;33m:\u001b[0m\u001b[1;33m\u001b[0m\u001b[1;33m\u001b[0m\u001b[0m\n\u001b[0;32m    228\u001b[0m         \u001b[1;31m# Call the method on lvalues\u001b[0m\u001b[1;33m\u001b[0m\u001b[1;33m\u001b[0m\u001b[1;33m\u001b[0m\u001b[0m\n\u001b[1;32m--> 229\u001b[1;33m         \u001b[0mres_values\u001b[0m \u001b[1;33m=\u001b[0m \u001b[0mop\u001b[0m\u001b[1;33m(\u001b[0m\u001b[0mlvalues\u001b[0m\u001b[1;33m,\u001b[0m \u001b[0mrvalues\u001b[0m\u001b[1;33m)\u001b[0m\u001b[1;33m\u001b[0m\u001b[1;33m\u001b[0m\u001b[0m\n\u001b[0m\u001b[0;32m    230\u001b[0m \u001b[1;33m\u001b[0m\u001b[0m\n\u001b[0;32m    231\u001b[0m     \u001b[1;32melif\u001b[0m \u001b[0mis_scalar\u001b[0m\u001b[1;33m(\u001b[0m\u001b[0mrvalues\u001b[0m\u001b[1;33m)\u001b[0m \u001b[1;32mand\u001b[0m \u001b[0misna\u001b[0m\u001b[1;33m(\u001b[0m\u001b[0mrvalues\u001b[0m\u001b[1;33m)\u001b[0m\u001b[1;33m:\u001b[0m\u001b[1;33m\u001b[0m\u001b[1;33m\u001b[0m\u001b[0m\n",
      "\u001b[1;32m~\\anaconda3\\lib\\site-packages\\pandas\\core\\ops\\common.py\u001b[0m in \u001b[0;36mnew_method\u001b[1;34m(self, other)\u001b[0m\n\u001b[0;32m     63\u001b[0m         \u001b[0mother\u001b[0m \u001b[1;33m=\u001b[0m \u001b[0mitem_from_zerodim\u001b[0m\u001b[1;33m(\u001b[0m\u001b[0mother\u001b[0m\u001b[1;33m)\u001b[0m\u001b[1;33m\u001b[0m\u001b[1;33m\u001b[0m\u001b[0m\n\u001b[0;32m     64\u001b[0m \u001b[1;33m\u001b[0m\u001b[0m\n\u001b[1;32m---> 65\u001b[1;33m         \u001b[1;32mreturn\u001b[0m \u001b[0mmethod\u001b[0m\u001b[1;33m(\u001b[0m\u001b[0mself\u001b[0m\u001b[1;33m,\u001b[0m \u001b[0mother\u001b[0m\u001b[1;33m)\u001b[0m\u001b[1;33m\u001b[0m\u001b[1;33m\u001b[0m\u001b[0m\n\u001b[0m\u001b[0;32m     66\u001b[0m \u001b[1;33m\u001b[0m\u001b[0m\n\u001b[0;32m     67\u001b[0m     \u001b[1;32mreturn\u001b[0m \u001b[0mnew_method\u001b[0m\u001b[1;33m\u001b[0m\u001b[1;33m\u001b[0m\u001b[0m\n",
      "\u001b[1;32m~\\anaconda3\\lib\\site-packages\\pandas\\core\\arrays\\datetimelike.py\u001b[0m in \u001b[0;36mwrapper\u001b[1;34m(self, other)\u001b[0m\n\u001b[0;32m    128\u001b[0m \u001b[1;33m\u001b[0m\u001b[0m\n\u001b[0;32m    129\u001b[0m         \u001b[0mother_i8\u001b[0m \u001b[1;33m=\u001b[0m \u001b[0mself\u001b[0m\u001b[1;33m.\u001b[0m\u001b[0m_unbox\u001b[0m\u001b[1;33m(\u001b[0m\u001b[0mother\u001b[0m\u001b[1;33m)\u001b[0m\u001b[1;33m\u001b[0m\u001b[1;33m\u001b[0m\u001b[0m\n\u001b[1;32m--> 130\u001b[1;33m         \u001b[0mresult\u001b[0m \u001b[1;33m=\u001b[0m \u001b[0mop\u001b[0m\u001b[1;33m(\u001b[0m\u001b[0mself\u001b[0m\u001b[1;33m.\u001b[0m\u001b[0masi8\u001b[0m\u001b[1;33m,\u001b[0m \u001b[0mother_i8\u001b[0m\u001b[1;33m)\u001b[0m\u001b[1;33m\u001b[0m\u001b[1;33m\u001b[0m\u001b[0m\n\u001b[0m\u001b[0;32m    131\u001b[0m \u001b[1;33m\u001b[0m\u001b[0m\n\u001b[0;32m    132\u001b[0m         \u001b[0mo_mask\u001b[0m \u001b[1;33m=\u001b[0m \u001b[0misna\u001b[0m\u001b[1;33m(\u001b[0m\u001b[0mother\u001b[0m\u001b[1;33m)\u001b[0m\u001b[1;33m\u001b[0m\u001b[1;33m\u001b[0m\u001b[0m\n",
      "\u001b[1;31mKeyboardInterrupt\u001b[0m: "
     ]
    }
   ],
   "source": [
    "####################### process model predictions\n",
    "START_TIME = time.perf_counter()\n",
    "#add model_prediction=1 if any nan in features or duration >15mn to be a little more conservative although we never\n",
    "#df.loc[(df['nbr_nan']!=0)&(df['duration']>900), 'model_prediction'] = 1\n",
    "#extract the previously correct-predicted-zone (i.e. which might differ from the previous zone)\n",
    "df = df.sort_values(['Timestamp'], ascending=True)\n",
    "df['previous1_correctzone'] = df.apply(lambda x: df[(df['HenID']==x['HenID'])&(df['Timestamp']<x['Timestamp'])]['Trackingsystem_Zone'], axis=1)\n",
    "#total time\n",
    "END_TIME = time.perf_counter()\n",
    "print (\"Total running time to process&save prediction: %.2f mn\" %((END_TIME-START_TIME)/60))"
   ]
  },
  {
   "cell_type": "code",
   "execution_count": null,
   "metadata": {},
   "outputs": [],
   "source": [
    "####################### process model predictions\n",
    "START_TIME = time.perf_counter()\n",
    "#add model_prediction=1 if any nan in features or duration >15mn to be a little more conservative although we never\n",
    "#df.loc[(df['nbr_nan']!=0)&(df['duration']>900), 'model_prediction'] = 1\n",
    "#extract the previously correct-predicted-zone (i.e. which might differ from the previous zone)\n",
    "df = df.sort_values(['Timestamp'], ascending=True)\n",
    "df['previous1_correctzone'] = df.apply(lambda x: df[(df['HenID']==x['HenID'])&(df['Timestamp']<x['Timestamp'])]['Trackingsystem_Zone'] if\\\n",
    "                                       x['model_prediction']==0 else np.nan, axis=1)\n",
    "#total time\n",
    "END_TIME = time.perf_counter()\n",
    "print (\"Total running time to process&save prediction: %.2f mn\" %((END_TIME-START_TIME)/60))"
   ]
  },
  {
   "cell_type": "code",
   "execution_count": 18,
   "metadata": {},
   "outputs": [
    {
     "name": "stderr",
     "output_type": "stream",
     "text": [
      "C:\\Users\\camil\\anaconda3\\lib\\site-packages\\ipykernel\\ipkernel.py:283: DeprecationWarning: `should_run_async` will not call `transform_cell` automatically in the future. Please pass the result to `transformed_cell` argument and any exception that happen during thetransform in `preprocessing_exc_tuple` in IPython 7.17 and above.\n",
      "  and should_run_async(code)\n"
     ]
    },
    {
     "data": {
      "text/html": [
       "<div>\n",
       "<style scoped>\n",
       "    .dataframe tbody tr th:only-of-type {\n",
       "        vertical-align: middle;\n",
       "    }\n",
       "\n",
       "    .dataframe tbody tr th {\n",
       "        vertical-align: top;\n",
       "    }\n",
       "\n",
       "    .dataframe thead th {\n",
       "        text-align: right;\n",
       "    }\n",
       "</style>\n",
       "<table border=\"1\" class=\"dataframe\">\n",
       "  <thead>\n",
       "    <tr style=\"text-align: right;\">\n",
       "      <th></th>\n",
       "      <th>Timestamp</th>\n",
       "      <th>HenID</th>\n",
       "      <th>Trackingsystem_Zone_x</th>\n",
       "      <th>PenID_x</th>\n",
       "      <th>TagID_x</th>\n",
       "      <th>signalstrength_x</th>\n",
       "      <th>system_x</th>\n",
       "      <th>date_x</th>\n",
       "      <th>signalstzone2_x</th>\n",
       "      <th>next1_record_date_x</th>\n",
       "      <th>...</th>\n",
       "      <th>zone2_match_y</th>\n",
       "      <th>zone3_match_y</th>\n",
       "      <th>zone4_match_y</th>\n",
       "      <th>zone3_match_exist_y</th>\n",
       "      <th>next2zone==Zone_y</th>\n",
       "      <th>previous2zone==Zone_y</th>\n",
       "      <th>time_y</th>\n",
       "      <th>nbr_nan_y</th>\n",
       "      <th>model_prediction_y</th>\n",
       "      <th>previous1_correctzone</th>\n",
       "    </tr>\n",
       "  </thead>\n",
       "  <tbody>\n",
       "    <tr>\n",
       "      <th>0</th>\n",
       "      <td>2020-10-27 00:03:07</td>\n",
       "      <td>hen_100</td>\n",
       "      <td>4_Zone</td>\n",
       "      <td>pen5</td>\n",
       "      <td>tag_121</td>\n",
       "      <td>6</td>\n",
       "      <td>3 - 5</td>\n",
       "      <td>2020-10-27</td>\n",
       "      <td>5</td>\n",
       "      <td>2020-10-27 00:03:12</td>\n",
       "      <td>...</td>\n",
       "      <td>NaN</td>\n",
       "      <td>NaN</td>\n",
       "      <td>NaN</td>\n",
       "      <td>NaN</td>\n",
       "      <td>NaN</td>\n",
       "      <td>NaN</td>\n",
       "      <td>NaN</td>\n",
       "      <td>NaN</td>\n",
       "      <td>NaN</td>\n",
       "      <td>NaN</td>\n",
       "    </tr>\n",
       "    <tr>\n",
       "      <th>1</th>\n",
       "      <td>2020-10-27 00:03:12</td>\n",
       "      <td>hen_100</td>\n",
       "      <td>5_Zone</td>\n",
       "      <td>pen5</td>\n",
       "      <td>tag_121</td>\n",
       "      <td>9</td>\n",
       "      <td>3 - 5</td>\n",
       "      <td>2020-10-27</td>\n",
       "      <td>6</td>\n",
       "      <td>2020-10-27 00:20:52</td>\n",
       "      <td>...</td>\n",
       "      <td>4_Zone</td>\n",
       "      <td>NoOtherZone</td>\n",
       "      <td>NoOtherZone</td>\n",
       "      <td>0.0</td>\n",
       "      <td>1.0</td>\n",
       "      <td>0.0</td>\n",
       "      <td>00:03:12</td>\n",
       "      <td>0.0</td>\n",
       "      <td>1.0</td>\n",
       "      <td>NaN</td>\n",
       "    </tr>\n",
       "    <tr>\n",
       "      <th>2</th>\n",
       "      <td>2020-10-27 00:15:39</td>\n",
       "      <td>hen_73</td>\n",
       "      <td>4_Zone</td>\n",
       "      <td>pen4</td>\n",
       "      <td>tag_41</td>\n",
       "      <td>4</td>\n",
       "      <td>3 - 5</td>\n",
       "      <td>2020-10-27</td>\n",
       "      <td>3</td>\n",
       "      <td>2020-10-27 00:15:42</td>\n",
       "      <td>...</td>\n",
       "      <td>NaN</td>\n",
       "      <td>NaN</td>\n",
       "      <td>NaN</td>\n",
       "      <td>NaN</td>\n",
       "      <td>NaN</td>\n",
       "      <td>NaN</td>\n",
       "      <td>NaN</td>\n",
       "      <td>NaN</td>\n",
       "      <td>NaN</td>\n",
       "      <td>NaN</td>\n",
       "    </tr>\n",
       "    <tr>\n",
       "      <th>3</th>\n",
       "      <td>2020-10-27 00:15:42</td>\n",
       "      <td>hen_73</td>\n",
       "      <td>3_Zone</td>\n",
       "      <td>pen4</td>\n",
       "      <td>tag_41</td>\n",
       "      <td>9</td>\n",
       "      <td>3 - 5</td>\n",
       "      <td>2020-10-27</td>\n",
       "      <td>4</td>\n",
       "      <td>2020-10-27 00:20:39</td>\n",
       "      <td>...</td>\n",
       "      <td>4_Zone</td>\n",
       "      <td>5_Zone</td>\n",
       "      <td>NoOtherZone</td>\n",
       "      <td>1.0</td>\n",
       "      <td>1.0</td>\n",
       "      <td>0.0</td>\n",
       "      <td>00:15:42</td>\n",
       "      <td>0.0</td>\n",
       "      <td>1.0</td>\n",
       "      <td>NaN</td>\n",
       "    </tr>\n",
       "    <tr>\n",
       "      <th>6</th>\n",
       "      <td>2020-10-27 00:20:52</td>\n",
       "      <td>hen_100</td>\n",
       "      <td>3_Zone</td>\n",
       "      <td>pen5</td>\n",
       "      <td>tag_121</td>\n",
       "      <td>8</td>\n",
       "      <td>3 - 5</td>\n",
       "      <td>2020-10-27</td>\n",
       "      <td>3</td>\n",
       "      <td>2020-10-27 00:20:59</td>\n",
       "      <td>...</td>\n",
       "      <td>NaN</td>\n",
       "      <td>NaN</td>\n",
       "      <td>NaN</td>\n",
       "      <td>NaN</td>\n",
       "      <td>NaN</td>\n",
       "      <td>NaN</td>\n",
       "      <td>NaN</td>\n",
       "      <td>NaN</td>\n",
       "      <td>NaN</td>\n",
       "      <td>NaN</td>\n",
       "    </tr>\n",
       "    <tr>\n",
       "      <th>...</th>\n",
       "      <td>...</td>\n",
       "      <td>...</td>\n",
       "      <td>...</td>\n",
       "      <td>...</td>\n",
       "      <td>...</td>\n",
       "      <td>...</td>\n",
       "      <td>...</td>\n",
       "      <td>...</td>\n",
       "      <td>...</td>\n",
       "      <td>...</td>\n",
       "      <td>...</td>\n",
       "      <td>...</td>\n",
       "      <td>...</td>\n",
       "      <td>...</td>\n",
       "      <td>...</td>\n",
       "      <td>...</td>\n",
       "      <td>...</td>\n",
       "      <td>...</td>\n",
       "      <td>...</td>\n",
       "      <td>...</td>\n",
       "      <td>...</td>\n",
       "    </tr>\n",
       "    <tr>\n",
       "      <th>2144076</th>\n",
       "      <td>2021-01-18 08:37:11</td>\n",
       "      <td>hen_128</td>\n",
       "      <td>2_Zone</td>\n",
       "      <td>pen4</td>\n",
       "      <td>tag_35</td>\n",
       "      <td>4</td>\n",
       "      <td>3 - 5</td>\n",
       "      <td>2021-01-18</td>\n",
       "      <td>3</td>\n",
       "      <td>2021-01-18 08:37:16</td>\n",
       "      <td>...</td>\n",
       "      <td>NaN</td>\n",
       "      <td>NaN</td>\n",
       "      <td>NaN</td>\n",
       "      <td>NaN</td>\n",
       "      <td>NaN</td>\n",
       "      <td>NaN</td>\n",
       "      <td>NaN</td>\n",
       "      <td>NaN</td>\n",
       "      <td>NaN</td>\n",
       "      <td>NaN</td>\n",
       "    </tr>\n",
       "    <tr>\n",
       "      <th>2144077</th>\n",
       "      <td>2021-01-18 08:37:16</td>\n",
       "      <td>hen_54</td>\n",
       "      <td>3_Zone</td>\n",
       "      <td>pen10</td>\n",
       "      <td>tag_125</td>\n",
       "      <td>4</td>\n",
       "      <td>10 - 12</td>\n",
       "      <td>2021-01-18</td>\n",
       "      <td>3</td>\n",
       "      <td>2021-01-18 08:37:57</td>\n",
       "      <td>...</td>\n",
       "      <td>NaN</td>\n",
       "      <td>NaN</td>\n",
       "      <td>NaN</td>\n",
       "      <td>NaN</td>\n",
       "      <td>NaN</td>\n",
       "      <td>NaN</td>\n",
       "      <td>NaN</td>\n",
       "      <td>NaN</td>\n",
       "      <td>NaN</td>\n",
       "      <td>NaN</td>\n",
       "    </tr>\n",
       "    <tr>\n",
       "      <th>2144085</th>\n",
       "      <td>2021-01-18 08:37:22</td>\n",
       "      <td>hen_1</td>\n",
       "      <td>1_Zone</td>\n",
       "      <td>pen9</td>\n",
       "      <td>tag_105</td>\n",
       "      <td>5</td>\n",
       "      <td>8 - 9</td>\n",
       "      <td>2021-01-18</td>\n",
       "      <td>4</td>\n",
       "      <td>2021-01-18 08:37:56</td>\n",
       "      <td>...</td>\n",
       "      <td>NaN</td>\n",
       "      <td>NaN</td>\n",
       "      <td>NaN</td>\n",
       "      <td>NaN</td>\n",
       "      <td>NaN</td>\n",
       "      <td>NaN</td>\n",
       "      <td>NaN</td>\n",
       "      <td>NaN</td>\n",
       "      <td>NaN</td>\n",
       "      <td>NaN</td>\n",
       "    </tr>\n",
       "    <tr>\n",
       "      <th>2144115</th>\n",
       "      <td>2021-01-18 08:39:01</td>\n",
       "      <td>hen_54</td>\n",
       "      <td>3_Zone</td>\n",
       "      <td>pen10</td>\n",
       "      <td>tag_125</td>\n",
       "      <td>4</td>\n",
       "      <td>10 - 12</td>\n",
       "      <td>2021-01-18</td>\n",
       "      <td>3</td>\n",
       "      <td>2021-01-18 08:40:22</td>\n",
       "      <td>...</td>\n",
       "      <td>NaN</td>\n",
       "      <td>NaN</td>\n",
       "      <td>NaN</td>\n",
       "      <td>NaN</td>\n",
       "      <td>NaN</td>\n",
       "      <td>NaN</td>\n",
       "      <td>NaN</td>\n",
       "      <td>NaN</td>\n",
       "      <td>NaN</td>\n",
       "      <td>NaN</td>\n",
       "    </tr>\n",
       "    <tr>\n",
       "      <th>2144141</th>\n",
       "      <td>2021-01-18 08:40:32</td>\n",
       "      <td>hen_10</td>\n",
       "      <td>2_Zone</td>\n",
       "      <td>pen11</td>\n",
       "      <td>tag_153</td>\n",
       "      <td>12</td>\n",
       "      <td>10 - 12</td>\n",
       "      <td>2021-01-18</td>\n",
       "      <td>11</td>\n",
       "      <td>NaN</td>\n",
       "      <td>...</td>\n",
       "      <td>NaN</td>\n",
       "      <td>NaN</td>\n",
       "      <td>NaN</td>\n",
       "      <td>NaN</td>\n",
       "      <td>NaN</td>\n",
       "      <td>NaN</td>\n",
       "      <td>NaN</td>\n",
       "      <td>NaN</td>\n",
       "      <td>NaN</td>\n",
       "      <td>NaN</td>\n",
       "    </tr>\n",
       "  </tbody>\n",
       "</table>\n",
       "<p>127294 rows × 83 columns</p>\n",
       "</div>"
      ],
      "text/plain": [
       "                  Timestamp    HenID Trackingsystem_Zone_x PenID_x  TagID_x  \\\n",
       "0       2020-10-27 00:03:07  hen_100                4_Zone    pen5  tag_121   \n",
       "1       2020-10-27 00:03:12  hen_100                5_Zone    pen5  tag_121   \n",
       "2       2020-10-27 00:15:39   hen_73                4_Zone    pen4   tag_41   \n",
       "3       2020-10-27 00:15:42   hen_73                3_Zone    pen4   tag_41   \n",
       "6       2020-10-27 00:20:52  hen_100                3_Zone    pen5  tag_121   \n",
       "...                     ...      ...                   ...     ...      ...   \n",
       "2144076 2021-01-18 08:37:11  hen_128                2_Zone    pen4   tag_35   \n",
       "2144077 2021-01-18 08:37:16   hen_54                3_Zone   pen10  tag_125   \n",
       "2144085 2021-01-18 08:37:22    hen_1                1_Zone    pen9  tag_105   \n",
       "2144115 2021-01-18 08:39:01   hen_54                3_Zone   pen10  tag_125   \n",
       "2144141 2021-01-18 08:40:32   hen_10                2_Zone   pen11  tag_153   \n",
       "\n",
       "         signalstrength_x system_x     date_x  signalstzone2_x  \\\n",
       "0                       6    3 - 5 2020-10-27                5   \n",
       "1                       9    3 - 5 2020-10-27                6   \n",
       "2                       4    3 - 5 2020-10-27                3   \n",
       "3                       9    3 - 5 2020-10-27                4   \n",
       "6                       8    3 - 5 2020-10-27                3   \n",
       "...                   ...      ...        ...              ...   \n",
       "2144076                 4    3 - 5 2021-01-18                3   \n",
       "2144077                 4  10 - 12 2021-01-18                3   \n",
       "2144085                 5    8 - 9 2021-01-18                4   \n",
       "2144115                 4  10 - 12 2021-01-18                3   \n",
       "2144141                12  10 - 12 2021-01-18               11   \n",
       "\n",
       "         next1_record_date_x  ... zone2_match_y zone3_match_y zone4_match_y  \\\n",
       "0        2020-10-27 00:03:12  ...           NaN           NaN           NaN   \n",
       "1        2020-10-27 00:20:52  ...        4_Zone   NoOtherZone   NoOtherZone   \n",
       "2        2020-10-27 00:15:42  ...           NaN           NaN           NaN   \n",
       "3        2020-10-27 00:20:39  ...        4_Zone        5_Zone   NoOtherZone   \n",
       "6        2020-10-27 00:20:59  ...           NaN           NaN           NaN   \n",
       "...                      ...  ...           ...           ...           ...   \n",
       "2144076  2021-01-18 08:37:16  ...           NaN           NaN           NaN   \n",
       "2144077  2021-01-18 08:37:57  ...           NaN           NaN           NaN   \n",
       "2144085  2021-01-18 08:37:56  ...           NaN           NaN           NaN   \n",
       "2144115  2021-01-18 08:40:22  ...           NaN           NaN           NaN   \n",
       "2144141                  NaN  ...           NaN           NaN           NaN   \n",
       "\n",
       "        zone3_match_exist_y  next2zone==Zone_y  previous2zone==Zone_y  \\\n",
       "0                       NaN                NaN                    NaN   \n",
       "1                       0.0                1.0                    0.0   \n",
       "2                       NaN                NaN                    NaN   \n",
       "3                       1.0                1.0                    0.0   \n",
       "6                       NaN                NaN                    NaN   \n",
       "...                     ...                ...                    ...   \n",
       "2144076                 NaN                NaN                    NaN   \n",
       "2144077                 NaN                NaN                    NaN   \n",
       "2144085                 NaN                NaN                    NaN   \n",
       "2144115                 NaN                NaN                    NaN   \n",
       "2144141                 NaN                NaN                    NaN   \n",
       "\n",
       "           time_y nbr_nan_y model_prediction_y previous1_correctzone  \n",
       "0             NaN       NaN                NaN                   NaN  \n",
       "1        00:03:12       0.0                1.0                   NaN  \n",
       "2             NaN       NaN                NaN                   NaN  \n",
       "3        00:15:42       0.0                1.0                   NaN  \n",
       "6             NaN       NaN                NaN                   NaN  \n",
       "...           ...       ...                ...                   ...  \n",
       "2144076       NaN       NaN                NaN                   NaN  \n",
       "2144077       NaN       NaN                NaN                   NaN  \n",
       "2144085       NaN       NaN                NaN                   NaN  \n",
       "2144115       NaN       NaN                NaN                   NaN  \n",
       "2144141       NaN       NaN                NaN                   NaN  \n",
       "\n",
       "[127294 rows x 83 columns]"
      ]
     },
     "execution_count": 18,
     "metadata": {},
     "output_type": "execute_result"
    }
   ],
   "source": [
    "df_test[df_test['previous1_correctzone'].isnull()]"
   ]
  },
  {
   "cell_type": "code",
   "execution_count": null,
   "metadata": {},
   "outputs": [],
   "source": [
    "caca"
   ]
  },
  {
   "cell_type": "code",
   "execution_count": null,
   "metadata": {},
   "outputs": [],
   "source": []
  },
  {
   "cell_type": "code",
   "execution_count": null,
   "metadata": {},
   "outputs": [],
   "source": []
  },
  {
   "cell_type": "code",
   "execution_count": null,
   "metadata": {},
   "outputs": [],
   "source": [
    "#add the zone that would be selected with this algorithm output: if==0, then the true zone is the one before\n",
    "df['model_ObservedZone'] = df.apply(lambda x: x['Trackingsystem_Zone'] if x['model_prediction']==1 else \\\n",
    "                                    x['previous1_correctzone'],axis=1)\n",
    "#can take TIME to save\n",
    "df.filter(['model_ObservedZone','HenID','PenID','system','Trackingsystem_Zone','model_prediction','Timestamp','date','duration'],\n",
    "          axis=1).to_csv(os.path.join(path_extracted_data_cleaning_rawvscleaned, id_run+'_Rawdata&Model.csv'),\n",
    "                         index=False, sep=';')\n",
    "display(df.head(3))\n",
    "#total time\n",
    "END_TIME = time.perf_counter()\n",
    "print (\"Total running time to process&save prediction: %.2f mn\" %((END_TIME-START_TIME)/60))"
   ]
  },
  {
   "cell_type": "code",
   "execution_count": null,
   "metadata": {},
   "outputs": [],
   "source": []
  },
  {
   "cell_type": "raw",
   "metadata": {},
   "source": [
    "1/2 mois: 2, 234'550  observations, 10mn\n",
    "--> 10 mois, 5'000'000 observation, 3h20mn"
   ]
  },
  {
   "cell_type": "code",
   "execution_count": 13,
   "metadata": {},
   "outputs": [
    {
     "name": "stderr",
     "output_type": "stream",
     "text": [
      "C:\\Users\\camil\\anaconda3\\lib\\site-packages\\ipykernel\\ipkernel.py:283: DeprecationWarning: `should_run_async` will not call `transform_cell` automatically in the future. Please pass the result to `transformed_cell` argument and any exception that happen during thetransform in `preprocessing_exc_tuple` in IPython 7.17 and above.\n",
      "  and should_run_async(code)\n"
     ]
    },
    {
     "data": {
      "text/plain": [
       "1    0.940739\n",
       "0    0.059261\n",
       "Name: model_prediction, dtype: float64"
      ]
     },
     "execution_count": 13,
     "metadata": {},
     "output_type": "execute_result"
    }
   ],
   "source": [
    "df['model_prediction'].value_counts(normalize=True) #in testing it was 4,9% of wrong records: 42/(42+821)*100)"
   ]
  },
  {
   "cell_type": "markdown",
   "metadata": {},
   "source": [
    "# Assess henID/system/pen explained variance of match vs non-match"
   ]
  },
  {
   "cell_type": "markdown",
   "metadata": {},
   "source": [
    "li_sel_hen = list(df['HenID'].unique())\n",
    "#restrict to 50 hens:\n",
    "#li_sel_hen = random.sample(list(df['HenID'].unique()),50) #not enough 50 to assess penID and system explained variance\n",
    "#number of disjoint set of days to run per #days involved\n",
    "nbr_comb = 10\n",
    "#compute disjoint set of days \n",
    "li_disjoint_set = []\n",
    "#min nbr of days to include\n",
    "min_days = 4\n",
    "\n",
    "#to have disjoint set of days\n",
    "li_date = df['date'].unique()\n",
    "for nbr_days in tqdm.tqdm(range(min_days, int(len(li_date)/nbr_comb)+1)):\n",
    "    li_sel = []\n",
    "    li_date_ = li_date.copy()\n",
    "    while len(li_sel)!=nbr_comb:\n",
    "        li_ = random.sample(list(li_date_), nbr_days)\n",
    "        li_sel.append(li_)\n",
    "        li_date_ = [x for x in li_date_ if x not in li_]\n",
    "    li_disjoint_set.extend(li_sel)\n",
    "#do the one with all batches for final outputs\n",
    "len(li_disjoint_set)\n",
    "#li_disjoint_set"
   ]
  },
  {
   "cell_type": "markdown",
   "metadata": {},
   "source": [
    "for i,li_d in tqdm.tqdm(enumerate(li_disjoint_set)):\n",
    "    nbr_days = len(li_d)\n",
    "    df_ = df[(df['date'].isin(li_d)) &(df['HenID'].isin(li_sel_hen))].copy()\n",
    "    df_ = df_.dropna()\n",
    "    #save to do in R\n",
    "    df_.filter(['HenID', 'PenID', 'system','Zone','model_prediction'],\n",
    "               axis=1).to_csv(os.path.join(path_extracted_data_cleaning_rawvscleaned_DF,\n",
    "                                           'df_EV_day'+str(nbr_days)+'_'+str(i)+'.csv'), sep=';', index=False)"
   ]
  },
  {
   "cell_type": "markdown",
   "metadata": {},
   "source": [
    "df_varexp = pd.read_csv(os.path.join(path_extracted_data_cleaning_rawvscleaned,'var_expl','df_VarExpl.csv'),\n",
    "                       names=['csvID', 'Deviance', 'indvar'], index_col=False, sep=';', header=None)\n",
    "df_varexp = df_varexp.iloc[1:79]\n",
    "df_varexp['nbr_days'] = df_varexp['csvID'].map(lambda x: int(x.split('day')[1].split('_')[0]))\n",
    "df_varexp['Deviance'] = df_varexp['Deviance'].map(lambda x: np.round(float(x),2))\n",
    "print(df_varexp.shape)\n",
    "display(df_varexp.head(3))\n",
    "\n",
    "#plot\n",
    "ax = sns.boxplot(x=\"nbr_days\", y=\"Deviance\", hue='indvar', data=df_varexp)\n",
    "#ax = sns.swarmplot(x=\"nbr_days\", y=\"Deviance\", hue='indvar', data=df_varexp)\n",
    "#a réentrainer dans le temps? ou peut-etre que dans le temps les erreur entre poule se compenseront et limportance de la \n",
    "#henid diminuerai\n",
    "plt.savefig(os.path.join(path_extracted_data_cleaning_rawvscleaned, 'deviance_features_overtime.png'), "
   ]
  },
  {
   "cell_type": "markdown",
   "metadata": {},
   "source": [
    "# Compute variable"
   ]
  },
  {
   "cell_type": "code",
   "execution_count": 14,
   "metadata": {},
   "outputs": [
    {
     "name": "stderr",
     "output_type": "stream",
     "text": [
      "C:\\Users\\camil\\anaconda3\\lib\\site-packages\\ipykernel\\ipkernel.py:283: DeprecationWarning: `should_run_async` will not call `transform_cell` automatically in the future. Please pass the result to `transformed_cell` argument and any exception that happen during thetransform in `preprocessing_exc_tuple` in IPython 7.17 and above.\n",
      "  and should_run_async(code)\n"
     ]
    },
    {
     "name": "stdout",
     "output_type": "stream",
     "text": [
      "(2144152, 9)\n"
     ]
    },
    {
     "data": {
      "text/html": [
       "<div>\n",
       "<style scoped>\n",
       "    .dataframe tbody tr th:only-of-type {\n",
       "        vertical-align: middle;\n",
       "    }\n",
       "\n",
       "    .dataframe tbody tr th {\n",
       "        vertical-align: top;\n",
       "    }\n",
       "\n",
       "    .dataframe thead th {\n",
       "        text-align: right;\n",
       "    }\n",
       "</style>\n",
       "<table border=\"1\" class=\"dataframe\">\n",
       "  <thead>\n",
       "    <tr style=\"text-align: right;\">\n",
       "      <th></th>\n",
       "      <th>model_ObservedZone</th>\n",
       "      <th>HenID</th>\n",
       "      <th>PenID</th>\n",
       "      <th>system</th>\n",
       "      <th>Trackingsystem_Zone</th>\n",
       "      <th>model_prediction</th>\n",
       "      <th>Timestamp</th>\n",
       "      <th>date</th>\n",
       "      <th>duration</th>\n",
       "    </tr>\n",
       "  </thead>\n",
       "  <tbody>\n",
       "    <tr>\n",
       "      <th>0</th>\n",
       "      <td>4_Zone</td>\n",
       "      <td>hen_100</td>\n",
       "      <td>pen5</td>\n",
       "      <td>3 - 5</td>\n",
       "      <td>4_Zone</td>\n",
       "      <td>1</td>\n",
       "      <td>2020-10-27 00:03:07</td>\n",
       "      <td>2020-10-27</td>\n",
       "      <td>5.0</td>\n",
       "    </tr>\n",
       "    <tr>\n",
       "      <th>1</th>\n",
       "      <td>5_Zone</td>\n",
       "      <td>hen_100</td>\n",
       "      <td>pen5</td>\n",
       "      <td>3 - 5</td>\n",
       "      <td>5_Zone</td>\n",
       "      <td>1</td>\n",
       "      <td>2020-10-27 00:03:12</td>\n",
       "      <td>2020-10-27</td>\n",
       "      <td>1060.0</td>\n",
       "    </tr>\n",
       "    <tr>\n",
       "      <th>2</th>\n",
       "      <td>4_Zone</td>\n",
       "      <td>hen_73</td>\n",
       "      <td>pen4</td>\n",
       "      <td>3 - 5</td>\n",
       "      <td>4_Zone</td>\n",
       "      <td>1</td>\n",
       "      <td>2020-10-27 00:15:39</td>\n",
       "      <td>2020-10-27</td>\n",
       "      <td>3.0</td>\n",
       "    </tr>\n",
       "  </tbody>\n",
       "</table>\n",
       "</div>"
      ],
      "text/plain": [
       "  model_ObservedZone    HenID PenID system Trackingsystem_Zone  \\\n",
       "0             4_Zone  hen_100  pen5  3 - 5              4_Zone   \n",
       "1             5_Zone  hen_100  pen5  3 - 5              5_Zone   \n",
       "2             4_Zone   hen_73  pen4  3 - 5              4_Zone   \n",
       "\n",
       "   model_prediction           Timestamp       date  duration  \n",
       "0                 1 2020-10-27 00:03:07 2020-10-27       5.0  \n",
       "1                 1 2020-10-27 00:03:12 2020-10-27    1060.0  \n",
       "2                 1 2020-10-27 00:15:39 2020-10-27       3.0  "
      ]
     },
     "execution_count": 14,
     "metadata": {},
     "output_type": "execute_result"
    }
   ],
   "source": [
    "#for being more reproductible, we open the file that was saved from cleaning\n",
    "df = pd.read_csv(os.path.join(path_extracted_data_cleaning_rawvscleaned, id_run+'_Rawdata&Model.csv'), sep=';', \n",
    "                 parse_dates=['Timestamp','date'], dayfirst=True)\n",
    "print(df.shape)\n",
    "df.head(3)"
   ]
  },
  {
   "cell_type": "code",
   "execution_count": 15,
   "metadata": {},
   "outputs": [
    {
     "name": "stderr",
     "output_type": "stream",
     "text": [
      "C:\\Users\\camil\\anaconda3\\lib\\site-packages\\ipykernel\\ipkernel.py:283: DeprecationWarning: `should_run_async` will not call `transform_cell` automatically in the future. Please pass the result to `transformed_cell` argument and any exception that happen during thetransform in `preprocessing_exc_tuple` in IPython 7.17 and above.\n",
      "  and should_run_async(code)\n"
     ]
    }
   ],
   "source": [
    "#start end of october, on data that the system never saw!!\n",
    "date_min = dt.datetime(2020, 10, 20)\n",
    "#end at the very end to have most info\n",
    "date_max = dt.datetime(2022, 11, 5)"
   ]
  },
  {
   "cell_type": "code",
   "execution_count": 16,
   "metadata": {},
   "outputs": [
    {
     "name": "stderr",
     "output_type": "stream",
     "text": [
      "C:\\Users\\camil\\anaconda3\\lib\\site-packages\\ipykernel\\ipkernel.py:283: DeprecationWarning: `should_run_async` will not call `transform_cell` automatically in the future. Please pass the result to `transformed_cell` argument and any exception that happen during thetransform in `preprocessing_exc_tuple` in IPython 7.17 and above.\n",
      "  and should_run_async(code)\n"
     ]
    },
    {
     "data": {
      "text/html": [
       "<div>\n",
       "<style scoped>\n",
       "    .dataframe tbody tr th:only-of-type {\n",
       "        vertical-align: middle;\n",
       "    }\n",
       "\n",
       "    .dataframe tbody tr th {\n",
       "        vertical-align: top;\n",
       "    }\n",
       "\n",
       "    .dataframe thead th {\n",
       "        text-align: right;\n",
       "    }\n",
       "</style>\n",
       "<table border=\"1\" class=\"dataframe\">\n",
       "  <thead>\n",
       "    <tr style=\"text-align: right;\">\n",
       "      <th></th>\n",
       "      <th>model_ObservedZone</th>\n",
       "      <th>HenID</th>\n",
       "      <th>PenID</th>\n",
       "      <th>system</th>\n",
       "      <th>Trackingsystem_Zone</th>\n",
       "      <th>model_prediction</th>\n",
       "      <th>Timestamp</th>\n",
       "      <th>date</th>\n",
       "      <th>duration</th>\n",
       "    </tr>\n",
       "  </thead>\n",
       "  <tbody>\n",
       "    <tr>\n",
       "      <th>0</th>\n",
       "      <td>4_Zone</td>\n",
       "      <td>hen_100</td>\n",
       "      <td>pen5</td>\n",
       "      <td>3 - 5</td>\n",
       "      <td>4_Zone</td>\n",
       "      <td>1</td>\n",
       "      <td>2020-10-27 00:03:07</td>\n",
       "      <td>2020-10-27</td>\n",
       "      <td>5.0</td>\n",
       "    </tr>\n",
       "    <tr>\n",
       "      <th>1</th>\n",
       "      <td>5_Zone</td>\n",
       "      <td>hen_100</td>\n",
       "      <td>pen5</td>\n",
       "      <td>3 - 5</td>\n",
       "      <td>5_Zone</td>\n",
       "      <td>1</td>\n",
       "      <td>2020-10-27 00:03:12</td>\n",
       "      <td>2020-10-27</td>\n",
       "      <td>1060.0</td>\n",
       "    </tr>\n",
       "    <tr>\n",
       "      <th>2</th>\n",
       "      <td>4_Zone</td>\n",
       "      <td>hen_73</td>\n",
       "      <td>pen4</td>\n",
       "      <td>3 - 5</td>\n",
       "      <td>4_Zone</td>\n",
       "      <td>1</td>\n",
       "      <td>2020-10-27 00:15:39</td>\n",
       "      <td>2020-10-27</td>\n",
       "      <td>3.0</td>\n",
       "    </tr>\n",
       "  </tbody>\n",
       "</table>\n",
       "</div>"
      ],
      "text/plain": [
       "  model_ObservedZone    HenID PenID system Trackingsystem_Zone  \\\n",
       "0             4_Zone  hen_100  pen5  3 - 5              4_Zone   \n",
       "1             5_Zone  hen_100  pen5  3 - 5              5_Zone   \n",
       "2             4_Zone   hen_73  pen4  3 - 5              4_Zone   \n",
       "\n",
       "   model_prediction           Timestamp       date  duration  \n",
       "0                 1 2020-10-27 00:03:07 2020-10-27       5.0  \n",
       "1                 1 2020-10-27 00:03:12 2020-10-27    1060.0  \n",
       "2                 1 2020-10-27 00:15:39 2020-10-27       3.0  "
      ]
     },
     "execution_count": 16,
     "metadata": {},
     "output_type": "execute_result"
    }
   ],
   "source": [
    "df.head(3)"
   ]
  },
  {
   "cell_type": "code",
   "execution_count": 17,
   "metadata": {},
   "outputs": [
    {
     "name": "stderr",
     "output_type": "stream",
     "text": [
      "C:\\Users\\camil\\anaconda3\\lib\\site-packages\\ipykernel\\ipkernel.py:283: DeprecationWarning: `should_run_async` will not call `transform_cell` automatically in the future. Please pass the result to `transformed_cell` argument and any exception that happen during thetransform in `preprocessing_exc_tuple` in IPython 7.17 and above.\n",
      "  and should_run_async(code)\n"
     ]
    },
    {
     "data": {
      "text/html": [
       "<div>\n",
       "<style scoped>\n",
       "    .dataframe tbody tr th:only-of-type {\n",
       "        vertical-align: middle;\n",
       "    }\n",
       "\n",
       "    .dataframe tbody tr th {\n",
       "        vertical-align: top;\n",
       "    }\n",
       "\n",
       "    .dataframe thead th {\n",
       "        text-align: right;\n",
       "    }\n",
       "</style>\n",
       "<table border=\"1\" class=\"dataframe\">\n",
       "  <thead>\n",
       "    <tr style=\"text-align: right;\">\n",
       "      <th></th>\n",
       "      <th>Zone</th>\n",
       "      <th>HenID</th>\n",
       "      <th>PenID</th>\n",
       "      <th>system</th>\n",
       "      <th>model_prediction</th>\n",
       "      <th>Timestamp</th>\n",
       "      <th>date</th>\n",
       "      <th>duration</th>\n",
       "    </tr>\n",
       "  </thead>\n",
       "  <tbody>\n",
       "    <tr>\n",
       "      <th>0</th>\n",
       "      <td>4_Zone</td>\n",
       "      <td>hen_100</td>\n",
       "      <td>pen5</td>\n",
       "      <td>3 - 5</td>\n",
       "      <td>1</td>\n",
       "      <td>2020-10-27 00:03:07</td>\n",
       "      <td>2020-10-27</td>\n",
       "      <td>5.0</td>\n",
       "    </tr>\n",
       "    <tr>\n",
       "      <th>1</th>\n",
       "      <td>5_Zone</td>\n",
       "      <td>hen_100</td>\n",
       "      <td>pen5</td>\n",
       "      <td>3 - 5</td>\n",
       "      <td>1</td>\n",
       "      <td>2020-10-27 00:03:12</td>\n",
       "      <td>2020-10-27</td>\n",
       "      <td>1060.0</td>\n",
       "    </tr>\n",
       "  </tbody>\n",
       "</table>\n",
       "</div>"
      ],
      "text/plain": [
       "     Zone    HenID PenID system  model_prediction           Timestamp  \\\n",
       "0  4_Zone  hen_100  pen5  3 - 5                 1 2020-10-27 00:03:07   \n",
       "1  5_Zone  hen_100  pen5  3 - 5                 1 2020-10-27 00:03:12   \n",
       "\n",
       "        date  duration  \n",
       "0 2020-10-27       5.0  \n",
       "1 2020-10-27    1060.0  "
      ]
     },
     "metadata": {},
     "output_type": "display_data"
    },
    {
     "name": "stderr",
     "output_type": "stream",
     "text": [
      "\r",
      "  0%|                                                                                            | 0/8 [00:00<?, ?it/s]"
     ]
    },
    {
     "name": "stdout",
     "output_type": "stream",
     "text": [
      "----------------- Create time serie\n",
      "in this time series there is 23 hens\n",
      "The initial starting date in over all is: 2020-10-27 00:03:07, and the ending date will be: 2021-01-18 08:36:57\n",
      "But note that birds may have different ending and starting date which should be taken into account when computing variables\n",
      "and after ending the last day at midnight : 2020-10-27 00:03:07, and the ending date will be: 2021-01-18 23:59:59\n",
      "Total running time: 1.93 mn\n",
      "your time series has 1 seconds between two timestamps\n",
      "----------------- main night zone and nbr of transitions over night....\n",
      "----------------- total duration per Zone in seconds....\n",
      "----------------- first timestamp in each zone per day....\n",
      "----------------- number of Zone (excluding nan)....\n",
      "----------------- compute some variables based on a list of zones over a day....\n",
      "----------------NESTBOX\n"
     ]
    },
    {
     "name": "stderr",
     "output_type": "stream",
     "text": [
      "C:\\Users\\camil\\anaconda3\\lib\\site-packages\\numpy\\lib\\nanfunctions.py:1366: RuntimeWarning: Mean of empty slice\n",
      "  return np.nanmean(a, axis, out=out, keepdims=keepdims)\n"
     ]
    },
    {
     "name": "stdout",
     "output_type": "stream",
     "text": [
      "-------------- Lets remove unwanted dates at PENS level\n"
     ]
    },
    {
     "data": {
      "text/html": [
       "<text style=color:black>By removing the unwanted days we passed from 1848 to 1636 timestamp (losing </text> <text style=color:red>212</text> <text style=color:black> timestamp)</text>"
      ],
      "text/plain": [
       "<IPython.core.display.HTML object>"
      ]
     },
     "metadata": {},
     "output_type": "display_data"
    },
    {
     "name": "stdout",
     "output_type": "stream",
     "text": [
      "-------------- Lets remove dates that impacted few hens\n"
     ]
    },
    {
     "data": {
      "text/html": [
       "<text style=color:black>By removing the unwanted days we passed from 1636 to 1467 timestamp (losing </text> <text style=color:red>169</text> <text style=color:black> timestamp)</text>"
      ],
      "text/plain": [
       "<IPython.core.display.HTML object>"
      ]
     },
     "metadata": {},
     "output_type": "display_data"
    },
    {
     "name": "stdout",
     "output_type": "stream",
     "text": [
      "All the night variables are:  Index(['HenID', 'night_level', 'night_Max_duration_zones',\n",
      "       'night_Total_number_transition', 'nbr_transition_at_h0',\n",
      "       'nbr_transition_at_h1', 'nbr_transition_at_h2', 'nbr_transition_at_h3',\n",
      "       'nbr_transition_at_h4', 'nbr_transition_at_h21',\n",
      "       'nbr_transition_at_h22', 'nbr_transition_at_h23',\n",
      "       'nbr_transition_next1hafterlightoff', 'level', 'PenID', 'CLASS',\n",
      "       'TagID', 'FocalLegringName', 'R-Pen', 'InitialStartDate',\n",
      "       '29-09 weight', '10-12 juin weight', 'weight 23-11-2020',\n",
      "       'weight 04-01-2021'],\n",
      "      dtype='object')\n",
      "['night_level']\n",
      "-------------- Lets remove dates of tags when they were not giving deviceupdate regularly\n"
     ]
    },
    {
     "data": {
      "text/html": [
       "<text style=color:black>By removing the unwanted days we passed from 1709 to 1675 timestamp (losing </text> <text style=color:red>34</text> <text style=color:black> timestamp)</text>"
      ],
      "text/plain": [
       "<IPython.core.display.HTML object>"
      ]
     },
     "metadata": {},
     "output_type": "display_data"
    },
    {
     "name": "stdout",
     "output_type": "stream",
     "text": [
      "-------------- Lets remove the 30.09.2020 for the tags taht still had no transition from before the light went on \n"
     ]
    },
    {
     "data": {
      "text/html": [
       "<text style=color:black>By removing the unwanted days we passed from 1675 to 1675 timestamp (losing </text> <text style=color:red>0</text> <text style=color:black> timestamp)</text>"
      ],
      "text/plain": [
       "<IPython.core.display.HTML object>"
      ]
     },
     "metadata": {},
     "output_type": "display_data"
    },
    {
     "name": "stdout",
     "output_type": "stream",
     "text": [
      "save\n",
      "Total running time: 14.68 mn\n"
     ]
    },
    {
     "name": "stderr",
     "output_type": "stream",
     "text": [
      "\r",
      " 12%|██████████▏                                                                      | 1/8 [14:43<1:43:01, 883.05s/it]"
     ]
    },
    {
     "name": "stdout",
     "output_type": "stream",
     "text": [
      "(1675, 126)\n",
      "----------------- Create time serie\n",
      "in this time series there is 22 hens\n",
      "The initial starting date in over all is: 2020-10-27 00:15:39, and the ending date will be: 2021-01-18 08:37:33\n",
      "But note that birds may have different ending and starting date which should be taken into account when computing variables\n",
      "and after ending the last day at midnight : 2020-10-27 00:15:39, and the ending date will be: 2021-01-18 23:59:59\n",
      "Total running time: 1.96 mn\n",
      "your time series has 1 seconds between two timestamps\n",
      "----------------- main night zone and nbr of transitions over night....\n",
      "----------------- total duration per Zone in seconds....\n",
      "----------------- first timestamp in each zone per day....\n",
      "----------------- number of Zone (excluding nan)....\n",
      "----------------- compute some variables based on a list of zones over a day....\n",
      "several max-duration-zone\n",
      "----------------NESTBOX\n"
     ]
    },
    {
     "name": "stderr",
     "output_type": "stream",
     "text": [
      "C:\\Users\\camil\\anaconda3\\lib\\site-packages\\numpy\\lib\\nanfunctions.py:1366: RuntimeWarning: Mean of empty slice\n",
      "  return np.nanmean(a, axis, out=out, keepdims=keepdims)\n"
     ]
    },
    {
     "name": "stdout",
     "output_type": "stream",
     "text": [
      "-------------- Lets remove unwanted dates at PENS level\n"
     ]
    },
    {
     "data": {
      "text/html": [
       "<text style=color:black>By removing the unwanted days we passed from 1792 to 1684 timestamp (losing </text> <text style=color:red>108</text> <text style=color:black> timestamp)</text>"
      ],
      "text/plain": [
       "<IPython.core.display.HTML object>"
      ]
     },
     "metadata": {},
     "output_type": "display_data"
    },
    {
     "name": "stdout",
     "output_type": "stream",
     "text": [
      "-------------- Lets remove dates that impacted few hens\n"
     ]
    },
    {
     "data": {
      "text/html": [
       "<text style=color:black>By removing the unwanted days we passed from 1684 to 1580 timestamp (losing </text> <text style=color:red>104</text> <text style=color:black> timestamp)</text>"
      ],
      "text/plain": [
       "<IPython.core.display.HTML object>"
      ]
     },
     "metadata": {},
     "output_type": "display_data"
    },
    {
     "name": "stdout",
     "output_type": "stream",
     "text": [
      "All the night variables are:  Index(['HenID', 'night_level', 'night_Max_duration_zones',\n",
      "       'night_Total_number_transition', 'nbr_transition_at_h0',\n",
      "       'nbr_transition_at_h1', 'nbr_transition_at_h2', 'nbr_transition_at_h3',\n",
      "       'nbr_transition_at_h4', 'nbr_transition_at_h21',\n",
      "       'nbr_transition_at_h22', 'nbr_transition_at_h23',\n",
      "       'nbr_transition_next1hafterlightoff', 'level', 'PenID', 'CLASS',\n",
      "       'TagID', 'FocalLegringName', 'R-Pen', 'InitialStartDate',\n",
      "       '29-09 weight', '10-12 juin weight', 'weight 23-11-2020',\n",
      "       'weight 04-01-2021'],\n",
      "      dtype='object')\n",
      "['night_level']\n",
      "-------------- Lets remove dates of tags when they were not giving deviceupdate regularly\n"
     ]
    },
    {
     "data": {
      "text/html": [
       "<text style=color:black>By removing the unwanted days we passed from 1756 to 1734 timestamp (losing </text> <text style=color:red>22</text> <text style=color:black> timestamp)</text>"
      ],
      "text/plain": [
       "<IPython.core.display.HTML object>"
      ]
     },
     "metadata": {},
     "output_type": "display_data"
    },
    {
     "name": "stdout",
     "output_type": "stream",
     "text": [
      "-------------- Lets remove the 30.09.2020 for the tags taht still had no transition from before the light went on \n"
     ]
    },
    {
     "data": {
      "text/html": [
       "<text style=color:black>By removing the unwanted days we passed from 1734 to 1734 timestamp (losing </text> <text style=color:red>0</text> <text style=color:black> timestamp)</text>"
      ],
      "text/plain": [
       "<IPython.core.display.HTML object>"
      ]
     },
     "metadata": {},
     "output_type": "display_data"
    },
    {
     "name": "stdout",
     "output_type": "stream",
     "text": [
      "save\n"
     ]
    },
    {
     "name": "stderr",
     "output_type": "stream",
     "text": [
      "\r",
      " 25%|████████████████████▎                                                            | 2/8 [28:08<1:25:58, 859.76s/it]"
     ]
    },
    {
     "name": "stdout",
     "output_type": "stream",
     "text": [
      "Total running time: 13.39 mn\n",
      "(1734, 126)\n",
      "----------------- Create time serie\n",
      "in this time series there is 22 hens\n",
      "The initial starting date in over all is: 2020-10-27 00:22:38, and the ending date will be: 2021-01-18 08:39:27\n",
      "But note that birds may have different ending and starting date which should be taken into account when computing variables\n",
      "and after ending the last day at midnight : 2020-10-27 00:22:38, and the ending date will be: 2021-01-18 23:59:59\n",
      "Total running time: 1.60 mn\n",
      "your time series has 1 seconds between two timestamps\n",
      "----------------- main night zone and nbr of transitions over night....\n",
      "----------------- total duration per Zone in seconds....\n",
      "----------------- first timestamp in each zone per day....\n",
      "----------------- number of Zone (excluding nan)....\n",
      "----------------- compute some variables based on a list of zones over a day....\n",
      "----------------NESTBOX\n"
     ]
    },
    {
     "name": "stderr",
     "output_type": "stream",
     "text": [
      "C:\\Users\\camil\\anaconda3\\lib\\site-packages\\numpy\\lib\\nanfunctions.py:1366: RuntimeWarning: Mean of empty slice\n",
      "  return np.nanmean(a, axis, out=out, keepdims=keepdims)\n"
     ]
    },
    {
     "name": "stdout",
     "output_type": "stream",
     "text": [
      "-------------- Lets remove unwanted dates at PENS level\n"
     ]
    },
    {
     "data": {
      "text/html": [
       "<text style=color:black>By removing the unwanted days we passed from 1791 to 1727 timestamp (losing </text> <text style=color:red>64</text> <text style=color:black> timestamp)</text>"
      ],
      "text/plain": [
       "<IPython.core.display.HTML object>"
      ]
     },
     "metadata": {},
     "output_type": "display_data"
    },
    {
     "name": "stdout",
     "output_type": "stream",
     "text": [
      "-------------- Lets remove dates that impacted few hens\n"
     ]
    },
    {
     "data": {
      "text/html": [
       "<text style=color:black>By removing the unwanted days we passed from 1727 to 1619 timestamp (losing </text> <text style=color:red>108</text> <text style=color:black> timestamp)</text>"
      ],
      "text/plain": [
       "<IPython.core.display.HTML object>"
      ]
     },
     "metadata": {},
     "output_type": "display_data"
    },
    {
     "name": "stdout",
     "output_type": "stream",
     "text": [
      "All the night variables are:  Index(['HenID', 'night_level', 'night_Max_duration_zones',\n",
      "       'night_Total_number_transition', 'nbr_transition_at_h0',\n",
      "       'nbr_transition_at_h1', 'nbr_transition_at_h2', 'nbr_transition_at_h3',\n",
      "       'nbr_transition_at_h4', 'nbr_transition_at_h21',\n",
      "       'nbr_transition_at_h22', 'nbr_transition_at_h23',\n",
      "       'nbr_transition_next1hafterlightoff', 'level', 'PenID', 'CLASS',\n",
      "       'TagID', 'FocalLegringName', 'R-Pen', 'InitialStartDate',\n",
      "       '29-09 weight', '10-12 juin weight', 'weight 23-11-2020',\n",
      "       'weight 04-01-2021'],\n",
      "      dtype='object')\n",
      "['night_level']\n",
      "-------------- Lets remove dates of tags when they were not giving deviceupdate regularly\n"
     ]
    },
    {
     "data": {
      "text/html": [
       "<text style=color:black>By removing the unwanted days we passed from 1753 to 1734 timestamp (losing </text> <text style=color:red>19</text> <text style=color:black> timestamp)</text>"
      ],
      "text/plain": [
       "<IPython.core.display.HTML object>"
      ]
     },
     "metadata": {},
     "output_type": "display_data"
    },
    {
     "name": "stdout",
     "output_type": "stream",
     "text": [
      "-------------- Lets remove the 30.09.2020 for the tags taht still had no transition from before the light went on \n"
     ]
    },
    {
     "data": {
      "text/html": [
       "<text style=color:black>By removing the unwanted days we passed from 1734 to 1734 timestamp (losing </text> <text style=color:red>0</text> <text style=color:black> timestamp)</text>"
      ],
      "text/plain": [
       "<IPython.core.display.HTML object>"
      ]
     },
     "metadata": {},
     "output_type": "display_data"
    },
    {
     "name": "stdout",
     "output_type": "stream",
     "text": [
      "save\n"
     ]
    },
    {
     "name": "stderr",
     "output_type": "stream",
     "text": [
      "\r",
      " 38%|██████████████████████████████▍                                                  | 3/8 [40:12<1:08:14, 818.96s/it]"
     ]
    },
    {
     "name": "stdout",
     "output_type": "stream",
     "text": [
      "Total running time: 12.03 mn\n",
      "(1734, 126)\n",
      "----------------- Create time serie\n",
      "in this time series there is 23 hens\n",
      "The initial starting date in over all is: 2020-10-27 00:36:34, and the ending date will be: 2021-01-18 08:39:32\n",
      "But note that birds may have different ending and starting date which should be taken into account when computing variables\n",
      "and after ending the last day at midnight : 2020-10-27 00:36:34, and the ending date will be: 2021-01-18 23:59:59\n",
      "Total running time: 1.54 mn\n",
      "your time series has 1 seconds between two timestamps\n",
      "----------------- main night zone and nbr of transitions over night....\n",
      "----------------- total duration per Zone in seconds....\n",
      "----------------- first timestamp in each zone per day....\n",
      "----------------- number of Zone (excluding nan)....\n",
      "----------------- compute some variables based on a list of zones over a day....\n",
      "----------------NESTBOX\n"
     ]
    },
    {
     "name": "stderr",
     "output_type": "stream",
     "text": [
      "C:\\Users\\camil\\anaconda3\\lib\\site-packages\\numpy\\lib\\nanfunctions.py:1366: RuntimeWarning: Mean of empty slice\n",
      "  return np.nanmean(a, axis, out=out, keepdims=keepdims)\n"
     ]
    },
    {
     "name": "stdout",
     "output_type": "stream",
     "text": [
      "-------------- Lets remove unwanted dates at PENS level\n"
     ]
    },
    {
     "data": {
      "text/html": [
       "<text style=color:black>By removing the unwanted days we passed from 1870 to 1803 timestamp (losing </text> <text style=color:red>67</text> <text style=color:black> timestamp)</text>"
      ],
      "text/plain": [
       "<IPython.core.display.HTML object>"
      ]
     },
     "metadata": {},
     "output_type": "display_data"
    },
    {
     "name": "stdout",
     "output_type": "stream",
     "text": [
      "-------------- Lets remove dates that impacted few hens\n"
     ]
    },
    {
     "data": {
      "text/html": [
       "<text style=color:black>By removing the unwanted days we passed from 1803 to 1616 timestamp (losing </text> <text style=color:red>187</text> <text style=color:black> timestamp)</text>"
      ],
      "text/plain": [
       "<IPython.core.display.HTML object>"
      ]
     },
     "metadata": {},
     "output_type": "display_data"
    },
    {
     "name": "stdout",
     "output_type": "stream",
     "text": [
      "All the night variables are:  Index(['HenID', 'night_level', 'night_Max_duration_zones',\n",
      "       'night_Total_number_transition', 'nbr_transition_at_h0',\n",
      "       'nbr_transition_at_h1', 'nbr_transition_at_h2', 'nbr_transition_at_h3',\n",
      "       'nbr_transition_at_h4', 'nbr_transition_at_h21',\n",
      "       'nbr_transition_at_h22', 'nbr_transition_at_h23',\n",
      "       'nbr_transition_next1hafterlightoff', 'level', 'PenID', 'CLASS',\n",
      "       'TagID', 'FocalLegringName', 'R-Pen', 'InitialStartDate',\n",
      "       '29-09 weight', '10-12 juin weight', 'weight 23-11-2020',\n",
      "       'weight 04-01-2021'],\n",
      "      dtype='object')\n",
      "['night_level']\n",
      "-------------- Lets remove dates of tags when they were not giving deviceupdate regularly\n"
     ]
    },
    {
     "data": {
      "text/html": [
       "<text style=color:black>By removing the unwanted days we passed from 1831 to 1808 timestamp (losing </text> <text style=color:red>23</text> <text style=color:black> timestamp)</text>"
      ],
      "text/plain": [
       "<IPython.core.display.HTML object>"
      ]
     },
     "metadata": {},
     "output_type": "display_data"
    },
    {
     "name": "stdout",
     "output_type": "stream",
     "text": [
      "-------------- Lets remove the 30.09.2020 for the tags taht still had no transition from before the light went on \n"
     ]
    },
    {
     "data": {
      "text/html": [
       "<text style=color:black>By removing the unwanted days we passed from 1808 to 1808 timestamp (losing </text> <text style=color:red>0</text> <text style=color:black> timestamp)</text>"
      ],
      "text/plain": [
       "<IPython.core.display.HTML object>"
      ]
     },
     "metadata": {},
     "output_type": "display_data"
    },
    {
     "name": "stdout",
     "output_type": "stream",
     "text": [
      "save\n"
     ]
    },
    {
     "name": "stderr",
     "output_type": "stream",
     "text": [
      "\r",
      " 50%|█████████████████████████████████████████▌                                         | 4/8 [52:02<52:25, 786.28s/it]"
     ]
    },
    {
     "name": "stdout",
     "output_type": "stream",
     "text": [
      "Total running time: 11.80 mn\n",
      "(1808, 126)\n",
      "----------------- Create time serie\n",
      "in this time series there is 22 hens\n",
      "The initial starting date in over all is: 2020-10-27 00:46:06, and the ending date will be: 2021-01-18 08:41:28\n",
      "But note that birds may have different ending and starting date which should be taken into account when computing variables\n",
      "and after ending the last day at midnight : 2020-10-27 00:46:06, and the ending date will be: 2021-01-18 23:59:59\n",
      "Total running time: 1.49 mn\n",
      "your time series has 1 seconds between two timestamps\n",
      "----------------- main night zone and nbr of transitions over night....\n",
      "----------------- total duration per Zone in seconds....\n",
      "----------------- first timestamp in each zone per day....\n",
      "----------------- number of Zone (excluding nan)....\n",
      "----------------- compute some variables based on a list of zones over a day....\n",
      "several max-duration-zone\n",
      "----------------NESTBOX\n"
     ]
    },
    {
     "name": "stderr",
     "output_type": "stream",
     "text": [
      "C:\\Users\\camil\\anaconda3\\lib\\site-packages\\numpy\\lib\\nanfunctions.py:1366: RuntimeWarning: Mean of empty slice\n",
      "  return np.nanmean(a, axis, out=out, keepdims=keepdims)\n"
     ]
    },
    {
     "name": "stdout",
     "output_type": "stream",
     "text": [
      "-------------- Lets remove unwanted dates at PENS level\n"
     ]
    },
    {
     "data": {
      "text/html": [
       "<text style=color:black>By removing the unwanted days we passed from 1792 to 1728 timestamp (losing </text> <text style=color:red>64</text> <text style=color:black> timestamp)</text>"
      ],
      "text/plain": [
       "<IPython.core.display.HTML object>"
      ]
     },
     "metadata": {},
     "output_type": "display_data"
    },
    {
     "name": "stdout",
     "output_type": "stream",
     "text": [
      "-------------- Lets remove dates that impacted few hens\n"
     ]
    },
    {
     "data": {
      "text/html": [
       "<text style=color:black>By removing the unwanted days we passed from 1728 to 1620 timestamp (losing </text> <text style=color:red>108</text> <text style=color:black> timestamp)</text>"
      ],
      "text/plain": [
       "<IPython.core.display.HTML object>"
      ]
     },
     "metadata": {},
     "output_type": "display_data"
    },
    {
     "name": "stdout",
     "output_type": "stream",
     "text": [
      "All the night variables are:  Index(['HenID', 'night_level', 'night_Max_duration_zones',\n",
      "       'night_Total_number_transition', 'nbr_transition_at_h0',\n",
      "       'nbr_transition_at_h1', 'nbr_transition_at_h2', 'nbr_transition_at_h3',\n",
      "       'nbr_transition_at_h4', 'nbr_transition_at_h21',\n",
      "       'nbr_transition_at_h22', 'nbr_transition_at_h23',\n",
      "       'nbr_transition_next1hafterlightoff', 'level', 'PenID', 'CLASS',\n",
      "       'TagID', 'FocalLegringName', 'R-Pen', 'InitialStartDate',\n",
      "       '29-09 weight', '10-12 juin weight', 'weight 23-11-2020',\n",
      "       'weight 04-01-2021'],\n",
      "      dtype='object')\n",
      "['night_level']\n",
      "-------------- Lets remove dates of tags when they were not giving deviceupdate regularly\n"
     ]
    },
    {
     "data": {
      "text/html": [
       "<text style=color:black>By removing the unwanted days we passed from 1759 to 1734 timestamp (losing </text> <text style=color:red>25</text> <text style=color:black> timestamp)</text>"
      ],
      "text/plain": [
       "<IPython.core.display.HTML object>"
      ]
     },
     "metadata": {},
     "output_type": "display_data"
    },
    {
     "name": "stdout",
     "output_type": "stream",
     "text": [
      "-------------- Lets remove the 30.09.2020 for the tags taht still had no transition from before the light went on \n"
     ]
    },
    {
     "data": {
      "text/html": [
       "<text style=color:black>By removing the unwanted days we passed from 1734 to 1734 timestamp (losing </text> <text style=color:red>0</text> <text style=color:black> timestamp)</text>"
      ],
      "text/plain": [
       "<IPython.core.display.HTML object>"
      ]
     },
     "metadata": {},
     "output_type": "display_data"
    },
    {
     "name": "stdout",
     "output_type": "stream",
     "text": [
      "save\n"
     ]
    },
    {
     "name": "stderr",
     "output_type": "stream",
     "text": [
      "\r",
      " 62%|██████████████████████████████████████████████████▋                              | 5/8 [1:03:34<37:54, 758.00s/it]"
     ]
    },
    {
     "name": "stdout",
     "output_type": "stream",
     "text": [
      "Total running time: 11.50 mn\n",
      "(1734, 126)\n",
      "----------------- Create time serie\n",
      "in this time series there is 23 hens\n",
      "The initial starting date in over all is: 2020-10-27 02:07:16, and the ending date will be: 2021-01-18 08:40:40\n",
      "But note that birds may have different ending and starting date which should be taken into account when computing variables\n",
      "and after ending the last day at midnight : 2020-10-27 02:07:16, and the ending date will be: 2021-01-18 23:59:59\n",
      "Total running time: 1.52 mn\n",
      "your time series has 1 seconds between two timestamps\n",
      "----------------- main night zone and nbr of transitions over night....\n",
      "----------------- total duration per Zone in seconds....\n",
      "----------------- first timestamp in each zone per day....\n",
      "----------------- number of Zone (excluding nan)....\n",
      "----------------- compute some variables based on a list of zones over a day....\n",
      "----------------NESTBOX\n"
     ]
    },
    {
     "name": "stderr",
     "output_type": "stream",
     "text": [
      "C:\\Users\\camil\\anaconda3\\lib\\site-packages\\numpy\\lib\\nanfunctions.py:1366: RuntimeWarning: Mean of empty slice\n",
      "  return np.nanmean(a, axis, out=out, keepdims=keepdims)\n"
     ]
    },
    {
     "name": "stdout",
     "output_type": "stream",
     "text": [
      "-------------- Lets remove unwanted dates at PENS level\n"
     ]
    },
    {
     "data": {
      "text/html": [
       "<text style=color:black>By removing the unwanted days we passed from 1848 to 1782 timestamp (losing </text> <text style=color:red>66</text> <text style=color:black> timestamp)</text>"
      ],
      "text/plain": [
       "<IPython.core.display.HTML object>"
      ]
     },
     "metadata": {},
     "output_type": "display_data"
    },
    {
     "name": "stdout",
     "output_type": "stream",
     "text": [
      "-------------- Lets remove dates that impacted few hens\n"
     ]
    },
    {
     "data": {
      "text/html": [
       "<text style=color:black>By removing the unwanted days we passed from 1782 to 1617 timestamp (losing </text> <text style=color:red>165</text> <text style=color:black> timestamp)</text>"
      ],
      "text/plain": [
       "<IPython.core.display.HTML object>"
      ]
     },
     "metadata": {},
     "output_type": "display_data"
    },
    {
     "name": "stdout",
     "output_type": "stream",
     "text": [
      "All the night variables are:  Index(['HenID', 'night_level', 'night_Max_duration_zones',\n",
      "       'night_Total_number_transition', 'nbr_transition_at_h0',\n",
      "       'nbr_transition_at_h1', 'nbr_transition_at_h2', 'nbr_transition_at_h3',\n",
      "       'nbr_transition_at_h4', 'nbr_transition_at_h21',\n",
      "       'nbr_transition_at_h22', 'nbr_transition_at_h23',\n",
      "       'nbr_transition_next1hafterlightoff', 'level', 'PenID', 'CLASS',\n",
      "       'TagID', 'FocalLegringName', 'R-Pen', 'InitialStartDate',\n",
      "       '29-09 weight', '10-12 juin weight', 'weight 23-11-2020',\n",
      "       'weight 04-01-2021'],\n",
      "      dtype='object')\n",
      "['night_level']\n",
      "-------------- Lets remove dates of tags when they were not giving deviceupdate regularly\n"
     ]
    },
    {
     "data": {
      "text/html": [
       "<text style=color:black>By removing the unwanted days we passed from 1814 to 1786 timestamp (losing </text> <text style=color:red>28</text> <text style=color:black> timestamp)</text>"
      ],
      "text/plain": [
       "<IPython.core.display.HTML object>"
      ]
     },
     "metadata": {},
     "output_type": "display_data"
    },
    {
     "name": "stdout",
     "output_type": "stream",
     "text": [
      "-------------- Lets remove the 30.09.2020 for the tags taht still had no transition from before the light went on \n"
     ]
    },
    {
     "data": {
      "text/html": [
       "<text style=color:black>By removing the unwanted days we passed from 1786 to 1786 timestamp (losing </text> <text style=color:red>0</text> <text style=color:black> timestamp)</text>"
      ],
      "text/plain": [
       "<IPython.core.display.HTML object>"
      ]
     },
     "metadata": {},
     "output_type": "display_data"
    },
    {
     "name": "stdout",
     "output_type": "stream",
     "text": [
      "save\n"
     ]
    },
    {
     "name": "stderr",
     "output_type": "stream",
     "text": [
      "\r",
      " 75%|████████████████████████████████████████████████████████████▊                    | 6/8 [1:15:34<24:53, 746.64s/it]"
     ]
    },
    {
     "name": "stdout",
     "output_type": "stream",
     "text": [
      "Total running time: 11.97 mn\n",
      "(1786, 126)\n",
      "----------------- Create time serie\n",
      "in this time series there is 22 hens\n",
      "The initial starting date in over all is: 2020-10-27 02:13:34, and the ending date will be: 2021-01-18 08:37:18\n",
      "But note that birds may have different ending and starting date which should be taken into account when computing variables\n",
      "and after ending the last day at midnight : 2020-10-27 02:13:34, and the ending date will be: 2021-01-18 23:59:59\n",
      "Total running time: 1.73 mn\n",
      "your time series has 1 seconds between two timestamps\n",
      "----------------- main night zone and nbr of transitions over night....\n",
      "----------------- total duration per Zone in seconds....\n",
      "----------------- first timestamp in each zone per day....\n",
      "----------------- number of Zone (excluding nan)....\n",
      "----------------- compute some variables based on a list of zones over a day....\n",
      "----------------NESTBOX\n"
     ]
    },
    {
     "name": "stderr",
     "output_type": "stream",
     "text": [
      "C:\\Users\\camil\\anaconda3\\lib\\site-packages\\numpy\\lib\\nanfunctions.py:1366: RuntimeWarning: Mean of empty slice\n",
      "  return np.nanmean(a, axis, out=out, keepdims=keepdims)\n"
     ]
    },
    {
     "name": "stdout",
     "output_type": "stream",
     "text": [
      "-------------- Lets remove unwanted dates at PENS level\n"
     ]
    },
    {
     "data": {
      "text/html": [
       "<text style=color:black>By removing the unwanted days we passed from 1792 to 1684 timestamp (losing </text> <text style=color:red>108</text> <text style=color:black> timestamp)</text>"
      ],
      "text/plain": [
       "<IPython.core.display.HTML object>"
      ]
     },
     "metadata": {},
     "output_type": "display_data"
    },
    {
     "name": "stdout",
     "output_type": "stream",
     "text": [
      "-------------- Lets remove dates that impacted few hens\n"
     ]
    },
    {
     "data": {
      "text/html": [
       "<text style=color:black>By removing the unwanted days we passed from 1684 to 1580 timestamp (losing </text> <text style=color:red>104</text> <text style=color:black> timestamp)</text>"
      ],
      "text/plain": [
       "<IPython.core.display.HTML object>"
      ]
     },
     "metadata": {},
     "output_type": "display_data"
    },
    {
     "name": "stdout",
     "output_type": "stream",
     "text": [
      "All the night variables are:  Index(['HenID', 'night_level', 'night_Max_duration_zones',\n",
      "       'night_Total_number_transition', 'nbr_transition_at_h0',\n",
      "       'nbr_transition_at_h1', 'nbr_transition_at_h2', 'nbr_transition_at_h3',\n",
      "       'nbr_transition_at_h4', 'nbr_transition_at_h21',\n",
      "       'nbr_transition_at_h22', 'nbr_transition_at_h23',\n",
      "       'nbr_transition_next1hafterlightoff', 'level', 'PenID', 'CLASS',\n",
      "       'TagID', 'FocalLegringName', 'R-Pen', 'InitialStartDate',\n",
      "       '29-09 weight', '10-12 juin weight', 'weight 23-11-2020',\n",
      "       'weight 04-01-2021'],\n",
      "      dtype='object')\n",
      "['night_level']\n",
      "-------------- Lets remove dates of tags when they were not giving deviceupdate regularly\n"
     ]
    },
    {
     "data": {
      "text/html": [
       "<text style=color:black>By removing the unwanted days we passed from 1752 to 1730 timestamp (losing </text> <text style=color:red>22</text> <text style=color:black> timestamp)</text>"
      ],
      "text/plain": [
       "<IPython.core.display.HTML object>"
      ]
     },
     "metadata": {},
     "output_type": "display_data"
    },
    {
     "name": "stdout",
     "output_type": "stream",
     "text": [
      "-------------- Lets remove the 30.09.2020 for the tags taht still had no transition from before the light went on \n"
     ]
    },
    {
     "data": {
      "text/html": [
       "<text style=color:black>By removing the unwanted days we passed from 1730 to 1730 timestamp (losing </text> <text style=color:red>0</text> <text style=color:black> timestamp)</text>"
      ],
      "text/plain": [
       "<IPython.core.display.HTML object>"
      ]
     },
     "metadata": {},
     "output_type": "display_data"
    },
    {
     "name": "stdout",
     "output_type": "stream",
     "text": [
      "save\n"
     ]
    },
    {
     "name": "stderr",
     "output_type": "stream",
     "text": [
      "\r",
      " 88%|██████████████████████████████████████████████████████████████████████▉          | 7/8 [1:28:26<12:34, 754.31s/it]"
     ]
    },
    {
     "name": "stdout",
     "output_type": "stream",
     "text": [
      "Total running time: 12.84 mn\n",
      "(1730, 126)\n",
      "----------------- Create time serie\n",
      "in this time series there is 22 hens\n",
      "The initial starting date in over all is: 2020-10-27 04:29:01, and the ending date will be: 2021-01-18 08:41:21\n",
      "But note that birds may have different ending and starting date which should be taken into account when computing variables\n",
      "and after ending the last day at midnight : 2020-10-27 04:29:01, and the ending date will be: 2021-01-18 23:59:59\n",
      "Total running time: 1.72 mn\n",
      "your time series has 1 seconds between two timestamps\n",
      "----------------- main night zone and nbr of transitions over night....\n",
      "----------------- total duration per Zone in seconds....\n",
      "----------------- first timestamp in each zone per day....\n",
      "----------------- number of Zone (excluding nan)....\n",
      "----------------- compute some variables based on a list of zones over a day....\n",
      "----------------NESTBOX\n"
     ]
    },
    {
     "name": "stderr",
     "output_type": "stream",
     "text": [
      "C:\\Users\\camil\\anaconda3\\lib\\site-packages\\numpy\\lib\\nanfunctions.py:1366: RuntimeWarning: Mean of empty slice\n",
      "  return np.nanmean(a, axis, out=out, keepdims=keepdims)\n"
     ]
    },
    {
     "name": "stdout",
     "output_type": "stream",
     "text": [
      "-------------- Lets remove unwanted dates at PENS level\n"
     ]
    },
    {
     "data": {
      "text/html": [
       "<text style=color:black>By removing the unwanted days we passed from 1792 to 1728 timestamp (losing </text> <text style=color:red>64</text> <text style=color:black> timestamp)</text>"
      ],
      "text/plain": [
       "<IPython.core.display.HTML object>"
      ]
     },
     "metadata": {},
     "output_type": "display_data"
    },
    {
     "name": "stdout",
     "output_type": "stream",
     "text": [
      "-------------- Lets remove dates that impacted few hens\n"
     ]
    },
    {
     "data": {
      "text/html": [
       "<text style=color:black>By removing the unwanted days we passed from 1728 to 1620 timestamp (losing </text> <text style=color:red>108</text> <text style=color:black> timestamp)</text>"
      ],
      "text/plain": [
       "<IPython.core.display.HTML object>"
      ]
     },
     "metadata": {},
     "output_type": "display_data"
    },
    {
     "name": "stdout",
     "output_type": "stream",
     "text": [
      "All the night variables are:  Index(['HenID', 'night_level', 'night_Max_duration_zones',\n",
      "       'night_Total_number_transition', 'nbr_transition_at_h0',\n",
      "       'nbr_transition_at_h1', 'nbr_transition_at_h2', 'nbr_transition_at_h3',\n",
      "       'nbr_transition_at_h4', 'nbr_transition_at_h21',\n",
      "       'nbr_transition_at_h22', 'nbr_transition_at_h23',\n",
      "       'nbr_transition_next1hafterlightoff', 'level', 'PenID', 'CLASS',\n",
      "       'TagID', 'FocalLegringName', 'R-Pen', 'InitialStartDate',\n",
      "       '29-09 weight', '10-12 juin weight', 'weight 23-11-2020',\n",
      "       'weight 04-01-2021'],\n",
      "      dtype='object')\n",
      "['night_level']\n",
      "-------------- Lets remove dates of tags when they were not giving deviceupdate regularly\n"
     ]
    },
    {
     "data": {
      "text/html": [
       "<text style=color:black>By removing the unwanted days we passed from 1752 to 1730 timestamp (losing </text> <text style=color:red>22</text> <text style=color:black> timestamp)</text>"
      ],
      "text/plain": [
       "<IPython.core.display.HTML object>"
      ]
     },
     "metadata": {},
     "output_type": "display_data"
    },
    {
     "name": "stdout",
     "output_type": "stream",
     "text": [
      "-------------- Lets remove the 30.09.2020 for the tags taht still had no transition from before the light went on \n"
     ]
    },
    {
     "data": {
      "text/html": [
       "<text style=color:black>By removing the unwanted days we passed from 1730 to 1730 timestamp (losing </text> <text style=color:red>0</text> <text style=color:black> timestamp)</text>"
      ],
      "text/plain": [
       "<IPython.core.display.HTML object>"
      ]
     },
     "metadata": {},
     "output_type": "display_data"
    },
    {
     "name": "stdout",
     "output_type": "stream",
     "text": [
      "save\n"
     ]
    },
    {
     "name": "stderr",
     "output_type": "stream",
     "text": [
      "100%|█████████████████████████████████████████████████████████████████████████████████| 8/8 [1:40:49<00:00, 756.25s/it]\n",
      "  0%|                                                                                            | 0/8 [00:00<?, ?it/s]"
     ]
    },
    {
     "name": "stdout",
     "output_type": "stream",
     "text": [
      "Total running time: 12.36 mn\n",
      "(1730, 126)\n",
      "Total running time: 100.84 mn\n"
     ]
    },
    {
     "name": "stderr",
     "output_type": "stream",
     "text": [
      "\r",
      " 12%|██████████▌                                                                         | 1/8 [00:05<00:39,  5.66s/it]"
     ]
    },
    {
     "name": "stdout",
     "output_type": "stream",
     "text": [
      "(1734, 126)\n"
     ]
    },
    {
     "name": "stderr",
     "output_type": "stream",
     "text": [
      "\r",
      " 25%|█████████████████████                                                               | 2/8 [00:11<00:34,  5.80s/it]"
     ]
    },
    {
     "name": "stdout",
     "output_type": "stream",
     "text": [
      "(1730, 126)\n"
     ]
    },
    {
     "name": "stderr",
     "output_type": "stream",
     "text": [
      "\r",
      " 38%|███████████████████████████████▌                                                    | 3/8 [00:19<00:31,  6.32s/it]"
     ]
    },
    {
     "name": "stdout",
     "output_type": "stream",
     "text": [
      "(1786, 126)\n"
     ]
    },
    {
     "name": "stderr",
     "output_type": "stream",
     "text": [
      "\r",
      " 50%|██████████████████████████████████████████                                          | 4/8 [00:24<00:24,  6.06s/it]"
     ]
    },
    {
     "name": "stdout",
     "output_type": "stream",
     "text": [
      "(1730, 126)\n"
     ]
    },
    {
     "name": "stderr",
     "output_type": "stream",
     "text": [
      "\r",
      " 62%|████████████████████████████████████████████████████▌                               | 5/8 [00:30<00:17,  5.89s/it]"
     ]
    },
    {
     "name": "stdout",
     "output_type": "stream",
     "text": [
      "(1734, 126)\n"
     ]
    },
    {
     "name": "stderr",
     "output_type": "stream",
     "text": [
      "\r",
      " 75%|███████████████████████████████████████████████████████████████                     | 6/8 [00:35<00:11,  5.81s/it]"
     ]
    },
    {
     "name": "stdout",
     "output_type": "stream",
     "text": [
      "(1675, 126)\n"
     ]
    },
    {
     "name": "stderr",
     "output_type": "stream",
     "text": [
      "\r",
      " 88%|█████████████████████████████████████████████████████████████████████████▌          | 7/8 [00:44<00:06,  6.54s/it]"
     ]
    },
    {
     "name": "stdout",
     "output_type": "stream",
     "text": [
      "(1734, 126)\n"
     ]
    },
    {
     "name": "stderr",
     "output_type": "stream",
     "text": [
      "100%|████████████████████████████████████████████████████████████████████████████████████| 8/8 [00:49<00:00,  6.16s/it]"
     ]
    },
    {
     "name": "stdout",
     "output_type": "stream",
     "text": [
      "(1808, 126)\n"
     ]
    },
    {
     "name": "stderr",
     "output_type": "stream",
     "text": [
      "\n"
     ]
    },
    {
     "name": "stdout",
     "output_type": "stream",
     "text": [
      "(13931, 126)\n"
     ]
    },
    {
     "data": {
      "text/html": [
       "<div>\n",
       "<style scoped>\n",
       "    .dataframe tbody tr th:only-of-type {\n",
       "        vertical-align: middle;\n",
       "    }\n",
       "\n",
       "    .dataframe tbody tr th {\n",
       "        vertical-align: top;\n",
       "    }\n",
       "\n",
       "    .dataframe thead th {\n",
       "        text-align: right;\n",
       "    }\n",
       "</style>\n",
       "<table border=\"1\" class=\"dataframe\">\n",
       "  <thead>\n",
       "    <tr style=\"text-align: right;\">\n",
       "      <th></th>\n",
       "      <th>HenID</th>\n",
       "      <th>level</th>\n",
       "      <th>duration_1_Zone</th>\n",
       "      <th>duration_2_Zone</th>\n",
       "      <th>duration_3_Zone</th>\n",
       "      <th>duration_4_Zone</th>\n",
       "      <th>duration_5_Zone</th>\n",
       "      <th>verification_daily_total_duration</th>\n",
       "      <th>dur_values</th>\n",
       "      <th>dur_values_normalized</th>\n",
       "      <th>...</th>\n",
       "      <th>list_of_night20_2_temperature</th>\n",
       "      <th>nbr_temperature_nnnan</th>\n",
       "      <th>temperature_night20_2_median</th>\n",
       "      <th>temperature_night20_2_max</th>\n",
       "      <th>temperature_night20_2_var</th>\n",
       "      <th>list_of_MovementCounter_day</th>\n",
       "      <th>len_MovementCounter_day</th>\n",
       "      <th>MovementCounter_day_amount_nnactivity</th>\n",
       "      <th>MovementCounter_day_max</th>\n",
       "      <th>MovementCounter_day_mean</th>\n",
       "    </tr>\n",
       "  </thead>\n",
       "  <tbody>\n",
       "    <tr>\n",
       "      <th>0</th>\n",
       "      <td>hen_131</td>\n",
       "      <td>2020-10-27</td>\n",
       "      <td>389.0</td>\n",
       "      <td>21757.0</td>\n",
       "      <td>16978.0</td>\n",
       "      <td>3204.0</td>\n",
       "      <td>872.0</td>\n",
       "      <td>43200.0</td>\n",
       "      <td>[389.0, 21757.0, 16978.0, 3204.0, 872.0]</td>\n",
       "      <td>[0.00900462962962963, 0.5036342592592593, 0.39...</td>\n",
       "      <td>...</td>\n",
       "      <td>[29.0, 29.0, 30.0, 29.0, 29.0, 29.0, 29.0, 30....</td>\n",
       "      <td>36.0</td>\n",
       "      <td>29.0</td>\n",
       "      <td>30.0</td>\n",
       "      <td>0.212191</td>\n",
       "      <td>[41.0, 62.0, 72.0, 71.0, 63.0, 50.0, 36.0, 39....</td>\n",
       "      <td>72.0</td>\n",
       "      <td>0.000000</td>\n",
       "      <td>103.0</td>\n",
       "      <td>67.236111</td>\n",
       "    </tr>\n",
       "    <tr>\n",
       "      <th>1</th>\n",
       "      <td>hen_131</td>\n",
       "      <td>2020-10-28</td>\n",
       "      <td>278.0</td>\n",
       "      <td>22835.0</td>\n",
       "      <td>17180.0</td>\n",
       "      <td>2504.0</td>\n",
       "      <td>403.0</td>\n",
       "      <td>43200.0</td>\n",
       "      <td>[278.0, 22835.0, 17180.0, 2504.0, 403.0]</td>\n",
       "      <td>[0.006435185185185185, 0.528587962962963, 0.39...</td>\n",
       "      <td>...</td>\n",
       "      <td>[28.0, 28.0, 28.0, 28.0, 28.0, 29.0, 29.0, 28....</td>\n",
       "      <td>36.0</td>\n",
       "      <td>29.0</td>\n",
       "      <td>29.0</td>\n",
       "      <td>0.212191</td>\n",
       "      <td>[45.0, 78.0, 59.0, 64.0, 52.0, 43.0, 43.0, 55....</td>\n",
       "      <td>72.0</td>\n",
       "      <td>0.000000</td>\n",
       "      <td>109.0</td>\n",
       "      <td>69.138889</td>\n",
       "    </tr>\n",
       "    <tr>\n",
       "      <th>2</th>\n",
       "      <td>hen_131</td>\n",
       "      <td>2020-10-29</td>\n",
       "      <td>0.0</td>\n",
       "      <td>23942.0</td>\n",
       "      <td>19136.0</td>\n",
       "      <td>2727.0</td>\n",
       "      <td>995.0</td>\n",
       "      <td>46800.0</td>\n",
       "      <td>[0.0, 23942.0, 19136.0, 2727.0, 995.0]</td>\n",
       "      <td>[0.0, 0.5115811965811966, 0.4088888888888889, ...</td>\n",
       "      <td>...</td>\n",
       "      <td>[29.0, 29.0, 29.0, 29.0, 29.0, 29.0, 29.0, 29....</td>\n",
       "      <td>36.0</td>\n",
       "      <td>29.0</td>\n",
       "      <td>29.0</td>\n",
       "      <td>0.076389</td>\n",
       "      <td>[18.0, 30.0, 30.0, 65.0, 48.0, 44.0, 66.0, 61....</td>\n",
       "      <td>78.0</td>\n",
       "      <td>0.012821</td>\n",
       "      <td>108.0</td>\n",
       "      <td>69.333333</td>\n",
       "    </tr>\n",
       "  </tbody>\n",
       "</table>\n",
       "<p>3 rows × 126 columns</p>\n",
       "</div>"
      ],
      "text/plain": [
       "     HenID      level  duration_1_Zone  duration_2_Zone  duration_3_Zone  \\\n",
       "0  hen_131 2020-10-27            389.0          21757.0          16978.0   \n",
       "1  hen_131 2020-10-28            278.0          22835.0          17180.0   \n",
       "2  hen_131 2020-10-29              0.0          23942.0          19136.0   \n",
       "\n",
       "   duration_4_Zone  duration_5_Zone  verification_daily_total_duration  \\\n",
       "0           3204.0            872.0                            43200.0   \n",
       "1           2504.0            403.0                            43200.0   \n",
       "2           2727.0            995.0                            46800.0   \n",
       "\n",
       "                                 dur_values  \\\n",
       "0  [389.0, 21757.0, 16978.0, 3204.0, 872.0]   \n",
       "1  [278.0, 22835.0, 17180.0, 2504.0, 403.0]   \n",
       "2    [0.0, 23942.0, 19136.0, 2727.0, 995.0]   \n",
       "\n",
       "                               dur_values_normalized  ...  \\\n",
       "0  [0.00900462962962963, 0.5036342592592593, 0.39...  ...   \n",
       "1  [0.006435185185185185, 0.528587962962963, 0.39...  ...   \n",
       "2  [0.0, 0.5115811965811966, 0.4088888888888889, ...  ...   \n",
       "\n",
       "                       list_of_night20_2_temperature nbr_temperature_nnnan  \\\n",
       "0  [29.0, 29.0, 30.0, 29.0, 29.0, 29.0, 29.0, 30....                  36.0   \n",
       "1  [28.0, 28.0, 28.0, 28.0, 28.0, 29.0, 29.0, 28....                  36.0   \n",
       "2  [29.0, 29.0, 29.0, 29.0, 29.0, 29.0, 29.0, 29....                  36.0   \n",
       "\n",
       "  temperature_night20_2_median temperature_night20_2_max  \\\n",
       "0                         29.0                      30.0   \n",
       "1                         29.0                      29.0   \n",
       "2                         29.0                      29.0   \n",
       "\n",
       "  temperature_night20_2_var  \\\n",
       "0                  0.212191   \n",
       "1                  0.212191   \n",
       "2                  0.076389   \n",
       "\n",
       "                         list_of_MovementCounter_day len_MovementCounter_day  \\\n",
       "0  [41.0, 62.0, 72.0, 71.0, 63.0, 50.0, 36.0, 39....                    72.0   \n",
       "1  [45.0, 78.0, 59.0, 64.0, 52.0, 43.0, 43.0, 55....                    72.0   \n",
       "2  [18.0, 30.0, 30.0, 65.0, 48.0, 44.0, 66.0, 61....                    78.0   \n",
       "\n",
       "  MovementCounter_day_amount_nnactivity MovementCounter_day_max  \\\n",
       "0                              0.000000                   103.0   \n",
       "1                              0.000000                   109.0   \n",
       "2                              0.012821                   108.0   \n",
       "\n",
       "  MovementCounter_day_mean  \n",
       "0                67.236111  \n",
       "1                69.138889  \n",
       "2                69.333333  \n",
       "\n",
       "[3 rows x 126 columns]"
      ]
     },
     "execution_count": 17,
     "metadata": {},
     "output_type": "execute_result"
    }
   ],
   "source": [
    "START_TIME = time.perf_counter()\n",
    "#cleaned dataset\n",
    "df_ = df[(df['date']<date_max)&(df['date']>date_min)].copy()\n",
    "df_.drop(['Trackingsystem_Zone'],axis=1,inplace=True)\n",
    "df_.rename(columns={'model_ObservedZone':'Zone'}, inplace=True)\n",
    "display(df_.head(2))\n",
    "for p in tqdm.tqdm(df_['PenID'].unique()):\n",
    "    df_daily = HenDailyVariable_Origins(df_[df_['PenID']==p], config, name_='CLEANING_'+p, timestamp_name='Timestamp',\n",
    "                                       has_cons_equal_zone=True)\n",
    "    print(df_daily.shape)\n",
    "    df_daily.head(3)\n",
    "END_TIME = time.perf_counter()\n",
    "print (\"Total running time: %.2f mn\" %((END_TIME-START_TIME)/60))  \n",
    "\n",
    "#Concatenate all HenVariables csv into one\n",
    "li_paths_var = glob.glob(os.path.join(path_extracted_data, id_run+'_daily__CLEANING'+'*_variables.csv'))\n",
    "li_df = []\n",
    "for path_var in tqdm.tqdm(li_paths_var):\n",
    "    #for being more reproductible, we open the file that was saved from cleaning\n",
    "    df_ = pd.read_csv(path_var, sep=';',parse_dates=['level', 'FirstTimestamp_1_Zone', 'FirstTimestamp_2_Zone', \n",
    "                                                     'FirstTimestamp_3_Zone','FirstTimestamp_4_Zone',\n",
    "                                                     'FirstTimestamp_5_Zone']) \n",
    "    print(df_.shape)\n",
    "    li_df.append(df_)\n",
    "df_daily = pd.concat(li_df)\n",
    "df_daily.to_csv(os.path.join(path_extracted_data, id_run+'_daily_CLEANING_ALL_variables.csv'), sep=';', index=False)\n",
    "print(df_daily.shape)\n",
    "df_daily.head(3)"
   ]
  },
  {
   "cell_type": "code",
   "execution_count": 18,
   "metadata": {
    "scrolled": true
   },
   "outputs": [
    {
     "name": "stderr",
     "output_type": "stream",
     "text": [
      "C:\\Users\\camil\\anaconda3\\lib\\site-packages\\ipykernel\\ipkernel.py:283: DeprecationWarning: `should_run_async` will not call `transform_cell` automatically in the future. Please pass the result to `transformed_cell` argument and any exception that happen during thetransform in `preprocessing_exc_tuple` in IPython 7.17 and above.\n",
      "  and should_run_async(code)\n"
     ]
    },
    {
     "data": {
      "text/html": [
       "<div>\n",
       "<style scoped>\n",
       "    .dataframe tbody tr th:only-of-type {\n",
       "        vertical-align: middle;\n",
       "    }\n",
       "\n",
       "    .dataframe tbody tr th {\n",
       "        vertical-align: top;\n",
       "    }\n",
       "\n",
       "    .dataframe thead th {\n",
       "        text-align: right;\n",
       "    }\n",
       "</style>\n",
       "<table border=\"1\" class=\"dataframe\">\n",
       "  <thead>\n",
       "    <tr style=\"text-align: right;\">\n",
       "      <th></th>\n",
       "      <th>HenID</th>\n",
       "      <th>PenID</th>\n",
       "      <th>system</th>\n",
       "      <th>Zone</th>\n",
       "      <th>model_prediction</th>\n",
       "      <th>Timestamp</th>\n",
       "      <th>date</th>\n",
       "      <th>duration</th>\n",
       "    </tr>\n",
       "  </thead>\n",
       "  <tbody>\n",
       "    <tr>\n",
       "      <th>0</th>\n",
       "      <td>hen_100</td>\n",
       "      <td>pen5</td>\n",
       "      <td>3 - 5</td>\n",
       "      <td>4_Zone</td>\n",
       "      <td>1</td>\n",
       "      <td>2020-10-27 00:03:07</td>\n",
       "      <td>2020-10-27</td>\n",
       "      <td>5.0</td>\n",
       "    </tr>\n",
       "    <tr>\n",
       "      <th>1</th>\n",
       "      <td>hen_100</td>\n",
       "      <td>pen5</td>\n",
       "      <td>3 - 5</td>\n",
       "      <td>5_Zone</td>\n",
       "      <td>1</td>\n",
       "      <td>2020-10-27 00:03:12</td>\n",
       "      <td>2020-10-27</td>\n",
       "      <td>1060.0</td>\n",
       "    </tr>\n",
       "  </tbody>\n",
       "</table>\n",
       "</div>"
      ],
      "text/plain": [
       "     HenID PenID system    Zone  model_prediction           Timestamp  \\\n",
       "0  hen_100  pen5  3 - 5  4_Zone                 1 2020-10-27 00:03:07   \n",
       "1  hen_100  pen5  3 - 5  5_Zone                 1 2020-10-27 00:03:12   \n",
       "\n",
       "        date  duration  \n",
       "0 2020-10-27       5.0  \n",
       "1 2020-10-27    1060.0  "
      ]
     },
     "metadata": {},
     "output_type": "display_data"
    },
    {
     "name": "stderr",
     "output_type": "stream",
     "text": [
      "\r",
      "  0%|                                                                                            | 0/8 [00:00<?, ?it/s]"
     ]
    },
    {
     "name": "stdout",
     "output_type": "stream",
     "text": [
      "----------------- Create time serie\n",
      "in this time series there is 23 hens\n",
      "The initial starting date in over all is: 2020-10-27 00:03:07, and the ending date will be: 2021-01-18 08:36:57\n",
      "But note that birds may have different ending and starting date which should be taken into account when computing variables\n",
      "and after ending the last day at midnight : 2020-10-27 00:03:07, and the ending date will be: 2021-01-18 23:59:59\n",
      "Total running time: 1.54 mn\n",
      "your time series has 1 seconds between two timestamps\n",
      "----------------- main night zone and nbr of transitions over night....\n",
      "----------------- total duration per Zone in seconds....\n",
      "----------------- first timestamp in each zone per day....\n",
      "----------------- number of Zone (excluding nan)....\n",
      "----------------- compute some variables based on a list of zones over a day....\n",
      "----------------NESTBOX\n"
     ]
    },
    {
     "name": "stderr",
     "output_type": "stream",
     "text": [
      "C:\\Users\\camil\\anaconda3\\lib\\site-packages\\numpy\\lib\\nanfunctions.py:1366: RuntimeWarning: Mean of empty slice\n",
      "  return np.nanmean(a, axis, out=out, keepdims=keepdims)\n"
     ]
    },
    {
     "name": "stdout",
     "output_type": "stream",
     "text": [
      "-------------- Lets remove unwanted dates at PENS level\n"
     ]
    },
    {
     "data": {
      "text/html": [
       "<text style=color:black>By removing the unwanted days we passed from 1848 to 1636 timestamp (losing </text> <text style=color:red>212</text> <text style=color:black> timestamp)</text>"
      ],
      "text/plain": [
       "<IPython.core.display.HTML object>"
      ]
     },
     "metadata": {},
     "output_type": "display_data"
    },
    {
     "name": "stdout",
     "output_type": "stream",
     "text": [
      "-------------- Lets remove dates that impacted few hens\n"
     ]
    },
    {
     "data": {
      "text/html": [
       "<text style=color:black>By removing the unwanted days we passed from 1636 to 1467 timestamp (losing </text> <text style=color:red>169</text> <text style=color:black> timestamp)</text>"
      ],
      "text/plain": [
       "<IPython.core.display.HTML object>"
      ]
     },
     "metadata": {},
     "output_type": "display_data"
    },
    {
     "name": "stdout",
     "output_type": "stream",
     "text": [
      "All the night variables are:  Index(['HenID', 'night_level', 'night_Max_duration_zones',\n",
      "       'night_Total_number_transition', 'nbr_transition_at_h0',\n",
      "       'nbr_transition_at_h1', 'nbr_transition_at_h2', 'nbr_transition_at_h3',\n",
      "       'nbr_transition_at_h4', 'nbr_transition_at_h21',\n",
      "       'nbr_transition_at_h22', 'nbr_transition_at_h23',\n",
      "       'nbr_transition_next1hafterlightoff', 'level', 'PenID', 'CLASS',\n",
      "       'TagID', 'FocalLegringName', 'R-Pen', 'InitialStartDate',\n",
      "       '29-09 weight', '10-12 juin weight', 'weight 23-11-2020',\n",
      "       'weight 04-01-2021'],\n",
      "      dtype='object')\n",
      "['night_level']\n",
      "-------------- Lets remove dates of tags when they were not giving deviceupdate regularly\n"
     ]
    },
    {
     "data": {
      "text/html": [
       "<text style=color:black>By removing the unwanted days we passed from 1709 to 1675 timestamp (losing </text> <text style=color:red>34</text> <text style=color:black> timestamp)</text>"
      ],
      "text/plain": [
       "<IPython.core.display.HTML object>"
      ]
     },
     "metadata": {},
     "output_type": "display_data"
    },
    {
     "name": "stdout",
     "output_type": "stream",
     "text": [
      "-------------- Lets remove the 30.09.2020 for the tags taht still had no transition from before the light went on \n"
     ]
    },
    {
     "data": {
      "text/html": [
       "<text style=color:black>By removing the unwanted days we passed from 1675 to 1675 timestamp (losing </text> <text style=color:red>0</text> <text style=color:black> timestamp)</text>"
      ],
      "text/plain": [
       "<IPython.core.display.HTML object>"
      ]
     },
     "metadata": {},
     "output_type": "display_data"
    },
    {
     "name": "stdout",
     "output_type": "stream",
     "text": [
      "save\n"
     ]
    },
    {
     "name": "stderr",
     "output_type": "stream",
     "text": [
      "\r",
      " 12%|██████████▏                                                                      | 1/8 [12:29<1:27:25, 749.33s/it]"
     ]
    },
    {
     "name": "stdout",
     "output_type": "stream",
     "text": [
      "Total running time: 12.45 mn\n",
      "(1675, 126)\n",
      "----------------- Create time serie\n",
      "in this time series there is 22 hens\n",
      "The initial starting date in over all is: 2020-10-27 00:15:39, and the ending date will be: 2021-01-18 08:37:33\n",
      "But note that birds may have different ending and starting date which should be taken into account when computing variables\n",
      "and after ending the last day at midnight : 2020-10-27 00:15:39, and the ending date will be: 2021-01-18 23:59:59\n",
      "Total running time: 1.75 mn\n",
      "your time series has 1 seconds between two timestamps\n",
      "----------------- main night zone and nbr of transitions over night....\n",
      "----------------- total duration per Zone in seconds....\n",
      "----------------- first timestamp in each zone per day....\n",
      "----------------- number of Zone (excluding nan)....\n",
      "----------------- compute some variables based on a list of zones over a day....\n",
      "----------------NESTBOX\n"
     ]
    },
    {
     "name": "stderr",
     "output_type": "stream",
     "text": [
      "C:\\Users\\camil\\anaconda3\\lib\\site-packages\\numpy\\lib\\nanfunctions.py:1366: RuntimeWarning: Mean of empty slice\n",
      "  return np.nanmean(a, axis, out=out, keepdims=keepdims)\n"
     ]
    },
    {
     "name": "stdout",
     "output_type": "stream",
     "text": [
      "-------------- Lets remove unwanted dates at PENS level\n"
     ]
    },
    {
     "data": {
      "text/html": [
       "<text style=color:black>By removing the unwanted days we passed from 1792 to 1684 timestamp (losing </text> <text style=color:red>108</text> <text style=color:black> timestamp)</text>"
      ],
      "text/plain": [
       "<IPython.core.display.HTML object>"
      ]
     },
     "metadata": {},
     "output_type": "display_data"
    },
    {
     "name": "stdout",
     "output_type": "stream",
     "text": [
      "-------------- Lets remove dates that impacted few hens\n"
     ]
    },
    {
     "data": {
      "text/html": [
       "<text style=color:black>By removing the unwanted days we passed from 1684 to 1580 timestamp (losing </text> <text style=color:red>104</text> <text style=color:black> timestamp)</text>"
      ],
      "text/plain": [
       "<IPython.core.display.HTML object>"
      ]
     },
     "metadata": {},
     "output_type": "display_data"
    },
    {
     "name": "stdout",
     "output_type": "stream",
     "text": [
      "All the night variables are:  Index(['HenID', 'night_level', 'night_Max_duration_zones',\n",
      "       'night_Total_number_transition', 'nbr_transition_at_h0',\n",
      "       'nbr_transition_at_h1', 'nbr_transition_at_h2', 'nbr_transition_at_h3',\n",
      "       'nbr_transition_at_h4', 'nbr_transition_at_h21',\n",
      "       'nbr_transition_at_h22', 'nbr_transition_at_h23',\n",
      "       'nbr_transition_next1hafterlightoff', 'level', 'PenID', 'CLASS',\n",
      "       'TagID', 'FocalLegringName', 'R-Pen', 'InitialStartDate',\n",
      "       '29-09 weight', '10-12 juin weight', 'weight 23-11-2020',\n",
      "       'weight 04-01-2021'],\n",
      "      dtype='object')\n",
      "['night_level']\n",
      "-------------- Lets remove dates of tags when they were not giving deviceupdate regularly\n"
     ]
    },
    {
     "data": {
      "text/html": [
       "<text style=color:black>By removing the unwanted days we passed from 1756 to 1734 timestamp (losing </text> <text style=color:red>22</text> <text style=color:black> timestamp)</text>"
      ],
      "text/plain": [
       "<IPython.core.display.HTML object>"
      ]
     },
     "metadata": {},
     "output_type": "display_data"
    },
    {
     "name": "stdout",
     "output_type": "stream",
     "text": [
      "-------------- Lets remove the 30.09.2020 for the tags taht still had no transition from before the light went on \n"
     ]
    },
    {
     "data": {
      "text/html": [
       "<text style=color:black>By removing the unwanted days we passed from 1734 to 1734 timestamp (losing </text> <text style=color:red>0</text> <text style=color:black> timestamp)</text>"
      ],
      "text/plain": [
       "<IPython.core.display.HTML object>"
      ]
     },
     "metadata": {},
     "output_type": "display_data"
    },
    {
     "name": "stdout",
     "output_type": "stream",
     "text": [
      "save\n"
     ]
    },
    {
     "name": "stderr",
     "output_type": "stream",
     "text": [
      "\r",
      " 25%|████████████████████▎                                                            | 2/8 [24:51<1:14:43, 747.24s/it]"
     ]
    },
    {
     "name": "stdout",
     "output_type": "stream",
     "text": [
      "Total running time: 12.34 mn\n",
      "(1734, 126)\n",
      "----------------- Create time serie\n",
      "in this time series there is 22 hens\n",
      "The initial starting date in over all is: 2020-10-27 00:22:38, and the ending date will be: 2021-01-18 08:39:27\n",
      "But note that birds may have different ending and starting date which should be taken into account when computing variables\n",
      "and after ending the last day at midnight : 2020-10-27 00:22:38, and the ending date will be: 2021-01-18 23:59:59\n",
      "Total running time: 1.51 mn\n",
      "your time series has 1 seconds between two timestamps\n",
      "----------------- main night zone and nbr of transitions over night....\n",
      "----------------- total duration per Zone in seconds....\n",
      "----------------- first timestamp in each zone per day....\n",
      "----------------- number of Zone (excluding nan)....\n",
      "----------------- compute some variables based on a list of zones over a day....\n",
      "several max-duration-zone\n",
      "several max-duration-zone\n",
      "----------------NESTBOX\n"
     ]
    },
    {
     "name": "stderr",
     "output_type": "stream",
     "text": [
      "C:\\Users\\camil\\anaconda3\\lib\\site-packages\\numpy\\lib\\nanfunctions.py:1366: RuntimeWarning: Mean of empty slice\n",
      "  return np.nanmean(a, axis, out=out, keepdims=keepdims)\n"
     ]
    },
    {
     "name": "stdout",
     "output_type": "stream",
     "text": [
      "-------------- Lets remove unwanted dates at PENS level\n"
     ]
    },
    {
     "data": {
      "text/html": [
       "<text style=color:black>By removing the unwanted days we passed from 1791 to 1727 timestamp (losing </text> <text style=color:red>64</text> <text style=color:black> timestamp)</text>"
      ],
      "text/plain": [
       "<IPython.core.display.HTML object>"
      ]
     },
     "metadata": {},
     "output_type": "display_data"
    },
    {
     "name": "stdout",
     "output_type": "stream",
     "text": [
      "-------------- Lets remove dates that impacted few hens\n"
     ]
    },
    {
     "data": {
      "text/html": [
       "<text style=color:black>By removing the unwanted days we passed from 1727 to 1619 timestamp (losing </text> <text style=color:red>108</text> <text style=color:black> timestamp)</text>"
      ],
      "text/plain": [
       "<IPython.core.display.HTML object>"
      ]
     },
     "metadata": {},
     "output_type": "display_data"
    },
    {
     "name": "stdout",
     "output_type": "stream",
     "text": [
      "All the night variables are:  Index(['HenID', 'night_level', 'night_Max_duration_zones',\n",
      "       'night_Total_number_transition', 'nbr_transition_at_h0',\n",
      "       'nbr_transition_at_h1', 'nbr_transition_at_h2', 'nbr_transition_at_h3',\n",
      "       'nbr_transition_at_h4', 'nbr_transition_at_h21',\n",
      "       'nbr_transition_at_h22', 'nbr_transition_at_h23',\n",
      "       'nbr_transition_next1hafterlightoff', 'level', 'PenID', 'CLASS',\n",
      "       'TagID', 'FocalLegringName', 'R-Pen', 'InitialStartDate',\n",
      "       '29-09 weight', '10-12 juin weight', 'weight 23-11-2020',\n",
      "       'weight 04-01-2021'],\n",
      "      dtype='object')\n",
      "['night_level']\n",
      "-------------- Lets remove dates of tags when they were not giving deviceupdate regularly\n"
     ]
    },
    {
     "data": {
      "text/html": [
       "<text style=color:black>By removing the unwanted days we passed from 1753 to 1734 timestamp (losing </text> <text style=color:red>19</text> <text style=color:black> timestamp)</text>"
      ],
      "text/plain": [
       "<IPython.core.display.HTML object>"
      ]
     },
     "metadata": {},
     "output_type": "display_data"
    },
    {
     "name": "stdout",
     "output_type": "stream",
     "text": [
      "-------------- Lets remove the 30.09.2020 for the tags taht still had no transition from before the light went on \n"
     ]
    },
    {
     "data": {
      "text/html": [
       "<text style=color:black>By removing the unwanted days we passed from 1734 to 1734 timestamp (losing </text> <text style=color:red>0</text> <text style=color:black> timestamp)</text>"
      ],
      "text/plain": [
       "<IPython.core.display.HTML object>"
      ]
     },
     "metadata": {},
     "output_type": "display_data"
    },
    {
     "name": "stdout",
     "output_type": "stream",
     "text": [
      "save\n"
     ]
    },
    {
     "name": "stderr",
     "output_type": "stream",
     "text": [
      "\r",
      " 38%|██████████████████████████████▍                                                  | 3/8 [36:38<1:01:15, 735.00s/it]"
     ]
    },
    {
     "name": "stdout",
     "output_type": "stream",
     "text": [
      "Total running time: 11.74 mn\n",
      "(1734, 126)\n",
      "----------------- Create time serie\n",
      "in this time series there is 23 hens\n",
      "The initial starting date in over all is: 2020-10-27 00:36:34, and the ending date will be: 2021-01-18 08:39:32\n",
      "But note that birds may have different ending and starting date which should be taken into account when computing variables\n",
      "and after ending the last day at midnight : 2020-10-27 00:36:34, and the ending date will be: 2021-01-18 23:59:59\n",
      "Total running time: 1.49 mn\n",
      "your time series has 1 seconds between two timestamps\n",
      "----------------- main night zone and nbr of transitions over night....\n",
      "----------------- total duration per Zone in seconds....\n",
      "----------------- first timestamp in each zone per day....\n",
      "----------------- number of Zone (excluding nan)....\n",
      "----------------- compute some variables based on a list of zones over a day....\n",
      "----------------NESTBOX\n"
     ]
    },
    {
     "name": "stderr",
     "output_type": "stream",
     "text": [
      "C:\\Users\\camil\\anaconda3\\lib\\site-packages\\numpy\\lib\\nanfunctions.py:1366: RuntimeWarning: Mean of empty slice\n",
      "  return np.nanmean(a, axis, out=out, keepdims=keepdims)\n"
     ]
    },
    {
     "name": "stdout",
     "output_type": "stream",
     "text": [
      "-------------- Lets remove unwanted dates at PENS level\n"
     ]
    },
    {
     "data": {
      "text/html": [
       "<text style=color:black>By removing the unwanted days we passed from 1870 to 1803 timestamp (losing </text> <text style=color:red>67</text> <text style=color:black> timestamp)</text>"
      ],
      "text/plain": [
       "<IPython.core.display.HTML object>"
      ]
     },
     "metadata": {},
     "output_type": "display_data"
    },
    {
     "name": "stdout",
     "output_type": "stream",
     "text": [
      "-------------- Lets remove dates that impacted few hens\n"
     ]
    },
    {
     "data": {
      "text/html": [
       "<text style=color:black>By removing the unwanted days we passed from 1803 to 1616 timestamp (losing </text> <text style=color:red>187</text> <text style=color:black> timestamp)</text>"
      ],
      "text/plain": [
       "<IPython.core.display.HTML object>"
      ]
     },
     "metadata": {},
     "output_type": "display_data"
    },
    {
     "name": "stdout",
     "output_type": "stream",
     "text": [
      "All the night variables are:  Index(['HenID', 'night_level', 'night_Max_duration_zones',\n",
      "       'night_Total_number_transition', 'nbr_transition_at_h0',\n",
      "       'nbr_transition_at_h1', 'nbr_transition_at_h2', 'nbr_transition_at_h3',\n",
      "       'nbr_transition_at_h4', 'nbr_transition_at_h21',\n",
      "       'nbr_transition_at_h22', 'nbr_transition_at_h23',\n",
      "       'nbr_transition_next1hafterlightoff', 'level', 'PenID', 'CLASS',\n",
      "       'TagID', 'FocalLegringName', 'R-Pen', 'InitialStartDate',\n",
      "       '29-09 weight', '10-12 juin weight', 'weight 23-11-2020',\n",
      "       'weight 04-01-2021'],\n",
      "      dtype='object')\n",
      "['night_level']\n",
      "-------------- Lets remove dates of tags when they were not giving deviceupdate regularly\n"
     ]
    },
    {
     "data": {
      "text/html": [
       "<text style=color:black>By removing the unwanted days we passed from 1831 to 1808 timestamp (losing </text> <text style=color:red>23</text> <text style=color:black> timestamp)</text>"
      ],
      "text/plain": [
       "<IPython.core.display.HTML object>"
      ]
     },
     "metadata": {},
     "output_type": "display_data"
    },
    {
     "name": "stdout",
     "output_type": "stream",
     "text": [
      "-------------- Lets remove the 30.09.2020 for the tags taht still had no transition from before the light went on \n"
     ]
    },
    {
     "data": {
      "text/html": [
       "<text style=color:black>By removing the unwanted days we passed from 1808 to 1808 timestamp (losing </text> <text style=color:red>0</text> <text style=color:black> timestamp)</text>"
      ],
      "text/plain": [
       "<IPython.core.display.HTML object>"
      ]
     },
     "metadata": {},
     "output_type": "display_data"
    },
    {
     "name": "stdout",
     "output_type": "stream",
     "text": [
      "save\n"
     ]
    },
    {
     "name": "stderr",
     "output_type": "stream",
     "text": [
      "\r",
      " 50%|█████████████████████████████████████████▌                                         | 4/8 [48:41<48:46, 731.62s/it]"
     ]
    },
    {
     "name": "stdout",
     "output_type": "stream",
     "text": [
      "Total running time: 12.03 mn\n",
      "(1808, 126)\n",
      "----------------- Create time serie\n",
      "in this time series there is 22 hens\n",
      "The initial starting date in over all is: 2020-10-27 00:46:06, and the ending date will be: 2021-01-18 08:41:28\n",
      "But note that birds may have different ending and starting date which should be taken into account when computing variables\n",
      "and after ending the last day at midnight : 2020-10-27 00:46:06, and the ending date will be: 2021-01-18 23:59:59\n",
      "Total running time: 1.48 mn\n",
      "your time series has 1 seconds between two timestamps\n",
      "----------------- main night zone and nbr of transitions over night....\n",
      "----------------- total duration per Zone in seconds....\n",
      "----------------- first timestamp in each zone per day....\n",
      "----------------- number of Zone (excluding nan)....\n",
      "----------------- compute some variables based on a list of zones over a day....\n",
      "several max-duration-zone\n",
      "----------------NESTBOX\n"
     ]
    },
    {
     "name": "stderr",
     "output_type": "stream",
     "text": [
      "C:\\Users\\camil\\anaconda3\\lib\\site-packages\\numpy\\lib\\nanfunctions.py:1366: RuntimeWarning: Mean of empty slice\n",
      "  return np.nanmean(a, axis, out=out, keepdims=keepdims)\n"
     ]
    },
    {
     "name": "stdout",
     "output_type": "stream",
     "text": [
      "-------------- Lets remove unwanted dates at PENS level\n"
     ]
    },
    {
     "data": {
      "text/html": [
       "<text style=color:black>By removing the unwanted days we passed from 1792 to 1728 timestamp (losing </text> <text style=color:red>64</text> <text style=color:black> timestamp)</text>"
      ],
      "text/plain": [
       "<IPython.core.display.HTML object>"
      ]
     },
     "metadata": {},
     "output_type": "display_data"
    },
    {
     "name": "stdout",
     "output_type": "stream",
     "text": [
      "-------------- Lets remove dates that impacted few hens\n"
     ]
    },
    {
     "data": {
      "text/html": [
       "<text style=color:black>By removing the unwanted days we passed from 1728 to 1620 timestamp (losing </text> <text style=color:red>108</text> <text style=color:black> timestamp)</text>"
      ],
      "text/plain": [
       "<IPython.core.display.HTML object>"
      ]
     },
     "metadata": {},
     "output_type": "display_data"
    },
    {
     "name": "stdout",
     "output_type": "stream",
     "text": [
      "All the night variables are:  Index(['HenID', 'night_level', 'night_Max_duration_zones',\n",
      "       'night_Total_number_transition', 'nbr_transition_at_h0',\n",
      "       'nbr_transition_at_h1', 'nbr_transition_at_h2', 'nbr_transition_at_h3',\n",
      "       'nbr_transition_at_h4', 'nbr_transition_at_h21',\n",
      "       'nbr_transition_at_h22', 'nbr_transition_at_h23',\n",
      "       'nbr_transition_next1hafterlightoff', 'level', 'PenID', 'CLASS',\n",
      "       'TagID', 'FocalLegringName', 'R-Pen', 'InitialStartDate',\n",
      "       '29-09 weight', '10-12 juin weight', 'weight 23-11-2020',\n",
      "       'weight 04-01-2021'],\n",
      "      dtype='object')\n",
      "['night_level']\n",
      "-------------- Lets remove dates of tags when they were not giving deviceupdate regularly\n"
     ]
    },
    {
     "data": {
      "text/html": [
       "<text style=color:black>By removing the unwanted days we passed from 1759 to 1734 timestamp (losing </text> <text style=color:red>25</text> <text style=color:black> timestamp)</text>"
      ],
      "text/plain": [
       "<IPython.core.display.HTML object>"
      ]
     },
     "metadata": {},
     "output_type": "display_data"
    },
    {
     "name": "stdout",
     "output_type": "stream",
     "text": [
      "-------------- Lets remove the 30.09.2020 for the tags taht still had no transition from before the light went on \n"
     ]
    },
    {
     "data": {
      "text/html": [
       "<text style=color:black>By removing the unwanted days we passed from 1734 to 1734 timestamp (losing </text> <text style=color:red>0</text> <text style=color:black> timestamp)</text>"
      ],
      "text/plain": [
       "<IPython.core.display.HTML object>"
      ]
     },
     "metadata": {},
     "output_type": "display_data"
    },
    {
     "name": "stdout",
     "output_type": "stream",
     "text": [
      "save\n"
     ]
    },
    {
     "name": "stderr",
     "output_type": "stream",
     "text": [
      "\r",
      " 62%|██████████████████████████████████████████████████▋                              | 5/8 [1:00:31<36:15, 725.16s/it]"
     ]
    },
    {
     "name": "stdout",
     "output_type": "stream",
     "text": [
      "Total running time: 11.80 mn\n",
      "(1734, 126)\n",
      "----------------- Create time serie\n",
      "in this time series there is 23 hens\n",
      "The initial starting date in over all is: 2020-10-27 02:07:16, and the ending date will be: 2021-01-18 08:40:40\n",
      "But note that birds may have different ending and starting date which should be taken into account when computing variables\n",
      "and after ending the last day at midnight : 2020-10-27 02:07:16, and the ending date will be: 2021-01-18 23:59:59\n",
      "Total running time: 1.50 mn\n",
      "your time series has 1 seconds between two timestamps\n",
      "----------------- main night zone and nbr of transitions over night....\n",
      "----------------- total duration per Zone in seconds....\n",
      "----------------- first timestamp in each zone per day....\n",
      "----------------- number of Zone (excluding nan)....\n",
      "----------------- compute some variables based on a list of zones over a day....\n",
      "----------------NESTBOX\n"
     ]
    },
    {
     "name": "stderr",
     "output_type": "stream",
     "text": [
      "C:\\Users\\camil\\anaconda3\\lib\\site-packages\\numpy\\lib\\nanfunctions.py:1366: RuntimeWarning: Mean of empty slice\n",
      "  return np.nanmean(a, axis, out=out, keepdims=keepdims)\n"
     ]
    },
    {
     "name": "stdout",
     "output_type": "stream",
     "text": [
      "-------------- Lets remove unwanted dates at PENS level\n"
     ]
    },
    {
     "data": {
      "text/html": [
       "<text style=color:black>By removing the unwanted days we passed from 1848 to 1782 timestamp (losing </text> <text style=color:red>66</text> <text style=color:black> timestamp)</text>"
      ],
      "text/plain": [
       "<IPython.core.display.HTML object>"
      ]
     },
     "metadata": {},
     "output_type": "display_data"
    },
    {
     "name": "stdout",
     "output_type": "stream",
     "text": [
      "-------------- Lets remove dates that impacted few hens\n"
     ]
    },
    {
     "data": {
      "text/html": [
       "<text style=color:black>By removing the unwanted days we passed from 1782 to 1617 timestamp (losing </text> <text style=color:red>165</text> <text style=color:black> timestamp)</text>"
      ],
      "text/plain": [
       "<IPython.core.display.HTML object>"
      ]
     },
     "metadata": {},
     "output_type": "display_data"
    },
    {
     "name": "stdout",
     "output_type": "stream",
     "text": [
      "All the night variables are:  Index(['HenID', 'night_level', 'night_Max_duration_zones',\n",
      "       'night_Total_number_transition', 'nbr_transition_at_h0',\n",
      "       'nbr_transition_at_h1', 'nbr_transition_at_h2', 'nbr_transition_at_h3',\n",
      "       'nbr_transition_at_h4', 'nbr_transition_at_h21',\n",
      "       'nbr_transition_at_h22', 'nbr_transition_at_h23',\n",
      "       'nbr_transition_next1hafterlightoff', 'level', 'PenID', 'CLASS',\n",
      "       'TagID', 'FocalLegringName', 'R-Pen', 'InitialStartDate',\n",
      "       '29-09 weight', '10-12 juin weight', 'weight 23-11-2020',\n",
      "       'weight 04-01-2021'],\n",
      "      dtype='object')\n",
      "['night_level']\n",
      "-------------- Lets remove dates of tags when they were not giving deviceupdate regularly\n"
     ]
    },
    {
     "data": {
      "text/html": [
       "<text style=color:black>By removing the unwanted days we passed from 1814 to 1786 timestamp (losing </text> <text style=color:red>28</text> <text style=color:black> timestamp)</text>"
      ],
      "text/plain": [
       "<IPython.core.display.HTML object>"
      ]
     },
     "metadata": {},
     "output_type": "display_data"
    },
    {
     "name": "stdout",
     "output_type": "stream",
     "text": [
      "-------------- Lets remove the 30.09.2020 for the tags taht still had no transition from before the light went on \n"
     ]
    },
    {
     "data": {
      "text/html": [
       "<text style=color:black>By removing the unwanted days we passed from 1786 to 1786 timestamp (losing </text> <text style=color:red>0</text> <text style=color:black> timestamp)</text>"
      ],
      "text/plain": [
       "<IPython.core.display.HTML object>"
      ]
     },
     "metadata": {},
     "output_type": "display_data"
    },
    {
     "name": "stdout",
     "output_type": "stream",
     "text": [
      "save\n"
     ]
    },
    {
     "name": "stderr",
     "output_type": "stream",
     "text": [
      "\r",
      " 75%|████████████████████████████████████████████████████████████▊                    | 6/8 [1:12:58<24:22, 731.45s/it]"
     ]
    },
    {
     "name": "stdout",
     "output_type": "stream",
     "text": [
      "Total running time: 12.40 mn\n",
      "(1786, 126)\n",
      "----------------- Create time serie\n",
      "in this time series there is 22 hens\n",
      "The initial starting date in over all is: 2020-10-27 02:13:34, and the ending date will be: 2021-01-18 08:37:18\n",
      "But note that birds may have different ending and starting date which should be taken into account when computing variables\n",
      "and after ending the last day at midnight : 2020-10-27 02:13:34, and the ending date will be: 2021-01-18 23:59:59\n",
      "Total running time: 1.56 mn\n",
      "your time series has 1 seconds between two timestamps\n",
      "----------------- main night zone and nbr of transitions over night....\n",
      "----------------- total duration per Zone in seconds....\n",
      "----------------- first timestamp in each zone per day....\n",
      "----------------- number of Zone (excluding nan)....\n",
      "----------------- compute some variables based on a list of zones over a day....\n",
      "----------------NESTBOX\n"
     ]
    },
    {
     "name": "stderr",
     "output_type": "stream",
     "text": [
      "C:\\Users\\camil\\anaconda3\\lib\\site-packages\\numpy\\lib\\nanfunctions.py:1366: RuntimeWarning: Mean of empty slice\n",
      "  return np.nanmean(a, axis, out=out, keepdims=keepdims)\n"
     ]
    },
    {
     "name": "stdout",
     "output_type": "stream",
     "text": [
      "-------------- Lets remove unwanted dates at PENS level\n"
     ]
    },
    {
     "data": {
      "text/html": [
       "<text style=color:black>By removing the unwanted days we passed from 1792 to 1684 timestamp (losing </text> <text style=color:red>108</text> <text style=color:black> timestamp)</text>"
      ],
      "text/plain": [
       "<IPython.core.display.HTML object>"
      ]
     },
     "metadata": {},
     "output_type": "display_data"
    },
    {
     "name": "stdout",
     "output_type": "stream",
     "text": [
      "-------------- Lets remove dates that impacted few hens\n"
     ]
    },
    {
     "data": {
      "text/html": [
       "<text style=color:black>By removing the unwanted days we passed from 1684 to 1580 timestamp (losing </text> <text style=color:red>104</text> <text style=color:black> timestamp)</text>"
      ],
      "text/plain": [
       "<IPython.core.display.HTML object>"
      ]
     },
     "metadata": {},
     "output_type": "display_data"
    },
    {
     "name": "stdout",
     "output_type": "stream",
     "text": [
      "All the night variables are:  Index(['HenID', 'night_level', 'night_Max_duration_zones',\n",
      "       'night_Total_number_transition', 'nbr_transition_at_h0',\n",
      "       'nbr_transition_at_h1', 'nbr_transition_at_h2', 'nbr_transition_at_h3',\n",
      "       'nbr_transition_at_h4', 'nbr_transition_at_h21',\n",
      "       'nbr_transition_at_h22', 'nbr_transition_at_h23',\n",
      "       'nbr_transition_next1hafterlightoff', 'level', 'PenID', 'CLASS',\n",
      "       'TagID', 'FocalLegringName', 'R-Pen', 'InitialStartDate',\n",
      "       '29-09 weight', '10-12 juin weight', 'weight 23-11-2020',\n",
      "       'weight 04-01-2021'],\n",
      "      dtype='object')\n",
      "['night_level']\n",
      "-------------- Lets remove dates of tags when they were not giving deviceupdate regularly\n"
     ]
    },
    {
     "data": {
      "text/html": [
       "<text style=color:black>By removing the unwanted days we passed from 1752 to 1730 timestamp (losing </text> <text style=color:red>22</text> <text style=color:black> timestamp)</text>"
      ],
      "text/plain": [
       "<IPython.core.display.HTML object>"
      ]
     },
     "metadata": {},
     "output_type": "display_data"
    },
    {
     "name": "stdout",
     "output_type": "stream",
     "text": [
      "-------------- Lets remove the 30.09.2020 for the tags taht still had no transition from before the light went on \n"
     ]
    },
    {
     "data": {
      "text/html": [
       "<text style=color:black>By removing the unwanted days we passed from 1730 to 1730 timestamp (losing </text> <text style=color:red>0</text> <text style=color:black> timestamp)</text>"
      ],
      "text/plain": [
       "<IPython.core.display.HTML object>"
      ]
     },
     "metadata": {},
     "output_type": "display_data"
    },
    {
     "name": "stdout",
     "output_type": "stream",
     "text": [
      "save\n"
     ]
    },
    {
     "name": "stderr",
     "output_type": "stream",
     "text": [
      "\r",
      " 88%|██████████████████████████████████████████████████████████████████████▉          | 7/8 [1:24:29<11:59, 719.49s/it]"
     ]
    },
    {
     "name": "stdout",
     "output_type": "stream",
     "text": [
      "Total running time: 11.50 mn\n",
      "(1730, 126)\n",
      "----------------- Create time serie\n",
      "in this time series there is 22 hens\n",
      "The initial starting date in over all is: 2020-10-27 04:29:01, and the ending date will be: 2021-01-18 08:41:21\n",
      "But note that birds may have different ending and starting date which should be taken into account when computing variables\n",
      "and after ending the last day at midnight : 2020-10-27 04:29:01, and the ending date will be: 2021-01-18 23:59:59\n",
      "Total running time: 1.50 mn\n",
      "your time series has 1 seconds between two timestamps\n",
      "----------------- main night zone and nbr of transitions over night....\n",
      "----------------- total duration per Zone in seconds....\n",
      "----------------- first timestamp in each zone per day....\n",
      "----------------- number of Zone (excluding nan)....\n",
      "----------------- compute some variables based on a list of zones over a day....\n",
      "----------------NESTBOX\n"
     ]
    },
    {
     "name": "stderr",
     "output_type": "stream",
     "text": [
      "C:\\Users\\camil\\anaconda3\\lib\\site-packages\\numpy\\lib\\nanfunctions.py:1366: RuntimeWarning: Mean of empty slice\n",
      "  return np.nanmean(a, axis, out=out, keepdims=keepdims)\n"
     ]
    },
    {
     "name": "stdout",
     "output_type": "stream",
     "text": [
      "-------------- Lets remove unwanted dates at PENS level\n"
     ]
    },
    {
     "data": {
      "text/html": [
       "<text style=color:black>By removing the unwanted days we passed from 1792 to 1728 timestamp (losing </text> <text style=color:red>64</text> <text style=color:black> timestamp)</text>"
      ],
      "text/plain": [
       "<IPython.core.display.HTML object>"
      ]
     },
     "metadata": {},
     "output_type": "display_data"
    },
    {
     "name": "stdout",
     "output_type": "stream",
     "text": [
      "-------------- Lets remove dates that impacted few hens\n"
     ]
    },
    {
     "data": {
      "text/html": [
       "<text style=color:black>By removing the unwanted days we passed from 1728 to 1620 timestamp (losing </text> <text style=color:red>108</text> <text style=color:black> timestamp)</text>"
      ],
      "text/plain": [
       "<IPython.core.display.HTML object>"
      ]
     },
     "metadata": {},
     "output_type": "display_data"
    },
    {
     "name": "stdout",
     "output_type": "stream",
     "text": [
      "All the night variables are:  Index(['HenID', 'night_level', 'night_Max_duration_zones',\n",
      "       'night_Total_number_transition', 'nbr_transition_at_h0',\n",
      "       'nbr_transition_at_h1', 'nbr_transition_at_h2', 'nbr_transition_at_h3',\n",
      "       'nbr_transition_at_h4', 'nbr_transition_at_h21',\n",
      "       'nbr_transition_at_h22', 'nbr_transition_at_h23',\n",
      "       'nbr_transition_next1hafterlightoff', 'level', 'PenID', 'CLASS',\n",
      "       'TagID', 'FocalLegringName', 'R-Pen', 'InitialStartDate',\n",
      "       '29-09 weight', '10-12 juin weight', 'weight 23-11-2020',\n",
      "       'weight 04-01-2021'],\n",
      "      dtype='object')\n",
      "['night_level']\n",
      "-------------- Lets remove dates of tags when they were not giving deviceupdate regularly\n"
     ]
    },
    {
     "data": {
      "text/html": [
       "<text style=color:black>By removing the unwanted days we passed from 1752 to 1730 timestamp (losing </text> <text style=color:red>22</text> <text style=color:black> timestamp)</text>"
      ],
      "text/plain": [
       "<IPython.core.display.HTML object>"
      ]
     },
     "metadata": {},
     "output_type": "display_data"
    },
    {
     "name": "stdout",
     "output_type": "stream",
     "text": [
      "-------------- Lets remove the 30.09.2020 for the tags taht still had no transition from before the light went on \n"
     ]
    },
    {
     "data": {
      "text/html": [
       "<text style=color:black>By removing the unwanted days we passed from 1730 to 1730 timestamp (losing </text> <text style=color:red>0</text> <text style=color:black> timestamp)</text>"
      ],
      "text/plain": [
       "<IPython.core.display.HTML object>"
      ]
     },
     "metadata": {},
     "output_type": "display_data"
    },
    {
     "name": "stdout",
     "output_type": "stream",
     "text": [
      "save\n"
     ]
    },
    {
     "name": "stderr",
     "output_type": "stream",
     "text": [
      "100%|█████████████████████████████████████████████████████████████████████████████████| 8/8 [1:35:54<00:00, 719.31s/it]"
     ]
    },
    {
     "name": "stdout",
     "output_type": "stream",
     "text": [
      "Total running time: 11.38 mn\n",
      "(1730, 126)\n",
      "Total running time: 95.92 mn\n"
     ]
    },
    {
     "name": "stderr",
     "output_type": "stream",
     "text": [
      "\n",
      " 12%|██████████▌                                                                         | 1/8 [00:03<00:22,  3.19s/it]"
     ]
    },
    {
     "name": "stdout",
     "output_type": "stream",
     "text": [
      "(1734, 126)\n"
     ]
    },
    {
     "name": "stderr",
     "output_type": "stream",
     "text": [
      "\r",
      " 25%|█████████████████████                                                               | 2/8 [00:04<00:16,  2.77s/it]"
     ]
    },
    {
     "name": "stdout",
     "output_type": "stream",
     "text": [
      "(1730, 126)\n"
     ]
    },
    {
     "name": "stderr",
     "output_type": "stream",
     "text": [
      "\r",
      " 38%|███████████████████████████████▌                                                    | 3/8 [00:07<00:13,  2.79s/it]"
     ]
    },
    {
     "name": "stdout",
     "output_type": "stream",
     "text": [
      "(1786, 126)\n"
     ]
    },
    {
     "name": "stderr",
     "output_type": "stream",
     "text": [
      "\r",
      " 50%|██████████████████████████████████████████                                          | 4/8 [00:09<00:09,  2.43s/it]"
     ]
    },
    {
     "name": "stdout",
     "output_type": "stream",
     "text": [
      "(1730, 126)\n"
     ]
    },
    {
     "name": "stderr",
     "output_type": "stream",
     "text": [
      "\r",
      " 62%|████████████████████████████████████████████████████▌                               | 5/8 [00:14<00:09,  3.25s/it]"
     ]
    },
    {
     "name": "stdout",
     "output_type": "stream",
     "text": [
      "(1734, 126)\n"
     ]
    },
    {
     "name": "stderr",
     "output_type": "stream",
     "text": [
      "\r",
      " 75%|███████████████████████████████████████████████████████████████                     | 6/8 [00:16<00:05,  2.99s/it]"
     ]
    },
    {
     "name": "stdout",
     "output_type": "stream",
     "text": [
      "(1675, 126)\n"
     ]
    },
    {
     "name": "stderr",
     "output_type": "stream",
     "text": [
      "\r",
      " 88%|█████████████████████████████████████████████████████████████████████████▌          | 7/8 [00:19<00:02,  2.91s/it]"
     ]
    },
    {
     "name": "stdout",
     "output_type": "stream",
     "text": [
      "(1734, 126)\n"
     ]
    },
    {
     "name": "stderr",
     "output_type": "stream",
     "text": [
      "100%|████████████████████████████████████████████████████████████████████████████████████| 8/8 [00:23<00:00,  2.93s/it]"
     ]
    },
    {
     "name": "stdout",
     "output_type": "stream",
     "text": [
      "(1808, 126)\n"
     ]
    },
    {
     "name": "stderr",
     "output_type": "stream",
     "text": [
      "\n"
     ]
    },
    {
     "name": "stdout",
     "output_type": "stream",
     "text": [
      "(13931, 126)\n"
     ]
    },
    {
     "data": {
      "text/html": [
       "<div>\n",
       "<style scoped>\n",
       "    .dataframe tbody tr th:only-of-type {\n",
       "        vertical-align: middle;\n",
       "    }\n",
       "\n",
       "    .dataframe tbody tr th {\n",
       "        vertical-align: top;\n",
       "    }\n",
       "\n",
       "    .dataframe thead th {\n",
       "        text-align: right;\n",
       "    }\n",
       "</style>\n",
       "<table border=\"1\" class=\"dataframe\">\n",
       "  <thead>\n",
       "    <tr style=\"text-align: right;\">\n",
       "      <th></th>\n",
       "      <th>HenID</th>\n",
       "      <th>level</th>\n",
       "      <th>duration_1_Zone</th>\n",
       "      <th>duration_2_Zone</th>\n",
       "      <th>duration_3_Zone</th>\n",
       "      <th>duration_4_Zone</th>\n",
       "      <th>duration_5_Zone</th>\n",
       "      <th>verification_daily_total_duration</th>\n",
       "      <th>dur_values</th>\n",
       "      <th>dur_values_normalized</th>\n",
       "      <th>...</th>\n",
       "      <th>list_of_night20_2_temperature</th>\n",
       "      <th>nbr_temperature_nnnan</th>\n",
       "      <th>temperature_night20_2_median</th>\n",
       "      <th>temperature_night20_2_max</th>\n",
       "      <th>temperature_night20_2_var</th>\n",
       "      <th>list_of_MovementCounter_day</th>\n",
       "      <th>len_MovementCounter_day</th>\n",
       "      <th>MovementCounter_day_amount_nnactivity</th>\n",
       "      <th>MovementCounter_day_max</th>\n",
       "      <th>MovementCounter_day_mean</th>\n",
       "    </tr>\n",
       "  </thead>\n",
       "  <tbody>\n",
       "    <tr>\n",
       "      <th>0</th>\n",
       "      <td>hen_131</td>\n",
       "      <td>2020-10-27</td>\n",
       "      <td>2258.0</td>\n",
       "      <td>19862.0</td>\n",
       "      <td>17004.0</td>\n",
       "      <td>3204.0</td>\n",
       "      <td>872.0</td>\n",
       "      <td>43200.0</td>\n",
       "      <td>[2258.0, 19862.0, 17004.0, 3204.0, 872.0]</td>\n",
       "      <td>[0.05226851851851852, 0.4597685185185185, 0.39...</td>\n",
       "      <td>...</td>\n",
       "      <td>[29.0, 29.0, 30.0, 29.0, 29.0, 29.0, 29.0, 30....</td>\n",
       "      <td>36.0</td>\n",
       "      <td>29.0</td>\n",
       "      <td>30.0</td>\n",
       "      <td>0.212191</td>\n",
       "      <td>[41.0, 62.0, 72.0, 71.0, 63.0, 50.0, 36.0, 39....</td>\n",
       "      <td>72.0</td>\n",
       "      <td>0.000000</td>\n",
       "      <td>103.0</td>\n",
       "      <td>67.236111</td>\n",
       "    </tr>\n",
       "    <tr>\n",
       "      <th>1</th>\n",
       "      <td>hen_131</td>\n",
       "      <td>2020-10-28</td>\n",
       "      <td>3669.0</td>\n",
       "      <td>19439.0</td>\n",
       "      <td>17185.0</td>\n",
       "      <td>2504.0</td>\n",
       "      <td>403.0</td>\n",
       "      <td>43200.0</td>\n",
       "      <td>[3669.0, 19439.0, 17185.0, 2504.0, 403.0]</td>\n",
       "      <td>[0.08493055555555555, 0.4499768518518519, 0.39...</td>\n",
       "      <td>...</td>\n",
       "      <td>[28.0, 28.0, 28.0, 28.0, 28.0, 29.0, 29.0, 28....</td>\n",
       "      <td>36.0</td>\n",
       "      <td>29.0</td>\n",
       "      <td>29.0</td>\n",
       "      <td>0.212191</td>\n",
       "      <td>[45.0, 78.0, 59.0, 64.0, 52.0, 43.0, 43.0, 55....</td>\n",
       "      <td>72.0</td>\n",
       "      <td>0.000000</td>\n",
       "      <td>109.0</td>\n",
       "      <td>69.138889</td>\n",
       "    </tr>\n",
       "    <tr>\n",
       "      <th>2</th>\n",
       "      <td>hen_131</td>\n",
       "      <td>2020-10-29</td>\n",
       "      <td>2741.0</td>\n",
       "      <td>21189.0</td>\n",
       "      <td>19148.0</td>\n",
       "      <td>2727.0</td>\n",
       "      <td>995.0</td>\n",
       "      <td>46800.0</td>\n",
       "      <td>[2741.0, 21189.0, 19148.0, 2727.0, 995.0]</td>\n",
       "      <td>[0.05856837606837607, 0.4527564102564103, 0.40...</td>\n",
       "      <td>...</td>\n",
       "      <td>[29.0, 29.0, 29.0, 29.0, 29.0, 29.0, 29.0, 29....</td>\n",
       "      <td>36.0</td>\n",
       "      <td>29.0</td>\n",
       "      <td>29.0</td>\n",
       "      <td>0.076389</td>\n",
       "      <td>[18.0, 30.0, 30.0, 65.0, 48.0, 44.0, 66.0, 61....</td>\n",
       "      <td>78.0</td>\n",
       "      <td>0.012821</td>\n",
       "      <td>108.0</td>\n",
       "      <td>69.333333</td>\n",
       "    </tr>\n",
       "  </tbody>\n",
       "</table>\n",
       "<p>3 rows × 126 columns</p>\n",
       "</div>"
      ],
      "text/plain": [
       "     HenID      level  duration_1_Zone  duration_2_Zone  duration_3_Zone  \\\n",
       "0  hen_131 2020-10-27           2258.0          19862.0          17004.0   \n",
       "1  hen_131 2020-10-28           3669.0          19439.0          17185.0   \n",
       "2  hen_131 2020-10-29           2741.0          21189.0          19148.0   \n",
       "\n",
       "   duration_4_Zone  duration_5_Zone  verification_daily_total_duration  \\\n",
       "0           3204.0            872.0                            43200.0   \n",
       "1           2504.0            403.0                            43200.0   \n",
       "2           2727.0            995.0                            46800.0   \n",
       "\n",
       "                                  dur_values  \\\n",
       "0  [2258.0, 19862.0, 17004.0, 3204.0, 872.0]   \n",
       "1  [3669.0, 19439.0, 17185.0, 2504.0, 403.0]   \n",
       "2  [2741.0, 21189.0, 19148.0, 2727.0, 995.0]   \n",
       "\n",
       "                               dur_values_normalized  ...  \\\n",
       "0  [0.05226851851851852, 0.4597685185185185, 0.39...  ...   \n",
       "1  [0.08493055555555555, 0.4499768518518519, 0.39...  ...   \n",
       "2  [0.05856837606837607, 0.4527564102564103, 0.40...  ...   \n",
       "\n",
       "                       list_of_night20_2_temperature nbr_temperature_nnnan  \\\n",
       "0  [29.0, 29.0, 30.0, 29.0, 29.0, 29.0, 29.0, 30....                  36.0   \n",
       "1  [28.0, 28.0, 28.0, 28.0, 28.0, 29.0, 29.0, 28....                  36.0   \n",
       "2  [29.0, 29.0, 29.0, 29.0, 29.0, 29.0, 29.0, 29....                  36.0   \n",
       "\n",
       "  temperature_night20_2_median temperature_night20_2_max  \\\n",
       "0                         29.0                      30.0   \n",
       "1                         29.0                      29.0   \n",
       "2                         29.0                      29.0   \n",
       "\n",
       "  temperature_night20_2_var  \\\n",
       "0                  0.212191   \n",
       "1                  0.212191   \n",
       "2                  0.076389   \n",
       "\n",
       "                         list_of_MovementCounter_day len_MovementCounter_day  \\\n",
       "0  [41.0, 62.0, 72.0, 71.0, 63.0, 50.0, 36.0, 39....                    72.0   \n",
       "1  [45.0, 78.0, 59.0, 64.0, 52.0, 43.0, 43.0, 55....                    72.0   \n",
       "2  [18.0, 30.0, 30.0, 65.0, 48.0, 44.0, 66.0, 61....                    78.0   \n",
       "\n",
       "  MovementCounter_day_amount_nnactivity MovementCounter_day_max  \\\n",
       "0                              0.000000                   103.0   \n",
       "1                              0.000000                   109.0   \n",
       "2                              0.012821                   108.0   \n",
       "\n",
       "  MovementCounter_day_mean  \n",
       "0                67.236111  \n",
       "1                69.138889  \n",
       "2                69.333333  \n",
       "\n",
       "[3 rows x 126 columns]"
      ]
     },
     "execution_count": 18,
     "metadata": {},
     "output_type": "execute_result"
    }
   ],
   "source": [
    "#open time series per session and compute the variables for each session (car time series make sence at session level), et en \n",
    "#plus des variables tel que running entropy over the whole session ateach last timestamp of each level make sence only at \n",
    "#session level\n",
    "#once to much data, do this per pen!!! with name=pens!!\n",
    "START_TIME = time.perf_counter()\n",
    "#cleaned dataset\n",
    "df_ = df[(df['date']<date_max)&(df['date']>date_min)].copy()\n",
    "df_.drop(['model_ObservedZone'],axis=1,inplace=True)\n",
    "df_.rename(columns={'Trackingsystem_Zone':'Zone'}, inplace=True)\n",
    "display(df_.head(2))\n",
    "for p in tqdm.tqdm(df_['PenID'].unique()):\n",
    "    df_daily = HenDailyVariable_Origins(df_[df_['PenID']==p], config, name_='RAW_'+p, timestamp_name='Timestamp',\n",
    "                                       has_cons_equal_zone=True)\n",
    "    print(df_daily.shape)\n",
    "    df_daily.head(3)\n",
    "END_TIME = time.perf_counter()\n",
    "print (\"Total running time: %.2f mn\" %((END_TIME-START_TIME)/60))  \n",
    "\n",
    "#Concatenate all HenVariables csv into one\n",
    "li_paths_var = glob.glob(os.path.join(path_extracted_data, id_run+'_daily__RAW'+'*_variables.csv'))\n",
    "li_df = []\n",
    "for path_var in tqdm.tqdm(li_paths_var):\n",
    "    #for being more reproductible, we open the file that was saved from cleaning\n",
    "    df_ = pd.read_csv(path_var, sep=';',parse_dates=['level', 'FirstTimestamp_1_Zone', 'FirstTimestamp_2_Zone', \n",
    "                                                     'FirstTimestamp_3_Zone','FirstTimestamp_4_Zone',\n",
    "                                                     'FirstTimestamp_5_Zone']) \n",
    "    print(df_.shape)\n",
    "    li_df.append(df_)\n",
    "df_daily = pd.concat(li_df)\n",
    "df_daily.to_csv(os.path.join(path_extracted_data, id_run+'_daily_RAW_ALL_variables.csv'), sep=';', index=False)\n",
    "print(df_daily.shape)\n",
    "df_daily.head(3)"
   ]
  },
  {
   "cell_type": "code",
   "execution_count": 19,
   "metadata": {},
   "outputs": [
    {
     "name": "stderr",
     "output_type": "stream",
     "text": [
      "C:\\Users\\camil\\anaconda3\\lib\\site-packages\\ipykernel\\ipkernel.py:283: DeprecationWarning: `should_run_async` will not call `transform_cell` automatically in the future. Please pass the result to `transformed_cell` argument and any exception that happen during thetransform in `preprocessing_exc_tuple` in IPython 7.17 and above.\n",
      "  and should_run_async(code)\n"
     ]
    },
    {
     "name": "stdout",
     "output_type": "stream",
     "text": [
      "(13931, 127) (13931, 127) (27862, 127)\n",
      "(27862, 127)\n"
     ]
    },
    {
     "data": {
      "text/html": [
       "<div>\n",
       "<style scoped>\n",
       "    .dataframe tbody tr th:only-of-type {\n",
       "        vertical-align: middle;\n",
       "    }\n",
       "\n",
       "    .dataframe tbody tr th {\n",
       "        vertical-align: top;\n",
       "    }\n",
       "\n",
       "    .dataframe thead th {\n",
       "        text-align: right;\n",
       "    }\n",
       "</style>\n",
       "<table border=\"1\" class=\"dataframe\">\n",
       "  <thead>\n",
       "    <tr style=\"text-align: right;\">\n",
       "      <th></th>\n",
       "      <th>HenID</th>\n",
       "      <th>level</th>\n",
       "      <th>duration_1_Zone</th>\n",
       "      <th>duration_2_Zone</th>\n",
       "      <th>duration_3_Zone</th>\n",
       "      <th>duration_4_Zone</th>\n",
       "      <th>duration_5_Zone</th>\n",
       "      <th>verification_daily_total_duration</th>\n",
       "      <th>dur_values</th>\n",
       "      <th>dur_values_normalized</th>\n",
       "      <th>...</th>\n",
       "      <th>nbr_temperature_nnnan</th>\n",
       "      <th>temperature_night20_2_median</th>\n",
       "      <th>temperature_night20_2_max</th>\n",
       "      <th>temperature_night20_2_var</th>\n",
       "      <th>list_of_MovementCounter_day</th>\n",
       "      <th>len_MovementCounter_day</th>\n",
       "      <th>MovementCounter_day_amount_nnactivity</th>\n",
       "      <th>MovementCounter_day_max</th>\n",
       "      <th>MovementCounter_day_mean</th>\n",
       "      <th>type</th>\n",
       "    </tr>\n",
       "  </thead>\n",
       "  <tbody>\n",
       "    <tr>\n",
       "      <th>0</th>\n",
       "      <td>hen_131</td>\n",
       "      <td>2020-10-27</td>\n",
       "      <td>389.0</td>\n",
       "      <td>21757.0</td>\n",
       "      <td>16978.0</td>\n",
       "      <td>3204.0</td>\n",
       "      <td>872.0</td>\n",
       "      <td>43200.0</td>\n",
       "      <td>[389.0, 21757.0, 16978.0, 3204.0, 872.0]</td>\n",
       "      <td>[0.00900462962962963, 0.5036342592592593, 0.39...</td>\n",
       "      <td>...</td>\n",
       "      <td>36.0</td>\n",
       "      <td>29.0</td>\n",
       "      <td>30.0</td>\n",
       "      <td>0.212191</td>\n",
       "      <td>[41.0, 62.0, 72.0, 71.0, 63.0, 50.0, 36.0, 39....</td>\n",
       "      <td>72.0</td>\n",
       "      <td>0.000000</td>\n",
       "      <td>103.0</td>\n",
       "      <td>67.236111</td>\n",
       "      <td>cleaning</td>\n",
       "    </tr>\n",
       "    <tr>\n",
       "      <th>1</th>\n",
       "      <td>hen_131</td>\n",
       "      <td>2020-10-28</td>\n",
       "      <td>278.0</td>\n",
       "      <td>22835.0</td>\n",
       "      <td>17180.0</td>\n",
       "      <td>2504.0</td>\n",
       "      <td>403.0</td>\n",
       "      <td>43200.0</td>\n",
       "      <td>[278.0, 22835.0, 17180.0, 2504.0, 403.0]</td>\n",
       "      <td>[0.006435185185185185, 0.528587962962963, 0.39...</td>\n",
       "      <td>...</td>\n",
       "      <td>36.0</td>\n",
       "      <td>29.0</td>\n",
       "      <td>29.0</td>\n",
       "      <td>0.212191</td>\n",
       "      <td>[45.0, 78.0, 59.0, 64.0, 52.0, 43.0, 43.0, 55....</td>\n",
       "      <td>72.0</td>\n",
       "      <td>0.000000</td>\n",
       "      <td>109.0</td>\n",
       "      <td>69.138889</td>\n",
       "      <td>cleaning</td>\n",
       "    </tr>\n",
       "    <tr>\n",
       "      <th>2</th>\n",
       "      <td>hen_131</td>\n",
       "      <td>2020-10-29</td>\n",
       "      <td>0.0</td>\n",
       "      <td>23942.0</td>\n",
       "      <td>19136.0</td>\n",
       "      <td>2727.0</td>\n",
       "      <td>995.0</td>\n",
       "      <td>46800.0</td>\n",
       "      <td>[0.0, 23942.0, 19136.0, 2727.0, 995.0]</td>\n",
       "      <td>[0.0, 0.5115811965811966, 0.4088888888888889, ...</td>\n",
       "      <td>...</td>\n",
       "      <td>36.0</td>\n",
       "      <td>29.0</td>\n",
       "      <td>29.0</td>\n",
       "      <td>0.076389</td>\n",
       "      <td>[18.0, 30.0, 30.0, 65.0, 48.0, 44.0, 66.0, 61....</td>\n",
       "      <td>78.0</td>\n",
       "      <td>0.012821</td>\n",
       "      <td>108.0</td>\n",
       "      <td>69.333333</td>\n",
       "      <td>cleaning</td>\n",
       "    </tr>\n",
       "  </tbody>\n",
       "</table>\n",
       "<p>3 rows × 127 columns</p>\n",
       "</div>"
      ],
      "text/plain": [
       "     HenID      level  duration_1_Zone  duration_2_Zone  duration_3_Zone  \\\n",
       "0  hen_131 2020-10-27            389.0          21757.0          16978.0   \n",
       "1  hen_131 2020-10-28            278.0          22835.0          17180.0   \n",
       "2  hen_131 2020-10-29              0.0          23942.0          19136.0   \n",
       "\n",
       "   duration_4_Zone  duration_5_Zone  verification_daily_total_duration  \\\n",
       "0           3204.0            872.0                            43200.0   \n",
       "1           2504.0            403.0                            43200.0   \n",
       "2           2727.0            995.0                            46800.0   \n",
       "\n",
       "                                 dur_values  \\\n",
       "0  [389.0, 21757.0, 16978.0, 3204.0, 872.0]   \n",
       "1  [278.0, 22835.0, 17180.0, 2504.0, 403.0]   \n",
       "2    [0.0, 23942.0, 19136.0, 2727.0, 995.0]   \n",
       "\n",
       "                               dur_values_normalized  ...  \\\n",
       "0  [0.00900462962962963, 0.5036342592592593, 0.39...  ...   \n",
       "1  [0.006435185185185185, 0.528587962962963, 0.39...  ...   \n",
       "2  [0.0, 0.5115811965811966, 0.4088888888888889, ...  ...   \n",
       "\n",
       "  nbr_temperature_nnnan temperature_night20_2_median  \\\n",
       "0                  36.0                         29.0   \n",
       "1                  36.0                         29.0   \n",
       "2                  36.0                         29.0   \n",
       "\n",
       "  temperature_night20_2_max temperature_night20_2_var  \\\n",
       "0                      30.0                  0.212191   \n",
       "1                      29.0                  0.212191   \n",
       "2                      29.0                  0.076389   \n",
       "\n",
       "                         list_of_MovementCounter_day  len_MovementCounter_day  \\\n",
       "0  [41.0, 62.0, 72.0, 71.0, 63.0, 50.0, 36.0, 39....                     72.0   \n",
       "1  [45.0, 78.0, 59.0, 64.0, 52.0, 43.0, 43.0, 55....                     72.0   \n",
       "2  [18.0, 30.0, 30.0, 65.0, 48.0, 44.0, 66.0, 61....                     78.0   \n",
       "\n",
       "  MovementCounter_day_amount_nnactivity MovementCounter_day_max  \\\n",
       "0                              0.000000                   103.0   \n",
       "1                              0.000000                   109.0   \n",
       "2                              0.012821                   108.0   \n",
       "\n",
       "  MovementCounter_day_mean      type  \n",
       "0                67.236111  cleaning  \n",
       "1                69.138889  cleaning  \n",
       "2                69.333333  cleaning  \n",
       "\n",
       "[3 rows x 127 columns]"
      ]
     },
     "execution_count": 19,
     "metadata": {},
     "output_type": "execute_result"
    }
   ],
   "source": [
    "#for being more reproductible, we open the file that was saved from cleaning\n",
    "df_c = pd.read_csv(os.path.join(path_extracted_data, id_run+'_daily_CLEANING_ALL_variables.csv'), sep=';', parse_dates=['level'],\n",
    "                 dayfirst=True) \n",
    "df_c['type'] = 'cleaning'\n",
    "df_r = pd.read_csv(os.path.join(path_extracted_data, id_run+'_daily_RAW_ALL_variables.csv'), sep=';', parse_dates=['level'],\n",
    "                 dayfirst=True) \n",
    "df_r['type'] = 'raw'\n",
    "df_var = pd.concat([df_c,df_r])\n",
    "#remove the variables which cant have been computed with consecutives euqal zones\n",
    "li_ = [x for x in df_var.columns if 'nbr_transition' in x]\n",
    "print(li_)\n",
    "df_var.drop(li_,inplace=True, axis=1)\n",
    "df_var.to_csv(os.path.join(path_extracted_data_cleaning_rawvscleaned,'daily_ALL_variables.csv'), sep=';', index=False)\n",
    "print(df_r.shape,df_c.shape,df_var.shape)\n",
    "print(df_var.shape)\n",
    "df_var.head(3)"
   ]
  },
  {
   "cell_type": "code",
   "execution_count": 20,
   "metadata": {},
   "outputs": [
    {
     "name": "stderr",
     "output_type": "stream",
     "text": [
      "C:\\Users\\camil\\anaconda3\\lib\\site-packages\\ipykernel\\ipkernel.py:283: DeprecationWarning: `should_run_async` will not call `transform_cell` automatically in the future. Please pass the result to `transformed_cell` argument and any exception that happen during thetransform in `preprocessing_exc_tuple` in IPython 7.17 and above.\n",
      "  and should_run_async(code)\n"
     ]
    },
    {
     "data": {
      "text/plain": [
       "(numpy.datetime64('2020-10-26T00:00:00.000000000'),\n",
       " numpy.datetime64('2021-01-18T00:00:00.000000000'))"
      ]
     },
     "execution_count": 20,
     "metadata": {},
     "output_type": "execute_result"
    }
   ],
   "source": [
    "min(df_var['level'].unique()), max(df_var['level'].unique())"
   ]
  },
  {
   "cell_type": "markdown",
   "metadata": {},
   "source": [
    "df_var.sort_values(['duration_5_Zone','HenID'], inplace=True)\n",
    "df_var['in_WG_15mnAfterOpening'] = df_var['in_WG_15mnAfterOpening'].astype(float)\n",
    "li_var = ['duration_5_Zone','duration_4_Zone','duration_3_Zone','duration_2_Zone', #duration variables\n",
    "          'nbr_bouts_1_Zone','in_WG_15mnAfterOpening', #garden variables\n",
    "          'night_Total_number_transition','Total_number_transition'] #transition variables\n",
    "df_hm = df_var[li_var+['HenID','level','type']]\n",
    "df_hm = df_hm[~df_hm.isna().any(axis=1)]\n",
    "df_sel_hen = df_hm.groupby(['HenID'])['level'].count().reset_index()\n",
    "nbr = max(df_sel_hen['level'].unique())\n",
    "li_sel_hen = df_sel_hen[df_sel_hen['level']==max(df_sel_hen['level'].unique())]['HenID'].tolist()\n",
    "print('We have %d hens with %d days having 0 nan'%(len(li_sel_hen),nbr))\n",
    "df_hm = df_hm[df_hm['HenID'].isin(li_sel_hen)]\n",
    "df_hm.head(3)"
   ]
  },
  {
   "cell_type": "code",
   "execution_count": null,
   "metadata": {},
   "outputs": [],
   "source": []
  },
  {
   "cell_type": "code",
   "execution_count": null,
   "metadata": {},
   "outputs": [],
   "source": []
  },
  {
   "cell_type": "code",
   "execution_count": null,
   "metadata": {},
   "outputs": [],
   "source": []
  },
  {
   "cell_type": "code",
   "execution_count": null,
   "metadata": {},
   "outputs": [],
   "source": []
  },
  {
   "cell_type": "code",
   "execution_count": null,
   "metadata": {},
   "outputs": [],
   "source": []
  },
  {
   "cell_type": "code",
   "execution_count": null,
   "metadata": {},
   "outputs": [],
   "source": []
  },
  {
   "cell_type": "code",
   "execution_count": null,
   "metadata": {},
   "outputs": [],
   "source": []
  },
  {
   "cell_type": "code",
   "execution_count": null,
   "metadata": {},
   "outputs": [],
   "source": []
  }
 ],
 "metadata": {
  "kernelspec": {
   "display_name": "Python 3",
   "language": "python",
   "name": "python3"
  },
  "language_info": {
   "codemirror_mode": {
    "name": "ipython",
    "version": 3
   },
   "file_extension": ".py",
   "mimetype": "text/x-python",
   "name": "python",
   "nbconvert_exporter": "python",
   "pygments_lexer": "ipython3",
   "version": "3.8.5"
  }
 },
 "nbformat": 4,
 "nbformat_minor": 2
}
