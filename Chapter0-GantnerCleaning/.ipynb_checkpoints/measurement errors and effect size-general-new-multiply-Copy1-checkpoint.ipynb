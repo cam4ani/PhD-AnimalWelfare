{
 "cells": [
  {
   "cell_type": "code",
   "execution_count": 1,
   "metadata": {},
   "outputs": [],
   "source": [
    "import numpy as np\n",
    "import pandas as pd\n",
    "from sklearn.metrics import explained_variance_score\n",
    "from scipy import stats\n",
    "import matplotlib.pyplot as plt\n",
    "import seaborn as sns\n",
    "import random\n",
    "import os\n",
    "import sys\n",
    "import tqdm as tqdm"
   ]
  },
  {
   "cell_type": "code",
   "execution_count": 2,
   "metadata": {},
   "outputs": [
    {
     "name": "stderr",
     "output_type": "stream",
     "text": [
      "C:\\Users\\camil\\anaconda3\\lib\\site-packages\\scipy\\sparse\\sparsetools.py:21: DeprecationWarning: `scipy.sparse.sparsetools` is deprecated!\n",
      "scipy.sparse.sparsetools is a private module for scipy.sparse, and should not be used.\n",
      "  _deprecated()\n"
     ]
    },
    {
     "name": "stdout",
     "output_type": "stream",
     "text": [
      "2\n"
     ]
    }
   ],
   "source": [
    "PACKAGE_PARENT = '../'\n",
    "SCRIPT_DIR = os.path.dirname(os.path.realpath(os.path.join(os.getcwd(), os.path.expanduser('__file__'))))\n",
    "sys.path.append(os.path.normpath(os.path.join(SCRIPT_DIR, PACKAGE_PARENT)))\n",
    "from UTILS import cleaning_processing, preprocessing_Origins\n",
    "import config_origins_chapter0 as config"
   ]
  },
  {
   "cell_type": "code",
   "execution_count": 3,
   "metadata": {},
   "outputs": [
    {
     "name": "stderr",
     "output_type": "stream",
     "text": [
      "C:\\Users\\camil\\anaconda3\\lib\\site-packages\\ipykernel\\ipkernel.py:283: DeprecationWarning: `should_run_async` will not call `transform_cell` automatically in the future. Please pass the result to `transformed_cell` argument and any exception that happen during thetransform in `preprocessing_exc_tuple` in IPython 7.17 and above.\n",
      "  and should_run_async(code)\n"
     ]
    }
   ],
   "source": [
    "path_extracted_data = config.path_extracted_data\n",
    "path_extracted_data_cleaning = os.path.join(path_extracted_data,'Cleaning')"
   ]
  },
  {
   "cell_type": "code",
   "execution_count": 82,
   "metadata": {},
   "outputs": [
    {
     "name": "stderr",
     "output_type": "stream",
     "text": [
      "C:\\Users\\camil\\anaconda3\\lib\\site-packages\\ipykernel\\ipkernel.py:283: DeprecationWarning: `should_run_async` will not call `transform_cell` automatically in the future. Please pass the result to `transformed_cell` argument and any exception that happen during thetransform in `preprocessing_exc_tuple` in IPython 7.17 and above.\n",
      "  and should_run_async(code)\n"
     ]
    }
   ],
   "source": [
    "#initialise parameters\n",
    "obs_per_ind = 2 #sample size = obs_per_ind * ind (which vary from 10 to 100)\n",
    "cov = 0.3\n",
    "var = 1\n",
    "max_k = 10000 # max ercent of the initial noise that will be added. percent of the previous noise that we augment by the next time is always 1.\n",
    "min_EV = 0.9\n",
    "pval_sign = 0.05\n",
    "total_run = 1000"
   ]
  },
  {
   "cell_type": "code",
   "execution_count": null,
   "metadata": {
    "scrolled": true
   },
   "outputs": [
    {
     "name": "stderr",
     "output_type": "stream",
     "text": [
      "C:\\Users\\camil\\anaconda3\\lib\\site-packages\\ipykernel\\ipkernel.py:283: DeprecationWarning: `should_run_async` will not call `transform_cell` automatically in the future. Please pass the result to `transformed_cell` argument and any exception that happen during thetransform in `preprocessing_exc_tuple` in IPython 7.17 and above.\n",
      "  and should_run_async(code)\n",
      "  0%|                                                                                            | 0/1 [00:00<?, ?it/s]\n",
      "  0%|                                                                                         | 0/1000 [00:00<?, ?it/s]\u001b[A\n",
      "  0%|▍                                                                                | 5/1000 [00:00<00:26, 37.13it/s]\u001b[A\n",
      "  1%|▌                                                                                | 7/1000 [00:00<01:04, 15.40it/s]\u001b[A\n",
      "  1%|▋                                                                                | 8/1000 [00:00<01:55,  8.62it/s]\u001b[A\n",
      "  1%|▊                                                                               | 10/1000 [00:00<01:37, 10.17it/s]\u001b[A\n",
      "  1%|█                                                                               | 13/1000 [00:01<01:46,  9.30it/s]\u001b[A\n",
      "  2%|█▎                                                                              | 16/1000 [00:01<02:15,  7.27it/s]\u001b[A\n",
      "  2%|█▍                                                                              | 18/1000 [00:01<01:52,  8.72it/s]\u001b[A\n",
      "  2%|█▊                                                                              | 22/1000 [00:02<01:27, 11.16it/s]\u001b[A\n",
      "  2%|█▉                                                                              | 24/1000 [00:02<01:50,  8.85it/s]\u001b[A\n",
      "  3%|██                                                                              | 26/1000 [00:02<01:33, 10.40it/s]\u001b[A\n",
      "  3%|██▍                                                                             | 31/1000 [00:02<01:11, 13.48it/s]\u001b[A\n",
      "  4%|██▉                                                                             | 36/1000 [00:02<00:56, 17.00it/s]\u001b[A\n",
      "  4%|███                                                                             | 39/1000 [00:02<00:50, 19.06it/s]\u001b[A\n",
      "  4%|███▎                                                                            | 42/1000 [00:03<01:14, 12.92it/s]\u001b[A\n",
      "  4%|███▌                                                                            | 45/1000 [00:03<01:35,  9.97it/s]\u001b[A\n",
      "  5%|███▊                                                                            | 47/1000 [00:04<02:26,  6.53it/s]\u001b[A\n",
      "  5%|███▉                                                                            | 49/1000 [00:04<02:03,  7.70it/s]\u001b[A\n",
      "  5%|████▏                                                                           | 52/1000 [00:04<01:36,  9.86it/s]\u001b[A\n",
      "  6%|████▍                                                                           | 56/1000 [00:04<01:14, 12.73it/s]\u001b[A\n",
      "  6%|████▋                                                                           | 59/1000 [00:04<01:04, 14.59it/s]\u001b[A\n",
      "  7%|█████▎                                                                          | 67/1000 [00:04<00:49, 19.00it/s]\u001b[A\n",
      "  7%|█████▋                                                                          | 71/1000 [00:06<02:11,  7.08it/s]\u001b[A\n",
      "  8%|██████                                                                          | 75/1000 [00:06<01:39,  9.31it/s]\u001b[A\n",
      "  8%|██████▏                                                                         | 78/1000 [00:10<06:51,  2.24it/s]\u001b[A\n",
      "  8%|██████▍                                                                         | 81/1000 [00:10<05:03,  3.03it/s]\u001b[A\n",
      "  8%|██████▋                                                                         | 84/1000 [00:10<04:12,  3.63it/s]\u001b[A\n",
      "  9%|██████▉                                                                         | 86/1000 [00:10<03:31,  4.32it/s]\u001b[A\n",
      "  9%|███████▎                                                                        | 91/1000 [00:11<02:33,  5.94it/s]\u001b[A\n",
      " 10%|███████▌                                                                        | 95/1000 [00:11<02:01,  7.45it/s]\u001b[A\n",
      " 10%|███████▊                                                                        | 98/1000 [00:11<02:16,  6.59it/s]\u001b[A\n",
      " 10%|███████▉                                                                       | 101/1000 [00:11<01:45,  8.55it/s]\u001b[A\n",
      " 10%|████████▏                                                                      | 104/1000 [00:12<01:31,  9.74it/s]\u001b[A\n",
      " 11%|████████▌                                                                      | 108/1000 [00:12<01:18, 11.39it/s]\u001b[A\n",
      " 11%|█████████                                                                      | 114/1000 [00:12<00:59, 14.90it/s]\u001b[A\n",
      " 12%|█████████▏                                                                     | 117/1000 [00:12<01:17, 11.43it/s]\u001b[A\n",
      " 12%|█████████▍                                                                     | 120/1000 [00:13<01:08, 12.89it/s]\u001b[A\n",
      " 12%|█████████▋                                                                     | 123/1000 [00:13<01:12, 12.16it/s]\u001b[A\n",
      " 13%|██████████                                                                     | 127/1000 [00:14<02:31,  5.75it/s]\u001b[A\n",
      " 13%|██████████▏                                                                    | 129/1000 [00:15<02:07,  6.83it/s]\u001b[A\n",
      " 13%|██████████▎                                                                    | 131/1000 [00:16<03:55,  3.69it/s]\u001b[A\n",
      " 14%|██████████▋                                                                    | 136/1000 [00:16<02:49,  5.11it/s]\u001b[A\n",
      " 14%|███████████                                                                    | 140/1000 [00:16<02:04,  6.90it/s]\u001b[A"
     ]
    }
   ],
   "source": [
    "li_df = []\n",
    "for num_samples_ in tqdm.tqdm(range(40,50,20)):\n",
    "    num_samples = num_samples_*obs_per_ind\n",
    "    for TR in tqdm.tqdm(range(0,total_run)):\n",
    "        ############################### Simulate data ###############################\n",
    "        #mean\n",
    "        mu = np.array([0, 0])\n",
    "        #covariance matrix\n",
    "        r = np.array([[var, cov], \n",
    "                      [cov,  var]])\n",
    "        #generate the random samples and plot it\n",
    "        y = np.random.multivariate_normal(mu, r, size=num_samples)\n",
    "        df = pd.DataFrame(y)\n",
    "        #lets say one random var is tracking data and the other one is health indicator\n",
    "        df['HA'] = df[1].copy()\n",
    "        df['T_noise0'] = df[0].copy()\n",
    "\n",
    "        ##################### add small noise until achieving 99% EV #####################\n",
    "        #add noise\n",
    "        EV_init = 1\n",
    "        while EV_init != 0.99:\n",
    "            cov_noise_99 = random.choices(range(4,10,1), k=1)[0]/100\n",
    "            noise = np.random.normal(0,cov_noise_99,num_samples) #at each run it produces a different noise\n",
    "            df['T_almost_99EV'] = df['T_noise0'] + noise\n",
    "            #if EV == 0.99, we will keep it as initial data to evaluate the initial effect size and compare it with a \n",
    "            #data that have 0.91 EV (as in our finding)        \n",
    "            EV_init = round(explained_variance_score(df['T_almost_99EV'].tolist(), df['T_noise0'].tolist()), 2)\n",
    "            \n",
    "        #################### Add random noise and match it to EV ####################\n",
    "        li_coeff = []\n",
    "        li_pval = []\n",
    "        li_EV = []\n",
    "        EV_actual = 1\n",
    "        #while we still want to add noise (i.e. if the last EV is still higher than 0.9\n",
    "        while (EV_actual!=0.91):\n",
    "            #add noise\n",
    "            cov_noise = random.choices(range(12,30,2), k=1)[0]/100\n",
    "            noise = np.random.normal(0,cov_noise,num_samples) #each run produces a different noise\n",
    "            df['T_noiseX'] = df['T_noise0'] + noise\n",
    "            #effect size in terms of pearson correlation between HA and trakcing with noise\n",
    "            coeff,pval = stats.pearsonr(df['HA'].tolist(), df['T_noiseX'].tolist())\n",
    "            #quantify in terms of EV the noise\n",
    "            EV_actual = round(explained_variance_score(df['T_noiseX'].tolist(), df['T_noise0'].tolist()),2)\n",
    "        li_coeff.append(coeff)\n",
    "        li_pval.append(pval)\n",
    "        li_EV.append(EV_actual)\n",
    "        init_effectsize_corr_pval = stats.pearsonr(df['HA'].tolist(), df['T_almost_99EV'].tolist())\n",
    "\n",
    "        #enter results in a dataframe\n",
    "        df_res = pd.DataFrame({'correlation coefficient':li_coeff, 'pvalue':li_pval, 'EV':li_EV})\n",
    "        df_res['significant'] = df_res['pvalue'].map(lambda x: x<=0.05)\n",
    "        #if initial effect size is significant (otherwise non sense to check)\n",
    "        init_effectsize_pval = init_effectsize_corr_pval[1]\n",
    "        init_effectsize = init_effectsize_corr_pval[0]\n",
    "        df_res['initial effect size'] = init_effectsize\n",
    "        df_res['TR'] = TR\n",
    "        df_res['num_samples'] = num_samples\n",
    "        #keep results if the initial effect size if significant\n",
    "        if init_effectsize_pval<=pval_sign:\n",
    "            df_res['loss in effect size'] = df_res['correlation coefficient'].map(lambda x: init_effectsize-x)\n",
    "            df_res['percent loss in effect size'] = df_res['loss in effect size'].map(lambda x: x/init_effectsize*100)\n",
    "            li_df.append(df_res)\n",
    "        #df_res\n",
    "        #sns.scatterplot('correlation coefficient','EV',data=df_res, hue='pvalue', size='significant');\n",
    "        #plt.savefig(os.path.join(path_extracted_data_cleaning,'simulatedEffectofMeasurementErrors.png'), dpi=300, bbox_inches='tight')\n",
    "    \n",
    "df_allresults = pd.concat(li_df)\n",
    "df_allresults['initial effect size class'] = df_allresults['initial effect size'].map(lambda x: round(x,2))\n",
    "#df_allresults.to_csv(os.path.join(path_extracted_data_cleaning, 'df_resultresults_measurementerror_effectsize.csv'))\n",
    "print(df_allresults.shape)\n",
    "display(df_allresults.head(5))"
   ]
  },
  {
   "cell_type": "code",
   "execution_count": null,
   "metadata": {},
   "outputs": [],
   "source": [
    "df_allresults['EV'].value_counts()"
   ]
  },
  {
   "cell_type": "code",
   "execution_count": 37,
   "metadata": {},
   "outputs": [
    {
     "name": "stdout",
     "output_type": "stream",
     "text": [
      "(1076, 10) (49857, 10)\n"
     ]
    },
    {
     "name": "stderr",
     "output_type": "stream",
     "text": [
      "C:\\Users\\camil\\anaconda3\\lib\\site-packages\\ipykernel\\ipkernel.py:283: DeprecationWarning: `should_run_async` will not call `transform_cell` automatically in the future. Please pass the result to `transformed_cell` argument and any exception that happen during thetransform in `preprocessing_exc_tuple` in IPython 7.17 and above.\n",
      "  and should_run_async(code)\n"
     ]
    },
    {
     "data": {
      "text/html": [
       "<div>\n",
       "<style scoped>\n",
       "    .dataframe tbody tr th:only-of-type {\n",
       "        vertical-align: middle;\n",
       "    }\n",
       "\n",
       "    .dataframe tbody tr th {\n",
       "        vertical-align: top;\n",
       "    }\n",
       "\n",
       "    .dataframe thead th {\n",
       "        text-align: right;\n",
       "    }\n",
       "</style>\n",
       "<table border=\"1\" class=\"dataframe\">\n",
       "  <thead>\n",
       "    <tr style=\"text-align: right;\">\n",
       "      <th></th>\n",
       "      <th>correlation coefficient</th>\n",
       "      <th>pvalue</th>\n",
       "      <th>EV</th>\n",
       "      <th>significant</th>\n",
       "      <th>initial effect size</th>\n",
       "      <th>TR</th>\n",
       "      <th>num_samples</th>\n",
       "      <th>loss in effect size</th>\n",
       "      <th>percent loss in effect size</th>\n",
       "      <th>initial effect size class</th>\n",
       "    </tr>\n",
       "  </thead>\n",
       "  <tbody>\n",
       "    <tr>\n",
       "      <th>47</th>\n",
       "      <td>0.276512</td>\n",
       "      <td>0.013032</td>\n",
       "      <td>0.91</td>\n",
       "      <td>True</td>\n",
       "      <td>0.246345</td>\n",
       "      <td>2</td>\n",
       "      <td>80</td>\n",
       "      <td>-0.030167</td>\n",
       "      <td>-12.246023</td>\n",
       "      <td>0.25</td>\n",
       "    </tr>\n",
       "    <tr>\n",
       "      <th>55</th>\n",
       "      <td>0.226317</td>\n",
       "      <td>0.043523</td>\n",
       "      <td>0.91</td>\n",
       "      <td>True</td>\n",
       "      <td>0.246345</td>\n",
       "      <td>2</td>\n",
       "      <td>80</td>\n",
       "      <td>0.020028</td>\n",
       "      <td>8.129922</td>\n",
       "      <td>0.25</td>\n",
       "    </tr>\n",
       "    <tr>\n",
       "      <th>60</th>\n",
       "      <td>0.297641</td>\n",
       "      <td>0.007333</td>\n",
       "      <td>0.91</td>\n",
       "      <td>True</td>\n",
       "      <td>0.344534</td>\n",
       "      <td>7</td>\n",
       "      <td>80</td>\n",
       "      <td>0.046893</td>\n",
       "      <td>13.610509</td>\n",
       "      <td>0.34</td>\n",
       "    </tr>\n",
       "    <tr>\n",
       "      <th>72</th>\n",
       "      <td>0.288212</td>\n",
       "      <td>0.009527</td>\n",
       "      <td>0.91</td>\n",
       "      <td>True</td>\n",
       "      <td>0.344534</td>\n",
       "      <td>7</td>\n",
       "      <td>80</td>\n",
       "      <td>0.056322</td>\n",
       "      <td>16.347367</td>\n",
       "      <td>0.34</td>\n",
       "    </tr>\n",
       "    <tr>\n",
       "      <th>73</th>\n",
       "      <td>0.346019</td>\n",
       "      <td>0.001667</td>\n",
       "      <td>0.91</td>\n",
       "      <td>True</td>\n",
       "      <td>0.344534</td>\n",
       "      <td>7</td>\n",
       "      <td>80</td>\n",
       "      <td>-0.001485</td>\n",
       "      <td>-0.431048</td>\n",
       "      <td>0.34</td>\n",
       "    </tr>\n",
       "  </tbody>\n",
       "</table>\n",
       "</div>"
      ],
      "text/plain": [
       "    correlation coefficient    pvalue    EV  significant  initial effect size  \\\n",
       "47                 0.276512  0.013032  0.91         True             0.246345   \n",
       "55                 0.226317  0.043523  0.91         True             0.246345   \n",
       "60                 0.297641  0.007333  0.91         True             0.344534   \n",
       "72                 0.288212  0.009527  0.91         True             0.344534   \n",
       "73                 0.346019  0.001667  0.91         True             0.344534   \n",
       "\n",
       "    TR  num_samples  loss in effect size  percent loss in effect size  \\\n",
       "47   2           80            -0.030167                   -12.246023   \n",
       "55   2           80             0.020028                     8.129922   \n",
       "60   7           80             0.046893                    13.610509   \n",
       "72   7           80             0.056322                    16.347367   \n",
       "73   7           80            -0.001485                    -0.431048   \n",
       "\n",
       "    initial effect size class  \n",
       "47                       0.25  \n",
       "55                       0.25  \n",
       "60                       0.34  \n",
       "72                       0.34  \n",
       "73                       0.34  "
      ]
     },
     "execution_count": 37,
     "metadata": {},
     "output_type": "execute_result"
    }
   ],
   "source": [
    "#select for our special case of 99% to 91%\n",
    "df_ourres = df_allresults[(df_allresults['EV']==0.91)&(df_allresults['initial effect size']<=0.4)]\n",
    "print(df_ourres.shape, df_allresults.shape)\n",
    "df_ourres.head()"
   ]
  },
  {
   "cell_type": "code",
   "execution_count": 38,
   "metadata": {},
   "outputs": [
    {
     "name": "stderr",
     "output_type": "stream",
     "text": [
      "C:\\Users\\camil\\anaconda3\\lib\\site-packages\\ipykernel\\ipkernel.py:283: DeprecationWarning: `should_run_async` will not call `transform_cell` automatically in the future. Please pass the result to `transformed_cell` argument and any exception that happen during thetransform in `preprocessing_exc_tuple` in IPython 7.17 and above.\n",
      "  and should_run_async(code)\n"
     ]
    },
    {
     "data": {
      "text/html": [
       "<div>\n",
       "<style scoped>\n",
       "    .dataframe tbody tr th:only-of-type {\n",
       "        vertical-align: middle;\n",
       "    }\n",
       "\n",
       "    .dataframe tbody tr th {\n",
       "        vertical-align: top;\n",
       "    }\n",
       "\n",
       "    .dataframe thead th {\n",
       "        text-align: right;\n",
       "    }\n",
       "</style>\n",
       "<table border=\"1\" class=\"dataframe\">\n",
       "  <thead>\n",
       "    <tr style=\"text-align: right;\">\n",
       "      <th></th>\n",
       "      <th>initial effect size class</th>\n",
       "      <th>num_samples</th>\n",
       "      <th>significant</th>\n",
       "      <th>% that lost significance</th>\n",
       "    </tr>\n",
       "  </thead>\n",
       "  <tbody>\n",
       "    <tr>\n",
       "      <th>0</th>\n",
       "      <td>0.22</td>\n",
       "      <td>80</td>\n",
       "      <td>[True, True, True, False, False, True, True, F...</td>\n",
       "      <td>38.888889</td>\n",
       "    </tr>\n",
       "    <tr>\n",
       "      <th>1</th>\n",
       "      <td>0.23</td>\n",
       "      <td>80</td>\n",
       "      <td>[False, False, False, True, False, False, True...</td>\n",
       "      <td>47.887324</td>\n",
       "    </tr>\n",
       "    <tr>\n",
       "      <th>2</th>\n",
       "      <td>0.24</td>\n",
       "      <td>80</td>\n",
       "      <td>[True, True, True, True, True, True, True, Tru...</td>\n",
       "      <td>23.529412</td>\n",
       "    </tr>\n",
       "  </tbody>\n",
       "</table>\n",
       "</div>"
      ],
      "text/plain": [
       "   initial effect size class  num_samples  \\\n",
       "0                       0.22           80   \n",
       "1                       0.23           80   \n",
       "2                       0.24           80   \n",
       "\n",
       "                                         significant  % that lost significance  \n",
       "0  [True, True, True, False, False, True, True, F...                 38.888889  \n",
       "1  [False, False, False, True, False, False, True...                 47.887324  \n",
       "2  [True, True, True, True, True, True, True, Tru...                 23.529412  "
      ]
     },
     "metadata": {},
     "output_type": "display_data"
    },
    {
     "data": {
      "image/png": "[encoded data removed]",
      "text/plain": [
       "<Figure size 432x288 with 1 Axes>"
      ]
     },
     "metadata": {
      "needs_background": "light"
     },
     "output_type": "display_data"
    }
   ],
   "source": [
    "#visualise the lost in significance\n",
    "df_sign = df_ourres.groupby(['initial effect size class','num_samples'])['significant'].agg(lambda x: list(x)).reset_index()\n",
    "df_sign['% that lost significance'] = df_sign['significant'].map(lambda x: (1-(sum(x)/len(x)))*100)\n",
    "display(df_sign.head(3))\n",
    "#sns.boxplot(x='initial effect size class', y='% that lost significance', data=df_sign, hue='num_samples');\n",
    "sns.scatterplot(x='initial effect size class', y='% that lost significance', data=df_sign, hue='num_samples');\n",
    "plt.grid(True)\n",
    "#plt.show()\n",
    "#sns.lmplot(x='initial effect size class', y='% that lost significance', data=df_sign, hue='num_samples', order=3);\n",
    "#plt.grid(True)"
   ]
  },
  {
   "cell_type": "markdown",
   "metadata": {},
   "source": [
    "#visualize the cases where we did not lost the significance\n",
    "plt.figure(figsize=(8,4))\n",
    "sns.lineplot(x='initial effect size class', y='percent loss in effect size', \n",
    "             data=df_ourres[df_ourres['significant']], hue='num_samples');\n",
    "plt.grid(True)\n",
    "#plt.savefig(os.path.join(path_extracted_data_cleaning,'simulatedEffectofMeasurementErrors_ALL.png'), dpi=300, bbox_inches='tight')"
   ]
  },
  {
   "cell_type": "code",
   "execution_count": null,
   "metadata": {},
   "outputs": [],
   "source": [
    "plt.figure(figsize=(15,4))\n",
    "sns.boxplot(y='correlation coefficient', x='initial effect size class', hue='num_samples', data=df_ourres);\n",
    "plt.grid(True)"
   ]
  },
  {
   "cell_type": "code",
   "execution_count": null,
   "metadata": {},
   "outputs": [],
   "source": []
  },
  {
   "cell_type": "code",
   "execution_count": null,
   "metadata": {},
   "outputs": [],
   "source": []
  },
  {
   "cell_type": "code",
   "execution_count": null,
   "metadata": {},
   "outputs": [],
   "source": []
  },
  {
   "cell_type": "code",
   "execution_count": null,
   "metadata": {},
   "outputs": [],
   "source": []
  },
  {
   "cell_type": "code",
   "execution_count": null,
   "metadata": {},
   "outputs": [],
   "source": []
  },
  {
   "cell_type": "code",
   "execution_count": null,
   "metadata": {},
   "outputs": [],
   "source": []
  },
  {
   "cell_type": "code",
   "execution_count": null,
   "metadata": {},
   "outputs": [],
   "source": []
  },
  {
   "cell_type": "code",
   "execution_count": null,
   "metadata": {},
   "outputs": [],
   "source": []
  }
 ],
 "metadata": {
  "kernelspec": {
   "display_name": "Python 3",
   "language": "python",
   "name": "python3"
  },
  "language_info": {
   "codemirror_mode": {
    "name": "ipython",
    "version": 3
   },
   "file_extension": ".py",
   "mimetype": "text/x-python",
   "name": "python",
   "nbconvert_exporter": "python",
   "pygments_lexer": "ipython3",
   "version": "3.8.5"
  }
 },
 "nbformat": 4,
 "nbformat_minor": 4
}
