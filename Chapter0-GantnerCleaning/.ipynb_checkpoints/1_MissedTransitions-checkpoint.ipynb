{
 "cells": [
  {
   "cell_type": "code",
   "execution_count": 1,
   "metadata": {},
   "outputs": [],
   "source": [
    "#basic package\n",
    "import json\n",
    "import tqdm\n",
    "import os\n",
    "import numpy as np\n",
    "import glob\n",
    "import pandas as pd\n",
    "import sys\n",
    "import shutil\n",
    "import time\n",
    "import datetime as dt\n",
    "import itertools\n",
    "import time\n",
    "import re\n",
    "from collections import Counter\n",
    "from collections import defaultdict\n",
    "import operator\n",
    "import math\n",
    "import functools\n",
    "import collections\n",
    "from sklearn.metrics import confusion_matrix\n",
    "import random\n",
    "from sklearn.utils import shuffle\n",
    "\n",
    "#plot\n",
    "import matplotlib.pyplot as plt\n",
    "import seaborn as sns"
   ]
  },
  {
   "cell_type": "code",
   "execution_count": 2,
   "metadata": {},
   "outputs": [
    {
     "name": "stderr",
     "output_type": "stream",
     "text": [
      "C:\\Users\\camil\\anaconda3\\lib\\site-packages\\scipy\\sparse\\sparsetools.py:21: DeprecationWarning: `scipy.sparse.sparsetools` is deprecated!\n",
      "scipy.sparse.sparsetools is a private module for scipy.sparse, and should not be used.\n",
      "  _deprecated()\n"
     ]
    }
   ],
   "source": [
    "PACKAGE_PARENT = '../'\n",
    "SCRIPT_DIR = os.path.dirname(os.path.realpath(os.path.join(os.getcwd(), os.path.expanduser('__file__'))))\n",
    "sys.path.append(os.path.normpath(os.path.join(SCRIPT_DIR, PACKAGE_PARENT)))\n",
    "from UTILS import is_WG_open, cleaning_processing, preprocessing_Origins\n",
    "import config_origins as config"
   ]
  },
  {
   "cell_type": "code",
   "execution_count": 5,
   "metadata": {},
   "outputs": [
    {
     "name": "stdout",
     "output_type": "stream",
     "text": [
      "change the configuration file if not done yet!\n",
      "chapter0_\n"
     ]
    },
    {
     "name": "stderr",
     "output_type": "stream",
     "text": [
      "C:\\Users\\camil\\anaconda3\\lib\\site-packages\\ipykernel\\ipkernel.py:283: DeprecationWarning: `should_run_async` will not call `transform_cell` automatically in the future. Please pass the result to `transformed_cell` argument and any exception that happen during thetransform in `preprocessing_exc_tuple` in IPython 7.17 and above.\n",
      "  and should_run_async(code)\n"
     ]
    }
   ],
   "source": [
    "print('change the configuration file if not done yet!')\n",
    "path_extracted_data = config.path_extracted_data\n",
    "path_initial_data = config.path_initial_data\n",
    "id_run = config.id_run\n",
    "dico_matching = config.dico_matching\n",
    "dico_garden_opening_hour = config.dico_garden_opening_hour\n",
    "print(id_run)\n",
    "path_cleaning_records = r'G:\\VPHI\\Welfare\\2- Research Projects\\OFHE2.OriginsE2\\GantnerSystem\\GantnerCleaning\\Results'\n",
    "path_extracted_data_cleaning = os.path.join(path_extracted_data,'Cleaning')\n",
    "#path_extracted_data_cleaning = r'D:\\vm_exchange\\PhD_Data\\LogsCleaning'\n",
    "#create a director if not existing\n",
    "if not os.path.exists(path_extracted_data_cleaning):\n",
    "    os.makedirs(path_extracted_data_cleaning)"
   ]
  },
  {
   "cell_type": "markdown",
   "metadata": {},
   "source": [
    "# Download Students records"
   ]
  },
  {
   "cell_type": "code",
   "execution_count": 6,
   "metadata": {},
   "outputs": [
    {
     "name": "stderr",
     "output_type": "stream",
     "text": [
      "C:\\Users\\camil\\anaconda3\\lib\\site-packages\\ipykernel\\ipkernel.py:283: DeprecationWarning: `should_run_async` will not call `transform_cell` automatically in the future. Please pass the result to `transformed_cell` argument and any exception that happen during thetransform in `preprocessing_exc_tuple` in IPython 7.17 and above.\n",
      "  and should_run_async(code)\n"
     ]
    },
    {
     "name": "stdout",
     "output_type": "stream",
     "text": [
      "(4841, 23)\n",
      "(4766, 23)\n",
      "(4766, 23)\n"
     ]
    },
    {
     "data": {
      "text/html": [
       "<div>\n",
       "<style scoped>\n",
       "    .dataframe tbody tr th:only-of-type {\n",
       "        vertical-align: middle;\n",
       "    }\n",
       "\n",
       "    .dataframe tbody tr th {\n",
       "        vertical-align: top;\n",
       "    }\n",
       "\n",
       "    .dataframe thead th {\n",
       "        text-align: right;\n",
       "    }\n",
       "</style>\n",
       "<table border=\"1\" class=\"dataframe\">\n",
       "  <thead>\n",
       "    <tr style=\"text-align: right;\">\n",
       "      <th></th>\n",
       "      <th>student</th>\n",
       "      <th>algo_type</th>\n",
       "      <th>PenID</th>\n",
       "      <th>Date</th>\n",
       "      <th>Time</th>\n",
       "      <th>TagID</th>\n",
       "      <th>BirdID</th>\n",
       "      <th>Zone</th>\n",
       "      <th>VideoAnalyse</th>\n",
       "      <th>Comment</th>\n",
       "      <th>...</th>\n",
       "      <th>useless_zone</th>\n",
       "      <th>signalstrength</th>\n",
       "      <th>zone2</th>\n",
       "      <th>signalstzone2</th>\n",
       "      <th>zone3</th>\n",
       "      <th>signalstrzone3</th>\n",
       "      <th>zone4</th>\n",
       "      <th>signalstrzone4</th>\n",
       "      <th>BatchID</th>\n",
       "      <th>Timestamp</th>\n",
       "    </tr>\n",
       "  </thead>\n",
       "  <tbody>\n",
       "    <tr>\n",
       "      <th>0</th>\n",
       "      <td>Masha</td>\n",
       "      <td>cleaning</td>\n",
       "      <td>3.0</td>\n",
       "      <td>2020-10-16</td>\n",
       "      <td>15:50:38</td>\n",
       "      <td>3</td>\n",
       "      <td>3sb</td>\n",
       "      <td>3_Zone</td>\n",
       "      <td>1</td>\n",
       "      <td>NaN</td>\n",
       "      <td>...</td>\n",
       "      <td>2.0</td>\n",
       "      <td>9.0</td>\n",
       "      <td>1.0</td>\n",
       "      <td>5.0</td>\n",
       "      <td>6.0</td>\n",
       "      <td>4.0</td>\n",
       "      <td>4.0</td>\n",
       "      <td>1.0</td>\n",
       "      <td>NaN</td>\n",
       "      <td>2020-10-16 15:50:38</td>\n",
       "    </tr>\n",
       "    <tr>\n",
       "      <th>1</th>\n",
       "      <td>Masha</td>\n",
       "      <td>cleaning</td>\n",
       "      <td>3.0</td>\n",
       "      <td>2020-10-16</td>\n",
       "      <td>15:55:26</td>\n",
       "      <td>3</td>\n",
       "      <td>3sb</td>\n",
       "      <td>4_Zone</td>\n",
       "      <td>1</td>\n",
       "      <td>NaN</td>\n",
       "      <td>...</td>\n",
       "      <td>3.0</td>\n",
       "      <td>16.0</td>\n",
       "      <td>2.0</td>\n",
       "      <td>7.0</td>\n",
       "      <td>4.0</td>\n",
       "      <td>6.0</td>\n",
       "      <td>6.0</td>\n",
       "      <td>5.0</td>\n",
       "      <td>NaN</td>\n",
       "      <td>2020-10-16 15:55:26</td>\n",
       "    </tr>\n",
       "    <tr>\n",
       "      <th>2</th>\n",
       "      <td>Masha</td>\n",
       "      <td>cleaning</td>\n",
       "      <td>3.0</td>\n",
       "      <td>2020-10-16</td>\n",
       "      <td>15:58:44</td>\n",
       "      <td>3</td>\n",
       "      <td>3sb</td>\n",
       "      <td>5_Zone</td>\n",
       "      <td>1</td>\n",
       "      <td>obere stange  AKB  (just above/ in front of z3)</td>\n",
       "      <td>...</td>\n",
       "      <td>4.0</td>\n",
       "      <td>11.0</td>\n",
       "      <td>3.0</td>\n",
       "      <td>2.0</td>\n",
       "      <td>0.0</td>\n",
       "      <td>0.0</td>\n",
       "      <td>0.0</td>\n",
       "      <td>0.0</td>\n",
       "      <td>NaN</td>\n",
       "      <td>2020-10-16 15:58:44</td>\n",
       "    </tr>\n",
       "  </tbody>\n",
       "</table>\n",
       "<p>3 rows × 23 columns</p>\n",
       "</div>"
      ],
      "text/plain": [
       "  student algo_type  PenID       Date      Time TagID BirdID    Zone  \\\n",
       "0   Masha  cleaning    3.0 2020-10-16  15:50:38     3    3sb  3_Zone   \n",
       "1   Masha  cleaning    3.0 2020-10-16  15:55:26     3    3sb  4_Zone   \n",
       "2   Masha  cleaning    3.0 2020-10-16  15:58:44     3    3sb  5_Zone   \n",
       "\n",
       "  VideoAnalyse                                          Comment  ...  \\\n",
       "0            1                                              NaN  ...   \n",
       "1            1                                              NaN  ...   \n",
       "2            1  obere stange  AKB  (just above/ in front of z3)  ...   \n",
       "\n",
       "   useless_zone  signalstrength  zone2  signalstzone2  zone3  signalstrzone3  \\\n",
       "0           2.0             9.0    1.0            5.0    6.0             4.0   \n",
       "1           3.0            16.0    2.0            7.0    4.0             6.0   \n",
       "2           4.0            11.0    3.0            2.0    0.0             0.0   \n",
       "\n",
       "   zone4  signalstrzone4  BatchID           Timestamp  \n",
       "0    4.0             1.0      NaN 2020-10-16 15:50:38  \n",
       "1    6.0             5.0      NaN 2020-10-16 15:55:26  \n",
       "2    0.0             0.0      NaN 2020-10-16 15:58:44  \n",
       "\n",
       "[3 rows x 23 columns]"
      ]
     },
     "execution_count": 6,
     "metadata": {},
     "output_type": "execute_result"
    }
   ],
   "source": [
    "df_records = pd.read_csv(os.path.join(path_cleaning_records,'Results_all.csv'), parse_dates=['Date'], sep=';')\n",
    "df_records = df_records.dropna(subset=['VideoAnalyse'])\n",
    "df_records['Timestamp'] = df_records.apply(lambda x: dt.datetime(x['Date'].year, x['Date'].month, x['Date'].day, \n",
    "                                                             int(x['Time'].split(':')[0]), int(x['Time'].split(':')[1]), \n",
    "                                                             int(x['Time'].split(':')[2])), axis=1)\n",
    "df_records.drop_duplicates(subset=['Timestamp','TagID'], keep='last', inplace=True)\n",
    "df_records = df_records.dropna(subset=['VideoAnalyse'])\n",
    "df_records['VideoAnalyse'] = df_records['VideoAnalyse'].map(lambda x: str(x).strip().lower())\n",
    "df_records['Zone'] = df_records['Zone'].map(lambda x: config.dico_matching[x])\n",
    "df_records['TagID'] = df_records['TagID'].astype(int).astype(str)\n",
    "df_records = df_records[df_records['algo_type']=='cleaning']\n",
    "print(df_records.shape)\n",
    "df_records = df_records[df_records['VideoAnalyse']!='-1'] #remove records where the video was black and white (and hence no \n",
    "#video observation was possible anymore)\n",
    "print(df_records.shape)\n",
    "df_records.drop_duplicates(subset=['Timestamp','TagID'], keep='last', inplace=True)\n",
    "print(df_records.shape)\n",
    "df_records.head(3)"
   ]
  },
  {
   "cell_type": "code",
   "execution_count": 7,
   "metadata": {},
   "outputs": [
    {
     "name": "stderr",
     "output_type": "stream",
     "text": [
      "C:\\Users\\camil\\anaconda3\\lib\\site-packages\\ipykernel\\ipkernel.py:283: DeprecationWarning: `should_run_async` will not call `transform_cell` automatically in the future. Please pass the result to `transformed_cell` argument and any exception that happen during thetransform in `preprocessing_exc_tuple` in IPython 7.17 and above.\n",
      "  and should_run_async(code)\n"
     ]
    },
    {
     "data": {
      "text/plain": [
       "{'1': 3971, '0': 706, 'tier 1': 31, 'wg': 24, 'tier 2': 22, 'tier 3': 12}"
      ]
     },
     "execution_count": 7,
     "metadata": {},
     "output_type": "execute_result"
    }
   ],
   "source": [
    "df_records['VideoAnalyse'].replace('wintergarten','wg',inplace=True)\n",
    "df_records['VideoAnalyse'].replace('tier1','tier 1',inplace=True)\n",
    "df_records['VideoAnalyse'].replace('tier  3','tier 3',inplace=True)\n",
    "df_records['VideoAnalyse'].replace('tier 3 rampe + nestbox','tier 3',inplace=True)\n",
    "d = dict(df_records['VideoAnalyse'].value_counts())\n",
    "d"
   ]
  },
  {
   "cell_type": "code",
   "execution_count": 8,
   "metadata": {},
   "outputs": [
    {
     "name": "stdout",
     "output_type": "stream",
     "text": [
      "There is an additional 1.9 percent of the amount of registered records that was missed by the system, which is a reasonable amount of error\n"
     ]
    },
    {
     "name": "stderr",
     "output_type": "stream",
     "text": [
      "C:\\Users\\camil\\anaconda3\\lib\\site-packages\\ipykernel\\ipkernel.py:283: DeprecationWarning: `should_run_async` will not call `transform_cell` automatically in the future. Please pass the result to `transformed_cell` argument and any exception that happen during thetransform in `preprocessing_exc_tuple` in IPython 7.17 and above.\n",
      "  and should_run_async(code)\n"
     ]
    }
   ],
   "source": [
    "x_missedtransition = df_records[~df_records['VideoAnalyse'].isin(['0','1'])].shape[0]\n",
    "x_records = df_records[df_records['VideoAnalyse'].isin(['0','1'])].shape[0]\n",
    "x = round(x_missedtransition/x_records*100, 2)\n",
    "print('There is an additional %s percent of the amount of registered records that was missed by the system, \\\n",
    "which is a reasonable amount of error'%(x))"
   ]
  },
  {
   "cell_type": "code",
   "execution_count": null,
   "metadata": {},
   "outputs": [],
   "source": [
    "WRONG AS NOT REPRESENTATIVE OF THE REAL DATASET!!"
   ]
  },
  {
   "cell_type": "code",
   "execution_count": null,
   "metadata": {},
   "outputs": [],
   "source": []
  },
  {
   "cell_type": "code",
   "execution_count": null,
   "metadata": {},
   "outputs": [],
   "source": []
  },
  {
   "cell_type": "code",
   "execution_count": null,
   "metadata": {},
   "outputs": [],
   "source": []
  },
  {
   "cell_type": "code",
   "execution_count": null,
   "metadata": {},
   "outputs": [],
   "source": []
  },
  {
   "cell_type": "code",
   "execution_count": null,
   "metadata": {},
   "outputs": [],
   "source": []
  },
  {
   "cell_type": "code",
   "execution_count": null,
   "metadata": {},
   "outputs": [],
   "source": []
  },
  {
   "cell_type": "code",
   "execution_count": null,
   "metadata": {},
   "outputs": [],
   "source": []
  }
 ],
 "metadata": {
  "kernelspec": {
   "display_name": "Python 3",
   "language": "python",
   "name": "python3"
  },
  "language_info": {
   "codemirror_mode": {
    "name": "ipython",
    "version": 3
   },
   "file_extension": ".py",
   "mimetype": "text/x-python",
   "name": "python",
   "nbconvert_exporter": "python",
   "pygments_lexer": "ipython3",
   "version": "3.8.5"
  }
 },
 "nbformat": 4,
 "nbformat_minor": 2
}
