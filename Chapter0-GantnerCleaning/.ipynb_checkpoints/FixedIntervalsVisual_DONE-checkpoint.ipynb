{
 "cells": [
  {
   "cell_type": "code",
   "execution_count": 84,
   "metadata": {},
   "outputs": [
    {
     "data": {
      "image/png": "[encoded data removed]",
      "text/plain": [
       "<Figure size 1800x216 with 2 Axes>"
      ]
     },
     "metadata": {
      "needs_background": "light"
     },
     "output_type": "display_data"
    }
   ],
   "source": [
    "li_intervals = [160, 170, 180, 190, 200, 210]\n",
    "#during 7 (ou 0,07 seconds)\n",
    "duration = 7\n",
    "C = 1500\n",
    "M = np.zeros(shape=(len(li_intervals), C))\n",
    "for i,v in enumerate(li_intervals):\n",
    "    for j in range(1,C):\n",
    "        if (v*j)<C:\n",
    "            for d in range(0,duration):\n",
    "                M[i][int(v*j+d)] = 1\n",
    "plt.figure(figsize=(25,3))\n",
    "#plt.imshow(M, cmap='hot', interpolation='nearest')\n",
    "sns.heatmap(M, cmap=\"YlGnBu\")\n",
    "plt.title('')\n",
    "plt.axis('off')\n",
    "plt.show()"
   ]
  },
  {
   "cell_type": "code",
   "execution_count": null,
   "metadata": {},
   "outputs": [],
   "source": []
  },
  {
   "cell_type": "code",
   "execution_count": null,
   "metadata": {},
   "outputs": [],
   "source": []
  },
  {
   "cell_type": "code",
   "execution_count": null,
   "metadata": {},
   "outputs": [],
   "source": []
  },
  {
   "cell_type": "code",
   "execution_count": null,
   "metadata": {},
   "outputs": [],
   "source": []
  }
 ],
 "metadata": {
  "kernelspec": {
   "display_name": "Python 3",
   "language": "python",
   "name": "python3"
  },
  "language_info": {
   "codemirror_mode": {
    "name": "ipython",
    "version": 3
   },
   "file_extension": ".py",
   "mimetype": "text/x-python",
   "name": "python",
   "nbconvert_exporter": "python",
   "pygments_lexer": "ipython3",
   "version": "3.8.5"
  }
 },
 "nbformat": 4,
 "nbformat_minor": 2
}
