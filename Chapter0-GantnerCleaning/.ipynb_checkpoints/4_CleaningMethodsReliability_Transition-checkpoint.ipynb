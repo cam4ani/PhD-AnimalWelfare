{
 "cells": [
  {
   "cell_type": "code",
   "execution_count": 9,
   "metadata": {},
   "outputs": [
    {
     "name": "stderr",
     "output_type": "stream",
     "text": [
      "Warning message:\n",
      "\"package 'epiR' was built under R version 4.0.3\"\n",
      "Loading required package: survival\n",
      "\n",
      "\n",
      "Attaching package: 'survival'\n",
      "\n",
      "\n",
      "The following object is masked from 'package:caret':\n",
      "\n",
      "    cluster\n",
      "\n",
      "\n",
      "Package epiR 1.0-15 is loaded\n",
      "\n",
      "Type help(epi.about) for summary information\n",
      "\n",
      "Type browseVignettes(package = 'epiR') to learn how to use epiR for applied epidemiological analyses\n",
      "\n",
      "\n",
      "\n",
      "\n",
      "Warning message:\n",
      "\"package 'DescTools' was built under R version 4.0.3\"\n",
      "\n",
      "Attaching package: 'DescTools'\n",
      "\n",
      "\n",
      "The following objects are masked from 'package:caret':\n",
      "\n",
      "    MAE, RMSE\n",
      "\n",
      "\n"
     ]
    }
   ],
   "source": [
    "#install.packages(\"lubridate\")\n",
    "#install.packages(\"irr\")\n",
    "#install.packages(\"readr\")\n",
    "library ('irr')\n",
    "library(\"readr\")\n",
    "library(\"tidyr\")\n",
    "library ('tidyverse')\n",
    "library (\"icr\")\n",
    "library('caret')\n",
    "library('plyr') #for mapping fct\n",
    "#Lin's concordance correlation coefficient (CCC) is the concordance\n",
    "library('epiR')\n",
    "library('DescTools')"
   ]
  },
  {
   "cell_type": "markdown",
   "metadata": {},
   "source": [
    "# Video & Focals & Scan observations systems statistics"
   ]
  },
  {
   "cell_type": "code",
   "execution_count": 2,
   "metadata": {},
   "outputs": [],
   "source": [
    "#v3_ still good?"
   ]
  },
  {
   "cell_type": "code",
   "execution_count": 15,
   "metadata": {},
   "outputs": [
    {
     "name": "stderr",
     "output_type": "stream",
     "text": [
      "Parsed with column specification:\n",
      "cols(\n",
      "  BatchID = \u001b[31mcol_character()\u001b[39m,\n",
      "  tracking_ObservedZone = \u001b[32mcol_double()\u001b[39m,\n",
      "  model_ObservedZone = \u001b[32mcol_double()\u001b[39m,\n",
      "  ObservedZone = \u001b[32mcol_double()\u001b[39m,\n",
      "  binning_zone = \u001b[32mcol_double()\u001b[39m\n",
      ")\n",
      "\n"
     ]
    }
   ],
   "source": [
    "path_records = 'R:\\\\VPHI\\\\Welfare\\\\2- Research Projects\\\\OFHE2.OriginsE2\\\\DataOutput\\\\TrackingSystem\\\\v3_\\\\Cleaning'\n",
    "#open file\n",
    "df = read_delim(file.path(path_records,'reliability_transition.csv'),';',trim_ws = TRUE)"
   ]
  },
  {
   "cell_type": "code",
   "execution_count": 18,
   "metadata": {},
   "outputs": [
    {
     "name": "stdout",
     "output_type": "stream",
     "text": [
      "[1] \"------------------------------- Tracking system -------------------------------\"\n"
     ]
    },
    {
     "data": {
      "text/plain": [
       " Single Score Intraclass Correlation\n",
       "\n",
       "   Model: twoway \n",
       "   Type : agreement \n",
       "\n",
       "   Subjects = 16 \n",
       "     Raters = 2 \n",
       "   ICC(A,1) = 0.853\n",
       "\n",
       " F-Test, H0: r0 = 0 ; H1: r0 > 0 \n",
       " F(15,10.1) = 15.8 , p = 5.1e-05 \n",
       "\n",
       " 95%-Confidence Interval for ICC Population Values:\n",
       "  0.578 < ICC < 0.949"
      ]
     },
     "metadata": {},
     "output_type": "display_data"
    },
    {
     "name": "stdout",
     "output_type": "stream",
     "text": [
      "[1] \"----------------------------------- Model -------------------------------------\"\n"
     ]
    },
    {
     "data": {
      "text/plain": [
       " Single Score Intraclass Correlation\n",
       "\n",
       "   Model: twoway \n",
       "   Type : agreement \n",
       "\n",
       "   Subjects = 16 \n",
       "     Raters = 2 \n",
       "   ICC(A,1) = 0.952\n",
       "\n",
       " F-Test, H0: r0 = 0 ; H1: r0 > 0 \n",
       " F(15,14.8) = 43.8 , p = 1.45e-09 \n",
       "\n",
       " 95%-Confidence Interval for ICC Population Values:\n",
       "  0.868 < ICC < 0.983"
      ]
     },
     "metadata": {},
     "output_type": "display_data"
    },
    {
     "name": "stdout",
     "output_type": "stream",
     "text": [
      "[1] \"---------------------------------- Binning -----------------------------------\"\n"
     ]
    },
    {
     "data": {
      "text/plain": [
       " Single Score Intraclass Correlation\n",
       "\n",
       "   Model: twoway \n",
       "   Type : agreement \n",
       "\n",
       "   Subjects = 16 \n",
       "     Raters = 2 \n",
       "   ICC(A,1) = 0.938\n",
       "\n",
       " F-Test, H0: r0 = 0 ; H1: r0 > 0 \n",
       " F(15,13.4) = 35.4 , p = 2.9e-08 \n",
       "\n",
       " 95%-Confidence Interval for ICC Population Values:\n",
       "  0.826 < ICC < 0.978"
      ]
     },
     "metadata": {},
     "output_type": "display_data"
    }
   ],
   "source": [
    "print('------------------------------- Tracking system -------------------------------')\n",
    "icc(df[,c('ObservedZone','tracking_ObservedZone')], model=\"twoway\", type=\"agreement\", unit=\"single\")\n",
    "#CCC(x=x, y=y, ci=\"z-transform\", conf.level=0.95, na.rm=FALSE)\n",
    "\n",
    "print('----------------------------------- Model -------------------------------------')\n",
    "icc(df[,c('ObservedZone','model_ObservedZone')], model=\"twoway\", type=\"agreement\", unit=\"single\")\n",
    "\n",
    "print('---------------------------------- Binning -----------------------------------')\n",
    "icc(df[,c('ObservedZone','binning_zone')], model=\"twoway\", type=\"agreement\", unit=\"single\")"
   ]
  },
  {
   "cell_type": "code",
   "execution_count": null,
   "metadata": {},
   "outputs": [],
   "source": []
  },
  {
   "cell_type": "code",
   "execution_count": null,
   "metadata": {},
   "outputs": [],
   "source": []
  },
  {
   "cell_type": "code",
   "execution_count": null,
   "metadata": {},
   "outputs": [],
   "source": []
  },
  {
   "cell_type": "code",
   "execution_count": null,
   "metadata": {},
   "outputs": [],
   "source": []
  },
  {
   "cell_type": "code",
   "execution_count": null,
   "metadata": {},
   "outputs": [],
   "source": []
  },
  {
   "cell_type": "code",
   "execution_count": null,
   "metadata": {},
   "outputs": [],
   "source": []
  },
  {
   "cell_type": "code",
   "execution_count": null,
   "metadata": {},
   "outputs": [],
   "source": []
  },
  {
   "cell_type": "code",
   "execution_count": null,
   "metadata": {},
   "outputs": [],
   "source": []
  },
  {
   "cell_type": "code",
   "execution_count": null,
   "metadata": {},
   "outputs": [],
   "source": []
  }
 ],
 "metadata": {
  "kernelspec": {
   "display_name": "R",
   "language": "R",
   "name": "ir"
  },
  "language_info": {
   "codemirror_mode": "r",
   "file_extension": ".r",
   "mimetype": "text/x-r-source",
   "name": "R",
   "pygments_lexer": "r",
   "version": "4.0.2"
  }
 },
 "nbformat": 4,
 "nbformat_minor": 2
}
