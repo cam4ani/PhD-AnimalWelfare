{
 "cells": [
  {
   "cell_type": "code",
   "execution_count": 1,
   "metadata": {},
   "outputs": [],
   "source": [
    "#basic package\n",
    "import json\n",
    "import tqdm\n",
    "import os\n",
    "import numpy as np\n",
    "import glob\n",
    "import pandas as pd\n",
    "import sys\n",
    "import shutil\n",
    "import time\n",
    "import datetime as dt\n",
    "import itertools\n",
    "import time\n",
    "import re\n",
    "from collections import Counter\n",
    "from collections import defaultdict\n",
    "import operator\n",
    "import math\n",
    "import functools\n",
    "import collections\n",
    "from sklearn.metrics import confusion_matrix\n",
    "from sklearn.utils import shuffle\n",
    "import random\n",
    "\n",
    "#generate random id\n",
    "import uuid\n",
    "\n",
    "#ICC in python\n",
    "import pingouin as pg\n",
    "\n",
    "from sklearn.preprocessing import MinMaxScaler\n",
    "from sklearn.model_selection import train_test_split\n",
    "from sklearn.metrics import classification_report, confusion_matrix, plot_confusion_matrix, cohen_kappa_score\n",
    "from sklearn.ensemble import GradientBoostingClassifier, RandomForestClassifier, AdaBoostClassifier\n",
    "from xgboost import XGBClassifier\n",
    "from sklearn.gaussian_process.kernels import RBF\n",
    "from sklearn.tree import DecisionTreeClassifier\n",
    "from sklearn.gaussian_process import GaussianProcessClassifier\n",
    "from sklearn.neural_network import MLPClassifier\n",
    "from sklearn.neighbors import KNeighborsClassifier\n",
    "from sklearn.svm import SVC\n",
    "from sklearn.gaussian_process import GaussianProcessClassifier\n",
    "from sklearn.gaussian_process.kernels import RBF\n",
    "from sklearn.tree import DecisionTreeClassifier\n",
    "from sklearn.naive_bayes import GaussianNB\n",
    "from sklearn.discriminant_analysis import QuadraticDiscriminantAnalysis\n",
    "\n",
    "from xgboost import plot_importance\n",
    "#plot\n",
    "import matplotlib.pyplot as plt\n",
    "import seaborn as sns"
   ]
  },
  {
   "cell_type": "code",
   "execution_count": 34,
   "metadata": {},
   "outputs": [],
   "source": [
    "PACKAGE_PARENT = '../'\n",
    "SCRIPT_DIR = os.path.dirname(os.path.realpath(os.path.join(os.getcwd(), os.path.expanduser('__file__'))))\n",
    "sys.path.append(os.path.normpath(os.path.join(SCRIPT_DIR, PACKAGE_PARENT)))\n",
    "from UTILS import is_WG_open, ConfMat, list_of_zones\n",
    "import config_origins as config"
   ]
  },
  {
   "cell_type": "raw",
   "metadata": {},
   "source": [
    "In summary, we have data for reliability, which then will be used for verificaiton (except on batch for cleaning, taht was added to add 0 output)\n",
    "We have some data of type\n",
    "*verification and cleaning validation\n",
    "*cleaning rules creation"
   ]
  },
  {
   "cell_type": "markdown",
   "metadata": {},
   "source": [
    "# Download Input Data"
   ]
  },
  {
   "cell_type": "code",
   "execution_count": 3,
   "metadata": {},
   "outputs": [],
   "source": [
    "#define parameters\n",
    "path_extracted_data = config.path_extracted_data\n",
    "path_initial_data = config.path_initial_data\n",
    "id_run = config.id_run\n",
    "dico_matching = config.dico_matching\n",
    "dico_garden_opening_hour = config.dico_garden_opening_hour\n",
    "path_extracted_data_cleaning = os.path.join(path_extracted_data,'Cleaning')\n",
    "#path_extracted_data_cleaning = r'D:\\vm_exchange\\PhD_Data\\LogsCleaning'\n",
    "#create a director if not existing\n",
    "if not os.path.exists(path_extracted_data_cleaning):\n",
    "    os.makedirs(path_extracted_data_cleaning)\n",
    "    \n",
    "path__ = os.path.join(path_extracted_data_cleaning,'1secTS')\n",
    "#create a director if not existing\n",
    "if not os.path.exists(path__):\n",
    "    os.makedirs(path__)"
   ]
  },
  {
   "cell_type": "raw",
   "metadata": {},
   "source": [
    "Reading for algo\n",
    "https://stackabuse.com/gradient-boosting-classifiers-in-python-with-scikit-learn/\n",
    "https://www.datasciencecentral.com/profiles/blogs/decision-tree-vs-random-forest-vs-boosted-trees-explained\n",
    "TOREAD:\n",
    "*Log loss: https://datawookie.netlify.app/blog/2015/12/making-sense-of-logarithmic-loss/#:~:text=Log%20Loss%20quantifies%20the%20accuracy,get%20to%20in%20a%20moment.\n",
    "*Other classifier: https://scikit-learn.org/stable/auto_examples/classification/plot_classifier_comparison.html\n",
    "--> try gaussian process, RBF SVM"
   ]
  },
  {
   "cell_type": "code",
   "execution_count": 4,
   "metadata": {},
   "outputs": [
    {
     "name": "stdout",
     "output_type": "stream",
     "text": [
      "(3534, 31)\n"
     ]
    },
    {
     "data": {
      "text/html": [
       "<div>\n",
       "<style scoped>\n",
       "    .dataframe tbody tr th:only-of-type {\n",
       "        vertical-align: middle;\n",
       "    }\n",
       "\n",
       "    .dataframe tbody tr th {\n",
       "        vertical-align: top;\n",
       "    }\n",
       "\n",
       "    .dataframe thead th {\n",
       "        text-align: right;\n",
       "    }\n",
       "</style>\n",
       "<table border=\"1\" class=\"dataframe\">\n",
       "  <thead>\n",
       "    <tr style=\"text-align: right;\">\n",
       "      <th></th>\n",
       "      <th>Timestamp</th>\n",
       "      <th>TagID</th>\n",
       "      <th>HenID</th>\n",
       "      <th>Zone</th>\n",
       "      <th>PenID</th>\n",
       "      <th>VideoAnalyse</th>\n",
       "      <th>system</th>\n",
       "      <th>date</th>\n",
       "      <th>type</th>\n",
       "      <th>signalstrength</th>\n",
       "      <th>...</th>\n",
       "      <th>previous4zone</th>\n",
       "      <th>previous5zone</th>\n",
       "      <th>duration</th>\n",
       "      <th>previousduration</th>\n",
       "      <th>algotype</th>\n",
       "      <th>BatchID</th>\n",
       "      <th>zone2match</th>\n",
       "      <th>zone3match</th>\n",
       "      <th>zone4match</th>\n",
       "      <th>ObservedZone</th>\n",
       "    </tr>\n",
       "  </thead>\n",
       "  <tbody>\n",
       "    <tr>\n",
       "      <th>3376</th>\n",
       "      <td>2020-10-16 11:21:59</td>\n",
       "      <td>41</td>\n",
       "      <td>hen_73</td>\n",
       "      <td>2_Zone</td>\n",
       "      <td>4.0</td>\n",
       "      <td>1</td>\n",
       "      <td>3 - 5</td>\n",
       "      <td>2020-10-16</td>\n",
       "      <td>students</td>\n",
       "      <td>13.0</td>\n",
       "      <td>...</td>\n",
       "      <td>3_Zone</td>\n",
       "      <td>3_Zone</td>\n",
       "      <td>4171.0</td>\n",
       "      <td>414.0</td>\n",
       "      <td>verification</td>\n",
       "      <td>ID9</td>\n",
       "      <td>3_Zone</td>\n",
       "      <td>NoOtherZone</td>\n",
       "      <td>NoOtherZone</td>\n",
       "      <td>2_Zone</td>\n",
       "    </tr>\n",
       "    <tr>\n",
       "      <th>3216</th>\n",
       "      <td>2020-10-21 12:19:54</td>\n",
       "      <td>32</td>\n",
       "      <td>hen_150</td>\n",
       "      <td>3_Zone</td>\n",
       "      <td>4.0</td>\n",
       "      <td>1</td>\n",
       "      <td>3 - 5</td>\n",
       "      <td>2020-10-21</td>\n",
       "      <td>students</td>\n",
       "      <td>15.0</td>\n",
       "      <td>...</td>\n",
       "      <td>5_Zone</td>\n",
       "      <td>4_Zone</td>\n",
       "      <td>688.0</td>\n",
       "      <td>411.0</td>\n",
       "      <td>cleaning</td>\n",
       "      <td>NaN</td>\n",
       "      <td>4_Zone</td>\n",
       "      <td>NoOtherZone</td>\n",
       "      <td>NoOtherZone</td>\n",
       "      <td>3_Zone</td>\n",
       "    </tr>\n",
       "    <tr>\n",
       "      <th>1849</th>\n",
       "      <td>2020-10-18 15:51:41</td>\n",
       "      <td>90</td>\n",
       "      <td>hen_158</td>\n",
       "      <td>1_Zone</td>\n",
       "      <td>8.0</td>\n",
       "      <td>0</td>\n",
       "      <td>8 - 9</td>\n",
       "      <td>2020-10-18</td>\n",
       "      <td>students</td>\n",
       "      <td>4.0</td>\n",
       "      <td>...</td>\n",
       "      <td>1_Zone</td>\n",
       "      <td>2_Zone</td>\n",
       "      <td>64.0</td>\n",
       "      <td>86.0</td>\n",
       "      <td>cleaning</td>\n",
       "      <td>NaN</td>\n",
       "      <td>2_Zone</td>\n",
       "      <td>5_Zone</td>\n",
       "      <td>NoOtherZone</td>\n",
       "      <td>2_Zone</td>\n",
       "    </tr>\n",
       "  </tbody>\n",
       "</table>\n",
       "<p>3 rows × 31 columns</p>\n",
       "</div>"
      ],
      "text/plain": [
       "               Timestamp  TagID    HenID    Zone  PenID  VideoAnalyse system  \\\n",
       "3376 2020-10-16 11:21:59     41   hen_73  2_Zone    4.0             1  3 - 5   \n",
       "3216 2020-10-21 12:19:54     32  hen_150  3_Zone    4.0             1  3 - 5   \n",
       "1849 2020-10-18 15:51:41     90  hen_158  1_Zone    8.0             0  8 - 9   \n",
       "\n",
       "           date      type  signalstrength  ...  previous4zone  previous5zone  \\\n",
       "3376 2020-10-16  students            13.0  ...         3_Zone         3_Zone   \n",
       "3216 2020-10-21  students            15.0  ...         5_Zone         4_Zone   \n",
       "1849 2020-10-18  students             4.0  ...         1_Zone         2_Zone   \n",
       "\n",
       "      duration previousduration      algotype BatchID zone2match   zone3match  \\\n",
       "3376    4171.0            414.0  verification     ID9     3_Zone  NoOtherZone   \n",
       "3216     688.0            411.0      cleaning     NaN     4_Zone  NoOtherZone   \n",
       "1849      64.0             86.0      cleaning     NaN     2_Zone       5_Zone   \n",
       "\n",
       "       zone4match ObservedZone  \n",
       "3376  NoOtherZone       2_Zone  \n",
       "3216  NoOtherZone       3_Zone  \n",
       "1849  NoOtherZone       2_Zone  \n",
       "\n",
       "[3 rows x 31 columns]"
      ]
     },
     "execution_count": 4,
     "metadata": {},
     "output_type": "execute_result"
    }
   ],
   "source": [
    "df = pd.read_csv(os.path.join(path_extracted_data, id_run+'InputCleaning.csv'), parse_dates=['Timestamp', 'date'], \n",
    "                 dayfirst=True, sep=';')\n",
    "df = shuffle(df)\n",
    "df = df.rename(columns={c:c.replace('_','') for c in df.columns})\n",
    "df['HenID'] = df['HenID'].map(lambda x: 'hen_'+str(int(x)))\n",
    "print(df.shape)\n",
    "df.head(3)"
   ]
  },
  {
   "cell_type": "code",
   "execution_count": 5,
   "metadata": {},
   "outputs": [
    {
     "data": {
      "text/plain": [
       "5.0     869\n",
       "10.0    656\n",
       "8.0     596\n",
       "3.0     522\n",
       "9.0     343\n",
       "12.0    232\n",
       "4.0     222\n",
       "11.0     94\n",
       "Name: PenID, dtype: int64"
      ]
     },
     "execution_count": 5,
     "metadata": {},
     "output_type": "execute_result"
    }
   ],
   "source": [
    "df['PenID'].value_counts()"
   ]
  },
  {
   "cell_type": "code",
   "execution_count": 6,
   "metadata": {},
   "outputs": [
    {
     "data": {
      "text/plain": [
       "Index(['Timestamp', 'TagID', 'HenID', 'Zone', 'PenID', 'VideoAnalyse',\n",
       "       'system', 'date', 'type', 'signalstrength', 'signalstzone2',\n",
       "       'signalstrzone3', 'signalstrzone4', 'next1zone', 'next2zone',\n",
       "       'next3zone', 'next4zone', 'next5zone', 'previous1zone', 'previous2zone',\n",
       "       'previous3zone', 'previous4zone', 'previous5zone', 'duration',\n",
       "       'previousduration', 'algotype', 'BatchID', 'zone2match', 'zone3match',\n",
       "       'zone4match', 'ObservedZone'],\n",
       "      dtype='object')"
      ]
     },
     "execution_count": 6,
     "metadata": {},
     "output_type": "execute_result"
    }
   ],
   "source": [
    "df.columns"
   ]
  },
  {
   "cell_type": "code",
   "execution_count": 7,
   "metadata": {},
   "outputs": [],
   "source": [
    "#df[df['duration']<4][['TagID','duration','VideoAnalyse','Timestamp','PenID']]"
   ]
  },
  {
   "cell_type": "code",
   "execution_count": null,
   "metadata": {},
   "outputs": [],
   "source": []
  },
  {
   "cell_type": "markdown",
   "metadata": {},
   "source": [
    "# Split into training-validation and testing (holdout dataset)"
   ]
  },
  {
   "cell_type": "code",
   "execution_count": 8,
   "metadata": {},
   "outputs": [],
   "source": [
    "#available features\n",
    "licat = ['TagID', 'Zone', 'PenID', 'VideoAnalyse', 'system', 'date',\n",
    "         'zone2match', 'zone3match', 'zone4match',\n",
    "         'next1zone','next2zone', 'next3zone', 'next4zone', 'next5zone',\n",
    "         'previous1zone', 'previous2zone', 'previous3zone', 'previous4zone','previous5zone']\n",
    "licont = ['signalstrength', 'signalstzone2', 'signalstrzone3', 'signalstrzone4', 'duration','previousduration']\n",
    "\n",
    "#select some features\n",
    "li_cont_select = ['signalstrength', 'signalstzone2','duration'] #perhaps not duration as the data were not selected randomly\n",
    "li_cat_select = ['Zone','zone2match','previous1zone','next1zone'] #ADD WHEN WE HAVE DORIS DATA: PenID"
   ]
  },
  {
   "cell_type": "code",
   "execution_count": 9,
   "metadata": {},
   "outputs": [
    {
     "data": {
      "text/html": [
       "<div>\n",
       "<style scoped>\n",
       "    .dataframe tbody tr th:only-of-type {\n",
       "        vertical-align: middle;\n",
       "    }\n",
       "\n",
       "    .dataframe tbody tr th {\n",
       "        vertical-align: top;\n",
       "    }\n",
       "\n",
       "    .dataframe thead th {\n",
       "        text-align: right;\n",
       "    }\n",
       "</style>\n",
       "<table border=\"1\" class=\"dataframe\">\n",
       "  <thead>\n",
       "    <tr style=\"text-align: right;\">\n",
       "      <th></th>\n",
       "      <th>signalstrength</th>\n",
       "      <th>signalstzone2</th>\n",
       "      <th>duration</th>\n",
       "      <th>Zone</th>\n",
       "      <th>zone2match</th>\n",
       "      <th>previous1zone</th>\n",
       "      <th>next1zone</th>\n",
       "    </tr>\n",
       "  </thead>\n",
       "  <tbody>\n",
       "    <tr>\n",
       "      <th>3376</th>\n",
       "      <td>13.0</td>\n",
       "      <td>3.0</td>\n",
       "      <td>4171.0</td>\n",
       "      <td>2Zone</td>\n",
       "      <td>3Zone</td>\n",
       "      <td>3Zone</td>\n",
       "      <td>1Zone</td>\n",
       "    </tr>\n",
       "    <tr>\n",
       "      <th>3216</th>\n",
       "      <td>15.0</td>\n",
       "      <td>7.0</td>\n",
       "      <td>688.0</td>\n",
       "      <td>3Zone</td>\n",
       "      <td>4Zone</td>\n",
       "      <td>4Zone</td>\n",
       "      <td>2Zone</td>\n",
       "    </tr>\n",
       "    <tr>\n",
       "      <th>1849</th>\n",
       "      <td>4.0</td>\n",
       "      <td>3.0</td>\n",
       "      <td>64.0</td>\n",
       "      <td>1Zone</td>\n",
       "      <td>2Zone</td>\n",
       "      <td>2Zone</td>\n",
       "      <td>2Zone</td>\n",
       "    </tr>\n",
       "  </tbody>\n",
       "</table>\n",
       "</div>"
      ],
      "text/plain": [
       "      signalstrength  signalstzone2  duration   Zone zone2match previous1zone  \\\n",
       "3376            13.0            3.0    4171.0  2Zone      3Zone         3Zone   \n",
       "3216            15.0            7.0     688.0  3Zone      4Zone         4Zone   \n",
       "1849             4.0            3.0      64.0  1Zone      2Zone         2Zone   \n",
       "\n",
       "     next1zone  \n",
       "3376     1Zone  \n",
       "3216     2Zone  \n",
       "1849     2Zone  "
      ]
     },
     "execution_count": 9,
     "metadata": {},
     "output_type": "execute_result"
    }
   ],
   "source": [
    "#necessary to sum categories within the features importances\n",
    "for x in li_cat_select+['ObservedZone']:\n",
    "    df[x] = df[x].map(lambda x: x.replace('_',''))\n",
    "df[li_cont_select+li_cat_select].head(3)"
   ]
  },
  {
   "cell_type": "code",
   "execution_count": 10,
   "metadata": {},
   "outputs": [
    {
     "data": {
      "text/html": [
       "<div>\n",
       "<style scoped>\n",
       "    .dataframe tbody tr th:only-of-type {\n",
       "        vertical-align: middle;\n",
       "    }\n",
       "\n",
       "    .dataframe tbody tr th {\n",
       "        vertical-align: top;\n",
       "    }\n",
       "\n",
       "    .dataframe thead th {\n",
       "        text-align: right;\n",
       "    }\n",
       "</style>\n",
       "<table border=\"1\" class=\"dataframe\">\n",
       "  <thead>\n",
       "    <tr style=\"text-align: right;\">\n",
       "      <th></th>\n",
       "      <th>Timestamp</th>\n",
       "      <th>TagID</th>\n",
       "      <th>HenID</th>\n",
       "      <th>Zone</th>\n",
       "      <th>PenID</th>\n",
       "      <th>VideoAnalyse</th>\n",
       "      <th>system</th>\n",
       "      <th>date</th>\n",
       "      <th>type</th>\n",
       "      <th>signalstrength</th>\n",
       "      <th>...</th>\n",
       "      <th>previous4zone</th>\n",
       "      <th>previous5zone</th>\n",
       "      <th>duration</th>\n",
       "      <th>previousduration</th>\n",
       "      <th>algotype</th>\n",
       "      <th>BatchID</th>\n",
       "      <th>zone2match</th>\n",
       "      <th>zone3match</th>\n",
       "      <th>zone4match</th>\n",
       "      <th>ObservedZone</th>\n",
       "    </tr>\n",
       "  </thead>\n",
       "  <tbody>\n",
       "    <tr>\n",
       "      <th>3216</th>\n",
       "      <td>2020-10-21 12:19:54</td>\n",
       "      <td>32</td>\n",
       "      <td>hen_150</td>\n",
       "      <td>3Zone</td>\n",
       "      <td>4.0</td>\n",
       "      <td>1</td>\n",
       "      <td>3 - 5</td>\n",
       "      <td>2020-10-21</td>\n",
       "      <td>students</td>\n",
       "      <td>15.0</td>\n",
       "      <td>...</td>\n",
       "      <td>5_Zone</td>\n",
       "      <td>4_Zone</td>\n",
       "      <td>688.0</td>\n",
       "      <td>411.0</td>\n",
       "      <td>cleaning</td>\n",
       "      <td>NaN</td>\n",
       "      <td>4Zone</td>\n",
       "      <td>NoOtherZone</td>\n",
       "      <td>NoOtherZone</td>\n",
       "      <td>3Zone</td>\n",
       "    </tr>\n",
       "    <tr>\n",
       "      <th>1849</th>\n",
       "      <td>2020-10-18 15:51:41</td>\n",
       "      <td>90</td>\n",
       "      <td>hen_158</td>\n",
       "      <td>1Zone</td>\n",
       "      <td>8.0</td>\n",
       "      <td>0</td>\n",
       "      <td>8 - 9</td>\n",
       "      <td>2020-10-18</td>\n",
       "      <td>students</td>\n",
       "      <td>4.0</td>\n",
       "      <td>...</td>\n",
       "      <td>1_Zone</td>\n",
       "      <td>2_Zone</td>\n",
       "      <td>64.0</td>\n",
       "      <td>86.0</td>\n",
       "      <td>cleaning</td>\n",
       "      <td>NaN</td>\n",
       "      <td>2Zone</td>\n",
       "      <td>5_Zone</td>\n",
       "      <td>NoOtherZone</td>\n",
       "      <td>2Zone</td>\n",
       "    </tr>\n",
       "    <tr>\n",
       "      <th>2854</th>\n",
       "      <td>2020-10-25 15:08:58</td>\n",
       "      <td>49</td>\n",
       "      <td>hen_122</td>\n",
       "      <td>4Zone</td>\n",
       "      <td>12.0</td>\n",
       "      <td>1</td>\n",
       "      <td>10 - 12</td>\n",
       "      <td>2020-10-25</td>\n",
       "      <td>students</td>\n",
       "      <td>19.0</td>\n",
       "      <td>...</td>\n",
       "      <td>1_Zone</td>\n",
       "      <td>2_Zone</td>\n",
       "      <td>46.0</td>\n",
       "      <td>24.0</td>\n",
       "      <td>cleaning</td>\n",
       "      <td>NaN</td>\n",
       "      <td>3Zone</td>\n",
       "      <td>2_Zone</td>\n",
       "      <td>5_Zone</td>\n",
       "      <td>4Zone</td>\n",
       "    </tr>\n",
       "    <tr>\n",
       "      <th>2306</th>\n",
       "      <td>2020-10-18 13:37:51</td>\n",
       "      <td>130</td>\n",
       "      <td>hen_49</td>\n",
       "      <td>2Zone</td>\n",
       "      <td>10.0</td>\n",
       "      <td>1</td>\n",
       "      <td>10 - 12</td>\n",
       "      <td>2020-10-18</td>\n",
       "      <td>students</td>\n",
       "      <td>7.0</td>\n",
       "      <td>...</td>\n",
       "      <td>2_Zone</td>\n",
       "      <td>3_Zone</td>\n",
       "      <td>285.0</td>\n",
       "      <td>46.0</td>\n",
       "      <td>cleaning</td>\n",
       "      <td>NaN</td>\n",
       "      <td>3Zone</td>\n",
       "      <td>NoOtherZone</td>\n",
       "      <td>NoOtherZone</td>\n",
       "      <td>2Zone</td>\n",
       "    </tr>\n",
       "    <tr>\n",
       "      <th>2169</th>\n",
       "      <td>2020-10-18 10:39:01</td>\n",
       "      <td>125</td>\n",
       "      <td>hen_54</td>\n",
       "      <td>3Zone</td>\n",
       "      <td>10.0</td>\n",
       "      <td>0</td>\n",
       "      <td>10 - 12</td>\n",
       "      <td>2020-10-18</td>\n",
       "      <td>students</td>\n",
       "      <td>3.0</td>\n",
       "      <td>...</td>\n",
       "      <td>3_Zone</td>\n",
       "      <td>3_Zone</td>\n",
       "      <td>12.0</td>\n",
       "      <td>503.0</td>\n",
       "      <td>cleaning</td>\n",
       "      <td>NaN</td>\n",
       "      <td>2Zone</td>\n",
       "      <td>NoOtherZone</td>\n",
       "      <td>NoOtherZone</td>\n",
       "      <td>2Zone</td>\n",
       "    </tr>\n",
       "    <tr>\n",
       "      <th>...</th>\n",
       "      <td>...</td>\n",
       "      <td>...</td>\n",
       "      <td>...</td>\n",
       "      <td>...</td>\n",
       "      <td>...</td>\n",
       "      <td>...</td>\n",
       "      <td>...</td>\n",
       "      <td>...</td>\n",
       "      <td>...</td>\n",
       "      <td>...</td>\n",
       "      <td>...</td>\n",
       "      <td>...</td>\n",
       "      <td>...</td>\n",
       "      <td>...</td>\n",
       "      <td>...</td>\n",
       "      <td>...</td>\n",
       "      <td>...</td>\n",
       "      <td>...</td>\n",
       "      <td>...</td>\n",
       "      <td>...</td>\n",
       "      <td>...</td>\n",
       "    </tr>\n",
       "    <tr>\n",
       "      <th>2355</th>\n",
       "      <td>2020-10-18 16:31:57</td>\n",
       "      <td>130</td>\n",
       "      <td>hen_49</td>\n",
       "      <td>3Zone</td>\n",
       "      <td>10.0</td>\n",
       "      <td>1</td>\n",
       "      <td>10 - 12</td>\n",
       "      <td>2020-10-18</td>\n",
       "      <td>students</td>\n",
       "      <td>12.0</td>\n",
       "      <td>...</td>\n",
       "      <td>3_Zone</td>\n",
       "      <td>3_Zone</td>\n",
       "      <td>13.0</td>\n",
       "      <td>73.0</td>\n",
       "      <td>cleaning</td>\n",
       "      <td>NaN</td>\n",
       "      <td>miniZone3</td>\n",
       "      <td>4_Zone</td>\n",
       "      <td>2_Zone</td>\n",
       "      <td>3Zone</td>\n",
       "    </tr>\n",
       "    <tr>\n",
       "      <th>2381</th>\n",
       "      <td>2020-10-14 09:20:09</td>\n",
       "      <td>8</td>\n",
       "      <td>hen_20</td>\n",
       "      <td>2Zone</td>\n",
       "      <td>3.0</td>\n",
       "      <td>1</td>\n",
       "      <td>3 - 5</td>\n",
       "      <td>2020-10-14</td>\n",
       "      <td>students</td>\n",
       "      <td>10.0</td>\n",
       "      <td>...</td>\n",
       "      <td>3_Zone</td>\n",
       "      <td>5_Zone</td>\n",
       "      <td>631.0</td>\n",
       "      <td>12.0</td>\n",
       "      <td>cleaning</td>\n",
       "      <td>NaN</td>\n",
       "      <td>NoOtherZone</td>\n",
       "      <td>NoOtherZone</td>\n",
       "      <td>NoOtherZone</td>\n",
       "      <td>2Zone</td>\n",
       "    </tr>\n",
       "    <tr>\n",
       "      <th>2824</th>\n",
       "      <td>2020-10-25 13:47:56</td>\n",
       "      <td>49</td>\n",
       "      <td>hen_122</td>\n",
       "      <td>3Zone</td>\n",
       "      <td>12.0</td>\n",
       "      <td>1</td>\n",
       "      <td>10 - 12</td>\n",
       "      <td>2020-10-25</td>\n",
       "      <td>students</td>\n",
       "      <td>12.0</td>\n",
       "      <td>...</td>\n",
       "      <td>3_Zone</td>\n",
       "      <td>2_Zone</td>\n",
       "      <td>34.0</td>\n",
       "      <td>30.0</td>\n",
       "      <td>cleaning</td>\n",
       "      <td>NaN</td>\n",
       "      <td>4Zone</td>\n",
       "      <td>5_Zone</td>\n",
       "      <td>2_Zone</td>\n",
       "      <td>3Zone</td>\n",
       "    </tr>\n",
       "    <tr>\n",
       "      <th>1418</th>\n",
       "      <td>2020-10-17 15:15:12</td>\n",
       "      <td>117</td>\n",
       "      <td>hen_177</td>\n",
       "      <td>3Zone</td>\n",
       "      <td>10.0</td>\n",
       "      <td>1</td>\n",
       "      <td>10 - 12</td>\n",
       "      <td>2020-10-17</td>\n",
       "      <td>students</td>\n",
       "      <td>11.0</td>\n",
       "      <td>...</td>\n",
       "      <td>3_Zone</td>\n",
       "      <td>2_Zone</td>\n",
       "      <td>8.0</td>\n",
       "      <td>30.0</td>\n",
       "      <td>cleaning</td>\n",
       "      <td>NaN</td>\n",
       "      <td>miniZone3</td>\n",
       "      <td>5_Zone</td>\n",
       "      <td>4_Zone</td>\n",
       "      <td>3Zone</td>\n",
       "    </tr>\n",
       "    <tr>\n",
       "      <th>2187</th>\n",
       "      <td>2020-10-18 11:40:19</td>\n",
       "      <td>125</td>\n",
       "      <td>hen_54</td>\n",
       "      <td>3Zone</td>\n",
       "      <td>10.0</td>\n",
       "      <td>1</td>\n",
       "      <td>10 - 12</td>\n",
       "      <td>2020-10-18</td>\n",
       "      <td>students</td>\n",
       "      <td>16.0</td>\n",
       "      <td>...</td>\n",
       "      <td>3_Zone</td>\n",
       "      <td>2_Zone</td>\n",
       "      <td>15.0</td>\n",
       "      <td>280.0</td>\n",
       "      <td>cleaning</td>\n",
       "      <td>NaN</td>\n",
       "      <td>3Zone</td>\n",
       "      <td>2_Zone</td>\n",
       "      <td>4_Zone</td>\n",
       "      <td>3Zone</td>\n",
       "    </tr>\n",
       "  </tbody>\n",
       "</table>\n",
       "<p>3253 rows × 31 columns</p>\n",
       "</div>"
      ],
      "text/plain": [
       "               Timestamp  TagID    HenID   Zone  PenID  VideoAnalyse   system  \\\n",
       "3216 2020-10-21 12:19:54     32  hen_150  3Zone    4.0             1    3 - 5   \n",
       "1849 2020-10-18 15:51:41     90  hen_158  1Zone    8.0             0    8 - 9   \n",
       "2854 2020-10-25 15:08:58     49  hen_122  4Zone   12.0             1  10 - 12   \n",
       "2306 2020-10-18 13:37:51    130   hen_49  2Zone   10.0             1  10 - 12   \n",
       "2169 2020-10-18 10:39:01    125   hen_54  3Zone   10.0             0  10 - 12   \n",
       "...                  ...    ...      ...    ...    ...           ...      ...   \n",
       "2355 2020-10-18 16:31:57    130   hen_49  3Zone   10.0             1  10 - 12   \n",
       "2381 2020-10-14 09:20:09      8   hen_20  2Zone    3.0             1    3 - 5   \n",
       "2824 2020-10-25 13:47:56     49  hen_122  3Zone   12.0             1  10 - 12   \n",
       "1418 2020-10-17 15:15:12    117  hen_177  3Zone   10.0             1  10 - 12   \n",
       "2187 2020-10-18 11:40:19    125   hen_54  3Zone   10.0             1  10 - 12   \n",
       "\n",
       "           date      type  signalstrength  ...  previous4zone  previous5zone  \\\n",
       "3216 2020-10-21  students            15.0  ...         5_Zone         4_Zone   \n",
       "1849 2020-10-18  students             4.0  ...         1_Zone         2_Zone   \n",
       "2854 2020-10-25  students            19.0  ...         1_Zone         2_Zone   \n",
       "2306 2020-10-18  students             7.0  ...         2_Zone         3_Zone   \n",
       "2169 2020-10-18  students             3.0  ...         3_Zone         3_Zone   \n",
       "...         ...       ...             ...  ...            ...            ...   \n",
       "2355 2020-10-18  students            12.0  ...         3_Zone         3_Zone   \n",
       "2381 2020-10-14  students            10.0  ...         3_Zone         5_Zone   \n",
       "2824 2020-10-25  students            12.0  ...         3_Zone         2_Zone   \n",
       "1418 2020-10-17  students            11.0  ...         3_Zone         2_Zone   \n",
       "2187 2020-10-18  students            16.0  ...         3_Zone         2_Zone   \n",
       "\n",
       "      duration previousduration  algotype BatchID   zone2match   zone3match  \\\n",
       "3216     688.0            411.0  cleaning     NaN        4Zone  NoOtherZone   \n",
       "1849      64.0             86.0  cleaning     NaN        2Zone       5_Zone   \n",
       "2854      46.0             24.0  cleaning     NaN        3Zone       2_Zone   \n",
       "2306     285.0             46.0  cleaning     NaN        3Zone  NoOtherZone   \n",
       "2169      12.0            503.0  cleaning     NaN        2Zone  NoOtherZone   \n",
       "...        ...              ...       ...     ...          ...          ...   \n",
       "2355      13.0             73.0  cleaning     NaN    miniZone3       4_Zone   \n",
       "2381     631.0             12.0  cleaning     NaN  NoOtherZone  NoOtherZone   \n",
       "2824      34.0             30.0  cleaning     NaN        4Zone       5_Zone   \n",
       "1418       8.0             30.0  cleaning     NaN    miniZone3       5_Zone   \n",
       "2187      15.0            280.0  cleaning     NaN        3Zone       2_Zone   \n",
       "\n",
       "       zone4match ObservedZone  \n",
       "3216  NoOtherZone        3Zone  \n",
       "1849  NoOtherZone        2Zone  \n",
       "2854       5_Zone        4Zone  \n",
       "2306  NoOtherZone        2Zone  \n",
       "2169  NoOtherZone        2Zone  \n",
       "...           ...          ...  \n",
       "2355       2_Zone        3Zone  \n",
       "2381  NoOtherZone        2Zone  \n",
       "2824       2_Zone        3Zone  \n",
       "1418       4_Zone        3Zone  \n",
       "2187       4_Zone        3Zone  \n",
       "\n",
       "[3253 rows x 31 columns]"
      ]
     },
     "execution_count": 10,
     "metadata": {},
     "output_type": "execute_result"
    }
   ],
   "source": [
    "#show rows with at least one nan\n",
    "df[df.isna().any(axis=1)]"
   ]
  },
  {
   "cell_type": "code",
   "execution_count": 11,
   "metadata": {},
   "outputs": [],
   "source": [
    "df_testing = df[df['algotype']=='verification'].copy()\n",
    "df_cleaning = df[df['algotype']=='cleaning'].copy()"
   ]
  },
  {
   "cell_type": "code",
   "execution_count": 12,
   "metadata": {},
   "outputs": [
    {
     "data": {
      "text/plain": [
       "1    2517\n",
       "0     736\n",
       "Name: VideoAnalyse, dtype: int64"
      ]
     },
     "execution_count": 12,
     "metadata": {},
     "output_type": "execute_result"
    }
   ],
   "source": [
    "df_cleaning['VideoAnalyse'].value_counts()"
   ]
  },
  {
   "cell_type": "code",
   "execution_count": 13,
   "metadata": {},
   "outputs": [
    {
     "name": "stdout",
     "output_type": "stream",
     "text": [
      "(281, 31) (3253, 31)\n"
     ]
    }
   ],
   "source": [
    "print(df_testing.shape, df_cleaning.shape)"
   ]
  },
  {
   "cell_type": "markdown",
   "metadata": {},
   "source": [
    "# Split into training and validation (for parameter tuning)"
   ]
  },
  {
   "cell_type": "code",
   "execution_count": 14,
   "metadata": {},
   "outputs": [
    {
     "name": "stdout",
     "output_type": "stream",
     "text": [
      "(3253, 21) (3253, 1)\n",
      "(281, 21) (281, 1)\n"
     ]
    }
   ],
   "source": [
    "#transform categorical data into dumies\n",
    "df_cl_d = pd.get_dummies(df_cleaning.filter(li_cont_select+li_cat_select, axis=1), columns=li_cat_select, drop_first=True)\n",
    "df_te_d = pd.get_dummies(df_testing.filter(li_cont_select+li_cat_select, axis=1), columns=li_cat_select, drop_first=True)\n",
    "\n",
    "if len(df_te_d.columns)!=len(df_cl_d.columns):\n",
    "    print('the test set does not have the same amount of features than the cleaning set, certainly due to low amount of data,\\\n",
    "    Please remove some varibles that has missing values in the testing set')\n",
    "    sys.exit()\n",
    "    \n",
    "#train\n",
    "X_train = df_cl_d.values\n",
    "y_train = df_cleaning[['VideoAnalyse']].values\n",
    "print(X_train.shape, y_train.shape)\n",
    "\n",
    "#test\n",
    "X_test = df_te_d.values\n",
    "y_test = df_testing[['VideoAnalyse']].values\n",
    "print(X_test.shape, y_test.shape)\n",
    "\n",
    "#var name\n",
    "var_name = df_cl_d.columns\n",
    "\n",
    "#scaler = MinMaxScaler()\n",
    "#X_train = scaler.fit_transform(X_train)\n",
    "#X_test = scaler.transform(X_test) \n",
    "\n",
    "#split training into validation\n",
    "state = 10  \n",
    "val_size = 0.25  \n",
    "X_train, X_val, y_train, y_val = train_test_split(X_train, y_train, test_size=val_size, random_state=state)"
   ]
  },
  {
   "cell_type": "markdown",
   "metadata": {},
   "source": [
    "# Model"
   ]
  },
  {
   "cell_type": "code",
   "execution_count": 15,
   "metadata": {
    "scrolled": true
   },
   "outputs": [
    {
     "name": "stderr",
     "output_type": "stream",
     "text": [
      "C:\\Users\\camil\\Anaconda3\\lib\\site-packages\\sklearn\\utils\\validation.py:72: DataConversionWarning: A column-vector y was passed when a 1d array was expected. Please change the shape of y to (n_samples, ), for example using ravel().\n",
      "  return f(**kwargs)\n",
      "C:\\Users\\camil\\Anaconda3\\lib\\site-packages\\sklearn\\utils\\validation.py:72: DataConversionWarning: A column-vector y was passed when a 1d array was expected. Please change the shape of y to (n_samples, ), for example using ravel().\n",
      "  return f(**kwargs)\n",
      "C:\\Users\\camil\\Anaconda3\\lib\\site-packages\\sklearn\\utils\\validation.py:72: DataConversionWarning: A column-vector y was passed when a 1d array was expected. Please change the shape of y to (n_samples, ), for example using ravel().\n",
      "  return f(**kwargs)\n",
      "C:\\Users\\camil\\Anaconda3\\lib\\site-packages\\sklearn\\utils\\validation.py:72: DataConversionWarning: A column-vector y was passed when a 1d array was expected. Please change the shape of y to (n_samples, ), for example using ravel().\n",
      "  return f(**kwargs)\n",
      "C:\\Users\\camil\\Anaconda3\\lib\\site-packages\\sklearn\\utils\\validation.py:72: DataConversionWarning: A column-vector y was passed when a 1d array was expected. Please change the shape of y to (n_samples, ), for example using ravel().\n",
      "  return f(**kwargs)\n",
      "C:\\Users\\camil\\Anaconda3\\lib\\site-packages\\sklearn\\utils\\validation.py:72: DataConversionWarning: A column-vector y was passed when a 1d array was expected. Please change the shape of y to (n_samples, ), for example using ravel().\n",
      "  return f(**kwargs)\n",
      "C:\\Users\\camil\\Anaconda3\\lib\\site-packages\\sklearn\\utils\\validation.py:72: DataConversionWarning: A column-vector y was passed when a 1d array was expected. Please change the shape of y to (n_samples, ), for example using ravel().\n",
      "  return f(**kwargs)\n",
      "C:\\Users\\camil\\Anaconda3\\lib\\site-packages\\sklearn\\utils\\validation.py:72: DataConversionWarning: A column-vector y was passed when a 1d array was expected. Please change the shape of y to (n_samples, ), for example using ravel().\n",
      "  return f(**kwargs)\n",
      "C:\\Users\\camil\\Anaconda3\\lib\\site-packages\\sklearn\\utils\\validation.py:72: DataConversionWarning: A column-vector y was passed when a 1d array was expected. Please change the shape of y to (n_samples, ), for example using ravel().\n",
      "  return f(**kwargs)\n",
      "C:\\Users\\camil\\Anaconda3\\lib\\site-packages\\sklearn\\utils\\validation.py:72: DataConversionWarning: A column-vector y was passed when a 1d array was expected. Please change the shape of y to (n_samples, ), for example using ravel().\n",
      "  return f(**kwargs)\n",
      "C:\\Users\\camil\\Anaconda3\\lib\\site-packages\\sklearn\\utils\\validation.py:72: DataConversionWarning: A column-vector y was passed when a 1d array was expected. Please change the shape of y to (n_samples, ), for example using ravel().\n",
      "  return f(**kwargs)\n",
      "C:\\Users\\camil\\Anaconda3\\lib\\site-packages\\sklearn\\utils\\validation.py:72: DataConversionWarning: A column-vector y was passed when a 1d array was expected. Please change the shape of y to (n_samples, ), for example using ravel().\n",
      "  return f(**kwargs)\n",
      "C:\\Users\\camil\\Anaconda3\\lib\\site-packages\\sklearn\\utils\\validation.py:72: DataConversionWarning: A column-vector y was passed when a 1d array was expected. Please change the shape of y to (n_samples, ), for example using ravel().\n",
      "  return f(**kwargs)\n",
      "C:\\Users\\camil\\Anaconda3\\lib\\site-packages\\sklearn\\utils\\validation.py:72: DataConversionWarning: A column-vector y was passed when a 1d array was expected. Please change the shape of y to (n_samples, ), for example using ravel().\n",
      "  return f(**kwargs)\n"
     ]
    },
    {
     "data": {
      "image/png": "[encoded data removed]",
      "text/plain": [
       "<Figure size 432x288 with 1 Axes>"
      ]
     },
     "metadata": {
      "needs_background": "light"
     },
     "output_type": "display_data"
    }
   ],
   "source": [
    "lr_list = [0.05, 0.075, 0.1, 0.25, 0.5, 0.75, 1]\n",
    "li_dico = []\n",
    "for lr in lr_list:\n",
    "    dico_mod = {#'GaussianProcessClassifier': GaussianProcessClassifier(1.0 * RBF(1.0), learning_rate=lr), \n",
    "                #'RandomForest':RandomForestClassifier(max_depth=5, n_estimators=10, max_features=1, learning_rate=lr),\n",
    "                 #'RBF SVM':SVC(gamma=2, C=1, learning_rate=lr),\n",
    "                 #'neural net':MLPClassifier(alpha=1, max_iter=1000, learning_rate=lr),\n",
    "                 #'naive bayes':GaussianNB(learning_rate=lr),\n",
    "                 'XGB': XGBClassifier(learning_rate=lr),\n",
    "                 'GradientBoostingClassifier': GradientBoostingClassifier(n_estimators=20, learning_rate=lr, max_features=2, \n",
    "                                        max_depth=2, random_state=0)}\n",
    "    for name,mod in dico_mod.items():\n",
    "        mod.fit(X_train, y_train)\n",
    "        li_dico.append({'algo':name, 'learning_rate':lr, 'type':'validation','accuracy':round(mod.score(X_val, y_val),2)})\n",
    "        li_dico.append({'algo':name, 'learning_rate':lr, 'type':'training', 'accuracy':round(mod.score(X_train, y_train),2)})\n",
    "\n",
    "#Alternatively, you could predict the X_val data and then check the accuracy against the y_val by using accuracy_score. \n",
    "#It should give you the same kind of result.\n",
    "df_result = pd.DataFrame(li_dico)\n",
    "sns.lineplot(data=df_result, x=\"learning_rate\", y=\"accuracy\", hue=\"algo\", style=\"type\");\n",
    "#plt.savefig(os.path.join(path_extracted_data_cleaning,id_run+'_ClassifierParamTuningLearningRate.png'), bbox_inches='tight')"
   ]
  },
  {
   "cell_type": "code",
   "execution_count": 16,
   "metadata": {
    "scrolled": true
   },
   "outputs": [
    {
     "name": "stderr",
     "output_type": "stream",
     "text": [
      "C:\\Users\\camil\\Anaconda3\\lib\\site-packages\\ipykernel_launcher.py:12: DataConversionWarning: A column-vector y was passed when a 1d array was expected. Please change the shape of y to (n_samples,), for example using ravel().\n",
      "  if sys.path[0] == '':\n",
      "C:\\Users\\camil\\Anaconda3\\lib\\site-packages\\sklearn\\utils\\validation.py:72: DataConversionWarning: A column-vector y was passed when a 1d array was expected. Please change the shape of y to (n_samples, ), for example using ravel().\n",
      "  return f(**kwargs)\n",
      "C:\\Users\\camil\\Anaconda3\\lib\\site-packages\\sklearn\\utils\\validation.py:72: DataConversionWarning: A column-vector y was passed when a 1d array was expected. Please change the shape of y to (n_samples, ), for example using ravel().\n",
      "  return f(**kwargs)\n",
      "C:\\Users\\camil\\Anaconda3\\lib\\site-packages\\ipykernel_launcher.py:12: DataConversionWarning: A column-vector y was passed when a 1d array was expected. Please change the shape of y to (n_samples,), for example using ravel().\n",
      "  if sys.path[0] == '':\n",
      "C:\\Users\\camil\\Anaconda3\\lib\\site-packages\\sklearn\\utils\\validation.py:72: DataConversionWarning: A column-vector y was passed when a 1d array was expected. Please change the shape of y to (n_samples, ), for example using ravel().\n",
      "  return f(**kwargs)\n",
      "C:\\Users\\camil\\Anaconda3\\lib\\site-packages\\sklearn\\utils\\validation.py:72: DataConversionWarning: A column-vector y was passed when a 1d array was expected. Please change the shape of y to (n_samples, ), for example using ravel().\n",
      "  return f(**kwargs)\n",
      "C:\\Users\\camil\\Anaconda3\\lib\\site-packages\\ipykernel_launcher.py:12: DataConversionWarning: A column-vector y was passed when a 1d array was expected. Please change the shape of y to (n_samples,), for example using ravel().\n",
      "  if sys.path[0] == '':\n",
      "C:\\Users\\camil\\Anaconda3\\lib\\site-packages\\sklearn\\utils\\validation.py:72: DataConversionWarning: A column-vector y was passed when a 1d array was expected. Please change the shape of y to (n_samples, ), for example using ravel().\n",
      "  return f(**kwargs)\n",
      "C:\\Users\\camil\\Anaconda3\\lib\\site-packages\\sklearn\\utils\\validation.py:72: DataConversionWarning: A column-vector y was passed when a 1d array was expected. Please change the shape of y to (n_samples, ), for example using ravel().\n",
      "  return f(**kwargs)\n",
      "C:\\Users\\camil\\Anaconda3\\lib\\site-packages\\ipykernel_launcher.py:12: DataConversionWarning: A column-vector y was passed when a 1d array was expected. Please change the shape of y to (n_samples,), for example using ravel().\n",
      "  if sys.path[0] == '':\n",
      "C:\\Users\\camil\\Anaconda3\\lib\\site-packages\\sklearn\\utils\\validation.py:72: DataConversionWarning: A column-vector y was passed when a 1d array was expected. Please change the shape of y to (n_samples, ), for example using ravel().\n",
      "  return f(**kwargs)\n",
      "C:\\Users\\camil\\Anaconda3\\lib\\site-packages\\sklearn\\utils\\validation.py:72: DataConversionWarning: A column-vector y was passed when a 1d array was expected. Please change the shape of y to (n_samples, ), for example using ravel().\n",
      "  return f(**kwargs)\n",
      "C:\\Users\\camil\\Anaconda3\\lib\\site-packages\\ipykernel_launcher.py:12: DataConversionWarning: A column-vector y was passed when a 1d array was expected. Please change the shape of y to (n_samples,), for example using ravel().\n",
      "  if sys.path[0] == '':\n",
      "C:\\Users\\camil\\Anaconda3\\lib\\site-packages\\sklearn\\utils\\validation.py:72: DataConversionWarning: A column-vector y was passed when a 1d array was expected. Please change the shape of y to (n_samples, ), for example using ravel().\n",
      "  return f(**kwargs)\n",
      "C:\\Users\\camil\\Anaconda3\\lib\\site-packages\\sklearn\\utils\\validation.py:72: DataConversionWarning: A column-vector y was passed when a 1d array was expected. Please change the shape of y to (n_samples, ), for example using ravel().\n",
      "  return f(**kwargs)\n",
      "C:\\Users\\camil\\Anaconda3\\lib\\site-packages\\ipykernel_launcher.py:12: DataConversionWarning: A column-vector y was passed when a 1d array was expected. Please change the shape of y to (n_samples,), for example using ravel().\n",
      "  if sys.path[0] == '':\n",
      "C:\\Users\\camil\\Anaconda3\\lib\\site-packages\\sklearn\\utils\\validation.py:72: DataConversionWarning: A column-vector y was passed when a 1d array was expected. Please change the shape of y to (n_samples, ), for example using ravel().\n",
      "  return f(**kwargs)\n",
      "C:\\Users\\camil\\Anaconda3\\lib\\site-packages\\sklearn\\utils\\validation.py:72: DataConversionWarning: A column-vector y was passed when a 1d array was expected. Please change the shape of y to (n_samples, ), for example using ravel().\n",
      "  return f(**kwargs)\n",
      "C:\\Users\\camil\\Anaconda3\\lib\\site-packages\\ipykernel_launcher.py:12: DataConversionWarning: A column-vector y was passed when a 1d array was expected. Please change the shape of y to (n_samples,), for example using ravel().\n",
      "  if sys.path[0] == '':\n",
      "C:\\Users\\camil\\Anaconda3\\lib\\site-packages\\sklearn\\utils\\validation.py:72: DataConversionWarning: A column-vector y was passed when a 1d array was expected. Please change the shape of y to (n_samples, ), for example using ravel().\n",
      "  return f(**kwargs)\n",
      "C:\\Users\\camil\\Anaconda3\\lib\\site-packages\\sklearn\\utils\\validation.py:72: DataConversionWarning: A column-vector y was passed when a 1d array was expected. Please change the shape of y to (n_samples, ), for example using ravel().\n",
      "  return f(**kwargs)\n"
     ]
    },
    {
     "data": {
      "image/png": "[encoded data removed]",
      "text/plain": [
       "<Figure size 432x288 with 1 Axes>"
      ]
     },
     "metadata": {
      "needs_background": "light"
     },
     "output_type": "display_data"
    }
   ],
   "source": [
    "li_dico = []\n",
    "for md in [2,3,4,5,6,7,8]:\n",
    "    dico_mod = {#'GaussianProcessClassifier': GaussianProcessClassifier(1.0 * RBF(1.0), max_depth=md), \n",
    "                'RandomForest':RandomForestClassifier(n_estimators=10, max_features=1, max_depth=md),\n",
    "                #'RBF SVM':SVC(gamma=2, C=1, max_depth=md),\n",
    "                #'neural net':MLPClassifier(alpha=1, max_iter=1000, max_depth=md),\n",
    "                #'naive bayes':GaussianNB(max_depth=md),\n",
    "                'XGB': XGBClassifier(learning_rate=0.5, max_depth=md),\n",
    "                'GradientBoostingClassifier': GradientBoostingClassifier(n_estimators=20, learning_rate=0.15, max_features=2, \n",
    "                                        max_depth=md, random_state=0)}\n",
    "    for name,mod in dico_mod.items():\n",
    "        mod.fit(X_train, y_train)\n",
    "        li_dico.append({'algo':name, 'max depth':md, 'type':'validation','accuracy':round(mod.score(X_val, y_val),2)})\n",
    "        li_dico.append({'algo':name, 'max depth':md, 'type':'training', 'accuracy':round(mod.score(X_train, y_train),2)})\n",
    "\n",
    "#Alternatively, you could predict the X_val data and then check the accuracy against the y_val by using accuracy_score. \n",
    "#It should give you the same kind of result.\n",
    "df_result = pd.DataFrame(li_dico)\n",
    "sns.lineplot(data=df_result, x=\"max depth\", y=\"accuracy\", hue=\"algo\", style=\"type\");\n",
    "#plt.savefig(os.path.join(path_extracted_data_cleaning,id_run+'_ClassifierParamTuningMaxdepth.png'), bbox_inches='tight')"
   ]
  },
  {
   "cell_type": "markdown",
   "metadata": {},
   "source": [
    "### fit best model"
   ]
  },
  {
   "cell_type": "code",
   "execution_count": 17,
   "metadata": {},
   "outputs": [],
   "source": [
    "#https://www.kaggle.com/ericbae731/feature-importance-of-gradient-boosting-simple"
   ]
  },
  {
   "cell_type": "code",
   "execution_count": 18,
   "metadata": {},
   "outputs": [
    {
     "name": "stderr",
     "output_type": "stream",
     "text": [
      "C:\\Users\\camil\\Anaconda3\\lib\\site-packages\\sklearn\\utils\\validation.py:72: DataConversionWarning: A column-vector y was passed when a 1d array was expected. Please change the shape of y to (n_samples, ), for example using ravel().\n",
      "  return f(**kwargs)\n"
     ]
    },
    {
     "data": {
      "text/plain": [
       "XGBClassifier(learning_rate=0.5)"
      ]
     },
     "execution_count": 18,
     "metadata": {},
     "output_type": "execute_result"
    }
   ],
   "source": [
    "model = XGBClassifier(learning_rate=0.5, max_depth=3)\n",
    "model.fit(X_train, y_train)"
   ]
  },
  {
   "cell_type": "markdown",
   "metadata": {},
   "source": [
    "TODO\n",
    "#choose parameters!!\n",
    "GradientBoostingClassifier(loss=’deviance’, learning_rate=0.1, n_estimators=100, \n",
    "                            subsample=1.0, criterion=’friedman_mse’, min_samples_split=2, \n",
    "                            min_samples_leaf=1, min_weight_fraction_leaf=0.0, max_depth=3, \n",
    "                            min_impurity_decrease=0.0, min_impurity_split=None, init=None, \n",
    "                            random_state=None, max_features=None, verbose=0, max_leaf_nodes=None, \n",
    "                            warm_start=False, presort=’auto’, validation_fraction=0.1, n_iter_no_change=None, tol=0.0001)\n",
    "\n",
    "clf = GradientBoostingClassifier(n_estimators=100, learning_rate=0.05, max_depth=5, random_state=0)\n",
    "clf.fit(tr_x, tr_y)"
   ]
  },
  {
   "cell_type": "markdown",
   "metadata": {},
   "source": [
    "# Feature importance"
   ]
  },
  {
   "cell_type": "markdown",
   "metadata": {},
   "source": [
    "#plot feature importance: Fscore!\n",
    "plot_importance(model)\n",
    "plt.show()"
   ]
  },
  {
   "cell_type": "markdown",
   "metadata": {
    "scrolled": true
   },
   "source": [
    "#old\n",
    "#https://scikit-learn.org/stable/modules/generated/sklearn.svm.SVR.html#sklearn.svm.SVR\n",
    "feature_importance = model.feature_importances_\n",
    "#make importances relative to max importance\n",
    "#feature_importance = 100.0 * (feature_importance / feature_importance.max())\n",
    "sorted_idx = np.argsort(feature_importance)\n",
    "pos = np.arange(sorted_idx.shape[0]) + .5\n",
    "#plt.subplot(1, 2, 2)\n",
    "plt.figure(figsize=(3, 7))\n",
    "plt.barh(pos, feature_importance[sorted_idx], align='center')\n",
    "plt.yticks(pos, var_name[sorted_idx])\n",
    "plt.xlabel('Relative Importance')\n",
    "plt.title('Variable Importance')\n",
    "plt.show()"
   ]
  },
  {
   "cell_type": "code",
   "execution_count": 19,
   "metadata": {},
   "outputs": [
    {
     "data": {
      "image/png": "[encoded data removed]",
      "text/plain": [
       "<Figure size 216x504 with 1 Axes>"
      ]
     },
     "metadata": {
      "needs_background": "light"
     },
     "output_type": "display_data"
    }
   ],
   "source": [
    "feature_importance = model.feature_importances_\n",
    "# make importances relative to max importance\n",
    "#feature_importance = 100.0 * (feature_importance / feature_importance.max())\n",
    "dico_f_imp = {var_name[i]:feature_importance[i] for i in range(0,len(var_name))}\n",
    "#display(dico_f_imp)\n",
    "dico_fg_imp = {x.split('_')[0]:sum([dico_f_imp[i] for i in dico_f_imp.keys() if i.split('_')[0]==x.split('_')[0]]) for x in dico_f_imp.keys()}\n",
    "#display(dico_fg_imp)\n",
    "#sort the dictionary by the importance values\n",
    "dico_fg_imp_sorted = {k: v for k, v in sorted(dico_fg_imp.items(), key=lambda item: item[1])}\n",
    "plt.figure(figsize=(3, 7))\n",
    "pos = [i+0.5 for i in range(0,len(dico_fg_imp))]\n",
    "plt.barh(pos, dico_fg_imp_sorted.values(), align='center')\n",
    "plt.yticks(pos, dico_fg_imp_sorted.keys())\n",
    "plt.xlabel('Relative Importance')\n",
    "plt.title('Variable Importance')\n",
    "plt.savefig(os.path.join(path_extracted_data_cleaning,'FeaturesImportance.png'), bbox_inches='tight')\n",
    "plt.show()"
   ]
  },
  {
   "cell_type": "markdown",
   "metadata": {},
   "source": [
    "### Relevance of algorithm on validation data"
   ]
  },
  {
   "cell_type": "code",
   "execution_count": 20,
   "metadata": {
    "scrolled": true
   },
   "outputs": [
    {
     "name": "stderr",
     "output_type": "stream",
     "text": [
      "C:\\Users\\camil\\Anaconda3\\lib\\site-packages\\sklearn\\utils\\validation.py:70: FutureWarning: Pass labels=[0, 1] as keyword args. From version 0.25 passing these as positional arguments will result in an error\n",
      "  FutureWarning)\n"
     ]
    },
    {
     "data": {
      "image/png": "[encoded data removed]",
      "text/plain": [
       "<Figure size 360x360 with 2 Axes>"
      ]
     },
     "metadata": {
      "needs_background": "light"
     },
     "output_type": "display_data"
    },
    {
     "name": "stdout",
     "output_type": "stream",
     "text": [
      "Classification Report\n",
      "              precision    recall  f1-score   support\n",
      "\n",
      "           0       0.88      0.86      0.87       179\n",
      "           1       0.96      0.97      0.96       635\n",
      "\n",
      "    accuracy                           0.94       814\n",
      "   macro avg       0.92      0.91      0.92       814\n",
      "weighted avg       0.94      0.94      0.94       814\n",
      "\n"
     ]
    }
   ],
   "source": [
    "ConfMat(li_true=y_val, \n",
    "        li_pred=model.predict(X_val), \n",
    "        labels=[0,1], \n",
    "        path_save=os.path.join(path_extracted_data_cleaning,id_run+'_CM_model_validating.png'), \n",
    "        xlabel_='Tracking system & algorithm')"
   ]
  },
  {
   "cell_type": "markdown",
   "metadata": {},
   "source": [
    "# TESTING DATA"
   ]
  },
  {
   "cell_type": "code",
   "execution_count": null,
   "metadata": {},
   "outputs": [],
   "source": [
    "li_dico = []\n",
    "runID = uuid.uuid1()\n",
    "#transform categorical data into dumies\n",
    "df_te_d = pd.get_dummies(df_testing.filter(li_cont_select+li_cat_select, axis=1), columns=li_cat_select, drop_first=True)\n",
    "X_test = df_te_d.values\n",
    "y_test = df_testing[['VideoAnalyse']].values"
   ]
  },
  {
   "cell_type": "markdown",
   "metadata": {},
   "source": [
    "# Relevance of algorithm on testing data"
   ]
  },
  {
   "cell_type": "code",
   "execution_count": 21,
   "metadata": {},
   "outputs": [
    {
     "data": {
      "image/png": "[encoded data removed]",
      "text/plain": [
       "<Figure size 360x360 with 2 Axes>"
      ]
     },
     "metadata": {
      "needs_background": "light"
     },
     "output_type": "display_data"
    },
    {
     "name": "stdout",
     "output_type": "stream",
     "text": [
      "Classification Report\n",
      "              precision    recall  f1-score   support\n",
      "\n",
      "           0       0.57      1.00      0.72        13\n",
      "           1       1.00      0.96      0.98       268\n",
      "\n",
      "    accuracy                           0.96       281\n",
      "   macro avg       0.78      0.98      0.85       281\n",
      "weighted avg       0.98      0.96      0.97       281\n",
      "\n"
     ]
    }
   ],
   "source": [
    "predictions = model.predict(X_test)\n",
    "ConfMat(li_true=y_test, \n",
    "        li_pred=model.predict(X_test), \n",
    "        labels=[0,1], \n",
    "        path_save=os.path.join(path_extracted_data_cleaning,id_run+'_CM_model_testing.png'), \n",
    "        xlabel_='Tracking system & algorithm')"
   ]
  },
  {
   "cell_type": "markdown",
   "metadata": {},
   "source": [
    "# Save data for reliability of records at zone level (algo)"
   ]
  },
  {
   "cell_type": "code",
   "execution_count": 22,
   "metadata": {},
   "outputs": [],
   "source": [
    "#https://scikit-learn.org/stable/modules/generated/sklearn.metrics.cohen_kappa_score.html\n",
    "#cohen_kappa_score(y_test, predictions, weights = \"quadratic\")"
   ]
  },
  {
   "cell_type": "code",
   "execution_count": 23,
   "metadata": {},
   "outputs": [
    {
     "data": {
      "text/html": [
       "<div>\n",
       "<style scoped>\n",
       "    .dataframe tbody tr th:only-of-type {\n",
       "        vertical-align: middle;\n",
       "    }\n",
       "\n",
       "    .dataframe tbody tr th {\n",
       "        vertical-align: top;\n",
       "    }\n",
       "\n",
       "    .dataframe thead th {\n",
       "        text-align: right;\n",
       "    }\n",
       "</style>\n",
       "<table border=\"1\" class=\"dataframe\">\n",
       "  <thead>\n",
       "    <tr style=\"text-align: right;\">\n",
       "      <th></th>\n",
       "      <th>Zone</th>\n",
       "      <th>model_prediction</th>\n",
       "      <th>date</th>\n",
       "    </tr>\n",
       "  </thead>\n",
       "  <tbody>\n",
       "    <tr>\n",
       "      <th>0</th>\n",
       "      <td>1Zone</td>\n",
       "      <td>0</td>\n",
       "      <td>5</td>\n",
       "    </tr>\n",
       "    <tr>\n",
       "      <th>1</th>\n",
       "      <td>1Zone</td>\n",
       "      <td>1</td>\n",
       "      <td>7</td>\n",
       "    </tr>\n",
       "    <tr>\n",
       "      <th>2</th>\n",
       "      <td>2Zone</td>\n",
       "      <td>0</td>\n",
       "      <td>7</td>\n",
       "    </tr>\n",
       "    <tr>\n",
       "      <th>3</th>\n",
       "      <td>2Zone</td>\n",
       "      <td>1</td>\n",
       "      <td>67</td>\n",
       "    </tr>\n",
       "    <tr>\n",
       "      <th>4</th>\n",
       "      <td>3Zone</td>\n",
       "      <td>0</td>\n",
       "      <td>9</td>\n",
       "    </tr>\n",
       "    <tr>\n",
       "      <th>5</th>\n",
       "      <td>3Zone</td>\n",
       "      <td>1</td>\n",
       "      <td>146</td>\n",
       "    </tr>\n",
       "    <tr>\n",
       "      <th>6</th>\n",
       "      <td>4Zone</td>\n",
       "      <td>0</td>\n",
       "      <td>1</td>\n",
       "    </tr>\n",
       "    <tr>\n",
       "      <th>7</th>\n",
       "      <td>4Zone</td>\n",
       "      <td>1</td>\n",
       "      <td>25</td>\n",
       "    </tr>\n",
       "    <tr>\n",
       "      <th>8</th>\n",
       "      <td>5Zone</td>\n",
       "      <td>0</td>\n",
       "      <td>1</td>\n",
       "    </tr>\n",
       "    <tr>\n",
       "      <th>9</th>\n",
       "      <td>5Zone</td>\n",
       "      <td>1</td>\n",
       "      <td>13</td>\n",
       "    </tr>\n",
       "  </tbody>\n",
       "</table>\n",
       "</div>"
      ],
      "text/plain": [
       "    Zone  model_prediction  date\n",
       "0  1Zone                 0     5\n",
       "1  1Zone                 1     7\n",
       "2  2Zone                 0     7\n",
       "3  2Zone                 1    67\n",
       "4  3Zone                 0     9\n",
       "5  3Zone                 1   146\n",
       "6  4Zone                 0     1\n",
       "7  4Zone                 1    25\n",
       "8  5Zone                 0     1\n",
       "9  5Zone                 1    13"
      ]
     },
     "execution_count": 23,
     "metadata": {},
     "output_type": "execute_result"
    }
   ],
   "source": [
    "df_testing['model_prediction'] = model.predict(X_test)\n",
    "df_testing.groupby(['Zone','model_prediction'])['date'].count().reset_index()"
   ]
  },
  {
   "cell_type": "code",
   "execution_count": 24,
   "metadata": {},
   "outputs": [
    {
     "data": {
      "text/html": [
       "<div>\n",
       "<style scoped>\n",
       "    .dataframe tbody tr th:only-of-type {\n",
       "        vertical-align: middle;\n",
       "    }\n",
       "\n",
       "    .dataframe tbody tr th {\n",
       "        vertical-align: top;\n",
       "    }\n",
       "\n",
       "    .dataframe thead th {\n",
       "        text-align: right;\n",
       "    }\n",
       "</style>\n",
       "<table border=\"1\" class=\"dataframe\">\n",
       "  <thead>\n",
       "    <tr style=\"text-align: right;\">\n",
       "      <th></th>\n",
       "      <th>ObservedZone</th>\n",
       "      <th>model_ObservedZone</th>\n",
       "      <th>model_prediction</th>\n",
       "      <th>previous1zone</th>\n",
       "    </tr>\n",
       "  </thead>\n",
       "  <tbody>\n",
       "    <tr>\n",
       "      <th>3376</th>\n",
       "      <td>2Zone</td>\n",
       "      <td>2Zone</td>\n",
       "      <td>1</td>\n",
       "      <td>3Zone</td>\n",
       "    </tr>\n",
       "    <tr>\n",
       "      <th>3317</th>\n",
       "      <td>3Zone</td>\n",
       "      <td>3Zone</td>\n",
       "      <td>1</td>\n",
       "      <td>4Zone</td>\n",
       "    </tr>\n",
       "    <tr>\n",
       "      <th>3310</th>\n",
       "      <td>2Zone</td>\n",
       "      <td>2Zone</td>\n",
       "      <td>1</td>\n",
       "      <td>3Zone</td>\n",
       "    </tr>\n",
       "  </tbody>\n",
       "</table>\n",
       "</div>"
      ],
      "text/plain": [
       "     ObservedZone model_ObservedZone model_prediction previous1zone\n",
       "3376        2Zone              2Zone                1         3Zone\n",
       "3317        3Zone              3Zone                1         4Zone\n",
       "3310        2Zone              2Zone                1         3Zone"
      ]
     },
     "execution_count": 24,
     "metadata": {},
     "output_type": "execute_result"
    }
   ],
   "source": [
    "#add the zone that would be selected with this algorithm output: if==0, then the true zone is the one before\n",
    "df_testing['model_prediction'] = df_testing['model_prediction'].astype(str)\n",
    "df_testing['model_ObservedZone'] = df_testing.apply(lambda x: x['Zone'] if x['model_prediction']=='1' else x['previous1zone'],\n",
    "                                                    axis=1)\n",
    "df_testing[['ObservedZone', 'model_ObservedZone', 'model_prediction','previous1zone']].head(3)"
   ]
  },
  {
   "cell_type": "code",
   "execution_count": 25,
   "metadata": {},
   "outputs": [
    {
     "name": "stderr",
     "output_type": "stream",
     "text": [
      "C:\\Users\\camil\\Anaconda3\\lib\\site-packages\\sklearn\\utils\\validation.py:70: FutureWarning: Pass labels=['1Zone', '2Zone', '3Zone', '4Zone', '5Zone'] as keyword args. From version 0.25 passing these as positional arguments will result in an error\n",
      "  FutureWarning)\n"
     ]
    },
    {
     "data": {
      "image/png": "[encoded data removed]",
      "text/plain": [
       "<Figure size 360x360 with 2 Axes>"
      ]
     },
     "metadata": {
      "needs_background": "light"
     },
     "output_type": "display_data"
    },
    {
     "name": "stdout",
     "output_type": "stream",
     "text": [
      "Classification Report\n",
      "              precision    recall  f1-score   support\n",
      "\n",
      "       1Zone       1.00      0.70      0.82        10\n",
      "       2Zone       0.96      1.00      0.98        82\n",
      "       3Zone       1.00      0.99      1.00       150\n",
      "       4Zone       1.00      0.96      0.98        26\n",
      "       5Zone       0.87      1.00      0.93        13\n",
      "\n",
      "    accuracy                           0.98       281\n",
      "   macro avg       0.97      0.93      0.94       281\n",
      "weighted avg       0.98      0.98      0.98       281\n",
      "\n"
     ]
    }
   ],
   "source": [
    "#we will only look at when the records was wrongly recorded, not when we issed a record, due to results from validation: only\n",
    "#very very few such cases\n",
    "ConfMat(li_true=df_testing['ObservedZone'].tolist(), \n",
    "        li_pred=df_testing['model_ObservedZone'].tolist(), \n",
    "        labels=['1Zone', '2Zone', '3Zone', '4Zone', '5Zone'], \n",
    "        path_save=os.path.join(path_extracted_data_cleaning,id_run+'_CM_model_testing_Zone.png'), \n",
    "        xlabel_='Tracking system & algorithm')"
   ]
  },
  {
   "cell_type": "code",
   "execution_count": 26,
   "metadata": {},
   "outputs": [
    {
     "data": {
      "image/png": "[encoded data removed]",
      "text/plain": [
       "<Figure size 360x360 with 2 Axes>"
      ]
     },
     "metadata": {
      "needs_background": "light"
     },
     "output_type": "display_data"
    },
    {
     "name": "stdout",
     "output_type": "stream",
     "text": [
      "Classification Report\n",
      "              precision    recall  f1-score   support\n",
      "\n",
      "       1Zone       0.83      1.00      0.91        10\n",
      "       2Zone       0.97      0.88      0.92        82\n",
      "       3Zone       0.95      0.98      0.96       150\n",
      "       4Zone       1.00      1.00      1.00        26\n",
      "       5Zone       0.93      1.00      0.96        13\n",
      "\n",
      "    accuracy                           0.95       281\n",
      "   macro avg       0.94      0.97      0.95       281\n",
      "weighted avg       0.96      0.95      0.95       281\n",
      "\n"
     ]
    }
   ],
   "source": [
    "#we will only look at when the records was wrongly recorded, not when we issed a record, due to results from validation: only\n",
    "#very very few such cases\n",
    "ConfMat(li_true=df_testing['ObservedZone'].tolist(), \n",
    "        li_pred=df_testing['Zone'].tolist(), \n",
    "        labels=['1Zone', '2Zone', '3Zone', '4Zone', '5Zone'], \n",
    "        path_save=os.path.join(path_extracted_data_cleaning,id_run+'_CM_trackingsystem_testing_Zone.png'), \n",
    "        xlabel_='Tracking system')"
   ]
  },
  {
   "cell_type": "code",
   "execution_count": 27,
   "metadata": {},
   "outputs": [],
   "source": [
    "df_testing = df_testing.rename(columns={'Zone':'tracking_ObservedZone'})"
   ]
  },
  {
   "cell_type": "code",
   "execution_count": 28,
   "metadata": {},
   "outputs": [
    {
     "data": {
      "text/html": [
       "<div>\n",
       "<style scoped>\n",
       "    .dataframe tbody tr th:only-of-type {\n",
       "        vertical-align: middle;\n",
       "    }\n",
       "\n",
       "    .dataframe tbody tr th {\n",
       "        vertical-align: top;\n",
       "    }\n",
       "\n",
       "    .dataframe thead th {\n",
       "        text-align: right;\n",
       "    }\n",
       "</style>\n",
       "<table border=\"1\" class=\"dataframe\">\n",
       "  <thead>\n",
       "    <tr style=\"text-align: right;\">\n",
       "      <th></th>\n",
       "      <th>tracking_ObservedZone</th>\n",
       "      <th>model_ObservedZone</th>\n",
       "      <th>ObservedZone</th>\n",
       "      <th>PenID</th>\n",
       "      <th>HenID</th>\n",
       "      <th>Timestamp</th>\n",
       "      <th>BatchID</th>\n",
       "    </tr>\n",
       "  </thead>\n",
       "  <tbody>\n",
       "    <tr>\n",
       "      <th>3376</th>\n",
       "      <td>2Zone</td>\n",
       "      <td>2Zone</td>\n",
       "      <td>2Zone</td>\n",
       "      <td>4.0</td>\n",
       "      <td>hen_73</td>\n",
       "      <td>2020-10-16 11:21:59</td>\n",
       "      <td>ID9</td>\n",
       "    </tr>\n",
       "    <tr>\n",
       "      <th>3317</th>\n",
       "      <td>3Zone</td>\n",
       "      <td>3Zone</td>\n",
       "      <td>3Zone</td>\n",
       "      <td>4.0</td>\n",
       "      <td>hen_153</td>\n",
       "      <td>2020-10-15 12:20:26</td>\n",
       "      <td>ID4</td>\n",
       "    </tr>\n",
       "    <tr>\n",
       "      <th>3310</th>\n",
       "      <td>2Zone</td>\n",
       "      <td>2Zone</td>\n",
       "      <td>2Zone</td>\n",
       "      <td>8.0</td>\n",
       "      <td>hen_173</td>\n",
       "      <td>2020-10-14 15:50:31</td>\n",
       "      <td>ID3</td>\n",
       "    </tr>\n",
       "  </tbody>\n",
       "</table>\n",
       "</div>"
      ],
      "text/plain": [
       "     tracking_ObservedZone model_ObservedZone ObservedZone  PenID    HenID  \\\n",
       "3376                 2Zone              2Zone        2Zone    4.0   hen_73   \n",
       "3317                 3Zone              3Zone        3Zone    4.0  hen_153   \n",
       "3310                 2Zone              2Zone        2Zone    8.0  hen_173   \n",
       "\n",
       "               Timestamp BatchID  \n",
       "3376 2020-10-16 11:21:59     ID9  \n",
       "3317 2020-10-15 12:20:26     ID4  \n",
       "3310 2020-10-14 15:50:31     ID3  "
      ]
     },
     "metadata": {},
     "output_type": "display_data"
    }
   ],
   "source": [
    "df_rel = df_testing[df_testing['type']=='students']\n",
    "li_col = ['tracking_ObservedZone','model_ObservedZone','ObservedZone','PenID','HenID','Timestamp','BatchID']\n",
    "display(df_rel[li_col].head(3))\n",
    "df_rel[li_col].to_csv(os.path.join(path_extracted_data_cleaning, id_run+'_RecordReliabilityCleaningMethods.csv'), \n",
    "                      index=False, sep=';')"
   ]
  },
  {
   "cell_type": "markdown",
   "metadata": {},
   "source": [
    "# Save data for reliability of 1sec TS per zones (behavioural data)"
   ]
  },
  {
   "cell_type": "code",
   "execution_count": 29,
   "metadata": {
    "scrolled": false
   },
   "outputs": [
    {
     "name": "stderr",
     "output_type": "stream",
     "text": [
      "  0%|                                                                                           | 0/16 [00:00<?, ?it/s]C:\\Users\\camil\\Anaconda3\\lib\\site-packages\\ipykernel_launcher.py:42: FutureWarning: Indexing with multiple keys (implicitly converted to a tuple of keys) will be deprecated, use a list instead.\n",
      "100%|██████████████████████████████████████████████████████████████████████████████████| 16/16 [02:12<00:00,  8.29s/it]\n"
     ]
    },
    {
     "name": "stdout",
     "output_type": "stream",
     "text": [
      "(525300, 9)\n"
     ]
    },
    {
     "data": {
      "text/html": [
       "<div>\n",
       "<style scoped>\n",
       "    .dataframe tbody tr th:only-of-type {\n",
       "        vertical-align: middle;\n",
       "    }\n",
       "\n",
       "    .dataframe tbody tr th {\n",
       "        vertical-align: top;\n",
       "    }\n",
       "\n",
       "    .dataframe thead th {\n",
       "        text-align: right;\n",
       "    }\n",
       "</style>\n",
       "<table border=\"1\" class=\"dataframe\">\n",
       "  <thead>\n",
       "    <tr style=\"text-align: right;\">\n",
       "      <th></th>\n",
       "      <th>Timestamp</th>\n",
       "      <th>tracking_ObservedZone</th>\n",
       "      <th>model_ObservedZone</th>\n",
       "      <th>ObservedZone</th>\n",
       "      <th>PenID</th>\n",
       "      <th>HenID</th>\n",
       "      <th>BatchID</th>\n",
       "      <th>VideoAnalyse</th>\n",
       "      <th>binning_zone</th>\n",
       "    </tr>\n",
       "  </thead>\n",
       "  <tbody>\n",
       "    <tr>\n",
       "      <th>0</th>\n",
       "      <td>2020-10-14 14:01:00</td>\n",
       "      <td>3Zone</td>\n",
       "      <td>2Zone</td>\n",
       "      <td>2Zone</td>\n",
       "      <td>3.0</td>\n",
       "      <td>hen_40</td>\n",
       "      <td>ID1</td>\n",
       "      <td>0</td>\n",
       "      <td>3Zone</td>\n",
       "    </tr>\n",
       "    <tr>\n",
       "      <th>1</th>\n",
       "      <td>2020-10-14 14:01:01</td>\n",
       "      <td>3Zone</td>\n",
       "      <td>2Zone</td>\n",
       "      <td>2Zone</td>\n",
       "      <td>3.0</td>\n",
       "      <td>hen_40</td>\n",
       "      <td>ID1</td>\n",
       "      <td>0</td>\n",
       "      <td>3Zone</td>\n",
       "    </tr>\n",
       "    <tr>\n",
       "      <th>2</th>\n",
       "      <td>2020-10-14 14:01:02</td>\n",
       "      <td>3Zone</td>\n",
       "      <td>2Zone</td>\n",
       "      <td>2Zone</td>\n",
       "      <td>3.0</td>\n",
       "      <td>hen_40</td>\n",
       "      <td>ID1</td>\n",
       "      <td>0</td>\n",
       "      <td>3Zone</td>\n",
       "    </tr>\n",
       "  </tbody>\n",
       "</table>\n",
       "</div>"
      ],
      "text/plain": [
       "            Timestamp tracking_ObservedZone model_ObservedZone ObservedZone  \\\n",
       "0 2020-10-14 14:01:00                 3Zone              2Zone        2Zone   \n",
       "1 2020-10-14 14:01:01                 3Zone              2Zone        2Zone   \n",
       "2 2020-10-14 14:01:02                 3Zone              2Zone        2Zone   \n",
       "\n",
       "   PenID   HenID BatchID  VideoAnalyse binning_zone  \n",
       "0    3.0  hen_40     ID1             0        3Zone  \n",
       "1    3.0  hen_40     ID1             0        3Zone  \n",
       "2    3.0  hen_40     ID1             0        3Zone  "
      ]
     },
     "execution_count": 29,
     "metadata": {},
     "output_type": "execute_result"
    }
   ],
   "source": [
    "li_df = []\n",
    "df_rel = df_testing[li_col+['VideoAnalyse']].copy()\n",
    "for BatchID,df_ in tqdm.tqdm(df_rel.groupby(['BatchID'])):\n",
    "    df_ = df_.sort_values('Timestamp',ascending=True)\n",
    "    #select the list of timestamp we want (i.e. at one second level)\n",
    "    mi = min(df_['Timestamp'].tolist())\n",
    "    ma = max(df_['Timestamp'].tolist())\n",
    "    #print(mi, ma)\n",
    "    Daterange = pd.date_range(start = mi+dt.timedelta(seconds=(60-mi.second)), \n",
    "                              end = ma-dt.timedelta(seconds=(ma.second+1)), \n",
    "                              freq = 'S') \n",
    "    #print(Daterange[0:2])\n",
    "    #print(Daterange[-2:])\n",
    "    \n",
    "    ################### 1 sec ts: tracking method & model method & true observation\n",
    "    ### extend to 1 seconds level\n",
    "    #add missing seconds (i.e. all seconds that never had a record) and fillnan with last non-nan values by propagating last \n",
    "    # observation forward to next valHenIDmi = min(df_['Timestamp'].tolist())\n",
    "    df_.set_index('Timestamp', inplace=True)\n",
    "    df__ = df_.reindex(Daterange, method='ffill').reset_index()\n",
    "    #display(df__.head(5))\n",
    "    #display(df__.tail(5))\n",
    "    df__.rename(columns={'index':'Timestamp'}, inplace=True)\n",
    "    #display(df__.head(3))\n",
    "    df__.to_csv(os.path.join(path__,'1secTimeSeries'+str(BatchID)+'.csv'), sep=';', index=False)\n",
    "    \n",
    "    ################### binning method at 60 sec period\n",
    "    #First take only the wanted timestamps (1 per seconds)\n",
    "    #due to the 60 sec period bining, we need to exclude some of the first and last seconds in order to take into account \n",
    "    #minutes for which we have the full information only\n",
    "    DaterangeBIN = [Daterange[i] for i in range(len(Daterange)) if i%60==0]\n",
    "    #add new timestamp to the initial file\n",
    "    df_date = pd.DataFrame({'New_Timestamp':DaterangeBIN})\n",
    "    df_date['New_Timestamp'] = df_date['New_Timestamp'].map(lambda x: pd.to_datetime(x))\n",
    "    df_bin = pd.merge_asof(df__, df_date, left_on=['Timestamp'], right_on=['New_Timestamp'], direction='forward')\n",
    "\n",
    "    #Then bin the data\n",
    "    h = 'tracking_ObservedZone'\n",
    "    df_bin = df_bin[[h,'New_Timestamp']].copy()\n",
    "    df_bin['nbr_sec'] = 1\n",
    "    df_bin = df_bin.groupby(['New_Timestamp',h])['nbr_sec'].sum().reset_index() #sum to count as we have seconds\n",
    "    df_bin = df_bin.groupby(['New_Timestamp'])[h,'nbr_sec'].agg(lambda x: tuple(x)).reset_index()\n",
    "    df_bin['most_frequent_zone'] = df_bin.apply(lambda x: x[h][x['nbr_sec'].index(max(x['nbr_sec']))], axis=1)\n",
    "    df_bin['nbr_duration_per_zone'] = df_bin.apply(lambda x: str({x[h][k]:x['nbr_sec'][k] for k in range(len(x[h]))}), axis=1)\n",
    "    df_bin['nbr_lost_duration_per_zone'] = df_bin['nbr_duration_per_zone'].map(lambda x: str({z:v for z,v in eval(x).items() if \\\n",
    "                                                                       v!=max(eval(x).values())}))\n",
    "    df_bin['nbr_lost_duration'] = df_bin['nbr_lost_duration_per_zone'].map(lambda x: sum(eval(x).values()))\n",
    "    df_bin['perc_lost_duration'] = df_bin['nbr_lost_duration'].map(lambda x: x/60*100)\n",
    "    df_bin['day'] = df_bin['New_Timestamp'].map(lambda x: dt.datetime(x.year,x.month,x.day))\n",
    "    df_bin.to_csv(os.path.join(path__ ,'bining'+str(BatchID)+'.csv'), sep=';', index=False)\n",
    "    #display(df_bin.head(3))    \n",
    "    \n",
    "    #extend to 1sec ts\n",
    "    df_bin = df_bin[['most_frequent_zone','New_Timestamp']]\n",
    "    df_bin.set_index('New_Timestamp', inplace=True)\n",
    "    df_bin1sec = df_bin.reindex(Daterange, method='ffill').reset_index()\n",
    "    df_bin1sec.rename(columns={'index':'Timestamp','most_frequent_zone':'binning_zone'}, inplace=True)\n",
    "    df_bin1sec.to_csv(os.path.join(path__,'1secTimeSeries_bining'+str(BatchID)+'.csv'), sep=';', index=False)\n",
    "    #display(df_bin1sec.head(3))\n",
    "    \n",
    "    #join with bining\n",
    "    df_final = pd.merge(df__, df_bin1sec, on=['Timestamp'], how='outer')\n",
    "    df_final.to_csv(os.path.join(path__,'1secTimeSeries_ALL_'+str(BatchID)+'.csv'), sep=';', index=False)\n",
    "    li_df.append(df_final)\n",
    "#concat all final 1sec into one big\n",
    "df_final = pd.concat(li_df)\n",
    "print(df_final.shape)\n",
    "df_final.to_csv(os.path.join(path_extracted_data_cleaning,'1secTimeSeries_reliability.csv'), sep=';', index=False)\n",
    "df_final.head(3)"
   ]
  },
  {
   "cell_type": "code",
   "execution_count": 30,
   "metadata": {
    "scrolled": false
   },
   "outputs": [
    {
     "name": "stderr",
     "output_type": "stream",
     "text": [
      "C:\\Users\\camil\\Anaconda3\\lib\\site-packages\\sklearn\\utils\\validation.py:70: FutureWarning: Pass labels=['1Zone', '2Zone', '3Zone', '4Zone', '5Zone'] as keyword args. From version 0.25 passing these as positional arguments will result in an error\n",
      "  FutureWarning)\n"
     ]
    },
    {
     "data": {
      "image/png": "[encoded data removed]",
      "text/plain": [
       "<Figure size 360x360 with 2 Axes>"
      ]
     },
     "metadata": {
      "needs_background": "light"
     },
     "output_type": "display_data"
    },
    {
     "name": "stdout",
     "output_type": "stream",
     "text": [
      "Classification Report\n",
      "              precision    recall  f1-score   support\n",
      "\n",
      "       1Zone       0.97      1.00      0.99      3273\n",
      "       2Zone       1.00      0.99      0.99     41944\n",
      "       3Zone       0.98      1.00      0.99     19448\n",
      "       4Zone       1.00      1.00      1.00     12240\n",
      "       5Zone       1.00      1.00      1.00    448395\n",
      "\n",
      "    accuracy                           1.00    525300\n",
      "   macro avg       0.99      1.00      0.99    525300\n",
      "weighted avg       1.00      1.00      1.00    525300\n",
      "\n"
     ]
    },
    {
     "data": {
      "image/png": "[encoded data removed]",
      "text/plain": [
       "<Figure size 360x360 with 2 Axes>"
      ]
     },
     "metadata": {
      "needs_background": "light"
     },
     "output_type": "display_data"
    },
    {
     "name": "stdout",
     "output_type": "stream",
     "text": [
      "Classification Report\n",
      "              precision    recall  f1-score   support\n",
      "\n",
      "       1Zone       1.00      0.68      0.81      3273\n",
      "       2Zone       0.98      1.00      0.99     41944\n",
      "       3Zone       1.00      1.00      1.00     19448\n",
      "       4Zone       1.00      1.00      1.00     12240\n",
      "       5Zone       1.00      1.00      1.00    448395\n",
      "\n",
      "    accuracy                           1.00    525300\n",
      "   macro avg       1.00      0.94      0.96    525300\n",
      "weighted avg       1.00      1.00      1.00    525300\n",
      "\n"
     ]
    },
    {
     "data": {
      "image/png": "[encoded data removed]",
      "text/plain": [
       "<Figure size 360x360 with 2 Axes>"
      ]
     },
     "metadata": {
      "needs_background": "light"
     },
     "output_type": "display_data"
    },
    {
     "name": "stdout",
     "output_type": "stream",
     "text": [
      "Classification Report\n",
      "              precision    recall  f1-score   support\n",
      "\n",
      "       1Zone       0.83      0.87      0.85      3273\n",
      "       2Zone       0.95      0.94      0.94     41944\n",
      "       3Zone       0.86      0.89      0.88     19448\n",
      "       4Zone       0.93      0.92      0.92     12240\n",
      "       5Zone       1.00      1.00      1.00    448395\n",
      "\n",
      "    accuracy                           0.99    525300\n",
      "   macro avg       0.91      0.92      0.92    525300\n",
      "weighted avg       0.99      0.99      0.99    525300\n",
      "\n"
     ]
    }
   ],
   "source": [
    "for c in ['tracking_ObservedZone','model_ObservedZone','binning_zone']:\n",
    "    ConfMat(li_true=df_final['ObservedZone'].tolist(), \n",
    "            li_pred=df_final[c].tolist(), \n",
    "            labels=['1Zone', '2Zone', '3Zone', '4Zone', '5Zone'], \n",
    "            path_save=os.path.join(path_extracted_data_cleaning,id_run+'_CM_1sects'+c+'.png'), \n",
    "            xlabel_=c)"
   ]
  },
  {
   "cell_type": "markdown",
   "metadata": {},
   "source": [
    "### visualise these 1sectime series"
   ]
  },
  {
   "cell_type": "code",
   "execution_count": 31,
   "metadata": {},
   "outputs": [
    {
     "name": "stderr",
     "output_type": "stream",
     "text": [
      "100%|██████████████████████████████████████████████████████████████████████████████████| 16/16 [01:00<00:00,  3.77s/it]"
     ]
    },
    {
     "name": "stdout",
     "output_type": "stream",
     "text": [
      "Total running time: 1.01 mn\n"
     ]
    },
    {
     "name": "stderr",
     "output_type": "stream",
     "text": [
      "\n"
     ]
    }
   ],
   "source": [
    "#start recording the time it last\n",
    "START_TIME = time.clock()\n",
    "\n",
    "#to sort the yaxis\n",
    "dico_zone_order = {'1Zone':0,\n",
    "                   '2Zone':1,\n",
    "                   '3Zone':2,\n",
    "                   '4Zone':3,\n",
    "                   '5Zone':4}\n",
    "\n",
    "#create path where to save if not existing yet\n",
    "path_ = os.path.join(path_extracted_data_cleaning,'TimeSeriesPlot')\n",
    "#create a director if not existing\n",
    "if not os.path.exists(path_):\n",
    "    os.makedirs(path_) \n",
    "\n",
    "li_ts = ['tracking_ObservedZone','model_ObservedZone','ObservedZone','binning_zone']\n",
    "#for each batch draw 4 timeseries\n",
    "for BatchID, df_plt in tqdm.tqdm(df_final.groupby(['BatchID'])):\n",
    "    df_plt = df_plt.sort_values(['Timestamp']).copy()\n",
    "    l = len(li_ts) ; c = 1\n",
    "    fig = plt.figure(figsize=(c*5, l*1))\n",
    "    for i,v in enumerate(li_ts):\n",
    "        df_plt[v] = df_plt[v].map(lambda x: int(dico_zone_order[x]))       \n",
    "        plt.subplot(l,c,i+1)\n",
    "        plt.plot(df_plt['Timestamp'].tolist(), df_plt[v].tolist())\n",
    "        plt.xticks(fontsize=4)\n",
    "        plt.yticks(fontsize=4)\n",
    "        plt.title(v+' '+BatchID, size=7)\n",
    "    plt.savefig(os.path.join(path_extracted_data_cleaning, BatchID+'.png'), format='png', bbox_inches='tight', dpi=300)\n",
    "    plt.clf()\n",
    "    plt.close(\"all\")\n",
    "\n",
    "END_TIME = time.clock()\n",
    "print (\"Total running time: %.2f mn\" %((END_TIME-START_TIME)/60))  "
   ]
  },
  {
   "cell_type": "markdown",
   "metadata": {},
   "source": [
    "# Save data for reliability of transitions per zones (behavioural data)"
   ]
  },
  {
   "cell_type": "code",
   "execution_count": 35,
   "metadata": {},
   "outputs": [
    {
     "data": {
      "text/html": [
       "<div>\n",
       "<style scoped>\n",
       "    .dataframe tbody tr th:only-of-type {\n",
       "        vertical-align: middle;\n",
       "    }\n",
       "\n",
       "    .dataframe tbody tr th {\n",
       "        vertical-align: top;\n",
       "    }\n",
       "\n",
       "    .dataframe thead th {\n",
       "        text-align: right;\n",
       "    }\n",
       "</style>\n",
       "<table border=\"1\" class=\"dataframe\">\n",
       "  <thead>\n",
       "    <tr style=\"text-align: right;\">\n",
       "      <th></th>\n",
       "      <th>BatchID</th>\n",
       "      <th>tracking_ObservedZone</th>\n",
       "      <th>model_ObservedZone</th>\n",
       "      <th>ObservedZone</th>\n",
       "      <th>binning_zone</th>\n",
       "    </tr>\n",
       "  </thead>\n",
       "  <tbody>\n",
       "    <tr>\n",
       "      <th>0</th>\n",
       "      <td>ID1</td>\n",
       "      <td>15</td>\n",
       "      <td>9</td>\n",
       "      <td>10</td>\n",
       "      <td>8</td>\n",
       "    </tr>\n",
       "    <tr>\n",
       "      <th>1</th>\n",
       "      <td>ID10</td>\n",
       "      <td>8</td>\n",
       "      <td>6</td>\n",
       "      <td>8</td>\n",
       "      <td>7</td>\n",
       "    </tr>\n",
       "    <tr>\n",
       "      <th>2</th>\n",
       "      <td>ID11</td>\n",
       "      <td>10</td>\n",
       "      <td>6</td>\n",
       "      <td>6</td>\n",
       "      <td>8</td>\n",
       "    </tr>\n",
       "    <tr>\n",
       "      <th>3</th>\n",
       "      <td>ID12</td>\n",
       "      <td>7</td>\n",
       "      <td>7</td>\n",
       "      <td>7</td>\n",
       "      <td>7</td>\n",
       "    </tr>\n",
       "    <tr>\n",
       "      <th>4</th>\n",
       "      <td>ID13</td>\n",
       "      <td>9</td>\n",
       "      <td>9</td>\n",
       "      <td>9</td>\n",
       "      <td>7</td>\n",
       "    </tr>\n",
       "    <tr>\n",
       "      <th>5</th>\n",
       "      <td>ID14</td>\n",
       "      <td>16</td>\n",
       "      <td>16</td>\n",
       "      <td>16</td>\n",
       "      <td>16</td>\n",
       "    </tr>\n",
       "    <tr>\n",
       "      <th>6</th>\n",
       "      <td>ID15</td>\n",
       "      <td>9</td>\n",
       "      <td>9</td>\n",
       "      <td>9</td>\n",
       "      <td>8</td>\n",
       "    </tr>\n",
       "    <tr>\n",
       "      <th>7</th>\n",
       "      <td>ID16</td>\n",
       "      <td>5</td>\n",
       "      <td>5</td>\n",
       "      <td>5</td>\n",
       "      <td>5</td>\n",
       "    </tr>\n",
       "    <tr>\n",
       "      <th>8</th>\n",
       "      <td>ID2</td>\n",
       "      <td>18</td>\n",
       "      <td>12</td>\n",
       "      <td>16</td>\n",
       "      <td>14</td>\n",
       "    </tr>\n",
       "    <tr>\n",
       "      <th>9</th>\n",
       "      <td>ID3</td>\n",
       "      <td>8</td>\n",
       "      <td>8</td>\n",
       "      <td>8</td>\n",
       "      <td>8</td>\n",
       "    </tr>\n",
       "    <tr>\n",
       "      <th>10</th>\n",
       "      <td>ID4</td>\n",
       "      <td>14</td>\n",
       "      <td>14</td>\n",
       "      <td>13</td>\n",
       "      <td>9</td>\n",
       "    </tr>\n",
       "    <tr>\n",
       "      <th>11</th>\n",
       "      <td>ID5</td>\n",
       "      <td>8</td>\n",
       "      <td>6</td>\n",
       "      <td>6</td>\n",
       "      <td>6</td>\n",
       "    </tr>\n",
       "    <tr>\n",
       "      <th>12</th>\n",
       "      <td>ID6</td>\n",
       "      <td>2</td>\n",
       "      <td>2</td>\n",
       "      <td>2</td>\n",
       "      <td>1</td>\n",
       "    </tr>\n",
       "    <tr>\n",
       "      <th>13</th>\n",
       "      <td>ID7</td>\n",
       "      <td>14</td>\n",
       "      <td>6</td>\n",
       "      <td>6</td>\n",
       "      <td>7</td>\n",
       "    </tr>\n",
       "    <tr>\n",
       "      <th>14</th>\n",
       "      <td>ID8</td>\n",
       "      <td>1</td>\n",
       "      <td>1</td>\n",
       "      <td>1</td>\n",
       "      <td>1</td>\n",
       "    </tr>\n",
       "    <tr>\n",
       "      <th>15</th>\n",
       "      <td>ID9</td>\n",
       "      <td>2</td>\n",
       "      <td>2</td>\n",
       "      <td>2</td>\n",
       "      <td>2</td>\n",
       "    </tr>\n",
       "  </tbody>\n",
       "</table>\n",
       "</div>"
      ],
      "text/plain": [
       "   BatchID  tracking_ObservedZone  model_ObservedZone  ObservedZone  \\\n",
       "0      ID1                     15                   9            10   \n",
       "1     ID10                      8                   6             8   \n",
       "2     ID11                     10                   6             6   \n",
       "3     ID12                      7                   7             7   \n",
       "4     ID13                      9                   9             9   \n",
       "5     ID14                     16                  16            16   \n",
       "6     ID15                      9                   9             9   \n",
       "7     ID16                      5                   5             5   \n",
       "8      ID2                     18                  12            16   \n",
       "9      ID3                      8                   8             8   \n",
       "10     ID4                     14                  14            13   \n",
       "11     ID5                      8                   6             6   \n",
       "12     ID6                      2                   2             2   \n",
       "13     ID7                     14                   6             6   \n",
       "14     ID8                      1                   1             1   \n",
       "15     ID9                      2                   2             2   \n",
       "\n",
       "    binning_zone  \n",
       "0              8  \n",
       "1              7  \n",
       "2              8  \n",
       "3              7  \n",
       "4              7  \n",
       "5             16  \n",
       "6              8  \n",
       "7              5  \n",
       "8             14  \n",
       "9              8  \n",
       "10             9  \n",
       "11             6  \n",
       "12             1  \n",
       "13             7  \n",
       "14             1  \n",
       "15             2  "
      ]
     },
     "execution_count": 35,
     "metadata": {},
     "output_type": "execute_result"
    }
   ],
   "source": [
    "#does not make sense to compare per minutes the numebr of transition, as we dont really care if they areshifted by few minutes\n",
    "#instead we will compare the number of transition per batch \n",
    "df_transition = df_final.groupby(['BatchID'])[li_ts].agg(lambda x: len(list_of_zones(x))-1).reset_index()\n",
    "df_transition.to_csv(os.path.join(path_extracted_data_cleaning,'reliability_transition.csv'), sep=';', index=False)\n",
    "df_transition"
   ]
  },
  {
   "cell_type": "code",
   "execution_count": null,
   "metadata": {},
   "outputs": [],
   "source": []
  },
  {
   "cell_type": "code",
   "execution_count": null,
   "metadata": {},
   "outputs": [],
   "source": [
    "li_dico = []\n",
    "runID = uuid.uuid1()\n",
    "#transform categorical data into dumies\n",
    "df_te_d = pd.get_dummies(df_testing.filter(li_cont_select+li_cat_select, axis=1), columns=li_cat_select, drop_first=True)\n",
    "X_test = df_te_d.values\n",
    "y_test = df_testing[['VideoAnalyse']].values"
   ]
  },
  {
   "cell_type": "code",
   "execution_count": null,
   "metadata": {},
   "outputs": [],
   "source": []
  },
  {
   "cell_type": "code",
   "execution_count": 73,
   "metadata": {
    "scrolled": true
   },
   "outputs": [
    {
     "name": "stdout",
     "output_type": "stream",
     "text": [
      "-------------  tracking_ObservedZone\n",
      "-------------  model_ObservedZone\n",
      "-------------  binning_zone\n"
     ]
    },
    {
     "data": {
      "text/html": [
       "<div>\n",
       "<style scoped>\n",
       "    .dataframe tbody tr th:only-of-type {\n",
       "        vertical-align: middle;\n",
       "    }\n",
       "\n",
       "    .dataframe tbody tr th {\n",
       "        vertical-align: top;\n",
       "    }\n",
       "\n",
       "    .dataframe thead th {\n",
       "        text-align: right;\n",
       "    }\n",
       "</style>\n",
       "<table border=\"1\" class=\"dataframe\">\n",
       "  <thead>\n",
       "    <tr style=\"text-align: right;\">\n",
       "      <th></th>\n",
       "      <th>Type</th>\n",
       "      <th>Description</th>\n",
       "      <th>ICC</th>\n",
       "      <th>F</th>\n",
       "      <th>df1</th>\n",
       "      <th>df2</th>\n",
       "      <th>pval</th>\n",
       "      <th>CI95%</th>\n",
       "      <th>method</th>\n",
       "      <th>reliability_type</th>\n",
       "      <th>runID</th>\n",
       "    </tr>\n",
       "  </thead>\n",
       "  <tbody>\n",
       "    <tr>\n",
       "      <th>0</th>\n",
       "      <td>ICC3</td>\n",
       "      <td>Single fixed raters</td>\n",
       "      <td>0.880825</td>\n",
       "      <td>15.782090</td>\n",
       "      <td>15</td>\n",
       "      <td>15</td>\n",
       "      <td>1.522691e-06</td>\n",
       "      <td>[0.69, 0.96]</td>\n",
       "      <td>tracking_ObservedZone</td>\n",
       "      <td>transition</td>\n",
       "      <td>900824c6-2fc1-11eb-9b7d-9822ef705bb4</td>\n",
       "    </tr>\n",
       "    <tr>\n",
       "      <th>1</th>\n",
       "      <td>ICC3</td>\n",
       "      <td>Single fixed raters</td>\n",
       "      <td>0.964779</td>\n",
       "      <td>55.784810</td>\n",
       "      <td>15</td>\n",
       "      <td>15</td>\n",
       "      <td>2.090061e-10</td>\n",
       "      <td>[0.9, 0.99]</td>\n",
       "      <td>model_ObservedZone</td>\n",
       "      <td>transition</td>\n",
       "      <td>900824c6-2fc1-11eb-9b7d-9822ef705bb4</td>\n",
       "    </tr>\n",
       "    <tr>\n",
       "      <th>2</th>\n",
       "      <td>ICC3</td>\n",
       "      <td>Single fixed raters</td>\n",
       "      <td>0.944984</td>\n",
       "      <td>35.352941</td>\n",
       "      <td>15</td>\n",
       "      <td>15</td>\n",
       "      <td>5.594227e-09</td>\n",
       "      <td>[0.85, 0.98]</td>\n",
       "      <td>binning_zone</td>\n",
       "      <td>transition</td>\n",
       "      <td>900824c6-2fc1-11eb-9b7d-9822ef705bb4</td>\n",
       "    </tr>\n",
       "  </tbody>\n",
       "</table>\n",
       "</div>"
      ],
      "text/plain": [
       "   Type          Description       ICC          F  df1  df2          pval  \\\n",
       "0  ICC3  Single fixed raters  0.880825  15.782090   15   15  1.522691e-06   \n",
       "1  ICC3  Single fixed raters  0.964779  55.784810   15   15  2.090061e-10   \n",
       "2  ICC3  Single fixed raters  0.944984  35.352941   15   15  5.594227e-09   \n",
       "\n",
       "          CI95%                 method reliability_type  \\\n",
       "0  [0.69, 0.96]  tracking_ObservedZone       transition   \n",
       "1   [0.9, 0.99]     model_ObservedZone       transition   \n",
       "2  [0.85, 0.98]           binning_zone       transition   \n",
       "\n",
       "                                  runID  \n",
       "0  900824c6-2fc1-11eb-9b7d-9822ef705bb4  \n",
       "1  900824c6-2fc1-11eb-9b7d-9822ef705bb4  \n",
       "2  900824c6-2fc1-11eb-9b7d-9822ef705bb4  "
      ]
     },
     "execution_count": 73,
     "metadata": {},
     "output_type": "execute_result"
    }
   ],
   "source": [
    "for c in ['tracking_ObservedZone', 'model_ObservedZone', 'binning_zone']:\n",
    "    df_ = pd.melt(df_transition.filter(['BatchID','ObservedZone', c],axis=1), id_vars=['BatchID'], \n",
    "                  value_vars=['ObservedZone', c])\n",
    "    df_res = pg.intraclass_corr(data=df_, targets='BatchID', raters='variable', ratings='value')\n",
    "    dico_ = df_res[df_res['Type']=='ICC3'].to_dict(orient='records')[0]\n",
    "    dico_['method'] = c\n",
    "    dico_['reliability_type'] = 'transition'\n",
    "    dico_['runID'] = runID\n",
    "    li_dico.append(dico_)\n",
    "pd.DataFrame(li_dico)"
   ]
  },
  {
   "cell_type": "code",
   "execution_count": null,
   "metadata": {},
   "outputs": [],
   "source": []
  },
  {
   "cell_type": "markdown",
   "metadata": {},
   "source": [
    "#nbr transition per minutes\n",
    "for c in li_ts:\n",
    "    df_final[c+'_previous_zone'] = [np.nan]+df_final[c].tolist()[0:-1]\n",
    "    df_final[c+'_tr'] = df_final.apply(lambda x: x[c]!=x[c+'_previous_zone'], axis=1)\n",
    "#drop first row as we dont know if its a transition or not\n",
    "df_final = df_final[1:]\n",
    "df_final.head(3)\n",
    "\n",
    "#ts of #transition per minute\n",
    "def list_of_zones(li):\n",
    "    return [x[0] for x in itertools.groupby(li)]\n",
    "#small example\n",
    "#li = [1,1,1,1,2,2,2,3,3,3,4,4,2,2,2,2,4,1,2]\n",
    "#list_of_zones(li) #[1, 2, 3, 4, 2, 4, 1, 2]\n",
    "li_ts_tr = [c+'_tr' for c in li_ts]\n",
    "df_final['ts_mn'] = df_final['Timestamp'].map(lambda x: dt.datetime(x.year,x.month,x.day,x.hour,x.minute))\n",
    "df_transition = df_final.groupby(['BatchID','ts_mn'])[li_ts_tr].agg(lambda x: int(sum(x))).reset_index()\n",
    "df_transition['binning_zone_tr'] = df_transition['binning_zone_tr'].astype(int)\n",
    "df_transition.head(5)"
   ]
  },
  {
   "cell_type": "code",
   "execution_count": null,
   "metadata": {},
   "outputs": [],
   "source": []
  },
  {
   "cell_type": "code",
   "execution_count": null,
   "metadata": {},
   "outputs": [],
   "source": []
  },
  {
   "cell_type": "raw",
   "metadata": {},
   "source": [
    "TODO\n",
    "plot: x=#birds , y: reliability (model, tracking, bining) boxplot with all cases/such combinations\n",
    "plot2: x=#birds/tracking system, y=2\n",
    "plot3: x=#birds/pen, y=2\n",
    "\n",
    "TODO\n",
    "batch with 0 mvt: should be kept for verification as well as for cleaning methods at they should be included in the reliability of the methods! if we can not know for sure that the previous and next records happened, then we won't be able to take it into accounta s if the brds was in another zone than the one the system thinks of, then it should have recorded some a transition to repair his error, even if on the video we don't see any.\n"
   ]
  },
  {
   "cell_type": "code",
   "execution_count": null,
   "metadata": {},
   "outputs": [],
   "source": [
    "TODO: extend until end of batch hour!!!!! for verification data reliability is better like this"
   ]
  },
  {
   "cell_type": "code",
   "execution_count": null,
   "metadata": {},
   "outputs": [],
   "source": []
  },
  {
   "cell_type": "code",
   "execution_count": null,
   "metadata": {},
   "outputs": [],
   "source": []
  },
  {
   "cell_type": "code",
   "execution_count": null,
   "metadata": {},
   "outputs": [],
   "source": []
  },
  {
   "cell_type": "code",
   "execution_count": null,
   "metadata": {},
   "outputs": [],
   "source": []
  },
  {
   "cell_type": "code",
   "execution_count": null,
   "metadata": {},
   "outputs": [],
   "source": []
  },
  {
   "cell_type": "code",
   "execution_count": null,
   "metadata": {},
   "outputs": [],
   "source": []
  }
 ],
 "metadata": {
  "kernelspec": {
   "display_name": "Python 3",
   "language": "python",
   "name": "python3"
  },
  "language_info": {
   "codemirror_mode": {
    "name": "ipython",
    "version": 3
   },
   "file_extension": ".py",
   "mimetype": "text/x-python",
   "name": "python",
   "nbconvert_exporter": "python",
   "pygments_lexer": "ipython3",
   "version": "3.6.10"
  }
 },
 "nbformat": 4,
 "nbformat_minor": 2
}
