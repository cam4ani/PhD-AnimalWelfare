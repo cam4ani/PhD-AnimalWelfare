{
 "cells": [
  {
   "cell_type": "code",
   "execution_count": 1,
   "metadata": {},
   "outputs": [],
   "source": [
    "#basic package\n",
    "import json\n",
    "import tqdm\n",
    "import os\n",
    "import numpy as np\n",
    "import glob\n",
    "import pandas as pd\n",
    "import sys\n",
    "import shutil\n",
    "import time\n",
    "import datetime as dt\n",
    "\n",
    "#modelling\n",
    "from catboost import CatBoostClassifier"
   ]
  },
  {
   "cell_type": "code",
   "execution_count": 2,
   "metadata": {},
   "outputs": [
    {
     "name": "stderr",
     "output_type": "stream",
     "text": [
      "C:\\Users\\camil\\anaconda3\\lib\\site-packages\\scipy\\sparse\\sparsetools.py:21: DeprecationWarning: `scipy.sparse.sparsetools` is deprecated!\n",
      "scipy.sparse.sparsetools is a private module for scipy.sparse, and should not be used.\n",
      "  _deprecated()\n"
     ]
    },
    {
     "name": "stdout",
     "output_type": "stream",
     "text": [
      "2\n"
     ]
    }
   ],
   "source": [
    "PACKAGE_PARENT = '../'\n",
    "SCRIPT_DIR = os.path.dirname(os.path.realpath(os.path.join(os.getcwd(), os.path.expanduser('__file__'))))\n",
    "sys.path.append(os.path.normpath(os.path.join(SCRIPT_DIR, PACKAGE_PARENT)))\n",
    "from UTILS import preprocessing_Origins, cleaning_processing, HenDailyVariable_Origins\n",
    "import config_origins_chapter0 as config"
   ]
  },
  {
   "cell_type": "code",
   "execution_count": 3,
   "metadata": {},
   "outputs": [
    {
     "name": "stderr",
     "output_type": "stream",
     "text": [
      "C:\\Users\\camil\\anaconda3\\lib\\site-packages\\ipykernel\\ipkernel.py:283: DeprecationWarning: `should_run_async` will not call `transform_cell` automatically in the future. Please pass the result to `transformed_cell` argument and any exception that happen during thetransform in `preprocessing_exc_tuple` in IPython 7.17 and above.\n",
      "  and should_run_async(code)\n"
     ]
    }
   ],
   "source": [
    "#initialise parameters\n",
    "path_extracted_data = config.path_extracted_data\n",
    "path_initial_data = config.path_initial_data\n",
    "id_run = config.id_run\n",
    "path_extracted_data_cleaning = os.path.join(path_extracted_data,'Cleaning')\n",
    "path_extracted_data_cleaning_model = os.path.join(path_extracted_data_cleaning,'model')  \n",
    "path_extracted_data_cleaning_rawvscleaned = os.path.join(path_extracted_data_cleaning,'Raw&Cleaned')  \n",
    "#create a director if not existing\n",
    "if not os.path.exists(path_extracted_data_cleaning_rawvscleaned):\n",
    "    os.makedirs(path_extracted_data_cleaning_rawvscleaned)\n",
    "#feature for model\n",
    "li_cont_select = config.li_cont_select\n",
    "li_bin = config.li_bin\n",
    "li_cat_select = config.li_cat_select"
   ]
  },
  {
   "cell_type": "code",
   "execution_count": 4,
   "metadata": {},
   "outputs": [
    {
     "name": "stderr",
     "output_type": "stream",
     "text": [
      "C:\\Users\\camil\\anaconda3\\lib\\site-packages\\ipykernel\\ipkernel.py:283: DeprecationWarning: `should_run_async` will not call `transform_cell` automatically in the future. Please pass the result to `transformed_cell` argument and any exception that happen during thetransform in `preprocessing_exc_tuple` in IPython 7.17 and above.\n",
      "  and should_run_async(code)\n"
     ]
    }
   ],
   "source": [
    "name_method = 'ML-method'\n",
    "#name_method = 'TD-method'"
   ]
  },
  {
   "cell_type": "markdown",
   "metadata": {},
   "source": [
    "# Download data & model"
   ]
  },
  {
   "cell_type": "code",
   "execution_count": 5,
   "metadata": {},
   "outputs": [
    {
     "name": "stderr",
     "output_type": "stream",
     "text": [
      "C:\\Users\\camil\\anaconda3\\lib\\site-packages\\ipykernel\\ipkernel.py:283: DeprecationWarning: `should_run_async` will not call `transform_cell` automatically in the future. Please pass the result to `transformed_cell` argument and any exception that happen during thetransform in `preprocessing_exc_tuple` in IPython 7.17 and above.\n",
      "  and should_run_async(code)\n",
      "C:\\Users\\camil\\anaconda3\\lib\\site-packages\\numpy\\lib\\arraysetops.py:580: FutureWarning: elementwise comparison failed; returning scalar instead, but in the future will perform elementwise comparison\n",
      "  mask |= (ar1 == a)\n"
     ]
    },
    {
     "name": "stdout",
     "output_type": "stream",
     "text": [
      "(4980116, 15)\n"
     ]
    },
    {
     "name": "stderr",
     "output_type": "stream",
     "text": [
      "\r",
      "  0%|                                                                                          | 0/177 [00:00<?, ?it/s]"
     ]
    },
    {
     "name": "stdout",
     "output_type": "stream",
     "text": [
      "(1589782, 15)\n"
     ]
    },
    {
     "name": "stderr",
     "output_type": "stream",
     "text": [
      "100%|████████████████████████████████████████████████████████████████████████████████| 177/177 [03:35<00:00,  1.22s/it]\n"
     ]
    },
    {
     "name": "stdout",
     "output_type": "stream",
     "text": [
      "small VERIFICATION of zone matching, before droping the old names\n"
     ]
    },
    {
     "data": {
      "text/html": [
       "<div>\n",
       "<style scoped>\n",
       "    .dataframe tbody tr th:only-of-type {\n",
       "        vertical-align: middle;\n",
       "    }\n",
       "\n",
       "    .dataframe tbody tr th {\n",
       "        vertical-align: top;\n",
       "    }\n",
       "\n",
       "    .dataframe thead th {\n",
       "        text-align: right;\n",
       "    }\n",
       "</style>\n",
       "<table border=\"1\" class=\"dataframe\">\n",
       "  <thead>\n",
       "    <tr style=\"text-align: right;\">\n",
       "      <th></th>\n",
       "      <th>system</th>\n",
       "      <th>zone2</th>\n",
       "      <th>zone3</th>\n",
       "      <th>zone4</th>\n",
       "      <th>zone2_match</th>\n",
       "      <th>zone3_match</th>\n",
       "      <th>zone4_match</th>\n",
       "    </tr>\n",
       "  </thead>\n",
       "  <tbody>\n",
       "    <tr>\n",
       "      <th>648798</th>\n",
       "      <td>8 - 9</td>\n",
       "      <td>4</td>\n",
       "      <td>2</td>\n",
       "      <td>5</td>\n",
       "      <td>5_Zone</td>\n",
       "      <td>3_Zone</td>\n",
       "      <td>1_Zone</td>\n",
       "    </tr>\n",
       "    <tr>\n",
       "      <th>648799</th>\n",
       "      <td>8 - 9</td>\n",
       "      <td>3</td>\n",
       "      <td>2</td>\n",
       "      <td>5</td>\n",
       "      <td>4_Zone</td>\n",
       "      <td>3_Zone</td>\n",
       "      <td>1_Zone</td>\n",
       "    </tr>\n",
       "    <tr>\n",
       "      <th>648800</th>\n",
       "      <td>8 - 9</td>\n",
       "      <td>4</td>\n",
       "      <td>2</td>\n",
       "      <td>1</td>\n",
       "      <td>5_Zone</td>\n",
       "      <td>3_Zone</td>\n",
       "      <td>2_Zone</td>\n",
       "    </tr>\n",
       "    <tr>\n",
       "      <th>648801</th>\n",
       "      <td>8 - 9</td>\n",
       "      <td>3</td>\n",
       "      <td>2</td>\n",
       "      <td>1</td>\n",
       "      <td>4_Zone</td>\n",
       "      <td>3_Zone</td>\n",
       "      <td>2_Zone</td>\n",
       "    </tr>\n",
       "    <tr>\n",
       "      <th>648802</th>\n",
       "      <td>8 - 9</td>\n",
       "      <td>4</td>\n",
       "      <td>1</td>\n",
       "      <td>2</td>\n",
       "      <td>5_Zone</td>\n",
       "      <td>2_Zone</td>\n",
       "      <td>3_Zone</td>\n",
       "    </tr>\n",
       "    <tr>\n",
       "      <th>648803</th>\n",
       "      <td>8 - 9</td>\n",
       "      <td>3</td>\n",
       "      <td>2</td>\n",
       "      <td>1</td>\n",
       "      <td>4_Zone</td>\n",
       "      <td>3_Zone</td>\n",
       "      <td>2_Zone</td>\n",
       "    </tr>\n",
       "    <tr>\n",
       "      <th>648804</th>\n",
       "      <td>8 - 9</td>\n",
       "      <td>0</td>\n",
       "      <td>0</td>\n",
       "      <td>0</td>\n",
       "      <td>NoOtherZone</td>\n",
       "      <td>NoOtherZone</td>\n",
       "      <td>NoOtherZone</td>\n",
       "    </tr>\n",
       "    <tr>\n",
       "      <th>648805</th>\n",
       "      <td>8 - 9</td>\n",
       "      <td>3</td>\n",
       "      <td>0</td>\n",
       "      <td>0</td>\n",
       "      <td>4_Zone</td>\n",
       "      <td>NoOtherZone</td>\n",
       "      <td>NoOtherZone</td>\n",
       "    </tr>\n",
       "    <tr>\n",
       "      <th>648806</th>\n",
       "      <td>8 - 9</td>\n",
       "      <td>4</td>\n",
       "      <td>1</td>\n",
       "      <td>2</td>\n",
       "      <td>5_Zone</td>\n",
       "      <td>2_Zone</td>\n",
       "      <td>3_Zone</td>\n",
       "    </tr>\n",
       "    <tr>\n",
       "      <th>648807</th>\n",
       "      <td>8 - 9</td>\n",
       "      <td>3</td>\n",
       "      <td>1</td>\n",
       "      <td>2</td>\n",
       "      <td>4_Zone</td>\n",
       "      <td>2_Zone</td>\n",
       "      <td>3_Zone</td>\n",
       "    </tr>\n",
       "  </tbody>\n",
       "</table>\n",
       "</div>"
      ],
      "text/plain": [
       "       system  zone2  zone3  zone4  zone2_match  zone3_match  zone4_match\n",
       "648798  8 - 9      4      2      5       5_Zone       3_Zone       1_Zone\n",
       "648799  8 - 9      3      2      5       4_Zone       3_Zone       1_Zone\n",
       "648800  8 - 9      4      2      1       5_Zone       3_Zone       2_Zone\n",
       "648801  8 - 9      3      2      1       4_Zone       3_Zone       2_Zone\n",
       "648802  8 - 9      4      1      2       5_Zone       2_Zone       3_Zone\n",
       "648803  8 - 9      3      2      1       4_Zone       3_Zone       2_Zone\n",
       "648804  8 - 9      0      0      0  NoOtherZone  NoOtherZone  NoOtherZone\n",
       "648805  8 - 9      3      0      0       4_Zone  NoOtherZone  NoOtherZone\n",
       "648806  8 - 9      4      1      2       5_Zone       2_Zone       3_Zone\n",
       "648807  8 - 9      3      1      2       4_Zone       2_Zone       3_Zone"
      ]
     },
     "metadata": {},
     "output_type": "display_data"
    },
    {
     "name": "stdout",
     "output_type": "stream",
     "text": [
      "specifically, a small verification of when zone2 was equal to 9\n"
     ]
    },
    {
     "data": {
      "text/html": [
       "<div>\n",
       "<style scoped>\n",
       "    .dataframe tbody tr th:only-of-type {\n",
       "        vertical-align: middle;\n",
       "    }\n",
       "\n",
       "    .dataframe tbody tr th {\n",
       "        vertical-align: top;\n",
       "    }\n",
       "\n",
       "    .dataframe thead th {\n",
       "        text-align: right;\n",
       "    }\n",
       "</style>\n",
       "<table border=\"1\" class=\"dataframe\">\n",
       "  <thead>\n",
       "    <tr style=\"text-align: right;\">\n",
       "      <th></th>\n",
       "      <th>Timestamp</th>\n",
       "      <th>HenID</th>\n",
       "      <th>Zone</th>\n",
       "      <th>PenID</th>\n",
       "      <th>ts_order</th>\n",
       "      <th>TagID</th>\n",
       "      <th>signalstrength</th>\n",
       "      <th>system</th>\n",
       "      <th>time</th>\n",
       "      <th>date</th>\n",
       "      <th>...</th>\n",
       "      <th>next3_zone</th>\n",
       "      <th>previous3_zone</th>\n",
       "      <th>next4_zone</th>\n",
       "      <th>previous4_zone</th>\n",
       "      <th>next5_zone</th>\n",
       "      <th>previous5_zone</th>\n",
       "      <th>previousZone==NextZone</th>\n",
       "      <th>zone2_match</th>\n",
       "      <th>zone3_match</th>\n",
       "      <th>zone4_match</th>\n",
       "    </tr>\n",
       "  </thead>\n",
       "  <tbody>\n",
       "    <tr>\n",
       "      <th>649280</th>\n",
       "      <td>2020-11-13 02:20:01</td>\n",
       "      <td>hen_61</td>\n",
       "      <td>2_Zone</td>\n",
       "      <td>pen12</td>\n",
       "      <td>110669</td>\n",
       "      <td>tag_163</td>\n",
       "      <td>8</td>\n",
       "      <td>10 - 12</td>\n",
       "      <td>02:20:01</td>\n",
       "      <td>2020-11-13</td>\n",
       "      <td>...</td>\n",
       "      <td>3_Zone</td>\n",
       "      <td>3_Zone</td>\n",
       "      <td>3_Zone</td>\n",
       "      <td>3_Zone</td>\n",
       "      <td>3_Zone</td>\n",
       "      <td>NaN</td>\n",
       "      <td>True</td>\n",
       "      <td>2_Zone</td>\n",
       "      <td>NoOtherZone</td>\n",
       "      <td>NoOtherZone</td>\n",
       "    </tr>\n",
       "    <tr>\n",
       "      <th>649356</th>\n",
       "      <td>2020-11-13 02:24:06</td>\n",
       "      <td>hen_61</td>\n",
       "      <td>2_Zone</td>\n",
       "      <td>pen12</td>\n",
       "      <td>110702</td>\n",
       "      <td>tag_163</td>\n",
       "      <td>7</td>\n",
       "      <td>10 - 12</td>\n",
       "      <td>02:24:06</td>\n",
       "      <td>2020-11-13</td>\n",
       "      <td>...</td>\n",
       "      <td>3_Zone</td>\n",
       "      <td>2_Zone</td>\n",
       "      <td>2_Zone</td>\n",
       "      <td>2_Zone</td>\n",
       "      <td>2_Zone</td>\n",
       "      <td>3_Zone</td>\n",
       "      <td>False</td>\n",
       "      <td>2_Zone</td>\n",
       "      <td>NoOtherZone</td>\n",
       "      <td>NoOtherZone</td>\n",
       "    </tr>\n",
       "    <tr>\n",
       "      <th>649465</th>\n",
       "      <td>2020-11-13 02:30:23</td>\n",
       "      <td>hen_122</td>\n",
       "      <td>2_Zone</td>\n",
       "      <td>pen12</td>\n",
       "      <td>110760</td>\n",
       "      <td>tag_49</td>\n",
       "      <td>15</td>\n",
       "      <td>10 - 12</td>\n",
       "      <td>02:30:23</td>\n",
       "      <td>2020-11-13</td>\n",
       "      <td>...</td>\n",
       "      <td>3_Zone</td>\n",
       "      <td>3_Zone</td>\n",
       "      <td>3_Zone</td>\n",
       "      <td>3_Zone</td>\n",
       "      <td>3_Zone</td>\n",
       "      <td>3_Zone</td>\n",
       "      <td>False</td>\n",
       "      <td>2_Zone</td>\n",
       "      <td>3_Zone</td>\n",
       "      <td>NoOtherZone</td>\n",
       "    </tr>\n",
       "  </tbody>\n",
       "</table>\n",
       "<p>3 rows × 41 columns</p>\n",
       "</div>"
      ],
      "text/plain": [
       "                 Timestamp    HenID    Zone  PenID  ts_order    TagID  \\\n",
       "649280 2020-11-13 02:20:01   hen_61  2_Zone  pen12    110669  tag_163   \n",
       "649356 2020-11-13 02:24:06   hen_61  2_Zone  pen12    110702  tag_163   \n",
       "649465 2020-11-13 02:30:23  hen_122  2_Zone  pen12    110760   tag_49   \n",
       "\n",
       "        signalstrength   system      time       date  ...  next3_zone  \\\n",
       "649280               8  10 - 12  02:20:01 2020-11-13  ...      3_Zone   \n",
       "649356               7  10 - 12  02:24:06 2020-11-13  ...      3_Zone   \n",
       "649465              15  10 - 12  02:30:23 2020-11-13  ...      3_Zone   \n",
       "\n",
       "        previous3_zone  next4_zone  previous4_zone next5_zone previous5_zone  \\\n",
       "649280          3_Zone      3_Zone          3_Zone     3_Zone            NaN   \n",
       "649356          2_Zone      2_Zone          2_Zone     2_Zone         3_Zone   \n",
       "649465          3_Zone      3_Zone          3_Zone     3_Zone         3_Zone   \n",
       "\n",
       "       previousZone==NextZone zone2_match  zone3_match  zone4_match  \n",
       "649280                   True      2_Zone  NoOtherZone  NoOtherZone  \n",
       "649356                  False      2_Zone  NoOtherZone  NoOtherZone  \n",
       "649465                  False      2_Zone       3_Zone  NoOtherZone  \n",
       "\n",
       "[3 rows x 41 columns]"
      ]
     },
     "metadata": {},
     "output_type": "display_data"
    },
    {
     "name": "stdout",
     "output_type": "stream",
     "text": [
      "Total running time: 25.19 mn\n",
      "(1586818, 41)\n"
     ]
    },
    {
     "data": {
      "text/html": [
       "<div>\n",
       "<style scoped>\n",
       "    .dataframe tbody tr th:only-of-type {\n",
       "        vertical-align: middle;\n",
       "    }\n",
       "\n",
       "    .dataframe tbody tr th {\n",
       "        vertical-align: top;\n",
       "    }\n",
       "\n",
       "    .dataframe thead th {\n",
       "        text-align: right;\n",
       "    }\n",
       "</style>\n",
       "<table border=\"1\" class=\"dataframe\">\n",
       "  <thead>\n",
       "    <tr style=\"text-align: right;\">\n",
       "      <th></th>\n",
       "      <th>Timestamp</th>\n",
       "      <th>HenID</th>\n",
       "      <th>Trackingsystem_Zone</th>\n",
       "      <th>PenID</th>\n",
       "      <th>ts_order</th>\n",
       "      <th>TagID</th>\n",
       "      <th>signalstrength</th>\n",
       "      <th>system</th>\n",
       "      <th>time</th>\n",
       "      <th>date</th>\n",
       "      <th>...</th>\n",
       "      <th>previous4_zone</th>\n",
       "      <th>next5_zone</th>\n",
       "      <th>previous5_zone</th>\n",
       "      <th>previousZone==NextZone</th>\n",
       "      <th>zone2_match</th>\n",
       "      <th>zone3_match</th>\n",
       "      <th>zone4_match</th>\n",
       "      <th>zone3_match_exist</th>\n",
       "      <th>next2zone==Zone</th>\n",
       "      <th>previous2zone==Zone</th>\n",
       "    </tr>\n",
       "  </thead>\n",
       "  <tbody>\n",
       "    <tr>\n",
       "      <th>648798</th>\n",
       "      <td>2020-11-13 00:12:06</td>\n",
       "      <td>hen_19</td>\n",
       "      <td>4_Zone</td>\n",
       "      <td>pen9</td>\n",
       "      <td>143481</td>\n",
       "      <td>tag_94</td>\n",
       "      <td>8</td>\n",
       "      <td>8 - 9</td>\n",
       "      <td>00:12:06</td>\n",
       "      <td>2020-11-13</td>\n",
       "      <td>...</td>\n",
       "      <td>NaN</td>\n",
       "      <td>5_Zone</td>\n",
       "      <td>NaN</td>\n",
       "      <td>False</td>\n",
       "      <td>5_Zone</td>\n",
       "      <td>3_Zone</td>\n",
       "      <td>1_Zone</td>\n",
       "      <td>1</td>\n",
       "      <td>1</td>\n",
       "      <td>0</td>\n",
       "    </tr>\n",
       "    <tr>\n",
       "      <th>648799</th>\n",
       "      <td>2020-11-13 00:12:27</td>\n",
       "      <td>hen_19</td>\n",
       "      <td>5_Zone</td>\n",
       "      <td>pen9</td>\n",
       "      <td>143482</td>\n",
       "      <td>tag_94</td>\n",
       "      <td>8</td>\n",
       "      <td>8 - 9</td>\n",
       "      <td>00:12:27</td>\n",
       "      <td>2020-11-13</td>\n",
       "      <td>...</td>\n",
       "      <td>NaN</td>\n",
       "      <td>4_Zone</td>\n",
       "      <td>NaN</td>\n",
       "      <td>True</td>\n",
       "      <td>4_Zone</td>\n",
       "      <td>3_Zone</td>\n",
       "      <td>1_Zone</td>\n",
       "      <td>1</td>\n",
       "      <td>1</td>\n",
       "      <td>0</td>\n",
       "    </tr>\n",
       "    <tr>\n",
       "      <th>648800</th>\n",
       "      <td>2020-11-13 00:13:30</td>\n",
       "      <td>hen_19</td>\n",
       "      <td>4_Zone</td>\n",
       "      <td>pen9</td>\n",
       "      <td>143483</td>\n",
       "      <td>tag_94</td>\n",
       "      <td>8</td>\n",
       "      <td>8 - 9</td>\n",
       "      <td>00:13:30</td>\n",
       "      <td>2020-11-13</td>\n",
       "      <td>...</td>\n",
       "      <td>NaN</td>\n",
       "      <td>5_Zone</td>\n",
       "      <td>NaN</td>\n",
       "      <td>True</td>\n",
       "      <td>5_Zone</td>\n",
       "      <td>3_Zone</td>\n",
       "      <td>2_Zone</td>\n",
       "      <td>1</td>\n",
       "      <td>1</td>\n",
       "      <td>1</td>\n",
       "    </tr>\n",
       "  </tbody>\n",
       "</table>\n",
       "<p>3 rows × 41 columns</p>\n",
       "</div>"
      ],
      "text/plain": [
       "                 Timestamp   HenID Trackingsystem_Zone PenID  ts_order  \\\n",
       "648798 2020-11-13 00:12:06  hen_19              4_Zone  pen9    143481   \n",
       "648799 2020-11-13 00:12:27  hen_19              5_Zone  pen9    143482   \n",
       "648800 2020-11-13 00:13:30  hen_19              4_Zone  pen9    143483   \n",
       "\n",
       "         TagID  signalstrength system      time       date  ...  \\\n",
       "648798  tag_94               8  8 - 9  00:12:06 2020-11-13  ...   \n",
       "648799  tag_94               8  8 - 9  00:12:27 2020-11-13  ...   \n",
       "648800  tag_94               8  8 - 9  00:13:30 2020-11-13  ...   \n",
       "\n",
       "        previous4_zone next5_zone previous5_zone previousZone==NextZone  \\\n",
       "648798             NaN     5_Zone            NaN                  False   \n",
       "648799             NaN     4_Zone            NaN                   True   \n",
       "648800             NaN     5_Zone            NaN                   True   \n",
       "\n",
       "       zone2_match zone3_match  zone4_match  zone3_match_exist  \\\n",
       "648798      5_Zone      3_Zone       1_Zone                  1   \n",
       "648799      4_Zone      3_Zone       1_Zone                  1   \n",
       "648800      5_Zone      3_Zone       2_Zone                  1   \n",
       "\n",
       "        next2zone==Zone previous2zone==Zone  \n",
       "648798                1                   0  \n",
       "648799                1                   0  \n",
       "648800                1                   1  \n",
       "\n",
       "[3 rows x 41 columns]"
      ]
     },
     "execution_count": 5,
     "metadata": {},
     "output_type": "execute_result"
    }
   ],
   "source": [
    "#download data and add the necessary processing as the duration, next/previous zones etc\n",
    "#steps also done in \"1_PreprocessedTraining&TestingData\"\n",
    "date_min = dt.datetime(2020, 11, 13) #when artificial light start to last 15h\n",
    "date_max = date_min+dt.timedelta(days=60)\n",
    "START_TIME = time.perf_counter()\n",
    "df = cleaning_processing(date_min=date_min, date_max=date_max, config=config) #same processing at other sections\n",
    "df['time'] = df['Timestamp'].map(lambda x: dt.datetime.time(x))\n",
    "df.rename(columns={'Zone':'Trackingsystem_Zone'}, inplace=True)\n",
    "df.to_csv(os.path.join(path_extracted_data_cleaning_rawvscleaned,'df_records_initial_processed.csv'), sep=';', index=False)\n",
    "END_TIME = time.perf_counter()\n",
    "print (\"Total running time: %.2f mn\" %((END_TIME-START_TIME)/60))\n",
    "print(df.shape)\n",
    "df.head(3)"
   ]
  },
  {
   "cell_type": "code",
   "execution_count": 6,
   "metadata": {},
   "outputs": [
    {
     "name": "stderr",
     "output_type": "stream",
     "text": [
      "C:\\Users\\camil\\anaconda3\\lib\\site-packages\\ipykernel\\ipkernel.py:283: DeprecationWarning: `should_run_async` will not call `transform_cell` automatically in the future. Please pass the result to `transformed_cell` argument and any exception that happen during thetransform in `preprocessing_exc_tuple` in IPython 7.17 and above.\n",
      "  and should_run_async(code)\n"
     ]
    }
   ],
   "source": [
    "#download model\n",
    "model = CatBoostClassifier()\n",
    "model.load_model(os.path.join(path_extracted_data_cleaning_model,'FINAL_Catboost'));"
   ]
  },
  {
   "cell_type": "markdown",
   "metadata": {},
   "source": [
    "# Data preprocessing"
   ]
  },
  {
   "cell_type": "code",
   "execution_count": 7,
   "metadata": {},
   "outputs": [
    {
     "name": "stderr",
     "output_type": "stream",
     "text": [
      "C:\\Users\\camil\\anaconda3\\lib\\site-packages\\ipykernel\\ipkernel.py:283: DeprecationWarning: `should_run_async` will not call `transform_cell` automatically in the future. Please pass the result to `transformed_cell` argument and any exception that happen during thetransform in `preprocessing_exc_tuple` in IPython 7.17 and above.\n",
      "  and should_run_async(code)\n"
     ]
    },
    {
     "data": {
      "text/plain": [
       "True     794574\n",
       "False    792244\n",
       "Name: is_dur_smaller_60sec, dtype: int64"
      ]
     },
     "metadata": {},
     "output_type": "display_data"
    },
    {
     "name": "stdout",
     "output_type": "stream",
     "text": [
      "(1586818, 45)\n"
     ]
    },
    {
     "data": {
      "text/html": [
       "<div>\n",
       "<style scoped>\n",
       "    .dataframe tbody tr th:only-of-type {\n",
       "        vertical-align: middle;\n",
       "    }\n",
       "\n",
       "    .dataframe tbody tr th {\n",
       "        vertical-align: top;\n",
       "    }\n",
       "\n",
       "    .dataframe thead th {\n",
       "        text-align: right;\n",
       "    }\n",
       "</style>\n",
       "<table border=\"1\" class=\"dataframe\">\n",
       "  <thead>\n",
       "    <tr style=\"text-align: right;\">\n",
       "      <th></th>\n",
       "      <th>Timestamp</th>\n",
       "      <th>HenID</th>\n",
       "      <th>Trackingsystem_Zone</th>\n",
       "      <th>PenID</th>\n",
       "      <th>ts_order</th>\n",
       "      <th>TagID</th>\n",
       "      <th>signalstrength</th>\n",
       "      <th>system</th>\n",
       "      <th>time</th>\n",
       "      <th>date</th>\n",
       "      <th>...</th>\n",
       "      <th>zone2_match</th>\n",
       "      <th>zone3_match</th>\n",
       "      <th>zone4_match</th>\n",
       "      <th>zone3_match_exist</th>\n",
       "      <th>next2zone==Zone</th>\n",
       "      <th>previous2zone==Zone</th>\n",
       "      <th>is_dur_smaller_60sec</th>\n",
       "      <th>duration_bounded_mn</th>\n",
       "      <th>next_duration_bounded_mn</th>\n",
       "      <th>previous_duration_bounded_mn</th>\n",
       "    </tr>\n",
       "  </thead>\n",
       "  <tbody>\n",
       "    <tr>\n",
       "      <th>0</th>\n",
       "      <td>2020-11-13 00:12:06</td>\n",
       "      <td>hen_19</td>\n",
       "      <td>4_Zone</td>\n",
       "      <td>pen9</td>\n",
       "      <td>143481</td>\n",
       "      <td>tag_94</td>\n",
       "      <td>8</td>\n",
       "      <td>8 - 9</td>\n",
       "      <td>00:12:06</td>\n",
       "      <td>2020-11-13</td>\n",
       "      <td>...</td>\n",
       "      <td>5_Zone</td>\n",
       "      <td>3_Zone</td>\n",
       "      <td>1_Zone</td>\n",
       "      <td>1</td>\n",
       "      <td>1</td>\n",
       "      <td>0</td>\n",
       "      <td>True</td>\n",
       "      <td>0.35</td>\n",
       "      <td>1.05</td>\n",
       "      <td>0.00</td>\n",
       "    </tr>\n",
       "    <tr>\n",
       "      <th>1</th>\n",
       "      <td>2020-11-13 00:12:27</td>\n",
       "      <td>hen_19</td>\n",
       "      <td>5_Zone</td>\n",
       "      <td>pen9</td>\n",
       "      <td>143482</td>\n",
       "      <td>tag_94</td>\n",
       "      <td>8</td>\n",
       "      <td>8 - 9</td>\n",
       "      <td>00:12:27</td>\n",
       "      <td>2020-11-13</td>\n",
       "      <td>...</td>\n",
       "      <td>4_Zone</td>\n",
       "      <td>3_Zone</td>\n",
       "      <td>1_Zone</td>\n",
       "      <td>1</td>\n",
       "      <td>1</td>\n",
       "      <td>0</td>\n",
       "      <td>False</td>\n",
       "      <td>1.05</td>\n",
       "      <td>0.35</td>\n",
       "      <td>0.35</td>\n",
       "    </tr>\n",
       "    <tr>\n",
       "      <th>2</th>\n",
       "      <td>2020-11-13 00:13:30</td>\n",
       "      <td>hen_19</td>\n",
       "      <td>4_Zone</td>\n",
       "      <td>pen9</td>\n",
       "      <td>143483</td>\n",
       "      <td>tag_94</td>\n",
       "      <td>8</td>\n",
       "      <td>8 - 9</td>\n",
       "      <td>00:13:30</td>\n",
       "      <td>2020-11-13</td>\n",
       "      <td>...</td>\n",
       "      <td>5_Zone</td>\n",
       "      <td>3_Zone</td>\n",
       "      <td>2_Zone</td>\n",
       "      <td>1</td>\n",
       "      <td>1</td>\n",
       "      <td>1</td>\n",
       "      <td>True</td>\n",
       "      <td>0.35</td>\n",
       "      <td>1.50</td>\n",
       "      <td>1.05</td>\n",
       "    </tr>\n",
       "  </tbody>\n",
       "</table>\n",
       "<p>3 rows × 45 columns</p>\n",
       "</div>"
      ],
      "text/plain": [
       "            Timestamp   HenID Trackingsystem_Zone PenID  ts_order   TagID  \\\n",
       "0 2020-11-13 00:12:06  hen_19              4_Zone  pen9    143481  tag_94   \n",
       "1 2020-11-13 00:12:27  hen_19              5_Zone  pen9    143482  tag_94   \n",
       "2 2020-11-13 00:13:30  hen_19              4_Zone  pen9    143483  tag_94   \n",
       "\n",
       "   signalstrength system      time       date  ...  zone2_match zone3_match  \\\n",
       "0               8  8 - 9  00:12:06 2020-11-13  ...       5_Zone      3_Zone   \n",
       "1               8  8 - 9  00:12:27 2020-11-13  ...       4_Zone      3_Zone   \n",
       "2               8  8 - 9  00:13:30 2020-11-13  ...       5_Zone      3_Zone   \n",
       "\n",
       "  zone4_match zone3_match_exist next2zone==Zone previous2zone==Zone  \\\n",
       "0      1_Zone                 1               1                   0   \n",
       "1      1_Zone                 1               1                   0   \n",
       "2      2_Zone                 1               1                   1   \n",
       "\n",
       "   is_dur_smaller_60sec  duration_bounded_mn  next_duration_bounded_mn  \\\n",
       "0                  True                 0.35                      1.05   \n",
       "1                 False                 1.05                      0.35   \n",
       "2                  True                 0.35                      1.50   \n",
       "\n",
       "  previous_duration_bounded_mn  \n",
       "0                         0.00  \n",
       "1                         0.35  \n",
       "2                         1.05  \n",
       "\n",
       "[3 rows x 45 columns]"
      ]
     },
     "execution_count": 7,
     "metadata": {},
     "output_type": "execute_result"
    }
   ],
   "source": [
    "#for more flexibility we open the file that was saved previously\n",
    "df = pd.read_csv(os.path.join(path_extracted_data_cleaning_rawvscleaned,'df_records_initial_processed.csv'), sep=';',\n",
    "                 parse_dates=['Timestamp','date'], dayfirst=True) \n",
    "df['is_dur_smaller_60sec'] = df['duration'].map(lambda x: x<60)\n",
    "display(df['is_dur_smaller_60sec'].value_counts())\n",
    "df['duration_bounded_mn'] = df['duration'].map(lambda x: min(x,60*60)/60)\n",
    "df['next_duration_bounded_mn'] = df['next_duration'].map(lambda x: min(x,60*60)/60)\n",
    "df['previous_duration_bounded_mn'] = df['previous_duration'].map(lambda x: min(x,60*60)/60)\n",
    "print(df.shape)\n",
    "df.head(3)"
   ]
  },
  {
   "cell_type": "markdown",
   "metadata": {},
   "source": [
    "### handle nan"
   ]
  },
  {
   "cell_type": "code",
   "execution_count": 8,
   "metadata": {},
   "outputs": [
    {
     "name": "stderr",
     "output_type": "stream",
     "text": [
      "C:\\Users\\camil\\anaconda3\\lib\\site-packages\\ipykernel\\ipkernel.py:283: DeprecationWarning: `should_run_async` will not call `transform_cell` automatically in the future. Please pass the result to `transformed_cell` argument and any exception that happen during thetransform in `preprocessing_exc_tuple` in IPython 7.17 and above.\n",
      "  and should_run_async(code)\n"
     ]
    },
    {
     "data": {
      "text/plain": [
       "0    1586226\n",
       "1        415\n",
       "2        177\n",
       "Name: nbr_nan, dtype: int64"
      ]
     },
     "metadata": {},
     "output_type": "display_data"
    },
    {
     "data": {
      "text/html": [
       "<div>\n",
       "<style scoped>\n",
       "    .dataframe tbody tr th:only-of-type {\n",
       "        vertical-align: middle;\n",
       "    }\n",
       "\n",
       "    .dataframe tbody tr th {\n",
       "        vertical-align: top;\n",
       "    }\n",
       "\n",
       "    .dataframe thead th {\n",
       "        text-align: right;\n",
       "    }\n",
       "</style>\n",
       "<table border=\"1\" class=\"dataframe\">\n",
       "  <thead>\n",
       "    <tr style=\"text-align: right;\">\n",
       "      <th></th>\n",
       "      <th>Trackingsystem_Zone</th>\n",
       "      <th>zone2_match</th>\n",
       "      <th>previous1_zone</th>\n",
       "      <th>next1_zone</th>\n",
       "      <th>system</th>\n",
       "    </tr>\n",
       "  </thead>\n",
       "  <tbody>\n",
       "    <tr>\n",
       "      <th>0</th>\n",
       "      <td>4_Zone</td>\n",
       "      <td>5_Zone</td>\n",
       "      <td>NaN</td>\n",
       "      <td>5_Zone</td>\n",
       "      <td>8 - 9</td>\n",
       "    </tr>\n",
       "    <tr>\n",
       "      <th>1</th>\n",
       "      <td>5_Zone</td>\n",
       "      <td>4_Zone</td>\n",
       "      <td>4_Zone</td>\n",
       "      <td>4_Zone</td>\n",
       "      <td>8 - 9</td>\n",
       "    </tr>\n",
       "    <tr>\n",
       "      <th>2</th>\n",
       "      <td>4_Zone</td>\n",
       "      <td>5_Zone</td>\n",
       "      <td>5_Zone</td>\n",
       "      <td>5_Zone</td>\n",
       "      <td>8 - 9</td>\n",
       "    </tr>\n",
       "  </tbody>\n",
       "</table>\n",
       "</div>"
      ],
      "text/plain": [
       "  Trackingsystem_Zone zone2_match previous1_zone next1_zone system\n",
       "0              4_Zone      5_Zone            NaN     5_Zone  8 - 9\n",
       "1              5_Zone      4_Zone         4_Zone     4_Zone  8 - 9\n",
       "2              4_Zone      5_Zone         5_Zone     5_Zone  8 - 9"
      ]
     },
     "metadata": {},
     "output_type": "display_data"
    },
    {
     "data": {
      "text/html": [
       "<div>\n",
       "<style scoped>\n",
       "    .dataframe tbody tr th:only-of-type {\n",
       "        vertical-align: middle;\n",
       "    }\n",
       "\n",
       "    .dataframe tbody tr th {\n",
       "        vertical-align: top;\n",
       "    }\n",
       "\n",
       "    .dataframe thead th {\n",
       "        text-align: right;\n",
       "    }\n",
       "</style>\n",
       "<table border=\"1\" class=\"dataframe\">\n",
       "  <thead>\n",
       "    <tr style=\"text-align: right;\">\n",
       "      <th></th>\n",
       "      <th>signalstrength</th>\n",
       "      <th>signalstzone2</th>\n",
       "      <th>duration_bounded_mn</th>\n",
       "      <th>next_duration_bounded_mn</th>\n",
       "      <th>previous_duration_bounded_mn</th>\n",
       "      <th>next2zone==Zone</th>\n",
       "      <th>previous2zone==Zone</th>\n",
       "      <th>zone3_match_exist</th>\n",
       "    </tr>\n",
       "  </thead>\n",
       "  <tbody>\n",
       "    <tr>\n",
       "      <th>0</th>\n",
       "      <td>8</td>\n",
       "      <td>7</td>\n",
       "      <td>0.35</td>\n",
       "      <td>1.05</td>\n",
       "      <td>0.00</td>\n",
       "      <td>1</td>\n",
       "      <td>0</td>\n",
       "      <td>1</td>\n",
       "    </tr>\n",
       "    <tr>\n",
       "      <th>1</th>\n",
       "      <td>8</td>\n",
       "      <td>7</td>\n",
       "      <td>1.05</td>\n",
       "      <td>0.35</td>\n",
       "      <td>0.35</td>\n",
       "      <td>1</td>\n",
       "      <td>0</td>\n",
       "      <td>1</td>\n",
       "    </tr>\n",
       "    <tr>\n",
       "      <th>2</th>\n",
       "      <td>8</td>\n",
       "      <td>7</td>\n",
       "      <td>0.35</td>\n",
       "      <td>1.50</td>\n",
       "      <td>1.05</td>\n",
       "      <td>1</td>\n",
       "      <td>1</td>\n",
       "      <td>1</td>\n",
       "    </tr>\n",
       "  </tbody>\n",
       "</table>\n",
       "</div>"
      ],
      "text/plain": [
       "   signalstrength  signalstzone2  duration_bounded_mn  \\\n",
       "0               8              7                 0.35   \n",
       "1               8              7                 1.05   \n",
       "2               8              7                 0.35   \n",
       "\n",
       "   next_duration_bounded_mn  previous_duration_bounded_mn  next2zone==Zone  \\\n",
       "0                      1.05                          0.00                1   \n",
       "1                      0.35                          0.35                1   \n",
       "2                      1.50                          1.05                1   \n",
       "\n",
       "   previous2zone==Zone  zone3_match_exist  \n",
       "0                    0                  1  \n",
       "1                    0                  1  \n",
       "2                    1                  1  "
      ]
     },
     "metadata": {},
     "output_type": "display_data"
    },
    {
     "data": {
      "text/html": [
       "<div>\n",
       "<style scoped>\n",
       "    .dataframe tbody tr th:only-of-type {\n",
       "        vertical-align: middle;\n",
       "    }\n",
       "\n",
       "    .dataframe tbody tr th {\n",
       "        vertical-align: top;\n",
       "    }\n",
       "\n",
       "    .dataframe thead th {\n",
       "        text-align: right;\n",
       "    }\n",
       "</style>\n",
       "<table border=\"1\" class=\"dataframe\">\n",
       "  <thead>\n",
       "    <tr style=\"text-align: right;\">\n",
       "      <th></th>\n",
       "      <th>Trackingsystem_Zone</th>\n",
       "      <th>zone2_match</th>\n",
       "      <th>previous1_zone</th>\n",
       "      <th>next1_zone</th>\n",
       "      <th>system</th>\n",
       "    </tr>\n",
       "  </thead>\n",
       "  <tbody>\n",
       "    <tr>\n",
       "      <th>0</th>\n",
       "      <td>4_Zone</td>\n",
       "      <td>5_Zone</td>\n",
       "      <td>3_Zone</td>\n",
       "      <td>5_Zone</td>\n",
       "      <td>8 - 9</td>\n",
       "    </tr>\n",
       "    <tr>\n",
       "      <th>1</th>\n",
       "      <td>5_Zone</td>\n",
       "      <td>4_Zone</td>\n",
       "      <td>4_Zone</td>\n",
       "      <td>4_Zone</td>\n",
       "      <td>8 - 9</td>\n",
       "    </tr>\n",
       "    <tr>\n",
       "      <th>2</th>\n",
       "      <td>4_Zone</td>\n",
       "      <td>5_Zone</td>\n",
       "      <td>5_Zone</td>\n",
       "      <td>5_Zone</td>\n",
       "      <td>8 - 9</td>\n",
       "    </tr>\n",
       "  </tbody>\n",
       "</table>\n",
       "</div>"
      ],
      "text/plain": [
       "  Trackingsystem_Zone zone2_match previous1_zone next1_zone system\n",
       "0              4_Zone      5_Zone         3_Zone     5_Zone  8 - 9\n",
       "1              5_Zone      4_Zone         4_Zone     4_Zone  8 - 9\n",
       "2              4_Zone      5_Zone         5_Zone     5_Zone  8 - 9"
      ]
     },
     "metadata": {},
     "output_type": "display_data"
    }
   ],
   "source": [
    "#add info on nan values in the initial df, in order to replace at the end all prediction based on features involvig at least \n",
    "#one nan, by 1\n",
    "#Indeed, for records with some nan features, we will predict them a 1 all the time its only 0,05% of the time , i.e. when its \n",
    "#first or last transition. Indeed, we dont want to loose any records!\n",
    "df['nbr_nan'] = df.filter(li_cont_select+li_cat_select, axis=1).isnull().sum(axis=1).tolist()\n",
    "display(df['nbr_nan'].value_counts())\n",
    "#fillnan for simplicity, but we will remove those rows predictions anyway\n",
    "#display BEFORE categoricalfeatures\n",
    "display(df[li_cat_select].head(3))\n",
    "df[li_cont_select] = df[li_cont_select].fillna(df[li_cont_select].mean().iloc[0])\n",
    "#display AFTER categoricalfeatures\n",
    "df[li_cat_select] = df[li_cat_select].fillna(df[li_cat_select].mode().iloc[0])\n",
    "#show data\n",
    "display(df[config.li_cont_select].head(3))\n",
    "display(df[config.li_cat_select].head(3))"
   ]
  },
  {
   "cell_type": "markdown",
   "metadata": {},
   "source": [
    "# Cleaning"
   ]
  },
  {
   "cell_type": "code",
   "execution_count": 9,
   "metadata": {},
   "outputs": [
    {
     "name": "stderr",
     "output_type": "stream",
     "text": [
      "C:\\Users\\camil\\anaconda3\\lib\\site-packages\\ipykernel\\ipkernel.py:283: DeprecationWarning: `should_run_async` will not call `transform_cell` automatically in the future. Please pass the result to `transformed_cell` argument and any exception that happen during thetransform in `preprocessing_exc_tuple` in IPython 7.17 and above.\n",
      "  and should_run_async(code)\n"
     ]
    },
    {
     "name": "stdout",
     "output_type": "stream",
     "text": [
      "Total running time for prediction: 66.19 mn\n"
     ]
    },
    {
     "data": {
      "text/html": [
       "<div>\n",
       "<style scoped>\n",
       "    .dataframe tbody tr th:only-of-type {\n",
       "        vertical-align: middle;\n",
       "    }\n",
       "\n",
       "    .dataframe tbody tr th {\n",
       "        vertical-align: top;\n",
       "    }\n",
       "\n",
       "    .dataframe thead th {\n",
       "        text-align: right;\n",
       "    }\n",
       "</style>\n",
       "<table border=\"1\" class=\"dataframe\">\n",
       "  <thead>\n",
       "    <tr style=\"text-align: right;\">\n",
       "      <th></th>\n",
       "      <th>Timestamp</th>\n",
       "      <th>HenID</th>\n",
       "      <th>Trackingsystem_Zone</th>\n",
       "      <th>PenID</th>\n",
       "      <th>ts_order</th>\n",
       "      <th>TagID</th>\n",
       "      <th>signalstrength</th>\n",
       "      <th>system</th>\n",
       "      <th>time</th>\n",
       "      <th>date</th>\n",
       "      <th>...</th>\n",
       "      <th>zone4_match</th>\n",
       "      <th>zone3_match_exist</th>\n",
       "      <th>next2zone==Zone</th>\n",
       "      <th>previous2zone==Zone</th>\n",
       "      <th>is_dur_smaller_60sec</th>\n",
       "      <th>duration_bounded_mn</th>\n",
       "      <th>next_duration_bounded_mn</th>\n",
       "      <th>previous_duration_bounded_mn</th>\n",
       "      <th>nbr_nan</th>\n",
       "      <th>prediction</th>\n",
       "    </tr>\n",
       "  </thead>\n",
       "  <tbody>\n",
       "    <tr>\n",
       "      <th>0</th>\n",
       "      <td>2020-11-13 00:12:06</td>\n",
       "      <td>hen_19</td>\n",
       "      <td>4_Zone</td>\n",
       "      <td>pen9</td>\n",
       "      <td>143481</td>\n",
       "      <td>tag_94</td>\n",
       "      <td>8</td>\n",
       "      <td>8 - 9</td>\n",
       "      <td>00:12:06</td>\n",
       "      <td>2020-11-13</td>\n",
       "      <td>...</td>\n",
       "      <td>1_Zone</td>\n",
       "      <td>1</td>\n",
       "      <td>1</td>\n",
       "      <td>0</td>\n",
       "      <td>True</td>\n",
       "      <td>0.35</td>\n",
       "      <td>1.05</td>\n",
       "      <td>0.00</td>\n",
       "      <td>1</td>\n",
       "      <td>1</td>\n",
       "    </tr>\n",
       "    <tr>\n",
       "      <th>1</th>\n",
       "      <td>2020-11-13 00:12:27</td>\n",
       "      <td>hen_19</td>\n",
       "      <td>5_Zone</td>\n",
       "      <td>pen9</td>\n",
       "      <td>143482</td>\n",
       "      <td>tag_94</td>\n",
       "      <td>8</td>\n",
       "      <td>8 - 9</td>\n",
       "      <td>00:12:27</td>\n",
       "      <td>2020-11-13</td>\n",
       "      <td>...</td>\n",
       "      <td>1_Zone</td>\n",
       "      <td>1</td>\n",
       "      <td>1</td>\n",
       "      <td>0</td>\n",
       "      <td>False</td>\n",
       "      <td>1.05</td>\n",
       "      <td>0.35</td>\n",
       "      <td>0.35</td>\n",
       "      <td>0</td>\n",
       "      <td>1</td>\n",
       "    </tr>\n",
       "    <tr>\n",
       "      <th>2</th>\n",
       "      <td>2020-11-13 00:13:30</td>\n",
       "      <td>hen_19</td>\n",
       "      <td>4_Zone</td>\n",
       "      <td>pen9</td>\n",
       "      <td>143483</td>\n",
       "      <td>tag_94</td>\n",
       "      <td>8</td>\n",
       "      <td>8 - 9</td>\n",
       "      <td>00:13:30</td>\n",
       "      <td>2020-11-13</td>\n",
       "      <td>...</td>\n",
       "      <td>2_Zone</td>\n",
       "      <td>1</td>\n",
       "      <td>1</td>\n",
       "      <td>1</td>\n",
       "      <td>True</td>\n",
       "      <td>0.35</td>\n",
       "      <td>1.50</td>\n",
       "      <td>1.05</td>\n",
       "      <td>0</td>\n",
       "      <td>0</td>\n",
       "    </tr>\n",
       "  </tbody>\n",
       "</table>\n",
       "<p>3 rows × 47 columns</p>\n",
       "</div>"
      ],
      "text/plain": [
       "            Timestamp   HenID Trackingsystem_Zone PenID  ts_order   TagID  \\\n",
       "0 2020-11-13 00:12:06  hen_19              4_Zone  pen9    143481  tag_94   \n",
       "1 2020-11-13 00:12:27  hen_19              5_Zone  pen9    143482  tag_94   \n",
       "2 2020-11-13 00:13:30  hen_19              4_Zone  pen9    143483  tag_94   \n",
       "\n",
       "   signalstrength system      time       date  ...  zone4_match  \\\n",
       "0               8  8 - 9  00:12:06 2020-11-13  ...       1_Zone   \n",
       "1               8  8 - 9  00:12:27 2020-11-13  ...       1_Zone   \n",
       "2               8  8 - 9  00:13:30 2020-11-13  ...       2_Zone   \n",
       "\n",
       "  zone3_match_exist next2zone==Zone previous2zone==Zone is_dur_smaller_60sec  \\\n",
       "0                 1               1                   0                 True   \n",
       "1                 1               1                   0                False   \n",
       "2                 1               1                   1                 True   \n",
       "\n",
       "  duration_bounded_mn  next_duration_bounded_mn  previous_duration_bounded_mn  \\\n",
       "0                0.35                      1.05                          0.00   \n",
       "1                1.05                      0.35                          0.35   \n",
       "2                0.35                      1.50                          1.05   \n",
       "\n",
       "   nbr_nan prediction  \n",
       "0        1          1  \n",
       "1        0          1  \n",
       "2        0          0  \n",
       "\n",
       "[3 rows x 47 columns]"
      ]
     },
     "metadata": {},
     "output_type": "display_data"
    },
    {
     "data": {
      "text/plain": [
       "None"
      ]
     },
     "metadata": {},
     "output_type": "display_data"
    },
    {
     "data": {
      "text/plain": [
       "1    1497754\n",
       "0      89064\n",
       "Name: prediction, dtype: int64"
      ]
     },
     "metadata": {},
     "output_type": "display_data"
    },
    {
     "data": {
      "text/plain": [
       "1    0.943873\n",
       "0    0.056127\n",
       "Name: prediction, dtype: float64"
      ]
     },
     "metadata": {},
     "output_type": "display_data"
    }
   ],
   "source": [
    "if name_method=='ML-method':\n",
    "    START_TIME = time.perf_counter()\n",
    "    #predict, and if its wintergarten (i.e. 1_Zone) put =1\n",
    "    df['prediction'] = df.apply(lambda x: model.predict(pd.DataFrame(x[li_cont_select+\\\n",
    "                                                                             li_cat_select]).transpose())[0] if\\\n",
    "                                      x['Trackingsystem_Zone']!='1_Zone' else 1, axis=1)\n",
    "    #predict false if <60seconds in WG\n",
    "    df.loc[(df['is_dur_smaller_60sec'])&(df['Trackingsystem_Zone']=='1_Zone'), 'prediction'] = 0\n",
    "    #always =1 if there was some nan values\n",
    "    df.loc[df['nbr_nan']!=0, 'prediction'] = 1\n",
    "    END_TIME = time.perf_counter()\n",
    "    print (\"Total running time for prediction: %.2f mn\" %((END_TIME-START_TIME)/60))\n",
    "\n",
    "    #show info & save (take TIME to save)\n",
    "    display(display(df.head(3)))\n",
    "    display(df['prediction'].value_counts())\n",
    "    display(df['prediction'].value_counts(normalize=True)) #in testing it was 4,9% of wrong records: 42/(42+821)*100)\n",
    "    df.filter(['HenID','PenID','system','Trackingsystem_Zone','prediction','Timestamp','date'],\n",
    "              axis=1).to_csv(os.path.join(path_extracted_data_cleaning_rawvscleaned, id_run+name_method+'_Rawdata&Model.csv'),\n",
    "                             index=False, sep=';')    \n",
    "    \n",
    "elif name_method=='TD-method':\n",
    "    #same but with TD\n",
    "    #predict, and if its wintergarten (i.e. 1_Zone) put =1\n",
    "    df['prediction'] = df['duration'].map(lambda x: 0 if x<60 else 1)\n",
    "    #always =1 if there was some nan values for better comparison with the other method\n",
    "    df.loc[df['nbr_nan']!=0, 'prediction'] = 1\n",
    "    #show info & save (take TIME to save)\n",
    "    display(display(df.head(3)))\n",
    "    display(df['prediction'].value_counts())\n",
    "    display(df['prediction'].value_counts(normalize=True)) #in testing it was 4,9% of wrong records: 42/(42+821)*100)\n",
    "    df.filter(['HenID','PenID','system','Trackingsystem_Zone','prediction','Timestamp','date'],\n",
    "              axis=1).to_csv(os.path.join(path_extracted_data_cleaning_rawvscleaned, id_run+name_method+'_Rawdata&Model.csv'),\n",
    "                             index=False, sep=';')  \n",
    "    \n",
    "else:\n",
    "    print('choose an existing method (ML-method, or TD-method)')\n",
    "    sys.exit()"
   ]
  },
  {
   "cell_type": "markdown",
   "metadata": {},
   "source": [
    "# Compute variable"
   ]
  },
  {
   "cell_type": "markdown",
   "metadata": {},
   "source": [
    "#IF NOT ALREADY DONE\n",
    "p = glob.glob(os.path.join(path_initial_data, 'Barn 4 Pen*\\TagUpdates\\log*'))\n",
    "#print('There is %d log files:\\n  %s'%(len(p),'  \\n  '.join(p)))\n",
    "df = preprocessing_Origins(p, config, save=True, dodevice=True)\n",
    "print(df.shape)\n",
    "display(df.head(2))\n",
    "display(df.tail(2))"
   ]
  },
  {
   "cell_type": "code",
   "execution_count": 5,
   "metadata": {},
   "outputs": [
    {
     "name": "stderr",
     "output_type": "stream",
     "text": [
      "C:\\Users\\camil\\anaconda3\\lib\\site-packages\\ipykernel\\ipkernel.py:283: DeprecationWarning: `should_run_async` will not call `transform_cell` automatically in the future. Please pass the result to `transformed_cell` argument and any exception that happen during thetransform in `preprocessing_exc_tuple` in IPython 7.17 and above.\n",
      "  and should_run_async(code)\n"
     ]
    },
    {
     "name": "stdout",
     "output_type": "stream",
     "text": [
      "(1586818, 7)\n"
     ]
    },
    {
     "data": {
      "text/html": [
       "<div>\n",
       "<style scoped>\n",
       "    .dataframe tbody tr th:only-of-type {\n",
       "        vertical-align: middle;\n",
       "    }\n",
       "\n",
       "    .dataframe tbody tr th {\n",
       "        vertical-align: top;\n",
       "    }\n",
       "\n",
       "    .dataframe thead th {\n",
       "        text-align: right;\n",
       "    }\n",
       "</style>\n",
       "<table border=\"1\" class=\"dataframe\">\n",
       "  <thead>\n",
       "    <tr style=\"text-align: right;\">\n",
       "      <th></th>\n",
       "      <th>HenID</th>\n",
       "      <th>PenID</th>\n",
       "      <th>system</th>\n",
       "      <th>Zone</th>\n",
       "      <th>prediction</th>\n",
       "      <th>Timestamp</th>\n",
       "      <th>date</th>\n",
       "    </tr>\n",
       "  </thead>\n",
       "  <tbody>\n",
       "    <tr>\n",
       "      <th>0</th>\n",
       "      <td>hen_19</td>\n",
       "      <td>pen9</td>\n",
       "      <td>8 - 9</td>\n",
       "      <td>4_Zone</td>\n",
       "      <td>1</td>\n",
       "      <td>2020-11-13 00:12:06</td>\n",
       "      <td>2020-11-13</td>\n",
       "    </tr>\n",
       "    <tr>\n",
       "      <th>1</th>\n",
       "      <td>hen_19</td>\n",
       "      <td>pen9</td>\n",
       "      <td>8 - 9</td>\n",
       "      <td>5_Zone</td>\n",
       "      <td>1</td>\n",
       "      <td>2020-11-13 00:12:27</td>\n",
       "      <td>2020-11-13</td>\n",
       "    </tr>\n",
       "    <tr>\n",
       "      <th>2</th>\n",
       "      <td>hen_19</td>\n",
       "      <td>pen9</td>\n",
       "      <td>8 - 9</td>\n",
       "      <td>4_Zone</td>\n",
       "      <td>0</td>\n",
       "      <td>2020-11-13 00:13:30</td>\n",
       "      <td>2020-11-13</td>\n",
       "    </tr>\n",
       "  </tbody>\n",
       "</table>\n",
       "</div>"
      ],
      "text/plain": [
       "    HenID PenID system    Zone  prediction           Timestamp       date\n",
       "0  hen_19  pen9  8 - 9  4_Zone           1 2020-11-13 00:12:06 2020-11-13\n",
       "1  hen_19  pen9  8 - 9  5_Zone           1 2020-11-13 00:12:27 2020-11-13\n",
       "2  hen_19  pen9  8 - 9  4_Zone           0 2020-11-13 00:13:30 2020-11-13"
      ]
     },
     "execution_count": 5,
     "metadata": {},
     "output_type": "execute_result"
    }
   ],
   "source": [
    "#for more flexibility we open the file that was saved previously\n",
    "df = pd.read_csv(os.path.join(path_extracted_data_cleaning_rawvscleaned, id_run+name_method+'_Rawdata&Model.csv'), sep=';', \n",
    "                 parse_dates=['Timestamp','date'], dayfirst=True)\n",
    "df.rename(columns={'Trackingsystem_Zone':'Zone'}, inplace=True)\n",
    "print(df.shape)\n",
    "df.head(3)"
   ]
  },
  {
   "cell_type": "code",
   "execution_count": 6,
   "metadata": {},
   "outputs": [
    {
     "name": "stdout",
     "output_type": "stream",
     "text": [
      "(1586818, 7)\n",
      "(1497754, 7)\n"
     ]
    },
    {
     "name": "stderr",
     "output_type": "stream",
     "text": [
      "C:\\Users\\camil\\anaconda3\\lib\\site-packages\\ipykernel\\ipkernel.py:283: DeprecationWarning: `should_run_async` will not call `transform_cell` automatically in the future. Please pass the result to `transformed_cell` argument and any exception that happen during thetransform in `preprocessing_exc_tuple` in IPython 7.17 and above.\n",
      "  and should_run_async(code)\n"
     ]
    },
    {
     "data": {
      "text/html": [
       "<div>\n",
       "<style scoped>\n",
       "    .dataframe tbody tr th:only-of-type {\n",
       "        vertical-align: middle;\n",
       "    }\n",
       "\n",
       "    .dataframe tbody tr th {\n",
       "        vertical-align: top;\n",
       "    }\n",
       "\n",
       "    .dataframe thead th {\n",
       "        text-align: right;\n",
       "    }\n",
       "</style>\n",
       "<table border=\"1\" class=\"dataframe\">\n",
       "  <thead>\n",
       "    <tr style=\"text-align: right;\">\n",
       "      <th></th>\n",
       "      <th>HenID</th>\n",
       "      <th>PenID</th>\n",
       "      <th>system</th>\n",
       "      <th>Zone</th>\n",
       "      <th>prediction</th>\n",
       "      <th>Timestamp</th>\n",
       "      <th>date</th>\n",
       "    </tr>\n",
       "  </thead>\n",
       "  <tbody>\n",
       "    <tr>\n",
       "      <th>0</th>\n",
       "      <td>hen_19</td>\n",
       "      <td>pen9</td>\n",
       "      <td>8 - 9</td>\n",
       "      <td>4_Zone</td>\n",
       "      <td>1</td>\n",
       "      <td>2020-11-13 00:12:06</td>\n",
       "      <td>2020-11-13</td>\n",
       "    </tr>\n",
       "    <tr>\n",
       "      <th>1</th>\n",
       "      <td>hen_19</td>\n",
       "      <td>pen9</td>\n",
       "      <td>8 - 9</td>\n",
       "      <td>5_Zone</td>\n",
       "      <td>1</td>\n",
       "      <td>2020-11-13 00:12:27</td>\n",
       "      <td>2020-11-13</td>\n",
       "    </tr>\n",
       "  </tbody>\n",
       "</table>\n",
       "</div>"
      ],
      "text/plain": [
       "    HenID PenID system    Zone  prediction           Timestamp       date\n",
       "0  hen_19  pen9  8 - 9  4_Zone           1 2020-11-13 00:12:06 2020-11-13\n",
       "1  hen_19  pen9  8 - 9  5_Zone           1 2020-11-13 00:12:27 2020-11-13"
      ]
     },
     "metadata": {},
     "output_type": "display_data"
    },
    {
     "name": "stderr",
     "output_type": "stream",
     "text": [
      "  0%|                                                                                            | 0/8 [00:00<?, ?it/s]C:\\Users\\camil\\Desktop\\animals_code\\PhD-AnimalWelfare\\UTILS.py:3946: SettingWithCopyWarning: \n",
      "A value is trying to be set on a copy of a slice from a DataFrame\n",
      "\n",
      "See the caveats in the documentation: https://pandas.pydata.org/pandas-docs/stable/user_guide/indexing.html#returning-a-view-versus-a-copy\n",
      "  df.sort_values([timestamp_name], inplace=True)\n",
      "C:\\Users\\camil\\Desktop\\animals_code\\PhD-AnimalWelfare\\UTILS.py:3948: SettingWithCopyWarning: \n",
      "A value is trying to be set on a copy of a slice from a DataFrame.\n",
      "Try using .loc[row_indexer,col_indexer] = value instead\n",
      "\n",
      "See the caveats in the documentation: https://pandas.pydata.org/pandas-docs/stable/user_guide/indexing.html#returning-a-view-versus-a-copy\n",
      "  df[timestamp_name] = df[timestamp_name].map(lambda x: dt.datetime(x.year,x.month,x.day,x.hour,x.minute, x.second))\n"
     ]
    },
    {
     "name": "stdout",
     "output_type": "stream",
     "text": [
      "----------------- Create time serie\n",
      "in this time series there is 22 hens\n",
      "The initial starting date in over all is: 2020-11-13 00:12:06, and the ending date will be: 2021-01-11 23:49:31\n",
      "But note that birds may have different ending and starting date which should be taken into account when computing variables\n",
      "and after ending the last day at midnight : 2020-11-13 00:12:06, and the ending date will be: 2021-01-11 23:59:59\n",
      "Total running time: 0.95 mn\n",
      "your time series has 1 seconds between two timestamps\n",
      "----------------- main night zone and nbr of transitions over night....\n",
      "----------------- total duration per Zone in seconds....\n",
      "----------------- first timestamp in each zone per day....\n",
      "----------------- number of Zone (excluding nan)....\n",
      "----------------- compute some variables based on a list of zones over a day....\n",
      "----------------NESTBOX\n"
     ]
    },
    {
     "name": "stderr",
     "output_type": "stream",
     "text": [
      "\n",
      "  0%|                                                                                           | 0/22 [00:00<?, ?it/s]\u001b[A\n",
      "  5%|███▊                                                                               | 1/22 [00:00<00:04,  4.52it/s]\u001b[A\n",
      "  9%|███████▌                                                                           | 2/22 [00:00<00:04,  4.97it/s]\u001b[A\n",
      " 14%|███████████▎                                                                       | 3/22 [00:00<00:03,  4.86it/s]\u001b[A\n",
      " 23%|██████████████████▊                                                                | 5/22 [00:00<00:03,  5.48it/s]\u001b[A\n",
      " 36%|██████████████████████████████▏                                                    | 8/22 [00:01<00:02,  6.35it/s]\u001b[A\n",
      " 41%|█████████████████████████████████▉                                                 | 9/22 [00:01<00:04,  3.15it/s]\u001b[A\n",
      " 45%|█████████████████████████████████████▎                                            | 10/22 [00:01<00:03,  3.87it/s]\u001b[A\n",
      " 55%|████████████████████████████████████████████▋                                     | 12/22 [00:02<00:02,  4.85it/s]\u001b[A\n",
      " 59%|████████████████████████████████████████████████▍                                 | 13/22 [00:02<00:01,  4.88it/s]\u001b[A\n",
      " 64%|████████████████████████████████████████████████████▏                             | 14/22 [00:02<00:01,  4.59it/s]\u001b[A\n",
      " 73%|███████████████████████████████████████████████████████████▋                      | 16/22 [00:02<00:01,  5.08it/s]\u001b[A\n",
      " 77%|███████████████████████████████████████████████████████████████▎                  | 17/22 [00:03<00:01,  4.74it/s]\u001b[A\n",
      " 82%|███████████████████████████████████████████████████████████████████               | 18/22 [00:03<00:00,  4.65it/s]\u001b[A\n",
      "100%|██████████████████████████████████████████████████████████████████████████████████| 22/22 [00:03<00:00,  5.56it/s]\u001b[A\n",
      "C:\\Users\\camil\\anaconda3\\lib\\site-packages\\numpy\\lib\\nanfunctions.py:1366: RuntimeWarning: Mean of empty slice\n",
      "  return np.nanmean(a, axis, out=out, keepdims=keepdims)\n"
     ]
    },
    {
     "name": "stdout",
     "output_type": "stream",
     "text": [
      "------------ add hen basics info\n",
      "From the focalBirdinfo, you have 158 ative tags\n",
      "(1298, 116)\n",
      "(1197, 118)\n",
      "-------------- Lets remove unwanted dates at PENS level\n"
     ]
    },
    {
     "data": {
      "text/html": [
       "<text style=color:black>By removing the unwanted days we passed from 1197 to 1140 timestamp (losing </text> <text style=color:red>57</text> <text style=color:black> timestamp)</text>"
      ],
      "text/plain": [
       "<IPython.core.display.HTML object>"
      ]
     },
     "metadata": {},
     "output_type": "display_data"
    },
    {
     "name": "stdout",
     "output_type": "stream",
     "text": [
      "All the night variables are:  Index(['HenID', 'night_level', 'night_Max_duration_zones',\n",
      "       'night_distribution_entropy', 'night_Total_number_transition',\n",
      "       'is_mvt_night', 'level', 'PenID', 'CLASS', 'R-Pen', 'InitialStartDate',\n",
      "       '29-09 weight', '10-12 juin weight', 'weight 23-11-2020',\n",
      "       'weight 04-01-2021', 'weight 01-02-21', 'weight 12-04-21', 'Treatment'],\n",
      "      dtype='object')\n",
      "['night_level']\n",
      "-------------- Lets remove dates of tags when they were not giving deviceupdate regularly\n"
     ]
    },
    {
     "data": {
      "text/html": [
       "<text style=color:black>By removing the unwanted days we passed from 1257 to 1257 timestamp (losing </text> <text style=color:red>0</text> <text style=color:black> timestamp)</text>"
      ],
      "text/plain": [
       "<IPython.core.display.HTML object>"
      ]
     },
     "metadata": {},
     "output_type": "display_data"
    },
    {
     "name": "stdout",
     "output_type": "stream",
     "text": [
      "-------------- Lets remove dates of tags when they were having more or equal than 10 times LFCOUNTER=0 a day\n"
     ]
    },
    {
     "data": {
      "text/html": [
       "<text style=color:black>By removing the unwanted days we passed from 1257 to 1257 timestamp (losing </text> <text style=color:red>0</text> <text style=color:black> timestamp)</text>"
      ],
      "text/plain": [
       "<IPython.core.display.HTML object>"
      ]
     },
     "metadata": {},
     "output_type": "display_data"
    },
    {
     "name": "stdout",
     "output_type": "stream",
     "text": [
      "-------------- Lets remove the 30.09.2020 for the tags taht still had no transition from before the light went on \n"
     ]
    },
    {
     "data": {
      "text/html": [
       "<text style=color:black>By removing the unwanted days we passed from 1257 to 1257 timestamp (losing </text> <text style=color:red>0</text> <text style=color:black> timestamp)</text>"
      ],
      "text/plain": [
       "<IPython.core.display.HTML object>"
      ]
     },
     "metadata": {},
     "output_type": "display_data"
    },
    {
     "name": "stdout",
     "output_type": "stream",
     "text": [
      "save\n"
     ]
    },
    {
     "name": "stderr",
     "output_type": "stream",
     "text": [
      "\r",
      " 12%|██████████▍                                                                        | 1/8 [07:46<54:28, 466.91s/it]"
     ]
    },
    {
     "name": "stdout",
     "output_type": "stream",
     "text": [
      "Total running time: 7.80 mn\n",
      "(1257, 131)\n"
     ]
    },
    {
     "name": "stderr",
     "output_type": "stream",
     "text": [
      "C:\\Users\\camil\\Desktop\\animals_code\\PhD-AnimalWelfare\\UTILS.py:3946: SettingWithCopyWarning: \n",
      "A value is trying to be set on a copy of a slice from a DataFrame\n",
      "\n",
      "See the caveats in the documentation: https://pandas.pydata.org/pandas-docs/stable/user_guide/indexing.html#returning-a-view-versus-a-copy\n",
      "  df.sort_values([timestamp_name], inplace=True)\n",
      "C:\\Users\\camil\\Desktop\\animals_code\\PhD-AnimalWelfare\\UTILS.py:3948: SettingWithCopyWarning: \n",
      "A value is trying to be set on a copy of a slice from a DataFrame.\n",
      "Try using .loc[row_indexer,col_indexer] = value instead\n",
      "\n",
      "See the caveats in the documentation: https://pandas.pydata.org/pandas-docs/stable/user_guide/indexing.html#returning-a-view-versus-a-copy\n",
      "  df[timestamp_name] = df[timestamp_name].map(lambda x: dt.datetime(x.year,x.month,x.day,x.hour,x.minute, x.second))\n"
     ]
    },
    {
     "name": "stdout",
     "output_type": "stream",
     "text": [
      "----------------- Create time serie\n",
      "in this time series there is 22 hens\n",
      "The initial starting date in over all is: 2020-11-13 00:20:14, and the ending date will be: 2021-01-11 23:58:59\n",
      "But note that birds may have different ending and starting date which should be taken into account when computing variables\n",
      "and after ending the last day at midnight : 2020-11-13 00:20:14, and the ending date will be: 2021-01-11 23:59:59\n",
      "Total running time: 0.96 mn\n",
      "your time series has 1 seconds between two timestamps\n",
      "----------------- main night zone and nbr of transitions over night....\n",
      "----------------- total duration per Zone in seconds....\n",
      "----------------- first timestamp in each zone per day....\n",
      "----------------- number of Zone (excluding nan)....\n",
      "----------------- compute some variables based on a list of zones over a day....\n",
      "----------------NESTBOX\n"
     ]
    },
    {
     "name": "stderr",
     "output_type": "stream",
     "text": [
      "\n",
      "  0%|                                                                                           | 0/22 [00:00<?, ?it/s]\u001b[A\n",
      "  5%|███▊                                                                               | 1/22 [00:00<00:06,  3.31it/s]\u001b[A\n",
      "  9%|███████▌                                                                           | 2/22 [00:00<00:04,  4.07it/s]\u001b[A\n",
      " 14%|███████████▎                                                                       | 3/22 [00:00<00:06,  3.16it/s]\u001b[A\n",
      " 27%|██████████████████████▋                                                            | 6/22 [00:01<00:04,  3.96it/s]\u001b[A\n",
      " 32%|██████████████████████████▍                                                        | 7/22 [00:01<00:03,  3.77it/s]\u001b[A\n",
      " 36%|██████████████████████████████▏                                                    | 8/22 [00:01<00:04,  3.30it/s]\u001b[A\n",
      " 45%|█████████████████████████████████████▎                                            | 10/22 [00:02<00:03,  3.79it/s]\u001b[A\n",
      " 50%|█████████████████████████████████████████                                         | 11/22 [00:02<00:02,  3.93it/s]\u001b[A\n",
      " 55%|████████████████████████████████████████████▋                                     | 12/22 [00:02<00:02,  4.67it/s]\u001b[A\n",
      " 64%|████████████████████████████████████████████████████▏                             | 14/22 [00:02<00:01,  5.26it/s]\u001b[A\n",
      " 68%|███████████████████████████████████████████████████████▉                          | 15/22 [00:03<00:01,  4.30it/s]\u001b[A\n",
      " 77%|███████████████████████████████████████████████████████████████▎                  | 17/22 [00:03<00:01,  4.61it/s]\u001b[A\n",
      " 86%|██████████████████████████████████████████████████████████████████████▊           | 19/22 [00:04<00:00,  4.33it/s]\u001b[A\n",
      " 91%|██████████████████████████████████████████████████████████████████████████▌       | 20/22 [00:04<00:00,  4.80it/s]\u001b[A\n",
      "100%|██████████████████████████████████████████████████████████████████████████████████| 22/22 [00:04<00:00,  4.70it/s]\u001b[A\n",
      "C:\\Users\\camil\\anaconda3\\lib\\site-packages\\numpy\\lib\\nanfunctions.py:1366: RuntimeWarning: Mean of empty slice\n",
      "  return np.nanmean(a, axis, out=out, keepdims=keepdims)\n"
     ]
    },
    {
     "name": "stdout",
     "output_type": "stream",
     "text": [
      "------------ add hen basics info\n",
      "From the focalBirdinfo, you have 158 ative tags\n",
      "(1245, 116)\n",
      "(1143, 118)\n",
      "-------------- Lets remove unwanted dates at PENS level\n"
     ]
    },
    {
     "data": {
      "text/html": [
       "<text style=color:black>By removing the unwanted days we passed from 1143 to 1090 timestamp (losing </text> <text style=color:red>53</text> <text style=color:black> timestamp)</text>"
      ],
      "text/plain": [
       "<IPython.core.display.HTML object>"
      ]
     },
     "metadata": {},
     "output_type": "display_data"
    },
    {
     "name": "stdout",
     "output_type": "stream",
     "text": [
      "All the night variables are:  Index(['HenID', 'night_level', 'night_Max_duration_zones',\n",
      "       'night_distribution_entropy', 'night_Total_number_transition',\n",
      "       'is_mvt_night', 'level', 'PenID', 'CLASS', 'R-Pen', 'InitialStartDate',\n",
      "       '29-09 weight', '10-12 juin weight', 'weight 23-11-2020',\n",
      "       'weight 04-01-2021', 'weight 01-02-21', 'weight 12-04-21', 'Treatment'],\n",
      "      dtype='object')\n",
      "['night_level']\n",
      "-------------- Lets remove dates of tags when they were not giving deviceupdate regularly\n"
     ]
    },
    {
     "data": {
      "text/html": [
       "<text style=color:black>By removing the unwanted days we passed from 1206 to 1206 timestamp (losing </text> <text style=color:red>0</text> <text style=color:black> timestamp)</text>"
      ],
      "text/plain": [
       "<IPython.core.display.HTML object>"
      ]
     },
     "metadata": {},
     "output_type": "display_data"
    },
    {
     "name": "stdout",
     "output_type": "stream",
     "text": [
      "-------------- Lets remove dates of tags when they were having more or equal than 10 times LFCOUNTER=0 a day\n"
     ]
    },
    {
     "data": {
      "text/html": [
       "<text style=color:black>By removing the unwanted days we passed from 1206 to 1166 timestamp (losing </text> <text style=color:red>40</text> <text style=color:black> timestamp)</text>"
      ],
      "text/plain": [
       "<IPython.core.display.HTML object>"
      ]
     },
     "metadata": {},
     "output_type": "display_data"
    },
    {
     "name": "stdout",
     "output_type": "stream",
     "text": [
      "-------------- Lets remove the 30.09.2020 for the tags taht still had no transition from before the light went on \n"
     ]
    },
    {
     "data": {
      "text/html": [
       "<text style=color:black>By removing the unwanted days we passed from 1166 to 1166 timestamp (losing </text> <text style=color:red>0</text> <text style=color:black> timestamp)</text>"
      ],
      "text/plain": [
       "<IPython.core.display.HTML object>"
      ]
     },
     "metadata": {},
     "output_type": "display_data"
    },
    {
     "name": "stdout",
     "output_type": "stream",
     "text": [
      "save\n"
     ]
    },
    {
     "name": "stderr",
     "output_type": "stream",
     "text": [
      "\r",
      " 25%|████████████████████▊                                                              | 2/8 [15:29<46:33, 465.63s/it]"
     ]
    },
    {
     "name": "stdout",
     "output_type": "stream",
     "text": [
      "Total running time: 7.70 mn\n",
      "(1166, 131)\n"
     ]
    },
    {
     "name": "stderr",
     "output_type": "stream",
     "text": [
      "C:\\Users\\camil\\Desktop\\animals_code\\PhD-AnimalWelfare\\UTILS.py:3946: SettingWithCopyWarning: \n",
      "A value is trying to be set on a copy of a slice from a DataFrame\n",
      "\n",
      "See the caveats in the documentation: https://pandas.pydata.org/pandas-docs/stable/user_guide/indexing.html#returning-a-view-versus-a-copy\n",
      "  df.sort_values([timestamp_name], inplace=True)\n",
      "C:\\Users\\camil\\Desktop\\animals_code\\PhD-AnimalWelfare\\UTILS.py:3948: SettingWithCopyWarning: \n",
      "A value is trying to be set on a copy of a slice from a DataFrame.\n",
      "Try using .loc[row_indexer,col_indexer] = value instead\n",
      "\n",
      "See the caveats in the documentation: https://pandas.pydata.org/pandas-docs/stable/user_guide/indexing.html#returning-a-view-versus-a-copy\n",
      "  df[timestamp_name] = df[timestamp_name].map(lambda x: dt.datetime(x.year,x.month,x.day,x.hour,x.minute, x.second))\n"
     ]
    },
    {
     "name": "stdout",
     "output_type": "stream",
     "text": [
      "----------------- Create time serie\n",
      "in this time series there is 22 hens\n",
      "The initial starting date in over all is: 2020-11-13 00:23:55, and the ending date will be: 2021-01-11 17:03:20\n",
      "But note that birds may have different ending and starting date which should be taken into account when computing variables\n",
      "and after ending the last day at midnight : 2020-11-13 00:23:55, and the ending date will be: 2021-01-11 23:59:59\n",
      "Total running time: 0.95 mn\n",
      "your time series has 1 seconds between two timestamps\n",
      "----------------- main night zone and nbr of transitions over night....\n",
      "----------------- total duration per Zone in seconds....\n",
      "----------------- first timestamp in each zone per day....\n",
      "----------------- number of Zone (excluding nan)....\n",
      "----------------- compute some variables based on a list of zones over a day....\n",
      "----------------NESTBOX\n"
     ]
    },
    {
     "name": "stderr",
     "output_type": "stream",
     "text": [
      "\n",
      "  0%|                                                                                           | 0/22 [00:00<?, ?it/s]\u001b[A\n",
      "  9%|███████▌                                                                           | 2/22 [00:00<00:03,  6.60it/s]\u001b[A\n",
      " 14%|███████████▎                                                                       | 3/22 [00:00<00:03,  5.54it/s]\u001b[A\n",
      " 18%|███████████████                                                                    | 4/22 [00:00<00:03,  5.73it/s]\u001b[A\n",
      " 23%|██████████████████▊                                                                | 5/22 [00:01<00:06,  2.64it/s]\u001b[A\n",
      " 27%|██████████████████████▋                                                            | 6/22 [00:01<00:04,  3.36it/s]\u001b[A\n",
      " 32%|██████████████████████████▍                                                        | 7/22 [00:02<00:04,  3.19it/s]\u001b[A\n",
      " 36%|██████████████████████████████▏                                                    | 8/22 [00:02<00:04,  3.43it/s]\u001b[A\n",
      " 41%|█████████████████████████████████▉                                                 | 9/22 [00:02<00:03,  3.30it/s]\u001b[A\n",
      " 45%|█████████████████████████████████████▎                                            | 10/22 [00:02<00:03,  3.17it/s]\u001b[A\n",
      " 50%|█████████████████████████████████████████                                         | 11/22 [00:03<00:02,  3.97it/s]\u001b[A\n",
      " 55%|████████████████████████████████████████████▋                                     | 12/22 [00:03<00:02,  4.10it/s]\u001b[A\n",
      " 64%|████████████████████████████████████████████████████▏                             | 14/22 [00:03<00:01,  4.40it/s]\u001b[A\n",
      " 68%|███████████████████████████████████████████████████████▉                          | 15/22 [00:03<00:01,  4.63it/s]\u001b[A\n",
      " 73%|███████████████████████████████████████████████████████████▋                      | 16/22 [00:04<00:01,  4.20it/s]\u001b[A\n",
      " 82%|███████████████████████████████████████████████████████████████████               | 18/22 [00:04<00:00,  4.89it/s]\u001b[A\n",
      " 86%|██████████████████████████████████████████████████████████████████████▊           | 19/22 [00:04<00:00,  4.30it/s]\u001b[A\n",
      " 91%|██████████████████████████████████████████████████████████████████████████▌       | 20/22 [00:04<00:00,  4.54it/s]\u001b[A\n",
      " 95%|██████████████████████████████████████████████████████████████████████████████▎   | 21/22 [00:04<00:00,  5.34it/s]\u001b[A\n",
      "100%|██████████████████████████████████████████████████████████████████████████████████| 22/22 [00:05<00:00,  4.24it/s]\u001b[A\n",
      "C:\\Users\\camil\\anaconda3\\lib\\site-packages\\numpy\\lib\\nanfunctions.py:1366: RuntimeWarning: Mean of empty slice\n",
      "  return np.nanmean(a, axis, out=out, keepdims=keepdims)\n"
     ]
    },
    {
     "name": "stdout",
     "output_type": "stream",
     "text": [
      "------------ add hen basics info\n",
      "From the focalBirdinfo, you have 158 ative tags\n",
      "(1298, 116)\n",
      "(1194, 118)\n",
      "-------------- Lets remove unwanted dates at PENS level\n"
     ]
    },
    {
     "data": {
      "text/html": [
       "<text style=color:black>By removing the unwanted days we passed from 1194 to 1100 timestamp (losing </text> <text style=color:red>94</text> <text style=color:black> timestamp)</text>"
      ],
      "text/plain": [
       "<IPython.core.display.HTML object>"
      ]
     },
     "metadata": {},
     "output_type": "display_data"
    },
    {
     "name": "stdout",
     "output_type": "stream",
     "text": [
      "All the night variables are:  Index(['HenID', 'night_level', 'night_Max_duration_zones',\n",
      "       'night_distribution_entropy', 'night_Total_number_transition',\n",
      "       'is_mvt_night', 'level', 'PenID', 'CLASS', 'R-Pen', 'InitialStartDate',\n",
      "       '29-09 weight', '10-12 juin weight', 'weight 23-11-2020',\n",
      "       'weight 04-01-2021', 'weight 01-02-21', 'weight 12-04-21', 'Treatment'],\n",
      "      dtype='object')\n",
      "['night_level']\n",
      "-------------- Lets remove dates of tags when they were not giving deviceupdate regularly\n"
     ]
    },
    {
     "data": {
      "text/html": [
       "<text style=color:black>By removing the unwanted days we passed from 1259 to 1259 timestamp (losing </text> <text style=color:red>0</text> <text style=color:black> timestamp)</text>"
      ],
      "text/plain": [
       "<IPython.core.display.HTML object>"
      ]
     },
     "metadata": {},
     "output_type": "display_data"
    },
    {
     "name": "stdout",
     "output_type": "stream",
     "text": [
      "-------------- Lets remove dates of tags when they were having more or equal than 10 times LFCOUNTER=0 a day\n"
     ]
    },
    {
     "data": {
      "text/html": [
       "<text style=color:black>By removing the unwanted days we passed from 1259 to 1259 timestamp (losing </text> <text style=color:red>0</text> <text style=color:black> timestamp)</text>"
      ],
      "text/plain": [
       "<IPython.core.display.HTML object>"
      ]
     },
     "metadata": {},
     "output_type": "display_data"
    },
    {
     "name": "stdout",
     "output_type": "stream",
     "text": [
      "-------------- Lets remove the 30.09.2020 for the tags taht still had no transition from before the light went on \n"
     ]
    },
    {
     "data": {
      "text/html": [
       "<text style=color:black>By removing the unwanted days we passed from 1259 to 1259 timestamp (losing </text> <text style=color:red>0</text> <text style=color:black> timestamp)</text>"
      ],
      "text/plain": [
       "<IPython.core.display.HTML object>"
      ]
     },
     "metadata": {},
     "output_type": "display_data"
    },
    {
     "name": "stdout",
     "output_type": "stream",
     "text": [
      "save\n"
     ]
    },
    {
     "name": "stderr",
     "output_type": "stream",
     "text": [
      "\r",
      " 38%|███████████████████████████████▏                                                   | 3/8 [23:16<38:50, 466.15s/it]"
     ]
    },
    {
     "name": "stdout",
     "output_type": "stream",
     "text": [
      "Total running time: 7.77 mn\n",
      "(1259, 131)\n"
     ]
    },
    {
     "name": "stderr",
     "output_type": "stream",
     "text": [
      "C:\\Users\\camil\\Desktop\\animals_code\\PhD-AnimalWelfare\\UTILS.py:3946: SettingWithCopyWarning: \n",
      "A value is trying to be set on a copy of a slice from a DataFrame\n",
      "\n",
      "See the caveats in the documentation: https://pandas.pydata.org/pandas-docs/stable/user_guide/indexing.html#returning-a-view-versus-a-copy\n",
      "  df.sort_values([timestamp_name], inplace=True)\n",
      "C:\\Users\\camil\\Desktop\\animals_code\\PhD-AnimalWelfare\\UTILS.py:3948: SettingWithCopyWarning: \n",
      "A value is trying to be set on a copy of a slice from a DataFrame.\n",
      "Try using .loc[row_indexer,col_indexer] = value instead\n",
      "\n",
      "See the caveats in the documentation: https://pandas.pydata.org/pandas-docs/stable/user_guide/indexing.html#returning-a-view-versus-a-copy\n",
      "  df[timestamp_name] = df[timestamp_name].map(lambda x: dt.datetime(x.year,x.month,x.day,x.hour,x.minute, x.second))\n"
     ]
    },
    {
     "name": "stdout",
     "output_type": "stream",
     "text": [
      "----------------- Create time serie\n",
      "in this time series there is 22 hens\n",
      "The initial starting date in over all is: 2020-11-13 01:02:10, and the ending date will be: 2021-01-11 17:05:57\n",
      "But note that birds may have different ending and starting date which should be taken into account when computing variables\n",
      "and after ending the last day at midnight : 2020-11-13 01:02:10, and the ending date will be: 2021-01-11 23:59:59\n",
      "Total running time: 0.96 mn\n",
      "your time series has 1 seconds between two timestamps\n",
      "----------------- main night zone and nbr of transitions over night....\n",
      "----------------- total duration per Zone in seconds....\n",
      "----------------- first timestamp in each zone per day....\n",
      "----------------- number of Zone (excluding nan)....\n",
      "----------------- compute some variables based on a list of zones over a day....\n",
      "----------------NESTBOX\n"
     ]
    },
    {
     "name": "stderr",
     "output_type": "stream",
     "text": [
      "\n",
      "  0%|                                                                                           | 0/22 [00:00<?, ?it/s]\u001b[A\n",
      "  5%|███▊                                                                               | 1/22 [00:00<00:05,  3.99it/s]\u001b[A\n",
      "  9%|███████▌                                                                           | 2/22 [00:00<00:04,  4.08it/s]\u001b[A\n",
      " 14%|███████████▎                                                                       | 3/22 [00:01<00:07,  2.47it/s]\u001b[A\n",
      " 18%|███████████████                                                                    | 4/22 [00:01<00:06,  2.78it/s]\u001b[A\n",
      " 27%|██████████████████████▋                                                            | 6/22 [00:01<00:04,  3.32it/s]\u001b[A\n",
      " 32%|██████████████████████████▍                                                        | 7/22 [00:02<00:04,  3.44it/s]\u001b[A\n",
      " 36%|██████████████████████████████▏                                                    | 8/22 [00:02<00:05,  2.54it/s]\u001b[A\n",
      " 41%|█████████████████████████████████▉                                                 | 9/22 [00:03<00:04,  2.74it/s]\u001b[A\n",
      " 45%|█████████████████████████████████████▎                                            | 10/22 [00:03<00:05,  2.24it/s]\u001b[A\n",
      " 50%|█████████████████████████████████████████                                         | 11/22 [00:03<00:04,  2.67it/s]\u001b[A\n",
      " 55%|████████████████████████████████████████████▋                                     | 12/22 [00:04<00:03,  2.98it/s]\u001b[A\n",
      " 59%|████████████████████████████████████████████████▍                                 | 13/22 [00:04<00:02,  3.21it/s]\u001b[A\n",
      " 68%|███████████████████████████████████████████████████████▉                          | 15/22 [00:04<00:01,  4.00it/s]\u001b[A\n",
      " 73%|███████████████████████████████████████████████████████████▋                      | 16/22 [00:04<00:01,  3.96it/s]\u001b[A\n",
      " 77%|███████████████████████████████████████████████████████████████▎                  | 17/22 [00:05<00:01,  3.88it/s]\u001b[A\n",
      " 82%|███████████████████████████████████████████████████████████████████               | 18/22 [00:05<00:00,  4.23it/s]\u001b[A\n",
      " 86%|██████████████████████████████████████████████████████████████████████▊           | 19/22 [00:05<00:00,  3.73it/s]\u001b[A\n",
      " 95%|██████████████████████████████████████████████████████████████████████████████▎   | 21/22 [00:05<00:00,  4.25it/s]\u001b[A\n",
      "100%|██████████████████████████████████████████████████████████████████████████████████| 22/22 [00:06<00:00,  3.55it/s]\u001b[A\n",
      "C:\\Users\\camil\\anaconda3\\lib\\site-packages\\numpy\\lib\\nanfunctions.py:1366: RuntimeWarning: Mean of empty slice\n",
      "  return np.nanmean(a, axis, out=out, keepdims=keepdims)\n"
     ]
    },
    {
     "name": "stdout",
     "output_type": "stream",
     "text": [
      "------------ add hen basics info\n",
      "From the focalBirdinfo, you have 158 ative tags\n",
      "(1298, 116)\n",
      "(1198, 118)\n",
      "-------------- Lets remove unwanted dates at PENS level\n"
     ]
    },
    {
     "data": {
      "text/html": [
       "<text style=color:black>By removing the unwanted days we passed from 1198 to 1140 timestamp (losing </text> <text style=color:red>58</text> <text style=color:black> timestamp)</text>"
      ],
      "text/plain": [
       "<IPython.core.display.HTML object>"
      ]
     },
     "metadata": {},
     "output_type": "display_data"
    },
    {
     "name": "stdout",
     "output_type": "stream",
     "text": [
      "All the night variables are:  Index(['HenID', 'night_level', 'night_Max_duration_zones',\n",
      "       'night_distribution_entropy', 'night_Total_number_transition',\n",
      "       'is_mvt_night', 'level', 'PenID', 'CLASS', 'R-Pen', 'InitialStartDate',\n",
      "       '29-09 weight', '10-12 juin weight', 'weight 23-11-2020',\n",
      "       'weight 04-01-2021', 'weight 01-02-21', 'weight 12-04-21', 'Treatment'],\n",
      "      dtype='object')\n",
      "['night_level']\n",
      "-------------- Lets remove dates of tags when they were not giving deviceupdate regularly\n"
     ]
    },
    {
     "data": {
      "text/html": [
       "<text style=color:black>By removing the unwanted days we passed from 1257 to 1257 timestamp (losing </text> <text style=color:red>0</text> <text style=color:black> timestamp)</text>"
      ],
      "text/plain": [
       "<IPython.core.display.HTML object>"
      ]
     },
     "metadata": {},
     "output_type": "display_data"
    },
    {
     "name": "stdout",
     "output_type": "stream",
     "text": [
      "-------------- Lets remove dates of tags when they were having more or equal than 10 times LFCOUNTER=0 a day\n"
     ]
    },
    {
     "data": {
      "text/html": [
       "<text style=color:black>By removing the unwanted days we passed from 1257 to 1257 timestamp (losing </text> <text style=color:red>0</text> <text style=color:black> timestamp)</text>"
      ],
      "text/plain": [
       "<IPython.core.display.HTML object>"
      ]
     },
     "metadata": {},
     "output_type": "display_data"
    },
    {
     "name": "stdout",
     "output_type": "stream",
     "text": [
      "-------------- Lets remove the 30.09.2020 for the tags taht still had no transition from before the light went on \n"
     ]
    },
    {
     "data": {
      "text/html": [
       "<text style=color:black>By removing the unwanted days we passed from 1257 to 1257 timestamp (losing </text> <text style=color:red>0</text> <text style=color:black> timestamp)</text>"
      ],
      "text/plain": [
       "<IPython.core.display.HTML object>"
      ]
     },
     "metadata": {},
     "output_type": "display_data"
    },
    {
     "name": "stdout",
     "output_type": "stream",
     "text": [
      "save\n"
     ]
    },
    {
     "name": "stderr",
     "output_type": "stream",
     "text": [
      "\r",
      " 50%|█████████████████████████████████████████▌                                         | 4/8 [31:09<31:12, 468.12s/it]"
     ]
    },
    {
     "name": "stdout",
     "output_type": "stream",
     "text": [
      "Total running time: 7.86 mn\n",
      "(1257, 131)\n"
     ]
    },
    {
     "name": "stderr",
     "output_type": "stream",
     "text": [
      "C:\\Users\\camil\\Desktop\\animals_code\\PhD-AnimalWelfare\\UTILS.py:3946: SettingWithCopyWarning: \n",
      "A value is trying to be set on a copy of a slice from a DataFrame\n",
      "\n",
      "See the caveats in the documentation: https://pandas.pydata.org/pandas-docs/stable/user_guide/indexing.html#returning-a-view-versus-a-copy\n",
      "  df.sort_values([timestamp_name], inplace=True)\n",
      "C:\\Users\\camil\\Desktop\\animals_code\\PhD-AnimalWelfare\\UTILS.py:3948: SettingWithCopyWarning: \n",
      "A value is trying to be set on a copy of a slice from a DataFrame.\n",
      "Try using .loc[row_indexer,col_indexer] = value instead\n",
      "\n",
      "See the caveats in the documentation: https://pandas.pydata.org/pandas-docs/stable/user_guide/indexing.html#returning-a-view-versus-a-copy\n",
      "  df[timestamp_name] = df[timestamp_name].map(lambda x: dt.datetime(x.year,x.month,x.day,x.hour,x.minute, x.second))\n"
     ]
    },
    {
     "name": "stdout",
     "output_type": "stream",
     "text": [
      "----------------- Create time serie\n",
      "in this time series there is 22 hens\n",
      "The initial starting date in over all is: 2020-11-13 01:30:49, and the ending date will be: 2021-01-11 23:58:54\n",
      "But note that birds may have different ending and starting date which should be taken into account when computing variables\n",
      "and after ending the last day at midnight : 2020-11-13 01:30:49, and the ending date will be: 2021-01-11 23:59:59\n",
      "Total running time: 0.96 mn\n",
      "your time series has 1 seconds between two timestamps\n",
      "----------------- main night zone and nbr of transitions over night....\n",
      "----------------- total duration per Zone in seconds....\n",
      "----------------- first timestamp in each zone per day....\n",
      "----------------- number of Zone (excluding nan)....\n",
      "----------------- compute some variables based on a list of zones over a day....\n",
      "----------------NESTBOX\n"
     ]
    },
    {
     "name": "stderr",
     "output_type": "stream",
     "text": [
      "\n",
      "  0%|                                                                                           | 0/22 [00:00<?, ?it/s]\u001b[A\n",
      "  9%|███████▌                                                                           | 2/22 [00:00<00:06,  3.19it/s]\u001b[A\n",
      " 14%|███████████▎                                                                       | 3/22 [00:00<00:06,  3.10it/s]\u001b[A\n",
      " 18%|███████████████                                                                    | 4/22 [00:01<00:04,  3.84it/s]\u001b[A\n",
      " 23%|██████████████████▊                                                                | 5/22 [00:01<00:05,  3.17it/s]\u001b[A\n",
      " 27%|██████████████████████▋                                                            | 6/22 [00:01<00:04,  3.91it/s]\u001b[A\n",
      " 32%|██████████████████████████▍                                                        | 7/22 [00:02<00:04,  3.29it/s]\u001b[A\n",
      " 36%|██████████████████████████████▏                                                    | 8/22 [00:02<00:06,  2.11it/s]\u001b[A\n",
      " 41%|█████████████████████████████████▉                                                 | 9/22 [00:03<00:05,  2.42it/s]\u001b[A\n",
      " 45%|█████████████████████████████████████▎                                            | 10/22 [00:03<00:04,  2.75it/s]\u001b[A\n",
      " 50%|█████████████████████████████████████████                                         | 11/22 [00:03<00:03,  3.38it/s]\u001b[A\n",
      " 59%|████████████████████████████████████████████████▍                                 | 13/22 [00:04<00:02,  3.46it/s]\u001b[A\n",
      " 68%|███████████████████████████████████████████████████████▉                          | 15/22 [00:04<00:02,  3.47it/s]\u001b[A\n",
      " 73%|███████████████████████████████████████████████████████████▋                      | 16/22 [00:04<00:01,  3.71it/s]\u001b[A\n",
      " 82%|███████████████████████████████████████████████████████████████████               | 18/22 [00:05<00:01,  3.85it/s]\u001b[A\n",
      " 86%|██████████████████████████████████████████████████████████████████████▊           | 19/22 [00:05<00:00,  4.53it/s]\u001b[A\n",
      " 91%|██████████████████████████████████████████████████████████████████████████▌       | 20/22 [00:05<00:00,  4.04it/s]\u001b[A\n",
      "100%|██████████████████████████████████████████████████████████████████████████████████| 22/22 [00:06<00:00,  3.63it/s]\u001b[A\n",
      "C:\\Users\\camil\\anaconda3\\lib\\site-packages\\numpy\\lib\\nanfunctions.py:1366: RuntimeWarning: Mean of empty slice\n",
      "  return np.nanmean(a, axis, out=out, keepdims=keepdims)\n"
     ]
    },
    {
     "name": "stdout",
     "output_type": "stream",
     "text": [
      "------------ add hen basics info\n",
      "From the focalBirdinfo, you have 158 ative tags\n",
      "(1287, 116)\n",
      "(1185, 118)\n",
      "-------------- Lets remove unwanted dates at PENS level\n"
     ]
    },
    {
     "data": {
      "text/html": [
       "<text style=color:black>By removing the unwanted days we passed from 1185 to 1090 timestamp (losing </text> <text style=color:red>95</text> <text style=color:black> timestamp)</text>"
      ],
      "text/plain": [
       "<IPython.core.display.HTML object>"
      ]
     },
     "metadata": {},
     "output_type": "display_data"
    },
    {
     "name": "stdout",
     "output_type": "stream",
     "text": [
      "All the night variables are:  Index(['HenID', 'night_level', 'night_Max_duration_zones',\n",
      "       'night_distribution_entropy', 'night_Total_number_transition',\n",
      "       'is_mvt_night', 'level', 'PenID', 'CLASS', 'R-Pen', 'InitialStartDate',\n",
      "       '29-09 weight', '10-12 juin weight', 'weight 23-11-2020',\n",
      "       'weight 04-01-2021', 'weight 01-02-21', 'weight 12-04-21', 'Treatment'],\n",
      "      dtype='object')\n",
      "['night_level']\n",
      "-------------- Lets remove dates of tags when they were not giving deviceupdate regularly\n"
     ]
    },
    {
     "data": {
      "text/html": [
       "<text style=color:black>By removing the unwanted days we passed from 1245 to 1245 timestamp (losing </text> <text style=color:red>0</text> <text style=color:black> timestamp)</text>"
      ],
      "text/plain": [
       "<IPython.core.display.HTML object>"
      ]
     },
     "metadata": {},
     "output_type": "display_data"
    },
    {
     "name": "stdout",
     "output_type": "stream",
     "text": [
      "-------------- Lets remove dates of tags when they were having more or equal than 10 times LFCOUNTER=0 a day\n"
     ]
    },
    {
     "data": {
      "text/html": [
       "<text style=color:black>By removing the unwanted days we passed from 1245 to 1245 timestamp (losing </text> <text style=color:red>0</text> <text style=color:black> timestamp)</text>"
      ],
      "text/plain": [
       "<IPython.core.display.HTML object>"
      ]
     },
     "metadata": {},
     "output_type": "display_data"
    },
    {
     "name": "stdout",
     "output_type": "stream",
     "text": [
      "-------------- Lets remove the 30.09.2020 for the tags taht still had no transition from before the light went on \n"
     ]
    },
    {
     "data": {
      "text/html": [
       "<text style=color:black>By removing the unwanted days we passed from 1245 to 1245 timestamp (losing </text> <text style=color:red>0</text> <text style=color:black> timestamp)</text>"
      ],
      "text/plain": [
       "<IPython.core.display.HTML object>"
      ]
     },
     "metadata": {},
     "output_type": "display_data"
    },
    {
     "name": "stdout",
     "output_type": "stream",
     "text": [
      "save\n"
     ]
    },
    {
     "name": "stderr",
     "output_type": "stream",
     "text": [
      "\r",
      " 62%|███████████████████████████████████████████████████▉                               | 5/8 [38:57<23:24, 468.11s/it]"
     ]
    },
    {
     "name": "stdout",
     "output_type": "stream",
     "text": [
      "Total running time: 7.79 mn\n",
      "(1245, 131)\n"
     ]
    },
    {
     "name": "stderr",
     "output_type": "stream",
     "text": [
      "C:\\Users\\camil\\Desktop\\animals_code\\PhD-AnimalWelfare\\UTILS.py:3946: SettingWithCopyWarning: \n",
      "A value is trying to be set on a copy of a slice from a DataFrame\n",
      "\n",
      "See the caveats in the documentation: https://pandas.pydata.org/pandas-docs/stable/user_guide/indexing.html#returning-a-view-versus-a-copy\n",
      "  df.sort_values([timestamp_name], inplace=True)\n",
      "C:\\Users\\camil\\Desktop\\animals_code\\PhD-AnimalWelfare\\UTILS.py:3948: SettingWithCopyWarning: \n",
      "A value is trying to be set on a copy of a slice from a DataFrame.\n",
      "Try using .loc[row_indexer,col_indexer] = value instead\n",
      "\n",
      "See the caveats in the documentation: https://pandas.pydata.org/pandas-docs/stable/user_guide/indexing.html#returning-a-view-versus-a-copy\n",
      "  df[timestamp_name] = df[timestamp_name].map(lambda x: dt.datetime(x.year,x.month,x.day,x.hour,x.minute, x.second))\n"
     ]
    },
    {
     "name": "stdout",
     "output_type": "stream",
     "text": [
      "----------------- Create time serie\n",
      "in this time series there is 23 hens\n",
      "The initial starting date in over all is: 2020-11-13 02:04:19, and the ending date will be: 2021-01-11 17:03:01\n",
      "But note that birds may have different ending and starting date which should be taken into account when computing variables\n",
      "and after ending the last day at midnight : 2020-11-13 02:04:19, and the ending date will be: 2021-01-11 23:59:59\n",
      "Total running time: 0.95 mn\n",
      "your time series has 1 seconds between two timestamps\n",
      "----------------- main night zone and nbr of transitions over night....\n",
      "----------------- total duration per Zone in seconds....\n",
      "----------------- first timestamp in each zone per day....\n",
      "----------------- number of Zone (excluding nan)....\n",
      "----------------- compute some variables based on a list of zones over a day....\n",
      "----------------NESTBOX\n"
     ]
    },
    {
     "name": "stderr",
     "output_type": "stream",
     "text": [
      "\n",
      "  0%|                                                                                           | 0/23 [00:00<?, ?it/s]\u001b[A\n",
      "  4%|███▌                                                                               | 1/23 [00:00<00:11,  1.84it/s]\u001b[A\n",
      "  9%|███████▏                                                                           | 2/23 [00:00<00:09,  2.21it/s]\u001b[A\n",
      " 13%|██████████▊                                                                        | 3/23 [00:01<00:08,  2.49it/s]\u001b[A\n",
      " 17%|██████████████▍                                                                    | 4/23 [00:01<00:07,  2.62it/s]\u001b[A\n",
      " 22%|██████████████████                                                                 | 5/23 [00:01<00:06,  2.82it/s]\u001b[A\n",
      " 26%|█████████████████████▋                                                             | 6/23 [00:01<00:05,  3.08it/s]\u001b[A\n",
      " 30%|█████████████████████████▎                                                         | 7/23 [00:02<00:04,  3.23it/s]\u001b[A\n",
      " 35%|████████████████████████████▊                                                      | 8/23 [00:02<00:04,  3.26it/s]\u001b[A\n",
      " 39%|████████████████████████████████▍                                                  | 9/23 [00:03<00:05,  2.60it/s]\u001b[A\n",
      " 43%|███████████████████████████████████▋                                              | 10/23 [00:03<00:04,  2.82it/s]\u001b[A\n",
      " 48%|███████████████████████████████████████▏                                          | 11/23 [00:03<00:03,  3.17it/s]\u001b[A\n",
      " 52%|██████████████████████████████████████████▊                                       | 12/23 [00:03<00:02,  3.77it/s]\u001b[A\n",
      " 61%|█████████████████████████████████████████████████▉                                | 14/23 [00:04<00:02,  4.03it/s]\u001b[A\n",
      " 65%|█████████████████████████████████████████████████████▍                            | 15/23 [00:04<00:01,  4.13it/s]\u001b[A\n",
      " 70%|█████████████████████████████████████████████████████████                         | 16/23 [00:04<00:01,  4.78it/s]\u001b[A\n",
      " 78%|████████████████████████████████████████████████████████████████▏                 | 18/23 [00:04<00:00,  6.18it/s]\u001b[A\n",
      " 87%|███████████████████████████████████████████████████████████████████████▎          | 20/23 [00:05<00:00,  5.61it/s]\u001b[A\n",
      " 91%|██████████████████████████████████████████████████████████████████████████▊       | 21/23 [00:05<00:00,  4.70it/s]\u001b[A\n",
      " 96%|██████████████████████████████████████████████████████████████████████████████▍   | 22/23 [00:05<00:00,  4.21it/s]\u001b[A\n",
      "100%|██████████████████████████████████████████████████████████████████████████████████| 23/23 [00:05<00:00,  3.97it/s]\u001b[A\n",
      "C:\\Users\\camil\\anaconda3\\lib\\site-packages\\numpy\\lib\\nanfunctions.py:1366: RuntimeWarning: Mean of empty slice\n",
      "  return np.nanmean(a, axis, out=out, keepdims=keepdims)\n"
     ]
    },
    {
     "name": "stdout",
     "output_type": "stream",
     "text": [
      "------------ add hen basics info\n",
      "From the focalBirdinfo, you have 158 ative tags\n",
      "(1347, 116)\n",
      "(1193, 118)\n",
      "-------------- Lets remove unwanted dates at PENS level\n"
     ]
    },
    {
     "data": {
      "text/html": [
       "<text style=color:black>By removing the unwanted days we passed from 1193 to 1137 timestamp (losing </text> <text style=color:red>56</text> <text style=color:black> timestamp)</text>"
      ],
      "text/plain": [
       "<IPython.core.display.HTML object>"
      ]
     },
     "metadata": {},
     "output_type": "display_data"
    },
    {
     "name": "stdout",
     "output_type": "stream",
     "text": [
      "All the night variables are:  Index(['HenID', 'night_level', 'night_Max_duration_zones',\n",
      "       'night_distribution_entropy', 'night_Total_number_transition',\n",
      "       'is_mvt_night', 'level', 'PenID', 'CLASS', 'R-Pen', 'InitialStartDate',\n",
      "       '29-09 weight', '10-12 juin weight', 'weight 23-11-2020',\n",
      "       'weight 04-01-2021', 'weight 01-02-21', 'weight 12-04-21', 'Treatment'],\n",
      "      dtype='object')\n",
      "['night_level']\n",
      "-------------- Lets remove dates of tags when they were not giving deviceupdate regularly\n"
     ]
    },
    {
     "data": {
      "text/html": [
       "<text style=color:black>By removing the unwanted days we passed from 1304 to 1302 timestamp (losing </text> <text style=color:red>2</text> <text style=color:black> timestamp)</text>"
      ],
      "text/plain": [
       "<IPython.core.display.HTML object>"
      ]
     },
     "metadata": {},
     "output_type": "display_data"
    },
    {
     "name": "stdout",
     "output_type": "stream",
     "text": [
      "-------------- Lets remove dates of tags when they were having more or equal than 10 times LFCOUNTER=0 a day\n"
     ]
    },
    {
     "data": {
      "text/html": [
       "<text style=color:black>By removing the unwanted days we passed from 1302 to 1302 timestamp (losing </text> <text style=color:red>0</text> <text style=color:black> timestamp)</text>"
      ],
      "text/plain": [
       "<IPython.core.display.HTML object>"
      ]
     },
     "metadata": {},
     "output_type": "display_data"
    },
    {
     "name": "stdout",
     "output_type": "stream",
     "text": [
      "-------------- Lets remove the 30.09.2020 for the tags taht still had no transition from before the light went on \n"
     ]
    },
    {
     "data": {
      "text/html": [
       "<text style=color:black>By removing the unwanted days we passed from 1302 to 1302 timestamp (losing </text> <text style=color:red>0</text> <text style=color:black> timestamp)</text>"
      ],
      "text/plain": [
       "<IPython.core.display.HTML object>"
      ]
     },
     "metadata": {},
     "output_type": "display_data"
    },
    {
     "name": "stdout",
     "output_type": "stream",
     "text": [
      "save\n"
     ]
    },
    {
     "name": "stderr",
     "output_type": "stream",
     "text": [
      "\r",
      " 75%|██████████████████████████████████████████████████████████████▎                    | 6/8 [47:00<15:44, 472.42s/it]"
     ]
    },
    {
     "name": "stdout",
     "output_type": "stream",
     "text": [
      "Total running time: 8.03 mn\n",
      "(1302, 131)\n"
     ]
    },
    {
     "name": "stderr",
     "output_type": "stream",
     "text": [
      "C:\\Users\\camil\\Desktop\\animals_code\\PhD-AnimalWelfare\\UTILS.py:3946: SettingWithCopyWarning: \n",
      "A value is trying to be set on a copy of a slice from a DataFrame\n",
      "\n",
      "See the caveats in the documentation: https://pandas.pydata.org/pandas-docs/stable/user_guide/indexing.html#returning-a-view-versus-a-copy\n",
      "  df.sort_values([timestamp_name], inplace=True)\n",
      "C:\\Users\\camil\\Desktop\\animals_code\\PhD-AnimalWelfare\\UTILS.py:3948: SettingWithCopyWarning: \n",
      "A value is trying to be set on a copy of a slice from a DataFrame.\n",
      "Try using .loc[row_indexer,col_indexer] = value instead\n",
      "\n",
      "See the caveats in the documentation: https://pandas.pydata.org/pandas-docs/stable/user_guide/indexing.html#returning-a-view-versus-a-copy\n",
      "  df[timestamp_name] = df[timestamp_name].map(lambda x: dt.datetime(x.year,x.month,x.day,x.hour,x.minute, x.second))\n"
     ]
    },
    {
     "name": "stdout",
     "output_type": "stream",
     "text": [
      "----------------- Create time serie\n",
      "in this time series there is 22 hens\n",
      "The initial starting date in over all is: 2020-11-13 02:04:24, and the ending date will be: 2021-01-11 18:34:55\n",
      "But note that birds may have different ending and starting date which should be taken into account when computing variables\n",
      "and after ending the last day at midnight : 2020-11-13 02:04:24, and the ending date will be: 2021-01-11 23:59:59\n",
      "Total running time: 1.40 mn\n",
      "your time series has 1 seconds between two timestamps\n",
      "----------------- main night zone and nbr of transitions over night....\n",
      "----------------- total duration per Zone in seconds....\n",
      "----------------- first timestamp in each zone per day....\n",
      "----------------- number of Zone (excluding nan)....\n",
      "----------------- compute some variables based on a list of zones over a day....\n",
      "----------------NESTBOX\n"
     ]
    },
    {
     "name": "stderr",
     "output_type": "stream",
     "text": [
      "\n",
      "  0%|                                                                                           | 0/22 [00:00<?, ?it/s]\u001b[A\n",
      "  5%|███▊                                                                               | 1/22 [00:00<00:12,  1.71it/s]\u001b[A\n",
      "  9%|███████▌                                                                           | 2/22 [00:00<00:09,  2.02it/s]\u001b[A\n",
      " 14%|███████████▎                                                                       | 3/22 [00:02<00:13,  1.37it/s]\u001b[A\n",
      " 18%|███████████████                                                                    | 4/22 [00:02<00:10,  1.80it/s]\u001b[A\n",
      " 23%|██████████████████▊                                                                | 5/22 [00:02<00:09,  1.72it/s]\u001b[A\n",
      " 27%|██████████████████████▋                                                            | 6/22 [00:03<00:07,  2.00it/s]\u001b[A\n",
      " 32%|██████████████████████████▍                                                        | 7/22 [00:03<00:07,  2.12it/s]\u001b[A\n",
      " 36%|██████████████████████████████▏                                                    | 8/22 [00:03<00:05,  2.57it/s]\u001b[A\n",
      " 41%|█████████████████████████████████▉                                                 | 9/22 [00:03<00:04,  3.19it/s]\u001b[A\n",
      " 45%|█████████████████████████████████████▎                                            | 10/22 [00:04<00:04,  2.59it/s]\u001b[A\n",
      " 50%|█████████████████████████████████████████                                         | 11/22 [00:04<00:04,  2.51it/s]\u001b[A\n",
      " 55%|████████████████████████████████████████████▋                                     | 12/22 [00:05<00:03,  3.15it/s]\u001b[A\n",
      " 64%|████████████████████████████████████████████████████▏                             | 14/22 [00:05<00:02,  3.51it/s]\u001b[A\n",
      " 68%|███████████████████████████████████████████████████████▉                          | 15/22 [00:06<00:02,  2.46it/s]\u001b[A\n",
      " 73%|███████████████████████████████████████████████████████████▋                      | 16/22 [00:06<00:02,  2.96it/s]\u001b[A\n",
      " 77%|███████████████████████████████████████████████████████████████▎                  | 17/22 [00:06<00:01,  3.01it/s]\u001b[A\n",
      " 82%|███████████████████████████████████████████████████████████████████               | 18/22 [00:07<00:01,  2.58it/s]\u001b[A\n",
      " 86%|██████████████████████████████████████████████████████████████████████▊           | 19/22 [00:08<00:01,  1.91it/s]\u001b[A\n",
      " 91%|██████████████████████████████████████████████████████████████████████████▌       | 20/22 [00:08<00:00,  2.05it/s]\u001b[A\n",
      "100%|██████████████████████████████████████████████████████████████████████████████████| 22/22 [00:08<00:00,  2.51it/s]\u001b[A\n",
      "C:\\Users\\camil\\anaconda3\\lib\\site-packages\\numpy\\lib\\nanfunctions.py:1366: RuntimeWarning: Mean of empty slice\n",
      "  return np.nanmean(a, axis, out=out, keepdims=keepdims)\n"
     ]
    },
    {
     "name": "stdout",
     "output_type": "stream",
     "text": [
      "------------ add hen basics info\n",
      "From the focalBirdinfo, you have 158 ative tags\n",
      "(1298, 116)\n",
      "(1197, 118)\n",
      "-------------- Lets remove unwanted dates at PENS level\n"
     ]
    },
    {
     "data": {
      "text/html": [
       "<text style=color:black>By removing the unwanted days we passed from 1197 to 1140 timestamp (losing </text> <text style=color:red>57</text> <text style=color:black> timestamp)</text>"
      ],
      "text/plain": [
       "<IPython.core.display.HTML object>"
      ]
     },
     "metadata": {},
     "output_type": "display_data"
    },
    {
     "name": "stdout",
     "output_type": "stream",
     "text": [
      "All the night variables are:  Index(['HenID', 'night_level', 'night_Max_duration_zones',\n",
      "       'night_distribution_entropy', 'night_Total_number_transition',\n",
      "       'is_mvt_night', 'level', 'PenID', 'CLASS', 'R-Pen', 'InitialStartDate',\n",
      "       '29-09 weight', '10-12 juin weight', 'weight 23-11-2020',\n",
      "       'weight 04-01-2021', 'weight 01-02-21', 'weight 12-04-21', 'Treatment'],\n",
      "      dtype='object')\n",
      "['night_level']\n",
      "-------------- Lets remove dates of tags when they were not giving deviceupdate regularly\n"
     ]
    },
    {
     "data": {
      "text/html": [
       "<text style=color:black>By removing the unwanted days we passed from 1256 to 1256 timestamp (losing </text> <text style=color:red>0</text> <text style=color:black> timestamp)</text>"
      ],
      "text/plain": [
       "<IPython.core.display.HTML object>"
      ]
     },
     "metadata": {},
     "output_type": "display_data"
    },
    {
     "name": "stdout",
     "output_type": "stream",
     "text": [
      "-------------- Lets remove dates of tags when they were having more or equal than 10 times LFCOUNTER=0 a day\n"
     ]
    },
    {
     "data": {
      "text/html": [
       "<text style=color:black>By removing the unwanted days we passed from 1256 to 1256 timestamp (losing </text> <text style=color:red>0</text> <text style=color:black> timestamp)</text>"
      ],
      "text/plain": [
       "<IPython.core.display.HTML object>"
      ]
     },
     "metadata": {},
     "output_type": "display_data"
    },
    {
     "name": "stdout",
     "output_type": "stream",
     "text": [
      "-------------- Lets remove the 30.09.2020 for the tags taht still had no transition from before the light went on \n"
     ]
    },
    {
     "data": {
      "text/html": [
       "<text style=color:black>By removing the unwanted days we passed from 1256 to 1256 timestamp (losing </text> <text style=color:red>0</text> <text style=color:black> timestamp)</text>"
      ],
      "text/plain": [
       "<IPython.core.display.HTML object>"
      ]
     },
     "metadata": {},
     "output_type": "display_data"
    },
    {
     "name": "stdout",
     "output_type": "stream",
     "text": [
      "save\n",
      "Total running time: 11.70 mn\n"
     ]
    },
    {
     "name": "stderr",
     "output_type": "stream",
     "text": [
      "\r",
      " 88%|████████████████████████████████████████████████████████████████████████▋          | 7/8 [58:43<09:01, 541.77s/it]"
     ]
    },
    {
     "name": "stdout",
     "output_type": "stream",
     "text": [
      "(1256, 131)\n"
     ]
    },
    {
     "name": "stderr",
     "output_type": "stream",
     "text": [
      "C:\\Users\\camil\\Desktop\\animals_code\\PhD-AnimalWelfare\\UTILS.py:3946: SettingWithCopyWarning: \n",
      "A value is trying to be set on a copy of a slice from a DataFrame\n",
      "\n",
      "See the caveats in the documentation: https://pandas.pydata.org/pandas-docs/stable/user_guide/indexing.html#returning-a-view-versus-a-copy\n",
      "  df.sort_values([timestamp_name], inplace=True)\n",
      "C:\\Users\\camil\\Desktop\\animals_code\\PhD-AnimalWelfare\\UTILS.py:3948: SettingWithCopyWarning: \n",
      "A value is trying to be set on a copy of a slice from a DataFrame.\n",
      "Try using .loc[row_indexer,col_indexer] = value instead\n",
      "\n",
      "See the caveats in the documentation: https://pandas.pydata.org/pandas-docs/stable/user_guide/indexing.html#returning-a-view-versus-a-copy\n",
      "  df[timestamp_name] = df[timestamp_name].map(lambda x: dt.datetime(x.year,x.month,x.day,x.hour,x.minute, x.second))\n"
     ]
    },
    {
     "name": "stdout",
     "output_type": "stream",
     "text": [
      "----------------- Create time serie\n",
      "in this time series there is 22 hens\n",
      "The initial starting date in over all is: 2020-11-13 02:04:45, and the ending date will be: 2021-01-11 23:44:55\n",
      "But note that birds may have different ending and starting date which should be taken into account when computing variables\n",
      "and after ending the last day at midnight : 2020-11-13 02:04:45, and the ending date will be: 2021-01-11 23:59:59\n",
      "Total running time: 1.41 mn\n",
      "your time series has 1 seconds between two timestamps\n",
      "----------------- main night zone and nbr of transitions over night....\n",
      "----------------- total duration per Zone in seconds....\n",
      "----------------- first timestamp in each zone per day....\n",
      "----------------- number of Zone (excluding nan)....\n",
      "----------------- compute some variables based on a list of zones over a day....\n",
      "----------------NESTBOX\n"
     ]
    },
    {
     "name": "stderr",
     "output_type": "stream",
     "text": [
      "\n",
      "  0%|                                                                                           | 0/22 [00:00<?, ?it/s]\u001b[A\n",
      "  5%|███▊                                                                               | 1/22 [00:00<00:02,  7.16it/s]\u001b[A\n",
      " 18%|███████████████                                                                    | 4/22 [00:00<00:02,  6.64it/s]\u001b[A\n",
      " 23%|██████████████████▊                                                                | 5/22 [00:01<00:03,  4.37it/s]\u001b[A\n",
      " 32%|██████████████████████████▍                                                        | 7/22 [00:01<00:03,  4.39it/s]\u001b[A\n",
      " 36%|██████████████████████████████▏                                                    | 8/22 [00:01<00:03,  4.40it/s]\u001b[A\n",
      " 41%|█████████████████████████████████▉                                                 | 9/22 [00:01<00:02,  4.91it/s]\u001b[A\n",
      " 45%|█████████████████████████████████████▎                                            | 10/22 [00:02<00:02,  4.90it/s]\u001b[A\n",
      " 50%|█████████████████████████████████████████                                         | 11/22 [00:02<00:01,  5.51it/s]\u001b[A\n",
      " 55%|████████████████████████████████████████████▋                                     | 12/22 [00:02<00:02,  3.76it/s]\u001b[A\n",
      " 59%|████████████████████████████████████████████████▍                                 | 13/22 [00:03<00:02,  3.51it/s]\u001b[A\n",
      " 64%|████████████████████████████████████████████████████▏                             | 14/22 [00:03<00:02,  2.91it/s]\u001b[A\n",
      " 68%|███████████████████████████████████████████████████████▉                          | 15/22 [00:03<00:02,  3.02it/s]\u001b[A\n",
      " 73%|███████████████████████████████████████████████████████████▋                      | 16/22 [00:03<00:01,  3.58it/s]\u001b[A\n",
      " 82%|███████████████████████████████████████████████████████████████████               | 18/22 [00:04<00:01,  3.82it/s]\u001b[A\n",
      " 86%|██████████████████████████████████████████████████████████████████████▊           | 19/22 [00:04<00:00,  3.97it/s]\u001b[A\n",
      " 91%|██████████████████████████████████████████████████████████████████████████▌       | 20/22 [00:04<00:00,  3.72it/s]\u001b[A\n",
      "100%|██████████████████████████████████████████████████████████████████████████████████| 22/22 [00:05<00:00,  4.18it/s]\u001b[A\n",
      "C:\\Users\\camil\\anaconda3\\lib\\site-packages\\numpy\\lib\\nanfunctions.py:1366: RuntimeWarning: Mean of empty slice\n",
      "  return np.nanmean(a, axis, out=out, keepdims=keepdims)\n"
     ]
    },
    {
     "name": "stdout",
     "output_type": "stream",
     "text": [
      "------------ add hen basics info\n",
      "From the focalBirdinfo, you have 158 ative tags\n",
      "(1298, 116)\n",
      "(1197, 118)\n",
      "-------------- Lets remove unwanted dates at PENS level\n"
     ]
    },
    {
     "data": {
      "text/html": [
       "<text style=color:black>By removing the unwanted days we passed from 1197 to 1100 timestamp (losing </text> <text style=color:red>97</text> <text style=color:black> timestamp)</text>"
      ],
      "text/plain": [
       "<IPython.core.display.HTML object>"
      ]
     },
     "metadata": {},
     "output_type": "display_data"
    },
    {
     "name": "stdout",
     "output_type": "stream",
     "text": [
      "All the night variables are:  Index(['HenID', 'night_level', 'night_Max_duration_zones',\n",
      "       'night_distribution_entropy', 'night_Total_number_transition',\n",
      "       'is_mvt_night', 'level', 'PenID', 'CLASS', 'R-Pen', 'InitialStartDate',\n",
      "       '29-09 weight', '10-12 juin weight', 'weight 23-11-2020',\n",
      "       'weight 04-01-2021', 'weight 01-02-21', 'weight 12-04-21', 'Treatment'],\n",
      "      dtype='object')\n",
      "['night_level']\n",
      "-------------- Lets remove dates of tags when they were not giving deviceupdate regularly\n"
     ]
    },
    {
     "data": {
      "text/html": [
       "<text style=color:black>By removing the unwanted days we passed from 1254 to 1254 timestamp (losing </text> <text style=color:red>0</text> <text style=color:black> timestamp)</text>"
      ],
      "text/plain": [
       "<IPython.core.display.HTML object>"
      ]
     },
     "metadata": {},
     "output_type": "display_data"
    },
    {
     "name": "stdout",
     "output_type": "stream",
     "text": [
      "-------------- Lets remove dates of tags when they were having more or equal than 10 times LFCOUNTER=0 a day\n"
     ]
    },
    {
     "data": {
      "text/html": [
       "<text style=color:black>By removing the unwanted days we passed from 1254 to 1254 timestamp (losing </text> <text style=color:red>0</text> <text style=color:black> timestamp)</text>"
      ],
      "text/plain": [
       "<IPython.core.display.HTML object>"
      ]
     },
     "metadata": {},
     "output_type": "display_data"
    },
    {
     "name": "stdout",
     "output_type": "stream",
     "text": [
      "-------------- Lets remove the 30.09.2020 for the tags taht still had no transition from before the light went on \n"
     ]
    },
    {
     "data": {
      "text/html": [
       "<text style=color:black>By removing the unwanted days we passed from 1254 to 1254 timestamp (losing </text> <text style=color:red>0</text> <text style=color:black> timestamp)</text>"
      ],
      "text/plain": [
       "<IPython.core.display.HTML object>"
      ]
     },
     "metadata": {},
     "output_type": "display_data"
    },
    {
     "name": "stdout",
     "output_type": "stream",
     "text": [
      "save\n",
      "Total running time: 11.27 mn\n"
     ]
    },
    {
     "name": "stderr",
     "output_type": "stream",
     "text": [
      "100%|█████████████████████████████████████████████████████████████████████████████████| 8/8 [1:10:01<00:00, 525.15s/it]\n",
      "  0%|                                                                                            | 0/8 [00:00<?, ?it/s]"
     ]
    },
    {
     "name": "stdout",
     "output_type": "stream",
     "text": [
      "(1254, 131)\n",
      "Total running time: 70.05 mn\n"
     ]
    },
    {
     "name": "stderr",
     "output_type": "stream",
     "text": [
      "\r",
      " 12%|██████████▌                                                                         | 1/8 [00:04<00:31,  4.51s/it]"
     ]
    },
    {
     "name": "stdout",
     "output_type": "stream",
     "text": [
      "(1256, 131)\n"
     ]
    },
    {
     "name": "stderr",
     "output_type": "stream",
     "text": [
      "\r",
      " 25%|█████████████████████                                                               | 2/8 [00:09<00:27,  4.62s/it]"
     ]
    },
    {
     "name": "stdout",
     "output_type": "stream",
     "text": [
      "(1257, 131)\n"
     ]
    },
    {
     "name": "stderr",
     "output_type": "stream",
     "text": [
      "\r",
      " 38%|███████████████████████████████▌                                                    | 3/8 [00:14<00:23,  4.65s/it]"
     ]
    },
    {
     "name": "stdout",
     "output_type": "stream",
     "text": [
      "(1302, 131)\n"
     ]
    },
    {
     "name": "stderr",
     "output_type": "stream",
     "text": [
      "\r",
      " 50%|██████████████████████████████████████████                                          | 4/8 [00:17<00:16,  4.13s/it]"
     ]
    },
    {
     "name": "stdout",
     "output_type": "stream",
     "text": [
      "(1254, 131)\n"
     ]
    },
    {
     "name": "stderr",
     "output_type": "stream",
     "text": [
      "\r",
      " 62%|████████████████████████████████████████████████████▌                               | 5/8 [00:20<00:11,  3.95s/it]"
     ]
    },
    {
     "name": "stdout",
     "output_type": "stream",
     "text": [
      "(1259, 131)\n"
     ]
    },
    {
     "name": "stderr",
     "output_type": "stream",
     "text": [
      "\r",
      " 75%|███████████████████████████████████████████████████████████████                     | 6/8 [00:23<00:07,  3.71s/it]"
     ]
    },
    {
     "name": "stdout",
     "output_type": "stream",
     "text": [
      "(1245, 131)\n"
     ]
    },
    {
     "name": "stderr",
     "output_type": "stream",
     "text": [
      "\r",
      " 88%|█████████████████████████████████████████████████████████████████████████▌          | 7/8 [00:26<00:03,  3.45s/it]"
     ]
    },
    {
     "name": "stdout",
     "output_type": "stream",
     "text": [
      "(1166, 131)\n"
     ]
    },
    {
     "name": "stderr",
     "output_type": "stream",
     "text": [
      "100%|████████████████████████████████████████████████████████████████████████████████████| 8/8 [00:30<00:00,  3.85s/it]"
     ]
    },
    {
     "name": "stdout",
     "output_type": "stream",
     "text": [
      "(1257, 131)\n"
     ]
    },
    {
     "name": "stderr",
     "output_type": "stream",
     "text": [
      "\n"
     ]
    },
    {
     "name": "stdout",
     "output_type": "stream",
     "text": [
      "(9996, 131)\n"
     ]
    },
    {
     "data": {
      "text/html": [
       "<div>\n",
       "<style scoped>\n",
       "    .dataframe tbody tr th:only-of-type {\n",
       "        vertical-align: middle;\n",
       "    }\n",
       "\n",
       "    .dataframe tbody tr th {\n",
       "        vertical-align: top;\n",
       "    }\n",
       "\n",
       "    .dataframe thead th {\n",
       "        text-align: right;\n",
       "    }\n",
       "</style>\n",
       "<table border=\"1\" class=\"dataframe\">\n",
       "  <thead>\n",
       "    <tr style=\"text-align: right;\">\n",
       "      <th></th>\n",
       "      <th>HenID</th>\n",
       "      <th>level</th>\n",
       "      <th>duration_1_Zone</th>\n",
       "      <th>duration_2_Zone</th>\n",
       "      <th>duration_3_Zone</th>\n",
       "      <th>duration_4_Zone</th>\n",
       "      <th>duration_5_Zone</th>\n",
       "      <th>verification_daily_total_duration</th>\n",
       "      <th>dur_values</th>\n",
       "      <th>dur_values_normalized</th>\n",
       "      <th>...</th>\n",
       "      <th>list_of_night20_2_temperature</th>\n",
       "      <th>nbr_temperature_nnnan</th>\n",
       "      <th>temperature_night20_2_median</th>\n",
       "      <th>temperature_night20_2_max</th>\n",
       "      <th>temperature_night20_2_var</th>\n",
       "      <th>list_of_MovementCounter_day</th>\n",
       "      <th>len_MovementCounter_day</th>\n",
       "      <th>MovementCounter_day_amount_nnactivity</th>\n",
       "      <th>MovementCounter_day_max</th>\n",
       "      <th>MovementCounter_day_mean</th>\n",
       "    </tr>\n",
       "  </thead>\n",
       "  <tbody>\n",
       "    <tr>\n",
       "      <th>0</th>\n",
       "      <td>hen_131</td>\n",
       "      <td>2020-11-13</td>\n",
       "      <td>0.0</td>\n",
       "      <td>15914.0</td>\n",
       "      <td>25666.0</td>\n",
       "      <td>2138.0</td>\n",
       "      <td>9845.0</td>\n",
       "      <td>53563.0</td>\n",
       "      <td>[0.0, 15914.0, 25666.0, 2138.0, 9845.0]</td>\n",
       "      <td>[0.0, 0.29710807833765845, 0.479174056718257, ...</td>\n",
       "      <td>...</td>\n",
       "      <td>[28.0, 28.0, 28.0, 28.0, 28.0, 28.0, 28.0, 28....</td>\n",
       "      <td>36.0</td>\n",
       "      <td>28.0</td>\n",
       "      <td>29.0</td>\n",
       "      <td>0.222222</td>\n",
       "      <td>[3.0, 63.0, 70.0, 39.0, 51.0, 41.0, 30.0, 43.0...</td>\n",
       "      <td>90.0</td>\n",
       "      <td>0.033333</td>\n",
       "      <td>97.0</td>\n",
       "      <td>54.577778</td>\n",
       "    </tr>\n",
       "    <tr>\n",
       "      <th>1</th>\n",
       "      <td>hen_131</td>\n",
       "      <td>2020-11-14</td>\n",
       "      <td>405.0</td>\n",
       "      <td>17084.0</td>\n",
       "      <td>23716.0</td>\n",
       "      <td>2512.0</td>\n",
       "      <td>10283.0</td>\n",
       "      <td>54000.0</td>\n",
       "      <td>[405.0, 17084.0, 23716.0, 2512.0, 10283.0]</td>\n",
       "      <td>[0.0075, 0.31637037037037036, 0.43918518518518...</td>\n",
       "      <td>...</td>\n",
       "      <td>[28.0, 28.0, 28.0, 28.0, 27.0, 28.0, 27.0, 27....</td>\n",
       "      <td>36.0</td>\n",
       "      <td>26.0</td>\n",
       "      <td>28.0</td>\n",
       "      <td>0.750000</td>\n",
       "      <td>[14.0, 69.0, 47.0, 79.0, 50.0, 46.0, 64.0, 75....</td>\n",
       "      <td>90.0</td>\n",
       "      <td>0.011111</td>\n",
       "      <td>95.0</td>\n",
       "      <td>59.077778</td>\n",
       "    </tr>\n",
       "    <tr>\n",
       "      <th>2</th>\n",
       "      <td>hen_131</td>\n",
       "      <td>2020-11-15</td>\n",
       "      <td>0.0</td>\n",
       "      <td>16576.0</td>\n",
       "      <td>28684.0</td>\n",
       "      <td>2187.0</td>\n",
       "      <td>6553.0</td>\n",
       "      <td>54000.0</td>\n",
       "      <td>[0.0, 16576.0, 28684.0, 2187.0, 6553.0]</td>\n",
       "      <td>[0.0, 0.30696296296296294, 0.5311851851851852,...</td>\n",
       "      <td>...</td>\n",
       "      <td>[28.0, 28.0, 28.0, 28.0, 28.0, 28.0, 28.0, 28....</td>\n",
       "      <td>36.0</td>\n",
       "      <td>28.0</td>\n",
       "      <td>29.0</td>\n",
       "      <td>0.098765</td>\n",
       "      <td>[16.0, 70.0, 57.0, 55.0, 60.0, 65.0, 73.0, 73....</td>\n",
       "      <td>90.0</td>\n",
       "      <td>0.033333</td>\n",
       "      <td>91.0</td>\n",
       "      <td>57.922222</td>\n",
       "    </tr>\n",
       "  </tbody>\n",
       "</table>\n",
       "<p>3 rows × 131 columns</p>\n",
       "</div>"
      ],
      "text/plain": [
       "     HenID      level  duration_1_Zone  duration_2_Zone  duration_3_Zone  \\\n",
       "0  hen_131 2020-11-13              0.0          15914.0          25666.0   \n",
       "1  hen_131 2020-11-14            405.0          17084.0          23716.0   \n",
       "2  hen_131 2020-11-15              0.0          16576.0          28684.0   \n",
       "\n",
       "   duration_4_Zone  duration_5_Zone  verification_daily_total_duration  \\\n",
       "0           2138.0           9845.0                            53563.0   \n",
       "1           2512.0          10283.0                            54000.0   \n",
       "2           2187.0           6553.0                            54000.0   \n",
       "\n",
       "                                   dur_values  \\\n",
       "0     [0.0, 15914.0, 25666.0, 2138.0, 9845.0]   \n",
       "1  [405.0, 17084.0, 23716.0, 2512.0, 10283.0]   \n",
       "2     [0.0, 16576.0, 28684.0, 2187.0, 6553.0]   \n",
       "\n",
       "                               dur_values_normalized  ...  \\\n",
       "0  [0.0, 0.29710807833765845, 0.479174056718257, ...  ...   \n",
       "1  [0.0075, 0.31637037037037036, 0.43918518518518...  ...   \n",
       "2  [0.0, 0.30696296296296294, 0.5311851851851852,...  ...   \n",
       "\n",
       "                       list_of_night20_2_temperature nbr_temperature_nnnan  \\\n",
       "0  [28.0, 28.0, 28.0, 28.0, 28.0, 28.0, 28.0, 28....                  36.0   \n",
       "1  [28.0, 28.0, 28.0, 28.0, 27.0, 28.0, 27.0, 27....                  36.0   \n",
       "2  [28.0, 28.0, 28.0, 28.0, 28.0, 28.0, 28.0, 28....                  36.0   \n",
       "\n",
       "  temperature_night20_2_median temperature_night20_2_max  \\\n",
       "0                         28.0                      29.0   \n",
       "1                         26.0                      28.0   \n",
       "2                         28.0                      29.0   \n",
       "\n",
       "  temperature_night20_2_var  \\\n",
       "0                  0.222222   \n",
       "1                  0.750000   \n",
       "2                  0.098765   \n",
       "\n",
       "                         list_of_MovementCounter_day len_MovementCounter_day  \\\n",
       "0  [3.0, 63.0, 70.0, 39.0, 51.0, 41.0, 30.0, 43.0...                    90.0   \n",
       "1  [14.0, 69.0, 47.0, 79.0, 50.0, 46.0, 64.0, 75....                    90.0   \n",
       "2  [16.0, 70.0, 57.0, 55.0, 60.0, 65.0, 73.0, 73....                    90.0   \n",
       "\n",
       "  MovementCounter_day_amount_nnactivity MovementCounter_day_max  \\\n",
       "0                              0.033333                    97.0   \n",
       "1                              0.011111                    95.0   \n",
       "2                              0.033333                    91.0   \n",
       "\n",
       "  MovementCounter_day_mean  \n",
       "0                54.577778  \n",
       "1                59.077778  \n",
       "2                57.922222  \n",
       "\n",
       "[3 rows x 131 columns]"
      ]
     },
     "execution_count": 6,
     "metadata": {},
     "output_type": "execute_result"
    }
   ],
   "source": [
    "############## cleaned dataset\n",
    "START_TIME = time.perf_counter()\n",
    "#remove predicted-wrong-records\n",
    "print(df.shape)\n",
    "df_ = df[df['prediction']!=0].copy()\n",
    "print(df_.shape)\n",
    "#simply rename the tracking system zone into the model zone \n",
    "display(df_.head(2))\n",
    "for p in tqdm.tqdm(df_['PenID'].unique()):\n",
    "    df_daily = HenDailyVariable_Origins(df_[df_['PenID']==p], config, name_='CLEANING_'+name_method+p, \n",
    "                                        timestamp_name='Timestamp', has_cons_equal_zone=True)\n",
    "    print(df_daily.shape)\n",
    "    df_daily.head(3)\n",
    "END_TIME = time.perf_counter()\n",
    "print (\"Total running time: %.2f mn\" %((END_TIME-START_TIME)/60))  \n",
    "\n",
    "#Concatenate all HenVariables csv into one\n",
    "li_paths_var = glob.glob(os.path.join(path_extracted_data, id_run+'_daily__CLEANING_'+name_method+'*_variables.csv'))\n",
    "li_df = []\n",
    "for path_var in tqdm.tqdm(li_paths_var):\n",
    "    #for being more reproductible, we open the file that was saved from cleaning\n",
    "    df_ = pd.read_csv(path_var, sep=';',parse_dates=['level', 'FirstTimestamp_1_Zone', 'FirstTimestamp_2_Zone', \n",
    "                                                     'FirstTimestamp_3_Zone','FirstTimestamp_4_Zone',\n",
    "                                                     'FirstTimestamp_5_Zone']) \n",
    "    print(df_.shape)\n",
    "    li_df.append(df_)\n",
    "df_daily = pd.concat(li_df)\n",
    "df_daily.to_csv(os.path.join(path_extracted_data, id_run+name_method+'_daily_CLEANING_ALL_variables.csv'), sep=';', index=False)\n",
    "print(df_daily.shape)\n",
    "df_daily.head(3)"
   ]
  },
  {
   "cell_type": "code",
   "execution_count": 7,
   "metadata": {
    "scrolled": true
   },
   "outputs": [
    {
     "name": "stderr",
     "output_type": "stream",
     "text": [
      "C:\\Users\\camil\\anaconda3\\lib\\site-packages\\ipykernel\\ipkernel.py:283: DeprecationWarning: `should_run_async` will not call `transform_cell` automatically in the future. Please pass the result to `transformed_cell` argument and any exception that happen during thetransform in `preprocessing_exc_tuple` in IPython 7.17 and above.\n",
      "  and should_run_async(code)\n",
      "  0%|                                                                                            | 0/8 [00:00<?, ?it/s]C:\\Users\\camil\\Desktop\\animals_code\\PhD-AnimalWelfare\\UTILS.py:3946: SettingWithCopyWarning: \n",
      "A value is trying to be set on a copy of a slice from a DataFrame\n",
      "\n",
      "See the caveats in the documentation: https://pandas.pydata.org/pandas-docs/stable/user_guide/indexing.html#returning-a-view-versus-a-copy\n",
      "  df.sort_values([timestamp_name], inplace=True)\n",
      "C:\\Users\\camil\\Desktop\\animals_code\\PhD-AnimalWelfare\\UTILS.py:3948: SettingWithCopyWarning: \n",
      "A value is trying to be set on a copy of a slice from a DataFrame.\n",
      "Try using .loc[row_indexer,col_indexer] = value instead\n",
      "\n",
      "See the caveats in the documentation: https://pandas.pydata.org/pandas-docs/stable/user_guide/indexing.html#returning-a-view-versus-a-copy\n",
      "  df[timestamp_name] = df[timestamp_name].map(lambda x: dt.datetime(x.year,x.month,x.day,x.hour,x.minute, x.second))\n"
     ]
    },
    {
     "name": "stdout",
     "output_type": "stream",
     "text": [
      "----------------- Create time serie\n",
      "in this time series there is 22 hens\n",
      "The initial starting date in over all is: 2020-11-13 00:12:06, and the ending date will be: 2021-01-11 23:49:31\n",
      "But note that birds may have different ending and starting date which should be taken into account when computing variables\n",
      "and after ending the last day at midnight : 2020-11-13 00:12:06, and the ending date will be: 2021-01-11 23:59:59\n",
      "Total running time: 1.42 mn\n",
      "your time series has 1 seconds between two timestamps\n",
      "----------------- main night zone and nbr of transitions over night....\n",
      "----------------- total duration per Zone in seconds....\n",
      "----------------- first timestamp in each zone per day....\n",
      "----------------- number of Zone (excluding nan)....\n",
      "----------------- compute some variables based on a list of zones over a day....\n",
      "----------------NESTBOX\n"
     ]
    },
    {
     "name": "stderr",
     "output_type": "stream",
     "text": [
      "\n",
      "  0%|                                                                                           | 0/22 [00:00<?, ?it/s]\u001b[A\n",
      "  5%|███▊                                                                               | 1/22 [00:00<00:07,  2.77it/s]\u001b[A\n",
      "  9%|███████▌                                                                           | 2/22 [00:00<00:06,  3.04it/s]\u001b[A\n",
      " 14%|███████████▎                                                                       | 3/22 [00:00<00:06,  3.00it/s]\u001b[A\n",
      " 23%|██████████████████▊                                                                | 5/22 [00:01<00:04,  3.44it/s]\u001b[A\n",
      " 32%|██████████████████████████▍                                                        | 7/22 [00:01<00:03,  4.44it/s]\u001b[A\n",
      " 36%|██████████████████████████████▏                                                    | 8/22 [00:01<00:03,  3.97it/s]\u001b[A\n",
      " 41%|█████████████████████████████████▉                                                 | 9/22 [00:02<00:03,  3.49it/s]\u001b[A\n",
      " 45%|█████████████████████████████████████▎                                            | 10/22 [00:02<00:03,  3.81it/s]\u001b[A\n",
      " 55%|████████████████████████████████████████████▋                                     | 12/22 [00:02<00:02,  4.49it/s]\u001b[A\n",
      " 59%|████████████████████████████████████████████████▍                                 | 13/22 [00:02<00:02,  3.91it/s]\u001b[A\n",
      " 64%|████████████████████████████████████████████████████▏                             | 14/22 [00:03<00:02,  3.43it/s]\u001b[A\n",
      " 68%|███████████████████████████████████████████████████████▉                          | 15/22 [00:03<00:01,  4.10it/s]\u001b[A\n",
      " 73%|███████████████████████████████████████████████████████████▋                      | 16/22 [00:03<00:01,  3.78it/s]\u001b[A\n",
      " 77%|███████████████████████████████████████████████████████████████▎                  | 17/22 [00:04<00:01,  3.32it/s]\u001b[A\n",
      " 82%|███████████████████████████████████████████████████████████████████               | 18/22 [00:04<00:01,  3.08it/s]\u001b[A\n",
      " 86%|██████████████████████████████████████████████████████████████████████▊           | 19/22 [00:04<00:00,  3.60it/s]\u001b[A\n",
      " 91%|██████████████████████████████████████████████████████████████████████████▌       | 20/22 [00:05<00:00,  2.55it/s]\u001b[A\n",
      "100%|██████████████████████████████████████████████████████████████████████████████████| 22/22 [00:05<00:00,  3.99it/s]\u001b[A\n",
      "C:\\Users\\camil\\anaconda3\\lib\\site-packages\\numpy\\lib\\nanfunctions.py:1366: RuntimeWarning: Mean of empty slice\n",
      "  return np.nanmean(a, axis, out=out, keepdims=keepdims)\n"
     ]
    },
    {
     "name": "stdout",
     "output_type": "stream",
     "text": [
      "------------ add hen basics info\n",
      "From the focalBirdinfo, you have 158 ative tags\n",
      "(1298, 116)\n",
      "(1197, 118)\n",
      "-------------- Lets remove unwanted dates at PENS level\n"
     ]
    },
    {
     "data": {
      "text/html": [
       "<text style=color:black>By removing the unwanted days we passed from 1197 to 1140 timestamp (losing </text> <text style=color:red>57</text> <text style=color:black> timestamp)</text>"
      ],
      "text/plain": [
       "<IPython.core.display.HTML object>"
      ]
     },
     "metadata": {},
     "output_type": "display_data"
    },
    {
     "name": "stdout",
     "output_type": "stream",
     "text": [
      "All the night variables are:  Index(['HenID', 'night_level', 'night_Max_duration_zones',\n",
      "       'night_distribution_entropy', 'night_Total_number_transition',\n",
      "       'is_mvt_night', 'level', 'PenID', 'CLASS', 'R-Pen', 'InitialStartDate',\n",
      "       '29-09 weight', '10-12 juin weight', 'weight 23-11-2020',\n",
      "       'weight 04-01-2021', 'weight 01-02-21', 'weight 12-04-21', 'Treatment'],\n",
      "      dtype='object')\n",
      "['night_level']\n",
      "-------------- Lets remove dates of tags when they were not giving deviceupdate regularly\n"
     ]
    },
    {
     "data": {
      "text/html": [
       "<text style=color:black>By removing the unwanted days we passed from 1257 to 1257 timestamp (losing </text> <text style=color:red>0</text> <text style=color:black> timestamp)</text>"
      ],
      "text/plain": [
       "<IPython.core.display.HTML object>"
      ]
     },
     "metadata": {},
     "output_type": "display_data"
    },
    {
     "name": "stdout",
     "output_type": "stream",
     "text": [
      "-------------- Lets remove dates of tags when they were having more or equal than 10 times LFCOUNTER=0 a day\n"
     ]
    },
    {
     "data": {
      "text/html": [
       "<text style=color:black>By removing the unwanted days we passed from 1257 to 1257 timestamp (losing </text> <text style=color:red>0</text> <text style=color:black> timestamp)</text>"
      ],
      "text/plain": [
       "<IPython.core.display.HTML object>"
      ]
     },
     "metadata": {},
     "output_type": "display_data"
    },
    {
     "name": "stdout",
     "output_type": "stream",
     "text": [
      "-------------- Lets remove the 30.09.2020 for the tags taht still had no transition from before the light went on \n"
     ]
    },
    {
     "data": {
      "text/html": [
       "<text style=color:black>By removing the unwanted days we passed from 1257 to 1257 timestamp (losing </text> <text style=color:red>0</text> <text style=color:black> timestamp)</text>"
      ],
      "text/plain": [
       "<IPython.core.display.HTML object>"
      ]
     },
     "metadata": {},
     "output_type": "display_data"
    },
    {
     "name": "stdout",
     "output_type": "stream",
     "text": [
      "save\n"
     ]
    },
    {
     "name": "stderr",
     "output_type": "stream",
     "text": [
      "\r",
      " 12%|██████████▏                                                                      | 1/8 [11:08<1:18:02, 668.95s/it]"
     ]
    },
    {
     "name": "stdout",
     "output_type": "stream",
     "text": [
      "Total running time: 11.13 mn\n",
      "(1257, 131)\n"
     ]
    },
    {
     "name": "stderr",
     "output_type": "stream",
     "text": [
      "C:\\Users\\camil\\Desktop\\animals_code\\PhD-AnimalWelfare\\UTILS.py:3946: SettingWithCopyWarning: \n",
      "A value is trying to be set on a copy of a slice from a DataFrame\n",
      "\n",
      "See the caveats in the documentation: https://pandas.pydata.org/pandas-docs/stable/user_guide/indexing.html#returning-a-view-versus-a-copy\n",
      "  df.sort_values([timestamp_name], inplace=True)\n",
      "C:\\Users\\camil\\Desktop\\animals_code\\PhD-AnimalWelfare\\UTILS.py:3948: SettingWithCopyWarning: \n",
      "A value is trying to be set on a copy of a slice from a DataFrame.\n",
      "Try using .loc[row_indexer,col_indexer] = value instead\n",
      "\n",
      "See the caveats in the documentation: https://pandas.pydata.org/pandas-docs/stable/user_guide/indexing.html#returning-a-view-versus-a-copy\n",
      "  df[timestamp_name] = df[timestamp_name].map(lambda x: dt.datetime(x.year,x.month,x.day,x.hour,x.minute, x.second))\n"
     ]
    },
    {
     "name": "stdout",
     "output_type": "stream",
     "text": [
      "----------------- Create time serie\n",
      "in this time series there is 22 hens\n",
      "The initial starting date in over all is: 2020-11-13 00:20:14, and the ending date will be: 2021-01-11 23:58:59\n",
      "But note that birds may have different ending and starting date which should be taken into account when computing variables\n",
      "and after ending the last day at midnight : 2020-11-13 00:20:14, and the ending date will be: 2021-01-11 23:59:59\n",
      "Total running time: 1.41 mn\n",
      "your time series has 1 seconds between two timestamps\n",
      "----------------- main night zone and nbr of transitions over night....\n",
      "----------------- total duration per Zone in seconds....\n",
      "----------------- first timestamp in each zone per day....\n",
      "----------------- number of Zone (excluding nan)....\n",
      "----------------- compute some variables based on a list of zones over a day....\n",
      "several max-duration-zone\n",
      "several max-duration-zone\n",
      "----------------NESTBOX\n"
     ]
    },
    {
     "name": "stderr",
     "output_type": "stream",
     "text": [
      "\n",
      "  0%|                                                                                           | 0/22 [00:00<?, ?it/s]\u001b[A\n",
      "  5%|███▊                                                                               | 1/22 [00:00<00:08,  2.42it/s]\u001b[A\n",
      "  9%|███████▌                                                                           | 2/22 [00:00<00:06,  2.94it/s]\u001b[A\n",
      " 14%|███████████▎                                                                       | 3/22 [00:01<00:08,  2.11it/s]\u001b[A\n",
      " 23%|██████████████████▊                                                                | 5/22 [00:01<00:05,  2.87it/s]\u001b[A\n",
      " 27%|██████████████████████▋                                                            | 6/22 [00:01<00:05,  2.76it/s]\u001b[A\n",
      " 32%|██████████████████████████▍                                                        | 7/22 [00:02<00:05,  2.56it/s]\u001b[A\n",
      " 36%|██████████████████████████████▏                                                    | 8/22 [00:02<00:06,  2.20it/s]\u001b[A\n",
      " 45%|█████████████████████████████████████▎                                            | 10/22 [00:03<00:04,  2.52it/s]\u001b[A\n",
      " 50%|█████████████████████████████████████████                                         | 11/22 [00:03<00:04,  2.61it/s]\u001b[A\n",
      " 55%|████████████████████████████████████████████▋                                     | 12/22 [00:03<00:03,  3.12it/s]\u001b[A\n",
      " 64%|████████████████████████████████████████████████████▏                             | 14/22 [00:04<00:02,  3.52it/s]\u001b[A\n",
      " 68%|███████████████████████████████████████████████████████▉                          | 15/22 [00:04<00:02,  2.88it/s]\u001b[A\n",
      " 77%|███████████████████████████████████████████████████████████████▎                  | 17/22 [00:05<00:01,  3.10it/s]\u001b[A\n",
      " 82%|███████████████████████████████████████████████████████████████████               | 18/22 [00:05<00:01,  3.82it/s]\u001b[A\n",
      " 86%|██████████████████████████████████████████████████████████████████████▊           | 19/22 [00:06<00:01,  2.65it/s]\u001b[A\n",
      " 91%|██████████████████████████████████████████████████████████████████████████▌       | 20/22 [00:06<00:00,  2.98it/s]\u001b[A\n",
      "100%|██████████████████████████████████████████████████████████████████████████████████| 22/22 [00:07<00:00,  3.11it/s]\u001b[A\n",
      "C:\\Users\\camil\\anaconda3\\lib\\site-packages\\numpy\\lib\\nanfunctions.py:1366: RuntimeWarning: Mean of empty slice\n",
      "  return np.nanmean(a, axis, out=out, keepdims=keepdims)\n"
     ]
    },
    {
     "name": "stdout",
     "output_type": "stream",
     "text": [
      "------------ add hen basics info\n",
      "From the focalBirdinfo, you have 158 ative tags\n",
      "(1245, 116)\n",
      "(1143, 118)\n",
      "-------------- Lets remove unwanted dates at PENS level\n"
     ]
    },
    {
     "data": {
      "text/html": [
       "<text style=color:black>By removing the unwanted days we passed from 1143 to 1090 timestamp (losing </text> <text style=color:red>53</text> <text style=color:black> timestamp)</text>"
      ],
      "text/plain": [
       "<IPython.core.display.HTML object>"
      ]
     },
     "metadata": {},
     "output_type": "display_data"
    },
    {
     "name": "stdout",
     "output_type": "stream",
     "text": [
      "All the night variables are:  Index(['HenID', 'night_level', 'night_Max_duration_zones',\n",
      "       'night_distribution_entropy', 'night_Total_number_transition',\n",
      "       'is_mvt_night', 'level', 'PenID', 'CLASS', 'R-Pen', 'InitialStartDate',\n",
      "       '29-09 weight', '10-12 juin weight', 'weight 23-11-2020',\n",
      "       'weight 04-01-2021', 'weight 01-02-21', 'weight 12-04-21', 'Treatment'],\n",
      "      dtype='object')\n",
      "['night_level']\n",
      "-------------- Lets remove dates of tags when they were not giving deviceupdate regularly\n"
     ]
    },
    {
     "data": {
      "text/html": [
       "<text style=color:black>By removing the unwanted days we passed from 1206 to 1206 timestamp (losing </text> <text style=color:red>0</text> <text style=color:black> timestamp)</text>"
      ],
      "text/plain": [
       "<IPython.core.display.HTML object>"
      ]
     },
     "metadata": {},
     "output_type": "display_data"
    },
    {
     "name": "stdout",
     "output_type": "stream",
     "text": [
      "-------------- Lets remove dates of tags when they were having more or equal than 10 times LFCOUNTER=0 a day\n"
     ]
    },
    {
     "data": {
      "text/html": [
       "<text style=color:black>By removing the unwanted days we passed from 1206 to 1166 timestamp (losing </text> <text style=color:red>40</text> <text style=color:black> timestamp)</text>"
      ],
      "text/plain": [
       "<IPython.core.display.HTML object>"
      ]
     },
     "metadata": {},
     "output_type": "display_data"
    },
    {
     "name": "stdout",
     "output_type": "stream",
     "text": [
      "-------------- Lets remove the 30.09.2020 for the tags taht still had no transition from before the light went on \n"
     ]
    },
    {
     "data": {
      "text/html": [
       "<text style=color:black>By removing the unwanted days we passed from 1166 to 1166 timestamp (losing </text> <text style=color:red>0</text> <text style=color:black> timestamp)</text>"
      ],
      "text/plain": [
       "<IPython.core.display.HTML object>"
      ]
     },
     "metadata": {},
     "output_type": "display_data"
    },
    {
     "name": "stdout",
     "output_type": "stream",
     "text": [
      "save\n"
     ]
    },
    {
     "name": "stderr",
     "output_type": "stream",
     "text": [
      "\r",
      " 25%|████████████████████▎                                                            | 2/8 [22:14<1:06:48, 668.00s/it]"
     ]
    },
    {
     "name": "stdout",
     "output_type": "stream",
     "text": [
      "Total running time: 11.07 mn\n",
      "(1166, 131)\n"
     ]
    },
    {
     "name": "stderr",
     "output_type": "stream",
     "text": [
      "C:\\Users\\camil\\Desktop\\animals_code\\PhD-AnimalWelfare\\UTILS.py:3946: SettingWithCopyWarning: \n",
      "A value is trying to be set on a copy of a slice from a DataFrame\n",
      "\n",
      "See the caveats in the documentation: https://pandas.pydata.org/pandas-docs/stable/user_guide/indexing.html#returning-a-view-versus-a-copy\n",
      "  df.sort_values([timestamp_name], inplace=True)\n",
      "C:\\Users\\camil\\Desktop\\animals_code\\PhD-AnimalWelfare\\UTILS.py:3948: SettingWithCopyWarning: \n",
      "A value is trying to be set on a copy of a slice from a DataFrame.\n",
      "Try using .loc[row_indexer,col_indexer] = value instead\n",
      "\n",
      "See the caveats in the documentation: https://pandas.pydata.org/pandas-docs/stable/user_guide/indexing.html#returning-a-view-versus-a-copy\n",
      "  df[timestamp_name] = df[timestamp_name].map(lambda x: dt.datetime(x.year,x.month,x.day,x.hour,x.minute, x.second))\n"
     ]
    },
    {
     "name": "stdout",
     "output_type": "stream",
     "text": [
      "----------------- Create time serie\n",
      "in this time series there is 22 hens\n",
      "The initial starting date in over all is: 2020-11-13 00:23:55, and the ending date will be: 2021-01-11 17:03:20\n",
      "But note that birds may have different ending and starting date which should be taken into account when computing variables\n",
      "and after ending the last day at midnight : 2020-11-13 00:23:55, and the ending date will be: 2021-01-11 23:59:59\n",
      "Total running time: 1.38 mn\n",
      "your time series has 1 seconds between two timestamps\n",
      "----------------- main night zone and nbr of transitions over night....\n",
      "----------------- total duration per Zone in seconds....\n",
      "----------------- first timestamp in each zone per day....\n",
      "----------------- number of Zone (excluding nan)....\n",
      "----------------- compute some variables based on a list of zones over a day....\n",
      "----------------NESTBOX\n"
     ]
    },
    {
     "name": "stderr",
     "output_type": "stream",
     "text": [
      "\n",
      "  0%|                                                                                           | 0/22 [00:00<?, ?it/s]\u001b[A\n",
      "  5%|███▊                                                                               | 1/22 [00:00<00:02,  7.01it/s]\u001b[A\n",
      "  9%|███████▌                                                                           | 2/22 [00:00<00:04,  4.99it/s]\u001b[A\n",
      " 14%|███████████▎                                                                       | 3/22 [00:00<00:04,  3.89it/s]\u001b[A\n",
      " 18%|███████████████                                                                    | 4/22 [00:01<00:04,  3.96it/s]\u001b[A\n",
      " 23%|██████████████████▊                                                                | 5/22 [00:01<00:06,  2.76it/s]\u001b[A\n",
      " 27%|██████████████████████▋                                                            | 6/22 [00:01<00:04,  3.29it/s]\u001b[A\n",
      " 32%|██████████████████████████▍                                                        | 7/22 [00:02<00:05,  2.62it/s]\u001b[A\n",
      " 36%|██████████████████████████████▏                                                    | 8/22 [00:02<00:05,  2.63it/s]\u001b[A\n",
      " 41%|█████████████████████████████████▉                                                 | 9/22 [00:03<00:05,  2.37it/s]\u001b[A\n",
      " 45%|█████████████████████████████████████▎                                            | 10/22 [00:03<00:05,  2.22it/s]\u001b[A\n",
      " 50%|█████████████████████████████████████████                                         | 11/22 [00:04<00:04,  2.74it/s]\u001b[A\n",
      " 55%|████████████████████████████████████████████▋                                     | 12/22 [00:04<00:03,  2.82it/s]\u001b[A\n",
      " 64%|████████████████████████████████████████████████████▏                             | 14/22 [00:04<00:02,  2.99it/s]\u001b[A\n",
      " 68%|███████████████████████████████████████████████████████▉                          | 15/22 [00:05<00:02,  3.13it/s]\u001b[A\n",
      " 73%|███████████████████████████████████████████████████████████▋                      | 16/22 [00:05<00:02,  2.83it/s]\u001b[A\n",
      " 82%|███████████████████████████████████████████████████████████████████               | 18/22 [00:06<00:01,  3.30it/s]\u001b[A\n",
      " 86%|██████████████████████████████████████████████████████████████████████▊           | 19/22 [00:07<00:01,  1.73it/s]\u001b[A\n",
      " 91%|██████████████████████████████████████████████████████████████████████████▌       | 20/22 [00:07<00:00,  2.01it/s]\u001b[A\n",
      " 95%|██████████████████████████████████████████████████████████████████████████████▎   | 21/22 [00:07<00:00,  2.52it/s]\u001b[A\n",
      "100%|██████████████████████████████████████████████████████████████████████████████████| 22/22 [00:08<00:00,  2.73it/s]\u001b[A\n",
      "C:\\Users\\camil\\anaconda3\\lib\\site-packages\\numpy\\lib\\nanfunctions.py:1366: RuntimeWarning: Mean of empty slice\n",
      "  return np.nanmean(a, axis, out=out, keepdims=keepdims)\n"
     ]
    },
    {
     "name": "stdout",
     "output_type": "stream",
     "text": [
      "------------ add hen basics info\n",
      "From the focalBirdinfo, you have 158 ative tags\n",
      "(1298, 116)\n",
      "(1194, 118)\n",
      "-------------- Lets remove unwanted dates at PENS level\n"
     ]
    },
    {
     "data": {
      "text/html": [
       "<text style=color:black>By removing the unwanted days we passed from 1194 to 1100 timestamp (losing </text> <text style=color:red>94</text> <text style=color:black> timestamp)</text>"
      ],
      "text/plain": [
       "<IPython.core.display.HTML object>"
      ]
     },
     "metadata": {},
     "output_type": "display_data"
    },
    {
     "name": "stdout",
     "output_type": "stream",
     "text": [
      "All the night variables are:  Index(['HenID', 'night_level', 'night_Max_duration_zones',\n",
      "       'night_distribution_entropy', 'night_Total_number_transition',\n",
      "       'is_mvt_night', 'level', 'PenID', 'CLASS', 'R-Pen', 'InitialStartDate',\n",
      "       '29-09 weight', '10-12 juin weight', 'weight 23-11-2020',\n",
      "       'weight 04-01-2021', 'weight 01-02-21', 'weight 12-04-21', 'Treatment'],\n",
      "      dtype='object')\n",
      "['night_level']\n",
      "-------------- Lets remove dates of tags when they were not giving deviceupdate regularly\n"
     ]
    },
    {
     "data": {
      "text/html": [
       "<text style=color:black>By removing the unwanted days we passed from 1259 to 1259 timestamp (losing </text> <text style=color:red>0</text> <text style=color:black> timestamp)</text>"
      ],
      "text/plain": [
       "<IPython.core.display.HTML object>"
      ]
     },
     "metadata": {},
     "output_type": "display_data"
    },
    {
     "name": "stdout",
     "output_type": "stream",
     "text": [
      "-------------- Lets remove dates of tags when they were having more or equal than 10 times LFCOUNTER=0 a day\n"
     ]
    },
    {
     "data": {
      "text/html": [
       "<text style=color:black>By removing the unwanted days we passed from 1259 to 1259 timestamp (losing </text> <text style=color:red>0</text> <text style=color:black> timestamp)</text>"
      ],
      "text/plain": [
       "<IPython.core.display.HTML object>"
      ]
     },
     "metadata": {},
     "output_type": "display_data"
    },
    {
     "name": "stdout",
     "output_type": "stream",
     "text": [
      "-------------- Lets remove the 30.09.2020 for the tags taht still had no transition from before the light went on \n"
     ]
    },
    {
     "data": {
      "text/html": [
       "<text style=color:black>By removing the unwanted days we passed from 1259 to 1259 timestamp (losing </text> <text style=color:red>0</text> <text style=color:black> timestamp)</text>"
      ],
      "text/plain": [
       "<IPython.core.display.HTML object>"
      ]
     },
     "metadata": {},
     "output_type": "display_data"
    },
    {
     "name": "stdout",
     "output_type": "stream",
     "text": [
      "save\n"
     ]
    },
    {
     "name": "stderr",
     "output_type": "stream",
     "text": [
      "\r",
      " 38%|███████████████████████████████▏                                                   | 3/8 [33:34<55:57, 671.56s/it]"
     ]
    },
    {
     "name": "stdout",
     "output_type": "stream",
     "text": [
      "Total running time: 11.31 mn\n",
      "(1259, 131)\n"
     ]
    },
    {
     "name": "stderr",
     "output_type": "stream",
     "text": [
      "C:\\Users\\camil\\Desktop\\animals_code\\PhD-AnimalWelfare\\UTILS.py:3946: SettingWithCopyWarning: \n",
      "A value is trying to be set on a copy of a slice from a DataFrame\n",
      "\n",
      "See the caveats in the documentation: https://pandas.pydata.org/pandas-docs/stable/user_guide/indexing.html#returning-a-view-versus-a-copy\n",
      "  df.sort_values([timestamp_name], inplace=True)\n",
      "C:\\Users\\camil\\Desktop\\animals_code\\PhD-AnimalWelfare\\UTILS.py:3948: SettingWithCopyWarning: \n",
      "A value is trying to be set on a copy of a slice from a DataFrame.\n",
      "Try using .loc[row_indexer,col_indexer] = value instead\n",
      "\n",
      "See the caveats in the documentation: https://pandas.pydata.org/pandas-docs/stable/user_guide/indexing.html#returning-a-view-versus-a-copy\n",
      "  df[timestamp_name] = df[timestamp_name].map(lambda x: dt.datetime(x.year,x.month,x.day,x.hour,x.minute, x.second))\n"
     ]
    },
    {
     "name": "stdout",
     "output_type": "stream",
     "text": [
      "----------------- Create time serie\n",
      "in this time series there is 22 hens\n",
      "The initial starting date in over all is: 2020-11-13 01:02:10, and the ending date will be: 2021-01-11 17:05:57\n",
      "But note that birds may have different ending and starting date which should be taken into account when computing variables\n",
      "and after ending the last day at midnight : 2020-11-13 01:02:10, and the ending date will be: 2021-01-11 23:59:59\n",
      "Total running time: 1.38 mn\n",
      "your time series has 1 seconds between two timestamps\n",
      "----------------- main night zone and nbr of transitions over night....\n",
      "----------------- total duration per Zone in seconds....\n",
      "----------------- first timestamp in each zone per day....\n",
      "----------------- number of Zone (excluding nan)....\n",
      "----------------- compute some variables based on a list of zones over a day....\n",
      "----------------NESTBOX\n"
     ]
    },
    {
     "name": "stderr",
     "output_type": "stream",
     "text": [
      "\n",
      "  0%|                                                                                           | 0/22 [00:00<?, ?it/s]\u001b[A\n",
      "  5%|███▊                                                                               | 1/22 [00:00<00:07,  2.88it/s]\u001b[A\n",
      "  9%|███████▌                                                                           | 2/22 [00:00<00:06,  2.94it/s]\u001b[A\n",
      " 14%|███████████▎                                                                       | 3/22 [00:00<00:06,  3.08it/s]\u001b[A\n",
      " 18%|███████████████                                                                    | 4/22 [00:01<00:05,  3.03it/s]\u001b[A\n",
      " 27%|██████████████████████▋                                                            | 6/22 [00:01<00:04,  3.32it/s]\u001b[A\n",
      " 32%|██████████████████████████▍                                                        | 7/22 [00:02<00:04,  3.10it/s]\u001b[A\n",
      " 36%|██████████████████████████████▏                                                    | 8/22 [00:03<00:06,  2.02it/s]\u001b[A\n",
      " 41%|█████████████████████████████████▉                                                 | 9/22 [00:03<00:06,  2.13it/s]\u001b[A\n",
      " 45%|█████████████████████████████████████▎                                            | 10/22 [00:04<00:07,  1.71it/s]\u001b[A\n",
      " 50%|█████████████████████████████████████████                                         | 11/22 [00:04<00:05,  2.00it/s]\u001b[A\n",
      " 55%|████████████████████████████████████████████▋                                     | 12/22 [00:04<00:04,  2.22it/s]\u001b[A\n",
      " 59%|████████████████████████████████████████████████▍                                 | 13/22 [00:05<00:03,  2.36it/s]\u001b[A\n",
      " 68%|███████████████████████████████████████████████████████▉                          | 15/22 [00:05<00:02,  2.93it/s]\u001b[A\n",
      " 73%|███████████████████████████████████████████████████████████▋                      | 16/22 [00:05<00:02,  2.86it/s]\u001b[A\n",
      " 77%|███████████████████████████████████████████████████████████████▎                  | 17/22 [00:06<00:01,  2.81it/s]\u001b[A\n",
      " 82%|███████████████████████████████████████████████████████████████████               | 18/22 [00:06<00:01,  3.03it/s]\u001b[A\n",
      " 86%|██████████████████████████████████████████████████████████████████████▊           | 19/22 [00:07<00:01,  1.64it/s]\u001b[A\n",
      " 95%|██████████████████████████████████████████████████████████████████████████████▎   | 21/22 [00:08<00:00,  2.01it/s]\u001b[A\n",
      "100%|██████████████████████████████████████████████████████████████████████████████████| 22/22 [00:08<00:00,  2.54it/s]\u001b[A\n",
      "C:\\Users\\camil\\anaconda3\\lib\\site-packages\\numpy\\lib\\nanfunctions.py:1366: RuntimeWarning: Mean of empty slice\n",
      "  return np.nanmean(a, axis, out=out, keepdims=keepdims)\n"
     ]
    },
    {
     "name": "stdout",
     "output_type": "stream",
     "text": [
      "------------ add hen basics info\n",
      "From the focalBirdinfo, you have 158 ative tags\n",
      "(1298, 116)\n",
      "(1198, 118)\n",
      "-------------- Lets remove unwanted dates at PENS level\n"
     ]
    },
    {
     "data": {
      "text/html": [
       "<text style=color:black>By removing the unwanted days we passed from 1198 to 1140 timestamp (losing </text> <text style=color:red>58</text> <text style=color:black> timestamp)</text>"
      ],
      "text/plain": [
       "<IPython.core.display.HTML object>"
      ]
     },
     "metadata": {},
     "output_type": "display_data"
    },
    {
     "name": "stdout",
     "output_type": "stream",
     "text": [
      "All the night variables are:  Index(['HenID', 'night_level', 'night_Max_duration_zones',\n",
      "       'night_distribution_entropy', 'night_Total_number_transition',\n",
      "       'is_mvt_night', 'level', 'PenID', 'CLASS', 'R-Pen', 'InitialStartDate',\n",
      "       '29-09 weight', '10-12 juin weight', 'weight 23-11-2020',\n",
      "       'weight 04-01-2021', 'weight 01-02-21', 'weight 12-04-21', 'Treatment'],\n",
      "      dtype='object')\n",
      "['night_level']\n",
      "-------------- Lets remove dates of tags when they were not giving deviceupdate regularly\n"
     ]
    },
    {
     "data": {
      "text/html": [
       "<text style=color:black>By removing the unwanted days we passed from 1257 to 1257 timestamp (losing </text> <text style=color:red>0</text> <text style=color:black> timestamp)</text>"
      ],
      "text/plain": [
       "<IPython.core.display.HTML object>"
      ]
     },
     "metadata": {},
     "output_type": "display_data"
    },
    {
     "name": "stdout",
     "output_type": "stream",
     "text": [
      "-------------- Lets remove dates of tags when they were having more or equal than 10 times LFCOUNTER=0 a day\n"
     ]
    },
    {
     "data": {
      "text/html": [
       "<text style=color:black>By removing the unwanted days we passed from 1257 to 1257 timestamp (losing </text> <text style=color:red>0</text> <text style=color:black> timestamp)</text>"
      ],
      "text/plain": [
       "<IPython.core.display.HTML object>"
      ]
     },
     "metadata": {},
     "output_type": "display_data"
    },
    {
     "name": "stdout",
     "output_type": "stream",
     "text": [
      "-------------- Lets remove the 30.09.2020 for the tags taht still had no transition from before the light went on \n"
     ]
    },
    {
     "data": {
      "text/html": [
       "<text style=color:black>By removing the unwanted days we passed from 1257 to 1257 timestamp (losing </text> <text style=color:red>0</text> <text style=color:black> timestamp)</text>"
      ],
      "text/plain": [
       "<IPython.core.display.HTML object>"
      ]
     },
     "metadata": {},
     "output_type": "display_data"
    },
    {
     "name": "stdout",
     "output_type": "stream",
     "text": [
      "save\n"
     ]
    },
    {
     "name": "stderr",
     "output_type": "stream",
     "text": [
      "\r",
      " 50%|█████████████████████████████████████████▌                                         | 4/8 [45:00<45:03, 675.95s/it]"
     ]
    },
    {
     "name": "stdout",
     "output_type": "stream",
     "text": [
      "Total running time: 11.41 mn\n",
      "(1257, 131)\n"
     ]
    },
    {
     "name": "stderr",
     "output_type": "stream",
     "text": [
      "C:\\Users\\camil\\Desktop\\animals_code\\PhD-AnimalWelfare\\UTILS.py:3946: SettingWithCopyWarning: \n",
      "A value is trying to be set on a copy of a slice from a DataFrame\n",
      "\n",
      "See the caveats in the documentation: https://pandas.pydata.org/pandas-docs/stable/user_guide/indexing.html#returning-a-view-versus-a-copy\n",
      "  df.sort_values([timestamp_name], inplace=True)\n",
      "C:\\Users\\camil\\Desktop\\animals_code\\PhD-AnimalWelfare\\UTILS.py:3948: SettingWithCopyWarning: \n",
      "A value is trying to be set on a copy of a slice from a DataFrame.\n",
      "Try using .loc[row_indexer,col_indexer] = value instead\n",
      "\n",
      "See the caveats in the documentation: https://pandas.pydata.org/pandas-docs/stable/user_guide/indexing.html#returning-a-view-versus-a-copy\n",
      "  df[timestamp_name] = df[timestamp_name].map(lambda x: dt.datetime(x.year,x.month,x.day,x.hour,x.minute, x.second))\n"
     ]
    },
    {
     "name": "stdout",
     "output_type": "stream",
     "text": [
      "----------------- Create time serie\n",
      "in this time series there is 22 hens\n",
      "The initial starting date in over all is: 2020-11-13 01:30:49, and the ending date will be: 2021-01-11 23:58:54\n",
      "But note that birds may have different ending and starting date which should be taken into account when computing variables\n",
      "and after ending the last day at midnight : 2020-11-13 01:30:49, and the ending date will be: 2021-01-11 23:59:59\n",
      "Total running time: 1.36 mn\n",
      "your time series has 1 seconds between two timestamps\n",
      "----------------- main night zone and nbr of transitions over night....\n",
      "----------------- total duration per Zone in seconds....\n",
      "----------------- first timestamp in each zone per day....\n",
      "----------------- number of Zone (excluding nan)....\n",
      "----------------- compute some variables based on a list of zones over a day....\n",
      "----------------NESTBOX\n"
     ]
    },
    {
     "name": "stderr",
     "output_type": "stream",
     "text": [
      "\n",
      "  0%|                                                                                           | 0/22 [00:00<?, ?it/s]\u001b[A\n",
      "  9%|███████▌                                                                           | 2/22 [00:00<00:09,  2.16it/s]\u001b[A\n",
      " 14%|███████████▎                                                                       | 3/22 [00:01<00:09,  2.07it/s]\u001b[A\n",
      " 18%|███████████████                                                                    | 4/22 [00:01<00:07,  2.53it/s]\u001b[A\n",
      " 23%|██████████████████▊                                                                | 5/22 [00:02<00:07,  2.15it/s]\u001b[A\n",
      " 27%|██████████████████████▋                                                            | 6/22 [00:02<00:06,  2.59it/s]\u001b[A\n",
      " 32%|██████████████████████████▍                                                        | 7/22 [00:03<00:06,  2.20it/s]\u001b[A\n",
      " 36%|██████████████████████████████▏                                                    | 8/22 [00:03<00:06,  2.14it/s]\u001b[A\n",
      " 41%|█████████████████████████████████▉                                                 | 9/22 [00:03<00:05,  2.25it/s]\u001b[A\n",
      " 45%|█████████████████████████████████████▎                                            | 10/22 [00:04<00:05,  2.38it/s]\u001b[A\n",
      " 50%|█████████████████████████████████████████                                         | 11/22 [00:04<00:03,  2.79it/s]\u001b[A\n",
      " 55%|████████████████████████████████████████████▋                                     | 12/22 [00:04<00:02,  3.53it/s]\u001b[A\n",
      " 59%|████████████████████████████████████████████████▍                                 | 13/22 [00:05<00:03,  2.42it/s]\u001b[A\n",
      " 64%|████████████████████████████████████████████████████▏                             | 14/22 [00:05<00:02,  3.04it/s]\u001b[A\n",
      " 68%|███████████████████████████████████████████████████████▉                          | 15/22 [00:06<00:03,  2.26it/s]\u001b[A\n",
      " 73%|███████████████████████████████████████████████████████████▋                      | 16/22 [00:06<00:02,  2.45it/s]\u001b[A\n",
      " 77%|███████████████████████████████████████████████████████████████▎                  | 17/22 [00:06<00:01,  3.16it/s]\u001b[A\n",
      " 82%|███████████████████████████████████████████████████████████████████               | 18/22 [00:08<00:02,  1.56it/s]\u001b[A\n",
      " 86%|██████████████████████████████████████████████████████████████████████▊           | 19/22 [00:08<00:01,  1.97it/s]\u001b[A\n",
      " 91%|██████████████████████████████████████████████████████████████████████████▌       | 20/22 [00:08<00:00,  2.06it/s]\u001b[A\n",
      "100%|██████████████████████████████████████████████████████████████████████████████████| 22/22 [00:08<00:00,  2.45it/s]\u001b[A\n",
      "C:\\Users\\camil\\anaconda3\\lib\\site-packages\\numpy\\lib\\nanfunctions.py:1366: RuntimeWarning: Mean of empty slice\n",
      "  return np.nanmean(a, axis, out=out, keepdims=keepdims)\n"
     ]
    },
    {
     "name": "stdout",
     "output_type": "stream",
     "text": [
      "------------ add hen basics info\n",
      "From the focalBirdinfo, you have 158 ative tags\n",
      "(1287, 116)\n",
      "(1185, 118)\n",
      "-------------- Lets remove unwanted dates at PENS level\n"
     ]
    },
    {
     "data": {
      "text/html": [
       "<text style=color:black>By removing the unwanted days we passed from 1185 to 1090 timestamp (losing </text> <text style=color:red>95</text> <text style=color:black> timestamp)</text>"
      ],
      "text/plain": [
       "<IPython.core.display.HTML object>"
      ]
     },
     "metadata": {},
     "output_type": "display_data"
    },
    {
     "name": "stdout",
     "output_type": "stream",
     "text": [
      "All the night variables are:  Index(['HenID', 'night_level', 'night_Max_duration_zones',\n",
      "       'night_distribution_entropy', 'night_Total_number_transition',\n",
      "       'is_mvt_night', 'level', 'PenID', 'CLASS', 'R-Pen', 'InitialStartDate',\n",
      "       '29-09 weight', '10-12 juin weight', 'weight 23-11-2020',\n",
      "       'weight 04-01-2021', 'weight 01-02-21', 'weight 12-04-21', 'Treatment'],\n",
      "      dtype='object')\n",
      "['night_level']\n",
      "-------------- Lets remove dates of tags when they were not giving deviceupdate regularly\n"
     ]
    },
    {
     "data": {
      "text/html": [
       "<text style=color:black>By removing the unwanted days we passed from 1245 to 1245 timestamp (losing </text> <text style=color:red>0</text> <text style=color:black> timestamp)</text>"
      ],
      "text/plain": [
       "<IPython.core.display.HTML object>"
      ]
     },
     "metadata": {},
     "output_type": "display_data"
    },
    {
     "name": "stdout",
     "output_type": "stream",
     "text": [
      "-------------- Lets remove dates of tags when they were having more or equal than 10 times LFCOUNTER=0 a day\n"
     ]
    },
    {
     "data": {
      "text/html": [
       "<text style=color:black>By removing the unwanted days we passed from 1245 to 1245 timestamp (losing </text> <text style=color:red>0</text> <text style=color:black> timestamp)</text>"
      ],
      "text/plain": [
       "<IPython.core.display.HTML object>"
      ]
     },
     "metadata": {},
     "output_type": "display_data"
    },
    {
     "name": "stdout",
     "output_type": "stream",
     "text": [
      "-------------- Lets remove the 30.09.2020 for the tags taht still had no transition from before the light went on \n"
     ]
    },
    {
     "data": {
      "text/html": [
       "<text style=color:black>By removing the unwanted days we passed from 1245 to 1245 timestamp (losing </text> <text style=color:red>0</text> <text style=color:black> timestamp)</text>"
      ],
      "text/plain": [
       "<IPython.core.display.HTML object>"
      ]
     },
     "metadata": {},
     "output_type": "display_data"
    },
    {
     "name": "stdout",
     "output_type": "stream",
     "text": [
      "save\n"
     ]
    },
    {
     "name": "stderr",
     "output_type": "stream",
     "text": [
      "\r",
      " 62%|███████████████████████████████████████████████████▉                               | 5/8 [56:22<33:53, 677.77s/it]"
     ]
    },
    {
     "name": "stdout",
     "output_type": "stream",
     "text": [
      "Total running time: 11.35 mn\n",
      "(1245, 131)\n"
     ]
    },
    {
     "name": "stderr",
     "output_type": "stream",
     "text": [
      "C:\\Users\\camil\\Desktop\\animals_code\\PhD-AnimalWelfare\\UTILS.py:3946: SettingWithCopyWarning: \n",
      "A value is trying to be set on a copy of a slice from a DataFrame\n",
      "\n",
      "See the caveats in the documentation: https://pandas.pydata.org/pandas-docs/stable/user_guide/indexing.html#returning-a-view-versus-a-copy\n",
      "  df.sort_values([timestamp_name], inplace=True)\n",
      "C:\\Users\\camil\\Desktop\\animals_code\\PhD-AnimalWelfare\\UTILS.py:3948: SettingWithCopyWarning: \n",
      "A value is trying to be set on a copy of a slice from a DataFrame.\n",
      "Try using .loc[row_indexer,col_indexer] = value instead\n",
      "\n",
      "See the caveats in the documentation: https://pandas.pydata.org/pandas-docs/stable/user_guide/indexing.html#returning-a-view-versus-a-copy\n",
      "  df[timestamp_name] = df[timestamp_name].map(lambda x: dt.datetime(x.year,x.month,x.day,x.hour,x.minute, x.second))\n"
     ]
    },
    {
     "name": "stdout",
     "output_type": "stream",
     "text": [
      "----------------- Create time serie\n",
      "in this time series there is 23 hens\n",
      "The initial starting date in over all is: 2020-11-13 02:04:19, and the ending date will be: 2021-01-11 17:03:01\n",
      "But note that birds may have different ending and starting date which should be taken into account when computing variables\n",
      "and after ending the last day at midnight : 2020-11-13 02:04:19, and the ending date will be: 2021-01-11 23:59:59\n",
      "Total running time: 1.37 mn\n",
      "your time series has 1 seconds between two timestamps\n",
      "----------------- main night zone and nbr of transitions over night....\n",
      "----------------- total duration per Zone in seconds....\n",
      "----------------- first timestamp in each zone per day....\n",
      "----------------- number of Zone (excluding nan)....\n",
      "----------------- compute some variables based on a list of zones over a day....\n",
      "----------------NESTBOX\n"
     ]
    },
    {
     "name": "stderr",
     "output_type": "stream",
     "text": [
      "\n",
      "  0%|                                                                                           | 0/23 [00:00<?, ?it/s]\u001b[A\n",
      "  4%|███▌                                                                               | 1/23 [00:00<00:17,  1.27it/s]\u001b[A\n",
      "  9%|███████▏                                                                           | 2/23 [00:01<00:13,  1.52it/s]\u001b[A\n",
      " 13%|██████████▊                                                                        | 3/23 [00:01<00:11,  1.69it/s]\u001b[A\n",
      " 17%|██████████████▍                                                                    | 4/23 [00:02<00:10,  1.77it/s]\u001b[A\n",
      " 22%|██████████████████                                                                 | 5/23 [00:02<00:09,  1.90it/s]\u001b[A\n",
      " 26%|█████████████████████▋                                                             | 6/23 [00:02<00:08,  2.09it/s]\u001b[A\n",
      " 30%|█████████████████████████▎                                                         | 7/23 [00:03<00:07,  2.20it/s]\u001b[A\n",
      " 35%|████████████████████████████▊                                                      | 8/23 [00:03<00:06,  2.21it/s]\u001b[A\n",
      " 39%|████████████████████████████████▍                                                  | 9/23 [00:04<00:07,  1.80it/s]\u001b[A\n",
      " 43%|███████████████████████████████████▋                                              | 10/23 [00:05<00:06,  1.89it/s]\u001b[A\n",
      " 48%|███████████████████████████████████████▏                                          | 11/23 [00:05<00:05,  2.13it/s]\u001b[A\n",
      " 52%|██████████████████████████████████████████▊                                       | 12/23 [00:05<00:04,  2.50it/s]\u001b[A\n",
      " 61%|█████████████████████████████████████████████████▉                                | 14/23 [00:06<00:03,  2.69it/s]\u001b[A\n",
      " 65%|█████████████████████████████████████████████████████▍                            | 15/23 [00:06<00:02,  2.72it/s]\u001b[A\n",
      " 70%|█████████████████████████████████████████████████████████                         | 16/23 [00:06<00:02,  3.15it/s]\u001b[A\n",
      " 78%|████████████████████████████████████████████████████████████████▏                 | 18/23 [00:06<00:01,  4.12it/s]\u001b[A\n",
      " 87%|███████████████████████████████████████████████████████████████████████▎          | 20/23 [00:07<00:00,  3.81it/s]\u001b[A\n",
      " 91%|██████████████████████████████████████████████████████████████████████████▊       | 21/23 [00:07<00:00,  3.17it/s]\u001b[A\n",
      " 96%|██████████████████████████████████████████████████████████████████████████████▍   | 22/23 [00:08<00:00,  2.87it/s]\u001b[A\n",
      "100%|██████████████████████████████████████████████████████████████████████████████████| 23/23 [00:08<00:00,  2.68it/s]\u001b[A\n",
      "C:\\Users\\camil\\anaconda3\\lib\\site-packages\\numpy\\lib\\nanfunctions.py:1366: RuntimeWarning: Mean of empty slice\n",
      "  return np.nanmean(a, axis, out=out, keepdims=keepdims)\n"
     ]
    },
    {
     "name": "stdout",
     "output_type": "stream",
     "text": [
      "------------ add hen basics info\n",
      "From the focalBirdinfo, you have 158 ative tags\n",
      "(1347, 116)\n",
      "(1193, 118)\n",
      "-------------- Lets remove unwanted dates at PENS level\n"
     ]
    },
    {
     "data": {
      "text/html": [
       "<text style=color:black>By removing the unwanted days we passed from 1193 to 1137 timestamp (losing </text> <text style=color:red>56</text> <text style=color:black> timestamp)</text>"
      ],
      "text/plain": [
       "<IPython.core.display.HTML object>"
      ]
     },
     "metadata": {},
     "output_type": "display_data"
    },
    {
     "name": "stdout",
     "output_type": "stream",
     "text": [
      "All the night variables are:  Index(['HenID', 'night_level', 'night_Max_duration_zones',\n",
      "       'night_distribution_entropy', 'night_Total_number_transition',\n",
      "       'is_mvt_night', 'level', 'PenID', 'CLASS', 'R-Pen', 'InitialStartDate',\n",
      "       '29-09 weight', '10-12 juin weight', 'weight 23-11-2020',\n",
      "       'weight 04-01-2021', 'weight 01-02-21', 'weight 12-04-21', 'Treatment'],\n",
      "      dtype='object')\n",
      "['night_level']\n",
      "-------------- Lets remove dates of tags when they were not giving deviceupdate regularly\n"
     ]
    },
    {
     "data": {
      "text/html": [
       "<text style=color:black>By removing the unwanted days we passed from 1304 to 1302 timestamp (losing </text> <text style=color:red>2</text> <text style=color:black> timestamp)</text>"
      ],
      "text/plain": [
       "<IPython.core.display.HTML object>"
      ]
     },
     "metadata": {},
     "output_type": "display_data"
    },
    {
     "name": "stdout",
     "output_type": "stream",
     "text": [
      "-------------- Lets remove dates of tags when they were having more or equal than 10 times LFCOUNTER=0 a day\n"
     ]
    },
    {
     "data": {
      "text/html": [
       "<text style=color:black>By removing the unwanted days we passed from 1302 to 1302 timestamp (losing </text> <text style=color:red>0</text> <text style=color:black> timestamp)</text>"
      ],
      "text/plain": [
       "<IPython.core.display.HTML object>"
      ]
     },
     "metadata": {},
     "output_type": "display_data"
    },
    {
     "name": "stdout",
     "output_type": "stream",
     "text": [
      "-------------- Lets remove the 30.09.2020 for the tags taht still had no transition from before the light went on \n"
     ]
    },
    {
     "data": {
      "text/html": [
       "<text style=color:black>By removing the unwanted days we passed from 1302 to 1302 timestamp (losing </text> <text style=color:red>0</text> <text style=color:black> timestamp)</text>"
      ],
      "text/plain": [
       "<IPython.core.display.HTML object>"
      ]
     },
     "metadata": {},
     "output_type": "display_data"
    },
    {
     "name": "stdout",
     "output_type": "stream",
     "text": [
      "save\n"
     ]
    },
    {
     "name": "stderr",
     "output_type": "stream",
     "text": [
      "\r",
      " 75%|████████████████████████████████████████████████████████████▊                    | 6/8 [1:08:12<22:54, 687.49s/it]"
     ]
    },
    {
     "name": "stdout",
     "output_type": "stream",
     "text": [
      "Total running time: 11.81 mn\n",
      "(1302, 131)\n"
     ]
    },
    {
     "name": "stderr",
     "output_type": "stream",
     "text": [
      "C:\\Users\\camil\\Desktop\\animals_code\\PhD-AnimalWelfare\\UTILS.py:3946: SettingWithCopyWarning: \n",
      "A value is trying to be set on a copy of a slice from a DataFrame\n",
      "\n",
      "See the caveats in the documentation: https://pandas.pydata.org/pandas-docs/stable/user_guide/indexing.html#returning-a-view-versus-a-copy\n",
      "  df.sort_values([timestamp_name], inplace=True)\n",
      "C:\\Users\\camil\\Desktop\\animals_code\\PhD-AnimalWelfare\\UTILS.py:3948: SettingWithCopyWarning: \n",
      "A value is trying to be set on a copy of a slice from a DataFrame.\n",
      "Try using .loc[row_indexer,col_indexer] = value instead\n",
      "\n",
      "See the caveats in the documentation: https://pandas.pydata.org/pandas-docs/stable/user_guide/indexing.html#returning-a-view-versus-a-copy\n",
      "  df[timestamp_name] = df[timestamp_name].map(lambda x: dt.datetime(x.year,x.month,x.day,x.hour,x.minute, x.second))\n"
     ]
    },
    {
     "name": "stdout",
     "output_type": "stream",
     "text": [
      "----------------- Create time serie\n",
      "in this time series there is 22 hens\n",
      "The initial starting date in over all is: 2020-11-13 02:04:24, and the ending date will be: 2021-01-11 18:34:55\n",
      "But note that birds may have different ending and starting date which should be taken into account when computing variables\n",
      "and after ending the last day at midnight : 2020-11-13 02:04:24, and the ending date will be: 2021-01-11 23:59:59\n",
      "Total running time: 1.37 mn\n",
      "your time series has 1 seconds between two timestamps\n",
      "----------------- main night zone and nbr of transitions over night....\n",
      "----------------- total duration per Zone in seconds....\n",
      "----------------- first timestamp in each zone per day....\n",
      "----------------- number of Zone (excluding nan)....\n",
      "----------------- compute some variables based on a list of zones over a day....\n",
      "several max-duration-zone\n",
      "----------------NESTBOX\n"
     ]
    },
    {
     "name": "stderr",
     "output_type": "stream",
     "text": [
      "\n",
      "  0%|                                                                                           | 0/22 [00:00<?, ?it/s]\u001b[A\n",
      "  5%|███▊                                                                               | 1/22 [00:00<00:12,  1.71it/s]\u001b[A\n",
      "  9%|███████▌                                                                           | 2/22 [00:00<00:09,  2.00it/s]\u001b[A\n",
      " 14%|███████████▎                                                                       | 3/22 [00:01<00:09,  2.02it/s]\u001b[A\n",
      " 18%|███████████████                                                                    | 4/22 [00:01<00:07,  2.52it/s]\u001b[A\n",
      " 23%|██████████████████▊                                                                | 5/22 [00:02<00:08,  2.12it/s]\u001b[A\n",
      " 27%|██████████████████████▋                                                            | 6/22 [00:02<00:06,  2.37it/s]\u001b[A\n",
      " 32%|██████████████████████████▍                                                        | 7/22 [00:02<00:06,  2.37it/s]\u001b[A\n",
      " 36%|██████████████████████████████▏                                                    | 8/22 [00:03<00:04,  2.83it/s]\u001b[A\n",
      " 41%|█████████████████████████████████▉                                                 | 9/22 [00:03<00:03,  3.47it/s]\u001b[A\n",
      " 45%|█████████████████████████████████████▎                                            | 10/22 [00:03<00:04,  2.71it/s]\u001b[A\n",
      " 50%|█████████████████████████████████████████                                         | 11/22 [00:04<00:04,  2.58it/s]\u001b[A\n",
      " 55%|████████████████████████████████████████████▋                                     | 12/22 [00:04<00:03,  3.23it/s]\u001b[A\n",
      " 64%|████████████████████████████████████████████████████▏                             | 14/22 [00:04<00:02,  3.57it/s]\u001b[A\n",
      " 68%|███████████████████████████████████████████████████████▉                          | 15/22 [00:05<00:02,  2.47it/s]\u001b[A\n",
      " 73%|███████████████████████████████████████████████████████████▋                      | 16/22 [00:05<00:02,  2.95it/s]\u001b[A\n",
      " 77%|███████████████████████████████████████████████████████████████▎                  | 17/22 [00:05<00:01,  3.01it/s]\u001b[A\n",
      " 82%|███████████████████████████████████████████████████████████████████               | 18/22 [00:06<00:01,  2.61it/s]\u001b[A\n",
      " 86%|██████████████████████████████████████████████████████████████████████▊           | 19/22 [00:07<00:01,  1.90it/s]\u001b[A\n",
      " 91%|██████████████████████████████████████████████████████████████████████████▌       | 20/22 [00:07<00:00,  2.03it/s]\u001b[A\n",
      "100%|██████████████████████████████████████████████████████████████████████████████████| 22/22 [00:08<00:00,  2.73it/s]\u001b[A\n",
      "C:\\Users\\camil\\anaconda3\\lib\\site-packages\\numpy\\lib\\nanfunctions.py:1366: RuntimeWarning: Mean of empty slice\n",
      "  return np.nanmean(a, axis, out=out, keepdims=keepdims)\n"
     ]
    },
    {
     "name": "stdout",
     "output_type": "stream",
     "text": [
      "------------ add hen basics info\n",
      "From the focalBirdinfo, you have 158 ative tags\n",
      "(1298, 116)\n",
      "(1197, 118)\n",
      "-------------- Lets remove unwanted dates at PENS level\n"
     ]
    },
    {
     "data": {
      "text/html": [
       "<text style=color:black>By removing the unwanted days we passed from 1197 to 1140 timestamp (losing </text> <text style=color:red>57</text> <text style=color:black> timestamp)</text>"
      ],
      "text/plain": [
       "<IPython.core.display.HTML object>"
      ]
     },
     "metadata": {},
     "output_type": "display_data"
    },
    {
     "name": "stdout",
     "output_type": "stream",
     "text": [
      "All the night variables are:  Index(['HenID', 'night_level', 'night_Max_duration_zones',\n",
      "       'night_distribution_entropy', 'night_Total_number_transition',\n",
      "       'is_mvt_night', 'level', 'PenID', 'CLASS', 'R-Pen', 'InitialStartDate',\n",
      "       '29-09 weight', '10-12 juin weight', 'weight 23-11-2020',\n",
      "       'weight 04-01-2021', 'weight 01-02-21', 'weight 12-04-21', 'Treatment'],\n",
      "      dtype='object')\n",
      "['night_level']\n",
      "-------------- Lets remove dates of tags when they were not giving deviceupdate regularly\n"
     ]
    },
    {
     "data": {
      "text/html": [
       "<text style=color:black>By removing the unwanted days we passed from 1256 to 1256 timestamp (losing </text> <text style=color:red>0</text> <text style=color:black> timestamp)</text>"
      ],
      "text/plain": [
       "<IPython.core.display.HTML object>"
      ]
     },
     "metadata": {},
     "output_type": "display_data"
    },
    {
     "name": "stdout",
     "output_type": "stream",
     "text": [
      "-------------- Lets remove dates of tags when they were having more or equal than 10 times LFCOUNTER=0 a day\n"
     ]
    },
    {
     "data": {
      "text/html": [
       "<text style=color:black>By removing the unwanted days we passed from 1256 to 1256 timestamp (losing </text> <text style=color:red>0</text> <text style=color:black> timestamp)</text>"
      ],
      "text/plain": [
       "<IPython.core.display.HTML object>"
      ]
     },
     "metadata": {},
     "output_type": "display_data"
    },
    {
     "name": "stdout",
     "output_type": "stream",
     "text": [
      "-------------- Lets remove the 30.09.2020 for the tags taht still had no transition from before the light went on \n"
     ]
    },
    {
     "data": {
      "text/html": [
       "<text style=color:black>By removing the unwanted days we passed from 1256 to 1256 timestamp (losing </text> <text style=color:red>0</text> <text style=color:black> timestamp)</text>"
      ],
      "text/plain": [
       "<IPython.core.display.HTML object>"
      ]
     },
     "metadata": {},
     "output_type": "display_data"
    },
    {
     "name": "stdout",
     "output_type": "stream",
     "text": [
      "save\n"
     ]
    },
    {
     "name": "stderr",
     "output_type": "stream",
     "text": [
      "\r",
      " 88%|██████████████████████████████████████████████████████████████████████▉          | 7/8 [1:19:46<11:29, 689.29s/it]"
     ]
    },
    {
     "name": "stdout",
     "output_type": "stream",
     "text": [
      "Total running time: 11.53 mn\n",
      "(1256, 131)\n"
     ]
    },
    {
     "name": "stderr",
     "output_type": "stream",
     "text": [
      "C:\\Users\\camil\\Desktop\\animals_code\\PhD-AnimalWelfare\\UTILS.py:3946: SettingWithCopyWarning: \n",
      "A value is trying to be set on a copy of a slice from a DataFrame\n",
      "\n",
      "See the caveats in the documentation: https://pandas.pydata.org/pandas-docs/stable/user_guide/indexing.html#returning-a-view-versus-a-copy\n",
      "  df.sort_values([timestamp_name], inplace=True)\n",
      "C:\\Users\\camil\\Desktop\\animals_code\\PhD-AnimalWelfare\\UTILS.py:3948: SettingWithCopyWarning: \n",
      "A value is trying to be set on a copy of a slice from a DataFrame.\n",
      "Try using .loc[row_indexer,col_indexer] = value instead\n",
      "\n",
      "See the caveats in the documentation: https://pandas.pydata.org/pandas-docs/stable/user_guide/indexing.html#returning-a-view-versus-a-copy\n",
      "  df[timestamp_name] = df[timestamp_name].map(lambda x: dt.datetime(x.year,x.month,x.day,x.hour,x.minute, x.second))\n"
     ]
    },
    {
     "name": "stdout",
     "output_type": "stream",
     "text": [
      "----------------- Create time serie\n",
      "in this time series there is 22 hens\n",
      "The initial starting date in over all is: 2020-11-13 02:04:45, and the ending date will be: 2021-01-11 23:44:55\n",
      "But note that birds may have different ending and starting date which should be taken into account when computing variables\n",
      "and after ending the last day at midnight : 2020-11-13 02:04:45, and the ending date will be: 2021-01-11 23:59:59\n",
      "Total running time: 1.39 mn\n",
      "your time series has 1 seconds between two timestamps\n",
      "----------------- main night zone and nbr of transitions over night....\n",
      "----------------- total duration per Zone in seconds....\n",
      "----------------- first timestamp in each zone per day....\n",
      "----------------- number of Zone (excluding nan)....\n",
      "----------------- compute some variables based on a list of zones over a day....\n",
      "----------------NESTBOX\n"
     ]
    },
    {
     "name": "stderr",
     "output_type": "stream",
     "text": [
      "\n",
      "  0%|                                                                                           | 0/22 [00:00<?, ?it/s]\u001b[A\n",
      "  5%|███▊                                                                               | 1/22 [00:00<00:02,  8.15it/s]\u001b[A\n",
      " 18%|███████████████                                                                    | 4/22 [00:01<00:03,  5.23it/s]\u001b[A\n",
      " 23%|██████████████████▊                                                                | 5/22 [00:01<00:04,  4.19it/s]\u001b[A\n",
      " 32%|██████████████████████████▍                                                        | 7/22 [00:01<00:03,  4.44it/s]\u001b[A\n",
      " 36%|██████████████████████████████▏                                                    | 8/22 [00:02<00:02,  4.76it/s]\u001b[A\n",
      " 41%|█████████████████████████████████▉                                                 | 9/22 [00:02<00:02,  5.47it/s]\u001b[A\n",
      " 45%|█████████████████████████████████████▎                                            | 10/22 [00:02<00:02,  5.69it/s]\u001b[A\n",
      " 50%|█████████████████████████████████████████                                         | 11/22 [00:02<00:01,  6.46it/s]\u001b[A\n",
      " 55%|████████████████████████████████████████████▋                                     | 12/22 [00:02<00:02,  4.55it/s]\u001b[A\n",
      " 59%|████████████████████████████████████████████████▍                                 | 13/22 [00:03<00:02,  4.22it/s]\u001b[A\n",
      " 64%|████████████████████████████████████████████████████▏                             | 14/22 [00:03<00:02,  3.32it/s]\u001b[A\n",
      " 68%|███████████████████████████████████████████████████████▉                          | 15/22 [00:03<00:02,  3.26it/s]\u001b[A\n",
      " 73%|███████████████████████████████████████████████████████████▋                      | 16/22 [00:04<00:01,  3.74it/s]\u001b[A\n",
      " 82%|███████████████████████████████████████████████████████████████████               | 18/22 [00:04<00:01,  3.87it/s]\u001b[A\n",
      " 86%|██████████████████████████████████████████████████████████████████████▊           | 19/22 [00:04<00:00,  3.98it/s]\u001b[A\n",
      " 91%|██████████████████████████████████████████████████████████████████████████▌       | 20/22 [00:05<00:00,  3.64it/s]\u001b[A\n",
      " 95%|██████████████████████████████████████████████████████████████████████████████▎   | 21/22 [00:05<00:00,  3.82it/s]\u001b[A\n",
      "100%|██████████████████████████████████████████████████████████████████████████████████| 22/22 [00:05<00:00,  4.03it/s]\u001b[A\n",
      "C:\\Users\\camil\\anaconda3\\lib\\site-packages\\numpy\\lib\\nanfunctions.py:1366: RuntimeWarning: Mean of empty slice\n",
      "  return np.nanmean(a, axis, out=out, keepdims=keepdims)\n"
     ]
    },
    {
     "name": "stdout",
     "output_type": "stream",
     "text": [
      "------------ add hen basics info\n",
      "From the focalBirdinfo, you have 158 ative tags\n",
      "(1298, 116)\n",
      "(1197, 118)\n",
      "-------------- Lets remove unwanted dates at PENS level\n"
     ]
    },
    {
     "data": {
      "text/html": [
       "<text style=color:black>By removing the unwanted days we passed from 1197 to 1100 timestamp (losing </text> <text style=color:red>97</text> <text style=color:black> timestamp)</text>"
      ],
      "text/plain": [
       "<IPython.core.display.HTML object>"
      ]
     },
     "metadata": {},
     "output_type": "display_data"
    },
    {
     "name": "stdout",
     "output_type": "stream",
     "text": [
      "All the night variables are:  Index(['HenID', 'night_level', 'night_Max_duration_zones',\n",
      "       'night_distribution_entropy', 'night_Total_number_transition',\n",
      "       'is_mvt_night', 'level', 'PenID', 'CLASS', 'R-Pen', 'InitialStartDate',\n",
      "       '29-09 weight', '10-12 juin weight', 'weight 23-11-2020',\n",
      "       'weight 04-01-2021', 'weight 01-02-21', 'weight 12-04-21', 'Treatment'],\n",
      "      dtype='object')\n",
      "['night_level']\n",
      "-------------- Lets remove dates of tags when they were not giving deviceupdate regularly\n"
     ]
    },
    {
     "data": {
      "text/html": [
       "<text style=color:black>By removing the unwanted days we passed from 1254 to 1254 timestamp (losing </text> <text style=color:red>0</text> <text style=color:black> timestamp)</text>"
      ],
      "text/plain": [
       "<IPython.core.display.HTML object>"
      ]
     },
     "metadata": {},
     "output_type": "display_data"
    },
    {
     "name": "stdout",
     "output_type": "stream",
     "text": [
      "-------------- Lets remove dates of tags when they were having more or equal than 10 times LFCOUNTER=0 a day\n"
     ]
    },
    {
     "data": {
      "text/html": [
       "<text style=color:black>By removing the unwanted days we passed from 1254 to 1254 timestamp (losing </text> <text style=color:red>0</text> <text style=color:black> timestamp)</text>"
      ],
      "text/plain": [
       "<IPython.core.display.HTML object>"
      ]
     },
     "metadata": {},
     "output_type": "display_data"
    },
    {
     "name": "stdout",
     "output_type": "stream",
     "text": [
      "-------------- Lets remove the 30.09.2020 for the tags taht still had no transition from before the light went on \n"
     ]
    },
    {
     "data": {
      "text/html": [
       "<text style=color:black>By removing the unwanted days we passed from 1254 to 1254 timestamp (losing </text> <text style=color:red>0</text> <text style=color:black> timestamp)</text>"
      ],
      "text/plain": [
       "<IPython.core.display.HTML object>"
      ]
     },
     "metadata": {},
     "output_type": "display_data"
    },
    {
     "name": "stdout",
     "output_type": "stream",
     "text": [
      "save\n"
     ]
    },
    {
     "name": "stderr",
     "output_type": "stream",
     "text": [
      "100%|█████████████████████████████████████████████████████████████████████████████████| 8/8 [1:29:00<00:00, 667.56s/it]\n",
      "  0%|                                                                                            | 0/8 [00:00<?, ?it/s]"
     ]
    },
    {
     "name": "stdout",
     "output_type": "stream",
     "text": [
      "Total running time: 9.22 mn\n",
      "(1254, 131)\n",
      "Total running time: 89.01 mn\n"
     ]
    },
    {
     "name": "stderr",
     "output_type": "stream",
     "text": [
      "\r",
      " 12%|██████████▌                                                                         | 1/8 [00:04<00:31,  4.51s/it]"
     ]
    },
    {
     "name": "stdout",
     "output_type": "stream",
     "text": [
      "(1256, 131)\n"
     ]
    },
    {
     "name": "stderr",
     "output_type": "stream",
     "text": [
      "\r",
      " 25%|█████████████████████                                                               | 2/8 [00:08<00:26,  4.38s/it]"
     ]
    },
    {
     "name": "stdout",
     "output_type": "stream",
     "text": [
      "(1257, 131)\n"
     ]
    },
    {
     "name": "stderr",
     "output_type": "stream",
     "text": [
      "\r",
      " 38%|███████████████████████████████▌                                                    | 3/8 [00:13<00:23,  4.61s/it]"
     ]
    },
    {
     "name": "stdout",
     "output_type": "stream",
     "text": [
      "(1302, 131)\n"
     ]
    },
    {
     "name": "stderr",
     "output_type": "stream",
     "text": [
      "\r",
      " 50%|██████████████████████████████████████████                                          | 4/8 [00:17<00:16,  4.23s/it]"
     ]
    },
    {
     "name": "stdout",
     "output_type": "stream",
     "text": [
      "(1254, 131)\n"
     ]
    },
    {
     "name": "stderr",
     "output_type": "stream",
     "text": [
      "\r",
      " 62%|████████████████████████████████████████████████████▌                               | 5/8 [00:21<00:12,  4.19s/it]"
     ]
    },
    {
     "name": "stdout",
     "output_type": "stream",
     "text": [
      "(1259, 131)\n"
     ]
    },
    {
     "name": "stderr",
     "output_type": "stream",
     "text": [
      "\r",
      " 75%|███████████████████████████████████████████████████████████████                     | 6/8 [00:25<00:08,  4.31s/it]"
     ]
    },
    {
     "name": "stdout",
     "output_type": "stream",
     "text": [
      "(1245, 131)\n"
     ]
    },
    {
     "name": "stderr",
     "output_type": "stream",
     "text": [
      "\r",
      " 88%|█████████████████████████████████████████████████████████████████████████▌          | 7/8 [00:31<00:04,  4.75s/it]"
     ]
    },
    {
     "name": "stdout",
     "output_type": "stream",
     "text": [
      "(1166, 131)\n"
     ]
    },
    {
     "name": "stderr",
     "output_type": "stream",
     "text": [
      "100%|████████████████████████████████████████████████████████████████████████████████████| 8/8 [00:36<00:00,  4.52s/it]"
     ]
    },
    {
     "name": "stdout",
     "output_type": "stream",
     "text": [
      "(1257, 131)\n"
     ]
    },
    {
     "name": "stderr",
     "output_type": "stream",
     "text": [
      "\n"
     ]
    },
    {
     "name": "stdout",
     "output_type": "stream",
     "text": [
      "(9996, 131)\n"
     ]
    },
    {
     "data": {
      "text/html": [
       "<div>\n",
       "<style scoped>\n",
       "    .dataframe tbody tr th:only-of-type {\n",
       "        vertical-align: middle;\n",
       "    }\n",
       "\n",
       "    .dataframe tbody tr th {\n",
       "        vertical-align: top;\n",
       "    }\n",
       "\n",
       "    .dataframe thead th {\n",
       "        text-align: right;\n",
       "    }\n",
       "</style>\n",
       "<table border=\"1\" class=\"dataframe\">\n",
       "  <thead>\n",
       "    <tr style=\"text-align: right;\">\n",
       "      <th></th>\n",
       "      <th>HenID</th>\n",
       "      <th>level</th>\n",
       "      <th>duration_1_Zone</th>\n",
       "      <th>duration_2_Zone</th>\n",
       "      <th>duration_3_Zone</th>\n",
       "      <th>duration_4_Zone</th>\n",
       "      <th>duration_5_Zone</th>\n",
       "      <th>verification_daily_total_duration</th>\n",
       "      <th>dur_values</th>\n",
       "      <th>dur_values_normalized</th>\n",
       "      <th>...</th>\n",
       "      <th>list_of_night20_2_temperature</th>\n",
       "      <th>nbr_temperature_nnnan</th>\n",
       "      <th>temperature_night20_2_median</th>\n",
       "      <th>temperature_night20_2_max</th>\n",
       "      <th>temperature_night20_2_var</th>\n",
       "      <th>list_of_MovementCounter_day</th>\n",
       "      <th>len_MovementCounter_day</th>\n",
       "      <th>MovementCounter_day_amount_nnactivity</th>\n",
       "      <th>MovementCounter_day_max</th>\n",
       "      <th>MovementCounter_day_mean</th>\n",
       "    </tr>\n",
       "  </thead>\n",
       "  <tbody>\n",
       "    <tr>\n",
       "      <th>0</th>\n",
       "      <td>hen_131</td>\n",
       "      <td>2020-11-13</td>\n",
       "      <td>0.0</td>\n",
       "      <td>15863.0</td>\n",
       "      <td>25684.0</td>\n",
       "      <td>2138.0</td>\n",
       "      <td>9878.0</td>\n",
       "      <td>53563.0</td>\n",
       "      <td>[0.0, 15863.0, 25684.0, 2138.0, 9878.0]</td>\n",
       "      <td>[0.0, 0.2961559285327558, 0.4795101095905756, ...</td>\n",
       "      <td>...</td>\n",
       "      <td>[28.0, 28.0, 28.0, 28.0, 28.0, 28.0, 28.0, 28....</td>\n",
       "      <td>36.0</td>\n",
       "      <td>28.0</td>\n",
       "      <td>29.0</td>\n",
       "      <td>0.222222</td>\n",
       "      <td>[3.0, 63.0, 70.0, 39.0, 51.0, 41.0, 30.0, 43.0...</td>\n",
       "      <td>90.0</td>\n",
       "      <td>0.033333</td>\n",
       "      <td>97.0</td>\n",
       "      <td>54.577778</td>\n",
       "    </tr>\n",
       "    <tr>\n",
       "      <th>1</th>\n",
       "      <td>hen_131</td>\n",
       "      <td>2020-11-14</td>\n",
       "      <td>412.0</td>\n",
       "      <td>17042.0</td>\n",
       "      <td>23717.0</td>\n",
       "      <td>2512.0</td>\n",
       "      <td>10317.0</td>\n",
       "      <td>54000.0</td>\n",
       "      <td>[412.0, 17042.0, 23717.0, 2512.0, 10317.0]</td>\n",
       "      <td>[0.0076296296296296294, 0.3155925925925926, 0....</td>\n",
       "      <td>...</td>\n",
       "      <td>[28.0, 28.0, 28.0, 28.0, 27.0, 28.0, 27.0, 27....</td>\n",
       "      <td>36.0</td>\n",
       "      <td>26.0</td>\n",
       "      <td>28.0</td>\n",
       "      <td>0.750000</td>\n",
       "      <td>[14.0, 69.0, 47.0, 79.0, 50.0, 46.0, 64.0, 75....</td>\n",
       "      <td>90.0</td>\n",
       "      <td>0.011111</td>\n",
       "      <td>95.0</td>\n",
       "      <td>59.077778</td>\n",
       "    </tr>\n",
       "    <tr>\n",
       "      <th>2</th>\n",
       "      <td>hen_131</td>\n",
       "      <td>2020-11-15</td>\n",
       "      <td>0.0</td>\n",
       "      <td>16522.0</td>\n",
       "      <td>28734.0</td>\n",
       "      <td>2187.0</td>\n",
       "      <td>6557.0</td>\n",
       "      <td>54000.0</td>\n",
       "      <td>[0.0, 16522.0, 28734.0, 2187.0, 6557.0]</td>\n",
       "      <td>[0.0, 0.30596296296296294, 0.5321111111111111,...</td>\n",
       "      <td>...</td>\n",
       "      <td>[28.0, 28.0, 28.0, 28.0, 28.0, 28.0, 28.0, 28....</td>\n",
       "      <td>36.0</td>\n",
       "      <td>28.0</td>\n",
       "      <td>29.0</td>\n",
       "      <td>0.098765</td>\n",
       "      <td>[16.0, 70.0, 57.0, 55.0, 60.0, 65.0, 73.0, 73....</td>\n",
       "      <td>90.0</td>\n",
       "      <td>0.033333</td>\n",
       "      <td>91.0</td>\n",
       "      <td>57.922222</td>\n",
       "    </tr>\n",
       "  </tbody>\n",
       "</table>\n",
       "<p>3 rows × 131 columns</p>\n",
       "</div>"
      ],
      "text/plain": [
       "     HenID      level  duration_1_Zone  duration_2_Zone  duration_3_Zone  \\\n",
       "0  hen_131 2020-11-13              0.0          15863.0          25684.0   \n",
       "1  hen_131 2020-11-14            412.0          17042.0          23717.0   \n",
       "2  hen_131 2020-11-15              0.0          16522.0          28734.0   \n",
       "\n",
       "   duration_4_Zone  duration_5_Zone  verification_daily_total_duration  \\\n",
       "0           2138.0           9878.0                            53563.0   \n",
       "1           2512.0          10317.0                            54000.0   \n",
       "2           2187.0           6557.0                            54000.0   \n",
       "\n",
       "                                   dur_values  \\\n",
       "0     [0.0, 15863.0, 25684.0, 2138.0, 9878.0]   \n",
       "1  [412.0, 17042.0, 23717.0, 2512.0, 10317.0]   \n",
       "2     [0.0, 16522.0, 28734.0, 2187.0, 6557.0]   \n",
       "\n",
       "                               dur_values_normalized  ...  \\\n",
       "0  [0.0, 0.2961559285327558, 0.4795101095905756, ...  ...   \n",
       "1  [0.0076296296296296294, 0.3155925925925926, 0....  ...   \n",
       "2  [0.0, 0.30596296296296294, 0.5321111111111111,...  ...   \n",
       "\n",
       "                       list_of_night20_2_temperature nbr_temperature_nnnan  \\\n",
       "0  [28.0, 28.0, 28.0, 28.0, 28.0, 28.0, 28.0, 28....                  36.0   \n",
       "1  [28.0, 28.0, 28.0, 28.0, 27.0, 28.0, 27.0, 27....                  36.0   \n",
       "2  [28.0, 28.0, 28.0, 28.0, 28.0, 28.0, 28.0, 28....                  36.0   \n",
       "\n",
       "  temperature_night20_2_median temperature_night20_2_max  \\\n",
       "0                         28.0                      29.0   \n",
       "1                         26.0                      28.0   \n",
       "2                         28.0                      29.0   \n",
       "\n",
       "  temperature_night20_2_var  \\\n",
       "0                  0.222222   \n",
       "1                  0.750000   \n",
       "2                  0.098765   \n",
       "\n",
       "                         list_of_MovementCounter_day len_MovementCounter_day  \\\n",
       "0  [3.0, 63.0, 70.0, 39.0, 51.0, 41.0, 30.0, 43.0...                    90.0   \n",
       "1  [14.0, 69.0, 47.0, 79.0, 50.0, 46.0, 64.0, 75....                    90.0   \n",
       "2  [16.0, 70.0, 57.0, 55.0, 60.0, 65.0, 73.0, 73....                    90.0   \n",
       "\n",
       "  MovementCounter_day_amount_nnactivity MovementCounter_day_max  \\\n",
       "0                              0.033333                    97.0   \n",
       "1                              0.011111                    95.0   \n",
       "2                              0.033333                    91.0   \n",
       "\n",
       "  MovementCounter_day_mean  \n",
       "0                54.577778  \n",
       "1                59.077778  \n",
       "2                57.922222  \n",
       "\n",
       "[3 rows x 131 columns]"
      ]
     },
     "execution_count": 7,
     "metadata": {},
     "output_type": "execute_result"
    }
   ],
   "source": [
    "############## raw dataset\n",
    "#open time series per session and compute the variables for each session (car time series make sence at session level), et en \n",
    "#plus des variables tel que running entropy over the whole session ateach last timestamp of each level make sence only at \n",
    "#session level\n",
    "#once to much data, do this per pen!!! with name=pens!!\n",
    "START_TIME = time.perf_counter()\n",
    "for p in tqdm.tqdm(df['PenID'].unique()):\n",
    "    df_daily = HenDailyVariable_Origins(df[df['PenID']==p], config, name_='RAW_'+name_method+p, timestamp_name='Timestamp',\n",
    "                                       has_cons_equal_zone=True)\n",
    "    print(df_daily.shape)\n",
    "    df_daily.head(3)\n",
    "END_TIME = time.perf_counter()\n",
    "print (\"Total running time: %.2f mn\" %((END_TIME-START_TIME)/60))  \n",
    "\n",
    "#Concatenate all HenVariables csv into one\n",
    "li_paths_var = glob.glob(os.path.join(path_extracted_data, id_run+'_daily__RAW_'+name_method+'*_variables.csv'))\n",
    "li_df = []\n",
    "for path_var in tqdm.tqdm(li_paths_var):\n",
    "    #for being more reproductible, we open the file that was saved from cleaning\n",
    "    df_ = pd.read_csv(path_var, sep=';',parse_dates=['level', 'FirstTimestamp_1_Zone', 'FirstTimestamp_2_Zone', \n",
    "                                                     'FirstTimestamp_3_Zone','FirstTimestamp_4_Zone',\n",
    "                                                     'FirstTimestamp_5_Zone']) \n",
    "    print(df_.shape)\n",
    "    li_df.append(df_)\n",
    "df_daily = pd.concat(li_df)\n",
    "df_daily.to_csv(os.path.join(path_extracted_data, id_run+name_method+'_daily_RAW_ALL_variables.csv'), sep=';', index=False)\n",
    "print(df_daily.shape)\n",
    "df_daily.head(3)"
   ]
  },
  {
   "cell_type": "code",
   "execution_count": 8,
   "metadata": {},
   "outputs": [
    {
     "name": "stderr",
     "output_type": "stream",
     "text": [
      "C:\\Users\\camil\\anaconda3\\lib\\site-packages\\ipykernel\\ipkernel.py:283: DeprecationWarning: `should_run_async` will not call `transform_cell` automatically in the future. Please pass the result to `transformed_cell` argument and any exception that happen during thetransform in `preprocessing_exc_tuple` in IPython 7.17 and above.\n",
      "  and should_run_async(code)\n"
     ]
    },
    {
     "name": "stdout",
     "output_type": "stream",
     "text": [
      "(9996, 132) (9996, 132) (19992, 132)\n",
      "(19992, 132)\n"
     ]
    },
    {
     "data": {
      "text/html": [
       "<div>\n",
       "<style scoped>\n",
       "    .dataframe tbody tr th:only-of-type {\n",
       "        vertical-align: middle;\n",
       "    }\n",
       "\n",
       "    .dataframe tbody tr th {\n",
       "        vertical-align: top;\n",
       "    }\n",
       "\n",
       "    .dataframe thead th {\n",
       "        text-align: right;\n",
       "    }\n",
       "</style>\n",
       "<table border=\"1\" class=\"dataframe\">\n",
       "  <thead>\n",
       "    <tr style=\"text-align: right;\">\n",
       "      <th></th>\n",
       "      <th>HenID</th>\n",
       "      <th>level</th>\n",
       "      <th>duration_1_Zone</th>\n",
       "      <th>duration_2_Zone</th>\n",
       "      <th>duration_3_Zone</th>\n",
       "      <th>duration_4_Zone</th>\n",
       "      <th>duration_5_Zone</th>\n",
       "      <th>verification_daily_total_duration</th>\n",
       "      <th>dur_values</th>\n",
       "      <th>dur_values_normalized</th>\n",
       "      <th>...</th>\n",
       "      <th>nbr_temperature_nnnan</th>\n",
       "      <th>temperature_night20_2_median</th>\n",
       "      <th>temperature_night20_2_max</th>\n",
       "      <th>temperature_night20_2_var</th>\n",
       "      <th>list_of_MovementCounter_day</th>\n",
       "      <th>len_MovementCounter_day</th>\n",
       "      <th>MovementCounter_day_amount_nnactivity</th>\n",
       "      <th>MovementCounter_day_max</th>\n",
       "      <th>MovementCounter_day_mean</th>\n",
       "      <th>type</th>\n",
       "    </tr>\n",
       "  </thead>\n",
       "  <tbody>\n",
       "    <tr>\n",
       "      <th>0</th>\n",
       "      <td>hen_131</td>\n",
       "      <td>2020-11-13</td>\n",
       "      <td>0.0</td>\n",
       "      <td>15914.0</td>\n",
       "      <td>25666.0</td>\n",
       "      <td>2138.0</td>\n",
       "      <td>9845.0</td>\n",
       "      <td>53563.0</td>\n",
       "      <td>[0.0, 15914.0, 25666.0, 2138.0, 9845.0]</td>\n",
       "      <td>[0.0, 0.29710807833765845, 0.479174056718257, ...</td>\n",
       "      <td>...</td>\n",
       "      <td>36.0</td>\n",
       "      <td>28.0</td>\n",
       "      <td>29.0</td>\n",
       "      <td>0.222222</td>\n",
       "      <td>[3.0, 63.0, 70.0, 39.0, 51.0, 41.0, 30.0, 43.0...</td>\n",
       "      <td>90.0</td>\n",
       "      <td>0.033333</td>\n",
       "      <td>97.0</td>\n",
       "      <td>54.577778</td>\n",
       "      <td>cleaning</td>\n",
       "    </tr>\n",
       "    <tr>\n",
       "      <th>1</th>\n",
       "      <td>hen_131</td>\n",
       "      <td>2020-11-14</td>\n",
       "      <td>405.0</td>\n",
       "      <td>17084.0</td>\n",
       "      <td>23716.0</td>\n",
       "      <td>2512.0</td>\n",
       "      <td>10283.0</td>\n",
       "      <td>54000.0</td>\n",
       "      <td>[405.0, 17084.0, 23716.0, 2512.0, 10283.0]</td>\n",
       "      <td>[0.0075, 0.31637037037037036, 0.43918518518518...</td>\n",
       "      <td>...</td>\n",
       "      <td>36.0</td>\n",
       "      <td>26.0</td>\n",
       "      <td>28.0</td>\n",
       "      <td>0.750000</td>\n",
       "      <td>[14.0, 69.0, 47.0, 79.0, 50.0, 46.0, 64.0, 75....</td>\n",
       "      <td>90.0</td>\n",
       "      <td>0.011111</td>\n",
       "      <td>95.0</td>\n",
       "      <td>59.077778</td>\n",
       "      <td>cleaning</td>\n",
       "    </tr>\n",
       "    <tr>\n",
       "      <th>2</th>\n",
       "      <td>hen_131</td>\n",
       "      <td>2020-11-15</td>\n",
       "      <td>0.0</td>\n",
       "      <td>16576.0</td>\n",
       "      <td>28684.0</td>\n",
       "      <td>2187.0</td>\n",
       "      <td>6553.0</td>\n",
       "      <td>54000.0</td>\n",
       "      <td>[0.0, 16576.0, 28684.0, 2187.0, 6553.0]</td>\n",
       "      <td>[0.0, 0.30696296296296294, 0.5311851851851852,...</td>\n",
       "      <td>...</td>\n",
       "      <td>36.0</td>\n",
       "      <td>28.0</td>\n",
       "      <td>29.0</td>\n",
       "      <td>0.098765</td>\n",
       "      <td>[16.0, 70.0, 57.0, 55.0, 60.0, 65.0, 73.0, 73....</td>\n",
       "      <td>90.0</td>\n",
       "      <td>0.033333</td>\n",
       "      <td>91.0</td>\n",
       "      <td>57.922222</td>\n",
       "      <td>cleaning</td>\n",
       "    </tr>\n",
       "  </tbody>\n",
       "</table>\n",
       "<p>3 rows × 132 columns</p>\n",
       "</div>"
      ],
      "text/plain": [
       "     HenID      level  duration_1_Zone  duration_2_Zone  duration_3_Zone  \\\n",
       "0  hen_131 2020-11-13              0.0          15914.0          25666.0   \n",
       "1  hen_131 2020-11-14            405.0          17084.0          23716.0   \n",
       "2  hen_131 2020-11-15              0.0          16576.0          28684.0   \n",
       "\n",
       "   duration_4_Zone  duration_5_Zone  verification_daily_total_duration  \\\n",
       "0           2138.0           9845.0                            53563.0   \n",
       "1           2512.0          10283.0                            54000.0   \n",
       "2           2187.0           6553.0                            54000.0   \n",
       "\n",
       "                                   dur_values  \\\n",
       "0     [0.0, 15914.0, 25666.0, 2138.0, 9845.0]   \n",
       "1  [405.0, 17084.0, 23716.0, 2512.0, 10283.0]   \n",
       "2     [0.0, 16576.0, 28684.0, 2187.0, 6553.0]   \n",
       "\n",
       "                               dur_values_normalized  ...  \\\n",
       "0  [0.0, 0.29710807833765845, 0.479174056718257, ...  ...   \n",
       "1  [0.0075, 0.31637037037037036, 0.43918518518518...  ...   \n",
       "2  [0.0, 0.30696296296296294, 0.5311851851851852,...  ...   \n",
       "\n",
       "  nbr_temperature_nnnan temperature_night20_2_median  \\\n",
       "0                  36.0                         28.0   \n",
       "1                  36.0                         26.0   \n",
       "2                  36.0                         28.0   \n",
       "\n",
       "  temperature_night20_2_max temperature_night20_2_var  \\\n",
       "0                      29.0                  0.222222   \n",
       "1                      28.0                  0.750000   \n",
       "2                      29.0                  0.098765   \n",
       "\n",
       "                         list_of_MovementCounter_day  len_MovementCounter_day  \\\n",
       "0  [3.0, 63.0, 70.0, 39.0, 51.0, 41.0, 30.0, 43.0...                     90.0   \n",
       "1  [14.0, 69.0, 47.0, 79.0, 50.0, 46.0, 64.0, 75....                     90.0   \n",
       "2  [16.0, 70.0, 57.0, 55.0, 60.0, 65.0, 73.0, 73....                     90.0   \n",
       "\n",
       "  MovementCounter_day_amount_nnactivity MovementCounter_day_max  \\\n",
       "0                              0.033333                    97.0   \n",
       "1                              0.011111                    95.0   \n",
       "2                              0.033333                    91.0   \n",
       "\n",
       "  MovementCounter_day_mean      type  \n",
       "0                54.577778  cleaning  \n",
       "1                59.077778  cleaning  \n",
       "2                57.922222  cleaning  \n",
       "\n",
       "[3 rows x 132 columns]"
      ]
     },
     "execution_count": 8,
     "metadata": {},
     "output_type": "execute_result"
    }
   ],
   "source": [
    "#saving both files into one 022 339 39 64.\n",
    "#for being more reproductible, we open the file that was saved from cleaning\n",
    "df_c = pd.read_csv(os.path.join(path_extracted_data, id_run+name_method+'_daily_CLEANING_ALL_variables.csv'), sep=';', \n",
    "                   parse_dates=['level'], dayfirst=True) \n",
    "df_c['type'] = 'cleaning'\n",
    "df_r = pd.read_csv(os.path.join(path_extracted_data, id_run+name_method+'_daily_RAW_ALL_variables.csv'), sep=';', \n",
    "                   parse_dates=['level'], dayfirst=True) \n",
    "df_r['type'] = 'raw'\n",
    "df_var = pd.concat([df_c,df_r])\n",
    "df_var.to_csv(os.path.join(path_extracted_data_cleaning_rawvscleaned,name_method+'_daily_ALL_variables.csv'), sep=';', \n",
    "              index=False)\n",
    "print(df_r.shape,df_c.shape,df_var.shape)\n",
    "print(df_var.shape)\n",
    "df_var.head(3)"
   ]
  },
  {
   "cell_type": "code",
   "execution_count": 9,
   "metadata": {},
   "outputs": [
    {
     "name": "stderr",
     "output_type": "stream",
     "text": [
      "C:\\Users\\camil\\anaconda3\\lib\\site-packages\\ipykernel\\ipkernel.py:283: DeprecationWarning: `should_run_async` will not call `transform_cell` automatically in the future. Please pass the result to `transformed_cell` argument and any exception that happen during thetransform in `preprocessing_exc_tuple` in IPython 7.17 and above.\n",
      "  and should_run_async(code)\n"
     ]
    },
    {
     "data": {
      "text/plain": [
       "(numpy.datetime64('2020-11-12T00:00:00.000000000'),\n",
       " numpy.datetime64('2021-01-11T00:00:00.000000000'))"
      ]
     },
     "execution_count": 9,
     "metadata": {},
     "output_type": "execute_result"
    }
   ],
   "source": [
    "min(df_var['level'].unique()), max(df_var['level'].unique())"
   ]
  },
  {
   "cell_type": "code",
   "execution_count": 10,
   "metadata": {},
   "outputs": [
    {
     "name": "stdout",
     "output_type": "stream",
     "text": [
      "['HenID', 'level', 'duration_1_Zone', 'duration_2_Zone', 'duration_3_Zone', 'duration_4_Zone', 'duration_5_Zone', 'verification_daily_total_duration', 'dur_values', 'dur_values_normalized', 'FirstTimestamp_1_Zone', 'FirstTimestamp_2_Zone', 'FirstTimestamp_3_Zone', 'FirstTimestamp_4_Zone', 'FirstTimestamp_5_Zone', 'Total_number_zone', 'list_of_durations', 'list_of_zones', 'Max_duration_zones', 'dico_zone_sortedduration', 'Total_number_transition', 'nbr_stays', 'nbr_appearances', 'distribution_entropy', 'vertical_travel_distance', 't_DU_missingZone_mvtPerc', 'li_event_chaoticmvt_z_d', 'nbr_stays_3_Zone', 'nbr_stays_4_Zone', 'nbr_stays_5_Zone', 'nbr_stays_2_Zone', 'nbr_stays_1_Zone', 'nbr_appearances_3_Zone', 'nbr_appearances_4_Zone', 'nbr_appearances_5_Zone', 'nbr_appearances_2_Zone', 'nbr_appearances_1_Zone', 'Max_duration_zone_4', 'down_missingZone_mvtPerc', 'up_missingZone_mvtPerc', 'mean_duration', 'median_duration', 'max_duration', 'min_duration', 'variance_duration', 'percentile_5', 'percentile_15_duration', 'percentile_85_duration', 'percentile_95_duration', 'median_abs_deviation_duration', 'kurtosis_duration', 'skew_duration', 'stay_longer_60sec', 'stay_longer_60sec_3_Zone', 'stay_longer_60sec_4_Zone', 'stay_longer_60sec_5_Zone', 'stay_longer_60sec_2_Zone', 'stay_longer_60sec_1_Zone', 'dico_z_chaoticmvtMiddleDuration', '0', 'chaoticmvt_Middle1_Zone', 'chaoticmvt_Middle2_Zone', 'chaoticmvt_Middle3_Zone', 'chaoticmvt_Middle4_Zone', 'chaoticmvt_Middle5_Zone', 'chaoticmvt_Middle1_Zone_nbr_180mn', 'chaoticmvt_Middle1_Zone_nbr_900mn', 'chaoticmvt_Middle2_Zone_nbr_180mn', 'chaoticmvt_Middle2_Zone_nbr_900mn', 'chaoticmvt_Middle3_Zone_nbr_180mn', 'chaoticmvt_Middle3_Zone_nbr_900mn', 'chaoticmvt_Middle4_Zone_nbr_180mn', 'chaoticmvt_Middle4_Zone_nbr_900mn', 'chaoticmvt_Middle5_Zone_nbr_180mn', 'chaoticmvt_Middle5_Zone_nbr_900mn', '1_Zone_tuple_ts_dur', '2_Zone_tuple_ts_dur', '3_Zone_tuple_ts_dur', '4_Zone_tuple_ts_dur', '5_Zone_tuple_ts_dur', 'Nestbox_time_of_first_staid_longer_than900sec', 'sucessIntrusion_9', 'BNestboxHour_nbrd', 'B10h_Nestbox_nbrvisit', 'B10h_Nestbox_Longestduration', 'ANestboxHour_nbrd', 'A12h_Nestbox_nbrvisit', 'A12h_Nestbox_Longestduration', 'NBtimefirstvisitlonger900_minus_time1visit', 'list_timestamps', 'list_timestamps_seondsOfTheDay', 'activity_25percentile_sec', 'activity_25percentile_time', 'activity_50percentile_sec', 'activity_50percentile_time', 'activity_5percentile_sec', 'activity_5percentile_time', 'activity_95percentile_sec', 'activity_95percentile_time', 'duration_last-firsttransition_mn', 'in_WG_15mnAfterOpening', 'Max_duration_WG', 'PenID', 'CLASS', 'R-Pen', 'InitialStartDate', '29-09 weight', '10-12 juin weight', 'weight 23-11-2020', 'weight 04-01-2021', 'weight 01-02-21', 'weight 12-04-21', 'Treatment', 'TagID', 'FocalLegringName', 'night_level', 'night_Max_duration_zones', 'night_distribution_entropy', 'night_Total_number_transition', 'is_mvt_night', 'date_2remove_weirdLFcounter', 'list_of_night20_2_temperature', 'nbr_temperature_nnnan', 'temperature_night20_2_median', 'temperature_night20_2_max', 'temperature_night20_2_var', 'list_of_MovementCounter_day', 'len_MovementCounter_day', 'MovementCounter_day_amount_nnactivity', 'MovementCounter_day_max', 'MovementCounter_day_mean', 'type']\n"
     ]
    },
    {
     "name": "stderr",
     "output_type": "stream",
     "text": [
      "C:\\Users\\camil\\anaconda3\\lib\\site-packages\\ipykernel\\ipkernel.py:283: DeprecationWarning: `should_run_async` will not call `transform_cell` automatically in the future. Please pass the result to `transformed_cell` argument and any exception that happen during thetransform in `preprocessing_exc_tuple` in IPython 7.17 and above.\n",
      "  and should_run_async(code)\n"
     ]
    }
   ],
   "source": [
    "print(list(df_var.columns))"
   ]
  },
  {
   "cell_type": "code",
   "execution_count": null,
   "metadata": {},
   "outputs": [],
   "source": []
  },
  {
   "cell_type": "code",
   "execution_count": null,
   "metadata": {},
   "outputs": [],
   "source": []
  },
  {
   "cell_type": "code",
   "execution_count": null,
   "metadata": {},
   "outputs": [],
   "source": []
  },
  {
   "cell_type": "code",
   "execution_count": null,
   "metadata": {},
   "outputs": [],
   "source": []
  },
  {
   "cell_type": "code",
   "execution_count": null,
   "metadata": {},
   "outputs": [],
   "source": []
  },
  {
   "cell_type": "code",
   "execution_count": null,
   "metadata": {},
   "outputs": [],
   "source": []
  },
  {
   "cell_type": "code",
   "execution_count": null,
   "metadata": {},
   "outputs": [],
   "source": []
  }
 ],
 "metadata": {
  "kernelspec": {
   "display_name": "Python 3",
   "language": "python",
   "name": "python3"
  },
  "language_info": {
   "codemirror_mode": {
    "name": "ipython",
    "version": 3
   },
   "file_extension": ".py",
   "mimetype": "text/x-python",
   "name": "python",
   "nbconvert_exporter": "python",
   "pygments_lexer": "ipython3",
   "version": "3.8.5"
  }
 },
 "nbformat": 4,
 "nbformat_minor": 2
}
