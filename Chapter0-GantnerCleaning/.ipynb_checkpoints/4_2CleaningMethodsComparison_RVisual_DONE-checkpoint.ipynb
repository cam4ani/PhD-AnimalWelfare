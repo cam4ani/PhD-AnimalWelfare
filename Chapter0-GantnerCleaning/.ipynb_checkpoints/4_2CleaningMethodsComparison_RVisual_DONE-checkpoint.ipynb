{
 "cells": [
  {
   "cell_type": "code",
   "execution_count": 7,
   "metadata": {},
   "outputs": [
    {
     "name": "stderr",
     "output_type": "stream",
     "text": [
      "Warning message:\n",
      "\"package 'performance' is in use and will not be installed\"\n"
     ]
    }
   ],
   "source": [
    "install.packages(\"performance\")\n",
    "library(DHARMa)\n",
    "library(lindia)\n",
    "library(tidyverse)\n",
    "library(caret)\n",
    "library(leaps)\n",
    "library(MASS)\n",
    "library(modEvA)\n",
    "library(dplyr)\n",
    "library(broom)\n",
    "library(ggpubr) \n",
    "library(rstatix)\n",
    "library(WRS2) #robust ancova\n",
    "\n",
    "library(lme4) #random effect\n",
    "library(lmerTest) #like lmer but with p-value\n",
    "library(robustlmm) #robust (with weight) linear mixed effect models\n",
    "\n",
    "library(rstanarm) #r2 in mixed effect models\n",
    "library(performance) #r2 in mixed effect models"
   ]
  },
  {
   "cell_type": "code",
   "execution_count": 8,
   "metadata": {},
   "outputs": [
    {
     "data": {
      "text/plain": [
       "               _                           \n",
       "platform       x86_64-w64-mingw32          \n",
       "arch           x86_64                      \n",
       "os             mingw32                     \n",
       "system         x86_64, mingw32             \n",
       "status                                     \n",
       "major          4                           \n",
       "minor          0.3                         \n",
       "year           2020                        \n",
       "month          10                          \n",
       "day            10                          \n",
       "svn rev        79318                       \n",
       "language       R                           \n",
       "version.string R version 4.0.3 (2020-10-10)\n",
       "nickname       Bunny-Wunnies Freak Out     "
      ]
     },
     "metadata": {},
     "output_type": "display_data"
    }
   ],
   "source": [
    "R.version"
   ]
  },
  {
   "cell_type": "markdown",
   "metadata": {},
   "source": [
    "install.packages(\"WRS\", repos=\"http://R-Forge.R-project.org\", type=\"source\")\n",
    "library(WRS)"
   ]
  },
  {
   "cell_type": "markdown",
   "metadata": {},
   "source": [
    "## Download data"
   ]
  },
  {
   "cell_type": "code",
   "execution_count": 9,
   "metadata": {},
   "outputs": [
    {
     "name": "stdout",
     "output_type": "stream",
     "text": [
      "[1] 210  12\n"
     ]
    },
    {
     "data": {
      "text/plain": [
       "    BatchID      variable  ThresholdOnDuration_Zone  Binning_Zone  \n",
       " ID1    :  5   1_Zone:42   Min.   :0.00             Min.   : 0.00  \n",
       " ID10   :  5   2_Zone:42   1st Qu.:0.00             1st Qu.: 0.00  \n",
       " ID11   :  5   3_Zone:42   Median :1.00             Median : 1.00  \n",
       " ID12   :  5   4_Zone:42   Mean   :1.71             Mean   : 1.81  \n",
       " ID13   :  5   5_Zone:42   3rd Qu.:3.00             3rd Qu.: 3.00  \n",
       " ID14   :  5               Max.   :9.00             Max.   :10.00  \n",
       " (Other):180                                                       \n",
       " Observed_Zone      Model_Zone     Trackingsystem_Zone     PenID   \n",
       " Min.   : 0.000   Min.   : 0.000   Min.   : 0.000      pen10  :30  \n",
       " 1st Qu.: 0.000   1st Qu.: 0.000   1st Qu.: 0.000      pen3   :30  \n",
       " Median : 1.000   Median : 1.000   Median : 1.000      pen5   :30  \n",
       " Mean   : 1.848   Mean   : 1.838   Mean   : 2.348      pen8   :30  \n",
       " 3rd Qu.: 3.000   3rd Qu.: 3.000   3rd Qu.: 3.750      pen11  :25  \n",
       " Max.   :10.000   Max.   :10.000   Max.   :18.000      pen4   :25  \n",
       "                                                       (Other):40  \n",
       " absolute_difference_VIDBIN absolute_difference_VIDML absolute_difference_VIDTD\n",
       " Min.   :0.0000             Min.   :0.00000           Min.   :0.0000           \n",
       " 1st Qu.:0.0000             1st Qu.:0.00000           1st Qu.:0.0000           \n",
       " Median :0.0000             Median :0.00000           Median :0.0000           \n",
       " Mean   :0.2095             Mean   :0.05714           Mean   :0.2714           \n",
       " 3rd Qu.:0.0000             3rd Qu.:0.00000           3rd Qu.:0.0000           \n",
       " Max.   :4.0000             Max.   :2.00000           Max.   :3.0000           \n",
       "                                                                               \n",
       " absolute_difference_VIDuproc\n",
       " Min.   : 0.000              \n",
       " 1st Qu.: 0.000              \n",
       " Median : 0.000              \n",
       " Mean   : 0.519              \n",
       " 3rd Qu.: 0.000              \n",
       " Max.   :16.000              \n",
       "                             "
      ]
     },
     "metadata": {},
     "output_type": "display_data"
    },
    {
     "data": {
      "text/html": [
       "<table class=\"dataframe\">\n",
       "<caption>A data.frame: 3 × 12</caption>\n",
       "<thead>\n",
       "\t<tr><th></th><th scope=col>BatchID</th><th scope=col>variable</th><th scope=col>ThresholdOnDuration_Zone</th><th scope=col>Binning_Zone</th><th scope=col>Observed_Zone</th><th scope=col>Model_Zone</th><th scope=col>Trackingsystem_Zone</th><th scope=col>PenID</th><th scope=col>absolute_difference_VIDBIN</th><th scope=col>absolute_difference_VIDML</th><th scope=col>absolute_difference_VIDTD</th><th scope=col>absolute_difference_VIDuproc</th></tr>\n",
       "\t<tr><th></th><th scope=col>&lt;fct&gt;</th><th scope=col>&lt;fct&gt;</th><th scope=col>&lt;int&gt;</th><th scope=col>&lt;int&gt;</th><th scope=col>&lt;int&gt;</th><th scope=col>&lt;int&gt;</th><th scope=col>&lt;int&gt;</th><th scope=col>&lt;fct&gt;</th><th scope=col>&lt;int&gt;</th><th scope=col>&lt;int&gt;</th><th scope=col>&lt;int&gt;</th><th scope=col>&lt;int&gt;</th></tr>\n",
       "</thead>\n",
       "<tbody>\n",
       "\t<tr><th scope=row>1</th><td>ID1 </td><td>2_Zone</td><td>3</td><td>3</td><td>3</td><td>3</td><td>5</td><td>pen3</td><td>0</td><td>0</td><td>0</td><td>2</td></tr>\n",
       "\t<tr><th scope=row>2</th><td>ID10</td><td>2_Zone</td><td>3</td><td>3</td><td>3</td><td>3</td><td>3</td><td>pen9</td><td>0</td><td>0</td><td>0</td><td>0</td></tr>\n",
       "\t<tr><th scope=row>3</th><td>ID11</td><td>2_Zone</td><td>2</td><td>3</td><td>2</td><td>2</td><td>4</td><td>pen9</td><td>1</td><td>0</td><td>0</td><td>2</td></tr>\n",
       "</tbody>\n",
       "</table>\n"
      ],
      "text/latex": [
       "A data.frame: 3 × 12\n",
       "\\begin{tabular}{r|llllllllllll}\n",
       "  & BatchID & variable & ThresholdOnDuration\\_Zone & Binning\\_Zone & Observed\\_Zone & Model\\_Zone & Trackingsystem\\_Zone & PenID & absolute\\_difference\\_VIDBIN & absolute\\_difference\\_VIDML & absolute\\_difference\\_VIDTD & absolute\\_difference\\_VIDuproc\\\\\n",
       "  & <fct> & <fct> & <int> & <int> & <int> & <int> & <int> & <fct> & <int> & <int> & <int> & <int>\\\\\n",
       "\\hline\n",
       "\t1 & ID1  & 2\\_Zone & 3 & 3 & 3 & 3 & 5 & pen3 & 0 & 0 & 0 & 2\\\\\n",
       "\t2 & ID10 & 2\\_Zone & 3 & 3 & 3 & 3 & 3 & pen9 & 0 & 0 & 0 & 0\\\\\n",
       "\t3 & ID11 & 2\\_Zone & 2 & 3 & 2 & 2 & 4 & pen9 & 1 & 0 & 0 & 2\\\\\n",
       "\\end{tabular}\n"
      ],
      "text/markdown": [
       "\n",
       "A data.frame: 3 × 12\n",
       "\n",
       "| <!--/--> | BatchID &lt;fct&gt; | variable &lt;fct&gt; | ThresholdOnDuration_Zone &lt;int&gt; | Binning_Zone &lt;int&gt; | Observed_Zone &lt;int&gt; | Model_Zone &lt;int&gt; | Trackingsystem_Zone &lt;int&gt; | PenID &lt;fct&gt; | absolute_difference_VIDBIN &lt;int&gt; | absolute_difference_VIDML &lt;int&gt; | absolute_difference_VIDTD &lt;int&gt; | absolute_difference_VIDuproc &lt;int&gt; |\n",
       "|---|---|---|---|---|---|---|---|---|---|---|---|---|\n",
       "| 1 | ID1  | 2_Zone | 3 | 3 | 3 | 3 | 5 | pen3 | 0 | 0 | 0 | 2 |\n",
       "| 2 | ID10 | 2_Zone | 3 | 3 | 3 | 3 | 3 | pen9 | 0 | 0 | 0 | 0 |\n",
       "| 3 | ID11 | 2_Zone | 2 | 3 | 2 | 2 | 4 | pen9 | 1 | 0 | 0 | 2 |\n",
       "\n"
      ],
      "text/plain": [
       "  BatchID variable ThresholdOnDuration_Zone Binning_Zone Observed_Zone\n",
       "1 ID1     2_Zone   3                        3            3            \n",
       "2 ID10    2_Zone   3                        3            3            \n",
       "3 ID11    2_Zone   2                        3            2            \n",
       "  Model_Zone Trackingsystem_Zone PenID absolute_difference_VIDBIN\n",
       "1 3          5                   pen3  0                         \n",
       "2 3          3                   pen9  0                         \n",
       "3 2          4                   pen9  1                         \n",
       "  absolute_difference_VIDML absolute_difference_VIDTD\n",
       "1 0                         0                        \n",
       "2 0                         0                        \n",
       "3 0                         0                        \n",
       "  absolute_difference_VIDuproc\n",
       "1 2                           \n",
       "2 0                           \n",
       "3 2                           "
      ]
     },
     "metadata": {},
     "output_type": "display_data"
    }
   ],
   "source": [
    "path_ = 'G:/VPHI/Welfare/2- Research Projects/OFHE2.OriginsE2/DataOutput/TrackingSystem/CleaningAnalysis_/Cleaning'\n",
    "name = 'reliability_transition'\n",
    "df = read.csv(file.path(path_, paste(name,'.csv', sep='')), header = TRUE, sep = \";\")\n",
    "df$PenID = as.factor(df$PenID)\n",
    "df$BatchID = as.factor(df$BatchID)\n",
    "df$variable = as.factor(df$variable)\n",
    "#compute diff\n",
    "df$absolute_difference_VIDBIN = abs(df$Observed_Zone-df$Binning_Zone) #add one then take the log\n",
    "df$absolute_difference_VIDML = abs(df$Observed_Zone-df$Model_Zone) #add one then take the log\n",
    "df$absolute_difference_VIDTD = abs(df$Observed_Zone-df$ThresholdOnDuration_Zone) #add one then take the log\n",
    "df$absolute_difference_VIDuproc = abs(df$Observed_Zone-df$Trackingsystem_Zone) #add one then take the log\n",
    "print(dim(df))\n",
    "summary(df)\n",
    "head(df,3)"
   ]
  },
  {
   "cell_type": "code",
   "execution_count": 27,
   "metadata": {},
   "outputs": [
    {
     "data": {
      "image/png": "[encoded data removed]",
      "text/plain": [
       "plot without title"
      ]
     },
     "metadata": {
      "image/png": {
       "height": 420,
       "width": 420
      }
     },
     "output_type": "display_data"
    }
   ],
   "source": [
    "ggplot(df, aes(y = variable, x = absolute_difference_VIDuproc, col=variable)) + geom_point(alpha = 1/2) + facet_grid(PenID ~ .)\n",
    "ggsave(path = path_, width = 9, height = 6, device='tiff', filename=paste('absolute_difference_VIDuproc_testingdata.jpg', sep=''), dpi=700)"
   ]
  },
  {
   "cell_type": "code",
   "execution_count": 28,
   "metadata": {},
   "outputs": [
    {
     "data": {
      "image/png": "[encoded data removed]",
      "text/plain": [
       "plot without title"
      ]
     },
     "metadata": {
      "image/png": {
       "height": 420,
       "width": 420
      }
     },
     "output_type": "display_data"
    }
   ],
   "source": [
    "ggplot(df, aes(y = variable, x = absolute_difference_VIDML, col=variable)) + geom_point(alpha = 1/2) + facet_grid(PenID ~ .)\n",
    "ggsave(path = path_, width = 9, height = 6, device='tiff', filename=paste('absolute_difference_VIDML_testingdata.jpg', sep=''), dpi=700)"
   ]
  },
  {
   "cell_type": "code",
   "execution_count": null,
   "metadata": {},
   "outputs": [],
   "source": []
  },
  {
   "cell_type": "code",
   "execution_count": null,
   "metadata": {},
   "outputs": [],
   "source": []
  },
  {
   "cell_type": "code",
   "execution_count": null,
   "metadata": {},
   "outputs": [],
   "source": []
  },
  {
   "cell_type": "code",
   "execution_count": null,
   "metadata": {},
   "outputs": [],
   "source": []
  },
  {
   "cell_type": "code",
   "execution_count": null,
   "metadata": {},
   "outputs": [],
   "source": []
  },
  {
   "cell_type": "code",
   "execution_count": null,
   "metadata": {},
   "outputs": [],
   "source": []
  },
  {
   "cell_type": "code",
   "execution_count": null,
   "metadata": {},
   "outputs": [],
   "source": []
  }
 ],
 "metadata": {
  "kernelspec": {
   "display_name": "R 4.0.3",
   "language": "R",
   "name": "ir35"
  },
  "language_info": {
   "codemirror_mode": "r",
   "file_extension": ".r",
   "mimetype": "text/x-r-source",
   "name": "R",
   "pygments_lexer": "r",
   "version": "4.0.3"
  }
 },
 "nbformat": 4,
 "nbformat_minor": 4
}
