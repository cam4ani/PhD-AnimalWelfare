{
 "cells": [
  {
   "cell_type": "code",
   "execution_count": 1,
   "metadata": {},
   "outputs": [],
   "source": [
    "#basic package\n",
    "import json\n",
    "import tqdm\n",
    "import os\n",
    "import numpy as np\n",
    "import glob\n",
    "import pandas as pd\n",
    "import sys\n",
    "import shutil\n",
    "import time\n",
    "import datetime as dt\n",
    "import itertools\n",
    "import time\n",
    "import re\n",
    "from collections import Counter\n",
    "from collections import defaultdict\n",
    "import operator\n",
    "import math\n",
    "import functools\n",
    "import collections\n",
    "import random\n",
    "\n",
    "#generate random id\n",
    "import uuid\n",
    "\n",
    "#ICC in python\n",
    "import pingouin as pg\n",
    "\n",
    "#modelling\n",
    "from sklearn.preprocessing import StandardScaler, MinMaxScaler\n",
    "from sklearn.utils import shuffle\n",
    "from sklearn.model_selection import train_test_split\n",
    "from sklearn.ensemble import GradientBoostingClassifier, RandomForestClassifier\n",
    "from xgboost import XGBClassifier\n",
    "from sklearn.neighbors import KNeighborsClassifier\n",
    "from sklearn.model_selection import GridSearchCV, RandomizedSearchCV\n",
    "from sklearn.metrics import classification_report, confusion_matrix, plot_confusion_matrix, cohen_kappa_score\n",
    "from xgboost import plot_importance\n",
    "#catboost, for a better support of categorical data\n",
    "from catboost import CatBoostClassifier, Pool\n",
    "#to use all except one core\n",
    "import multiprocessing\n",
    "\n",
    "#plot\n",
    "import matplotlib.pyplot as plt\n",
    "import seaborn as sns"
   ]
  },
  {
   "cell_type": "code",
   "execution_count": 2,
   "metadata": {},
   "outputs": [
    {
     "name": "stderr",
     "output_type": "stream",
     "text": [
      "C:\\Users\\camil\\Anaconda3\\lib\\site-packages\\scipy\\sparse\\sparsetools.py:21: DeprecationWarning: `scipy.sparse.sparsetools` is deprecated!\n",
      "scipy.sparse.sparsetools is a private module for scipy.sparse, and should not be used.\n",
      "  _deprecated()\n"
     ]
    }
   ],
   "source": [
    "PACKAGE_PARENT = '../'\n",
    "SCRIPT_DIR = os.path.dirname(os.path.realpath(os.path.join(os.getcwd(), os.path.expanduser('__file__'))))\n",
    "sys.path.append(os.path.normpath(os.path.join(SCRIPT_DIR, PACKAGE_PARENT)))\n",
    "from UTILS import is_WG_open, ConfMat, list_of_zones, res_intodico\n",
    "import config_origins as config"
   ]
  },
  {
   "cell_type": "markdown",
   "metadata": {},
   "source": [
    "# Download Input Data"
   ]
  },
  {
   "cell_type": "code",
   "execution_count": 3,
   "metadata": {},
   "outputs": [],
   "source": [
    "#define parameters\n",
    "path_extracted_data = config.path_extracted_data\n",
    "path_initial_data = config.path_initial_data\n",
    "id_run = config.id_run\n",
    "dico_matching = config.dico_matching\n",
    "dico_garden_opening_hour = config.dico_garden_opening_hour\n",
    "path_extracted_data_cleaning = os.path.join(path_extracted_data,'Cleaning')\n",
    "#path_extracted_data_cleaning = r'D:\\vm_exchange\\PhD_Data\\LogsCleaning'\n",
    "#create a director if not existing\n",
    "if not os.path.exists(path_extracted_data_cleaning):\n",
    "    os.makedirs(path_extracted_data_cleaning)\n",
    "    \n",
    "path__ = os.path.join(path_extracted_data_cleaning,'1secTS')\n",
    "#create a director if not existing\n",
    "if not os.path.exists(path__):\n",
    "    os.makedirs(path__)"
   ]
  },
  {
   "cell_type": "code",
   "execution_count": 4,
   "metadata": {},
   "outputs": [
    {
     "name": "stdout",
     "output_type": "stream",
     "text": [
      "(4085, 36)\n"
     ]
    },
    {
     "data": {
      "text/html": [
       "<div>\n",
       "<style scoped>\n",
       "    .dataframe tbody tr th:only-of-type {\n",
       "        vertical-align: middle;\n",
       "    }\n",
       "\n",
       "    .dataframe tbody tr th {\n",
       "        vertical-align: top;\n",
       "    }\n",
       "\n",
       "    .dataframe thead th {\n",
       "        text-align: right;\n",
       "    }\n",
       "</style>\n",
       "<table border=\"1\" class=\"dataframe\">\n",
       "  <thead>\n",
       "    <tr style=\"text-align: right;\">\n",
       "      <th></th>\n",
       "      <th>Timestamp</th>\n",
       "      <th>TagID</th>\n",
       "      <th>HenID</th>\n",
       "      <th>Zone</th>\n",
       "      <th>PenID</th>\n",
       "      <th>VideoAnalyse</th>\n",
       "      <th>system</th>\n",
       "      <th>date</th>\n",
       "      <th>type</th>\n",
       "      <th>signalstrength</th>\n",
       "      <th>...</th>\n",
       "      <th>previousZone==NextZone</th>\n",
       "      <th>nextduration</th>\n",
       "      <th>BatchID</th>\n",
       "      <th>zone2match</th>\n",
       "      <th>zone3match</th>\n",
       "      <th>zone4match</th>\n",
       "      <th>ObservedZone</th>\n",
       "      <th>zone3matchexist</th>\n",
       "      <th>next2zone==Zone</th>\n",
       "      <th>previous2zone==Zone</th>\n",
       "    </tr>\n",
       "  </thead>\n",
       "  <tbody>\n",
       "    <tr>\n",
       "      <th>2331</th>\n",
       "      <td>2020-10-18 16:04:54</td>\n",
       "      <td>135</td>\n",
       "      <td>hen_46</td>\n",
       "      <td>3_Zone</td>\n",
       "      <td>10.0</td>\n",
       "      <td>1</td>\n",
       "      <td>10 - 12</td>\n",
       "      <td>2020-10-18</td>\n",
       "      <td>students</td>\n",
       "      <td>18.0</td>\n",
       "      <td>...</td>\n",
       "      <td>False</td>\n",
       "      <td>47.0</td>\n",
       "      <td>NaN</td>\n",
       "      <td>4_Zone</td>\n",
       "      <td>5_Zone</td>\n",
       "      <td>NoOtherZone</td>\n",
       "      <td>3_Zone</td>\n",
       "      <td>True</td>\n",
       "      <td>True</td>\n",
       "      <td>True</td>\n",
       "    </tr>\n",
       "    <tr>\n",
       "      <th>2677</th>\n",
       "      <td>2020-10-25 12:10:19</td>\n",
       "      <td>93</td>\n",
       "      <td>hen_105</td>\n",
       "      <td>4_Zone</td>\n",
       "      <td>9.0</td>\n",
       "      <td>1</td>\n",
       "      <td>8 - 9</td>\n",
       "      <td>2020-10-25</td>\n",
       "      <td>students</td>\n",
       "      <td>18.0</td>\n",
       "      <td>...</td>\n",
       "      <td>True</td>\n",
       "      <td>648.0</td>\n",
       "      <td>NaN</td>\n",
       "      <td>3_Zone</td>\n",
       "      <td>2_Zone</td>\n",
       "      <td>5_Zone</td>\n",
       "      <td>4_Zone</td>\n",
       "      <td>True</td>\n",
       "      <td>False</td>\n",
       "      <td>False</td>\n",
       "    </tr>\n",
       "    <tr>\n",
       "      <th>2759</th>\n",
       "      <td>2020-10-26 11:33:37</td>\n",
       "      <td>93</td>\n",
       "      <td>hen_105</td>\n",
       "      <td>2_Zone</td>\n",
       "      <td>9.0</td>\n",
       "      <td>1</td>\n",
       "      <td>8 - 9</td>\n",
       "      <td>2020-10-26</td>\n",
       "      <td>students</td>\n",
       "      <td>7.0</td>\n",
       "      <td>...</td>\n",
       "      <td>True</td>\n",
       "      <td>724.0</td>\n",
       "      <td>NaN</td>\n",
       "      <td>1_Zone</td>\n",
       "      <td>NoOtherZone</td>\n",
       "      <td>NoOtherZone</td>\n",
       "      <td>2_Zone</td>\n",
       "      <td>False</td>\n",
       "      <td>True</td>\n",
       "      <td>True</td>\n",
       "    </tr>\n",
       "  </tbody>\n",
       "</table>\n",
       "<p>3 rows × 36 columns</p>\n",
       "</div>"
      ],
      "text/plain": [
       "               Timestamp  TagID    HenID    Zone  PenID  VideoAnalyse  \\\n",
       "2331 2020-10-18 16:04:54    135   hen_46  3_Zone   10.0             1   \n",
       "2677 2020-10-25 12:10:19     93  hen_105  4_Zone    9.0             1   \n",
       "2759 2020-10-26 11:33:37     93  hen_105  2_Zone    9.0             1   \n",
       "\n",
       "       system       date      type  signalstrength  ...  \\\n",
       "2331  10 - 12 2020-10-18  students            18.0  ...   \n",
       "2677    8 - 9 2020-10-25  students            18.0  ...   \n",
       "2759    8 - 9 2020-10-26  students             7.0  ...   \n",
       "\n",
       "      previousZone==NextZone  nextduration  BatchID zone2match   zone3match  \\\n",
       "2331                   False          47.0      NaN     4_Zone       5_Zone   \n",
       "2677                    True         648.0      NaN     3_Zone       2_Zone   \n",
       "2759                    True         724.0      NaN     1_Zone  NoOtherZone   \n",
       "\n",
       "       zone4match ObservedZone zone3matchexist next2zone==Zone  \\\n",
       "2331  NoOtherZone       3_Zone            True            True   \n",
       "2677       5_Zone       4_Zone            True           False   \n",
       "2759  NoOtherZone       2_Zone           False            True   \n",
       "\n",
       "     previous2zone==Zone  \n",
       "2331                True  \n",
       "2677               False  \n",
       "2759                True  \n",
       "\n",
       "[3 rows x 36 columns]"
      ]
     },
     "execution_count": 4,
     "metadata": {},
     "output_type": "execute_result"
    }
   ],
   "source": [
    "df = pd.read_csv(os.path.join(path_extracted_data, id_run+'InputCleaning.csv'), parse_dates=['Timestamp', 'date'], \n",
    "                 dayfirst=True, sep=';')\n",
    "df = shuffle(df)\n",
    "df = df.rename(columns={c:c.replace('_','') for c in df.columns})\n",
    "df['HenID'] = df['HenID'].map(lambda x: 'hen_'+str(int(x)))\n",
    "print(df.shape)\n",
    "df.head(3)"
   ]
  },
  {
   "cell_type": "markdown",
   "metadata": {},
   "source": [
    "# Data preprocessing"
   ]
  },
  {
   "cell_type": "code",
   "execution_count": 6,
   "metadata": {},
   "outputs": [],
   "source": [
    "#available features (zone4match is totally point less it ~never exist)\n",
    "licat = ['TagID', 'Zone', 'PenID', 'VideoAnalyse', 'system', 'date',\n",
    "         'zone2match', 'zone3match','zone3matchexist',\n",
    "         'next1zone','next2zone', 'next3zone', 'next4zone', 'next5zone',\n",
    "         'previous1zone', 'previous2zone', 'previous3zone', 'previous4zone','previous5zone']\n",
    "licont = ['signalstrength', 'signalstzone2', 'signalstrzone3', 'signalstrzone4', 'duration','previousduration','nextduration',\n",
    "         'next2zone==Zone','previous2zone==Zone','previousZone==NextZone']\n",
    "\n",
    "#select some features\n",
    "li_cont_select = ['signalstrength', 'signalstzone2','duration','nextduration','previousduration',\n",
    "                 'next2zone==Zone','previous2zone==Zone','zone3matchexist'] \n",
    "li_cat_select = ['Zone','zone2match','previous1zone','next1zone','PenID'] #ADD WHEN WE HAVE DORIS DATA: PenID\n",
    "#zone3match_exist: important for WG cleaning"
   ]
  },
  {
   "cell_type": "code",
   "execution_count": 7,
   "metadata": {},
   "outputs": [
    {
     "data": {
      "text/html": [
       "<div>\n",
       "<style scoped>\n",
       "    .dataframe tbody tr th:only-of-type {\n",
       "        vertical-align: middle;\n",
       "    }\n",
       "\n",
       "    .dataframe tbody tr th {\n",
       "        vertical-align: top;\n",
       "    }\n",
       "\n",
       "    .dataframe thead th {\n",
       "        text-align: right;\n",
       "    }\n",
       "</style>\n",
       "<table border=\"1\" class=\"dataframe\">\n",
       "  <thead>\n",
       "    <tr style=\"text-align: right;\">\n",
       "      <th></th>\n",
       "      <th>signalstrength</th>\n",
       "      <th>signalstzone2</th>\n",
       "      <th>duration</th>\n",
       "      <th>nextduration</th>\n",
       "      <th>previousduration</th>\n",
       "      <th>next2zone==Zone</th>\n",
       "      <th>previous2zone==Zone</th>\n",
       "      <th>zone3matchexist</th>\n",
       "    </tr>\n",
       "  </thead>\n",
       "  <tbody>\n",
       "    <tr>\n",
       "      <th>2331</th>\n",
       "      <td>18.0</td>\n",
       "      <td>7.0</td>\n",
       "      <td>17.0</td>\n",
       "      <td>47.0</td>\n",
       "      <td>36.0</td>\n",
       "      <td>True</td>\n",
       "      <td>True</td>\n",
       "      <td>True</td>\n",
       "    </tr>\n",
       "    <tr>\n",
       "      <th>2677</th>\n",
       "      <td>18.0</td>\n",
       "      <td>15.0</td>\n",
       "      <td>269.0</td>\n",
       "      <td>648.0</td>\n",
       "      <td>122.0</td>\n",
       "      <td>False</td>\n",
       "      <td>False</td>\n",
       "      <td>True</td>\n",
       "    </tr>\n",
       "    <tr>\n",
       "      <th>2759</th>\n",
       "      <td>7.0</td>\n",
       "      <td>3.0</td>\n",
       "      <td>32.0</td>\n",
       "      <td>724.0</td>\n",
       "      <td>14.0</td>\n",
       "      <td>True</td>\n",
       "      <td>True</td>\n",
       "      <td>False</td>\n",
       "    </tr>\n",
       "  </tbody>\n",
       "</table>\n",
       "</div>"
      ],
      "text/plain": [
       "      signalstrength  signalstzone2  duration  nextduration  previousduration  \\\n",
       "2331            18.0            7.0      17.0          47.0              36.0   \n",
       "2677            18.0           15.0     269.0         648.0             122.0   \n",
       "2759             7.0            3.0      32.0         724.0              14.0   \n",
       "\n",
       "      next2zone==Zone  previous2zone==Zone  zone3matchexist  \n",
       "2331             True                 True             True  \n",
       "2677            False                False             True  \n",
       "2759             True                 True            False  "
      ]
     },
     "execution_count": 7,
     "metadata": {},
     "output_type": "execute_result"
    }
   ],
   "source": [
    "df[li_cont_select].head(3)"
   ]
  },
  {
   "cell_type": "code",
   "execution_count": 8,
   "metadata": {},
   "outputs": [
    {
     "data": {
      "text/html": [
       "<div>\n",
       "<style scoped>\n",
       "    .dataframe tbody tr th:only-of-type {\n",
       "        vertical-align: middle;\n",
       "    }\n",
       "\n",
       "    .dataframe tbody tr th {\n",
       "        vertical-align: top;\n",
       "    }\n",
       "\n",
       "    .dataframe thead th {\n",
       "        text-align: right;\n",
       "    }\n",
       "</style>\n",
       "<table border=\"1\" class=\"dataframe\">\n",
       "  <thead>\n",
       "    <tr style=\"text-align: right;\">\n",
       "      <th></th>\n",
       "      <th>signalstrength</th>\n",
       "      <th>signalstzone2</th>\n",
       "      <th>duration</th>\n",
       "      <th>nextduration</th>\n",
       "      <th>previousduration</th>\n",
       "      <th>next2zone==Zone</th>\n",
       "      <th>previous2zone==Zone</th>\n",
       "      <th>zone3matchexist</th>\n",
       "    </tr>\n",
       "  </thead>\n",
       "  <tbody>\n",
       "    <tr>\n",
       "      <th>2331</th>\n",
       "      <td>1.661131</td>\n",
       "      <td>-0.078701</td>\n",
       "      <td>-0.055694</td>\n",
       "      <td>-0.055290</td>\n",
       "      <td>-0.038955</td>\n",
       "      <td>0.708016</td>\n",
       "      <td>0.705679</td>\n",
       "      <td>0.651412</td>\n",
       "    </tr>\n",
       "    <tr>\n",
       "      <th>2677</th>\n",
       "      <td>1.661131</td>\n",
       "      <td>1.975568</td>\n",
       "      <td>-0.026916</td>\n",
       "      <td>0.013012</td>\n",
       "      <td>-0.033857</td>\n",
       "      <td>-1.412398</td>\n",
       "      <td>-1.417075</td>\n",
       "      <td>0.651412</td>\n",
       "    </tr>\n",
       "    <tr>\n",
       "      <th>2759</th>\n",
       "      <td>-0.928030</td>\n",
       "      <td>-1.105836</td>\n",
       "      <td>-0.053981</td>\n",
       "      <td>0.021649</td>\n",
       "      <td>-0.040259</td>\n",
       "      <td>0.708016</td>\n",
       "      <td>0.705679</td>\n",
       "      <td>-1.535127</td>\n",
       "    </tr>\n",
       "  </tbody>\n",
       "</table>\n",
       "</div>"
      ],
      "text/plain": [
       "      signalstrength  signalstzone2  duration  nextduration  previousduration  \\\n",
       "2331        1.661131      -0.078701 -0.055694     -0.055290         -0.038955   \n",
       "2677        1.661131       1.975568 -0.026916      0.013012         -0.033857   \n",
       "2759       -0.928030      -1.105836 -0.053981      0.021649         -0.040259   \n",
       "\n",
       "      next2zone==Zone  previous2zone==Zone  zone3matchexist  \n",
       "2331         0.708016             0.705679         0.651412  \n",
       "2677        -1.412398            -1.417075         0.651412  \n",
       "2759         0.708016             0.705679        -1.535127  "
      ]
     },
     "execution_count": 8,
     "metadata": {},
     "output_type": "execute_result"
    }
   ],
   "source": [
    "#scaling numercial data: necessary due to duration high values\n",
    "sc = StandardScaler()\n",
    "df[li_cont_select] = sc.fit_transform(df[li_cont_select])\n",
    "df[li_cont_select].head(3)"
   ]
  },
  {
   "cell_type": "markdown",
   "metadata": {},
   "source": [
    "# Split into training-validation and testing (holdout dataset)"
   ]
  },
  {
   "cell_type": "code",
   "execution_count": 9,
   "metadata": {},
   "outputs": [
    {
     "data": {
      "text/html": [
       "<div>\n",
       "<style scoped>\n",
       "    .dataframe tbody tr th:only-of-type {\n",
       "        vertical-align: middle;\n",
       "    }\n",
       "\n",
       "    .dataframe tbody tr th {\n",
       "        vertical-align: top;\n",
       "    }\n",
       "\n",
       "    .dataframe thead th {\n",
       "        text-align: right;\n",
       "    }\n",
       "</style>\n",
       "<table border=\"1\" class=\"dataframe\">\n",
       "  <thead>\n",
       "    <tr style=\"text-align: right;\">\n",
       "      <th></th>\n",
       "      <th>signalstrength</th>\n",
       "      <th>signalstzone2</th>\n",
       "      <th>duration</th>\n",
       "      <th>nextduration</th>\n",
       "      <th>previousduration</th>\n",
       "      <th>next2zone==Zone</th>\n",
       "      <th>previous2zone==Zone</th>\n",
       "      <th>zone3matchexist</th>\n",
       "      <th>Zone</th>\n",
       "      <th>zone2match</th>\n",
       "      <th>previous1zone</th>\n",
       "      <th>next1zone</th>\n",
       "      <th>PenID</th>\n",
       "    </tr>\n",
       "  </thead>\n",
       "  <tbody>\n",
       "    <tr>\n",
       "      <th>2331</th>\n",
       "      <td>1.661131</td>\n",
       "      <td>-0.078701</td>\n",
       "      <td>-0.055694</td>\n",
       "      <td>-0.055290</td>\n",
       "      <td>-0.038955</td>\n",
       "      <td>0.708016</td>\n",
       "      <td>0.705679</td>\n",
       "      <td>0.651412</td>\n",
       "      <td>3Zone</td>\n",
       "      <td>4Zone</td>\n",
       "      <td>4Zone</td>\n",
       "      <td>3Zone</td>\n",
       "      <td>10.0</td>\n",
       "    </tr>\n",
       "    <tr>\n",
       "      <th>2677</th>\n",
       "      <td>1.661131</td>\n",
       "      <td>1.975568</td>\n",
       "      <td>-0.026916</td>\n",
       "      <td>0.013012</td>\n",
       "      <td>-0.033857</td>\n",
       "      <td>-1.412398</td>\n",
       "      <td>-1.417075</td>\n",
       "      <td>0.651412</td>\n",
       "      <td>4Zone</td>\n",
       "      <td>3Zone</td>\n",
       "      <td>3Zone</td>\n",
       "      <td>3Zone</td>\n",
       "      <td>9.0</td>\n",
       "    </tr>\n",
       "    <tr>\n",
       "      <th>2759</th>\n",
       "      <td>-0.928030</td>\n",
       "      <td>-1.105836</td>\n",
       "      <td>-0.053981</td>\n",
       "      <td>0.021649</td>\n",
       "      <td>-0.040259</td>\n",
       "      <td>0.708016</td>\n",
       "      <td>0.705679</td>\n",
       "      <td>-1.535127</td>\n",
       "      <td>2Zone</td>\n",
       "      <td>1Zone</td>\n",
       "      <td>1Zone</td>\n",
       "      <td>1Zone</td>\n",
       "      <td>9.0</td>\n",
       "    </tr>\n",
       "  </tbody>\n",
       "</table>\n",
       "</div>"
      ],
      "text/plain": [
       "      signalstrength  signalstzone2  duration  nextduration  previousduration  \\\n",
       "2331        1.661131      -0.078701 -0.055694     -0.055290         -0.038955   \n",
       "2677        1.661131       1.975568 -0.026916      0.013012         -0.033857   \n",
       "2759       -0.928030      -1.105836 -0.053981      0.021649         -0.040259   \n",
       "\n",
       "      next2zone==Zone  previous2zone==Zone  zone3matchexist   Zone zone2match  \\\n",
       "2331         0.708016             0.705679         0.651412  3Zone      4Zone   \n",
       "2677        -1.412398            -1.417075         0.651412  4Zone      3Zone   \n",
       "2759         0.708016             0.705679        -1.535127  2Zone      1Zone   \n",
       "\n",
       "     previous1zone next1zone PenID  \n",
       "2331         4Zone     3Zone  10.0  \n",
       "2677         3Zone     3Zone   9.0  \n",
       "2759         1Zone     1Zone   9.0  "
      ]
     },
     "execution_count": 9,
     "metadata": {},
     "output_type": "execute_result"
    }
   ],
   "source": [
    "#necessary in order to later sum categories within the features importances\n",
    "for x in li_cat_select+['ObservedZone']:\n",
    "    df[x] = df[x].map(lambda x: str(x).replace('_',''))\n",
    "df[li_cont_select+li_cat_select].head(3)"
   ]
  },
  {
   "cell_type": "code",
   "execution_count": 10,
   "metadata": {},
   "outputs": [
    {
     "data": {
      "text/html": [
       "<div>\n",
       "<style scoped>\n",
       "    .dataframe tbody tr th:only-of-type {\n",
       "        vertical-align: middle;\n",
       "    }\n",
       "\n",
       "    .dataframe tbody tr th {\n",
       "        vertical-align: top;\n",
       "    }\n",
       "\n",
       "    .dataframe thead th {\n",
       "        text-align: right;\n",
       "    }\n",
       "</style>\n",
       "<table border=\"1\" class=\"dataframe\">\n",
       "  <thead>\n",
       "    <tr style=\"text-align: right;\">\n",
       "      <th></th>\n",
       "      <th>Timestamp</th>\n",
       "      <th>TagID</th>\n",
       "      <th>HenID</th>\n",
       "      <th>Zone</th>\n",
       "      <th>PenID</th>\n",
       "      <th>VideoAnalyse</th>\n",
       "      <th>system</th>\n",
       "      <th>date</th>\n",
       "      <th>type</th>\n",
       "      <th>signalstrength</th>\n",
       "      <th>...</th>\n",
       "      <th>previousZone==NextZone</th>\n",
       "      <th>nextduration</th>\n",
       "      <th>BatchID</th>\n",
       "      <th>zone2match</th>\n",
       "      <th>zone3match</th>\n",
       "      <th>zone4match</th>\n",
       "      <th>ObservedZone</th>\n",
       "      <th>zone3matchexist</th>\n",
       "      <th>next2zone==Zone</th>\n",
       "      <th>previous2zone==Zone</th>\n",
       "    </tr>\n",
       "  </thead>\n",
       "  <tbody>\n",
       "    <tr>\n",
       "      <th>2331</th>\n",
       "      <td>2020-10-18 16:04:54</td>\n",
       "      <td>135</td>\n",
       "      <td>hen_46</td>\n",
       "      <td>3Zone</td>\n",
       "      <td>10.0</td>\n",
       "      <td>1</td>\n",
       "      <td>10 - 12</td>\n",
       "      <td>2020-10-18</td>\n",
       "      <td>students</td>\n",
       "      <td>1.661131</td>\n",
       "      <td>...</td>\n",
       "      <td>False</td>\n",
       "      <td>-0.055290</td>\n",
       "      <td>NaN</td>\n",
       "      <td>4Zone</td>\n",
       "      <td>5_Zone</td>\n",
       "      <td>NoOtherZone</td>\n",
       "      <td>3Zone</td>\n",
       "      <td>0.651412</td>\n",
       "      <td>0.708016</td>\n",
       "      <td>0.705679</td>\n",
       "    </tr>\n",
       "    <tr>\n",
       "      <th>2677</th>\n",
       "      <td>2020-10-25 12:10:19</td>\n",
       "      <td>93</td>\n",
       "      <td>hen_105</td>\n",
       "      <td>4Zone</td>\n",
       "      <td>9.0</td>\n",
       "      <td>1</td>\n",
       "      <td>8 - 9</td>\n",
       "      <td>2020-10-25</td>\n",
       "      <td>students</td>\n",
       "      <td>1.661131</td>\n",
       "      <td>...</td>\n",
       "      <td>True</td>\n",
       "      <td>0.013012</td>\n",
       "      <td>NaN</td>\n",
       "      <td>3Zone</td>\n",
       "      <td>2_Zone</td>\n",
       "      <td>5_Zone</td>\n",
       "      <td>4Zone</td>\n",
       "      <td>0.651412</td>\n",
       "      <td>-1.412398</td>\n",
       "      <td>-1.417075</td>\n",
       "    </tr>\n",
       "    <tr>\n",
       "      <th>2759</th>\n",
       "      <td>2020-10-26 11:33:37</td>\n",
       "      <td>93</td>\n",
       "      <td>hen_105</td>\n",
       "      <td>2Zone</td>\n",
       "      <td>9.0</td>\n",
       "      <td>1</td>\n",
       "      <td>8 - 9</td>\n",
       "      <td>2020-10-26</td>\n",
       "      <td>students</td>\n",
       "      <td>-0.928030</td>\n",
       "      <td>...</td>\n",
       "      <td>True</td>\n",
       "      <td>0.021649</td>\n",
       "      <td>NaN</td>\n",
       "      <td>1Zone</td>\n",
       "      <td>NoOtherZone</td>\n",
       "      <td>NoOtherZone</td>\n",
       "      <td>2Zone</td>\n",
       "      <td>-1.535127</td>\n",
       "      <td>0.708016</td>\n",
       "      <td>0.705679</td>\n",
       "    </tr>\n",
       "    <tr>\n",
       "      <th>1411</th>\n",
       "      <td>2020-10-16 10:24:58</td>\n",
       "      <td>48</td>\n",
       "      <td>hen_166</td>\n",
       "      <td>5Zone</td>\n",
       "      <td>5.0</td>\n",
       "      <td>1</td>\n",
       "      <td>3 - 5</td>\n",
       "      <td>2020-10-16</td>\n",
       "      <td>students</td>\n",
       "      <td>-0.692652</td>\n",
       "      <td>...</td>\n",
       "      <td>True</td>\n",
       "      <td>-0.060177</td>\n",
       "      <td>NaN</td>\n",
       "      <td>3Zone</td>\n",
       "      <td>4_Zone</td>\n",
       "      <td>2_Zone</td>\n",
       "      <td>5Zone</td>\n",
       "      <td>0.651412</td>\n",
       "      <td>0.708016</td>\n",
       "      <td>0.705679</td>\n",
       "    </tr>\n",
       "    <tr>\n",
       "      <th>1600</th>\n",
       "      <td>2020-10-18 14:23:32</td>\n",
       "      <td>90</td>\n",
       "      <td>hen_158</td>\n",
       "      <td>3Zone</td>\n",
       "      <td>8.0</td>\n",
       "      <td>1</td>\n",
       "      <td>8 - 9</td>\n",
       "      <td>2020-10-18</td>\n",
       "      <td>students</td>\n",
       "      <td>-0.457273</td>\n",
       "      <td>...</td>\n",
       "      <td>True</td>\n",
       "      <td>-0.059836</td>\n",
       "      <td>NaN</td>\n",
       "      <td>3Zone</td>\n",
       "      <td>4_Zone</td>\n",
       "      <td>2_Zone</td>\n",
       "      <td>3Zone</td>\n",
       "      <td>0.651412</td>\n",
       "      <td>-1.412398</td>\n",
       "      <td>0.705679</td>\n",
       "    </tr>\n",
       "    <tr>\n",
       "      <th>...</th>\n",
       "      <td>...</td>\n",
       "      <td>...</td>\n",
       "      <td>...</td>\n",
       "      <td>...</td>\n",
       "      <td>...</td>\n",
       "      <td>...</td>\n",
       "      <td>...</td>\n",
       "      <td>...</td>\n",
       "      <td>...</td>\n",
       "      <td>...</td>\n",
       "      <td>...</td>\n",
       "      <td>...</td>\n",
       "      <td>...</td>\n",
       "      <td>...</td>\n",
       "      <td>...</td>\n",
       "      <td>...</td>\n",
       "      <td>...</td>\n",
       "      <td>...</td>\n",
       "      <td>...</td>\n",
       "      <td>...</td>\n",
       "      <td>...</td>\n",
       "    </tr>\n",
       "    <tr>\n",
       "      <th>1960</th>\n",
       "      <td>2020-10-18 11:35:11</td>\n",
       "      <td>125</td>\n",
       "      <td>hen_54</td>\n",
       "      <td>3Zone</td>\n",
       "      <td>10.0</td>\n",
       "      <td>1</td>\n",
       "      <td>10 - 12</td>\n",
       "      <td>2020-10-18</td>\n",
       "      <td>students</td>\n",
       "      <td>0.013483</td>\n",
       "      <td>...</td>\n",
       "      <td>True</td>\n",
       "      <td>-0.028810</td>\n",
       "      <td>NaN</td>\n",
       "      <td>3Zone</td>\n",
       "      <td>4_Zone</td>\n",
       "      <td>NoOtherZone</td>\n",
       "      <td>3Zone</td>\n",
       "      <td>0.651412</td>\n",
       "      <td>0.708016</td>\n",
       "      <td>0.705679</td>\n",
       "    </tr>\n",
       "    <tr>\n",
       "      <th>674</th>\n",
       "      <td>2020-10-14 14:02:34</td>\n",
       "      <td>60</td>\n",
       "      <td>hen_88</td>\n",
       "      <td>3Zone</td>\n",
       "      <td>5.0</td>\n",
       "      <td>0</td>\n",
       "      <td>3 - 5</td>\n",
       "      <td>2020-10-14</td>\n",
       "      <td>students</td>\n",
       "      <td>0.484240</td>\n",
       "      <td>...</td>\n",
       "      <td>True</td>\n",
       "      <td>-0.049153</td>\n",
       "      <td>NaN</td>\n",
       "      <td>5Zone</td>\n",
       "      <td>4_Zone</td>\n",
       "      <td>2_Zone</td>\n",
       "      <td>4Zone</td>\n",
       "      <td>0.651412</td>\n",
       "      <td>0.708016</td>\n",
       "      <td>0.705679</td>\n",
       "    </tr>\n",
       "    <tr>\n",
       "      <th>4073</th>\n",
       "      <td>2020-10-23 14:43:10</td>\n",
       "      <td>138</td>\n",
       "      <td>hen_141</td>\n",
       "      <td>4Zone</td>\n",
       "      <td>10.0</td>\n",
       "      <td>1</td>\n",
       "      <td>10 - 12</td>\n",
       "      <td>2020-10-23</td>\n",
       "      <td>students</td>\n",
       "      <td>0.484240</td>\n",
       "      <td>...</td>\n",
       "      <td>True</td>\n",
       "      <td>-0.055290</td>\n",
       "      <td>NaN</td>\n",
       "      <td>3Zone</td>\n",
       "      <td>5_Zone</td>\n",
       "      <td>2_Zone</td>\n",
       "      <td>4Zone</td>\n",
       "      <td>0.651412</td>\n",
       "      <td>-1.412398</td>\n",
       "      <td>-1.417075</td>\n",
       "    </tr>\n",
       "    <tr>\n",
       "      <th>1339</th>\n",
       "      <td>2020-10-18 13:18:24</td>\n",
       "      <td>46</td>\n",
       "      <td>hen_167</td>\n",
       "      <td>3Zone</td>\n",
       "      <td>5.0</td>\n",
       "      <td>0</td>\n",
       "      <td>3 - 5</td>\n",
       "      <td>2020-10-18</td>\n",
       "      <td>students</td>\n",
       "      <td>0.013483</td>\n",
       "      <td>...</td>\n",
       "      <td>True</td>\n",
       "      <td>-0.053585</td>\n",
       "      <td>NaN</td>\n",
       "      <td>5Zone</td>\n",
       "      <td>2_Zone</td>\n",
       "      <td>4_Zone</td>\n",
       "      <td>5Zone</td>\n",
       "      <td>0.651412</td>\n",
       "      <td>0.708016</td>\n",
       "      <td>0.705679</td>\n",
       "    </tr>\n",
       "    <tr>\n",
       "      <th>2114</th>\n",
       "      <td>2020-10-18 15:30:46</td>\n",
       "      <td>130</td>\n",
       "      <td>hen_49</td>\n",
       "      <td>3Zone</td>\n",
       "      <td>10.0</td>\n",
       "      <td>1</td>\n",
       "      <td>10 - 12</td>\n",
       "      <td>2020-10-18</td>\n",
       "      <td>students</td>\n",
       "      <td>0.719618</td>\n",
       "      <td>...</td>\n",
       "      <td>True</td>\n",
       "      <td>0.049038</td>\n",
       "      <td>NaN</td>\n",
       "      <td>2Zone</td>\n",
       "      <td>5_Zone</td>\n",
       "      <td>NoOtherZone</td>\n",
       "      <td>3Zone</td>\n",
       "      <td>0.651412</td>\n",
       "      <td>0.708016</td>\n",
       "      <td>0.705679</td>\n",
       "    </tr>\n",
       "  </tbody>\n",
       "</table>\n",
       "<p>3222 rows × 36 columns</p>\n",
       "</div>"
      ],
      "text/plain": [
       "               Timestamp  TagID    HenID   Zone PenID  VideoAnalyse   system  \\\n",
       "2331 2020-10-18 16:04:54    135   hen_46  3Zone  10.0             1  10 - 12   \n",
       "2677 2020-10-25 12:10:19     93  hen_105  4Zone   9.0             1    8 - 9   \n",
       "2759 2020-10-26 11:33:37     93  hen_105  2Zone   9.0             1    8 - 9   \n",
       "1411 2020-10-16 10:24:58     48  hen_166  5Zone   5.0             1    3 - 5   \n",
       "1600 2020-10-18 14:23:32     90  hen_158  3Zone   8.0             1    8 - 9   \n",
       "...                  ...    ...      ...    ...   ...           ...      ...   \n",
       "1960 2020-10-18 11:35:11    125   hen_54  3Zone  10.0             1  10 - 12   \n",
       "674  2020-10-14 14:02:34     60   hen_88  3Zone   5.0             0    3 - 5   \n",
       "4073 2020-10-23 14:43:10    138  hen_141  4Zone  10.0             1  10 - 12   \n",
       "1339 2020-10-18 13:18:24     46  hen_167  3Zone   5.0             0    3 - 5   \n",
       "2114 2020-10-18 15:30:46    130   hen_49  3Zone  10.0             1  10 - 12   \n",
       "\n",
       "           date      type  signalstrength  ...  previousZone==NextZone  \\\n",
       "2331 2020-10-18  students        1.661131  ...                   False   \n",
       "2677 2020-10-25  students        1.661131  ...                    True   \n",
       "2759 2020-10-26  students       -0.928030  ...                    True   \n",
       "1411 2020-10-16  students       -0.692652  ...                    True   \n",
       "1600 2020-10-18  students       -0.457273  ...                    True   \n",
       "...         ...       ...             ...  ...                     ...   \n",
       "1960 2020-10-18  students        0.013483  ...                    True   \n",
       "674  2020-10-14  students        0.484240  ...                    True   \n",
       "4073 2020-10-23  students        0.484240  ...                    True   \n",
       "1339 2020-10-18  students        0.013483  ...                    True   \n",
       "2114 2020-10-18  students        0.719618  ...                    True   \n",
       "\n",
       "      nextduration  BatchID zone2match   zone3match   zone4match ObservedZone  \\\n",
       "2331     -0.055290      NaN      4Zone       5_Zone  NoOtherZone        3Zone   \n",
       "2677      0.013012      NaN      3Zone       2_Zone       5_Zone        4Zone   \n",
       "2759      0.021649      NaN      1Zone  NoOtherZone  NoOtherZone        2Zone   \n",
       "1411     -0.060177      NaN      3Zone       4_Zone       2_Zone        5Zone   \n",
       "1600     -0.059836      NaN      3Zone       4_Zone       2_Zone        3Zone   \n",
       "...            ...      ...        ...          ...          ...          ...   \n",
       "1960     -0.028810      NaN      3Zone       4_Zone  NoOtherZone        3Zone   \n",
       "674      -0.049153      NaN      5Zone       4_Zone       2_Zone        4Zone   \n",
       "4073     -0.055290      NaN      3Zone       5_Zone       2_Zone        4Zone   \n",
       "1339     -0.053585      NaN      5Zone       2_Zone       4_Zone        5Zone   \n",
       "2114      0.049038      NaN      2Zone       5_Zone  NoOtherZone        3Zone   \n",
       "\n",
       "     zone3matchexist next2zone==Zone previous2zone==Zone  \n",
       "2331        0.651412        0.708016            0.705679  \n",
       "2677        0.651412       -1.412398           -1.417075  \n",
       "2759       -1.535127        0.708016            0.705679  \n",
       "1411        0.651412        0.708016            0.705679  \n",
       "1600        0.651412       -1.412398            0.705679  \n",
       "...              ...             ...                 ...  \n",
       "1960        0.651412        0.708016            0.705679  \n",
       "674         0.651412        0.708016            0.705679  \n",
       "4073        0.651412       -1.412398           -1.417075  \n",
       "1339        0.651412        0.708016            0.705679  \n",
       "2114        0.651412        0.708016            0.705679  \n",
       "\n",
       "[3222 rows x 36 columns]"
      ]
     },
     "execution_count": 10,
     "metadata": {},
     "output_type": "execute_result"
    }
   ],
   "source": [
    "#show rows with at least one nan\n",
    "df[df.isna().any(axis=1)]"
   ]
  },
  {
   "cell_type": "code",
   "execution_count": 11,
   "metadata": {},
   "outputs": [
    {
     "name": "stdout",
     "output_type": "stream",
     "text": [
      "(4085, 36)\n",
      "(4085, 36)\n"
     ]
    }
   ],
   "source": [
    "#exception\n",
    "print(df.shape)\n",
    "df = df[~((df['nextduration'].isnull())&(df['algotype']=='cleaning'))]\n",
    "print(df.shape)"
   ]
  },
  {
   "cell_type": "code",
   "execution_count": 12,
   "metadata": {},
   "outputs": [],
   "source": [
    "df_testing = df[df['algotype']=='verification'].copy()\n",
    "df_cleaning = df[df['algotype']=='cleaning'].copy()"
   ]
  },
  {
   "cell_type": "code",
   "execution_count": 13,
   "metadata": {},
   "outputs": [
    {
     "data": {
      "text/plain": [
       "1    2609\n",
       "0     613\n",
       "Name: VideoAnalyse, dtype: int64"
      ]
     },
     "execution_count": 13,
     "metadata": {},
     "output_type": "execute_result"
    }
   ],
   "source": [
    "df_cleaning['VideoAnalyse'].value_counts()"
   ]
  },
  {
   "cell_type": "code",
   "execution_count": 57,
   "metadata": {},
   "outputs": [
    {
     "data": {
      "text/plain": [
       "1    821\n",
       "0     42\n",
       "Name: VideoAnalyse, dtype: int64"
      ]
     },
     "execution_count": 57,
     "metadata": {},
     "output_type": "execute_result"
    }
   ],
   "source": [
    "df_testing['VideoAnalyse'].value_counts()"
   ]
  },
  {
   "cell_type": "code",
   "execution_count": 14,
   "metadata": {},
   "outputs": [
    {
     "name": "stdout",
     "output_type": "stream",
     "text": [
      "(863, 36) (3222, 36)\n"
     ]
    }
   ],
   "source": [
    "print(df_testing.shape, df_cleaning.shape)"
   ]
  },
  {
   "cell_type": "markdown",
   "metadata": {},
   "source": [
    "# Split into training and validation (for parameter tuning) & dummies"
   ]
  },
  {
   "cell_type": "code",
   "execution_count": 15,
   "metadata": {},
   "outputs": [
    {
     "name": "stdout",
     "output_type": "stream",
     "text": [
      "(2577, 13) (2577, 1) (645, 13) (645, 1) (863, 13) (863, 1)\n"
     ]
    }
   ],
   "source": [
    "####### train, val, test (no dummie )#######\n",
    "#we need to keep into dataframe format in order to have the columns names to specify in the hyperparamters the names of the\n",
    "#categorical variables\n",
    "#split into train, test and validation\n",
    "#for algo from sklearn, we should add val+train together, while for the Catboost we will not add them up\n",
    "#train\n",
    "df_X_train_cb = df_cleaning.filter(li_cont_select+li_cat_select, axis=1)\n",
    "df_y_train_cb = df_cleaning[['VideoAnalyse']]\n",
    "\n",
    "#test\n",
    "df_X_test_cb = df_testing.filter(li_cont_select+li_cat_select, axis=1)\n",
    "df_y_test_cb = df_testing[['VideoAnalyse']]\n",
    "\n",
    "#split training into validation: for algo from sklearn, we should add val+train together, while for the Catboost we will not add them up\n",
    "val_size = 0.2; rs = 0\n",
    "df_X_train_cb, df_X_val_cb, df_y_train_cb, df_y_val_cb = train_test_split(df_X_train_cb, df_y_train_cb, test_size=val_size, random_state=rs)\n",
    "print(df_X_train_cb.shape, df_y_train_cb.shape, df_X_val_cb.shape, df_y_val_cb.shape, df_X_test_cb.shape, df_y_test_cb.shape)"
   ]
  },
  {
   "cell_type": "markdown",
   "metadata": {},
   "source": [
    "# Catboost"
   ]
  },
  {
   "cell_type": "code",
   "execution_count": 16,
   "metadata": {},
   "outputs": [],
   "source": [
    "li_dico = []"
   ]
  },
  {
   "cell_type": "code",
   "execution_count": 17,
   "metadata": {},
   "outputs": [],
   "source": [
    "#https://towardsdatascience.com/catboost-demystified-8b0b538bfa31\n",
    "#ordered stat: https://medium.com/data-from-the-trenches/how-do-gradient-boosting-algorithms-handle-categorical-variables-e56ace858ba2"
   ]
  },
  {
   "cell_type": "code",
   "execution_count": null,
   "metadata": {},
   "outputs": [],
   "source": [
    "#Parameters fine tunning\n",
    "#Info: https://catboost.ai/docs/concepts/python-reference_parameters-list.html\n",
    "x1 = df_cleaning[df_cleaning['VideoAnalyse']==1].shape[0]\n",
    "x0 = df_cleaning[df_cleaning['VideoAnalyse']==0].shape[0]\n",
    "print(x1/x0)\n",
    "P = {'n_estimators': range(300,800,100),#range(200,1000,200), #the more trees you add, the higher the risk of overfitting!! default:1000!\n",
    "     'l2_leaf_reg': [2],#range(2,5),#default is 3\n",
    "     'loss_function': ['Logloss'], #for binary classification\n",
    "     'max_depth': [8], #range(5,9,1), #if to big: risk of overfitting default=6\n",
    "     'min_data_in_leaf': [1], #range(1,4), #The minimum number of training samples in a leaf (equivalent to min_samples_leaf). default 1\n",
    "     'class_weights': [{0:x1/x0, 1:1}, {0:1, 1:1}], #multiply the weight of object of class 0 by 1 and the object of class 1 by 0.2\n",
    "     'od_pval': [10**-6],#[x for x in np.linspace(start = 10**-6, stop = 10**-2, num = 5)], #The larger the value, the earlier overfitting is detected., defualt=0, but it is recommanded to be tested for these range\n",
    "     'od_wait':[10],#, #instead of the default 20 :Ignore the overfitting detector when the threshold is reached and continue learning for the specified number of iterations after the iteration with the optimal metric value.\n",
    "     'use_best_model':[True],\n",
    "     'task_type':['CPU'],#is actually faster\n",
    "     'cat_features':[np.array(['Zone', 'zone2match', 'previous1zone', 'next1zone'])]\n",
    "    }\n",
    "n_jobs = multiprocessing.cpu_count()-1 #all except one core\n",
    "mod = GridSearchCV(estimator = CatBoostClassifier(), param_grid = P, cv = 3, verbose = False)\n",
    "mod.fit(df_X_train_cb, df_y_train_cb, eval_set=(df_X_val_cb,df_y_val_cb), verbose=False)\n",
    "mod_final = mod.best_estimator_\n",
    "mod_final.fit(df_X_train_cb, df_y_train_cb, eval_set=(df_X_val_cb,df_y_val_cb) , verbose=False)\n",
    "display(mod_final.get_params())\n",
    "print(mod_final.get_best_score())\n",
    "#examples: https://catboost.ai/docs/concepts/python-usages-examples.html"
   ]
  },
  {
   "cell_type": "code",
   "execution_count": null,
   "metadata": {},
   "outputs": [],
   "source": [
    "#save\n",
    "li_dico.append({'algo':'Catboost', 'model_param_used':mod_final.get_all_params(), \n",
    "                'accuracy_training':round(mod_final.score(df_X_train_cb, df_y_train_cb),3),\n",
    "                'accuracy_validation':round(mod_final.score(df_X_val_cb, df_y_val_cb),3),\n",
    "                'accuracy_testing':round(mod_final.score(df_X_test_cb, df_y_test_cb),3)})\n",
    "pd.DataFrame(li_dico)"
   ]
  },
  {
   "cell_type": "markdown",
   "metadata": {},
   "source": [
    "### BEST MODEL"
   ]
  },
  {
   "cell_type": "code",
   "execution_count": 18,
   "metadata": {},
   "outputs": [
    {
     "data": {
      "text/html": [
       "<div>\n",
       "<style scoped>\n",
       "    .dataframe tbody tr th:only-of-type {\n",
       "        vertical-align: middle;\n",
       "    }\n",
       "\n",
       "    .dataframe tbody tr th {\n",
       "        vertical-align: top;\n",
       "    }\n",
       "\n",
       "    .dataframe thead th {\n",
       "        text-align: right;\n",
       "    }\n",
       "</style>\n",
       "<table border=\"1\" class=\"dataframe\">\n",
       "  <thead>\n",
       "    <tr style=\"text-align: right;\">\n",
       "      <th></th>\n",
       "      <th>algo</th>\n",
       "      <th>model_param_used</th>\n",
       "      <th>accuracy_training</th>\n",
       "      <th>accuracy_validation</th>\n",
       "      <th>accuracy_testing</th>\n",
       "    </tr>\n",
       "  </thead>\n",
       "  <tbody>\n",
       "    <tr>\n",
       "      <th>0</th>\n",
       "      <td>FINAL_blabla</td>\n",
       "      <td>{'nan_mode': 'Min', 'eval_metric': 'Logloss', ...</td>\n",
       "      <td>0.999</td>\n",
       "      <td>0.981</td>\n",
       "      <td>0.992</td>\n",
       "    </tr>\n",
       "  </tbody>\n",
       "</table>\n",
       "</div>"
      ],
      "text/plain": [
       "           algo                                   model_param_used  \\\n",
       "0  FINAL_blabla  {'nan_mode': 'Min', 'eval_metric': 'Logloss', ...   \n",
       "\n",
       "   accuracy_training  accuracy_validation  accuracy_testing  \n",
       "0              0.999                0.981             0.992  "
      ]
     },
     "execution_count": 18,
     "metadata": {},
     "output_type": "execute_result"
    }
   ],
   "source": [
    "model = CatBoostClassifier(min_data_in_leaf= 1,\n",
    "                             cat_features= np.array(['Zone', 'zone2match', 'previous1zone', 'next1zone']),\n",
    "                             n_estimators= 500,\n",
    "                             max_depth= 8,\n",
    "                             task_type= 'CPU',\n",
    "                             class_weights= {0: 1, 1: 1},\n",
    "                             use_best_model= True,\n",
    "                             od_wait= 10,\n",
    "                             od_pval= 1e-06,\n",
    "                             loss_function= 'Logloss',\n",
    "                             l2_leaf_reg= 2)\n",
    "model.fit(df_X_train_cb, df_y_train_cb, eval_set=(df_X_val_cb,df_y_val_cb) , verbose=False)\n",
    "li_dico.append({'algo':'FINAL_blabla', 'model_param_used':model.get_all_params(), \n",
    "                'accuracy_training':round(model.score(df_X_train_cb, df_y_train_cb),3),\n",
    "                'accuracy_validation':round(model.score(df_X_val_cb, df_y_val_cb),3),\n",
    "                'accuracy_testing':round(model.score(df_X_test_cb, df_y_test_cb),3)})\n",
    "pd.DataFrame(li_dico)"
   ]
  },
  {
   "cell_type": "code",
   "execution_count": 19,
   "metadata": {},
   "outputs": [],
   "source": [
    "#TODO: INTERPRET EACH OF THE CHOOSEN FINAL PARAMETERS VALUES"
   ]
  },
  {
   "cell_type": "markdown",
   "metadata": {},
   "source": [
    "## plot some individual trees"
   ]
  },
  {
   "cell_type": "code",
   "execution_count": 20,
   "metadata": {},
   "outputs": [],
   "source": [
    "#not very informative\n",
    "#s = 1\n",
    "#model.plot_tree(s, pool=None)"
   ]
  },
  {
   "cell_type": "markdown",
   "metadata": {},
   "source": [
    "# most influential training observation"
   ]
  },
  {
   "cell_type": "code",
   "execution_count": 21,
   "metadata": {},
   "outputs": [
    {
     "data": {
      "text/html": [
       "<div>\n",
       "<style scoped>\n",
       "    .dataframe tbody tr th:only-of-type {\n",
       "        vertical-align: middle;\n",
       "    }\n",
       "\n",
       "    .dataframe tbody tr th {\n",
       "        vertical-align: top;\n",
       "    }\n",
       "\n",
       "    .dataframe thead th {\n",
       "        text-align: right;\n",
       "    }\n",
       "</style>\n",
       "<table border=\"1\" class=\"dataframe\">\n",
       "  <thead>\n",
       "    <tr style=\"text-align: right;\">\n",
       "      <th></th>\n",
       "      <th>signalstrength</th>\n",
       "      <th>signalstzone2</th>\n",
       "      <th>duration</th>\n",
       "      <th>nextduration</th>\n",
       "      <th>previousduration</th>\n",
       "      <th>next2zone==Zone</th>\n",
       "      <th>previous2zone==Zone</th>\n",
       "      <th>zone3matchexist</th>\n",
       "      <th>Zone</th>\n",
       "      <th>zone2match</th>\n",
       "      <th>previous1zone</th>\n",
       "      <th>next1zone</th>\n",
       "      <th>PenID</th>\n",
       "    </tr>\n",
       "  </thead>\n",
       "  <tbody>\n",
       "    <tr>\n",
       "      <th>881</th>\n",
       "      <td>-1.869543</td>\n",
       "      <td>-1.362619</td>\n",
       "      <td>-0.056151</td>\n",
       "      <td>-0.044380</td>\n",
       "      <td>-0.035517</td>\n",
       "      <td>0.708016</td>\n",
       "      <td>0.705679</td>\n",
       "      <td>0.651412</td>\n",
       "      <td>3Zone</td>\n",
       "      <td>2Zone</td>\n",
       "      <td>2Zone</td>\n",
       "      <td>2Zone</td>\n",
       "      <td>4.0</td>\n",
       "    </tr>\n",
       "    <tr>\n",
       "      <th>3867</th>\n",
       "      <td>-1.869543</td>\n",
       "      <td>-1.362619</td>\n",
       "      <td>-0.057064</td>\n",
       "      <td>-0.058927</td>\n",
       "      <td>-0.040496</td>\n",
       "      <td>-1.412398</td>\n",
       "      <td>-1.417075</td>\n",
       "      <td>-1.535127</td>\n",
       "      <td>2Zone</td>\n",
       "      <td>3Zone</td>\n",
       "      <td>3Zone</td>\n",
       "      <td>3Zone</td>\n",
       "      <td>4.0</td>\n",
       "    </tr>\n",
       "    <tr>\n",
       "      <th>2604</th>\n",
       "      <td>-0.928030</td>\n",
       "      <td>-0.592268</td>\n",
       "      <td>0.136499</td>\n",
       "      <td>0.032787</td>\n",
       "      <td>-0.037354</td>\n",
       "      <td>0.708016</td>\n",
       "      <td>-1.417075</td>\n",
       "      <td>-1.535127</td>\n",
       "      <td>1Zone</td>\n",
       "      <td>2Zone</td>\n",
       "      <td>2Zone</td>\n",
       "      <td>2Zone</td>\n",
       "      <td>9.0</td>\n",
       "    </tr>\n",
       "    <tr>\n",
       "      <th>1186</th>\n",
       "      <td>-0.692652</td>\n",
       "      <td>-0.078701</td>\n",
       "      <td>-0.055237</td>\n",
       "      <td>-0.023696</td>\n",
       "      <td>-0.036465</td>\n",
       "      <td>-1.412398</td>\n",
       "      <td>-1.417075</td>\n",
       "      <td>0.651412</td>\n",
       "      <td>5Zone</td>\n",
       "      <td>3Zone</td>\n",
       "      <td>3Zone</td>\n",
       "      <td>4Zone</td>\n",
       "      <td>10.0</td>\n",
       "    </tr>\n",
       "    <tr>\n",
       "      <th>95</th>\n",
       "      <td>-0.928030</td>\n",
       "      <td>-0.335485</td>\n",
       "      <td>-0.051240</td>\n",
       "      <td>-0.051312</td>\n",
       "      <td>-0.005285</td>\n",
       "      <td>0.708016</td>\n",
       "      <td>-1.417075</td>\n",
       "      <td>-1.535127</td>\n",
       "      <td>1Zone</td>\n",
       "      <td>2Zone</td>\n",
       "      <td>2Zone</td>\n",
       "      <td>2Zone</td>\n",
       "      <td>12.0</td>\n",
       "    </tr>\n",
       "    <tr>\n",
       "      <th>1131</th>\n",
       "      <td>0.013483</td>\n",
       "      <td>0.691650</td>\n",
       "      <td>-0.057064</td>\n",
       "      <td>-0.059154</td>\n",
       "      <td>0.018842</td>\n",
       "      <td>-1.412398</td>\n",
       "      <td>0.705679</td>\n",
       "      <td>0.651412</td>\n",
       "      <td>2Zone</td>\n",
       "      <td>3Zone</td>\n",
       "      <td>3Zone</td>\n",
       "      <td>3Zone</td>\n",
       "      <td>8.0</td>\n",
       "    </tr>\n",
       "    <tr>\n",
       "      <th>2321</th>\n",
       "      <td>0.013483</td>\n",
       "      <td>-0.335485</td>\n",
       "      <td>-0.052496</td>\n",
       "      <td>0.076314</td>\n",
       "      <td>-0.035280</td>\n",
       "      <td>-1.412398</td>\n",
       "      <td>-1.417075</td>\n",
       "      <td>0.651412</td>\n",
       "      <td>3Zone</td>\n",
       "      <td>2Zone</td>\n",
       "      <td>2Zone</td>\n",
       "      <td>2Zone</td>\n",
       "      <td>10.0</td>\n",
       "    </tr>\n",
       "    <tr>\n",
       "      <th>144</th>\n",
       "      <td>-0.692652</td>\n",
       "      <td>-0.849052</td>\n",
       "      <td>0.001519</td>\n",
       "      <td>-0.050403</td>\n",
       "      <td>0.031942</td>\n",
       "      <td>-1.412398</td>\n",
       "      <td>-1.417075</td>\n",
       "      <td>-1.535127</td>\n",
       "      <td>1Zone</td>\n",
       "      <td>2Zone</td>\n",
       "      <td>2Zone</td>\n",
       "      <td>2Zone</td>\n",
       "      <td>8.0</td>\n",
       "    </tr>\n",
       "    <tr>\n",
       "      <th>3832</th>\n",
       "      <td>-1.869543</td>\n",
       "      <td>-1.362619</td>\n",
       "      <td>-0.048842</td>\n",
       "      <td>-0.036538</td>\n",
       "      <td>-0.038303</td>\n",
       "      <td>0.708016</td>\n",
       "      <td>-1.417075</td>\n",
       "      <td>-1.535127</td>\n",
       "      <td>2Zone</td>\n",
       "      <td>4Zone</td>\n",
       "      <td>3Zone</td>\n",
       "      <td>3Zone</td>\n",
       "      <td>4.0</td>\n",
       "    </tr>\n",
       "    <tr>\n",
       "      <th>145</th>\n",
       "      <td>-1.869543</td>\n",
       "      <td>-1.876187</td>\n",
       "      <td>-0.024633</td>\n",
       "      <td>0.606706</td>\n",
       "      <td>0.054409</td>\n",
       "      <td>-1.412398</td>\n",
       "      <td>-1.417075</td>\n",
       "      <td>-1.535127</td>\n",
       "      <td>1Zone</td>\n",
       "      <td>NoOtherZone</td>\n",
       "      <td>2Zone</td>\n",
       "      <td>2Zone</td>\n",
       "      <td>8.0</td>\n",
       "    </tr>\n",
       "  </tbody>\n",
       "</table>\n",
       "</div>"
      ],
      "text/plain": [
       "      signalstrength  signalstzone2  duration  nextduration  previousduration  \\\n",
       "881        -1.869543      -1.362619 -0.056151     -0.044380         -0.035517   \n",
       "3867       -1.869543      -1.362619 -0.057064     -0.058927         -0.040496   \n",
       "2604       -0.928030      -0.592268  0.136499      0.032787         -0.037354   \n",
       "1186       -0.692652      -0.078701 -0.055237     -0.023696         -0.036465   \n",
       "95         -0.928030      -0.335485 -0.051240     -0.051312         -0.005285   \n",
       "1131        0.013483       0.691650 -0.057064     -0.059154          0.018842   \n",
       "2321        0.013483      -0.335485 -0.052496      0.076314         -0.035280   \n",
       "144        -0.692652      -0.849052  0.001519     -0.050403          0.031942   \n",
       "3832       -1.869543      -1.362619 -0.048842     -0.036538         -0.038303   \n",
       "145        -1.869543      -1.876187 -0.024633      0.606706          0.054409   \n",
       "\n",
       "      next2zone==Zone  previous2zone==Zone  zone3matchexist   Zone  \\\n",
       "881          0.708016             0.705679         0.651412  3Zone   \n",
       "3867        -1.412398            -1.417075        -1.535127  2Zone   \n",
       "2604         0.708016            -1.417075        -1.535127  1Zone   \n",
       "1186        -1.412398            -1.417075         0.651412  5Zone   \n",
       "95           0.708016            -1.417075        -1.535127  1Zone   \n",
       "1131        -1.412398             0.705679         0.651412  2Zone   \n",
       "2321        -1.412398            -1.417075         0.651412  3Zone   \n",
       "144         -1.412398            -1.417075        -1.535127  1Zone   \n",
       "3832         0.708016            -1.417075        -1.535127  2Zone   \n",
       "145         -1.412398            -1.417075        -1.535127  1Zone   \n",
       "\n",
       "       zone2match previous1zone next1zone PenID  \n",
       "881         2Zone         2Zone     2Zone   4.0  \n",
       "3867        3Zone         3Zone     3Zone   4.0  \n",
       "2604        2Zone         2Zone     2Zone   9.0  \n",
       "1186        3Zone         3Zone     4Zone  10.0  \n",
       "95          2Zone         2Zone     2Zone  12.0  \n",
       "1131        3Zone         3Zone     3Zone   8.0  \n",
       "2321        2Zone         2Zone     2Zone  10.0  \n",
       "144         2Zone         2Zone     2Zone   8.0  \n",
       "3832        4Zone         3Zone     3Zone   4.0  \n",
       "145   NoOtherZone         2Zone     2Zone   8.0  "
      ]
     },
     "execution_count": 21,
     "metadata": {},
     "output_type": "execute_result"
    }
   ],
   "source": [
    "dataset = Pool(data=df_X_test_cb,\n",
    "               cat_features=np.array(['Zone', 'zone2match', 'previous1zone', 'next1zone']),\n",
    "               label=df_y_test_cb)\n",
    "\n",
    "train_dataset = Pool(data=df_X_train_cb,\n",
    "                     label=df_y_train_cb,\n",
    "                     cat_features=np.array(['Zone', 'zone2match', 'previous1zone', 'next1zone']))\n",
    "#top_size=Defines the number of most important objects from the training dataset. The number of returned objects is limited to this number.\n",
    "indices, scores = model.get_object_importance(pool=dataset, train_pool=train_dataset, update_method='AllPoints',\n",
    "                                             top_size=10) #, type='PerObject': better not to use, simpler without\n",
    "#pd.DataFrame([indices,scores]).transpose()\n",
    "df_X_train_cb.iloc[indices]"
   ]
  },
  {
   "cell_type": "markdown",
   "metadata": {},
   "source": [
    "df_y_train_cb.iloc[indices]"
   ]
  },
  {
   "cell_type": "markdown",
   "metadata": {},
   "source": [
    "# Feature importance (get_feature_importance)"
   ]
  },
  {
   "cell_type": "raw",
   "metadata": {},
   "source": [
    "For each feature, PredictionValuesChange shows how much on average the prediction changes if the feature value changes. The bigger the value of the importance the bigger on average is the change to the prediction value if this feature is changed.\n",
    "Pros: It is cheap to compute as you don’t have to do multiple training or testing and you will not be storing any extra information. You will get normalized values as the ouput (all the importances will add up to 100).\n",
    "Cons: It may give misleading results for ranking objectives, it might put groupwise features into the top, even though they have a little influence on the resulting loss value.”\n"
   ]
  },
  {
   "cell_type": "code",
   "execution_count": 22,
   "metadata": {},
   "outputs": [
    {
     "data": {
      "image/png": "[encoded data removed]",
      "text/plain": [
       "<Figure size 216x504 with 1 Axes>"
      ]
     },
     "metadata": {
      "needs_background": "light"
     },
     "output_type": "display_data"
    }
   ],
   "source": [
    "df_fi = model.get_feature_importance(prettified=True).sort_values(['Importances'],ascending=True)\n",
    "plt.figure(figsize=(3, 7))\n",
    "pos = [i+0.5 for i in range(0,df_fi.shape[0])]\n",
    "plt.barh(pos, df_fi['Importances'].tolist(), align='center')\n",
    "plt.yticks(pos, df_fi['Feature Id'].tolist())\n",
    "plt.xlabel('Relative Importance')\n",
    "plt.title('Variable Importance')\n",
    "plt.savefig(os.path.join(path_extracted_data_cleaning,'FeaturesImportance_Catboost.png'), bbox_inches='tight')\n",
    "plt.show()"
   ]
  },
  {
   "cell_type": "raw",
   "metadata": {},
   "source": [
    "#https://towardsdatascience.com/deep-dive-into-catboost-functionalities-for-model-interpretation-7cdef669aeed"
   ]
  },
  {
   "cell_type": "markdown",
   "metadata": {},
   "source": [
    "# Relevance on TESTING DATA"
   ]
  },
  {
   "cell_type": "raw",
   "metadata": {},
   "source": [
    "read for evaluation measures: \n",
    "https://towardsdatascience.com/how-to-evaluate-your-machine-learning-models-with-python-code-5f8d2d8d945b\n",
    "https://scikit-learn.org/stable/modules/generated/sklearn.metrics.cohen_kappa_score.html\n",
    "cohen_kappa_score(y_test, predictions, weights = \"quadratic\")"
   ]
  },
  {
   "cell_type": "code",
   "execution_count": 23,
   "metadata": {},
   "outputs": [],
   "source": [
    "#extend the batch until the end baches, to take this into account for duration reliability\n",
    "dico_BatchID_endhour = {'ID1':16,\n",
    "                        'ID2':16,\n",
    "                        'ID3':16,\n",
    "                        'ID5':13,\n",
    "                        'ID8':12,\n",
    "                        'ID9':12,\n",
    "                        'ID10':16,\n",
    "                        'ID11':12,\n",
    "                        'ID12':16,\n",
    "                        'ID13':13,\n",
    "                        'ID14':16,\n",
    "                        'ID17':12,\n",
    "                        'ID22':10,\n",
    "                        'ID23':14,\n",
    "                        'ID25':10,\n",
    "                        'ID27':14,\n",
    "                        'ID28':16,\n",
    "                        'ID30':16,\n",
    "                        'ID31':16,\n",
    "                        'ID32':16,\n",
    "                        'ID37':17}"
   ]
  },
  {
   "cell_type": "code",
   "execution_count": 24,
   "metadata": {},
   "outputs": [],
   "source": [
    "##########################################################################################################\n",
    "################################################ predict #################################################\n",
    "##########################################################################################################\n",
    "predictions = model.predict(df_X_test_cb)\n",
    "prediction_proba = model.predict_proba(df_X_test_cb)\n",
    "df_testing['model_prediction'] = predictions\n",
    "df_testing['model_prediction_proba0'] = [round(x[0],2) for x in prediction_proba]\n",
    "df_testing['model_prediction_proba1'] = [round(x[1],2) for x in prediction_proba]\n",
    "df_testing.groupby(['Zone','model_prediction'])['date'].count().reset_index()\n",
    "#add the zone that would be selected with this algorithm output: if==0, then the true zone is the one before\n",
    "df_testing['model_prediction_init'] = df_testing['model_prediction'].astype(str)\n",
    "df_testing['VideoAnalyse'] = df_testing['VideoAnalyse'].astype(str)\n",
    "df_testing['model_ObservedZone'] = df_testing.apply(lambda x: x['Zone'] if x['model_prediction_init']=='1' else x['previous1zone'],\n",
    "                                                    axis=1)\n",
    "df_testing['tracking_prediction'] = 1\n",
    "#save\n",
    "df_testing.to_csv(os.path.join(path_extracted_data_cleaning, id_run+'_TestingMethods.csv'), \n",
    "                      index=False, sep=';')\n",
    "#display(df_testing.head(3))"
   ]
  },
  {
   "cell_type": "code",
   "execution_count": 25,
   "metadata": {},
   "outputs": [
    {
     "data": {
      "text/html": [
       "<div>\n",
       "<style scoped>\n",
       "    .dataframe tbody tr th:only-of-type {\n",
       "        vertical-align: middle;\n",
       "    }\n",
       "\n",
       "    .dataframe tbody tr th {\n",
       "        vertical-align: top;\n",
       "    }\n",
       "\n",
       "    .dataframe thead th {\n",
       "        text-align: right;\n",
       "    }\n",
       "</style>\n",
       "<table border=\"1\" class=\"dataframe\">\n",
       "  <thead>\n",
       "    <tr style=\"text-align: right;\">\n",
       "      <th></th>\n",
       "      <th>VideoAnalyse</th>\n",
       "      <th>model_prediction_init</th>\n",
       "      <th>model_prediction_proba0</th>\n",
       "      <th>model_prediction_proba1</th>\n",
       "      <th>is_correct4plot</th>\n",
       "    </tr>\n",
       "  </thead>\n",
       "  <tbody>\n",
       "    <tr>\n",
       "      <th>3519</th>\n",
       "      <td>1</td>\n",
       "      <td>1</td>\n",
       "      <td>0.0</td>\n",
       "      <td>1.0</td>\n",
       "      <td>True</td>\n",
       "    </tr>\n",
       "    <tr>\n",
       "      <th>3457</th>\n",
       "      <td>0</td>\n",
       "      <td>0</td>\n",
       "      <td>1.0</td>\n",
       "      <td>0.0</td>\n",
       "      <td>True</td>\n",
       "    </tr>\n",
       "    <tr>\n",
       "      <th>3054</th>\n",
       "      <td>1</td>\n",
       "      <td>1</td>\n",
       "      <td>0.0</td>\n",
       "      <td>1.0</td>\n",
       "      <td>True</td>\n",
       "    </tr>\n",
       "  </tbody>\n",
       "</table>\n",
       "</div>"
      ],
      "text/plain": [
       "     VideoAnalyse model_prediction_init  model_prediction_proba0  \\\n",
       "3519            1                     1                      0.0   \n",
       "3457            0                     0                      1.0   \n",
       "3054            1                     1                      0.0   \n",
       "\n",
       "      model_prediction_proba1  is_correct4plot  \n",
       "3519                      1.0             True  \n",
       "3457                      0.0             True  \n",
       "3054                      1.0             True  "
      ]
     },
     "metadata": {},
     "output_type": "display_data"
    },
    {
     "data": {
      "text/html": [
       "<div>\n",
       "<style scoped>\n",
       "    .dataframe tbody tr th:only-of-type {\n",
       "        vertical-align: middle;\n",
       "    }\n",
       "\n",
       "    .dataframe tbody tr th {\n",
       "        vertical-align: top;\n",
       "    }\n",
       "\n",
       "    .dataframe thead th {\n",
       "        text-align: right;\n",
       "    }\n",
       "</style>\n",
       "<table border=\"1\" class=\"dataframe\">\n",
       "  <thead>\n",
       "    <tr style=\"text-align: right;\">\n",
       "      <th></th>\n",
       "      <th>is_correct4plot</th>\n",
       "      <th>VideoAnalyse</th>\n",
       "      <th>model_prediction_proba0</th>\n",
       "      <th>model_prediction_proba1</th>\n",
       "    </tr>\n",
       "  </thead>\n",
       "  <tbody>\n",
       "    <tr>\n",
       "      <th>0</th>\n",
       "      <td>False</td>\n",
       "      <td>0</td>\n",
       "      <td>0.040</td>\n",
       "      <td>0.960</td>\n",
       "    </tr>\n",
       "    <tr>\n",
       "      <th>1</th>\n",
       "      <td>False</td>\n",
       "      <td>1</td>\n",
       "      <td>0.795</td>\n",
       "      <td>0.205</td>\n",
       "    </tr>\n",
       "    <tr>\n",
       "      <th>2</th>\n",
       "      <td>True</td>\n",
       "      <td>0</td>\n",
       "      <td>0.990</td>\n",
       "      <td>0.010</td>\n",
       "    </tr>\n",
       "    <tr>\n",
       "      <th>3</th>\n",
       "      <td>True</td>\n",
       "      <td>1</td>\n",
       "      <td>0.000</td>\n",
       "      <td>1.000</td>\n",
       "    </tr>\n",
       "  </tbody>\n",
       "</table>\n",
       "</div>"
      ],
      "text/plain": [
       "   is_correct4plot VideoAnalyse  model_prediction_proba0  \\\n",
       "0            False            0                    0.040   \n",
       "1            False            1                    0.795   \n",
       "2             True            0                    0.990   \n",
       "3             True            1                    0.000   \n",
       "\n",
       "   model_prediction_proba1  \n",
       "0                    0.960  \n",
       "1                    0.205  \n",
       "2                    0.010  \n",
       "3                    1.000  "
      ]
     },
     "execution_count": 25,
     "metadata": {},
     "output_type": "execute_result"
    }
   ],
   "source": [
    "#visualise how correct is the prediction compared to the certainty of the algo\n",
    "df_testing['is_correct4plot'] = df_testing.apply(lambda x: x['VideoAnalyse']==x['model_prediction_init'], axis=1)\n",
    "display(df_testing[['VideoAnalyse', 'model_prediction_init', 'model_prediction_proba0', \n",
    "                    'model_prediction_proba1','is_correct4plot']].head(3))\n",
    "df_testing.groupby(['is_correct4plot','VideoAnalyse'])[['model_prediction_init', \n",
    "                                    'model_prediction_proba0', 'model_prediction_proba1']].agg(lambda x: np.median(list(x))).reset_index()"
   ]
  },
  {
   "cell_type": "code",
   "execution_count": 26,
   "metadata": {},
   "outputs": [
    {
     "data": {
      "text/plain": [
       "True     856\n",
       "False      7\n",
       "Name: is_correct4plot, dtype: int64"
      ]
     },
     "metadata": {},
     "output_type": "display_data"
    },
    {
     "data": {
      "text/plain": [
       "True     855\n",
       "False      8\n",
       "Name: is_correct4plot_, dtype: int64"
      ]
     },
     "metadata": {},
     "output_type": "display_data"
    }
   ],
   "source": [
    "#add rule: if max proba is <0.8 then keep correct record. Can be used to comapre the method!!\n",
    "df_testing['model_prediction'] = df_testing.apply(lambda x: '1' if max(x['model_prediction_proba0'],\n",
    "                                                            x['model_prediction_proba1'])<0.8 else x['model_prediction_init'], axis=1)\n",
    "df_testing['is_correct4plot_'] = df_testing.apply(lambda x: x['VideoAnalyse']==x['model_prediction'], axis=1)\n",
    "display(df_testing['is_correct4plot'].value_counts(), df_testing['is_correct4plot_'].value_counts())"
   ]
  },
  {
   "cell_type": "code",
   "execution_count": 34,
   "metadata": {},
   "outputs": [
    {
     "data": {
      "text/plain": [
       "1    821\n",
       "0     42\n",
       "Name: VideoAnalyse, dtype: int64"
      ]
     },
     "execution_count": 34,
     "metadata": {},
     "output_type": "execute_result"
    }
   ],
   "source": [
    "df_testing['VideoAnalyse'].value_counts()"
   ]
  },
  {
   "cell_type": "code",
   "execution_count": 52,
   "metadata": {},
   "outputs": [
    {
     "name": "stderr",
     "output_type": "stream",
     "text": [
      "100%|████████████████████████████████████████████████████████████████████████████████| 15/15 [00:00<00:00, 4969.16it/s]"
     ]
    },
    {
     "name": "stdout",
     "output_type": "stream",
     "text": [
      "[['ID4', 'ID37', 'ID35', 'ID13', 'ID16', 'ID12', 'ID23', 'ID39', 'ID27', 'ID8', 'ID1', 'ID21', 'ID29', 'ID17', 'ID10', 'ID7', 'ID3', 'ID42', 'ID24', 'ID6'], ['ID18', 'ID15', 'ID36', 'ID41', 'ID32', 'ID38', 'ID22', 'ID30', 'ID34', 'ID33', 'ID5', 'ID2', 'ID20', 'ID14', 'ID26', 'ID31', 'ID25', 'ID28', 'ID19', 'ID40']]\n",
      "[['ID29', 'ID4', 'ID40', 'ID10', 'ID6', 'ID24', 'ID18', 'ID27', 'ID17', 'ID23', 'ID3', 'ID15', 'ID16', 'ID32', 'ID28', 'ID1', 'ID34', 'ID22', 'ID12', 'ID37'], ['ID8', 'ID14', 'ID31', 'ID30', 'ID42', 'ID35', 'ID19', 'ID20', 'ID2', 'ID9', 'ID11', 'ID39', 'ID21', 'ID38', 'ID7', 'ID33', 'ID13', 'ID36', 'ID26', 'ID5']]\n"
     ]
    },
    {
     "name": "stderr",
     "output_type": "stream",
     "text": [
      "\n"
     ]
    }
   ],
   "source": [
    "##########################################################################################################\n",
    "################################# select pairs' combinations of batches ##################################\n",
    "##########################################################################################################\n",
    "\n",
    "#number of combination's pair to run for each size\n",
    "nbr_comb = 5\n",
    "#minimum nbr of batches to have in a run\n",
    "min_nbr_batch = 6 #5 is the minimum for transition reliability, so lets have it to be \"6\"\n",
    "#compute all possible batch combinations of any size\n",
    "li_batch = df_testing['BatchID'].unique()\n",
    "\n",
    "#list of distinct pairs of batch combinations of different size\n",
    "li_selected_combination_pairs = []\n",
    "#to have distinct pairs, we cant do more than half of what we have\n",
    "for nbr_batch in tqdm.tqdm(range(min_nbr_batch, int(len(li_batch)/2))):\n",
    "    li_sel = []\n",
    "    while len(li_sel)!=nbr_comb:\n",
    "        li_pair1 = random.sample(list(li_batch), nbr_batch)\n",
    "        li_pair2 = random.sample([x for x in li_batch if x not in li_pair1], nbr_batch) \n",
    "        li_sel.append([li_pair1,li_pair2])\n",
    "    li_selected_combination_pairs.extend(li_sel)\n",
    "#do the one with all batches for final outputs\n",
    "li_selected_combination_pairs.append([tuple(li_batch),tuple(li_batch)])\n",
    "print(li_selected_combination_pairs[-3])\n",
    "print(li_selected_combination_pairs[-2])"
   ]
  },
  {
   "cell_type": "code",
   "execution_count": 53,
   "metadata": {},
   "outputs": [
    {
     "name": "stderr",
     "output_type": "stream",
     "text": [
      "  0%|                                                                                           | 0/76 [00:00<?, ?it/s]C:\\Users\\camil\\Anaconda3\\lib\\site-packages\\ipykernel_launcher.py:100: FutureWarning: Indexing with multiple keys (implicitly converted to a tuple of keys) will be deprecated, use a list instead.\n"
     ]
    },
    {
     "name": "stdout",
     "output_type": "stream",
     "text": [
      "(30, 6)\n",
      "(119, 44) (41580, 9) (30, 6)\n"
     ]
    },
    {
     "name": "stderr",
     "output_type": "stream",
     "text": [
      "C:\\Users\\camil\\Anaconda3\\lib\\site-packages\\sklearn\\metrics\\_classification.py:1221: UndefinedMetricWarning: Precision and F-score are ill-defined and being set to 0.0 in labels with no predicted samples. Use `zero_division` parameter to control this behavior.\n",
      "  _warn_prf(average, modifier, msg_start, len(result))\n",
      "C:\\Users\\camil\\Anaconda3\\lib\\site-packages\\pingouin\\parametric.py:978: RuntimeWarning: divide by zero encountered in double_scalars\n",
      "  fval = msbetween / mserror\n",
      "C:\\Users\\camil\\Anaconda3\\lib\\site-packages\\pingouin\\reliability.py:320: RuntimeWarning: divide by zero encountered in double_scalars\n",
      "  f1k = msb / msw\n",
      "C:\\Users\\camil\\Anaconda3\\lib\\site-packages\\pingouin\\reliability.py:325: RuntimeWarning: divide by zero encountered in double_scalars\n",
      "  f2k = f3k = msb / mse\n",
      "C:\\Users\\camil\\Anaconda3\\lib\\site-packages\\pingouin\\reliability.py:349: RuntimeWarning: invalid value encountered in double_scalars\n",
      "  l1 = (f1l - 1) / (f1l + (k - 1))\n",
      "C:\\Users\\camil\\Anaconda3\\lib\\site-packages\\pingouin\\reliability.py:350: RuntimeWarning: invalid value encountered in double_scalars\n",
      "  u1 = (f1u - 1) / (f1u + (k - 1))\n",
      "C:\\Users\\camil\\Anaconda3\\lib\\site-packages\\pingouin\\reliability.py:353: RuntimeWarning: invalid value encountered in double_scalars\n",
      "  l3 = (f3l - 1) / (f3l + (k - 1))\n",
      "C:\\Users\\camil\\Anaconda3\\lib\\site-packages\\pingouin\\reliability.py:354: RuntimeWarning: invalid value encountered in double_scalars\n",
      "  u3 = (f3u - 1) / (f3u + (k - 1))\n",
      "C:\\Users\\camil\\Anaconda3\\lib\\site-packages\\pingouin\\reliability.py:356: RuntimeWarning: invalid value encountered in double_scalars\n",
      "  fj = msj / mse\n",
      "C:\\Users\\camil\\Anaconda3\\lib\\site-packages\\ipykernel_launcher.py:100: FutureWarning: Indexing with multiple keys (implicitly converted to a tuple of keys) will be deprecated, use a list instead.\n"
     ]
    },
    {
     "name": "stdout",
     "output_type": "stream",
     "text": [
      "(30, 6)\n",
      "(154, 44) (36300, 9) (30, 6)\n"
     ]
    },
    {
     "name": "stderr",
     "output_type": "stream",
     "text": [
      "C:\\Users\\camil\\Anaconda3\\lib\\site-packages\\sklearn\\metrics\\_classification.py:1221: UndefinedMetricWarning: Precision and F-score are ill-defined and being set to 0.0 in labels with no predicted samples. Use `zero_division` parameter to control this behavior.\n",
      "  _warn_prf(average, modifier, msg_start, len(result))\n",
      "  1%|█                                                                                  | 1/76 [00:40<50:13, 40.19s/it]C:\\Users\\camil\\Anaconda3\\lib\\site-packages\\ipykernel_launcher.py:100: FutureWarning: Indexing with multiple keys (implicitly converted to a tuple of keys) will be deprecated, use a list instead.\n"
     ]
    },
    {
     "name": "stdout",
     "output_type": "stream",
     "text": [
      "(24, 6)\n",
      "(169, 44) (30840, 9) (24, 6)\n"
     ]
    },
    {
     "name": "stderr",
     "output_type": "stream",
     "text": [
      "C:\\Users\\camil\\Anaconda3\\lib\\site-packages\\sklearn\\metrics\\_classification.py:1221: UndefinedMetricWarning: Precision and F-score are ill-defined and being set to 0.0 in labels with no predicted samples. Use `zero_division` parameter to control this behavior.\n",
      "  _warn_prf(average, modifier, msg_start, len(result))\n",
      "C:\\Users\\camil\\Anaconda3\\lib\\site-packages\\pingouin\\parametric.py:978: RuntimeWarning: divide by zero encountered in double_scalars\n",
      "  fval = msbetween / mserror\n",
      "C:\\Users\\camil\\Anaconda3\\lib\\site-packages\\ipykernel_launcher.py:100: FutureWarning: Indexing with multiple keys (implicitly converted to a tuple of keys) will be deprecated, use a list instead.\n"
     ]
    },
    {
     "name": "stdout",
     "output_type": "stream",
     "text": [
      "(30, 6)\n",
      "(123, 44) (34980, 9) (30, 6)\n"
     ]
    },
    {
     "name": "stderr",
     "output_type": "stream",
     "text": [
      "C:\\Users\\camil\\Anaconda3\\lib\\site-packages\\sklearn\\metrics\\_classification.py:1221: UndefinedMetricWarning: Precision and F-score are ill-defined and being set to 0.0 in labels with no predicted samples. Use `zero_division` parameter to control this behavior.\n",
      "  _warn_prf(average, modifier, msg_start, len(result))\n",
      "  3%|██▏                                                                                | 2/76 [01:20<49:36, 40.22s/it]C:\\Users\\camil\\Anaconda3\\lib\\site-packages\\ipykernel_launcher.py:100: FutureWarning: Indexing with multiple keys (implicitly converted to a tuple of keys) will be deprecated, use a list instead.\n"
     ]
    },
    {
     "name": "stdout",
     "output_type": "stream",
     "text": [
      "(30, 6)\n",
      "(100, 44) (24840, 9) (30, 6)\n"
     ]
    },
    {
     "name": "stderr",
     "output_type": "stream",
     "text": [
      "C:\\Users\\camil\\Anaconda3\\lib\\site-packages\\sklearn\\metrics\\_classification.py:620: RuntimeWarning: invalid value encountered in true_divide\n",
      "  k = np.sum(w_mat * confusion) / np.sum(w_mat * expected)\n",
      "C:\\Users\\camil\\Anaconda3\\lib\\site-packages\\pingouin\\parametric.py:978: RuntimeWarning: divide by zero encountered in double_scalars\n",
      "  fval = msbetween / mserror\n",
      "C:\\Users\\camil\\Anaconda3\\lib\\site-packages\\pingouin\\reliability.py:325: RuntimeWarning: divide by zero encountered in double_scalars\n",
      "  f2k = f3k = msb / mse\n",
      "C:\\Users\\camil\\Anaconda3\\lib\\site-packages\\pingouin\\reliability.py:353: RuntimeWarning: invalid value encountered in double_scalars\n",
      "  l3 = (f3l - 1) / (f3l + (k - 1))\n",
      "C:\\Users\\camil\\Anaconda3\\lib\\site-packages\\pingouin\\reliability.py:354: RuntimeWarning: invalid value encountered in double_scalars\n",
      "  u3 = (f3u - 1) / (f3u + (k - 1))\n",
      "C:\\Users\\camil\\Anaconda3\\lib\\site-packages\\pingouin\\reliability.py:356: RuntimeWarning: divide by zero encountered in double_scalars\n",
      "  fj = msj / mse\n",
      "C:\\Users\\camil\\Anaconda3\\lib\\site-packages\\pingouin\\reliability.py:360: RuntimeWarning: invalid value encountered in double_scalars\n",
      "  v = vn / vd\n",
      "C:\\Users\\camil\\Anaconda3\\lib\\site-packages\\pingouin\\parametric.py:978: RuntimeWarning: divide by zero encountered in double_scalars\n",
      "  fval = msbetween / mserror\n",
      "C:\\Users\\camil\\Anaconda3\\lib\\site-packages\\pingouin\\reliability.py:325: RuntimeWarning: divide by zero encountered in double_scalars\n",
      "  f2k = f3k = msb / mse\n",
      "C:\\Users\\camil\\Anaconda3\\lib\\site-packages\\pingouin\\reliability.py:353: RuntimeWarning: invalid value encountered in double_scalars\n",
      "  l3 = (f3l - 1) / (f3l + (k - 1))\n",
      "C:\\Users\\camil\\Anaconda3\\lib\\site-packages\\pingouin\\reliability.py:354: RuntimeWarning: invalid value encountered in double_scalars\n",
      "  u3 = (f3u - 1) / (f3u + (k - 1))\n",
      "C:\\Users\\camil\\Anaconda3\\lib\\site-packages\\pingouin\\reliability.py:356: RuntimeWarning: divide by zero encountered in double_scalars\n",
      "  fj = msj / mse\n",
      "C:\\Users\\camil\\Anaconda3\\lib\\site-packages\\pingouin\\reliability.py:360: RuntimeWarning: invalid value encountered in double_scalars\n",
      "  v = vn / vd\n",
      "C:\\Users\\camil\\Anaconda3\\lib\\site-packages\\ipykernel_launcher.py:100: FutureWarning: Indexing with multiple keys (implicitly converted to a tuple of keys) will be deprecated, use a list instead.\n"
     ]
    },
    {
     "name": "stdout",
     "output_type": "stream",
     "text": [
      "(30, 6)\n",
      "(137, 44) (37320, 9) (30, 6)\n"
     ]
    },
    {
     "name": "stderr",
     "output_type": "stream",
     "text": [
      "C:\\Users\\camil\\Anaconda3\\lib\\site-packages\\sklearn\\metrics\\_classification.py:1221: UndefinedMetricWarning: Precision and F-score are ill-defined and being set to 0.0 in labels with no predicted samples. Use `zero_division` parameter to control this behavior.\n",
      "  _warn_prf(average, modifier, msg_start, len(result))\n",
      "  4%|███▎                                                                               | 3/76 [01:57<47:45, 39.25s/it]C:\\Users\\camil\\Anaconda3\\lib\\site-packages\\ipykernel_launcher.py:100: FutureWarning: Indexing with multiple keys (implicitly converted to a tuple of keys) will be deprecated, use a list instead.\n"
     ]
    },
    {
     "name": "stdout",
     "output_type": "stream",
     "text": [
      "(30, 6)\n",
      "(106, 44) (39180, 9) (30, 6)\n"
     ]
    },
    {
     "name": "stderr",
     "output_type": "stream",
     "text": [
      "C:\\Users\\camil\\Anaconda3\\lib\\site-packages\\sklearn\\metrics\\_classification.py:1221: UndefinedMetricWarning: Precision and F-score are ill-defined and being set to 0.0 in labels with no predicted samples. Use `zero_division` parameter to control this behavior.\n",
      "  _warn_prf(average, modifier, msg_start, len(result))\n",
      "C:\\Users\\camil\\Anaconda3\\lib\\site-packages\\ipykernel_launcher.py:100: FutureWarning: Indexing with multiple keys (implicitly converted to a tuple of keys) will be deprecated, use a list instead.\n"
     ]
    },
    {
     "name": "stdout",
     "output_type": "stream",
     "text": [
      "(30, 6)\n",
      "(66, 44) (34440, 9) (30, 6)\n"
     ]
    },
    {
     "name": "stderr",
     "output_type": "stream",
     "text": [
      "C:\\Users\\camil\\Anaconda3\\lib\\site-packages\\sklearn\\metrics\\_classification.py:1221: UndefinedMetricWarning: Precision and F-score are ill-defined and being set to 0.0 in labels with no predicted samples. Use `zero_division` parameter to control this behavior.\n",
      "  _warn_prf(average, modifier, msg_start, len(result))\n",
      "  5%|████▎                                                                              | 4/76 [02:39<47:55, 39.94s/it]C:\\Users\\camil\\Anaconda3\\lib\\site-packages\\ipykernel_launcher.py:100: FutureWarning: Indexing with multiple keys (implicitly converted to a tuple of keys) will be deprecated, use a list instead.\n"
     ]
    },
    {
     "name": "stdout",
     "output_type": "stream",
     "text": [
      "(30, 6)\n",
      "(133, 44) (36180, 9) (30, 6)\n"
     ]
    },
    {
     "name": "stderr",
     "output_type": "stream",
     "text": [
      "C:\\Users\\camil\\Anaconda3\\lib\\site-packages\\sklearn\\metrics\\_classification.py:1221: UndefinedMetricWarning: Precision and F-score are ill-defined and being set to 0.0 in labels with no predicted samples. Use `zero_division` parameter to control this behavior.\n",
      "  _warn_prf(average, modifier, msg_start, len(result))\n",
      "C:\\Users\\camil\\Anaconda3\\lib\\site-packages\\pingouin\\parametric.py:978: RuntimeWarning: divide by zero encountered in double_scalars\n",
      "  fval = msbetween / mserror\n",
      "C:\\Users\\camil\\Anaconda3\\lib\\site-packages\\pingouin\\reliability.py:320: RuntimeWarning: divide by zero encountered in double_scalars\n",
      "  f1k = msb / msw\n",
      "C:\\Users\\camil\\Anaconda3\\lib\\site-packages\\pingouin\\reliability.py:325: RuntimeWarning: divide by zero encountered in double_scalars\n",
      "  f2k = f3k = msb / mse\n",
      "C:\\Users\\camil\\Anaconda3\\lib\\site-packages\\pingouin\\reliability.py:349: RuntimeWarning: invalid value encountered in double_scalars\n",
      "  l1 = (f1l - 1) / (f1l + (k - 1))\n",
      "C:\\Users\\camil\\Anaconda3\\lib\\site-packages\\pingouin\\reliability.py:350: RuntimeWarning: invalid value encountered in double_scalars\n",
      "  u1 = (f1u - 1) / (f1u + (k - 1))\n",
      "C:\\Users\\camil\\Anaconda3\\lib\\site-packages\\pingouin\\reliability.py:353: RuntimeWarning: invalid value encountered in double_scalars\n",
      "  l3 = (f3l - 1) / (f3l + (k - 1))\n",
      "C:\\Users\\camil\\Anaconda3\\lib\\site-packages\\pingouin\\reliability.py:354: RuntimeWarning: invalid value encountered in double_scalars\n",
      "  u3 = (f3u - 1) / (f3u + (k - 1))\n",
      "C:\\Users\\camil\\Anaconda3\\lib\\site-packages\\pingouin\\reliability.py:356: RuntimeWarning: invalid value encountered in double_scalars\n",
      "  fj = msj / mse\n",
      "C:\\Users\\camil\\Anaconda3\\lib\\site-packages\\ipykernel_launcher.py:100: FutureWarning: Indexing with multiple keys (implicitly converted to a tuple of keys) will be deprecated, use a list instead.\n"
     ]
    },
    {
     "name": "stdout",
     "output_type": "stream",
     "text": [
      "(30, 6)\n",
      "(141, 44) (43920, 9) (30, 6)\n"
     ]
    },
    {
     "name": "stderr",
     "output_type": "stream",
     "text": [
      "C:\\Users\\camil\\Anaconda3\\lib\\site-packages\\sklearn\\metrics\\_classification.py:1221: UndefinedMetricWarning: Precision and F-score are ill-defined and being set to 0.0 in labels with no predicted samples. Use `zero_division` parameter to control this behavior.\n",
      "  _warn_prf(average, modifier, msg_start, len(result))\n",
      "  7%|█████▍                                                                             | 5/76 [03:21<48:09, 40.70s/it]C:\\Users\\camil\\Anaconda3\\lib\\site-packages\\ipykernel_launcher.py:100: FutureWarning: Indexing with multiple keys (implicitly converted to a tuple of keys) will be deprecated, use a list instead.\n"
     ]
    },
    {
     "name": "stdout",
     "output_type": "stream",
     "text": [
      "(35, 6)\n",
      "(131, 44) (44460, 9) (35, 6)\n"
     ]
    },
    {
     "name": "stderr",
     "output_type": "stream",
     "text": [
      "C:\\Users\\camil\\Anaconda3\\lib\\site-packages\\sklearn\\metrics\\_classification.py:1221: UndefinedMetricWarning: Precision and F-score are ill-defined and being set to 0.0 in labels with no predicted samples. Use `zero_division` parameter to control this behavior.\n",
      "  _warn_prf(average, modifier, msg_start, len(result))\n",
      "C:\\Users\\camil\\Anaconda3\\lib\\site-packages\\ipykernel_launcher.py:100: FutureWarning: Indexing with multiple keys (implicitly converted to a tuple of keys) will be deprecated, use a list instead.\n"
     ]
    },
    {
     "name": "stdout",
     "output_type": "stream",
     "text": [
      "(35, 6)\n",
      "(145, 44) (40320, 9) (35, 6)\n"
     ]
    },
    {
     "name": "stderr",
     "output_type": "stream",
     "text": [
      "C:\\Users\\camil\\Anaconda3\\lib\\site-packages\\sklearn\\metrics\\_classification.py:1221: UndefinedMetricWarning: Precision and F-score are ill-defined and being set to 0.0 in labels with no predicted samples. Use `zero_division` parameter to control this behavior.\n",
      "  _warn_prf(average, modifier, msg_start, len(result))\n",
      "C:\\Users\\camil\\Anaconda3\\lib\\site-packages\\pingouin\\parametric.py:978: RuntimeWarning: divide by zero encountered in double_scalars\n",
      "  fval = msbetween / mserror\n",
      "  8%|██████▌                                                                            | 6/76 [04:32<57:58, 49.70s/it]C:\\Users\\camil\\Anaconda3\\lib\\site-packages\\ipykernel_launcher.py:100: FutureWarning: Indexing with multiple keys (implicitly converted to a tuple of keys) will be deprecated, use a list instead.\n"
     ]
    },
    {
     "name": "stdout",
     "output_type": "stream",
     "text": [
      "(35, 6)\n",
      "(192, 44) (47340, 9) (35, 6)\n"
     ]
    },
    {
     "name": "stderr",
     "output_type": "stream",
     "text": [
      "C:\\Users\\camil\\Anaconda3\\lib\\site-packages\\sklearn\\metrics\\_classification.py:1221: UndefinedMetricWarning: Precision and F-score are ill-defined and being set to 0.0 in labels with no predicted samples. Use `zero_division` parameter to control this behavior.\n",
      "  _warn_prf(average, modifier, msg_start, len(result))\n",
      "C:\\Users\\camil\\Anaconda3\\lib\\site-packages\\ipykernel_launcher.py:100: FutureWarning: Indexing with multiple keys (implicitly converted to a tuple of keys) will be deprecated, use a list instead.\n"
     ]
    },
    {
     "name": "stdout",
     "output_type": "stream",
     "text": [
      "(35, 6)\n",
      "(128, 44) (43860, 9) (35, 6)\n"
     ]
    },
    {
     "name": "stderr",
     "output_type": "stream",
     "text": [
      "C:\\Users\\camil\\Anaconda3\\lib\\site-packages\\sklearn\\metrics\\_classification.py:1221: UndefinedMetricWarning: Precision and F-score are ill-defined and being set to 0.0 in labels with no predicted samples. Use `zero_division` parameter to control this behavior.\n",
      "  _warn_prf(average, modifier, msg_start, len(result))\n",
      "  9%|███████▍                                                                         | 7/76 [06:00<1:10:21, 61.18s/it]C:\\Users\\camil\\Anaconda3\\lib\\site-packages\\ipykernel_launcher.py:100: FutureWarning: Indexing with multiple keys (implicitly converted to a tuple of keys) will be deprecated, use a list instead.\n"
     ]
    },
    {
     "name": "stdout",
     "output_type": "stream",
     "text": [
      "(35, 6)\n",
      "(134, 44) (40680, 9) (35, 6)\n"
     ]
    },
    {
     "name": "stderr",
     "output_type": "stream",
     "text": [
      "C:\\Users\\camil\\Anaconda3\\lib\\site-packages\\sklearn\\metrics\\_classification.py:1221: UndefinedMetricWarning: Precision and F-score are ill-defined and being set to 0.0 in labels with no predicted samples. Use `zero_division` parameter to control this behavior.\n",
      "  _warn_prf(average, modifier, msg_start, len(result))\n",
      "C:\\Users\\camil\\Anaconda3\\lib\\site-packages\\pingouin\\parametric.py:978: RuntimeWarning: divide by zero encountered in double_scalars\n",
      "  fval = msbetween / mserror\n",
      "C:\\Users\\camil\\Anaconda3\\lib\\site-packages\\ipykernel_launcher.py:100: FutureWarning: Indexing with multiple keys (implicitly converted to a tuple of keys) will be deprecated, use a list instead.\n"
     ]
    },
    {
     "name": "stdout",
     "output_type": "stream",
     "text": [
      "(35, 6)\n",
      "(190, 44) (44520, 9) (35, 6)\n"
     ]
    },
    {
     "name": "stderr",
     "output_type": "stream",
     "text": [
      "C:\\Users\\camil\\Anaconda3\\lib\\site-packages\\sklearn\\metrics\\_classification.py:1221: UndefinedMetricWarning: Precision and F-score are ill-defined and being set to 0.0 in labels with no predicted samples. Use `zero_division` parameter to control this behavior.\n",
      "  _warn_prf(average, modifier, msg_start, len(result))\n",
      " 11%|████████▌                                                                        | 8/76 [07:22<1:16:31, 67.52s/it]C:\\Users\\camil\\Anaconda3\\lib\\site-packages\\ipykernel_launcher.py:100: FutureWarning: Indexing with multiple keys (implicitly converted to a tuple of keys) will be deprecated, use a list instead.\n"
     ]
    },
    {
     "name": "stdout",
     "output_type": "stream",
     "text": [
      "(35, 6)\n",
      "(143, 44) (42780, 9) (35, 6)\n"
     ]
    },
    {
     "name": "stderr",
     "output_type": "stream",
     "text": [
      "C:\\Users\\camil\\Anaconda3\\lib\\site-packages\\sklearn\\metrics\\_classification.py:1221: UndefinedMetricWarning: Precision and F-score are ill-defined and being set to 0.0 in labels with no predicted samples. Use `zero_division` parameter to control this behavior.\n",
      "  _warn_prf(average, modifier, msg_start, len(result))\n",
      "C:\\Users\\camil\\Anaconda3\\lib\\site-packages\\pingouin\\parametric.py:978: RuntimeWarning: divide by zero encountered in double_scalars\n",
      "  fval = msbetween / mserror\n",
      "C:\\Users\\camil\\Anaconda3\\lib\\site-packages\\pingouin\\reliability.py:325: RuntimeWarning: divide by zero encountered in double_scalars\n",
      "  f2k = f3k = msb / mse\n",
      "C:\\Users\\camil\\Anaconda3\\lib\\site-packages\\pingouin\\reliability.py:353: RuntimeWarning: invalid value encountered in double_scalars\n",
      "  l3 = (f3l - 1) / (f3l + (k - 1))\n",
      "C:\\Users\\camil\\Anaconda3\\lib\\site-packages\\pingouin\\reliability.py:354: RuntimeWarning: invalid value encountered in double_scalars\n",
      "  u3 = (f3u - 1) / (f3u + (k - 1))\n",
      "C:\\Users\\camil\\Anaconda3\\lib\\site-packages\\pingouin\\reliability.py:356: RuntimeWarning: divide by zero encountered in double_scalars\n",
      "  fj = msj / mse\n",
      "C:\\Users\\camil\\Anaconda3\\lib\\site-packages\\pingouin\\reliability.py:360: RuntimeWarning: invalid value encountered in double_scalars\n",
      "  v = vn / vd\n",
      "C:\\Users\\camil\\Anaconda3\\lib\\site-packages\\ipykernel_launcher.py:100: FutureWarning: Indexing with multiple keys (implicitly converted to a tuple of keys) will be deprecated, use a list instead.\n"
     ]
    },
    {
     "name": "stdout",
     "output_type": "stream",
     "text": [
      "(35, 6)\n",
      "(112, 44) (42960, 9) (35, 6)\n"
     ]
    },
    {
     "name": "stderr",
     "output_type": "stream",
     "text": [
      "C:\\Users\\camil\\Anaconda3\\lib\\site-packages\\sklearn\\metrics\\_classification.py:1221: UndefinedMetricWarning: Precision and F-score are ill-defined and being set to 0.0 in labels with no predicted samples. Use `zero_division` parameter to control this behavior.\n",
      "  _warn_prf(average, modifier, msg_start, len(result))\n",
      "C:\\Users\\camil\\Anaconda3\\lib\\site-packages\\pingouin\\parametric.py:978: RuntimeWarning: divide by zero encountered in double_scalars\n",
      "  fval = msbetween / mserror\n",
      " 12%|█████████▌                                                                       | 9/76 [08:29<1:15:13, 67.36s/it]C:\\Users\\camil\\Anaconda3\\lib\\site-packages\\ipykernel_launcher.py:100: FutureWarning: Indexing with multiple keys (implicitly converted to a tuple of keys) will be deprecated, use a list instead.\n"
     ]
    },
    {
     "name": "stdout",
     "output_type": "stream",
     "text": [
      "(35, 6)\n",
      "(128, 44) (35040, 9) (35, 6)\n"
     ]
    },
    {
     "name": "stderr",
     "output_type": "stream",
     "text": [
      "C:\\Users\\camil\\Anaconda3\\lib\\site-packages\\sklearn\\metrics\\_classification.py:1221: UndefinedMetricWarning: Precision and F-score are ill-defined and being set to 0.0 in labels with no predicted samples. Use `zero_division` parameter to control this behavior.\n",
      "  _warn_prf(average, modifier, msg_start, len(result))\n",
      "C:\\Users\\camil\\Anaconda3\\lib\\site-packages\\pingouin\\parametric.py:978: RuntimeWarning: divide by zero encountered in double_scalars\n",
      "  fval = msbetween / mserror\n",
      "C:\\Users\\camil\\Anaconda3\\lib\\site-packages\\ipykernel_launcher.py:100: FutureWarning: Indexing with multiple keys (implicitly converted to a tuple of keys) will be deprecated, use a list instead.\n"
     ]
    },
    {
     "name": "stdout",
     "output_type": "stream",
     "text": [
      "(35, 6)\n",
      "(114, 44) (43560, 9) (35, 6)\n"
     ]
    },
    {
     "name": "stderr",
     "output_type": "stream",
     "text": [
      "C:\\Users\\camil\\Anaconda3\\lib\\site-packages\\sklearn\\metrics\\_classification.py:1221: UndefinedMetricWarning: Precision and F-score are ill-defined and being set to 0.0 in labels with no predicted samples. Use `zero_division` parameter to control this behavior.\n",
      "  _warn_prf(average, modifier, msg_start, len(result))\n",
      " 13%|██████████▌                                                                     | 10/76 [09:40<1:15:14, 68.40s/it]C:\\Users\\camil\\Anaconda3\\lib\\site-packages\\ipykernel_launcher.py:100: FutureWarning: Indexing with multiple keys (implicitly converted to a tuple of keys) will be deprecated, use a list instead.\n"
     ]
    },
    {
     "name": "stdout",
     "output_type": "stream",
     "text": [
      "(40, 6)\n",
      "(133, 44) (49080, 9) (40, 6)\n"
     ]
    },
    {
     "name": "stderr",
     "output_type": "stream",
     "text": [
      "C:\\Users\\camil\\Anaconda3\\lib\\site-packages\\sklearn\\metrics\\_classification.py:620: RuntimeWarning: invalid value encountered in true_divide\n",
      "  k = np.sum(w_mat * confusion) / np.sum(w_mat * expected)\n",
      "C:\\Users\\camil\\Anaconda3\\lib\\site-packages\\pingouin\\parametric.py:978: RuntimeWarning: divide by zero encountered in double_scalars\n",
      "  fval = msbetween / mserror\n",
      "C:\\Users\\camil\\Anaconda3\\lib\\site-packages\\pingouin\\reliability.py:320: RuntimeWarning: divide by zero encountered in double_scalars\n",
      "  f1k = msb / msw\n",
      "C:\\Users\\camil\\Anaconda3\\lib\\site-packages\\pingouin\\reliability.py:325: RuntimeWarning: divide by zero encountered in double_scalars\n",
      "  f2k = f3k = msb / mse\n",
      "C:\\Users\\camil\\Anaconda3\\lib\\site-packages\\pingouin\\reliability.py:349: RuntimeWarning: invalid value encountered in double_scalars\n",
      "  l1 = (f1l - 1) / (f1l + (k - 1))\n",
      "C:\\Users\\camil\\Anaconda3\\lib\\site-packages\\pingouin\\reliability.py:350: RuntimeWarning: invalid value encountered in double_scalars\n",
      "  u1 = (f1u - 1) / (f1u + (k - 1))\n",
      "C:\\Users\\camil\\Anaconda3\\lib\\site-packages\\pingouin\\reliability.py:353: RuntimeWarning: invalid value encountered in double_scalars\n",
      "  l3 = (f3l - 1) / (f3l + (k - 1))\n",
      "C:\\Users\\camil\\Anaconda3\\lib\\site-packages\\pingouin\\reliability.py:354: RuntimeWarning: invalid value encountered in double_scalars\n",
      "  u3 = (f3u - 1) / (f3u + (k - 1))\n",
      "C:\\Users\\camil\\Anaconda3\\lib\\site-packages\\pingouin\\reliability.py:356: RuntimeWarning: invalid value encountered in double_scalars\n",
      "  fj = msj / mse\n",
      "C:\\Users\\camil\\Anaconda3\\lib\\site-packages\\pingouin\\parametric.py:978: RuntimeWarning: divide by zero encountered in double_scalars\n",
      "  fval = msbetween / mserror\n",
      "C:\\Users\\camil\\Anaconda3\\lib\\site-packages\\pingouin\\reliability.py:320: RuntimeWarning: divide by zero encountered in double_scalars\n",
      "  f1k = msb / msw\n",
      "C:\\Users\\camil\\Anaconda3\\lib\\site-packages\\pingouin\\reliability.py:325: RuntimeWarning: divide by zero encountered in double_scalars\n",
      "  f2k = f3k = msb / mse\n",
      "C:\\Users\\camil\\Anaconda3\\lib\\site-packages\\pingouin\\reliability.py:349: RuntimeWarning: invalid value encountered in double_scalars\n",
      "  l1 = (f1l - 1) / (f1l + (k - 1))\n",
      "C:\\Users\\camil\\Anaconda3\\lib\\site-packages\\pingouin\\reliability.py:350: RuntimeWarning: invalid value encountered in double_scalars\n",
      "  u1 = (f1u - 1) / (f1u + (k - 1))\n",
      "C:\\Users\\camil\\Anaconda3\\lib\\site-packages\\pingouin\\reliability.py:353: RuntimeWarning: invalid value encountered in double_scalars\n",
      "  l3 = (f3l - 1) / (f3l + (k - 1))\n",
      "C:\\Users\\camil\\Anaconda3\\lib\\site-packages\\pingouin\\reliability.py:354: RuntimeWarning: invalid value encountered in double_scalars\n",
      "  u3 = (f3u - 1) / (f3u + (k - 1))\n",
      "C:\\Users\\camil\\Anaconda3\\lib\\site-packages\\pingouin\\reliability.py:356: RuntimeWarning: invalid value encountered in double_scalars\n",
      "  fj = msj / mse\n",
      "C:\\Users\\camil\\Anaconda3\\lib\\site-packages\\ipykernel_launcher.py:100: FutureWarning: Indexing with multiple keys (implicitly converted to a tuple of keys) will be deprecated, use a list instead.\n"
     ]
    },
    {
     "name": "stdout",
     "output_type": "stream",
     "text": [
      "(40, 6)\n",
      "(174, 44) (52140, 9) (40, 6)\n"
     ]
    },
    {
     "name": "stderr",
     "output_type": "stream",
     "text": [
      "C:\\Users\\camil\\Anaconda3\\lib\\site-packages\\sklearn\\metrics\\_classification.py:1221: UndefinedMetricWarning: Precision and F-score are ill-defined and being set to 0.0 in labels with no predicted samples. Use `zero_division` parameter to control this behavior.\n",
      "  _warn_prf(average, modifier, msg_start, len(result))\n",
      " 14%|███████████▌                                                                    | 11/76 [11:13<1:22:06, 75.80s/it]C:\\Users\\camil\\Anaconda3\\lib\\site-packages\\ipykernel_launcher.py:100: FutureWarning: Indexing with multiple keys (implicitly converted to a tuple of keys) will be deprecated, use a list instead.\n"
     ]
    },
    {
     "name": "stdout",
     "output_type": "stream",
     "text": [
      "(40, 6)\n",
      "(136, 44) (42540, 9) (40, 6)\n"
     ]
    },
    {
     "name": "stderr",
     "output_type": "stream",
     "text": [
      "C:\\Users\\camil\\Anaconda3\\lib\\site-packages\\sklearn\\metrics\\_classification.py:1221: UndefinedMetricWarning: Precision and F-score are ill-defined and being set to 0.0 in labels with no predicted samples. Use `zero_division` parameter to control this behavior.\n",
      "  _warn_prf(average, modifier, msg_start, len(result))\n",
      "C:\\Users\\camil\\Anaconda3\\lib\\site-packages\\pingouin\\parametric.py:978: RuntimeWarning: divide by zero encountered in double_scalars\n",
      "  fval = msbetween / mserror\n",
      "C:\\Users\\camil\\Anaconda3\\lib\\site-packages\\pingouin\\reliability.py:325: RuntimeWarning: divide by zero encountered in double_scalars\n",
      "  f2k = f3k = msb / mse\n",
      "C:\\Users\\camil\\Anaconda3\\lib\\site-packages\\pingouin\\reliability.py:353: RuntimeWarning: invalid value encountered in double_scalars\n",
      "  l3 = (f3l - 1) / (f3l + (k - 1))\n",
      "C:\\Users\\camil\\Anaconda3\\lib\\site-packages\\pingouin\\reliability.py:354: RuntimeWarning: invalid value encountered in double_scalars\n",
      "  u3 = (f3u - 1) / (f3u + (k - 1))\n",
      "C:\\Users\\camil\\Anaconda3\\lib\\site-packages\\pingouin\\reliability.py:356: RuntimeWarning: divide by zero encountered in double_scalars\n",
      "  fj = msj / mse\n",
      "C:\\Users\\camil\\Anaconda3\\lib\\site-packages\\pingouin\\reliability.py:360: RuntimeWarning: invalid value encountered in double_scalars\n",
      "  v = vn / vd\n",
      "C:\\Users\\camil\\Anaconda3\\lib\\site-packages\\ipykernel_launcher.py:100: FutureWarning: Indexing with multiple keys (implicitly converted to a tuple of keys) will be deprecated, use a list instead.\n"
     ]
    },
    {
     "name": "stdout",
     "output_type": "stream",
     "text": [
      "(40, 6)\n",
      "(99, 44) (46800, 9) (40, 6)\n"
     ]
    },
    {
     "name": "stderr",
     "output_type": "stream",
     "text": [
      "C:\\Users\\camil\\Anaconda3\\lib\\site-packages\\sklearn\\metrics\\_classification.py:1221: UndefinedMetricWarning: Precision and F-score are ill-defined and being set to 0.0 in labels with no predicted samples. Use `zero_division` parameter to control this behavior.\n",
      "  _warn_prf(average, modifier, msg_start, len(result))\n",
      "C:\\Users\\camil\\Anaconda3\\lib\\site-packages\\pingouin\\parametric.py:978: RuntimeWarning: divide by zero encountered in double_scalars\n",
      "  fval = msbetween / mserror\n",
      "C:\\Users\\camil\\Anaconda3\\lib\\site-packages\\pingouin\\reliability.py:320: RuntimeWarning: divide by zero encountered in double_scalars\n",
      "  f1k = msb / msw\n",
      "C:\\Users\\camil\\Anaconda3\\lib\\site-packages\\pingouin\\reliability.py:325: RuntimeWarning: divide by zero encountered in double_scalars\n",
      "  f2k = f3k = msb / mse\n",
      "C:\\Users\\camil\\Anaconda3\\lib\\site-packages\\pingouin\\reliability.py:349: RuntimeWarning: invalid value encountered in double_scalars\n",
      "  l1 = (f1l - 1) / (f1l + (k - 1))\n",
      "C:\\Users\\camil\\Anaconda3\\lib\\site-packages\\pingouin\\reliability.py:350: RuntimeWarning: invalid value encountered in double_scalars\n",
      "  u1 = (f1u - 1) / (f1u + (k - 1))\n",
      "C:\\Users\\camil\\Anaconda3\\lib\\site-packages\\pingouin\\reliability.py:353: RuntimeWarning: invalid value encountered in double_scalars\n",
      "  l3 = (f3l - 1) / (f3l + (k - 1))\n",
      "C:\\Users\\camil\\Anaconda3\\lib\\site-packages\\pingouin\\reliability.py:354: RuntimeWarning: invalid value encountered in double_scalars\n",
      "  u3 = (f3u - 1) / (f3u + (k - 1))\n",
      "C:\\Users\\camil\\Anaconda3\\lib\\site-packages\\pingouin\\reliability.py:356: RuntimeWarning: invalid value encountered in double_scalars\n",
      "  fj = msj / mse\n",
      " 16%|████████████▋                                                                   | 12/76 [12:39<1:24:01, 78.78s/it]C:\\Users\\camil\\Anaconda3\\lib\\site-packages\\ipykernel_launcher.py:100: FutureWarning: Indexing with multiple keys (implicitly converted to a tuple of keys) will be deprecated, use a list instead.\n"
     ]
    },
    {
     "name": "stdout",
     "output_type": "stream",
     "text": [
      "(40, 6)\n",
      "(147, 44) (50100, 9) (40, 6)\n"
     ]
    },
    {
     "name": "stderr",
     "output_type": "stream",
     "text": [
      "C:\\Users\\camil\\Anaconda3\\lib\\site-packages\\sklearn\\metrics\\_classification.py:1221: UndefinedMetricWarning: Precision and F-score are ill-defined and being set to 0.0 in labels with no predicted samples. Use `zero_division` parameter to control this behavior.\n",
      "  _warn_prf(average, modifier, msg_start, len(result))\n",
      "C:\\Users\\camil\\Anaconda3\\lib\\site-packages\\pingouin\\parametric.py:978: RuntimeWarning: divide by zero encountered in double_scalars\n",
      "  fval = msbetween / mserror\n",
      "C:\\Users\\camil\\Anaconda3\\lib\\site-packages\\pingouin\\reliability.py:320: RuntimeWarning: divide by zero encountered in double_scalars\n",
      "  f1k = msb / msw\n",
      "C:\\Users\\camil\\Anaconda3\\lib\\site-packages\\pingouin\\reliability.py:325: RuntimeWarning: divide by zero encountered in double_scalars\n",
      "  f2k = f3k = msb / mse\n",
      "C:\\Users\\camil\\Anaconda3\\lib\\site-packages\\pingouin\\reliability.py:349: RuntimeWarning: invalid value encountered in double_scalars\n",
      "  l1 = (f1l - 1) / (f1l + (k - 1))\n",
      "C:\\Users\\camil\\Anaconda3\\lib\\site-packages\\pingouin\\reliability.py:350: RuntimeWarning: invalid value encountered in double_scalars\n",
      "  u1 = (f1u - 1) / (f1u + (k - 1))\n",
      "C:\\Users\\camil\\Anaconda3\\lib\\site-packages\\pingouin\\reliability.py:353: RuntimeWarning: invalid value encountered in double_scalars\n",
      "  l3 = (f3l - 1) / (f3l + (k - 1))\n",
      "C:\\Users\\camil\\Anaconda3\\lib\\site-packages\\pingouin\\reliability.py:354: RuntimeWarning: invalid value encountered in double_scalars\n",
      "  u3 = (f3u - 1) / (f3u + (k - 1))\n",
      "C:\\Users\\camil\\Anaconda3\\lib\\site-packages\\pingouin\\reliability.py:356: RuntimeWarning: invalid value encountered in double_scalars\n",
      "  fj = msj / mse\n",
      "C:\\Users\\camil\\Anaconda3\\lib\\site-packages\\ipykernel_launcher.py:100: FutureWarning: Indexing with multiple keys (implicitly converted to a tuple of keys) will be deprecated, use a list instead.\n"
     ]
    },
    {
     "name": "stdout",
     "output_type": "stream",
     "text": [
      "(40, 6)\n",
      "(212, 44) (53220, 9) (40, 6)\n"
     ]
    },
    {
     "name": "stderr",
     "output_type": "stream",
     "text": [
      "C:\\Users\\camil\\Anaconda3\\lib\\site-packages\\sklearn\\metrics\\_classification.py:1221: UndefinedMetricWarning: Precision and F-score are ill-defined and being set to 0.0 in labels with no predicted samples. Use `zero_division` parameter to control this behavior.\n",
      "  _warn_prf(average, modifier, msg_start, len(result))\n",
      " 17%|█████████████▋                                                                  | 13/76 [14:08<1:25:56, 81.85s/it]C:\\Users\\camil\\Anaconda3\\lib\\site-packages\\ipykernel_launcher.py:100: FutureWarning: Indexing with multiple keys (implicitly converted to a tuple of keys) will be deprecated, use a list instead.\n"
     ]
    },
    {
     "name": "stdout",
     "output_type": "stream",
     "text": [
      "(40, 6)\n",
      "(135, 44) (43800, 9) (40, 6)\n"
     ]
    },
    {
     "name": "stderr",
     "output_type": "stream",
     "text": [
      "C:\\Users\\camil\\Anaconda3\\lib\\site-packages\\sklearn\\metrics\\_classification.py:1221: UndefinedMetricWarning: Precision and F-score are ill-defined and being set to 0.0 in labels with no predicted samples. Use `zero_division` parameter to control this behavior.\n",
      "  _warn_prf(average, modifier, msg_start, len(result))\n",
      "C:\\Users\\camil\\Anaconda3\\lib\\site-packages\\pingouin\\parametric.py:978: RuntimeWarning: divide by zero encountered in double_scalars\n",
      "  fval = msbetween / mserror\n",
      "C:\\Users\\camil\\Anaconda3\\lib\\site-packages\\pingouin\\reliability.py:325: RuntimeWarning: divide by zero encountered in double_scalars\n",
      "  f2k = f3k = msb / mse\n",
      "C:\\Users\\camil\\Anaconda3\\lib\\site-packages\\pingouin\\reliability.py:353: RuntimeWarning: invalid value encountered in double_scalars\n",
      "  l3 = (f3l - 1) / (f3l + (k - 1))\n",
      "C:\\Users\\camil\\Anaconda3\\lib\\site-packages\\pingouin\\reliability.py:354: RuntimeWarning: invalid value encountered in double_scalars\n",
      "  u3 = (f3u - 1) / (f3u + (k - 1))\n",
      "C:\\Users\\camil\\Anaconda3\\lib\\site-packages\\pingouin\\reliability.py:356: RuntimeWarning: divide by zero encountered in double_scalars\n",
      "  fj = msj / mse\n",
      "C:\\Users\\camil\\Anaconda3\\lib\\site-packages\\pingouin\\reliability.py:360: RuntimeWarning: invalid value encountered in double_scalars\n",
      "  v = vn / vd\n",
      "C:\\Users\\camil\\Anaconda3\\lib\\site-packages\\ipykernel_launcher.py:100: FutureWarning: Indexing with multiple keys (implicitly converted to a tuple of keys) will be deprecated, use a list instead.\n"
     ]
    },
    {
     "name": "stdout",
     "output_type": "stream",
     "text": [
      "(40, 6)\n",
      "(197, 44) (53580, 9) (40, 6)\n"
     ]
    },
    {
     "name": "stderr",
     "output_type": "stream",
     "text": [
      "C:\\Users\\camil\\Anaconda3\\lib\\site-packages\\sklearn\\metrics\\_classification.py:1221: UndefinedMetricWarning: Precision and F-score are ill-defined and being set to 0.0 in labels with no predicted samples. Use `zero_division` parameter to control this behavior.\n",
      "  _warn_prf(average, modifier, msg_start, len(result))\n",
      " 18%|██████████████▋                                                                 | 14/76 [15:31<1:25:07, 82.37s/it]C:\\Users\\camil\\Anaconda3\\lib\\site-packages\\ipykernel_launcher.py:100: FutureWarning: Indexing with multiple keys (implicitly converted to a tuple of keys) will be deprecated, use a list instead.\n"
     ]
    },
    {
     "name": "stdout",
     "output_type": "stream",
     "text": [
      "(40, 6)\n",
      "(194, 44) (51420, 9) (40, 6)\n"
     ]
    },
    {
     "name": "stderr",
     "output_type": "stream",
     "text": [
      "C:\\Users\\camil\\Anaconda3\\lib\\site-packages\\sklearn\\metrics\\_classification.py:1221: UndefinedMetricWarning: Precision and F-score are ill-defined and being set to 0.0 in labels with no predicted samples. Use `zero_division` parameter to control this behavior.\n",
      "  _warn_prf(average, modifier, msg_start, len(result))\n",
      "C:\\Users\\camil\\Anaconda3\\lib\\site-packages\\ipykernel_launcher.py:100: FutureWarning: Indexing with multiple keys (implicitly converted to a tuple of keys) will be deprecated, use a list instead.\n"
     ]
    },
    {
     "name": "stdout",
     "output_type": "stream",
     "text": [
      "(40, 6)\n",
      "(193, 44) (54120, 9) (40, 6)\n"
     ]
    },
    {
     "name": "stderr",
     "output_type": "stream",
     "text": [
      "C:\\Users\\camil\\Anaconda3\\lib\\site-packages\\sklearn\\metrics\\_classification.py:1221: UndefinedMetricWarning: Precision and F-score are ill-defined and being set to 0.0 in labels with no predicted samples. Use `zero_division` parameter to control this behavior.\n",
      "  _warn_prf(average, modifier, msg_start, len(result))\n",
      " 20%|███████████████▊                                                                | 15/76 [16:58<1:24:59, 83.59s/it]C:\\Users\\camil\\Anaconda3\\lib\\site-packages\\ipykernel_launcher.py:100: FutureWarning: Indexing with multiple keys (implicitly converted to a tuple of keys) will be deprecated, use a list instead.\n"
     ]
    },
    {
     "name": "stdout",
     "output_type": "stream",
     "text": [
      "(45, 6)\n",
      "(158, 44) (53160, 9) (45, 6)\n"
     ]
    },
    {
     "name": "stderr",
     "output_type": "stream",
     "text": [
      "C:\\Users\\camil\\Anaconda3\\lib\\site-packages\\sklearn\\metrics\\_classification.py:1221: UndefinedMetricWarning: Precision and F-score are ill-defined and being set to 0.0 in labels with no predicted samples. Use `zero_division` parameter to control this behavior.\n",
      "  _warn_prf(average, modifier, msg_start, len(result))\n",
      "C:\\Users\\camil\\Anaconda3\\lib\\site-packages\\pingouin\\parametric.py:978: RuntimeWarning: divide by zero encountered in double_scalars\n",
      "  fval = msbetween / mserror\n",
      "C:\\Users\\camil\\Anaconda3\\lib\\site-packages\\ipykernel_launcher.py:100: FutureWarning: Indexing with multiple keys (implicitly converted to a tuple of keys) will be deprecated, use a list instead.\n"
     ]
    },
    {
     "name": "stdout",
     "output_type": "stream",
     "text": [
      "(45, 6)\n",
      "(178, 44) (58680, 9) (45, 6)\n"
     ]
    },
    {
     "name": "stderr",
     "output_type": "stream",
     "text": [
      "C:\\Users\\camil\\Anaconda3\\lib\\site-packages\\sklearn\\metrics\\_classification.py:1221: UndefinedMetricWarning: Precision and F-score are ill-defined and being set to 0.0 in labels with no predicted samples. Use `zero_division` parameter to control this behavior.\n",
      "  _warn_prf(average, modifier, msg_start, len(result))\n",
      " 21%|████████████████▊                                                               | 16/76 [18:30<1:26:16, 86.27s/it]C:\\Users\\camil\\Anaconda3\\lib\\site-packages\\ipykernel_launcher.py:100: FutureWarning: Indexing with multiple keys (implicitly converted to a tuple of keys) will be deprecated, use a list instead.\n"
     ]
    },
    {
     "name": "stdout",
     "output_type": "stream",
     "text": [
      "(45, 6)\n",
      "(206, 44) (50760, 9) (45, 6)\n"
     ]
    },
    {
     "name": "stderr",
     "output_type": "stream",
     "text": [
      "C:\\Users\\camil\\Anaconda3\\lib\\site-packages\\sklearn\\metrics\\_classification.py:1221: UndefinedMetricWarning: Precision and F-score are ill-defined and being set to 0.0 in labels with no predicted samples. Use `zero_division` parameter to control this behavior.\n",
      "  _warn_prf(average, modifier, msg_start, len(result))\n",
      "C:\\Users\\camil\\Anaconda3\\lib\\site-packages\\ipykernel_launcher.py:100: FutureWarning: Indexing with multiple keys (implicitly converted to a tuple of keys) will be deprecated, use a list instead.\n"
     ]
    },
    {
     "name": "stdout",
     "output_type": "stream",
     "text": [
      "(45, 6)\n",
      "(165, 44) (55380, 9) (45, 6)\n"
     ]
    },
    {
     "name": "stderr",
     "output_type": "stream",
     "text": [
      "C:\\Users\\camil\\Anaconda3\\lib\\site-packages\\sklearn\\metrics\\_classification.py:1221: UndefinedMetricWarning: Precision and F-score are ill-defined and being set to 0.0 in labels with no predicted samples. Use `zero_division` parameter to control this behavior.\n",
      "  _warn_prf(average, modifier, msg_start, len(result))\n",
      "C:\\Users\\camil\\Anaconda3\\lib\\site-packages\\pingouin\\parametric.py:978: RuntimeWarning: divide by zero encountered in double_scalars\n",
      "  fval = msbetween / mserror\n",
      " 22%|█████████████████▉                                                              | 17/76 [19:57<1:25:06, 86.56s/it]C:\\Users\\camil\\Anaconda3\\lib\\site-packages\\ipykernel_launcher.py:100: FutureWarning: Indexing with multiple keys (implicitly converted to a tuple of keys) will be deprecated, use a list instead.\n"
     ]
    },
    {
     "name": "stdout",
     "output_type": "stream",
     "text": [
      "(45, 6)\n",
      "(140, 44) (57840, 9) (45, 6)\n"
     ]
    },
    {
     "name": "stderr",
     "output_type": "stream",
     "text": [
      "C:\\Users\\camil\\Anaconda3\\lib\\site-packages\\sklearn\\metrics\\_classification.py:1221: UndefinedMetricWarning: Precision and F-score are ill-defined and being set to 0.0 in labels with no predicted samples. Use `zero_division` parameter to control this behavior.\n",
      "  _warn_prf(average, modifier, msg_start, len(result))\n",
      "C:\\Users\\camil\\Anaconda3\\lib\\site-packages\\ipykernel_launcher.py:100: FutureWarning: Indexing with multiple keys (implicitly converted to a tuple of keys) will be deprecated, use a list instead.\n"
     ]
    },
    {
     "name": "stdout",
     "output_type": "stream",
     "text": [
      "(36, 6)\n",
      "(280, 44) (59340, 9) (36, 6)\n"
     ]
    },
    {
     "name": "stderr",
     "output_type": "stream",
     "text": [
      "C:\\Users\\camil\\Anaconda3\\lib\\site-packages\\sklearn\\metrics\\_classification.py:1221: UndefinedMetricWarning: Precision and F-score are ill-defined and being set to 0.0 in labels with no predicted samples. Use `zero_division` parameter to control this behavior.\n",
      "  _warn_prf(average, modifier, msg_start, len(result))\n",
      "C:\\Users\\camil\\Anaconda3\\lib\\site-packages\\pingouin\\parametric.py:978: RuntimeWarning: divide by zero encountered in double_scalars\n",
      "  fval = msbetween / mserror\n",
      " 24%|██████████████████▉                                                             | 18/76 [21:33<1:26:25, 89.41s/it]C:\\Users\\camil\\Anaconda3\\lib\\site-packages\\ipykernel_launcher.py:100: FutureWarning: Indexing with multiple keys (implicitly converted to a tuple of keys) will be deprecated, use a list instead.\n"
     ]
    },
    {
     "name": "stdout",
     "output_type": "stream",
     "text": [
      "(45, 6)\n",
      "(228, 44) (60300, 9) (45, 6)\n"
     ]
    },
    {
     "name": "stderr",
     "output_type": "stream",
     "text": [
      "C:\\Users\\camil\\Anaconda3\\lib\\site-packages\\sklearn\\metrics\\_classification.py:1221: UndefinedMetricWarning: Precision and F-score are ill-defined and being set to 0.0 in labels with no predicted samples. Use `zero_division` parameter to control this behavior.\n",
      "  _warn_prf(average, modifier, msg_start, len(result))\n",
      "C:\\Users\\camil\\Anaconda3\\lib\\site-packages\\ipykernel_launcher.py:100: FutureWarning: Indexing with multiple keys (implicitly converted to a tuple of keys) will be deprecated, use a list instead.\n"
     ]
    },
    {
     "name": "stdout",
     "output_type": "stream",
     "text": [
      "(36, 6)\n",
      "(140, 44) (52260, 9) (36, 6)\n"
     ]
    },
    {
     "name": "stderr",
     "output_type": "stream",
     "text": [
      "C:\\Users\\camil\\Anaconda3\\lib\\site-packages\\sklearn\\metrics\\_classification.py:1221: UndefinedMetricWarning: Precision and F-score are ill-defined and being set to 0.0 in labels with no predicted samples. Use `zero_division` parameter to control this behavior.\n",
      "  _warn_prf(average, modifier, msg_start, len(result))\n",
      "C:\\Users\\camil\\Anaconda3\\lib\\site-packages\\pingouin\\parametric.py:978: RuntimeWarning: divide by zero encountered in double_scalars\n",
      "  fval = msbetween / mserror\n",
      " 25%|████████████████████                                                            | 19/76 [23:02<1:24:50, 89.30s/it]C:\\Users\\camil\\Anaconda3\\lib\\site-packages\\ipykernel_launcher.py:100: FutureWarning: Indexing with multiple keys (implicitly converted to a tuple of keys) will be deprecated, use a list instead.\n"
     ]
    },
    {
     "name": "stdout",
     "output_type": "stream",
     "text": [
      "(36, 6)\n",
      "(165, 44) (54600, 9) (36, 6)\n"
     ]
    },
    {
     "name": "stderr",
     "output_type": "stream",
     "text": [
      "C:\\Users\\camil\\Anaconda3\\lib\\site-packages\\sklearn\\metrics\\_classification.py:1221: UndefinedMetricWarning: Precision and F-score are ill-defined and being set to 0.0 in labels with no predicted samples. Use `zero_division` parameter to control this behavior.\n",
      "  _warn_prf(average, modifier, msg_start, len(result))\n",
      "C:\\Users\\camil\\Anaconda3\\lib\\site-packages\\pingouin\\parametric.py:978: RuntimeWarning: divide by zero encountered in double_scalars\n",
      "  fval = msbetween / mserror\n",
      "C:\\Users\\camil\\Anaconda3\\lib\\site-packages\\ipykernel_launcher.py:100: FutureWarning: Indexing with multiple keys (implicitly converted to a tuple of keys) will be deprecated, use a list instead.\n"
     ]
    },
    {
     "name": "stdout",
     "output_type": "stream",
     "text": [
      "(45, 6)\n",
      "(140, 44) (49140, 9) (45, 6)\n"
     ]
    },
    {
     "name": "stderr",
     "output_type": "stream",
     "text": [
      "C:\\Users\\camil\\Anaconda3\\lib\\site-packages\\sklearn\\metrics\\_classification.py:1221: UndefinedMetricWarning: Precision and F-score are ill-defined and being set to 0.0 in labels with no predicted samples. Use `zero_division` parameter to control this behavior.\n",
      "  _warn_prf(average, modifier, msg_start, len(result))\n",
      " 26%|█████████████████████                                                           | 20/76 [24:29<1:22:28, 88.37s/it]C:\\Users\\camil\\Anaconda3\\lib\\site-packages\\ipykernel_launcher.py:100: FutureWarning: Indexing with multiple keys (implicitly converted to a tuple of keys) will be deprecated, use a list instead.\n"
     ]
    },
    {
     "name": "stdout",
     "output_type": "stream",
     "text": [
      "(50, 6)\n",
      "(198, 44) (65880, 9) (50, 6)\n"
     ]
    },
    {
     "name": "stderr",
     "output_type": "stream",
     "text": [
      "C:\\Users\\camil\\Anaconda3\\lib\\site-packages\\sklearn\\metrics\\_classification.py:1221: UndefinedMetricWarning: Precision and F-score are ill-defined and being set to 0.0 in labels with no predicted samples. Use `zero_division` parameter to control this behavior.\n",
      "  _warn_prf(average, modifier, msg_start, len(result))\n",
      "C:\\Users\\camil\\Anaconda3\\lib\\site-packages\\ipykernel_launcher.py:100: FutureWarning: Indexing with multiple keys (implicitly converted to a tuple of keys) will be deprecated, use a list instead.\n"
     ]
    },
    {
     "name": "stdout",
     "output_type": "stream",
     "text": [
      "(50, 6)\n",
      "(212, 44) (64860, 9) (50, 6)\n"
     ]
    },
    {
     "name": "stderr",
     "output_type": "stream",
     "text": [
      "C:\\Users\\camil\\Anaconda3\\lib\\site-packages\\sklearn\\metrics\\_classification.py:1221: UndefinedMetricWarning: Precision and F-score are ill-defined and being set to 0.0 in labels with no predicted samples. Use `zero_division` parameter to control this behavior.\n",
      "  _warn_prf(average, modifier, msg_start, len(result))\n",
      " 28%|██████████████████████                                                          | 21/76 [26:19<1:26:57, 94.87s/it]C:\\Users\\camil\\Anaconda3\\lib\\site-packages\\ipykernel_launcher.py:100: FutureWarning: Indexing with multiple keys (implicitly converted to a tuple of keys) will be deprecated, use a list instead.\n"
     ]
    },
    {
     "name": "stdout",
     "output_type": "stream",
     "text": [
      "(50, 6)\n",
      "(174, 44) (62880, 9) (50, 6)\n"
     ]
    },
    {
     "name": "stderr",
     "output_type": "stream",
     "text": [
      "C:\\Users\\camil\\Anaconda3\\lib\\site-packages\\sklearn\\metrics\\_classification.py:1221: UndefinedMetricWarning: Precision and F-score are ill-defined and being set to 0.0 in labels with no predicted samples. Use `zero_division` parameter to control this behavior.\n",
      "  _warn_prf(average, modifier, msg_start, len(result))\n",
      "C:\\Users\\camil\\Anaconda3\\lib\\site-packages\\pingouin\\parametric.py:978: RuntimeWarning: divide by zero encountered in double_scalars\n",
      "  fval = msbetween / mserror\n",
      "C:\\Users\\camil\\Anaconda3\\lib\\site-packages\\ipykernel_launcher.py:100: FutureWarning: Indexing with multiple keys (implicitly converted to a tuple of keys) will be deprecated, use a list instead.\n"
     ]
    },
    {
     "name": "stdout",
     "output_type": "stream",
     "text": [
      "(50, 6)\n",
      "(187, 44) (60180, 9) (50, 6)\n"
     ]
    },
    {
     "name": "stderr",
     "output_type": "stream",
     "text": [
      "C:\\Users\\camil\\Anaconda3\\lib\\site-packages\\sklearn\\metrics\\_classification.py:1221: UndefinedMetricWarning: Precision and F-score are ill-defined and being set to 0.0 in labels with no predicted samples. Use `zero_division` parameter to control this behavior.\n",
      "  _warn_prf(average, modifier, msg_start, len(result))\n",
      " 29%|██████████████████████▊                                                        | 22/76 [28:24<1:33:35, 104.00s/it]C:\\Users\\camil\\Anaconda3\\lib\\site-packages\\ipykernel_launcher.py:100: FutureWarning: Indexing with multiple keys (implicitly converted to a tuple of keys) will be deprecated, use a list instead.\n"
     ]
    },
    {
     "name": "stdout",
     "output_type": "stream",
     "text": [
      "(50, 6)\n",
      "(231, 44) (57540, 9) (50, 6)\n"
     ]
    },
    {
     "name": "stderr",
     "output_type": "stream",
     "text": [
      "C:\\Users\\camil\\Anaconda3\\lib\\site-packages\\sklearn\\metrics\\_classification.py:1221: UndefinedMetricWarning: Precision and F-score are ill-defined and being set to 0.0 in labels with no predicted samples. Use `zero_division` parameter to control this behavior.\n",
      "  _warn_prf(average, modifier, msg_start, len(result))\n",
      "C:\\Users\\camil\\Anaconda3\\lib\\site-packages\\pingouin\\parametric.py:978: RuntimeWarning: divide by zero encountered in double_scalars\n",
      "  fval = msbetween / mserror\n",
      "C:\\Users\\camil\\Anaconda3\\lib\\site-packages\\ipykernel_launcher.py:100: FutureWarning: Indexing with multiple keys (implicitly converted to a tuple of keys) will be deprecated, use a list instead.\n"
     ]
    },
    {
     "name": "stdout",
     "output_type": "stream",
     "text": [
      "(50, 6)\n",
      "(173, 44) (65760, 9) (50, 6)\n"
     ]
    },
    {
     "name": "stderr",
     "output_type": "stream",
     "text": [
      "C:\\Users\\camil\\Anaconda3\\lib\\site-packages\\sklearn\\metrics\\_classification.py:1221: UndefinedMetricWarning: Precision and F-score are ill-defined and being set to 0.0 in labels with no predicted samples. Use `zero_division` parameter to control this behavior.\n",
      "  _warn_prf(average, modifier, msg_start, len(result))\n",
      " 30%|███████████████████████▉                                                       | 23/76 [30:28<1:37:04, 109.89s/it]C:\\Users\\camil\\Anaconda3\\lib\\site-packages\\ipykernel_launcher.py:100: FutureWarning: Indexing with multiple keys (implicitly converted to a tuple of keys) will be deprecated, use a list instead.\n"
     ]
    },
    {
     "name": "stdout",
     "output_type": "stream",
     "text": [
      "(50, 6)\n",
      "(182, 44) (60720, 9) (50, 6)\n"
     ]
    },
    {
     "name": "stderr",
     "output_type": "stream",
     "text": [
      "C:\\Users\\camil\\Anaconda3\\lib\\site-packages\\sklearn\\metrics\\_classification.py:1221: UndefinedMetricWarning: Precision and F-score are ill-defined and being set to 0.0 in labels with no predicted samples. Use `zero_division` parameter to control this behavior.\n",
      "  _warn_prf(average, modifier, msg_start, len(result))\n",
      "C:\\Users\\camil\\Anaconda3\\lib\\site-packages\\pingouin\\parametric.py:978: RuntimeWarning: divide by zero encountered in double_scalars\n",
      "  fval = msbetween / mserror\n",
      "C:\\Users\\camil\\Anaconda3\\lib\\site-packages\\ipykernel_launcher.py:100: FutureWarning: Indexing with multiple keys (implicitly converted to a tuple of keys) will be deprecated, use a list instead.\n"
     ]
    },
    {
     "name": "stdout",
     "output_type": "stream",
     "text": [
      "(50, 6)\n",
      "(184, 44) (61560, 9) (50, 6)\n"
     ]
    },
    {
     "name": "stderr",
     "output_type": "stream",
     "text": [
      "C:\\Users\\camil\\Anaconda3\\lib\\site-packages\\sklearn\\metrics\\_classification.py:1221: UndefinedMetricWarning: Precision and F-score are ill-defined and being set to 0.0 in labels with no predicted samples. Use `zero_division` parameter to control this behavior.\n",
      "  _warn_prf(average, modifier, msg_start, len(result))\n",
      " 32%|████████████████████████▉                                                      | 24/76 [32:30<1:38:24, 113.55s/it]C:\\Users\\camil\\Anaconda3\\lib\\site-packages\\ipykernel_launcher.py:100: FutureWarning: Indexing with multiple keys (implicitly converted to a tuple of keys) will be deprecated, use a list instead.\n"
     ]
    },
    {
     "name": "stdout",
     "output_type": "stream",
     "text": [
      "(50, 6)\n",
      "(203, 44) (57720, 9) (50, 6)\n"
     ]
    },
    {
     "name": "stderr",
     "output_type": "stream",
     "text": [
      "C:\\Users\\camil\\Anaconda3\\lib\\site-packages\\sklearn\\metrics\\_classification.py:1221: UndefinedMetricWarning: Precision and F-score are ill-defined and being set to 0.0 in labels with no predicted samples. Use `zero_division` parameter to control this behavior.\n",
      "  _warn_prf(average, modifier, msg_start, len(result))\n",
      "C:\\Users\\camil\\Anaconda3\\lib\\site-packages\\pingouin\\parametric.py:978: RuntimeWarning: divide by zero encountered in double_scalars\n",
      "  fval = msbetween / mserror\n",
      "C:\\Users\\camil\\Anaconda3\\lib\\site-packages\\ipykernel_launcher.py:100: FutureWarning: Indexing with multiple keys (implicitly converted to a tuple of keys) will be deprecated, use a list instead.\n"
     ]
    },
    {
     "name": "stdout",
     "output_type": "stream",
     "text": [
      "(50, 6)\n",
      "(202, 44) (64680, 9) (50, 6)\n"
     ]
    },
    {
     "name": "stderr",
     "output_type": "stream",
     "text": [
      "C:\\Users\\camil\\Anaconda3\\lib\\site-packages\\sklearn\\metrics\\_classification.py:1221: UndefinedMetricWarning: Precision and F-score are ill-defined and being set to 0.0 in labels with no predicted samples. Use `zero_division` parameter to control this behavior.\n",
      "  _warn_prf(average, modifier, msg_start, len(result))\n",
      "C:\\Users\\camil\\Anaconda3\\lib\\site-packages\\pingouin\\parametric.py:978: RuntimeWarning: divide by zero encountered in double_scalars\n",
      "  fval = msbetween / mserror\n",
      "C:\\Users\\camil\\Anaconda3\\lib\\site-packages\\pingouin\\reliability.py:325: RuntimeWarning: divide by zero encountered in double_scalars\n",
      "  f2k = f3k = msb / mse\n",
      "C:\\Users\\camil\\Anaconda3\\lib\\site-packages\\pingouin\\reliability.py:353: RuntimeWarning: invalid value encountered in double_scalars\n",
      "  l3 = (f3l - 1) / (f3l + (k - 1))\n",
      "C:\\Users\\camil\\Anaconda3\\lib\\site-packages\\pingouin\\reliability.py:354: RuntimeWarning: invalid value encountered in double_scalars\n",
      "  u3 = (f3u - 1) / (f3u + (k - 1))\n",
      "C:\\Users\\camil\\Anaconda3\\lib\\site-packages\\pingouin\\reliability.py:356: RuntimeWarning: divide by zero encountered in double_scalars\n",
      "  fj = msj / mse\n",
      "C:\\Users\\camil\\Anaconda3\\lib\\site-packages\\pingouin\\reliability.py:360: RuntimeWarning: invalid value encountered in double_scalars\n",
      "  v = vn / vd\n",
      " 33%|█████████████████████████▉                                                     | 25/76 [34:32<1:38:38, 116.05s/it]C:\\Users\\camil\\Anaconda3\\lib\\site-packages\\ipykernel_launcher.py:100: FutureWarning: Indexing with multiple keys (implicitly converted to a tuple of keys) will be deprecated, use a list instead.\n"
     ]
    },
    {
     "name": "stdout",
     "output_type": "stream",
     "text": [
      "(55, 6)\n",
      "(191, 44) (69180, 9) (55, 6)\n"
     ]
    },
    {
     "name": "stderr",
     "output_type": "stream",
     "text": [
      "C:\\Users\\camil\\Anaconda3\\lib\\site-packages\\sklearn\\metrics\\_classification.py:1221: UndefinedMetricWarning: Precision and F-score are ill-defined and being set to 0.0 in labels with no predicted samples. Use `zero_division` parameter to control this behavior.\n",
      "  _warn_prf(average, modifier, msg_start, len(result))\n",
      "C:\\Users\\camil\\Anaconda3\\lib\\site-packages\\ipykernel_launcher.py:100: FutureWarning: Indexing with multiple keys (implicitly converted to a tuple of keys) will be deprecated, use a list instead.\n"
     ]
    },
    {
     "name": "stdout",
     "output_type": "stream",
     "text": [
      "(55, 6)\n",
      "(246, 44) (71820, 9) (55, 6)\n"
     ]
    },
    {
     "name": "stderr",
     "output_type": "stream",
     "text": [
      "C:\\Users\\camil\\Anaconda3\\lib\\site-packages\\sklearn\\metrics\\_classification.py:1221: UndefinedMetricWarning: Precision and F-score are ill-defined and being set to 0.0 in labels with no predicted samples. Use `zero_division` parameter to control this behavior.\n",
      "  _warn_prf(average, modifier, msg_start, len(result))\n",
      " 34%|███████████████████████████                                                    | 26/76 [36:51<1:42:38, 123.18s/it]C:\\Users\\camil\\Anaconda3\\lib\\site-packages\\ipykernel_launcher.py:100: FutureWarning: Indexing with multiple keys (implicitly converted to a tuple of keys) will be deprecated, use a list instead.\n"
     ]
    },
    {
     "name": "stdout",
     "output_type": "stream",
     "text": [
      "(55, 6)\n",
      "(280, 44) (71280, 9) (55, 6)\n"
     ]
    },
    {
     "name": "stderr",
     "output_type": "stream",
     "text": [
      "C:\\Users\\camil\\Anaconda3\\lib\\site-packages\\sklearn\\metrics\\_classification.py:1221: UndefinedMetricWarning: Precision and F-score are ill-defined and being set to 0.0 in labels with no predicted samples. Use `zero_division` parameter to control this behavior.\n",
      "  _warn_prf(average, modifier, msg_start, len(result))\n",
      "C:\\Users\\camil\\Anaconda3\\lib\\site-packages\\ipykernel_launcher.py:100: FutureWarning: Indexing with multiple keys (implicitly converted to a tuple of keys) will be deprecated, use a list instead.\n"
     ]
    },
    {
     "name": "stdout",
     "output_type": "stream",
     "text": [
      "(55, 6)\n",
      "(166, 44) (59880, 9) (55, 6)\n"
     ]
    },
    {
     "name": "stderr",
     "output_type": "stream",
     "text": [
      "C:\\Users\\camil\\Anaconda3\\lib\\site-packages\\sklearn\\metrics\\_classification.py:1221: UndefinedMetricWarning: Precision and F-score are ill-defined and being set to 0.0 in labels with no predicted samples. Use `zero_division` parameter to control this behavior.\n",
      "  _warn_prf(average, modifier, msg_start, len(result))\n",
      "C:\\Users\\camil\\Anaconda3\\lib\\site-packages\\pingouin\\parametric.py:978: RuntimeWarning: divide by zero encountered in double_scalars\n",
      "  fval = msbetween / mserror\n",
      " 36%|████████████████████████████                                                   | 27/76 [39:03<1:42:35, 125.62s/it]C:\\Users\\camil\\Anaconda3\\lib\\site-packages\\ipykernel_launcher.py:100: FutureWarning: Indexing with multiple keys (implicitly converted to a tuple of keys) will be deprecated, use a list instead.\n"
     ]
    },
    {
     "name": "stdout",
     "output_type": "stream",
     "text": [
      "(55, 6)\n",
      "(144, 44) (61380, 9) (55, 6)\n"
     ]
    },
    {
     "name": "stderr",
     "output_type": "stream",
     "text": [
      "C:\\Users\\camil\\Anaconda3\\lib\\site-packages\\sklearn\\metrics\\_classification.py:1221: UndefinedMetricWarning: Precision and F-score are ill-defined and being set to 0.0 in labels with no predicted samples. Use `zero_division` parameter to control this behavior.\n",
      "  _warn_prf(average, modifier, msg_start, len(result))\n",
      "C:\\Users\\camil\\Anaconda3\\lib\\site-packages\\ipykernel_launcher.py:100: FutureWarning: Indexing with multiple keys (implicitly converted to a tuple of keys) will be deprecated, use a list instead.\n"
     ]
    },
    {
     "name": "stdout",
     "output_type": "stream",
     "text": [
      "(55, 6)\n",
      "(277, 44) (68940, 9) (55, 6)\n"
     ]
    },
    {
     "name": "stderr",
     "output_type": "stream",
     "text": [
      "C:\\Users\\camil\\Anaconda3\\lib\\site-packages\\sklearn\\metrics\\_classification.py:1221: UndefinedMetricWarning: Precision and F-score are ill-defined and being set to 0.0 in labels with no predicted samples. Use `zero_division` parameter to control this behavior.\n",
      "  _warn_prf(average, modifier, msg_start, len(result))\n",
      " 37%|█████████████████████████████                                                  | 28/76 [41:14<1:41:53, 127.37s/it]C:\\Users\\camil\\Anaconda3\\lib\\site-packages\\ipykernel_launcher.py:100: FutureWarning: Indexing with multiple keys (implicitly converted to a tuple of keys) will be deprecated, use a list instead.\n"
     ]
    },
    {
     "name": "stdout",
     "output_type": "stream",
     "text": [
      "(55, 6)\n",
      "(215, 44) (67380, 9) (55, 6)\n"
     ]
    },
    {
     "name": "stderr",
     "output_type": "stream",
     "text": [
      "C:\\Users\\camil\\Anaconda3\\lib\\site-packages\\sklearn\\metrics\\_classification.py:1221: UndefinedMetricWarning: Precision and F-score are ill-defined and being set to 0.0 in labels with no predicted samples. Use `zero_division` parameter to control this behavior.\n",
      "  _warn_prf(average, modifier, msg_start, len(result))\n",
      "C:\\Users\\camil\\Anaconda3\\lib\\site-packages\\pingouin\\parametric.py:978: RuntimeWarning: divide by zero encountered in double_scalars\n",
      "  fval = msbetween / mserror\n",
      "C:\\Users\\camil\\Anaconda3\\lib\\site-packages\\ipykernel_launcher.py:100: FutureWarning: Indexing with multiple keys (implicitly converted to a tuple of keys) will be deprecated, use a list instead.\n"
     ]
    },
    {
     "name": "stdout",
     "output_type": "stream",
     "text": [
      "(55, 6)\n",
      "(264, 44) (72660, 9) (55, 6)\n"
     ]
    },
    {
     "name": "stderr",
     "output_type": "stream",
     "text": [
      "C:\\Users\\camil\\Anaconda3\\lib\\site-packages\\sklearn\\metrics\\_classification.py:1221: UndefinedMetricWarning: Precision and F-score are ill-defined and being set to 0.0 in labels with no predicted samples. Use `zero_division` parameter to control this behavior.\n",
      "  _warn_prf(average, modifier, msg_start, len(result))\n",
      " 38%|██████████████████████████████▏                                                | 29/76 [43:33<1:42:25, 130.76s/it]C:\\Users\\camil\\Anaconda3\\lib\\site-packages\\ipykernel_launcher.py:100: FutureWarning: Indexing with multiple keys (implicitly converted to a tuple of keys) will be deprecated, use a list instead.\n"
     ]
    },
    {
     "name": "stdout",
     "output_type": "stream",
     "text": [
      "(55, 6)\n",
      "(226, 44) (76140, 9) (55, 6)\n"
     ]
    },
    {
     "name": "stderr",
     "output_type": "stream",
     "text": [
      "C:\\Users\\camil\\Anaconda3\\lib\\site-packages\\sklearn\\metrics\\_classification.py:1221: UndefinedMetricWarning: Precision and F-score are ill-defined and being set to 0.0 in labels with no predicted samples. Use `zero_division` parameter to control this behavior.\n",
      "  _warn_prf(average, modifier, msg_start, len(result))\n",
      "C:\\Users\\camil\\Anaconda3\\lib\\site-packages\\ipykernel_launcher.py:100: FutureWarning: Indexing with multiple keys (implicitly converted to a tuple of keys) will be deprecated, use a list instead.\n"
     ]
    },
    {
     "name": "stdout",
     "output_type": "stream",
     "text": [
      "(55, 6)\n",
      "(208, 44) (61980, 9) (55, 6)\n"
     ]
    },
    {
     "name": "stderr",
     "output_type": "stream",
     "text": [
      "C:\\Users\\camil\\Anaconda3\\lib\\site-packages\\sklearn\\metrics\\_classification.py:1221: UndefinedMetricWarning: Precision and F-score are ill-defined and being set to 0.0 in labels with no predicted samples. Use `zero_division` parameter to control this behavior.\n",
      "  _warn_prf(average, modifier, msg_start, len(result))\n",
      "C:\\Users\\camil\\Anaconda3\\lib\\site-packages\\pingouin\\parametric.py:978: RuntimeWarning: divide by zero encountered in double_scalars\n",
      "  fval = msbetween / mserror\n",
      "C:\\Users\\camil\\Anaconda3\\lib\\site-packages\\pingouin\\reliability.py:325: RuntimeWarning: divide by zero encountered in double_scalars\n",
      "  f2k = f3k = msb / mse\n",
      "C:\\Users\\camil\\Anaconda3\\lib\\site-packages\\pingouin\\reliability.py:353: RuntimeWarning: invalid value encountered in double_scalars\n",
      "  l3 = (f3l - 1) / (f3l + (k - 1))\n",
      "C:\\Users\\camil\\Anaconda3\\lib\\site-packages\\pingouin\\reliability.py:354: RuntimeWarning: invalid value encountered in double_scalars\n",
      "  u3 = (f3u - 1) / (f3u + (k - 1))\n",
      "C:\\Users\\camil\\Anaconda3\\lib\\site-packages\\pingouin\\reliability.py:356: RuntimeWarning: divide by zero encountered in double_scalars\n",
      "  fj = msj / mse\n",
      "C:\\Users\\camil\\Anaconda3\\lib\\site-packages\\pingouin\\reliability.py:360: RuntimeWarning: invalid value encountered in double_scalars\n",
      "  v = vn / vd\n",
      " 39%|███████████████████████████████▏                                               | 30/76 [45:50<1:41:43, 132.68s/it]C:\\Users\\camil\\Anaconda3\\lib\\site-packages\\ipykernel_launcher.py:100: FutureWarning: Indexing with multiple keys (implicitly converted to a tuple of keys) will be deprecated, use a list instead.\n"
     ]
    },
    {
     "name": "stdout",
     "output_type": "stream",
     "text": [
      "(60, 6)\n",
      "(198, 44) (62580, 9) (60, 6)\n"
     ]
    },
    {
     "name": "stderr",
     "output_type": "stream",
     "text": [
      "C:\\Users\\camil\\Anaconda3\\lib\\site-packages\\sklearn\\metrics\\_classification.py:1221: UndefinedMetricWarning: Precision and F-score are ill-defined and being set to 0.0 in labels with no predicted samples. Use `zero_division` parameter to control this behavior.\n",
      "  _warn_prf(average, modifier, msg_start, len(result))\n",
      "C:\\Users\\camil\\Anaconda3\\lib\\site-packages\\ipykernel_launcher.py:100: FutureWarning: Indexing with multiple keys (implicitly converted to a tuple of keys) will be deprecated, use a list instead.\n"
     ]
    },
    {
     "name": "stdout",
     "output_type": "stream",
     "text": [
      "(60, 6)\n",
      "(311, 44) (88500, 9) (60, 6)\n"
     ]
    },
    {
     "name": "stderr",
     "output_type": "stream",
     "text": [
      "C:\\Users\\camil\\Anaconda3\\lib\\site-packages\\sklearn\\metrics\\_classification.py:1221: UndefinedMetricWarning: Precision and F-score are ill-defined and being set to 0.0 in labels with no predicted samples. Use `zero_division` parameter to control this behavior.\n",
      "  _warn_prf(average, modifier, msg_start, len(result))\n",
      "C:\\Users\\camil\\Anaconda3\\lib\\site-packages\\pingouin\\parametric.py:978: RuntimeWarning: divide by zero encountered in double_scalars\n",
      "  fval = msbetween / mserror\n",
      " 41%|████████████████████████████████▏                                              | 31/76 [48:20<1:43:24, 137.87s/it]C:\\Users\\camil\\Anaconda3\\lib\\site-packages\\ipykernel_launcher.py:100: FutureWarning: Indexing with multiple keys (implicitly converted to a tuple of keys) will be deprecated, use a list instead.\n"
     ]
    },
    {
     "name": "stdout",
     "output_type": "stream",
     "text": [
      "(60, 6)\n",
      "(246, 44) (67140, 9) (60, 6)\n"
     ]
    },
    {
     "name": "stderr",
     "output_type": "stream",
     "text": [
      "C:\\Users\\camil\\Anaconda3\\lib\\site-packages\\sklearn\\metrics\\_classification.py:1221: UndefinedMetricWarning: Precision and F-score are ill-defined and being set to 0.0 in labels with no predicted samples. Use `zero_division` parameter to control this behavior.\n",
      "  _warn_prf(average, modifier, msg_start, len(result))\n",
      "C:\\Users\\camil\\Anaconda3\\lib\\site-packages\\ipykernel_launcher.py:100: FutureWarning: Indexing with multiple keys (implicitly converted to a tuple of keys) will be deprecated, use a list instead.\n"
     ]
    },
    {
     "name": "stdout",
     "output_type": "stream",
     "text": [
      "(60, 6)\n",
      "(270, 44) (78060, 9) (60, 6)\n"
     ]
    },
    {
     "name": "stderr",
     "output_type": "stream",
     "text": [
      "C:\\Users\\camil\\Anaconda3\\lib\\site-packages\\sklearn\\metrics\\_classification.py:1221: UndefinedMetricWarning: Precision and F-score are ill-defined and being set to 0.0 in labels with no predicted samples. Use `zero_division` parameter to control this behavior.\n",
      "  _warn_prf(average, modifier, msg_start, len(result))\n",
      " 42%|█████████████████████████████████▎                                             | 32/76 [50:57<1:45:12, 143.47s/it]C:\\Users\\camil\\Anaconda3\\lib\\site-packages\\ipykernel_launcher.py:100: FutureWarning: Indexing with multiple keys (implicitly converted to a tuple of keys) will be deprecated, use a list instead.\n"
     ]
    },
    {
     "name": "stdout",
     "output_type": "stream",
     "text": [
      "(60, 6)\n",
      "(180, 44) (69480, 9) (60, 6)\n"
     ]
    },
    {
     "name": "stderr",
     "output_type": "stream",
     "text": [
      "C:\\Users\\camil\\Anaconda3\\lib\\site-packages\\sklearn\\metrics\\_classification.py:1221: UndefinedMetricWarning: Precision and F-score are ill-defined and being set to 0.0 in labels with no predicted samples. Use `zero_division` parameter to control this behavior.\n",
      "  _warn_prf(average, modifier, msg_start, len(result))\n",
      "C:\\Users\\camil\\Anaconda3\\lib\\site-packages\\ipykernel_launcher.py:100: FutureWarning: Indexing with multiple keys (implicitly converted to a tuple of keys) will be deprecated, use a list instead.\n"
     ]
    },
    {
     "name": "stdout",
     "output_type": "stream",
     "text": [
      "(60, 6)\n",
      "(359, 44) (74640, 9) (60, 6)\n"
     ]
    },
    {
     "name": "stderr",
     "output_type": "stream",
     "text": [
      "C:\\Users\\camil\\Anaconda3\\lib\\site-packages\\sklearn\\metrics\\_classification.py:1221: UndefinedMetricWarning: Precision and F-score are ill-defined and being set to 0.0 in labels with no predicted samples. Use `zero_division` parameter to control this behavior.\n",
      "  _warn_prf(average, modifier, msg_start, len(result))\n",
      "C:\\Users\\camil\\Anaconda3\\lib\\site-packages\\pingouin\\parametric.py:978: RuntimeWarning: divide by zero encountered in double_scalars\n",
      "  fval = msbetween / mserror\n",
      "C:\\Users\\camil\\Anaconda3\\lib\\site-packages\\pingouin\\reliability.py:320: RuntimeWarning: divide by zero encountered in double_scalars\n",
      "  f1k = msb / msw\n",
      "C:\\Users\\camil\\Anaconda3\\lib\\site-packages\\pingouin\\reliability.py:325: RuntimeWarning: divide by zero encountered in double_scalars\n",
      "  f2k = f3k = msb / mse\n",
      "C:\\Users\\camil\\Anaconda3\\lib\\site-packages\\pingouin\\reliability.py:349: RuntimeWarning: invalid value encountered in double_scalars\n",
      "  l1 = (f1l - 1) / (f1l + (k - 1))\n",
      "C:\\Users\\camil\\Anaconda3\\lib\\site-packages\\pingouin\\reliability.py:350: RuntimeWarning: invalid value encountered in double_scalars\n",
      "  u1 = (f1u - 1) / (f1u + (k - 1))\n",
      "C:\\Users\\camil\\Anaconda3\\lib\\site-packages\\pingouin\\reliability.py:353: RuntimeWarning: invalid value encountered in double_scalars\n",
      "  l3 = (f3l - 1) / (f3l + (k - 1))\n",
      "C:\\Users\\camil\\Anaconda3\\lib\\site-packages\\pingouin\\reliability.py:354: RuntimeWarning: invalid value encountered in double_scalars\n",
      "  u3 = (f3u - 1) / (f3u + (k - 1))\n",
      "C:\\Users\\camil\\Anaconda3\\lib\\site-packages\\pingouin\\reliability.py:356: RuntimeWarning: invalid value encountered in double_scalars\n",
      "  fj = msj / mse\n",
      " 43%|██████████████████████████████████▎                                            | 33/76 [53:36<1:46:16, 148.29s/it]C:\\Users\\camil\\Anaconda3\\lib\\site-packages\\ipykernel_launcher.py:100: FutureWarning: Indexing with multiple keys (implicitly converted to a tuple of keys) will be deprecated, use a list instead.\n"
     ]
    },
    {
     "name": "stdout",
     "output_type": "stream",
     "text": [
      "(60, 6)\n",
      "(224, 44) (75240, 9) (60, 6)\n"
     ]
    },
    {
     "name": "stderr",
     "output_type": "stream",
     "text": [
      "C:\\Users\\camil\\Anaconda3\\lib\\site-packages\\sklearn\\metrics\\_classification.py:1221: UndefinedMetricWarning: Precision and F-score are ill-defined and being set to 0.0 in labels with no predicted samples. Use `zero_division` parameter to control this behavior.\n",
      "  _warn_prf(average, modifier, msg_start, len(result))\n",
      "C:\\Users\\camil\\Anaconda3\\lib\\site-packages\\ipykernel_launcher.py:100: FutureWarning: Indexing with multiple keys (implicitly converted to a tuple of keys) will be deprecated, use a list instead.\n"
     ]
    },
    {
     "name": "stdout",
     "output_type": "stream",
     "text": [
      "(60, 6)\n",
      "(278, 44) (74760, 9) (60, 6)\n"
     ]
    },
    {
     "name": "stderr",
     "output_type": "stream",
     "text": [
      "C:\\Users\\camil\\Anaconda3\\lib\\site-packages\\sklearn\\metrics\\_classification.py:1221: UndefinedMetricWarning: Precision and F-score are ill-defined and being set to 0.0 in labels with no predicted samples. Use `zero_division` parameter to control this behavior.\n",
      "  _warn_prf(average, modifier, msg_start, len(result))\n",
      " 45%|███████████████████████████████████▎                                           | 34/76 [56:02<1:43:14, 147.50s/it]C:\\Users\\camil\\Anaconda3\\lib\\site-packages\\ipykernel_launcher.py:100: FutureWarning: Indexing with multiple keys (implicitly converted to a tuple of keys) will be deprecated, use a list instead.\n"
     ]
    },
    {
     "name": "stdout",
     "output_type": "stream",
     "text": [
      "(60, 6)\n",
      "(250, 44) (75120, 9) (60, 6)\n"
     ]
    },
    {
     "name": "stderr",
     "output_type": "stream",
     "text": [
      "C:\\Users\\camil\\Anaconda3\\lib\\site-packages\\sklearn\\metrics\\_classification.py:1221: UndefinedMetricWarning: Precision and F-score are ill-defined and being set to 0.0 in labels with no predicted samples. Use `zero_division` parameter to control this behavior.\n",
      "  _warn_prf(average, modifier, msg_start, len(result))\n",
      "C:\\Users\\camil\\Anaconda3\\lib\\site-packages\\ipykernel_launcher.py:100: FutureWarning: Indexing with multiple keys (implicitly converted to a tuple of keys) will be deprecated, use a list instead.\n"
     ]
    },
    {
     "name": "stdout",
     "output_type": "stream",
     "text": [
      "(60, 6)\n",
      "(209, 44) (75300, 9) (60, 6)\n"
     ]
    },
    {
     "name": "stderr",
     "output_type": "stream",
     "text": [
      "C:\\Users\\camil\\Anaconda3\\lib\\site-packages\\sklearn\\metrics\\_classification.py:1221: UndefinedMetricWarning: Precision and F-score are ill-defined and being set to 0.0 in labels with no predicted samples. Use `zero_division` parameter to control this behavior.\n",
      "  _warn_prf(average, modifier, msg_start, len(result))\n",
      " 46%|████████████████████████████████████▍                                          | 35/76 [58:34<1:41:46, 148.95s/it]C:\\Users\\camil\\Anaconda3\\lib\\site-packages\\ipykernel_launcher.py:100: FutureWarning: Indexing with multiple keys (implicitly converted to a tuple of keys) will be deprecated, use a list instead.\n"
     ]
    },
    {
     "name": "stdout",
     "output_type": "stream",
     "text": [
      "(65, 6)\n",
      "(260, 44) (81900, 9) (65, 6)\n"
     ]
    },
    {
     "name": "stderr",
     "output_type": "stream",
     "text": [
      "C:\\Users\\camil\\Anaconda3\\lib\\site-packages\\sklearn\\metrics\\_classification.py:1221: UndefinedMetricWarning: Precision and F-score are ill-defined and being set to 0.0 in labels with no predicted samples. Use `zero_division` parameter to control this behavior.\n",
      "  _warn_prf(average, modifier, msg_start, len(result))\n",
      "C:\\Users\\camil\\Anaconda3\\lib\\site-packages\\ipykernel_launcher.py:100: FutureWarning: Indexing with multiple keys (implicitly converted to a tuple of keys) will be deprecated, use a list instead.\n"
     ]
    },
    {
     "name": "stdout",
     "output_type": "stream",
     "text": [
      "(65, 6)\n",
      "(324, 44) (79620, 9) (65, 6)\n"
     ]
    },
    {
     "name": "stderr",
     "output_type": "stream",
     "text": [
      "C:\\Users\\camil\\Anaconda3\\lib\\site-packages\\sklearn\\metrics\\_classification.py:1221: UndefinedMetricWarning: Precision and F-score are ill-defined and being set to 0.0 in labels with no predicted samples. Use `zero_division` parameter to control this behavior.\n",
      "  _warn_prf(average, modifier, msg_start, len(result))\n",
      " 47%|████████████████████████████████████▍                                        | 36/76 [1:01:18<1:42:16, 153.41s/it]C:\\Users\\camil\\Anaconda3\\lib\\site-packages\\ipykernel_launcher.py:100: FutureWarning: Indexing with multiple keys (implicitly converted to a tuple of keys) will be deprecated, use a list instead.\n"
     ]
    },
    {
     "name": "stdout",
     "output_type": "stream",
     "text": [
      "(65, 6)\n",
      "(248, 44) (79860, 9) (65, 6)\n"
     ]
    },
    {
     "name": "stderr",
     "output_type": "stream",
     "text": [
      "C:\\Users\\camil\\Anaconda3\\lib\\site-packages\\sklearn\\metrics\\_classification.py:1221: UndefinedMetricWarning: Precision and F-score are ill-defined and being set to 0.0 in labels with no predicted samples. Use `zero_division` parameter to control this behavior.\n",
      "  _warn_prf(average, modifier, msg_start, len(result))\n",
      "C:\\Users\\camil\\Anaconda3\\lib\\site-packages\\ipykernel_launcher.py:100: FutureWarning: Indexing with multiple keys (implicitly converted to a tuple of keys) will be deprecated, use a list instead.\n"
     ]
    },
    {
     "name": "stdout",
     "output_type": "stream",
     "text": [
      "(65, 6)\n",
      "(292, 44) (87180, 9) (65, 6)\n"
     ]
    },
    {
     "name": "stderr",
     "output_type": "stream",
     "text": [
      "C:\\Users\\camil\\Anaconda3\\lib\\site-packages\\sklearn\\metrics\\_classification.py:1221: UndefinedMetricWarning: Precision and F-score are ill-defined and being set to 0.0 in labels with no predicted samples. Use `zero_division` parameter to control this behavior.\n",
      "  _warn_prf(average, modifier, msg_start, len(result))\n",
      " 49%|█████████████████████████████████████▍                                       | 37/76 [1:03:57<1:40:49, 155.11s/it]C:\\Users\\camil\\Anaconda3\\lib\\site-packages\\ipykernel_launcher.py:100: FutureWarning: Indexing with multiple keys (implicitly converted to a tuple of keys) will be deprecated, use a list instead.\n"
     ]
    },
    {
     "name": "stdout",
     "output_type": "stream",
     "text": [
      "(65, 6)\n",
      "(256, 44) (73560, 9) (65, 6)\n"
     ]
    },
    {
     "name": "stderr",
     "output_type": "stream",
     "text": [
      "C:\\Users\\camil\\Anaconda3\\lib\\site-packages\\sklearn\\metrics\\_classification.py:1221: UndefinedMetricWarning: Precision and F-score are ill-defined and being set to 0.0 in labels with no predicted samples. Use `zero_division` parameter to control this behavior.\n",
      "  _warn_prf(average, modifier, msg_start, len(result))\n",
      "C:\\Users\\camil\\Anaconda3\\lib\\site-packages\\pingouin\\parametric.py:978: RuntimeWarning: divide by zero encountered in double_scalars\n",
      "  fval = msbetween / mserror\n",
      "C:\\Users\\camil\\Anaconda3\\lib\\site-packages\\pingouin\\reliability.py:325: RuntimeWarning: divide by zero encountered in double_scalars\n",
      "  f2k = f3k = msb / mse\n",
      "C:\\Users\\camil\\Anaconda3\\lib\\site-packages\\pingouin\\reliability.py:353: RuntimeWarning: invalid value encountered in double_scalars\n",
      "  l3 = (f3l - 1) / (f3l + (k - 1))\n",
      "C:\\Users\\camil\\Anaconda3\\lib\\site-packages\\pingouin\\reliability.py:354: RuntimeWarning: invalid value encountered in double_scalars\n",
      "  u3 = (f3u - 1) / (f3u + (k - 1))\n",
      "C:\\Users\\camil\\Anaconda3\\lib\\site-packages\\pingouin\\reliability.py:356: RuntimeWarning: divide by zero encountered in double_scalars\n",
      "  fj = msj / mse\n",
      "C:\\Users\\camil\\Anaconda3\\lib\\site-packages\\pingouin\\reliability.py:360: RuntimeWarning: invalid value encountered in double_scalars\n",
      "  v = vn / vd\n",
      "C:\\Users\\camil\\Anaconda3\\lib\\site-packages\\ipykernel_launcher.py:100: FutureWarning: Indexing with multiple keys (implicitly converted to a tuple of keys) will be deprecated, use a list instead.\n"
     ]
    },
    {
     "name": "stdout",
     "output_type": "stream",
     "text": [
      "(65, 6)\n",
      "(254, 44) (77820, 9) (65, 6)\n"
     ]
    },
    {
     "name": "stderr",
     "output_type": "stream",
     "text": [
      "C:\\Users\\camil\\Anaconda3\\lib\\site-packages\\sklearn\\metrics\\_classification.py:1221: UndefinedMetricWarning: Precision and F-score are ill-defined and being set to 0.0 in labels with no predicted samples. Use `zero_division` parameter to control this behavior.\n",
      "  _warn_prf(average, modifier, msg_start, len(result))\n",
      " 50%|██████████████████████████████████████▌                                      | 38/76 [1:06:28<1:37:30, 153.95s/it]C:\\Users\\camil\\Anaconda3\\lib\\site-packages\\ipykernel_launcher.py:100: FutureWarning: Indexing with multiple keys (implicitly converted to a tuple of keys) will be deprecated, use a list instead.\n"
     ]
    },
    {
     "name": "stdout",
     "output_type": "stream",
     "text": [
      "(65, 6)\n",
      "(309, 44) (78840, 9) (65, 6)\n"
     ]
    },
    {
     "name": "stderr",
     "output_type": "stream",
     "text": [
      "C:\\Users\\camil\\Anaconda3\\lib\\site-packages\\sklearn\\metrics\\_classification.py:1221: UndefinedMetricWarning: Precision and F-score are ill-defined and being set to 0.0 in labels with no predicted samples. Use `zero_division` parameter to control this behavior.\n",
      "  _warn_prf(average, modifier, msg_start, len(result))\n",
      "C:\\Users\\camil\\Anaconda3\\lib\\site-packages\\ipykernel_launcher.py:100: FutureWarning: Indexing with multiple keys (implicitly converted to a tuple of keys) will be deprecated, use a list instead.\n"
     ]
    },
    {
     "name": "stdout",
     "output_type": "stream",
     "text": [
      "(65, 6)\n",
      "(279, 44) (82560, 9) (65, 6)\n"
     ]
    },
    {
     "name": "stderr",
     "output_type": "stream",
     "text": [
      "C:\\Users\\camil\\Anaconda3\\lib\\site-packages\\sklearn\\metrics\\_classification.py:1221: UndefinedMetricWarning: Precision and F-score are ill-defined and being set to 0.0 in labels with no predicted samples. Use `zero_division` parameter to control this behavior.\n",
      "  _warn_prf(average, modifier, msg_start, len(result))\n",
      " 51%|███████████████████████████████████████▌                                     | 39/76 [1:09:12<1:36:50, 157.03s/it]C:\\Users\\camil\\Anaconda3\\lib\\site-packages\\ipykernel_launcher.py:100: FutureWarning: Indexing with multiple keys (implicitly converted to a tuple of keys) will be deprecated, use a list instead.\n"
     ]
    },
    {
     "name": "stdout",
     "output_type": "stream",
     "text": [
      "(65, 6)\n",
      "(244, 44) (84420, 9) (65, 6)\n"
     ]
    },
    {
     "name": "stderr",
     "output_type": "stream",
     "text": [
      "C:\\Users\\camil\\Anaconda3\\lib\\site-packages\\sklearn\\metrics\\_classification.py:1221: UndefinedMetricWarning: Precision and F-score are ill-defined and being set to 0.0 in labels with no predicted samples. Use `zero_division` parameter to control this behavior.\n",
      "  _warn_prf(average, modifier, msg_start, len(result))\n",
      "C:\\Users\\camil\\Anaconda3\\lib\\site-packages\\ipykernel_launcher.py:100: FutureWarning: Indexing with multiple keys (implicitly converted to a tuple of keys) will be deprecated, use a list instead.\n"
     ]
    },
    {
     "name": "stdout",
     "output_type": "stream",
     "text": [
      "(65, 6)\n",
      "(319, 44) (85440, 9) (65, 6)\n"
     ]
    },
    {
     "name": "stderr",
     "output_type": "stream",
     "text": [
      "C:\\Users\\camil\\Anaconda3\\lib\\site-packages\\sklearn\\metrics\\_classification.py:1221: UndefinedMetricWarning: Precision and F-score are ill-defined and being set to 0.0 in labels with no predicted samples. Use `zero_division` parameter to control this behavior.\n",
      "  _warn_prf(average, modifier, msg_start, len(result))\n",
      " 53%|████████████████████████████████████████▌                                    | 40/76 [1:11:54<1:35:04, 158.47s/it]C:\\Users\\camil\\Anaconda3\\lib\\site-packages\\ipykernel_launcher.py:100: FutureWarning: Indexing with multiple keys (implicitly converted to a tuple of keys) will be deprecated, use a list instead.\n"
     ]
    },
    {
     "name": "stdout",
     "output_type": "stream",
     "text": [
      "(70, 6)\n",
      "(379, 44) (94560, 9) (70, 6)\n"
     ]
    },
    {
     "name": "stderr",
     "output_type": "stream",
     "text": [
      "C:\\Users\\camil\\Anaconda3\\lib\\site-packages\\sklearn\\metrics\\_classification.py:1221: UndefinedMetricWarning: Precision and F-score are ill-defined and being set to 0.0 in labels with no predicted samples. Use `zero_division` parameter to control this behavior.\n",
      "  _warn_prf(average, modifier, msg_start, len(result))\n",
      "C:\\Users\\camil\\Anaconda3\\lib\\site-packages\\ipykernel_launcher.py:100: FutureWarning: Indexing with multiple keys (implicitly converted to a tuple of keys) will be deprecated, use a list instead.\n"
     ]
    },
    {
     "name": "stdout",
     "output_type": "stream",
     "text": [
      "(70, 6)\n",
      "(243, 44) (87720, 9) (70, 6)\n"
     ]
    },
    {
     "name": "stderr",
     "output_type": "stream",
     "text": [
      "C:\\Users\\camil\\Anaconda3\\lib\\site-packages\\sklearn\\metrics\\_classification.py:1221: UndefinedMetricWarning: Precision and F-score are ill-defined and being set to 0.0 in labels with no predicted samples. Use `zero_division` parameter to control this behavior.\n",
      "  _warn_prf(average, modifier, msg_start, len(result))\n",
      "C:\\Users\\camil\\Anaconda3\\lib\\site-packages\\pingouin\\parametric.py:978: RuntimeWarning: divide by zero encountered in double_scalars\n",
      "  fval = msbetween / mserror\n",
      " 54%|█████████████████████████████████████████▌                                   | 41/76 [1:14:45<1:34:37, 162.22s/it]C:\\Users\\camil\\Anaconda3\\lib\\site-packages\\ipykernel_launcher.py:100: FutureWarning: Indexing with multiple keys (implicitly converted to a tuple of keys) will be deprecated, use a list instead.\n"
     ]
    },
    {
     "name": "stdout",
     "output_type": "stream",
     "text": [
      "(70, 6)\n",
      "(298, 44) (92100, 9) (70, 6)\n"
     ]
    },
    {
     "name": "stderr",
     "output_type": "stream",
     "text": [
      "C:\\Users\\camil\\Anaconda3\\lib\\site-packages\\sklearn\\metrics\\_classification.py:1221: UndefinedMetricWarning: Precision and F-score are ill-defined and being set to 0.0 in labels with no predicted samples. Use `zero_division` parameter to control this behavior.\n",
      "  _warn_prf(average, modifier, msg_start, len(result))\n",
      "C:\\Users\\camil\\Anaconda3\\lib\\site-packages\\ipykernel_launcher.py:100: FutureWarning: Indexing with multiple keys (implicitly converted to a tuple of keys) will be deprecated, use a list instead.\n"
     ]
    },
    {
     "name": "stdout",
     "output_type": "stream",
     "text": [
      "(70, 6)\n",
      "(254, 44) (84000, 9) (70, 6)\n"
     ]
    },
    {
     "name": "stderr",
     "output_type": "stream",
     "text": [
      "C:\\Users\\camil\\Anaconda3\\lib\\site-packages\\sklearn\\metrics\\_classification.py:1221: UndefinedMetricWarning: Precision and F-score are ill-defined and being set to 0.0 in labels with no predicted samples. Use `zero_division` parameter to control this behavior.\n",
      "  _warn_prf(average, modifier, msg_start, len(result))\n",
      " 55%|██████████████████████████████████████████▌                                  | 42/76 [1:17:39<1:33:53, 165.69s/it]C:\\Users\\camil\\Anaconda3\\lib\\site-packages\\ipykernel_launcher.py:100: FutureWarning: Indexing with multiple keys (implicitly converted to a tuple of keys) will be deprecated, use a list instead.\n"
     ]
    },
    {
     "name": "stdout",
     "output_type": "stream",
     "text": [
      "(70, 6)\n",
      "(261, 44) (89220, 9) (70, 6)\n"
     ]
    },
    {
     "name": "stderr",
     "output_type": "stream",
     "text": [
      "C:\\Users\\camil\\Anaconda3\\lib\\site-packages\\sklearn\\metrics\\_classification.py:1221: UndefinedMetricWarning: Precision and F-score are ill-defined and being set to 0.0 in labels with no predicted samples. Use `zero_division` parameter to control this behavior.\n",
      "  _warn_prf(average, modifier, msg_start, len(result))\n",
      "C:\\Users\\camil\\Anaconda3\\lib\\site-packages\\ipykernel_launcher.py:100: FutureWarning: Indexing with multiple keys (implicitly converted to a tuple of keys) will be deprecated, use a list instead.\n"
     ]
    },
    {
     "name": "stdout",
     "output_type": "stream",
     "text": [
      "(70, 6)\n",
      "(305, 44) (86460, 9) (70, 6)\n"
     ]
    },
    {
     "name": "stderr",
     "output_type": "stream",
     "text": [
      "C:\\Users\\camil\\Anaconda3\\lib\\site-packages\\sklearn\\metrics\\_classification.py:1221: UndefinedMetricWarning: Precision and F-score are ill-defined and being set to 0.0 in labels with no predicted samples. Use `zero_division` parameter to control this behavior.\n",
      "  _warn_prf(average, modifier, msg_start, len(result))\n",
      "C:\\Users\\camil\\Anaconda3\\lib\\site-packages\\pingouin\\parametric.py:978: RuntimeWarning: divide by zero encountered in double_scalars\n",
      "  fval = msbetween / mserror\n",
      "C:\\Users\\camil\\Anaconda3\\lib\\site-packages\\pingouin\\reliability.py:320: RuntimeWarning: divide by zero encountered in double_scalars\n",
      "  f1k = msb / msw\n",
      "C:\\Users\\camil\\Anaconda3\\lib\\site-packages\\pingouin\\reliability.py:325: RuntimeWarning: divide by zero encountered in double_scalars\n",
      "  f2k = f3k = msb / mse\n",
      "C:\\Users\\camil\\Anaconda3\\lib\\site-packages\\pingouin\\reliability.py:349: RuntimeWarning: invalid value encountered in double_scalars\n",
      "  l1 = (f1l - 1) / (f1l + (k - 1))\n",
      "C:\\Users\\camil\\Anaconda3\\lib\\site-packages\\pingouin\\reliability.py:350: RuntimeWarning: invalid value encountered in double_scalars\n",
      "  u1 = (f1u - 1) / (f1u + (k - 1))\n",
      "C:\\Users\\camil\\Anaconda3\\lib\\site-packages\\pingouin\\reliability.py:353: RuntimeWarning: invalid value encountered in double_scalars\n",
      "  l3 = (f3l - 1) / (f3l + (k - 1))\n",
      "C:\\Users\\camil\\Anaconda3\\lib\\site-packages\\pingouin\\reliability.py:354: RuntimeWarning: invalid value encountered in double_scalars\n",
      "  u3 = (f3u - 1) / (f3u + (k - 1))\n",
      "C:\\Users\\camil\\Anaconda3\\lib\\site-packages\\pingouin\\reliability.py:356: RuntimeWarning: invalid value encountered in double_scalars\n",
      "  fj = msj / mse\n",
      " 57%|███████████████████████████████████████████▌                                 | 43/76 [1:20:25<1:31:15, 165.91s/it]C:\\Users\\camil\\Anaconda3\\lib\\site-packages\\ipykernel_launcher.py:100: FutureWarning: Indexing with multiple keys (implicitly converted to a tuple of keys) will be deprecated, use a list instead.\n"
     ]
    },
    {
     "name": "stdout",
     "output_type": "stream",
     "text": [
      "(70, 6)\n",
      "(318, 44) (82980, 9) (70, 6)\n"
     ]
    },
    {
     "name": "stderr",
     "output_type": "stream",
     "text": [
      "C:\\Users\\camil\\Anaconda3\\lib\\site-packages\\sklearn\\metrics\\_classification.py:1221: UndefinedMetricWarning: Precision and F-score are ill-defined and being set to 0.0 in labels with no predicted samples. Use `zero_division` parameter to control this behavior.\n",
      "  _warn_prf(average, modifier, msg_start, len(result))\n",
      "C:\\Users\\camil\\Anaconda3\\lib\\site-packages\\ipykernel_launcher.py:100: FutureWarning: Indexing with multiple keys (implicitly converted to a tuple of keys) will be deprecated, use a list instead.\n"
     ]
    },
    {
     "name": "stdout",
     "output_type": "stream",
     "text": [
      "(70, 6)\n",
      "(293, 44) (84000, 9) (70, 6)\n"
     ]
    },
    {
     "name": "stderr",
     "output_type": "stream",
     "text": [
      "C:\\Users\\camil\\Anaconda3\\lib\\site-packages\\sklearn\\metrics\\_classification.py:1221: UndefinedMetricWarning: Precision and F-score are ill-defined and being set to 0.0 in labels with no predicted samples. Use `zero_division` parameter to control this behavior.\n",
      "  _warn_prf(average, modifier, msg_start, len(result))\n",
      " 58%|████████████████████████████████████████████▌                                | 44/76 [1:23:04<1:27:13, 163.56s/it]C:\\Users\\camil\\Anaconda3\\lib\\site-packages\\ipykernel_launcher.py:100: FutureWarning: Indexing with multiple keys (implicitly converted to a tuple of keys) will be deprecated, use a list instead.\n"
     ]
    },
    {
     "name": "stdout",
     "output_type": "stream",
     "text": [
      "(70, 6)\n",
      "(308, 44) (91320, 9) (70, 6)\n"
     ]
    },
    {
     "name": "stderr",
     "output_type": "stream",
     "text": [
      "C:\\Users\\camil\\Anaconda3\\lib\\site-packages\\sklearn\\metrics\\_classification.py:1221: UndefinedMetricWarning: Precision and F-score are ill-defined and being set to 0.0 in labels with no predicted samples. Use `zero_division` parameter to control this behavior.\n",
      "  _warn_prf(average, modifier, msg_start, len(result))\n",
      "C:\\Users\\camil\\Anaconda3\\lib\\site-packages\\ipykernel_launcher.py:100: FutureWarning: Indexing with multiple keys (implicitly converted to a tuple of keys) will be deprecated, use a list instead.\n"
     ]
    },
    {
     "name": "stdout",
     "output_type": "stream",
     "text": [
      "(70, 6)\n",
      "(280, 44) (86640, 9) (70, 6)\n"
     ]
    },
    {
     "name": "stderr",
     "output_type": "stream",
     "text": [
      "C:\\Users\\camil\\Anaconda3\\lib\\site-packages\\sklearn\\metrics\\_classification.py:1221: UndefinedMetricWarning: Precision and F-score are ill-defined and being set to 0.0 in labels with no predicted samples. Use `zero_division` parameter to control this behavior.\n",
      "  _warn_prf(average, modifier, msg_start, len(result))\n",
      " 59%|█████████████████████████████████████████████▌                               | 45/76 [1:25:53<1:25:24, 165.32s/it]C:\\Users\\camil\\Anaconda3\\lib\\site-packages\\ipykernel_launcher.py:100: FutureWarning: Indexing with multiple keys (implicitly converted to a tuple of keys) will be deprecated, use a list instead.\n"
     ]
    },
    {
     "name": "stdout",
     "output_type": "stream",
     "text": [
      "(75, 6)\n",
      "(273, 44) (93960, 9) (75, 6)\n"
     ]
    },
    {
     "name": "stderr",
     "output_type": "stream",
     "text": [
      "C:\\Users\\camil\\Anaconda3\\lib\\site-packages\\sklearn\\metrics\\_classification.py:1221: UndefinedMetricWarning: Precision and F-score are ill-defined and being set to 0.0 in labels with no predicted samples. Use `zero_division` parameter to control this behavior.\n",
      "  _warn_prf(average, modifier, msg_start, len(result))\n",
      "C:\\Users\\camil\\Anaconda3\\lib\\site-packages\\ipykernel_launcher.py:100: FutureWarning: Indexing with multiple keys (implicitly converted to a tuple of keys) will be deprecated, use a list instead.\n"
     ]
    },
    {
     "name": "stdout",
     "output_type": "stream",
     "text": [
      "(75, 6)\n",
      "(344, 44) (88800, 9) (75, 6)\n"
     ]
    },
    {
     "name": "stderr",
     "output_type": "stream",
     "text": [
      "C:\\Users\\camil\\Anaconda3\\lib\\site-packages\\sklearn\\metrics\\_classification.py:1221: UndefinedMetricWarning: Precision and F-score are ill-defined and being set to 0.0 in labels with no predicted samples. Use `zero_division` parameter to control this behavior.\n",
      "  _warn_prf(average, modifier, msg_start, len(result))\n",
      " 61%|██████████████████████████████████████████████▌                              | 46/76 [1:28:42<1:23:15, 166.52s/it]C:\\Users\\camil\\Anaconda3\\lib\\site-packages\\ipykernel_launcher.py:100: FutureWarning: Indexing with multiple keys (implicitly converted to a tuple of keys) will be deprecated, use a list instead.\n"
     ]
    },
    {
     "name": "stdout",
     "output_type": "stream",
     "text": [
      "(75, 6)\n",
      "(268, 44) (92820, 9) (75, 6)\n"
     ]
    },
    {
     "name": "stderr",
     "output_type": "stream",
     "text": [
      "C:\\Users\\camil\\Anaconda3\\lib\\site-packages\\sklearn\\metrics\\_classification.py:1221: UndefinedMetricWarning: Precision and F-score are ill-defined and being set to 0.0 in labels with no predicted samples. Use `zero_division` parameter to control this behavior.\n",
      "  _warn_prf(average, modifier, msg_start, len(result))\n",
      "C:\\Users\\camil\\Anaconda3\\lib\\site-packages\\pingouin\\parametric.py:978: RuntimeWarning: divide by zero encountered in double_scalars\n",
      "  fval = msbetween / mserror\n",
      "C:\\Users\\camil\\Anaconda3\\lib\\site-packages\\pingouin\\reliability.py:320: RuntimeWarning: divide by zero encountered in double_scalars\n",
      "  f1k = msb / msw\n",
      "C:\\Users\\camil\\Anaconda3\\lib\\site-packages\\pingouin\\reliability.py:325: RuntimeWarning: divide by zero encountered in double_scalars\n",
      "  f2k = f3k = msb / mse\n",
      "C:\\Users\\camil\\Anaconda3\\lib\\site-packages\\pingouin\\reliability.py:349: RuntimeWarning: invalid value encountered in double_scalars\n",
      "  l1 = (f1l - 1) / (f1l + (k - 1))\n",
      "C:\\Users\\camil\\Anaconda3\\lib\\site-packages\\pingouin\\reliability.py:350: RuntimeWarning: invalid value encountered in double_scalars\n",
      "  u1 = (f1u - 1) / (f1u + (k - 1))\n",
      "C:\\Users\\camil\\Anaconda3\\lib\\site-packages\\pingouin\\reliability.py:353: RuntimeWarning: invalid value encountered in double_scalars\n",
      "  l3 = (f3l - 1) / (f3l + (k - 1))\n",
      "C:\\Users\\camil\\Anaconda3\\lib\\site-packages\\pingouin\\reliability.py:354: RuntimeWarning: invalid value encountered in double_scalars\n",
      "  u3 = (f3u - 1) / (f3u + (k - 1))\n",
      "C:\\Users\\camil\\Anaconda3\\lib\\site-packages\\pingouin\\reliability.py:356: RuntimeWarning: invalid value encountered in double_scalars\n",
      "  fj = msj / mse\n",
      "C:\\Users\\camil\\Anaconda3\\lib\\site-packages\\ipykernel_launcher.py:100: FutureWarning: Indexing with multiple keys (implicitly converted to a tuple of keys) will be deprecated, use a list instead.\n"
     ]
    },
    {
     "name": "stdout",
     "output_type": "stream",
     "text": [
      "(75, 6)\n",
      "(359, 44) (98040, 9) (75, 6)\n"
     ]
    },
    {
     "name": "stderr",
     "output_type": "stream",
     "text": [
      "C:\\Users\\camil\\Anaconda3\\lib\\site-packages\\sklearn\\metrics\\_classification.py:1221: UndefinedMetricWarning: Precision and F-score are ill-defined and being set to 0.0 in labels with no predicted samples. Use `zero_division` parameter to control this behavior.\n",
      "  _warn_prf(average, modifier, msg_start, len(result))\n",
      " 62%|███████████████████████████████████████████████▌                             | 47/76 [1:31:37<1:21:37, 168.89s/it]C:\\Users\\camil\\Anaconda3\\lib\\site-packages\\ipykernel_launcher.py:100: FutureWarning: Indexing with multiple keys (implicitly converted to a tuple of keys) will be deprecated, use a list instead.\n"
     ]
    },
    {
     "name": "stdout",
     "output_type": "stream",
     "text": [
      "(75, 6)\n",
      "(326, 44) (96600, 9) (75, 6)\n"
     ]
    },
    {
     "name": "stderr",
     "output_type": "stream",
     "text": [
      "C:\\Users\\camil\\Anaconda3\\lib\\site-packages\\sklearn\\metrics\\_classification.py:1221: UndefinedMetricWarning: Precision and F-score are ill-defined and being set to 0.0 in labels with no predicted samples. Use `zero_division` parameter to control this behavior.\n",
      "  _warn_prf(average, modifier, msg_start, len(result))\n",
      "C:\\Users\\camil\\Anaconda3\\lib\\site-packages\\ipykernel_launcher.py:100: FutureWarning: Indexing with multiple keys (implicitly converted to a tuple of keys) will be deprecated, use a list instead.\n"
     ]
    },
    {
     "name": "stdout",
     "output_type": "stream",
     "text": [
      "(75, 6)\n",
      "(271, 44) (92760, 9) (75, 6)\n"
     ]
    },
    {
     "name": "stderr",
     "output_type": "stream",
     "text": [
      "C:\\Users\\camil\\Anaconda3\\lib\\site-packages\\sklearn\\metrics\\_classification.py:1221: UndefinedMetricWarning: Precision and F-score are ill-defined and being set to 0.0 in labels with no predicted samples. Use `zero_division` parameter to control this behavior.\n",
      "  _warn_prf(average, modifier, msg_start, len(result))\n",
      " 63%|████████████████████████████████████████████████▋                            | 48/76 [1:34:35<1:20:10, 171.79s/it]C:\\Users\\camil\\Anaconda3\\lib\\site-packages\\ipykernel_launcher.py:100: FutureWarning: Indexing with multiple keys (implicitly converted to a tuple of keys) will be deprecated, use a list instead.\n"
     ]
    },
    {
     "name": "stdout",
     "output_type": "stream",
     "text": [
      "(75, 6)\n",
      "(353, 44) (87180, 9) (75, 6)\n"
     ]
    },
    {
     "name": "stderr",
     "output_type": "stream",
     "text": [
      "C:\\Users\\camil\\Anaconda3\\lib\\site-packages\\sklearn\\metrics\\_classification.py:1221: UndefinedMetricWarning: Precision and F-score are ill-defined and being set to 0.0 in labels with no predicted samples. Use `zero_division` parameter to control this behavior.\n",
      "  _warn_prf(average, modifier, msg_start, len(result))\n",
      "C:\\Users\\camil\\Anaconda3\\lib\\site-packages\\ipykernel_launcher.py:100: FutureWarning: Indexing with multiple keys (implicitly converted to a tuple of keys) will be deprecated, use a list instead.\n"
     ]
    },
    {
     "name": "stdout",
     "output_type": "stream",
     "text": [
      "(75, 6)\n",
      "(249, 44) (91920, 9) (75, 6)\n"
     ]
    },
    {
     "name": "stderr",
     "output_type": "stream",
     "text": [
      "C:\\Users\\camil\\Anaconda3\\lib\\site-packages\\sklearn\\metrics\\_classification.py:1221: UndefinedMetricWarning: Precision and F-score are ill-defined and being set to 0.0 in labels with no predicted samples. Use `zero_division` parameter to control this behavior.\n",
      "  _warn_prf(average, modifier, msg_start, len(result))\n",
      "C:\\Users\\camil\\Anaconda3\\lib\\site-packages\\pingouin\\parametric.py:978: RuntimeWarning: divide by zero encountered in double_scalars\n",
      "  fval = msbetween / mserror\n",
      " 64%|█████████████████████████████████████████████████▋                           | 49/76 [1:37:23<1:16:49, 170.71s/it]C:\\Users\\camil\\Anaconda3\\lib\\site-packages\\ipykernel_launcher.py:100: FutureWarning: Indexing with multiple keys (implicitly converted to a tuple of keys) will be deprecated, use a list instead.\n"
     ]
    },
    {
     "name": "stdout",
     "output_type": "stream",
     "text": [
      "(75, 6)\n",
      "(321, 44) (98940, 9) (75, 6)\n"
     ]
    },
    {
     "name": "stderr",
     "output_type": "stream",
     "text": [
      "C:\\Users\\camil\\Anaconda3\\lib\\site-packages\\sklearn\\metrics\\_classification.py:1221: UndefinedMetricWarning: Precision and F-score are ill-defined and being set to 0.0 in labels with no predicted samples. Use `zero_division` parameter to control this behavior.\n",
      "  _warn_prf(average, modifier, msg_start, len(result))\n",
      "C:\\Users\\camil\\Anaconda3\\lib\\site-packages\\ipykernel_launcher.py:100: FutureWarning: Indexing with multiple keys (implicitly converted to a tuple of keys) will be deprecated, use a list instead.\n"
     ]
    },
    {
     "name": "stdout",
     "output_type": "stream",
     "text": [
      "(75, 6)\n",
      "(261, 44) (88080, 9) (75, 6)\n"
     ]
    },
    {
     "name": "stderr",
     "output_type": "stream",
     "text": [
      "C:\\Users\\camil\\Anaconda3\\lib\\site-packages\\sklearn\\metrics\\_classification.py:1221: UndefinedMetricWarning: Precision and F-score are ill-defined and being set to 0.0 in labels with no predicted samples. Use `zero_division` parameter to control this behavior.\n",
      "  _warn_prf(average, modifier, msg_start, len(result))\n",
      " 66%|██████████████████████████████████████████████████▋                          | 50/76 [1:39:14<1:06:11, 152.76s/it]C:\\Users\\camil\\Anaconda3\\lib\\site-packages\\ipykernel_launcher.py:100: FutureWarning: Indexing with multiple keys (implicitly converted to a tuple of keys) will be deprecated, use a list instead.\n"
     ]
    },
    {
     "name": "stdout",
     "output_type": "stream",
     "text": [
      "(80, 6)\n",
      "(239, 44) (95160, 9) (80, 6)\n"
     ]
    },
    {
     "name": "stderr",
     "output_type": "stream",
     "text": [
      "C:\\Users\\camil\\Anaconda3\\lib\\site-packages\\sklearn\\metrics\\_classification.py:1221: UndefinedMetricWarning: Precision and F-score are ill-defined and being set to 0.0 in labels with no predicted samples. Use `zero_division` parameter to control this behavior.\n",
      "  _warn_prf(average, modifier, msg_start, len(result))\n",
      "C:\\Users\\camil\\Anaconda3\\lib\\site-packages\\pingouin\\parametric.py:978: RuntimeWarning: divide by zero encountered in double_scalars\n",
      "  fval = msbetween / mserror\n",
      "C:\\Users\\camil\\Anaconda3\\lib\\site-packages\\pingouin\\reliability.py:325: RuntimeWarning: divide by zero encountered in double_scalars\n",
      "  f2k = f3k = msb / mse\n",
      "C:\\Users\\camil\\Anaconda3\\lib\\site-packages\\pingouin\\reliability.py:353: RuntimeWarning: invalid value encountered in double_scalars\n",
      "  l3 = (f3l - 1) / (f3l + (k - 1))\n",
      "C:\\Users\\camil\\Anaconda3\\lib\\site-packages\\pingouin\\reliability.py:354: RuntimeWarning: invalid value encountered in double_scalars\n",
      "  u3 = (f3u - 1) / (f3u + (k - 1))\n",
      "C:\\Users\\camil\\Anaconda3\\lib\\site-packages\\pingouin\\reliability.py:356: RuntimeWarning: divide by zero encountered in double_scalars\n",
      "  fj = msj / mse\n",
      "C:\\Users\\camil\\Anaconda3\\lib\\site-packages\\pingouin\\reliability.py:360: RuntimeWarning: invalid value encountered in double_scalars\n",
      "  v = vn / vd\n",
      "C:\\Users\\camil\\Anaconda3\\lib\\site-packages\\ipykernel_launcher.py:100: FutureWarning: Indexing with multiple keys (implicitly converted to a tuple of keys) will be deprecated, use a list instead.\n"
     ]
    },
    {
     "name": "stdout",
     "output_type": "stream",
     "text": [
      "(80, 6)\n",
      "(336, 44) (95340, 9) (80, 6)\n"
     ]
    },
    {
     "name": "stderr",
     "output_type": "stream",
     "text": [
      "C:\\Users\\camil\\Anaconda3\\lib\\site-packages\\sklearn\\metrics\\_classification.py:1221: UndefinedMetricWarning: Precision and F-score are ill-defined and being set to 0.0 in labels with no predicted samples. Use `zero_division` parameter to control this behavior.\n",
      "  _warn_prf(average, modifier, msg_start, len(result))\n",
      " 67%|█████████████████████████████████████████████████████                          | 51/76 [1:41:02<58:03, 139.36s/it]C:\\Users\\camil\\Anaconda3\\lib\\site-packages\\ipykernel_launcher.py:100: FutureWarning: Indexing with multiple keys (implicitly converted to a tuple of keys) will be deprecated, use a list instead.\n"
     ]
    },
    {
     "name": "stdout",
     "output_type": "stream",
     "text": [
      "(80, 6)\n",
      "(376, 44) (105180, 9) (80, 6)\n"
     ]
    },
    {
     "name": "stderr",
     "output_type": "stream",
     "text": [
      "C:\\Users\\camil\\Anaconda3\\lib\\site-packages\\sklearn\\metrics\\_classification.py:1221: UndefinedMetricWarning: Precision and F-score are ill-defined and being set to 0.0 in labels with no predicted samples. Use `zero_division` parameter to control this behavior.\n",
      "  _warn_prf(average, modifier, msg_start, len(result))\n",
      "C:\\Users\\camil\\Anaconda3\\lib\\site-packages\\pingouin\\parametric.py:978: RuntimeWarning: divide by zero encountered in double_scalars\n",
      "  fval = msbetween / mserror\n",
      "C:\\Users\\camil\\Anaconda3\\lib\\site-packages\\pingouin\\reliability.py:320: RuntimeWarning: divide by zero encountered in double_scalars\n",
      "  f1k = msb / msw\n",
      "C:\\Users\\camil\\Anaconda3\\lib\\site-packages\\pingouin\\reliability.py:325: RuntimeWarning: divide by zero encountered in double_scalars\n",
      "  f2k = f3k = msb / mse\n",
      "C:\\Users\\camil\\Anaconda3\\lib\\site-packages\\pingouin\\reliability.py:349: RuntimeWarning: invalid value encountered in double_scalars\n",
      "  l1 = (f1l - 1) / (f1l + (k - 1))\n",
      "C:\\Users\\camil\\Anaconda3\\lib\\site-packages\\pingouin\\reliability.py:350: RuntimeWarning: invalid value encountered in double_scalars\n",
      "  u1 = (f1u - 1) / (f1u + (k - 1))\n",
      "C:\\Users\\camil\\Anaconda3\\lib\\site-packages\\pingouin\\reliability.py:353: RuntimeWarning: invalid value encountered in double_scalars\n",
      "  l3 = (f3l - 1) / (f3l + (k - 1))\n",
      "C:\\Users\\camil\\Anaconda3\\lib\\site-packages\\pingouin\\reliability.py:354: RuntimeWarning: invalid value encountered in double_scalars\n",
      "  u3 = (f3u - 1) / (f3u + (k - 1))\n",
      "C:\\Users\\camil\\Anaconda3\\lib\\site-packages\\pingouin\\reliability.py:356: RuntimeWarning: invalid value encountered in double_scalars\n",
      "  fj = msj / mse\n",
      "C:\\Users\\camil\\Anaconda3\\lib\\site-packages\\ipykernel_launcher.py:100: FutureWarning: Indexing with multiple keys (implicitly converted to a tuple of keys) will be deprecated, use a list instead.\n"
     ]
    },
    {
     "name": "stdout",
     "output_type": "stream",
     "text": [
      "(80, 6)\n",
      "(297, 44) (92040, 9) (80, 6)\n"
     ]
    },
    {
     "name": "stderr",
     "output_type": "stream",
     "text": [
      "C:\\Users\\camil\\Anaconda3\\lib\\site-packages\\sklearn\\metrics\\_classification.py:1221: UndefinedMetricWarning: Precision and F-score are ill-defined and being set to 0.0 in labels with no predicted samples. Use `zero_division` parameter to control this behavior.\n",
      "  _warn_prf(average, modifier, msg_start, len(result))\n",
      " 68%|██████████████████████████████████████████████████████                         | 52/76 [1:42:56<52:41, 131.71s/it]C:\\Users\\camil\\Anaconda3\\lib\\site-packages\\ipykernel_launcher.py:100: FutureWarning: Indexing with multiple keys (implicitly converted to a tuple of keys) will be deprecated, use a list instead.\n"
     ]
    },
    {
     "name": "stdout",
     "output_type": "stream",
     "text": [
      "(80, 6)\n",
      "(284, 44) (91440, 9) (80, 6)\n"
     ]
    },
    {
     "name": "stderr",
     "output_type": "stream",
     "text": [
      "C:\\Users\\camil\\Anaconda3\\lib\\site-packages\\sklearn\\metrics\\_classification.py:1221: UndefinedMetricWarning: Precision and F-score are ill-defined and being set to 0.0 in labels with no predicted samples. Use `zero_division` parameter to control this behavior.\n",
      "  _warn_prf(average, modifier, msg_start, len(result))\n",
      "C:\\Users\\camil\\Anaconda3\\lib\\site-packages\\ipykernel_launcher.py:100: FutureWarning: Indexing with multiple keys (implicitly converted to a tuple of keys) will be deprecated, use a list instead.\n"
     ]
    },
    {
     "name": "stdout",
     "output_type": "stream",
     "text": [
      "(80, 6)\n",
      "(351, 44) (98700, 9) (80, 6)\n"
     ]
    },
    {
     "name": "stderr",
     "output_type": "stream",
     "text": [
      "C:\\Users\\camil\\Anaconda3\\lib\\site-packages\\sklearn\\metrics\\_classification.py:1221: UndefinedMetricWarning: Precision and F-score are ill-defined and being set to 0.0 in labels with no predicted samples. Use `zero_division` parameter to control this behavior.\n",
      "  _warn_prf(average, modifier, msg_start, len(result))\n",
      " 70%|███████████████████████████████████████████████████████                        | 53/76 [1:44:39<47:11, 123.11s/it]C:\\Users\\camil\\Anaconda3\\lib\\site-packages\\ipykernel_launcher.py:100: FutureWarning: Indexing with multiple keys (implicitly converted to a tuple of keys) will be deprecated, use a list instead.\n"
     ]
    },
    {
     "name": "stdout",
     "output_type": "stream",
     "text": [
      "(80, 6)\n",
      "(377, 44) (101400, 9) (80, 6)\n"
     ]
    },
    {
     "name": "stderr",
     "output_type": "stream",
     "text": [
      "C:\\Users\\camil\\Anaconda3\\lib\\site-packages\\sklearn\\metrics\\_classification.py:1221: UndefinedMetricWarning: Precision and F-score are ill-defined and being set to 0.0 in labels with no predicted samples. Use `zero_division` parameter to control this behavior.\n",
      "  _warn_prf(average, modifier, msg_start, len(result))\n",
      "C:\\Users\\camil\\Anaconda3\\lib\\site-packages\\ipykernel_launcher.py:100: FutureWarning: Indexing with multiple keys (implicitly converted to a tuple of keys) will be deprecated, use a list instead.\n"
     ]
    },
    {
     "name": "stdout",
     "output_type": "stream",
     "text": [
      "(80, 6)\n",
      "(315, 44) (97440, 9) (80, 6)\n"
     ]
    },
    {
     "name": "stderr",
     "output_type": "stream",
     "text": [
      "C:\\Users\\camil\\Anaconda3\\lib\\site-packages\\sklearn\\metrics\\_classification.py:1221: UndefinedMetricWarning: Precision and F-score are ill-defined and being set to 0.0 in labels with no predicted samples. Use `zero_division` parameter to control this behavior.\n",
      "  _warn_prf(average, modifier, msg_start, len(result))\n",
      " 71%|████████████████████████████████████████████████████████▏                      | 54/76 [1:46:24<43:04, 117.47s/it]C:\\Users\\camil\\Anaconda3\\lib\\site-packages\\ipykernel_launcher.py:100: FutureWarning: Indexing with multiple keys (implicitly converted to a tuple of keys) will be deprecated, use a list instead.\n"
     ]
    },
    {
     "name": "stdout",
     "output_type": "stream",
     "text": [
      "(80, 6)\n",
      "(248, 44) (85680, 9) (80, 6)\n"
     ]
    },
    {
     "name": "stderr",
     "output_type": "stream",
     "text": [
      "C:\\Users\\camil\\Anaconda3\\lib\\site-packages\\sklearn\\metrics\\_classification.py:1221: UndefinedMetricWarning: Precision and F-score are ill-defined and being set to 0.0 in labels with no predicted samples. Use `zero_division` parameter to control this behavior.\n",
      "  _warn_prf(average, modifier, msg_start, len(result))\n",
      "C:\\Users\\camil\\Anaconda3\\lib\\site-packages\\pingouin\\parametric.py:978: RuntimeWarning: divide by zero encountered in double_scalars\n",
      "  fval = msbetween / mserror\n",
      "C:\\Users\\camil\\Anaconda3\\lib\\site-packages\\pingouin\\reliability.py:325: RuntimeWarning: divide by zero encountered in double_scalars\n",
      "  f2k = f3k = msb / mse\n",
      "C:\\Users\\camil\\Anaconda3\\lib\\site-packages\\pingouin\\reliability.py:353: RuntimeWarning: invalid value encountered in double_scalars\n",
      "  l3 = (f3l - 1) / (f3l + (k - 1))\n",
      "C:\\Users\\camil\\Anaconda3\\lib\\site-packages\\pingouin\\reliability.py:354: RuntimeWarning: invalid value encountered in double_scalars\n",
      "  u3 = (f3u - 1) / (f3u + (k - 1))\n",
      "C:\\Users\\camil\\Anaconda3\\lib\\site-packages\\pingouin\\reliability.py:356: RuntimeWarning: divide by zero encountered in double_scalars\n",
      "  fj = msj / mse\n",
      "C:\\Users\\camil\\Anaconda3\\lib\\site-packages\\pingouin\\reliability.py:360: RuntimeWarning: invalid value encountered in double_scalars\n",
      "  v = vn / vd\n",
      "C:\\Users\\camil\\Anaconda3\\lib\\site-packages\\ipykernel_launcher.py:100: FutureWarning: Indexing with multiple keys (implicitly converted to a tuple of keys) will be deprecated, use a list instead.\n"
     ]
    },
    {
     "name": "stdout",
     "output_type": "stream",
     "text": [
      "(80, 6)\n",
      "(389, 44) (108780, 9) (80, 6)\n"
     ]
    },
    {
     "name": "stderr",
     "output_type": "stream",
     "text": [
      "C:\\Users\\camil\\Anaconda3\\lib\\site-packages\\sklearn\\metrics\\_classification.py:1221: UndefinedMetricWarning: Precision and F-score are ill-defined and being set to 0.0 in labels with no predicted samples. Use `zero_division` parameter to control this behavior.\n",
      "  _warn_prf(average, modifier, msg_start, len(result))\n",
      " 72%|█████████████████████████████████████████████████████████▏                     | 55/76 [1:48:14<40:24, 115.46s/it]C:\\Users\\camil\\Anaconda3\\lib\\site-packages\\ipykernel_launcher.py:100: FutureWarning: Indexing with multiple keys (implicitly converted to a tuple of keys) will be deprecated, use a list instead.\n"
     ]
    },
    {
     "name": "stdout",
     "output_type": "stream",
     "text": [
      "(85, 6)\n",
      "(338, 44) (103620, 9) (85, 6)\n"
     ]
    },
    {
     "name": "stderr",
     "output_type": "stream",
     "text": [
      "C:\\Users\\camil\\Anaconda3\\lib\\site-packages\\sklearn\\metrics\\_classification.py:1221: UndefinedMetricWarning: Precision and F-score are ill-defined and being set to 0.0 in labels with no predicted samples. Use `zero_division` parameter to control this behavior.\n",
      "  _warn_prf(average, modifier, msg_start, len(result))\n",
      "C:\\Users\\camil\\Anaconda3\\lib\\site-packages\\ipykernel_launcher.py:100: FutureWarning: Indexing with multiple keys (implicitly converted to a tuple of keys) will be deprecated, use a list instead.\n"
     ]
    },
    {
     "name": "stdout",
     "output_type": "stream",
     "text": [
      "(85, 6)\n",
      "(399, 44) (105060, 9) (85, 6)\n"
     ]
    },
    {
     "name": "stderr",
     "output_type": "stream",
     "text": [
      "C:\\Users\\camil\\Anaconda3\\lib\\site-packages\\sklearn\\metrics\\_classification.py:1221: UndefinedMetricWarning: Precision and F-score are ill-defined and being set to 0.0 in labels with no predicted samples. Use `zero_division` parameter to control this behavior.\n",
      "  _warn_prf(average, modifier, msg_start, len(result))\n",
      " 74%|██████████████████████████████████████████████████████████▏                    | 56/76 [1:50:05<38:02, 114.12s/it]C:\\Users\\camil\\Anaconda3\\lib\\site-packages\\ipykernel_launcher.py:100: FutureWarning: Indexing with multiple keys (implicitly converted to a tuple of keys) will be deprecated, use a list instead.\n"
     ]
    },
    {
     "name": "stdout",
     "output_type": "stream",
     "text": [
      "(85, 6)\n",
      "(282, 44) (104940, 9) (85, 6)\n"
     ]
    },
    {
     "name": "stderr",
     "output_type": "stream",
     "text": [
      "C:\\Users\\camil\\Anaconda3\\lib\\site-packages\\sklearn\\metrics\\_classification.py:1221: UndefinedMetricWarning: Precision and F-score are ill-defined and being set to 0.0 in labels with no predicted samples. Use `zero_division` parameter to control this behavior.\n",
      "  _warn_prf(average, modifier, msg_start, len(result))\n",
      "C:\\Users\\camil\\Anaconda3\\lib\\site-packages\\ipykernel_launcher.py:100: FutureWarning: Indexing with multiple keys (implicitly converted to a tuple of keys) will be deprecated, use a list instead.\n"
     ]
    },
    {
     "name": "stdout",
     "output_type": "stream",
     "text": [
      "(85, 6)\n",
      "(395, 44) (111360, 9) (85, 6)\n"
     ]
    },
    {
     "name": "stderr",
     "output_type": "stream",
     "text": [
      "C:\\Users\\camil\\Anaconda3\\lib\\site-packages\\sklearn\\metrics\\_classification.py:1221: UndefinedMetricWarning: Precision and F-score are ill-defined and being set to 0.0 in labels with no predicted samples. Use `zero_division` parameter to control this behavior.\n",
      "  _warn_prf(average, modifier, msg_start, len(result))\n",
      " 75%|███████████████████████████████████████████████████████████▎                   | 57/76 [1:52:00<36:11, 114.28s/it]C:\\Users\\camil\\Anaconda3\\lib\\site-packages\\ipykernel_launcher.py:100: FutureWarning: Indexing with multiple keys (implicitly converted to a tuple of keys) will be deprecated, use a list instead.\n"
     ]
    },
    {
     "name": "stdout",
     "output_type": "stream",
     "text": [
      "(85, 6)\n",
      "(403, 44) (102960, 9) (85, 6)\n"
     ]
    },
    {
     "name": "stderr",
     "output_type": "stream",
     "text": [
      "C:\\Users\\camil\\Anaconda3\\lib\\site-packages\\sklearn\\metrics\\_classification.py:1221: UndefinedMetricWarning: Precision and F-score are ill-defined and being set to 0.0 in labels with no predicted samples. Use `zero_division` parameter to control this behavior.\n",
      "  _warn_prf(average, modifier, msg_start, len(result))\n",
      "C:\\Users\\camil\\Anaconda3\\lib\\site-packages\\pingouin\\parametric.py:978: RuntimeWarning: divide by zero encountered in double_scalars\n",
      "  fval = msbetween / mserror\n",
      "C:\\Users\\camil\\Anaconda3\\lib\\site-packages\\pingouin\\reliability.py:320: RuntimeWarning: divide by zero encountered in double_scalars\n",
      "  f1k = msb / msw\n",
      "C:\\Users\\camil\\Anaconda3\\lib\\site-packages\\pingouin\\reliability.py:325: RuntimeWarning: divide by zero encountered in double_scalars\n",
      "  f2k = f3k = msb / mse\n",
      "C:\\Users\\camil\\Anaconda3\\lib\\site-packages\\pingouin\\reliability.py:349: RuntimeWarning: invalid value encountered in double_scalars\n",
      "  l1 = (f1l - 1) / (f1l + (k - 1))\n",
      "C:\\Users\\camil\\Anaconda3\\lib\\site-packages\\pingouin\\reliability.py:350: RuntimeWarning: invalid value encountered in double_scalars\n",
      "  u1 = (f1u - 1) / (f1u + (k - 1))\n",
      "C:\\Users\\camil\\Anaconda3\\lib\\site-packages\\pingouin\\reliability.py:353: RuntimeWarning: invalid value encountered in double_scalars\n",
      "  l3 = (f3l - 1) / (f3l + (k - 1))\n",
      "C:\\Users\\camil\\Anaconda3\\lib\\site-packages\\pingouin\\reliability.py:354: RuntimeWarning: invalid value encountered in double_scalars\n",
      "  u3 = (f3u - 1) / (f3u + (k - 1))\n",
      "C:\\Users\\camil\\Anaconda3\\lib\\site-packages\\pingouin\\reliability.py:356: RuntimeWarning: invalid value encountered in double_scalars\n",
      "  fj = msj / mse\n",
      "C:\\Users\\camil\\Anaconda3\\lib\\site-packages\\ipykernel_launcher.py:100: FutureWarning: Indexing with multiple keys (implicitly converted to a tuple of keys) will be deprecated, use a list instead.\n"
     ]
    },
    {
     "name": "stdout",
     "output_type": "stream",
     "text": [
      "(85, 6)\n",
      "(316, 44) (102660, 9) (85, 6)\n"
     ]
    },
    {
     "name": "stderr",
     "output_type": "stream",
     "text": [
      "C:\\Users\\camil\\Anaconda3\\lib\\site-packages\\sklearn\\metrics\\_classification.py:1221: UndefinedMetricWarning: Precision and F-score are ill-defined and being set to 0.0 in labels with no predicted samples. Use `zero_division` parameter to control this behavior.\n",
      "  _warn_prf(average, modifier, msg_start, len(result))\n",
      " 76%|████████████████████████████████████████████████████████████▎                  | 58/76 [1:53:48<33:43, 112.44s/it]C:\\Users\\camil\\Anaconda3\\lib\\site-packages\\ipykernel_launcher.py:100: FutureWarning: Indexing with multiple keys (implicitly converted to a tuple of keys) will be deprecated, use a list instead.\n"
     ]
    },
    {
     "name": "stdout",
     "output_type": "stream",
     "text": [
      "(85, 6)\n",
      "(374, 44) (111360, 9) (85, 6)\n"
     ]
    },
    {
     "name": "stderr",
     "output_type": "stream",
     "text": [
      "C:\\Users\\camil\\Anaconda3\\lib\\site-packages\\sklearn\\metrics\\_classification.py:1221: UndefinedMetricWarning: Precision and F-score are ill-defined and being set to 0.0 in labels with no predicted samples. Use `zero_division` parameter to control this behavior.\n",
      "  _warn_prf(average, modifier, msg_start, len(result))\n",
      "C:\\Users\\camil\\Anaconda3\\lib\\site-packages\\ipykernel_launcher.py:100: FutureWarning: Indexing with multiple keys (implicitly converted to a tuple of keys) will be deprecated, use a list instead.\n"
     ]
    },
    {
     "name": "stdout",
     "output_type": "stream",
     "text": [
      "(85, 6)\n",
      "(323, 44) (102120, 9) (85, 6)\n"
     ]
    },
    {
     "name": "stderr",
     "output_type": "stream",
     "text": [
      "C:\\Users\\camil\\Anaconda3\\lib\\site-packages\\sklearn\\metrics\\_classification.py:1221: UndefinedMetricWarning: Precision and F-score are ill-defined and being set to 0.0 in labels with no predicted samples. Use `zero_division` parameter to control this behavior.\n",
      "  _warn_prf(average, modifier, msg_start, len(result))\n",
      " 78%|█████████████████████████████████████████████████████████████▎                 | 59/76 [1:55:38<31:36, 111.55s/it]C:\\Users\\camil\\Anaconda3\\lib\\site-packages\\ipykernel_launcher.py:100: FutureWarning: Indexing with multiple keys (implicitly converted to a tuple of keys) will be deprecated, use a list instead.\n"
     ]
    },
    {
     "name": "stdout",
     "output_type": "stream",
     "text": [
      "(85, 6)\n",
      "(362, 44) (108540, 9) (85, 6)\n"
     ]
    },
    {
     "name": "stderr",
     "output_type": "stream",
     "text": [
      "C:\\Users\\camil\\Anaconda3\\lib\\site-packages\\sklearn\\metrics\\_classification.py:1221: UndefinedMetricWarning: Precision and F-score are ill-defined and being set to 0.0 in labels with no predicted samples. Use `zero_division` parameter to control this behavior.\n",
      "  _warn_prf(average, modifier, msg_start, len(result))\n",
      "C:\\Users\\camil\\Anaconda3\\lib\\site-packages\\ipykernel_launcher.py:100: FutureWarning: Indexing with multiple keys (implicitly converted to a tuple of keys) will be deprecated, use a list instead.\n"
     ]
    },
    {
     "name": "stdout",
     "output_type": "stream",
     "text": [
      "(85, 6)\n",
      "(361, 44) (104040, 9) (85, 6)\n"
     ]
    },
    {
     "name": "stderr",
     "output_type": "stream",
     "text": [
      "C:\\Users\\camil\\Anaconda3\\lib\\site-packages\\sklearn\\metrics\\_classification.py:1221: UndefinedMetricWarning: Precision and F-score are ill-defined and being set to 0.0 in labels with no predicted samples. Use `zero_division` parameter to control this behavior.\n",
      "  _warn_prf(average, modifier, msg_start, len(result))\n",
      " 79%|██████████████████████████████████████████████████████████████▎                | 60/76 [1:57:43<30:49, 115.57s/it]C:\\Users\\camil\\Anaconda3\\lib\\site-packages\\ipykernel_launcher.py:100: FutureWarning: Indexing with multiple keys (implicitly converted to a tuple of keys) will be deprecated, use a list instead.\n"
     ]
    },
    {
     "name": "stdout",
     "output_type": "stream",
     "text": [
      "(90, 6)\n",
      "(326, 44) (101760, 9) (90, 6)\n"
     ]
    },
    {
     "name": "stderr",
     "output_type": "stream",
     "text": [
      "C:\\Users\\camil\\Anaconda3\\lib\\site-packages\\sklearn\\metrics\\_classification.py:1221: UndefinedMetricWarning: Precision and F-score are ill-defined and being set to 0.0 in labels with no predicted samples. Use `zero_division` parameter to control this behavior.\n",
      "  _warn_prf(average, modifier, msg_start, len(result))\n",
      "C:\\Users\\camil\\Anaconda3\\lib\\site-packages\\ipykernel_launcher.py:100: FutureWarning: Indexing with multiple keys (implicitly converted to a tuple of keys) will be deprecated, use a list instead.\n"
     ]
    },
    {
     "name": "stdout",
     "output_type": "stream",
     "text": [
      "(90, 6)\n",
      "(405, 44) (120720, 9) (90, 6)\n"
     ]
    },
    {
     "name": "stderr",
     "output_type": "stream",
     "text": [
      "C:\\Users\\camil\\Anaconda3\\lib\\site-packages\\sklearn\\metrics\\_classification.py:1221: UndefinedMetricWarning: Precision and F-score are ill-defined and being set to 0.0 in labels with no predicted samples. Use `zero_division` parameter to control this behavior.\n",
      "  _warn_prf(average, modifier, msg_start, len(result))\n",
      " 80%|███████████████████████████████████████████████████████████████▍               | 61/76 [1:59:37<28:49, 115.31s/it]C:\\Users\\camil\\Anaconda3\\lib\\site-packages\\ipykernel_launcher.py:100: FutureWarning: Indexing with multiple keys (implicitly converted to a tuple of keys) will be deprecated, use a list instead.\n"
     ]
    },
    {
     "name": "stdout",
     "output_type": "stream",
     "text": [
      "(90, 6)\n",
      "(388, 44) (110100, 9) (90, 6)\n"
     ]
    },
    {
     "name": "stderr",
     "output_type": "stream",
     "text": [
      "C:\\Users\\camil\\Anaconda3\\lib\\site-packages\\sklearn\\metrics\\_classification.py:1221: UndefinedMetricWarning: Precision and F-score are ill-defined and being set to 0.0 in labels with no predicted samples. Use `zero_division` parameter to control this behavior.\n",
      "  _warn_prf(average, modifier, msg_start, len(result))\n",
      "C:\\Users\\camil\\Anaconda3\\lib\\site-packages\\ipykernel_launcher.py:100: FutureWarning: Indexing with multiple keys (implicitly converted to a tuple of keys) will be deprecated, use a list instead.\n"
     ]
    },
    {
     "name": "stdout",
     "output_type": "stream",
     "text": [
      "(90, 6)\n",
      "(348, 44) (112140, 9) (90, 6)\n"
     ]
    },
    {
     "name": "stderr",
     "output_type": "stream",
     "text": [
      "C:\\Users\\camil\\Anaconda3\\lib\\site-packages\\sklearn\\metrics\\_classification.py:1221: UndefinedMetricWarning: Precision and F-score are ill-defined and being set to 0.0 in labels with no predicted samples. Use `zero_division` parameter to control this behavior.\n",
      "  _warn_prf(average, modifier, msg_start, len(result))\n",
      " 82%|████████████████████████████████████████████████████████████████▍              | 62/76 [2:01:44<27:42, 118.78s/it]C:\\Users\\camil\\Anaconda3\\lib\\site-packages\\ipykernel_launcher.py:100: FutureWarning: Indexing with multiple keys (implicitly converted to a tuple of keys) will be deprecated, use a list instead.\n"
     ]
    },
    {
     "name": "stdout",
     "output_type": "stream",
     "text": [
      "(90, 6)\n",
      "(277, 44) (106200, 9) (90, 6)\n"
     ]
    },
    {
     "name": "stderr",
     "output_type": "stream",
     "text": [
      "C:\\Users\\camil\\Anaconda3\\lib\\site-packages\\sklearn\\metrics\\_classification.py:1221: UndefinedMetricWarning: Precision and F-score are ill-defined and being set to 0.0 in labels with no predicted samples. Use `zero_division` parameter to control this behavior.\n",
      "  _warn_prf(average, modifier, msg_start, len(result))\n",
      "C:\\Users\\camil\\Anaconda3\\lib\\site-packages\\ipykernel_launcher.py:100: FutureWarning: Indexing with multiple keys (implicitly converted to a tuple of keys) will be deprecated, use a list instead.\n"
     ]
    },
    {
     "name": "stdout",
     "output_type": "stream",
     "text": [
      "(90, 6)\n",
      "(438, 44) (110640, 9) (90, 6)\n"
     ]
    },
    {
     "name": "stderr",
     "output_type": "stream",
     "text": [
      "C:\\Users\\camil\\Anaconda3\\lib\\site-packages\\sklearn\\metrics\\_classification.py:1221: UndefinedMetricWarning: Precision and F-score are ill-defined and being set to 0.0 in labels with no predicted samples. Use `zero_division` parameter to control this behavior.\n",
      "  _warn_prf(average, modifier, msg_start, len(result))\n",
      " 83%|█████████████████████████████████████████████████████████████████▍             | 63/76 [2:03:38<25:26, 117.43s/it]C:\\Users\\camil\\Anaconda3\\lib\\site-packages\\ipykernel_launcher.py:100: FutureWarning: Indexing with multiple keys (implicitly converted to a tuple of keys) will be deprecated, use a list instead.\n"
     ]
    },
    {
     "name": "stdout",
     "output_type": "stream",
     "text": [
      "(90, 6)\n",
      "(422, 44) (109860, 9) (90, 6)\n"
     ]
    },
    {
     "name": "stderr",
     "output_type": "stream",
     "text": [
      "C:\\Users\\camil\\Anaconda3\\lib\\site-packages\\sklearn\\metrics\\_classification.py:1221: UndefinedMetricWarning: Precision and F-score are ill-defined and being set to 0.0 in labels with no predicted samples. Use `zero_division` parameter to control this behavior.\n",
      "  _warn_prf(average, modifier, msg_start, len(result))\n",
      "C:\\Users\\camil\\Anaconda3\\lib\\site-packages\\ipykernel_launcher.py:100: FutureWarning: Indexing with multiple keys (implicitly converted to a tuple of keys) will be deprecated, use a list instead.\n"
     ]
    },
    {
     "name": "stdout",
     "output_type": "stream",
     "text": [
      "(90, 6)\n",
      "(326, 44) (108420, 9) (90, 6)\n"
     ]
    },
    {
     "name": "stderr",
     "output_type": "stream",
     "text": [
      "C:\\Users\\camil\\Anaconda3\\lib\\site-packages\\sklearn\\metrics\\_classification.py:1221: UndefinedMetricWarning: Precision and F-score are ill-defined and being set to 0.0 in labels with no predicted samples. Use `zero_division` parameter to control this behavior.\n",
      "  _warn_prf(average, modifier, msg_start, len(result))\n",
      "C:\\Users\\camil\\Anaconda3\\lib\\site-packages\\pingouin\\parametric.py:978: RuntimeWarning: divide by zero encountered in double_scalars\n",
      "  fval = msbetween / mserror\n",
      "C:\\Users\\camil\\Anaconda3\\lib\\site-packages\\pingouin\\reliability.py:325: RuntimeWarning: divide by zero encountered in double_scalars\n",
      "  f2k = f3k = msb / mse\n",
      "C:\\Users\\camil\\Anaconda3\\lib\\site-packages\\pingouin\\reliability.py:353: RuntimeWarning: invalid value encountered in double_scalars\n",
      "  l3 = (f3l - 1) / (f3l + (k - 1))\n",
      "C:\\Users\\camil\\Anaconda3\\lib\\site-packages\\pingouin\\reliability.py:354: RuntimeWarning: invalid value encountered in double_scalars\n",
      "  u3 = (f3u - 1) / (f3u + (k - 1))\n",
      "C:\\Users\\camil\\Anaconda3\\lib\\site-packages\\pingouin\\reliability.py:356: RuntimeWarning: divide by zero encountered in double_scalars\n",
      "  fj = msj / mse\n",
      "C:\\Users\\camil\\Anaconda3\\lib\\site-packages\\pingouin\\reliability.py:360: RuntimeWarning: invalid value encountered in double_scalars\n",
      "  v = vn / vd\n",
      " 84%|██████████████████████████████████████████████████████████████████▌            | 64/76 [2:05:37<23:32, 117.69s/it]C:\\Users\\camil\\Anaconda3\\lib\\site-packages\\ipykernel_launcher.py:100: FutureWarning: Indexing with multiple keys (implicitly converted to a tuple of keys) will be deprecated, use a list instead.\n"
     ]
    },
    {
     "name": "stdout",
     "output_type": "stream",
     "text": [
      "(90, 6)\n",
      "(434, 44) (115680, 9) (90, 6)\n"
     ]
    },
    {
     "name": "stderr",
     "output_type": "stream",
     "text": [
      "C:\\Users\\camil\\Anaconda3\\lib\\site-packages\\sklearn\\metrics\\_classification.py:1221: UndefinedMetricWarning: Precision and F-score are ill-defined and being set to 0.0 in labels with no predicted samples. Use `zero_division` parameter to control this behavior.\n",
      "  _warn_prf(average, modifier, msg_start, len(result))\n",
      "C:\\Users\\camil\\Anaconda3\\lib\\site-packages\\ipykernel_launcher.py:100: FutureWarning: Indexing with multiple keys (implicitly converted to a tuple of keys) will be deprecated, use a list instead.\n"
     ]
    },
    {
     "name": "stdout",
     "output_type": "stream",
     "text": [
      "(90, 6)\n",
      "(382, 44) (113040, 9) (90, 6)\n"
     ]
    },
    {
     "name": "stderr",
     "output_type": "stream",
     "text": [
      "C:\\Users\\camil\\Anaconda3\\lib\\site-packages\\sklearn\\metrics\\_classification.py:1221: UndefinedMetricWarning: Precision and F-score are ill-defined and being set to 0.0 in labels with no predicted samples. Use `zero_division` parameter to control this behavior.\n",
      "  _warn_prf(average, modifier, msg_start, len(result))\n",
      " 86%|███████████████████████████████████████████████████████████████████▌           | 65/76 [2:07:38<21:45, 118.65s/it]C:\\Users\\camil\\Anaconda3\\lib\\site-packages\\ipykernel_launcher.py:100: FutureWarning: Indexing with multiple keys (implicitly converted to a tuple of keys) will be deprecated, use a list instead.\n"
     ]
    },
    {
     "name": "stdout",
     "output_type": "stream",
     "text": [
      "(95, 6)\n",
      "(418, 44) (117600, 9) (95, 6)\n"
     ]
    },
    {
     "name": "stderr",
     "output_type": "stream",
     "text": [
      "C:\\Users\\camil\\Anaconda3\\lib\\site-packages\\sklearn\\metrics\\_classification.py:1221: UndefinedMetricWarning: Precision and F-score are ill-defined and being set to 0.0 in labels with no predicted samples. Use `zero_division` parameter to control this behavior.\n",
      "  _warn_prf(average, modifier, msg_start, len(result))\n",
      "C:\\Users\\camil\\Anaconda3\\lib\\site-packages\\ipykernel_launcher.py:100: FutureWarning: Indexing with multiple keys (implicitly converted to a tuple of keys) will be deprecated, use a list instead.\n"
     ]
    },
    {
     "name": "stdout",
     "output_type": "stream",
     "text": [
      "(95, 6)\n",
      "(369, 44) (114960, 9) (95, 6)\n"
     ]
    },
    {
     "name": "stderr",
     "output_type": "stream",
     "text": [
      "C:\\Users\\camil\\Anaconda3\\lib\\site-packages\\sklearn\\metrics\\_classification.py:1221: UndefinedMetricWarning: Precision and F-score are ill-defined and being set to 0.0 in labels with no predicted samples. Use `zero_division` parameter to control this behavior.\n",
      "  _warn_prf(average, modifier, msg_start, len(result))\n",
      " 87%|████████████████████████████████████████████████████████████████████▌          | 66/76 [2:09:48<20:20, 122.03s/it]C:\\Users\\camil\\Anaconda3\\lib\\site-packages\\ipykernel_launcher.py:100: FutureWarning: Indexing with multiple keys (implicitly converted to a tuple of keys) will be deprecated, use a list instead.\n"
     ]
    },
    {
     "name": "stdout",
     "output_type": "stream",
     "text": [
      "(95, 6)\n",
      "(323, 44) (119100, 9) (95, 6)\n"
     ]
    },
    {
     "name": "stderr",
     "output_type": "stream",
     "text": [
      "C:\\Users\\camil\\Anaconda3\\lib\\site-packages\\sklearn\\metrics\\_classification.py:1221: UndefinedMetricWarning: Precision and F-score are ill-defined and being set to 0.0 in labels with no predicted samples. Use `zero_division` parameter to control this behavior.\n",
      "  _warn_prf(average, modifier, msg_start, len(result))\n",
      "C:\\Users\\camil\\Anaconda3\\lib\\site-packages\\ipykernel_launcher.py:100: FutureWarning: Indexing with multiple keys (implicitly converted to a tuple of keys) will be deprecated, use a list instead.\n"
     ]
    },
    {
     "name": "stdout",
     "output_type": "stream",
     "text": [
      "(95, 6)\n",
      "(461, 44) (116460, 9) (95, 6)\n"
     ]
    },
    {
     "name": "stderr",
     "output_type": "stream",
     "text": [
      "C:\\Users\\camil\\Anaconda3\\lib\\site-packages\\sklearn\\metrics\\_classification.py:1221: UndefinedMetricWarning: Precision and F-score are ill-defined and being set to 0.0 in labels with no predicted samples. Use `zero_division` parameter to control this behavior.\n",
      "  _warn_prf(average, modifier, msg_start, len(result))\n",
      " 88%|█████████████████████████████████████████████████████████████████████▋         | 67/76 [2:11:56<18:34, 123.82s/it]C:\\Users\\camil\\Anaconda3\\lib\\site-packages\\ipykernel_launcher.py:100: FutureWarning: Indexing with multiple keys (implicitly converted to a tuple of keys) will be deprecated, use a list instead.\n"
     ]
    },
    {
     "name": "stdout",
     "output_type": "stream",
     "text": [
      "(95, 6)\n",
      "(417, 44) (127920, 9) (95, 6)\n"
     ]
    },
    {
     "name": "stderr",
     "output_type": "stream",
     "text": [
      "C:\\Users\\camil\\Anaconda3\\lib\\site-packages\\sklearn\\metrics\\_classification.py:1221: UndefinedMetricWarning: Precision and F-score are ill-defined and being set to 0.0 in labels with no predicted samples. Use `zero_division` parameter to control this behavior.\n",
      "  _warn_prf(average, modifier, msg_start, len(result))\n",
      "C:\\Users\\camil\\Anaconda3\\lib\\site-packages\\ipykernel_launcher.py:100: FutureWarning: Indexing with multiple keys (implicitly converted to a tuple of keys) will be deprecated, use a list instead.\n"
     ]
    },
    {
     "name": "stdout",
     "output_type": "stream",
     "text": [
      "(95, 6)\n",
      "(359, 44) (107400, 9) (95, 6)\n"
     ]
    },
    {
     "name": "stderr",
     "output_type": "stream",
     "text": [
      "C:\\Users\\camil\\Anaconda3\\lib\\site-packages\\sklearn\\metrics\\_classification.py:1221: UndefinedMetricWarning: Precision and F-score are ill-defined and being set to 0.0 in labels with no predicted samples. Use `zero_division` parameter to control this behavior.\n",
      "  _warn_prf(average, modifier, msg_start, len(result))\n",
      "C:\\Users\\camil\\Anaconda3\\lib\\site-packages\\pingouin\\parametric.py:978: RuntimeWarning: divide by zero encountered in double_scalars\n",
      "  fval = msbetween / mserror\n",
      "C:\\Users\\camil\\Anaconda3\\lib\\site-packages\\pingouin\\reliability.py:320: RuntimeWarning: divide by zero encountered in double_scalars\n",
      "  f1k = msb / msw\n",
      "C:\\Users\\camil\\Anaconda3\\lib\\site-packages\\pingouin\\reliability.py:325: RuntimeWarning: divide by zero encountered in double_scalars\n",
      "  f2k = f3k = msb / mse\n",
      "C:\\Users\\camil\\Anaconda3\\lib\\site-packages\\pingouin\\reliability.py:349: RuntimeWarning: invalid value encountered in double_scalars\n",
      "  l1 = (f1l - 1) / (f1l + (k - 1))\n",
      "C:\\Users\\camil\\Anaconda3\\lib\\site-packages\\pingouin\\reliability.py:350: RuntimeWarning: invalid value encountered in double_scalars\n",
      "  u1 = (f1u - 1) / (f1u + (k - 1))\n",
      "C:\\Users\\camil\\Anaconda3\\lib\\site-packages\\pingouin\\reliability.py:353: RuntimeWarning: invalid value encountered in double_scalars\n",
      "  l3 = (f3l - 1) / (f3l + (k - 1))\n",
      "C:\\Users\\camil\\Anaconda3\\lib\\site-packages\\pingouin\\reliability.py:354: RuntimeWarning: invalid value encountered in double_scalars\n",
      "  u3 = (f3u - 1) / (f3u + (k - 1))\n",
      "C:\\Users\\camil\\Anaconda3\\lib\\site-packages\\pingouin\\reliability.py:356: RuntimeWarning: invalid value encountered in double_scalars\n",
      "  fj = msj / mse\n",
      " 89%|██████████████████████████████████████████████████████████████████████▋        | 68/76 [2:14:00<16:31, 123.94s/it]C:\\Users\\camil\\Anaconda3\\lib\\site-packages\\ipykernel_launcher.py:100: FutureWarning: Indexing with multiple keys (implicitly converted to a tuple of keys) will be deprecated, use a list instead.\n"
     ]
    },
    {
     "name": "stdout",
     "output_type": "stream",
     "text": [
      "(95, 6)\n",
      "(375, 44) (119700, 9) (95, 6)\n"
     ]
    },
    {
     "name": "stderr",
     "output_type": "stream",
     "text": [
      "C:\\Users\\camil\\Anaconda3\\lib\\site-packages\\sklearn\\metrics\\_classification.py:1221: UndefinedMetricWarning: Precision and F-score are ill-defined and being set to 0.0 in labels with no predicted samples. Use `zero_division` parameter to control this behavior.\n",
      "  _warn_prf(average, modifier, msg_start, len(result))\n",
      "C:\\Users\\camil\\Anaconda3\\lib\\site-packages\\ipykernel_launcher.py:100: FutureWarning: Indexing with multiple keys (implicitly converted to a tuple of keys) will be deprecated, use a list instead.\n"
     ]
    },
    {
     "name": "stdout",
     "output_type": "stream",
     "text": [
      "(95, 6)\n",
      "(400, 44) (111600, 9) (95, 6)\n"
     ]
    },
    {
     "name": "stderr",
     "output_type": "stream",
     "text": [
      "C:\\Users\\camil\\Anaconda3\\lib\\site-packages\\sklearn\\metrics\\_classification.py:1221: UndefinedMetricWarning: Precision and F-score are ill-defined and being set to 0.0 in labels with no predicted samples. Use `zero_division` parameter to control this behavior.\n",
      "  _warn_prf(average, modifier, msg_start, len(result))\n",
      " 91%|███████████████████████████████████████████████████████████████████████▋       | 69/76 [2:16:05<14:30, 124.30s/it]C:\\Users\\camil\\Anaconda3\\lib\\site-packages\\ipykernel_launcher.py:100: FutureWarning: Indexing with multiple keys (implicitly converted to a tuple of keys) will be deprecated, use a list instead.\n"
     ]
    },
    {
     "name": "stdout",
     "output_type": "stream",
     "text": [
      "(95, 6)\n",
      "(393, 44) (120180, 9) (95, 6)\n"
     ]
    },
    {
     "name": "stderr",
     "output_type": "stream",
     "text": [
      "C:\\Users\\camil\\Anaconda3\\lib\\site-packages\\sklearn\\metrics\\_classification.py:1221: UndefinedMetricWarning: Precision and F-score are ill-defined and being set to 0.0 in labels with no predicted samples. Use `zero_division` parameter to control this behavior.\n",
      "  _warn_prf(average, modifier, msg_start, len(result))\n",
      "C:\\Users\\camil\\Anaconda3\\lib\\site-packages\\ipykernel_launcher.py:100: FutureWarning: Indexing with multiple keys (implicitly converted to a tuple of keys) will be deprecated, use a list instead.\n"
     ]
    },
    {
     "name": "stdout",
     "output_type": "stream",
     "text": [
      "(95, 6)\n",
      "(380, 44) (113880, 9) (95, 6)\n"
     ]
    },
    {
     "name": "stderr",
     "output_type": "stream",
     "text": [
      "C:\\Users\\camil\\Anaconda3\\lib\\site-packages\\sklearn\\metrics\\_classification.py:1221: UndefinedMetricWarning: Precision and F-score are ill-defined and being set to 0.0 in labels with no predicted samples. Use `zero_division` parameter to control this behavior.\n",
      "  _warn_prf(average, modifier, msg_start, len(result))\n",
      " 92%|████████████████████████████████████████████████████████████████████████▊      | 70/76 [2:18:14<12:34, 125.76s/it]C:\\Users\\camil\\Anaconda3\\lib\\site-packages\\ipykernel_launcher.py:100: FutureWarning: Indexing with multiple keys (implicitly converted to a tuple of keys) will be deprecated, use a list instead.\n"
     ]
    },
    {
     "name": "stdout",
     "output_type": "stream",
     "text": [
      "(100, 6)\n",
      "(384, 44) (120900, 9) (100, 6)\n"
     ]
    },
    {
     "name": "stderr",
     "output_type": "stream",
     "text": [
      "C:\\Users\\camil\\Anaconda3\\lib\\site-packages\\sklearn\\metrics\\_classification.py:1221: UndefinedMetricWarning: Precision and F-score are ill-defined and being set to 0.0 in labels with no predicted samples. Use `zero_division` parameter to control this behavior.\n",
      "  _warn_prf(average, modifier, msg_start, len(result))\n",
      "C:\\Users\\camil\\Anaconda3\\lib\\site-packages\\ipykernel_launcher.py:100: FutureWarning: Indexing with multiple keys (implicitly converted to a tuple of keys) will be deprecated, use a list instead.\n"
     ]
    },
    {
     "name": "stdout",
     "output_type": "stream",
     "text": [
      "(100, 6)\n",
      "(442, 44) (125040, 9) (100, 6)\n"
     ]
    },
    {
     "name": "stderr",
     "output_type": "stream",
     "text": [
      "C:\\Users\\camil\\Anaconda3\\lib\\site-packages\\sklearn\\metrics\\_classification.py:1221: UndefinedMetricWarning: Precision and F-score are ill-defined and being set to 0.0 in labels with no predicted samples. Use `zero_division` parameter to control this behavior.\n",
      "  _warn_prf(average, modifier, msg_start, len(result))\n",
      " 93%|█████████████████████████████████████████████████████████████████████████▊     | 71/76 [2:20:24<10:35, 127.07s/it]C:\\Users\\camil\\Anaconda3\\lib\\site-packages\\ipykernel_launcher.py:100: FutureWarning: Indexing with multiple keys (implicitly converted to a tuple of keys) will be deprecated, use a list instead.\n"
     ]
    },
    {
     "name": "stdout",
     "output_type": "stream",
     "text": [
      "(100, 6)\n",
      "(452, 44) (119820, 9) (100, 6)\n"
     ]
    },
    {
     "name": "stderr",
     "output_type": "stream",
     "text": [
      "C:\\Users\\camil\\Anaconda3\\lib\\site-packages\\sklearn\\metrics\\_classification.py:1221: UndefinedMetricWarning: Precision and F-score are ill-defined and being set to 0.0 in labels with no predicted samples. Use `zero_division` parameter to control this behavior.\n",
      "  _warn_prf(average, modifier, msg_start, len(result))\n",
      "C:\\Users\\camil\\Anaconda3\\lib\\site-packages\\ipykernel_launcher.py:100: FutureWarning: Indexing with multiple keys (implicitly converted to a tuple of keys) will be deprecated, use a list instead.\n"
     ]
    },
    {
     "name": "stdout",
     "output_type": "stream",
     "text": [
      "(100, 6)\n",
      "(367, 44) (127920, 9) (100, 6)\n"
     ]
    },
    {
     "name": "stderr",
     "output_type": "stream",
     "text": [
      "C:\\Users\\camil\\Anaconda3\\lib\\site-packages\\sklearn\\metrics\\_classification.py:1221: UndefinedMetricWarning: Precision and F-score are ill-defined and being set to 0.0 in labels with no predicted samples. Use `zero_division` parameter to control this behavior.\n",
      "  _warn_prf(average, modifier, msg_start, len(result))\n",
      " 95%|██████████████████████████████████████████████████████████████████████████▊    | 72/76 [2:22:32<08:29, 127.28s/it]C:\\Users\\camil\\Anaconda3\\lib\\site-packages\\ipykernel_launcher.py:100: FutureWarning: Indexing with multiple keys (implicitly converted to a tuple of keys) will be deprecated, use a list instead.\n"
     ]
    },
    {
     "name": "stdout",
     "output_type": "stream",
     "text": [
      "(100, 6)\n",
      "(412, 44) (120480, 9) (100, 6)\n"
     ]
    },
    {
     "name": "stderr",
     "output_type": "stream",
     "text": [
      "C:\\Users\\camil\\Anaconda3\\lib\\site-packages\\sklearn\\metrics\\_classification.py:1221: UndefinedMetricWarning: Precision and F-score are ill-defined and being set to 0.0 in labels with no predicted samples. Use `zero_division` parameter to control this behavior.\n",
      "  _warn_prf(average, modifier, msg_start, len(result))\n",
      "C:\\Users\\camil\\Anaconda3\\lib\\site-packages\\pingouin\\parametric.py:978: RuntimeWarning: divide by zero encountered in double_scalars\n",
      "  fval = msbetween / mserror\n",
      "C:\\Users\\camil\\Anaconda3\\lib\\site-packages\\ipykernel_launcher.py:100: FutureWarning: Indexing with multiple keys (implicitly converted to a tuple of keys) will be deprecated, use a list instead.\n"
     ]
    },
    {
     "name": "stdout",
     "output_type": "stream",
     "text": [
      "(100, 6)\n",
      "(422, 44) (128820, 9) (100, 6)\n"
     ]
    },
    {
     "name": "stderr",
     "output_type": "stream",
     "text": [
      "C:\\Users\\camil\\Anaconda3\\lib\\site-packages\\sklearn\\metrics\\_classification.py:1221: UndefinedMetricWarning: Precision and F-score are ill-defined and being set to 0.0 in labels with no predicted samples. Use `zero_division` parameter to control this behavior.\n",
      "  _warn_prf(average, modifier, msg_start, len(result))\n",
      " 96%|███████████████████████████████████████████████████████████████████████████▉   | 73/76 [2:24:44<06:25, 128.65s/it]C:\\Users\\camil\\Anaconda3\\lib\\site-packages\\ipykernel_launcher.py:100: FutureWarning: Indexing with multiple keys (implicitly converted to a tuple of keys) will be deprecated, use a list instead.\n"
     ]
    },
    {
     "name": "stdout",
     "output_type": "stream",
     "text": [
      "(100, 6)\n",
      "(352, 44) (115980, 9) (100, 6)\n"
     ]
    },
    {
     "name": "stderr",
     "output_type": "stream",
     "text": [
      "C:\\Users\\camil\\Anaconda3\\lib\\site-packages\\sklearn\\metrics\\_classification.py:1221: UndefinedMetricWarning: Precision and F-score are ill-defined and being set to 0.0 in labels with no predicted samples. Use `zero_division` parameter to control this behavior.\n",
      "  _warn_prf(average, modifier, msg_start, len(result))\n",
      "C:\\Users\\camil\\Anaconda3\\lib\\site-packages\\ipykernel_launcher.py:100: FutureWarning: Indexing with multiple keys (implicitly converted to a tuple of keys) will be deprecated, use a list instead.\n"
     ]
    },
    {
     "name": "stdout",
     "output_type": "stream",
     "text": [
      "(100, 6)\n",
      "(480, 44) (129300, 9) (100, 6)\n"
     ]
    },
    {
     "name": "stderr",
     "output_type": "stream",
     "text": [
      "C:\\Users\\camil\\Anaconda3\\lib\\site-packages\\sklearn\\metrics\\_classification.py:1221: UndefinedMetricWarning: Precision and F-score are ill-defined and being set to 0.0 in labels with no predicted samples. Use `zero_division` parameter to control this behavior.\n",
      "  _warn_prf(average, modifier, msg_start, len(result))\n",
      " 97%|████████████████████████████████████████████████████████████████████████████▉  | 74/76 [2:26:55<04:18, 129.34s/it]C:\\Users\\camil\\Anaconda3\\lib\\site-packages\\ipykernel_launcher.py:100: FutureWarning: Indexing with multiple keys (implicitly converted to a tuple of keys) will be deprecated, use a list instead.\n"
     ]
    },
    {
     "name": "stdout",
     "output_type": "stream",
     "text": [
      "(100, 6)\n",
      "(318, 44) (112800, 9) (100, 6)\n"
     ]
    },
    {
     "name": "stderr",
     "output_type": "stream",
     "text": [
      "C:\\Users\\camil\\Anaconda3\\lib\\site-packages\\sklearn\\metrics\\_classification.py:1221: UndefinedMetricWarning: Precision and F-score are ill-defined and being set to 0.0 in labels with no predicted samples. Use `zero_division` parameter to control this behavior.\n",
      "  _warn_prf(average, modifier, msg_start, len(result))\n",
      "C:\\Users\\camil\\Anaconda3\\lib\\site-packages\\ipykernel_launcher.py:100: FutureWarning: Indexing with multiple keys (implicitly converted to a tuple of keys) will be deprecated, use a list instead.\n"
     ]
    },
    {
     "name": "stdout",
     "output_type": "stream",
     "text": [
      "(100, 6)\n",
      "(508, 44) (131220, 9) (100, 6)\n"
     ]
    },
    {
     "name": "stderr",
     "output_type": "stream",
     "text": [
      "C:\\Users\\camil\\Anaconda3\\lib\\site-packages\\sklearn\\metrics\\_classification.py:1221: UndefinedMetricWarning: Precision and F-score are ill-defined and being set to 0.0 in labels with no predicted samples. Use `zero_division` parameter to control this behavior.\n",
      "  _warn_prf(average, modifier, msg_start, len(result))\n",
      " 99%|█████████████████████████████████████████████████████████████████████████████▉ | 75/76 [2:28:59<02:07, 127.68s/it]C:\\Users\\camil\\Anaconda3\\lib\\site-packages\\ipykernel_launcher.py:100: FutureWarning: Indexing with multiple keys (implicitly converted to a tuple of keys) will be deprecated, use a list instead.\n"
     ]
    },
    {
     "name": "stdout",
     "output_type": "stream",
     "text": [
      "(210, 6)\n",
      "(863, 44) (258600, 9) (210, 6)\n"
     ]
    },
    {
     "name": "stderr",
     "output_type": "stream",
     "text": [
      "C:\\Users\\camil\\Anaconda3\\lib\\site-packages\\sklearn\\metrics\\_classification.py:1221: UndefinedMetricWarning: Precision and F-score are ill-defined and being set to 0.0 in labels with no predicted samples. Use `zero_division` parameter to control this behavior.\n",
      "  _warn_prf(average, modifier, msg_start, len(result))\n",
      "C:\\Users\\camil\\Anaconda3\\lib\\site-packages\\pingouin\\parametric.py:978: RuntimeWarning: divide by zero encountered in double_scalars\n",
      "  fval = msbetween / mserror\n",
      "C:\\Users\\camil\\Anaconda3\\lib\\site-packages\\pingouin\\reliability.py:320: RuntimeWarning: divide by zero encountered in double_scalars\n",
      "  f1k = msb / msw\n",
      "C:\\Users\\camil\\Anaconda3\\lib\\site-packages\\pingouin\\reliability.py:325: RuntimeWarning: divide by zero encountered in double_scalars\n",
      "  f2k = f3k = msb / mse\n",
      "C:\\Users\\camil\\Anaconda3\\lib\\site-packages\\pingouin\\reliability.py:349: RuntimeWarning: invalid value encountered in double_scalars\n",
      "  l1 = (f1l - 1) / (f1l + (k - 1))\n",
      "C:\\Users\\camil\\Anaconda3\\lib\\site-packages\\pingouin\\reliability.py:350: RuntimeWarning: invalid value encountered in double_scalars\n",
      "  u1 = (f1u - 1) / (f1u + (k - 1))\n",
      "C:\\Users\\camil\\Anaconda3\\lib\\site-packages\\pingouin\\reliability.py:353: RuntimeWarning: invalid value encountered in double_scalars\n",
      "  l3 = (f3l - 1) / (f3l + (k - 1))\n",
      "C:\\Users\\camil\\Anaconda3\\lib\\site-packages\\pingouin\\reliability.py:354: RuntimeWarning: invalid value encountered in double_scalars\n",
      "  u3 = (f3u - 1) / (f3u + (k - 1))\n",
      "C:\\Users\\camil\\Anaconda3\\lib\\site-packages\\pingouin\\reliability.py:356: RuntimeWarning: invalid value encountered in double_scalars\n",
      "  fj = msj / mse\n",
      "\n",
      "  0%|                                                                                           | 0/42 [00:00<?, ?it/s]\u001b[A\n",
      "  2%|█▉                                                                                 | 1/42 [00:01<01:13,  1.78s/it]\u001b[A\n",
      "  5%|███▉                                                                               | 2/42 [00:03<01:09,  1.75s/it]\u001b[A\n",
      "  7%|█████▉                                                                             | 3/42 [00:05<01:07,  1.74s/it]\u001b[A\n",
      " 10%|███████▉                                                                           | 4/42 [00:06<01:06,  1.74s/it]\u001b[A\n",
      " 12%|█████████▉                                                                         | 5/42 [00:08<01:01,  1.67s/it]\u001b[A\n",
      " 14%|███████████▊                                                                       | 6/42 [00:10<00:59,  1.65s/it]\u001b[A\n",
      " 17%|█████████████▊                                                                     | 7/42 [00:11<00:56,  1.63s/it]\u001b[A\n",
      " 19%|███████████████▊                                                                   | 8/42 [00:13<00:54,  1.59s/it]\u001b[A\n",
      " 21%|█████████████████▊                                                                 | 9/42 [00:14<00:48,  1.46s/it]\u001b[A\n",
      " 24%|███████████████████▌                                                              | 10/42 [00:15<00:44,  1.40s/it]\u001b[A\n",
      " 26%|█████████████████████▍                                                            | 11/42 [00:17<00:47,  1.52s/it]\u001b[A\n",
      " 29%|███████████████████████▍                                                          | 12/42 [00:18<00:46,  1.57s/it]\u001b[A\n",
      " 31%|█████████████████████████▍                                                        | 13/42 [00:20<00:46,  1.61s/it]\u001b[A\n",
      " 33%|███████████████████████████▎                                                      | 14/42 [00:22<00:46,  1.66s/it]\u001b[A\n",
      " 36%|█████████████████████████████▎                                                    | 15/42 [00:24<00:44,  1.66s/it]\u001b[A\n",
      " 38%|███████████████████████████████▏                                                  | 16/42 [00:25<00:42,  1.63s/it]\u001b[A\n",
      " 40%|█████████████████████████████████▏                                                | 17/42 [00:27<00:44,  1.78s/it]\u001b[A\n",
      " 43%|███████████████████████████████████▏                                              | 18/42 [00:29<00:41,  1.74s/it]\u001b[A\n",
      " 45%|█████████████████████████████████████                                             | 19/42 [00:30<00:38,  1.68s/it]\u001b[A\n",
      " 48%|███████████████████████████████████████                                           | 20/42 [00:32<00:37,  1.73s/it]\u001b[A\n",
      " 50%|█████████████████████████████████████████                                         | 21/42 [00:34<00:36,  1.72s/it]\u001b[A\n",
      " 52%|██████████████████████████████████████████▉                                       | 22/42 [00:36<00:34,  1.70s/it]\u001b[A\n",
      " 55%|████████████████████████████████████████████▉                                     | 23/42 [00:37<00:31,  1.66s/it]\u001b[A\n",
      " 57%|██████████████████████████████████████████████▊                                   | 24/42 [00:39<00:29,  1.64s/it]\u001b[A\n",
      " 60%|████████████████████████████████████████████████▊                                 | 25/42 [00:40<00:27,  1.61s/it]\u001b[A\n",
      " 62%|██████████████████████████████████████████████████▊                               | 26/42 [00:42<00:25,  1.60s/it]\u001b[A\n",
      " 64%|████████████████████████████████████████████████████▋                             | 27/42 [00:44<00:24,  1.64s/it]\u001b[A\n",
      " 67%|██████████████████████████████████████████████████████▋                           | 28/42 [00:45<00:22,  1.62s/it]\u001b[A\n",
      " 69%|████████████████████████████████████████████████████████▌                         | 29/42 [00:47<00:21,  1.69s/it]\u001b[A\n",
      " 71%|██████████████████████████████████████████████████████████▌                       | 30/42 [00:49<00:20,  1.71s/it]\u001b[A\n",
      " 74%|████████████████████████████████████████████████████████████▌                     | 31/42 [00:50<00:18,  1.65s/it]\u001b[A\n",
      " 76%|██████████████████████████████████████████████████████████████▍                   | 32/42 [00:52<00:16,  1.67s/it]\u001b[A\n",
      " 79%|████████████████████████████████████████████████████████████████▍                 | 33/42 [00:54<00:15,  1.67s/it]\u001b[A\n",
      " 81%|██████████████████████████████████████████████████████████████████▍               | 34/42 [00:55<00:13,  1.66s/it]\u001b[A\n",
      " 83%|████████████████████████████████████████████████████████████████████▎             | 35/42 [00:57<00:11,  1.63s/it]\u001b[A\n",
      " 86%|██████████████████████████████████████████████████████████████████████▎           | 36/42 [00:59<00:09,  1.66s/it]\u001b[A\n",
      " 88%|████████████████████████████████████████████████████████████████████████▏         | 37/42 [01:00<00:07,  1.57s/it]\u001b[A\n",
      " 90%|██████████████████████████████████████████████████████████████████████████▏       | 38/42 [01:02<00:06,  1.57s/it]\u001b[A\n",
      " 93%|████████████████████████████████████████████████████████████████████████████▏     | 39/42 [01:03<00:04,  1.42s/it]\u001b[A\n",
      " 95%|██████████████████████████████████████████████████████████████████████████████    | 40/42 [01:05<00:03,  1.54s/it]\u001b[A\n",
      " 98%|████████████████████████████████████████████████████████████████████████████████  | 41/42 [01:06<00:01,  1.59s/it]\u001b[A\n",
      "100%|██████████████████████████████████████████████████████████████████████████████████| 42/42 [01:08<00:00,  1.63s/it]\u001b[A\n",
      "100%|███████████████████████████████████████████████████████████████████████████████| 76/76 [2:32:27<00:00, 120.36s/it]"
     ]
    },
    {
     "name": "stdout",
     "output_type": "stream",
     "text": [
      "Total running time: 152.46 mn\n"
     ]
    },
    {
     "name": "stderr",
     "output_type": "stream",
     "text": [
      "\n"
     ]
    },
    {
     "data": {
      "text/html": [
       "<div>\n",
       "<style scoped>\n",
       "    .dataframe tbody tr th:only-of-type {\n",
       "        vertical-align: middle;\n",
       "    }\n",
       "\n",
       "    .dataframe tbody tr th {\n",
       "        vertical-align: top;\n",
       "    }\n",
       "\n",
       "    .dataframe thead th {\n",
       "        text-align: right;\n",
       "    }\n",
       "</style>\n",
       "<table border=\"1\" class=\"dataframe\">\n",
       "  <thead>\n",
       "    <tr style=\"text-align: right;\">\n",
       "      <th></th>\n",
       "      <th>accuracy</th>\n",
       "      <th>ICC</th>\n",
       "      <th>kappa</th>\n",
       "      <th>runID</th>\n",
       "      <th>method</th>\n",
       "      <th>reliability_type</th>\n",
       "    </tr>\n",
       "  </thead>\n",
       "  <tbody>\n",
       "    <tr>\n",
       "      <th>0</th>\n",
       "      <td>1.000000</td>\n",
       "      <td>NaN</td>\n",
       "      <td>1.000000</td>\n",
       "      <td>e9149f78-3582-11eb-8cf1-9822ef705bb4</td>\n",
       "      <td>model_ObservedZone</td>\n",
       "      <td>records-01</td>\n",
       "    </tr>\n",
       "    <tr>\n",
       "      <th>1</th>\n",
       "      <td>0.991597</td>\n",
       "      <td>NaN</td>\n",
       "      <td>0.000000</td>\n",
       "      <td>e9149f78-3582-11eb-8cf1-9822ef705bb4</td>\n",
       "      <td>Zone</td>\n",
       "      <td>records-01</td>\n",
       "    </tr>\n",
       "    <tr>\n",
       "      <th>2</th>\n",
       "      <td>0.991597</td>\n",
       "      <td>NaN</td>\n",
       "      <td>0.985500</td>\n",
       "      <td>e9149f78-3582-11eb-8cf1-9822ef705bb4</td>\n",
       "      <td>Zone</td>\n",
       "      <td>records-zone</td>\n",
       "    </tr>\n",
       "    <tr>\n",
       "      <th>3</th>\n",
       "      <td>1.000000</td>\n",
       "      <td>NaN</td>\n",
       "      <td>1.000000</td>\n",
       "      <td>e9149f78-3582-11eb-8cf1-9822ef705bb4</td>\n",
       "      <td>model_ObservedZone</td>\n",
       "      <td>records-zone</td>\n",
       "    </tr>\n",
       "    <tr>\n",
       "      <th>4</th>\n",
       "      <td>0.996898</td>\n",
       "      <td>NaN</td>\n",
       "      <td>0.995747</td>\n",
       "      <td>e9149f78-3582-11eb-8cf1-9822ef705bb4</td>\n",
       "      <td>Zone</td>\n",
       "      <td>duration_1secTS</td>\n",
       "    </tr>\n",
       "    <tr>\n",
       "      <th>...</th>\n",
       "      <td>...</td>\n",
       "      <td>...</td>\n",
       "      <td>...</td>\n",
       "      <td>...</td>\n",
       "      <td>...</td>\n",
       "      <td>...</td>\n",
       "    </tr>\n",
       "    <tr>\n",
       "      <th>1520</th>\n",
       "      <td>NaN</td>\n",
       "      <td>0.996110</td>\n",
       "      <td>NaN</td>\n",
       "      <td>b9361b02-3597-11eb-8935-9822ef705bb4</td>\n",
       "      <td>model_ObservedZone</td>\n",
       "      <td>transitions_4Zone</td>\n",
       "    </tr>\n",
       "    <tr>\n",
       "      <th>1521</th>\n",
       "      <td>NaN</td>\n",
       "      <td>0.864805</td>\n",
       "      <td>NaN</td>\n",
       "      <td>b9361b02-3597-11eb-8935-9822ef705bb4</td>\n",
       "      <td>binning_zone</td>\n",
       "      <td>transitions_4Zone</td>\n",
       "    </tr>\n",
       "    <tr>\n",
       "      <th>1522</th>\n",
       "      <td>NaN</td>\n",
       "      <td>0.390936</td>\n",
       "      <td>NaN</td>\n",
       "      <td>b9361b02-3597-11eb-8935-9822ef705bb4</td>\n",
       "      <td>Zone</td>\n",
       "      <td>transitions_5Zone</td>\n",
       "    </tr>\n",
       "    <tr>\n",
       "      <th>1523</th>\n",
       "      <td>NaN</td>\n",
       "      <td>1.000000</td>\n",
       "      <td>NaN</td>\n",
       "      <td>b9361b02-3597-11eb-8935-9822ef705bb4</td>\n",
       "      <td>model_ObservedZone</td>\n",
       "      <td>transitions_5Zone</td>\n",
       "    </tr>\n",
       "    <tr>\n",
       "      <th>1524</th>\n",
       "      <td>NaN</td>\n",
       "      <td>0.852099</td>\n",
       "      <td>NaN</td>\n",
       "      <td>b9361b02-3597-11eb-8935-9822ef705bb4</td>\n",
       "      <td>binning_zone</td>\n",
       "      <td>transitions_5Zone</td>\n",
       "    </tr>\n",
       "  </tbody>\n",
       "</table>\n",
       "<p>1525 rows × 6 columns</p>\n",
       "</div>"
      ],
      "text/plain": [
       "      accuracy       ICC     kappa                                 runID  \\\n",
       "0     1.000000       NaN  1.000000  e9149f78-3582-11eb-8cf1-9822ef705bb4   \n",
       "1     0.991597       NaN  0.000000  e9149f78-3582-11eb-8cf1-9822ef705bb4   \n",
       "2     0.991597       NaN  0.985500  e9149f78-3582-11eb-8cf1-9822ef705bb4   \n",
       "3     1.000000       NaN  1.000000  e9149f78-3582-11eb-8cf1-9822ef705bb4   \n",
       "4     0.996898       NaN  0.995747  e9149f78-3582-11eb-8cf1-9822ef705bb4   \n",
       "...        ...       ...       ...                                   ...   \n",
       "1520       NaN  0.996110       NaN  b9361b02-3597-11eb-8935-9822ef705bb4   \n",
       "1521       NaN  0.864805       NaN  b9361b02-3597-11eb-8935-9822ef705bb4   \n",
       "1522       NaN  0.390936       NaN  b9361b02-3597-11eb-8935-9822ef705bb4   \n",
       "1523       NaN  1.000000       NaN  b9361b02-3597-11eb-8935-9822ef705bb4   \n",
       "1524       NaN  0.852099       NaN  b9361b02-3597-11eb-8935-9822ef705bb4   \n",
       "\n",
       "                  method   reliability_type  \n",
       "0     model_ObservedZone         records-01  \n",
       "1                   Zone         records-01  \n",
       "2                   Zone       records-zone  \n",
       "3     model_ObservedZone       records-zone  \n",
       "4                   Zone    duration_1secTS  \n",
       "...                  ...                ...  \n",
       "1520  model_ObservedZone  transitions_4Zone  \n",
       "1521        binning_zone  transitions_4Zone  \n",
       "1522                Zone  transitions_5Zone  \n",
       "1523  model_ObservedZone  transitions_5Zone  \n",
       "1524        binning_zone  transitions_5Zone  \n",
       "\n",
       "[1525 rows x 6 columns]"
      ]
     },
     "execution_count": 53,
     "metadata": {},
     "output_type": "execute_result"
    }
   ],
   "source": [
    "###############################################################################################################################\n",
    "###############################################################################################################################\n",
    "############################################# RUN OVER SEVERAL BATCH COMBINATIONS #############################################\n",
    "###############################################################################################################################\n",
    "###############################################################################################################################\n",
    "\n",
    "#start recording the time it last\n",
    "START_TIME = time.clock()\n",
    "li_df  = []\n",
    "is_done = False\n",
    "for li_batch1, li_batch2 in tqdm.tqdm(li_selected_combination_pairs):\n",
    "    \n",
    "    #select a unique runID per pair of batch combination\n",
    "    runID = uuid.uuid1()\n",
    "    nbr_b = len(li_batch1)\n",
    "    \n",
    "    for i,li_batch in enumerate([li_batch1, li_batch2]):\n",
    "        #dont do the second batch if its the same as the first one, i.e. if its the final output, but print visuals\n",
    "        if (li_batch1==li_batch2) & (is_done==True):\n",
    "            #to sort the yaxis\n",
    "            dico_zone_order = {'1Zone':0,\n",
    "                               '2Zone':1,\n",
    "                               '3Zone':2,\n",
    "                               '4Zone':3,\n",
    "                               '5Zone':4}\n",
    "\n",
    "            #create path where to save if not existing yet\n",
    "            path_ = os.path.join(path_extracted_data_cleaning,'TimeSeriesPlot')\n",
    "            #create a director if not existing\n",
    "            if not os.path.exists(path_):\n",
    "                os.makedirs(path_) \n",
    "\n",
    "            li_ts = ['Zone','model_ObservedZone','ObservedZone','binning_zone']\n",
    "            #for each batch draw 4 timeseries\n",
    "            for BatchID, df_plt in tqdm.tqdm(df_final.groupby(['BatchID'])):\n",
    "                df_plt = df_plt.sort_values(['Timestamp']).copy()\n",
    "                l = len(li_ts) ; c = 1\n",
    "                fig = plt.figure(figsize=(c*5, l*1))\n",
    "                for i,v in enumerate(li_ts):\n",
    "                    df_plt[v] = df_plt[v].map(lambda x: int(dico_zone_order[x]))       \n",
    "                    plt.subplot(l,c,i+1)\n",
    "                    plt.plot(df_plt['Timestamp'].tolist(), df_plt[v].tolist())\n",
    "                    plt.xticks(fontsize=4)\n",
    "                    plt.yticks(fontsize=4)\n",
    "                    plt.title(v+' '+BatchID, size=7)\n",
    "                plt.savefig(os.path.join(path_extracted_data_cleaning, BatchID+'.png'), format='png', bbox_inches='tight', \n",
    "                            dpi=300)\n",
    "                plt.clf()\n",
    "                plt.close(\"all\")                      \n",
    "            \n",
    "            break\n",
    "            \n",
    "        df_testing_ = df_testing[df_testing['BatchID'].isin(li_batch)].copy()\n",
    "        ##########################################################################################################\n",
    "        ########################################### create duration TS ###########################################\n",
    "        ##########################################################################################################\n",
    "        li_df_dur = []\n",
    "        li_col = ['Zone','VideoAnalyse','model_ObservedZone','ObservedZone','PenID','HenID','Timestamp','BatchID']\n",
    "        for BatchID,df_ in df_testing_[li_col].groupby(['BatchID']):\n",
    "            df_ = df_.sort_values('Timestamp',ascending=True)\n",
    "            #select the list of timestamp we want (i.e. at one second level)\n",
    "            mi = min(df_['Timestamp'].tolist())\n",
    "            ma = max(df_['Timestamp'].tolist())\n",
    "            #extend the daterange if the batch is in dico_BatchID_endhour\n",
    "            if BatchID in dico_BatchID_endhour.keys():\n",
    "                ma = dt.datetime(ma.year,ma.month,ma.day,dico_BatchID_endhour[BatchID],0,0)\n",
    "            #print(mi, ma)\n",
    "            Daterange = pd.date_range(start = mi+dt.timedelta(seconds=(60-mi.second)), \n",
    "                                      end = ma-dt.timedelta(seconds=(ma.second+1)), \n",
    "                                      freq = 'S') \n",
    "            #print(Daterange[0:2])\n",
    "            #print(Daterange[-2:])\n",
    "\n",
    "            ################### 1 sec ts: tracking method & model method & true observation\n",
    "            ### extend to 1 seconds level\n",
    "            #add missing seconds (i.e. all seconds that never had a record) and fillnan with last non-nan values by propagating last \n",
    "            # observation forward to next valHenIDmi = min(df_['Timestamp'].tolist())\n",
    "            df_.set_index('Timestamp', inplace=True)\n",
    "            df__ = df_.reindex(Daterange, method='ffill').reset_index()\n",
    "            #display(df__.head(5))\n",
    "            #display(df__.tail(5))\n",
    "            df__.rename(columns={'index':'Timestamp'}, inplace=True)\n",
    "            #display(df__.head(3))\n",
    "            df__.to_csv(os.path.join(path__,'1secTimeSeries'+str(BatchID)+'.csv'), sep=';', index=False)\n",
    "\n",
    "            ################### binning method at 60 sec period\n",
    "            #First take only the wanted timestamps (1 per seconds)\n",
    "            #due to the 60 sec period bining, we need to exclude some of the first and last seconds in order to take into account \n",
    "            #minutes for which we have the full information only\n",
    "            DaterangeBIN = [Daterange[i] for i in range(len(Daterange)) if i%60==0]\n",
    "            #add new timestamp to the initial file\n",
    "            df_date = pd.DataFrame({'New_Timestamp':DaterangeBIN})\n",
    "            df_date['New_Timestamp'] = df_date['New_Timestamp'].map(lambda x: pd.to_datetime(x))\n",
    "            df_bin = pd.merge_asof(df__, df_date, left_on=['Timestamp'], right_on=['New_Timestamp'], direction='forward')\n",
    "\n",
    "            #Then bin the data\n",
    "            h = 'Zone'\n",
    "            df_bin = df_bin[[h,'New_Timestamp']].copy()\n",
    "            df_bin['nbr_sec'] = 1\n",
    "            df_bin = df_bin.groupby(['New_Timestamp',h])['nbr_sec'].sum().reset_index() #sum to count as we have seconds\n",
    "            df_bin = df_bin.groupby(['New_Timestamp'])[h,'nbr_sec'].agg(lambda x: tuple(x)).reset_index()\n",
    "            df_bin['most_frequent_zone'] = df_bin.apply(lambda x: x[h][x['nbr_sec'].index(max(x['nbr_sec']))], axis=1)\n",
    "            df_bin['nbr_duration_per_zone'] = df_bin.apply(lambda x: str({x[h][k]:x['nbr_sec'][k] for k in range(len(x[h]))}), axis=1)\n",
    "            df_bin['nbr_lost_duration_per_zone'] = df_bin['nbr_duration_per_zone'].map(lambda x: str({z:v for z,v in eval(x).items() if \\\n",
    "                                                                               v!=max(eval(x).values())}))\n",
    "            df_bin['nbr_lost_duration'] = df_bin['nbr_lost_duration_per_zone'].map(lambda x: sum(eval(x).values()))\n",
    "            df_bin['perc_lost_duration'] = df_bin['nbr_lost_duration'].map(lambda x: x/60*100)\n",
    "            df_bin['day'] = df_bin['New_Timestamp'].map(lambda x: dt.datetime(x.year,x.month,x.day))\n",
    "            df_bin.to_csv(os.path.join(path__ ,'bining'+str(BatchID)+'.csv'), sep=';', index=False)\n",
    "            #display(df_bin.head(3))    \n",
    "\n",
    "            #extend to 1sec ts\n",
    "            df_bin = df_bin[['most_frequent_zone','New_Timestamp']]\n",
    "            df_bin.set_index('New_Timestamp', inplace=True)\n",
    "            df_bin1sec = df_bin.reindex(Daterange, method='ffill').reset_index()\n",
    "            df_bin1sec.rename(columns={'index':'Timestamp','most_frequent_zone':'binning_zone'}, inplace=True)\n",
    "            df_bin1sec.to_csv(os.path.join(path__,'1secTimeSeries_bining'+str(BatchID)+'.csv'), sep=';', index=False)\n",
    "            #display(df_bin1sec.head(3))\n",
    "\n",
    "            #join with bining\n",
    "            df_final = pd.merge(df__, df_bin1sec, on=['Timestamp'], how='outer')\n",
    "            df_final.to_csv(os.path.join(path__,'1secTimeSeries_ALL_'+str(BatchID)+'.csv'), sep=';', index=False)\n",
    "            li_df_dur.append(df_final)\n",
    "        #concat all final 1sec into one big\n",
    "        df_final = pd.concat(li_df_dur)\n",
    "        df_final.to_csv(os.path.join(path_extracted_data_cleaning,'1secTimeSeries_reliability.csv'), sep=';', index=False)\n",
    "        #display(df_final.head(3))\n",
    "\n",
    "        ##########################################################################################################\n",
    "        ########################################### create duration TS ###########################################\n",
    "        ##########################################################################################################\n",
    "        #in case: total nbr of zone, issue: not enough observatoin for kappa test \n",
    "        #df_transition = df_final.groupby(['BatchID'])[['Zone','model_ObservedZone','ObservedZone',\n",
    "        #                                               'binning_zone']].agg(lambda x: len(list_of_zones(x))-1).reset_index()\n",
    "                \n",
    "        li_df_zone = []\n",
    "        for c in ['Zone','model_ObservedZone','ObservedZone','binning_zone']:\n",
    "            df_transition_ = df_final.groupby(['BatchID'])[c].agg(lambda x: dict(Counter(list_of_zones(x)[1:]))).reset_index()\n",
    "            for z in df_final[c].unique():\n",
    "                df_transition_[z] = df_transition_[c].map(lambda x: x.get(z,0))\n",
    "            df_ = pd.melt(df_transition_, id_vars=['BatchID'], value_vars=df_final[c].unique())\n",
    "            df_.rename(columns={'value':c}, inplace=True)\n",
    "            li_df_zone.append(df_)\n",
    "        df_transition = li_df_zone[0]\n",
    "        for df_ in li_df_zone[1:]:\n",
    "            df_transition = pd.merge(df_, df_transition, on=['BatchID','variable'], how='outer')\n",
    "        print(df_transition.shape)\n",
    "        df_transition.head(3)\n",
    "        #display(df_transition.head(3))\n",
    "        df_transition.to_csv(os.path.join(path_extracted_data_cleaning,'reliability_transition.csv'), sep=';', index=False)\n",
    "        \n",
    "        print(df_testing_.shape, df_final.shape, df_transition.shape)\n",
    "        ##########################################################################################################\n",
    "        ###################################### relevance algo - records 0-1 ######################################\n",
    "        ##########################################################################################################\n",
    "        dico_name = {'tracking_prediction':'Zone','model_prediction':'model_ObservedZone'}\n",
    "        for c in ['model_prediction', 'tracking_prediction']:\n",
    "            li_t = df_testing_['VideoAnalyse'].astype(int).tolist()\n",
    "            li_p = df_testing_[c].astype(int).tolist()\n",
    "            res = classification_report(li_t, li_p, output_dict=True)\n",
    "            dico_ = res_intodico(res)\n",
    "            dico_['method'] = dico_name[c]\n",
    "            dico_['reliability_type'] = 'records-01'\n",
    "            dico_['kappa'] = cohen_kappa_score(li_t, li_p)\n",
    "            dico_['runID'] = runID; dico_['li_batch_selected'] = li_batch; dico_['nbr_batch'] = nbr_b ; dico_['CPairID'] = i\n",
    "            li_df.append(dico_)\n",
    "\n",
    "        ##########################################################################################################\n",
    "        ###################################### relevance algo - records zone #####################################\n",
    "        ##########################################################################################################\n",
    "        for c in ['Zone','model_ObservedZone']:\n",
    "            li_t = df_testing_['ObservedZone'].tolist()\n",
    "            li_p = df_testing_[c].tolist()            \n",
    "            res = classification_report(li_t, li_p, output_dict=True)\n",
    "            dico_ = res_intodico(res)\n",
    "            dico_['method'] = c\n",
    "            dico_['reliability_type'] = 'records-zone'\n",
    "            dico_['kappa'] = cohen_kappa_score(li_t, li_p)\n",
    "            dico_['runID'] = runID; dico_['li_batch_selected'] = li_batch; dico_['nbr_batch'] = nbr_b ; dico_['CPairID'] = i\n",
    "            li_df.append(dico_)\n",
    "\n",
    "        ##########################################################################################################\n",
    "        ############################### relevance behavioural data - duration 1secTS #############################\n",
    "        ##########################################################################################################\n",
    "        for c in ['Zone','model_ObservedZone','binning_zone']:\n",
    "            li_t = df_final['ObservedZone'].tolist()\n",
    "            li_p = df_final[c].tolist()\n",
    "            res = classification_report(li_t, li_p, output_dict=True)\n",
    "            dico_ = res_intodico(res)\n",
    "            dico_['method'] = c\n",
    "            dico_['reliability_type'] = 'duration_1secTS'\n",
    "            dico_['kappa'] = cohen_kappa_score(li_t, li_p)\n",
    "            dico_['runID'] = runID; dico_['li_batch_selected'] = li_batch; dico_['nbr_batch'] = nbr_b ; dico_['CPairID'] = i\n",
    "            li_df.append(dico_)\n",
    "\n",
    "        ##########################################################################################################\n",
    "        ################################## relevance behavioural data - transition ###############################\n",
    "        ##########################################################################################################\n",
    "        #does not make sense to compare per minutes the numebr of transition, as we dont really care if they areshifted by few minutes\n",
    "        #instead we will compare the number of transition per batch \n",
    "        for c in ['Zone', 'model_ObservedZone', 'binning_zone']:\n",
    "            df_ = pd.melt(df_transition.filter(['BatchID','ObservedZone', c],axis=1), id_vars=['BatchID'], \n",
    "                          value_vars=['ObservedZone', c])\n",
    "            #continuous reliability score\n",
    "            df_res = pg.intraclass_corr(data=df_, targets='BatchID', raters='variable', ratings='value')\n",
    "            dico_ = df_res[df_res['Type']=='ICC3'].to_dict(orient='records')[0]\n",
    "            dico_['method'] = c\n",
    "            dico_['reliability_type'] = 'transitions'\n",
    "            dico_['runID'] = runID; dico_['li_batch_selected'] = li_batch; dico_['nbr_batch'] = nbr_b ; dico_['CPairID'] = i\n",
    "            li_df.append(dico_)\n",
    "        #per zone for all the batches only\n",
    "        if li_batch1==li_batch2:\n",
    "            is_done=True\n",
    "            for z,df__ in df_transition.groupby('variable'):\n",
    "                for c in ['Zone', 'model_ObservedZone', 'binning_zone']:\n",
    "                    df_ = pd.melt(df__.filter(['BatchID','ObservedZone', c],axis=1), id_vars=['BatchID'], \n",
    "                                  value_vars=['ObservedZone', c])\n",
    "                    #continuous reliability score\n",
    "                    df_res = pg.intraclass_corr(data=df_, targets='BatchID', raters='variable', ratings='value')\n",
    "                    dico_ = df_res[df_res['Type']=='ICC3'].to_dict(orient='records')[0]\n",
    "                    dico_['method'] = c\n",
    "                    dico_['reliability_type'] = 'transitions_'+z\n",
    "                    dico_['runID'] = runID; dico_['li_batch_selected'] = li_batch; dico_['nbr_batch'] = nbr_b ; dico_['CPairID'] = i\n",
    "                    li_df.append(dico_)            \n",
    "            \n",
    "\n",
    "##########################################################################################################\n",
    "############################################### Save results #############################################\n",
    "##########################################################################################################\n",
    "END_TIME = time.clock()\n",
    "print (\"Total running time: %.2f mn\" %((END_TIME-START_TIME)/60))\n",
    "df_results = pd.DataFrame(li_df)\n",
    "li_var_tr = ['transitions','transitions_1Zone', 'transitions_2Zone', 'transitions_3Zone','transitions_4Zone', \n",
    "             'transitions_5Zone']\n",
    "df_results['accuracy_ICC'] = df_results.apply(lambda x: x['ICC'] if x['reliability_type'] in li_var_tr else x['accuracy'], \n",
    "                                              axis=1)\n",
    "df_results.to_csv(os.path.join(path_extracted_data_cleaning,'reliability_RESULTS_catboost.csv'), sep=';', index=False)\n",
    "df_results[['accuracy','ICC','kappa','runID','method','reliability_type']]"
   ]
  },
  {
   "cell_type": "code",
   "execution_count": 54,
   "metadata": {},
   "outputs": [
    {
     "data": {
      "text/plain": [
       "20    100\n",
       "19    100\n",
       "18    100\n",
       "17    100\n",
       "16    100\n",
       "15    100\n",
       "14    100\n",
       "13    100\n",
       "12    100\n",
       "11    100\n",
       "10    100\n",
       "9     100\n",
       "8     100\n",
       "7     100\n",
       "6     100\n",
       "42     25\n",
       "Name: nbr_batch, dtype: int64"
      ]
     },
     "execution_count": 54,
     "metadata": {},
     "output_type": "execute_result"
    }
   ],
   "source": [
    "df_results['nbr_batch'].value_counts()"
   ]
  },
  {
   "cell_type": "code",
   "execution_count": 84,
   "metadata": {},
   "outputs": [
    {
     "name": "stdout",
     "output_type": "stream",
     "text": [
      "LOOk AT THIS AND VERIFY THE OUTPUT\n"
     ]
    },
    {
     "data": {
      "text/html": [
       "<div>\n",
       "<style scoped>\n",
       "    .dataframe tbody tr th:only-of-type {\n",
       "        vertical-align: middle;\n",
       "    }\n",
       "\n",
       "    .dataframe tbody tr th {\n",
       "        vertical-align: top;\n",
       "    }\n",
       "\n",
       "    .dataframe thead th {\n",
       "        text-align: right;\n",
       "    }\n",
       "</style>\n",
       "<table border=\"1\" class=\"dataframe\">\n",
       "  <thead>\n",
       "    <tr style=\"text-align: right;\">\n",
       "      <th></th>\n",
       "      <th>ICC</th>\n",
       "      <th>F</th>\n",
       "      <th>df1</th>\n",
       "      <th>df2</th>\n",
       "      <th>pval</th>\n",
       "      <th>CI95%</th>\n",
       "    </tr>\n",
       "  </thead>\n",
       "  <tbody>\n",
       "    <tr>\n",
       "      <th>9</th>\n",
       "      <td>0.594937</td>\n",
       "      <td>3.937500e+00</td>\n",
       "      <td>5.0</td>\n",
       "      <td>5.0</td>\n",
       "      <td>0.079405</td>\n",
       "      <td>[-0.29, 0.93]</td>\n",
       "    </tr>\n",
       "    <tr>\n",
       "      <th>17</th>\n",
       "      <td>0.648946</td>\n",
       "      <td>4.697128e+00</td>\n",
       "      <td>5.0</td>\n",
       "      <td>5.0</td>\n",
       "      <td>0.057397</td>\n",
       "      <td>[-0.21, 0.94]</td>\n",
       "    </tr>\n",
       "    <tr>\n",
       "      <th>28</th>\n",
       "      <td>1.000000</td>\n",
       "      <td>-7.206932e+15</td>\n",
       "      <td>5.0</td>\n",
       "      <td>5.0</td>\n",
       "      <td>1.000000</td>\n",
       "      <td>[1.0, 1.0]</td>\n",
       "    </tr>\n",
       "    <tr>\n",
       "      <th>37</th>\n",
       "      <td>0.228330</td>\n",
       "      <td>1.591781e+00</td>\n",
       "      <td>5.0</td>\n",
       "      <td>5.0</td>\n",
       "      <td>0.311200</td>\n",
       "      <td>[-0.64, 0.84]</td>\n",
       "    </tr>\n",
       "    <tr>\n",
       "      <th>69</th>\n",
       "      <td>0.668016</td>\n",
       "      <td>5.024390e+00</td>\n",
       "      <td>5.0</td>\n",
       "      <td>5.0</td>\n",
       "      <td>0.050497</td>\n",
       "      <td>[-0.17, 0.95]</td>\n",
       "    </tr>\n",
       "    <tr>\n",
       "      <th>97</th>\n",
       "      <td>0.587692</td>\n",
       "      <td>3.850746e+00</td>\n",
       "      <td>5.0</td>\n",
       "      <td>5.0</td>\n",
       "      <td>0.082630</td>\n",
       "      <td>[-0.3, 0.93]</td>\n",
       "    </tr>\n",
       "    <tr>\n",
       "      <th>127</th>\n",
       "      <td>-0.550562</td>\n",
       "      <td>2.898551e-01</td>\n",
       "      <td>6.0</td>\n",
       "      <td>6.0</td>\n",
       "      <td>0.921333</td>\n",
       "      <td>[-0.91, 0.26]</td>\n",
       "    </tr>\n",
       "    <tr>\n",
       "      <th>137</th>\n",
       "      <td>0.365217</td>\n",
       "      <td>2.150685e+00</td>\n",
       "      <td>6.0</td>\n",
       "      <td>6.0</td>\n",
       "      <td>0.186837</td>\n",
       "      <td>[-0.46, 0.85]</td>\n",
       "    </tr>\n",
       "    <tr>\n",
       "      <th>157</th>\n",
       "      <td>0.452577</td>\n",
       "      <td>2.653479e+00</td>\n",
       "      <td>6.0</td>\n",
       "      <td>6.0</td>\n",
       "      <td>0.130086</td>\n",
       "      <td>[-0.37, 0.88]</td>\n",
       "    </tr>\n",
       "    <tr>\n",
       "      <th>167</th>\n",
       "      <td>0.201646</td>\n",
       "      <td>1.505155e+00</td>\n",
       "      <td>6.0</td>\n",
       "      <td>6.0</td>\n",
       "      <td>0.316019</td>\n",
       "      <td>[-0.59, 0.8]</td>\n",
       "    </tr>\n",
       "    <tr>\n",
       "      <th>178</th>\n",
       "      <td>1.000000</td>\n",
       "      <td>-5.314248e+15</td>\n",
       "      <td>6.0</td>\n",
       "      <td>6.0</td>\n",
       "      <td>1.000000</td>\n",
       "      <td>[1.0, 1.0]</td>\n",
       "    </tr>\n",
       "    <tr>\n",
       "      <th>188</th>\n",
       "      <td>1.000000</td>\n",
       "      <td>-6.787568e+15</td>\n",
       "      <td>6.0</td>\n",
       "      <td>6.0</td>\n",
       "      <td>1.000000</td>\n",
       "      <td>[1.0, 1.0]</td>\n",
       "    </tr>\n",
       "    <tr>\n",
       "      <th>197</th>\n",
       "      <td>0.520062</td>\n",
       "      <td>3.167203e+00</td>\n",
       "      <td>6.0</td>\n",
       "      <td>6.0</td>\n",
       "      <td>0.093220</td>\n",
       "      <td>[-0.3, 0.9]</td>\n",
       "    </tr>\n",
       "    <tr>\n",
       "      <th>287</th>\n",
       "      <td>0.404614</td>\n",
       "      <td>2.359165e+00</td>\n",
       "      <td>7.0</td>\n",
       "      <td>7.0</td>\n",
       "      <td>0.140030</td>\n",
       "      <td>[-0.36, 0.84]</td>\n",
       "    </tr>\n",
       "    <tr>\n",
       "      <th>338</th>\n",
       "      <td>1.000000</td>\n",
       "      <td>-8.051435e+15</td>\n",
       "      <td>8.0</td>\n",
       "      <td>8.0</td>\n",
       "      <td>1.000000</td>\n",
       "      <td>[1.0, 1.0]</td>\n",
       "    </tr>\n",
       "    <tr>\n",
       "      <th>378</th>\n",
       "      <td>1.000000</td>\n",
       "      <td>-7.193249e+15</td>\n",
       "      <td>8.0</td>\n",
       "      <td>8.0</td>\n",
       "      <td>1.000000</td>\n",
       "      <td>[1.0, 1.0]</td>\n",
       "    </tr>\n",
       "    <tr>\n",
       "      <th>388</th>\n",
       "      <td>1.000000</td>\n",
       "      <td>-7.701468e+15</td>\n",
       "      <td>8.0</td>\n",
       "      <td>8.0</td>\n",
       "      <td>1.000000</td>\n",
       "      <td>[1.0, 1.0]</td>\n",
       "    </tr>\n",
       "    <tr>\n",
       "      <th>428</th>\n",
       "      <td>1.000000</td>\n",
       "      <td>-8.261854e+15</td>\n",
       "      <td>9.0</td>\n",
       "      <td>9.0</td>\n",
       "      <td>1.000000</td>\n",
       "      <td>[1.0, 1.0]</td>\n",
       "    </tr>\n",
       "    <tr>\n",
       "      <th>468</th>\n",
       "      <td>1.000000</td>\n",
       "      <td>-4.109535e+15</td>\n",
       "      <td>9.0</td>\n",
       "      <td>9.0</td>\n",
       "      <td>1.000000</td>\n",
       "      <td>[1.0, 1.0]</td>\n",
       "    </tr>\n",
       "    <tr>\n",
       "      <th>488</th>\n",
       "      <td>1.000000</td>\n",
       "      <td>-5.458363e+15</td>\n",
       "      <td>9.0</td>\n",
       "      <td>9.0</td>\n",
       "      <td>1.000000</td>\n",
       "      <td>[1.0, 1.0]</td>\n",
       "    </tr>\n",
       "    <tr>\n",
       "      <th>568</th>\n",
       "      <td>1.000000</td>\n",
       "      <td>-5.674536e+15</td>\n",
       "      <td>10.0</td>\n",
       "      <td>10.0</td>\n",
       "      <td>1.000000</td>\n",
       "      <td>[1.0, 1.0]</td>\n",
       "    </tr>\n",
       "    <tr>\n",
       "      <th>618</th>\n",
       "      <td>1.000000</td>\n",
       "      <td>-8.487409e+15</td>\n",
       "      <td>11.0</td>\n",
       "      <td>11.0</td>\n",
       "      <td>1.000000</td>\n",
       "      <td>[1.0, 1.0]</td>\n",
       "    </tr>\n",
       "    <tr>\n",
       "      <th>687</th>\n",
       "      <td>0.424840</td>\n",
       "      <td>2.477296e+00</td>\n",
       "      <td>11.0</td>\n",
       "      <td>11.0</td>\n",
       "      <td>0.073939</td>\n",
       "      <td>[-0.17, 0.79]</td>\n",
       "    </tr>\n",
       "    <tr>\n",
       "      <th>818</th>\n",
       "      <td>1.000000</td>\n",
       "      <td>-6.473924e+15</td>\n",
       "      <td>13.0</td>\n",
       "      <td>13.0</td>\n",
       "      <td>1.000000</td>\n",
       "      <td>[1.0, 1.0]</td>\n",
       "    </tr>\n",
       "    <tr>\n",
       "      <th>978</th>\n",
       "      <td>1.000000</td>\n",
       "      <td>-5.695552e+15</td>\n",
       "      <td>14.0</td>\n",
       "      <td>14.0</td>\n",
       "      <td>1.000000</td>\n",
       "      <td>[1.0, 1.0]</td>\n",
       "    </tr>\n",
       "  </tbody>\n",
       "</table>\n",
       "</div>"
      ],
      "text/plain": [
       "          ICC             F   df1   df2      pval          CI95%\n",
       "9    0.594937  3.937500e+00   5.0   5.0  0.079405  [-0.29, 0.93]\n",
       "17   0.648946  4.697128e+00   5.0   5.0  0.057397  [-0.21, 0.94]\n",
       "28   1.000000 -7.206932e+15   5.0   5.0  1.000000     [1.0, 1.0]\n",
       "37   0.228330  1.591781e+00   5.0   5.0  0.311200  [-0.64, 0.84]\n",
       "69   0.668016  5.024390e+00   5.0   5.0  0.050497  [-0.17, 0.95]\n",
       "97   0.587692  3.850746e+00   5.0   5.0  0.082630   [-0.3, 0.93]\n",
       "127 -0.550562  2.898551e-01   6.0   6.0  0.921333  [-0.91, 0.26]\n",
       "137  0.365217  2.150685e+00   6.0   6.0  0.186837  [-0.46, 0.85]\n",
       "157  0.452577  2.653479e+00   6.0   6.0  0.130086  [-0.37, 0.88]\n",
       "167  0.201646  1.505155e+00   6.0   6.0  0.316019   [-0.59, 0.8]\n",
       "178  1.000000 -5.314248e+15   6.0   6.0  1.000000     [1.0, 1.0]\n",
       "188  1.000000 -6.787568e+15   6.0   6.0  1.000000     [1.0, 1.0]\n",
       "197  0.520062  3.167203e+00   6.0   6.0  0.093220    [-0.3, 0.9]\n",
       "287  0.404614  2.359165e+00   7.0   7.0  0.140030  [-0.36, 0.84]\n",
       "338  1.000000 -8.051435e+15   8.0   8.0  1.000000     [1.0, 1.0]\n",
       "378  1.000000 -7.193249e+15   8.0   8.0  1.000000     [1.0, 1.0]\n",
       "388  1.000000 -7.701468e+15   8.0   8.0  1.000000     [1.0, 1.0]\n",
       "428  1.000000 -8.261854e+15   9.0   9.0  1.000000     [1.0, 1.0]\n",
       "468  1.000000 -4.109535e+15   9.0   9.0  1.000000     [1.0, 1.0]\n",
       "488  1.000000 -5.458363e+15   9.0   9.0  1.000000     [1.0, 1.0]\n",
       "568  1.000000 -5.674536e+15  10.0  10.0  1.000000     [1.0, 1.0]\n",
       "618  1.000000 -8.487409e+15  11.0  11.0  1.000000     [1.0, 1.0]\n",
       "687  0.424840  2.477296e+00  11.0  11.0  0.073939  [-0.17, 0.79]\n",
       "818  1.000000 -6.473924e+15  13.0  13.0  1.000000     [1.0, 1.0]\n",
       "978  1.000000 -5.695552e+15  14.0  14.0  1.000000     [1.0, 1.0]"
      ]
     },
     "execution_count": 84,
     "metadata": {},
     "output_type": "execute_result"
    }
   ],
   "source": [
    "print('LOOk AT THIS AND VERIFY THE OUTPUT')\n",
    "df_results[df_results['pval']>0.05][['ICC','F','df1','df2','pval','CI95%']]"
   ]
  },
  {
   "cell_type": "code",
   "execution_count": 85,
   "metadata": {},
   "outputs": [
    {
     "data": {
      "text/html": [
       "<div>\n",
       "<style scoped>\n",
       "    .dataframe tbody tr th:only-of-type {\n",
       "        vertical-align: middle;\n",
       "    }\n",
       "\n",
       "    .dataframe tbody tr th {\n",
       "        vertical-align: top;\n",
       "    }\n",
       "\n",
       "    .dataframe thead th {\n",
       "        text-align: right;\n",
       "    }\n",
       "</style>\n",
       "<table border=\"1\" class=\"dataframe\">\n",
       "  <thead>\n",
       "    <tr style=\"text-align: right;\">\n",
       "      <th></th>\n",
       "      <th>ICC</th>\n",
       "      <th>F</th>\n",
       "      <th>df1</th>\n",
       "      <th>df2</th>\n",
       "      <th>pval</th>\n",
       "      <th>CI95%</th>\n",
       "    </tr>\n",
       "  </thead>\n",
       "  <tbody>\n",
       "    <tr>\n",
       "      <th>9</th>\n",
       "      <td>0.594937</td>\n",
       "      <td>3.937500</td>\n",
       "      <td>5.0</td>\n",
       "      <td>5.0</td>\n",
       "      <td>0.079405</td>\n",
       "      <td>[-0.29, 0.93]</td>\n",
       "    </tr>\n",
       "    <tr>\n",
       "      <th>17</th>\n",
       "      <td>0.648946</td>\n",
       "      <td>4.697128</td>\n",
       "      <td>5.0</td>\n",
       "      <td>5.0</td>\n",
       "      <td>0.057397</td>\n",
       "      <td>[-0.21, 0.94]</td>\n",
       "    </tr>\n",
       "    <tr>\n",
       "      <th>37</th>\n",
       "      <td>0.228330</td>\n",
       "      <td>1.591781</td>\n",
       "      <td>5.0</td>\n",
       "      <td>5.0</td>\n",
       "      <td>0.311200</td>\n",
       "      <td>[-0.64, 0.84]</td>\n",
       "    </tr>\n",
       "    <tr>\n",
       "      <th>69</th>\n",
       "      <td>0.668016</td>\n",
       "      <td>5.024390</td>\n",
       "      <td>5.0</td>\n",
       "      <td>5.0</td>\n",
       "      <td>0.050497</td>\n",
       "      <td>[-0.17, 0.95]</td>\n",
       "    </tr>\n",
       "    <tr>\n",
       "      <th>97</th>\n",
       "      <td>0.587692</td>\n",
       "      <td>3.850746</td>\n",
       "      <td>5.0</td>\n",
       "      <td>5.0</td>\n",
       "      <td>0.082630</td>\n",
       "      <td>[-0.3, 0.93]</td>\n",
       "    </tr>\n",
       "    <tr>\n",
       "      <th>127</th>\n",
       "      <td>-0.550562</td>\n",
       "      <td>0.289855</td>\n",
       "      <td>6.0</td>\n",
       "      <td>6.0</td>\n",
       "      <td>0.921333</td>\n",
       "      <td>[-0.91, 0.26]</td>\n",
       "    </tr>\n",
       "    <tr>\n",
       "      <th>137</th>\n",
       "      <td>0.365217</td>\n",
       "      <td>2.150685</td>\n",
       "      <td>6.0</td>\n",
       "      <td>6.0</td>\n",
       "      <td>0.186837</td>\n",
       "      <td>[-0.46, 0.85]</td>\n",
       "    </tr>\n",
       "    <tr>\n",
       "      <th>157</th>\n",
       "      <td>0.452577</td>\n",
       "      <td>2.653479</td>\n",
       "      <td>6.0</td>\n",
       "      <td>6.0</td>\n",
       "      <td>0.130086</td>\n",
       "      <td>[-0.37, 0.88]</td>\n",
       "    </tr>\n",
       "    <tr>\n",
       "      <th>167</th>\n",
       "      <td>0.201646</td>\n",
       "      <td>1.505155</td>\n",
       "      <td>6.0</td>\n",
       "      <td>6.0</td>\n",
       "      <td>0.316019</td>\n",
       "      <td>[-0.59, 0.8]</td>\n",
       "    </tr>\n",
       "    <tr>\n",
       "      <th>197</th>\n",
       "      <td>0.520062</td>\n",
       "      <td>3.167203</td>\n",
       "      <td>6.0</td>\n",
       "      <td>6.0</td>\n",
       "      <td>0.093220</td>\n",
       "      <td>[-0.3, 0.9]</td>\n",
       "    </tr>\n",
       "    <tr>\n",
       "      <th>287</th>\n",
       "      <td>0.404614</td>\n",
       "      <td>2.359165</td>\n",
       "      <td>7.0</td>\n",
       "      <td>7.0</td>\n",
       "      <td>0.140030</td>\n",
       "      <td>[-0.36, 0.84]</td>\n",
       "    </tr>\n",
       "    <tr>\n",
       "      <th>687</th>\n",
       "      <td>0.424840</td>\n",
       "      <td>2.477296</td>\n",
       "      <td>11.0</td>\n",
       "      <td>11.0</td>\n",
       "      <td>0.073939</td>\n",
       "      <td>[-0.17, 0.79]</td>\n",
       "    </tr>\n",
       "  </tbody>\n",
       "</table>\n",
       "</div>"
      ],
      "text/plain": [
       "          ICC         F   df1   df2      pval          CI95%\n",
       "9    0.594937  3.937500   5.0   5.0  0.079405  [-0.29, 0.93]\n",
       "17   0.648946  4.697128   5.0   5.0  0.057397  [-0.21, 0.94]\n",
       "37   0.228330  1.591781   5.0   5.0  0.311200  [-0.64, 0.84]\n",
       "69   0.668016  5.024390   5.0   5.0  0.050497  [-0.17, 0.95]\n",
       "97   0.587692  3.850746   5.0   5.0  0.082630   [-0.3, 0.93]\n",
       "127 -0.550562  0.289855   6.0   6.0  0.921333  [-0.91, 0.26]\n",
       "137  0.365217  2.150685   6.0   6.0  0.186837  [-0.46, 0.85]\n",
       "157  0.452577  2.653479   6.0   6.0  0.130086  [-0.37, 0.88]\n",
       "167  0.201646  1.505155   6.0   6.0  0.316019   [-0.59, 0.8]\n",
       "197  0.520062  3.167203   6.0   6.0  0.093220    [-0.3, 0.9]\n",
       "287  0.404614  2.359165   7.0   7.0  0.140030  [-0.36, 0.84]\n",
       "687  0.424840  2.477296  11.0  11.0  0.073939  [-0.17, 0.79]"
      ]
     },
     "execution_count": 85,
     "metadata": {},
     "output_type": "execute_result"
    }
   ],
   "source": [
    "df_results[(df_results['pval']>0.05)&(~df_results['dontuse'])][['ICC','F','df1','df2','pval','CI95%']]"
   ]
  },
  {
   "cell_type": "code",
   "execution_count": 93,
   "metadata": {},
   "outputs": [
    {
     "name": "stderr",
     "output_type": "stream",
     "text": [
      "C:\\Users\\camil\\Anaconda3\\lib\\site-packages\\ipykernel_launcher.py:7: FutureWarning: Indexing with multiple keys (implicitly converted to a tuple of keys) will be deprecated, use a list instead.\n",
      "  import sys\n"
     ]
    },
    {
     "data": {
      "image/png": "[encoded data removed]",
      "text/plain": [
       "<Figure size 432x288 with 1 Axes>"
      ]
     },
     "metadata": {
      "needs_background": "light"
     },
     "output_type": "display_data"
    },
    {
     "name": "stderr",
     "output_type": "stream",
     "text": [
      "C:\\Users\\camil\\Anaconda3\\lib\\site-packages\\ipykernel_launcher.py:7: FutureWarning: Indexing with multiple keys (implicitly converted to a tuple of keys) will be deprecated, use a list instead.\n",
      "  import sys\n"
     ]
    },
    {
     "data": {
      "image/png": "[encoded data removed]",
      "text/plain": [
       "<Figure size 432x288 with 1 Axes>"
      ]
     },
     "metadata": {
      "needs_background": "light"
     },
     "output_type": "display_data"
    },
    {
     "name": "stderr",
     "output_type": "stream",
     "text": [
      "C:\\Users\\camil\\Anaconda3\\lib\\site-packages\\ipykernel_launcher.py:7: FutureWarning: Indexing with multiple keys (implicitly converted to a tuple of keys) will be deprecated, use a list instead.\n",
      "  import sys\n"
     ]
    },
    {
     "data": {
      "image/png": "[encoded data removed]",
      "text/plain": [
       "<Figure size 432x288 with 1 Axes>"
      ]
     },
     "metadata": {
      "needs_background": "light"
     },
     "output_type": "display_data"
    },
    {
     "name": "stdout",
     "output_type": "stream",
     "text": [
      "(750, 6)\n"
     ]
    }
   ],
   "source": [
    "#visualize the results\n",
    "li_df = []\n",
    "for m, df_ in df_results[(df_results['nbr_batch']!=len(df_testing['BatchID'].unique()))&\\\n",
    "                        (~df_results['dontuse'])].groupby(['method']):    \n",
    "    #compute difference across the associated batches combination\n",
    "    df_ = df_.filter(['reliability_type','accuracy_ICC','nbr_batch','runID','li_batch_selected'], axis=1)\n",
    "    df_ = df_.groupby(['runID','reliability_type','nbr_batch'])['accuracy_ICC','li_batch_selected'].agg(lambda x: list(x)).reset_index()\n",
    "    df_['accuracy_ICC_diff'] = df_['accuracy_ICC'].map(lambda x: abs(x[0]-x[1])*100 if len(x)==2 else np.nan)\n",
    "    li_df.append(df_)\n",
    "    #display(df_.head(3))\n",
    "    #plot\n",
    "    ax = sns.boxplot(x=\"nbr_batch\", y=\"accuracy_ICC_diff\", hue=\"reliability_type\", data=df_, palette=\"Set3\")\n",
    "    plt.title(m)\n",
    "    plt.xlabel('number of batched in a set')\n",
    "    plt.ylabel('accuarcy/ICC\\'s difference across 2 sets of distinct batches')\n",
    "    plt.savefig(os.path.join(path_extracted_data_cleaning,'ReliabilityStability_'+m+'.png'), bbox_inches='tight')\n",
    "    plt.show()\n",
    "df_acc_diff = pd.concat(li_df)\n",
    "print(df_acc_diff.shape)\n",
    "df_acc_diff.to_csv(os.path.join(path_extracted_data_cleaning,'reliability_RESULTs_acc_difference_catboost.csv'), sep=';', index=False)"
   ]
  },
  {
   "cell_type": "code",
   "execution_count": 86,
   "metadata": {},
   "outputs": [
    {
     "name": "stdout",
     "output_type": "stream",
     "text": [
      "LOOk AT THIS AND VERIFY THE OUTPUT\n"
     ]
    },
    {
     "data": {
      "text/html": [
       "<div>\n",
       "<style scoped>\n",
       "    .dataframe tbody tr th:only-of-type {\n",
       "        vertical-align: middle;\n",
       "    }\n",
       "\n",
       "    .dataframe tbody tr th {\n",
       "        vertical-align: top;\n",
       "    }\n",
       "\n",
       "    .dataframe thead th {\n",
       "        text-align: right;\n",
       "    }\n",
       "</style>\n",
       "<table border=\"1\" class=\"dataframe\">\n",
       "  <thead>\n",
       "    <tr style=\"text-align: right;\">\n",
       "      <th></th>\n",
       "      <th>runID</th>\n",
       "      <th>reliability_type</th>\n",
       "      <th>nbr_batch</th>\n",
       "      <th>accuracy_ICC</th>\n",
       "      <th>li_batch_selected</th>\n",
       "      <th>accuracy_ICC_diff</th>\n",
       "    </tr>\n",
       "  </thead>\n",
       "  <tbody>\n",
       "    <tr>\n",
       "      <th>3</th>\n",
       "      <td>0108a376-3583-11eb-a9e9-9822ef705bb4</td>\n",
       "      <td>transitions</td>\n",
       "      <td>6</td>\n",
       "      <td>[0.9980198019801978, 0.22832980972515834]</td>\n",
       "      <td>[[ID20, ID18, ID6, ID38, ID14, ID4], [ID13, ID...</td>\n",
       "      <td>76.968999</td>\n",
       "    </tr>\n",
       "    <tr>\n",
       "      <th>31</th>\n",
       "      <td>14684e92-3585-11eb-8588-9822ef705bb4</td>\n",
       "      <td>transitions</td>\n",
       "      <td>8</td>\n",
       "      <td>[0.40461401952085213, 0.9746192893401011]</td>\n",
       "      <td>[[ID9, ID27, ID19, ID15, ID37, ID24, ID30, ID4...</td>\n",
       "      <td>57.000527</td>\n",
       "    </tr>\n",
       "    <tr>\n",
       "      <th>39</th>\n",
       "      <td>18bcb864-3584-11eb-bcae-9822ef705bb4</td>\n",
       "      <td>transitions</td>\n",
       "      <td>7</td>\n",
       "      <td>[0.9945848375451272, 0.5200617283950624]</td>\n",
       "      <td>[[ID42, ID35, ID33, ID6, ID25, ID18, ID3], [ID...</td>\n",
       "      <td>47.452311</td>\n",
       "    </tr>\n",
       "    <tr>\n",
       "      <th>55</th>\n",
       "      <td>21673436-3586-11eb-9f3a-9822ef705bb4</td>\n",
       "      <td>transitions</td>\n",
       "      <td>9</td>\n",
       "      <td>[0.9694288012872083, 0.5658914728682171]</td>\n",
       "      <td>[[ID36, ID25, ID9, ID21, ID17, ID15, ID18, ID4...</td>\n",
       "      <td>40.353733</td>\n",
       "    </tr>\n",
       "    <tr>\n",
       "      <th>59</th>\n",
       "      <td>2594d038-358e-11eb-b2a8-9822ef705bb4</td>\n",
       "      <td>transitions</td>\n",
       "      <td>14</td>\n",
       "      <td>[0.984744469870328, 0.6815103040783974]</td>\n",
       "      <td>[[ID34, ID14, ID5, ID33, ID26, ID6, ID13, ID31...</td>\n",
       "      <td>30.323417</td>\n",
       "    </tr>\n",
       "    <tr>\n",
       "      <th>87</th>\n",
       "      <td>47dc906c-3583-11eb-9b1f-9822ef705bb4</td>\n",
       "      <td>transitions</td>\n",
       "      <td>6</td>\n",
       "      <td>[0.8999999999999998, 0.5876923076923073]</td>\n",
       "      <td>[[ID31, ID28, ID12, ID15, ID16, ID40], [ID2, I...</td>\n",
       "      <td>31.230769</td>\n",
       "    </tr>\n",
       "    <tr>\n",
       "      <th>107</th>\n",
       "      <td>5089b290-3589-11eb-b6ec-9822ef705bb4</td>\n",
       "      <td>transitions</td>\n",
       "      <td>12</td>\n",
       "      <td>[0.535357570914902, 0.9245839477564776]</td>\n",
       "      <td>[[ID18, ID23, ID13, ID35, ID6, ID5, ID10, ID30...</td>\n",
       "      <td>38.922638</td>\n",
       "    </tr>\n",
       "    <tr>\n",
       "      <th>131</th>\n",
       "      <td>612d8f0c-3583-11eb-aa30-9822ef705bb4</td>\n",
       "      <td>transitions</td>\n",
       "      <td>7</td>\n",
       "      <td>[0.6484687083888147, 0.9906609195402301]</td>\n",
       "      <td>[[ID39, ID28, ID31, ID19, ID13, ID10, ID27], [...</td>\n",
       "      <td>34.219221</td>\n",
       "    </tr>\n",
       "    <tr>\n",
       "      <th>151</th>\n",
       "      <td>7993de38-358b-11eb-8cf3-9822ef705bb4</td>\n",
       "      <td>transitions</td>\n",
       "      <td>13</td>\n",
       "      <td>[0.8976045091592294, 0.5894773277950845]</td>\n",
       "      <td>[[ID38, ID22, ID29, ID42, ID36, ID23, ID2, ID4...</td>\n",
       "      <td>30.812718</td>\n",
       "    </tr>\n",
       "    <tr>\n",
       "      <th>179</th>\n",
       "      <td>8b519c58-3583-11eb-bb5a-9822ef705bb4</td>\n",
       "      <td>transitions</td>\n",
       "      <td>7</td>\n",
       "      <td>[-0.5505617977528089, 0.36521739130434794]</td>\n",
       "      <td>[[ID25, ID20, ID28, ID38, ID19, ID13, ID41], [...</td>\n",
       "      <td>91.577919</td>\n",
       "    </tr>\n",
       "  </tbody>\n",
       "</table>\n",
       "</div>"
      ],
      "text/plain": [
       "                                    runID reliability_type  nbr_batch  \\\n",
       "3    0108a376-3583-11eb-a9e9-9822ef705bb4      transitions          6   \n",
       "31   14684e92-3585-11eb-8588-9822ef705bb4      transitions          8   \n",
       "39   18bcb864-3584-11eb-bcae-9822ef705bb4      transitions          7   \n",
       "55   21673436-3586-11eb-9f3a-9822ef705bb4      transitions          9   \n",
       "59   2594d038-358e-11eb-b2a8-9822ef705bb4      transitions         14   \n",
       "87   47dc906c-3583-11eb-9b1f-9822ef705bb4      transitions          6   \n",
       "107  5089b290-3589-11eb-b6ec-9822ef705bb4      transitions         12   \n",
       "131  612d8f0c-3583-11eb-aa30-9822ef705bb4      transitions          7   \n",
       "151  7993de38-358b-11eb-8cf3-9822ef705bb4      transitions         13   \n",
       "179  8b519c58-3583-11eb-bb5a-9822ef705bb4      transitions          7   \n",
       "\n",
       "                                   accuracy_ICC  \\\n",
       "3     [0.9980198019801978, 0.22832980972515834]   \n",
       "31    [0.40461401952085213, 0.9746192893401011]   \n",
       "39     [0.9945848375451272, 0.5200617283950624]   \n",
       "55     [0.9694288012872083, 0.5658914728682171]   \n",
       "59      [0.984744469870328, 0.6815103040783974]   \n",
       "87     [0.8999999999999998, 0.5876923076923073]   \n",
       "107     [0.535357570914902, 0.9245839477564776]   \n",
       "131    [0.6484687083888147, 0.9906609195402301]   \n",
       "151    [0.8976045091592294, 0.5894773277950845]   \n",
       "179  [-0.5505617977528089, 0.36521739130434794]   \n",
       "\n",
       "                                     li_batch_selected  accuracy_ICC_diff  \n",
       "3    [[ID20, ID18, ID6, ID38, ID14, ID4], [ID13, ID...          76.968999  \n",
       "31   [[ID9, ID27, ID19, ID15, ID37, ID24, ID30, ID4...          57.000527  \n",
       "39   [[ID42, ID35, ID33, ID6, ID25, ID18, ID3], [ID...          47.452311  \n",
       "55   [[ID36, ID25, ID9, ID21, ID17, ID15, ID18, ID4...          40.353733  \n",
       "59   [[ID34, ID14, ID5, ID33, ID26, ID6, ID13, ID31...          30.323417  \n",
       "87   [[ID31, ID28, ID12, ID15, ID16, ID40], [ID2, I...          31.230769  \n",
       "107  [[ID18, ID23, ID13, ID35, ID6, ID5, ID10, ID30...          38.922638  \n",
       "131  [[ID39, ID28, ID31, ID19, ID13, ID10, ID27], [...          34.219221  \n",
       "151  [[ID38, ID22, ID29, ID42, ID36, ID23, ID2, ID4...          30.812718  \n",
       "179  [[ID25, ID20, ID28, ID38, ID19, ID13, ID41], [...          91.577919  "
      ]
     },
     "metadata": {},
     "output_type": "display_data"
    }
   ],
   "source": [
    "print('LOOk AT THIS AND VERIFY THE OUTPUT')\n",
    "display(df_acc_diff[df_acc_diff['accuracy_ICC_diff']>30].head(10))"
   ]
  },
  {
   "cell_type": "code",
   "execution_count": 87,
   "metadata": {},
   "outputs": [
    {
     "name": "stdout",
     "output_type": "stream",
     "text": [
      "(21, 53)\n"
     ]
    },
    {
     "data": {
      "image/png": "[encoded data removed]",
      "text/plain": [
       "<Figure size 576x432 with 1 Axes>"
      ]
     },
     "metadata": {
      "needs_background": "light"
     },
     "output_type": "display_data"
    }
   ],
   "source": [
    "li_rel_type = ['duration_1secTS', 'transitions','transitions_1Zone', 'transitions_2Zone', 'transitions_3Zone',\n",
    "               'transitions_4Zone', 'transitions_5Zone']\n",
    "df_plt = df_results[(df_results['nbr_batch']==len(df_testing['BatchID'].unique()))&\\\n",
    "                    (df_results['reliability_type'].isin(li_rel_type))&(~df_results['dontuse'])]\n",
    "print(df_plt.shape)\n",
    "#df_plt[['runID','method','accuracy_ICC']]\n",
    "plt.figure(figsize=(8,6))\n",
    "ax = sns.barplot(x=\"reliability_type\", y=\"accuracy_ICC\", hue=\"method\", data=df_plt, palette=\"Set3\")\n",
    "plt.xticks(fontsize=10,rotation=70)\n",
    "plt.ylim(0.2,1)\n",
    "plt.xlabel('type of reliability')\n",
    "plt.ylabel('accuraccy - ICC scores')\n",
    "plt.savefig(os.path.join(path_extracted_data_cleaning,'ReliabilityMethodsComparison_catboost.png'), bbox_inches='tight')"
   ]
  },
  {
   "cell_type": "markdown",
   "metadata": {},
   "source": [
    "df_results[(df_results['runID']=='65999852-3024-11eb-a16f-9822ef705bb4')&\\\n",
    "           (df_results['reliability_type']=='transitions')] #[['accuracy','ICC','accuracy_ICC']]"
   ]
  },
  {
   "cell_type": "markdown",
   "metadata": {},
   "source": [
    "df_results = pd.read_csv(os.path.join(path_extracted_data_cleaning,'reliability_RESULTS.csv'), sep=';')\n",
    "print(df_results.shape)\n",
    "df_results.head(3)"
   ]
  },
  {
   "cell_type": "code",
   "execution_count": 98,
   "metadata": {},
   "outputs": [],
   "source": [
    "#CCC to write my own fct or use R: https://github.com/stylianos-kampakis/supervisedPCA-Python/blob/master/Untitled.py"
   ]
  },
  {
   "cell_type": "code",
   "execution_count": null,
   "metadata": {},
   "outputs": [],
   "source": []
  },
  {
   "cell_type": "code",
   "execution_count": null,
   "metadata": {},
   "outputs": [],
   "source": []
  },
  {
   "cell_type": "code",
   "execution_count": null,
   "metadata": {},
   "outputs": [],
   "source": []
  },
  {
   "cell_type": "code",
   "execution_count": null,
   "metadata": {},
   "outputs": [],
   "source": []
  },
  {
   "cell_type": "code",
   "execution_count": null,
   "metadata": {},
   "outputs": [],
   "source": []
  },
  {
   "cell_type": "code",
   "execution_count": null,
   "metadata": {},
   "outputs": [],
   "source": []
  },
  {
   "cell_type": "code",
   "execution_count": null,
   "metadata": {},
   "outputs": [],
   "source": []
  }
 ],
 "metadata": {
  "kernelspec": {
   "display_name": "Python 3",
   "language": "python",
   "name": "python3"
  },
  "language_info": {
   "codemirror_mode": {
    "name": "ipython",
    "version": 3
   },
   "file_extension": ".py",
   "mimetype": "text/x-python",
   "name": "python",
   "nbconvert_exporter": "python",
   "pygments_lexer": "ipython3",
   "version": "3.6.10"
  }
 },
 "nbformat": 4,
 "nbformat_minor": 2
}
