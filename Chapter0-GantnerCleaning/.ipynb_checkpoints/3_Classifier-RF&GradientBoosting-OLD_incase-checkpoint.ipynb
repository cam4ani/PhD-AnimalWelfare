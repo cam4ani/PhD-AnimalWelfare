{
 "cells": [
  {
   "cell_type": "code",
   "execution_count": 41,
   "metadata": {},
   "outputs": [],
   "source": [
    "#basic package\n",
    "import json\n",
    "import tqdm\n",
    "import os\n",
    "import numpy as np\n",
    "import glob\n",
    "import pandas as pd\n",
    "import sys\n",
    "import shutil\n",
    "import time\n",
    "import datetime as dt\n",
    "import itertools\n",
    "import time\n",
    "import re\n",
    "from collections import Counter\n",
    "from collections import defaultdict\n",
    "import operator\n",
    "import math\n",
    "import functools\n",
    "import collections\n",
    "import random\n",
    "\n",
    "#generate random id\n",
    "import uuid\n",
    "\n",
    "#ICC in python\n",
    "import pingouin as pg\n",
    "\n",
    "#modelling\n",
    "from sklearn.preprocessing import StandardScaler, MinMaxScaler\n",
    "from sklearn.utils import shuffle\n",
    "from sklearn.model_selection import train_test_split\n",
    "from sklearn.ensemble import GradientBoostingClassifier, RandomForestClassifier\n",
    "from xgboost import XGBClassifier\n",
    "from sklearn.neighbors import KNeighborsClassifier\n",
    "from sklearn.model_selection import GridSearchCV, RandomizedSearchCV\n",
    "from sklearn.metrics import classification_report, confusion_matrix, plot_confusion_matrix, cohen_kappa_score\n",
    "from xgboost import plot_importance\n",
    "#catboost, for a better support of categorical data\n",
    "from catboost import CatBoostClassifier, Pool\n",
    "#to use all except one core\n",
    "import multiprocessing\n",
    "\n",
    "#plot\n",
    "import matplotlib.pyplot as plt\n",
    "import seaborn as sns"
   ]
  },
  {
   "cell_type": "code",
   "execution_count": 42,
   "metadata": {},
   "outputs": [],
   "source": [
    "PACKAGE_PARENT = '../'\n",
    "SCRIPT_DIR = os.path.dirname(os.path.realpath(os.path.join(os.getcwd(), os.path.expanduser('__file__'))))\n",
    "sys.path.append(os.path.normpath(os.path.join(SCRIPT_DIR, PACKAGE_PARENT)))\n",
    "from UTILS import is_WG_open, ConfMat, list_of_zones, res_intodico\n",
    "import config_origins as config"
   ]
  },
  {
   "cell_type": "markdown",
   "metadata": {},
   "source": [
    "# Download Input Data"
   ]
  },
  {
   "cell_type": "code",
   "execution_count": 43,
   "metadata": {},
   "outputs": [],
   "source": [
    "#define parameters\n",
    "path_extracted_data = config.path_extracted_data\n",
    "path_initial_data = config.path_initial_data\n",
    "id_run = config.id_run\n",
    "dico_matching = config.dico_matching\n",
    "dico_garden_opening_hour = config.dico_garden_opening_hour\n",
    "path_extracted_data_cleaning = os.path.join(path_extracted_data,'Cleaning')\n",
    "#path_extracted_data_cleaning = r'D:\\vm_exchange\\PhD_Data\\LogsCleaning'\n",
    "#create a director if not existing\n",
    "if not os.path.exists(path_extracted_data_cleaning):\n",
    "    os.makedirs(path_extracted_data_cleaning)\n",
    "    \n",
    "path__ = os.path.join(path_extracted_data_cleaning,'1secTS')\n",
    "#create a director if not existing\n",
    "if not os.path.exists(path__):\n",
    "    os.makedirs(path__)"
   ]
  },
  {
   "cell_type": "code",
   "execution_count": 44,
   "metadata": {},
   "outputs": [
    {
     "name": "stdout",
     "output_type": "stream",
     "text": [
      "(4085, 36)\n"
     ]
    },
    {
     "data": {
      "text/html": [
       "<div>\n",
       "<style scoped>\n",
       "    .dataframe tbody tr th:only-of-type {\n",
       "        vertical-align: middle;\n",
       "    }\n",
       "\n",
       "    .dataframe tbody tr th {\n",
       "        vertical-align: top;\n",
       "    }\n",
       "\n",
       "    .dataframe thead th {\n",
       "        text-align: right;\n",
       "    }\n",
       "</style>\n",
       "<table border=\"1\" class=\"dataframe\">\n",
       "  <thead>\n",
       "    <tr style=\"text-align: right;\">\n",
       "      <th></th>\n",
       "      <th>Timestamp</th>\n",
       "      <th>TagID</th>\n",
       "      <th>HenID</th>\n",
       "      <th>Zone</th>\n",
       "      <th>PenID</th>\n",
       "      <th>VideoAnalyse</th>\n",
       "      <th>system</th>\n",
       "      <th>date</th>\n",
       "      <th>type</th>\n",
       "      <th>signalstrength</th>\n",
       "      <th>...</th>\n",
       "      <th>previousZone==NextZone</th>\n",
       "      <th>nextduration</th>\n",
       "      <th>BatchID</th>\n",
       "      <th>zone2match</th>\n",
       "      <th>zone3match</th>\n",
       "      <th>zone4match</th>\n",
       "      <th>ObservedZone</th>\n",
       "      <th>zone3matchexist</th>\n",
       "      <th>next2zone==Zone</th>\n",
       "      <th>previous2zone==Zone</th>\n",
       "    </tr>\n",
       "  </thead>\n",
       "  <tbody>\n",
       "    <tr>\n",
       "      <th>1092</th>\n",
       "      <td>2020-10-15 13:53:22</td>\n",
       "      <td>83</td>\n",
       "      <td>hen_69</td>\n",
       "      <td>3_Zone</td>\n",
       "      <td>8.0</td>\n",
       "      <td>1</td>\n",
       "      <td>8 - 9</td>\n",
       "      <td>2020-10-15</td>\n",
       "      <td>students</td>\n",
       "      <td>13.0</td>\n",
       "      <td>...</td>\n",
       "      <td>True</td>\n",
       "      <td>560.0</td>\n",
       "      <td>NaN</td>\n",
       "      <td>2_Zone</td>\n",
       "      <td>5_Zone</td>\n",
       "      <td>NoOtherZone</td>\n",
       "      <td>3_Zone</td>\n",
       "      <td>True</td>\n",
       "      <td>False</td>\n",
       "      <td>True</td>\n",
       "    </tr>\n",
       "    <tr>\n",
       "      <th>3198</th>\n",
       "      <td>2020-10-21 13:01:52</td>\n",
       "      <td>47</td>\n",
       "      <td>hen_82</td>\n",
       "      <td>3_Zone</td>\n",
       "      <td>5.0</td>\n",
       "      <td>1</td>\n",
       "      <td>3 - 5</td>\n",
       "      <td>2020-10-21</td>\n",
       "      <td>students</td>\n",
       "      <td>17.0</td>\n",
       "      <td>...</td>\n",
       "      <td>False</td>\n",
       "      <td>96.0</td>\n",
       "      <td>ID19</td>\n",
       "      <td>2_Zone</td>\n",
       "      <td>miniZone3</td>\n",
       "      <td>NoOtherZone</td>\n",
       "      <td>3_Zone</td>\n",
       "      <td>True</td>\n",
       "      <td>True</td>\n",
       "      <td>False</td>\n",
       "    </tr>\n",
       "    <tr>\n",
       "      <th>396</th>\n",
       "      <td>2020-10-17 11:39:42</td>\n",
       "      <td>62</td>\n",
       "      <td>hen_12</td>\n",
       "      <td>5_Zone</td>\n",
       "      <td>5.0</td>\n",
       "      <td>1</td>\n",
       "      <td>3 - 5</td>\n",
       "      <td>2020-10-17</td>\n",
       "      <td>students</td>\n",
       "      <td>9.0</td>\n",
       "      <td>...</td>\n",
       "      <td>True</td>\n",
       "      <td>199.0</td>\n",
       "      <td>NaN</td>\n",
       "      <td>2_Zone</td>\n",
       "      <td>4_Zone</td>\n",
       "      <td>NoOtherZone</td>\n",
       "      <td>5_Zone</td>\n",
       "      <td>True</td>\n",
       "      <td>True</td>\n",
       "      <td>True</td>\n",
       "    </tr>\n",
       "  </tbody>\n",
       "</table>\n",
       "<p>3 rows × 36 columns</p>\n",
       "</div>"
      ],
      "text/plain": [
       "               Timestamp  TagID   HenID    Zone  PenID  VideoAnalyse system  \\\n",
       "1092 2020-10-15 13:53:22     83  hen_69  3_Zone    8.0             1  8 - 9   \n",
       "3198 2020-10-21 13:01:52     47  hen_82  3_Zone    5.0             1  3 - 5   \n",
       "396  2020-10-17 11:39:42     62  hen_12  5_Zone    5.0             1  3 - 5   \n",
       "\n",
       "           date      type  signalstrength  ...  previousZone==NextZone  \\\n",
       "1092 2020-10-15  students            13.0  ...                    True   \n",
       "3198 2020-10-21  students            17.0  ...                   False   \n",
       "396  2020-10-17  students             9.0  ...                    True   \n",
       "\n",
       "      nextduration  BatchID zone2match zone3match   zone4match ObservedZone  \\\n",
       "1092         560.0      NaN     2_Zone     5_Zone  NoOtherZone       3_Zone   \n",
       "3198          96.0     ID19     2_Zone  miniZone3  NoOtherZone       3_Zone   \n",
       "396          199.0      NaN     2_Zone     4_Zone  NoOtherZone       5_Zone   \n",
       "\n",
       "     zone3matchexist next2zone==Zone previous2zone==Zone  \n",
       "1092            True           False                True  \n",
       "3198            True            True               False  \n",
       "396             True            True                True  \n",
       "\n",
       "[3 rows x 36 columns]"
      ]
     },
     "execution_count": 44,
     "metadata": {},
     "output_type": "execute_result"
    }
   ],
   "source": [
    "df = pd.read_csv(os.path.join(path_extracted_data, id_run+'InputCleaning.csv'), parse_dates=['Timestamp', 'date'], \n",
    "                 dayfirst=True, sep=';')\n",
    "df = shuffle(df)\n",
    "df = df.rename(columns={c:c.replace('_','') for c in df.columns})\n",
    "df['HenID'] = df['HenID'].map(lambda x: 'hen_'+str(int(x)))\n",
    "print(df.shape)\n",
    "df.head(3)"
   ]
  },
  {
   "cell_type": "code",
   "execution_count": 45,
   "metadata": {},
   "outputs": [
    {
     "data": {
      "text/plain": [
       "10.0    919\n",
       "8.0     692\n",
       "5.0     642\n",
       "3.0     571\n",
       "4.0     431\n",
       "9.0     429\n",
       "12.0    274\n",
       "11.0    127\n",
       "Name: PenID, dtype: int64"
      ]
     },
     "execution_count": 45,
     "metadata": {},
     "output_type": "execute_result"
    }
   ],
   "source": [
    "df['PenID'].value_counts()"
   ]
  },
  {
   "cell_type": "code",
   "execution_count": 46,
   "metadata": {},
   "outputs": [
    {
     "data": {
      "text/plain": [
       "1    3430\n",
       "0     655\n",
       "Name: VideoAnalyse, dtype: int64"
      ]
     },
     "execution_count": 46,
     "metadata": {},
     "output_type": "execute_result"
    }
   ],
   "source": [
    "df['VideoAnalyse'].value_counts()"
   ]
  },
  {
   "cell_type": "markdown",
   "metadata": {},
   "source": [
    "# Data preprocessing"
   ]
  },
  {
   "cell_type": "code",
   "execution_count": 47,
   "metadata": {},
   "outputs": [],
   "source": [
    "#available features (zone4match is totally point less it ~never exist)\n",
    "licat = ['TagID', 'Zone', 'PenID', 'VideoAnalyse', 'system', 'date',\n",
    "         'zone2match', 'zone3match','zone3matchexist',\n",
    "         'next1zone','next2zone', 'next3zone', 'next4zone', 'next5zone',\n",
    "         'previous1zone', 'previous2zone', 'previous3zone', 'previous4zone','previous5zone']\n",
    "licont = ['signalstrength', 'signalstzone2', 'signalstrzone3', 'signalstrzone4', 'duration','previousduration','nextduration',\n",
    "         'next2zone==Zone','previous2zone==Zone','previousZone==NextZone']\n",
    "\n",
    "#select some features\n",
    "li_cont_select = ['signalstrength', 'signalstzone2','duration','nextduration','previousduration',\n",
    "                 'next2zone==Zone','previous2zone==Zone','zone3matchexist'] \n",
    "li_cat_select = ['Zone','zone2match','previous1zone','next1zone','PenID'] #ADD WHEN WE HAVE DORIS DATA: PenID\n",
    "#zone3match_exist: important for WG cleaning"
   ]
  },
  {
   "cell_type": "code",
   "execution_count": 48,
   "metadata": {},
   "outputs": [
    {
     "data": {
      "text/html": [
       "<div>\n",
       "<style scoped>\n",
       "    .dataframe tbody tr th:only-of-type {\n",
       "        vertical-align: middle;\n",
       "    }\n",
       "\n",
       "    .dataframe tbody tr th {\n",
       "        vertical-align: top;\n",
       "    }\n",
       "\n",
       "    .dataframe thead th {\n",
       "        text-align: right;\n",
       "    }\n",
       "</style>\n",
       "<table border=\"1\" class=\"dataframe\">\n",
       "  <thead>\n",
       "    <tr style=\"text-align: right;\">\n",
       "      <th></th>\n",
       "      <th>signalstrength</th>\n",
       "      <th>signalstzone2</th>\n",
       "      <th>duration</th>\n",
       "      <th>nextduration</th>\n",
       "      <th>previousduration</th>\n",
       "      <th>next2zone==Zone</th>\n",
       "      <th>previous2zone==Zone</th>\n",
       "      <th>zone3matchexist</th>\n",
       "    </tr>\n",
       "  </thead>\n",
       "  <tbody>\n",
       "    <tr>\n",
       "      <th>1092</th>\n",
       "      <td>13.0</td>\n",
       "      <td>12.0</td>\n",
       "      <td>33.0</td>\n",
       "      <td>560.0</td>\n",
       "      <td>41.0</td>\n",
       "      <td>False</td>\n",
       "      <td>True</td>\n",
       "      <td>True</td>\n",
       "    </tr>\n",
       "    <tr>\n",
       "      <th>3198</th>\n",
       "      <td>17.0</td>\n",
       "      <td>11.0</td>\n",
       "      <td>99.0</td>\n",
       "      <td>96.0</td>\n",
       "      <td>2371.0</td>\n",
       "      <td>True</td>\n",
       "      <td>False</td>\n",
       "      <td>True</td>\n",
       "    </tr>\n",
       "    <tr>\n",
       "      <th>396</th>\n",
       "      <td>9.0</td>\n",
       "      <td>5.0</td>\n",
       "      <td>11.0</td>\n",
       "      <td>199.0</td>\n",
       "      <td>47.0</td>\n",
       "      <td>True</td>\n",
       "      <td>True</td>\n",
       "      <td>True</td>\n",
       "    </tr>\n",
       "  </tbody>\n",
       "</table>\n",
       "</div>"
      ],
      "text/plain": [
       "      signalstrength  signalstzone2  duration  nextduration  previousduration  \\\n",
       "1092            13.0           12.0      33.0         560.0              41.0   \n",
       "3198            17.0           11.0      99.0          96.0            2371.0   \n",
       "396              9.0            5.0      11.0         199.0              47.0   \n",
       "\n",
       "      next2zone==Zone  previous2zone==Zone  zone3matchexist  \n",
       "1092            False                 True             True  \n",
       "3198             True                False             True  \n",
       "396              True                 True             True  "
      ]
     },
     "execution_count": 48,
     "metadata": {},
     "output_type": "execute_result"
    }
   ],
   "source": [
    "df[li_cont_select].head(3)"
   ]
  },
  {
   "cell_type": "code",
   "execution_count": 49,
   "metadata": {},
   "outputs": [
    {
     "data": {
      "text/html": [
       "<div>\n",
       "<style scoped>\n",
       "    .dataframe tbody tr th:only-of-type {\n",
       "        vertical-align: middle;\n",
       "    }\n",
       "\n",
       "    .dataframe tbody tr th {\n",
       "        vertical-align: top;\n",
       "    }\n",
       "\n",
       "    .dataframe thead th {\n",
       "        text-align: right;\n",
       "    }\n",
       "</style>\n",
       "<table border=\"1\" class=\"dataframe\">\n",
       "  <thead>\n",
       "    <tr style=\"text-align: right;\">\n",
       "      <th></th>\n",
       "      <th>signalstrength</th>\n",
       "      <th>signalstzone2</th>\n",
       "      <th>duration</th>\n",
       "      <th>nextduration</th>\n",
       "      <th>previousduration</th>\n",
       "      <th>next2zone==Zone</th>\n",
       "      <th>previous2zone==Zone</th>\n",
       "      <th>zone3matchexist</th>\n",
       "    </tr>\n",
       "  </thead>\n",
       "  <tbody>\n",
       "    <tr>\n",
       "      <th>1092</th>\n",
       "      <td>0.484240</td>\n",
       "      <td>1.205217</td>\n",
       "      <td>-0.053867</td>\n",
       "      <td>0.003011</td>\n",
       "      <td>-0.038659</td>\n",
       "      <td>-1.412398</td>\n",
       "      <td>0.705679</td>\n",
       "      <td>0.651412</td>\n",
       "    </tr>\n",
       "    <tr>\n",
       "      <th>3198</th>\n",
       "      <td>1.425752</td>\n",
       "      <td>0.948434</td>\n",
       "      <td>-0.046330</td>\n",
       "      <td>-0.049721</td>\n",
       "      <td>0.099460</td>\n",
       "      <td>0.708016</td>\n",
       "      <td>-1.417075</td>\n",
       "      <td>0.651412</td>\n",
       "    </tr>\n",
       "    <tr>\n",
       "      <th>396</th>\n",
       "      <td>-0.457273</td>\n",
       "      <td>-0.592268</td>\n",
       "      <td>-0.056379</td>\n",
       "      <td>-0.038016</td>\n",
       "      <td>-0.038303</td>\n",
       "      <td>0.708016</td>\n",
       "      <td>0.705679</td>\n",
       "      <td>0.651412</td>\n",
       "    </tr>\n",
       "  </tbody>\n",
       "</table>\n",
       "</div>"
      ],
      "text/plain": [
       "      signalstrength  signalstzone2  duration  nextduration  previousduration  \\\n",
       "1092        0.484240       1.205217 -0.053867      0.003011         -0.038659   \n",
       "3198        1.425752       0.948434 -0.046330     -0.049721          0.099460   \n",
       "396        -0.457273      -0.592268 -0.056379     -0.038016         -0.038303   \n",
       "\n",
       "      next2zone==Zone  previous2zone==Zone  zone3matchexist  \n",
       "1092        -1.412398             0.705679         0.651412  \n",
       "3198         0.708016            -1.417075         0.651412  \n",
       "396          0.708016             0.705679         0.651412  "
      ]
     },
     "execution_count": 49,
     "metadata": {},
     "output_type": "execute_result"
    }
   ],
   "source": [
    "#scaling numercial data: necessary due to duration high values\n",
    "sc = StandardScaler()\n",
    "df[li_cont_select] = sc.fit_transform(df[li_cont_select])\n",
    "df[li_cont_select].head(3)"
   ]
  },
  {
   "cell_type": "markdown",
   "metadata": {},
   "source": [
    "# Split into training-validation and testing (holdout dataset)"
   ]
  },
  {
   "cell_type": "code",
   "execution_count": 50,
   "metadata": {},
   "outputs": [
    {
     "data": {
      "text/html": [
       "<div>\n",
       "<style scoped>\n",
       "    .dataframe tbody tr th:only-of-type {\n",
       "        vertical-align: middle;\n",
       "    }\n",
       "\n",
       "    .dataframe tbody tr th {\n",
       "        vertical-align: top;\n",
       "    }\n",
       "\n",
       "    .dataframe thead th {\n",
       "        text-align: right;\n",
       "    }\n",
       "</style>\n",
       "<table border=\"1\" class=\"dataframe\">\n",
       "  <thead>\n",
       "    <tr style=\"text-align: right;\">\n",
       "      <th></th>\n",
       "      <th>signalstrength</th>\n",
       "      <th>signalstzone2</th>\n",
       "      <th>duration</th>\n",
       "      <th>nextduration</th>\n",
       "      <th>previousduration</th>\n",
       "      <th>next2zone==Zone</th>\n",
       "      <th>previous2zone==Zone</th>\n",
       "      <th>zone3matchexist</th>\n",
       "      <th>Zone</th>\n",
       "      <th>zone2match</th>\n",
       "      <th>previous1zone</th>\n",
       "      <th>next1zone</th>\n",
       "      <th>PenID</th>\n",
       "    </tr>\n",
       "  </thead>\n",
       "  <tbody>\n",
       "    <tr>\n",
       "      <th>1092</th>\n",
       "      <td>0.484240</td>\n",
       "      <td>1.205217</td>\n",
       "      <td>-0.053867</td>\n",
       "      <td>0.003011</td>\n",
       "      <td>-0.038659</td>\n",
       "      <td>-1.412398</td>\n",
       "      <td>0.705679</td>\n",
       "      <td>0.651412</td>\n",
       "      <td>3Zone</td>\n",
       "      <td>2Zone</td>\n",
       "      <td>2Zone</td>\n",
       "      <td>2Zone</td>\n",
       "      <td>8.0</td>\n",
       "    </tr>\n",
       "    <tr>\n",
       "      <th>3198</th>\n",
       "      <td>1.425752</td>\n",
       "      <td>0.948434</td>\n",
       "      <td>-0.046330</td>\n",
       "      <td>-0.049721</td>\n",
       "      <td>0.099460</td>\n",
       "      <td>0.708016</td>\n",
       "      <td>-1.417075</td>\n",
       "      <td>0.651412</td>\n",
       "      <td>3Zone</td>\n",
       "      <td>2Zone</td>\n",
       "      <td>2Zone</td>\n",
       "      <td>3Zone</td>\n",
       "      <td>5.0</td>\n",
       "    </tr>\n",
       "    <tr>\n",
       "      <th>396</th>\n",
       "      <td>-0.457273</td>\n",
       "      <td>-0.592268</td>\n",
       "      <td>-0.056379</td>\n",
       "      <td>-0.038016</td>\n",
       "      <td>-0.038303</td>\n",
       "      <td>0.708016</td>\n",
       "      <td>0.705679</td>\n",
       "      <td>0.651412</td>\n",
       "      <td>5Zone</td>\n",
       "      <td>2Zone</td>\n",
       "      <td>3Zone</td>\n",
       "      <td>3Zone</td>\n",
       "      <td>5.0</td>\n",
       "    </tr>\n",
       "  </tbody>\n",
       "</table>\n",
       "</div>"
      ],
      "text/plain": [
       "      signalstrength  signalstzone2  duration  nextduration  previousduration  \\\n",
       "1092        0.484240       1.205217 -0.053867      0.003011         -0.038659   \n",
       "3198        1.425752       0.948434 -0.046330     -0.049721          0.099460   \n",
       "396        -0.457273      -0.592268 -0.056379     -0.038016         -0.038303   \n",
       "\n",
       "      next2zone==Zone  previous2zone==Zone  zone3matchexist   Zone zone2match  \\\n",
       "1092        -1.412398             0.705679         0.651412  3Zone      2Zone   \n",
       "3198         0.708016            -1.417075         0.651412  3Zone      2Zone   \n",
       "396          0.708016             0.705679         0.651412  5Zone      2Zone   \n",
       "\n",
       "     previous1zone next1zone PenID  \n",
       "1092         2Zone     2Zone   8.0  \n",
       "3198         2Zone     3Zone   5.0  \n",
       "396          3Zone     3Zone   5.0  "
      ]
     },
     "execution_count": 50,
     "metadata": {},
     "output_type": "execute_result"
    }
   ],
   "source": [
    "#necessary in order to later sum categories within the features importances\n",
    "for x in li_cat_select+['ObservedZone']:\n",
    "    df[x] = df[x].map(lambda x: str(x).replace('_',''))\n",
    "df[li_cont_select+li_cat_select].head(3)"
   ]
  },
  {
   "cell_type": "code",
   "execution_count": 51,
   "metadata": {},
   "outputs": [
    {
     "data": {
      "text/html": [
       "<div>\n",
       "<style scoped>\n",
       "    .dataframe tbody tr th:only-of-type {\n",
       "        vertical-align: middle;\n",
       "    }\n",
       "\n",
       "    .dataframe tbody tr th {\n",
       "        vertical-align: top;\n",
       "    }\n",
       "\n",
       "    .dataframe thead th {\n",
       "        text-align: right;\n",
       "    }\n",
       "</style>\n",
       "<table border=\"1\" class=\"dataframe\">\n",
       "  <thead>\n",
       "    <tr style=\"text-align: right;\">\n",
       "      <th></th>\n",
       "      <th>Timestamp</th>\n",
       "      <th>TagID</th>\n",
       "      <th>HenID</th>\n",
       "      <th>Zone</th>\n",
       "      <th>PenID</th>\n",
       "      <th>VideoAnalyse</th>\n",
       "      <th>system</th>\n",
       "      <th>date</th>\n",
       "      <th>type</th>\n",
       "      <th>signalstrength</th>\n",
       "      <th>...</th>\n",
       "      <th>previousZone==NextZone</th>\n",
       "      <th>nextduration</th>\n",
       "      <th>BatchID</th>\n",
       "      <th>zone2match</th>\n",
       "      <th>zone3match</th>\n",
       "      <th>zone4match</th>\n",
       "      <th>ObservedZone</th>\n",
       "      <th>zone3matchexist</th>\n",
       "      <th>next2zone==Zone</th>\n",
       "      <th>previous2zone==Zone</th>\n",
       "    </tr>\n",
       "  </thead>\n",
       "  <tbody>\n",
       "    <tr>\n",
       "      <th>1092</th>\n",
       "      <td>2020-10-15 13:53:22</td>\n",
       "      <td>83</td>\n",
       "      <td>hen_69</td>\n",
       "      <td>3Zone</td>\n",
       "      <td>8.0</td>\n",
       "      <td>1</td>\n",
       "      <td>8 - 9</td>\n",
       "      <td>2020-10-15</td>\n",
       "      <td>students</td>\n",
       "      <td>0.484240</td>\n",
       "      <td>...</td>\n",
       "      <td>True</td>\n",
       "      <td>0.003011</td>\n",
       "      <td>NaN</td>\n",
       "      <td>2Zone</td>\n",
       "      <td>5_Zone</td>\n",
       "      <td>NoOtherZone</td>\n",
       "      <td>3Zone</td>\n",
       "      <td>0.651412</td>\n",
       "      <td>-1.412398</td>\n",
       "      <td>0.705679</td>\n",
       "    </tr>\n",
       "    <tr>\n",
       "      <th>396</th>\n",
       "      <td>2020-10-17 11:39:42</td>\n",
       "      <td>62</td>\n",
       "      <td>hen_12</td>\n",
       "      <td>5Zone</td>\n",
       "      <td>5.0</td>\n",
       "      <td>1</td>\n",
       "      <td>3 - 5</td>\n",
       "      <td>2020-10-17</td>\n",
       "      <td>students</td>\n",
       "      <td>-0.457273</td>\n",
       "      <td>...</td>\n",
       "      <td>True</td>\n",
       "      <td>-0.038016</td>\n",
       "      <td>NaN</td>\n",
       "      <td>2Zone</td>\n",
       "      <td>4_Zone</td>\n",
       "      <td>NoOtherZone</td>\n",
       "      <td>5Zone</td>\n",
       "      <td>0.651412</td>\n",
       "      <td>0.708016</td>\n",
       "      <td>0.705679</td>\n",
       "    </tr>\n",
       "    <tr>\n",
       "      <th>180</th>\n",
       "      <td>2020-10-17 01:48:11</td>\n",
       "      <td>3</td>\n",
       "      <td>hen_104</td>\n",
       "      <td>3Zone</td>\n",
       "      <td>3.0</td>\n",
       "      <td>0</td>\n",
       "      <td>3 - 5</td>\n",
       "      <td>2020-10-17</td>\n",
       "      <td>students</td>\n",
       "      <td>-0.457273</td>\n",
       "      <td>...</td>\n",
       "      <td>True</td>\n",
       "      <td>-0.053585</td>\n",
       "      <td>NaN</td>\n",
       "      <td>2Zone</td>\n",
       "      <td>NoOtherZone</td>\n",
       "      <td>NoOtherZone</td>\n",
       "      <td>5Zone</td>\n",
       "      <td>-1.535127</td>\n",
       "      <td>0.708016</td>\n",
       "      <td>0.705679</td>\n",
       "    </tr>\n",
       "    <tr>\n",
       "      <th>1494</th>\n",
       "      <td>2020-10-16 13:19:13</td>\n",
       "      <td>90</td>\n",
       "      <td>hen_158</td>\n",
       "      <td>2Zone</td>\n",
       "      <td>8.0</td>\n",
       "      <td>1</td>\n",
       "      <td>8 - 9</td>\n",
       "      <td>2020-10-16</td>\n",
       "      <td>students</td>\n",
       "      <td>-1.398786</td>\n",
       "      <td>...</td>\n",
       "      <td>True</td>\n",
       "      <td>-0.004262</td>\n",
       "      <td>NaN</td>\n",
       "      <td>1Zone</td>\n",
       "      <td>NoOtherZone</td>\n",
       "      <td>NoOtherZone</td>\n",
       "      <td>2Zone</td>\n",
       "      <td>-1.535127</td>\n",
       "      <td>0.708016</td>\n",
       "      <td>0.705679</td>\n",
       "    </tr>\n",
       "    <tr>\n",
       "      <th>714</th>\n",
       "      <td>2020-10-15 12:45:49</td>\n",
       "      <td>60</td>\n",
       "      <td>hen_88</td>\n",
       "      <td>3Zone</td>\n",
       "      <td>5.0</td>\n",
       "      <td>0</td>\n",
       "      <td>3 - 5</td>\n",
       "      <td>2020-10-15</td>\n",
       "      <td>students</td>\n",
       "      <td>-0.457273</td>\n",
       "      <td>...</td>\n",
       "      <td>True</td>\n",
       "      <td>-0.056199</td>\n",
       "      <td>NaN</td>\n",
       "      <td>2Zone</td>\n",
       "      <td>NoOtherZone</td>\n",
       "      <td>NoOtherZone</td>\n",
       "      <td>5Zone</td>\n",
       "      <td>-1.535127</td>\n",
       "      <td>0.708016</td>\n",
       "      <td>0.705679</td>\n",
       "    </tr>\n",
       "    <tr>\n",
       "      <th>...</th>\n",
       "      <td>...</td>\n",
       "      <td>...</td>\n",
       "      <td>...</td>\n",
       "      <td>...</td>\n",
       "      <td>...</td>\n",
       "      <td>...</td>\n",
       "      <td>...</td>\n",
       "      <td>...</td>\n",
       "      <td>...</td>\n",
       "      <td>...</td>\n",
       "      <td>...</td>\n",
       "      <td>...</td>\n",
       "      <td>...</td>\n",
       "      <td>...</td>\n",
       "      <td>...</td>\n",
       "      <td>...</td>\n",
       "      <td>...</td>\n",
       "      <td>...</td>\n",
       "      <td>...</td>\n",
       "      <td>...</td>\n",
       "      <td>...</td>\n",
       "    </tr>\n",
       "    <tr>\n",
       "      <th>691</th>\n",
       "      <td>2020-10-15 12:07:34</td>\n",
       "      <td>60</td>\n",
       "      <td>hen_88</td>\n",
       "      <td>4Zone</td>\n",
       "      <td>5.0</td>\n",
       "      <td>1</td>\n",
       "      <td>3 - 5</td>\n",
       "      <td>2020-10-15</td>\n",
       "      <td>students</td>\n",
       "      <td>0.719618</td>\n",
       "      <td>...</td>\n",
       "      <td>True</td>\n",
       "      <td>-0.058586</td>\n",
       "      <td>NaN</td>\n",
       "      <td>3Zone</td>\n",
       "      <td>5_Zone</td>\n",
       "      <td>NoOtherZone</td>\n",
       "      <td>4Zone</td>\n",
       "      <td>0.651412</td>\n",
       "      <td>-1.412398</td>\n",
       "      <td>-1.417075</td>\n",
       "    </tr>\n",
       "    <tr>\n",
       "      <th>661</th>\n",
       "      <td>2020-10-16 12:58:59</td>\n",
       "      <td>77</td>\n",
       "      <td>hen_74</td>\n",
       "      <td>5Zone</td>\n",
       "      <td>8.0</td>\n",
       "      <td>0</td>\n",
       "      <td>8 - 9</td>\n",
       "      <td>2020-10-16</td>\n",
       "      <td>students</td>\n",
       "      <td>-2.104921</td>\n",
       "      <td>...</td>\n",
       "      <td>True</td>\n",
       "      <td>0.114954</td>\n",
       "      <td>NaN</td>\n",
       "      <td>NoOtherZone</td>\n",
       "      <td>NoOtherZone</td>\n",
       "      <td>NoOtherZone</td>\n",
       "      <td>2Zone</td>\n",
       "      <td>-1.535127</td>\n",
       "      <td>-1.412398</td>\n",
       "      <td>-1.417075</td>\n",
       "    </tr>\n",
       "    <tr>\n",
       "      <th>3831</th>\n",
       "      <td>2020-10-25 11:29:05</td>\n",
       "      <td>25</td>\n",
       "      <td>hen_50</td>\n",
       "      <td>3Zone</td>\n",
       "      <td>4.0</td>\n",
       "      <td>1</td>\n",
       "      <td>3 - 5</td>\n",
       "      <td>2020-10-25</td>\n",
       "      <td>students</td>\n",
       "      <td>-1.869543</td>\n",
       "      <td>...</td>\n",
       "      <td>False</td>\n",
       "      <td>-0.051881</td>\n",
       "      <td>NaN</td>\n",
       "      <td>3Zone</td>\n",
       "      <td>4_Zone</td>\n",
       "      <td>NoOtherZone</td>\n",
       "      <td>3Zone</td>\n",
       "      <td>0.651412</td>\n",
       "      <td>0.708016</td>\n",
       "      <td>0.705679</td>\n",
       "    </tr>\n",
       "    <tr>\n",
       "      <th>1617</th>\n",
       "      <td>2020-10-18 15:41:01</td>\n",
       "      <td>90</td>\n",
       "      <td>hen_158</td>\n",
       "      <td>3Zone</td>\n",
       "      <td>8.0</td>\n",
       "      <td>1</td>\n",
       "      <td>8 - 9</td>\n",
       "      <td>2020-10-18</td>\n",
       "      <td>students</td>\n",
       "      <td>0.248861</td>\n",
       "      <td>...</td>\n",
       "      <td>True</td>\n",
       "      <td>-0.049835</td>\n",
       "      <td>NaN</td>\n",
       "      <td>2Zone</td>\n",
       "      <td>5_Zone</td>\n",
       "      <td>NoOtherZone</td>\n",
       "      <td>3Zone</td>\n",
       "      <td>0.651412</td>\n",
       "      <td>-1.412398</td>\n",
       "      <td>-1.417075</td>\n",
       "    </tr>\n",
       "    <tr>\n",
       "      <th>122</th>\n",
       "      <td>2020-10-11 15:09:16</td>\n",
       "      <td>79</td>\n",
       "      <td>hen_77</td>\n",
       "      <td>1Zone</td>\n",
       "      <td>8.0</td>\n",
       "      <td>1</td>\n",
       "      <td>8 - 9</td>\n",
       "      <td>2020-10-11</td>\n",
       "      <td>studentsWGspecific</td>\n",
       "      <td>-0.221895</td>\n",
       "      <td>...</td>\n",
       "      <td>True</td>\n",
       "      <td>0.248376</td>\n",
       "      <td>NaN</td>\n",
       "      <td>2Zone</td>\n",
       "      <td>5_Zone</td>\n",
       "      <td>NoOtherZone</td>\n",
       "      <td>1Zone</td>\n",
       "      <td>0.651412</td>\n",
       "      <td>-1.412398</td>\n",
       "      <td>-1.417075</td>\n",
       "    </tr>\n",
       "  </tbody>\n",
       "</table>\n",
       "<p>3222 rows × 36 columns</p>\n",
       "</div>"
      ],
      "text/plain": [
       "               Timestamp  TagID    HenID   Zone PenID  VideoAnalyse system  \\\n",
       "1092 2020-10-15 13:53:22     83   hen_69  3Zone   8.0             1  8 - 9   \n",
       "396  2020-10-17 11:39:42     62   hen_12  5Zone   5.0             1  3 - 5   \n",
       "180  2020-10-17 01:48:11      3  hen_104  3Zone   3.0             0  3 - 5   \n",
       "1494 2020-10-16 13:19:13     90  hen_158  2Zone   8.0             1  8 - 9   \n",
       "714  2020-10-15 12:45:49     60   hen_88  3Zone   5.0             0  3 - 5   \n",
       "...                  ...    ...      ...    ...   ...           ...    ...   \n",
       "691  2020-10-15 12:07:34     60   hen_88  4Zone   5.0             1  3 - 5   \n",
       "661  2020-10-16 12:58:59     77   hen_74  5Zone   8.0             0  8 - 9   \n",
       "3831 2020-10-25 11:29:05     25   hen_50  3Zone   4.0             1  3 - 5   \n",
       "1617 2020-10-18 15:41:01     90  hen_158  3Zone   8.0             1  8 - 9   \n",
       "122  2020-10-11 15:09:16     79   hen_77  1Zone   8.0             1  8 - 9   \n",
       "\n",
       "           date                type  signalstrength  ...  \\\n",
       "1092 2020-10-15            students        0.484240  ...   \n",
       "396  2020-10-17            students       -0.457273  ...   \n",
       "180  2020-10-17            students       -0.457273  ...   \n",
       "1494 2020-10-16            students       -1.398786  ...   \n",
       "714  2020-10-15            students       -0.457273  ...   \n",
       "...         ...                 ...             ...  ...   \n",
       "691  2020-10-15            students        0.719618  ...   \n",
       "661  2020-10-16            students       -2.104921  ...   \n",
       "3831 2020-10-25            students       -1.869543  ...   \n",
       "1617 2020-10-18            students        0.248861  ...   \n",
       "122  2020-10-11  studentsWGspecific       -0.221895  ...   \n",
       "\n",
       "      previousZone==NextZone  nextduration  BatchID   zone2match   zone3match  \\\n",
       "1092                    True      0.003011      NaN        2Zone       5_Zone   \n",
       "396                     True     -0.038016      NaN        2Zone       4_Zone   \n",
       "180                     True     -0.053585      NaN        2Zone  NoOtherZone   \n",
       "1494                    True     -0.004262      NaN        1Zone  NoOtherZone   \n",
       "714                     True     -0.056199      NaN        2Zone  NoOtherZone   \n",
       "...                      ...           ...      ...          ...          ...   \n",
       "691                     True     -0.058586      NaN        3Zone       5_Zone   \n",
       "661                     True      0.114954      NaN  NoOtherZone  NoOtherZone   \n",
       "3831                   False     -0.051881      NaN        3Zone       4_Zone   \n",
       "1617                    True     -0.049835      NaN        2Zone       5_Zone   \n",
       "122                     True      0.248376      NaN        2Zone       5_Zone   \n",
       "\n",
       "       zone4match ObservedZone zone3matchexist next2zone==Zone  \\\n",
       "1092  NoOtherZone        3Zone        0.651412       -1.412398   \n",
       "396   NoOtherZone        5Zone        0.651412        0.708016   \n",
       "180   NoOtherZone        5Zone       -1.535127        0.708016   \n",
       "1494  NoOtherZone        2Zone       -1.535127        0.708016   \n",
       "714   NoOtherZone        5Zone       -1.535127        0.708016   \n",
       "...           ...          ...             ...             ...   \n",
       "691   NoOtherZone        4Zone        0.651412       -1.412398   \n",
       "661   NoOtherZone        2Zone       -1.535127       -1.412398   \n",
       "3831  NoOtherZone        3Zone        0.651412        0.708016   \n",
       "1617  NoOtherZone        3Zone        0.651412       -1.412398   \n",
       "122   NoOtherZone        1Zone        0.651412       -1.412398   \n",
       "\n",
       "     previous2zone==Zone  \n",
       "1092            0.705679  \n",
       "396             0.705679  \n",
       "180             0.705679  \n",
       "1494            0.705679  \n",
       "714             0.705679  \n",
       "...                  ...  \n",
       "691            -1.417075  \n",
       "661            -1.417075  \n",
       "3831            0.705679  \n",
       "1617           -1.417075  \n",
       "122            -1.417075  \n",
       "\n",
       "[3222 rows x 36 columns]"
      ]
     },
     "execution_count": 51,
     "metadata": {},
     "output_type": "execute_result"
    }
   ],
   "source": [
    "#show rows with at least one nan\n",
    "df[df.isna().any(axis=1)]"
   ]
  },
  {
   "cell_type": "code",
   "execution_count": 52,
   "metadata": {},
   "outputs": [
    {
     "name": "stdout",
     "output_type": "stream",
     "text": [
      "(4085, 36)\n",
      "(4085, 36)\n"
     ]
    }
   ],
   "source": [
    "#exception\n",
    "print(df.shape)\n",
    "df = df[~((df['nextduration'].isnull())&(df['algotype']=='cleaning'))]\n",
    "print(df.shape)"
   ]
  },
  {
   "cell_type": "code",
   "execution_count": 53,
   "metadata": {},
   "outputs": [],
   "source": [
    "df_testing = df[df['algotype']=='verification'].copy()\n",
    "df_cleaning = df[df['algotype']=='cleaning'].copy()"
   ]
  },
  {
   "cell_type": "code",
   "execution_count": 54,
   "metadata": {},
   "outputs": [
    {
     "data": {
      "text/plain": [
       "1    2609\n",
       "0     613\n",
       "Name: VideoAnalyse, dtype: int64"
      ]
     },
     "execution_count": 54,
     "metadata": {},
     "output_type": "execute_result"
    }
   ],
   "source": [
    "df_cleaning['VideoAnalyse'].value_counts()"
   ]
  },
  {
   "cell_type": "code",
   "execution_count": 55,
   "metadata": {},
   "outputs": [
    {
     "data": {
      "text/plain": [
       "1    821\n",
       "0     42\n",
       "Name: VideoAnalyse, dtype: int64"
      ]
     },
     "execution_count": 55,
     "metadata": {},
     "output_type": "execute_result"
    }
   ],
   "source": [
    "df_testing['VideoAnalyse'].value_counts()"
   ]
  },
  {
   "cell_type": "code",
   "execution_count": 56,
   "metadata": {},
   "outputs": [
    {
     "name": "stdout",
     "output_type": "stream",
     "text": [
      "(863, 36) (3222, 36)\n"
     ]
    }
   ],
   "source": [
    "print(df_testing.shape, df_cleaning.shape)"
   ]
  },
  {
   "cell_type": "markdown",
   "metadata": {},
   "source": [
    "# Split into training and validation (for parameter tuning) & dummies"
   ]
  },
  {
   "cell_type": "code",
   "execution_count": 57,
   "metadata": {},
   "outputs": [
    {
     "name": "stdout",
     "output_type": "stream",
     "text": [
      "(3222, 33) (3222, 1)\n",
      "(863, 33) (863,)\n"
     ]
    }
   ],
   "source": [
    "#sklearn: RF and gradientboosting\n",
    "####### train,test dummie #######\n",
    "#transform categorical data into dumies\n",
    "df_cl_d = pd.get_dummies(df_cleaning.filter(li_cont_select+li_cat_select, axis=1), columns=li_cat_select, drop_first=True)\n",
    "df_te_d = pd.get_dummies(df_testing.filter(li_cont_select+li_cat_select, axis=1), columns=li_cat_select, drop_first=True)\n",
    "\n",
    "if len(df_te_d.columns)!=len(df_cl_d.columns):\n",
    "    print('the test set does not have the same amount of features than the cleaning set, certainly due to low amount of data,\\\n",
    "    Please remove some varibles that has missing values in the testing set')\n",
    "    sys.exit()\n",
    "    \n",
    "#split into train, test and put into good format\n",
    "#train\n",
    "X_train = df_cl_d.values\n",
    "y_train = df_cleaning[['VideoAnalyse']].values\n",
    "print(X_train.shape, y_train.shape)\n",
    "\n",
    "#test\n",
    "X_test = df_te_d.values\n",
    "y_test = df_testing[['VideoAnalyse']].values\n",
    "y_test = np.ravel(y_test) #from (x,1) to (x,)\n",
    "print(X_test.shape, y_test.shape)\n",
    "\n",
    "#var name\n",
    "var_name = df_cl_d.columns\n",
    "#split into a validation dataset for first step of parameter tuning (narrow down without over-fitting)\n",
    "val_size = 0.2; rs = 0\n",
    "X_train_tuning, X_val_tuning, y_train_tuning, y_val_tuning = train_test_split(X_train, y_train, \n",
    "                                                                              test_size=val_size, random_state=rs)\n",
    "\n",
    "#small control: show rows with at least one nan\n",
    "if df_cl_d[df_cl_d.isna().any(axis=1)].shape[0]!=0:\n",
    "    print('ERROR: you have nan in your cleaning set')\n",
    "    sys.exit()\n",
    "if df_te_d[df_te_d.isna().any(axis=1)].shape[0]!=0:\n",
    "    print('ERROR: you have nan in your testing set')\n",
    "    sys.exit()"
   ]
  },
  {
   "cell_type": "markdown",
   "metadata": {},
   "source": [
    "# Model"
   ]
  },
  {
   "cell_type": "code",
   "execution_count": 58,
   "metadata": {},
   "outputs": [],
   "source": [
    "li_dico = []"
   ]
  },
  {
   "cell_type": "markdown",
   "metadata": {},
   "source": [
    "### 1 - Random forest & GradientBoostingMachine"
   ]
  },
  {
   "cell_type": "raw",
   "metadata": {},
   "source": [
    "--------- maxdepth\n",
    "=The maximum depth of the tree.\n",
    "if to big: risk of overfitting \n",
    "default=3 in GBM, \n",
    "default = None in RF (i.e. grows until all leaves are pure (i.e. all its data points contain the same label) or nbr sample < min_sample split(default 2), should be smaller for GBM as trees here should be simpler.\n",
    "From plot: RF: 6,7,8,9, GBM:3,4,5\n",
    "--------- n_estimators\n",
    "the more trees you add, the higher the risk of overfitting!! vs RF\n",
    "default=100 in both cases. \n",
    "we may want this to be bigger for RF\n",
    "RF:100-150\n",
    "GBM:100 \n",
    "--------- min_samples_split\n",
    "=min nbr of samples required to split a node\n",
    "default in both case is 2\n",
    "we may want this to be bigger for GBM (simple trees)\n",
    "RF:~5\n",
    "GBM:~10\n",
    "--------- min_samples_leaf\n",
    "=min samples at a leaf node\n",
    "default=1 in both cases\n",
    "we may want this to be bigger for GBM\n",
    "RF:2-3\n",
    "GBM:2-3\n",
    "--------- min_impurity_decrease\n",
    "=A node will be split if this split induces a decrease of the impurity greater than or equal to this value.\n",
    "default=0 in both cases\n",
    "min_impurity_decrease: https://towardsdatascience.com/decision-trees-and-random-forests-74b89a374db. Here is where min_impurity_decrease can help us as well. If the impurity of a split goes up then that would mean we are making a split which is not helping us and is instead over-fitting to the training data.\n",
    "RF:0 to 0.0002\n",
    "GCB:0.0001 to 0.002"
   ]
  },
  {
   "cell_type": "code",
   "execution_count": 18,
   "metadata": {
    "scrolled": true
   },
   "outputs": [
    {
     "name": "stderr",
     "output_type": "stream",
     "text": [
      "  0%|                                                                                           | 0/18 [00:00<?, ?it/s]C:\\Users\\camil\\Anaconda3\\lib\\site-packages\\ipykernel_launcher.py:46: DataConversionWarning: A column-vector y was passed when a 1d array was expected. Please change the shape of y to (n_samples,), for example using ravel().\n",
      "C:\\Users\\camil\\Anaconda3\\lib\\site-packages\\sklearn\\utils\\validation.py:72: DataConversionWarning: A column-vector y was passed when a 1d array was expected. Please change the shape of y to (n_samples, ), for example using ravel().\n",
      "  return f(**kwargs)\n",
      "  6%|████▌                                                                              | 1/18 [00:00<00:06,  2.59it/s]C:\\Users\\camil\\Anaconda3\\lib\\site-packages\\ipykernel_launcher.py:46: DataConversionWarning: A column-vector y was passed when a 1d array was expected. Please change the shape of y to (n_samples,), for example using ravel().\n",
      "C:\\Users\\camil\\Anaconda3\\lib\\site-packages\\sklearn\\utils\\validation.py:72: DataConversionWarning: A column-vector y was passed when a 1d array was expected. Please change the shape of y to (n_samples, ), for example using ravel().\n",
      "  return f(**kwargs)\n",
      " 11%|█████████▏                                                                         | 2/18 [00:00<00:06,  2.41it/s]C:\\Users\\camil\\Anaconda3\\lib\\site-packages\\ipykernel_launcher.py:46: DataConversionWarning: A column-vector y was passed when a 1d array was expected. Please change the shape of y to (n_samples,), for example using ravel().\n",
      "C:\\Users\\camil\\Anaconda3\\lib\\site-packages\\sklearn\\utils\\validation.py:72: DataConversionWarning: A column-vector y was passed when a 1d array was expected. Please change the shape of y to (n_samples, ), for example using ravel().\n",
      "  return f(**kwargs)\n",
      " 17%|█████████████▊                                                                     | 3/18 [00:01<00:06,  2.21it/s]C:\\Users\\camil\\Anaconda3\\lib\\site-packages\\ipykernel_launcher.py:46: DataConversionWarning: A column-vector y was passed when a 1d array was expected. Please change the shape of y to (n_samples,), for example using ravel().\n",
      "C:\\Users\\camil\\Anaconda3\\lib\\site-packages\\sklearn\\utils\\validation.py:72: DataConversionWarning: A column-vector y was passed when a 1d array was expected. Please change the shape of y to (n_samples, ), for example using ravel().\n",
      "  return f(**kwargs)\n",
      " 22%|██████████████████▍                                                                | 4/18 [00:02<00:07,  1.97it/s]C:\\Users\\camil\\Anaconda3\\lib\\site-packages\\ipykernel_launcher.py:46: DataConversionWarning: A column-vector y was passed when a 1d array was expected. Please change the shape of y to (n_samples,), for example using ravel().\n",
      "C:\\Users\\camil\\Anaconda3\\lib\\site-packages\\sklearn\\utils\\validation.py:72: DataConversionWarning: A column-vector y was passed when a 1d array was expected. Please change the shape of y to (n_samples, ), for example using ravel().\n",
      "  return f(**kwargs)\n",
      " 28%|███████████████████████                                                            | 5/18 [00:02<00:07,  1.76it/s]C:\\Users\\camil\\Anaconda3\\lib\\site-packages\\ipykernel_launcher.py:46: DataConversionWarning: A column-vector y was passed when a 1d array was expected. Please change the shape of y to (n_samples,), for example using ravel().\n",
      "C:\\Users\\camil\\Anaconda3\\lib\\site-packages\\sklearn\\utils\\validation.py:72: DataConversionWarning: A column-vector y was passed when a 1d array was expected. Please change the shape of y to (n_samples, ), for example using ravel().\n",
      "  return f(**kwargs)\n",
      " 33%|███████████████████████████▋                                                       | 6/18 [00:03<00:07,  1.51it/s]C:\\Users\\camil\\Anaconda3\\lib\\site-packages\\ipykernel_launcher.py:46: DataConversionWarning: A column-vector y was passed when a 1d array was expected. Please change the shape of y to (n_samples,), for example using ravel().\n",
      "C:\\Users\\camil\\Anaconda3\\lib\\site-packages\\sklearn\\utils\\validation.py:72: DataConversionWarning: A column-vector y was passed when a 1d array was expected. Please change the shape of y to (n_samples, ), for example using ravel().\n",
      "  return f(**kwargs)\n",
      " 39%|████████████████████████████████▎                                                  | 7/18 [00:04<00:08,  1.24it/s]C:\\Users\\camil\\Anaconda3\\lib\\site-packages\\ipykernel_launcher.py:46: DataConversionWarning: A column-vector y was passed when a 1d array was expected. Please change the shape of y to (n_samples,), for example using ravel().\n",
      "C:\\Users\\camil\\Anaconda3\\lib\\site-packages\\sklearn\\utils\\validation.py:72: DataConversionWarning: A column-vector y was passed when a 1d array was expected. Please change the shape of y to (n_samples, ), for example using ravel().\n",
      "  return f(**kwargs)\n",
      " 44%|████████████████████████████████████▉                                              | 8/18 [00:06<00:10,  1.09s/it]C:\\Users\\camil\\Anaconda3\\lib\\site-packages\\ipykernel_launcher.py:46: DataConversionWarning: A column-vector y was passed when a 1d array was expected. Please change the shape of y to (n_samples,), for example using ravel().\n",
      "C:\\Users\\camil\\Anaconda3\\lib\\site-packages\\sklearn\\utils\\validation.py:72: DataConversionWarning: A column-vector y was passed when a 1d array was expected. Please change the shape of y to (n_samples, ), for example using ravel().\n",
      "  return f(**kwargs)\n",
      " 50%|█████████████████████████████████████████▌                                         | 9/18 [00:08<00:12,  1.39s/it]C:\\Users\\camil\\Anaconda3\\lib\\site-packages\\ipykernel_launcher.py:46: DataConversionWarning: A column-vector y was passed when a 1d array was expected. Please change the shape of y to (n_samples,), for example using ravel().\n",
      "C:\\Users\\camil\\Anaconda3\\lib\\site-packages\\sklearn\\utils\\validation.py:72: DataConversionWarning: A column-vector y was passed when a 1d array was expected. Please change the shape of y to (n_samples, ), for example using ravel().\n",
      "  return f(**kwargs)\n",
      " 56%|█████████████████████████████████████████████▌                                    | 10/18 [00:11<00:13,  1.72s/it]C:\\Users\\camil\\Anaconda3\\lib\\site-packages\\ipykernel_launcher.py:46: DataConversionWarning: A column-vector y was passed when a 1d array was expected. Please change the shape of y to (n_samples,), for example using ravel().\n",
      "C:\\Users\\camil\\Anaconda3\\lib\\site-packages\\sklearn\\utils\\validation.py:72: DataConversionWarning: A column-vector y was passed when a 1d array was expected. Please change the shape of y to (n_samples, ), for example using ravel().\n",
      "  return f(**kwargs)\n",
      " 61%|██████████████████████████████████████████████████                                | 11/18 [00:14<00:15,  2.27s/it]C:\\Users\\camil\\Anaconda3\\lib\\site-packages\\ipykernel_launcher.py:46: DataConversionWarning: A column-vector y was passed when a 1d array was expected. Please change the shape of y to (n_samples,), for example using ravel().\n",
      "C:\\Users\\camil\\Anaconda3\\lib\\site-packages\\sklearn\\utils\\validation.py:72: DataConversionWarning: A column-vector y was passed when a 1d array was expected. Please change the shape of y to (n_samples, ), for example using ravel().\n",
      "  return f(**kwargs)\n",
      " 67%|██████████████████████████████████████████████████████▋                           | 12/18 [00:18<00:16,  2.80s/it]C:\\Users\\camil\\Anaconda3\\lib\\site-packages\\ipykernel_launcher.py:46: DataConversionWarning: A column-vector y was passed when a 1d array was expected. Please change the shape of y to (n_samples,), for example using ravel().\n",
      "C:\\Users\\camil\\Anaconda3\\lib\\site-packages\\sklearn\\utils\\validation.py:72: DataConversionWarning: A column-vector y was passed when a 1d array was expected. Please change the shape of y to (n_samples, ), for example using ravel().\n",
      "  return f(**kwargs)\n",
      " 72%|███████████████████████████████████████████████████████████▏                      | 13/18 [00:23<00:17,  3.43s/it]C:\\Users\\camil\\Anaconda3\\lib\\site-packages\\ipykernel_launcher.py:46: DataConversionWarning: A column-vector y was passed when a 1d array was expected. Please change the shape of y to (n_samples,), for example using ravel().\n",
      "C:\\Users\\camil\\Anaconda3\\lib\\site-packages\\sklearn\\utils\\validation.py:72: DataConversionWarning: A column-vector y was passed when a 1d array was expected. Please change the shape of y to (n_samples, ), for example using ravel().\n",
      "  return f(**kwargs)\n"
     ]
    },
    {
     "name": "stderr",
     "output_type": "stream",
     "text": [
      " 78%|███████████████████████████████████████████████████████████████▊                  | 14/18 [00:28<00:15,  3.87s/it]C:\\Users\\camil\\Anaconda3\\lib\\site-packages\\ipykernel_launcher.py:46: DataConversionWarning: A column-vector y was passed when a 1d array was expected. Please change the shape of y to (n_samples,), for example using ravel().\n",
      "C:\\Users\\camil\\Anaconda3\\lib\\site-packages\\sklearn\\utils\\validation.py:72: DataConversionWarning: A column-vector y was passed when a 1d array was expected. Please change the shape of y to (n_samples, ), for example using ravel().\n",
      "  return f(**kwargs)\n",
      " 83%|████████████████████████████████████████████████████████████████████▎             | 15/18 [00:33<00:12,  4.12s/it]C:\\Users\\camil\\Anaconda3\\lib\\site-packages\\ipykernel_launcher.py:46: DataConversionWarning: A column-vector y was passed when a 1d array was expected. Please change the shape of y to (n_samples,), for example using ravel().\n",
      "C:\\Users\\camil\\Anaconda3\\lib\\site-packages\\sklearn\\utils\\validation.py:72: DataConversionWarning: A column-vector y was passed when a 1d array was expected. Please change the shape of y to (n_samples, ), for example using ravel().\n",
      "  return f(**kwargs)\n",
      " 89%|████████████████████████████████████████████████████████████████████████▉         | 16/18 [00:37<00:08,  4.15s/it]C:\\Users\\camil\\Anaconda3\\lib\\site-packages\\ipykernel_launcher.py:46: DataConversionWarning: A column-vector y was passed when a 1d array was expected. Please change the shape of y to (n_samples,), for example using ravel().\n",
      "C:\\Users\\camil\\Anaconda3\\lib\\site-packages\\sklearn\\utils\\validation.py:72: DataConversionWarning: A column-vector y was passed when a 1d array was expected. Please change the shape of y to (n_samples, ), for example using ravel().\n",
      "  return f(**kwargs)\n",
      " 94%|█████████████████████████████████████████████████████████████████████████████▍    | 17/18 [00:40<00:03,  3.97s/it]C:\\Users\\camil\\Anaconda3\\lib\\site-packages\\ipykernel_launcher.py:46: DataConversionWarning: A column-vector y was passed when a 1d array was expected. Please change the shape of y to (n_samples,), for example using ravel().\n",
      "C:\\Users\\camil\\Anaconda3\\lib\\site-packages\\sklearn\\utils\\validation.py:72: DataConversionWarning: A column-vector y was passed when a 1d array was expected. Please change the shape of y to (n_samples, ), for example using ravel().\n",
      "  return f(**kwargs)\n",
      "100%|██████████████████████████████████████████████████████████████████████████████████| 18/18 [00:43<00:00,  2.43s/it]\n"
     ]
    },
    {
     "data": {
      "image/png": "[encoded data removed]",
      "text/plain": [
       "<Figure size 432x288 with 1 Axes>"
      ]
     },
     "metadata": {
      "needs_background": "light"
     },
     "output_type": "display_data"
    },
    {
     "name": "stderr",
     "output_type": "stream",
     "text": [
      "  0%|                                                                                           | 0/13 [00:00<?, ?it/s]C:\\Users\\camil\\Anaconda3\\lib\\site-packages\\ipykernel_launcher.py:46: DataConversionWarning: A column-vector y was passed when a 1d array was expected. Please change the shape of y to (n_samples,), for example using ravel().\n",
      "C:\\Users\\camil\\Anaconda3\\lib\\site-packages\\sklearn\\utils\\validation.py:72: DataConversionWarning: A column-vector y was passed when a 1d array was expected. Please change the shape of y to (n_samples, ), for example using ravel().\n",
      "  return f(**kwargs)\n",
      "  8%|██████▍                                                                            | 1/13 [00:00<00:03,  3.16it/s]C:\\Users\\camil\\Anaconda3\\lib\\site-packages\\ipykernel_launcher.py:46: DataConversionWarning: A column-vector y was passed when a 1d array was expected. Please change the shape of y to (n_samples,), for example using ravel().\n",
      "C:\\Users\\camil\\Anaconda3\\lib\\site-packages\\sklearn\\utils\\validation.py:72: DataConversionWarning: A column-vector y was passed when a 1d array was expected. Please change the shape of y to (n_samples, ), for example using ravel().\n",
      "  return f(**kwargs)\n",
      " 15%|████████████▊                                                                      | 2/13 [00:00<00:03,  2.79it/s]C:\\Users\\camil\\Anaconda3\\lib\\site-packages\\ipykernel_launcher.py:46: DataConversionWarning: A column-vector y was passed when a 1d array was expected. Please change the shape of y to (n_samples,), for example using ravel().\n",
      "C:\\Users\\camil\\Anaconda3\\lib\\site-packages\\sklearn\\utils\\validation.py:72: DataConversionWarning: A column-vector y was passed when a 1d array was expected. Please change the shape of y to (n_samples, ), for example using ravel().\n",
      "  return f(**kwargs)\n",
      " 23%|███████████████████▏                                                               | 3/13 [00:01<00:04,  2.32it/s]C:\\Users\\camil\\Anaconda3\\lib\\site-packages\\ipykernel_launcher.py:46: DataConversionWarning: A column-vector y was passed when a 1d array was expected. Please change the shape of y to (n_samples,), for example using ravel().\n",
      "C:\\Users\\camil\\Anaconda3\\lib\\site-packages\\sklearn\\utils\\validation.py:72: DataConversionWarning: A column-vector y was passed when a 1d array was expected. Please change the shape of y to (n_samples, ), for example using ravel().\n",
      "  return f(**kwargs)\n",
      " 31%|█████████████████████████▌                                                         | 4/13 [00:01<00:04,  2.05it/s]C:\\Users\\camil\\Anaconda3\\lib\\site-packages\\ipykernel_launcher.py:46: DataConversionWarning: A column-vector y was passed when a 1d array was expected. Please change the shape of y to (n_samples,), for example using ravel().\n",
      "C:\\Users\\camil\\Anaconda3\\lib\\site-packages\\sklearn\\utils\\validation.py:72: DataConversionWarning: A column-vector y was passed when a 1d array was expected. Please change the shape of y to (n_samples, ), for example using ravel().\n",
      "  return f(**kwargs)\n",
      " 38%|███████████████████████████████▉                                                   | 5/13 [00:02<00:04,  1.77it/s]C:\\Users\\camil\\Anaconda3\\lib\\site-packages\\ipykernel_launcher.py:46: DataConversionWarning: A column-vector y was passed when a 1d array was expected. Please change the shape of y to (n_samples,), for example using ravel().\n",
      "C:\\Users\\camil\\Anaconda3\\lib\\site-packages\\sklearn\\utils\\validation.py:72: DataConversionWarning: A column-vector y was passed when a 1d array was expected. Please change the shape of y to (n_samples, ), for example using ravel().\n",
      "  return f(**kwargs)\n",
      " 46%|██████████████████████████████████████▎                                            | 6/13 [00:03<00:04,  1.43it/s]C:\\Users\\camil\\Anaconda3\\lib\\site-packages\\ipykernel_launcher.py:46: DataConversionWarning: A column-vector y was passed when a 1d array was expected. Please change the shape of y to (n_samples,), for example using ravel().\n",
      "C:\\Users\\camil\\Anaconda3\\lib\\site-packages\\sklearn\\utils\\validation.py:72: DataConversionWarning: A column-vector y was passed when a 1d array was expected. Please change the shape of y to (n_samples, ), for example using ravel().\n",
      "  return f(**kwargs)\n",
      " 54%|████████████████████████████████████████████▋                                      | 7/13 [00:04<00:05,  1.16it/s]C:\\Users\\camil\\Anaconda3\\lib\\site-packages\\ipykernel_launcher.py:46: DataConversionWarning: A column-vector y was passed when a 1d array was expected. Please change the shape of y to (n_samples,), for example using ravel().\n",
      "C:\\Users\\camil\\Anaconda3\\lib\\site-packages\\sklearn\\utils\\validation.py:72: DataConversionWarning: A column-vector y was passed when a 1d array was expected. Please change the shape of y to (n_samples, ), for example using ravel().\n",
      "  return f(**kwargs)\n",
      " 62%|███████████████████████████████████████████████████                                | 8/13 [00:06<00:04,  1.06it/s]C:\\Users\\camil\\Anaconda3\\lib\\site-packages\\ipykernel_launcher.py:46: DataConversionWarning: A column-vector y was passed when a 1d array was expected. Please change the shape of y to (n_samples,), for example using ravel().\n",
      "C:\\Users\\camil\\Anaconda3\\lib\\site-packages\\sklearn\\utils\\validation.py:72: DataConversionWarning: A column-vector y was passed when a 1d array was expected. Please change the shape of y to (n_samples, ), for example using ravel().\n",
      "  return f(**kwargs)\n",
      " 69%|█████████████████████████████████████████████████████████▍                         | 9/13 [00:07<00:04,  1.09s/it]C:\\Users\\camil\\Anaconda3\\lib\\site-packages\\ipykernel_launcher.py:46: DataConversionWarning: A column-vector y was passed when a 1d array was expected. Please change the shape of y to (n_samples,), for example using ravel().\n",
      "C:\\Users\\camil\\Anaconda3\\lib\\site-packages\\sklearn\\utils\\validation.py:72: DataConversionWarning: A column-vector y was passed when a 1d array was expected. Please change the shape of y to (n_samples, ), for example using ravel().\n",
      "  return f(**kwargs)\n",
      " 77%|███████████████████████████████████████████████████████████████                   | 10/13 [00:09<00:03,  1.31s/it]C:\\Users\\camil\\Anaconda3\\lib\\site-packages\\ipykernel_launcher.py:46: DataConversionWarning: A column-vector y was passed when a 1d array was expected. Please change the shape of y to (n_samples,), for example using ravel().\n",
      "C:\\Users\\camil\\Anaconda3\\lib\\site-packages\\sklearn\\utils\\validation.py:72: DataConversionWarning: A column-vector y was passed when a 1d array was expected. Please change the shape of y to (n_samples, ), for example using ravel().\n",
      "  return f(**kwargs)\n",
      " 85%|█████████████████████████████████████████████████████████████████████▍            | 11/13 [00:11<00:02,  1.43s/it]C:\\Users\\camil\\Anaconda3\\lib\\site-packages\\ipykernel_launcher.py:46: DataConversionWarning: A column-vector y was passed when a 1d array was expected. Please change the shape of y to (n_samples,), for example using ravel().\n",
      "C:\\Users\\camil\\Anaconda3\\lib\\site-packages\\sklearn\\utils\\validation.py:72: DataConversionWarning: A column-vector y was passed when a 1d array was expected. Please change the shape of y to (n_samples, ), for example using ravel().\n",
      "  return f(**kwargs)\n",
      " 92%|███████████████████████████████████████████████████████████████████████████▋      | 12/13 [00:12<00:01,  1.54s/it]C:\\Users\\camil\\Anaconda3\\lib\\site-packages\\ipykernel_launcher.py:46: DataConversionWarning: A column-vector y was passed when a 1d array was expected. Please change the shape of y to (n_samples,), for example using ravel().\n",
      "C:\\Users\\camil\\Anaconda3\\lib\\site-packages\\sklearn\\utils\\validation.py:72: DataConversionWarning: A column-vector y was passed when a 1d array was expected. Please change the shape of y to (n_samples, ), for example using ravel().\n",
      "  return f(**kwargs)\n",
      "100%|██████████████████████████████████████████████████████████████████████████████████| 13/13 [00:14<00:00,  1.14s/it]\n"
     ]
    },
    {
     "data": {
      "image/png": "[encoded data removed]",
      "text/plain": [
       "<Figure size 432x288 with 1 Axes>"
      ]
     },
     "metadata": {
      "needs_background": "light"
     },
     "output_type": "display_data"
    },
    {
     "name": "stderr",
     "output_type": "stream",
     "text": [
      "  0%|                                                                                           | 0/18 [00:00<?, ?it/s]C:\\Users\\camil\\Anaconda3\\lib\\site-packages\\ipykernel_launcher.py:46: DataConversionWarning: A column-vector y was passed when a 1d array was expected. Please change the shape of y to (n_samples,), for example using ravel().\n",
      "C:\\Users\\camil\\Anaconda3\\lib\\site-packages\\sklearn\\utils\\validation.py:72: DataConversionWarning: A column-vector y was passed when a 1d array was expected. Please change the shape of y to (n_samples, ), for example using ravel().\n",
      "  return f(**kwargs)\n",
      "  6%|████▌                                                                              | 1/18 [00:00<00:13,  1.23it/s]C:\\Users\\camil\\Anaconda3\\lib\\site-packages\\ipykernel_launcher.py:46: DataConversionWarning: A column-vector y was passed when a 1d array was expected. Please change the shape of y to (n_samples,), for example using ravel().\n",
      "C:\\Users\\camil\\Anaconda3\\lib\\site-packages\\sklearn\\utils\\validation.py:72: DataConversionWarning: A column-vector y was passed when a 1d array was expected. Please change the shape of y to (n_samples, ), for example using ravel().\n",
      "  return f(**kwargs)\n",
      " 11%|█████████▏                                                                         | 2/18 [00:01<00:12,  1.24it/s]C:\\Users\\camil\\Anaconda3\\lib\\site-packages\\ipykernel_launcher.py:46: DataConversionWarning: A column-vector y was passed when a 1d array was expected. Please change the shape of y to (n_samples,), for example using ravel().\n",
      "C:\\Users\\camil\\Anaconda3\\lib\\site-packages\\sklearn\\utils\\validation.py:72: DataConversionWarning: A column-vector y was passed when a 1d array was expected. Please change the shape of y to (n_samples, ), for example using ravel().\n",
      "  return f(**kwargs)\n",
      " 17%|█████████████▊                                                                     | 3/18 [00:02<00:11,  1.30it/s]C:\\Users\\camil\\Anaconda3\\lib\\site-packages\\ipykernel_launcher.py:46: DataConversionWarning: A column-vector y was passed when a 1d array was expected. Please change the shape of y to (n_samples,), for example using ravel().\n",
      "C:\\Users\\camil\\Anaconda3\\lib\\site-packages\\sklearn\\utils\\validation.py:72: DataConversionWarning: A column-vector y was passed when a 1d array was expected. Please change the shape of y to (n_samples, ), for example using ravel().\n",
      "  return f(**kwargs)\n",
      " 22%|██████████████████▍                                                                | 4/18 [00:02<00:10,  1.37it/s]C:\\Users\\camil\\Anaconda3\\lib\\site-packages\\ipykernel_launcher.py:46: DataConversionWarning: A column-vector y was passed when a 1d array was expected. Please change the shape of y to (n_samples,), for example using ravel().\n",
      "C:\\Users\\camil\\Anaconda3\\lib\\site-packages\\sklearn\\utils\\validation.py:72: DataConversionWarning: A column-vector y was passed when a 1d array was expected. Please change the shape of y to (n_samples, ), for example using ravel().\n",
      "  return f(**kwargs)\n",
      " 28%|███████████████████████                                                            | 5/18 [00:03<00:09,  1.40it/s]C:\\Users\\camil\\Anaconda3\\lib\\site-packages\\ipykernel_launcher.py:46: DataConversionWarning: A column-vector y was passed when a 1d array was expected. Please change the shape of y to (n_samples,), for example using ravel().\n",
      "C:\\Users\\camil\\Anaconda3\\lib\\site-packages\\sklearn\\utils\\validation.py:72: DataConversionWarning: A column-vector y was passed when a 1d array was expected. Please change the shape of y to (n_samples, ), for example using ravel().\n",
      "  return f(**kwargs)\n",
      " 33%|███████████████████████████▋                                                       | 6/18 [00:04<00:08,  1.43it/s]C:\\Users\\camil\\Anaconda3\\lib\\site-packages\\ipykernel_launcher.py:46: DataConversionWarning: A column-vector y was passed when a 1d array was expected. Please change the shape of y to (n_samples,), for example using ravel().\n",
      "C:\\Users\\camil\\Anaconda3\\lib\\site-packages\\sklearn\\utils\\validation.py:72: DataConversionWarning: A column-vector y was passed when a 1d array was expected. Please change the shape of y to (n_samples, ), for example using ravel().\n",
      "  return f(**kwargs)\n",
      " 39%|████████████████████████████████▎                                                  | 7/18 [00:04<00:07,  1.44it/s]C:\\Users\\camil\\Anaconda3\\lib\\site-packages\\ipykernel_launcher.py:46: DataConversionWarning: A column-vector y was passed when a 1d array was expected. Please change the shape of y to (n_samples,), for example using ravel().\n",
      "C:\\Users\\camil\\Anaconda3\\lib\\site-packages\\sklearn\\utils\\validation.py:72: DataConversionWarning: A column-vector y was passed when a 1d array was expected. Please change the shape of y to (n_samples, ), for example using ravel().\n",
      "  return f(**kwargs)\n",
      " 44%|████████████████████████████████████▉                                              | 8/18 [00:05<00:06,  1.45it/s]C:\\Users\\camil\\Anaconda3\\lib\\site-packages\\ipykernel_launcher.py:46: DataConversionWarning: A column-vector y was passed when a 1d array was expected. Please change the shape of y to (n_samples,), for example using ravel().\n",
      "C:\\Users\\camil\\Anaconda3\\lib\\site-packages\\sklearn\\utils\\validation.py:72: DataConversionWarning: A column-vector y was passed when a 1d array was expected. Please change the shape of y to (n_samples, ), for example using ravel().\n",
      "  return f(**kwargs)\n",
      " 50%|█████████████████████████████████████████▌                                         | 9/18 [00:06<00:06,  1.45it/s]C:\\Users\\camil\\Anaconda3\\lib\\site-packages\\ipykernel_launcher.py:46: DataConversionWarning: A column-vector y was passed when a 1d array was expected. Please change the shape of y to (n_samples,), for example using ravel().\n",
      "C:\\Users\\camil\\Anaconda3\\lib\\site-packages\\sklearn\\utils\\validation.py:72: DataConversionWarning: A column-vector y was passed when a 1d array was expected. Please change the shape of y to (n_samples, ), for example using ravel().\n",
      "  return f(**kwargs)\n",
      " 56%|█████████████████████████████████████████████▌                                    | 10/18 [00:06<00:05,  1.48it/s]C:\\Users\\camil\\Anaconda3\\lib\\site-packages\\ipykernel_launcher.py:46: DataConversionWarning: A column-vector y was passed when a 1d array was expected. Please change the shape of y to (n_samples,), for example using ravel().\n",
      "C:\\Users\\camil\\Anaconda3\\lib\\site-packages\\sklearn\\utils\\validation.py:72: DataConversionWarning: A column-vector y was passed when a 1d array was expected. Please change the shape of y to (n_samples, ), for example using ravel().\n",
      "  return f(**kwargs)\n",
      " 61%|██████████████████████████████████████████████████                                | 11/18 [00:07<00:04,  1.51it/s]C:\\Users\\camil\\Anaconda3\\lib\\site-packages\\ipykernel_launcher.py:46: DataConversionWarning: A column-vector y was passed when a 1d array was expected. Please change the shape of y to (n_samples,), for example using ravel().\n",
      "C:\\Users\\camil\\Anaconda3\\lib\\site-packages\\sklearn\\utils\\validation.py:72: DataConversionWarning: A column-vector y was passed when a 1d array was expected. Please change the shape of y to (n_samples, ), for example using ravel().\n",
      "  return f(**kwargs)\n",
      " 67%|██████████████████████████████████████████████████████▋                           | 12/18 [00:08<00:03,  1.52it/s]C:\\Users\\camil\\Anaconda3\\lib\\site-packages\\ipykernel_launcher.py:46: DataConversionWarning: A column-vector y was passed when a 1d array was expected. Please change the shape of y to (n_samples,), for example using ravel().\n",
      "C:\\Users\\camil\\Anaconda3\\lib\\site-packages\\sklearn\\utils\\validation.py:72: DataConversionWarning: A column-vector y was passed when a 1d array was expected. Please change the shape of y to (n_samples, ), for example using ravel().\n",
      "  return f(**kwargs)\n",
      " 72%|███████████████████████████████████████████████████████████▏                      | 13/18 [00:08<00:03,  1.56it/s]C:\\Users\\camil\\Anaconda3\\lib\\site-packages\\ipykernel_launcher.py:46: DataConversionWarning: A column-vector y was passed when a 1d array was expected. Please change the shape of y to (n_samples,), for example using ravel().\n",
      "C:\\Users\\camil\\Anaconda3\\lib\\site-packages\\sklearn\\utils\\validation.py:72: DataConversionWarning: A column-vector y was passed when a 1d array was expected. Please change the shape of y to (n_samples, ), for example using ravel().\n",
      "  return f(**kwargs)\n"
     ]
    },
    {
     "name": "stderr",
     "output_type": "stream",
     "text": [
      " 78%|███████████████████████████████████████████████████████████████▊                  | 14/18 [00:09<00:02,  1.53it/s]C:\\Users\\camil\\Anaconda3\\lib\\site-packages\\ipykernel_launcher.py:46: DataConversionWarning: A column-vector y was passed when a 1d array was expected. Please change the shape of y to (n_samples,), for example using ravel().\n",
      "C:\\Users\\camil\\Anaconda3\\lib\\site-packages\\sklearn\\utils\\validation.py:72: DataConversionWarning: A column-vector y was passed when a 1d array was expected. Please change the shape of y to (n_samples, ), for example using ravel().\n",
      "  return f(**kwargs)\n",
      " 83%|████████████████████████████████████████████████████████████████████▎             | 15/18 [00:10<00:01,  1.56it/s]C:\\Users\\camil\\Anaconda3\\lib\\site-packages\\ipykernel_launcher.py:46: DataConversionWarning: A column-vector y was passed when a 1d array was expected. Please change the shape of y to (n_samples,), for example using ravel().\n",
      "C:\\Users\\camil\\Anaconda3\\lib\\site-packages\\sklearn\\utils\\validation.py:72: DataConversionWarning: A column-vector y was passed when a 1d array was expected. Please change the shape of y to (n_samples, ), for example using ravel().\n",
      "  return f(**kwargs)\n",
      " 89%|████████████████████████████████████████████████████████████████████████▉         | 16/18 [00:10<00:01,  1.54it/s]C:\\Users\\camil\\Anaconda3\\lib\\site-packages\\ipykernel_launcher.py:46: DataConversionWarning: A column-vector y was passed when a 1d array was expected. Please change the shape of y to (n_samples,), for example using ravel().\n",
      "C:\\Users\\camil\\Anaconda3\\lib\\site-packages\\sklearn\\utils\\validation.py:72: DataConversionWarning: A column-vector y was passed when a 1d array was expected. Please change the shape of y to (n_samples, ), for example using ravel().\n",
      "  return f(**kwargs)\n",
      " 94%|█████████████████████████████████████████████████████████████████████████████▍    | 17/18 [00:11<00:00,  1.51it/s]C:\\Users\\camil\\Anaconda3\\lib\\site-packages\\ipykernel_launcher.py:46: DataConversionWarning: A column-vector y was passed when a 1d array was expected. Please change the shape of y to (n_samples,), for example using ravel().\n",
      "C:\\Users\\camil\\Anaconda3\\lib\\site-packages\\sklearn\\utils\\validation.py:72: DataConversionWarning: A column-vector y was passed when a 1d array was expected. Please change the shape of y to (n_samples, ), for example using ravel().\n",
      "  return f(**kwargs)\n",
      "100%|██████████████████████████████████████████████████████████████████████████████████| 18/18 [00:12<00:00,  1.48it/s]\n"
     ]
    },
    {
     "data": {
      "image/png": "[encoded data removed]",
      "text/plain": [
       "<Figure size 432x288 with 1 Axes>"
      ]
     },
     "metadata": {
      "needs_background": "light"
     },
     "output_type": "display_data"
    },
    {
     "name": "stderr",
     "output_type": "stream",
     "text": [
      "  0%|                                                                                            | 0/6 [00:00<?, ?it/s]C:\\Users\\camil\\Anaconda3\\lib\\site-packages\\ipykernel_launcher.py:46: DataConversionWarning: A column-vector y was passed when a 1d array was expected. Please change the shape of y to (n_samples,), for example using ravel().\n",
      "C:\\Users\\camil\\Anaconda3\\lib\\site-packages\\sklearn\\utils\\validation.py:72: DataConversionWarning: A column-vector y was passed when a 1d array was expected. Please change the shape of y to (n_samples, ), for example using ravel().\n",
      "  return f(**kwargs)\n",
      " 17%|██████████████                                                                      | 1/6 [00:00<00:03,  1.48it/s]C:\\Users\\camil\\Anaconda3\\lib\\site-packages\\ipykernel_launcher.py:46: DataConversionWarning: A column-vector y was passed when a 1d array was expected. Please change the shape of y to (n_samples,), for example using ravel().\n",
      "C:\\Users\\camil\\Anaconda3\\lib\\site-packages\\sklearn\\utils\\validation.py:72: DataConversionWarning: A column-vector y was passed when a 1d array was expected. Please change the shape of y to (n_samples, ), for example using ravel().\n",
      "  return f(**kwargs)\n",
      " 33%|████████████████████████████                                                        | 2/6 [00:01<00:02,  1.43it/s]C:\\Users\\camil\\Anaconda3\\lib\\site-packages\\ipykernel_launcher.py:46: DataConversionWarning: A column-vector y was passed when a 1d array was expected. Please change the shape of y to (n_samples,), for example using ravel().\n",
      "C:\\Users\\camil\\Anaconda3\\lib\\site-packages\\sklearn\\utils\\validation.py:72: DataConversionWarning: A column-vector y was passed when a 1d array was expected. Please change the shape of y to (n_samples, ), for example using ravel().\n",
      "  return f(**kwargs)\n",
      " 50%|██████████████████████████████████████████                                          | 3/6 [00:02<00:02,  1.44it/s]C:\\Users\\camil\\Anaconda3\\lib\\site-packages\\ipykernel_launcher.py:46: DataConversionWarning: A column-vector y was passed when a 1d array was expected. Please change the shape of y to (n_samples,), for example using ravel().\n",
      "C:\\Users\\camil\\Anaconda3\\lib\\site-packages\\sklearn\\utils\\validation.py:72: DataConversionWarning: A column-vector y was passed when a 1d array was expected. Please change the shape of y to (n_samples, ), for example using ravel().\n",
      "  return f(**kwargs)\n",
      " 67%|████████████████████████████████████████████████████████                            | 4/6 [00:02<00:01,  1.47it/s]C:\\Users\\camil\\Anaconda3\\lib\\site-packages\\ipykernel_launcher.py:46: DataConversionWarning: A column-vector y was passed when a 1d array was expected. Please change the shape of y to (n_samples,), for example using ravel().\n",
      "C:\\Users\\camil\\Anaconda3\\lib\\site-packages\\sklearn\\utils\\validation.py:72: DataConversionWarning: A column-vector y was passed when a 1d array was expected. Please change the shape of y to (n_samples, ), for example using ravel().\n",
      "  return f(**kwargs)\n",
      " 83%|██████████████████████████████████████████████████████████████████████              | 5/6 [00:03<00:00,  1.49it/s]C:\\Users\\camil\\Anaconda3\\lib\\site-packages\\ipykernel_launcher.py:46: DataConversionWarning: A column-vector y was passed when a 1d array was expected. Please change the shape of y to (n_samples,), for example using ravel().\n",
      "C:\\Users\\camil\\Anaconda3\\lib\\site-packages\\sklearn\\utils\\validation.py:72: DataConversionWarning: A column-vector y was passed when a 1d array was expected. Please change the shape of y to (n_samples, ), for example using ravel().\n",
      "  return f(**kwargs)\n",
      "100%|████████████████████████████████████████████████████████████████████████████████████| 6/6 [00:04<00:00,  1.48it/s]\n"
     ]
    },
    {
     "data": {
      "image/png": "[encoded data removed]",
      "text/plain": [
       "<Figure size 432x288 with 1 Axes>"
      ]
     },
     "metadata": {
      "needs_background": "light"
     },
     "output_type": "display_data"
    },
    {
     "name": "stderr",
     "output_type": "stream",
     "text": [
      "  0%|                                                                                           | 0/10 [00:00<?, ?it/s]C:\\Users\\camil\\Anaconda3\\lib\\site-packages\\ipykernel_launcher.py:46: DataConversionWarning: A column-vector y was passed when a 1d array was expected. Please change the shape of y to (n_samples,), for example using ravel().\n",
      "C:\\Users\\camil\\Anaconda3\\lib\\site-packages\\sklearn\\utils\\validation.py:72: DataConversionWarning: A column-vector y was passed when a 1d array was expected. Please change the shape of y to (n_samples, ), for example using ravel().\n",
      "  return f(**kwargs)\n",
      " 10%|████████▎                                                                          | 1/10 [00:00<00:06,  1.47it/s]C:\\Users\\camil\\Anaconda3\\lib\\site-packages\\ipykernel_launcher.py:46: DataConversionWarning: A column-vector y was passed when a 1d array was expected. Please change the shape of y to (n_samples,), for example using ravel().\n",
      "C:\\Users\\camil\\Anaconda3\\lib\\site-packages\\sklearn\\utils\\validation.py:72: DataConversionWarning: A column-vector y was passed when a 1d array was expected. Please change the shape of y to (n_samples, ), for example using ravel().\n",
      "  return f(**kwargs)\n",
      " 20%|████████████████▌                                                                  | 2/10 [00:01<00:05,  1.53it/s]C:\\Users\\camil\\Anaconda3\\lib\\site-packages\\ipykernel_launcher.py:46: DataConversionWarning: A column-vector y was passed when a 1d array was expected. Please change the shape of y to (n_samples,), for example using ravel().\n",
      "C:\\Users\\camil\\Anaconda3\\lib\\site-packages\\sklearn\\utils\\validation.py:72: DataConversionWarning: A column-vector y was passed when a 1d array was expected. Please change the shape of y to (n_samples, ), for example using ravel().\n",
      "  return f(**kwargs)\n",
      " 30%|████████████████████████▉                                                          | 3/10 [00:01<00:04,  1.58it/s]C:\\Users\\camil\\Anaconda3\\lib\\site-packages\\ipykernel_launcher.py:46: DataConversionWarning: A column-vector y was passed when a 1d array was expected. Please change the shape of y to (n_samples,), for example using ravel().\n",
      "C:\\Users\\camil\\Anaconda3\\lib\\site-packages\\sklearn\\utils\\validation.py:72: DataConversionWarning: A column-vector y was passed when a 1d array was expected. Please change the shape of y to (n_samples, ), for example using ravel().\n",
      "  return f(**kwargs)\n",
      " 40%|█████████████████████████████████▏                                                 | 4/10 [00:02<00:03,  1.71it/s]C:\\Users\\camil\\Anaconda3\\lib\\site-packages\\ipykernel_launcher.py:46: DataConversionWarning: A column-vector y was passed when a 1d array was expected. Please change the shape of y to (n_samples,), for example using ravel().\n",
      "C:\\Users\\camil\\Anaconda3\\lib\\site-packages\\sklearn\\utils\\validation.py:72: DataConversionWarning: A column-vector y was passed when a 1d array was expected. Please change the shape of y to (n_samples, ), for example using ravel().\n",
      "  return f(**kwargs)\n",
      " 50%|█████████████████████████████████████████▌                                         | 5/10 [00:02<00:02,  1.77it/s]C:\\Users\\camil\\Anaconda3\\lib\\site-packages\\ipykernel_launcher.py:46: DataConversionWarning: A column-vector y was passed when a 1d array was expected. Please change the shape of y to (n_samples,), for example using ravel().\n",
      "C:\\Users\\camil\\Anaconda3\\lib\\site-packages\\sklearn\\utils\\validation.py:72: DataConversionWarning: A column-vector y was passed when a 1d array was expected. Please change the shape of y to (n_samples, ), for example using ravel().\n",
      "  return f(**kwargs)\n",
      " 60%|█████████████████████████████████████████████████▊                                 | 6/10 [00:03<00:02,  1.85it/s]C:\\Users\\camil\\Anaconda3\\lib\\site-packages\\ipykernel_launcher.py:46: DataConversionWarning: A column-vector y was passed when a 1d array was expected. Please change the shape of y to (n_samples,), for example using ravel().\n",
      "C:\\Users\\camil\\Anaconda3\\lib\\site-packages\\sklearn\\utils\\validation.py:72: DataConversionWarning: A column-vector y was passed when a 1d array was expected. Please change the shape of y to (n_samples, ), for example using ravel().\n",
      "  return f(**kwargs)\n",
      " 70%|██████████████████████████████████████████████████████████                         | 7/10 [00:03<00:01,  1.91it/s]C:\\Users\\camil\\Anaconda3\\lib\\site-packages\\ipykernel_launcher.py:46: DataConversionWarning: A column-vector y was passed when a 1d array was expected. Please change the shape of y to (n_samples,), for example using ravel().\n",
      "C:\\Users\\camil\\Anaconda3\\lib\\site-packages\\sklearn\\utils\\validation.py:72: DataConversionWarning: A column-vector y was passed when a 1d array was expected. Please change the shape of y to (n_samples, ), for example using ravel().\n",
      "  return f(**kwargs)\n",
      " 80%|██████████████████████████████████████████████████████████████████▍                | 8/10 [00:04<00:01,  1.97it/s]C:\\Users\\camil\\Anaconda3\\lib\\site-packages\\ipykernel_launcher.py:46: DataConversionWarning: A column-vector y was passed when a 1d array was expected. Please change the shape of y to (n_samples,), for example using ravel().\n",
      "C:\\Users\\camil\\Anaconda3\\lib\\site-packages\\sklearn\\utils\\validation.py:72: DataConversionWarning: A column-vector y was passed when a 1d array was expected. Please change the shape of y to (n_samples, ), for example using ravel().\n",
      "  return f(**kwargs)\n",
      " 90%|██████████████████████████████████████████████████████████████████████████▋        | 9/10 [00:04<00:00,  2.03it/s]C:\\Users\\camil\\Anaconda3\\lib\\site-packages\\ipykernel_launcher.py:46: DataConversionWarning: A column-vector y was passed when a 1d array was expected. Please change the shape of y to (n_samples,), for example using ravel().\n",
      "C:\\Users\\camil\\Anaconda3\\lib\\site-packages\\sklearn\\utils\\validation.py:72: DataConversionWarning: A column-vector y was passed when a 1d array was expected. Please change the shape of y to (n_samples, ), for example using ravel().\n",
      "  return f(**kwargs)\n",
      "100%|██████████████████████████████████████████████████████████████████████████████████| 10/10 [00:05<00:00,  1.91it/s]\n"
     ]
    },
    {
     "data": {
      "image/png": "[encoded data removed]",
      "text/plain": [
       "<Figure size 432x288 with 1 Axes>"
      ]
     },
     "metadata": {
      "needs_background": "light"
     },
     "output_type": "display_data"
    }
   ],
   "source": [
    "#FIRST: SEE WHICH RANGE FOR EACH PARAMETER AVOIDING OVERFITTING\n",
    "li_plt = []\n",
    "dico_hyperparam_values = {'max_depth': range(2,20),\n",
    "                          'n_estimators': range(40,300,20),\n",
    "                          'min_samples_split':range(2,20),\n",
    "                          'min_samples_leaf':range(1,7),\n",
    "                          'min_impurity_decrease':[x for x in np.linspace(start = 0, stop = 0.03, num = 10)]}\n",
    "\n",
    "#lets fix maxdepth first and then keep rest default except max_features\n",
    "for hp,li in dico_hyperparam_values.items():\n",
    "    for v in tqdm.tqdm(li):\n",
    "        if hp=='max_depth':\n",
    "            dico_mod = {'RandomForest':RandomForestClassifier(max_features='sqrt', random_state=rs,\n",
    "                                                             max_depth=v),\n",
    "                        'GradientBoostingClassifier': GradientBoostingClassifier(max_features='sqrt', random_state=rs,\n",
    "                                                                                 max_depth=v)}\n",
    "        if hp=='n_estimators':\n",
    "            dico_mod = {'RandomForest':RandomForestClassifier(max_features='sqrt', random_state=rs,\n",
    "                                                              max_depth = 9,                                                                                 min_samples_split=10,\n",
    "                                                              n_estimators=v),\n",
    "                        'GradientBoostingClassifier': GradientBoostingClassifier(max_features='sqrt', random_state=rs,\n",
    "                                                                                 max_depth = 5, \n",
    "                                                                                 n_estimators=v)}\n",
    "        if hp=='min_samples_split':\n",
    "            dico_mod = {'RandomForest':RandomForestClassifier(max_features='sqrt', random_state=rs,\n",
    "                                                              max_depth = 9, \n",
    "                                                              min_samples_split=v),\n",
    "                        'GradientBoostingClassifier': GradientBoostingClassifier(max_features='sqrt', random_state=rs,\n",
    "                                                                                 max_depth = 5,\n",
    "                                                                                 min_samples_split=v)}\n",
    "        if hp=='min_samples_leaf':\n",
    "            dico_mod = {'RandomForest':RandomForestClassifier(max_features='sqrt', random_state=rs,\n",
    "                                                              max_depth = 9, \n",
    "                                                              min_samples_leaf=v),\n",
    "                        'GradientBoostingClassifier': GradientBoostingClassifier(max_features='sqrt', random_state=rs,\n",
    "                                                                                 max_depth = 5, \n",
    "                                                                                 min_samples_leaf=v)}\n",
    "        if hp=='min_impurity_decrease':\n",
    "            dico_mod = {'RandomForest':RandomForestClassifier(max_features='sqrt', random_state=rs,\n",
    "                                                              max_depth = 9, \n",
    "                                                              min_impurity_decrease=v),\n",
    "                        'GradientBoostingClassifier': GradientBoostingClassifier(max_features='sqrt', random_state=rs,\n",
    "                                                                                 max_depth = 5, \n",
    "                                                                                 min_impurity_decrease=v)}\n",
    "        for name,mod in dico_mod.items():\n",
    "            mod.fit(X_train_tuning, y_train_tuning)\n",
    "            li_plt.append({'algo':name, hp:v, 'type':'training', 'accuracy':round(mod.score(X_train_tuning, y_train_tuning),2)})\n",
    "            li_plt.append({'algo':name, hp:v, 'type':'testing', 'accuracy':round(mod.score(X_val_tuning, y_val_tuning),2)})\n",
    "            #save it\n",
    "            #predictor.score(X,Y) internally calculates Y'=predictor.predict(X) and then compares Y' against Y to give an accuracy\n",
    "            #measure. This applies not only to logistic regression but to any other model.\n",
    "            li_dico.append({'algo':name, 'model_param_used':mod,\n",
    "                            'accuracy_training':round(mod.score(X_train_tuning, y_train_tuning),2),\n",
    "                            'accuracy_testing':round(mod.score(X_val_tuning, y_val_tuning),2)})\n",
    "    sns.lineplot(data=pd.DataFrame(li_plt), x=hp, y=\"accuracy\", hue=\"algo\", style=\"type\");\n",
    "    plt.savefig(os.path.join(path_extracted_data_cleaning,id_run+'_ClassifierParamTuning_'+hp+'.png'), bbox_inches='tight')\n",
    "    plt.show()"
   ]
  },
  {
   "cell_type": "markdown",
   "metadata": {},
   "source": [
    "#OLD FIRST: have an idea on what are the good parameters\n",
    "P = {'bootstrap': [True],\n",
    "      'max_depth': [int(x) for x in np.linspace(start = 2, stop = 6, num = 4)],\n",
    "      'max_features': ['sqrt'], #nbr of features to consider when looking for the best split\n",
    "      'min_samples_leaf': [int(x) for x in np.linspace(start = 1, stop = 15, num = 4)],#min samples at a leaf node\n",
    "      'min_samples_split':[int(x) for x in np.linspace(start = 2, stop = 10, num = 4)], #min sample that can be split alone\n",
    "      'n_estimators':[int(x) for x in np.linspace(start = 50, stop = 1500, num = 4)],#nbr of trees in the forest default=100\n",
    "      'criterion':['gini', 'entropy'],\n",
    "      'min_impurity_decrease':[x for x in np.linspace(start = 0.0001, stop = 0.05, num = 4)]}\n",
    "mod = RandomizedSearchCV(estimator = RandomForestClassifier(), param_distributions = P, n_iter = 200, cv = 3, verbose=2, \n",
    "                               random_state=0, n_jobs = -1)\n",
    "mod.fit(X_train, y_train)\n",
    "mod = mod.best_estimator_\n",
    "display(mod)"
   ]
  },
  {
   "cell_type": "markdown",
   "metadata": {},
   "source": [
    "### 1- Random Forest"
   ]
  },
  {
   "cell_type": "raw",
   "metadata": {},
   "source": [
    "class weight but no early stopping"
   ]
  },
  {
   "cell_type": "code",
   "execution_count": 19,
   "metadata": {},
   "outputs": [
    {
     "name": "stdout",
     "output_type": "stream",
     "text": [
      "4.2561174551386625\n",
      "Fitting 3 folds for each of 144 candidates, totalling 432 fits\n"
     ]
    },
    {
     "name": "stderr",
     "output_type": "stream",
     "text": [
      "[Parallel(n_jobs=-1)]: Using backend LokyBackend with 8 concurrent workers.\n",
      "[Parallel(n_jobs=-1)]: Done  25 tasks      | elapsed:   18.8s\n",
      "[Parallel(n_jobs=-1)]: Done 146 tasks      | elapsed:  1.3min\n",
      "[Parallel(n_jobs=-1)]: Done 349 tasks      | elapsed:  3.1min\n",
      "[Parallel(n_jobs=-1)]: Done 432 out of 432 | elapsed:  3.8min finished\n",
      "C:\\Users\\camil\\Anaconda3\\lib\\site-packages\\sklearn\\model_selection\\_search.py:765: DataConversionWarning: A column-vector y was passed when a 1d array was expected. Please change the shape of y to (n_samples,), for example using ravel().\n",
      "  self.best_estimator_.fit(X, y, **fit_params)\n",
      "C:\\Users\\camil\\Anaconda3\\lib\\site-packages\\ipykernel_launcher.py:19: DataConversionWarning: A column-vector y was passed when a 1d array was expected. Please change the shape of y to (n_samples,), for example using ravel().\n"
     ]
    },
    {
     "data": {
      "text/plain": [
       "RandomForestClassifier(class_weight={0: 4.2561174551386625, 1: 1},\n",
       "                       criterion='entropy', max_depth=6, max_features='sqrt',\n",
       "                       min_impurity_decrease=0.0001, min_samples_leaf=2,\n",
       "                       min_samples_split=4, n_estimators=1000)"
      ]
     },
     "metadata": {},
     "output_type": "display_data"
    }
   ],
   "source": [
    "#THEN: refine the parameters\n",
    "x1 = df_cleaning[df_cleaning['VideoAnalyse']==1].shape[0]\n",
    "x0 = df_cleaning[df_cleaning['VideoAnalyse']==0].shape[0]\n",
    "print(x1/x0)\n",
    "P = {'max_features': ['sqrt'], #nbr of features to consider when looking for the best split\n",
    "      'criterion':['gini', 'entropy'],\n",
    "      'max_depth': [5,6],\n",
    "      'min_samples_leaf': [2,3],#min samples at a leaf node\n",
    "      'min_samples_split':[2,3,4], #min nbr of samples required to split a node, we may want this to be bigger for RF (more complex trees)\n",
    "      'n_estimators':[800,900,1000],#nbr of trees in the forest default=100\n",
    "      'min_impurity_decrease':[x for x in np.linspace(start = 0.0001, stop = 0.01, num = 2)],\n",
    "      'bootstrap': [True],\n",
    "      'class_weight': [{0:x1/x0, 1:1}]}\n",
    "#define the model with all these options and fit it (as many combinationa s asked for)\n",
    "mod = GridSearchCV(estimator = RandomForestClassifier(), param_grid = P, cv = 3, n_jobs = -1, verbose = 2) \n",
    "mod.fit(X_train, y_train)\n",
    "#define the best model and fit it \n",
    "mod_final = mod.best_estimator_\n",
    "mod_final.fit(X_train, y_train)\n",
    "display(mod_final)"
   ]
  },
  {
   "cell_type": "code",
   "execution_count": 20,
   "metadata": {},
   "outputs": [
    {
     "data": {
      "text/html": [
       "<div>\n",
       "<style scoped>\n",
       "    .dataframe tbody tr th:only-of-type {\n",
       "        vertical-align: middle;\n",
       "    }\n",
       "\n",
       "    .dataframe tbody tr th {\n",
       "        vertical-align: top;\n",
       "    }\n",
       "\n",
       "    .dataframe thead th {\n",
       "        text-align: right;\n",
       "    }\n",
       "</style>\n",
       "<table border=\"1\" class=\"dataframe\">\n",
       "  <thead>\n",
       "    <tr style=\"text-align: right;\">\n",
       "      <th></th>\n",
       "      <th>algo</th>\n",
       "      <th>model_param_used</th>\n",
       "      <th>accuracy_training</th>\n",
       "      <th>accuracy_testing</th>\n",
       "    </tr>\n",
       "  </thead>\n",
       "  <tbody>\n",
       "    <tr>\n",
       "      <th>0</th>\n",
       "      <td>RandomForest</td>\n",
       "      <td>(DecisionTreeClassifier(max_depth=2, max_featu...</td>\n",
       "      <td>0.88</td>\n",
       "      <td>0.970</td>\n",
       "    </tr>\n",
       "    <tr>\n",
       "      <th>1</th>\n",
       "      <td>GradientBoostingClassifier</td>\n",
       "      <td>([DecisionTreeRegressor(criterion='friedman_ms...</td>\n",
       "      <td>0.97</td>\n",
       "      <td>0.980</td>\n",
       "    </tr>\n",
       "    <tr>\n",
       "      <th>2</th>\n",
       "      <td>RandomForest</td>\n",
       "      <td>(DecisionTreeClassifier(max_depth=3, max_featu...</td>\n",
       "      <td>0.92</td>\n",
       "      <td>0.970</td>\n",
       "    </tr>\n",
       "    <tr>\n",
       "      <th>3</th>\n",
       "      <td>GradientBoostingClassifier</td>\n",
       "      <td>([DecisionTreeRegressor(criterion='friedman_ms...</td>\n",
       "      <td>0.98</td>\n",
       "      <td>0.980</td>\n",
       "    </tr>\n",
       "    <tr>\n",
       "      <th>4</th>\n",
       "      <td>RandomForest</td>\n",
       "      <td>(DecisionTreeClassifier(max_depth=4, max_featu...</td>\n",
       "      <td>0.95</td>\n",
       "      <td>0.970</td>\n",
       "    </tr>\n",
       "    <tr>\n",
       "      <th>...</th>\n",
       "      <td>...</td>\n",
       "      <td>...</td>\n",
       "      <td>...</td>\n",
       "      <td>...</td>\n",
       "    </tr>\n",
       "    <tr>\n",
       "      <th>126</th>\n",
       "      <td>RandomForest</td>\n",
       "      <td>(DecisionTreeClassifier(max_depth=9, max_featu...</td>\n",
       "      <td>0.88</td>\n",
       "      <td>0.970</td>\n",
       "    </tr>\n",
       "    <tr>\n",
       "      <th>127</th>\n",
       "      <td>GradientBoostingClassifier</td>\n",
       "      <td>([DecisionTreeRegressor(criterion='friedman_ms...</td>\n",
       "      <td>0.99</td>\n",
       "      <td>0.990</td>\n",
       "    </tr>\n",
       "    <tr>\n",
       "      <th>128</th>\n",
       "      <td>RandomForest</td>\n",
       "      <td>(DecisionTreeClassifier(max_depth=9, max_featu...</td>\n",
       "      <td>0.87</td>\n",
       "      <td>0.970</td>\n",
       "    </tr>\n",
       "    <tr>\n",
       "      <th>129</th>\n",
       "      <td>GradientBoostingClassifier</td>\n",
       "      <td>([DecisionTreeRegressor(criterion='friedman_ms...</td>\n",
       "      <td>0.99</td>\n",
       "      <td>0.990</td>\n",
       "    </tr>\n",
       "    <tr>\n",
       "      <th>130</th>\n",
       "      <td>randomforest</td>\n",
       "      <td>(DecisionTreeClassifier(criterion='entropy', m...</td>\n",
       "      <td>0.95</td>\n",
       "      <td>0.957</td>\n",
       "    </tr>\n",
       "  </tbody>\n",
       "</table>\n",
       "<p>131 rows × 4 columns</p>\n",
       "</div>"
      ],
      "text/plain": [
       "                           algo  \\\n",
       "0                  RandomForest   \n",
       "1    GradientBoostingClassifier   \n",
       "2                  RandomForest   \n",
       "3    GradientBoostingClassifier   \n",
       "4                  RandomForest   \n",
       "..                          ...   \n",
       "126                RandomForest   \n",
       "127  GradientBoostingClassifier   \n",
       "128                RandomForest   \n",
       "129  GradientBoostingClassifier   \n",
       "130                randomforest   \n",
       "\n",
       "                                      model_param_used  accuracy_training  \\\n",
       "0    (DecisionTreeClassifier(max_depth=2, max_featu...               0.88   \n",
       "1    ([DecisionTreeRegressor(criterion='friedman_ms...               0.97   \n",
       "2    (DecisionTreeClassifier(max_depth=3, max_featu...               0.92   \n",
       "3    ([DecisionTreeRegressor(criterion='friedman_ms...               0.98   \n",
       "4    (DecisionTreeClassifier(max_depth=4, max_featu...               0.95   \n",
       "..                                                 ...                ...   \n",
       "126  (DecisionTreeClassifier(max_depth=9, max_featu...               0.88   \n",
       "127  ([DecisionTreeRegressor(criterion='friedman_ms...               0.99   \n",
       "128  (DecisionTreeClassifier(max_depth=9, max_featu...               0.87   \n",
       "129  ([DecisionTreeRegressor(criterion='friedman_ms...               0.99   \n",
       "130  (DecisionTreeClassifier(criterion='entropy', m...               0.95   \n",
       "\n",
       "     accuracy_testing  \n",
       "0               0.970  \n",
       "1               0.980  \n",
       "2               0.970  \n",
       "3               0.980  \n",
       "4               0.970  \n",
       "..                ...  \n",
       "126             0.970  \n",
       "127             0.990  \n",
       "128             0.970  \n",
       "129             0.990  \n",
       "130             0.957  \n",
       "\n",
       "[131 rows x 4 columns]"
      ]
     },
     "execution_count": 20,
     "metadata": {},
     "output_type": "execute_result"
    }
   ],
   "source": [
    "li_dico.append({'algo':'randomforest', 'model_param_used':mod_final, \n",
    "                'accuracy_training':round(mod_final.score(X_train, y_train),3),\n",
    "                'accuracy_testing':round(mod_final.score(X_test, y_test),3)})\n",
    "pd.DataFrame(li_dico)"
   ]
  },
  {
   "cell_type": "markdown",
   "metadata": {},
   "source": [
    "### 2 - GradientBoostingClassifier"
   ]
  },
  {
   "cell_type": "raw",
   "metadata": {},
   "source": [
    "NO CLASS WEIGHT:\n",
    "Sample Weights change the loss function and your score that you're trying to optimize. This is often used in case of survey data where sampling approaches have gaps.\n",
    "\n",
    "Class Weights are used to correct class imbalances as a proxy for over \\ undersampling. There is no direct way to do that for GB in sklearn (you can do that in Random Forests though)"
   ]
  },
  {
   "cell_type": "markdown",
   "metadata": {},
   "source": [
    "#FIRST: have an idea on what are the good parameters\n",
    "#Create the parameter grid based on the results of random search \n",
    "#n_estimaro: The number of boosting stages to perform. Gradient boosting is fairly robust to over-fitting so a large number\n",
    "#usually results in better performance.\n",
    "P = {'n_estimators': [int(x) for x in np.linspace(start = 50, stop = 200, num = 10)],\n",
    "     'learning_rate':[x for x in np.linspace(start = 0.05, stop = 0.2, num = 10)],\n",
    "     'loss':['deviance', 'exponential'],\n",
    "     'min_samples_split':[int(x) for x in np.linspace(start = 2, stop = 10, num = 4)],,\n",
    "     'min_samples_leaf':[int(x) for x in np.linspace(start = 1, stop = 15, num = 4)],\n",
    "     'max_depth': [int(x) for x in np.linspace(start = 2, stop = 6, num = 4)],\n",
    "     'min_impurity_decrease':[x for x in np.linspace(start = 0.0001, stop = 0.05, num = 4)],\n",
    "     'max_features': ['sqrt']\n",
    "    }\n",
    "mod = RandomizedSearchCV(estimator = GradientBoostingClassifier(), param_distributions = P, n_iter = 200, cv = 3, verbose=2, \n",
    "                        random_state=0, n_jobs = -1)\n",
    "mod.fit(X_train, y_train)\n",
    "mod = mod.best_estimator_\n",
    "display(mod)"
   ]
  },
  {
   "cell_type": "code",
   "execution_count": 21,
   "metadata": {
    "scrolled": true
   },
   "outputs": [
    {
     "name": "stdout",
     "output_type": "stream",
     "text": [
      "Fitting 3 folds for each of 22680 candidates, totalling 68040 fits\n"
     ]
    },
    {
     "name": "stderr",
     "output_type": "stream",
     "text": [
      "[Parallel(n_jobs=-1)]: Using backend LokyBackend with 8 concurrent workers.\n",
      "[Parallel(n_jobs=-1)]: Done  25 tasks      | elapsed:    0.6s\n",
      "[Parallel(n_jobs=-1)]: Done 146 tasks      | elapsed:    4.5s\n",
      "[Parallel(n_jobs=-1)]: Done 349 tasks      | elapsed:   11.4s\n",
      "[Parallel(n_jobs=-1)]: Done 632 tasks      | elapsed:   20.7s\n",
      "[Parallel(n_jobs=-1)]: Done 997 tasks      | elapsed:   31.9s\n",
      "[Parallel(n_jobs=-1)]: Done 1442 tasks      | elapsed:   45.3s\n",
      "[Parallel(n_jobs=-1)]: Done 1969 tasks      | elapsed:  1.0min\n",
      "[Parallel(n_jobs=-1)]: Done 2576 tasks      | elapsed:  1.4min\n",
      "[Parallel(n_jobs=-1)]: Done 3265 tasks      | elapsed:  1.7min\n",
      "[Parallel(n_jobs=-1)]: Done 4034 tasks      | elapsed:  2.1min\n",
      "[Parallel(n_jobs=-1)]: Done 4885 tasks      | elapsed:  2.6min\n",
      "[Parallel(n_jobs=-1)]: Done 5816 tasks      | elapsed:  3.1min\n",
      "[Parallel(n_jobs=-1)]: Done 6829 tasks      | elapsed:  3.7min\n",
      "[Parallel(n_jobs=-1)]: Done 7922 tasks      | elapsed:  4.4min\n",
      "[Parallel(n_jobs=-1)]: Done 9097 tasks      | elapsed:  5.2min\n",
      "[Parallel(n_jobs=-1)]: Done 10352 tasks      | elapsed:  6.0min\n",
      "[Parallel(n_jobs=-1)]: Done 11689 tasks      | elapsed:  6.7min\n",
      "[Parallel(n_jobs=-1)]: Done 13106 tasks      | elapsed:  7.3min\n",
      "[Parallel(n_jobs=-1)]: Done 14605 tasks      | elapsed:  8.0min\n",
      "[Parallel(n_jobs=-1)]: Done 16184 tasks      | elapsed:  8.6min\n",
      "[Parallel(n_jobs=-1)]: Done 17845 tasks      | elapsed:  9.4min\n",
      "[Parallel(n_jobs=-1)]: Done 19586 tasks      | elapsed: 10.2min\n",
      "[Parallel(n_jobs=-1)]: Done 21409 tasks      | elapsed: 11.1min\n",
      "[Parallel(n_jobs=-1)]: Done 23312 tasks      | elapsed: 11.9min\n",
      "[Parallel(n_jobs=-1)]: Done 25297 tasks      | elapsed: 12.6min\n",
      "[Parallel(n_jobs=-1)]: Done 27362 tasks      | elapsed: 13.2min\n",
      "[Parallel(n_jobs=-1)]: Done 29509 tasks      | elapsed: 13.9min\n",
      "[Parallel(n_jobs=-1)]: Done 31736 tasks      | elapsed: 14.5min\n",
      "[Parallel(n_jobs=-1)]: Done 34045 tasks      | elapsed: 15.2min\n",
      "[Parallel(n_jobs=-1)]: Done 38812 tasks      | elapsed: 16.3min\n",
      "[Parallel(n_jobs=-1)]: Done 43754 tasks      | elapsed: 17.4min\n",
      "[Parallel(n_jobs=-1)]: Done 47144 tasks      | elapsed: 23.9min\n",
      "[Parallel(n_jobs=-1)]: Done 49777 tasks      | elapsed: 32.7min\n",
      "[Parallel(n_jobs=-1)]: Done 52490 tasks      | elapsed: 41.9min\n",
      "[Parallel(n_jobs=-1)]: Done 55285 tasks      | elapsed: 51.7min\n",
      "[Parallel(n_jobs=-1)]: Done 58160 tasks      | elapsed: 60.6min\n",
      "[Parallel(n_jobs=-1)]: Done 61117 tasks      | elapsed: 69.2min\n",
      "[Parallel(n_jobs=-1)]: Done 64154 tasks      | elapsed: 78.1min\n",
      "[Parallel(n_jobs=-1)]: Done 67273 tasks      | elapsed: 87.9min\n",
      "[Parallel(n_jobs=-1)]: Done 68040 out of 68040 | elapsed: 90.1min finished\n",
      "C:\\Users\\camil\\Anaconda3\\lib\\site-packages\\sklearn\\utils\\validation.py:72: DataConversionWarning: A column-vector y was passed when a 1d array was expected. Please change the shape of y to (n_samples, ), for example using ravel().\n",
      "  return f(**kwargs)\n",
      "C:\\Users\\camil\\Anaconda3\\lib\\site-packages\\sklearn\\utils\\validation.py:72: DataConversionWarning: A column-vector y was passed when a 1d array was expected. Please change the shape of y to (n_samples, ), for example using ravel().\n",
      "  return f(**kwargs)\n"
     ]
    },
    {
     "data": {
      "text/plain": [
       "GradientBoostingClassifier(max_depth=5, max_features='sqrt',\n",
       "                           min_impurity_decrease=0.0001, min_samples_leaf=5,\n",
       "                           min_samples_split=3, n_estimators=180,\n",
       "                           n_iter_no_change=5, tol=1e-08,\n",
       "                           validation_fraction=0.2)"
      ]
     },
     "metadata": {},
     "output_type": "display_data"
    }
   ],
   "source": [
    "#THEN: refine the parameters\n",
    "P = {'max_features': ['sqrt'],\n",
    "     'n_estimators': [180,200], #the more trees you add, the higher the risk of overfitting!! default:100\n",
    "     'min_samples_split':[2,3,4],\n",
    "     'min_samples_leaf':[4,5,6],\n",
    "     'max_depth': [4,5,6], #if to big: risk of overfitting default=3, should be smaller than RF, trees here should be simpler\n",
    "     'min_impurity_decrease':[0.0001],\n",
    "     'learning_rate':[0.1,0.15],\n",
    "     'loss':['deviance'], #deviance is greatant boosting, otherwise its adap which is least robust to noise TODO: other as well???\n",
    "     'criterion':['friedman_mse','mse','mae'],\n",
    "     'validation_fraction':[val_size], #to have early stopping avoiding overfitting keep same as for catboost\n",
    "     'n_iter_no_change':range(3,10),#to have early stopping avoiding overfitting. If set to a number, it will set aside validation_fraction size of the training data as validation and terminate training when validation score is not improving in all of the previous n_iter_no_change numbers of iterations.\n",
    "     'tol':[x for x in np.linspace(start = 10**-8, stop = 10**-2, num = 10)]#to have early stopping avoiding overfitting. default 1e-4 \n",
    "    }\n",
    "mod = GridSearchCV(estimator = GradientBoostingClassifier(), param_grid = P, cv = 3, n_jobs = -1, verbose = 2) \n",
    "mod.fit(X_train, y_train)\n",
    "mod_final = mod.best_estimator_\n",
    "mod_final.fit(X_train, y_train)\n",
    "display(mod_final)"
   ]
  },
  {
   "cell_type": "code",
   "execution_count": 22,
   "metadata": {},
   "outputs": [
    {
     "data": {
      "text/html": [
       "<div>\n",
       "<style scoped>\n",
       "    .dataframe tbody tr th:only-of-type {\n",
       "        vertical-align: middle;\n",
       "    }\n",
       "\n",
       "    .dataframe tbody tr th {\n",
       "        vertical-align: top;\n",
       "    }\n",
       "\n",
       "    .dataframe thead th {\n",
       "        text-align: right;\n",
       "    }\n",
       "</style>\n",
       "<table border=\"1\" class=\"dataframe\">\n",
       "  <thead>\n",
       "    <tr style=\"text-align: right;\">\n",
       "      <th></th>\n",
       "      <th>algo</th>\n",
       "      <th>model_param_used</th>\n",
       "      <th>accuracy_training</th>\n",
       "      <th>accuracy_testing</th>\n",
       "    </tr>\n",
       "  </thead>\n",
       "  <tbody>\n",
       "    <tr>\n",
       "      <th>0</th>\n",
       "      <td>RandomForest</td>\n",
       "      <td>(DecisionTreeClassifier(max_depth=2, max_featu...</td>\n",
       "      <td>0.880</td>\n",
       "      <td>0.970</td>\n",
       "    </tr>\n",
       "    <tr>\n",
       "      <th>1</th>\n",
       "      <td>GradientBoostingClassifier</td>\n",
       "      <td>([DecisionTreeRegressor(criterion='friedman_ms...</td>\n",
       "      <td>0.970</td>\n",
       "      <td>0.980</td>\n",
       "    </tr>\n",
       "    <tr>\n",
       "      <th>2</th>\n",
       "      <td>RandomForest</td>\n",
       "      <td>(DecisionTreeClassifier(max_depth=3, max_featu...</td>\n",
       "      <td>0.920</td>\n",
       "      <td>0.970</td>\n",
       "    </tr>\n",
       "    <tr>\n",
       "      <th>3</th>\n",
       "      <td>GradientBoostingClassifier</td>\n",
       "      <td>([DecisionTreeRegressor(criterion='friedman_ms...</td>\n",
       "      <td>0.980</td>\n",
       "      <td>0.980</td>\n",
       "    </tr>\n",
       "    <tr>\n",
       "      <th>4</th>\n",
       "      <td>RandomForest</td>\n",
       "      <td>(DecisionTreeClassifier(max_depth=4, max_featu...</td>\n",
       "      <td>0.950</td>\n",
       "      <td>0.970</td>\n",
       "    </tr>\n",
       "    <tr>\n",
       "      <th>...</th>\n",
       "      <td>...</td>\n",
       "      <td>...</td>\n",
       "      <td>...</td>\n",
       "      <td>...</td>\n",
       "    </tr>\n",
       "    <tr>\n",
       "      <th>127</th>\n",
       "      <td>GradientBoostingClassifier</td>\n",
       "      <td>([DecisionTreeRegressor(criterion='friedman_ms...</td>\n",
       "      <td>0.990</td>\n",
       "      <td>0.990</td>\n",
       "    </tr>\n",
       "    <tr>\n",
       "      <th>128</th>\n",
       "      <td>RandomForest</td>\n",
       "      <td>(DecisionTreeClassifier(max_depth=9, max_featu...</td>\n",
       "      <td>0.870</td>\n",
       "      <td>0.970</td>\n",
       "    </tr>\n",
       "    <tr>\n",
       "      <th>129</th>\n",
       "      <td>GradientBoostingClassifier</td>\n",
       "      <td>([DecisionTreeRegressor(criterion='friedman_ms...</td>\n",
       "      <td>0.990</td>\n",
       "      <td>0.990</td>\n",
       "    </tr>\n",
       "    <tr>\n",
       "      <th>130</th>\n",
       "      <td>randomforest</td>\n",
       "      <td>(DecisionTreeClassifier(criterion='entropy', m...</td>\n",
       "      <td>0.950</td>\n",
       "      <td>0.957</td>\n",
       "    </tr>\n",
       "    <tr>\n",
       "      <th>131</th>\n",
       "      <td>GradientBoostingClassifier</td>\n",
       "      <td>([DecisionTreeRegressor(criterion='friedman_ms...</td>\n",
       "      <td>0.994</td>\n",
       "      <td>0.986</td>\n",
       "    </tr>\n",
       "  </tbody>\n",
       "</table>\n",
       "<p>132 rows × 4 columns</p>\n",
       "</div>"
      ],
      "text/plain": [
       "                           algo  \\\n",
       "0                  RandomForest   \n",
       "1    GradientBoostingClassifier   \n",
       "2                  RandomForest   \n",
       "3    GradientBoostingClassifier   \n",
       "4                  RandomForest   \n",
       "..                          ...   \n",
       "127  GradientBoostingClassifier   \n",
       "128                RandomForest   \n",
       "129  GradientBoostingClassifier   \n",
       "130                randomforest   \n",
       "131  GradientBoostingClassifier   \n",
       "\n",
       "                                      model_param_used  accuracy_training  \\\n",
       "0    (DecisionTreeClassifier(max_depth=2, max_featu...              0.880   \n",
       "1    ([DecisionTreeRegressor(criterion='friedman_ms...              0.970   \n",
       "2    (DecisionTreeClassifier(max_depth=3, max_featu...              0.920   \n",
       "3    ([DecisionTreeRegressor(criterion='friedman_ms...              0.980   \n",
       "4    (DecisionTreeClassifier(max_depth=4, max_featu...              0.950   \n",
       "..                                                 ...                ...   \n",
       "127  ([DecisionTreeRegressor(criterion='friedman_ms...              0.990   \n",
       "128  (DecisionTreeClassifier(max_depth=9, max_featu...              0.870   \n",
       "129  ([DecisionTreeRegressor(criterion='friedman_ms...              0.990   \n",
       "130  (DecisionTreeClassifier(criterion='entropy', m...              0.950   \n",
       "131  ([DecisionTreeRegressor(criterion='friedman_ms...              0.994   \n",
       "\n",
       "     accuracy_testing  \n",
       "0               0.970  \n",
       "1               0.980  \n",
       "2               0.970  \n",
       "3               0.980  \n",
       "4               0.970  \n",
       "..                ...  \n",
       "127             0.990  \n",
       "128             0.970  \n",
       "129             0.990  \n",
       "130             0.957  \n",
       "131             0.986  \n",
       "\n",
       "[132 rows x 4 columns]"
      ]
     },
     "execution_count": 22,
     "metadata": {},
     "output_type": "execute_result"
    }
   ],
   "source": [
    "li_dico.append({'algo':'GradientBoostingClassifier', 'model_param_used':mod_final, \n",
    "                'accuracy_training':round(mod_final.score(X_train, y_train),3),\n",
    "                'accuracy_testing':round(mod_final.score(X_test, y_test),3)})\n",
    "pd.DataFrame(li_dico)"
   ]
  },
  {
   "cell_type": "markdown",
   "metadata": {},
   "source": [
    "### BEST MODEL"
   ]
  },
  {
   "cell_type": "code",
   "execution_count": 59,
   "metadata": {},
   "outputs": [
    {
     "name": "stderr",
     "output_type": "stream",
     "text": [
      "C:\\Users\\camil\\Anaconda3\\lib\\site-packages\\sklearn\\utils\\validation.py:72: DataConversionWarning: A column-vector y was passed when a 1d array was expected. Please change the shape of y to (n_samples, ), for example using ravel().\n",
      "  return f(**kwargs)\n"
     ]
    },
    {
     "data": {
      "text/html": [
       "<div>\n",
       "<style scoped>\n",
       "    .dataframe tbody tr th:only-of-type {\n",
       "        vertical-align: middle;\n",
       "    }\n",
       "\n",
       "    .dataframe tbody tr th {\n",
       "        vertical-align: top;\n",
       "    }\n",
       "\n",
       "    .dataframe thead th {\n",
       "        text-align: right;\n",
       "    }\n",
       "</style>\n",
       "<table border=\"1\" class=\"dataframe\">\n",
       "  <thead>\n",
       "    <tr style=\"text-align: right;\">\n",
       "      <th></th>\n",
       "      <th>algo</th>\n",
       "      <th>model_param_used</th>\n",
       "      <th>accuracy_training</th>\n",
       "      <th>accuracy_testing</th>\n",
       "    </tr>\n",
       "  </thead>\n",
       "  <tbody>\n",
       "    <tr>\n",
       "      <th>0</th>\n",
       "      <td>GradientBoostingClassifier</td>\n",
       "      <td>([DecisionTreeRegressor(criterion='friedman_ms...</td>\n",
       "      <td>1.0</td>\n",
       "      <td>0.968</td>\n",
       "    </tr>\n",
       "  </tbody>\n",
       "</table>\n",
       "</div>"
      ],
      "text/plain": [
       "                         algo  \\\n",
       "0  GradientBoostingClassifier   \n",
       "\n",
       "                                    model_param_used  accuracy_training  \\\n",
       "0  ([DecisionTreeRegressor(criterion='friedman_ms...                1.0   \n",
       "\n",
       "   accuracy_testing  \n",
       "0             0.968  "
      ]
     },
     "execution_count": 59,
     "metadata": {},
     "output_type": "execute_result"
    }
   ],
   "source": [
    "model = GradientBoostingClassifier(learning_rate=0.15, max_depth=4, max_features=9,\n",
    "                           min_impurity_decrease=0.0001, min_samples_leaf=5,\n",
    "                           min_samples_split=0.1, n_estimators=700)\n",
    "model.fit(X_train, y_train)\n",
    "\n",
    "li_dico.append({'algo':'GradientBoostingClassifier', 'model_param_used':model, \n",
    "                'accuracy_training':round(model.score(X_train, y_train),3),\n",
    "                'accuracy_testing':round(model.score(X_test, y_test),3)})\n",
    "pd.DataFrame(li_dico)"
   ]
  },
  {
   "cell_type": "code",
   "execution_count": 60,
   "metadata": {},
   "outputs": [],
   "source": [
    "#TODO: INTERPRET EACH OF THE CHOOSEN FINAL PARAMETERS VALUES"
   ]
  },
  {
   "cell_type": "markdown",
   "metadata": {},
   "source": [
    "# Feature importance"
   ]
  },
  {
   "cell_type": "markdown",
   "metadata": {},
   "source": [
    "attention to good for categorical variable and RF\n",
    "REad about this when knowing the final algo!!!"
   ]
  },
  {
   "cell_type": "markdown",
   "metadata": {},
   "source": [
    "#plot feature importance: Fscore!\n",
    "plot_importance(model)\n",
    "plt.show()"
   ]
  },
  {
   "cell_type": "code",
   "execution_count": 61,
   "metadata": {},
   "outputs": [
    {
     "data": {
      "image/png": "[encoded data removed]",
      "text/plain": [
       "<Figure size 216x504 with 1 Axes>"
      ]
     },
     "metadata": {
      "needs_background": "light"
     },
     "output_type": "display_data"
    }
   ],
   "source": [
    "feature_importance = model.feature_importances_\n",
    "# make importances relative to max importance\n",
    "#feature_importance = 100.0 * (feature_importance / feature_importance.max())\n",
    "dico_f_imp = {var_name[i]:feature_importance[i] for i in range(0,len(var_name))}\n",
    "#display(dico_f_imp)\n",
    "dico_fg_imp = {x.split('_')[0]:sum([dico_f_imp[i] for i in dico_f_imp.keys() if i.split('_')[0]==x.split('_')[0]]) for x in dico_f_imp.keys()}\n",
    "#display(dico_fg_imp)\n",
    "#sort the dictionary by the importance values\n",
    "dico_fg_imp_sorted = {k: v for k, v in sorted(dico_fg_imp.items(), key=lambda item: item[1])}\n",
    "plt.figure(figsize=(3, 7))\n",
    "pos = [i+0.5 for i in range(0,len(dico_fg_imp))]\n",
    "plt.barh(pos, dico_fg_imp_sorted.values(), align='center')\n",
    "plt.yticks(pos, dico_fg_imp_sorted.keys())\n",
    "plt.xlabel('Relative Importance')\n",
    "plt.title('Variable Importance')\n",
    "plt.savefig(os.path.join(path_extracted_data_cleaning,'FeaturesImportance.png'), bbox_inches='tight')\n",
    "plt.show()"
   ]
  },
  {
   "cell_type": "markdown",
   "metadata": {},
   "source": [
    "# Relevance on TESTING DATA"
   ]
  },
  {
   "cell_type": "raw",
   "metadata": {},
   "source": [
    "read for evaluation measures: \n",
    "https://towardsdatascience.com/how-to-evaluate-your-machine-learning-models-with-python-code-5f8d2d8d945b\n",
    "https://scikit-learn.org/stable/modules/generated/sklearn.metrics.cohen_kappa_score.html\n",
    "cohen_kappa_score(y_test, predictions, weights = \"quadratic\")"
   ]
  },
  {
   "cell_type": "code",
   "execution_count": 62,
   "metadata": {},
   "outputs": [],
   "source": [
    "#extend the batch until the end baches, to take this into account for duration reliability\n",
    "dico_BatchID_endhour = {'ID1':16,\n",
    "                        'ID2':16,\n",
    "                        'ID3':16,\n",
    "                        'ID5':13,\n",
    "                        'ID8':12,\n",
    "                        'ID9':12,\n",
    "                        'ID10':16,\n",
    "                        'ID11':12,\n",
    "                        'ID12':16,\n",
    "                        'ID13':13,\n",
    "                        'ID14':16,\n",
    "                        'ID17':12,\n",
    "                        'ID22':10,\n",
    "                        'ID23':14,\n",
    "                        'ID25':10,\n",
    "                        'ID27':14,\n",
    "                        'ID28':16,\n",
    "                        'ID30':16,\n",
    "                        'ID31':16,\n",
    "                        'ID32':16,\n",
    "                        'ID37':17}"
   ]
  },
  {
   "cell_type": "code",
   "execution_count": 63,
   "metadata": {},
   "outputs": [],
   "source": [
    "##########################################################################################################\n",
    "################################################ predict #################################################\n",
    "##########################################################################################################\n",
    "#transform categorical data into dumies\n",
    "df_te_d = pd.get_dummies(df_testing.filter(li_cont_select+li_cat_select, axis=1), columns=li_cat_select, drop_first=True)\n",
    "X_test = df_te_d.values\n",
    "#y_test = df_testing[['VideoAnalyse']].values\n",
    "predictions = model.predict(X_test)\n",
    "prediction_proba = model.predict_proba(X_test)\n",
    "df_testing['model_prediction'] = predictions\n",
    "df_testing['model_prediction_proba0'] = [round(x[0],2) for x in prediction_proba]\n",
    "df_testing['model_prediction_proba1'] = [round(x[1],2) for x in prediction_proba]\n",
    "df_testing.groupby(['Zone','model_prediction'])['date'].count().reset_index()\n",
    "#add the zone that would be selected with this algorithm output: if==0, then the true zone is the one before\n",
    "df_testing['model_prediction_init'] = df_testing['model_prediction'].astype(str)\n",
    "df_testing['VideoAnalyse'] = df_testing['VideoAnalyse'].astype(str)\n",
    "df_testing['model_ObservedZone'] = df_testing.apply(lambda x: x['Zone'] if x['model_prediction_init']=='1' else x['previous1zone'],\n",
    "                                                    axis=1)\n",
    "df_testing['tracking_prediction'] = 1\n",
    "#save\n",
    "df_testing.to_csv(os.path.join(path_extracted_data_cleaning, id_run+'_TestingMethods.csv'), \n",
    "                      index=False, sep=';')\n",
    "#display(df_testing.head(3))"
   ]
  },
  {
   "cell_type": "code",
   "execution_count": 64,
   "metadata": {},
   "outputs": [
    {
     "data": {
      "text/html": [
       "<div>\n",
       "<style scoped>\n",
       "    .dataframe tbody tr th:only-of-type {\n",
       "        vertical-align: middle;\n",
       "    }\n",
       "\n",
       "    .dataframe tbody tr th {\n",
       "        vertical-align: top;\n",
       "    }\n",
       "\n",
       "    .dataframe thead th {\n",
       "        text-align: right;\n",
       "    }\n",
       "</style>\n",
       "<table border=\"1\" class=\"dataframe\">\n",
       "  <thead>\n",
       "    <tr style=\"text-align: right;\">\n",
       "      <th></th>\n",
       "      <th>VideoAnalyse</th>\n",
       "      <th>model_prediction_init</th>\n",
       "      <th>model_prediction_proba0</th>\n",
       "      <th>model_prediction_proba1</th>\n",
       "      <th>is_correct4plot</th>\n",
       "    </tr>\n",
       "  </thead>\n",
       "  <tbody>\n",
       "    <tr>\n",
       "      <th>3198</th>\n",
       "      <td>1</td>\n",
       "      <td>1</td>\n",
       "      <td>0.00</td>\n",
       "      <td>1.00</td>\n",
       "      <td>True</td>\n",
       "    </tr>\n",
       "    <tr>\n",
       "      <th>3551</th>\n",
       "      <td>1</td>\n",
       "      <td>1</td>\n",
       "      <td>0.28</td>\n",
       "      <td>0.72</td>\n",
       "      <td>True</td>\n",
       "    </tr>\n",
       "    <tr>\n",
       "      <th>3429</th>\n",
       "      <td>1</td>\n",
       "      <td>1</td>\n",
       "      <td>0.00</td>\n",
       "      <td>1.00</td>\n",
       "      <td>True</td>\n",
       "    </tr>\n",
       "  </tbody>\n",
       "</table>\n",
       "</div>"
      ],
      "text/plain": [
       "     VideoAnalyse model_prediction_init  model_prediction_proba0  \\\n",
       "3198            1                     1                     0.00   \n",
       "3551            1                     1                     0.28   \n",
       "3429            1                     1                     0.00   \n",
       "\n",
       "      model_prediction_proba1  is_correct4plot  \n",
       "3198                     1.00             True  \n",
       "3551                     0.72             True  \n",
       "3429                     1.00             True  "
      ]
     },
     "metadata": {},
     "output_type": "display_data"
    },
    {
     "data": {
      "text/html": [
       "<div>\n",
       "<style scoped>\n",
       "    .dataframe tbody tr th:only-of-type {\n",
       "        vertical-align: middle;\n",
       "    }\n",
       "\n",
       "    .dataframe tbody tr th {\n",
       "        vertical-align: top;\n",
       "    }\n",
       "\n",
       "    .dataframe thead th {\n",
       "        text-align: right;\n",
       "    }\n",
       "</style>\n",
       "<table border=\"1\" class=\"dataframe\">\n",
       "  <thead>\n",
       "    <tr style=\"text-align: right;\">\n",
       "      <th></th>\n",
       "      <th>is_correct4plot</th>\n",
       "      <th>VideoAnalyse</th>\n",
       "      <th>model_prediction_proba0</th>\n",
       "      <th>model_prediction_proba1</th>\n",
       "    </tr>\n",
       "  </thead>\n",
       "  <tbody>\n",
       "    <tr>\n",
       "      <th>0</th>\n",
       "      <td>False</td>\n",
       "      <td>0</td>\n",
       "      <td>0.13</td>\n",
       "      <td>0.87</td>\n",
       "    </tr>\n",
       "    <tr>\n",
       "      <th>1</th>\n",
       "      <td>False</td>\n",
       "      <td>1</td>\n",
       "      <td>0.79</td>\n",
       "      <td>0.21</td>\n",
       "    </tr>\n",
       "    <tr>\n",
       "      <th>2</th>\n",
       "      <td>True</td>\n",
       "      <td>0</td>\n",
       "      <td>1.00</td>\n",
       "      <td>0.00</td>\n",
       "    </tr>\n",
       "    <tr>\n",
       "      <th>3</th>\n",
       "      <td>True</td>\n",
       "      <td>1</td>\n",
       "      <td>0.00</td>\n",
       "      <td>1.00</td>\n",
       "    </tr>\n",
       "  </tbody>\n",
       "</table>\n",
       "</div>"
      ],
      "text/plain": [
       "   is_correct4plot VideoAnalyse  model_prediction_proba0  \\\n",
       "0            False            0                     0.13   \n",
       "1            False            1                     0.79   \n",
       "2             True            0                     1.00   \n",
       "3             True            1                     0.00   \n",
       "\n",
       "   model_prediction_proba1  \n",
       "0                     0.87  \n",
       "1                     0.21  \n",
       "2                     0.00  \n",
       "3                     1.00  "
      ]
     },
     "execution_count": 64,
     "metadata": {},
     "output_type": "execute_result"
    }
   ],
   "source": [
    "#visualise how correct is the prediction compared to the certainty of the algo\n",
    "df_testing['is_correct4plot'] = df_testing.apply(lambda x: x['VideoAnalyse']==x['model_prediction_init'], axis=1)\n",
    "display(df_testing[['VideoAnalyse', 'model_prediction_init', 'model_prediction_proba0', \n",
    "                    'model_prediction_proba1','is_correct4plot']].head(3))\n",
    "df_testing.groupby(['is_correct4plot','VideoAnalyse'])[['model_prediction_init', \n",
    "                                    'model_prediction_proba0', 'model_prediction_proba1']].agg(lambda x: np.median(list(x))).reset_index()"
   ]
  },
  {
   "cell_type": "code",
   "execution_count": 65,
   "metadata": {},
   "outputs": [
    {
     "data": {
      "text/plain": [
       "True     835\n",
       "False     28\n",
       "Name: is_correct4plot, dtype: int64"
      ]
     },
     "metadata": {},
     "output_type": "display_data"
    },
    {
     "data": {
      "text/plain": [
       "True     846\n",
       "False     17\n",
       "Name: is_correct4plot_, dtype: int64"
      ]
     },
     "metadata": {},
     "output_type": "display_data"
    }
   ],
   "source": [
    "#add rule: if max proba is <0.8 then keep correct record. Can be used to comapre the method!!\n",
    "df_testing['model_prediction'] = df_testing.apply(lambda x: '1' if max(x['model_prediction_proba0'],\n",
    "                                                            x['model_prediction_proba1'])<0.8 else x['model_prediction_init'], axis=1)\n",
    "df_testing['is_correct4plot_'] = df_testing.apply(lambda x: x['VideoAnalyse']==x['model_prediction'], axis=1)\n",
    "display(df_testing['is_correct4plot'].value_counts(), df_testing['is_correct4plot_'].value_counts())"
   ]
  },
  {
   "cell_type": "code",
   "execution_count": 66,
   "metadata": {},
   "outputs": [
    {
     "data": {
      "text/plain": [
       "1    821\n",
       "0     42\n",
       "Name: VideoAnalyse, dtype: int64"
      ]
     },
     "execution_count": 66,
     "metadata": {},
     "output_type": "execute_result"
    }
   ],
   "source": [
    "df_testing['VideoAnalyse'].value_counts()"
   ]
  },
  {
   "cell_type": "code",
   "execution_count": 67,
   "metadata": {},
   "outputs": [
    {
     "name": "stderr",
     "output_type": "stream",
     "text": [
      "100%|████████████████████████████████████████████████████████████████████████████████| 15/15 [00:00<00:00, 4949.23it/s]"
     ]
    },
    {
     "name": "stdout",
     "output_type": "stream",
     "text": [
      "[['ID37', 'ID20', 'ID30', 'ID1', 'ID36', 'ID15', 'ID32', 'ID38', 'ID26', 'ID41', 'ID24', 'ID22', 'ID8', 'ID17', 'ID31', 'ID27', 'ID4', 'ID29', 'ID21', 'ID2'], ['ID18', 'ID23', 'ID5', 'ID13', 'ID39', 'ID34', 'ID6', 'ID28', 'ID11', 'ID16', 'ID7', 'ID33', 'ID35', 'ID14', 'ID10', 'ID9', 'ID19', 'ID12', 'ID42', 'ID40']]\n",
      "[['ID16', 'ID30', 'ID32', 'ID40', 'ID33', 'ID17', 'ID24', 'ID23', 'ID31', 'ID3', 'ID26', 'ID9', 'ID6', 'ID14', 'ID36', 'ID25', 'ID29', 'ID13', 'ID10', 'ID4'], ['ID22', 'ID12', 'ID38', 'ID28', 'ID39', 'ID20', 'ID5', 'ID19', 'ID21', 'ID27', 'ID35', 'ID37', 'ID11', 'ID41', 'ID34', 'ID8', 'ID2', 'ID7', 'ID42', 'ID15']]\n"
     ]
    },
    {
     "name": "stderr",
     "output_type": "stream",
     "text": [
      "\n"
     ]
    }
   ],
   "source": [
    "##########################################################################################################\n",
    "################################# select pairs' combinations of batches ##################################\n",
    "##########################################################################################################\n",
    "\n",
    "#number of combination's pair to run for each size\n",
    "nbr_comb = 5\n",
    "#minimum nbr of batches to have in a run\n",
    "min_nbr_batch = 6 #5 is the minimum for transition reliability, so lets have it to be \"6\"\n",
    "#compute all possible batch combinations of any size\n",
    "li_batch = df_testing['BatchID'].unique()\n",
    "\n",
    "#list of distinct pairs of batch combinations of different size\n",
    "li_selected_combination_pairs = []\n",
    "#to have distinct pairs, we cant do more than half of what we have\n",
    "for nbr_batch in tqdm.tqdm(range(min_nbr_batch, int(len(li_batch)/2))):\n",
    "    li_sel = []\n",
    "    while len(li_sel)!=nbr_comb:\n",
    "        li_pair1 = random.sample(list(li_batch), nbr_batch)\n",
    "        li_pair2 = random.sample([x for x in li_batch if x not in li_pair1], nbr_batch) \n",
    "        li_sel.append([li_pair1,li_pair2])\n",
    "    li_selected_combination_pairs.extend(li_sel)\n",
    "#do the one with all batches for final outputs\n",
    "li_selected_combination_pairs.append([tuple(li_batch),tuple(li_batch)])\n",
    "print(li_selected_combination_pairs[-3])\n",
    "print(li_selected_combination_pairs[-2])"
   ]
  },
  {
   "cell_type": "code",
   "execution_count": null,
   "metadata": {},
   "outputs": [
    {
     "name": "stderr",
     "output_type": "stream",
     "text": [
      "  0%|                                                                                           | 0/76 [00:00<?, ?it/s]C:\\Users\\camil\\Anaconda3\\lib\\site-packages\\ipykernel_launcher.py:100: FutureWarning: Indexing with multiple keys (implicitly converted to a tuple of keys) will be deprecated, use a list instead.\n"
     ]
    },
    {
     "name": "stdout",
     "output_type": "stream",
     "text": [
      "(30, 6)\n",
      "(121, 44) (35880, 9) (30, 6)\n"
     ]
    },
    {
     "name": "stderr",
     "output_type": "stream",
     "text": [
      "C:\\Users\\camil\\Anaconda3\\lib\\site-packages\\sklearn\\metrics\\_classification.py:1221: UndefinedMetricWarning: Precision and F-score are ill-defined and being set to 0.0 in labels with no predicted samples. Use `zero_division` parameter to control this behavior.\n",
      "  _warn_prf(average, modifier, msg_start, len(result))\n",
      "C:\\Users\\camil\\Anaconda3\\lib\\site-packages\\pingouin\\parametric.py:978: RuntimeWarning: divide by zero encountered in double_scalars\n",
      "  fval = msbetween / mserror\n",
      "C:\\Users\\camil\\Anaconda3\\lib\\site-packages\\pingouin\\reliability.py:325: RuntimeWarning: divide by zero encountered in double_scalars\n",
      "  f2k = f3k = msb / mse\n",
      "C:\\Users\\camil\\Anaconda3\\lib\\site-packages\\pingouin\\reliability.py:353: RuntimeWarning: invalid value encountered in double_scalars\n",
      "  l3 = (f3l - 1) / (f3l + (k - 1))\n",
      "C:\\Users\\camil\\Anaconda3\\lib\\site-packages\\pingouin\\reliability.py:354: RuntimeWarning: invalid value encountered in double_scalars\n",
      "  u3 = (f3u - 1) / (f3u + (k - 1))\n",
      "C:\\Users\\camil\\Anaconda3\\lib\\site-packages\\pingouin\\reliability.py:356: RuntimeWarning: divide by zero encountered in double_scalars\n",
      "  fj = msj / mse\n",
      "C:\\Users\\camil\\Anaconda3\\lib\\site-packages\\pingouin\\reliability.py:360: RuntimeWarning: invalid value encountered in double_scalars\n",
      "  v = vn / vd\n",
      "C:\\Users\\camil\\Anaconda3\\lib\\site-packages\\ipykernel_launcher.py:100: FutureWarning: Indexing with multiple keys (implicitly converted to a tuple of keys) will be deprecated, use a list instead.\n"
     ]
    },
    {
     "name": "stdout",
     "output_type": "stream",
     "text": [
      "(24, 6)\n",
      "(101, 44) (38220, 9) (24, 6)\n"
     ]
    },
    {
     "name": "stderr",
     "output_type": "stream",
     "text": [
      "C:\\Users\\camil\\Anaconda3\\lib\\site-packages\\sklearn\\metrics\\_classification.py:1221: UndefinedMetricWarning: Recall and F-score are ill-defined and being set to 0.0 in labels with no true samples. Use `zero_division` parameter to control this behavior.\n",
      "  _warn_prf(average, modifier, msg_start, len(result))\n",
      "C:\\Users\\camil\\Anaconda3\\lib\\site-packages\\sklearn\\metrics\\_classification.py:620: RuntimeWarning: invalid value encountered in true_divide\n",
      "  k = np.sum(w_mat * confusion) / np.sum(w_mat * expected)\n",
      "C:\\Users\\camil\\Anaconda3\\lib\\site-packages\\pingouin\\parametric.py:978: RuntimeWarning: divide by zero encountered in double_scalars\n",
      "  fval = msbetween / mserror\n",
      "C:\\Users\\camil\\Anaconda3\\lib\\site-packages\\pingouin\\reliability.py:320: RuntimeWarning: divide by zero encountered in double_scalars\n",
      "  f1k = msb / msw\n",
      "C:\\Users\\camil\\Anaconda3\\lib\\site-packages\\pingouin\\reliability.py:325: RuntimeWarning: divide by zero encountered in double_scalars\n",
      "  f2k = f3k = msb / mse\n",
      "C:\\Users\\camil\\Anaconda3\\lib\\site-packages\\pingouin\\reliability.py:349: RuntimeWarning: invalid value encountered in double_scalars\n",
      "  l1 = (f1l - 1) / (f1l + (k - 1))\n",
      "C:\\Users\\camil\\Anaconda3\\lib\\site-packages\\pingouin\\reliability.py:350: RuntimeWarning: invalid value encountered in double_scalars\n",
      "  u1 = (f1u - 1) / (f1u + (k - 1))\n",
      "C:\\Users\\camil\\Anaconda3\\lib\\site-packages\\pingouin\\reliability.py:353: RuntimeWarning: invalid value encountered in double_scalars\n",
      "  l3 = (f3l - 1) / (f3l + (k - 1))\n",
      "C:\\Users\\camil\\Anaconda3\\lib\\site-packages\\pingouin\\reliability.py:354: RuntimeWarning: invalid value encountered in double_scalars\n",
      "  u3 = (f3u - 1) / (f3u + (k - 1))\n",
      "C:\\Users\\camil\\Anaconda3\\lib\\site-packages\\pingouin\\reliability.py:356: RuntimeWarning: invalid value encountered in double_scalars\n",
      "  fj = msj / mse\n",
      "C:\\Users\\camil\\Anaconda3\\lib\\site-packages\\pingouin\\parametric.py:978: RuntimeWarning: divide by zero encountered in double_scalars\n",
      "  fval = msbetween / mserror\n",
      "C:\\Users\\camil\\Anaconda3\\lib\\site-packages\\pingouin\\reliability.py:320: RuntimeWarning: divide by zero encountered in double_scalars\n",
      "  f1k = msb / msw\n",
      "C:\\Users\\camil\\Anaconda3\\lib\\site-packages\\pingouin\\reliability.py:325: RuntimeWarning: divide by zero encountered in double_scalars\n",
      "  f2k = f3k = msb / mse\n",
      "C:\\Users\\camil\\Anaconda3\\lib\\site-packages\\pingouin\\reliability.py:349: RuntimeWarning: invalid value encountered in double_scalars\n",
      "  l1 = (f1l - 1) / (f1l + (k - 1))\n",
      "C:\\Users\\camil\\Anaconda3\\lib\\site-packages\\pingouin\\reliability.py:350: RuntimeWarning: invalid value encountered in double_scalars\n",
      "  u1 = (f1u - 1) / (f1u + (k - 1))\n",
      "C:\\Users\\camil\\Anaconda3\\lib\\site-packages\\pingouin\\reliability.py:353: RuntimeWarning: invalid value encountered in double_scalars\n",
      "  l3 = (f3l - 1) / (f3l + (k - 1))\n",
      "C:\\Users\\camil\\Anaconda3\\lib\\site-packages\\pingouin\\reliability.py:354: RuntimeWarning: invalid value encountered in double_scalars\n",
      "  u3 = (f3u - 1) / (f3u + (k - 1))\n",
      "C:\\Users\\camil\\Anaconda3\\lib\\site-packages\\pingouin\\reliability.py:356: RuntimeWarning: invalid value encountered in double_scalars\n",
      "  fj = msj / mse\n",
      "C:\\Users\\camil\\Anaconda3\\lib\\site-packages\\pingouin\\parametric.py:978: RuntimeWarning: divide by zero encountered in double_scalars\n",
      "  fval = msbetween / mserror\n",
      "C:\\Users\\camil\\Anaconda3\\lib\\site-packages\\pingouin\\reliability.py:320: RuntimeWarning: divide by zero encountered in double_scalars\n",
      "  f1k = msb / msw\n",
      "C:\\Users\\camil\\Anaconda3\\lib\\site-packages\\pingouin\\reliability.py:325: RuntimeWarning: divide by zero encountered in double_scalars\n",
      "  f2k = f3k = msb / mse\n",
      "C:\\Users\\camil\\Anaconda3\\lib\\site-packages\\pingouin\\reliability.py:349: RuntimeWarning: invalid value encountered in double_scalars\n",
      "  l1 = (f1l - 1) / (f1l + (k - 1))\n",
      "C:\\Users\\camil\\Anaconda3\\lib\\site-packages\\pingouin\\reliability.py:350: RuntimeWarning: invalid value encountered in double_scalars\n",
      "  u1 = (f1u - 1) / (f1u + (k - 1))\n",
      "C:\\Users\\camil\\Anaconda3\\lib\\site-packages\\pingouin\\reliability.py:353: RuntimeWarning: invalid value encountered in double_scalars\n",
      "  l3 = (f3l - 1) / (f3l + (k - 1))\n",
      "C:\\Users\\camil\\Anaconda3\\lib\\site-packages\\pingouin\\reliability.py:354: RuntimeWarning: invalid value encountered in double_scalars\n",
      "  u3 = (f3u - 1) / (f3u + (k - 1))\n",
      "C:\\Users\\camil\\Anaconda3\\lib\\site-packages\\pingouin\\reliability.py:356: RuntimeWarning: invalid value encountered in double_scalars\n",
      "  fj = msj / mse\n",
      "  1%|█                                                                                  | 1/76 [00:40<50:56, 40.76s/it]C:\\Users\\camil\\Anaconda3\\lib\\site-packages\\ipykernel_launcher.py:100: FutureWarning: Indexing with multiple keys (implicitly converted to a tuple of keys) will be deprecated, use a list instead.\n"
     ]
    },
    {
     "name": "stdout",
     "output_type": "stream",
     "text": [
      "(30, 6)\n",
      "(166, 44) (36360, 9) (30, 6)\n"
     ]
    },
    {
     "name": "stderr",
     "output_type": "stream",
     "text": [
      "C:\\Users\\camil\\Anaconda3\\lib\\site-packages\\sklearn\\metrics\\_classification.py:1221: UndefinedMetricWarning: Precision and F-score are ill-defined and being set to 0.0 in labels with no predicted samples. Use `zero_division` parameter to control this behavior.\n",
      "  _warn_prf(average, modifier, msg_start, len(result))\n",
      "C:\\Users\\camil\\Anaconda3\\lib\\site-packages\\ipykernel_launcher.py:100: FutureWarning: Indexing with multiple keys (implicitly converted to a tuple of keys) will be deprecated, use a list instead.\n"
     ]
    },
    {
     "name": "stdout",
     "output_type": "stream",
     "text": [
      "(30, 6)\n",
      "(143, 44) (37200, 9) (30, 6)\n"
     ]
    },
    {
     "name": "stderr",
     "output_type": "stream",
     "text": [
      "C:\\Users\\camil\\Anaconda3\\lib\\site-packages\\sklearn\\metrics\\_classification.py:1221: UndefinedMetricWarning: Precision and F-score are ill-defined and being set to 0.0 in labels with no predicted samples. Use `zero_division` parameter to control this behavior.\n",
      "  _warn_prf(average, modifier, msg_start, len(result))\n",
      "  3%|██▏                                                                                | 2/76 [01:17<48:54, 39.65s/it]C:\\Users\\camil\\Anaconda3\\lib\\site-packages\\ipykernel_launcher.py:100: FutureWarning: Indexing with multiple keys (implicitly converted to a tuple of keys) will be deprecated, use a list instead.\n"
     ]
    },
    {
     "name": "stdout",
     "output_type": "stream",
     "text": [
      "(30, 6)\n",
      "(119, 44) (36780, 9) (30, 6)\n"
     ]
    },
    {
     "name": "stderr",
     "output_type": "stream",
     "text": [
      "C:\\Users\\camil\\Anaconda3\\lib\\site-packages\\sklearn\\metrics\\_classification.py:1221: UndefinedMetricWarning: Precision and F-score are ill-defined and being set to 0.0 in labels with no predicted samples. Use `zero_division` parameter to control this behavior.\n",
      "  _warn_prf(average, modifier, msg_start, len(result))\n",
      "C:\\Users\\camil\\Anaconda3\\lib\\site-packages\\ipykernel_launcher.py:100: FutureWarning: Indexing with multiple keys (implicitly converted to a tuple of keys) will be deprecated, use a list instead.\n"
     ]
    },
    {
     "name": "stdout",
     "output_type": "stream",
     "text": [
      "(30, 6)\n",
      "(89, 44) (34320, 9) (30, 6)\n"
     ]
    },
    {
     "name": "stderr",
     "output_type": "stream",
     "text": [
      "C:\\Users\\camil\\Anaconda3\\lib\\site-packages\\sklearn\\metrics\\_classification.py:1221: UndefinedMetricWarning: Precision and F-score are ill-defined and being set to 0.0 in labels with no predicted samples. Use `zero_division` parameter to control this behavior.\n",
      "  _warn_prf(average, modifier, msg_start, len(result))\n",
      "  4%|███▎                                                                               | 3/76 [01:53<46:48, 38.47s/it]C:\\Users\\camil\\Anaconda3\\lib\\site-packages\\ipykernel_launcher.py:100: FutureWarning: Indexing with multiple keys (implicitly converted to a tuple of keys) will be deprecated, use a list instead.\n"
     ]
    },
    {
     "name": "stdout",
     "output_type": "stream",
     "text": [
      "(30, 6)\n",
      "(96, 44) (31320, 9) (30, 6)\n"
     ]
    },
    {
     "name": "stderr",
     "output_type": "stream",
     "text": [
      "C:\\Users\\camil\\Anaconda3\\lib\\site-packages\\sklearn\\metrics\\_classification.py:1221: UndefinedMetricWarning: Precision and F-score are ill-defined and being set to 0.0 in labels with no predicted samples. Use `zero_division` parameter to control this behavior.\n",
      "  _warn_prf(average, modifier, msg_start, len(result))\n",
      "C:\\Users\\camil\\Anaconda3\\lib\\site-packages\\ipykernel_launcher.py:100: FutureWarning: Indexing with multiple keys (implicitly converted to a tuple of keys) will be deprecated, use a list instead.\n"
     ]
    },
    {
     "name": "stdout",
     "output_type": "stream",
     "text": [
      "(30, 6)\n",
      "(146, 44) (42300, 9) (30, 6)\n"
     ]
    },
    {
     "name": "stderr",
     "output_type": "stream",
     "text": [
      "C:\\Users\\camil\\Anaconda3\\lib\\site-packages\\sklearn\\metrics\\_classification.py:1221: UndefinedMetricWarning: Precision and F-score are ill-defined and being set to 0.0 in labels with no predicted samples. Use `zero_division` parameter to control this behavior.\n",
      "  _warn_prf(average, modifier, msg_start, len(result))\n",
      "  5%|████▎                                                                              | 4/76 [02:30<45:42, 38.09s/it]C:\\Users\\camil\\Anaconda3\\lib\\site-packages\\ipykernel_launcher.py:100: FutureWarning: Indexing with multiple keys (implicitly converted to a tuple of keys) will be deprecated, use a list instead.\n"
     ]
    },
    {
     "name": "stdout",
     "output_type": "stream",
     "text": [
      "(30, 6)\n",
      "(91, 44) (32820, 9) (30, 6)\n"
     ]
    },
    {
     "name": "stderr",
     "output_type": "stream",
     "text": [
      "C:\\Users\\camil\\Anaconda3\\lib\\site-packages\\sklearn\\metrics\\_classification.py:1221: UndefinedMetricWarning: Precision and F-score are ill-defined and being set to 0.0 in labels with no predicted samples. Use `zero_division` parameter to control this behavior.\n",
      "  _warn_prf(average, modifier, msg_start, len(result))\n",
      "C:\\Users\\camil\\Anaconda3\\lib\\site-packages\\pingouin\\parametric.py:978: RuntimeWarning: divide by zero encountered in double_scalars\n",
      "  fval = msbetween / mserror\n",
      "C:\\Users\\camil\\Anaconda3\\lib\\site-packages\\ipykernel_launcher.py:100: FutureWarning: Indexing with multiple keys (implicitly converted to a tuple of keys) will be deprecated, use a list instead.\n"
     ]
    },
    {
     "name": "stdout",
     "output_type": "stream",
     "text": [
      "(30, 6)\n",
      "(105, 44) (34320, 9) (30, 6)\n"
     ]
    },
    {
     "name": "stderr",
     "output_type": "stream",
     "text": [
      "C:\\Users\\camil\\Anaconda3\\lib\\site-packages\\sklearn\\metrics\\_classification.py:1221: UndefinedMetricWarning: Precision and F-score are ill-defined and being set to 0.0 in labels with no predicted samples. Use `zero_division` parameter to control this behavior.\n",
      "  _warn_prf(average, modifier, msg_start, len(result))\n",
      "  7%|█████▍                                                                             | 5/76 [03:35<54:24, 45.97s/it]C:\\Users\\camil\\Anaconda3\\lib\\site-packages\\ipykernel_launcher.py:100: FutureWarning: Indexing with multiple keys (implicitly converted to a tuple of keys) will be deprecated, use a list instead.\n"
     ]
    },
    {
     "name": "stdout",
     "output_type": "stream",
     "text": [
      "(35, 6)\n",
      "(147, 44) (47160, 9) (35, 6)\n"
     ]
    },
    {
     "name": "stderr",
     "output_type": "stream",
     "text": [
      "C:\\Users\\camil\\Anaconda3\\lib\\site-packages\\sklearn\\metrics\\_classification.py:1221: UndefinedMetricWarning: Precision and F-score are ill-defined and being set to 0.0 in labels with no predicted samples. Use `zero_division` parameter to control this behavior.\n",
      "  _warn_prf(average, modifier, msg_start, len(result))\n",
      "C:\\Users\\camil\\Anaconda3\\lib\\site-packages\\pingouin\\parametric.py:978: RuntimeWarning: divide by zero encountered in double_scalars\n",
      "  fval = msbetween / mserror\n",
      "C:\\Users\\camil\\Anaconda3\\lib\\site-packages\\pingouin\\reliability.py:325: RuntimeWarning: divide by zero encountered in double_scalars\n",
      "  f2k = f3k = msb / mse\n",
      "C:\\Users\\camil\\Anaconda3\\lib\\site-packages\\pingouin\\reliability.py:353: RuntimeWarning: invalid value encountered in double_scalars\n",
      "  l3 = (f3l - 1) / (f3l + (k - 1))\n",
      "C:\\Users\\camil\\Anaconda3\\lib\\site-packages\\pingouin\\reliability.py:354: RuntimeWarning: invalid value encountered in double_scalars\n",
      "  u3 = (f3u - 1) / (f3u + (k - 1))\n",
      "C:\\Users\\camil\\Anaconda3\\lib\\site-packages\\pingouin\\reliability.py:356: RuntimeWarning: divide by zero encountered in double_scalars\n",
      "  fj = msj / mse\n",
      "C:\\Users\\camil\\Anaconda3\\lib\\site-packages\\pingouin\\reliability.py:360: RuntimeWarning: invalid value encountered in double_scalars\n",
      "  v = vn / vd\n",
      "C:\\Users\\camil\\Anaconda3\\lib\\site-packages\\ipykernel_launcher.py:100: FutureWarning: Indexing with multiple keys (implicitly converted to a tuple of keys) will be deprecated, use a list instead.\n"
     ]
    },
    {
     "name": "stdout",
     "output_type": "stream",
     "text": [
      "(35, 6)\n",
      "(84, 44) (36180, 9) (35, 6)\n"
     ]
    },
    {
     "name": "stderr",
     "output_type": "stream",
     "text": [
      "C:\\Users\\camil\\Anaconda3\\lib\\site-packages\\sklearn\\metrics\\_classification.py:1221: UndefinedMetricWarning: Precision and F-score are ill-defined and being set to 0.0 in labels with no predicted samples. Use `zero_division` parameter to control this behavior.\n",
      "  _warn_prf(average, modifier, msg_start, len(result))\n",
      "C:\\Users\\camil\\Anaconda3\\lib\\site-packages\\pingouin\\parametric.py:978: RuntimeWarning: divide by zero encountered in double_scalars\n",
      "  fval = msbetween / mserror\n",
      "  8%|██████▌                                                                            | 6/76 [04:24<54:55, 47.07s/it]C:\\Users\\camil\\Anaconda3\\lib\\site-packages\\ipykernel_launcher.py:100: FutureWarning: Indexing with multiple keys (implicitly converted to a tuple of keys) will be deprecated, use a list instead.\n"
     ]
    },
    {
     "name": "stdout",
     "output_type": "stream",
     "text": [
      "(35, 6)\n",
      "(96, 44) (37500, 9) (35, 6)\n"
     ]
    },
    {
     "name": "stderr",
     "output_type": "stream",
     "text": [
      "C:\\Users\\camil\\Anaconda3\\lib\\site-packages\\sklearn\\metrics\\_classification.py:1221: UndefinedMetricWarning: Precision and F-score are ill-defined and being set to 0.0 in labels with no predicted samples. Use `zero_division` parameter to control this behavior.\n",
      "  _warn_prf(average, modifier, msg_start, len(result))\n",
      "C:\\Users\\camil\\Anaconda3\\lib\\site-packages\\ipykernel_launcher.py:100: FutureWarning: Indexing with multiple keys (implicitly converted to a tuple of keys) will be deprecated, use a list instead.\n"
     ]
    },
    {
     "name": "stdout",
     "output_type": "stream",
     "text": [
      "(35, 6)\n",
      "(162, 44) (46020, 9) (35, 6)\n"
     ]
    },
    {
     "name": "stderr",
     "output_type": "stream",
     "text": [
      "C:\\Users\\camil\\Anaconda3\\lib\\site-packages\\sklearn\\metrics\\_classification.py:1221: UndefinedMetricWarning: Precision and F-score are ill-defined and being set to 0.0 in labels with no predicted samples. Use `zero_division` parameter to control this behavior.\n",
      "  _warn_prf(average, modifier, msg_start, len(result))\n",
      "  9%|███████▋                                                                           | 7/76 [05:24<58:31, 50.90s/it]C:\\Users\\camil\\Anaconda3\\lib\\site-packages\\ipykernel_launcher.py:100: FutureWarning: Indexing with multiple keys (implicitly converted to a tuple of keys) will be deprecated, use a list instead.\n"
     ]
    },
    {
     "name": "stdout",
     "output_type": "stream",
     "text": [
      "(35, 6)\n",
      "(149, 44) (47040, 9) (35, 6)\n"
     ]
    },
    {
     "name": "stderr",
     "output_type": "stream",
     "text": [
      "C:\\Users\\camil\\Anaconda3\\lib\\site-packages\\sklearn\\metrics\\_classification.py:1221: UndefinedMetricWarning: Precision and F-score are ill-defined and being set to 0.0 in labels with no predicted samples. Use `zero_division` parameter to control this behavior.\n",
      "  _warn_prf(average, modifier, msg_start, len(result))\n",
      "C:\\Users\\camil\\Anaconda3\\lib\\site-packages\\ipykernel_launcher.py:100: FutureWarning: Indexing with multiple keys (implicitly converted to a tuple of keys) will be deprecated, use a list instead.\n"
     ]
    },
    {
     "name": "stdout",
     "output_type": "stream",
     "text": [
      "(28, 6)\n",
      "(177, 44) (38400, 9) (28, 6)\n"
     ]
    },
    {
     "name": "stderr",
     "output_type": "stream",
     "text": [
      "C:\\Users\\camil\\Anaconda3\\lib\\site-packages\\sklearn\\metrics\\_classification.py:1221: UndefinedMetricWarning: Precision and F-score are ill-defined and being set to 0.0 in labels with no predicted samples. Use `zero_division` parameter to control this behavior.\n",
      "  _warn_prf(average, modifier, msg_start, len(result))\n",
      " 11%|████████▋                                                                          | 8/76 [06:17<58:18, 51.46s/it]C:\\Users\\camil\\Anaconda3\\lib\\site-packages\\ipykernel_launcher.py:100: FutureWarning: Indexing with multiple keys (implicitly converted to a tuple of keys) will be deprecated, use a list instead.\n"
     ]
    },
    {
     "name": "stdout",
     "output_type": "stream",
     "text": [
      "(35, 6)\n",
      "(145, 44) (42060, 9) (35, 6)\n"
     ]
    },
    {
     "name": "stderr",
     "output_type": "stream",
     "text": [
      "C:\\Users\\camil\\Anaconda3\\lib\\site-packages\\sklearn\\metrics\\_classification.py:1221: UndefinedMetricWarning: Precision and F-score are ill-defined and being set to 0.0 in labels with no predicted samples. Use `zero_division` parameter to control this behavior.\n",
      "  _warn_prf(average, modifier, msg_start, len(result))\n",
      "C:\\Users\\camil\\Anaconda3\\lib\\site-packages\\ipykernel_launcher.py:100: FutureWarning: Indexing with multiple keys (implicitly converted to a tuple of keys) will be deprecated, use a list instead.\n"
     ]
    },
    {
     "name": "stdout",
     "output_type": "stream",
     "text": [
      "(35, 6)\n",
      "(167, 44) (45060, 9) (35, 6)\n"
     ]
    },
    {
     "name": "stderr",
     "output_type": "stream",
     "text": [
      "C:\\Users\\camil\\Anaconda3\\lib\\site-packages\\sklearn\\metrics\\_classification.py:1221: UndefinedMetricWarning: Precision and F-score are ill-defined and being set to 0.0 in labels with no predicted samples. Use `zero_division` parameter to control this behavior.\n",
      "  _warn_prf(average, modifier, msg_start, len(result))\n",
      " 12%|█████████▊                                                                         | 9/76 [07:04<56:00, 50.16s/it]C:\\Users\\camil\\Anaconda3\\lib\\site-packages\\ipykernel_launcher.py:100: FutureWarning: Indexing with multiple keys (implicitly converted to a tuple of keys) will be deprecated, use a list instead.\n"
     ]
    },
    {
     "name": "stdout",
     "output_type": "stream",
     "text": [
      "(35, 6)\n",
      "(176, 44) (41880, 9) (35, 6)\n"
     ]
    },
    {
     "name": "stderr",
     "output_type": "stream",
     "text": [
      "C:\\Users\\camil\\Anaconda3\\lib\\site-packages\\sklearn\\metrics\\_classification.py:1221: UndefinedMetricWarning: Precision and F-score are ill-defined and being set to 0.0 in labels with no predicted samples. Use `zero_division` parameter to control this behavior.\n",
      "  _warn_prf(average, modifier, msg_start, len(result))\n",
      "C:\\Users\\camil\\Anaconda3\\lib\\site-packages\\ipykernel_launcher.py:100: FutureWarning: Indexing with multiple keys (implicitly converted to a tuple of keys) will be deprecated, use a list instead.\n"
     ]
    },
    {
     "name": "stdout",
     "output_type": "stream",
     "text": [
      "(35, 6)\n",
      "(126, 44) (42000, 9) (35, 6)\n"
     ]
    },
    {
     "name": "stderr",
     "output_type": "stream",
     "text": [
      "C:\\Users\\camil\\Anaconda3\\lib\\site-packages\\sklearn\\metrics\\_classification.py:1221: UndefinedMetricWarning: Precision and F-score are ill-defined and being set to 0.0 in labels with no predicted samples. Use `zero_division` parameter to control this behavior.\n",
      "  _warn_prf(average, modifier, msg_start, len(result))\n",
      " 13%|██████████▊                                                                       | 10/76 [07:49<53:35, 48.72s/it]C:\\Users\\camil\\Anaconda3\\lib\\site-packages\\ipykernel_launcher.py:100: FutureWarning: Indexing with multiple keys (implicitly converted to a tuple of keys) will be deprecated, use a list instead.\n"
     ]
    },
    {
     "name": "stdout",
     "output_type": "stream",
     "text": [
      "(40, 6)\n",
      "(142, 44) (50580, 9) (40, 6)\n"
     ]
    },
    {
     "name": "stderr",
     "output_type": "stream",
     "text": [
      "C:\\Users\\camil\\Anaconda3\\lib\\site-packages\\sklearn\\metrics\\_classification.py:1221: UndefinedMetricWarning: Precision and F-score are ill-defined and being set to 0.0 in labels with no predicted samples. Use `zero_division` parameter to control this behavior.\n",
      "  _warn_prf(average, modifier, msg_start, len(result))\n",
      "C:\\Users\\camil\\Anaconda3\\lib\\site-packages\\pingouin\\parametric.py:978: RuntimeWarning: divide by zero encountered in double_scalars\n",
      "  fval = msbetween / mserror\n",
      "C:\\Users\\camil\\Anaconda3\\lib\\site-packages\\pingouin\\reliability.py:325: RuntimeWarning: divide by zero encountered in double_scalars\n",
      "  f2k = f3k = msb / mse\n",
      "C:\\Users\\camil\\Anaconda3\\lib\\site-packages\\pingouin\\reliability.py:353: RuntimeWarning: invalid value encountered in double_scalars\n",
      "  l3 = (f3l - 1) / (f3l + (k - 1))\n",
      "C:\\Users\\camil\\Anaconda3\\lib\\site-packages\\pingouin\\reliability.py:354: RuntimeWarning: invalid value encountered in double_scalars\n",
      "  u3 = (f3u - 1) / (f3u + (k - 1))\n",
      "C:\\Users\\camil\\Anaconda3\\lib\\site-packages\\pingouin\\reliability.py:356: RuntimeWarning: divide by zero encountered in double_scalars\n",
      "  fj = msj / mse\n",
      "C:\\Users\\camil\\Anaconda3\\lib\\site-packages\\pingouin\\reliability.py:360: RuntimeWarning: invalid value encountered in double_scalars\n",
      "  v = vn / vd\n",
      "C:\\Users\\camil\\Anaconda3\\lib\\site-packages\\ipykernel_launcher.py:100: FutureWarning: Indexing with multiple keys (implicitly converted to a tuple of keys) will be deprecated, use a list instead.\n"
     ]
    },
    {
     "name": "stdout",
     "output_type": "stream",
     "text": [
      "(40, 6)\n",
      "(112, 44) (50820, 9) (40, 6)\n"
     ]
    },
    {
     "name": "stderr",
     "output_type": "stream",
     "text": [
      "C:\\Users\\camil\\Anaconda3\\lib\\site-packages\\sklearn\\metrics\\_classification.py:1221: UndefinedMetricWarning: Precision and F-score are ill-defined and being set to 0.0 in labels with no predicted samples. Use `zero_division` parameter to control this behavior.\n",
      "  _warn_prf(average, modifier, msg_start, len(result))\n",
      " 14%|███████████▊                                                                      | 11/76 [08:42<54:01, 49.86s/it]C:\\Users\\camil\\Anaconda3\\lib\\site-packages\\ipykernel_launcher.py:100: FutureWarning: Indexing with multiple keys (implicitly converted to a tuple of keys) will be deprecated, use a list instead.\n"
     ]
    },
    {
     "name": "stdout",
     "output_type": "stream",
     "text": [
      "(40, 6)\n",
      "(189, 44) (52980, 9) (40, 6)\n"
     ]
    },
    {
     "name": "stderr",
     "output_type": "stream",
     "text": [
      "C:\\Users\\camil\\Anaconda3\\lib\\site-packages\\sklearn\\metrics\\_classification.py:1221: UndefinedMetricWarning: Precision and F-score are ill-defined and being set to 0.0 in labels with no predicted samples. Use `zero_division` parameter to control this behavior.\n",
      "  _warn_prf(average, modifier, msg_start, len(result))\n",
      "C:\\Users\\camil\\Anaconda3\\lib\\site-packages\\ipykernel_launcher.py:100: FutureWarning: Indexing with multiple keys (implicitly converted to a tuple of keys) will be deprecated, use a list instead.\n"
     ]
    },
    {
     "name": "stdout",
     "output_type": "stream",
     "text": [
      "(40, 6)\n",
      "(179, 44) (55260, 9) (40, 6)\n"
     ]
    },
    {
     "name": "stderr",
     "output_type": "stream",
     "text": [
      "C:\\Users\\camil\\Anaconda3\\lib\\site-packages\\sklearn\\metrics\\_classification.py:1221: UndefinedMetricWarning: Precision and F-score are ill-defined and being set to 0.0 in labels with no predicted samples. Use `zero_division` parameter to control this behavior.\n",
      "  _warn_prf(average, modifier, msg_start, len(result))\n",
      "C:\\Users\\camil\\Anaconda3\\lib\\site-packages\\pingouin\\parametric.py:978: RuntimeWarning: divide by zero encountered in double_scalars\n",
      "  fval = msbetween / mserror\n",
      "C:\\Users\\camil\\Anaconda3\\lib\\site-packages\\pingouin\\reliability.py:325: RuntimeWarning: divide by zero encountered in double_scalars\n",
      "  f2k = f3k = msb / mse\n",
      "C:\\Users\\camil\\Anaconda3\\lib\\site-packages\\pingouin\\reliability.py:353: RuntimeWarning: invalid value encountered in double_scalars\n",
      "  l3 = (f3l - 1) / (f3l + (k - 1))\n",
      "C:\\Users\\camil\\Anaconda3\\lib\\site-packages\\pingouin\\reliability.py:354: RuntimeWarning: invalid value encountered in double_scalars\n",
      "  u3 = (f3u - 1) / (f3u + (k - 1))\n",
      "C:\\Users\\camil\\Anaconda3\\lib\\site-packages\\pingouin\\reliability.py:356: RuntimeWarning: divide by zero encountered in double_scalars\n",
      "  fj = msj / mse\n",
      "C:\\Users\\camil\\Anaconda3\\lib\\site-packages\\pingouin\\reliability.py:360: RuntimeWarning: invalid value encountered in double_scalars\n",
      "  v = vn / vd\n",
      " 16%|████████████▉                                                                     | 12/76 [09:43<56:53, 53.34s/it]C:\\Users\\camil\\Anaconda3\\lib\\site-packages\\ipykernel_launcher.py:100: FutureWarning: Indexing with multiple keys (implicitly converted to a tuple of keys) will be deprecated, use a list instead.\n"
     ]
    },
    {
     "name": "stdout",
     "output_type": "stream",
     "text": [
      "(40, 6)\n",
      "(121, 44) (49140, 9) (40, 6)\n"
     ]
    },
    {
     "name": "stderr",
     "output_type": "stream",
     "text": [
      "C:\\Users\\camil\\Anaconda3\\lib\\site-packages\\sklearn\\metrics\\_classification.py:1221: UndefinedMetricWarning: Precision and F-score are ill-defined and being set to 0.0 in labels with no predicted samples. Use `zero_division` parameter to control this behavior.\n",
      "  _warn_prf(average, modifier, msg_start, len(result))\n",
      "C:\\Users\\camil\\Anaconda3\\lib\\site-packages\\pingouin\\parametric.py:978: RuntimeWarning: divide by zero encountered in double_scalars\n",
      "  fval = msbetween / mserror\n",
      "C:\\Users\\camil\\Anaconda3\\lib\\site-packages\\pingouin\\reliability.py:320: RuntimeWarning: divide by zero encountered in double_scalars\n",
      "  f1k = msb / msw\n",
      "C:\\Users\\camil\\Anaconda3\\lib\\site-packages\\pingouin\\reliability.py:325: RuntimeWarning: divide by zero encountered in double_scalars\n",
      "  f2k = f3k = msb / mse\n",
      "C:\\Users\\camil\\Anaconda3\\lib\\site-packages\\pingouin\\reliability.py:349: RuntimeWarning: invalid value encountered in double_scalars\n",
      "  l1 = (f1l - 1) / (f1l + (k - 1))\n",
      "C:\\Users\\camil\\Anaconda3\\lib\\site-packages\\pingouin\\reliability.py:350: RuntimeWarning: invalid value encountered in double_scalars\n",
      "  u1 = (f1u - 1) / (f1u + (k - 1))\n",
      "C:\\Users\\camil\\Anaconda3\\lib\\site-packages\\pingouin\\reliability.py:353: RuntimeWarning: invalid value encountered in double_scalars\n",
      "  l3 = (f3l - 1) / (f3l + (k - 1))\n",
      "C:\\Users\\camil\\Anaconda3\\lib\\site-packages\\pingouin\\reliability.py:354: RuntimeWarning: invalid value encountered in double_scalars\n",
      "  u3 = (f3u - 1) / (f3u + (k - 1))\n",
      "C:\\Users\\camil\\Anaconda3\\lib\\site-packages\\pingouin\\reliability.py:356: RuntimeWarning: invalid value encountered in double_scalars\n",
      "  fj = msj / mse\n",
      "C:\\Users\\camil\\Anaconda3\\lib\\site-packages\\ipykernel_launcher.py:100: FutureWarning: Indexing with multiple keys (implicitly converted to a tuple of keys) will be deprecated, use a list instead.\n"
     ]
    },
    {
     "name": "stdout",
     "output_type": "stream",
     "text": [
      "(40, 6)\n",
      "(184, 44) (52860, 9) (40, 6)\n"
     ]
    },
    {
     "name": "stderr",
     "output_type": "stream",
     "text": [
      "C:\\Users\\camil\\Anaconda3\\lib\\site-packages\\sklearn\\metrics\\_classification.py:1221: UndefinedMetricWarning: Precision and F-score are ill-defined and being set to 0.0 in labels with no predicted samples. Use `zero_division` parameter to control this behavior.\n",
      "  _warn_prf(average, modifier, msg_start, len(result))\n",
      " 17%|██████████████                                                                    | 13/76 [10:34<55:15, 52.63s/it]C:\\Users\\camil\\Anaconda3\\lib\\site-packages\\ipykernel_launcher.py:100: FutureWarning: Indexing with multiple keys (implicitly converted to a tuple of keys) will be deprecated, use a list instead.\n"
     ]
    },
    {
     "name": "stdout",
     "output_type": "stream",
     "text": [
      "(32, 6)\n",
      "(127, 44) (47580, 9) (32, 6)\n"
     ]
    },
    {
     "name": "stderr",
     "output_type": "stream",
     "text": [
      "C:\\Users\\camil\\Anaconda3\\lib\\site-packages\\sklearn\\metrics\\_classification.py:1221: UndefinedMetricWarning: Precision and F-score are ill-defined and being set to 0.0 in labels with no predicted samples. Use `zero_division` parameter to control this behavior.\n",
      "  _warn_prf(average, modifier, msg_start, len(result))\n",
      "C:\\Users\\camil\\Anaconda3\\lib\\site-packages\\pingouin\\parametric.py:978: RuntimeWarning: divide by zero encountered in double_scalars\n",
      "  fval = msbetween / mserror\n",
      "C:\\Users\\camil\\Anaconda3\\lib\\site-packages\\pingouin\\reliability.py:320: RuntimeWarning: divide by zero encountered in double_scalars\n",
      "  f1k = msb / msw\n",
      "C:\\Users\\camil\\Anaconda3\\lib\\site-packages\\pingouin\\reliability.py:325: RuntimeWarning: divide by zero encountered in double_scalars\n",
      "  f2k = f3k = msb / mse\n",
      "C:\\Users\\camil\\Anaconda3\\lib\\site-packages\\pingouin\\reliability.py:349: RuntimeWarning: invalid value encountered in double_scalars\n",
      "  l1 = (f1l - 1) / (f1l + (k - 1))\n",
      "C:\\Users\\camil\\Anaconda3\\lib\\site-packages\\pingouin\\reliability.py:350: RuntimeWarning: invalid value encountered in double_scalars\n",
      "  u1 = (f1u - 1) / (f1u + (k - 1))\n",
      "C:\\Users\\camil\\Anaconda3\\lib\\site-packages\\pingouin\\reliability.py:353: RuntimeWarning: invalid value encountered in double_scalars\n",
      "  l3 = (f3l - 1) / (f3l + (k - 1))\n",
      "C:\\Users\\camil\\Anaconda3\\lib\\site-packages\\pingouin\\reliability.py:354: RuntimeWarning: invalid value encountered in double_scalars\n",
      "  u3 = (f3u - 1) / (f3u + (k - 1))\n",
      "C:\\Users\\camil\\Anaconda3\\lib\\site-packages\\pingouin\\reliability.py:356: RuntimeWarning: invalid value encountered in double_scalars\n",
      "  fj = msj / mse\n",
      "C:\\Users\\camil\\Anaconda3\\lib\\site-packages\\ipykernel_launcher.py:100: FutureWarning: Indexing with multiple keys (implicitly converted to a tuple of keys) will be deprecated, use a list instead.\n"
     ]
    },
    {
     "name": "stdout",
     "output_type": "stream",
     "text": [
      "(40, 6)\n",
      "(167, 44) (52380, 9) (40, 6)\n"
     ]
    },
    {
     "name": "stderr",
     "output_type": "stream",
     "text": [
      "C:\\Users\\camil\\Anaconda3\\lib\\site-packages\\sklearn\\metrics\\_classification.py:1221: UndefinedMetricWarning: Precision and F-score are ill-defined and being set to 0.0 in labels with no predicted samples. Use `zero_division` parameter to control this behavior.\n",
      "  _warn_prf(average, modifier, msg_start, len(result))\n",
      " 18%|███████████████                                                                   | 14/76 [11:28<54:43, 52.96s/it]C:\\Users\\camil\\Anaconda3\\lib\\site-packages\\ipykernel_launcher.py:100: FutureWarning: Indexing with multiple keys (implicitly converted to a tuple of keys) will be deprecated, use a list instead.\n"
     ]
    },
    {
     "name": "stdout",
     "output_type": "stream",
     "text": [
      "(40, 6)\n",
      "(146, 44) (50940, 9) (40, 6)\n"
     ]
    },
    {
     "name": "stderr",
     "output_type": "stream",
     "text": [
      "C:\\Users\\camil\\Anaconda3\\lib\\site-packages\\sklearn\\metrics\\_classification.py:1221: UndefinedMetricWarning: Precision and F-score are ill-defined and being set to 0.0 in labels with no predicted samples. Use `zero_division` parameter to control this behavior.\n",
      "  _warn_prf(average, modifier, msg_start, len(result))\n",
      "C:\\Users\\camil\\Anaconda3\\lib\\site-packages\\ipykernel_launcher.py:100: FutureWarning: Indexing with multiple keys (implicitly converted to a tuple of keys) will be deprecated, use a list instead.\n"
     ]
    },
    {
     "name": "stdout",
     "output_type": "stream",
     "text": [
      "(40, 6)\n",
      "(151, 44) (53220, 9) (40, 6)\n"
     ]
    },
    {
     "name": "stderr",
     "output_type": "stream",
     "text": [
      "C:\\Users\\camil\\Anaconda3\\lib\\site-packages\\sklearn\\metrics\\_classification.py:1221: UndefinedMetricWarning: Precision and F-score are ill-defined and being set to 0.0 in labels with no predicted samples. Use `zero_division` parameter to control this behavior.\n",
      "  _warn_prf(average, modifier, msg_start, len(result))\n",
      " 20%|████████████████▏                                                                 | 15/76 [12:27<55:32, 54.63s/it]C:\\Users\\camil\\Anaconda3\\lib\\site-packages\\ipykernel_launcher.py:100: FutureWarning: Indexing with multiple keys (implicitly converted to a tuple of keys) will be deprecated, use a list instead.\n"
     ]
    },
    {
     "name": "stdout",
     "output_type": "stream",
     "text": [
      "(45, 6)\n",
      "(179, 44) (58740, 9) (45, 6)\n"
     ]
    },
    {
     "name": "stderr",
     "output_type": "stream",
     "text": [
      "C:\\Users\\camil\\Anaconda3\\lib\\site-packages\\sklearn\\metrics\\_classification.py:1221: UndefinedMetricWarning: Precision and F-score are ill-defined and being set to 0.0 in labels with no predicted samples. Use `zero_division` parameter to control this behavior.\n",
      "  _warn_prf(average, modifier, msg_start, len(result))\n",
      "C:\\Users\\camil\\Anaconda3\\lib\\site-packages\\ipykernel_launcher.py:100: FutureWarning: Indexing with multiple keys (implicitly converted to a tuple of keys) will be deprecated, use a list instead.\n"
     ]
    },
    {
     "name": "stdout",
     "output_type": "stream",
     "text": [
      "(45, 6)\n",
      "(208, 44) (56760, 9) (45, 6)\n"
     ]
    },
    {
     "name": "stderr",
     "output_type": "stream",
     "text": [
      "C:\\Users\\camil\\Anaconda3\\lib\\site-packages\\sklearn\\metrics\\_classification.py:1221: UndefinedMetricWarning: Precision and F-score are ill-defined and being set to 0.0 in labels with no predicted samples. Use `zero_division` parameter to control this behavior.\n",
      "  _warn_prf(average, modifier, msg_start, len(result))\n",
      " 21%|█████████████████▎                                                                | 16/76 [13:29<56:52, 56.88s/it]C:\\Users\\camil\\Anaconda3\\lib\\site-packages\\ipykernel_launcher.py:100: FutureWarning: Indexing with multiple keys (implicitly converted to a tuple of keys) will be deprecated, use a list instead.\n"
     ]
    },
    {
     "name": "stdout",
     "output_type": "stream",
     "text": [
      "(45, 6)\n",
      "(141, 44) (48480, 9) (45, 6)\n"
     ]
    },
    {
     "name": "stderr",
     "output_type": "stream",
     "text": [
      "C:\\Users\\camil\\Anaconda3\\lib\\site-packages\\sklearn\\metrics\\_classification.py:1221: UndefinedMetricWarning: Precision and F-score are ill-defined and being set to 0.0 in labels with no predicted samples. Use `zero_division` parameter to control this behavior.\n",
      "  _warn_prf(average, modifier, msg_start, len(result))\n",
      "C:\\Users\\camil\\Anaconda3\\lib\\site-packages\\ipykernel_launcher.py:100: FutureWarning: Indexing with multiple keys (implicitly converted to a tuple of keys) will be deprecated, use a list instead.\n"
     ]
    },
    {
     "name": "stdout",
     "output_type": "stream",
     "text": [
      "(45, 6)\n",
      "(212, 44) (61440, 9) (45, 6)\n"
     ]
    },
    {
     "name": "stderr",
     "output_type": "stream",
     "text": [
      "C:\\Users\\camil\\Anaconda3\\lib\\site-packages\\sklearn\\metrics\\_classification.py:1221: UndefinedMetricWarning: Precision and F-score are ill-defined and being set to 0.0 in labels with no predicted samples. Use `zero_division` parameter to control this behavior.\n",
      "  _warn_prf(average, modifier, msg_start, len(result))\n",
      " 22%|██████████████████▎                                                               | 17/76 [14:38<59:36, 60.61s/it]C:\\Users\\camil\\Anaconda3\\lib\\site-packages\\ipykernel_launcher.py:100: FutureWarning: Indexing with multiple keys (implicitly converted to a tuple of keys) will be deprecated, use a list instead.\n"
     ]
    },
    {
     "name": "stdout",
     "output_type": "stream",
     "text": [
      "(45, 6)\n",
      "(186, 44) (62940, 9) (45, 6)\n"
     ]
    },
    {
     "name": "stderr",
     "output_type": "stream",
     "text": [
      "C:\\Users\\camil\\Anaconda3\\lib\\site-packages\\sklearn\\metrics\\_classification.py:1221: UndefinedMetricWarning: Precision and F-score are ill-defined and being set to 0.0 in labels with no predicted samples. Use `zero_division` parameter to control this behavior.\n",
      "  _warn_prf(average, modifier, msg_start, len(result))\n",
      "C:\\Users\\camil\\Anaconda3\\lib\\site-packages\\ipykernel_launcher.py:100: FutureWarning: Indexing with multiple keys (implicitly converted to a tuple of keys) will be deprecated, use a list instead.\n"
     ]
    },
    {
     "name": "stdout",
     "output_type": "stream",
     "text": [
      "(45, 6)\n",
      "(194, 44) (57840, 9) (45, 6)\n"
     ]
    },
    {
     "name": "stderr",
     "output_type": "stream",
     "text": [
      "C:\\Users\\camil\\Anaconda3\\lib\\site-packages\\sklearn\\metrics\\_classification.py:1221: UndefinedMetricWarning: Precision and F-score are ill-defined and being set to 0.0 in labels with no predicted samples. Use `zero_division` parameter to control this behavior.\n",
      "  _warn_prf(average, modifier, msg_start, len(result))\n",
      "C:\\Users\\camil\\Anaconda3\\lib\\site-packages\\pingouin\\parametric.py:978: RuntimeWarning: divide by zero encountered in double_scalars\n",
      "  fval = msbetween / mserror\n",
      "C:\\Users\\camil\\Anaconda3\\lib\\site-packages\\pingouin\\reliability.py:325: RuntimeWarning: divide by zero encountered in double_scalars\n",
      "  f2k = f3k = msb / mse\n",
      "C:\\Users\\camil\\Anaconda3\\lib\\site-packages\\pingouin\\reliability.py:353: RuntimeWarning: invalid value encountered in double_scalars\n",
      "  l3 = (f3l - 1) / (f3l + (k - 1))\n",
      "C:\\Users\\camil\\Anaconda3\\lib\\site-packages\\pingouin\\reliability.py:354: RuntimeWarning: invalid value encountered in double_scalars\n",
      "  u3 = (f3u - 1) / (f3u + (k - 1))\n",
      "C:\\Users\\camil\\Anaconda3\\lib\\site-packages\\pingouin\\reliability.py:356: RuntimeWarning: divide by zero encountered in double_scalars\n",
      "  fj = msj / mse\n",
      "C:\\Users\\camil\\Anaconda3\\lib\\site-packages\\pingouin\\reliability.py:360: RuntimeWarning: invalid value encountered in double_scalars\n",
      "  v = vn / vd\n",
      " 24%|██████████████████▉                                                             | 18/76 [15:50<1:01:49, 63.96s/it]C:\\Users\\camil\\Anaconda3\\lib\\site-packages\\ipykernel_launcher.py:100: FutureWarning: Indexing with multiple keys (implicitly converted to a tuple of keys) will be deprecated, use a list instead.\n"
     ]
    },
    {
     "name": "stdout",
     "output_type": "stream",
     "text": [
      "(45, 6)\n",
      "(232, 44) (60300, 9) (45, 6)\n"
     ]
    },
    {
     "name": "stderr",
     "output_type": "stream",
     "text": [
      "C:\\Users\\camil\\Anaconda3\\lib\\site-packages\\sklearn\\metrics\\_classification.py:1221: UndefinedMetricWarning: Precision and F-score are ill-defined and being set to 0.0 in labels with no predicted samples. Use `zero_division` parameter to control this behavior.\n",
      "  _warn_prf(average, modifier, msg_start, len(result))\n",
      "C:\\Users\\camil\\Anaconda3\\lib\\site-packages\\ipykernel_launcher.py:100: FutureWarning: Indexing with multiple keys (implicitly converted to a tuple of keys) will be deprecated, use a list instead.\n"
     ]
    },
    {
     "name": "stdout",
     "output_type": "stream",
     "text": [
      "(45, 6)\n",
      "(180, 44) (57900, 9) (45, 6)\n"
     ]
    },
    {
     "name": "stderr",
     "output_type": "stream",
     "text": [
      "C:\\Users\\camil\\Anaconda3\\lib\\site-packages\\sklearn\\metrics\\_classification.py:1221: UndefinedMetricWarning: Precision and F-score are ill-defined and being set to 0.0 in labels with no predicted samples. Use `zero_division` parameter to control this behavior.\n",
      "  _warn_prf(average, modifier, msg_start, len(result))\n",
      " 25%|████████████████████▌                                                             | 19/76 [16:50<59:45, 62.90s/it]C:\\Users\\camil\\Anaconda3\\lib\\site-packages\\ipykernel_launcher.py:100: FutureWarning: Indexing with multiple keys (implicitly converted to a tuple of keys) will be deprecated, use a list instead.\n"
     ]
    },
    {
     "name": "stdout",
     "output_type": "stream",
     "text": [
      "(45, 6)\n",
      "(155, 44) (60000, 9) (45, 6)\n"
     ]
    },
    {
     "name": "stderr",
     "output_type": "stream",
     "text": [
      "C:\\Users\\camil\\Anaconda3\\lib\\site-packages\\sklearn\\metrics\\_classification.py:1221: UndefinedMetricWarning: Precision and F-score are ill-defined and being set to 0.0 in labels with no predicted samples. Use `zero_division` parameter to control this behavior.\n",
      "  _warn_prf(average, modifier, msg_start, len(result))\n",
      "C:\\Users\\camil\\Anaconda3\\lib\\site-packages\\ipykernel_launcher.py:100: FutureWarning: Indexing with multiple keys (implicitly converted to a tuple of keys) will be deprecated, use a list instead.\n"
     ]
    },
    {
     "name": "stdout",
     "output_type": "stream",
     "text": [
      "(45, 6)\n",
      "(135, 44) (48060, 9) (45, 6)\n"
     ]
    },
    {
     "name": "stderr",
     "output_type": "stream",
     "text": [
      "C:\\Users\\camil\\Anaconda3\\lib\\site-packages\\sklearn\\metrics\\_classification.py:1221: UndefinedMetricWarning: Precision and F-score are ill-defined and being set to 0.0 in labels with no predicted samples. Use `zero_division` parameter to control this behavior.\n",
      "  _warn_prf(average, modifier, msg_start, len(result))\n",
      " 26%|█████████████████████▌                                                            | 20/76 [17:47<56:57, 61.02s/it]C:\\Users\\camil\\Anaconda3\\lib\\site-packages\\ipykernel_launcher.py:100: FutureWarning: Indexing with multiple keys (implicitly converted to a tuple of keys) will be deprecated, use a list instead.\n"
     ]
    },
    {
     "name": "stdout",
     "output_type": "stream",
     "text": [
      "(50, 6)\n",
      "(222, 44) (62220, 9) (50, 6)\n"
     ]
    },
    {
     "name": "stderr",
     "output_type": "stream",
     "text": [
      "C:\\Users\\camil\\Anaconda3\\lib\\site-packages\\sklearn\\metrics\\_classification.py:1221: UndefinedMetricWarning: Precision and F-score are ill-defined and being set to 0.0 in labels with no predicted samples. Use `zero_division` parameter to control this behavior.\n",
      "  _warn_prf(average, modifier, msg_start, len(result))\n",
      "C:\\Users\\camil\\Anaconda3\\lib\\site-packages\\ipykernel_launcher.py:100: FutureWarning: Indexing with multiple keys (implicitly converted to a tuple of keys) will be deprecated, use a list instead.\n"
     ]
    },
    {
     "name": "stdout",
     "output_type": "stream",
     "text": [
      "(50, 6)\n",
      "(222, 44) (66420, 9) (50, 6)\n"
     ]
    },
    {
     "name": "stderr",
     "output_type": "stream",
     "text": [
      "C:\\Users\\camil\\Anaconda3\\lib\\site-packages\\sklearn\\metrics\\_classification.py:1221: UndefinedMetricWarning: Precision and F-score are ill-defined and being set to 0.0 in labels with no predicted samples. Use `zero_division` parameter to control this behavior.\n",
      "  _warn_prf(average, modifier, msg_start, len(result))\n",
      " 28%|██████████████████████                                                          | 21/76 [19:05<1:00:36, 66.11s/it]C:\\Users\\camil\\Anaconda3\\lib\\site-packages\\ipykernel_launcher.py:100: FutureWarning: Indexing with multiple keys (implicitly converted to a tuple of keys) will be deprecated, use a list instead.\n"
     ]
    },
    {
     "name": "stdout",
     "output_type": "stream",
     "text": [
      "(50, 6)\n",
      "(227, 44) (60540, 9) (50, 6)\n"
     ]
    },
    {
     "name": "stderr",
     "output_type": "stream",
     "text": [
      "C:\\Users\\camil\\Anaconda3\\lib\\site-packages\\sklearn\\metrics\\_classification.py:1221: UndefinedMetricWarning: Precision and F-score are ill-defined and being set to 0.0 in labels with no predicted samples. Use `zero_division` parameter to control this behavior.\n",
      "  _warn_prf(average, modifier, msg_start, len(result))\n",
      "C:\\Users\\camil\\Anaconda3\\lib\\site-packages\\ipykernel_launcher.py:100: FutureWarning: Indexing with multiple keys (implicitly converted to a tuple of keys) will be deprecated, use a list instead.\n"
     ]
    },
    {
     "name": "stdout",
     "output_type": "stream",
     "text": [
      "(50, 6)\n",
      "(236, 44) (56400, 9) (50, 6)\n"
     ]
    },
    {
     "name": "stderr",
     "output_type": "stream",
     "text": [
      "C:\\Users\\camil\\Anaconda3\\lib\\site-packages\\sklearn\\metrics\\_classification.py:1221: UndefinedMetricWarning: Precision and F-score are ill-defined and being set to 0.0 in labels with no predicted samples. Use `zero_division` parameter to control this behavior.\n",
      "  _warn_prf(average, modifier, msg_start, len(result))\n",
      " 29%|███████████████████████▋                                                          | 22/76 [20:06<58:15, 64.73s/it]C:\\Users\\camil\\Anaconda3\\lib\\site-packages\\ipykernel_launcher.py:100: FutureWarning: Indexing with multiple keys (implicitly converted to a tuple of keys) will be deprecated, use a list instead.\n"
     ]
    },
    {
     "name": "stdout",
     "output_type": "stream",
     "text": [
      "(50, 6)\n",
      "(225, 44) (63300, 9) (50, 6)\n"
     ]
    },
    {
     "name": "stderr",
     "output_type": "stream",
     "text": [
      "C:\\Users\\camil\\Anaconda3\\lib\\site-packages\\sklearn\\metrics\\_classification.py:1221: UndefinedMetricWarning: Precision and F-score are ill-defined and being set to 0.0 in labels with no predicted samples. Use `zero_division` parameter to control this behavior.\n",
      "  _warn_prf(average, modifier, msg_start, len(result))\n",
      "C:\\Users\\camil\\Anaconda3\\lib\\site-packages\\ipykernel_launcher.py:100: FutureWarning: Indexing with multiple keys (implicitly converted to a tuple of keys) will be deprecated, use a list instead.\n"
     ]
    },
    {
     "name": "stdout",
     "output_type": "stream",
     "text": [
      "(50, 6)\n",
      "(260, 44) (70980, 9) (50, 6)\n"
     ]
    },
    {
     "name": "stderr",
     "output_type": "stream",
     "text": [
      "C:\\Users\\camil\\Anaconda3\\lib\\site-packages\\sklearn\\metrics\\_classification.py:1221: UndefinedMetricWarning: Precision and F-score are ill-defined and being set to 0.0 in labels with no predicted samples. Use `zero_division` parameter to control this behavior.\n",
      "  _warn_prf(average, modifier, msg_start, len(result))\n",
      " 30%|████████████████████████▊                                                         | 23/76 [21:19<59:14, 67.06s/it]C:\\Users\\camil\\Anaconda3\\lib\\site-packages\\ipykernel_launcher.py:100: FutureWarning: Indexing with multiple keys (implicitly converted to a tuple of keys) will be deprecated, use a list instead.\n"
     ]
    },
    {
     "name": "stdout",
     "output_type": "stream",
     "text": [
      "(50, 6)\n",
      "(187, 44) (61860, 9) (50, 6)\n"
     ]
    },
    {
     "name": "stderr",
     "output_type": "stream",
     "text": [
      "C:\\Users\\camil\\Anaconda3\\lib\\site-packages\\sklearn\\metrics\\_classification.py:1221: UndefinedMetricWarning: Precision and F-score are ill-defined and being set to 0.0 in labels with no predicted samples. Use `zero_division` parameter to control this behavior.\n",
      "  _warn_prf(average, modifier, msg_start, len(result))\n",
      "C:\\Users\\camil\\Anaconda3\\lib\\site-packages\\ipykernel_launcher.py:100: FutureWarning: Indexing with multiple keys (implicitly converted to a tuple of keys) will be deprecated, use a list instead.\n"
     ]
    },
    {
     "name": "stdout",
     "output_type": "stream",
     "text": [
      "(50, 6)\n",
      "(198, 44) (60480, 9) (50, 6)\n"
     ]
    },
    {
     "name": "stderr",
     "output_type": "stream",
     "text": [
      "C:\\Users\\camil\\Anaconda3\\lib\\site-packages\\sklearn\\metrics\\_classification.py:1221: UndefinedMetricWarning: Precision and F-score are ill-defined and being set to 0.0 in labels with no predicted samples. Use `zero_division` parameter to control this behavior.\n",
      "  _warn_prf(average, modifier, msg_start, len(result))\n",
      " 32%|█████████████████████████▉                                                        | 24/76 [22:24<57:42, 66.59s/it]C:\\Users\\camil\\Anaconda3\\lib\\site-packages\\ipykernel_launcher.py:100: FutureWarning: Indexing with multiple keys (implicitly converted to a tuple of keys) will be deprecated, use a list instead.\n"
     ]
    },
    {
     "name": "stdout",
     "output_type": "stream",
     "text": [
      "(50, 6)\n",
      "(194, 44) (59460, 9) (50, 6)\n"
     ]
    },
    {
     "name": "stderr",
     "output_type": "stream",
     "text": [
      "C:\\Users\\camil\\Anaconda3\\lib\\site-packages\\sklearn\\metrics\\_classification.py:1221: UndefinedMetricWarning: Precision and F-score are ill-defined and being set to 0.0 in labels with no predicted samples. Use `zero_division` parameter to control this behavior.\n",
      "  _warn_prf(average, modifier, msg_start, len(result))\n",
      "C:\\Users\\camil\\Anaconda3\\lib\\site-packages\\ipykernel_launcher.py:100: FutureWarning: Indexing with multiple keys (implicitly converted to a tuple of keys) will be deprecated, use a list instead.\n"
     ]
    },
    {
     "name": "stdout",
     "output_type": "stream",
     "text": [
      "(50, 6)\n",
      "(222, 44) (65580, 9) (50, 6)\n"
     ]
    },
    {
     "name": "stderr",
     "output_type": "stream",
     "text": [
      "C:\\Users\\camil\\Anaconda3\\lib\\site-packages\\sklearn\\metrics\\_classification.py:1221: UndefinedMetricWarning: Precision and F-score are ill-defined and being set to 0.0 in labels with no predicted samples. Use `zero_division` parameter to control this behavior.\n",
      "  _warn_prf(average, modifier, msg_start, len(result))\n",
      " 33%|██████████████████████████▉                                                       | 25/76 [23:32<56:59, 67.05s/it]C:\\Users\\camil\\Anaconda3\\lib\\site-packages\\ipykernel_launcher.py:100: FutureWarning: Indexing with multiple keys (implicitly converted to a tuple of keys) will be deprecated, use a list instead.\n"
     ]
    },
    {
     "name": "stdout",
     "output_type": "stream",
     "text": [
      "(55, 6)\n",
      "(192, 44) (70620, 9) (55, 6)\n"
     ]
    },
    {
     "name": "stderr",
     "output_type": "stream",
     "text": [
      "C:\\Users\\camil\\Anaconda3\\lib\\site-packages\\sklearn\\metrics\\_classification.py:1221: UndefinedMetricWarning: Precision and F-score are ill-defined and being set to 0.0 in labels with no predicted samples. Use `zero_division` parameter to control this behavior.\n",
      "  _warn_prf(average, modifier, msg_start, len(result))\n",
      "C:\\Users\\camil\\Anaconda3\\lib\\site-packages\\ipykernel_launcher.py:100: FutureWarning: Indexing with multiple keys (implicitly converted to a tuple of keys) will be deprecated, use a list instead.\n"
     ]
    },
    {
     "name": "stdout",
     "output_type": "stream",
     "text": [
      "(55, 6)\n",
      "(221, 44) (72120, 9) (55, 6)\n"
     ]
    },
    {
     "name": "stderr",
     "output_type": "stream",
     "text": [
      "C:\\Users\\camil\\Anaconda3\\lib\\site-packages\\sklearn\\metrics\\_classification.py:1221: UndefinedMetricWarning: Precision and F-score are ill-defined and being set to 0.0 in labels with no predicted samples. Use `zero_division` parameter to control this behavior.\n",
      "  _warn_prf(average, modifier, msg_start, len(result))\n",
      " 34%|████████████████████████████                                                      | 26/76 [24:52<58:54, 70.70s/it]C:\\Users\\camil\\Anaconda3\\lib\\site-packages\\ipykernel_launcher.py:100: FutureWarning: Indexing with multiple keys (implicitly converted to a tuple of keys) will be deprecated, use a list instead.\n"
     ]
    },
    {
     "name": "stdout",
     "output_type": "stream",
     "text": [
      "(55, 6)\n",
      "(201, 44) (61320, 9) (55, 6)\n"
     ]
    },
    {
     "name": "stderr",
     "output_type": "stream",
     "text": [
      "C:\\Users\\camil\\Anaconda3\\lib\\site-packages\\sklearn\\metrics\\_classification.py:1221: UndefinedMetricWarning: Precision and F-score are ill-defined and being set to 0.0 in labels with no predicted samples. Use `zero_division` parameter to control this behavior.\n",
      "  _warn_prf(average, modifier, msg_start, len(result))\n",
      "C:\\Users\\camil\\Anaconda3\\lib\\site-packages\\pingouin\\parametric.py:978: RuntimeWarning: divide by zero encountered in double_scalars\n",
      "  fval = msbetween / mserror\n",
      "C:\\Users\\camil\\Anaconda3\\lib\\site-packages\\ipykernel_launcher.py:100: FutureWarning: Indexing with multiple keys (implicitly converted to a tuple of keys) will be deprecated, use a list instead.\n"
     ]
    },
    {
     "name": "stdout",
     "output_type": "stream",
     "text": [
      "(55, 6)\n",
      "(277, 44) (74640, 9) (55, 6)\n"
     ]
    },
    {
     "name": "stderr",
     "output_type": "stream",
     "text": [
      "C:\\Users\\camil\\Anaconda3\\lib\\site-packages\\sklearn\\metrics\\_classification.py:1221: UndefinedMetricWarning: Precision and F-score are ill-defined and being set to 0.0 in labels with no predicted samples. Use `zero_division` parameter to control this behavior.\n",
      "  _warn_prf(average, modifier, msg_start, len(result))\n",
      " 36%|█████████████████████████████▏                                                    | 27/76 [26:07<58:58, 72.22s/it]C:\\Users\\camil\\Anaconda3\\lib\\site-packages\\ipykernel_launcher.py:100: FutureWarning: Indexing with multiple keys (implicitly converted to a tuple of keys) will be deprecated, use a list instead.\n"
     ]
    },
    {
     "name": "stdout",
     "output_type": "stream",
     "text": [
      "(55, 6)\n",
      "(257, 44) (76380, 9) (55, 6)\n"
     ]
    },
    {
     "name": "stderr",
     "output_type": "stream",
     "text": [
      "C:\\Users\\camil\\Anaconda3\\lib\\site-packages\\sklearn\\metrics\\_classification.py:1221: UndefinedMetricWarning: Precision and F-score are ill-defined and being set to 0.0 in labels with no predicted samples. Use `zero_division` parameter to control this behavior.\n",
      "  _warn_prf(average, modifier, msg_start, len(result))\n",
      "C:\\Users\\camil\\Anaconda3\\lib\\site-packages\\ipykernel_launcher.py:100: FutureWarning: Indexing with multiple keys (implicitly converted to a tuple of keys) will be deprecated, use a list instead.\n"
     ]
    },
    {
     "name": "stdout",
     "output_type": "stream",
     "text": [
      "(55, 6)\n",
      "(216, 44) (66540, 9) (55, 6)\n"
     ]
    },
    {
     "name": "stderr",
     "output_type": "stream",
     "text": [
      "C:\\Users\\camil\\Anaconda3\\lib\\site-packages\\sklearn\\metrics\\_classification.py:1221: UndefinedMetricWarning: Precision and F-score are ill-defined and being set to 0.0 in labels with no predicted samples. Use `zero_division` parameter to control this behavior.\n",
      "  _warn_prf(average, modifier, msg_start, len(result))\n",
      " 37%|██████████████████████████████▏                                                   | 28/76 [27:22<58:19, 72.92s/it]C:\\Users\\camil\\Anaconda3\\lib\\site-packages\\ipykernel_launcher.py:100: FutureWarning: Indexing with multiple keys (implicitly converted to a tuple of keys) will be deprecated, use a list instead.\n"
     ]
    },
    {
     "name": "stdout",
     "output_type": "stream",
     "text": [
      "(55, 6)\n",
      "(289, 44) (72960, 9) (55, 6)\n"
     ]
    },
    {
     "name": "stderr",
     "output_type": "stream",
     "text": [
      "C:\\Users\\camil\\Anaconda3\\lib\\site-packages\\sklearn\\metrics\\_classification.py:1221: UndefinedMetricWarning: Precision and F-score are ill-defined and being set to 0.0 in labels with no predicted samples. Use `zero_division` parameter to control this behavior.\n",
      "  _warn_prf(average, modifier, msg_start, len(result))\n",
      "C:\\Users\\camil\\Anaconda3\\lib\\site-packages\\ipykernel_launcher.py:100: FutureWarning: Indexing with multiple keys (implicitly converted to a tuple of keys) will be deprecated, use a list instead.\n"
     ]
    },
    {
     "name": "stdout",
     "output_type": "stream",
     "text": [
      "(55, 6)\n",
      "(261, 44) (64200, 9) (55, 6)\n"
     ]
    },
    {
     "name": "stderr",
     "output_type": "stream",
     "text": [
      "C:\\Users\\camil\\Anaconda3\\lib\\site-packages\\sklearn\\metrics\\_classification.py:1221: UndefinedMetricWarning: Precision and F-score are ill-defined and being set to 0.0 in labels with no predicted samples. Use `zero_division` parameter to control this behavior.\n",
      "  _warn_prf(average, modifier, msg_start, len(result))\n",
      " 38%|███████████████████████████████▎                                                  | 29/76 [28:36<57:22, 73.25s/it]C:\\Users\\camil\\Anaconda3\\lib\\site-packages\\ipykernel_launcher.py:100: FutureWarning: Indexing with multiple keys (implicitly converted to a tuple of keys) will be deprecated, use a list instead.\n"
     ]
    },
    {
     "name": "stdout",
     "output_type": "stream",
     "text": [
      "(55, 6)\n",
      "(232, 44) (65580, 9) (55, 6)\n"
     ]
    },
    {
     "name": "stderr",
     "output_type": "stream",
     "text": [
      "C:\\Users\\camil\\Anaconda3\\lib\\site-packages\\sklearn\\metrics\\_classification.py:1221: UndefinedMetricWarning: Precision and F-score are ill-defined and being set to 0.0 in labels with no predicted samples. Use `zero_division` parameter to control this behavior.\n",
      "  _warn_prf(average, modifier, msg_start, len(result))\n",
      "C:\\Users\\camil\\Anaconda3\\lib\\site-packages\\ipykernel_launcher.py:100: FutureWarning: Indexing with multiple keys (implicitly converted to a tuple of keys) will be deprecated, use a list instead.\n"
     ]
    },
    {
     "name": "stdout",
     "output_type": "stream",
     "text": [
      "(55, 6)\n",
      "(293, 44) (74580, 9) (55, 6)\n"
     ]
    },
    {
     "name": "stderr",
     "output_type": "stream",
     "text": [
      "C:\\Users\\camil\\Anaconda3\\lib\\site-packages\\sklearn\\metrics\\_classification.py:1221: UndefinedMetricWarning: Precision and F-score are ill-defined and being set to 0.0 in labels with no predicted samples. Use `zero_division` parameter to control this behavior.\n",
      "  _warn_prf(average, modifier, msg_start, len(result))\n",
      " 39%|████████████████████████████████▎                                                 | 30/76 [29:49<56:03, 73.11s/it]C:\\Users\\camil\\Anaconda3\\lib\\site-packages\\ipykernel_launcher.py:100: FutureWarning: Indexing with multiple keys (implicitly converted to a tuple of keys) will be deprecated, use a list instead.\n"
     ]
    },
    {
     "name": "stdout",
     "output_type": "stream",
     "text": [
      "(60, 6)\n",
      "(251, 44) (74220, 9) (60, 6)\n"
     ]
    },
    {
     "name": "stderr",
     "output_type": "stream",
     "text": [
      "C:\\Users\\camil\\Anaconda3\\lib\\site-packages\\sklearn\\metrics\\_classification.py:1221: UndefinedMetricWarning: Precision and F-score are ill-defined and being set to 0.0 in labels with no predicted samples. Use `zero_division` parameter to control this behavior.\n",
      "  _warn_prf(average, modifier, msg_start, len(result))\n",
      "C:\\Users\\camil\\Anaconda3\\lib\\site-packages\\ipykernel_launcher.py:100: FutureWarning: Indexing with multiple keys (implicitly converted to a tuple of keys) will be deprecated, use a list instead.\n"
     ]
    },
    {
     "name": "stdout",
     "output_type": "stream",
     "text": [
      "(60, 6)\n",
      "(280, 44) (77700, 9) (60, 6)\n"
     ]
    },
    {
     "name": "stderr",
     "output_type": "stream",
     "text": [
      "C:\\Users\\camil\\Anaconda3\\lib\\site-packages\\sklearn\\metrics\\_classification.py:1221: UndefinedMetricWarning: Precision and F-score are ill-defined and being set to 0.0 in labels with no predicted samples. Use `zero_division` parameter to control this behavior.\n",
      "  _warn_prf(average, modifier, msg_start, len(result))\n",
      " 41%|█████████████████████████████████▍                                                | 31/76 [31:10<56:35, 75.45s/it]C:\\Users\\camil\\Anaconda3\\lib\\site-packages\\ipykernel_launcher.py:100: FutureWarning: Indexing with multiple keys (implicitly converted to a tuple of keys) will be deprecated, use a list instead.\n"
     ]
    },
    {
     "name": "stdout",
     "output_type": "stream",
     "text": [
      "(60, 6)\n",
      "(242, 44) (79980, 9) (60, 6)\n"
     ]
    },
    {
     "name": "stderr",
     "output_type": "stream",
     "text": [
      "C:\\Users\\camil\\Anaconda3\\lib\\site-packages\\sklearn\\metrics\\_classification.py:1221: UndefinedMetricWarning: Precision and F-score are ill-defined and being set to 0.0 in labels with no predicted samples. Use `zero_division` parameter to control this behavior.\n",
      "  _warn_prf(average, modifier, msg_start, len(result))\n",
      "C:\\Users\\camil\\Anaconda3\\lib\\site-packages\\ipykernel_launcher.py:100: FutureWarning: Indexing with multiple keys (implicitly converted to a tuple of keys) will be deprecated, use a list instead.\n"
     ]
    },
    {
     "name": "stdout",
     "output_type": "stream",
     "text": [
      "(60, 6)\n",
      "(263, 44) (69420, 9) (60, 6)\n"
     ]
    },
    {
     "name": "stderr",
     "output_type": "stream",
     "text": [
      "C:\\Users\\camil\\Anaconda3\\lib\\site-packages\\sklearn\\metrics\\_classification.py:1221: UndefinedMetricWarning: Precision and F-score are ill-defined and being set to 0.0 in labels with no predicted samples. Use `zero_division` parameter to control this behavior.\n",
      "  _warn_prf(average, modifier, msg_start, len(result))\n",
      " 42%|██████████████████████████████████▌                                               | 32/76 [32:38<58:04, 79.18s/it]C:\\Users\\camil\\Anaconda3\\lib\\site-packages\\ipykernel_launcher.py:100: FutureWarning: Indexing with multiple keys (implicitly converted to a tuple of keys) will be deprecated, use a list instead.\n"
     ]
    },
    {
     "name": "stdout",
     "output_type": "stream",
     "text": [
      "(60, 6)\n",
      "(329, 44) (73680, 9) (60, 6)\n"
     ]
    },
    {
     "name": "stderr",
     "output_type": "stream",
     "text": [
      "C:\\Users\\camil\\Anaconda3\\lib\\site-packages\\sklearn\\metrics\\_classification.py:1221: UndefinedMetricWarning: Precision and F-score are ill-defined and being set to 0.0 in labels with no predicted samples. Use `zero_division` parameter to control this behavior.\n",
      "  _warn_prf(average, modifier, msg_start, len(result))\n",
      "C:\\Users\\camil\\Anaconda3\\lib\\site-packages\\ipykernel_launcher.py:100: FutureWarning: Indexing with multiple keys (implicitly converted to a tuple of keys) will be deprecated, use a list instead.\n"
     ]
    },
    {
     "name": "stdout",
     "output_type": "stream",
     "text": [
      "(60, 6)\n",
      "(216, 44) (67980, 9) (60, 6)\n"
     ]
    },
    {
     "name": "stderr",
     "output_type": "stream",
     "text": [
      "C:\\Users\\camil\\Anaconda3\\lib\\site-packages\\sklearn\\metrics\\_classification.py:1221: UndefinedMetricWarning: Precision and F-score are ill-defined and being set to 0.0 in labels with no predicted samples. Use `zero_division` parameter to control this behavior.\n",
      "  _warn_prf(average, modifier, msg_start, len(result))\n",
      " 43%|███████████████████████████████████▌                                              | 33/76 [33:56<56:40, 79.09s/it]C:\\Users\\camil\\Anaconda3\\lib\\site-packages\\ipykernel_launcher.py:100: FutureWarning: Indexing with multiple keys (implicitly converted to a tuple of keys) will be deprecated, use a list instead.\n"
     ]
    },
    {
     "name": "stdout",
     "output_type": "stream",
     "text": [
      "(60, 6)\n",
      "(257, 44) (68340, 9) (60, 6)\n"
     ]
    },
    {
     "name": "stderr",
     "output_type": "stream",
     "text": [
      "C:\\Users\\camil\\Anaconda3\\lib\\site-packages\\sklearn\\metrics\\_classification.py:1221: UndefinedMetricWarning: Precision and F-score are ill-defined and being set to 0.0 in labels with no predicted samples. Use `zero_division` parameter to control this behavior.\n",
      "  _warn_prf(average, modifier, msg_start, len(result))\n",
      "C:\\Users\\camil\\Anaconda3\\lib\\site-packages\\ipykernel_launcher.py:100: FutureWarning: Indexing with multiple keys (implicitly converted to a tuple of keys) will be deprecated, use a list instead.\n"
     ]
    },
    {
     "name": "stdout",
     "output_type": "stream",
     "text": [
      "(60, 6)\n",
      "(211, 44) (74880, 9) (60, 6)\n"
     ]
    },
    {
     "name": "stderr",
     "output_type": "stream",
     "text": [
      "C:\\Users\\camil\\Anaconda3\\lib\\site-packages\\sklearn\\metrics\\_classification.py:1221: UndefinedMetricWarning: Precision and F-score are ill-defined and being set to 0.0 in labels with no predicted samples. Use `zero_division` parameter to control this behavior.\n",
      "  _warn_prf(average, modifier, msg_start, len(result))\n",
      " 45%|████████████████████████████████████▋                                             | 34/76 [35:13<54:54, 78.45s/it]C:\\Users\\camil\\Anaconda3\\lib\\site-packages\\ipykernel_launcher.py:100: FutureWarning: Indexing with multiple keys (implicitly converted to a tuple of keys) will be deprecated, use a list instead.\n"
     ]
    },
    {
     "name": "stdout",
     "output_type": "stream",
     "text": [
      "(60, 6)\n",
      "(242, 44) (79620, 9) (60, 6)\n"
     ]
    },
    {
     "name": "stderr",
     "output_type": "stream",
     "text": [
      "C:\\Users\\camil\\Anaconda3\\lib\\site-packages\\sklearn\\metrics\\_classification.py:1221: UndefinedMetricWarning: Precision and F-score are ill-defined and being set to 0.0 in labels with no predicted samples. Use `zero_division` parameter to control this behavior.\n",
      "  _warn_prf(average, modifier, msg_start, len(result))\n",
      "C:\\Users\\camil\\Anaconda3\\lib\\site-packages\\ipykernel_launcher.py:100: FutureWarning: Indexing with multiple keys (implicitly converted to a tuple of keys) will be deprecated, use a list instead.\n"
     ]
    },
    {
     "name": "stdout",
     "output_type": "stream",
     "text": [
      "(60, 6)\n",
      "(277, 44) (75060, 9) (60, 6)\n"
     ]
    },
    {
     "name": "stderr",
     "output_type": "stream",
     "text": [
      "C:\\Users\\camil\\Anaconda3\\lib\\site-packages\\sklearn\\metrics\\_classification.py:1221: UndefinedMetricWarning: Precision and F-score are ill-defined and being set to 0.0 in labels with no predicted samples. Use `zero_division` parameter to control this behavior.\n",
      "  _warn_prf(average, modifier, msg_start, len(result))\n",
      " 46%|█████████████████████████████████████▊                                            | 35/76 [36:33<53:51, 78.82s/it]C:\\Users\\camil\\Anaconda3\\lib\\site-packages\\ipykernel_launcher.py:100: FutureWarning: Indexing with multiple keys (implicitly converted to a tuple of keys) will be deprecated, use a list instead.\n"
     ]
    },
    {
     "name": "stdout",
     "output_type": "stream",
     "text": [
      "(65, 6)\n",
      "(271, 44) (84300, 9) (65, 6)\n"
     ]
    },
    {
     "name": "stderr",
     "output_type": "stream",
     "text": [
      "C:\\Users\\camil\\Anaconda3\\lib\\site-packages\\sklearn\\metrics\\_classification.py:1221: UndefinedMetricWarning: Precision and F-score are ill-defined and being set to 0.0 in labels with no predicted samples. Use `zero_division` parameter to control this behavior.\n",
      "  _warn_prf(average, modifier, msg_start, len(result))\n",
      "C:\\Users\\camil\\Anaconda3\\lib\\site-packages\\ipykernel_launcher.py:100: FutureWarning: Indexing with multiple keys (implicitly converted to a tuple of keys) will be deprecated, use a list instead.\n"
     ]
    },
    {
     "name": "stdout",
     "output_type": "stream",
     "text": [
      "(65, 6)\n",
      "(308, 44) (79140, 9) (65, 6)\n"
     ]
    },
    {
     "name": "stderr",
     "output_type": "stream",
     "text": [
      "C:\\Users\\camil\\Anaconda3\\lib\\site-packages\\sklearn\\metrics\\_classification.py:1221: UndefinedMetricWarning: Precision and F-score are ill-defined and being set to 0.0 in labels with no predicted samples. Use `zero_division` parameter to control this behavior.\n",
      "  _warn_prf(average, modifier, msg_start, len(result))\n",
      " 47%|██████████████████████████████████████▊                                           | 36/76 [38:16<57:20, 86.00s/it]C:\\Users\\camil\\Anaconda3\\lib\\site-packages\\ipykernel_launcher.py:100: FutureWarning: Indexing with multiple keys (implicitly converted to a tuple of keys) will be deprecated, use a list instead.\n"
     ]
    },
    {
     "name": "stdout",
     "output_type": "stream",
     "text": [
      "(65, 6)\n",
      "(229, 44) (75480, 9) (65, 6)\n"
     ]
    },
    {
     "name": "stderr",
     "output_type": "stream",
     "text": [
      "C:\\Users\\camil\\Anaconda3\\lib\\site-packages\\sklearn\\metrics\\_classification.py:1221: UndefinedMetricWarning: Precision and F-score are ill-defined and being set to 0.0 in labels with no predicted samples. Use `zero_division` parameter to control this behavior.\n",
      "  _warn_prf(average, modifier, msg_start, len(result))\n",
      "C:\\Users\\camil\\Anaconda3\\lib\\site-packages\\ipykernel_launcher.py:100: FutureWarning: Indexing with multiple keys (implicitly converted to a tuple of keys) will be deprecated, use a list instead.\n"
     ]
    },
    {
     "name": "stdout",
     "output_type": "stream",
     "text": [
      "(65, 6)\n",
      "(290, 44) (79140, 9) (65, 6)\n"
     ]
    },
    {
     "name": "stderr",
     "output_type": "stream",
     "text": [
      "C:\\Users\\camil\\Anaconda3\\lib\\site-packages\\sklearn\\metrics\\_classification.py:1221: UndefinedMetricWarning: Precision and F-score are ill-defined and being set to 0.0 in labels with no predicted samples. Use `zero_division` parameter to control this behavior.\n",
      "  _warn_prf(average, modifier, msg_start, len(result))\n",
      " 49%|██████████████████████████████████████▉                                         | 37/76 [40:14<1:02:06, 95.55s/it]C:\\Users\\camil\\Anaconda3\\lib\\site-packages\\ipykernel_launcher.py:100: FutureWarning: Indexing with multiple keys (implicitly converted to a tuple of keys) will be deprecated, use a list instead.\n"
     ]
    }
   ],
   "source": [
    "###############################################################################################################################\n",
    "###############################################################################################################################\n",
    "############################################# RUN OVER SEVERAL BATCH COMBINATIONS #############################################\n",
    "###############################################################################################################################\n",
    "###############################################################################################################################\n",
    "\n",
    "#start recording the time it last\n",
    "START_TIME = time.clock()\n",
    "li_df  = []\n",
    "is_done = False\n",
    "for li_batch1, li_batch2 in tqdm.tqdm(li_selected_combination_pairs):\n",
    "    \n",
    "    #select a unique runID per pair of batch combination\n",
    "    runID = uuid.uuid1()\n",
    "    nbr_b = len(li_batch1)\n",
    "    \n",
    "    for i,li_batch in enumerate([li_batch1, li_batch2]):\n",
    "        #dont do the second batch if its the same as the first one, i.e. if its the final output, but print visuals\n",
    "        if (li_batch1==li_batch2) & (is_done==True):\n",
    "            #to sort the yaxis\n",
    "            dico_zone_order = {'1Zone':0,\n",
    "                               '2Zone':1,\n",
    "                               '3Zone':2,\n",
    "                               '4Zone':3,\n",
    "                               '5Zone':4}\n",
    "\n",
    "            #create path where to save if not existing yet\n",
    "            path_ = os.path.join(path_extracted_data_cleaning,'TimeSeriesPlot')\n",
    "            #create a director if not existing\n",
    "            if not os.path.exists(path_):\n",
    "                os.makedirs(path_) \n",
    "\n",
    "            li_ts = ['Zone','model_ObservedZone','ObservedZone','binning_zone']\n",
    "            #for each batch draw 4 timeseries\n",
    "            for BatchID, df_plt in tqdm.tqdm(df_final.groupby(['BatchID'])):\n",
    "                df_plt = df_plt.sort_values(['Timestamp']).copy()\n",
    "                l = len(li_ts) ; c = 1\n",
    "                fig = plt.figure(figsize=(c*5, l*1))\n",
    "                for i,v in enumerate(li_ts):\n",
    "                    df_plt[v] = df_plt[v].map(lambda x: int(dico_zone_order[x]))       \n",
    "                    plt.subplot(l,c,i+1)\n",
    "                    plt.plot(df_plt['Timestamp'].tolist(), df_plt[v].tolist())\n",
    "                    plt.xticks(fontsize=4)\n",
    "                    plt.yticks(fontsize=4)\n",
    "                    plt.title(v+' '+BatchID, size=7)\n",
    "                plt.savefig(os.path.join(path_extracted_data_cleaning, BatchID+'.png'), format='png', bbox_inches='tight', dpi=300)\n",
    "                plt.clf()\n",
    "                plt.close(\"all\")                      \n",
    "            \n",
    "            break\n",
    "            \n",
    "        df_testing_ = df_testing[df_testing['BatchID'].isin(li_batch)].copy()\n",
    "        ##########################################################################################################\n",
    "        ########################################### create duration TS ###########################################\n",
    "        ##########################################################################################################\n",
    "        li_df_dur = []\n",
    "        li_col = ['Zone','VideoAnalyse','model_ObservedZone','ObservedZone','PenID','HenID','Timestamp','BatchID']\n",
    "        for BatchID,df_ in df_testing_[li_col].groupby(['BatchID']):\n",
    "            df_ = df_.sort_values('Timestamp',ascending=True)\n",
    "            #select the list of timestamp we want (i.e. at one second level)\n",
    "            mi = min(df_['Timestamp'].tolist())\n",
    "            ma = max(df_['Timestamp'].tolist())\n",
    "            #extend the daterange if the batch is in dico_BatchID_endhour\n",
    "            if BatchID in dico_BatchID_endhour.keys():\n",
    "                ma = dt.datetime(ma.year,ma.month,ma.day,dico_BatchID_endhour[BatchID],0,0)\n",
    "            #print(mi, ma)\n",
    "            Daterange = pd.date_range(start = mi+dt.timedelta(seconds=(60-mi.second)), \n",
    "                                      end = ma-dt.timedelta(seconds=(ma.second+1)), \n",
    "                                      freq = 'S') \n",
    "            #print(Daterange[0:2])\n",
    "            #print(Daterange[-2:])\n",
    "\n",
    "            ################### 1 sec ts: tracking method & model method & true observation\n",
    "            ### extend to 1 seconds level\n",
    "            #add missing seconds (i.e. all seconds that never had a record) and fillnan with last non-nan values by propagating last \n",
    "            # observation forward to next valHenIDmi = min(df_['Timestamp'].tolist())\n",
    "            df_.set_index('Timestamp', inplace=True)\n",
    "            df__ = df_.reindex(Daterange, method='ffill').reset_index()\n",
    "            #display(df__.head(5))\n",
    "            #display(df__.tail(5))\n",
    "            df__.rename(columns={'index':'Timestamp'}, inplace=True)\n",
    "            #display(df__.head(3))\n",
    "            df__.to_csv(os.path.join(path__,'1secTimeSeries'+str(BatchID)+'.csv'), sep=';', index=False)\n",
    "\n",
    "            ################### binning method at 60 sec period\n",
    "            #First take only the wanted timestamps (1 per seconds)\n",
    "            #due to the 60 sec period bining, we need to exclude some of the first and last seconds in order to take into account \n",
    "            #minutes for which we have the full information only\n",
    "            DaterangeBIN = [Daterange[i] for i in range(len(Daterange)) if i%60==0]\n",
    "            #add new timestamp to the initial file\n",
    "            df_date = pd.DataFrame({'New_Timestamp':DaterangeBIN})\n",
    "            df_date['New_Timestamp'] = df_date['New_Timestamp'].map(lambda x: pd.to_datetime(x))\n",
    "            df_bin = pd.merge_asof(df__, df_date, left_on=['Timestamp'], right_on=['New_Timestamp'], direction='forward')\n",
    "\n",
    "            #Then bin the data\n",
    "            h = 'Zone'\n",
    "            df_bin = df_bin[[h,'New_Timestamp']].copy()\n",
    "            df_bin['nbr_sec'] = 1\n",
    "            df_bin = df_bin.groupby(['New_Timestamp',h])['nbr_sec'].sum().reset_index() #sum to count as we have seconds\n",
    "            df_bin = df_bin.groupby(['New_Timestamp'])[h,'nbr_sec'].agg(lambda x: tuple(x)).reset_index()\n",
    "            df_bin['most_frequent_zone'] = df_bin.apply(lambda x: x[h][x['nbr_sec'].index(max(x['nbr_sec']))], axis=1)\n",
    "            df_bin['nbr_duration_per_zone'] = df_bin.apply(lambda x: str({x[h][k]:x['nbr_sec'][k] for k in range(len(x[h]))}), axis=1)\n",
    "            df_bin['nbr_lost_duration_per_zone'] = df_bin['nbr_duration_per_zone'].map(lambda x: str({z:v for z,v in eval(x).items() if \\\n",
    "                                                                               v!=max(eval(x).values())}))\n",
    "            df_bin['nbr_lost_duration'] = df_bin['nbr_lost_duration_per_zone'].map(lambda x: sum(eval(x).values()))\n",
    "            df_bin['perc_lost_duration'] = df_bin['nbr_lost_duration'].map(lambda x: x/60*100)\n",
    "            df_bin['day'] = df_bin['New_Timestamp'].map(lambda x: dt.datetime(x.year,x.month,x.day))\n",
    "            df_bin.to_csv(os.path.join(path__ ,'bining'+str(BatchID)+'.csv'), sep=';', index=False)\n",
    "            #display(df_bin.head(3))    \n",
    "\n",
    "            #extend to 1sec ts\n",
    "            df_bin = df_bin[['most_frequent_zone','New_Timestamp']]\n",
    "            df_bin.set_index('New_Timestamp', inplace=True)\n",
    "            df_bin1sec = df_bin.reindex(Daterange, method='ffill').reset_index()\n",
    "            df_bin1sec.rename(columns={'index':'Timestamp','most_frequent_zone':'binning_zone'}, inplace=True)\n",
    "            df_bin1sec.to_csv(os.path.join(path__,'1secTimeSeries_bining'+str(BatchID)+'.csv'), sep=';', index=False)\n",
    "            #display(df_bin1sec.head(3))\n",
    "\n",
    "            #join with bining\n",
    "            df_final = pd.merge(df__, df_bin1sec, on=['Timestamp'], how='outer')\n",
    "            df_final.to_csv(os.path.join(path__,'1secTimeSeries_ALL_'+str(BatchID)+'.csv'), sep=';', index=False)\n",
    "            li_df_dur.append(df_final)\n",
    "        #concat all final 1sec into one big\n",
    "        df_final = pd.concat(li_df_dur)\n",
    "        df_final.to_csv(os.path.join(path_extracted_data_cleaning,'1secTimeSeries_reliability.csv'), sep=';', index=False)\n",
    "        #display(df_final.head(3))\n",
    "\n",
    "        ##########################################################################################################\n",
    "        ########################################### create duration TS ###########################################\n",
    "        ##########################################################################################################\n",
    "        #in case: total nbr of zone, issue: not enough observatoin for kappa test \n",
    "        #df_transition = df_final.groupby(['BatchID'])[['Zone','model_ObservedZone','ObservedZone',\n",
    "        #                                               'binning_zone']].agg(lambda x: len(list_of_zones(x))-1).reset_index()\n",
    "                \n",
    "        li_df_zone = []\n",
    "        for c in ['Zone','model_ObservedZone','ObservedZone','binning_zone']:\n",
    "            df_transition_ = df_final.groupby(['BatchID'])[c].agg(lambda x: dict(Counter(list_of_zones(x)[1:]))).reset_index()\n",
    "            for z in df_final[c].unique():\n",
    "                df_transition_[z] = df_transition_[c].map(lambda x: x.get(z,0))\n",
    "            df_ = pd.melt(df_transition_, id_vars=['BatchID'], value_vars=df_final[c].unique())\n",
    "            df_.rename(columns={'value':c}, inplace=True)\n",
    "            li_df_zone.append(df_)\n",
    "        df_transition = li_df_zone[0]\n",
    "        for df_ in li_df_zone[1:]:\n",
    "            df_transition = pd.merge(df_, df_transition, on=['BatchID','variable'], how='outer')\n",
    "        print(df_transition.shape)\n",
    "        df_transition.head(3)\n",
    "        #display(df_transition.head(3))\n",
    "        df_transition.to_csv(os.path.join(path_extracted_data_cleaning,'reliability_transition.csv'), sep=';', index=False)\n",
    "        \n",
    "        print(df_testing_.shape, df_final.shape, df_transition.shape)\n",
    "        ##########################################################################################################\n",
    "        ###################################### relevance algo - records 0-1 ######################################\n",
    "        ##########################################################################################################\n",
    "        dico_name = {'tracking_prediction':'Zone','model_prediction':'model_ObservedZone'}\n",
    "        for c in ['model_prediction', 'tracking_prediction']:\n",
    "            li_t = df_testing_['VideoAnalyse'].astype(int).tolist()\n",
    "            li_p = df_testing_[c].astype(int).tolist()\n",
    "            res = classification_report(li_t, li_p, output_dict=True)\n",
    "            dico_ = res_intodico(res)\n",
    "            dico_['method'] = dico_name[c]\n",
    "            dico_['reliability_type'] = 'records-01'\n",
    "            dico_['kappa'] = cohen_kappa_score(li_t, li_p)\n",
    "            dico_['runID'] = runID; dico_['li_batch_selected'] = li_batch; dico_['nbr_batch'] = nbr_b ; dico_['CPairID'] = i\n",
    "            li_df.append(dico_)\n",
    "\n",
    "        ##########################################################################################################\n",
    "        ###################################### relevance algo - records zone #####################################\n",
    "        ##########################################################################################################\n",
    "        for c in ['Zone','model_ObservedZone']:\n",
    "            li_t = df_testing_['ObservedZone'].tolist()\n",
    "            li_p = df_testing_[c].tolist()            \n",
    "            res = classification_report(li_t, li_p, output_dict=True)\n",
    "            dico_ = res_intodico(res)\n",
    "            dico_['method'] = c\n",
    "            dico_['reliability_type'] = 'records-zone'\n",
    "            dico_['kappa'] = cohen_kappa_score(li_t, li_p)\n",
    "            dico_['runID'] = runID; dico_['li_batch_selected'] = li_batch; dico_['nbr_batch'] = nbr_b ; dico_['CPairID'] = i\n",
    "            li_df.append(dico_)\n",
    "\n",
    "        ##########################################################################################################\n",
    "        ############################### relevance behavioural data - duration 1secTS #############################\n",
    "        ##########################################################################################################\n",
    "        for c in ['Zone','model_ObservedZone','binning_zone']:\n",
    "            li_t = df_final['ObservedZone'].tolist()\n",
    "            li_p = df_final[c].tolist()\n",
    "            res = classification_report(li_t, li_p, output_dict=True)\n",
    "            dico_ = res_intodico(res)\n",
    "            dico_['method'] = c\n",
    "            dico_['reliability_type'] = 'duration_1secTS'\n",
    "            dico_['kappa'] = cohen_kappa_score(li_t, li_p)\n",
    "            dico_['runID'] = runID; dico_['li_batch_selected'] = li_batch; dico_['nbr_batch'] = nbr_b ; dico_['CPairID'] = i\n",
    "            li_df.append(dico_)\n",
    "\n",
    "        ##########################################################################################################\n",
    "        ################################## relevance behavioural data - transition ###############################\n",
    "        ##########################################################################################################\n",
    "        #does not make sense to compare per minutes the numebr of transition, as we dont really care if they areshifted by few minutes\n",
    "        #instead we will compare the number of transition per batch \n",
    "        for c in ['Zone', 'model_ObservedZone', 'binning_zone']:\n",
    "            df_ = pd.melt(df_transition.filter(['BatchID','ObservedZone', c],axis=1), id_vars=['BatchID'], \n",
    "                          value_vars=['ObservedZone', c])\n",
    "            #continuous reliability score\n",
    "            df_res = pg.intraclass_corr(data=df_, targets='BatchID', raters='variable', ratings='value')\n",
    "            dico_ = df_res[df_res['Type']=='ICC3'].to_dict(orient='records')[0]\n",
    "            dico_['method'] = c\n",
    "            dico_['reliability_type'] = 'transitions'\n",
    "            dico_['runID'] = runID; dico_['li_batch_selected'] = li_batch; dico_['nbr_batch'] = nbr_b ; dico_['CPairID'] = i\n",
    "            li_df.append(dico_)\n",
    "        #per zone for all the batches only\n",
    "        if li_batch1==li_batch2:\n",
    "            is_done=True\n",
    "            for z,df__ in df_transition.groupby('variable'):\n",
    "                for c in ['Zone', 'model_ObservedZone', 'binning_zone']:\n",
    "                    df_ = pd.melt(df__.filter(['BatchID','ObservedZone', c],axis=1), id_vars=['BatchID'], \n",
    "                                  value_vars=['ObservedZone', c])\n",
    "                    #continuous reliability score\n",
    "                    df_res = pg.intraclass_corr(data=df_, targets='BatchID', raters='variable', ratings='value')\n",
    "                    dico_ = df_res[df_res['Type']=='ICC3'].to_dict(orient='records')[0]\n",
    "                    dico_['method'] = c\n",
    "                    dico_['reliability_type'] = 'transitions_'+z\n",
    "                    dico_['runID'] = runID; dico_['li_batch_selected'] = li_batch; dico_['nbr_batch'] = nbr_b ; dico_['CPairID'] = i\n",
    "                    li_df.append(dico_)            \n",
    "            \n",
    "\n",
    "##########################################################################################################\n",
    "############################################### Save results #############################################\n",
    "##########################################################################################################\n",
    "END_TIME = time.clock()\n",
    "print (\"Total running time: %.2f mn\" %((END_TIME-START_TIME)/60))\n",
    "df_results = pd.DataFrame(li_df)\n",
    "li_var_tr = ['transitions','transitions_1Zone', 'transitions_2Zone', 'transitions_3Zone','transitions_4Zone', \n",
    "             'transitions_5Zone']\n",
    "df_results['accuracy_ICC'] = df_results.apply(lambda x: x['ICC'] if x['reliability_type'] in li_var_tr else x['accuracy'], \n",
    "                                              axis=1)\n",
    "df_results.to_csv(os.path.join(path_extracted_data_cleaning,'reliability_RESULTS.csv'), sep=';', index=False)\n",
    "df_results[['accuracy','ICC','kappa','runID','method','reliability_type']]"
   ]
  },
  {
   "cell_type": "code",
   "execution_count": null,
   "metadata": {},
   "outputs": [],
   "source": [
    "df_results['nbr_batch'].value_counts()"
   ]
  },
  {
   "cell_type": "code",
   "execution_count": null,
   "metadata": {
    "scrolled": false
   },
   "outputs": [],
   "source": [
    "#visualize the results\n",
    "li_df = []\n",
    "for m, df_ in df_results[df_results['nbr_batch']!=len(df_testing['BatchID'].unique())].groupby(['method']):    \n",
    "    #compute difference across the associated batches combination\n",
    "    df_ = df_.filter(['reliability_type','accuracy_ICC','nbr_batch','runID','li_batch_selected'], axis=1)\n",
    "    df_ = df_.groupby(['runID','reliability_type','nbr_batch'])['accuracy_ICC','li_batch_selected'].agg(lambda x: list(x)).reset_index()\n",
    "    df_['accuracy_ICC_diff'] = df_['accuracy_ICC'].map(lambda x: abs(x[0]-x[1])*100)\n",
    "    li_df.append(df_)\n",
    "    #display(df_.head(3))\n",
    "    #plot\n",
    "    ax = sns.boxplot(x=\"nbr_batch\", y=\"accuracy_ICC_diff\", hue=\"reliability_type\", data=df_, palette=\"Set3\")\n",
    "    plt.title(m)\n",
    "    plt.xlabel('number of batched in a set')\n",
    "    plt.ylabel('accuarcy/ICC\\'s difference across 2 sets of distinct batches')\n",
    "    plt.savefig(os.path.join(path_extracted_data_cleaning,'ReliabilityStability_'+m+'.png'), bbox_inches='tight')\n",
    "    plt.show()\n",
    "df_acc_diff = pd.concat(li_df)\n",
    "print(df_acc_diff.shape)\n",
    "df_acc_diff.to_csv(os.path.join(path_extracted_data_cleaning,'reliability_RESULTs_acc_difference.csv'), sep=';', index=False)\n",
    "print('LOOk AT THIS AND VERIFY THE OUTPUT')\n",
    "display(df_acc_diff[df_acc_diff['accuracy_ICC_diff']>30].head(10))\n",
    "#ATTENTION: VERIFY p_val!!!!!!!\n",
    "#for df_results['reliability_type']=='transitions')], verify all p-values are smaller <05 (dont remove the other one as I am \n",
    "#not sure its not cheating)\n",
    "df_results[df_results['pval']>0.05][['ICC','F','df1','df2','pval','CI95%']]"
   ]
  },
  {
   "cell_type": "code",
   "execution_count": null,
   "metadata": {},
   "outputs": [],
   "source": [
    "li_rel_type = ['duration_1secTS', 'transitions','transitions_1Zone', 'transitions_2Zone', 'transitions_3Zone',\n",
    "               'transitions_4Zone', 'transitions_5Zone']\n",
    "df_plt = df_results[(df_results['nbr_batch']==len(df_testing['BatchID'].unique()))&\\\n",
    "                    (df_results['reliability_type'].isin(li_rel_type))]\n",
    "print(df_plt.shape)\n",
    "#df_plt[['runID','method','accuracy_ICC']]\n",
    "plt.figure(figsize=(8,6))\n",
    "ax = sns.barplot(x=\"reliability_type\", y=\"accuracy_ICC\", hue=\"method\", data=df_plt, palette=\"Set3\")\n",
    "plt.xticks(fontsize=10,rotation=70)\n",
    "plt.ylim(0.2,1)\n",
    "plt.xlabel('type of reliability')\n",
    "plt.ylabel('accuraccy - ICC scores')\n",
    "plt.savefig(os.path.join(path_extracted_data_cleaning,'ReliabilityMethodsComparison.png'), bbox_inches='tight')"
   ]
  },
  {
   "cell_type": "markdown",
   "metadata": {},
   "source": [
    "df_results[(df_results['runID']=='65999852-3024-11eb-a16f-9822ef705bb4')&\\\n",
    "           (df_results['reliability_type']=='transitions')] #[['accuracy','ICC','accuracy_ICC']]"
   ]
  },
  {
   "cell_type": "markdown",
   "metadata": {},
   "source": [
    "df_results = pd.read_csv(os.path.join(path_extracted_data_cleaning,'reliability_RESULTS.csv'), sep=';')\n",
    "print(df_results.shape)\n",
    "df_results.head(3)"
   ]
  },
  {
   "cell_type": "code",
   "execution_count": null,
   "metadata": {},
   "outputs": [],
   "source": []
  },
  {
   "cell_type": "code",
   "execution_count": null,
   "metadata": {},
   "outputs": [],
   "source": []
  },
  {
   "cell_type": "code",
   "execution_count": null,
   "metadata": {},
   "outputs": [],
   "source": []
  },
  {
   "cell_type": "code",
   "execution_count": null,
   "metadata": {},
   "outputs": [],
   "source": []
  },
  {
   "cell_type": "code",
   "execution_count": null,
   "metadata": {},
   "outputs": [],
   "source": []
  },
  {
   "cell_type": "code",
   "execution_count": null,
   "metadata": {},
   "outputs": [],
   "source": []
  }
 ],
 "metadata": {
  "kernelspec": {
   "display_name": "Python 3",
   "language": "python",
   "name": "python3"
  },
  "language_info": {
   "codemirror_mode": {
    "name": "ipython",
    "version": 3
   },
   "file_extension": ".py",
   "mimetype": "text/x-python",
   "name": "python",
   "nbconvert_exporter": "python",
   "pygments_lexer": "ipython3",
   "version": "3.6.10"
  }
 },
 "nbformat": 4,
 "nbformat_minor": 2
}
