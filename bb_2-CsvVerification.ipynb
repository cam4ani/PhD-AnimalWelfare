{
 "cells": [
  {
   "cell_type": "code",
   "execution_count": 1,
   "metadata": {},
   "outputs": [],
   "source": [
    "#basic package\n",
    "import json\n",
    "import tqdm\n",
    "import os\n",
    "import numpy as np\n",
    "import glob\n",
    "import pandas as pd\n",
    "import sys\n",
    "import shutil\n",
    "import time\n",
    "import datetime as dt\n",
    "import itertools\n",
    "import time\n",
    "import re\n",
    "from collections import Counter\n",
    "from collections import defaultdict\n",
    "import operator\n",
    "import math\n",
    "from operator import itemgetter\n",
    "import functools\n",
    "import collections\n",
    "\n",
    "#plot\n",
    "import matplotlib.pyplot as plt\n",
    "import seaborn as sns"
   ]
  },
  {
   "cell_type": "code",
   "execution_count": 2,
   "metadata": {},
   "outputs": [],
   "source": [
    "from UTILS import preprocessing_broiler_breeder, verification_based_on_initial_record, general_cleaning, \\\n",
    "cleaning_mouvement_records, time_series_henColumn_tsRow, ZoneVariable, HenVariable, print_color,\\\n",
    "boxplot_distribution_entropy, heatmap_duration_perzone_perhen, simple_cleaning_experiment2\n",
    "import config_breeder_boiler as config"
   ]
  },
  {
   "cell_type": "raw",
   "metadata": {},
   "source": [
    "This notebook is meant to verify the csv created by the ntebook: \"bb_1-CsvExtraction\""
   ]
  },
  {
   "cell_type": "markdown",
   "metadata": {},
   "source": [
    "# Define parameters"
   ]
  },
  {
   "cell_type": "code",
   "execution_count": 3,
   "metadata": {},
   "outputs": [
    {
     "name": "stdout",
     "output_type": "stream",
     "text": [
      "change the configuration file if not done yet!\n"
     ]
    }
   ],
   "source": [
    "print('change the configuration file if not done yet!')\n",
    "path_extracted_data = config.path_extracted_data\n",
    "id_run = config.id_run\n",
    "dico_matching = config.dico_matching\n",
    "li_nbr_block_repetition = config.li_nbr_block_repetition"
   ]
  },
  {
   "cell_type": "markdown",
   "metadata": {},
   "source": [
    "# Verification"
   ]
  },
  {
   "cell_type": "raw",
   "metadata": {},
   "source": [
    "One should verify here if there is some error in the UTIL script.\n",
    "Besides the value in the entry, the extreme case worth beeing investigating too. As the day befre and after health assement, of the initial and last record of one hen, or the first and middle and last hen\n",
    "besides this one should also check the *_event csv files"
   ]
  },
  {
   "cell_type": "code",
   "execution_count": null,
   "metadata": {},
   "outputs": [],
   "source": [
    "#for being more reproductible, we open the file that was saved from cleaning\n",
    "df = pd.read_csv(os.path.join(path_extracted_data, id_run+'_record_with_allcleaned_info.csv'), sep=';', parse_dates=['Timestamp']) \n",
    "print(df.shape)\n",
    "df.head(3)"
   ]
  },
  {
   "cell_type": "markdown",
   "metadata": {},
   "source": [
    "#### variabe computation"
   ]
  },
  {
   "cell_type": "code",
   "execution_count": null,
   "metadata": {
    "scrolled": true
   },
   "outputs": [],
   "source": [
    "#variable computation\n",
    "li_var_computation = ['ts_order','Timestamp', 'HenID', 'Zone',\n",
    "                      'next_record_date', 'next_zone', 'duration', \n",
    "                      'previous_record_date', 'previous_zone', 'previous_duration','previous_previous_zone']\n",
    "df[li_var_computation]"
   ]
  },
  {
   "cell_type": "code",
   "execution_count": null,
   "metadata": {
    "scrolled": true
   },
   "outputs": [],
   "source": [
    "df[df['HenID']=='hen_7X'][li_var_computation]"
   ]
  },
  {
   "cell_type": "markdown",
   "metadata": {},
   "source": [
    "#### flickering type 2"
   ]
  },
  {
   "cell_type": "raw",
   "metadata": {},
   "source": [
    "the \"sequence_type\" column is computed from the below zones\n",
    "Zone_sequence is of size one if its a sequence that is ot flickering type 2 (e.f. ER)"
   ]
  },
  {
   "cell_type": "code",
   "execution_count": null,
   "metadata": {},
   "outputs": [],
   "source": [
    "li_fl2 = ['Timestamp', 'HenID', 'Zone', 'test_isfirst_flickering2', 'test_islast_flickering2', 'Zone_sequence', \n",
    "          'Zone_sequence_without_cez', 'nbr_record', 'sequence_at_least_3_repetition', 'sequence_type', \n",
    "          'Zone_sequence_timestamp','test_is_flickering2','zone_flickering2']\n",
    "df[li_fl2]"
   ]
  },
  {
   "cell_type": "code",
   "execution_count": null,
   "metadata": {},
   "outputs": [],
   "source": [
    "df['test_is_flickering2'].value_counts()"
   ]
  },
  {
   "cell_type": "code",
   "execution_count": null,
   "metadata": {},
   "outputs": [],
   "source": [
    "df[df['HenID']=='hen_9A'][li_fl2]"
   ]
  },
  {
   "cell_type": "markdown",
   "metadata": {},
   "source": [
    "#### flickering type 1"
   ]
  },
  {
   "cell_type": "raw",
   "metadata": {},
   "source": [
    "Note that \"Zone_without_flickering\" has already the interzones with one unique zone replaced by the zone (inducing some flickering_f alone"
   ]
  },
  {
   "cell_type": "code",
   "execution_count": null,
   "metadata": {},
   "outputs": [],
   "source": [
    "li_fl1 = ['Timestamp', 'HenID', 'Zone', 'duration', 'previous_duration', \n",
    "          'test_Zone_without_flickering_nonaming', 'interzone_name', 'Zone_without_flickering','interzone_info',\n",
    "          'test_tuple_previousinter_inter','test_ToRemove_flickering1']\n",
    "df[li_fl1]"
   ]
  },
  {
   "cell_type": "code",
   "execution_count": null,
   "metadata": {},
   "outputs": [],
   "source": [
    "df[(df['HenID']=='hen_10B') & (df['Timestamp']>=dt.datetime(2019,8,22,4,10,50))][li_fl1].head(10)"
   ]
  },
  {
   "cell_type": "code",
   "execution_count": null,
   "metadata": {},
   "outputs": [],
   "source": [
    "df['Zone_without_flickering'].value_counts()"
   ]
  },
  {
   "cell_type": "markdown",
   "metadata": {},
   "source": [
    "#### enveloppe"
   ]
  },
  {
   "cell_type": "code",
   "execution_count": null,
   "metadata": {},
   "outputs": [],
   "source": [
    "li_env = ['Timestamp','HenID','log_file_name','Zone','is_end_enveloppe', 'is_enveloppe', 'enveloppe']\n",
    "df[li_env]"
   ]
  },
  {
   "cell_type": "markdown",
   "metadata": {},
   "source": [
    "#### impossible mvt info"
   ]
  },
  {
   "cell_type": "code",
   "execution_count": null,
   "metadata": {},
   "outputs": [],
   "source": [
    "li_imvt = ['Timestamp', 'HenID', 'Zone', 'next_zone', 'test_tuple_record_nextrecord', 'is_impossible_mvt', 'mvt_type']\n",
    "df[li_imvt]"
   ]
  },
  {
   "cell_type": "code",
   "execution_count": null,
   "metadata": {},
   "outputs": [],
   "source": [
    "df[df['is_impossible_mvt']][li_imvt].head(3)"
   ]
  },
  {
   "cell_type": "code",
   "execution_count": null,
   "metadata": {},
   "outputs": [],
   "source": [
    "#look at consecutives records with an impossible movement \n",
    "df[(df['HenID']=='hen_10A') & (df['Timestamp']>=dt.datetime(2019,7,8,7,17,0))][li_imvt].head(8)"
   ]
  },
  {
   "cell_type": "markdown",
   "metadata": {},
   "source": [
    "#### variable to use to remove wrong records"
   ]
  },
  {
   "cell_type": "raw",
   "metadata": {},
   "source": [
    "To be continued when rules are defined"
   ]
  },
  {
   "cell_type": "code",
   "execution_count": null,
   "metadata": {
    "scrolled": true
   },
   "outputs": [],
   "source": [
    "li_cor = ['Timestamp', 'HenID', 'Zone', 'correction_is_consecutive_equal_initial_zone', 'is_impossible_mvt', \n",
    "          'test_ToRemove_flickering1']\n",
    "#TODO: flickering type 2\n",
    "df[li_cor]"
   ]
  },
  {
   "cell_type": "code",
   "execution_count": null,
   "metadata": {},
   "outputs": [],
   "source": []
  },
  {
   "cell_type": "code",
   "execution_count": null,
   "metadata": {},
   "outputs": [],
   "source": []
  },
  {
   "cell_type": "code",
   "execution_count": null,
   "metadata": {},
   "outputs": [],
   "source": []
  },
  {
   "cell_type": "code",
   "execution_count": null,
   "metadata": {},
   "outputs": [],
   "source": []
  },
  {
   "cell_type": "code",
   "execution_count": null,
   "metadata": {},
   "outputs": [],
   "source": []
  },
  {
   "cell_type": "code",
   "execution_count": null,
   "metadata": {},
   "outputs": [],
   "source": []
  },
  {
   "cell_type": "code",
   "execution_count": null,
   "metadata": {},
   "outputs": [],
   "source": []
  }
 ],
 "metadata": {
  "kernelspec": {
   "display_name": "Python 3",
   "language": "python",
   "name": "python3"
  },
  "language_info": {
   "codemirror_mode": {
    "name": "ipython",
    "version": 3
   },
   "file_extension": ".py",
   "mimetype": "text/x-python",
   "name": "python",
   "nbconvert_exporter": "python",
   "pygments_lexer": "ipython3",
   "version": "3.6.10"
  }
 },
 "nbformat": 4,
 "nbformat_minor": 2
}
