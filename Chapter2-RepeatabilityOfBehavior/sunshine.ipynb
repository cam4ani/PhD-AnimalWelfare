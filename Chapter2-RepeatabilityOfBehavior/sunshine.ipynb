{
 "cells": [
  {
   "cell_type": "code",
   "execution_count": 1,
   "id": "788bf8e3",
   "metadata": {},
   "outputs": [],
   "source": [
    "#basic package\n",
    "import tqdm\n",
    "import os\n",
    "import numpy as np\n",
    "import glob\n",
    "import pandas as pd\n",
    "import sys\n",
    "import time\n",
    "import datetime as dt\n",
    "import itertools\n",
    "import re\n",
    "import math\n",
    "import pickle #to download MLP vectors\n",
    "import random\n",
    "\n",
    "#plot\n",
    "import matplotlib.pyplot as plt\n",
    "import seaborn as sns"
   ]
  },
  {
   "cell_type": "code",
   "execution_count": 2,
   "id": "371f5f7e",
   "metadata": {},
   "outputs": [
    {
     "name": "stderr",
     "output_type": "stream",
     "text": [
      "C:\\Users\\camil\\anaconda3\\lib\\site-packages\\scipy\\sparse\\sparsetools.py:21: DeprecationWarning: `scipy.sparse.sparsetools` is deprecated!\n",
      "scipy.sparse.sparsetools is a private module for scipy.sparse, and should not be used.\n",
      "  _deprecated()\n"
     ]
    },
    {
     "name": "stdout",
     "output_type": "stream",
     "text": [
      "2\n"
     ]
    }
   ],
   "source": [
    "PACKAGE_PARENT = '../'\n",
    "SCRIPT_DIR = os.path.dirname(os.path.realpath(os.path.join(os.getcwd(), os.path.expanduser('__file__'))))\n",
    "sys.path.append(os.path.normpath(os.path.join(SCRIPT_DIR, PACKAGE_PARENT)))\n",
    "from UTILS import preprocessing_Origins, nbrh_WG_open, mid_cum_Z4_sec\n",
    "import config_origins as config"
   ]
  },
  {
   "cell_type": "code",
   "execution_count": 3,
   "id": "e4c6a029",
   "metadata": {},
   "outputs": [
    {
     "name": "stdout",
     "output_type": "stream",
     "text": [
      "change the configuration file if not done yet!\n",
      "ALLDATA_\n"
     ]
    }
   ],
   "source": [
    "print('change the configuration file if not done yet!')\n",
    "path_extracted_data = config.path_extracted_data\n",
    "path_initial_data = config.path_initial_data\n",
    "dico_garden_opening_hour = config.dico_garden_opening_hour\n",
    "id_run = config.id_run\n",
    "date_consistent_barn_schedule = config.date_consistent_barn_schedule\n",
    "dico_matching = config.dico_matching\n",
    "print(id_run)"
   ]
  },
  {
   "cell_type": "code",
   "execution_count": 7,
   "id": "238e3a83",
   "metadata": {},
   "outputs": [],
   "source": [
    "#TODO: check if sunlight has 10mn delay backward or forward"
   ]
  },
  {
   "cell_type": "markdown",
   "id": "c06aae6b",
   "metadata": {},
   "source": [
    "# download data"
   ]
  },
  {
   "cell_type": "code",
   "execution_count": 5,
   "id": "d09c9c48",
   "metadata": {},
   "outputs": [
    {
     "name": "stdout",
     "output_type": "stream",
     "text": [
      "(39382, 70)\n"
     ]
    },
    {
     "data": {
      "text/html": [
       "<div>\n",
       "<style scoped>\n",
       "    .dataframe tbody tr th:only-of-type {\n",
       "        vertical-align: middle;\n",
       "    }\n",
       "\n",
       "    .dataframe tbody tr th {\n",
       "        vertical-align: top;\n",
       "    }\n",
       "\n",
       "    .dataframe thead th {\n",
       "        text-align: right;\n",
       "    }\n",
       "</style>\n",
       "<table border=\"1\" class=\"dataframe\">\n",
       "  <thead>\n",
       "    <tr style=\"text-align: right;\">\n",
       "      <th></th>\n",
       "      <th>HenID</th>\n",
       "      <th>level</th>\n",
       "      <th>duration_1_Zone</th>\n",
       "      <th>duration_2_Zone</th>\n",
       "      <th>duration_3_Zone</th>\n",
       "      <th>duration_4_Zone</th>\n",
       "      <th>duration_5_Zone</th>\n",
       "      <th>verification_daily_total_duration</th>\n",
       "      <th>verification_daily_total_nbr_hour</th>\n",
       "      <th>dur_values</th>\n",
       "      <th>...</th>\n",
       "      <th>night_Max_duration_zones</th>\n",
       "      <th>night_duration_Z5</th>\n",
       "      <th>night_Total_number_transition</th>\n",
       "      <th>is_mvt_night</th>\n",
       "      <th>nbr_h_per_day</th>\n",
       "      <th>correct_amount_of_hour</th>\n",
       "      <th>DOA</th>\n",
       "      <th>WOA</th>\n",
       "      <th>DIB</th>\n",
       "      <th>WIB</th>\n",
       "    </tr>\n",
       "  </thead>\n",
       "  <tbody>\n",
       "    <tr>\n",
       "      <th>0</th>\n",
       "      <td>hen_130</td>\n",
       "      <td>2020-10-05</td>\n",
       "      <td>NaN</td>\n",
       "      <td>0.0</td>\n",
       "      <td>0.0</td>\n",
       "      <td>0.0</td>\n",
       "      <td>32400.0</td>\n",
       "      <td>32400.0</td>\n",
       "      <td>9.0</td>\n",
       "      <td>[0.0, 0.0, 0.0, 0.0, 32400.0]</td>\n",
       "      <td>...</td>\n",
       "      <td>5_Zone</td>\n",
       "      <td>54000.0</td>\n",
       "      <td>0.0</td>\n",
       "      <td>0.0</td>\n",
       "      <td>9</td>\n",
       "      <td>True</td>\n",
       "      <td>124</td>\n",
       "      <td>18</td>\n",
       "      <td>6</td>\n",
       "      <td>1</td>\n",
       "    </tr>\n",
       "    <tr>\n",
       "      <th>1</th>\n",
       "      <td>hen_130</td>\n",
       "      <td>2020-10-06</td>\n",
       "      <td>NaN</td>\n",
       "      <td>0.0</td>\n",
       "      <td>780.0</td>\n",
       "      <td>325.0</td>\n",
       "      <td>31295.0</td>\n",
       "      <td>32400.0</td>\n",
       "      <td>9.0</td>\n",
       "      <td>[0.0, 0.0, 780.0, 325.0, 31295.0]</td>\n",
       "      <td>...</td>\n",
       "      <td>3_Zone</td>\n",
       "      <td>5363.0</td>\n",
       "      <td>1.0</td>\n",
       "      <td>1.0</td>\n",
       "      <td>9</td>\n",
       "      <td>True</td>\n",
       "      <td>125</td>\n",
       "      <td>18</td>\n",
       "      <td>7</td>\n",
       "      <td>1</td>\n",
       "    </tr>\n",
       "    <tr>\n",
       "      <th>2</th>\n",
       "      <td>hen_130</td>\n",
       "      <td>2020-10-07</td>\n",
       "      <td>NaN</td>\n",
       "      <td>206.0</td>\n",
       "      <td>249.0</td>\n",
       "      <td>130.0</td>\n",
       "      <td>31815.0</td>\n",
       "      <td>32400.0</td>\n",
       "      <td>9.0</td>\n",
       "      <td>[0.0, 206.0, 249.0, 130.0, 31815.0]</td>\n",
       "      <td>...</td>\n",
       "      <td>5_Zone</td>\n",
       "      <td>54000.0</td>\n",
       "      <td>0.0</td>\n",
       "      <td>0.0</td>\n",
       "      <td>9</td>\n",
       "      <td>True</td>\n",
       "      <td>126</td>\n",
       "      <td>18</td>\n",
       "      <td>8</td>\n",
       "      <td>2</td>\n",
       "    </tr>\n",
       "  </tbody>\n",
       "</table>\n",
       "<p>3 rows × 70 columns</p>\n",
       "</div>"
      ],
      "text/plain": [
       "     HenID      level  duration_1_Zone  duration_2_Zone  duration_3_Zone  \\\n",
       "0  hen_130 2020-10-05              NaN              0.0              0.0   \n",
       "1  hen_130 2020-10-06              NaN              0.0            780.0   \n",
       "2  hen_130 2020-10-07              NaN            206.0            249.0   \n",
       "\n",
       "   duration_4_Zone  duration_5_Zone  verification_daily_total_duration  \\\n",
       "0              0.0          32400.0                            32400.0   \n",
       "1            325.0          31295.0                            32400.0   \n",
       "2            130.0          31815.0                            32400.0   \n",
       "\n",
       "   verification_daily_total_nbr_hour                           dur_values  \\\n",
       "0                                9.0        [0.0, 0.0, 0.0, 0.0, 32400.0]   \n",
       "1                                9.0    [0.0, 0.0, 780.0, 325.0, 31295.0]   \n",
       "2                                9.0  [0.0, 206.0, 249.0, 130.0, 31815.0]   \n",
       "\n",
       "   ... night_Max_duration_zones  night_duration_Z5  \\\n",
       "0  ...                   5_Zone            54000.0   \n",
       "1  ...                   3_Zone             5363.0   \n",
       "2  ...                   5_Zone            54000.0   \n",
       "\n",
       "   night_Total_number_transition  is_mvt_night  nbr_h_per_day  \\\n",
       "0                            0.0           0.0              9   \n",
       "1                            1.0           1.0              9   \n",
       "2                            0.0           0.0              9   \n",
       "\n",
       "   correct_amount_of_hour  DOA  WOA  DIB WIB  \n",
       "0                    True  124   18    6   1  \n",
       "1                    True  125   18    7   1  \n",
       "2                    True  126   18    8   2  \n",
       "\n",
       "[3 rows x 70 columns]"
      ]
     },
     "execution_count": 5,
     "metadata": {},
     "output_type": "execute_result"
    }
   ],
   "source": [
    "#mvt data\n",
    "df_daily = pd.read_csv(os.path.join(path_extracted_data, id_run+'_daily_ALL_variables.csv'), sep=';',\n",
    "                 parse_dates=['level', 'FirstTimestamp_1_Zone', 'FirstTimestamp_2_Zone', 'FirstTimestamp_3_Zone',\n",
    "                             'FirstTimestamp_4_Zone','FirstTimestamp_5_Zone'],\n",
    "                 dayfirst=True) \n",
    "df_daily = df_daily[df_daily['level']!=dt.datetime(2021,7,25)]\n",
    "print(df_daily.shape)\n",
    "df_daily.head(3)"
   ]
  },
  {
   "cell_type": "code",
   "execution_count": 6,
   "id": "f1a0640f",
   "metadata": {},
   "outputs": [
    {
     "name": "stdout",
     "output_type": "stream",
     "text": [
      "2020-01-10 00:00:00 2021-12-07 00:00:00\n"
     ]
    },
    {
     "data": {
      "image/png": "[encoded data removed]",
      "text/plain": [
       "<Figure size 432x288 with 1 Axes>"
      ]
     },
     "metadata": {
      "needs_background": "light"
     },
     "output_type": "display_data"
    },
    {
     "name": "stdout",
     "output_type": "stream",
     "text": [
      "(27360, 4)\n"
     ]
    },
    {
     "data": {
      "text/html": [
       "<div>\n",
       "<style scoped>\n",
       "    .dataframe tbody tr th:only-of-type {\n",
       "        vertical-align: middle;\n",
       "    }\n",
       "\n",
       "    .dataframe tbody tr th {\n",
       "        vertical-align: top;\n",
       "    }\n",
       "\n",
       "    .dataframe thead th {\n",
       "        text-align: right;\n",
       "    }\n",
       "</style>\n",
       "<table border=\"1\" class=\"dataframe\">\n",
       "  <thead>\n",
       "    <tr style=\"text-align: right;\">\n",
       "      <th></th>\n",
       "      <th>stn</th>\n",
       "      <th>time</th>\n",
       "      <th>sre000z0</th>\n",
       "      <th>level</th>\n",
       "    </tr>\n",
       "  </thead>\n",
       "  <tbody>\n",
       "    <tr>\n",
       "      <th>13</th>\n",
       "      <td>BER</td>\n",
       "      <td>02:10:00</td>\n",
       "      <td>0</td>\n",
       "      <td>2020-01-10</td>\n",
       "    </tr>\n",
       "    <tr>\n",
       "      <th>14</th>\n",
       "      <td>BER</td>\n",
       "      <td>02:20:00</td>\n",
       "      <td>0</td>\n",
       "      <td>2020-01-10</td>\n",
       "    </tr>\n",
       "    <tr>\n",
       "      <th>15</th>\n",
       "      <td>BER</td>\n",
       "      <td>02:30:00</td>\n",
       "      <td>0</td>\n",
       "      <td>2020-01-10</td>\n",
       "    </tr>\n",
       "  </tbody>\n",
       "</table>\n",
       "</div>"
      ],
      "text/plain": [
       "    stn      time  sre000z0      level\n",
       "13  BER  02:10:00         0 2020-01-10\n",
       "14  BER  02:20:00         0 2020-01-10\n",
       "15  BER  02:30:00         0 2020-01-10"
      ]
     },
     "metadata": {},
     "output_type": "display_data"
    },
    {
     "data": {
      "text/html": [
       "<div>\n",
       "<style scoped>\n",
       "    .dataframe tbody tr th:only-of-type {\n",
       "        vertical-align: middle;\n",
       "    }\n",
       "\n",
       "    .dataframe tbody tr th {\n",
       "        vertical-align: top;\n",
       "    }\n",
       "\n",
       "    .dataframe thead th {\n",
       "        text-align: right;\n",
       "    }\n",
       "</style>\n",
       "<table border=\"1\" class=\"dataframe\">\n",
       "  <thead>\n",
       "    <tr style=\"text-align: right;\">\n",
       "      <th></th>\n",
       "      <th>stn</th>\n",
       "      <th>time</th>\n",
       "      <th>sre000z0</th>\n",
       "      <th>level</th>\n",
       "    </tr>\n",
       "  </thead>\n",
       "  <tbody>\n",
       "    <tr>\n",
       "      <th>40996</th>\n",
       "      <td>BER</td>\n",
       "      <td>16:40:00</td>\n",
       "      <td>0</td>\n",
       "      <td>2021-12-07</td>\n",
       "    </tr>\n",
       "    <tr>\n",
       "      <th>40997</th>\n",
       "      <td>BER</td>\n",
       "      <td>16:50:00</td>\n",
       "      <td>0</td>\n",
       "      <td>2021-12-07</td>\n",
       "    </tr>\n",
       "    <tr>\n",
       "      <th>40998</th>\n",
       "      <td>BER</td>\n",
       "      <td>17:00:00</td>\n",
       "      <td>0</td>\n",
       "      <td>2021-12-07</td>\n",
       "    </tr>\n",
       "  </tbody>\n",
       "</table>\n",
       "</div>"
      ],
      "text/plain": [
       "       stn      time  sre000z0      level\n",
       "40996  BER  16:40:00         0 2021-12-07\n",
       "40997  BER  16:50:00         0 2021-12-07\n",
       "40998  BER  17:00:00         0 2021-12-07"
      ]
     },
     "metadata": {},
     "output_type": "display_data"
    },
    {
     "data": {
      "text/plain": [
       "0    17864\n",
       "1     9496\n",
       "Name: li_S, dtype: int64"
      ]
     },
     "metadata": {},
     "output_type": "display_data"
    },
    {
     "data": {
      "text/plain": [
       "54000    304\n",
       "Name: nbr_val, dtype: int64"
      ]
     },
     "metadata": {},
     "output_type": "display_data"
    },
    {
     "name": "stdout",
     "output_type": "stream",
     "text": [
      "15.0\n"
     ]
    },
    {
     "data": {
      "text/html": [
       "<div>\n",
       "<style scoped>\n",
       "    .dataframe tbody tr th:only-of-type {\n",
       "        vertical-align: middle;\n",
       "    }\n",
       "\n",
       "    .dataframe tbody tr th {\n",
       "        vertical-align: top;\n",
       "    }\n",
       "\n",
       "    .dataframe thead th {\n",
       "        text-align: right;\n",
       "    }\n",
       "</style>\n",
       "<table border=\"1\" class=\"dataframe\">\n",
       "  <thead>\n",
       "    <tr style=\"text-align: right;\">\n",
       "      <th></th>\n",
       "      <th>level</th>\n",
       "      <th>li_S</th>\n",
       "      <th>nbr_val</th>\n",
       "    </tr>\n",
       "  </thead>\n",
       "  <tbody>\n",
       "    <tr>\n",
       "      <th>0</th>\n",
       "      <td>2020-01-10</td>\n",
       "      <td>[0, 0, 0, 0, 0, 0, 0, 0, 0, 0, 0, 0, 0, 0, 0, ...</td>\n",
       "      <td>54000</td>\n",
       "    </tr>\n",
       "    <tr>\n",
       "      <th>1</th>\n",
       "      <td>2020-01-11</td>\n",
       "      <td>[0, 0, 0, 0, 0, 0, 0, 0, 0, 0, 0, 0, 0, 0, 0, ...</td>\n",
       "      <td>54000</td>\n",
       "    </tr>\n",
       "    <tr>\n",
       "      <th>2</th>\n",
       "      <td>2020-01-12</td>\n",
       "      <td>[0, 0, 0, 0, 0, 0, 0, 0, 0, 0, 0, 0, 0, 0, 0, ...</td>\n",
       "      <td>54000</td>\n",
       "    </tr>\n",
       "  </tbody>\n",
       "</table>\n",
       "</div>"
      ],
      "text/plain": [
       "       level                                               li_S  nbr_val\n",
       "0 2020-01-10  [0, 0, 0, 0, 0, 0, 0, 0, 0, 0, 0, 0, 0, 0, 0, ...    54000\n",
       "1 2020-01-11  [0, 0, 0, 0, 0, 0, 0, 0, 0, 0, 0, 0, 0, 0, 0, ...    54000\n",
       "2 2020-01-12  [0, 0, 0, 0, 0, 0, 0, 0, 0, 0, 0, 0, 0, 0, 0, ...    54000"
      ]
     },
     "metadata": {},
     "output_type": "display_data"
    },
    {
     "name": "stdout",
     "output_type": "stream",
     "text": [
      "(304, 3)\n"
     ]
    },
    {
     "data": {
      "image/png": "[encoded data removed]",
      "text/plain": [
       "<Figure size 432x288 with 1 Axes>"
      ]
     },
     "metadata": {
      "needs_background": "light"
     },
     "output_type": "display_data"
    },
    {
     "data": {
      "image/png": "[encoded data removed]",
      "text/plain": [
       "<Figure size 1080x216 with 1 Axes>"
      ]
     },
     "metadata": {
      "needs_background": "light"
     },
     "output_type": "display_data"
    }
   ],
   "source": [
    "#Stimulus\n",
    "path_ = r'G:\\VPHI\\Welfare\\2- Research Projects\\OFHE2.OriginsE2\\DataOutput\\order103345'\n",
    "df = pd.read_csv(os.path.join(path_, 'order_103345_data.txt'), sep=';',\n",
    "                 parse_dates=['time'],\n",
    "                 dayfirst=True) \n",
    "df['level'] = df['time'].map(lambda x: dt.datetime(x.year, x.month, x.day))\n",
    "df['time'] = df['time'].map(lambda x: dt.datetime.time(x))\n",
    "#logically, 2h10 should be for 2h-2h10 as they will record once the data has arrived so lets take from 2h10 until 17h\n",
    "df = df[(df['time']>dt.time(2,0,0))&(df['time']<=dt.time(17,0,0))]\n",
    "print(min(df['level']), max(df['level']))\n",
    "plt.hist(df['sre000z0'], bins=11);\n",
    "plt.show();\n",
    "print(df.shape)\n",
    "df.head(3)\n",
    "\n",
    "### add li_S\n",
    "df_S = df.sort_values(['level','time']).copy()\n",
    "display(df_S.head(3))\n",
    "display(df_S.tail(3))\n",
    "#10mn batch in the data: so repeat each element to have the stimulus at the second level, assuming 2h10 is from 2-2h10\n",
    "df_S['li_S'] = df_S['sre000z0'].map(lambda x: int(x>0)) #1 if >0 0 else\n",
    "display(df_S['li_S'].value_counts())\n",
    "df_S = df_S.groupby(['level'])['li_S'].agg(lambda x: list(np.repeat(x, 10*60))).reset_index()\n",
    "df_S['nbr_val'] = df_S['li_S'].map(lambda x: len(x))\n",
    "display(df_S['nbr_val'].value_counts())\n",
    "print(54000/60/60)\n",
    "df_S\n",
    "display(df_S.head(3))\n",
    "print(df_S.shape)\n",
    "df_S['total_ensoleillement (mn)'] = df_S['li_S'].map(lambda x: sum(x)/60)\n",
    "plt.hist(df_S['total_ensoleillement (mn)']);\n",
    "plt.show()\n",
    "plt.figure(figsize=(15,3))\n",
    "sns.pointplot(x='level',y='total_ensoleillement (mn)', data=df_S, s=1);"
   ]
  },
  {
   "cell_type": "markdown",
   "id": "9259f536",
   "metadata": {},
   "source": [
    "## construct li_B: in wg or not"
   ]
  },
  {
   "cell_type": "code",
   "execution_count": 8,
   "id": "cf43d4ad",
   "metadata": {},
   "outputs": [
    {
     "data": {
      "text/html": [
       "<div>\n",
       "<style scoped>\n",
       "    .dataframe tbody tr th:only-of-type {\n",
       "        vertical-align: middle;\n",
       "    }\n",
       "\n",
       "    .dataframe tbody tr th {\n",
       "        vertical-align: top;\n",
       "    }\n",
       "\n",
       "    .dataframe thead th {\n",
       "        text-align: right;\n",
       "    }\n",
       "</style>\n",
       "<table border=\"1\" class=\"dataframe\">\n",
       "  <thead>\n",
       "    <tr style=\"text-align: right;\">\n",
       "      <th></th>\n",
       "      <th>level</th>\n",
       "      <th>HenID</th>\n",
       "      <th>list_ZALL</th>\n",
       "    </tr>\n",
       "  </thead>\n",
       "  <tbody>\n",
       "    <tr>\n",
       "      <th>0</th>\n",
       "      <td>2020-10-05</td>\n",
       "      <td>hen_130</td>\n",
       "      <td>[5, 5, 5, 5, 5, 5, 5, 5, 5, 5, 5, 5, 5, 5, 5, ...</td>\n",
       "    </tr>\n",
       "    <tr>\n",
       "      <th>1</th>\n",
       "      <td>2020-10-06</td>\n",
       "      <td>hen_130</td>\n",
       "      <td>[5, 5, 5, 5, 5, 5, 5, 5, 5, 5, 5, 5, 5, 5, 5, ...</td>\n",
       "    </tr>\n",
       "    <tr>\n",
       "      <th>2</th>\n",
       "      <td>2020-10-07</td>\n",
       "      <td>hen_130</td>\n",
       "      <td>[3, 3, 3, 3, 3, 3, 3, 3, 3, 3, 3, 3, 3, 3, 3, ...</td>\n",
       "    </tr>\n",
       "  </tbody>\n",
       "</table>\n",
       "</div>"
      ],
      "text/plain": [
       "       level    HenID                                          list_ZALL\n",
       "0 2020-10-05  hen_130  [5, 5, 5, 5, 5, 5, 5, 5, 5, 5, 5, 5, 5, 5, 5, ...\n",
       "1 2020-10-06  hen_130  [5, 5, 5, 5, 5, 5, 5, 5, 5, 5, 5, 5, 5, 5, 5, ...\n",
       "2 2020-10-07  hen_130  [3, 3, 3, 3, 3, 3, 3, 3, 3, 3, 3, 3, 3, 3, 3, ..."
      ]
     },
     "execution_count": 8,
     "metadata": {},
     "output_type": "execute_result"
    }
   ],
   "source": [
    "#df_B = df_daily[(df_daily['level']>dt.datetime(2020,11,20))&(df_daily['level']<dt.datetime(2020,11,27))].copy()\n",
    "df_B = df_daily.copy()\n",
    "df_B[['level','HenID','list_ZALL']].head(3)"
   ]
  },
  {
   "cell_type": "code",
   "execution_count": 9,
   "id": "020be71d",
   "metadata": {},
   "outputs": [
    {
     "data": {
      "text/html": [
       "<div>\n",
       "<style scoped>\n",
       "    .dataframe tbody tr th:only-of-type {\n",
       "        vertical-align: middle;\n",
       "    }\n",
       "\n",
       "    .dataframe tbody tr th {\n",
       "        vertical-align: top;\n",
       "    }\n",
       "\n",
       "    .dataframe thead th {\n",
       "        text-align: right;\n",
       "    }\n",
       "</style>\n",
       "<table border=\"1\" class=\"dataframe\">\n",
       "  <thead>\n",
       "    <tr style=\"text-align: right;\">\n",
       "      <th></th>\n",
       "      <th>level</th>\n",
       "      <th>HenID</th>\n",
       "      <th>list_ZALL</th>\n",
       "      <th>li_B_</th>\n",
       "    </tr>\n",
       "  </thead>\n",
       "  <tbody>\n",
       "    <tr>\n",
       "      <th>0</th>\n",
       "      <td>2020-10-05</td>\n",
       "      <td>hen_130</td>\n",
       "      <td>[5, 5, 5, 5, 5, 5, 5, 5, 5, 5, 5, 5, 5, 5, 5, ...</td>\n",
       "      <td>[0, 0, 0, 0, 0, 0, 0, 0, 0, 0, 0, 0, 0, 0, 0, ...</td>\n",
       "    </tr>\n",
       "    <tr>\n",
       "      <th>1</th>\n",
       "      <td>2020-10-06</td>\n",
       "      <td>hen_130</td>\n",
       "      <td>[5, 5, 5, 5, 5, 5, 5, 5, 5, 5, 5, 5, 5, 5, 5, ...</td>\n",
       "      <td>[0, 0, 0, 0, 0, 0, 0, 0, 0, 0, 0, 0, 0, 0, 0, ...</td>\n",
       "    </tr>\n",
       "    <tr>\n",
       "      <th>2</th>\n",
       "      <td>2020-10-07</td>\n",
       "      <td>hen_130</td>\n",
       "      <td>[3, 3, 3, 3, 3, 3, 3, 3, 3, 3, 3, 3, 3, 3, 3, ...</td>\n",
       "      <td>[0, 0, 0, 0, 0, 0, 0, 0, 0, 0, 0, 0, 0, 0, 0, ...</td>\n",
       "    </tr>\n",
       "  </tbody>\n",
       "</table>\n",
       "</div>"
      ],
      "text/plain": [
       "       level    HenID                                          list_ZALL  \\\n",
       "0 2020-10-05  hen_130  [5, 5, 5, 5, 5, 5, 5, 5, 5, 5, 5, 5, 5, 5, 5, ...   \n",
       "1 2020-10-06  hen_130  [5, 5, 5, 5, 5, 5, 5, 5, 5, 5, 5, 5, 5, 5, 5, ...   \n",
       "2 2020-10-07  hen_130  [3, 3, 3, 3, 3, 3, 3, 3, 3, 3, 3, 3, 3, 3, 3, ...   \n",
       "\n",
       "                                               li_B_  \n",
       "0  [0, 0, 0, 0, 0, 0, 0, 0, 0, 0, 0, 0, 0, 0, 0, ...  \n",
       "1  [0, 0, 0, 0, 0, 0, 0, 0, 0, 0, 0, 0, 0, 0, 0, ...  \n",
       "2  [0, 0, 0, 0, 0, 0, 0, 0, 0, 0, 0, 0, 0, 0, 0, ...  "
      ]
     },
     "execution_count": 9,
     "metadata": {},
     "output_type": "execute_result"
    }
   ],
   "source": [
    "dico_Z_B = {-1:-1,1:1,2:0,3:0,4:0,5:0}\n",
    "df_B['li_B_'] = df_B['list_ZALL'].map(lambda x: [dico_Z_B[i] for i in eval(x)])\n",
    "df_B[['level','HenID','list_ZALL','li_B_']].head(3)"
   ]
  },
  {
   "cell_type": "code",
   "execution_count": 37,
   "id": "704efe6c",
   "metadata": {},
   "outputs": [
    {
     "name": "stdout",
     "output_type": "stream",
     "text": [
      "[28800, 52500]\n",
      "262\n"
     ]
    }
   ],
   "source": [
    "def is_WG_open_basedonindex(x, config, epsi_open=0, epsi_close=20):\n",
    "    '''from a timestamp value x, the dico_ (typically: dico_garden_opening_hour) and the date_first_opening_WG parameters, \n",
    "    it will output true if the WG is open, false otherwise.\n",
    "    With the epsi_* parameters it allows to be more flexible with the true time of opening/closing'''\n",
    "    \n",
    "    dico_ = config.dico_garden_opening_hour\n",
    "    date_first_opening_WG = config.date_first_opening_WG\n",
    "    close_dates = config.close_dates\n",
    "    \n",
    "    #if no record return something so taht the wg will be interpretad a close here\n",
    "    if pd.isnull(x)==True:\n",
    "        return([15*60*60,0])\n",
    "    if (x<date_first_opening_WG) | (dt.datetime(x.year,x.month,x.day) in close_dates):\n",
    "        return([15*60*60,0])\n",
    "    if max(dico_.keys())<dt.datetime(x.year,x.month,x.day,0,0,0):\n",
    "        print('ERROR: your \\\"dico_garden_opening_hour\\\" parameter does not include information for the date: %s'%str(x))\n",
    "        sys.exit()\n",
    "    else:\n",
    "        #take info (i.e. values) of the dico_ key that represent the smallest date among all the date>=x:\n",
    "        m = min([d for d in dico_.keys() if d>=dt.datetime(x.year,x.month,x.day,0,0,0)])\n",
    "        #return the first index and last index to be included starting at 2h!!\n",
    "        return([(dico_[m]['start_h']-2)*60*60 + dico_[m]['start_m']*60, (dico_[m]['end_h']-2)*60*60 + dico_[m]['end_m']*60])\n",
    "    \n",
    "print(is_WG_open_basedonindex(dt.datetime(2020,11,12), config))\n",
    "dico_level_wgindex = {}\n",
    "for d in set(df_B['level'].tolist()):\n",
    "    dico_level_wgindex[d] = is_WG_open_basedonindex(d, config)\n",
    "#dico_level_wgindex\n",
    "print(len(dico_level_wgindex))"
   ]
  },
  {
   "cell_type": "code",
   "execution_count": 35,
   "id": "8532423a",
   "metadata": {},
   "outputs": [],
   "source": [
    "#very slow\n",
    "df_B['li_B'] = df_B.apply(lambda x: [-1 if (i<=dico_level_wgindex[x['level']][0]) | \\\n",
    "                                     (i>=dico_level_wgindex[x['level']][1]) else x['li_B_'][i] for i in range(0,len(x['li_B_']))], axis=1)"
   ]
  },
  {
   "cell_type": "code",
   "execution_count": 38,
   "id": "295fd9b5",
   "metadata": {},
   "outputs": [
    {
     "name": "stdout",
     "output_type": "stream",
     "text": [
      "[54000, 0]\n"
     ]
    },
    {
     "data": {
      "text/html": [
       "<div>\n",
       "<style scoped>\n",
       "    .dataframe tbody tr th:only-of-type {\n",
       "        vertical-align: middle;\n",
       "    }\n",
       "\n",
       "    .dataframe tbody tr th {\n",
       "        vertical-align: top;\n",
       "    }\n",
       "\n",
       "    .dataframe thead th {\n",
       "        text-align: right;\n",
       "    }\n",
       "</style>\n",
       "<table border=\"1\" class=\"dataframe\">\n",
       "  <thead>\n",
       "    <tr style=\"text-align: right;\">\n",
       "      <th></th>\n",
       "      <th>li_B</th>\n",
       "    </tr>\n",
       "  </thead>\n",
       "  <tbody>\n",
       "    <tr>\n",
       "      <th>0</th>\n",
       "      <td>[-1, -1, -1, -1, -1, -1, -1, -1, -1, -1, -1, -...</td>\n",
       "    </tr>\n",
       "    <tr>\n",
       "      <th>7</th>\n",
       "      <td>[-1, -1, -1, -1, -1, -1, -1, -1, -1, -1, -1, -...</td>\n",
       "    </tr>\n",
       "    <tr>\n",
       "      <th>117</th>\n",
       "      <td>[-1, -1, -1, -1, -1, -1, -1, -1, -1, -1, -1, -...</td>\n",
       "    </tr>\n",
       "  </tbody>\n",
       "</table>\n",
       "</div>"
      ],
      "text/plain": [
       "                                                  li_B\n",
       "0    [-1, -1, -1, -1, -1, -1, -1, -1, -1, -1, -1, -...\n",
       "7    [-1, -1, -1, -1, -1, -1, -1, -1, -1, -1, -1, -...\n",
       "117  [-1, -1, -1, -1, -1, -1, -1, -1, -1, -1, -1, -..."
      ]
     },
     "execution_count": 38,
     "metadata": {},
     "output_type": "execute_result"
    }
   ],
   "source": [
    "#small verification when wg is close\n",
    "print(dico_level_wgindex[dt.datetime(2020,10,5)])\n",
    "df_B[df_B['level']==dt.datetime(2020,10,5)][['li_B']].head(3)"
   ]
  },
  {
   "cell_type": "markdown",
   "id": "4904bc2b",
   "metadata": {},
   "source": [
    "## functions to compute behavioural tendency"
   ]
  },
  {
   "cell_type": "code",
   "execution_count": 54,
   "id": "b9a5a87d",
   "metadata": {},
   "outputs": [],
   "source": [
    "def get_stimulusInfo(df_S, SID, print_Debug=False):\n",
    "    '''IUntilA: until which index one could use after (incuding that number!!)\n",
    "    IUntilB: until which index one could use before (incuding that number!!)'''\n",
    "    #initialize output\n",
    "    dico_IDS_dfinfo = {}\n",
    "    li_IDS_nothing = []\n",
    "    \n",
    "    #loop over each row of the Stimulus dataframe\n",
    "    for i in range(0, df_S.shape[0]):\n",
    "        li_dico = []\n",
    "        li_S = df_S.iloc[i]['li_S']\n",
    "        IDS = df_S.iloc[i][SID]\n",
    "        #if no stimulus that day return np.nan\n",
    "        if sum(li_S)==0:\n",
    "            li_IDS_nothing.append(IDS)\n",
    "            #go to the next index without executing the below code\n",
    "            continue            \n",
    "            \n",
    "        #extract list of all indexes of when the stimulus occured\n",
    "        li_indexS = [i for i, x in enumerate(li_S) if x==1]\n",
    "        \n",
    "        #generate a dico with keys = periodID and values = list of indexs from that period\n",
    "        #first flag by 1 each values that is a start of a new period\n",
    "        li_newgroup = [1]+[0 if li_indexS[i]==(li_indexS[i-1]+1) else 1 for i in range(1,len(li_indexS))]\n",
    "        #then do cumulative som of that list to have period ditinguish by numbers\n",
    "        li_pidorder = np.cumsum(li_newgroup)\n",
    "        dico_pid_liInd = {}\n",
    "        for periodID in set(li_pidorder):\n",
    "            #get all indexed where periodID occured\n",
    "            li_pidindex = [i for i, x in enumerate(li_pidorder) if x==periodID]\n",
    "            #extract associated S index\n",
    "            dico_pid_liInd['p'+str(periodID)] = np.array(li_indexS)[li_pidindex]\n",
    "    \n",
    "        #extract usefull list\n",
    "        li_AllLast = [i[-1] for i in dico_pid_liInd.values()]\n",
    "        li_AllFirst = [i[0] for i in dico_pid_liInd.values()]\n",
    "    \n",
    "        for periodid,li_ind in dico_pid_liInd.items():\n",
    "            \n",
    "            #among li_AllLast values, the biggest that is smaller than IFirst\n",
    "            IPrevious = max([i for i in li_AllLast if i<li_ind[0]]+[np.nan])\n",
    "            #if IPrevious==np.nan, then 0 else IPrevious\n",
    "            IUntilB = IPrevious + 1 #+1 because it shouldnt be included in the previous period\n",
    "            if math.isnan(IPrevious)==True:\n",
    "                 IUntilB = 0  \n",
    "                            \n",
    "            #among li_AllFirst values, the smallest that is bigger than ILast\n",
    "            INext = min([i for i in li_AllFirst if i>li_ind[-1]]+[np.nan])\n",
    "            #ifINext==np.nan, then len(li_S) else INext\n",
    "            IUntilA = INext -1 #-1 because it shouldnt be included in the previous period\n",
    "            if math.isnan(INext)==True:\n",
    "                IUntilA = len(li_S)-1 #-1 as its an index, which start with 0\n",
    "                            \n",
    "            li_dico.append({** {'ID':periodid, \n",
    "                                'IFirst':li_ind[0],\n",
    "                                'ILast':li_ind[-1], \n",
    "                                'IPrevious':IPrevious, \n",
    "                                'IUntilB':IUntilB, \n",
    "                                'INext':INext, \n",
    "                                'IUntilA':IUntilA,\n",
    "                                'duration':len(li_ind)},\n",
    "                            ** dict(df_S.iloc[i][[SID]])})        \n",
    "        \n",
    "        df_SInfo = pd.DataFrame(li_dico)\n",
    "        if print_Debug:\n",
    "            display(df_SInfo.head(3))\n",
    "        dico_IDS_dfinfo[IDS] = df_SInfo\n",
    "        \n",
    "    return (dico_IDS_dfinfo, li_IDS_nothing)"
   ]
  },
  {
   "cell_type": "code",
   "execution_count": 49,
   "id": "e38d4148",
   "metadata": {},
   "outputs": [],
   "source": [
    "def select_periods(dico_IDS_dfinfo, R_beforeThisS, R_afterThisS, R_beforeAnoS, R_afterAnoS, ET, print_Debug=False):\n",
    "    ''' one row per period,level'''\n",
    "    #initialise output\n",
    "    li_df = []\n",
    "    \n",
    "    #for each stimulus ID\n",
    "    for IDS, df_info in dico_IDS_dfinfo.items():\n",
    "        \n",
    "        li_dico = []\n",
    "        #iterate over each of its period and flag with \"selected = 1\" the period that we want\n",
    "        for i in range(0,df_info.shape[0]):\n",
    "            X = df_info.iloc[i]\n",
    "            \n",
    "            #################### create list of index that we can use for random period (AFTER period) ####################\n",
    "            #if nothing after at all the return empty list\n",
    "            if X['IUntilA']==X['ILast']:\n",
    "                IAfterindex = [np.nan]\n",
    "                if print_Debug:\n",
    "                    print('AFTER: \\nIAfterindex = [np.nan]')\n",
    "                    \n",
    "            else:\n",
    "                #what we have\n",
    "                li_ = set(range(int(X['ILast'])+1, int(X['IUntilA'])+1)) #X['ILast']+1:should be included in the Bs, int(X['IUntilA'])+1: because until is included\n",
    "                #what we are generally allowed, when no other occurences is to close (i.e. based on This period only)\n",
    "                li_allowed = set(range(int(X['ILast'])+1+R_afterThisS[0], int(X['ILast'])+R_afterThisS[1]+1))\n",
    "                #what we should remove due to other S occurence (i.e. based on another period)\n",
    "                if math.isnan(X['INext'])==True:\n",
    "                    li_toremove = set()\n",
    "                else:\n",
    "                    li_toremove = set(range(int(X['INext'])-R_beforeAnoS, int(X['INext'])+1))\n",
    "\n",
    "                #intersection between what we have and what we are allowed to have\n",
    "                IAfterindex = list(li_ & li_allowed)\n",
    "                #remove element to close to other occurences\n",
    "                IAfterindex = set(IAfterindex) - li_toremove\n",
    "                if print_Debug:\n",
    "                    print('AFTER: \\nwhat we have:')\n",
    "                    print(li_)\n",
    "                    print('li_allowed (based on This period):')\n",
    "                    print(li_allowed)                \n",
    "                    print('li_toremove (based on Another period):')\n",
    "                    print(li_toremove)\n",
    "\n",
    "            #Note: below we use int() in the range() because 5.0 is a float for instance and cant go in the range \n",
    "            #################### create list of index that we can use for random period (BEFORE period) ####################\n",
    "            #if nothing before at all the return empty list\n",
    "            if X['IUntilB']==X['IFirst']:\n",
    "                Ibeforeindex = [np.nan]\n",
    "                if print_Debug:\n",
    "                    print('BEFORE: \\nIbeforeindex = [np.nan]')\n",
    "                \n",
    "            else:\n",
    "                #what we have\n",
    "                li_ = set(range(int(X['IUntilB']), int(X['IFirst']))) \n",
    "                #what we are generally allowed, when no other occurences is to close (i.e. based on This period only)\n",
    "                li_allowed = set(range(int(X['IFirst'])-R_beforeThisS[1], int(X['IFirst'])-R_beforeThisS[0]))\n",
    "                #what we should remove due to other S occurence (i.e. based on another period)\n",
    "                if math.isnan(X['IPrevious'])==True:\n",
    "                    li_toremove = set()\n",
    "                else:\n",
    "                    li_toremove = set(range(int(X['IPrevious']), int(X['IPrevious'])+R_afterAnoS+1))\n",
    "\n",
    "                #intersection between what we have and what we are allowed to have\n",
    "                Ibeforeindex = list(li_ & li_allowed)\n",
    "                #remove element to close to other occurences\n",
    "                Ibeforeindex = set(Ibeforeindex) - li_toremove\n",
    "                \n",
    "                if print_Debug:\n",
    "                    print('BEFORE: \\nwhat we have:')\n",
    "                    print(li_)\n",
    "                    print('li_allowed (based on This period):')\n",
    "                    print(li_allowed)                \n",
    "                    print('li_toremove (based on Another period):')\n",
    "                    print(li_toremove)\n",
    "\n",
    "            ################################################## Selection  ##################################################\n",
    "            #selection if Exposure Time (ET) is smaller or equal to what we have under S and at least eitherafter or before.\n",
    "            #Also, we want to compare thigns taht are comparable over different perio or SID, therefore we need to ensure \n",
    "            #that we can compute the mean of elements, and not having a single element only. We will set kind of\n",
    "            #arbitrarely that we need at least 2*ET to have enuogh to compute a mean on \"comparable\" to another mean with more\n",
    "            #units of time\n",
    "            #can be \n",
    "            flag_selected = 1\n",
    "            if ((len(Ibeforeindex)<ET*2) & (len(IAfterindex)<ET*2)) | (X['duration']<ET*2):\n",
    "                flag_selected = 0\n",
    "            ################################################# Save output  #################################################\n",
    "            if len(Ibeforeindex)<ET*2:\n",
    "                Ibeforeindex = [np.nan]\n",
    "            if len(IAfterindex)<ET*2:\n",
    "                IAfterindex = [np.nan]                \n",
    "            li_dico.append({** {'selected':flag_selected, 'Ibeforeindex':Ibeforeindex, 'IAfterindex':IAfterindex},\n",
    "                            ** dict(df_info.iloc[i])})        \n",
    "        df_SInfo = pd.DataFrame(li_dico)\n",
    "        if print_Debug:\n",
    "            display(df_SInfo)\n",
    "        df_SInfo['IDS'] = IDS\n",
    "        li_df.append(df_SInfo)\n",
    "\n",
    "    return (pd.concat(li_df))"
   ]
  },
  {
   "cell_type": "code",
   "execution_count": 67,
   "id": "37b9f7ff",
   "metadata": {},
   "outputs": [],
   "source": [
    "def behavioural_tendency(li_B, ET, Nbr_random, Ibeforeindex, IAfterindex, IFirst, ILast, fake_sec=0, fake_type=None):\n",
    "    '''fake_type:irregular, None'''\n",
    "    #initialise output values, each list will at the end be of size Nbr_random\n",
    "    tFZ_ALL = []\n",
    "    tFZ_ALL_FAKE = []\n",
    "    li_res = []    \n",
    "    \n",
    "    #small test\n",
    "    if Nbr_random%2!=0:\n",
    "        #print('we will add one to Nbr_random to have an even number')\n",
    "        Nbr_random = Nbr_random + 1\n",
    "    #if ET*2<Nbr_random:\n",
    "        #print('we will reduce your number of random samples to avoid sampling with repetition')\n",
    "    \n",
    "    #if we can use only one side, then we multiply the number of samples to choose randomly b2, as we will divid by 2 later\n",
    "    #for each side (and becaus ein this situatin we want the full N! N*2/2=N :))\n",
    "    if (len(IAfterindex)==1)|(len(Ibeforeindex)==1):\n",
    "        Nbr_random = Nbr_random*2\n",
    "    \n",
    "    random.seed(1234)\n",
    "    ############## extract the behaviour under S, N times ##############\n",
    "    #if we want to test against randomness, when the stimulus is of irregular type, then we will simple use random sampling \n",
    "    #as \"real one\"\n",
    "    if fake_type=='irregular':\n",
    "        #extract the behaviour on the right with S absent, N/2 times if both side exist, else N\n",
    "        if len(IAfterindex)!=1:\n",
    "            IAfterindexF = min(IAfterindex);IAfterindexL = max(IAfterindex)\n",
    "            li_StartindexPossibilities = list(range(IAfterindexF,IAfterindexL+1-ET))\n",
    "            li_todo = random.sample(li_StartindexPossibilities, min(len(li_StartindexPossibilities),int(Nbr_random/4)))\n",
    "            for i in li_todo:\n",
    "                tFZ_ALL.append(sum(li_B[i:i+ET]))\n",
    "        #extract the behaviour on the left with S absent, N/2 times if both side exist, else N\n",
    "        if len(Ibeforeindex)!=1:\n",
    "            IbeforeindexF = min(Ibeforeindex);IbeforeindexL = max(Ibeforeindex)\n",
    "            li_StartindexPossibilities = list(range(IbeforeindexF, IbeforeindexL+1-ET))\n",
    "            li_todo = random.sample(li_StartindexPossibilities, min(len(li_StartindexPossibilities),int(Nbr_random/4)))\n",
    "            for i in li_todo:\n",
    "                tFZ_ALL.append(sum(li_B[i:i+ET]))        \n",
    "    else: \n",
    "        li_StartindexPossibilities = list(range(IFirst,ILast+1-ET))\n",
    "        li_todo = random.sample(li_StartindexPossibilities, min(len(li_StartindexPossibilities),Nbr_random))\n",
    "        for i in li_todo:\n",
    "            tFZ_ALL.append(sum(li_B[i+fake_sec:i+ET+fake_sec]))\n",
    "        \n",
    "    ############## extract the behaviour on the right with S absent, N/2 times if both side exist, else N ##############\n",
    "    if len(IAfterindex)!=1:\n",
    "        IAfterindexF = min(IAfterindex);IAfterindexL = max(IAfterindex)\n",
    "        li_StartindexPossibilities = list(range(IAfterindexF,IAfterindexL+1-ET))\n",
    "        li_todo = random.sample(li_StartindexPossibilities, min(len(li_StartindexPossibilities),int(Nbr_random/2)))\n",
    "        for i in li_todo:\n",
    "            tFZ_ALL_FAKE.append(sum(li_B[i:i+ET]))\n",
    "                \n",
    "    ############## extract the behaviour on the left with S absent, N/2 times if both side exist, else N ##############\n",
    "    if len(Ibeforeindex)!=1:\n",
    "        IbeforeindexF = min(Ibeforeindex);IbeforeindexL = max(Ibeforeindex)\n",
    "        li_StartindexPossibilities = list(range(IbeforeindexF, IbeforeindexL+1-ET))\n",
    "        li_todo = random.sample(li_StartindexPossibilities, min(len(li_StartindexPossibilities),int(Nbr_random/2)))\n",
    "        for i in li_todo:\n",
    "            tFZ_ALL_FAKE.append(sum(li_B[i:i+ET]))\n",
    "            \n",
    "   ##### generate list of index. if not same amount due to not enough sampling possibilities then just take the max nbr ####\n",
    "    for i in range(0,min(len(tFZ_ALL),len(tFZ_ALL_FAKE))):\n",
    "        if tFZ_ALL[i]+tFZ_ALL_FAKE[i]==0:\n",
    "            li_res.append(0)\n",
    "        else:\n",
    "            li_res.append((tFZ_ALL[i]-tFZ_ALL_FAKE[i])/(tFZ_ALL[i]+tFZ_ALL_FAKE[i]))\n",
    "    \n",
    "    return (round(np.mean(li_res),3), li_res, tFZ_ALL, tFZ_ALL_FAKE)"
   ]
  },
  {
   "cell_type": "markdown",
   "id": "3daa7675",
   "metadata": {},
   "source": [
    "# Extract Behavioural tendency"
   ]
  },
  {
   "cell_type": "code",
   "execution_count": 42,
   "id": "f0f33a38",
   "metadata": {
    "scrolled": true
   },
   "outputs": [
    {
     "data": {
      "text/html": [
       "<div>\n",
       "<style scoped>\n",
       "    .dataframe tbody tr th:only-of-type {\n",
       "        vertical-align: middle;\n",
       "    }\n",
       "\n",
       "    .dataframe tbody tr th {\n",
       "        vertical-align: top;\n",
       "    }\n",
       "\n",
       "    .dataframe thead th {\n",
       "        text-align: right;\n",
       "    }\n",
       "</style>\n",
       "<table border=\"1\" class=\"dataframe\">\n",
       "  <thead>\n",
       "    <tr style=\"text-align: right;\">\n",
       "      <th></th>\n",
       "      <th>level</th>\n",
       "      <th>li_S</th>\n",
       "      <th>nbr_val</th>\n",
       "      <th>total_ensoleillement (mn)</th>\n",
       "    </tr>\n",
       "  </thead>\n",
       "  <tbody>\n",
       "    <tr>\n",
       "      <th>0</th>\n",
       "      <td>2020-01-10</td>\n",
       "      <td>[0, 0, 0, 0, 0, 0, 0, 0, 0, 0, 0, 0, 0, 0, 0, ...</td>\n",
       "      <td>54000</td>\n",
       "      <td>120.0</td>\n",
       "    </tr>\n",
       "    <tr>\n",
       "      <th>1</th>\n",
       "      <td>2020-01-11</td>\n",
       "      <td>[0, 0, 0, 0, 0, 0, 0, 0, 0, 0, 0, 0, 0, 0, 0, ...</td>\n",
       "      <td>54000</td>\n",
       "      <td>60.0</td>\n",
       "    </tr>\n",
       "    <tr>\n",
       "      <th>2</th>\n",
       "      <td>2020-01-12</td>\n",
       "      <td>[0, 0, 0, 0, 0, 0, 0, 0, 0, 0, 0, 0, 0, 0, 0, ...</td>\n",
       "      <td>54000</td>\n",
       "      <td>0.0</td>\n",
       "    </tr>\n",
       "  </tbody>\n",
       "</table>\n",
       "</div>"
      ],
      "text/plain": [
       "       level                                               li_S  nbr_val  \\\n",
       "0 2020-01-10  [0, 0, 0, 0, 0, 0, 0, 0, 0, 0, 0, 0, 0, 0, 0, ...    54000   \n",
       "1 2020-01-11  [0, 0, 0, 0, 0, 0, 0, 0, 0, 0, 0, 0, 0, 0, 0, ...    54000   \n",
       "2 2020-01-12  [0, 0, 0, 0, 0, 0, 0, 0, 0, 0, 0, 0, 0, 0, 0, ...    54000   \n",
       "\n",
       "   total_ensoleillement (mn)  \n",
       "0                      120.0  \n",
       "1                       60.0  \n",
       "2                        0.0  "
      ]
     },
     "metadata": {},
     "output_type": "display_data"
    },
    {
     "data": {
      "text/html": [
       "<div>\n",
       "<style scoped>\n",
       "    .dataframe tbody tr th:only-of-type {\n",
       "        vertical-align: middle;\n",
       "    }\n",
       "\n",
       "    .dataframe tbody tr th {\n",
       "        vertical-align: top;\n",
       "    }\n",
       "\n",
       "    .dataframe thead th {\n",
       "        text-align: right;\n",
       "    }\n",
       "</style>\n",
       "<table border=\"1\" class=\"dataframe\">\n",
       "  <thead>\n",
       "    <tr style=\"text-align: right;\">\n",
       "      <th></th>\n",
       "      <th>HenID</th>\n",
       "      <th>level</th>\n",
       "      <th>duration_1_Zone</th>\n",
       "      <th>duration_2_Zone</th>\n",
       "      <th>duration_3_Zone</th>\n",
       "      <th>duration_4_Zone</th>\n",
       "      <th>duration_5_Zone</th>\n",
       "      <th>verification_daily_total_duration</th>\n",
       "      <th>verification_daily_total_nbr_hour</th>\n",
       "      <th>dur_values</th>\n",
       "      <th>...</th>\n",
       "      <th>night_Total_number_transition</th>\n",
       "      <th>is_mvt_night</th>\n",
       "      <th>nbr_h_per_day</th>\n",
       "      <th>correct_amount_of_hour</th>\n",
       "      <th>DOA</th>\n",
       "      <th>WOA</th>\n",
       "      <th>DIB</th>\n",
       "      <th>WIB</th>\n",
       "      <th>li_B_</th>\n",
       "      <th>li_B</th>\n",
       "    </tr>\n",
       "  </thead>\n",
       "  <tbody>\n",
       "    <tr>\n",
       "      <th>0</th>\n",
       "      <td>hen_130</td>\n",
       "      <td>2020-10-05</td>\n",
       "      <td>NaN</td>\n",
       "      <td>0.0</td>\n",
       "      <td>0.0</td>\n",
       "      <td>0.0</td>\n",
       "      <td>32400.0</td>\n",
       "      <td>32400.0</td>\n",
       "      <td>9.0</td>\n",
       "      <td>[0.0, 0.0, 0.0, 0.0, 32400.0]</td>\n",
       "      <td>...</td>\n",
       "      <td>0.0</td>\n",
       "      <td>0.0</td>\n",
       "      <td>9</td>\n",
       "      <td>True</td>\n",
       "      <td>124</td>\n",
       "      <td>18</td>\n",
       "      <td>6</td>\n",
       "      <td>1</td>\n",
       "      <td>[0, 0, 0, 0, 0, 0, 0, 0, 0, 0, 0, 0, 0, 0, 0, ...</td>\n",
       "      <td>[-1, -1, -1, -1, -1, -1, -1, -1, -1, -1, -1, -...</td>\n",
       "    </tr>\n",
       "  </tbody>\n",
       "</table>\n",
       "<p>1 rows × 72 columns</p>\n",
       "</div>"
      ],
      "text/plain": [
       "     HenID      level  duration_1_Zone  duration_2_Zone  duration_3_Zone  \\\n",
       "0  hen_130 2020-10-05              NaN              0.0              0.0   \n",
       "\n",
       "   duration_4_Zone  duration_5_Zone  verification_daily_total_duration  \\\n",
       "0              0.0          32400.0                            32400.0   \n",
       "\n",
       "   verification_daily_total_nbr_hour                     dur_values  ...  \\\n",
       "0                                9.0  [0.0, 0.0, 0.0, 0.0, 32400.0]  ...   \n",
       "\n",
       "  night_Total_number_transition  is_mvt_night  nbr_h_per_day  \\\n",
       "0                           0.0           0.0              9   \n",
       "\n",
       "   correct_amount_of_hour  DOA  WOA  DIB  WIB  \\\n",
       "0                    True  124   18    6    1   \n",
       "\n",
       "                                               li_B_  \\\n",
       "0  [0, 0, 0, 0, 0, 0, 0, 0, 0, 0, 0, 0, 0, 0, 0, ...   \n",
       "\n",
       "                                                li_B  \n",
       "0  [-1, -1, -1, -1, -1, -1, -1, -1, -1, -1, -1, -...  \n",
       "\n",
       "[1 rows x 72 columns]"
      ]
     },
     "metadata": {},
     "output_type": "display_data"
    }
   ],
   "source": [
    "#note: df_S could be at the level, or level-henid we dont care. but we will compute info needed to comptue the behavioural \n",
    "#tendency. We will do a adictioanry of dataframe for each row, where each datafrmae will have the info needed\n",
    "display(df_S.head(3))\n",
    "display(df_B.head(1))"
   ]
  },
  {
   "cell_type": "code",
   "execution_count": 43,
   "id": "f339bab8",
   "metadata": {},
   "outputs": [
    {
     "data": {
      "text/plain": [
       "54000    33531\n",
       "43200     1249\n",
       "46800     1077\n",
       "50400     1016\n",
       "39600      928\n",
       "32400      814\n",
       "36000      624\n",
       "28800      143\n",
       "Name: n, dtype: int64"
      ]
     },
     "metadata": {},
     "output_type": "display_data"
    },
    {
     "data": {
      "text/plain": [
       "54000    304\n",
       "Name: n, dtype: int64"
      ]
     },
     "metadata": {},
     "output_type": "display_data"
    }
   ],
   "source": [
    "#TODO: check if li_S = li_B length BEFRE HAND\n",
    "df_B['n'] = df_B['li_B'].map(lambda x: len(x))\n",
    "display(df_B['n'].value_counts())\n",
    "df_S['n'] = df_S['li_S'].map(lambda x: len(x))\n",
    "display(df_S['n'].value_counts())"
   ]
  },
  {
   "cell_type": "code",
   "execution_count": 55,
   "id": "1df3a563",
   "metadata": {},
   "outputs": [
    {
     "name": "stdout",
     "output_type": "stream",
     "text": [
      "55\n"
     ]
    }
   ],
   "source": [
    "#get the periods\n",
    "dico_IDS_dfinfo, li_IDS_nothing = get_stimulusInfo(df_S=df_S, SID='level')\n",
    "print(len(li_IDS_nothing))"
   ]
  },
  {
   "cell_type": "code",
   "execution_count": 56,
   "id": "2dde9b8d",
   "metadata": {},
   "outputs": [
    {
     "name": "stdout",
     "output_type": "stream",
     "text": [
      "(791, 13)\n"
     ]
    },
    {
     "data": {
      "text/html": [
       "<div>\n",
       "<style scoped>\n",
       "    .dataframe tbody tr th:only-of-type {\n",
       "        vertical-align: middle;\n",
       "    }\n",
       "\n",
       "    .dataframe tbody tr th {\n",
       "        vertical-align: top;\n",
       "    }\n",
       "\n",
       "    .dataframe thead th {\n",
       "        text-align: right;\n",
       "    }\n",
       "</style>\n",
       "<table border=\"1\" class=\"dataframe\">\n",
       "  <thead>\n",
       "    <tr style=\"text-align: right;\">\n",
       "      <th></th>\n",
       "      <th>selected</th>\n",
       "      <th>Ibeforeindex</th>\n",
       "      <th>IAfterindex</th>\n",
       "      <th>ID</th>\n",
       "      <th>IFirst</th>\n",
       "      <th>ILast</th>\n",
       "      <th>IPrevious</th>\n",
       "      <th>IUntilB</th>\n",
       "      <th>INext</th>\n",
       "      <th>IUntilA</th>\n",
       "      <th>duration</th>\n",
       "      <th>level</th>\n",
       "      <th>IDS</th>\n",
       "    </tr>\n",
       "  </thead>\n",
       "  <tbody>\n",
       "    <tr>\n",
       "      <th>0</th>\n",
       "      <td>1</td>\n",
       "      <td>{16384, 16385, 16386, 16387, 16388, 16389, 163...</td>\n",
       "      <td>[nan]</td>\n",
       "      <td>p1</td>\n",
       "      <td>18000</td>\n",
       "      <td>20999</td>\n",
       "      <td>NaN</td>\n",
       "      <td>0</td>\n",
       "      <td>21600.0</td>\n",
       "      <td>21599</td>\n",
       "      <td>3000</td>\n",
       "      <td>2020-01-10</td>\n",
       "      <td>2020-01-10</td>\n",
       "    </tr>\n",
       "    <tr>\n",
       "      <th>1</th>\n",
       "      <td>0</td>\n",
       "      <td>[nan]</td>\n",
       "      <td>{24600, 24601, 24602, 24603, 24604, 24605, 246...</td>\n",
       "      <td>p2</td>\n",
       "      <td>21600</td>\n",
       "      <td>23399</td>\n",
       "      <td>20999.0</td>\n",
       "      <td>21000</td>\n",
       "      <td>28200.0</td>\n",
       "      <td>28199</td>\n",
       "      <td>1800</td>\n",
       "      <td>2020-01-10</td>\n",
       "      <td>2020-01-10</td>\n",
       "    </tr>\n",
       "    <tr>\n",
       "      <th>2</th>\n",
       "      <td>0</td>\n",
       "      <td>{24600, 24601, 24602, 24603, 24604, 24605, 246...</td>\n",
       "      <td>[nan]</td>\n",
       "      <td>p3</td>\n",
       "      <td>28200</td>\n",
       "      <td>29999</td>\n",
       "      <td>23399.0</td>\n",
       "      <td>23400</td>\n",
       "      <td>31800.0</td>\n",
       "      <td>31799</td>\n",
       "      <td>1800</td>\n",
       "      <td>2020-01-10</td>\n",
       "      <td>2020-01-10</td>\n",
       "    </tr>\n",
       "  </tbody>\n",
       "</table>\n",
       "</div>"
      ],
      "text/plain": [
       "   selected                                       Ibeforeindex  \\\n",
       "0         1  {16384, 16385, 16386, 16387, 16388, 16389, 163...   \n",
       "1         0                                              [nan]   \n",
       "2         0  {24600, 24601, 24602, 24603, 24604, 24605, 246...   \n",
       "\n",
       "                                         IAfterindex  ID  IFirst  ILast  \\\n",
       "0                                              [nan]  p1   18000  20999   \n",
       "1  {24600, 24601, 24602, 24603, 24604, 24605, 246...  p2   21600  23399   \n",
       "2                                              [nan]  p3   28200  29999   \n",
       "\n",
       "   IPrevious  IUntilB    INext  IUntilA  duration      level        IDS  \n",
       "0        NaN        0  21600.0    21599      3000 2020-01-10 2020-01-10  \n",
       "1    20999.0    21000  28200.0    28199      1800 2020-01-10 2020-01-10  \n",
       "2    23399.0    23400  31800.0    31799      1800 2020-01-10 2020-01-10  "
      ]
     },
     "metadata": {},
     "output_type": "display_data"
    }
   ],
   "source": [
    "#select period and extract other relevant info for computation. One row per period,level\n",
    "#R_beforeThisS = (0,3): mean directly after (i.e.e the first second after, the second after and the third after)\n",
    "df_Sinfo = select_periods(dico_IDS_dfinfo = dico_IDS_dfinfo, \n",
    "                           R_beforeThisS = (20*60,65*60), R_afterThisS = (20*60,65*60), \n",
    "                           R_beforeAnoS = 10*60, R_afterAnoS = 20*60, \n",
    "                           ET=20*60)\n",
    "print(df_Sinfo.shape)\n",
    "display(df_Sinfo.head(3))"
   ]
  },
  {
   "cell_type": "code",
   "execution_count": 57,
   "id": "4235bd11",
   "metadata": {},
   "outputs": [
    {
     "data": {
      "text/plain": [
       "0    0.692563\n",
       "1    0.307437\n",
       "Name: selected, dtype: float64"
      ]
     },
     "metadata": {},
     "output_type": "display_data"
    },
    {
     "name": "stdout",
     "output_type": "stream",
     "text": [
      "(791, 13) (39382, 73) (80680, 85)\n",
      "(24804, 89)\n"
     ]
    },
    {
     "data": {
      "text/html": [
       "<div>\n",
       "<style scoped>\n",
       "    .dataframe tbody tr th:only-of-type {\n",
       "        vertical-align: middle;\n",
       "    }\n",
       "\n",
       "    .dataframe tbody tr th {\n",
       "        vertical-align: top;\n",
       "    }\n",
       "\n",
       "    .dataframe thead th {\n",
       "        text-align: right;\n",
       "    }\n",
       "</style>\n",
       "<table border=\"1\" class=\"dataframe\">\n",
       "  <thead>\n",
       "    <tr style=\"text-align: right;\">\n",
       "      <th></th>\n",
       "      <th>HenID</th>\n",
       "      <th>level</th>\n",
       "      <th>BT_index_all</th>\n",
       "      <th>BT_sun</th>\n",
       "      <th>li_B</th>\n",
       "      <th>Ibeforeindex</th>\n",
       "      <th>IAfterindex</th>\n",
       "      <th>IFirst</th>\n",
       "      <th>ILast</th>\n",
       "    </tr>\n",
       "  </thead>\n",
       "  <tbody>\n",
       "    <tr>\n",
       "      <th>0</th>\n",
       "      <td>hen_131</td>\n",
       "      <td>2020-10-10</td>\n",
       "      <td>(0.0, [0, 0, 0, 0, 0, 0, 0, 0, 0, 0, 0, 0, 0, ...</td>\n",
       "      <td>0.0</td>\n",
       "      <td>[-1, -1, -1, -1, -1, -1, -1, -1, -1, -1, -1, -...</td>\n",
       "      <td>{40960, 40961, 40962, 40963, 40964, 40965, 409...</td>\n",
       "      <td>[nan]</td>\n",
       "      <td>42600</td>\n",
       "      <td>48599</td>\n",
       "    </tr>\n",
       "    <tr>\n",
       "      <th>1</th>\n",
       "      <td>hen_134</td>\n",
       "      <td>2020-10-10</td>\n",
       "      <td>(0.0, [0, 0, 0, 0, 0, 0, 0, 0, 0, 0, 0, 0, 0, ...</td>\n",
       "      <td>0.0</td>\n",
       "      <td>[-1, -1, -1, -1, -1, -1, -1, -1, -1, -1, -1, -...</td>\n",
       "      <td>{40960, 40961, 40962, 40963, 40964, 40965, 409...</td>\n",
       "      <td>[nan]</td>\n",
       "      <td>42600</td>\n",
       "      <td>48599</td>\n",
       "    </tr>\n",
       "  </tbody>\n",
       "</table>\n",
       "</div>"
      ],
      "text/plain": [
       "     HenID      level                                       BT_index_all  \\\n",
       "0  hen_131 2020-10-10  (0.0, [0, 0, 0, 0, 0, 0, 0, 0, 0, 0, 0, 0, 0, ...   \n",
       "1  hen_134 2020-10-10  (0.0, [0, 0, 0, 0, 0, 0, 0, 0, 0, 0, 0, 0, 0, ...   \n",
       "\n",
       "   BT_sun                                               li_B  \\\n",
       "0     0.0  [-1, -1, -1, -1, -1, -1, -1, -1, -1, -1, -1, -...   \n",
       "1     0.0  [-1, -1, -1, -1, -1, -1, -1, -1, -1, -1, -1, -...   \n",
       "\n",
       "                                        Ibeforeindex IAfterindex  IFirst  \\\n",
       "0  {40960, 40961, 40962, 40963, 40964, 40965, 409...       [nan]   42600   \n",
       "1  {40960, 40961, 40962, 40963, 40964, 40965, 409...       [nan]   42600   \n",
       "\n",
       "   ILast  \n",
       "0  48599  \n",
       "1  48599  "
      ]
     },
     "metadata": {},
     "output_type": "display_data"
    },
    {
     "data": {
      "image/png": "[encoded data removed]",
      "text/plain": [
       "<Figure size 432x288 with 1 Axes>"
      ]
     },
     "metadata": {
      "needs_background": "light"
     },
     "output_type": "display_data"
    },
    {
     "data": {
      "image/png": "[encoded data removed]",
      "text/plain": [
       "<Figure size 432x288 with 1 Axes>"
      ]
     },
     "metadata": {
      "needs_background": "light"
     },
     "output_type": "display_data"
    }
   ],
   "source": [
    "#compute behavioural tendency index\n",
    "#very fast\n",
    "df_BT = pd.merge(df_Sinfo, df_B, on='level', how='inner')\n",
    "display(df_BT['selected'].value_counts(normalize=True))\n",
    "print(df_Sinfo.shape, df_B.shape, df_BT.shape)\n",
    "df_BT = df_BT[df_BT['selected']==1]\n",
    "df_BT['BT_index_all'] = df_BT.apply(lambda x: behavioural_tendency(li_B=x['li_B'], ET=2, Nbr_random=50,\n",
    "                                                                 Ibeforeindex=x['Ibeforeindex'],IAfterindex=x['IAfterindex'],\n",
    "                                                                 IFirst=x['IFirst'], ILast=x['ILast']), axis=1)\n",
    "df_BT['BT_sun'] = df_BT['BT_index_all'].map(lambda x: x[0])\n",
    "df_BT['BT_sun_lires'] = df_BT['BT_index_all'].map(lambda x: x[1])\n",
    "df_BT['BT_sun_liresnbr'] = df_BT['BT_sun_lires'].map(lambda x: len(x))\n",
    "print(df_BT.shape)\n",
    "display(df_BT[['HenID', 'level','BT_index_all','BT_sun','li_B','Ibeforeindex','IAfterindex','IFirst','ILast']].head(2))\n",
    "plt.hist(df_BT['BT_sun_liresnbr']);\n",
    "plt.show();\n",
    "plt.hist(df_BT['BT_sun']);"
   ]
  },
  {
   "cell_type": "code",
   "execution_count": 63,
   "id": "1843dff7",
   "metadata": {},
   "outputs": [
    {
     "name": "stdout",
     "output_type": "stream",
     "text": [
      "(20326, 3)\n"
     ]
    },
    {
     "data": {
      "text/html": [
       "<div>\n",
       "<style scoped>\n",
       "    .dataframe tbody tr th:only-of-type {\n",
       "        vertical-align: middle;\n",
       "    }\n",
       "\n",
       "    .dataframe tbody tr th {\n",
       "        vertical-align: top;\n",
       "    }\n",
       "\n",
       "    .dataframe thead th {\n",
       "        text-align: right;\n",
       "    }\n",
       "</style>\n",
       "<table border=\"1\" class=\"dataframe\">\n",
       "  <thead>\n",
       "    <tr style=\"text-align: right;\">\n",
       "      <th></th>\n",
       "      <th>HenID</th>\n",
       "      <th>level</th>\n",
       "      <th>BT_sun</th>\n",
       "    </tr>\n",
       "  </thead>\n",
       "  <tbody>\n",
       "    <tr>\n",
       "      <th>0</th>\n",
       "      <td>hen_1</td>\n",
       "      <td>2020-10-10</td>\n",
       "      <td>0.00</td>\n",
       "    </tr>\n",
       "    <tr>\n",
       "      <th>1</th>\n",
       "      <td>hen_1</td>\n",
       "      <td>2020-10-11</td>\n",
       "      <td>0.06</td>\n",
       "    </tr>\n",
       "    <tr>\n",
       "      <th>2</th>\n",
       "      <td>hen_1</td>\n",
       "      <td>2020-10-13</td>\n",
       "      <td>0.00</td>\n",
       "    </tr>\n",
       "  </tbody>\n",
       "</table>\n",
       "</div>"
      ],
      "text/plain": [
       "   HenID      level  BT_sun\n",
       "0  hen_1 2020-10-10    0.00\n",
       "1  hen_1 2020-10-11    0.06\n",
       "2  hen_1 2020-10-13    0.00"
      ]
     },
     "metadata": {},
     "output_type": "display_data"
    },
    {
     "data": {
      "image/png": "[encoded data removed]",
      "text/plain": [
       "<Figure size 432x288 with 1 Axes>"
      ]
     },
     "metadata": {
      "needs_background": "light"
     },
     "output_type": "display_data"
    }
   ],
   "source": [
    "df_sundindex = df_BT.groupby(['HenID','level'])['BT_sun'].mean().reset_index()\n",
    "print(df_sundindex.shape)\n",
    "display(df_sundindex.head(3))\n",
    "plt.hist(df_sundindex['BT_sun']);\n",
    "plt.show()"
   ]
  },
  {
   "cell_type": "code",
   "execution_count": 58,
   "id": "f2126b14",
   "metadata": {},
   "outputs": [],
   "source": [
    "df_BT[['HenID', 'level','BT_index_all','BT_sun','li_B','Ibeforeindex','IAfterindex','IFirst',\n",
    "       'ILast']].to_csv(os.path.join(path_extracted_data,'df_BT_sun_ONLYSUN.csv'), index=False, sep=',')\n",
    "df_BT.to_csv(os.path.join(path_extracted_data,'df_BT_sun.csv'), index=False, sep=',')"
   ]
  },
  {
   "cell_type": "code",
   "execution_count": 68,
   "id": "fd227c83",
   "metadata": {},
   "outputs": [
    {
     "data": {
      "image/png": "[encoded data removed]",
      "text/plain": [
       "<Figure size 1080x216 with 1 Axes>"
      ]
     },
     "metadata": {
      "needs_background": "light"
     },
     "output_type": "display_data"
    }
   ],
   "source": [
    "plt.figure(figsize=(15,3))\n",
    "sns.boxplot(x='HenID', y='BT_sun', data=df_sundindex);"
   ]
  },
  {
   "cell_type": "code",
   "execution_count": 85,
   "id": "6db4bab5",
   "metadata": {},
   "outputs": [
    {
     "data": {
      "text/html": [
       "<div>\n",
       "<style scoped>\n",
       "    .dataframe tbody tr th:only-of-type {\n",
       "        vertical-align: middle;\n",
       "    }\n",
       "\n",
       "    .dataframe tbody tr th {\n",
       "        vertical-align: top;\n",
       "    }\n",
       "\n",
       "    .dataframe thead th {\n",
       "        text-align: right;\n",
       "    }\n",
       "</style>\n",
       "<table border=\"1\" class=\"dataframe\">\n",
       "  <thead>\n",
       "    <tr style=\"text-align: right;\">\n",
       "      <th></th>\n",
       "      <th>selected</th>\n",
       "      <th>Ibeforeindex</th>\n",
       "      <th>IAfterindex</th>\n",
       "      <th>ID</th>\n",
       "      <th>IFirst</th>\n",
       "      <th>ILast</th>\n",
       "      <th>IPrevious</th>\n",
       "      <th>IUntilB</th>\n",
       "      <th>INext</th>\n",
       "      <th>IUntilA</th>\n",
       "      <th>duration</th>\n",
       "      <th>level</th>\n",
       "      <th>IDS</th>\n",
       "    </tr>\n",
       "  </thead>\n",
       "  <tbody>\n",
       "    <tr>\n",
       "      <th>0</th>\n",
       "      <td>1</td>\n",
       "      <td>{16384, 16385, 16386, 16387, 16388, 16389, 163...</td>\n",
       "      <td>[nan]</td>\n",
       "      <td>p1</td>\n",
       "      <td>18000</td>\n",
       "      <td>20999</td>\n",
       "      <td>NaN</td>\n",
       "      <td>0</td>\n",
       "      <td>21600.0</td>\n",
       "      <td>21599</td>\n",
       "      <td>3000</td>\n",
       "      <td>2020-01-10</td>\n",
       "      <td>2020-01-10</td>\n",
       "    </tr>\n",
       "    <tr>\n",
       "      <th>1</th>\n",
       "      <td>0</td>\n",
       "      <td>[nan]</td>\n",
       "      <td>{24600, 24601, 24602, 24603, 24604, 24605, 246...</td>\n",
       "      <td>p2</td>\n",
       "      <td>21600</td>\n",
       "      <td>23399</td>\n",
       "      <td>20999.0</td>\n",
       "      <td>21000</td>\n",
       "      <td>28200.0</td>\n",
       "      <td>28199</td>\n",
       "      <td>1800</td>\n",
       "      <td>2020-01-10</td>\n",
       "      <td>2020-01-10</td>\n",
       "    </tr>\n",
       "    <tr>\n",
       "      <th>2</th>\n",
       "      <td>0</td>\n",
       "      <td>{24600, 24601, 24602, 24603, 24604, 24605, 246...</td>\n",
       "      <td>[nan]</td>\n",
       "      <td>p3</td>\n",
       "      <td>28200</td>\n",
       "      <td>29999</td>\n",
       "      <td>23399.0</td>\n",
       "      <td>23400</td>\n",
       "      <td>31800.0</td>\n",
       "      <td>31799</td>\n",
       "      <td>1800</td>\n",
       "      <td>2020-01-10</td>\n",
       "      <td>2020-01-10</td>\n",
       "    </tr>\n",
       "  </tbody>\n",
       "</table>\n",
       "</div>"
      ],
      "text/plain": [
       "   selected                                       Ibeforeindex  \\\n",
       "0         1  {16384, 16385, 16386, 16387, 16388, 16389, 163...   \n",
       "1         0                                              [nan]   \n",
       "2         0  {24600, 24601, 24602, 24603, 24604, 24605, 246...   \n",
       "\n",
       "                                         IAfterindex  ID  IFirst  ILast  \\\n",
       "0                                              [nan]  p1   18000  20999   \n",
       "1  {24600, 24601, 24602, 24603, 24604, 24605, 246...  p2   21600  23399   \n",
       "2                                              [nan]  p3   28200  29999   \n",
       "\n",
       "   IPrevious  IUntilB    INext  IUntilA  duration      level        IDS  \n",
       "0        NaN        0  21600.0    21599      3000 2020-01-10 2020-01-10  \n",
       "1    20999.0    21000  28200.0    28199      1800 2020-01-10 2020-01-10  \n",
       "2    23399.0    23400  31800.0    31799      1800 2020-01-10 2020-01-10  "
      ]
     },
     "execution_count": 85,
     "metadata": {},
     "output_type": "execute_result"
    }
   ],
   "source": [
    "df_Sinfo.head(3)"
   ]
  },
  {
   "cell_type": "code",
   "execution_count": 90,
   "id": "2c004cf5",
   "metadata": {},
   "outputs": [
    {
     "data": {
      "image/png": "[encoded data removed]",
      "text/plain": [
       "<Figure size 1080x216 with 1 Axes>"
      ]
     },
     "metadata": {
      "needs_background": "light"
     },
     "output_type": "display_data"
    }
   ],
   "source": [
    "plt.figure(figsize=(15,3))\n",
    "#df_sundindex['month'] = df_sundindex['level'].map(lambda x: x.month)\n",
    "sns.boxplot(x='month', y='BT_sun', data=df_sundindex);\n",
    "plt.show();"
   ]
  },
  {
   "cell_type": "code",
   "execution_count": 92,
   "id": "59eb18dc",
   "metadata": {},
   "outputs": [
    {
     "data": {
      "text/html": [
       "<div>\n",
       "<style scoped>\n",
       "    .dataframe tbody tr th:only-of-type {\n",
       "        vertical-align: middle;\n",
       "    }\n",
       "\n",
       "    .dataframe tbody tr th {\n",
       "        vertical-align: top;\n",
       "    }\n",
       "\n",
       "    .dataframe thead th {\n",
       "        text-align: right;\n",
       "    }\n",
       "</style>\n",
       "<table border=\"1\" class=\"dataframe\">\n",
       "  <thead>\n",
       "    <tr style=\"text-align: right;\">\n",
       "      <th></th>\n",
       "      <th>selected</th>\n",
       "      <th>Ibeforeindex</th>\n",
       "      <th>IAfterindex</th>\n",
       "      <th>ID</th>\n",
       "      <th>IFirst</th>\n",
       "      <th>ILast</th>\n",
       "      <th>IPrevious</th>\n",
       "      <th>IUntilB</th>\n",
       "      <th>INext</th>\n",
       "      <th>IUntilA</th>\n",
       "      <th>duration</th>\n",
       "      <th>level</th>\n",
       "      <th>IDS</th>\n",
       "      <th>month</th>\n",
       "    </tr>\n",
       "  </thead>\n",
       "  <tbody>\n",
       "    <tr>\n",
       "      <th>0</th>\n",
       "      <td>1</td>\n",
       "      <td>{16384, 16385, 16386, 16387, 16388, 16389, 163...</td>\n",
       "      <td>[nan]</td>\n",
       "      <td>p1</td>\n",
       "      <td>18000</td>\n",
       "      <td>20999</td>\n",
       "      <td>NaN</td>\n",
       "      <td>0</td>\n",
       "      <td>21600.0</td>\n",
       "      <td>21599</td>\n",
       "      <td>3000</td>\n",
       "      <td>2020-01-10</td>\n",
       "      <td>2020-01-10</td>\n",
       "      <td>1</td>\n",
       "    </tr>\n",
       "    <tr>\n",
       "      <th>1</th>\n",
       "      <td>0</td>\n",
       "      <td>[nan]</td>\n",
       "      <td>{24600, 24601, 24602, 24603, 24604, 24605, 246...</td>\n",
       "      <td>p2</td>\n",
       "      <td>21600</td>\n",
       "      <td>23399</td>\n",
       "      <td>20999.0</td>\n",
       "      <td>21000</td>\n",
       "      <td>28200.0</td>\n",
       "      <td>28199</td>\n",
       "      <td>1800</td>\n",
       "      <td>2020-01-10</td>\n",
       "      <td>2020-01-10</td>\n",
       "      <td>1</td>\n",
       "    </tr>\n",
       "    <tr>\n",
       "      <th>2</th>\n",
       "      <td>0</td>\n",
       "      <td>{24600, 24601, 24602, 24603, 24604, 24605, 246...</td>\n",
       "      <td>[nan]</td>\n",
       "      <td>p3</td>\n",
       "      <td>28200</td>\n",
       "      <td>29999</td>\n",
       "      <td>23399.0</td>\n",
       "      <td>23400</td>\n",
       "      <td>31800.0</td>\n",
       "      <td>31799</td>\n",
       "      <td>1800</td>\n",
       "      <td>2020-01-10</td>\n",
       "      <td>2020-01-10</td>\n",
       "      <td>1</td>\n",
       "    </tr>\n",
       "  </tbody>\n",
       "</table>\n",
       "</div>"
      ],
      "text/plain": [
       "   selected                                       Ibeforeindex  \\\n",
       "0         1  {16384, 16385, 16386, 16387, 16388, 16389, 163...   \n",
       "1         0                                              [nan]   \n",
       "2         0  {24600, 24601, 24602, 24603, 24604, 24605, 246...   \n",
       "\n",
       "                                         IAfterindex  ID  IFirst  ILast  \\\n",
       "0                                              [nan]  p1   18000  20999   \n",
       "1  {24600, 24601, 24602, 24603, 24604, 24605, 246...  p2   21600  23399   \n",
       "2                                              [nan]  p3   28200  29999   \n",
       "\n",
       "   IPrevious  IUntilB    INext  IUntilA  duration      level        IDS  month  \n",
       "0        NaN        0  21600.0    21599      3000 2020-01-10 2020-01-10      1  \n",
       "1    20999.0    21000  28200.0    28199      1800 2020-01-10 2020-01-10      1  \n",
       "2    23399.0    23400  31800.0    31799      1800 2020-01-10 2020-01-10      1  "
      ]
     },
     "execution_count": 92,
     "metadata": {},
     "output_type": "execute_result"
    }
   ],
   "source": [
    "df_Sinfo.head(3)"
   ]
  },
  {
   "cell_type": "code",
   "execution_count": 96,
   "id": "90641b72",
   "metadata": {},
   "outputs": [
    {
     "data": {
      "text/html": [
       "<div>\n",
       "<style scoped>\n",
       "    .dataframe tbody tr th:only-of-type {\n",
       "        vertical-align: middle;\n",
       "    }\n",
       "\n",
       "    .dataframe tbody tr th {\n",
       "        vertical-align: top;\n",
       "    }\n",
       "\n",
       "    .dataframe thead th {\n",
       "        text-align: right;\n",
       "    }\n",
       "</style>\n",
       "<table border=\"1\" class=\"dataframe\">\n",
       "  <thead>\n",
       "    <tr style=\"text-align: right;\">\n",
       "      <th></th>\n",
       "      <th>level</th>\n",
       "      <th>duration</th>\n",
       "      <th>month</th>\n",
       "    </tr>\n",
       "  </thead>\n",
       "  <tbody>\n",
       "    <tr>\n",
       "      <th>0</th>\n",
       "      <td>2020-01-10</td>\n",
       "      <td>2.000000</td>\n",
       "      <td>1</td>\n",
       "    </tr>\n",
       "    <tr>\n",
       "      <th>1</th>\n",
       "      <td>2020-01-11</td>\n",
       "      <td>1.000000</td>\n",
       "      <td>1</td>\n",
       "    </tr>\n",
       "    <tr>\n",
       "      <th>2</th>\n",
       "      <td>2020-02-11</td>\n",
       "      <td>7.333333</td>\n",
       "      <td>2</td>\n",
       "    </tr>\n",
       "  </tbody>\n",
       "</table>\n",
       "</div>"
      ],
      "text/plain": [
       "       level  duration  month\n",
       "0 2020-01-10  2.000000      1\n",
       "1 2020-01-11  1.000000      1\n",
       "2 2020-02-11  7.333333      2"
      ]
     },
     "metadata": {},
     "output_type": "display_data"
    },
    {
     "data": {
      "image/png": "[encoded data removed]",
      "text/plain": [
       "<Figure size 1080x216 with 1 Axes>"
      ]
     },
     "metadata": {
      "needs_background": "light"
     },
     "output_type": "display_data"
    }
   ],
   "source": [
    "plt.figure(figsize=(15,3))\n",
    "df_ = df_Sinfo.groupby(['level'])['duration'].sum().reset_index()\n",
    "df_['month'] = df_['level'].map(lambda x: x.month)\n",
    "df_['duration'] = df_['duration'].map(lambda x: x/60/60)\n",
    "display(df_.head(3))\n",
    "sns.boxplot(x='month', y='duration', data=df_);\n",
    "#temparatre?"
   ]
  },
  {
   "cell_type": "code",
   "execution_count": 80,
   "id": "b82f0748",
   "metadata": {},
   "outputs": [
    {
     "name": "stdout",
     "output_type": "stream",
     "text": [
      "(20326, 4)\n"
     ]
    },
    {
     "data": {
      "text/html": [
       "<div>\n",
       "<style scoped>\n",
       "    .dataframe tbody tr th:only-of-type {\n",
       "        vertical-align: middle;\n",
       "    }\n",
       "\n",
       "    .dataframe tbody tr th {\n",
       "        vertical-align: top;\n",
       "    }\n",
       "\n",
       "    .dataframe thead th {\n",
       "        text-align: right;\n",
       "    }\n",
       "</style>\n",
       "<table border=\"1\" class=\"dataframe\">\n",
       "  <thead>\n",
       "    <tr style=\"text-align: right;\">\n",
       "      <th></th>\n",
       "      <th>HenID</th>\n",
       "      <th>level</th>\n",
       "      <th>BT_sun_R</th>\n",
       "      <th>BT_sun</th>\n",
       "    </tr>\n",
       "  </thead>\n",
       "  <tbody>\n",
       "    <tr>\n",
       "      <th>0</th>\n",
       "      <td>hen_1</td>\n",
       "      <td>2020-10-10</td>\n",
       "      <td>0.0</td>\n",
       "      <td>0.00</td>\n",
       "    </tr>\n",
       "    <tr>\n",
       "      <th>1</th>\n",
       "      <td>hen_1</td>\n",
       "      <td>2020-10-11</td>\n",
       "      <td>0.5</td>\n",
       "      <td>0.06</td>\n",
       "    </tr>\n",
       "    <tr>\n",
       "      <th>2</th>\n",
       "      <td>hen_1</td>\n",
       "      <td>2020-10-13</td>\n",
       "      <td>0.0</td>\n",
       "      <td>0.00</td>\n",
       "    </tr>\n",
       "  </tbody>\n",
       "</table>\n",
       "</div>"
      ],
      "text/plain": [
       "   HenID      level  BT_sun_R  BT_sun\n",
       "0  hen_1 2020-10-10       0.0    0.00\n",
       "1  hen_1 2020-10-11       0.5    0.06\n",
       "2  hen_1 2020-10-13       0.0    0.00"
      ]
     },
     "metadata": {},
     "output_type": "display_data"
    },
    {
     "data": {
      "image/png": "[encoded data removed]",
      "text/plain": [
       "<Figure size 432x288 with 1 Axes>"
      ]
     },
     "metadata": {
      "needs_background": "light"
     },
     "output_type": "display_data"
    },
    {
     "data": {
      "image/png": "[encoded data removed]",
      "text/plain": [
       "<Figure size 1080x216 with 1 Axes>"
      ]
     },
     "metadata": {
      "needs_background": "light"
     },
     "output_type": "display_data"
    }
   ],
   "source": [
    "df_sundindex = df_BT.groupby(['HenID','level'])[['BT_sun_R','BT_sun']].mean().reset_index()\n",
    "print(df_sundindex.shape)\n",
    "display(df_sundindex.head(3))\n",
    "plt.hist(df_sundindex['BT_sun_R']);\n",
    "plt.show()\n",
    "plt.figure(figsize=(15,3))\n",
    "sns.boxplot(x='HenID', y='BT_sun_R', data=df_sundindex);"
   ]
  },
  {
   "cell_type": "code",
   "execution_count": 69,
   "id": "e8aa5221",
   "metadata": {},
   "outputs": [],
   "source": [
    "df_BT['BT_index_all_R'] = df_BT.apply(lambda x: behavioural_tendency(li_B=x['li_B'], ET=2, Nbr_random=50,\n",
    "                                                                 Ibeforeindex=x['Ibeforeindex'],IAfterindex=x['IAfterindex'],\n",
    "                                                                 IFirst=x['IFirst'], ILast=x['ILast'], fake_type='irregular'), \n",
    "                                      axis=1)\n",
    "df_BT['BT_sun_R'] = df_BT['BT_index_all_R'].map(lambda x: x[0])"
   ]
  },
  {
   "cell_type": "code",
   "execution_count": 77,
   "id": "d6ae02e6",
   "metadata": {},
   "outputs": [
    {
     "data": {
      "image/png": "[encoded data removed]",
      "text/plain": [
       "<Figure size 432x288 with 1 Axes>"
      ]
     },
     "metadata": {
      "needs_background": "light"
     },
     "output_type": "display_data"
    }
   ],
   "source": [
    "plt.hist(df_BT['BT_sun_R']);"
   ]
  },
  {
   "cell_type": "code",
   "execution_count": 74,
   "id": "643284d4",
   "metadata": {},
   "outputs": [
    {
     "data": {
      "image/png": "[encoded data removed]",
      "text/plain": [
       "<Figure size 432x288 with 1 Axes>"
      ]
     },
     "metadata": {
      "needs_background": "light"
     },
     "output_type": "display_data"
    }
   ],
   "source": [
    "plt.hist(df_BT['BT_sun']);"
   ]
  },
  {
   "cell_type": "code",
   "execution_count": 81,
   "id": "8c8c00f4",
   "metadata": {},
   "outputs": [
    {
     "data": {
      "text/plain": [
       "Index(['HenID', 'level', 'duration_1_Zone', 'duration_2_Zone',\n",
       "       'duration_3_Zone', 'duration_4_Zone', 'duration_5_Zone',\n",
       "       'verification_daily_total_duration',\n",
       "       'verification_daily_total_nbr_hour', 'dur_values',\n",
       "       'dur_values_normalized', 'perc_duration_3_Zone', 'perc_duration_4_Zone',\n",
       "       'perc_duration_5_Zone', 'perc_duration_2_Zone', 'perc_duration_1_Zone',\n",
       "       'time_wg_open_sec', 'duration_sincedaystarted_beforeWGopened_sec',\n",
       "       'perc_1_Zone_while_WG_open', 'FirstTimestamp_1_Zone',\n",
       "       'FirstTimestamp_2_Zone', 'FirstTimestamp_3_Zone',\n",
       "       'FirstTimestamp_4_Zone', 'FirstTimestamp_5_Zone', 'nbr_h_WGopen',\n",
       "       'FirstTimestamp_1_Zone_sec', 'latency_1_Zone_h', 'Total_number_zone',\n",
       "       'list_of_durations', 'food_related_behavior',\n",
       "       'food_related_behavior_rp', 'food_related_behavior_rm',\n",
       "       'food_related_behavior4', 'food_related_behavior_rp4',\n",
       "       'food_related_behavior_rm4', 'nestboxes_related_behavior',\n",
       "       'list_of_zones', 'list_ZALL', 'mid_cum_Z4_sec',\n",
       "       'Total_number_transition', 'nbr_stays', 'distribution_entropy',\n",
       "       'vertical_travel_distance', 'vertical_travel_distance_dawn',\n",
       "       'vertical_travel_distance_dusk', 'nbr_stays_total', 'nbr_stays_3_Zone',\n",
       "       'nbr_stays_4_Zone', 'nbr_stays_5_Zone', 'nbr_stays_2_Zone',\n",
       "       'nbr_stays_1_Zone', 'PenID', 'CLASS', 'R-Pen', 'InitialStartDate',\n",
       "       'early_death', 'Treatment', 'TagID', 'FocalLegringName', 'night_level',\n",
       "       'night_Max_duration_zones', 'night_duration_Z5',\n",
       "       'night_Total_number_transition', 'is_mvt_night', 'nbr_h_per_day',\n",
       "       'correct_amount_of_hour', 'DOA', 'WOA', 'DIB', 'WIB'],\n",
       "      dtype='object')"
      ]
     },
     "execution_count": 81,
     "metadata": {},
     "output_type": "execute_result"
    }
   ],
   "source": [
    "df_daily.columns"
   ]
  },
  {
   "cell_type": "code",
   "execution_count": null,
   "id": "ba612dee",
   "metadata": {},
   "outputs": [],
   "source": []
  },
  {
   "cell_type": "code",
   "execution_count": null,
   "id": "f913e18c",
   "metadata": {},
   "outputs": [],
   "source": []
  },
  {
   "cell_type": "code",
   "execution_count": null,
   "id": "75f21ceb",
   "metadata": {},
   "outputs": [],
   "source": []
  },
  {
   "cell_type": "code",
   "execution_count": null,
   "id": "99174efa",
   "metadata": {},
   "outputs": [],
   "source": []
  }
 ],
 "metadata": {
  "kernelspec": {
   "display_name": "Python 3 (ipykernel)",
   "language": "python",
   "name": "python3"
  },
  "language_info": {
   "codemirror_mode": {
    "name": "ipython",
    "version": 3
   },
   "file_extension": ".py",
   "mimetype": "text/x-python",
   "name": "python",
   "nbconvert_exporter": "python",
   "pygments_lexer": "ipython3",
   "version": "3.8.12"
  }
 },
 "nbformat": 4,
 "nbformat_minor": 5
}
