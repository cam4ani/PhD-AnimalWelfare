{
 "cells": [
  {
   "cell_type": "code",
   "execution_count": null,
   "id": "8b3fa201",
   "metadata": {},
   "outputs": [],
   "source": [
    "install.packages('sandwich')\n",
    "library('sandwich')  "
   ]
  },
  {
   "cell_type": "code",
   "execution_count": null,
   "id": "4fe411de",
   "metadata": {},
   "outputs": [],
   "source": [
    "#glmer\n",
    "m1 = glmer(weekly_avertical_travel_distance ~ Treatment + scale(weekly_avg_temperature) + scale(WOA) +(1|HenID), \n",
    "        family = poisson, df)\n",
    "summary(m1)\n",
    "summary(m1)\n",
    "sim_res = simulateResiduals(m1, n=1000,plot=T)"
   ]
  },
  {
   "cell_type": "code",
   "execution_count": null,
   "id": "12dbd461",
   "metadata": {},
   "outputs": [],
   "source": [
    "#https://stats.oarc.ucla.edu/r/dae/poisson-regression/\n",
    "#Cameron and Trivedi (2009) recommended using robust standard errors for the parameter estimates to control for mild violation \n",
    "#of the distribution assumption that the variance equals the mean. We use R package sandwich below to obtain the robust \n",
    "#standard errors and calculated the p-values accordingly. Together with the p-values, we have also calculated the 95% \n",
    "#confidence interval using the parameter estimates and their robust standard errors.\n",
    "cov.m1 <- vcovHC(m1, type=\"HC0\")\n",
    "std.err <- sqrt(diag(cov.m1))\n",
    "r.est <- cbind(Estimate= coef(m1), \"Robust SE\" = std.err,\n",
    "\"Pr(>|z|)\" = 2 * pnorm(abs(coef(m1)/std.err), lower.tail=FALSE),\n",
    "LL = coef(m1) - 1.96 * std.err,\n",
    "UL = coef(m1) + 1.96 * std.err)\n",
    "r.est"
   ]
  },
  {
   "cell_type": "code",
   "execution_count": null,
   "id": "a75a0396",
   "metadata": {},
   "outputs": [],
   "source": []
  },
  {
   "cell_type": "code",
   "execution_count": null,
   "id": "e364e3b5",
   "metadata": {},
   "outputs": [],
   "source": []
  }
 ],
 "metadata": {
  "kernelspec": {
   "display_name": " Rkernel ",
   "language": "R",
   "name": "rkernel"
  },
  "language_info": {
   "codemirror_mode": "r",
   "file_extension": ".r",
   "mimetype": "text/x-r-source",
   "name": "R",
   "pygments_lexer": "r",
   "version": "3.6.1"
  }
 },
 "nbformat": 4,
 "nbformat_minor": 5
}
