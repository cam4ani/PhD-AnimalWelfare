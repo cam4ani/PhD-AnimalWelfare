{
 "cells": [
  {
   "cell_type": "code",
   "execution_count": 1,
   "id": "107caf39",
   "metadata": {
    "scrolled": true
   },
   "outputs": [
    {
     "name": "stderr",
     "output_type": "stream",
     "text": [
      "Warning message:\n",
      "\"le package 'brms' a été compilé avec la version R 4.1.2\"\n",
      "Le chargement a nécessité le package : Rcpp\n",
      "\n",
      "Warning message:\n",
      "\"le package 'Rcpp' a été compilé avec la version R 4.1.2\"\n",
      "Loading 'brms' package (version 2.16.3). Useful instructions\n",
      "can be found by typing help('brms'). A more detailed introduction\n",
      "to the package is available through vignette('brms_overview').\n",
      "\n",
      "\n",
      "Attachement du package : 'brms'\n",
      "\n",
      "\n",
      "L'objet suivant est masqué depuis 'package:stats':\n",
      "\n",
      "    ar\n",
      "\n",
      "\n",
      "Warning message:\n",
      "\"le package 'MCMCglmm' a été compilé avec la version R 4.1.2\"\n",
      "Le chargement a nécessité le package : Matrix\n",
      "\n",
      "Warning message:\n",
      "\"le package 'Matrix' a été compilé avec la version R 4.1.2\"\n",
      "Le chargement a nécessité le package : coda\n",
      "\n",
      "Warning message:\n",
      "\"le package 'coda' a été compilé avec la version R 4.1.2\"\n",
      "Le chargement a nécessité le package : ape\n",
      "\n",
      "Warning message:\n",
      "\"le package 'ape' a été compilé avec la version R 4.1.2\"\n",
      "\n",
      "Attachement du package : 'MCMCglmm'\n",
      "\n",
      "\n",
      "L'objet suivant est masqué depuis 'package:brms':\n",
      "\n",
      "    me\n",
      "\n",
      "\n",
      "Warning message:\n",
      "\"le package 'dplyr' a été compilé avec la version R 4.1.2\"\n",
      "\n",
      "Attachement du package : 'dplyr'\n",
      "\n",
      "\n",
      "Les objets suivants sont masqués depuis 'package:stats':\n",
      "\n",
      "    filter, lag\n",
      "\n",
      "\n",
      "Les objets suivants sont masqués depuis 'package:base':\n",
      "\n",
      "    intersect, setdiff, setequal, union\n",
      "\n",
      "\n",
      "Warning message:\n",
      "\"le package 'lmerTest' a été compilé avec la version R 4.1.2\"\n",
      "Le chargement a nécessité le package : lme4\n",
      "\n",
      "Warning message:\n",
      "\"le package 'lme4' a été compilé avec la version R 4.1.2\"\n",
      "\n",
      "Attachement du package : 'lme4'\n",
      "\n",
      "\n",
      "L'objet suivant est masqué depuis 'package:brms':\n",
      "\n",
      "    ngrps\n",
      "\n",
      "\n",
      "\n",
      "Attachement du package : 'lmerTest'\n",
      "\n",
      "\n",
      "L'objet suivant est masqué depuis 'package:lme4':\n",
      "\n",
      "    lmer\n",
      "\n",
      "\n",
      "L'objet suivant est masqué depuis 'package:stats':\n",
      "\n",
      "    step\n",
      "\n",
      "\n"
     ]
    }
   ],
   "source": [
    "library(brms) #predictability: Double hierearchical model\n",
    "library(MCMCglmm) #HPDinterval\n",
    "library(dplyr) #%>%\n",
    "library(lmerTest) #lmer\n",
    "#library(MuMIn) #r2\n",
    "#library(merTools) #sim"
   ]
  },
  {
   "cell_type": "code",
   "execution_count": 31,
   "id": "991b7e4f",
   "metadata": {},
   "outputs": [
    {
     "data": {
      "text/html": [
       "11"
      ],
      "text/latex": [
       "11"
      ],
      "text/markdown": [
       "11"
      ],
      "text/plain": [
       "[1] 11"
      ]
     },
     "metadata": {},
     "output_type": "display_data"
    }
   ],
   "source": [
    "library(parallel)\n",
    "my.cores = detectCores()-1 #minus 1 to avoid bocking the computer\n",
    "my.cores"
   ]
  },
  {
   "cell_type": "code",
   "execution_count": 4,
   "id": "0b303d4f",
   "metadata": {},
   "outputs": [],
   "source": [
    "#df[rowSums(is.na(df)) > 0,]"
   ]
  },
  {
   "cell_type": "markdown",
   "id": "b85115bc",
   "metadata": {},
   "source": [
    "# Behaviorual syndrome"
   ]
  },
  {
   "cell_type": "code",
   "execution_count": 28,
   "id": "0d8a9304",
   "metadata": {
    "scrolled": true
   },
   "outputs": [
    {
     "data": {
      "text/html": [
       "<table class=\"dataframe\">\n",
       "<caption>A matrix: 2 × 1 of type dbl</caption>\n",
       "<thead>\n",
       "\t<tr><th></th><th scope=col>TRAN</th></tr>\n",
       "</thead>\n",
       "<tbody>\n",
       "\t<tr><th scope=row>OFH</th><td>0</td></tr>\n",
       "\t<tr><th scope=row>TRAN</th><td>1</td></tr>\n",
       "</tbody>\n",
       "</table>\n"
      ],
      "text/latex": [
       "A matrix: 2 × 1 of type dbl\n",
       "\\begin{tabular}{r|l}\n",
       "  & TRAN\\\\\n",
       "\\hline\n",
       "\tOFH & 0\\\\\n",
       "\tTRAN & 1\\\\\n",
       "\\end{tabular}\n"
      ],
      "text/markdown": [
       "\n",
       "A matrix: 2 × 1 of type dbl\n",
       "\n",
       "| <!--/--> | TRAN |\n",
       "|---|---|\n",
       "| OFH | 0 |\n",
       "| TRAN | 1 |\n",
       "\n"
      ],
      "text/plain": [
       "     TRAN\n",
       "OFH  0   \n",
       "TRAN 1   "
      ]
     },
     "metadata": {},
     "output_type": "display_data"
    },
    {
     "data": {
      "text/html": [
       "<table class=\"dataframe\">\n",
       "<caption>A matrix: 2 × 1 of type dbl</caption>\n",
       "<thead>\n",
       "\t<tr><th></th><th scope=col>OFH</th></tr>\n",
       "</thead>\n",
       "<tbody>\n",
       "\t<tr><th scope=row>TRAN</th><td>0</td></tr>\n",
       "\t<tr><th scope=row>OFH</th><td>1</td></tr>\n",
       "</tbody>\n",
       "</table>\n"
      ],
      "text/latex": [
       "A matrix: 2 × 1 of type dbl\n",
       "\\begin{tabular}{r|l}\n",
       "  & OFH\\\\\n",
       "\\hline\n",
       "\tTRAN & 0\\\\\n",
       "\tOFH & 1\\\\\n",
       "\\end{tabular}\n"
      ],
      "text/markdown": [
       "\n",
       "A matrix: 2 × 1 of type dbl\n",
       "\n",
       "| <!--/--> | OFH |\n",
       "|---|---|\n",
       "| TRAN | 0 |\n",
       "| OFH | 1 |\n",
       "\n"
      ],
      "text/plain": [
       "     OFH\n",
       "TRAN 0  \n",
       "OFH  1  "
      ]
     },
     "metadata": {},
     "output_type": "display_data"
    },
    {
     "data": {
      "text/html": [
       "<table class=\"dataframe\">\n",
       "<caption>A matrix: 4 × 3 of type dbl</caption>\n",
       "<thead>\n",
       "\t<tr><th></th><th scope=col>MEXP</th><th scope=col>NewAfterEpi</th><th scope=col>REXP</th></tr>\n",
       "</thead>\n",
       "<tbody>\n",
       "\t<tr><th scope=row>LEXP</th><td>0</td><td>0</td><td>0</td></tr>\n",
       "\t<tr><th scope=row>MEXP</th><td>1</td><td>0</td><td>0</td></tr>\n",
       "\t<tr><th scope=row>NewAfterEpi</th><td>0</td><td>1</td><td>0</td></tr>\n",
       "\t<tr><th scope=row>REXP</th><td>0</td><td>0</td><td>1</td></tr>\n",
       "</tbody>\n",
       "</table>\n"
      ],
      "text/latex": [
       "A matrix: 4 × 3 of type dbl\n",
       "\\begin{tabular}{r|lll}\n",
       "  & MEXP & NewAfterEpi & REXP\\\\\n",
       "\\hline\n",
       "\tLEXP & 0 & 0 & 0\\\\\n",
       "\tMEXP & 1 & 0 & 0\\\\\n",
       "\tNewAfterEpi & 0 & 1 & 0\\\\\n",
       "\tREXP & 0 & 0 & 1\\\\\n",
       "\\end{tabular}\n"
      ],
      "text/markdown": [
       "\n",
       "A matrix: 4 × 3 of type dbl\n",
       "\n",
       "| <!--/--> | MEXP | NewAfterEpi | REXP |\n",
       "|---|---|---|---|\n",
       "| LEXP | 0 | 0 | 0 |\n",
       "| MEXP | 1 | 0 | 0 |\n",
       "| NewAfterEpi | 0 | 1 | 0 |\n",
       "| REXP | 0 | 0 | 1 |\n",
       "\n"
      ],
      "text/plain": [
       "            MEXP NewAfterEpi REXP\n",
       "LEXP        0    0           0   \n",
       "MEXP        1    0           0   \n",
       "NewAfterEpi 0    1           0   \n",
       "REXP        0    0           1   "
      ]
     },
     "metadata": {},
     "output_type": "display_data"
    },
    {
     "data": {
      "text/html": [
       "<table class=\"dataframe\">\n",
       "<caption>A matrix: 4 × 3 of type dbl</caption>\n",
       "<thead>\n",
       "\t<tr><th></th><th scope=col>MEXP</th><th scope=col>NewAfterEpi</th><th scope=col>REXP</th></tr>\n",
       "</thead>\n",
       "<tbody>\n",
       "\t<tr><th scope=row>LEXP</th><td>0</td><td>0</td><td>0</td></tr>\n",
       "\t<tr><th scope=row>MEXP</th><td>1</td><td>0</td><td>0</td></tr>\n",
       "\t<tr><th scope=row>NewAfterEpi</th><td>0</td><td>1</td><td>0</td></tr>\n",
       "\t<tr><th scope=row>REXP</th><td>0</td><td>0</td><td>1</td></tr>\n",
       "</tbody>\n",
       "</table>\n"
      ],
      "text/latex": [
       "A matrix: 4 × 3 of type dbl\n",
       "\\begin{tabular}{r|lll}\n",
       "  & MEXP & NewAfterEpi & REXP\\\\\n",
       "\\hline\n",
       "\tLEXP & 0 & 0 & 0\\\\\n",
       "\tMEXP & 1 & 0 & 0\\\\\n",
       "\tNewAfterEpi & 0 & 1 & 0\\\\\n",
       "\tREXP & 0 & 0 & 1\\\\\n",
       "\\end{tabular}\n"
      ],
      "text/markdown": [
       "\n",
       "A matrix: 4 × 3 of type dbl\n",
       "\n",
       "| <!--/--> | MEXP | NewAfterEpi | REXP |\n",
       "|---|---|---|---|\n",
       "| LEXP | 0 | 0 | 0 |\n",
       "| MEXP | 1 | 0 | 0 |\n",
       "| NewAfterEpi | 0 | 1 | 0 |\n",
       "| REXP | 0 | 0 | 1 |\n",
       "\n"
      ],
      "text/plain": [
       "            MEXP NewAfterEpi REXP\n",
       "LEXP        0    0           0   \n",
       "MEXP        1    0           0   \n",
       "NewAfterEpi 0    1           0   \n",
       "REXP        0    0           1   "
      ]
     },
     "metadata": {},
     "output_type": "display_data"
    },
    {
     "name": "stdout",
     "output_type": "stream",
     "text": [
      "[1] 4966   30\n"
     ]
    },
    {
     "data": {
      "text/plain": [
       "        level           DOA             DIB                FoodPenID   \n",
       " 2021-01-11: 156   Min.   :179.0   Min.   : 61.0   FoodPenID1-4 :1182  \n",
       " 2021-01-17: 156   1st Qu.:222.0   1st Qu.:104.0   FoodPenID5-8 :1246  \n",
       " 2021-04-18: 156   Median :279.0   Median :161.0   FoodPenID9-12:2538  \n",
       " 2021-01-24: 155   Mean   :283.4   Mean   :165.4                       \n",
       " 2021-05-23: 155   3rd Qu.:338.0   3rd Qu.:220.0                       \n",
       " 2021-01-05: 154   Max.   :410.0   Max.   :292.0                       \n",
       " (Other)   :4034                                                       \n",
       "   BS_type          Treatment           CLASS          PenID     \n",
       " Length:4966        TRAN:2491   LEXP       : 894   pen5   : 659  \n",
       " Class :character   OFH :2475   MEXP       :1140   pen11  : 648  \n",
       " Mode  :character               NewAfterEpi:1513   pen10  : 647  \n",
       "                                REXP       :1419   pen4   : 646  \n",
       "                                                   pen9   : 632  \n",
       "                                                   pen12  : 611  \n",
       "                                                   (Other):1123  \n",
       " temperature_C_avg  HenID_WIB             HenID      across_context  \n",
       " Min.   :-3.333    Length:4966        hen_10 :  33   Min.   :0.0000  \n",
       " 1st Qu.: 3.333    Class :character   hen_101:  33   1st Qu.:0.0000  \n",
       " Median : 7.167    Mode  :character   hen_102:  33   Median :0.0000  \n",
       " Mean   : 8.896                       hen_107:  33   Mean   :0.1214  \n",
       " 3rd Qu.:15.000                       hen_109:  33   3rd Qu.:0.0000  \n",
       " Max.   :24.000                       hen_112:  33   Max.   :1.0000  \n",
       "                                      (Other):4768                   \n",
       "   KBF_interp    FeatherDamage_interp weight_interp  latency_1_Zone_h  \n",
       " Min.   : 0.00   Min.   : 0.000       Min.   :1237   Min.   :0.005833  \n",
       " 1st Qu.:10.29   1st Qu.: 8.381       1st Qu.:1722   1st Qu.:0.374167  \n",
       " Median :21.61   Median :16.034       Median :1818   Median :2.544306  \n",
       " Mean   :23.13   Mean   :17.203       Mean   :1825   Mean   :2.992441  \n",
       " 3rd Qu.:35.02   3rd Qu.:24.542       3rd Qu.:1925   3rd Qu.:6.000000  \n",
       " Max.   :81.17   Max.   :63.013       Max.   :2329   Max.   :6.952222  \n",
       "                 NA's   :1084                                          \n",
       "  nbr_h_WGopen   perc_1_Zone_while_WG_open mid_cum_Z4_sec_Morning\n",
       " Min.   :3.000   Min.   : 0.000            Min.   :2.037         \n",
       " 1st Qu.:6.083   1st Qu.: 0.000            1st Qu.:3.790         \n",
       " Median :6.250   Median : 2.050            Median :4.392         \n",
       " Mean   :6.074   Mean   : 5.599            Mean   :4.513         \n",
       " 3rd Qu.:6.500   3rd Qu.: 7.190            3rd Qu.:5.147         \n",
       " Max.   :6.750   Max.   :82.770            Max.   :7.983         \n",
       "                                                                 \n",
       " nbr_visit_Z4_Morning Sleeping_NotUppest Has_been_toptier_wholeday\n",
       " Min.   : 1.00        Min.   :0.0000     Min.   :0                \n",
       " 1st Qu.: 2.00        1st Qu.:0.0000     1st Qu.:0                \n",
       " Median : 3.00        Median :0.0000     Median :0                \n",
       " Mean   : 3.51        Mean   :0.3002     Mean   :0                \n",
       " 3rd Qu.: 5.00        3rd Qu.:1.0000     3rd Qu.:0                \n",
       " Max.   :19.00        Max.   :1.0000     Max.   :0                \n",
       "                                                                  \n",
       " vertical_travel_distance_fulllight_perinsideh food_related_behavior_final\n",
       " Min.   : 0.1353                               Min.   :-1.00000           \n",
       " 1st Qu.: 3.0440                               1st Qu.: 0.01517           \n",
       " Median : 4.1538                               Median : 0.13282           \n",
       " Mean   : 4.2268                               Mean   : 0.13228           \n",
       " 3rd Qu.: 5.2762                               3rd Qu.: 0.27882           \n",
       " Max.   :13.5731                               Max.   : 0.75634           \n",
       "                                                                          \n",
       " food_related_behavior_rp_final food_related_behavior_rm_final\n",
       " Min.   :-1.00000               Min.   :-1.00000              \n",
       " 1st Qu.:-0.13452               1st Qu.:-0.12516              \n",
       " Median : 0.02049               Median : 0.01706              \n",
       " Mean   :-0.02612               Mean   :-0.02523              \n",
       " 3rd Qu.: 0.13539               3rd Qu.: 0.12223              \n",
       " Max.   : 0.82478               Max.   : 0.64790              \n",
       "                                                              \n",
       " latency_1_Zone_mn latency_1_Zone_mn_6h latency_1_Zone_mn_3h\n",
       " Min.   :  0.0     Min.   :  0.0        Min.   :  0.0       \n",
       " 1st Qu.: 22.0     1st Qu.: 22.0        1st Qu.: 22.0       \n",
       " Median :153.0     Median :153.0        Median :153.0       \n",
       " Mean   :179.5     Mean   :173.5        Mean   :110.3       \n",
       " 3rd Qu.:360.0     3rd Qu.:360.0        3rd Qu.:180.0       \n",
       " Max.   :417.0     Max.   :360.0        Max.   :180.0       \n",
       "                                                            \n",
       " food_related_behavior_final_BIN\n",
       " Min.   :0.0000                 \n",
       " 1st Qu.:1.0000                 \n",
       " Median :1.0000                 \n",
       " Mean   :0.7718                 \n",
       " 3rd Qu.:1.0000                 \n",
       " Max.   :1.0000                 \n",
       "                                "
      ]
     },
     "metadata": {},
     "output_type": "display_data"
    },
    {
     "data": {
      "image/png": "[encoded data removed]",
      "text/plain": [
       "Plot with title \"Histogram of df$foodRelatedBehavior\""
      ]
     },
     "metadata": {
      "image/png": {
       "height": 420,
       "width": 420
      }
     },
     "output_type": "display_data"
    },
    {
     "data": {
      "text/html": [
       "<style>\n",
       ".list-inline {list-style: none; margin:0; padding: 0}\n",
       ".list-inline>li {display: inline-block}\n",
       ".list-inline>li:not(:last-child)::after {content: \"\\00b7\"; padding: 0 .5ex}\n",
       "</style>\n",
       "<ol class=list-inline><li>4966</li><li>44</li></ol>\n"
      ],
      "text/latex": [
       "\\begin{enumerate*}\n",
       "\\item 4966\n",
       "\\item 44\n",
       "\\end{enumerate*}\n"
      ],
      "text/markdown": [
       "1. 4966\n",
       "2. 44\n",
       "\n",
       "\n"
      ],
      "text/plain": [
       "[1] 4966   44"
      ]
     },
     "metadata": {},
     "output_type": "display_data"
    },
    {
     "data": {
      "text/html": [
       "<style>\n",
       ".list-inline {list-style: none; margin:0; padding: 0}\n",
       ".list-inline>li {display: inline-block}\n",
       ".list-inline>li:not(:last-child)::after {content: \"\\00b7\"; padding: 0 .5ex}\n",
       "</style>\n",
       "<ol class=list-inline><li>3143</li><li>44</li></ol>\n"
      ],
      "text/latex": [
       "\\begin{enumerate*}\n",
       "\\item 3143\n",
       "\\item 44\n",
       "\\end{enumerate*}\n"
      ],
      "text/markdown": [
       "1. 3143\n",
       "2. 44\n",
       "\n",
       "\n"
      ],
      "text/plain": [
       "[1] 3143   44"
      ]
     },
     "metadata": {},
     "output_type": "display_data"
    },
    {
     "data": {
      "text/html": [
       "<style>\n",
       ".list-inline {list-style: none; margin:0; padding: 0}\n",
       ".list-inline>li {display: inline-block}\n",
       ".list-inline>li:not(:last-child)::after {content: \"\\00b7\"; padding: 0 .5ex}\n",
       "</style>\n",
       "<ol class=list-inline><li>457</li><li>44</li></ol>\n"
      ],
      "text/latex": [
       "\\begin{enumerate*}\n",
       "\\item 457\n",
       "\\item 44\n",
       "\\end{enumerate*}\n"
      ],
      "text/markdown": [
       "1. 457\n",
       "2. 44\n",
       "\n",
       "\n"
      ],
      "text/plain": [
       "[1] 457  44"
      ]
     },
     "metadata": {},
     "output_type": "display_data"
    },
    {
     "data": {
      "text/html": [
       "<style>\n",
       ".list-inline {list-style: none; margin:0; padding: 0}\n",
       ".list-inline>li {display: inline-block}\n",
       ".list-inline>li:not(:last-child)::after {content: \"\\00b7\"; padding: 0 .5ex}\n",
       "</style>\n",
       "<ol class=list-inline><li>444</li><li>44</li></ol>\n"
      ],
      "text/latex": [
       "\\begin{enumerate*}\n",
       "\\item 444\n",
       "\\item 44\n",
       "\\end{enumerate*}\n"
      ],
      "text/markdown": [
       "1. 444\n",
       "2. 44\n",
       "\n",
       "\n"
      ],
      "text/plain": [
       "[1] 444  44"
      ]
     },
     "metadata": {},
     "output_type": "display_data"
    },
    {
     "data": {
      "text/html": [
       "<style>\n",
       ".list-inline {list-style: none; margin:0; padding: 0}\n",
       ".list-inline>li {display: inline-block}\n",
       ".list-inline>li:not(:last-child)::after {content: \"\\00b7\"; padding: 0 .5ex}\n",
       "</style>\n",
       "<ol class=list-inline><li>463</li><li>44</li></ol>\n"
      ],
      "text/latex": [
       "\\begin{enumerate*}\n",
       "\\item 463\n",
       "\\item 44\n",
       "\\end{enumerate*}\n"
      ],
      "text/markdown": [
       "1. 463\n",
       "2. 44\n",
       "\n",
       "\n"
      ],
      "text/plain": [
       "[1] 463  44"
      ]
     },
     "metadata": {},
     "output_type": "display_data"
    },
    {
     "data": {
      "text/html": [
       "<style>\n",
       ".list-inline {list-style: none; margin:0; padding: 0}\n",
       ".list-inline>li {display: inline-block}\n",
       ".list-inline>li:not(:last-child)::after {content: \"\\00b7\"; padding: 0 .5ex}\n",
       "</style>\n",
       "<ol class=list-inline><li>459</li><li>44</li></ol>\n"
      ],
      "text/latex": [
       "\\begin{enumerate*}\n",
       "\\item 459\n",
       "\\item 44\n",
       "\\end{enumerate*}\n"
      ],
      "text/markdown": [
       "1. 459\n",
       "2. 44\n",
       "\n",
       "\n"
      ],
      "text/plain": [
       "[1] 459  44"
      ]
     },
     "metadata": {},
     "output_type": "display_data"
    },
    {
     "data": {
      "text/html": [
       "<style>\n",
       ".list-inline {list-style: none; margin:0; padding: 0}\n",
       ".list-inline>li {display: inline-block}\n",
       ".list-inline>li:not(:last-child)::after {content: \"\\00b7\"; padding: 0 .5ex}\n",
       "</style>\n",
       "<ol class=list-inline><li>603</li><li>44</li></ol>\n"
      ],
      "text/latex": [
       "\\begin{enumerate*}\n",
       "\\item 603\n",
       "\\item 44\n",
       "\\end{enumerate*}\n"
      ],
      "text/markdown": [
       "1. 603\n",
       "2. 44\n",
       "\n",
       "\n"
      ],
      "text/plain": [
       "[1] 603  44"
      ]
     },
     "metadata": {},
     "output_type": "display_data"
    },
    {
     "data": {
      "image/png": "[encoded data removed]",
      "text/plain": [
       "Plot with title \"Histogram of df$mid_cum_Z4_sec_Morning_sqrt\""
      ]
     },
     "metadata": {
      "image/png": {
       "height": 420,
       "width": 420
      }
     },
     "output_type": "display_data"
    }
   ],
   "source": [
    "path_ = 'G:/VPHI/Welfare/2- Research Projects/OFHE2.OriginsE2/DataOutput/TrackingSystem/ALLDATA_'\n",
    "#df = read.csv(file.path(path_,'df_daily_aggregatedHA.csv'), header = TRUE, sep = \",\")\n",
    "df = read.csv(file.path(path_,'df_BS.csv'), header = TRUE, sep = \",\")\n",
    "\n",
    "df$HenID = as.factor(df$HenID)   \n",
    "df$PenID = as.factor(df$PenID)\n",
    "df$level = as.factor(df$level) \n",
    "df$FoodPenID = as.factor(df$FoodPenID) \n",
    "\n",
    "#df$WOA_F = as.factor(df$WOA) \n",
    "\n",
    "df$CLASS = as.factor(df$CLASS) \n",
    "df$Treatment = as.factor(df$Treatment)\n",
    "\n",
    "#scale: mean-centering of the environmental variable so that intercepts reflect average values for the HenID and ind. \n",
    "#df$temperature_C_avg_scale = scale(df$temperature_C_avg, center=TRUE, scale=TRUE)\n",
    "\n",
    "#setting reference group\n",
    "contrasts(df$Treatment)\n",
    "df <- df %>% mutate(Treatment = relevel(Treatment, ref = \"TRAN\"))\n",
    "contrasts(df$Treatment)\n",
    "\n",
    "contrasts(df$CLASS)\n",
    "df <- df %>% mutate(CLASS = relevel(CLASS, ref = \"LEXP\"))\n",
    "contrasts(df$CLASS)\n",
    "print(dim(df))\n",
    "summary(df)\n",
    "\n",
    "df$latency_1_Zone_mn_6hOPP = max(df$latency_1_Zone_mn_6h)-df$latency_1_Zone_mn_6h\n",
    "df$food_related_behavior_final_inv_cst = (-1)*(df$food_related_behavior_final)+1.01\n",
    "df$latency_1_Zone_15mn_6h = as.integer(df$latency_1_Zone_mn_6h/15)\n",
    "df$latency_1_Zone_15mn_6hOPP = max(df$latency_1_Zone_15mn_6h) - df$latency_1_Zone_15mn_6h\n",
    "\n",
    "df$latency_1_Zone_15mn_3h = as.integer(df$latency_1_Zone_mn_3h/15)\n",
    "df$latency_1_Zone_15mn_3hOPP = max(df$latency_1_Zone_15mn_3h) - df$latency_1_Zone_15mn_3h\n",
    "df$latency_1_Zone_15mn_3h_bind = with(df, cbind(latency_1_Zone_15mn_3h, latency_1_Zone_15mn_3hOPP))\n",
    "df$size = with(df, latency_1_Zone_15mn_3h + latency_1_Zone_15mn_3hOPP)\n",
    "\n",
    "\n",
    "#Parameter names should not contain dots or underscores.\n",
    "df$VTD = df$vertical_travel_distance_fulllight_perinsideh\n",
    "df$KBFInterp = df$KBF_interp\n",
    "df$weightInterp = df$weight_interp\n",
    "df$SleepingNotUppest = df$Sleeping_NotUppest\n",
    "\n",
    "#Parameter names should not contain dots or underscores.\n",
    "df$VTD = df$vertical_travel_distance_fulllight_perinsideh\n",
    "df$KBFInterp = df$KBF_interp\n",
    "df$weightInterp = df$weight_interp\n",
    "df$SleepingNotUppest = df$Sleeping_NotUppest\n",
    "df$foodRelatedBehavior = log(df$food_related_behavior_final_inv_cst)\n",
    "hist(df$foodRelatedBehavior)\n",
    "df$mid_cum_Z4_sec_Morning_sqrt = sqrt(df$mid_cum_Z4_sec_Morning)\n",
    "hist(df$mid_cum_Z4_sec_Morning_sqrt)\n",
    "\n",
    "dim(df)\n",
    "df_time = df[df$BS_type=='time',]\n",
    "dim(df_time)\n",
    "\n",
    "df_LP2 = df[df$BS_type=='LP2',]\n",
    "dim(df_LP2)\n",
    "\n",
    "df_LP10 = df[df$BS_type=='LP10',]\n",
    "dim(df_LP10)\n",
    "\n",
    "df_cold = df[df$BS_type=='cold',]\n",
    "dim(df_cold)\n",
    "\n",
    "df_vacc = df[df$BS_type=='TypicalVaccinationDay',]\n",
    "dim(df_vacc)\n",
    "\n",
    "df_AC = df[df$across_context==1,]\n",
    "dim(df_AC)\n",
    "\n",
    "head(df_time,3)"
   ]
  },
  {
   "cell_type": "code",
   "execution_count": 29,
   "id": "22e40e04",
   "metadata": {},
   "outputs": [
    {
     "data": {
      "text/html": [
       "<table class=\"dataframe\">\n",
       "<caption>A data.frame: 3 × 44</caption>\n",
       "<thead>\n",
       "\t<tr><th></th><th scope=col>level</th><th scope=col>DOA</th><th scope=col>DIB</th><th scope=col>FoodPenID</th><th scope=col>BS_type</th><th scope=col>Treatment</th><th scope=col>CLASS</th><th scope=col>PenID</th><th scope=col>temperature_C_avg</th><th scope=col>HenID_WIB</th><th scope=col>...</th><th scope=col>latency_1_Zone_15mn_3h</th><th scope=col>latency_1_Zone_15mn_3hOPP</th><th scope=col>latency_1_Zone_15mn_3h_bind</th><th scope=col>size</th><th scope=col>VTD</th><th scope=col>KBFInterp</th><th scope=col>weightInterp</th><th scope=col>SleepingNotUppest</th><th scope=col>foodRelatedBehavior</th><th scope=col>mid_cum_Z4_sec_Morning_sqrt</th></tr>\n",
       "\t<tr><th></th><th scope=col>&lt;fct&gt;</th><th scope=col>&lt;int&gt;</th><th scope=col>&lt;int&gt;</th><th scope=col>&lt;fct&gt;</th><th scope=col>&lt;chr&gt;</th><th scope=col>&lt;fct&gt;</th><th scope=col>&lt;fct&gt;</th><th scope=col>&lt;fct&gt;</th><th scope=col>&lt;dbl&gt;</th><th scope=col>&lt;chr&gt;</th><th scope=col>...</th><th scope=col>&lt;int&gt;</th><th scope=col>&lt;int&gt;</th><th scope=col>&lt;int[,2]&gt;</th><th scope=col>&lt;int&gt;</th><th scope=col>&lt;dbl&gt;</th><th scope=col>&lt;dbl&gt;</th><th scope=col>&lt;dbl&gt;</th><th scope=col>&lt;int&gt;</th><th scope=col>&lt;dbl&gt;</th><th scope=col>&lt;dbl&gt;</th></tr>\n",
       "</thead>\n",
       "<tbody>\n",
       "\t<tr><th scope=row>4</th><td>2020-12-20</td><td>200</td><td> 82</td><td>FoodPenID9-12</td><td>time</td><td>TRAN</td><td>REXP</td><td>pen10</td><td>5.5000000</td><td>hen_131-WIB12</td><td>...</td><td>12</td><td>0</td><td>12, 0</td><td>12</td><td>5.288128</td><td>0.000000</td><td>1802.650</td><td>0</td><td>-0.5363137</td><td>2.141715</td></tr>\n",
       "\t<tr><th scope=row>7</th><td>2021-01-03</td><td>214</td><td> 96</td><td>FoodPenID9-12</td><td>time</td><td>TRAN</td><td>REXP</td><td>pen10</td><td>0.8333333</td><td>hen_131-WIB14</td><td>...</td><td> 9</td><td>3</td><td> 9, 3</td><td>12</td><td>7.312166</td><td>0.000000</td><td>1839.283</td><td>0</td><td>-0.2227852</td><td>1.971181</td></tr>\n",
       "\t<tr><th scope=row>10</th><td>2021-01-17</td><td>228</td><td>110</td><td>FoodPenID9-12</td><td>time</td><td>TRAN</td><td>REXP</td><td>pen10</td><td>1.8333333</td><td>hen_131-WIB16</td><td>...</td><td>12</td><td>0</td><td>12, 0</td><td>12</td><td>6.392746</td><td>5.571429</td><td>1850.211</td><td>0</td><td>-0.3149193</td><td>2.296193</td></tr>\n",
       "</tbody>\n",
       "</table>\n"
      ],
      "text/latex": [
       "A data.frame: 3 × 44\n",
       "\\begin{tabular}{r|lllllllllllllllllllll}\n",
       "  & level & DOA & DIB & FoodPenID & BS\\_type & Treatment & CLASS & PenID & temperature\\_C\\_avg & HenID\\_WIB & ... & latency\\_1\\_Zone\\_15mn\\_3h & latency\\_1\\_Zone\\_15mn\\_3hOPP & latency\\_1\\_Zone\\_15mn\\_3h\\_bind & size & VTD & KBFInterp & weightInterp & SleepingNotUppest & foodRelatedBehavior & mid\\_cum\\_Z4\\_sec\\_Morning\\_sqrt\\\\\n",
       "  & <fct> & <int> & <int> & <fct> & <chr> & <fct> & <fct> & <fct> & <dbl> & <chr> & ... & <int> & <int> & <int{[},2{]}> & <int> & <dbl> & <dbl> & <dbl> & <int> & <dbl> & <dbl>\\\\\n",
       "\\hline\n",
       "\t4 & 2020-12-20 & 200 &  82 & FoodPenID9-12 & time & TRAN & REXP & pen10 & 5.5000000 & hen\\_131-WIB12 & ... & 12 & 0 & 12, 0 & 12 & 5.288128 & 0.000000 & 1802.650 & 0 & -0.5363137 & 2.141715\\\\\n",
       "\t7 & 2021-01-03 & 214 &  96 & FoodPenID9-12 & time & TRAN & REXP & pen10 & 0.8333333 & hen\\_131-WIB14 & ... &  9 & 3 &  9, 3 & 12 & 7.312166 & 0.000000 & 1839.283 & 0 & -0.2227852 & 1.971181\\\\\n",
       "\t10 & 2021-01-17 & 228 & 110 & FoodPenID9-12 & time & TRAN & REXP & pen10 & 1.8333333 & hen\\_131-WIB16 & ... & 12 & 0 & 12, 0 & 12 & 6.392746 & 5.571429 & 1850.211 & 0 & -0.3149193 & 2.296193\\\\\n",
       "\\end{tabular}\n"
      ],
      "text/markdown": [
       "\n",
       "A data.frame: 3 × 44\n",
       "\n",
       "| <!--/--> | level &lt;fct&gt; | DOA &lt;int&gt; | DIB &lt;int&gt; | FoodPenID &lt;fct&gt; | BS_type &lt;chr&gt; | Treatment &lt;fct&gt; | CLASS &lt;fct&gt; | PenID &lt;fct&gt; | temperature_C_avg &lt;dbl&gt; | HenID_WIB &lt;chr&gt; | ... ... | latency_1_Zone_15mn_3h &lt;int&gt; | latency_1_Zone_15mn_3hOPP &lt;int&gt; | latency_1_Zone_15mn_3h_bind &lt;int[,2]&gt; | size &lt;int&gt; | VTD &lt;dbl&gt; | KBFInterp &lt;dbl&gt; | weightInterp &lt;dbl&gt; | SleepingNotUppest &lt;int&gt; | foodRelatedBehavior &lt;dbl&gt; | mid_cum_Z4_sec_Morning_sqrt &lt;dbl&gt; |\n",
       "|---|---|---|---|---|---|---|---|---|---|---|---|---|---|---|---|---|---|---|---|---|---|\n",
       "| 4 | 2020-12-20 | 200 |  82 | FoodPenID9-12 | time | TRAN | REXP | pen10 | 5.5000000 | hen_131-WIB12 | ... | 12 | 0 | 12, 0 | 12 | 5.288128 | 0.000000 | 1802.650 | 0 | -0.5363137 | 2.141715 |\n",
       "| 7 | 2021-01-03 | 214 |  96 | FoodPenID9-12 | time | TRAN | REXP | pen10 | 0.8333333 | hen_131-WIB14 | ... |  9 | 3 |  9, 3 | 12 | 7.312166 | 0.000000 | 1839.283 | 0 | -0.2227852 | 1.971181 |\n",
       "| 10 | 2021-01-17 | 228 | 110 | FoodPenID9-12 | time | TRAN | REXP | pen10 | 1.8333333 | hen_131-WIB16 | ... | 12 | 0 | 12, 0 | 12 | 6.392746 | 5.571429 | 1850.211 | 0 | -0.3149193 | 2.296193 |\n",
       "\n"
      ],
      "text/plain": [
       "   level      DOA DIB FoodPenID     BS_type Treatment CLASS PenID\n",
       "4  2020-12-20 200  82 FoodPenID9-12 time    TRAN      REXP  pen10\n",
       "7  2021-01-03 214  96 FoodPenID9-12 time    TRAN      REXP  pen10\n",
       "10 2021-01-17 228 110 FoodPenID9-12 time    TRAN      REXP  pen10\n",
       "   temperature_C_avg HenID_WIB     ... latency_1_Zone_15mn_3h\n",
       "4  5.5000000         hen_131-WIB12 ... 12                    \n",
       "7  0.8333333         hen_131-WIB14 ...  9                    \n",
       "10 1.8333333         hen_131-WIB16 ... 12                    \n",
       "   latency_1_Zone_15mn_3hOPP latency_1_Zone_15mn_3h_bind size VTD     \n",
       "4  0                         12, 0                       12   5.288128\n",
       "7  3                          9, 3                       12   7.312166\n",
       "10 0                         12, 0                       12   6.392746\n",
       "   KBFInterp weightInterp SleepingNotUppest foodRelatedBehavior\n",
       "4  0.000000  1802.650     0                 -0.5363137         \n",
       "7  0.000000  1839.283     0                 -0.2227852         \n",
       "10 5.571429  1850.211     0                 -0.3149193         \n",
       "   mid_cum_Z4_sec_Morning_sqrt\n",
       "4  2.141715                   \n",
       "7  1.971181                   \n",
       "10 2.296193                   "
      ]
     },
     "metadata": {},
     "output_type": "display_data"
    }
   ],
   "source": [
    "head(df_time,3)"
   ]
  },
  {
   "cell_type": "raw",
   "id": "8509d9fb",
   "metadata": {},
   "source": [
    "#brms family: https://paul-buerkner.github.io/brms/reference/brmsfamily.html\n",
    "Families bernoulli and binomial can be used for binary regression (i.e., most commonly logistic regression)"
   ]
  },
  {
   "cell_type": "raw",
   "id": "c49c2639",
   "metadata": {},
   "source": [
    "#for later analysis:\n",
    "#interesting brms models: https://discourse.mc-stan.org/t/brms-non-linear-models-correlated-random-effects/12852\n",
    "priors:\n",
    "https://discourse.mc-stan.org/t/repeated-measures-ordinal-model-with-brms-how-to-specify-correlation-structure/14352\n",
    "prior = c(set_prior(prior = \"normal(0,10)\", class = \"Intercept\"),\n",
    "                     set_prior(prior = \"normal(0,5)\", class = \"b\"),\n",
    "                     set_prior(prior = \"normal(0,5)\", class = \"sd\")"
   ]
  },
  {
   "cell_type": "raw",
   "id": "9d35a1d1",
   "metadata": {},
   "source": [
    "from repeatability script\n",
    "#model used in R\n",
    "Sleeping_NotUppest ~ Treatment + scale(weight_interp)+scale(KBF_interp) + (1|HenID) #binary\n",
    "\n",
    "food_related_behavior_final_inv_cst ~ Treatment + FoodPenID + scale(weight_interp) + scale(KBF_interp) + scale(DIB)+ (1|HenID) #Gamma(link=\"log\")\n",
    "\n",
    "vertical_travel_distance_fulllight_perinsideh ~ Treatment + scale(weight_interp)+scale(KBF_interp)+scale(DIB)+scale(I(DIB^2)) +(1|HenID), #gaussian\n",
    "\n",
    "mid_cum_Z4_sec_Morning ~ Treatment + scale(weight_interp) + scale(KBF_interp) + scale(DIB) + (1|HenID) #Gamma(link = \"log\")\n",
    "\n",
    "cbind(latency_1_Zone_15mn_3h, latency_1_Zone_15mn_3hOPP) ~ Treatment +scale(DIB)+scale(weight_interp)+scale(KBF_interp) +(1|HenID) #proportion \n",
    "\n",
    "\n",
    "Sleeping_NotUppest, mid_cum_Z4_sec_Morning, food_related_behavior_final_inv_cst, latency_1_Zone_15mn_3h, vertical_travel_distance_fulllight_perinsideh"
   ]
  },
  {
   "cell_type": "markdown",
   "id": "afa9bc7f",
   "metadata": {},
   "source": [
    "# Predictability and mean"
   ]
  },
  {
   "cell_type": "code",
   "execution_count": 9,
   "id": "31b70714",
   "metadata": {},
   "outputs": [
    {
     "name": "stderr",
     "output_type": "stream",
     "text": [
      "Compiling Stan program...\n",
      "\n",
      "Start sampling\n",
      "\n"
     ]
    },
    {
     "data": {
      "text/plain": [
       " Family: gaussian \n",
       "  Links: mu = identity; sigma = log \n",
       "Formula: scale(VTD) ~ Treatment + scale(weightInterp) + scale(KBFInterp) + scale(DIB) + scale(I(DIB^2)) + (1 | a | HenID) \n",
       "         sigma ~ (1 | a | HenID)\n",
       "   Data: df_time (Number of observations: 3143) \n",
       "  Draws: 2 chains, each with iter = 1500; warmup = 250; thin = 2;\n",
       "         total post-warmup draws = 1250\n",
       "\n",
       "Group-Level Effects: \n",
       "~HenID (Number of levels: 190) \n",
       "                               Estimate Est.Error l-95% CI u-95% CI Rhat\n",
       "sd(Intercept)                      0.83      0.05     0.75     0.92 1.00\n",
       "sd(sigma_Intercept)                0.34      0.03     0.30     0.39 1.00\n",
       "cor(Intercept,sigma_Intercept)     0.61      0.06     0.48     0.72 1.00\n",
       "                               Bulk_ESS Tail_ESS\n",
       "sd(Intercept)                       407      783\n",
       "sd(sigma_Intercept)                1461     1952\n",
       "cor(Intercept,sigma_Intercept)     1281     1785\n",
       "\n",
       "Population-Level Effects: \n",
       "                  Estimate Est.Error l-95% CI u-95% CI Rhat Bulk_ESS Tail_ESS\n",
       "Intercept            -0.06      0.08    -0.21     0.10 1.00      351      511\n",
       "sigma_Intercept      -0.74      0.03    -0.80    -0.69 1.00      894     1589\n",
       "TreatmentOFH          0.02      0.11    -0.19     0.23 1.00      322      768\n",
       "scaleweightInterp    -0.14      0.03    -0.19    -0.08 1.00      926     1576\n",
       "scaleKBFInterp       -0.02      0.02    -0.06     0.02 1.00     1490     1972\n",
       "scaleDIB              0.42      0.07     0.29     0.56 1.00     1851     2080\n",
       "scaleIDIBE2          -0.44      0.07    -0.57    -0.30 1.00     2034     2121\n",
       "\n",
       "Draws were sampled using sampling(NUTS). For each parameter, Bulk_ESS\n",
       "and Tail_ESS are effective sample size measures, and Rhat is the potential\n",
       "scale reduction factor on split chains (at convergence, Rhat = 1)."
      ]
     },
     "metadata": {},
     "output_type": "display_data"
    }
   ],
   "source": [
    "#such a correlation can give insights whether certain behavioral types are particularlypredictable or un-predictable in their behavior\n",
    "double_model_cor = bf(scale(VTD) ~ Treatment + scale(weightInterp)+scale(KBFInterp)+scale(DIB)+scale(I(DIB^2)) +(1|a|HenID),\n",
    "                      sigma~(1|a|HenID))\n",
    "m3_brm_cor = brm(double_model_cor, data = df_time,warmup = 500,iter = 3000,thin=2,chains = 2,inits  = \"random\",\n",
    "                 seed = 12345,cores  = my.cores)\n",
    "summary(m3_brm_cor)"
   ]
  },
  {
   "cell_type": "code",
   "execution_count": 12,
   "id": "43c2442d",
   "metadata": {},
   "outputs": [
    {
     "name": "stderr",
     "output_type": "stream",
     "text": [
      "Compiling Stan program...\n",
      "\n",
      "Start sampling\n",
      "\n"
     ]
    },
    {
     "data": {
      "text/plain": [
       " Family: gaussian \n",
       "  Links: mu = identity; sigma = log \n",
       "Formula: scale(foodRelatedBehavior) ~ Treatment + FoodPenID + scale(weightInterp) + scale(KBFInterp) + scale(DIB) + (1 | a | HenID) \n",
       "         sigma ~ (1 | a | HenID)\n",
       "   Data: df_time (Number of observations: 3143) \n",
       "  Draws: 2 chains, each with iter = 1500; warmup = 250; thin = 2;\n",
       "         total post-warmup draws = 1250\n",
       "\n",
       "Group-Level Effects: \n",
       "~HenID (Number of levels: 190) \n",
       "                               Estimate Est.Error l-95% CI u-95% CI Rhat\n",
       "sd(Intercept)                      0.65      0.04     0.58     0.72 1.00\n",
       "sd(sigma_Intercept)                0.34      0.02     0.29     0.39 1.00\n",
       "cor(Intercept,sigma_Intercept)    -0.24      0.09    -0.40    -0.06 1.00\n",
       "                               Bulk_ESS Tail_ESS\n",
       "sd(Intercept)                       911     1369\n",
       "sd(sigma_Intercept)                1324     1682\n",
       "cor(Intercept,sigma_Intercept)     1229     1845\n",
       "\n",
       "Population-Level Effects: \n",
       "                       Estimate Est.Error l-95% CI u-95% CI Rhat Bulk_ESS\n",
       "Intercept                 -0.14      0.11    -0.35     0.08 1.00      493\n",
       "sigma_Intercept           -0.39      0.03    -0.44    -0.33 1.00     1260\n",
       "TreatmentOFH               0.10      0.10    -0.09     0.30 1.01      412\n",
       "FoodPenIDFoodPenID5M8     -0.00      0.14    -0.27     0.26 1.00      682\n",
       "FoodPenIDFoodPenID9M12     0.17      0.12    -0.06     0.42 1.01      539\n",
       "scaleweightInterp          0.05      0.04    -0.02     0.13 1.00      938\n",
       "scaleKBFInterp            -0.04      0.03    -0.09     0.02 1.00     1450\n",
       "scaleDIB                  -0.05      0.02    -0.09    -0.01 1.00     1225\n",
       "                       Tail_ESS\n",
       "Intercept                   886\n",
       "sigma_Intercept            1762\n",
       "TreatmentOFH                819\n",
       "FoodPenIDFoodPenID5M8      1105\n",
       "FoodPenIDFoodPenID9M12     1116\n",
       "scaleweightInterp          1498\n",
       "scaleKBFInterp             2048\n",
       "scaleDIB                   2054\n",
       "\n",
       "Draws were sampled using sampling(NUTS). For each parameter, Bulk_ESS\n",
       "and Tail_ESS are effective sample size measures, and Rhat is the potential\n",
       "scale reduction factor on split chains (at convergence, Rhat = 1)."
      ]
     },
     "metadata": {},
     "output_type": "display_data"
    }
   ],
   "source": [
    "#such a correlation can give insights whether certain behavioral types are particularlypredictable or un-predictable in their behavior\n",
    "double_model_cor = bf(scale(foodRelatedBehavior) ~ Treatment + FoodPenID + scale(weightInterp) + scale(KBFInterp) + scale(DIB) +(1|a|HenID),\n",
    "                      sigma~(1|a|HenID))\n",
    "m3_brm_cor = brm(double_model_cor, data = df_time,warmup = 500,iter = 3000,thin=2,chains = 2,inits  = \"random\",\n",
    "                 seed = 12345, cores=my.cores)\n",
    "summary(m3_brm_cor)"
   ]
  },
  {
   "cell_type": "code",
   "execution_count": null,
   "id": "3c132dc4",
   "metadata": {},
   "outputs": [],
   "source": []
  },
  {
   "cell_type": "code",
   "execution_count": null,
   "id": "fea849b1",
   "metadata": {},
   "outputs": [],
   "source": []
  },
  {
   "cell_type": "code",
   "execution_count": null,
   "id": "b131762e",
   "metadata": {},
   "outputs": [],
   "source": []
  },
  {
   "cell_type": "code",
   "execution_count": null,
   "id": "8b837853",
   "metadata": {},
   "outputs": [],
   "source": []
  },
  {
   "cell_type": "code",
   "execution_count": null,
   "id": "536c4e48",
   "metadata": {},
   "outputs": [],
   "source": []
  },
  {
   "cell_type": "code",
   "execution_count": null,
   "id": "e9001420",
   "metadata": {},
   "outputs": [],
   "source": []
  },
  {
   "cell_type": "code",
   "execution_count": null,
   "id": "ff34ef0e",
   "metadata": {},
   "outputs": [],
   "source": []
  },
  {
   "cell_type": "code",
   "execution_count": null,
   "id": "1af4ae9f",
   "metadata": {},
   "outputs": [],
   "source": []
  },
  {
   "cell_type": "code",
   "execution_count": null,
   "id": "3802d2ee",
   "metadata": {},
   "outputs": [],
   "source": []
  },
  {
   "cell_type": "code",
   "execution_count": null,
   "id": "b3bdc66d",
   "metadata": {},
   "outputs": [],
   "source": []
  }
 ],
 "metadata": {
  "kernelspec": {
   "display_name": " Rkernel_4",
   "language": "R",
   "name": "rkernel_4"
  },
  "language_info": {
   "codemirror_mode": "r",
   "file_extension": ".r",
   "mimetype": "text/x-r-source",
   "name": "R",
   "pygments_lexer": "r",
   "version": "4.1.1"
  }
 },
 "nbformat": 4,
 "nbformat_minor": 5
}
