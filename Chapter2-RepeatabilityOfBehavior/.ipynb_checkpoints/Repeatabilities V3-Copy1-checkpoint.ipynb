{
 "cells": [
  {
   "cell_type": "code",
   "execution_count": 17,
   "id": "61de529d",
   "metadata": {},
   "outputs": [
    {
     "name": "stderr",
     "output_type": "stream",
     "text": [
      "Warning message:\n",
      "\"package 'merTools' was built under R version 3.6.3\"\n",
      "Loading required package: arm\n",
      "\n",
      "\n",
      "arm (Version 1.12-2, built: 2021-10-15)\n",
      "\n",
      "\n",
      "Working directory is C:/Users/camil/Desktop/animals_code/PhD-AnimalWelfare/Chapter2\n",
      "\n",
      "\n"
     ]
    }
   ],
   "source": [
    "#install.packages(\"glmmTMB\")\n",
    "#library(rptR)\n",
    "library(ggplot2)\n",
    "library(lindia)\n",
    "library(tidyverse)\n",
    "#library(caret)\n",
    "library(lmerTest) #lmer, glmer\n",
    "library(DHARMa) #verify assumpltion of glm\n",
    "library(merTools) #sim\n",
    "#library(MuMIn) #r2\n",
    "#library(glmmTMB) #hurdle with random effect & zero-inflation with random effect\n",
    "\n",
    "# installing glmmADMB\n",
    "#install.packages(\"R2admb\")\n",
    "#install.packages(\"glmmADMB\", repos =c(\"http://glmmadmb.r-forge.r-project.org/repos\",getOption(\"repos\")), type = \"source\")\n",
    "# installing \n",
    "#lme4install.packages(\"lme4\")\n",
    "# installing cplm\n",
    "#install.packages(\"cplm\")\n",
    "library(glmmADMB)\n",
    "library(lme4)\n",
    "library(MASS)"
   ]
  },
  {
   "cell_type": "code",
   "execution_count": 30,
   "id": "5e411d19",
   "metadata": {},
   "outputs": [
    {
     "name": "stderr",
     "output_type": "stream",
     "text": [
      "Warning message:\n",
      "\"package 'glmmTMB' was built under R version 3.6.3\"\n",
      "\n",
      "Attaching package: 'glmmTMB'\n",
      "\n",
      "\n",
      "The following object is masked from 'package:glmmADMB':\n",
      "\n",
      "    VarCorr\n",
      "\n",
      "\n"
     ]
    }
   ],
   "source": [
    "library(\"glmmTMB\")"
   ]
  },
  {
   "cell_type": "markdown",
   "id": "3206bba6",
   "metadata": {},
   "source": [
    "install.packages(\"leaps\")\n",
    "library(leaps)\n",
    "library(MASS)\n",
    "library(lme4) #random effect\n",
    "library(sjPlot)#plot estimates"
   ]
  },
  {
   "cell_type": "code",
   "execution_count": 2,
   "id": "b415245b",
   "metadata": {
    "scrolled": true
   },
   "outputs": [
    {
     "data": {
      "text/html": [
       "<table class=\"dataframe\">\n",
       "<caption>A matrix: 2 × 1 of type dbl</caption>\n",
       "<thead>\n",
       "\t<tr><th></th><th scope=col>TRAN</th></tr>\n",
       "</thead>\n",
       "<tbody>\n",
       "\t<tr><th scope=row>OFH</th><td>0</td></tr>\n",
       "\t<tr><th scope=row>TRAN</th><td>1</td></tr>\n",
       "</tbody>\n",
       "</table>\n"
      ],
      "text/latex": [
       "A matrix: 2 × 1 of type dbl\n",
       "\\begin{tabular}{r|l}\n",
       "  & TRAN\\\\\n",
       "\\hline\n",
       "\tOFH & 0\\\\\n",
       "\tTRAN & 1\\\\\n",
       "\\end{tabular}\n"
      ],
      "text/markdown": [
       "\n",
       "A matrix: 2 × 1 of type dbl\n",
       "\n",
       "| <!--/--> | TRAN |\n",
       "|---|---|\n",
       "| OFH | 0 |\n",
       "| TRAN | 1 |\n",
       "\n"
      ],
      "text/plain": [
       "     TRAN\n",
       "OFH  0   \n",
       "TRAN 1   "
      ]
     },
     "metadata": {},
     "output_type": "display_data"
    },
    {
     "data": {
      "text/html": [
       "<table class=\"dataframe\">\n",
       "<caption>A matrix: 2 × 1 of type dbl</caption>\n",
       "<thead>\n",
       "\t<tr><th></th><th scope=col>OFH</th></tr>\n",
       "</thead>\n",
       "<tbody>\n",
       "\t<tr><th scope=row>TRAN</th><td>0</td></tr>\n",
       "\t<tr><th scope=row>OFH</th><td>1</td></tr>\n",
       "</tbody>\n",
       "</table>\n"
      ],
      "text/latex": [
       "A matrix: 2 × 1 of type dbl\n",
       "\\begin{tabular}{r|l}\n",
       "  & OFH\\\\\n",
       "\\hline\n",
       "\tTRAN & 0\\\\\n",
       "\tOFH & 1\\\\\n",
       "\\end{tabular}\n"
      ],
      "text/markdown": [
       "\n",
       "A matrix: 2 × 1 of type dbl\n",
       "\n",
       "| <!--/--> | OFH |\n",
       "|---|---|\n",
       "| TRAN | 0 |\n",
       "| OFH | 1 |\n",
       "\n"
      ],
      "text/plain": [
       "     OFH\n",
       "TRAN 0  \n",
       "OFH  1  "
      ]
     },
     "metadata": {},
     "output_type": "display_data"
    },
    {
     "data": {
      "text/html": [
       "<table class=\"dataframe\">\n",
       "<caption>A matrix: 4 × 3 of type dbl</caption>\n",
       "<thead>\n",
       "\t<tr><th></th><th scope=col>MEXP</th><th scope=col>NewAfterEpi</th><th scope=col>REXP</th></tr>\n",
       "</thead>\n",
       "<tbody>\n",
       "\t<tr><th scope=row>LEXP</th><td>0</td><td>0</td><td>0</td></tr>\n",
       "\t<tr><th scope=row>MEXP</th><td>1</td><td>0</td><td>0</td></tr>\n",
       "\t<tr><th scope=row>NewAfterEpi</th><td>0</td><td>1</td><td>0</td></tr>\n",
       "\t<tr><th scope=row>REXP</th><td>0</td><td>0</td><td>1</td></tr>\n",
       "</tbody>\n",
       "</table>\n"
      ],
      "text/latex": [
       "A matrix: 4 × 3 of type dbl\n",
       "\\begin{tabular}{r|lll}\n",
       "  & MEXP & NewAfterEpi & REXP\\\\\n",
       "\\hline\n",
       "\tLEXP & 0 & 0 & 0\\\\\n",
       "\tMEXP & 1 & 0 & 0\\\\\n",
       "\tNewAfterEpi & 0 & 1 & 0\\\\\n",
       "\tREXP & 0 & 0 & 1\\\\\n",
       "\\end{tabular}\n"
      ],
      "text/markdown": [
       "\n",
       "A matrix: 4 × 3 of type dbl\n",
       "\n",
       "| <!--/--> | MEXP | NewAfterEpi | REXP |\n",
       "|---|---|---|---|\n",
       "| LEXP | 0 | 0 | 0 |\n",
       "| MEXP | 1 | 0 | 0 |\n",
       "| NewAfterEpi | 0 | 1 | 0 |\n",
       "| REXP | 0 | 0 | 1 |\n",
       "\n"
      ],
      "text/plain": [
       "            MEXP NewAfterEpi REXP\n",
       "LEXP        0    0           0   \n",
       "MEXP        1    0           0   \n",
       "NewAfterEpi 0    1           0   \n",
       "REXP        0    0           1   "
      ]
     },
     "metadata": {},
     "output_type": "display_data"
    },
    {
     "data": {
      "text/html": [
       "<table class=\"dataframe\">\n",
       "<caption>A matrix: 4 × 3 of type dbl</caption>\n",
       "<thead>\n",
       "\t<tr><th></th><th scope=col>MEXP</th><th scope=col>NewAfterEpi</th><th scope=col>REXP</th></tr>\n",
       "</thead>\n",
       "<tbody>\n",
       "\t<tr><th scope=row>LEXP</th><td>0</td><td>0</td><td>0</td></tr>\n",
       "\t<tr><th scope=row>MEXP</th><td>1</td><td>0</td><td>0</td></tr>\n",
       "\t<tr><th scope=row>NewAfterEpi</th><td>0</td><td>1</td><td>0</td></tr>\n",
       "\t<tr><th scope=row>REXP</th><td>0</td><td>0</td><td>1</td></tr>\n",
       "</tbody>\n",
       "</table>\n"
      ],
      "text/latex": [
       "A matrix: 4 × 3 of type dbl\n",
       "\\begin{tabular}{r|lll}\n",
       "  & MEXP & NewAfterEpi & REXP\\\\\n",
       "\\hline\n",
       "\tLEXP & 0 & 0 & 0\\\\\n",
       "\tMEXP & 1 & 0 & 0\\\\\n",
       "\tNewAfterEpi & 0 & 1 & 0\\\\\n",
       "\tREXP & 0 & 0 & 1\\\\\n",
       "\\end{tabular}\n"
      ],
      "text/markdown": [
       "\n",
       "A matrix: 4 × 3 of type dbl\n",
       "\n",
       "| <!--/--> | MEXP | NewAfterEpi | REXP |\n",
       "|---|---|---|---|\n",
       "| LEXP | 0 | 0 | 0 |\n",
       "| MEXP | 1 | 0 | 0 |\n",
       "| NewAfterEpi | 0 | 1 | 0 |\n",
       "| REXP | 0 | 0 | 1 |\n",
       "\n"
      ],
      "text/plain": [
       "            MEXP NewAfterEpi REXP\n",
       "LEXP        0    0           0   \n",
       "MEXP        1    0           0   \n",
       "NewAfterEpi 0    1           0   \n",
       "REXP        0    0           1   "
      ]
     },
     "metadata": {},
     "output_type": "display_data"
    },
    {
     "name": "stdout",
     "output_type": "stream",
     "text": [
      "[1] 2705   29\n"
     ]
    },
    {
     "data": {
      "text/plain": [
       "     HenID           WOA            PenID             CLASS     Treatment  \n",
       " hen_193:  20   Min.   :26.00   pen_10 :372   LEXP       :506   TRAN:1327  \n",
       " hen_59 :  20   1st Qu.:33.00   pen_9  :361   MEXP       :620   OFH :1378  \n",
       " hen_78 :  20   Median :41.00   pen_5  :358   NewAfterEpi:841              \n",
       " hen_112:  19   Mean   :41.65   pen_11 :349   REXP       :738              \n",
       " hen_116:  19   3rd Qu.:49.00   pen_8  :339                                \n",
       " hen_120:  19   Max.   :59.00   pen_12 :320                                \n",
       " (Other):2588                   (Other):606                                \n",
       " weekly_avertical_travel_distance weekly_avg_food_related_behavior\n",
       " Min.   :  2.00                   Min.   :-0.85432                \n",
       " 1st Qu.: 46.00                   1st Qu.:-0.21229                \n",
       " Median : 61.00                   Median :-0.05761                \n",
       " Mean   : 61.77                   Mean   :-0.09527                \n",
       " 3rd Qu.: 77.00                   3rd Qu.: 0.05294                \n",
       " Max.   :172.00                   Max.   : 0.41818                \n",
       "                                                                  \n",
       " weekly_avg_distribution_entropy weekly_avg_latency_1_Zone_h\n",
       " Min.   :0.3462                  Min.   :0.06893            \n",
       " 1st Qu.:1.4371                  1st Qu.:1.38730            \n",
       " Median :1.6504                  Median :3.07806            \n",
       " Mean   :1.5950                  Mean   :3.26880            \n",
       " 3rd Qu.:1.7964                  3rd Qu.:5.23567            \n",
       " Max.   :2.1623                  Max.   :6.88333            \n",
       "                                                            \n",
       " weekly_avg_latency_1_Zone_min weekly_nbr_uncommon_behavior\n",
       " Min.   :  4.0                 Min.   :0.000               \n",
       " 1st Qu.: 83.0                 1st Qu.:0.000               \n",
       " Median :184.0                 Median :0.000               \n",
       " Mean   :195.6                 Mean   :1.359               \n",
       " 3rd Qu.:314.0                 3rd Qu.:2.000               \n",
       " Max.   :413.0                 Max.   :7.000               \n",
       "                                                           \n",
       " weekly_nbr_common_behavior weekly_nbr_WentinWG weekly_nbr_NotWentinWG\n",
       " Min.   :0.000              Min.   :0.000       Min.   :0.000         \n",
       " 1st Qu.:5.000              1st Qu.:3.000       1st Qu.:0.000         \n",
       " Median :7.000              Median :6.000       Median :1.000         \n",
       " Mean   :5.641              Mean   :4.743       Mean   :2.257         \n",
       " 3rd Qu.:7.000              3rd Qu.:7.000       3rd Qu.:4.000         \n",
       " Max.   :7.000              Max.   :7.000       Max.   :7.000         \n",
       "                                                                      \n",
       "                              weekly_time_wg_open_h weekly_propr_timeWG\n",
       " [6.67, 6.25, 6.33, 6.5, 6.17, 6.5, 6.42]: 159      Min.   : 0.000     \n",
       " [6.25, 6.25, 6.67, 6.0, 6.5, 6.5, 6.67] : 158      1st Qu.: 0.000     \n",
       " [6.5, 6.58, 6.0, 6.17, 6.67, 6.33, 6.17]: 158      Median : 2.000     \n",
       " [6.83, 6.5, 6.83, 6.67, 6.5, 3.0, 6.5]  : 158      Mean   : 4.683     \n",
       " [6.5, 3.0, 6.33, 6.5, 6.5, 6.42, 6.5]   : 157      3rd Qu.: 6.000     \n",
       " [6.5, 6.25, 6.5, 6.17, 6.33, 6.5, 7.17] : 157      Max.   :70.000     \n",
       " (Other)                                 :1758                         \n",
       " weekly_propr_timeNOTWG\n",
       " Min.   : 30.00        \n",
       " 1st Qu.: 94.00        \n",
       " Median : 98.00        \n",
       " Mean   : 95.32        \n",
       " 3rd Qu.:100.00        \n",
       " Max.   :100.00        \n",
       "                       \n",
       "                                        weekly_li_proprtimeWG\n",
       " [0.0, 0.0, 0.0, 0.0, 0.0, 0.0, 0.0]               : 318     \n",
       " [0.0, 0.0, 0.0, 0.0, 0.0, 0.0, 0.2713178294573643]:   1     \n",
       " [0.0, 0.0, 0.0, 0.0, 0.0, 0.0, 0.2987012987012987]:   1     \n",
       " [0.0, 0.0, 0.0, 0.0, 0.0, 0.0, 0.3153153153153153]:   1     \n",
       " [0.0, 0.0, 0.0, 0.0, 0.0, 0.0, 0.3529411764705882]:   1     \n",
       " [0.0, 0.0, 0.0, 0.0, 0.0, 0.0, 0.3558558558558559]:   1     \n",
       " (Other)                                           :2382     \n",
       " weekly_avg_time_midduratioZ4_h weekly_avg_time_midduratioZ4_min\n",
       " Min.   : 2.399                 Min.   : 23.0                   \n",
       " 1st Qu.: 3.993                 1st Qu.:119.0                   \n",
       " Median : 4.584                 Median :155.0                   \n",
       " Mean   : 4.768                 Mean   :165.6                   \n",
       " 3rd Qu.: 5.358                 3rd Qu.:201.0                   \n",
       " Max.   :15.382                 Max.   :802.0                   \n",
       "                                                                \n",
       " weekly_std_time_midduratioZ4_min\n",
       " Min.   :  1.00                  \n",
       " 1st Qu.:  9.00                  \n",
       " Median : 14.00                  \n",
       " Mean   : 25.35                  \n",
       " 3rd Qu.: 24.00                  \n",
       " Max.   :309.00                  \n",
       "                                 \n",
       "                               weekly_list_time_midduratioZ4_h\n",
       " [10.01, 10.19, 9.79, 10.02, 9.64, 9.41, 10.21]:   1          \n",
       " [10.04, 6.69, 7.29, 8.18, 8.57, 8.94, 9.43]   :   1          \n",
       " [10.05, 11.66, 2.87, 4.3, 5.24, 5.69, 6.21]   :   1          \n",
       " [10.13, 10.72, 5.33, 6.26, 5.84, 5.94, 6.35]  :   1          \n",
       " [10.44, 3.84, 9.94, 4.07, 4.02, 4.34, 4.71]   :   1          \n",
       " [10.64, 3.87, 3.91, 4.95, 6.69, 6.13, 6.0]    :   1          \n",
       " (Other)                                       :2699          \n",
       " weekly_avg_temperature   weekly_min_date weekly_nbr_available_Info\n",
       " Min.   : 1.476         2021-01-14: 159   Min.   :7                \n",
       " 1st Qu.: 3.619         2021-03-04: 158   1st Qu.:7                \n",
       " Median : 8.429         2021-03-11: 158   Median :7                \n",
       " Mean   : 9.572         2021-03-18: 158   Mean   :7                \n",
       " 3rd Qu.:13.571         2021-02-04: 157   3rd Qu.:7                \n",
       " Max.   :22.048         2021-05-06: 157   Max.   :7                \n",
       "                        (Other)   :1758                            \n",
       " weekly_avg_latency_1_Zone_min_max weekly_latency_1_Zone_propWG\n",
       " Min.   :  4.0                     Min.   :  0.0               \n",
       " 1st Qu.: 83.0                     1st Qu.: 76.0               \n",
       " Median :184.0                     Median :206.0               \n",
       " Mean   :195.5                     Mean   :194.5               \n",
       " 3rd Qu.:314.0                     3rd Qu.:307.0               \n",
       " Max.   :390.0                     Max.   :386.0               \n",
       "                                                               \n",
       " weekly_latency_1_Zone_propNOTWG weekly_has_uncommon_behavior\n",
       " Min.   :  4.0                   Min.   :0.0000              \n",
       " 1st Qu.: 83.0                   1st Qu.:0.0000              \n",
       " Median :184.0                   Median :0.0000              \n",
       " Mean   :195.5                   Mean   :0.4621              \n",
       " 3rd Qu.:314.0                   3rd Qu.:1.0000              \n",
       " Max.   :390.0                   Max.   :1.0000              \n",
       "                                                             "
      ]
     },
     "metadata": {},
     "output_type": "display_data"
    }
   ],
   "source": [
    "path_ = 'G:/VPHI/Welfare/2- Research Projects/OFHE2.OriginsE2/DataOutput/TrackingSystem/ALLDATA_/chapter2'\n",
    "#df = read.csv(file.path(path_,'df_daily_aggregatedHA.csv'), header = TRUE, sep = \",\")\n",
    "df = read.csv(file.path(path_,'df_weekly_BT.csv'), header = TRUE, sep = \",\")\n",
    "\n",
    "df$HenID = as.factor(df$HenID)   \n",
    "df$PenID = as.factor(df$PenID) \n",
    "\n",
    "df$CLASS = as.factor(df$CLASS) \n",
    "df$Treatment = as.factor(df$Treatment)\n",
    "\n",
    "#scale: mean-centering of the environmental variable so that intercepts reflect average values for the HenID and ind. \n",
    "#df$temperature_C_avg_scale = scale(df$temperature_C_avg, center=TRUE, scale=TRUE)\n",
    "\n",
    "#setting reference group\n",
    "contrasts(df$Treatment)\n",
    "df <- df %>% mutate(Treatment = relevel(Treatment, ref = \"TRAN\"))\n",
    "contrasts(df$Treatment)\n",
    "\n",
    "contrasts(df$CLASS)\n",
    "df <- df %>% mutate(CLASS = relevel(CLASS, ref = \"LEXP\"))\n",
    "contrasts(df$CLASS)\n",
    "print(dim(df))\n",
    "summary(df)"
   ]
  },
  {
   "cell_type": "code",
   "execution_count": 3,
   "id": "4c6dd4ec",
   "metadata": {},
   "outputs": [],
   "source": [
    "#rpt: https://cran.r-project.org/web/packages/rptR/vignettes/rptR.html\n",
    "#or oursel with lmertest: lmer, glmer"
   ]
  },
  {
   "cell_type": "raw",
   "id": "904c9a2c",
   "metadata": {},
   "source": [
    "npermut: npermut Number of permutations used when calculating asymptotic p-values (defaults to 0). Larger numbers of permutations give a better asymtotic p-values, but may be time-consuming (in particular when multiple grouping factors are specified). Permutaton tests can be switch off by setting npermut = 0.\n",
    "\n",
    "nboot: Number of parametric bootstraps for interval estimation (defaults to 1000). Larger numbers of bootstraps give a better asymtotic CI, but may be time-consuming. Bootstrapping can be switch off by setting nboot = 0. "
   ]
  },
  {
   "cell_type": "markdown",
   "id": "c19a6589",
   "metadata": {},
   "source": [
    "# Quasi-Poisson GLMMs with log link"
   ]
  },
  {
   "cell_type": "markdown",
   "id": "2efba7e8",
   "metadata": {},
   "source": [
    "### weekly_avg_latency_1_Zone_h"
   ]
  },
  {
   "cell_type": "code",
   "execution_count": 4,
   "id": "fa2e0574",
   "metadata": {},
   "outputs": [
    {
     "name": "stderr",
     "output_type": "stream",
     "text": [
      "Warning message in glmmadmb(Y ~ 1 + (1 | HenID), family = \"nbinom1\", data = df):\n",
      "\"non-integer response values in discrete family\"\n",
      "Warning message in glmmadmb(Y ~ Treatment + scale(weekly_avg_temperature) + scale(WOA) + :\n",
      "\"non-integer response values in discrete family\"\n",
      "Warning message in .local(x, sigma, ...):\n",
      "\"'sigma' and 'rdig' arguments are present for compatibility only: ignored\"\n"
     ]
    },
    {
     "data": {
      "text/plain": [
       "\n",
       "Call:\n",
       "glmmadmb(formula = Y ~ 1 + (1 | HenID), data = df, family = \"nbinom1\")\n",
       "\n",
       "AIC: 9988.2 \n",
       "\n",
       "Coefficients:\n",
       "            Estimate Std. Error z value Pr(>|z|)    \n",
       "(Intercept)   1.0463     0.0435      24   <2e-16 ***\n",
       "---\n",
       "Signif. codes:  0 '***' 0.001 '**' 0.01 '*' 0.05 '.' 0.1 ' ' 1\n",
       "\n",
       "Number of observations: total=2705, HenID=194 \n",
       "Random effect variance(s):\n",
       "Group=HenID\n",
       "            Variance StdDev\n",
       "(Intercept)   0.3309 0.5752\n",
       "\n",
       "Negative binomial dispersion parameter: 1.001 (std. err.: 5.1993e-08)\n",
       "\n",
       "Log-likelihood: -4991.09 "
      ]
     },
     "metadata": {},
     "output_type": "display_data"
    },
    {
     "name": "stderr",
     "output_type": "stream",
     "text": [
      "Warning message in .local(x, sigma, ...):\n",
      "\"'sigma' and 'rdig' arguments are present for compatibility only: ignored\"\n"
     ]
    },
    {
     "data": {
      "text/plain": [
       "\n",
       "Call:\n",
       "glmmadmb(formula = Y ~ Treatment + scale(weekly_avg_temperature) + \n",
       "    scale(WOA) + (1 | HenID), data = df, family = \"nbinom1\")\n",
       "\n",
       "AIC: 9864.9 \n",
       "\n",
       "Coefficients:\n",
       "                              Estimate Std. Error z value Pr(>|z|)    \n",
       "(Intercept)                     0.9679     0.0613   15.80   <2e-16 ***\n",
       "TreatmentOFH                    0.1339     0.0866    1.55   0.1219    \n",
       "scale(weekly_avg_temperature)  -0.0787     0.0297   -2.66   0.0079 ** \n",
       "scale(WOA)                     -0.0543     0.0295   -1.84   0.0656 .  \n",
       "---\n",
       "Signif. codes:  0 '***' 0.001 '**' 0.01 '*' 0.05 '.' 0.1 ' ' 1\n",
       "\n",
       "Number of observations: total=2705, HenID=194 \n",
       "Random effect variance(s):\n",
       "Group=HenID\n",
       "            Variance StdDev\n",
       "(Intercept)   0.3292 0.5738\n",
       "\n",
       "Negative binomial dispersion parameter: 1.001 (std. err.: 7.9346e-08)\n",
       "\n",
       "Log-likelihood: -4926.44 "
      ]
     },
     "metadata": {},
     "output_type": "display_data"
    },
    {
     "name": "stderr",
     "output_type": "stream",
     "text": [
      "Warning message in .local(x, sigma, ...):\n",
      "\"'sigma' and 'rdig' arguments are present for compatibility only: ignored\"\n"
     ]
    },
    {
     "data": {
      "text/html": [
       "<style>\n",
       ".dl-inline {width: auto; margin:0; padding: 0}\n",
       ".dl-inline>dt, .dl-inline>dd {float: none; width: auto; display: inline-block}\n",
       ".dl-inline>dt::after {content: \":\\0020\"; padding-right: .5ex}\n",
       ".dl-inline>dt:not(:first-of-type) {padding-left: .5ex}\n",
       "</style><dl class=dl-inline><dt>VarOdN</dt><dd>0.297978280719912</dd><dt>VarOlN</dt><dd>0.260807885260478</dd><dt>VarOlN</dt><dd>0.346709582542124</dd></dl>\n"
      ],
      "text/latex": [
       "\\begin{description*}\n",
       "\\item[VarOdN] 0.297978280719912\n",
       "\\item[VarOlN] 0.260807885260478\n",
       "\\item[VarOlN] 0.346709582542124\n",
       "\\end{description*}\n"
      ],
      "text/markdown": [
       "VarOdN\n",
       ":   0.297978280719912VarOlN\n",
       ":   0.260807885260478VarOlN\n",
       ":   0.346709582542124\n",
       "\n"
      ],
      "text/plain": [
       "   VarOdN    VarOlN    VarOlN \n",
       "0.2979783 0.2608079 0.3467096 "
      ]
     },
     "metadata": {},
     "output_type": "display_data"
    },
    {
     "data": {
      "text/html": [
       "<style>\n",
       ".dl-inline {width: auto; margin:0; padding: 0}\n",
       ".dl-inline>dt, .dl-inline>dd {float: none; width: auto; display: inline-block}\n",
       ".dl-inline>dt::after {content: \":\\0020\"; padding-right: .5ex}\n",
       ".dl-inline>dt:not(:first-of-type) {padding-left: .5ex}\n",
       "</style><dl class=dl-inline><dt>VarOdF</dt><dd>0.297978280719912</dd><dt>VarOlF</dt><dd>0.260807885260478</dd><dt>VarOlF</dt><dd>0.346709582542124</dd></dl>\n"
      ],
      "text/latex": [
       "\\begin{description*}\n",
       "\\item[VarOdF] 0.297978280719912\n",
       "\\item[VarOlF] 0.260807885260478\n",
       "\\item[VarOlF] 0.346709582542124\n",
       "\\end{description*}\n"
      ],
      "text/markdown": [
       "VarOdF\n",
       ":   0.297978280719912VarOlF\n",
       ":   0.260807885260478VarOlF\n",
       ":   0.346709582542124\n",
       "\n"
      ],
      "text/plain": [
       "   VarOdF    VarOlF    VarOlF \n",
       "0.2979783 0.2608079 0.3467096 "
      ]
     },
     "metadata": {},
     "output_type": "display_data"
    },
    {
     "name": "stderr",
     "output_type": "stream",
     "text": [
      "Warning message in .local(x, sigma, ...):\n",
      "\"'sigma' and 'rdig' arguments are present for compatibility only: ignored\"\n",
      "Warning message in .local(x, sigma, ...):\n",
      "\"'sigma' and 'rdig' arguments are present for compatibility only: ignored\"\n",
      "Warning message in .local(x, sigma, ...):\n",
      "\"'sigma' and 'rdig' arguments are present for compatibility only: ignored\"\n",
      "Warning message in .local(x, sigma, ...):\n",
      "\"'sigma' and 'rdig' arguments are present for compatibility only: ignored\"\n",
      "Warning message in .local(x, sigma, ...):\n",
      "\"'sigma' and 'rdig' arguments are present for compatibility only: ignored\"\n",
      "Warning message in .local(x, sigma, ...):\n",
      "\"'sigma' and 'rdig' arguments are present for compatibility only: ignored\"\n",
      "Warning message in .local(x, sigma, ...):\n",
      "\"'sigma' and 'rdig' arguments are present for compatibility only: ignored\"\n"
     ]
    },
    {
     "data": {
      "text/html": [
       "<style>\n",
       ".dl-inline {width: auto; margin:0; padding: 0}\n",
       ".dl-inline>dt, .dl-inline>dd {float: none; width: auto; display: inline-block}\n",
       ".dl-inline>dt::after {content: \":\\0020\"; padding-right: .5ex}\n",
       ".dl-inline>dt:not(:first-of-type) {padding-left: .5ex}\n",
       "</style><dl class=dl-inline><dt>R2glmmM</dt><dd>0.0306493411174128</dd><dt>R2glmmC</dt><dd>0.502776408675554</dd><dt>ICCrawPop</dt><dd>0.488341849210695</dd><dt>ICCadjPop</dt><dd>0.487054981839475</dd></dl>\n"
      ],
      "text/latex": [
       "\\begin{description*}\n",
       "\\item[R2glmmM] 0.0306493411174128\n",
       "\\item[R2glmmC] 0.502776408675554\n",
       "\\item[ICCrawPop] 0.488341849210695\n",
       "\\item[ICCadjPop] 0.487054981839475\n",
       "\\end{description*}\n"
      ],
      "text/markdown": [
       "R2glmmM\n",
       ":   0.0306493411174128R2glmmC\n",
       ":   0.502776408675554ICCrawPop\n",
       ":   0.488341849210695ICCadjPop\n",
       ":   0.487054981839475\n",
       "\n"
      ],
      "text/plain": [
       "   R2glmmM    R2glmmC  ICCrawPop  ICCadjPop \n",
       "0.03064934 0.50277641 0.48834185 0.48705498 "
      ]
     },
     "metadata": {},
     "output_type": "display_data"
    },
    {
     "data": {
      "image/png": "[encoded data removed]",
      "text/plain": [
       "Plot with title \"Histogram of df$Y\""
      ]
     },
     "metadata": {
      "image/png": {
       "height": 420,
       "width": 420
      }
     },
     "output_type": "display_data"
    }
   ],
   "source": [
    "df$Y = df$weekly_avg_latency_1_Zone_h\n",
    "hist(df$Y)\n",
    "# Fit null model without fixed effects (but including all random effects)\n",
    "fecmodADMBr <-glmmadmb(Y ~ 1 + (1 | HenID), family = \"nbinom1\",data = df)\n",
    "# Fit alternative model including fixed and all random effects\n",
    "fecmodADMBf <-glmmadmb(Y ~ Treatment + scale(weekly_avg_temperature) + scale(WOA) + (1|HenID), family = \"nbinom1\", data = df)\n",
    "# View model fits for both models\n",
    "summary(fecmodADMBr)\n",
    "summary(fecmodADMBf)\n",
    "\n",
    "# Calculation of the variance in fitted values\n",
    "VarF <-var(as.vector(model.matrix(fecmodADMBf) %*%fixef(fecmodADMBf)))\n",
    "# getting the observation-level variance Null model\n",
    "omegaN <- fecmodADMBr$alpha # overdispersion omega is alpha in glmmadmb\n",
    "lambda <-as.numeric(exp(fixef(fecmodADMBr) + 0.5 * (as.numeric(VarCorr(fecmodADMBr)[1]))))\n",
    "# lambda2 <- mean(df$Egg) # for lambda we use the mean of all\n",
    "# observations\n",
    "VarOdN <- omegaN/lambda # the delta method\n",
    "VarOlN <-log(1 + omegaN/lambda) # log-normal approximation\n",
    "VarOtN <-trigamma(lambda/omegaN) # trigamma function\n",
    "# comparing the three\n",
    "c(VarOdN = VarOdN, VarOlN = VarOlN, VarOlN = VarOtN)\n",
    "\n",
    "# Full model\n",
    "omegaF <- fecmodADMBf$alpha # overdispersion omega is alpha in glmmadmb\n",
    "VarOdF <- omegaF/lambda# the delta method\n",
    "VarOlF <-log(1 + omegaF/lambda)# log-normal approximation\n",
    "VarOtF <-trigamma(lambda/omegaF)# trigamma function# comparing the three\n",
    "c(VarOdF = VarOdF, VarOlF = VarOlF, VarOlF = VarOtF)\n",
    "\n",
    "# R2[GLMM(m)] - marginal R2[GLMM]\n",
    "R2glmmM <- VarF/(VarF +sum(as.numeric(VarCorr(fecmodADMBf))) + VarOtF)\n",
    "# R2[GLMM(c)] - conditional R2[GLMM] for full model\n",
    "R2glmmC <- (VarF +sum(as.numeric(VarCorr(fecmodADMBf))))/(VarF +sum(as.numeric(VarCorr(fecmodADMBf))) +VarOtF)\n",
    "\n",
    "# Raw unadjusted ICC[HenID]\n",
    "ICCrawPop <-VarCorr(fecmodADMBr)$HenID[1]/(sum(as.numeric(VarCorr(fecmodADMBr))) +VarOtN)\n",
    "# adjusted ICC[HenID]\n",
    "ICCadjPop <-VarCorr(fecmodADMBf)$HenID[1]/(sum(as.numeric(VarCorr(fecmodADMBf))) +VarOtF)\n",
    "# comparing the results\n",
    "c(R2glmmM = R2glmmM, R2glmmC = R2glmmC, ICCrawPop = ICCrawPop, ICCadjPop = ICCadjPop)"
   ]
  },
  {
   "cell_type": "markdown",
   "id": "432d5420",
   "metadata": {},
   "source": [
    "### weekly_std_time_midduratioZ4_min"
   ]
  },
  {
   "cell_type": "code",
   "execution_count": 5,
   "id": "1b2df38d",
   "metadata": {},
   "outputs": [
    {
     "data": {
      "text/html": [
       "<style>\n",
       ".list-inline {list-style: none; margin:0; padding: 0}\n",
       ".list-inline>li {display: inline-block}\n",
       ".list-inline>li:not(:last-child)::after {content: \"\\00b7\"; padding: 0 .5ex}\n",
       "</style>\n",
       "<ol class=list-inline><li>11</li><li>11</li><li>13</li><li>15</li><li>5</li><li>19</li><li>7</li><li>4</li><li>16</li><li>5</li><li>29</li><li>10</li><li>6</li><li>8</li><li>6</li><li>59</li><li>16</li><li>22</li><li>9</li><li>8</li><li>12</li><li>17</li><li>26</li><li>17</li><li>51</li><li>21</li><li>9</li><li>7</li><li>11</li><li>30</li><li>16</li><li>13</li><li>5</li><li>10</li><li>20</li><li>20</li><li>10</li><li>10</li><li>31</li><li>96</li><li>92</li><li>23</li><li>19</li><li>7</li><li>26</li><li>27</li><li>15</li><li>11</li><li>19</li><li>8</li><li>7</li><li>21</li><li>15</li><li>14</li><li>10</li><li>22</li><li>56</li><li>19</li><li>18</li><li>16</li><li>3</li><li>6</li><li>83</li><li>8</li><li>6</li><li>17</li><li>10</li><li>10</li><li>23</li><li>13</li><li>11</li><li>10</li><li>12</li><li>15</li><li>18</li><li>13</li><li>21</li><li>8</li><li>12</li><li>16</li><li>9</li><li>18</li><li>11</li><li>8</li><li>6</li><li>11</li><li>10</li><li>8</li><li>9</li><li>7</li><li>5</li><li>6</li><li>22</li><li>7</li><li>18</li><li>8</li><li>8</li><li>13</li><li>6</li><li>98</li><li>50</li><li>8</li><li>10</li><li>24</li><li>7</li><li>11</li><li>11</li><li>2</li><li>6</li><li>3</li><li>3</li><li>88</li><li>15</li><li>7</li><li>5</li><li>10</li><li>6</li><li>15</li><li>9</li><li>12</li><li>6</li><li>12</li><li>11</li><li>29</li><li>10</li><li>13</li><li>6</li><li>12</li><li>22</li><li>5</li><li>13</li><li>15</li><li>12</li><li>30</li><li>18</li><li>5</li><li>7</li><li>16</li><li>6</li><li>26</li><li>24</li><li>16</li><li>8</li><li>10</li><li>13</li><li>87</li><li>7</li><li>16</li><li>31</li><li>9</li><li>34</li><li>128</li><li>31</li><li>19</li><li>10</li><li>3</li><li>11</li><li>15</li><li>9</li><li>8</li><li>8</li><li>13</li><li>12</li><li>268</li><li>35</li><li>25</li><li>15</li><li>13</li><li>16</li><li>15</li><li>18</li><li>6</li><li>17</li><li>22</li><li>8</li><li>21</li><li>23</li><li>15</li><li>17</li><li>34</li><li>15</li><li>79</li><li>14</li><li>9</li><li>6</li><li>7</li><li>8</li><li>11</li><li>16</li><li>12</li><li>10</li><li>31</li><li>115</li><li>6</li><li>6</li><li>16</li><li>103</li><li>40</li><li>28</li><li>287</li><li>...</li><li>26</li><li>123</li><li>12</li><li>11</li><li>19</li><li>16</li><li>21</li><li>12</li><li>26</li><li>12</li><li>29</li><li>11</li><li>20</li><li>7</li><li>12</li><li>14</li><li>151</li><li>50</li><li>6</li><li>6</li><li>10</li><li>11</li><li>12</li><li>12</li><li>3</li><li>32</li><li>9</li><li>36</li><li>27</li><li>67</li><li>54</li><li>50</li><li>59</li><li>29</li><li>18</li><li>18</li><li>11</li><li>17</li><li>10</li><li>21</li><li>22</li><li>19</li><li>31</li><li>11</li><li>7</li><li>10</li><li>10</li><li>21</li><li>20</li><li>26</li><li>17</li><li>6</li><li>94</li><li>5</li><li>7</li><li>27</li><li>9</li><li>9</li><li>12</li><li>7</li><li>7</li><li>6</li><li>9</li><li>10</li><li>7</li><li>10</li><li>15</li><li>309</li><li>11</li><li>149</li><li>28</li><li>13</li><li>10</li><li>45</li><li>10</li><li>9</li><li>14</li><li>9</li><li>12</li><li>8</li><li>18</li><li>11</li><li>13</li><li>20</li><li>8</li><li>6</li><li>26</li><li>8</li><li>8</li><li>7</li><li>9</li><li>11</li><li>31</li><li>6</li><li>18</li><li>32</li><li>9</li><li>12</li><li>8</li><li>7</li><li>9</li><li>4</li><li>12</li><li>6</li><li>8</li><li>28</li><li>24</li><li>10</li><li>186</li><li>8</li><li>104</li><li>7</li><li>8</li><li>16</li><li>7</li><li>3</li><li>15</li><li>39</li><li>160</li><li>115</li><li>28</li><li>50</li><li>53</li><li>84</li><li>48</li><li>27</li><li>19</li><li>10</li><li>12</li><li>17</li><li>13</li><li>5</li><li>6</li><li>10</li><li>9</li><li>19</li><li>11</li><li>15</li><li>9</li><li>32</li><li>14</li><li>18</li><li>7</li><li>3</li><li>5</li><li>12</li><li>54</li><li>14</li><li>7</li><li>134</li><li>65</li><li>99</li><li>72</li><li>151</li><li>10</li><li>10</li><li>94</li><li>17</li><li>6</li><li>15</li><li>23</li><li>13</li><li>24</li><li>10</li><li>11</li><li>7</li><li>25</li><li>19</li><li>140</li><li>209</li><li>188</li><li>41</li><li>99</li><li>96</li><li>23</li><li>59</li><li>24</li><li>96</li><li>12</li><li>19</li><li>16</li><li>11</li><li>10</li><li>39</li><li>37</li><li>40</li><li>12</li><li>11</li><li>29</li><li>15</li><li>14</li><li>16</li><li>24</li><li>11</li><li>11</li><li>9</li><li>12</li><li>10</li><li>16</li><li>7</li></ol>\n"
      ],
      "text/latex": [
       "\\begin{enumerate*}\n",
       "\\item 11\n",
       "\\item 11\n",
       "\\item 13\n",
       "\\item 15\n",
       "\\item 5\n",
       "\\item 19\n",
       "\\item 7\n",
       "\\item 4\n",
       "\\item 16\n",
       "\\item 5\n",
       "\\item 29\n",
       "\\item 10\n",
       "\\item 6\n",
       "\\item 8\n",
       "\\item 6\n",
       "\\item 59\n",
       "\\item 16\n",
       "\\item 22\n",
       "\\item 9\n",
       "\\item 8\n",
       "\\item 12\n",
       "\\item 17\n",
       "\\item 26\n",
       "\\item 17\n",
       "\\item 51\n",
       "\\item 21\n",
       "\\item 9\n",
       "\\item 7\n",
       "\\item 11\n",
       "\\item 30\n",
       "\\item 16\n",
       "\\item 13\n",
       "\\item 5\n",
       "\\item 10\n",
       "\\item 20\n",
       "\\item 20\n",
       "\\item 10\n",
       "\\item 10\n",
       "\\item 31\n",
       "\\item 96\n",
       "\\item 92\n",
       "\\item 23\n",
       "\\item 19\n",
       "\\item 7\n",
       "\\item 26\n",
       "\\item 27\n",
       "\\item 15\n",
       "\\item 11\n",
       "\\item 19\n",
       "\\item 8\n",
       "\\item 7\n",
       "\\item 21\n",
       "\\item 15\n",
       "\\item 14\n",
       "\\item 10\n",
       "\\item 22\n",
       "\\item 56\n",
       "\\item 19\n",
       "\\item 18\n",
       "\\item 16\n",
       "\\item 3\n",
       "\\item 6\n",
       "\\item 83\n",
       "\\item 8\n",
       "\\item 6\n",
       "\\item 17\n",
       "\\item 10\n",
       "\\item 10\n",
       "\\item 23\n",
       "\\item 13\n",
       "\\item 11\n",
       "\\item 10\n",
       "\\item 12\n",
       "\\item 15\n",
       "\\item 18\n",
       "\\item 13\n",
       "\\item 21\n",
       "\\item 8\n",
       "\\item 12\n",
       "\\item 16\n",
       "\\item 9\n",
       "\\item 18\n",
       "\\item 11\n",
       "\\item 8\n",
       "\\item 6\n",
       "\\item 11\n",
       "\\item 10\n",
       "\\item 8\n",
       "\\item 9\n",
       "\\item 7\n",
       "\\item 5\n",
       "\\item 6\n",
       "\\item 22\n",
       "\\item 7\n",
       "\\item 18\n",
       "\\item 8\n",
       "\\item 8\n",
       "\\item 13\n",
       "\\item 6\n",
       "\\item 98\n",
       "\\item 50\n",
       "\\item 8\n",
       "\\item 10\n",
       "\\item 24\n",
       "\\item 7\n",
       "\\item 11\n",
       "\\item 11\n",
       "\\item 2\n",
       "\\item 6\n",
       "\\item 3\n",
       "\\item 3\n",
       "\\item 88\n",
       "\\item 15\n",
       "\\item 7\n",
       "\\item 5\n",
       "\\item 10\n",
       "\\item 6\n",
       "\\item 15\n",
       "\\item 9\n",
       "\\item 12\n",
       "\\item 6\n",
       "\\item 12\n",
       "\\item 11\n",
       "\\item 29\n",
       "\\item 10\n",
       "\\item 13\n",
       "\\item 6\n",
       "\\item 12\n",
       "\\item 22\n",
       "\\item 5\n",
       "\\item 13\n",
       "\\item 15\n",
       "\\item 12\n",
       "\\item 30\n",
       "\\item 18\n",
       "\\item 5\n",
       "\\item 7\n",
       "\\item 16\n",
       "\\item 6\n",
       "\\item 26\n",
       "\\item 24\n",
       "\\item 16\n",
       "\\item 8\n",
       "\\item 10\n",
       "\\item 13\n",
       "\\item 87\n",
       "\\item 7\n",
       "\\item 16\n",
       "\\item 31\n",
       "\\item 9\n",
       "\\item 34\n",
       "\\item 128\n",
       "\\item 31\n",
       "\\item 19\n",
       "\\item 10\n",
       "\\item 3\n",
       "\\item 11\n",
       "\\item 15\n",
       "\\item 9\n",
       "\\item 8\n",
       "\\item 8\n",
       "\\item 13\n",
       "\\item 12\n",
       "\\item 268\n",
       "\\item 35\n",
       "\\item 25\n",
       "\\item 15\n",
       "\\item 13\n",
       "\\item 16\n",
       "\\item 15\n",
       "\\item 18\n",
       "\\item 6\n",
       "\\item 17\n",
       "\\item 22\n",
       "\\item 8\n",
       "\\item 21\n",
       "\\item 23\n",
       "\\item 15\n",
       "\\item 17\n",
       "\\item 34\n",
       "\\item 15\n",
       "\\item 79\n",
       "\\item 14\n",
       "\\item 9\n",
       "\\item 6\n",
       "\\item 7\n",
       "\\item 8\n",
       "\\item 11\n",
       "\\item 16\n",
       "\\item 12\n",
       "\\item 10\n",
       "\\item 31\n",
       "\\item 115\n",
       "\\item 6\n",
       "\\item 6\n",
       "\\item 16\n",
       "\\item 103\n",
       "\\item 40\n",
       "\\item 28\n",
       "\\item 287\n",
       "\\item ...\n",
       "\\item 26\n",
       "\\item 123\n",
       "\\item 12\n",
       "\\item 11\n",
       "\\item 19\n",
       "\\item 16\n",
       "\\item 21\n",
       "\\item 12\n",
       "\\item 26\n",
       "\\item 12\n",
       "\\item 29\n",
       "\\item 11\n",
       "\\item 20\n",
       "\\item 7\n",
       "\\item 12\n",
       "\\item 14\n",
       "\\item 151\n",
       "\\item 50\n",
       "\\item 6\n",
       "\\item 6\n",
       "\\item 10\n",
       "\\item 11\n",
       "\\item 12\n",
       "\\item 12\n",
       "\\item 3\n",
       "\\item 32\n",
       "\\item 9\n",
       "\\item 36\n",
       "\\item 27\n",
       "\\item 67\n",
       "\\item 54\n",
       "\\item 50\n",
       "\\item 59\n",
       "\\item 29\n",
       "\\item 18\n",
       "\\item 18\n",
       "\\item 11\n",
       "\\item 17\n",
       "\\item 10\n",
       "\\item 21\n",
       "\\item 22\n",
       "\\item 19\n",
       "\\item 31\n",
       "\\item 11\n",
       "\\item 7\n",
       "\\item 10\n",
       "\\item 10\n",
       "\\item 21\n",
       "\\item 20\n",
       "\\item 26\n",
       "\\item 17\n",
       "\\item 6\n",
       "\\item 94\n",
       "\\item 5\n",
       "\\item 7\n",
       "\\item 27\n",
       "\\item 9\n",
       "\\item 9\n",
       "\\item 12\n",
       "\\item 7\n",
       "\\item 7\n",
       "\\item 6\n",
       "\\item 9\n",
       "\\item 10\n",
       "\\item 7\n",
       "\\item 10\n",
       "\\item 15\n",
       "\\item 309\n",
       "\\item 11\n",
       "\\item 149\n",
       "\\item 28\n",
       "\\item 13\n",
       "\\item 10\n",
       "\\item 45\n",
       "\\item 10\n",
       "\\item 9\n",
       "\\item 14\n",
       "\\item 9\n",
       "\\item 12\n",
       "\\item 8\n",
       "\\item 18\n",
       "\\item 11\n",
       "\\item 13\n",
       "\\item 20\n",
       "\\item 8\n",
       "\\item 6\n",
       "\\item 26\n",
       "\\item 8\n",
       "\\item 8\n",
       "\\item 7\n",
       "\\item 9\n",
       "\\item 11\n",
       "\\item 31\n",
       "\\item 6\n",
       "\\item 18\n",
       "\\item 32\n",
       "\\item 9\n",
       "\\item 12\n",
       "\\item 8\n",
       "\\item 7\n",
       "\\item 9\n",
       "\\item 4\n",
       "\\item 12\n",
       "\\item 6\n",
       "\\item 8\n",
       "\\item 28\n",
       "\\item 24\n",
       "\\item 10\n",
       "\\item 186\n",
       "\\item 8\n",
       "\\item 104\n",
       "\\item 7\n",
       "\\item 8\n",
       "\\item 16\n",
       "\\item 7\n",
       "\\item 3\n",
       "\\item 15\n",
       "\\item 39\n",
       "\\item 160\n",
       "\\item 115\n",
       "\\item 28\n",
       "\\item 50\n",
       "\\item 53\n",
       "\\item 84\n",
       "\\item 48\n",
       "\\item 27\n",
       "\\item 19\n",
       "\\item 10\n",
       "\\item 12\n",
       "\\item 17\n",
       "\\item 13\n",
       "\\item 5\n",
       "\\item 6\n",
       "\\item 10\n",
       "\\item 9\n",
       "\\item 19\n",
       "\\item 11\n",
       "\\item 15\n",
       "\\item 9\n",
       "\\item 32\n",
       "\\item 14\n",
       "\\item 18\n",
       "\\item 7\n",
       "\\item 3\n",
       "\\item 5\n",
       "\\item 12\n",
       "\\item 54\n",
       "\\item 14\n",
       "\\item 7\n",
       "\\item 134\n",
       "\\item 65\n",
       "\\item 99\n",
       "\\item 72\n",
       "\\item 151\n",
       "\\item 10\n",
       "\\item 10\n",
       "\\item 94\n",
       "\\item 17\n",
       "\\item 6\n",
       "\\item 15\n",
       "\\item 23\n",
       "\\item 13\n",
       "\\item 24\n",
       "\\item 10\n",
       "\\item 11\n",
       "\\item 7\n",
       "\\item 25\n",
       "\\item 19\n",
       "\\item 140\n",
       "\\item 209\n",
       "\\item 188\n",
       "\\item 41\n",
       "\\item 99\n",
       "\\item 96\n",
       "\\item 23\n",
       "\\item 59\n",
       "\\item 24\n",
       "\\item 96\n",
       "\\item 12\n",
       "\\item 19\n",
       "\\item 16\n",
       "\\item 11\n",
       "\\item 10\n",
       "\\item 39\n",
       "\\item 37\n",
       "\\item 40\n",
       "\\item 12\n",
       "\\item 11\n",
       "\\item 29\n",
       "\\item 15\n",
       "\\item 14\n",
       "\\item 16\n",
       "\\item 24\n",
       "\\item 11\n",
       "\\item 11\n",
       "\\item 9\n",
       "\\item 12\n",
       "\\item 10\n",
       "\\item 16\n",
       "\\item 7\n",
       "\\end{enumerate*}\n"
      ],
      "text/markdown": [
       "1. 11\n",
       "2. 11\n",
       "3. 13\n",
       "4. 15\n",
       "5. 5\n",
       "6. 19\n",
       "7. 7\n",
       "8. 4\n",
       "9. 16\n",
       "10. 5\n",
       "11. 29\n",
       "12. 10\n",
       "13. 6\n",
       "14. 8\n",
       "15. 6\n",
       "16. 59\n",
       "17. 16\n",
       "18. 22\n",
       "19. 9\n",
       "20. 8\n",
       "21. 12\n",
       "22. 17\n",
       "23. 26\n",
       "24. 17\n",
       "25. 51\n",
       "26. 21\n",
       "27. 9\n",
       "28. 7\n",
       "29. 11\n",
       "30. 30\n",
       "31. 16\n",
       "32. 13\n",
       "33. 5\n",
       "34. 10\n",
       "35. 20\n",
       "36. 20\n",
       "37. 10\n",
       "38. 10\n",
       "39. 31\n",
       "40. 96\n",
       "41. 92\n",
       "42. 23\n",
       "43. 19\n",
       "44. 7\n",
       "45. 26\n",
       "46. 27\n",
       "47. 15\n",
       "48. 11\n",
       "49. 19\n",
       "50. 8\n",
       "51. 7\n",
       "52. 21\n",
       "53. 15\n",
       "54. 14\n",
       "55. 10\n",
       "56. 22\n",
       "57. 56\n",
       "58. 19\n",
       "59. 18\n",
       "60. 16\n",
       "61. 3\n",
       "62. 6\n",
       "63. 83\n",
       "64. 8\n",
       "65. 6\n",
       "66. 17\n",
       "67. 10\n",
       "68. 10\n",
       "69. 23\n",
       "70. 13\n",
       "71. 11\n",
       "72. 10\n",
       "73. 12\n",
       "74. 15\n",
       "75. 18\n",
       "76. 13\n",
       "77. 21\n",
       "78. 8\n",
       "79. 12\n",
       "80. 16\n",
       "81. 9\n",
       "82. 18\n",
       "83. 11\n",
       "84. 8\n",
       "85. 6\n",
       "86. 11\n",
       "87. 10\n",
       "88. 8\n",
       "89. 9\n",
       "90. 7\n",
       "91. 5\n",
       "92. 6\n",
       "93. 22\n",
       "94. 7\n",
       "95. 18\n",
       "96. 8\n",
       "97. 8\n",
       "98. 13\n",
       "99. 6\n",
       "100. 98\n",
       "101. 50\n",
       "102. 8\n",
       "103. 10\n",
       "104. 24\n",
       "105. 7\n",
       "106. 11\n",
       "107. 11\n",
       "108. 2\n",
       "109. 6\n",
       "110. 3\n",
       "111. 3\n",
       "112. 88\n",
       "113. 15\n",
       "114. 7\n",
       "115. 5\n",
       "116. 10\n",
       "117. 6\n",
       "118. 15\n",
       "119. 9\n",
       "120. 12\n",
       "121. 6\n",
       "122. 12\n",
       "123. 11\n",
       "124. 29\n",
       "125. 10\n",
       "126. 13\n",
       "127. 6\n",
       "128. 12\n",
       "129. 22\n",
       "130. 5\n",
       "131. 13\n",
       "132. 15\n",
       "133. 12\n",
       "134. 30\n",
       "135. 18\n",
       "136. 5\n",
       "137. 7\n",
       "138. 16\n",
       "139. 6\n",
       "140. 26\n",
       "141. 24\n",
       "142. 16\n",
       "143. 8\n",
       "144. 10\n",
       "145. 13\n",
       "146. 87\n",
       "147. 7\n",
       "148. 16\n",
       "149. 31\n",
       "150. 9\n",
       "151. 34\n",
       "152. 128\n",
       "153. 31\n",
       "154. 19\n",
       "155. 10\n",
       "156. 3\n",
       "157. 11\n",
       "158. 15\n",
       "159. 9\n",
       "160. 8\n",
       "161. 8\n",
       "162. 13\n",
       "163. 12\n",
       "164. 268\n",
       "165. 35\n",
       "166. 25\n",
       "167. 15\n",
       "168. 13\n",
       "169. 16\n",
       "170. 15\n",
       "171. 18\n",
       "172. 6\n",
       "173. 17\n",
       "174. 22\n",
       "175. 8\n",
       "176. 21\n",
       "177. 23\n",
       "178. 15\n",
       "179. 17\n",
       "180. 34\n",
       "181. 15\n",
       "182. 79\n",
       "183. 14\n",
       "184. 9\n",
       "185. 6\n",
       "186. 7\n",
       "187. 8\n",
       "188. 11\n",
       "189. 16\n",
       "190. 12\n",
       "191. 10\n",
       "192. 31\n",
       "193. 115\n",
       "194. 6\n",
       "195. 6\n",
       "196. 16\n",
       "197. 103\n",
       "198. 40\n",
       "199. 28\n",
       "200. 287\n",
       "201. ...\n",
       "202. 26\n",
       "203. 123\n",
       "204. 12\n",
       "205. 11\n",
       "206. 19\n",
       "207. 16\n",
       "208. 21\n",
       "209. 12\n",
       "210. 26\n",
       "211. 12\n",
       "212. 29\n",
       "213. 11\n",
       "214. 20\n",
       "215. 7\n",
       "216. 12\n",
       "217. 14\n",
       "218. 151\n",
       "219. 50\n",
       "220. 6\n",
       "221. 6\n",
       "222. 10\n",
       "223. 11\n",
       "224. 12\n",
       "225. 12\n",
       "226. 3\n",
       "227. 32\n",
       "228. 9\n",
       "229. 36\n",
       "230. 27\n",
       "231. 67\n",
       "232. 54\n",
       "233. 50\n",
       "234. 59\n",
       "235. 29\n",
       "236. 18\n",
       "237. 18\n",
       "238. 11\n",
       "239. 17\n",
       "240. 10\n",
       "241. 21\n",
       "242. 22\n",
       "243. 19\n",
       "244. 31\n",
       "245. 11\n",
       "246. 7\n",
       "247. 10\n",
       "248. 10\n",
       "249. 21\n",
       "250. 20\n",
       "251. 26\n",
       "252. 17\n",
       "253. 6\n",
       "254. 94\n",
       "255. 5\n",
       "256. 7\n",
       "257. 27\n",
       "258. 9\n",
       "259. 9\n",
       "260. 12\n",
       "261. 7\n",
       "262. 7\n",
       "263. 6\n",
       "264. 9\n",
       "265. 10\n",
       "266. 7\n",
       "267. 10\n",
       "268. 15\n",
       "269. 309\n",
       "270. 11\n",
       "271. 149\n",
       "272. 28\n",
       "273. 13\n",
       "274. 10\n",
       "275. 45\n",
       "276. 10\n",
       "277. 9\n",
       "278. 14\n",
       "279. 9\n",
       "280. 12\n",
       "281. 8\n",
       "282. 18\n",
       "283. 11\n",
       "284. 13\n",
       "285. 20\n",
       "286. 8\n",
       "287. 6\n",
       "288. 26\n",
       "289. 8\n",
       "290. 8\n",
       "291. 7\n",
       "292. 9\n",
       "293. 11\n",
       "294. 31\n",
       "295. 6\n",
       "296. 18\n",
       "297. 32\n",
       "298. 9\n",
       "299. 12\n",
       "300. 8\n",
       "301. 7\n",
       "302. 9\n",
       "303. 4\n",
       "304. 12\n",
       "305. 6\n",
       "306. 8\n",
       "307. 28\n",
       "308. 24\n",
       "309. 10\n",
       "310. 186\n",
       "311. 8\n",
       "312. 104\n",
       "313. 7\n",
       "314. 8\n",
       "315. 16\n",
       "316. 7\n",
       "317. 3\n",
       "318. 15\n",
       "319. 39\n",
       "320. 160\n",
       "321. 115\n",
       "322. 28\n",
       "323. 50\n",
       "324. 53\n",
       "325. 84\n",
       "326. 48\n",
       "327. 27\n",
       "328. 19\n",
       "329. 10\n",
       "330. 12\n",
       "331. 17\n",
       "332. 13\n",
       "333. 5\n",
       "334. 6\n",
       "335. 10\n",
       "336. 9\n",
       "337. 19\n",
       "338. 11\n",
       "339. 15\n",
       "340. 9\n",
       "341. 32\n",
       "342. 14\n",
       "343. 18\n",
       "344. 7\n",
       "345. 3\n",
       "346. 5\n",
       "347. 12\n",
       "348. 54\n",
       "349. 14\n",
       "350. 7\n",
       "351. 134\n",
       "352. 65\n",
       "353. 99\n",
       "354. 72\n",
       "355. 151\n",
       "356. 10\n",
       "357. 10\n",
       "358. 94\n",
       "359. 17\n",
       "360. 6\n",
       "361. 15\n",
       "362. 23\n",
       "363. 13\n",
       "364. 24\n",
       "365. 10\n",
       "366. 11\n",
       "367. 7\n",
       "368. 25\n",
       "369. 19\n",
       "370. 140\n",
       "371. 209\n",
       "372. 188\n",
       "373. 41\n",
       "374. 99\n",
       "375. 96\n",
       "376. 23\n",
       "377. 59\n",
       "378. 24\n",
       "379. 96\n",
       "380. 12\n",
       "381. 19\n",
       "382. 16\n",
       "383. 11\n",
       "384. 10\n",
       "385. 39\n",
       "386. 37\n",
       "387. 40\n",
       "388. 12\n",
       "389. 11\n",
       "390. 29\n",
       "391. 15\n",
       "392. 14\n",
       "393. 16\n",
       "394. 24\n",
       "395. 11\n",
       "396. 11\n",
       "397. 9\n",
       "398. 12\n",
       "399. 10\n",
       "400. 16\n",
       "401. 7\n",
       "\n",
       "\n"
      ],
      "text/plain": [
       "   [1]  11  11  13  15   5  19   7   4  16   5  29  10   6   8   6  59  16  22\n",
       "  [19]   9   8  12  17  26  17  51  21   9   7  11  30  16  13   5  10  20  20\n",
       "  [37]  10  10  31  96  92  23  19   7  26  27  15  11  19   8   7  21  15  14\n",
       "  [55]  10  22  56  19  18  16   3   6  83   8   6  17  10  10  23  13  11  10\n",
       "  [73]  12  15  18  13  21   8  12  16   9  18  11   8   6  11  10   8   9   7\n",
       "  [91]   5   6  22   7  18   8   8  13   6  98  50   8  10  24   7  11  11   2\n",
       " [109]   6   3   3  88  15   7   5  10   6  15   9  12   6  12  11  29  10  13\n",
       " [127]   6  12  22   5  13  15  12  30  18   5   7  16   6  26  24  16   8  10\n",
       " [145]  13  87   7  16  31   9  34 128  31  19  10   3  11  15   9   8   8  13\n",
       " [163]  12 268  35  25  15  13  16  15  18   6  17  22   8  21  23  15  17  34\n",
       " [181]  15  79  14   9   6   7   8  11  16  12  10  31 115   6   6  16 103  40\n",
       " [199]  28 287  24  22  17  12  16  17  18  32   7  16   6  36  20  27  29  24\n",
       " [217]  53  12  22  20  12  14  16  10  10  39   7  36  21  14  49  29  32  55\n",
       " [235]  41  12  73 112  10  12   6  11  10   7  17  15   8  13  13  25  15   8\n",
       " [253]  58  14  18  29  12  17  39  19  19   9   8  50  12  13   3  10   5   6\n",
       " [271]  20   5   6   7   4   8   5  10  30   4  14  10  13  15  11 247  22  19\n",
       " [289] 259 271  16   6  12   6   6  11   8   4  12  11   5   6   7  61  56  45\n",
       " [307]  40   4  27  14   6  17   9   7   7  34  48 257  13  12  12  28  11  18\n",
       " [325]  14   8  14  14   6   9  35  12  17  44   8   7   9   4  78  10   5   9\n",
       " [343]  44  26   4   9   2  14  15  14  27 280  47   7  23  32  13   8  11   9\n",
       " [361]   9   7  20   7 103  19  13  16  55 196  10  34  29  18  19  18   4  10\n",
       " [379]   9  13  38  39  15  45  23  14   9  19   9  14  19  18 101  65 187 295\n",
       " [397]  79 270  23  14   3  13  22   5  16  42   9  21   5   9   8  11  56   4\n",
       " [415]  11  10  30  19  30  20  30  14  12  10 104 119  29  19  30  45  23  17\n",
       " [433]  12  17   5   7   9   7   9  12  11   6  18   7  17  13  17  10   7   8\n",
       " [451]  12  15   8  24  30  24  17  17  16  10  12  11   6   5  11 154 103   7\n",
       " [469]  12  24  56   7   8  16  11  11   4 179  14  19  14  18  15  11  23  20\n",
       " [487]  19   9  48 153 273  48  18   8   7  19   5   7  18   5   8  11  51  37\n",
       " [505]  27   8  51  10  11  12   6  14   6   3   9   9  10  11   7   9  10   9\n",
       " [523]  24   9  18  15  12   6   8  19  11   9  54  31  48  13  22  20  10  22\n",
       " [541]  21  17  32  17 175  18  10   7   3  14   7  17  11  13  12   7  13   7\n",
       " [559]  10  41  12  16  14  24   7  25   8  10  10  15  20  17  10   9 198  35\n",
       " [577]  26  21  48  20  18   6  22   8   9  13   8  11  12 108  34  23  42  10\n",
       " [595]   9  11  18  15  26  31  14   9  14   9   8   4  83  43   5  10   7  14\n",
       " [613]   7  21  18  19   5  15   6   5  16   6   9   4  10  10  23  11  17  17\n",
       " [631]  16  12  11   8   6   5  39   4  51   8   9   7 289 101  15  54  22  14\n",
       " [649]  18  15  83  14   8  14   5  15  24  20  28  16  31  27  37   9  19  13\n",
       " [667]  24  18  50  25  25  13  10  10  10  25 168  17 111  14  41  44  14  15\n",
       " [685]  23  26  37  23  40  28  38  63  61  64  63  11  13   8  21   7  18  25\n",
       " [703]   9  26  17  16  13  10  13  14  44  19  11  11   9   8  15   8  14  10\n",
       " [721]  16  10  71  31  16  35  21  12  30  33  60   6 234  45  10  31   5   7\n",
       " [739]  36  24  18   8  13   7   7 139  14   7  22  11   5   8  13  13  15  10\n",
       " [757]  10   9  13   6  11   5   5  10  17   7  15   9  19  14   8  11  11   9\n",
       " [775]  22  42  24  11  39  13  38  16  14  17  55  21  31 184 117   8  12   5\n",
       " [793]  12   9 134   4   7   9  15   4   4  11  22  10   8  15  14  26 240   5\n",
       " [811]   4  32  54   4  15   5  17  86 185 251  33  59  15  80 105  14  21  35\n",
       " [829]  10  48  52  30  29  12  14   5  18   1  20   7  15  13  18  26  12  12\n",
       " [847]   3  14  22  16  16   6  29  20   7  22  10  38   5   9   9  70   6  75\n",
       " [865]  21  14  11  21  29   3  25  20  20 229  25   9  21 300  17   8  10 165\n",
       " [883]  27  11  11  18   6   6  24   8  47  82 105  72 140 163  70  26  19  13\n",
       " [901]  13  44  68  16   7  13  11   9   9  34  34  24  21  10  19  12  15  23\n",
       " [919]  36  16   9  12   9   7  13  21  22  60  32  15   9  21  23  11  13  11\n",
       " [937]  12  43   7  42  45  28  11  14   9  11  19  13  14  33   5  13  99 264\n",
       " [955]  16  26  18  13  19  45  10  13   7   7  15  18   8   5  17  19   9  19\n",
       " [973]  18  13  12  19  11  73  57  24  12  10  19  13  10   9   9   8 120  16\n",
       " [991]  12   9  12  11   9  10  99 122  22   5  21  10  26   8  10   6 224  45\n",
       "[1009]  19  22 152 115 192 176  28  42  21  20  16 146  44  16  35  42  27  79\n",
       "[1027]  29  16  38  32  14   7  22   8   8   9  13  12   6   6  11   8  79  11\n",
       "[1045]   9   8  21  10  12  11   8  69  10  72 156  12  10  32  16  14   9   4\n",
       "[1063]   8   9  12   8   7   7  54  39  23  13   6   7  18  14  11   7  15   5\n",
       "[1081]   8   7  19  19  25  20  31  11   5  11  32  22  10  29   9  18   9   6\n",
       "[1099]  15   8  15  14   6  13  13  15  82  78  92  21  43  13   7  13   2   3\n",
       "[1117]   8  28   9   8   9   7   3  10   3   7  20  10  12  25  14  12  21  13\n",
       "[1135]   5   9   5   8  24  13  11  38  32  14   9  26  21  10  10  25  20  12\n",
       "[1153]   3 154 252 191  22 146 148  13  21   9   9  17   9  10  13  13  14   8\n",
       "[1171]  11  10  34  68  29  42   7  37  45  41  39  20  20  22   9  32  14  26\n",
       "[1189]  23  63  14  12   7  15  16  17   8  16  13  14  14  20  10  11  17  35\n",
       "[1207]   5  26  15  12  41  15  19  63  19   6  16  16  11   5  15   5  12  15\n",
       "[1225]  28  10  26  89  13  17  34  12  20  14  18  13  11  16   9   8  45   7\n",
       "[1243]   3   7   5   9  11  31  69  28  20  17  14  32  27  46  10   7  64 123\n",
       "[1261]  18   7  16  15  48  24  28 178  44  19  14  51  31  12   9  11  14   9\n",
       "[1279]  10  11  12  11  10  15  14  12  11   9  10   8  18  22 102 128 134  30\n",
       "[1297] 129  86  72  63  58  99  15  59 104  78  39  17  40  15   8  12  21   8\n",
       "[1315]  14   9   8  18  10   4  32   8   6   4  20  13   7  15  13  17  11  24\n",
       "[1333]  20  21   5 190 101  81  14   8  15  24  31   7   7   9  11  18  19   8\n",
       "[1351]  15  13  12  10  16  12  24  12   7  22   7   7   5   9  73   5   6 248\n",
       "[1369]  65   9   4  15  24  14  65  11  99 148  24  19  19  24  23  17  14  27\n",
       "[1387]  17  15  14  10  11   7   4  33  10  14   5  22  18   6   7  11   8  31\n",
       "[1405]  25   7  11  23  10  34  33   9  12   7 113   6  11   9  10   7   5  26\n",
       "[1423]  17  19  31  25  24  12  10  13  10   9  16  14  10  24  12  16  12  18\n",
       "[1441]   7  12  10   6  37  14   3   7  30  17   5   8   8   9  22  13  16  11\n",
       "[1459]  31  18  13   6  12   7  35  14   9  12  13  12   4   7  15  17   4   7\n",
       "[1477]  22  13   8  17  11  12   7  36  47   8   9  14   9   8  17   8  14  22\n",
       "[1495]   6   8   9  15  20  19  43  17  14  17  21 270  10  29  29  49  31  28\n",
       "[1513]  25  25  12  32  16  16  12   7  13  41  42  47  13  13   8   9  11   7\n",
       "[1531]  11  13   6  22  13  14  29 173   6  26   7   8  10   6  47   9  11  26\n",
       "[1549]  25  43  16   9  67  18  28   6  20  20  19  23  10  14  19  13  13   9\n",
       "[1567]   7  10  16  15  11  46  32  39  30   6  10  15  14  13 177  12   6   8\n",
       "[1585]  21   3  13  32  23  12  31  27  71  26  65  44  10  10   3  22  21   8\n",
       "[1603]   6   8  12  28  29  11  37  69  67  16  49  58  43  81   8  44  36  38\n",
       "[1621]  35  30  18  20  12   8  29   8  10   5  15  10  12   6   5  13   8   7\n",
       "[1639]   7  14  11  11  13   9   7   9  14  13   7  95  48  38  28  27  16   9\n",
       "[1657]   8  13  25  38  23   8  16  47  24  35  32  14  19  13  11 116  15  13\n",
       "[1675] 157 134  26  15  13   6   8   8  26  19   9   8   9  16   8  15   9  18\n",
       "[1693]  24  36  38   8   4  15  13  27  26  14   5  45  12  11  18  21   8  13\n",
       "[1711]  14   5 136  13  48  11  62  16  87  22  22  27   8  30  33   8  14  15\n",
       "[1729]  24  17  32  15  14  20  20  11  23  17  54 102  23  12   6  19  15   8\n",
       "[1747]  23  10  16  16  16  10  11   9   8 162  34  18  34  19  33  18  20  25\n",
       "[1765]  32  14  18  32  31  22  20  12  37  84  69  23   7  12  10  10   8  10\n",
       "[1783]   9  10   4  11  13  12  10   8  11  11   7  19  55  25 119  25  11  22\n",
       "[1801]   6  10  15  15  10   7   3   6  10  13  19  16   6  12   9 203 173  40\n",
       "[1819]   8  82  10  59  87  12  21   7   5   9   8   4  55   8  74  35  11  15\n",
       "[1837]   7   9  33  16  18   7   6   8   7   9   5  10   5  11  14   8  12  16\n",
       "[1855]  12   9   5  15  15  10   4  15  20   9  11  11   4  13   6  10  13   8\n",
       "[1873]  36  13  11  16   8   6  16  29  14  19   8  11   8  10   7   8  55  11\n",
       "[1891]   9  12  12  10  11  17  19  15  11  16  13  22  12   6  28  53  39  29\n",
       "[1909]  29 269  13  29  32   9   6  30  33  16   5   4  15  15  28  34  24  40\n",
       "[1927]  14  17  10  35   7   9  10   5  16   6  10  12  14  13  14  30  19  17\n",
       "[1945]  21  14   9  14   4  36  19  20  13  25   6   8   8 134  14  13  14  52\n",
       "[1963]  39  37  54  10  16  11  27   9  19   8  10   7  26  24   3  17  20  16\n",
       "[1981]  40  39  24  16  10  13  14  14   6  34  14  25   9  19  17  16  16  22\n",
       "[1999]  13  18  13   6  12  12   8  14   6   9  15   7   9  20  27  29  18 153\n",
       "[2017]   9  11  10  19   9  12   7   8   7  14   9   8  19   5  10  32  25  10\n",
       "[2035]  57  50  18  13  51   8  13  15  10  66  59 174   5  12  10  10   4  11\n",
       "[2053]  12  13  14  14  21  69  13  34  11  16  12  20   9  15  11  15  11  13\n",
       "[2071]   5   6   7   5  14  10  85  34  11   6   3   3   4   4  16   6   7  14\n",
       "[2089]  12   7  13   5  15  14  10   5   4  11   8  16   9  11  50   8  17   7\n",
       "[2107]  11  15  14  30  27  14 152  13   7   5  13   7  54   6  10  22  16  19\n",
       "[2125]   9  10  22  11  30  27  28  49  11   8  29  56  11 187  20  12  10   9\n",
       "[2143]  18  12  13  12 129  27  18  14   9  17   9   9  51  54  20   5  37  27\n",
       "[2161]  54  18  25  17   9   9   5  45   5   6  14  10  13  12  28  30   5   8\n",
       "[2179]   9  16  13  13  11  16   7  11  11  14  21  65  37   3  21   9   7   4\n",
       "[2197]   9   9  10   8   7  18   9   8  15  18   5  35  77  13  17  21  32  24\n",
       "[2215]  12  32  28  12  35  19  31  29  11  14   9  13  13  25  32  55  21  13\n",
       "[2233]  17  10   8  24  11  63  21  13  13  12  18  12  11  10  22  35  19  18\n",
       "[2251]  31   9   7  17  18  25   9   9  29  41  10  13  10  49  51  41  27   8\n",
       "[2269]  51  20  34  47  35  13  14  12  37  36   9  10 254 160 109  44 102  14\n",
       "[2287]  12 113  11   6   8  34  19 188   6  11  75   8   2   6   5   6  43  16\n",
       "[2305]  14  21  19  16  13   3  54  34   6  15   9   9   6  29  20   7  14   7\n",
       "[2323]   8   2   6   9   6  61  17  22   9  20  14  14   9   7  26 132  22   9\n",
       "[2341]   7  35  34  36   9   4  30  25   5  17   7   5  11   6   5  10  32  19\n",
       "[2359]   8  10  15   6   9   7  11  10  17  26  39  24  37  23  55  96  48  14\n",
       "[2377]  50 184  27  94  56  38  65  40  60  14  18  17  48  16  19   8  14  24\n",
       "[2395]  13   8  11  11   7  13   7  13  15   8  20   5   8   8   9  10   5  16\n",
       "[2413]  11  14  13  28  29   5  17  12  31 145  25   5  68  73  64  85  13   5\n",
       "[2431]  80  11   9   7  26   9  15   8  15  12   8  15  13  21  26  30   6  11\n",
       "[2449]  11  15   8   4   8  11  10  12  15   8  10   8   9   7   5  15   6 132\n",
       "[2467]  17  19  11  47  23 138  16  13   9  14  10   4  17 118 168  13  10  41\n",
       "[2485]  20   9  11   9   7  11  15  11  24   7   9  16  18  26  10   6   8 100\n",
       "[2503]  32  11  21  26 123  12  11  19  16  21  12  26  12  29  11  20   7  12\n",
       "[2521]  14 151  50   6   6  10  11  12  12   3  32   9  36  27  67  54  50  59\n",
       "[2539]  29  18  18  11  17  10  21  22  19  31  11   7  10  10  21  20  26  17\n",
       "[2557]   6  94   5   7  27   9   9  12   7   7   6   9  10   7  10  15 309  11\n",
       "[2575] 149  28  13  10  45  10   9  14   9  12   8  18  11  13  20   8   6  26\n",
       "[2593]   8   8   7   9  11  31   6  18  32   9  12   8   7   9   4  12   6   8\n",
       "[2611]  28  24  10 186   8 104   7   8  16   7   3  15  39 160 115  28  50  53\n",
       "[2629]  84  48  27  19  10  12  17  13   5   6  10   9  19  11  15   9  32  14\n",
       "[2647]  18   7   3   5  12  54  14   7 134  65  99  72 151  10  10  94  17   6\n",
       "[2665]  15  23  13  24  10  11   7  25  19 140 209 188  41  99  96  23  59  24\n",
       "[2683]  96  12  19  16  11  10  39  37  40  12  11  29  15  14  16  24  11  11\n",
       "[2701]   9  12  10  16   7"
      ]
     },
     "metadata": {},
     "output_type": "display_data"
    },
    {
     "data": {
      "text/html": [
       "0"
      ],
      "text/latex": [
       "0"
      ],
      "text/markdown": [
       "0"
      ],
      "text/plain": [
       "[1] 0"
      ]
     },
     "metadata": {},
     "output_type": "display_data"
    },
    {
     "data": {
      "text/html": [
       "2705"
      ],
      "text/latex": [
       "2705"
      ],
      "text/markdown": [
       "2705"
      ],
      "text/plain": [
       "[1] 2705"
      ]
     },
     "metadata": {},
     "output_type": "display_data"
    }
   ],
   "source": [
    "df$weekly_std_time_midduratioZ4_min\n",
    "sum(df$weekly_std_time_midduratioZ4_min==0)\n",
    "sum(df$weekly_std_time_midduratioZ4_min!=0)"
   ]
  },
  {
   "cell_type": "code",
   "execution_count": 39,
   "id": "ac4f5126",
   "metadata": {},
   "outputs": [
    {
     "name": "stderr",
     "output_type": "stream",
     "text": [
      "Warning message in .local(x, sigma, ...):\n",
      "\"'sigma' and 'rdig' arguments are present for compatibility only: ignored\"\n"
     ]
    },
    {
     "data": {
      "text/plain": [
       "\n",
       "Call:\n",
       "glmmadmb(formula = Y ~ 1 + (1 | HenID), data = df, family = \"nbinom1\")\n",
       "\n",
       "AIC: 22872.4 \n",
       "\n",
       "Coefficients:\n",
       "            Estimate Std. Error z value Pr(>|z|)    \n",
       "(Intercept)   3.2098     0.0235     137   <2e-16 ***\n",
       "---\n",
       "Signif. codes:  0 '***' 0.001 '**' 0.01 '*' 0.05 '.' 0.1 ' ' 1\n",
       "\n",
       "Number of observations: total=2705, HenID=194 \n",
       "Random effect variance(s):\n",
       "Group=HenID\n",
       "            Variance StdDev\n",
       "(Intercept)  0.04636 0.2153\n",
       "\n",
       "Negative binomial dispersion parameter: 19.127 (std. err.: 0.59795)\n",
       "\n",
       "Log-likelihood: -11433.2 "
      ]
     },
     "metadata": {},
     "output_type": "display_data"
    },
    {
     "name": "stderr",
     "output_type": "stream",
     "text": [
      "Warning message in .local(x, sigma, ...):\n",
      "\"'sigma' and 'rdig' arguments are present for compatibility only: ignored\"\n"
     ]
    },
    {
     "data": {
      "text/plain": [
       "\n",
       "Call:\n",
       "glmmadmb(formula = Y ~ Treatment + scale(weekly_avg_temperature) + \n",
       "    scale(WOA) + (1 | HenID), data = df, family = \"nbinom1\")\n",
       "\n",
       "AIC: 22875 \n",
       "\n",
       "Coefficients:\n",
       "                               Estimate Std. Error z value Pr(>|z|)    \n",
       "(Intercept)                    3.249449   0.031460  103.29   <2e-16 ***\n",
       "TreatmentOFH                  -0.079363   0.042947   -1.85    0.065 .  \n",
       "scale(weekly_avg_temperature)  0.001546   0.038499    0.04    0.968    \n",
       "scale(WOA)                     0.000999   0.038869    0.03    0.980    \n",
       "---\n",
       "Signif. codes:  0 '***' 0.001 '**' 0.01 '*' 0.05 '.' 0.1 ' ' 1\n",
       "\n",
       "Number of observations: total=2705, HenID=194 \n",
       "Random effect variance(s):\n",
       "Group=HenID\n",
       "            Variance StdDev\n",
       "(Intercept)  0.04606 0.2146\n",
       "\n",
       "Negative binomial dispersion parameter: 19.103 (std. err.: 0.59724)\n",
       "\n",
       "Log-likelihood: -11431.5 "
      ]
     },
     "metadata": {},
     "output_type": "display_data"
    },
    {
     "data": {
      "text/html": [
       "<style>\n",
       ".dl-inline {width: auto; margin:0; padding: 0}\n",
       ".dl-inline>dt, .dl-inline>dd {float: none; width: auto; display: inline-block}\n",
       ".dl-inline>dt::after {content: \":\\0020\"; padding-right: .5ex}\n",
       ".dl-inline>dt:not(:first-of-type) {padding-left: .5ex}\n",
       "</style><dl class=dl-inline><dt>VarOdN</dt><dd>0.754399689885578</dd><dt>VarOlN</dt><dd>0.562126741357719</dd><dt>VarOlN</dt><dd>1.10438931847261</dd></dl>\n"
      ],
      "text/latex": [
       "\\begin{description*}\n",
       "\\item[VarOdN] 0.754399689885578\n",
       "\\item[VarOlN] 0.562126741357719\n",
       "\\item[VarOlN] 1.10438931847261\n",
       "\\end{description*}\n"
      ],
      "text/markdown": [
       "VarOdN\n",
       ":   0.754399689885578VarOlN\n",
       ":   0.562126741357719VarOlN\n",
       ":   1.10438931847261\n",
       "\n"
      ],
      "text/plain": [
       "   VarOdN    VarOlN    VarOlN \n",
       "0.7543997 0.5621267 1.1043893 "
      ]
     },
     "metadata": {},
     "output_type": "display_data"
    },
    {
     "data": {
      "text/html": [
       "<style>\n",
       ".dl-inline {width: auto; margin:0; padding: 0}\n",
       ".dl-inline>dt, .dl-inline>dd {float: none; width: auto; display: inline-block}\n",
       ".dl-inline>dt::after {content: \":\\0020\"; padding-right: .5ex}\n",
       ".dl-inline>dt:not(:first-of-type) {padding-left: .5ex}\n",
       "</style><dl class=dl-inline><dt>VarOdF</dt><dd>0.753453091226235</dd><dt>VarOlF</dt><dd>0.561587038729709</dd><dt>VarOlF</dt><dd>1.10249507936176</dd></dl>\n"
      ],
      "text/latex": [
       "\\begin{description*}\n",
       "\\item[VarOdF] 0.753453091226235\n",
       "\\item[VarOlF] 0.561587038729709\n",
       "\\item[VarOlF] 1.10249507936176\n",
       "\\end{description*}\n"
      ],
      "text/markdown": [
       "VarOdF\n",
       ":   0.753453091226235VarOlF\n",
       ":   0.561587038729709VarOlF\n",
       ":   1.10249507936176\n",
       "\n"
      ],
      "text/plain": [
       "   VarOdF    VarOlF    VarOlF \n",
       "0.7534531 0.5615870 1.1024951 "
      ]
     },
     "metadata": {},
     "output_type": "display_data"
    },
    {
     "data": {
      "text/html": [
       "<style>\n",
       ".dl-inline {width: auto; margin:0; padding: 0}\n",
       ".dl-inline>dt, .dl-inline>dd {float: none; width: auto; display: inline-block}\n",
       ".dl-inline>dt::after {content: \":\\0020\"; padding-right: .5ex}\n",
       ".dl-inline>dt:not(:first-of-type) {padding-left: .5ex}\n",
       "</style><dl class=dl-inline><dt>R2glmmM</dt><dd>0.00137218037068401</dd><dt>R2glmmC</dt><dd>0.0414188787114936</dd><dt>ICCrawPop</dt><dd>0.0402842913819007</dd><dt>ICCadjPop</dt><dd>0.0401017251408785</dd></dl>\n"
      ],
      "text/latex": [
       "\\begin{description*}\n",
       "\\item[R2glmmM] 0.00137218037068401\n",
       "\\item[R2glmmC] 0.0414188787114936\n",
       "\\item[ICCrawPop] 0.0402842913819007\n",
       "\\item[ICCadjPop] 0.0401017251408785\n",
       "\\end{description*}\n"
      ],
      "text/markdown": [
       "R2glmmM\n",
       ":   0.00137218037068401R2glmmC\n",
       ":   0.0414188787114936ICCrawPop\n",
       ":   0.0402842913819007ICCadjPop\n",
       ":   0.0401017251408785\n",
       "\n"
      ],
      "text/plain": [
       "   R2glmmM    R2glmmC  ICCrawPop  ICCadjPop \n",
       "0.00137218 0.04141888 0.04028429 0.04010173 "
      ]
     },
     "metadata": {},
     "output_type": "display_data"
    },
    {
     "data": {
      "image/png": "[encoded data removed]",
      "text/plain": [
       "Plot with title \"Histogram of df$Y\""
      ]
     },
     "metadata": {
      "image/png": {
       "height": 420,
       "width": 420
      }
     },
     "output_type": "display_data"
    }
   ],
   "source": [
    "df$Y = df$weekly_std_time_midduratioZ4_min\n",
    "hist(df$Y)\n",
    "# Fit null model without fixed effects (but including all random effects)\n",
    "STDtimeNBmodADMBr <-glmmadmb(Y ~ 1 + (1 | HenID), family = \"nbinom1\",data = df)\n",
    "# Fit alternative model including fixed and all random effects\n",
    "STDtimeNBmodADMBf <-glmmadmb(Y ~ Treatment + scale(weekly_avg_temperature) + scale(WOA) + (1|HenID), family = \"nbinom1\", data = df)\n",
    "# View model fits for both models\n",
    "summary(STDtimeNBmodADMBr)\n",
    "summary(STDtimeNBmodADMBf)\n",
    "\n",
    "# Calculation of the variance in fitted values\n",
    "VarF <-var(as.vector(model.matrix(STDtimeNBmodADMBf) %*%fixef(STDtimeNBmodADMBf)))\n",
    "# getting the observation-level variance Null model\n",
    "omegaN <- STDtimeNBmodADMBr$alpha # overdispersion omega is alpha in glmmadmb\n",
    "lambda <-as.numeric(exp(fixef(STDtimeNBmodADMBr) + 0.5 * (as.numeric(VarCorr(STDtimeNBmodADMBr)[1]))))\n",
    "# lambda2 <- mean(df$Egg) # for lambda we use the mean of all\n",
    "# observations\n",
    "VarOdN <- omegaN/lambda # the delta method\n",
    "VarOlN <-log(1 + omegaN/lambda) # log-normal approximation\n",
    "VarOtN <-trigamma(lambda/omegaN) # trigamma function\n",
    "# comparing the three\n",
    "c(VarOdN = VarOdN, VarOlN = VarOlN, VarOtN = VarOtN)\n",
    "\n",
    "# Full model\n",
    "omegaF <- STDtimeNBmodADMBf$alpha # overdispersion omega is alpha in glmmadmb\n",
    "VarOdF <- omegaF/lambda# the delta method\n",
    "VarOlF <-log(1 + omegaF/lambda)# log-normal approximation\n",
    "VarOtF <-trigamma(lambda/omegaF)# trigamma function# comparing the three\n",
    "c(VarOdF = VarOdF, VarOlF = VarOlF, VarOlF = VarOtF)\n",
    "\n",
    "# R2[GLMM(m)] - marginal R2[GLMM]\n",
    "R2glmmM <- VarF/(VarF +sum(as.numeric(VarCorr(STDtimeNBmodADMBf))) + VarOtF)\n",
    "# R2[GLMM(c)] - conditional R2[GLMM] for full model\n",
    "R2glmmC <- (VarF +sum(as.numeric(VarCorr(STDtimeNBmodADMBf))))/(VarF +sum(as.numeric(VarCorr(STDtimeNBmodADMBf))) +VarOtF)\n",
    "\n",
    "# Raw unadjusted ICC[HenID]\n",
    "ICCrawPop <-VarCorr(STDtimeNBmodADMBr)$HenID[1]/(sum(as.numeric(VarCorr(STDtimeNBmodADMBr))) +VarOtN)\n",
    "# adjusted ICC[HenID]\n",
    "ICCadjPop <-VarCorr(STDtimeNBmodADMBf)$HenID[1]/(sum(as.numeric(VarCorr(STDtimeNBmodADMBf))) +VarOtF)\n",
    "# comparing the results\n",
    "c(R2glmmM = R2glmmM, R2glmmC = R2glmmC, ICCrawPop = ICCrawPop, ICCadjPop = ICCadjPop)"
   ]
  },
  {
   "cell_type": "code",
   "execution_count": null,
   "id": "8d9fb7d1",
   "metadata": {},
   "outputs": [],
   "source": []
  },
  {
   "cell_type": "code",
   "execution_count": 32,
   "id": "b0977aed",
   "metadata": {
    "scrolled": true
   },
   "outputs": [
    {
     "name": "stderr",
     "output_type": "stream",
     "text": [
      "Warning message in Matrix::sparseMatrix(dims = c(0, 0), i = integer(0), j = integer(0), :\n",
      "\"'giveCsparse' has been deprecated; setting 'repr = \"T\"' for you\"\n",
      "Warning message in Matrix::sparseMatrix(dims = c(0, 0), i = integer(0), j = integer(0), :\n",
      "\"'giveCsparse' has been deprecated; setting 'repr = \"T\"' for you\"\n",
      "Warning message in Matrix::sparseMatrix(dims = c(0, 0), i = integer(0), j = integer(0), :\n",
      "\"'giveCsparse' has been deprecated; setting 'repr = \"T\"' for you\"\n",
      "Warning message in Matrix::sparseMatrix(dims = c(0, 0), i = integer(0), j = integer(0), :\n",
      "\"'giveCsparse' has been deprecated; setting 'repr = \"T\"' for you\"\n",
      "Warning message in Matrix::sparseMatrix(dims = c(0, 0), i = integer(0), j = integer(0), :\n",
      "\"'giveCsparse' has been deprecated; setting 'repr = \"T\"' for you\"\n",
      "Warning message in Matrix::sparseMatrix(dims = c(0, 0), i = integer(0), j = integer(0), :\n",
      "\"'giveCsparse' has been deprecated; setting 'repr = \"T\"' for you\"\n"
     ]
    },
    {
     "data": {
      "text/plain": [
       " Family: nbinom1  ( log )\n",
       "Formula:          Y ~ 1 + (1 | HenID)\n",
       "Data: df\n",
       "\n",
       "     AIC      BIC   logLik deviance df.resid \n",
       " 22872.4  22890.1 -11433.2  22866.4     2702 \n",
       "\n",
       "Random effects:\n",
       "\n",
       "Conditional model:\n",
       " Groups Name        Variance Std.Dev.\n",
       " HenID  (Intercept) 0.04636  0.2153  \n",
       "Number of obs: 2705, groups:  HenID, 194\n",
       "\n",
       "Overdispersion parameter for nbinom1 family (): 18.1 \n",
       "\n",
       "Conditional model:\n",
       "            Estimate Std. Error z value Pr(>|z|)    \n",
       "(Intercept)  3.20976    0.02348   136.7   <2e-16 ***\n",
       "---\n",
       "Signif. codes:  0 '***' 0.001 '**' 0.01 '*' 0.05 '.' 0.1 ' ' 1"
      ]
     },
     "metadata": {},
     "output_type": "display_data"
    },
    {
     "data": {
      "text/plain": [
       " Family: nbinom1  ( log )\n",
       "Formula:          Y ~ Treatment + scale(weekly_avg_temperature) + scale(WOA) +  \n",
       "    (1 | HenID)\n",
       "Data: df\n",
       "\n",
       "     AIC      BIC   logLik deviance df.resid \n",
       " 22875.0  22910.4 -11431.5  22863.0     2699 \n",
       "\n",
       "Random effects:\n",
       "\n",
       "Conditional model:\n",
       " Groups Name        Variance Std.Dev.\n",
       " HenID  (Intercept) 0.04606  0.2146  \n",
       "Number of obs: 2705, groups:  HenID, 194\n",
       "\n",
       "Overdispersion parameter for nbinom1 family (): 18.1 \n",
       "\n",
       "Conditional model:\n",
       "                               Estimate Std. Error z value Pr(>|z|)    \n",
       "(Intercept)                    3.249449   0.031460  103.29   <2e-16 ***\n",
       "TreatmentOFH                  -0.079360   0.042946   -1.85   0.0646 .  \n",
       "scale(weekly_avg_temperature)  0.001544   0.038499    0.04   0.9680    \n",
       "scale(WOA)                     0.001001   0.038869    0.03   0.9795    \n",
       "---\n",
       "Signif. codes:  0 '***' 0.001 '**' 0.01 '*' 0.05 '.' 0.1 ' ' 1"
      ]
     },
     "metadata": {},
     "output_type": "display_data"
    },
    {
     "data": {
      "image/png": "[encoded data removed]",
      "text/plain": [
       "Plot with title \"Histogram of df$Y\""
      ]
     },
     "metadata": {
      "image/png": {
       "height": 420,
       "width": 420
      }
     },
     "output_type": "display_data"
    }
   ],
   "source": [
    "df$Y = df$weekly_std_time_midduratioZ4_min\n",
    "hist(df$Y)\n",
    "# Fit null model without fixed effects (but including all random effects)\n",
    "fecmodADMBr <-glmmTMB(Y ~ 1 + (1 | HenID), family = \"nbinom1\", data = df)\n",
    "# Fit alternative model including fixed and all random effects\n",
    "fecmodADMBf <-glmmTMB(Y ~ Treatment + scale(weekly_avg_temperature) + scale(WOA) + (1|HenID), family = \"nbinom1\", data = df)\n",
    "# View model fits for both models\n",
    "summary(fecmodADMBr)\n",
    "summary(fecmodADMBf)"
   ]
  },
  {
   "cell_type": "code",
   "execution_count": null,
   "id": "2381e1d4",
   "metadata": {},
   "outputs": [],
   "source": []
  },
  {
   "cell_type": "code",
   "execution_count": 40,
   "id": "899d80c8",
   "metadata": {},
   "outputs": [
    {
     "data": {
      "text/html": [
       "<style>\n",
       ".dl-inline {width: auto; margin:0; padding: 0}\n",
       ".dl-inline>dt, .dl-inline>dd {float: none; width: auto; display: inline-block}\n",
       ".dl-inline>dt::after {content: \":\\0020\"; padding-right: .5ex}\n",
       ".dl-inline>dt:not(:first-of-type) {padding-left: .5ex}\n",
       "</style><dl class=dl-inline><dt>(Intercept)</dt><dd>3.24944885799782</dd><dt>TreatmentOFH</dt><dd>-0.0793625064124308</dd><dt>scale(weekly_avg_temperature)</dt><dd>0.00154554144534643</dd><dt>scale(WOA)</dt><dd>0.000998671171068689</dd></dl>\n"
      ],
      "text/latex": [
       "\\begin{description*}\n",
       "\\item[(Intercept)] 3.24944885799782\n",
       "\\item[TreatmentOFH] -0.0793625064124308\n",
       "\\item[scale(weekly\\textbackslash{}\\_avg\\textbackslash{}\\_temperature)] 0.00154554144534643\n",
       "\\item[scale(WOA)] 0.000998671171068689\n",
       "\\end{description*}\n"
      ],
      "text/markdown": [
       "(Intercept)\n",
       ":   3.24944885799782TreatmentOFH\n",
       ":   -0.0793625064124308scale(weekly_avg_temperature)\n",
       ":   0.00154554144534643scale(WOA)\n",
       ":   0.000998671171068689\n",
       "\n"
      ],
      "text/plain": [
       "                  (Intercept)                  TreatmentOFH \n",
       "                 3.2494488580                 -0.0793625064 \n",
       "scale(weekly_avg_temperature)                    scale(WOA) \n",
       "                 0.0015455414                  0.0009986712 "
      ]
     },
     "metadata": {},
     "output_type": "display_data"
    }
   ],
   "source": [
    "fixef(STDtimeNBmodADMBf)"
   ]
  },
  {
   "cell_type": "code",
   "execution_count": 43,
   "id": "baaf6828",
   "metadata": {},
   "outputs": [
    {
     "data": {
      "text/html": [
       "<style>\n",
       ".dl-inline {width: auto; margin:0; padding: 0}\n",
       ".dl-inline>dt, .dl-inline>dd {float: none; width: auto; display: inline-block}\n",
       ".dl-inline>dt::after {content: \":\\0020\"; padding-right: .5ex}\n",
       ".dl-inline>dt:not(:first-of-type) {padding-left: .5ex}\n",
       "</style><dl class=dl-inline><dt>(Intercept)</dt><dd>3.2494493760215</dd><dt>TreatmentOFH</dt><dd>-0.0793603289052092</dd><dt>scale(weekly_avg_temperature)</dt><dd>0.00154412392152011</dd><dt>scale(WOA)</dt><dd>0.00100051391012194</dd></dl>\n"
      ],
      "text/latex": [
       "\\begin{description*}\n",
       "\\item[(Intercept)] 3.2494493760215\n",
       "\\item[TreatmentOFH] -0.0793603289052092\n",
       "\\item[scale(weekly\\textbackslash{}\\_avg\\textbackslash{}\\_temperature)] 0.00154412392152011\n",
       "\\item[scale(WOA)] 0.00100051391012194\n",
       "\\end{description*}\n"
      ],
      "text/markdown": [
       "(Intercept)\n",
       ":   3.2494493760215TreatmentOFH\n",
       ":   -0.0793603289052092scale(weekly_avg_temperature)\n",
       ":   0.00154412392152011scale(WOA)\n",
       ":   0.00100051391012194\n",
       "\n"
      ],
      "text/plain": [
       "                  (Intercept)                  TreatmentOFH \n",
       "                  3.249449376                  -0.079360329 \n",
       "scale(weekly_avg_temperature)                    scale(WOA) \n",
       "                  0.001544124                   0.001000514 "
      ]
     },
     "metadata": {},
     "output_type": "display_data"
    }
   ],
   "source": [
    "fixef(fecmodADMBf)[[1]]"
   ]
  },
  {
   "cell_type": "code",
   "execution_count": 41,
   "id": "71ac6d1f",
   "metadata": {
    "scrolled": true
   },
   "outputs": [
    {
     "data": {
      "text/html": [
       "<table class=\"dataframe\">\n",
       "<caption>A matrix: 2705 × 4 of type dbl</caption>\n",
       "<thead>\n",
       "\t<tr><th></th><th scope=col>(Intercept)</th><th scope=col>TreatmentOFH</th><th scope=col>scale(weekly_avg_temperature)</th><th scope=col>scale(WOA)</th></tr>\n",
       "</thead>\n",
       "<tbody>\n",
       "\t<tr><th scope=row>1</th><td>1</td><td>1</td><td>-1.2927024</td><td>-1.59405016</td></tr>\n",
       "\t<tr><th scope=row>2</th><td>1</td><td>1</td><td>-1.2090655</td><td>-1.49217888</td></tr>\n",
       "\t<tr><th scope=row>3</th><td>1</td><td>1</td><td>-0.9505517</td><td>-1.39030760</td></tr>\n",
       "\t<tr><th scope=row>4</th><td>1</td><td>1</td><td>-1.1444371</td><td>-1.18656504</td></tr>\n",
       "\t<tr><th scope=row>5</th><td>1</td><td>1</td><td>-1.2889007</td><td>-0.88095120</td></tr>\n",
       "\t<tr><th scope=row>6</th><td>1</td><td>1</td><td>-1.2927024</td><td>-1.59405016</td></tr>\n",
       "\t<tr><th scope=row>7</th><td>1</td><td>1</td><td>-1.2090655</td><td>-1.49217888</td></tr>\n",
       "\t<tr><th scope=row>8</th><td>1</td><td>1</td><td>-0.9505517</td><td>-1.39030760</td></tr>\n",
       "\t<tr><th scope=row>9</th><td>1</td><td>1</td><td>-1.1444371</td><td>-1.18656504</td></tr>\n",
       "\t<tr><th scope=row>10</th><td>1</td><td>1</td><td>-1.2889007</td><td>-0.88095120</td></tr>\n",
       "\t<tr><th scope=row>11</th><td>1</td><td>1</td><td>-0.5703842</td><td>-0.57533736</td></tr>\n",
       "\t<tr><th scope=row>12</th><td>1</td><td>1</td><td> 0.4294562</td><td>-0.37159480</td></tr>\n",
       "\t<tr><th scope=row>13</th><td>1</td><td>1</td><td> 0.1063138</td><td>-0.26972352</td></tr>\n",
       "\t<tr><th scope=row>14</th><td>1</td><td>1</td><td>-0.1826134</td><td>-0.16785224</td></tr>\n",
       "\t<tr><th scope=row>15</th><td>1</td><td>1</td><td>-0.3270771</td><td>-0.06598095</td></tr>\n",
       "\t<tr><th scope=row>16</th><td>1</td><td>1</td><td>-0.5209625</td><td> 0.03589033</td></tr>\n",
       "\t<tr><th scope=row>17</th><td>1</td><td>1</td><td> 0.2583808</td><td> 0.64711801</td></tr>\n",
       "\t<tr><th scope=row>18</th><td>1</td><td>1</td><td> 0.6385483</td><td> 0.74898929</td></tr>\n",
       "\t<tr><th scope=row>19</th><td>1</td><td>1</td><td> 0.2900614</td><td> 0.85086057</td></tr>\n",
       "\t<tr><th scope=row>20</th><td>1</td><td>1</td><td> 1.5775619</td><td> 1.15647441</td></tr>\n",
       "\t<tr><th scope=row>21</th><td>1</td><td>1</td><td> 1.6117769</td><td> 1.66583081</td></tr>\n",
       "\t<tr><th scope=row>22</th><td>1</td><td>1</td><td> 1.9919444</td><td> 1.76770209</td></tr>\n",
       "\t<tr><th scope=row>23</th><td>1</td><td>1</td><td>-1.2927024</td><td>-1.59405016</td></tr>\n",
       "\t<tr><th scope=row>24</th><td>1</td><td>1</td><td>-1.2090655</td><td>-1.49217888</td></tr>\n",
       "\t<tr><th scope=row>25</th><td>1</td><td>1</td><td>-1.1444371</td><td>-1.18656504</td></tr>\n",
       "\t<tr><th scope=row>26</th><td>1</td><td>1</td><td>-1.2889007</td><td>-0.88095120</td></tr>\n",
       "\t<tr><th scope=row>27</th><td>1</td><td>1</td><td>-0.5703842</td><td>-0.57533736</td></tr>\n",
       "\t<tr><th scope=row>28</th><td>1</td><td>1</td><td> 0.4294562</td><td>-0.37159480</td></tr>\n",
       "\t<tr><th scope=row>29</th><td>1</td><td>1</td><td>-0.1826134</td><td>-0.16785224</td></tr>\n",
       "\t<tr><th scope=row>30</th><td>1</td><td>1</td><td>-0.3270771</td><td>-0.06598095</td></tr>\n",
       "\t<tr><th scope=row>...</th><td>...</td><td>...</td><td>...</td><td>...</td></tr>\n",
       "\t<tr><th scope=row>2676</th><td>1</td><td>1</td><td>-0.95055167</td><td>-1.39030760</td></tr>\n",
       "\t<tr><th scope=row>2677</th><td>1</td><td>1</td><td>-1.14443707</td><td>-1.18656504</td></tr>\n",
       "\t<tr><th scope=row>2678</th><td>1</td><td>1</td><td>-1.28890070</td><td>-0.88095120</td></tr>\n",
       "\t<tr><th scope=row>2679</th><td>1</td><td>1</td><td>-0.57038422</td><td>-0.57533736</td></tr>\n",
       "\t<tr><th scope=row>2680</th><td>1</td><td>1</td><td> 0.42945617</td><td>-0.37159480</td></tr>\n",
       "\t<tr><th scope=row>2681</th><td>1</td><td>1</td><td>-0.18261342</td><td>-0.16785224</td></tr>\n",
       "\t<tr><th scope=row>2682</th><td>1</td><td>1</td><td>-0.32707705</td><td>-0.06598095</td></tr>\n",
       "\t<tr><th scope=row>2683</th><td>1</td><td>1</td><td>-0.52096245</td><td> 0.03589033</td></tr>\n",
       "\t<tr><th scope=row>2684</th><td>1</td><td>1</td><td> 0.20135570</td><td> 0.23963289</td></tr>\n",
       "\t<tr><th scope=row>2685</th><td>1</td><td>1</td><td> 1.15937767</td><td> 0.54524673</td></tr>\n",
       "\t<tr><th scope=row>2686</th><td>1</td><td>1</td><td> 0.25838082</td><td> 0.64711801</td></tr>\n",
       "\t<tr><th scope=row>2687</th><td>1</td><td>1</td><td> 0.63854827</td><td> 0.74898929</td></tr>\n",
       "\t<tr><th scope=row>2688</th><td>1</td><td>1</td><td> 0.29006144</td><td> 0.85086057</td></tr>\n",
       "\t<tr><th scope=row>2689</th><td>1</td><td>1</td><td> 1.57756187</td><td> 1.15647441</td></tr>\n",
       "\t<tr><th scope=row>2690</th><td>1</td><td>1</td><td> 1.61177694</td><td> 1.66583081</td></tr>\n",
       "\t<tr><th scope=row>2691</th><td>1</td><td>1</td><td> 1.99194439</td><td> 1.76770209</td></tr>\n",
       "\t<tr><th scope=row>2692</th><td>1</td><td>1</td><td>-1.29270237</td><td>-1.59405016</td></tr>\n",
       "\t<tr><th scope=row>2693</th><td>1</td><td>1</td><td>-1.20906554</td><td>-1.49217888</td></tr>\n",
       "\t<tr><th scope=row>2694</th><td>1</td><td>1</td><td>-0.95055167</td><td>-1.39030760</td></tr>\n",
       "\t<tr><th scope=row>2695</th><td>1</td><td>1</td><td>-1.14443707</td><td>-1.18656504</td></tr>\n",
       "\t<tr><th scope=row>2696</th><td>1</td><td>1</td><td>-1.28890070</td><td>-0.88095120</td></tr>\n",
       "\t<tr><th scope=row>2697</th><td>1</td><td>1</td><td>-0.57038422</td><td>-0.57533736</td></tr>\n",
       "\t<tr><th scope=row>2698</th><td>1</td><td>1</td><td> 0.42945617</td><td>-0.37159480</td></tr>\n",
       "\t<tr><th scope=row>2699</th><td>1</td><td>1</td><td> 0.10631384</td><td>-0.26972352</td></tr>\n",
       "\t<tr><th scope=row>2700</th><td>1</td><td>1</td><td>-0.18261342</td><td>-0.16785224</td></tr>\n",
       "\t<tr><th scope=row>2701</th><td>1</td><td>1</td><td>-0.32707705</td><td>-0.06598095</td></tr>\n",
       "\t<tr><th scope=row>2702</th><td>1</td><td>1</td><td>-0.52096245</td><td> 0.03589033</td></tr>\n",
       "\t<tr><th scope=row>2703</th><td>1</td><td>1</td><td> 0.04928872</td><td> 0.44337545</td></tr>\n",
       "\t<tr><th scope=row>2704</th><td>1</td><td>1</td><td> 0.63854827</td><td> 0.74898929</td></tr>\n",
       "\t<tr><th scope=row>2705</th><td>1</td><td>1</td><td> 0.29006144</td><td> 0.85086057</td></tr>\n",
       "</tbody>\n",
       "</table>\n"
      ],
      "text/latex": [
       "A matrix: 2705 × 4 of type dbl\n",
       "\\begin{tabular}{r|llll}\n",
       "  & (Intercept) & TreatmentOFH & scale(weekly\\_avg\\_temperature) & scale(WOA)\\\\\n",
       "\\hline\n",
       "\t1 & 1 & 1 & -1.2927024 & -1.59405016\\\\\n",
       "\t2 & 1 & 1 & -1.2090655 & -1.49217888\\\\\n",
       "\t3 & 1 & 1 & -0.9505517 & -1.39030760\\\\\n",
       "\t4 & 1 & 1 & -1.1444371 & -1.18656504\\\\\n",
       "\t5 & 1 & 1 & -1.2889007 & -0.88095120\\\\\n",
       "\t6 & 1 & 1 & -1.2927024 & -1.59405016\\\\\n",
       "\t7 & 1 & 1 & -1.2090655 & -1.49217888\\\\\n",
       "\t8 & 1 & 1 & -0.9505517 & -1.39030760\\\\\n",
       "\t9 & 1 & 1 & -1.1444371 & -1.18656504\\\\\n",
       "\t10 & 1 & 1 & -1.2889007 & -0.88095120\\\\\n",
       "\t11 & 1 & 1 & -0.5703842 & -0.57533736\\\\\n",
       "\t12 & 1 & 1 &  0.4294562 & -0.37159480\\\\\n",
       "\t13 & 1 & 1 &  0.1063138 & -0.26972352\\\\\n",
       "\t14 & 1 & 1 & -0.1826134 & -0.16785224\\\\\n",
       "\t15 & 1 & 1 & -0.3270771 & -0.06598095\\\\\n",
       "\t16 & 1 & 1 & -0.5209625 &  0.03589033\\\\\n",
       "\t17 & 1 & 1 &  0.2583808 &  0.64711801\\\\\n",
       "\t18 & 1 & 1 &  0.6385483 &  0.74898929\\\\\n",
       "\t19 & 1 & 1 &  0.2900614 &  0.85086057\\\\\n",
       "\t20 & 1 & 1 &  1.5775619 &  1.15647441\\\\\n",
       "\t21 & 1 & 1 &  1.6117769 &  1.66583081\\\\\n",
       "\t22 & 1 & 1 &  1.9919444 &  1.76770209\\\\\n",
       "\t23 & 1 & 1 & -1.2927024 & -1.59405016\\\\\n",
       "\t24 & 1 & 1 & -1.2090655 & -1.49217888\\\\\n",
       "\t25 & 1 & 1 & -1.1444371 & -1.18656504\\\\\n",
       "\t26 & 1 & 1 & -1.2889007 & -0.88095120\\\\\n",
       "\t27 & 1 & 1 & -0.5703842 & -0.57533736\\\\\n",
       "\t28 & 1 & 1 &  0.4294562 & -0.37159480\\\\\n",
       "\t29 & 1 & 1 & -0.1826134 & -0.16785224\\\\\n",
       "\t30 & 1 & 1 & -0.3270771 & -0.06598095\\\\\n",
       "\t... & ... & ... & ... & ...\\\\\n",
       "\t2676 & 1 & 1 & -0.95055167 & -1.39030760\\\\\n",
       "\t2677 & 1 & 1 & -1.14443707 & -1.18656504\\\\\n",
       "\t2678 & 1 & 1 & -1.28890070 & -0.88095120\\\\\n",
       "\t2679 & 1 & 1 & -0.57038422 & -0.57533736\\\\\n",
       "\t2680 & 1 & 1 &  0.42945617 & -0.37159480\\\\\n",
       "\t2681 & 1 & 1 & -0.18261342 & -0.16785224\\\\\n",
       "\t2682 & 1 & 1 & -0.32707705 & -0.06598095\\\\\n",
       "\t2683 & 1 & 1 & -0.52096245 &  0.03589033\\\\\n",
       "\t2684 & 1 & 1 &  0.20135570 &  0.23963289\\\\\n",
       "\t2685 & 1 & 1 &  1.15937767 &  0.54524673\\\\\n",
       "\t2686 & 1 & 1 &  0.25838082 &  0.64711801\\\\\n",
       "\t2687 & 1 & 1 &  0.63854827 &  0.74898929\\\\\n",
       "\t2688 & 1 & 1 &  0.29006144 &  0.85086057\\\\\n",
       "\t2689 & 1 & 1 &  1.57756187 &  1.15647441\\\\\n",
       "\t2690 & 1 & 1 &  1.61177694 &  1.66583081\\\\\n",
       "\t2691 & 1 & 1 &  1.99194439 &  1.76770209\\\\\n",
       "\t2692 & 1 & 1 & -1.29270237 & -1.59405016\\\\\n",
       "\t2693 & 1 & 1 & -1.20906554 & -1.49217888\\\\\n",
       "\t2694 & 1 & 1 & -0.95055167 & -1.39030760\\\\\n",
       "\t2695 & 1 & 1 & -1.14443707 & -1.18656504\\\\\n",
       "\t2696 & 1 & 1 & -1.28890070 & -0.88095120\\\\\n",
       "\t2697 & 1 & 1 & -0.57038422 & -0.57533736\\\\\n",
       "\t2698 & 1 & 1 &  0.42945617 & -0.37159480\\\\\n",
       "\t2699 & 1 & 1 &  0.10631384 & -0.26972352\\\\\n",
       "\t2700 & 1 & 1 & -0.18261342 & -0.16785224\\\\\n",
       "\t2701 & 1 & 1 & -0.32707705 & -0.06598095\\\\\n",
       "\t2702 & 1 & 1 & -0.52096245 &  0.03589033\\\\\n",
       "\t2703 & 1 & 1 &  0.04928872 &  0.44337545\\\\\n",
       "\t2704 & 1 & 1 &  0.63854827 &  0.74898929\\\\\n",
       "\t2705 & 1 & 1 &  0.29006144 &  0.85086057\\\\\n",
       "\\end{tabular}\n"
      ],
      "text/markdown": [
       "\n",
       "A matrix: 2705 × 4 of type dbl\n",
       "\n",
       "| <!--/--> | (Intercept) | TreatmentOFH | scale(weekly_avg_temperature) | scale(WOA) |\n",
       "|---|---|---|---|---|\n",
       "| 1 | 1 | 1 | -1.2927024 | -1.59405016 |\n",
       "| 2 | 1 | 1 | -1.2090655 | -1.49217888 |\n",
       "| 3 | 1 | 1 | -0.9505517 | -1.39030760 |\n",
       "| 4 | 1 | 1 | -1.1444371 | -1.18656504 |\n",
       "| 5 | 1 | 1 | -1.2889007 | -0.88095120 |\n",
       "| 6 | 1 | 1 | -1.2927024 | -1.59405016 |\n",
       "| 7 | 1 | 1 | -1.2090655 | -1.49217888 |\n",
       "| 8 | 1 | 1 | -0.9505517 | -1.39030760 |\n",
       "| 9 | 1 | 1 | -1.1444371 | -1.18656504 |\n",
       "| 10 | 1 | 1 | -1.2889007 | -0.88095120 |\n",
       "| 11 | 1 | 1 | -0.5703842 | -0.57533736 |\n",
       "| 12 | 1 | 1 |  0.4294562 | -0.37159480 |\n",
       "| 13 | 1 | 1 |  0.1063138 | -0.26972352 |\n",
       "| 14 | 1 | 1 | -0.1826134 | -0.16785224 |\n",
       "| 15 | 1 | 1 | -0.3270771 | -0.06598095 |\n",
       "| 16 | 1 | 1 | -0.5209625 |  0.03589033 |\n",
       "| 17 | 1 | 1 |  0.2583808 |  0.64711801 |\n",
       "| 18 | 1 | 1 |  0.6385483 |  0.74898929 |\n",
       "| 19 | 1 | 1 |  0.2900614 |  0.85086057 |\n",
       "| 20 | 1 | 1 |  1.5775619 |  1.15647441 |\n",
       "| 21 | 1 | 1 |  1.6117769 |  1.66583081 |\n",
       "| 22 | 1 | 1 |  1.9919444 |  1.76770209 |\n",
       "| 23 | 1 | 1 | -1.2927024 | -1.59405016 |\n",
       "| 24 | 1 | 1 | -1.2090655 | -1.49217888 |\n",
       "| 25 | 1 | 1 | -1.1444371 | -1.18656504 |\n",
       "| 26 | 1 | 1 | -1.2889007 | -0.88095120 |\n",
       "| 27 | 1 | 1 | -0.5703842 | -0.57533736 |\n",
       "| 28 | 1 | 1 |  0.4294562 | -0.37159480 |\n",
       "| 29 | 1 | 1 | -0.1826134 | -0.16785224 |\n",
       "| 30 | 1 | 1 | -0.3270771 | -0.06598095 |\n",
       "| ... | ... | ... | ... | ... |\n",
       "| 2676 | 1 | 1 | -0.95055167 | -1.39030760 |\n",
       "| 2677 | 1 | 1 | -1.14443707 | -1.18656504 |\n",
       "| 2678 | 1 | 1 | -1.28890070 | -0.88095120 |\n",
       "| 2679 | 1 | 1 | -0.57038422 | -0.57533736 |\n",
       "| 2680 | 1 | 1 |  0.42945617 | -0.37159480 |\n",
       "| 2681 | 1 | 1 | -0.18261342 | -0.16785224 |\n",
       "| 2682 | 1 | 1 | -0.32707705 | -0.06598095 |\n",
       "| 2683 | 1 | 1 | -0.52096245 |  0.03589033 |\n",
       "| 2684 | 1 | 1 |  0.20135570 |  0.23963289 |\n",
       "| 2685 | 1 | 1 |  1.15937767 |  0.54524673 |\n",
       "| 2686 | 1 | 1 |  0.25838082 |  0.64711801 |\n",
       "| 2687 | 1 | 1 |  0.63854827 |  0.74898929 |\n",
       "| 2688 | 1 | 1 |  0.29006144 |  0.85086057 |\n",
       "| 2689 | 1 | 1 |  1.57756187 |  1.15647441 |\n",
       "| 2690 | 1 | 1 |  1.61177694 |  1.66583081 |\n",
       "| 2691 | 1 | 1 |  1.99194439 |  1.76770209 |\n",
       "| 2692 | 1 | 1 | -1.29270237 | -1.59405016 |\n",
       "| 2693 | 1 | 1 | -1.20906554 | -1.49217888 |\n",
       "| 2694 | 1 | 1 | -0.95055167 | -1.39030760 |\n",
       "| 2695 | 1 | 1 | -1.14443707 | -1.18656504 |\n",
       "| 2696 | 1 | 1 | -1.28890070 | -0.88095120 |\n",
       "| 2697 | 1 | 1 | -0.57038422 | -0.57533736 |\n",
       "| 2698 | 1 | 1 |  0.42945617 | -0.37159480 |\n",
       "| 2699 | 1 | 1 |  0.10631384 | -0.26972352 |\n",
       "| 2700 | 1 | 1 | -0.18261342 | -0.16785224 |\n",
       "| 2701 | 1 | 1 | -0.32707705 | -0.06598095 |\n",
       "| 2702 | 1 | 1 | -0.52096245 |  0.03589033 |\n",
       "| 2703 | 1 | 1 |  0.04928872 |  0.44337545 |\n",
       "| 2704 | 1 | 1 |  0.63854827 |  0.74898929 |\n",
       "| 2705 | 1 | 1 |  0.29006144 |  0.85086057 |\n",
       "\n"
      ],
      "text/plain": [
       "     (Intercept) TreatmentOFH scale(weekly_avg_temperature) scale(WOA) \n",
       "1    1           1            -1.2927024                    -1.59405016\n",
       "2    1           1            -1.2090655                    -1.49217888\n",
       "3    1           1            -0.9505517                    -1.39030760\n",
       "4    1           1            -1.1444371                    -1.18656504\n",
       "5    1           1            -1.2889007                    -0.88095120\n",
       "6    1           1            -1.2927024                    -1.59405016\n",
       "7    1           1            -1.2090655                    -1.49217888\n",
       "8    1           1            -0.9505517                    -1.39030760\n",
       "9    1           1            -1.1444371                    -1.18656504\n",
       "10   1           1            -1.2889007                    -0.88095120\n",
       "11   1           1            -0.5703842                    -0.57533736\n",
       "12   1           1             0.4294562                    -0.37159480\n",
       "13   1           1             0.1063138                    -0.26972352\n",
       "14   1           1            -0.1826134                    -0.16785224\n",
       "15   1           1            -0.3270771                    -0.06598095\n",
       "16   1           1            -0.5209625                     0.03589033\n",
       "17   1           1             0.2583808                     0.64711801\n",
       "18   1           1             0.6385483                     0.74898929\n",
       "19   1           1             0.2900614                     0.85086057\n",
       "20   1           1             1.5775619                     1.15647441\n",
       "21   1           1             1.6117769                     1.66583081\n",
       "22   1           1             1.9919444                     1.76770209\n",
       "23   1           1            -1.2927024                    -1.59405016\n",
       "24   1           1            -1.2090655                    -1.49217888\n",
       "25   1           1            -1.1444371                    -1.18656504\n",
       "26   1           1            -1.2889007                    -0.88095120\n",
       "27   1           1            -0.5703842                    -0.57533736\n",
       "28   1           1             0.4294562                    -0.37159480\n",
       "29   1           1            -0.1826134                    -0.16785224\n",
       "30   1           1            -0.3270771                    -0.06598095\n",
       "...  ...         ...          ...                           ...        \n",
       "2676 1           1            -0.95055167                   -1.39030760\n",
       "2677 1           1            -1.14443707                   -1.18656504\n",
       "2678 1           1            -1.28890070                   -0.88095120\n",
       "2679 1           1            -0.57038422                   -0.57533736\n",
       "2680 1           1             0.42945617                   -0.37159480\n",
       "2681 1           1            -0.18261342                   -0.16785224\n",
       "2682 1           1            -0.32707705                   -0.06598095\n",
       "2683 1           1            -0.52096245                    0.03589033\n",
       "2684 1           1             0.20135570                    0.23963289\n",
       "2685 1           1             1.15937767                    0.54524673\n",
       "2686 1           1             0.25838082                    0.64711801\n",
       "2687 1           1             0.63854827                    0.74898929\n",
       "2688 1           1             0.29006144                    0.85086057\n",
       "2689 1           1             1.57756187                    1.15647441\n",
       "2690 1           1             1.61177694                    1.66583081\n",
       "2691 1           1             1.99194439                    1.76770209\n",
       "2692 1           1            -1.29270237                   -1.59405016\n",
       "2693 1           1            -1.20906554                   -1.49217888\n",
       "2694 1           1            -0.95055167                   -1.39030760\n",
       "2695 1           1            -1.14443707                   -1.18656504\n",
       "2696 1           1            -1.28890070                   -0.88095120\n",
       "2697 1           1            -0.57038422                   -0.57533736\n",
       "2698 1           1             0.42945617                   -0.37159480\n",
       "2699 1           1             0.10631384                   -0.26972352\n",
       "2700 1           1            -0.18261342                   -0.16785224\n",
       "2701 1           1            -0.32707705                   -0.06598095\n",
       "2702 1           1            -0.52096245                    0.03589033\n",
       "2703 1           1             0.04928872                    0.44337545\n",
       "2704 1           1             0.63854827                    0.74898929\n",
       "2705 1           1             0.29006144                    0.85086057"
      ]
     },
     "metadata": {},
     "output_type": "display_data"
    }
   ],
   "source": [
    "model.matrix(STDtimeNBmodADMBf)"
   ]
  },
  {
   "cell_type": "code",
   "execution_count": 37,
   "id": "c0e227c8",
   "metadata": {
    "scrolled": true
   },
   "outputs": [
    {
     "data": {
      "text/html": [
       "<table class=\"dataframe\">\n",
       "<caption>A matrix: 2705 × 4 of type dbl</caption>\n",
       "<thead>\n",
       "\t<tr><th></th><th scope=col>(Intercept)</th><th scope=col>TreatmentOFH</th><th scope=col>scale(weekly_avg_temperature)</th><th scope=col>scale(WOA)</th></tr>\n",
       "</thead>\n",
       "<tbody>\n",
       "\t<tr><th scope=row>1</th><td>1</td><td>1</td><td>-1.2927024</td><td>-1.59405016</td></tr>\n",
       "\t<tr><th scope=row>2</th><td>1</td><td>1</td><td>-1.2090655</td><td>-1.49217888</td></tr>\n",
       "\t<tr><th scope=row>3</th><td>1</td><td>1</td><td>-0.9505517</td><td>-1.39030760</td></tr>\n",
       "\t<tr><th scope=row>4</th><td>1</td><td>1</td><td>-1.1444371</td><td>-1.18656504</td></tr>\n",
       "\t<tr><th scope=row>5</th><td>1</td><td>1</td><td>-1.2889007</td><td>-0.88095120</td></tr>\n",
       "\t<tr><th scope=row>6</th><td>1</td><td>1</td><td>-1.2927024</td><td>-1.59405016</td></tr>\n",
       "\t<tr><th scope=row>7</th><td>1</td><td>1</td><td>-1.2090655</td><td>-1.49217888</td></tr>\n",
       "\t<tr><th scope=row>8</th><td>1</td><td>1</td><td>-0.9505517</td><td>-1.39030760</td></tr>\n",
       "\t<tr><th scope=row>9</th><td>1</td><td>1</td><td>-1.1444371</td><td>-1.18656504</td></tr>\n",
       "\t<tr><th scope=row>10</th><td>1</td><td>1</td><td>-1.2889007</td><td>-0.88095120</td></tr>\n",
       "\t<tr><th scope=row>11</th><td>1</td><td>1</td><td>-0.5703842</td><td>-0.57533736</td></tr>\n",
       "\t<tr><th scope=row>12</th><td>1</td><td>1</td><td> 0.4294562</td><td>-0.37159480</td></tr>\n",
       "\t<tr><th scope=row>13</th><td>1</td><td>1</td><td> 0.1063138</td><td>-0.26972352</td></tr>\n",
       "\t<tr><th scope=row>14</th><td>1</td><td>1</td><td>-0.1826134</td><td>-0.16785224</td></tr>\n",
       "\t<tr><th scope=row>15</th><td>1</td><td>1</td><td>-0.3270771</td><td>-0.06598095</td></tr>\n",
       "\t<tr><th scope=row>16</th><td>1</td><td>1</td><td>-0.5209625</td><td> 0.03589033</td></tr>\n",
       "\t<tr><th scope=row>17</th><td>1</td><td>1</td><td> 0.2583808</td><td> 0.64711801</td></tr>\n",
       "\t<tr><th scope=row>18</th><td>1</td><td>1</td><td> 0.6385483</td><td> 0.74898929</td></tr>\n",
       "\t<tr><th scope=row>19</th><td>1</td><td>1</td><td> 0.2900614</td><td> 0.85086057</td></tr>\n",
       "\t<tr><th scope=row>20</th><td>1</td><td>1</td><td> 1.5775619</td><td> 1.15647441</td></tr>\n",
       "\t<tr><th scope=row>21</th><td>1</td><td>1</td><td> 1.6117769</td><td> 1.66583081</td></tr>\n",
       "\t<tr><th scope=row>22</th><td>1</td><td>1</td><td> 1.9919444</td><td> 1.76770209</td></tr>\n",
       "\t<tr><th scope=row>23</th><td>1</td><td>1</td><td>-1.2927024</td><td>-1.59405016</td></tr>\n",
       "\t<tr><th scope=row>24</th><td>1</td><td>1</td><td>-1.2090655</td><td>-1.49217888</td></tr>\n",
       "\t<tr><th scope=row>25</th><td>1</td><td>1</td><td>-1.1444371</td><td>-1.18656504</td></tr>\n",
       "\t<tr><th scope=row>26</th><td>1</td><td>1</td><td>-1.2889007</td><td>-0.88095120</td></tr>\n",
       "\t<tr><th scope=row>27</th><td>1</td><td>1</td><td>-0.5703842</td><td>-0.57533736</td></tr>\n",
       "\t<tr><th scope=row>28</th><td>1</td><td>1</td><td> 0.4294562</td><td>-0.37159480</td></tr>\n",
       "\t<tr><th scope=row>29</th><td>1</td><td>1</td><td>-0.1826134</td><td>-0.16785224</td></tr>\n",
       "\t<tr><th scope=row>30</th><td>1</td><td>1</td><td>-0.3270771</td><td>-0.06598095</td></tr>\n",
       "\t<tr><th scope=row>...</th><td>...</td><td>...</td><td>...</td><td>...</td></tr>\n",
       "\t<tr><th scope=row>2676</th><td>1</td><td>1</td><td>-0.95055167</td><td>-1.39030760</td></tr>\n",
       "\t<tr><th scope=row>2677</th><td>1</td><td>1</td><td>-1.14443707</td><td>-1.18656504</td></tr>\n",
       "\t<tr><th scope=row>2678</th><td>1</td><td>1</td><td>-1.28890070</td><td>-0.88095120</td></tr>\n",
       "\t<tr><th scope=row>2679</th><td>1</td><td>1</td><td>-0.57038422</td><td>-0.57533736</td></tr>\n",
       "\t<tr><th scope=row>2680</th><td>1</td><td>1</td><td> 0.42945617</td><td>-0.37159480</td></tr>\n",
       "\t<tr><th scope=row>2681</th><td>1</td><td>1</td><td>-0.18261342</td><td>-0.16785224</td></tr>\n",
       "\t<tr><th scope=row>2682</th><td>1</td><td>1</td><td>-0.32707705</td><td>-0.06598095</td></tr>\n",
       "\t<tr><th scope=row>2683</th><td>1</td><td>1</td><td>-0.52096245</td><td> 0.03589033</td></tr>\n",
       "\t<tr><th scope=row>2684</th><td>1</td><td>1</td><td> 0.20135570</td><td> 0.23963289</td></tr>\n",
       "\t<tr><th scope=row>2685</th><td>1</td><td>1</td><td> 1.15937767</td><td> 0.54524673</td></tr>\n",
       "\t<tr><th scope=row>2686</th><td>1</td><td>1</td><td> 0.25838082</td><td> 0.64711801</td></tr>\n",
       "\t<tr><th scope=row>2687</th><td>1</td><td>1</td><td> 0.63854827</td><td> 0.74898929</td></tr>\n",
       "\t<tr><th scope=row>2688</th><td>1</td><td>1</td><td> 0.29006144</td><td> 0.85086057</td></tr>\n",
       "\t<tr><th scope=row>2689</th><td>1</td><td>1</td><td> 1.57756187</td><td> 1.15647441</td></tr>\n",
       "\t<tr><th scope=row>2690</th><td>1</td><td>1</td><td> 1.61177694</td><td> 1.66583081</td></tr>\n",
       "\t<tr><th scope=row>2691</th><td>1</td><td>1</td><td> 1.99194439</td><td> 1.76770209</td></tr>\n",
       "\t<tr><th scope=row>2692</th><td>1</td><td>1</td><td>-1.29270237</td><td>-1.59405016</td></tr>\n",
       "\t<tr><th scope=row>2693</th><td>1</td><td>1</td><td>-1.20906554</td><td>-1.49217888</td></tr>\n",
       "\t<tr><th scope=row>2694</th><td>1</td><td>1</td><td>-0.95055167</td><td>-1.39030760</td></tr>\n",
       "\t<tr><th scope=row>2695</th><td>1</td><td>1</td><td>-1.14443707</td><td>-1.18656504</td></tr>\n",
       "\t<tr><th scope=row>2696</th><td>1</td><td>1</td><td>-1.28890070</td><td>-0.88095120</td></tr>\n",
       "\t<tr><th scope=row>2697</th><td>1</td><td>1</td><td>-0.57038422</td><td>-0.57533736</td></tr>\n",
       "\t<tr><th scope=row>2698</th><td>1</td><td>1</td><td> 0.42945617</td><td>-0.37159480</td></tr>\n",
       "\t<tr><th scope=row>2699</th><td>1</td><td>1</td><td> 0.10631384</td><td>-0.26972352</td></tr>\n",
       "\t<tr><th scope=row>2700</th><td>1</td><td>1</td><td>-0.18261342</td><td>-0.16785224</td></tr>\n",
       "\t<tr><th scope=row>2701</th><td>1</td><td>1</td><td>-0.32707705</td><td>-0.06598095</td></tr>\n",
       "\t<tr><th scope=row>2702</th><td>1</td><td>1</td><td>-0.52096245</td><td> 0.03589033</td></tr>\n",
       "\t<tr><th scope=row>2703</th><td>1</td><td>1</td><td> 0.04928872</td><td> 0.44337545</td></tr>\n",
       "\t<tr><th scope=row>2704</th><td>1</td><td>1</td><td> 0.63854827</td><td> 0.74898929</td></tr>\n",
       "\t<tr><th scope=row>2705</th><td>1</td><td>1</td><td> 0.29006144</td><td> 0.85086057</td></tr>\n",
       "</tbody>\n",
       "</table>\n"
      ],
      "text/latex": [
       "A matrix: 2705 × 4 of type dbl\n",
       "\\begin{tabular}{r|llll}\n",
       "  & (Intercept) & TreatmentOFH & scale(weekly\\_avg\\_temperature) & scale(WOA)\\\\\n",
       "\\hline\n",
       "\t1 & 1 & 1 & -1.2927024 & -1.59405016\\\\\n",
       "\t2 & 1 & 1 & -1.2090655 & -1.49217888\\\\\n",
       "\t3 & 1 & 1 & -0.9505517 & -1.39030760\\\\\n",
       "\t4 & 1 & 1 & -1.1444371 & -1.18656504\\\\\n",
       "\t5 & 1 & 1 & -1.2889007 & -0.88095120\\\\\n",
       "\t6 & 1 & 1 & -1.2927024 & -1.59405016\\\\\n",
       "\t7 & 1 & 1 & -1.2090655 & -1.49217888\\\\\n",
       "\t8 & 1 & 1 & -0.9505517 & -1.39030760\\\\\n",
       "\t9 & 1 & 1 & -1.1444371 & -1.18656504\\\\\n",
       "\t10 & 1 & 1 & -1.2889007 & -0.88095120\\\\\n",
       "\t11 & 1 & 1 & -0.5703842 & -0.57533736\\\\\n",
       "\t12 & 1 & 1 &  0.4294562 & -0.37159480\\\\\n",
       "\t13 & 1 & 1 &  0.1063138 & -0.26972352\\\\\n",
       "\t14 & 1 & 1 & -0.1826134 & -0.16785224\\\\\n",
       "\t15 & 1 & 1 & -0.3270771 & -0.06598095\\\\\n",
       "\t16 & 1 & 1 & -0.5209625 &  0.03589033\\\\\n",
       "\t17 & 1 & 1 &  0.2583808 &  0.64711801\\\\\n",
       "\t18 & 1 & 1 &  0.6385483 &  0.74898929\\\\\n",
       "\t19 & 1 & 1 &  0.2900614 &  0.85086057\\\\\n",
       "\t20 & 1 & 1 &  1.5775619 &  1.15647441\\\\\n",
       "\t21 & 1 & 1 &  1.6117769 &  1.66583081\\\\\n",
       "\t22 & 1 & 1 &  1.9919444 &  1.76770209\\\\\n",
       "\t23 & 1 & 1 & -1.2927024 & -1.59405016\\\\\n",
       "\t24 & 1 & 1 & -1.2090655 & -1.49217888\\\\\n",
       "\t25 & 1 & 1 & -1.1444371 & -1.18656504\\\\\n",
       "\t26 & 1 & 1 & -1.2889007 & -0.88095120\\\\\n",
       "\t27 & 1 & 1 & -0.5703842 & -0.57533736\\\\\n",
       "\t28 & 1 & 1 &  0.4294562 & -0.37159480\\\\\n",
       "\t29 & 1 & 1 & -0.1826134 & -0.16785224\\\\\n",
       "\t30 & 1 & 1 & -0.3270771 & -0.06598095\\\\\n",
       "\t... & ... & ... & ... & ...\\\\\n",
       "\t2676 & 1 & 1 & -0.95055167 & -1.39030760\\\\\n",
       "\t2677 & 1 & 1 & -1.14443707 & -1.18656504\\\\\n",
       "\t2678 & 1 & 1 & -1.28890070 & -0.88095120\\\\\n",
       "\t2679 & 1 & 1 & -0.57038422 & -0.57533736\\\\\n",
       "\t2680 & 1 & 1 &  0.42945617 & -0.37159480\\\\\n",
       "\t2681 & 1 & 1 & -0.18261342 & -0.16785224\\\\\n",
       "\t2682 & 1 & 1 & -0.32707705 & -0.06598095\\\\\n",
       "\t2683 & 1 & 1 & -0.52096245 &  0.03589033\\\\\n",
       "\t2684 & 1 & 1 &  0.20135570 &  0.23963289\\\\\n",
       "\t2685 & 1 & 1 &  1.15937767 &  0.54524673\\\\\n",
       "\t2686 & 1 & 1 &  0.25838082 &  0.64711801\\\\\n",
       "\t2687 & 1 & 1 &  0.63854827 &  0.74898929\\\\\n",
       "\t2688 & 1 & 1 &  0.29006144 &  0.85086057\\\\\n",
       "\t2689 & 1 & 1 &  1.57756187 &  1.15647441\\\\\n",
       "\t2690 & 1 & 1 &  1.61177694 &  1.66583081\\\\\n",
       "\t2691 & 1 & 1 &  1.99194439 &  1.76770209\\\\\n",
       "\t2692 & 1 & 1 & -1.29270237 & -1.59405016\\\\\n",
       "\t2693 & 1 & 1 & -1.20906554 & -1.49217888\\\\\n",
       "\t2694 & 1 & 1 & -0.95055167 & -1.39030760\\\\\n",
       "\t2695 & 1 & 1 & -1.14443707 & -1.18656504\\\\\n",
       "\t2696 & 1 & 1 & -1.28890070 & -0.88095120\\\\\n",
       "\t2697 & 1 & 1 & -0.57038422 & -0.57533736\\\\\n",
       "\t2698 & 1 & 1 &  0.42945617 & -0.37159480\\\\\n",
       "\t2699 & 1 & 1 &  0.10631384 & -0.26972352\\\\\n",
       "\t2700 & 1 & 1 & -0.18261342 & -0.16785224\\\\\n",
       "\t2701 & 1 & 1 & -0.32707705 & -0.06598095\\\\\n",
       "\t2702 & 1 & 1 & -0.52096245 &  0.03589033\\\\\n",
       "\t2703 & 1 & 1 &  0.04928872 &  0.44337545\\\\\n",
       "\t2704 & 1 & 1 &  0.63854827 &  0.74898929\\\\\n",
       "\t2705 & 1 & 1 &  0.29006144 &  0.85086057\\\\\n",
       "\\end{tabular}\n"
      ],
      "text/markdown": [
       "\n",
       "A matrix: 2705 × 4 of type dbl\n",
       "\n",
       "| <!--/--> | (Intercept) | TreatmentOFH | scale(weekly_avg_temperature) | scale(WOA) |\n",
       "|---|---|---|---|---|\n",
       "| 1 | 1 | 1 | -1.2927024 | -1.59405016 |\n",
       "| 2 | 1 | 1 | -1.2090655 | -1.49217888 |\n",
       "| 3 | 1 | 1 | -0.9505517 | -1.39030760 |\n",
       "| 4 | 1 | 1 | -1.1444371 | -1.18656504 |\n",
       "| 5 | 1 | 1 | -1.2889007 | -0.88095120 |\n",
       "| 6 | 1 | 1 | -1.2927024 | -1.59405016 |\n",
       "| 7 | 1 | 1 | -1.2090655 | -1.49217888 |\n",
       "| 8 | 1 | 1 | -0.9505517 | -1.39030760 |\n",
       "| 9 | 1 | 1 | -1.1444371 | -1.18656504 |\n",
       "| 10 | 1 | 1 | -1.2889007 | -0.88095120 |\n",
       "| 11 | 1 | 1 | -0.5703842 | -0.57533736 |\n",
       "| 12 | 1 | 1 |  0.4294562 | -0.37159480 |\n",
       "| 13 | 1 | 1 |  0.1063138 | -0.26972352 |\n",
       "| 14 | 1 | 1 | -0.1826134 | -0.16785224 |\n",
       "| 15 | 1 | 1 | -0.3270771 | -0.06598095 |\n",
       "| 16 | 1 | 1 | -0.5209625 |  0.03589033 |\n",
       "| 17 | 1 | 1 |  0.2583808 |  0.64711801 |\n",
       "| 18 | 1 | 1 |  0.6385483 |  0.74898929 |\n",
       "| 19 | 1 | 1 |  0.2900614 |  0.85086057 |\n",
       "| 20 | 1 | 1 |  1.5775619 |  1.15647441 |\n",
       "| 21 | 1 | 1 |  1.6117769 |  1.66583081 |\n",
       "| 22 | 1 | 1 |  1.9919444 |  1.76770209 |\n",
       "| 23 | 1 | 1 | -1.2927024 | -1.59405016 |\n",
       "| 24 | 1 | 1 | -1.2090655 | -1.49217888 |\n",
       "| 25 | 1 | 1 | -1.1444371 | -1.18656504 |\n",
       "| 26 | 1 | 1 | -1.2889007 | -0.88095120 |\n",
       "| 27 | 1 | 1 | -0.5703842 | -0.57533736 |\n",
       "| 28 | 1 | 1 |  0.4294562 | -0.37159480 |\n",
       "| 29 | 1 | 1 | -0.1826134 | -0.16785224 |\n",
       "| 30 | 1 | 1 | -0.3270771 | -0.06598095 |\n",
       "| ... | ... | ... | ... | ... |\n",
       "| 2676 | 1 | 1 | -0.95055167 | -1.39030760 |\n",
       "| 2677 | 1 | 1 | -1.14443707 | -1.18656504 |\n",
       "| 2678 | 1 | 1 | -1.28890070 | -0.88095120 |\n",
       "| 2679 | 1 | 1 | -0.57038422 | -0.57533736 |\n",
       "| 2680 | 1 | 1 |  0.42945617 | -0.37159480 |\n",
       "| 2681 | 1 | 1 | -0.18261342 | -0.16785224 |\n",
       "| 2682 | 1 | 1 | -0.32707705 | -0.06598095 |\n",
       "| 2683 | 1 | 1 | -0.52096245 |  0.03589033 |\n",
       "| 2684 | 1 | 1 |  0.20135570 |  0.23963289 |\n",
       "| 2685 | 1 | 1 |  1.15937767 |  0.54524673 |\n",
       "| 2686 | 1 | 1 |  0.25838082 |  0.64711801 |\n",
       "| 2687 | 1 | 1 |  0.63854827 |  0.74898929 |\n",
       "| 2688 | 1 | 1 |  0.29006144 |  0.85086057 |\n",
       "| 2689 | 1 | 1 |  1.57756187 |  1.15647441 |\n",
       "| 2690 | 1 | 1 |  1.61177694 |  1.66583081 |\n",
       "| 2691 | 1 | 1 |  1.99194439 |  1.76770209 |\n",
       "| 2692 | 1 | 1 | -1.29270237 | -1.59405016 |\n",
       "| 2693 | 1 | 1 | -1.20906554 | -1.49217888 |\n",
       "| 2694 | 1 | 1 | -0.95055167 | -1.39030760 |\n",
       "| 2695 | 1 | 1 | -1.14443707 | -1.18656504 |\n",
       "| 2696 | 1 | 1 | -1.28890070 | -0.88095120 |\n",
       "| 2697 | 1 | 1 | -0.57038422 | -0.57533736 |\n",
       "| 2698 | 1 | 1 |  0.42945617 | -0.37159480 |\n",
       "| 2699 | 1 | 1 |  0.10631384 | -0.26972352 |\n",
       "| 2700 | 1 | 1 | -0.18261342 | -0.16785224 |\n",
       "| 2701 | 1 | 1 | -0.32707705 | -0.06598095 |\n",
       "| 2702 | 1 | 1 | -0.52096245 |  0.03589033 |\n",
       "| 2703 | 1 | 1 |  0.04928872 |  0.44337545 |\n",
       "| 2704 | 1 | 1 |  0.63854827 |  0.74898929 |\n",
       "| 2705 | 1 | 1 |  0.29006144 |  0.85086057 |\n",
       "\n"
      ],
      "text/plain": [
       "     (Intercept) TreatmentOFH scale(weekly_avg_temperature) scale(WOA) \n",
       "1    1           1            -1.2927024                    -1.59405016\n",
       "2    1           1            -1.2090655                    -1.49217888\n",
       "3    1           1            -0.9505517                    -1.39030760\n",
       "4    1           1            -1.1444371                    -1.18656504\n",
       "5    1           1            -1.2889007                    -0.88095120\n",
       "6    1           1            -1.2927024                    -1.59405016\n",
       "7    1           1            -1.2090655                    -1.49217888\n",
       "8    1           1            -0.9505517                    -1.39030760\n",
       "9    1           1            -1.1444371                    -1.18656504\n",
       "10   1           1            -1.2889007                    -0.88095120\n",
       "11   1           1            -0.5703842                    -0.57533736\n",
       "12   1           1             0.4294562                    -0.37159480\n",
       "13   1           1             0.1063138                    -0.26972352\n",
       "14   1           1            -0.1826134                    -0.16785224\n",
       "15   1           1            -0.3270771                    -0.06598095\n",
       "16   1           1            -0.5209625                     0.03589033\n",
       "17   1           1             0.2583808                     0.64711801\n",
       "18   1           1             0.6385483                     0.74898929\n",
       "19   1           1             0.2900614                     0.85086057\n",
       "20   1           1             1.5775619                     1.15647441\n",
       "21   1           1             1.6117769                     1.66583081\n",
       "22   1           1             1.9919444                     1.76770209\n",
       "23   1           1            -1.2927024                    -1.59405016\n",
       "24   1           1            -1.2090655                    -1.49217888\n",
       "25   1           1            -1.1444371                    -1.18656504\n",
       "26   1           1            -1.2889007                    -0.88095120\n",
       "27   1           1            -0.5703842                    -0.57533736\n",
       "28   1           1             0.4294562                    -0.37159480\n",
       "29   1           1            -0.1826134                    -0.16785224\n",
       "30   1           1            -0.3270771                    -0.06598095\n",
       "...  ...         ...          ...                           ...        \n",
       "2676 1           1            -0.95055167                   -1.39030760\n",
       "2677 1           1            -1.14443707                   -1.18656504\n",
       "2678 1           1            -1.28890070                   -0.88095120\n",
       "2679 1           1            -0.57038422                   -0.57533736\n",
       "2680 1           1             0.42945617                   -0.37159480\n",
       "2681 1           1            -0.18261342                   -0.16785224\n",
       "2682 1           1            -0.32707705                   -0.06598095\n",
       "2683 1           1            -0.52096245                    0.03589033\n",
       "2684 1           1             0.20135570                    0.23963289\n",
       "2685 1           1             1.15937767                    0.54524673\n",
       "2686 1           1             0.25838082                    0.64711801\n",
       "2687 1           1             0.63854827                    0.74898929\n",
       "2688 1           1             0.29006144                    0.85086057\n",
       "2689 1           1             1.57756187                    1.15647441\n",
       "2690 1           1             1.61177694                    1.66583081\n",
       "2691 1           1             1.99194439                    1.76770209\n",
       "2692 1           1            -1.29270237                   -1.59405016\n",
       "2693 1           1            -1.20906554                   -1.49217888\n",
       "2694 1           1            -0.95055167                   -1.39030760\n",
       "2695 1           1            -1.14443707                   -1.18656504\n",
       "2696 1           1            -1.28890070                   -0.88095120\n",
       "2697 1           1            -0.57038422                   -0.57533736\n",
       "2698 1           1             0.42945617                   -0.37159480\n",
       "2699 1           1             0.10631384                   -0.26972352\n",
       "2700 1           1            -0.18261342                   -0.16785224\n",
       "2701 1           1            -0.32707705                   -0.06598095\n",
       "2702 1           1            -0.52096245                    0.03589033\n",
       "2703 1           1             0.04928872                    0.44337545\n",
       "2704 1           1             0.63854827                    0.74898929\n",
       "2705 1           1             0.29006144                    0.85086057"
      ]
     },
     "metadata": {},
     "output_type": "display_data"
    }
   ],
   "source": [
    "model.matrix(fecmodADMBf)"
   ]
  },
  {
   "cell_type": "code",
   "execution_count": 56,
   "id": "249702a0",
   "metadata": {},
   "outputs": [
    {
     "data": {
      "text/html": [
       "0.046357358932656"
      ],
      "text/latex": [
       "0.046357358932656"
      ],
      "text/markdown": [
       "0.046357358932656"
      ],
      "text/plain": [
       "[1] 0.04635736"
      ]
     },
     "metadata": {},
     "output_type": "display_data"
    }
   ],
   "source": [
    "as.numeric(VarCorr(fecmodADMBr)[[1]])"
   ]
  },
  {
   "cell_type": "code",
   "execution_count": 47,
   "id": "c1060af9",
   "metadata": {},
   "outputs": [
    {
     "data": {
      "text/html": [
       "<strong>$HenID</strong> = <table class=\"dataframe\">\n",
       "<caption>A matrix: 1 × 1 of type dbl</caption>\n",
       "<thead>\n",
       "\t<tr><th></th><th scope=col>(Intercept)</th></tr>\n",
       "</thead>\n",
       "<tbody>\n",
       "\t<tr><th scope=row>(Intercept)</th><td>0.046357</td></tr>\n",
       "</tbody>\n",
       "</table>\n"
      ],
      "text/latex": [
       "\\textbf{\\$HenID} = A matrix: 1 × 1 of type dbl\n",
       "\\begin{tabular}{r|l}\n",
       "  & (Intercept)\\\\\n",
       "\\hline\n",
       "\t(Intercept) & 0.046357\\\\\n",
       "\\end{tabular}\n"
      ],
      "text/markdown": [
       "**$HenID** = \n",
       "A matrix: 1 × 1 of type dbl\n",
       "\n",
       "| <!--/--> | (Intercept) |\n",
       "|---|---|\n",
       "| (Intercept) | 0.046357 |\n",
       "\n"
      ],
      "text/plain": [
       "$HenID\n",
       "            (Intercept)\n",
       "(Intercept)    0.046357\n"
      ]
     },
     "metadata": {},
     "output_type": "display_data"
    }
   ],
   "source": [
    "VarCorr(STDtimeNBmodADMBr)[1]"
   ]
  },
  {
   "cell_type": "code",
   "execution_count": 48,
   "id": "44501bbf",
   "metadata": {},
   "outputs": [
    {
     "data": {
      "text/html": [
       "0.046357"
      ],
      "text/latex": [
       "0.046357"
      ],
      "text/markdown": [
       "0.046357"
      ],
      "text/plain": [
       "[1] 0.046357"
      ]
     },
     "metadata": {},
     "output_type": "display_data"
    }
   ],
   "source": [
    "as.numeric(VarCorr(STDtimeNBmodADMBr)[1])"
   ]
  },
  {
   "cell_type": "code",
   "execution_count": 69,
   "id": "14860b20",
   "metadata": {},
   "outputs": [
    {
     "data": {
      "text/plain": [
       "NULL"
      ]
     },
     "metadata": {},
     "output_type": "display_data"
    }
   ],
   "source": [
    "fecmodADMBr$omega"
   ]
  },
  {
   "cell_type": "code",
   "execution_count": 71,
   "id": "ce3b5f89",
   "metadata": {},
   "outputs": [
    {
     "name": "stderr",
     "output_type": "stream",
     "text": [
      "Warning message in .local(x, sigma, ...):\n",
      "\"'sigma' and 'rdig' arguments are present for compatibility only: ignored\"\n"
     ]
    },
    {
     "data": {
      "text/plain": [
       "\n",
       "GLMM's in R powered by AD Model Builder:\n",
       "\n",
       "  Family: nbinom \n",
       "  alpha = 19.127 \n",
       "  link = log \n",
       "\n",
       "Fixed effects:\n",
       "  Log-likelihood: -11433.2 \n",
       "  AIC: 22872.4 \n",
       "  Formula: Y ~ 1 + (1 | HenID) \n",
       "(Intercept) \n",
       "   3.209755 \n",
       "\n",
       "Random effects:\n",
       "Structure: Diagonal matrix\n",
       "Group=HenID\n",
       "            Variance StdDev\n",
       "(Intercept)  0.04636 0.2153\n",
       "\n",
       "Number of observations: total=2705, HenID=194"
      ]
     },
     "metadata": {},
     "output_type": "display_data"
    }
   ],
   "source": [
    "STDtimeNBmodADMBr"
   ]
  },
  {
   "cell_type": "code",
   "execution_count": 97,
   "id": "2d56e2b8",
   "metadata": {
    "scrolled": true
   },
   "outputs": [
    {
     "name": "stdout",
     "output_type": "stream",
     "text": [
      "List of 11\n",
      " $ logLik      :Class 'logLik' : -11433 (df=3)\n",
      " $ family      : chr \"nbinom1\"\n",
      " $ link        : chr \"log\"\n",
      " $ ngrps       :List of 2\n",
      "  ..$ cond: Named num 194\n",
      "  .. ..- attr(*, \"names\")= chr \"HenID\"\n",
      "  ..$ zi  : num(0) \n",
      " $ nobs        : int 2705\n",
      " $ coefficients:List of 3\n",
      "  ..$ cond: num [1, 1:4] 3.2098 0.0235 136.7057 0\n",
      "  .. ..- attr(*, \"dimnames\")=List of 2\n",
      "  .. .. ..$ : chr \"(Intercept)\"\n",
      "  .. .. ..$ : chr [1:4] \"Estimate\" \"Std. Error\" \"z value\" \"Pr(>|z|)\"\n",
      "  ..$ zi  : NULL\n",
      "  ..$ disp: NULL\n",
      " $ sigma       : num 18.1\n",
      " $ vcov        :List of 1\n",
      "  ..$ cond: num [1, 1] 0.000551\n",
      "  .. ..- attr(*, \"dimnames\")=List of 2\n",
      "  .. .. ..$ : chr \"(Intercept)\"\n",
      "  .. .. ..$ : chr \"(Intercept)\"\n",
      "  ..- attr(*, \"class\")= chr [1:2] \"vcov.glmmTMB\" \"matrix\"\n",
      " $ varcor      :List of 2\n",
      "  ..$ cond:List of 1\n",
      "  .. ..$ HenID: num [1, 1] 0.0464\n",
      "  .. .. ..- attr(*, \"dimnames\")=List of 2\n",
      "  .. .. .. ..$ : chr \"(Intercept)\"\n",
      "  .. .. .. ..$ : chr \"(Intercept)\"\n",
      "  .. .. ..- attr(*, \"stddev\")= Named num 0.215\n",
      "  .. .. .. ..- attr(*, \"names\")= chr \"(Intercept)\"\n",
      "  .. .. ..- attr(*, \"correlation\")= num [1, 1] 1\n",
      "  .. .. .. ..- attr(*, \"dimnames\")=List of 2\n",
      "  .. .. .. .. ..$ : chr \"(Intercept)\"\n",
      "  .. .. .. .. ..$ : chr \"(Intercept)\"\n",
      "  .. .. ..- attr(*, \"blockCode\")= Named num 1\n",
      "  .. .. .. ..- attr(*, \"names\")= chr \"us\"\n",
      "  .. ..- attr(*, \"sc\")= num 18.1\n",
      "  .. ..- attr(*, \"useSc\")= logi FALSE\n",
      "  ..$ zi  : NULL\n",
      "  ..- attr(*, \"sc\")= logi TRUE\n",
      "  ..- attr(*, \"class\")= chr \"VarCorr.glmmTMB\"\n",
      " $ AICtab      : Named num [1:5] 22872 22890 -11433 22866 2702\n",
      "  ..- attr(*, \"names\")= chr [1:5] \"AIC\" \"BIC\" \"logLik\" \"deviance\" ...\n",
      " $ call        : language glmmTMB(formula = Y ~ 1 + (1 | HenID), data = df, family = \"nbinom1\", ziformula = ~0,      dispformula = ~1)\n",
      " - attr(*, \"class\")= chr \"summary.glmmTMB\"\n"
     ]
    }
   ],
   "source": [
    "str(summary(fecmodADMBr))"
   ]
  },
  {
   "cell_type": "code",
   "execution_count": 101,
   "id": "8da596a5",
   "metadata": {},
   "outputs": [
    {
     "data": {
      "text/html": [
       "18.1270736932617"
      ],
      "text/latex": [
       "18.1270736932617"
      ],
      "text/markdown": [
       "18.1270736932617"
      ],
      "text/plain": [
       "[1] 18.12707"
      ]
     },
     "metadata": {},
     "output_type": "display_data"
    }
   ],
   "source": [
    "summary(fecmodADMBr)$sigma"
   ]
  },
  {
   "cell_type": "code",
   "execution_count": 91,
   "id": "4913375a",
   "metadata": {},
   "outputs": [
    {
     "data": {
      "text/html": [
       "<table class=\"dataframe\">\n",
       "<caption>A matrix: 1 × 3 of type dbl</caption>\n",
       "<thead>\n",
       "\t<tr><th></th><th scope=col>2.5 %</th><th scope=col>97.5 %</th><th scope=col>Estimate</th></tr>\n",
       "</thead>\n",
       "<tbody>\n",
       "\t<tr><th scope=row>sigma</th><td>16.99218</td><td>19.33777</td><td>18.12707</td></tr>\n",
       "</tbody>\n",
       "</table>\n"
      ],
      "text/latex": [
       "A matrix: 1 × 3 of type dbl\n",
       "\\begin{tabular}{r|lll}\n",
       "  & 2.5 \\% & 97.5 \\% & Estimate\\\\\n",
       "\\hline\n",
       "\tsigma & 16.99218 & 19.33777 & 18.12707\\\\\n",
       "\\end{tabular}\n"
      ],
      "text/markdown": [
       "\n",
       "A matrix: 1 × 3 of type dbl\n",
       "\n",
       "| <!--/--> | 2.5 % | 97.5 % | Estimate |\n",
       "|---|---|---|---|\n",
       "| sigma | 16.99218 | 19.33777 | 18.12707 |\n",
       "\n"
      ],
      "text/plain": [
       "      2.5 %    97.5 %   Estimate\n",
       "sigma 16.99218 19.33777 18.12707"
      ]
     },
     "metadata": {},
     "output_type": "display_data"
    }
   ],
   "source": [
    "confint(fecmodADMBr,parm=\"theta_\")"
   ]
  },
  {
   "cell_type": "code",
   "execution_count": 95,
   "id": "801891db",
   "metadata": {},
   "outputs": [
    {
     "data": {
      "text/html": [
       "<style>\n",
       ".list-inline {list-style: none; margin:0; padding: 0}\n",
       ".list-inline>li {display: inline-block}\n",
       ".list-inline>li:not(:last-child)::after {content: \"\\00b7\"; padding: 0 .5ex}\n",
       "</style>\n",
       "<ol class=list-inline><li>3.2188758248682</li><li>1.38629436111989</li></ol>\n"
      ],
      "text/latex": [
       "\\begin{enumerate*}\n",
       "\\item 3.2188758248682\n",
       "\\item 1.38629436111989\n",
       "\\end{enumerate*}\n"
      ],
      "text/markdown": [
       "1. 3.2188758248682\n",
       "2. 1.38629436111989\n",
       "\n",
       "\n"
      ],
      "text/plain": [
       "[1] 3.218876 1.386294"
      ]
     },
     "metadata": {},
     "output_type": "display_data"
    }
   ],
   "source": [
    "c(log(5^2), log(10^2)-log(5^2))"
   ]
  },
  {
   "cell_type": "code",
   "execution_count": null,
   "id": "04319aa8",
   "metadata": {},
   "outputs": [],
   "source": []
  },
  {
   "cell_type": "code",
   "execution_count": 76,
   "id": "7d051a1a",
   "metadata": {},
   "outputs": [
    {
     "name": "stdout",
     "output_type": "stream",
     "text": [
      "List of 7\n",
      " $ obj      :List of 10\n",
      "  ..$ par     : Named num [1:3] 0 0 0\n",
      "  .. ..- attr(*, \"names\")= chr [1:3] \"beta\" \"betad\" \"theta\"\n",
      "  ..$ fn      :function (x = last.par[-random], ...)  \n",
      "  ..$ gr      :function (x = last.par[-random], ...)  \n",
      "  ..$ he      :function (x = last.par[-random], ...)  \n",
      "  ..$ hessian : logi FALSE\n",
      "  ..$ method  : chr \"BFGS\"\n",
      "  ..$ retape  :function (set.defaults = TRUE)  \n",
      "  ..$ env     :<environment: 0x000000006adb6f48> \n",
      "  ..$ report  :function (par = last.par)  \n",
      "  ..$ simulate:function (par = last.par, complete = FALSE)  \n",
      " $ fit      :List of 7\n",
      "  ..$ par        : Named num [1:3] 3.21 2.9 -1.54\n",
      "  .. ..- attr(*, \"names\")= chr [1:3] \"beta\" \"betad\" \"theta\"\n",
      "  ..$ objective  : num 11433\n",
      "  ..$ convergence: int 0\n",
      "  ..$ iterations : int 19\n",
      "  ..$ evaluations: Named int [1:2] 26 20\n",
      "  .. ..- attr(*, \"names\")= chr [1:2] \"function\" \"gradient\"\n",
      "  ..$ message    : chr \"relative convergence (4)\"\n",
      "  ..$ parfull    : Named num [1:197] 3.2098 -0.0901 -0.134 -0.0292 0.081 ...\n",
      "  .. ..- attr(*, \"names\")= chr [1:197] \"beta\" \"b\" \"b\" \"b\" ...\n",
      " $ sdr      :List of 10\n",
      "  ..$ value          : num(0) \n",
      "  ..$ sd             : num(0) \n",
      "  ..$ cov            : logi[0 , 0 ] \n",
      "  ..$ par.fixed      : Named num [1:3] 3.21 2.9 -1.54\n",
      "  .. ..- attr(*, \"names\")= chr [1:3] \"beta\" \"betad\" \"theta\"\n",
      "  ..$ cov.fixed      : num [1:3, 1:3] 0.000551 0.000317 -0.000366 0.000317 0.001088 ...\n",
      "  .. ..- attr(*, \"dimnames\")=List of 2\n",
      "  .. .. ..$ : chr [1:3] \"beta\" \"betad\" \"theta\"\n",
      "  .. .. ..$ : chr [1:3] \"beta\" \"betad\" \"theta\"\n",
      "  ..$ pdHess         : logi TRUE\n",
      "  ..$ gradient.fixed : num [1:3] -2.49e-05 9.07e-06 -5.43e-06\n",
      "  ..$ par.random     : Named num [1:194] -0.0901 -0.134 -0.0292 0.081 -0.0985 ...\n",
      "  .. ..- attr(*, \"names\")= chr [1:194] \"b\" \"b\" \"b\" \"b\" ...\n",
      "  ..$ diag.cov.random: num [1:194] 0.0314 0.0192 0.019 0.0184 0.0238 ...\n",
      "  ..$ env            :<environment: 0x0000000067c5c510> \n",
      "  ..- attr(*, \"class\")= chr \"sdreport\"\n",
      " $ call     : language glmmTMB(formula = Y ~ 1 + (1 | HenID), data = df, family = \"nbinom1\", ziformula = ~0,      dispformula = ~1)\n",
      " $ frame    :'data.frame':\t2705 obs. of  2 variables:\n",
      "  ..$ Y    : int [1:2705] 11 11 13 15 5 19 7 4 16 5 ...\n",
      "  ..$ HenID: Factor w/ 194 levels \"hen_1\",\"hen_10\",..: 1 1 1 1 1 2 2 2 2 2 ...\n",
      "  ..- attr(*, \"terms\")=Classes 'terms', 'formula'  language Y ~ 1 + (1 + HenID) + 0 + 1\n",
      "  .. .. ..- attr(*, \"variables\")= language list(Y, HenID)\n",
      "  .. .. ..- attr(*, \"factors\")= int [1:2, 1] 0 1\n",
      "  .. .. .. ..- attr(*, \"dimnames\")=List of 2\n",
      "  .. .. .. .. ..$ : chr [1:2] \"Y\" \"HenID\"\n",
      "  .. .. .. .. ..$ : chr \"HenID\"\n",
      "  .. .. ..- attr(*, \"term.labels\")= chr \"HenID\"\n",
      "  .. .. ..- attr(*, \"order\")= int 1\n",
      "  .. .. ..- attr(*, \"intercept\")= int 1\n",
      "  .. .. ..- attr(*, \"response\")= int 1\n",
      "  .. .. ..- attr(*, \".Environment\")=<environment: R_GlobalEnv> \n",
      "  .. .. ..- attr(*, \"predvars\")= language list(Y, HenID)\n",
      "  .. .. ..- attr(*, \"dataClasses\")= Named chr [1:2] \"numeric\" \"factor\"\n",
      "  .. .. .. ..- attr(*, \"names\")= chr [1:2] \"Y\" \"HenID\"\n",
      " $ modelInfo:List of 12\n",
      "  ..$ nobs     : int 2705\n",
      "  ..$ respCol  : Named int 1\n",
      "  .. ..- attr(*, \"names\")= chr \"Y\"\n",
      "  ..$ grpVar   : chr \"HenID\"\n",
      "  ..$ family   :List of 11\n",
      "  .. ..$ family    : chr \"nbinom1\"\n",
      "  .. ..$ variance  :function (mu, alpha)  \n",
      "  .. ..$ link      : chr \"log\"\n",
      "  .. ..$ linkfun   :function (mu)  \n",
      "  .. ..$ linkinv   :function (eta)  \n",
      "  .. ..$ mu.eta    :function (eta)  \n",
      "  .. ..$ valideta  :function (eta)  \n",
      "  .. ..$ name      : chr \"log\"\n",
      "  .. ..$ aic       :function (...)  \n",
      "  .. ..$ initialize:  expression({  mustart <- y + 0.1 })\n",
      "  .. ..$ dev.resids:function (y, mu, wt)  \n",
      "  .. ..- attr(*, \"class\")= chr \"family\"\n",
      "  ..$ contrasts: NULL\n",
      "  ..$ reTrms   :List of 2\n",
      "  .. ..$ cond:List of 3\n",
      "  .. .. ..$ cnms :List of 1\n",
      "  .. .. .. ..$ HenID: chr \"(Intercept)\"\n",
      "  .. .. ..$ flist:List of 1\n",
      "  .. .. .. ..$ HenID: Factor w/ 194 levels \"hen_1\",\"hen_10\",..: 1 1 1 1 1 2 2 2 2 2 ...\n",
      "  .. .. .. ..- attr(*, \"assign\")= int 1\n",
      "  .. .. ..$ terms:List of 1\n",
      "  .. .. .. ..$ fixed:Classes 'terms', 'formula'  language Y ~ 1\n",
      "  .. .. .. .. .. ..- attr(*, \"variables\")= language list(Y)\n",
      "  .. .. .. .. .. ..- attr(*, \"factors\")= int(0) \n",
      "  .. .. .. .. .. ..- attr(*, \"term.labels\")= chr(0) \n",
      "  .. .. .. .. .. ..- attr(*, \"order\")= int(0) \n",
      "  .. .. .. .. .. ..- attr(*, \"intercept\")= int 1\n",
      "  .. .. .. .. .. ..- attr(*, \"response\")= int 1\n",
      "  .. .. .. .. .. ..- attr(*, \".Environment\")=<environment: R_GlobalEnv> \n",
      "  .. .. .. .. .. ..- attr(*, \"predvars\")= language list(Y)\n",
      "  .. .. .. .. .. ..- attr(*, \"dataClasses\")= Named chr \"numeric\"\n",
      "  .. .. .. .. .. .. ..- attr(*, \"names\")= chr \"Y\"\n",
      "  .. ..$ zi  :List of 1\n",
      "  .. .. ..$ terms: NULL\n",
      "  ..$ terms    :List of 3\n",
      "  .. ..$ cond:List of 1\n",
      "  .. .. ..$ fixed:Classes 'terms', 'formula'  language Y ~ 1\n",
      "  .. .. .. .. ..- attr(*, \"variables\")= language list(Y)\n",
      "  .. .. .. .. ..- attr(*, \"factors\")= int(0) \n",
      "  .. .. .. .. ..- attr(*, \"term.labels\")= chr(0) \n",
      "  .. .. .. .. ..- attr(*, \"order\")= int(0) \n",
      "  .. .. .. .. ..- attr(*, \"intercept\")= int 1\n",
      "  .. .. .. .. ..- attr(*, \"response\")= int 1\n",
      "  .. .. .. .. ..- attr(*, \".Environment\")=<environment: R_GlobalEnv> \n",
      "  .. .. .. .. ..- attr(*, \"predvars\")= language list(Y)\n",
      "  .. .. .. .. ..- attr(*, \"dataClasses\")= Named chr \"numeric\"\n",
      "  .. .. .. .. .. ..- attr(*, \"names\")= chr \"Y\"\n",
      "  .. ..$ zi  : NULL\n",
      "  .. ..$ disp:List of 1\n",
      "  .. .. ..$ fixed:Classes 'terms', 'formula'  language ~1\n",
      "  .. .. .. .. ..- attr(*, \"variables\")= language list()\n",
      "  .. .. .. .. ..- attr(*, \"factors\")= int(0) \n",
      "  .. .. .. .. ..- attr(*, \"term.labels\")= chr(0) \n",
      "  .. .. .. .. ..- attr(*, \"order\")= int(0) \n",
      "  .. .. .. .. ..- attr(*, \"intercept\")= int 1\n",
      "  .. .. .. .. ..- attr(*, \"response\")= int 0\n",
      "  .. .. .. .. ..- attr(*, \".Environment\")=<environment: R_GlobalEnv> \n",
      "  .. .. .. .. ..- attr(*, \"predvars\")= language list()\n",
      "  .. .. .. .. ..- attr(*, \"dataClasses\")= Named chr(0) \n",
      "  .. .. .. .. .. ..- attr(*, \"names\")= chr(0) \n",
      "  ..$ reStruc  :List of 2\n",
      "  .. ..$ condReStruc:List of 1\n",
      "  .. .. ..$ 1 | HenID:List of 4\n",
      "  .. .. .. ..$ blockReps    : num 194\n",
      "  .. .. .. ..$ blockSize    : num 1\n",
      "  .. .. .. ..$ blockNumTheta: num 1\n",
      "  .. .. .. ..$ blockCode    : Named num 1\n",
      "  .. .. .. .. ..- attr(*, \"names\")= chr \"us\"\n",
      "  .. ..$ ziReStruc  : list()\n",
      "  ..$ allForm  :List of 4\n",
      "  .. ..$ combForm   :Class 'formula'  language Y ~ 1 + (1 + HenID) + 0 + 1\n",
      "  .. .. .. ..- attr(*, \".Environment\")=<environment: R_GlobalEnv> \n",
      "  .. ..$ formula    :Class 'formula'  language Y ~ 1 + (1 | HenID)\n",
      "  .. .. .. ..- attr(*, \".Environment\")=<environment: R_GlobalEnv> \n",
      "  .. ..$ ziformula  :Class 'formula'  language ~0\n",
      "  .. .. .. ..- attr(*, \".Environment\")=<environment: R_GlobalEnv> \n",
      "  .. ..$ dispformula:Class 'formula'  language ~1\n",
      "  .. .. .. ..- attr(*, \".Environment\")=<environment: R_GlobalEnv> \n",
      "  ..$ REML     : logi FALSE\n",
      "  ..$ map      : NULL\n",
      "  ..$ sparseX  : Named logi [1:3] FALSE FALSE FALSE\n",
      "  .. ..- attr(*, \"names\")= chr [1:3] \"cond\" \"zi\" \"disp\"\n",
      " $ fitted   : NULL\n",
      " - attr(*, \"class\")= chr \"glmmTMB\"\n"
     ]
    }
   ],
   "source": [
    "str(fecmodADMBr)"
   ]
  },
  {
   "cell_type": "code",
   "execution_count": 110,
   "id": "89b12ae6",
   "metadata": {},
   "outputs": [
    {
     "data": {
      "text/html": [
       "<style>\n",
       ".dl-inline {width: auto; margin:0; padding: 0}\n",
       ".dl-inline>dt, .dl-inline>dd {float: none; width: auto; display: inline-block}\n",
       ".dl-inline>dt::after {content: \":\\0020\"; padding-right: .5ex}\n",
       ".dl-inline>dt:not(:first-of-type) {padding-left: .5ex}\n",
       "</style><dl class=dl-inline><dt>VarOdN</dt><dd>0.71495879100374</dd><dt>VarOlN</dt><dd>0.539389051759965</dd><dt>VarOlN</dt><dd>1.02666183342794</dd></dl>\n"
      ],
      "text/latex": [
       "\\begin{description*}\n",
       "\\item[VarOdN] 0.71495879100374\n",
       "\\item[VarOlN] 0.539389051759965\n",
       "\\item[VarOlN] 1.02666183342794\n",
       "\\end{description*}\n"
      ],
      "text/markdown": [
       "VarOdN\n",
       ":   0.71495879100374VarOlN\n",
       ":   0.539389051759965VarOlN\n",
       ":   1.02666183342794\n",
       "\n"
      ],
      "text/plain": [
       "   VarOdN    VarOlN    VarOlN \n",
       "0.7149588 0.5393891 1.0266618 "
      ]
     },
     "metadata": {},
     "output_type": "display_data"
    },
    {
     "data": {
      "text/html": [
       "<style>\n",
       ".dl-inline {width: auto; margin:0; padding: 0}\n",
       ".dl-inline>dt, .dl-inline>dd {float: none; width: auto; display: inline-block}\n",
       ".dl-inline>dt::after {content: \":\\0020\"; padding-right: .5ex}\n",
       ".dl-inline>dt:not(:first-of-type) {padding-left: .5ex}\n",
       "</style><dl class=dl-inline><dt>VarOdF</dt><dd>0.713996644314502</dd><dt>VarOlF</dt><dd>0.538827862364163</dd><dt>VarOlF</dt><dd>1.02479623821783</dd></dl>\n"
      ],
      "text/latex": [
       "\\begin{description*}\n",
       "\\item[VarOdF] 0.713996644314502\n",
       "\\item[VarOlF] 0.538827862364163\n",
       "\\item[VarOlF] 1.02479623821783\n",
       "\\end{description*}\n"
      ],
      "text/markdown": [
       "VarOdF\n",
       ":   0.713996644314502VarOlF\n",
       ":   0.538827862364163VarOlF\n",
       ":   1.02479623821783\n",
       "\n"
      ],
      "text/plain": [
       "   VarOdF    VarOlF    VarOlF \n",
       "0.7139966 0.5388279 1.0247962 "
      ]
     },
     "metadata": {},
     "output_type": "display_data"
    },
    {
     "data": {
      "text/html": [
       "<style>\n",
       ".dl-inline {width: auto; margin:0; padding: 0}\n",
       ".dl-inline>dt, .dl-inline>dd {float: none; width: auto; display: inline-block}\n",
       ".dl-inline>dt::after {content: \":\\0020\"; padding-right: .5ex}\n",
       ".dl-inline>dt:not(:first-of-type) {padding-left: .5ex}\n",
       "</style><dl class=dl-inline><dt>R2glmmM</dt><dd>0.00147151845502166</dd><dt>R2glmmC</dt><dd>0.0444188329417252</dd><dt>ICCrawPop</dt><dd>0.0432027304475996</dd><dt>ICCadjPop</dt><dd>0.0430106053862911</dd></dl>\n"
      ],
      "text/latex": [
       "\\begin{description*}\n",
       "\\item[R2glmmM] 0.00147151845502166\n",
       "\\item[R2glmmC] 0.0444188329417252\n",
       "\\item[ICCrawPop] 0.0432027304475996\n",
       "\\item[ICCadjPop] 0.0430106053862911\n",
       "\\end{description*}\n"
      ],
      "text/markdown": [
       "R2glmmM\n",
       ":   0.00147151845502166R2glmmC\n",
       ":   0.0444188329417252ICCrawPop\n",
       ":   0.0432027304475996ICCadjPop\n",
       ":   0.0430106053862911\n",
       "\n"
      ],
      "text/plain": [
       "    R2glmmM     R2glmmC   ICCrawPop   ICCadjPop \n",
       "0.001471518 0.044418833 0.043202730 0.043010605 "
      ]
     },
     "metadata": {},
     "output_type": "display_data"
    }
   ],
   "source": [
    "# Calculation of the variance in fitted values\n",
    "VarF <-var(as.vector(model.matrix(fecmodADMBf) %*%fixef(fecmodADMBf)[[1]]))#[[1]] instead of nothing for glmmadmb\n",
    "# getting the observation-level variance Null model\n",
    "omegaN <- summary(fecmodADMBr)$sigma #instead og fecmodADMBr$alpha in glmmadmb # overdispersion omega is alpha in\n",
    "lambda <-as.numeric(exp(fixef(fecmodADMBr)[[1]] + 0.5 * (as.numeric(VarCorr(fecmodADMBr)[[1]])))) #[[1]] instead of [1] for glmmadmb\n",
    "# lambda2 <- mean(df$Egg) # for lambda we use the mean of all\n",
    "# observations\n",
    "VarOdN <- omegaN/lambda # the delta method\n",
    "VarOlN <-log(1 + omegaN/lambda) # log-normal approximation\n",
    "VarOtN <-trigamma(lambda/omegaN) # trigamma function\n",
    "# comparing the three\n",
    "c(VarOdN = VarOdN, VarOlN = VarOlN, VarOlN = VarOtN)\n",
    "\n",
    "# Full model\n",
    "omegaF <- summary(fecmodADMBf)$sigma # overdispersion omega is alpha in glmmadmb instead of fecmodADMBf$alpha  for glmmadmb\n",
    "VarOdF <- omegaF/lambda# the delta method\n",
    "VarOlF <-log(1 + omegaF/lambda)# log-normal approximation\n",
    "VarOtF <-trigamma(lambda/omegaF)# trigamma function# comparing the three\n",
    "c(VarOdF = VarOdF, VarOlF = VarOlF, VarOlF = VarOtF)\n",
    "\n",
    "# R2[GLMM(m)] - marginal R2[GLMM]\n",
    "R2glmmM <- VarF/(VarF +sum(as.numeric(VarCorr(fecmodADMBf)[[1]])) + VarOtF)\n",
    "# R2[GLMM(c)] - conditional R2[GLMM] for full model\n",
    "R2glmmC <- (VarF +sum(as.numeric(VarCorr(fecmodADMBf)[[1]])))/(VarF +sum(as.numeric(VarCorr(fecmodADMBf)[[1]])) +VarOtF)\n",
    "\n",
    "# Raw unadjusted ICC[HenID]\n",
    "ICCrawPop <-VarCorr(fecmodADMBr)[[1]]$HenID[1]/(sum(as.numeric(VarCorr(fecmodADMBr)[[1]])) +VarOtN)\n",
    "# adjusted ICC[HenID]\n",
    "ICCadjPop <-VarCorr(fecmodADMBf)[[1]]$HenID[1]/(sum(as.numeric(VarCorr(fecmodADMBf)[[1]])) +VarOtF)\n",
    "# comparing the results\n",
    "c(R2glmmM = R2glmmM, R2glmmC = R2glmmC, ICCrawPop = ICCrawPop, ICCadjPop = ICCadjPop)"
   ]
  },
  {
   "cell_type": "code",
   "execution_count": null,
   "id": "ea183686",
   "metadata": {},
   "outputs": [],
   "source": []
  },
  {
   "cell_type": "markdown",
   "id": "53696f9f",
   "metadata": {},
   "source": [
    "#  Negative binomial GLMMs with log link"
   ]
  },
  {
   "cell_type": "raw",
   "id": "c83f9b29",
   "metadata": {},
   "source": [
    "The variance of a quasi-Poisson model is a linear function of the mean while the variance of a negative binomial model is a quadratic function of the mean."
   ]
  },
  {
   "cell_type": "code",
   "execution_count": 7,
   "id": "d36ebef5",
   "metadata": {},
   "outputs": [
    {
     "data": {
      "text/html": [
       "1455"
      ],
      "text/latex": [
       "1455"
      ],
      "text/markdown": [
       "1455"
      ],
      "text/plain": [
       "[1] 1455"
      ]
     },
     "metadata": {},
     "output_type": "display_data"
    },
    {
     "data": {
      "text/html": [
       "1250"
      ],
      "text/latex": [
       "1250"
      ],
      "text/markdown": [
       "1250"
      ],
      "text/plain": [
       "[1] 1250"
      ]
     },
     "metadata": {},
     "output_type": "display_data"
    }
   ],
   "source": [
    "sum(df$weekly_nbr_uncommon_behavior==0)\n",
    "sum(df$weekly_nbr_uncommon_behavior!=0)"
   ]
  },
  {
   "cell_type": "code",
   "execution_count": 10,
   "id": "a235c864",
   "metadata": {},
   "outputs": [
    {
     "name": "stderr",
     "output_type": "stream",
     "text": [
      "Warning message in .local(x, sigma, ...):\n",
      "\"'sigma' and 'rdig' arguments are present for compatibility only: ignored\"\n"
     ]
    },
    {
     "data": {
      "text/plain": [
       "\n",
       "Call:\n",
       "glmmadmb(formula = Y ~ 1 + (1 | HenID), data = df, family = \"nbinom2\")\n",
       "\n",
       "AIC: 7303.7 \n",
       "\n",
       "Coefficients:\n",
       "            Estimate Std. Error z value Pr(>|z|)    \n",
       "(Intercept)  -0.3799     0.0982   -3.87  0.00011 ***\n",
       "---\n",
       "Signif. codes:  0 '***' 0.001 '**' 0.01 '*' 0.05 '.' 0.1 ' ' 1\n",
       "\n",
       "Number of observations: total=2705, HenID=194 \n",
       "Random effect variance(s):\n",
       "Group=HenID\n",
       "            Variance StdDev\n",
       "(Intercept)    1.597  1.264\n",
       "\n",
       "Negative binomial dispersion parameter: 3.698 (std. err.: 0.49432)\n",
       "\n",
       "Log-likelihood: -3648.83 "
      ]
     },
     "metadata": {},
     "output_type": "display_data"
    },
    {
     "name": "stderr",
     "output_type": "stream",
     "text": [
      "Warning message in .local(x, sigma, ...):\n",
      "\"'sigma' and 'rdig' arguments are present for compatibility only: ignored\"\n"
     ]
    },
    {
     "data": {
      "text/plain": [
       "\n",
       "Call:\n",
       "glmmadmb(formula = Y ~ Treatment + scale(weekly_avg_temperature) + \n",
       "    scale(WOA) + (1 | HenID), data = df, family = \"nbinom2\")\n",
       "\n",
       "AIC: 7291.5 \n",
       "\n",
       "Coefficients:\n",
       "                              Estimate Std. Error z value Pr(>|z|)    \n",
       "(Intercept)                    -0.2394     0.1358   -1.76  0.07790 .  \n",
       "TreatmentOFH                   -0.2906     0.1931   -1.50  0.13247    \n",
       "scale(weekly_avg_temperature)   0.2380     0.0600    3.96  7.4e-05 ***\n",
       "scale(WOA)                     -0.2124     0.0605   -3.51  0.00045 ***\n",
       "---\n",
       "Signif. codes:  0 '***' 0.001 '**' 0.01 '*' 0.05 '.' 0.1 ' ' 1\n",
       "\n",
       "Number of observations: total=2705, HenID=194 \n",
       "Random effect variance(s):\n",
       "Group=HenID\n",
       "            Variance StdDev\n",
       "(Intercept)    1.583  1.258\n",
       "\n",
       "Negative binomial dispersion parameter: 3.7876 (std. err.: 0.51214)\n",
       "\n",
       "Log-likelihood: -3639.74 "
      ]
     },
     "metadata": {},
     "output_type": "display_data"
    },
    {
     "name": "stderr",
     "output_type": "stream",
     "text": [
      "Warning message in .local(x, sigma, ...):\n",
      "\"'sigma' and 'rdig' arguments are present for compatibility only: ignored\"\n"
     ]
    },
    {
     "data": {
      "text/html": [
       "<style>\n",
       ".dl-inline {width: auto; margin:0; padding: 0}\n",
       ".dl-inline>dt, .dl-inline>dd {float: none; width: auto; display: inline-block}\n",
       ".dl-inline>dt::after {content: \":\\0020\"; padding-right: .5ex}\n",
       ".dl-inline>dt:not(:first-of-type) {padding-left: .5ex}\n",
       "</style><dl class=dl-inline><dt>VarOdN</dt><dd>0.928412616809164</dd><dt>VarOlN</dt><dd>0.65669718615869</dd><dt>VarOtN</dt><dd>1.47712751662389</dd></dl>\n"
      ],
      "text/latex": [
       "\\begin{description*}\n",
       "\\item[VarOdN] 0.928412616809164\n",
       "\\item[VarOlN] 0.65669718615869\n",
       "\\item[VarOtN] 1.47712751662389\n",
       "\\end{description*}\n"
      ],
      "text/markdown": [
       "VarOdN\n",
       ":   0.928412616809164VarOlN\n",
       ":   0.65669718615869VarOtN\n",
       ":   1.47712751662389\n",
       "\n"
      ],
      "text/plain": [
       "   VarOdN    VarOlN    VarOtN \n",
       "0.9284126 0.6566972 1.4771275 "
      ]
     },
     "metadata": {},
     "output_type": "display_data"
    },
    {
     "data": {
      "text/html": [
       "<style>\n",
       ".dl-inline {width: auto; margin:0; padding: 0}\n",
       ".dl-inline>dt, .dl-inline>dd {float: none; width: auto; display: inline-block}\n",
       ".dl-inline>dt::after {content: \":\\0020\"; padding-right: .5ex}\n",
       ".dl-inline>dt:not(:first-of-type) {padding-left: .5ex}\n",
       "</style><dl class=dl-inline><dt>VarOdF</dt><dd>0.922015607319714</dd><dt>VarOlF</dt><dd>0.65337443086878</dd><dt>VarOtF</dt><dd>1.46254839935635</dd></dl>\n"
      ],
      "text/latex": [
       "\\begin{description*}\n",
       "\\item[VarOdF] 0.922015607319714\n",
       "\\item[VarOlF] 0.65337443086878\n",
       "\\item[VarOtF] 1.46254839935635\n",
       "\\end{description*}\n"
      ],
      "text/markdown": [
       "VarOdF\n",
       ":   0.922015607319714VarOlF\n",
       ":   0.65337443086878VarOtF\n",
       ":   1.46254839935635\n",
       "\n"
      ],
      "text/plain": [
       "   VarOdF    VarOlF    VarOtF \n",
       "0.9220156 0.6533744 1.4625484 "
      ]
     },
     "metadata": {},
     "output_type": "display_data"
    },
    {
     "name": "stderr",
     "output_type": "stream",
     "text": [
      "Warning message in .local(x, sigma, ...):\n",
      "\"'sigma' and 'rdig' arguments are present for compatibility only: ignored\"\n",
      "Warning message in .local(x, sigma, ...):\n",
      "\"'sigma' and 'rdig' arguments are present for compatibility only: ignored\"\n",
      "Warning message in .local(x, sigma, ...):\n",
      "\"'sigma' and 'rdig' arguments are present for compatibility only: ignored\"\n",
      "Warning message in .local(x, sigma, ...):\n",
      "\"'sigma' and 'rdig' arguments are present for compatibility only: ignored\"\n",
      "Warning message in .local(x, sigma, ...):\n",
      "\"'sigma' and 'rdig' arguments are present for compatibility only: ignored\"\n",
      "Warning message in .local(x, sigma, ...):\n",
      "\"'sigma' and 'rdig' arguments are present for compatibility only: ignored\"\n",
      "Warning message in .local(x, sigma, ...):\n",
      "\"'sigma' and 'rdig' arguments are present for compatibility only: ignored\"\n"
     ]
    },
    {
     "data": {
      "text/html": [
       "<style>\n",
       ".dl-inline {width: auto; margin:0; padding: 0}\n",
       ".dl-inline>dt, .dl-inline>dd {float: none; width: auto; display: inline-block}\n",
       ".dl-inline>dt::after {content: \":\\0020\"; padding-right: .5ex}\n",
       ".dl-inline>dt:not(:first-of-type) {padding-left: .5ex}\n",
       "</style><dl class=dl-inline><dt>R2glmmM</dt><dd>0.00929527752559986</dd><dt>R2glmmC</dt><dd>0.524270091910443</dd><dt>ICCrawPop</dt><dd>0.519481361622236</dd><dt>ICCadjPop</dt><dd>0.519806560625484</dd></dl>\n"
      ],
      "text/latex": [
       "\\begin{description*}\n",
       "\\item[R2glmmM] 0.00929527752559986\n",
       "\\item[R2glmmC] 0.524270091910443\n",
       "\\item[ICCrawPop] 0.519481361622236\n",
       "\\item[ICCadjPop] 0.519806560625484\n",
       "\\end{description*}\n"
      ],
      "text/markdown": [
       "R2glmmM\n",
       ":   0.00929527752559986R2glmmC\n",
       ":   0.524270091910443ICCrawPop\n",
       ":   0.519481361622236ICCadjPop\n",
       ":   0.519806560625484\n",
       "\n"
      ],
      "text/plain": [
       "    R2glmmM     R2glmmC   ICCrawPop   ICCadjPop \n",
       "0.009295278 0.524270092 0.519481362 0.519806561 "
      ]
     },
     "metadata": {},
     "output_type": "display_data"
    },
    {
     "data": {
      "image/png": "[encoded data removed]",
      "text/plain": [
       "Plot with title \"Histogram of df$Y\""
      ]
     },
     "metadata": {
      "image/png": {
       "height": 420,
       "width": 420
      }
     },
     "output_type": "display_data"
    }
   ],
   "source": [
    "df$Y = df$weekly_nbr_uncommon_behavior\n",
    "hist(df$Y)\n",
    "# Fit null model without fixed effects (but including all random effects)\n",
    "parmodADMBr <-glmmadmb(Y ~ 1 + (1|HenID), family = \"nbinom2\",data=df)\n",
    "# Fit alternative model including fixed and all random effects\n",
    "parmodADMBf <-glmmadmb(Y ~ Treatment + scale(weekly_avg_temperature) + scale(WOA) + (1|HenID), family = \"nbinom2\", data=df)\n",
    "# View model fits for both models\n",
    "summary(parmodADMBr)\n",
    "summary(parmodADMBf)\n",
    "\n",
    "# Calculation of the variance in fitted values\n",
    "VarF <-var(as.vector(model.matrix(parmodADMBf) %*%fixef(parmodADMBf)))\n",
    "# getting the observation-level variance Null model\n",
    "thetaN <- parmodADMBr$alpha# note that theta is called alpha in glmmadmb\n",
    "lambda <-as.numeric(exp(fixef(parmodADMBr) + 0.5 * (as.numeric(VarCorr(parmodADMBr)[1]))))\n",
    "# lambda2 <- mean(DataAll$Parasite)\n",
    "VarOdN <- 1/lambda + 1/thetaN # the delta method\n",
    "VarOlN <-log(1 + (1/lambda) + (1/thetaN))# log-normal approximation\n",
    "VarOtN <-trigamma((1/lambda + 1/thetaN)^(-1))# trigamma function\n",
    "# comparing the three\n",
    "c(VarOdN = VarOdN, VarOlN = VarOlN, VarOtN = VarOtN)\n",
    "\n",
    "# Full model\n",
    "thetaF <- parmodADMBf$alpha# note that theta is called alpha in glmmadmb\n",
    "VarOdF <- 1/lambda + 1/thetaF# the delta method\n",
    "VarOlF <-log(1 + (1/lambda) + (1/thetaF))# log-normal approximation\n",
    "VarOtF <-trigamma((1/lambda + 1/thetaF)^(-1))# trigamma function\n",
    "# comparing the three\n",
    "c(VarOdF = VarOdF, VarOlF = VarOlF, VarOtF = VarOtF)\n",
    "\n",
    "# R2[GLMM(m)] - marginal R2[GLMM]\n",
    "R2glmmM <- VarF/(VarF +sum(as.numeric(VarCorr(parmodADMBf))) + VarOtF)\n",
    "# R2[GLMM(c)] - conditional R2[GLMM] for full model\n",
    "R2glmmC <- (VarF +sum(as.numeric(VarCorr(parmodADMBf))))/(VarF +sum(as.numeric(VarCorr(parmodADMBf))) +VarOtF)\n",
    "# Raw unadjusted ICC[HenID]\n",
    "ICCrawPop <-VarCorr(parmodADMBr)$HenID[1]/(sum(as.numeric(VarCorr(parmodADMBr))) +VarOtN)\n",
    "# adjusted ICC[HenID]\n",
    "ICCadjPop <-VarCorr(parmodADMBf)$HenID[1]/(sum(as.numeric(VarCorr(parmodADMBf))) +VarOtF)\n",
    "# comparing the results\n",
    "c(R2glmmM = R2glmmM, R2glmmC = R2glmmC, ICCrawPop = ICCrawPop, ICCadjPop = ICCadjPop)"
   ]
  },
  {
   "cell_type": "markdown",
   "id": "df47a834",
   "metadata": {},
   "source": [
    "# Gamma GLMMs with log link - continuous positive distribution skewed"
   ]
  },
  {
   "cell_type": "raw",
   "id": "cde2ec99",
   "metadata": {},
   "source": [
    "Heteroscedasticity should be observed since the variance changes with the mean. This is true for the modeled response variable but not for the residuals vs. the predicted values the plot(ypred,res) should have no residual pattern present.\n",
    "\n",
    "Thus, the deviance residuals are analogous to the conventional residuals: when they are squared, we obtain the sum of squares that we use for assessing the fit of the model. However, while the sum of squares is the residual sum of squares for linear models, for GLMs, this is the deviance the desiduals should be normally distributed, but the deviance reiduals should. \n",
    "\n",
    "The distribution of y|x is assumed to be gamma, and I don't think that X−E(X) is gamma for X∼Gamma(k,θ).\n",
    "\n",
    " Pearson and deviance resid plots "
   ]
  },
  {
   "cell_type": "code",
   "execution_count": 11,
   "id": "b8dc7f74",
   "metadata": {},
   "outputs": [
    {
     "ename": "ERROR",
     "evalue": "Error in resid(sizemodADMBf, type = \"pearson\"): objet 'sizemodADMBf' introuvable\n",
     "output_type": "error",
     "traceback": [
      "Error in resid(sizemodADMBf, type = \"pearson\"): objet 'sizemodADMBf' introuvable\nTraceback:\n",
      "1. resid(sizemodADMBf, type = \"pearson\")"
     ]
    }
   ],
   "source": [
    "sum(resid(sizemodADMBf,type=\"pearson\")^2)"
   ]
  },
  {
   "cell_type": "code",
   "execution_count": null,
   "id": "b2c20d68",
   "metadata": {},
   "outputs": [],
   "source": [
    "p.value = pchisq(sizemodADMBf$deviance/summary(sizemodADMBf$disp), df = sizemodADMBf$df.residual, lower.tail = F)"
   ]
  },
  {
   "cell_type": "code",
   "execution_count": null,
   "id": "626fe5b2",
   "metadata": {},
   "outputs": [],
   "source": [
    "sizemodADMBr$alpha\n",
    "sizemodADMBf$alpha"
   ]
  },
  {
   "cell_type": "markdown",
   "id": "e2cedb3b",
   "metadata": {},
   "source": [
    "### weekly_avertical_travel_distance"
   ]
  },
  {
   "cell_type": "code",
   "execution_count": 12,
   "id": "e8b39067",
   "metadata": {},
   "outputs": [
    {
     "name": "stderr",
     "output_type": "stream",
     "text": [
      "Warning message in .local(x, sigma, ...):\n",
      "\"'sigma' and 'rdig' arguments are present for compatibility only: ignored\"\n"
     ]
    },
    {
     "data": {
      "text/plain": [
       "\n",
       "Call:\n",
       "glmmadmb(formula = Y ~ 1 + (1 | HenID), data = df, family = \"gamma\")\n",
       "\n",
       "AIC: 22183.2 \n",
       "\n",
       "Coefficients:\n",
       "            Estimate Std. Error z value Pr(>|z|)    \n",
       "(Intercept)   4.0220     0.0343     117   <2e-16 ***\n",
       "---\n",
       "Signif. codes:  0 '***' 0.001 '**' 0.01 '*' 0.05 '.' 0.1 ' ' 1\n",
       "\n",
       "Number of observations: total=2705, HenID=194 \n",
       "Random effect variance(s):\n",
       "Group=HenID\n",
       "            Variance StdDev\n",
       "(Intercept)   0.2242 0.4735\n",
       "\n",
       "Gamma shape parameter: 19.876 (std. err.: 0.55628)\n",
       "\n",
       "Log-likelihood: -11088.6 "
      ]
     },
     "metadata": {},
     "output_type": "display_data"
    },
    {
     "name": "stderr",
     "output_type": "stream",
     "text": [
      "Warning message in .local(x, sigma, ...):\n",
      "\"'sigma' and 'rdig' arguments are present for compatibility only: ignored\"\n"
     ]
    },
    {
     "data": {
      "text/plain": [
       "\n",
       "Call:\n",
       "glmmadmb(formula = Y ~ Treatment + scale(weekly_avg_temperature) + \n",
       "    scale(WOA) + (1 | HenID), data = df, family = \"gamma\")\n",
       "\n",
       "AIC: 22154.2 \n",
       "\n",
       "Coefficients:\n",
       "                              Estimate Std. Error z value Pr(>|z|)    \n",
       "(Intercept)                     4.0551     0.0482   84.06  < 2e-16 ***\n",
       "TreatmentOFH                   -0.0694     0.0685   -1.01    0.311    \n",
       "scale(weekly_avg_temperature)  -0.0525     0.0118   -4.46  8.4e-06 ***\n",
       "scale(WOA)                      0.0307     0.0120    2.55    0.011 *  \n",
       "---\n",
       "Signif. codes:  0 '***' 0.001 '**' 0.01 '*' 0.05 '.' 0.1 ' ' 1\n",
       "\n",
       "Number of observations: total=2705, HenID=194 \n",
       "Random effect variance(s):\n",
       "Group=HenID\n",
       "            Variance StdDev\n",
       "(Intercept)   0.2231 0.4724\n",
       "\n",
       "Gamma shape parameter: 20.142 (std. err.: 0.56381)\n",
       "\n",
       "Log-likelihood: -11071.1 "
      ]
     },
     "metadata": {},
     "output_type": "display_data"
    },
    {
     "data": {
      "image/png": "[encoded data removed]",
      "text/plain": [
       "Plot with title \"Histogram of df$Y\""
      ]
     },
     "metadata": {
      "image/png": {
       "height": 420,
       "width": 420
      }
     },
     "output_type": "display_data"
    },
    {
     "data": {
      "image/png": "[encoded data removed]",
      "text/plain": [
       "plot without title"
      ]
     },
     "metadata": {
      "image/png": {
       "height": 420,
       "width": 420
      }
     },
     "output_type": "display_data"
    },
    {
     "data": {
      "image/png": "[encoded data removed]",
      "text/plain": [
       "Plot with title \"Histogram of res\""
      ]
     },
     "metadata": {
      "image/png": {
       "height": 420,
       "width": 420
      }
     },
     "output_type": "display_data"
    },
    {
     "data": {
      "image/png": "[encoded data removed]",
      "text/plain": [
       "plot without title"
      ]
     },
     "metadata": {
      "image/png": {
       "height": 420,
       "width": 420
      }
     },
     "output_type": "display_data"
    },
    {
     "data": {
      "text/html": [
       "0.00191858389399219"
      ],
      "text/latex": [
       "0.00191858389399219"
      ],
      "text/markdown": [
       "0.00191858389399219"
      ],
      "text/plain": [
       "[1] 0.001918584"
      ]
     },
     "metadata": {},
     "output_type": "display_data"
    },
    {
     "data": {
      "text/html": [
       "<style>\n",
       ".dl-inline {width: auto; margin:0; padding: 0}\n",
       ".dl-inline>dt, .dl-inline>dd {float: none; width: auto; display: inline-block}\n",
       ".dl-inline>dt::after {content: \":\\0020\"; padding-right: .5ex}\n",
       ".dl-inline>dt:not(:first-of-type) {padding-left: .5ex}\n",
       "</style><dl class=dl-inline><dt>VarOdN</dt><dd>0.0503119339907426</dd><dt>VarOlN</dt><dd>0.0490872000410926</dd><dt>VarOtN</dt><dd>0.0515987943038207</dd></dl>\n"
      ],
      "text/latex": [
       "\\begin{description*}\n",
       "\\item[VarOdN] 0.0503119339907426\n",
       "\\item[VarOlN] 0.0490872000410926\n",
       "\\item[VarOtN] 0.0515987943038207\n",
       "\\end{description*}\n"
      ],
      "text/markdown": [
       "VarOdN\n",
       ":   0.0503119339907426VarOlN\n",
       ":   0.0490872000410926VarOtN\n",
       ":   0.0515987943038207\n",
       "\n"
      ],
      "text/plain": [
       "    VarOdN     VarOlN     VarOtN \n",
       "0.05031193 0.04908720 0.05159879 "
      ]
     },
     "metadata": {},
     "output_type": "display_data"
    },
    {
     "data": {
      "text/html": [
       "<style>\n",
       ".dl-inline {width: auto; margin:0; padding: 0}\n",
       ".dl-inline>dt, .dl-inline>dd {float: none; width: auto; display: inline-block}\n",
       ".dl-inline>dt::after {content: \":\\0020\"; padding-right: .5ex}\n",
       ".dl-inline>dt:not(:first-of-type) {padding-left: .5ex}\n",
       "</style><dl class=dl-inline><dt>VarOdF</dt><dd>0.0496475027306126</dd><dt>VarOlF</dt><dd>0.0484543961205185</dd><dt>VarOtF</dt><dd>0.0509003257681293</dd></dl>\n"
      ],
      "text/latex": [
       "\\begin{description*}\n",
       "\\item[VarOdF] 0.0496475027306126\n",
       "\\item[VarOlF] 0.0484543961205185\n",
       "\\item[VarOtF] 0.0509003257681293\n",
       "\\end{description*}\n"
      ],
      "text/markdown": [
       "VarOdF\n",
       ":   0.0496475027306126VarOlF\n",
       ":   0.0484543961205185VarOtF\n",
       ":   0.0509003257681293\n",
       "\n"
      ],
      "text/plain": [
       "    VarOdF     VarOlF     VarOtF \n",
       "0.04964750 0.04845440 0.05090033 "
      ]
     },
     "metadata": {},
     "output_type": "display_data"
    },
    {
     "name": "stderr",
     "output_type": "stream",
     "text": [
      "Warning message in .local(x, sigma, ...):\n",
      "\"'sigma' and 'rdig' arguments are present for compatibility only: ignored\"\n",
      "Warning message in .local(x, sigma, ...):\n",
      "\"'sigma' and 'rdig' arguments are present for compatibility only: ignored\"\n",
      "Warning message in .local(x, sigma, ...):\n",
      "\"'sigma' and 'rdig' arguments are present for compatibility only: ignored\"\n",
      "Warning message in .local(x, sigma, ...):\n",
      "\"'sigma' and 'rdig' arguments are present for compatibility only: ignored\"\n",
      "Warning message in .local(x, sigma, ...):\n",
      "\"'sigma' and 'rdig' arguments are present for compatibility only: ignored\"\n",
      "Warning message in .local(x, sigma, ...):\n",
      "\"'sigma' and 'rdig' arguments are present for compatibility only: ignored\"\n",
      "Warning message in .local(x, sigma, ...):\n",
      "\"'sigma' and 'rdig' arguments are present for compatibility only: ignored\"\n"
     ]
    },
    {
     "data": {
      "text/html": [
       "<style>\n",
       ".dl-inline {width: auto; margin:0; padding: 0}\n",
       ".dl-inline>dt, .dl-inline>dd {float: none; width: auto; display: inline-block}\n",
       ".dl-inline>dt::after {content: \":\\0020\"; padding-right: .5ex}\n",
       ".dl-inline>dt:not(:first-of-type) {padding-left: .5ex}\n",
       "</style><dl class=dl-inline><dt>R2glmmM</dt><dd>0.0069526779299159</dd><dt>R2glmmC</dt><dd>0.815544385261558</dd><dt>ICCrawPop</dt><dd>0.812925024075831</dd><dt>ICCadjPop</dt><dd>0.814252945817396</dd></dl>\n"
      ],
      "text/latex": [
       "\\begin{description*}\n",
       "\\item[R2glmmM] 0.0069526779299159\n",
       "\\item[R2glmmC] 0.815544385261558\n",
       "\\item[ICCrawPop] 0.812925024075831\n",
       "\\item[ICCadjPop] 0.814252945817396\n",
       "\\end{description*}\n"
      ],
      "text/markdown": [
       "R2glmmM\n",
       ":   0.0069526779299159R2glmmC\n",
       ":   0.815544385261558ICCrawPop\n",
       ":   0.812925024075831ICCadjPop\n",
       ":   0.814252945817396\n",
       "\n"
      ],
      "text/plain": [
       "    R2glmmM     R2glmmC   ICCrawPop   ICCadjPop \n",
       "0.006952678 0.815544385 0.812925024 0.814252946 "
      ]
     },
     "metadata": {},
     "output_type": "display_data"
    },
    {
     "name": "stderr",
     "output_type": "stream",
     "text": [
      "Warning message in .local(x, sigma, ...):\n",
      "\"'sigma' and 'rdig' arguments are present for compatibility only: ignored\"\n",
      "Warning message in .local(x, sigma, ...):\n",
      "\"'sigma' and 'rdig' arguments are present for compatibility only: ignored\"\n",
      "Warning message in .local(x, sigma, ...):\n",
      "\"'sigma' and 'rdig' arguments are present for compatibility only: ignored\"\n",
      "Warning message in .local(x, sigma, ...):\n",
      "\"'sigma' and 'rdig' arguments are present for compatibility only: ignored\"\n",
      "Warning message in .local(x, sigma, ...):\n",
      "\"'sigma' and 'rdig' arguments are present for compatibility only: ignored\"\n",
      "Warning message in .local(x, sigma, ...):\n",
      "\"'sigma' and 'rdig' arguments are present for compatibility only: ignored\"\n",
      "Warning message in .local(x, sigma, ...):\n",
      "\"'sigma' and 'rdig' arguments are present for compatibility only: ignored\"\n"
     ]
    },
    {
     "data": {
      "text/html": [
       "<style>\n",
       ".dl-inline {width: auto; margin:0; padding: 0}\n",
       ".dl-inline>dt, .dl-inline>dd {float: none; width: auto; display: inline-block}\n",
       ".dl-inline>dt::after {content: \":\\0020\"; padding-right: .5ex}\n",
       ".dl-inline>dt:not(:first-of-type) {padding-left: .5ex}\n",
       "</style><dl class=dl-inline><dt>R2glmmM</dt><dd>0.0069526779299159</dd><dt>R2glmmC</dt><dd>0.815544385261558</dd><dt>ICCrawPop</dt><dd>0.812925024075831</dd><dt>ICCadjPop</dt><dd>0.814252945817396</dd></dl>\n"
      ],
      "text/latex": [
       "\\begin{description*}\n",
       "\\item[R2glmmM] 0.0069526779299159\n",
       "\\item[R2glmmC] 0.815544385261558\n",
       "\\item[ICCrawPop] 0.812925024075831\n",
       "\\item[ICCadjPop] 0.814252945817396\n",
       "\\end{description*}\n"
      ],
      "text/markdown": [
       "R2glmmM\n",
       ":   0.0069526779299159R2glmmC\n",
       ":   0.815544385261558ICCrawPop\n",
       ":   0.812925024075831ICCadjPop\n",
       ":   0.814252945817396\n",
       "\n"
      ],
      "text/plain": [
       "    R2glmmM     R2glmmC   ICCrawPop   ICCadjPop \n",
       "0.006952678 0.815544385 0.812925024 0.814252946 "
      ]
     },
     "metadata": {},
     "output_type": "display_data"
    },
    {
     "data": {
      "image/png": "[encoded data removed]",
      "text/plain": [
       "plot without title"
      ]
     },
     "metadata": {
      "image/png": {
       "height": 420,
       "width": 420
      }
     },
     "output_type": "display_data"
    }
   ],
   "source": [
    "df$Y = df$weekly_avertical_travel_distance\n",
    "hist(df$Y)\n",
    "# Fit null model without fixed effects (but including all random effects)\n",
    "DistancemodADMBr <-glmmadmb(Y ~ 1 + (1|HenID), family = \"gamma\",data = df)\n",
    "# Fit alternative model including fixed and all random effects\n",
    "DistancemodADMBf <-glmmadmb(Y ~ Treatment + scale(weekly_avg_temperature) + scale(WOA) + (1|HenID), \n",
    "                                 family = \"gamma\", data = df)\n",
    "# View model fits for both models\n",
    "summary(DistancemodADMBr)\n",
    "summary(DistancemodADMBf)\n",
    "\n",
    "ypred = predict(DistancemodADMBf)\n",
    "res = residuals(DistancemodADMBf, type = 'pearson')\n",
    "plot(ypred,res)\n",
    "hist(res)\n",
    "plot(res)\n",
    "plot(y = res, x = df$Y)\n",
    "\n",
    "# Calculation of the variance in fitted values\n",
    "VarF <-var(as.vector(model.matrix(DistancemodADMBf) %*%fixef(DistancemodADMBf)))\n",
    "VarF\n",
    "\n",
    "# getting the observation-level variance Null model\n",
    "nuN <- DistancemodADMBr$alpha# overdispersion omega is alpha in glmmadmb\n",
    "VarOdN <- 1/nuN# the delta method\n",
    "VarOlN <-log(1 + 1/nuN)# log-normal approximation\n",
    "VarOtN <-trigamma(nuN)# trigamma function\n",
    "# comparing the three\n",
    "c(VarOdN = VarOdN, VarOlN = VarOlN, VarOtN = VarOtN)\n",
    "\n",
    "# Full model\n",
    "nuF <- DistancemodADMBf$alpha\n",
    "# overdispersion omega is alpha in glmmadmb\n",
    "VarOdF <- 1/nuF# the delta method\n",
    "VarOlF <-log(1 + 1/nuF)# log-normal approximation\n",
    "VarOtF <-trigamma(nuF)# trigamma function-\n",
    "# comparing the three\n",
    "c(VarOdF = VarOdF, VarOlF = VarOlF, VarOtF = VarOtF)\n",
    "#select highest one?? read!\n",
    "\n",
    "\n",
    "# R2[GLMM(m)] - marginal R2[GLMM]\n",
    "R2glmmM <- VarF/(VarF +sum(as.numeric(VarCorr(DistancemodADMBf))) + VarOtF)\n",
    "# R2[GLMM(c)] - conditional R2[GLMM] for full model\n",
    "R2glmmC <- (VarF +sum(as.numeric(VarCorr(DistancemodADMBf))))/(VarF +sum(as.numeric(VarCorr(DistancemodADMBf))) +VarOtF)\n",
    "# Raw unadjusted ICC[HenID]\n",
    "ICCrawPop <-VarCorr(DistancemodADMBr)$HenID[1]/(sum(as.numeric(VarCorr(DistancemodADMBr))) +VarOtN)\n",
    "# adjusted ICC[HenID]\n",
    "ICCadjPop <-VarCorr(DistancemodADMBf)$HenID[1]/(sum(as.numeric(VarCorr(DistancemodADMBf))) +VarOtF)\n",
    "# comparing the results\n",
    "c(R2glmmM = R2glmmM, R2glmmC = R2glmmC, ICCrawPop = ICCrawPop, ICCadjPop = ICCadjPop)\n",
    "\n",
    "# R2[GLMM(m)] - marginal R2[GLMM]\n",
    "R2glmmM <- VarF/(VarF +sum(as.numeric(VarCorr(DistancemodADMBf))) + VarOtF)\n",
    "# R2[GLMM(c)] - conditional R2[GLMM] for full model\n",
    "R2glmmC <- (VarF +sum(as.numeric(VarCorr(DistancemodADMBf))))/(VarF +sum(as.numeric(VarCorr(DistancemodADMBf))) +VarOtF)\n",
    "# Raw unadjusted ICC[HenID]\n",
    "ICCrawPop <-VarCorr(DistancemodADMBr)$HenID[1]/(sum(as.numeric(VarCorr(DistancemodADMBr))) +VarOtN)\n",
    "# adjusted ICC[HenID]\n",
    "ICCadjPop <-VarCorr(DistancemodADMBf)$HenID[1]/(sum(as.numeric(VarCorr(DistancemodADMBf))) +VarOtF)\n",
    "# comparing the results\n",
    "c(R2glmmM = R2glmmM, R2glmmC = R2glmmC, ICCrawPop = ICCrawPop, ICCadjPop = ICCadjPop)"
   ]
  },
  {
   "cell_type": "markdown",
   "id": "9bcfe0ac",
   "metadata": {},
   "source": [
    "### weekly_avg_time_midduratioZ4_min"
   ]
  },
  {
   "cell_type": "code",
   "execution_count": 13,
   "id": "23549186",
   "metadata": {},
   "outputs": [
    {
     "name": "stderr",
     "output_type": "stream",
     "text": [
      "Warning message in .local(x, sigma, ...):\n",
      "\"'sigma' and 'rdig' arguments are present for compatibility only: ignored\"\n"
     ]
    },
    {
     "data": {
      "text/plain": [
       "\n",
       "Call:\n",
       "glmmadmb(formula = Y ~ 1 + (1 | HenID), data = df, family = \"gamma\")\n",
       "\n",
       "AIC: 28779.6 \n",
       "\n",
       "Coefficients:\n",
       "            Estimate Std. Error z value Pr(>|z|)    \n",
       "(Intercept)   5.0589     0.0217     233   <2e-16 ***\n",
       "---\n",
       "Signif. codes:  0 '***' 0.001 '**' 0.01 '*' 0.05 '.' 0.1 ' ' 1\n",
       "\n",
       "Number of observations: total=2705, HenID=194 \n",
       "Random effect variance(s):\n",
       "Group=HenID\n",
       "            Variance StdDev\n",
       "(Intercept)  0.08419 0.2902\n",
       "\n",
       "Gamma shape parameter: 11.859 (std. err.: 0.33039)\n",
       "\n",
       "Log-likelihood: -14386.8 "
      ]
     },
     "metadata": {},
     "output_type": "display_data"
    },
    {
     "name": "stderr",
     "output_type": "stream",
     "text": [
      "Warning message in .local(x, sigma, ...):\n",
      "\"'sigma' and 'rdig' arguments are present for compatibility only: ignored\"\n"
     ]
    },
    {
     "data": {
      "text/plain": [
       "\n",
       "Call:\n",
       "glmmadmb(formula = Y ~ Treatment + scale(weekly_avg_temperature) + \n",
       "    scale(WOA) + (1 | HenID), data = df, family = \"gamma\")\n",
       "\n",
       "AIC: 28333.4 \n",
       "\n",
       "Coefficients:\n",
       "                              Estimate Std. Error z value Pr(>|z|)    \n",
       "(Intercept)                     5.0779     0.0302  167.93  < 2e-16 ***\n",
       "TreatmentOFH                   -0.0410     0.0429   -0.96   0.3395    \n",
       "scale(weekly_avg_temperature)   0.0764     0.0144    5.31  1.1e-07 ***\n",
       "scale(WOA)                      0.0445     0.0144    3.08   0.0021 ** \n",
       "---\n",
       "Signif. codes:  0 '***' 0.001 '**' 0.01 '*' 0.05 '.' 0.1 ' ' 1\n",
       "\n",
       "Number of observations: total=2705, HenID=194 \n",
       "Random effect variance(s):\n",
       "Group=HenID\n",
       "            Variance StdDev\n",
       "(Intercept)  0.08306 0.2882\n",
       "\n",
       "Gamma shape parameter: 14.105 (std. err.: 0.39379)\n",
       "\n",
       "Log-likelihood: -14160.7 "
      ]
     },
     "metadata": {},
     "output_type": "display_data"
    },
    {
     "data": {
      "image/png": "[encoded data removed]",
      "text/plain": [
       "Plot with title \"Histogram of df$Y\""
      ]
     },
     "metadata": {
      "image/png": {
       "height": 420,
       "width": 420
      }
     },
     "output_type": "display_data"
    },
    {
     "data": {
      "image/png": "[encoded data removed]",
      "text/plain": [
       "plot without title"
      ]
     },
     "metadata": {
      "image/png": {
       "height": 420,
       "width": 420
      }
     },
     "output_type": "display_data"
    },
    {
     "data": {
      "image/png": "[encoded data removed]",
      "text/plain": [
       "Plot with title \"Histogram of res\""
      ]
     },
     "metadata": {
      "image/png": {
       "height": 420,
       "width": 420
      }
     },
     "output_type": "display_data"
    },
    {
     "data": {
      "image/png": "[encoded data removed]",
      "text/plain": [
       "plot without title"
      ]
     },
     "metadata": {
      "image/png": {
       "height": 420,
       "width": 420
      }
     },
     "output_type": "display_data"
    },
    {
     "data": {
      "text/html": [
       "0.0144962728462631"
      ],
      "text/latex": [
       "0.0144962728462631"
      ],
      "text/markdown": [
       "0.0144962728462631"
      ],
      "text/plain": [
       "[1] 0.01449627"
      ]
     },
     "metadata": {},
     "output_type": "display_data"
    },
    {
     "data": {
      "text/html": [
       "<style>\n",
       ".dl-inline {width: auto; margin:0; padding: 0}\n",
       ".dl-inline>dt, .dl-inline>dd {float: none; width: auto; display: inline-block}\n",
       ".dl-inline>dt::after {content: \":\\0020\"; padding-right: .5ex}\n",
       ".dl-inline>dt:not(:first-of-type) {padding-left: .5ex}\n",
       "</style><dl class=dl-inline><dt>VarOdN</dt><dd>0.0843241420018551</dd><dt>VarOlN</dt><dd>0.0809568823056439</dd><dt>VarOtN</dt><dd>0.0879792130557669</dd></dl>\n"
      ],
      "text/latex": [
       "\\begin{description*}\n",
       "\\item[VarOdN] 0.0843241420018551\n",
       "\\item[VarOlN] 0.0809568823056439\n",
       "\\item[VarOtN] 0.0879792130557669\n",
       "\\end{description*}\n"
      ],
      "text/markdown": [
       "VarOdN\n",
       ":   0.0843241420018551VarOlN\n",
       ":   0.0809568823056439VarOtN\n",
       ":   0.0879792130557669\n",
       "\n"
      ],
      "text/plain": [
       "    VarOdN     VarOlN     VarOtN \n",
       "0.08432414 0.08095688 0.08797921 "
      ]
     },
     "metadata": {},
     "output_type": "display_data"
    },
    {
     "data": {
      "text/html": [
       "<style>\n",
       ".dl-inline {width: auto; margin:0; padding: 0}\n",
       ".dl-inline>dt, .dl-inline>dd {float: none; width: auto; display: inline-block}\n",
       ".dl-inline>dt::after {content: \":\\0020\"; padding-right: .5ex}\n",
       ".dl-inline>dt:not(:first-of-type) {padding-left: .5ex}\n",
       "</style><dl class=dl-inline><dt>VarOdF</dt><dd>0.0708968450903935</dd><dt>VarOlF</dt><dd>0.0684964703846757</dd><dt>VarOtF</dt><dd>0.0734693591287432</dd></dl>\n"
      ],
      "text/latex": [
       "\\begin{description*}\n",
       "\\item[VarOdF] 0.0708968450903935\n",
       "\\item[VarOlF] 0.0684964703846757\n",
       "\\item[VarOtF] 0.0734693591287432\n",
       "\\end{description*}\n"
      ],
      "text/markdown": [
       "VarOdF\n",
       ":   0.0708968450903935VarOlF\n",
       ":   0.0684964703846757VarOtF\n",
       ":   0.0734693591287432\n",
       "\n"
      ],
      "text/plain": [
       "    VarOdF     VarOlF     VarOtF \n",
       "0.07089685 0.06849647 0.07346936 "
      ]
     },
     "metadata": {},
     "output_type": "display_data"
    },
    {
     "name": "stderr",
     "output_type": "stream",
     "text": [
      "Warning message in .local(x, sigma, ...):\n",
      "\"'sigma' and 'rdig' arguments are present for compatibility only: ignored\"\n",
      "Warning message in .local(x, sigma, ...):\n",
      "\"'sigma' and 'rdig' arguments are present for compatibility only: ignored\"\n",
      "Warning message in .local(x, sigma, ...):\n",
      "\"'sigma' and 'rdig' arguments are present for compatibility only: ignored\"\n",
      "Warning message in .local(x, sigma, ...):\n",
      "\"'sigma' and 'rdig' arguments are present for compatibility only: ignored\"\n",
      "Warning message in .local(x, sigma, ...):\n",
      "\"'sigma' and 'rdig' arguments are present for compatibility only: ignored\"\n",
      "Warning message in .local(x, sigma, ...):\n",
      "\"'sigma' and 'rdig' arguments are present for compatibility only: ignored\"\n",
      "Warning message in .local(x, sigma, ...):\n",
      "\"'sigma' and 'rdig' arguments are present for compatibility only: ignored\"\n"
     ]
    },
    {
     "data": {
      "text/html": [
       "<style>\n",
       ".dl-inline {width: auto; margin:0; padding: 0}\n",
       ".dl-inline>dt, .dl-inline>dd {float: none; width: auto; display: inline-block}\n",
       ".dl-inline>dt::after {content: \":\\0020\"; padding-right: .5ex}\n",
       ".dl-inline>dt:not(:first-of-type) {padding-left: .5ex}\n",
       "</style><dl class=dl-inline><dt>R2glmmM</dt><dd>0.0847603246281644</dd><dt>R2glmmC</dt><dd>0.570421528622046</dd><dt>ICCrawPop</dt><dd>0.489004575742601</dd><dt>ICCadjPop</dt><dd>0.530638276576648</dd></dl>\n"
      ],
      "text/latex": [
       "\\begin{description*}\n",
       "\\item[R2glmmM] 0.0847603246281644\n",
       "\\item[R2glmmC] 0.570421528622046\n",
       "\\item[ICCrawPop] 0.489004575742601\n",
       "\\item[ICCadjPop] 0.530638276576648\n",
       "\\end{description*}\n"
      ],
      "text/markdown": [
       "R2glmmM\n",
       ":   0.0847603246281644R2glmmC\n",
       ":   0.570421528622046ICCrawPop\n",
       ":   0.489004575742601ICCadjPop\n",
       ":   0.530638276576648\n",
       "\n"
      ],
      "text/plain": [
       "   R2glmmM    R2glmmC  ICCrawPop  ICCadjPop \n",
       "0.08476032 0.57042153 0.48900458 0.53063828 "
      ]
     },
     "metadata": {},
     "output_type": "display_data"
    },
    {
     "name": "stderr",
     "output_type": "stream",
     "text": [
      "Warning message in .local(x, sigma, ...):\n",
      "\"'sigma' and 'rdig' arguments are present for compatibility only: ignored\"\n",
      "Warning message in .local(x, sigma, ...):\n",
      "\"'sigma' and 'rdig' arguments are present for compatibility only: ignored\"\n",
      "Warning message in .local(x, sigma, ...):\n",
      "\"'sigma' and 'rdig' arguments are present for compatibility only: ignored\"\n",
      "Warning message in .local(x, sigma, ...):\n",
      "\"'sigma' and 'rdig' arguments are present for compatibility only: ignored\"\n",
      "Warning message in .local(x, sigma, ...):\n",
      "\"'sigma' and 'rdig' arguments are present for compatibility only: ignored\"\n",
      "Warning message in .local(x, sigma, ...):\n",
      "\"'sigma' and 'rdig' arguments are present for compatibility only: ignored\"\n",
      "Warning message in .local(x, sigma, ...):\n",
      "\"'sigma' and 'rdig' arguments are present for compatibility only: ignored\"\n"
     ]
    },
    {
     "data": {
      "text/html": [
       "<style>\n",
       ".dl-inline {width: auto; margin:0; padding: 0}\n",
       ".dl-inline>dt, .dl-inline>dd {float: none; width: auto; display: inline-block}\n",
       ".dl-inline>dt::after {content: \":\\0020\"; padding-right: .5ex}\n",
       ".dl-inline>dt:not(:first-of-type) {padding-left: .5ex}\n",
       "</style><dl class=dl-inline><dt>R2glmmM</dt><dd>0.0847603246281644</dd><dt>R2glmmC</dt><dd>0.570421528622046</dd><dt>ICCrawPop</dt><dd>0.489004575742601</dd><dt>ICCadjPop</dt><dd>0.530638276576648</dd></dl>\n"
      ],
      "text/latex": [
       "\\begin{description*}\n",
       "\\item[R2glmmM] 0.0847603246281644\n",
       "\\item[R2glmmC] 0.570421528622046\n",
       "\\item[ICCrawPop] 0.489004575742601\n",
       "\\item[ICCadjPop] 0.530638276576648\n",
       "\\end{description*}\n"
      ],
      "text/markdown": [
       "R2glmmM\n",
       ":   0.0847603246281644R2glmmC\n",
       ":   0.570421528622046ICCrawPop\n",
       ":   0.489004575742601ICCadjPop\n",
       ":   0.530638276576648\n",
       "\n"
      ],
      "text/plain": [
       "   R2glmmM    R2glmmC  ICCrawPop  ICCadjPop \n",
       "0.08476032 0.57042153 0.48900458 0.53063828 "
      ]
     },
     "metadata": {},
     "output_type": "display_data"
    },
    {
     "data": {
      "image/png": "[encoded data removed]",
      "text/plain": [
       "plot without title"
      ]
     },
     "metadata": {
      "image/png": {
       "height": 420,
       "width": 420
      }
     },
     "output_type": "display_data"
    }
   ],
   "source": [
    "# Fit null model without fixed effects (but including all random effects)\n",
    "df$Y = df$weekly_avg_time_midduratioZ4_min\n",
    "hist(df$Y)\n",
    "TimeinNBmodADMBr <-glmmadmb(Y ~ 1 + (1|HenID), family = \"gamma\",data = df)\n",
    "# Fit alternative model including fixed and all random effects\n",
    "TimeinNBmodADMBf <-glmmadmb(Y ~ Treatment + scale(weekly_avg_temperature) + scale(WOA) + (1|HenID), \n",
    "                                 family = \"gamma\", data = df)\n",
    "# View model fits for both models\n",
    "summary(TimeinNBmodADMBr)\n",
    "summary(TimeinNBmodADMBf)\n",
    "\n",
    "ypred = predict(TimeinNBmodADMBf)\n",
    "res = residuals(TimeinNBmodADMBf, type = 'pearson')\n",
    "plot(ypred,res)\n",
    "hist(res)\n",
    "plot(res)\n",
    "plot(y = res, x = df$Y)\n",
    "\n",
    "# Calculation of the variance in fitted values\n",
    "VarF <-var(as.vector(model.matrix(TimeinNBmodADMBf) %*%fixef(TimeinNBmodADMBf)))\n",
    "VarF\n",
    "\n",
    "# getting the observation-level variance Null model\n",
    "nuN <- TimeinNBmodADMBr$alpha# overdispersion omega is alpha in glmmadmb\n",
    "VarOdN <- 1/nuN# the delta method\n",
    "VarOlN <-log(1 + 1/nuN)# log-normal approximation\n",
    "VarOtN <-trigamma(nuN)# trigamma function\n",
    "# comparing the three\n",
    "c(VarOdN = VarOdN, VarOlN = VarOlN, VarOtN = VarOtN)\n",
    "\n",
    "# Full model\n",
    "nuF <- TimeinNBmodADMBf$alpha\n",
    "# overdispersion omega is alpha in glmmadmb\n",
    "VarOdF <- 1/nuF# the delta method\n",
    "VarOlF <-log(1 + 1/nuF)# log-normal approximation\n",
    "VarOtF <-trigamma(nuF)# trigamma function-\n",
    "# comparing the three\n",
    "c(VarOdF = VarOdF, VarOlF = VarOlF, VarOtF = VarOtF)\n",
    "#select highest one?? read!\n",
    "\n",
    "\n",
    "# R2[GLMM(m)] - marginal R2[GLMM]\n",
    "R2glmmM <- VarF/(VarF +sum(as.numeric(VarCorr(TimeinNBmodADMBf))) + VarOtF)\n",
    "# R2[GLMM(c)] - conditional R2[GLMM] for full model\n",
    "R2glmmC <- (VarF +sum(as.numeric(VarCorr(TimeinNBmodADMBf))))/(VarF +sum(as.numeric(VarCorr(TimeinNBmodADMBf))) +VarOtF)\n",
    "# Raw unadjusted ICC[HenID]\n",
    "ICCrawPop <-VarCorr(TimeinNBmodADMBr)$HenID[1]/(sum(as.numeric(VarCorr(TimeinNBmodADMBr))) +VarOtN)\n",
    "# adjusted ICC[HenID]\n",
    "ICCadjPop <-VarCorr(TimeinNBmodADMBf)$HenID[1]/(sum(as.numeric(VarCorr(TimeinNBmodADMBf))) +VarOtF)\n",
    "# comparing the results\n",
    "c(R2glmmM = R2glmmM, R2glmmC = R2glmmC, ICCrawPop = ICCrawPop, ICCadjPop = ICCadjPop)\n",
    "\n",
    "# R2[GLMM(m)] - marginal R2[GLMM]\n",
    "R2glmmM <- VarF/(VarF +sum(as.numeric(VarCorr(TimeinNBmodADMBf))) + VarOtF)\n",
    "# R2[GLMM(c)] - conditional R2[GLMM] for full model\n",
    "R2glmmC <- (VarF +sum(as.numeric(VarCorr(TimeinNBmodADMBf))))/(VarF +sum(as.numeric(VarCorr(TimeinNBmodADMBf))) +VarOtF)\n",
    "# Raw unadjusted ICC[HenID]\n",
    "ICCrawPop <-VarCorr(TimeinNBmodADMBr)$HenID[1]/(sum(as.numeric(VarCorr(TimeinNBmodADMBr))) +VarOtN)\n",
    "# adjusted ICC[HenID]\n",
    "ICCadjPop <-VarCorr(TimeinNBmodADMBf)$HenID[1]/(sum(as.numeric(VarCorr(TimeinNBmodADMBf))) +VarOtF)\n",
    "# comparing the results\n",
    "c(R2glmmM = R2glmmM, R2glmmC = R2glmmC, ICCrawPop = ICCrawPop, ICCadjPop = ICCadjPop)"
   ]
  },
  {
   "cell_type": "code",
   "execution_count": 29,
   "id": "439efa43",
   "metadata": {},
   "outputs": [
    {
     "name": "stderr",
     "output_type": "stream",
     "text": [
      "Warning message in checkModel(fittedModel):\n",
      "\"DHARMa: fittedModel not in class of supported models. Absolutely no guarantee that this will work!\"\n"
     ]
    },
    {
     "ename": "ERROR",
     "evalue": "Error in UseMethod(\"family\"): pas de méthode pour 'family' applicable pour un objet de classe \"glmmadmb\"\n",
     "output_type": "error",
     "traceback": [
      "Error in UseMethod(\"family\"): pas de méthode pour 'family' applicable pour un objet de classe \"glmmadmb\"\nTraceback:\n",
      "1. simulateResiduals(TimeinNBmodADMBr, n = 1000, plot = T)",
      "2. family(fittedModel)"
     ]
    }
   ],
   "source": [
    "#althought the paper suggest and illustrate the use of glmmadmb, because of:\n",
    "#https://github.com/florianhartig/DHARMa/issues/19\n",
    "#https://github.com/bbolker/glmmadmb/issues/12\n",
    "#we should use glmmTMB\n",
    "\n",
    "simulateResiduals(TimeinNBmodADMBr, n=1000,plot=T)"
   ]
  },
  {
   "cell_type": "code",
   "execution_count": null,
   "id": "9a6fb630",
   "metadata": {},
   "outputs": [],
   "source": []
  },
  {
   "cell_type": "code",
   "execution_count": 21,
   "id": "2953bf29",
   "metadata": {},
   "outputs": [
    {
     "data": {
      "image/png": "[encoded data removed]",
      "text/plain": [
       "plot without title"
      ]
     },
     "metadata": {
      "image/png": {
       "height": 420,
       "width": 420
      }
     },
     "output_type": "display_data"
    }
   ],
   "source": [
    "df_ = df\n",
    "augDat <- data.frame(df_,resid=residuals(TimeinNBmodADMBr,type=\"pearson\"),\n",
    "                     fitted=fitted(TimeinNBmodADMBr))\n",
    "ggplot(augDat,aes(x=PenID,y=resid))+geom_boxplot()+coord_flip()"
   ]
  },
  {
   "cell_type": "code",
   "execution_count": 22,
   "id": "c81b5b2d",
   "metadata": {},
   "outputs": [
    {
     "data": {
      "image/png": "[encoded data removed]",
      "text/plain": [
       "plot without title"
      ]
     },
     "metadata": {
      "image/png": {
       "height": 420,
       "width": 420
      }
     },
     "output_type": "display_data"
    }
   ],
   "source": [
    "df_ = df\n",
    "augDat <- data.frame(df_,resid=residuals(TimeinNBmodADMBr,type=\"pearson\"),\n",
    "                     fitted=fitted(TimeinNBmodADMBr))\n",
    "ggplot(augDat,aes(x=Treatment,y=resid))+geom_boxplot()+coord_flip()"
   ]
  },
  {
   "cell_type": "code",
   "execution_count": null,
   "id": "8ae0e62c",
   "metadata": {},
   "outputs": [],
   "source": []
  },
  {
   "cell_type": "markdown",
   "id": "1fa45b68",
   "metadata": {},
   "source": [
    "### weekly_avg_distribution_entropy"
   ]
  },
  {
   "cell_type": "code",
   "execution_count": 14,
   "id": "4afba16a",
   "metadata": {},
   "outputs": [
    {
     "name": "stderr",
     "output_type": "stream",
     "text": [
      "Warning message in .local(x, sigma, ...):\n",
      "\"'sigma' and 'rdig' arguments are present for compatibility only: ignored\"\n"
     ]
    },
    {
     "data": {
      "text/plain": [
       "\n",
       "Call:\n",
       "glmmadmb(formula = Y ~ 1 + (1 | HenID), data = df, family = \"gamma\")\n",
       "\n",
       "AIC: -1260.1 \n",
       "\n",
       "Coefficients:\n",
       "            Estimate Std. Error z value Pr(>|z|)    \n",
       "(Intercept)   0.4372     0.0166    26.4   <2e-16 ***\n",
       "---\n",
       "Signif. codes:  0 '***' 0.001 '**' 0.01 '*' 0.05 '.' 0.1 ' ' 1\n",
       "\n",
       "Number of observations: total=2705, HenID=194 \n",
       "Random effect variance(s):\n",
       "Group=HenID\n",
       "            Variance StdDev\n",
       "(Intercept)  0.05217 0.2284\n",
       "\n",
       "Gamma shape parameter: 89.521 (std. err.: 2.529)\n",
       "\n",
       "Log-likelihood: 633.065 "
      ]
     },
     "metadata": {},
     "output_type": "display_data"
    },
    {
     "name": "stderr",
     "output_type": "stream",
     "text": [
      "Warning message in .local(x, sigma, ...):\n",
      "\"'sigma' and 'rdig' arguments are present for compatibility only: ignored\"\n"
     ]
    },
    {
     "data": {
      "text/plain": [
       "\n",
       "Call:\n",
       "glmmadmb(formula = Y ~ Treatment + scale(weekly_avg_temperature) + \n",
       "    scale(WOA) + (1 | HenID), data = df, family = \"gamma\")\n",
       "\n",
       "AIC: -1411.7 \n",
       "\n",
       "Coefficients:\n",
       "                              Estimate Std. Error z value Pr(>|z|)    \n",
       "(Intercept)                    0.44072    0.02323   18.97   <2e-16 ***\n",
       "TreatmentOFH                  -0.00522    0.03299   -0.16    0.874    \n",
       "scale(weekly_avg_temperature)  0.01128    0.00546    2.07    0.039 *  \n",
       "scale(WOA)                     0.01640    0.00552    2.97    0.003 ** \n",
       "---\n",
       "Signif. codes:  0 '***' 0.001 '**' 0.01 '*' 0.05 '.' 0.1 ' ' 1\n",
       "\n",
       "Number of observations: total=2705, HenID=194 \n",
       "Random effect variance(s):\n",
       "Group=HenID\n",
       "            Variance StdDev\n",
       "(Intercept)  0.05181 0.2276\n",
       "\n",
       "Gamma shape parameter: 95.236 (std. err.: 2.6904)\n",
       "\n",
       "Log-likelihood: 711.825 "
      ]
     },
     "metadata": {},
     "output_type": "display_data"
    },
    {
     "data": {
      "image/png": "[encoded data removed]",
      "text/plain": [
       "Plot with title \"Histogram of df$Y\""
      ]
     },
     "metadata": {
      "image/png": {
       "height": 420,
       "width": 420
      }
     },
     "output_type": "display_data"
    },
    {
     "data": {
      "image/png": "[encoded data removed]",
      "text/plain": [
       "plot without title"
      ]
     },
     "metadata": {
      "image/png": {
       "height": 420,
       "width": 420
      }
     },
     "output_type": "display_data"
    },
    {
     "data": {
      "image/png": "[encoded data removed]",
      "text/plain": [
       "Plot with title \"Histogram of res\""
      ]
     },
     "metadata": {
      "image/png": {
       "height": 420,
       "width": 420
      }
     },
     "output_type": "display_data"
    },
    {
     "data": {
      "image/png": "[encoded data removed]",
      "text/plain": [
       "plot without title"
      ]
     },
     "metadata": {
      "image/png": {
       "height": 420,
       "width": 420
      }
     },
     "output_type": "display_data"
    },
    {
     "data": {
      "text/html": [
       "0.000745763944538874"
      ],
      "text/latex": [
       "0.000745763944538874"
      ],
      "text/markdown": [
       "0.000745763944538874"
      ],
      "text/plain": [
       "[1] 0.0007457639"
      ]
     },
     "metadata": {},
     "output_type": "display_data"
    },
    {
     "data": {
      "text/html": [
       "<style>\n",
       ".dl-inline {width: auto; margin:0; padding: 0}\n",
       ".dl-inline>dt, .dl-inline>dd {float: none; width: auto; display: inline-block}\n",
       ".dl-inline>dt::after {content: \":\\0020\"; padding-right: .5ex}\n",
       ".dl-inline>dt:not(:first-of-type) {padding-left: .5ex}\n",
       "</style><dl class=dl-inline><dt>VarOdN</dt><dd>0.0111705633315088</dd><dt>VarOlN</dt><dd>0.011108633357292</dd><dt>VarOtN</dt><dd>0.0112331863815303</dd></dl>\n"
      ],
      "text/latex": [
       "\\begin{description*}\n",
       "\\item[VarOdN] 0.0111705633315088\n",
       "\\item[VarOlN] 0.011108633357292\n",
       "\\item[VarOtN] 0.0112331863815303\n",
       "\\end{description*}\n"
      ],
      "text/markdown": [
       "VarOdN\n",
       ":   0.0111705633315088VarOlN\n",
       ":   0.011108633357292VarOtN\n",
       ":   0.0112331863815303\n",
       "\n"
      ],
      "text/plain": [
       "    VarOdN     VarOlN     VarOtN \n",
       "0.01117056 0.01110863 0.01123319 "
      ]
     },
     "metadata": {},
     "output_type": "display_data"
    },
    {
     "data": {
      "text/html": [
       "<style>\n",
       ".dl-inline {width: auto; margin:0; padding: 0}\n",
       ".dl-inline>dt, .dl-inline>dd {float: none; width: auto; display: inline-block}\n",
       ".dl-inline>dt::after {content: \":\\0020\"; padding-right: .5ex}\n",
       ".dl-inline>dt:not(:first-of-type) {padding-left: .5ex}\n",
       "</style><dl class=dl-inline><dt>VarOdF</dt><dd>0.0105002310050821</dd><dt>VarOlF</dt><dd>0.010445486466245</dd><dt>VarOtF</dt><dd>0.0105555513766422</dd></dl>\n"
      ],
      "text/latex": [
       "\\begin{description*}\n",
       "\\item[VarOdF] 0.0105002310050821\n",
       "\\item[VarOlF] 0.010445486466245\n",
       "\\item[VarOtF] 0.0105555513766422\n",
       "\\end{description*}\n"
      ],
      "text/markdown": [
       "VarOdF\n",
       ":   0.0105002310050821VarOlF\n",
       ":   0.010445486466245VarOtF\n",
       ":   0.0105555513766422\n",
       "\n"
      ],
      "text/plain": [
       "    VarOdF     VarOlF     VarOtF \n",
       "0.01050023 0.01044549 0.01055555 "
      ]
     },
     "metadata": {},
     "output_type": "display_data"
    },
    {
     "name": "stderr",
     "output_type": "stream",
     "text": [
      "Warning message in .local(x, sigma, ...):\n",
      "\"'sigma' and 'rdig' arguments are present for compatibility only: ignored\"\n",
      "Warning message in .local(x, sigma, ...):\n",
      "\"'sigma' and 'rdig' arguments are present for compatibility only: ignored\"\n",
      "Warning message in .local(x, sigma, ...):\n",
      "\"'sigma' and 'rdig' arguments are present for compatibility only: ignored\"\n",
      "Warning message in .local(x, sigma, ...):\n",
      "\"'sigma' and 'rdig' arguments are present for compatibility only: ignored\"\n",
      "Warning message in .local(x, sigma, ...):\n",
      "\"'sigma' and 'rdig' arguments are present for compatibility only: ignored\"\n",
      "Warning message in .local(x, sigma, ...):\n",
      "\"'sigma' and 'rdig' arguments are present for compatibility only: ignored\"\n",
      "Warning message in .local(x, sigma, ...):\n",
      "\"'sigma' and 'rdig' arguments are present for compatibility only: ignored\"\n"
     ]
    },
    {
     "data": {
      "text/html": [
       "<style>\n",
       ".dl-inline {width: auto; margin:0; padding: 0}\n",
       ".dl-inline>dt, .dl-inline>dd {float: none; width: auto; display: inline-block}\n",
       ".dl-inline>dt::after {content: \":\\0020\"; padding-right: .5ex}\n",
       ".dl-inline>dt:not(:first-of-type) {padding-left: .5ex}\n",
       "</style><dl class=dl-inline><dt>R2glmmM</dt><dd>0.0118164567524365</dd><dt>R2glmmC</dt><dd>0.832749736356136</dd><dt>ICCrawPop</dt><dd>0.822832102695311</dd><dt>ICCadjPop</dt><dd>0.8307497986718</dd></dl>\n"
      ],
      "text/latex": [
       "\\begin{description*}\n",
       "\\item[R2glmmM] 0.0118164567524365\n",
       "\\item[R2glmmC] 0.832749736356136\n",
       "\\item[ICCrawPop] 0.822832102695311\n",
       "\\item[ICCadjPop] 0.8307497986718\n",
       "\\end{description*}\n"
      ],
      "text/markdown": [
       "R2glmmM\n",
       ":   0.0118164567524365R2glmmC\n",
       ":   0.832749736356136ICCrawPop\n",
       ":   0.822832102695311ICCadjPop\n",
       ":   0.8307497986718\n",
       "\n"
      ],
      "text/plain": [
       "   R2glmmM    R2glmmC  ICCrawPop  ICCadjPop \n",
       "0.01181646 0.83274974 0.82283210 0.83074980 "
      ]
     },
     "metadata": {},
     "output_type": "display_data"
    },
    {
     "name": "stderr",
     "output_type": "stream",
     "text": [
      "Warning message in .local(x, sigma, ...):\n",
      "\"'sigma' and 'rdig' arguments are present for compatibility only: ignored\"\n",
      "Warning message in .local(x, sigma, ...):\n",
      "\"'sigma' and 'rdig' arguments are present for compatibility only: ignored\"\n",
      "Warning message in .local(x, sigma, ...):\n",
      "\"'sigma' and 'rdig' arguments are present for compatibility only: ignored\"\n",
      "Warning message in .local(x, sigma, ...):\n",
      "\"'sigma' and 'rdig' arguments are present for compatibility only: ignored\"\n",
      "Warning message in .local(x, sigma, ...):\n",
      "\"'sigma' and 'rdig' arguments are present for compatibility only: ignored\"\n",
      "Warning message in .local(x, sigma, ...):\n",
      "\"'sigma' and 'rdig' arguments are present for compatibility only: ignored\"\n",
      "Warning message in .local(x, sigma, ...):\n",
      "\"'sigma' and 'rdig' arguments are present for compatibility only: ignored\"\n"
     ]
    },
    {
     "data": {
      "text/html": [
       "<style>\n",
       ".dl-inline {width: auto; margin:0; padding: 0}\n",
       ".dl-inline>dt, .dl-inline>dd {float: none; width: auto; display: inline-block}\n",
       ".dl-inline>dt::after {content: \":\\0020\"; padding-right: .5ex}\n",
       ".dl-inline>dt:not(:first-of-type) {padding-left: .5ex}\n",
       "</style><dl class=dl-inline><dt>R2glmmM</dt><dd>0.0118164567524365</dd><dt>R2glmmC</dt><dd>0.832749736356136</dd><dt>ICCrawPop</dt><dd>0.822832102695311</dd><dt>ICCadjPop</dt><dd>0.8307497986718</dd></dl>\n"
      ],
      "text/latex": [
       "\\begin{description*}\n",
       "\\item[R2glmmM] 0.0118164567524365\n",
       "\\item[R2glmmC] 0.832749736356136\n",
       "\\item[ICCrawPop] 0.822832102695311\n",
       "\\item[ICCadjPop] 0.8307497986718\n",
       "\\end{description*}\n"
      ],
      "text/markdown": [
       "R2glmmM\n",
       ":   0.0118164567524365R2glmmC\n",
       ":   0.832749736356136ICCrawPop\n",
       ":   0.822832102695311ICCadjPop\n",
       ":   0.8307497986718\n",
       "\n"
      ],
      "text/plain": [
       "   R2glmmM    R2glmmC  ICCrawPop  ICCadjPop \n",
       "0.01181646 0.83274974 0.82283210 0.83074980 "
      ]
     },
     "metadata": {},
     "output_type": "display_data"
    },
    {
     "data": {
      "image/png": "[encoded data removed]",
      "text/plain": [
       "plot without title"
      ]
     },
     "metadata": {
      "image/png": {
       "height": 420,
       "width": 420
      }
     },
     "output_type": "display_data"
    }
   ],
   "source": [
    "df$Y = df$weekly_avg_distribution_entropy\n",
    "hist(df$Y)\n",
    "# Fit null model without fixed effects (but including all random effects)\n",
    "EntropymodADMBr <-glmmadmb(Y ~ 1 + (1|HenID), family = \"gamma\",data = df)\n",
    "# Fit alternative model including fixed and all random effects\n",
    "EntropymodADMBf <-glmmadmb(Y ~ Treatment + scale(weekly_avg_temperature) + scale(WOA) + (1|HenID), \n",
    "                                 family = \"gamma\", data = df)\n",
    "# View model fits for both models\n",
    "summary(EntropymodADMBr)\n",
    "summary(EntropymodADMBf)\n",
    "\n",
    "ypred = predict(EntropymodADMBf)\n",
    "res = residuals(EntropymodADMBf, type = 'pearson')\n",
    "plot(ypred,res)\n",
    "hist(res)\n",
    "plot(res)\n",
    "plot(y = res, x = df$Y)\n",
    "\n",
    "# Calculation of the variance in fitted values\n",
    "VarF <-var(as.vector(model.matrix(EntropymodADMBf) %*%fixef(EntropymodADMBf)))\n",
    "VarF\n",
    "\n",
    "# getting the observation-level variance Null model\n",
    "nuN <- EntropymodADMBr$alpha# overdispersion omega is alpha in glmmadmb\n",
    "VarOdN <- 1/nuN# the delta method\n",
    "VarOlN <-log(1 + 1/nuN)# log-normal approximation\n",
    "VarOtN <-trigamma(nuN)# trigamma function\n",
    "# comparing the three\n",
    "c(VarOdN = VarOdN, VarOlN = VarOlN, VarOtN = VarOtN)\n",
    "\n",
    "# Full model\n",
    "nuF <- EntropymodADMBf$alpha\n",
    "# overdispersion omega is alpha in glmmadmb\n",
    "VarOdF <- 1/nuF# the delta method\n",
    "VarOlF <-log(1 + 1/nuF)# log-normal approximation\n",
    "VarOtF <-trigamma(nuF)# trigamma function-\n",
    "# comparing the three\n",
    "c(VarOdF = VarOdF, VarOlF = VarOlF, VarOtF = VarOtF)\n",
    "#select highest one?? read!\n",
    "\n",
    "# R2[GLMM(m)] - marginal R2[GLMM]\n",
    "R2glmmM <- VarF/(VarF +sum(as.numeric(VarCorr(EntropymodADMBf))) + VarOtF)\n",
    "# R2[GLMM(c)] - conditional R2[GLMM] for full model\n",
    "R2glmmC <- (VarF +sum(as.numeric(VarCorr(EntropymodADMBf))))/(VarF +sum(as.numeric(VarCorr(EntropymodADMBf))) +VarOtF)\n",
    "# Raw unadjusted ICC[HenID]\n",
    "ICCrawPop <-VarCorr(EntropymodADMBr)$HenID[1]/(sum(as.numeric(VarCorr(EntropymodADMBr))) +VarOtN)\n",
    "# adjusted ICC[HenID]\n",
    "ICCadjPop <-VarCorr(EntropymodADMBf)$HenID[1]/(sum(as.numeric(VarCorr(EntropymodADMBf))) +VarOtF)\n",
    "# comparing the results\n",
    "c(R2glmmM = R2glmmM, R2glmmC = R2glmmC, ICCrawPop = ICCrawPop, ICCadjPop = ICCadjPop)\n",
    "\n",
    "# R2[GLMM(m)] - marginal R2[GLMM]\n",
    "R2glmmM <- VarF/(VarF +sum(as.numeric(VarCorr(EntropymodADMBf))) + VarOtF)\n",
    "# R2[GLMM(c)] - conditional R2[GLMM] for full model\n",
    "R2glmmC <- (VarF +sum(as.numeric(VarCorr(EntropymodADMBf))))/(VarF +sum(as.numeric(VarCorr(EntropymodADMBf))) +VarOtF)\n",
    "# Raw unadjusted ICC[HenID]\n",
    "ICCrawPop <-VarCorr(EntropymodADMBr)$HenID[1]/(sum(as.numeric(VarCorr(EntropymodADMBr))) +VarOtN)\n",
    "# adjusted ICC[HenID]\n",
    "ICCadjPop <-VarCorr(EntropymodADMBf)$HenID[1]/(sum(as.numeric(VarCorr(EntropymodADMBf))) +VarOtF)\n",
    "# comparing the results\n",
    "c(R2glmmM = R2glmmM, R2glmmC = R2glmmC, ICCrawPop = ICCrawPop, ICCadjPop = ICCadjPop)"
   ]
  },
  {
   "cell_type": "markdown",
   "id": "3bd91522",
   "metadata": {},
   "source": [
    "# Gaussian"
   ]
  },
  {
   "cell_type": "markdown",
   "id": "628d369f",
   "metadata": {},
   "source": [
    "### weekly_avg_food_related_behavior"
   ]
  },
  {
   "cell_type": "raw",
   "id": "5abf355e",
   "metadata": {},
   "source": [
    "or depending on final data: skew-normal distribution \n",
    "or maybe add weight:https://stats.stackexchange.com/questions/206066/how-to-fit-a-mixed-effect-model-to-a-left-skewed-continuous-response:\n",
    "library(nlme); lme(body temp~air temp+illumination+air temp:illumination, random = ~ 1|Bird, weights = <a variance structure in dependence of a variance covariate, see ?varClasses>, correlation = corCAR1(0.8, form = ~ timecovariate | Bird), data = ...) \n",
    "and read this: https://web.archive.org/web/20160404090846/http://www.highstat.com/book2.htm"
   ]
  },
  {
   "cell_type": "code",
   "execution_count": 18,
   "id": "03364f34",
   "metadata": {},
   "outputs": [
    {
     "data": {
      "text/plain": [
       "Linear mixed model fit by REML. t-tests use Satterthwaite's method [\n",
       "lmerModLmerTest]\n",
       "Formula: \n",
       "weekly_avg_food_related_behavior ~ Treatment + scale(weekly_avg_temperature) +  \n",
       "    scale(WOA) + (1 | HenID)\n",
       "   Data: df\n",
       "\n",
       "REML criterion at convergence: -1789.2\n",
       "\n",
       "Scaled residuals: \n",
       "    Min      1Q  Median      3Q     Max \n",
       "-3.8628 -0.5613  0.0933  0.6314  2.9387 \n",
       "\n",
       "Random effects:\n",
       " Groups   Name        Variance Std.Dev.\n",
       " HenID    (Intercept) 0.01105  0.1051  \n",
       " Residual             0.02616  0.1617  \n",
       "Number of obs: 2705, groups:  HenID, 194\n",
       "\n",
       "Fixed effects:\n",
       "                                Estimate Std. Error         df t value Pr(>|t|)\n",
       "(Intercept)                   -8.639e-02  1.168e-02  1.877e+02  -7.394 4.58e-12\n",
       "TreatmentOFH                  -1.435e-02  1.655e-02  1.858e+02  -0.868 0.386771\n",
       "scale(weekly_avg_temperature) -2.858e-02  8.597e-03  2.516e+03  -3.324 0.000899\n",
       "scale(WOA)                    -4.399e-02  8.665e-03  2.542e+03  -5.077 4.11e-07\n",
       "                                 \n",
       "(Intercept)                   ***\n",
       "TreatmentOFH                     \n",
       "scale(weekly_avg_temperature) ***\n",
       "scale(WOA)                    ***\n",
       "---\n",
       "Signif. codes:  0 '***' 0.001 '**' 0.01 '*' 0.05 '.' 0.1 ' ' 1\n",
       "\n",
       "Correlation of Fixed Effects:\n",
       "            (Intr) TrtOFH sc(__)\n",
       "TreatmntOFH -0.706              \n",
       "scl(wkly__)  0.003 -0.002       \n",
       "scale(WOA)   0.002  0.000 -0.924"
      ]
     },
     "metadata": {},
     "output_type": "display_data"
    },
    {
     "data": {
      "image/png": "[encoded data removed]",
      "text/plain": [
       "plot without title"
      ]
     },
     "metadata": {
      "image/png": {
       "height": 420,
       "width": 420
      }
     },
     "output_type": "display_data"
    },
    {
     "data": {
      "image/png": "[encoded data removed]",
      "text/plain": [
       "Plot with title \"Histogram of residuals(model_)\""
      ]
     },
     "metadata": {
      "image/png": {
       "height": 420,
       "width": 420
      }
     },
     "output_type": "display_data"
    },
    {
     "data": {
      "image/png": "[encoded data removed]",
      "text/plain": [
       "Plot with title \"Histogram of df$weekly_avg_food_related_behavior\""
      ]
     },
     "metadata": {
      "image/png": {
       "height": 420,
       "width": 420
      }
     },
     "output_type": "display_data"
    },
    {
     "data": {
      "text/html": [
       "<style>\n",
       ".dl-inline {width: auto; margin:0; padding: 0}\n",
       ".dl-inline>dt, .dl-inline>dd {float: none; width: auto; display: inline-block}\n",
       ".dl-inline>dt::after {content: \":\\0020\"; padding-right: .5ex}\n",
       ".dl-inline>dt:not(:first-of-type) {padding-left: .5ex}\n",
       "</style><dl class=dl-inline><dt>2.5%</dt><dd>0.272085768582415</dd><dt>50%</dt><dd>0.295549319191672</dd><dt>97.5%</dt><dd>0.322635997284147</dd></dl>\n"
      ],
      "text/latex": [
       "\\begin{description*}\n",
       "\\item[2.5\\textbackslash{}\\%] 0.272085768582415\n",
       "\\item[50\\textbackslash{}\\%] 0.295549319191672\n",
       "\\item[97.5\\textbackslash{}\\%] 0.322635997284147\n",
       "\\end{description*}\n"
      ],
      "text/markdown": [
       "2.5%\n",
       ":   0.27208576858241550%\n",
       ":   0.29554931919167297.5%\n",
       ":   0.322635997284147\n",
       "\n"
      ],
      "text/plain": [
       "     2.5%       50%     97.5% \n",
       "0.2720858 0.2955493 0.3226360 "
      ]
     },
     "metadata": {},
     "output_type": "display_data"
    },
    {
     "data": {
      "image/png": "[encoded data removed]",
      "text/plain": [
       "plot without title"
      ]
     },
     "metadata": {
      "image/png": {
       "height": 420,
       "width": 420
      }
     },
     "output_type": "display_data"
    }
   ],
   "source": [
    "#lmer\n",
    "model_ = lmer(weekly_avg_food_related_behavior ~ Treatment + scale(weekly_avg_temperature) + scale(WOA) +(1|HenID), df)\n",
    "summary(model_)\n",
    "par(mar = c(2, 2, 2, 2))\n",
    "qqnorm(residuals(model_), main = NULL) \n",
    "qqline(residuals(model_))\n",
    "hist(residuals(model_))\n",
    "hist(df$weekly_avg_food_related_behavior)\n",
    "plot(model_)\n",
    "\n",
    "# calculate repeatability\n",
    "set.seed(1)\n",
    "simulated <- sim(model_, n.sim = 1000)\n",
    "posterior_HenID <- apply(simulated@ranef$\"HenID\"[, , 1], 1, var)\n",
    "posterior_residual <- simulated@sigma^2\n",
    "quantile(posterior_HenID /\n",
    "  (posterior_HenID + posterior_residual),\n",
    "prob = c(0.025, 0.5, 0.975)\n",
    ")"
   ]
  },
  {
   "cell_type": "code",
   "execution_count": null,
   "id": "9b3b2ec7",
   "metadata": {},
   "outputs": [],
   "source": [
    "skew_mod <-  selm(dat ~ 1) "
   ]
  },
  {
   "cell_type": "code",
   "execution_count": null,
   "id": "9528519a",
   "metadata": {},
   "outputs": [],
   "source": [
    "library(sn)\n",
    "#skew-t distribution could give a better fit\n",
    "skew_mod <-  selm(dat ~ 1) # selm is \"skew-elliptic lm\"\n",
    "summary(skew_mod)\n",
    "hist(dat,prob=TRUE,nclass=\"scott\") # \"scott\" is from MASS\n",
    "plot(function(x) dsn(x, dp=skew_mod@param$dp), from=-0.5, to=1.75, col=\"red\", add=TRUE)"
   ]
  },
  {
   "cell_type": "code",
   "execution_count": null,
   "id": "1313c019",
   "metadata": {},
   "outputs": [],
   "source": []
  },
  {
   "cell_type": "code",
   "execution_count": null,
   "id": "d2089244",
   "metadata": {},
   "outputs": [],
   "source": []
  },
  {
   "cell_type": "code",
   "execution_count": null,
   "id": "fba55497",
   "metadata": {},
   "outputs": [],
   "source": []
  },
  {
   "cell_type": "code",
   "execution_count": null,
   "id": "3f1624bf",
   "metadata": {},
   "outputs": [],
   "source": []
  },
  {
   "cell_type": "code",
   "execution_count": null,
   "id": "fca334c4",
   "metadata": {},
   "outputs": [],
   "source": []
  },
  {
   "cell_type": "code",
   "execution_count": null,
   "id": "af3808aa",
   "metadata": {},
   "outputs": [],
   "source": []
  },
  {
   "cell_type": "code",
   "execution_count": null,
   "id": "3005f6a4",
   "metadata": {},
   "outputs": [],
   "source": []
  },
  {
   "cell_type": "code",
   "execution_count": null,
   "id": "d8256bd6",
   "metadata": {},
   "outputs": [],
   "source": []
  },
  {
   "cell_type": "code",
   "execution_count": null,
   "id": "36b880ab",
   "metadata": {},
   "outputs": [],
   "source": []
  },
  {
   "cell_type": "code",
   "execution_count": null,
   "id": "59feaf1f",
   "metadata": {},
   "outputs": [],
   "source": []
  }
 ],
 "metadata": {
  "kernelspec": {
   "display_name": " Rkernel ",
   "language": "R",
   "name": "rkernel"
  },
  "language_info": {
   "codemirror_mode": "r",
   "file_extension": ".r",
   "mimetype": "text/x-r-source",
   "name": "R",
   "pygments_lexer": "r",
   "version": "3.6.1"
  }
 },
 "nbformat": 4,
 "nbformat_minor": 5
}
