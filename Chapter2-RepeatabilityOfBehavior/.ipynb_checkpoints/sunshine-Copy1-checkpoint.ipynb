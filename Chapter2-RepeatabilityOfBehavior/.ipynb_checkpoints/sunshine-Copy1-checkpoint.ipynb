{
 "cells": [
  {
   "cell_type": "code",
   "execution_count": 1,
   "id": "788bf8e3",
   "metadata": {},
   "outputs": [],
   "source": [
    "#basic package\n",
    "import tqdm\n",
    "import os\n",
    "import numpy as np\n",
    "import glob\n",
    "import pandas as pd\n",
    "import sys\n",
    "import time\n",
    "import datetime as dt\n",
    "import itertools\n",
    "import re\n",
    "import math\n",
    "import pickle #to download MLP vectors\n",
    "from scipy.stats import entropy, variation\n",
    "import random\n",
    "\n",
    "#plot\n",
    "import matplotlib.pyplot as plt\n",
    "import seaborn as sns"
   ]
  },
  {
   "cell_type": "code",
   "execution_count": 2,
   "id": "371f5f7e",
   "metadata": {},
   "outputs": [
    {
     "name": "stderr",
     "output_type": "stream",
     "text": [
      "C:\\Users\\camil\\anaconda3\\lib\\site-packages\\scipy\\sparse\\sparsetools.py:21: DeprecationWarning: `scipy.sparse.sparsetools` is deprecated!\n",
      "scipy.sparse.sparsetools is a private module for scipy.sparse, and should not be used.\n",
      "  _deprecated()\n"
     ]
    },
    {
     "name": "stdout",
     "output_type": "stream",
     "text": [
      "2\n"
     ]
    }
   ],
   "source": [
    "PACKAGE_PARENT = '../'\n",
    "SCRIPT_DIR = os.path.dirname(os.path.realpath(os.path.join(os.getcwd(), os.path.expanduser('__file__'))))\n",
    "sys.path.append(os.path.normpath(os.path.join(SCRIPT_DIR, PACKAGE_PARENT)))\n",
    "from UTILS import preprocessing_Origins, nbrh_WG_open, mid_cum_Z4_sec\n",
    "import config_origins as config"
   ]
  },
  {
   "cell_type": "code",
   "execution_count": 3,
   "id": "e4c6a029",
   "metadata": {},
   "outputs": [
    {
     "name": "stdout",
     "output_type": "stream",
     "text": [
      "change the configuration file if not done yet!\n",
      "ALLDATA_\n"
     ]
    }
   ],
   "source": [
    "print('change the configuration file if not done yet!')\n",
    "path_extracted_data = config.path_extracted_data\n",
    "path_initial_data = config.path_initial_data\n",
    "dico_garden_opening_hour = config.dico_garden_opening_hour\n",
    "id_run = config.id_run\n",
    "date_consistent_barn_schedule = config.date_consistent_barn_schedule\n",
    "dico_matching = config.dico_matching\n",
    "print(id_run)"
   ]
  },
  {
   "cell_type": "markdown",
   "id": "c06aae6b",
   "metadata": {},
   "source": [
    "# download data"
   ]
  },
  {
   "cell_type": "code",
   "execution_count": null,
   "id": "d09c9c48",
   "metadata": {},
   "outputs": [],
   "source": [
    "#mvt data\n",
    "df_daily = pd.read_csv(os.path.join(path_extracted_data, id_run+'_daily_ALL_variables.csv'), sep=';',\n",
    "                 parse_dates=['level', 'FirstTimestamp_1_Zone', 'FirstTimestamp_2_Zone', 'FirstTimestamp_3_Zone',\n",
    "                             'FirstTimestamp_4_Zone','FirstTimestamp_5_Zone'],\n",
    "                 dayfirst=True) \n",
    "df_daily = df_daily[df_daily['level']!=dt.datetime(2021,7,25)]\n",
    "print(df_daily.shape)\n",
    "df_daily.head(3)"
   ]
  },
  {
   "cell_type": "code",
   "execution_count": 5,
   "id": "bcfd7fbb",
   "metadata": {
    "scrolled": true
   },
   "outputs": [
    {
     "name": "stdout",
     "output_type": "stream",
     "text": [
      "(27056, 4)\n"
     ]
    },
    {
     "data": {
      "text/html": [
       "<div>\n",
       "<style scoped>\n",
       "    .dataframe tbody tr th:only-of-type {\n",
       "        vertical-align: middle;\n",
       "    }\n",
       "\n",
       "    .dataframe tbody tr th {\n",
       "        vertical-align: top;\n",
       "    }\n",
       "\n",
       "    .dataframe thead th {\n",
       "        text-align: right;\n",
       "    }\n",
       "</style>\n",
       "<table border=\"1\" class=\"dataframe\">\n",
       "  <thead>\n",
       "    <tr style=\"text-align: right;\">\n",
       "      <th></th>\n",
       "      <th>stn</th>\n",
       "      <th>time</th>\n",
       "      <th>sre000z0</th>\n",
       "      <th>date</th>\n",
       "    </tr>\n",
       "  </thead>\n",
       "  <tbody>\n",
       "    <tr>\n",
       "      <th>13</th>\n",
       "      <td>BER</td>\n",
       "      <td>02:10:00</td>\n",
       "      <td>0</td>\n",
       "      <td>2020-01-10</td>\n",
       "    </tr>\n",
       "    <tr>\n",
       "      <th>14</th>\n",
       "      <td>BER</td>\n",
       "      <td>02:20:00</td>\n",
       "      <td>0</td>\n",
       "      <td>2020-01-10</td>\n",
       "    </tr>\n",
       "    <tr>\n",
       "      <th>15</th>\n",
       "      <td>BER</td>\n",
       "      <td>02:30:00</td>\n",
       "      <td>0</td>\n",
       "      <td>2020-01-10</td>\n",
       "    </tr>\n",
       "  </tbody>\n",
       "</table>\n",
       "</div>"
      ],
      "text/plain": [
       "    stn      time  sre000z0       date\n",
       "13  BER  02:10:00         0 2020-01-10\n",
       "14  BER  02:20:00         0 2020-01-10\n",
       "15  BER  02:30:00         0 2020-01-10"
      ]
     },
     "execution_count": 5,
     "metadata": {},
     "output_type": "execute_result"
    }
   ],
   "source": [
    "#daily var\n",
    "path_ = r'G:\\VPHI\\Welfare\\2- Research Projects\\OFHE2.OriginsE2\\DataOutput\\order103345'\n",
    "df = pd.read_csv(os.path.join(path_, 'order_103345_data.txt'), sep=';',\n",
    "                 parse_dates=['time'],\n",
    "                 dayfirst=True) \n",
    "df['date'] = df['time'].map(lambda x: dt.datetime(x.year, x.month, x.day))\n",
    "df['time'] = df['time'].map(lambda x: dt.datetime.time(x))\n",
    "df = df[(df['time']>dt.time(2,0,0))&(df['time']<dt.time(16,59,59))]\n",
    "print(df.shape)\n",
    "df.head(3)"
   ]
  },
  {
   "cell_type": "code",
   "execution_count": 6,
   "id": "8e49d617",
   "metadata": {},
   "outputs": [
    {
     "name": "stdout",
     "output_type": "stream",
     "text": [
      "(17630, 4)\n",
      "(9426, 4)\n"
     ]
    }
   ],
   "source": [
    "print(df[df['sre000z0']==0].shape)\n",
    "print(df[df['sre000z0']!=0].shape)"
   ]
  },
  {
   "cell_type": "code",
   "execution_count": 7,
   "id": "b788e7a5",
   "metadata": {},
   "outputs": [
    {
     "data": {
      "image/png": "[encoded data removed]",
      "text/plain": [
       "<Figure size 432x288 with 1 Axes>"
      ]
     },
     "metadata": {
      "needs_background": "light"
     },
     "output_type": "display_data"
    }
   ],
   "source": [
    "plt.hist(df['sre000z0'], bins=11);"
   ]
  },
  {
   "cell_type": "code",
   "execution_count": 9,
   "id": "a0c32aee",
   "metadata": {},
   "outputs": [
    {
     "data": {
      "text/plain": [
       "0     0.651611\n",
       "10    0.227565\n",
       "1     0.018739\n",
       "9     0.016706\n",
       "8     0.013712\n",
       "2     0.013564\n",
       "7     0.013158\n",
       "5     0.011864\n",
       "3     0.011716\n",
       "4     0.010977\n",
       "6     0.010386\n",
       "Name: sre000z0, dtype: float64"
      ]
     },
     "execution_count": 9,
     "metadata": {},
     "output_type": "execute_result"
    }
   ],
   "source": [
    "df['sre000z0'].value_counts(normalize=True)"
   ]
  },
  {
   "cell_type": "code",
   "execution_count": 13,
   "id": "bdba8fcb",
   "metadata": {},
   "outputs": [
    {
     "data": {
      "text/html": [
       "<div>\n",
       "<style scoped>\n",
       "    .dataframe tbody tr th:only-of-type {\n",
       "        vertical-align: middle;\n",
       "    }\n",
       "\n",
       "    .dataframe tbody tr th {\n",
       "        vertical-align: top;\n",
       "    }\n",
       "\n",
       "    .dataframe thead th {\n",
       "        text-align: right;\n",
       "    }\n",
       "</style>\n",
       "<table border=\"1\" class=\"dataframe\">\n",
       "  <thead>\n",
       "    <tr style=\"text-align: right;\">\n",
       "      <th></th>\n",
       "      <th>stn</th>\n",
       "      <th>time</th>\n",
       "      <th>sre000z0</th>\n",
       "      <th>date</th>\n",
       "    </tr>\n",
       "  </thead>\n",
       "  <tbody>\n",
       "    <tr>\n",
       "      <th>13</th>\n",
       "      <td>BER</td>\n",
       "      <td>02:10:00</td>\n",
       "      <td>0</td>\n",
       "      <td>2020-01-10</td>\n",
       "    </tr>\n",
       "    <tr>\n",
       "      <th>14</th>\n",
       "      <td>BER</td>\n",
       "      <td>02:20:00</td>\n",
       "      <td>0</td>\n",
       "      <td>2020-01-10</td>\n",
       "    </tr>\n",
       "    <tr>\n",
       "      <th>15</th>\n",
       "      <td>BER</td>\n",
       "      <td>02:30:00</td>\n",
       "      <td>0</td>\n",
       "      <td>2020-01-10</td>\n",
       "    </tr>\n",
       "  </tbody>\n",
       "</table>\n",
       "</div>"
      ],
      "text/plain": [
       "    stn      time  sre000z0       date\n",
       "13  BER  02:10:00         0 2020-01-10\n",
       "14  BER  02:20:00         0 2020-01-10\n",
       "15  BER  02:30:00         0 2020-01-10"
      ]
     },
     "metadata": {},
     "output_type": "display_data"
    },
    {
     "data": {
      "text/html": [
       "<div>\n",
       "<style scoped>\n",
       "    .dataframe tbody tr th:only-of-type {\n",
       "        vertical-align: middle;\n",
       "    }\n",
       "\n",
       "    .dataframe tbody tr th {\n",
       "        vertical-align: top;\n",
       "    }\n",
       "\n",
       "    .dataframe thead th {\n",
       "        text-align: right;\n",
       "    }\n",
       "</style>\n",
       "<table border=\"1\" class=\"dataframe\">\n",
       "  <thead>\n",
       "    <tr style=\"text-align: right;\">\n",
       "      <th></th>\n",
       "      <th>stn</th>\n",
       "      <th>time</th>\n",
       "      <th>sre000z0</th>\n",
       "      <th>date</th>\n",
       "    </tr>\n",
       "  </thead>\n",
       "  <tbody>\n",
       "    <tr>\n",
       "      <th>40995</th>\n",
       "      <td>BER</td>\n",
       "      <td>16:30:00</td>\n",
       "      <td>0</td>\n",
       "      <td>2021-12-07</td>\n",
       "    </tr>\n",
       "    <tr>\n",
       "      <th>40996</th>\n",
       "      <td>BER</td>\n",
       "      <td>16:40:00</td>\n",
       "      <td>0</td>\n",
       "      <td>2021-12-07</td>\n",
       "    </tr>\n",
       "    <tr>\n",
       "      <th>40997</th>\n",
       "      <td>BER</td>\n",
       "      <td>16:50:00</td>\n",
       "      <td>0</td>\n",
       "      <td>2021-12-07</td>\n",
       "    </tr>\n",
       "  </tbody>\n",
       "</table>\n",
       "</div>"
      ],
      "text/plain": [
       "       stn      time  sre000z0       date\n",
       "40995  BER  16:30:00         0 2021-12-07\n",
       "40996  BER  16:40:00         0 2021-12-07\n",
       "40997  BER  16:50:00         0 2021-12-07"
      ]
     },
     "metadata": {},
     "output_type": "display_data"
    },
    {
     "data": {
      "text/plain": [
       "89    304\n",
       "Name: nbr_val, dtype: int64"
      ]
     },
     "metadata": {},
     "output_type": "display_data"
    },
    {
     "data": {
      "text/html": [
       "<div>\n",
       "<style scoped>\n",
       "    .dataframe tbody tr th:only-of-type {\n",
       "        vertical-align: middle;\n",
       "    }\n",
       "\n",
       "    .dataframe tbody tr th {\n",
       "        vertical-align: top;\n",
       "    }\n",
       "\n",
       "    .dataframe thead th {\n",
       "        text-align: right;\n",
       "    }\n",
       "</style>\n",
       "<table border=\"1\" class=\"dataframe\">\n",
       "  <thead>\n",
       "    <tr style=\"text-align: right;\">\n",
       "      <th></th>\n",
       "      <th>date</th>\n",
       "      <th>sre000z0</th>\n",
       "      <th>nbr_val</th>\n",
       "    </tr>\n",
       "  </thead>\n",
       "  <tbody>\n",
       "    <tr>\n",
       "      <th>0</th>\n",
       "      <td>2020-01-10</td>\n",
       "      <td>[[0, 0, 0, 0, 0, 0, 0, 0, 0, 0, 0, 0, 0, 0, 0,...</td>\n",
       "      <td>89</td>\n",
       "    </tr>\n",
       "    <tr>\n",
       "      <th>1</th>\n",
       "      <td>2020-01-11</td>\n",
       "      <td>[[0, 0, 0, 0, 0, 0, 0, 0, 0, 0, 0, 0, 0, 0, 0,...</td>\n",
       "      <td>89</td>\n",
       "    </tr>\n",
       "    <tr>\n",
       "      <th>2</th>\n",
       "      <td>2020-01-12</td>\n",
       "      <td>[[0, 0, 0, 0, 0, 0, 0, 0, 0, 0, 0, 0, 0, 0, 0,...</td>\n",
       "      <td>89</td>\n",
       "    </tr>\n",
       "  </tbody>\n",
       "</table>\n",
       "</div>"
      ],
      "text/plain": [
       "        date                                           sre000z0  nbr_val\n",
       "0 2020-01-10  [[0, 0, 0, 0, 0, 0, 0, 0, 0, 0, 0, 0, 0, 0, 0,...       89\n",
       "1 2020-01-11  [[0, 0, 0, 0, 0, 0, 0, 0, 0, 0, 0, 0, 0, 0, 0,...       89\n",
       "2 2020-01-12  [[0, 0, 0, 0, 0, 0, 0, 0, 0, 0, 0, 0, 0, 0, 0,...       89"
      ]
     },
     "metadata": {},
     "output_type": "display_data"
    },
    {
     "name": "stdout",
     "output_type": "stream",
     "text": [
      "(304, 3)\n"
     ]
    }
   ],
   "source": [
    "df_S = df.sort_values(['date','time']).copy()\n",
    "display(df_S.head(3))\n",
    "display(df_S.tail(3))\n",
    "df_S = df_S.groupby(['date'])['sre000z0'].agg(lambda x: [[i]*10*60 for i in x]).reset_index() #10mn batch in the data\n",
    "df_S['nbr_val'] = df_S['sre000z0'].map(lambda x: len(x))\n",
    "display(df_S['nbr_val'].value_counts())\n",
    "df_S\n",
    "display(df_S.head(3))\n",
    "print(df_S.shape)"
   ]
  },
  {
   "cell_type": "code",
   "execution_count": null,
   "id": "71c1e973",
   "metadata": {},
   "outputs": [],
   "source": [
    "x = [1,2,3]\n",
    "[[i]*10*60 for i in x]"
   ]
  },
  {
   "cell_type": "markdown",
   "id": "40cbd3aa",
   "metadata": {},
   "source": [
    "### put into format for behavioural tendency measure"
   ]
  },
  {
   "cell_type": "code",
   "execution_count": null,
   "id": "ac5690f1",
   "metadata": {},
   "outputs": [],
   "source": [
    "df_d = df_daily[(df_daily['level']>dt.datetime(2020,11,24))&(df_daily['level']<dt.datetime(2020,11,27))].copy()\n",
    "df_d[['level','HenID','list_ZALL']].head(3)"
   ]
  },
  {
   "cell_type": "code",
   "execution_count": null,
   "id": "00915ccf",
   "metadata": {},
   "outputs": [],
   "source": [
    "del df_daily_"
   ]
  },
  {
   "cell_type": "code",
   "execution_count": null,
   "id": "020be71d",
   "metadata": {},
   "outputs": [],
   "source": [
    "dico_Z_B = {-1:-1,1:1,2:0,3:0,4:0,5:0}\n",
    "df_d['li_B_'] = df_d['list_ZALL'].map(lambda x: [dico_Z_B[i] for i in x])\n",
    "df_d[['level','HenID','list_ZALL','li_B_']].head(3)"
   ]
  },
  {
   "cell_type": "code",
   "execution_count": null,
   "id": "704efe6c",
   "metadata": {},
   "outputs": [],
   "source": [
    "def is_WG_open_basedonindex(x, config, epsi_open=0, epsi_close=20):\n",
    "    '''from a timestamp value x, the dico_ (typically: dico_garden_opening_hour) and the date_first_opening_WG parameters, \n",
    "    it will output true if the WG is open, false otherwise.\n",
    "    With the epsi_* parameters it allows to be more flexible with the true time of opening/closing'''\n",
    "    \n",
    "    dico_ = config.dico_garden_opening_hour\n",
    "    date_first_opening_WG = config.date_first_opening_WG\n",
    "    close_dates = config.close_dates\n",
    "    \n",
    "    #if no record return nan\n",
    "    if pd.isnull(x)==True:\n",
    "        return(np.nan)\n",
    "    if (x<date_first_opening_WG) | (dt.datetime(x.year,x.month,x.day) in close_dates):\n",
    "        return(False)\n",
    "    if max(dico_.keys())<dt.datetime(x.year,x.month,x.day,0,0,0):\n",
    "        print('ERROR: your \\\"dico_garden_opening_hour\\\" parameter does not include information for the date: %s'%str(x))\n",
    "        sys.exit()\n",
    "    else:\n",
    "        #take info (i.e. values) of the dico_ key that represent the smallest date among all the date>=x:\n",
    "        m = min([d for d in dico_.keys() if d>=dt.datetime(x.year,x.month,x.day,0,0,0)])\n",
    "        #return the first index nd last index to be included starting at 2h!!\n",
    "        return([dico_[m]['start_h']-2*60*60 + dico_[m]['start_m']*60, dico_[m]['end_h']-2*60*60 + dico_[m]['end_m']*60])\n",
    "    \n",
    "is_WG_open_basedonindex(dt.datetime(2020,11,12))"
   ]
  },
  {
   "cell_type": "code",
   "execution_count": null,
   "id": "b9b39c79",
   "metadata": {},
   "outputs": [],
   "source": [
    "dico_level_wgindex = {}\n",
    "for d in df_d['level'].unique():\n",
    "    dico_level_wgindex[d] = is_WG_open_basedonindex(d)\n",
    "dico_level_wgindex"
   ]
  },
  {
   "cell_type": "code",
   "execution_count": null,
   "id": "7bbd17d0",
   "metadata": {},
   "outputs": [],
   "source": [
    "df_d['li_B'] = df_d.apply(lambda x: [-1 if (i<=dico_level_wgindex[x['level']][0]) | \\\n",
    "                                     (i>=dico_level_wgindex[x['level']][1]) else x['li_B_'][i] for i in range(0,len(x['li_B_']))], axis=1)"
   ]
  },
  {
   "cell_type": "code",
   "execution_count": null,
   "id": "bd0ff499",
   "metadata": {},
   "outputs": [],
   "source": [
    "df_d['li_S'] = df_d['level'].map(lambda x: )"
   ]
  },
  {
   "cell_type": "markdown",
   "id": "4904bc2b",
   "metadata": {},
   "source": [
    "### behavioural tendency"
   ]
  },
  {
   "cell_type": "code",
   "execution_count": null,
   "id": "b21e9496",
   "metadata": {},
   "outputs": [],
   "source": [
    "def behavioural_tendency(li_B, config, dico_nbr_liFAKEdate, tupleFR_h_mn,\n",
    "                                Nbr_random, fake_sec=0, onlydurnottiming=False):\n",
    "    '''compute behavioural tendency of behaviur B under S. One value per HenID (column) and per day will be computed. \n",
    "    a dataframe of the metadata about the period will be outputed too, that could be used to control and add drivers at each specific\n",
    "    periods based on their specified timestamps.\n",
    "    Inputs:\n",
    "    li_B: list of behaviors (0: not performing it, 1: perfomring it, -1: not to be accoutned for)\n",
    "    li_driver'''\n",
    "    #put into good format and check if the length corresponds to what is expected (2h-16h59)\n",
    "    #from 1_zone to 1\n",
    "    if len(li_Z)!=15*60*60:\n",
    "        return (np.nan, np.nan, [np.nan], [np.nan], np.nan, np.nan)\n",
    "    \n",
    "    #initialise known parameters from configuration file\n",
    "    dur_FR_beforeandafter_mn = config.dur_FR_beforeandafter_mn\n",
    "   \n",
    "    #initialise output values\n",
    "    tFZ_ALL = []\n",
    "    tFZ_ALL_FAKE = []\n",
    "    li_res = []\n",
    "    li_li_res = []\n",
    "    \n",
    "    if onlydurnottiming:\n",
    "        li_choices = []\n",
    "        for v in config.dico_nbr_liFAKEdate.values():\n",
    "            li_choices.extend(v)\n",
    "    \n",
    "    #intialise the number of batch we will consider for that day-hen\n",
    "    nbr_batch_considered = 0\n",
    "    #initialise a dico with a list of zone where the hen was for each time the food was delivered\n",
    "    dico_nbr_liz = {}\n",
    "    for nbr,(h,mn) in enumerate(tupleFR_h_mn):\n",
    "        \n",
    "        #extract a list of the zone where the hen was during that batch of food delivery\n",
    "        #substract 2 as it starts at 2h\n",
    "        li_ = li_Z[((h-2)*60*60+mn*60-dur_FR_beforeandafter_mn*60)+fake_sec:((h-2)*60*60+mn*60+dur_FR_beforeandafter_mn*60)+fake_sec]\n",
    "        dico_nbr_liz[nbr] = li_\n",
    "        if len(li_)!=4*60:\n",
    "            print(len(li_))\n",
    "            print('ERROR ELSE DELETE THIS HERE')\n",
    "            sys.exit()\n",
    "        \n",
    "        #compute time in a food zone and time inside\n",
    "        tFZ = sum([(v==3)|(v==5) for v in li_])\n",
    "        tFZINSIDE = sum([(v!=1) for v in li_])\n",
    "            \n",
    "        #then, for each period of food delivery, and for each cases where the hen was inside the whole time, \n",
    "        #we take a surrounding random period, without accounting the 20mn before or after food delivery, and chose a \n",
    "        #random period (but that does not include WG, just as the food timing batch time)\n",
    "        if tFZINSIDE==4*60:\n",
    "            #if hen is inside the whole period, we will consider that batch (and normalize with)\n",
    "            nbr_batch_considered = nbr_batch_considered + 1\n",
    "            #without replacement, choose Nbr_random element from the list\n",
    "            li_todo = random.sample(dico_nbr_liFAKEdate[nbr+1], Nbr_random*3) #*3 as the hen should be outside\n",
    "            if onlydurnottiming:\n",
    "                li_todo = random.sample(li_choices, Nbr_random*3)\n",
    "            #for each fake starting time, compute the duration in food zone and output the mean\n",
    "            li_tFZ_fake = []\n",
    "            k = 0\n",
    "            while k < Nbr_random:\n",
    "                for faketime in li_todo:\n",
    "                    h_ = faketime.hour\n",
    "                    mn_ = faketime.minute\n",
    "                    sec_ = faketime.second\n",
    "                    li_fakezone = li_Z[((h_-2)*60*60+mn_*60+sec_):((h_-2)*60*60+mn_*60+sec_+dur_FR_beforeandafter_mn*60*2)]\n",
    "                    if len(li_fakezone)!=4*60:\n",
    "                        print(len(li_fakezone), h_, mn_, sec_)\n",
    "                        print('ERROR ELSE DELETE THIS HERE')\n",
    "                        sys.exit()\n",
    "                    #if never went outside then keep it\n",
    "                    tFZINSIDE_fake = sum([(v!=1) for v in li_])\n",
    "                    if tFZINSIDE_fake==4*60:\n",
    "                        #compute time in a food zone vs time in a non food zone\n",
    "                        tFZ_fake = sum([(v==3)|(v==5) for v in li_fakezone])\n",
    "                        li_tFZ_fake.append(tFZ_fake)\n",
    "                        k = k +1\n",
    "            #add the duration in foodzone based on random timing to the list for all the food-batches\n",
    "            li_thisperiod_res = [(tFZ-v)/(tFZ+v) if (tFZ+v)!=0 else 0 for v in li_tFZ_fake]\n",
    "            li_li_res.append(li_thisperiod_res) #verified, correct\n",
    "            tFZ_ALL.append(tFZ)\n",
    "            tFZ_ALL_FAKE.append([round(v,2) for v in li_tFZ_fake])\n",
    "            li_res.append(np.mean(li_thisperiod_res))\n",
    "        else:\n",
    "            #keep track of which period was not available\n",
    "            li_li_res.append([np.nan])\n",
    "            tFZ_ALL.append(np.nan)\n",
    "            tFZ_ALL_FAKE.append([np.nan])\n",
    "            li_res.append(np.nan)\n",
    "            \n",
    "    return (round(np.nansum(li_res)/nbr_batch_considered,2), tFZ_ALL, tFZ_ALL_FAKE, li_li_res, nbr_batch_considered, li_res)"
   ]
  },
  {
   "cell_type": "code",
   "execution_count": null,
   "id": "ba612dee",
   "metadata": {},
   "outputs": [],
   "source": []
  },
  {
   "cell_type": "code",
   "execution_count": null,
   "id": "f913e18c",
   "metadata": {},
   "outputs": [],
   "source": []
  },
  {
   "cell_type": "code",
   "execution_count": null,
   "id": "75f21ceb",
   "metadata": {},
   "outputs": [],
   "source": []
  },
  {
   "cell_type": "code",
   "execution_count": null,
   "id": "99174efa",
   "metadata": {},
   "outputs": [],
   "source": []
  }
 ],
 "metadata": {
  "kernelspec": {
   "display_name": "Python 3 (ipykernel)",
   "language": "python",
   "name": "python3"
  },
  "language_info": {
   "codemirror_mode": {
    "name": "ipython",
    "version": 3
   },
   "file_extension": ".py",
   "mimetype": "text/x-python",
   "name": "python",
   "nbconvert_exporter": "python",
   "pygments_lexer": "ipython3",
   "version": "3.8.12"
  }
 },
 "nbformat": 4,
 "nbformat_minor": 5
}
