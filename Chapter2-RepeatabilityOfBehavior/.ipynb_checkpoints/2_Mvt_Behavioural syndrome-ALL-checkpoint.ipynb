{
 "cells": [
  {
   "cell_type": "code",
   "execution_count": 1,
   "id": "107caf39",
   "metadata": {
    "scrolled": true
   },
   "outputs": [
    {
     "name": "stderr",
     "output_type": "stream",
     "text": [
      "Warning message:\n",
      "\"le package 'brms' a été compilé avec la version R 4.1.2\"\n",
      "Le chargement a nécessité le package : Rcpp\n",
      "\n",
      "Warning message:\n",
      "\"le package 'Rcpp' a été compilé avec la version R 4.1.2\"\n",
      "Loading 'brms' package (version 2.16.3). Useful instructions\n",
      "can be found by typing help('brms'). A more detailed introduction\n",
      "to the package is available through vignette('brms_overview').\n",
      "\n",
      "\n",
      "Attachement du package : 'brms'\n",
      "\n",
      "\n",
      "L'objet suivant est masqué depuis 'package:stats':\n",
      "\n",
      "    ar\n",
      "\n",
      "\n",
      "Warning message:\n",
      "\"le package 'MCMCglmm' a été compilé avec la version R 4.1.2\"\n",
      "Le chargement a nécessité le package : Matrix\n",
      "\n",
      "Warning message:\n",
      "\"le package 'Matrix' a été compilé avec la version R 4.1.2\"\n",
      "Le chargement a nécessité le package : coda\n",
      "\n",
      "Warning message:\n",
      "\"le package 'coda' a été compilé avec la version R 4.1.2\"\n",
      "Le chargement a nécessité le package : ape\n",
      "\n",
      "Warning message:\n",
      "\"le package 'ape' a été compilé avec la version R 4.1.2\"\n",
      "\n",
      "Attachement du package : 'MCMCglmm'\n",
      "\n",
      "\n",
      "L'objet suivant est masqué depuis 'package:brms':\n",
      "\n",
      "    me\n",
      "\n",
      "\n",
      "Warning message:\n",
      "\"le package 'dplyr' a été compilé avec la version R 4.1.2\"\n",
      "\n",
      "Attachement du package : 'dplyr'\n",
      "\n",
      "\n",
      "Les objets suivants sont masqués depuis 'package:stats':\n",
      "\n",
      "    filter, lag\n",
      "\n",
      "\n",
      "Les objets suivants sont masqués depuis 'package:base':\n",
      "\n",
      "    intersect, setdiff, setequal, union\n",
      "\n",
      "\n",
      "Warning message:\n",
      "\"le package 'lmerTest' a été compilé avec la version R 4.1.2\"\n",
      "Le chargement a nécessité le package : lme4\n",
      "\n",
      "Warning message:\n",
      "\"le package 'lme4' a été compilé avec la version R 4.1.2\"\n",
      "\n",
      "Attachement du package : 'lme4'\n",
      "\n",
      "\n",
      "L'objet suivant est masqué depuis 'package:brms':\n",
      "\n",
      "    ngrps\n",
      "\n",
      "\n",
      "\n",
      "Attachement du package : 'lmerTest'\n",
      "\n",
      "\n",
      "L'objet suivant est masqué depuis 'package:lme4':\n",
      "\n",
      "    lmer\n",
      "\n",
      "\n",
      "L'objet suivant est masqué depuis 'package:stats':\n",
      "\n",
      "    step\n",
      "\n",
      "\n",
      "Warning message:\n",
      "\"le package 'sjPlot' a été compilé avec la version R 4.1.2\"\n",
      "Warning message:\n",
      "\"le package 'ggplot2' a été compilé avec la version R 4.1.2\"\n",
      "Warning message:\n",
      "\"le package 'rstan' a été compilé avec la version R 4.1.2\"\n",
      "Le chargement a nécessité le package : StanHeaders\n",
      "\n",
      "Warning message:\n",
      "\"le package 'StanHeaders' a été compilé avec la version R 4.1.2\"\n",
      "rstan (Version 2.21.2, GitRev: 2e1f913d3ca3)\n",
      "\n",
      "For execution on a local, multicore CPU with excess RAM we recommend calling\n",
      "options(mc.cores = parallel::detectCores()).\n",
      "To avoid recompilation of unchanged Stan programs, we recommend calling\n",
      "rstan_options(auto_write = TRUE)\n",
      "\n",
      "Do not specify '-march=native' in 'LOCAL_CPPFLAGS' or a Makevars file\n",
      "\n",
      "\n",
      "Attachement du package : 'rstan'\n",
      "\n",
      "\n",
      "L'objet suivant est masqué depuis 'package:coda':\n",
      "\n",
      "    traceplot\n",
      "\n",
      "\n"
     ]
    }
   ],
   "source": [
    "library(brms) #predictability: Double hierearchical model\n",
    "library(MCMCglmm) #HPDinterval\n",
    "library(dplyr) #%>%\n",
    "library(lmerTest) #lmer\n",
    "#library(MuMIn) #r2\n",
    "#library(merTools) #sim\n",
    "library(sjPlot) #plot coeff\n",
    "library(ggplot2) #ylim in plot\n",
    "library(rstan) #model diagnostic"
   ]
  },
  {
   "cell_type": "code",
   "execution_count": 2,
   "id": "991b7e4f",
   "metadata": {},
   "outputs": [
    {
     "data": {
      "text/html": [
       "11"
      ],
      "text/latex": [
       "11"
      ],
      "text/markdown": [
       "11"
      ],
      "text/plain": [
       "[1] 11"
      ]
     },
     "metadata": {},
     "output_type": "display_data"
    }
   ],
   "source": [
    "library(parallel)\n",
    "my.cores = detectCores()-1 #minus 1 to avoid bocking the computer\n",
    "my.cores"
   ]
  },
  {
   "cell_type": "code",
   "execution_count": 3,
   "id": "0b303d4f",
   "metadata": {},
   "outputs": [],
   "source": [
    "#df[rowSums(is.na(df)) > 0,]"
   ]
  },
  {
   "cell_type": "code",
   "execution_count": 12,
   "id": "f1627d7e",
   "metadata": {},
   "outputs": [],
   "source": [
    "saving_name = 'ALLDATA'"
   ]
  },
  {
   "cell_type": "markdown",
   "id": "b85115bc",
   "metadata": {},
   "source": [
    "# Behavioural syndrome"
   ]
  },
  {
   "cell_type": "code",
   "execution_count": 6,
   "id": "0d8a9304",
   "metadata": {
    "scrolled": true
   },
   "outputs": [
    {
     "data": {
      "text/html": [
       "<table class=\"dataframe\">\n",
       "<caption>A matrix: 2 × 1 of type dbl</caption>\n",
       "<thead>\n",
       "\t<tr><th></th><th scope=col>TRAN</th></tr>\n",
       "</thead>\n",
       "<tbody>\n",
       "\t<tr><th scope=row>OFH</th><td>0</td></tr>\n",
       "\t<tr><th scope=row>TRAN</th><td>1</td></tr>\n",
       "</tbody>\n",
       "</table>\n"
      ],
      "text/latex": [
       "A matrix: 2 × 1 of type dbl\n",
       "\\begin{tabular}{r|l}\n",
       "  & TRAN\\\\\n",
       "\\hline\n",
       "\tOFH & 0\\\\\n",
       "\tTRAN & 1\\\\\n",
       "\\end{tabular}\n"
      ],
      "text/markdown": [
       "\n",
       "A matrix: 2 × 1 of type dbl\n",
       "\n",
       "| <!--/--> | TRAN |\n",
       "|---|---|\n",
       "| OFH | 0 |\n",
       "| TRAN | 1 |\n",
       "\n"
      ],
      "text/plain": [
       "     TRAN\n",
       "OFH  0   \n",
       "TRAN 1   "
      ]
     },
     "metadata": {},
     "output_type": "display_data"
    },
    {
     "data": {
      "text/html": [
       "<table class=\"dataframe\">\n",
       "<caption>A matrix: 2 × 1 of type dbl</caption>\n",
       "<thead>\n",
       "\t<tr><th></th><th scope=col>OFH</th></tr>\n",
       "</thead>\n",
       "<tbody>\n",
       "\t<tr><th scope=row>TRAN</th><td>0</td></tr>\n",
       "\t<tr><th scope=row>OFH</th><td>1</td></tr>\n",
       "</tbody>\n",
       "</table>\n"
      ],
      "text/latex": [
       "A matrix: 2 × 1 of type dbl\n",
       "\\begin{tabular}{r|l}\n",
       "  & OFH\\\\\n",
       "\\hline\n",
       "\tTRAN & 0\\\\\n",
       "\tOFH & 1\\\\\n",
       "\\end{tabular}\n"
      ],
      "text/markdown": [
       "\n",
       "A matrix: 2 × 1 of type dbl\n",
       "\n",
       "| <!--/--> | OFH |\n",
       "|---|---|\n",
       "| TRAN | 0 |\n",
       "| OFH | 1 |\n",
       "\n"
      ],
      "text/plain": [
       "     OFH\n",
       "TRAN 0  \n",
       "OFH  1  "
      ]
     },
     "metadata": {},
     "output_type": "display_data"
    },
    {
     "data": {
      "text/html": [
       "<table class=\"dataframe\">\n",
       "<caption>A matrix: 4 × 3 of type dbl</caption>\n",
       "<thead>\n",
       "\t<tr><th></th><th scope=col>MEXP</th><th scope=col>NewAfterEpi</th><th scope=col>REXP</th></tr>\n",
       "</thead>\n",
       "<tbody>\n",
       "\t<tr><th scope=row>LEXP</th><td>0</td><td>0</td><td>0</td></tr>\n",
       "\t<tr><th scope=row>MEXP</th><td>1</td><td>0</td><td>0</td></tr>\n",
       "\t<tr><th scope=row>NewAfterEpi</th><td>0</td><td>1</td><td>0</td></tr>\n",
       "\t<tr><th scope=row>REXP</th><td>0</td><td>0</td><td>1</td></tr>\n",
       "</tbody>\n",
       "</table>\n"
      ],
      "text/latex": [
       "A matrix: 4 × 3 of type dbl\n",
       "\\begin{tabular}{r|lll}\n",
       "  & MEXP & NewAfterEpi & REXP\\\\\n",
       "\\hline\n",
       "\tLEXP & 0 & 0 & 0\\\\\n",
       "\tMEXP & 1 & 0 & 0\\\\\n",
       "\tNewAfterEpi & 0 & 1 & 0\\\\\n",
       "\tREXP & 0 & 0 & 1\\\\\n",
       "\\end{tabular}\n"
      ],
      "text/markdown": [
       "\n",
       "A matrix: 4 × 3 of type dbl\n",
       "\n",
       "| <!--/--> | MEXP | NewAfterEpi | REXP |\n",
       "|---|---|---|---|\n",
       "| LEXP | 0 | 0 | 0 |\n",
       "| MEXP | 1 | 0 | 0 |\n",
       "| NewAfterEpi | 0 | 1 | 0 |\n",
       "| REXP | 0 | 0 | 1 |\n",
       "\n"
      ],
      "text/plain": [
       "            MEXP NewAfterEpi REXP\n",
       "LEXP        0    0           0   \n",
       "MEXP        1    0           0   \n",
       "NewAfterEpi 0    1           0   \n",
       "REXP        0    0           1   "
      ]
     },
     "metadata": {},
     "output_type": "display_data"
    },
    {
     "data": {
      "text/html": [
       "<table class=\"dataframe\">\n",
       "<caption>A matrix: 4 × 3 of type dbl</caption>\n",
       "<thead>\n",
       "\t<tr><th></th><th scope=col>MEXP</th><th scope=col>NewAfterEpi</th><th scope=col>REXP</th></tr>\n",
       "</thead>\n",
       "<tbody>\n",
       "\t<tr><th scope=row>LEXP</th><td>0</td><td>0</td><td>0</td></tr>\n",
       "\t<tr><th scope=row>MEXP</th><td>1</td><td>0</td><td>0</td></tr>\n",
       "\t<tr><th scope=row>NewAfterEpi</th><td>0</td><td>1</td><td>0</td></tr>\n",
       "\t<tr><th scope=row>REXP</th><td>0</td><td>0</td><td>1</td></tr>\n",
       "</tbody>\n",
       "</table>\n"
      ],
      "text/latex": [
       "A matrix: 4 × 3 of type dbl\n",
       "\\begin{tabular}{r|lll}\n",
       "  & MEXP & NewAfterEpi & REXP\\\\\n",
       "\\hline\n",
       "\tLEXP & 0 & 0 & 0\\\\\n",
       "\tMEXP & 1 & 0 & 0\\\\\n",
       "\tNewAfterEpi & 0 & 1 & 0\\\\\n",
       "\tREXP & 0 & 0 & 1\\\\\n",
       "\\end{tabular}\n"
      ],
      "text/markdown": [
       "\n",
       "A matrix: 4 × 3 of type dbl\n",
       "\n",
       "| <!--/--> | MEXP | NewAfterEpi | REXP |\n",
       "|---|---|---|---|\n",
       "| LEXP | 0 | 0 | 0 |\n",
       "| MEXP | 1 | 0 | 0 |\n",
       "| NewAfterEpi | 0 | 1 | 0 |\n",
       "| REXP | 0 | 0 | 1 |\n",
       "\n"
      ],
      "text/plain": [
       "            MEXP NewAfterEpi REXP\n",
       "LEXP        0    0           0   \n",
       "MEXP        1    0           0   \n",
       "NewAfterEpi 0    1           0   \n",
       "REXP        0    0           1   "
      ]
     },
     "metadata": {},
     "output_type": "display_data"
    },
    {
     "name": "stdout",
     "output_type": "stream",
     "text": [
      "[1] 4892   22\n"
     ]
    },
    {
     "data": {
      "text/plain": [
       "             TrackingSystemID        level           DOA             DIB       \n",
       " TrackingSystem 10-12:1848    2021-01-17: 159   Min.   :179.0   Min.   : 61.0  \n",
       " TrackingSystem 3-5  :1864    2021-04-18: 159   1st Qu.:216.0   1st Qu.: 98.0  \n",
       " TrackingSystem 8-9  :1180    2021-01-24: 158   Median :284.0   Median :166.0  \n",
       "                              2021-05-07: 157   Mean   :285.2   Mean   :167.2  \n",
       "                              2020-12-06: 156   3rd Qu.:340.0   3rd Qu.:222.0  \n",
       "                              2020-12-20: 156   Max.   :410.0   Max.   :292.0  \n",
       "                              (Other)   :3947                                  \n",
       "         FoodPenID      BS_type          Treatment           CLASS     \n",
       " FoodPenID1-4 :1225   Length:4892        TRAN:2413   LEXP       : 916  \n",
       " FoodPenID5-8 :1206   Class :character   OFH :2479   MEXP       :1134  \n",
       " FoodPenID9-12:2461   Mode  :character               NewAfterEpi:1480  \n",
       "                                                     REXP       :1362  \n",
       "                                                                       \n",
       "                                                                       \n",
       "                                                                       \n",
       "     PenID      temperature_C_avg  HenID_WIB             HenID     \n",
       " pen5   : 639   Min.   :-2.000    Length:4892        hen_10 :  32  \n",
       " pen11  : 628   1st Qu.: 3.333    Class :character   hen_101:  32  \n",
       " pen10  : 627   Median : 7.167    Mode  :character   hen_102:  32  \n",
       " pen4   : 626   Mean   : 9.274                       hen_107:  32  \n",
       " pen9   : 613   3rd Qu.:15.000                       hen_109:  32  \n",
       " pen3   : 599   Max.   :24.000                       hen_112:  32  \n",
       " (Other):1160                                        (Other):4700  \n",
       " across_context     KBF_interp    weight_interp     WentinWG     \n",
       " Min.   :0.0000   Min.   : 0.00   Min.   :1237   Min.   :0.0000  \n",
       " 1st Qu.:0.0000   1st Qu.:10.66   1st Qu.:1724   1st Qu.:0.0000  \n",
       " Median :0.0000   Median :21.88   Median :1821   Median :1.0000  \n",
       " Mean   :0.1255   Mean   :23.37   Mean   :1827   Mean   :0.6838  \n",
       " 3rd Qu.:0.0000   3rd Qu.:35.24   3rd Qu.:1929   3rd Qu.:1.0000  \n",
       " Max.   :1.0000   Max.   :81.17   Max.   :2329   Max.   :1.0000  \n",
       "                                                                 \n",
       " mid_cum_Z4_h_Morning Sleeping_Uppest \n",
       " Min.   :2.037        Min.   :0.0000  \n",
       " 1st Qu.:3.806        1st Qu.:0.0000  \n",
       " Median :4.402        Median :1.0000  \n",
       " Mean   :4.527        Mean   :0.6991  \n",
       " 3rd Qu.:5.165        3rd Qu.:1.0000  \n",
       " Max.   :7.983        Max.   :1.0000  \n",
       "                                      \n",
       " vertical_travel_distance_fulllight_perinsideh food_sameDurTiming_r50_final\n",
       " Min.   : 0.1353                               Min.   :-0.7600             \n",
       " 1st Qu.: 3.0002                               1st Qu.: 0.0300             \n",
       " Median : 4.1263                               Median : 0.2400             \n",
       " Mean   : 4.2031                               Mean   : 0.2334             \n",
       " 3rd Qu.: 5.2393                               3rd Qu.: 0.4500             \n",
       " Max.   :13.5731                               Max.   : 0.9000             \n",
       "                                                                           \n",
       " food_sameDurTiming_r50_AB_final food_sameDurTiming_r50_AP_final\n",
       " Min.   :-0.82000                Min.   :-0.76000               \n",
       " 1st Qu.:-0.14000                1st Qu.:-0.16000               \n",
       " Median : 0.03000                Median : 0.02000               \n",
       " Mean   : 0.02784                Mean   : 0.01911               \n",
       " 3rd Qu.: 0.20000                3rd Qu.: 0.19000               \n",
       " Max.   : 0.83000                Max.   : 0.85000               \n",
       "                                                                "
      ]
     },
     "metadata": {},
     "output_type": "display_data"
    },
    {
     "data": {
      "text/html": [
       "<style>\n",
       ".list-inline {list-style: none; margin:0; padding: 0}\n",
       ".list-inline>li {display: inline-block}\n",
       ".list-inline>li:not(:last-child)::after {content: \"\\00b7\"; padding: 0 .5ex}\n",
       "</style>\n",
       "<ol class=list-inline><li>4892</li><li>24</li></ol>\n"
      ],
      "text/latex": [
       "\\begin{enumerate*}\n",
       "\\item 4892\n",
       "\\item 24\n",
       "\\end{enumerate*}\n"
      ],
      "text/markdown": [
       "1. 4892\n",
       "2. 24\n",
       "\n",
       "\n"
      ],
      "text/plain": [
       "[1] 4892   24"
      ]
     },
     "metadata": {},
     "output_type": "display_data"
    },
    {
     "data": {
      "text/html": [
       "<style>\n",
       ".list-inline {list-style: none; margin:0; padding: 0}\n",
       ".list-inline>li {display: inline-block}\n",
       ".list-inline>li:not(:last-child)::after {content: \"\\00b7\"; padding: 0 .5ex}\n",
       "</style>\n",
       "<ol class=list-inline><li>3196</li><li>24</li></ol>\n"
      ],
      "text/latex": [
       "\\begin{enumerate*}\n",
       "\\item 3196\n",
       "\\item 24\n",
       "\\end{enumerate*}\n"
      ],
      "text/markdown": [
       "1. 3196\n",
       "2. 24\n",
       "\n",
       "\n"
      ],
      "text/plain": [
       "[1] 3196   24"
      ]
     },
     "metadata": {},
     "output_type": "display_data"
    },
    {
     "data": {
      "text/html": [
       "<style>\n",
       ".list-inline {list-style: none; margin:0; padding: 0}\n",
       ".list-inline>li {display: inline-block}\n",
       ".list-inline>li:not(:last-child)::after {content: \"\\00b7\"; padding: 0 .5ex}\n",
       "</style>\n",
       "<ol class=list-inline><li>466</li><li>24</li></ol>\n"
      ],
      "text/latex": [
       "\\begin{enumerate*}\n",
       "\\item 466\n",
       "\\item 24\n",
       "\\end{enumerate*}\n"
      ],
      "text/markdown": [
       "1. 466\n",
       "2. 24\n",
       "\n",
       "\n"
      ],
      "text/plain": [
       "[1] 466  24"
      ]
     },
     "metadata": {},
     "output_type": "display_data"
    },
    {
     "data": {
      "text/html": [
       "<style>\n",
       ".list-inline {list-style: none; margin:0; padding: 0}\n",
       ".list-inline>li {display: inline-block}\n",
       ".list-inline>li:not(:last-child)::after {content: \"\\00b7\"; padding: 0 .5ex}\n",
       "</style>\n",
       "<ol class=list-inline><li>450</li><li>24</li></ol>\n"
      ],
      "text/latex": [
       "\\begin{enumerate*}\n",
       "\\item 450\n",
       "\\item 24\n",
       "\\end{enumerate*}\n"
      ],
      "text/markdown": [
       "1. 450\n",
       "2. 24\n",
       "\n",
       "\n"
      ],
      "text/plain": [
       "[1] 450  24"
      ]
     },
     "metadata": {},
     "output_type": "display_data"
    },
    {
     "data": {
      "text/html": [
       "<style>\n",
       ".list-inline {list-style: none; margin:0; padding: 0}\n",
       ".list-inline>li {display: inline-block}\n",
       ".list-inline>li:not(:last-child)::after {content: \"\\00b7\"; padding: 0 .5ex}\n",
       "</style>\n",
       "<ol class=list-inline><li>312</li><li>24</li></ol>\n"
      ],
      "text/latex": [
       "\\begin{enumerate*}\n",
       "\\item 312\n",
       "\\item 24\n",
       "\\end{enumerate*}\n"
      ],
      "text/markdown": [
       "1. 312\n",
       "2. 24\n",
       "\n",
       "\n"
      ],
      "text/plain": [
       "[1] 312  24"
      ]
     },
     "metadata": {},
     "output_type": "display_data"
    },
    {
     "data": {
      "text/html": [
       "<style>\n",
       ".list-inline {list-style: none; margin:0; padding: 0}\n",
       ".list-inline>li {display: inline-block}\n",
       ".list-inline>li:not(:last-child)::after {content: \"\\00b7\"; padding: 0 .5ex}\n",
       "</style>\n",
       "<ol class=list-inline><li>468</li><li>24</li></ol>\n"
      ],
      "text/latex": [
       "\\begin{enumerate*}\n",
       "\\item 468\n",
       "\\item 24\n",
       "\\end{enumerate*}\n"
      ],
      "text/markdown": [
       "1. 468\n",
       "2. 24\n",
       "\n",
       "\n"
      ],
      "text/plain": [
       "[1] 468  24"
      ]
     },
     "metadata": {},
     "output_type": "display_data"
    },
    {
     "data": {
      "text/html": [
       "<style>\n",
       ".list-inline {list-style: none; margin:0; padding: 0}\n",
       ".list-inline>li {display: inline-block}\n",
       ".list-inline>li:not(:last-child)::after {content: \"\\00b7\"; padding: 0 .5ex}\n",
       "</style>\n",
       "<ol class=list-inline><li>614</li><li>24</li></ol>\n"
      ],
      "text/latex": [
       "\\begin{enumerate*}\n",
       "\\item 614\n",
       "\\item 24\n",
       "\\end{enumerate*}\n"
      ],
      "text/markdown": [
       "1. 614\n",
       "2. 24\n",
       "\n",
       "\n"
      ],
      "text/plain": [
       "[1] 614  24"
      ]
     },
     "metadata": {},
     "output_type": "display_data"
    }
   ],
   "source": [
    "path_ = 'G:/VPHI/Welfare/2- Research Projects/OFHE2.OriginsE2/DataOutput/TrackingSystem/ALLDATA_'\n",
    "#df = read.csv(file.path(path_,'df_daily_aggregatedHA.csv'), header = TRUE, sep = \",\")\n",
    "df = read.csv(file.path(path_,'df_BS.csv'), header = TRUE, sep = \",\")\n",
    "\n",
    "df$HenID = as.factor(df$HenID)   \n",
    "df$PenID = as.factor(df$PenID)\n",
    "df$TrackingSystemID = as.factor(df$TrackingSystemID)\n",
    "df$level = as.factor(df$level) \n",
    "df$FoodPenID = as.factor(df$FoodPenID) \n",
    "df$CLASS = as.factor(df$CLASS) \n",
    "df$Treatment = as.factor(df$Treatment)\n",
    "\n",
    "#scale: mean-centering of the environmental variable so that intercepts reflect average values for the HenID and ind. \n",
    "#df$temperature_C_avg_scale = scale(df$temperature_C_avg, center=TRUE, scale=TRUE)\n",
    "\n",
    "#setting reference group\n",
    "contrasts(df$Treatment)\n",
    "df <- df %>% mutate(Treatment = relevel(Treatment, ref = \"TRAN\"))\n",
    "contrasts(df$Treatment)\n",
    "\n",
    "contrasts(df$CLASS)\n",
    "df <- df %>% mutate(CLASS = relevel(CLASS, ref = \"LEXP\"))\n",
    "contrasts(df$CLASS)\n",
    "print(dim(df))\n",
    "summary(df)\n",
    "\n",
    "df$WentinWG = as.integer(df$WentinWG)\n",
    "df$Sleeping_Uppest = as.integer(df$Sleeping_Uppest)\n",
    "\n",
    "df$KBFInterp = df$KBF_interp\n",
    "df$weightInterp = df$weight_interp\n",
    "\n",
    "\n",
    "dim(df)\n",
    "df_time = df[df$BS_type=='time',]\n",
    "dim(df_time)\n",
    "\n",
    "df_LP2 = df[df$BS_type=='LP2',]\n",
    "dim(df_LP2)\n",
    "\n",
    "df_LP10 = df[df$BS_type=='LP10',]\n",
    "dim(df_LP10)\n",
    "\n",
    "df_cold = df[df$BS_type=='cold',]\n",
    "dim(df_cold)\n",
    "\n",
    "df_vacc = df[df$BS_type=='TypicalVaccinationDay',]\n",
    "dim(df_vacc)\n",
    "\n",
    "df_AC = df[df$across_context==1,]\n",
    "dim(df_AC)"
   ]
  },
  {
   "cell_type": "code",
   "execution_count": 7,
   "id": "a00af56c",
   "metadata": {},
   "outputs": [],
   "source": [
    "#choose you dataframe\n",
    "df = df"
   ]
  },
  {
   "cell_type": "raw",
   "id": "8509d9fb",
   "metadata": {},
   "source": [
    "#brms family: https://paul-buerkner.github.io/brms/reference/brmsfamily.html\n",
    "Families bernoulli and binomial can be used for binary regression (i.e., most commonly logistic regression)"
   ]
  },
  {
   "cell_type": "raw",
   "id": "c49c2639",
   "metadata": {},
   "source": [
    "#for later analysis:\n",
    "#interesting brms models: https://discourse.mc-stan.org/t/brms-non-linear-models-correlated-random-effects/12852\n",
    "priors:\n",
    "https://discourse.mc-stan.org/t/repeated-measures-ordinal-model-with-brms-how-to-specify-correlation-structure/14352\n",
    "prior = c(set_prior(prior = \"normal(0,10)\", class = \"Intercept\"),\n",
    "                     set_prior(prior = \"normal(0,5)\", class = \"b\"),\n",
    "                     set_prior(prior = \"normal(0,5)\", class = \"sd\")"
   ]
  },
  {
   "cell_type": "markdown",
   "id": "12a13c58",
   "metadata": {},
   "source": [
    "# Multivariate models with correlated multilevel structure"
   ]
  },
  {
   "cell_type": "raw",
   "id": "cea22e85",
   "metadata": {},
   "source": [
    "For better model fitting we willscalebehaviors, meaning that we center each behaviorat its mean value and standardize it to units of 1 phenotypic standard deviation. As all three behaviors arenow on the same scale, it is easier to interpret the model estimates."
   ]
  },
  {
   "cell_type": "markdown",
   "id": "92c539ae",
   "metadata": {},
   "source": [
    "#Get information on all parameters (and parameter classes) for which priors may be specified including default priors:\n",
    "get_prior(formula = scale(food_related_behavior_final_inv_cst) ~ Treatment + FoodPenID + scale(weightInterp) + scale(KBFInterp) + scale(DIB)+ (1|a|HenID), \n",
    "          data=df_time, family = gaussian())"
   ]
  },
  {
   "cell_type": "markdown",
   "id": "321fbd5c",
   "metadata": {},
   "source": [
    "#Get information on all parameters (and parameter classes) for which priors may be specified including default priors:\n",
    "get_prior(formula = Sleeping_NotUppest ~ Treatment + scale(weight_interp)+scale(KBF_interp) + (1|a|HenID), \n",
    "          data=df_time, family = bernoulli())"
   ]
  },
  {
   "cell_type": "raw",
   "id": "72b13ff0",
   "metadata": {},
   "source": [
    "if not correlated inside the birds, but outside the birds yes, then its mroe likely true behavioural correlation instead of just intrasinc correlation"
   ]
  },
  {
   "cell_type": "code",
   "execution_count": 13,
   "id": "0127182b",
   "metadata": {},
   "outputs": [
    {
     "data": {
      "text/html": [
       "'G:/VPHI/Welfare/2- Research Projects/OFHE2.OriginsE2/DataOutput/TrackingSystem/ALLDATA_/Multi_DHGLM_allvar_FINAL.rda'"
      ],
      "text/latex": [
       "'G:/VPHI/Welfare/2- Research Projects/OFHE2.OriginsE2/DataOutput/TrackingSystem/ALLDATA\\_/Multi\\_DHGLM\\_allvar\\_FINAL.rda'"
      ],
      "text/markdown": [
       "'G:/VPHI/Welfare/2- Research Projects/OFHE2.OriginsE2/DataOutput/TrackingSystem/ALLDATA_/Multi_DHGLM_allvar_FINAL.rda'"
      ],
      "text/plain": [
       "[1] \"G:/VPHI/Welfare/2- Research Projects/OFHE2.OriginsE2/DataOutput/TrackingSystem/ALLDATA_/Multi_DHGLM_allvar_FINAL.rda\""
      ]
     },
     "metadata": {},
     "output_type": "display_data"
    }
   ],
   "source": [
    "file.path(path_,\"Multi_DHGLM_allvar_FINAL.rda\")"
   ]
  },
  {
   "cell_type": "code",
   "execution_count": 16,
   "id": "45e5d580",
   "metadata": {},
   "outputs": [
    {
     "data": {
      "text/html": [
       "'G:/VPHI/Welfare/2- Research Projects/OFHE2.OriginsE2/DataOutput/TrackingSystem/ALLDATA_/_Multi_DHGLM_all_var_FINAL.rda'"
      ],
      "text/latex": [
       "'G:/VPHI/Welfare/2- Research Projects/OFHE2.OriginsE2/DataOutput/TrackingSystem/ALLDATA\\_/\\_Multi\\_DHGLM\\_all\\_var\\_FINAL.rda'"
      ],
      "text/markdown": [
       "'G:/VPHI/Welfare/2- Research Projects/OFHE2.OriginsE2/DataOutput/TrackingSystem/ALLDATA_/_Multi_DHGLM_all_var_FINAL.rda'"
      ],
      "text/plain": [
       "[1] \"G:/VPHI/Welfare/2- Research Projects/OFHE2.OriginsE2/DataOutput/TrackingSystem/ALLDATA_/_Multi_DHGLM_all_var_FINAL.rda\""
      ]
     },
     "metadata": {},
     "output_type": "display_data"
    }
   ],
   "source": [
    "file.path(path_,paste0('', '_Multi_DHGLM_all_var_FINAL.rda'))"
   ]
  },
  {
   "cell_type": "code",
   "execution_count": null,
   "id": "7d12c0b2",
   "metadata": {
    "scrolled": true
   },
   "outputs": [
    {
     "name": "stderr",
     "output_type": "stream",
     "text": [
      "Compiling Stan program...\n",
      "\n",
      "Start sampling\n",
      "\n"
     ]
    }
   ],
   "source": [
    "iter_ = 50000\n",
    "iter_wu = 30000\n",
    "FA = bf(scale(food_sameDurTiming_r50_final) ~ Treatment + FoodPenID + scale(weightInterp) + scale(KBFInterp) + scale(DIB)+ (1|a|HenID),\n",
    "       family=gaussian)\n",
    "VTD = bf(scale(vertical_travel_distance_fulllight_perinsideh) ~ Treatment + scale(weightInterp)+scale(KBFInterp)+scale(DIB) +(1|a|HenID),\n",
    "        family=gaussian)\n",
    "TM = bf(mid_cum_Z4_h_Morning ~ Treatment + scale(weightInterp) + scale(KBFInterp) + scale(DIB) + (1|a|HenID),\n",
    "       family=Gamma(link='log'))\n",
    "SD = bf(Sleeping_Uppest ~ Treatment + scale(weightInterp)+scale(KBFInterp) + scale(DIB) + (1|a|HenID), \n",
    "        family = bernoulli(link = \"logit\")) #binary logistic regression\n",
    "WG = bf(WentinWG ~ Treatment+scale(weightInterp)+scale(KBFInterp) + scale(DIB)+(1|a|HenID), \n",
    "        family = bernoulli(link = \"logit\")) #binary logistic regression\n",
    "#by default, the first category will serve as the reference (https://discourse.mc-stan.org/t/example-with-family-multinomial/8707/3)\n",
    "#so latency_1_Zone_15mn_3h will be left out and latency_1_Zone_15mn_3hOPP will be shown\n",
    "#WG = bf(latency_1_Zone_15mn_3h_bind | trials(size) ~ Treatment +scale(DIB)+scale(weight_interp)+scale(KBF_interp)+(1|a|HenID), \n",
    "#        family = multinomial()) \n",
    "#NV = bf(nbr_visit_Z4_Morning_more60sec ~ Treatment +scale(weight_interp) + scale(DIB) + scale(KBF_interp) +(1|a|HenID),\n",
    "#        family=poisson)\n",
    "Multi_DHGLM = brm(FA + VTD + TM + SD + WG +\n",
    "                    set_rescor(FALSE),\n",
    "                    data = df,\n",
    "                    iter = iter_, warmup = iter_wu, thin = 4,\n",
    "                    chains = 4, cores =my.cores, seed = 12345\n",
    "                    )\n",
    "summary(Multi_DHGLM) #95% Posterior HPD Interval\n",
    "#save model (from: https://bookdown.org/ajkurz/Statistical_Rethinking_recoded/horoscopes-insights.html#save-your-model-fits)\n",
    "save(Multi_DHGLM, file = file.path(path_, paste0(saving_name, '_Multi_DHGLM_all_var_FINAL.rda')))\n",
    "#load(file.path(path_,\"Multi_DHGLM_allvar.rda\")) #do not put modelreload = load(file.path(path_,\"Multi_DHGLM_allvar_Food2.rda\"))"
   ]
  },
  {
   "cell_type": "code",
   "execution_count": null,
   "id": "e96ac02b",
   "metadata": {
    "scrolled": true
   },
   "outputs": [],
   "source": [
    "summary(Multi_DHGLM) #95% Posterior HPD Interval"
   ]
  },
  {
   "cell_type": "markdown",
   "id": "e16eb6b1",
   "metadata": {},
   "source": [
    "### saving some outputs"
   ]
  },
  {
   "cell_type": "code",
   "execution_count": null,
   "id": "56aa916a",
   "metadata": {
    "scrolled": true
   },
   "outputs": [],
   "source": [
    "#coefficient of variation in predictability” (CVP)\n",
    "#log.norm.res = exp(posterior_samples(Multi_DHGLM)$\"sd_HenID__sigma_Intercept\"^2)\n",
    "#CVP = sqrt(log.norm.res-1)\n",
    "#mean(CVP);HPDinterval(as.mcmc(CVP),0.95)\n",
    "\n",
    "#posterior samples dimensionality of the dataframe:\n",
    "#nrw=(iter-warup)/thin * chain\n",
    "#ncol=#param to estimate\n",
    "prior_summary(Multi_DHGLM)\n",
    "\n",
    "#all data, sd in python\n",
    "#extract samples (draw) from the posterior distribution, including all variables\n",
    "#df_pred = posterior_samples(modelPred) #depreciated but still work well. we will instead use:\n",
    "colnames(posterior_samples(Multi_DHGLM))[1:30]\n",
    "df_pred = as_draws(Multi_DHGLM)\n",
    "length(df_pred[[1]]) #nbr param\n",
    "length(df_pred[[1]][[1]]) #nbr posterior samples we got per chain\n",
    "write.csv(df_pred, file.path(path_,paste0(saving_name,'_BRMS_BS_pred_allvar_FINAL.csv')), row.names = TRUE)\n",
    "\n",
    "#only mean and CI from R\n",
    "df_pred = posterior_samples(Multi_DHGLM)\n",
    "dim(df_pred) # nbr posterior samles we got, #param\n",
    "#--> (1250, 4044) ou (5000, 1011)\n",
    "df_mean = colMeans(df_pred)\n",
    "df_CI = HPDinterval(as.mcmc(df_pred))\n",
    "dim(df_CI)\n",
    "write.csv(df_CI, file.path(path_,paste0(saving_name,'_df_CI_BRMS_BS_pred_allvar_FINAL.csv')), row.names = TRUE)\n",
    "write.csv(df_mean, file.path(path_,paste0(saving_name,'_df_mean_BRMS_BS_pred_allvar_FINAL.csv')), row.names = TRUE)\n",
    "dim(df)"
   ]
  },
  {
   "cell_type": "code",
   "execution_count": null,
   "id": "27ee2364",
   "metadata": {
    "scrolled": true
   },
   "outputs": [],
   "source": [
    "#mean population-level estimates\n",
    "fixef(Multi_DHGLM)\n",
    "p1 = plot_model(Multi_DHGLM,  show.values = TRUE, title='Population-Level Effects', \n",
    "            rm.terms = c('FoodPenIDFoodPenID9M12','FoodPenIDFoodPenID5M8'), #TreatmentOFH\n",
    "                type = \"est\", colors = c(\"red3\", \"forestgreen\"))+ ylim(-.6, .6)\n",
    "ggsave(file.path(path_,paste0(saving_name,'_Multi_fixedestimate_withOFH_FINAL.png')), plot=p1, height=5, width=12, dpi=600) \n",
    "\n",
    "p1 = plot_model(Multi_DHGLM,  show.values = TRUE, title='Population-Level Effects', \n",
    "            rm.terms = c('TreatmentOFH','FoodPenIDFoodPenID9M12','FoodPenIDFoodPenID5M8'), #TreatmentOFH\n",
    "                type = \"est\", colors = c(\"red3\", \"forestgreen\"))+ ylim(-.6, .6)\n",
    "ggsave(file.path(path_,paste0(saving_name,'_Multi_fixedestimate_withoutOFH_FINAL.png')), plot=p1, height=5, width=12, dpi=600) \n",
    "#or in terms of density: https://www.rensvandeschoot.com/tutorials/generalised-linear-models-with-brms/\n",
    "#stanplot(Multi_DHGLM, type = \"areas\", prob = 0.95)\n",
    "#darkgreen, forestgreen ; firebrick, red3\n",
    "#ex of interpretation: https://www.rensvandeschoot.com/tutorials/generalised-linear-models-with-brms/"
   ]
  },
  {
   "cell_type": "code",
   "execution_count": null,
   "id": "b84f171c",
   "metadata": {},
   "outputs": [],
   "source": [
    "colnames(posterior_samples(Multi_DHGLM))[1:60]\n",
    "#plot the among individual correlation of behaviors: Correlation between mean behavioral expression of MVT1 and MVT2, where the dashedlines \n",
    "#indicate the 95% credible interval of the posterior distribution.\n",
    "food_VT = posterior_samples(Multi_DHGLM)[,'cor_HenID__scalefoodsameDurTimingr50final_Intercept__scaleverticaltraveldistancefulllightperinsideh_Intercept']\n",
    "#same:\n",
    "#food_VT <-posterior_samples(Multi_DHGLM)$cor_HenID__foodrelatedbehaviorfinalinvcst_Intercept__scaleVTD_Intercept\n",
    "par(mar=c(2, 2, 3, 2))\n",
    "plot(density(food_VT),main=\"Correlation food behavior & vertical travelled distance\",xlab=\"\",ylab=\"\",cex.main=0.8)\n",
    "abline(v=0,col=\"red\",lwd=2)\n",
    "abline(v=mean(food_VT),col=\"black\",lwd=2)\n",
    "abline(v=HPDinterval(as.mcmc(food_VT))[1],col=\"black\",lty=2)\n",
    "abline(v=HPDinterval(as.mcmc(food_VT))[2],col=\"black\",lty=2)\n",
    "HPDinterval(as.mcmc(food_VT))"
   ]
  },
  {
   "cell_type": "code",
   "execution_count": null,
   "id": "e21fa085",
   "metadata": {},
   "outputs": [],
   "source": [
    "#colnames(posterior_samples(Multi_DHGLM))[1:60]\n",
    "#plot the among individual correlation of behaviors: Correlation between mean behavioral expression of MVT1 and MVT2, where the dashedlines \n",
    "#indicate the 95% credible interval of the posterior distribution.\n",
    "food_VT = posterior_samples(Multi_DHGLM)[,'cor_HenID__scaleverticaltraveldistancefulllightperinsideh_Intercept__SleepingUppest_Intercept']\n",
    "#same:\n",
    "#food_VT <-posterior_samples(Multi_DHGLM)$cor_HenID__foodrelatedbehaviorfinalinvcst_Intercept__scaleVTD_Intercept\n",
    "par(mar=c(2, 2, 3, 2))\n",
    "plot(density(food_VT),main=\"Correlation sleep up & vertical travelled distance\",xlab=\"\",ylab=\"\",cex.main=0.8)\n",
    "abline(v=0,col=\"red\",lwd=2)\n",
    "abline(v=mean(food_VT),col=\"black\",lwd=2)\n",
    "abline(v=HPDinterval(as.mcmc(food_VT))[1],col=\"black\",lty=2)\n",
    "abline(v=HPDinterval(as.mcmc(food_VT))[2],col=\"black\",lty=2)\n",
    "HPDinterval(as.mcmc(food_VT))"
   ]
  },
  {
   "cell_type": "code",
   "execution_count": null,
   "id": "258b786d",
   "metadata": {},
   "outputs": [],
   "source": [
    "#colnames(posterior_samples(Multi_DHGLM))[1:60]\n",
    "#plot the among individual correlation of behaviors: Correlation between mean behavioral expression of MVT1 and MVT2, where the dashedlines \n",
    "#indicate the 95% credible interval of the posterior distribution.\n",
    "food_VT = posterior_samples(Multi_DHGLM)[,'cor_HenID__scalefoodsameDurTimingr50final_Intercept__WentinWG_Intercept']\n",
    "#same:\n",
    "#food_VT <-posterior_samples(Multi_DHGLM)$cor_HenID__foodrelatedbehaviorfinalinvcst_Intercept__scaleVTD_Intercept\n",
    "par(mar=c(2, 2, 3, 2))\n",
    "plot(density(food_VT),main=\"Correlation food behavior & went outside\",xlab=\"\",ylab=\"\",cex.main=0.8)\n",
    "abline(v=0,col=\"red\",lwd=2)\n",
    "abline(v=mean(food_VT),col=\"black\",lwd=2)\n",
    "abline(v=HPDinterval(as.mcmc(food_VT))[1],col=\"black\",lty=2)\n",
    "abline(v=HPDinterval(as.mcmc(food_VT))[2],col=\"black\",lty=2)\n",
    "HPDinterval(as.mcmc(food_VT))"
   ]
  },
  {
   "cell_type": "code",
   "execution_count": null,
   "id": "93035ab9",
   "metadata": {},
   "outputs": [],
   "source": [
    "#colnames(posterior_samples(Multi_DHGLM))[1:60]\n",
    "#plot the among individual correlation of behaviors: Correlation between mean behavioral expression of MVT1 and MVT2, where the dashedlines \n",
    "#indicate the 95% credible interval of the posterior distribution.\n",
    "food_VT = posterior_samples(Multi_DHGLM)[,'cor_HenID__scaleverticaltraveldistancefulllightperinsideh_Intercept__WentinWG_Intercept']\n",
    "#same:\n",
    "#food_VT <-posterior_samples(Multi_DHGLM)$cor_HenID__foodrelatedbehaviorfinalinvcst_Intercept__scaleVTD_Intercept\n",
    "par(mar=c(2, 2, 3, 2))\n",
    "plot(density(food_VT),main=\"Correlation went outside & vertical travelled distance\",xlab=\"\",ylab=\"\",cex.main=0.8)\n",
    "abline(v=0,col=\"red\",lwd=2)\n",
    "abline(v=mean(food_VT),col=\"black\",lwd=2)\n",
    "abline(v=HPDinterval(as.mcmc(food_VT))[1],col=\"black\",lty=2)\n",
    "abline(v=HPDinterval(as.mcmc(food_VT))[2],col=\"black\",lty=2)\n",
    "HPDinterval(as.mcmc(food_VT))"
   ]
  },
  {
   "cell_type": "code",
   "execution_count": null,
   "id": "32b87e7b",
   "metadata": {},
   "outputs": [],
   "source": [
    "#colnames(posterior_samples(Multi_DHGLM))[1:60]\n",
    "#plot the among individual correlation of behaviors: Correlation between mean behavioral expression of MVT1 and MVT2, where the dashedlines \n",
    "#indicate the 95% credible interval of the posterior distribution.\n",
    "food_VT = posterior_samples(Multi_DHGLM)[,'cor_HenID__scalefoodsameDurTimingr50final_Intercept__SleepingUppest_Intercept']\n",
    "#same:\n",
    "#food_VT <-posterior_samples(Multi_DHGLM)$cor_HenID__foodrelatedbehaviorfinalinvcst_Intercept__scaleVTD_Intercept\n",
    "par(mar=c(2, 2, 3, 2))\n",
    "plot(density(food_VT),main=\"Correlation went outside & vertical travelled distance\",xlab=\"\",ylab=\"\",cex.main=0.8)\n",
    "abline(v=0,col=\"red\",lwd=2)\n",
    "abline(v=mean(food_VT),col=\"black\",lwd=2)\n",
    "abline(v=HPDinterval(as.mcmc(food_VT))[1],col=\"black\",lty=2)\n",
    "abline(v=HPDinterval(as.mcmc(food_VT))[2],col=\"black\",lty=2)\n",
    "HPDinterval(as.mcmc(food_VT))"
   ]
  },
  {
   "cell_type": "markdown",
   "id": "f9ce29b7",
   "metadata": {},
   "source": [
    "### model diagnostic"
   ]
  },
  {
   "cell_type": "code",
   "execution_count": null,
   "id": "9261003f",
   "metadata": {},
   "outputs": [],
   "source": [
    "#load(file.path(path_,\"Multi_DHGLM_allvar_Food2.rda\"))"
   ]
  },
  {
   "cell_type": "code",
   "execution_count": null,
   "id": "3b97db28",
   "metadata": {},
   "outputs": [],
   "source": [
    "############## Loo-cv and waic ##############\n",
    "#conditional_effects(Multi_DHGLM)\n",
    "Multi_DHGLM = add_criterion(Multi_DHGLM, criterion=c('waic','loo'), file=file.path(path_,paste0(saving_name,'_Multi_DHGLM_allvar_FINAL')))\n",
    "#head(get_variables(modelPred),10)\n",
    "print('----------------------- waic')\n",
    "print(Multi_DHGLM$criteria$waic)\n",
    "\n",
    "print('----------------------- loo-cv')\n",
    "#approximative leave-one-out cross validation\n",
    "print(Multi_DHGLM$criteria$loo)\n",
    "\n",
    "print('----------------------- loo2')\n",
    "#check highly influential observations\n",
    "#https://cran.r-project.org/web/packages/loo/vignettes/loo2-moment-matching.html\n",
    "#https://cran.r-project.org/web/packages/loo/vignettes/loo2-example.html\n",
    "#\"If we had a well-specified model we would expect the estimated effective number of parameters (p_loo) to be smaller than or \n",
    "#similar to the total number of parameters in the model.\"\n",
    "loo2 = loo(Multi_DHGLM, moment_match = TRUE)\n",
    "loo2\n",
    "plot(loo2, label_points = TRUE)"
   ]
  },
  {
   "cell_type": "code",
   "execution_count": null,
   "id": "af63bb54",
   "metadata": {},
   "outputs": [],
   "source": [
    "############## posterior predictive check ##############\n",
    "pp_check(Multi_DHGLM, resp='scalefoodsameDurTimingr50final',ndraws = 100)\n",
    "pp_check(Multi_DHGLM, resp='scaleverticaltraveldistancefulllightperinsideh',ndraws = 100)\n",
    "pp_check(Multi_DHGLM, resp='midcumZ4hMorning',ndraws = 100)\n",
    "pp_check(Multi_DHGLM, resp='SleepingUppest',ndraws = 100)\n",
    "pp_check(Multi_DHGLM, resp='WentinWG',ndraws = 100)"
   ]
  },
  {
   "cell_type": "code",
   "execution_count": null,
   "id": "1f320c44",
   "metadata": {},
   "outputs": [],
   "source": [
    "############## trace plot ##############\n",
    "#variables(Multi_DHGLM) #extract parameter names\n",
    "length(variables(Multi_DHGLM)) #nbr of param\n",
    "li_param = variables(Multi_DHGLM)\n",
    "cond = lapply(li_param, function(x) !startsWith(x, 'r_'))\n",
    "li_param_notR = li_param[unlist(cond)]\n",
    "length(li_param_notR) #nbr param without random intercepts\n",
    "li_param_notR\n",
    "              \n",
    "#44 plots (I guess its all param without random effects. 44 plots, 46 param withour r_, so 2 are missing: probably lp & shape\n",
    "             #from the gamma family)\n",
    "#mcmc_plot(Multi_DHGLM, type = \"trace\", variable=li_param_notR)#previously: stanplot #to small plots\n",
    "plot(Multi_DHGLM)"
   ]
  },
  {
   "cell_type": "code",
   "execution_count": null,
   "id": "479dff36",
   "metadata": {},
   "outputs": [],
   "source": [
    "############## Gelman-Rubin diagnostic ##############\n",
    "#is automatically given in the summary of brms under the column Rhat!\n",
    "#lets give for all except random intercept (else 1011 plot!!)\n",
    "modelposterior = as.mcmc(Multi_DHGLM) # with as.mcmc() we can use all the CODA package cvg statistics & plotting options\n",
    "gelman.diag(modelposterior[, li_param_notR])\n",
    "gelman.plot(modelposterior[, li_param_notR])"
   ]
  },
  {
   "cell_type": "code",
   "execution_count": null,
   "id": "b40cd093",
   "metadata": {},
   "outputs": [],
   "source": [
    "############## Geweke diagnostic ##############\n",
    "#shows the z-scores for a test of equality of means between the first and last parts of each chain, which should be <1.96\n",
    "geweke.diag(modelposterior[, li_param_notR])\n",
    "geweke.plot(modelposterior[, li_param_notR])\n",
    "#sd_HenID__foodsameDurTimingr50final_Intercept : BAD: 2.61144, with more iterations we have: 0.94243 \n",
    "#cor_HenID__foodsameDurTimingr50final_Intercept__SleepingUppest_Intercept : 2.11821, with more iterations we have: 1.18771\n",
    "#others too\n",
    "#each [[*]] correspond to chain *\n",
    "#sigma_scaleverticaltraveldistancefulllightperinsideh stil to large, b_SleepingUppest_TreatmentOFH too etc"
   ]
  },
  {
   "cell_type": "code",
   "execution_count": null,
   "id": "5c8164f2",
   "metadata": {
    "scrolled": true
   },
   "outputs": [],
   "source": [
    "############## do the chains exhibit a strong degree of autocorrelation? ##############\n",
    "#if we want to do, read this paper first On thinning of chains in MCMC\n",
    "cond = lapply(li_param, function(x) startsWith(x, 'cor_'))\n",
    "li_param_ = li_param[unlist(cond)]\n",
    "length(li_param_) #nbr param without random intercepts\n",
    "mcmc_plot(Multi_DHGLM, type = \"acf\", variable=li_param_[1:5])\n",
    "mcmc_plot(Multi_DHGLM, type = \"acf\", variable=li_param_[5:length(li_param_)])\n",
    "\n",
    "cond = lapply(li_param, function(x) startsWith(x, 'b_'))\n",
    "li_param_ = li_param[unlist(cond)]\n",
    "length(li_param_) #nbr param without random intercepts\n",
    "mcmc_plot(Multi_DHGLM, type = \"acf\", variable=li_param_[1:5])   \n",
    "mcmc_plot(Multi_DHGLM, type = \"acf\", variable=li_param_[5:10])  \n",
    "mcmc_plot(Multi_DHGLM, type = \"acf\", variable=li_param_[10:15])  \n",
    "mcmc_plot(Multi_DHGLM, type = \"acf\", variable=li_param_[15:20])    \n",
    "mcmc_plot(Multi_DHGLM, type = \"acf\", variable=li_param_[20:25])   \n",
    "mcmc_plot(Multi_DHGLM, type = \"acf\", variable=li_param_[25:length(li_param_)])   \n",
    "             \n",
    "cond = lapply(li_param, function(x) startsWith(x, 'sigma_'))\n",
    "li_param_ = li_param[unlist(cond)]\n",
    "length(li_param_) #nbr param without random intercepts\n",
    "mcmc_plot(Multi_DHGLM, type = \"acf\", variable=li_param_)   \n",
    "              \n",
    "cond = lapply(li_param, function(x) startsWith(x, 'sd_'))\n",
    "li_param_ = li_param[unlist(cond)]\n",
    "length(li_param_) #nbr param without random intercepts\n",
    "mcmc_plot(Multi_DHGLM, type = \"acf\", variable=li_param_)   \n",
    "                            \n",
    "cond = lapply(li_param, function(x) startsWith(x, 'shape_'))\n",
    "li_param_ = li_param[unlist(cond)]\n",
    "length(li_param_) #nbr param without random intercepts\n",
    "mcmc_plot(Multi_DHGLM, type = \"acf\", variable=li_param_)   \n",
    "\n",
    "cond = lapply(li_param, function(x) startsWith(x, 'lp_'))\n",
    "li_param_ = li_param[unlist(cond)]\n",
    "length(li_param_) #nbr param without random intercepts\n",
    "mcmc_plot(Multi_DHGLM, type = \"acf\", variable=li_param_)   "
   ]
  },
  {
   "cell_type": "code",
   "execution_count": null,
   "id": "c4a71fd9",
   "metadata": {},
   "outputs": [],
   "source": [
    "############## results differ when augmenting the number of iteration? check for bais ##############\n",
    "#from: https://www.rensvandeschoot.com/tutorials/wambs-checklist-in-r-using-brms/\n",
    "#To get the relative bias simply save the means of the regression coefficients and other parameters (ignore lp__ for now) for the two different analyses and compute the bias.\n",
    "FA = bf(scale(food_sameDurTiming_r50_final) ~ Treatment + FoodPenID + scale(weightInterp) + scale(KBFInterp) + scale(DIB)+ (1|a|HenID),\n",
    "       family=gaussian)\n",
    "VTD = bf(scale(vertical_travel_distance_fulllight_perinsideh) ~ Treatment + scale(weightInterp)+scale(KBFInterp)+scale(DIB) +(1|a|HenID),\n",
    "        family=gaussian)\n",
    "TM = bf(mid_cum_Z4_h_Morning ~ Treatment + scale(weightInterp) + scale(KBFInterp) + scale(DIB) + (1|a|HenID),\n",
    "       family=Gamma(link='log'))\n",
    "SD = bf(Sleeping_Uppest ~ Treatment + scale(weightInterp)+scale(KBFInterp) + scale(DIB) + (1|a|HenID), \n",
    "        family = bernoulli(link = \"logit\")) #binary logistic regression\n",
    "WG = bf(WentinWG ~ Treatment+scale(weightInterp)+scale(KBFInterp) + scale(DIB)+(1|a|HenID), \n",
    "        family = bernoulli(link = \"logit\")) #binary logistic regression\n",
    "model_moreiter = brm(FA + VTD + TM + SD + WG +\n",
    "                    set_rescor(FALSE),\n",
    "                    data = df,\n",
    "                    iter = round(iter_*1.3,0), warmup = round(iter_wu*1.3,2), thin = 4,\n",
    "                    chains = 4, cores =my.cores, seed = 12345\n",
    "                    )\n",
    "summary(model_moreiter)\n",
    "round(100*((posterior_summary(model_moreiter)[,\"Estimate\"] - posterior_summary(Multi_DHGLM)[,\"Estimate\"]) / posterior_summary(Multi_DHGLM)[,\"Estimate\"]), 4)\n",
    "#If the relative bias is small enough (<5%), do not worry about it."
   ]
  },
  {
   "cell_type": "code",
   "execution_count": null,
   "id": "e84d09aa",
   "metadata": {},
   "outputs": [],
   "source": [
    "############## do the chains exhibit a strong degree of autocorrelation? ##############\n",
    "#if we want to do, read this paper first On thinning of chains in MCMC\n",
    "cond = lapply(li_param, function(x) startsWith(x, 'cor_'))\n",
    "li_param_ = li_param[unlist(cond)]\n",
    "length(li_param_) #nbr param without random intercepts\n",
    "mcmc_plot(model_moreiter, type = \"acf\", variable=li_param_[1:5])\n",
    "mcmc_plot(model_moreiter, type = \"acf\", variable=li_param_[5:length(li_param_)])\n",
    "\n",
    "cond = lapply(li_param, function(x) startsWith(x, 'b_'))\n",
    "li_param_ = li_param[unlist(cond)]\n",
    "length(li_param_) #nbr param without random intercepts\n",
    "mcmc_plot(model_moreiter, type = \"acf\", variable=li_param_[1:5])   \n",
    "mcmc_plot(model_moreiter, type = \"acf\", variable=li_param_[5:10])  \n",
    "mcmc_plot(model_moreiter, type = \"acf\", variable=li_param_[10:15])  \n",
    "mcmc_plot(model_moreiter, type = \"acf\", variable=li_param_[15:20])    \n",
    "mcmc_plot(model_moreiter, type = \"acf\", variable=li_param_[20:25])   \n",
    "mcmc_plot(model_moreiter, type = \"acf\", variable=li_param_[25:length(li_param_)])   \n",
    "             \n",
    "cond = lapply(li_param, function(x) startsWith(x, 'sigma_'))\n",
    "li_param_ = li_param[unlist(cond)]\n",
    "length(li_param_) #nbr param without random intercepts\n",
    "mcmc_plot(model_moreiter, type = \"acf\", variable=li_param_)   \n",
    "              \n",
    "cond = lapply(li_param, function(x) startsWith(x, 'sd_'))\n",
    "li_param_ = li_param[unlist(cond)]\n",
    "length(li_param_) #nbr param without random intercepts\n",
    "mcmc_plot(model_moreiter, type = \"acf\", variable=li_param_)   \n",
    "                            \n",
    "cond = lapply(li_param, function(x) startsWith(x, 'shape_'))\n",
    "li_param_ = li_param[unlist(cond)]\n",
    "length(li_param_) #nbr param without random intercepts\n",
    "mcmc_plot(model_moreiter, type = \"acf\", variable=li_param_)   \n",
    "\n",
    "cond = lapply(li_param, function(x) startsWith(x, 'lp_'))\n",
    "li_param_ = li_param[unlist(cond)]\n",
    "length(li_param_) #nbr param without random intercepts\n",
    "mcmc_plot(model_moreiter, type = \"acf\", variable=li_param_)   "
   ]
  },
  {
   "cell_type": "code",
   "execution_count": null,
   "id": "8ee87e97",
   "metadata": {},
   "outputs": [],
   "source": []
  },
  {
   "cell_type": "code",
   "execution_count": null,
   "id": "9fbf0eee",
   "metadata": {},
   "outputs": [],
   "source": []
  },
  {
   "cell_type": "code",
   "execution_count": null,
   "id": "01714955",
   "metadata": {},
   "outputs": [],
   "source": []
  },
  {
   "cell_type": "code",
   "execution_count": null,
   "id": "1ac71f90",
   "metadata": {},
   "outputs": [],
   "source": []
  },
  {
   "cell_type": "code",
   "execution_count": null,
   "id": "cfcb0544",
   "metadata": {},
   "outputs": [],
   "source": []
  },
  {
   "cell_type": "code",
   "execution_count": null,
   "id": "60d763aa",
   "metadata": {},
   "outputs": [],
   "source": []
  },
  {
   "cell_type": "code",
   "execution_count": null,
   "id": "893f1c0f",
   "metadata": {},
   "outputs": [],
   "source": []
  }
 ],
 "metadata": {
  "kernelspec": {
   "display_name": " Rkernel_4",
   "language": "R",
   "name": "rkernel_4"
  },
  "language_info": {
   "codemirror_mode": "r",
   "file_extension": ".r",
   "mimetype": "text/x-r-source",
   "name": "R",
   "pygments_lexer": "r",
   "version": "4.1.1"
  }
 },
 "nbformat": 4,
 "nbformat_minor": 5
}
