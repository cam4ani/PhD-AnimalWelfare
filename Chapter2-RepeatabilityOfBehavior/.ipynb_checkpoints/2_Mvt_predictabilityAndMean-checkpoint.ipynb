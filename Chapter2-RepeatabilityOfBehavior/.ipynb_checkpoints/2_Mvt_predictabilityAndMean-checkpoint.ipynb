{
 "cells": [
  {
   "cell_type": "code",
   "execution_count": 1,
   "id": "107caf39",
   "metadata": {
    "scrolled": true
   },
   "outputs": [
    {
     "name": "stderr",
     "output_type": "stream",
     "text": [
      "Warning message:\n",
      "\"le package 'brms' a été compilé avec la version R 4.1.2\"\n",
      "Le chargement a nécessité le package : Rcpp\n",
      "\n",
      "Warning message:\n",
      "\"le package 'Rcpp' a été compilé avec la version R 4.1.2\"\n",
      "Loading 'brms' package (version 2.16.3). Useful instructions\n",
      "can be found by typing help('brms'). A more detailed introduction\n",
      "to the package is available through vignette('brms_overview').\n",
      "\n",
      "\n",
      "Attachement du package : 'brms'\n",
      "\n",
      "\n",
      "L'objet suivant est masqué depuis 'package:stats':\n",
      "\n",
      "    ar\n",
      "\n",
      "\n",
      "Warning message:\n",
      "\"le package 'MCMCglmm' a été compilé avec la version R 4.1.2\"\n",
      "Le chargement a nécessité le package : Matrix\n",
      "\n",
      "Warning message:\n",
      "\"le package 'Matrix' a été compilé avec la version R 4.1.2\"\n",
      "Le chargement a nécessité le package : coda\n",
      "\n",
      "Warning message:\n",
      "\"le package 'coda' a été compilé avec la version R 4.1.2\"\n",
      "Le chargement a nécessité le package : ape\n",
      "\n",
      "Warning message:\n",
      "\"le package 'ape' a été compilé avec la version R 4.1.2\"\n",
      "\n",
      "Attachement du package : 'MCMCglmm'\n",
      "\n",
      "\n",
      "L'objet suivant est masqué depuis 'package:brms':\n",
      "\n",
      "    me\n",
      "\n",
      "\n",
      "Warning message:\n",
      "\"le package 'dplyr' a été compilé avec la version R 4.1.2\"\n",
      "\n",
      "Attachement du package : 'dplyr'\n",
      "\n",
      "\n",
      "Les objets suivants sont masqués depuis 'package:stats':\n",
      "\n",
      "    filter, lag\n",
      "\n",
      "\n",
      "Les objets suivants sont masqués depuis 'package:base':\n",
      "\n",
      "    intersect, setdiff, setequal, union\n",
      "\n",
      "\n",
      "Warning message:\n",
      "\"le package 'lmerTest' a été compilé avec la version R 4.1.2\"\n",
      "Le chargement a nécessité le package : lme4\n",
      "\n",
      "Warning message:\n",
      "\"le package 'lme4' a été compilé avec la version R 4.1.2\"\n",
      "\n",
      "Attachement du package : 'lme4'\n",
      "\n",
      "\n",
      "L'objet suivant est masqué depuis 'package:brms':\n",
      "\n",
      "    ngrps\n",
      "\n",
      "\n",
      "\n",
      "Attachement du package : 'lmerTest'\n",
      "\n",
      "\n",
      "L'objet suivant est masqué depuis 'package:lme4':\n",
      "\n",
      "    lmer\n",
      "\n",
      "\n",
      "L'objet suivant est masqué depuis 'package:stats':\n",
      "\n",
      "    step\n",
      "\n",
      "\n"
     ]
    }
   ],
   "source": [
    "library(brms) #predictability: Double hierearchical model\n",
    "library(MCMCglmm) #HPDinterval\n",
    "library(dplyr) #%>%\n",
    "library(lmerTest) #lmer\n",
    "#library(MuMIn) #r2\n",
    "#library(merTools) #sim"
   ]
  },
  {
   "cell_type": "code",
   "execution_count": 2,
   "id": "991b7e4f",
   "metadata": {},
   "outputs": [
    {
     "data": {
      "text/html": [
       "11"
      ],
      "text/latex": [
       "11"
      ],
      "text/markdown": [
       "11"
      ],
      "text/plain": [
       "[1] 11"
      ]
     },
     "metadata": {},
     "output_type": "display_data"
    }
   ],
   "source": [
    "library(parallel)\n",
    "my.cores = detectCores()-1 #minus 1 to avoid bocking the computer\n",
    "my.cores"
   ]
  },
  {
   "cell_type": "code",
   "execution_count": 3,
   "id": "0b303d4f",
   "metadata": {},
   "outputs": [],
   "source": [
    "#df[rowSums(is.na(df)) > 0,]"
   ]
  },
  {
   "cell_type": "markdown",
   "id": "b85115bc",
   "metadata": {},
   "source": [
    "# Behaviorual syndrome"
   ]
  },
  {
   "cell_type": "code",
   "execution_count": 4,
   "id": "0d8a9304",
   "metadata": {
    "scrolled": true
   },
   "outputs": [
    {
     "data": {
      "text/html": [
       "<table class=\"dataframe\">\n",
       "<caption>A matrix: 2 × 1 of type dbl</caption>\n",
       "<thead>\n",
       "\t<tr><th></th><th scope=col>TRAN</th></tr>\n",
       "</thead>\n",
       "<tbody>\n",
       "\t<tr><th scope=row>OFH</th><td>0</td></tr>\n",
       "\t<tr><th scope=row>TRAN</th><td>1</td></tr>\n",
       "</tbody>\n",
       "</table>\n"
      ],
      "text/latex": [
       "A matrix: 2 × 1 of type dbl\n",
       "\\begin{tabular}{r|l}\n",
       "  & TRAN\\\\\n",
       "\\hline\n",
       "\tOFH & 0\\\\\n",
       "\tTRAN & 1\\\\\n",
       "\\end{tabular}\n"
      ],
      "text/markdown": [
       "\n",
       "A matrix: 2 × 1 of type dbl\n",
       "\n",
       "| <!--/--> | TRAN |\n",
       "|---|---|\n",
       "| OFH | 0 |\n",
       "| TRAN | 1 |\n",
       "\n"
      ],
      "text/plain": [
       "     TRAN\n",
       "OFH  0   \n",
       "TRAN 1   "
      ]
     },
     "metadata": {},
     "output_type": "display_data"
    },
    {
     "data": {
      "text/html": [
       "<table class=\"dataframe\">\n",
       "<caption>A matrix: 2 × 1 of type dbl</caption>\n",
       "<thead>\n",
       "\t<tr><th></th><th scope=col>OFH</th></tr>\n",
       "</thead>\n",
       "<tbody>\n",
       "\t<tr><th scope=row>TRAN</th><td>0</td></tr>\n",
       "\t<tr><th scope=row>OFH</th><td>1</td></tr>\n",
       "</tbody>\n",
       "</table>\n"
      ],
      "text/latex": [
       "A matrix: 2 × 1 of type dbl\n",
       "\\begin{tabular}{r|l}\n",
       "  & OFH\\\\\n",
       "\\hline\n",
       "\tTRAN & 0\\\\\n",
       "\tOFH & 1\\\\\n",
       "\\end{tabular}\n"
      ],
      "text/markdown": [
       "\n",
       "A matrix: 2 × 1 of type dbl\n",
       "\n",
       "| <!--/--> | OFH |\n",
       "|---|---|\n",
       "| TRAN | 0 |\n",
       "| OFH | 1 |\n",
       "\n"
      ],
      "text/plain": [
       "     OFH\n",
       "TRAN 0  \n",
       "OFH  1  "
      ]
     },
     "metadata": {},
     "output_type": "display_data"
    },
    {
     "data": {
      "text/html": [
       "<table class=\"dataframe\">\n",
       "<caption>A matrix: 4 × 3 of type dbl</caption>\n",
       "<thead>\n",
       "\t<tr><th></th><th scope=col>MEXP</th><th scope=col>NewAfterEpi</th><th scope=col>REXP</th></tr>\n",
       "</thead>\n",
       "<tbody>\n",
       "\t<tr><th scope=row>LEXP</th><td>0</td><td>0</td><td>0</td></tr>\n",
       "\t<tr><th scope=row>MEXP</th><td>1</td><td>0</td><td>0</td></tr>\n",
       "\t<tr><th scope=row>NewAfterEpi</th><td>0</td><td>1</td><td>0</td></tr>\n",
       "\t<tr><th scope=row>REXP</th><td>0</td><td>0</td><td>1</td></tr>\n",
       "</tbody>\n",
       "</table>\n"
      ],
      "text/latex": [
       "A matrix: 4 × 3 of type dbl\n",
       "\\begin{tabular}{r|lll}\n",
       "  & MEXP & NewAfterEpi & REXP\\\\\n",
       "\\hline\n",
       "\tLEXP & 0 & 0 & 0\\\\\n",
       "\tMEXP & 1 & 0 & 0\\\\\n",
       "\tNewAfterEpi & 0 & 1 & 0\\\\\n",
       "\tREXP & 0 & 0 & 1\\\\\n",
       "\\end{tabular}\n"
      ],
      "text/markdown": [
       "\n",
       "A matrix: 4 × 3 of type dbl\n",
       "\n",
       "| <!--/--> | MEXP | NewAfterEpi | REXP |\n",
       "|---|---|---|---|\n",
       "| LEXP | 0 | 0 | 0 |\n",
       "| MEXP | 1 | 0 | 0 |\n",
       "| NewAfterEpi | 0 | 1 | 0 |\n",
       "| REXP | 0 | 0 | 1 |\n",
       "\n"
      ],
      "text/plain": [
       "            MEXP NewAfterEpi REXP\n",
       "LEXP        0    0           0   \n",
       "MEXP        1    0           0   \n",
       "NewAfterEpi 0    1           0   \n",
       "REXP        0    0           1   "
      ]
     },
     "metadata": {},
     "output_type": "display_data"
    },
    {
     "data": {
      "text/html": [
       "<table class=\"dataframe\">\n",
       "<caption>A matrix: 4 × 3 of type dbl</caption>\n",
       "<thead>\n",
       "\t<tr><th></th><th scope=col>MEXP</th><th scope=col>NewAfterEpi</th><th scope=col>REXP</th></tr>\n",
       "</thead>\n",
       "<tbody>\n",
       "\t<tr><th scope=row>LEXP</th><td>0</td><td>0</td><td>0</td></tr>\n",
       "\t<tr><th scope=row>MEXP</th><td>1</td><td>0</td><td>0</td></tr>\n",
       "\t<tr><th scope=row>NewAfterEpi</th><td>0</td><td>1</td><td>0</td></tr>\n",
       "\t<tr><th scope=row>REXP</th><td>0</td><td>0</td><td>1</td></tr>\n",
       "</tbody>\n",
       "</table>\n"
      ],
      "text/latex": [
       "A matrix: 4 × 3 of type dbl\n",
       "\\begin{tabular}{r|lll}\n",
       "  & MEXP & NewAfterEpi & REXP\\\\\n",
       "\\hline\n",
       "\tLEXP & 0 & 0 & 0\\\\\n",
       "\tMEXP & 1 & 0 & 0\\\\\n",
       "\tNewAfterEpi & 0 & 1 & 0\\\\\n",
       "\tREXP & 0 & 0 & 1\\\\\n",
       "\\end{tabular}\n"
      ],
      "text/markdown": [
       "\n",
       "A matrix: 4 × 3 of type dbl\n",
       "\n",
       "| <!--/--> | MEXP | NewAfterEpi | REXP |\n",
       "|---|---|---|---|\n",
       "| LEXP | 0 | 0 | 0 |\n",
       "| MEXP | 1 | 0 | 0 |\n",
       "| NewAfterEpi | 0 | 1 | 0 |\n",
       "| REXP | 0 | 0 | 1 |\n",
       "\n"
      ],
      "text/plain": [
       "            MEXP NewAfterEpi REXP\n",
       "LEXP        0    0           0   \n",
       "MEXP        1    0           0   \n",
       "NewAfterEpi 0    1           0   \n",
       "REXP        0    0           1   "
      ]
     },
     "metadata": {},
     "output_type": "display_data"
    },
    {
     "name": "stdout",
     "output_type": "stream",
     "text": [
      "[1] 4811   31\n"
     ]
    },
    {
     "data": {
      "text/plain": [
       " TrackingSystemID          level           DOA             DIB       \n",
       " Length:4811        2021-01-17: 156   Min.   :179.0   Min.   : 61.0  \n",
       " Class :character   2021-04-18: 156   1st Qu.:216.0   1st Qu.: 98.0  \n",
       " Mode  :character   2021-01-24: 155   Median :284.0   Median :166.0  \n",
       "                    2021-05-07: 155   Mean   :285.4   Mean   :167.4  \n",
       "                    2021-05-23: 155   3rd Qu.:340.0   3rd Qu.:222.0  \n",
       "                    2021-01-05: 154   Max.   :410.0   Max.   :292.0  \n",
       "                    (Other)   :3880                                  \n",
       "         FoodPenID      BS_type          Treatment           CLASS     \n",
       " FoodPenID1-4 :1144   Length:4811        TRAN:2413   LEXP       : 866  \n",
       " FoodPenID5-8 :1206   Class :character   OFH :2398   MEXP       :1104  \n",
       " FoodPenID9-12:2461   Mode  :character               NewAfterEpi:1480  \n",
       "                                                     REXP       :1361  \n",
       "                                                                       \n",
       "                                                                       \n",
       "                                                                       \n",
       "     PenID      temperature_C_avg  HenID_WIB             HenID     \n",
       " pen5   : 639   Min.   :-2.000    Length:4811        hen_10 :  32  \n",
       " pen11  : 628   1st Qu.: 3.333    Class :character   hen_101:  32  \n",
       " pen10  : 627   Median : 7.167    Mode  :character   hen_102:  32  \n",
       " pen4   : 626   Mean   : 9.293                       hen_107:  32  \n",
       " pen9   : 613   3rd Qu.:15.000                       hen_109:  32  \n",
       " pen12  : 593   Max.   :24.000                       hen_112:  32  \n",
       " (Other):1085                                        (Other):4619  \n",
       " across_context     KBF_interp    FeatherDamage_interp weight_interp \n",
       " Min.   :0.0000   Min.   : 0.00   Min.   : 0.000       Min.   :1237  \n",
       " 1st Qu.:0.0000   1st Qu.:10.57   1st Qu.: 9.107       1st Qu.:1722  \n",
       " Median :0.0000   Median :21.86   Median :16.571       Median :1820  \n",
       " Mean   :0.1253   Mean   :23.35   Mean   :17.710       Mean   :1826  \n",
       " 3rd Qu.:0.0000   3rd Qu.:35.21   3rd Qu.:25.075       3rd Qu.:1927  \n",
       " Max.   :1.0000   Max.   :81.17   Max.   :63.013       Max.   :2329  \n",
       "                                  NA's   :1081                       \n",
       " latency_1_Zone_h    nbr_h_WGopen   perc_1_Zone_while_WG_open\n",
       " Min.   :0.005833   Min.   :3.000   Min.   : 0.000           \n",
       " 1st Qu.:0.358472   1st Qu.:6.083   1st Qu.: 0.000           \n",
       " Median :2.481111   Median :6.250   Median : 2.056           \n",
       " Mean   :2.976904   Mean   :6.060   Mean   : 5.673           \n",
       " 3rd Qu.:6.000000   3rd Qu.:6.500   3rd Qu.: 7.249           \n",
       " Max.   :6.952222   Max.   :6.750   Max.   :82.770           \n",
       "                                                             \n",
       " mid_cum_Z4_h_Morning nbr_visit_Z4_Morning_more60sec Sleeping_NotUppest\n",
       " Min.   :2.037        Min.   : 0.000                 Min.   :0.0000    \n",
       " 1st Qu.:3.802        1st Qu.: 1.000                 1st Qu.:0.0000    \n",
       " Median :4.404        Median : 2.000                 Median :0.0000    \n",
       " Mean   :4.527        Mean   : 2.342                 Mean   :0.3028    \n",
       " 3rd Qu.:5.167        3rd Qu.: 3.000                 3rd Qu.:1.0000    \n",
       " Max.   :7.983        Max.   :15.000                 Max.   :1.0000    \n",
       "                                                                       \n",
       " Has_been_toptier_wholeday vertical_travel_distance_fulllight_perinsideh\n",
       " Min.   :0                 Min.   : 0.1353                              \n",
       " 1st Qu.:0                 1st Qu.: 3.0440                              \n",
       " Median :0                 Median : 4.1479                              \n",
       " Mean   :0                 Mean   : 4.2231                              \n",
       " 3rd Qu.:0                 3rd Qu.: 5.2744                              \n",
       " Max.   :0                 Max.   :13.5731                              \n",
       "                                                                        \n",
       " food_related_behavior_final food_related_behavior_rp_final\n",
       " Min.   :-1.00000            Min.   :-1.00000              \n",
       " 1st Qu.: 0.01601            1st Qu.:-0.13425              \n",
       " Median : 0.13333            Median : 0.02057              \n",
       " Mean   : 0.13351            Mean   :-0.02533              \n",
       " 3rd Qu.: 0.27994            3rd Qu.: 0.13554              \n",
       " Max.   : 0.75634            Max.   : 0.82478              \n",
       "                                                           \n",
       " food_related_behavior_rm_final latency_1_Zone_mn latency_1_Zone_mn_6h\n",
       " Min.   :-1.00000               Min.   :  0.0     Min.   :  0.0       \n",
       " 1st Qu.:-0.12546               1st Qu.: 21.5     1st Qu.: 21.5       \n",
       " Median : 0.01663               Median :149.0     Median :149.0       \n",
       " Mean   :-0.02604               Mean   :178.6     Mean   :172.6       \n",
       " 3rd Qu.: 0.12152               3rd Qu.:360.0     3rd Qu.:360.0       \n",
       " Max.   : 0.64790               Max.   :417.0     Max.   :360.0       \n",
       "                                                                      \n",
       " latency_1_Zone_mn_3h food_related_behavior_final_BIN\n",
       " Min.   :  0.0        Min.   :0.0000                 \n",
       " 1st Qu.: 21.5        1st Qu.:1.0000                 \n",
       " Median :149.0        Median :1.0000                 \n",
       " Mean   :109.5        Mean   :0.7736                 \n",
       " 3rd Qu.:180.0        3rd Qu.:1.0000                 \n",
       " Max.   :180.0        Max.   :1.0000                 \n",
       "                                                     "
      ]
     },
     "metadata": {},
     "output_type": "display_data"
    },
    {
     "data": {
      "image/png": "[encoded data removed]",
      "text/plain": [
       "Plot with title \"Histogram of df$foodRelatedBehavior\""
      ]
     },
     "metadata": {
      "image/png": {
       "height": 420,
       "width": 420
      }
     },
     "output_type": "display_data"
    },
    {
     "data": {
      "text/html": [
       "<style>\n",
       ".list-inline {list-style: none; margin:0; padding: 0}\n",
       ".list-inline>li {display: inline-block}\n",
       ".list-inline>li:not(:last-child)::after {content: \"\\00b7\"; padding: 0 .5ex}\n",
       "</style>\n",
       "<ol class=list-inline><li>4811</li><li>45</li></ol>\n"
      ],
      "text/latex": [
       "\\begin{enumerate*}\n",
       "\\item 4811\n",
       "\\item 45\n",
       "\\end{enumerate*}\n"
      ],
      "text/markdown": [
       "1. 4811\n",
       "2. 45\n",
       "\n",
       "\n"
      ],
      "text/plain": [
       "[1] 4811   45"
      ]
     },
     "metadata": {},
     "output_type": "display_data"
    },
    {
     "data": {
      "text/html": [
       "<style>\n",
       ".list-inline {list-style: none; margin:0; padding: 0}\n",
       ".list-inline>li {display: inline-block}\n",
       ".list-inline>li:not(:last-child)::after {content: \"\\00b7\"; padding: 0 .5ex}\n",
       "</style>\n",
       "<ol class=list-inline><li>3143</li><li>45</li></ol>\n"
      ],
      "text/latex": [
       "\\begin{enumerate*}\n",
       "\\item 3143\n",
       "\\item 45\n",
       "\\end{enumerate*}\n"
      ],
      "text/markdown": [
       "1. 3143\n",
       "2. 45\n",
       "\n",
       "\n"
      ],
      "text/plain": [
       "[1] 3143   45"
      ]
     },
     "metadata": {},
     "output_type": "display_data"
    },
    {
     "data": {
      "text/html": [
       "<style>\n",
       ".list-inline {list-style: none; margin:0; padding: 0}\n",
       ".list-inline>li {display: inline-block}\n",
       ".list-inline>li:not(:last-child)::after {content: \"\\00b7\"; padding: 0 .5ex}\n",
       "</style>\n",
       "<ol class=list-inline><li>457</li><li>45</li></ol>\n"
      ],
      "text/latex": [
       "\\begin{enumerate*}\n",
       "\\item 457\n",
       "\\item 45\n",
       "\\end{enumerate*}\n"
      ],
      "text/markdown": [
       "1. 457\n",
       "2. 45\n",
       "\n",
       "\n"
      ],
      "text/plain": [
       "[1] 457  45"
      ]
     },
     "metadata": {},
     "output_type": "display_data"
    },
    {
     "data": {
      "text/html": [
       "<style>\n",
       ".list-inline {list-style: none; margin:0; padding: 0}\n",
       ".list-inline>li {display: inline-block}\n",
       ".list-inline>li:not(:last-child)::after {content: \"\\00b7\"; padding: 0 .5ex}\n",
       "</style>\n",
       "<ol class=list-inline><li>444</li><li>45</li></ol>\n"
      ],
      "text/latex": [
       "\\begin{enumerate*}\n",
       "\\item 444\n",
       "\\item 45\n",
       "\\end{enumerate*}\n"
      ],
      "text/markdown": [
       "1. 444\n",
       "2. 45\n",
       "\n",
       "\n"
      ],
      "text/plain": [
       "[1] 444  45"
      ]
     },
     "metadata": {},
     "output_type": "display_data"
    },
    {
     "data": {
      "text/html": [
       "<style>\n",
       ".list-inline {list-style: none; margin:0; padding: 0}\n",
       ".list-inline>li {display: inline-block}\n",
       ".list-inline>li:not(:last-child)::after {content: \"\\00b7\"; padding: 0 .5ex}\n",
       "</style>\n",
       "<ol class=list-inline><li>307</li><li>45</li></ol>\n"
      ],
      "text/latex": [
       "\\begin{enumerate*}\n",
       "\\item 307\n",
       "\\item 45\n",
       "\\end{enumerate*}\n"
      ],
      "text/markdown": [
       "1. 307\n",
       "2. 45\n",
       "\n",
       "\n"
      ],
      "text/plain": [
       "[1] 307  45"
      ]
     },
     "metadata": {},
     "output_type": "display_data"
    },
    {
     "data": {
      "text/html": [
       "<style>\n",
       ".list-inline {list-style: none; margin:0; padding: 0}\n",
       ".list-inline>li {display: inline-block}\n",
       ".list-inline>li:not(:last-child)::after {content: \"\\00b7\"; padding: 0 .5ex}\n",
       "</style>\n",
       "<ol class=list-inline><li>460</li><li>45</li></ol>\n"
      ],
      "text/latex": [
       "\\begin{enumerate*}\n",
       "\\item 460\n",
       "\\item 45\n",
       "\\end{enumerate*}\n"
      ],
      "text/markdown": [
       "1. 460\n",
       "2. 45\n",
       "\n",
       "\n"
      ],
      "text/plain": [
       "[1] 460  45"
      ]
     },
     "metadata": {},
     "output_type": "display_data"
    },
    {
     "data": {
      "text/html": [
       "<style>\n",
       ".list-inline {list-style: none; margin:0; padding: 0}\n",
       ".list-inline>li {display: inline-block}\n",
       ".list-inline>li:not(:last-child)::after {content: \"\\00b7\"; padding: 0 .5ex}\n",
       "</style>\n",
       "<ol class=list-inline><li>603</li><li>45</li></ol>\n"
      ],
      "text/latex": [
       "\\begin{enumerate*}\n",
       "\\item 603\n",
       "\\item 45\n",
       "\\end{enumerate*}\n"
      ],
      "text/markdown": [
       "1. 603\n",
       "2. 45\n",
       "\n",
       "\n"
      ],
      "text/plain": [
       "[1] 603  45"
      ]
     },
     "metadata": {},
     "output_type": "display_data"
    },
    {
     "data": {
      "image/png": "[encoded data removed]",
      "text/plain": [
       "Plot with title \"Histogram of df$mid_cum_Z4_h_Morning_sqrt\""
      ]
     },
     "metadata": {
      "image/png": {
       "height": 420,
       "width": 420
      }
     },
     "output_type": "display_data"
    }
   ],
   "source": [
    "path_ = 'G:/VPHI/Welfare/2- Research Projects/OFHE2.OriginsE2/DataOutput/TrackingSystem/ALLDATA_'\n",
    "#df = read.csv(file.path(path_,'df_daily_aggregatedHA.csv'), header = TRUE, sep = \",\")\n",
    "df = read.csv(file.path(path_,'df_BS.csv'), header = TRUE, sep = \",\")\n",
    "\n",
    "df$HenID = as.factor(df$HenID)   \n",
    "df$PenID = as.factor(df$PenID)\n",
    "df$level = as.factor(df$level) \n",
    "df$FoodPenID = as.factor(df$FoodPenID) \n",
    "\n",
    "#df$WOA_F = as.factor(df$WOA) \n",
    "\n",
    "df$CLASS = as.factor(df$CLASS) \n",
    "df$Treatment = as.factor(df$Treatment)\n",
    "\n",
    "#scale: mean-centering of the environmental variable so that intercepts reflect average values for the HenID and ind. \n",
    "#df$temperature_C_avg_scale = scale(df$temperature_C_avg, center=TRUE, scale=TRUE)\n",
    "\n",
    "#setting reference group\n",
    "contrasts(df$Treatment)\n",
    "df <- df %>% mutate(Treatment = relevel(Treatment, ref = \"TRAN\"))\n",
    "contrasts(df$Treatment)\n",
    "\n",
    "contrasts(df$CLASS)\n",
    "df <- df %>% mutate(CLASS = relevel(CLASS, ref = \"LEXP\"))\n",
    "contrasts(df$CLASS)\n",
    "print(dim(df))\n",
    "summary(df)\n",
    "\n",
    "df$latency_1_Zone_mn_6hOPP = max(df$latency_1_Zone_mn_6h)-df$latency_1_Zone_mn_6h\n",
    "df$food_related_behavior_final_inv_cst = (-1)*(df$food_related_behavior_final)+1.01\n",
    "df$latency_1_Zone_15mn_6h = as.integer(df$latency_1_Zone_mn_6h/15)\n",
    "df$latency_1_Zone_15mn_6hOPP = max(df$latency_1_Zone_15mn_6h) - df$latency_1_Zone_15mn_6h\n",
    "\n",
    "df$latency_1_Zone_15mn_3h = as.integer(df$latency_1_Zone_mn_3h/15)\n",
    "df$latency_1_Zone_15mn_3hOPP = max(df$latency_1_Zone_15mn_3h) - df$latency_1_Zone_15mn_3h\n",
    "df$latency_1_Zone_15mn_3h_bind = with(df, cbind(latency_1_Zone_15mn_3h, latency_1_Zone_15mn_3hOPP))\n",
    "df$size = with(df, latency_1_Zone_15mn_3h + latency_1_Zone_15mn_3hOPP)\n",
    "\n",
    "#Parameter names should not contain dots or underscores. & easier reading\n",
    "df$VTD = df$vertical_travel_distance_fulllight_perinsideh\n",
    "df$KBFInterp = df$KBF_interp\n",
    "df$weightInterp = df$weight_interp\n",
    "df$SleepingNotUppest = df$Sleeping_NotUppest\n",
    "df$foodRelatedBehavior = log(df$food_related_behavior_final_inv_cst)\n",
    "hist(df$foodRelatedBehavior)\n",
    "df$mid_cum_Z4_h_Morning_sqrt = sqrt(df$mid_cum_Z4_h_Morning)\n",
    "hist(df$mid_cum_Z4_h_Morning_sqrt)\n",
    "\n",
    "dim(df)\n",
    "df_time = df[df$BS_type=='time',]\n",
    "dim(df_time)\n",
    "\n",
    "df_LP2 = df[df$BS_type=='LP2',]\n",
    "dim(df_LP2)\n",
    "\n",
    "df_LP10 = df[df$BS_type=='LP10',]\n",
    "dim(df_LP10)\n",
    "\n",
    "df_cold = df[df$BS_type=='cold',]\n",
    "dim(df_cold)\n",
    "\n",
    "df_vacc = df[df$BS_type=='TypicalVaccinationDay',]\n",
    "dim(df_vacc)\n",
    "\n",
    "df_AC = df[df$across_context==1,]\n",
    "dim(df_AC)\n",
    "\n",
    "df_alltime = df[df$BS_type %in% c('LP2','time','LP10'),]"
   ]
  },
  {
   "cell_type": "code",
   "execution_count": 5,
   "id": "22e40e04",
   "metadata": {},
   "outputs": [
    {
     "data": {
      "text/html": [
       "<table class=\"dataframe\">\n",
       "<caption>A data.frame: 3 × 45</caption>\n",
       "<thead>\n",
       "\t<tr><th></th><th scope=col>TrackingSystemID</th><th scope=col>level</th><th scope=col>DOA</th><th scope=col>DIB</th><th scope=col>FoodPenID</th><th scope=col>BS_type</th><th scope=col>Treatment</th><th scope=col>CLASS</th><th scope=col>PenID</th><th scope=col>temperature_C_avg</th><th scope=col>...</th><th scope=col>latency_1_Zone_15mn_3h</th><th scope=col>latency_1_Zone_15mn_3hOPP</th><th scope=col>latency_1_Zone_15mn_3h_bind</th><th scope=col>size</th><th scope=col>VTD</th><th scope=col>KBFInterp</th><th scope=col>weightInterp</th><th scope=col>SleepingNotUppest</th><th scope=col>foodRelatedBehavior</th><th scope=col>mid_cum_Z4_h_Morning_sqrt</th></tr>\n",
       "\t<tr><th></th><th scope=col>&lt;chr&gt;</th><th scope=col>&lt;fct&gt;</th><th scope=col>&lt;int&gt;</th><th scope=col>&lt;int&gt;</th><th scope=col>&lt;fct&gt;</th><th scope=col>&lt;chr&gt;</th><th scope=col>&lt;fct&gt;</th><th scope=col>&lt;fct&gt;</th><th scope=col>&lt;fct&gt;</th><th scope=col>&lt;dbl&gt;</th><th scope=col>...</th><th scope=col>&lt;int&gt;</th><th scope=col>&lt;int&gt;</th><th scope=col>&lt;int[,2]&gt;</th><th scope=col>&lt;int&gt;</th><th scope=col>&lt;dbl&gt;</th><th scope=col>&lt;dbl&gt;</th><th scope=col>&lt;dbl&gt;</th><th scope=col>&lt;int&gt;</th><th scope=col>&lt;dbl&gt;</th><th scope=col>&lt;dbl&gt;</th></tr>\n",
       "</thead>\n",
       "<tbody>\n",
       "\t<tr><th scope=row>4</th><td>TrackingSystem 10-12</td><td>2020-12-20</td><td>200</td><td> 82</td><td>FoodPenID9-12</td><td>time</td><td>TRAN</td><td>REXP</td><td>pen10</td><td>5.5000000</td><td>...</td><td>12</td><td>0</td><td>12, 0</td><td>12</td><td>5.288128</td><td>0.000000</td><td>1802.650</td><td>0</td><td>-0.5363137</td><td>2.141715</td></tr>\n",
       "\t<tr><th scope=row>7</th><td>TrackingSystem 10-12</td><td>2021-01-03</td><td>214</td><td> 96</td><td>FoodPenID9-12</td><td>time</td><td>TRAN</td><td>REXP</td><td>pen10</td><td>0.8333333</td><td>...</td><td> 9</td><td>3</td><td> 9, 3</td><td>12</td><td>7.312166</td><td>0.000000</td><td>1839.283</td><td>0</td><td>-0.2227852</td><td>1.971181</td></tr>\n",
       "\t<tr><th scope=row>9</th><td>TrackingSystem 10-12</td><td>2021-01-17</td><td>228</td><td>110</td><td>FoodPenID9-12</td><td>time</td><td>TRAN</td><td>REXP</td><td>pen10</td><td>1.8333333</td><td>...</td><td>12</td><td>0</td><td>12, 0</td><td>12</td><td>6.392746</td><td>5.571429</td><td>1850.211</td><td>0</td><td>-0.3149193</td><td>2.296193</td></tr>\n",
       "</tbody>\n",
       "</table>\n"
      ],
      "text/latex": [
       "A data.frame: 3 × 45\n",
       "\\begin{tabular}{r|lllllllllllllllllllll}\n",
       "  & TrackingSystemID & level & DOA & DIB & FoodPenID & BS\\_type & Treatment & CLASS & PenID & temperature\\_C\\_avg & ... & latency\\_1\\_Zone\\_15mn\\_3h & latency\\_1\\_Zone\\_15mn\\_3hOPP & latency\\_1\\_Zone\\_15mn\\_3h\\_bind & size & VTD & KBFInterp & weightInterp & SleepingNotUppest & foodRelatedBehavior & mid\\_cum\\_Z4\\_h\\_Morning\\_sqrt\\\\\n",
       "  & <chr> & <fct> & <int> & <int> & <fct> & <chr> & <fct> & <fct> & <fct> & <dbl> & ... & <int> & <int> & <int{[},2{]}> & <int> & <dbl> & <dbl> & <dbl> & <int> & <dbl> & <dbl>\\\\\n",
       "\\hline\n",
       "\t4 & TrackingSystem 10-12 & 2020-12-20 & 200 &  82 & FoodPenID9-12 & time & TRAN & REXP & pen10 & 5.5000000 & ... & 12 & 0 & 12, 0 & 12 & 5.288128 & 0.000000 & 1802.650 & 0 & -0.5363137 & 2.141715\\\\\n",
       "\t7 & TrackingSystem 10-12 & 2021-01-03 & 214 &  96 & FoodPenID9-12 & time & TRAN & REXP & pen10 & 0.8333333 & ... &  9 & 3 &  9, 3 & 12 & 7.312166 & 0.000000 & 1839.283 & 0 & -0.2227852 & 1.971181\\\\\n",
       "\t9 & TrackingSystem 10-12 & 2021-01-17 & 228 & 110 & FoodPenID9-12 & time & TRAN & REXP & pen10 & 1.8333333 & ... & 12 & 0 & 12, 0 & 12 & 6.392746 & 5.571429 & 1850.211 & 0 & -0.3149193 & 2.296193\\\\\n",
       "\\end{tabular}\n"
      ],
      "text/markdown": [
       "\n",
       "A data.frame: 3 × 45\n",
       "\n",
       "| <!--/--> | TrackingSystemID &lt;chr&gt; | level &lt;fct&gt; | DOA &lt;int&gt; | DIB &lt;int&gt; | FoodPenID &lt;fct&gt; | BS_type &lt;chr&gt; | Treatment &lt;fct&gt; | CLASS &lt;fct&gt; | PenID &lt;fct&gt; | temperature_C_avg &lt;dbl&gt; | ... ... | latency_1_Zone_15mn_3h &lt;int&gt; | latency_1_Zone_15mn_3hOPP &lt;int&gt; | latency_1_Zone_15mn_3h_bind &lt;int[,2]&gt; | size &lt;int&gt; | VTD &lt;dbl&gt; | KBFInterp &lt;dbl&gt; | weightInterp &lt;dbl&gt; | SleepingNotUppest &lt;int&gt; | foodRelatedBehavior &lt;dbl&gt; | mid_cum_Z4_h_Morning_sqrt &lt;dbl&gt; |\n",
       "|---|---|---|---|---|---|---|---|---|---|---|---|---|---|---|---|---|---|---|---|---|---|\n",
       "| 4 | TrackingSystem 10-12 | 2020-12-20 | 200 |  82 | FoodPenID9-12 | time | TRAN | REXP | pen10 | 5.5000000 | ... | 12 | 0 | 12, 0 | 12 | 5.288128 | 0.000000 | 1802.650 | 0 | -0.5363137 | 2.141715 |\n",
       "| 7 | TrackingSystem 10-12 | 2021-01-03 | 214 |  96 | FoodPenID9-12 | time | TRAN | REXP | pen10 | 0.8333333 | ... |  9 | 3 |  9, 3 | 12 | 7.312166 | 0.000000 | 1839.283 | 0 | -0.2227852 | 1.971181 |\n",
       "| 9 | TrackingSystem 10-12 | 2021-01-17 | 228 | 110 | FoodPenID9-12 | time | TRAN | REXP | pen10 | 1.8333333 | ... | 12 | 0 | 12, 0 | 12 | 6.392746 | 5.571429 | 1850.211 | 0 | -0.3149193 | 2.296193 |\n",
       "\n"
      ],
      "text/plain": [
       "  TrackingSystemID     level      DOA DIB FoodPenID     BS_type Treatment CLASS\n",
       "4 TrackingSystem 10-12 2020-12-20 200  82 FoodPenID9-12 time    TRAN      REXP \n",
       "7 TrackingSystem 10-12 2021-01-03 214  96 FoodPenID9-12 time    TRAN      REXP \n",
       "9 TrackingSystem 10-12 2021-01-17 228 110 FoodPenID9-12 time    TRAN      REXP \n",
       "  PenID temperature_C_avg ... latency_1_Zone_15mn_3h latency_1_Zone_15mn_3hOPP\n",
       "4 pen10 5.5000000         ... 12                     0                        \n",
       "7 pen10 0.8333333         ...  9                     3                        \n",
       "9 pen10 1.8333333         ... 12                     0                        \n",
       "  latency_1_Zone_15mn_3h_bind size VTD      KBFInterp weightInterp\n",
       "4 12, 0                       12   5.288128 0.000000  1802.650    \n",
       "7  9, 3                       12   7.312166 0.000000  1839.283    \n",
       "9 12, 0                       12   6.392746 5.571429  1850.211    \n",
       "  SleepingNotUppest foodRelatedBehavior mid_cum_Z4_h_Morning_sqrt\n",
       "4 0                 -0.5363137          2.141715                 \n",
       "7 0                 -0.2227852          1.971181                 \n",
       "9 0                 -0.3149193          2.296193                 "
      ]
     },
     "metadata": {},
     "output_type": "display_data"
    }
   ],
   "source": [
    "head(df_time,3)"
   ]
  },
  {
   "cell_type": "raw",
   "id": "8509d9fb",
   "metadata": {},
   "source": [
    "#brms family: https://paul-buerkner.github.io/brms/reference/brmsfamily.html\n",
    "Families bernoulli and binomial can be used for binary regression (i.e., most commonly logistic regression)"
   ]
  },
  {
   "cell_type": "raw",
   "id": "c49c2639",
   "metadata": {},
   "source": [
    "#for later analysis:\n",
    "#interesting brms models: https://discourse.mc-stan.org/t/brms-non-linear-models-correlated-random-effects/12852\n",
    "priors:\n",
    "https://discourse.mc-stan.org/t/repeated-measures-ordinal-model-with-brms-how-to-specify-correlation-structure/14352\n",
    "prior = c(set_prior(prior = \"normal(0,10)\", class = \"Intercept\"),\n",
    "                     set_prior(prior = \"normal(0,5)\", class = \"b\"),\n",
    "                     set_prior(prior = \"normal(0,5)\", class = \"sd\")"
   ]
  },
  {
   "cell_type": "raw",
   "id": "9d35a1d1",
   "metadata": {},
   "source": [
    "from repeatability script\n",
    "#model used in R\n",
    "Sleeping_NotUppest ~ Treatment + scale(weight_interp)+scale(KBF_interp) + (1|HenID) #binary\n",
    "\n",
    "food_related_behavior_final_inv_cst ~ Treatment + FoodPenID + scale(weight_interp) + scale(KBF_interp) + scale(DIB)+ (1|HenID) #Gamma(link=\"log\")\n",
    "\n",
    "vertical_travel_distance_fulllight_perinsideh ~ Treatment + scale(weight_interp)+scale(KBF_interp)+scale(DIB)+scale(I(DIB^2)) +(1|HenID), #gaussian\n",
    "\n",
    "mid_cum_Z4_sec_Morning ~ Treatment + scale(weight_interp) + scale(KBF_interp) + scale(DIB) + (1|HenID) #Gamma(link = \"log\")\n",
    "\n",
    "cbind(latency_1_Zone_15mn_3h, latency_1_Zone_15mn_3hOPP) ~ Treatment +scale(DIB)+scale(weight_interp)+scale(KBF_interp) +(1|HenID) #proportion \n",
    "\n",
    "\n",
    "Sleeping_NotUppest, mid_cum_Z4_sec_Morning, food_related_behavior_final_inv_cst, latency_1_Zone_15mn_3h, vertical_travel_distance_fulllight_perinsideh"
   ]
  },
  {
   "cell_type": "markdown",
   "id": "afa9bc7f",
   "metadata": {},
   "source": [
    "# VTD"
   ]
  },
  {
   "cell_type": "code",
   "execution_count": 6,
   "id": "31b70714",
   "metadata": {
    "scrolled": true
   },
   "outputs": [
    {
     "name": "stderr",
     "output_type": "stream",
     "text": [
      "Compiling Stan program...\n",
      "\n",
      "Start sampling\n",
      "\n"
     ]
    },
    {
     "data": {
      "text/plain": [
       " Family: gaussian \n",
       "  Links: mu = identity; sigma = log \n",
       "Formula: vertical_travel_distance_fulllight_perinsideh ~ Treatment + scale(weightInterp) + scale(KBFInterp) + scale(DIB) + scale(I(DIB^2)) + (1 | a | HenID) \n",
       "         sigma ~ scale(weightInterp) + scale(KBFInterp) + (1 | a | HenID)\n",
       "   Data: df_alltime (Number of observations: 4044) \n",
       "  Draws: 3 chains, each with iter = 5000; warmup = 3500; thin = 2;\n",
       "         total post-warmup draws = 2250\n",
       "\n",
       "Group-Level Effects: \n",
       "~HenID (Number of levels: 190) \n",
       "                               Estimate Est.Error l-95% CI u-95% CI Rhat\n",
       "sd(Intercept)                      1.41      0.08     1.27     1.57 1.00\n",
       "sd(sigma_Intercept)                0.32      0.02     0.28     0.37 1.00\n",
       "cor(Intercept,sigma_Intercept)     0.60      0.06     0.48     0.71 1.00\n",
       "                               Bulk_ESS Tail_ESS\n",
       "sd(Intercept)                       536     1099\n",
       "sd(sigma_Intercept)                1780     2920\n",
       "cor(Intercept,sigma_Intercept)     1521     2597\n",
       "\n",
       "Population-Level Effects: \n",
       "                        Estimate Est.Error l-95% CI u-95% CI Rhat Bulk_ESS\n",
       "Intercept                   4.18      0.13     3.92     4.43 1.01      319\n",
       "sigma_Intercept            -0.12      0.03    -0.18    -0.08 1.00      756\n",
       "TreatmentOFH               -0.08      0.17    -0.42     0.26 1.01      341\n",
       "scaleweightInterp          -0.29      0.05    -0.39    -0.19 1.00      933\n",
       "scaleKBFInterp              0.02      0.03    -0.05     0.08 1.00     2042\n",
       "scaleDIB                    1.07      0.10     0.87     1.26 1.00     1572\n",
       "scaleIDIBE2                -1.13      0.09    -1.30    -0.97 1.00     2014\n",
       "sigma_scaleweightInterp    -0.09      0.02    -0.13    -0.05 1.00     2251\n",
       "sigma_scaleKBFInterp       -0.06      0.02    -0.10    -0.03 1.00     2323\n",
       "                        Tail_ESS\n",
       "Intercept                    717\n",
       "sigma_Intercept             1461\n",
       "TreatmentOFH                 681\n",
       "scaleweightInterp           1496\n",
       "scaleKBFInterp              2848\n",
       "scaleDIB                    2272\n",
       "scaleIDIBE2                 2852\n",
       "sigma_scaleweightInterp     3190\n",
       "sigma_scaleKBFInterp        3193\n",
       "\n",
       "Draws were sampled using sampling(NUTS). For each parameter, Bulk_ESS\n",
       "and Tail_ESS are effective sample size measures, and Rhat is the potential\n",
       "scale reduction factor on split chains (at convergence, Rhat = 1)."
      ]
     },
     "metadata": {},
     "output_type": "display_data"
    },
    {
     "data": {
      "image/png": "[encoded data removed]",
      "text/plain": [
       "plot without title"
      ]
     },
     "metadata": {
      "image/png": {
       "height": 420,
       "width": 420
      }
     },
     "output_type": "display_data"
    },
    {
     "data": {
      "image/png": "[encoded data removed]",
      "text/plain": [
       "plot without title"
      ]
     },
     "metadata": {
      "image/png": {
       "height": 420,
       "width": 420
      }
     },
     "output_type": "display_data"
    },
    {
     "data": {
      "image/png": "[encoded data removed]",
      "text/plain": [
       "plot without title"
      ]
     },
     "metadata": {
      "image/png": {
       "height": 420,
       "width": 420
      }
     },
     "output_type": "display_data"
    },
    {
     "data": {
      "image/png": "[encoded data removed]",
      "text/plain": [
       "plot without title"
      ]
     },
     "metadata": {
      "image/png": {
       "height": 420,
       "width": 420
      }
     },
     "output_type": "display_data"
    }
   ],
   "source": [
    "#such a correlation can give insights whether certain behavioral types are particularlypredictable or un-predictable in their behavior\n",
    "double_model_cor = bf(vertical_travel_distance_fulllight_perinsideh ~ Treatment + scale(weightInterp)+scale(KBFInterp)+scale(DIB)+scale(I(DIB^2)) +(1|a|HenID),\n",
    "                      sigma ~  scale(weightInterp)+scale(KBFInterp) + (1|a|HenID))\n",
    "mod_VTD = brm(double_model_cor, data = df_alltime, warmup = 7000,iter = 10000, thin=2, chains = 3,inits  = \"random\",\n",
    "                 seed = 12345, cores = my.cores)\n",
    "summary(mod_VTD)\n",
    "\n",
    "save(mod_VTD, file = \"mod_VTD.rda\")\n",
    "#load(\"Multi_DHGLM_allvar.rda\") #do not put modelreload = load(\"Multi_DHGLM_allvar.rda\")\n",
    "\n",
    "#Conditional Effects of Predictors\n",
    "#https://rdrr.io/cran/brms/man/conditional_effects.brmsfit.html\n",
    "conditional_effects(mod_VTD)"
   ]
  },
  {
   "cell_type": "code",
   "execution_count": 7,
   "id": "1a0ecfca",
   "metadata": {},
   "outputs": [
    {
     "name": "stderr",
     "output_type": "stream",
     "text": [
      "Warning message:\n",
      "\"\n",
      "113 (2.8%) p_waic estimates greater than 0.4. We recommend trying loo instead.\"\n",
      "Warning message:\n",
      "\"Found 16 observations with a pareto_k > 0.7 in model 'mod_VTD'. It is recommended to set 'moment_match = TRUE' in order to perform moment matching for problematic observations. \"\n"
     ]
    },
    {
     "name": "stdout",
     "output_type": "stream",
     "text": [
      "\n",
      "Computed from 4500 by 4044 log-likelihood matrix\n",
      "\n",
      "          Estimate    SE\n",
      "elpd_waic  -5483.2  53.9\n",
      "p_waic       310.7  11.6\n",
      "waic       10966.3 107.7\n",
      "\n",
      "113 (2.8%) p_waic estimates greater than 0.4. We recommend trying loo instead. \n",
      "\n",
      "Computed from 4500 by 4044 log-likelihood matrix\n",
      "\n",
      "         Estimate    SE\n",
      "elpd_loo  -5492.2  54.6\n",
      "p_loo       319.7  12.9\n",
      "looic     10984.4 109.2\n",
      "------\n",
      "Monte Carlo SE of elpd_loo is NA.\n",
      "\n",
      "Pareto k diagnostic values:\n",
      "                         Count Pct.    Min. n_eff\n",
      "(-Inf, 0.5]   (good)     4004  99.0%   589       \n",
      " (0.5, 0.7]   (ok)         24   0.6%   114       \n",
      "   (0.7, 1]   (bad)        14   0.3%   45        \n",
      "   (1, Inf)   (very bad)    2   0.0%   3         \n",
      "See help('pareto-k-diagnostic') for details.\n"
     ]
    },
    {
     "data": {
      "image/png": "[encoded data removed]",
      "text/plain": [
       "plot without title"
      ]
     },
     "metadata": {
      "image/png": {
       "height": 420,
       "width": 420
      }
     },
     "output_type": "display_data"
    }
   ],
   "source": [
    "#check model fitting\n",
    "mod_VTD = add_criterion(mod_VTD, criterion=c('waic','loo'), file=file.path(path_,'mod_VTD'))\n",
    "print(mod_VTD$criteria$waic)\n",
    "#approximative leave-one-out cross validation\n",
    "print(mod_VTD$criteria$loo)\n",
    "\n",
    "#posterior predictive check\n",
    "pp_check(mod_VTD,ndraws = 100)\n",
    "#-->we don't see any major systematic discrepancies of our data from what can be predicted with modelPred"
   ]
  },
  {
   "cell_type": "code",
   "execution_count": null,
   "id": "da9e8966",
   "metadata": {},
   "outputs": [],
   "source": []
  },
  {
   "cell_type": "markdown",
   "id": "0c56b15b",
   "metadata": {},
   "source": [
    "# foodRelatedBehavior"
   ]
  },
  {
   "cell_type": "code",
   "execution_count": null,
   "id": "36d163fc",
   "metadata": {},
   "outputs": [],
   "source": [
    "#such a correlation can give insights whether certain behavioral types are particularlypredictable or un-predictable in their behavior\n",
    "double_model_cor = bf(scale(foodRelatedBehavior) ~ Treatment + FoodPenID + scale(weightInterp) + scale(KBFInterp) + scale(DIB) +(1|a|HenID),\n",
    "                      sigma~Treatment + FoodPenID + scale(weightInterp) + scale(KBFInterp) + scale(DIB) +(1|a|HenID))\n",
    "mod_food = brm(double_model_cor, data = df_alltime, warmup = 7000,iter = 10000, thin=2, chains = 3,inits  = \"random\",\n",
    "                 seed = 12345, cores=my.cores)\n",
    "summary(mod_food)\n",
    "\n",
    "\n",
    "\n",
    "save(mod_food, file = \"mod_food.rda\")\n",
    "#load(\"Multi_DHGLM_allvar.rda\") #do not put modelreload = load(\"Multi_DHGLM_allvar.rda\")\n",
    "\n",
    "#Conditional Effects of Predictors\n",
    "#https://rdrr.io/cran/brms/man/conditional_effects.brmsfit.html\n",
    "conditional_effects(mod_food)"
   ]
  },
  {
   "cell_type": "code",
   "execution_count": null,
   "id": "20dd0503",
   "metadata": {},
   "outputs": [],
   "source": []
  },
  {
   "cell_type": "code",
   "execution_count": null,
   "id": "fea849b1",
   "metadata": {},
   "outputs": [],
   "source": []
  },
  {
   "cell_type": "code",
   "execution_count": null,
   "id": "b131762e",
   "metadata": {},
   "outputs": [],
   "source": []
  },
  {
   "cell_type": "code",
   "execution_count": null,
   "id": "8b837853",
   "metadata": {},
   "outputs": [],
   "source": []
  },
  {
   "cell_type": "code",
   "execution_count": null,
   "id": "536c4e48",
   "metadata": {},
   "outputs": [],
   "source": []
  },
  {
   "cell_type": "code",
   "execution_count": null,
   "id": "e9001420",
   "metadata": {},
   "outputs": [],
   "source": []
  },
  {
   "cell_type": "code",
   "execution_count": null,
   "id": "ff34ef0e",
   "metadata": {},
   "outputs": [],
   "source": []
  },
  {
   "cell_type": "code",
   "execution_count": null,
   "id": "1af4ae9f",
   "metadata": {},
   "outputs": [],
   "source": []
  },
  {
   "cell_type": "code",
   "execution_count": null,
   "id": "3802d2ee",
   "metadata": {},
   "outputs": [],
   "source": []
  },
  {
   "cell_type": "code",
   "execution_count": null,
   "id": "b3bdc66d",
   "metadata": {},
   "outputs": [],
   "source": []
  }
 ],
 "metadata": {
  "kernelspec": {
   "display_name": " Rkernel_4",
   "language": "R",
   "name": "rkernel_4"
  },
  "language_info": {
   "codemirror_mode": "r",
   "file_extension": ".r",
   "mimetype": "text/x-r-source",
   "name": "R",
   "pygments_lexer": "r",
   "version": "4.1.1"
  }
 },
 "nbformat": 4,
 "nbformat_minor": 5
}
