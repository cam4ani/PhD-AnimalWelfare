{
 "cells": [
  {
   "cell_type": "code",
   "execution_count": 1,
   "metadata": {},
   "outputs": [],
   "source": [
    "#basic package\n",
    "import json\n",
    "import tqdm\n",
    "import os\n",
    "import numpy as np\n",
    "import glob\n",
    "import pandas as pd\n",
    "import sys\n",
    "import shutil\n",
    "import time\n",
    "import datetime as dt\n",
    "import itertools\n",
    "import time\n",
    "import re\n",
    "from collections import Counter\n",
    "from collections import defaultdict\n",
    "import operator\n",
    "import math\n",
    "import functools\n",
    "import collections\n",
    "\n",
    "#plot\n",
    "import matplotlib.pyplot as plt\n",
    "import seaborn as sns"
   ]
  },
  {
   "cell_type": "code",
   "execution_count": 3,
   "metadata": {},
   "outputs": [
    {
     "name": "stdout",
     "output_type": "stream",
     "text": [
      "(253, 8)\n"
     ]
    },
    {
     "data": {
      "text/html": [
       "<div>\n",
       "<style scoped>\n",
       "    .dataframe tbody tr th:only-of-type {\n",
       "        vertical-align: middle;\n",
       "    }\n",
       "\n",
       "    .dataframe tbody tr th {\n",
       "        vertical-align: top;\n",
       "    }\n",
       "\n",
       "    .dataframe thead th {\n",
       "        text-align: right;\n",
       "    }\n",
       "</style>\n",
       "<table border=\"1\" class=\"dataframe\">\n",
       "  <thead>\n",
       "    <tr style=\"text-align: right;\">\n",
       "      <th></th>\n",
       "      <th>Date</th>\n",
       "      <th>Time</th>\n",
       "      <th>Pen</th>\n",
       "      <th>Side</th>\n",
       "      <th>Bird</th>\n",
       "      <th>Zone</th>\n",
       "      <th>Position / Comments</th>\n",
       "      <th>TagID</th>\n",
       "    </tr>\n",
       "  </thead>\n",
       "  <tbody>\n",
       "    <tr>\n",
       "      <th>0</th>\n",
       "      <td>2020-07-30</td>\n",
       "      <td>15:30:25</td>\n",
       "      <td>3.0</td>\n",
       "      <td>WG</td>\n",
       "      <td>pb</td>\n",
       "      <td>Wg</td>\n",
       "      <td>NaN</td>\n",
       "      <td>NaN</td>\n",
       "    </tr>\n",
       "    <tr>\n",
       "      <th>1</th>\n",
       "      <td>2020-07-30</td>\n",
       "      <td>15:30:42</td>\n",
       "      <td>4.0</td>\n",
       "      <td>WG</td>\n",
       "      <td>sws</td>\n",
       "      <td>Wg</td>\n",
       "      <td>NaN</td>\n",
       "      <td>NaN</td>\n",
       "    </tr>\n",
       "    <tr>\n",
       "      <th>2</th>\n",
       "      <td>2020-07-30</td>\n",
       "      <td>15:30:42</td>\n",
       "      <td>4.0</td>\n",
       "      <td>WG</td>\n",
       "      <td>ws</td>\n",
       "      <td>Wg</td>\n",
       "      <td>NaN</td>\n",
       "      <td>NaN</td>\n",
       "    </tr>\n",
       "  </tbody>\n",
       "</table>\n",
       "</div>"
      ],
      "text/plain": [
       "        Date      Time  Pen Side Bird Zone Position / Comments  TagID\n",
       "0 2020-07-30  15:30:25  3.0   WG   pb   Wg                 NaN    NaN\n",
       "1 2020-07-30  15:30:42  4.0   WG  sws   Wg                 NaN    NaN\n",
       "2 2020-07-30  15:30:42  4.0   WG   ws   Wg                 NaN    NaN"
      ]
     },
     "execution_count": 3,
     "metadata": {},
     "output_type": "execute_result"
    }
   ],
   "source": [
    "df = pd.read_excel(r'D:\\vm_exchange\\PhD_Data\\GantnerValidation\\Validation_Scans.xlsx',sep=';',index_col=False)#header=0:if there is no header\n",
    "print(df.shape)\n",
    "df.head(3)"
   ]
  },
  {
   "cell_type": "code",
   "execution_count": 7,
   "metadata": {},
   "outputs": [
    {
     "name": "stdout",
     "output_type": "stream",
     "text": [
      "(125774, 6)\n"
     ]
    },
    {
     "data": {
      "text/html": [
       "<div>\n",
       "<style scoped>\n",
       "    .dataframe tbody tr th:only-of-type {\n",
       "        vertical-align: middle;\n",
       "    }\n",
       "\n",
       "    .dataframe tbody tr th {\n",
       "        vertical-align: top;\n",
       "    }\n",
       "\n",
       "    .dataframe thead th {\n",
       "        text-align: right;\n",
       "    }\n",
       "</style>\n",
       "<table border=\"1\" class=\"dataframe\">\n",
       "  <thead>\n",
       "    <tr style=\"text-align: right;\">\n",
       "      <th></th>\n",
       "      <th>020015C0</th>\n",
       "      <th>15</th>\n",
       "      <th>Tier 1</th>\n",
       "      <th>3</th>\n",
       "      <th>2</th>\n",
       "      <th>1</th>\n",
       "    </tr>\n",
       "    <tr>\n",
       "      <th>16.10.2019 11:33:43</th>\n",
       "      <th></th>\n",
       "      <th></th>\n",
       "      <th></th>\n",
       "      <th></th>\n",
       "      <th></th>\n",
       "      <th></th>\n",
       "    </tr>\n",
       "  </thead>\n",
       "  <tbody>\n",
       "    <tr>\n",
       "      <th>16.10.2019 11:33:46</th>\n",
       "      <td>0200156A</td>\n",
       "      <td>56</td>\n",
       "      <td>Tier 1</td>\n",
       "      <td>2</td>\n",
       "      <td>2</td>\n",
       "      <td>1</td>\n",
       "    </tr>\n",
       "    <tr>\n",
       "      <th>16.10.2019 11:33:48</th>\n",
       "      <td>020015C8</td>\n",
       "      <td>80</td>\n",
       "      <td>Tier 1</td>\n",
       "      <td>3</td>\n",
       "      <td>2</td>\n",
       "      <td>1</td>\n",
       "    </tr>\n",
       "    <tr>\n",
       "      <th>16.10.2019 11:33:48</th>\n",
       "      <td>02001419</td>\n",
       "      <td>19</td>\n",
       "      <td>Tier 1</td>\n",
       "      <td>3</td>\n",
       "      <td>2</td>\n",
       "      <td>1</td>\n",
       "    </tr>\n",
       "  </tbody>\n",
       "</table>\n",
       "</div>"
      ],
      "text/plain": [
       "                     020015C0  15  Tier 1  3  2  1\n",
       "16.10.2019 11:33:43                               \n",
       "16.10.2019 11:33:46  0200156A  56  Tier 1  2  2  1\n",
       "16.10.2019 11:33:48  020015C8  80  Tier 1  3  2  1\n",
       "16.10.2019 11:33:48  02001419  19  Tier 1  3  2  1"
      ]
     },
     "execution_count": 7,
     "metadata": {},
     "output_type": "execute_result"
    }
   ],
   "source": [
    "df = pd.read_csv(r'D:\\vm_exchange\\PhD_Data\\GantnerValidation\\log_00000001_pen10-12.csv', sep=';', index_col=0) \n",
    "print(df.shape)\n",
    "df.head(3)"
   ]
  },
  {
   "cell_type": "code",
   "execution_count": null,
   "metadata": {},
   "outputs": [],
   "source": [
    "### construct function between two points, for linearity let deg=1\n",
    "#deg=15: difference du rsi au debut (e.g. entre 60 et 70) a moins d'impact que la difference du rsi entre 90 et 100\n",
    "#plus deg est grand plus cette difference sera grande!\n",
    "def fct_between_two_points(x, y, deg,x_val, plot=None):\n",
    "    #find function\n",
    "    coefficients = np.polyfit(x, y, deg)\n",
    "    polynomial = np.poly1d(coefficients)\n",
    "    #plot the points and the line\n",
    "    if plot!=None:\n",
    "        x_axis = range(x[0],x[1]+1)\n",
    "        y_axis = polynomial(x_axis)\n",
    "        plt.plot(x_axis, y_axis)\n",
    "        plt.plot( x[0], y[0], 'go' )\n",
    "        plt.plot( x[1], y[1], 'go' )\n",
    "        plt.grid('on')\n",
    "        plt.show()\n",
    "    return(polynomial(x_val))\n",
    "        \n",
    "#example\n",
    "fct_between_two_points(x=[55, 100], y=[10, 50], deg=15, x_val=70,plot=1)\n",
    "fct_between_two_points(x=[55, 100], y=[10, 50], deg=1, x_val=70,plot=1)"
   ]
  },
  {
   "cell_type": "code",
   "execution_count": null,
   "metadata": {},
   "outputs": [],
   "source": []
  },
  {
   "cell_type": "code",
   "execution_count": null,
   "metadata": {},
   "outputs": [],
   "source": []
  },
  {
   "cell_type": "code",
   "execution_count": null,
   "metadata": {},
   "outputs": [],
   "source": []
  },
  {
   "cell_type": "code",
   "execution_count": null,
   "metadata": {},
   "outputs": [],
   "source": []
  },
  {
   "cell_type": "code",
   "execution_count": null,
   "metadata": {},
   "outputs": [],
   "source": []
  }
 ],
 "metadata": {
  "kernelspec": {
   "display_name": "Python 3",
   "language": "python",
   "name": "python3"
  },
  "language_info": {
   "codemirror_mode": {
    "name": "ipython",
    "version": 3
   },
   "file_extension": ".py",
   "mimetype": "text/x-python",
   "name": "python",
   "nbconvert_exporter": "python",
   "pygments_lexer": "ipython3",
   "version": "3.6.10"
  }
 },
 "nbformat": 4,
 "nbformat_minor": 2
}
