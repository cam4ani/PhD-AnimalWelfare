{
 "cells": [
  {
   "cell_type": "code",
   "execution_count": 1,
   "metadata": {},
   "outputs": [],
   "source": [
    "#basic package\n",
    "import json\n",
    "import tqdm\n",
    "import os\n",
    "import numpy as np\n",
    "import glob\n",
    "import pandas as pd\n",
    "import sys\n",
    "import shutil\n",
    "import time\n",
    "import datetime as dt\n",
    "import itertools\n",
    "import time\n",
    "import re\n",
    "from collections import Counter\n",
    "from collections import defaultdict\n",
    "import operator\n",
    "import math\n",
    "\n",
    "#plot\n",
    "import matplotlib.pyplot as plt\n",
    "import seaborn as sns"
   ]
  },
  {
   "cell_type": "code",
   "execution_count": 2,
   "metadata": {},
   "outputs": [],
   "source": [
    "sys.path.append('C:\\\\Users\\\\camil\\\\Desktop\\\\animals_code\\\\entropy')\n",
    "from entropy.entropy import sample_entropy"
   ]
  },
  {
   "cell_type": "code",
   "execution_count": 3,
   "metadata": {},
   "outputs": [
    {
     "name": "stdout",
     "output_type": "stream",
     "text": [
      "we restrict the time series to one value per 60 seconds \n",
      "we compute the complexity variables each 30 minutes \n",
      "each variables includes the values of at least the last 120.00 minutes (i.e. are using 120.00 values)\n"
     ]
    }
   ],
   "source": [
    "from UTILS import time_series_henColumn_tsRow, ZoneVariable, HenVariable, DistributionEntropy, \\\n",
    "heatmap_duration_perzone_perhen, TimeSeriesPlot, entropy_compare_session\n",
    "import config_mobility as config"
   ]
  },
  {
   "cell_type": "code",
   "execution_count": 4,
   "metadata": {},
   "outputs": [],
   "source": [
    "path_extracted_data = config.path_extracted_data\n",
    "id_run = config.id_run\n",
    "nbr_sec = config.nbr_sec"
   ]
  },
  {
   "cell_type": "markdown",
   "metadata": {},
   "source": [
    "# Session Variable Verification"
   ]
  },
  {
   "cell_type": "code",
   "execution_count": 12,
   "metadata": {},
   "outputs": [],
   "source": [
    "#choose teh session to look at\n",
    "session = '4B'\n",
    "#level\n",
    "ts_name = 'time_serie_day' "
   ]
  },
  {
   "cell_type": "code",
   "execution_count": 13,
   "metadata": {},
   "outputs": [
    {
     "name": "stdout",
     "output_type": "stream",
     "text": [
      "(354, 44)\n"
     ]
    },
    {
     "data": {
      "text/html": [
       "<div>\n",
       "<style scoped>\n",
       "    .dataframe tbody tr th:only-of-type {\n",
       "        vertical-align: middle;\n",
       "    }\n",
       "\n",
       "    .dataframe tbody tr th {\n",
       "        vertical-align: top;\n",
       "    }\n",
       "\n",
       "    .dataframe thead th {\n",
       "        text-align: right;\n",
       "    }\n",
       "</style>\n",
       "<table border=\"1\" class=\"dataframe\">\n",
       "  <thead>\n",
       "    <tr style=\"text-align: right;\">\n",
       "      <th></th>\n",
       "      <th>HenID</th>\n",
       "      <th>level</th>\n",
       "      <th>duration_zone_1</th>\n",
       "      <th>duration_zone_2</th>\n",
       "      <th>duration_zone_3</th>\n",
       "      <th>duration_zone_4</th>\n",
       "      <th>duration_zone_5</th>\n",
       "      <th>verification_daily_total_duration</th>\n",
       "      <th>dur_values</th>\n",
       "      <th>dur_values_normalized</th>\n",
       "      <th>...</th>\n",
       "      <th>Total_number_transition</th>\n",
       "      <th>distribution_entropy</th>\n",
       "      <th>nbr_bouts_zone_3</th>\n",
       "      <th>nbr_bouts_zone_4</th>\n",
       "      <th>nbr_bouts_zone_2</th>\n",
       "      <th>nbr_bouts_zone_1</th>\n",
       "      <th>nbr_bouts_zone_5</th>\n",
       "      <th>Max_duration_zone_4</th>\n",
       "      <th>SampEnt_order2</th>\n",
       "      <th>SampEnt_perZone</th>\n",
       "    </tr>\n",
       "  </thead>\n",
       "  <tbody>\n",
       "    <tr>\n",
       "      <th>0</th>\n",
       "      <td>hen_100</td>\n",
       "      <td>2017-01-13</td>\n",
       "      <td>6738.0</td>\n",
       "      <td>23373.0</td>\n",
       "      <td>21785.0</td>\n",
       "      <td>2104.0</td>\n",
       "      <td>0.0</td>\n",
       "      <td>54000.0</td>\n",
       "      <td>[6738.0, 23373.0, 21785.0, 2104.0, 0.0]</td>\n",
       "      <td>[0.12477777777777778, 0.43283333333333335, 0.4...</td>\n",
       "      <td>...</td>\n",
       "      <td>84</td>\n",
       "      <td>1.114801</td>\n",
       "      <td>27</td>\n",
       "      <td>3</td>\n",
       "      <td>39</td>\n",
       "      <td>16</td>\n",
       "      <td>0</td>\n",
       "      <td>2044</td>\n",
       "      <td>0.002979</td>\n",
       "      <td>{'zone_1': 0.04557403144807681, 'zone_2': 0.15...</td>\n",
       "    </tr>\n",
       "    <tr>\n",
       "      <th>1</th>\n",
       "      <td>hen_100</td>\n",
       "      <td>2017-01-14</td>\n",
       "      <td>5388.0</td>\n",
       "      <td>24344.0</td>\n",
       "      <td>20834.0</td>\n",
       "      <td>3396.0</td>\n",
       "      <td>38.0</td>\n",
       "      <td>54000.0</td>\n",
       "      <td>[5388.0, 24344.0, 20834.0, 3396.0, 38.0]</td>\n",
       "      <td>[0.09977777777777778, 0.45081481481481483, 0.3...</td>\n",
       "      <td>...</td>\n",
       "      <td>83</td>\n",
       "      <td>1.135665</td>\n",
       "      <td>30</td>\n",
       "      <td>4</td>\n",
       "      <td>38</td>\n",
       "      <td>11</td>\n",
       "      <td>1</td>\n",
       "      <td>2119</td>\n",
       "      <td>0.003041</td>\n",
       "      <td>{'zone_1': 0.02690476458642156, 'zone_2': 0.15...</td>\n",
       "    </tr>\n",
       "    <tr>\n",
       "      <th>2</th>\n",
       "      <td>hen_100</td>\n",
       "      <td>2017-01-15</td>\n",
       "      <td>4645.0</td>\n",
       "      <td>23023.0</td>\n",
       "      <td>23245.0</td>\n",
       "      <td>2583.0</td>\n",
       "      <td>504.0</td>\n",
       "      <td>54000.0</td>\n",
       "      <td>[4645.0, 23023.0, 23245.0, 2583.0, 504.0]</td>\n",
       "      <td>[0.08601851851851852, 0.42635185185185187, 0.4...</td>\n",
       "      <td>...</td>\n",
       "      <td>68</td>\n",
       "      <td>1.126356</td>\n",
       "      <td>23</td>\n",
       "      <td>4</td>\n",
       "      <td>30</td>\n",
       "      <td>11</td>\n",
       "      <td>1</td>\n",
       "      <td>1496</td>\n",
       "      <td>0.002341</td>\n",
       "      <td>{'zone_1': 0.026105446031409685, 'zone_2': 0.1...</td>\n",
       "    </tr>\n",
       "  </tbody>\n",
       "</table>\n",
       "<p>3 rows × 44 columns</p>\n",
       "</div>"
      ],
      "text/plain": [
       "     HenID      level  duration_zone_1  duration_zone_2  duration_zone_3  \\\n",
       "0  hen_100 2017-01-13           6738.0          23373.0          21785.0   \n",
       "1  hen_100 2017-01-14           5388.0          24344.0          20834.0   \n",
       "2  hen_100 2017-01-15           4645.0          23023.0          23245.0   \n",
       "\n",
       "   duration_zone_4  duration_zone_5  verification_daily_total_duration  \\\n",
       "0           2104.0              0.0                            54000.0   \n",
       "1           3396.0             38.0                            54000.0   \n",
       "2           2583.0            504.0                            54000.0   \n",
       "\n",
       "                                  dur_values  \\\n",
       "0    [6738.0, 23373.0, 21785.0, 2104.0, 0.0]   \n",
       "1   [5388.0, 24344.0, 20834.0, 3396.0, 38.0]   \n",
       "2  [4645.0, 23023.0, 23245.0, 2583.0, 504.0]   \n",
       "\n",
       "                               dur_values_normalized  \\\n",
       "0  [0.12477777777777778, 0.43283333333333335, 0.4...   \n",
       "1  [0.09977777777777778, 0.45081481481481483, 0.3...   \n",
       "2  [0.08601851851851852, 0.42635185185185187, 0.4...   \n",
       "\n",
       "                         ...                         Total_number_transition  \\\n",
       "0                        ...                                              84   \n",
       "1                        ...                                              83   \n",
       "2                        ...                                              68   \n",
       "\n",
       "  distribution_entropy nbr_bouts_zone_3 nbr_bouts_zone_4 nbr_bouts_zone_2  \\\n",
       "0             1.114801               27                3               39   \n",
       "1             1.135665               30                4               38   \n",
       "2             1.126356               23                4               30   \n",
       "\n",
       "   nbr_bouts_zone_1  nbr_bouts_zone_5  Max_duration_zone_4  SampEnt_order2  \\\n",
       "0                16                 0                 2044        0.002979   \n",
       "1                11                 1                 2119        0.003041   \n",
       "2                11                 1                 1496        0.002341   \n",
       "\n",
       "                                     SampEnt_perZone  \n",
       "0  {'zone_1': 0.04557403144807681, 'zone_2': 0.15...  \n",
       "1  {'zone_1': 0.02690476458642156, 'zone_2': 0.15...  \n",
       "2  {'zone_1': 0.026105446031409685, 'zone_2': 0.1...  \n",
       "\n",
       "[3 rows x 44 columns]"
      ]
     },
     "execution_count": 13,
     "metadata": {},
     "output_type": "execute_result"
    }
   ],
   "source": [
    "#download the data\n",
    "df = pd.read_csv(os.path.join(path_extracted_data, id_run+'_'+ts_name+'_'+session+'_variables.csv'), sep=';',\n",
    "                parse_dates = ['level','FirstTimestamp_zone_1','FirstTimestamp_zone_2', 'FirstTimestamp_zone_3', \n",
    "                               'FirstTimestamp_zone_4', 'FirstTimestamp_zone_5'])\n",
    "print(df.shape)\n",
    "df.head(3)"
   ]
  },
  {
   "cell_type": "markdown",
   "metadata": {},
   "source": [
    "## verify value in each variable"
   ]
  },
  {
   "cell_type": "raw",
   "metadata": {},
   "source": [
    "We will verify these columns later directly with initial data, and for now assume they are correct: \n",
    "'list_of_durations', 'dico_zone_duration', 'FirstTimestamp_zone_1', 'FirstTimestamp_zone_2', 'FirstTimestamp_zone_3', 'FirstTimestamp_zone_4', 'FirstTimestamp_zone_5'\n",
    "Lets verify the other column with this notebook"
   ]
  },
  {
   "cell_type": "code",
   "execution_count": 16,
   "metadata": {},
   "outputs": [
    {
     "data": {
      "text/html": [
       "<div>\n",
       "<style scoped>\n",
       "    .dataframe tbody tr th:only-of-type {\n",
       "        vertical-align: middle;\n",
       "    }\n",
       "\n",
       "    .dataframe tbody tr th {\n",
       "        vertical-align: top;\n",
       "    }\n",
       "\n",
       "    .dataframe thead th {\n",
       "        text-align: right;\n",
       "    }\n",
       "</style>\n",
       "<table border=\"1\" class=\"dataframe\">\n",
       "  <thead>\n",
       "    <tr style=\"text-align: right;\">\n",
       "      <th></th>\n",
       "      <th>list_of_durations</th>\n",
       "      <th>dico_zone_duration</th>\n",
       "      <th>FirstTimestamp_zone_1</th>\n",
       "      <th>FirstTimestamp_zone_2</th>\n",
       "      <th>FirstTimestamp_zone_3</th>\n",
       "      <th>FirstTimestamp_zone_4</th>\n",
       "      <th>FirstTimestamp_zone_5</th>\n",
       "    </tr>\n",
       "  </thead>\n",
       "  <tbody>\n",
       "    <tr>\n",
       "      <th>23</th>\n",
       "      <td>[269, 4191, 43, 2, 6, 150, 812, 3098, 521, 366...</td>\n",
       "      <td>{'zone_4': [2, 4, 18, 4191], 'zone_3': [6, 20,...</td>\n",
       "      <td>NaT</td>\n",
       "      <td>2017-01-18 03:15:11</td>\n",
       "      <td>2017-01-18 02:00:00</td>\n",
       "      <td>2017-01-18 02:04:29</td>\n",
       "      <td>NaT</td>\n",
       "    </tr>\n",
       "  </tbody>\n",
       "</table>\n",
       "</div>"
      ],
      "text/plain": [
       "                                    list_of_durations  \\\n",
       "23  [269, 4191, 43, 2, 6, 150, 812, 3098, 521, 366...   \n",
       "\n",
       "                                   dico_zone_duration FirstTimestamp_zone_1  \\\n",
       "23  {'zone_4': [2, 4, 18, 4191], 'zone_3': [6, 20,...                   NaT   \n",
       "\n",
       "   FirstTimestamp_zone_2 FirstTimestamp_zone_3 FirstTimestamp_zone_4  \\\n",
       "23   2017-01-18 03:15:11   2017-01-18 02:00:00   2017-01-18 02:04:29   \n",
       "\n",
       "   FirstTimestamp_zone_5  \n",
       "23                   NaT  "
      ]
     },
     "execution_count": 16,
     "metadata": {},
     "output_type": "execute_result"
    }
   ],
   "source": [
    "df[(df['HenID']=='hen_103')&(df['level']=='2017-01-18')][['list_of_durations', 'dico_zone_duration', 'FirstTimestamp_zone_1', \n",
    "                                                          'FirstTimestamp_zone_2', 'FirstTimestamp_zone_3', \n",
    "                                                          'FirstTimestamp_zone_4', 'FirstTimestamp_zone_5']]"
   ]
  },
  {
   "cell_type": "code",
   "execution_count": 21,
   "metadata": {
    "scrolled": true
   },
   "outputs": [
    {
     "data": {
      "text/plain": [
       "'[269, 4191, 43, 2, 6, 150, 812, 3098, 521, 3665, 1579, 1032, 1093, 4080, 1265, 1503, 150, 2549, 1320, 2122, 1079, 1203, 366, 1266, 372, 232, 55, 470, 308, 335, 76, 18, 20, 1287, 278, 1469, 372, 1769, 581, 708, 493, 1741, 302, 2273, 437, 1011, 3337, 287, 901, 514, 708, 4, 35, 243]'"
      ]
     },
     "execution_count": 21,
     "metadata": {},
     "output_type": "execute_result"
    }
   ],
   "source": [
    "df[(df['HenID']=='hen_103')&(df['level']=='2017-01-18')]['list_of_durations'].values[0]"
   ]
  },
  {
   "cell_type": "code",
   "execution_count": null,
   "metadata": {},
   "outputs": [],
   "source": [
    "150+3665+3098+1032+4080+150"
   ]
  },
  {
   "cell_type": "code",
   "execution_count": 36,
   "metadata": {},
   "outputs": [
    {
     "data": {
      "text/plain": [
       "Index(['HenID', 'level', 'duration_zone_1', 'duration_zone_2',\n",
       "       'duration_zone_3', 'duration_zone_4', 'duration_zone_5',\n",
       "       'verification_daily_total_duration', 'dur_values',\n",
       "       'dur_values_normalized', 'FirstTimestamp_zone_1',\n",
       "       'FirstTimestamp_zone_2', 'FirstTimestamp_zone_3',\n",
       "       'FirstTimestamp_zone_4', 'FirstTimestamp_zone_5', 'Total_number_zone',\n",
       "       'RunSampEnt_onLastTsOfEachLevel', 'RunDistEnt_onLastTsOfEachLevel',\n",
       "       'RunEnt_onLastTsOfEachLevel_nbr_value',\n",
       "       'RunEnt_onLastTsOfEachLevel_ts_value',\n",
       "       'RunSampEnt_onLastTsOfEachLevel_1', 'RunSampEnt_onLastTsOfEachLevel_2',\n",
       "       'RunSampEnt_onLastTsOfEachLevel_3', 'RunSampEnt_onLastTsOfEachLevel_4',\n",
       "       'RunSampEnt_onLastTsOfEachLevel_5', 'list_of_durations',\n",
       "       'Max_duration_zones', 'Max_duration', 'Min_duration', 'Median_duration',\n",
       "       'Average_duration', 'Variance_duration', 'dico_zone_duration',\n",
       "       'Total_number_transition', 'distribution_entropy', 'SampEnt_order2',\n",
       "       'SampEnt_perZone', 'nbr_bouts_zone_5', 'nbr_bouts_zone_4',\n",
       "       'nbr_bouts_zone_2', 'nbr_bouts_zone_3', 'nbr_bouts_zone_1'],\n",
       "      dtype='object')"
      ]
     },
     "execution_count": 36,
     "metadata": {},
     "output_type": "execute_result"
    }
   ],
   "source": [
    "df.columns"
   ]
  },
  {
   "cell_type": "markdown",
   "metadata": {},
   "source": [
    "#### basic columns"
   ]
  },
  {
   "cell_type": "code",
   "execution_count": 37,
   "metadata": {},
   "outputs": [
    {
     "data": {
      "text/plain": [
       "array(['2016-11-17T00:00:00.000000000', '2016-11-18T00:00:00.000000000',\n",
       "       '2016-11-19T00:00:00.000000000', '2016-11-20T00:00:00.000000000',\n",
       "       '2016-11-21T00:00:00.000000000', '2016-11-22T00:00:00.000000000'],\n",
       "      dtype='datetime64[ns]')"
      ]
     },
     "execution_count": 37,
     "metadata": {},
     "output_type": "execute_result"
    }
   ],
   "source": [
    "# all possible level\n",
    "#level is not zones, but its the level of the analysis usually either day or night, but for mobility we only use day (i.e. \n",
    "#ts_name = 'time_serie_day' )\n",
    "df['level'].unique()"
   ]
  },
  {
   "cell_type": "code",
   "execution_count": 38,
   "metadata": {
    "scrolled": true
   },
   "outputs": [
    {
     "data": {
      "text/html": [
       "<div>\n",
       "<style scoped>\n",
       "    .dataframe tbody tr th:only-of-type {\n",
       "        vertical-align: middle;\n",
       "    }\n",
       "\n",
       "    .dataframe tbody tr th {\n",
       "        vertical-align: top;\n",
       "    }\n",
       "\n",
       "    .dataframe thead th {\n",
       "        text-align: right;\n",
       "    }\n",
       "</style>\n",
       "<table border=\"1\" class=\"dataframe\">\n",
       "  <thead>\n",
       "    <tr style=\"text-align: right;\">\n",
       "      <th></th>\n",
       "      <th>HenID</th>\n",
       "      <th>level</th>\n",
       "      <th>nbr_level</th>\n",
       "    </tr>\n",
       "  </thead>\n",
       "  <tbody>\n",
       "    <tr>\n",
       "      <th>0</th>\n",
       "      <td>hen_1</td>\n",
       "      <td>(2016-11-17 00:00:00, 2016-11-18 00:00:00, 201...</td>\n",
       "      <td>6</td>\n",
       "    </tr>\n",
       "    <tr>\n",
       "      <th>1</th>\n",
       "      <td>hen_10</td>\n",
       "      <td>(2016-11-17 00:00:00, 2016-11-18 00:00:00, 201...</td>\n",
       "      <td>6</td>\n",
       "    </tr>\n",
       "    <tr>\n",
       "      <th>2</th>\n",
       "      <td>hen_12</td>\n",
       "      <td>(2016-11-17 00:00:00, 2016-11-18 00:00:00, 201...</td>\n",
       "      <td>6</td>\n",
       "    </tr>\n",
       "    <tr>\n",
       "      <th>3</th>\n",
       "      <td>hen_13</td>\n",
       "      <td>(2016-11-17 00:00:00, 2016-11-18 00:00:00, 201...</td>\n",
       "      <td>6</td>\n",
       "    </tr>\n",
       "    <tr>\n",
       "      <th>4</th>\n",
       "      <td>hen_14</td>\n",
       "      <td>(2016-11-17 00:00:00, 2016-11-18 00:00:00, 201...</td>\n",
       "      <td>6</td>\n",
       "    </tr>\n",
       "  </tbody>\n",
       "</table>\n",
       "</div>"
      ],
      "text/plain": [
       "    HenID                                              level  nbr_level\n",
       "0   hen_1  (2016-11-17 00:00:00, 2016-11-18 00:00:00, 201...          6\n",
       "1  hen_10  (2016-11-17 00:00:00, 2016-11-18 00:00:00, 201...          6\n",
       "2  hen_12  (2016-11-17 00:00:00, 2016-11-18 00:00:00, 201...          6\n",
       "3  hen_13  (2016-11-17 00:00:00, 2016-11-18 00:00:00, 201...          6\n",
       "4  hen_14  (2016-11-17 00:00:00, 2016-11-18 00:00:00, 201...          6"
      ]
     },
     "execution_count": 38,
     "metadata": {},
     "output_type": "execute_result"
    }
   ],
   "source": [
    "#number of level per hen\n",
    "df_ = df.groupby(['HenID'])['level'].agg(lambda x: tuple(x)).reset_index()\n",
    "df_['nbr_level'] = df_['level'].map(lambda x: len(x))\n",
    "df_.head(5)"
   ]
  },
  {
   "cell_type": "code",
   "execution_count": 39,
   "metadata": {},
   "outputs": [
    {
     "data": {
      "text/plain": [
       "array([54000.])"
      ]
     },
     "execution_count": 39,
     "metadata": {},
     "output_type": "execute_result"
    }
   ],
   "source": [
    "#number of hours per level in seconds\n",
    "df['verification_daily_total_duration'].unique()"
   ]
  },
  {
   "cell_type": "markdown",
   "metadata": {},
   "source": [
    "##### duration"
   ]
  },
  {
   "cell_type": "code",
   "execution_count": 11,
   "metadata": {},
   "outputs": [
    {
     "name": "stdout",
     "output_type": "stream",
     "text": [
      "{'zone_5': [1, 2, 3, 150, 151, 175, 490, 932, 1196, 3406, 3653, 3676, 4338, 4359, 5827, 5920, 9252], 'zone_3': [11, 15, 44, 561], 'zone_2': [23], 'zone_4': [25, 26, 38, 42, 51, 104, 142, 155, 167, 260, 271, 294, 348, 551, 567, 647, 761, 1099, 4267]}\n"
     ]
    },
    {
     "data": {
      "text/html": [
       "<div>\n",
       "<style scoped>\n",
       "    .dataframe tbody tr th:only-of-type {\n",
       "        vertical-align: middle;\n",
       "    }\n",
       "\n",
       "    .dataframe tbody tr th {\n",
       "        vertical-align: top;\n",
       "    }\n",
       "\n",
       "    .dataframe thead th {\n",
       "        text-align: right;\n",
       "    }\n",
       "</style>\n",
       "<table border=\"1\" class=\"dataframe\">\n",
       "  <thead>\n",
       "    <tr style=\"text-align: right;\">\n",
       "      <th></th>\n",
       "      <th>duration_zone_1</th>\n",
       "      <th>duration_zone_2</th>\n",
       "      <th>duration_zone_3</th>\n",
       "      <th>duration_zone_4</th>\n",
       "      <th>duration_zone_5</th>\n",
       "    </tr>\n",
       "  </thead>\n",
       "  <tbody>\n",
       "    <tr>\n",
       "      <th>1</th>\n",
       "      <td>0.0</td>\n",
       "      <td>23.0</td>\n",
       "      <td>631.0</td>\n",
       "      <td>9815.0</td>\n",
       "      <td>43531.0</td>\n",
       "    </tr>\n",
       "  </tbody>\n",
       "</table>\n",
       "</div>"
      ],
      "text/plain": [
       "   duration_zone_1  duration_zone_2  duration_zone_3  duration_zone_4  \\\n",
       "1              0.0             23.0            631.0           9815.0   \n",
       "\n",
       "   duration_zone_5  \n",
       "1          43531.0  "
      ]
     },
     "metadata": {},
     "output_type": "display_data"
    },
    {
     "data": {
      "text/html": [
       "<div>\n",
       "<style scoped>\n",
       "    .dataframe tbody tr th:only-of-type {\n",
       "        vertical-align: middle;\n",
       "    }\n",
       "\n",
       "    .dataframe tbody tr th {\n",
       "        vertical-align: top;\n",
       "    }\n",
       "\n",
       "    .dataframe thead th {\n",
       "        text-align: right;\n",
       "    }\n",
       "</style>\n",
       "<table border=\"1\" class=\"dataframe\">\n",
       "  <thead>\n",
       "    <tr style=\"text-align: right;\">\n",
       "      <th></th>\n",
       "      <th>Max_duration_zones</th>\n",
       "      <th>Max_duration</th>\n",
       "      <th>Min_duration</th>\n",
       "      <th>Median_duration</th>\n",
       "      <th>Average_duration</th>\n",
       "      <th>Variance_duration</th>\n",
       "      <th>Max_duration_zone_4</th>\n",
       "    </tr>\n",
       "  </thead>\n",
       "  <tbody>\n",
       "    <tr>\n",
       "      <th>1</th>\n",
       "      <td>zone_5</td>\n",
       "      <td>9252</td>\n",
       "      <td>1</td>\n",
       "      <td>271.0</td>\n",
       "      <td>1317.073171</td>\n",
       "      <td>4.491813e+06</td>\n",
       "      <td>4267</td>\n",
       "    </tr>\n",
       "  </tbody>\n",
       "</table>\n",
       "</div>"
      ],
      "text/plain": [
       "  Max_duration_zones  Max_duration  Min_duration  Median_duration  \\\n",
       "1             zone_5          9252             1            271.0   \n",
       "\n",
       "   Average_duration  Variance_duration  Max_duration_zone_4  \n",
       "1       1317.073171       4.491813e+06                 4267  "
      ]
     },
     "execution_count": 11,
     "metadata": {},
     "output_type": "execute_result"
    }
   ],
   "source": [
    "row = 1\n",
    "print(df.iloc[row]['dico_zone_duration'])\n",
    "display(df[['duration_zone_1', 'duration_zone_2','duration_zone_3', 'duration_zone_4', 'duration_zone_5']][row:row+1])\n",
    "df[['Max_duration_zones','Max_duration', 'Min_duration', 'Median_duration', 'Average_duration',\n",
    "    'Variance_duration','Max_duration_zone_4']][row:row+1]"
   ]
  },
  {
   "cell_type": "markdown",
   "metadata": {},
   "source": [
    "##### ordered list of duration per zone FOR chi2 distance computation"
   ]
  },
  {
   "cell_type": "code",
   "execution_count": 41,
   "metadata": {},
   "outputs": [
    {
     "data": {
      "text/html": [
       "<div>\n",
       "<style scoped>\n",
       "    .dataframe tbody tr th:only-of-type {\n",
       "        vertical-align: middle;\n",
       "    }\n",
       "\n",
       "    .dataframe tbody tr th {\n",
       "        vertical-align: top;\n",
       "    }\n",
       "\n",
       "    .dataframe thead th {\n",
       "        text-align: right;\n",
       "    }\n",
       "</style>\n",
       "<table border=\"1\" class=\"dataframe\">\n",
       "  <thead>\n",
       "    <tr style=\"text-align: right;\">\n",
       "      <th></th>\n",
       "      <th>duration_zone_1</th>\n",
       "      <th>duration_zone_2</th>\n",
       "      <th>duration_zone_3</th>\n",
       "      <th>duration_zone_4</th>\n",
       "      <th>duration_zone_5</th>\n",
       "      <th>dur_values</th>\n",
       "      <th>dur_values_normalized</th>\n",
       "    </tr>\n",
       "  </thead>\n",
       "  <tbody>\n",
       "    <tr>\n",
       "      <th>0</th>\n",
       "      <td>7229.0</td>\n",
       "      <td>27494.0</td>\n",
       "      <td>9959.0</td>\n",
       "      <td>2756.0</td>\n",
       "      <td>6562.0</td>\n",
       "      <td>[7229.0, 27494.0, 9959.0, 2756.0, 6562.0]</td>\n",
       "      <td>[0.13387037037037036, 0.5091481481481481, 0.18...</td>\n",
       "    </tr>\n",
       "  </tbody>\n",
       "</table>\n",
       "</div>"
      ],
      "text/plain": [
       "   duration_zone_1  duration_zone_2  duration_zone_3  duration_zone_4  \\\n",
       "0           7229.0          27494.0           9959.0           2756.0   \n",
       "\n",
       "   duration_zone_5                                 dur_values  \\\n",
       "0           6562.0  [7229.0, 27494.0, 9959.0, 2756.0, 6562.0]   \n",
       "\n",
       "                               dur_values_normalized  \n",
       "0  [0.13387037037037036, 0.5091481481481481, 0.18...  "
      ]
     },
     "metadata": {},
     "output_type": "display_data"
    },
    {
     "data": {
      "text/html": [
       "<div>\n",
       "<style scoped>\n",
       "    .dataframe tbody tr th:only-of-type {\n",
       "        vertical-align: middle;\n",
       "    }\n",
       "\n",
       "    .dataframe tbody tr th {\n",
       "        vertical-align: top;\n",
       "    }\n",
       "\n",
       "    .dataframe thead th {\n",
       "        text-align: right;\n",
       "    }\n",
       "</style>\n",
       "<table border=\"1\" class=\"dataframe\">\n",
       "  <thead>\n",
       "    <tr style=\"text-align: right;\">\n",
       "      <th></th>\n",
       "      <th>duration_zone_1</th>\n",
       "      <th>duration_zone_2</th>\n",
       "      <th>duration_zone_3</th>\n",
       "      <th>duration_zone_4</th>\n",
       "      <th>duration_zone_5</th>\n",
       "      <th>dur_values</th>\n",
       "      <th>dur_values_normalized</th>\n",
       "    </tr>\n",
       "  </thead>\n",
       "  <tbody>\n",
       "    <tr>\n",
       "      <th>1</th>\n",
       "      <td>2433.0</td>\n",
       "      <td>29321.0</td>\n",
       "      <td>11824.0</td>\n",
       "      <td>3820.0</td>\n",
       "      <td>6602.0</td>\n",
       "      <td>[2433.0, 29321.0, 11824.0, 3820.0, 6602.0]</td>\n",
       "      <td>[0.04505555555555556, 0.5429814814814815, 0.21...</td>\n",
       "    </tr>\n",
       "  </tbody>\n",
       "</table>\n",
       "</div>"
      ],
      "text/plain": [
       "   duration_zone_1  duration_zone_2  duration_zone_3  duration_zone_4  \\\n",
       "1           2433.0          29321.0          11824.0           3820.0   \n",
       "\n",
       "   duration_zone_5                                  dur_values  \\\n",
       "1           6602.0  [2433.0, 29321.0, 11824.0, 3820.0, 6602.0]   \n",
       "\n",
       "                               dur_values_normalized  \n",
       "1  [0.04505555555555556, 0.5429814814814815, 0.21...  "
      ]
     },
     "execution_count": 41,
     "metadata": {},
     "output_type": "execute_result"
    }
   ],
   "source": [
    "#ordered list of duration per zone for chi2 distance computation\n",
    "#Note that its not necessarily the intuitive zone order\n",
    "row1 = 0 ; row2 = 1\n",
    "display(df[['duration_zone_1', 'duration_zone_2','duration_zone_3', 'duration_zone_4', 'duration_zone_5','dur_values', \n",
    "            'dur_values_normalized']][row1:row1+1])\n",
    "df[['duration_zone_1', 'duration_zone_2','duration_zone_3', 'duration_zone_4', 'duration_zone_5','dur_values', \n",
    "    'dur_values_normalized']][row2:row2+1]"
   ]
  },
  {
   "cell_type": "code",
   "execution_count": 42,
   "metadata": {},
   "outputs": [
    {
     "data": {
      "text/plain": [
       "(0.9999999999999999, 1.0)"
      ]
     },
     "execution_count": 42,
     "metadata": {},
     "output_type": "execute_result"
    }
   ],
   "source": [
    "sum(eval(df['dur_values_normalized'].iloc[row1])), sum(eval(df['dur_values_normalized'].iloc[row2]))"
   ]
  },
  {
   "cell_type": "markdown",
   "metadata": {},
   "source": [
    "##### nbr transition and bouts"
   ]
  },
  {
   "cell_type": "code",
   "execution_count": 43,
   "metadata": {},
   "outputs": [
    {
     "name": "stdout",
     "output_type": "stream",
     "text": [
      "{'zone_3': [3, 5, 9, 12, 16, 44, 47, 56, 68, 77, 81, 135, 140, 142, 149, 180, 180, 186, 188, 200, 220, 228, 250, 250, 262, 272, 273, 312, 312, 377, 404, 424, 428, 440, 472, 492, 501, 540, 546, 1038], 'zone_4': [7, 8, 9, 13, 14, 15, 16, 18, 22, 24, 24, 27, 37, 38, 44, 53, 56, 67, 74, 82, 97, 108, 148, 148, 152, 166, 404, 885], 'zone_5': [9, 16, 34, 39, 53, 62, 81, 85, 90, 99, 105, 138, 138, 145, 268, 503, 662, 699, 869, 966, 1501], 'zone_2': [16, 16, 20, 21, 23, 32, 41, 48, 56, 56, 66, 88, 91, 93, 132, 139, 147, 176, 194, 198, 204, 237, 253, 293, 361, 372, 374, 383, 463, 499, 554, 556, 651, 764, 774, 781, 807, 835, 906, 948, 952, 952, 1025, 1080, 1114, 1330, 1345, 1663, 1847, 3518], 'zone_1': [80, 121, 226, 237, 296, 379, 438, 469, 746, 909, 1080, 1122, 1126]}\n",
      "152\n"
     ]
    },
    {
     "data": {
      "text/html": [
       "<div>\n",
       "<style scoped>\n",
       "    .dataframe tbody tr th:only-of-type {\n",
       "        vertical-align: middle;\n",
       "    }\n",
       "\n",
       "    .dataframe tbody tr th {\n",
       "        vertical-align: top;\n",
       "    }\n",
       "\n",
       "    .dataframe thead th {\n",
       "        text-align: right;\n",
       "    }\n",
       "</style>\n",
       "<table border=\"1\" class=\"dataframe\">\n",
       "  <thead>\n",
       "    <tr style=\"text-align: right;\">\n",
       "      <th></th>\n",
       "      <th>Total_number_transition</th>\n",
       "      <th>nbr_bouts_zone_5</th>\n",
       "      <th>nbr_bouts_zone_4</th>\n",
       "      <th>nbr_bouts_zone_3</th>\n",
       "      <th>nbr_bouts_zone_2</th>\n",
       "      <th>nbr_bouts_zone_1</th>\n",
       "      <th>Total_number_zone</th>\n",
       "    </tr>\n",
       "  </thead>\n",
       "  <tbody>\n",
       "    <tr>\n",
       "      <th>0</th>\n",
       "      <td>151</td>\n",
       "      <td>21</td>\n",
       "      <td>28</td>\n",
       "      <td>40</td>\n",
       "      <td>50</td>\n",
       "      <td>13</td>\n",
       "      <td>5</td>\n",
       "    </tr>\n",
       "  </tbody>\n",
       "</table>\n",
       "</div>"
      ],
      "text/plain": [
       "   Total_number_transition  nbr_bouts_zone_5  nbr_bouts_zone_4  \\\n",
       "0                      151                21                28   \n",
       "\n",
       "   nbr_bouts_zone_3  nbr_bouts_zone_2  nbr_bouts_zone_1  Total_number_zone  \n",
       "0                40                50                13                  5  "
      ]
     },
     "execution_count": 43,
     "metadata": {},
     "output_type": "execute_result"
    }
   ],
   "source": [
    "row=0\n",
    "print(df.iloc[row]['dico_zone_duration'])\n",
    "print(len([i for x in eval(df.iloc[row]['dico_zone_duration']).values() for i in x]))\n",
    "df[['Total_number_transition','nbr_bouts_zone_5', 'nbr_bouts_zone_4', 'nbr_bouts_zone_3',\n",
    "'nbr_bouts_zone_2', 'nbr_bouts_zone_1','Total_number_zone']].iloc[row: row+1]"
   ]
  },
  {
   "cell_type": "markdown",
   "metadata": {},
   "source": [
    "##### complexity variables"
   ]
  },
  {
   "cell_type": "code",
   "execution_count": 44,
   "metadata": {},
   "outputs": [
    {
     "data": {
      "text/html": [
       "<div>\n",
       "<style scoped>\n",
       "    .dataframe tbody tr th:only-of-type {\n",
       "        vertical-align: middle;\n",
       "    }\n",
       "\n",
       "    .dataframe tbody tr th {\n",
       "        vertical-align: top;\n",
       "    }\n",
       "\n",
       "    .dataframe thead th {\n",
       "        text-align: right;\n",
       "    }\n",
       "</style>\n",
       "<table border=\"1\" class=\"dataframe\">\n",
       "  <thead>\n",
       "    <tr style=\"text-align: right;\">\n",
       "      <th></th>\n",
       "      <th>dur_values</th>\n",
       "      <th>dur_values_normalized</th>\n",
       "      <th>distribution_entropy</th>\n",
       "      <th>SampEnt_order2</th>\n",
       "      <th>SampEnt_perZone</th>\n",
       "    </tr>\n",
       "  </thead>\n",
       "  <tbody>\n",
       "    <tr>\n",
       "      <th>0</th>\n",
       "      <td>[7229.0, 27494.0, 9959.0, 2756.0, 6562.0]</td>\n",
       "      <td>[0.13387037037037036, 0.5091481481481481, 0.18...</td>\n",
       "      <td>1.332623</td>\n",
       "      <td>0.004340</td>\n",
       "      <td>{'zone_1': 0.0006268755926943874, 'zone_2': 0....</td>\n",
       "    </tr>\n",
       "    <tr>\n",
       "      <th>1</th>\n",
       "      <td>[2433.0, 29321.0, 11824.0, 3820.0, 6602.0]</td>\n",
       "      <td>[0.04505555555555556, 0.5429814814814815, 0.21...</td>\n",
       "      <td>1.248141</td>\n",
       "      <td>0.003862</td>\n",
       "      <td>{'zone_1': 0.00032417862162414707, 'zone_2': 0...</td>\n",
       "    </tr>\n",
       "    <tr>\n",
       "      <th>2</th>\n",
       "      <td>[2281.0, 30201.0, 10644.0, 3014.0, 7860.0]</td>\n",
       "      <td>[0.04224074074074074, 0.5592777777777778, 0.19...</td>\n",
       "      <td>1.220353</td>\n",
       "      <td>0.003539</td>\n",
       "      <td>{'zone_1': 0.00040294560333948854, 'zone_2': 0...</td>\n",
       "    </tr>\n",
       "  </tbody>\n",
       "</table>\n",
       "</div>"
      ],
      "text/plain": [
       "                                   dur_values  \\\n",
       "0   [7229.0, 27494.0, 9959.0, 2756.0, 6562.0]   \n",
       "1  [2433.0, 29321.0, 11824.0, 3820.0, 6602.0]   \n",
       "2  [2281.0, 30201.0, 10644.0, 3014.0, 7860.0]   \n",
       "\n",
       "                               dur_values_normalized  distribution_entropy  \\\n",
       "0  [0.13387037037037036, 0.5091481481481481, 0.18...              1.332623   \n",
       "1  [0.04505555555555556, 0.5429814814814815, 0.21...              1.248141   \n",
       "2  [0.04224074074074074, 0.5592777777777778, 0.19...              1.220353   \n",
       "\n",
       "   SampEnt_order2                                    SampEnt_perZone  \n",
       "0        0.004340  {'zone_1': 0.0006268755926943874, 'zone_2': 0....  \n",
       "1        0.003862  {'zone_1': 0.00032417862162414707, 'zone_2': 0...  \n",
       "2        0.003539  {'zone_1': 0.00040294560333948854, 'zone_2': 0...  "
      ]
     },
     "execution_count": 44,
     "metadata": {},
     "output_type": "execute_result"
    }
   ],
   "source": [
    "df[['dur_values','dur_values_normalized','distribution_entropy', 'SampEnt_order2', 'SampEnt_perZone']].head(3)"
   ]
  },
  {
   "cell_type": "code",
   "execution_count": 45,
   "metadata": {},
   "outputs": [
    {
     "name": "stdout",
     "output_type": "stream",
     "text": [
      "1.332623136755784\n",
      "1.3326231367557841 1.3326231367557841\n"
     ]
    }
   ],
   "source": [
    "#lets verify distribution entropy, by computing it on the duration values per zone, instead of the ts_zone list\n",
    "row = 0\n",
    "print(df.iloc[row]['distribution_entropy'])\n",
    "dn = eval(df.iloc[row]['dur_values_normalized'])\n",
    "d = eval(df.iloc[row]['dur_values'])\n",
    "from scipy.stats import entropy\n",
    "print(entropy(dn), entropy(d))"
   ]
  },
  {
   "cell_type": "code",
   "execution_count": 46,
   "metadata": {},
   "outputs": [
    {
     "data": {
      "text/plain": [
       "\"{'zone_1': 0.0006268755926943874, 'zone_2': 0.0037095757801931272, 'zone_3': 0.0021195087900572384, 'zone_4': 0.0011479262453591443, 'zone_5': 0.000941755289063495}\""
      ]
     },
     "execution_count": 46,
     "metadata": {},
     "output_type": "execute_result"
    }
   ],
   "source": [
    "#we dont have the initial data to verify variables 'SampEnt_order2', 'SampEnt_perZone', but lets see simply the value for now\n",
    "row = 0\n",
    "df.iloc[row]['SampEnt_perZone']"
   ]
  },
  {
   "cell_type": "markdown",
   "metadata": {},
   "source": [
    "#### running complexity variables"
   ]
  },
  {
   "cell_type": "code",
   "execution_count": 47,
   "metadata": {},
   "outputs": [
    {
     "data": {
      "text/html": [
       "<div>\n",
       "<style scoped>\n",
       "    .dataframe tbody tr th:only-of-type {\n",
       "        vertical-align: middle;\n",
       "    }\n",
       "\n",
       "    .dataframe tbody tr th {\n",
       "        vertical-align: top;\n",
       "    }\n",
       "\n",
       "    .dataframe thead th {\n",
       "        text-align: right;\n",
       "    }\n",
       "</style>\n",
       "<table border=\"1\" class=\"dataframe\">\n",
       "  <thead>\n",
       "    <tr style=\"text-align: right;\">\n",
       "      <th></th>\n",
       "      <th>level</th>\n",
       "      <th>RunEnt_onLastTsOfEachLevel_nbr_value</th>\n",
       "      <th>RunEnt_onLastTsOfEachLevel_ts_value</th>\n",
       "      <th>RunSampEnt_onLastTsOfEachLevel</th>\n",
       "      <th>RunDistEnt_onLastTsOfEachLevel</th>\n",
       "      <th>RunSampEnt_onLastTsOfEachLevel_1</th>\n",
       "      <th>RunSampEnt_onLastTsOfEachLevel_2</th>\n",
       "      <th>RunSampEnt_onLastTsOfEachLevel_3</th>\n",
       "      <th>RunSampEnt_onLastTsOfEachLevel_4</th>\n",
       "      <th>RunSampEnt_onLastTsOfEachLevel_5</th>\n",
       "    </tr>\n",
       "  </thead>\n",
       "  <tbody>\n",
       "    <tr>\n",
       "      <th>0</th>\n",
       "      <td>2016-11-17</td>\n",
       "      <td>900</td>\n",
       "      <td>2016-11-17 16:59:59</td>\n",
       "      <td>0.206040</td>\n",
       "      <td>1.331652</td>\n",
       "      <td>0.037273</td>\n",
       "      <td>0.195022</td>\n",
       "      <td>0.101396</td>\n",
       "      <td>0.027244</td>\n",
       "      <td>0.036312</td>\n",
       "    </tr>\n",
       "    <tr>\n",
       "      <th>1</th>\n",
       "      <td>2016-11-18</td>\n",
       "      <td>1800</td>\n",
       "      <td>2016-11-18 16:59:59</td>\n",
       "      <td>0.206501</td>\n",
       "      <td>1.305574</td>\n",
       "      <td>0.027557</td>\n",
       "      <td>0.192460</td>\n",
       "      <td>0.111823</td>\n",
       "      <td>0.030198</td>\n",
       "      <td>0.036391</td>\n",
       "    </tr>\n",
       "    <tr>\n",
       "      <th>2</th>\n",
       "      <td>2016-11-19</td>\n",
       "      <td>2700</td>\n",
       "      <td>2016-11-19 16:59:59</td>\n",
       "      <td>0.196560</td>\n",
       "      <td>1.281446</td>\n",
       "      <td>0.026318</td>\n",
       "      <td>0.187272</td>\n",
       "      <td>0.108082</td>\n",
       "      <td>0.027408</td>\n",
       "      <td>0.034064</td>\n",
       "    </tr>\n",
       "    <tr>\n",
       "      <th>3</th>\n",
       "      <td>2016-11-20</td>\n",
       "      <td>3600</td>\n",
       "      <td>2016-11-20 16:59:59</td>\n",
       "      <td>0.199960</td>\n",
       "      <td>1.270405</td>\n",
       "      <td>0.027016</td>\n",
       "      <td>0.189185</td>\n",
       "      <td>0.111150</td>\n",
       "      <td>0.028733</td>\n",
       "      <td>0.031398</td>\n",
       "    </tr>\n",
       "    <tr>\n",
       "      <th>4</th>\n",
       "      <td>2016-11-21</td>\n",
       "      <td>4500</td>\n",
       "      <td>2016-11-21 16:59:59</td>\n",
       "      <td>0.192006</td>\n",
       "      <td>1.263202</td>\n",
       "      <td>0.025992</td>\n",
       "      <td>0.182547</td>\n",
       "      <td>0.107046</td>\n",
       "      <td>0.028050</td>\n",
       "      <td>0.031173</td>\n",
       "    </tr>\n",
       "  </tbody>\n",
       "</table>\n",
       "</div>"
      ],
      "text/plain": [
       "       level  RunEnt_onLastTsOfEachLevel_nbr_value  \\\n",
       "0 2016-11-17                                   900   \n",
       "1 2016-11-18                                  1800   \n",
       "2 2016-11-19                                  2700   \n",
       "3 2016-11-20                                  3600   \n",
       "4 2016-11-21                                  4500   \n",
       "\n",
       "  RunEnt_onLastTsOfEachLevel_ts_value  RunSampEnt_onLastTsOfEachLevel  \\\n",
       "0                 2016-11-17 16:59:59                        0.206040   \n",
       "1                 2016-11-18 16:59:59                        0.206501   \n",
       "2                 2016-11-19 16:59:59                        0.196560   \n",
       "3                 2016-11-20 16:59:59                        0.199960   \n",
       "4                 2016-11-21 16:59:59                        0.192006   \n",
       "\n",
       "   RunDistEnt_onLastTsOfEachLevel  RunSampEnt_onLastTsOfEachLevel_1  \\\n",
       "0                        1.331652                          0.037273   \n",
       "1                        1.305574                          0.027557   \n",
       "2                        1.281446                          0.026318   \n",
       "3                        1.270405                          0.027016   \n",
       "4                        1.263202                          0.025992   \n",
       "\n",
       "   RunSampEnt_onLastTsOfEachLevel_2  RunSampEnt_onLastTsOfEachLevel_3  \\\n",
       "0                          0.195022                          0.101396   \n",
       "1                          0.192460                          0.111823   \n",
       "2                          0.187272                          0.108082   \n",
       "3                          0.189185                          0.111150   \n",
       "4                          0.182547                          0.107046   \n",
       "\n",
       "   RunSampEnt_onLastTsOfEachLevel_4  RunSampEnt_onLastTsOfEachLevel_5  \n",
       "0                          0.027244                          0.036312  \n",
       "1                          0.030198                          0.036391  \n",
       "2                          0.027408                          0.034064  \n",
       "3                          0.028733                          0.031398  \n",
       "4                          0.028050                          0.031173  "
      ]
     },
     "execution_count": 47,
     "metadata": {},
     "output_type": "execute_result"
    }
   ],
   "source": [
    "#for now lets simply look at their values\n",
    "df[['level','RunEnt_onLastTsOfEachLevel_nbr_value','RunEnt_onLastTsOfEachLevel_ts_value',\n",
    "    'RunSampEnt_onLastTsOfEachLevel', 'RunDistEnt_onLastTsOfEachLevel','RunSampEnt_onLastTsOfEachLevel_1', \n",
    "    'RunSampEnt_onLastTsOfEachLevel_2','RunSampEnt_onLastTsOfEachLevel_3', 'RunSampEnt_onLastTsOfEachLevel_4',\n",
    "    'RunSampEnt_onLastTsOfEachLevel_5']].head(5)"
   ]
  },
  {
   "cell_type": "code",
   "execution_count": null,
   "metadata": {},
   "outputs": [],
   "source": []
  },
  {
   "cell_type": "markdown",
   "metadata": {},
   "source": [
    "## match some hen movement from the initial file \"movements_timeseries\" to variables values"
   ]
  },
  {
   "cell_type": "raw",
   "metadata": {},
   "source": [
    "Lets show here the values and then lets do the verification manually"
   ]
  },
  {
   "cell_type": "code",
   "execution_count": 48,
   "metadata": {},
   "outputs": [
    {
     "data": {
      "text/html": [
       "<div>\n",
       "<style scoped>\n",
       "    .dataframe tbody tr th:only-of-type {\n",
       "        vertical-align: middle;\n",
       "    }\n",
       "\n",
       "    .dataframe tbody tr th {\n",
       "        vertical-align: top;\n",
       "    }\n",
       "\n",
       "    .dataframe thead th {\n",
       "        text-align: right;\n",
       "    }\n",
       "</style>\n",
       "<table border=\"1\" class=\"dataframe\">\n",
       "  <thead>\n",
       "    <tr style=\"text-align: right;\">\n",
       "      <th></th>\n",
       "      <th>level</th>\n",
       "      <th>list_of_durations</th>\n",
       "      <th>dico_zone_duration</th>\n",
       "      <th>FirstTimestamp_zone_1</th>\n",
       "      <th>FirstTimestamp_zone_2</th>\n",
       "      <th>FirstTimestamp_zone_3</th>\n",
       "      <th>FirstTimestamp_zone_4</th>\n",
       "      <th>FirstTimestamp_zone_5</th>\n",
       "    </tr>\n",
       "  </thead>\n",
       "  <tbody>\n",
       "    <tr>\n",
       "      <th>0</th>\n",
       "      <td>2016-11-17</td>\n",
       "      <td>[138, 14, 1345, 428, 361, 250, 952, 16, 13, 26...</td>\n",
       "      <td>{'zone_3': [3, 5, 9, 12, 16, 44, 47, 56, 68, 7...</td>\n",
       "      <td>2016-11-17 09:59:14</td>\n",
       "      <td>2016-11-17 02:02:32</td>\n",
       "      <td>2016-11-17 02:24:57</td>\n",
       "      <td>2016-11-17 02:02:18</td>\n",
       "      <td>2016-11-17 02:00:00</td>\n",
       "    </tr>\n",
       "    <tr>\n",
       "      <th>1</th>\n",
       "      <td>2016-11-18</td>\n",
       "      <td>[85, 11, 1548, 451, 1170, 33, 39, 426, 186, 13...</td>\n",
       "      <td>{'zone_4': [1, 1, 2, 3, 7, 8, 11, 12, 13, 14, ...</td>\n",
       "      <td>2016-11-18 09:58:48</td>\n",
       "      <td>2016-11-18 02:01:36</td>\n",
       "      <td>2016-11-18 02:27:24</td>\n",
       "      <td>2016-11-18 02:01:25</td>\n",
       "      <td>2016-11-18 02:00:00</td>\n",
       "    </tr>\n",
       "    <tr>\n",
       "      <th>2</th>\n",
       "      <td>2016-11-19</td>\n",
       "      <td>[145, 21, 1277, 619, 1064, 16, 49, 833, 35, 41...</td>\n",
       "      <td>{'zone_4': [1, 1, 7, 9, 9, 21, 25, 33, 35, 37,...</td>\n",
       "      <td>2016-11-19 10:56:16</td>\n",
       "      <td>2016-11-19 02:02:46</td>\n",
       "      <td>2016-11-19 02:24:03</td>\n",
       "      <td>2016-11-19 02:02:25</td>\n",
       "      <td>2016-11-19 02:00:00</td>\n",
       "    </tr>\n",
       "    <tr>\n",
       "      <th>3</th>\n",
       "      <td>2016-11-20</td>\n",
       "      <td>[67, 197, 454, 495, 92, 1349, 169, 156, 1527, ...</td>\n",
       "      <td>{'zone_3': [1, 2, 3, 4, 11, 19, 39, 48, 59, 70...</td>\n",
       "      <td>2016-11-20 09:58:56</td>\n",
       "      <td>2016-11-20 02:01:07</td>\n",
       "      <td>2016-11-20 02:04:24</td>\n",
       "      <td>2016-11-20 02:47:03</td>\n",
       "      <td>2016-11-20 02:00:00</td>\n",
       "    </tr>\n",
       "    <tr>\n",
       "      <th>4</th>\n",
       "      <td>2016-11-21</td>\n",
       "      <td>[54, 11, 39, 355, 1183, 242, 144, 2854, 173, 6...</td>\n",
       "      <td>{'zone_5': [1, 1, 3, 11, 37, 45, 62, 63, 76, 1...</td>\n",
       "      <td>2016-11-21 10:04:30</td>\n",
       "      <td>2016-11-21 02:01:05</td>\n",
       "      <td>2016-11-21 02:01:44</td>\n",
       "      <td>2016-11-21 02:00:00</td>\n",
       "      <td>2016-11-21 02:00:54</td>\n",
       "    </tr>\n",
       "    <tr>\n",
       "      <th>5</th>\n",
       "      <td>2016-11-22</td>\n",
       "      <td>[1029, 67, 1318, 317, 654, 402, 22, 217, 140, ...</td>\n",
       "      <td>{'zone_4': [2, 4, 9, 15, 17, 22, 27, 40, 45, 6...</td>\n",
       "      <td>2016-11-22 09:58:57</td>\n",
       "      <td>2016-11-22 02:18:16</td>\n",
       "      <td>2016-11-22 02:40:14</td>\n",
       "      <td>2016-11-22 02:17:09</td>\n",
       "      <td>2016-11-22 02:00:00</td>\n",
       "    </tr>\n",
       "  </tbody>\n",
       "</table>\n",
       "</div>"
      ],
      "text/plain": [
       "       level                                  list_of_durations  \\\n",
       "0 2016-11-17  [138, 14, 1345, 428, 361, 250, 952, 16, 13, 26...   \n",
       "1 2016-11-18  [85, 11, 1548, 451, 1170, 33, 39, 426, 186, 13...   \n",
       "2 2016-11-19  [145, 21, 1277, 619, 1064, 16, 49, 833, 35, 41...   \n",
       "3 2016-11-20  [67, 197, 454, 495, 92, 1349, 169, 156, 1527, ...   \n",
       "4 2016-11-21  [54, 11, 39, 355, 1183, 242, 144, 2854, 173, 6...   \n",
       "5 2016-11-22  [1029, 67, 1318, 317, 654, 402, 22, 217, 140, ...   \n",
       "\n",
       "                                  dico_zone_duration FirstTimestamp_zone_1  \\\n",
       "0  {'zone_3': [3, 5, 9, 12, 16, 44, 47, 56, 68, 7...   2016-11-17 09:59:14   \n",
       "1  {'zone_4': [1, 1, 2, 3, 7, 8, 11, 12, 13, 14, ...   2016-11-18 09:58:48   \n",
       "2  {'zone_4': [1, 1, 7, 9, 9, 21, 25, 33, 35, 37,...   2016-11-19 10:56:16   \n",
       "3  {'zone_3': [1, 2, 3, 4, 11, 19, 39, 48, 59, 70...   2016-11-20 09:58:56   \n",
       "4  {'zone_5': [1, 1, 3, 11, 37, 45, 62, 63, 76, 1...   2016-11-21 10:04:30   \n",
       "5  {'zone_4': [2, 4, 9, 15, 17, 22, 27, 40, 45, 6...   2016-11-22 09:58:57   \n",
       "\n",
       "  FirstTimestamp_zone_2 FirstTimestamp_zone_3 FirstTimestamp_zone_4  \\\n",
       "0   2016-11-17 02:02:32   2016-11-17 02:24:57   2016-11-17 02:02:18   \n",
       "1   2016-11-18 02:01:36   2016-11-18 02:27:24   2016-11-18 02:01:25   \n",
       "2   2016-11-19 02:02:46   2016-11-19 02:24:03   2016-11-19 02:02:25   \n",
       "3   2016-11-20 02:01:07   2016-11-20 02:04:24   2016-11-20 02:47:03   \n",
       "4   2016-11-21 02:01:05   2016-11-21 02:01:44   2016-11-21 02:00:00   \n",
       "5   2016-11-22 02:18:16   2016-11-22 02:40:14   2016-11-22 02:17:09   \n",
       "\n",
       "  FirstTimestamp_zone_5  \n",
       "0   2016-11-17 02:00:00  \n",
       "1   2016-11-18 02:00:00  \n",
       "2   2016-11-19 02:00:00  \n",
       "3   2016-11-20 02:00:00  \n",
       "4   2016-11-21 02:00:54  \n",
       "5   2016-11-22 02:00:00  "
      ]
     },
     "execution_count": 48,
     "metadata": {},
     "output_type": "execute_result"
    }
   ],
   "source": [
    "#note that the \"list_of_durations\" is ordered by when it occured in the time, while the dico_zone_duration is ordered by \n",
    "#ascending value\n",
    "HenID = 'hen_1'\n",
    "df[df['HenID']==HenID][['level','list_of_durations','dico_zone_duration','FirstTimestamp_zone_1',\n",
    "       'FirstTimestamp_zone_2', 'FirstTimestamp_zone_3','FirstTimestamp_zone_4', 'FirstTimestamp_zone_5']]"
   ]
  },
  {
   "cell_type": "markdown",
   "metadata": {},
   "source": [
    "# Event Variable Verification"
   ]
  },
  {
   "cell_type": "code",
   "execution_count": null,
   "metadata": {},
   "outputs": [],
   "source": [
    "#TODO"
   ]
  },
  {
   "cell_type": "code",
   "execution_count": null,
   "metadata": {},
   "outputs": [],
   "source": []
  },
  {
   "cell_type": "code",
   "execution_count": null,
   "metadata": {},
   "outputs": [],
   "source": []
  },
  {
   "cell_type": "code",
   "execution_count": null,
   "metadata": {},
   "outputs": [],
   "source": []
  },
  {
   "cell_type": "code",
   "execution_count": null,
   "metadata": {},
   "outputs": [],
   "source": []
  },
  {
   "cell_type": "code",
   "execution_count": null,
   "metadata": {},
   "outputs": [],
   "source": []
  },
  {
   "cell_type": "code",
   "execution_count": null,
   "metadata": {},
   "outputs": [],
   "source": []
  },
  {
   "cell_type": "code",
   "execution_count": null,
   "metadata": {},
   "outputs": [],
   "source": []
  },
  {
   "cell_type": "code",
   "execution_count": null,
   "metadata": {},
   "outputs": [],
   "source": []
  },
  {
   "cell_type": "code",
   "execution_count": null,
   "metadata": {},
   "outputs": [],
   "source": []
  }
 ],
 "metadata": {
  "kernelspec": {
   "display_name": "Python 3",
   "language": "python",
   "name": "python3"
  },
  "language_info": {
   "codemirror_mode": {
    "name": "ipython",
    "version": 3
   },
   "file_extension": ".py",
   "mimetype": "text/x-python",
   "name": "python",
   "nbconvert_exporter": "python",
   "pygments_lexer": "ipython3",
   "version": "3.6.4"
  }
 },
 "nbformat": 4,
 "nbformat_minor": 2
}
