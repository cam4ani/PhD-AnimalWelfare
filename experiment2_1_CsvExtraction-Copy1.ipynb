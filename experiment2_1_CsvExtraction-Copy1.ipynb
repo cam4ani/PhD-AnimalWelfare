{
 "cells": [
  {
   "cell_type": "code",
   "execution_count": 1,
   "metadata": {},
   "outputs": [],
   "source": [
    "#basic package\n",
    "import json\n",
    "import tqdm\n",
    "import os\n",
    "import numpy as np\n",
    "import glob\n",
    "import pandas as pd\n",
    "import sys\n",
    "import shutil\n",
    "import time\n",
    "import datetime as dt\n",
    "import itertools\n",
    "import time\n",
    "import re\n",
    "from collections import Counter\n",
    "from collections import defaultdict\n",
    "import operator\n",
    "import math\n",
    "import functools\n",
    "import collections\n",
    "\n",
    "#plot\n",
    "import matplotlib.pyplot as plt\n",
    "import seaborn as sns"
   ]
  },
  {
   "cell_type": "code",
   "execution_count": 2,
   "metadata": {},
   "outputs": [
    {
     "name": "stderr",
     "output_type": "stream",
     "text": [
      "C:\\Users\\camil\\Anaconda3\\lib\\site-packages\\scipy\\sparse\\sparsetools.py:21: DeprecationWarning: `scipy.sparse.sparsetools` is deprecated!\n",
      "scipy.sparse.sparsetools is a private module for scipy.sparse, and should not be used.\n",
      "  _deprecated()\n"
     ]
    }
   ],
   "source": [
    "from UTILS_LK import preprocessing_experiment2, general_cleaning, bining,verification_based_on_initial_record,\\\n",
    "HenVariable, print_color, boxplot_distribution_entropy, heatmap_duration_perzone_perhen, \\\n",
    "time_series_henColumn_tsRow, cleaning_mouvement_records\n",
    "import config_experiment2 as config"
   ]
  },
  {
   "cell_type": "raw",
   "metadata": {},
   "source": [
    "lThis notebook has 4 steps\n",
    "1. Preprocessing\n",
    "based on initial files and is specific to each experiment, and should create dataframe of same format to be used in the functions. Has the purpose to put the csv into a general format for each experiment with movement-location data\n",
    "2. Verification\n",
    "based on the initial-preprocessed csv, verify things on record level (e.g. first record saved per day etc). This could induce some new rules, or highlight issue in the system/data. It wont produce some csv file on which we will compute variable or create time series, but it will just output info on the initial data\n",
    "3. Cleaning\n",
    "Based on the initial-preprocessed csv, it should clean the data. It is splitted into the general_cleaning, that will be used for each experiment (adding microseconds to account for equal timestamp for same hen and different zone), and into the specific_cleaning (bining or rules.... to be defined, for now it just ouput some csv with infromation to base the rules one (flickering1, flickering2, enveloppe,binning))\n",
    "4. Time series\n",
    "based on the cleaning csv, create time series (one row per timestamp, one column per hen (i.e. per time series), it will also create one csv per hen. From these files then we can extract variables and do analysis youhouuuu"
   ]
  },
  {
   "cell_type": "markdown",
   "metadata": {},
   "source": [
    "# Define parameters"
   ]
  },
  {
   "cell_type": "code",
   "execution_count": 3,
   "metadata": {},
   "outputs": [
    {
     "name": "stdout",
     "output_type": "stream",
     "text": [
      "change the configuration file if not done yet!\n",
      "VFVFVF_\n"
     ]
    }
   ],
   "source": [
    "print('change the configuration file if not done yet!')\n",
    "path_extracted_data = config.path_extracted_data\n",
    "id_run = config.id_run\n",
    "dico_matching = config.dico_matching\n",
    "print(id_run)\n",
    "#print('The date that will be removed are: \\n %s'%' \\n '.join([str(d) for d in sorted(config.li_date2remove)]))"
   ]
  },
  {
   "cell_type": "raw",
   "metadata": {},
   "source": [
    "#date to remove:\n",
    "28.11.2019, 29.11.2019, \n",
    "2.12.2019, 4.12.2019, 6.12.2019, 09.12.2019, 11.12.2019, 21.12.2019, 22.12.2019, 23.12.2019,\n",
    "06.01.2020, 12.01.2020, \n",
    "10.02.2020,  13.02.2020,\n",
    "16.03.2020, 17.03.2020\n",
    "4.5.2020, \n",
    "2.6.2020, 29.06.2020, 30.06.2020\n",
    "list of dates:\n",
    "evtl. 26.12. – 07.01 (chicken locator stopped working), \n",
    "21.-02.02. (other software of chickenlocator);"
   ]
  },
  {
   "cell_type": "raw",
   "metadata": {},
   "source": [
    "bning with miliseconds?\n",
    "verficatio/debug code?\n",
    "bining with missing days?\n",
    "variables with missing days?\n",
    "variable with bining data (i.e. not 60 seconds interval anymore)?"
   ]
  },
  {
   "cell_type": "markdown",
   "metadata": {},
   "source": [
    "# Preprocessing"
   ]
  },
  {
   "cell_type": "raw",
   "metadata": {},
   "source": [
    "Preprocessing step which is specific to each experiment, and should create dataframe of same format to be used in the functions"
   ]
  },
  {
   "cell_type": "markdown",
   "metadata": {
    "scrolled": true
   },
   "source": [
    "path_initial_data = r'R:\\VPHI\\Welfare\\2- Research Projects\\Laura C-Klara G\\tracking_Data'\n",
    "#Note that as there is no standardize name (i.e. start with log_), we will simply open all csv files. If there is other csv file\n",
    "#it wont work\n",
    "p = glob.glob(os.path.join(path_initial_data,'TagUpdates*_*','*.csv'))\n",
    "#print('There is %d log files:\\n  %s'%(len(p),'  \\n  '.join(p)))\n",
    "path_FocalBird = os.path.join(path_initial_data,'full_tagID_long.xlsx')\n",
    "df = preprocessing_experiment2(p, path_FocalBird, config)\n",
    "print(df.shape)\n",
    "display(df.head(3))\n",
    "display(df.tail(3))"
   ]
  },
  {
   "cell_type": "markdown",
   "metadata": {},
   "source": [
    "# Cleaning"
   ]
  },
  {
   "cell_type": "raw",
   "metadata": {},
   "source": [
    "Now that we will start computing measure and stop looking at single records, lets first clean the dataframe"
   ]
  },
  {
   "cell_type": "markdown",
   "metadata": {},
   "source": [
    "### general cleaning (adding ms)"
   ]
  },
  {
   "cell_type": "markdown",
   "metadata": {},
   "source": [
    "#for being more reproductible, we open the file that was saved from cleaning\n",
    "df = pd.read_csv(os.path.join(path_extracted_data, id_run+'_PreprocessRecords.csv'), sep=';', parse_dates=['Timestamp'],\n",
    "                 index_col=0) \n",
    "print(df.shape)\n",
    "df.head(3)"
   ]
  },
  {
   "cell_type": "markdown",
   "metadata": {
    "scrolled": true
   },
   "source": [
    "#same for each experiment\n",
    "df = general_cleaning(df, config)\n",
    "print(df.shape)\n",
    "df.tail(3)"
   ]
  },
  {
   "cell_type": "markdown",
   "metadata": {},
   "source": [
    "### cleaning rules info"
   ]
  },
  {
   "cell_type": "markdown",
   "metadata": {},
   "source": [
    "Only if needed. Exemple check if system is working better after recalibration"
   ]
  },
  {
   "cell_type": "markdown",
   "metadata": {},
   "source": [
    "#for being more reproductible, we open the file that was saved from cleaning\n",
    "df = pd.read_csv(os.path.join(path_extracted_data, id_run+'_records_GeneralCleaning.csv'), sep=';', \n",
    "                 parse_dates=['Timestamp', 'Timestamp_initial', 'day']) \n",
    "print(df.shape)\n",
    "df.head(3)"
   ]
  },
  {
   "cell_type": "markdown",
   "metadata": {},
   "source": [
    "df = cleaning_mouvement_records(df, config, nbr_block_repetition=3, flickering_type1=True)\n",
    "print(df.shape)\n",
    "df"
   ]
  },
  {
   "cell_type": "markdown",
   "metadata": {},
   "source": [
    "### Binning"
   ]
  },
  {
   "cell_type": "code",
   "execution_count": 4,
   "metadata": {},
   "outputs": [
    {
     "name": "stdout",
     "output_type": "stream",
     "text": [
      "(12453168, 10)\n"
     ]
    },
    {
     "data": {
      "text/html": [
       "<div>\n",
       "<style scoped>\n",
       "    .dataframe tbody tr th:only-of-type {\n",
       "        vertical-align: middle;\n",
       "    }\n",
       "\n",
       "    .dataframe tbody tr th {\n",
       "        vertical-align: top;\n",
       "    }\n",
       "\n",
       "    .dataframe thead th {\n",
       "        text-align: right;\n",
       "    }\n",
       "</style>\n",
       "<table border=\"1\" class=\"dataframe\">\n",
       "  <thead>\n",
       "    <tr style=\"text-align: right;\">\n",
       "      <th></th>\n",
       "      <th>Timestamp</th>\n",
       "      <th>HenID</th>\n",
       "      <th>Zone</th>\n",
       "      <th>PenID</th>\n",
       "      <th>log_file_name</th>\n",
       "      <th>date</th>\n",
       "      <th>ts_order_logname</th>\n",
       "      <th>ts_order_list</th>\n",
       "      <th>ms</th>\n",
       "      <th>Timestamp_initial</th>\n",
       "    </tr>\n",
       "  </thead>\n",
       "  <tbody>\n",
       "    <tr>\n",
       "      <th>12453165</th>\n",
       "      <td>2020-07-18 23:59:56</td>\n",
       "      <td>hen_51</td>\n",
       "      <td>2 Zone</td>\n",
       "      <td>3</td>\n",
       "      <td>2020-07-15_224155_2020-07-19_055005csv</td>\n",
       "      <td>2020-07-18</td>\n",
       "      <td>2020-07-15_224155_2020-07-19_055005csv_98992</td>\n",
       "      <td>2020-07-15_224155_2020-07-19_055005csv_98992</td>\n",
       "      <td>0.0</td>\n",
       "      <td>2020-07-18 23:59:56</td>\n",
       "    </tr>\n",
       "    <tr>\n",
       "      <th>12453166</th>\n",
       "      <td>2020-07-18 23:59:59</td>\n",
       "      <td>hen_8</td>\n",
       "      <td>5 Zone</td>\n",
       "      <td>12</td>\n",
       "      <td>2020-07-15_054035_2020-07-19_041254csv</td>\n",
       "      <td>2020-07-18</td>\n",
       "      <td>2020-07-15_054035_2020-07-19_041254csv_84479</td>\n",
       "      <td>2020-07-15_054035_2020-07-19_041254csv_84479</td>\n",
       "      <td>0.0</td>\n",
       "      <td>2020-07-18 23:59:59</td>\n",
       "    </tr>\n",
       "    <tr>\n",
       "      <th>12453167</th>\n",
       "      <td>2020-07-18 23:59:59</td>\n",
       "      <td>hen_82</td>\n",
       "      <td>5 Zone</td>\n",
       "      <td>11</td>\n",
       "      <td>2020-07-15_054035_2020-07-19_041254csv</td>\n",
       "      <td>2020-07-18</td>\n",
       "      <td>2020-07-15_054035_2020-07-19_041254csv_84480</td>\n",
       "      <td>2020-07-15_054035_2020-07-19_041254csv_84480</td>\n",
       "      <td>0.0</td>\n",
       "      <td>2020-07-18 23:59:59</td>\n",
       "    </tr>\n",
       "  </tbody>\n",
       "</table>\n",
       "</div>"
      ],
      "text/plain": [
       "                   Timestamp   HenID    Zone  PenID  \\\n",
       "12453165 2020-07-18 23:59:56  hen_51  2 Zone      3   \n",
       "12453166 2020-07-18 23:59:59   hen_8  5 Zone     12   \n",
       "12453167 2020-07-18 23:59:59  hen_82  5 Zone     11   \n",
       "\n",
       "                                   log_file_name       date  \\\n",
       "12453165  2020-07-15_224155_2020-07-19_055005csv 2020-07-18   \n",
       "12453166  2020-07-15_054035_2020-07-19_041254csv 2020-07-18   \n",
       "12453167  2020-07-15_054035_2020-07-19_041254csv 2020-07-18   \n",
       "\n",
       "                                      ts_order_logname  \\\n",
       "12453165  2020-07-15_224155_2020-07-19_055005csv_98992   \n",
       "12453166  2020-07-15_054035_2020-07-19_041254csv_84479   \n",
       "12453167  2020-07-15_054035_2020-07-19_041254csv_84480   \n",
       "\n",
       "                                         ts_order_list   ms  \\\n",
       "12453165  2020-07-15_224155_2020-07-19_055005csv_98992  0.0   \n",
       "12453166  2020-07-15_054035_2020-07-19_041254csv_84479  0.0   \n",
       "12453167  2020-07-15_054035_2020-07-19_041254csv_84480  0.0   \n",
       "\n",
       "           Timestamp_initial  \n",
       "12453165 2020-07-18 23:59:56  \n",
       "12453166 2020-07-18 23:59:59  \n",
       "12453167 2020-07-18 23:59:59  "
      ]
     },
     "execution_count": 4,
     "metadata": {},
     "output_type": "execute_result"
    }
   ],
   "source": [
    "#for being more reproductible, we open the file that was saved from cleaning\n",
    "df = pd.read_csv(os.path.join(path_extracted_data, id_run+'_records_GeneralCleaning.csv'), sep=';', \n",
    "                 parse_dates=['Timestamp', 'Timestamp_initial', 'date']) \n",
    "print(df.shape)\n",
    "df.tail(3)"
   ]
  },
  {
   "cell_type": "code",
   "execution_count": 5,
   "metadata": {},
   "outputs": [
    {
     "data": {
      "text/plain": [
       "array([10, 12, 11,  4,  5,  3], dtype=int64)"
      ]
     },
     "execution_count": 5,
     "metadata": {},
     "output_type": "execute_result"
    }
   ],
   "source": [
    "df['PenID'].unique()"
   ]
  },
  {
   "cell_type": "code",
   "execution_count": 6,
   "metadata": {
    "scrolled": true
   },
   "outputs": [
    {
     "name": "stdout",
     "output_type": "stream",
     "text": [
      "10\n",
      "create time series\n",
      "in this time series there is 18 hens\n",
      "The initial starting date in over all is: 2019-10-22 07:37:52, and the ending date will be: 2020-07-18 23:53:19\n",
      "But note that birds may have different ending and starting date\n",
      "and after ending the last day at midnight : 2019-10-22 07:37:52, and the ending date will be: 2020-07-18 23:59:59\n",
      "-------------- Lets save\n",
      "(23386928, 20)\n"
     ]
    },
    {
     "name": "stderr",
     "output_type": "stream",
     "text": [
      "ERROR:root:Internal Python error in the inspect module.\n",
      "Below is the traceback from this internal error.\n",
      "\n"
     ]
    },
    {
     "name": "stdout",
     "output_type": "stream",
     "text": [
      "Traceback (most recent call last):\n",
      "  File \"C:\\Users\\camil\\Anaconda3\\lib\\site-packages\\IPython\\core\\interactiveshell.py\", line 3343, in run_code\n",
      "    exec(code_obj, self.user_global_ns, self.user_ns)\n",
      "  File \"<ipython-input-6-a2f72d19c7c3>\", line 3, in <module>\n",
      "    df_final = simple_cleaning_experiment2(df[df['PenID']==p], config, 60,p)\n",
      "  File \"C:\\Users\\camil\\Desktop\\animals_code\\PhD\\UTILS.py\", line 745, in simple_cleaning_experiment2\n",
      "    df_ts = time_series_henColumn_tsRow(df, config, col_ts='Zone', save=True, hen_time_series=False)\n",
      "  File \"C:\\Users\\camil\\Desktop\\animals_code\\PhD\\UTILS.py\", line 1424, in time_series_henColumn_tsRow\n",
      "    df_hens.to_csv(os.path.join(path_extracted_data,id_run+'_TimeSeries'+str(name_)+'.csv'), sep=';', index=False)\n",
      "  File \"C:\\Users\\camil\\Anaconda3\\lib\\site-packages\\pandas\\core\\generic.py\", line 3167, in to_csv\n",
      "    formatter.save()\n",
      "  File \"C:\\Users\\camil\\Anaconda3\\lib\\site-packages\\pandas\\io\\formats\\csvs.py\", line 206, in save\n",
      "    self._save()\n",
      "  File \"C:\\Users\\camil\\Anaconda3\\lib\\site-packages\\pandas\\io\\formats\\csvs.py\", line 328, in _save\n",
      "    self._save_chunk(start_i, end_i)\n",
      "  File \"C:\\Users\\camil\\Anaconda3\\lib\\site-packages\\pandas\\io\\formats\\csvs.py\", line 359, in _save_chunk\n",
      "    quoting=self.quoting,\n",
      "  File \"C:\\Users\\camil\\Anaconda3\\lib\\site-packages\\pandas\\core\\indexes\\base.py\", line 976, in to_native_types\n",
      "    return values._format_native_types(**kwargs)\n",
      "  File \"C:\\Users\\camil\\Anaconda3\\lib\\site-packages\\pandas\\core\\indexes\\base.py\", line 984, in _format_native_types\n",
      "    values = np.asarray(self).astype(str)\n",
      "KeyboardInterrupt\n",
      "\n",
      "During handling of the above exception, another exception occurred:\n",
      "\n",
      "Traceback (most recent call last):\n",
      "  File \"C:\\Users\\camil\\Anaconda3\\lib\\site-packages\\IPython\\core\\interactiveshell.py\", line 2044, in showtraceback\n",
      "    stb = value._render_traceback_()\n",
      "AttributeError: 'KeyboardInterrupt' object has no attribute '_render_traceback_'\n",
      "\n",
      "During handling of the above exception, another exception occurred:\n",
      "\n",
      "Traceback (most recent call last):\n",
      "  File \"C:\\Users\\camil\\Anaconda3\\lib\\site-packages\\IPython\\core\\ultratb.py\", line 1169, in get_records\n",
      "    return _fixed_getinnerframes(etb, number_of_lines_of_context, tb_offset)\n",
      "  File \"C:\\Users\\camil\\Anaconda3\\lib\\site-packages\\IPython\\core\\ultratb.py\", line 316, in wrapped\n",
      "    return f(*args, **kwargs)\n",
      "  File \"C:\\Users\\camil\\Anaconda3\\lib\\site-packages\\IPython\\core\\ultratb.py\", line 350, in _fixed_getinnerframes\n",
      "    records = fix_frame_records_filenames(inspect.getinnerframes(etb, context))\n",
      "  File \"C:\\Users\\camil\\Anaconda3\\lib\\inspect.py\", line 1490, in getinnerframes\n",
      "    frameinfo = (tb.tb_frame,) + getframeinfo(tb, context)\n",
      "  File \"C:\\Users\\camil\\Anaconda3\\lib\\inspect.py\", line 1448, in getframeinfo\n",
      "    filename = getsourcefile(frame) or getfile(frame)\n",
      "  File \"C:\\Users\\camil\\Anaconda3\\lib\\inspect.py\", line 696, in getsourcefile\n",
      "    if getattr(getmodule(object, filename), '__loader__', None) is not None:\n",
      "  File \"C:\\Users\\camil\\Anaconda3\\lib\\inspect.py\", line 739, in getmodule\n",
      "    f = getabsfile(module)\n",
      "  File \"C:\\Users\\camil\\Anaconda3\\lib\\inspect.py\", line 708, in getabsfile\n",
      "    _filename = getsourcefile(object) or getfile(object)\n",
      "  File \"C:\\Users\\camil\\Anaconda3\\lib\\inspect.py\", line 693, in getsourcefile\n",
      "    if os.path.exists(filename):\n",
      "  File \"C:\\Users\\camil\\Anaconda3\\lib\\genericpath.py\", line 19, in exists\n",
      "    os.stat(path)\n",
      "KeyboardInterrupt\n"
     ]
    },
    {
     "ename": "TypeError",
     "evalue": "object of type 'NoneType' has no len()",
     "output_type": "error",
     "traceback": [
      "\u001b[1;31m---------------------------------------------------------------------------\u001b[0m",
      "\u001b[1;31mKeyboardInterrupt\u001b[0m                         Traceback (most recent call last)",
      "    \u001b[1;31m[... skipping hidden 1 frame]\u001b[0m\n",
      "\u001b[1;32m<ipython-input-6-a2f72d19c7c3>\u001b[0m in \u001b[0;36m<module>\u001b[1;34m\u001b[0m\n\u001b[0;32m      2\u001b[0m     \u001b[0mprint\u001b[0m\u001b[1;33m(\u001b[0m\u001b[0mp\u001b[0m\u001b[1;33m)\u001b[0m\u001b[1;33m\u001b[0m\u001b[1;33m\u001b[0m\u001b[0m\n\u001b[1;32m----> 3\u001b[1;33m     \u001b[0mdf_final\u001b[0m \u001b[1;33m=\u001b[0m \u001b[0msimple_cleaning_experiment2\u001b[0m\u001b[1;33m(\u001b[0m\u001b[0mdf\u001b[0m\u001b[1;33m[\u001b[0m\u001b[0mdf\u001b[0m\u001b[1;33m[\u001b[0m\u001b[1;34m'PenID'\u001b[0m\u001b[1;33m]\u001b[0m\u001b[1;33m==\u001b[0m\u001b[0mp\u001b[0m\u001b[1;33m]\u001b[0m\u001b[1;33m,\u001b[0m \u001b[0mconfig\u001b[0m\u001b[1;33m,\u001b[0m \u001b[1;36m60\u001b[0m\u001b[1;33m,\u001b[0m\u001b[0mp\u001b[0m\u001b[1;33m)\u001b[0m\u001b[1;33m\u001b[0m\u001b[1;33m\u001b[0m\u001b[0m\n\u001b[0m",
      "\u001b[1;32m~\\Desktop\\animals_code\\PhD\\UTILS.py\u001b[0m in \u001b[0;36msimple_cleaning_experiment2\u001b[1;34m(df, config, nbr_sec_mean, name, mi, ma, save)\u001b[0m\n\u001b[0;32m    744\u001b[0m     \u001b[0mprint\u001b[0m\u001b[1;33m(\u001b[0m\u001b[1;34m'create time series'\u001b[0m\u001b[1;33m)\u001b[0m\u001b[1;33m\u001b[0m\u001b[1;33m\u001b[0m\u001b[0m\n\u001b[1;32m--> 745\u001b[1;33m     \u001b[0mdf_ts\u001b[0m \u001b[1;33m=\u001b[0m \u001b[0mtime_series_henColumn_tsRow\u001b[0m\u001b[1;33m(\u001b[0m\u001b[0mdf\u001b[0m\u001b[1;33m,\u001b[0m \u001b[0mconfig\u001b[0m\u001b[1;33m,\u001b[0m \u001b[0mcol_ts\u001b[0m\u001b[1;33m=\u001b[0m\u001b[1;34m'Zone'\u001b[0m\u001b[1;33m,\u001b[0m \u001b[0msave\u001b[0m\u001b[1;33m=\u001b[0m\u001b[1;32mTrue\u001b[0m\u001b[1;33m,\u001b[0m \u001b[0mhen_time_series\u001b[0m\u001b[1;33m=\u001b[0m\u001b[1;32mFalse\u001b[0m\u001b[1;33m)\u001b[0m\u001b[1;33m\u001b[0m\u001b[1;33m\u001b[0m\u001b[0m\n\u001b[0m\u001b[0;32m    746\u001b[0m     \u001b[0mprint\u001b[0m\u001b[1;33m(\u001b[0m\u001b[1;34m'finish creating time series'\u001b[0m\u001b[1;33m)\u001b[0m\u001b[1;33m\u001b[0m\u001b[1;33m\u001b[0m\u001b[0m\n",
      "\u001b[1;32m~\\Desktop\\animals_code\\PhD\\UTILS.py\u001b[0m in \u001b[0;36mtime_series_henColumn_tsRow\u001b[1;34m(df, config, col_ts, name_, ts_with_all_hen_value, save, hen_time_series)\u001b[0m\n\u001b[0;32m   1423\u001b[0m         \u001b[0mprint\u001b[0m\u001b[1;33m(\u001b[0m\u001b[0mdf_hens\u001b[0m\u001b[1;33m.\u001b[0m\u001b[0mshape\u001b[0m\u001b[1;33m)\u001b[0m\u001b[1;33m\u001b[0m\u001b[1;33m\u001b[0m\u001b[0m\n\u001b[1;32m-> 1424\u001b[1;33m         \u001b[0mdf_hens\u001b[0m\u001b[1;33m.\u001b[0m\u001b[0mto_csv\u001b[0m\u001b[1;33m(\u001b[0m\u001b[0mos\u001b[0m\u001b[1;33m.\u001b[0m\u001b[0mpath\u001b[0m\u001b[1;33m.\u001b[0m\u001b[0mjoin\u001b[0m\u001b[1;33m(\u001b[0m\u001b[0mpath_extracted_data\u001b[0m\u001b[1;33m,\u001b[0m\u001b[0mid_run\u001b[0m\u001b[1;33m+\u001b[0m\u001b[1;34m'_TimeSeries'\u001b[0m\u001b[1;33m+\u001b[0m\u001b[0mstr\u001b[0m\u001b[1;33m(\u001b[0m\u001b[0mname_\u001b[0m\u001b[1;33m)\u001b[0m\u001b[1;33m+\u001b[0m\u001b[1;34m'.csv'\u001b[0m\u001b[1;33m)\u001b[0m\u001b[1;33m,\u001b[0m \u001b[0msep\u001b[0m\u001b[1;33m=\u001b[0m\u001b[1;34m';'\u001b[0m\u001b[1;33m,\u001b[0m \u001b[0mindex\u001b[0m\u001b[1;33m=\u001b[0m\u001b[1;32mFalse\u001b[0m\u001b[1;33m)\u001b[0m\u001b[1;33m\u001b[0m\u001b[1;33m\u001b[0m\u001b[0m\n\u001b[0m\u001b[0;32m   1425\u001b[0m \u001b[1;33m\u001b[0m\u001b[0m\n",
      "\u001b[1;32m~\\Anaconda3\\lib\\site-packages\\pandas\\core\\generic.py\u001b[0m in \u001b[0;36mto_csv\u001b[1;34m(self, path_or_buf, sep, na_rep, float_format, columns, header, index, index_label, mode, encoding, compression, quoting, quotechar, line_terminator, chunksize, date_format, doublequote, escapechar, decimal, errors)\u001b[0m\n\u001b[0;32m   3166\u001b[0m         )\n\u001b[1;32m-> 3167\u001b[1;33m         \u001b[0mformatter\u001b[0m\u001b[1;33m.\u001b[0m\u001b[0msave\u001b[0m\u001b[1;33m(\u001b[0m\u001b[1;33m)\u001b[0m\u001b[1;33m\u001b[0m\u001b[1;33m\u001b[0m\u001b[0m\n\u001b[0m\u001b[0;32m   3168\u001b[0m \u001b[1;33m\u001b[0m\u001b[0m\n",
      "\u001b[1;32m~\\Anaconda3\\lib\\site-packages\\pandas\\io\\formats\\csvs.py\u001b[0m in \u001b[0;36msave\u001b[1;34m(self)\u001b[0m\n\u001b[0;32m    205\u001b[0m \u001b[1;33m\u001b[0m\u001b[0m\n\u001b[1;32m--> 206\u001b[1;33m             \u001b[0mself\u001b[0m\u001b[1;33m.\u001b[0m\u001b[0m_save\u001b[0m\u001b[1;33m(\u001b[0m\u001b[1;33m)\u001b[0m\u001b[1;33m\u001b[0m\u001b[1;33m\u001b[0m\u001b[0m\n\u001b[0m\u001b[0;32m    207\u001b[0m \u001b[1;33m\u001b[0m\u001b[0m\n",
      "\u001b[1;32m~\\Anaconda3\\lib\\site-packages\\pandas\\io\\formats\\csvs.py\u001b[0m in \u001b[0;36m_save\u001b[1;34m(self)\u001b[0m\n\u001b[0;32m    327\u001b[0m \u001b[1;33m\u001b[0m\u001b[0m\n\u001b[1;32m--> 328\u001b[1;33m             \u001b[0mself\u001b[0m\u001b[1;33m.\u001b[0m\u001b[0m_save_chunk\u001b[0m\u001b[1;33m(\u001b[0m\u001b[0mstart_i\u001b[0m\u001b[1;33m,\u001b[0m \u001b[0mend_i\u001b[0m\u001b[1;33m)\u001b[0m\u001b[1;33m\u001b[0m\u001b[1;33m\u001b[0m\u001b[0m\n\u001b[0m\u001b[0;32m    329\u001b[0m \u001b[1;33m\u001b[0m\u001b[0m\n",
      "\u001b[1;32m~\\Anaconda3\\lib\\site-packages\\pandas\\io\\formats\\csvs.py\u001b[0m in \u001b[0;36m_save_chunk\u001b[1;34m(self, start_i, end_i)\u001b[0m\n\u001b[0;32m    358\u001b[0m             \u001b[0mdate_format\u001b[0m\u001b[1;33m=\u001b[0m\u001b[0mself\u001b[0m\u001b[1;33m.\u001b[0m\u001b[0mdate_format\u001b[0m\u001b[1;33m,\u001b[0m\u001b[1;33m\u001b[0m\u001b[1;33m\u001b[0m\u001b[0m\n\u001b[1;32m--> 359\u001b[1;33m             \u001b[0mquoting\u001b[0m\u001b[1;33m=\u001b[0m\u001b[0mself\u001b[0m\u001b[1;33m.\u001b[0m\u001b[0mquoting\u001b[0m\u001b[1;33m,\u001b[0m\u001b[1;33m\u001b[0m\u001b[1;33m\u001b[0m\u001b[0m\n\u001b[0m\u001b[0;32m    360\u001b[0m         )\n",
      "\u001b[1;32m~\\Anaconda3\\lib\\site-packages\\pandas\\core\\indexes\\base.py\u001b[0m in \u001b[0;36mto_native_types\u001b[1;34m(self, slicer, **kwargs)\u001b[0m\n\u001b[0;32m    975\u001b[0m             \u001b[0mvalues\u001b[0m \u001b[1;33m=\u001b[0m \u001b[0mvalues\u001b[0m\u001b[1;33m[\u001b[0m\u001b[0mslicer\u001b[0m\u001b[1;33m]\u001b[0m\u001b[1;33m\u001b[0m\u001b[1;33m\u001b[0m\u001b[0m\n\u001b[1;32m--> 976\u001b[1;33m         \u001b[1;32mreturn\u001b[0m \u001b[0mvalues\u001b[0m\u001b[1;33m.\u001b[0m\u001b[0m_format_native_types\u001b[0m\u001b[1;33m(\u001b[0m\u001b[1;33m**\u001b[0m\u001b[0mkwargs\u001b[0m\u001b[1;33m)\u001b[0m\u001b[1;33m\u001b[0m\u001b[1;33m\u001b[0m\u001b[0m\n\u001b[0m\u001b[0;32m    977\u001b[0m \u001b[1;33m\u001b[0m\u001b[0m\n",
      "\u001b[1;32m~\\Anaconda3\\lib\\site-packages\\pandas\\core\\indexes\\base.py\u001b[0m in \u001b[0;36m_format_native_types\u001b[1;34m(self, na_rep, quoting, **kwargs)\u001b[0m\n\u001b[0;32m    983\u001b[0m         \u001b[1;32mif\u001b[0m \u001b[1;32mnot\u001b[0m \u001b[0mself\u001b[0m\u001b[1;33m.\u001b[0m\u001b[0mis_object\u001b[0m\u001b[1;33m(\u001b[0m\u001b[1;33m)\u001b[0m \u001b[1;32mand\u001b[0m \u001b[1;32mnot\u001b[0m \u001b[0mquoting\u001b[0m\u001b[1;33m:\u001b[0m\u001b[1;33m\u001b[0m\u001b[1;33m\u001b[0m\u001b[0m\n\u001b[1;32m--> 984\u001b[1;33m             \u001b[0mvalues\u001b[0m \u001b[1;33m=\u001b[0m \u001b[0mnp\u001b[0m\u001b[1;33m.\u001b[0m\u001b[0masarray\u001b[0m\u001b[1;33m(\u001b[0m\u001b[0mself\u001b[0m\u001b[1;33m)\u001b[0m\u001b[1;33m.\u001b[0m\u001b[0mastype\u001b[0m\u001b[1;33m(\u001b[0m\u001b[0mstr\u001b[0m\u001b[1;33m)\u001b[0m\u001b[1;33m\u001b[0m\u001b[1;33m\u001b[0m\u001b[0m\n\u001b[0m\u001b[0;32m    985\u001b[0m         \u001b[1;32melse\u001b[0m\u001b[1;33m:\u001b[0m\u001b[1;33m\u001b[0m\u001b[1;33m\u001b[0m\u001b[0m\n",
      "\u001b[1;31mKeyboardInterrupt\u001b[0m: ",
      "\nDuring handling of the above exception, another exception occurred:\n",
      "\u001b[1;31mAttributeError\u001b[0m                            Traceback (most recent call last)",
      "\u001b[1;32m~\\Anaconda3\\lib\\site-packages\\IPython\\core\\interactiveshell.py\u001b[0m in \u001b[0;36mshowtraceback\u001b[1;34m(self, exc_tuple, filename, tb_offset, exception_only, running_compiled_code)\u001b[0m\n\u001b[0;32m   2043\u001b[0m                         \u001b[1;31m# in the engines. This should return a list of strings.\u001b[0m\u001b[1;33m\u001b[0m\u001b[1;33m\u001b[0m\u001b[1;33m\u001b[0m\u001b[0m\n\u001b[1;32m-> 2044\u001b[1;33m                         \u001b[0mstb\u001b[0m \u001b[1;33m=\u001b[0m \u001b[0mvalue\u001b[0m\u001b[1;33m.\u001b[0m\u001b[0m_render_traceback_\u001b[0m\u001b[1;33m(\u001b[0m\u001b[1;33m)\u001b[0m\u001b[1;33m\u001b[0m\u001b[1;33m\u001b[0m\u001b[0m\n\u001b[0m\u001b[0;32m   2045\u001b[0m                     \u001b[1;32mexcept\u001b[0m \u001b[0mException\u001b[0m\u001b[1;33m:\u001b[0m\u001b[1;33m\u001b[0m\u001b[1;33m\u001b[0m\u001b[0m\n",
      "\u001b[1;31mAttributeError\u001b[0m: 'KeyboardInterrupt' object has no attribute '_render_traceback_'",
      "\nDuring handling of the above exception, another exception occurred:\n",
      "\u001b[1;31mTypeError\u001b[0m                                 Traceback (most recent call last)",
      "    \u001b[1;31m[... skipping hidden 1 frame]\u001b[0m\n",
      "\u001b[1;32m~\\Anaconda3\\lib\\site-packages\\IPython\\core\\interactiveshell.py\u001b[0m in \u001b[0;36mshowtraceback\u001b[1;34m(self, exc_tuple, filename, tb_offset, exception_only, running_compiled_code)\u001b[0m\n\u001b[0;32m   2045\u001b[0m                     \u001b[1;32mexcept\u001b[0m \u001b[0mException\u001b[0m\u001b[1;33m:\u001b[0m\u001b[1;33m\u001b[0m\u001b[1;33m\u001b[0m\u001b[0m\n\u001b[0;32m   2046\u001b[0m                         stb = self.InteractiveTB.structured_traceback(etype,\n\u001b[1;32m-> 2047\u001b[1;33m                                             value, tb, tb_offset=tb_offset)\n\u001b[0m\u001b[0;32m   2048\u001b[0m \u001b[1;33m\u001b[0m\u001b[0m\n\u001b[0;32m   2049\u001b[0m                     \u001b[0mself\u001b[0m\u001b[1;33m.\u001b[0m\u001b[0m_showtraceback\u001b[0m\u001b[1;33m(\u001b[0m\u001b[0metype\u001b[0m\u001b[1;33m,\u001b[0m \u001b[0mvalue\u001b[0m\u001b[1;33m,\u001b[0m \u001b[0mstb\u001b[0m\u001b[1;33m)\u001b[0m\u001b[1;33m\u001b[0m\u001b[1;33m\u001b[0m\u001b[0m\n",
      "\u001b[1;32m~\\Anaconda3\\lib\\site-packages\\IPython\\core\\ultratb.py\u001b[0m in \u001b[0;36mstructured_traceback\u001b[1;34m(self, etype, value, tb, tb_offset, number_of_lines_of_context)\u001b[0m\n\u001b[0;32m   1434\u001b[0m             \u001b[0mself\u001b[0m\u001b[1;33m.\u001b[0m\u001b[0mtb\u001b[0m \u001b[1;33m=\u001b[0m \u001b[0mtb\u001b[0m\u001b[1;33m\u001b[0m\u001b[1;33m\u001b[0m\u001b[0m\n\u001b[0;32m   1435\u001b[0m         return FormattedTB.structured_traceback(\n\u001b[1;32m-> 1436\u001b[1;33m             self, etype, value, tb, tb_offset, number_of_lines_of_context)\n\u001b[0m\u001b[0;32m   1437\u001b[0m \u001b[1;33m\u001b[0m\u001b[0m\n\u001b[0;32m   1438\u001b[0m \u001b[1;33m\u001b[0m\u001b[0m\n",
      "\u001b[1;32m~\\Anaconda3\\lib\\site-packages\\IPython\\core\\ultratb.py\u001b[0m in \u001b[0;36mstructured_traceback\u001b[1;34m(self, etype, value, tb, tb_offset, number_of_lines_of_context)\u001b[0m\n\u001b[0;32m   1334\u001b[0m             \u001b[1;31m# Verbose modes need a full traceback\u001b[0m\u001b[1;33m\u001b[0m\u001b[1;33m\u001b[0m\u001b[1;33m\u001b[0m\u001b[0m\n\u001b[0;32m   1335\u001b[0m             return VerboseTB.structured_traceback(\n\u001b[1;32m-> 1336\u001b[1;33m                 \u001b[0mself\u001b[0m\u001b[1;33m,\u001b[0m \u001b[0metype\u001b[0m\u001b[1;33m,\u001b[0m \u001b[0mvalue\u001b[0m\u001b[1;33m,\u001b[0m \u001b[0mtb\u001b[0m\u001b[1;33m,\u001b[0m \u001b[0mtb_offset\u001b[0m\u001b[1;33m,\u001b[0m \u001b[0mnumber_of_lines_of_context\u001b[0m\u001b[1;33m\u001b[0m\u001b[1;33m\u001b[0m\u001b[0m\n\u001b[0m\u001b[0;32m   1337\u001b[0m             )\n\u001b[0;32m   1338\u001b[0m         \u001b[1;32melif\u001b[0m \u001b[0mmode\u001b[0m \u001b[1;33m==\u001b[0m \u001b[1;34m'Minimal'\u001b[0m\u001b[1;33m:\u001b[0m\u001b[1;33m\u001b[0m\u001b[1;33m\u001b[0m\u001b[0m\n",
      "\u001b[1;32m~\\Anaconda3\\lib\\site-packages\\IPython\\core\\ultratb.py\u001b[0m in \u001b[0;36mstructured_traceback\u001b[1;34m(self, etype, evalue, etb, tb_offset, number_of_lines_of_context)\u001b[0m\n\u001b[0;32m   1191\u001b[0m \u001b[1;33m\u001b[0m\u001b[0m\n\u001b[0;32m   1192\u001b[0m         formatted_exception = self.format_exception_as_a_whole(etype, evalue, etb, number_of_lines_of_context,\n\u001b[1;32m-> 1193\u001b[1;33m                                                                tb_offset)\n\u001b[0m\u001b[0;32m   1194\u001b[0m \u001b[1;33m\u001b[0m\u001b[0m\n\u001b[0;32m   1195\u001b[0m         \u001b[0mcolors\u001b[0m \u001b[1;33m=\u001b[0m \u001b[0mself\u001b[0m\u001b[1;33m.\u001b[0m\u001b[0mColors\u001b[0m  \u001b[1;31m# just a shorthand + quicker name lookup\u001b[0m\u001b[1;33m\u001b[0m\u001b[1;33m\u001b[0m\u001b[0m\n",
      "\u001b[1;32m~\\Anaconda3\\lib\\site-packages\\IPython\\core\\ultratb.py\u001b[0m in \u001b[0;36mformat_exception_as_a_whole\u001b[1;34m(self, etype, evalue, etb, number_of_lines_of_context, tb_offset)\u001b[0m\n\u001b[0;32m   1148\u001b[0m \u001b[1;33m\u001b[0m\u001b[0m\n\u001b[0;32m   1149\u001b[0m \u001b[1;33m\u001b[0m\u001b[0m\n\u001b[1;32m-> 1150\u001b[1;33m         \u001b[0mlast_unique\u001b[0m\u001b[1;33m,\u001b[0m \u001b[0mrecursion_repeat\u001b[0m \u001b[1;33m=\u001b[0m \u001b[0mfind_recursion\u001b[0m\u001b[1;33m(\u001b[0m\u001b[0morig_etype\u001b[0m\u001b[1;33m,\u001b[0m \u001b[0mevalue\u001b[0m\u001b[1;33m,\u001b[0m \u001b[0mrecords\u001b[0m\u001b[1;33m)\u001b[0m\u001b[1;33m\u001b[0m\u001b[1;33m\u001b[0m\u001b[0m\n\u001b[0m\u001b[0;32m   1151\u001b[0m \u001b[1;33m\u001b[0m\u001b[0m\n\u001b[0;32m   1152\u001b[0m         \u001b[0mframes\u001b[0m \u001b[1;33m=\u001b[0m \u001b[0mself\u001b[0m\u001b[1;33m.\u001b[0m\u001b[0mformat_records\u001b[0m\u001b[1;33m(\u001b[0m\u001b[0mrecords\u001b[0m\u001b[1;33m,\u001b[0m \u001b[0mlast_unique\u001b[0m\u001b[1;33m,\u001b[0m \u001b[0mrecursion_repeat\u001b[0m\u001b[1;33m)\u001b[0m\u001b[1;33m\u001b[0m\u001b[1;33m\u001b[0m\u001b[0m\n",
      "\u001b[1;32m~\\Anaconda3\\lib\\site-packages\\IPython\\core\\ultratb.py\u001b[0m in \u001b[0;36mfind_recursion\u001b[1;34m(etype, value, records)\u001b[0m\n\u001b[0;32m    449\u001b[0m     \u001b[1;31m# first frame (from in to out) that looks different.\u001b[0m\u001b[1;33m\u001b[0m\u001b[1;33m\u001b[0m\u001b[1;33m\u001b[0m\u001b[0m\n\u001b[0;32m    450\u001b[0m     \u001b[1;32mif\u001b[0m \u001b[1;32mnot\u001b[0m \u001b[0mis_recursion_error\u001b[0m\u001b[1;33m(\u001b[0m\u001b[0metype\u001b[0m\u001b[1;33m,\u001b[0m \u001b[0mvalue\u001b[0m\u001b[1;33m,\u001b[0m \u001b[0mrecords\u001b[0m\u001b[1;33m)\u001b[0m\u001b[1;33m:\u001b[0m\u001b[1;33m\u001b[0m\u001b[1;33m\u001b[0m\u001b[0m\n\u001b[1;32m--> 451\u001b[1;33m         \u001b[1;32mreturn\u001b[0m \u001b[0mlen\u001b[0m\u001b[1;33m(\u001b[0m\u001b[0mrecords\u001b[0m\u001b[1;33m)\u001b[0m\u001b[1;33m,\u001b[0m \u001b[1;36m0\u001b[0m\u001b[1;33m\u001b[0m\u001b[1;33m\u001b[0m\u001b[0m\n\u001b[0m\u001b[0;32m    452\u001b[0m \u001b[1;33m\u001b[0m\u001b[0m\n\u001b[0;32m    453\u001b[0m     \u001b[1;31m# Select filename, lineno, func_name to track frames with\u001b[0m\u001b[1;33m\u001b[0m\u001b[1;33m\u001b[0m\u001b[1;33m\u001b[0m\u001b[0m\n",
      "\u001b[1;31mTypeError\u001b[0m: object of type 'NoneType' has no len()"
     ]
    }
   ],
   "source": [
    "for p in df['PenID'].unique():\n",
    "    print(p)\n",
    "    df_final = simple_cleaning_experiment2(df[df['PenID']==p], config, 60,p)"
   ]
  },
  {
   "cell_type": "markdown",
   "metadata": {},
   "source": [
    "#### turn all bining hens time series into the usual ts csv file (one column per hen)"
   ]
  },
  {
   "cell_type": "code",
   "execution_count": 7,
   "metadata": {},
   "outputs": [
    {
     "name": "stderr",
     "output_type": "stream",
     "text": [
      "100%|████████████████████████████████████████████████████████████████████████████████| 108/108 [00:08<00:00, 13.44it/s]\n"
     ]
    },
    {
     "name": "stdout",
     "output_type": "stream",
     "text": [
      "(30241, 109)\n"
     ]
    },
    {
     "data": {
      "text/html": [
       "<div>\n",
       "<style scoped>\n",
       "    .dataframe tbody tr th:only-of-type {\n",
       "        vertical-align: middle;\n",
       "    }\n",
       "\n",
       "    .dataframe tbody tr th {\n",
       "        vertical-align: top;\n",
       "    }\n",
       "\n",
       "    .dataframe thead th {\n",
       "        text-align: right;\n",
       "    }\n",
       "</style>\n",
       "<table border=\"1\" class=\"dataframe\">\n",
       "  <thead>\n",
       "    <tr style=\"text-align: right;\">\n",
       "      <th></th>\n",
       "      <th>New_Timestamp</th>\n",
       "      <th>hen_1</th>\n",
       "      <th>hen_10</th>\n",
       "      <th>hen_100</th>\n",
       "      <th>hen_101</th>\n",
       "      <th>hen_102</th>\n",
       "      <th>hen_103</th>\n",
       "      <th>hen_104</th>\n",
       "      <th>hen_105</th>\n",
       "      <th>hen_106</th>\n",
       "      <th>...</th>\n",
       "      <th>hen_90</th>\n",
       "      <th>hen_91</th>\n",
       "      <th>hen_92</th>\n",
       "      <th>hen_93</th>\n",
       "      <th>hen_94</th>\n",
       "      <th>hen_95</th>\n",
       "      <th>hen_96</th>\n",
       "      <th>hen_97</th>\n",
       "      <th>hen_98</th>\n",
       "      <th>hen_99</th>\n",
       "    </tr>\n",
       "  </thead>\n",
       "  <tbody>\n",
       "    <tr>\n",
       "      <th>0</th>\n",
       "      <td>2019-11-01 00:00:00</td>\n",
       "      <td>2 Zone</td>\n",
       "      <td>2 Zone</td>\n",
       "      <td>2 Zone</td>\n",
       "      <td>3 Zone</td>\n",
       "      <td>2 Zone</td>\n",
       "      <td>3 Zone</td>\n",
       "      <td>5 Zone</td>\n",
       "      <td>5 Zone</td>\n",
       "      <td>3 Zone</td>\n",
       "      <td>...</td>\n",
       "      <td>4 Zone</td>\n",
       "      <td>5 Zone</td>\n",
       "      <td>4 Zone</td>\n",
       "      <td>5 Zone</td>\n",
       "      <td>5 Zone</td>\n",
       "      <td>5 Zone</td>\n",
       "      <td>3 Zone</td>\n",
       "      <td>3 Zone</td>\n",
       "      <td>2 Zone</td>\n",
       "      <td>5 Zone</td>\n",
       "    </tr>\n",
       "    <tr>\n",
       "      <th>1</th>\n",
       "      <td>2019-11-01 00:01:00</td>\n",
       "      <td>2 Zone</td>\n",
       "      <td>2 Zone</td>\n",
       "      <td>2 Zone</td>\n",
       "      <td>3 Zone</td>\n",
       "      <td>2 Zone</td>\n",
       "      <td>3 Zone</td>\n",
       "      <td>5 Zone</td>\n",
       "      <td>5 Zone</td>\n",
       "      <td>3 Zone</td>\n",
       "      <td>...</td>\n",
       "      <td>4 Zone</td>\n",
       "      <td>5 Zone</td>\n",
       "      <td>4 Zone</td>\n",
       "      <td>5 Zone</td>\n",
       "      <td>5 Zone</td>\n",
       "      <td>5 Zone</td>\n",
       "      <td>3 Zone</td>\n",
       "      <td>3 Zone</td>\n",
       "      <td>2 Zone</td>\n",
       "      <td>5 Zone</td>\n",
       "    </tr>\n",
       "    <tr>\n",
       "      <th>2</th>\n",
       "      <td>2019-11-01 00:02:00</td>\n",
       "      <td>2 Zone</td>\n",
       "      <td>2 Zone</td>\n",
       "      <td>2 Zone</td>\n",
       "      <td>3 Zone</td>\n",
       "      <td>2 Zone</td>\n",
       "      <td>3 Zone</td>\n",
       "      <td>5 Zone</td>\n",
       "      <td>5 Zone</td>\n",
       "      <td>3 Zone</td>\n",
       "      <td>...</td>\n",
       "      <td>4 Zone</td>\n",
       "      <td>5 Zone</td>\n",
       "      <td>4 Zone</td>\n",
       "      <td>5 Zone</td>\n",
       "      <td>5 Zone</td>\n",
       "      <td>5 Zone</td>\n",
       "      <td>3 Zone</td>\n",
       "      <td>3 Zone</td>\n",
       "      <td>2 Zone</td>\n",
       "      <td>5 Zone</td>\n",
       "    </tr>\n",
       "  </tbody>\n",
       "</table>\n",
       "<p>3 rows × 109 columns</p>\n",
       "</div>"
      ],
      "text/plain": [
       "        New_Timestamp   hen_1  hen_10 hen_100 hen_101 hen_102 hen_103 hen_104  \\\n",
       "0 2019-11-01 00:00:00  2 Zone  2 Zone  2 Zone  3 Zone  2 Zone  3 Zone  5 Zone   \n",
       "1 2019-11-01 00:01:00  2 Zone  2 Zone  2 Zone  3 Zone  2 Zone  3 Zone  5 Zone   \n",
       "2 2019-11-01 00:02:00  2 Zone  2 Zone  2 Zone  3 Zone  2 Zone  3 Zone  5 Zone   \n",
       "\n",
       "  hen_105 hen_106  ...  hen_90  hen_91  hen_92  hen_93  hen_94  hen_95  \\\n",
       "0  5 Zone  3 Zone  ...  4 Zone  5 Zone  4 Zone  5 Zone  5 Zone  5 Zone   \n",
       "1  5 Zone  3 Zone  ...  4 Zone  5 Zone  4 Zone  5 Zone  5 Zone  5 Zone   \n",
       "2  5 Zone  3 Zone  ...  4 Zone  5 Zone  4 Zone  5 Zone  5 Zone  5 Zone   \n",
       "\n",
       "   hen_96  hen_97  hen_98  hen_99  \n",
       "0  3 Zone  3 Zone  2 Zone  5 Zone  \n",
       "1  3 Zone  3 Zone  2 Zone  5 Zone  \n",
       "2  3 Zone  3 Zone  2 Zone  5 Zone  \n",
       "\n",
       "[3 rows x 109 columns]"
      ]
     },
     "execution_count": 7,
     "metadata": {},
     "output_type": "execute_result"
    }
   ],
   "source": [
    "#for path_ in glob.glob(os.path.join(path_extracted_data, 'HensTimeSeries', id_run+'_ts_MostFrequentZone_period60_?_?_hen_*.csv')):\n",
    "li_df = []\n",
    "for path_ in tqdm.tqdm(glob.glob(os.path.join(path_extracted_data, 'HensTimeSeries', \n",
    "                                    id_run+'_ts_MostFrequentZone_period60_2019-11-01_2020-03-26_hen_*.csv'))):\n",
    "    name_ = path_.split('\\\\')[-1].split('_MostFrequentZone_')[-1].split('.csv')[0]\n",
    "    HenID = 'hen_'+name_.split('hen_')[-1]\n",
    "    df_h = pd.read_csv(path_, sep=';', parse_dates=['New_Timestamp']) \n",
    "    df_h = df_h.filter(['New_Timestamp','most_frequent_zone'],axis=1).reset_index(drop=True)\n",
    "    df_h.rename(columns={'most_frequent_zone':HenID}, inplace=True)\n",
    "    li_df.append(df_h)\n",
    "\n",
    "df = pd.DataFrame(columns=['New_Timestamp'])\n",
    "for df_h in li_df:\n",
    "    df = pd.merge(df, df_h, on='New_Timestamp', how='outer')\n",
    "df.to_csv(os.path.join(path_extracted_data,id_run+'ts_MostFrequentZone_period60_2019-11-01_2020-03-26_allhens.csv'), sep=';', index=False)\n",
    "print(df.shape)\n",
    "df.head(3)"
   ]
  },
  {
   "cell_type": "code",
   "execution_count": 8,
   "metadata": {},
   "outputs": [
    {
     "data": {
      "text/html": [
       "<div>\n",
       "<style scoped>\n",
       "    .dataframe tbody tr th:only-of-type {\n",
       "        vertical-align: middle;\n",
       "    }\n",
       "\n",
       "    .dataframe tbody tr th {\n",
       "        vertical-align: top;\n",
       "    }\n",
       "\n",
       "    .dataframe thead th {\n",
       "        text-align: right;\n",
       "    }\n",
       "</style>\n",
       "<table border=\"1\" class=\"dataframe\">\n",
       "  <thead>\n",
       "    <tr style=\"text-align: right;\">\n",
       "      <th></th>\n",
       "      <th>New_Timestamp</th>\n",
       "      <th>hen_1</th>\n",
       "      <th>hen_10</th>\n",
       "      <th>hen_100</th>\n",
       "      <th>hen_101</th>\n",
       "      <th>hen_102</th>\n",
       "      <th>hen_103</th>\n",
       "      <th>hen_104</th>\n",
       "      <th>hen_105</th>\n",
       "      <th>hen_106</th>\n",
       "      <th>...</th>\n",
       "      <th>hen_90</th>\n",
       "      <th>hen_91</th>\n",
       "      <th>hen_92</th>\n",
       "      <th>hen_93</th>\n",
       "      <th>hen_94</th>\n",
       "      <th>hen_95</th>\n",
       "      <th>hen_96</th>\n",
       "      <th>hen_97</th>\n",
       "      <th>hen_98</th>\n",
       "      <th>hen_99</th>\n",
       "    </tr>\n",
       "  </thead>\n",
       "  <tbody>\n",
       "    <tr>\n",
       "      <th>30238</th>\n",
       "      <td>2019-11-21 23:58:00</td>\n",
       "      <td>5 Zone</td>\n",
       "      <td>2 Zone</td>\n",
       "      <td>2 Zone</td>\n",
       "      <td>5 Zone</td>\n",
       "      <td>3 Zone</td>\n",
       "      <td>3 Zone</td>\n",
       "      <td>5 Zone</td>\n",
       "      <td>4 Zone</td>\n",
       "      <td>3 Zone</td>\n",
       "      <td>...</td>\n",
       "      <td>3 Zone</td>\n",
       "      <td>2 Zone</td>\n",
       "      <td>5 Zone</td>\n",
       "      <td>1 Zone</td>\n",
       "      <td>2 Zone</td>\n",
       "      <td>5 Zone</td>\n",
       "      <td>5 Zone</td>\n",
       "      <td>2 Zone</td>\n",
       "      <td>2 Zone</td>\n",
       "      <td>5 Zone</td>\n",
       "    </tr>\n",
       "    <tr>\n",
       "      <th>30239</th>\n",
       "      <td>2019-11-21 23:59:00</td>\n",
       "      <td>5 Zone</td>\n",
       "      <td>2 Zone</td>\n",
       "      <td>2 Zone</td>\n",
       "      <td>5 Zone</td>\n",
       "      <td>3 Zone</td>\n",
       "      <td>3 Zone</td>\n",
       "      <td>5 Zone</td>\n",
       "      <td>4 Zone</td>\n",
       "      <td>3 Zone</td>\n",
       "      <td>...</td>\n",
       "      <td>3 Zone</td>\n",
       "      <td>2 Zone</td>\n",
       "      <td>5 Zone</td>\n",
       "      <td>1 Zone</td>\n",
       "      <td>2 Zone</td>\n",
       "      <td>5 Zone</td>\n",
       "      <td>5 Zone</td>\n",
       "      <td>2 Zone</td>\n",
       "      <td>2 Zone</td>\n",
       "      <td>5 Zone</td>\n",
       "    </tr>\n",
       "    <tr>\n",
       "      <th>30240</th>\n",
       "      <td>2019-11-22 00:00:00</td>\n",
       "      <td>5 Zone</td>\n",
       "      <td>2 Zone</td>\n",
       "      <td>2 Zone</td>\n",
       "      <td>5 Zone</td>\n",
       "      <td>3 Zone</td>\n",
       "      <td>3 Zone</td>\n",
       "      <td>5 Zone</td>\n",
       "      <td>4 Zone</td>\n",
       "      <td>3 Zone</td>\n",
       "      <td>...</td>\n",
       "      <td>3 Zone</td>\n",
       "      <td>2 Zone</td>\n",
       "      <td>5 Zone</td>\n",
       "      <td>1 Zone</td>\n",
       "      <td>2 Zone</td>\n",
       "      <td>5 Zone</td>\n",
       "      <td>5 Zone</td>\n",
       "      <td>2 Zone</td>\n",
       "      <td>2 Zone</td>\n",
       "      <td>5 Zone</td>\n",
       "    </tr>\n",
       "  </tbody>\n",
       "</table>\n",
       "<p>3 rows × 109 columns</p>\n",
       "</div>"
      ],
      "text/plain": [
       "            New_Timestamp   hen_1  hen_10 hen_100 hen_101 hen_102 hen_103  \\\n",
       "30238 2019-11-21 23:58:00  5 Zone  2 Zone  2 Zone  5 Zone  3 Zone  3 Zone   \n",
       "30239 2019-11-21 23:59:00  5 Zone  2 Zone  2 Zone  5 Zone  3 Zone  3 Zone   \n",
       "30240 2019-11-22 00:00:00  5 Zone  2 Zone  2 Zone  5 Zone  3 Zone  3 Zone   \n",
       "\n",
       "      hen_104 hen_105 hen_106  ...  hen_90  hen_91  hen_92  hen_93  hen_94  \\\n",
       "30238  5 Zone  4 Zone  3 Zone  ...  3 Zone  2 Zone  5 Zone  1 Zone  2 Zone   \n",
       "30239  5 Zone  4 Zone  3 Zone  ...  3 Zone  2 Zone  5 Zone  1 Zone  2 Zone   \n",
       "30240  5 Zone  4 Zone  3 Zone  ...  3 Zone  2 Zone  5 Zone  1 Zone  2 Zone   \n",
       "\n",
       "       hen_95  hen_96  hen_97  hen_98  hen_99  \n",
       "30238  5 Zone  5 Zone  2 Zone  2 Zone  5 Zone  \n",
       "30239  5 Zone  5 Zone  2 Zone  2 Zone  5 Zone  \n",
       "30240  5 Zone  5 Zone  2 Zone  2 Zone  5 Zone  \n",
       "\n",
       "[3 rows x 109 columns]"
      ]
     },
     "execution_count": 8,
     "metadata": {},
     "output_type": "execute_result"
    }
   ],
   "source": [
    "df.tail(3)"
   ]
  },
  {
   "cell_type": "markdown",
   "metadata": {},
   "source": [
    "#VACCINATION 2\n",
    "for minute in [0.5,1,2,3,4,5,10,30]:\n",
    "    print('Lets compute with time interval ', minute)\n",
    "    simple_cleaning_experiment2(df_ts, config, \n",
    "                                nbr_sec_mean=int(minute*60),\n",
    "                                mi=dt.datetime(2019,12,20,0,0,0), \n",
    "                                ma=dt.datetime(2019,12,25,23,59,59))"
   ]
  },
  {
   "cell_type": "markdown",
   "metadata": {},
   "source": [
    "# Looking at lost info depending on zones when bining"
   ]
  },
  {
   "cell_type": "code",
   "execution_count": 13,
   "metadata": {
    "scrolled": false
   },
   "outputs": [
    {
     "name": "stderr",
     "output_type": "stream",
     "text": [
      "100%|████████████████████████████████████████████████████████████████████████████████| 258/258 [22:39<00:00,  5.27s/it]\n"
     ]
    },
    {
     "ename": "FileNotFoundError",
     "evalue": "[Errno 2] No such file or directory: 'D:\\\\vm_exchange\\\\AVIFORUM\\\\data\\\\extracted_info_experiment2_VFVFVF\\\\visual\\\\for_verification\\\\VFVFVF__percentage_lost_duration_during_bining2019-10-22_2020-07-18.png'",
     "output_type": "error",
     "traceback": [
      "\u001b[1;31m---------------------------------------------------------------------------\u001b[0m",
      "\u001b[1;31mFileNotFoundError\u001b[0m                         Traceback (most recent call last)",
      "\u001b[1;32m<ipython-input-13-bdc30a5d9fbd>\u001b[0m in \u001b[0;36m<module>\u001b[1;34m\u001b[0m\n\u001b[0;32m     34\u001b[0m     plt.savefig(os.path.join(path_extracted_data,'visual','for_verification', \n\u001b[0;32m     35\u001b[0m                              id_run+'_percentage_lost_duration_during_bining'+n.split(':')[0][:-3]+'_'+n.split(':')[2][5:-3]+'.png'), dpi=300,\n\u001b[1;32m---> 36\u001b[1;33m                              format='png', bbox_inches='tight')\n\u001b[0m\u001b[0;32m     37\u001b[0m     \u001b[0mplt\u001b[0m\u001b[1;33m.\u001b[0m\u001b[0mshow\u001b[0m\u001b[1;33m(\u001b[0m\u001b[1;33m)\u001b[0m\u001b[1;33m\u001b[0m\u001b[1;33m\u001b[0m\u001b[0m\n\u001b[0;32m     38\u001b[0m \u001b[1;33m\u001b[0m\u001b[0m\n",
      "\u001b[1;32m~\\Anaconda3\\lib\\site-packages\\matplotlib\\pyplot.py\u001b[0m in \u001b[0;36msavefig\u001b[1;34m(*args, **kwargs)\u001b[0m\n\u001b[0;32m    721\u001b[0m \u001b[1;32mdef\u001b[0m \u001b[0msavefig\u001b[0m\u001b[1;33m(\u001b[0m\u001b[1;33m*\u001b[0m\u001b[0margs\u001b[0m\u001b[1;33m,\u001b[0m \u001b[1;33m**\u001b[0m\u001b[0mkwargs\u001b[0m\u001b[1;33m)\u001b[0m\u001b[1;33m:\u001b[0m\u001b[1;33m\u001b[0m\u001b[1;33m\u001b[0m\u001b[0m\n\u001b[0;32m    722\u001b[0m     \u001b[0mfig\u001b[0m \u001b[1;33m=\u001b[0m \u001b[0mgcf\u001b[0m\u001b[1;33m(\u001b[0m\u001b[1;33m)\u001b[0m\u001b[1;33m\u001b[0m\u001b[1;33m\u001b[0m\u001b[0m\n\u001b[1;32m--> 723\u001b[1;33m     \u001b[0mres\u001b[0m \u001b[1;33m=\u001b[0m \u001b[0mfig\u001b[0m\u001b[1;33m.\u001b[0m\u001b[0msavefig\u001b[0m\u001b[1;33m(\u001b[0m\u001b[1;33m*\u001b[0m\u001b[0margs\u001b[0m\u001b[1;33m,\u001b[0m \u001b[1;33m**\u001b[0m\u001b[0mkwargs\u001b[0m\u001b[1;33m)\u001b[0m\u001b[1;33m\u001b[0m\u001b[1;33m\u001b[0m\u001b[0m\n\u001b[0m\u001b[0;32m    724\u001b[0m     \u001b[0mfig\u001b[0m\u001b[1;33m.\u001b[0m\u001b[0mcanvas\u001b[0m\u001b[1;33m.\u001b[0m\u001b[0mdraw_idle\u001b[0m\u001b[1;33m(\u001b[0m\u001b[1;33m)\u001b[0m   \u001b[1;31m# need this if 'transparent=True' to reset colors\u001b[0m\u001b[1;33m\u001b[0m\u001b[1;33m\u001b[0m\u001b[0m\n\u001b[0;32m    725\u001b[0m     \u001b[1;32mreturn\u001b[0m \u001b[0mres\u001b[0m\u001b[1;33m\u001b[0m\u001b[1;33m\u001b[0m\u001b[0m\n",
      "\u001b[1;32m~\\Anaconda3\\lib\\site-packages\\matplotlib\\figure.py\u001b[0m in \u001b[0;36msavefig\u001b[1;34m(self, fname, transparent, **kwargs)\u001b[0m\n\u001b[0;32m   2201\u001b[0m             \u001b[0mself\u001b[0m\u001b[1;33m.\u001b[0m\u001b[0mpatch\u001b[0m\u001b[1;33m.\u001b[0m\u001b[0mset_visible\u001b[0m\u001b[1;33m(\u001b[0m\u001b[0mframeon\u001b[0m\u001b[1;33m)\u001b[0m\u001b[1;33m\u001b[0m\u001b[1;33m\u001b[0m\u001b[0m\n\u001b[0;32m   2202\u001b[0m \u001b[1;33m\u001b[0m\u001b[0m\n\u001b[1;32m-> 2203\u001b[1;33m         \u001b[0mself\u001b[0m\u001b[1;33m.\u001b[0m\u001b[0mcanvas\u001b[0m\u001b[1;33m.\u001b[0m\u001b[0mprint_figure\u001b[0m\u001b[1;33m(\u001b[0m\u001b[0mfname\u001b[0m\u001b[1;33m,\u001b[0m \u001b[1;33m**\u001b[0m\u001b[0mkwargs\u001b[0m\u001b[1;33m)\u001b[0m\u001b[1;33m\u001b[0m\u001b[1;33m\u001b[0m\u001b[0m\n\u001b[0m\u001b[0;32m   2204\u001b[0m \u001b[1;33m\u001b[0m\u001b[0m\n\u001b[0;32m   2205\u001b[0m         \u001b[1;32mif\u001b[0m \u001b[0mframeon\u001b[0m\u001b[1;33m:\u001b[0m\u001b[1;33m\u001b[0m\u001b[1;33m\u001b[0m\u001b[0m\n",
      "\u001b[1;32m~\\Anaconda3\\lib\\site-packages\\matplotlib\\backend_bases.py\u001b[0m in \u001b[0;36mprint_figure\u001b[1;34m(self, filename, dpi, facecolor, edgecolor, orientation, format, bbox_inches, **kwargs)\u001b[0m\n\u001b[0;32m   2124\u001b[0m                     \u001b[0morientation\u001b[0m\u001b[1;33m=\u001b[0m\u001b[0morientation\u001b[0m\u001b[1;33m,\u001b[0m\u001b[1;33m\u001b[0m\u001b[1;33m\u001b[0m\u001b[0m\n\u001b[0;32m   2125\u001b[0m                     \u001b[0mbbox_inches_restore\u001b[0m\u001b[1;33m=\u001b[0m\u001b[0m_bbox_inches_restore\u001b[0m\u001b[1;33m,\u001b[0m\u001b[1;33m\u001b[0m\u001b[1;33m\u001b[0m\u001b[0m\n\u001b[1;32m-> 2126\u001b[1;33m                     **kwargs)\n\u001b[0m\u001b[0;32m   2127\u001b[0m             \u001b[1;32mfinally\u001b[0m\u001b[1;33m:\u001b[0m\u001b[1;33m\u001b[0m\u001b[1;33m\u001b[0m\u001b[0m\n\u001b[0;32m   2128\u001b[0m                 \u001b[1;32mif\u001b[0m \u001b[0mbbox_inches\u001b[0m \u001b[1;32mand\u001b[0m \u001b[0mrestore_bbox\u001b[0m\u001b[1;33m:\u001b[0m\u001b[1;33m\u001b[0m\u001b[1;33m\u001b[0m\u001b[0m\n",
      "\u001b[1;32m~\\Anaconda3\\lib\\site-packages\\matplotlib\\backends\\backend_agg.py\u001b[0m in \u001b[0;36mprint_png\u001b[1;34m(self, filename_or_obj, metadata, pil_kwargs, *args, **kwargs)\u001b[0m\n\u001b[0;32m    533\u001b[0m         \u001b[1;32melse\u001b[0m\u001b[1;33m:\u001b[0m\u001b[1;33m\u001b[0m\u001b[1;33m\u001b[0m\u001b[0m\n\u001b[0;32m    534\u001b[0m             \u001b[0mrenderer\u001b[0m \u001b[1;33m=\u001b[0m \u001b[0mself\u001b[0m\u001b[1;33m.\u001b[0m\u001b[0mget_renderer\u001b[0m\u001b[1;33m(\u001b[0m\u001b[1;33m)\u001b[0m\u001b[1;33m\u001b[0m\u001b[1;33m\u001b[0m\u001b[0m\n\u001b[1;32m--> 535\u001b[1;33m             \u001b[1;32mwith\u001b[0m \u001b[0mcbook\u001b[0m\u001b[1;33m.\u001b[0m\u001b[0mopen_file_cm\u001b[0m\u001b[1;33m(\u001b[0m\u001b[0mfilename_or_obj\u001b[0m\u001b[1;33m,\u001b[0m \u001b[1;34m\"wb\"\u001b[0m\u001b[1;33m)\u001b[0m \u001b[1;32mas\u001b[0m \u001b[0mfh\u001b[0m\u001b[1;33m:\u001b[0m\u001b[1;33m\u001b[0m\u001b[1;33m\u001b[0m\u001b[0m\n\u001b[0m\u001b[0;32m    536\u001b[0m                 _png.write_png(renderer._renderer, fh, self.figure.dpi,\n\u001b[0;32m    537\u001b[0m                                metadata={**default_metadata, **metadata})\n",
      "\u001b[1;32m~\\Anaconda3\\lib\\contextlib.py\u001b[0m in \u001b[0;36m__enter__\u001b[1;34m(self)\u001b[0m\n\u001b[0;32m     79\u001b[0m     \u001b[1;32mdef\u001b[0m \u001b[0m__enter__\u001b[0m\u001b[1;33m(\u001b[0m\u001b[0mself\u001b[0m\u001b[1;33m)\u001b[0m\u001b[1;33m:\u001b[0m\u001b[1;33m\u001b[0m\u001b[1;33m\u001b[0m\u001b[0m\n\u001b[0;32m     80\u001b[0m         \u001b[1;32mtry\u001b[0m\u001b[1;33m:\u001b[0m\u001b[1;33m\u001b[0m\u001b[1;33m\u001b[0m\u001b[0m\n\u001b[1;32m---> 81\u001b[1;33m             \u001b[1;32mreturn\u001b[0m \u001b[0mnext\u001b[0m\u001b[1;33m(\u001b[0m\u001b[0mself\u001b[0m\u001b[1;33m.\u001b[0m\u001b[0mgen\u001b[0m\u001b[1;33m)\u001b[0m\u001b[1;33m\u001b[0m\u001b[1;33m\u001b[0m\u001b[0m\n\u001b[0m\u001b[0;32m     82\u001b[0m         \u001b[1;32mexcept\u001b[0m \u001b[0mStopIteration\u001b[0m\u001b[1;33m:\u001b[0m\u001b[1;33m\u001b[0m\u001b[1;33m\u001b[0m\u001b[0m\n\u001b[0;32m     83\u001b[0m             \u001b[1;32mraise\u001b[0m \u001b[0mRuntimeError\u001b[0m\u001b[1;33m(\u001b[0m\u001b[1;34m\"generator didn't yield\"\u001b[0m\u001b[1;33m)\u001b[0m \u001b[1;32mfrom\u001b[0m \u001b[1;32mNone\u001b[0m\u001b[1;33m\u001b[0m\u001b[1;33m\u001b[0m\u001b[0m\n",
      "\u001b[1;32m~\\Anaconda3\\lib\\site-packages\\matplotlib\\cbook\\__init__.py\u001b[0m in \u001b[0;36mopen_file_cm\u001b[1;34m(path_or_file, mode, encoding)\u001b[0m\n\u001b[0;32m    416\u001b[0m \u001b[1;32mdef\u001b[0m \u001b[0mopen_file_cm\u001b[0m\u001b[1;33m(\u001b[0m\u001b[0mpath_or_file\u001b[0m\u001b[1;33m,\u001b[0m \u001b[0mmode\u001b[0m\u001b[1;33m=\u001b[0m\u001b[1;34m\"r\"\u001b[0m\u001b[1;33m,\u001b[0m \u001b[0mencoding\u001b[0m\u001b[1;33m=\u001b[0m\u001b[1;32mNone\u001b[0m\u001b[1;33m)\u001b[0m\u001b[1;33m:\u001b[0m\u001b[1;33m\u001b[0m\u001b[1;33m\u001b[0m\u001b[0m\n\u001b[0;32m    417\u001b[0m     \u001b[1;34mr\"\"\"Pass through file objects and context-manage `.PathLike`\\s.\"\"\"\u001b[0m\u001b[1;33m\u001b[0m\u001b[1;33m\u001b[0m\u001b[0m\n\u001b[1;32m--> 418\u001b[1;33m     \u001b[0mfh\u001b[0m\u001b[1;33m,\u001b[0m \u001b[0mopened\u001b[0m \u001b[1;33m=\u001b[0m \u001b[0mto_filehandle\u001b[0m\u001b[1;33m(\u001b[0m\u001b[0mpath_or_file\u001b[0m\u001b[1;33m,\u001b[0m \u001b[0mmode\u001b[0m\u001b[1;33m,\u001b[0m \u001b[1;32mTrue\u001b[0m\u001b[1;33m,\u001b[0m \u001b[0mencoding\u001b[0m\u001b[1;33m)\u001b[0m\u001b[1;33m\u001b[0m\u001b[1;33m\u001b[0m\u001b[0m\n\u001b[0m\u001b[0;32m    419\u001b[0m     \u001b[1;32mif\u001b[0m \u001b[0mopened\u001b[0m\u001b[1;33m:\u001b[0m\u001b[1;33m\u001b[0m\u001b[1;33m\u001b[0m\u001b[0m\n\u001b[0;32m    420\u001b[0m         \u001b[1;32mwith\u001b[0m \u001b[0mfh\u001b[0m\u001b[1;33m:\u001b[0m\u001b[1;33m\u001b[0m\u001b[1;33m\u001b[0m\u001b[0m\n",
      "\u001b[1;32m~\\Anaconda3\\lib\\site-packages\\matplotlib\\cbook\\__init__.py\u001b[0m in \u001b[0;36mto_filehandle\u001b[1;34m(fname, flag, return_opened, encoding)\u001b[0m\n\u001b[0;32m    401\u001b[0m             \u001b[0mfh\u001b[0m \u001b[1;33m=\u001b[0m \u001b[0mbz2\u001b[0m\u001b[1;33m.\u001b[0m\u001b[0mBZ2File\u001b[0m\u001b[1;33m(\u001b[0m\u001b[0mfname\u001b[0m\u001b[1;33m,\u001b[0m \u001b[0mflag\u001b[0m\u001b[1;33m)\u001b[0m\u001b[1;33m\u001b[0m\u001b[1;33m\u001b[0m\u001b[0m\n\u001b[0;32m    402\u001b[0m         \u001b[1;32melse\u001b[0m\u001b[1;33m:\u001b[0m\u001b[1;33m\u001b[0m\u001b[1;33m\u001b[0m\u001b[0m\n\u001b[1;32m--> 403\u001b[1;33m             \u001b[0mfh\u001b[0m \u001b[1;33m=\u001b[0m \u001b[0mopen\u001b[0m\u001b[1;33m(\u001b[0m\u001b[0mfname\u001b[0m\u001b[1;33m,\u001b[0m \u001b[0mflag\u001b[0m\u001b[1;33m,\u001b[0m \u001b[0mencoding\u001b[0m\u001b[1;33m=\u001b[0m\u001b[0mencoding\u001b[0m\u001b[1;33m)\u001b[0m\u001b[1;33m\u001b[0m\u001b[1;33m\u001b[0m\u001b[0m\n\u001b[0m\u001b[0;32m    404\u001b[0m         \u001b[0mopened\u001b[0m \u001b[1;33m=\u001b[0m \u001b[1;32mTrue\u001b[0m\u001b[1;33m\u001b[0m\u001b[1;33m\u001b[0m\u001b[0m\n\u001b[0;32m    405\u001b[0m     \u001b[1;32melif\u001b[0m \u001b[0mhasattr\u001b[0m\u001b[1;33m(\u001b[0m\u001b[0mfname\u001b[0m\u001b[1;33m,\u001b[0m \u001b[1;34m'seek'\u001b[0m\u001b[1;33m)\u001b[0m\u001b[1;33m:\u001b[0m\u001b[1;33m\u001b[0m\u001b[1;33m\u001b[0m\u001b[0m\n",
      "\u001b[1;31mFileNotFoundError\u001b[0m: [Errno 2] No such file or directory: 'D:\\\\vm_exchange\\\\AVIFORUM\\\\data\\\\extracted_info_experiment2_VFVFVF\\\\visual\\\\for_verification\\\\VFVFVF__percentage_lost_duration_during_bining2019-10-22_2020-07-18.png'"
     ]
    },
    {
     "data": {
      "image/png": "[encoded data removed]",
      "text/plain": [
       "<Figure size 864x432 with 1 Axes>"
      ]
     },
     "metadata": {
      "needs_background": "light"
     },
     "output_type": "display_data"
    }
   ],
   "source": [
    "#this script is temporaire\n",
    "li_path = glob.glob(os.path.join(path_extracted_data, 'HensTimeSeries', id_run+'_ts_MostFrequentZone_period*.csv'))\n",
    "\n",
    "dico_mi_li_df = {}\n",
    "for path_ in tqdm.tqdm(li_path):\n",
    "    h = 'hen_'+path_.split('hen_')[1][:-4]\n",
    "    if 'VERIFICATION' not in path_:\n",
    "        period = int(path_.split('period')[1].split('_')[0])\n",
    "        df_ = pd.read_csv(path_, sep=';', parse_dates=['New_Timestamp'])\n",
    "        d1 = path_.split('period')[1].split('_')[1]\n",
    "        d2 = path_.split('period')[1].split('_')[2]\n",
    "        mi=dt.datetime(int(d1[0:4]),int(d1[5:7]),int(d1[8:]),0,0,0)\n",
    "        ma=dt.datetime(int(d2[0:4]),int(d2[5:7]),int(d2[8:]),23,59,59)\n",
    "        n = str(mi)+'   '+str(ma)\n",
    "        df_['HenID'] = h\n",
    "        #if 'nbr_lost_duration_per_zone' in df_.columns:\n",
    "        df_['nbr_lost_duration_per_zone'] = df_['nbr_lost_duration_per_zone'].map(lambda x: eval(x))\n",
    "        dico_ = dict(functools.reduce(operator.add, map(collections.Counter, df_['nbr_lost_duration_per_zone'].tolist()))) \n",
    "        df_['nbr_duration_per_zone'] = df_['nbr_duration_per_zone'].map(lambda x: eval(x))\n",
    "        dico_all = dict(functools.reduce(operator.add, map(collections.Counter, df_['nbr_duration_per_zone'].tolist()))) \n",
    "        if n not in dico_mi_li_df:\n",
    "            dico_mi_li_df[n] = []\n",
    "        for z in dico_all.keys():\n",
    "            dico_mi_li_df[n].append({'period':period, 'HenID':h, \n",
    "                                     'percentage_lost_duration':dico_.get(z,0)/dico_all[z]*100, 'zone': z})\n",
    "\n",
    "#plot\n",
    "for n, li_df in dico_mi_li_df.items():\n",
    "    df_plot = pd.DataFrame(li_df)\n",
    "    #plot for each datarange a plot showing the evolution of duration lost per zone and period\n",
    "    fig, ax = plt.subplots(figsize=(12,6))\n",
    "    ax = sns.boxplot(x=\"period\", y=\"percentage_lost_duration\", hue=\"zone\", data=df_plot) #, palette=\"Set3\")\n",
    "    plt.title(n)\n",
    "    plt.savefig(os.path.join(path_extracted_data,'visual','for_verification', \n",
    "                             id_run+'_percentage_lost_duration_during_bining'+n.split(':')[0][:-3]+'_'+n.split(':')[2][5:-3]+'.png'), dpi=300,\n",
    "                             format='png', bbox_inches='tight')\n",
    "    plt.show()\n",
    "\n",
    "#-->zone 1: si flickering pas possible peut-être que nous devrons le garder en plus deu bining, puis choisir un bining \n",
    "#plus petit ou égale à 5mn peut etre :) "
   ]
  },
  {
   "cell_type": "code",
   "execution_count": null,
   "metadata": {},
   "outputs": [],
   "source": []
  },
  {
   "cell_type": "code",
   "execution_count": null,
   "metadata": {},
   "outputs": [],
   "source": []
  },
  {
   "cell_type": "code",
   "execution_count": null,
   "metadata": {},
   "outputs": [],
   "source": []
  },
  {
   "cell_type": "code",
   "execution_count": null,
   "metadata": {},
   "outputs": [],
   "source": []
  },
  {
   "cell_type": "code",
   "execution_count": null,
   "metadata": {},
   "outputs": [],
   "source": []
  },
  {
   "cell_type": "code",
   "execution_count": null,
   "metadata": {},
   "outputs": [],
   "source": []
  },
  {
   "cell_type": "code",
   "execution_count": null,
   "metadata": {},
   "outputs": [],
   "source": []
  },
  {
   "cell_type": "code",
   "execution_count": null,
   "metadata": {},
   "outputs": [],
   "source": []
  }
 ],
 "metadata": {
  "kernelspec": {
   "display_name": "Python 3",
   "language": "python",
   "name": "python3"
  },
  "language_info": {
   "codemirror_mode": {
    "name": "ipython",
    "version": 3
   },
   "file_extension": ".py",
   "mimetype": "text/x-python",
   "name": "python",
   "nbconvert_exporter": "python",
   "pygments_lexer": "ipython3",
   "version": "3.6.10"
  }
 },
 "nbformat": 4,
 "nbformat_minor": 2
}
