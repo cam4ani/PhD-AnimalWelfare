{
 "cells": [
  {
   "cell_type": "code",
   "execution_count": 1,
   "metadata": {},
   "outputs": [],
   "source": [
    "#basic package\n",
    "import tqdm\n",
    "import os\n",
    "import numpy as np\n",
    "import glob\n",
    "import pandas as pd\n",
    "import sys\n",
    "import time\n",
    "import datetime as dt\n",
    "import itertools\n",
    "import re\n",
    "import math\n",
    "from collections import Counter\n",
    "import operator\n",
    "from scipy import stats\n",
    "import random\n",
    "from sklearn.preprocessing import normalize\n",
    "import pickle\n",
    "from collections import defaultdict\n",
    "from scipy.stats import pearsonr, spearmanr\n",
    "import random\n",
    "import statistics as st #for the mode\n",
    "from sklearn.utils import shuffle\n",
    "import random\n",
    "from scipy import stats\n",
    "\n",
    "#PCA\n",
    "import plotly.express as px\n",
    "from sklearn.decomposition import PCA\n",
    "from sklearn import preprocessing\n",
    "\n",
    "#plot\n",
    "import matplotlib.pyplot as plt\n",
    "import seaborn as sns"
   ]
  },
  {
   "cell_type": "code",
   "execution_count": 2,
   "metadata": {},
   "outputs": [
    {
     "name": "stdout",
     "output_type": "stream",
     "text": [
      "2\n"
     ]
    },
    {
     "name": "stderr",
     "output_type": "stream",
     "text": [
      "C:\\Users\\camil\\anaconda3\\lib\\site-packages\\scipy\\sparse\\sparsetools.py:21: DeprecationWarning: `scipy.sparse.sparsetools` is deprecated!\n",
      "scipy.sparse.sparsetools is a private module for scipy.sparse, and should not be used.\n",
      "  _deprecated()\n"
     ]
    }
   ],
   "source": [
    "PACKAGE_PARENT = '../'\n",
    "SCRIPT_DIR = os.path.dirname(os.path.realpath(os.path.join(os.getcwd(), os.path.expanduser('__file__'))))\n",
    "sys.path.append(os.path.normpath(os.path.join(SCRIPT_DIR, PACKAGE_PARENT)))\n",
    "from UTILS import kmeans_clustering, sampen, chi2_distance, ts_visual, correct_key, chi2_distance, most_frequent, mssd\n",
    "import config_origins as config"
   ]
  },
  {
   "cell_type": "markdown",
   "metadata": {},
   "source": [
    "# Define parameters"
   ]
  },
  {
   "cell_type": "code",
   "execution_count": 3,
   "metadata": {
    "scrolled": true
   },
   "outputs": [
    {
     "name": "stdout",
     "output_type": "stream",
     "text": [
      "change the configuration file if not done yet!\n",
      "ALLDATA_\n"
     ]
    },
    {
     "name": "stderr",
     "output_type": "stream",
     "text": [
      "C:\\Users\\camil\\anaconda3\\lib\\site-packages\\ipykernel\\ipkernel.py:283: DeprecationWarning: `should_run_async` will not call `transform_cell` automatically in the future. Please pass the result to `transformed_cell` argument and any exception that happen during thetransform in `preprocessing_exc_tuple` in IPython 7.17 and above.\n",
      "  and should_run_async(code)\n"
     ]
    }
   ],
   "source": [
    "print('change the configuration file if not done yet!')\n",
    "path_extracted_data = config.path_extracted_data\n",
    "path_initial_data = config.path_initial_data\n",
    "id_run = config.id_run\n",
    "dico_matching = config.dico_matching\n",
    "li_binmn = config.li_binmn\n",
    "pal_class_treat = config.pal_class_treat\n",
    "pal_treat = config.pal_treat\n",
    "pal_class = config.pal_class\n",
    "birth_date = config.birth_date\n",
    "dico_night_hour = config.dico_night_hour\n",
    "pal_interintre_treatment = config.pal_interintre_treatment\n",
    "max_date_adaptability = config.max_date_adaptability\n",
    "dico_pen_tr = config.dico_pen_tr\n",
    "path_extracted_data_visual = os.path.join(path_extracted_data,'visual')\n",
    "path_extracted_data_visual_corr = os.path.join(path_extracted_data,'visual','correlation')\n",
    "if not os.path.exists(path_extracted_data_visual_corr):\n",
    "    os.makedirs(path_extracted_data_visual_corr)\n",
    "path_extracted_data_adap = os.path.join(path_extracted_data,'Adaptability')\n",
    "print(id_run)"
   ]
  },
  {
   "cell_type": "markdown",
   "metadata": {},
   "source": [
    "# Download data"
   ]
  },
  {
   "cell_type": "code",
   "execution_count": 4,
   "metadata": {},
   "outputs": [
    {
     "name": "stdout",
     "output_type": "stream",
     "text": [
      "130\n"
     ]
    },
    {
     "name": "stderr",
     "output_type": "stream",
     "text": [
      "C:\\Users\\camil\\anaconda3\\lib\\site-packages\\ipykernel\\ipkernel.py:283: DeprecationWarning: `should_run_async` will not call `transform_cell` automatically in the future. Please pass the result to `transformed_cell` argument and any exception that happen during thetransform in `preprocessing_exc_tuple` in IPython 7.17 and above.\n",
      "  and should_run_async(code)\n"
     ]
    }
   ],
   "source": [
    "li_selected_hens = pickle.load(open(os.path.join(path_extracted_data_adap, 'li_selected_hens.pkl'), 'rb'))\n",
    "print(len(li_selected_hens))"
   ]
  },
  {
   "cell_type": "code",
   "execution_count": 5,
   "metadata": {},
   "outputs": [
    {
     "name": "stderr",
     "output_type": "stream",
     "text": [
      "C:\\Users\\camil\\anaconda3\\lib\\site-packages\\ipykernel\\ipkernel.py:283: DeprecationWarning: `should_run_async` will not call `transform_cell` automatically in the future. Please pass the result to `transformed_cell` argument and any exception that happen during thetransform in `preprocessing_exc_tuple` in IPython 7.17 and above.\n",
      "  and should_run_async(code)\n"
     ]
    },
    {
     "data": {
      "text/plain": [
       "0.0    222\n",
       "1.0     10\n",
       "Name: early_death, dtype: int64"
      ]
     },
     "metadata": {},
     "output_type": "display_data"
    },
    {
     "name": "stdout",
     "output_type": "stream",
     "text": [
      "(232, 14)\n"
     ]
    },
    {
     "data": {
      "text/html": [
       "<div>\n",
       "<style scoped>\n",
       "    .dataframe tbody tr th:only-of-type {\n",
       "        vertical-align: middle;\n",
       "    }\n",
       "\n",
       "    .dataframe tbody tr th {\n",
       "        vertical-align: top;\n",
       "    }\n",
       "\n",
       "    .dataframe thead th {\n",
       "        text-align: right;\n",
       "    }\n",
       "</style>\n",
       "<table border=\"1\" class=\"dataframe\">\n",
       "  <thead>\n",
       "    <tr style=\"text-align: right;\">\n",
       "      <th></th>\n",
       "      <th>HenID</th>\n",
       "      <th>PenID</th>\n",
       "      <th>CLASS</th>\n",
       "      <th>RearingPenID</th>\n",
       "      <th>InitialStartDate</th>\n",
       "      <th>early_death</th>\n",
       "      <th>InitialWeight</th>\n",
       "      <th>10-12 juin weight</th>\n",
       "      <th>weight 23-11-2020</th>\n",
       "      <th>weight 04-01-2021</th>\n",
       "      <th>weight 01-02-21</th>\n",
       "      <th>weight 12-04-21</th>\n",
       "      <th>weight 26-07-21</th>\n",
       "      <th>Treatment</th>\n",
       "    </tr>\n",
       "  </thead>\n",
       "  <tbody>\n",
       "    <tr>\n",
       "      <th>0</th>\n",
       "      <td>hen_1</td>\n",
       "      <td>pen9</td>\n",
       "      <td>EPI</td>\n",
       "      <td>1.0</td>\n",
       "      <td>2020-06-10</td>\n",
       "      <td>0.0</td>\n",
       "      <td>1134.0</td>\n",
       "      <td>57.0</td>\n",
       "      <td>1696.5</td>\n",
       "      <td>1787.8</td>\n",
       "      <td>1800.9</td>\n",
       "      <td>NaN</td>\n",
       "      <td>NaN</td>\n",
       "      <td>OFH</td>\n",
       "    </tr>\n",
       "    <tr>\n",
       "      <th>1</th>\n",
       "      <td>hen_10</td>\n",
       "      <td>pen11</td>\n",
       "      <td>LEXP</td>\n",
       "      <td>1.0</td>\n",
       "      <td>2020-06-10</td>\n",
       "      <td>0.0</td>\n",
       "      <td>1070.0</td>\n",
       "      <td>70.4</td>\n",
       "      <td>1488.3</td>\n",
       "      <td>1628.4</td>\n",
       "      <td>1602.1</td>\n",
       "      <td>1587.2</td>\n",
       "      <td>1713.4</td>\n",
       "      <td>OFH</td>\n",
       "    </tr>\n",
       "    <tr>\n",
       "      <th>2</th>\n",
       "      <td>hen_100</td>\n",
       "      <td>pen5</td>\n",
       "      <td>EPI</td>\n",
       "      <td>3.0</td>\n",
       "      <td>2020-06-10</td>\n",
       "      <td>0.0</td>\n",
       "      <td>1182.0</td>\n",
       "      <td>80.5</td>\n",
       "      <td>1642.5</td>\n",
       "      <td>NaN</td>\n",
       "      <td>NaN</td>\n",
       "      <td>NaN</td>\n",
       "      <td>NaN</td>\n",
       "      <td>OFH</td>\n",
       "    </tr>\n",
       "  </tbody>\n",
       "</table>\n",
       "</div>"
      ],
      "text/plain": [
       "     HenID  PenID CLASS  RearingPenID InitialStartDate  early_death  \\\n",
       "0    hen_1   pen9   EPI           1.0       2020-06-10          0.0   \n",
       "1   hen_10  pen11  LEXP           1.0       2020-06-10          0.0   \n",
       "2  hen_100   pen5   EPI           3.0       2020-06-10          0.0   \n",
       "\n",
       "   InitialWeight  10-12 juin weight  weight 23-11-2020  weight 04-01-2021  \\\n",
       "0         1134.0               57.0             1696.5             1787.8   \n",
       "1         1070.0               70.4             1488.3             1628.4   \n",
       "2         1182.0               80.5             1642.5                NaN   \n",
       "\n",
       "   weight 01-02-21  weight 12-04-21  weight 26-07-21 Treatment  \n",
       "0           1800.9              NaN              NaN       OFH  \n",
       "1           1602.1           1587.2           1713.4       OFH  \n",
       "2              NaN              NaN              NaN       OFH  "
      ]
     },
     "execution_count": 5,
     "metadata": {},
     "output_type": "execute_result"
    }
   ],
   "source": [
    "#focal birds info to control for some variables\n",
    "df_FB = pd.read_csv(os.path.join(config.path_extracted_data, id_run+'df_FOCALBIRDS.csv'), sep=';')\n",
    "df_FB['early_death'] = df_FB['early_death'].fillna(0).replace(2,1) #2 means not sure\n",
    "df_FB.rename(columns={'29-09 weight':'InitialWeight','R-Pen':'RearingPenID'}, inplace=True)\n",
    "display(df_FB['early_death'].value_counts())\n",
    "print(df_FB.shape)\n",
    "df_FB.head(3)"
   ]
  },
  {
   "cell_type": "code",
   "execution_count": 6,
   "metadata": {},
   "outputs": [
    {
     "name": "stderr",
     "output_type": "stream",
     "text": [
      "C:\\Users\\camil\\anaconda3\\lib\\site-packages\\ipykernel\\ipkernel.py:283: DeprecationWarning: `should_run_async` will not call `transform_cell` automatically in the future. Please pass the result to `transformed_cell` argument and any exception that happen during thetransform in `preprocessing_exc_tuple` in IPython 7.17 and above.\n",
      "  and should_run_async(code)\n"
     ]
    },
    {
     "name": "stdout",
     "output_type": "stream",
     "text": [
      "(846, 58)\n",
      "(534, 58)\n"
     ]
    },
    {
     "data": {
      "text/html": [
       "<div>\n",
       "<style scoped>\n",
       "    .dataframe tbody tr th:only-of-type {\n",
       "        vertical-align: middle;\n",
       "    }\n",
       "\n",
       "    .dataframe tbody tr th {\n",
       "        vertical-align: top;\n",
       "    }\n",
       "\n",
       "    .dataframe thead th {\n",
       "        text-align: right;\n",
       "    }\n",
       "</style>\n",
       "<table border=\"1\" class=\"dataframe\">\n",
       "  <thead>\n",
       "    <tr style=\"text-align: right;\">\n",
       "      <th></th>\n",
       "      <th>Person_toe</th>\n",
       "      <th>Time</th>\n",
       "      <th>PenID</th>\n",
       "      <th>FocalLegringName</th>\n",
       "      <th>BirdType</th>\n",
       "      <th>CombPecks</th>\n",
       "      <th>Toes</th>\n",
       "      <th>RFPododermatitis</th>\n",
       "      <th>RFBumblefoot</th>\n",
       "      <th>RFinjuries</th>\n",
       "      <th>...</th>\n",
       "      <th>actual_path_img</th>\n",
       "      <th>imageID</th>\n",
       "      <th>random_order1</th>\n",
       "      <th>severity</th>\n",
       "      <th>has_gap</th>\n",
       "      <th>BirdID</th>\n",
       "      <th>uncertainty (0:certain:1 random)</th>\n",
       "      <th>Unnamed: 9</th>\n",
       "      <th>Info</th>\n",
       "      <th>backpack</th>\n",
       "    </tr>\n",
       "  </thead>\n",
       "  <tbody>\n",
       "    <tr>\n",
       "      <th>2</th>\n",
       "      <td>Camille</td>\n",
       "      <td>10:30</td>\n",
       "      <td>pen5</td>\n",
       "      <td>2green</td>\n",
       "      <td>normal</td>\n",
       "      <td>130.0</td>\n",
       "      <td>NaN</td>\n",
       "      <td>25.0</td>\n",
       "      <td>0.0</td>\n",
       "      <td>0.0</td>\n",
       "      <td>...</td>\n",
       "      <td>G:\\VPHI\\Welfare\\2- Research Projects\\OFHE2.Ori...</td>\n",
       "      <td>482.0</td>\n",
       "      <td>428.0</td>\n",
       "      <td>4</td>\n",
       "      <td>0.0</td>\n",
       "      <td>2green5pp</td>\n",
       "      <td>NaN</td>\n",
       "      <td>NaN</td>\n",
       "      <td>['', '2', 'green', '5', 'pp']</td>\n",
       "      <td>pp</td>\n",
       "    </tr>\n",
       "    <tr>\n",
       "      <th>3</th>\n",
       "      <td>M</td>\n",
       "      <td>16:26</td>\n",
       "      <td>pen3</td>\n",
       "      <td>51grey</td>\n",
       "      <td>normal</td>\n",
       "      <td>100.0</td>\n",
       "      <td>NaN</td>\n",
       "      <td>0.0</td>\n",
       "      <td>0.0</td>\n",
       "      <td>0.0</td>\n",
       "      <td>...</td>\n",
       "      <td>G:\\VPHI\\Welfare\\2- Research Projects\\OFHE2.Ori...</td>\n",
       "      <td>214.0</td>\n",
       "      <td>238.0</td>\n",
       "      <td>40</td>\n",
       "      <td>1.0</td>\n",
       "      <td>51grey3sp</td>\n",
       "      <td>NaN</td>\n",
       "      <td>NaN</td>\n",
       "      <td>['', '51', 'grey', '3', 'sp']</td>\n",
       "      <td>sp</td>\n",
       "    </tr>\n",
       "    <tr>\n",
       "      <th>4</th>\n",
       "      <td>C</td>\n",
       "      <td>08:58</td>\n",
       "      <td>pen12</td>\n",
       "      <td>32orange</td>\n",
       "      <td>normal</td>\n",
       "      <td>25.0</td>\n",
       "      <td>NaN</td>\n",
       "      <td>0.0</td>\n",
       "      <td>0.0</td>\n",
       "      <td>0.0</td>\n",
       "      <td>...</td>\n",
       "      <td>G:\\VPHI\\Welfare\\2- Research Projects\\OFHE2.Ori...</td>\n",
       "      <td>68.0</td>\n",
       "      <td>319.0</td>\n",
       "      <td>2</td>\n",
       "      <td>0.0</td>\n",
       "      <td>32orange12sb</td>\n",
       "      <td>NaN</td>\n",
       "      <td>NaN</td>\n",
       "      <td>['', '32', 'orange', '12', 'sb']</td>\n",
       "      <td>sb</td>\n",
       "    </tr>\n",
       "  </tbody>\n",
       "</table>\n",
       "<p>3 rows × 58 columns</p>\n",
       "</div>"
      ],
      "text/plain": [
       "  Person_toe   Time  PenID FocalLegringName BirdType  CombPecks Toes  \\\n",
       "2    Camille  10:30   pen5           2green   normal      130.0  NaN   \n",
       "3          M  16:26   pen3           51grey   normal      100.0  NaN   \n",
       "4          C  08:58  pen12         32orange   normal       25.0  NaN   \n",
       "\n",
       "   RFPododermatitis  RFBumblefoot  RFinjuries  ...  \\\n",
       "2              25.0           0.0         0.0  ...   \n",
       "3               0.0           0.0         0.0  ...   \n",
       "4               0.0           0.0         0.0  ...   \n",
       "\n",
       "                                     actual_path_img  imageID  random_order1  \\\n",
       "2  G:\\VPHI\\Welfare\\2- Research Projects\\OFHE2.Ori...    482.0          428.0   \n",
       "3  G:\\VPHI\\Welfare\\2- Research Projects\\OFHE2.Ori...    214.0          238.0   \n",
       "4  G:\\VPHI\\Welfare\\2- Research Projects\\OFHE2.Ori...     68.0          319.0   \n",
       "\n",
       "   severity  has_gap        BirdID uncertainty (0:certain:1 random)  \\\n",
       "2         4      0.0     2green5pp                              NaN   \n",
       "3        40      1.0     51grey3sp                              NaN   \n",
       "4         2      0.0  32orange12sb                              NaN   \n",
       "\n",
       "  Unnamed: 9                              Info backpack  \n",
       "2        NaN     ['', '2', 'green', '5', 'pp']       pp  \n",
       "3        NaN     ['', '51', 'grey', '3', 'sp']       sp  \n",
       "4        NaN  ['', '32', 'orange', '12', 'sb']       sb  \n",
       "\n",
       "[3 rows x 58 columns]"
      ]
     },
     "execution_count": 6,
     "metadata": {},
     "output_type": "execute_result"
    }
   ],
   "source": [
    "#HA&KBF&weight\n",
    "df_HA = pd.read_csv(os.path.join(path_extracted_data, 'df_all_HA.csv'), sep=';', parse_dates=['date'], dayfirst=True) \n",
    "print(df_HA.shape)\n",
    "df_HA = df_HA[df_HA['HenID'].isin(li_selected_hens)]\n",
    "#display(df_HA.groupby(['HAID'])['date'].agg(lambda x: set(x)).reset_index())\n",
    "print(df_HA.shape)\n",
    "df_HA.head(3)"
   ]
  },
  {
   "cell_type": "code",
   "execution_count": 7,
   "metadata": {},
   "outputs": [
    {
     "name": "stderr",
     "output_type": "stream",
     "text": [
      "C:\\Users\\camil\\anaconda3\\lib\\site-packages\\ipykernel\\ipkernel.py:283: DeprecationWarning: `should_run_async` will not call `transform_cell` automatically in the future. Please pass the result to `transformed_cell` argument and any exception that happen during thetransform in `preprocessing_exc_tuple` in IPython 7.17 and above.\n",
      "  and should_run_async(code)\n"
     ]
    },
    {
     "name": "stdout",
     "output_type": "stream",
     "text": [
      "(42300, 63)\n",
      "(6105, 63)\n",
      "(6105, 63)\n"
     ]
    },
    {
     "data": {
      "text/html": [
       "<div>\n",
       "<style scoped>\n",
       "    .dataframe tbody tr th:only-of-type {\n",
       "        vertical-align: middle;\n",
       "    }\n",
       "\n",
       "    .dataframe tbody tr th {\n",
       "        vertical-align: top;\n",
       "    }\n",
       "\n",
       "    .dataframe thead th {\n",
       "        text-align: right;\n",
       "    }\n",
       "</style>\n",
       "<table border=\"1\" class=\"dataframe\">\n",
       "  <thead>\n",
       "    <tr style=\"text-align: right;\">\n",
       "      <th></th>\n",
       "      <th>HenID</th>\n",
       "      <th>PenID</th>\n",
       "      <th>CLASS</th>\n",
       "      <th>TagID</th>\n",
       "      <th>FocalLegringName</th>\n",
       "      <th>R-Pen</th>\n",
       "      <th>InitialStartDate</th>\n",
       "      <th>Treatment</th>\n",
       "      <th>level</th>\n",
       "      <th>DIB</th>\n",
       "      <th>...</th>\n",
       "      <th>percChaoticTransition</th>\n",
       "      <th>night_Max_duration_zones</th>\n",
       "      <th>is_mvt_night</th>\n",
       "      <th>empproba_3_Zone</th>\n",
       "      <th>empproba_4_Zone</th>\n",
       "      <th>empproba_2_Zone</th>\n",
       "      <th>in_WG_15mnAfterOpening</th>\n",
       "      <th>Max_duration_WG_h</th>\n",
       "      <th>perc_1_Zone_while_WG_open</th>\n",
       "      <th>SleepingHeight</th>\n",
       "    </tr>\n",
       "  </thead>\n",
       "  <tbody>\n",
       "    <tr>\n",
       "      <th>3</th>\n",
       "      <td>hen_131</td>\n",
       "      <td>pen10</td>\n",
       "      <td>EPI</td>\n",
       "      <td>tag_128</td>\n",
       "      <td>19black</td>\n",
       "      <td>4.0</td>\n",
       "      <td>2020-06-10 00:00:00</td>\n",
       "      <td>TRAN</td>\n",
       "      <td>2020-09-30</td>\n",
       "      <td>1</td>\n",
       "      <td>...</td>\n",
       "      <td>0.0</td>\n",
       "      <td>5_Zone</td>\n",
       "      <td>1.0</td>\n",
       "      <td>0.000000</td>\n",
       "      <td>0.000000</td>\n",
       "      <td>100.0</td>\n",
       "      <td>NaN</td>\n",
       "      <td>NaN</td>\n",
       "      <td>NaN</td>\n",
       "      <td>5</td>\n",
       "    </tr>\n",
       "    <tr>\n",
       "      <th>4</th>\n",
       "      <td>hen_131</td>\n",
       "      <td>pen10</td>\n",
       "      <td>EPI</td>\n",
       "      <td>tag_128</td>\n",
       "      <td>19black</td>\n",
       "      <td>4.0</td>\n",
       "      <td>2020-06-10 00:00:00</td>\n",
       "      <td>TRAN</td>\n",
       "      <td>2020-10-01</td>\n",
       "      <td>2</td>\n",
       "      <td>...</td>\n",
       "      <td>0.0</td>\n",
       "      <td>3_Zone</td>\n",
       "      <td>1.0</td>\n",
       "      <td>33.333333</td>\n",
       "      <td>50.000000</td>\n",
       "      <td>100.0</td>\n",
       "      <td>NaN</td>\n",
       "      <td>NaN</td>\n",
       "      <td>NaN</td>\n",
       "      <td>3</td>\n",
       "    </tr>\n",
       "    <tr>\n",
       "      <th>5</th>\n",
       "      <td>hen_131</td>\n",
       "      <td>pen10</td>\n",
       "      <td>EPI</td>\n",
       "      <td>tag_128</td>\n",
       "      <td>19black</td>\n",
       "      <td>4.0</td>\n",
       "      <td>2020-06-10 00:00:00</td>\n",
       "      <td>TRAN</td>\n",
       "      <td>2020-10-02</td>\n",
       "      <td>3</td>\n",
       "      <td>...</td>\n",
       "      <td>8.0</td>\n",
       "      <td>5_Zone</td>\n",
       "      <td>0.0</td>\n",
       "      <td>33.333333</td>\n",
       "      <td>66.666667</td>\n",
       "      <td>100.0</td>\n",
       "      <td>NaN</td>\n",
       "      <td>NaN</td>\n",
       "      <td>NaN</td>\n",
       "      <td>5</td>\n",
       "    </tr>\n",
       "  </tbody>\n",
       "</table>\n",
       "<p>3 rows × 63 columns</p>\n",
       "</div>"
      ],
      "text/plain": [
       "     HenID  PenID CLASS    TagID FocalLegringName  R-Pen     InitialStartDate  \\\n",
       "3  hen_131  pen10   EPI  tag_128          19black    4.0  2020-06-10 00:00:00   \n",
       "4  hen_131  pen10   EPI  tag_128          19black    4.0  2020-06-10 00:00:00   \n",
       "5  hen_131  pen10   EPI  tag_128          19black    4.0  2020-06-10 00:00:00   \n",
       "\n",
       "  Treatment      level  DIB  ...  percChaoticTransition  \\\n",
       "3      TRAN 2020-09-30    1  ...                    0.0   \n",
       "4      TRAN 2020-10-01    2  ...                    0.0   \n",
       "5      TRAN 2020-10-02    3  ...                    8.0   \n",
       "\n",
       "   night_Max_duration_zones  is_mvt_night  empproba_3_Zone empproba_4_Zone  \\\n",
       "3                    5_Zone           1.0         0.000000        0.000000   \n",
       "4                    3_Zone           1.0        33.333333       50.000000   \n",
       "5                    5_Zone           0.0        33.333333       66.666667   \n",
       "\n",
       "   empproba_2_Zone  in_WG_15mnAfterOpening  Max_duration_WG_h  \\\n",
       "3            100.0                     NaN                NaN   \n",
       "4            100.0                     NaN                NaN   \n",
       "5            100.0                     NaN                NaN   \n",
       "\n",
       "   perc_1_Zone_while_WG_open  SleepingHeight  \n",
       "3                        NaN               5  \n",
       "4                        NaN               3  \n",
       "5                        NaN               5  \n",
       "\n",
       "[3 rows x 63 columns]"
      ]
     },
     "execution_count": 7,
     "metadata": {},
     "output_type": "execute_result"
    }
   ],
   "source": [
    "#dailyMVT var\n",
    "df_MVT_ALL = pd.read_csv(os.path.join(path_extracted_data, id_run+'_daily_ALL_variables_verified.csv'), sep=';', \n",
    "                     parse_dates=['level'], dayfirst=True) \n",
    "print(df_MVT_ALL.shape)\n",
    "df_MVT_ALL = df_MVT_ALL[df_MVT_ALL['HenID'].isin(li_selected_hens)]\n",
    "#restrict to the adaptability study timeframe\n",
    "df_MVT_ALL = df_MVT_ALL[df_MVT_ALL['level']<=config.max_date_adaptability]\n",
    "print(df_MVT_ALL.shape)\n",
    "#make sure we have their mvt\n",
    "df_MVT_ALL = df_MVT_ALL[~df_MVT_ALL['perc_duration_5_Zone'].isnull()]\n",
    "print(df_MVT_ALL.shape)\n",
    "#df_HA[['HAID','date']].drop_duplicates()\n",
    "df_MVT_ALL.head(3)"
   ]
  },
  {
   "cell_type": "code",
   "execution_count": 8,
   "metadata": {},
   "outputs": [
    {
     "name": "stdout",
     "output_type": "stream",
     "text": [
      "['HenID', 'PenID', 'CLASS', 'TagID', 'FocalLegringName', 'R-Pen', 'InitialStartDate', 'Treatment', 'level', 'DIB', 'WIB', 'DOA', 'WOA', 'verification_daily_total_duration', 'TrackingSystemID', 'perc_duration_2_Zone', 'perc_duration_3_Zone', 'perc_duration_4_Zone', 'perc_duration_5_Zone', 'duration_1_Zone', 'duration_2_Zone', 'duration_3_Zone', 'duration_4_Zone', 'duration_5_Zone', 'nbr_stays_1_Zone', 'nbr_stays_2_Zone', 'nbr_stays_3_Zone', 'nbr_stays_4_Zone', 'nbr_stays_5_Zone', 'nbr_stays_1_Zone_perh', 'nbr_stays_2_Zone_perh', 'nbr_stays_3_Zone_perh', 'nbr_stays_4_Zone_perh', 'nbr_stays_5_Zone_perh', 'ratio_percdur_percstays_2_Zone', 'ratio_percdur_percstays_3_Zone', 'ratio_percdur_percstays_4_Zone', 'ratio_percdur_percstays_5_Zone', 'latency_2_Zone_h', 'latency_3_Zone_h', 'latency_4_Zone_h', 'latency_5_Zone_h', 'latency_since15mnnestbox_h', 'Total_number_transition', 'nbr_stays_total', 'distribution_entropy', 'Total_number_zone', 'Max_duration_zones', 'vertical_travel_distance', 'vertical_travel_distance_perh', 'activity_5percentile_h', 'activity_50percentile_h', 'activity_95percentile_h', 'percChaoticTransition', 'night_Max_duration_zones', 'is_mvt_night', 'empproba_3_Zone', 'empproba_4_Zone', 'empproba_2_Zone', 'in_WG_15mnAfterOpening', 'Max_duration_WG_h', 'perc_1_Zone_while_WG_open', 'SleepingHeight']\n"
     ]
    },
    {
     "name": "stderr",
     "output_type": "stream",
     "text": [
      "C:\\Users\\camil\\anaconda3\\lib\\site-packages\\ipykernel\\ipkernel.py:283: DeprecationWarning: `should_run_async` will not call `transform_cell` automatically in the future. Please pass the result to `transformed_cell` argument and any exception that happen during thetransform in `preprocessing_exc_tuple` in IPython 7.17 and above.\n",
      "  and should_run_async(code)\n"
     ]
    }
   ],
   "source": [
    "print(list(df_MVT_ALL))"
   ]
  },
  {
   "cell_type": "code",
   "execution_count": 9,
   "metadata": {
    "scrolled": false
   },
   "outputs": [
    {
     "name": "stderr",
     "output_type": "stream",
     "text": [
      "C:\\Users\\camil\\anaconda3\\lib\\site-packages\\ipykernel\\ipkernel.py:283: DeprecationWarning: `should_run_async` will not call `transform_cell` automatically in the future. Please pass the result to `transformed_cell` argument and any exception that happen during thetransform in `preprocessing_exc_tuple` in IPython 7.17 and above.\n",
      "  and should_run_async(code)\n"
     ]
    },
    {
     "data": {
      "image/png": "[encoded data removed]",
      "text/plain": [
       "<Figure size 432x288 with 2 Axes>"
      ]
     },
     "metadata": {
      "needs_background": "light"
     },
     "output_type": "display_data"
    }
   ],
   "source": [
    "for var in ['vertical_travel_distance_perh']:\n",
    "    df_corr = df_MVT_ALL.groupby(['WIB','HenID'])[var].agg(lambda x: np.mean(x)).reset_index()\n",
    "    df_corr = df_corr.pivot(index='HenID', columns='WIB', values=var).reset_index()\n",
    "    df_corr\n",
    "    li_dico = []\n",
    "    M = np.zeros(shape=(8,8))\n",
    "    for i in range(1,8):\n",
    "        for j in range(i+1,9):\n",
    "            coeff, p_val = pearsonr(df_corr[i].tolist(), df_corr[j].tolist())\n",
    "            coeff_np, p_val_np = spearmanr(df_corr[i].tolist(), df_corr[j].tolist())\n",
    "            if p_val<0.05:\n",
    "                M[i-1][j-1] = coeff_np\n",
    "                M[j-1][i-1] = coeff_np\n",
    "            else:\n",
    "                M[i-1][j-1] = 0\n",
    "                M[j-1][i-1] = 0\n",
    "            li_dico.append({'WIB1':i,'WIB2':j,'coeff':coeff, 'p_val':p_val, 'coeff_np':coeff_np, 'p_val_np':p_val_np})\n",
    "    df_corrres = pd.DataFrame(li_dico)\n",
    "    #display(df_corrres)\n",
    "    plt.title(var)\n",
    "    sns.heatmap(M);\n",
    "    plt.show()"
   ]
  },
  {
   "cell_type": "code",
   "execution_count": 10,
   "metadata": {},
   "outputs": [
    {
     "name": "stderr",
     "output_type": "stream",
     "text": [
      "C:\\Users\\camil\\anaconda3\\lib\\site-packages\\ipykernel\\ipkernel.py:283: DeprecationWarning: `should_run_async` will not call `transform_cell` automatically in the future. Please pass the result to `transformed_cell` argument and any exception that happen during thetransform in `preprocessing_exc_tuple` in IPython 7.17 and above.\n",
      "  and should_run_async(code)\n"
     ]
    },
    {
     "data": {
      "image/png": "[encoded data removed]",
      "text/plain": [
       "<Figure size 432x288 with 1 Axes>"
      ]
     },
     "metadata": {
      "needs_background": "light"
     },
     "output_type": "display_data"
    }
   ],
   "source": [
    "sns.lineplot(y='vertical_travel_distance_perh', x='DIB', data=df_MVT_ALL, hue='PenID');#,legend=False);"
   ]
  },
  {
   "cell_type": "raw",
   "metadata": {},
   "source": [
    "We can observe that there is a general positive trend in the average vertical travel distance per hour as number of days post-transfer increases, but also that variance in the average vertical travel distance per hour is greater at the first days post-transferd compared to the 40th day post-transfer onward and there appears to be some non-linearity, and therefore we will investigate whether the fixed effect of number of days post-transfer on the average vertical travel distance per hour could be modelled with either a linear model or a quadratic model."
   ]
  },
  {
   "cell_type": "markdown",
   "metadata": {},
   "source": [
    "# choose data for individuality variables"
   ]
  },
  {
   "cell_type": "code",
   "execution_count": 11,
   "metadata": {},
   "outputs": [
    {
     "name": "stderr",
     "output_type": "stream",
     "text": [
      "C:\\Users\\camil\\anaconda3\\lib\\site-packages\\ipykernel\\ipkernel.py:283: DeprecationWarning: `should_run_async` will not call `transform_cell` automatically in the future. Please pass the result to `transformed_cell` argument and any exception that happen during thetransform in `preprocessing_exc_tuple` in IPython 7.17 and above.\n",
      "  and should_run_async(code)\n"
     ]
    },
    {
     "data": {
      "text/html": [
       "<div>\n",
       "<style scoped>\n",
       "    .dataframe tbody tr th:only-of-type {\n",
       "        vertical-align: middle;\n",
       "    }\n",
       "\n",
       "    .dataframe tbody tr th {\n",
       "        vertical-align: top;\n",
       "    }\n",
       "\n",
       "    .dataframe thead th {\n",
       "        text-align: right;\n",
       "    }\n",
       "</style>\n",
       "<table border=\"1\" class=\"dataframe\">\n",
       "  <thead>\n",
       "    <tr style=\"text-align: right;\">\n",
       "      <th></th>\n",
       "      <th>HenID</th>\n",
       "      <th>PenID</th>\n",
       "      <th>CLASS</th>\n",
       "      <th>TagID</th>\n",
       "      <th>FocalLegringName</th>\n",
       "      <th>R-Pen</th>\n",
       "      <th>InitialStartDate</th>\n",
       "      <th>Treatment</th>\n",
       "      <th>level</th>\n",
       "      <th>DIB</th>\n",
       "      <th>...</th>\n",
       "      <th>night_Max_duration_zones</th>\n",
       "      <th>is_mvt_night</th>\n",
       "      <th>empproba_3_Zone</th>\n",
       "      <th>empproba_4_Zone</th>\n",
       "      <th>empproba_2_Zone</th>\n",
       "      <th>in_WG_15mnAfterOpening</th>\n",
       "      <th>Max_duration_WG_h</th>\n",
       "      <th>perc_1_Zone_while_WG_open</th>\n",
       "      <th>SleepingHeight</th>\n",
       "      <th>WIB_HenID</th>\n",
       "    </tr>\n",
       "  </thead>\n",
       "  <tbody>\n",
       "    <tr>\n",
       "      <th>3</th>\n",
       "      <td>hen_131</td>\n",
       "      <td>pen10</td>\n",
       "      <td>EPI</td>\n",
       "      <td>tag_128</td>\n",
       "      <td>19black</td>\n",
       "      <td>4.0</td>\n",
       "      <td>2020-06-10 00:00:00</td>\n",
       "      <td>TRAN</td>\n",
       "      <td>2020-09-30</td>\n",
       "      <td>1</td>\n",
       "      <td>...</td>\n",
       "      <td>5_Zone</td>\n",
       "      <td>1.0</td>\n",
       "      <td>0.000000</td>\n",
       "      <td>0.000000</td>\n",
       "      <td>100.0</td>\n",
       "      <td>NaN</td>\n",
       "      <td>NaN</td>\n",
       "      <td>NaN</td>\n",
       "      <td>5</td>\n",
       "      <td>1_hen_131</td>\n",
       "    </tr>\n",
       "    <tr>\n",
       "      <th>4</th>\n",
       "      <td>hen_131</td>\n",
       "      <td>pen10</td>\n",
       "      <td>EPI</td>\n",
       "      <td>tag_128</td>\n",
       "      <td>19black</td>\n",
       "      <td>4.0</td>\n",
       "      <td>2020-06-10 00:00:00</td>\n",
       "      <td>TRAN</td>\n",
       "      <td>2020-10-01</td>\n",
       "      <td>2</td>\n",
       "      <td>...</td>\n",
       "      <td>3_Zone</td>\n",
       "      <td>1.0</td>\n",
       "      <td>33.333333</td>\n",
       "      <td>50.000000</td>\n",
       "      <td>100.0</td>\n",
       "      <td>NaN</td>\n",
       "      <td>NaN</td>\n",
       "      <td>NaN</td>\n",
       "      <td>3</td>\n",
       "      <td>1_hen_131</td>\n",
       "    </tr>\n",
       "    <tr>\n",
       "      <th>5</th>\n",
       "      <td>hen_131</td>\n",
       "      <td>pen10</td>\n",
       "      <td>EPI</td>\n",
       "      <td>tag_128</td>\n",
       "      <td>19black</td>\n",
       "      <td>4.0</td>\n",
       "      <td>2020-06-10 00:00:00</td>\n",
       "      <td>TRAN</td>\n",
       "      <td>2020-10-02</td>\n",
       "      <td>3</td>\n",
       "      <td>...</td>\n",
       "      <td>5_Zone</td>\n",
       "      <td>0.0</td>\n",
       "      <td>33.333333</td>\n",
       "      <td>66.666667</td>\n",
       "      <td>100.0</td>\n",
       "      <td>NaN</td>\n",
       "      <td>NaN</td>\n",
       "      <td>NaN</td>\n",
       "      <td>5</td>\n",
       "      <td>1_hen_131</td>\n",
       "    </tr>\n",
       "  </tbody>\n",
       "</table>\n",
       "<p>3 rows × 64 columns</p>\n",
       "</div>"
      ],
      "text/plain": [
       "     HenID  PenID CLASS    TagID FocalLegringName  R-Pen     InitialStartDate  \\\n",
       "3  hen_131  pen10   EPI  tag_128          19black    4.0  2020-06-10 00:00:00   \n",
       "4  hen_131  pen10   EPI  tag_128          19black    4.0  2020-06-10 00:00:00   \n",
       "5  hen_131  pen10   EPI  tag_128          19black    4.0  2020-06-10 00:00:00   \n",
       "\n",
       "  Treatment      level  DIB  ...  night_Max_duration_zones  is_mvt_night  \\\n",
       "3      TRAN 2020-09-30    1  ...                    5_Zone           1.0   \n",
       "4      TRAN 2020-10-01    2  ...                    3_Zone           1.0   \n",
       "5      TRAN 2020-10-02    3  ...                    5_Zone           0.0   \n",
       "\n",
       "   empproba_3_Zone  empproba_4_Zone empproba_2_Zone  in_WG_15mnAfterOpening  \\\n",
       "3         0.000000         0.000000           100.0                     NaN   \n",
       "4        33.333333        50.000000           100.0                     NaN   \n",
       "5        33.333333        66.666667           100.0                     NaN   \n",
       "\n",
       "   Max_duration_WG_h  perc_1_Zone_while_WG_open  SleepingHeight  WIB_HenID  \n",
       "3                NaN                        NaN               5  1_hen_131  \n",
       "4                NaN                        NaN               3  1_hen_131  \n",
       "5                NaN                        NaN               5  1_hen_131  \n",
       "\n",
       "[3 rows x 64 columns]"
      ]
     },
     "execution_count": 11,
     "metadata": {},
     "output_type": "execute_result"
    }
   ],
   "source": [
    "#add a useful id\n",
    "df_MVT_ALL['WIB_HenID'] = df_MVT_ALL.apply(lambda x: str(x['WIB'])+'_'+x['HenID'], axis=1)\n",
    "df_MVT_ALL.head(3)"
   ]
  },
  {
   "cell_type": "markdown",
   "metadata": {},
   "source": [
    "### keep only the TRAN birds to better represent reality"
   ]
  },
  {
   "cell_type": "markdown",
   "metadata": {},
   "source": [
    "df_MVT_ALL = df_MVT_ALL[df_MVT_ALL['Treatment']=='TRAN'].copy()\n",
    "len(df_MVT_ALL['HenID'].unique())"
   ]
  },
  {
   "cell_type": "markdown",
   "metadata": {},
   "source": [
    "### keep only days since WG is open"
   ]
  },
  {
   "cell_type": "code",
   "execution_count": 12,
   "metadata": {},
   "outputs": [
    {
     "name": "stdout",
     "output_type": "stream",
     "text": [
      "(6105, 64)\n"
     ]
    },
    {
     "name": "stderr",
     "output_type": "stream",
     "text": [
      "C:\\Users\\camil\\anaconda3\\lib\\site-packages\\ipykernel\\ipkernel.py:283: DeprecationWarning: `should_run_async` will not call `transform_cell` automatically in the future. Please pass the result to `transformed_cell` argument and any exception that happen during thetransform in `preprocessing_exc_tuple` in IPython 7.17 and above.\n",
      "  and should_run_async(code)\n"
     ]
    },
    {
     "data": {
      "text/plain": [
       "(5259, 64)"
      ]
     },
     "execution_count": 12,
     "metadata": {},
     "output_type": "execute_result"
    }
   ],
   "source": [
    "print(df_MVT_ALL.shape)\n",
    "df_MVT_ALL = df_MVT_ALL[df_MVT_ALL['level']>=config.date_first_opening_WG]\n",
    "df_MVT_ALL.shape"
   ]
  },
  {
   "cell_type": "markdown",
   "metadata": {},
   "source": [
    "### add variable to account for difference between individual: mean DIB over the week"
   ]
  },
  {
   "cell_type": "code",
   "execution_count": 13,
   "metadata": {},
   "outputs": [
    {
     "name": "stderr",
     "output_type": "stream",
     "text": [
      "C:\\Users\\camil\\anaconda3\\lib\\site-packages\\ipykernel\\ipkernel.py:283: DeprecationWarning: `should_run_async` will not call `transform_cell` automatically in the future. Please pass the result to `transformed_cell` argument and any exception that happen during thetransform in `preprocessing_exc_tuple` in IPython 7.17 and above.\n",
      "  and should_run_async(code)\n"
     ]
    },
    {
     "data": {
      "text/html": [
       "<div>\n",
       "<style scoped>\n",
       "    .dataframe tbody tr th:only-of-type {\n",
       "        vertical-align: middle;\n",
       "    }\n",
       "\n",
       "    .dataframe tbody tr th {\n",
       "        vertical-align: top;\n",
       "    }\n",
       "\n",
       "    .dataframe thead th {\n",
       "        text-align: right;\n",
       "    }\n",
       "</style>\n",
       "<table border=\"1\" class=\"dataframe\">\n",
       "  <thead>\n",
       "    <tr style=\"text-align: right;\">\n",
       "      <th></th>\n",
       "      <th>WIB</th>\n",
       "      <th>HenID</th>\n",
       "      <th>WIB_HenID</th>\n",
       "      <th>DIB</th>\n",
       "      <th>avgDIB</th>\n",
       "    </tr>\n",
       "  </thead>\n",
       "  <tbody>\n",
       "    <tr>\n",
       "      <th>0</th>\n",
       "      <td>2</td>\n",
       "      <td>hen_1</td>\n",
       "      <td>2_hen_1</td>\n",
       "      <td>[11, 12, 13, 14]</td>\n",
       "      <td>12.5</td>\n",
       "    </tr>\n",
       "    <tr>\n",
       "      <th>1</th>\n",
       "      <td>2</td>\n",
       "      <td>hen_10</td>\n",
       "      <td>2_hen_10</td>\n",
       "      <td>[11, 12, 13]</td>\n",
       "      <td>12.0</td>\n",
       "    </tr>\n",
       "    <tr>\n",
       "      <th>2</th>\n",
       "      <td>2</td>\n",
       "      <td>hen_101</td>\n",
       "      <td>2_hen_101</td>\n",
       "      <td>[11]</td>\n",
       "      <td>11.0</td>\n",
       "    </tr>\n",
       "  </tbody>\n",
       "</table>\n",
       "</div>"
      ],
      "text/plain": [
       "   WIB    HenID  WIB_HenID               DIB  avgDIB\n",
       "0    2    hen_1    2_hen_1  [11, 12, 13, 14]    12.5\n",
       "1    2   hen_10   2_hen_10      [11, 12, 13]    12.0\n",
       "2    2  hen_101  2_hen_101              [11]    11.0"
      ]
     },
     "metadata": {},
     "output_type": "display_data"
    },
    {
     "data": {
      "text/html": [
       "<div>\n",
       "<style scoped>\n",
       "    .dataframe tbody tr th:only-of-type {\n",
       "        vertical-align: middle;\n",
       "    }\n",
       "\n",
       "    .dataframe tbody tr th {\n",
       "        vertical-align: top;\n",
       "    }\n",
       "\n",
       "    .dataframe thead th {\n",
       "        text-align: right;\n",
       "    }\n",
       "</style>\n",
       "<table border=\"1\" class=\"dataframe\">\n",
       "  <thead>\n",
       "    <tr style=\"text-align: right;\">\n",
       "      <th></th>\n",
       "      <th>WIB</th>\n",
       "      <th>HenID</th>\n",
       "      <th>WIB_HenID</th>\n",
       "      <th>DIB</th>\n",
       "      <th>avgDIB</th>\n",
       "    </tr>\n",
       "  </thead>\n",
       "  <tbody>\n",
       "    <tr>\n",
       "      <th>907</th>\n",
       "      <td>8</td>\n",
       "      <td>hen_97</td>\n",
       "      <td>8_hen_97</td>\n",
       "      <td>[50, 51, 52, 53, 54]</td>\n",
       "      <td>52.0</td>\n",
       "    </tr>\n",
       "    <tr>\n",
       "      <th>908</th>\n",
       "      <td>8</td>\n",
       "      <td>hen_98</td>\n",
       "      <td>8_hen_98</td>\n",
       "      <td>[50, 51, 52, 53, 54]</td>\n",
       "      <td>52.0</td>\n",
       "    </tr>\n",
       "    <tr>\n",
       "      <th>909</th>\n",
       "      <td>8</td>\n",
       "      <td>hen_99</td>\n",
       "      <td>8_hen_99</td>\n",
       "      <td>[50, 51, 52, 53, 54]</td>\n",
       "      <td>52.0</td>\n",
       "    </tr>\n",
       "  </tbody>\n",
       "</table>\n",
       "</div>"
      ],
      "text/plain": [
       "     WIB   HenID WIB_HenID                   DIB  avgDIB\n",
       "907    8  hen_97  8_hen_97  [50, 51, 52, 53, 54]    52.0\n",
       "908    8  hen_98  8_hen_98  [50, 51, 52, 53, 54]    52.0\n",
       "909    8  hen_99  8_hen_99  [50, 51, 52, 53, 54]    52.0"
      ]
     },
     "metadata": {},
     "output_type": "display_data"
    }
   ],
   "source": [
    "df_inddiff = df_MVT_ALL.groupby(['WIB','HenID','WIB_HenID'])['DIB'].agg(lambda x: list(x)).reset_index()\n",
    "df_inddiff['avgDIB'] = df_inddiff['DIB'].map(lambda x: np.mean(x))\n",
    "display(df_inddiff.head(3))\n",
    "display(df_inddiff.tail(3))"
   ]
  },
  {
   "cell_type": "code",
   "execution_count": 14,
   "metadata": {},
   "outputs": [
    {
     "name": "stderr",
     "output_type": "stream",
     "text": [
      "C:\\Users\\camil\\anaconda3\\lib\\site-packages\\ipykernel\\ipkernel.py:283: DeprecationWarning: `should_run_async` will not call `transform_cell` automatically in the future. Please pass the result to `transformed_cell` argument and any exception that happen during thetransform in `preprocessing_exc_tuple` in IPython 7.17 and above.\n",
      "  and should_run_async(code)\n"
     ]
    },
    {
     "data": {
      "text/html": [
       "<div>\n",
       "<style scoped>\n",
       "    .dataframe tbody tr th:only-of-type {\n",
       "        vertical-align: middle;\n",
       "    }\n",
       "\n",
       "    .dataframe tbody tr th {\n",
       "        vertical-align: top;\n",
       "    }\n",
       "\n",
       "    .dataframe thead th {\n",
       "        text-align: right;\n",
       "    }\n",
       "</style>\n",
       "<table border=\"1\" class=\"dataframe\">\n",
       "  <thead>\n",
       "    <tr style=\"text-align: right;\">\n",
       "      <th></th>\n",
       "      <th>WIB</th>\n",
       "      <th>HenID</th>\n",
       "      <th>WIB_HenID</th>\n",
       "      <th>DIB</th>\n",
       "      <th>avgDIB</th>\n",
       "    </tr>\n",
       "  </thead>\n",
       "  <tbody>\n",
       "    <tr>\n",
       "      <th>27</th>\n",
       "      <td>2</td>\n",
       "      <td>hen_131</td>\n",
       "      <td>2_hen_131</td>\n",
       "      <td>[11, 12, 13]</td>\n",
       "      <td>12.0</td>\n",
       "    </tr>\n",
       "    <tr>\n",
       "      <th>157</th>\n",
       "      <td>3</td>\n",
       "      <td>hen_131</td>\n",
       "      <td>3_hen_131</td>\n",
       "      <td>[16, 17, 18, 19, 20, 21]</td>\n",
       "      <td>18.5</td>\n",
       "    </tr>\n",
       "    <tr>\n",
       "      <th>287</th>\n",
       "      <td>4</td>\n",
       "      <td>hen_131</td>\n",
       "      <td>4_hen_131</td>\n",
       "      <td>[22, 23, 24, 25, 26, 27, 28]</td>\n",
       "      <td>25.0</td>\n",
       "    </tr>\n",
       "    <tr>\n",
       "      <th>417</th>\n",
       "      <td>5</td>\n",
       "      <td>hen_131</td>\n",
       "      <td>5_hen_131</td>\n",
       "      <td>[29, 30, 31, 32, 33, 34, 35]</td>\n",
       "      <td>32.0</td>\n",
       "    </tr>\n",
       "    <tr>\n",
       "      <th>547</th>\n",
       "      <td>6</td>\n",
       "      <td>hen_131</td>\n",
       "      <td>6_hen_131</td>\n",
       "      <td>[36, 37, 38, 39, 40, 41, 42]</td>\n",
       "      <td>39.0</td>\n",
       "    </tr>\n",
       "    <tr>\n",
       "      <th>677</th>\n",
       "      <td>7</td>\n",
       "      <td>hen_131</td>\n",
       "      <td>7_hen_131</td>\n",
       "      <td>[43, 44, 45, 46, 47, 48, 49]</td>\n",
       "      <td>46.0</td>\n",
       "    </tr>\n",
       "    <tr>\n",
       "      <th>807</th>\n",
       "      <td>8</td>\n",
       "      <td>hen_131</td>\n",
       "      <td>8_hen_131</td>\n",
       "      <td>[50, 51, 52, 53, 54]</td>\n",
       "      <td>52.0</td>\n",
       "    </tr>\n",
       "  </tbody>\n",
       "</table>\n",
       "</div>"
      ],
      "text/plain": [
       "     WIB    HenID  WIB_HenID                           DIB  avgDIB\n",
       "27     2  hen_131  2_hen_131                  [11, 12, 13]    12.0\n",
       "157    3  hen_131  3_hen_131      [16, 17, 18, 19, 20, 21]    18.5\n",
       "287    4  hen_131  4_hen_131  [22, 23, 24, 25, 26, 27, 28]    25.0\n",
       "417    5  hen_131  5_hen_131  [29, 30, 31, 32, 33, 34, 35]    32.0\n",
       "547    6  hen_131  6_hen_131  [36, 37, 38, 39, 40, 41, 42]    39.0\n",
       "677    7  hen_131  7_hen_131  [43, 44, 45, 46, 47, 48, 49]    46.0\n",
       "807    8  hen_131  8_hen_131          [50, 51, 52, 53, 54]    52.0"
      ]
     },
     "execution_count": 14,
     "metadata": {},
     "output_type": "execute_result"
    }
   ],
   "source": [
    "df_inddiff[df_inddiff['HenID']=='hen_131']"
   ]
  },
  {
   "cell_type": "code",
   "execution_count": 15,
   "metadata": {},
   "outputs": [
    {
     "name": "stderr",
     "output_type": "stream",
     "text": [
      "C:\\Users\\camil\\anaconda3\\lib\\site-packages\\ipykernel\\ipkernel.py:283: DeprecationWarning: `should_run_async` will not call `transform_cell` automatically in the future. Please pass the result to `transformed_cell` argument and any exception that happen during thetransform in `preprocessing_exc_tuple` in IPython 7.17 and above.\n",
      "  and should_run_async(code)\n"
     ]
    },
    {
     "data": {
      "text/html": [
       "<div>\n",
       "<style scoped>\n",
       "    .dataframe tbody tr th:only-of-type {\n",
       "        vertical-align: middle;\n",
       "    }\n",
       "\n",
       "    .dataframe tbody tr th {\n",
       "        vertical-align: top;\n",
       "    }\n",
       "\n",
       "    .dataframe thead th {\n",
       "        text-align: right;\n",
       "    }\n",
       "</style>\n",
       "<table border=\"1\" class=\"dataframe\">\n",
       "  <thead>\n",
       "    <tr style=\"text-align: right;\">\n",
       "      <th></th>\n",
       "      <th>WIB</th>\n",
       "      <th>HenID</th>\n",
       "      <th>WIB_HenID</th>\n",
       "      <th>DIB</th>\n",
       "      <th>avgDIB</th>\n",
       "    </tr>\n",
       "  </thead>\n",
       "  <tbody>\n",
       "    <tr>\n",
       "      <th>21</th>\n",
       "      <td>2</td>\n",
       "      <td>hen_123</td>\n",
       "      <td>2_hen_123</td>\n",
       "      <td>[11]</td>\n",
       "      <td>11.000000</td>\n",
       "    </tr>\n",
       "    <tr>\n",
       "      <th>151</th>\n",
       "      <td>3</td>\n",
       "      <td>hen_123</td>\n",
       "      <td>3_hen_123</td>\n",
       "      <td>[16, 17, 18, 19, 20, 21]</td>\n",
       "      <td>18.500000</td>\n",
       "    </tr>\n",
       "    <tr>\n",
       "      <th>281</th>\n",
       "      <td>4</td>\n",
       "      <td>hen_123</td>\n",
       "      <td>4_hen_123</td>\n",
       "      <td>[22, 24, 25, 26, 27, 28]</td>\n",
       "      <td>25.333333</td>\n",
       "    </tr>\n",
       "    <tr>\n",
       "      <th>411</th>\n",
       "      <td>5</td>\n",
       "      <td>hen_123</td>\n",
       "      <td>5_hen_123</td>\n",
       "      <td>[29, 30, 31, 32, 33, 34, 35]</td>\n",
       "      <td>32.000000</td>\n",
       "    </tr>\n",
       "    <tr>\n",
       "      <th>541</th>\n",
       "      <td>6</td>\n",
       "      <td>hen_123</td>\n",
       "      <td>6_hen_123</td>\n",
       "      <td>[36, 37, 38, 39, 40, 41, 42]</td>\n",
       "      <td>39.000000</td>\n",
       "    </tr>\n",
       "    <tr>\n",
       "      <th>671</th>\n",
       "      <td>7</td>\n",
       "      <td>hen_123</td>\n",
       "      <td>7_hen_123</td>\n",
       "      <td>[43, 44, 45, 46, 47, 48, 49]</td>\n",
       "      <td>46.000000</td>\n",
       "    </tr>\n",
       "    <tr>\n",
       "      <th>801</th>\n",
       "      <td>8</td>\n",
       "      <td>hen_123</td>\n",
       "      <td>8_hen_123</td>\n",
       "      <td>[50, 51, 52, 53, 54]</td>\n",
       "      <td>52.000000</td>\n",
       "    </tr>\n",
       "  </tbody>\n",
       "</table>\n",
       "</div>"
      ],
      "text/plain": [
       "     WIB    HenID  WIB_HenID                           DIB     avgDIB\n",
       "21     2  hen_123  2_hen_123                          [11]  11.000000\n",
       "151    3  hen_123  3_hen_123      [16, 17, 18, 19, 20, 21]  18.500000\n",
       "281    4  hen_123  4_hen_123      [22, 24, 25, 26, 27, 28]  25.333333\n",
       "411    5  hen_123  5_hen_123  [29, 30, 31, 32, 33, 34, 35]  32.000000\n",
       "541    6  hen_123  6_hen_123  [36, 37, 38, 39, 40, 41, 42]  39.000000\n",
       "671    7  hen_123  7_hen_123  [43, 44, 45, 46, 47, 48, 49]  46.000000\n",
       "801    8  hen_123  8_hen_123          [50, 51, 52, 53, 54]  52.000000"
      ]
     },
     "execution_count": 15,
     "metadata": {},
     "output_type": "execute_result"
    }
   ],
   "source": [
    "df_inddiff[df_inddiff['HenID']=='hen_123']"
   ]
  },
  {
   "cell_type": "code",
   "execution_count": 16,
   "metadata": {},
   "outputs": [
    {
     "name": "stderr",
     "output_type": "stream",
     "text": [
      "C:\\Users\\camil\\anaconda3\\lib\\site-packages\\ipykernel\\ipkernel.py:283: DeprecationWarning: `should_run_async` will not call `transform_cell` automatically in the future. Please pass the result to `transformed_cell` argument and any exception that happen during thetransform in `preprocessing_exc_tuple` in IPython 7.17 and above.\n",
      "  and should_run_async(code)\n"
     ]
    },
    {
     "data": {
      "text/html": [
       "<div>\n",
       "<style scoped>\n",
       "    .dataframe tbody tr th:only-of-type {\n",
       "        vertical-align: middle;\n",
       "    }\n",
       "\n",
       "    .dataframe tbody tr th {\n",
       "        vertical-align: top;\n",
       "    }\n",
       "\n",
       "    .dataframe thead th {\n",
       "        text-align: right;\n",
       "    }\n",
       "</style>\n",
       "<table border=\"1\" class=\"dataframe\">\n",
       "  <thead>\n",
       "    <tr style=\"text-align: right;\">\n",
       "      <th></th>\n",
       "      <th>HenID</th>\n",
       "      <th>PenID</th>\n",
       "      <th>CLASS</th>\n",
       "      <th>TagID</th>\n",
       "      <th>FocalLegringName</th>\n",
       "      <th>R-Pen</th>\n",
       "      <th>InitialStartDate</th>\n",
       "      <th>Treatment</th>\n",
       "      <th>level</th>\n",
       "      <th>DIB</th>\n",
       "      <th>...</th>\n",
       "      <th>is_mvt_night</th>\n",
       "      <th>empproba_3_Zone</th>\n",
       "      <th>empproba_4_Zone</th>\n",
       "      <th>empproba_2_Zone</th>\n",
       "      <th>in_WG_15mnAfterOpening</th>\n",
       "      <th>Max_duration_WG_h</th>\n",
       "      <th>perc_1_Zone_while_WG_open</th>\n",
       "      <th>SleepingHeight</th>\n",
       "      <th>WIB_HenID</th>\n",
       "      <th>avgDIB</th>\n",
       "    </tr>\n",
       "  </thead>\n",
       "  <tbody>\n",
       "    <tr>\n",
       "      <th>10</th>\n",
       "      <td>hen_131</td>\n",
       "      <td>pen10</td>\n",
       "      <td>EPI</td>\n",
       "      <td>tag_128</td>\n",
       "      <td>19black</td>\n",
       "      <td>4.0</td>\n",
       "      <td>2020-06-10 00:00:00</td>\n",
       "      <td>TRAN</td>\n",
       "      <td>2020-10-10</td>\n",
       "      <td>11</td>\n",
       "      <td>...</td>\n",
       "      <td>1.0</td>\n",
       "      <td>10.000000</td>\n",
       "      <td>66.666667</td>\n",
       "      <td>100.0</td>\n",
       "      <td>False</td>\n",
       "      <td>0.0</td>\n",
       "      <td>0.0</td>\n",
       "      <td>5</td>\n",
       "      <td>2_hen_131</td>\n",
       "      <td>12.0</td>\n",
       "    </tr>\n",
       "    <tr>\n",
       "      <th>11</th>\n",
       "      <td>hen_131</td>\n",
       "      <td>pen10</td>\n",
       "      <td>EPI</td>\n",
       "      <td>tag_128</td>\n",
       "      <td>19black</td>\n",
       "      <td>4.0</td>\n",
       "      <td>2020-06-10 00:00:00</td>\n",
       "      <td>TRAN</td>\n",
       "      <td>2020-10-11</td>\n",
       "      <td>12</td>\n",
       "      <td>...</td>\n",
       "      <td>1.0</td>\n",
       "      <td>10.000000</td>\n",
       "      <td>0.000000</td>\n",
       "      <td>100.0</td>\n",
       "      <td>False</td>\n",
       "      <td>0.0</td>\n",
       "      <td>0.0</td>\n",
       "      <td>5</td>\n",
       "      <td>2_hen_131</td>\n",
       "      <td>12.0</td>\n",
       "    </tr>\n",
       "    <tr>\n",
       "      <th>12</th>\n",
       "      <td>hen_131</td>\n",
       "      <td>pen10</td>\n",
       "      <td>EPI</td>\n",
       "      <td>tag_128</td>\n",
       "      <td>19black</td>\n",
       "      <td>4.0</td>\n",
       "      <td>2020-06-10 00:00:00</td>\n",
       "      <td>TRAN</td>\n",
       "      <td>2020-10-12</td>\n",
       "      <td>13</td>\n",
       "      <td>...</td>\n",
       "      <td>1.0</td>\n",
       "      <td>33.333333</td>\n",
       "      <td>50.000000</td>\n",
       "      <td>100.0</td>\n",
       "      <td>False</td>\n",
       "      <td>0.0</td>\n",
       "      <td>0.0</td>\n",
       "      <td>3</td>\n",
       "      <td>2_hen_131</td>\n",
       "      <td>12.0</td>\n",
       "    </tr>\n",
       "  </tbody>\n",
       "</table>\n",
       "<p>3 rows × 65 columns</p>\n",
       "</div>"
      ],
      "text/plain": [
       "      HenID  PenID CLASS    TagID FocalLegringName  R-Pen  \\\n",
       "10  hen_131  pen10   EPI  tag_128          19black    4.0   \n",
       "11  hen_131  pen10   EPI  tag_128          19black    4.0   \n",
       "12  hen_131  pen10   EPI  tag_128          19black    4.0   \n",
       "\n",
       "       InitialStartDate Treatment      level  DIB  ...  is_mvt_night  \\\n",
       "10  2020-06-10 00:00:00      TRAN 2020-10-10   11  ...           1.0   \n",
       "11  2020-06-10 00:00:00      TRAN 2020-10-11   12  ...           1.0   \n",
       "12  2020-06-10 00:00:00      TRAN 2020-10-12   13  ...           1.0   \n",
       "\n",
       "    empproba_3_Zone  empproba_4_Zone  empproba_2_Zone in_WG_15mnAfterOpening  \\\n",
       "10        10.000000        66.666667            100.0                  False   \n",
       "11        10.000000         0.000000            100.0                  False   \n",
       "12        33.333333        50.000000            100.0                  False   \n",
       "\n",
       "    Max_duration_WG_h  perc_1_Zone_while_WG_open  SleepingHeight  WIB_HenID  \\\n",
       "10                0.0                        0.0               5  2_hen_131   \n",
       "11                0.0                        0.0               5  2_hen_131   \n",
       "12                0.0                        0.0               3  2_hen_131   \n",
       "\n",
       "    avgDIB  \n",
       "10    12.0  \n",
       "11    12.0  \n",
       "12    12.0  \n",
       "\n",
       "[3 rows x 65 columns]"
      ]
     },
     "execution_count": 16,
     "metadata": {},
     "output_type": "execute_result"
    }
   ],
   "source": [
    "dico_WIBhenID_avgDIB = dict(zip(df_inddiff.WIB_HenID, df_inddiff.avgDIB))\n",
    "#dico_WIBhenID_avgDIB\n",
    "df_MVT_ALL['avgDIB'] = df_MVT_ALL['WIB_HenID'].map(lambda x: dico_WIBhenID_avgDIB[x])\n",
    "df_MVT_ALL.head(3)"
   ]
  },
  {
   "cell_type": "markdown",
   "metadata": {},
   "source": [
    "### add external temperature as environemntal factor"
   ]
  },
  {
   "cell_type": "code",
   "execution_count": 17,
   "metadata": {},
   "outputs": [
    {
     "name": "stdout",
     "output_type": "stream",
     "text": [
      "(7293, 13)\n"
     ]
    },
    {
     "name": "stderr",
     "output_type": "stream",
     "text": [
      "C:\\Users\\camil\\anaconda3\\lib\\site-packages\\ipykernel\\ipkernel.py:283: DeprecationWarning: `should_run_async` will not call `transform_cell` automatically in the future. Please pass the result to `transformed_cell` argument and any exception that happen during thetransform in `preprocessing_exc_tuple` in IPython 7.17 and above.\n",
      "  and should_run_async(code)\n"
     ]
    },
    {
     "data": {
      "text/html": [
       "<div>\n",
       "<style scoped>\n",
       "    .dataframe tbody tr th:only-of-type {\n",
       "        vertical-align: middle;\n",
       "    }\n",
       "\n",
       "    .dataframe tbody tr th {\n",
       "        vertical-align: top;\n",
       "    }\n",
       "\n",
       "    .dataframe thead th {\n",
       "        text-align: right;\n",
       "    }\n",
       "</style>\n",
       "<table border=\"1\" class=\"dataframe\">\n",
       "  <thead>\n",
       "    <tr style=\"text-align: right;\">\n",
       "      <th></th>\n",
       "      <th>Timestamp</th>\n",
       "      <th>temperature</th>\n",
       "      <th>humidity</th>\n",
       "      <th>wind speed</th>\n",
       "      <th>Precipitation amount</th>\n",
       "      <th>query</th>\n",
       "      <th>Moon Phase calculator</th>\n",
       "      <th>hour</th>\n",
       "      <th>temperature_C</th>\n",
       "      <th>wind_speed_mpers</th>\n",
       "      <th>humidity_avgpercent</th>\n",
       "      <th>rain</th>\n",
       "      <th>Timestamp_weather</th>\n",
       "    </tr>\n",
       "  </thead>\n",
       "  <tbody>\n",
       "    <tr>\n",
       "      <th>0</th>\n",
       "      <td>2020-09-29 00:00:00</td>\n",
       "      <td>10 °C\\n(12:00 am CEST | Tuesday, September 29,...</td>\n",
       "      <td>average: 100% (100%)\\n(12:00 am CEST | Tuesday...</td>\n",
       "      <td>2 m/s\\n(12:00 am CEST | Tuesday, September 29,...</td>\n",
       "      <td>rain\\n(12:00 am CEST | Tuesday, September 29, ...</td>\n",
       "      <td>Moon Phase calculatorSeptember 29, 2020 0h</td>\n",
       "      <td>| waxing gibbous moon\\n91.87% illuminated</td>\n",
       "      <td>0</td>\n",
       "      <td>10</td>\n",
       "      <td>2</td>\n",
       "      <td>100</td>\n",
       "      <td>rain</td>\n",
       "      <td>2020-09-29 00:00:00</td>\n",
       "    </tr>\n",
       "    <tr>\n",
       "      <th>1</th>\n",
       "      <td>2020-09-29 01:00:00</td>\n",
       "      <td>10 °C\\n(1:00 am CEST | Tuesday, September 29, ...</td>\n",
       "      <td>average: 100% (100%)\\n(1:00 am CEST | Tuesday,...</td>\n",
       "      <td>3 m/s\\n(1:00 am CEST | Tuesday, September 29, ...</td>\n",
       "      <td>rain\\n(1:00 am CEST | Tuesday, September 29, 2...</td>\n",
       "      <td>Moon Phase calculatorSeptember 29, 2020 1h</td>\n",
       "      <td>| waxing gibbous moon\\n92.09% illuminated</td>\n",
       "      <td>1</td>\n",
       "      <td>10</td>\n",
       "      <td>3</td>\n",
       "      <td>100</td>\n",
       "      <td>rain</td>\n",
       "      <td>2020-09-29 01:00:00</td>\n",
       "    </tr>\n",
       "    <tr>\n",
       "      <th>2</th>\n",
       "      <td>2020-09-29 02:00:00</td>\n",
       "      <td>10 °C\\n(2:00 am CEST | Tuesday, September 29, ...</td>\n",
       "      <td>average: 100% (100%)\\n(2:00 am CEST | Tuesday,...</td>\n",
       "      <td>3 m/s\\n(2:00 am CEST | Tuesday, September 29, ...</td>\n",
       "      <td>rain\\n(2:00 am CEST | Tuesday, September 29, 2...</td>\n",
       "      <td>Moon Phase calculatorSeptember 29, 2020 2h</td>\n",
       "      <td>| waxing gibbous moon\\n92.30% illuminated</td>\n",
       "      <td>2</td>\n",
       "      <td>10</td>\n",
       "      <td>3</td>\n",
       "      <td>100</td>\n",
       "      <td>rain</td>\n",
       "      <td>2020-09-29 02:00:00</td>\n",
       "    </tr>\n",
       "  </tbody>\n",
       "</table>\n",
       "</div>"
      ],
      "text/plain": [
       "            Timestamp                                        temperature  \\\n",
       "0 2020-09-29 00:00:00  10 °C\\n(12:00 am CEST | Tuesday, September 29,...   \n",
       "1 2020-09-29 01:00:00  10 °C\\n(1:00 am CEST | Tuesday, September 29, ...   \n",
       "2 2020-09-29 02:00:00  10 °C\\n(2:00 am CEST | Tuesday, September 29, ...   \n",
       "\n",
       "                                            humidity  \\\n",
       "0  average: 100% (100%)\\n(12:00 am CEST | Tuesday...   \n",
       "1  average: 100% (100%)\\n(1:00 am CEST | Tuesday,...   \n",
       "2  average: 100% (100%)\\n(2:00 am CEST | Tuesday,...   \n",
       "\n",
       "                                          wind speed  \\\n",
       "0  2 m/s\\n(12:00 am CEST | Tuesday, September 29,...   \n",
       "1  3 m/s\\n(1:00 am CEST | Tuesday, September 29, ...   \n",
       "2  3 m/s\\n(2:00 am CEST | Tuesday, September 29, ...   \n",
       "\n",
       "                                Precipitation amount  \\\n",
       "0  rain\\n(12:00 am CEST | Tuesday, September 29, ...   \n",
       "1  rain\\n(1:00 am CEST | Tuesday, September 29, 2...   \n",
       "2  rain\\n(2:00 am CEST | Tuesday, September 29, 2...   \n",
       "\n",
       "                                        query  \\\n",
       "0  Moon Phase calculatorSeptember 29, 2020 0h   \n",
       "1  Moon Phase calculatorSeptember 29, 2020 1h   \n",
       "2  Moon Phase calculatorSeptember 29, 2020 2h   \n",
       "\n",
       "                       Moon Phase calculator  hour  temperature_C  \\\n",
       "0  | waxing gibbous moon\\n91.87% illuminated     0             10   \n",
       "1  | waxing gibbous moon\\n92.09% illuminated     1             10   \n",
       "2  | waxing gibbous moon\\n92.30% illuminated     2             10   \n",
       "\n",
       "   wind_speed_mpers  humidity_avgpercent  rain   Timestamp_weather  \n",
       "0                 2                  100  rain 2020-09-29 00:00:00  \n",
       "1                 3                  100  rain 2020-09-29 01:00:00  \n",
       "2                 3                  100  rain 2020-09-29 02:00:00  "
      ]
     },
     "metadata": {},
     "output_type": "display_data"
    }
   ],
   "source": [
    "#weather conditions\n",
    "path_weather = os.path.join(r'C:\\Users\\camil\\Desktop\\vm_exchange\\PhD_Data\\Weather','Weather_process.csv')\n",
    "df_weather_h = pd.read_csv(path_weather, sep=';', parse_dates=['date','Timestamp'])\n",
    "df_weather_h = df_weather_h.sort_values('Timestamp') \n",
    "df_weather_h = df_weather_h.drop(['date'], axis=1)\n",
    "df_weather_h['Timestamp_weather'] = df_weather_h['Timestamp'].copy()\n",
    "print(df_weather_h.shape)\n",
    "display(df_weather_h.head(3))"
   ]
  },
  {
   "cell_type": "code",
   "execution_count": 18,
   "metadata": {},
   "outputs": [
    {
     "name": "stderr",
     "output_type": "stream",
     "text": [
      "C:\\Users\\camil\\anaconda3\\lib\\site-packages\\ipykernel\\ipkernel.py:283: DeprecationWarning: `should_run_async` will not call `transform_cell` automatically in the future. Please pass the result to `transformed_cell` argument and any exception that happen during thetransform in `preprocessing_exc_tuple` in IPython 7.17 and above.\n",
      "  and should_run_async(code)\n"
     ]
    },
    {
     "data": {
      "text/html": [
       "<div>\n",
       "<style scoped>\n",
       "    .dataframe tbody tr th:only-of-type {\n",
       "        vertical-align: middle;\n",
       "    }\n",
       "\n",
       "    .dataframe tbody tr th {\n",
       "        vertical-align: top;\n",
       "    }\n",
       "\n",
       "    .dataframe thead th {\n",
       "        text-align: right;\n",
       "    }\n",
       "</style>\n",
       "<table border=\"1\" class=\"dataframe\">\n",
       "  <thead>\n",
       "    <tr style=\"text-align: right;\">\n",
       "      <th></th>\n",
       "      <th>date</th>\n",
       "      <th>temperature_C</th>\n",
       "      <th>temperature_C_avg</th>\n",
       "    </tr>\n",
       "  </thead>\n",
       "  <tbody>\n",
       "    <tr>\n",
       "      <th>0</th>\n",
       "      <td>2020-09-29</td>\n",
       "      <td>[11, 12, 12, 12, 12, 13]</td>\n",
       "      <td>12.0</td>\n",
       "    </tr>\n",
       "    <tr>\n",
       "      <th>1</th>\n",
       "      <td>2020-09-30</td>\n",
       "      <td>[10, 11, 13, 13, 14, 14]</td>\n",
       "      <td>12.5</td>\n",
       "    </tr>\n",
       "    <tr>\n",
       "      <th>2</th>\n",
       "      <td>2020-10-01</td>\n",
       "      <td>[13, 15, 15, 15, 15, 14]</td>\n",
       "      <td>14.5</td>\n",
       "    </tr>\n",
       "  </tbody>\n",
       "</table>\n",
       "</div>"
      ],
      "text/plain": [
       "         date             temperature_C  temperature_C_avg\n",
       "0  2020-09-29  [11, 12, 12, 12, 12, 13]               12.0\n",
       "1  2020-09-30  [10, 11, 13, 13, 14, 14]               12.5\n",
       "2  2020-10-01  [13, 15, 15, 15, 15, 14]               14.5"
      ]
     },
     "execution_count": 18,
     "metadata": {},
     "output_type": "execute_result"
    }
   ],
   "source": [
    "#check variation over the day... exist very much\n",
    "df_weather_h['date'] = df_weather_h['Timestamp'].map(lambda x: dt.datetime.date(x))\n",
    "df_wday = df_weather_h[df_weather_h['hour'].isin([11,12,13,14,15,16])].groupby(['date'])['temperature_C'].agg(lambda x: list(x)).reset_index()\n",
    "df_wday['temperature_C_avg'] = df_wday['temperature_C'].map(lambda x: np.mean(x))\n",
    "df_wday.head(3)"
   ]
  },
  {
   "cell_type": "code",
   "execution_count": 19,
   "metadata": {},
   "outputs": [
    {
     "name": "stderr",
     "output_type": "stream",
     "text": [
      "C:\\Users\\camil\\anaconda3\\lib\\site-packages\\ipykernel\\ipkernel.py:283: DeprecationWarning: `should_run_async` will not call `transform_cell` automatically in the future. Please pass the result to `transformed_cell` argument and any exception that happen during thetransform in `preprocessing_exc_tuple` in IPython 7.17 and above.\n",
      "  and should_run_async(code)\n"
     ]
    },
    {
     "name": "stdout",
     "output_type": "stream",
     "text": [
      "(5259, 65)\n",
      "(5259, 68)\n"
     ]
    },
    {
     "data": {
      "text/html": [
       "<div>\n",
       "<style scoped>\n",
       "    .dataframe tbody tr th:only-of-type {\n",
       "        vertical-align: middle;\n",
       "    }\n",
       "\n",
       "    .dataframe tbody tr th {\n",
       "        vertical-align: top;\n",
       "    }\n",
       "\n",
       "    .dataframe thead th {\n",
       "        text-align: right;\n",
       "    }\n",
       "</style>\n",
       "<table border=\"1\" class=\"dataframe\">\n",
       "  <thead>\n",
       "    <tr style=\"text-align: right;\">\n",
       "      <th></th>\n",
       "      <th>HenID</th>\n",
       "      <th>PenID</th>\n",
       "      <th>CLASS</th>\n",
       "      <th>TagID</th>\n",
       "      <th>FocalLegringName</th>\n",
       "      <th>R-Pen</th>\n",
       "      <th>InitialStartDate</th>\n",
       "      <th>Treatment</th>\n",
       "      <th>level</th>\n",
       "      <th>DIB</th>\n",
       "      <th>...</th>\n",
       "      <th>empproba_2_Zone</th>\n",
       "      <th>in_WG_15mnAfterOpening</th>\n",
       "      <th>Max_duration_WG_h</th>\n",
       "      <th>perc_1_Zone_while_WG_open</th>\n",
       "      <th>SleepingHeight</th>\n",
       "      <th>WIB_HenID</th>\n",
       "      <th>avgDIB</th>\n",
       "      <th>date</th>\n",
       "      <th>temperature_C</th>\n",
       "      <th>temperature_C_avg</th>\n",
       "    </tr>\n",
       "  </thead>\n",
       "  <tbody>\n",
       "    <tr>\n",
       "      <th>0</th>\n",
       "      <td>hen_131</td>\n",
       "      <td>pen10</td>\n",
       "      <td>EPI</td>\n",
       "      <td>tag_128</td>\n",
       "      <td>19black</td>\n",
       "      <td>4.0</td>\n",
       "      <td>2020-06-10 00:00:00</td>\n",
       "      <td>TRAN</td>\n",
       "      <td>2020-10-10</td>\n",
       "      <td>11</td>\n",
       "      <td>...</td>\n",
       "      <td>100.0</td>\n",
       "      <td>False</td>\n",
       "      <td>0.0</td>\n",
       "      <td>0.0</td>\n",
       "      <td>5</td>\n",
       "      <td>2_hen_131</td>\n",
       "      <td>12.0</td>\n",
       "      <td>2020-10-10</td>\n",
       "      <td>[11, 11, 12, 12, 11, 12]</td>\n",
       "      <td>11.500000</td>\n",
       "    </tr>\n",
       "    <tr>\n",
       "      <th>1</th>\n",
       "      <td>hen_131</td>\n",
       "      <td>pen10</td>\n",
       "      <td>EPI</td>\n",
       "      <td>tag_128</td>\n",
       "      <td>19black</td>\n",
       "      <td>4.0</td>\n",
       "      <td>2020-06-10 00:00:00</td>\n",
       "      <td>TRAN</td>\n",
       "      <td>2020-10-11</td>\n",
       "      <td>12</td>\n",
       "      <td>...</td>\n",
       "      <td>100.0</td>\n",
       "      <td>False</td>\n",
       "      <td>0.0</td>\n",
       "      <td>0.0</td>\n",
       "      <td>5</td>\n",
       "      <td>2_hen_131</td>\n",
       "      <td>12.0</td>\n",
       "      <td>2020-10-11</td>\n",
       "      <td>[10, 9, 11, 11, 10, 10]</td>\n",
       "      <td>10.166667</td>\n",
       "    </tr>\n",
       "  </tbody>\n",
       "</table>\n",
       "<p>2 rows × 68 columns</p>\n",
       "</div>"
      ],
      "text/plain": [
       "     HenID  PenID CLASS    TagID FocalLegringName  R-Pen     InitialStartDate  \\\n",
       "0  hen_131  pen10   EPI  tag_128          19black    4.0  2020-06-10 00:00:00   \n",
       "1  hen_131  pen10   EPI  tag_128          19black    4.0  2020-06-10 00:00:00   \n",
       "\n",
       "  Treatment      level  DIB  ...  empproba_2_Zone  in_WG_15mnAfterOpening  \\\n",
       "0      TRAN 2020-10-10   11  ...            100.0                   False   \n",
       "1      TRAN 2020-10-11   12  ...            100.0                   False   \n",
       "\n",
       "   Max_duration_WG_h  perc_1_Zone_while_WG_open SleepingHeight  WIB_HenID  \\\n",
       "0                0.0                        0.0              5  2_hen_131   \n",
       "1                0.0                        0.0              5  2_hen_131   \n",
       "\n",
       "   avgDIB        date             temperature_C  temperature_C_avg  \n",
       "0    12.0  2020-10-10  [11, 11, 12, 12, 11, 12]          11.500000  \n",
       "1    12.0  2020-10-11   [10, 9, 11, 11, 10, 10]          10.166667  \n",
       "\n",
       "[2 rows x 68 columns]"
      ]
     },
     "execution_count": 19,
     "metadata": {},
     "output_type": "execute_result"
    }
   ],
   "source": [
    "print(df_MVT_ALL.shape)\n",
    "df_MVT_ALL['date'] = df_MVT_ALL['level'].map(lambda x: dt.datetime.date(x))\n",
    "df_MVT_ALL= pd.merge(df_MVT_ALL, df_wday, on='date', how='left')\n",
    "print(df_MVT_ALL.shape)\n",
    "df_MVT_ALL.head(2)"
   ]
  },
  {
   "cell_type": "markdown",
   "metadata": {},
   "source": [
    "### initial conditions"
   ]
  },
  {
   "cell_type": "code",
   "execution_count": 20,
   "metadata": {},
   "outputs": [
    {
     "name": "stderr",
     "output_type": "stream",
     "text": [
      "C:\\Users\\camil\\anaconda3\\lib\\site-packages\\ipykernel\\ipkernel.py:283: DeprecationWarning: `should_run_async` will not call `transform_cell` automatically in the future. Please pass the result to `transformed_cell` argument and any exception that happen during thetransform in `preprocessing_exc_tuple` in IPython 7.17 and above.\n",
      "  and should_run_async(code)\n"
     ]
    },
    {
     "data": {
      "text/html": [
       "<div>\n",
       "<style scoped>\n",
       "    .dataframe tbody tr th:only-of-type {\n",
       "        vertical-align: middle;\n",
       "    }\n",
       "\n",
       "    .dataframe tbody tr th {\n",
       "        vertical-align: top;\n",
       "    }\n",
       "\n",
       "    .dataframe thead th {\n",
       "        text-align: right;\n",
       "    }\n",
       "</style>\n",
       "<table border=\"1\" class=\"dataframe\">\n",
       "  <thead>\n",
       "    <tr style=\"text-align: right;\">\n",
       "      <th></th>\n",
       "      <th>HenID</th>\n",
       "      <th>early_death</th>\n",
       "      <th>RearingPenID</th>\n",
       "      <th>InitialWeight</th>\n",
       "    </tr>\n",
       "  </thead>\n",
       "  <tbody>\n",
       "    <tr>\n",
       "      <th>0</th>\n",
       "      <td>hen_1</td>\n",
       "      <td>0.0</td>\n",
       "      <td>1.0</td>\n",
       "      <td>1134.0</td>\n",
       "    </tr>\n",
       "    <tr>\n",
       "      <th>1</th>\n",
       "      <td>hen_10</td>\n",
       "      <td>0.0</td>\n",
       "      <td>1.0</td>\n",
       "      <td>1070.0</td>\n",
       "    </tr>\n",
       "    <tr>\n",
       "      <th>2</th>\n",
       "      <td>hen_100</td>\n",
       "      <td>0.0</td>\n",
       "      <td>3.0</td>\n",
       "      <td>1182.0</td>\n",
       "    </tr>\n",
       "  </tbody>\n",
       "</table>\n",
       "</div>"
      ],
      "text/plain": [
       "     HenID  early_death  RearingPenID  InitialWeight\n",
       "0    hen_1          0.0           1.0         1134.0\n",
       "1   hen_10          0.0           1.0         1070.0\n",
       "2  hen_100          0.0           3.0         1182.0"
      ]
     },
     "execution_count": 20,
     "metadata": {},
     "output_type": "execute_result"
    }
   ],
   "source": [
    "df_FB[['HenID','early_death','RearingPenID','InitialWeight']].head(3)"
   ]
  },
  {
   "cell_type": "code",
   "execution_count": 21,
   "metadata": {},
   "outputs": [
    {
     "name": "stdout",
     "output_type": "stream",
     "text": [
      "(5259, 68)\n",
      "(5259, 71)\n"
     ]
    },
    {
     "name": "stderr",
     "output_type": "stream",
     "text": [
      "C:\\Users\\camil\\anaconda3\\lib\\site-packages\\ipykernel\\ipkernel.py:283: DeprecationWarning: `should_run_async` will not call `transform_cell` automatically in the future. Please pass the result to `transformed_cell` argument and any exception that happen during thetransform in `preprocessing_exc_tuple` in IPython 7.17 and above.\n",
      "  and should_run_async(code)\n"
     ]
    },
    {
     "data": {
      "text/html": [
       "<div>\n",
       "<style scoped>\n",
       "    .dataframe tbody tr th:only-of-type {\n",
       "        vertical-align: middle;\n",
       "    }\n",
       "\n",
       "    .dataframe tbody tr th {\n",
       "        vertical-align: top;\n",
       "    }\n",
       "\n",
       "    .dataframe thead th {\n",
       "        text-align: right;\n",
       "    }\n",
       "</style>\n",
       "<table border=\"1\" class=\"dataframe\">\n",
       "  <thead>\n",
       "    <tr style=\"text-align: right;\">\n",
       "      <th></th>\n",
       "      <th>HenID</th>\n",
       "      <th>PenID</th>\n",
       "      <th>CLASS</th>\n",
       "      <th>TagID</th>\n",
       "      <th>FocalLegringName</th>\n",
       "      <th>R-Pen</th>\n",
       "      <th>InitialStartDate</th>\n",
       "      <th>Treatment</th>\n",
       "      <th>level</th>\n",
       "      <th>DIB</th>\n",
       "      <th>...</th>\n",
       "      <th>perc_1_Zone_while_WG_open</th>\n",
       "      <th>SleepingHeight</th>\n",
       "      <th>WIB_HenID</th>\n",
       "      <th>avgDIB</th>\n",
       "      <th>date</th>\n",
       "      <th>temperature_C</th>\n",
       "      <th>temperature_C_avg</th>\n",
       "      <th>early_death</th>\n",
       "      <th>RearingPenID</th>\n",
       "      <th>InitialWeight</th>\n",
       "    </tr>\n",
       "  </thead>\n",
       "  <tbody>\n",
       "    <tr>\n",
       "      <th>0</th>\n",
       "      <td>hen_131</td>\n",
       "      <td>pen10</td>\n",
       "      <td>EPI</td>\n",
       "      <td>tag_128</td>\n",
       "      <td>19black</td>\n",
       "      <td>4.0</td>\n",
       "      <td>2020-06-10 00:00:00</td>\n",
       "      <td>TRAN</td>\n",
       "      <td>2020-10-10</td>\n",
       "      <td>11</td>\n",
       "      <td>...</td>\n",
       "      <td>0.0</td>\n",
       "      <td>5</td>\n",
       "      <td>2_hen_131</td>\n",
       "      <td>12.0</td>\n",
       "      <td>2020-10-10</td>\n",
       "      <td>[11, 11, 12, 12, 11, 12]</td>\n",
       "      <td>11.500000</td>\n",
       "      <td>0.0</td>\n",
       "      <td>4.0</td>\n",
       "      <td>1202.0</td>\n",
       "    </tr>\n",
       "    <tr>\n",
       "      <th>1</th>\n",
       "      <td>hen_131</td>\n",
       "      <td>pen10</td>\n",
       "      <td>EPI</td>\n",
       "      <td>tag_128</td>\n",
       "      <td>19black</td>\n",
       "      <td>4.0</td>\n",
       "      <td>2020-06-10 00:00:00</td>\n",
       "      <td>TRAN</td>\n",
       "      <td>2020-10-11</td>\n",
       "      <td>12</td>\n",
       "      <td>...</td>\n",
       "      <td>0.0</td>\n",
       "      <td>5</td>\n",
       "      <td>2_hen_131</td>\n",
       "      <td>12.0</td>\n",
       "      <td>2020-10-11</td>\n",
       "      <td>[10, 9, 11, 11, 10, 10]</td>\n",
       "      <td>10.166667</td>\n",
       "      <td>0.0</td>\n",
       "      <td>4.0</td>\n",
       "      <td>1202.0</td>\n",
       "    </tr>\n",
       "  </tbody>\n",
       "</table>\n",
       "<p>2 rows × 71 columns</p>\n",
       "</div>"
      ],
      "text/plain": [
       "     HenID  PenID CLASS    TagID FocalLegringName  R-Pen     InitialStartDate  \\\n",
       "0  hen_131  pen10   EPI  tag_128          19black    4.0  2020-06-10 00:00:00   \n",
       "1  hen_131  pen10   EPI  tag_128          19black    4.0  2020-06-10 00:00:00   \n",
       "\n",
       "  Treatment      level  DIB  ...  perc_1_Zone_while_WG_open  SleepingHeight  \\\n",
       "0      TRAN 2020-10-10   11  ...                        0.0               5   \n",
       "1      TRAN 2020-10-11   12  ...                        0.0               5   \n",
       "\n",
       "   WIB_HenID  avgDIB        date             temperature_C  temperature_C_avg  \\\n",
       "0  2_hen_131    12.0  2020-10-10  [11, 11, 12, 12, 11, 12]          11.500000   \n",
       "1  2_hen_131    12.0  2020-10-11   [10, 9, 11, 11, 10, 10]          10.166667   \n",
       "\n",
       "   early_death  RearingPenID  InitialWeight  \n",
       "0          0.0           4.0         1202.0  \n",
       "1          0.0           4.0         1202.0  \n",
       "\n",
       "[2 rows x 71 columns]"
      ]
     },
     "execution_count": 21,
     "metadata": {},
     "output_type": "execute_result"
    }
   ],
   "source": [
    "print(df_MVT_ALL.shape)\n",
    "df_MVT_ALL = pd.merge(df_MVT_ALL, df_FB[['HenID','early_death','RearingPenID','InitialWeight']], on='HenID', how='left')\n",
    "print(df_MVT_ALL.shape)\n",
    "df_MVT_ALL.head(2)"
   ]
  },
  {
   "cell_type": "markdown",
   "metadata": {},
   "source": [
    "### class"
   ]
  },
  {
   "cell_type": "code",
   "execution_count": 22,
   "metadata": {},
   "outputs": [
    {
     "name": "stderr",
     "output_type": "stream",
     "text": [
      "C:\\Users\\camil\\anaconda3\\lib\\site-packages\\ipykernel\\ipkernel.py:283: DeprecationWarning: `should_run_async` will not call `transform_cell` automatically in the future. Please pass the result to `transformed_cell` argument and any exception that happen during thetransform in `preprocessing_exc_tuple` in IPython 7.17 and above.\n",
      "  and should_run_async(code)\n"
     ]
    },
    {
     "data": {
      "text/plain": [
       "Other    2795\n",
       "MEXP     1421\n",
       "LEXP     1043\n",
       "Name: CLASS, dtype: int64"
      ]
     },
     "execution_count": 22,
     "metadata": {},
     "output_type": "execute_result"
    }
   ],
   "source": [
    "dico_cl = {'EPI':'Other','MEXP':'MEXP','LEXP':'LEXP','LEXPLOST':'Other','MEXPLOST':'Other'}\n",
    "df_MVT_ALL['CLASS'] = df_MVT_ALL['CLASS'].map(lambda x: dico_cl[x])\n",
    "df_MVT_ALL['CLASS'].value_counts()"
   ]
  },
  {
   "cell_type": "markdown",
   "metadata": {},
   "source": [
    "# PCA preprocessing"
   ]
  },
  {
   "cell_type": "raw",
   "metadata": {},
   "source": [
    "PCA but we have repeated measure per individual: avg per week, PCA over all to be comparable, assuming each (HenID,WIBavg) is different Extract linear composite of observed variables “to reduce the number of variables while retaining as much of the original variance as possible”"
   ]
  },
  {
   "cell_type": "raw",
   "metadata": {},
   "source": [
    "\"The PCA calculates a new projection of your data set. And the new axis are based on the standard deviation of your variables. So a variable with a high standard deviation will have a higher weight for the calculation of axis than a variable with a low standard deviation. If you normalize your data, all variables have the same standard deviation, thus all variables have the same weight and your PCA calculates relevant axis.\"\n",
    "--> normalization"
   ]
  },
  {
   "cell_type": "code",
   "execution_count": 23,
   "metadata": {},
   "outputs": [
    {
     "name": "stdout",
     "output_type": "stream",
     "text": [
      "['HenID', 'PenID', 'CLASS', 'TagID', 'FocalLegringName', 'R-Pen', 'InitialStartDate', 'Treatment', 'level', 'DIB', 'WIB', 'DOA', 'WOA', 'verification_daily_total_duration', 'TrackingSystemID', 'perc_duration_2_Zone', 'perc_duration_3_Zone', 'perc_duration_4_Zone', 'perc_duration_5_Zone', 'duration_1_Zone', 'duration_2_Zone', 'duration_3_Zone', 'duration_4_Zone', 'duration_5_Zone', 'nbr_stays_1_Zone', 'nbr_stays_2_Zone', 'nbr_stays_3_Zone', 'nbr_stays_4_Zone', 'nbr_stays_5_Zone', 'nbr_stays_1_Zone_perh', 'nbr_stays_2_Zone_perh', 'nbr_stays_3_Zone_perh', 'nbr_stays_4_Zone_perh', 'nbr_stays_5_Zone_perh', 'ratio_percdur_percstays_2_Zone', 'ratio_percdur_percstays_3_Zone', 'ratio_percdur_percstays_4_Zone', 'ratio_percdur_percstays_5_Zone', 'latency_2_Zone_h', 'latency_3_Zone_h', 'latency_4_Zone_h', 'latency_5_Zone_h', 'latency_since15mnnestbox_h', 'Total_number_transition', 'nbr_stays_total', 'distribution_entropy', 'Total_number_zone', 'Max_duration_zones', 'vertical_travel_distance', 'vertical_travel_distance_perh', 'activity_5percentile_h', 'activity_50percentile_h', 'activity_95percentile_h', 'percChaoticTransition', 'night_Max_duration_zones', 'is_mvt_night', 'empproba_3_Zone', 'empproba_4_Zone', 'empproba_2_Zone', 'in_WG_15mnAfterOpening', 'Max_duration_WG_h', 'perc_1_Zone_while_WG_open', 'SleepingHeight', 'WIB_HenID', 'avgDIB', 'date', 'temperature_C', 'temperature_C_avg', 'early_death', 'RearingPenID', 'InitialWeight']\n"
     ]
    },
    {
     "name": "stderr",
     "output_type": "stream",
     "text": [
      "C:\\Users\\camil\\anaconda3\\lib\\site-packages\\ipykernel\\ipkernel.py:283: DeprecationWarning: `should_run_async` will not call `transform_cell` automatically in the future. Please pass the result to `transformed_cell` argument and any exception that happen during thetransform in `preprocessing_exc_tuple` in IPython 7.17 and above.\n",
      "  and should_run_async(code)\n"
     ]
    }
   ],
   "source": [
    "print(list(df_MVT_ALL.columns))"
   ]
  },
  {
   "cell_type": "code",
   "execution_count": 24,
   "metadata": {},
   "outputs": [
    {
     "name": "stderr",
     "output_type": "stream",
     "text": [
      "C:\\Users\\camil\\anaconda3\\lib\\site-packages\\ipykernel\\ipkernel.py:283: DeprecationWarning: `should_run_async` will not call `transform_cell` automatically in the future. Please pass the result to `transformed_cell` argument and any exception that happen during thetransform in `preprocessing_exc_tuple` in IPython 7.17 and above.\n",
      "  and should_run_async(code)\n"
     ]
    },
    {
     "data": {
      "text/html": [
       "<div>\n",
       "<style scoped>\n",
       "    .dataframe tbody tr th:only-of-type {\n",
       "        vertical-align: middle;\n",
       "    }\n",
       "\n",
       "    .dataframe tbody tr th {\n",
       "        vertical-align: top;\n",
       "    }\n",
       "\n",
       "    .dataframe thead th {\n",
       "        text-align: right;\n",
       "    }\n",
       "</style>\n",
       "<table border=\"1\" class=\"dataframe\">\n",
       "  <thead>\n",
       "    <tr style=\"text-align: right;\">\n",
       "      <th></th>\n",
       "      <th>WIB</th>\n",
       "      <th>HenID</th>\n",
       "      <th>DIB</th>\n",
       "      <th>avgDIB</th>\n",
       "      <th>CLASS</th>\n",
       "      <th>TrackingSystemID</th>\n",
       "      <th>PenID</th>\n",
       "      <th>temperature_C_avg</th>\n",
       "      <th>early_death</th>\n",
       "      <th>RearingPenID</th>\n",
       "      <th>...</th>\n",
       "      <th>normalize_perc_duration_2_Zone</th>\n",
       "      <th>normalize_perc_1_Zone_while_WG_open</th>\n",
       "      <th>normalize_nbr_stays_2_Zone_perh</th>\n",
       "      <th>normalize_nbr_stays_3_Zone_perh</th>\n",
       "      <th>normalize_nbr_stays_5_Zone_perh</th>\n",
       "      <th>normalize_nbr_stays_1_Zone_perh</th>\n",
       "      <th>normalize_in_WG_15mnAfterOpening</th>\n",
       "      <th>normalize_distribution_entropy</th>\n",
       "      <th>normalize_SleepingHeight</th>\n",
       "      <th>normalize_vertical_travel_distance_perh</th>\n",
       "    </tr>\n",
       "  </thead>\n",
       "  <tbody>\n",
       "    <tr>\n",
       "      <th>0</th>\n",
       "      <td>2</td>\n",
       "      <td>hen_131</td>\n",
       "      <td>11</td>\n",
       "      <td>12.0</td>\n",
       "      <td>Other</td>\n",
       "      <td>TrackingSystem 10-12</td>\n",
       "      <td>pen10</td>\n",
       "      <td>11.500000</td>\n",
       "      <td>0.0</td>\n",
       "      <td>4.0</td>\n",
       "      <td>...</td>\n",
       "      <td>0.815576</td>\n",
       "      <td>0.0</td>\n",
       "      <td>0.012878</td>\n",
       "      <td>0.014308</td>\n",
       "      <td>0.004293</td>\n",
       "      <td>0.0</td>\n",
       "      <td>0.0</td>\n",
       "      <td>0.016652</td>\n",
       "      <td>0.071542</td>\n",
       "      <td>0.035771</td>\n",
       "    </tr>\n",
       "    <tr>\n",
       "      <th>1</th>\n",
       "      <td>2</td>\n",
       "      <td>hen_131</td>\n",
       "      <td>12</td>\n",
       "      <td>12.0</td>\n",
       "      <td>Other</td>\n",
       "      <td>TrackingSystem 10-12</td>\n",
       "      <td>pen10</td>\n",
       "      <td>10.166667</td>\n",
       "      <td>0.0</td>\n",
       "      <td>4.0</td>\n",
       "      <td>...</td>\n",
       "      <td>0.858344</td>\n",
       "      <td>0.0</td>\n",
       "      <td>0.012664</td>\n",
       "      <td>0.014071</td>\n",
       "      <td>0.001407</td>\n",
       "      <td>0.0</td>\n",
       "      <td>0.0</td>\n",
       "      <td>0.016041</td>\n",
       "      <td>0.070356</td>\n",
       "      <td>0.029550</td>\n",
       "    </tr>\n",
       "    <tr>\n",
       "      <th>2</th>\n",
       "      <td>2</td>\n",
       "      <td>hen_131</td>\n",
       "      <td>13</td>\n",
       "      <td>12.0</td>\n",
       "      <td>Other</td>\n",
       "      <td>TrackingSystem 10-12</td>\n",
       "      <td>pen10</td>\n",
       "      <td>9.000000</td>\n",
       "      <td>0.0</td>\n",
       "      <td>4.0</td>\n",
       "      <td>...</td>\n",
       "      <td>0.655207</td>\n",
       "      <td>0.0</td>\n",
       "      <td>0.010625</td>\n",
       "      <td>0.014167</td>\n",
       "      <td>0.007083</td>\n",
       "      <td>0.0</td>\n",
       "      <td>0.0</td>\n",
       "      <td>0.030777</td>\n",
       "      <td>0.053125</td>\n",
       "      <td>0.042500</td>\n",
       "    </tr>\n",
       "  </tbody>\n",
       "</table>\n",
       "<p>3 rows × 36 columns</p>\n",
       "</div>"
      ],
      "text/plain": [
       "   WIB    HenID  DIB  avgDIB  CLASS      TrackingSystemID  PenID  \\\n",
       "0    2  hen_131   11    12.0  Other  TrackingSystem 10-12  pen10   \n",
       "1    2  hen_131   12    12.0  Other  TrackingSystem 10-12  pen10   \n",
       "2    2  hen_131   13    12.0  Other  TrackingSystem 10-12  pen10   \n",
       "\n",
       "   temperature_C_avg  early_death  RearingPenID  ...  \\\n",
       "0          11.500000          0.0           4.0  ...   \n",
       "1          10.166667          0.0           4.0  ...   \n",
       "2           9.000000          0.0           4.0  ...   \n",
       "\n",
       "   normalize_perc_duration_2_Zone normalize_perc_1_Zone_while_WG_open  \\\n",
       "0                        0.815576                                 0.0   \n",
       "1                        0.858344                                 0.0   \n",
       "2                        0.655207                                 0.0   \n",
       "\n",
       "   normalize_nbr_stays_2_Zone_perh  normalize_nbr_stays_3_Zone_perh  \\\n",
       "0                         0.012878                         0.014308   \n",
       "1                         0.012664                         0.014071   \n",
       "2                         0.010625                         0.014167   \n",
       "\n",
       "   normalize_nbr_stays_5_Zone_perh  normalize_nbr_stays_1_Zone_perh  \\\n",
       "0                         0.004293                              0.0   \n",
       "1                         0.001407                              0.0   \n",
       "2                         0.007083                              0.0   \n",
       "\n",
       "   normalize_in_WG_15mnAfterOpening  normalize_distribution_entropy  \\\n",
       "0                               0.0                        0.016652   \n",
       "1                               0.0                        0.016041   \n",
       "2                               0.0                        0.030777   \n",
       "\n",
       "   normalize_SleepingHeight  normalize_vertical_travel_distance_perh  \n",
       "0                  0.071542                                 0.035771  \n",
       "1                  0.070356                                 0.029550  \n",
       "2                  0.053125                                 0.042500  \n",
       "\n",
       "[3 rows x 36 columns]"
      ]
     },
     "execution_count": 24,
     "metadata": {},
     "output_type": "execute_result"
    }
   ],
   "source": [
    "#reduce to what we need and add normalized data (keeping both)\n",
    "#without WG as not existing in week 1\n",
    "li_var = ['perc_duration_5_Zone', 'perc_duration_3_Zone', 'perc_duration_2_Zone','perc_1_Zone_while_WG_open',\n",
    "          'nbr_stays_2_Zone_perh', 'nbr_stays_3_Zone_perh', 'nbr_stays_5_Zone_perh','nbr_stays_1_Zone_perh',\n",
    "          'in_WG_15mnAfterOpening','distribution_entropy', 'SleepingHeight','vertical_travel_distance_perh']\n",
    "li_pca = ['normalize_'+i for i in li_var]\n",
    "df_MVT_ALL[li_pca] = preprocessing.normalize(df_MVT_ALL[li_var])\n",
    "df_MVT = df_MVT_ALL[['WIB','HenID','DIB','avgDIB','CLASS','TrackingSystemID','PenID','temperature_C_avg',\n",
    "                     'early_death','RearingPenID','InitialWeight','Treatment']+li_var+li_pca].copy()\n",
    "df_MVT.head(3)"
   ]
  },
  {
   "cell_type": "markdown",
   "metadata": {},
   "source": [
    "# PCA on first obs. / week / ind"
   ]
  },
  {
   "cell_type": "code",
   "execution_count": 25,
   "metadata": {},
   "outputs": [
    {
     "name": "stderr",
     "output_type": "stream",
     "text": [
      "C:\\Users\\camil\\anaconda3\\lib\\site-packages\\ipykernel\\ipkernel.py:283: DeprecationWarning: `should_run_async` will not call `transform_cell` automatically in the future. Please pass the result to `transformed_cell` argument and any exception that happen during thetransform in `preprocessing_exc_tuple` in IPython 7.17 and above.\n",
      "  and should_run_async(code)\n"
     ]
    },
    {
     "data": {
      "text/html": [
       "<div>\n",
       "<style scoped>\n",
       "    .dataframe tbody tr th:only-of-type {\n",
       "        vertical-align: middle;\n",
       "    }\n",
       "\n",
       "    .dataframe tbody tr th {\n",
       "        vertical-align: top;\n",
       "    }\n",
       "\n",
       "    .dataframe thead th {\n",
       "        text-align: right;\n",
       "    }\n",
       "</style>\n",
       "<table border=\"1\" class=\"dataframe\">\n",
       "  <thead>\n",
       "    <tr style=\"text-align: right;\">\n",
       "      <th></th>\n",
       "      <th>normalize_perc_duration_5_Zone</th>\n",
       "      <th>normalize_perc_duration_3_Zone</th>\n",
       "      <th>normalize_perc_duration_2_Zone</th>\n",
       "      <th>normalize_perc_1_Zone_while_WG_open</th>\n",
       "      <th>normalize_nbr_stays_2_Zone_perh</th>\n",
       "      <th>normalize_nbr_stays_3_Zone_perh</th>\n",
       "      <th>normalize_nbr_stays_5_Zone_perh</th>\n",
       "      <th>normalize_nbr_stays_1_Zone_perh</th>\n",
       "      <th>normalize_in_WG_15mnAfterOpening</th>\n",
       "      <th>normalize_distribution_entropy</th>\n",
       "      <th>normalize_SleepingHeight</th>\n",
       "      <th>normalize_vertical_travel_distance_perh</th>\n",
       "      <th>component_importance</th>\n",
       "      <th>explained variance</th>\n",
       "    </tr>\n",
       "  </thead>\n",
       "  <tbody>\n",
       "    <tr>\n",
       "      <th>0</th>\n",
       "      <td>-0.713422</td>\n",
       "      <td>0.334002</td>\n",
       "      <td>0.610089</td>\n",
       "      <td>0.068254</td>\n",
       "      <td>0.018986</td>\n",
       "      <td>0.020079</td>\n",
       "      <td>-0.000638</td>\n",
       "      <td>0.005049</td>\n",
       "      <td>0.003054</td>\n",
       "      <td>0.012419</td>\n",
       "      <td>0.006988</td>\n",
       "      <td>0.040031</td>\n",
       "      <td>0.801106</td>\n",
       "      <td>0.257092</td>\n",
       "    </tr>\n",
       "    <tr>\n",
       "      <th>1</th>\n",
       "      <td>-0.118035</td>\n",
       "      <td>0.767697</td>\n",
       "      <td>-0.586815</td>\n",
       "      <td>0.224058</td>\n",
       "      <td>0.011357</td>\n",
       "      <td>0.016157</td>\n",
       "      <td>0.000292</td>\n",
       "      <td>0.011552</td>\n",
       "      <td>0.004777</td>\n",
       "      <td>0.015493</td>\n",
       "      <td>0.024172</td>\n",
       "      <td>0.028012</td>\n",
       "      <td>0.104524</td>\n",
       "      <td>0.033544</td>\n",
       "    </tr>\n",
       "  </tbody>\n",
       "</table>\n",
       "</div>"
      ],
      "text/plain": [
       "   normalize_perc_duration_5_Zone  normalize_perc_duration_3_Zone  \\\n",
       "0                       -0.713422                        0.334002   \n",
       "1                       -0.118035                        0.767697   \n",
       "\n",
       "   normalize_perc_duration_2_Zone  normalize_perc_1_Zone_while_WG_open  \\\n",
       "0                        0.610089                             0.068254   \n",
       "1                       -0.586815                             0.224058   \n",
       "\n",
       "   normalize_nbr_stays_2_Zone_perh  normalize_nbr_stays_3_Zone_perh  \\\n",
       "0                         0.018986                         0.020079   \n",
       "1                         0.011357                         0.016157   \n",
       "\n",
       "   normalize_nbr_stays_5_Zone_perh  normalize_nbr_stays_1_Zone_perh  \\\n",
       "0                        -0.000638                         0.005049   \n",
       "1                         0.000292                         0.011552   \n",
       "\n",
       "   normalize_in_WG_15mnAfterOpening  normalize_distribution_entropy  \\\n",
       "0                          0.003054                        0.012419   \n",
       "1                          0.004777                        0.015493   \n",
       "\n",
       "   normalize_SleepingHeight  normalize_vertical_travel_distance_perh  \\\n",
       "0                  0.006988                                 0.040031   \n",
       "1                  0.024172                                 0.028012   \n",
       "\n",
       "   component_importance  explained variance  \n",
       "0              0.801106            0.257092  \n",
       "1              0.104524            0.033544  "
      ]
     },
     "execution_count": 25,
     "metadata": {},
     "output_type": "execute_result"
    }
   ],
   "source": [
    "#df to do PCA on first observation per week per bird \n",
    "df_pca = df_MVT.groupby(['WIB','HenID'])[li_pca].agg(lambda x: list(x)[0]).reset_index()\n",
    "df_pca.head(3)\n",
    "\n",
    "#PCA with two components\n",
    "pca = PCA(n_components=2)\n",
    "X = df_pca[li_pca]\n",
    "pca.fit(X)\n",
    "\n",
    "#eigenvectores and eigenvules: pca.components_ has shape [n_components, n_features]\n",
    "df_pca_res = pd.DataFrame(pca.components_, columns=li_pca)\n",
    "df_pca_res['component_importance'] = pca.explained_variance_ratio_\n",
    "df_pca_res['explained variance'] = pca.explained_variance_\n",
    "df_pca_res"
   ]
  },
  {
   "cell_type": "code",
   "execution_count": 26,
   "metadata": {},
   "outputs": [
    {
     "name": "stderr",
     "output_type": "stream",
     "text": [
      "C:\\Users\\camil\\anaconda3\\lib\\site-packages\\ipykernel\\ipkernel.py:283: DeprecationWarning: `should_run_async` will not call `transform_cell` automatically in the future. Please pass the result to `transformed_cell` argument and any exception that happen during thetransform in `preprocessing_exc_tuple` in IPython 7.17 and above.\n",
      "  and should_run_async(code)\n"
     ]
    },
    {
     "data": {
      "text/html": [
       "<div>\n",
       "<style scoped>\n",
       "    .dataframe tbody tr th:only-of-type {\n",
       "        vertical-align: middle;\n",
       "    }\n",
       "\n",
       "    .dataframe tbody tr th {\n",
       "        vertical-align: top;\n",
       "    }\n",
       "\n",
       "    .dataframe thead th {\n",
       "        text-align: right;\n",
       "    }\n",
       "</style>\n",
       "<table border=\"1\" class=\"dataframe\">\n",
       "  <thead>\n",
       "    <tr style=\"text-align: right;\">\n",
       "      <th></th>\n",
       "      <th>PC1</th>\n",
       "      <th>PC2</th>\n",
       "    </tr>\n",
       "  </thead>\n",
       "  <tbody>\n",
       "    <tr>\n",
       "      <th>normalize_perc_duration_5_Zone</th>\n",
       "      <td>-0.361735</td>\n",
       "      <td>-0.021618</td>\n",
       "    </tr>\n",
       "    <tr>\n",
       "      <th>normalize_perc_duration_3_Zone</th>\n",
       "      <td>0.169353</td>\n",
       "      <td>0.140604</td>\n",
       "    </tr>\n",
       "    <tr>\n",
       "      <th>normalize_perc_duration_2_Zone</th>\n",
       "      <td>0.309341</td>\n",
       "      <td>-0.107476</td>\n",
       "    </tr>\n",
       "    <tr>\n",
       "      <th>normalize_perc_1_Zone_while_WG_open</th>\n",
       "      <td>0.034607</td>\n",
       "      <td>0.041036</td>\n",
       "    </tr>\n",
       "    <tr>\n",
       "      <th>normalize_nbr_stays_2_Zone_perh</th>\n",
       "      <td>0.009627</td>\n",
       "      <td>0.002080</td>\n",
       "    </tr>\n",
       "    <tr>\n",
       "      <th>normalize_nbr_stays_3_Zone_perh</th>\n",
       "      <td>0.010181</td>\n",
       "      <td>0.002959</td>\n",
       "    </tr>\n",
       "    <tr>\n",
       "      <th>normalize_nbr_stays_5_Zone_perh</th>\n",
       "      <td>-0.000323</td>\n",
       "      <td>0.000053</td>\n",
       "    </tr>\n",
       "    <tr>\n",
       "      <th>normalize_nbr_stays_1_Zone_perh</th>\n",
       "      <td>0.002560</td>\n",
       "      <td>0.002116</td>\n",
       "    </tr>\n",
       "    <tr>\n",
       "      <th>normalize_in_WG_15mnAfterOpening</th>\n",
       "      <td>0.001548</td>\n",
       "      <td>0.000875</td>\n",
       "    </tr>\n",
       "    <tr>\n",
       "      <th>normalize_distribution_entropy</th>\n",
       "      <td>0.006297</td>\n",
       "      <td>0.002838</td>\n",
       "    </tr>\n",
       "    <tr>\n",
       "      <th>normalize_SleepingHeight</th>\n",
       "      <td>0.003543</td>\n",
       "      <td>0.004427</td>\n",
       "    </tr>\n",
       "    <tr>\n",
       "      <th>normalize_vertical_travel_distance_perh</th>\n",
       "      <td>0.020297</td>\n",
       "      <td>0.005130</td>\n",
       "    </tr>\n",
       "  </tbody>\n",
       "</table>\n",
       "</div>"
      ],
      "text/plain": [
       "                                              PC1       PC2\n",
       "normalize_perc_duration_5_Zone          -0.361735 -0.021618\n",
       "normalize_perc_duration_3_Zone           0.169353  0.140604\n",
       "normalize_perc_duration_2_Zone           0.309341 -0.107476\n",
       "normalize_perc_1_Zone_while_WG_open      0.034607  0.041036\n",
       "normalize_nbr_stays_2_Zone_perh          0.009627  0.002080\n",
       "normalize_nbr_stays_3_Zone_perh          0.010181  0.002959\n",
       "normalize_nbr_stays_5_Zone_perh         -0.000323  0.000053\n",
       "normalize_nbr_stays_1_Zone_perh          0.002560  0.002116\n",
       "normalize_in_WG_15mnAfterOpening         0.001548  0.000875\n",
       "normalize_distribution_entropy           0.006297  0.002838\n",
       "normalize_SleepingHeight                 0.003543  0.004427\n",
       "normalize_vertical_travel_distance_perh  0.020297  0.005130"
      ]
     },
     "execution_count": 26,
     "metadata": {},
     "output_type": "execute_result"
    }
   ],
   "source": [
    "loadings = pca.components_.T * np.sqrt(pca.explained_variance_)\n",
    "loading_matrix = pd.DataFrame(loadings, columns=['PC1', 'PC2'], index=li_pca)\n",
    "loading_matrix"
   ]
  },
  {
   "cell_type": "code",
   "execution_count": 27,
   "metadata": {},
   "outputs": [
    {
     "name": "stderr",
     "output_type": "stream",
     "text": [
      "C:\\Users\\camil\\anaconda3\\lib\\site-packages\\ipykernel\\ipkernel.py:283: DeprecationWarning: `should_run_async` will not call `transform_cell` automatically in the future. Please pass the result to `transformed_cell` argument and any exception that happen during thetransform in `preprocessing_exc_tuple` in IPython 7.17 and above.\n",
      "  and should_run_async(code)\n"
     ]
    },
    {
     "data": {
      "text/html": [
       "<div>\n",
       "<style scoped>\n",
       "    .dataframe tbody tr th:only-of-type {\n",
       "        vertical-align: middle;\n",
       "    }\n",
       "\n",
       "    .dataframe tbody tr th {\n",
       "        vertical-align: top;\n",
       "    }\n",
       "\n",
       "    .dataframe thead th {\n",
       "        text-align: right;\n",
       "    }\n",
       "</style>\n",
       "<table border=\"1\" class=\"dataframe\">\n",
       "  <thead>\n",
       "    <tr style=\"text-align: right;\">\n",
       "      <th></th>\n",
       "      <th>WIB</th>\n",
       "      <th>HenID</th>\n",
       "      <th>DIB</th>\n",
       "      <th>avgDIB</th>\n",
       "      <th>CLASS</th>\n",
       "      <th>TrackingSystemID</th>\n",
       "      <th>PenID</th>\n",
       "      <th>temperature_C_avg</th>\n",
       "      <th>early_death</th>\n",
       "      <th>RearingPenID</th>\n",
       "      <th>...</th>\n",
       "      <th>normalize_nbr_stays_2_Zone_perh</th>\n",
       "      <th>normalize_nbr_stays_3_Zone_perh</th>\n",
       "      <th>normalize_nbr_stays_5_Zone_perh</th>\n",
       "      <th>normalize_nbr_stays_1_Zone_perh</th>\n",
       "      <th>normalize_in_WG_15mnAfterOpening</th>\n",
       "      <th>normalize_distribution_entropy</th>\n",
       "      <th>normalize_SleepingHeight</th>\n",
       "      <th>normalize_vertical_travel_distance_perh</th>\n",
       "      <th>tuple_PCA</th>\n",
       "      <th>PC1</th>\n",
       "    </tr>\n",
       "  </thead>\n",
       "  <tbody>\n",
       "    <tr>\n",
       "      <th>0</th>\n",
       "      <td>2</td>\n",
       "      <td>hen_131</td>\n",
       "      <td>11</td>\n",
       "      <td>12.0</td>\n",
       "      <td>Other</td>\n",
       "      <td>TrackingSystem 10-12</td>\n",
       "      <td>pen10</td>\n",
       "      <td>11.500000</td>\n",
       "      <td>0.0</td>\n",
       "      <td>4.0</td>\n",
       "      <td>...</td>\n",
       "      <td>0.012878</td>\n",
       "      <td>0.014308</td>\n",
       "      <td>0.004293</td>\n",
       "      <td>0.0</td>\n",
       "      <td>0.0</td>\n",
       "      <td>0.016652</td>\n",
       "      <td>0.071542</td>\n",
       "      <td>0.035771</td>\n",
       "      <td>[[0.6955999878285367, 0.08595714011064119]]</td>\n",
       "      <td>0.695600</td>\n",
       "    </tr>\n",
       "    <tr>\n",
       "      <th>1</th>\n",
       "      <td>2</td>\n",
       "      <td>hen_131</td>\n",
       "      <td>12</td>\n",
       "      <td>12.0</td>\n",
       "      <td>Other</td>\n",
       "      <td>TrackingSystem 10-12</td>\n",
       "      <td>pen10</td>\n",
       "      <td>10.166667</td>\n",
       "      <td>0.0</td>\n",
       "      <td>4.0</td>\n",
       "      <td>...</td>\n",
       "      <td>0.012664</td>\n",
       "      <td>0.014071</td>\n",
       "      <td>0.001407</td>\n",
       "      <td>0.0</td>\n",
       "      <td>0.0</td>\n",
       "      <td>0.016041</td>\n",
       "      <td>0.070356</td>\n",
       "      <td>0.029550</td>\n",
       "      <td>[[0.6996218765086305, 0.010177046798324282]]</td>\n",
       "      <td>0.699622</td>\n",
       "    </tr>\n",
       "    <tr>\n",
       "      <th>2</th>\n",
       "      <td>2</td>\n",
       "      <td>hen_131</td>\n",
       "      <td>13</td>\n",
       "      <td>12.0</td>\n",
       "      <td>Other</td>\n",
       "      <td>TrackingSystem 10-12</td>\n",
       "      <td>pen10</td>\n",
       "      <td>9.000000</td>\n",
       "      <td>0.0</td>\n",
       "      <td>4.0</td>\n",
       "      <td>...</td>\n",
       "      <td>0.010625</td>\n",
       "      <td>0.014167</td>\n",
       "      <td>0.007083</td>\n",
       "      <td>0.0</td>\n",
       "      <td>0.0</td>\n",
       "      <td>0.030777</td>\n",
       "      <td>0.053125</td>\n",
       "      <td>0.042500</td>\n",
       "      <td>[[0.11685466118325571, -0.00457759505510027]]</td>\n",
       "      <td>0.116855</td>\n",
       "    </tr>\n",
       "  </tbody>\n",
       "</table>\n",
       "<p>3 rows × 38 columns</p>\n",
       "</div>"
      ],
      "text/plain": [
       "   WIB    HenID  DIB  avgDIB  CLASS      TrackingSystemID  PenID  \\\n",
       "0    2  hen_131   11    12.0  Other  TrackingSystem 10-12  pen10   \n",
       "1    2  hen_131   12    12.0  Other  TrackingSystem 10-12  pen10   \n",
       "2    2  hen_131   13    12.0  Other  TrackingSystem 10-12  pen10   \n",
       "\n",
       "   temperature_C_avg  early_death  RearingPenID  ...  \\\n",
       "0          11.500000          0.0           4.0  ...   \n",
       "1          10.166667          0.0           4.0  ...   \n",
       "2           9.000000          0.0           4.0  ...   \n",
       "\n",
       "   normalize_nbr_stays_2_Zone_perh normalize_nbr_stays_3_Zone_perh  \\\n",
       "0                         0.012878                        0.014308   \n",
       "1                         0.012664                        0.014071   \n",
       "2                         0.010625                        0.014167   \n",
       "\n",
       "   normalize_nbr_stays_5_Zone_perh  normalize_nbr_stays_1_Zone_perh  \\\n",
       "0                         0.004293                              0.0   \n",
       "1                         0.001407                              0.0   \n",
       "2                         0.007083                              0.0   \n",
       "\n",
       "   normalize_in_WG_15mnAfterOpening  normalize_distribution_entropy  \\\n",
       "0                               0.0                        0.016652   \n",
       "1                               0.0                        0.016041   \n",
       "2                               0.0                        0.030777   \n",
       "\n",
       "   normalize_SleepingHeight  normalize_vertical_travel_distance_perh  \\\n",
       "0                  0.071542                                 0.035771   \n",
       "1                  0.070356                                 0.029550   \n",
       "2                  0.053125                                 0.042500   \n",
       "\n",
       "                                       tuple_PCA       PC1  \n",
       "0    [[0.6955999878285367, 0.08595714011064119]]  0.695600  \n",
       "1   [[0.6996218765086305, 0.010177046798324282]]  0.699622  \n",
       "2  [[0.11685466118325571, -0.00457759505510027]]  0.116855  \n",
       "\n",
       "[3 rows x 38 columns]"
      ]
     },
     "metadata": {},
     "output_type": "display_data"
    }
   ],
   "source": [
    "#add PCA component per ind per day\n",
    "df_MVT['tuple_PCA'] = df_MVT.apply(lambda x: pca.transform(np.array([x[li_pca]])), axis=1)\n",
    "#only keep first one as explaines more than 80% of the var tot\n",
    "df_MVT['PC1'] = df_MVT['tuple_PCA'].map(lambda x: x[0][0])\n",
    "display(df_MVT.head(3))"
   ]
  },
  {
   "cell_type": "code",
   "execution_count": 28,
   "metadata": {},
   "outputs": [
    {
     "name": "stdout",
     "output_type": "stream",
     "text": [
      "(0.10479155110817993, 2.5653872278521132e-14) (0.9255907395839472, 0.0)\n"
     ]
    },
    {
     "name": "stderr",
     "output_type": "stream",
     "text": [
      "C:\\Users\\camil\\anaconda3\\lib\\site-packages\\ipykernel\\ipkernel.py:283: DeprecationWarning: `should_run_async` will not call `transform_cell` automatically in the future. Please pass the result to `transformed_cell` argument and any exception that happen during thetransform in `preprocessing_exc_tuple` in IPython 7.17 and above.\n",
      "  and should_run_async(code)\n"
     ]
    }
   ],
   "source": [
    "from scipy.stats import pearsonr\n",
    "print(pearsonr(df_MVT['PC1'].tolist(), df_MVT['normalize_SleepingHeight'].tolist()),\n",
    "pearsonr(df_MVT['PC1'].tolist(), df_MVT['normalize_perc_duration_2_Zone'].tolist()))"
   ]
  },
  {
   "cell_type": "markdown",
   "metadata": {},
   "source": [
    "# Validity of PC1 - PCA on full dataset"
   ]
  },
  {
   "cell_type": "code",
   "execution_count": 29,
   "metadata": {},
   "outputs": [
    {
     "name": "stderr",
     "output_type": "stream",
     "text": [
      "C:\\Users\\camil\\anaconda3\\lib\\site-packages\\ipykernel\\ipkernel.py:283: DeprecationWarning: `should_run_async` will not call `transform_cell` automatically in the future. Please pass the result to `transformed_cell` argument and any exception that happen during thetransform in `preprocessing_exc_tuple` in IPython 7.17 and above.\n",
      "  and should_run_async(code)\n"
     ]
    },
    {
     "data": {
      "image/png": "[encoded data removed]",
      "text/plain": [
       "<Figure size 432x288 with 2 Axes>"
      ]
     },
     "metadata": {
      "needs_background": "light"
     },
     "output_type": "display_data"
    },
    {
     "data": {
      "image/png": "[encoded data removed]",
      "text/plain": [
       "<Figure size 432x288 with 2 Axes>"
      ]
     },
     "metadata": {
      "needs_background": "light"
     },
     "output_type": "display_data"
    }
   ],
   "source": [
    "#df to do PCA on full dataset\n",
    "df_pca_validity = df_MVT[li_pca].copy()\n",
    "df_pca_validity.head(3)\n",
    "\n",
    "#PCA with two components\n",
    "pca_validity = PCA(n_components=2)\n",
    "X = df_pca_validity[li_pca]\n",
    "pca_validity.fit(X)\n",
    "\n",
    "loadings_validity = pca_validity.components_.T * np.sqrt(pca_validity.explained_variance_)\n",
    "loading_matrix_validity = pd.DataFrame(loadings_validity, columns=['PC1', 'PC2'], index=li_pca)\n",
    "\n",
    "sns.heatmap(loading_matrix_validity[['PC1','PC2']], annot=True)\n",
    "plt.title('Loadings of PCA on full dataset')\n",
    "plt.savefig(os.path.join(path_extracted_data_adap,'Loadings of PCA performed on full dataset.png'), bbox_inches='tight')\n",
    "plt.show()\n",
    "sns.heatmap(loading_matrix[['PC1','PC2']], annot=True)\n",
    "plt.title('Loadings of PCA on first obs per week per ind');\n",
    "plt.savefig(os.path.join(path_extracted_data_adap,'Loadings of PCA performed on first obs per week per ind.png'), bbox_inches='tight')"
   ]
  },
  {
   "cell_type": "markdown",
   "metadata": {},
   "source": [
    "# Save"
   ]
  },
  {
   "cell_type": "code",
   "execution_count": 30,
   "metadata": {},
   "outputs": [
    {
     "name": "stdout",
     "output_type": "stream",
     "text": [
      "(5259, 39)\n"
     ]
    },
    {
     "name": "stderr",
     "output_type": "stream",
     "text": [
      "C:\\Users\\camil\\anaconda3\\lib\\site-packages\\ipykernel\\ipkernel.py:283: DeprecationWarning: `should_run_async` will not call `transform_cell` automatically in the future. Please pass the result to `transformed_cell` argument and any exception that happen during thetransform in `preprocessing_exc_tuple` in IPython 7.17 and above.\n",
      "  and should_run_async(code)\n"
     ]
    },
    {
     "data": {
      "text/html": [
       "<div>\n",
       "<style scoped>\n",
       "    .dataframe tbody tr th:only-of-type {\n",
       "        vertical-align: middle;\n",
       "    }\n",
       "\n",
       "    .dataframe tbody tr th {\n",
       "        vertical-align: top;\n",
       "    }\n",
       "\n",
       "    .dataframe thead th {\n",
       "        text-align: right;\n",
       "    }\n",
       "</style>\n",
       "<table border=\"1\" class=\"dataframe\">\n",
       "  <thead>\n",
       "    <tr style=\"text-align: right;\">\n",
       "      <th></th>\n",
       "      <th>WIB</th>\n",
       "      <th>HenID</th>\n",
       "      <th>DIB</th>\n",
       "      <th>avgDIB</th>\n",
       "      <th>CLASS</th>\n",
       "      <th>TrackingSystemID</th>\n",
       "      <th>PenID</th>\n",
       "      <th>temperature_C_avg</th>\n",
       "      <th>early_death</th>\n",
       "      <th>RearingPenID</th>\n",
       "      <th>...</th>\n",
       "      <th>normalize_nbr_stays_3_Zone_perh</th>\n",
       "      <th>normalize_nbr_stays_5_Zone_perh</th>\n",
       "      <th>normalize_nbr_stays_1_Zone_perh</th>\n",
       "      <th>normalize_in_WG_15mnAfterOpening</th>\n",
       "      <th>normalize_distribution_entropy</th>\n",
       "      <th>normalize_SleepingHeight</th>\n",
       "      <th>normalize_vertical_travel_distance_perh</th>\n",
       "      <th>tuple_PCA</th>\n",
       "      <th>PC1</th>\n",
       "      <th>PC1_standardized</th>\n",
       "    </tr>\n",
       "  </thead>\n",
       "  <tbody>\n",
       "    <tr>\n",
       "      <th>0</th>\n",
       "      <td>2</td>\n",
       "      <td>hen_131</td>\n",
       "      <td>11</td>\n",
       "      <td>12.0</td>\n",
       "      <td>Other</td>\n",
       "      <td>TrackingSystem 10-12</td>\n",
       "      <td>pen10</td>\n",
       "      <td>11.500000</td>\n",
       "      <td>0.0</td>\n",
       "      <td>4.0</td>\n",
       "      <td>...</td>\n",
       "      <td>0.014308</td>\n",
       "      <td>0.004293</td>\n",
       "      <td>0.0</td>\n",
       "      <td>0.0</td>\n",
       "      <td>0.016652</td>\n",
       "      <td>0.071542</td>\n",
       "      <td>0.035771</td>\n",
       "      <td>[[0.6955999878285367, 0.08595714011064119]]</td>\n",
       "      <td>0.695600</td>\n",
       "      <td>1.326127</td>\n",
       "    </tr>\n",
       "    <tr>\n",
       "      <th>1</th>\n",
       "      <td>2</td>\n",
       "      <td>hen_131</td>\n",
       "      <td>12</td>\n",
       "      <td>12.0</td>\n",
       "      <td>Other</td>\n",
       "      <td>TrackingSystem 10-12</td>\n",
       "      <td>pen10</td>\n",
       "      <td>10.166667</td>\n",
       "      <td>0.0</td>\n",
       "      <td>4.0</td>\n",
       "      <td>...</td>\n",
       "      <td>0.014071</td>\n",
       "      <td>0.001407</td>\n",
       "      <td>0.0</td>\n",
       "      <td>0.0</td>\n",
       "      <td>0.016041</td>\n",
       "      <td>0.070356</td>\n",
       "      <td>0.029550</td>\n",
       "      <td>[[0.6996218765086305, 0.010177046798324282]]</td>\n",
       "      <td>0.699622</td>\n",
       "      <td>1.334329</td>\n",
       "    </tr>\n",
       "    <tr>\n",
       "      <th>2</th>\n",
       "      <td>2</td>\n",
       "      <td>hen_131</td>\n",
       "      <td>13</td>\n",
       "      <td>12.0</td>\n",
       "      <td>Other</td>\n",
       "      <td>TrackingSystem 10-12</td>\n",
       "      <td>pen10</td>\n",
       "      <td>9.000000</td>\n",
       "      <td>0.0</td>\n",
       "      <td>4.0</td>\n",
       "      <td>...</td>\n",
       "      <td>0.014167</td>\n",
       "      <td>0.007083</td>\n",
       "      <td>0.0</td>\n",
       "      <td>0.0</td>\n",
       "      <td>0.030777</td>\n",
       "      <td>0.053125</td>\n",
       "      <td>0.042500</td>\n",
       "      <td>[[0.11685466118325571, -0.00457759505510027]]</td>\n",
       "      <td>0.116855</td>\n",
       "      <td>0.145793</td>\n",
       "    </tr>\n",
       "  </tbody>\n",
       "</table>\n",
       "<p>3 rows × 39 columns</p>\n",
       "</div>"
      ],
      "text/plain": [
       "   WIB    HenID  DIB  avgDIB  CLASS      TrackingSystemID  PenID  \\\n",
       "0    2  hen_131   11    12.0  Other  TrackingSystem 10-12  pen10   \n",
       "1    2  hen_131   12    12.0  Other  TrackingSystem 10-12  pen10   \n",
       "2    2  hen_131   13    12.0  Other  TrackingSystem 10-12  pen10   \n",
       "\n",
       "   temperature_C_avg  early_death  RearingPenID  ...  \\\n",
       "0          11.500000          0.0           4.0  ...   \n",
       "1          10.166667          0.0           4.0  ...   \n",
       "2           9.000000          0.0           4.0  ...   \n",
       "\n",
       "   normalize_nbr_stays_3_Zone_perh normalize_nbr_stays_5_Zone_perh  \\\n",
       "0                         0.014308                        0.004293   \n",
       "1                         0.014071                        0.001407   \n",
       "2                         0.014167                        0.007083   \n",
       "\n",
       "   normalize_nbr_stays_1_Zone_perh  normalize_in_WG_15mnAfterOpening  \\\n",
       "0                              0.0                               0.0   \n",
       "1                              0.0                               0.0   \n",
       "2                              0.0                               0.0   \n",
       "\n",
       "   normalize_distribution_entropy  normalize_SleepingHeight  \\\n",
       "0                        0.016652                  0.071542   \n",
       "1                        0.016041                  0.070356   \n",
       "2                        0.030777                  0.053125   \n",
       "\n",
       "   normalize_vertical_travel_distance_perh  \\\n",
       "0                                 0.035771   \n",
       "1                                 0.029550   \n",
       "2                                 0.042500   \n",
       "\n",
       "                                       tuple_PCA       PC1  PC1_standardized  \n",
       "0    [[0.6955999878285367, 0.08595714011064119]]  0.695600          1.326127  \n",
       "1   [[0.6996218765086305, 0.010177046798324282]]  0.699622          1.334329  \n",
       "2  [[0.11685466118325571, -0.00457759505510027]]  0.116855          0.145793  \n",
       "\n",
       "[3 rows x 39 columns]"
      ]
     },
     "metadata": {},
     "output_type": "display_data"
    }
   ],
   "source": [
    "df_MVT['PC1_standardized'] = preprocessing.scale(df_MVT['PC1'])\n",
    "print(df_MVT.shape)\n",
    "display(df_MVT.head(3))\n",
    "df_MVT.to_csv(os.path.join(path_extracted_data_adap,'df_MVT_4individuality.csv'), index=False, sep=';')"
   ]
  },
  {
   "cell_type": "code",
   "execution_count": 31,
   "metadata": {},
   "outputs": [
    {
     "name": "stderr",
     "output_type": "stream",
     "text": [
      "C:\\Users\\camil\\anaconda3\\lib\\site-packages\\ipykernel\\ipkernel.py:283: DeprecationWarning: `should_run_async` will not call `transform_cell` automatically in the future. Please pass the result to `transformed_cell` argument and any exception that happen during thetransform in `preprocessing_exc_tuple` in IPython 7.17 and above.\n",
      "  and should_run_async(code)\n"
     ]
    },
    {
     "data": {
      "text/html": [
       "<div>\n",
       "<style scoped>\n",
       "    .dataframe tbody tr th:only-of-type {\n",
       "        vertical-align: middle;\n",
       "    }\n",
       "\n",
       "    .dataframe tbody tr th {\n",
       "        vertical-align: top;\n",
       "    }\n",
       "\n",
       "    .dataframe thead th {\n",
       "        text-align: right;\n",
       "    }\n",
       "</style>\n",
       "<table border=\"1\" class=\"dataframe\">\n",
       "  <thead>\n",
       "    <tr style=\"text-align: right;\">\n",
       "      <th></th>\n",
       "      <th>WIB</th>\n",
       "      <th>CLASS</th>\n",
       "      <th>HenID</th>\n",
       "    </tr>\n",
       "  </thead>\n",
       "  <tbody>\n",
       "    <tr>\n",
       "      <th>0</th>\n",
       "      <td>2</td>\n",
       "      <td>LEXP</td>\n",
       "      <td>26</td>\n",
       "    </tr>\n",
       "    <tr>\n",
       "      <th>1</th>\n",
       "      <td>2</td>\n",
       "      <td>MEXP</td>\n",
       "      <td>35</td>\n",
       "    </tr>\n",
       "    <tr>\n",
       "      <th>2</th>\n",
       "      <td>2</td>\n",
       "      <td>Other</td>\n",
       "      <td>69</td>\n",
       "    </tr>\n",
       "    <tr>\n",
       "      <th>3</th>\n",
       "      <td>3</td>\n",
       "      <td>LEXP</td>\n",
       "      <td>26</td>\n",
       "    </tr>\n",
       "    <tr>\n",
       "      <th>4</th>\n",
       "      <td>3</td>\n",
       "      <td>MEXP</td>\n",
       "      <td>35</td>\n",
       "    </tr>\n",
       "    <tr>\n",
       "      <th>5</th>\n",
       "      <td>3</td>\n",
       "      <td>Other</td>\n",
       "      <td>69</td>\n",
       "    </tr>\n",
       "    <tr>\n",
       "      <th>6</th>\n",
       "      <td>4</td>\n",
       "      <td>LEXP</td>\n",
       "      <td>26</td>\n",
       "    </tr>\n",
       "    <tr>\n",
       "      <th>7</th>\n",
       "      <td>4</td>\n",
       "      <td>MEXP</td>\n",
       "      <td>35</td>\n",
       "    </tr>\n",
       "    <tr>\n",
       "      <th>8</th>\n",
       "      <td>4</td>\n",
       "      <td>Other</td>\n",
       "      <td>69</td>\n",
       "    </tr>\n",
       "    <tr>\n",
       "      <th>9</th>\n",
       "      <td>5</td>\n",
       "      <td>LEXP</td>\n",
       "      <td>26</td>\n",
       "    </tr>\n",
       "    <tr>\n",
       "      <th>10</th>\n",
       "      <td>5</td>\n",
       "      <td>MEXP</td>\n",
       "      <td>35</td>\n",
       "    </tr>\n",
       "    <tr>\n",
       "      <th>11</th>\n",
       "      <td>5</td>\n",
       "      <td>Other</td>\n",
       "      <td>69</td>\n",
       "    </tr>\n",
       "    <tr>\n",
       "      <th>12</th>\n",
       "      <td>6</td>\n",
       "      <td>LEXP</td>\n",
       "      <td>26</td>\n",
       "    </tr>\n",
       "    <tr>\n",
       "      <th>13</th>\n",
       "      <td>6</td>\n",
       "      <td>MEXP</td>\n",
       "      <td>35</td>\n",
       "    </tr>\n",
       "    <tr>\n",
       "      <th>14</th>\n",
       "      <td>6</td>\n",
       "      <td>Other</td>\n",
       "      <td>69</td>\n",
       "    </tr>\n",
       "    <tr>\n",
       "      <th>15</th>\n",
       "      <td>7</td>\n",
       "      <td>LEXP</td>\n",
       "      <td>26</td>\n",
       "    </tr>\n",
       "    <tr>\n",
       "      <th>16</th>\n",
       "      <td>7</td>\n",
       "      <td>MEXP</td>\n",
       "      <td>35</td>\n",
       "    </tr>\n",
       "    <tr>\n",
       "      <th>17</th>\n",
       "      <td>7</td>\n",
       "      <td>Other</td>\n",
       "      <td>69</td>\n",
       "    </tr>\n",
       "    <tr>\n",
       "      <th>18</th>\n",
       "      <td>8</td>\n",
       "      <td>LEXP</td>\n",
       "      <td>26</td>\n",
       "    </tr>\n",
       "    <tr>\n",
       "      <th>19</th>\n",
       "      <td>8</td>\n",
       "      <td>MEXP</td>\n",
       "      <td>35</td>\n",
       "    </tr>\n",
       "    <tr>\n",
       "      <th>20</th>\n",
       "      <td>8</td>\n",
       "      <td>Other</td>\n",
       "      <td>69</td>\n",
       "    </tr>\n",
       "  </tbody>\n",
       "</table>\n",
       "</div>"
      ],
      "text/plain": [
       "    WIB  CLASS  HenID\n",
       "0     2   LEXP     26\n",
       "1     2   MEXP     35\n",
       "2     2  Other     69\n",
       "3     3   LEXP     26\n",
       "4     3   MEXP     35\n",
       "5     3  Other     69\n",
       "6     4   LEXP     26\n",
       "7     4   MEXP     35\n",
       "8     4  Other     69\n",
       "9     5   LEXP     26\n",
       "10    5   MEXP     35\n",
       "11    5  Other     69\n",
       "12    6   LEXP     26\n",
       "13    6   MEXP     35\n",
       "14    6  Other     69\n",
       "15    7   LEXP     26\n",
       "16    7   MEXP     35\n",
       "17    7  Other     69\n",
       "18    8   LEXP     26\n",
       "19    8   MEXP     35\n",
       "20    8  Other     69"
      ]
     },
     "execution_count": 31,
     "metadata": {},
     "output_type": "execute_result"
    }
   ],
   "source": [
    "#number of individual per class per week\n",
    "df_MVT.groupby(['WIB','CLASS'])['HenID'].agg(lambda x: len(set(x))).reset_index()"
   ]
  },
  {
   "cell_type": "markdown",
   "metadata": {},
   "source": [
    "# Visuals"
   ]
  },
  {
   "cell_type": "code",
   "execution_count": 32,
   "metadata": {},
   "outputs": [
    {
     "name": "stderr",
     "output_type": "stream",
     "text": [
      "C:\\Users\\camil\\anaconda3\\lib\\site-packages\\ipykernel\\ipkernel.py:283: DeprecationWarning: `should_run_async` will not call `transform_cell` automatically in the future. Please pass the result to `transformed_cell` argument and any exception that happen during thetransform in `preprocessing_exc_tuple` in IPython 7.17 and above.\n",
      "  and should_run_async(code)\n"
     ]
    },
    {
     "data": {
      "image/png": "[encoded data removed]",
      "text/plain": [
       "<Figure size 432x288 with 1 Axes>"
      ]
     },
     "metadata": {
      "needs_background": "light"
     },
     "output_type": "display_data"
    }
   ],
   "source": [
    "sns.histplot(df_MVT, x=\"PC1_standardized\", hue=\"WIB\", element=\"step\");"
   ]
  },
  {
   "cell_type": "code",
   "execution_count": 33,
   "metadata": {},
   "outputs": [
    {
     "name": "stderr",
     "output_type": "stream",
     "text": [
      "C:\\Users\\camil\\anaconda3\\lib\\site-packages\\ipykernel\\ipkernel.py:283: DeprecationWarning: `should_run_async` will not call `transform_cell` automatically in the future. Please pass the result to `transformed_cell` argument and any exception that happen during thetransform in `preprocessing_exc_tuple` in IPython 7.17 and above.\n",
      "  and should_run_async(code)\n"
     ]
    },
    {
     "data": {
      "image/png": "[encoded data removed]",
      "text/plain": [
       "<Figure size 432x288 with 1 Axes>"
      ]
     },
     "metadata": {
      "needs_background": "light"
     },
     "output_type": "display_data"
    }
   ],
   "source": [
    "sns.histplot(df_MVT, x=\"PC1\", element=\"step\");"
   ]
  },
  {
   "cell_type": "code",
   "execution_count": 34,
   "metadata": {},
   "outputs": [
    {
     "name": "stderr",
     "output_type": "stream",
     "text": [
      "C:\\Users\\camil\\anaconda3\\lib\\site-packages\\ipykernel\\ipkernel.py:283: DeprecationWarning: `should_run_async` will not call `transform_cell` automatically in the future. Please pass the result to `transformed_cell` argument and any exception that happen during thetransform in `preprocessing_exc_tuple` in IPython 7.17 and above.\n",
      "  and should_run_async(code)\n"
     ]
    },
    {
     "data": {
      "image/png": "[encoded data removed]",
      "text/plain": [
       "<Figure size 432x288 with 1 Axes>"
      ]
     },
     "metadata": {
      "needs_background": "light"
     },
     "output_type": "display_data"
    }
   ],
   "source": [
    "sns.histplot(df_MVT, x=\"PC1_standardized\", element=\"step\");"
   ]
  },
  {
   "cell_type": "code",
   "execution_count": 35,
   "metadata": {},
   "outputs": [
    {
     "name": "stderr",
     "output_type": "stream",
     "text": [
      "C:\\Users\\camil\\anaconda3\\lib\\site-packages\\ipykernel\\ipkernel.py:283: DeprecationWarning: `should_run_async` will not call `transform_cell` automatically in the future. Please pass the result to `transformed_cell` argument and any exception that happen during thetransform in `preprocessing_exc_tuple` in IPython 7.17 and above.\n",
      "  and should_run_async(code)\n"
     ]
    },
    {
     "data": {
      "image/png": "[encoded data removed]",
      "text/plain": [
       "<Figure size 432x288 with 1 Axes>"
      ]
     },
     "metadata": {
      "needs_background": "light"
     },
     "output_type": "display_data"
    }
   ],
   "source": [
    "#plot plasticity over time\n",
    "sns.lineplot(x='DIB', y='PC1', data=df_MVT, hue='PenID');\n",
    "plt.grid()"
   ]
  },
  {
   "cell_type": "code",
   "execution_count": 36,
   "metadata": {},
   "outputs": [
    {
     "name": "stderr",
     "output_type": "stream",
     "text": [
      "C:\\Users\\camil\\anaconda3\\lib\\site-packages\\ipykernel\\ipkernel.py:283: DeprecationWarning: `should_run_async` will not call `transform_cell` automatically in the future. Please pass the result to `transformed_cell` argument and any exception that happen during thetransform in `preprocessing_exc_tuple` in IPython 7.17 and above.\n",
      "  and should_run_async(code)\n"
     ]
    },
    {
     "data": {
      "image/png": "[encoded data removed]",
      "text/plain": [
       "<Figure size 432x288 with 1 Axes>"
      ]
     },
     "metadata": {
      "needs_background": "light"
     },
     "output_type": "display_data"
    }
   ],
   "source": [
    "sns.lineplot(y='vertical_travel_distance_perh', x='DIB', data=df_MVT, hue='PenID');#,legend=False);"
   ]
  },
  {
   "cell_type": "code",
   "execution_count": null,
   "metadata": {},
   "outputs": [],
   "source": []
  },
  {
   "cell_type": "code",
   "execution_count": null,
   "metadata": {},
   "outputs": [],
   "source": []
  },
  {
   "cell_type": "code",
   "execution_count": null,
   "metadata": {},
   "outputs": [],
   "source": []
  },
  {
   "cell_type": "code",
   "execution_count": null,
   "metadata": {},
   "outputs": [],
   "source": []
  },
  {
   "cell_type": "code",
   "execution_count": null,
   "metadata": {},
   "outputs": [],
   "source": []
  },
  {
   "cell_type": "code",
   "execution_count": null,
   "metadata": {},
   "outputs": [],
   "source": []
  },
  {
   "cell_type": "code",
   "execution_count": null,
   "metadata": {},
   "outputs": [],
   "source": []
  },
  {
   "cell_type": "code",
   "execution_count": null,
   "metadata": {},
   "outputs": [],
   "source": []
  }
 ],
 "metadata": {
  "kernelspec": {
   "display_name": "Python 3",
   "language": "python",
   "name": "python3"
  },
  "language_info": {
   "codemirror_mode": {
    "name": "ipython",
    "version": 3
   },
   "file_extension": ".py",
   "mimetype": "text/x-python",
   "name": "python",
   "nbconvert_exporter": "python",
   "pygments_lexer": "ipython3",
   "version": "3.8.5"
  }
 },
 "nbformat": 4,
 "nbformat_minor": 2
}
