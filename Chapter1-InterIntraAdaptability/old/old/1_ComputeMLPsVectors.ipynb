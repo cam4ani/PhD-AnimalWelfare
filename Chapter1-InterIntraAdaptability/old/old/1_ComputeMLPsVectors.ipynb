{
 "cells": [
  {
   "cell_type": "code",
   "execution_count": 1,
   "metadata": {},
   "outputs": [],
   "source": [
    "#basic package\n",
    "import tqdm\n",
    "import os\n",
    "import numpy as np\n",
    "import glob\n",
    "import pandas as pd\n",
    "import sys\n",
    "import time\n",
    "import datetime as dt\n",
    "import itertools\n",
    "import re\n",
    "import math\n",
    "from collections import Counter\n",
    "import operator\n",
    "from scipy import stats\n",
    "from numpy import inf\n",
    "import networkx as nx\n",
    "from dtaidistance import dtw\n",
    "import random\n",
    "\n",
    "#save and load dictionaries/lists\n",
    "import pickle\n",
    "\n",
    "#scaling\n",
    "from sklearn.preprocessing import StandardScaler, MinMaxScaler\n",
    "\n",
    "#PCA\n",
    "from sklearn import decomposition\n",
    "\n",
    "#clustering\n",
    "from sklearn.cluster import KMeans #only numerical var\n",
    "from sklearn.metrics import silhouette_samples, silhouette_score\n",
    "import kmodes\n",
    "from kmodes.kmodes import KModes #with categorical var as well\n",
    "\n",
    "#plot\n",
    "import matplotlib.pyplot as plt\n",
    "import seaborn as sns\n",
    "from mpl_toolkits.mplot3d import Axes3D"
   ]
  },
  {
   "cell_type": "code",
   "execution_count": 2,
   "metadata": {},
   "outputs": [
    {
     "name": "stderr",
     "output_type": "stream",
     "text": [
      "C:\\Users\\camil\\anaconda3\\lib\\site-packages\\scipy\\sparse\\sparsetools.py:21: DeprecationWarning: `scipy.sparse.sparsetools` is deprecated!\n",
      "scipy.sparse.sparsetools is a private module for scipy.sparse, and should not be used.\n",
      "  _deprecated()\n"
     ]
    }
   ],
   "source": [
    "PACKAGE_PARENT = '../'\n",
    "SCRIPT_DIR = os.path.dirname(os.path.realpath(os.path.join(os.getcwd(), os.path.expanduser('__file__'))))\n",
    "sys.path.append(os.path.normpath(os.path.join(SCRIPT_DIR, PACKAGE_PARENT)))\n",
    "from UTILS import kmeans_clustering, ZoneVariable, time_series_henColumn_tsRow, FB_daily, corr_from_dep2feature,\\\n",
    "corr_from_feature2feature, correlationGraph, ZoneVariable, DataRepresentation1, sampen, chi2_distance, is_day, correct_key\n",
    "import config_origins as config"
   ]
  },
  {
   "cell_type": "markdown",
   "metadata": {},
   "source": [
    "# Define parameters"
   ]
  },
  {
   "cell_type": "code",
   "execution_count": 3,
   "metadata": {
    "scrolled": true
   },
   "outputs": [
    {
     "name": "stdout",
     "output_type": "stream",
     "text": [
      "change the configuration file if not done yet!\n"
     ]
    },
    {
     "name": "stderr",
     "output_type": "stream",
     "text": [
      "C:\\Users\\camil\\anaconda3\\lib\\site-packages\\ipykernel\\ipkernel.py:283: DeprecationWarning: `should_run_async` will not call `transform_cell` automatically in the future. Please pass the result to `transformed_cell` argument and any exception that happen during thetransform in `preprocessing_exc_tuple` in IPython 7.17 and above.\n",
      "  and should_run_async(code)\n"
     ]
    }
   ],
   "source": [
    "print('change the configuration file if not done yet!')\n",
    "path_extracted_data = config.path_extracted_data\n",
    "id_run = config.id_run\n",
    "dico_pen_tr = config.dico_pen_tr\n",
    "li_binmn = config.li_binmn\n",
    "penalty = config.penalty\n",
    "dico_window = config.dico_window\n",
    "birth_date = config.birth_date\n",
    "dico_night_hour = config.dico_night_hour\n",
    "max_date_adaptability = config.max_date_adaptability\n",
    "path_extracted_data_visual = os.path.join(path_extracted_data,'visual')\n",
    "path_extracted_data_visual_adap = os.path.join(path_extracted_data,'visual','Treatment&Classs','adaptability')\n",
    "path_extracted_data_visual_adap_verification = os.path.join(path_extracted_data_visual_adap,'verification')\n",
    "#create a director if not existing\n",
    "if not os.path.exists(path_extracted_data_visual_adap_verification):\n",
    "    os.makedirs(path_extracted_data_visual_adap_verification)"
   ]
  },
  {
   "cell_type": "markdown",
   "metadata": {},
   "source": [
    "# Download variables"
   ]
  },
  {
   "cell_type": "code",
   "execution_count": 4,
   "metadata": {},
   "outputs": [
    {
     "name": "stderr",
     "output_type": "stream",
     "text": [
      "C:\\Users\\camil\\anaconda3\\lib\\site-packages\\ipykernel\\ipkernel.py:283: DeprecationWarning: `should_run_async` will not call `transform_cell` automatically in the future. Please pass the result to `transformed_cell` argument and any exception that happen during thetransform in `preprocessing_exc_tuple` in IPython 7.17 and above.\n",
      "  and should_run_async(code)\n"
     ]
    },
    {
     "data": {
      "text/plain": [
       "131"
      ]
     },
     "execution_count": 4,
     "metadata": {},
     "output_type": "execute_result"
    }
   ],
   "source": [
    "#selected hens\n",
    "li_selected_hens = pickle.load(open(os.path.join(path_extracted_data_visual_adap,'li_selected_hens.pkl'), 'rb'))\n",
    "len(li_selected_hens)"
   ]
  },
  {
   "cell_type": "code",
   "execution_count": 5,
   "metadata": {},
   "outputs": [
    {
     "name": "stderr",
     "output_type": "stream",
     "text": [
      "C:\\Users\\camil\\anaconda3\\lib\\site-packages\\ipykernel\\ipkernel.py:283: DeprecationWarning: `should_run_async` will not call `transform_cell` automatically in the future. Please pass the result to `transformed_cell` argument and any exception that happen during thetransform in `preprocessing_exc_tuple` in IPython 7.17 and above.\n",
      "  and should_run_async(code)\n"
     ]
    },
    {
     "name": "stdout",
     "output_type": "stream",
     "text": [
      "(300191, 17)\n"
     ]
    },
    {
     "data": {
      "text/html": [
       "<div>\n",
       "<style scoped>\n",
       "    .dataframe tbody tr th:only-of-type {\n",
       "        vertical-align: middle;\n",
       "    }\n",
       "\n",
       "    .dataframe tbody tr th {\n",
       "        vertical-align: top;\n",
       "    }\n",
       "\n",
       "    .dataframe thead th {\n",
       "        text-align: right;\n",
       "    }\n",
       "</style>\n",
       "<table border=\"1\" class=\"dataframe\">\n",
       "  <thead>\n",
       "    <tr style=\"text-align: right;\">\n",
       "      <th></th>\n",
       "      <th>HenID</th>\n",
       "      <th>PenID</th>\n",
       "      <th>system</th>\n",
       "      <th>Zone</th>\n",
       "      <th>model_prediction</th>\n",
       "      <th>Timestamp</th>\n",
       "      <th>date</th>\n",
       "      <th>next_record_date</th>\n",
       "      <th>previous_record_date</th>\n",
       "      <th>previous_duration</th>\n",
       "      <th>next_zone</th>\n",
       "      <th>previous_zone</th>\n",
       "      <th>previous_previous_zone</th>\n",
       "      <th>correction_is_consecutive_equal_initial_zone</th>\n",
       "      <th>is_WG_open</th>\n",
       "      <th>hour</th>\n",
       "      <th>time</th>\n",
       "    </tr>\n",
       "  </thead>\n",
       "  <tbody>\n",
       "    <tr>\n",
       "      <th>0</th>\n",
       "      <td>hen_71</td>\n",
       "      <td>pen12</td>\n",
       "      <td>10 - 12</td>\n",
       "      <td>3_Zone</td>\n",
       "      <td>1.0</td>\n",
       "      <td>2020-09-29 09:07:00</td>\n",
       "      <td>2020-09-29</td>\n",
       "      <td>2020-09-29 09:08:26.000</td>\n",
       "      <td>NaN</td>\n",
       "      <td>NaN</td>\n",
       "      <td>3_Zone</td>\n",
       "      <td>NaN</td>\n",
       "      <td>NaN</td>\n",
       "      <td>False</td>\n",
       "      <td>False</td>\n",
       "      <td>9</td>\n",
       "      <td>09:07:00</td>\n",
       "    </tr>\n",
       "    <tr>\n",
       "      <th>1</th>\n",
       "      <td>hen_7</td>\n",
       "      <td>pen11</td>\n",
       "      <td>10 - 12</td>\n",
       "      <td>3_Zone</td>\n",
       "      <td>1.0</td>\n",
       "      <td>2020-09-29 09:08:12</td>\n",
       "      <td>2020-09-29</td>\n",
       "      <td>2020-09-29 09:12:16.000</td>\n",
       "      <td>NaN</td>\n",
       "      <td>NaN</td>\n",
       "      <td>3_Zone</td>\n",
       "      <td>NaN</td>\n",
       "      <td>NaN</td>\n",
       "      <td>False</td>\n",
       "      <td>False</td>\n",
       "      <td>9</td>\n",
       "      <td>09:08:00</td>\n",
       "    </tr>\n",
       "    <tr>\n",
       "      <th>2</th>\n",
       "      <td>hen_10</td>\n",
       "      <td>pen11</td>\n",
       "      <td>10 - 12</td>\n",
       "      <td>3_Zone</td>\n",
       "      <td>1.0</td>\n",
       "      <td>2020-09-29 09:19:19</td>\n",
       "      <td>2020-09-29</td>\n",
       "      <td>2020-09-29 09:20:27.000</td>\n",
       "      <td>NaN</td>\n",
       "      <td>NaN</td>\n",
       "      <td>3_Zone</td>\n",
       "      <td>NaN</td>\n",
       "      <td>NaN</td>\n",
       "      <td>False</td>\n",
       "      <td>False</td>\n",
       "      <td>9</td>\n",
       "      <td>09:19:00</td>\n",
       "    </tr>\n",
       "  </tbody>\n",
       "</table>\n",
       "</div>"
      ],
      "text/plain": [
       "    HenID  PenID   system    Zone  model_prediction           Timestamp  \\\n",
       "0  hen_71  pen12  10 - 12  3_Zone               1.0 2020-09-29 09:07:00   \n",
       "1   hen_7  pen11  10 - 12  3_Zone               1.0 2020-09-29 09:08:12   \n",
       "2  hen_10  pen11  10 - 12  3_Zone               1.0 2020-09-29 09:19:19   \n",
       "\n",
       "        date         next_record_date previous_record_date previous_duration  \\\n",
       "0 2020-09-29  2020-09-29 09:08:26.000                  NaN               NaN   \n",
       "1 2020-09-29  2020-09-29 09:12:16.000                  NaN               NaN   \n",
       "2 2020-09-29  2020-09-29 09:20:27.000                  NaN               NaN   \n",
       "\n",
       "  next_zone previous_zone previous_previous_zone  \\\n",
       "0    3_Zone           NaN                    NaN   \n",
       "1    3_Zone           NaN                    NaN   \n",
       "2    3_Zone           NaN                    NaN   \n",
       "\n",
       "   correction_is_consecutive_equal_initial_zone  is_WG_open  hour      time  \n",
       "0                                         False       False     9  09:07:00  \n",
       "1                                         False       False     9  09:08:00  \n",
       "2                                         False       False     9  09:19:00  "
      ]
     },
     "execution_count": 5,
     "metadata": {},
     "output_type": "execute_result"
    }
   ],
   "source": [
    "#cleaned data of the tracking system movements\n",
    "df = pd.read_csv(os.path.join(path_extracted_data, id_run+'_CLEANEDDATA.csv'), sep=';', \n",
    "                 parse_dates=['Timestamp', 'date'], dayfirst=True) \n",
    "df = df[df['Timestamp']<=max_date_adaptability+dt.timedelta(days=2)] #add two days to have the next observations as well when doing the 1sec ts\n",
    "df['hour'] = df['Timestamp'].map(lambda x: x.hour)\n",
    "df['time'] = df['Timestamp'].map(lambda x: dt.datetime.time(x-dt.timedelta(seconds=x.second)))\n",
    "df = df[df['HenID'].isin(li_selected_hens)] \n",
    "df.drop('duration', axis=1, inplace=True)\n",
    "print(df.shape)\n",
    "df.head(3)"
   ]
  },
  {
   "cell_type": "markdown",
   "metadata": {},
   "source": [
    "# Compute MLPS vectors"
   ]
  },
  {
   "cell_type": "code",
   "execution_count": 6,
   "metadata": {
    "scrolled": false
   },
   "outputs": [
    {
     "name": "stderr",
     "output_type": "stream",
     "text": [
      "C:\\Users\\camil\\anaconda3\\lib\\site-packages\\ipykernel\\ipkernel.py:283: DeprecationWarning: `should_run_async` will not call `transform_cell` automatically in the future. Please pass the result to `transformed_cell` argument and any exception that happen during thetransform in `preprocessing_exc_tuple` in IPython 7.17 and above.\n",
      "  and should_run_async(code)\n",
      "\r",
      "  0%|                                                                                            | 0/8 [00:00<?, ?it/s]"
     ]
    },
    {
     "name": "stdout",
     "output_type": "stream",
     "text": [
      "in this time series there is 18 hens\n",
      "The initial starting date in over all is: 2020-09-29 09:20:21, and the ending date will be: 2020-11-23 17:08:45\n",
      "But note that birds may have different ending and starting date which should be taken into account when computing variables\n",
      "and after ending the last day at midnight : 2020-09-29 09:20:21, and the ending date will be: 2020-11-23 23:59:59\n"
     ]
    },
    {
     "name": "stderr",
     "output_type": "stream",
     "text": [
      "\n",
      "  0%|                                                                                            | 0/5 [00:00<?, ?it/s]\u001b[A"
     ]
    },
    {
     "name": "stdout",
     "output_type": "stream",
     "text": [
      "Total running time: 0.96 mn\n"
     ]
    },
    {
     "name": "stderr",
     "output_type": "stream",
     "text": [
      "\n",
      " 20%|████████████████▊                                                                   | 1/5 [01:38<06:35, 98.88s/it]\u001b[A\n",
      " 40%|█████████████████████████████████▌                                                  | 2/5 [03:16<04:55, 98.39s/it]\u001b[A\n",
      " 60%|██████████████████████████████████████████████████▍                                 | 3/5 [04:52<03:15, 97.80s/it]\u001b[A\n",
      " 80%|███████████████████████████████████████████████████████████████████▏                | 4/5 [06:26<01:36, 96.76s/it]\u001b[A\n",
      "100%|████████████████████████████████████████████████████████████████████████████████████| 5/5 [07:59<00:00, 95.81s/it]\u001b[A\n",
      " 12%|██████████▏                                                                      | 1/8 [08:56<1:02:36, 536.70s/it]"
     ]
    },
    {
     "name": "stdout",
     "output_type": "stream",
     "text": [
      "in this time series there is 18 hens\n",
      "The initial starting date in over all is: 2020-09-29 09:08:12, and the ending date will be: 2020-11-23 23:51:36\n",
      "But note that birds may have different ending and starting date which should be taken into account when computing variables\n",
      "and after ending the last day at midnight : 2020-09-29 09:08:12, and the ending date will be: 2020-11-23 23:59:59\n",
      "Total running time: 0.93 mn\n"
     ]
    },
    {
     "name": "stderr",
     "output_type": "stream",
     "text": [
      "\n",
      "  0%|                                                                                            | 0/5 [00:00<?, ?it/s]\u001b[A\n",
      " 20%|████████████████▊                                                                   | 1/5 [01:36<06:26, 96.52s/it]\u001b[A\n",
      " 40%|█████████████████████████████████▌                                                  | 2/5 [03:11<04:47, 95.97s/it]\u001b[A\n",
      " 60%|██████████████████████████████████████████████████▍                                 | 3/5 [04:45<03:10, 95.33s/it]\u001b[A\n",
      " 80%|███████████████████████████████████████████████████████████████████▏                | 4/5 [06:17<01:34, 94.39s/it]\u001b[A\n",
      "100%|████████████████████████████████████████████████████████████████████████████████████| 5/5 [07:49<00:00, 93.91s/it]\u001b[A\n",
      " 25%|████████████████████▊                                                              | 2/8 [17:42<53:20, 533.49s/it]"
     ]
    },
    {
     "name": "stdout",
     "output_type": "stream",
     "text": [
      "in this time series there is 16 hens\n",
      "The initial starting date in over all is: 2020-09-29 09:07:00, and the ending date will be: 2020-11-23 17:37:07\n",
      "But note that birds may have different ending and starting date which should be taken into account when computing variables\n",
      "and after ending the last day at midnight : 2020-09-29 09:07:00, and the ending date will be: 2020-11-23 23:59:59\n",
      "Total running time: 0.97 mn\n"
     ]
    },
    {
     "name": "stderr",
     "output_type": "stream",
     "text": [
      "\n",
      "  0%|                                                                                            | 0/5 [00:00<?, ?it/s]\u001b[A\n",
      " 20%|████████████████▊                                                                   | 1/5 [01:31<06:05, 91.35s/it]\u001b[A\n",
      " 40%|█████████████████████████████████▌                                                  | 2/5 [02:59<04:30, 90.31s/it]\u001b[A\n",
      " 60%|██████████████████████████████████████████████████▍                                 | 3/5 [04:25<02:58, 89.20s/it]\u001b[A\n",
      " 80%|███████████████████████████████████████████████████████████████████▏                | 4/5 [05:52<01:28, 88.29s/it]\u001b[A\n",
      "100%|████████████████████████████████████████████████████████████████████████████████████| 5/5 [07:15<00:00, 87.12s/it]\u001b[A\n",
      " 38%|███████████████████████████████▏                                                   | 3/8 [25:57<43:28, 521.74s/it]"
     ]
    },
    {
     "name": "stdout",
     "output_type": "stream",
     "text": [
      "in this time series there is 15 hens\n",
      "The initial starting date in over all is: 2020-09-29 09:32:45, and the ending date will be: 2020-11-23 17:14:07\n",
      "But note that birds may have different ending and starting date which should be taken into account when computing variables\n",
      "and after ending the last day at midnight : 2020-09-29 09:32:45, and the ending date will be: 2020-11-23 23:59:59\n",
      "Total running time: 0.97 mn\n"
     ]
    },
    {
     "name": "stderr",
     "output_type": "stream",
     "text": [
      "\n",
      "  0%|                                                                                            | 0/5 [00:00<?, ?it/s]\u001b[A\n",
      " 20%|████████████████▊                                                                   | 1/5 [01:25<05:41, 85.30s/it]\u001b[A\n",
      " 40%|█████████████████████████████████▌                                                  | 2/5 [02:48<04:13, 84.53s/it]\u001b[A\n",
      " 60%|██████████████████████████████████████████████████▍                                 | 3/5 [04:09<02:47, 83.51s/it]\u001b[A\n",
      " 80%|███████████████████████████████████████████████████████████████████▏                | 4/5 [05:28<01:22, 82.29s/it]\u001b[A\n",
      "100%|████████████████████████████████████████████████████████████████████████████████████| 5/5 [06:49<00:00, 81.89s/it]\u001b[A\n",
      " 50%|█████████████████████████████████████████▌                                         | 4/8 [33:44<33:42, 505.55s/it]"
     ]
    },
    {
     "name": "stdout",
     "output_type": "stream",
     "text": [
      "in this time series there is 16 hens\n",
      "The initial starting date in over all is: 2020-09-29 09:33:43, and the ending date will be: 2020-11-23 17:49:23\n",
      "But note that birds may have different ending and starting date which should be taken into account when computing variables\n",
      "and after ending the last day at midnight : 2020-09-29 09:33:43, and the ending date will be: 2020-11-23 23:59:59\n",
      "Total running time: 0.96 mn\n"
     ]
    },
    {
     "name": "stderr",
     "output_type": "stream",
     "text": [
      "\n",
      "  0%|                                                                                            | 0/5 [00:00<?, ?it/s]\u001b[A\n",
      " 20%|████████████████▊                                                                   | 1/5 [01:29<05:59, 89.82s/it]\u001b[A\n",
      " 40%|█████████████████████████████████▌                                                  | 2/5 [02:57<04:27, 89.11s/it]\u001b[A\n",
      " 60%|██████████████████████████████████████████████████▍                                 | 3/5 [04:24<02:56, 88.45s/it]\u001b[A\n",
      " 80%|███████████████████████████████████████████████████████████████████▏                | 4/5 [05:49<01:27, 87.56s/it]\u001b[A\n",
      "100%|████████████████████████████████████████████████████████████████████████████████████| 5/5 [07:14<00:00, 86.99s/it]\u001b[A\n",
      " 62%|███████████████████████████████████████████████████▉                               | 5/8 [41:57<25:05, 501.78s/it]"
     ]
    },
    {
     "name": "stdout",
     "output_type": "stream",
     "text": [
      "in this time series there is 16 hens\n",
      "The initial starting date in over all is: 2020-09-29 09:33:48, and the ending date will be: 2020-11-23 17:06:31\n",
      "But note that birds may have different ending and starting date which should be taken into account when computing variables\n",
      "and after ending the last day at midnight : 2020-09-29 09:33:48, and the ending date will be: 2020-11-23 23:59:59\n",
      "Total running time: 0.99 mn\n"
     ]
    },
    {
     "name": "stderr",
     "output_type": "stream",
     "text": [
      "\n",
      "  0%|                                                                                            | 0/5 [00:00<?, ?it/s]\u001b[A\n",
      " 20%|████████████████▊                                                                   | 1/5 [01:30<06:00, 90.23s/it]\u001b[A\n",
      " 40%|█████████████████████████████████▌                                                  | 2/5 [02:58<04:28, 89.60s/it]\u001b[A\n",
      " 60%|██████████████████████████████████████████████████▍                                 | 3/5 [04:24<02:56, 88.45s/it]\u001b[A\n",
      " 80%|███████████████████████████████████████████████████████████████████▏                | 4/5 [05:49<01:27, 87.45s/it]\u001b[A\n",
      "100%|████████████████████████████████████████████████████████████████████████████████████| 5/5 [07:16<00:00, 87.25s/it]\u001b[A\n",
      " 75%|██████████████████████████████████████████████████████████████▎                    | 6/8 [50:13<16:39, 499.96s/it]"
     ]
    },
    {
     "name": "stdout",
     "output_type": "stream",
     "text": [
      "in this time series there is 16 hens\n",
      "The initial starting date in over all is: 2020-09-29 09:52:12, and the ending date will be: 2020-11-23 22:59:55\n",
      "But note that birds may have different ending and starting date which should be taken into account when computing variables\n",
      "and after ending the last day at midnight : 2020-09-29 09:52:12, and the ending date will be: 2020-11-23 23:59:59\n"
     ]
    },
    {
     "name": "stderr",
     "output_type": "stream",
     "text": [
      "\n",
      "  0%|                                                                                            | 0/5 [00:00<?, ?it/s]\u001b[A"
     ]
    },
    {
     "name": "stdout",
     "output_type": "stream",
     "text": [
      "Total running time: 0.98 mn\n"
     ]
    },
    {
     "name": "stderr",
     "output_type": "stream",
     "text": [
      "\n",
      " 20%|████████████████▊                                                                   | 1/5 [01:29<05:56, 89.18s/it]\u001b[A\n",
      " 40%|█████████████████████████████████▌                                                  | 2/5 [02:57<04:26, 88.79s/it]\u001b[A\n",
      " 60%|██████████████████████████████████████████████████▍                                 | 3/5 [04:23<02:56, 88.14s/it]\u001b[A\n",
      " 80%|███████████████████████████████████████████████████████████████████▏                | 4/5 [05:49<01:27, 87.35s/it]\u001b[A\n",
      "100%|████████████████████████████████████████████████████████████████████████████████████| 5/5 [07:13<00:00, 86.79s/it]\u001b[A\n",
      " 88%|████████████████████████████████████████████████████████████████████████▋          | 7/8 [58:26<08:17, 497.89s/it]"
     ]
    },
    {
     "name": "stdout",
     "output_type": "stream",
     "text": [
      "in this time series there is 16 hens\n",
      "The initial starting date in over all is: 2020-09-29 09:39:54, and the ending date will be: 2020-11-23 17:09:46\n",
      "But note that birds may have different ending and starting date which should be taken into account when computing variables\n",
      "and after ending the last day at midnight : 2020-09-29 09:39:54, and the ending date will be: 2020-11-23 23:59:59\n"
     ]
    },
    {
     "name": "stderr",
     "output_type": "stream",
     "text": [
      "\n",
      "  0%|                                                                                            | 0/5 [00:00<?, ?it/s]\u001b[A"
     ]
    },
    {
     "name": "stdout",
     "output_type": "stream",
     "text": [
      "Total running time: 0.97 mn\n"
     ]
    },
    {
     "name": "stderr",
     "output_type": "stream",
     "text": [
      "\n",
      " 20%|████████████████▊                                                                   | 1/5 [01:31<06:05, 91.33s/it]\u001b[A\n",
      " 40%|█████████████████████████████████▌                                                  | 2/5 [02:59<04:30, 90.26s/it]\u001b[A\n",
      " 60%|██████████████████████████████████████████████████▍                                 | 3/5 [04:25<02:58, 89.20s/it]\u001b[A\n",
      " 80%|███████████████████████████████████████████████████████████████████▏                | 4/5 [05:53<01:28, 88.66s/it]\u001b[A\n",
      "100%|████████████████████████████████████████████████████████████████████████████████████| 5/5 [07:19<00:00, 87.87s/it]\u001b[A\n",
      "100%|█████████████████████████████████████████████████████████████████████████████████| 8/8 [1:06:44<00:00, 500.59s/it]\n"
     ]
    },
    {
     "ename": "FileNotFoundError",
     "evalue": "[Errno 2] No such file or directory",
     "output_type": "error",
     "traceback": [
      "\u001b[1;31m---------------------------------------------------------------------------\u001b[0m",
      "\u001b[1;31mFileNotFoundError\u001b[0m                         Traceback (most recent call last)",
      "\u001b[1;32m<ipython-input-6-c08800fc2b2f>\u001b[0m in \u001b[0;36m<module>\u001b[1;34m\u001b[0m\n\u001b[0;32m     83\u001b[0m pickle.dump(dico_pen_bin_zone_level_h, open(os.path.join(path_extracted_data_visual_adap, \n\u001b[0;32m     84\u001b[0m                                                      id_run+'dico_pen_bin_zone_level_h.pkl'), 'wb'), pickle.HIGHEST_PROTOCOL)\n\u001b[1;32m---> 85\u001b[1;33m pickle.dump(dico_pen_bin_level_h, open(os.path.join(path_extracted_data_visual_adap, \n\u001b[0m\u001b[0;32m     86\u001b[0m                                                  id_run+'dico_pen_bin_level_h.pkl'), 'wb'), pickle.HIGHEST_PROTOCOL)\n",
      "\u001b[1;31mFileNotFoundError\u001b[0m: [Errno 2] No such file or directory"
     ]
    }
   ],
   "source": [
    "#for efficiency purpose let's compute the bined time series first\n",
    "#note that we will have more entries than needed, as the distrubances days are not removed in the raw-cleaned movements\n",
    "#dataframe.\n",
    "dico_pen_bin_zone_level_h = {}\n",
    "dico_pen_bin_level_h = {}\n",
    "def duration_normalized_perZone(x):\n",
    "    c = Counter(x)\n",
    "    t = len(x)\n",
    "    return [c['1_Zone']/t, c['2_Zone']/t, c['3_Zone']/t, c['4_Zone']/t, c['5_Zone']/t]\n",
    "#small example\n",
    "#li = ['1_Zone','3_Zone','3_Zone','4_Zone','5_Zone','5_Zone','1_Zone']\n",
    "#duration_normalized_perZone(li)\n",
    "\n",
    "for p, df_pen in tqdm.tqdm(df.groupby('PenID')):\n",
    "    \n",
    "    #update results\n",
    "    dico_pen_bin_zone_level_h[p] = {}\n",
    "    dico_pen_bin_level_h[p] = {}\n",
    "    \n",
    "    #compute time series\n",
    "    df_ts = time_series_henColumn_tsRow(df_pen, config, col_ts='Zone', ts_with_all_hen_value=False, save=False, \n",
    "                                        hen_time_series=False)\n",
    "    \n",
    "    for nbr_binmn in tqdm.tqdm(li_binmn):\n",
    "        \n",
    "        #update results\n",
    "        dico_pen_bin_zone_level_h[p][nbr_binmn] = {}\n",
    "        dico_pen_bin_level_h[p][nbr_binmn] = {}\n",
    "                \n",
    "        #reduce to the interval we want\n",
    "        mi = min(df_ts['Timestamp'].tolist())\n",
    "        ma = max(df_ts['Timestamp'].tolist())\n",
    "        #extend the end to the end of the day in case it case the last day available fo the chicken\n",
    "        Daterange = pd.date_range(start = mi, end = ma, freq = str(nbr_binmn)+'MIN')    \n",
    "        df_date = pd.DataFrame({str(nbr_binmn)+'mn_timestamp':Daterange})\n",
    "        new_timestamp = str(nbr_binmn)+'mn_timestamp'\n",
    "        df_date[new_timestamp] = df_date[new_timestamp].map(lambda x: pd.to_datetime(x))\n",
    "        df_ts_ = pd.merge_asof(df_ts, df_date, left_on=['Timestamp'], right_on=[new_timestamp], direction='forward')\n",
    "        #groupby the interval that we want with the number of minutes in nestbox\n",
    "        li_hen = [v for v in df_ts.columns if 'hen_' in v]\n",
    "        \n",
    "        ################# overall mlp #################\n",
    "        df_sim = df_ts_.groupby(new_timestamp)[li_hen].agg(lambda x: duration_normalized_perZone(x)).reset_index()\n",
    "        df_sim['date'] = df_sim[new_timestamp].map(lambda x: dt.datetime(x.year,x.month,x.day))\n",
    "        #groupby date to have a list of zones per day (rows) for the hens (columns)\n",
    "        df_sim = df_sim.groupby('date')[li_hen].agg(lambda x: list(x)).reset_index()\n",
    "        #print(df_zone_sim.shape)\n",
    "        #display(df_zone_sim.head(3))\n",
    "\n",
    "        #melt to have one row per (day, hens) to avoid looping to create the dictionary\n",
    "        df_sim_ = pd.melt(df_sim, id_vars=['date'], value_vars=li_hen)\n",
    "        #variable column has the henIDs\n",
    "        #print(df_zone_sim_.shape)\n",
    "        #display(df_zone_sim_.head(3))\n",
    "        for d, df__ in df_sim_.groupby(['date']):\n",
    "            #update results\n",
    "            dico_pen_bin_level_h[p][nbr_binmn][d] = dict(zip(df__['variable'].tolist(), df__['value'].tolist()))   \n",
    "            \n",
    "            \n",
    "        ################# zone-ts over each zone #################                \n",
    "        for ZONE in df['Zone'].unique():\n",
    "            \n",
    "            #update results\n",
    "            dico_pen_bin_zone_level_h[p][nbr_binmn][ZONE] = {}\n",
    "                \n",
    "            df_zone_sim = df_ts_.groupby(new_timestamp)[li_hen].agg(lambda x: sum([i==ZONE for i in x])/60).reset_index()\n",
    "            df_zone_sim['date'] = df_zone_sim[new_timestamp].map(lambda x: dt.datetime(x.year,x.month,x.day))\n",
    "\n",
    "            #groupby date to have a list of zones per day (rows) for the hens (columns)\n",
    "            df_zone_sim = df_zone_sim.groupby('date')[li_hen].agg(lambda x: list(x)).reset_index()\n",
    "            #print(df_zone_sim.shape)\n",
    "            #display(df_zone_sim.head(3))\n",
    "            \n",
    "            #melt to have one row per (day, hens) to avoid looping to create the dictionary\n",
    "            df_zone_sim_ = pd.melt(df_zone_sim, id_vars=['date'], value_vars=li_hen)\n",
    "            #variable column has the henIDs\n",
    "            #print(df_zone_sim_.shape)\n",
    "            #display(df_zone_sim_.head(3))\n",
    "            for d, df__ in df_zone_sim_.groupby(['date']):\n",
    "                #update results\n",
    "                dico_pen_bin_zone_level_h[p][nbr_binmn][ZONE][d] = dict(zip(df__['variable'].tolist(), df__['value'].tolist()))\n",
    "#save dictionaries\n",
    "pickle.dump(dico_pen_bin_zone_level_h, open(os.path.join(path_extracted_data_visual_adap, \n",
    "                                                     id_run+'dico_pen_bin_zone_level_h.pkl'), 'wb'), pickle.HIGHEST_PROTOCOL)\n",
    "pickle.dump(dico_pen_bin_level_h, open(os.path.join(path_extracted_data_visual_adap, \n",
    "                                                 id_run+'dico_pen_bin_level_h.pkl'), 'wb'), pickle.HIGHEST_PROTOCOL)"
   ]
  },
  {
   "cell_type": "markdown",
   "metadata": {},
   "source": [
    "#simply download it if already computed\n",
    "dico_pen_bin_zone_level_h = pickle.load(open(os.path.join(path_extracted_data_visual_adap, \n",
    "                                                 id_run+'dico_pen_bin_zone_level_h.pkl'), 'rb'))\n",
    "dico_pen_bin_level_h = pickle.load(open(os.path.join(path_extracted_data_visual_adap, \n",
    "                                                     id_run+'dico_pen_bin_level_h.pkl'), 'rb'))"
   ]
  },
  {
   "cell_type": "code",
   "execution_count": null,
   "metadata": {},
   "outputs": [],
   "source": []
  },
  {
   "cell_type": "code",
   "execution_count": null,
   "metadata": {},
   "outputs": [],
   "source": []
  },
  {
   "cell_type": "code",
   "execution_count": null,
   "metadata": {},
   "outputs": [],
   "source": []
  },
  {
   "cell_type": "code",
   "execution_count": null,
   "metadata": {},
   "outputs": [],
   "source": []
  },
  {
   "cell_type": "code",
   "execution_count": null,
   "metadata": {},
   "outputs": [],
   "source": []
  },
  {
   "cell_type": "code",
   "execution_count": null,
   "metadata": {},
   "outputs": [],
   "source": []
  },
  {
   "cell_type": "code",
   "execution_count": null,
   "metadata": {},
   "outputs": [],
   "source": []
  },
  {
   "cell_type": "code",
   "execution_count": null,
   "metadata": {},
   "outputs": [],
   "source": []
  },
  {
   "cell_type": "code",
   "execution_count": null,
   "metadata": {},
   "outputs": [],
   "source": []
  }
 ],
 "metadata": {
  "kernelspec": {
   "display_name": "Python 3",
   "language": "python",
   "name": "python3"
  },
  "language_info": {
   "codemirror_mode": {
    "name": "ipython",
    "version": 3
   },
   "file_extension": ".py",
   "mimetype": "text/x-python",
   "name": "python",
   "nbconvert_exporter": "python",
   "pygments_lexer": "ipython3",
   "version": "3.8.5"
  }
 },
 "nbformat": 4,
 "nbformat_minor": 2
}
