{
 "cells": [
  {
   "cell_type": "code",
   "execution_count": 38,
   "metadata": {},
   "outputs": [
    {
     "name": "stderr",
     "output_type": "stream",
     "text": [
      "C:\\Users\\camil\\anaconda3\\lib\\site-packages\\ipykernel\\ipkernel.py:283: DeprecationWarning: `should_run_async` will not call `transform_cell` automatically in the future. Please pass the result to `transformed_cell` argument and any exception that happen during thetransform in `preprocessing_exc_tuple` in IPython 7.17 and above.\n",
      "  and should_run_async(code)\n"
     ]
    }
   ],
   "source": [
    "#basic package\n",
    "import tqdm\n",
    "import os\n",
    "import numpy as np\n",
    "import glob\n",
    "import pandas as pd\n",
    "import sys\n",
    "import time\n",
    "import datetime as dt\n",
    "import itertools\n",
    "import re\n",
    "import math\n",
    "from collections import Counter\n",
    "import operator\n",
    "from scipy import stats\n",
    "from scipy.spatial.distance import cdist #for euclidean distance of consistency t\n",
    "from numpy import inf\n",
    "import networkx as nx\n",
    "from dtaidistance import dtw\n",
    "import random\n",
    "from sklearn.preprocessing import normalize\n",
    "import uuid #to generate random id\n",
    "\n",
    "#test equal variance\n",
    "from scipy.stats import levene\n",
    "\n",
    "#clustering\n",
    "from sklearn.cluster import AgglomerativeClustering \n",
    "\n",
    "#scaling\n",
    "from sklearn.preprocessing import StandardScaler, MinMaxScaler\n",
    "\n",
    "#interpolate curves for clustering among birds with not exact same days tracked\n",
    "#from scipy.interpolate import interp1d\n",
    "\n",
    "#modelling\n",
    "from sklearn.preprocessing import StandardScaler, MinMaxScaler\n",
    "from sklearn.utils import shuffle\n",
    "from sklearn.metrics import classification_report, confusion_matrix, plot_confusion_matrix, cohen_kappa_score, r2_score,\\\n",
    "mean_squared_error, mean_absolute_error, explained_variance_score#catboost, for a better support of categorical data\n",
    "from catboost import CatBoostClassifier, Pool\n",
    "from scipy.stats import pearsonr\n",
    "import scipy.stats as stats\n",
    "\n",
    "\n",
    "#PCA\n",
    "from sklearn import decomposition\n",
    "\n",
    "#clustering\n",
    "from sklearn.cluster import KMeans #only numerical var\n",
    "from sklearn.metrics import silhouette_samples, silhouette_score\n",
    "import kmodes\n",
    "from kmodes.kmodes import KModes #with categorical var as well\n",
    "\n",
    "\n",
    "#plot\n",
    "import matplotlib.pyplot as plt\n",
    "import seaborn as sns\n",
    "from mpl_toolkits.mplot3d import Axes3D"
   ]
  },
  {
   "cell_type": "code",
   "execution_count": 39,
   "metadata": {},
   "outputs": [
    {
     "name": "stderr",
     "output_type": "stream",
     "text": [
      "C:\\Users\\camil\\anaconda3\\lib\\site-packages\\ipykernel\\ipkernel.py:283: DeprecationWarning: `should_run_async` will not call `transform_cell` automatically in the future. Please pass the result to `transformed_cell` argument and any exception that happen during thetransform in `preprocessing_exc_tuple` in IPython 7.17 and above.\n",
      "  and should_run_async(code)\n"
     ]
    }
   ],
   "source": [
    "PACKAGE_PARENT = '../'\n",
    "SCRIPT_DIR = os.path.dirname(os.path.realpath(os.path.join(os.getcwd(), os.path.expanduser('__file__'))))\n",
    "sys.path.append(os.path.normpath(os.path.join(SCRIPT_DIR, PACKAGE_PARENT)))\n",
    "from UTILS import kmeans_clustering, sampen, chi2_distance, ts_visual, time_series_henColumn_tsRow\n",
    "import config_origins as config"
   ]
  },
  {
   "cell_type": "markdown",
   "metadata": {},
   "source": [
    "# Define parameters"
   ]
  },
  {
   "cell_type": "code",
   "execution_count": 40,
   "metadata": {
    "scrolled": true
   },
   "outputs": [
    {
     "name": "stdout",
     "output_type": "stream",
     "text": [
      "change the configuration file if not done yet!\n"
     ]
    },
    {
     "name": "stderr",
     "output_type": "stream",
     "text": [
      "C:\\Users\\camil\\anaconda3\\lib\\site-packages\\ipykernel\\ipkernel.py:283: DeprecationWarning: `should_run_async` will not call `transform_cell` automatically in the future. Please pass the result to `transformed_cell` argument and any exception that happen during thetransform in `preprocessing_exc_tuple` in IPython 7.17 and above.\n",
      "  and should_run_async(code)\n"
     ]
    }
   ],
   "source": [
    "print('change the configuration file if not done yet!')\n",
    "path_extracted_data = config.path_extracted_data\n",
    "path_initial_data = config.path_initial_data\n",
    "id_run = config.id_run\n",
    "dico_matching = config.dico_matching\n",
    "li_binmn = config.li_binmn\n",
    "pal_class_treat = config.pal_class_treat\n",
    "pal_treat = config.pal_treat\n",
    "pal_class = config.pal_class\n",
    "pal_interintre_treatment = config.pal_interintre_treatment\n",
    "max_date_adaptability = config.max_date_adaptability\n",
    "dico_pen_tr = config.dico_pen_tr\n",
    "path_extracted_data_visual = os.path.join(path_extracted_data,'visual')\n",
    "path_extracted_data_visual_corr = os.path.join(path_extracted_data,'visual','correlation')\n",
    "path_extracted_data_visual_adap = os.path.join(path_extracted_data,'visual','Treatment&Classs','adaptability')\n",
    "path_extracted_data_visual_adap_MVTCLUSTER_tsvisual = os.path.join(path_extracted_data_visual_adap,'MVTCLUSTERING','tsvisual')\n",
    "#create a director if not existing\n",
    "if not os.path.exists(path_extracted_data_visual_adap_MVTCLUSTER_tsvisual):\n",
    "    os.makedirs(path_extracted_data_visual_adap_MVTCLUSTER_tsvisual)"
   ]
  },
  {
   "cell_type": "code",
   "execution_count": 41,
   "metadata": {},
   "outputs": [
    {
     "name": "stderr",
     "output_type": "stream",
     "text": [
      "C:\\Users\\camil\\anaconda3\\lib\\site-packages\\ipykernel\\ipkernel.py:283: DeprecationWarning: `should_run_async` will not call `transform_cell` automatically in the future. Please pass the result to `transformed_cell` argument and any exception that happen during thetransform in `preprocessing_exc_tuple` in IPython 7.17 and above.\n",
      "  and should_run_async(code)\n"
     ]
    }
   ],
   "source": [
    "rv = 0"
   ]
  },
  {
   "cell_type": "markdown",
   "metadata": {},
   "source": [
    "# Download variables"
   ]
  },
  {
   "cell_type": "code",
   "execution_count": 5,
   "metadata": {
    "scrolled": false
   },
   "outputs": [
    {
     "name": "stderr",
     "output_type": "stream",
     "text": [
      "C:\\Users\\camil\\anaconda3\\lib\\site-packages\\ipykernel\\ipkernel.py:283: DeprecationWarning: `should_run_async` will not call `transform_cell` automatically in the future. Please pass the result to `transformed_cell` argument and any exception that happen during thetransform in `preprocessing_exc_tuple` in IPython 7.17 and above.\n",
      "  and should_run_async(code)\n"
     ]
    },
    {
     "data": {
      "text/html": [
       "<div>\n",
       "<style scoped>\n",
       "    .dataframe tbody tr th:only-of-type {\n",
       "        vertical-align: middle;\n",
       "    }\n",
       "\n",
       "    .dataframe tbody tr th {\n",
       "        vertical-align: top;\n",
       "    }\n",
       "\n",
       "    .dataframe thead th {\n",
       "        text-align: right;\n",
       "    }\n",
       "</style>\n",
       "<table border=\"1\" class=\"dataframe\">\n",
       "  <thead>\n",
       "    <tr style=\"text-align: right;\">\n",
       "      <th></th>\n",
       "      <th>index</th>\n",
       "      <th>level</th>\n",
       "      <th>DOA</th>\n",
       "      <th>weeks_in_laying_barn</th>\n",
       "    </tr>\n",
       "  </thead>\n",
       "  <tbody>\n",
       "    <tr>\n",
       "      <th>0</th>\n",
       "      <td>0</td>\n",
       "      <td>2020-09-30</td>\n",
       "      <td>119</td>\n",
       "      <td>1</td>\n",
       "    </tr>\n",
       "    <tr>\n",
       "      <th>1</th>\n",
       "      <td>931</td>\n",
       "      <td>2020-10-01</td>\n",
       "      <td>120</td>\n",
       "      <td>1</td>\n",
       "    </tr>\n",
       "    <tr>\n",
       "      <th>2</th>\n",
       "      <td>2983</td>\n",
       "      <td>2020-10-02</td>\n",
       "      <td>121</td>\n",
       "      <td>1</td>\n",
       "    </tr>\n",
       "  </tbody>\n",
       "</table>\n",
       "</div>"
      ],
      "text/plain": [
       "   index      level  DOA  weeks_in_laying_barn\n",
       "0      0 2020-09-30  119                     1\n",
       "1    931 2020-10-01  120                     1\n",
       "2   2983 2020-10-02  121                     1"
      ]
     },
     "metadata": {},
     "output_type": "display_data"
    },
    {
     "name": "stdout",
     "output_type": "stream",
     "text": [
      "(91591, 92)\n"
     ]
    },
    {
     "data": {
      "text/html": [
       "<div>\n",
       "<style scoped>\n",
       "    .dataframe tbody tr th:only-of-type {\n",
       "        vertical-align: middle;\n",
       "    }\n",
       "\n",
       "    .dataframe tbody tr th {\n",
       "        vertical-align: top;\n",
       "    }\n",
       "\n",
       "    .dataframe thead th {\n",
       "        text-align: right;\n",
       "    }\n",
       "</style>\n",
       "<table border=\"1\" class=\"dataframe\">\n",
       "  <thead>\n",
       "    <tr style=\"text-align: right;\">\n",
       "      <th></th>\n",
       "      <th>level</th>\n",
       "      <th>level+1</th>\n",
       "      <th>henID1</th>\n",
       "      <th>henID2</th>\n",
       "      <th>PenID</th>\n",
       "      <th>Treatment</th>\n",
       "      <th>dur_values_normalized_henID1</th>\n",
       "      <th>dur_values_normalized_henID2</th>\n",
       "      <th>chi2distance</th>\n",
       "      <th>DOA</th>\n",
       "      <th>...</th>\n",
       "      <th>DTW_30_1_Zone</th>\n",
       "      <th>nbr_obs_l1_30_1_Zone</th>\n",
       "      <th>nbr_obs_l2_30_1_Zone</th>\n",
       "      <th>is_same_ind</th>\n",
       "      <th>type</th>\n",
       "      <th>HenID1_CLASS</th>\n",
       "      <th>HenID2_CLASS</th>\n",
       "      <th>CLASS</th>\n",
       "      <th>weeks_in_laying_barn</th>\n",
       "      <th>DTW_15_all</th>\n",
       "    </tr>\n",
       "  </thead>\n",
       "  <tbody>\n",
       "    <tr>\n",
       "      <th>0</th>\n",
       "      <td>2020-09-30</td>\n",
       "      <td>2020-10-01</td>\n",
       "      <td>hen_102</td>\n",
       "      <td>hen_102</td>\n",
       "      <td>3</td>\n",
       "      <td>OFH</td>\n",
       "      <td>[0.0, 0.010625, 0.19631944444444444, 0.0215625...</td>\n",
       "      <td>[0.0, 0.0, 0.0, 0.0, 1.0]</td>\n",
       "      <td>0.128991</td>\n",
       "      <td>119</td>\n",
       "      <td>...</td>\n",
       "      <td>0.0</td>\n",
       "      <td>43</td>\n",
       "      <td>48</td>\n",
       "      <td>True</td>\n",
       "      <td>Intra individuals - OFH</td>\n",
       "      <td>MEXP</td>\n",
       "      <td>MEXP</td>\n",
       "      <td>MEXP</td>\n",
       "      <td>1</td>\n",
       "      <td>135.9</td>\n",
       "    </tr>\n",
       "    <tr>\n",
       "      <th>1</th>\n",
       "      <td>2020-09-30</td>\n",
       "      <td>2020-10-01</td>\n",
       "      <td>hen_65</td>\n",
       "      <td>hen_139</td>\n",
       "      <td>10</td>\n",
       "      <td>TRAN</td>\n",
       "      <td>[0.0, 0.7292708333333333, 0.2707291666666667, ...</td>\n",
       "      <td>[0.0, 0.10932098765432098, 0.06469135802469136...</td>\n",
       "      <td>0.705432</td>\n",
       "      <td>119</td>\n",
       "      <td>...</td>\n",
       "      <td>0.0</td>\n",
       "      <td>44</td>\n",
       "      <td>48</td>\n",
       "      <td>False</td>\n",
       "      <td>Inter individuals - TRAN</td>\n",
       "      <td>LEXP</td>\n",
       "      <td>EPI</td>\n",
       "      <td>LEXPEPI</td>\n",
       "      <td>1</td>\n",
       "      <td>298.8</td>\n",
       "    </tr>\n",
       "    <tr>\n",
       "      <th>2</th>\n",
       "      <td>2020-09-30</td>\n",
       "      <td>2020-10-01</td>\n",
       "      <td>hen_65</td>\n",
       "      <td>hen_140</td>\n",
       "      <td>10</td>\n",
       "      <td>TRAN</td>\n",
       "      <td>[0.0, 0.7292708333333333, 0.2707291666666667, ...</td>\n",
       "      <td>[0.0, 0.03740740740740741, 0.238179012345679, ...</td>\n",
       "      <td>0.675422</td>\n",
       "      <td>119</td>\n",
       "      <td>...</td>\n",
       "      <td>0.0</td>\n",
       "      <td>44</td>\n",
       "      <td>48</td>\n",
       "      <td>False</td>\n",
       "      <td>Inter individuals - TRAN</td>\n",
       "      <td>LEXP</td>\n",
       "      <td>LEXP</td>\n",
       "      <td>LEXP</td>\n",
       "      <td>1</td>\n",
       "      <td>279.0</td>\n",
       "    </tr>\n",
       "  </tbody>\n",
       "</table>\n",
       "<p>3 rows × 92 columns</p>\n",
       "</div>"
      ],
      "text/plain": [
       "       level    level+1   henID1   henID2  PenID Treatment  \\\n",
       "0 2020-09-30 2020-10-01  hen_102  hen_102      3       OFH   \n",
       "1 2020-09-30 2020-10-01   hen_65  hen_139     10      TRAN   \n",
       "2 2020-09-30 2020-10-01   hen_65  hen_140     10      TRAN   \n",
       "\n",
       "                        dur_values_normalized_henID1  \\\n",
       "0  [0.0, 0.010625, 0.19631944444444444, 0.0215625...   \n",
       "1  [0.0, 0.7292708333333333, 0.2707291666666667, ...   \n",
       "2  [0.0, 0.7292708333333333, 0.2707291666666667, ...   \n",
       "\n",
       "                        dur_values_normalized_henID2  chi2distance  DOA  ...  \\\n",
       "0                          [0.0, 0.0, 0.0, 0.0, 1.0]      0.128991  119  ...   \n",
       "1  [0.0, 0.10932098765432098, 0.06469135802469136...      0.705432  119  ...   \n",
       "2  [0.0, 0.03740740740740741, 0.238179012345679, ...      0.675422  119  ...   \n",
       "\n",
       "   DTW_30_1_Zone  nbr_obs_l1_30_1_Zone  nbr_obs_l2_30_1_Zone  is_same_ind  \\\n",
       "0            0.0                    43                    48         True   \n",
       "1            0.0                    44                    48        False   \n",
       "2            0.0                    44                    48        False   \n",
       "\n",
       "                       type  HenID1_CLASS  HenID2_CLASS    CLASS  \\\n",
       "0   Intra individuals - OFH          MEXP          MEXP     MEXP   \n",
       "1  Inter individuals - TRAN          LEXP           EPI  LEXPEPI   \n",
       "2  Inter individuals - TRAN          LEXP          LEXP     LEXP   \n",
       "\n",
       "   weeks_in_laying_barn  DTW_15_all  \n",
       "0                     1       135.9  \n",
       "1                     1       298.8  \n",
       "2                     1       279.0  \n",
       "\n",
       "[3 rows x 92 columns]"
      ]
     },
     "execution_count": 5,
     "metadata": {},
     "output_type": "execute_result"
    }
   ],
   "source": [
    "#distance measure (chi2, dtw)\n",
    "df_interintra = pd.read_csv(os.path.join(path_extracted_data_visual_adap ,id_run+'_df_interintra.csv'), sep=';', \n",
    "                      parse_dates=['level','level+1'], dayfirst=True)\n",
    "#weeks of age starting on the first day where the bird was here during 24h\n",
    "df_interintra['weeks_in_laying_barn'] = df_interintra['DOA'].map(lambda x: int((x-119)/7)+1)\n",
    "display(df_interintra[['level','DOA','weeks_in_laying_barn']].drop_duplicates().reset_index().head(3))\n",
    "#remove weeks_in_laying_barn to avoid confusions\n",
    "df_interintra.drop(['WOA'],inplace=True,axis=1)\n",
    "li_selected_hens = list(df_interintra['henID1'].unique())\n",
    "df_interintra['DTW_15_all'] = df_interintra[['DTW_15_1_Zone', 'DTW_15_2_Zone', 'DTW_15_3_Zone','DTW_15_4_Zone','DTW_15_5_Zone']].sum(axis=1)\n",
    "df_interintra_all = df_interintra.copy()\n",
    "print(df_interintra.shape)\n",
    "df_interintra.head(3)"
   ]
  },
  {
   "cell_type": "code",
   "execution_count": 6,
   "metadata": {},
   "outputs": [
    {
     "name": "stderr",
     "output_type": "stream",
     "text": [
      "C:\\Users\\camil\\anaconda3\\lib\\site-packages\\ipykernel\\ipkernel.py:283: DeprecationWarning: `should_run_async` will not call `transform_cell` automatically in the future. Please pass the result to `transformed_cell` argument and any exception that happen during thetransform in `preprocessing_exc_tuple` in IPython 7.17 and above.\n",
      "  and should_run_async(code)\n"
     ]
    },
    {
     "name": "stdout",
     "output_type": "stream",
     "text": [
      "(24452, 195)\n",
      "(6503, 195)\n"
     ]
    },
    {
     "data": {
      "text/html": [
       "<div>\n",
       "<style scoped>\n",
       "    .dataframe tbody tr th:only-of-type {\n",
       "        vertical-align: middle;\n",
       "    }\n",
       "\n",
       "    .dataframe tbody tr th {\n",
       "        vertical-align: top;\n",
       "    }\n",
       "\n",
       "    .dataframe thead th {\n",
       "        text-align: right;\n",
       "    }\n",
       "</style>\n",
       "<table border=\"1\" class=\"dataframe\">\n",
       "  <thead>\n",
       "    <tr style=\"text-align: right;\">\n",
       "      <th></th>\n",
       "      <th>HenID</th>\n",
       "      <th>level</th>\n",
       "      <th>duration_1_Zone</th>\n",
       "      <th>duration_2_Zone</th>\n",
       "      <th>duration_3_Zone</th>\n",
       "      <th>duration_4_Zone</th>\n",
       "      <th>duration_5_Zone</th>\n",
       "      <th>verification_daily_total_duration</th>\n",
       "      <th>dur_values</th>\n",
       "      <th>dur_values_normalized</th>\n",
       "      <th>...</th>\n",
       "      <th>PC0</th>\n",
       "      <th>PC1</th>\n",
       "      <th>PC2</th>\n",
       "      <th>PC3</th>\n",
       "      <th>PC4</th>\n",
       "      <th>PC5</th>\n",
       "      <th>PC6</th>\n",
       "      <th>PC7</th>\n",
       "      <th>clustering_ALL</th>\n",
       "      <th>weeks_in_laying_barn</th>\n",
       "    </tr>\n",
       "  </thead>\n",
       "  <tbody>\n",
       "    <tr>\n",
       "      <th>4</th>\n",
       "      <td>hen_131</td>\n",
       "      <td>2020-09-30</td>\n",
       "      <td>0.0</td>\n",
       "      <td>24385.0</td>\n",
       "      <td>4415.0</td>\n",
       "      <td>0.0</td>\n",
       "      <td>0.0</td>\n",
       "      <td>28800.0</td>\n",
       "      <td>[0.0, 24385.0, 4415.0, 0.0, 0.0]</td>\n",
       "      <td>[0.0, 0.8467013888888889, 0.15329861111111112,...</td>\n",
       "      <td>...</td>\n",
       "      <td>NaN</td>\n",
       "      <td>NaN</td>\n",
       "      <td>NaN</td>\n",
       "      <td>NaN</td>\n",
       "      <td>NaN</td>\n",
       "      <td>NaN</td>\n",
       "      <td>NaN</td>\n",
       "      <td>NaN</td>\n",
       "      <td>NaN</td>\n",
       "      <td>1</td>\n",
       "    </tr>\n",
       "    <tr>\n",
       "      <th>5</th>\n",
       "      <td>hen_131</td>\n",
       "      <td>2020-10-01</td>\n",
       "      <td>0.0</td>\n",
       "      <td>22511.0</td>\n",
       "      <td>5946.0</td>\n",
       "      <td>0.0</td>\n",
       "      <td>3943.0</td>\n",
       "      <td>32400.0</td>\n",
       "      <td>[0.0, 22511.0, 5946.0, 0.0, 3943.0]</td>\n",
       "      <td>[0.0, 0.6947839506172839, 0.18351851851851853,...</td>\n",
       "      <td>...</td>\n",
       "      <td>NaN</td>\n",
       "      <td>NaN</td>\n",
       "      <td>NaN</td>\n",
       "      <td>NaN</td>\n",
       "      <td>NaN</td>\n",
       "      <td>NaN</td>\n",
       "      <td>NaN</td>\n",
       "      <td>NaN</td>\n",
       "      <td>NaN</td>\n",
       "      <td>1</td>\n",
       "    </tr>\n",
       "    <tr>\n",
       "      <th>6</th>\n",
       "      <td>hen_131</td>\n",
       "      <td>2020-10-02</td>\n",
       "      <td>0.0</td>\n",
       "      <td>9266.0</td>\n",
       "      <td>4598.0</td>\n",
       "      <td>1127.0</td>\n",
       "      <td>17409.0</td>\n",
       "      <td>32400.0</td>\n",
       "      <td>[0.0, 9266.0, 4598.0, 1127.0, 17409.0]</td>\n",
       "      <td>[0.0, 0.28598765432098766, 0.14191358024691358...</td>\n",
       "      <td>...</td>\n",
       "      <td>4.230735</td>\n",
       "      <td>-0.136035</td>\n",
       "      <td>-1.38129</td>\n",
       "      <td>1.347238</td>\n",
       "      <td>-1.392888</td>\n",
       "      <td>-1.555228</td>\n",
       "      <td>-0.287578</td>\n",
       "      <td>0.054795</td>\n",
       "      <td>0.0</td>\n",
       "      <td>1</td>\n",
       "    </tr>\n",
       "  </tbody>\n",
       "</table>\n",
       "<p>3 rows × 195 columns</p>\n",
       "</div>"
      ],
      "text/plain": [
       "     HenID      level  duration_1_Zone  duration_2_Zone  duration_3_Zone  \\\n",
       "4  hen_131 2020-09-30              0.0          24385.0           4415.0   \n",
       "5  hen_131 2020-10-01              0.0          22511.0           5946.0   \n",
       "6  hen_131 2020-10-02              0.0           9266.0           4598.0   \n",
       "\n",
       "   duration_4_Zone  duration_5_Zone  verification_daily_total_duration  \\\n",
       "4              0.0              0.0                            28800.0   \n",
       "5              0.0           3943.0                            32400.0   \n",
       "6           1127.0          17409.0                            32400.0   \n",
       "\n",
       "                               dur_values  \\\n",
       "4        [0.0, 24385.0, 4415.0, 0.0, 0.0]   \n",
       "5     [0.0, 22511.0, 5946.0, 0.0, 3943.0]   \n",
       "6  [0.0, 9266.0, 4598.0, 1127.0, 17409.0]   \n",
       "\n",
       "                               dur_values_normalized  ...       PC0       PC1  \\\n",
       "4  [0.0, 0.8467013888888889, 0.15329861111111112,...  ...       NaN       NaN   \n",
       "5  [0.0, 0.6947839506172839, 0.18351851851851853,...  ...       NaN       NaN   \n",
       "6  [0.0, 0.28598765432098766, 0.14191358024691358...  ...  4.230735 -0.136035   \n",
       "\n",
       "       PC2       PC3       PC4       PC5       PC6       PC7 clustering_ALL  \\\n",
       "4      NaN       NaN       NaN       NaN       NaN       NaN            NaN   \n",
       "5      NaN       NaN       NaN       NaN       NaN       NaN            NaN   \n",
       "6 -1.38129  1.347238 -1.392888 -1.555228 -0.287578  0.054795            0.0   \n",
       "\n",
       "  weeks_in_laying_barn  \n",
       "4                    1  \n",
       "5                    1  \n",
       "6                    1  \n",
       "\n",
       "[3 rows x 195 columns]"
      ]
     },
     "execution_count": 6,
     "metadata": {},
     "output_type": "execute_result"
    }
   ],
   "source": [
    "#daily variables (one row per (henID, date))\n",
    "df_daily = pd.read_csv(os.path.join(path_extracted_data, 'daily_ALL_Variable_Tranformed.csv'), sep=';',\n",
    "                     parse_dates=['level'], dayfirst=True) \n",
    "df_daily['DOA'] = df_daily['level'].map(lambda x: (x-dt.datetime(2020,6,3)).days) \n",
    "df_daily['weeks_in_laying_barn'] = df_daily['DOA'].map(lambda x: int((x-119)/7)+1)\n",
    "#df_daily['weeks_in_laying_barn'] = df_daily['DOA'].map(lambda x: math.ceil(x/7))\n",
    "#first two month seems good from the %of hens not moving plot! and sounds good too (twice longer thatn they need to start moving)\n",
    "print(df_daily.shape)\n",
    "\n",
    "#filter by dates\n",
    "df_daily = df_daily[df_daily['level']<=max_date_adaptability] \n",
    "df_daily = df_daily[df_daily['level']>dt.datetime(2020,9,29)]\n",
    "\n",
    "#filter the selected hens\n",
    "df_daily = df_daily[df_daily['HenID'].isin(li_selected_hens)] \n",
    "print(df_daily.shape)\n",
    "df_daily.head(3)"
   ]
  },
  {
   "cell_type": "code",
   "execution_count": 31,
   "metadata": {},
   "outputs": [
    {
     "name": "stderr",
     "output_type": "stream",
     "text": [
      "C:\\Users\\camil\\anaconda3\\lib\\site-packages\\ipykernel\\ipkernel.py:283: DeprecationWarning: `should_run_async` will not call `transform_cell` automatically in the future. Please pass the result to `transformed_cell` argument and any exception that happen during thetransform in `preprocessing_exc_tuple` in IPython 7.17 and above.\n",
      "  and should_run_async(code)\n"
     ]
    },
    {
     "name": "stdout",
     "output_type": "stream",
     "text": [
      "(356245, 17)\n"
     ]
    },
    {
     "data": {
      "text/html": [
       "<div>\n",
       "<style scoped>\n",
       "    .dataframe tbody tr th:only-of-type {\n",
       "        vertical-align: middle;\n",
       "    }\n",
       "\n",
       "    .dataframe tbody tr th {\n",
       "        vertical-align: top;\n",
       "    }\n",
       "\n",
       "    .dataframe thead th {\n",
       "        text-align: right;\n",
       "    }\n",
       "</style>\n",
       "<table border=\"1\" class=\"dataframe\">\n",
       "  <thead>\n",
       "    <tr style=\"text-align: right;\">\n",
       "      <th></th>\n",
       "      <th>HenID</th>\n",
       "      <th>PenID</th>\n",
       "      <th>system</th>\n",
       "      <th>Zone</th>\n",
       "      <th>model_prediction</th>\n",
       "      <th>Timestamp</th>\n",
       "      <th>date</th>\n",
       "      <th>next_record_date</th>\n",
       "      <th>previous_record_date</th>\n",
       "      <th>previous_duration</th>\n",
       "      <th>next_zone</th>\n",
       "      <th>previous_zone</th>\n",
       "      <th>previous_previous_zone</th>\n",
       "      <th>correction_is_consecutive_equal_initial_zone</th>\n",
       "      <th>is_WG_open</th>\n",
       "      <th>hour</th>\n",
       "      <th>time</th>\n",
       "    </tr>\n",
       "  </thead>\n",
       "  <tbody>\n",
       "    <tr>\n",
       "      <th>0</th>\n",
       "      <td>hen_111</td>\n",
       "      <td>pen11</td>\n",
       "      <td>10 - 12</td>\n",
       "      <td>3_Zone</td>\n",
       "      <td>1.0</td>\n",
       "      <td>2020-09-30 00:01:25</td>\n",
       "      <td>2020-09-30</td>\n",
       "      <td>2020-09-30 00:01:38.000</td>\n",
       "      <td>NaN</td>\n",
       "      <td>NaN</td>\n",
       "      <td>2_Zone</td>\n",
       "      <td>NaN</td>\n",
       "      <td>NaN</td>\n",
       "      <td>False</td>\n",
       "      <td>False</td>\n",
       "      <td>0</td>\n",
       "      <td>00:01:00</td>\n",
       "    </tr>\n",
       "    <tr>\n",
       "      <th>1</th>\n",
       "      <td>hen_111</td>\n",
       "      <td>pen11</td>\n",
       "      <td>10 - 12</td>\n",
       "      <td>2_Zone</td>\n",
       "      <td>1.0</td>\n",
       "      <td>2020-09-30 00:01:38</td>\n",
       "      <td>2020-09-30</td>\n",
       "      <td>2020-09-30 00:14:38.000</td>\n",
       "      <td>2020-09-30 00:01:25.000</td>\n",
       "      <td>0 days 00:00:13</td>\n",
       "      <td>2_Zone</td>\n",
       "      <td>3_Zone</td>\n",
       "      <td>NaN</td>\n",
       "      <td>False</td>\n",
       "      <td>False</td>\n",
       "      <td>0</td>\n",
       "      <td>00:01:00</td>\n",
       "    </tr>\n",
       "    <tr>\n",
       "      <th>2</th>\n",
       "      <td>hen_147</td>\n",
       "      <td>pen8</td>\n",
       "      <td>8 - 9</td>\n",
       "      <td>5_Zone</td>\n",
       "      <td>1.0</td>\n",
       "      <td>2020-09-30 00:30:49</td>\n",
       "      <td>2020-09-30</td>\n",
       "      <td>2020-09-30 00:33:26.000</td>\n",
       "      <td>NaN</td>\n",
       "      <td>NaN</td>\n",
       "      <td>5_Zone</td>\n",
       "      <td>NaN</td>\n",
       "      <td>NaN</td>\n",
       "      <td>False</td>\n",
       "      <td>False</td>\n",
       "      <td>0</td>\n",
       "      <td>00:30:00</td>\n",
       "    </tr>\n",
       "  </tbody>\n",
       "</table>\n",
       "</div>"
      ],
      "text/plain": [
       "     HenID  PenID   system    Zone  model_prediction           Timestamp  \\\n",
       "0  hen_111  pen11  10 - 12  3_Zone               1.0 2020-09-30 00:01:25   \n",
       "1  hen_111  pen11  10 - 12  2_Zone               1.0 2020-09-30 00:01:38   \n",
       "2  hen_147   pen8    8 - 9  5_Zone               1.0 2020-09-30 00:30:49   \n",
       "\n",
       "        date         next_record_date     previous_record_date  \\\n",
       "0 2020-09-30  2020-09-30 00:01:38.000                      NaN   \n",
       "1 2020-09-30  2020-09-30 00:14:38.000  2020-09-30 00:01:25.000   \n",
       "2 2020-09-30  2020-09-30 00:33:26.000                      NaN   \n",
       "\n",
       "  previous_duration next_zone previous_zone previous_previous_zone  \\\n",
       "0               NaN    2_Zone           NaN                    NaN   \n",
       "1   0 days 00:00:13    2_Zone        3_Zone                    NaN   \n",
       "2               NaN    5_Zone           NaN                    NaN   \n",
       "\n",
       "   correction_is_consecutive_equal_initial_zone  is_WG_open  hour      time  \n",
       "0                                         False       False     0  00:01:00  \n",
       "1                                         False       False     0  00:01:00  \n",
       "2                                         False       False     0  00:30:00  "
      ]
     },
     "execution_count": 31,
     "metadata": {},
     "output_type": "execute_result"
    }
   ],
   "source": [
    "#cleaned data of the tracking system movements\n",
    "df = pd.read_csv(os.path.join(path_extracted_data, id_run+'_CLEANEDDATA.csv'), sep=';', \n",
    "                 parse_dates=['Timestamp', 'date'], dayfirst=True) \n",
    "df = df[df['Timestamp']<=max_date_adaptability+dt.timedelta(days=2)] #add two days to have the next observations as well when doing the 1sec ts\n",
    "df['hour'] = df['Timestamp'].map(lambda x: x.hour)\n",
    "df['time'] = df['Timestamp'].map(lambda x: dt.datetime.time(x-dt.timedelta(seconds=x.second)))\n",
    "df.drop('duration', axis=1, inplace=True)\n",
    "print(df.shape)\n",
    "df.head(3)"
   ]
  },
  {
   "cell_type": "markdown",
   "metadata": {},
   "source": [
    "# Create two groups"
   ]
  },
  {
   "cell_type": "raw",
   "metadata": {},
   "source": [
    "decision made\n",
    "not all hens have same chance to have a day with no transitions, as not all have the same tracked days\n",
    "--> we will instead cluster into the hens that have no mvt on their first day in the barn (OR eventualy % of days with no mvt? on the first week?) \n",
    "--> subset of hens: only the one with known place in 119 DAO: ALL?? TODO TO CHECK"
   ]
  },
  {
   "cell_type": "code",
   "execution_count": null,
   "metadata": {},
   "outputs": [],
   "source": [
    "li_gr1 = df_daily[(df_daily['level']==dt.datetime(2020,9,30))&(df_daily['Total_number_transition']==0)]['HenID'].tolist()\n",
    "li_gr2 = df_daily[(df_daily['level']==dt.datetime(2020,9,30))&(df_daily['Total_number_transition']!=0)]['HenID'].tolist()\n",
    "dico_gr_name = {'group1':'NMVT' , 'group2':'MVT'}\n",
    "print(len(li_hen_nomvt), len(li_hen_mvt))"
   ]
  },
  {
   "cell_type": "markdown",
   "metadata": {},
   "source": [
    "# Compute differences"
   ]
  },
  {
   "cell_type": "raw",
   "metadata": {},
   "source": [
    "Note that the main difference with the 1_Treatment&ClassAdaptability_computation is that here we want to compute within any pen, not only between two birds from the same pen. Thus we do it separately."
   ]
  },
  {
   "cell_type": "code",
   "execution_count": 36,
   "metadata": {},
   "outputs": [
    {
     "name": "stderr",
     "output_type": "stream",
     "text": [
      "C:\\Users\\camil\\anaconda3\\lib\\site-packages\\ipykernel\\ipkernel.py:283: DeprecationWarning: `should_run_async` will not call `transform_cell` automatically in the future. Please pass the result to `transformed_cell` argument and any exception that happen during thetransform in `preprocessing_exc_tuple` in IPython 7.17 and above.\n",
      "  and should_run_async(code)\n"
     ]
    },
    {
     "name": "stdout",
     "output_type": "stream",
     "text": [
      "(6503, 195)\n",
      "(6503, 195)\n",
      "(356245, 17)\n",
      "(291114, 17)\n"
     ]
    }
   ],
   "source": [
    "print(df_daily.shape)\n",
    "df_daily = df_daily[df_daily['HenID'].isin(li_selected_hens)]\n",
    "print(df_daily.shape)\n",
    "print(df.shape)\n",
    "df = df[df['HenID'].isin(li_selected_hens)]\n",
    "print(df.shape)"
   ]
  },
  {
   "cell_type": "code",
   "execution_count": null,
   "metadata": {},
   "outputs": [],
   "source": [
    "#intersection of two list\n",
    "def intersection(lst1, lst2): \n",
    "    return list(set(lst1) & set(lst2)) \n",
    "lst1 = [15, 9, 10, 56, 23, 78, 5, 4, 9] \n",
    "lst2 = [9, 4, 5, 36, 47, 26, 10, 45, 87] \n",
    "print(intersection(lst1, lst2)) "
   ]
  },
  {
   "cell_type": "code",
   "execution_count": 37,
   "metadata": {},
   "outputs": [
    {
     "name": "stderr",
     "output_type": "stream",
     "text": [
      "C:\\Users\\camil\\anaconda3\\lib\\site-packages\\ipykernel\\ipkernel.py:283: DeprecationWarning: `should_run_async` will not call `transform_cell` automatically in the future. Please pass the result to `transformed_cell` argument and any exception that happen during thetransform in `preprocessing_exc_tuple` in IPython 7.17 and above.\n",
      "  and should_run_async(code)\n"
     ]
    },
    {
     "name": "stdout",
     "output_type": "stream",
     "text": [
      "computing time series...\n",
      "in this time series there is 128 hens\n",
      "The initial starting date in over all is: 2020-09-30 00:01:25, and the ending date will be: 2020-11-22 22:44:55\n",
      "But note that birds may have different ending and starting date which should be taken into account when computing variables\n",
      "and after ending the last day at midnight : 2020-09-30 00:01:25, and the ending date will be: 2020-11-22 23:59:59\n"
     ]
    },
    {
     "name": "stderr",
     "output_type": "stream",
     "text": [
      "\r",
      "  0%|                                                                                            | 0/5 [00:00<?, ?it/s]"
     ]
    },
    {
     "name": "stdout",
     "output_type": "stream",
     "text": [
      "Total running time: 1.17 mn\n",
      "computing DTW over MLP on same days...\n"
     ]
    },
    {
     "name": "stderr",
     "output_type": "stream",
     "text": [
      " 40%|█████████████████████████████████▏                                                 | 2/5 [26:37<39:56, 798.87s/it]\n",
      "ERROR:root:Internal Python error in the inspect module.\n",
      "Below is the traceback from this internal error.\n",
      "\n"
     ]
    },
    {
     "name": "stdout",
     "output_type": "stream",
     "text": [
      "Traceback (most recent call last):\n",
      "  File \"C:\\Users\\camil\\anaconda3\\lib\\site-packages\\IPython\\core\\interactiveshell.py\", line 3418, in run_code\n",
      "    exec(code_obj, self.user_global_ns, self.user_ns)\n",
      "  File \"<ipython-input-37-3cfb7bc502f1>\", line 34, in <module>\n",
      "    df_zone_sim = df_ts_.groupby(new_timestamp)[li_hen].agg(lambda x: sum([i==ZONE for i in x])/60).reset_index()\n",
      "  File \"C:\\Users\\camil\\anaconda3\\lib\\site-packages\\pandas\\core\\groupby\\generic.py\", line 969, in aggregate\n",
      "    result = self._aggregate_multiple_funcs([func], _axis=self.axis)\n",
      "  File \"C:\\Users\\camil\\anaconda3\\lib\\site-packages\\pandas\\core\\base.py\", line 526, in _aggregate_multiple_funcs\n",
      "    new_res = colg.aggregate(arg)\n",
      "  File \"C:\\Users\\camil\\anaconda3\\lib\\site-packages\\pandas\\core\\groupby\\generic.py\", line 246, in aggregate\n",
      "    ret = self._aggregate_multiple_funcs(func)\n",
      "  File \"C:\\Users\\camil\\anaconda3\\lib\\site-packages\\pandas\\core\\groupby\\generic.py\", line 319, in _aggregate_multiple_funcs\n",
      "    results[base.OutputKey(label=name, position=idx)] = obj.aggregate(func)\n",
      "  File \"C:\\Users\\camil\\anaconda3\\lib\\site-packages\\pandas\\core\\groupby\\generic.py\", line 260, in aggregate\n",
      "    return self._python_agg_general(\n",
      "  File \"C:\\Users\\camil\\anaconda3\\lib\\site-packages\\pandas\\core\\groupby\\groupby.py\", line 1083, in _python_agg_general\n",
      "    result, counts = self.grouper.agg_series(obj, f)\n",
      "  File \"C:\\Users\\camil\\anaconda3\\lib\\site-packages\\pandas\\core\\groupby\\ops.py\", line 644, in agg_series\n",
      "    return self._aggregate_series_fast(obj, func)\n",
      "  File \"C:\\Users\\camil\\anaconda3\\lib\\site-packages\\pandas\\core\\groupby\\ops.py\", line 669, in _aggregate_series_fast\n",
      "    result, counts = grouper.get_result()\n",
      "  File \"pandas\\_libs\\reduction.pyx\", line 256, in pandas._libs.reduction.SeriesGrouper.get_result\n",
      "  File \"pandas\\_libs\\reduction.pyx\", line 74, in pandas._libs.reduction._BaseGrouper._apply_to_group\n",
      "  File \"C:\\Users\\camil\\anaconda3\\lib\\site-packages\\pandas\\core\\groupby\\groupby.py\", line 1060, in <lambda>\n",
      "    f = lambda x: func(x, *args, **kwargs)\n",
      "  File \"<ipython-input-37-3cfb7bc502f1>\", line 34, in <lambda>\n",
      "    df_zone_sim = df_ts_.groupby(new_timestamp)[li_hen].agg(lambda x: sum([i==ZONE for i in x])/60).reset_index()\n",
      "  File \"<ipython-input-37-3cfb7bc502f1>\", line 34, in <listcomp>\n",
      "    df_zone_sim = df_ts_.groupby(new_timestamp)[li_hen].agg(lambda x: sum([i==ZONE for i in x])/60).reset_index()\n",
      "KeyboardInterrupt\n",
      "\n",
      "During handling of the above exception, another exception occurred:\n",
      "\n",
      "Traceback (most recent call last):\n",
      "  File \"C:\\Users\\camil\\anaconda3\\lib\\site-packages\\IPython\\core\\interactiveshell.py\", line 2045, in showtraceback\n",
      "    stb = value._render_traceback_()\n",
      "AttributeError: 'KeyboardInterrupt' object has no attribute '_render_traceback_'\n",
      "\n",
      "During handling of the above exception, another exception occurred:\n",
      "\n",
      "Traceback (most recent call last):\n",
      "  File \"C:\\Users\\camil\\anaconda3\\lib\\site-packages\\IPython\\core\\ultratb.py\", line 1170, in get_records\n",
      "    return _fixed_getinnerframes(etb, number_of_lines_of_context, tb_offset)\n",
      "  File \"C:\\Users\\camil\\anaconda3\\lib\\site-packages\\IPython\\core\\ultratb.py\", line 316, in wrapped\n",
      "    return f(*args, **kwargs)\n",
      "  File \"C:\\Users\\camil\\anaconda3\\lib\\site-packages\\IPython\\core\\ultratb.py\", line 350, in _fixed_getinnerframes\n",
      "    records = fix_frame_records_filenames(inspect.getinnerframes(etb, context))\n",
      "  File \"C:\\Users\\camil\\anaconda3\\lib\\inspect.py\", line 1503, in getinnerframes\n",
      "    frameinfo = (tb.tb_frame,) + getframeinfo(tb, context)\n",
      "  File \"C:\\Users\\camil\\anaconda3\\lib\\inspect.py\", line 1461, in getframeinfo\n",
      "    filename = getsourcefile(frame) or getfile(frame)\n",
      "  File \"C:\\Users\\camil\\anaconda3\\lib\\inspect.py\", line 708, in getsourcefile\n",
      "    if getattr(getmodule(object, filename), '__loader__', None) is not None:\n",
      "  File \"C:\\Users\\camil\\anaconda3\\lib\\inspect.py\", line 744, in getmodule\n",
      "    for modname, module in sys.modules.copy().items():\n",
      "KeyboardInterrupt\n"
     ]
    },
    {
     "ename": "TypeError",
     "evalue": "object of type 'NoneType' has no len()",
     "output_type": "error",
     "traceback": [
      "\u001b[1;31m---------------------------------------------------------------------------\u001b[0m",
      "\u001b[1;31mKeyboardInterrupt\u001b[0m                         Traceback (most recent call last)",
      "    \u001b[1;31m[... skipping hidden 1 frame]\u001b[0m\n",
      "\u001b[1;32m<ipython-input-37-3cfb7bc502f1>\u001b[0m in \u001b[0;36m<module>\u001b[1;34m\u001b[0m\n\u001b[0;32m     33\u001b[0m \u001b[1;33m\u001b[0m\u001b[0m\n\u001b[1;32m---> 34\u001b[1;33m         \u001b[0mdf_zone_sim\u001b[0m \u001b[1;33m=\u001b[0m \u001b[0mdf_ts_\u001b[0m\u001b[1;33m.\u001b[0m\u001b[0mgroupby\u001b[0m\u001b[1;33m(\u001b[0m\u001b[0mnew_timestamp\u001b[0m\u001b[1;33m)\u001b[0m\u001b[1;33m[\u001b[0m\u001b[0mli_hen\u001b[0m\u001b[1;33m]\u001b[0m\u001b[1;33m.\u001b[0m\u001b[0magg\u001b[0m\u001b[1;33m(\u001b[0m\u001b[1;32mlambda\u001b[0m \u001b[0mx\u001b[0m\u001b[1;33m:\u001b[0m \u001b[0msum\u001b[0m\u001b[1;33m(\u001b[0m\u001b[1;33m[\u001b[0m\u001b[0mi\u001b[0m\u001b[1;33m==\u001b[0m\u001b[0mZONE\u001b[0m \u001b[1;32mfor\u001b[0m \u001b[0mi\u001b[0m \u001b[1;32min\u001b[0m \u001b[0mx\u001b[0m\u001b[1;33m]\u001b[0m\u001b[1;33m)\u001b[0m\u001b[1;33m/\u001b[0m\u001b[1;36m60\u001b[0m\u001b[1;33m)\u001b[0m\u001b[1;33m.\u001b[0m\u001b[0mreset_index\u001b[0m\u001b[1;33m(\u001b[0m\u001b[1;33m)\u001b[0m\u001b[1;33m\u001b[0m\u001b[1;33m\u001b[0m\u001b[0m\n\u001b[0m\u001b[0;32m     35\u001b[0m         \u001b[0mdf_zone_sim\u001b[0m\u001b[1;33m[\u001b[0m\u001b[1;34m'date'\u001b[0m\u001b[1;33m]\u001b[0m \u001b[1;33m=\u001b[0m \u001b[0mdf_zone_sim\u001b[0m\u001b[1;33m[\u001b[0m\u001b[0mnew_timestamp\u001b[0m\u001b[1;33m]\u001b[0m\u001b[1;33m.\u001b[0m\u001b[0mmap\u001b[0m\u001b[1;33m(\u001b[0m\u001b[1;32mlambda\u001b[0m \u001b[0mx\u001b[0m\u001b[1;33m:\u001b[0m \u001b[0mdt\u001b[0m\u001b[1;33m.\u001b[0m\u001b[0mdatetime\u001b[0m\u001b[1;33m(\u001b[0m\u001b[0mx\u001b[0m\u001b[1;33m.\u001b[0m\u001b[0myear\u001b[0m\u001b[1;33m,\u001b[0m\u001b[0mx\u001b[0m\u001b[1;33m.\u001b[0m\u001b[0mmonth\u001b[0m\u001b[1;33m,\u001b[0m\u001b[0mx\u001b[0m\u001b[1;33m.\u001b[0m\u001b[0mday\u001b[0m\u001b[1;33m)\u001b[0m\u001b[1;33m)\u001b[0m\u001b[1;33m\u001b[0m\u001b[1;33m\u001b[0m\u001b[0m\n",
      "\u001b[1;32m~\\anaconda3\\lib\\site-packages\\pandas\\core\\groupby\\generic.py\u001b[0m in \u001b[0;36maggregate\u001b[1;34m(self, func, engine, engine_kwargs, *args, **kwargs)\u001b[0m\n\u001b[0;32m    968\u001b[0m                 \u001b[1;32mtry\u001b[0m\u001b[1;33m:\u001b[0m\u001b[1;33m\u001b[0m\u001b[1;33m\u001b[0m\u001b[0m\n\u001b[1;32m--> 969\u001b[1;33m                     \u001b[0mresult\u001b[0m \u001b[1;33m=\u001b[0m \u001b[0mself\u001b[0m\u001b[1;33m.\u001b[0m\u001b[0m_aggregate_multiple_funcs\u001b[0m\u001b[1;33m(\u001b[0m\u001b[1;33m[\u001b[0m\u001b[0mfunc\u001b[0m\u001b[1;33m]\u001b[0m\u001b[1;33m,\u001b[0m \u001b[0m_axis\u001b[0m\u001b[1;33m=\u001b[0m\u001b[0mself\u001b[0m\u001b[1;33m.\u001b[0m\u001b[0maxis\u001b[0m\u001b[1;33m)\u001b[0m\u001b[1;33m\u001b[0m\u001b[1;33m\u001b[0m\u001b[0m\n\u001b[0m\u001b[0;32m    970\u001b[0m \u001b[1;33m\u001b[0m\u001b[0m\n",
      "\u001b[1;32m~\\anaconda3\\lib\\site-packages\\pandas\\core\\base.py\u001b[0m in \u001b[0;36m_aggregate_multiple_funcs\u001b[1;34m(self, arg, _axis)\u001b[0m\n\u001b[0;32m    525\u001b[0m                 \u001b[1;32mtry\u001b[0m\u001b[1;33m:\u001b[0m\u001b[1;33m\u001b[0m\u001b[1;33m\u001b[0m\u001b[0m\n\u001b[1;32m--> 526\u001b[1;33m                     \u001b[0mnew_res\u001b[0m \u001b[1;33m=\u001b[0m \u001b[0mcolg\u001b[0m\u001b[1;33m.\u001b[0m\u001b[0maggregate\u001b[0m\u001b[1;33m(\u001b[0m\u001b[0marg\u001b[0m\u001b[1;33m)\u001b[0m\u001b[1;33m\u001b[0m\u001b[1;33m\u001b[0m\u001b[0m\n\u001b[0m\u001b[0;32m    527\u001b[0m                 \u001b[1;32mexcept\u001b[0m \u001b[1;33m(\u001b[0m\u001b[0mTypeError\u001b[0m\u001b[1;33m,\u001b[0m \u001b[0mDataError\u001b[0m\u001b[1;33m)\u001b[0m\u001b[1;33m:\u001b[0m\u001b[1;33m\u001b[0m\u001b[1;33m\u001b[0m\u001b[0m\n",
      "\u001b[1;32m~\\anaconda3\\lib\\site-packages\\pandas\\core\\groupby\\generic.py\u001b[0m in \u001b[0;36maggregate\u001b[1;34m(self, func, engine, engine_kwargs, *args, **kwargs)\u001b[0m\n\u001b[0;32m    245\u001b[0m             \u001b[0mfunc\u001b[0m \u001b[1;33m=\u001b[0m \u001b[0mmaybe_mangle_lambdas\u001b[0m\u001b[1;33m(\u001b[0m\u001b[0mfunc\u001b[0m\u001b[1;33m)\u001b[0m\u001b[1;33m\u001b[0m\u001b[1;33m\u001b[0m\u001b[0m\n\u001b[1;32m--> 246\u001b[1;33m             \u001b[0mret\u001b[0m \u001b[1;33m=\u001b[0m \u001b[0mself\u001b[0m\u001b[1;33m.\u001b[0m\u001b[0m_aggregate_multiple_funcs\u001b[0m\u001b[1;33m(\u001b[0m\u001b[0mfunc\u001b[0m\u001b[1;33m)\u001b[0m\u001b[1;33m\u001b[0m\u001b[1;33m\u001b[0m\u001b[0m\n\u001b[0m\u001b[0;32m    247\u001b[0m             \u001b[1;32mif\u001b[0m \u001b[0mrelabeling\u001b[0m\u001b[1;33m:\u001b[0m\u001b[1;33m\u001b[0m\u001b[1;33m\u001b[0m\u001b[0m\n",
      "\u001b[1;32m~\\anaconda3\\lib\\site-packages\\pandas\\core\\groupby\\generic.py\u001b[0m in \u001b[0;36m_aggregate_multiple_funcs\u001b[1;34m(self, arg)\u001b[0m\n\u001b[0;32m    318\u001b[0m                 \u001b[0mobj\u001b[0m\u001b[1;33m.\u001b[0m\u001b[0m_selection\u001b[0m \u001b[1;33m=\u001b[0m \u001b[0mname\u001b[0m\u001b[1;33m\u001b[0m\u001b[1;33m\u001b[0m\u001b[0m\n\u001b[1;32m--> 319\u001b[1;33m             \u001b[0mresults\u001b[0m\u001b[1;33m[\u001b[0m\u001b[0mbase\u001b[0m\u001b[1;33m.\u001b[0m\u001b[0mOutputKey\u001b[0m\u001b[1;33m(\u001b[0m\u001b[0mlabel\u001b[0m\u001b[1;33m=\u001b[0m\u001b[0mname\u001b[0m\u001b[1;33m,\u001b[0m \u001b[0mposition\u001b[0m\u001b[1;33m=\u001b[0m\u001b[0midx\u001b[0m\u001b[1;33m)\u001b[0m\u001b[1;33m]\u001b[0m \u001b[1;33m=\u001b[0m \u001b[0mobj\u001b[0m\u001b[1;33m.\u001b[0m\u001b[0maggregate\u001b[0m\u001b[1;33m(\u001b[0m\u001b[0mfunc\u001b[0m\u001b[1;33m)\u001b[0m\u001b[1;33m\u001b[0m\u001b[1;33m\u001b[0m\u001b[0m\n\u001b[0m\u001b[0;32m    320\u001b[0m \u001b[1;33m\u001b[0m\u001b[0m\n",
      "\u001b[1;32m~\\anaconda3\\lib\\site-packages\\pandas\\core\\groupby\\generic.py\u001b[0m in \u001b[0;36maggregate\u001b[1;34m(self, func, engine, engine_kwargs, *args, **kwargs)\u001b[0m\n\u001b[0;32m    259\u001b[0m             \u001b[1;32mtry\u001b[0m\u001b[1;33m:\u001b[0m\u001b[1;33m\u001b[0m\u001b[1;33m\u001b[0m\u001b[0m\n\u001b[1;32m--> 260\u001b[1;33m                 return self._python_agg_general(\n\u001b[0m\u001b[0;32m    261\u001b[0m                     \u001b[0mfunc\u001b[0m\u001b[1;33m,\u001b[0m \u001b[1;33m*\u001b[0m\u001b[0margs\u001b[0m\u001b[1;33m,\u001b[0m \u001b[0mengine\u001b[0m\u001b[1;33m=\u001b[0m\u001b[0mengine\u001b[0m\u001b[1;33m,\u001b[0m \u001b[0mengine_kwargs\u001b[0m\u001b[1;33m=\u001b[0m\u001b[0mengine_kwargs\u001b[0m\u001b[1;33m,\u001b[0m \u001b[1;33m**\u001b[0m\u001b[0mkwargs\u001b[0m\u001b[1;33m\u001b[0m\u001b[1;33m\u001b[0m\u001b[0m\n",
      "\u001b[1;32m~\\anaconda3\\lib\\site-packages\\pandas\\core\\groupby\\groupby.py\u001b[0m in \u001b[0;36m_python_agg_general\u001b[1;34m(self, func, engine, engine_kwargs, *args, **kwargs)\u001b[0m\n\u001b[0;32m   1082\u001b[0m                     \u001b[1;31m# if this function is invalid for this dtype, we will ignore it.\u001b[0m\u001b[1;33m\u001b[0m\u001b[1;33m\u001b[0m\u001b[1;33m\u001b[0m\u001b[0m\n\u001b[1;32m-> 1083\u001b[1;33m                     \u001b[0mresult\u001b[0m\u001b[1;33m,\u001b[0m \u001b[0mcounts\u001b[0m \u001b[1;33m=\u001b[0m \u001b[0mself\u001b[0m\u001b[1;33m.\u001b[0m\u001b[0mgrouper\u001b[0m\u001b[1;33m.\u001b[0m\u001b[0magg_series\u001b[0m\u001b[1;33m(\u001b[0m\u001b[0mobj\u001b[0m\u001b[1;33m,\u001b[0m \u001b[0mf\u001b[0m\u001b[1;33m)\u001b[0m\u001b[1;33m\u001b[0m\u001b[1;33m\u001b[0m\u001b[0m\n\u001b[0m\u001b[0;32m   1084\u001b[0m                 \u001b[1;32mexcept\u001b[0m \u001b[0mTypeError\u001b[0m\u001b[1;33m:\u001b[0m\u001b[1;33m\u001b[0m\u001b[1;33m\u001b[0m\u001b[0m\n",
      "\u001b[1;32m~\\anaconda3\\lib\\site-packages\\pandas\\core\\groupby\\ops.py\u001b[0m in \u001b[0;36magg_series\u001b[1;34m(self, obj, func, engine, engine_kwargs, *args, **kwargs)\u001b[0m\n\u001b[0;32m    643\u001b[0m         \u001b[1;32mtry\u001b[0m\u001b[1;33m:\u001b[0m\u001b[1;33m\u001b[0m\u001b[1;33m\u001b[0m\u001b[0m\n\u001b[1;32m--> 644\u001b[1;33m             \u001b[1;32mreturn\u001b[0m \u001b[0mself\u001b[0m\u001b[1;33m.\u001b[0m\u001b[0m_aggregate_series_fast\u001b[0m\u001b[1;33m(\u001b[0m\u001b[0mobj\u001b[0m\u001b[1;33m,\u001b[0m \u001b[0mfunc\u001b[0m\u001b[1;33m)\u001b[0m\u001b[1;33m\u001b[0m\u001b[1;33m\u001b[0m\u001b[0m\n\u001b[0m\u001b[0;32m    645\u001b[0m         \u001b[1;32mexcept\u001b[0m \u001b[0mValueError\u001b[0m \u001b[1;32mas\u001b[0m \u001b[0merr\u001b[0m\u001b[1;33m:\u001b[0m\u001b[1;33m\u001b[0m\u001b[1;33m\u001b[0m\u001b[0m\n",
      "\u001b[1;32m~\\anaconda3\\lib\\site-packages\\pandas\\core\\groupby\\ops.py\u001b[0m in \u001b[0;36m_aggregate_series_fast\u001b[1;34m(self, obj, func)\u001b[0m\n\u001b[0;32m    668\u001b[0m         \u001b[0mgrouper\u001b[0m \u001b[1;33m=\u001b[0m \u001b[0mlibreduction\u001b[0m\u001b[1;33m.\u001b[0m\u001b[0mSeriesGrouper\u001b[0m\u001b[1;33m(\u001b[0m\u001b[0mobj\u001b[0m\u001b[1;33m,\u001b[0m \u001b[0mfunc\u001b[0m\u001b[1;33m,\u001b[0m \u001b[0mgroup_index\u001b[0m\u001b[1;33m,\u001b[0m \u001b[0mngroups\u001b[0m\u001b[1;33m,\u001b[0m \u001b[0mdummy\u001b[0m\u001b[1;33m)\u001b[0m\u001b[1;33m\u001b[0m\u001b[1;33m\u001b[0m\u001b[0m\n\u001b[1;32m--> 669\u001b[1;33m         \u001b[0mresult\u001b[0m\u001b[1;33m,\u001b[0m \u001b[0mcounts\u001b[0m \u001b[1;33m=\u001b[0m \u001b[0mgrouper\u001b[0m\u001b[1;33m.\u001b[0m\u001b[0mget_result\u001b[0m\u001b[1;33m(\u001b[0m\u001b[1;33m)\u001b[0m\u001b[1;33m\u001b[0m\u001b[1;33m\u001b[0m\u001b[0m\n\u001b[0m\u001b[0;32m    670\u001b[0m         \u001b[1;32mreturn\u001b[0m \u001b[0mresult\u001b[0m\u001b[1;33m,\u001b[0m \u001b[0mcounts\u001b[0m\u001b[1;33m\u001b[0m\u001b[1;33m\u001b[0m\u001b[0m\n",
      "\u001b[1;32mpandas\\_libs\\reduction.pyx\u001b[0m in \u001b[0;36mpandas._libs.reduction.SeriesGrouper.get_result\u001b[1;34m()\u001b[0m\n",
      "\u001b[1;32mpandas\\_libs\\reduction.pyx\u001b[0m in \u001b[0;36mpandas._libs.reduction._BaseGrouper._apply_to_group\u001b[1;34m()\u001b[0m\n",
      "\u001b[1;32m~\\anaconda3\\lib\\site-packages\\pandas\\core\\groupby\\groupby.py\u001b[0m in \u001b[0;36m<lambda>\u001b[1;34m(x)\u001b[0m\n\u001b[0;32m   1059\u001b[0m         \u001b[1;32mif\u001b[0m \u001b[0mengine\u001b[0m \u001b[1;33m!=\u001b[0m \u001b[1;34m\"numba\"\u001b[0m\u001b[1;33m:\u001b[0m\u001b[1;33m\u001b[0m\u001b[1;33m\u001b[0m\u001b[0m\n\u001b[1;32m-> 1060\u001b[1;33m             \u001b[0mf\u001b[0m \u001b[1;33m=\u001b[0m \u001b[1;32mlambda\u001b[0m \u001b[0mx\u001b[0m\u001b[1;33m:\u001b[0m \u001b[0mfunc\u001b[0m\u001b[1;33m(\u001b[0m\u001b[0mx\u001b[0m\u001b[1;33m,\u001b[0m \u001b[1;33m*\u001b[0m\u001b[0margs\u001b[0m\u001b[1;33m,\u001b[0m \u001b[1;33m**\u001b[0m\u001b[0mkwargs\u001b[0m\u001b[1;33m)\u001b[0m\u001b[1;33m\u001b[0m\u001b[1;33m\u001b[0m\u001b[0m\n\u001b[0m\u001b[0;32m   1061\u001b[0m \u001b[1;33m\u001b[0m\u001b[0m\n",
      "\u001b[1;32m<ipython-input-37-3cfb7bc502f1>\u001b[0m in \u001b[0;36m<lambda>\u001b[1;34m(x)\u001b[0m\n\u001b[0;32m     33\u001b[0m \u001b[1;33m\u001b[0m\u001b[0m\n\u001b[1;32m---> 34\u001b[1;33m         \u001b[0mdf_zone_sim\u001b[0m \u001b[1;33m=\u001b[0m \u001b[0mdf_ts_\u001b[0m\u001b[1;33m.\u001b[0m\u001b[0mgroupby\u001b[0m\u001b[1;33m(\u001b[0m\u001b[0mnew_timestamp\u001b[0m\u001b[1;33m)\u001b[0m\u001b[1;33m[\u001b[0m\u001b[0mli_hen\u001b[0m\u001b[1;33m]\u001b[0m\u001b[1;33m.\u001b[0m\u001b[0magg\u001b[0m\u001b[1;33m(\u001b[0m\u001b[1;32mlambda\u001b[0m \u001b[0mx\u001b[0m\u001b[1;33m:\u001b[0m \u001b[0msum\u001b[0m\u001b[1;33m(\u001b[0m\u001b[1;33m[\u001b[0m\u001b[0mi\u001b[0m\u001b[1;33m==\u001b[0m\u001b[0mZONE\u001b[0m \u001b[1;32mfor\u001b[0m \u001b[0mi\u001b[0m \u001b[1;32min\u001b[0m \u001b[0mx\u001b[0m\u001b[1;33m]\u001b[0m\u001b[1;33m)\u001b[0m\u001b[1;33m/\u001b[0m\u001b[1;36m60\u001b[0m\u001b[1;33m)\u001b[0m\u001b[1;33m.\u001b[0m\u001b[0mreset_index\u001b[0m\u001b[1;33m(\u001b[0m\u001b[1;33m)\u001b[0m\u001b[1;33m\u001b[0m\u001b[1;33m\u001b[0m\u001b[0m\n\u001b[0m\u001b[0;32m     35\u001b[0m         \u001b[0mdf_zone_sim\u001b[0m\u001b[1;33m[\u001b[0m\u001b[1;34m'date'\u001b[0m\u001b[1;33m]\u001b[0m \u001b[1;33m=\u001b[0m \u001b[0mdf_zone_sim\u001b[0m\u001b[1;33m[\u001b[0m\u001b[0mnew_timestamp\u001b[0m\u001b[1;33m]\u001b[0m\u001b[1;33m.\u001b[0m\u001b[0mmap\u001b[0m\u001b[1;33m(\u001b[0m\u001b[1;32mlambda\u001b[0m \u001b[0mx\u001b[0m\u001b[1;33m:\u001b[0m \u001b[0mdt\u001b[0m\u001b[1;33m.\u001b[0m\u001b[0mdatetime\u001b[0m\u001b[1;33m(\u001b[0m\u001b[0mx\u001b[0m\u001b[1;33m.\u001b[0m\u001b[0myear\u001b[0m\u001b[1;33m,\u001b[0m\u001b[0mx\u001b[0m\u001b[1;33m.\u001b[0m\u001b[0mmonth\u001b[0m\u001b[1;33m,\u001b[0m\u001b[0mx\u001b[0m\u001b[1;33m.\u001b[0m\u001b[0mday\u001b[0m\u001b[1;33m)\u001b[0m\u001b[1;33m)\u001b[0m\u001b[1;33m\u001b[0m\u001b[1;33m\u001b[0m\u001b[0m\n",
      "\u001b[1;32m<ipython-input-37-3cfb7bc502f1>\u001b[0m in \u001b[0;36m<listcomp>\u001b[1;34m(.0)\u001b[0m\n\u001b[0;32m     33\u001b[0m \u001b[1;33m\u001b[0m\u001b[0m\n\u001b[1;32m---> 34\u001b[1;33m         \u001b[0mdf_zone_sim\u001b[0m \u001b[1;33m=\u001b[0m \u001b[0mdf_ts_\u001b[0m\u001b[1;33m.\u001b[0m\u001b[0mgroupby\u001b[0m\u001b[1;33m(\u001b[0m\u001b[0mnew_timestamp\u001b[0m\u001b[1;33m)\u001b[0m\u001b[1;33m[\u001b[0m\u001b[0mli_hen\u001b[0m\u001b[1;33m]\u001b[0m\u001b[1;33m.\u001b[0m\u001b[0magg\u001b[0m\u001b[1;33m(\u001b[0m\u001b[1;32mlambda\u001b[0m \u001b[0mx\u001b[0m\u001b[1;33m:\u001b[0m \u001b[0msum\u001b[0m\u001b[1;33m(\u001b[0m\u001b[1;33m[\u001b[0m\u001b[0mi\u001b[0m\u001b[1;33m==\u001b[0m\u001b[0mZONE\u001b[0m \u001b[1;32mfor\u001b[0m \u001b[0mi\u001b[0m \u001b[1;32min\u001b[0m \u001b[0mx\u001b[0m\u001b[1;33m]\u001b[0m\u001b[1;33m)\u001b[0m\u001b[1;33m/\u001b[0m\u001b[1;36m60\u001b[0m\u001b[1;33m)\u001b[0m\u001b[1;33m.\u001b[0m\u001b[0mreset_index\u001b[0m\u001b[1;33m(\u001b[0m\u001b[1;33m)\u001b[0m\u001b[1;33m\u001b[0m\u001b[1;33m\u001b[0m\u001b[0m\n\u001b[0m\u001b[0;32m     35\u001b[0m         \u001b[0mdf_zone_sim\u001b[0m\u001b[1;33m[\u001b[0m\u001b[1;34m'date'\u001b[0m\u001b[1;33m]\u001b[0m \u001b[1;33m=\u001b[0m \u001b[0mdf_zone_sim\u001b[0m\u001b[1;33m[\u001b[0m\u001b[0mnew_timestamp\u001b[0m\u001b[1;33m]\u001b[0m\u001b[1;33m.\u001b[0m\u001b[0mmap\u001b[0m\u001b[1;33m(\u001b[0m\u001b[1;32mlambda\u001b[0m \u001b[0mx\u001b[0m\u001b[1;33m:\u001b[0m \u001b[0mdt\u001b[0m\u001b[1;33m.\u001b[0m\u001b[0mdatetime\u001b[0m\u001b[1;33m(\u001b[0m\u001b[0mx\u001b[0m\u001b[1;33m.\u001b[0m\u001b[0myear\u001b[0m\u001b[1;33m,\u001b[0m\u001b[0mx\u001b[0m\u001b[1;33m.\u001b[0m\u001b[0mmonth\u001b[0m\u001b[1;33m,\u001b[0m\u001b[0mx\u001b[0m\u001b[1;33m.\u001b[0m\u001b[0mday\u001b[0m\u001b[1;33m)\u001b[0m\u001b[1;33m)\u001b[0m\u001b[1;33m\u001b[0m\u001b[1;33m\u001b[0m\u001b[0m\n",
      "\u001b[1;31mKeyboardInterrupt\u001b[0m: ",
      "\nDuring handling of the above exception, another exception occurred:\n",
      "\u001b[1;31mAttributeError\u001b[0m                            Traceback (most recent call last)",
      "\u001b[1;32m~\\anaconda3\\lib\\site-packages\\IPython\\core\\interactiveshell.py\u001b[0m in \u001b[0;36mshowtraceback\u001b[1;34m(self, exc_tuple, filename, tb_offset, exception_only, running_compiled_code)\u001b[0m\n\u001b[0;32m   2044\u001b[0m                         \u001b[1;31m# in the engines. This should return a list of strings.\u001b[0m\u001b[1;33m\u001b[0m\u001b[1;33m\u001b[0m\u001b[1;33m\u001b[0m\u001b[0m\n\u001b[1;32m-> 2045\u001b[1;33m                         \u001b[0mstb\u001b[0m \u001b[1;33m=\u001b[0m \u001b[0mvalue\u001b[0m\u001b[1;33m.\u001b[0m\u001b[0m_render_traceback_\u001b[0m\u001b[1;33m(\u001b[0m\u001b[1;33m)\u001b[0m\u001b[1;33m\u001b[0m\u001b[1;33m\u001b[0m\u001b[0m\n\u001b[0m\u001b[0;32m   2046\u001b[0m                     \u001b[1;32mexcept\u001b[0m \u001b[0mException\u001b[0m\u001b[1;33m:\u001b[0m\u001b[1;33m\u001b[0m\u001b[1;33m\u001b[0m\u001b[0m\n",
      "\u001b[1;31mAttributeError\u001b[0m: 'KeyboardInterrupt' object has no attribute '_render_traceback_'",
      "\nDuring handling of the above exception, another exception occurred:\n",
      "\u001b[1;31mTypeError\u001b[0m                                 Traceback (most recent call last)",
      "    \u001b[1;31m[... skipping hidden 1 frame]\u001b[0m\n",
      "\u001b[1;32m~\\anaconda3\\lib\\site-packages\\IPython\\core\\interactiveshell.py\u001b[0m in \u001b[0;36mshowtraceback\u001b[1;34m(self, exc_tuple, filename, tb_offset, exception_only, running_compiled_code)\u001b[0m\n\u001b[0;32m   2045\u001b[0m                         \u001b[0mstb\u001b[0m \u001b[1;33m=\u001b[0m \u001b[0mvalue\u001b[0m\u001b[1;33m.\u001b[0m\u001b[0m_render_traceback_\u001b[0m\u001b[1;33m(\u001b[0m\u001b[1;33m)\u001b[0m\u001b[1;33m\u001b[0m\u001b[1;33m\u001b[0m\u001b[0m\n\u001b[0;32m   2046\u001b[0m                     \u001b[1;32mexcept\u001b[0m \u001b[0mException\u001b[0m\u001b[1;33m:\u001b[0m\u001b[1;33m\u001b[0m\u001b[1;33m\u001b[0m\u001b[0m\n\u001b[1;32m-> 2047\u001b[1;33m                         stb = self.InteractiveTB.structured_traceback(etype,\n\u001b[0m\u001b[0;32m   2048\u001b[0m                                             value, tb, tb_offset=tb_offset)\n\u001b[0;32m   2049\u001b[0m \u001b[1;33m\u001b[0m\u001b[0m\n",
      "\u001b[1;32m~\\anaconda3\\lib\\site-packages\\IPython\\core\\ultratb.py\u001b[0m in \u001b[0;36mstructured_traceback\u001b[1;34m(self, etype, value, tb, tb_offset, number_of_lines_of_context)\u001b[0m\n\u001b[0;32m   1434\u001b[0m         \u001b[1;32melse\u001b[0m\u001b[1;33m:\u001b[0m\u001b[1;33m\u001b[0m\u001b[1;33m\u001b[0m\u001b[0m\n\u001b[0;32m   1435\u001b[0m             \u001b[0mself\u001b[0m\u001b[1;33m.\u001b[0m\u001b[0mtb\u001b[0m \u001b[1;33m=\u001b[0m \u001b[0mtb\u001b[0m\u001b[1;33m\u001b[0m\u001b[1;33m\u001b[0m\u001b[0m\n\u001b[1;32m-> 1436\u001b[1;33m         return FormattedTB.structured_traceback(\n\u001b[0m\u001b[0;32m   1437\u001b[0m             self, etype, value, tb, tb_offset, number_of_lines_of_context)\n\u001b[0;32m   1438\u001b[0m \u001b[1;33m\u001b[0m\u001b[0m\n",
      "\u001b[1;32m~\\anaconda3\\lib\\site-packages\\IPython\\core\\ultratb.py\u001b[0m in \u001b[0;36mstructured_traceback\u001b[1;34m(self, etype, value, tb, tb_offset, number_of_lines_of_context)\u001b[0m\n\u001b[0;32m   1334\u001b[0m         \u001b[1;32mif\u001b[0m \u001b[0mmode\u001b[0m \u001b[1;32min\u001b[0m \u001b[0mself\u001b[0m\u001b[1;33m.\u001b[0m\u001b[0mverbose_modes\u001b[0m\u001b[1;33m:\u001b[0m\u001b[1;33m\u001b[0m\u001b[1;33m\u001b[0m\u001b[0m\n\u001b[0;32m   1335\u001b[0m             \u001b[1;31m# Verbose modes need a full traceback\u001b[0m\u001b[1;33m\u001b[0m\u001b[1;33m\u001b[0m\u001b[1;33m\u001b[0m\u001b[0m\n\u001b[1;32m-> 1336\u001b[1;33m             return VerboseTB.structured_traceback(\n\u001b[0m\u001b[0;32m   1337\u001b[0m                 \u001b[0mself\u001b[0m\u001b[1;33m,\u001b[0m \u001b[0metype\u001b[0m\u001b[1;33m,\u001b[0m \u001b[0mvalue\u001b[0m\u001b[1;33m,\u001b[0m \u001b[0mtb\u001b[0m\u001b[1;33m,\u001b[0m \u001b[0mtb_offset\u001b[0m\u001b[1;33m,\u001b[0m \u001b[0mnumber_of_lines_of_context\u001b[0m\u001b[1;33m\u001b[0m\u001b[1;33m\u001b[0m\u001b[0m\n\u001b[0;32m   1338\u001b[0m             )\n",
      "\u001b[1;32m~\\anaconda3\\lib\\site-packages\\IPython\\core\\ultratb.py\u001b[0m in \u001b[0;36mstructured_traceback\u001b[1;34m(self, etype, evalue, etb, tb_offset, number_of_lines_of_context)\u001b[0m\n\u001b[0;32m   1191\u001b[0m         \u001b[1;34m\"\"\"Return a nice text document describing the traceback.\"\"\"\u001b[0m\u001b[1;33m\u001b[0m\u001b[1;33m\u001b[0m\u001b[0m\n\u001b[0;32m   1192\u001b[0m \u001b[1;33m\u001b[0m\u001b[0m\n\u001b[1;32m-> 1193\u001b[1;33m         formatted_exception = self.format_exception_as_a_whole(etype, evalue, etb, number_of_lines_of_context,\n\u001b[0m\u001b[0;32m   1194\u001b[0m                                                                tb_offset)\n\u001b[0;32m   1195\u001b[0m \u001b[1;33m\u001b[0m\u001b[0m\n",
      "\u001b[1;32m~\\anaconda3\\lib\\site-packages\\IPython\\core\\ultratb.py\u001b[0m in \u001b[0;36mformat_exception_as_a_whole\u001b[1;34m(self, etype, evalue, etb, number_of_lines_of_context, tb_offset)\u001b[0m\n\u001b[0;32m   1149\u001b[0m \u001b[1;33m\u001b[0m\u001b[0m\n\u001b[0;32m   1150\u001b[0m \u001b[1;33m\u001b[0m\u001b[0m\n\u001b[1;32m-> 1151\u001b[1;33m         \u001b[0mlast_unique\u001b[0m\u001b[1;33m,\u001b[0m \u001b[0mrecursion_repeat\u001b[0m \u001b[1;33m=\u001b[0m \u001b[0mfind_recursion\u001b[0m\u001b[1;33m(\u001b[0m\u001b[0morig_etype\u001b[0m\u001b[1;33m,\u001b[0m \u001b[0mevalue\u001b[0m\u001b[1;33m,\u001b[0m \u001b[0mrecords\u001b[0m\u001b[1;33m)\u001b[0m\u001b[1;33m\u001b[0m\u001b[1;33m\u001b[0m\u001b[0m\n\u001b[0m\u001b[0;32m   1152\u001b[0m \u001b[1;33m\u001b[0m\u001b[0m\n\u001b[0;32m   1153\u001b[0m         \u001b[0mframes\u001b[0m \u001b[1;33m=\u001b[0m \u001b[0mself\u001b[0m\u001b[1;33m.\u001b[0m\u001b[0mformat_records\u001b[0m\u001b[1;33m(\u001b[0m\u001b[0mrecords\u001b[0m\u001b[1;33m,\u001b[0m \u001b[0mlast_unique\u001b[0m\u001b[1;33m,\u001b[0m \u001b[0mrecursion_repeat\u001b[0m\u001b[1;33m)\u001b[0m\u001b[1;33m\u001b[0m\u001b[1;33m\u001b[0m\u001b[0m\n",
      "\u001b[1;32m~\\anaconda3\\lib\\site-packages\\IPython\\core\\ultratb.py\u001b[0m in \u001b[0;36mfind_recursion\u001b[1;34m(etype, value, records)\u001b[0m\n\u001b[0;32m    449\u001b[0m     \u001b[1;31m# first frame (from in to out) that looks different.\u001b[0m\u001b[1;33m\u001b[0m\u001b[1;33m\u001b[0m\u001b[1;33m\u001b[0m\u001b[0m\n\u001b[0;32m    450\u001b[0m     \u001b[1;32mif\u001b[0m \u001b[1;32mnot\u001b[0m \u001b[0mis_recursion_error\u001b[0m\u001b[1;33m(\u001b[0m\u001b[0metype\u001b[0m\u001b[1;33m,\u001b[0m \u001b[0mvalue\u001b[0m\u001b[1;33m,\u001b[0m \u001b[0mrecords\u001b[0m\u001b[1;33m)\u001b[0m\u001b[1;33m:\u001b[0m\u001b[1;33m\u001b[0m\u001b[1;33m\u001b[0m\u001b[0m\n\u001b[1;32m--> 451\u001b[1;33m         \u001b[1;32mreturn\u001b[0m \u001b[0mlen\u001b[0m\u001b[1;33m(\u001b[0m\u001b[0mrecords\u001b[0m\u001b[1;33m)\u001b[0m\u001b[1;33m,\u001b[0m \u001b[1;36m0\u001b[0m\u001b[1;33m\u001b[0m\u001b[1;33m\u001b[0m\u001b[0m\n\u001b[0m\u001b[0;32m    452\u001b[0m \u001b[1;33m\u001b[0m\u001b[0m\n\u001b[0;32m    453\u001b[0m     \u001b[1;31m# Select filename, lineno, func_name to track frames with\u001b[0m\u001b[1;33m\u001b[0m\u001b[1;33m\u001b[0m\u001b[1;33m\u001b[0m\u001b[0m\n",
      "\u001b[1;31mTypeError\u001b[0m: object of type 'NoneType' has no len()"
     ]
    }
   ],
   "source": [
    "#for efficiency purpose let's compute the bined time series first\n",
    "#note that we will have more entries than needed, as the distrubances days are not removed in the raw-cleaned movements\n",
    "#dataframe.\n",
    "dico_bin_zone_level_h = {}   \n",
    "dmin = dt.datetime(2020,9,30)\n",
    "dmax = dt.datetime(2020,11,22)\n",
    "\n",
    "print('computing time series...')\n",
    "df_ts = time_series_henColumn_tsRow(df[(df['date']<=dmax)&(df['date']>=dmin)&(df['HenID'].isin([li_gr1+ligr2]))], config, col_ts='Zone', ts_with_all_hen_value=False, save=False, \n",
    "                                    hen_time_series=False)\n",
    "\n",
    "print('Extract binary ts of MLP...')\n",
    "for nbr_binmn in tqdm.tqdm(li_binmn):\n",
    "    \n",
    "    #update results\n",
    "    dico_bin_zone_level_h[nbr_binmn] = {}\n",
    "\n",
    "    #reduce to the interval we want\n",
    "    mi = min(df_ts['Timestamp'].tolist())\n",
    "    ma = max(df_ts['Timestamp'].tolist())\n",
    "    #extend the end to the end of the day in case it case the last day available fo the chicken\n",
    "    Daterange = pd.date_range(start = mi, end = ma, freq = str(nbr_binmn)+'MIN')    \n",
    "    df_date = pd.DataFrame({str(nbr_binmn)+'mn_timestamp':Daterange})\n",
    "    new_timestamp = str(nbr_binmn)+'mn_timestamp'\n",
    "    df_date[new_timestamp] = df_date[new_timestamp].map(lambda x: pd.to_datetime(x))\n",
    "    df_ts_ = pd.merge_asof(df_ts, df_date, left_on=['Timestamp'], right_on=[new_timestamp], direction='forward')\n",
    "    #groupby the interval that we want with the number of minutes in nestbox\n",
    "    li_hen = [v for v in df_ts.columns if 'hen_' in v]\n",
    "    for ZONE in df['Zone'].unique():\n",
    "\n",
    "        #update results\n",
    "        dico_bin_zone_level_h[nbr_binmn][ZONE] = {}\n",
    "\n",
    "        df_zone_sim = df_ts_.groupby(new_timestamp)[li_hen].agg(lambda x: sum([i==ZONE for i in x])/60).reset_index()\n",
    "        df_zone_sim['date'] = df_zone_sim[new_timestamp].map(lambda x: dt.datetime(x.year,x.month,x.day))\n",
    "\n",
    "        #groupby date to have a list of zones per day (rows) for the hens (columns)\n",
    "        df_zone_sim = df_zone_sim.groupby('date')[li_hen].agg(lambda x: list(x)).reset_index()\n",
    "        #print(df_zone_sim.shape)\n",
    "        #display(df_zone_sim.head(3))\n",
    "\n",
    "        #melt to have one row per (day, hens) to avoid looping to create the dictionary\n",
    "        df_zone_sim_ = pd.melt(df_zone_sim, id_vars=['date'], value_vars=li_hen)\n",
    "        #variable column has the henIDs\n",
    "        #print(df_zone_sim_.shape)\n",
    "        #display(df_zone_sim_.head(3))\n",
    "        for d, df__ in df_zone_sim_.groupby(['date']):\n",
    "            #update results\n",
    "            dico_bin_zone_level_h[nbr_binmn][ZONE][d] = dict(zip(df__['variable'].tolist(), df__['value'].tolist()))\n",
    "#save dictionary\n",
    "pickle.dump(dico_bin_zone_level_h, open(os.path.join(path_extracted_data_visual_adap, \n",
    "                                                 id_run+'dico_bin_zone_level_h_SAMEDAYS.pkl'), 'wb'), pickle.HIGHEST_PROTOCOL)"
   ]
  },
  {
   "cell_type": "code",
   "execution_count": null,
   "metadata": {},
   "outputs": [],
   "source": [
    "#compute the chi2-distance from any two normalized vector of durations per zone that are from consectives days and same pen\n",
    "random.seed(rv)\n",
    "li_df = []\n",
    "li_zone = df['Zone'].unique()\n",
    "df.sort_values(['Timestamp'], inplace=True)\n",
    "li_date = set(df_daily__['level'].tolist())\n",
    "tr1 = df_daily__['Treatment'].unique()[0]\n",
    "tr1 = df_daily__['Treatment'].unique()[0]\n",
    "for d1 in sorted(list(li_date)):\n",
    "    doa = df_doa[df_doa['level']==d1]['DOA'].values[0]\n",
    "    woa = df_doa[df_doa['level']==d1]['WOA'].values[0]\n",
    "    li_hen_d1 = df_daily__[df_daily__['level']==d1]['HenID'].unique()\n",
    "    #its a symmetric measure, so we only do each combination once\n",
    "    for i,h1 in enumerate(li_hen_d1):\n",
    "\n",
    "        #for each hen we want to compute its difference with a random bird from the same group AND with a random bird from the\n",
    "        #other group\n",
    "        \n",
    "        #first exatract list of available hens that day from each group\n",
    "        li_gr1 = intersection(li_hen_d1, li_gr1)\n",
    "        li_gr2 = intersection(li_hen_d1, li_gr2)\n",
    "        \n",
    "        #remove the actual hen (h1)\n",
    "        if h1 in li_gr1:\n",
    "            li_gr1.remove(h1)\n",
    "            gr1 = 'group1'\n",
    "        elif h2 in li_gr2:\n",
    "            li_gr2.remove(h1)\n",
    "            gr1 = 'group2'\n",
    "        else:\n",
    "            print('ERROR: your hen has no group beonging:', h1)\n",
    "            sys.exit()\n",
    "        \n",
    "        #then choose one hen from each group\n",
    "        h2_gr1 = random.sample(li_gr1, 1)[0]\n",
    "        h2_gr2 = random.sample(li_gr2, 1)[0]\n",
    "        \n",
    "        #finally compute the difference\n",
    "        for h2,gr2 in zip([h2_gr1, h2_gr2],['group1','group2']):\n",
    "            print(h2,gr2)\n",
    "       \n",
    "            ############ Overall aviary usage similarity across days\n",
    "            l1 = df_daily__[(df_daily__['HenID']==h1)&(df_daily__['level']==d1)]['dur_values_normalized'].values[0]\n",
    "            l2 = df_daily__[(df_daily__['HenID']==h2)&(df_daily__['level']==d1)]['dur_values_normalized'].values[0]\n",
    "\n",
    "            dico_ = {'level':d1, 'level+1':d1, 'henID1':h1, 'henID2':h2, \n",
    "                     'dur_values_normalized_henID1':l1,'dur_values_normalized_henID2':l2,'grouph1':gr1,'grouph2':gr2,\n",
    "                     'chi2distance':chi2_distance(l1,l2),'DOA':doa,'WOA':woa}\n",
    "\n",
    "            ############# Specifics' zones usage similarity across days\n",
    "            for nbr_binmn in li_binmn:\n",
    "                for ZONE in li_zone:\n",
    "                    dtw_value = np.nan\n",
    "                    try:\n",
    "                        l1 = np.array(dico_bin_zone_level_h[nbr_binmn][ZONE][d1][h1], dtype=np.double)\n",
    "                        l2 = np.array(dico_bin_zone_level_h[nbr_binmn][ZONE][d1][h2], dtype=np.double)\n",
    "                        #compute distance measure\n",
    "                        #psi: #of start and end points of a sequence can be ignored if this would lead to a lower distance\n",
    "                        dtw_value, paths = dtw.warping_paths(l1, l2, window=dico_window[nbr_binmn], psi=0, penalty=penalty) #, max_step=0\n",
    "                    except Exception as e:\n",
    "                        pass #dont do anything\n",
    "                    dico_['DTW_'+str(nbr_binmn)+'_'+ZONE] = round(dtw_value,1)  \n",
    "                    dico_['nbr_obs_l1_'+str(nbr_binmn)+'_'+ZONE] = len(l1)\n",
    "                    dico_['nbr_obs_l2_'+str(nbr_binmn)+'_'+ZONE] = len(l2)\n",
    "            li_df.append(dico_)\n",
    "\n",
    "#turn inter and intra distances into a dataframe                \n",
    "df_interintra = pd.DataFrame(li_df)\n",
    "#df_interintra = df_interintra[~df_interintra['chi2distance'].isnull()]\n",
    "df_interintra['is_same_group'] = df_interintra.apply(lambda x: x['grouph1']==x['grouph2'], axis=1)\n",
    "df_interintra['Group'] = df_interintra.apply(lambda x: dico_gr_name[x['grouph1']] if x['grouph1']==x['grouph2'] else '', axis=1)\n",
    "df_interintra = df_interintra.sort_values('DOA', ascending=True)\n",
    "dico_name = {True: 'Intra group', False:'Inter group'}\n",
    "df_interintra['type'] = df_interintra.apply(lambda x: dico_name[x['is_same_ind']]+' - '+x['Group'], axis=1)\n",
    "display(df_interintra['type'].value_counts())\n",
    "df_interintra.to_csv(os.path.join(path_extracted_data_visual_adap ,id_run+str(rv)+'_df_interintra_SAMEDAY.csv'), sep=';', index=False)\n",
    "print(df_interintra.shape)\n",
    "display(df_interintra.head(3))"
   ]
  },
  {
   "cell_type": "code",
   "execution_count": 8,
   "metadata": {},
   "outputs": [
    {
     "name": "stderr",
     "output_type": "stream",
     "text": [
      "C:\\Users\\camil\\anaconda3\\lib\\site-packages\\ipykernel\\ipkernel.py:283: DeprecationWarning: `should_run_async` will not call `transform_cell` automatically in the future. Please pass the result to `transformed_cell` argument and any exception that happen during thetransform in `preprocessing_exc_tuple` in IPython 7.17 and above.\n",
      "  and should_run_async(code)\n"
     ]
    }
   ],
   "source": [
    "li_dist = ['chi2distance', 'DTW_15_1_Zone', 'DTW_15_2_Zone', 'DTW_15_3_Zone','DTW_15_4_Zone','DTW_15_5_Zone','DTW_15_all']\n",
    "li_info = ['level','level+1','henID1','henID2','PenID','Treatment', 'DOA','weeks_in_laying_barn','CLASS']"
   ]
  },
  {
   "cell_type": "code",
   "execution_count": 9,
   "metadata": {},
   "outputs": [
    {
     "name": "stderr",
     "output_type": "stream",
     "text": [
      "C:\\Users\\camil\\anaconda3\\lib\\site-packages\\ipykernel\\ipkernel.py:283: DeprecationWarning: `should_run_async` will not call `transform_cell` automatically in the future. Please pass the result to `transformed_cell` argument and any exception that happen during thetransform in `preprocessing_exc_tuple` in IPython 7.17 and above.\n",
      "  and should_run_async(code)\n"
     ]
    },
    {
     "data": {
      "text/plain": [
       "Intra - MVT           15552\n",
       "Inter - NMVT & MVT     1452\n",
       "Intra - NMVT             92\n",
       "Name: type_2gr, dtype: int64"
      ]
     },
     "metadata": {},
     "output_type": "display_data"
    },
    {
     "data": {
      "text/plain": [
       "(17096, 17)"
      ]
     },
     "execution_count": 9,
     "metadata": {},
     "output_type": "execute_result"
    }
   ],
   "source": [
    "#Intra - NMVT: 2 different birds from the \"no mvt on the first day group\"\n",
    "df_interintra['type_2gr'] = df_interintra.apply(lambda x: 'Intra - NMVT' if (x['henID1']!=x['henID2']) &\\\n",
    "                                                (x['henID1'] in li_hen_nomvt)&(x['henID2'] in li_hen_nomvt) else None, axis=1)\n",
    "#Intra - MVT: 2 different birds from the \"mvt on the first day group\"\n",
    "df_interintra['type_2gr'] = df_interintra.apply(lambda x: 'Intra - MVT' if (x['henID1']!=x['henID2']) &\\\n",
    "                                                (x['henID1'] in li_hen_mvt)&(x['henID2'] in li_hen_mvt) else x['type_2gr'], axis=1)\n",
    "#Inter - NMVT & MVT: one bird from the \"mvt on the first day group\" ad one from the  \"no mvt on the first day group\"\n",
    "df_interintra['type_2gr'] = df_interintra.apply(lambda x: 'Inter - NMVT & MVT' if \\\n",
    "                                                ((x['henID1'] in li_hen_mvt)&(x['henID2'] in li_hen_nomvt))|\\\n",
    "                                                ((x['henID2'] in li_hen_mvt)&(x['henID1'] in li_hen_nomvt)) else x['type_2gr'], \n",
    "                                                axis=1)\n",
    "display(df_interintra['type_2gr'].value_counts())\n",
    "df_interintra = df_interintra[~df_interintra['type_2gr'].isnull()][li_info+li_dist+['type_2gr']]\n",
    "df_interintra.shape"
   ]
  },
  {
   "cell_type": "code",
   "execution_count": 10,
   "metadata": {},
   "outputs": [
    {
     "name": "stderr",
     "output_type": "stream",
     "text": [
      "C:\\Users\\camil\\anaconda3\\lib\\site-packages\\ipykernel\\ipkernel.py:283: DeprecationWarning: `should_run_async` will not call `transform_cell` automatically in the future. Please pass the result to `transformed_cell` argument and any exception that happen during thetransform in `preprocessing_exc_tuple` in IPython 7.17 and above.\n",
      "  and should_run_async(code)\n"
     ]
    }
   ],
   "source": [
    "#to avoid doing this in a loop, we add 2 columns with the birds in the same group and the bird in a different group from henID1\n",
    "df_interintra['li_hen_intra'] = df_interintra['henID1'].map(lambda x: str(li_hen_nomvt) if x in li_hen_nomvt else str(li_hen_mvt))\n",
    "df_interintra['li_hen_inter'] = df_interintra['henID1'].map(lambda x: str(li_hen_nomvt) if x not in li_hen_nomvt else str(li_hen_mvt))"
   ]
  },
  {
   "cell_type": "code",
   "execution_count": 11,
   "metadata": {},
   "outputs": [
    {
     "name": "stderr",
     "output_type": "stream",
     "text": [
      "C:\\Users\\camil\\anaconda3\\lib\\site-packages\\ipykernel\\ipkernel.py:283: DeprecationWarning: `should_run_async` will not call `transform_cell` automatically in the future. Please pass the result to `transformed_cell` argument and any exception that happen during thetransform in `preprocessing_exc_tuple` in IPython 7.17 and above.\n",
      "  and should_run_async(code)\n"
     ]
    },
    {
     "name": "stdout",
     "output_type": "stream",
     "text": [
      "(2618, 7)\n"
     ]
    },
    {
     "data": {
      "text/html": [
       "<div>\n",
       "<style scoped>\n",
       "    .dataframe tbody tr th:only-of-type {\n",
       "        vertical-align: middle;\n",
       "    }\n",
       "\n",
       "    .dataframe tbody tr th {\n",
       "        vertical-align: top;\n",
       "    }\n",
       "\n",
       "    .dataframe thead th {\n",
       "        text-align: right;\n",
       "    }\n",
       "</style>\n",
       "<table border=\"1\" class=\"dataframe\">\n",
       "  <thead>\n",
       "    <tr style=\"text-align: right;\">\n",
       "      <th></th>\n",
       "      <th>level</th>\n",
       "      <th>henID1</th>\n",
       "      <th>li_hen_intra</th>\n",
       "      <th>li_hen_inter</th>\n",
       "      <th>henID2</th>\n",
       "      <th>randomly_selected_intra</th>\n",
       "      <th>randomly_selected_inter</th>\n",
       "    </tr>\n",
       "  </thead>\n",
       "  <tbody>\n",
       "    <tr>\n",
       "      <th>0</th>\n",
       "      <td>2020-09-30</td>\n",
       "      <td>hen_1</td>\n",
       "      <td>['hen_131', 'hen_138', 'hen_139', 'hen_140', '...</td>\n",
       "      <td>['hen_89', 'hen_147', 'hen_69']</td>\n",
       "      <td>[hen_113, hen_19, hen_24, hen_90, hen_98, hen_3]</td>\n",
       "      <td>hen_3</td>\n",
       "      <td>None</td>\n",
       "    </tr>\n",
       "    <tr>\n",
       "      <th>1</th>\n",
       "      <td>2020-09-30</td>\n",
       "      <td>hen_102</td>\n",
       "      <td>['hen_131', 'hen_138', 'hen_139', 'hen_140', '...</td>\n",
       "      <td>['hen_89', 'hen_147', 'hen_69']</td>\n",
       "      <td>[hen_81, hen_94, hen_92, hen_4, hen_25, hen_20...</td>\n",
       "      <td>hen_20</td>\n",
       "      <td>None</td>\n",
       "    </tr>\n",
       "    <tr>\n",
       "      <th>2</th>\n",
       "      <td>2020-09-30</td>\n",
       "      <td>hen_103</td>\n",
       "      <td>['hen_131', 'hen_138', 'hen_139', 'hen_140', '...</td>\n",
       "      <td>['hen_89', 'hen_147', 'hen_69']</td>\n",
       "      <td>[hen_94, hen_92, hen_81, hen_4, hen_25, hen_20...</td>\n",
       "      <td>hen_20</td>\n",
       "      <td>None</td>\n",
       "    </tr>\n",
       "  </tbody>\n",
       "</table>\n",
       "</div>"
      ],
      "text/plain": [
       "       level   henID1                                       li_hen_intra  \\\n",
       "0 2020-09-30    hen_1  ['hen_131', 'hen_138', 'hen_139', 'hen_140', '...   \n",
       "1 2020-09-30  hen_102  ['hen_131', 'hen_138', 'hen_139', 'hen_140', '...   \n",
       "2 2020-09-30  hen_103  ['hen_131', 'hen_138', 'hen_139', 'hen_140', '...   \n",
       "\n",
       "                      li_hen_inter  \\\n",
       "0  ['hen_89', 'hen_147', 'hen_69']   \n",
       "1  ['hen_89', 'hen_147', 'hen_69']   \n",
       "2  ['hen_89', 'hen_147', 'hen_69']   \n",
       "\n",
       "                                              henID2 randomly_selected_intra  \\\n",
       "0   [hen_113, hen_19, hen_24, hen_90, hen_98, hen_3]                   hen_3   \n",
       "1  [hen_81, hen_94, hen_92, hen_4, hen_25, hen_20...                  hen_20   \n",
       "2  [hen_94, hen_92, hen_81, hen_4, hen_25, hen_20...                  hen_20   \n",
       "\n",
       "  randomly_selected_inter  \n",
       "0                    None  \n",
       "1                    None  \n",
       "2                    None  "
      ]
     },
     "execution_count": 11,
     "metadata": {},
     "output_type": "execute_result"
    }
   ],
   "source": [
    "#among those birds, for each day select for each available bird in any of the 2 groups:\n",
    "    #1 random bird in the same group and \n",
    "    #1 random animal in the other group\n",
    "#fix random seed for reproducibility\n",
    "random.seed(0)\n",
    "df_sel = df_interintra.groupby(['level','henID1','li_hen_intra','li_hen_inter'])['henID2'].agg(lambda x: list(x)).reset_index()\n",
    "df_sel['randomly_selected_intra'] = df_sel.apply(lambda x: random.sample([None]+[i for i in x['henID2'] if ((i!=x['henID1'])&\\\n",
    "                                                                         (i in eval(x['li_hen_intra'])))], 1)[0], axis=1)\n",
    "df_sel['randomly_selected_inter'] = df_sel.apply(lambda x: random.sample([None]+[i for i in x['henID2'] if \\\n",
    "                                                                         (i in eval(x['li_hen_inter']))], 1)[0], axis=1)\n",
    "print(df_sel.shape)\n",
    "df_sel.head(3)"
   ]
  },
  {
   "cell_type": "code",
   "execution_count": 12,
   "metadata": {},
   "outputs": [
    {
     "name": "stdout",
     "output_type": "stream",
     "text": [
      "(17096, 19) (2618, 7)\n",
      "(17096, 21)\n"
     ]
    },
    {
     "name": "stderr",
     "output_type": "stream",
     "text": [
      "C:\\Users\\camil\\anaconda3\\lib\\site-packages\\ipykernel\\ipkernel.py:283: DeprecationWarning: `should_run_async` will not call `transform_cell` automatically in the future. Please pass the result to `transformed_cell` argument and any exception that happen during thetransform in `preprocessing_exc_tuple` in IPython 7.17 and above.\n",
      "  and should_run_async(code)\n"
     ]
    },
    {
     "data": {
      "text/html": [
       "<div>\n",
       "<style scoped>\n",
       "    .dataframe tbody tr th:only-of-type {\n",
       "        vertical-align: middle;\n",
       "    }\n",
       "\n",
       "    .dataframe tbody tr th {\n",
       "        vertical-align: top;\n",
       "    }\n",
       "\n",
       "    .dataframe thead th {\n",
       "        text-align: right;\n",
       "    }\n",
       "</style>\n",
       "<table border=\"1\" class=\"dataframe\">\n",
       "  <thead>\n",
       "    <tr style=\"text-align: right;\">\n",
       "      <th></th>\n",
       "      <th>level</th>\n",
       "      <th>level+1</th>\n",
       "      <th>henID1</th>\n",
       "      <th>henID2</th>\n",
       "      <th>PenID</th>\n",
       "      <th>Treatment</th>\n",
       "      <th>DOA</th>\n",
       "      <th>weeks_in_laying_barn</th>\n",
       "      <th>CLASS</th>\n",
       "      <th>chi2distance</th>\n",
       "      <th>...</th>\n",
       "      <th>DTW_15_2_Zone</th>\n",
       "      <th>DTW_15_3_Zone</th>\n",
       "      <th>DTW_15_4_Zone</th>\n",
       "      <th>DTW_15_5_Zone</th>\n",
       "      <th>DTW_15_all</th>\n",
       "      <th>type_2gr</th>\n",
       "      <th>li_hen_intra</th>\n",
       "      <th>li_hen_inter</th>\n",
       "      <th>randomly_selected_intra</th>\n",
       "      <th>randomly_selected_inter</th>\n",
       "    </tr>\n",
       "  </thead>\n",
       "  <tbody>\n",
       "    <tr>\n",
       "      <th>0</th>\n",
       "      <td>2020-09-30</td>\n",
       "      <td>2020-10-01</td>\n",
       "      <td>hen_65</td>\n",
       "      <td>hen_139</td>\n",
       "      <td>10</td>\n",
       "      <td>TRAN</td>\n",
       "      <td>119</td>\n",
       "      <td>1</td>\n",
       "      <td>LEXPEPI</td>\n",
       "      <td>0.705432</td>\n",
       "      <td>...</td>\n",
       "      <td>53.0</td>\n",
       "      <td>105.1</td>\n",
       "      <td>2.2</td>\n",
       "      <td>138.5</td>\n",
       "      <td>298.8</td>\n",
       "      <td>Intra - MVT</td>\n",
       "      <td>['hen_131', 'hen_138', 'hen_139', 'hen_140', '...</td>\n",
       "      <td>['hen_89', 'hen_147', 'hen_69']</td>\n",
       "      <td>hen_46</td>\n",
       "      <td>None</td>\n",
       "    </tr>\n",
       "    <tr>\n",
       "      <th>1</th>\n",
       "      <td>2020-09-30</td>\n",
       "      <td>2020-10-01</td>\n",
       "      <td>hen_65</td>\n",
       "      <td>hen_140</td>\n",
       "      <td>10</td>\n",
       "      <td>TRAN</td>\n",
       "      <td>119</td>\n",
       "      <td>1</td>\n",
       "      <td>LEXP</td>\n",
       "      <td>0.675422</td>\n",
       "      <td>...</td>\n",
       "      <td>58.5</td>\n",
       "      <td>72.1</td>\n",
       "      <td>47.8</td>\n",
       "      <td>100.6</td>\n",
       "      <td>279.0</td>\n",
       "      <td>Intra - MVT</td>\n",
       "      <td>['hen_131', 'hen_138', 'hen_139', 'hen_140', '...</td>\n",
       "      <td>['hen_89', 'hen_147', 'hen_69']</td>\n",
       "      <td>hen_46</td>\n",
       "      <td>None</td>\n",
       "    </tr>\n",
       "    <tr>\n",
       "      <th>2</th>\n",
       "      <td>2020-09-30</td>\n",
       "      <td>2020-10-01</td>\n",
       "      <td>hen_65</td>\n",
       "      <td>hen_46</td>\n",
       "      <td>10</td>\n",
       "      <td>TRAN</td>\n",
       "      <td>119</td>\n",
       "      <td>1</td>\n",
       "      <td>LEXPEPI</td>\n",
       "      <td>0.618317</td>\n",
       "      <td>...</td>\n",
       "      <td>51.3</td>\n",
       "      <td>45.5</td>\n",
       "      <td>0.0</td>\n",
       "      <td>58.9</td>\n",
       "      <td>155.7</td>\n",
       "      <td>Intra - MVT</td>\n",
       "      <td>['hen_131', 'hen_138', 'hen_139', 'hen_140', '...</td>\n",
       "      <td>['hen_89', 'hen_147', 'hen_69']</td>\n",
       "      <td>hen_46</td>\n",
       "      <td>None</td>\n",
       "    </tr>\n",
       "  </tbody>\n",
       "</table>\n",
       "<p>3 rows × 21 columns</p>\n",
       "</div>"
      ],
      "text/plain": [
       "       level    level+1  henID1   henID2  PenID Treatment  DOA  \\\n",
       "0 2020-09-30 2020-10-01  hen_65  hen_139     10      TRAN  119   \n",
       "1 2020-09-30 2020-10-01  hen_65  hen_140     10      TRAN  119   \n",
       "2 2020-09-30 2020-10-01  hen_65   hen_46     10      TRAN  119   \n",
       "\n",
       "   weeks_in_laying_barn    CLASS  chi2distance  ...  DTW_15_2_Zone  \\\n",
       "0                     1  LEXPEPI      0.705432  ...           53.0   \n",
       "1                     1     LEXP      0.675422  ...           58.5   \n",
       "2                     1  LEXPEPI      0.618317  ...           51.3   \n",
       "\n",
       "   DTW_15_3_Zone  DTW_15_4_Zone  DTW_15_5_Zone  DTW_15_all     type_2gr  \\\n",
       "0          105.1            2.2          138.5       298.8  Intra - MVT   \n",
       "1           72.1           47.8          100.6       279.0  Intra - MVT   \n",
       "2           45.5            0.0           58.9       155.7  Intra - MVT   \n",
       "\n",
       "                                        li_hen_intra  \\\n",
       "0  ['hen_131', 'hen_138', 'hen_139', 'hen_140', '...   \n",
       "1  ['hen_131', 'hen_138', 'hen_139', 'hen_140', '...   \n",
       "2  ['hen_131', 'hen_138', 'hen_139', 'hen_140', '...   \n",
       "\n",
       "                      li_hen_inter randomly_selected_intra  \\\n",
       "0  ['hen_89', 'hen_147', 'hen_69']                  hen_46   \n",
       "1  ['hen_89', 'hen_147', 'hen_69']                  hen_46   \n",
       "2  ['hen_89', 'hen_147', 'hen_69']                  hen_46   \n",
       "\n",
       "  randomly_selected_inter  \n",
       "0                    None  \n",
       "1                    None  \n",
       "2                    None  \n",
       "\n",
       "[3 rows x 21 columns]"
      ]
     },
     "execution_count": 12,
     "metadata": {},
     "output_type": "execute_result"
    }
   ],
   "source": [
    "print(df_interintra.shape, df_sel.shape)\n",
    "df_interintra = pd.merge(df_interintra, df_sel.filter(['level','henID1','randomly_selected_intra','randomly_selected_inter'], axis=1), \n",
    "                         on=['level','henID1'], how='outer')\n",
    "print(df_interintra.shape)\n",
    "df_interintra.head(3)"
   ]
  },
  {
   "cell_type": "code",
   "execution_count": 13,
   "metadata": {},
   "outputs": [
    {
     "name": "stderr",
     "output_type": "stream",
     "text": [
      "C:\\Users\\camil\\anaconda3\\lib\\site-packages\\ipykernel\\ipkernel.py:283: DeprecationWarning: `should_run_async` will not call `transform_cell` automatically in the future. Please pass the result to `transformed_cell` argument and any exception that happen during thetransform in `preprocessing_exc_tuple` in IPython 7.17 and above.\n",
      "  and should_run_async(code)\n"
     ]
    },
    {
     "data": {
      "text/plain": [
       "False    14540\n",
       "True      2556\n",
       "Name: select, dtype: int64"
      ]
     },
     "execution_count": 13,
     "metadata": {},
     "output_type": "execute_result"
    }
   ],
   "source": [
    "#select the hens acordingly to the last dataframe\n",
    "df_interintra['select'] = df_interintra.apply(lambda x: (x['randomly_selected_intra']==x['henID2'])|\\\n",
    "                                                        (x['randomly_selected_inter']==x['henID2']), axis=1)\n",
    "df_interintra['select'].value_counts()"
   ]
  },
  {
   "cell_type": "code",
   "execution_count": 14,
   "metadata": {},
   "outputs": [
    {
     "name": "stderr",
     "output_type": "stream",
     "text": [
      "C:\\Users\\camil\\anaconda3\\lib\\site-packages\\ipykernel\\ipkernel.py:283: DeprecationWarning: `should_run_async` will not call `transform_cell` automatically in the future. Please pass the result to `transformed_cell` argument and any exception that happen during thetransform in `preprocessing_exc_tuple` in IPython 7.17 and above.\n",
      "  and should_run_async(code)\n"
     ]
    },
    {
     "data": {
      "text/html": [
       "<div>\n",
       "<style scoped>\n",
       "    .dataframe tbody tr th:only-of-type {\n",
       "        vertical-align: middle;\n",
       "    }\n",
       "\n",
       "    .dataframe tbody tr th {\n",
       "        vertical-align: top;\n",
       "    }\n",
       "\n",
       "    .dataframe thead th {\n",
       "        text-align: right;\n",
       "    }\n",
       "</style>\n",
       "<table border=\"1\" class=\"dataframe\">\n",
       "  <thead>\n",
       "    <tr style=\"text-align: right;\">\n",
       "      <th></th>\n",
       "      <th>level</th>\n",
       "      <th>type_2gr</th>\n",
       "      <th>henID2</th>\n",
       "    </tr>\n",
       "  </thead>\n",
       "  <tbody>\n",
       "    <tr>\n",
       "      <th>0</th>\n",
       "      <td>2020-09-30</td>\n",
       "      <td>Inter - NMVT &amp; MVT</td>\n",
       "      <td>12</td>\n",
       "    </tr>\n",
       "    <tr>\n",
       "      <th>1</th>\n",
       "      <td>2020-09-30</td>\n",
       "      <td>Intra - MVT</td>\n",
       "      <td>50</td>\n",
       "    </tr>\n",
       "    <tr>\n",
       "      <th>2</th>\n",
       "      <td>2020-09-30</td>\n",
       "      <td>Intra - NMVT</td>\n",
       "      <td>1</td>\n",
       "    </tr>\n",
       "    <tr>\n",
       "      <th>3</th>\n",
       "      <td>2020-10-01</td>\n",
       "      <td>Inter - NMVT &amp; MVT</td>\n",
       "      <td>9</td>\n",
       "    </tr>\n",
       "    <tr>\n",
       "      <th>4</th>\n",
       "      <td>2020-10-01</td>\n",
       "      <td>Intra - MVT</td>\n",
       "      <td>50</td>\n",
       "    </tr>\n",
       "    <tr>\n",
       "      <th>...</th>\n",
       "      <td>...</td>\n",
       "      <td>...</td>\n",
       "      <td>...</td>\n",
       "    </tr>\n",
       "    <tr>\n",
       "      <th>130</th>\n",
       "      <td>2020-11-20</td>\n",
       "      <td>Intra - MVT</td>\n",
       "      <td>48</td>\n",
       "    </tr>\n",
       "    <tr>\n",
       "      <th>131</th>\n",
       "      <td>2020-11-20</td>\n",
       "      <td>Intra - NMVT</td>\n",
       "      <td>1</td>\n",
       "    </tr>\n",
       "    <tr>\n",
       "      <th>132</th>\n",
       "      <td>2020-11-21</td>\n",
       "      <td>Inter - NMVT &amp; MVT</td>\n",
       "      <td>10</td>\n",
       "    </tr>\n",
       "    <tr>\n",
       "      <th>133</th>\n",
       "      <td>2020-11-21</td>\n",
       "      <td>Intra - MVT</td>\n",
       "      <td>46</td>\n",
       "    </tr>\n",
       "    <tr>\n",
       "      <th>134</th>\n",
       "      <td>2020-11-21</td>\n",
       "      <td>Intra - NMVT</td>\n",
       "      <td>1</td>\n",
       "    </tr>\n",
       "  </tbody>\n",
       "</table>\n",
       "<p>135 rows × 3 columns</p>\n",
       "</div>"
      ],
      "text/plain": [
       "         level            type_2gr  henID2\n",
       "0   2020-09-30  Inter - NMVT & MVT      12\n",
       "1   2020-09-30         Intra - MVT      50\n",
       "2   2020-09-30        Intra - NMVT       1\n",
       "3   2020-10-01  Inter - NMVT & MVT       9\n",
       "4   2020-10-01         Intra - MVT      50\n",
       "..         ...                 ...     ...\n",
       "130 2020-11-20         Intra - MVT      48\n",
       "131 2020-11-20        Intra - NMVT       1\n",
       "132 2020-11-21  Inter - NMVT & MVT      10\n",
       "133 2020-11-21         Intra - MVT      46\n",
       "134 2020-11-21        Intra - NMVT       1\n",
       "\n",
       "[135 rows x 3 columns]"
      ]
     },
     "execution_count": 14,
     "metadata": {},
     "output_type": "execute_result"
    }
   ],
   "source": [
    "df_interintra[df_interintra['select']].groupby(['level','type_2gr'])['henID2'].count().reset_index()"
   ]
  },
  {
   "cell_type": "markdown",
   "metadata": {},
   "source": [
    "# Visualise inter & intra difference & variability"
   ]
  },
  {
   "cell_type": "raw",
   "metadata": {},
   "source": [
    "Note that we cant plot the two intra spearately as otherwise no boxplot n the same day will haev the same amount of points. THus, we will instead plot inter vs intra"
   ]
  },
  {
   "cell_type": "code",
   "execution_count": 15,
   "metadata": {},
   "outputs": [
    {
     "name": "stderr",
     "output_type": "stream",
     "text": [
      "C:\\Users\\camil\\anaconda3\\lib\\site-packages\\ipykernel\\ipkernel.py:283: DeprecationWarning: `should_run_async` will not call `transform_cell` automatically in the future. Please pass the result to `transformed_cell` argument and any exception that happen during thetransform in `preprocessing_exc_tuple` in IPython 7.17 and above.\n",
      "  and should_run_async(code)\n"
     ]
    },
    {
     "data": {
      "text/plain": [
       "Intra    15644\n",
       "Inter     1452\n",
       "Name: type_2gr_, dtype: int64"
      ]
     },
     "execution_count": 15,
     "metadata": {},
     "output_type": "execute_result"
    }
   ],
   "source": [
    "df_interintra['type_2gr_'] = df_interintra['type_2gr'].map(lambda x: x.split('-')[0].strip())\n",
    "df_interintra['type_2gr_'].value_counts()"
   ]
  },
  {
   "cell_type": "code",
   "execution_count": 16,
   "metadata": {
    "scrolled": false
   },
   "outputs": [
    {
     "name": "stderr",
     "output_type": "stream",
     "text": [
      "C:\\Users\\camil\\anaconda3\\lib\\site-packages\\ipykernel\\ipkernel.py:283: DeprecationWarning: `should_run_async` will not call `transform_cell` automatically in the future. Please pass the result to `transformed_cell` argument and any exception that happen during thetransform in `preprocessing_exc_tuple` in IPython 7.17 and above.\n",
      "  and should_run_async(code)\n"
     ]
    },
    {
     "data": {
      "image/png": "[encoded data removed]",
      "text/plain": [
       "<Figure size 1440x576 with 1 Axes>"
      ]
     },
     "metadata": {
      "needs_background": "light"
     },
     "output_type": "display_data"
    },
    {
     "data": {
      "image/png": "[encoded data removed]",
      "text/plain": [
       "<Figure size 1440x576 with 1 Axes>"
      ]
     },
     "metadata": {
      "needs_background": "light"
     },
     "output_type": "display_data"
    },
    {
     "data": {
      "image/png": "[encoded data removed]",
      "text/plain": [
       "<Figure size 1440x576 with 1 Axes>"
      ]
     },
     "metadata": {
      "needs_background": "light"
     },
     "output_type": "display_data"
    },
    {
     "data": {
      "image/png": "[encoded data removed]",
      "text/plain": [
       "<Figure size 1440x576 with 1 Axes>"
      ]
     },
     "metadata": {
      "needs_background": "light"
     },
     "output_type": "display_data"
    },
    {
     "data": {
      "image/png": "[encoded data removed]",
      "text/plain": [
       "<Figure size 1440x576 with 1 Axes>"
      ]
     },
     "metadata": {
      "needs_background": "light"
     },
     "output_type": "display_data"
    },
    {
     "data": {
      "image/png": "[encoded data removed]",
      "text/plain": [
       "<Figure size 1440x576 with 1 Axes>"
      ]
     },
     "metadata": {
      "needs_background": "light"
     },
     "output_type": "display_data"
    },
    {
     "data": {
      "image/png": "[encoded data removed]",
      "text/plain": [
       "<Figure size 1440x576 with 1 Axes>"
      ]
     },
     "metadata": {
      "needs_background": "light"
     },
     "output_type": "display_data"
    }
   ],
   "source": [
    "for v in li_dist:\n",
    "    fig = plt.subplots(figsize=(20,8)) \n",
    "    hue_order = ['Intra','Inter']\n",
    "    sns.boxplot(x=\"DOA\", y=v, hue=\"type_2gr_\", data=df_interintra, \n",
    "                linewidth=0.8, fliersize=0.7, palette = {'Intra':'bisque', 'Inter':'tan'}, hue_order=hue_order);\n",
    "    #plt.savefig(os.path.join(path_extracted_data_visual_adap,'chi2distance_inter&intra_individual_pertreatment_DOA.png'),\n",
    "    #            dpi=300,format='png',bbox_inches='tight')"
   ]
  },
  {
   "cell_type": "markdown",
   "metadata": {},
   "source": [
    "# Groups of individuals consistenly more similar?"
   ]
  },
  {
   "cell_type": "code",
   "execution_count": 17,
   "metadata": {},
   "outputs": [
    {
     "name": "stderr",
     "output_type": "stream",
     "text": [
      "C:\\Users\\camil\\anaconda3\\lib\\site-packages\\ipykernel\\ipkernel.py:283: DeprecationWarning: `should_run_async` will not call `transform_cell` automatically in the future. Please pass the result to `transformed_cell` argument and any exception that happen during thetransform in `preprocessing_exc_tuple` in IPython 7.17 and above.\n",
      "  and should_run_async(code)\n"
     ]
    },
    {
     "data": {
      "text/plain": [
       "hen_135-hen_47     96\n",
       "hen_135-hen_137    96\n",
       "hen_139-hen_70     96\n",
       "hen_46-hen_49      96\n",
       "hen_131-hen_140    96\n",
       "                   ..\n",
       "hen_26-hen_26      37\n",
       "hen_85-hen_85      37\n",
       "hen_83-hen_83      37\n",
       "hen_21-hen_21      37\n",
       "hen_101-hen_101    37\n",
       "Name: pair, Length: 1090, dtype: int64"
      ]
     },
     "execution_count": 17,
     "metadata": {},
     "output_type": "execute_result"
    }
   ],
   "source": [
    "df_interintra_all['pair'] = df_interintra_all.apply(lambda x: '-'.join(sorted([x['henID1'], x['henID2']])), axis=1)\n",
    "df_interintra_all['pair'].value_counts()"
   ]
  },
  {
   "cell_type": "code",
   "execution_count": 18,
   "metadata": {},
   "outputs": [
    {
     "name": "stdout",
     "output_type": "stream",
     "text": [
      "(1090, 6)\n"
     ]
    },
    {
     "name": "stderr",
     "output_type": "stream",
     "text": [
      "C:\\Users\\camil\\anaconda3\\lib\\site-packages\\ipykernel\\ipkernel.py:283: DeprecationWarning: `should_run_async` will not call `transform_cell` automatically in the future. Please pass the result to `transformed_cell` argument and any exception that happen during thetransform in `preprocessing_exc_tuple` in IPython 7.17 and above.\n",
      "  and should_run_async(code)\n"
     ]
    },
    {
     "data": {
      "text/html": [
       "<div>\n",
       "<style scoped>\n",
       "    .dataframe tbody tr th:only-of-type {\n",
       "        vertical-align: middle;\n",
       "    }\n",
       "\n",
       "    .dataframe tbody tr th {\n",
       "        vertical-align: top;\n",
       "    }\n",
       "\n",
       "    .dataframe thead th {\n",
       "        text-align: right;\n",
       "    }\n",
       "</style>\n",
       "<table border=\"1\" class=\"dataframe\">\n",
       "  <thead>\n",
       "    <tr style=\"text-align: right;\">\n",
       "      <th></th>\n",
       "      <th>pair</th>\n",
       "      <th>is_same_ind</th>\n",
       "      <th>DTW_15_all</th>\n",
       "      <th>var</th>\n",
       "      <th>avg</th>\n",
       "      <th>nbr_obs</th>\n",
       "    </tr>\n",
       "  </thead>\n",
       "  <tbody>\n",
       "    <tr>\n",
       "      <th>0</th>\n",
       "      <td>hen_1-hen_1</td>\n",
       "      <td>True</td>\n",
       "      <td>[144.8, 113.6, 63.00000000000001, 82.199999999...</td>\n",
       "      <td>1825.496302</td>\n",
       "      <td>133.822727</td>\n",
       "      <td>22</td>\n",
       "    </tr>\n",
       "    <tr>\n",
       "      <th>1</th>\n",
       "      <td>hen_1-hen_105</td>\n",
       "      <td>False</td>\n",
       "      <td>[260.5, 342.5, 282.5, 271.1, 293.6, 240.3, 174...</td>\n",
       "      <td>3177.954814</td>\n",
       "      <td>220.513636</td>\n",
       "      <td>44</td>\n",
       "    </tr>\n",
       "    <tr>\n",
       "      <th>2</th>\n",
       "      <td>hen_1-hen_106</td>\n",
       "      <td>False</td>\n",
       "      <td>[240.6, 158.4, 232.2, 216.10000000000002, 229....</td>\n",
       "      <td>3642.688079</td>\n",
       "      <td>264.231818</td>\n",
       "      <td>44</td>\n",
       "    </tr>\n",
       "  </tbody>\n",
       "</table>\n",
       "</div>"
      ],
      "text/plain": [
       "            pair  is_same_ind  \\\n",
       "0    hen_1-hen_1         True   \n",
       "1  hen_1-hen_105        False   \n",
       "2  hen_1-hen_106        False   \n",
       "\n",
       "                                          DTW_15_all          var         avg  \\\n",
       "0  [144.8, 113.6, 63.00000000000001, 82.199999999...  1825.496302  133.822727   \n",
       "1  [260.5, 342.5, 282.5, 271.1, 293.6, 240.3, 174...  3177.954814  220.513636   \n",
       "2  [240.6, 158.4, 232.2, 216.10000000000002, 229....  3642.688079  264.231818   \n",
       "\n",
       "   nbr_obs  \n",
       "0       22  \n",
       "1       44  \n",
       "2       44  "
      ]
     },
     "execution_count": 18,
     "metadata": {},
     "output_type": "execute_result"
    }
   ],
   "source": [
    "df_phenop = df_interintra_all[df_interintra_all['DOA']>119+30].groupby(['pair','is_same_ind'])['DTW_15_all'].agg(lambda x: list(x)).reset_index()\n",
    "df_phenop['var'] = df_phenop['DTW_15_all'].map(lambda x: np.var(x))\n",
    "df_phenop['avg'] = df_phenop['DTW_15_all'].map(lambda x: np.mean(x))\n",
    "df_phenop['nbr_obs'] = df_phenop['DTW_15_all'].map(lambda x: len(x))\n",
    "print(df_phenop.shape)\n",
    "df_phenop.head(3)"
   ]
  },
  {
   "cell_type": "code",
   "execution_count": 19,
   "metadata": {},
   "outputs": [
    {
     "name": "stderr",
     "output_type": "stream",
     "text": [
      "C:\\Users\\camil\\anaconda3\\lib\\site-packages\\ipykernel\\ipkernel.py:283: DeprecationWarning: `should_run_async` will not call `transform_cell` automatically in the future. Please pass the result to `transformed_cell` argument and any exception that happen during thetransform in `preprocessing_exc_tuple` in IPython 7.17 and above.\n",
      "  and should_run_async(code)\n"
     ]
    },
    {
     "data": {
      "image/png": "[encoded data removed]",
      "text/plain": [
       "<Figure size 432x288 with 1 Axes>"
      ]
     },
     "metadata": {
      "needs_background": "light"
     },
     "output_type": "display_data"
    },
    {
     "data": {
      "image/png": "[encoded data removed]",
      "text/plain": [
       "<Figure size 432x288 with 1 Axes>"
      ]
     },
     "metadata": {
      "needs_background": "light"
     },
     "output_type": "display_data"
    }
   ],
   "source": [
    "sns.histplot(df_phenop, x=\"var\", hue=\"is_same_ind\", element=\"step\", stat=\"density\", common_norm=False)\n",
    "plt.show()\n",
    "sns.histplot(df_phenop, x=\"avg\", hue=\"is_same_ind\", element=\"step\", stat=\"density\", common_norm=False);"
   ]
  },
  {
   "cell_type": "code",
   "execution_count": 29,
   "metadata": {},
   "outputs": [
    {
     "name": "stderr",
     "output_type": "stream",
     "text": [
      "C:\\Users\\camil\\anaconda3\\lib\\site-packages\\ipykernel\\ipkernel.py:283: DeprecationWarning: `should_run_async` will not call `transform_cell` automatically in the future. Please pass the result to `transformed_cell` argument and any exception that happen during thetransform in `preprocessing_exc_tuple` in IPython 7.17 and above.\n",
      "  and should_run_async(code)\n"
     ]
    },
    {
     "data": {
      "text/plain": [
       "(array([1140., 1073., 1220., 1371.,  866.,  339.,  116.,   25.,   11.,\n",
       "           3.]),\n",
       " array([  0. ,  15.9,  31.8,  47.7,  63.6,  79.5,  95.4, 111.3, 127.2,\n",
       "        143.1, 159. ]),\n",
       " <BarContainer object of 10 artists>)"
      ]
     },
     "execution_count": 29,
     "metadata": {},
     "output_type": "execute_result"
    },
    {
     "data": {
      "image/png": "[encoded data removed]",
      "text/plain": [
       "<Figure size 432x288 with 1 Axes>"
      ]
     },
     "metadata": {
      "needs_background": "light"
     },
     "output_type": "display_data"
    }
   ],
   "source": [
    "plt.hist(df_daily['Total_number_transition'].tolist());"
   ]
  },
  {
   "cell_type": "raw",
   "metadata": {},
   "source": [
    "But we can't deny that a ird that do not change zone over consecutive days will have a very consistent behavior across these days. Thus, we test statistically if their is still a difference once we remove the effect of their movement complexity.\n",
    "Complexity of the birds was choosen over the umber of transistions, as we are evaluating the conssitency of the bird of \"where he is when\", and thus for the same amount if transition one could have a very predictable birds (i.e. few frenetic mvt) or a much less predictable birds in terms of where he is when (mvt homogeneously spread over the day).\n",
    "ANCOVA with sample entropy as covariate, clusterID as group and sum(dtw over each zone) as outcome."
   ]
  },
  {
   "cell_type": "code",
   "execution_count": 30,
   "metadata": {},
   "outputs": [
    {
     "name": "stderr",
     "output_type": "stream",
     "text": [
      "C:\\Users\\camil\\anaconda3\\lib\\site-packages\\ipykernel\\ipkernel.py:283: DeprecationWarning: `should_run_async` will not call `transform_cell` automatically in the future. Please pass the result to `transformed_cell` argument and any exception that happen during thetransform in `preprocessing_exc_tuple` in IPython 7.17 and above.\n",
      "  and should_run_async(code)\n"
     ]
    },
    {
     "ename": "KeyError",
     "evalue": "'sample_entropy'",
     "output_type": "error",
     "traceback": [
      "\u001b[1;31m---------------------------------------------------------------------------\u001b[0m",
      "\u001b[1;31mKeyError\u001b[0m                                  Traceback (most recent call last)",
      "\u001b[1;32m~\\anaconda3\\lib\\site-packages\\pandas\\core\\indexes\\base.py\u001b[0m in \u001b[0;36mget_loc\u001b[1;34m(self, key, method, tolerance)\u001b[0m\n\u001b[0;32m   2890\u001b[0m             \u001b[1;32mtry\u001b[0m\u001b[1;33m:\u001b[0m\u001b[1;33m\u001b[0m\u001b[1;33m\u001b[0m\u001b[0m\n\u001b[1;32m-> 2891\u001b[1;33m                 \u001b[1;32mreturn\u001b[0m \u001b[0mself\u001b[0m\u001b[1;33m.\u001b[0m\u001b[0m_engine\u001b[0m\u001b[1;33m.\u001b[0m\u001b[0mget_loc\u001b[0m\u001b[1;33m(\u001b[0m\u001b[0mcasted_key\u001b[0m\u001b[1;33m)\u001b[0m\u001b[1;33m\u001b[0m\u001b[1;33m\u001b[0m\u001b[0m\n\u001b[0m\u001b[0;32m   2892\u001b[0m             \u001b[1;32mexcept\u001b[0m \u001b[0mKeyError\u001b[0m \u001b[1;32mas\u001b[0m \u001b[0merr\u001b[0m\u001b[1;33m:\u001b[0m\u001b[1;33m\u001b[0m\u001b[1;33m\u001b[0m\u001b[0m\n",
      "\u001b[1;32mpandas\\_libs\\index.pyx\u001b[0m in \u001b[0;36mpandas._libs.index.IndexEngine.get_loc\u001b[1;34m()\u001b[0m\n",
      "\u001b[1;32mpandas\\_libs\\index.pyx\u001b[0m in \u001b[0;36mpandas._libs.index.IndexEngine.get_loc\u001b[1;34m()\u001b[0m\n",
      "\u001b[1;32mpandas\\_libs\\hashtable_class_helper.pxi\u001b[0m in \u001b[0;36mpandas._libs.hashtable.PyObjectHashTable.get_item\u001b[1;34m()\u001b[0m\n",
      "\u001b[1;32mpandas\\_libs\\hashtable_class_helper.pxi\u001b[0m in \u001b[0;36mpandas._libs.hashtable.PyObjectHashTable.get_item\u001b[1;34m()\u001b[0m\n",
      "\u001b[1;31mKeyError\u001b[0m: 'sample_entropy'",
      "\nThe above exception was the direct cause of the following exception:\n",
      "\u001b[1;31mKeyError\u001b[0m                                  Traceback (most recent call last)",
      "\u001b[1;32m<ipython-input-30-09dfd385afd3>\u001b[0m in \u001b[0;36m<module>\u001b[1;34m\u001b[0m\n\u001b[1;32m----> 1\u001b[1;33m \u001b[0mplt\u001b[0m\u001b[1;33m.\u001b[0m\u001b[0mhist\u001b[0m\u001b[1;33m(\u001b[0m\u001b[0mdf_daily\u001b[0m\u001b[1;33m[\u001b[0m\u001b[1;34m'sample_entropy'\u001b[0m\u001b[1;33m]\u001b[0m\u001b[1;33m.\u001b[0m\u001b[0mtolist\u001b[0m\u001b[1;33m(\u001b[0m\u001b[1;33m)\u001b[0m\u001b[1;33m)\u001b[0m\u001b[1;33m\u001b[0m\u001b[1;33m\u001b[0m\u001b[0m\n\u001b[0m",
      "\u001b[1;32m~\\anaconda3\\lib\\site-packages\\pandas\\core\\frame.py\u001b[0m in \u001b[0;36m__getitem__\u001b[1;34m(self, key)\u001b[0m\n\u001b[0;32m   2900\u001b[0m             \u001b[1;32mif\u001b[0m \u001b[0mself\u001b[0m\u001b[1;33m.\u001b[0m\u001b[0mcolumns\u001b[0m\u001b[1;33m.\u001b[0m\u001b[0mnlevels\u001b[0m \u001b[1;33m>\u001b[0m \u001b[1;36m1\u001b[0m\u001b[1;33m:\u001b[0m\u001b[1;33m\u001b[0m\u001b[1;33m\u001b[0m\u001b[0m\n\u001b[0;32m   2901\u001b[0m                 \u001b[1;32mreturn\u001b[0m \u001b[0mself\u001b[0m\u001b[1;33m.\u001b[0m\u001b[0m_getitem_multilevel\u001b[0m\u001b[1;33m(\u001b[0m\u001b[0mkey\u001b[0m\u001b[1;33m)\u001b[0m\u001b[1;33m\u001b[0m\u001b[1;33m\u001b[0m\u001b[0m\n\u001b[1;32m-> 2902\u001b[1;33m             \u001b[0mindexer\u001b[0m \u001b[1;33m=\u001b[0m \u001b[0mself\u001b[0m\u001b[1;33m.\u001b[0m\u001b[0mcolumns\u001b[0m\u001b[1;33m.\u001b[0m\u001b[0mget_loc\u001b[0m\u001b[1;33m(\u001b[0m\u001b[0mkey\u001b[0m\u001b[1;33m)\u001b[0m\u001b[1;33m\u001b[0m\u001b[1;33m\u001b[0m\u001b[0m\n\u001b[0m\u001b[0;32m   2903\u001b[0m             \u001b[1;32mif\u001b[0m \u001b[0mis_integer\u001b[0m\u001b[1;33m(\u001b[0m\u001b[0mindexer\u001b[0m\u001b[1;33m)\u001b[0m\u001b[1;33m:\u001b[0m\u001b[1;33m\u001b[0m\u001b[1;33m\u001b[0m\u001b[0m\n\u001b[0;32m   2904\u001b[0m                 \u001b[0mindexer\u001b[0m \u001b[1;33m=\u001b[0m \u001b[1;33m[\u001b[0m\u001b[0mindexer\u001b[0m\u001b[1;33m]\u001b[0m\u001b[1;33m\u001b[0m\u001b[1;33m\u001b[0m\u001b[0m\n",
      "\u001b[1;32m~\\anaconda3\\lib\\site-packages\\pandas\\core\\indexes\\base.py\u001b[0m in \u001b[0;36mget_loc\u001b[1;34m(self, key, method, tolerance)\u001b[0m\n\u001b[0;32m   2891\u001b[0m                 \u001b[1;32mreturn\u001b[0m \u001b[0mself\u001b[0m\u001b[1;33m.\u001b[0m\u001b[0m_engine\u001b[0m\u001b[1;33m.\u001b[0m\u001b[0mget_loc\u001b[0m\u001b[1;33m(\u001b[0m\u001b[0mcasted_key\u001b[0m\u001b[1;33m)\u001b[0m\u001b[1;33m\u001b[0m\u001b[1;33m\u001b[0m\u001b[0m\n\u001b[0;32m   2892\u001b[0m             \u001b[1;32mexcept\u001b[0m \u001b[0mKeyError\u001b[0m \u001b[1;32mas\u001b[0m \u001b[0merr\u001b[0m\u001b[1;33m:\u001b[0m\u001b[1;33m\u001b[0m\u001b[1;33m\u001b[0m\u001b[0m\n\u001b[1;32m-> 2893\u001b[1;33m                 \u001b[1;32mraise\u001b[0m \u001b[0mKeyError\u001b[0m\u001b[1;33m(\u001b[0m\u001b[0mkey\u001b[0m\u001b[1;33m)\u001b[0m \u001b[1;32mfrom\u001b[0m \u001b[0merr\u001b[0m\u001b[1;33m\u001b[0m\u001b[1;33m\u001b[0m\u001b[0m\n\u001b[0m\u001b[0;32m   2894\u001b[0m \u001b[1;33m\u001b[0m\u001b[0m\n\u001b[0;32m   2895\u001b[0m         \u001b[1;32mif\u001b[0m \u001b[0mtolerance\u001b[0m \u001b[1;32mis\u001b[0m \u001b[1;32mnot\u001b[0m \u001b[1;32mNone\u001b[0m\u001b[1;33m:\u001b[0m\u001b[1;33m\u001b[0m\u001b[1;33m\u001b[0m\u001b[0m\n",
      "\u001b[1;31mKeyError\u001b[0m: 'sample_entropy'"
     ]
    }
   ],
   "source": [
    "plt.hist(df_daily['sample_entropy'].tolist())"
   ]
  },
  {
   "cell_type": "code",
   "execution_count": null,
   "metadata": {},
   "outputs": [],
   "source": []
  },
  {
   "cell_type": "code",
   "execution_count": null,
   "metadata": {},
   "outputs": [],
   "source": []
  },
  {
   "cell_type": "code",
   "execution_count": 20,
   "metadata": {},
   "outputs": [
    {
     "name": "stderr",
     "output_type": "stream",
     "text": [
      "C:\\Users\\camil\\anaconda3\\lib\\site-packages\\ipykernel\\ipkernel.py:283: DeprecationWarning: `should_run_async` will not call `transform_cell` automatically in the future. Please pass the result to `transformed_cell` argument and any exception that happen during thetransform in `preprocessing_exc_tuple` in IPython 7.17 and above.\n",
      "  and should_run_async(code)\n"
     ]
    },
    {
     "data": {
      "text/plain": [
       "False    992\n",
       "True      98\n",
       "Name: similar_birds, dtype: int64"
      ]
     },
     "execution_count": 20,
     "metadata": {},
     "output_type": "execute_result"
    }
   ],
   "source": [
    "df_phenop['similar_birds'] = df_phenop.apply(lambda x: (x['var']<3000)&(x['avg']<180), axis=1)\n",
    "df_phenop['similar_birds'].value_counts()"
   ]
  },
  {
   "cell_type": "raw",
   "metadata": {},
   "source": [
    "We have 4 features per pair of birds\n",
    "variance of difference\n",
    "average difference\n",
    "nbr transition that day of hen1\n",
    "nbr transition that day of hen2\n",
    "\n",
    "\n",
    "TODO::: redo on the same day!!!!"
   ]
  },
  {
   "cell_type": "code",
   "execution_count": null,
   "metadata": {},
   "outputs": [],
   "source": []
  },
  {
   "cell_type": "code",
   "execution_count": 21,
   "metadata": {
    "scrolled": true
   },
   "outputs": [
    {
     "name": "stderr",
     "output_type": "stream",
     "text": [
      "C:\\Users\\camil\\anaconda3\\lib\\site-packages\\ipykernel\\ipkernel.py:283: DeprecationWarning: `should_run_async` will not call `transform_cell` automatically in the future. Please pass the result to `transformed_cell` argument and any exception that happen during thetransform in `preprocessing_exc_tuple` in IPython 7.17 and above.\n",
      "  and should_run_async(code)\n"
     ]
    },
    {
     "data": {
      "text/html": [
       "<div>\n",
       "<style scoped>\n",
       "    .dataframe tbody tr th:only-of-type {\n",
       "        vertical-align: middle;\n",
       "    }\n",
       "\n",
       "    .dataframe tbody tr th {\n",
       "        vertical-align: top;\n",
       "    }\n",
       "\n",
       "    .dataframe thead th {\n",
       "        text-align: right;\n",
       "    }\n",
       "</style>\n",
       "<table border=\"1\" class=\"dataframe\">\n",
       "  <thead>\n",
       "    <tr style=\"text-align: right;\">\n",
       "      <th></th>\n",
       "      <th>pair</th>\n",
       "      <th>is_same_ind</th>\n",
       "      <th>DTW_15_all</th>\n",
       "      <th>var</th>\n",
       "      <th>avg</th>\n",
       "      <th>nbr_obs</th>\n",
       "      <th>similar_birds</th>\n",
       "    </tr>\n",
       "  </thead>\n",
       "  <tbody>\n",
       "    <tr>\n",
       "      <th>13</th>\n",
       "      <td>hen_1-hen_5</td>\n",
       "      <td>False</td>\n",
       "      <td>[143.9, 169.60000000000002, 154.4, 123.9, 126....</td>\n",
       "      <td>2346.637495</td>\n",
       "      <td>175.502273</td>\n",
       "      <td>44</td>\n",
       "      <td>True</td>\n",
       "    </tr>\n",
       "    <tr>\n",
       "      <th>51</th>\n",
       "      <td>hen_102-hen_15</td>\n",
       "      <td>False</td>\n",
       "      <td>[127.4, 152.5, 93.8, 131.2, 87.30000000000001,...</td>\n",
       "      <td>943.507454</td>\n",
       "      <td>124.343182</td>\n",
       "      <td>44</td>\n",
       "      <td>True</td>\n",
       "    </tr>\n",
       "    <tr>\n",
       "      <th>52</th>\n",
       "      <td>hen_102-hen_2</td>\n",
       "      <td>False</td>\n",
       "      <td>[111.0, 95.4, 77.3, 113.4, 104.0, 74.2, 84.0, ...</td>\n",
       "      <td>1149.309711</td>\n",
       "      <td>130.672727</td>\n",
       "      <td>44</td>\n",
       "      <td>True</td>\n",
       "    </tr>\n",
       "    <tr>\n",
       "      <th>58</th>\n",
       "      <td>hen_102-hen_81</td>\n",
       "      <td>False</td>\n",
       "      <td>[129.1, 148.4, 74.0, 147.89999999999998, 105.2...</td>\n",
       "      <td>865.464442</td>\n",
       "      <td>120.368182</td>\n",
       "      <td>44</td>\n",
       "      <td>True</td>\n",
       "    </tr>\n",
       "    <tr>\n",
       "      <th>62</th>\n",
       "      <td>hen_102-hen_96</td>\n",
       "      <td>False</td>\n",
       "      <td>[191.3, 103.10000000000001, 204.09999999999997...</td>\n",
       "      <td>1342.030883</td>\n",
       "      <td>173.684091</td>\n",
       "      <td>44</td>\n",
       "      <td>True</td>\n",
       "    </tr>\n",
       "    <tr>\n",
       "      <th>63</th>\n",
       "      <td>hen_102-hen_97</td>\n",
       "      <td>False</td>\n",
       "      <td>[139.7, 253.39999999999998, 147.39999999999998...</td>\n",
       "      <td>2554.403280</td>\n",
       "      <td>177.761364</td>\n",
       "      <td>44</td>\n",
       "      <td>True</td>\n",
       "    </tr>\n",
       "    <tr>\n",
       "      <th>177</th>\n",
       "      <td>hen_110-hen_90</td>\n",
       "      <td>False</td>\n",
       "      <td>[103.5, 124.5, 211.4, 215.3, 200.7, 266.5, 194...</td>\n",
       "      <td>2769.736999</td>\n",
       "      <td>176.706818</td>\n",
       "      <td>44</td>\n",
       "      <td>True</td>\n",
       "    </tr>\n",
       "    <tr>\n",
       "      <th>219</th>\n",
       "      <td>hen_114-hen_116</td>\n",
       "      <td>False</td>\n",
       "      <td>[52.599999999999994, 90.70000000000002, 102.5,...</td>\n",
       "      <td>2165.625723</td>\n",
       "      <td>143.113636</td>\n",
       "      <td>44</td>\n",
       "      <td>True</td>\n",
       "    </tr>\n",
       "    <tr>\n",
       "      <th>221</th>\n",
       "      <td>hen_114-hen_19</td>\n",
       "      <td>False</td>\n",
       "      <td>[177.1, 257.2, 243.7, 230.6, 242.1000000000000...</td>\n",
       "      <td>1751.706343</td>\n",
       "      <td>178.195455</td>\n",
       "      <td>44</td>\n",
       "      <td>True</td>\n",
       "    </tr>\n",
       "    <tr>\n",
       "      <th>222</th>\n",
       "      <td>hen_114-hen_23</td>\n",
       "      <td>False</td>\n",
       "      <td>[215.3, 205.4, 167.3, 200.10000000000002, 182....</td>\n",
       "      <td>1005.697040</td>\n",
       "      <td>135.852273</td>\n",
       "      <td>44</td>\n",
       "      <td>True</td>\n",
       "    </tr>\n",
       "    <tr>\n",
       "      <th>226</th>\n",
       "      <td>hen_114-hen_5</td>\n",
       "      <td>False</td>\n",
       "      <td>[109.9, 67.3, 93.69999999999999, 106.1, 71.5, ...</td>\n",
       "      <td>2046.879313</td>\n",
       "      <td>132.252273</td>\n",
       "      <td>44</td>\n",
       "      <td>True</td>\n",
       "    </tr>\n",
       "    <tr>\n",
       "      <th>228</th>\n",
       "      <td>hen_114-hen_98</td>\n",
       "      <td>False</td>\n",
       "      <td>[116.5, 149.5, 173.2, 183.6, 189.9, 198.5, 146...</td>\n",
       "      <td>1924.898445</td>\n",
       "      <td>163.079545</td>\n",
       "      <td>44</td>\n",
       "      <td>True</td>\n",
       "    </tr>\n",
       "    <tr>\n",
       "      <th>232</th>\n",
       "      <td>hen_116-hen_23</td>\n",
       "      <td>False</td>\n",
       "      <td>[216.5, 200.5, 200.20000000000002, 200.8, 202....</td>\n",
       "      <td>1776.224148</td>\n",
       "      <td>166.525000</td>\n",
       "      <td>44</td>\n",
       "      <td>True</td>\n",
       "    </tr>\n",
       "    <tr>\n",
       "      <th>236</th>\n",
       "      <td>hen_116-hen_5</td>\n",
       "      <td>False</td>\n",
       "      <td>[97.1, 92.5, 58.5, 87.7, 105.69999999999999, 8...</td>\n",
       "      <td>2850.002996</td>\n",
       "      <td>156.713636</td>\n",
       "      <td>44</td>\n",
       "      <td>True</td>\n",
       "    </tr>\n",
       "    <tr>\n",
       "      <th>238</th>\n",
       "      <td>hen_116-hen_98</td>\n",
       "      <td>False</td>\n",
       "      <td>[94.69999999999999, 144.9, 149.5, 185.9, 178.8...</td>\n",
       "      <td>2532.892040</td>\n",
       "      <td>170.552273</td>\n",
       "      <td>44</td>\n",
       "      <td>True</td>\n",
       "    </tr>\n",
       "    <tr>\n",
       "      <th>336</th>\n",
       "      <td>hen_128-hen_142</td>\n",
       "      <td>False</td>\n",
       "      <td>[121.70000000000002, 110.6, 91.4, 251.0, 251.5...</td>\n",
       "      <td>2509.956792</td>\n",
       "      <td>171.784091</td>\n",
       "      <td>44</td>\n",
       "      <td>True</td>\n",
       "    </tr>\n",
       "    <tr>\n",
       "      <th>337</th>\n",
       "      <td>hen_128-hen_144</td>\n",
       "      <td>False</td>\n",
       "      <td>[235.8, 123.8, 193.9, 236.59999999999997, 205....</td>\n",
       "      <td>2269.510351</td>\n",
       "      <td>173.268182</td>\n",
       "      <td>44</td>\n",
       "      <td>True</td>\n",
       "    </tr>\n",
       "    <tr>\n",
       "      <th>338</th>\n",
       "      <td>hen_128-hen_150</td>\n",
       "      <td>False</td>\n",
       "      <td>[252.6, 217.29999999999998, 114.5, 222.0999999...</td>\n",
       "      <td>2903.537536</td>\n",
       "      <td>173.470455</td>\n",
       "      <td>44</td>\n",
       "      <td>True</td>\n",
       "    </tr>\n",
       "    <tr>\n",
       "      <th>348</th>\n",
       "      <td>hen_128-hen_79</td>\n",
       "      <td>False</td>\n",
       "      <td>[184.10000000000002, 205.0, 208.6, 167.3, 157....</td>\n",
       "      <td>1609.443347</td>\n",
       "      <td>177.072727</td>\n",
       "      <td>44</td>\n",
       "      <td>True</td>\n",
       "    </tr>\n",
       "    <tr>\n",
       "      <th>349</th>\n",
       "      <td>hen_128-hen_80</td>\n",
       "      <td>False</td>\n",
       "      <td>[218.2, 245.89999999999998, 243.2, 168.0999999...</td>\n",
       "      <td>2255.972541</td>\n",
       "      <td>158.686364</td>\n",
       "      <td>44</td>\n",
       "      <td>True</td>\n",
       "    </tr>\n",
       "    <tr>\n",
       "      <th>357</th>\n",
       "      <td>hen_13-hen_40</td>\n",
       "      <td>False</td>\n",
       "      <td>[211.8, 140.10000000000002, 92.4, 140.7, 116.7...</td>\n",
       "      <td>2534.751054</td>\n",
       "      <td>169.540909</td>\n",
       "      <td>44</td>\n",
       "      <td>True</td>\n",
       "    </tr>\n",
       "    <tr>\n",
       "      <th>418</th>\n",
       "      <td>hen_136-hen_51</td>\n",
       "      <td>False</td>\n",
       "      <td>[188.70000000000002, 190.8, 195.20000000000002...</td>\n",
       "      <td>914.004525</td>\n",
       "      <td>150.495455</td>\n",
       "      <td>44</td>\n",
       "      <td>True</td>\n",
       "    </tr>\n",
       "    <tr>\n",
       "      <th>419</th>\n",
       "      <td>hen_136-hen_56</td>\n",
       "      <td>False</td>\n",
       "      <td>[134.3, 141.3, 151.6, 189.4, 184.8, 231.4, 143...</td>\n",
       "      <td>791.194938</td>\n",
       "      <td>145.222727</td>\n",
       "      <td>44</td>\n",
       "      <td>True</td>\n",
       "    </tr>\n",
       "    <tr>\n",
       "      <th>459</th>\n",
       "      <td>hen_139-hen_49</td>\n",
       "      <td>False</td>\n",
       "      <td>[132.9, 124.3, 152.8, 134.9, 107.9, 142.5, 94....</td>\n",
       "      <td>848.120000</td>\n",
       "      <td>147.200000</td>\n",
       "      <td>44</td>\n",
       "      <td>True</td>\n",
       "    </tr>\n",
       "    <tr>\n",
       "      <th>473</th>\n",
       "      <td>hen_14-hen_84</td>\n",
       "      <td>False</td>\n",
       "      <td>[122.7, 259.9, 139.1, 151.1, 150.4, 106.1, 139...</td>\n",
       "      <td>2023.001281</td>\n",
       "      <td>169.809091</td>\n",
       "      <td>44</td>\n",
       "      <td>True</td>\n",
       "    </tr>\n",
       "    <tr>\n",
       "      <th>548</th>\n",
       "      <td>hen_146-hen_56</td>\n",
       "      <td>False</td>\n",
       "      <td>[112.8, 125.2, 129.1, 147.3, 96.3, 260.2, 215....</td>\n",
       "      <td>2778.169974</td>\n",
       "      <td>153.284091</td>\n",
       "      <td>44</td>\n",
       "      <td>True</td>\n",
       "    </tr>\n",
       "    <tr>\n",
       "      <th>568</th>\n",
       "      <td>hen_149-hen_159</td>\n",
       "      <td>False</td>\n",
       "      <td>[146.1, 153.3, 102.5, 113.6, 104.8, 268.099999...</td>\n",
       "      <td>2297.282454</td>\n",
       "      <td>179.856818</td>\n",
       "      <td>44</td>\n",
       "      <td>True</td>\n",
       "    </tr>\n",
       "    <tr>\n",
       "      <th>576</th>\n",
       "      <td>hen_149-hen_71</td>\n",
       "      <td>False</td>\n",
       "      <td>[123.1, 220.10000000000002, 114.4, 116.3999999...</td>\n",
       "      <td>1815.670227</td>\n",
       "      <td>165.950000</td>\n",
       "      <td>44</td>\n",
       "      <td>True</td>\n",
       "    </tr>\n",
       "    <tr>\n",
       "      <th>579</th>\n",
       "      <td>hen_15-hen_2</td>\n",
       "      <td>False</td>\n",
       "      <td>[87.69999999999999, 116.6, 63.9, 86.3, 101.1, ...</td>\n",
       "      <td>1193.471942</td>\n",
       "      <td>128.281818</td>\n",
       "      <td>44</td>\n",
       "      <td>True</td>\n",
       "    </tr>\n",
       "    <tr>\n",
       "      <th>585</th>\n",
       "      <td>hen_15-hen_81</td>\n",
       "      <td>False</td>\n",
       "      <td>[116.39999999999999, 118.5, 96.5, 95.0, 141.2,...</td>\n",
       "      <td>374.335635</td>\n",
       "      <td>118.206818</td>\n",
       "      <td>44</td>\n",
       "      <td>True</td>\n",
       "    </tr>\n",
       "    <tr>\n",
       "      <th>589</th>\n",
       "      <td>hen_15-hen_96</td>\n",
       "      <td>False</td>\n",
       "      <td>[136.4, 180.9, 198.5, 160.0, 195.3, 192.7, 177...</td>\n",
       "      <td>660.348760</td>\n",
       "      <td>174.481818</td>\n",
       "      <td>44</td>\n",
       "      <td>True</td>\n",
       "    </tr>\n",
       "    <tr>\n",
       "      <th>590</th>\n",
       "      <td>hen_15-hen_97</td>\n",
       "      <td>False</td>\n",
       "      <td>[216.9, 116.8, 143.7, 234.5, 201.2, 233.4, 220...</td>\n",
       "      <td>1965.032541</td>\n",
       "      <td>167.286364</td>\n",
       "      <td>44</td>\n",
       "      <td>True</td>\n",
       "    </tr>\n",
       "    <tr>\n",
       "      <th>602</th>\n",
       "      <td>hen_150-hen_80</td>\n",
       "      <td>False</td>\n",
       "      <td>[270.6, 229.5, 263.9, 139.0, 175.1000000000000...</td>\n",
       "      <td>2753.095677</td>\n",
       "      <td>178.352273</td>\n",
       "      <td>44</td>\n",
       "      <td>True</td>\n",
       "    </tr>\n",
       "    <tr>\n",
       "      <th>637</th>\n",
       "      <td>hen_155-hen_159</td>\n",
       "      <td>False</td>\n",
       "      <td>[196.5, 160.3, 200.5, 218.3, 189.5, 191.7, 191...</td>\n",
       "      <td>770.071131</td>\n",
       "      <td>174.302273</td>\n",
       "      <td>44</td>\n",
       "      <td>True</td>\n",
       "    </tr>\n",
       "    <tr>\n",
       "      <th>646</th>\n",
       "      <td>hen_155-hen_76</td>\n",
       "      <td>False</td>\n",
       "      <td>[182.39999999999998, 220.7, 166.10000000000002...</td>\n",
       "      <td>748.870635</td>\n",
       "      <td>166.956818</td>\n",
       "      <td>44</td>\n",
       "      <td>True</td>\n",
       "    </tr>\n",
       "    <tr>\n",
       "      <th>658</th>\n",
       "      <td>hen_159-hen_42</td>\n",
       "      <td>False</td>\n",
       "      <td>[165.6, 171.2, 146.89999999999998, 160.5, 162....</td>\n",
       "      <td>1031.585661</td>\n",
       "      <td>176.845455</td>\n",
       "      <td>44</td>\n",
       "      <td>True</td>\n",
       "    </tr>\n",
       "    <tr>\n",
       "      <th>664</th>\n",
       "      <td>hen_159-hen_71</td>\n",
       "      <td>False</td>\n",
       "      <td>[174.5, 232.1, 150.2, 140.0, 145.4, 151.100000...</td>\n",
       "      <td>757.418900</td>\n",
       "      <td>179.420455</td>\n",
       "      <td>44</td>\n",
       "      <td>True</td>\n",
       "    </tr>\n",
       "    <tr>\n",
       "      <th>665</th>\n",
       "      <td>hen_159-hen_76</td>\n",
       "      <td>False</td>\n",
       "      <td>[159.8, 159.20000000000002, 154.60000000000002...</td>\n",
       "      <td>335.274313</td>\n",
       "      <td>169.497727</td>\n",
       "      <td>44</td>\n",
       "      <td>True</td>\n",
       "    </tr>\n",
       "    <tr>\n",
       "      <th>686</th>\n",
       "      <td>hen_19-hen_23</td>\n",
       "      <td>False</td>\n",
       "      <td>[281.9, 136.0, 266.90000000000003, 213.0, 210....</td>\n",
       "      <td>1870.806632</td>\n",
       "      <td>160.713636</td>\n",
       "      <td>44</td>\n",
       "      <td>True</td>\n",
       "    </tr>\n",
       "    <tr>\n",
       "      <th>699</th>\n",
       "      <td>hen_2-hen_81</td>\n",
       "      <td>False</td>\n",
       "      <td>[78.5, 82.6, 82.4, 98.4, 77.3, 94.0, 84.600000...</td>\n",
       "      <td>1074.030718</td>\n",
       "      <td>131.279545</td>\n",
       "      <td>44</td>\n",
       "      <td>True</td>\n",
       "    </tr>\n",
       "    <tr>\n",
       "      <th>703</th>\n",
       "      <td>hen_2-hen_96</td>\n",
       "      <td>False</td>\n",
       "      <td>[103.3, 192.39999999999998, 196.8, 166.4, 161....</td>\n",
       "      <td>634.445909</td>\n",
       "      <td>161.800000</td>\n",
       "      <td>44</td>\n",
       "      <td>True</td>\n",
       "    </tr>\n",
       "    <tr>\n",
       "      <th>704</th>\n",
       "      <td>hen_2-hen_97</td>\n",
       "      <td>False</td>\n",
       "      <td>[203.7, 110.60000000000001, 206.1, 77.5, 174.9...</td>\n",
       "      <td>1968.848817</td>\n",
       "      <td>178.706818</td>\n",
       "      <td>44</td>\n",
       "      <td>True</td>\n",
       "    </tr>\n",
       "    <tr>\n",
       "      <th>739</th>\n",
       "      <td>hen_23-hen_5</td>\n",
       "      <td>False</td>\n",
       "      <td>[195.60000000000002, 170.7, 168.2, 177.1, 190....</td>\n",
       "      <td>1451.077784</td>\n",
       "      <td>144.625000</td>\n",
       "      <td>44</td>\n",
       "      <td>True</td>\n",
       "    </tr>\n",
       "    <tr>\n",
       "      <th>741</th>\n",
       "      <td>hen_23-hen_98</td>\n",
       "      <td>False</td>\n",
       "      <td>[169.9, 188.8, 131.6, 113.69999999999999, 143....</td>\n",
       "      <td>2048.859768</td>\n",
       "      <td>142.947727</td>\n",
       "      <td>44</td>\n",
       "      <td>True</td>\n",
       "    </tr>\n",
       "    <tr>\n",
       "      <th>765</th>\n",
       "      <td>hen_26-hen_89</td>\n",
       "      <td>False</td>\n",
       "      <td>[93.5, 144.59999999999997, 85.6, 155.299999999...</td>\n",
       "      <td>1048.880898</td>\n",
       "      <td>151.068750</td>\n",
       "      <td>32</td>\n",
       "      <td>True</td>\n",
       "    </tr>\n",
       "    <tr>\n",
       "      <th>792</th>\n",
       "      <td>hen_34-hen_82</td>\n",
       "      <td>False</td>\n",
       "      <td>[134.9, 108.2, 120.9, 167.8, 127.6999999999999...</td>\n",
       "      <td>1612.924756</td>\n",
       "      <td>171.065625</td>\n",
       "      <td>32</td>\n",
       "      <td>True</td>\n",
       "    </tr>\n",
       "    <tr>\n",
       "      <th>795</th>\n",
       "      <td>hen_34-hen_88</td>\n",
       "      <td>False</td>\n",
       "      <td>[166.6, 114.3, 173.0, 154.79999999999998, 123....</td>\n",
       "      <td>1922.378750</td>\n",
       "      <td>158.450000</td>\n",
       "      <td>32</td>\n",
       "      <td>True</td>\n",
       "    </tr>\n",
       "    <tr>\n",
       "      <th>837</th>\n",
       "      <td>hen_42-hen_76</td>\n",
       "      <td>False</td>\n",
       "      <td>[134.2, 143.5, 155.0, 167.59999999999997, 163....</td>\n",
       "      <td>1039.377908</td>\n",
       "      <td>173.606818</td>\n",
       "      <td>44</td>\n",
       "      <td>True</td>\n",
       "    </tr>\n",
       "    <tr>\n",
       "      <th>849</th>\n",
       "      <td>hen_44-hen_51</td>\n",
       "      <td>False</td>\n",
       "      <td>[137.9, 209.3, 178.9, 114.5, 259.4, 179.5, 292...</td>\n",
       "      <td>2191.989463</td>\n",
       "      <td>179.909091</td>\n",
       "      <td>44</td>\n",
       "      <td>True</td>\n",
       "    </tr>\n",
       "    <tr>\n",
       "      <th>884</th>\n",
       "      <td>hen_49-hen_57</td>\n",
       "      <td>False</td>\n",
       "      <td>[150.8, 153.7, 174.0, 153.8, 108.6, 230.200000...</td>\n",
       "      <td>1309.505000</td>\n",
       "      <td>172.600000</td>\n",
       "      <td>44</td>\n",
       "      <td>True</td>\n",
       "    </tr>\n",
       "    <tr>\n",
       "      <th>893</th>\n",
       "      <td>hen_5-hen_98</td>\n",
       "      <td>False</td>\n",
       "      <td>[168.6, 122.6, 178.2, 206.4, 192.4, 191.0, 209...</td>\n",
       "      <td>2660.637371</td>\n",
       "      <td>165.788636</td>\n",
       "      <td>44</td>\n",
       "      <td>True</td>\n",
       "    </tr>\n",
       "    <tr>\n",
       "      <th>903</th>\n",
       "      <td>hen_51-hen_56</td>\n",
       "      <td>False</td>\n",
       "      <td>[185.0, 156.8, 183.1, 190.2, 210.7, 186.599999...</td>\n",
       "      <td>1756.235553</td>\n",
       "      <td>147.461364</td>\n",
       "      <td>44</td>\n",
       "      <td>True</td>\n",
       "    </tr>\n",
       "    <tr>\n",
       "      <th>913</th>\n",
       "      <td>hen_53-hen_71</td>\n",
       "      <td>False</td>\n",
       "      <td>[138.3, 227.8, 113.10000000000001, 140.3, 132....</td>\n",
       "      <td>2236.067169</td>\n",
       "      <td>145.068182</td>\n",
       "      <td>44</td>\n",
       "      <td>True</td>\n",
       "    </tr>\n",
       "    <tr>\n",
       "      <th>1014</th>\n",
       "      <td>hen_71-hen_76</td>\n",
       "      <td>False</td>\n",
       "      <td>[128.1, 212.0, 135.60000000000002, 111.0, 104....</td>\n",
       "      <td>672.897495</td>\n",
       "      <td>158.052273</td>\n",
       "      <td>44</td>\n",
       "      <td>True</td>\n",
       "    </tr>\n",
       "    <tr>\n",
       "      <th>1034</th>\n",
       "      <td>hen_81-hen_96</td>\n",
       "      <td>False</td>\n",
       "      <td>[102.5, 177.7, 166.5, 193.39999999999998, 162....</td>\n",
       "      <td>847.769974</td>\n",
       "      <td>166.765909</td>\n",
       "      <td>44</td>\n",
       "      <td>True</td>\n",
       "    </tr>\n",
       "    <tr>\n",
       "      <th>1035</th>\n",
       "      <td>hen_81-hen_97</td>\n",
       "      <td>False</td>\n",
       "      <td>[237.0, 121.19999999999999, 133.2, 249.3999999...</td>\n",
       "      <td>2767.416090</td>\n",
       "      <td>154.406818</td>\n",
       "      <td>44</td>\n",
       "      <td>True</td>\n",
       "    </tr>\n",
       "    <tr>\n",
       "      <th>1039</th>\n",
       "      <td>hen_82-hen_88</td>\n",
       "      <td>False</td>\n",
       "      <td>[144.4, 153.3, 158.1, 91.0, 90.30000000000001,...</td>\n",
       "      <td>1814.253896</td>\n",
       "      <td>170.171875</td>\n",
       "      <td>32</td>\n",
       "      <td>True</td>\n",
       "    </tr>\n",
       "  </tbody>\n",
       "</table>\n",
       "</div>"
      ],
      "text/plain": [
       "                 pair  is_same_ind  \\\n",
       "13        hen_1-hen_5        False   \n",
       "51     hen_102-hen_15        False   \n",
       "52      hen_102-hen_2        False   \n",
       "58     hen_102-hen_81        False   \n",
       "62     hen_102-hen_96        False   \n",
       "63     hen_102-hen_97        False   \n",
       "177    hen_110-hen_90        False   \n",
       "219   hen_114-hen_116        False   \n",
       "221    hen_114-hen_19        False   \n",
       "222    hen_114-hen_23        False   \n",
       "226     hen_114-hen_5        False   \n",
       "228    hen_114-hen_98        False   \n",
       "232    hen_116-hen_23        False   \n",
       "236     hen_116-hen_5        False   \n",
       "238    hen_116-hen_98        False   \n",
       "336   hen_128-hen_142        False   \n",
       "337   hen_128-hen_144        False   \n",
       "338   hen_128-hen_150        False   \n",
       "348    hen_128-hen_79        False   \n",
       "349    hen_128-hen_80        False   \n",
       "357     hen_13-hen_40        False   \n",
       "418    hen_136-hen_51        False   \n",
       "419    hen_136-hen_56        False   \n",
       "459    hen_139-hen_49        False   \n",
       "473     hen_14-hen_84        False   \n",
       "548    hen_146-hen_56        False   \n",
       "568   hen_149-hen_159        False   \n",
       "576    hen_149-hen_71        False   \n",
       "579      hen_15-hen_2        False   \n",
       "585     hen_15-hen_81        False   \n",
       "589     hen_15-hen_96        False   \n",
       "590     hen_15-hen_97        False   \n",
       "602    hen_150-hen_80        False   \n",
       "637   hen_155-hen_159        False   \n",
       "646    hen_155-hen_76        False   \n",
       "658    hen_159-hen_42        False   \n",
       "664    hen_159-hen_71        False   \n",
       "665    hen_159-hen_76        False   \n",
       "686     hen_19-hen_23        False   \n",
       "699      hen_2-hen_81        False   \n",
       "703      hen_2-hen_96        False   \n",
       "704      hen_2-hen_97        False   \n",
       "739      hen_23-hen_5        False   \n",
       "741     hen_23-hen_98        False   \n",
       "765     hen_26-hen_89        False   \n",
       "792     hen_34-hen_82        False   \n",
       "795     hen_34-hen_88        False   \n",
       "837     hen_42-hen_76        False   \n",
       "849     hen_44-hen_51        False   \n",
       "884     hen_49-hen_57        False   \n",
       "893      hen_5-hen_98        False   \n",
       "903     hen_51-hen_56        False   \n",
       "913     hen_53-hen_71        False   \n",
       "1014    hen_71-hen_76        False   \n",
       "1034    hen_81-hen_96        False   \n",
       "1035    hen_81-hen_97        False   \n",
       "1039    hen_82-hen_88        False   \n",
       "\n",
       "                                             DTW_15_all          var  \\\n",
       "13    [143.9, 169.60000000000002, 154.4, 123.9, 126....  2346.637495   \n",
       "51    [127.4, 152.5, 93.8, 131.2, 87.30000000000001,...   943.507454   \n",
       "52    [111.0, 95.4, 77.3, 113.4, 104.0, 74.2, 84.0, ...  1149.309711   \n",
       "58    [129.1, 148.4, 74.0, 147.89999999999998, 105.2...   865.464442   \n",
       "62    [191.3, 103.10000000000001, 204.09999999999997...  1342.030883   \n",
       "63    [139.7, 253.39999999999998, 147.39999999999998...  2554.403280   \n",
       "177   [103.5, 124.5, 211.4, 215.3, 200.7, 266.5, 194...  2769.736999   \n",
       "219   [52.599999999999994, 90.70000000000002, 102.5,...  2165.625723   \n",
       "221   [177.1, 257.2, 243.7, 230.6, 242.1000000000000...  1751.706343   \n",
       "222   [215.3, 205.4, 167.3, 200.10000000000002, 182....  1005.697040   \n",
       "226   [109.9, 67.3, 93.69999999999999, 106.1, 71.5, ...  2046.879313   \n",
       "228   [116.5, 149.5, 173.2, 183.6, 189.9, 198.5, 146...  1924.898445   \n",
       "232   [216.5, 200.5, 200.20000000000002, 200.8, 202....  1776.224148   \n",
       "236   [97.1, 92.5, 58.5, 87.7, 105.69999999999999, 8...  2850.002996   \n",
       "238   [94.69999999999999, 144.9, 149.5, 185.9, 178.8...  2532.892040   \n",
       "336   [121.70000000000002, 110.6, 91.4, 251.0, 251.5...  2509.956792   \n",
       "337   [235.8, 123.8, 193.9, 236.59999999999997, 205....  2269.510351   \n",
       "338   [252.6, 217.29999999999998, 114.5, 222.0999999...  2903.537536   \n",
       "348   [184.10000000000002, 205.0, 208.6, 167.3, 157....  1609.443347   \n",
       "349   [218.2, 245.89999999999998, 243.2, 168.0999999...  2255.972541   \n",
       "357   [211.8, 140.10000000000002, 92.4, 140.7, 116.7...  2534.751054   \n",
       "418   [188.70000000000002, 190.8, 195.20000000000002...   914.004525   \n",
       "419   [134.3, 141.3, 151.6, 189.4, 184.8, 231.4, 143...   791.194938   \n",
       "459   [132.9, 124.3, 152.8, 134.9, 107.9, 142.5, 94....   848.120000   \n",
       "473   [122.7, 259.9, 139.1, 151.1, 150.4, 106.1, 139...  2023.001281   \n",
       "548   [112.8, 125.2, 129.1, 147.3, 96.3, 260.2, 215....  2778.169974   \n",
       "568   [146.1, 153.3, 102.5, 113.6, 104.8, 268.099999...  2297.282454   \n",
       "576   [123.1, 220.10000000000002, 114.4, 116.3999999...  1815.670227   \n",
       "579   [87.69999999999999, 116.6, 63.9, 86.3, 101.1, ...  1193.471942   \n",
       "585   [116.39999999999999, 118.5, 96.5, 95.0, 141.2,...   374.335635   \n",
       "589   [136.4, 180.9, 198.5, 160.0, 195.3, 192.7, 177...   660.348760   \n",
       "590   [216.9, 116.8, 143.7, 234.5, 201.2, 233.4, 220...  1965.032541   \n",
       "602   [270.6, 229.5, 263.9, 139.0, 175.1000000000000...  2753.095677   \n",
       "637   [196.5, 160.3, 200.5, 218.3, 189.5, 191.7, 191...   770.071131   \n",
       "646   [182.39999999999998, 220.7, 166.10000000000002...   748.870635   \n",
       "658   [165.6, 171.2, 146.89999999999998, 160.5, 162....  1031.585661   \n",
       "664   [174.5, 232.1, 150.2, 140.0, 145.4, 151.100000...   757.418900   \n",
       "665   [159.8, 159.20000000000002, 154.60000000000002...   335.274313   \n",
       "686   [281.9, 136.0, 266.90000000000003, 213.0, 210....  1870.806632   \n",
       "699   [78.5, 82.6, 82.4, 98.4, 77.3, 94.0, 84.600000...  1074.030718   \n",
       "703   [103.3, 192.39999999999998, 196.8, 166.4, 161....   634.445909   \n",
       "704   [203.7, 110.60000000000001, 206.1, 77.5, 174.9...  1968.848817   \n",
       "739   [195.60000000000002, 170.7, 168.2, 177.1, 190....  1451.077784   \n",
       "741   [169.9, 188.8, 131.6, 113.69999999999999, 143....  2048.859768   \n",
       "765   [93.5, 144.59999999999997, 85.6, 155.299999999...  1048.880898   \n",
       "792   [134.9, 108.2, 120.9, 167.8, 127.6999999999999...  1612.924756   \n",
       "795   [166.6, 114.3, 173.0, 154.79999999999998, 123....  1922.378750   \n",
       "837   [134.2, 143.5, 155.0, 167.59999999999997, 163....  1039.377908   \n",
       "849   [137.9, 209.3, 178.9, 114.5, 259.4, 179.5, 292...  2191.989463   \n",
       "884   [150.8, 153.7, 174.0, 153.8, 108.6, 230.200000...  1309.505000   \n",
       "893   [168.6, 122.6, 178.2, 206.4, 192.4, 191.0, 209...  2660.637371   \n",
       "903   [185.0, 156.8, 183.1, 190.2, 210.7, 186.599999...  1756.235553   \n",
       "913   [138.3, 227.8, 113.10000000000001, 140.3, 132....  2236.067169   \n",
       "1014  [128.1, 212.0, 135.60000000000002, 111.0, 104....   672.897495   \n",
       "1034  [102.5, 177.7, 166.5, 193.39999999999998, 162....   847.769974   \n",
       "1035  [237.0, 121.19999999999999, 133.2, 249.3999999...  2767.416090   \n",
       "1039  [144.4, 153.3, 158.1, 91.0, 90.30000000000001,...  1814.253896   \n",
       "\n",
       "             avg  nbr_obs  similar_birds  \n",
       "13    175.502273       44           True  \n",
       "51    124.343182       44           True  \n",
       "52    130.672727       44           True  \n",
       "58    120.368182       44           True  \n",
       "62    173.684091       44           True  \n",
       "63    177.761364       44           True  \n",
       "177   176.706818       44           True  \n",
       "219   143.113636       44           True  \n",
       "221   178.195455       44           True  \n",
       "222   135.852273       44           True  \n",
       "226   132.252273       44           True  \n",
       "228   163.079545       44           True  \n",
       "232   166.525000       44           True  \n",
       "236   156.713636       44           True  \n",
       "238   170.552273       44           True  \n",
       "336   171.784091       44           True  \n",
       "337   173.268182       44           True  \n",
       "338   173.470455       44           True  \n",
       "348   177.072727       44           True  \n",
       "349   158.686364       44           True  \n",
       "357   169.540909       44           True  \n",
       "418   150.495455       44           True  \n",
       "419   145.222727       44           True  \n",
       "459   147.200000       44           True  \n",
       "473   169.809091       44           True  \n",
       "548   153.284091       44           True  \n",
       "568   179.856818       44           True  \n",
       "576   165.950000       44           True  \n",
       "579   128.281818       44           True  \n",
       "585   118.206818       44           True  \n",
       "589   174.481818       44           True  \n",
       "590   167.286364       44           True  \n",
       "602   178.352273       44           True  \n",
       "637   174.302273       44           True  \n",
       "646   166.956818       44           True  \n",
       "658   176.845455       44           True  \n",
       "664   179.420455       44           True  \n",
       "665   169.497727       44           True  \n",
       "686   160.713636       44           True  \n",
       "699   131.279545       44           True  \n",
       "703   161.800000       44           True  \n",
       "704   178.706818       44           True  \n",
       "739   144.625000       44           True  \n",
       "741   142.947727       44           True  \n",
       "765   151.068750       32           True  \n",
       "792   171.065625       32           True  \n",
       "795   158.450000       32           True  \n",
       "837   173.606818       44           True  \n",
       "849   179.909091       44           True  \n",
       "884   172.600000       44           True  \n",
       "893   165.788636       44           True  \n",
       "903   147.461364       44           True  \n",
       "913   145.068182       44           True  \n",
       "1014  158.052273       44           True  \n",
       "1034  166.765909       44           True  \n",
       "1035  154.406818       44           True  \n",
       "1039  170.171875       32           True  "
      ]
     },
     "execution_count": 21,
     "metadata": {},
     "output_type": "execute_result"
    }
   ],
   "source": [
    "#keeping the intra difference allows to verify fo rthe technique as well :)\n",
    "df_phenop[(df_phenop['similar_birds'])&(~df_phenop['is_same_ind'])].head(80)"
   ]
  },
  {
   "cell_type": "markdown",
   "metadata": {},
   "source": [
    "# Basic hen ts visual"
   ]
  },
  {
   "cell_type": "code",
   "execution_count": 25,
   "metadata": {},
   "outputs": [
    {
     "name": "stdout",
     "output_type": "stream",
     "text": [
      "45\n"
     ]
    },
    {
     "name": "stderr",
     "output_type": "stream",
     "text": [
      "C:\\Users\\camil\\anaconda3\\lib\\site-packages\\ipykernel\\ipkernel.py:283: DeprecationWarning: `should_run_async` will not call `transform_cell` automatically in the future. Please pass the result to `transformed_cell` argument and any exception that happen during thetransform in `preprocessing_exc_tuple` in IPython 7.17 and above.\n",
      "  and should_run_async(code)\n"
     ]
    }
   ],
   "source": [
    "li_hens = list(set([i.split('-')[0] for i in df_phenop[(df_phenop['similar_birds'])&(~df_phenop['is_same_ind'])]['pair'].tolist()]+\\\n",
    "[i.split('-')[1] for i in df_phenop[(df_phenop['similar_birds'])&(~df_phenop['is_same_ind'])]['pair'].tolist()]))\n",
    "print(len(li_hens))"
   ]
  },
  {
   "cell_type": "code",
   "execution_count": 28,
   "metadata": {},
   "outputs": [
    {
     "name": "stdout",
     "output_type": "stream",
     "text": [
      "6c451a85-7c2a-11eb-a392-089798b63972\n"
     ]
    },
    {
     "name": "stderr",
     "output_type": "stream",
     "text": [
      "C:\\Users\\camil\\anaconda3\\lib\\site-packages\\ipykernel\\ipkernel.py:283: DeprecationWarning: `should_run_async` will not call `transform_cell` automatically in the future. Please pass the result to `transformed_cell` argument and any exception that happen during thetransform in `preprocessing_exc_tuple` in IPython 7.17 and above.\n",
      "  and should_run_async(code)\n"
     ]
    }
   ],
   "source": [
    "rv = str(uuid.uuid1())\n",
    "print(rv)\n",
    "dico_ = {h:rv for h in li_hens}"
   ]
  },
  {
   "cell_type": "code",
   "execution_count": 27,
   "metadata": {},
   "outputs": [
    {
     "name": "stderr",
     "output_type": "stream",
     "text": [
      "C:\\Users\\camil\\anaconda3\\lib\\site-packages\\ipykernel\\ipkernel.py:283: DeprecationWarning: `should_run_async` will not call `transform_cell` automatically in the future. Please pass the result to `transformed_cell` argument and any exception that happen during thetransform in `preprocessing_exc_tuple` in IPython 7.17 and above.\n",
      "  and should_run_async(code)\n",
      "\r",
      "  0%|                                                                                          | 0/159 [00:00<?, ?it/s]"
     ]
    },
    {
     "name": "stdout",
     "output_type": "stream",
     "text": [
      "(215909, 16)\n"
     ]
    },
    {
     "name": "stderr",
     "output_type": "stream",
     "text": [
      "100%|██████████████████████████████████████████████████████████████████████████████| 159/159 [1:00:53<00:00, 22.98s/it]"
     ]
    },
    {
     "name": "stdout",
     "output_type": "stream",
     "text": [
      "Total running time: 60.90 mn\n"
     ]
    },
    {
     "name": "stderr",
     "output_type": "stream",
     "text": [
      "\n"
     ]
    }
   ],
   "source": [
    "#choose specific dates to plot, November is better as hens starts to move more and the algo have never seen it\n",
    "dmin = dt.datetime(2020,10,30)\n",
    "dmax = dt.datetime(2020,11,23)\n",
    "#define the cluster dic\n",
    "ts_visual(df_=df, dmin=dmin, dmax=dmax, dico_h_cl=dico_, path_=path_extracted_data_visual_adap_MVTCLUSTER_tsvisual)"
   ]
  },
  {
   "cell_type": "code",
   "execution_count": null,
   "metadata": {},
   "outputs": [],
   "source": []
  },
  {
   "cell_type": "code",
   "execution_count": null,
   "metadata": {},
   "outputs": [],
   "source": []
  },
  {
   "cell_type": "code",
   "execution_count": null,
   "metadata": {},
   "outputs": [],
   "source": []
  },
  {
   "cell_type": "raw",
   "metadata": {},
   "source": [
    "TODO\n",
    "1. group of non moving and group of moving hens: are they still more similar over time? WITH ANCOVA\n",
    "2. phenotype thing: Can we find groups of birds that stays more similar over time knowing their complexity?\n",
    "3. weight: TODO\n",
    "\n",
    "4.OTHRE PAPER!!!! crowd avoidence: density of birds when moving: I don't see other solution that doing a model to take into account the time etc: keep for later (1 obs. per mvt >Xmn). are certain group avoiding the crowd more?\n",
    "            % of focal birds in the new zone ~ clusterID + 1|HenID + 1|zone + 1|day_hour\n",
    "OR: indicator per hen: one model per hen and then choose random values and compute the outcome, average it to an indicator! \n",
    "(% of focal birds in the new zone ~ zone+ day_hour + temperature + day)\n",
    "(same logic as internal motivations / preference : idea: no control environemnt experiment: adapt with this method!)"
   ]
  },
  {
   "cell_type": "code",
   "execution_count": null,
   "metadata": {},
   "outputs": [],
   "source": []
  },
  {
   "cell_type": "code",
   "execution_count": null,
   "metadata": {},
   "outputs": [],
   "source": []
  },
  {
   "cell_type": "code",
   "execution_count": null,
   "metadata": {},
   "outputs": [],
   "source": []
  },
  {
   "cell_type": "code",
   "execution_count": null,
   "metadata": {},
   "outputs": [],
   "source": []
  },
  {
   "cell_type": "code",
   "execution_count": null,
   "metadata": {},
   "outputs": [],
   "source": []
  },
  {
   "cell_type": "code",
   "execution_count": null,
   "metadata": {},
   "outputs": [],
   "source": []
  },
  {
   "cell_type": "code",
   "execution_count": null,
   "metadata": {},
   "outputs": [],
   "source": []
  },
  {
   "cell_type": "code",
   "execution_count": null,
   "metadata": {},
   "outputs": [],
   "source": []
  },
  {
   "cell_type": "code",
   "execution_count": null,
   "metadata": {},
   "outputs": [],
   "source": []
  },
  {
   "cell_type": "code",
   "execution_count": null,
   "metadata": {},
   "outputs": [],
   "source": []
  },
  {
   "cell_type": "code",
   "execution_count": null,
   "metadata": {},
   "outputs": [],
   "source": []
  },
  {
   "cell_type": "code",
   "execution_count": null,
   "metadata": {},
   "outputs": [],
   "source": []
  }
 ],
 "metadata": {
  "kernelspec": {
   "display_name": "Python 3",
   "language": "python",
   "name": "python3"
  },
  "language_info": {
   "codemirror_mode": {
    "name": "ipython",
    "version": 3
   },
   "file_extension": ".py",
   "mimetype": "text/x-python",
   "name": "python",
   "nbconvert_exporter": "python",
   "pygments_lexer": "ipython3",
   "version": "3.8.5"
  }
 },
 "nbformat": 4,
 "nbformat_minor": 2
}
