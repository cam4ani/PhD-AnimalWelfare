{
 "cells": [
  {
   "cell_type": "code",
   "execution_count": null,
   "metadata": {},
   "outputs": [],
   "source": [
    "#basic package\n",
    "import tqdm\n",
    "import os\n",
    "import numpy as np\n",
    "import glob\n",
    "import pandas as pd\n",
    "import sys\n",
    "import time\n",
    "import datetime as dt\n",
    "import itertools\n",
    "import re\n",
    "import math\n",
    "from collections import Counter\n",
    "import operator\n",
    "from scipy import stats\n",
    "from scipy.spatial.distance import cdist #for euclidean distance of consistency t\n",
    "from numpy import inf\n",
    "import networkx as nx\n",
    "from dtaidistance import dtw\n",
    "import random\n",
    "from sklearn.preprocessing import normalize\n",
    "import pickle\n",
    "\n",
    "#clustering\n",
    "from sklearn.cluster import AgglomerativeClustering \n",
    "\n",
    "#scaling\n",
    "from sklearn.preprocessing import StandardScaler, MinMaxScaler\n",
    "\n",
    "#interpolate curves for clustering among birds with not exact same days tracked\n",
    "#from scipy.interpolate import interp1d\n",
    "\n",
    "#PCA\n",
    "from sklearn import decomposition\n",
    "\n",
    "#clustering\n",
    "from sklearn.cluster import KMeans #only numerical var\n",
    "from sklearn.metrics import silhouette_samples, silhouette_score, adjusted_rand_score\n",
    "import kmodes\n",
    "from kmodes.kmodes import KModes #with categorical var as well\n",
    "\n",
    "#plot\n",
    "import matplotlib.pyplot as plt\n",
    "import seaborn as sns\n",
    "import dexplot as dxp #for easy barplot"
   ]
  },
  {
   "cell_type": "code",
   "execution_count": 2,
   "metadata": {},
   "outputs": [
    {
     "name": "stderr",
     "output_type": "stream",
     "text": [
      "C:\\Users\\camil\\anaconda3\\lib\\site-packages\\scipy\\sparse\\sparsetools.py:21: DeprecationWarning: `scipy.sparse.sparsetools` is deprecated!\n",
      "scipy.sparse.sparsetools is a private module for scipy.sparse, and should not be used.\n",
      "  _deprecated()\n"
     ]
    }
   ],
   "source": [
    "PACKAGE_PARENT = '../'\n",
    "SCRIPT_DIR = os.path.dirname(os.path.realpath(os.path.join(os.getcwd(), os.path.expanduser('__file__'))))\n",
    "sys.path.append(os.path.normpath(os.path.join(SCRIPT_DIR, PACKAGE_PARENT)))\n",
    "from UTILS import kmeans_clustering, sampen, chi2_distance, ts_visual, correct_key\n",
    "import config_origins as config"
   ]
  },
  {
   "cell_type": "code",
   "execution_count": 3,
   "metadata": {},
   "outputs": [
    {
     "name": "stderr",
     "output_type": "stream",
     "text": [
      "C:\\Users\\camil\\anaconda3\\lib\\site-packages\\ipykernel\\ipkernel.py:283: DeprecationWarning: `should_run_async` will not call `transform_cell` automatically in the future. Please pass the result to `transformed_cell` argument and any exception that happen during thetransform in `preprocessing_exc_tuple` in IPython 7.17 and above.\n",
      "  and should_run_async(code)\n"
     ]
    }
   ],
   "source": [
    "rv = 0"
   ]
  },
  {
   "cell_type": "markdown",
   "metadata": {},
   "source": [
    "# Define parameters"
   ]
  },
  {
   "cell_type": "code",
   "execution_count": 4,
   "metadata": {
    "scrolled": true
   },
   "outputs": [
    {
     "name": "stdout",
     "output_type": "stream",
     "text": [
      "change the configuration file if not done yet!\n"
     ]
    },
    {
     "name": "stderr",
     "output_type": "stream",
     "text": [
      "C:\\Users\\camil\\anaconda3\\lib\\site-packages\\ipykernel\\ipkernel.py:283: DeprecationWarning: `should_run_async` will not call `transform_cell` automatically in the future. Please pass the result to `transformed_cell` argument and any exception that happen during thetransform in `preprocessing_exc_tuple` in IPython 7.17 and above.\n",
      "  and should_run_async(code)\n"
     ]
    }
   ],
   "source": [
    "print('change the configuration file if not done yet!')\n",
    "path_extracted_data = config.path_extracted_data\n",
    "path_initial_data = config.path_initial_data\n",
    "id_run = config.id_run\n",
    "dico_matching = config.dico_matching\n",
    "li_binmn = config.li_binmn\n",
    "pal_class_treat = config.pal_class_treat\n",
    "pal_treat = config.pal_treat\n",
    "pal_class = config.pal_class\n",
    "birth_date = config.birth_date\n",
    "dico_night_hour = config.dico_night_hour\n",
    "pal_interintre_treatment = config.pal_interintre_treatment\n",
    "max_date_adaptability = config.max_date_adaptability\n",
    "dico_pen_tr = config.dico_pen_tr\n",
    "path_extracted_data_visual = os.path.join(path_extracted_data,'visual')\n",
    "path_extracted_data_visual_corr = os.path.join(path_extracted_data,'visual','correlation')\n",
    "path_extracted_data_visual_adap = os.path.join(path_extracted_data,'visual','Treatment&Classs','adaptability')\n",
    "path_extracted_data_visual_adap_clustering = os.path.join(path_extracted_data_visual_adap,'clustering')\n",
    "for nbr_bin in li_binmn:\n",
    "    path_extracted_data_visual_adap_binmn = os.path.join(path_extracted_data,'visual','Treatment&Classs','adaptability',str(nbr_bin))\n",
    "    #create a director if not existing\n",
    "    if not os.path.exists(path_extracted_data_visual_adap_binmn):\n",
    "        os.makedirs(path_extracted_data_visual_adap_binmn)"
   ]
  },
  {
   "cell_type": "markdown",
   "metadata": {},
   "source": [
    "# Download variables"
   ]
  },
  {
   "cell_type": "code",
   "execution_count": 5,
   "metadata": {},
   "outputs": [
    {
     "name": "stdout",
     "output_type": "stream",
     "text": [
      "131\n",
      "possible animal pairs:  8515.0\n"
     ]
    },
    {
     "name": "stderr",
     "output_type": "stream",
     "text": [
      "C:\\Users\\camil\\anaconda3\\lib\\site-packages\\ipykernel\\ipkernel.py:283: DeprecationWarning: `should_run_async` will not call `transform_cell` automatically in the future. Please pass the result to `transformed_cell` argument and any exception that happen during thetransform in `preprocessing_exc_tuple` in IPython 7.17 and above.\n",
      "  and should_run_async(code)\n"
     ]
    }
   ],
   "source": [
    "li_selected_hens = pickle.load(open(os.path.join(path_extracted_data_visual_adap, 'li_selected_hens.pkl'), 'rb'))\n",
    "print(len(li_selected_hens))\n",
    "#for now we have only distance restricted to 70 animals\n",
    "#compute the CHI2DISTANCE & DTW for each bird with all other birds (because we need this exact same pair to do the visual)\n",
    "#rv = 0\n",
    "#random.seed(rv)\n",
    "#nbr_hens = 70\n",
    "#randomly pick more than one element from the list without repeating elements.\n",
    "#li_selected_hens = random.sample(li_selected_hens, nbr_hens)\n",
    "print('possible animal pairs: ',len(li_selected_hens)*(len(li_selected_hens)-1)/2)"
   ]
  },
  {
   "cell_type": "code",
   "execution_count": 6,
   "metadata": {
    "scrolled": false
   },
   "outputs": [
    {
     "name": "stderr",
     "output_type": "stream",
     "text": [
      "C:\\Users\\camil\\anaconda3\\lib\\site-packages\\ipykernel\\ipkernel.py:283: DeprecationWarning: `should_run_async` will not call `transform_cell` automatically in the future. Please pass the result to `transformed_cell` argument and any exception that happen during thetransform in `preprocessing_exc_tuple` in IPython 7.17 and above.\n",
      "  and should_run_async(code)\n"
     ]
    },
    {
     "data": {
      "text/html": [
       "<div>\n",
       "<style scoped>\n",
       "    .dataframe tbody tr th:only-of-type {\n",
       "        vertical-align: middle;\n",
       "    }\n",
       "\n",
       "    .dataframe tbody tr th {\n",
       "        vertical-align: top;\n",
       "    }\n",
       "\n",
       "    .dataframe thead th {\n",
       "        text-align: right;\n",
       "    }\n",
       "</style>\n",
       "<table border=\"1\" class=\"dataframe\">\n",
       "  <thead>\n",
       "    <tr style=\"text-align: right;\">\n",
       "      <th></th>\n",
       "      <th>index</th>\n",
       "      <th>level1</th>\n",
       "      <th>DOA</th>\n",
       "      <th>weeks_in_laying_barn</th>\n",
       "    </tr>\n",
       "  </thead>\n",
       "  <tbody>\n",
       "    <tr>\n",
       "      <th>0</th>\n",
       "      <td>0</td>\n",
       "      <td>2020-09-30</td>\n",
       "      <td>119</td>\n",
       "      <td>1</td>\n",
       "    </tr>\n",
       "    <tr>\n",
       "      <th>1</th>\n",
       "      <td>8515</td>\n",
       "      <td>2020-10-01</td>\n",
       "      <td>120</td>\n",
       "      <td>1</td>\n",
       "    </tr>\n",
       "    <tr>\n",
       "      <th>2</th>\n",
       "      <td>17030</td>\n",
       "      <td>2020-10-02</td>\n",
       "      <td>121</td>\n",
       "      <td>1</td>\n",
       "    </tr>\n",
       "  </tbody>\n",
       "</table>\n",
       "</div>"
      ],
      "text/plain": [
       "   index     level1  DOA  weeks_in_laying_barn\n",
       "0      0 2020-09-30  119                     1\n",
       "1   8515 2020-10-01  120                     1\n",
       "2  17030 2020-10-02  121                     1"
      ]
     },
     "metadata": {},
     "output_type": "display_data"
    },
    {
     "name": "stdout",
     "output_type": "stream",
     "text": [
      "(212264, 98)\n"
     ]
    },
    {
     "data": {
      "text/html": [
       "<div>\n",
       "<style scoped>\n",
       "    .dataframe tbody tr th:only-of-type {\n",
       "        vertical-align: middle;\n",
       "    }\n",
       "\n",
       "    .dataframe tbody tr th {\n",
       "        vertical-align: top;\n",
       "    }\n",
       "\n",
       "    .dataframe thead th {\n",
       "        text-align: right;\n",
       "    }\n",
       "</style>\n",
       "<table border=\"1\" class=\"dataframe\">\n",
       "  <thead>\n",
       "    <tr style=\"text-align: right;\">\n",
       "      <th></th>\n",
       "      <th>level1</th>\n",
       "      <th>level2</th>\n",
       "      <th>henID1</th>\n",
       "      <th>henID2</th>\n",
       "      <th>dur_values_normalized_henID1</th>\n",
       "      <th>dur_values_normalized_henID2</th>\n",
       "      <th>chi2distance</th>\n",
       "      <th>DOA</th>\n",
       "      <th>nbr_obs_chi2all_5</th>\n",
       "      <th>chi2distance_ALL_5</th>\n",
       "      <th>...</th>\n",
       "      <th>nbr_obs_l1_30_4_Zone</th>\n",
       "      <th>nbr_obs_l2_30_4_Zone</th>\n",
       "      <th>DTW_30_1_Zone</th>\n",
       "      <th>nbr_obs_l1_30_1_Zone</th>\n",
       "      <th>nbr_obs_l2_30_1_Zone</th>\n",
       "      <th>weeks_in_laying_barn</th>\n",
       "      <th>hen_pair</th>\n",
       "      <th>DTW_15_all</th>\n",
       "      <th>DIB</th>\n",
       "      <th>animal_pair</th>\n",
       "    </tr>\n",
       "  </thead>\n",
       "  <tbody>\n",
       "    <tr>\n",
       "      <th>0</th>\n",
       "      <td>2020-09-30</td>\n",
       "      <td>2020-09-30</td>\n",
       "      <td>hen_1</td>\n",
       "      <td>hen_10</td>\n",
       "      <td>[0.0, 0.6557638888888889, 0.12111111111111111,...</td>\n",
       "      <td>[0.0, 0.40243055555555557, 0.5327083333333333,...</td>\n",
       "      <td>0.233889</td>\n",
       "      <td>119</td>\n",
       "      <td>288</td>\n",
       "      <td>250.143992</td>\n",
       "      <td>...</td>\n",
       "      <td>48</td>\n",
       "      <td>48</td>\n",
       "      <td>0.0</td>\n",
       "      <td>48</td>\n",
       "      <td>48</td>\n",
       "      <td>1</td>\n",
       "      <td>hen_1-hen_10</td>\n",
       "      <td>315.1</td>\n",
       "      <td>1</td>\n",
       "      <td>hen_1-hen_10</td>\n",
       "    </tr>\n",
       "    <tr>\n",
       "      <th>1</th>\n",
       "      <td>2020-09-30</td>\n",
       "      <td>2020-09-30</td>\n",
       "      <td>hen_2</td>\n",
       "      <td>hen_47</td>\n",
       "      <td>[0.0, 0.3379861111111111, 0.23836805555555557,...</td>\n",
       "      <td>[0.0, 0.8774305555555556, 0.11180555555555556,...</td>\n",
       "      <td>0.341557</td>\n",
       "      <td>119</td>\n",
       "      <td>288</td>\n",
       "      <td>73.192771</td>\n",
       "      <td>...</td>\n",
       "      <td>48</td>\n",
       "      <td>48</td>\n",
       "      <td>0.0</td>\n",
       "      <td>48</td>\n",
       "      <td>48</td>\n",
       "      <td>1</td>\n",
       "      <td>hen_2-hen_47</td>\n",
       "      <td>166.6</td>\n",
       "      <td>1</td>\n",
       "      <td>hen_2-hen_47</td>\n",
       "    </tr>\n",
       "    <tr>\n",
       "      <th>2</th>\n",
       "      <td>2020-09-30</td>\n",
       "      <td>2020-09-30</td>\n",
       "      <td>hen_2</td>\n",
       "      <td>hen_46</td>\n",
       "      <td>[0.0, 0.3379861111111111, 0.23836805555555557,...</td>\n",
       "      <td>[0.0, 0.2679861111111111, 0.059409722222222225...</td>\n",
       "      <td>0.110694</td>\n",
       "      <td>119</td>\n",
       "      <td>288</td>\n",
       "      <td>243.112474</td>\n",
       "      <td>...</td>\n",
       "      <td>48</td>\n",
       "      <td>48</td>\n",
       "      <td>0.0</td>\n",
       "      <td>48</td>\n",
       "      <td>48</td>\n",
       "      <td>1</td>\n",
       "      <td>hen_2-hen_46</td>\n",
       "      <td>341.3</td>\n",
       "      <td>1</td>\n",
       "      <td>hen_2-hen_46</td>\n",
       "    </tr>\n",
       "  </tbody>\n",
       "</table>\n",
       "<p>3 rows × 98 columns</p>\n",
       "</div>"
      ],
      "text/plain": [
       "      level1     level2 henID1  henID2  \\\n",
       "0 2020-09-30 2020-09-30  hen_1  hen_10   \n",
       "1 2020-09-30 2020-09-30  hen_2  hen_47   \n",
       "2 2020-09-30 2020-09-30  hen_2  hen_46   \n",
       "\n",
       "                        dur_values_normalized_henID1  \\\n",
       "0  [0.0, 0.6557638888888889, 0.12111111111111111,...   \n",
       "1  [0.0, 0.3379861111111111, 0.23836805555555557,...   \n",
       "2  [0.0, 0.3379861111111111, 0.23836805555555557,...   \n",
       "\n",
       "                        dur_values_normalized_henID2  chi2distance  DOA  \\\n",
       "0  [0.0, 0.40243055555555557, 0.5327083333333333,...      0.233889  119   \n",
       "1  [0.0, 0.8774305555555556, 0.11180555555555556,...      0.341557  119   \n",
       "2  [0.0, 0.2679861111111111, 0.059409722222222225...      0.110694  119   \n",
       "\n",
       "   nbr_obs_chi2all_5  chi2distance_ALL_5  ...  nbr_obs_l1_30_4_Zone  \\\n",
       "0                288          250.143992  ...                    48   \n",
       "1                288           73.192771  ...                    48   \n",
       "2                288          243.112474  ...                    48   \n",
       "\n",
       "   nbr_obs_l2_30_4_Zone  DTW_30_1_Zone  nbr_obs_l1_30_1_Zone  \\\n",
       "0                    48            0.0                    48   \n",
       "1                    48            0.0                    48   \n",
       "2                    48            0.0                    48   \n",
       "\n",
       "   nbr_obs_l2_30_1_Zone  weeks_in_laying_barn      hen_pair  DTW_15_all  DIB  \\\n",
       "0                    48                     1  hen_1-hen_10       315.1    1   \n",
       "1                    48                     1  hen_2-hen_47       166.6    1   \n",
       "2                    48                     1  hen_2-hen_46       341.3    1   \n",
       "\n",
       "    animal_pair  \n",
       "0  hen_1-hen_10  \n",
       "1  hen_2-hen_47  \n",
       "2  hen_2-hen_46  \n",
       "\n",
       "[3 rows x 98 columns]"
      ]
     },
     "execution_count": 6,
     "metadata": {},
     "output_type": "execute_result"
    }
   ],
   "source": [
    "#distance measure (chi2, dtw)\n",
    "#old: correctlightschedule_0_df_interintra_SAMEDAY_ALL\n",
    "df_inter = pd.read_csv(os.path.join(path_extracted_data_visual_adap, id_run+'_df_DistanceBetweenHenSim.csv'), sep=';', \n",
    "                      parse_dates=['level1','level2'], dayfirst=True)\n",
    "#weeks of age starting on the first day where the bird was here during 24h\n",
    "df_inter['weeks_in_laying_barn'] = df_inter['DOA'].map(lambda x: int((x-119)/7)+1)\n",
    "df_inter['DIB'] = df_inter['DOA'].map(lambda x: x-118)\n",
    "display(df_inter[['level1','DOA','weeks_in_laying_barn']].drop_duplicates().reset_index().head(3))\n",
    "#remove weeks_in_laying_barn to avoid confusions\n",
    "df_inter.drop(['WOA'],inplace=True,axis=1)\n",
    "#select only inter \n",
    "df_inter['animal_pair']  = df_inter.apply(lambda x: '-'.join(sorted([x['henID1'],x['henID2']])), axis=1)\n",
    "print(df_inter.shape)\n",
    "df_inter.head(3)"
   ]
  },
  {
   "cell_type": "code",
   "execution_count": 7,
   "metadata": {},
   "outputs": [
    {
     "name": "stderr",
     "output_type": "stream",
     "text": [
      "C:\\Users\\camil\\anaconda3\\lib\\site-packages\\ipykernel\\ipkernel.py:283: DeprecationWarning: `should_run_async` will not call `transform_cell` automatically in the future. Please pass the result to `transformed_cell` argument and any exception that happen during thetransform in `preprocessing_exc_tuple` in IPython 7.17 and above.\n",
      "  and should_run_async(code)\n"
     ]
    },
    {
     "name": "stdout",
     "output_type": "stream",
     "text": [
      "(27214, 198)\n",
      "(8679, 198)\n"
     ]
    },
    {
     "data": {
      "text/html": [
       "<div>\n",
       "<style scoped>\n",
       "    .dataframe tbody tr th:only-of-type {\n",
       "        vertical-align: middle;\n",
       "    }\n",
       "\n",
       "    .dataframe tbody tr th {\n",
       "        vertical-align: top;\n",
       "    }\n",
       "\n",
       "    .dataframe thead th {\n",
       "        text-align: right;\n",
       "    }\n",
       "</style>\n",
       "<table border=\"1\" class=\"dataframe\">\n",
       "  <thead>\n",
       "    <tr style=\"text-align: right;\">\n",
       "      <th></th>\n",
       "      <th>level</th>\n",
       "      <th>DOA</th>\n",
       "      <th>WOA</th>\n",
       "    </tr>\n",
       "  </thead>\n",
       "  <tbody>\n",
       "    <tr>\n",
       "      <th>27117</th>\n",
       "      <td>2020-11-20</td>\n",
       "      <td>170</td>\n",
       "      <td>25</td>\n",
       "    </tr>\n",
       "    <tr>\n",
       "      <th>27118</th>\n",
       "      <td>2020-11-21</td>\n",
       "      <td>171</td>\n",
       "      <td>25</td>\n",
       "    </tr>\n",
       "    <tr>\n",
       "      <th>27119</th>\n",
       "      <td>2020-11-22</td>\n",
       "      <td>172</td>\n",
       "      <td>25</td>\n",
       "    </tr>\n",
       "  </tbody>\n",
       "</table>\n",
       "</div>"
      ],
      "text/plain": [
       "           level  DOA  WOA\n",
       "27117 2020-11-20  170   25\n",
       "27118 2020-11-21  171   25\n",
       "27119 2020-11-22  172   25"
      ]
     },
     "metadata": {},
     "output_type": "display_data"
    },
    {
     "name": "stdout",
     "output_type": "stream",
     "text": [
      "(8679, 198)\n",
      "(8679, 198)\n",
      "(8679, 198)\n",
      "(8679, 198)\n",
      "(7619, 15)\n"
     ]
    },
    {
     "data": {
      "text/html": [
       "<div>\n",
       "<style scoped>\n",
       "    .dataframe tbody tr th:only-of-type {\n",
       "        vertical-align: middle;\n",
       "    }\n",
       "\n",
       "    .dataframe tbody tr th {\n",
       "        vertical-align: top;\n",
       "    }\n",
       "\n",
       "    .dataframe thead th {\n",
       "        text-align: right;\n",
       "    }\n",
       "</style>\n",
       "<table border=\"1\" class=\"dataframe\">\n",
       "  <thead>\n",
       "    <tr style=\"text-align: right;\">\n",
       "      <th></th>\n",
       "      <th>HenID</th>\n",
       "      <th>PenID</th>\n",
       "      <th>level</th>\n",
       "      <th>Treatment</th>\n",
       "      <th>CLASS</th>\n",
       "      <th>DOA</th>\n",
       "      <th>WOA</th>\n",
       "      <th>dur_values</th>\n",
       "      <th>dur_values_normalized</th>\n",
       "      <th>perc_duration_1_Zone</th>\n",
       "      <th>perc_duration_2_Zone</th>\n",
       "      <th>perc_duration_3_Zone</th>\n",
       "      <th>perc_duration_4_Zone</th>\n",
       "      <th>perc_duration_5_Zone</th>\n",
       "      <th>Total_number_transition</th>\n",
       "    </tr>\n",
       "  </thead>\n",
       "  <tbody>\n",
       "    <tr>\n",
       "      <th>0</th>\n",
       "      <td>hen_1</td>\n",
       "      <td>9</td>\n",
       "      <td>2020-09-30</td>\n",
       "      <td>OFH</td>\n",
       "      <td>EPI</td>\n",
       "      <td>119</td>\n",
       "      <td>17</td>\n",
       "      <td>[0.0, 18886.0, 3488.0, 518.0, 5908.0]</td>\n",
       "      <td>[0.0, 0.6557638888888889, 0.12111111111111111,...</td>\n",
       "      <td>0.0</td>\n",
       "      <td>65.576389</td>\n",
       "      <td>12.111111</td>\n",
       "      <td>1.798611</td>\n",
       "      <td>20.513889</td>\n",
       "      <td>6.0</td>\n",
       "    </tr>\n",
       "    <tr>\n",
       "      <th>1</th>\n",
       "      <td>hen_1</td>\n",
       "      <td>9</td>\n",
       "      <td>2020-10-01</td>\n",
       "      <td>OFH</td>\n",
       "      <td>EPI</td>\n",
       "      <td>120</td>\n",
       "      <td>18</td>\n",
       "      <td>[0.0, 9310.0, 5636.0, 0.0, 17454.0]</td>\n",
       "      <td>[0.0, 0.2873456790123457, 0.17395061728395061,...</td>\n",
       "      <td>0.0</td>\n",
       "      <td>28.734568</td>\n",
       "      <td>17.395062</td>\n",
       "      <td>0.000000</td>\n",
       "      <td>53.870370</td>\n",
       "      <td>12.0</td>\n",
       "    </tr>\n",
       "    <tr>\n",
       "      <th>2</th>\n",
       "      <td>hen_1</td>\n",
       "      <td>9</td>\n",
       "      <td>2020-10-02</td>\n",
       "      <td>OFH</td>\n",
       "      <td>EPI</td>\n",
       "      <td>121</td>\n",
       "      <td>18</td>\n",
       "      <td>[0.0, 0.0, 551.0, 0.0, 31849.0]</td>\n",
       "      <td>[0.0, 0.0, 0.017006172839506173, 0.0, 0.982993...</td>\n",
       "      <td>0.0</td>\n",
       "      <td>0.000000</td>\n",
       "      <td>1.700617</td>\n",
       "      <td>0.000000</td>\n",
       "      <td>98.299383</td>\n",
       "      <td>2.0</td>\n",
       "    </tr>\n",
       "  </tbody>\n",
       "</table>\n",
       "</div>"
      ],
      "text/plain": [
       "   HenID  PenID      level Treatment CLASS  DOA  WOA  \\\n",
       "0  hen_1      9 2020-09-30       OFH   EPI  119   17   \n",
       "1  hen_1      9 2020-10-01       OFH   EPI  120   18   \n",
       "2  hen_1      9 2020-10-02       OFH   EPI  121   18   \n",
       "\n",
       "                              dur_values  \\\n",
       "0  [0.0, 18886.0, 3488.0, 518.0, 5908.0]   \n",
       "1    [0.0, 9310.0, 5636.0, 0.0, 17454.0]   \n",
       "2        [0.0, 0.0, 551.0, 0.0, 31849.0]   \n",
       "\n",
       "                               dur_values_normalized  perc_duration_1_Zone  \\\n",
       "0  [0.0, 0.6557638888888889, 0.12111111111111111,...                   0.0   \n",
       "1  [0.0, 0.2873456790123457, 0.17395061728395061,...                   0.0   \n",
       "2  [0.0, 0.0, 0.017006172839506173, 0.0, 0.982993...                   0.0   \n",
       "\n",
       "   perc_duration_2_Zone  perc_duration_3_Zone  perc_duration_4_Zone  \\\n",
       "0             65.576389             12.111111              1.798611   \n",
       "1             28.734568             17.395062              0.000000   \n",
       "2              0.000000              1.700617              0.000000   \n",
       "\n",
       "   perc_duration_5_Zone  Total_number_transition  \n",
       "0             20.513889                      6.0  \n",
       "1             53.870370                     12.0  \n",
       "2             98.299383                      2.0  "
      ]
     },
     "execution_count": 7,
     "metadata": {},
     "output_type": "execute_result"
    }
   ],
   "source": [
    "#daily variables of the movements (one row per available hen per day)\n",
    "df_daily = pd.read_csv(os.path.join(path_extracted_data, 'daily_ALL_Variable_Tranformed.csv'), sep=';',\n",
    "                     parse_dates=['level'], dayfirst=True) \n",
    "df_daily['DOA'] = df_daily['level'].map(lambda x: (x-birth_date).days) \n",
    "df_daily['WOA'] = df_daily['DOA'].map(lambda x: math.ceil(x/7))\n",
    "#first two month seems good from the %of hens not moving plot! and sounds good too (twice longer thatn they need to start moving)\n",
    "print(df_daily.shape)\n",
    "df_daily = df_daily[(df_daily['level']>dt.datetime(2020,9,29))&(df_daily['level']<=max_date_adaptability)] \n",
    "#df_daily.groupby(['PenID'])['Treatment'].agg(lambda x: set(x)).reset_index()\n",
    "print(df_daily.shape)\n",
    "display(df_daily[['level','DOA','WOA']].tail(3))\n",
    "print(df_daily.shape)\n",
    "\n",
    "#remove days that are not fully recorded\n",
    "df_daily['nbr_sec_per_day'] = df_daily['level'].map(lambda x: dico_night_hour[correct_key(x,dico_night_hour)]['nbr_hour']*60*60)\n",
    "df_daily['is_correct_amount_time'] = df_daily.apply(lambda x: x['nbr_sec_per_day']==x['verification_daily_total_duration'], axis=1)\n",
    "df_daily[(~df_daily['is_correct_amount_time'])&(~df_daily['Total_number_transition'].isnull())][['level', 'HenID', 'Total_number_transition', 'dur_values', 'verification_daily_total_duration','nbr_sec_per_day']]\n",
    "print(df_daily.shape)\n",
    "display(df_daily = df_daily[~((~df_daily['is_correct_amount_time'])&(~df_daily['Total_number_transition'].isnull()))])\n",
    "print(df_daily.shape)\n",
    "\n",
    "#remove the days where the night had movement recorded but not the days\n",
    "print(df_daily.shape)\n",
    "df_daily = df_daily[['HenID','PenID','level','Treatment', 'CLASS', 'DOA','WOA','dur_values','dur_values_normalized','perc_duration_1_Zone', 'perc_duration_2_Zone',\n",
    "          'perc_duration_3_Zone', 'perc_duration_4_Zone', 'perc_duration_5_Zone','Total_number_transition']]\n",
    "#display(df_daily[df_daily.isna().any(axis=1)])\n",
    "df_daily = df_daily[~df_daily.isna().any(axis=1)]\n",
    "print(df_daily.shape)\n",
    "df_daily.head(3)"
   ]
  },
  {
   "cell_type": "code",
   "execution_count": 39,
   "metadata": {},
   "outputs": [
    {
     "name": "stdout",
     "output_type": "stream",
     "text": [
      "(130, 12)\n"
     ]
    },
    {
     "name": "stderr",
     "output_type": "stream",
     "text": [
      "C:\\Users\\camil\\anaconda3\\lib\\site-packages\\ipykernel\\ipkernel.py:283: DeprecationWarning: `should_run_async` will not call `transform_cell` automatically in the future. Please pass the result to `transformed_cell` argument and any exception that happen during thetransform in `preprocessing_exc_tuple` in IPython 7.17 and above.\n",
      "  and should_run_async(code)\n"
     ]
    },
    {
     "data": {
      "text/html": [
       "<div>\n",
       "<style scoped>\n",
       "    .dataframe tbody tr th:only-of-type {\n",
       "        vertical-align: middle;\n",
       "    }\n",
       "\n",
       "    .dataframe tbody tr th {\n",
       "        vertical-align: top;\n",
       "    }\n",
       "\n",
       "    .dataframe thead th {\n",
       "        text-align: right;\n",
       "    }\n",
       "</style>\n",
       "<table border=\"1\" class=\"dataframe\">\n",
       "  <thead>\n",
       "    <tr style=\"text-align: right;\">\n",
       "      <th></th>\n",
       "      <th>HenID</th>\n",
       "      <th>PenID</th>\n",
       "      <th>CLASS</th>\n",
       "      <th>R-Pen</th>\n",
       "      <th>InitialStartDate</th>\n",
       "      <th>29-09 weight</th>\n",
       "      <th>10-12 juin weight</th>\n",
       "      <th>weight 23-11-2020</th>\n",
       "      <th>weight 04-01-2021</th>\n",
       "      <th>weight 01-02-21</th>\n",
       "      <th>Treatment</th>\n",
       "      <th>percentage_of_gain_weight</th>\n",
       "    </tr>\n",
       "  </thead>\n",
       "  <tbody>\n",
       "    <tr>\n",
       "      <th>0</th>\n",
       "      <td>hen_1</td>\n",
       "      <td>9</td>\n",
       "      <td>EPI</td>\n",
       "      <td>1.0</td>\n",
       "      <td>2020-06-10</td>\n",
       "      <td>1134.0</td>\n",
       "      <td>57.0</td>\n",
       "      <td>1696.5</td>\n",
       "      <td>1787.8</td>\n",
       "      <td>1800.9</td>\n",
       "      <td>OFH</td>\n",
       "      <td>49.603175</td>\n",
       "    </tr>\n",
       "    <tr>\n",
       "      <th>1</th>\n",
       "      <td>hen_10</td>\n",
       "      <td>11</td>\n",
       "      <td>LEXP</td>\n",
       "      <td>1.0</td>\n",
       "      <td>2020-06-10</td>\n",
       "      <td>1070.0</td>\n",
       "      <td>70.4</td>\n",
       "      <td>1488.3</td>\n",
       "      <td>1628.4</td>\n",
       "      <td>1602.1</td>\n",
       "      <td>OFH</td>\n",
       "      <td>39.093458</td>\n",
       "    </tr>\n",
       "    <tr>\n",
       "      <th>3</th>\n",
       "      <td>hen_101</td>\n",
       "      <td>5</td>\n",
       "      <td>MEXP</td>\n",
       "      <td>3.0</td>\n",
       "      <td>2020-06-10</td>\n",
       "      <td>1082.0</td>\n",
       "      <td>66.0</td>\n",
       "      <td>1625.7</td>\n",
       "      <td>1751.1</td>\n",
       "      <td>1723.4</td>\n",
       "      <td>OFH</td>\n",
       "      <td>50.249538</td>\n",
       "    </tr>\n",
       "  </tbody>\n",
       "</table>\n",
       "</div>"
      ],
      "text/plain": [
       "     HenID  PenID CLASS  R-Pen InitialStartDate  29-09 weight  \\\n",
       "0    hen_1      9   EPI    1.0       2020-06-10        1134.0   \n",
       "1   hen_10     11  LEXP    1.0       2020-06-10        1070.0   \n",
       "3  hen_101      5  MEXP    3.0       2020-06-10        1082.0   \n",
       "\n",
       "   10-12 juin weight  weight 23-11-2020  weight 04-01-2021  weight 01-02-21  \\\n",
       "0               57.0             1696.5             1787.8           1800.9   \n",
       "1               70.4             1488.3             1628.4           1602.1   \n",
       "3               66.0             1625.7             1751.1           1723.4   \n",
       "\n",
       "  Treatment  percentage_of_gain_weight  \n",
       "0       OFH                  49.603175  \n",
       "1       OFH                  39.093458  \n",
       "3       OFH                  50.249538  "
      ]
     },
     "execution_count": 39,
     "metadata": {},
     "output_type": "execute_result"
    }
   ],
   "source": [
    "#focal birds info (one row per bird)\n",
    "df_FB = pd.read_csv(os.path.join(path_extracted_data,id_run+'df_FOCALBIRDS.csv'), sep=';', parse_dates=['InitialStartDate'],\n",
    "                     dayfirst=True) \n",
    "df_FB = df_FB[df_FB['HenID'].isin(li_selected_hens)]\n",
    "df_FB['percentage_of_gain_weight'] = df_FB.apply(lambda x: (x['weight 23-11-2020']-x['29-09 weight'])/x['29-09 weight']*100, axis=1)\n",
    "print(df_FB.shape)\n",
    "df_FB.head(3)"
   ]
  },
  {
   "cell_type": "markdown",
   "metadata": {},
   "source": [
    "# Clustering on Chi2distance 15mn sum overall period"
   ]
  },
  {
   "cell_type": "raw",
   "metadata": {},
   "source": [
    "clustering on day is impossible due to missing different days per hens\n",
    "note that as we sumed (and dived by the number of days involved as not same for all hens) the chi2distance over 15mn bin to create a daily chi2distance that is more precise. Thus we will simply sum the chi2distance over the period we want \n",
    "--> one advantage of this method!! lets try on different period to see hw much the clustering is changing, when does it get stable. we will keep the number of cluster fixed within interpretable range (2,3,4), and have the starting day varying from day 1 to day 14 from laying barn, while KEEPING the same number of days involve!: 30"
   ]
  },
  {
   "cell_type": "raw",
   "metadata": {},
   "source": [
    "Rand index (RI): is a measure of how similar two clustering results or groupings are.\\text{RI} = \\frac{\\text{Count of Pairs in Agreement}}{\\text{Total Number of Pairs}} = \\frac{(a+b)}{\\binom{n}{2}}\n",
    "We can notice from the formula that RI can never exceed 1 and its possible lowest value is 0. RI is not able to take into consideration effects of random groupings. To counter this drawback, an adjustment is made to the calculations by taking into consideration grouping by chance. This is done by using a specialized distribution, the generalized hyper-geometric distribution, for modeling the randomness. The resulting measure is known as the adjusted Rand index (ARI).https://iksinc.online/2019/05/06/how-similar-are-two-clustering-results/\n",
    "ARI = (RI - Expected_RI) / (max(RI) - Expected_RI)\n",
    "The adjusted Rand index is thus ensured to have a value close to 0.0 for random labeling independently of the number of clusters and samples and exactly 1.0 when the clusterings are identical (up to a permutation).ARI is a symmetric measure:"
   ]
  },
  {
   "cell_type": "raw",
   "metadata": {},
   "source": [
    "Agglomerative: This is a \"bottom-up\" approach: each observation starts in its own cluster, and pairs of clusters are merged as one moves up the hierarchy. Divisive: This is a \"top-down\" approach: all observations start in one cluster, and splits are performed recursively as one moves down the hierarchy."
   ]
  },
  {
   "cell_type": "markdown",
   "metadata": {},
   "source": [
    "#FOR NOW; THEN REMOVE IT!!!\n",
    "#df_inter = df_inter[df_inter['PenID']=='pen11']\n",
    "#TO CHANGE!!!\n",
    "len(df_inter['henID1'].unique())\n",
    "li_selected_hens = list(df_inter['henID1'].unique())"
   ]
  },
  {
   "cell_type": "code",
   "execution_count": 8,
   "metadata": {},
   "outputs": [
    {
     "name": "stderr",
     "output_type": "stream",
     "text": [
      "C:\\Users\\camil\\anaconda3\\lib\\site-packages\\ipykernel\\ipkernel.py:283: DeprecationWarning: `should_run_async` will not call `transform_cell` automatically in the future. Please pass the result to `transformed_cell` argument and any exception that happen during thetransform in `preprocessing_exc_tuple` in IPython 7.17 and above.\n",
      "  and should_run_async(code)\n"
     ]
    }
   ],
   "source": [
    "#TODO: what about animals having missing days? morelikley to be cluster together??? chekc them and remove them if necessary"
   ]
  },
  {
   "cell_type": "code",
   "execution_count": 13,
   "metadata": {},
   "outputs": [
    {
     "name": "stdout",
     "output_type": "stream",
     "text": [
      "(208886, 98)\n",
      "(208886, 98)\n"
     ]
    },
    {
     "name": "stderr",
     "output_type": "stream",
     "text": [
      "C:\\Users\\camil\\anaconda3\\lib\\site-packages\\ipykernel\\ipkernel.py:283: DeprecationWarning: `should_run_async` will not call `transform_cell` automatically in the future. Please pass the result to `transformed_cell` argument and any exception that happen during thetransform in `preprocessing_exc_tuple` in IPython 7.17 and above.\n",
      "  and should_run_async(code)\n"
     ]
    },
    {
     "data": {
      "text/html": [
       "<div>\n",
       "<style scoped>\n",
       "    .dataframe tbody tr th:only-of-type {\n",
       "        vertical-align: middle;\n",
       "    }\n",
       "\n",
       "    .dataframe tbody tr th {\n",
       "        vertical-align: top;\n",
       "    }\n",
       "\n",
       "    .dataframe thead th {\n",
       "        text-align: right;\n",
       "    }\n",
       "</style>\n",
       "<table border=\"1\" class=\"dataframe\">\n",
       "  <thead>\n",
       "    <tr style=\"text-align: right;\">\n",
       "      <th></th>\n",
       "      <th>level1</th>\n",
       "      <th>level2</th>\n",
       "      <th>henID1</th>\n",
       "      <th>henID2</th>\n",
       "      <th>dur_values_normalized_henID1</th>\n",
       "      <th>dur_values_normalized_henID2</th>\n",
       "      <th>chi2distance</th>\n",
       "      <th>DOA</th>\n",
       "      <th>nbr_obs_chi2all_5</th>\n",
       "      <th>chi2distance_ALL_5</th>\n",
       "      <th>...</th>\n",
       "      <th>nbr_obs_l1_30_4_Zone</th>\n",
       "      <th>nbr_obs_l2_30_4_Zone</th>\n",
       "      <th>DTW_30_1_Zone</th>\n",
       "      <th>nbr_obs_l1_30_1_Zone</th>\n",
       "      <th>nbr_obs_l2_30_1_Zone</th>\n",
       "      <th>weeks_in_laying_barn</th>\n",
       "      <th>hen_pair</th>\n",
       "      <th>DTW_15_all</th>\n",
       "      <th>DIB</th>\n",
       "      <th>animal_pair</th>\n",
       "    </tr>\n",
       "  </thead>\n",
       "  <tbody>\n",
       "    <tr>\n",
       "      <th>0</th>\n",
       "      <td>2020-09-30</td>\n",
       "      <td>2020-09-30</td>\n",
       "      <td>hen_1</td>\n",
       "      <td>hen_10</td>\n",
       "      <td>[0.0, 0.6557638888888889, 0.12111111111111111,...</td>\n",
       "      <td>[0.0, 0.40243055555555557, 0.5327083333333333,...</td>\n",
       "      <td>0.233889</td>\n",
       "      <td>119</td>\n",
       "      <td>288</td>\n",
       "      <td>250.143992</td>\n",
       "      <td>...</td>\n",
       "      <td>48</td>\n",
       "      <td>48</td>\n",
       "      <td>0.0</td>\n",
       "      <td>48</td>\n",
       "      <td>48</td>\n",
       "      <td>1</td>\n",
       "      <td>hen_1-hen_10</td>\n",
       "      <td>315.1</td>\n",
       "      <td>1</td>\n",
       "      <td>hen_1-hen_10</td>\n",
       "    </tr>\n",
       "    <tr>\n",
       "      <th>1</th>\n",
       "      <td>2020-09-30</td>\n",
       "      <td>2020-09-30</td>\n",
       "      <td>hen_2</td>\n",
       "      <td>hen_47</td>\n",
       "      <td>[0.0, 0.3379861111111111, 0.23836805555555557,...</td>\n",
       "      <td>[0.0, 0.8774305555555556, 0.11180555555555556,...</td>\n",
       "      <td>0.341557</td>\n",
       "      <td>119</td>\n",
       "      <td>288</td>\n",
       "      <td>73.192771</td>\n",
       "      <td>...</td>\n",
       "      <td>48</td>\n",
       "      <td>48</td>\n",
       "      <td>0.0</td>\n",
       "      <td>48</td>\n",
       "      <td>48</td>\n",
       "      <td>1</td>\n",
       "      <td>hen_2-hen_47</td>\n",
       "      <td>166.6</td>\n",
       "      <td>1</td>\n",
       "      <td>hen_2-hen_47</td>\n",
       "    </tr>\n",
       "  </tbody>\n",
       "</table>\n",
       "<p>2 rows × 98 columns</p>\n",
       "</div>"
      ],
      "text/plain": [
       "      level1     level2 henID1  henID2  \\\n",
       "0 2020-09-30 2020-09-30  hen_1  hen_10   \n",
       "1 2020-09-30 2020-09-30  hen_2  hen_47   \n",
       "\n",
       "                        dur_values_normalized_henID1  \\\n",
       "0  [0.0, 0.6557638888888889, 0.12111111111111111,...   \n",
       "1  [0.0, 0.3379861111111111, 0.23836805555555557,...   \n",
       "\n",
       "                        dur_values_normalized_henID2  chi2distance  DOA  \\\n",
       "0  [0.0, 0.40243055555555557, 0.5327083333333333,...      0.233889  119   \n",
       "1  [0.0, 0.8774305555555556, 0.11180555555555556,...      0.341557  119   \n",
       "\n",
       "   nbr_obs_chi2all_5  chi2distance_ALL_5  ...  nbr_obs_l1_30_4_Zone  \\\n",
       "0                288          250.143992  ...                    48   \n",
       "1                288           73.192771  ...                    48   \n",
       "\n",
       "   nbr_obs_l2_30_4_Zone  DTW_30_1_Zone  nbr_obs_l1_30_1_Zone  \\\n",
       "0                    48            0.0                    48   \n",
       "1                    48            0.0                    48   \n",
       "\n",
       "   nbr_obs_l2_30_1_Zone  weeks_in_laying_barn      hen_pair  DTW_15_all  DIB  \\\n",
       "0                    48                     1  hen_1-hen_10       315.1    1   \n",
       "1                    48                     1  hen_2-hen_47       166.6    1   \n",
       "\n",
       "    animal_pair  \n",
       "0  hen_1-hen_10  \n",
       "1  hen_2-hen_47  \n",
       "\n",
       "[2 rows x 98 columns]"
      ]
     },
     "execution_count": 13,
     "metadata": {},
     "output_type": "execute_result"
    }
   ],
   "source": [
    "#hen143 is always cluster alone: re,ove it for now, then try to find outliers\n",
    "#df_inter[(df_inter['henID1']=='hen_143')|(df_inter['henID2']=='hen_143')][['level1','henID1','henID2',V]]\n",
    "print(df_inter.shape)\n",
    "df_inter = df_inter[~((df_inter['henID1']=='hen_143')|(df_inter['henID2']=='hen_143'))]\n",
    "li_selected_hens = [i for i in li_selected_hens if i!='hen_143']\n",
    "print(df_inter.shape)\n",
    "df_inter.head(2)"
   ]
  },
  {
   "cell_type": "code",
   "execution_count": 162,
   "metadata": {},
   "outputs": [
    {
     "name": "stdout",
     "output_type": "stream",
     "text": [
      "Index(['level1', 'level2', 'henID1', 'henID2', 'dur_values_normalized_henID1',\n",
      "       'dur_values_normalized_henID2', 'chi2distance', 'DOA',\n",
      "       'nbr_obs_chi2all_5', 'chi2distance_ALL_5', 'DTW_5_3_Zone',\n",
      "       'nbr_obs_l1_5_3_Zone', 'nbr_obs_l2_5_3_Zone', 'DTW_5_2_Zone',\n",
      "       'nbr_obs_l1_5_2_Zone', 'nbr_obs_l2_5_2_Zone', 'DTW_5_5_Zone',\n",
      "       'nbr_obs_l1_5_5_Zone', 'nbr_obs_l2_5_5_Zone', 'DTW_5_4_Zone',\n",
      "       'nbr_obs_l1_5_4_Zone', 'nbr_obs_l2_5_4_Zone', 'DTW_5_1_Zone',\n",
      "       'nbr_obs_l1_5_1_Zone', 'nbr_obs_l2_5_1_Zone', 'nbr_obs_chi2all_10',\n",
      "       'chi2distance_ALL_10', 'DTW_10_3_Zone', 'nbr_obs_l1_10_3_Zone',\n",
      "       'nbr_obs_l2_10_3_Zone', 'DTW_10_2_Zone', 'nbr_obs_l1_10_2_Zone',\n",
      "       'nbr_obs_l2_10_2_Zone', 'DTW_10_5_Zone', 'nbr_obs_l1_10_5_Zone',\n",
      "       'nbr_obs_l2_10_5_Zone', 'DTW_10_4_Zone', 'nbr_obs_l1_10_4_Zone',\n",
      "       'nbr_obs_l2_10_4_Zone', 'DTW_10_1_Zone', 'nbr_obs_l1_10_1_Zone',\n",
      "       'nbr_obs_l2_10_1_Zone', 'nbr_obs_chi2all_15', 'chi2distance_ALL_15',\n",
      "       'DTW_15_3_Zone', 'nbr_obs_l1_15_3_Zone', 'nbr_obs_l2_15_3_Zone',\n",
      "       'DTW_15_2_Zone', 'nbr_obs_l1_15_2_Zone', 'nbr_obs_l2_15_2_Zone',\n",
      "       'DTW_15_5_Zone', 'nbr_obs_l1_15_5_Zone', 'nbr_obs_l2_15_5_Zone',\n",
      "       'DTW_15_4_Zone', 'nbr_obs_l1_15_4_Zone', 'nbr_obs_l2_15_4_Zone',\n",
      "       'DTW_15_1_Zone', 'nbr_obs_l1_15_1_Zone', 'nbr_obs_l2_15_1_Zone',\n",
      "       'nbr_obs_chi2all_20', 'chi2distance_ALL_20', 'DTW_20_3_Zone',\n",
      "       'nbr_obs_l1_20_3_Zone', 'nbr_obs_l2_20_3_Zone', 'DTW_20_2_Zone',\n",
      "       'nbr_obs_l1_20_2_Zone', 'nbr_obs_l2_20_2_Zone', 'DTW_20_5_Zone',\n",
      "       'nbr_obs_l1_20_5_Zone', 'nbr_obs_l2_20_5_Zone', 'DTW_20_4_Zone',\n",
      "       'nbr_obs_l1_20_4_Zone', 'nbr_obs_l2_20_4_Zone', 'DTW_20_1_Zone',\n",
      "       'nbr_obs_l1_20_1_Zone', 'nbr_obs_l2_20_1_Zone', 'nbr_obs_chi2all_30',\n",
      "       'chi2distance_ALL_30', 'DTW_30_3_Zone', 'nbr_obs_l1_30_3_Zone',\n",
      "       'nbr_obs_l2_30_3_Zone', 'DTW_30_2_Zone', 'nbr_obs_l1_30_2_Zone',\n",
      "       'nbr_obs_l2_30_2_Zone', 'DTW_30_5_Zone', 'nbr_obs_l1_30_5_Zone',\n",
      "       'nbr_obs_l2_30_5_Zone', 'DTW_30_4_Zone', 'nbr_obs_l1_30_4_Zone',\n",
      "       'nbr_obs_l2_30_4_Zone', 'DTW_30_1_Zone', 'nbr_obs_l1_30_1_Zone',\n",
      "       'nbr_obs_l2_30_1_Zone', 'weeks_in_laying_barn', 'hen_pair',\n",
      "       'DTW_15_all', 'DIB', 'animal_pair'],\n",
      "      dtype='object')\n"
     ]
    },
    {
     "name": "stderr",
     "output_type": "stream",
     "text": [
      "C:\\Users\\camil\\anaconda3\\lib\\site-packages\\ipykernel\\ipkernel.py:283: DeprecationWarning: `should_run_async` will not call `transform_cell` automatically in the future. Please pass the result to `transformed_cell` argument and any exception that happen during thetransform in `preprocessing_exc_tuple` in IPython 7.17 and above.\n",
      "  and should_run_async(code)\n"
     ]
    }
   ],
   "source": [
    "print(df_inter.columns)"
   ]
  },
  {
   "cell_type": "code",
   "execution_count": 206,
   "metadata": {},
   "outputs": [
    {
     "name": "stderr",
     "output_type": "stream",
     "text": [
      "C:\\Users\\camil\\anaconda3\\lib\\site-packages\\ipykernel\\ipkernel.py:283: DeprecationWarning: `should_run_async` will not call `transform_cell` automatically in the future. Please pass the result to `transformed_cell` argument and any exception that happen during thetransform in `preprocessing_exc_tuple` in IPython 7.17 and above.\n",
      "  and should_run_async(code)\n"
     ]
    }
   ],
   "source": [
    "########################### define parameters ###########################\n",
    "#chose nbr of day involve in the clustering\n",
    "#fixing the number of days, emans that we actually cluster different things and the difference between clustering can be due \n",
    "#to the last days and/or the first days\n",
    "#nbr_days_involved = 30\n",
    "#type_ = 'nbrdaysfix' #nbrdaysfix, enddayfixed\n",
    "\n",
    "type_ = 'enddayfixed'\n",
    "#chose starting DIB possiilityy\n",
    "li_starting_DIB = list(range(1,30))\n",
    "#rs = 0\n",
    "#choose number of cluster\n",
    "li_nbr_cluster = [2,3,4,5,6,7,8,9,10]\n",
    "#choose distance measure\n",
    "V = 'chi2distance_ALL_15'\n",
    "V = 'DTW_15_all'\n",
    "V = 'chi2distance_ALL_30'\n",
    "V = 'DTW_15_3_Zone'"
   ]
  },
  {
   "cell_type": "code",
   "execution_count": null,
   "metadata": {
    "scrolled": true
   },
   "outputs": [
    {
     "name": "stderr",
     "output_type": "stream",
     "text": [
      "C:\\Users\\camil\\anaconda3\\lib\\site-packages\\ipykernel\\ipkernel.py:283: DeprecationWarning: `should_run_async` will not call `transform_cell` automatically in the future. Please pass the result to `transformed_cell` argument and any exception that happen during thetransform in `preprocessing_exc_tuple` in IPython 7.17 and above.\n",
      "  and should_run_async(code)\n",
      "\r",
      "  0%|                                                                                            | 0/9 [00:00<?, ?it/s]"
     ]
    }
   ],
   "source": [
    "#create folder for saving\n",
    "path_extracted_data_visual_adap_clustering_V = os.path.join(path_extracted_data_visual_adap_clustering, V)\n",
    "if not os.path.exists(path_extracted_data_visual_adap_clustering_V):\n",
    "    os.makedirs(path_extracted_data_visual_adap_clustering_V)\n",
    "    \n",
    "li_df = []\n",
    "df_res = pd.DataFrame({'HenID':li_selected_hens})\n",
    "for nbr_cluster in tqdm.tqdm(li_nbr_cluster):\n",
    "    for d1 in li_starting_DIB:\n",
    "        \n",
    "        #select time period\n",
    "        if type_=='nbrdaysfix':\n",
    "            df_ = df_inter[(df_inter['DIB']>=d1)&(df_inter['DIB']<=d1+nbr_days_involved)].copy()\n",
    "        elif type_=='enddayfixed':\n",
    "            df_ = df_inter[df_inter['DIB']>=d1].copy()\n",
    "            l = df_['DIB'].unique()\n",
    "            nbr_days_involved = max(l)-min(l)+1\n",
    "        else:\n",
    "            print('ERROR: You have to chose between nbrdaysfix and enddayfixed')\n",
    "            sys.exit()\n",
    "            \n",
    "        #clustering_name\n",
    "        name_clustering = type_+'_startingDIB-'+str(d1)+'_'+'nbrcluster-'+str(nbr_cluster)+'_'+'nbrdaysinvolved-'+str(nbr_days_involved)\n",
    "\n",
    "        #aggreagte distance measure to have one distance per pair of animals\n",
    "        df_clustering = df_.groupby('animal_pair')[V].agg(lambda x: np.nanmean(x)).reset_index()   \n",
    "        #display(df_clustering.head(3))\n",
    "        #df_clustering.to_csv(os.path.join(path_extracted_data_visual_adap_clustering_V ,name_clustering+'_meanChi2distance_15mn.csv'), \n",
    "        #                 sep=';', index=False)\n",
    "        #plt.hist(df_clustering[V]);\n",
    "        #plt.show();\n",
    "\n",
    "        #compute dissimilarity matrix\n",
    "        M = np.zeros(shape=(len(li_selected_hens), len(li_selected_hens))) \n",
    "        for i,h1 in enumerate(li_selected_hens):\n",
    "            for h2 in li_selected_hens[i+1:]:\n",
    "                #put in correct order if needed\n",
    "                p = '-'.join(sorted([h1,h2]))\n",
    "                #try:\n",
    "                dist_ = df_clustering[df_clustering['animal_pair']==p][V].values[0]\n",
    "                #except Exception as e:\n",
    "                #    print(e, p)\n",
    "                #    dist_ = np.nan\n",
    "                M[li_selected_hens.index(h1)][li_selected_hens.index(h2)] = dist_\n",
    "                M[li_selected_hens.index(h2)][li_selected_hens.index(h1)] = dist_\n",
    "        #sns.heatmap(M)\n",
    "        #plt.show()\n",
    "\n",
    "        #cluster based on the dissimilarity matrix\n",
    "        #If “precomputed”, a distance matrix (instead of a similarity matrix) is needed as input for the fit method.\n",
    "        #TODO: CHECK\n",
    "        #The agglomerative clustering is the most common type of hierarchical clustering\n",
    "        cluster = AgglomerativeClustering(n_clusters=nbr_cluster, affinity='precomputed', linkage = 'average') #, linkage='ward')\n",
    "        cluster.fit_predict(M)\n",
    "        #print(cluster.labels_)\n",
    "        df_res_ = pd.DataFrame({'HenID':li_selected_hens, name_clustering:cluster.labels_})\n",
    "        #display(df_res_['clusterID'].value_counts())\n",
    "        #display(df_res.head(3))\n",
    "        #df_res.to_csv(os.path.join(path_extracted_data_visual_adap_clustering_V ,name_clustering+'_results.csv'), \n",
    "        #                 sep=';', index=False)     \n",
    "        df_res = pd.merge(df_res, df_res_, on='HenID')        \n",
    "        li_df.append({'clusteringID':name_clustering, 'nbr_cluster':nbr_cluster, 'nbr_days_involved':nbr_days_involved, \n",
    "                      'li_starting_DIB':d1})\n",
    "print(df_res.shape)\n",
    "display(df_res.head(3)) \n",
    "    \n",
    "#save meta data info of clusterings\n",
    "df_clusteringMetadata = pd.DataFrame(li_df)\n",
    "print(df_clusteringMetadata.shape)\n",
    "df_clusteringMetadata.head(3)"
   ]
  },
  {
   "cell_type": "markdown",
   "metadata": {},
   "source": [
    "#merge with all daily info: at (day, hen) level\n",
    "df_analyse_hd = pd.merge(df_daily, df_res, on=['HenID'], how='left')\n",
    "print(df_analyse_hd.shape, df_daily.shape)\n",
    "#df_analyse_hd.to_csv(os.path.join(path_cluster, id_run+'df_analyse_hd.csv'), sep=';', index=False)\n",
    "df_analyse_hd.head(3)"
   ]
  },
  {
   "cell_type": "markdown",
   "metadata": {},
   "source": [
    "# ARI between clusterings"
   ]
  },
  {
   "cell_type": "code",
   "execution_count": null,
   "metadata": {},
   "outputs": [],
   "source": [
    "#for each existing possible number of clusters, compute the ARI score between each two clusterings with such nbr of clustering\n",
    "li_df = []\n",
    "for nbr_cluster, df_ in df_clusteringMetadata.groupby('nbr_cluster'):\n",
    "    #symetric measure, compute the scoer once per pair\n",
    "    li_clname = df_['clusteringID'].unique()\n",
    "    for i,cl_type1 in enumerate(li_clname):\n",
    "        for cl_type2 in li_clname[i+1:]:\n",
    "            ARI = adjusted_rand_score(df_res[cl_type1].tolist(), df_res[cl_type2].tolist())\n",
    "            li_df.append({'clusteringID1':cl_type1, 'clusteringID2':cl_type2, 'ARI':ARI, 'nbr_cluster':nbr_cluster,\n",
    "                          'startingDIB1':int(cl_type1.split('startingDIB-')[1].split('_')[0]),\n",
    "                          'startingDIB2':int(cl_type2.split('startingDIB-')[1].split('_')[0])})\n",
    "#save ARI scores info\n",
    "df_ari = pd.DataFrame(li_df)\n",
    "df_ari['pair']  = df_ari.apply(lambda x: '-'.join(sorted([str(x['startingDIB1']),str(x['startingDIB2'])])), axis=1)\n",
    "print(df_ari.shape)\n",
    "df_ari.head(3)"
   ]
  },
  {
   "cell_type": "code",
   "execution_count": null,
   "metadata": {
    "scrolled": true
   },
   "outputs": [],
   "source": [
    "#heatmap\n",
    "for nbr_cluster in li_nbr_cluster:\n",
    "    #fig, ax = plt.subplots(figsize=(4,3))\n",
    "    M = np.zeros(shape=(len(li_starting_DIB), len(li_starting_DIB))) \n",
    "    for i,dib1 in enumerate(li_starting_DIB):\n",
    "        for dib2 in li_starting_DIB[i+1:]:\n",
    "            #put in correct order if needed\n",
    "            v = df_ari[(df_ari['pair']=='-'.join(sorted([str(dib1),str(dib2)])))&\\\n",
    "                       (df_ari['nbr_cluster']==nbr_cluster)]['ARI'].values[0]\n",
    "            M[li_starting_DIB.index(dib1)][li_starting_DIB.index(dib2)] = v\n",
    "            M[li_starting_DIB.index(dib2)][li_starting_DIB.index(dib1)] = v\n",
    "            M[li_starting_DIB.index(dib1)][li_starting_DIB.index(dib1)] = 1 #clusterings are identical (up to a permutation).\n",
    "    sns.heatmap(M)\n",
    "    plt.title('number of clusters: '+str(nbr_cluster))\n",
    "    plt.xlabel('first DIB considered')\n",
    "    plt.ylabel('first DIB considered')\n",
    "    #TODO: change x axis if figure used in article!!!!!!\n",
    "    #ax.set_xticklabels([str(i) for i in dib1])\n",
    "    #ax.set_yticklabels([str(i) for i in dib1])\n",
    "    plt.savefig(os.path.join(path_extracted_data_visual_adap_clustering_V, \n",
    "                             'ARI_clusterings_with_nbrcluster'+str(nbr_cluster)+'.png'), dpi=200)\n",
    "    plt.show()"
   ]
  },
  {
   "cell_type": "markdown",
   "metadata": {},
   "source": [
    "# Visuals"
   ]
  },
  {
   "cell_type": "code",
   "execution_count": null,
   "metadata": {},
   "outputs": [],
   "source": [
    "#lets define it as the animal with the samllest squared average distance to all others from the same cluster\n",
    "#chose which clustering results oyu want to visualise \n",
    "#[i for i in df_ari['clusteringID1'].tolist() if i.startswith('enddayfixed_startingDIB-1_nbrcluster-5_')]\n",
    "name_clustering = 'enddayfixed_startingDIB-1_nbrcluster-3_nbrdaysinvolved-31'\n",
    "df_res[name_clustering].value_counts()\n",
    "#df_res[df_res[name_clustering]==4]"
   ]
  },
  {
   "cell_type": "code",
   "execution_count": null,
   "metadata": {},
   "outputs": [],
   "source": [
    "sys.exit()"
   ]
  },
  {
   "cell_type": "markdown",
   "metadata": {},
   "source": [
    "### clustering score depending on the starting DIB day"
   ]
  },
  {
   "cell_type": "code",
   "execution_count": 193,
   "metadata": {},
   "outputs": [
    {
     "name": "stderr",
     "output_type": "stream",
     "text": [
      "C:\\Users\\camil\\anaconda3\\lib\\site-packages\\ipykernel\\ipkernel.py:283: DeprecationWarning: `should_run_async` will not call `transform_cell` automatically in the future. Please pass the result to `transformed_cell` argument and any exception that happen during thetransform in `preprocessing_exc_tuple` in IPython 7.17 and above.\n",
      "  and should_run_async(code)\n"
     ]
    }
   ],
   "source": [
    "#TODO once we have such a score. then compute the score for random chi2distance sumed"
   ]
  },
  {
   "cell_type": "code",
   "execution_count": null,
   "metadata": {},
   "outputs": [],
   "source": []
  },
  {
   "cell_type": "markdown",
   "metadata": {},
   "source": [
    "### mvt features value across cluster of a particular clustering"
   ]
  },
  {
   "cell_type": "code",
   "execution_count": 194,
   "metadata": {},
   "outputs": [
    {
     "name": "stderr",
     "output_type": "stream",
     "text": [
      "C:\\Users\\camil\\anaconda3\\lib\\site-packages\\ipykernel\\ipkernel.py:283: DeprecationWarning: `should_run_async` will not call `transform_cell` automatically in the future. Please pass the result to `transformed_cell` argument and any exception that happen during thetransform in `preprocessing_exc_tuple` in IPython 7.17 and above.\n",
      "  and should_run_async(code)\n"
     ]
    },
    {
     "data": {
      "text/html": [
       "<div>\n",
       "<style scoped>\n",
       "    .dataframe tbody tr th:only-of-type {\n",
       "        vertical-align: middle;\n",
       "    }\n",
       "\n",
       "    .dataframe tbody tr th {\n",
       "        vertical-align: top;\n",
       "    }\n",
       "\n",
       "    .dataframe thead th {\n",
       "        text-align: right;\n",
       "    }\n",
       "</style>\n",
       "<table border=\"1\" class=\"dataframe\">\n",
       "  <thead>\n",
       "    <tr style=\"text-align: right;\">\n",
       "      <th></th>\n",
       "      <th>enddayfixed_startingDIB-1_nbrcluster-3_nbrdaysinvolved-31</th>\n",
       "      <th>HenID</th>\n",
       "      <th>PenID</th>\n",
       "      <th>CLASS</th>\n",
       "      <th>R-Pen</th>\n",
       "      <th>InitialStartDate</th>\n",
       "      <th>29-09 weight</th>\n",
       "      <th>10-12 juin weight</th>\n",
       "      <th>weight 23-11-2020</th>\n",
       "      <th>weight 04-01-2021</th>\n",
       "      <th>weight 01-02-21</th>\n",
       "      <th>Treatment</th>\n",
       "      <th>percentage_of_gain_weight</th>\n",
       "    </tr>\n",
       "  </thead>\n",
       "  <tbody>\n",
       "    <tr>\n",
       "      <th>0</th>\n",
       "      <td>0</td>\n",
       "      <td>hen_1</td>\n",
       "      <td>9</td>\n",
       "      <td>EPI</td>\n",
       "      <td>1.0</td>\n",
       "      <td>2020-06-10</td>\n",
       "      <td>1134.0</td>\n",
       "      <td>57.0</td>\n",
       "      <td>1696.5</td>\n",
       "      <td>1787.8</td>\n",
       "      <td>1800.9</td>\n",
       "      <td>OFH</td>\n",
       "      <td>49.603175</td>\n",
       "    </tr>\n",
       "    <tr>\n",
       "      <th>1</th>\n",
       "      <td>0</td>\n",
       "      <td>hen_10</td>\n",
       "      <td>11</td>\n",
       "      <td>LEXP</td>\n",
       "      <td>1.0</td>\n",
       "      <td>2020-06-10</td>\n",
       "      <td>1070.0</td>\n",
       "      <td>70.4</td>\n",
       "      <td>1488.3</td>\n",
       "      <td>1628.4</td>\n",
       "      <td>1602.1</td>\n",
       "      <td>OFH</td>\n",
       "      <td>39.093458</td>\n",
       "    </tr>\n",
       "    <tr>\n",
       "      <th>2</th>\n",
       "      <td>2</td>\n",
       "      <td>hen_101</td>\n",
       "      <td>5</td>\n",
       "      <td>MEXP</td>\n",
       "      <td>3.0</td>\n",
       "      <td>2020-06-10</td>\n",
       "      <td>1082.0</td>\n",
       "      <td>66.0</td>\n",
       "      <td>1625.7</td>\n",
       "      <td>1751.1</td>\n",
       "      <td>1723.4</td>\n",
       "      <td>OFH</td>\n",
       "      <td>50.249538</td>\n",
       "    </tr>\n",
       "  </tbody>\n",
       "</table>\n",
       "</div>"
      ],
      "text/plain": [
       "   enddayfixed_startingDIB-1_nbrcluster-3_nbrdaysinvolved-31    HenID  PenID  \\\n",
       "0                                                  0            hen_1      9   \n",
       "1                                                  0           hen_10     11   \n",
       "2                                                  2          hen_101      5   \n",
       "\n",
       "  CLASS  R-Pen InitialStartDate  29-09 weight  10-12 juin weight  \\\n",
       "0   EPI    1.0       2020-06-10        1134.0               57.0   \n",
       "1  LEXP    1.0       2020-06-10        1070.0               70.4   \n",
       "2  MEXP    3.0       2020-06-10        1082.0               66.0   \n",
       "\n",
       "   weight 23-11-2020  weight 04-01-2021  weight 01-02-21 Treatment  \\\n",
       "0             1696.5             1787.8           1800.9       OFH   \n",
       "1             1488.3             1628.4           1602.1       OFH   \n",
       "2             1625.7             1751.1           1723.4       OFH   \n",
       "\n",
       "   percentage_of_gain_weight  \n",
       "0                  49.603175  \n",
       "1                  39.093458  \n",
       "2                  50.249538  "
      ]
     },
     "execution_count": 194,
     "metadata": {},
     "output_type": "execute_result"
    }
   ],
   "source": [
    "#add hen info\n",
    "#df_daily\n",
    "df_info = pd.merge(df_res[[name_clustering,'HenID']], df_FB, on='HenID', how='left')\n",
    "df_info.head(3)"
   ]
  },
  {
   "cell_type": "code",
   "execution_count": 195,
   "metadata": {},
   "outputs": [
    {
     "name": "stderr",
     "output_type": "stream",
     "text": [
      "C:\\Users\\camil\\anaconda3\\lib\\site-packages\\ipykernel\\ipkernel.py:283: DeprecationWarning: `should_run_async` will not call `transform_cell` automatically in the future. Please pass the result to `transformed_cell` argument and any exception that happen during thetransform in `preprocessing_exc_tuple` in IPython 7.17 and above.\n",
      "  and should_run_async(code)\n"
     ]
    },
    {
     "data": {
      "text/plain": [
       "0    89\n",
       "2    39\n",
       "1     2\n",
       "Name: enddayfixed_startingDIB-1_nbrcluster-3_nbrdaysinvolved-31, dtype: int64"
      ]
     },
     "execution_count": 195,
     "metadata": {},
     "output_type": "execute_result"
    }
   ],
   "source": [
    "df_res[name_clustering].value_counts()"
   ]
  },
  {
   "cell_type": "code",
   "execution_count": 196,
   "metadata": {},
   "outputs": [
    {
     "name": "stderr",
     "output_type": "stream",
     "text": [
      "C:\\Users\\camil\\anaconda3\\lib\\site-packages\\ipykernel\\ipkernel.py:283: DeprecationWarning: `should_run_async` will not call `transform_cell` automatically in the future. Please pass the result to `transformed_cell` argument and any exception that happen during thetransform in `preprocessing_exc_tuple` in IPython 7.17 and above.\n",
      "  and should_run_async(code)\n"
     ]
    },
    {
     "data": {
      "image/png": "[encoded data removed]",
      "text/plain": [
       "<Figure size 432x288 with 1 Axes>"
      ]
     },
     "metadata": {
      "needs_background": "light"
     },
     "output_type": "display_data"
    }
   ],
   "source": [
    "sns.boxplot(x=name_clustering, y=\"percentage_of_gain_weight\",data=df_info); #palette=\"Set3\""
   ]
  },
  {
   "cell_type": "code",
   "execution_count": 197,
   "metadata": {},
   "outputs": [
    {
     "name": "stderr",
     "output_type": "stream",
     "text": [
      "C:\\Users\\camil\\anaconda3\\lib\\site-packages\\ipykernel\\ipkernel.py:283: DeprecationWarning: `should_run_async` will not call `transform_cell` automatically in the future. Please pass the result to `transformed_cell` argument and any exception that happen during thetransform in `preprocessing_exc_tuple` in IPython 7.17 and above.\n",
      "  and should_run_async(code)\n"
     ]
    },
    {
     "data": {
      "image/png": "[encoded data removed]",
      "text/plain": [
       "<Figure size 432x288 with 1 Axes>"
      ]
     },
     "metadata": {
      "needs_background": "light"
     },
     "output_type": "display_data"
    }
   ],
   "source": [
    "sns.boxplot(x=name_clustering, y=\"29-09 weight\",data=df_info);"
   ]
  },
  {
   "cell_type": "code",
   "execution_count": 198,
   "metadata": {},
   "outputs": [
    {
     "name": "stderr",
     "output_type": "stream",
     "text": [
      "C:\\Users\\camil\\anaconda3\\lib\\site-packages\\ipykernel\\ipkernel.py:283: DeprecationWarning: `should_run_async` will not call `transform_cell` automatically in the future. Please pass the result to `transformed_cell` argument and any exception that happen during thetransform in `preprocessing_exc_tuple` in IPython 7.17 and above.\n",
      "  and should_run_async(code)\n"
     ]
    },
    {
     "data": {
      "image/png": "[encoded data removed]",
      "text/plain": [
       "<Figure size 649.728x316.8 with 1 Axes>"
      ]
     },
     "execution_count": 198,
     "metadata": {},
     "output_type": "execute_result"
    }
   ],
   "source": [
    "dxp.count('PenID', data=df_info, split=name_clustering)"
   ]
  },
  {
   "cell_type": "code",
   "execution_count": 199,
   "metadata": {},
   "outputs": [
    {
     "name": "stderr",
     "output_type": "stream",
     "text": [
      "C:\\Users\\camil\\anaconda3\\lib\\site-packages\\ipykernel\\ipkernel.py:283: DeprecationWarning: `should_run_async` will not call `transform_cell` automatically in the future. Please pass the result to `transformed_cell` argument and any exception that happen during thetransform in `preprocessing_exc_tuple` in IPython 7.17 and above.\n",
      "  and should_run_async(code)\n"
     ]
    },
    {
     "data": {
      "image/png": "[encoded data removed]",
      "text/plain": [
       "<Figure size 428.544x316.8 with 1 Axes>"
      ]
     },
     "execution_count": 199,
     "metadata": {},
     "output_type": "execute_result"
    }
   ],
   "source": [
    "dxp.count('R-Pen', data=df_info, split=name_clustering) "
   ]
  },
  {
   "cell_type": "code",
   "execution_count": 200,
   "metadata": {},
   "outputs": [
    {
     "name": "stderr",
     "output_type": "stream",
     "text": [
      "C:\\Users\\camil\\anaconda3\\lib\\site-packages\\ipykernel\\ipkernel.py:283: DeprecationWarning: `should_run_async` will not call `transform_cell` automatically in the future. Please pass the result to `transformed_cell` argument and any exception that happen during thetransform in `preprocessing_exc_tuple` in IPython 7.17 and above.\n",
      "  and should_run_async(code)\n"
     ]
    },
    {
     "data": {
      "image/png": "[encoded data removed]",
      "text/plain": [
       "<Figure size 483.84x316.8 with 1 Axes>"
      ]
     },
     "execution_count": 200,
     "metadata": {},
     "output_type": "execute_result"
    }
   ],
   "source": [
    "dxp.count('CLASS', data=df_info, split=name_clustering) "
   ]
  },
  {
   "cell_type": "code",
   "execution_count": 201,
   "metadata": {},
   "outputs": [
    {
     "name": "stderr",
     "output_type": "stream",
     "text": [
      "C:\\Users\\camil\\anaconda3\\lib\\site-packages\\ipykernel\\ipkernel.py:283: DeprecationWarning: `should_run_async` will not call `transform_cell` automatically in the future. Please pass the result to `transformed_cell` argument and any exception that happen during thetransform in `preprocessing_exc_tuple` in IPython 7.17 and above.\n",
      "  and should_run_async(code)\n"
     ]
    },
    {
     "data": {
      "image/png": "[encoded data removed]",
      "text/plain": [
       "<Figure size 317.952x316.8 with 1 Axes>"
      ]
     },
     "execution_count": 201,
     "metadata": {},
     "output_type": "execute_result"
    }
   ],
   "source": [
    "dxp.count('Treatment', data=df_info, split=name_clustering)"
   ]
  },
  {
   "cell_type": "markdown",
   "metadata": {},
   "source": [
    "#we dont normlaize it by pen or anything as we still wan tt se the true nbr of animals per pen/treatment/class\n",
    "fig = dxp.count('PenID', data=df_info, split=name_clustering)\n",
    "#fig.savefig(os.path.join(path_extracted_data_visual_adap_MVTCLUSTER,'AnimalPerPen.png'))\n",
    "fig = dxp.count('R-Pen', data=df_info, split=name_clustering) \n",
    "#fig.savefig(os.path.join(path_extracted_data_visual_adap_MVTCLUSTER,'AnimalPerRPen.png'))\n",
    "fig = dxp.count('CLASS', data=df_info, split=name_clustering) \n",
    "#fig.savefig(os.path.join(path_extracted_data_visual_adap_MVTCLUSTER,'AnimalPerClass.png'))\n",
    "fig = dxp.count('Treatment', data=df_info, split=name_clustering) \n",
    "#fig.savefig(os.path.join(path_extracted_data_visual_adap_MVTCLUSTER,'AnimalPerTreatment.png'))"
   ]
  },
  {
   "cell_type": "markdown",
   "metadata": {},
   "source": [
    "### plot most representative hen within each cluster"
   ]
  },
  {
   "cell_type": "code",
   "execution_count": 202,
   "metadata": {},
   "outputs": [
    {
     "name": "stderr",
     "output_type": "stream",
     "text": [
      "C:\\Users\\camil\\anaconda3\\lib\\site-packages\\ipykernel\\ipkernel.py:283: DeprecationWarning: `should_run_async` will not call `transform_cell` automatically in the future. Please pass the result to `transformed_cell` argument and any exception that happen during thetransform in `preprocessing_exc_tuple` in IPython 7.17 and above.\n",
      "  and should_run_async(code)\n"
     ]
    },
    {
     "name": "stdout",
     "output_type": "stream",
     "text": [
      "(208886, 100)\n",
      "(115887, 100)\n"
     ]
    },
    {
     "data": {
      "text/html": [
       "<div>\n",
       "<style scoped>\n",
       "    .dataframe tbody tr th:only-of-type {\n",
       "        vertical-align: middle;\n",
       "    }\n",
       "\n",
       "    .dataframe tbody tr th {\n",
       "        vertical-align: top;\n",
       "    }\n",
       "\n",
       "    .dataframe thead th {\n",
       "        text-align: right;\n",
       "    }\n",
       "</style>\n",
       "<table border=\"1\" class=\"dataframe\">\n",
       "  <thead>\n",
       "    <tr style=\"text-align: right;\">\n",
       "      <th></th>\n",
       "      <th>HenID</th>\n",
       "      <th>distance</th>\n",
       "    </tr>\n",
       "    <tr>\n",
       "      <th>clID</th>\n",
       "      <th></th>\n",
       "      <th></th>\n",
       "    </tr>\n",
       "  </thead>\n",
       "  <tbody>\n",
       "    <tr>\n",
       "      <th>0</th>\n",
       "      <td>[hen_97, hen_1, hen_102, hen_134, hen_13, hen_...</td>\n",
       "      <td>[34.45897678825204, 36.30146520146521, 55.8355...</td>\n",
       "    </tr>\n",
       "    <tr>\n",
       "      <th>1</th>\n",
       "      <td>[hen_69, hen_107]</td>\n",
       "      <td>[50.178260869565214, 50.178260869565214]</td>\n",
       "    </tr>\n",
       "    <tr>\n",
       "      <th>2</th>\n",
       "      <td>[hen_99, hen_101, hen_138, hen_40, hen_29, hen...</td>\n",
       "      <td>[41.31118951612908, 45.94203056768557, 75.5462...</td>\n",
       "    </tr>\n",
       "  </tbody>\n",
       "</table>\n",
       "</div>"
      ],
      "text/plain": [
       "                                                  HenID  \\\n",
       "clID                                                      \n",
       "0     [hen_97, hen_1, hen_102, hen_134, hen_13, hen_...   \n",
       "1                                     [hen_69, hen_107]   \n",
       "2     [hen_99, hen_101, hen_138, hen_40, hen_29, hen...   \n",
       "\n",
       "                                               distance  \n",
       "clID                                                     \n",
       "0     [34.45897678825204, 36.30146520146521, 55.8355...  \n",
       "1              [50.178260869565214, 50.178260869565214]  \n",
       "2     [41.31118951612908, 45.94203056768557, 75.5462...  "
      ]
     },
     "metadata": {},
     "output_type": "display_data"
    },
    {
     "data": {
      "text/plain": [
       "22"
      ]
     },
     "execution_count": 202,
     "metadata": {},
     "output_type": "execute_result"
    }
   ],
   "source": [
    "dico_hen_clID = dict(zip(df_res['HenID'].tolist(), df_res[name_clustering].tolist()))\n",
    "df_mr = df_inter.copy()\n",
    "df_mr['henID1_cl'] = df_mr['henID1'].map(lambda x: dico_hen_clID[x])\n",
    "df_mr['henID2_cl'] = df_mr['henID2'].map(lambda x: dico_hen_clID[x])\n",
    "print(df_mr.shape)\n",
    "df_mr = df_mr[df_mr['henID1_cl']==df_mr['henID2_cl']]\n",
    "print(df_mr.shape)\n",
    "\n",
    "df_mrh1 = df_mr.groupby(['henID1'])[V].agg(lambda x: sum(x)/len(x)).reset_index()\n",
    "df_mrh1.rename(columns={'henID1':'HenID'},inplace=True)\n",
    "df_mrh2 = df_mr.groupby(['henID2'])[V].agg(lambda x: sum(x)/len(x)).reset_index()\n",
    "df_mrh2.rename(columns={'henID2':'HenID'},inplace=True)\n",
    "\n",
    "df_mr_all = pd.merge(df_mrh1, df_mrh2, on='HenID', how='outer')\n",
    "df_mr_all['distance'] = df_mr_all.apply(lambda x: np.nansum([x[V+'_x'], x[V+'_y']]), axis=1)\n",
    "df_mr_all['clID'] = df_mr_all['HenID'].map(lambda x: dico_hen_clID[x])\n",
    "df_mr_all = df_mr_all.sort_values(['distance']).groupby(['clID'])[['HenID','distance']].agg(lambda x: list(x))\n",
    "display(df_mr_all)\n",
    "nbr_hens = 10\n",
    "li_mshens = df_mr_all['HenID'].tolist()\n",
    "li_mshens = [i[0:nbr_hens] for i in li_mshens]\n",
    "li_mshens = [j for i in li_mshens for j in i]\n",
    "len(li_mshens)"
   ]
  },
  {
   "cell_type": "code",
   "execution_count": 203,
   "metadata": {},
   "outputs": [
    {
     "name": "stdout",
     "output_type": "stream",
     "text": [
      "2020-10-01 00:00:00 2020-11-01 00:00:00\n"
     ]
    },
    {
     "name": "stderr",
     "output_type": "stream",
     "text": [
      "C:\\Users\\camil\\anaconda3\\lib\\site-packages\\ipykernel\\ipkernel.py:283: DeprecationWarning: `should_run_async` will not call `transform_cell` automatically in the future. Please pass the result to `transformed_cell` argument and any exception that happen during thetransform in `preprocessing_exc_tuple` in IPython 7.17 and above.\n",
      "  and should_run_async(code)\n"
     ]
    }
   ],
   "source": [
    "#initializse automatically set of needed paramters for the functions\n",
    "#nbr_cluster_ = int(name_clustering.split('nbrcluster-')[1].split('_')[0])\n",
    "nbr_days_involved_ = int(name_clustering.split('nbrdaysinvolved-')[1].split('_')[0])\n",
    "li_starting_DIB_ = int(name_clustering.split('startingDIB-')[1].split('_')[0])\n",
    "dmin = dt.datetime(2020,9,30)+dt.timedelta(days=li_starting_DIB_)\n",
    "dmax = dt.datetime(2020,9,30)+dt.timedelta(days=li_starting_DIB_+nbr_days_involved_)\n",
    "print(dmin, dmax)\n",
    "dico_h_cl = dict(zip(df_res['HenID'].tolist(), df_res[name_clustering].tolist()))\n",
    "\n",
    "#create one folder per cluster\n",
    "#nbr_cluster_ = len(df_res[name_clustering].unique())\n",
    "path_cluster_visual = os.path.join(path_extracted_data_visual_adap_clustering_V, name_clustering)\n",
    "if not os.path.exists(path_cluster_visual):\n",
    "    os.makedirs(path_cluster_visual)"
   ]
  },
  {
   "cell_type": "code",
   "execution_count": 204,
   "metadata": {},
   "outputs": [
    {
     "name": "stderr",
     "output_type": "stream",
     "text": [
      "C:\\Users\\camil\\anaconda3\\lib\\site-packages\\ipykernel\\ipkernel.py:283: DeprecationWarning: `should_run_async` will not call `transform_cell` automatically in the future. Please pass the result to `transformed_cell` argument and any exception that happen during thetransform in `preprocessing_exc_tuple` in IPython 7.17 and above.\n",
      "  and should_run_async(code)\n"
     ]
    },
    {
     "name": "stdout",
     "output_type": "stream",
     "text": [
      "(155552, 16)\n"
     ]
    },
    {
     "data": {
      "text/html": [
       "<div>\n",
       "<style scoped>\n",
       "    .dataframe tbody tr th:only-of-type {\n",
       "        vertical-align: middle;\n",
       "    }\n",
       "\n",
       "    .dataframe tbody tr th {\n",
       "        vertical-align: top;\n",
       "    }\n",
       "\n",
       "    .dataframe thead th {\n",
       "        text-align: right;\n",
       "    }\n",
       "</style>\n",
       "<table border=\"1\" class=\"dataframe\">\n",
       "  <thead>\n",
       "    <tr style=\"text-align: right;\">\n",
       "      <th></th>\n",
       "      <th>HenID</th>\n",
       "      <th>PenID</th>\n",
       "      <th>system</th>\n",
       "      <th>Zone</th>\n",
       "      <th>model_prediction</th>\n",
       "      <th>Timestamp</th>\n",
       "      <th>date</th>\n",
       "      <th>next_record_date</th>\n",
       "      <th>duration</th>\n",
       "      <th>previous_record_date</th>\n",
       "      <th>previous_duration</th>\n",
       "      <th>next_zone</th>\n",
       "      <th>previous_zone</th>\n",
       "      <th>previous_previous_zone</th>\n",
       "      <th>correction_is_consecutive_equal_initial_zone</th>\n",
       "      <th>is_WG_open</th>\n",
       "    </tr>\n",
       "  </thead>\n",
       "  <tbody>\n",
       "    <tr>\n",
       "      <th>3</th>\n",
       "      <td>hen_49</td>\n",
       "      <td>pen10</td>\n",
       "      <td>10 - 12</td>\n",
       "      <td>2_Zone</td>\n",
       "      <td>1.0</td>\n",
       "      <td>2020-09-29 09:20:21</td>\n",
       "      <td>2020-09-29</td>\n",
       "      <td>2020-09-29 12:45:14.000</td>\n",
       "      <td>0 days 03:24:53</td>\n",
       "      <td>NaN</td>\n",
       "      <td>NaN</td>\n",
       "      <td>3_Zone</td>\n",
       "      <td>NaN</td>\n",
       "      <td>NaN</td>\n",
       "      <td>False</td>\n",
       "      <td>False</td>\n",
       "    </tr>\n",
       "    <tr>\n",
       "      <th>14</th>\n",
       "      <td>hen_70</td>\n",
       "      <td>pen10</td>\n",
       "      <td>10 - 12</td>\n",
       "      <td>3_Zone</td>\n",
       "      <td>1.0</td>\n",
       "      <td>2020-09-29 09:29:50</td>\n",
       "      <td>2020-09-29</td>\n",
       "      <td>2020-09-29 09:30:14.000</td>\n",
       "      <td>0 days 00:00:24</td>\n",
       "      <td>NaN</td>\n",
       "      <td>NaN</td>\n",
       "      <td>3_Zone</td>\n",
       "      <td>NaN</td>\n",
       "      <td>NaN</td>\n",
       "      <td>False</td>\n",
       "      <td>False</td>\n",
       "    </tr>\n",
       "    <tr>\n",
       "      <th>18</th>\n",
       "      <td>hen_94</td>\n",
       "      <td>pen3</td>\n",
       "      <td>3 - 5</td>\n",
       "      <td>2_Zone</td>\n",
       "      <td>1.0</td>\n",
       "      <td>2020-09-29 09:32:47</td>\n",
       "      <td>2020-09-29</td>\n",
       "      <td>2020-09-29 09:33:47.000</td>\n",
       "      <td>0 days 00:01:00</td>\n",
       "      <td>NaN</td>\n",
       "      <td>NaN</td>\n",
       "      <td>3_Zone</td>\n",
       "      <td>NaN</td>\n",
       "      <td>NaN</td>\n",
       "      <td>False</td>\n",
       "      <td>False</td>\n",
       "    </tr>\n",
       "  </tbody>\n",
       "</table>\n",
       "</div>"
      ],
      "text/plain": [
       "     HenID  PenID   system    Zone  model_prediction           Timestamp  \\\n",
       "3   hen_49  pen10  10 - 12  2_Zone               1.0 2020-09-29 09:20:21   \n",
       "14  hen_70  pen10  10 - 12  3_Zone               1.0 2020-09-29 09:29:50   \n",
       "18  hen_94   pen3    3 - 5  2_Zone               1.0 2020-09-29 09:32:47   \n",
       "\n",
       "         date         next_record_date         duration previous_record_date  \\\n",
       "3  2020-09-29  2020-09-29 12:45:14.000  0 days 03:24:53                  NaN   \n",
       "14 2020-09-29  2020-09-29 09:30:14.000  0 days 00:00:24                  NaN   \n",
       "18 2020-09-29  2020-09-29 09:33:47.000  0 days 00:01:00                  NaN   \n",
       "\n",
       "   previous_duration next_zone previous_zone previous_previous_zone  \\\n",
       "3                NaN    3_Zone           NaN                    NaN   \n",
       "14               NaN    3_Zone           NaN                    NaN   \n",
       "18               NaN    3_Zone           NaN                    NaN   \n",
       "\n",
       "    correction_is_consecutive_equal_initial_zone  is_WG_open  \n",
       "3                                          False       False  \n",
       "14                                         False       False  \n",
       "18                                         False       False  "
      ]
     },
     "execution_count": 204,
     "metadata": {},
     "output_type": "execute_result"
    }
   ],
   "source": [
    "#open cleaned mvt data\n",
    "df = pd.read_csv(os.path.join(path_extracted_data, id_run+'_CLEANEDDATA.csv'), sep=';', parse_dates=['Timestamp','date'],\n",
    "                 dayfirst=True) \n",
    "df = df[df['HenID'].isin(li_selected_hens)]\n",
    "df = df[df['HenID'].isin(li_mshens)]\n",
    "print(df.shape)\n",
    "df.head(3)\n",
    "#small verification with the initial raw data, this cleaned data and the visual\n",
    "#df[df['HenID']=='hen_1'].head(30)"
   ]
  },
  {
   "cell_type": "code",
   "execution_count": 205,
   "metadata": {},
   "outputs": [
    {
     "name": "stderr",
     "output_type": "stream",
     "text": [
      "C:\\Users\\camil\\anaconda3\\lib\\site-packages\\ipykernel\\ipkernel.py:283: DeprecationWarning: `should_run_async` will not call `transform_cell` automatically in the future. Please pass the result to `transformed_cell` argument and any exception that happen during thetransform in `preprocessing_exc_tuple` in IPython 7.17 and above.\n",
      "  and should_run_async(code)\n",
      "\r",
      "  0%|                                                                                           | 0/22 [00:00<?, ?it/s]"
     ]
    },
    {
     "name": "stdout",
     "output_type": "stream",
     "text": [
      "(20669, 16)\n"
     ]
    },
    {
     "name": "stderr",
     "output_type": "stream",
     "text": [
      "100%|██████████████████████████████████████████████████████████████████████████████████| 22/22 [31:13<00:00, 85.17s/it]\n"
     ]
    },
    {
     "name": "stdout",
     "output_type": "stream",
     "text": [
      "Total running time: 31.23 mn\n"
     ]
    }
   ],
   "source": [
    "#define the cluster dict\n",
    "ts_visual(df, dmin, dmax, dico_h_cl=dico_h_cl, path_=path_cluster_visual, name='')"
   ]
  },
  {
   "cell_type": "code",
   "execution_count": null,
   "metadata": {},
   "outputs": [],
   "source": []
  },
  {
   "cell_type": "code",
   "execution_count": null,
   "metadata": {},
   "outputs": [],
   "source": []
  },
  {
   "cell_type": "code",
   "execution_count": null,
   "metadata": {},
   "outputs": [],
   "source": []
  },
  {
   "cell_type": "code",
   "execution_count": null,
   "metadata": {},
   "outputs": [],
   "source": []
  },
  {
   "cell_type": "code",
   "execution_count": null,
   "metadata": {},
   "outputs": [],
   "source": []
  },
  {
   "cell_type": "code",
   "execution_count": null,
   "metadata": {},
   "outputs": [],
   "source": []
  },
  {
   "cell_type": "code",
   "execution_count": null,
   "metadata": {},
   "outputs": [],
   "source": []
  },
  {
   "cell_type": "code",
   "execution_count": null,
   "metadata": {},
   "outputs": [],
   "source": []
  }
 ],
 "metadata": {
  "kernelspec": {
   "display_name": "Python 3",
   "language": "python",
   "name": "python3"
  },
  "language_info": {
   "codemirror_mode": {
    "name": "ipython",
    "version": 3
   },
   "file_extension": ".py",
   "mimetype": "text/x-python",
   "name": "python",
   "nbconvert_exporter": "python",
   "pygments_lexer": "ipython3",
   "version": "3.8.5"
  }
 },
 "nbformat": 4,
 "nbformat_minor": 2
}
