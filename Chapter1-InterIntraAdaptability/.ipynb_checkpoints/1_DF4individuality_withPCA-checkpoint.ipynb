{
 "cells": [
  {
   "cell_type": "code",
   "execution_count": 1,
   "metadata": {},
   "outputs": [],
   "source": [
    "#basic package\n",
    "import tqdm\n",
    "import os\n",
    "import numpy as np\n",
    "import glob\n",
    "import pandas as pd\n",
    "import sys\n",
    "import time\n",
    "import datetime as dt\n",
    "import itertools\n",
    "import re\n",
    "import math\n",
    "from collections import Counter\n",
    "import operator\n",
    "from scipy import stats\n",
    "import random\n",
    "from sklearn.preprocessing import normalize\n",
    "import pickle\n",
    "from collections import defaultdict\n",
    "from scipy.stats import pearsonr, spearmanr\n",
    "import random\n",
    "import statistics as st #for the mode\n",
    "from sklearn.utils import shuffle\n",
    "import random\n",
    "from scipy import stats\n",
    "\n",
    "#PCA\n",
    "import plotly.express as px\n",
    "from sklearn.decomposition import PCA\n",
    "from sklearn import preprocessing\n",
    "\n",
    "#plot\n",
    "import matplotlib.pyplot as plt\n",
    "import seaborn as sns"
   ]
  },
  {
   "cell_type": "code",
   "execution_count": 2,
   "metadata": {},
   "outputs": [
    {
     "name": "stderr",
     "output_type": "stream",
     "text": [
      "C:\\Users\\camil\\anaconda3\\lib\\site-packages\\scipy\\sparse\\sparsetools.py:21: DeprecationWarning: `scipy.sparse.sparsetools` is deprecated!\n",
      "scipy.sparse.sparsetools is a private module for scipy.sparse, and should not be used.\n",
      "  _deprecated()\n"
     ]
    },
    {
     "name": "stdout",
     "output_type": "stream",
     "text": [
      "2\n"
     ]
    }
   ],
   "source": [
    "PACKAGE_PARENT = '../'\n",
    "SCRIPT_DIR = os.path.dirname(os.path.realpath(os.path.join(os.getcwd(), os.path.expanduser('__file__'))))\n",
    "sys.path.append(os.path.normpath(os.path.join(SCRIPT_DIR, PACKAGE_PARENT)))\n",
    "from UTILS import kmeans_clustering, sampen, chi2_distance, ts_visual, correct_key, chi2_distance, most_frequent, mssd\n",
    "import config_origins as config"
   ]
  },
  {
   "cell_type": "markdown",
   "metadata": {},
   "source": [
    "# Define parameters"
   ]
  },
  {
   "cell_type": "code",
   "execution_count": 3,
   "metadata": {
    "scrolled": true
   },
   "outputs": [
    {
     "name": "stdout",
     "output_type": "stream",
     "text": [
      "change the configuration file if not done yet!\n"
     ]
    },
    {
     "name": "stderr",
     "output_type": "stream",
     "text": [
      "C:\\Users\\camil\\anaconda3\\lib\\site-packages\\ipykernel\\ipkernel.py:283: DeprecationWarning: `should_run_async` will not call `transform_cell` automatically in the future. Please pass the result to `transformed_cell` argument and any exception that happen during thetransform in `preprocessing_exc_tuple` in IPython 7.17 and above.\n",
      "  and should_run_async(code)\n"
     ]
    },
    {
     "name": "stdout",
     "output_type": "stream",
     "text": [
      "ALLDATA_\n"
     ]
    }
   ],
   "source": [
    "print('change the configuration file if not done yet!')\n",
    "path_extracted_data = config.path_extracted_data\n",
    "path_initial_data = config.path_initial_data\n",
    "id_run = config.id_run\n",
    "dico_matching = config.dico_matching\n",
    "li_binmn = config.li_binmn\n",
    "pal_class_treat = config.pal_class_treat\n",
    "pal_treat = config.pal_treat\n",
    "pal_class = config.pal_class\n",
    "birth_date = config.birth_date\n",
    "dico_night_hour = config.dico_night_hour\n",
    "pal_interintre_treatment = config.pal_interintre_treatment\n",
    "max_date_adaptability = config.max_date_adaptability\n",
    "dico_pen_tr = config.dico_pen_tr\n",
    "path_extracted_data_visual = os.path.join(path_extracted_data,'visual')\n",
    "path_extracted_data_visual_corr = os.path.join(path_extracted_data,'visual','correlation')\n",
    "if not os.path.exists(path_extracted_data_visual_corr):\n",
    "    os.makedirs(path_extracted_data_visual_corr)\n",
    "path_extracted_data_adap = os.path.join(path_extracted_data,'Adaptability')\n",
    "print(id_run)"
   ]
  },
  {
   "cell_type": "markdown",
   "metadata": {},
   "source": [
    "# Download data"
   ]
  },
  {
   "cell_type": "code",
   "execution_count": 4,
   "metadata": {},
   "outputs": [
    {
     "name": "stderr",
     "output_type": "stream",
     "text": [
      "C:\\Users\\camil\\anaconda3\\lib\\site-packages\\ipykernel\\ipkernel.py:283: DeprecationWarning: `should_run_async` will not call `transform_cell` automatically in the future. Please pass the result to `transformed_cell` argument and any exception that happen during thetransform in `preprocessing_exc_tuple` in IPython 7.17 and above.\n",
      "  and should_run_async(code)\n"
     ]
    },
    {
     "name": "stdout",
     "output_type": "stream",
     "text": [
      "133\n"
     ]
    }
   ],
   "source": [
    "li_selected_hens = pickle.load(open(os.path.join(path_extracted_data_adap, 'li_selected_hens.pkl'), 'rb'))\n",
    "print(len(li_selected_hens))"
   ]
  },
  {
   "cell_type": "code",
   "execution_count": 5,
   "metadata": {},
   "outputs": [
    {
     "name": "stderr",
     "output_type": "stream",
     "text": [
      "C:\\Users\\camil\\anaconda3\\lib\\site-packages\\ipykernel\\ipkernel.py:283: DeprecationWarning: `should_run_async` will not call `transform_cell` automatically in the future. Please pass the result to `transformed_cell` argument and any exception that happen during thetransform in `preprocessing_exc_tuple` in IPython 7.17 and above.\n",
      "  and should_run_async(code)\n"
     ]
    },
    {
     "data": {
      "text/plain": [
       "0.0    222\n",
       "1.0     10\n",
       "Name: early_death, dtype: int64"
      ]
     },
     "metadata": {},
     "output_type": "display_data"
    },
    {
     "name": "stdout",
     "output_type": "stream",
     "text": [
      "(232, 14)\n"
     ]
    },
    {
     "data": {
      "text/html": [
       "<div>\n",
       "<style scoped>\n",
       "    .dataframe tbody tr th:only-of-type {\n",
       "        vertical-align: middle;\n",
       "    }\n",
       "\n",
       "    .dataframe tbody tr th {\n",
       "        vertical-align: top;\n",
       "    }\n",
       "\n",
       "    .dataframe thead th {\n",
       "        text-align: right;\n",
       "    }\n",
       "</style>\n",
       "<table border=\"1\" class=\"dataframe\">\n",
       "  <thead>\n",
       "    <tr style=\"text-align: right;\">\n",
       "      <th></th>\n",
       "      <th>HenID</th>\n",
       "      <th>PenID</th>\n",
       "      <th>CLASS</th>\n",
       "      <th>RearingPenID</th>\n",
       "      <th>InitialStartDate</th>\n",
       "      <th>early_death</th>\n",
       "      <th>InitialWeight</th>\n",
       "      <th>10-12 juin weight</th>\n",
       "      <th>weight 23-11-2020</th>\n",
       "      <th>weight 04-01-2021</th>\n",
       "      <th>weight 01-02-21</th>\n",
       "      <th>weight 12-04-21</th>\n",
       "      <th>weight 26-07-21</th>\n",
       "      <th>Treatment</th>\n",
       "    </tr>\n",
       "  </thead>\n",
       "  <tbody>\n",
       "    <tr>\n",
       "      <th>0</th>\n",
       "      <td>hen_1</td>\n",
       "      <td>pen9</td>\n",
       "      <td>EPI</td>\n",
       "      <td>1.0</td>\n",
       "      <td>2020-06-10</td>\n",
       "      <td>0.0</td>\n",
       "      <td>1134.0</td>\n",
       "      <td>57.0</td>\n",
       "      <td>1696.5</td>\n",
       "      <td>1787.8</td>\n",
       "      <td>1800.9</td>\n",
       "      <td>NaN</td>\n",
       "      <td>NaN</td>\n",
       "      <td>OFH</td>\n",
       "    </tr>\n",
       "    <tr>\n",
       "      <th>1</th>\n",
       "      <td>hen_10</td>\n",
       "      <td>pen11</td>\n",
       "      <td>LEXP</td>\n",
       "      <td>1.0</td>\n",
       "      <td>2020-06-10</td>\n",
       "      <td>0.0</td>\n",
       "      <td>1070.0</td>\n",
       "      <td>70.4</td>\n",
       "      <td>1488.3</td>\n",
       "      <td>1628.4</td>\n",
       "      <td>1602.1</td>\n",
       "      <td>1587.2</td>\n",
       "      <td>1713.4</td>\n",
       "      <td>OFH</td>\n",
       "    </tr>\n",
       "    <tr>\n",
       "      <th>2</th>\n",
       "      <td>hen_100</td>\n",
       "      <td>pen5</td>\n",
       "      <td>EPI</td>\n",
       "      <td>3.0</td>\n",
       "      <td>2020-06-10</td>\n",
       "      <td>0.0</td>\n",
       "      <td>1182.0</td>\n",
       "      <td>80.5</td>\n",
       "      <td>1642.5</td>\n",
       "      <td>NaN</td>\n",
       "      <td>NaN</td>\n",
       "      <td>NaN</td>\n",
       "      <td>NaN</td>\n",
       "      <td>OFH</td>\n",
       "    </tr>\n",
       "  </tbody>\n",
       "</table>\n",
       "</div>"
      ],
      "text/plain": [
       "     HenID  PenID CLASS  RearingPenID InitialStartDate  early_death  \\\n",
       "0    hen_1   pen9   EPI           1.0       2020-06-10          0.0   \n",
       "1   hen_10  pen11  LEXP           1.0       2020-06-10          0.0   \n",
       "2  hen_100   pen5   EPI           3.0       2020-06-10          0.0   \n",
       "\n",
       "   InitialWeight  10-12 juin weight  weight 23-11-2020  weight 04-01-2021  \\\n",
       "0         1134.0               57.0             1696.5             1787.8   \n",
       "1         1070.0               70.4             1488.3             1628.4   \n",
       "2         1182.0               80.5             1642.5                NaN   \n",
       "\n",
       "   weight 01-02-21  weight 12-04-21  weight 26-07-21 Treatment  \n",
       "0           1800.9              NaN              NaN       OFH  \n",
       "1           1602.1           1587.2           1713.4       OFH  \n",
       "2              NaN              NaN              NaN       OFH  "
      ]
     },
     "execution_count": 5,
     "metadata": {},
     "output_type": "execute_result"
    }
   ],
   "source": [
    "#focal birds info to control for some variables\n",
    "df_FB = pd.read_csv(os.path.join(config.path_extracted_data, id_run+'df_FOCALBIRDS.csv'), sep=';')\n",
    "df_FB['early_death'] = df_FB['early_death'].fillna(0).replace(2,1) #2 means not sure\n",
    "df_FB.rename(columns={'29-09 weight':'InitialWeight','R-Pen':'RearingPenID'}, inplace=True)\n",
    "display(df_FB['early_death'].value_counts())\n",
    "print(df_FB.shape)\n",
    "df_FB.head(3)"
   ]
  },
  {
   "cell_type": "code",
   "execution_count": 6,
   "metadata": {},
   "outputs": [
    {
     "name": "stderr",
     "output_type": "stream",
     "text": [
      "C:\\Users\\camil\\anaconda3\\lib\\site-packages\\ipykernel\\ipkernel.py:283: DeprecationWarning: `should_run_async` will not call `transform_cell` automatically in the future. Please pass the result to `transformed_cell` argument and any exception that happen during thetransform in `preprocessing_exc_tuple` in IPython 7.17 and above.\n",
      "  and should_run_async(code)\n"
     ]
    },
    {
     "name": "stdout",
     "output_type": "stream",
     "text": [
      "(42300, 63)\n",
      "(6223, 63)\n",
      "(6223, 63)\n"
     ]
    },
    {
     "data": {
      "text/html": [
       "<div>\n",
       "<style scoped>\n",
       "    .dataframe tbody tr th:only-of-type {\n",
       "        vertical-align: middle;\n",
       "    }\n",
       "\n",
       "    .dataframe tbody tr th {\n",
       "        vertical-align: top;\n",
       "    }\n",
       "\n",
       "    .dataframe thead th {\n",
       "        text-align: right;\n",
       "    }\n",
       "</style>\n",
       "<table border=\"1\" class=\"dataframe\">\n",
       "  <thead>\n",
       "    <tr style=\"text-align: right;\">\n",
       "      <th></th>\n",
       "      <th>HenID</th>\n",
       "      <th>PenID</th>\n",
       "      <th>CLASS</th>\n",
       "      <th>TagID</th>\n",
       "      <th>FocalLegringName</th>\n",
       "      <th>R-Pen</th>\n",
       "      <th>InitialStartDate</th>\n",
       "      <th>Treatment</th>\n",
       "      <th>level</th>\n",
       "      <th>DIB</th>\n",
       "      <th>...</th>\n",
       "      <th>percChaoticTransition</th>\n",
       "      <th>night_Max_duration_zones</th>\n",
       "      <th>is_mvt_night</th>\n",
       "      <th>empproba_3_Zone</th>\n",
       "      <th>empproba_4_Zone</th>\n",
       "      <th>empproba_2_Zone</th>\n",
       "      <th>in_WG_15mnAfterOpening</th>\n",
       "      <th>Max_duration_WG_h</th>\n",
       "      <th>perc_1_Zone_while_WG_open</th>\n",
       "      <th>SleepingHeight</th>\n",
       "    </tr>\n",
       "  </thead>\n",
       "  <tbody>\n",
       "    <tr>\n",
       "      <th>3</th>\n",
       "      <td>hen_131</td>\n",
       "      <td>pen10</td>\n",
       "      <td>EPI</td>\n",
       "      <td>tag_128</td>\n",
       "      <td>19black</td>\n",
       "      <td>4.0</td>\n",
       "      <td>2020-06-10 00:00:00</td>\n",
       "      <td>TRAN</td>\n",
       "      <td>2020-09-30</td>\n",
       "      <td>1</td>\n",
       "      <td>...</td>\n",
       "      <td>0.0</td>\n",
       "      <td>5_Zone</td>\n",
       "      <td>1.0</td>\n",
       "      <td>0.000000</td>\n",
       "      <td>0.000000</td>\n",
       "      <td>100.0</td>\n",
       "      <td>NaN</td>\n",
       "      <td>NaN</td>\n",
       "      <td>NaN</td>\n",
       "      <td>5</td>\n",
       "    </tr>\n",
       "    <tr>\n",
       "      <th>4</th>\n",
       "      <td>hen_131</td>\n",
       "      <td>pen10</td>\n",
       "      <td>EPI</td>\n",
       "      <td>tag_128</td>\n",
       "      <td>19black</td>\n",
       "      <td>4.0</td>\n",
       "      <td>2020-06-10 00:00:00</td>\n",
       "      <td>TRAN</td>\n",
       "      <td>2020-10-01</td>\n",
       "      <td>2</td>\n",
       "      <td>...</td>\n",
       "      <td>0.0</td>\n",
       "      <td>3_Zone</td>\n",
       "      <td>1.0</td>\n",
       "      <td>33.333333</td>\n",
       "      <td>50.000000</td>\n",
       "      <td>100.0</td>\n",
       "      <td>NaN</td>\n",
       "      <td>NaN</td>\n",
       "      <td>NaN</td>\n",
       "      <td>3</td>\n",
       "    </tr>\n",
       "    <tr>\n",
       "      <th>5</th>\n",
       "      <td>hen_131</td>\n",
       "      <td>pen10</td>\n",
       "      <td>EPI</td>\n",
       "      <td>tag_128</td>\n",
       "      <td>19black</td>\n",
       "      <td>4.0</td>\n",
       "      <td>2020-06-10 00:00:00</td>\n",
       "      <td>TRAN</td>\n",
       "      <td>2020-10-02</td>\n",
       "      <td>3</td>\n",
       "      <td>...</td>\n",
       "      <td>8.0</td>\n",
       "      <td>5_Zone</td>\n",
       "      <td>0.0</td>\n",
       "      <td>33.333333</td>\n",
       "      <td>66.666667</td>\n",
       "      <td>100.0</td>\n",
       "      <td>NaN</td>\n",
       "      <td>NaN</td>\n",
       "      <td>NaN</td>\n",
       "      <td>5</td>\n",
       "    </tr>\n",
       "  </tbody>\n",
       "</table>\n",
       "<p>3 rows × 63 columns</p>\n",
       "</div>"
      ],
      "text/plain": [
       "     HenID  PenID CLASS    TagID FocalLegringName  R-Pen     InitialStartDate  \\\n",
       "3  hen_131  pen10   EPI  tag_128          19black    4.0  2020-06-10 00:00:00   \n",
       "4  hen_131  pen10   EPI  tag_128          19black    4.0  2020-06-10 00:00:00   \n",
       "5  hen_131  pen10   EPI  tag_128          19black    4.0  2020-06-10 00:00:00   \n",
       "\n",
       "  Treatment      level  DIB  ...  percChaoticTransition  \\\n",
       "3      TRAN 2020-09-30    1  ...                    0.0   \n",
       "4      TRAN 2020-10-01    2  ...                    0.0   \n",
       "5      TRAN 2020-10-02    3  ...                    8.0   \n",
       "\n",
       "   night_Max_duration_zones  is_mvt_night  empproba_3_Zone empproba_4_Zone  \\\n",
       "3                    5_Zone           1.0         0.000000        0.000000   \n",
       "4                    3_Zone           1.0        33.333333       50.000000   \n",
       "5                    5_Zone           0.0        33.333333       66.666667   \n",
       "\n",
       "   empproba_2_Zone  in_WG_15mnAfterOpening  Max_duration_WG_h  \\\n",
       "3            100.0                     NaN                NaN   \n",
       "4            100.0                     NaN                NaN   \n",
       "5            100.0                     NaN                NaN   \n",
       "\n",
       "   perc_1_Zone_while_WG_open  SleepingHeight  \n",
       "3                        NaN               5  \n",
       "4                        NaN               3  \n",
       "5                        NaN               5  \n",
       "\n",
       "[3 rows x 63 columns]"
      ]
     },
     "execution_count": 6,
     "metadata": {},
     "output_type": "execute_result"
    }
   ],
   "source": [
    "#dailyMVT var\n",
    "df_MVT_ALL = pd.read_csv(os.path.join(path_extracted_data, id_run+'_daily_ALL_variables_verified.csv'), sep=';', \n",
    "                     parse_dates=['level'], dayfirst=True) \n",
    "print(df_MVT_ALL.shape)\n",
    "df_MVT_ALL = df_MVT_ALL[df_MVT_ALL['HenID'].isin(li_selected_hens)]\n",
    "#restrict to the adaptability study timeframe\n",
    "df_MVT_ALL = df_MVT_ALL[df_MVT_ALL['level']<=config.max_date_adaptability]\n",
    "print(df_MVT_ALL.shape)\n",
    "#make sure we have their mvt\n",
    "df_MVT_ALL = df_MVT_ALL[~df_MVT_ALL['perc_duration_5_Zone'].isnull()]\n",
    "print(df_MVT_ALL.shape)\n",
    "df_MVT_ALL.head(3)"
   ]
  },
  {
   "cell_type": "code",
   "execution_count": 7,
   "metadata": {},
   "outputs": [
    {
     "name": "stdout",
     "output_type": "stream",
     "text": [
      "['HenID', 'PenID', 'CLASS', 'TagID', 'FocalLegringName', 'R-Pen', 'InitialStartDate', 'Treatment', 'level', 'DIB', 'WIB', 'DOA', 'WOA', 'verification_daily_total_duration', 'TrackingSystemID', 'perc_duration_2_Zone', 'perc_duration_3_Zone', 'perc_duration_4_Zone', 'perc_duration_5_Zone', 'duration_1_Zone', 'duration_2_Zone', 'duration_3_Zone', 'duration_4_Zone', 'duration_5_Zone', 'nbr_stays_1_Zone', 'nbr_stays_2_Zone', 'nbr_stays_3_Zone', 'nbr_stays_4_Zone', 'nbr_stays_5_Zone', 'nbr_stays_1_Zone_perh', 'nbr_stays_2_Zone_perh', 'nbr_stays_3_Zone_perh', 'nbr_stays_4_Zone_perh', 'nbr_stays_5_Zone_perh', 'ratio_percdur_percstays_2_Zone', 'ratio_percdur_percstays_3_Zone', 'ratio_percdur_percstays_4_Zone', 'ratio_percdur_percstays_5_Zone', 'latency_2_Zone_h', 'latency_3_Zone_h', 'latency_4_Zone_h', 'latency_5_Zone_h', 'latency_since15mnnestbox_h', 'Total_number_transition', 'nbr_stays_total', 'distribution_entropy', 'Total_number_zone', 'Max_duration_zones', 'vertical_travel_distance', 'vertical_travel_distance_perh', 'activity_5percentile_h', 'activity_50percentile_h', 'activity_95percentile_h', 'percChaoticTransition', 'night_Max_duration_zones', 'is_mvt_night', 'empproba_3_Zone', 'empproba_4_Zone', 'empproba_2_Zone', 'in_WG_15mnAfterOpening', 'Max_duration_WG_h', 'perc_1_Zone_while_WG_open', 'SleepingHeight']\n"
     ]
    },
    {
     "name": "stderr",
     "output_type": "stream",
     "text": [
      "C:\\Users\\camil\\anaconda3\\lib\\site-packages\\ipykernel\\ipkernel.py:283: DeprecationWarning: `should_run_async` will not call `transform_cell` automatically in the future. Please pass the result to `transformed_cell` argument and any exception that happen during thetransform in `preprocessing_exc_tuple` in IPython 7.17 and above.\n",
      "  and should_run_async(code)\n"
     ]
    }
   ],
   "source": [
    "print(list(df_MVT_ALL))"
   ]
  },
  {
   "cell_type": "markdown",
   "metadata": {
    "scrolled": false
   },
   "source": [
    "for var in ['vertical_travel_distance_perh']:\n",
    "    df_corr = df_MVT_ALL.groupby(['WIB','HenID'])[var].agg(lambda x: np.mean(x)).reset_index()\n",
    "    df_corr = df_corr.pivot(index='HenID', columns='WIB', values=var).reset_index()\n",
    "    df_corr\n",
    "    li_dico = []\n",
    "    M = np.zeros(shape=(8,8))\n",
    "    for i in range(1,8):\n",
    "        for j in range(i+1,9):\n",
    "            coeff, p_val = pearsonr(df_corr[i].tolist(), df_corr[j].tolist())\n",
    "            coeff_np, p_val_np = spearmanr(df_corr[i].tolist(), df_corr[j].tolist())\n",
    "            if p_val<0.05:\n",
    "                M[i-1][j-1] = coeff_np\n",
    "                M[j-1][i-1] = coeff_np\n",
    "            else:\n",
    "                M[i-1][j-1] = 0\n",
    "                M[j-1][i-1] = 0\n",
    "            li_dico.append({'WIB1':i,'WIB2':j,'coeff':coeff, 'p_val':p_val, 'coeff_np':coeff_np, 'p_val_np':p_val_np})\n",
    "    df_corrres = pd.DataFrame(li_dico)\n",
    "    #display(df_corrres)\n",
    "    plt.title(var)\n",
    "    sns.heatmap(M);\n",
    "    plt.show()"
   ]
  },
  {
   "cell_type": "code",
   "execution_count": 8,
   "metadata": {},
   "outputs": [
    {
     "name": "stderr",
     "output_type": "stream",
     "text": [
      "C:\\Users\\camil\\anaconda3\\lib\\site-packages\\ipykernel\\ipkernel.py:283: DeprecationWarning: `should_run_async` will not call `transform_cell` automatically in the future. Please pass the result to `transformed_cell` argument and any exception that happen during thetransform in `preprocessing_exc_tuple` in IPython 7.17 and above.\n",
      "  and should_run_async(code)\n"
     ]
    },
    {
     "data": {
      "image/png": "[encoded data removed]",
      "text/plain": [
       "<Figure size 432x288 with 1 Axes>"
      ]
     },
     "metadata": {
      "needs_background": "light"
     },
     "output_type": "display_data"
    }
   ],
   "source": [
    "sns.lineplot(y='vertical_travel_distance_perh', x='DIB', data=df_MVT_ALL, hue='PenID');#,legend=False);"
   ]
  },
  {
   "cell_type": "raw",
   "metadata": {},
   "source": [
    "We can observe that there is a general positive trend in the average vertical travel distance per hour as number of days post-transfer increases, but also that variance in the average vertical travel distance per hour is greater at the first days post-transferd compared to the 40th day post-transfer onward and there appears to be some non-linearity, and therefore we will investigate whether the fixed effect of number of days post-transfer on the average vertical travel distance per hour could be modelled with either a linear model or a quadratic model."
   ]
  },
  {
   "cell_type": "markdown",
   "metadata": {},
   "source": [
    "# choose data for individuality variables"
   ]
  },
  {
   "cell_type": "code",
   "execution_count": 9,
   "metadata": {},
   "outputs": [
    {
     "name": "stderr",
     "output_type": "stream",
     "text": [
      "C:\\Users\\camil\\anaconda3\\lib\\site-packages\\ipykernel\\ipkernel.py:283: DeprecationWarning: `should_run_async` will not call `transform_cell` automatically in the future. Please pass the result to `transformed_cell` argument and any exception that happen during thetransform in `preprocessing_exc_tuple` in IPython 7.17 and above.\n",
      "  and should_run_async(code)\n"
     ]
    },
    {
     "data": {
      "text/html": [
       "<div>\n",
       "<style scoped>\n",
       "    .dataframe tbody tr th:only-of-type {\n",
       "        vertical-align: middle;\n",
       "    }\n",
       "\n",
       "    .dataframe tbody tr th {\n",
       "        vertical-align: top;\n",
       "    }\n",
       "\n",
       "    .dataframe thead th {\n",
       "        text-align: right;\n",
       "    }\n",
       "</style>\n",
       "<table border=\"1\" class=\"dataframe\">\n",
       "  <thead>\n",
       "    <tr style=\"text-align: right;\">\n",
       "      <th></th>\n",
       "      <th>HenID</th>\n",
       "      <th>PenID</th>\n",
       "      <th>CLASS</th>\n",
       "      <th>TagID</th>\n",
       "      <th>FocalLegringName</th>\n",
       "      <th>R-Pen</th>\n",
       "      <th>InitialStartDate</th>\n",
       "      <th>Treatment</th>\n",
       "      <th>level</th>\n",
       "      <th>DIB</th>\n",
       "      <th>...</th>\n",
       "      <th>night_Max_duration_zones</th>\n",
       "      <th>is_mvt_night</th>\n",
       "      <th>empproba_3_Zone</th>\n",
       "      <th>empproba_4_Zone</th>\n",
       "      <th>empproba_2_Zone</th>\n",
       "      <th>in_WG_15mnAfterOpening</th>\n",
       "      <th>Max_duration_WG_h</th>\n",
       "      <th>perc_1_Zone_while_WG_open</th>\n",
       "      <th>SleepingHeight</th>\n",
       "      <th>WIB_HenID</th>\n",
       "    </tr>\n",
       "  </thead>\n",
       "  <tbody>\n",
       "    <tr>\n",
       "      <th>3</th>\n",
       "      <td>hen_131</td>\n",
       "      <td>pen10</td>\n",
       "      <td>EPI</td>\n",
       "      <td>tag_128</td>\n",
       "      <td>19black</td>\n",
       "      <td>4.0</td>\n",
       "      <td>2020-06-10 00:00:00</td>\n",
       "      <td>TRAN</td>\n",
       "      <td>2020-09-30</td>\n",
       "      <td>1</td>\n",
       "      <td>...</td>\n",
       "      <td>5_Zone</td>\n",
       "      <td>1.0</td>\n",
       "      <td>0.000000</td>\n",
       "      <td>0.000000</td>\n",
       "      <td>100.0</td>\n",
       "      <td>NaN</td>\n",
       "      <td>NaN</td>\n",
       "      <td>NaN</td>\n",
       "      <td>5</td>\n",
       "      <td>1_hen_131</td>\n",
       "    </tr>\n",
       "    <tr>\n",
       "      <th>4</th>\n",
       "      <td>hen_131</td>\n",
       "      <td>pen10</td>\n",
       "      <td>EPI</td>\n",
       "      <td>tag_128</td>\n",
       "      <td>19black</td>\n",
       "      <td>4.0</td>\n",
       "      <td>2020-06-10 00:00:00</td>\n",
       "      <td>TRAN</td>\n",
       "      <td>2020-10-01</td>\n",
       "      <td>2</td>\n",
       "      <td>...</td>\n",
       "      <td>3_Zone</td>\n",
       "      <td>1.0</td>\n",
       "      <td>33.333333</td>\n",
       "      <td>50.000000</td>\n",
       "      <td>100.0</td>\n",
       "      <td>NaN</td>\n",
       "      <td>NaN</td>\n",
       "      <td>NaN</td>\n",
       "      <td>3</td>\n",
       "      <td>1_hen_131</td>\n",
       "    </tr>\n",
       "    <tr>\n",
       "      <th>5</th>\n",
       "      <td>hen_131</td>\n",
       "      <td>pen10</td>\n",
       "      <td>EPI</td>\n",
       "      <td>tag_128</td>\n",
       "      <td>19black</td>\n",
       "      <td>4.0</td>\n",
       "      <td>2020-06-10 00:00:00</td>\n",
       "      <td>TRAN</td>\n",
       "      <td>2020-10-02</td>\n",
       "      <td>3</td>\n",
       "      <td>...</td>\n",
       "      <td>5_Zone</td>\n",
       "      <td>0.0</td>\n",
       "      <td>33.333333</td>\n",
       "      <td>66.666667</td>\n",
       "      <td>100.0</td>\n",
       "      <td>NaN</td>\n",
       "      <td>NaN</td>\n",
       "      <td>NaN</td>\n",
       "      <td>5</td>\n",
       "      <td>1_hen_131</td>\n",
       "    </tr>\n",
       "  </tbody>\n",
       "</table>\n",
       "<p>3 rows × 64 columns</p>\n",
       "</div>"
      ],
      "text/plain": [
       "     HenID  PenID CLASS    TagID FocalLegringName  R-Pen     InitialStartDate  \\\n",
       "3  hen_131  pen10   EPI  tag_128          19black    4.0  2020-06-10 00:00:00   \n",
       "4  hen_131  pen10   EPI  tag_128          19black    4.0  2020-06-10 00:00:00   \n",
       "5  hen_131  pen10   EPI  tag_128          19black    4.0  2020-06-10 00:00:00   \n",
       "\n",
       "  Treatment      level  DIB  ...  night_Max_duration_zones  is_mvt_night  \\\n",
       "3      TRAN 2020-09-30    1  ...                    5_Zone           1.0   \n",
       "4      TRAN 2020-10-01    2  ...                    3_Zone           1.0   \n",
       "5      TRAN 2020-10-02    3  ...                    5_Zone           0.0   \n",
       "\n",
       "   empproba_3_Zone  empproba_4_Zone empproba_2_Zone  in_WG_15mnAfterOpening  \\\n",
       "3         0.000000         0.000000           100.0                     NaN   \n",
       "4        33.333333        50.000000           100.0                     NaN   \n",
       "5        33.333333        66.666667           100.0                     NaN   \n",
       "\n",
       "   Max_duration_WG_h  perc_1_Zone_while_WG_open  SleepingHeight  WIB_HenID  \n",
       "3                NaN                        NaN               5  1_hen_131  \n",
       "4                NaN                        NaN               3  1_hen_131  \n",
       "5                NaN                        NaN               5  1_hen_131  \n",
       "\n",
       "[3 rows x 64 columns]"
      ]
     },
     "execution_count": 9,
     "metadata": {},
     "output_type": "execute_result"
    }
   ],
   "source": [
    "#add a useful id\n",
    "df_MVT_ALL['WIB_HenID'] = df_MVT_ALL.apply(lambda x: str(x['WIB'])+'_'+x['HenID'], axis=1)\n",
    "df_MVT_ALL.head(3)"
   ]
  },
  {
   "cell_type": "markdown",
   "metadata": {},
   "source": [
    "### keep only days since WG is open"
   ]
  },
  {
   "cell_type": "code",
   "execution_count": 10,
   "metadata": {},
   "outputs": [
    {
     "name": "stdout",
     "output_type": "stream",
     "text": [
      "(6223, 64)\n"
     ]
    },
    {
     "name": "stderr",
     "output_type": "stream",
     "text": [
      "C:\\Users\\camil\\anaconda3\\lib\\site-packages\\ipykernel\\ipkernel.py:283: DeprecationWarning: `should_run_async` will not call `transform_cell` automatically in the future. Please pass the result to `transformed_cell` argument and any exception that happen during thetransform in `preprocessing_exc_tuple` in IPython 7.17 and above.\n",
      "  and should_run_async(code)\n"
     ]
    },
    {
     "data": {
      "text/plain": [
       "(5361, 64)"
      ]
     },
     "execution_count": 10,
     "metadata": {},
     "output_type": "execute_result"
    }
   ],
   "source": [
    "print(df_MVT_ALL.shape)\n",
    "df_MVT_ALL = df_MVT_ALL[df_MVT_ALL['level']>=config.date_first_opening_WG]\n",
    "df_MVT_ALL.shape"
   ]
  },
  {
   "cell_type": "markdown",
   "metadata": {},
   "source": [
    "### add external temperature as environemntal factor"
   ]
  },
  {
   "cell_type": "code",
   "execution_count": 11,
   "metadata": {},
   "outputs": [
    {
     "name": "stderr",
     "output_type": "stream",
     "text": [
      "C:\\Users\\camil\\anaconda3\\lib\\site-packages\\ipykernel\\ipkernel.py:283: DeprecationWarning: `should_run_async` will not call `transform_cell` automatically in the future. Please pass the result to `transformed_cell` argument and any exception that happen during thetransform in `preprocessing_exc_tuple` in IPython 7.17 and above.\n",
      "  and should_run_async(code)\n"
     ]
    },
    {
     "name": "stdout",
     "output_type": "stream",
     "text": [
      "(7293, 13)\n"
     ]
    },
    {
     "data": {
      "text/html": [
       "<div>\n",
       "<style scoped>\n",
       "    .dataframe tbody tr th:only-of-type {\n",
       "        vertical-align: middle;\n",
       "    }\n",
       "\n",
       "    .dataframe tbody tr th {\n",
       "        vertical-align: top;\n",
       "    }\n",
       "\n",
       "    .dataframe thead th {\n",
       "        text-align: right;\n",
       "    }\n",
       "</style>\n",
       "<table border=\"1\" class=\"dataframe\">\n",
       "  <thead>\n",
       "    <tr style=\"text-align: right;\">\n",
       "      <th></th>\n",
       "      <th>Timestamp</th>\n",
       "      <th>temperature</th>\n",
       "      <th>humidity</th>\n",
       "      <th>wind speed</th>\n",
       "      <th>Precipitation amount</th>\n",
       "      <th>query</th>\n",
       "      <th>Moon Phase calculator</th>\n",
       "      <th>hour</th>\n",
       "      <th>temperature_C</th>\n",
       "      <th>wind_speed_mpers</th>\n",
       "      <th>humidity_avgpercent</th>\n",
       "      <th>rain</th>\n",
       "      <th>Timestamp_weather</th>\n",
       "    </tr>\n",
       "  </thead>\n",
       "  <tbody>\n",
       "    <tr>\n",
       "      <th>0</th>\n",
       "      <td>2020-09-29 00:00:00</td>\n",
       "      <td>10 °C\\n(12:00 am CEST | Tuesday, September 29,...</td>\n",
       "      <td>average: 100% (100%)\\n(12:00 am CEST | Tuesday...</td>\n",
       "      <td>2 m/s\\n(12:00 am CEST | Tuesday, September 29,...</td>\n",
       "      <td>rain\\n(12:00 am CEST | Tuesday, September 29, ...</td>\n",
       "      <td>Moon Phase calculatorSeptember 29, 2020 0h</td>\n",
       "      <td>| waxing gibbous moon\\n91.87% illuminated</td>\n",
       "      <td>0</td>\n",
       "      <td>10</td>\n",
       "      <td>2</td>\n",
       "      <td>100</td>\n",
       "      <td>rain</td>\n",
       "      <td>2020-09-29 00:00:00</td>\n",
       "    </tr>\n",
       "    <tr>\n",
       "      <th>1</th>\n",
       "      <td>2020-09-29 01:00:00</td>\n",
       "      <td>10 °C\\n(1:00 am CEST | Tuesday, September 29, ...</td>\n",
       "      <td>average: 100% (100%)\\n(1:00 am CEST | Tuesday,...</td>\n",
       "      <td>3 m/s\\n(1:00 am CEST | Tuesday, September 29, ...</td>\n",
       "      <td>rain\\n(1:00 am CEST | Tuesday, September 29, 2...</td>\n",
       "      <td>Moon Phase calculatorSeptember 29, 2020 1h</td>\n",
       "      <td>| waxing gibbous moon\\n92.09% illuminated</td>\n",
       "      <td>1</td>\n",
       "      <td>10</td>\n",
       "      <td>3</td>\n",
       "      <td>100</td>\n",
       "      <td>rain</td>\n",
       "      <td>2020-09-29 01:00:00</td>\n",
       "    </tr>\n",
       "    <tr>\n",
       "      <th>2</th>\n",
       "      <td>2020-09-29 02:00:00</td>\n",
       "      <td>10 °C\\n(2:00 am CEST | Tuesday, September 29, ...</td>\n",
       "      <td>average: 100% (100%)\\n(2:00 am CEST | Tuesday,...</td>\n",
       "      <td>3 m/s\\n(2:00 am CEST | Tuesday, September 29, ...</td>\n",
       "      <td>rain\\n(2:00 am CEST | Tuesday, September 29, 2...</td>\n",
       "      <td>Moon Phase calculatorSeptember 29, 2020 2h</td>\n",
       "      <td>| waxing gibbous moon\\n92.30% illuminated</td>\n",
       "      <td>2</td>\n",
       "      <td>10</td>\n",
       "      <td>3</td>\n",
       "      <td>100</td>\n",
       "      <td>rain</td>\n",
       "      <td>2020-09-29 02:00:00</td>\n",
       "    </tr>\n",
       "  </tbody>\n",
       "</table>\n",
       "</div>"
      ],
      "text/plain": [
       "            Timestamp                                        temperature  \\\n",
       "0 2020-09-29 00:00:00  10 °C\\n(12:00 am CEST | Tuesday, September 29,...   \n",
       "1 2020-09-29 01:00:00  10 °C\\n(1:00 am CEST | Tuesday, September 29, ...   \n",
       "2 2020-09-29 02:00:00  10 °C\\n(2:00 am CEST | Tuesday, September 29, ...   \n",
       "\n",
       "                                            humidity  \\\n",
       "0  average: 100% (100%)\\n(12:00 am CEST | Tuesday...   \n",
       "1  average: 100% (100%)\\n(1:00 am CEST | Tuesday,...   \n",
       "2  average: 100% (100%)\\n(2:00 am CEST | Tuesday,...   \n",
       "\n",
       "                                          wind speed  \\\n",
       "0  2 m/s\\n(12:00 am CEST | Tuesday, September 29,...   \n",
       "1  3 m/s\\n(1:00 am CEST | Tuesday, September 29, ...   \n",
       "2  3 m/s\\n(2:00 am CEST | Tuesday, September 29, ...   \n",
       "\n",
       "                                Precipitation amount  \\\n",
       "0  rain\\n(12:00 am CEST | Tuesday, September 29, ...   \n",
       "1  rain\\n(1:00 am CEST | Tuesday, September 29, 2...   \n",
       "2  rain\\n(2:00 am CEST | Tuesday, September 29, 2...   \n",
       "\n",
       "                                        query  \\\n",
       "0  Moon Phase calculatorSeptember 29, 2020 0h   \n",
       "1  Moon Phase calculatorSeptember 29, 2020 1h   \n",
       "2  Moon Phase calculatorSeptember 29, 2020 2h   \n",
       "\n",
       "                       Moon Phase calculator  hour  temperature_C  \\\n",
       "0  | waxing gibbous moon\\n91.87% illuminated     0             10   \n",
       "1  | waxing gibbous moon\\n92.09% illuminated     1             10   \n",
       "2  | waxing gibbous moon\\n92.30% illuminated     2             10   \n",
       "\n",
       "   wind_speed_mpers  humidity_avgpercent  rain   Timestamp_weather  \n",
       "0                 2                  100  rain 2020-09-29 00:00:00  \n",
       "1                 3                  100  rain 2020-09-29 01:00:00  \n",
       "2                 3                  100  rain 2020-09-29 02:00:00  "
      ]
     },
     "metadata": {},
     "output_type": "display_data"
    }
   ],
   "source": [
    "#weather conditions\n",
    "path_weather = os.path.join(r'C:\\Users\\camil\\Desktop\\vm_exchange\\PhD_Data\\Weather','Weather_process.csv')\n",
    "df_weather_h = pd.read_csv(path_weather, sep=';', parse_dates=['date','Timestamp'])\n",
    "df_weather_h = df_weather_h.sort_values('Timestamp') \n",
    "df_weather_h = df_weather_h.drop(['date'], axis=1)\n",
    "df_weather_h['Timestamp_weather'] = df_weather_h['Timestamp'].copy()\n",
    "print(df_weather_h.shape)\n",
    "display(df_weather_h.head(3))"
   ]
  },
  {
   "cell_type": "code",
   "execution_count": 12,
   "metadata": {},
   "outputs": [
    {
     "name": "stderr",
     "output_type": "stream",
     "text": [
      "C:\\Users\\camil\\anaconda3\\lib\\site-packages\\ipykernel\\ipkernel.py:283: DeprecationWarning: `should_run_async` will not call `transform_cell` automatically in the future. Please pass the result to `transformed_cell` argument and any exception that happen during thetransform in `preprocessing_exc_tuple` in IPython 7.17 and above.\n",
      "  and should_run_async(code)\n"
     ]
    },
    {
     "data": {
      "text/html": [
       "<div>\n",
       "<style scoped>\n",
       "    .dataframe tbody tr th:only-of-type {\n",
       "        vertical-align: middle;\n",
       "    }\n",
       "\n",
       "    .dataframe tbody tr th {\n",
       "        vertical-align: top;\n",
       "    }\n",
       "\n",
       "    .dataframe thead th {\n",
       "        text-align: right;\n",
       "    }\n",
       "</style>\n",
       "<table border=\"1\" class=\"dataframe\">\n",
       "  <thead>\n",
       "    <tr style=\"text-align: right;\">\n",
       "      <th></th>\n",
       "      <th>date</th>\n",
       "      <th>temperature_C</th>\n",
       "      <th>temperature_C_avg</th>\n",
       "    </tr>\n",
       "  </thead>\n",
       "  <tbody>\n",
       "    <tr>\n",
       "      <th>0</th>\n",
       "      <td>2020-09-29</td>\n",
       "      <td>[11, 12, 12, 12, 12, 13]</td>\n",
       "      <td>12.0</td>\n",
       "    </tr>\n",
       "    <tr>\n",
       "      <th>1</th>\n",
       "      <td>2020-09-30</td>\n",
       "      <td>[10, 11, 13, 13, 14, 14]</td>\n",
       "      <td>12.5</td>\n",
       "    </tr>\n",
       "    <tr>\n",
       "      <th>2</th>\n",
       "      <td>2020-10-01</td>\n",
       "      <td>[13, 15, 15, 15, 15, 14]</td>\n",
       "      <td>14.5</td>\n",
       "    </tr>\n",
       "  </tbody>\n",
       "</table>\n",
       "</div>"
      ],
      "text/plain": [
       "         date             temperature_C  temperature_C_avg\n",
       "0  2020-09-29  [11, 12, 12, 12, 12, 13]               12.0\n",
       "1  2020-09-30  [10, 11, 13, 13, 14, 14]               12.5\n",
       "2  2020-10-01  [13, 15, 15, 15, 15, 14]               14.5"
      ]
     },
     "execution_count": 12,
     "metadata": {},
     "output_type": "execute_result"
    }
   ],
   "source": [
    "#check variation over the day... exist very much\n",
    "df_weather_h['date'] = df_weather_h['Timestamp'].map(lambda x: dt.datetime.date(x))\n",
    "df_wday = df_weather_h[df_weather_h['hour'].isin([11,12,13,14,15,16])].groupby(['date'])['temperature_C'].agg(lambda x: list(x)).reset_index()\n",
    "df_wday['temperature_C_avg'] = df_wday['temperature_C'].map(lambda x: np.mean(x))\n",
    "df_wday.head(3)"
   ]
  },
  {
   "cell_type": "code",
   "execution_count": 13,
   "metadata": {},
   "outputs": [
    {
     "name": "stderr",
     "output_type": "stream",
     "text": [
      "C:\\Users\\camil\\anaconda3\\lib\\site-packages\\ipykernel\\ipkernel.py:283: DeprecationWarning: `should_run_async` will not call `transform_cell` automatically in the future. Please pass the result to `transformed_cell` argument and any exception that happen during thetransform in `preprocessing_exc_tuple` in IPython 7.17 and above.\n",
      "  and should_run_async(code)\n"
     ]
    },
    {
     "name": "stdout",
     "output_type": "stream",
     "text": [
      "(5361, 64)\n",
      "(5361, 67)\n"
     ]
    },
    {
     "data": {
      "text/html": [
       "<div>\n",
       "<style scoped>\n",
       "    .dataframe tbody tr th:only-of-type {\n",
       "        vertical-align: middle;\n",
       "    }\n",
       "\n",
       "    .dataframe tbody tr th {\n",
       "        vertical-align: top;\n",
       "    }\n",
       "\n",
       "    .dataframe thead th {\n",
       "        text-align: right;\n",
       "    }\n",
       "</style>\n",
       "<table border=\"1\" class=\"dataframe\">\n",
       "  <thead>\n",
       "    <tr style=\"text-align: right;\">\n",
       "      <th></th>\n",
       "      <th>HenID</th>\n",
       "      <th>PenID</th>\n",
       "      <th>CLASS</th>\n",
       "      <th>TagID</th>\n",
       "      <th>FocalLegringName</th>\n",
       "      <th>R-Pen</th>\n",
       "      <th>InitialStartDate</th>\n",
       "      <th>Treatment</th>\n",
       "      <th>level</th>\n",
       "      <th>DIB</th>\n",
       "      <th>...</th>\n",
       "      <th>empproba_4_Zone</th>\n",
       "      <th>empproba_2_Zone</th>\n",
       "      <th>in_WG_15mnAfterOpening</th>\n",
       "      <th>Max_duration_WG_h</th>\n",
       "      <th>perc_1_Zone_while_WG_open</th>\n",
       "      <th>SleepingHeight</th>\n",
       "      <th>WIB_HenID</th>\n",
       "      <th>date</th>\n",
       "      <th>temperature_C</th>\n",
       "      <th>temperature_C_avg</th>\n",
       "    </tr>\n",
       "  </thead>\n",
       "  <tbody>\n",
       "    <tr>\n",
       "      <th>0</th>\n",
       "      <td>hen_131</td>\n",
       "      <td>pen10</td>\n",
       "      <td>EPI</td>\n",
       "      <td>tag_128</td>\n",
       "      <td>19black</td>\n",
       "      <td>4.0</td>\n",
       "      <td>2020-06-10 00:00:00</td>\n",
       "      <td>TRAN</td>\n",
       "      <td>2020-10-10</td>\n",
       "      <td>11</td>\n",
       "      <td>...</td>\n",
       "      <td>66.666667</td>\n",
       "      <td>100.0</td>\n",
       "      <td>False</td>\n",
       "      <td>0.0</td>\n",
       "      <td>0.0</td>\n",
       "      <td>5</td>\n",
       "      <td>2_hen_131</td>\n",
       "      <td>2020-10-10</td>\n",
       "      <td>[11, 11, 12, 12, 11, 12]</td>\n",
       "      <td>11.500000</td>\n",
       "    </tr>\n",
       "    <tr>\n",
       "      <th>1</th>\n",
       "      <td>hen_131</td>\n",
       "      <td>pen10</td>\n",
       "      <td>EPI</td>\n",
       "      <td>tag_128</td>\n",
       "      <td>19black</td>\n",
       "      <td>4.0</td>\n",
       "      <td>2020-06-10 00:00:00</td>\n",
       "      <td>TRAN</td>\n",
       "      <td>2020-10-11</td>\n",
       "      <td>12</td>\n",
       "      <td>...</td>\n",
       "      <td>0.000000</td>\n",
       "      <td>100.0</td>\n",
       "      <td>False</td>\n",
       "      <td>0.0</td>\n",
       "      <td>0.0</td>\n",
       "      <td>5</td>\n",
       "      <td>2_hen_131</td>\n",
       "      <td>2020-10-11</td>\n",
       "      <td>[10, 9, 11, 11, 10, 10]</td>\n",
       "      <td>10.166667</td>\n",
       "    </tr>\n",
       "  </tbody>\n",
       "</table>\n",
       "<p>2 rows × 67 columns</p>\n",
       "</div>"
      ],
      "text/plain": [
       "     HenID  PenID CLASS    TagID FocalLegringName  R-Pen     InitialStartDate  \\\n",
       "0  hen_131  pen10   EPI  tag_128          19black    4.0  2020-06-10 00:00:00   \n",
       "1  hen_131  pen10   EPI  tag_128          19black    4.0  2020-06-10 00:00:00   \n",
       "\n",
       "  Treatment      level  DIB  ...  empproba_4_Zone  empproba_2_Zone  \\\n",
       "0      TRAN 2020-10-10   11  ...        66.666667            100.0   \n",
       "1      TRAN 2020-10-11   12  ...         0.000000            100.0   \n",
       "\n",
       "   in_WG_15mnAfterOpening  Max_duration_WG_h perc_1_Zone_while_WG_open  \\\n",
       "0                   False                0.0                       0.0   \n",
       "1                   False                0.0                       0.0   \n",
       "\n",
       "   SleepingHeight  WIB_HenID        date             temperature_C  \\\n",
       "0               5  2_hen_131  2020-10-10  [11, 11, 12, 12, 11, 12]   \n",
       "1               5  2_hen_131  2020-10-11   [10, 9, 11, 11, 10, 10]   \n",
       "\n",
       "   temperature_C_avg  \n",
       "0          11.500000  \n",
       "1          10.166667  \n",
       "\n",
       "[2 rows x 67 columns]"
      ]
     },
     "execution_count": 13,
     "metadata": {},
     "output_type": "execute_result"
    }
   ],
   "source": [
    "print(df_MVT_ALL.shape)\n",
    "df_MVT_ALL['date'] = df_MVT_ALL['level'].map(lambda x: dt.datetime.date(x))\n",
    "df_MVT_ALL= pd.merge(df_MVT_ALL, df_wday, on='date', how='left')\n",
    "print(df_MVT_ALL.shape)\n",
    "df_MVT_ALL.head(2)"
   ]
  },
  {
   "cell_type": "markdown",
   "metadata": {},
   "source": [
    "### initial conditions"
   ]
  },
  {
   "cell_type": "code",
   "execution_count": 14,
   "metadata": {},
   "outputs": [
    {
     "name": "stderr",
     "output_type": "stream",
     "text": [
      "C:\\Users\\camil\\anaconda3\\lib\\site-packages\\ipykernel\\ipkernel.py:283: DeprecationWarning: `should_run_async` will not call `transform_cell` automatically in the future. Please pass the result to `transformed_cell` argument and any exception that happen during thetransform in `preprocessing_exc_tuple` in IPython 7.17 and above.\n",
      "  and should_run_async(code)\n"
     ]
    },
    {
     "data": {
      "text/html": [
       "<div>\n",
       "<style scoped>\n",
       "    .dataframe tbody tr th:only-of-type {\n",
       "        vertical-align: middle;\n",
       "    }\n",
       "\n",
       "    .dataframe tbody tr th {\n",
       "        vertical-align: top;\n",
       "    }\n",
       "\n",
       "    .dataframe thead th {\n",
       "        text-align: right;\n",
       "    }\n",
       "</style>\n",
       "<table border=\"1\" class=\"dataframe\">\n",
       "  <thead>\n",
       "    <tr style=\"text-align: right;\">\n",
       "      <th></th>\n",
       "      <th>HenID</th>\n",
       "      <th>early_death</th>\n",
       "      <th>RearingPenID</th>\n",
       "      <th>InitialWeight</th>\n",
       "    </tr>\n",
       "  </thead>\n",
       "  <tbody>\n",
       "    <tr>\n",
       "      <th>0</th>\n",
       "      <td>hen_1</td>\n",
       "      <td>0.0</td>\n",
       "      <td>1.0</td>\n",
       "      <td>1134.0</td>\n",
       "    </tr>\n",
       "    <tr>\n",
       "      <th>1</th>\n",
       "      <td>hen_10</td>\n",
       "      <td>0.0</td>\n",
       "      <td>1.0</td>\n",
       "      <td>1070.0</td>\n",
       "    </tr>\n",
       "    <tr>\n",
       "      <th>2</th>\n",
       "      <td>hen_100</td>\n",
       "      <td>0.0</td>\n",
       "      <td>3.0</td>\n",
       "      <td>1182.0</td>\n",
       "    </tr>\n",
       "  </tbody>\n",
       "</table>\n",
       "</div>"
      ],
      "text/plain": [
       "     HenID  early_death  RearingPenID  InitialWeight\n",
       "0    hen_1          0.0           1.0         1134.0\n",
       "1   hen_10          0.0           1.0         1070.0\n",
       "2  hen_100          0.0           3.0         1182.0"
      ]
     },
     "execution_count": 14,
     "metadata": {},
     "output_type": "execute_result"
    }
   ],
   "source": [
    "df_FB[['HenID','early_death','RearingPenID','InitialWeight']].head(3)"
   ]
  },
  {
   "cell_type": "code",
   "execution_count": 15,
   "metadata": {},
   "outputs": [
    {
     "name": "stdout",
     "output_type": "stream",
     "text": [
      "(5361, 67)\n",
      "(5361, 70)\n"
     ]
    },
    {
     "name": "stderr",
     "output_type": "stream",
     "text": [
      "C:\\Users\\camil\\anaconda3\\lib\\site-packages\\ipykernel\\ipkernel.py:283: DeprecationWarning: `should_run_async` will not call `transform_cell` automatically in the future. Please pass the result to `transformed_cell` argument and any exception that happen during thetransform in `preprocessing_exc_tuple` in IPython 7.17 and above.\n",
      "  and should_run_async(code)\n"
     ]
    },
    {
     "data": {
      "text/html": [
       "<div>\n",
       "<style scoped>\n",
       "    .dataframe tbody tr th:only-of-type {\n",
       "        vertical-align: middle;\n",
       "    }\n",
       "\n",
       "    .dataframe tbody tr th {\n",
       "        vertical-align: top;\n",
       "    }\n",
       "\n",
       "    .dataframe thead th {\n",
       "        text-align: right;\n",
       "    }\n",
       "</style>\n",
       "<table border=\"1\" class=\"dataframe\">\n",
       "  <thead>\n",
       "    <tr style=\"text-align: right;\">\n",
       "      <th></th>\n",
       "      <th>HenID</th>\n",
       "      <th>PenID</th>\n",
       "      <th>CLASS</th>\n",
       "      <th>TagID</th>\n",
       "      <th>FocalLegringName</th>\n",
       "      <th>R-Pen</th>\n",
       "      <th>InitialStartDate</th>\n",
       "      <th>Treatment</th>\n",
       "      <th>level</th>\n",
       "      <th>DIB</th>\n",
       "      <th>...</th>\n",
       "      <th>Max_duration_WG_h</th>\n",
       "      <th>perc_1_Zone_while_WG_open</th>\n",
       "      <th>SleepingHeight</th>\n",
       "      <th>WIB_HenID</th>\n",
       "      <th>date</th>\n",
       "      <th>temperature_C</th>\n",
       "      <th>temperature_C_avg</th>\n",
       "      <th>early_death</th>\n",
       "      <th>RearingPenID</th>\n",
       "      <th>InitialWeight</th>\n",
       "    </tr>\n",
       "  </thead>\n",
       "  <tbody>\n",
       "    <tr>\n",
       "      <th>0</th>\n",
       "      <td>hen_131</td>\n",
       "      <td>pen10</td>\n",
       "      <td>EPI</td>\n",
       "      <td>tag_128</td>\n",
       "      <td>19black</td>\n",
       "      <td>4.0</td>\n",
       "      <td>2020-06-10 00:00:00</td>\n",
       "      <td>TRAN</td>\n",
       "      <td>2020-10-10</td>\n",
       "      <td>11</td>\n",
       "      <td>...</td>\n",
       "      <td>0.0</td>\n",
       "      <td>0.0</td>\n",
       "      <td>5</td>\n",
       "      <td>2_hen_131</td>\n",
       "      <td>2020-10-10</td>\n",
       "      <td>[11, 11, 12, 12, 11, 12]</td>\n",
       "      <td>11.500000</td>\n",
       "      <td>0.0</td>\n",
       "      <td>4.0</td>\n",
       "      <td>1202.0</td>\n",
       "    </tr>\n",
       "    <tr>\n",
       "      <th>1</th>\n",
       "      <td>hen_131</td>\n",
       "      <td>pen10</td>\n",
       "      <td>EPI</td>\n",
       "      <td>tag_128</td>\n",
       "      <td>19black</td>\n",
       "      <td>4.0</td>\n",
       "      <td>2020-06-10 00:00:00</td>\n",
       "      <td>TRAN</td>\n",
       "      <td>2020-10-11</td>\n",
       "      <td>12</td>\n",
       "      <td>...</td>\n",
       "      <td>0.0</td>\n",
       "      <td>0.0</td>\n",
       "      <td>5</td>\n",
       "      <td>2_hen_131</td>\n",
       "      <td>2020-10-11</td>\n",
       "      <td>[10, 9, 11, 11, 10, 10]</td>\n",
       "      <td>10.166667</td>\n",
       "      <td>0.0</td>\n",
       "      <td>4.0</td>\n",
       "      <td>1202.0</td>\n",
       "    </tr>\n",
       "  </tbody>\n",
       "</table>\n",
       "<p>2 rows × 70 columns</p>\n",
       "</div>"
      ],
      "text/plain": [
       "     HenID  PenID CLASS    TagID FocalLegringName  R-Pen     InitialStartDate  \\\n",
       "0  hen_131  pen10   EPI  tag_128          19black    4.0  2020-06-10 00:00:00   \n",
       "1  hen_131  pen10   EPI  tag_128          19black    4.0  2020-06-10 00:00:00   \n",
       "\n",
       "  Treatment      level  DIB  ...  Max_duration_WG_h  \\\n",
       "0      TRAN 2020-10-10   11  ...                0.0   \n",
       "1      TRAN 2020-10-11   12  ...                0.0   \n",
       "\n",
       "   perc_1_Zone_while_WG_open  SleepingHeight  WIB_HenID        date  \\\n",
       "0                        0.0               5  2_hen_131  2020-10-10   \n",
       "1                        0.0               5  2_hen_131  2020-10-11   \n",
       "\n",
       "              temperature_C  temperature_C_avg  early_death  RearingPenID  \\\n",
       "0  [11, 11, 12, 12, 11, 12]          11.500000          0.0           4.0   \n",
       "1   [10, 9, 11, 11, 10, 10]          10.166667          0.0           4.0   \n",
       "\n",
       "   InitialWeight  \n",
       "0         1202.0  \n",
       "1         1202.0  \n",
       "\n",
       "[2 rows x 70 columns]"
      ]
     },
     "execution_count": 15,
     "metadata": {},
     "output_type": "execute_result"
    }
   ],
   "source": [
    "print(df_MVT_ALL.shape)\n",
    "df_MVT_ALL = pd.merge(df_MVT_ALL, df_FB[['HenID','early_death','RearingPenID','InitialWeight']], on='HenID', how='left')\n",
    "print(df_MVT_ALL.shape)\n",
    "df_MVT_ALL.head(2)"
   ]
  },
  {
   "cell_type": "markdown",
   "metadata": {},
   "source": [
    "### class"
   ]
  },
  {
   "cell_type": "code",
   "execution_count": 16,
   "metadata": {},
   "outputs": [
    {
     "name": "stderr",
     "output_type": "stream",
     "text": [
      "C:\\Users\\camil\\anaconda3\\lib\\site-packages\\ipykernel\\ipkernel.py:283: DeprecationWarning: `should_run_async` will not call `transform_cell` automatically in the future. Please pass the result to `transformed_cell` argument and any exception that happen during thetransform in `preprocessing_exc_tuple` in IPython 7.17 and above.\n",
      "  and should_run_async(code)\n"
     ]
    },
    {
     "data": {
      "text/plain": [
       "Other    2795\n",
       "MEXP     1441\n",
       "LEXP     1125\n",
       "Name: CLASS, dtype: int64"
      ]
     },
     "execution_count": 16,
     "metadata": {},
     "output_type": "execute_result"
    }
   ],
   "source": [
    "dico_cl = {'EPI':'Other','MEXP':'MEXP','LEXP':'LEXP','LEXPLOST':'Other','MEXPLOST':'Other'}\n",
    "df_MVT_ALL['CLASS'] = df_MVT_ALL['CLASS'].map(lambda x: dico_cl[x])\n",
    "df_MVT_ALL['CLASS'].value_counts()"
   ]
  },
  {
   "cell_type": "markdown",
   "metadata": {},
   "source": [
    "# PCA on first obs. / week / ind"
   ]
  },
  {
   "cell_type": "code",
   "execution_count": 17,
   "metadata": {},
   "outputs": [
    {
     "name": "stderr",
     "output_type": "stream",
     "text": [
      "C:\\Users\\camil\\anaconda3\\lib\\site-packages\\ipykernel\\ipkernel.py:283: DeprecationWarning: `should_run_async` will not call `transform_cell` automatically in the future. Please pass the result to `transformed_cell` argument and any exception that happen during thetransform in `preprocessing_exc_tuple` in IPython 7.17 and above.\n",
      "  and should_run_async(code)\n"
     ]
    },
    {
     "data": {
      "text/html": [
       "<div>\n",
       "<style scoped>\n",
       "    .dataframe tbody tr th:only-of-type {\n",
       "        vertical-align: middle;\n",
       "    }\n",
       "\n",
       "    .dataframe tbody tr th {\n",
       "        vertical-align: top;\n",
       "    }\n",
       "\n",
       "    .dataframe thead th {\n",
       "        text-align: right;\n",
       "    }\n",
       "</style>\n",
       "<table border=\"1\" class=\"dataframe\">\n",
       "  <thead>\n",
       "    <tr style=\"text-align: right;\">\n",
       "      <th></th>\n",
       "      <th>WIB</th>\n",
       "      <th>HenID</th>\n",
       "      <th>RPen</th>\n",
       "      <th>DIB</th>\n",
       "      <th>CLASS</th>\n",
       "      <th>TrackingSystemID</th>\n",
       "      <th>PenID</th>\n",
       "      <th>temperature_C_avg</th>\n",
       "      <th>early_death</th>\n",
       "      <th>RearingPenID</th>\n",
       "      <th>...</th>\n",
       "      <th>scale_perc_1_Zone_while_WG_open</th>\n",
       "      <th>scale_nbr_stays_2_Zone_perh</th>\n",
       "      <th>scale_nbr_stays_4_Zone_perh</th>\n",
       "      <th>scale_nbr_stays_3_Zone_perh</th>\n",
       "      <th>scale_nbr_stays_5_Zone_perh</th>\n",
       "      <th>scale_nbr_stays_1_Zone_perh</th>\n",
       "      <th>scale_in_WG_15mnAfterOpening</th>\n",
       "      <th>scale_distribution_entropy</th>\n",
       "      <th>scale_SleepingHeight</th>\n",
       "      <th>scale_vertical_travel_distance_perh</th>\n",
       "    </tr>\n",
       "  </thead>\n",
       "  <tbody>\n",
       "    <tr>\n",
       "      <th>0</th>\n",
       "      <td>2</td>\n",
       "      <td>hen_131</td>\n",
       "      <td>4.0</td>\n",
       "      <td>11</td>\n",
       "      <td>Other</td>\n",
       "      <td>TrackingSystem 10-12</td>\n",
       "      <td>pen10</td>\n",
       "      <td>11.500000</td>\n",
       "      <td>0.0</td>\n",
       "      <td>4.0</td>\n",
       "      <td>...</td>\n",
       "      <td>-0.638797</td>\n",
       "      <td>-0.283745</td>\n",
       "      <td>-0.536667</td>\n",
       "      <td>-0.392895</td>\n",
       "      <td>-0.428308</td>\n",
       "      <td>-0.757457</td>\n",
       "      <td>-0.518532</td>\n",
       "      <td>-0.613642</td>\n",
       "      <td>0.609310</td>\n",
       "      <td>-0.568252</td>\n",
       "    </tr>\n",
       "    <tr>\n",
       "      <th>1</th>\n",
       "      <td>2</td>\n",
       "      <td>hen_131</td>\n",
       "      <td>4.0</td>\n",
       "      <td>12</td>\n",
       "      <td>Other</td>\n",
       "      <td>TrackingSystem 10-12</td>\n",
       "      <td>pen10</td>\n",
       "      <td>10.166667</td>\n",
       "      <td>0.0</td>\n",
       "      <td>4.0</td>\n",
       "      <td>...</td>\n",
       "      <td>-0.638797</td>\n",
       "      <td>-0.283745</td>\n",
       "      <td>-0.893687</td>\n",
       "      <td>-0.392895</td>\n",
       "      <td>-1.052256</td>\n",
       "      <td>-0.757457</td>\n",
       "      <td>-0.518532</td>\n",
       "      <td>-0.659132</td>\n",
       "      <td>0.609310</td>\n",
       "      <td>-0.772789</td>\n",
       "    </tr>\n",
       "    <tr>\n",
       "      <th>2</th>\n",
       "      <td>2</td>\n",
       "      <td>hen_131</td>\n",
       "      <td>4.0</td>\n",
       "      <td>13</td>\n",
       "      <td>Other</td>\n",
       "      <td>TrackingSystem 10-12</td>\n",
       "      <td>pen10</td>\n",
       "      <td>9.000000</td>\n",
       "      <td>0.0</td>\n",
       "      <td>4.0</td>\n",
       "      <td>...</td>\n",
       "      <td>-0.638797</td>\n",
       "      <td>-0.662139</td>\n",
       "      <td>-0.358157</td>\n",
       "      <td>-0.637775</td>\n",
       "      <td>-0.116333</td>\n",
       "      <td>-0.757457</td>\n",
       "      <td>-0.518532</td>\n",
       "      <td>0.483292</td>\n",
       "      <td>-1.933712</td>\n",
       "      <td>-0.619387</td>\n",
       "    </tr>\n",
       "  </tbody>\n",
       "</table>\n",
       "<p>3 rows × 40 columns</p>\n",
       "</div>"
      ],
      "text/plain": [
       "   WIB    HenID  RPen  DIB  CLASS      TrackingSystemID  PenID  \\\n",
       "0    2  hen_131   4.0   11  Other  TrackingSystem 10-12  pen10   \n",
       "1    2  hen_131   4.0   12  Other  TrackingSystem 10-12  pen10   \n",
       "2    2  hen_131   4.0   13  Other  TrackingSystem 10-12  pen10   \n",
       "\n",
       "   temperature_C_avg  early_death  RearingPenID  ...  \\\n",
       "0          11.500000          0.0           4.0  ...   \n",
       "1          10.166667          0.0           4.0  ...   \n",
       "2           9.000000          0.0           4.0  ...   \n",
       "\n",
       "   scale_perc_1_Zone_while_WG_open scale_nbr_stays_2_Zone_perh  \\\n",
       "0                        -0.638797                   -0.283745   \n",
       "1                        -0.638797                   -0.283745   \n",
       "2                        -0.638797                   -0.662139   \n",
       "\n",
       "   scale_nbr_stays_4_Zone_perh  scale_nbr_stays_3_Zone_perh  \\\n",
       "0                    -0.536667                    -0.392895   \n",
       "1                    -0.893687                    -0.392895   \n",
       "2                    -0.358157                    -0.637775   \n",
       "\n",
       "   scale_nbr_stays_5_Zone_perh  scale_nbr_stays_1_Zone_perh  \\\n",
       "0                    -0.428308                    -0.757457   \n",
       "1                    -1.052256                    -0.757457   \n",
       "2                    -0.116333                    -0.757457   \n",
       "\n",
       "   scale_in_WG_15mnAfterOpening  scale_distribution_entropy  \\\n",
       "0                     -0.518532                   -0.613642   \n",
       "1                     -0.518532                   -0.659132   \n",
       "2                     -0.518532                    0.483292   \n",
       "\n",
       "   scale_SleepingHeight  scale_vertical_travel_distance_perh  \n",
       "0              0.609310                            -0.568252  \n",
       "1              0.609310                            -0.772789  \n",
       "2             -1.933712                            -0.619387  \n",
       "\n",
       "[3 rows x 40 columns]"
      ]
     },
     "execution_count": 17,
     "metadata": {},
     "output_type": "execute_result"
    }
   ],
   "source": [
    "#preprocessing: normalisation\n",
    "#reduce to what we need and add normalized data (keeping both)\n",
    "#without WG as not existing in week 1\n",
    "li_var = ['perc_duration_5_Zone', 'perc_duration_4_Zone','perc_duration_3_Zone', 'perc_duration_2_Zone','perc_1_Zone_while_WG_open',\n",
    "          'nbr_stays_2_Zone_perh', 'nbr_stays_4_Zone_perh','nbr_stays_3_Zone_perh', 'nbr_stays_5_Zone_perh','nbr_stays_1_Zone_perh',\n",
    "          'in_WG_15mnAfterOpening','distribution_entropy', 'SleepingHeight','vertical_travel_distance_perh']\n",
    "li_pca = ['scale_'+i for i in li_var]\n",
    "df_MVT_ALL[li_pca] = preprocessing.scale(df_MVT_ALL[li_var])\n",
    "df_MVT_ALL.rename(columns={'R-Pen':'RPen'}, inplace=True)\n",
    "df_MVT = df_MVT_ALL[['WIB','HenID','RPen', 'DIB','CLASS','TrackingSystemID','PenID','temperature_C_avg',\n",
    "                     'early_death','RearingPenID','InitialWeight','Treatment']+li_var+li_pca].copy()\n",
    "df_MVT.head(3)"
   ]
  },
  {
   "cell_type": "code",
   "execution_count": 18,
   "metadata": {},
   "outputs": [
    {
     "name": "stderr",
     "output_type": "stream",
     "text": [
      "C:\\Users\\camil\\anaconda3\\lib\\site-packages\\ipykernel\\ipkernel.py:283: DeprecationWarning: `should_run_async` will not call `transform_cell` automatically in the future. Please pass the result to `transformed_cell` argument and any exception that happen during thetransform in `preprocessing_exc_tuple` in IPython 7.17 and above.\n",
      "  and should_run_async(code)\n"
     ]
    },
    {
     "data": {
      "text/html": [
       "<div>\n",
       "<style scoped>\n",
       "    .dataframe tbody tr th:only-of-type {\n",
       "        vertical-align: middle;\n",
       "    }\n",
       "\n",
       "    .dataframe tbody tr th {\n",
       "        vertical-align: top;\n",
       "    }\n",
       "\n",
       "    .dataframe thead th {\n",
       "        text-align: right;\n",
       "    }\n",
       "</style>\n",
       "<table border=\"1\" class=\"dataframe\">\n",
       "  <thead>\n",
       "    <tr style=\"text-align: right;\">\n",
       "      <th></th>\n",
       "      <th>scale_perc_duration_5_Zone</th>\n",
       "      <th>scale_perc_duration_4_Zone</th>\n",
       "      <th>scale_perc_duration_3_Zone</th>\n",
       "      <th>scale_perc_duration_2_Zone</th>\n",
       "      <th>scale_perc_1_Zone_while_WG_open</th>\n",
       "      <th>scale_nbr_stays_2_Zone_perh</th>\n",
       "      <th>scale_nbr_stays_4_Zone_perh</th>\n",
       "      <th>scale_nbr_stays_3_Zone_perh</th>\n",
       "      <th>scale_nbr_stays_5_Zone_perh</th>\n",
       "      <th>scale_nbr_stays_1_Zone_perh</th>\n",
       "      <th>scale_in_WG_15mnAfterOpening</th>\n",
       "      <th>scale_distribution_entropy</th>\n",
       "      <th>scale_SleepingHeight</th>\n",
       "      <th>scale_vertical_travel_distance_perh</th>\n",
       "      <th>component_importance</th>\n",
       "      <th>explained variance</th>\n",
       "    </tr>\n",
       "  </thead>\n",
       "  <tbody>\n",
       "    <tr>\n",
       "      <th>0</th>\n",
       "      <td>-0.380645</td>\n",
       "      <td>0.140012</td>\n",
       "      <td>0.294088</td>\n",
       "      <td>0.294607</td>\n",
       "      <td>0.134515</td>\n",
       "      <td>0.344541</td>\n",
       "      <td>0.200523</td>\n",
       "      <td>0.371119</td>\n",
       "      <td>0.102960</td>\n",
       "      <td>0.180729</td>\n",
       "      <td>0.133863</td>\n",
       "      <td>0.372238</td>\n",
       "      <td>-0.127458</td>\n",
       "      <td>0.362619</td>\n",
       "      <td>0.429380</td>\n",
       "      <td>6.172734</td>\n",
       "    </tr>\n",
       "    <tr>\n",
       "      <th>1</th>\n",
       "      <td>0.155374</td>\n",
       "      <td>0.503956</td>\n",
       "      <td>-0.179736</td>\n",
       "      <td>-0.279740</td>\n",
       "      <td>-0.110979</td>\n",
       "      <td>-0.186119</td>\n",
       "      <td>0.484116</td>\n",
       "      <td>0.018533</td>\n",
       "      <td>0.483911</td>\n",
       "      <td>-0.134636</td>\n",
       "      <td>-0.116878</td>\n",
       "      <td>0.095877</td>\n",
       "      <td>0.130902</td>\n",
       "      <td>0.193325</td>\n",
       "      <td>0.184434</td>\n",
       "      <td>2.651407</td>\n",
       "    </tr>\n",
       "  </tbody>\n",
       "</table>\n",
       "</div>"
      ],
      "text/plain": [
       "   scale_perc_duration_5_Zone  scale_perc_duration_4_Zone  \\\n",
       "0                   -0.380645                    0.140012   \n",
       "1                    0.155374                    0.503956   \n",
       "\n",
       "   scale_perc_duration_3_Zone  scale_perc_duration_2_Zone  \\\n",
       "0                    0.294088                    0.294607   \n",
       "1                   -0.179736                   -0.279740   \n",
       "\n",
       "   scale_perc_1_Zone_while_WG_open  scale_nbr_stays_2_Zone_perh  \\\n",
       "0                         0.134515                     0.344541   \n",
       "1                        -0.110979                    -0.186119   \n",
       "\n",
       "   scale_nbr_stays_4_Zone_perh  scale_nbr_stays_3_Zone_perh  \\\n",
       "0                     0.200523                     0.371119   \n",
       "1                     0.484116                     0.018533   \n",
       "\n",
       "   scale_nbr_stays_5_Zone_perh  scale_nbr_stays_1_Zone_perh  \\\n",
       "0                     0.102960                     0.180729   \n",
       "1                     0.483911                    -0.134636   \n",
       "\n",
       "   scale_in_WG_15mnAfterOpening  scale_distribution_entropy  \\\n",
       "0                      0.133863                    0.372238   \n",
       "1                     -0.116878                    0.095877   \n",
       "\n",
       "   scale_SleepingHeight  scale_vertical_travel_distance_perh  \\\n",
       "0             -0.127458                             0.362619   \n",
       "1              0.130902                             0.193325   \n",
       "\n",
       "   component_importance  explained variance  \n",
       "0              0.429380            6.172734  \n",
       "1              0.184434            2.651407  "
      ]
     },
     "execution_count": 18,
     "metadata": {},
     "output_type": "execute_result"
    }
   ],
   "source": [
    "#df to do PCA on first observation per week per bird \n",
    "df_pca = df_MVT.groupby(['WIB','HenID'])[li_pca].agg(lambda x: list(x)[0]).reset_index()\n",
    "df_pca.head(3)\n",
    "\n",
    "#PCA with two components\n",
    "#NOT WORKING: use https://pypi.org/project/advanced-pca/ #with orthogonal rotation, so I would need to do it in R if I want this\n",
    "#After the number of components has been determined, and in order to facilitate the interpretation, the analysis often involves \n",
    "#a rotation of the components that were retained [see, e.g., Ref 40 and 67, for more details]. \n",
    "#--> I retain only one so dont really care?\n",
    "pca = PCA(n_components=2)\n",
    "X = df_pca[li_pca]\n",
    "pca.fit(X)\n",
    "\n",
    "#eigenvectores (direction): pca.components_ has shape [n_components, n_features]\n",
    "#eigenvalues (=variance in the direction of the eigenvector): pca.explained_variance_\n",
    "#An eigenvalue less than 1 means that the PC explains less than a single original variable explained\n",
    "df_pca_res = pd.DataFrame(pca.components_, columns=li_pca)\n",
    "df_pca_res['component_importance'] = pca.explained_variance_ratio_\n",
    "df_pca_res['explained variance'] = pca.explained_variance_\n",
    "df_pca_res"
   ]
  },
  {
   "cell_type": "code",
   "execution_count": 19,
   "metadata": {},
   "outputs": [
    {
     "name": "stderr",
     "output_type": "stream",
     "text": [
      "C:\\Users\\camil\\anaconda3\\lib\\site-packages\\ipykernel\\ipkernel.py:283: DeprecationWarning: `should_run_async` will not call `transform_cell` automatically in the future. Please pass the result to `transformed_cell` argument and any exception that happen during thetransform in `preprocessing_exc_tuple` in IPython 7.17 and above.\n",
      "  and should_run_async(code)\n"
     ]
    },
    {
     "data": {
      "text/plain": [
       "array([75.64472489, 49.57675586])"
      ]
     },
     "execution_count": 19,
     "metadata": {},
     "output_type": "execute_result"
    }
   ],
   "source": [
    "pca.singular_values_"
   ]
  },
  {
   "cell_type": "code",
   "execution_count": 20,
   "metadata": {},
   "outputs": [
    {
     "name": "stderr",
     "output_type": "stream",
     "text": [
      "C:\\Users\\camil\\anaconda3\\lib\\site-packages\\ipykernel\\ipkernel.py:283: DeprecationWarning: `should_run_async` will not call `transform_cell` automatically in the future. Please pass the result to `transformed_cell` argument and any exception that happen during thetransform in `preprocessing_exc_tuple` in IPython 7.17 and above.\n",
      "  and should_run_async(code)\n"
     ]
    },
    {
     "data": {
      "text/plain": [
       "0.9486832980505138"
      ]
     },
     "execution_count": 20,
     "metadata": {},
     "output_type": "execute_result"
    }
   ],
   "source": [
    "np.sqrt(0.9)"
   ]
  },
  {
   "cell_type": "code",
   "execution_count": 21,
   "metadata": {},
   "outputs": [
    {
     "name": "stderr",
     "output_type": "stream",
     "text": [
      "C:\\Users\\camil\\anaconda3\\lib\\site-packages\\ipykernel\\ipkernel.py:283: DeprecationWarning: `should_run_async` will not call `transform_cell` automatically in the future. Please pass the result to `transformed_cell` argument and any exception that happen during thetransform in `preprocessing_exc_tuple` in IPython 7.17 and above.\n",
      "  and should_run_async(code)\n"
     ]
    },
    {
     "data": {
      "text/plain": [
       "array([6.17273399, 2.65140747])"
      ]
     },
     "execution_count": 21,
     "metadata": {},
     "output_type": "execute_result"
    }
   ],
   "source": [
    "pca.explained_variance_"
   ]
  },
  {
   "cell_type": "code",
   "execution_count": 22,
   "metadata": {},
   "outputs": [
    {
     "name": "stderr",
     "output_type": "stream",
     "text": [
      "C:\\Users\\camil\\anaconda3\\lib\\site-packages\\ipykernel\\ipkernel.py:283: DeprecationWarning: `should_run_async` will not call `transform_cell` automatically in the future. Please pass the result to `transformed_cell` argument and any exception that happen during thetransform in `preprocessing_exc_tuple` in IPython 7.17 and above.\n",
      "  and should_run_async(code)\n"
     ]
    },
    {
     "data": {
      "text/html": [
       "<div>\n",
       "<style scoped>\n",
       "    .dataframe tbody tr th:only-of-type {\n",
       "        vertical-align: middle;\n",
       "    }\n",
       "\n",
       "    .dataframe tbody tr th {\n",
       "        vertical-align: top;\n",
       "    }\n",
       "\n",
       "    .dataframe thead th {\n",
       "        text-align: right;\n",
       "    }\n",
       "</style>\n",
       "<table border=\"1\" class=\"dataframe\">\n",
       "  <thead>\n",
       "    <tr style=\"text-align: right;\">\n",
       "      <th></th>\n",
       "      <th>PC1</th>\n",
       "      <th>PC2</th>\n",
       "    </tr>\n",
       "  </thead>\n",
       "  <tbody>\n",
       "    <tr>\n",
       "      <th>scale_perc_duration_5_Zone</th>\n",
       "      <td>-0.945712</td>\n",
       "      <td>0.252997</td>\n",
       "    </tr>\n",
       "    <tr>\n",
       "      <th>scale_perc_duration_4_Zone</th>\n",
       "      <td>0.347859</td>\n",
       "      <td>0.820599</td>\n",
       "    </tr>\n",
       "    <tr>\n",
       "      <th>scale_perc_duration_3_Zone</th>\n",
       "      <td>0.730662</td>\n",
       "      <td>-0.292667</td>\n",
       "    </tr>\n",
       "    <tr>\n",
       "      <th>scale_perc_duration_2_Zone</th>\n",
       "      <td>0.731951</td>\n",
       "      <td>-0.455505</td>\n",
       "    </tr>\n",
       "    <tr>\n",
       "      <th>scale_perc_1_Zone_while_WG_open</th>\n",
       "      <td>0.334202</td>\n",
       "      <td>-0.180709</td>\n",
       "    </tr>\n",
       "    <tr>\n",
       "      <th>scale_nbr_stays_2_Zone_perh</th>\n",
       "      <td>0.856011</td>\n",
       "      <td>-0.303060</td>\n",
       "    </tr>\n",
       "    <tr>\n",
       "      <th>scale_nbr_stays_4_Zone_perh</th>\n",
       "      <td>0.498200</td>\n",
       "      <td>0.788292</td>\n",
       "    </tr>\n",
       "    <tr>\n",
       "      <th>scale_nbr_stays_3_Zone_perh</th>\n",
       "      <td>0.922046</td>\n",
       "      <td>0.030178</td>\n",
       "    </tr>\n",
       "    <tr>\n",
       "      <th>scale_nbr_stays_5_Zone_perh</th>\n",
       "      <td>0.255804</td>\n",
       "      <td>0.787959</td>\n",
       "    </tr>\n",
       "    <tr>\n",
       "      <th>scale_nbr_stays_1_Zone_perh</th>\n",
       "      <td>0.449021</td>\n",
       "      <td>-0.219229</td>\n",
       "    </tr>\n",
       "    <tr>\n",
       "      <th>scale_in_WG_15mnAfterOpening</th>\n",
       "      <td>0.332582</td>\n",
       "      <td>-0.190314</td>\n",
       "    </tr>\n",
       "    <tr>\n",
       "      <th>scale_distribution_entropy</th>\n",
       "      <td>0.924825</td>\n",
       "      <td>0.156118</td>\n",
       "    </tr>\n",
       "    <tr>\n",
       "      <th>scale_SleepingHeight</th>\n",
       "      <td>-0.316670</td>\n",
       "      <td>0.213150</td>\n",
       "    </tr>\n",
       "    <tr>\n",
       "      <th>scale_vertical_travel_distance_perh</th>\n",
       "      <td>0.900928</td>\n",
       "      <td>0.314794</td>\n",
       "    </tr>\n",
       "  </tbody>\n",
       "</table>\n",
       "</div>"
      ],
      "text/plain": [
       "                                          PC1       PC2\n",
       "scale_perc_duration_5_Zone          -0.945712  0.252997\n",
       "scale_perc_duration_4_Zone           0.347859  0.820599\n",
       "scale_perc_duration_3_Zone           0.730662 -0.292667\n",
       "scale_perc_duration_2_Zone           0.731951 -0.455505\n",
       "scale_perc_1_Zone_while_WG_open      0.334202 -0.180709\n",
       "scale_nbr_stays_2_Zone_perh          0.856011 -0.303060\n",
       "scale_nbr_stays_4_Zone_perh          0.498200  0.788292\n",
       "scale_nbr_stays_3_Zone_perh          0.922046  0.030178\n",
       "scale_nbr_stays_5_Zone_perh          0.255804  0.787959\n",
       "scale_nbr_stays_1_Zone_perh          0.449021 -0.219229\n",
       "scale_in_WG_15mnAfterOpening         0.332582 -0.190314\n",
       "scale_distribution_entropy           0.924825  0.156118\n",
       "scale_SleepingHeight                -0.316670  0.213150\n",
       "scale_vertical_travel_distance_perh  0.900928  0.314794"
      ]
     },
     "execution_count": 22,
     "metadata": {},
     "output_type": "execute_result"
    }
   ],
   "source": [
    "loadings = pca.components_.T * np.sqrt(pca.explained_variance_)\n",
    "loading_matrix = pd.DataFrame(loadings, columns=['PC1', 'PC2'], index=li_pca)\n",
    "loading_matrix"
   ]
  },
  {
   "cell_type": "code",
   "execution_count": 23,
   "metadata": {},
   "outputs": [
    {
     "name": "stderr",
     "output_type": "stream",
     "text": [
      "C:\\Users\\camil\\anaconda3\\lib\\site-packages\\ipykernel\\ipkernel.py:283: DeprecationWarning: `should_run_async` will not call `transform_cell` automatically in the future. Please pass the result to `transformed_cell` argument and any exception that happen during thetransform in `preprocessing_exc_tuple` in IPython 7.17 and above.\n",
      "  and should_run_async(code)\n"
     ]
    },
    {
     "data": {
      "text/html": [
       "<div>\n",
       "<style scoped>\n",
       "    .dataframe tbody tr th:only-of-type {\n",
       "        vertical-align: middle;\n",
       "    }\n",
       "\n",
       "    .dataframe tbody tr th {\n",
       "        vertical-align: top;\n",
       "    }\n",
       "\n",
       "    .dataframe thead th {\n",
       "        text-align: right;\n",
       "    }\n",
       "</style>\n",
       "<table border=\"1\" class=\"dataframe\">\n",
       "  <thead>\n",
       "    <tr style=\"text-align: right;\">\n",
       "      <th></th>\n",
       "      <th>WIB</th>\n",
       "      <th>HenID</th>\n",
       "      <th>RPen</th>\n",
       "      <th>DIB</th>\n",
       "      <th>CLASS</th>\n",
       "      <th>TrackingSystemID</th>\n",
       "      <th>PenID</th>\n",
       "      <th>temperature_C_avg</th>\n",
       "      <th>early_death</th>\n",
       "      <th>RearingPenID</th>\n",
       "      <th>...</th>\n",
       "      <th>scale_nbr_stays_4_Zone_perh</th>\n",
       "      <th>scale_nbr_stays_3_Zone_perh</th>\n",
       "      <th>scale_nbr_stays_5_Zone_perh</th>\n",
       "      <th>scale_nbr_stays_1_Zone_perh</th>\n",
       "      <th>scale_in_WG_15mnAfterOpening</th>\n",
       "      <th>scale_distribution_entropy</th>\n",
       "      <th>scale_SleepingHeight</th>\n",
       "      <th>scale_vertical_travel_distance_perh</th>\n",
       "      <th>tuple_PCA</th>\n",
       "      <th>PC1</th>\n",
       "    </tr>\n",
       "  </thead>\n",
       "  <tbody>\n",
       "    <tr>\n",
       "      <th>0</th>\n",
       "      <td>2</td>\n",
       "      <td>hen_131</td>\n",
       "      <td>4.0</td>\n",
       "      <td>11</td>\n",
       "      <td>Other</td>\n",
       "      <td>TrackingSystem 10-12</td>\n",
       "      <td>pen10</td>\n",
       "      <td>11.500000</td>\n",
       "      <td>0.0</td>\n",
       "      <td>4.0</td>\n",
       "      <td>...</td>\n",
       "      <td>-0.536667</td>\n",
       "      <td>-0.392895</td>\n",
       "      <td>-0.428308</td>\n",
       "      <td>-0.757457</td>\n",
       "      <td>-0.518532</td>\n",
       "      <td>-0.613642</td>\n",
       "      <td>0.609310</td>\n",
       "      <td>-0.568252</td>\n",
       "      <td>[[0.38716471580213946, -1.5718884244344025]]</td>\n",
       "      <td>0.387165</td>\n",
       "    </tr>\n",
       "    <tr>\n",
       "      <th>1</th>\n",
       "      <td>2</td>\n",
       "      <td>hen_131</td>\n",
       "      <td>4.0</td>\n",
       "      <td>12</td>\n",
       "      <td>Other</td>\n",
       "      <td>TrackingSystem 10-12</td>\n",
       "      <td>pen10</td>\n",
       "      <td>10.166667</td>\n",
       "      <td>0.0</td>\n",
       "      <td>4.0</td>\n",
       "      <td>...</td>\n",
       "      <td>-0.893687</td>\n",
       "      <td>-0.392895</td>\n",
       "      <td>-1.052256</td>\n",
       "      <td>-0.757457</td>\n",
       "      <td>-0.518532</td>\n",
       "      <td>-0.659132</td>\n",
       "      <td>0.609310</td>\n",
       "      <td>-0.772789</td>\n",
       "      <td>[[0.1300235111026137, -2.091877141221661]]</td>\n",
       "      <td>0.130024</td>\n",
       "    </tr>\n",
       "    <tr>\n",
       "      <th>2</th>\n",
       "      <td>2</td>\n",
       "      <td>hen_131</td>\n",
       "      <td>4.0</td>\n",
       "      <td>13</td>\n",
       "      <td>Other</td>\n",
       "      <td>TrackingSystem 10-12</td>\n",
       "      <td>pen10</td>\n",
       "      <td>9.000000</td>\n",
       "      <td>0.0</td>\n",
       "      <td>4.0</td>\n",
       "      <td>...</td>\n",
       "      <td>-0.358157</td>\n",
       "      <td>-0.637775</td>\n",
       "      <td>-0.116333</td>\n",
       "      <td>-0.757457</td>\n",
       "      <td>-0.518532</td>\n",
       "      <td>0.483292</td>\n",
       "      <td>-1.933712</td>\n",
       "      <td>-0.619387</td>\n",
       "      <td>[[-0.0862358089389077, -0.7074264297683686]]</td>\n",
       "      <td>-0.086236</td>\n",
       "    </tr>\n",
       "  </tbody>\n",
       "</table>\n",
       "<p>3 rows × 42 columns</p>\n",
       "</div>"
      ],
      "text/plain": [
       "   WIB    HenID  RPen  DIB  CLASS      TrackingSystemID  PenID  \\\n",
       "0    2  hen_131   4.0   11  Other  TrackingSystem 10-12  pen10   \n",
       "1    2  hen_131   4.0   12  Other  TrackingSystem 10-12  pen10   \n",
       "2    2  hen_131   4.0   13  Other  TrackingSystem 10-12  pen10   \n",
       "\n",
       "   temperature_C_avg  early_death  RearingPenID  ...  \\\n",
       "0          11.500000          0.0           4.0  ...   \n",
       "1          10.166667          0.0           4.0  ...   \n",
       "2           9.000000          0.0           4.0  ...   \n",
       "\n",
       "   scale_nbr_stays_4_Zone_perh scale_nbr_stays_3_Zone_perh  \\\n",
       "0                    -0.536667                   -0.392895   \n",
       "1                    -0.893687                   -0.392895   \n",
       "2                    -0.358157                   -0.637775   \n",
       "\n",
       "   scale_nbr_stays_5_Zone_perh  scale_nbr_stays_1_Zone_perh  \\\n",
       "0                    -0.428308                    -0.757457   \n",
       "1                    -1.052256                    -0.757457   \n",
       "2                    -0.116333                    -0.757457   \n",
       "\n",
       "   scale_in_WG_15mnAfterOpening  scale_distribution_entropy  \\\n",
       "0                     -0.518532                   -0.613642   \n",
       "1                     -0.518532                   -0.659132   \n",
       "2                     -0.518532                    0.483292   \n",
       "\n",
       "   scale_SleepingHeight  scale_vertical_travel_distance_perh  \\\n",
       "0              0.609310                            -0.568252   \n",
       "1              0.609310                            -0.772789   \n",
       "2             -1.933712                            -0.619387   \n",
       "\n",
       "                                      tuple_PCA       PC1  \n",
       "0  [[0.38716471580213946, -1.5718884244344025]]  0.387165  \n",
       "1    [[0.1300235111026137, -2.091877141221661]]  0.130024  \n",
       "2  [[-0.0862358089389077, -0.7074264297683686]] -0.086236  \n",
       "\n",
       "[3 rows x 42 columns]"
      ]
     },
     "metadata": {},
     "output_type": "display_data"
    }
   ],
   "source": [
    "#add PCA component per ind per day\n",
    "df_MVT['tuple_PCA'] = df_MVT.apply(lambda x: pca.transform(np.array([x[li_pca]])), axis=1)\n",
    "#only keep first one as explaines more than 80% of the var tot\n",
    "df_MVT['PC1'] = df_MVT['tuple_PCA'].map(lambda x: x[0][0])\n",
    "display(df_MVT.head(3))"
   ]
  },
  {
   "cell_type": "markdown",
   "metadata": {},
   "source": [
    "# Validity of PC1 - PCA on full dataset"
   ]
  },
  {
   "cell_type": "code",
   "execution_count": 25,
   "metadata": {},
   "outputs": [
    {
     "name": "stderr",
     "output_type": "stream",
     "text": [
      "C:\\Users\\camil\\anaconda3\\lib\\site-packages\\ipykernel\\ipkernel.py:283: DeprecationWarning: `should_run_async` will not call `transform_cell` automatically in the future. Please pass the result to `transformed_cell` argument and any exception that happen during thetransform in `preprocessing_exc_tuple` in IPython 7.17 and above.\n",
      "  and should_run_async(code)\n"
     ]
    },
    {
     "data": {
      "image/png": "[encoded data removed]",
      "text/plain": [
       "<Figure size 432x288 with 2 Axes>"
      ]
     },
     "metadata": {
      "needs_background": "light"
     },
     "output_type": "display_data"
    },
    {
     "data": {
      "image/png": "[encoded data removed]",
      "text/plain": [
       "<Figure size 432x288 with 2 Axes>"
      ]
     },
     "metadata": {
      "needs_background": "light"
     },
     "output_type": "display_data"
    }
   ],
   "source": [
    "#df to do PCA on full dataset\n",
    "df_pca_validity = df_MVT[li_pca].copy()\n",
    "df_pca_validity.head(3)\n",
    "\n",
    "#PCA with two components\n",
    "pca_validity = PCA(n_components=2)\n",
    "X = df_pca_validity[li_pca]\n",
    "pca_validity.fit(X)\n",
    "\n",
    "loadings_validity = pca_validity.components_.T * np.sqrt(pca_validity.explained_variance_)\n",
    "loading_matrix_validity = pd.DataFrame(loadings_validity, columns=['PC1', 'PC2'], index=li_pca)\n",
    "\n",
    "sns.heatmap(loading_matrix_validity[['PC1','PC2']], annot=True)\n",
    "plt.title('Loadings of PCA on full dataset')\n",
    "plt.savefig(os.path.join(path_extracted_data_adap,'Loadings of PCA performed on full dataset.png'), bbox_inches='tight')\n",
    "plt.show()\n",
    "sns.heatmap(loading_matrix[['PC1','PC2']], annot=True)\n",
    "plt.title('Loadings of PCA on first obs per week per ind');\n",
    "plt.savefig(os.path.join(path_extracted_data_adap,'Loadings of PCA performed on first obs per week per ind.png'), bbox_inches='tight')"
   ]
  },
  {
   "cell_type": "markdown",
   "metadata": {},
   "source": [
    "# Save"
   ]
  },
  {
   "cell_type": "code",
   "execution_count": 24,
   "metadata": {},
   "outputs": [
    {
     "name": "stdout",
     "output_type": "stream",
     "text": [
      "(5361, 43)\n"
     ]
    },
    {
     "name": "stderr",
     "output_type": "stream",
     "text": [
      "C:\\Users\\camil\\anaconda3\\lib\\site-packages\\ipykernel\\ipkernel.py:283: DeprecationWarning: `should_run_async` will not call `transform_cell` automatically in the future. Please pass the result to `transformed_cell` argument and any exception that happen during thetransform in `preprocessing_exc_tuple` in IPython 7.17 and above.\n",
      "  and should_run_async(code)\n"
     ]
    },
    {
     "data": {
      "text/html": [
       "<div>\n",
       "<style scoped>\n",
       "    .dataframe tbody tr th:only-of-type {\n",
       "        vertical-align: middle;\n",
       "    }\n",
       "\n",
       "    .dataframe tbody tr th {\n",
       "        vertical-align: top;\n",
       "    }\n",
       "\n",
       "    .dataframe thead th {\n",
       "        text-align: right;\n",
       "    }\n",
       "</style>\n",
       "<table border=\"1\" class=\"dataframe\">\n",
       "  <thead>\n",
       "    <tr style=\"text-align: right;\">\n",
       "      <th></th>\n",
       "      <th>WIB</th>\n",
       "      <th>HenID</th>\n",
       "      <th>RPen</th>\n",
       "      <th>DIB</th>\n",
       "      <th>CLASS</th>\n",
       "      <th>TrackingSystemID</th>\n",
       "      <th>PenID</th>\n",
       "      <th>temperature_C_avg</th>\n",
       "      <th>early_death</th>\n",
       "      <th>RearingPenID</th>\n",
       "      <th>...</th>\n",
       "      <th>normalize_nbr_stays_3_Zone_perh</th>\n",
       "      <th>normalize_nbr_stays_5_Zone_perh</th>\n",
       "      <th>normalize_nbr_stays_1_Zone_perh</th>\n",
       "      <th>normalize_in_WG_15mnAfterOpening</th>\n",
       "      <th>normalize_distribution_entropy</th>\n",
       "      <th>normalize_SleepingHeight</th>\n",
       "      <th>normalize_vertical_travel_distance_perh</th>\n",
       "      <th>tuple_PCA</th>\n",
       "      <th>PC1</th>\n",
       "      <th>PC1_standardized</th>\n",
       "    </tr>\n",
       "  </thead>\n",
       "  <tbody>\n",
       "    <tr>\n",
       "      <th>0</th>\n",
       "      <td>2</td>\n",
       "      <td>hen_131</td>\n",
       "      <td>4.0</td>\n",
       "      <td>11</td>\n",
       "      <td>Other</td>\n",
       "      <td>TrackingSystem 10-12</td>\n",
       "      <td>pen10</td>\n",
       "      <td>11.500000</td>\n",
       "      <td>0.0</td>\n",
       "      <td>4.0</td>\n",
       "      <td>...</td>\n",
       "      <td>0.014302</td>\n",
       "      <td>0.004291</td>\n",
       "      <td>0.0</td>\n",
       "      <td>0.0</td>\n",
       "      <td>0.016645</td>\n",
       "      <td>0.071511</td>\n",
       "      <td>0.035756</td>\n",
       "      <td>[[0.6941668517548971, 0.026231830454868658]]</td>\n",
       "      <td>0.694167</td>\n",
       "      <td>1.341762</td>\n",
       "    </tr>\n",
       "    <tr>\n",
       "      <th>1</th>\n",
       "      <td>2</td>\n",
       "      <td>hen_131</td>\n",
       "      <td>4.0</td>\n",
       "      <td>12</td>\n",
       "      <td>Other</td>\n",
       "      <td>TrackingSystem 10-12</td>\n",
       "      <td>pen10</td>\n",
       "      <td>10.166667</td>\n",
       "      <td>0.0</td>\n",
       "      <td>4.0</td>\n",
       "      <td>...</td>\n",
       "      <td>0.014066</td>\n",
       "      <td>0.001407</td>\n",
       "      <td>0.0</td>\n",
       "      <td>0.0</td>\n",
       "      <td>0.016035</td>\n",
       "      <td>0.070328</td>\n",
       "      <td>0.029538</td>\n",
       "      <td>[[0.6978958432285991, -0.03989754866736512]]</td>\n",
       "      <td>0.697896</td>\n",
       "      <td>1.349461</td>\n",
       "    </tr>\n",
       "    <tr>\n",
       "      <th>2</th>\n",
       "      <td>2</td>\n",
       "      <td>hen_131</td>\n",
       "      <td>4.0</td>\n",
       "      <td>13</td>\n",
       "      <td>Other</td>\n",
       "      <td>TrackingSystem 10-12</td>\n",
       "      <td>pen10</td>\n",
       "      <td>9.000000</td>\n",
       "      <td>0.0</td>\n",
       "      <td>4.0</td>\n",
       "      <td>...</td>\n",
       "      <td>0.014131</td>\n",
       "      <td>0.007065</td>\n",
       "      <td>0.0</td>\n",
       "      <td>0.0</td>\n",
       "      <td>0.030699</td>\n",
       "      <td>0.052990</td>\n",
       "      <td>0.042392</td>\n",
       "      <td>[[0.11651471706617378, -0.06057580683009124]]</td>\n",
       "      <td>0.116515</td>\n",
       "      <td>0.149043</td>\n",
       "    </tr>\n",
       "  </tbody>\n",
       "</table>\n",
       "<p>3 rows × 43 columns</p>\n",
       "</div>"
      ],
      "text/plain": [
       "   WIB    HenID  RPen  DIB  CLASS      TrackingSystemID  PenID  \\\n",
       "0    2  hen_131   4.0   11  Other  TrackingSystem 10-12  pen10   \n",
       "1    2  hen_131   4.0   12  Other  TrackingSystem 10-12  pen10   \n",
       "2    2  hen_131   4.0   13  Other  TrackingSystem 10-12  pen10   \n",
       "\n",
       "   temperature_C_avg  early_death  RearingPenID  ...  \\\n",
       "0          11.500000          0.0           4.0  ...   \n",
       "1          10.166667          0.0           4.0  ...   \n",
       "2           9.000000          0.0           4.0  ...   \n",
       "\n",
       "   normalize_nbr_stays_3_Zone_perh normalize_nbr_stays_5_Zone_perh  \\\n",
       "0                         0.014302                        0.004291   \n",
       "1                         0.014066                        0.001407   \n",
       "2                         0.014131                        0.007065   \n",
       "\n",
       "   normalize_nbr_stays_1_Zone_perh  normalize_in_WG_15mnAfterOpening  \\\n",
       "0                              0.0                               0.0   \n",
       "1                              0.0                               0.0   \n",
       "2                              0.0                               0.0   \n",
       "\n",
       "   normalize_distribution_entropy  normalize_SleepingHeight  \\\n",
       "0                        0.016645                  0.071511   \n",
       "1                        0.016035                  0.070328   \n",
       "2                        0.030699                  0.052990   \n",
       "\n",
       "   normalize_vertical_travel_distance_perh  \\\n",
       "0                                 0.035756   \n",
       "1                                 0.029538   \n",
       "2                                 0.042392   \n",
       "\n",
       "                                       tuple_PCA       PC1  PC1_standardized  \n",
       "0   [[0.6941668517548971, 0.026231830454868658]]  0.694167          1.341762  \n",
       "1   [[0.6978958432285991, -0.03989754866736512]]  0.697896          1.349461  \n",
       "2  [[0.11651471706617378, -0.06057580683009124]]  0.116515          0.149043  \n",
       "\n",
       "[3 rows x 43 columns]"
      ]
     },
     "metadata": {},
     "output_type": "display_data"
    }
   ],
   "source": [
    "df_MVT['PC1_standardized'] = preprocessing.scale(df_MVT['PC1'])\n",
    "print(df_MVT.shape)\n",
    "display(df_MVT.head(3))\n",
    "df_MVT.to_csv(os.path.join(path_extracted_data_adap,'df_MVT_4individuality.csv'), index=False, sep=';')"
   ]
  },
  {
   "cell_type": "code",
   "execution_count": 25,
   "metadata": {},
   "outputs": [
    {
     "name": "stderr",
     "output_type": "stream",
     "text": [
      "C:\\Users\\camil\\anaconda3\\lib\\site-packages\\ipykernel\\ipkernel.py:283: DeprecationWarning: `should_run_async` will not call `transform_cell` automatically in the future. Please pass the result to `transformed_cell` argument and any exception that happen during thetransform in `preprocessing_exc_tuple` in IPython 7.17 and above.\n",
      "  and should_run_async(code)\n"
     ]
    },
    {
     "data": {
      "text/html": [
       "<div>\n",
       "<style scoped>\n",
       "    .dataframe tbody tr th:only-of-type {\n",
       "        vertical-align: middle;\n",
       "    }\n",
       "\n",
       "    .dataframe tbody tr th {\n",
       "        vertical-align: top;\n",
       "    }\n",
       "\n",
       "    .dataframe thead th {\n",
       "        text-align: right;\n",
       "    }\n",
       "</style>\n",
       "<table border=\"1\" class=\"dataframe\">\n",
       "  <thead>\n",
       "    <tr style=\"text-align: right;\">\n",
       "      <th></th>\n",
       "      <th>WIB</th>\n",
       "      <th>CLASS</th>\n",
       "      <th>HenID</th>\n",
       "    </tr>\n",
       "  </thead>\n",
       "  <tbody>\n",
       "    <tr>\n",
       "      <th>0</th>\n",
       "      <td>2</td>\n",
       "      <td>LEXP</td>\n",
       "      <td>28</td>\n",
       "    </tr>\n",
       "    <tr>\n",
       "      <th>1</th>\n",
       "      <td>2</td>\n",
       "      <td>MEXP</td>\n",
       "      <td>36</td>\n",
       "    </tr>\n",
       "    <tr>\n",
       "      <th>2</th>\n",
       "      <td>2</td>\n",
       "      <td>Other</td>\n",
       "      <td>69</td>\n",
       "    </tr>\n",
       "    <tr>\n",
       "      <th>3</th>\n",
       "      <td>3</td>\n",
       "      <td>LEXP</td>\n",
       "      <td>28</td>\n",
       "    </tr>\n",
       "    <tr>\n",
       "      <th>4</th>\n",
       "      <td>3</td>\n",
       "      <td>MEXP</td>\n",
       "      <td>36</td>\n",
       "    </tr>\n",
       "    <tr>\n",
       "      <th>5</th>\n",
       "      <td>3</td>\n",
       "      <td>Other</td>\n",
       "      <td>69</td>\n",
       "    </tr>\n",
       "    <tr>\n",
       "      <th>6</th>\n",
       "      <td>4</td>\n",
       "      <td>LEXP</td>\n",
       "      <td>28</td>\n",
       "    </tr>\n",
       "    <tr>\n",
       "      <th>7</th>\n",
       "      <td>4</td>\n",
       "      <td>MEXP</td>\n",
       "      <td>36</td>\n",
       "    </tr>\n",
       "    <tr>\n",
       "      <th>8</th>\n",
       "      <td>4</td>\n",
       "      <td>Other</td>\n",
       "      <td>69</td>\n",
       "    </tr>\n",
       "    <tr>\n",
       "      <th>9</th>\n",
       "      <td>5</td>\n",
       "      <td>LEXP</td>\n",
       "      <td>28</td>\n",
       "    </tr>\n",
       "    <tr>\n",
       "      <th>10</th>\n",
       "      <td>5</td>\n",
       "      <td>MEXP</td>\n",
       "      <td>36</td>\n",
       "    </tr>\n",
       "    <tr>\n",
       "      <th>11</th>\n",
       "      <td>5</td>\n",
       "      <td>Other</td>\n",
       "      <td>69</td>\n",
       "    </tr>\n",
       "    <tr>\n",
       "      <th>12</th>\n",
       "      <td>6</td>\n",
       "      <td>LEXP</td>\n",
       "      <td>28</td>\n",
       "    </tr>\n",
       "    <tr>\n",
       "      <th>13</th>\n",
       "      <td>6</td>\n",
       "      <td>MEXP</td>\n",
       "      <td>35</td>\n",
       "    </tr>\n",
       "    <tr>\n",
       "      <th>14</th>\n",
       "      <td>6</td>\n",
       "      <td>Other</td>\n",
       "      <td>69</td>\n",
       "    </tr>\n",
       "    <tr>\n",
       "      <th>15</th>\n",
       "      <td>7</td>\n",
       "      <td>LEXP</td>\n",
       "      <td>28</td>\n",
       "    </tr>\n",
       "    <tr>\n",
       "      <th>16</th>\n",
       "      <td>7</td>\n",
       "      <td>MEXP</td>\n",
       "      <td>35</td>\n",
       "    </tr>\n",
       "    <tr>\n",
       "      <th>17</th>\n",
       "      <td>7</td>\n",
       "      <td>Other</td>\n",
       "      <td>69</td>\n",
       "    </tr>\n",
       "    <tr>\n",
       "      <th>18</th>\n",
       "      <td>8</td>\n",
       "      <td>LEXP</td>\n",
       "      <td>28</td>\n",
       "    </tr>\n",
       "    <tr>\n",
       "      <th>19</th>\n",
       "      <td>8</td>\n",
       "      <td>MEXP</td>\n",
       "      <td>35</td>\n",
       "    </tr>\n",
       "    <tr>\n",
       "      <th>20</th>\n",
       "      <td>8</td>\n",
       "      <td>Other</td>\n",
       "      <td>69</td>\n",
       "    </tr>\n",
       "  </tbody>\n",
       "</table>\n",
       "</div>"
      ],
      "text/plain": [
       "    WIB  CLASS  HenID\n",
       "0     2   LEXP     28\n",
       "1     2   MEXP     36\n",
       "2     2  Other     69\n",
       "3     3   LEXP     28\n",
       "4     3   MEXP     36\n",
       "5     3  Other     69\n",
       "6     4   LEXP     28\n",
       "7     4   MEXP     36\n",
       "8     4  Other     69\n",
       "9     5   LEXP     28\n",
       "10    5   MEXP     36\n",
       "11    5  Other     69\n",
       "12    6   LEXP     28\n",
       "13    6   MEXP     35\n",
       "14    6  Other     69\n",
       "15    7   LEXP     28\n",
       "16    7   MEXP     35\n",
       "17    7  Other     69\n",
       "18    8   LEXP     28\n",
       "19    8   MEXP     35\n",
       "20    8  Other     69"
      ]
     },
     "execution_count": 25,
     "metadata": {},
     "output_type": "execute_result"
    }
   ],
   "source": [
    "#number of individual per class per week\n",
    "df_MVT.groupby(['WIB','CLASS'])['HenID'].agg(lambda x: len(set(x))).reset_index()"
   ]
  },
  {
   "cell_type": "markdown",
   "metadata": {},
   "source": [
    "# Visuals"
   ]
  },
  {
   "cell_type": "code",
   "execution_count": 26,
   "metadata": {},
   "outputs": [
    {
     "name": "stderr",
     "output_type": "stream",
     "text": [
      "C:\\Users\\camil\\anaconda3\\lib\\site-packages\\ipykernel\\ipkernel.py:283: DeprecationWarning: `should_run_async` will not call `transform_cell` automatically in the future. Please pass the result to `transformed_cell` argument and any exception that happen during thetransform in `preprocessing_exc_tuple` in IPython 7.17 and above.\n",
      "  and should_run_async(code)\n"
     ]
    },
    {
     "data": {
      "image/png": "[encoded data removed]",
      "text/plain": [
       "<Figure size 432x288 with 1 Axes>"
      ]
     },
     "metadata": {
      "needs_background": "light"
     },
     "output_type": "display_data"
    }
   ],
   "source": [
    "sns.histplot(df_MVT, x=\"PC1\", hue=\"WIB\", element=\"step\");"
   ]
  },
  {
   "cell_type": "code",
   "execution_count": 27,
   "metadata": {},
   "outputs": [
    {
     "name": "stderr",
     "output_type": "stream",
     "text": [
      "C:\\Users\\camil\\anaconda3\\lib\\site-packages\\ipykernel\\ipkernel.py:283: DeprecationWarning: `should_run_async` will not call `transform_cell` automatically in the future. Please pass the result to `transformed_cell` argument and any exception that happen during thetransform in `preprocessing_exc_tuple` in IPython 7.17 and above.\n",
      "  and should_run_async(code)\n"
     ]
    },
    {
     "data": {
      "image/png": "[encoded data removed]",
      "text/plain": [
       "<Figure size 432x288 with 1 Axes>"
      ]
     },
     "metadata": {
      "needs_background": "light"
     },
     "output_type": "display_data"
    }
   ],
   "source": [
    "sns.histplot(df_MVT, x=\"PC1\", element=\"step\");"
   ]
  },
  {
   "cell_type": "code",
   "execution_count": 31,
   "metadata": {},
   "outputs": [
    {
     "name": "stderr",
     "output_type": "stream",
     "text": [
      "C:\\Users\\camil\\anaconda3\\lib\\site-packages\\ipykernel\\ipkernel.py:283: DeprecationWarning: `should_run_async` will not call `transform_cell` automatically in the future. Please pass the result to `transformed_cell` argument and any exception that happen during thetransform in `preprocessing_exc_tuple` in IPython 7.17 and above.\n",
      "  and should_run_async(code)\n"
     ]
    },
    {
     "data": {
      "image/png": "[encoded data removed]",
      "text/plain": [
       "<Figure size 432x288 with 1 Axes>"
      ]
     },
     "metadata": {
      "needs_background": "light"
     },
     "output_type": "display_data"
    }
   ],
   "source": [
    "#plot plasticity over time\n",
    "sns.lineplot(x='DIB', y='PC1', data=df_MVT);\n",
    "plt.grid()"
   ]
  },
  {
   "cell_type": "code",
   "execution_count": null,
   "metadata": {},
   "outputs": [],
   "source": []
  },
  {
   "cell_type": "code",
   "execution_count": null,
   "metadata": {},
   "outputs": [],
   "source": []
  },
  {
   "cell_type": "code",
   "execution_count": null,
   "metadata": {},
   "outputs": [],
   "source": []
  },
  {
   "cell_type": "code",
   "execution_count": null,
   "metadata": {},
   "outputs": [],
   "source": []
  },
  {
   "cell_type": "code",
   "execution_count": null,
   "metadata": {},
   "outputs": [],
   "source": []
  },
  {
   "cell_type": "code",
   "execution_count": null,
   "metadata": {},
   "outputs": [],
   "source": []
  },
  {
   "cell_type": "code",
   "execution_count": null,
   "metadata": {},
   "outputs": [],
   "source": []
  },
  {
   "cell_type": "code",
   "execution_count": null,
   "metadata": {},
   "outputs": [],
   "source": []
  }
 ],
 "metadata": {
  "kernelspec": {
   "display_name": "Python 3",
   "language": "python",
   "name": "python3"
  }
 },
 "nbformat": 4,
 "nbformat_minor": 2
}
