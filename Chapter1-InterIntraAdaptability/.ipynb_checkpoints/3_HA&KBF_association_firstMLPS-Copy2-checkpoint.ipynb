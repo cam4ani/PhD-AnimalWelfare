{
 "cells": [
  {
   "cell_type": "code",
   "execution_count": 1,
   "metadata": {},
   "outputs": [
    {
     "name": "stderr",
     "output_type": "stream",
     "text": [
      "C:\\Users\\camil\\anaconda3\\lib\\site-packages\\outdated\\utils.py:14: OutdatedPackageWarning: The package pingouin is out of date. Your version is 0.3.8, the latest is 0.3.12.\n",
      "Set the environment variable OUTDATED_IGNORE=1 to disable these warnings.\n",
      "  return warn(\n",
      "C:\\Users\\camil\\anaconda3\\lib\\site-packages\\outdated\\utils.py:14: OutdatedPackageWarning: The package outdated is out of date. Your version is 0.2.0, the latest is 0.2.1.\n",
      "Set the environment variable OUTDATED_IGNORE=1 to disable these warnings.\n",
      "  return warn(\n"
     ]
    }
   ],
   "source": [
    "#basic package\n",
    "import tqdm\n",
    "import os\n",
    "import numpy as np\n",
    "import glob\n",
    "import pandas as pd\n",
    "import sys\n",
    "import time\n",
    "import datetime as dt\n",
    "import itertools\n",
    "import re\n",
    "import math\n",
    "from collections import Counter\n",
    "import operator\n",
    "from scipy import stats\n",
    "from scipy.spatial.distance import cdist #for euclidean distance of consistency t\n",
    "from numpy import inf\n",
    "import networkx as nx\n",
    "from dtaidistance import dtw\n",
    "import random\n",
    "from sklearn.preprocessing import normalize\n",
    "import pickle\n",
    "from collections import defaultdict\n",
    "import random\n",
    "import statistics as st #for the mode\n",
    "from sklearn.ensemble import RandomForestRegressor, RandomForestClassifier\n",
    "from sklearn.model_selection import GridSearchCV\n",
    "from sklearn.model_selection import train_test_split\n",
    "from scipy.stats import pearsonr, spearmanr\n",
    "from sklearn.metrics import auc\n",
    "from sklearn.metrics import plot_roc_curve\n",
    "from sklearn.model_selection import StratifiedKFold\n",
    "#repeated measures correlation\n",
    "import pingouin as pg\n",
    "\n",
    "#plot\n",
    "import matplotlib.pyplot as plt\n",
    "import seaborn as sns"
   ]
  },
  {
   "cell_type": "code",
   "execution_count": 2,
   "metadata": {},
   "outputs": [
    {
     "name": "stderr",
     "output_type": "stream",
     "text": [
      "C:\\Users\\camil\\anaconda3\\lib\\site-packages\\scipy\\sparse\\sparsetools.py:21: DeprecationWarning: `scipy.sparse.sparsetools` is deprecated!\n",
      "scipy.sparse.sparsetools is a private module for scipy.sparse, and should not be used.\n",
      "  _deprecated()\n"
     ]
    },
    {
     "name": "stdout",
     "output_type": "stream",
     "text": [
      "2\n"
     ]
    }
   ],
   "source": [
    "PACKAGE_PARENT = '../'\n",
    "SCRIPT_DIR = os.path.dirname(os.path.realpath(os.path.join(os.getcwd(), os.path.expanduser('__file__'))))\n",
    "sys.path.append(os.path.normpath(os.path.join(SCRIPT_DIR, PACKAGE_PARENT)))\n",
    "from UTILS import kmeans_clustering, sampen, chi2_distance, ts_visual, correct_key, chi2_distance, most_frequent\n",
    "import config_origins as config"
   ]
  },
  {
   "cell_type": "raw",
   "metadata": {},
   "source": [
    "to be run with id_run='correctlightschedule_'"
   ]
  },
  {
   "cell_type": "code",
   "execution_count": 3,
   "metadata": {},
   "outputs": [
    {
     "name": "stderr",
     "output_type": "stream",
     "text": [
      "C:\\Users\\camil\\anaconda3\\lib\\site-packages\\ipykernel\\ipkernel.py:283: DeprecationWarning: `should_run_async` will not call `transform_cell` automatically in the future. Please pass the result to `transformed_cell` argument and any exception that happen during thetransform in `preprocessing_exc_tuple` in IPython 7.17 and above.\n",
      "  and should_run_async(code)\n"
     ]
    }
   ],
   "source": [
    "#fix random seed for reproducibility\n",
    "rs = 0"
   ]
  },
  {
   "cell_type": "markdown",
   "metadata": {},
   "source": [
    "# Define parameters"
   ]
  },
  {
   "cell_type": "code",
   "execution_count": 4,
   "metadata": {
    "scrolled": true
   },
   "outputs": [
    {
     "name": "stdout",
     "output_type": "stream",
     "text": [
      "change the configuration file if not done yet!\n"
     ]
    },
    {
     "name": "stderr",
     "output_type": "stream",
     "text": [
      "C:\\Users\\camil\\anaconda3\\lib\\site-packages\\ipykernel\\ipkernel.py:283: DeprecationWarning: `should_run_async` will not call `transform_cell` automatically in the future. Please pass the result to `transformed_cell` argument and any exception that happen during thetransform in `preprocessing_exc_tuple` in IPython 7.17 and above.\n",
      "  and should_run_async(code)\n"
     ]
    }
   ],
   "source": [
    "print('change the configuration file if not done yet!')\n",
    "path_extracted_data = config.path_extracted_data\n",
    "path_initial_data = config.path_initial_data\n",
    "id_run = config.id_run\n",
    "dico_matching = config.dico_matching\n",
    "li_binmn = config.li_binmn\n",
    "pal_class_treat = config.pal_class_treat\n",
    "pal_treat = config.pal_treat\n",
    "pal_class = config.pal_class\n",
    "birth_date = config.birth_date\n",
    "dico_night_hour = config.dico_night_hour\n",
    "pal_interintre_treatment = config.pal_interintre_treatment\n",
    "max_date_adaptability = config.max_date_adaptability\n",
    "dico_pen_tr = config.dico_pen_tr\n",
    "path_extracted_data_visual = os.path.join(path_extracted_data,'visual')\n",
    "path_extracted_data_visual_corr = os.path.join(path_extracted_data,'visual','correlation')\n",
    "path_extracted_data_visual_adap = os.path.join(path_extracted_data,'visual','Treatment&Classs','adaptability')\n",
    "path_extracted_data_visual_adap_clustering = os.path.join(path_extracted_data_visual_adap,'clustering')\n",
    "for nbr_bin in li_binmn:\n",
    "    path_extracted_data_visual_adap_binmn = os.path.join(path_extracted_data,'visual','Treatment&Classs','adaptability',str(nbr_bin))\n",
    "    #create a director if not existing\n",
    "    if not os.path.exists(path_extracted_data_visual_adap_binmn):\n",
    "        os.makedirs(path_extracted_data_visual_adap_binmn)"
   ]
  },
  {
   "cell_type": "code",
   "execution_count": 5,
   "metadata": {},
   "outputs": [
    {
     "name": "stderr",
     "output_type": "stream",
     "text": [
      "C:\\Users\\camil\\anaconda3\\lib\\site-packages\\ipykernel\\ipkernel.py:283: DeprecationWarning: `should_run_async` will not call `transform_cell` automatically in the future. Please pass the result to `transformed_cell` argument and any exception that happen during thetransform in `preprocessing_exc_tuple` in IPython 7.17 and above.\n",
      "  and should_run_async(code)\n"
     ]
    }
   ],
   "source": [
    "li_nbr_cluster = range(2,100)\n",
    "V = 'chi2distance_ALL_15'\n",
    "name_clustering = 'ALL_MLPS_99'\n",
    "path_extracted_data_visual_adap_clustering_V = os.path.join(path_extracted_data_visual_adap_clustering, V+'_ALL_MLPS')"
   ]
  },
  {
   "cell_type": "markdown",
   "metadata": {},
   "source": [
    "# Download variables"
   ]
  },
  {
   "cell_type": "code",
   "execution_count": 6,
   "metadata": {},
   "outputs": [
    {
     "name": "stdout",
     "output_type": "stream",
     "text": [
      "131\n"
     ]
    },
    {
     "name": "stderr",
     "output_type": "stream",
     "text": [
      "C:\\Users\\camil\\anaconda3\\lib\\site-packages\\ipykernel\\ipkernel.py:283: DeprecationWarning: `should_run_async` will not call `transform_cell` automatically in the future. Please pass the result to `transformed_cell` argument and any exception that happen during thetransform in `preprocessing_exc_tuple` in IPython 7.17 and above.\n",
      "  and should_run_async(code)\n"
     ]
    }
   ],
   "source": [
    "li_selected_hens = pickle.load(open(os.path.join(path_extracted_data_visual_adap, 'li_selected_hens.pkl'), 'rb'))\n",
    "print(len(li_selected_hens))\n",
    "#for now we have only distance restricted to 70 animals\n",
    "#compute the CHI2DISTANCE & DTW for each bird with all other birds (because we need this exact same pair to do the visual)\n",
    "#rv = 0\n",
    "#random.seed(rv)\n",
    "#nbr_hens = 70\n",
    "#randomly pick more than one element from the list without repeating elements.\n",
    "#li_selected_hens = random.sample(li_selected_hens, nbr_hens)"
   ]
  },
  {
   "cell_type": "code",
   "execution_count": 7,
   "metadata": {},
   "outputs": [
    {
     "name": "stderr",
     "output_type": "stream",
     "text": [
      "C:\\Users\\camil\\anaconda3\\lib\\site-packages\\ipykernel\\ipkernel.py:283: DeprecationWarning: `should_run_async` will not call `transform_cell` automatically in the future. Please pass the result to `transformed_cell` argument and any exception that happen during thetransform in `preprocessing_exc_tuple` in IPython 7.17 and above.\n",
      "  and should_run_async(code)\n"
     ]
    },
    {
     "name": "stdout",
     "output_type": "stream",
     "text": [
      "(689, 47)\n",
      "(458, 47)\n"
     ]
    },
    {
     "data": {
      "text/html": [
       "<div>\n",
       "<style scoped>\n",
       "    .dataframe tbody tr th:only-of-type {\n",
       "        vertical-align: middle;\n",
       "    }\n",
       "\n",
       "    .dataframe tbody tr th {\n",
       "        vertical-align: top;\n",
       "    }\n",
       "\n",
       "    .dataframe thead th {\n",
       "        text-align: right;\n",
       "    }\n",
       "</style>\n",
       "<table border=\"1\" class=\"dataframe\">\n",
       "  <thead>\n",
       "    <tr style=\"text-align: right;\">\n",
       "      <th></th>\n",
       "      <th>Person_toe</th>\n",
       "      <th>Time</th>\n",
       "      <th>PenID</th>\n",
       "      <th>FocalLegringName</th>\n",
       "      <th>Bird type</th>\n",
       "      <th>CombPecks</th>\n",
       "      <th>Toes</th>\n",
       "      <th>RFPododermatitis</th>\n",
       "      <th>RFBumblefoot</th>\n",
       "      <th>RFinjuries</th>\n",
       "      <th>...</th>\n",
       "      <th>initial_path_img</th>\n",
       "      <th>actual_path_img</th>\n",
       "      <th>imageID</th>\n",
       "      <th>random_order1</th>\n",
       "      <th>severity</th>\n",
       "      <th>has_gap</th>\n",
       "      <th>BirdID</th>\n",
       "      <th>uncertainty (0:certain:1 random)</th>\n",
       "      <th>Info</th>\n",
       "      <th>backpack</th>\n",
       "    </tr>\n",
       "  </thead>\n",
       "  <tbody>\n",
       "    <tr>\n",
       "      <th>1</th>\n",
       "      <td>C</td>\n",
       "      <td>08:10</td>\n",
       "      <td>pen11</td>\n",
       "      <td>26grey</td>\n",
       "      <td>NaN</td>\n",
       "      <td>50.0</td>\n",
       "      <td>NaN</td>\n",
       "      <td>0.0</td>\n",
       "      <td>0.0</td>\n",
       "      <td>0.0</td>\n",
       "      <td>...</td>\n",
       "      <td>G:\\VPHI\\Welfare\\2- Research Projects\\OFHE2.Ori...</td>\n",
       "      <td>G:\\VPHI\\Welfare\\2- Research Projects\\OFHE2.Ori...</td>\n",
       "      <td>399.0</td>\n",
       "      <td>493.0</td>\n",
       "      <td>32.0</td>\n",
       "      <td>0.0</td>\n",
       "      <td>26grey11sbs</td>\n",
       "      <td>NaN</td>\n",
       "      <td>['', '26', 'grey', '11', 'sbs']</td>\n",
       "      <td>sbs</td>\n",
       "    </tr>\n",
       "    <tr>\n",
       "      <th>2</th>\n",
       "      <td>C</td>\n",
       "      <td>11:43</td>\n",
       "      <td>pen11</td>\n",
       "      <td>70green</td>\n",
       "      <td>normal</td>\n",
       "      <td>25.0</td>\n",
       "      <td>NaN</td>\n",
       "      <td>0.0</td>\n",
       "      <td>0.0</td>\n",
       "      <td>0.0</td>\n",
       "      <td>...</td>\n",
       "      <td>G:\\VPHI\\Welfare\\2- Research Projects\\OFHE2.Ori...</td>\n",
       "      <td>G:\\VPHI\\Welfare\\2- Research Projects\\OFHE2.Ori...</td>\n",
       "      <td>179.0</td>\n",
       "      <td>478.0</td>\n",
       "      <td>0.0</td>\n",
       "      <td>0.0</td>\n",
       "      <td>70green11gg</td>\n",
       "      <td>NaN</td>\n",
       "      <td>['', '70', 'green', '11', 'gg']</td>\n",
       "      <td>gg</td>\n",
       "    </tr>\n",
       "    <tr>\n",
       "      <th>3</th>\n",
       "      <td>C</td>\n",
       "      <td>08:10</td>\n",
       "      <td>pen11</td>\n",
       "      <td>28green</td>\n",
       "      <td>NaN</td>\n",
       "      <td>0.0</td>\n",
       "      <td>NaN</td>\n",
       "      <td>0.0</td>\n",
       "      <td>0.0</td>\n",
       "      <td>0.0</td>\n",
       "      <td>...</td>\n",
       "      <td>G:\\VPHI\\Welfare\\2- Research Projects\\OFHE2.Ori...</td>\n",
       "      <td>G:\\VPHI\\Welfare\\2- Research Projects\\OFHE2.Ori...</td>\n",
       "      <td>53.0</td>\n",
       "      <td>494.0</td>\n",
       "      <td>12.0</td>\n",
       "      <td>0.0</td>\n",
       "      <td>28green11ss</td>\n",
       "      <td>gap healed no more gap</td>\n",
       "      <td>['', '28', 'green', '11', 'ss']</td>\n",
       "      <td>ss</td>\n",
       "    </tr>\n",
       "  </tbody>\n",
       "</table>\n",
       "<p>3 rows × 47 columns</p>\n",
       "</div>"
      ],
      "text/plain": [
       "  Person_toe   Time  PenID FocalLegringName Bird type  CombPecks Toes  \\\n",
       "1          C  08:10  pen11           26grey       NaN       50.0  NaN   \n",
       "2          C  11:43  pen11          70green    normal       25.0  NaN   \n",
       "3          C  08:10  pen11          28green       NaN        0.0  NaN   \n",
       "\n",
       "   RFPododermatitis  RFBumblefoot  RFinjuries  ...  \\\n",
       "1               0.0           0.0         0.0  ...   \n",
       "2               0.0           0.0         0.0  ...   \n",
       "3               0.0           0.0         0.0  ...   \n",
       "\n",
       "                                    initial_path_img  \\\n",
       "1  G:\\VPHI\\Welfare\\2- Research Projects\\OFHE2.Ori...   \n",
       "2  G:\\VPHI\\Welfare\\2- Research Projects\\OFHE2.Ori...   \n",
       "3  G:\\VPHI\\Welfare\\2- Research Projects\\OFHE2.Ori...   \n",
       "\n",
       "                                     actual_path_img  imageID  random_order1  \\\n",
       "1  G:\\VPHI\\Welfare\\2- Research Projects\\OFHE2.Ori...    399.0          493.0   \n",
       "2  G:\\VPHI\\Welfare\\2- Research Projects\\OFHE2.Ori...    179.0          478.0   \n",
       "3  G:\\VPHI\\Welfare\\2- Research Projects\\OFHE2.Ori...     53.0          494.0   \n",
       "\n",
       "   severity has_gap       BirdID  uncertainty (0:certain:1 random)  \\\n",
       "1      32.0     0.0  26grey11sbs                               NaN   \n",
       "2       0.0     0.0  70green11gg                               NaN   \n",
       "3      12.0     0.0  28green11ss            gap healed no more gap   \n",
       "\n",
       "                              Info backpack  \n",
       "1  ['', '26', 'grey', '11', 'sbs']      sbs  \n",
       "2  ['', '70', 'green', '11', 'gg']       gg  \n",
       "3  ['', '28', 'green', '11', 'ss']       ss  \n",
       "\n",
       "[3 rows x 47 columns]"
      ]
     },
     "execution_count": 7,
     "metadata": {},
     "output_type": "execute_result"
    }
   ],
   "source": [
    "#HA&KBF&weight\n",
    "df_HA = pd.read_csv(os.path.join(path_extracted_data, 'df_all_HA.csv'), sep=';', parse_dates=['date'], dayfirst=True) \n",
    "print(df_HA.shape)\n",
    "df_HA = df_HA[df_HA['HenID'].isin(li_selected_hens)]\n",
    "print(df_HA.shape)\n",
    "df_HA.head(3)"
   ]
  },
  {
   "cell_type": "code",
   "execution_count": 8,
   "metadata": {},
   "outputs": [
    {
     "name": "stderr",
     "output_type": "stream",
     "text": [
      "C:\\Users\\camil\\anaconda3\\lib\\site-packages\\ipykernel\\ipkernel.py:283: DeprecationWarning: `should_run_async` will not call `transform_cell` automatically in the future. Please pass the result to `transformed_cell` argument and any exception that happen during thetransform in `preprocessing_exc_tuple` in IPython 7.17 and above.\n",
      "  and should_run_async(code)\n"
     ]
    },
    {
     "data": {
      "text/plain": [
       "Other    215\n",
       "MEXP     143\n",
       "LEXP     100\n",
       "Name: CLASS, dtype: int64"
      ]
     },
     "execution_count": 8,
     "metadata": {},
     "output_type": "execute_result"
    }
   ],
   "source": [
    "df_HA['CLASS'].value_counts()"
   ]
  },
  {
   "cell_type": "code",
   "execution_count": 9,
   "metadata": {},
   "outputs": [
    {
     "name": "stderr",
     "output_type": "stream",
     "text": [
      "C:\\Users\\camil\\anaconda3\\lib\\site-packages\\ipykernel\\ipkernel.py:283: DeprecationWarning: `should_run_async` will not call `transform_cell` automatically in the future. Please pass the result to `transformed_cell` argument and any exception that happen during thetransform in `preprocessing_exc_tuple` in IPython 7.17 and above.\n",
      "  and should_run_async(code)\n"
     ]
    },
    {
     "name": "stdout",
     "output_type": "stream",
     "text": [
      "(42300, 223)\n",
      "(6721, 223)\n"
     ]
    },
    {
     "name": "stderr",
     "output_type": "stream",
     "text": [
      "C:\\Users\\camil\\anaconda3\\lib\\site-packages\\IPython\\core\\interactiveshell.py:3146: DtypeWarning: Columns (123,135,172,173,174,175,176,177,179,180,181,182,183,184,185,186,187,188) have mixed types.Specify dtype option on import or set low_memory=False.\n",
      "  has_raised = await self.run_ast_nodes(code_ast.body, cell_name,\n"
     ]
    },
    {
     "data": {
      "text/html": [
       "<div>\n",
       "<style scoped>\n",
       "    .dataframe tbody tr th:only-of-type {\n",
       "        vertical-align: middle;\n",
       "    }\n",
       "\n",
       "    .dataframe tbody tr th {\n",
       "        vertical-align: top;\n",
       "    }\n",
       "\n",
       "    .dataframe thead th {\n",
       "        text-align: right;\n",
       "    }\n",
       "</style>\n",
       "<table border=\"1\" class=\"dataframe\">\n",
       "  <thead>\n",
       "    <tr style=\"text-align: right;\">\n",
       "      <th></th>\n",
       "      <th>HenID</th>\n",
       "      <th>level</th>\n",
       "      <th>duration_1_Zone</th>\n",
       "      <th>duration_2_Zone</th>\n",
       "      <th>duration_3_Zone</th>\n",
       "      <th>duration_4_Zone</th>\n",
       "      <th>duration_5_Zone</th>\n",
       "      <th>verification_daily_total_duration</th>\n",
       "      <th>Total_number_zone</th>\n",
       "      <th>Max_duration_zones</th>\n",
       "      <th>...</th>\n",
       "      <th>betweeness_DTW_30_all</th>\n",
       "      <th>degree_DTW_30_1_Zone</th>\n",
       "      <th>degree_DTW_30_2_Zone</th>\n",
       "      <th>degree_DTW_30_3_Zone</th>\n",
       "      <th>degree_DTW_30_4_Zone</th>\n",
       "      <th>degree_DTW_30_5_Zone</th>\n",
       "      <th>degree_DTW_30_all</th>\n",
       "      <th>ALL_MLPS_99</th>\n",
       "      <th>ALL_MLPS_10</th>\n",
       "      <th>ALL_MLPS_40</th>\n",
       "    </tr>\n",
       "  </thead>\n",
       "  <tbody>\n",
       "    <tr>\n",
       "      <th>0</th>\n",
       "      <td>hen_1</td>\n",
       "      <td>2020-09-30</td>\n",
       "      <td>0.0</td>\n",
       "      <td>18886.0</td>\n",
       "      <td>3488.0</td>\n",
       "      <td>515.0</td>\n",
       "      <td>5911.0</td>\n",
       "      <td>28800.0</td>\n",
       "      <td>4.0</td>\n",
       "      <td>2_Zone</td>\n",
       "      <td>...</td>\n",
       "      <td>0.002710</td>\n",
       "      <td>1.000000</td>\n",
       "      <td>0.131944</td>\n",
       "      <td>0.208333</td>\n",
       "      <td>0.826389</td>\n",
       "      <td>0.437500</td>\n",
       "      <td>0.312500</td>\n",
       "      <td>NaN</td>\n",
       "      <td>NaN</td>\n",
       "      <td>NaN</td>\n",
       "    </tr>\n",
       "    <tr>\n",
       "      <th>1</th>\n",
       "      <td>hen_1</td>\n",
       "      <td>2020-10-01</td>\n",
       "      <td>0.0</td>\n",
       "      <td>9310.0</td>\n",
       "      <td>5636.0</td>\n",
       "      <td>0.0</td>\n",
       "      <td>17454.0</td>\n",
       "      <td>32400.0</td>\n",
       "      <td>3.0</td>\n",
       "      <td>5_Zone</td>\n",
       "      <td>...</td>\n",
       "      <td>0.183609</td>\n",
       "      <td>0.993197</td>\n",
       "      <td>0.047619</td>\n",
       "      <td>0.176871</td>\n",
       "      <td>0.802721</td>\n",
       "      <td>0.115646</td>\n",
       "      <td>0.380952</td>\n",
       "      <td>NaN</td>\n",
       "      <td>NaN</td>\n",
       "      <td>NaN</td>\n",
       "    </tr>\n",
       "    <tr>\n",
       "      <th>2</th>\n",
       "      <td>hen_1</td>\n",
       "      <td>2020-10-02</td>\n",
       "      <td>0.0</td>\n",
       "      <td>0.0</td>\n",
       "      <td>551.0</td>\n",
       "      <td>0.0</td>\n",
       "      <td>31849.0</td>\n",
       "      <td>32400.0</td>\n",
       "      <td>2.0</td>\n",
       "      <td>5_Zone</td>\n",
       "      <td>...</td>\n",
       "      <td>0.000955</td>\n",
       "      <td>1.000000</td>\n",
       "      <td>0.564626</td>\n",
       "      <td>0.646259</td>\n",
       "      <td>0.802721</td>\n",
       "      <td>0.455782</td>\n",
       "      <td>0.503401</td>\n",
       "      <td>NaN</td>\n",
       "      <td>NaN</td>\n",
       "      <td>NaN</td>\n",
       "    </tr>\n",
       "  </tbody>\n",
       "</table>\n",
       "<p>3 rows × 223 columns</p>\n",
       "</div>"
      ],
      "text/plain": [
       "   HenID      level  duration_1_Zone  duration_2_Zone  duration_3_Zone  \\\n",
       "0  hen_1 2020-09-30              0.0          18886.0           3488.0   \n",
       "1  hen_1 2020-10-01              0.0           9310.0           5636.0   \n",
       "2  hen_1 2020-10-02              0.0              0.0            551.0   \n",
       "\n",
       "   duration_4_Zone  duration_5_Zone  verification_daily_total_duration  \\\n",
       "0            515.0           5911.0                            28800.0   \n",
       "1              0.0          17454.0                            32400.0   \n",
       "2              0.0          31849.0                            32400.0   \n",
       "\n",
       "   Total_number_zone Max_duration_zones  ... betweeness_DTW_30_all  \\\n",
       "0                4.0             2_Zone  ...              0.002710   \n",
       "1                3.0             5_Zone  ...              0.183609   \n",
       "2                2.0             5_Zone  ...              0.000955   \n",
       "\n",
       "   degree_DTW_30_1_Zone  degree_DTW_30_2_Zone  degree_DTW_30_3_Zone  \\\n",
       "0              1.000000              0.131944              0.208333   \n",
       "1              0.993197              0.047619              0.176871   \n",
       "2              1.000000              0.564626              0.646259   \n",
       "\n",
       "   degree_DTW_30_4_Zone  degree_DTW_30_5_Zone  degree_DTW_30_all  ALL_MLPS_99  \\\n",
       "0              0.826389              0.437500           0.312500          NaN   \n",
       "1              0.802721              0.115646           0.380952          NaN   \n",
       "2              0.802721              0.455782           0.503401          NaN   \n",
       "\n",
       "   ALL_MLPS_10  ALL_MLPS_40  \n",
       "0          NaN          NaN  \n",
       "1          NaN          NaN  \n",
       "2          NaN          NaN  \n",
       "\n",
       "[3 rows x 223 columns]"
      ]
     },
     "execution_count": 9,
     "metadata": {},
     "output_type": "execute_result"
    }
   ],
   "source": [
    "#dailyMVT var\n",
    "df_MVT = pd.read_csv(os.path.join(path_extracted_data, 'daily_ALL_Variable_Tranformed_SNA_clID.csv'), sep=';', \n",
    "                     parse_dates=['level'], dayfirst=True) \n",
    "print(df_MVT.shape)\n",
    "df_MVT = df_MVT[df_MVT['HenID'].isin(li_selected_hens)]\n",
    "#lets restrict to the adaptability study timeframe\n",
    "df_MVT = df_MVT[df_MVT['level']<=config.max_date_adaptability]\n",
    "print(df_MVT.shape)\n",
    "df_MVT.head(3)"
   ]
  },
  {
   "cell_type": "markdown",
   "metadata": {},
   "source": [
    "# Initial Visuals"
   ]
  },
  {
   "cell_type": "code",
   "execution_count": 10,
   "metadata": {
    "scrolled": false
   },
   "outputs": [
    {
     "name": "stderr",
     "output_type": "stream",
     "text": [
      "C:\\Users\\camil\\anaconda3\\lib\\site-packages\\ipykernel\\ipkernel.py:283: DeprecationWarning: `should_run_async` will not call `transform_cell` automatically in the future. Please pass the result to `transformed_cell` argument and any exception that happen during thetransform in `preprocessing_exc_tuple` in IPython 7.17 and above.\n",
      "  and should_run_async(code)\n"
     ]
    },
    {
     "data": {
      "image/png": "[encoded data removed]",
      "text/plain": [
       "<Figure size 720x288 with 1 Axes>"
      ]
     },
     "metadata": {
      "needs_background": "light"
     },
     "output_type": "display_data"
    },
    {
     "name": "stdout",
     "output_type": "stream",
     "text": [
      "                r   dof          pval         CI95%  power\n",
      "rm_corr  0.192386  6250  3.410542e-53  [0.17, 0.22]    1.0\n"
     ]
    },
    {
     "data": {
      "image/png": "[encoded data removed]",
      "text/plain": [
       "<Figure size 720x288 with 1 Axes>"
      ]
     },
     "metadata": {
      "needs_background": "light"
     },
     "output_type": "display_data"
    },
    {
     "name": "stdout",
     "output_type": "stream",
     "text": [
      "                r   dof          pval         CI95%  power\n",
      "rm_corr  0.199345  6250  4.679914e-57  [0.18, 0.22]    1.0\n"
     ]
    },
    {
     "data": {
      "image/png": "[encoded data removed]",
      "text/plain": [
       "<Figure size 720x288 with 1 Axes>"
      ]
     },
     "metadata": {
      "needs_background": "light"
     },
     "output_type": "display_data"
    },
    {
     "name": "stdout",
     "output_type": "stream",
     "text": [
      "                r   dof           pval         CI95%  power\n",
      "rm_corr  0.390664  6250  4.555466e-227  [0.37, 0.41]    1.0\n"
     ]
    },
    {
     "data": {
      "image/png": "[encoded data removed]",
      "text/plain": [
       "<Figure size 720x288 with 1 Axes>"
      ]
     },
     "metadata": {
      "needs_background": "light"
     },
     "output_type": "display_data"
    },
    {
     "name": "stdout",
     "output_type": "stream",
     "text": [
      "                r   dof          pval           CI95%  power\n",
      "rm_corr -0.092725  6250  2.040482e-13  [-0.12, -0.07]    1.0\n"
     ]
    },
    {
     "data": {
      "image/png": "[encoded data removed]",
      "text/plain": [
       "<Figure size 720x288 with 1 Axes>"
      ]
     },
     "metadata": {
      "needs_background": "light"
     },
     "output_type": "display_data"
    },
    {
     "name": "stdout",
     "output_type": "stream",
     "text": [
      "                r   dof           pval           CI95%  power\n",
      "rm_corr -0.311317  6250  1.436389e-140  [-0.33, -0.29]    1.0\n"
     ]
    },
    {
     "data": {
      "image/png": "[encoded data removed]",
      "text/plain": [
       "<Figure size 720x288 with 1 Axes>"
      ]
     },
     "metadata": {
      "needs_background": "light"
     },
     "output_type": "display_data"
    },
    {
     "name": "stdout",
     "output_type": "stream",
     "text": [
      "                r   dof          pval           CI95%  power\n",
      "rm_corr -0.269551  5941  1.862768e-99  [-0.29, -0.25]    1.0\n"
     ]
    },
    {
     "data": {
      "image/png": "[encoded data removed]",
      "text/plain": [
       "<Figure size 720x288 with 1 Axes>"
      ]
     },
     "metadata": {
      "needs_background": "light"
     },
     "output_type": "display_data"
    },
    {
     "name": "stdout",
     "output_type": "stream",
     "text": [
      "                r   dof  pval          CI95%  power\n",
      "rm_corr -0.588022  6250   0.0  [-0.6, -0.57]    1.0\n"
     ]
    },
    {
     "data": {
      "image/png": "[encoded data removed]",
      "text/plain": [
       "<Figure size 720x288 with 1 Axes>"
      ]
     },
     "metadata": {
      "needs_background": "light"
     },
     "output_type": "display_data"
    },
    {
     "name": "stdout",
     "output_type": "stream",
     "text": [
      "                r   dof  pval          CI95%  power\n",
      "rm_corr -0.516765  6250   0.0  [-0.53, -0.5]    1.0\n"
     ]
    },
    {
     "data": {
      "image/png": "[encoded data removed]",
      "text/plain": [
       "<Figure size 720x288 with 1 Axes>"
      ]
     },
     "metadata": {
      "needs_background": "light"
     },
     "output_type": "display_data"
    },
    {
     "name": "stdout",
     "output_type": "stream",
     "text": [
      "               r   dof           pval           CI95%  power\n",
      "rm_corr -0.39394  5752  6.130714e-213  [-0.42, -0.37]    1.0\n"
     ]
    }
   ],
   "source": [
    "#due to barn schedule that change during first weeks in the barn, we will use only few variables to visual the overall\n",
    "#barn usage change over time\n",
    "#perhaps do not make to much sense at begining:degree_DTW_30_all as its very linked to chi2-distance which is varible at\n",
    "#the begining\n",
    "for t in ['perc_duration_1_Zone', 'perc_duration_2_Zone', 'perc_duration_3_Zone', \n",
    "          'perc_duration_4_Zone', 'perc_duration_5_Zone','chi2-distance',\n",
    "          'degree_DTW_30_all','closeness_DTW_30_2_Zone','empproba_3_Zone']:\n",
    "    fig = plt.figure(figsize=(10, 4))\n",
    "    sns.boxplot(x=\"DOA\", y=t, data=df_MVT, fliersize=0.8, linewidth=1);\n",
    "    plt.show()\n",
    "    print(pg.rm_corr(data=df_MVT, x='DOA', y=t, subject='HenID'))\n",
    "    #g = pg.plot_rm_corr(data=df_MVT, x='DOA', y=t, subject='HenID')"
   ]
  },
  {
   "cell_type": "markdown",
   "metadata": {},
   "source": [
    "# Processing"
   ]
  },
  {
   "cell_type": "code",
   "execution_count": 11,
   "metadata": {},
   "outputs": [
    {
     "name": "stderr",
     "output_type": "stream",
     "text": [
      "C:\\Users\\camil\\anaconda3\\lib\\site-packages\\ipykernel\\ipkernel.py:283: DeprecationWarning: `should_run_async` will not call `transform_cell` automatically in the future. Please pass the result to `transformed_cell` argument and any exception that happen during thetransform in `preprocessing_exc_tuple` in IPython 7.17 and above.\n",
      "  and should_run_async(code)\n"
     ]
    },
    {
     "data": {
      "text/plain": [
       "(132, 50)"
      ]
     },
     "metadata": {},
     "output_type": "display_data"
    },
    {
     "data": {
      "text/plain": [
       "(326, 50)"
      ]
     },
     "metadata": {},
     "output_type": "display_data"
    },
    {
     "data": {
      "text/html": [
       "<div>\n",
       "<style scoped>\n",
       "    .dataframe tbody tr th:only-of-type {\n",
       "        vertical-align: middle;\n",
       "    }\n",
       "\n",
       "    .dataframe tbody tr th {\n",
       "        vertical-align: top;\n",
       "    }\n",
       "\n",
       "    .dataframe thead th {\n",
       "        text-align: right;\n",
       "    }\n",
       "</style>\n",
       "<table border=\"1\" class=\"dataframe\">\n",
       "  <thead>\n",
       "    <tr style=\"text-align: right;\">\n",
       "      <th></th>\n",
       "      <th>Person_toe</th>\n",
       "      <th>Time</th>\n",
       "      <th>PenID</th>\n",
       "      <th>FocalLegringName</th>\n",
       "      <th>Bird type</th>\n",
       "      <th>CombPecks</th>\n",
       "      <th>Toes</th>\n",
       "      <th>RFPododermatitis</th>\n",
       "      <th>RFBumblefoot</th>\n",
       "      <th>RFinjuries</th>\n",
       "      <th>...</th>\n",
       "      <th>random_order1</th>\n",
       "      <th>severity</th>\n",
       "      <th>has_gap</th>\n",
       "      <th>BirdID</th>\n",
       "      <th>uncertainty (0:certain:1 random)</th>\n",
       "      <th>Info</th>\n",
       "      <th>backpack</th>\n",
       "      <th>Injuries</th>\n",
       "      <th>Pododermatitis</th>\n",
       "      <th>Feathers</th>\n",
       "    </tr>\n",
       "  </thead>\n",
       "  <tbody>\n",
       "    <tr>\n",
       "      <th>1</th>\n",
       "      <td>C</td>\n",
       "      <td>08:10</td>\n",
       "      <td>pen11</td>\n",
       "      <td>26grey</td>\n",
       "      <td>NaN</td>\n",
       "      <td>50.0</td>\n",
       "      <td>NaN</td>\n",
       "      <td>0.0</td>\n",
       "      <td>0.0</td>\n",
       "      <td>0.0</td>\n",
       "      <td>...</td>\n",
       "      <td>493.0</td>\n",
       "      <td>32.0</td>\n",
       "      <td>0.0</td>\n",
       "      <td>26grey11sbs</td>\n",
       "      <td>NaN</td>\n",
       "      <td>['', '26', 'grey', '11', 'sbs']</td>\n",
       "      <td>sbs</td>\n",
       "      <td>0.0</td>\n",
       "      <td>0.0</td>\n",
       "      <td>90.666667</td>\n",
       "    </tr>\n",
       "    <tr>\n",
       "      <th>2</th>\n",
       "      <td>C</td>\n",
       "      <td>11:43</td>\n",
       "      <td>pen11</td>\n",
       "      <td>70green</td>\n",
       "      <td>normal</td>\n",
       "      <td>25.0</td>\n",
       "      <td>NaN</td>\n",
       "      <td>0.0</td>\n",
       "      <td>0.0</td>\n",
       "      <td>0.0</td>\n",
       "      <td>...</td>\n",
       "      <td>478.0</td>\n",
       "      <td>0.0</td>\n",
       "      <td>0.0</td>\n",
       "      <td>70green11gg</td>\n",
       "      <td>NaN</td>\n",
       "      <td>['', '70', 'green', '11', 'gg']</td>\n",
       "      <td>gg</td>\n",
       "      <td>0.0</td>\n",
       "      <td>0.0</td>\n",
       "      <td>NaN</td>\n",
       "    </tr>\n",
       "    <tr>\n",
       "      <th>3</th>\n",
       "      <td>C</td>\n",
       "      <td>08:10</td>\n",
       "      <td>pen11</td>\n",
       "      <td>28green</td>\n",
       "      <td>NaN</td>\n",
       "      <td>0.0</td>\n",
       "      <td>NaN</td>\n",
       "      <td>0.0</td>\n",
       "      <td>0.0</td>\n",
       "      <td>0.0</td>\n",
       "      <td>...</td>\n",
       "      <td>494.0</td>\n",
       "      <td>12.0</td>\n",
       "      <td>0.0</td>\n",
       "      <td>28green11ss</td>\n",
       "      <td>gap healed no more gap</td>\n",
       "      <td>['', '28', 'green', '11', 'ss']</td>\n",
       "      <td>ss</td>\n",
       "      <td>0.0</td>\n",
       "      <td>100.0</td>\n",
       "      <td>94.333333</td>\n",
       "    </tr>\n",
       "  </tbody>\n",
       "</table>\n",
       "<p>3 rows × 50 columns</p>\n",
       "</div>"
      ],
      "text/plain": [
       "  Person_toe   Time  PenID FocalLegringName Bird type  CombPecks Toes  \\\n",
       "1          C  08:10  pen11           26grey       NaN       50.0  NaN   \n",
       "2          C  11:43  pen11          70green    normal       25.0  NaN   \n",
       "3          C  08:10  pen11          28green       NaN        0.0  NaN   \n",
       "\n",
       "   RFPododermatitis  RFBumblefoot  RFinjuries  ...  random_order1  severity  \\\n",
       "1               0.0           0.0         0.0  ...          493.0      32.0   \n",
       "2               0.0           0.0         0.0  ...          478.0       0.0   \n",
       "3               0.0           0.0         0.0  ...          494.0      12.0   \n",
       "\n",
       "   has_gap       BirdID  uncertainty (0:certain:1 random)  \\\n",
       "1      0.0  26grey11sbs                               NaN   \n",
       "2      0.0  70green11gg                               NaN   \n",
       "3      0.0  28green11ss            gap healed no more gap   \n",
       "\n",
       "                              Info backpack  Injuries Pododermatitis  \\\n",
       "1  ['', '26', 'grey', '11', 'sbs']      sbs       0.0            0.0   \n",
       "2  ['', '70', 'green', '11', 'gg']       gg       0.0            0.0   \n",
       "3  ['', '28', 'green', '11', 'ss']       ss       0.0          100.0   \n",
       "\n",
       "    Feathers  \n",
       "1  90.666667  \n",
       "2        NaN  \n",
       "3  94.333333  \n",
       "\n",
       "[3 rows x 50 columns]"
      ]
     },
     "execution_count": 11,
     "metadata": {},
     "output_type": "execute_result"
    }
   ],
   "source": [
    "#compeck: HA1: as worse time for this\n",
    "#overall pododeratitis: should be worst over time, so only HA4\n",
    "df_HA['Injuries'] = df_HA.apply(lambda x: x['LFinjuries']+x['RFinjuries'], axis=1)\n",
    "df_HA['Pododermatitis'] = df_HA.apply(lambda x: x['RFPododermatitis']+x['LFPododermatitis'], axis=1)\n",
    "\n",
    "#overall feather as in eneral have the same tendency: only from HA4: as should be worse over time\n",
    "df_HA['Feathers'] = df_HA.apply(lambda x: np.mean([x['NeckFeather'],x['BreastFeather'],x['CloacaFeather'],\n",
    "                                                   x['BackFeather'],x['WingFeather'],x['TailFeather']]), axis=1)\n",
    "display(df_HA[df_HA['Feathers'].isnull()].shape)\n",
    "display(df_HA[~df_HA['Feathers'].isnull()].shape)\n",
    "df_HA.head(3)"
   ]
  },
  {
   "cell_type": "code",
   "execution_count": 12,
   "metadata": {},
   "outputs": [
    {
     "name": "stderr",
     "output_type": "stream",
     "text": [
      "C:\\Users\\camil\\anaconda3\\lib\\site-packages\\ipykernel\\ipkernel.py:283: DeprecationWarning: `should_run_async` will not call `transform_cell` automatically in the future. Please pass the result to `transformed_cell` argument and any exception that happen during thetransform in `preprocessing_exc_tuple` in IPython 7.17 and above.\n",
      "  and should_run_async(code)\n"
     ]
    },
    {
     "data": {
      "text/plain": [
       "0.0    5211\n",
       "1.0    1171\n",
       "Name: in_WG_15mnAfterOpening, dtype: int64"
      ]
     },
     "metadata": {},
     "output_type": "display_data"
    },
    {
     "data": {
      "text/plain": [
       "0.0    4358\n",
       "1.0    1171\n",
       "Name: in_WG_15mnAfterOpening_whenopen, dtype: int64"
      ]
     },
     "metadata": {},
     "output_type": "display_data"
    },
    {
     "data": {
      "text/html": [
       "<div>\n",
       "<style scoped>\n",
       "    .dataframe tbody tr th:only-of-type {\n",
       "        vertical-align: middle;\n",
       "    }\n",
       "\n",
       "    .dataframe tbody tr th {\n",
       "        vertical-align: top;\n",
       "    }\n",
       "\n",
       "    .dataframe thead th {\n",
       "        text-align: right;\n",
       "    }\n",
       "</style>\n",
       "<table border=\"1\" class=\"dataframe\">\n",
       "  <thead>\n",
       "    <tr style=\"text-align: right;\">\n",
       "      <th></th>\n",
       "      <th>HenID</th>\n",
       "      <th>level</th>\n",
       "      <th>duration_1_Zone</th>\n",
       "      <th>duration_2_Zone</th>\n",
       "      <th>duration_3_Zone</th>\n",
       "      <th>duration_4_Zone</th>\n",
       "      <th>duration_5_Zone</th>\n",
       "      <th>verification_daily_total_duration</th>\n",
       "      <th>Total_number_zone</th>\n",
       "      <th>Max_duration_zones</th>\n",
       "      <th>...</th>\n",
       "      <th>degree_DTW_30_1_Zone</th>\n",
       "      <th>degree_DTW_30_2_Zone</th>\n",
       "      <th>degree_DTW_30_3_Zone</th>\n",
       "      <th>degree_DTW_30_4_Zone</th>\n",
       "      <th>degree_DTW_30_5_Zone</th>\n",
       "      <th>degree_DTW_30_all</th>\n",
       "      <th>ALL_MLPS_99</th>\n",
       "      <th>ALL_MLPS_10</th>\n",
       "      <th>ALL_MLPS_40</th>\n",
       "      <th>in_WG_15mnAfterOpening_whenopen</th>\n",
       "    </tr>\n",
       "  </thead>\n",
       "  <tbody>\n",
       "    <tr>\n",
       "      <th>0</th>\n",
       "      <td>hen_1</td>\n",
       "      <td>2020-09-30</td>\n",
       "      <td>0.0</td>\n",
       "      <td>18886.0</td>\n",
       "      <td>3488.0</td>\n",
       "      <td>515.0</td>\n",
       "      <td>5911.0</td>\n",
       "      <td>28800.0</td>\n",
       "      <td>4.0</td>\n",
       "      <td>2_Zone</td>\n",
       "      <td>...</td>\n",
       "      <td>1.000000</td>\n",
       "      <td>0.131944</td>\n",
       "      <td>0.208333</td>\n",
       "      <td>0.826389</td>\n",
       "      <td>0.437500</td>\n",
       "      <td>0.312500</td>\n",
       "      <td>NaN</td>\n",
       "      <td>NaN</td>\n",
       "      <td>NaN</td>\n",
       "      <td>NaN</td>\n",
       "    </tr>\n",
       "    <tr>\n",
       "      <th>1</th>\n",
       "      <td>hen_1</td>\n",
       "      <td>2020-10-01</td>\n",
       "      <td>0.0</td>\n",
       "      <td>9310.0</td>\n",
       "      <td>5636.0</td>\n",
       "      <td>0.0</td>\n",
       "      <td>17454.0</td>\n",
       "      <td>32400.0</td>\n",
       "      <td>3.0</td>\n",
       "      <td>5_Zone</td>\n",
       "      <td>...</td>\n",
       "      <td>0.993197</td>\n",
       "      <td>0.047619</td>\n",
       "      <td>0.176871</td>\n",
       "      <td>0.802721</td>\n",
       "      <td>0.115646</td>\n",
       "      <td>0.380952</td>\n",
       "      <td>NaN</td>\n",
       "      <td>NaN</td>\n",
       "      <td>NaN</td>\n",
       "      <td>NaN</td>\n",
       "    </tr>\n",
       "    <tr>\n",
       "      <th>2</th>\n",
       "      <td>hen_1</td>\n",
       "      <td>2020-10-02</td>\n",
       "      <td>0.0</td>\n",
       "      <td>0.0</td>\n",
       "      <td>551.0</td>\n",
       "      <td>0.0</td>\n",
       "      <td>31849.0</td>\n",
       "      <td>32400.0</td>\n",
       "      <td>2.0</td>\n",
       "      <td>5_Zone</td>\n",
       "      <td>...</td>\n",
       "      <td>1.000000</td>\n",
       "      <td>0.564626</td>\n",
       "      <td>0.646259</td>\n",
       "      <td>0.802721</td>\n",
       "      <td>0.455782</td>\n",
       "      <td>0.503401</td>\n",
       "      <td>NaN</td>\n",
       "      <td>NaN</td>\n",
       "      <td>NaN</td>\n",
       "      <td>NaN</td>\n",
       "    </tr>\n",
       "  </tbody>\n",
       "</table>\n",
       "<p>3 rows × 224 columns</p>\n",
       "</div>"
      ],
      "text/plain": [
       "   HenID      level  duration_1_Zone  duration_2_Zone  duration_3_Zone  \\\n",
       "0  hen_1 2020-09-30              0.0          18886.0           3488.0   \n",
       "1  hen_1 2020-10-01              0.0           9310.0           5636.0   \n",
       "2  hen_1 2020-10-02              0.0              0.0            551.0   \n",
       "\n",
       "   duration_4_Zone  duration_5_Zone  verification_daily_total_duration  \\\n",
       "0            515.0           5911.0                            28800.0   \n",
       "1              0.0          17454.0                            32400.0   \n",
       "2              0.0          31849.0                            32400.0   \n",
       "\n",
       "   Total_number_zone Max_duration_zones  ... degree_DTW_30_1_Zone  \\\n",
       "0                4.0             2_Zone  ...             1.000000   \n",
       "1                3.0             5_Zone  ...             0.993197   \n",
       "2                2.0             5_Zone  ...             1.000000   \n",
       "\n",
       "   degree_DTW_30_2_Zone  degree_DTW_30_3_Zone  degree_DTW_30_4_Zone  \\\n",
       "0              0.131944              0.208333              0.826389   \n",
       "1              0.047619              0.176871              0.802721   \n",
       "2              0.564626              0.646259              0.802721   \n",
       "\n",
       "   degree_DTW_30_5_Zone  degree_DTW_30_all  ALL_MLPS_99  ALL_MLPS_10  \\\n",
       "0              0.437500           0.312500          NaN          NaN   \n",
       "1              0.115646           0.380952          NaN          NaN   \n",
       "2              0.455782           0.503401          NaN          NaN   \n",
       "\n",
       "   ALL_MLPS_40  in_WG_15mnAfterOpening_whenopen  \n",
       "0          NaN                              NaN  \n",
       "1          NaN                              NaN  \n",
       "2          NaN                              NaN  \n",
       "\n",
       "[3 rows x 224 columns]"
      ]
     },
     "execution_count": 12,
     "metadata": {},
     "output_type": "execute_result"
    }
   ],
   "source": [
    "#add np.nan for the WG var when the WG was close\n",
    "df_MVT['in_WG_15mnAfterOpening_whenopen'] = df_MVT.apply(lambda x: x['in_WG_15mnAfterOpening'] if x['level']>config.date_first_opening_WG else np.nan, axis=1)\n",
    "display(df_MVT['in_WG_15mnAfterOpening'].value_counts())\n",
    "display(df_MVT['in_WG_15mnAfterOpening_whenopen'].value_counts())\n",
    "df_MVT.head(3)"
   ]
  },
  {
   "cell_type": "code",
   "execution_count": 13,
   "metadata": {},
   "outputs": [
    {
     "name": "stderr",
     "output_type": "stream",
     "text": [
      "C:\\Users\\camil\\anaconda3\\lib\\site-packages\\ipykernel\\ipkernel.py:283: DeprecationWarning: `should_run_async` will not call `transform_cell` automatically in the future. Please pass the result to `transformed_cell` argument and any exception that happen during thetransform in `preprocessing_exc_tuple` in IPython 7.17 and above.\n",
      "  and should_run_async(code)\n"
     ]
    },
    {
     "data": {
      "text/plain": [
       "3    131\n",
       "Name: nbr_days, dtype: int64"
      ]
     },
     "metadata": {},
     "output_type": "display_data"
    },
    {
     "data": {
      "text/html": [
       "<div>\n",
       "<style scoped>\n",
       "    .dataframe tbody tr th:only-of-type {\n",
       "        vertical-align: middle;\n",
       "    }\n",
       "\n",
       "    .dataframe tbody tr th {\n",
       "        vertical-align: top;\n",
       "    }\n",
       "\n",
       "    .dataframe thead th {\n",
       "        text-align: right;\n",
       "    }\n",
       "</style>\n",
       "<table border=\"1\" class=\"dataframe\">\n",
       "  <thead>\n",
       "    <tr style=\"text-align: right;\">\n",
       "      <th></th>\n",
       "      <th>HenID</th>\n",
       "      <th>Total_number_zone</th>\n",
       "      <th>nbr_days</th>\n",
       "      <th>%_days_nomvt</th>\n",
       "      <th>veri=1</th>\n",
       "    </tr>\n",
       "  </thead>\n",
       "  <tbody>\n",
       "    <tr>\n",
       "      <th>0</th>\n",
       "      <td>hen_1</td>\n",
       "      <td>[4.0, 3.0, 2.0]</td>\n",
       "      <td>3</td>\n",
       "      <td>0.000000</td>\n",
       "      <td>[False, False, False]</td>\n",
       "    </tr>\n",
       "    <tr>\n",
       "      <th>1</th>\n",
       "      <td>hen_10</td>\n",
       "      <td>[4.0, 2.0, 1.0]</td>\n",
       "      <td>3</td>\n",
       "      <td>33.333333</td>\n",
       "      <td>[False, False, True]</td>\n",
       "    </tr>\n",
       "    <tr>\n",
       "      <th>2</th>\n",
       "      <td>hen_101</td>\n",
       "      <td>[2.0, 2.0, 3.0]</td>\n",
       "      <td>3</td>\n",
       "      <td>0.000000</td>\n",
       "      <td>[False, False, False]</td>\n",
       "    </tr>\n",
       "  </tbody>\n",
       "</table>\n",
       "</div>"
      ],
      "text/plain": [
       "     HenID Total_number_zone  nbr_days  %_days_nomvt                 veri=1\n",
       "0    hen_1   [4.0, 3.0, 2.0]         3      0.000000  [False, False, False]\n",
       "1   hen_10   [4.0, 2.0, 1.0]         3     33.333333   [False, False, True]\n",
       "2  hen_101   [2.0, 2.0, 3.0]         3      0.000000  [False, False, False]"
      ]
     },
     "metadata": {},
     "output_type": "display_data"
    }
   ],
   "source": [
    "#add %of days with no movement on the first 3 days (as after a lot of missing data)\n",
    "df_nnmvt = df_MVT[df_MVT['DOA'].isin([119,120,121])].groupby(['HenID'])['Total_number_zone'].agg(lambda x: list(x)).reset_index()\n",
    "df_nnmvt['nbr_days'] = df_nnmvt['Total_number_zone'].map(lambda x: len(x))\n",
    "display(df_nnmvt['nbr_days'].value_counts())\n",
    "df_nnmvt['%_days_nomvt'] = df_nnmvt['Total_number_zone'].map(lambda x: sum([i==1 for i in x])/len(x)*100)\n",
    "df_nnmvt['veri=1'] = df_nnmvt['Total_number_zone'].map(lambda x: [i==1 for i in x])\n",
    "display(df_nnmvt.head(3))\n",
    "dico_henID_daysnomvt = dict(zip(df_nnmvt['HenID'], df_nnmvt['%_days_nomvt']))\n",
    "#dico_henID_daysnomvt"
   ]
  },
  {
   "cell_type": "code",
   "execution_count": 14,
   "metadata": {},
   "outputs": [
    {
     "name": "stderr",
     "output_type": "stream",
     "text": [
      "C:\\Users\\camil\\anaconda3\\lib\\site-packages\\ipykernel\\ipkernel.py:283: DeprecationWarning: `should_run_async` will not call `transform_cell` automatically in the future. Please pass the result to `transformed_cell` argument and any exception that happen during thetransform in `preprocessing_exc_tuple` in IPython 7.17 and above.\n",
      "  and should_run_async(code)\n"
     ]
    },
    {
     "data": {
      "text/plain": [
       "clIDother    2390\n",
       "clID67       1904\n",
       "clID22        727\n",
       "clID3         475\n",
       "clID15        350\n",
       "clID0         274\n",
       "clID6         157\n",
       "clID7         133\n",
       "clID21        131\n",
       "clID52        112\n",
       "clID33         68\n",
       "Name: ALL_MLPS_99_10cat, dtype: int64"
      ]
     },
     "execution_count": 14,
     "metadata": {},
     "output_type": "execute_result"
    }
   ],
   "source": [
    "#merge the least frequent clusterID together for now\n",
    "nbr_cluster2keep = 10\n",
    "li_clmostimportant = df_MVT['ALL_MLPS_99'].value_counts().reset_index()['index'][0:nbr_cluster2keep].tolist()\n",
    "df_MVT['ALL_MLPS_99_'+str(nbr_cluster2keep)+'cat'] = df_MVT['ALL_MLPS_99'].map(lambda x: 'clID'+str(int(x)) if x in li_clmostimportant else 'clIDother')\n",
    "df_MVT['ALL_MLPS_99_'+str(nbr_cluster2keep)+'cat'].value_counts()"
   ]
  },
  {
   "cell_type": "markdown",
   "metadata": {},
   "source": [
    "# Correlation between behavioural variables on day 1 and beh. var. on day x"
   ]
  },
  {
   "cell_type": "code",
   "execution_count": 15,
   "metadata": {},
   "outputs": [
    {
     "name": "stderr",
     "output_type": "stream",
     "text": [
      "C:\\Users\\camil\\anaconda3\\lib\\site-packages\\ipykernel\\ipkernel.py:283: DeprecationWarning: `should_run_async` will not call `transform_cell` automatically in the future. Please pass the result to `transformed_cell` argument and any exception that happen during thetransform in `preprocessing_exc_tuple` in IPython 7.17 and above.\n",
      "  and should_run_async(code)\n"
     ]
    },
    {
     "data": {
      "text/html": [
       "<div>\n",
       "<style scoped>\n",
       "    .dataframe tbody tr th:only-of-type {\n",
       "        vertical-align: middle;\n",
       "    }\n",
       "\n",
       "    .dataframe tbody tr th {\n",
       "        vertical-align: top;\n",
       "    }\n",
       "\n",
       "    .dataframe thead th {\n",
       "        text-align: right;\n",
       "    }\n",
       "</style>\n",
       "<table border=\"1\" class=\"dataframe\">\n",
       "  <thead>\n",
       "    <tr style=\"text-align: right;\">\n",
       "      <th></th>\n",
       "      <th>HenID</th>\n",
       "      <th>level</th>\n",
       "      <th>duration_1_Zone</th>\n",
       "      <th>duration_2_Zone</th>\n",
       "      <th>duration_3_Zone</th>\n",
       "      <th>duration_4_Zone</th>\n",
       "      <th>duration_5_Zone</th>\n",
       "      <th>verification_daily_total_duration</th>\n",
       "      <th>Total_number_zone</th>\n",
       "      <th>Max_duration_zones</th>\n",
       "      <th>...</th>\n",
       "      <th>degree_DTW_30_2_Zone</th>\n",
       "      <th>degree_DTW_30_3_Zone</th>\n",
       "      <th>degree_DTW_30_4_Zone</th>\n",
       "      <th>degree_DTW_30_5_Zone</th>\n",
       "      <th>degree_DTW_30_all</th>\n",
       "      <th>ALL_MLPS_99</th>\n",
       "      <th>ALL_MLPS_10</th>\n",
       "      <th>ALL_MLPS_40</th>\n",
       "      <th>in_WG_15mnAfterOpening_whenopen</th>\n",
       "      <th>ALL_MLPS_99_10cat</th>\n",
       "    </tr>\n",
       "  </thead>\n",
       "  <tbody>\n",
       "    <tr>\n",
       "      <th>0</th>\n",
       "      <td>hen_1</td>\n",
       "      <td>2020-09-30</td>\n",
       "      <td>0.0</td>\n",
       "      <td>18886.0</td>\n",
       "      <td>3488.0</td>\n",
       "      <td>515.0</td>\n",
       "      <td>5911.0</td>\n",
       "      <td>28800.0</td>\n",
       "      <td>4.0</td>\n",
       "      <td>2_Zone</td>\n",
       "      <td>...</td>\n",
       "      <td>0.131944</td>\n",
       "      <td>0.208333</td>\n",
       "      <td>0.826389</td>\n",
       "      <td>0.437500</td>\n",
       "      <td>0.312500</td>\n",
       "      <td>NaN</td>\n",
       "      <td>NaN</td>\n",
       "      <td>NaN</td>\n",
       "      <td>NaN</td>\n",
       "      <td>clIDother</td>\n",
       "    </tr>\n",
       "    <tr>\n",
       "      <th>1</th>\n",
       "      <td>hen_1</td>\n",
       "      <td>2020-10-01</td>\n",
       "      <td>0.0</td>\n",
       "      <td>9310.0</td>\n",
       "      <td>5636.0</td>\n",
       "      <td>0.0</td>\n",
       "      <td>17454.0</td>\n",
       "      <td>32400.0</td>\n",
       "      <td>3.0</td>\n",
       "      <td>5_Zone</td>\n",
       "      <td>...</td>\n",
       "      <td>0.047619</td>\n",
       "      <td>0.176871</td>\n",
       "      <td>0.802721</td>\n",
       "      <td>0.115646</td>\n",
       "      <td>0.380952</td>\n",
       "      <td>NaN</td>\n",
       "      <td>NaN</td>\n",
       "      <td>NaN</td>\n",
       "      <td>NaN</td>\n",
       "      <td>clIDother</td>\n",
       "    </tr>\n",
       "    <tr>\n",
       "      <th>2</th>\n",
       "      <td>hen_1</td>\n",
       "      <td>2020-10-02</td>\n",
       "      <td>0.0</td>\n",
       "      <td>0.0</td>\n",
       "      <td>551.0</td>\n",
       "      <td>0.0</td>\n",
       "      <td>31849.0</td>\n",
       "      <td>32400.0</td>\n",
       "      <td>2.0</td>\n",
       "      <td>5_Zone</td>\n",
       "      <td>...</td>\n",
       "      <td>0.564626</td>\n",
       "      <td>0.646259</td>\n",
       "      <td>0.802721</td>\n",
       "      <td>0.455782</td>\n",
       "      <td>0.503401</td>\n",
       "      <td>NaN</td>\n",
       "      <td>NaN</td>\n",
       "      <td>NaN</td>\n",
       "      <td>NaN</td>\n",
       "      <td>clIDother</td>\n",
       "    </tr>\n",
       "  </tbody>\n",
       "</table>\n",
       "<p>3 rows × 225 columns</p>\n",
       "</div>"
      ],
      "text/plain": [
       "   HenID      level  duration_1_Zone  duration_2_Zone  duration_3_Zone  \\\n",
       "0  hen_1 2020-09-30              0.0          18886.0           3488.0   \n",
       "1  hen_1 2020-10-01              0.0           9310.0           5636.0   \n",
       "2  hen_1 2020-10-02              0.0              0.0            551.0   \n",
       "\n",
       "   duration_4_Zone  duration_5_Zone  verification_daily_total_duration  \\\n",
       "0            515.0           5911.0                            28800.0   \n",
       "1              0.0          17454.0                            32400.0   \n",
       "2              0.0          31849.0                            32400.0   \n",
       "\n",
       "   Total_number_zone Max_duration_zones  ... degree_DTW_30_2_Zone  \\\n",
       "0                4.0             2_Zone  ...             0.131944   \n",
       "1                3.0             5_Zone  ...             0.047619   \n",
       "2                2.0             5_Zone  ...             0.564626   \n",
       "\n",
       "   degree_DTW_30_3_Zone  degree_DTW_30_4_Zone  degree_DTW_30_5_Zone  \\\n",
       "0              0.208333              0.826389              0.437500   \n",
       "1              0.176871              0.802721              0.115646   \n",
       "2              0.646259              0.802721              0.455782   \n",
       "\n",
       "   degree_DTW_30_all  ALL_MLPS_99  ALL_MLPS_10  ALL_MLPS_40  \\\n",
       "0           0.312500          NaN          NaN          NaN   \n",
       "1           0.380952          NaN          NaN          NaN   \n",
       "2           0.503401          NaN          NaN          NaN   \n",
       "\n",
       "   in_WG_15mnAfterOpening_whenopen  ALL_MLPS_99_10cat  \n",
       "0                              NaN          clIDother  \n",
       "1                              NaN          clIDother  \n",
       "2                              NaN          clIDother  \n",
       "\n",
       "[3 rows x 225 columns]"
      ]
     },
     "execution_count": 15,
     "metadata": {},
     "output_type": "execute_result"
    }
   ],
   "source": [
    "df_MVT.head(3)"
   ]
  },
  {
   "cell_type": "code",
   "execution_count": 16,
   "metadata": {},
   "outputs": [
    {
     "name": "stderr",
     "output_type": "stream",
     "text": [
      "C:\\Users\\camil\\anaconda3\\lib\\site-packages\\ipykernel\\ipkernel.py:283: DeprecationWarning: `should_run_async` will not call `transform_cell` automatically in the future. Please pass the result to `transformed_cell` argument and any exception that happen during thetransform in `preprocessing_exc_tuple` in IPython 7.17 and above.\n",
      "  and should_run_async(code)\n"
     ]
    }
   ],
   "source": [
    "#!!    copy paste from: https://gist.github.com/zhiyzuo/d38159a7c48b575af3e3de7501462e04     !!\n",
    "def pearsonr_ci(x,y,alpha=0.05):\n",
    "    ''' calculate Pearson correlation along with the confidence interval using scipy and numpy\n",
    "    Parameters\n",
    "    ----------\n",
    "    x, y : iterable object such as a list or np.array\n",
    "      Input for correlation calculation\n",
    "    alpha : float\n",
    "      Significance level. 0.05 by default\n",
    "    Returns\n",
    "    -------\n",
    "    r : float\n",
    "      Pearson's correlation coefficient\n",
    "    pval : float\n",
    "      The corresponding p value\n",
    "    lo, hi : float\n",
    "      The lower and upper bound of confidence intervals\n",
    "    '''\n",
    "\n",
    "    r, p = stats.pearsonr(x,y)\n",
    "    r_z = np.arctanh(r)\n",
    "    se = 1/np.sqrt(x.size-3)\n",
    "    z = stats.norm.ppf(1-alpha/2)\n",
    "    lo_z, hi_z = r_z-z*se, r_z+z*se\n",
    "    lo, hi = np.tanh((lo_z, hi_z))\n",
    "    return r, p, lo, hi"
   ]
  },
  {
   "cell_type": "code",
   "execution_count": 17,
   "metadata": {},
   "outputs": [
    {
     "name": "stdout",
     "output_type": "stream",
     "text": [
      "['HenID', 'level', 'duration_1_Zone', 'duration_2_Zone', 'duration_3_Zone', 'duration_4_Zone', 'duration_5_Zone', 'verification_daily_total_duration', 'Total_number_zone', 'Max_duration_zones', 'dico_zone_sortedduration', 'Total_number_transition', 'distribution_entropy', 'vertical_travel_distance', 'nbr_stays_3_Zone', 'nbr_appearances_3_Zone', 'empproba_3_Zone', 'nbr_stays_4_Zone', 'nbr_appearances_4_Zone', 'empproba_4_Zone', 'nbr_stays_5_Zone', 'nbr_appearances_5_Zone', 'empproba_5_Zone', 'nbr_stays_2_Zone', 'nbr_appearances_2_Zone', 'empproba_2_Zone', 'nbr_stays_1_Zone', 'nbr_appearances_1_Zone', 'empproba_1_Zone', 'Max_duration_zone_4', 'down_missingZone_mvtPerc', 'up_missingZone_mvtPerc', 'mean_duration', 'median_duration', 'max_duration', 'min_duration', 'variance_duration', 'percentile_5', 'percentile_15_duration', 'percentile_85_duration', 'percentile_95_duration', 'median_abs_deviation_duration', 'kurtosis_duration', 'skew_duration', 'stay_longer_60sec', 'stay_longer_60sec_3_Zone', 'stay_longer_60sec_4_Zone', 'stay_longer_60sec_5_Zone', 'stay_longer_60sec_2_Zone', 'stay_longer_60sec_1_Zone', 'dico_z_chaoticmvtMiddleDuration', '0', 'chaoticmvt_Middle1_Zone', 'chaoticmvt_Middle2_Zone', 'chaoticmvt_Middle3_Zone', 'chaoticmvt_Middle4_Zone', 'chaoticmvt_Middle5_Zone', 'chaoticmvt_Middle1_Zone_nbr_180mn', 'chaoticmvt_Middle1_Zone_nbr_900mn', 'chaoticmvt_Middle2_Zone_nbr_180mn', 'chaoticmvt_Middle2_Zone_nbr_900mn', 'chaoticmvt_Middle3_Zone_nbr_180mn', 'chaoticmvt_Middle3_Zone_nbr_900mn', 'chaoticmvt_Middle4_Zone_nbr_180mn', 'chaoticmvt_Middle4_Zone_nbr_900mn', 'chaoticmvt_Middle5_Zone_nbr_180mn', 'chaoticmvt_Middle5_Zone_nbr_900mn', '1_Zone_tuple_ts_dur', '2_Zone_tuple_ts_dur', '3_Zone_tuple_ts_dur', '4_Zone_tuple_ts_dur', '5_Zone_tuple_ts_dur', 'Nestbox_time_of_first_staid_longer_than900sec', 'sucessIntrusion_9', 'BNestboxHour_nbrd', 'B10h_Nestbox_nbrvisit', 'B10h_Nestbox_Longestduration', 'ANestboxHour_nbrd', 'A12h_Nestbox_nbrvisit', 'A12h_Nestbox_Longestduration', 'NBtimefirstvisitlonger900_minus_time1visit', 'activity_25percentile_sec', 'activity_25percentile_time', 'activity_50percentile_sec', 'activity_50percentile_time', 'activity_5percentile_sec', 'activity_5percentile_time', 'activity_95percentile_sec', 'activity_95percentile_time', 'duration_last-firsttransition_mn', 'in_WG_15mnAfterOpening', 'Max_duration_WG', 'PenID', 'CLASS', 'R-Pen', 'InitialStartDate', '29-09 weight', '10-12 juin weight', 'weight 23-11-2020', 'weight 04-01-2021', 'weight 01-02-21', 'weight 12-04-21', 'Treatment', 'TagID', 'FocalLegringName', 'night_level', 'night_Max_duration_zones', 'night_distribution_entropy', 'night_Total_number_transition', 'is_mvt_night', 'nbr_transition_at_h0', 'nbr_transition_at_h1', 'nbr_transition_at_h2', 'nbr_transition_at_h3', 'nbr_transition_at_h4', 'nbr_transition_at_h5', 'nbr_transition_at_h6', 'nbr_transition_at_h7', 'nbr_transition_at_h8', 'nbr_transition_at_h21', 'nbr_transition_at_h22', 'nbr_transition_at_h23', 'nbr_transition_next1hafterlightoff', 'date_2remove_weirdLFcounter', 'nbr_temperature_nnnan', 'temperature_night20_2_median', 'temperature_night20_2_max', 'temperature_night20_2_var', 'len_MovementCounter_day', 'MovementCounter_day_amount_nnactivity', 'MovementCounter_day_max', 'MovementCounter_day_mean', 'DOA', 'WOA', 'nbr_sec_per_day', 'is_correct_amount_time', 'weight_DOA37-39_div_DOA118', 'weight_DOA37-39_div_DOA243', 'weight_DOA118_div_DOA173', 'weight_DOA118_div_DOA243', 'weight_DOA173_div_DOA243', 'date', 'temperature_C', 'humidity_avgpercent', 'had_rainorsnow', 'moon_name', 'Illumination_percentage', 'latency_1_Zone', 'latency_2_Zone', 'latency_3_Zone', 'latency_4_Zone', 'latency_5_Zone', 'latency_since15mnnestbox', 'chi2-distance', 'percChaoticTransition', 'perc_duration_1_Zone', 'perc_duration_2_Zone', 'perc_duration_3_Zone', 'perc_duration_4_Zone', 'perc_duration_5_Zone', 'max_duration_of_stay', 'entropy_of_durations', 'time_wg_open_sec', 'percentage_time_outside_while_WG_open', '24htotaltransition', '#trnight/#totaltr', 'li_night_Max_duration_zones', 'nbr_same_mainnightzone5Days', 'nbr_night_', 'Consistent_Night_Zone5Days', 'Nestbox_time_of_first_staid_longer_than900sec_CLASS', 'TimeFirstVisitLonger15mn-TimeFirstVisit_mn', 'Nestbox1staylonger900_None', 'Nestbox1staylonger900_Afternoon', 'Nestbox1staylonger900_b8', 'Nestbox1staylonger900_8-9', 'Nestbox1staylonger900_9-10', 'Nestbox1staylonger900_10-12', 'Nestbox_perc_of_visits_afternoon_vs_morning&afternoon', 'is_max_zone_duration_zone1', 'is_max_zone_duration_zone2', 'is_max_zone_duration_zone3', 'is_max_zone_duration_zone4', 'is_max_zone_duration_zone5', 'is_max_nightzone_duration_zone2', 'is_max_nightzone_duration_zone3', 'is_max_nightzone_duration_zone4', 'is_max_nightzone_duration_zone5', 'is_max_nightzone_duration_zonelitterORlowerperch', 'clustering_general_activity', 'clustering_nestbox', 'clustering_WG', 'PC0', 'PC1', 'PC2', 'PC3', 'PC4', 'PC5', 'PC6', 'PC7', 'clustering_ALL', 'weeks_in_laying_barn', 'closeness_DTW_30_1_Zone', 'closeness_DTW_30_2_Zone', 'closeness_DTW_30_3_Zone', 'closeness_DTW_30_4_Zone', 'closeness_DTW_30_5_Zone', 'closeness_DTW_30_all', 'betweeness_DTW_30_1_Zone', 'betweeness_DTW_30_2_Zone', 'betweeness_DTW_30_3_Zone', 'betweeness_DTW_30_4_Zone', 'betweeness_DTW_30_5_Zone', 'betweeness_DTW_30_all', 'degree_DTW_30_1_Zone', 'degree_DTW_30_2_Zone', 'degree_DTW_30_3_Zone', 'degree_DTW_30_4_Zone', 'degree_DTW_30_5_Zone', 'degree_DTW_30_all', 'ALL_MLPS_99', 'ALL_MLPS_10', 'ALL_MLPS_40', 'in_WG_15mnAfterOpening_whenopen', 'ALL_MLPS_99_10cat']\n"
     ]
    },
    {
     "name": "stderr",
     "output_type": "stream",
     "text": [
      "C:\\Users\\camil\\anaconda3\\lib\\site-packages\\ipykernel\\ipkernel.py:283: DeprecationWarning: `should_run_async` will not call `transform_cell` automatically in the future. Please pass the result to `transformed_cell` argument and any exception that happen during thetransform in `preprocessing_exc_tuple` in IPython 7.17 and above.\n",
      "  and should_run_async(code)\n"
     ]
    }
   ],
   "source": [
    "print(list(df_MVT.columns))"
   ]
  },
  {
   "cell_type": "raw",
   "metadata": {},
   "source": [
    "Total_number_zone,\n",
    "#number of zone:\n",
    "kendalltau\n",
    "Kendall’s tau, a correlation measure for ordinal data.https://docs.scipy.org/doc/scipy/reference/generated/scipy.stats.kendalltau.html#scipy.stats.kendalltau"
   ]
  },
  {
   "cell_type": "code",
   "execution_count": 18,
   "metadata": {},
   "outputs": [
    {
     "name": "stderr",
     "output_type": "stream",
     "text": [
      "C:\\Users\\camil\\anaconda3\\lib\\site-packages\\ipykernel\\ipkernel.py:283: DeprecationWarning: `should_run_async` will not call `transform_cell` automatically in the future. Please pass the result to `transformed_cell` argument and any exception that happen during thetransform in `preprocessing_exc_tuple` in IPython 7.17 and above.\n",
      "  and should_run_async(code)\n"
     ]
    }
   ],
   "source": [
    "dico_h_tr = dict(zip(df_HA['HenID'].tolist(), df_HA['Treatment'].tolist()))\n",
    "dico_h_HA4sev = dict(zip(df_HA[df_HA['HAID']=='HA4']['HenID'].tolist(), df_HA[df_HA['HAID']=='HA4']['severity'].tolist()))\n",
    "dico_h_HA4feather = dict(zip(df_HA[df_HA['HAID']=='HA4']['HenID'].tolist(), df_HA[df_HA['HAID']=='HA4']['Feathers'].tolist()))\n",
    "dico_h_HA4podo = dict(zip(df_HA[df_HA['HAID']=='HA4']['HenID'].tolist(), df_HA[df_HA['HAID']=='HA4']['Pododermatitis'].tolist()))\n",
    "dico_h_HA4toesinjuries = dict(zip(df_HA[df_HA['HAID']=='HA4']['HenID'].tolist(), df_HA[df_HA['HAID']=='HA4']['Injuries'].tolist()))"
   ]
  },
  {
   "cell_type": "code",
   "execution_count": 22,
   "metadata": {
    "scrolled": true
   },
   "outputs": [
    {
     "name": "stderr",
     "output_type": "stream",
     "text": [
      "C:\\Users\\camil\\anaconda3\\lib\\site-packages\\ipykernel\\ipkernel.py:283: DeprecationWarning: `should_run_async` will not call `transform_cell` automatically in the future. Please pass the result to `transformed_cell` argument and any exception that happen during thetransform in `preprocessing_exc_tuple` in IPython 7.17 and above.\n",
      "  and should_run_async(code)\n",
      "C:\\Users\\camil\\anaconda3\\lib\\site-packages\\scipy\\stats\\stats.py:3845: PearsonRConstantInputWarning: An input array is constant; the correlation coefficent is not defined.\n",
      "  warnings.warn(PearsonRConstantInputWarning())\n",
      "C:\\Users\\camil\\anaconda3\\lib\\site-packages\\scipy\\stats\\stats.py:3845: PearsonRConstantInputWarning: An input array is constant; the correlation coefficent is not defined.\n",
      "  warnings.warn(PearsonRConstantInputWarning())\n",
      "C:\\Users\\camil\\anaconda3\\lib\\site-packages\\scipy\\stats\\stats.py:3845: PearsonRConstantInputWarning: An input array is constant; the correlation coefficent is not defined.\n",
      "  warnings.warn(PearsonRConstantInputWarning())\n",
      "C:\\Users\\camil\\anaconda3\\lib\\site-packages\\scipy\\stats\\stats.py:3845: PearsonRConstantInputWarning: An input array is constant; the correlation coefficent is not defined.\n",
      "  warnings.warn(PearsonRConstantInputWarning())\n",
      "C:\\Users\\camil\\anaconda3\\lib\\site-packages\\scipy\\stats\\stats.py:3845: PearsonRConstantInputWarning: An input array is constant; the correlation coefficent is not defined.\n",
      "  warnings.warn(PearsonRConstantInputWarning())\n",
      "C:\\Users\\camil\\anaconda3\\lib\\site-packages\\scipy\\stats\\stats.py:3845: PearsonRConstantInputWarning: An input array is constant; the correlation coefficent is not defined.\n",
      "  warnings.warn(PearsonRConstantInputWarning())\n",
      "C:\\Users\\camil\\anaconda3\\lib\\site-packages\\scipy\\stats\\stats.py:3845: PearsonRConstantInputWarning: An input array is constant; the correlation coefficent is not defined.\n",
      "  warnings.warn(PearsonRConstantInputWarning())\n",
      "C:\\Users\\camil\\anaconda3\\lib\\site-packages\\scipy\\stats\\stats.py:3845: PearsonRConstantInputWarning: An input array is constant; the correlation coefficent is not defined.\n",
      "  warnings.warn(PearsonRConstantInputWarning())\n",
      "C:\\Users\\camil\\anaconda3\\lib\\site-packages\\scipy\\stats\\stats.py:3845: PearsonRConstantInputWarning: An input array is constant; the correlation coefficent is not defined.\n",
      "  warnings.warn(PearsonRConstantInputWarning())\n",
      "C:\\Users\\camil\\anaconda3\\lib\\site-packages\\scipy\\stats\\stats.py:3845: PearsonRConstantInputWarning: An input array is constant; the correlation coefficent is not defined.\n",
      "  warnings.warn(PearsonRConstantInputWarning())\n",
      "C:\\Users\\camil\\anaconda3\\lib\\site-packages\\scipy\\stats\\stats.py:3845: PearsonRConstantInputWarning: An input array is constant; the correlation coefficent is not defined.\n",
      "  warnings.warn(PearsonRConstantInputWarning())\n",
      "C:\\Users\\camil\\anaconda3\\lib\\site-packages\\scipy\\stats\\stats.py:3845: PearsonRConstantInputWarning: An input array is constant; the correlation coefficent is not defined.\n",
      "  warnings.warn(PearsonRConstantInputWarning())\n",
      "C:\\Users\\camil\\anaconda3\\lib\\site-packages\\scipy\\stats\\stats.py:3845: PearsonRConstantInputWarning: An input array is constant; the correlation coefficent is not defined.\n",
      "  warnings.warn(PearsonRConstantInputWarning())\n",
      "C:\\Users\\camil\\anaconda3\\lib\\site-packages\\scipy\\stats\\stats.py:3845: PearsonRConstantInputWarning: An input array is constant; the correlation coefficent is not defined.\n",
      "  warnings.warn(PearsonRConstantInputWarning())\n",
      "C:\\Users\\camil\\anaconda3\\lib\\site-packages\\scipy\\stats\\stats.py:3845: PearsonRConstantInputWarning: An input array is constant; the correlation coefficent is not defined.\n",
      "  warnings.warn(PearsonRConstantInputWarning())\n",
      "C:\\Users\\camil\\anaconda3\\lib\\site-packages\\scipy\\stats\\stats.py:3845: PearsonRConstantInputWarning: An input array is constant; the correlation coefficent is not defined.\n",
      "  warnings.warn(PearsonRConstantInputWarning())\n",
      "C:\\Users\\camil\\anaconda3\\lib\\site-packages\\scipy\\stats\\stats.py:3845: PearsonRConstantInputWarning: An input array is constant; the correlation coefficent is not defined.\n",
      "  warnings.warn(PearsonRConstantInputWarning())\n",
      "C:\\Users\\camil\\anaconda3\\lib\\site-packages\\scipy\\stats\\stats.py:3845: PearsonRConstantInputWarning: An input array is constant; the correlation coefficent is not defined.\n",
      "  warnings.warn(PearsonRConstantInputWarning())\n",
      "C:\\Users\\camil\\anaconda3\\lib\\site-packages\\scipy\\stats\\stats.py:3845: PearsonRConstantInputWarning: An input array is constant; the correlation coefficent is not defined.\n",
      "  warnings.warn(PearsonRConstantInputWarning())\n",
      "C:\\Users\\camil\\anaconda3\\lib\\site-packages\\scipy\\stats\\stats.py:3845: PearsonRConstantInputWarning: An input array is constant; the correlation coefficent is not defined.\n",
      "  warnings.warn(PearsonRConstantInputWarning())\n",
      "C:\\Users\\camil\\anaconda3\\lib\\site-packages\\scipy\\stats\\stats.py:3845: PearsonRConstantInputWarning: An input array is constant; the correlation coefficent is not defined.\n",
      "  warnings.warn(PearsonRConstantInputWarning())\n",
      "C:\\Users\\camil\\anaconda3\\lib\\site-packages\\scipy\\stats\\stats.py:3845: PearsonRConstantInputWarning: An input array is constant; the correlation coefficent is not defined.\n",
      "  warnings.warn(PearsonRConstantInputWarning())\n",
      "C:\\Users\\camil\\anaconda3\\lib\\site-packages\\scipy\\stats\\stats.py:3845: PearsonRConstantInputWarning: An input array is constant; the correlation coefficent is not defined.\n",
      "  warnings.warn(PearsonRConstantInputWarning())\n",
      "C:\\Users\\camil\\anaconda3\\lib\\site-packages\\scipy\\stats\\stats.py:3845: PearsonRConstantInputWarning: An input array is constant; the correlation coefficent is not defined.\n",
      "  warnings.warn(PearsonRConstantInputWarning())\n",
      "C:\\Users\\camil\\anaconda3\\lib\\site-packages\\scipy\\stats\\stats.py:3845: PearsonRConstantInputWarning: An input array is constant; the correlation coefficent is not defined.\n",
      "  warnings.warn(PearsonRConstantInputWarning())\n",
      "C:\\Users\\camil\\anaconda3\\lib\\site-packages\\scipy\\stats\\stats.py:3845: PearsonRConstantInputWarning: An input array is constant; the correlation coefficent is not defined.\n",
      "  warnings.warn(PearsonRConstantInputWarning())\n",
      "C:\\Users\\camil\\anaconda3\\lib\\site-packages\\scipy\\stats\\stats.py:3845: PearsonRConstantInputWarning: An input array is constant; the correlation coefficent is not defined.\n",
      "  warnings.warn(PearsonRConstantInputWarning())\n",
      "C:\\Users\\camil\\anaconda3\\lib\\site-packages\\scipy\\stats\\stats.py:3845: PearsonRConstantInputWarning: An input array is constant; the correlation coefficent is not defined.\n",
      "  warnings.warn(PearsonRConstantInputWarning())\n",
      "C:\\Users\\camil\\anaconda3\\lib\\site-packages\\scipy\\stats\\stats.py:3845: PearsonRConstantInputWarning: An input array is constant; the correlation coefficent is not defined.\n",
      "  warnings.warn(PearsonRConstantInputWarning())\n",
      "C:\\Users\\camil\\anaconda3\\lib\\site-packages\\scipy\\stats\\stats.py:3845: PearsonRConstantInputWarning: An input array is constant; the correlation coefficent is not defined.\n",
      "  warnings.warn(PearsonRConstantInputWarning())\n",
      "C:\\Users\\camil\\anaconda3\\lib\\site-packages\\scipy\\stats\\stats.py:3845: PearsonRConstantInputWarning: An input array is constant; the correlation coefficent is not defined.\n",
      "  warnings.warn(PearsonRConstantInputWarning())\n",
      "C:\\Users\\camil\\anaconda3\\lib\\site-packages\\scipy\\stats\\stats.py:3845: PearsonRConstantInputWarning: An input array is constant; the correlation coefficent is not defined.\n",
      "  warnings.warn(PearsonRConstantInputWarning())\n",
      "C:\\Users\\camil\\anaconda3\\lib\\site-packages\\scipy\\stats\\stats.py:3845: PearsonRConstantInputWarning: An input array is constant; the correlation coefficent is not defined.\n",
      "  warnings.warn(PearsonRConstantInputWarning())\n",
      "C:\\Users\\camil\\anaconda3\\lib\\site-packages\\scipy\\stats\\stats.py:3845: PearsonRConstantInputWarning: An input array is constant; the correlation coefficent is not defined.\n",
      "  warnings.warn(PearsonRConstantInputWarning())\n",
      "C:\\Users\\camil\\anaconda3\\lib\\site-packages\\scipy\\stats\\stats.py:3845: PearsonRConstantInputWarning: An input array is constant; the correlation coefficent is not defined.\n",
      "  warnings.warn(PearsonRConstantInputWarning())\n",
      "C:\\Users\\camil\\anaconda3\\lib\\site-packages\\scipy\\stats\\stats.py:3845: PearsonRConstantInputWarning: An input array is constant; the correlation coefficent is not defined.\n",
      "  warnings.warn(PearsonRConstantInputWarning())\n",
      "C:\\Users\\camil\\anaconda3\\lib\\site-packages\\scipy\\stats\\stats.py:3845: PearsonRConstantInputWarning: An input array is constant; the correlation coefficent is not defined.\n",
      "  warnings.warn(PearsonRConstantInputWarning())\n",
      "C:\\Users\\camil\\anaconda3\\lib\\site-packages\\scipy\\stats\\stats.py:3845: PearsonRConstantInputWarning: An input array is constant; the correlation coefficent is not defined.\n",
      "  warnings.warn(PearsonRConstantInputWarning())\n",
      "C:\\Users\\camil\\anaconda3\\lib\\site-packages\\scipy\\stats\\stats.py:3845: PearsonRConstantInputWarning: An input array is constant; the correlation coefficent is not defined.\n",
      "  warnings.warn(PearsonRConstantInputWarning())\n",
      "C:\\Users\\camil\\anaconda3\\lib\\site-packages\\scipy\\stats\\stats.py:3845: PearsonRConstantInputWarning: An input array is constant; the correlation coefficent is not defined.\n",
      "  warnings.warn(PearsonRConstantInputWarning())\n"
     ]
    },
    {
     "name": "stderr",
     "output_type": "stream",
     "text": [
      "C:\\Users\\camil\\anaconda3\\lib\\site-packages\\scipy\\stats\\stats.py:3845: PearsonRConstantInputWarning: An input array is constant; the correlation coefficent is not defined.\n",
      "  warnings.warn(PearsonRConstantInputWarning())\n",
      "C:\\Users\\camil\\anaconda3\\lib\\site-packages\\scipy\\stats\\stats.py:3845: PearsonRConstantInputWarning: An input array is constant; the correlation coefficent is not defined.\n",
      "  warnings.warn(PearsonRConstantInputWarning())\n",
      "C:\\Users\\camil\\anaconda3\\lib\\site-packages\\scipy\\stats\\stats.py:3845: PearsonRConstantInputWarning: An input array is constant; the correlation coefficent is not defined.\n",
      "  warnings.warn(PearsonRConstantInputWarning())\n",
      "C:\\Users\\camil\\anaconda3\\lib\\site-packages\\scipy\\stats\\stats.py:3845: PearsonRConstantInputWarning: An input array is constant; the correlation coefficent is not defined.\n",
      "  warnings.warn(PearsonRConstantInputWarning())\n",
      "C:\\Users\\camil\\anaconda3\\lib\\site-packages\\scipy\\stats\\stats.py:3845: PearsonRConstantInputWarning: An input array is constant; the correlation coefficent is not defined.\n",
      "  warnings.warn(PearsonRConstantInputWarning())\n",
      "C:\\Users\\camil\\anaconda3\\lib\\site-packages\\scipy\\stats\\stats.py:3845: PearsonRConstantInputWarning: An input array is constant; the correlation coefficent is not defined.\n",
      "  warnings.warn(PearsonRConstantInputWarning())\n",
      "C:\\Users\\camil\\anaconda3\\lib\\site-packages\\scipy\\stats\\stats.py:3845: PearsonRConstantInputWarning: An input array is constant; the correlation coefficent is not defined.\n",
      "  warnings.warn(PearsonRConstantInputWarning())\n",
      "C:\\Users\\camil\\anaconda3\\lib\\site-packages\\scipy\\stats\\stats.py:3845: PearsonRConstantInputWarning: An input array is constant; the correlation coefficent is not defined.\n",
      "  warnings.warn(PearsonRConstantInputWarning())\n",
      "C:\\Users\\camil\\anaconda3\\lib\\site-packages\\scipy\\stats\\stats.py:3845: PearsonRConstantInputWarning: An input array is constant; the correlation coefficent is not defined.\n",
      "  warnings.warn(PearsonRConstantInputWarning())\n",
      "C:\\Users\\camil\\anaconda3\\lib\\site-packages\\scipy\\stats\\stats.py:3845: PearsonRConstantInputWarning: An input array is constant; the correlation coefficent is not defined.\n",
      "  warnings.warn(PearsonRConstantInputWarning())\n",
      "C:\\Users\\camil\\anaconda3\\lib\\site-packages\\scipy\\stats\\stats.py:3845: PearsonRConstantInputWarning: An input array is constant; the correlation coefficent is not defined.\n",
      "  warnings.warn(PearsonRConstantInputWarning())\n",
      "C:\\Users\\camil\\anaconda3\\lib\\site-packages\\scipy\\stats\\stats.py:3845: PearsonRConstantInputWarning: An input array is constant; the correlation coefficent is not defined.\n",
      "  warnings.warn(PearsonRConstantInputWarning())\n",
      "C:\\Users\\camil\\anaconda3\\lib\\site-packages\\scipy\\stats\\stats.py:3845: PearsonRConstantInputWarning: An input array is constant; the correlation coefficent is not defined.\n",
      "  warnings.warn(PearsonRConstantInputWarning())\n",
      "C:\\Users\\camil\\anaconda3\\lib\\site-packages\\scipy\\stats\\stats.py:3845: PearsonRConstantInputWarning: An input array is constant; the correlation coefficent is not defined.\n",
      "  warnings.warn(PearsonRConstantInputWarning())\n",
      "C:\\Users\\camil\\anaconda3\\lib\\site-packages\\scipy\\stats\\stats.py:3845: PearsonRConstantInputWarning: An input array is constant; the correlation coefficent is not defined.\n",
      "  warnings.warn(PearsonRConstantInputWarning())\n",
      "C:\\Users\\camil\\anaconda3\\lib\\site-packages\\scipy\\stats\\stats.py:3845: PearsonRConstantInputWarning: An input array is constant; the correlation coefficent is not defined.\n",
      "  warnings.warn(PearsonRConstantInputWarning())\n",
      "C:\\Users\\camil\\anaconda3\\lib\\site-packages\\scipy\\stats\\stats.py:3845: PearsonRConstantInputWarning: An input array is constant; the correlation coefficent is not defined.\n",
      "  warnings.warn(PearsonRConstantInputWarning())\n",
      "C:\\Users\\camil\\anaconda3\\lib\\site-packages\\scipy\\stats\\stats.py:3845: PearsonRConstantInputWarning: An input array is constant; the correlation coefficent is not defined.\n",
      "  warnings.warn(PearsonRConstantInputWarning())\n",
      "C:\\Users\\camil\\anaconda3\\lib\\site-packages\\scipy\\stats\\stats.py:3845: PearsonRConstantInputWarning: An input array is constant; the correlation coefficent is not defined.\n",
      "  warnings.warn(PearsonRConstantInputWarning())\n",
      "C:\\Users\\camil\\anaconda3\\lib\\site-packages\\scipy\\stats\\stats.py:3845: PearsonRConstantInputWarning: An input array is constant; the correlation coefficent is not defined.\n",
      "  warnings.warn(PearsonRConstantInputWarning())\n",
      "C:\\Users\\camil\\anaconda3\\lib\\site-packages\\scipy\\stats\\stats.py:3845: PearsonRConstantInputWarning: An input array is constant; the correlation coefficent is not defined.\n",
      "  warnings.warn(PearsonRConstantInputWarning())\n",
      "C:\\Users\\camil\\anaconda3\\lib\\site-packages\\scipy\\stats\\stats.py:3845: PearsonRConstantInputWarning: An input array is constant; the correlation coefficent is not defined.\n",
      "  warnings.warn(PearsonRConstantInputWarning())\n",
      "C:\\Users\\camil\\anaconda3\\lib\\site-packages\\scipy\\stats\\stats.py:3845: PearsonRConstantInputWarning: An input array is constant; the correlation coefficent is not defined.\n",
      "  warnings.warn(PearsonRConstantInputWarning())\n",
      "C:\\Users\\camil\\anaconda3\\lib\\site-packages\\scipy\\stats\\stats.py:3845: PearsonRConstantInputWarning: An input array is constant; the correlation coefficent is not defined.\n",
      "  warnings.warn(PearsonRConstantInputWarning())\n",
      "C:\\Users\\camil\\anaconda3\\lib\\site-packages\\scipy\\stats\\stats.py:3845: PearsonRConstantInputWarning: An input array is constant; the correlation coefficent is not defined.\n",
      "  warnings.warn(PearsonRConstantInputWarning())\n",
      "C:\\Users\\camil\\anaconda3\\lib\\site-packages\\scipy\\stats\\stats.py:3845: PearsonRConstantInputWarning: An input array is constant; the correlation coefficent is not defined.\n",
      "  warnings.warn(PearsonRConstantInputWarning())\n",
      "C:\\Users\\camil\\anaconda3\\lib\\site-packages\\scipy\\stats\\stats.py:3845: PearsonRConstantInputWarning: An input array is constant; the correlation coefficent is not defined.\n",
      "  warnings.warn(PearsonRConstantInputWarning())\n",
      "C:\\Users\\camil\\anaconda3\\lib\\site-packages\\scipy\\stats\\stats.py:3845: PearsonRConstantInputWarning: An input array is constant; the correlation coefficent is not defined.\n",
      "  warnings.warn(PearsonRConstantInputWarning())\n",
      "C:\\Users\\camil\\anaconda3\\lib\\site-packages\\scipy\\stats\\stats.py:3845: PearsonRConstantInputWarning: An input array is constant; the correlation coefficent is not defined.\n",
      "  warnings.warn(PearsonRConstantInputWarning())\n",
      "C:\\Users\\camil\\anaconda3\\lib\\site-packages\\scipy\\stats\\stats.py:3845: PearsonRConstantInputWarning: An input array is constant; the correlation coefficent is not defined.\n",
      "  warnings.warn(PearsonRConstantInputWarning())\n",
      "C:\\Users\\camil\\anaconda3\\lib\\site-packages\\scipy\\stats\\stats.py:3845: PearsonRConstantInputWarning: An input array is constant; the correlation coefficent is not defined.\n",
      "  warnings.warn(PearsonRConstantInputWarning())\n",
      "C:\\Users\\camil\\anaconda3\\lib\\site-packages\\scipy\\stats\\stats.py:3845: PearsonRConstantInputWarning: An input array is constant; the correlation coefficent is not defined.\n",
      "  warnings.warn(PearsonRConstantInputWarning())\n",
      "C:\\Users\\camil\\anaconda3\\lib\\site-packages\\scipy\\stats\\stats.py:3845: PearsonRConstantInputWarning: An input array is constant; the correlation coefficent is not defined.\n",
      "  warnings.warn(PearsonRConstantInputWarning())\n",
      "C:\\Users\\camil\\anaconda3\\lib\\site-packages\\scipy\\stats\\stats.py:3845: PearsonRConstantInputWarning: An input array is constant; the correlation coefficent is not defined.\n",
      "  warnings.warn(PearsonRConstantInputWarning())\n",
      "C:\\Users\\camil\\anaconda3\\lib\\site-packages\\scipy\\stats\\stats.py:3845: PearsonRConstantInputWarning: An input array is constant; the correlation coefficent is not defined.\n",
      "  warnings.warn(PearsonRConstantInputWarning())\n",
      "C:\\Users\\camil\\anaconda3\\lib\\site-packages\\scipy\\stats\\stats.py:3845: PearsonRConstantInputWarning: An input array is constant; the correlation coefficent is not defined.\n",
      "  warnings.warn(PearsonRConstantInputWarning())\n",
      "C:\\Users\\camil\\anaconda3\\lib\\site-packages\\scipy\\stats\\stats.py:3845: PearsonRConstantInputWarning: An input array is constant; the correlation coefficent is not defined.\n",
      "  warnings.warn(PearsonRConstantInputWarning())\n",
      "C:\\Users\\camil\\anaconda3\\lib\\site-packages\\scipy\\stats\\stats.py:3845: PearsonRConstantInputWarning: An input array is constant; the correlation coefficent is not defined.\n",
      "  warnings.warn(PearsonRConstantInputWarning())\n",
      "C:\\Users\\camil\\anaconda3\\lib\\site-packages\\scipy\\stats\\stats.py:3845: PearsonRConstantInputWarning: An input array is constant; the correlation coefficent is not defined.\n",
      "  warnings.warn(PearsonRConstantInputWarning())\n",
      "C:\\Users\\camil\\anaconda3\\lib\\site-packages\\scipy\\stats\\stats.py:3845: PearsonRConstantInputWarning: An input array is constant; the correlation coefficent is not defined.\n",
      "  warnings.warn(PearsonRConstantInputWarning())\n"
     ]
    },
    {
     "name": "stdout",
     "output_type": "stream",
     "text": [
      "(450, 17)\n"
     ]
    },
    {
     "data": {
      "text/html": [
       "<div>\n",
       "<style scoped>\n",
       "    .dataframe tbody tr th:only-of-type {\n",
       "        vertical-align: middle;\n",
       "    }\n",
       "\n",
       "    .dataframe tbody tr th {\n",
       "        vertical-align: top;\n",
       "    }\n",
       "\n",
       "    .dataframe thead th {\n",
       "        text-align: right;\n",
       "    }\n",
       "</style>\n",
       "<table border=\"1\" class=\"dataframe\">\n",
       "  <thead>\n",
       "    <tr style=\"text-align: right;\">\n",
       "      <th></th>\n",
       "      <th>coeff</th>\n",
       "      <th>p_val</th>\n",
       "      <th>d1</th>\n",
       "      <th>d2</th>\n",
       "      <th>type_</th>\n",
       "      <th>nbr_obs</th>\n",
       "      <th>L</th>\n",
       "      <th>H</th>\n",
       "      <th>verif</th>\n",
       "      <th>coeffHAsev</th>\n",
       "      <th>p_valHAsev</th>\n",
       "      <th>coeffHAf</th>\n",
       "      <th>p_valHAf</th>\n",
       "      <th>coeffHApodo</th>\n",
       "      <th>p_valHApodo</th>\n",
       "      <th>coeffHAinj</th>\n",
       "      <th>p_valHAinj</th>\n",
       "    </tr>\n",
       "  </thead>\n",
       "  <tbody>\n",
       "    <tr>\n",
       "      <th>0</th>\n",
       "      <td>0.067327</td>\n",
       "      <td>0.446600</td>\n",
       "      <td>119</td>\n",
       "      <td>172</td>\n",
       "      <td>perc_duration_5_Zone</td>\n",
       "      <td>130</td>\n",
       "      <td>-0.106089</td>\n",
       "      <td>0.236768</td>\n",
       "      <td>(0.0673269435245862, 0.4466001153672843)</td>\n",
       "      <td>-0.011052</td>\n",
       "      <td>0.913986</td>\n",
       "      <td>-0.056574</td>\n",
       "      <td>0.580047</td>\n",
       "      <td>-0.001136</td>\n",
       "      <td>0.991143</td>\n",
       "      <td>0.022926</td>\n",
       "      <td>0.822697</td>\n",
       "    </tr>\n",
       "    <tr>\n",
       "      <th>1</th>\n",
       "      <td>0.098586</td>\n",
       "      <td>0.264458</td>\n",
       "      <td>120</td>\n",
       "      <td>172</td>\n",
       "      <td>perc_duration_5_Zone</td>\n",
       "      <td>130</td>\n",
       "      <td>-0.074871</td>\n",
       "      <td>0.266252</td>\n",
       "      <td>(0.09858583618818836, 0.26445807190845383)</td>\n",
       "      <td>0.118406</td>\n",
       "      <td>0.245556</td>\n",
       "      <td>-0.019594</td>\n",
       "      <td>0.848132</td>\n",
       "      <td>-0.031560</td>\n",
       "      <td>0.757701</td>\n",
       "      <td>0.017640</td>\n",
       "      <td>0.863125</td>\n",
       "    </tr>\n",
       "    <tr>\n",
       "      <th>2</th>\n",
       "      <td>0.138001</td>\n",
       "      <td>0.117407</td>\n",
       "      <td>121</td>\n",
       "      <td>172</td>\n",
       "      <td>perc_duration_5_Zone</td>\n",
       "      <td>130</td>\n",
       "      <td>-0.035018</td>\n",
       "      <td>0.302987</td>\n",
       "      <td>(0.13800050288954582, 0.11740659563192163)</td>\n",
       "      <td>0.056789</td>\n",
       "      <td>0.578609</td>\n",
       "      <td>-0.014121</td>\n",
       "      <td>0.890239</td>\n",
       "      <td>0.039525</td>\n",
       "      <td>0.699193</td>\n",
       "      <td>0.083837</td>\n",
       "      <td>0.411796</td>\n",
       "    </tr>\n",
       "    <tr>\n",
       "      <th>3</th>\n",
       "      <td>0.142273</td>\n",
       "      <td>0.340098</td>\n",
       "      <td>122</td>\n",
       "      <td>172</td>\n",
       "      <td>perc_duration_5_Zone</td>\n",
       "      <td>47</td>\n",
       "      <td>-0.151066</td>\n",
       "      <td>0.412583</td>\n",
       "      <td>(0.1422725134950551, 0.34009815620674744)</td>\n",
       "      <td>0.188783</td>\n",
       "      <td>0.270169</td>\n",
       "      <td>0.180081</td>\n",
       "      <td>0.293270</td>\n",
       "      <td>0.100836</td>\n",
       "      <td>0.558440</td>\n",
       "      <td>0.105198</td>\n",
       "      <td>0.541457</td>\n",
       "    </tr>\n",
       "    <tr>\n",
       "      <th>4</th>\n",
       "      <td>0.220310</td>\n",
       "      <td>0.029270</td>\n",
       "      <td>123</td>\n",
       "      <td>172</td>\n",
       "      <td>perc_duration_5_Zone</td>\n",
       "      <td>98</td>\n",
       "      <td>0.022890</td>\n",
       "      <td>0.401193</td>\n",
       "      <td>(0.22031031958848885, 0.029269627755752127)</td>\n",
       "      <td>-0.063692</td>\n",
       "      <td>0.589803</td>\n",
       "      <td>-0.051686</td>\n",
       "      <td>0.661865</td>\n",
       "      <td>-0.016861</td>\n",
       "      <td>0.886616</td>\n",
       "      <td>-0.093856</td>\n",
       "      <td>0.426385</td>\n",
       "    </tr>\n",
       "  </tbody>\n",
       "</table>\n",
       "</div>"
      ],
      "text/plain": [
       "      coeff     p_val   d1   d2                 type_  nbr_obs         L  \\\n",
       "0  0.067327  0.446600  119  172  perc_duration_5_Zone      130 -0.106089   \n",
       "1  0.098586  0.264458  120  172  perc_duration_5_Zone      130 -0.074871   \n",
       "2  0.138001  0.117407  121  172  perc_duration_5_Zone      130 -0.035018   \n",
       "3  0.142273  0.340098  122  172  perc_duration_5_Zone       47 -0.151066   \n",
       "4  0.220310  0.029270  123  172  perc_duration_5_Zone       98  0.022890   \n",
       "\n",
       "          H                                        verif  coeffHAsev  \\\n",
       "0  0.236768     (0.0673269435245862, 0.4466001153672843)   -0.011052   \n",
       "1  0.266252   (0.09858583618818836, 0.26445807190845383)    0.118406   \n",
       "2  0.302987   (0.13800050288954582, 0.11740659563192163)    0.056789   \n",
       "3  0.412583    (0.1422725134950551, 0.34009815620674744)    0.188783   \n",
       "4  0.401193  (0.22031031958848885, 0.029269627755752127)   -0.063692   \n",
       "\n",
       "   p_valHAsev  coeffHAf  p_valHAf  coeffHApodo  p_valHApodo  coeffHAinj  \\\n",
       "0    0.913986 -0.056574  0.580047    -0.001136     0.991143    0.022926   \n",
       "1    0.245556 -0.019594  0.848132    -0.031560     0.757701    0.017640   \n",
       "2    0.578609 -0.014121  0.890239     0.039525     0.699193    0.083837   \n",
       "3    0.270169  0.180081  0.293270     0.100836     0.558440    0.105198   \n",
       "4    0.589803 -0.051686  0.661865    -0.016861     0.886616   -0.093856   \n",
       "\n",
       "   p_valHAinj  \n",
       "0    0.822697  \n",
       "1    0.863125  \n",
       "2    0.411796  \n",
       "3    0.541457  \n",
       "4    0.426385  "
      ]
     },
     "metadata": {},
     "output_type": "display_data"
    },
    {
     "data": {
      "image/png": "[encoded data removed]",
      "text/plain": [
       "<Figure size 720x432 with 1 Axes>"
      ]
     },
     "metadata": {
      "needs_background": "light"
     },
     "output_type": "display_data"
    },
    {
     "data": {
      "image/png": "[encoded data removed]",
      "text/plain": [
       "<Figure size 720x432 with 1 Axes>"
      ]
     },
     "metadata": {
      "needs_background": "light"
     },
     "output_type": "display_data"
    },
    {
     "data": {
      "image/png": "[encoded data removed]",
      "text/plain": [
       "<Figure size 720x432 with 1 Axes>"
      ]
     },
     "metadata": {
      "needs_background": "light"
     },
     "output_type": "display_data"
    },
    {
     "data": {
      "image/png": "[encoded data removed]",
      "text/plain": [
       "<Figure size 720x432 with 1 Axes>"
      ]
     },
     "metadata": {
      "needs_background": "light"
     },
     "output_type": "display_data"
    },
    {
     "data": {
      "image/png": "[encoded data removed]",
      "text/plain": [
       "<Figure size 720x432 with 1 Axes>"
      ]
     },
     "metadata": {
      "needs_background": "light"
     },
     "output_type": "display_data"
    }
   ],
   "source": [
    "li_mvtvar = ['perc_duration_5_Zone','perc_duration_4_Zone','perc_duration_3_Zone','perc_duration_2_Zone',\n",
    "             'percentage_time_outside_while_WG_open','vertical_travel_distance','empproba_3_Zone', 'empproba_4_Zone',\n",
    "             'latency_1_Zone']\n",
    "d1 = 119\n",
    "d2 = 172\n",
    "#coeff, p-val\n",
    "li = []\n",
    "for type_ in li_mvtvar:\n",
    "    df_pivot = df_MVT.pivot(index='HenID', values=type_, columns='DOA').reset_index()\n",
    "    for d1 in range(119,d2-1):\n",
    "        if d1 in df_MVT['DOA'].unique():\n",
    "            #display(df_.head(3))\n",
    "            #print(df_.shape)\n",
    "            df_ = df_pivot.copy()\n",
    "            df_ = df_.dropna(subset=[d1,d2])\n",
    "            df_['treatment'] = df_['HenID'].map(lambda x: dico_h_tr.get(x,np.nan))\n",
    "            #print(df_.shape)\n",
    "            #plt.plot(df_[d1], df_[d2], 'ro');\n",
    "            coeff, p_val = pearsonr(df_[d1].tolist(), df_[d2].tolist())\n",
    "            \n",
    "            #HA severity\n",
    "            df_['severity_HA4'] = df_['HenID'].map(lambda x: dico_h_HA4sev.get(x,np.nan))\n",
    "            df_HA = df_.dropna(subset=['severity_HA4'])\n",
    "            coeffHAsev, p_valHAsev = pearsonr(df_HA[d1].tolist(), df_HA['severity_HA4'].tolist())\n",
    "            \n",
    "            #HA feathers\n",
    "            df_['feathers_HA4'] = df_['HenID'].map(lambda x: dico_h_HA4feather.get(x,np.nan))\n",
    "            df_HA = df_.dropna(subset=['feathers_HA4'])\n",
    "            coeffHAf, p_valHAf = pearsonr(df_HA[d1].tolist(), df_HA['feathers_HA4'].tolist())\n",
    "            \n",
    "            #HA pododermatits\n",
    "            df_['podo_HA4'] = df_['HenID'].map(lambda x: dico_h_HA4podo.get(x,np.nan))\n",
    "            df_HA = df_.dropna(subset=['podo_HA4'])\n",
    "            coeffHApodo, p_valHApodo = pearsonr(df_HA[d1].tolist(), df_HA['podo_HA4'].tolist())  \n",
    "            \n",
    "            #HA toes injuries\n",
    "            df_['injuries_HA4'] = df_['HenID'].map(lambda x: dico_h_HA4toesinjuries.get(x,np.nan))\n",
    "            df_HA = df_.dropna(subset=['injuries_HA4'])\n",
    "            coeffHAinj, p_valHAinj = pearsonr(df_HA[d1].tolist(), df_HA['injuries_HA4'].tolist())            \n",
    "            \n",
    "            #plt.title(type_)\n",
    "            #plt.show();\n",
    "            r, p, lo, hi = pearsonr_ci(np.array(df_[d1].tolist()), np.array(df_[d2].tolist()))\n",
    "            li.append({'coeff':coeff, 'p_val':p_val, 'd1':d1, 'd2':d2, 'type_':type_,'nbr_obs':df_.shape[0],'L':lo,\n",
    "                      'H':hi,'verif':(r,p),\n",
    "                      'coeffHAsev':coeffHAsev, 'p_valHAsev':p_valHAsev,\n",
    "                      'coeffHAf':coeffHAf, 'p_valHAf':p_valHAf,\n",
    "                      'coeffHApodo':coeffHApodo, 'p_valHApodo':p_valHApodo,\n",
    "                      'coeffHAinj':coeffHAinj, 'p_valHAinj':p_valHAinj})\n",
    "df_corr_res = pd.DataFrame(li)\n",
    "print(df_corr_res.shape)\n",
    "display(df_corr_res.head(5))\n",
    "df_plt = df_corr_res[df_corr_res['nbr_obs']>=80].copy()\n",
    "#future MLPs\n",
    "fig = plt.figure(figsize=(10, 6))\n",
    "graph = sns.lineplot(x='d1',y='coeff',hue='type_',data=df_plt);\n",
    "graph.axhline(0, color='black')\n",
    "plt.savefig(os.path.join(path_extracted_data, 'Predictibility_behaviouralVariables.png'), dpi=300,\n",
    "            format='png',bbox_inches='tight')\n",
    "plt.show()\n",
    "#HA\n",
    "for coeff,pval in zip(['coeffHAsev','coeffHAf','coeffHApodo','coeffHAinj'],['p_valHAsev','p_valHAf','p_valHApodo','p_valHAinj']):\n",
    "    fig = plt.figure(figsize=(10, 6))\n",
    "    graph = sns.lineplot(x='d1', y=coeff, hue='type_', data=df_plt[df_plt[pval]<0.05]); #df_plt[df_plt['p_valHA']<0.05]\n",
    "    graph.axhline(0, color='black')\n",
    "    plt.savefig(os.path.join(path_extracted_data, 'Predictibility_HA'+t+'.png'), dpi=300,\n",
    "                format='png',bbox_inches='tight')\n",
    "    plt.show()"
   ]
  },
  {
   "cell_type": "code",
   "execution_count": null,
   "metadata": {},
   "outputs": [],
   "source": [
    "li_HA4 = ['latency_1_Zone', 'perc_duration_3_Zone', 'perc_duration_5_Zone','perc_duration_4_Zone','perc_duration_2_Zone','vertical_travel_distance']"
   ]
  },
  {
   "cell_type": "code",
   "execution_count": 119,
   "metadata": {
    "collapsed": true
   },
   "outputs": [
    {
     "name": "stderr",
     "output_type": "stream",
     "text": [
      "C:\\Users\\camil\\anaconda3\\lib\\site-packages\\ipykernel\\ipkernel.py:283: DeprecationWarning: `should_run_async` will not call `transform_cell` automatically in the future. Please pass the result to `transformed_cell` argument and any exception that happen during thetransform in `preprocessing_exc_tuple` in IPython 7.17 and above.\n",
      "  and should_run_async(code)\n"
     ]
    },
    {
     "data": {
      "image/png": "[encoded data removed]",
      "text/plain": [
       "<Figure size 432x288 with 1 Axes>"
      ]
     },
     "metadata": {
      "needs_background": "light"
     },
     "output_type": "display_data"
    },
    {
     "data": {
      "image/png": "[encoded data removed]",
      "text/plain": [
       "<Figure size 432x288 with 1 Axes>"
      ]
     },
     "metadata": {
      "needs_background": "light"
     },
     "output_type": "display_data"
    }
   ],
   "source": [
    "df_pivot = df_MVT.pivot(index='HenID', values='latency_1_Zone', columns='DOA').reset_index()\n",
    "df_pivot['severity_HA4'] = df_pivot['HenID'].map(lambda x: dico_h_HA4.get(x,np.nan))\n",
    "plt.plot(df_pivot['severity_HA4'].tolist(),df_pivot[130].tolist(), 'ro');\n",
    "plt.show()\n",
    "plt.plot(df_pivot['severity_HA4'].tolist(),df_pivot[170].tolist(), 'ro');"
   ]
  },
  {
   "cell_type": "code",
   "execution_count": null,
   "metadata": {},
   "outputs": [],
   "source": [
    "df_"
   ]
  },
  {
   "cell_type": "code",
   "execution_count": 112,
   "metadata": {},
   "outputs": [
    {
     "name": "stderr",
     "output_type": "stream",
     "text": [
      "C:\\Users\\camil\\anaconda3\\lib\\site-packages\\ipykernel\\ipkernel.py:283: DeprecationWarning: `should_run_async` will not call `transform_cell` automatically in the future. Please pass the result to `transformed_cell` argument and any exception that happen during thetransform in `preprocessing_exc_tuple` in IPython 7.17 and above.\n",
      "  and should_run_async(code)\n"
     ]
    },
    {
     "data": {
      "text/plain": [
       "0          0.000000\n",
       "1          0.000000\n",
       "2          0.000000\n",
       "3          0.000000\n",
       "4          0.000000\n",
       "            ...    \n",
       "41932    389.566667\n",
       "41933    124.450000\n",
       "41934    210.033333\n",
       "41935    146.550000\n",
       "41936    287.500000\n",
       "Name: latency_1_Zone, Length: 6721, dtype: float64"
      ]
     },
     "execution_count": 112,
     "metadata": {},
     "output_type": "execute_result"
    }
   ],
   "source": [
    "df_MVT['latency_1_Zone']"
   ]
  },
  {
   "cell_type": "code",
   "execution_count": 123,
   "metadata": {},
   "outputs": [
    {
     "name": "stderr",
     "output_type": "stream",
     "text": [
      "C:\\Users\\camil\\anaconda3\\lib\\site-packages\\ipykernel\\ipkernel.py:283: DeprecationWarning: `should_run_async` will not call `transform_cell` automatically in the future. Please pass the result to `transformed_cell` argument and any exception that happen during thetransform in `preprocessing_exc_tuple` in IPython 7.17 and above.\n",
      "  and should_run_async(code)\n"
     ]
    },
    {
     "data": {
      "text/plain": [
       "(array([ 150.,  562., 1082.,  465., 1224.,  873.,  249.,  156.,   52.,\n",
       "         208.]),\n",
       " array([ 0.,  7., 14., 21., 28., 35., 42., 49., 56., 63., 70.]),\n",
       " <BarContainer object of 10 artists>)"
      ]
     },
     "execution_count": 123,
     "metadata": {},
     "output_type": "execute_result"
    },
    {
     "data": {
      "image/png": "[encoded data removed]",
      "text/plain": [
       "<Figure size 432x288 with 1 Axes>"
      ]
     },
     "metadata": {
      "needs_background": "light"
     },
     "output_type": "display_data"
    }
   ],
   "source": [
    "plt.hist(df_plt['severity_HA4'])"
   ]
  },
  {
   "cell_type": "code",
   "execution_count": 130,
   "metadata": {},
   "outputs": [
    {
     "name": "stderr",
     "output_type": "stream",
     "text": [
      "C:\\Users\\camil\\anaconda3\\lib\\site-packages\\ipykernel\\ipkernel.py:283: DeprecationWarning: `should_run_async` will not call `transform_cell` automatically in the future. Please pass the result to `transformed_cell` argument and any exception that happen during thetransform in `preprocessing_exc_tuple` in IPython 7.17 and above.\n",
      "  and should_run_async(code)\n"
     ]
    },
    {
     "data": {
      "image/png": "[encoded data removed]",
      "text/plain": [
       "<Figure size 1080x360 with 1 Axes>"
      ]
     },
     "metadata": {
      "needs_background": "light"
     },
     "output_type": "display_data"
    }
   ],
   "source": [
    "#if the animal did not go in the WG then latency is 0: no time to stay there. If the animal went there early, \n",
    "#then he would have a lot of time to stay there, a high latency\n",
    "df_plt = df_MVT.copy()\n",
    "df_plt['severity_HA4'] = df_plt['HenID'].map(lambda x: dico_h_HA4.get(x,np.nan))\n",
    "def sev_class(x):\n",
    "    if x<=20:\n",
    "        return('<=20')\n",
    "    elif x>=40:\n",
    "        return('>=40')\n",
    "    else:\n",
    "        return(None)\n",
    "df_plt['severity_HA4_class'] = df_plt['severity_HA4'].map(lambda x: sev_class(x))\n",
    "fig = plt.figure(figsize=(15, 5))\n",
    "sns.boxplot(x='DOA', y='latency_1_Zone', hue='severity_HA4_class', data=df_plt, fliersize=1, linewidth=1);"
   ]
  },
  {
   "cell_type": "raw",
   "metadata": {},
   "source": [
    "The total vertical travel distance has the best predictibility power from the first day following the populaiton to the laying barn, until the 10th day, followed by the percentage of time spent on the top floor."
   ]
  },
  {
   "cell_type": "code",
   "execution_count": 137,
   "metadata": {},
   "outputs": [
    {
     "name": "stderr",
     "output_type": "stream",
     "text": [
      "C:\\Users\\camil\\anaconda3\\lib\\site-packages\\ipykernel\\ipkernel.py:283: DeprecationWarning: `should_run_async` will not call `transform_cell` automatically in the future. Please pass the result to `transformed_cell` argument and any exception that happen during thetransform in `preprocessing_exc_tuple` in IPython 7.17 and above.\n",
      "  and should_run_async(code)\n"
     ]
    },
    {
     "data": {
      "text/plain": [
       "(17, 35)"
      ]
     },
     "execution_count": 137,
     "metadata": {},
     "output_type": "execute_result"
    }
   ],
   "source": [
    "len(df_plt[df_plt['severity_HA4_class']=='>=40']['HenID'].unique()), len(df_plt[df_plt['severity_HA4_class']=='<=20']['HenID'].unique())"
   ]
  },
  {
   "cell_type": "code",
   "execution_count": null,
   "metadata": {},
   "outputs": [],
   "source": [
    "df_MVT"
   ]
  },
  {
   "cell_type": "code",
   "execution_count": null,
   "metadata": {},
   "outputs": [],
   "source": []
  },
  {
   "cell_type": "markdown",
   "metadata": {},
   "source": [
    "# Select var & create DF for models"
   ]
  },
  {
   "cell_type": "raw",
   "metadata": {},
   "source": [
    "Our purpose here is to quantify the predictibility power of the initial MLPS in predicting the HA4 KBF severity. To do so, we will use the first 7 days available to predict with a RF the KBF-severity, then use the first 8 days available to predict the severity, etc (i.e. window)\n",
    "for the prediction using 7 days, wither we use :\n",
    "    * a linear mixed effect model with the hens as random effect: 140 hens * 7 days = 980 obs\n",
    "    * or a RF with aggregated value: 140 obs\n",
    "    \n",
    "we choose RF for severa reasons:\n",
    "    * a lot of models: RF have no assumption!! convenient\n",
    "    * aggregating the variables allows to distinguish the Intra-individual means/median/mode & Intra-individual variability/change ( temporal dependency & amplitude of fluctuation)\n",
    "    \n",
    "perhaps:\n",
    "one model withvar means, one with var variability, one with both on most important var!"
   ]
  },
  {
   "cell_type": "code",
   "execution_count": 153,
   "metadata": {},
   "outputs": [
    {
     "name": "stdout",
     "output_type": "stream",
     "text": [
      "You have selected 14 mvt variables, without counting for several categories in categorical variables (as they would be aggregated anyway)\n"
     ]
    },
    {
     "name": "stderr",
     "output_type": "stream",
     "text": [
      "C:\\Users\\camil\\anaconda3\\lib\\site-packages\\ipykernel\\ipkernel.py:283: DeprecationWarning: `should_run_async` will not call `transform_cell` automatically in the future. Please pass the result to `transformed_cell` argument and any exception that happen during thetransform in `preprocessing_exc_tuple` in IPython 7.17 and above.\n",
      "  and should_run_async(code)\n"
     ]
    }
   ],
   "source": [
    "li_HA4 = ['Feathers','Pododermatitis','severity','Injuries']\n",
    "li_HA1 = ['CombPecks','Injuries']\n",
    "li_mvtvar = ['perc_duration_5_Zone','perc_duration_4_Zone','activity_50percentile_sec','kurtosis_duration','median_duration',\n",
    "             'in_WG_15mnAfterOpening_whenopen', 'vertical_travel_distance','empproba_3_Zone',\n",
    "             'empproba_4_Zone','is_mvt_night','closeness_DTW_30_2_Zone','closeness_DTW_30_5_Zone','degree_DTW_30_all',\n",
    "             'ALL_MLPS_99_'+str(nbr_cluster2keep)+'cat']\n",
    "print('You have selected %d mvt variables, without counting for several categories in categorical variables (as they would be aggregated anyway)'%len(li_mvtvar))"
   ]
  },
  {
   "cell_type": "markdown",
   "metadata": {},
   "source": [
    "### keep all for mixed effect models (in R)"
   ]
  },
  {
   "cell_type": "code",
   "execution_count": 164,
   "metadata": {},
   "outputs": [
    {
     "name": "stderr",
     "output_type": "stream",
     "text": [
      "C:\\Users\\camil\\anaconda3\\lib\\site-packages\\ipykernel\\ipkernel.py:283: DeprecationWarning: `should_run_async` will not call `transform_cell` automatically in the future. Please pass the result to `transformed_cell` argument and any exception that happen during thetransform in `preprocessing_exc_tuple` in IPython 7.17 and above.\n",
      "  and should_run_async(code)\n"
     ]
    },
    {
     "data": {
      "text/html": [
       "<div>\n",
       "<style scoped>\n",
       "    .dataframe tbody tr th:only-of-type {\n",
       "        vertical-align: middle;\n",
       "    }\n",
       "\n",
       "    .dataframe tbody tr th {\n",
       "        vertical-align: top;\n",
       "    }\n",
       "\n",
       "    .dataframe thead th {\n",
       "        text-align: right;\n",
       "    }\n",
       "</style>\n",
       "<table border=\"1\" class=\"dataframe\">\n",
       "  <thead>\n",
       "    <tr style=\"text-align: right;\">\n",
       "      <th></th>\n",
       "      <th>HenID</th>\n",
       "      <th>level</th>\n",
       "      <th>duration_1_Zone</th>\n",
       "      <th>duration_2_Zone</th>\n",
       "      <th>duration_3_Zone</th>\n",
       "      <th>duration_4_Zone</th>\n",
       "      <th>duration_5_Zone</th>\n",
       "      <th>verification_daily_total_duration</th>\n",
       "      <th>Total_number_zone</th>\n",
       "      <th>Max_duration_zones</th>\n",
       "      <th>...</th>\n",
       "      <th>degree_DTW_30_2_Zone</th>\n",
       "      <th>degree_DTW_30_3_Zone</th>\n",
       "      <th>degree_DTW_30_4_Zone</th>\n",
       "      <th>degree_DTW_30_5_Zone</th>\n",
       "      <th>degree_DTW_30_all</th>\n",
       "      <th>ALL_MLPS_99</th>\n",
       "      <th>ALL_MLPS_10</th>\n",
       "      <th>ALL_MLPS_40</th>\n",
       "      <th>in_WG_15mnAfterOpening_whenopen</th>\n",
       "      <th>ALL_MLPS_99_10cat</th>\n",
       "    </tr>\n",
       "  </thead>\n",
       "  <tbody>\n",
       "    <tr>\n",
       "      <th>0</th>\n",
       "      <td>hen_1</td>\n",
       "      <td>2020-09-30</td>\n",
       "      <td>0.0</td>\n",
       "      <td>18886.0</td>\n",
       "      <td>3488.0</td>\n",
       "      <td>515.0</td>\n",
       "      <td>5911.0</td>\n",
       "      <td>28800.0</td>\n",
       "      <td>4.0</td>\n",
       "      <td>2_Zone</td>\n",
       "      <td>...</td>\n",
       "      <td>0.131944</td>\n",
       "      <td>0.208333</td>\n",
       "      <td>0.826389</td>\n",
       "      <td>0.437500</td>\n",
       "      <td>0.312500</td>\n",
       "      <td>NaN</td>\n",
       "      <td>NaN</td>\n",
       "      <td>NaN</td>\n",
       "      <td>NaN</td>\n",
       "      <td>clIDother</td>\n",
       "    </tr>\n",
       "    <tr>\n",
       "      <th>1</th>\n",
       "      <td>hen_1</td>\n",
       "      <td>2020-10-01</td>\n",
       "      <td>0.0</td>\n",
       "      <td>9310.0</td>\n",
       "      <td>5636.0</td>\n",
       "      <td>0.0</td>\n",
       "      <td>17454.0</td>\n",
       "      <td>32400.0</td>\n",
       "      <td>3.0</td>\n",
       "      <td>5_Zone</td>\n",
       "      <td>...</td>\n",
       "      <td>0.047619</td>\n",
       "      <td>0.176871</td>\n",
       "      <td>0.802721</td>\n",
       "      <td>0.115646</td>\n",
       "      <td>0.380952</td>\n",
       "      <td>NaN</td>\n",
       "      <td>NaN</td>\n",
       "      <td>NaN</td>\n",
       "      <td>NaN</td>\n",
       "      <td>clIDother</td>\n",
       "    </tr>\n",
       "    <tr>\n",
       "      <th>2</th>\n",
       "      <td>hen_1</td>\n",
       "      <td>2020-10-02</td>\n",
       "      <td>0.0</td>\n",
       "      <td>0.0</td>\n",
       "      <td>551.0</td>\n",
       "      <td>0.0</td>\n",
       "      <td>31849.0</td>\n",
       "      <td>32400.0</td>\n",
       "      <td>2.0</td>\n",
       "      <td>5_Zone</td>\n",
       "      <td>...</td>\n",
       "      <td>0.564626</td>\n",
       "      <td>0.646259</td>\n",
       "      <td>0.802721</td>\n",
       "      <td>0.455782</td>\n",
       "      <td>0.503401</td>\n",
       "      <td>NaN</td>\n",
       "      <td>NaN</td>\n",
       "      <td>NaN</td>\n",
       "      <td>NaN</td>\n",
       "      <td>clIDother</td>\n",
       "    </tr>\n",
       "  </tbody>\n",
       "</table>\n",
       "<p>3 rows × 225 columns</p>\n",
       "</div>"
      ],
      "text/plain": [
       "   HenID      level  duration_1_Zone  duration_2_Zone  duration_3_Zone  \\\n",
       "0  hen_1 2020-09-30              0.0          18886.0           3488.0   \n",
       "1  hen_1 2020-10-01              0.0           9310.0           5636.0   \n",
       "2  hen_1 2020-10-02              0.0              0.0            551.0   \n",
       "\n",
       "   duration_4_Zone  duration_5_Zone  verification_daily_total_duration  \\\n",
       "0            515.0           5911.0                            28800.0   \n",
       "1              0.0          17454.0                            32400.0   \n",
       "2              0.0          31849.0                            32400.0   \n",
       "\n",
       "   Total_number_zone Max_duration_zones  ... degree_DTW_30_2_Zone  \\\n",
       "0                4.0             2_Zone  ...             0.131944   \n",
       "1                3.0             5_Zone  ...             0.047619   \n",
       "2                2.0             5_Zone  ...             0.564626   \n",
       "\n",
       "   degree_DTW_30_3_Zone  degree_DTW_30_4_Zone  degree_DTW_30_5_Zone  \\\n",
       "0              0.208333              0.826389              0.437500   \n",
       "1              0.176871              0.802721              0.115646   \n",
       "2              0.646259              0.802721              0.455782   \n",
       "\n",
       "   degree_DTW_30_all  ALL_MLPS_99  ALL_MLPS_10  ALL_MLPS_40  \\\n",
       "0           0.312500          NaN          NaN          NaN   \n",
       "1           0.380952          NaN          NaN          NaN   \n",
       "2           0.503401          NaN          NaN          NaN   \n",
       "\n",
       "   in_WG_15mnAfterOpening_whenopen  ALL_MLPS_99_10cat  \n",
       "0                              NaN          clIDother  \n",
       "1                              NaN          clIDother  \n",
       "2                              NaN          clIDother  \n",
       "\n",
       "[3 rows x 225 columns]"
      ]
     },
     "execution_count": 164,
     "metadata": {},
     "output_type": "execute_result"
    }
   ],
   "source": [
    "df_MVT[li_mvtvar].head(3)"
   ]
  },
  {
   "cell_type": "code",
   "execution_count": 165,
   "metadata": {},
   "outputs": [
    {
     "name": "stderr",
     "output_type": "stream",
     "text": [
      "C:\\Users\\camil\\anaconda3\\lib\\site-packages\\ipykernel\\ipkernel.py:283: DeprecationWarning: `should_run_async` will not call `transform_cell` automatically in the future. Please pass the result to `transformed_cell` argument and any exception that happen during thetransform in `preprocessing_exc_tuple` in IPython 7.17 and above.\n",
      "  and should_run_async(code)\n"
     ]
    },
    {
     "name": "stdout",
     "output_type": "stream",
     "text": [
      "(98, 50)\n",
      "(5021, 274)\n",
      "(5021, 274)\n"
     ]
    },
    {
     "data": {
      "text/html": [
       "<div>\n",
       "<style scoped>\n",
       "    .dataframe tbody tr th:only-of-type {\n",
       "        vertical-align: middle;\n",
       "    }\n",
       "\n",
       "    .dataframe tbody tr th {\n",
       "        vertical-align: top;\n",
       "    }\n",
       "\n",
       "    .dataframe thead th {\n",
       "        text-align: right;\n",
       "    }\n",
       "</style>\n",
       "<table border=\"1\" class=\"dataframe\">\n",
       "  <thead>\n",
       "    <tr style=\"text-align: right;\">\n",
       "      <th></th>\n",
       "      <th>HenID</th>\n",
       "      <th>level</th>\n",
       "      <th>duration_1_Zone</th>\n",
       "      <th>duration_2_Zone</th>\n",
       "      <th>duration_3_Zone</th>\n",
       "      <th>duration_4_Zone</th>\n",
       "      <th>duration_5_Zone</th>\n",
       "      <th>verification_daily_total_duration</th>\n",
       "      <th>Total_number_zone</th>\n",
       "      <th>Max_duration_zones</th>\n",
       "      <th>...</th>\n",
       "      <th>random_order1</th>\n",
       "      <th>severity</th>\n",
       "      <th>has_gap</th>\n",
       "      <th>BirdID</th>\n",
       "      <th>uncertainty (0:certain:1 random)</th>\n",
       "      <th>Info</th>\n",
       "      <th>backpack</th>\n",
       "      <th>Injuries</th>\n",
       "      <th>Pododermatitis</th>\n",
       "      <th>Feathers</th>\n",
       "    </tr>\n",
       "  </thead>\n",
       "  <tbody>\n",
       "    <tr>\n",
       "      <th>0</th>\n",
       "      <td>hen_10</td>\n",
       "      <td>2020-09-30</td>\n",
       "      <td>0.0</td>\n",
       "      <td>11590.0</td>\n",
       "      <td>15342.0</td>\n",
       "      <td>1135.0</td>\n",
       "      <td>733.0</td>\n",
       "      <td>28800.0</td>\n",
       "      <td>4.0</td>\n",
       "      <td>3_Zone</td>\n",
       "      <td>...</td>\n",
       "      <td>229.0</td>\n",
       "      <td>38.0</td>\n",
       "      <td>0.0</td>\n",
       "      <td>26grey11sbs</td>\n",
       "      <td>NaN</td>\n",
       "      <td>['', '26', 'grey', '11', 'sbs']</td>\n",
       "      <td>sbs</td>\n",
       "      <td>0.0</td>\n",
       "      <td>125.0</td>\n",
       "      <td>82.5</td>\n",
       "    </tr>\n",
       "    <tr>\n",
       "      <th>1</th>\n",
       "      <td>hen_10</td>\n",
       "      <td>2020-10-01</td>\n",
       "      <td>0.0</td>\n",
       "      <td>0.0</td>\n",
       "      <td>0.0</td>\n",
       "      <td>2815.0</td>\n",
       "      <td>29585.0</td>\n",
       "      <td>32400.0</td>\n",
       "      <td>2.0</td>\n",
       "      <td>5_Zone</td>\n",
       "      <td>...</td>\n",
       "      <td>229.0</td>\n",
       "      <td>38.0</td>\n",
       "      <td>0.0</td>\n",
       "      <td>26grey11sbs</td>\n",
       "      <td>NaN</td>\n",
       "      <td>['', '26', 'grey', '11', 'sbs']</td>\n",
       "      <td>sbs</td>\n",
       "      <td>0.0</td>\n",
       "      <td>125.0</td>\n",
       "      <td>82.5</td>\n",
       "    </tr>\n",
       "    <tr>\n",
       "      <th>2</th>\n",
       "      <td>hen_10</td>\n",
       "      <td>2020-10-02</td>\n",
       "      <td>0.0</td>\n",
       "      <td>0.0</td>\n",
       "      <td>0.0</td>\n",
       "      <td>0.0</td>\n",
       "      <td>32400.0</td>\n",
       "      <td>32400.0</td>\n",
       "      <td>1.0</td>\n",
       "      <td>5_Zone</td>\n",
       "      <td>...</td>\n",
       "      <td>229.0</td>\n",
       "      <td>38.0</td>\n",
       "      <td>0.0</td>\n",
       "      <td>26grey11sbs</td>\n",
       "      <td>NaN</td>\n",
       "      <td>['', '26', 'grey', '11', 'sbs']</td>\n",
       "      <td>sbs</td>\n",
       "      <td>0.0</td>\n",
       "      <td>125.0</td>\n",
       "      <td>82.5</td>\n",
       "    </tr>\n",
       "  </tbody>\n",
       "</table>\n",
       "<p>3 rows × 274 columns</p>\n",
       "</div>"
      ],
      "text/plain": [
       "    HenID      level  duration_1_Zone  duration_2_Zone  duration_3_Zone  \\\n",
       "0  hen_10 2020-09-30              0.0          11590.0          15342.0   \n",
       "1  hen_10 2020-10-01              0.0              0.0              0.0   \n",
       "2  hen_10 2020-10-02              0.0              0.0              0.0   \n",
       "\n",
       "   duration_4_Zone  duration_5_Zone  verification_daily_total_duration  \\\n",
       "0           1135.0            733.0                            28800.0   \n",
       "1           2815.0          29585.0                            32400.0   \n",
       "2              0.0          32400.0                            32400.0   \n",
       "\n",
       "   Total_number_zone Max_duration_zones  ... random_order1  severity  has_gap  \\\n",
       "0                4.0             3_Zone  ...         229.0      38.0      0.0   \n",
       "1                2.0             5_Zone  ...         229.0      38.0      0.0   \n",
       "2                1.0             5_Zone  ...         229.0      38.0      0.0   \n",
       "\n",
       "        BirdID  uncertainty (0:certain:1 random)  \\\n",
       "0  26grey11sbs                               NaN   \n",
       "1  26grey11sbs                               NaN   \n",
       "2  26grey11sbs                               NaN   \n",
       "\n",
       "                              Info  backpack  Injuries  Pododermatitis  \\\n",
       "0  ['', '26', 'grey', '11', 'sbs']       sbs       0.0           125.0   \n",
       "1  ['', '26', 'grey', '11', 'sbs']       sbs       0.0           125.0   \n",
       "2  ['', '26', 'grey', '11', 'sbs']       sbs       0.0           125.0   \n",
       "\n",
       "   Feathers  \n",
       "0      82.5  \n",
       "1      82.5  \n",
       "2      82.5  \n",
       "\n",
       "[3 rows x 274 columns]"
      ]
     },
     "execution_count": 165,
     "metadata": {},
     "output_type": "execute_result"
    }
   ],
   "source": [
    "HAID = 'HA4'\n",
    "print(df_HA[df_HA['HAID']==HAID].shape)\n",
    "df_model = pd.merge(df_MVT, df_HA[df_HA['HAID']==HAID], on=['HenID'], how='inner') #df_variability or df_mean\n",
    "print(df_model.shape)\n",
    "df_model[['HenID']+li_mvtvar_model].head(2)\n",
    "print(df_model.shape)\n",
    "df_model.head(3)"
   ]
  },
  {
   "cell_type": "code",
   "execution_count": 166,
   "metadata": {},
   "outputs": [
    {
     "name": "stderr",
     "output_type": "stream",
     "text": [
      "C:\\Users\\camil\\anaconda3\\lib\\site-packages\\ipykernel\\ipkernel.py:283: DeprecationWarning: `should_run_async` will not call `transform_cell` automatically in the future. Please pass the result to `transformed_cell` argument and any exception that happen during thetransform in `preprocessing_exc_tuple` in IPython 7.17 and above.\n",
      "  and should_run_async(code)\n"
     ]
    }
   ],
   "source": [
    "#save\n",
    "df_model.to_csv(os.path.join(path_extracted_data ,'Adaptability_Stat_mixedeffect.csv'), index=False, sep=';')"
   ]
  },
  {
   "cell_type": "markdown",
   "metadata": {},
   "source": [
    "### individual aggregation mean"
   ]
  },
  {
   "cell_type": "code",
   "execution_count": 154,
   "metadata": {},
   "outputs": [
    {
     "name": "stdout",
     "output_type": "stream",
     "text": [
      "clIDother    78\n",
      "clID67       38\n",
      "clID22       10\n",
      "clID15        4\n",
      "clID3         1\n",
      "Name: ALL_MLPS_99_10cat_, dtype: int64\n",
      "(131, 19)\n"
     ]
    },
    {
     "name": "stderr",
     "output_type": "stream",
     "text": [
      "C:\\Users\\camil\\anaconda3\\lib\\site-packages\\ipykernel\\ipkernel.py:283: DeprecationWarning: `should_run_async` will not call `transform_cell` automatically in the future. Please pass the result to `transformed_cell` argument and any exception that happen during thetransform in `preprocessing_exc_tuple` in IPython 7.17 and above.\n",
      "  and should_run_async(code)\n"
     ]
    },
    {
     "data": {
      "text/html": [
       "<div>\n",
       "<style scoped>\n",
       "    .dataframe tbody tr th:only-of-type {\n",
       "        vertical-align: middle;\n",
       "    }\n",
       "\n",
       "    .dataframe tbody tr th {\n",
       "        vertical-align: top;\n",
       "    }\n",
       "\n",
       "    .dataframe thead th {\n",
       "        text-align: right;\n",
       "    }\n",
       "</style>\n",
       "<table border=\"1\" class=\"dataframe\">\n",
       "  <thead>\n",
       "    <tr style=\"text-align: right;\">\n",
       "      <th></th>\n",
       "      <th>HenID</th>\n",
       "      <th>CLASS</th>\n",
       "      <th>Treatment</th>\n",
       "      <th>perc_duration_5_Zone_</th>\n",
       "      <th>perc_duration_4_Zone_</th>\n",
       "      <th>chi2distance_</th>\n",
       "      <th>activity_50percentile_sec_</th>\n",
       "      <th>kurtosis_duration_</th>\n",
       "      <th>median_duration_</th>\n",
       "      <th>in_WG_15mnAfterOpening_whenopen_</th>\n",
       "      <th>vertical_travel_distance_</th>\n",
       "      <th>empproba_3_Zone_</th>\n",
       "      <th>empproba_4_Zone_</th>\n",
       "      <th>is_mvt_night_</th>\n",
       "      <th>closeness_DTW_30_2_Zone_</th>\n",
       "      <th>closeness_DTW_30_5_Zone_</th>\n",
       "      <th>degree_DTW_30_all_</th>\n",
       "      <th>ALL_MLPS_99_10cat_</th>\n",
       "      <th>%daysnomvt</th>\n",
       "    </tr>\n",
       "  </thead>\n",
       "  <tbody>\n",
       "    <tr>\n",
       "      <th>0</th>\n",
       "      <td>hen_1</td>\n",
       "      <td>EPI</td>\n",
       "      <td>OFH</td>\n",
       "      <td>73.560685</td>\n",
       "      <td>3.928416</td>\n",
       "      <td>0.039660</td>\n",
       "      <td>41618.903226</td>\n",
       "      <td>10.125962</td>\n",
       "      <td>15978.132653</td>\n",
       "      <td>0.204545</td>\n",
       "      <td>14.285714</td>\n",
       "      <td>34.641761</td>\n",
       "      <td>60.751990</td>\n",
       "      <td>0.058824</td>\n",
       "      <td>0.336583</td>\n",
       "      <td>0.371823</td>\n",
       "      <td>0.190928</td>\n",
       "      <td>clID67</td>\n",
       "      <td>0.000000</td>\n",
       "    </tr>\n",
       "    <tr>\n",
       "      <th>1</th>\n",
       "      <td>hen_10</td>\n",
       "      <td>LEXP</td>\n",
       "      <td>OFH</td>\n",
       "      <td>44.959658</td>\n",
       "      <td>9.034385</td>\n",
       "      <td>0.124566</td>\n",
       "      <td>45996.021277</td>\n",
       "      <td>9.476369</td>\n",
       "      <td>4378.892157</td>\n",
       "      <td>0.022727</td>\n",
       "      <td>20.980392</td>\n",
       "      <td>39.267721</td>\n",
       "      <td>46.699825</td>\n",
       "      <td>0.392157</td>\n",
       "      <td>0.250823</td>\n",
       "      <td>0.408195</td>\n",
       "      <td>0.125932</td>\n",
       "      <td>clIDother</td>\n",
       "      <td>33.333333</td>\n",
       "    </tr>\n",
       "    <tr>\n",
       "      <th>2</th>\n",
       "      <td>hen_101</td>\n",
       "      <td>MEXP</td>\n",
       "      <td>OFH</td>\n",
       "      <td>16.767320</td>\n",
       "      <td>6.163057</td>\n",
       "      <td>0.054325</td>\n",
       "      <td>44881.930233</td>\n",
       "      <td>8.201130</td>\n",
       "      <td>609.418605</td>\n",
       "      <td>0.250000</td>\n",
       "      <td>48.186047</td>\n",
       "      <td>36.664186</td>\n",
       "      <td>40.994001</td>\n",
       "      <td>0.409091</td>\n",
       "      <td>0.263739</td>\n",
       "      <td>0.444947</td>\n",
       "      <td>0.159976</td>\n",
       "      <td>clIDother</td>\n",
       "      <td>0.000000</td>\n",
       "    </tr>\n",
       "  </tbody>\n",
       "</table>\n",
       "</div>"
      ],
      "text/plain": [
       "     HenID CLASS Treatment  perc_duration_5_Zone_  perc_duration_4_Zone_  \\\n",
       "0    hen_1   EPI       OFH              73.560685               3.928416   \n",
       "1   hen_10  LEXP       OFH              44.959658               9.034385   \n",
       "2  hen_101  MEXP       OFH              16.767320               6.163057   \n",
       "\n",
       "   chi2distance_  activity_50percentile_sec_  kurtosis_duration_  \\\n",
       "0       0.039660                41618.903226           10.125962   \n",
       "1       0.124566                45996.021277            9.476369   \n",
       "2       0.054325                44881.930233            8.201130   \n",
       "\n",
       "   median_duration_  in_WG_15mnAfterOpening_whenopen_  \\\n",
       "0      15978.132653                          0.204545   \n",
       "1       4378.892157                          0.022727   \n",
       "2        609.418605                          0.250000   \n",
       "\n",
       "   vertical_travel_distance_  empproba_3_Zone_  empproba_4_Zone_  \\\n",
       "0                  14.285714         34.641761         60.751990   \n",
       "1                  20.980392         39.267721         46.699825   \n",
       "2                  48.186047         36.664186         40.994001   \n",
       "\n",
       "   is_mvt_night_  closeness_DTW_30_2_Zone_  closeness_DTW_30_5_Zone_  \\\n",
       "0       0.058824                  0.336583                  0.371823   \n",
       "1       0.392157                  0.250823                  0.408195   \n",
       "2       0.409091                  0.263739                  0.444947   \n",
       "\n",
       "   degree_DTW_30_all_ ALL_MLPS_99_10cat_  %daysnomvt  \n",
       "0            0.190928             clID67    0.000000  \n",
       "1            0.125932          clIDother   33.333333  \n",
       "2            0.159976          clIDother    0.000000  "
      ]
     },
     "metadata": {},
     "output_type": "display_data"
    },
    {
     "name": "stdout",
     "output_type": "stream",
     "text": [
      "(98, 50)\n",
      "(98, 68)\n",
      "(98, 68)\n"
     ]
    },
    {
     "data": {
      "text/html": [
       "<div>\n",
       "<style scoped>\n",
       "    .dataframe tbody tr th:only-of-type {\n",
       "        vertical-align: middle;\n",
       "    }\n",
       "\n",
       "    .dataframe tbody tr th {\n",
       "        vertical-align: top;\n",
       "    }\n",
       "\n",
       "    .dataframe thead th {\n",
       "        text-align: right;\n",
       "    }\n",
       "</style>\n",
       "<table border=\"1\" class=\"dataframe\">\n",
       "  <thead>\n",
       "    <tr style=\"text-align: right;\">\n",
       "      <th></th>\n",
       "      <th>HenID</th>\n",
       "      <th>CLASS_x</th>\n",
       "      <th>Treatment_x</th>\n",
       "      <th>perc_duration_5_Zone_</th>\n",
       "      <th>perc_duration_4_Zone_</th>\n",
       "      <th>chi2distance_</th>\n",
       "      <th>activity_50percentile_sec_</th>\n",
       "      <th>kurtosis_duration_</th>\n",
       "      <th>median_duration_</th>\n",
       "      <th>in_WG_15mnAfterOpening_whenopen_</th>\n",
       "      <th>...</th>\n",
       "      <th>random_order1</th>\n",
       "      <th>severity</th>\n",
       "      <th>has_gap</th>\n",
       "      <th>BirdID</th>\n",
       "      <th>uncertainty (0:certain:1 random)</th>\n",
       "      <th>Info</th>\n",
       "      <th>backpack</th>\n",
       "      <th>Injuries</th>\n",
       "      <th>Pododermatitis</th>\n",
       "      <th>Feathers</th>\n",
       "    </tr>\n",
       "  </thead>\n",
       "  <tbody>\n",
       "    <tr>\n",
       "      <th>0</th>\n",
       "      <td>hen_10</td>\n",
       "      <td>LEXP</td>\n",
       "      <td>OFH</td>\n",
       "      <td>44.959658</td>\n",
       "      <td>9.034385</td>\n",
       "      <td>0.124566</td>\n",
       "      <td>45996.021277</td>\n",
       "      <td>9.476369</td>\n",
       "      <td>4378.892157</td>\n",
       "      <td>0.022727</td>\n",
       "      <td>...</td>\n",
       "      <td>229.0</td>\n",
       "      <td>38.0</td>\n",
       "      <td>0.0</td>\n",
       "      <td>26grey11sbs</td>\n",
       "      <td>NaN</td>\n",
       "      <td>['', '26', 'grey', '11', 'sbs']</td>\n",
       "      <td>sbs</td>\n",
       "      <td>0.0</td>\n",
       "      <td>125.0</td>\n",
       "      <td>82.500000</td>\n",
       "    </tr>\n",
       "    <tr>\n",
       "      <th>1</th>\n",
       "      <td>hen_101</td>\n",
       "      <td>MEXP</td>\n",
       "      <td>OFH</td>\n",
       "      <td>16.767320</td>\n",
       "      <td>6.163057</td>\n",
       "      <td>0.054325</td>\n",
       "      <td>44881.930233</td>\n",
       "      <td>8.201130</td>\n",
       "      <td>609.418605</td>\n",
       "      <td>0.250000</td>\n",
       "      <td>...</td>\n",
       "      <td>307.0</td>\n",
       "      <td>12.0</td>\n",
       "      <td>0.0</td>\n",
       "      <td>30green5sb</td>\n",
       "      <td>NaN</td>\n",
       "      <td>['', '30', 'green', '5', 'sb']</td>\n",
       "      <td>sb</td>\n",
       "      <td>0.0</td>\n",
       "      <td>25.0</td>\n",
       "      <td>88.333333</td>\n",
       "    </tr>\n",
       "    <tr>\n",
       "      <th>2</th>\n",
       "      <td>hen_102</td>\n",
       "      <td>MEXP</td>\n",
       "      <td>OFH</td>\n",
       "      <td>87.317834</td>\n",
       "      <td>5.398790</td>\n",
       "      <td>0.033424</td>\n",
       "      <td>36762.055556</td>\n",
       "      <td>8.068503</td>\n",
       "      <td>9479.135417</td>\n",
       "      <td>0.024390</td>\n",
       "      <td>...</td>\n",
       "      <td>105.0</td>\n",
       "      <td>54.0</td>\n",
       "      <td>1.0</td>\n",
       "      <td>36green3sg</td>\n",
       "      <td>what is this boule?</td>\n",
       "      <td>['', '36', 'green', '3', 'sg']</td>\n",
       "      <td>sg</td>\n",
       "      <td>0.0</td>\n",
       "      <td>110.0</td>\n",
       "      <td>77.833333</td>\n",
       "    </tr>\n",
       "  </tbody>\n",
       "</table>\n",
       "<p>3 rows × 68 columns</p>\n",
       "</div>"
      ],
      "text/plain": [
       "     HenID CLASS_x Treatment_x  perc_duration_5_Zone_  perc_duration_4_Zone_  \\\n",
       "0   hen_10    LEXP         OFH              44.959658               9.034385   \n",
       "1  hen_101    MEXP         OFH              16.767320               6.163057   \n",
       "2  hen_102    MEXP         OFH              87.317834               5.398790   \n",
       "\n",
       "   chi2distance_  activity_50percentile_sec_  kurtosis_duration_  \\\n",
       "0       0.124566                45996.021277            9.476369   \n",
       "1       0.054325                44881.930233            8.201130   \n",
       "2       0.033424                36762.055556            8.068503   \n",
       "\n",
       "   median_duration_  in_WG_15mnAfterOpening_whenopen_  ...  random_order1  \\\n",
       "0       4378.892157                          0.022727  ...          229.0   \n",
       "1        609.418605                          0.250000  ...          307.0   \n",
       "2       9479.135417                          0.024390  ...          105.0   \n",
       "\n",
       "   severity  has_gap       BirdID  uncertainty (0:certain:1 random)  \\\n",
       "0      38.0      0.0  26grey11sbs                               NaN   \n",
       "1      12.0      0.0   30green5sb                               NaN   \n",
       "2      54.0      1.0   36green3sg               what is this boule?   \n",
       "\n",
       "                              Info  backpack Injuries  Pododermatitis  \\\n",
       "0  ['', '26', 'grey', '11', 'sbs']       sbs      0.0           125.0   \n",
       "1   ['', '30', 'green', '5', 'sb']        sb      0.0            25.0   \n",
       "2   ['', '36', 'green', '3', 'sg']        sg      0.0           110.0   \n",
       "\n",
       "    Feathers  \n",
       "0  82.500000  \n",
       "1  88.333333  \n",
       "2  77.833333  \n",
       "\n",
       "[3 rows x 68 columns]"
      ]
     },
     "execution_count": 154,
     "metadata": {},
     "output_type": "execute_result"
    }
   ],
   "source": [
    "#DF of var mean for model. We will have 140 obs, so lets keep at most 14 var for now (10 obs/var)\n",
    "df_mean = df_MVT.groupby(['HenID','CLASS','Treatment']).agg(\n",
    "           perc_duration_5_Zone_=pd.NamedAgg(column='perc_duration_5_Zone', aggfunc=lambda x: np.nanmean(x)),\n",
    "           perc_duration_4_Zone_=pd.NamedAgg(column='perc_duration_4_Zone', aggfunc=lambda x: np.nanmean(x)),\n",
    "           chi2distance_=pd.NamedAgg(column='chi2-distance', aggfunc=lambda x: np.nanmean(x)),\n",
    "           activity_50percentile_sec_ = pd.NamedAgg(column='activity_50percentile_sec', aggfunc=lambda x: np.nanmean(x)),\n",
    "           kurtosis_duration_=pd.NamedAgg(column='kurtosis_duration', aggfunc=lambda x: np.nanmean(x)),\n",
    "           median_duration_=pd.NamedAgg(column='median_duration', aggfunc=lambda x: np.nanmean(x)),\n",
    "           in_WG_15mnAfterOpening_whenopen_=pd.NamedAgg(column='in_WG_15mnAfterOpening_whenopen', aggfunc=lambda x: np.nanmean(x)),\n",
    "           vertical_travel_distance_=pd.NamedAgg(column='vertical_travel_distance', aggfunc=lambda x: np.nanmean(x)),\n",
    "           empproba_3_Zone_=pd.NamedAgg(column='empproba_3_Zone', aggfunc=lambda x: np.nanmean(x)),\n",
    "           empproba_4_Zone_=pd.NamedAgg(column='empproba_4_Zone', aggfunc=lambda x: np.nanmean(x)),\n",
    "           is_mvt_night_=pd.NamedAgg(column='is_mvt_night', aggfunc=lambda x: np.nanmean(x)),\n",
    "           closeness_DTW_30_2_Zone_=pd.NamedAgg(column='closeness_DTW_30_2_Zone', aggfunc=lambda x: np.nanmean(x)),\n",
    "           closeness_DTW_30_5_Zone_=pd.NamedAgg(column='closeness_DTW_30_5_Zone', aggfunc=lambda x: np.nanmean(x)),\n",
    "           degree_DTW_30_all_=pd.NamedAgg(column='degree_DTW_30_all', aggfunc=lambda x: np.nanmean(x)),\n",
    "           ALL_MLPS_99_10cat_=pd.NamedAgg(column='ALL_MLPS_99_10cat', aggfunc=lambda x: st.mode(x))).reset_index()\n",
    "print(df_mean['ALL_MLPS_99_10cat_'].value_counts())\n",
    "#add %days no mvt\n",
    "df_mean['%daysnomvt'] = df_mean['HenID'].map(lambda x: dico_henID_daysnomvt[x])\n",
    "print(df_mean.shape)\n",
    "display(df_mean.head(3))\n",
    "li_mvtvar_model = [x+'_' for x in li_mvtvar if x!='ALL_MLPS_99_10cat'] #drop ALL_MLPS_99_10cat as no variation\n",
    "li_mvtvar_model = ['perc_duration_5_Zone_','kurtosis_duration_','vertical_travel_distance_','perc_duration_4_Zone_',\n",
    "                  'median_duration_','degree_DTW_30_all_','%daysnomvt','chi2distance_']\n",
    "HAID = 'HA4'\n",
    "print(df_HA[df_HA['HAID']==HAID].shape)\n",
    "df_model = pd.merge(df_mean, df_HA[df_HA['HAID']==HAID], on=['HenID'], how='inner') #df_variability or df_mean\n",
    "print(df_model.shape)\n",
    "df_model[['HenID']+li_mvtvar_model].head(2)\n",
    "print(df_model.shape)\n",
    "df_model.head(3)"
   ]
  },
  {
   "cell_type": "markdown",
   "metadata": {},
   "source": [
    "### individual aggregation variability"
   ]
  },
  {
   "cell_type": "code",
   "execution_count": 167,
   "metadata": {},
   "outputs": [
    {
     "name": "stderr",
     "output_type": "stream",
     "text": [
      "C:\\Users\\camil\\anaconda3\\lib\\site-packages\\ipykernel\\ipkernel.py:283: DeprecationWarning: `should_run_async` will not call `transform_cell` automatically in the future. Please pass the result to `transformed_cell` argument and any exception that happen during thetransform in `preprocessing_exc_tuple` in IPython 7.17 and above.\n",
      "  and should_run_async(code)\n"
     ]
    }
   ],
   "source": [
    "#variability is dangerous during adaptability as hard to distinguish between hen variability and barn variability"
   ]
  },
  {
   "cell_type": "code",
   "execution_count": 155,
   "metadata": {},
   "outputs": [
    {
     "name": "stderr",
     "output_type": "stream",
     "text": [
      "C:\\Users\\camil\\anaconda3\\lib\\site-packages\\ipykernel\\ipkernel.py:283: DeprecationWarning: `should_run_async` will not call `transform_cell` automatically in the future. Please pass the result to `transformed_cell` argument and any exception that happen during thetransform in `preprocessing_exc_tuple` in IPython 7.17 and above.\n",
      "  and should_run_async(code)\n"
     ]
    },
    {
     "name": "stdout",
     "output_type": "stream",
     "text": [
      "7     24\n",
      "8     23\n",
      "6     22\n",
      "5     18\n",
      "9     16\n",
      "4     16\n",
      "3      7\n",
      "2      3\n",
      "10     2\n",
      "Name: ALL_MLPS_99_10cat_, dtype: int64\n",
      "(131, 17)\n"
     ]
    },
    {
     "data": {
      "text/html": [
       "<div>\n",
       "<style scoped>\n",
       "    .dataframe tbody tr th:only-of-type {\n",
       "        vertical-align: middle;\n",
       "    }\n",
       "\n",
       "    .dataframe tbody tr th {\n",
       "        vertical-align: top;\n",
       "    }\n",
       "\n",
       "    .dataframe thead th {\n",
       "        text-align: right;\n",
       "    }\n",
       "</style>\n",
       "<table border=\"1\" class=\"dataframe\">\n",
       "  <thead>\n",
       "    <tr style=\"text-align: right;\">\n",
       "      <th></th>\n",
       "      <th>HenID</th>\n",
       "      <th>perc_duration_5_Zone_</th>\n",
       "      <th>perc_duration_4_Zone_</th>\n",
       "      <th>chi2distance_</th>\n",
       "      <th>activity_50percentile_sec_</th>\n",
       "      <th>kurtosis_duration_</th>\n",
       "      <th>median_duration_</th>\n",
       "      <th>in_WG_15mnAfterOpening_whenopen_</th>\n",
       "      <th>vertical_travel_distance_</th>\n",
       "      <th>empproba_3_Zone_</th>\n",
       "      <th>empproba_4_Zone_</th>\n",
       "      <th>is_mvt_night_</th>\n",
       "      <th>closeness_DTW_30_2_Zone_</th>\n",
       "      <th>closeness_DTW_30_5_Zone_</th>\n",
       "      <th>degree_DTW_30_all_</th>\n",
       "      <th>ALL_MLPS_99_10cat_</th>\n",
       "      <th>%daysnomvt</th>\n",
       "    </tr>\n",
       "  </thead>\n",
       "  <tbody>\n",
       "    <tr>\n",
       "      <th>0</th>\n",
       "      <td>hen_1</td>\n",
       "      <td>710.456364</td>\n",
       "      <td>16.167451</td>\n",
       "      <td>0.003247</td>\n",
       "      <td>3.817917e+07</td>\n",
       "      <td>68.943447</td>\n",
       "      <td>3.479321e+08</td>\n",
       "      <td>0.162707</td>\n",
       "      <td>219.632653</td>\n",
       "      <td>503.654435</td>\n",
       "      <td>241.620707</td>\n",
       "      <td>0.058824</td>\n",
       "      <td>0.005004</td>\n",
       "      <td>0.008103</td>\n",
       "      <td>0.034322</td>\n",
       "      <td>5</td>\n",
       "      <td>0.000000</td>\n",
       "    </tr>\n",
       "    <tr>\n",
       "      <th>1</th>\n",
       "      <td>hen_10</td>\n",
       "      <td>1008.196508</td>\n",
       "      <td>48.909416</td>\n",
       "      <td>0.024580</td>\n",
       "      <td>6.090339e+07</td>\n",
       "      <td>55.454813</td>\n",
       "      <td>9.406696e+07</td>\n",
       "      <td>0.022211</td>\n",
       "      <td>239.038831</td>\n",
       "      <td>805.616817</td>\n",
       "      <td>686.531977</td>\n",
       "      <td>0.392157</td>\n",
       "      <td>0.017605</td>\n",
       "      <td>0.004408</td>\n",
       "      <td>0.021289</td>\n",
       "      <td>5</td>\n",
       "      <td>33.333333</td>\n",
       "    </tr>\n",
       "    <tr>\n",
       "      <th>2</th>\n",
       "      <td>hen_101</td>\n",
       "      <td>364.672050</td>\n",
       "      <td>22.861604</td>\n",
       "      <td>0.002554</td>\n",
       "      <td>6.535802e+07</td>\n",
       "      <td>43.831665</td>\n",
       "      <td>3.646014e+05</td>\n",
       "      <td>0.187500</td>\n",
       "      <td>664.058410</td>\n",
       "      <td>372.148328</td>\n",
       "      <td>232.131526</td>\n",
       "      <td>0.409091</td>\n",
       "      <td>0.005065</td>\n",
       "      <td>0.005514</td>\n",
       "      <td>0.010088</td>\n",
       "      <td>10</td>\n",
       "      <td>0.000000</td>\n",
       "    </tr>\n",
       "  </tbody>\n",
       "</table>\n",
       "</div>"
      ],
      "text/plain": [
       "     HenID  perc_duration_5_Zone_  perc_duration_4_Zone_  chi2distance_  \\\n",
       "0    hen_1             710.456364              16.167451       0.003247   \n",
       "1   hen_10            1008.196508              48.909416       0.024580   \n",
       "2  hen_101             364.672050              22.861604       0.002554   \n",
       "\n",
       "   activity_50percentile_sec_  kurtosis_duration_  median_duration_  \\\n",
       "0                3.817917e+07           68.943447      3.479321e+08   \n",
       "1                6.090339e+07           55.454813      9.406696e+07   \n",
       "2                6.535802e+07           43.831665      3.646014e+05   \n",
       "\n",
       "   in_WG_15mnAfterOpening_whenopen_  vertical_travel_distance_  \\\n",
       "0                          0.162707                 219.632653   \n",
       "1                          0.022211                 239.038831   \n",
       "2                          0.187500                 664.058410   \n",
       "\n",
       "   empproba_3_Zone_  empproba_4_Zone_  is_mvt_night_  \\\n",
       "0        503.654435        241.620707       0.058824   \n",
       "1        805.616817        686.531977       0.392157   \n",
       "2        372.148328        232.131526       0.409091   \n",
       "\n",
       "   closeness_DTW_30_2_Zone_  closeness_DTW_30_5_Zone_  degree_DTW_30_all_  \\\n",
       "0                  0.005004                  0.008103            0.034322   \n",
       "1                  0.017605                  0.004408            0.021289   \n",
       "2                  0.005065                  0.005514            0.010088   \n",
       "\n",
       "   ALL_MLPS_99_10cat_  %daysnomvt  \n",
       "0                   5    0.000000  \n",
       "1                   5   33.333333  \n",
       "2                  10    0.000000  "
      ]
     },
     "metadata": {},
     "output_type": "display_data"
    },
    {
     "name": "stdout",
     "output_type": "stream",
     "text": [
      "(98, 50)\n",
      "(98, 66)\n",
      "(98, 66)\n"
     ]
    },
    {
     "data": {
      "text/html": [
       "<div>\n",
       "<style scoped>\n",
       "    .dataframe tbody tr th:only-of-type {\n",
       "        vertical-align: middle;\n",
       "    }\n",
       "\n",
       "    .dataframe tbody tr th {\n",
       "        vertical-align: top;\n",
       "    }\n",
       "\n",
       "    .dataframe thead th {\n",
       "        text-align: right;\n",
       "    }\n",
       "</style>\n",
       "<table border=\"1\" class=\"dataframe\">\n",
       "  <thead>\n",
       "    <tr style=\"text-align: right;\">\n",
       "      <th></th>\n",
       "      <th>HenID</th>\n",
       "      <th>perc_duration_5_Zone_</th>\n",
       "      <th>perc_duration_4_Zone_</th>\n",
       "      <th>chi2distance_</th>\n",
       "      <th>activity_50percentile_sec_</th>\n",
       "      <th>kurtosis_duration_</th>\n",
       "      <th>median_duration_</th>\n",
       "      <th>in_WG_15mnAfterOpening_whenopen_</th>\n",
       "      <th>vertical_travel_distance_</th>\n",
       "      <th>empproba_3_Zone_</th>\n",
       "      <th>...</th>\n",
       "      <th>random_order1</th>\n",
       "      <th>severity</th>\n",
       "      <th>has_gap</th>\n",
       "      <th>BirdID</th>\n",
       "      <th>uncertainty (0:certain:1 random)</th>\n",
       "      <th>Info</th>\n",
       "      <th>backpack</th>\n",
       "      <th>Injuries</th>\n",
       "      <th>Pododermatitis</th>\n",
       "      <th>Feathers</th>\n",
       "    </tr>\n",
       "  </thead>\n",
       "  <tbody>\n",
       "    <tr>\n",
       "      <th>0</th>\n",
       "      <td>hen_10</td>\n",
       "      <td>1008.196508</td>\n",
       "      <td>48.909416</td>\n",
       "      <td>0.024580</td>\n",
       "      <td>6.090339e+07</td>\n",
       "      <td>55.454813</td>\n",
       "      <td>9.406696e+07</td>\n",
       "      <td>0.022211</td>\n",
       "      <td>239.038831</td>\n",
       "      <td>805.616817</td>\n",
       "      <td>...</td>\n",
       "      <td>229.0</td>\n",
       "      <td>38.0</td>\n",
       "      <td>0.0</td>\n",
       "      <td>26grey11sbs</td>\n",
       "      <td>NaN</td>\n",
       "      <td>['', '26', 'grey', '11', 'sbs']</td>\n",
       "      <td>sbs</td>\n",
       "      <td>0.0</td>\n",
       "      <td>125.0</td>\n",
       "      <td>82.500000</td>\n",
       "    </tr>\n",
       "    <tr>\n",
       "      <th>1</th>\n",
       "      <td>hen_101</td>\n",
       "      <td>364.672050</td>\n",
       "      <td>22.861604</td>\n",
       "      <td>0.002554</td>\n",
       "      <td>6.535802e+07</td>\n",
       "      <td>43.831665</td>\n",
       "      <td>3.646014e+05</td>\n",
       "      <td>0.187500</td>\n",
       "      <td>664.058410</td>\n",
       "      <td>372.148328</td>\n",
       "      <td>...</td>\n",
       "      <td>307.0</td>\n",
       "      <td>12.0</td>\n",
       "      <td>0.0</td>\n",
       "      <td>30green5sb</td>\n",
       "      <td>NaN</td>\n",
       "      <td>['', '30', 'green', '5', 'sb']</td>\n",
       "      <td>sb</td>\n",
       "      <td>0.0</td>\n",
       "      <td>25.0</td>\n",
       "      <td>88.333333</td>\n",
       "    </tr>\n",
       "    <tr>\n",
       "      <th>2</th>\n",
       "      <td>hen_102</td>\n",
       "      <td>100.232661</td>\n",
       "      <td>20.938687</td>\n",
       "      <td>0.001217</td>\n",
       "      <td>1.370234e+08</td>\n",
       "      <td>16.220369</td>\n",
       "      <td>2.323905e+08</td>\n",
       "      <td>0.023795</td>\n",
       "      <td>76.805556</td>\n",
       "      <td>284.388997</td>\n",
       "      <td>...</td>\n",
       "      <td>105.0</td>\n",
       "      <td>54.0</td>\n",
       "      <td>1.0</td>\n",
       "      <td>36green3sg</td>\n",
       "      <td>what is this boule?</td>\n",
       "      <td>['', '36', 'green', '3', 'sg']</td>\n",
       "      <td>sg</td>\n",
       "      <td>0.0</td>\n",
       "      <td>110.0</td>\n",
       "      <td>77.833333</td>\n",
       "    </tr>\n",
       "  </tbody>\n",
       "</table>\n",
       "<p>3 rows × 66 columns</p>\n",
       "</div>"
      ],
      "text/plain": [
       "     HenID  perc_duration_5_Zone_  perc_duration_4_Zone_  chi2distance_  \\\n",
       "0   hen_10            1008.196508              48.909416       0.024580   \n",
       "1  hen_101             364.672050              22.861604       0.002554   \n",
       "2  hen_102             100.232661              20.938687       0.001217   \n",
       "\n",
       "   activity_50percentile_sec_  kurtosis_duration_  median_duration_  \\\n",
       "0                6.090339e+07           55.454813      9.406696e+07   \n",
       "1                6.535802e+07           43.831665      3.646014e+05   \n",
       "2                1.370234e+08           16.220369      2.323905e+08   \n",
       "\n",
       "   in_WG_15mnAfterOpening_whenopen_  vertical_travel_distance_  \\\n",
       "0                          0.022211                 239.038831   \n",
       "1                          0.187500                 664.058410   \n",
       "2                          0.023795                  76.805556   \n",
       "\n",
       "   empproba_3_Zone_  ...  random_order1  severity  has_gap       BirdID  \\\n",
       "0        805.616817  ...          229.0      38.0      0.0  26grey11sbs   \n",
       "1        372.148328  ...          307.0      12.0      0.0   30green5sb   \n",
       "2        284.388997  ...          105.0      54.0      1.0   36green3sg   \n",
       "\n",
       "   uncertainty (0:certain:1 random)                             Info  \\\n",
       "0                               NaN  ['', '26', 'grey', '11', 'sbs']   \n",
       "1                               NaN   ['', '30', 'green', '5', 'sb']   \n",
       "2               what is this boule?   ['', '36', 'green', '3', 'sg']   \n",
       "\n",
       "   backpack Injuries Pododermatitis   Feathers  \n",
       "0       sbs      0.0          125.0  82.500000  \n",
       "1        sb      0.0           25.0  88.333333  \n",
       "2        sg      0.0          110.0  77.833333  \n",
       "\n",
       "[3 rows x 66 columns]"
      ]
     },
     "execution_count": 155,
     "metadata": {},
     "output_type": "execute_result"
    }
   ],
   "source": [
    "df_variability = df_MVT.groupby('HenID').agg(\n",
    "           perc_duration_5_Zone_=pd.NamedAgg(column='perc_duration_5_Zone', aggfunc=lambda x: np.nanvar(x)),\n",
    "           perc_duration_4_Zone_=pd.NamedAgg(column='perc_duration_4_Zone', aggfunc=lambda x: np.nanvar(x)),\n",
    "           chi2distance_=pd.NamedAgg(column='chi2-distance', aggfunc=lambda x: np.nanvar(x)),\n",
    "           activity_50percentile_sec_ = pd.NamedAgg(column='activity_50percentile_sec', aggfunc=lambda x: np.nanvar(x)),\n",
    "           kurtosis_duration_=pd.NamedAgg(column='kurtosis_duration', aggfunc=lambda x: np.nanvar(x)),\n",
    "           median_duration_=pd.NamedAgg(column='median_duration', aggfunc=lambda x: np.nanvar(x)),\n",
    "           in_WG_15mnAfterOpening_whenopen_=pd.NamedAgg(column='in_WG_15mnAfterOpening_whenopen', aggfunc=lambda x: np.nanvar(x)),\n",
    "           vertical_travel_distance_=pd.NamedAgg(column='vertical_travel_distance', aggfunc=lambda x: np.nanvar(x)),\n",
    "           empproba_3_Zone_=pd.NamedAgg(column='empproba_3_Zone', aggfunc=lambda x: np.nanvar(x)),\n",
    "           empproba_4_Zone_=pd.NamedAgg(column='empproba_4_Zone', aggfunc=lambda x: np.nanvar(x)),\n",
    "           is_mvt_night_=pd.NamedAgg(column='is_mvt_night', aggfunc=lambda x: np.nanmean(x)),\n",
    "           closeness_DTW_30_2_Zone_=pd.NamedAgg(column='closeness_DTW_30_2_Zone', aggfunc=lambda x: np.nanvar(x)),\n",
    "           closeness_DTW_30_5_Zone_=pd.NamedAgg(column='closeness_DTW_30_5_Zone', aggfunc=lambda x: np.nanvar(x)),\n",
    "           degree_DTW_30_all_=pd.NamedAgg(column='degree_DTW_30_all', aggfunc=lambda x: np.nanvar(x)),\n",
    "           ALL_MLPS_99_10cat_=pd.NamedAgg(column='ALL_MLPS_99_10cat', aggfunc=lambda x: len(set(x)))).reset_index()\n",
    "print(df_variability['ALL_MLPS_99_10cat_'].value_counts())\n",
    "df_variability['%daysnomvt'] = df_variability['HenID'].map(lambda x: dico_henID_daysnomvt[x])\n",
    "print(df_variability.shape)\n",
    "display(df_variability.head(3))\n",
    "li_mvtvar_model = [x+'_' for x in li_mvtvar if x!='ALL_MLPS_99_10cat'] #drop ALL_MLPS_99_10cat as no variation\n",
    "li_mvtvar_model = ['perc_duration_5_Zone_','kurtosis_duration_','vertical_travel_distance_','perc_duration_4_Zone_',\n",
    "                  'median_duration_','degree_DTW_30_all_','%daysnomvt','chi2distance_']\n",
    "HAID = 'HA4'\n",
    "print(df_HA[df_HA['HAID']==HAID].shape)\n",
    "df_model = pd.merge(df_variability, df_HA[df_HA['HAID']==HAID], on=['HenID'], how='inner') #df_variability or df_mean\n",
    "print(df_model.shape)\n",
    "df_model[['HenID']+li_mvtvar_model].head(2)\n",
    "print(df_model.shape)\n",
    "df_model.head(3)"
   ]
  },
  {
   "cell_type": "markdown",
   "metadata": {},
   "source": [
    "### only first day in barn"
   ]
  },
  {
   "cell_type": "code",
   "execution_count": 162,
   "metadata": {},
   "outputs": [
    {
     "name": "stdout",
     "output_type": "stream",
     "text": [
      "(98, 50)\n",
      "(98, 274)\n",
      "(98, 274)\n"
     ]
    },
    {
     "name": "stderr",
     "output_type": "stream",
     "text": [
      "C:\\Users\\camil\\anaconda3\\lib\\site-packages\\ipykernel\\ipkernel.py:283: DeprecationWarning: `should_run_async` will not call `transform_cell` automatically in the future. Please pass the result to `transformed_cell` argument and any exception that happen during thetransform in `preprocessing_exc_tuple` in IPython 7.17 and above.\n",
      "  and should_run_async(code)\n"
     ]
    },
    {
     "data": {
      "text/html": [
       "<div>\n",
       "<style scoped>\n",
       "    .dataframe tbody tr th:only-of-type {\n",
       "        vertical-align: middle;\n",
       "    }\n",
       "\n",
       "    .dataframe tbody tr th {\n",
       "        vertical-align: top;\n",
       "    }\n",
       "\n",
       "    .dataframe thead th {\n",
       "        text-align: right;\n",
       "    }\n",
       "</style>\n",
       "<table border=\"1\" class=\"dataframe\">\n",
       "  <thead>\n",
       "    <tr style=\"text-align: right;\">\n",
       "      <th></th>\n",
       "      <th>HenID</th>\n",
       "      <th>level</th>\n",
       "      <th>duration_1_Zone</th>\n",
       "      <th>duration_2_Zone</th>\n",
       "      <th>duration_3_Zone</th>\n",
       "      <th>duration_4_Zone</th>\n",
       "      <th>duration_5_Zone</th>\n",
       "      <th>verification_daily_total_duration</th>\n",
       "      <th>Total_number_zone</th>\n",
       "      <th>Max_duration_zones</th>\n",
       "      <th>...</th>\n",
       "      <th>random_order1</th>\n",
       "      <th>severity</th>\n",
       "      <th>has_gap</th>\n",
       "      <th>BirdID</th>\n",
       "      <th>uncertainty (0:certain:1 random)</th>\n",
       "      <th>Info</th>\n",
       "      <th>backpack</th>\n",
       "      <th>Injuries</th>\n",
       "      <th>Pododermatitis</th>\n",
       "      <th>Feathers</th>\n",
       "    </tr>\n",
       "  </thead>\n",
       "  <tbody>\n",
       "    <tr>\n",
       "      <th>0</th>\n",
       "      <td>hen_10</td>\n",
       "      <td>2020-09-30</td>\n",
       "      <td>0.0</td>\n",
       "      <td>11590.0</td>\n",
       "      <td>15342.0</td>\n",
       "      <td>1135.0</td>\n",
       "      <td>733.0</td>\n",
       "      <td>28800.0</td>\n",
       "      <td>4.0</td>\n",
       "      <td>3_Zone</td>\n",
       "      <td>...</td>\n",
       "      <td>229.0</td>\n",
       "      <td>38.0</td>\n",
       "      <td>0.0</td>\n",
       "      <td>26grey11sbs</td>\n",
       "      <td>NaN</td>\n",
       "      <td>['', '26', 'grey', '11', 'sbs']</td>\n",
       "      <td>sbs</td>\n",
       "      <td>0.0</td>\n",
       "      <td>125.0</td>\n",
       "      <td>82.500000</td>\n",
       "    </tr>\n",
       "    <tr>\n",
       "      <th>1</th>\n",
       "      <td>hen_101</td>\n",
       "      <td>2020-09-30</td>\n",
       "      <td>0.0</td>\n",
       "      <td>24884.0</td>\n",
       "      <td>3916.0</td>\n",
       "      <td>0.0</td>\n",
       "      <td>0.0</td>\n",
       "      <td>28800.0</td>\n",
       "      <td>2.0</td>\n",
       "      <td>2_Zone</td>\n",
       "      <td>...</td>\n",
       "      <td>307.0</td>\n",
       "      <td>12.0</td>\n",
       "      <td>0.0</td>\n",
       "      <td>30green5sb</td>\n",
       "      <td>NaN</td>\n",
       "      <td>['', '30', 'green', '5', 'sb']</td>\n",
       "      <td>sb</td>\n",
       "      <td>0.0</td>\n",
       "      <td>25.0</td>\n",
       "      <td>88.333333</td>\n",
       "    </tr>\n",
       "    <tr>\n",
       "      <th>2</th>\n",
       "      <td>hen_102</td>\n",
       "      <td>2020-09-30</td>\n",
       "      <td>0.0</td>\n",
       "      <td>306.0</td>\n",
       "      <td>5654.0</td>\n",
       "      <td>621.0</td>\n",
       "      <td>22219.0</td>\n",
       "      <td>28800.0</td>\n",
       "      <td>4.0</td>\n",
       "      <td>5_Zone</td>\n",
       "      <td>...</td>\n",
       "      <td>105.0</td>\n",
       "      <td>54.0</td>\n",
       "      <td>1.0</td>\n",
       "      <td>36green3sg</td>\n",
       "      <td>what is this boule?</td>\n",
       "      <td>['', '36', 'green', '3', 'sg']</td>\n",
       "      <td>sg</td>\n",
       "      <td>0.0</td>\n",
       "      <td>110.0</td>\n",
       "      <td>77.833333</td>\n",
       "    </tr>\n",
       "  </tbody>\n",
       "</table>\n",
       "<p>3 rows × 274 columns</p>\n",
       "</div>"
      ],
      "text/plain": [
       "     HenID      level  duration_1_Zone  duration_2_Zone  duration_3_Zone  \\\n",
       "0   hen_10 2020-09-30              0.0          11590.0          15342.0   \n",
       "1  hen_101 2020-09-30              0.0          24884.0           3916.0   \n",
       "2  hen_102 2020-09-30              0.0            306.0           5654.0   \n",
       "\n",
       "   duration_4_Zone  duration_5_Zone  verification_daily_total_duration  \\\n",
       "0           1135.0            733.0                            28800.0   \n",
       "1              0.0              0.0                            28800.0   \n",
       "2            621.0          22219.0                            28800.0   \n",
       "\n",
       "   Total_number_zone Max_duration_zones  ... random_order1  severity  has_gap  \\\n",
       "0                4.0             3_Zone  ...         229.0      38.0      0.0   \n",
       "1                2.0             2_Zone  ...         307.0      12.0      0.0   \n",
       "2                4.0             5_Zone  ...         105.0      54.0      1.0   \n",
       "\n",
       "        BirdID  uncertainty (0:certain:1 random)  \\\n",
       "0  26grey11sbs                               NaN   \n",
       "1   30green5sb                               NaN   \n",
       "2   36green3sg               what is this boule?   \n",
       "\n",
       "                              Info  backpack  Injuries  Pododermatitis  \\\n",
       "0  ['', '26', 'grey', '11', 'sbs']       sbs       0.0           125.0   \n",
       "1   ['', '30', 'green', '5', 'sb']        sb       0.0            25.0   \n",
       "2   ['', '36', 'green', '3', 'sg']        sg       0.0           110.0   \n",
       "\n",
       "    Feathers  \n",
       "0  82.500000  \n",
       "1  88.333333  \n",
       "2  77.833333  \n",
       "\n",
       "[3 rows x 274 columns]"
      ]
     },
     "execution_count": 162,
     "metadata": {},
     "output_type": "execute_result"
    }
   ],
   "source": [
    "df_DIB1 = df_MVT[df_MVT['DOA']==119]\n",
    "li_mvtvar_model = [x+'_' for x in li_mvtvar if x!='ALL_MLPS_99_10cat'] #drop ALL_MLPS_99_10cat as no variation\n",
    "li_mvtvar_model = ['perc_duration_5_Zone','vertical_travel_distance','perc_duration_4_Zone',\n",
    "                  'median_duration','degree_DTW_30_all']\n",
    "HAID = 'HA4'\n",
    "print(df_HA[df_HA['HAID']==HAID].shape)\n",
    "df_model = pd.merge(df_DIB1, df_HA[df_HA['HAID']==HAID], on=['HenID'], how='inner') #df_variability or df_mean\n",
    "print(df_model.shape)\n",
    "df_model[['HenID']+li_mvtvar_model].head(2)\n",
    "print(df_model.shape)\n",
    "df_model.head(3)"
   ]
  },
  {
   "cell_type": "code",
   "execution_count": null,
   "metadata": {},
   "outputs": [],
   "source": []
  },
  {
   "cell_type": "markdown",
   "metadata": {},
   "source": [
    "### correlations"
   ]
  },
  {
   "cell_type": "code",
   "execution_count": 145,
   "metadata": {},
   "outputs": [
    {
     "name": "stderr",
     "output_type": "stream",
     "text": [
      "C:\\Users\\camil\\anaconda3\\lib\\site-packages\\ipykernel\\ipkernel.py:283: DeprecationWarning: `should_run_async` will not call `transform_cell` automatically in the future. Please pass the result to `transformed_cell` argument and any exception that happen during thetransform in `preprocessing_exc_tuple` in IPython 7.17 and above.\n",
      "  and should_run_async(code)\n"
     ]
    },
    {
     "data": {
      "text/plain": [
       "SpearmanrResult(correlation=0.10040058077735482, pvalue=0.32528726731536817)"
      ]
     },
     "execution_count": 145,
     "metadata": {},
     "output_type": "execute_result"
    }
   ],
   "source": [
    "spearmanr(df_model['%daysnomvt'], df_model['severity']) #variability also!"
   ]
  },
  {
   "cell_type": "code",
   "execution_count": 146,
   "metadata": {},
   "outputs": [
    {
     "name": "stderr",
     "output_type": "stream",
     "text": [
      "C:\\Users\\camil\\anaconda3\\lib\\site-packages\\ipykernel\\ipkernel.py:283: DeprecationWarning: `should_run_async` will not call `transform_cell` automatically in the future. Please pass the result to `transformed_cell` argument and any exception that happen during thetransform in `preprocessing_exc_tuple` in IPython 7.17 and above.\n",
      "  and should_run_async(code)\n"
     ]
    },
    {
     "data": {
      "text/plain": [
       "(-0.09621028875973507, 0.3459871273794607)"
      ]
     },
     "execution_count": 146,
     "metadata": {},
     "output_type": "execute_result"
    }
   ],
   "source": [
    "pearsonr(df_model['chi2distance_'], df_model['severity']) #variability also!"
   ]
  },
  {
   "cell_type": "code",
   "execution_count": 69,
   "metadata": {},
   "outputs": [
    {
     "name": "stderr",
     "output_type": "stream",
     "text": [
      "C:\\Users\\camil\\anaconda3\\lib\\site-packages\\ipykernel\\ipkernel.py:283: DeprecationWarning: `should_run_async` will not call `transform_cell` automatically in the future. Please pass the result to `transformed_cell` argument and any exception that happen during thetransform in `preprocessing_exc_tuple` in IPython 7.17 and above.\n",
      "  and should_run_async(code)\n"
     ]
    },
    {
     "data": {
      "text/plain": [
       "(-0.20195885315864232, 0.046125998904239705)"
      ]
     },
     "execution_count": 69,
     "metadata": {},
     "output_type": "execute_result"
    }
   ],
   "source": [
    "#coef, p_val\n",
    "pearsonr(df_model['vertical_travel_distance_'], df_model['severity']) #variability also!"
   ]
  },
  {
   "cell_type": "code",
   "execution_count": 70,
   "metadata": {},
   "outputs": [
    {
     "name": "stderr",
     "output_type": "stream",
     "text": [
      "C:\\Users\\camil\\anaconda3\\lib\\site-packages\\ipykernel\\ipkernel.py:283: DeprecationWarning: `should_run_async` will not call `transform_cell` automatically in the future. Please pass the result to `transformed_cell` argument and any exception that happen during thetransform in `preprocessing_exc_tuple` in IPython 7.17 and above.\n",
      "  and should_run_async(code)\n"
     ]
    },
    {
     "data": {
      "text/plain": [
       "(0.10620623253068279, 0.29794731389041174)"
      ]
     },
     "execution_count": 70,
     "metadata": {},
     "output_type": "execute_result"
    }
   ],
   "source": [
    "pearsonr(df_model['degree_DTW_30_all_'], df_model['severity'])"
   ]
  },
  {
   "cell_type": "code",
   "execution_count": 71,
   "metadata": {},
   "outputs": [
    {
     "name": "stderr",
     "output_type": "stream",
     "text": [
      "C:\\Users\\camil\\anaconda3\\lib\\site-packages\\ipykernel\\ipkernel.py:283: DeprecationWarning: `should_run_async` will not call `transform_cell` automatically in the future. Please pass the result to `transformed_cell` argument and any exception that happen during thetransform in `preprocessing_exc_tuple` in IPython 7.17 and above.\n",
      "  and should_run_async(code)\n"
     ]
    },
    {
     "data": {
      "text/plain": [
       "(-0.23997497693465966, 0.017310771583396778)"
      ]
     },
     "execution_count": 71,
     "metadata": {},
     "output_type": "execute_result"
    }
   ],
   "source": [
    "pearsonr(df_model['perc_duration_4_Zone_'], df_model['severity'])"
   ]
  },
  {
   "cell_type": "markdown",
   "metadata": {},
   "source": [
    "### RF regressor"
   ]
  },
  {
   "cell_type": "markdown",
   "metadata": {},
   "source": [
    "#chyperparameter tuning\n",
    "#########################  Split into training and validation (for parameter tuning) & dummies\n",
    "#split into train, test and put into good format\n",
    "X_train = df_model[li_mvtvar_model].values\n",
    "y_train = df_model['severity'].values\n",
    "y_train = np.ravel(y_train) #from (x,1) to (x,)\n",
    "print(X_train.shape, y_train.shape)\n",
    "val_size = 0.2\n",
    "X_train_tuning, X_val_tuning, y_train_tuning, y_val_tuning = train_test_split(X_train, y_train, \n",
    "                                                                              test_size=val_size, random_state=rs)\n",
    "#var name\n",
    "var_name = df_model[li_mvtvar_model].columns\n",
    "\n",
    "#choose model using 2cross validation on the validating dataset\n",
    "P = {'max_features': ['sqrt','log2'], #nbr of features to consider when looking for the best split\n",
    "      'max_depth': [3,4,5,6,7,8,9,10,11],\n",
    "      'min_samples_leaf': [2,3,4],#min samples at a leaf node\n",
    "      'min_samples_split':[2,3,4,5], #min nbr of samples required to split a node, we may want this to be bigger for RF (more complex trees)\n",
    "      'n_estimators':[20,30,40],#nbr of trees in the forest default=100\n",
    "      'min_impurity_decrease':[x for x in np.linspace(start = 0.00001, stop = 0.001, num = 10)]}\n",
    "#define the model with all these options and fit it (as many combination as asked for). \n",
    "#refit: fit an estimator using the best found parameters on the whole dataset, then we can extract it with best_estimator_\n",
    "mod = GridSearchCV(estimator = RandomForestRegressor(), param_grid = P, cv = 3, n_jobs = -1, verbose = 2, refit=True) \n",
    "#train best model\n",
    "mod.fit(X_train_tuning, y_train_tuning)\n",
    "#extract best already fitted model and save it \n",
    "mod_final = mod.best_estimator_\n",
    "#joblib.dump(mod_final, os.path.join(path_extracted_data_cleaning_model, 'selected_randomforest.pkl') )\n",
    "display(mod_final)\n",
    "\n",
    "#Evaluate performance\n",
    "#final score: Return the coefficient of determination of the prediction\n",
    "#% of the variance of the dependent variable that is explained by the variance of the ind. variable\n",
    "print('coefficient of determinationon val data: ',round(mod_final.score(X_val_tuning, y_val_tuning),3))\n",
    "print('coefficient of determination on training data: ',round(mod_final.score(X_train_tuning, y_train_tuning),3))\n",
    "\n",
    "#Mean absolute error\n",
    "#Baseline errors, and display average baseline error\n",
    "baseline_errors = abs(np.array([df_model['severity'].mean() for i in range(0,len(y_val_tuning))])-y_val_tuning)\n",
    "print('Average baseline error: ', round(np.mean(baseline_errors), 2))\n",
    "predictions = mod_final.predict(X_val_tuning)\n",
    "errors = abs(predictions - y_val_tuning)\n",
    "print('Mean Absolute Error:', round(np.mean(errors), 2))"
   ]
  },
  {
   "cell_type": "code",
   "execution_count": 163,
   "metadata": {
    "scrolled": true
   },
   "outputs": [
    {
     "name": "stderr",
     "output_type": "stream",
     "text": [
      "C:\\Users\\camil\\anaconda3\\lib\\site-packages\\ipykernel\\ipkernel.py:283: DeprecationWarning: `should_run_async` will not call `transform_cell` automatically in the future. Please pass the result to `transformed_cell` argument and any exception that happen during thetransform in `preprocessing_exc_tuple` in IPython 7.17 and above.\n",
      "  and should_run_async(code)\n",
      "C:\\Users\\camil\\anaconda3\\lib\\site-packages\\sklearn\\model_selection\\_split.py:670: UserWarning: The least populated class in y has only 1 members, which is less than n_splits=5.\n",
      "  warnings.warn((\"The least populated class in y has only %d\"\n"
     ]
    },
    {
     "name": "stdout",
     "output_type": "stream",
     "text": [
      "0\n",
      "coefficient of determinationon val data:  -0.427\n",
      "coefficient of determination on training data:  0.442\n",
      "Average baseline error:  10.4\n",
      "Mean Absolute Error: 12.11\n",
      "1\n",
      "coefficient of determinationon val data:  -0.414\n",
      "coefficient of determination on training data:  0.41\n",
      "Average baseline error:  8.9\n",
      "Mean Absolute Error: 10.39\n",
      "2\n",
      "coefficient of determinationon val data:  -0.672\n",
      "coefficient of determination on training data:  0.42\n",
      "Average baseline error:  10.2\n",
      "Mean Absolute Error: 12.23\n",
      "3\n",
      "coefficient of determinationon val data:  0.005\n",
      "coefficient of determination on training data:  0.407\n",
      "Average baseline error:  14.5\n",
      "Mean Absolute Error: 14.03\n",
      "4\n",
      "coefficient of determinationon val data:  -0.222\n",
      "coefficient of determination on training data:  0.388\n",
      "Average baseline error:  12.71\n",
      "Mean Absolute Error: 13.83\n"
     ]
    }
   ],
   "source": [
    "#train chosen model with 3fold\n",
    "cv = StratifiedKFold(n_splits=5, random_state=123, shuffle=True)\n",
    "mod_final = RandomForestRegressor(max_depth=6, max_features='auto',\n",
    "                                  min_impurity_decrease=0.01, min_samples_leaf=2,\n",
    "                                  min_samples_split=10, n_estimators=30)\n",
    "X = df_model[li_mvtvar_model].values\n",
    "y = df_model['severity'].values\n",
    "y = np.ravel(y) #from (x,1) to (x,)\n",
    "#n_splits from StratifiedKFold define the number of run we have\n",
    "for i, (train, test) in enumerate(cv.split(X, y)):\n",
    "    print(i)\n",
    "    mod_final.fit(X[train], y[train])\n",
    "    print('coefficient of determinationon val data: ',round(mod_final.score(X[test], y[test]),3))\n",
    "    print('coefficient of determination on training data: ',round(mod_final.score(X[train], y[train]),3))\n",
    "\n",
    "    #Mean absolute error\n",
    "    #Baseline errors, and display average baseline error\n",
    "    baseline_errors = abs(np.array([df_model['severity'].mean() for i in range(0,len(y[test]))])-y[test])\n",
    "    print('Average baseline error: ', round(np.mean(baseline_errors), 2))\n",
    "    predictions = mod_final.predict(X[test])\n",
    "    errors = abs(predictions - y[test])\n",
    "    print('Mean Absolute Error:', round(np.mean(errors), 2))"
   ]
  },
  {
   "cell_type": "code",
   "execution_count": null,
   "metadata": {},
   "outputs": [],
   "source": []
  },
  {
   "cell_type": "markdown",
   "metadata": {},
   "source": [
    "# Model on windowed period"
   ]
  },
  {
   "cell_type": "code",
   "execution_count": 37,
   "metadata": {},
   "outputs": [
    {
     "name": "stderr",
     "output_type": "stream",
     "text": [
      "C:\\Users\\camil\\anaconda3\\lib\\site-packages\\ipykernel\\ipkernel.py:283: DeprecationWarning: `should_run_async` will not call `transform_cell` automatically in the future. Please pass the result to `transformed_cell` argument and any exception that happen during thetransform in `preprocessing_exc_tuple` in IPython 7.17 and above.\n",
      "  and should_run_async(code)\n"
     ]
    }
   ],
   "source": [
    "li_date = set(df_MVT['level'].tolist()) #unique lead to np format of date!\n",
    "li_date = sorted(li_date)\n",
    "nbr_days = 14\n",
    "li_date = li_date[nbr_days:]"
   ]
  },
  {
   "cell_type": "code",
   "execution_count": 102,
   "metadata": {},
   "outputs": [
    {
     "name": "stderr",
     "output_type": "stream",
     "text": [
      "C:\\Users\\camil\\anaconda3\\lib\\site-packages\\ipykernel\\ipkernel.py:283: DeprecationWarning: `should_run_async` will not call `transform_cell` automatically in the future. Please pass the result to `transformed_cell` argument and any exception that happen during thetransform in `preprocessing_exc_tuple` in IPython 7.17 and above.\n",
      "  and should_run_async(code)\n"
     ]
    },
    {
     "ename": "NameError",
     "evalue": "name 'li_date' is not defined",
     "output_type": "error",
     "traceback": [
      "\u001b[1;31m---------------------------------------------------------------------------\u001b[0m",
      "\u001b[1;31mNameError\u001b[0m                                 Traceback (most recent call last)",
      "\u001b[1;32m<ipython-input-102-9f9a66de3a1e>\u001b[0m in \u001b[0;36m<module>\u001b[1;34m\u001b[0m\n\u001b[0;32m      1\u001b[0m \u001b[0mli_dico\u001b[0m \u001b[1;33m=\u001b[0m \u001b[1;33m[\u001b[0m\u001b[1;33m]\u001b[0m\u001b[1;33m\u001b[0m\u001b[1;33m\u001b[0m\u001b[0m\n\u001b[1;32m----> 2\u001b[1;33m \u001b[1;32mfor\u001b[0m \u001b[0mdate_\u001b[0m \u001b[1;32min\u001b[0m \u001b[0mtqdm\u001b[0m\u001b[1;33m.\u001b[0m\u001b[0mtqdm\u001b[0m\u001b[1;33m(\u001b[0m\u001b[0mli_date\u001b[0m\u001b[1;33m)\u001b[0m\u001b[1;33m:\u001b[0m\u001b[1;33m\u001b[0m\u001b[1;33m\u001b[0m\u001b[0m\n\u001b[0m\u001b[0;32m      3\u001b[0m     \u001b[0mprint\u001b[0m\u001b[1;33m(\u001b[0m\u001b[0mdate_\u001b[0m\u001b[1;33m)\u001b[0m\u001b[1;33m\u001b[0m\u001b[1;33m\u001b[0m\u001b[0m\n\u001b[0;32m      4\u001b[0m     \u001b[1;31m#DF of var mean for model. We will have 140 obs, so lets keep at most 14 var for now (10 obs/var)\u001b[0m\u001b[1;33m\u001b[0m\u001b[1;33m\u001b[0m\u001b[1;33m\u001b[0m\u001b[0m\n\u001b[0;32m      5\u001b[0m     df_mean = df_MVT[(df_MVT['level']<=date_)&(df_MVT['level']>date_-dt.timedelta(days=nbr_days))].groupby('HenID').agg(\n",
      "\u001b[1;31mNameError\u001b[0m: name 'li_date' is not defined"
     ]
    }
   ],
   "source": [
    "li_dico = []\n",
    "for date_ in tqdm.tqdm(li_date):\n",
    "    print(date_)\n",
    "    #DF of var mean for model. We will have 140 obs, so lets keep at most 14 var for now (10 obs/var)\n",
    "    df_mean = df_MVT[(df_MVT['level']<=date_)&(df_MVT['level']>date_-dt.timedelta(days=nbr_days))].groupby('HenID').agg(\n",
    "               perc_duration_5_Zone_=pd.NamedAgg(column='perc_duration_5_Zone', aggfunc=lambda x: np.nanmean(x)),\n",
    "               perc_duration_4_Zone_=pd.NamedAgg(column='perc_duration_4_Zone', aggfunc=lambda x: np.nanmean(x)),\n",
    "               activity_50percentile_sec_ = pd.NamedAgg(column='activity_50percentile_sec', aggfunc=lambda x: np.nanmean(x)),\n",
    "               kurtosis_duration_=pd.NamedAgg(column='kurtosis_duration', aggfunc=lambda x: np.nanmean(x)),\n",
    "               median_duration_=pd.NamedAgg(column='median_duration', aggfunc=lambda x: np.nanmean(x)),\n",
    "               in_WG_15mnAfterOpening_whenopen_=pd.NamedAgg(column='in_WG_15mnAfterOpening_whenopen', aggfunc=lambda x: np.nanmean(x)),\n",
    "               vertical_travel_distance_=pd.NamedAgg(column='vertical_travel_distance', aggfunc=lambda x: np.nanmean(x)),\n",
    "               empproba_3_Zone_=pd.NamedAgg(column='empproba_3_Zone', aggfunc=lambda x: np.nanmean(x)),\n",
    "               empproba_4_Zone_=pd.NamedAgg(column='empproba_4_Zone', aggfunc=lambda x: np.nanmean(x)),\n",
    "               is_mvt_night_=pd.NamedAgg(column='is_mvt_night', aggfunc=lambda x: np.nanmean(x)),\n",
    "               closeness_DTW_30_2_Zone_=pd.NamedAgg(column='closeness_DTW_30_2_Zone', aggfunc=lambda x: np.nanmean(x)),\n",
    "               closeness_DTW_30_5_Zone_=pd.NamedAgg(column='closeness_DTW_30_5_Zone', aggfunc=lambda x: np.nanmean(x)),\n",
    "               degree_DTW_30_all_=pd.NamedAgg(column='degree_DTW_30_all', aggfunc=lambda x: np.nanmean(x)),\n",
    "               ALL_MLPS_99_10cat_=pd.NamedAgg(column='ALL_MLPS_99_10cat', aggfunc=lambda x: st.mode(x))).reset_index()\n",
    "    print(df_mean['ALL_MLPS_99_10cat_'].value_counts())\n",
    "\n",
    "    #chose dataset\n",
    "    df_model = pd.merge(df_mean, df_HA[df_HA['HAID']=='HA4'], on=['HenID'], how='inner') #df_variability or df_mean\n",
    "    li_mvtvar_model = ['perc_duration_5_Zone_','vertical_travel_distance_','perc_duration_4_Zone_',\n",
    "                      'degree_DTW_30_all_']\n",
    "    li_mvtvar_model = ['perc_duration_5_Zone_','vertical_travel_distance_']\n",
    "    #drop nan\n",
    "    df_model = df_model[li_mvtvar_model+['severity']].dropna()\n",
    "\n",
    "    #########################  Split into training and validation (for parameter tuning) & dummies\n",
    "    #split into train, test and put into good format\n",
    "    X = df_model[li_mvtvar_model].values\n",
    "    y = df_model['severity'].values\n",
    "    y = np.ravel(y) #from (x,1) to (x,)\n",
    "    val_size = 0.2\n",
    "    X_train_tuning, X_val_tuning, y_train_tuning, y_val_tuning = train_test_split(X, y, \n",
    "                                                                                  test_size=val_size, random_state=rs)\n",
    "    #var name\n",
    "    var_name = df_model[li_mvtvar_model].columns\n",
    "    #fit model\n",
    "    #define model and fit on training dataset\n",
    "    mod_final = RandomForestRegressor(max_depth=6, max_features='auto',\n",
    "                      min_impurity_decrease=0.01, min_samples_leaf=2,\n",
    "                      min_samples_split=10, n_estimators=30)\n",
    "    mod_final.fit(X_train_tuning, y_train_tuning)\n",
    "\n",
    "    #Mean absolute error\n",
    "    #Baseline errors, and display average baseline error\n",
    "    baseline_errors = abs(np.array([df_model['severity'].mean() for i in range(0,len(y_val_tuning))])-y_val_tuning)\n",
    "    predictions = mod_final.predict(X_val_tuning)\n",
    "    errors = abs(predictions - y_val_tuning)\n",
    "    li_dico.append({'MAE':round(np.mean(errors), 2), 'Average baseline error':round(np.mean(baseline_errors), 2), \n",
    "                    'R2_training':round(mod_final.score(X_train_tuning, y_train_tuning),3), \n",
    "                    'R2_val':round(mod_final.score(X_val_tuning, y_val_tuning),3),\n",
    "                    'date':date_, 'nbr_obs':df_model.shape[0]})\n",
    "df_res = pd.DataFrame(li_dico)\n",
    "print(df_res.shape)\n",
    "display(df_res.head(3))\n",
    "plt.plot(df_res['date'].tolist(), df_res['R2_val'].tolist(), color='green');\n",
    "plt.plot(df_res['date'].tolist(), df_res['R2_training'].tolist());"
   ]
  },
  {
   "cell_type": "markdown",
   "metadata": {},
   "source": [
    "# Model on class /Treatment"
   ]
  },
  {
   "cell_type": "code",
   "execution_count": 74,
   "metadata": {},
   "outputs": [
    {
     "name": "stderr",
     "output_type": "stream",
     "text": [
      "C:\\Users\\camil\\anaconda3\\lib\\site-packages\\ipykernel\\ipkernel.py:283: DeprecationWarning: `should_run_async` will not call `transform_cell` automatically in the future. Please pass the result to `transformed_cell` argument and any exception that happen during thetransform in `preprocessing_exc_tuple` in IPython 7.17 and above.\n",
      "  and should_run_async(code)\n"
     ]
    },
    {
     "data": {
      "text/plain": [
       "(0.782, 0.5)"
      ]
     },
     "execution_count": 74,
     "metadata": {},
     "output_type": "execute_result"
    }
   ],
   "source": [
    "df_model = pd.merge(df_mean, df_HA[df_HA['HAID']=='HA4'], on=['HenID','CLASS','Treatment'], how='inner') #df_variability or df_mean\n",
    "li_mvtvar_model = ['perc_duration_5_Zone_','vertical_travel_distance_','perc_duration_4_Zone_',\n",
    "                  'degree_DTW_30_all_']\n",
    "#drop nan\n",
    "df_model = df_model[li_mvtvar_model+['Treatment']].dropna()\n",
    "\n",
    "#########################  Split into training and validation (for parameter tuning) & dummies\n",
    "#split into train, test and put into good format\n",
    "X_train = df_model[li_mvtvar_model].values\n",
    "y_train = df_model['Treatment'].values\n",
    "y_train = np.ravel(y_train) #from (x,1) to (x,)\n",
    "val_size = 0.2\n",
    "X_train_tuning, X_val_tuning, y_train_tuning, y_val_tuning = train_test_split(X_train, y_train, \n",
    "                                                                              test_size=val_size, random_state=rs)\n",
    "#var name\n",
    "var_name = df_model[li_mvtvar_model].columns\n",
    "#fit model\n",
    "#define model and fit on training dataset\n",
    "mod_final = RandomForestClassifier(max_depth=3, max_features='auto',\n",
    "                  min_impurity_decrease=0.0001, min_samples_leaf=3,\n",
    "                  min_samples_split=10, n_estimators=20)\n",
    "mod_final.fit(X_train_tuning, y_train_tuning)\n",
    "round(mod_final.score(X_train_tuning, y_train_tuning),3), round(mod_final.score(X_val_tuning, y_val_tuning),3)"
   ]
  },
  {
   "cell_type": "code",
   "execution_count": null,
   "metadata": {},
   "outputs": [],
   "source": []
  },
  {
   "cell_type": "code",
   "execution_count": null,
   "metadata": {},
   "outputs": [],
   "source": []
  },
  {
   "cell_type": "code",
   "execution_count": null,
   "metadata": {},
   "outputs": [],
   "source": []
  }
 ],
 "metadata": {
  "kernelspec": {
   "display_name": "Python 3",
   "language": "python",
   "name": "python3"
  },
  "language_info": {
   "codemirror_mode": {
    "name": "ipython",
    "version": 3
   },
   "file_extension": ".py",
   "mimetype": "text/x-python",
   "name": "python",
   "nbconvert_exporter": "python",
   "pygments_lexer": "ipython3",
   "version": "3.8.5"
  }
 },
 "nbformat": 4,
 "nbformat_minor": 2
}
