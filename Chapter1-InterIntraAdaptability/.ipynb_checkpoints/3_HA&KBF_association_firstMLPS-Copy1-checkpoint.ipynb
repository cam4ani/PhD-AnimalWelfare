{
 "cells": [
  {
   "cell_type": "code",
   "execution_count": 74,
   "metadata": {},
   "outputs": [
    {
     "name": "stderr",
     "output_type": "stream",
     "text": [
      "C:\\Users\\camil\\anaconda3\\lib\\site-packages\\ipykernel\\ipkernel.py:283: DeprecationWarning: `should_run_async` will not call `transform_cell` automatically in the future. Please pass the result to `transformed_cell` argument and any exception that happen during thetransform in `preprocessing_exc_tuple` in IPython 7.17 and above.\n",
      "  and should_run_async(code)\n"
     ]
    }
   ],
   "source": [
    "#basic package\n",
    "import tqdm\n",
    "import os\n",
    "import numpy as np\n",
    "import glob\n",
    "import pandas as pd\n",
    "import sys\n",
    "import time\n",
    "import datetime as dt\n",
    "import itertools\n",
    "import re\n",
    "import math\n",
    "from collections import Counter\n",
    "import operator\n",
    "from scipy import stats\n",
    "from scipy.spatial.distance import cdist #for euclidean distance of consistency t\n",
    "from numpy import inf\n",
    "import networkx as nx\n",
    "from dtaidistance import dtw\n",
    "import random\n",
    "from sklearn.preprocessing import normalize\n",
    "import pickle\n",
    "from collections import defaultdict\n",
    "import random\n",
    "import statistics as st #for the mode\n",
    "from sklearn.ensemble import RandomForestRegressor, RandomForestClassifier\n",
    "from sklearn.model_selection import GridSearchCV\n",
    "from sklearn.model_selection import train_test_split\n",
    "from scipy.stats import pearsonr, spearmanr\n",
    "from sklearn.metrics import auc\n",
    "from sklearn.metrics import plot_roc_curve\n",
    "from sklearn.model_selection import StratifiedKFold\n",
    "\n",
    "#plot\n",
    "import matplotlib.pyplot as plt\n",
    "import seaborn as sns"
   ]
  },
  {
   "cell_type": "code",
   "execution_count": 2,
   "metadata": {},
   "outputs": [
    {
     "name": "stderr",
     "output_type": "stream",
     "text": [
      "C:\\Users\\camil\\anaconda3\\lib\\site-packages\\scipy\\sparse\\sparsetools.py:21: DeprecationWarning: `scipy.sparse.sparsetools` is deprecated!\n",
      "scipy.sparse.sparsetools is a private module for scipy.sparse, and should not be used.\n",
      "  _deprecated()\n"
     ]
    },
    {
     "name": "stdout",
     "output_type": "stream",
     "text": [
      "2\n"
     ]
    }
   ],
   "source": [
    "PACKAGE_PARENT = '../'\n",
    "SCRIPT_DIR = os.path.dirname(os.path.realpath(os.path.join(os.getcwd(), os.path.expanduser('__file__'))))\n",
    "sys.path.append(os.path.normpath(os.path.join(SCRIPT_DIR, PACKAGE_PARENT)))\n",
    "from UTILS import kmeans_clustering, sampen, chi2_distance, ts_visual, correct_key, chi2_distance, most_frequent\n",
    "import config_origins as config"
   ]
  },
  {
   "cell_type": "raw",
   "metadata": {},
   "source": [
    "to be run with id_run='correctlightschedule_'"
   ]
  },
  {
   "cell_type": "code",
   "execution_count": 3,
   "metadata": {},
   "outputs": [
    {
     "name": "stderr",
     "output_type": "stream",
     "text": [
      "C:\\Users\\camil\\anaconda3\\lib\\site-packages\\ipykernel\\ipkernel.py:283: DeprecationWarning: `should_run_async` will not call `transform_cell` automatically in the future. Please pass the result to `transformed_cell` argument and any exception that happen during thetransform in `preprocessing_exc_tuple` in IPython 7.17 and above.\n",
      "  and should_run_async(code)\n"
     ]
    }
   ],
   "source": [
    "#fix random seed for reproducibility\n",
    "rs = 0"
   ]
  },
  {
   "cell_type": "markdown",
   "metadata": {},
   "source": [
    "# Define parameters"
   ]
  },
  {
   "cell_type": "code",
   "execution_count": 4,
   "metadata": {
    "scrolled": true
   },
   "outputs": [
    {
     "name": "stdout",
     "output_type": "stream",
     "text": [
      "change the configuration file if not done yet!\n"
     ]
    },
    {
     "name": "stderr",
     "output_type": "stream",
     "text": [
      "C:\\Users\\camil\\anaconda3\\lib\\site-packages\\ipykernel\\ipkernel.py:283: DeprecationWarning: `should_run_async` will not call `transform_cell` automatically in the future. Please pass the result to `transformed_cell` argument and any exception that happen during thetransform in `preprocessing_exc_tuple` in IPython 7.17 and above.\n",
      "  and should_run_async(code)\n"
     ]
    }
   ],
   "source": [
    "print('change the configuration file if not done yet!')\n",
    "path_extracted_data = config.path_extracted_data\n",
    "path_initial_data = config.path_initial_data\n",
    "id_run = config.id_run\n",
    "dico_matching = config.dico_matching\n",
    "li_binmn = config.li_binmn\n",
    "pal_class_treat = config.pal_class_treat\n",
    "pal_treat = config.pal_treat\n",
    "pal_class = config.pal_class\n",
    "birth_date = config.birth_date\n",
    "dico_night_hour = config.dico_night_hour\n",
    "pal_interintre_treatment = config.pal_interintre_treatment\n",
    "max_date_adaptability = config.max_date_adaptability\n",
    "dico_pen_tr = config.dico_pen_tr\n",
    "path_extracted_data_visual = os.path.join(path_extracted_data,'visual')\n",
    "path_extracted_data_visual_corr = os.path.join(path_extracted_data,'visual','correlation')\n",
    "path_extracted_data_visual_adap = os.path.join(path_extracted_data,'visual','Treatment&Classs','adaptability')\n",
    "path_extracted_data_visual_adap_clustering = os.path.join(path_extracted_data_visual_adap,'clustering')\n",
    "for nbr_bin in li_binmn:\n",
    "    path_extracted_data_visual_adap_binmn = os.path.join(path_extracted_data,'visual','Treatment&Classs','adaptability',str(nbr_bin))\n",
    "    #create a director if not existing\n",
    "    if not os.path.exists(path_extracted_data_visual_adap_binmn):\n",
    "        os.makedirs(path_extracted_data_visual_adap_binmn)"
   ]
  },
  {
   "cell_type": "code",
   "execution_count": 5,
   "metadata": {},
   "outputs": [
    {
     "name": "stderr",
     "output_type": "stream",
     "text": [
      "C:\\Users\\camil\\anaconda3\\lib\\site-packages\\ipykernel\\ipkernel.py:283: DeprecationWarning: `should_run_async` will not call `transform_cell` automatically in the future. Please pass the result to `transformed_cell` argument and any exception that happen during thetransform in `preprocessing_exc_tuple` in IPython 7.17 and above.\n",
      "  and should_run_async(code)\n"
     ]
    }
   ],
   "source": [
    "li_nbr_cluster = range(2,100)\n",
    "V = 'chi2distance_ALL_15'\n",
    "name_clustering = 'ALL_MLPS_99'\n",
    "path_extracted_data_visual_adap_clustering_V = os.path.join(path_extracted_data_visual_adap_clustering, V+'_ALL_MLPS')"
   ]
  },
  {
   "cell_type": "markdown",
   "metadata": {},
   "source": [
    "# Download variables"
   ]
  },
  {
   "cell_type": "code",
   "execution_count": 6,
   "metadata": {},
   "outputs": [
    {
     "name": "stderr",
     "output_type": "stream",
     "text": [
      "C:\\Users\\camil\\anaconda3\\lib\\site-packages\\ipykernel\\ipkernel.py:283: DeprecationWarning: `should_run_async` will not call `transform_cell` automatically in the future. Please pass the result to `transformed_cell` argument and any exception that happen during thetransform in `preprocessing_exc_tuple` in IPython 7.17 and above.\n",
      "  and should_run_async(code)\n"
     ]
    },
    {
     "name": "stdout",
     "output_type": "stream",
     "text": [
      "131\n"
     ]
    }
   ],
   "source": [
    "li_selected_hens = pickle.load(open(os.path.join(path_extracted_data_visual_adap, 'li_selected_hens.pkl'), 'rb'))\n",
    "print(len(li_selected_hens))\n",
    "#for now we have only distance restricted to 70 animals\n",
    "#compute the CHI2DISTANCE & DTW for each bird with all other birds (because we need this exact same pair to do the visual)\n",
    "#rv = 0\n",
    "#random.seed(rv)\n",
    "#nbr_hens = 70\n",
    "#randomly pick more than one element from the list without repeating elements.\n",
    "#li_selected_hens = random.sample(li_selected_hens, nbr_hens)"
   ]
  },
  {
   "cell_type": "code",
   "execution_count": 7,
   "metadata": {},
   "outputs": [
    {
     "name": "stderr",
     "output_type": "stream",
     "text": [
      "C:\\Users\\camil\\anaconda3\\lib\\site-packages\\ipykernel\\ipkernel.py:283: DeprecationWarning: `should_run_async` will not call `transform_cell` automatically in the future. Please pass the result to `transformed_cell` argument and any exception that happen during thetransform in `preprocessing_exc_tuple` in IPython 7.17 and above.\n",
      "  and should_run_async(code)\n"
     ]
    },
    {
     "name": "stdout",
     "output_type": "stream",
     "text": [
      "(689, 47)\n",
      "(458, 47)\n"
     ]
    },
    {
     "data": {
      "text/html": [
       "<div>\n",
       "<style scoped>\n",
       "    .dataframe tbody tr th:only-of-type {\n",
       "        vertical-align: middle;\n",
       "    }\n",
       "\n",
       "    .dataframe tbody tr th {\n",
       "        vertical-align: top;\n",
       "    }\n",
       "\n",
       "    .dataframe thead th {\n",
       "        text-align: right;\n",
       "    }\n",
       "</style>\n",
       "<table border=\"1\" class=\"dataframe\">\n",
       "  <thead>\n",
       "    <tr style=\"text-align: right;\">\n",
       "      <th></th>\n",
       "      <th>Person_toe</th>\n",
       "      <th>Time</th>\n",
       "      <th>PenID</th>\n",
       "      <th>FocalLegringName</th>\n",
       "      <th>Bird type</th>\n",
       "      <th>CombPecks</th>\n",
       "      <th>Toes</th>\n",
       "      <th>RFPododermatitis</th>\n",
       "      <th>RFBumblefoot</th>\n",
       "      <th>RFinjuries</th>\n",
       "      <th>...</th>\n",
       "      <th>initial_path_img</th>\n",
       "      <th>actual_path_img</th>\n",
       "      <th>imageID</th>\n",
       "      <th>random_order1</th>\n",
       "      <th>severity</th>\n",
       "      <th>has_gap</th>\n",
       "      <th>BirdID</th>\n",
       "      <th>uncertainty (0:certain:1 random)</th>\n",
       "      <th>Info</th>\n",
       "      <th>backpack</th>\n",
       "    </tr>\n",
       "  </thead>\n",
       "  <tbody>\n",
       "    <tr>\n",
       "      <th>1</th>\n",
       "      <td>C</td>\n",
       "      <td>08:10</td>\n",
       "      <td>pen11</td>\n",
       "      <td>26grey</td>\n",
       "      <td>NaN</td>\n",
       "      <td>50.0</td>\n",
       "      <td>NaN</td>\n",
       "      <td>0.0</td>\n",
       "      <td>0.0</td>\n",
       "      <td>0.0</td>\n",
       "      <td>...</td>\n",
       "      <td>G:\\VPHI\\Welfare\\2- Research Projects\\OFHE2.Ori...</td>\n",
       "      <td>G:\\VPHI\\Welfare\\2- Research Projects\\OFHE2.Ori...</td>\n",
       "      <td>399.0</td>\n",
       "      <td>493.0</td>\n",
       "      <td>32.0</td>\n",
       "      <td>0.0</td>\n",
       "      <td>26grey11sbs</td>\n",
       "      <td>NaN</td>\n",
       "      <td>['', '26', 'grey', '11', 'sbs']</td>\n",
       "      <td>sbs</td>\n",
       "    </tr>\n",
       "    <tr>\n",
       "      <th>2</th>\n",
       "      <td>C</td>\n",
       "      <td>11:43</td>\n",
       "      <td>pen11</td>\n",
       "      <td>70green</td>\n",
       "      <td>normal</td>\n",
       "      <td>25.0</td>\n",
       "      <td>NaN</td>\n",
       "      <td>0.0</td>\n",
       "      <td>0.0</td>\n",
       "      <td>0.0</td>\n",
       "      <td>...</td>\n",
       "      <td>G:\\VPHI\\Welfare\\2- Research Projects\\OFHE2.Ori...</td>\n",
       "      <td>G:\\VPHI\\Welfare\\2- Research Projects\\OFHE2.Ori...</td>\n",
       "      <td>179.0</td>\n",
       "      <td>478.0</td>\n",
       "      <td>0.0</td>\n",
       "      <td>0.0</td>\n",
       "      <td>70green11gg</td>\n",
       "      <td>NaN</td>\n",
       "      <td>['', '70', 'green', '11', 'gg']</td>\n",
       "      <td>gg</td>\n",
       "    </tr>\n",
       "    <tr>\n",
       "      <th>3</th>\n",
       "      <td>C</td>\n",
       "      <td>08:10</td>\n",
       "      <td>pen11</td>\n",
       "      <td>28green</td>\n",
       "      <td>NaN</td>\n",
       "      <td>0.0</td>\n",
       "      <td>NaN</td>\n",
       "      <td>0.0</td>\n",
       "      <td>0.0</td>\n",
       "      <td>0.0</td>\n",
       "      <td>...</td>\n",
       "      <td>G:\\VPHI\\Welfare\\2- Research Projects\\OFHE2.Ori...</td>\n",
       "      <td>G:\\VPHI\\Welfare\\2- Research Projects\\OFHE2.Ori...</td>\n",
       "      <td>53.0</td>\n",
       "      <td>494.0</td>\n",
       "      <td>12.0</td>\n",
       "      <td>0.0</td>\n",
       "      <td>28green11ss</td>\n",
       "      <td>gap healed no more gap</td>\n",
       "      <td>['', '28', 'green', '11', 'ss']</td>\n",
       "      <td>ss</td>\n",
       "    </tr>\n",
       "  </tbody>\n",
       "</table>\n",
       "<p>3 rows × 47 columns</p>\n",
       "</div>"
      ],
      "text/plain": [
       "  Person_toe   Time  PenID FocalLegringName Bird type  CombPecks Toes  \\\n",
       "1          C  08:10  pen11           26grey       NaN       50.0  NaN   \n",
       "2          C  11:43  pen11          70green    normal       25.0  NaN   \n",
       "3          C  08:10  pen11          28green       NaN        0.0  NaN   \n",
       "\n",
       "   RFPododermatitis  RFBumblefoot  RFinjuries  ...  \\\n",
       "1               0.0           0.0         0.0  ...   \n",
       "2               0.0           0.0         0.0  ...   \n",
       "3               0.0           0.0         0.0  ...   \n",
       "\n",
       "                                    initial_path_img  \\\n",
       "1  G:\\VPHI\\Welfare\\2- Research Projects\\OFHE2.Ori...   \n",
       "2  G:\\VPHI\\Welfare\\2- Research Projects\\OFHE2.Ori...   \n",
       "3  G:\\VPHI\\Welfare\\2- Research Projects\\OFHE2.Ori...   \n",
       "\n",
       "                                     actual_path_img  imageID  random_order1  \\\n",
       "1  G:\\VPHI\\Welfare\\2- Research Projects\\OFHE2.Ori...    399.0          493.0   \n",
       "2  G:\\VPHI\\Welfare\\2- Research Projects\\OFHE2.Ori...    179.0          478.0   \n",
       "3  G:\\VPHI\\Welfare\\2- Research Projects\\OFHE2.Ori...     53.0          494.0   \n",
       "\n",
       "   severity has_gap       BirdID  uncertainty (0:certain:1 random)  \\\n",
       "1      32.0     0.0  26grey11sbs                               NaN   \n",
       "2       0.0     0.0  70green11gg                               NaN   \n",
       "3      12.0     0.0  28green11ss            gap healed no more gap   \n",
       "\n",
       "                              Info backpack  \n",
       "1  ['', '26', 'grey', '11', 'sbs']      sbs  \n",
       "2  ['', '70', 'green', '11', 'gg']       gg  \n",
       "3  ['', '28', 'green', '11', 'ss']       ss  \n",
       "\n",
       "[3 rows x 47 columns]"
      ]
     },
     "execution_count": 7,
     "metadata": {},
     "output_type": "execute_result"
    }
   ],
   "source": [
    "#HA&KBF&weight\n",
    "df_HA = pd.read_csv(os.path.join(path_extracted_data, 'df_all_HA.csv'), sep=';', parse_dates=['date'], dayfirst=True) \n",
    "print(df_HA.shape)\n",
    "df_HA = df_HA[df_HA['HenID'].isin(li_selected_hens)]\n",
    "print(df_HA.shape)\n",
    "df_HA.head(3)"
   ]
  },
  {
   "cell_type": "code",
   "execution_count": 8,
   "metadata": {},
   "outputs": [
    {
     "name": "stderr",
     "output_type": "stream",
     "text": [
      "C:\\Users\\camil\\anaconda3\\lib\\site-packages\\ipykernel\\ipkernel.py:283: DeprecationWarning: `should_run_async` will not call `transform_cell` automatically in the future. Please pass the result to `transformed_cell` argument and any exception that happen during thetransform in `preprocessing_exc_tuple` in IPython 7.17 and above.\n",
      "  and should_run_async(code)\n"
     ]
    },
    {
     "data": {
      "text/plain": [
       "Other    215\n",
       "MEXP     143\n",
       "LEXP     100\n",
       "Name: CLASS, dtype: int64"
      ]
     },
     "execution_count": 8,
     "metadata": {},
     "output_type": "execute_result"
    }
   ],
   "source": [
    "df_HA['CLASS'].value_counts()"
   ]
  },
  {
   "cell_type": "code",
   "execution_count": 9,
   "metadata": {},
   "outputs": [
    {
     "name": "stderr",
     "output_type": "stream",
     "text": [
      "C:\\Users\\camil\\anaconda3\\lib\\site-packages\\ipykernel\\ipkernel.py:283: DeprecationWarning: `should_run_async` will not call `transform_cell` automatically in the future. Please pass the result to `transformed_cell` argument and any exception that happen during thetransform in `preprocessing_exc_tuple` in IPython 7.17 and above.\n",
      "  and should_run_async(code)\n",
      "C:\\Users\\camil\\anaconda3\\lib\\site-packages\\IPython\\core\\interactiveshell.py:3146: DtypeWarning: Columns (123,135,172,173,174,175,176,177,179,180,181,182,183,184,185,186,187,188) have mixed types.Specify dtype option on import or set low_memory=False.\n",
      "  has_raised = await self.run_ast_nodes(code_ast.body, cell_name,\n"
     ]
    },
    {
     "name": "stdout",
     "output_type": "stream",
     "text": [
      "(42300, 223)\n",
      "(27995, 223)\n"
     ]
    },
    {
     "data": {
      "text/html": [
       "<div>\n",
       "<style scoped>\n",
       "    .dataframe tbody tr th:only-of-type {\n",
       "        vertical-align: middle;\n",
       "    }\n",
       "\n",
       "    .dataframe tbody tr th {\n",
       "        vertical-align: top;\n",
       "    }\n",
       "\n",
       "    .dataframe thead th {\n",
       "        text-align: right;\n",
       "    }\n",
       "</style>\n",
       "<table border=\"1\" class=\"dataframe\">\n",
       "  <thead>\n",
       "    <tr style=\"text-align: right;\">\n",
       "      <th></th>\n",
       "      <th>HenID</th>\n",
       "      <th>level</th>\n",
       "      <th>duration_1_Zone</th>\n",
       "      <th>duration_2_Zone</th>\n",
       "      <th>duration_3_Zone</th>\n",
       "      <th>duration_4_Zone</th>\n",
       "      <th>duration_5_Zone</th>\n",
       "      <th>verification_daily_total_duration</th>\n",
       "      <th>Total_number_zone</th>\n",
       "      <th>Max_duration_zones</th>\n",
       "      <th>...</th>\n",
       "      <th>betweeness_DTW_30_all</th>\n",
       "      <th>degree_DTW_30_1_Zone</th>\n",
       "      <th>degree_DTW_30_2_Zone</th>\n",
       "      <th>degree_DTW_30_3_Zone</th>\n",
       "      <th>degree_DTW_30_4_Zone</th>\n",
       "      <th>degree_DTW_30_5_Zone</th>\n",
       "      <th>degree_DTW_30_all</th>\n",
       "      <th>ALL_MLPS_99</th>\n",
       "      <th>ALL_MLPS_10</th>\n",
       "      <th>ALL_MLPS_40</th>\n",
       "    </tr>\n",
       "  </thead>\n",
       "  <tbody>\n",
       "    <tr>\n",
       "      <th>0</th>\n",
       "      <td>hen_1</td>\n",
       "      <td>2020-09-30</td>\n",
       "      <td>0.0</td>\n",
       "      <td>18886.0</td>\n",
       "      <td>3488.0</td>\n",
       "      <td>515.0</td>\n",
       "      <td>5911.0</td>\n",
       "      <td>28800.0</td>\n",
       "      <td>4.0</td>\n",
       "      <td>2_Zone</td>\n",
       "      <td>...</td>\n",
       "      <td>0.002710</td>\n",
       "      <td>1.000000</td>\n",
       "      <td>0.131944</td>\n",
       "      <td>0.208333</td>\n",
       "      <td>0.826389</td>\n",
       "      <td>0.437500</td>\n",
       "      <td>0.312500</td>\n",
       "      <td>NaN</td>\n",
       "      <td>NaN</td>\n",
       "      <td>NaN</td>\n",
       "    </tr>\n",
       "    <tr>\n",
       "      <th>1</th>\n",
       "      <td>hen_1</td>\n",
       "      <td>2020-10-01</td>\n",
       "      <td>0.0</td>\n",
       "      <td>9310.0</td>\n",
       "      <td>5636.0</td>\n",
       "      <td>0.0</td>\n",
       "      <td>17454.0</td>\n",
       "      <td>32400.0</td>\n",
       "      <td>3.0</td>\n",
       "      <td>5_Zone</td>\n",
       "      <td>...</td>\n",
       "      <td>0.183609</td>\n",
       "      <td>0.993197</td>\n",
       "      <td>0.047619</td>\n",
       "      <td>0.176871</td>\n",
       "      <td>0.802721</td>\n",
       "      <td>0.115646</td>\n",
       "      <td>0.380952</td>\n",
       "      <td>NaN</td>\n",
       "      <td>NaN</td>\n",
       "      <td>NaN</td>\n",
       "    </tr>\n",
       "    <tr>\n",
       "      <th>2</th>\n",
       "      <td>hen_1</td>\n",
       "      <td>2020-10-02</td>\n",
       "      <td>0.0</td>\n",
       "      <td>0.0</td>\n",
       "      <td>551.0</td>\n",
       "      <td>0.0</td>\n",
       "      <td>31849.0</td>\n",
       "      <td>32400.0</td>\n",
       "      <td>2.0</td>\n",
       "      <td>5_Zone</td>\n",
       "      <td>...</td>\n",
       "      <td>0.000955</td>\n",
       "      <td>1.000000</td>\n",
       "      <td>0.564626</td>\n",
       "      <td>0.646259</td>\n",
       "      <td>0.802721</td>\n",
       "      <td>0.455782</td>\n",
       "      <td>0.503401</td>\n",
       "      <td>NaN</td>\n",
       "      <td>NaN</td>\n",
       "      <td>NaN</td>\n",
       "    </tr>\n",
       "  </tbody>\n",
       "</table>\n",
       "<p>3 rows × 223 columns</p>\n",
       "</div>"
      ],
      "text/plain": [
       "   HenID      level  duration_1_Zone  duration_2_Zone  duration_3_Zone  \\\n",
       "0  hen_1 2020-09-30              0.0          18886.0           3488.0   \n",
       "1  hen_1 2020-10-01              0.0           9310.0           5636.0   \n",
       "2  hen_1 2020-10-02              0.0              0.0            551.0   \n",
       "\n",
       "   duration_4_Zone  duration_5_Zone  verification_daily_total_duration  \\\n",
       "0            515.0           5911.0                            28800.0   \n",
       "1              0.0          17454.0                            32400.0   \n",
       "2              0.0          31849.0                            32400.0   \n",
       "\n",
       "   Total_number_zone Max_duration_zones  ... betweeness_DTW_30_all  \\\n",
       "0                4.0             2_Zone  ...              0.002710   \n",
       "1                3.0             5_Zone  ...              0.183609   \n",
       "2                2.0             5_Zone  ...              0.000955   \n",
       "\n",
       "   degree_DTW_30_1_Zone  degree_DTW_30_2_Zone  degree_DTW_30_3_Zone  \\\n",
       "0              1.000000              0.131944              0.208333   \n",
       "1              0.993197              0.047619              0.176871   \n",
       "2              1.000000              0.564626              0.646259   \n",
       "\n",
       "   degree_DTW_30_4_Zone  degree_DTW_30_5_Zone  degree_DTW_30_all  ALL_MLPS_99  \\\n",
       "0              0.826389              0.437500           0.312500          NaN   \n",
       "1              0.802721              0.115646           0.380952          NaN   \n",
       "2              0.802721              0.455782           0.503401          NaN   \n",
       "\n",
       "   ALL_MLPS_10  ALL_MLPS_40  \n",
       "0          NaN          NaN  \n",
       "1          NaN          NaN  \n",
       "2          NaN          NaN  \n",
       "\n",
       "[3 rows x 223 columns]"
      ]
     },
     "execution_count": 9,
     "metadata": {},
     "output_type": "execute_result"
    }
   ],
   "source": [
    "#dailyMVT var\n",
    "df_MVT = pd.read_csv(os.path.join(path_extracted_data, 'daily_ALL_Variable_Tranformed_SNA_clID.csv'), sep=';', \n",
    "                     parse_dates=['level'], dayfirst=True) \n",
    "print(df_MVT.shape)\n",
    "df_MVT = df_MVT[df_MVT['HenID'].isin(li_selected_hens)]\n",
    "print(df_MVT.shape)\n",
    "df_MVT.head(3)"
   ]
  },
  {
   "cell_type": "code",
   "execution_count": 137,
   "metadata": {},
   "outputs": [
    {
     "name": "stderr",
     "output_type": "stream",
     "text": [
      "C:\\Users\\camil\\anaconda3\\lib\\site-packages\\ipykernel\\ipkernel.py:283: DeprecationWarning: `should_run_async` will not call `transform_cell` automatically in the future. Please pass the result to `transformed_cell` argument and any exception that happen during thetransform in `preprocessing_exc_tuple` in IPython 7.17 and above.\n",
      "  and should_run_async(code)\n"
     ]
    },
    {
     "data": {
      "image/png": "[encoded data removed]",
      "text/plain": [
       "<Figure size 720x288 with 1 Axes>"
      ]
     },
     "metadata": {
      "needs_background": "light"
     },
     "output_type": "display_data"
    },
    {
     "data": {
      "image/png": "[encoded data removed]",
      "text/plain": [
       "<Figure size 720x288 with 1 Axes>"
      ]
     },
     "metadata": {
      "needs_background": "light"
     },
     "output_type": "display_data"
    },
    {
     "data": {
      "image/png": "[encoded data removed]",
      "text/plain": [
       "<Figure size 720x288 with 1 Axes>"
      ]
     },
     "metadata": {
      "needs_background": "light"
     },
     "output_type": "display_data"
    },
    {
     "data": {
      "image/png": "[encoded data removed]",
      "text/plain": [
       "<Figure size 720x288 with 1 Axes>"
      ]
     },
     "metadata": {
      "needs_background": "light"
     },
     "output_type": "display_data"
    },
    {
     "data": {
      "image/png": "[encoded data removed]",
      "text/plain": [
       "<Figure size 720x288 with 1 Axes>"
      ]
     },
     "metadata": {
      "needs_background": "light"
     },
     "output_type": "display_data"
    }
   ],
   "source": [
    "for t in ['perc_duration_1_Zone', 'perc_duration_2_Zone', 'perc_duration_3_Zone', \n",
    "          'perc_duration_4_Zone', 'perc_duration_5_Zone']:\n",
    "    fig = plt.figure(figsize=(10, 4))\n",
    "    sns.boxplot(x=\"DOA\", y=t, data=df_MVT[df_MVT['DOA']<=119+60], fliersize=0.8, linewidth=1);\n",
    "    plt.show()"
   ]
  },
  {
   "cell_type": "markdown",
   "metadata": {},
   "source": [
    "# Processing"
   ]
  },
  {
   "cell_type": "code",
   "execution_count": 10,
   "metadata": {},
   "outputs": [
    {
     "name": "stderr",
     "output_type": "stream",
     "text": [
      "C:\\Users\\camil\\anaconda3\\lib\\site-packages\\ipykernel\\ipkernel.py:283: DeprecationWarning: `should_run_async` will not call `transform_cell` automatically in the future. Please pass the result to `transformed_cell` argument and any exception that happen during thetransform in `preprocessing_exc_tuple` in IPython 7.17 and above.\n",
      "  and should_run_async(code)\n"
     ]
    },
    {
     "data": {
      "text/plain": [
       "(132, 50)"
      ]
     },
     "metadata": {},
     "output_type": "display_data"
    },
    {
     "data": {
      "text/plain": [
       "(326, 50)"
      ]
     },
     "metadata": {},
     "output_type": "display_data"
    },
    {
     "data": {
      "text/html": [
       "<div>\n",
       "<style scoped>\n",
       "    .dataframe tbody tr th:only-of-type {\n",
       "        vertical-align: middle;\n",
       "    }\n",
       "\n",
       "    .dataframe tbody tr th {\n",
       "        vertical-align: top;\n",
       "    }\n",
       "\n",
       "    .dataframe thead th {\n",
       "        text-align: right;\n",
       "    }\n",
       "</style>\n",
       "<table border=\"1\" class=\"dataframe\">\n",
       "  <thead>\n",
       "    <tr style=\"text-align: right;\">\n",
       "      <th></th>\n",
       "      <th>Person_toe</th>\n",
       "      <th>Time</th>\n",
       "      <th>PenID</th>\n",
       "      <th>FocalLegringName</th>\n",
       "      <th>Bird type</th>\n",
       "      <th>CombPecks</th>\n",
       "      <th>Toes</th>\n",
       "      <th>RFPododermatitis</th>\n",
       "      <th>RFBumblefoot</th>\n",
       "      <th>RFinjuries</th>\n",
       "      <th>...</th>\n",
       "      <th>random_order1</th>\n",
       "      <th>severity</th>\n",
       "      <th>has_gap</th>\n",
       "      <th>BirdID</th>\n",
       "      <th>uncertainty (0:certain:1 random)</th>\n",
       "      <th>Info</th>\n",
       "      <th>backpack</th>\n",
       "      <th>Injuries</th>\n",
       "      <th>Pododermatitis</th>\n",
       "      <th>Feathers</th>\n",
       "    </tr>\n",
       "  </thead>\n",
       "  <tbody>\n",
       "    <tr>\n",
       "      <th>1</th>\n",
       "      <td>C</td>\n",
       "      <td>08:10</td>\n",
       "      <td>pen11</td>\n",
       "      <td>26grey</td>\n",
       "      <td>NaN</td>\n",
       "      <td>50.0</td>\n",
       "      <td>NaN</td>\n",
       "      <td>0.0</td>\n",
       "      <td>0.0</td>\n",
       "      <td>0.0</td>\n",
       "      <td>...</td>\n",
       "      <td>493.0</td>\n",
       "      <td>32.0</td>\n",
       "      <td>0.0</td>\n",
       "      <td>26grey11sbs</td>\n",
       "      <td>NaN</td>\n",
       "      <td>['', '26', 'grey', '11', 'sbs']</td>\n",
       "      <td>sbs</td>\n",
       "      <td>0.0</td>\n",
       "      <td>0.0</td>\n",
       "      <td>90.666667</td>\n",
       "    </tr>\n",
       "    <tr>\n",
       "      <th>2</th>\n",
       "      <td>C</td>\n",
       "      <td>11:43</td>\n",
       "      <td>pen11</td>\n",
       "      <td>70green</td>\n",
       "      <td>normal</td>\n",
       "      <td>25.0</td>\n",
       "      <td>NaN</td>\n",
       "      <td>0.0</td>\n",
       "      <td>0.0</td>\n",
       "      <td>0.0</td>\n",
       "      <td>...</td>\n",
       "      <td>478.0</td>\n",
       "      <td>0.0</td>\n",
       "      <td>0.0</td>\n",
       "      <td>70green11gg</td>\n",
       "      <td>NaN</td>\n",
       "      <td>['', '70', 'green', '11', 'gg']</td>\n",
       "      <td>gg</td>\n",
       "      <td>0.0</td>\n",
       "      <td>0.0</td>\n",
       "      <td>NaN</td>\n",
       "    </tr>\n",
       "    <tr>\n",
       "      <th>3</th>\n",
       "      <td>C</td>\n",
       "      <td>08:10</td>\n",
       "      <td>pen11</td>\n",
       "      <td>28green</td>\n",
       "      <td>NaN</td>\n",
       "      <td>0.0</td>\n",
       "      <td>NaN</td>\n",
       "      <td>0.0</td>\n",
       "      <td>0.0</td>\n",
       "      <td>0.0</td>\n",
       "      <td>...</td>\n",
       "      <td>494.0</td>\n",
       "      <td>12.0</td>\n",
       "      <td>0.0</td>\n",
       "      <td>28green11ss</td>\n",
       "      <td>gap healed no more gap</td>\n",
       "      <td>['', '28', 'green', '11', 'ss']</td>\n",
       "      <td>ss</td>\n",
       "      <td>0.0</td>\n",
       "      <td>100.0</td>\n",
       "      <td>94.333333</td>\n",
       "    </tr>\n",
       "  </tbody>\n",
       "</table>\n",
       "<p>3 rows × 50 columns</p>\n",
       "</div>"
      ],
      "text/plain": [
       "  Person_toe   Time  PenID FocalLegringName Bird type  CombPecks Toes  \\\n",
       "1          C  08:10  pen11           26grey       NaN       50.0  NaN   \n",
       "2          C  11:43  pen11          70green    normal       25.0  NaN   \n",
       "3          C  08:10  pen11          28green       NaN        0.0  NaN   \n",
       "\n",
       "   RFPododermatitis  RFBumblefoot  RFinjuries  ...  random_order1  severity  \\\n",
       "1               0.0           0.0         0.0  ...          493.0      32.0   \n",
       "2               0.0           0.0         0.0  ...          478.0       0.0   \n",
       "3               0.0           0.0         0.0  ...          494.0      12.0   \n",
       "\n",
       "   has_gap       BirdID  uncertainty (0:certain:1 random)  \\\n",
       "1      0.0  26grey11sbs                               NaN   \n",
       "2      0.0  70green11gg                               NaN   \n",
       "3      0.0  28green11ss            gap healed no more gap   \n",
       "\n",
       "                              Info backpack  Injuries Pododermatitis  \\\n",
       "1  ['', '26', 'grey', '11', 'sbs']      sbs       0.0            0.0   \n",
       "2  ['', '70', 'green', '11', 'gg']       gg       0.0            0.0   \n",
       "3  ['', '28', 'green', '11', 'ss']       ss       0.0          100.0   \n",
       "\n",
       "    Feathers  \n",
       "1  90.666667  \n",
       "2        NaN  \n",
       "3  94.333333  \n",
       "\n",
       "[3 rows x 50 columns]"
      ]
     },
     "execution_count": 10,
     "metadata": {},
     "output_type": "execute_result"
    }
   ],
   "source": [
    "#compeck: HA1: as worse time for this\n",
    "#overall pododeratitis: should be worst over time, so only HA4\n",
    "df_HA['Injuries'] = df_HA.apply(lambda x: x['LFinjuries']+x['RFinjuries'], axis=1)\n",
    "df_HA['Pododermatitis'] = df_HA.apply(lambda x: x['RFPododermatitis']+x['LFPododermatitis'], axis=1)\n",
    "\n",
    "#overall feather as in eneral have the same tendency: only from HA4: as should be worse over time\n",
    "df_HA['Feathers'] = df_HA.apply(lambda x: np.mean([x['NeckFeather'],x['BreastFeather'],x['CloacaFeather'],\n",
    "                                                   x['BackFeather'],x['WingFeather'],x['TailFeather']]), axis=1)\n",
    "display(df_HA[df_HA['Feathers'].isnull()].shape)\n",
    "display(df_HA[~df_HA['Feathers'].isnull()].shape)\n",
    "df_HA.head(3)"
   ]
  },
  {
   "cell_type": "code",
   "execution_count": 11,
   "metadata": {},
   "outputs": [
    {
     "name": "stderr",
     "output_type": "stream",
     "text": [
      "C:\\Users\\camil\\anaconda3\\lib\\site-packages\\ipykernel\\ipkernel.py:283: DeprecationWarning: `should_run_async` will not call `transform_cell` automatically in the future. Please pass the result to `transformed_cell` argument and any exception that happen during thetransform in `preprocessing_exc_tuple` in IPython 7.17 and above.\n",
      "  and should_run_async(code)\n"
     ]
    },
    {
     "data": {
      "text/plain": [
       "0.0    18163\n",
       "1.0     3703\n",
       "Name: in_WG_15mnAfterOpening, dtype: int64"
      ]
     },
     "metadata": {},
     "output_type": "display_data"
    },
    {
     "data": {
      "text/plain": [
       "0.0    17310\n",
       "1.0     3703\n",
       "Name: in_WG_15mnAfterOpening_whenopen, dtype: int64"
      ]
     },
     "metadata": {},
     "output_type": "display_data"
    },
    {
     "data": {
      "text/html": [
       "<div>\n",
       "<style scoped>\n",
       "    .dataframe tbody tr th:only-of-type {\n",
       "        vertical-align: middle;\n",
       "    }\n",
       "\n",
       "    .dataframe tbody tr th {\n",
       "        vertical-align: top;\n",
       "    }\n",
       "\n",
       "    .dataframe thead th {\n",
       "        text-align: right;\n",
       "    }\n",
       "</style>\n",
       "<table border=\"1\" class=\"dataframe\">\n",
       "  <thead>\n",
       "    <tr style=\"text-align: right;\">\n",
       "      <th></th>\n",
       "      <th>HenID</th>\n",
       "      <th>level</th>\n",
       "      <th>duration_1_Zone</th>\n",
       "      <th>duration_2_Zone</th>\n",
       "      <th>duration_3_Zone</th>\n",
       "      <th>duration_4_Zone</th>\n",
       "      <th>duration_5_Zone</th>\n",
       "      <th>verification_daily_total_duration</th>\n",
       "      <th>Total_number_zone</th>\n",
       "      <th>Max_duration_zones</th>\n",
       "      <th>...</th>\n",
       "      <th>degree_DTW_30_1_Zone</th>\n",
       "      <th>degree_DTW_30_2_Zone</th>\n",
       "      <th>degree_DTW_30_3_Zone</th>\n",
       "      <th>degree_DTW_30_4_Zone</th>\n",
       "      <th>degree_DTW_30_5_Zone</th>\n",
       "      <th>degree_DTW_30_all</th>\n",
       "      <th>ALL_MLPS_99</th>\n",
       "      <th>ALL_MLPS_10</th>\n",
       "      <th>ALL_MLPS_40</th>\n",
       "      <th>in_WG_15mnAfterOpening_whenopen</th>\n",
       "    </tr>\n",
       "  </thead>\n",
       "  <tbody>\n",
       "    <tr>\n",
       "      <th>0</th>\n",
       "      <td>hen_1</td>\n",
       "      <td>2020-09-30</td>\n",
       "      <td>0.0</td>\n",
       "      <td>18886.0</td>\n",
       "      <td>3488.0</td>\n",
       "      <td>515.0</td>\n",
       "      <td>5911.0</td>\n",
       "      <td>28800.0</td>\n",
       "      <td>4.0</td>\n",
       "      <td>2_Zone</td>\n",
       "      <td>...</td>\n",
       "      <td>1.000000</td>\n",
       "      <td>0.131944</td>\n",
       "      <td>0.208333</td>\n",
       "      <td>0.826389</td>\n",
       "      <td>0.437500</td>\n",
       "      <td>0.312500</td>\n",
       "      <td>NaN</td>\n",
       "      <td>NaN</td>\n",
       "      <td>NaN</td>\n",
       "      <td>NaN</td>\n",
       "    </tr>\n",
       "    <tr>\n",
       "      <th>1</th>\n",
       "      <td>hen_1</td>\n",
       "      <td>2020-10-01</td>\n",
       "      <td>0.0</td>\n",
       "      <td>9310.0</td>\n",
       "      <td>5636.0</td>\n",
       "      <td>0.0</td>\n",
       "      <td>17454.0</td>\n",
       "      <td>32400.0</td>\n",
       "      <td>3.0</td>\n",
       "      <td>5_Zone</td>\n",
       "      <td>...</td>\n",
       "      <td>0.993197</td>\n",
       "      <td>0.047619</td>\n",
       "      <td>0.176871</td>\n",
       "      <td>0.802721</td>\n",
       "      <td>0.115646</td>\n",
       "      <td>0.380952</td>\n",
       "      <td>NaN</td>\n",
       "      <td>NaN</td>\n",
       "      <td>NaN</td>\n",
       "      <td>NaN</td>\n",
       "    </tr>\n",
       "    <tr>\n",
       "      <th>2</th>\n",
       "      <td>hen_1</td>\n",
       "      <td>2020-10-02</td>\n",
       "      <td>0.0</td>\n",
       "      <td>0.0</td>\n",
       "      <td>551.0</td>\n",
       "      <td>0.0</td>\n",
       "      <td>31849.0</td>\n",
       "      <td>32400.0</td>\n",
       "      <td>2.0</td>\n",
       "      <td>5_Zone</td>\n",
       "      <td>...</td>\n",
       "      <td>1.000000</td>\n",
       "      <td>0.564626</td>\n",
       "      <td>0.646259</td>\n",
       "      <td>0.802721</td>\n",
       "      <td>0.455782</td>\n",
       "      <td>0.503401</td>\n",
       "      <td>NaN</td>\n",
       "      <td>NaN</td>\n",
       "      <td>NaN</td>\n",
       "      <td>NaN</td>\n",
       "    </tr>\n",
       "  </tbody>\n",
       "</table>\n",
       "<p>3 rows × 224 columns</p>\n",
       "</div>"
      ],
      "text/plain": [
       "   HenID      level  duration_1_Zone  duration_2_Zone  duration_3_Zone  \\\n",
       "0  hen_1 2020-09-30              0.0          18886.0           3488.0   \n",
       "1  hen_1 2020-10-01              0.0           9310.0           5636.0   \n",
       "2  hen_1 2020-10-02              0.0              0.0            551.0   \n",
       "\n",
       "   duration_4_Zone  duration_5_Zone  verification_daily_total_duration  \\\n",
       "0            515.0           5911.0                            28800.0   \n",
       "1              0.0          17454.0                            32400.0   \n",
       "2              0.0          31849.0                            32400.0   \n",
       "\n",
       "   Total_number_zone Max_duration_zones  ... degree_DTW_30_1_Zone  \\\n",
       "0                4.0             2_Zone  ...             1.000000   \n",
       "1                3.0             5_Zone  ...             0.993197   \n",
       "2                2.0             5_Zone  ...             1.000000   \n",
       "\n",
       "   degree_DTW_30_2_Zone  degree_DTW_30_3_Zone  degree_DTW_30_4_Zone  \\\n",
       "0              0.131944              0.208333              0.826389   \n",
       "1              0.047619              0.176871              0.802721   \n",
       "2              0.564626              0.646259              0.802721   \n",
       "\n",
       "   degree_DTW_30_5_Zone  degree_DTW_30_all  ALL_MLPS_99  ALL_MLPS_10  \\\n",
       "0              0.437500           0.312500          NaN          NaN   \n",
       "1              0.115646           0.380952          NaN          NaN   \n",
       "2              0.455782           0.503401          NaN          NaN   \n",
       "\n",
       "   ALL_MLPS_40  in_WG_15mnAfterOpening_whenopen  \n",
       "0          NaN                              NaN  \n",
       "1          NaN                              NaN  \n",
       "2          NaN                              NaN  \n",
       "\n",
       "[3 rows x 224 columns]"
      ]
     },
     "execution_count": 11,
     "metadata": {},
     "output_type": "execute_result"
    }
   ],
   "source": [
    "#add np.nan for the WG var when the WG was close\n",
    "df_MVT['in_WG_15mnAfterOpening_whenopen'] = df_MVT.apply(lambda x: x['in_WG_15mnAfterOpening'] if x['level']>config.date_first_opening_WG else np.nan, axis=1)\n",
    "display(df_MVT['in_WG_15mnAfterOpening'].value_counts())\n",
    "display(df_MVT['in_WG_15mnAfterOpening_whenopen'].value_counts())\n",
    "df_MVT.head(3)"
   ]
  },
  {
   "cell_type": "code",
   "execution_count": 12,
   "metadata": {},
   "outputs": [
    {
     "name": "stderr",
     "output_type": "stream",
     "text": [
      "C:\\Users\\camil\\anaconda3\\lib\\site-packages\\ipykernel\\ipkernel.py:283: DeprecationWarning: `should_run_async` will not call `transform_cell` automatically in the future. Please pass the result to `transformed_cell` argument and any exception that happen during thetransform in `preprocessing_exc_tuple` in IPython 7.17 and above.\n",
      "  and should_run_async(code)\n"
     ]
    },
    {
     "data": {
      "text/html": [
       "<div>\n",
       "<style scoped>\n",
       "    .dataframe tbody tr th:only-of-type {\n",
       "        vertical-align: middle;\n",
       "    }\n",
       "\n",
       "    .dataframe tbody tr th {\n",
       "        vertical-align: top;\n",
       "    }\n",
       "\n",
       "    .dataframe thead th {\n",
       "        text-align: right;\n",
       "    }\n",
       "</style>\n",
       "<table border=\"1\" class=\"dataframe\">\n",
       "  <thead>\n",
       "    <tr style=\"text-align: right;\">\n",
       "      <th></th>\n",
       "      <th>Total_number_transition</th>\n",
       "      <th>HenID</th>\n",
       "      <th>level</th>\n",
       "      <th>Total_number_zone</th>\n",
       "    </tr>\n",
       "  </thead>\n",
       "  <tbody>\n",
       "    <tr>\n",
       "      <th>8</th>\n",
       "      <td>0.0</td>\n",
       "      <td>hen_1</td>\n",
       "      <td>2020-10-10</td>\n",
       "      <td>1.0</td>\n",
       "    </tr>\n",
       "    <tr>\n",
       "      <th>9</th>\n",
       "      <td>0.0</td>\n",
       "      <td>hen_1</td>\n",
       "      <td>2020-10-11</td>\n",
       "      <td>1.0</td>\n",
       "    </tr>\n",
       "    <tr>\n",
       "      <th>11</th>\n",
       "      <td>0.0</td>\n",
       "      <td>hen_1</td>\n",
       "      <td>2020-10-13</td>\n",
       "      <td>1.0</td>\n",
       "    </tr>\n",
       "  </tbody>\n",
       "</table>\n",
       "</div>"
      ],
      "text/plain": [
       "    Total_number_transition  HenID      level  Total_number_zone\n",
       "8                       0.0  hen_1 2020-10-10                1.0\n",
       "9                       0.0  hen_1 2020-10-11                1.0\n",
       "11                      0.0  hen_1 2020-10-13                1.0"
      ]
     },
     "metadata": {},
     "output_type": "display_data"
    },
    {
     "data": {
      "text/html": [
       "<div>\n",
       "<style scoped>\n",
       "    .dataframe tbody tr th:only-of-type {\n",
       "        vertical-align: middle;\n",
       "    }\n",
       "\n",
       "    .dataframe tbody tr th {\n",
       "        vertical-align: top;\n",
       "    }\n",
       "\n",
       "    .dataframe thead th {\n",
       "        text-align: right;\n",
       "    }\n",
       "</style>\n",
       "<table border=\"1\" class=\"dataframe\">\n",
       "  <thead>\n",
       "    <tr style=\"text-align: right;\">\n",
       "      <th></th>\n",
       "      <th>Total_number_transition</th>\n",
       "      <th>HenID</th>\n",
       "      <th>level</th>\n",
       "      <th>Total_number_zone</th>\n",
       "    </tr>\n",
       "  </thead>\n",
       "  <tbody>\n",
       "    <tr>\n",
       "      <th>8</th>\n",
       "      <td>0.0</td>\n",
       "      <td>hen_1</td>\n",
       "      <td>2020-10-10</td>\n",
       "      <td>1.0</td>\n",
       "    </tr>\n",
       "    <tr>\n",
       "      <th>9</th>\n",
       "      <td>0.0</td>\n",
       "      <td>hen_1</td>\n",
       "      <td>2020-10-11</td>\n",
       "      <td>1.0</td>\n",
       "    </tr>\n",
       "    <tr>\n",
       "      <th>11</th>\n",
       "      <td>0.0</td>\n",
       "      <td>hen_1</td>\n",
       "      <td>2020-10-13</td>\n",
       "      <td>1.0</td>\n",
       "    </tr>\n",
       "  </tbody>\n",
       "</table>\n",
       "</div>"
      ],
      "text/plain": [
       "    Total_number_transition  HenID      level  Total_number_zone\n",
       "8                       0.0  hen_1 2020-10-10                1.0\n",
       "9                       0.0  hen_1 2020-10-11                1.0\n",
       "11                      0.0  hen_1 2020-10-13                1.0"
      ]
     },
     "metadata": {},
     "output_type": "display_data"
    }
   ],
   "source": [
    "#TODO: verify Total_number_zone==1 if and only if Total_number_transitions==0\n",
    "display(df_MVT[df_MVT['Total_number_transition']==0][['Total_number_transition','HenID','level','Total_number_zone']].head(3))\n",
    "display(df_MVT[df_MVT['Total_number_zone']==1][['Total_number_transition','HenID','level','Total_number_zone']].head(3))\n",
    "if df_MVT[(df_MVT['Total_number_zone']==1)|(df_MVT['Total_number_transition']==0)].shape[0]!=df_MVT[(df_MVT['Total_number_zone']==1)&(df_MVT['Total_number_transition']==0)].shape[0]:\n",
    "    print('ERROR: you dont have: Total_number_zone==1 if and only if Total_number_transitions==0')\n",
    "    sys.exit()"
   ]
  },
  {
   "cell_type": "code",
   "execution_count": 25,
   "metadata": {},
   "outputs": [
    {
     "name": "stderr",
     "output_type": "stream",
     "text": [
      "C:\\Users\\camil\\anaconda3\\lib\\site-packages\\ipykernel\\ipkernel.py:283: DeprecationWarning: `should_run_async` will not call `transform_cell` automatically in the future. Please pass the result to `transformed_cell` argument and any exception that happen during thetransform in `preprocessing_exc_tuple` in IPython 7.17 and above.\n",
      "  and should_run_async(code)\n"
     ]
    },
    {
     "data": {
      "text/html": [
       "<div>\n",
       "<style scoped>\n",
       "    .dataframe tbody tr th:only-of-type {\n",
       "        vertical-align: middle;\n",
       "    }\n",
       "\n",
       "    .dataframe tbody tr th {\n",
       "        vertical-align: top;\n",
       "    }\n",
       "\n",
       "    .dataframe thead th {\n",
       "        text-align: right;\n",
       "    }\n",
       "</style>\n",
       "<table border=\"1\" class=\"dataframe\">\n",
       "  <thead>\n",
       "    <tr style=\"text-align: right;\">\n",
       "      <th></th>\n",
       "      <th>level</th>\n",
       "      <th>DOA</th>\n",
       "    </tr>\n",
       "  </thead>\n",
       "  <tbody>\n",
       "    <tr>\n",
       "      <th>0</th>\n",
       "      <td>2020-09-30</td>\n",
       "      <td>119.0</td>\n",
       "    </tr>\n",
       "    <tr>\n",
       "      <th>1</th>\n",
       "      <td>2020-10-01</td>\n",
       "      <td>120.0</td>\n",
       "    </tr>\n",
       "    <tr>\n",
       "      <th>2</th>\n",
       "      <td>2020-10-02</td>\n",
       "      <td>121.0</td>\n",
       "    </tr>\n",
       "    <tr>\n",
       "      <th>3</th>\n",
       "      <td>2020-10-03</td>\n",
       "      <td>122.0</td>\n",
       "    </tr>\n",
       "    <tr>\n",
       "      <th>4</th>\n",
       "      <td>2020-10-04</td>\n",
       "      <td>123.0</td>\n",
       "    </tr>\n",
       "    <tr>\n",
       "      <th>...</th>\n",
       "      <td>...</td>\n",
       "      <td>...</td>\n",
       "    </tr>\n",
       "    <tr>\n",
       "      <th>42293</th>\n",
       "      <td>2021-05-10</td>\n",
       "      <td>NaN</td>\n",
       "    </tr>\n",
       "    <tr>\n",
       "      <th>42295</th>\n",
       "      <td>2021-05-10</td>\n",
       "      <td>NaN</td>\n",
       "    </tr>\n",
       "    <tr>\n",
       "      <th>42297</th>\n",
       "      <td>2021-05-10</td>\n",
       "      <td>NaN</td>\n",
       "    </tr>\n",
       "    <tr>\n",
       "      <th>42298</th>\n",
       "      <td>2021-05-10</td>\n",
       "      <td>NaN</td>\n",
       "    </tr>\n",
       "    <tr>\n",
       "      <th>42299</th>\n",
       "      <td>2021-05-10</td>\n",
       "      <td>NaN</td>\n",
       "    </tr>\n",
       "  </tbody>\n",
       "</table>\n",
       "<p>27995 rows × 2 columns</p>\n",
       "</div>"
      ],
      "text/plain": [
       "           level    DOA\n",
       "0     2020-09-30  119.0\n",
       "1     2020-10-01  120.0\n",
       "2     2020-10-02  121.0\n",
       "3     2020-10-03  122.0\n",
       "4     2020-10-04  123.0\n",
       "...          ...    ...\n",
       "42293 2021-05-10    NaN\n",
       "42295 2021-05-10    NaN\n",
       "42297 2021-05-10    NaN\n",
       "42298 2021-05-10    NaN\n",
       "42299 2021-05-10    NaN\n",
       "\n",
       "[27995 rows x 2 columns]"
      ]
     },
     "execution_count": 25,
     "metadata": {},
     "output_type": "execute_result"
    }
   ],
   "source": [
    "df_MVT[['level','DOA']]"
   ]
  },
  {
   "cell_type": "code",
   "execution_count": 33,
   "metadata": {},
   "outputs": [
    {
     "name": "stderr",
     "output_type": "stream",
     "text": [
      "C:\\Users\\camil\\anaconda3\\lib\\site-packages\\ipykernel\\ipkernel.py:283: DeprecationWarning: `should_run_async` will not call `transform_cell` automatically in the future. Please pass the result to `transformed_cell` argument and any exception that happen during thetransform in `preprocessing_exc_tuple` in IPython 7.17 and above.\n",
      "  and should_run_async(code)\n"
     ]
    },
    {
     "data": {
      "text/plain": [
       "3    131\n",
       "Name: nbr_days, dtype: int64"
      ]
     },
     "metadata": {},
     "output_type": "display_data"
    },
    {
     "data": {
      "text/html": [
       "<div>\n",
       "<style scoped>\n",
       "    .dataframe tbody tr th:only-of-type {\n",
       "        vertical-align: middle;\n",
       "    }\n",
       "\n",
       "    .dataframe tbody tr th {\n",
       "        vertical-align: top;\n",
       "    }\n",
       "\n",
       "    .dataframe thead th {\n",
       "        text-align: right;\n",
       "    }\n",
       "</style>\n",
       "<table border=\"1\" class=\"dataframe\">\n",
       "  <thead>\n",
       "    <tr style=\"text-align: right;\">\n",
       "      <th></th>\n",
       "      <th>HenID</th>\n",
       "      <th>Total_number_zone</th>\n",
       "      <th>nbr_days</th>\n",
       "      <th>%_days_nomvt</th>\n",
       "      <th>veri=1</th>\n",
       "    </tr>\n",
       "  </thead>\n",
       "  <tbody>\n",
       "    <tr>\n",
       "      <th>0</th>\n",
       "      <td>hen_1</td>\n",
       "      <td>[4.0, 3.0, 2.0]</td>\n",
       "      <td>3</td>\n",
       "      <td>0.000000</td>\n",
       "      <td>[False, False, False]</td>\n",
       "    </tr>\n",
       "    <tr>\n",
       "      <th>1</th>\n",
       "      <td>hen_10</td>\n",
       "      <td>[4.0, 2.0, 1.0]</td>\n",
       "      <td>3</td>\n",
       "      <td>33.333333</td>\n",
       "      <td>[False, False, True]</td>\n",
       "    </tr>\n",
       "    <tr>\n",
       "      <th>2</th>\n",
       "      <td>hen_101</td>\n",
       "      <td>[2.0, 2.0, 3.0]</td>\n",
       "      <td>3</td>\n",
       "      <td>0.000000</td>\n",
       "      <td>[False, False, False]</td>\n",
       "    </tr>\n",
       "  </tbody>\n",
       "</table>\n",
       "</div>"
      ],
      "text/plain": [
       "     HenID Total_number_zone  nbr_days  %_days_nomvt                 veri=1\n",
       "0    hen_1   [4.0, 3.0, 2.0]         3      0.000000  [False, False, False]\n",
       "1   hen_10   [4.0, 2.0, 1.0]         3     33.333333   [False, False, True]\n",
       "2  hen_101   [2.0, 2.0, 3.0]         3      0.000000  [False, False, False]"
      ]
     },
     "metadata": {},
     "output_type": "display_data"
    }
   ],
   "source": [
    "#TODO: add %of days with no movement on the first 3 days (as after a lot of missing data)\n",
    "df_nnmvt = df_MVT[df_MVT['DOA'].isin([119,120,121])].groupby(['HenID'])['Total_number_zone'].agg(lambda x: list(x)).reset_index()\n",
    "df_nnmvt['nbr_days'] = df_nnmvt['Total_number_zone'].map(lambda x: len(x))\n",
    "display(df_nnmvt['nbr_days'].value_counts())\n",
    "df_nnmvt['%_days_nomvt'] = df_nnmvt['Total_number_zone'].map(lambda x: sum([i==1 for i in x])/len(x)*100)\n",
    "df_nnmvt['veri=1'] = df_nnmvt['Total_number_zone'].map(lambda x: [i==1 for i in x])\n",
    "display(df_nnmvt.head(3))\n",
    "dico_henID_daysnomvt = dict(zip(df_nnmvt['HenID'], df_nnmvt['%_days_nomvt']))\n",
    "#dico_henID_daysnomvt"
   ]
  },
  {
   "cell_type": "code",
   "execution_count": 34,
   "metadata": {},
   "outputs": [
    {
     "name": "stderr",
     "output_type": "stream",
     "text": [
      "C:\\Users\\camil\\anaconda3\\lib\\site-packages\\ipykernel\\ipkernel.py:283: DeprecationWarning: `should_run_async` will not call `transform_cell` automatically in the future. Please pass the result to `transformed_cell` argument and any exception that happen during thetransform in `preprocessing_exc_tuple` in IPython 7.17 and above.\n",
      "  and should_run_async(code)\n"
     ]
    },
    {
     "data": {
      "text/plain": [
       "clIDother    23664\n",
       "clID67        1904\n",
       "clID22         727\n",
       "clID3          475\n",
       "clID15         350\n",
       "clID0          274\n",
       "clID6          157\n",
       "clID7          133\n",
       "clID21         131\n",
       "clID52         112\n",
       "clID33          68\n",
       "Name: ALL_MLPS_99_10cat, dtype: int64"
      ]
     },
     "execution_count": 34,
     "metadata": {},
     "output_type": "execute_result"
    }
   ],
   "source": [
    "#merge the least frequent clusterID together for now\n",
    "nbr_cluster2keep = 10\n",
    "li_clmostimportant = df_MVT['ALL_MLPS_99'].value_counts().reset_index()['index'][0:nbr_cluster2keep].tolist()\n",
    "df_MVT['ALL_MLPS_99_'+str(nbr_cluster2keep)+'cat'] = df_MVT['ALL_MLPS_99'].map(lambda x: 'clID'+str(int(x)) if x in li_clmostimportant else 'clIDother')\n",
    "df_MVT['ALL_MLPS_99_'+str(nbr_cluster2keep)+'cat'].value_counts()"
   ]
  },
  {
   "cell_type": "markdown",
   "metadata": {},
   "source": [
    "# Select var & create DF for models & Simple correlations"
   ]
  },
  {
   "cell_type": "raw",
   "metadata": {},
   "source": [
    "Our purpose here is to quantify the predictibility power of the initial MLPS in predicting the HA4 KBF severity. To do so, we will use the first 7 days available to predict with a RF the KBF-severity, then use the first 8 days available to predict the severity, etc (i.e. window)\n",
    "for the prediction using 7 days, wither we use :\n",
    "    * a linear mixed effect model with the hens as random effect: 140 hens * 7 days = 980 obs\n",
    "    * or a RF with aggregated value: 140 obs\n",
    "    \n",
    "we choose RF for severa reasons:\n",
    "    * a lot of models: RF have no assumption!! convenient\n",
    "    * aggregating the variables allows to distinguish the Intra-individual means/median/mode & Intra-individual variability/change ( temporal dependency & amplitude of fluctuation)\n",
    "    \n",
    "perhaps:\n",
    "one model withvar means, one with var variability, one with both on most important var!"
   ]
  },
  {
   "cell_type": "code",
   "execution_count": 35,
   "metadata": {},
   "outputs": [
    {
     "name": "stdout",
     "output_type": "stream",
     "text": [
      "You have selected 14 mvt variables, without counting for several categories in categorical variables (as they would be aggregated anyway)\n"
     ]
    },
    {
     "name": "stderr",
     "output_type": "stream",
     "text": [
      "C:\\Users\\camil\\anaconda3\\lib\\site-packages\\ipykernel\\ipkernel.py:283: DeprecationWarning: `should_run_async` will not call `transform_cell` automatically in the future. Please pass the result to `transformed_cell` argument and any exception that happen during thetransform in `preprocessing_exc_tuple` in IPython 7.17 and above.\n",
      "  and should_run_async(code)\n"
     ]
    }
   ],
   "source": [
    "li_HA4 = ['Feathers','Pododermatitis','severity','Injuries']\n",
    "li_HA1 = ['CombPecks','Injuries']\n",
    "li_mvtvar = ['perc_duration_5_Zone','perc_duration_4_Zone','activity_50percentile_sec','kurtosis_duration','median_duration',\n",
    "             'in_WG_15mnAfterOpening_whenopen', 'vertical_travel_distance','empproba_3_Zone',\n",
    "             'empproba_4_Zone','is_mvt_night','closeness_DTW_30_2_Zone','closeness_DTW_30_5_Zone','degree_DTW_30_all',\n",
    "             'ALL_MLPS_99_'+str(nbr_cluster2keep)+'cat']\n",
    "print('You have selected %d mvt variables, without counting for several categories in categorical variables (as they would be aggregated anyway)'%len(li_mvtvar))"
   ]
  },
  {
   "cell_type": "code",
   "execution_count": 36,
   "metadata": {},
   "outputs": [
    {
     "name": "stdout",
     "output_type": "stream",
     "text": [
      "clIDother    131\n",
      "Name: ALL_MLPS_99_10cat_, dtype: int64\n",
      "(131, 18)\n"
     ]
    },
    {
     "name": "stderr",
     "output_type": "stream",
     "text": [
      "C:\\Users\\camil\\anaconda3\\lib\\site-packages\\ipykernel\\ipkernel.py:283: DeprecationWarning: `should_run_async` will not call `transform_cell` automatically in the future. Please pass the result to `transformed_cell` argument and any exception that happen during thetransform in `preprocessing_exc_tuple` in IPython 7.17 and above.\n",
      "  and should_run_async(code)\n"
     ]
    },
    {
     "data": {
      "text/html": [
       "<div>\n",
       "<style scoped>\n",
       "    .dataframe tbody tr th:only-of-type {\n",
       "        vertical-align: middle;\n",
       "    }\n",
       "\n",
       "    .dataframe tbody tr th {\n",
       "        vertical-align: top;\n",
       "    }\n",
       "\n",
       "    .dataframe thead th {\n",
       "        text-align: right;\n",
       "    }\n",
       "</style>\n",
       "<table border=\"1\" class=\"dataframe\">\n",
       "  <thead>\n",
       "    <tr style=\"text-align: right;\">\n",
       "      <th></th>\n",
       "      <th>HenID</th>\n",
       "      <th>CLASS</th>\n",
       "      <th>Treatment</th>\n",
       "      <th>perc_duration_5_Zone_</th>\n",
       "      <th>perc_duration_4_Zone_</th>\n",
       "      <th>activity_50percentile_sec_</th>\n",
       "      <th>kurtosis_duration_</th>\n",
       "      <th>median_duration_</th>\n",
       "      <th>in_WG_15mnAfterOpening_whenopen_</th>\n",
       "      <th>vertical_travel_distance_</th>\n",
       "      <th>empproba_3_Zone_</th>\n",
       "      <th>empproba_4_Zone_</th>\n",
       "      <th>is_mvt_night_</th>\n",
       "      <th>closeness_DTW_30_2_Zone_</th>\n",
       "      <th>closeness_DTW_30_5_Zone_</th>\n",
       "      <th>degree_DTW_30_all_</th>\n",
       "      <th>ALL_MLPS_99_10cat_</th>\n",
       "      <th>%daysnomvt</th>\n",
       "    </tr>\n",
       "  </thead>\n",
       "  <tbody>\n",
       "    <tr>\n",
       "      <th>0</th>\n",
       "      <td>hen_1</td>\n",
       "      <td>EPI</td>\n",
       "      <td>OFH</td>\n",
       "      <td>44.009917</td>\n",
       "      <td>6.431598</td>\n",
       "      <td>41204.538462</td>\n",
       "      <td>7.163875</td>\n",
       "      <td>7506.738532</td>\n",
       "      <td>0.375000</td>\n",
       "      <td>33.155963</td>\n",
       "      <td>30.728716</td>\n",
       "      <td>44.006836</td>\n",
       "      <td>0.014019</td>\n",
       "      <td>0.314578</td>\n",
       "      <td>0.411557</td>\n",
       "      <td>0.110919</td>\n",
       "      <td>clIDother</td>\n",
       "      <td>0.000000</td>\n",
       "    </tr>\n",
       "    <tr>\n",
       "      <th>1</th>\n",
       "      <td>hen_10</td>\n",
       "      <td>LEXP</td>\n",
       "      <td>OFH</td>\n",
       "      <td>21.376441</td>\n",
       "      <td>7.769693</td>\n",
       "      <td>42248.850746</td>\n",
       "      <td>10.793697</td>\n",
       "      <td>1604.170732</td>\n",
       "      <td>0.010101</td>\n",
       "      <td>41.336585</td>\n",
       "      <td>14.610309</td>\n",
       "      <td>45.659653</td>\n",
       "      <td>0.466981</td>\n",
       "      <td>0.260729</td>\n",
       "      <td>0.422640</td>\n",
       "      <td>0.203825</td>\n",
       "      <td>clIDother</td>\n",
       "      <td>33.333333</td>\n",
       "    </tr>\n",
       "    <tr>\n",
       "      <th>2</th>\n",
       "      <td>hen_101</td>\n",
       "      <td>MEXP</td>\n",
       "      <td>OFH</td>\n",
       "      <td>9.878261</td>\n",
       "      <td>4.813588</td>\n",
       "      <td>42046.224490</td>\n",
       "      <td>7.641380</td>\n",
       "      <td>541.061224</td>\n",
       "      <td>0.142857</td>\n",
       "      <td>66.464286</td>\n",
       "      <td>14.303091</td>\n",
       "      <td>44.334272</td>\n",
       "      <td>0.263415</td>\n",
       "      <td>0.298131</td>\n",
       "      <td>0.459874</td>\n",
       "      <td>0.243737</td>\n",
       "      <td>clIDother</td>\n",
       "      <td>0.000000</td>\n",
       "    </tr>\n",
       "  </tbody>\n",
       "</table>\n",
       "</div>"
      ],
      "text/plain": [
       "     HenID CLASS Treatment  perc_duration_5_Zone_  perc_duration_4_Zone_  \\\n",
       "0    hen_1   EPI       OFH              44.009917               6.431598   \n",
       "1   hen_10  LEXP       OFH              21.376441               7.769693   \n",
       "2  hen_101  MEXP       OFH               9.878261               4.813588   \n",
       "\n",
       "   activity_50percentile_sec_  kurtosis_duration_  median_duration_  \\\n",
       "0                41204.538462            7.163875       7506.738532   \n",
       "1                42248.850746           10.793697       1604.170732   \n",
       "2                42046.224490            7.641380        541.061224   \n",
       "\n",
       "   in_WG_15mnAfterOpening_whenopen_  vertical_travel_distance_  \\\n",
       "0                          0.375000                  33.155963   \n",
       "1                          0.010101                  41.336585   \n",
       "2                          0.142857                  66.464286   \n",
       "\n",
       "   empproba_3_Zone_  empproba_4_Zone_  is_mvt_night_  \\\n",
       "0         30.728716         44.006836       0.014019   \n",
       "1         14.610309         45.659653       0.466981   \n",
       "2         14.303091         44.334272       0.263415   \n",
       "\n",
       "   closeness_DTW_30_2_Zone_  closeness_DTW_30_5_Zone_  degree_DTW_30_all_  \\\n",
       "0                  0.314578                  0.411557            0.110919   \n",
       "1                  0.260729                  0.422640            0.203825   \n",
       "2                  0.298131                  0.459874            0.243737   \n",
       "\n",
       "  ALL_MLPS_99_10cat_  %daysnomvt  \n",
       "0          clIDother    0.000000  \n",
       "1          clIDother   33.333333  \n",
       "2          clIDother    0.000000  "
      ]
     },
     "execution_count": 36,
     "metadata": {},
     "output_type": "execute_result"
    }
   ],
   "source": [
    "#DF of var mean for model. We will have 140 obs, so lets keep at most 14 var for now (10 obs/var)\n",
    "df_mean = df_MVT.groupby(['HenID','CLASS','Treatment']).agg(\n",
    "           perc_duration_5_Zone_=pd.NamedAgg(column='perc_duration_5_Zone', aggfunc=lambda x: np.nanmean(x)),\n",
    "           perc_duration_4_Zone_=pd.NamedAgg(column='perc_duration_4_Zone', aggfunc=lambda x: np.nanmean(x)),\n",
    "           activity_50percentile_sec_ = pd.NamedAgg(column='activity_50percentile_sec', aggfunc=lambda x: np.nanmean(x)),\n",
    "           kurtosis_duration_=pd.NamedAgg(column='kurtosis_duration', aggfunc=lambda x: np.nanmean(x)),\n",
    "           median_duration_=pd.NamedAgg(column='median_duration', aggfunc=lambda x: np.nanmean(x)),\n",
    "           in_WG_15mnAfterOpening_whenopen_=pd.NamedAgg(column='in_WG_15mnAfterOpening_whenopen', aggfunc=lambda x: np.nanmean(x)),\n",
    "           vertical_travel_distance_=pd.NamedAgg(column='vertical_travel_distance', aggfunc=lambda x: np.nanmean(x)),\n",
    "           empproba_3_Zone_=pd.NamedAgg(column='empproba_3_Zone', aggfunc=lambda x: np.nanmean(x)),\n",
    "           empproba_4_Zone_=pd.NamedAgg(column='empproba_4_Zone', aggfunc=lambda x: np.nanmean(x)),\n",
    "           is_mvt_night_=pd.NamedAgg(column='is_mvt_night', aggfunc=lambda x: np.nanmean(x)),\n",
    "           closeness_DTW_30_2_Zone_=pd.NamedAgg(column='closeness_DTW_30_2_Zone', aggfunc=lambda x: np.nanmean(x)),\n",
    "           closeness_DTW_30_5_Zone_=pd.NamedAgg(column='closeness_DTW_30_5_Zone', aggfunc=lambda x: np.nanmean(x)),\n",
    "           degree_DTW_30_all_=pd.NamedAgg(column='degree_DTW_30_all', aggfunc=lambda x: np.nanmean(x)),\n",
    "           ALL_MLPS_99_10cat_=pd.NamedAgg(column='ALL_MLPS_99_10cat', aggfunc=lambda x: st.mode(x))).reset_index()\n",
    "print(df_mean['ALL_MLPS_99_10cat_'].value_counts())\n",
    "#add %days no mvt\n",
    "df_mean['%daysnomvt'] = df_mean['HenID'].map(lambda x: dico_henID_daysnomvt[x])\n",
    "print(df_mean.shape)\n",
    "df_mean.head(3)"
   ]
  },
  {
   "cell_type": "code",
   "execution_count": 37,
   "metadata": {},
   "outputs": [
    {
     "name": "stderr",
     "output_type": "stream",
     "text": [
      "C:\\Users\\camil\\anaconda3\\lib\\site-packages\\ipykernel\\ipkernel.py:283: DeprecationWarning: `should_run_async` will not call `transform_cell` automatically in the future. Please pass the result to `transformed_cell` argument and any exception that happen during thetransform in `preprocessing_exc_tuple` in IPython 7.17 and above.\n",
      "  and should_run_async(code)\n"
     ]
    },
    {
     "name": "stdout",
     "output_type": "stream",
     "text": [
      "7     24\n",
      "8     23\n",
      "6     22\n",
      "5     18\n",
      "9     16\n",
      "4     16\n",
      "3      7\n",
      "2      3\n",
      "10     2\n",
      "Name: ALL_MLPS_99_10cat_, dtype: int64\n",
      "(131, 16)\n"
     ]
    },
    {
     "data": {
      "text/html": [
       "<div>\n",
       "<style scoped>\n",
       "    .dataframe tbody tr th:only-of-type {\n",
       "        vertical-align: middle;\n",
       "    }\n",
       "\n",
       "    .dataframe tbody tr th {\n",
       "        vertical-align: top;\n",
       "    }\n",
       "\n",
       "    .dataframe thead th {\n",
       "        text-align: right;\n",
       "    }\n",
       "</style>\n",
       "<table border=\"1\" class=\"dataframe\">\n",
       "  <thead>\n",
       "    <tr style=\"text-align: right;\">\n",
       "      <th></th>\n",
       "      <th>HenID</th>\n",
       "      <th>perc_duration_5_Zone_</th>\n",
       "      <th>perc_duration_4_Zone_</th>\n",
       "      <th>activity_50percentile_sec_</th>\n",
       "      <th>kurtosis_duration_</th>\n",
       "      <th>median_duration_</th>\n",
       "      <th>in_WG_15mnAfterOpening_whenopen_</th>\n",
       "      <th>vertical_travel_distance_</th>\n",
       "      <th>empproba_3_Zone_</th>\n",
       "      <th>empproba_4_Zone_</th>\n",
       "      <th>is_mvt_night_</th>\n",
       "      <th>closeness_DTW_30_2_Zone_</th>\n",
       "      <th>closeness_DTW_30_5_Zone_</th>\n",
       "      <th>degree_DTW_30_all_</th>\n",
       "      <th>ALL_MLPS_99_10cat_</th>\n",
       "      <th>%daysnomvt</th>\n",
       "    </tr>\n",
       "  </thead>\n",
       "  <tbody>\n",
       "    <tr>\n",
       "      <th>0</th>\n",
       "      <td>hen_1</td>\n",
       "      <td>1049.156191</td>\n",
       "      <td>17.488232</td>\n",
       "      <td>1.866727e+07</td>\n",
       "      <td>31.133606</td>\n",
       "      <td>2.150284e+08</td>\n",
       "      <td>0.234375</td>\n",
       "      <td>460.516960</td>\n",
       "      <td>248.644835</td>\n",
       "      <td>292.833700</td>\n",
       "      <td>0.014019</td>\n",
       "      <td>0.003788</td>\n",
       "      <td>0.006001</td>\n",
       "      <td>0.021862</td>\n",
       "      <td>5</td>\n",
       "      <td>0.000000</td>\n",
       "    </tr>\n",
       "    <tr>\n",
       "      <th>1</th>\n",
       "      <td>hen_10</td>\n",
       "      <td>638.665898</td>\n",
       "      <td>15.766480</td>\n",
       "      <td>3.608011e+07</td>\n",
       "      <td>111.017118</td>\n",
       "      <td>2.597313e+07</td>\n",
       "      <td>0.009999</td>\n",
       "      <td>274.447686</td>\n",
       "      <td>371.226230</td>\n",
       "      <td>486.449574</td>\n",
       "      <td>0.466981</td>\n",
       "      <td>0.008499</td>\n",
       "      <td>0.004618</td>\n",
       "      <td>0.023741</td>\n",
       "      <td>5</td>\n",
       "      <td>33.333333</td>\n",
       "    </tr>\n",
       "    <tr>\n",
       "      <th>2</th>\n",
       "      <td>hen_101</td>\n",
       "      <td>126.388817</td>\n",
       "      <td>6.644125</td>\n",
       "      <td>2.500379e+07</td>\n",
       "      <td>45.929870</td>\n",
       "      <td>9.944459e+04</td>\n",
       "      <td>0.122449</td>\n",
       "      <td>387.422194</td>\n",
       "      <td>233.867149</td>\n",
       "      <td>245.903572</td>\n",
       "      <td>0.263415</td>\n",
       "      <td>0.003107</td>\n",
       "      <td>0.002755</td>\n",
       "      <td>0.011140</td>\n",
       "      <td>10</td>\n",
       "      <td>0.000000</td>\n",
       "    </tr>\n",
       "  </tbody>\n",
       "</table>\n",
       "</div>"
      ],
      "text/plain": [
       "     HenID  perc_duration_5_Zone_  perc_duration_4_Zone_  \\\n",
       "0    hen_1            1049.156191              17.488232   \n",
       "1   hen_10             638.665898              15.766480   \n",
       "2  hen_101             126.388817               6.644125   \n",
       "\n",
       "   activity_50percentile_sec_  kurtosis_duration_  median_duration_  \\\n",
       "0                1.866727e+07           31.133606      2.150284e+08   \n",
       "1                3.608011e+07          111.017118      2.597313e+07   \n",
       "2                2.500379e+07           45.929870      9.944459e+04   \n",
       "\n",
       "   in_WG_15mnAfterOpening_whenopen_  vertical_travel_distance_  \\\n",
       "0                          0.234375                 460.516960   \n",
       "1                          0.009999                 274.447686   \n",
       "2                          0.122449                 387.422194   \n",
       "\n",
       "   empproba_3_Zone_  empproba_4_Zone_  is_mvt_night_  \\\n",
       "0        248.644835        292.833700       0.014019   \n",
       "1        371.226230        486.449574       0.466981   \n",
       "2        233.867149        245.903572       0.263415   \n",
       "\n",
       "   closeness_DTW_30_2_Zone_  closeness_DTW_30_5_Zone_  degree_DTW_30_all_  \\\n",
       "0                  0.003788                  0.006001            0.021862   \n",
       "1                  0.008499                  0.004618            0.023741   \n",
       "2                  0.003107                  0.002755            0.011140   \n",
       "\n",
       "   ALL_MLPS_99_10cat_  %daysnomvt  \n",
       "0                   5    0.000000  \n",
       "1                   5   33.333333  \n",
       "2                  10    0.000000  "
      ]
     },
     "execution_count": 37,
     "metadata": {},
     "output_type": "execute_result"
    }
   ],
   "source": [
    "df_variability = df_MVT.groupby('HenID').agg(\n",
    "           perc_duration_5_Zone_=pd.NamedAgg(column='perc_duration_5_Zone', aggfunc=lambda x: np.nanvar(x)),\n",
    "           perc_duration_4_Zone_=pd.NamedAgg(column='perc_duration_4_Zone', aggfunc=lambda x: np.nanvar(x)),\n",
    "           activity_50percentile_sec_ = pd.NamedAgg(column='activity_50percentile_sec', aggfunc=lambda x: np.nanvar(x)),\n",
    "           kurtosis_duration_=pd.NamedAgg(column='kurtosis_duration', aggfunc=lambda x: np.nanvar(x)),\n",
    "           median_duration_=pd.NamedAgg(column='median_duration', aggfunc=lambda x: np.nanvar(x)),\n",
    "           in_WG_15mnAfterOpening_whenopen_=pd.NamedAgg(column='in_WG_15mnAfterOpening_whenopen', aggfunc=lambda x: np.nanvar(x)),\n",
    "           vertical_travel_distance_=pd.NamedAgg(column='vertical_travel_distance', aggfunc=lambda x: np.nanvar(x)),\n",
    "           empproba_3_Zone_=pd.NamedAgg(column='empproba_3_Zone', aggfunc=lambda x: np.nanvar(x)),\n",
    "           empproba_4_Zone_=pd.NamedAgg(column='empproba_4_Zone', aggfunc=lambda x: np.nanvar(x)),\n",
    "           is_mvt_night_=pd.NamedAgg(column='is_mvt_night', aggfunc=lambda x: np.nanmean(x)),\n",
    "           closeness_DTW_30_2_Zone_=pd.NamedAgg(column='closeness_DTW_30_2_Zone', aggfunc=lambda x: np.nanvar(x)),\n",
    "           closeness_DTW_30_5_Zone_=pd.NamedAgg(column='closeness_DTW_30_5_Zone', aggfunc=lambda x: np.nanvar(x)),\n",
    "           degree_DTW_30_all_=pd.NamedAgg(column='degree_DTW_30_all', aggfunc=lambda x: np.nanvar(x)),\n",
    "           ALL_MLPS_99_10cat_=pd.NamedAgg(column='ALL_MLPS_99_10cat', aggfunc=lambda x: len(set(x)))).reset_index()\n",
    "print(df_variability['ALL_MLPS_99_10cat_'].value_counts())\n",
    "df_variability['%daysnomvt'] = df_variability['HenID'].map(lambda x: dico_henID_daysnomvt[x])\n",
    "print(df_variability.shape)\n",
    "df_variability.head(3)"
   ]
  },
  {
   "cell_type": "code",
   "execution_count": 67,
   "metadata": {},
   "outputs": [
    {
     "name": "stdout",
     "output_type": "stream",
     "text": [
      "(98, 50)\n",
      "(98, 67)\n",
      "(98, 67)\n"
     ]
    },
    {
     "name": "stderr",
     "output_type": "stream",
     "text": [
      "C:\\Users\\camil\\anaconda3\\lib\\site-packages\\ipykernel\\ipkernel.py:283: DeprecationWarning: `should_run_async` will not call `transform_cell` automatically in the future. Please pass the result to `transformed_cell` argument and any exception that happen during thetransform in `preprocessing_exc_tuple` in IPython 7.17 and above.\n",
      "  and should_run_async(code)\n"
     ]
    },
    {
     "data": {
      "text/html": [
       "<div>\n",
       "<style scoped>\n",
       "    .dataframe tbody tr th:only-of-type {\n",
       "        vertical-align: middle;\n",
       "    }\n",
       "\n",
       "    .dataframe tbody tr th {\n",
       "        vertical-align: top;\n",
       "    }\n",
       "\n",
       "    .dataframe thead th {\n",
       "        text-align: right;\n",
       "    }\n",
       "</style>\n",
       "<table border=\"1\" class=\"dataframe\">\n",
       "  <thead>\n",
       "    <tr style=\"text-align: right;\">\n",
       "      <th></th>\n",
       "      <th>HenID</th>\n",
       "      <th>CLASS_x</th>\n",
       "      <th>Treatment_x</th>\n",
       "      <th>perc_duration_5_Zone_</th>\n",
       "      <th>perc_duration_4_Zone_</th>\n",
       "      <th>activity_50percentile_sec_</th>\n",
       "      <th>kurtosis_duration_</th>\n",
       "      <th>median_duration_</th>\n",
       "      <th>in_WG_15mnAfterOpening_whenopen_</th>\n",
       "      <th>vertical_travel_distance_</th>\n",
       "      <th>...</th>\n",
       "      <th>random_order1</th>\n",
       "      <th>severity</th>\n",
       "      <th>has_gap</th>\n",
       "      <th>BirdID</th>\n",
       "      <th>uncertainty (0:certain:1 random)</th>\n",
       "      <th>Info</th>\n",
       "      <th>backpack</th>\n",
       "      <th>Injuries</th>\n",
       "      <th>Pododermatitis</th>\n",
       "      <th>Feathers</th>\n",
       "    </tr>\n",
       "  </thead>\n",
       "  <tbody>\n",
       "    <tr>\n",
       "      <th>0</th>\n",
       "      <td>hen_10</td>\n",
       "      <td>LEXP</td>\n",
       "      <td>OFH</td>\n",
       "      <td>21.376441</td>\n",
       "      <td>7.769693</td>\n",
       "      <td>42248.850746</td>\n",
       "      <td>10.793697</td>\n",
       "      <td>1604.170732</td>\n",
       "      <td>0.010101</td>\n",
       "      <td>41.336585</td>\n",
       "      <td>...</td>\n",
       "      <td>229.0</td>\n",
       "      <td>38.0</td>\n",
       "      <td>0.0</td>\n",
       "      <td>26grey11sbs</td>\n",
       "      <td>NaN</td>\n",
       "      <td>['', '26', 'grey', '11', 'sbs']</td>\n",
       "      <td>sbs</td>\n",
       "      <td>0.0</td>\n",
       "      <td>125.0</td>\n",
       "      <td>82.500000</td>\n",
       "    </tr>\n",
       "    <tr>\n",
       "      <th>1</th>\n",
       "      <td>hen_101</td>\n",
       "      <td>MEXP</td>\n",
       "      <td>OFH</td>\n",
       "      <td>9.878261</td>\n",
       "      <td>4.813588</td>\n",
       "      <td>42046.224490</td>\n",
       "      <td>7.641380</td>\n",
       "      <td>541.061224</td>\n",
       "      <td>0.142857</td>\n",
       "      <td>66.464286</td>\n",
       "      <td>...</td>\n",
       "      <td>307.0</td>\n",
       "      <td>12.0</td>\n",
       "      <td>0.0</td>\n",
       "      <td>30green5sb</td>\n",
       "      <td>NaN</td>\n",
       "      <td>['', '30', 'green', '5', 'sb']</td>\n",
       "      <td>sb</td>\n",
       "      <td>0.0</td>\n",
       "      <td>25.0</td>\n",
       "      <td>88.333333</td>\n",
       "    </tr>\n",
       "    <tr>\n",
       "      <th>2</th>\n",
       "      <td>hen_102</td>\n",
       "      <td>MEXP</td>\n",
       "      <td>OFH</td>\n",
       "      <td>76.782387</td>\n",
       "      <td>8.701839</td>\n",
       "      <td>45805.365079</td>\n",
       "      <td>21.246508</td>\n",
       "      <td>2367.671642</td>\n",
       "      <td>0.108247</td>\n",
       "      <td>35.621891</td>\n",
       "      <td>...</td>\n",
       "      <td>105.0</td>\n",
       "      <td>54.0</td>\n",
       "      <td>1.0</td>\n",
       "      <td>36green3sg</td>\n",
       "      <td>what is this boule?</td>\n",
       "      <td>['', '36', 'green', '3', 'sg']</td>\n",
       "      <td>sg</td>\n",
       "      <td>0.0</td>\n",
       "      <td>110.0</td>\n",
       "      <td>77.833333</td>\n",
       "    </tr>\n",
       "  </tbody>\n",
       "</table>\n",
       "<p>3 rows × 67 columns</p>\n",
       "</div>"
      ],
      "text/plain": [
       "     HenID CLASS_x Treatment_x  perc_duration_5_Zone_  perc_duration_4_Zone_  \\\n",
       "0   hen_10    LEXP         OFH              21.376441               7.769693   \n",
       "1  hen_101    MEXP         OFH               9.878261               4.813588   \n",
       "2  hen_102    MEXP         OFH              76.782387               8.701839   \n",
       "\n",
       "   activity_50percentile_sec_  kurtosis_duration_  median_duration_  \\\n",
       "0                42248.850746           10.793697       1604.170732   \n",
       "1                42046.224490            7.641380        541.061224   \n",
       "2                45805.365079           21.246508       2367.671642   \n",
       "\n",
       "   in_WG_15mnAfterOpening_whenopen_  vertical_travel_distance_  ...  \\\n",
       "0                          0.010101                  41.336585  ...   \n",
       "1                          0.142857                  66.464286  ...   \n",
       "2                          0.108247                  35.621891  ...   \n",
       "\n",
       "   random_order1  severity  has_gap       BirdID  \\\n",
       "0          229.0      38.0      0.0  26grey11sbs   \n",
       "1          307.0      12.0      0.0   30green5sb   \n",
       "2          105.0      54.0      1.0   36green3sg   \n",
       "\n",
       "   uncertainty (0:certain:1 random)                             Info backpack  \\\n",
       "0                               NaN  ['', '26', 'grey', '11', 'sbs']      sbs   \n",
       "1                               NaN   ['', '30', 'green', '5', 'sb']       sb   \n",
       "2               what is this boule?   ['', '36', 'green', '3', 'sg']       sg   \n",
       "\n",
       "   Injuries Pododermatitis   Feathers  \n",
       "0       0.0          125.0  82.500000  \n",
       "1       0.0           25.0  88.333333  \n",
       "2       0.0          110.0  77.833333  \n",
       "\n",
       "[3 rows x 67 columns]"
      ]
     },
     "execution_count": 67,
     "metadata": {},
     "output_type": "execute_result"
    }
   ],
   "source": [
    "li_mvtvar_model = [x+'_' for x in li_mvtvar if x!='ALL_MLPS_99_10cat'] #drop ALL_MLPS_99_10cat as no variation\n",
    "li_mvtvar_model = ['perc_duration_5_Zone_','kurtosis_duration_','vertical_travel_distance_','perc_duration_4_Zone_',\n",
    "                  'median_duration_','degree_DTW_30_all_','%daysnomvt']\n",
    "HAID = 'HA4'\n",
    "print(df_HA[df_HA['HAID']==HAID].shape)\n",
    "df_model = pd.merge(df_mean, df_HA[df_HA['HAID']==HAID], on=['HenID'], how='inner') #df_variability or df_mean\n",
    "print(df_model.shape)\n",
    "df_model[['HenID']+li_mvtvar_model].head(2)\n",
    "print(df_model.shape)\n",
    "df_model.head(3)"
   ]
  },
  {
   "cell_type": "code",
   "execution_count": 68,
   "metadata": {},
   "outputs": [
    {
     "name": "stderr",
     "output_type": "stream",
     "text": [
      "C:\\Users\\camil\\anaconda3\\lib\\site-packages\\ipykernel\\ipkernel.py:283: DeprecationWarning: `should_run_async` will not call `transform_cell` automatically in the future. Please pass the result to `transformed_cell` argument and any exception that happen during thetransform in `preprocessing_exc_tuple` in IPython 7.17 and above.\n",
      "  and should_run_async(code)\n"
     ]
    },
    {
     "data": {
      "text/plain": [
       "SpearmanrResult(correlation=0.10040058077735482, pvalue=0.32528726731536817)"
      ]
     },
     "execution_count": 68,
     "metadata": {},
     "output_type": "execute_result"
    }
   ],
   "source": [
    "spearmanr(df_model['%daysnomvt'], df_model['severity']) #variability also!"
   ]
  },
  {
   "cell_type": "code",
   "execution_count": 69,
   "metadata": {},
   "outputs": [
    {
     "name": "stderr",
     "output_type": "stream",
     "text": [
      "C:\\Users\\camil\\anaconda3\\lib\\site-packages\\ipykernel\\ipkernel.py:283: DeprecationWarning: `should_run_async` will not call `transform_cell` automatically in the future. Please pass the result to `transformed_cell` argument and any exception that happen during thetransform in `preprocessing_exc_tuple` in IPython 7.17 and above.\n",
      "  and should_run_async(code)\n"
     ]
    },
    {
     "data": {
      "text/plain": [
       "(-0.20195885315864232, 0.046125998904239705)"
      ]
     },
     "execution_count": 69,
     "metadata": {},
     "output_type": "execute_result"
    }
   ],
   "source": [
    "#coef, p_val\n",
    "pearsonr(df_model['vertical_travel_distance_'], df_model['severity']) #variability also!"
   ]
  },
  {
   "cell_type": "code",
   "execution_count": 70,
   "metadata": {},
   "outputs": [
    {
     "name": "stderr",
     "output_type": "stream",
     "text": [
      "C:\\Users\\camil\\anaconda3\\lib\\site-packages\\ipykernel\\ipkernel.py:283: DeprecationWarning: `should_run_async` will not call `transform_cell` automatically in the future. Please pass the result to `transformed_cell` argument and any exception that happen during thetransform in `preprocessing_exc_tuple` in IPython 7.17 and above.\n",
      "  and should_run_async(code)\n"
     ]
    },
    {
     "data": {
      "text/plain": [
       "(0.10620623253068279, 0.29794731389041174)"
      ]
     },
     "execution_count": 70,
     "metadata": {},
     "output_type": "execute_result"
    }
   ],
   "source": [
    "pearsonr(df_model['degree_DTW_30_all_'], df_model['severity'])"
   ]
  },
  {
   "cell_type": "code",
   "execution_count": 71,
   "metadata": {},
   "outputs": [
    {
     "name": "stderr",
     "output_type": "stream",
     "text": [
      "C:\\Users\\camil\\anaconda3\\lib\\site-packages\\ipykernel\\ipkernel.py:283: DeprecationWarning: `should_run_async` will not call `transform_cell` automatically in the future. Please pass the result to `transformed_cell` argument and any exception that happen during thetransform in `preprocessing_exc_tuple` in IPython 7.17 and above.\n",
      "  and should_run_async(code)\n"
     ]
    },
    {
     "data": {
      "text/plain": [
       "(-0.23997497693465966, 0.017310771583396778)"
      ]
     },
     "execution_count": 71,
     "metadata": {},
     "output_type": "execute_result"
    }
   ],
   "source": [
    "pearsonr(df_model['perc_duration_4_Zone_'], df_model['severity'])"
   ]
  },
  {
   "cell_type": "markdown",
   "metadata": {},
   "source": [
    "### RF regressor"
   ]
  },
  {
   "cell_type": "code",
   "execution_count": 72,
   "metadata": {},
   "outputs": [
    {
     "name": "stderr",
     "output_type": "stream",
     "text": [
      "C:\\Users\\camil\\anaconda3\\lib\\site-packages\\ipykernel\\ipkernel.py:283: DeprecationWarning: `should_run_async` will not call `transform_cell` automatically in the future. Please pass the result to `transformed_cell` argument and any exception that happen during thetransform in `preprocessing_exc_tuple` in IPython 7.17 and above.\n",
      "  and should_run_async(code)\n",
      "[Parallel(n_jobs=-1)]: Using backend LokyBackend with 12 concurrent workers.\n"
     ]
    },
    {
     "name": "stdout",
     "output_type": "stream",
     "text": [
      "(98, 7) (98,)\n",
      "Fitting 3 folds for each of 6480 candidates, totalling 19440 fits\n"
     ]
    },
    {
     "name": "stderr",
     "output_type": "stream",
     "text": [
      "[Parallel(n_jobs=-1)]: Done  17 tasks      | elapsed:    3.1s\n",
      "[Parallel(n_jobs=-1)]: Done 168 tasks      | elapsed:    4.3s\n",
      "[Parallel(n_jobs=-1)]: Done 574 tasks      | elapsed:    7.1s\n",
      "[Parallel(n_jobs=-1)]: Done 1140 tasks      | elapsed:   10.9s\n",
      "[Parallel(n_jobs=-1)]: Done 1870 tasks      | elapsed:   16.0s\n",
      "[Parallel(n_jobs=-1)]: Done 2760 tasks      | elapsed:   22.0s\n",
      "[Parallel(n_jobs=-1)]: Done 3814 tasks      | elapsed:   29.0s\n",
      "[Parallel(n_jobs=-1)]: Done 5028 tasks      | elapsed:   37.0s\n",
      "[Parallel(n_jobs=-1)]: Done 6406 tasks      | elapsed:   46.1s\n",
      "[Parallel(n_jobs=-1)]: Done 7944 tasks      | elapsed:   56.3s\n",
      "[Parallel(n_jobs=-1)]: Done 9646 tasks      | elapsed:  1.1min\n",
      "[Parallel(n_jobs=-1)]: Done 11508 tasks      | elapsed:  1.3min\n",
      "[Parallel(n_jobs=-1)]: Done 13534 tasks      | elapsed:  1.6min\n",
      "[Parallel(n_jobs=-1)]: Done 15720 tasks      | elapsed:  1.8min\n",
      "[Parallel(n_jobs=-1)]: Done 18070 tasks      | elapsed:  2.1min\n",
      "[Parallel(n_jobs=-1)]: Done 19440 out of 19440 | elapsed:  2.2min finished\n"
     ]
    },
    {
     "data": {
      "text/plain": [
       "RandomForestRegressor(max_depth=6, max_features='sqrt',\n",
       "                      min_impurity_decrease=0.0007800000000000001,\n",
       "                      min_samples_leaf=2, min_samples_split=4, n_estimators=20)"
      ]
     },
     "metadata": {},
     "output_type": "display_data"
    },
    {
     "name": "stdout",
     "output_type": "stream",
     "text": [
      "coefficient of determinationon val data:  0.135\n",
      "coefficient of determination on training data:  0.608\n",
      "Average baseline error:  13.35\n",
      "Mean Absolute Error: 11.95\n"
     ]
    }
   ],
   "source": [
    "#chyperparameter tuning\n",
    "#########################  Split into training and validation (for parameter tuning) & dummies\n",
    "#split into train, test and put into good format\n",
    "X_train = df_model[li_mvtvar_model].values\n",
    "y_train = df_model['severity'].values\n",
    "y_train = np.ravel(y_train) #from (x,1) to (x,)\n",
    "print(X_train.shape, y_train.shape)\n",
    "val_size = 0.2\n",
    "X_train_tuning, X_val_tuning, y_train_tuning, y_val_tuning = train_test_split(X_train, y_train, \n",
    "                                                                              test_size=val_size, random_state=rs)\n",
    "#var name\n",
    "var_name = df_model[li_mvtvar_model].columns\n",
    "\n",
    "#choose model using 2cross validation on the validating dataset\n",
    "P = {'max_features': ['sqrt','log2'], #nbr of features to consider when looking for the best split\n",
    "      'max_depth': [3,4,5,6,7,8,9,10,11],\n",
    "      'min_samples_leaf': [2,3,4],#min samples at a leaf node\n",
    "      'min_samples_split':[2,3,4,5], #min nbr of samples required to split a node, we may want this to be bigger for RF (more complex trees)\n",
    "      'n_estimators':[20,30,40],#nbr of trees in the forest default=100\n",
    "      'min_impurity_decrease':[x for x in np.linspace(start = 0.00001, stop = 0.001, num = 10)]}\n",
    "#define the model with all these options and fit it (as many combination as asked for). \n",
    "#refit: fit an estimator using the best found parameters on the whole dataset, then we can extract it with best_estimator_\n",
    "mod = GridSearchCV(estimator = RandomForestRegressor(), param_grid = P, cv = 3, n_jobs = -1, verbose = 2, refit=True) \n",
    "#train best model\n",
    "mod.fit(X_train_tuning, y_train_tuning)\n",
    "#extract best already fitted model and save it \n",
    "mod_final = mod.best_estimator_\n",
    "#joblib.dump(mod_final, os.path.join(path_extracted_data_cleaning_model, 'selected_randomforest.pkl') )\n",
    "display(mod_final)\n",
    "\n",
    "# Evaluate performance\n",
    "#final score: Return the coefficient of determination of the prediction\n",
    "#% of the variance of the dependent variable that is explained by the variance of the ind. variable\n",
    "print('coefficient of determinationon val data: ',round(mod_final.score(X_val_tuning, y_val_tuning),3))\n",
    "print('coefficient of determination on training data: ',round(mod_final.score(X_train_tuning, y_train_tuning),3))\n",
    "\n",
    "#Mean absolute error\n",
    "#Baseline errors, and display average baseline error\n",
    "baseline_errors = abs(np.array([df_model['severity'].mean() for i in range(0,len(y_val_tuning))])-y_val_tuning)\n",
    "print('Average baseline error: ', round(np.mean(baseline_errors), 2))\n",
    "predictions = mod_final.predict(X_val_tuning)\n",
    "errors = abs(predictions - y_val_tuning)\n",
    "print('Mean Absolute Error:', round(np.mean(errors), 2))"
   ]
  },
  {
   "cell_type": "code",
   "execution_count": 116,
   "metadata": {
    "scrolled": true
   },
   "outputs": [
    {
     "name": "stdout",
     "output_type": "stream",
     "text": [
      "0\n",
      "coefficient of determinationon val data:  0.051\n",
      "coefficient of determination on training data:  0.525\n",
      "Average baseline error:  10.4\n",
      "Mean Absolute Error: 10.68\n",
      "1\n",
      "coefficient of determinationon val data:  -0.385\n",
      "coefficient of determination on training data:  0.606\n",
      "Average baseline error:  8.9\n",
      "Mean Absolute Error: 10.18\n",
      "2\n",
      "coefficient of determinationon val data:  -0.152\n",
      "coefficient of determination on training data:  0.522\n",
      "Average baseline error:  10.2\n",
      "Mean Absolute Error: 11.28\n",
      "3\n",
      "coefficient of determinationon val data:  -0.147\n",
      "coefficient of determination on training data:  0.584\n",
      "Average baseline error:  14.5\n",
      "Mean Absolute Error: 16.45\n",
      "4\n",
      "coefficient of determinationon val data:  -0.116\n",
      "coefficient of determination on training data:  0.547\n",
      "Average baseline error:  12.71\n",
      "Mean Absolute Error: 14.13\n"
     ]
    },
    {
     "name": "stderr",
     "output_type": "stream",
     "text": [
      "C:\\Users\\camil\\anaconda3\\lib\\site-packages\\ipykernel\\ipkernel.py:283: DeprecationWarning: `should_run_async` will not call `transform_cell` automatically in the future. Please pass the result to `transformed_cell` argument and any exception that happen during thetransform in `preprocessing_exc_tuple` in IPython 7.17 and above.\n",
      "  and should_run_async(code)\n",
      "C:\\Users\\camil\\anaconda3\\lib\\site-packages\\sklearn\\model_selection\\_split.py:670: UserWarning: The least populated class in y has only 1 members, which is less than n_splits=5.\n",
      "  warnings.warn((\"The least populated class in y has only %d\"\n"
     ]
    }
   ],
   "source": [
    "#train chosen model with 3fold\n",
    "cv = StratifiedKFold(n_splits=5, random_state=123, shuffle=True)\n",
    "mod_final = RandomForestRegressor(max_depth=6, max_features='auto',\n",
    "                                  min_impurity_decrease=0.01, min_samples_leaf=2,\n",
    "                                  min_samples_split=10, n_estimators=30)\n",
    "X = df_model[li_mvtvar_model].values\n",
    "y = df_model['severity'].values\n",
    "y = np.ravel(y) #from (x,1) to (x,)\n",
    "#n_splits from StratifiedKFold define the number of run we have\n",
    "for i, (train, test) in enumerate(cv.split(X, y)):\n",
    "    print(i)\n",
    "    mod_final.fit(X[train], y[train])\n",
    "    print('coefficient of determinationon val data: ',round(mod_final.score(X[test], y[test]),3))\n",
    "    print('coefficient of determination on training data: ',round(mod_final.score(X[train], y[train]),3))\n",
    "\n",
    "    #Mean absolute error\n",
    "    #Baseline errors, and display average baseline error\n",
    "    baseline_errors = abs(np.array([df_model['severity'].mean() for i in range(0,len(y[test]))])-y[test])\n",
    "    print('Average baseline error: ', round(np.mean(baseline_errors), 2))\n",
    "    predictions = mod_final.predict(X[test])\n",
    "    errors = abs(predictions - y[test])\n",
    "    print('Mean Absolute Error:', round(np.mean(errors), 2))"
   ]
  },
  {
   "cell_type": "code",
   "execution_count": null,
   "metadata": {},
   "outputs": [],
   "source": []
  },
  {
   "cell_type": "markdown",
   "metadata": {},
   "source": [
    "# Model on windowed period"
   ]
  },
  {
   "cell_type": "code",
   "execution_count": 37,
   "metadata": {},
   "outputs": [
    {
     "name": "stderr",
     "output_type": "stream",
     "text": [
      "C:\\Users\\camil\\anaconda3\\lib\\site-packages\\ipykernel\\ipkernel.py:283: DeprecationWarning: `should_run_async` will not call `transform_cell` automatically in the future. Please pass the result to `transformed_cell` argument and any exception that happen during thetransform in `preprocessing_exc_tuple` in IPython 7.17 and above.\n",
      "  and should_run_async(code)\n"
     ]
    }
   ],
   "source": [
    "li_date = set(df_MVT['level'].tolist()) #unique lead to np format of date!\n",
    "li_date = sorted(li_date)\n",
    "nbr_days = 14\n",
    "li_date = li_date[nbr_days:]"
   ]
  },
  {
   "cell_type": "code",
   "execution_count": 102,
   "metadata": {},
   "outputs": [
    {
     "name": "stderr",
     "output_type": "stream",
     "text": [
      "C:\\Users\\camil\\anaconda3\\lib\\site-packages\\ipykernel\\ipkernel.py:283: DeprecationWarning: `should_run_async` will not call `transform_cell` automatically in the future. Please pass the result to `transformed_cell` argument and any exception that happen during thetransform in `preprocessing_exc_tuple` in IPython 7.17 and above.\n",
      "  and should_run_async(code)\n"
     ]
    },
    {
     "ename": "NameError",
     "evalue": "name 'li_date' is not defined",
     "output_type": "error",
     "traceback": [
      "\u001b[1;31m---------------------------------------------------------------------------\u001b[0m",
      "\u001b[1;31mNameError\u001b[0m                                 Traceback (most recent call last)",
      "\u001b[1;32m<ipython-input-102-9f9a66de3a1e>\u001b[0m in \u001b[0;36m<module>\u001b[1;34m\u001b[0m\n\u001b[0;32m      1\u001b[0m \u001b[0mli_dico\u001b[0m \u001b[1;33m=\u001b[0m \u001b[1;33m[\u001b[0m\u001b[1;33m]\u001b[0m\u001b[1;33m\u001b[0m\u001b[1;33m\u001b[0m\u001b[0m\n\u001b[1;32m----> 2\u001b[1;33m \u001b[1;32mfor\u001b[0m \u001b[0mdate_\u001b[0m \u001b[1;32min\u001b[0m \u001b[0mtqdm\u001b[0m\u001b[1;33m.\u001b[0m\u001b[0mtqdm\u001b[0m\u001b[1;33m(\u001b[0m\u001b[0mli_date\u001b[0m\u001b[1;33m)\u001b[0m\u001b[1;33m:\u001b[0m\u001b[1;33m\u001b[0m\u001b[1;33m\u001b[0m\u001b[0m\n\u001b[0m\u001b[0;32m      3\u001b[0m     \u001b[0mprint\u001b[0m\u001b[1;33m(\u001b[0m\u001b[0mdate_\u001b[0m\u001b[1;33m)\u001b[0m\u001b[1;33m\u001b[0m\u001b[1;33m\u001b[0m\u001b[0m\n\u001b[0;32m      4\u001b[0m     \u001b[1;31m#DF of var mean for model. We will have 140 obs, so lets keep at most 14 var for now (10 obs/var)\u001b[0m\u001b[1;33m\u001b[0m\u001b[1;33m\u001b[0m\u001b[1;33m\u001b[0m\u001b[0m\n\u001b[0;32m      5\u001b[0m     df_mean = df_MVT[(df_MVT['level']<=date_)&(df_MVT['level']>date_-dt.timedelta(days=nbr_days))].groupby('HenID').agg(\n",
      "\u001b[1;31mNameError\u001b[0m: name 'li_date' is not defined"
     ]
    }
   ],
   "source": [
    "li_dico = []\n",
    "for date_ in tqdm.tqdm(li_date):\n",
    "    print(date_)\n",
    "    #DF of var mean for model. We will have 140 obs, so lets keep at most 14 var for now (10 obs/var)\n",
    "    df_mean = df_MVT[(df_MVT['level']<=date_)&(df_MVT['level']>date_-dt.timedelta(days=nbr_days))].groupby('HenID').agg(\n",
    "               perc_duration_5_Zone_=pd.NamedAgg(column='perc_duration_5_Zone', aggfunc=lambda x: np.nanmean(x)),\n",
    "               perc_duration_4_Zone_=pd.NamedAgg(column='perc_duration_4_Zone', aggfunc=lambda x: np.nanmean(x)),\n",
    "               activity_50percentile_sec_ = pd.NamedAgg(column='activity_50percentile_sec', aggfunc=lambda x: np.nanmean(x)),\n",
    "               kurtosis_duration_=pd.NamedAgg(column='kurtosis_duration', aggfunc=lambda x: np.nanmean(x)),\n",
    "               median_duration_=pd.NamedAgg(column='median_duration', aggfunc=lambda x: np.nanmean(x)),\n",
    "               in_WG_15mnAfterOpening_whenopen_=pd.NamedAgg(column='in_WG_15mnAfterOpening_whenopen', aggfunc=lambda x: np.nanmean(x)),\n",
    "               vertical_travel_distance_=pd.NamedAgg(column='vertical_travel_distance', aggfunc=lambda x: np.nanmean(x)),\n",
    "               empproba_3_Zone_=pd.NamedAgg(column='empproba_3_Zone', aggfunc=lambda x: np.nanmean(x)),\n",
    "               empproba_4_Zone_=pd.NamedAgg(column='empproba_4_Zone', aggfunc=lambda x: np.nanmean(x)),\n",
    "               is_mvt_night_=pd.NamedAgg(column='is_mvt_night', aggfunc=lambda x: np.nanmean(x)),\n",
    "               closeness_DTW_30_2_Zone_=pd.NamedAgg(column='closeness_DTW_30_2_Zone', aggfunc=lambda x: np.nanmean(x)),\n",
    "               closeness_DTW_30_5_Zone_=pd.NamedAgg(column='closeness_DTW_30_5_Zone', aggfunc=lambda x: np.nanmean(x)),\n",
    "               degree_DTW_30_all_=pd.NamedAgg(column='degree_DTW_30_all', aggfunc=lambda x: np.nanmean(x)),\n",
    "               ALL_MLPS_99_10cat_=pd.NamedAgg(column='ALL_MLPS_99_10cat', aggfunc=lambda x: st.mode(x))).reset_index()\n",
    "    print(df_mean['ALL_MLPS_99_10cat_'].value_counts())\n",
    "\n",
    "    #chose dataset\n",
    "    df_model = pd.merge(df_mean, df_HA[df_HA['HAID']=='HA4'], on=['HenID'], how='inner') #df_variability or df_mean\n",
    "    li_mvtvar_model = ['perc_duration_5_Zone_','vertical_travel_distance_','perc_duration_4_Zone_',\n",
    "                      'degree_DTW_30_all_']\n",
    "    li_mvtvar_model = ['perc_duration_5_Zone_','vertical_travel_distance_']\n",
    "    #drop nan\n",
    "    df_model = df_model[li_mvtvar_model+['severity']].dropna()\n",
    "\n",
    "    #########################  Split into training and validation (for parameter tuning) & dummies\n",
    "    #split into train, test and put into good format\n",
    "    X = df_model[li_mvtvar_model].values\n",
    "    y = df_model['severity'].values\n",
    "    y = np.ravel(y) #from (x,1) to (x,)\n",
    "    val_size = 0.2\n",
    "    X_train_tuning, X_val_tuning, y_train_tuning, y_val_tuning = train_test_split(X, y, \n",
    "                                                                                  test_size=val_size, random_state=rs)\n",
    "    #var name\n",
    "    var_name = df_model[li_mvtvar_model].columns\n",
    "    #fit model\n",
    "    #define model and fit on training dataset\n",
    "    mod_final = RandomForestRegressor(max_depth=6, max_features='auto',\n",
    "                      min_impurity_decrease=0.01, min_samples_leaf=2,\n",
    "                      min_samples_split=10, n_estimators=30)\n",
    "    mod_final.fit(X_train_tuning, y_train_tuning)\n",
    "\n",
    "    #Mean absolute error\n",
    "    #Baseline errors, and display average baseline error\n",
    "    baseline_errors = abs(np.array([df_model['severity'].mean() for i in range(0,len(y_val_tuning))])-y_val_tuning)\n",
    "    predictions = mod_final.predict(X_val_tuning)\n",
    "    errors = abs(predictions - y_val_tuning)\n",
    "    li_dico.append({'MAE':round(np.mean(errors), 2), 'Average baseline error':round(np.mean(baseline_errors), 2), \n",
    "                    'R2_training':round(mod_final.score(X_train_tuning, y_train_tuning),3), \n",
    "                    'R2_val':round(mod_final.score(X_val_tuning, y_val_tuning),3),\n",
    "                    'date':date_, 'nbr_obs':df_model.shape[0]})\n",
    "df_res = pd.DataFrame(li_dico)\n",
    "print(df_res.shape)\n",
    "display(df_res.head(3))\n",
    "plt.plot(df_res['date'].tolist(), df_res['R2_val'].tolist(), color='green');\n",
    "plt.plot(df_res['date'].tolist(), df_res['R2_training'].tolist());"
   ]
  },
  {
   "cell_type": "markdown",
   "metadata": {},
   "source": [
    "# Model on class /Treatment"
   ]
  },
  {
   "cell_type": "code",
   "execution_count": 74,
   "metadata": {},
   "outputs": [
    {
     "name": "stderr",
     "output_type": "stream",
     "text": [
      "C:\\Users\\camil\\anaconda3\\lib\\site-packages\\ipykernel\\ipkernel.py:283: DeprecationWarning: `should_run_async` will not call `transform_cell` automatically in the future. Please pass the result to `transformed_cell` argument and any exception that happen during thetransform in `preprocessing_exc_tuple` in IPython 7.17 and above.\n",
      "  and should_run_async(code)\n"
     ]
    },
    {
     "data": {
      "text/plain": [
       "(0.782, 0.5)"
      ]
     },
     "execution_count": 74,
     "metadata": {},
     "output_type": "execute_result"
    }
   ],
   "source": [
    "df_model = pd.merge(df_mean, df_HA[df_HA['HAID']=='HA4'], on=['HenID','CLASS','Treatment'], how='inner') #df_variability or df_mean\n",
    "li_mvtvar_model = ['perc_duration_5_Zone_','vertical_travel_distance_','perc_duration_4_Zone_',\n",
    "                  'degree_DTW_30_all_']\n",
    "#drop nan\n",
    "df_model = df_model[li_mvtvar_model+['Treatment']].dropna()\n",
    "\n",
    "#########################  Split into training and validation (for parameter tuning) & dummies\n",
    "#split into train, test and put into good format\n",
    "X_train = df_model[li_mvtvar_model].values\n",
    "y_train = df_model['Treatment'].values\n",
    "y_train = np.ravel(y_train) #from (x,1) to (x,)\n",
    "val_size = 0.2\n",
    "X_train_tuning, X_val_tuning, y_train_tuning, y_val_tuning = train_test_split(X_train, y_train, \n",
    "                                                                              test_size=val_size, random_state=rs)\n",
    "#var name\n",
    "var_name = df_model[li_mvtvar_model].columns\n",
    "#fit model\n",
    "#define model and fit on training dataset\n",
    "mod_final = RandomForestClassifier(max_depth=3, max_features='auto',\n",
    "                  min_impurity_decrease=0.0001, min_samples_leaf=3,\n",
    "                  min_samples_split=10, n_estimators=20)\n",
    "mod_final.fit(X_train_tuning, y_train_tuning)\n",
    "round(mod_final.score(X_train_tuning, y_train_tuning),3), round(mod_final.score(X_val_tuning, y_val_tuning),3)"
   ]
  },
  {
   "cell_type": "code",
   "execution_count": null,
   "metadata": {},
   "outputs": [],
   "source": []
  },
  {
   "cell_type": "code",
   "execution_count": null,
   "metadata": {},
   "outputs": [],
   "source": []
  },
  {
   "cell_type": "code",
   "execution_count": null,
   "metadata": {},
   "outputs": [],
   "source": []
  }
 ],
 "metadata": {
  "kernelspec": {
   "display_name": "Python 3",
   "language": "python",
   "name": "python3"
  },
  "language_info": {
   "codemirror_mode": {
    "name": "ipython",
    "version": 3
   },
   "file_extension": ".py",
   "mimetype": "text/x-python",
   "name": "python",
   "nbconvert_exporter": "python",
   "pygments_lexer": "ipython3",
   "version": "3.8.5"
  }
 },
 "nbformat": 4,
 "nbformat_minor": 2
}
