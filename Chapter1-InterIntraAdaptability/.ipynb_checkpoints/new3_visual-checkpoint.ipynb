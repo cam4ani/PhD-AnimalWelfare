{
 "cells": [
  {
   "cell_type": "code",
   "execution_count": 1,
   "metadata": {},
   "outputs": [
    {
     "name": "stderr",
     "output_type": "stream",
     "text": [
      "C:\\Users\\camil\\anaconda3\\lib\\site-packages\\outdated\\utils.py:14: OutdatedPackageWarning: The package pingouin is out of date. Your version is 0.3.8, the latest is 0.4.0.\n",
      "Set the environment variable OUTDATED_IGNORE=1 to disable these warnings.\n",
      "  return warn(\n",
      "C:\\Users\\camil\\anaconda3\\lib\\site-packages\\outdated\\utils.py:14: OutdatedPackageWarning: The package outdated is out of date. Your version is 0.2.0, the latest is 0.2.1.\n",
      "Set the environment variable OUTDATED_IGNORE=1 to disable these warnings.\n",
      "  return warn(\n"
     ]
    }
   ],
   "source": [
    "#basic package\n",
    "import tqdm\n",
    "import os\n",
    "import numpy as np\n",
    "import glob\n",
    "import pandas as pd\n",
    "import sys\n",
    "import time\n",
    "import datetime as dt\n",
    "import itertools\n",
    "import re\n",
    "import math\n",
    "from collections import Counter\n",
    "import operator\n",
    "from scipy import stats\n",
    "from scipy.spatial.distance import cdist #for euclidean distance of consistency t\n",
    "from numpy import inf\n",
    "import networkx as nx\n",
    "from dtaidistance import dtw\n",
    "import random\n",
    "from sklearn.preprocessing import normalize\n",
    "import pickle\n",
    "from collections import defaultdict\n",
    "import random\n",
    "import statistics as st #for the mode\n",
    "from sklearn.ensemble import RandomForestRegressor, RandomForestClassifier\n",
    "from sklearn.model_selection import GridSearchCV\n",
    "from sklearn.model_selection import train_test_split\n",
    "from scipy.stats import pearsonr, spearmanr\n",
    "#repeated measures correlation\n",
    "import pingouin as pg\n",
    "from sklearn.utils import shuffle\n",
    "import random\n",
    "from scipy import stats\n",
    "\n",
    "#plot\n",
    "import joypy # for ridgeplot\n",
    "import matplotlib.pyplot as plt\n",
    "import seaborn as sns"
   ]
  },
  {
   "cell_type": "code",
   "execution_count": 2,
   "metadata": {},
   "outputs": [
    {
     "name": "stdout",
     "output_type": "stream",
     "text": [
      "2\n"
     ]
    },
    {
     "name": "stderr",
     "output_type": "stream",
     "text": [
      "C:\\Users\\camil\\anaconda3\\lib\\site-packages\\scipy\\sparse\\sparsetools.py:21: DeprecationWarning: `scipy.sparse.sparsetools` is deprecated!\n",
      "scipy.sparse.sparsetools is a private module for scipy.sparse, and should not be used.\n",
      "  _deprecated()\n"
     ]
    }
   ],
   "source": [
    "PACKAGE_PARENT = '../'\n",
    "SCRIPT_DIR = os.path.dirname(os.path.realpath(os.path.join(os.getcwd(), os.path.expanduser('__file__'))))\n",
    "sys.path.append(os.path.normpath(os.path.join(SCRIPT_DIR, PACKAGE_PARENT)))\n",
    "from UTILS import kmeans_clustering, sampen, chi2_distance, ts_visual, correct_key, chi2_distance, most_frequent, mssd\n",
    "import config_origins as config"
   ]
  },
  {
   "cell_type": "markdown",
   "metadata": {},
   "source": [
    "# Define parameters"
   ]
  },
  {
   "cell_type": "code",
   "execution_count": 3,
   "metadata": {
    "scrolled": true
   },
   "outputs": [
    {
     "name": "stdout",
     "output_type": "stream",
     "text": [
      "change the configuration file if not done yet!\n",
      "ALLDATA_\n"
     ]
    },
    {
     "name": "stderr",
     "output_type": "stream",
     "text": [
      "C:\\Users\\camil\\anaconda3\\lib\\site-packages\\ipykernel\\ipkernel.py:283: DeprecationWarning: `should_run_async` will not call `transform_cell` automatically in the future. Please pass the result to `transformed_cell` argument and any exception that happen during thetransform in `preprocessing_exc_tuple` in IPython 7.17 and above.\n",
      "  and should_run_async(code)\n"
     ]
    }
   ],
   "source": [
    "print('change the configuration file if not done yet!')\n",
    "path_extracted_data = config.path_extracted_data\n",
    "path_initial_data = config.path_initial_data\n",
    "id_run = config.id_run\n",
    "dico_matching = config.dico_matching\n",
    "li_binmn = config.li_binmn\n",
    "pal_class_treat = config.pal_class_treat\n",
    "pal_treat = config.pal_treat\n",
    "pal_class = config.pal_class\n",
    "birth_date = config.birth_date\n",
    "dico_night_hour = config.dico_night_hour\n",
    "pal_interintre_treatment = config.pal_interintre_treatment\n",
    "max_date_adaptability = config.max_date_adaptability\n",
    "dico_pen_tr = config.dico_pen_tr\n",
    "path_extracted_data_visual = os.path.join(path_extracted_data,'visual')\n",
    "path_extracted_data_visual_corr = os.path.join(path_extracted_data,'visual','correlation')\n",
    "if not os.path.exists(path_extracted_data_visual_corr):\n",
    "    os.makedirs(path_extracted_data_visual_corr)\n",
    "path_extracted_data_adap = os.path.join(path_extracted_data,'Adaptability')\n",
    "print(id_run)"
   ]
  },
  {
   "cell_type": "code",
   "execution_count": 4,
   "metadata": {},
   "outputs": [
    {
     "name": "stderr",
     "output_type": "stream",
     "text": [
      "C:\\Users\\camil\\anaconda3\\lib\\site-packages\\ipykernel\\ipkernel.py:283: DeprecationWarning: `should_run_async` will not call `transform_cell` automatically in the future. Please pass the result to `transformed_cell` argument and any exception that happen during thetransform in `preprocessing_exc_tuple` in IPython 7.17 and above.\n",
      "  and should_run_async(code)\n"
     ]
    },
    {
     "name": "stdout",
     "output_type": "stream",
     "text": [
      "(5259, 39)\n"
     ]
    },
    {
     "data": {
      "text/html": [
       "<div>\n",
       "<style scoped>\n",
       "    .dataframe tbody tr th:only-of-type {\n",
       "        vertical-align: middle;\n",
       "    }\n",
       "\n",
       "    .dataframe tbody tr th {\n",
       "        vertical-align: top;\n",
       "    }\n",
       "\n",
       "    .dataframe thead th {\n",
       "        text-align: right;\n",
       "    }\n",
       "</style>\n",
       "<table border=\"1\" class=\"dataframe\">\n",
       "  <thead>\n",
       "    <tr style=\"text-align: right;\">\n",
       "      <th></th>\n",
       "      <th>WIB</th>\n",
       "      <th>HenID</th>\n",
       "      <th>DIB</th>\n",
       "      <th>avgDIB</th>\n",
       "      <th>CLASS</th>\n",
       "      <th>TrackingSystemID</th>\n",
       "      <th>PenID</th>\n",
       "      <th>temperature_C_avg</th>\n",
       "      <th>early_death</th>\n",
       "      <th>RearingPenID</th>\n",
       "      <th>...</th>\n",
       "      <th>normalize_nbr_stays_3_Zone_perh</th>\n",
       "      <th>normalize_nbr_stays_5_Zone_perh</th>\n",
       "      <th>normalize_nbr_stays_1_Zone_perh</th>\n",
       "      <th>normalize_in_WG_15mnAfterOpening</th>\n",
       "      <th>normalize_distribution_entropy</th>\n",
       "      <th>normalize_SleepingHeight</th>\n",
       "      <th>normalize_vertical_travel_distance_perh</th>\n",
       "      <th>tuple_PCA</th>\n",
       "      <th>PC1</th>\n",
       "      <th>PC1_standardized</th>\n",
       "    </tr>\n",
       "  </thead>\n",
       "  <tbody>\n",
       "    <tr>\n",
       "      <th>0</th>\n",
       "      <td>2</td>\n",
       "      <td>hen_131</td>\n",
       "      <td>11</td>\n",
       "      <td>12.0</td>\n",
       "      <td>Other</td>\n",
       "      <td>TrackingSystem 10-12</td>\n",
       "      <td>pen10</td>\n",
       "      <td>11.500000</td>\n",
       "      <td>0.0</td>\n",
       "      <td>4.0</td>\n",
       "      <td>...</td>\n",
       "      <td>0.014308</td>\n",
       "      <td>0.004293</td>\n",
       "      <td>0.0</td>\n",
       "      <td>0.0</td>\n",
       "      <td>0.016652</td>\n",
       "      <td>0.071542</td>\n",
       "      <td>0.035771</td>\n",
       "      <td>[[0.69559999 0.08595714]]</td>\n",
       "      <td>0.695600</td>\n",
       "      <td>1.326127</td>\n",
       "    </tr>\n",
       "    <tr>\n",
       "      <th>1</th>\n",
       "      <td>2</td>\n",
       "      <td>hen_131</td>\n",
       "      <td>12</td>\n",
       "      <td>12.0</td>\n",
       "      <td>Other</td>\n",
       "      <td>TrackingSystem 10-12</td>\n",
       "      <td>pen10</td>\n",
       "      <td>10.166667</td>\n",
       "      <td>0.0</td>\n",
       "      <td>4.0</td>\n",
       "      <td>...</td>\n",
       "      <td>0.014071</td>\n",
       "      <td>0.001407</td>\n",
       "      <td>0.0</td>\n",
       "      <td>0.0</td>\n",
       "      <td>0.016041</td>\n",
       "      <td>0.070356</td>\n",
       "      <td>0.029550</td>\n",
       "      <td>[[0.69962188 0.01017705]]</td>\n",
       "      <td>0.699622</td>\n",
       "      <td>1.334329</td>\n",
       "    </tr>\n",
       "    <tr>\n",
       "      <th>2</th>\n",
       "      <td>2</td>\n",
       "      <td>hen_131</td>\n",
       "      <td>13</td>\n",
       "      <td>12.0</td>\n",
       "      <td>Other</td>\n",
       "      <td>TrackingSystem 10-12</td>\n",
       "      <td>pen10</td>\n",
       "      <td>9.000000</td>\n",
       "      <td>0.0</td>\n",
       "      <td>4.0</td>\n",
       "      <td>...</td>\n",
       "      <td>0.014167</td>\n",
       "      <td>0.007083</td>\n",
       "      <td>0.0</td>\n",
       "      <td>0.0</td>\n",
       "      <td>0.030777</td>\n",
       "      <td>0.053125</td>\n",
       "      <td>0.042500</td>\n",
       "      <td>[[ 0.11685466 -0.0045776 ]]</td>\n",
       "      <td>0.116855</td>\n",
       "      <td>0.145793</td>\n",
       "    </tr>\n",
       "  </tbody>\n",
       "</table>\n",
       "<p>3 rows × 39 columns</p>\n",
       "</div>"
      ],
      "text/plain": [
       "   WIB    HenID  DIB  avgDIB  CLASS      TrackingSystemID  PenID  \\\n",
       "0    2  hen_131   11    12.0  Other  TrackingSystem 10-12  pen10   \n",
       "1    2  hen_131   12    12.0  Other  TrackingSystem 10-12  pen10   \n",
       "2    2  hen_131   13    12.0  Other  TrackingSystem 10-12  pen10   \n",
       "\n",
       "   temperature_C_avg  early_death  RearingPenID  ...  \\\n",
       "0          11.500000          0.0           4.0  ...   \n",
       "1          10.166667          0.0           4.0  ...   \n",
       "2           9.000000          0.0           4.0  ...   \n",
       "\n",
       "   normalize_nbr_stays_3_Zone_perh normalize_nbr_stays_5_Zone_perh  \\\n",
       "0                         0.014308                        0.004293   \n",
       "1                         0.014071                        0.001407   \n",
       "2                         0.014167                        0.007083   \n",
       "\n",
       "   normalize_nbr_stays_1_Zone_perh  normalize_in_WG_15mnAfterOpening  \\\n",
       "0                              0.0                               0.0   \n",
       "1                              0.0                               0.0   \n",
       "2                              0.0                               0.0   \n",
       "\n",
       "   normalize_distribution_entropy  normalize_SleepingHeight  \\\n",
       "0                        0.016652                  0.071542   \n",
       "1                        0.016041                  0.070356   \n",
       "2                        0.030777                  0.053125   \n",
       "\n",
       "   normalize_vertical_travel_distance_perh                    tuple_PCA  \\\n",
       "0                                 0.035771    [[0.69559999 0.08595714]]   \n",
       "1                                 0.029550    [[0.69962188 0.01017705]]   \n",
       "2                                 0.042500  [[ 0.11685466 -0.0045776 ]]   \n",
       "\n",
       "        PC1  PC1_standardized  \n",
       "0  0.695600          1.326127  \n",
       "1  0.699622          1.334329  \n",
       "2  0.116855          0.145793  \n",
       "\n",
       "[3 rows x 39 columns]"
      ]
     },
     "execution_count": 4,
     "metadata": {},
     "output_type": "execute_result"
    }
   ],
   "source": [
    "df_MVT = pd.read_csv(os.path.join(path_extracted_data_adap,'df_MVT_4individuality.csv'), sep=';')\n",
    "print(df_MVT.shape)\n",
    "df_MVT.head(3)"
   ]
  },
  {
   "cell_type": "markdown",
   "metadata": {},
   "source": [
    "# Estimates - Individuality plasticity and intercept"
   ]
  },
  {
   "cell_type": "code",
   "execution_count": 5,
   "metadata": {},
   "outputs": [
    {
     "name": "stdout",
     "output_type": "stream",
     "text": [
      "(260, 6)\n"
     ]
    },
    {
     "name": "stderr",
     "output_type": "stream",
     "text": [
      "C:\\Users\\camil\\anaconda3\\lib\\site-packages\\ipykernel\\ipkernel.py:283: DeprecationWarning: `should_run_async` will not call `transform_cell` automatically in the future. Please pass the result to `transformed_cell` argument and any exception that happen during thetransform in `preprocessing_exc_tuple` in IPython 7.17 and above.\n",
      "  and should_run_async(code)\n"
     ]
    },
    {
     "data": {
      "text/html": [
       "<div>\n",
       "<style scoped>\n",
       "    .dataframe tbody tr th:only-of-type {\n",
       "        vertical-align: middle;\n",
       "    }\n",
       "\n",
       "    .dataframe tbody tr th {\n",
       "        vertical-align: top;\n",
       "    }\n",
       "\n",
       "    .dataframe thead th {\n",
       "        text-align: right;\n",
       "    }\n",
       "</style>\n",
       "<table border=\"1\" class=\"dataframe\">\n",
       "  <thead>\n",
       "    <tr style=\"text-align: right;\">\n",
       "      <th></th>\n",
       "      <th>groupFctr</th>\n",
       "      <th>groupID</th>\n",
       "      <th>term</th>\n",
       "      <th>mean</th>\n",
       "      <th>median</th>\n",
       "      <th>sd</th>\n",
       "    </tr>\n",
       "  </thead>\n",
       "  <tbody>\n",
       "    <tr>\n",
       "      <th>0</th>\n",
       "      <td>HenID</td>\n",
       "      <td>hen_1</td>\n",
       "      <td>BLUP_int</td>\n",
       "      <td>-0.812860</td>\n",
       "      <td>-0.814168</td>\n",
       "      <td>0.138919</td>\n",
       "    </tr>\n",
       "    <tr>\n",
       "      <th>1</th>\n",
       "      <td>HenID</td>\n",
       "      <td>hen_10</td>\n",
       "      <td>BLUP_int</td>\n",
       "      <td>-0.478557</td>\n",
       "      <td>-0.479925</td>\n",
       "      <td>0.149968</td>\n",
       "    </tr>\n",
       "    <tr>\n",
       "      <th>2</th>\n",
       "      <td>HenID</td>\n",
       "      <td>hen_101</td>\n",
       "      <td>BLUP_int</td>\n",
       "      <td>0.901719</td>\n",
       "      <td>0.903778</td>\n",
       "      <td>0.165586</td>\n",
       "    </tr>\n",
       "  </tbody>\n",
       "</table>\n",
       "</div>"
      ],
      "text/plain": [
       "  groupFctr  groupID      term      mean    median        sd\n",
       "0     HenID    hen_1  BLUP_int -0.812860 -0.814168  0.138919\n",
       "1     HenID   hen_10  BLUP_int -0.478557 -0.479925  0.149968\n",
       "2     HenID  hen_101  BLUP_int  0.901719  0.903778  0.165586"
      ]
     },
     "execution_count": 5,
     "metadata": {},
     "output_type": "execute_result"
    }
   ],
   "source": [
    "#download ind plasticity and intercepts\n",
    "df_ind = pd.read_csv(os.path.join(path_extracted_data_adap,'Individuality.csv'), sep=',')\n",
    "dico_ = {'(Intercept)':'BLUP_int', 'cDIB':'BLUP_slopes'}\n",
    "df_ind['term'] = df_ind['term'].map(lambda x: dico_[x])\n",
    "print(df_ind.shape)\n",
    "df_ind.head(3)"
   ]
  },
  {
   "cell_type": "code",
   "execution_count": 6,
   "metadata": {},
   "outputs": [
    {
     "name": "stderr",
     "output_type": "stream",
     "text": [
      "C:\\Users\\camil\\anaconda3\\lib\\site-packages\\ipykernel\\ipkernel.py:283: DeprecationWarning: `should_run_async` will not call `transform_cell` automatically in the future. Please pass the result to `transformed_cell` argument and any exception that happen during thetransform in `preprocessing_exc_tuple` in IPython 7.17 and above.\n",
      "  and should_run_async(code)\n"
     ]
    },
    {
     "data": {
      "text/plain": [
       "(array(['HenID'], dtype=object),\n",
       " array(['BLUP_int', 'BLUP_slopes'], dtype=object))"
      ]
     },
     "execution_count": 6,
     "metadata": {},
     "output_type": "execute_result"
    }
   ],
   "source": [
    "df_ind['groupFctr'].unique(), df_ind['term'].unique()"
   ]
  },
  {
   "cell_type": "code",
   "execution_count": 7,
   "metadata": {},
   "outputs": [
    {
     "name": "stdout",
     "output_type": "stream",
     "text": [
      "['hen_123', 'hen_58']\n",
      "['hen_135', 'hen_123']\n",
      "selected hens: hen_135 hen_123 hen_58 hen_80 hen_17\n"
     ]
    },
    {
     "name": "stderr",
     "output_type": "stream",
     "text": [
      "C:\\Users\\camil\\anaconda3\\lib\\site-packages\\ipykernel\\ipkernel.py:283: DeprecationWarning: `should_run_async` will not call `transform_cell` automatically in the future. Please pass the result to `transformed_cell` argument and any exception that happen during thetransform in `preprocessing_exc_tuple` in IPython 7.17 and above.\n",
      "  and should_run_async(code)\n"
     ]
    }
   ],
   "source": [
    "#select 5 hens to highlight within the plot: two most extremes intercept (min, max), two most extreme plasticity (min, max) \n",
    "#and one?\n",
    "#add info in both datasets\n",
    "li = df_ind[df_ind['term']=='BLUP_int'].sort_values('mean', ascending=True)['groupID'].tolist()\n",
    "li_int = [li[-1], li[0]]\n",
    "print(li_int)\n",
    "li = df_ind[df_ind['term']=='BLUP_slopes'].sort_values('mean', ascending=True)['groupID'].tolist()\n",
    "li_plasticity = [li[-1], li[0]]\n",
    "print(li_plasticity)\n",
    "li_hen_visual = list(set(li_int+li_plasticity))\n",
    "#add random ones s taht toal sum to 5\n",
    "random.seed(0)\n",
    "li_r = random.sample([x for x in df_ind['groupID'].unique() if x not in li_hen_visual], 5-len(li_hen_visual))\n",
    "li_hen_visual = li_hen_visual + li_r\n",
    "print('selected hens: %s' %' '.join(li_hen_visual))\n",
    "#df_ind['HenID '] = df_ind['HenID'].map(lambda x: 'Others' if x not in li_hen_visual else x)"
   ]
  },
  {
   "cell_type": "code",
   "execution_count": 8,
   "metadata": {},
   "outputs": [
    {
     "name": "stderr",
     "output_type": "stream",
     "text": [
      "C:\\Users\\camil\\anaconda3\\lib\\site-packages\\ipykernel\\ipkernel.py:283: DeprecationWarning: `should_run_async` will not call `transform_cell` automatically in the future. Please pass the result to `transformed_cell` argument and any exception that happen during thetransform in `preprocessing_exc_tuple` in IPython 7.17 and above.\n",
      "  and should_run_async(code)\n"
     ]
    }
   ],
   "source": [
    "#choose color: https://matplotlib.org/stable/gallery/color/named_colors.html\n",
    "li_nicecolor = ['lime','cyan','fuchsia','orange','yellow','red','blue']\n",
    "li_all_hen =  df_ind['groupID'].unique()\n",
    "pal_ = {henID:'black' for henID in li_all_hen}\n",
    "pal_ = {'Other Hens':'black'}\n",
    "#pal_['hen_48:pen4'] = 'violet'\n",
    "#pal_['hen_47:pen12'] = 'fuchsia'\n",
    "#pal_['hen_69:pen8'] = 'cyan'\n",
    "#pal_['hen_57:pen10'] = 'blue'\n",
    "for i,henID in enumerate(li_hen_visual):\n",
    "    pal_[henID] = li_nicecolor[i]"
   ]
  },
  {
   "cell_type": "code",
   "execution_count": 9,
   "metadata": {},
   "outputs": [
    {
     "name": "stderr",
     "output_type": "stream",
     "text": [
      "C:\\Users\\camil\\anaconda3\\lib\\site-packages\\ipykernel\\ipkernel.py:283: DeprecationWarning: `should_run_async` will not call `transform_cell` automatically in the future. Please pass the result to `transformed_cell` argument and any exception that happen during thetransform in `preprocessing_exc_tuple` in IPython 7.17 and above.\n",
      "  and should_run_async(code)\n"
     ]
    },
    {
     "data": {
      "image/png": "[encoded data removed]",
      "text/plain": [
       "<Figure size 468x360 with 1 Axes>"
      ]
     },
     "metadata": {},
     "output_type": "display_data"
    }
   ],
   "source": [
    "sns.set(rc={'figure.figsize':(6.5,5)})\n",
    "df_plt = df_ind[df_ind['term']=='BLUP_int'].sort_values(['mean'])\n",
    "df_plt[' '] = df_plt['groupID'].map(lambda x: x if x in li_hen_visual else 'Other Hens')\n",
    "df_plt['color'] = df_plt[' '].map(lambda x: pal_[x])\n",
    "#hue_order = li_hen_visual + ['Other Hens']\n",
    "ax = sns.boxplot(x='groupID', y='mean', data=df_plt, color='grey');\n",
    "ax.errorbar(df_plt['groupID'], df_plt['mean'], yerr=df_plt['sd'],fmt=' ', zorder=-1, alpha=0.5, \n",
    "            color=df_plt['color'].tolist());\n",
    "plt.xticks([]) #remove xlabel annotations\n",
    "plt.xlabel('HenID')\n",
    "plt.ylabel('Intercepts BLUP estimates');\n",
    "plt.axhline(y=0, linewidth=2, color = 'k')\n",
    "plt.savefig(os.path.join(path_extracted_data_adap,'estimatesintercepts.png'), bbox_inches='tight')\n",
    "plt.show();"
   ]
  },
  {
   "cell_type": "code",
   "execution_count": 10,
   "metadata": {},
   "outputs": [
    {
     "name": "stderr",
     "output_type": "stream",
     "text": [
      "C:\\Users\\camil\\anaconda3\\lib\\site-packages\\ipykernel\\ipkernel.py:283: DeprecationWarning: `should_run_async` will not call `transform_cell` automatically in the future. Please pass the result to `transformed_cell` argument and any exception that happen during thetransform in `preprocessing_exc_tuple` in IPython 7.17 and above.\n",
      "  and should_run_async(code)\n"
     ]
    },
    {
     "data": {
      "image/png": "[encoded data removed]",
      "text/plain": [
       "<Figure size 468x360 with 1 Axes>"
      ]
     },
     "metadata": {},
     "output_type": "display_data"
    }
   ],
   "source": [
    "sns.set(rc={'figure.figsize':(6.5,5)})\n",
    "df_plt = df_ind[df_ind['term']=='BLUP_slopes'].sort_values(['mean'])\n",
    "df_plt[' '] = df_plt['groupID'].map(lambda x: x if x in li_hen_visual else 'Other Hens')\n",
    "df_plt['color'] = df_plt[' '].map(lambda x: pal_[x])\n",
    "ax = sns.boxplot(x='groupID', y='mean', data=df_plt, color='grey');\n",
    "ax.errorbar(df_plt['groupID'], df_plt['mean'], yerr=df_plt['sd'],fmt=' ', zorder=-1, alpha=0.5, \n",
    "            color=df_plt['color'].tolist());\n",
    "plt.xticks([]) #remove xlabel annotations\n",
    "plt.xlabel('HenID')\n",
    "plt.ylabel('Slopes BLUP estimates');\n",
    "plt.axhline(y=0, linewidth=2, color = 'k')\n",
    "plt.savefig(os.path.join(path_extracted_data_adap,'estimatesplasticity.png'), bbox_inches='tight')\n",
    "plt.show();"
   ]
  },
  {
   "cell_type": "code",
   "execution_count": 11,
   "metadata": {},
   "outputs": [
    {
     "name": "stderr",
     "output_type": "stream",
     "text": [
      "C:\\Users\\camil\\anaconda3\\lib\\site-packages\\ipykernel\\ipkernel.py:283: DeprecationWarning: `should_run_async` will not call `transform_cell` automatically in the future. Please pass the result to `transformed_cell` argument and any exception that happen during thetransform in `preprocessing_exc_tuple` in IPython 7.17 and above.\n",
      "  and should_run_async(code)\n"
     ]
    },
    {
     "data": {
      "text/html": [
       "<div>\n",
       "<style scoped>\n",
       "    .dataframe tbody tr th:only-of-type {\n",
       "        vertical-align: middle;\n",
       "    }\n",
       "\n",
       "    .dataframe tbody tr th {\n",
       "        vertical-align: top;\n",
       "    }\n",
       "\n",
       "    .dataframe thead th {\n",
       "        text-align: right;\n",
       "    }\n",
       "</style>\n",
       "<table border=\"1\" class=\"dataframe\">\n",
       "  <thead>\n",
       "    <tr style=\"text-align: right;\">\n",
       "      <th></th>\n",
       "      <th>groupFctr</th>\n",
       "      <th>groupID</th>\n",
       "      <th>term</th>\n",
       "      <th>mean</th>\n",
       "      <th>median</th>\n",
       "      <th>sd</th>\n",
       "    </tr>\n",
       "  </thead>\n",
       "  <tbody>\n",
       "    <tr>\n",
       "      <th>0</th>\n",
       "      <td>HenID</td>\n",
       "      <td>hen_1</td>\n",
       "      <td>BLUP_int</td>\n",
       "      <td>-0.812860</td>\n",
       "      <td>-0.814168</td>\n",
       "      <td>0.138919</td>\n",
       "    </tr>\n",
       "    <tr>\n",
       "      <th>1</th>\n",
       "      <td>HenID</td>\n",
       "      <td>hen_10</td>\n",
       "      <td>BLUP_int</td>\n",
       "      <td>-0.478557</td>\n",
       "      <td>-0.479925</td>\n",
       "      <td>0.149968</td>\n",
       "    </tr>\n",
       "    <tr>\n",
       "      <th>2</th>\n",
       "      <td>HenID</td>\n",
       "      <td>hen_101</td>\n",
       "      <td>BLUP_int</td>\n",
       "      <td>0.901719</td>\n",
       "      <td>0.903778</td>\n",
       "      <td>0.165586</td>\n",
       "    </tr>\n",
       "  </tbody>\n",
       "</table>\n",
       "</div>"
      ],
      "text/plain": [
       "  groupFctr  groupID      term      mean    median        sd\n",
       "0     HenID    hen_1  BLUP_int -0.812860 -0.814168  0.138919\n",
       "1     HenID   hen_10  BLUP_int -0.478557 -0.479925  0.149968\n",
       "2     HenID  hen_101  BLUP_int  0.901719  0.903778  0.165586"
      ]
     },
     "execution_count": 11,
     "metadata": {},
     "output_type": "execute_result"
    }
   ],
   "source": [
    "df_ind.head(3)"
   ]
  },
  {
   "cell_type": "code",
   "execution_count": 12,
   "metadata": {},
   "outputs": [
    {
     "name": "stderr",
     "output_type": "stream",
     "text": [
      "C:\\Users\\camil\\anaconda3\\lib\\site-packages\\ipykernel\\ipkernel.py:283: DeprecationWarning: `should_run_async` will not call `transform_cell` automatically in the future. Please pass the result to `transformed_cell` argument and any exception that happen during thetransform in `preprocessing_exc_tuple` in IPython 7.17 and above.\n",
      "  and should_run_async(code)\n"
     ]
    },
    {
     "data": {
      "image/png": "[encoded data removed]",
      "text/plain": [
       "<Figure size 468x360 with 1 Axes>"
      ]
     },
     "metadata": {},
     "output_type": "display_data"
    }
   ],
   "source": [
    "# correaltion\n",
    "sns.set(rc={'figure.figsize':(6.5,5)})\n",
    "pal_all = {k.split(':')[0]:v for k,v in pal_.items()}\n",
    "hue_order_all=[h.split(':')[0] for h in li_hen_visual]+['Other Hens']\n",
    "df_corr = df_ind.pivot(columns='term',index='groupID', values='mean').reset_index()\n",
    "df_corr['HenID '] = df_corr['groupID'].map(lambda x: 'Other Hens' if x not in li_hen_visual else x)\n",
    "sns.scatterplot(x='BLUP_int', y='BLUP_slopes', data=df_corr, hue='HenID ', palette=pal_all, hue_order=hue_order_all,\n",
    "               legend=False);\n",
    "plt.text(-1.3, -0.037, 'corr=-0.85', size=15)\n",
    "plt.savefig(os.path.join(path_extracted_data_adap,'RSlopesVSestiamtes.png'), bbox_inches='tight')"
   ]
  },
  {
   "cell_type": "markdown",
   "metadata": {},
   "source": [
    "# Raw data"
   ]
  },
  {
   "cell_type": "code",
   "execution_count": 13,
   "metadata": {},
   "outputs": [
    {
     "name": "stderr",
     "output_type": "stream",
     "text": [
      "C:\\Users\\camil\\anaconda3\\lib\\site-packages\\ipykernel\\ipkernel.py:283: DeprecationWarning: `should_run_async` will not call `transform_cell` automatically in the future. Please pass the result to `transformed_cell` argument and any exception that happen during thetransform in `preprocessing_exc_tuple` in IPython 7.17 and above.\n",
      "  and should_run_async(code)\n"
     ]
    },
    {
     "data": {
      "text/plain": [
       "Other Hens    5067\n",
       "hen_135         42\n",
       "hen_123         39\n",
       "hen_80          39\n",
       "hen_58          39\n",
       "hen_17          33\n",
       "Name: HenID , dtype: int64"
      ]
     },
     "metadata": {},
     "output_type": "display_data"
    },
    {
     "name": "stdout",
     "output_type": "stream",
     "text": [
      "(5259, 45)\n"
     ]
    },
    {
     "data": {
      "text/html": [
       "<div>\n",
       "<style scoped>\n",
       "    .dataframe tbody tr th:only-of-type {\n",
       "        vertical-align: middle;\n",
       "    }\n",
       "\n",
       "    .dataframe tbody tr th {\n",
       "        vertical-align: top;\n",
       "    }\n",
       "\n",
       "    .dataframe thead th {\n",
       "        text-align: right;\n",
       "    }\n",
       "</style>\n",
       "<table border=\"1\" class=\"dataframe\">\n",
       "  <thead>\n",
       "    <tr style=\"text-align: right;\">\n",
       "      <th></th>\n",
       "      <th>WIB</th>\n",
       "      <th>HenID</th>\n",
       "      <th>DIB</th>\n",
       "      <th>avgDIB</th>\n",
       "      <th>CLASS</th>\n",
       "      <th>TrackingSystemID</th>\n",
       "      <th>PenID</th>\n",
       "      <th>temperature_C_avg</th>\n",
       "      <th>early_death</th>\n",
       "      <th>RearingPenID</th>\n",
       "      <th>...</th>\n",
       "      <th>normalize_vertical_travel_distance_perh</th>\n",
       "      <th>tuple_PCA</th>\n",
       "      <th>PC1</th>\n",
       "      <th>PC1_standardized</th>\n",
       "      <th>cDIB</th>\n",
       "      <th>cDIBfact</th>\n",
       "      <th>InitialWeight_kg</th>\n",
       "      <th>pred_pop</th>\n",
       "      <th>pred_HenID</th>\n",
       "      <th>HenID</th>\n",
       "    </tr>\n",
       "  </thead>\n",
       "  <tbody>\n",
       "    <tr>\n",
       "      <th>0</th>\n",
       "      <td>2</td>\n",
       "      <td>hen_131</td>\n",
       "      <td>11</td>\n",
       "      <td>12.0</td>\n",
       "      <td>Other</td>\n",
       "      <td>TrackingSystem 10-12</td>\n",
       "      <td>pen10</td>\n",
       "      <td>11.500000</td>\n",
       "      <td>0</td>\n",
       "      <td>4</td>\n",
       "      <td>...</td>\n",
       "      <td>0.035771</td>\n",
       "      <td>[[0.69559999 0.08595714]]</td>\n",
       "      <td>0.695600</td>\n",
       "      <td>1.326127</td>\n",
       "      <td>11</td>\n",
       "      <td>11</td>\n",
       "      <td>1.202</td>\n",
       "      <td>-0.127584</td>\n",
       "      <td>0.560403</td>\n",
       "      <td>Other Hens</td>\n",
       "    </tr>\n",
       "    <tr>\n",
       "      <th>1</th>\n",
       "      <td>2</td>\n",
       "      <td>hen_131</td>\n",
       "      <td>12</td>\n",
       "      <td>12.0</td>\n",
       "      <td>Other</td>\n",
       "      <td>TrackingSystem 10-12</td>\n",
       "      <td>pen10</td>\n",
       "      <td>10.166667</td>\n",
       "      <td>0</td>\n",
       "      <td>4</td>\n",
       "      <td>...</td>\n",
       "      <td>0.029550</td>\n",
       "      <td>[[0.69962188 0.01017705]]</td>\n",
       "      <td>0.699622</td>\n",
       "      <td>1.334329</td>\n",
       "      <td>12</td>\n",
       "      <td>12</td>\n",
       "      <td>1.202</td>\n",
       "      <td>-0.125923</td>\n",
       "      <td>0.552637</td>\n",
       "      <td>Other Hens</td>\n",
       "    </tr>\n",
       "    <tr>\n",
       "      <th>2</th>\n",
       "      <td>2</td>\n",
       "      <td>hen_131</td>\n",
       "      <td>13</td>\n",
       "      <td>12.0</td>\n",
       "      <td>Other</td>\n",
       "      <td>TrackingSystem 10-12</td>\n",
       "      <td>pen10</td>\n",
       "      <td>9.000000</td>\n",
       "      <td>0</td>\n",
       "      <td>4</td>\n",
       "      <td>...</td>\n",
       "      <td>0.042500</td>\n",
       "      <td>[[ 0.11685466 -0.0045776 ]]</td>\n",
       "      <td>0.116855</td>\n",
       "      <td>0.145793</td>\n",
       "      <td>13</td>\n",
       "      <td>13</td>\n",
       "      <td>1.202</td>\n",
       "      <td>-0.123511</td>\n",
       "      <td>0.545620</td>\n",
       "      <td>Other Hens</td>\n",
       "    </tr>\n",
       "  </tbody>\n",
       "</table>\n",
       "<p>3 rows × 45 columns</p>\n",
       "</div>"
      ],
      "text/plain": [
       "   WIB    HenID  DIB  avgDIB  CLASS      TrackingSystemID  PenID  \\\n",
       "0    2  hen_131   11    12.0  Other  TrackingSystem 10-12  pen10   \n",
       "1    2  hen_131   12    12.0  Other  TrackingSystem 10-12  pen10   \n",
       "2    2  hen_131   13    12.0  Other  TrackingSystem 10-12  pen10   \n",
       "\n",
       "   temperature_C_avg  early_death  RearingPenID  ...  \\\n",
       "0          11.500000            0             4  ...   \n",
       "1          10.166667            0             4  ...   \n",
       "2           9.000000            0             4  ...   \n",
       "\n",
       "   normalize_vertical_travel_distance_perh                    tuple_PCA  \\\n",
       "0                                 0.035771    [[0.69559999 0.08595714]]   \n",
       "1                                 0.029550    [[0.69962188 0.01017705]]   \n",
       "2                                 0.042500  [[ 0.11685466 -0.0045776 ]]   \n",
       "\n",
       "        PC1  PC1_standardized  cDIB  cDIBfact  InitialWeight_kg  pred_pop  \\\n",
       "0  0.695600          1.326127    11        11             1.202 -0.127584   \n",
       "1  0.699622          1.334329    12        12             1.202 -0.125923   \n",
       "2  0.116855          0.145793    13        13             1.202 -0.123511   \n",
       "\n",
       "   pred_HenID      HenID   \n",
       "0    0.560403  Other Hens  \n",
       "1    0.552637  Other Hens  \n",
       "2    0.545620  Other Hens  \n",
       "\n",
       "[3 rows x 45 columns]"
      ]
     },
     "execution_count": 13,
     "metadata": {},
     "output_type": "execute_result"
    }
   ],
   "source": [
    "# download ind.plasticity over time\n",
    "df_PL = pd.read_csv(os.path.join(path_extracted_data_adap,'EstimatedPlasticity.csv'), sep=',')\n",
    "#adapt hen and colors\n",
    "df_PL['HenID '] = df_PL['HenID'].map(lambda x: 'Other Hens' if x not in [h.split(':')[0] for h in li_hen_visual] else x)\n",
    "display(df_PL['HenID '].value_counts())\n",
    "print(df_PL.shape)\n",
    "df_PL.head(3)"
   ]
  },
  {
   "cell_type": "code",
   "execution_count": 14,
   "metadata": {},
   "outputs": [
    {
     "name": "stderr",
     "output_type": "stream",
     "text": [
      "C:\\Users\\camil\\anaconda3\\lib\\site-packages\\ipykernel\\ipkernel.py:283: DeprecationWarning: `should_run_async` will not call `transform_cell` automatically in the future. Please pass the result to `transformed_cell` argument and any exception that happen during thetransform in `preprocessing_exc_tuple` in IPython 7.17 and above.\n",
      "  and should_run_async(code)\n"
     ]
    },
    {
     "data": {
      "image/png": "[encoded data removed]",
      "text/plain": [
       "<Figure size 468x360 with 1 Axes>"
      ]
     },
     "metadata": {},
     "output_type": "display_data"
    }
   ],
   "source": [
    "#plot plasticity over time\n",
    "sns.set(rc={'figure.figsize':(6.5,5)})\n",
    "sns.set_theme(style=\"ticks\", font_scale=1.25)\n",
    "sns.scatterplot(x='DIB', y='PC1', data=df_PL[df_PL['HenID ']!='Other Hens'], hue='HenID ', palette=pal_all, \n",
    "                hue_order=hue_order_all, legend=False);\n",
    "sns.lineplot(x='DIB', y='pred_HenID', data=df_PL, hue='HenID ', linestyle=\"dashed\", palette=pal_all, hue_order=hue_order_all,\n",
    "            legend=False);\n",
    "#remove all borders\n",
    "sns.despine(bottom = True, left = True)\n",
    "#plt.title('Individual plasticity');\n",
    "plt.grid()\n",
    "plt.text(11, 1, '─ ─ ─ estimated slopes', color='black')\n",
    "plt.savefig(os.path.join(path_extracted_data_adap,'RawAdnEstimatedPlasticty.png'), bbox_inches='tight')"
   ]
  },
  {
   "cell_type": "raw",
   "metadata": {},
   "source": [
    "We observe a general positive trend in the average vertical travel distance per hour as number of days post-transfer increases, but also that variance in the average vertical travel distance per hour is greater at the first days post-transferd compared to the 40th day post-transfer onward and there appears to be some non-linearity, and therefore we will investigate whether the fixed effect of number of days post-transfer on the average vertical travel distance per hour could be modelled with either a linear model or a quadratic model."
   ]
  },
  {
   "cell_type": "markdown",
   "metadata": {},
   "source": [
    "#plot plasticity over time\n",
    "#TODO: add pred_HenID1.4\n",
    "sns.lineplot(x='DIB', y='pred_HenID1.4', data=df_PL, hue='HenID ', linestyle=\"dashed\", palette=pal_all, hue_order=hue_order_all);\n",
    "plt.title('Individual plasticity');\n",
    "plt.savefig(os.path.join(path_extracted_data_adap,'EstimatedPlastictyOvertime.png'), bbox_inches='tight')"
   ]
  },
  {
   "cell_type": "code",
   "execution_count": 15,
   "metadata": {},
   "outputs": [
    {
     "name": "stderr",
     "output_type": "stream",
     "text": [
      "C:\\Users\\camil\\anaconda3\\lib\\site-packages\\ipykernel\\ipkernel.py:283: DeprecationWarning: `should_run_async` will not call `transform_cell` automatically in the future. Please pass the result to `transformed_cell` argument and any exception that happen during thetransform in `preprocessing_exc_tuple` in IPython 7.17 and above.\n",
      "  and should_run_async(code)\n"
     ]
    },
    {
     "data": {
      "image/png": "[encoded data removed]",
      "text/plain": [
       "<Figure size 432x345.6 with 6 Axes>"
      ]
     },
     "metadata": {},
     "output_type": "display_data"
    }
   ],
   "source": [
    "#initialize the FacetGrid object\n",
    "sns.set_theme(style=\"white\", rc={\"axes.facecolor\": (0, 0, 0, 0)})\n",
    "g = sns.FacetGrid(df_PL, row=\"HenID \", hue=\"HenID \", aspect=7.5, height=0.8, palette=pal_all)\n",
    "#densities\n",
    "g.map(sns.kdeplot, \"PC1\", bw_adjust=.5, clip_on=False, fill=True, alpha=1, linewidth=1.5)\n",
    "g.map(sns.kdeplot, \"PC1\", clip_on=False, color=\"w\", lw=2, bw_adjust=.5)\n",
    "\n",
    "# Define and use a simple function to label the plot in axes coordinates\n",
    "def label(x, color, label):\n",
    "    ax = plt.gca()\n",
    "    ax.text(0, .2, label, fontweight=\"bold\", color=color,\n",
    "            ha=\"left\", va=\"center\", transform=ax.transAxes)\n",
    "g.map(label, \"PC1\")\n",
    "# Set the subplots to overlap\n",
    "g.fig.subplots_adjust(hspace=-.5)\n",
    "\n",
    "# Remove axes details that don't play well with overlap\n",
    "g.set_titles(\"\")\n",
    "g.set(yticks=[], ylabel=\"\")\n",
    "g.despine(bottom=True, left=True);\n",
    "plt.savefig(os.path.join(path_extracted_data_adap,'Rawdensity.png'), bbox_inches='tight')\n",
    "plt.show()"
   ]
  },
  {
   "cell_type": "markdown",
   "metadata": {},
   "source": [
    "# predictability"
   ]
  },
  {
   "cell_type": "code",
   "execution_count": 22,
   "metadata": {},
   "outputs": [
    {
     "name": "stderr",
     "output_type": "stream",
     "text": [
      "C:\\Users\\camil\\anaconda3\\lib\\site-packages\\ipykernel\\ipkernel.py:283: DeprecationWarning: `should_run_async` will not call `transform_cell` automatically in the future. Please pass the result to `transformed_cell` argument and any exception that happen during thetransform in `preprocessing_exc_tuple` in IPython 7.17 and above.\n",
      "  and should_run_async(code)\n"
     ]
    },
    {
     "name": "stdout",
     "output_type": "stream",
     "text": [
      "(400, 406)\n"
     ]
    },
    {
     "data": {
      "text/html": [
       "<div>\n",
       "<style scoped>\n",
       "    .dataframe tbody tr th:only-of-type {\n",
       "        vertical-align: middle;\n",
       "    }\n",
       "\n",
       "    .dataframe tbody tr th {\n",
       "        vertical-align: top;\n",
       "    }\n",
       "\n",
       "    .dataframe thead th {\n",
       "        text-align: right;\n",
       "    }\n",
       "</style>\n",
       "<table border=\"1\" class=\"dataframe\">\n",
       "  <thead>\n",
       "    <tr style=\"text-align: right;\">\n",
       "      <th></th>\n",
       "      <th>b_Intercept</th>\n",
       "      <th>b_sigma_Intercept</th>\n",
       "      <th>b_cDIB</th>\n",
       "      <th>b_RearingPenID2</th>\n",
       "      <th>b_RearingPenID3</th>\n",
       "      <th>b_RearingPenID4</th>\n",
       "      <th>b_InitialWeight_kg</th>\n",
       "      <th>b_TreatmentTRAN</th>\n",
       "      <th>b_CLASSMEXP</th>\n",
       "      <th>b_CLASSOther</th>\n",
       "      <th>...</th>\n",
       "      <th>r_HenID__sigma[hen_9,Intercept]</th>\n",
       "      <th>r_HenID__sigma[hen_90,Intercept]</th>\n",
       "      <th>r_HenID__sigma[hen_91,Intercept]</th>\n",
       "      <th>r_HenID__sigma[hen_92,Intercept]</th>\n",
       "      <th>r_HenID__sigma[hen_94,Intercept]</th>\n",
       "      <th>r_HenID__sigma[hen_95,Intercept]</th>\n",
       "      <th>r_HenID__sigma[hen_97,Intercept]</th>\n",
       "      <th>r_HenID__sigma[hen_98,Intercept]</th>\n",
       "      <th>r_HenID__sigma[hen_99,Intercept]</th>\n",
       "      <th>lp__</th>\n",
       "    </tr>\n",
       "  </thead>\n",
       "  <tbody>\n",
       "    <tr>\n",
       "      <th>0</th>\n",
       "      <td>-1.502368</td>\n",
       "      <td>-1.459729</td>\n",
       "      <td>0.009166</td>\n",
       "      <td>0.124643</td>\n",
       "      <td>-0.104293</td>\n",
       "      <td>-0.068855</td>\n",
       "      <td>0.920143</td>\n",
       "      <td>0.107977</td>\n",
       "      <td>0.187735</td>\n",
       "      <td>0.073322</td>\n",
       "      <td>...</td>\n",
       "      <td>-0.684279</td>\n",
       "      <td>0.237523</td>\n",
       "      <td>0.357630</td>\n",
       "      <td>0.272436</td>\n",
       "      <td>0.201946</td>\n",
       "      <td>-0.214892</td>\n",
       "      <td>-0.032189</td>\n",
       "      <td>0.008862</td>\n",
       "      <td>-0.044924</td>\n",
       "      <td>-332.864552</td>\n",
       "    </tr>\n",
       "    <tr>\n",
       "      <th>1</th>\n",
       "      <td>-1.357350</td>\n",
       "      <td>-1.439377</td>\n",
       "      <td>0.008178</td>\n",
       "      <td>0.073632</td>\n",
       "      <td>-0.159414</td>\n",
       "      <td>-0.075348</td>\n",
       "      <td>0.801563</td>\n",
       "      <td>0.086037</td>\n",
       "      <td>0.193191</td>\n",
       "      <td>0.099874</td>\n",
       "      <td>...</td>\n",
       "      <td>-0.546734</td>\n",
       "      <td>0.148345</td>\n",
       "      <td>0.390555</td>\n",
       "      <td>0.017333</td>\n",
       "      <td>0.163413</td>\n",
       "      <td>-0.028200</td>\n",
       "      <td>-0.592617</td>\n",
       "      <td>0.515050</td>\n",
       "      <td>-0.393083</td>\n",
       "      <td>-348.789574</td>\n",
       "    </tr>\n",
       "    <tr>\n",
       "      <th>2</th>\n",
       "      <td>-1.113682</td>\n",
       "      <td>-1.408631</td>\n",
       "      <td>0.006857</td>\n",
       "      <td>1.439195</td>\n",
       "      <td>-0.105289</td>\n",
       "      <td>1.215522</td>\n",
       "      <td>0.615197</td>\n",
       "      <td>-1.209094</td>\n",
       "      <td>0.204638</td>\n",
       "      <td>0.101599</td>\n",
       "      <td>...</td>\n",
       "      <td>-0.566364</td>\n",
       "      <td>0.073298</td>\n",
       "      <td>0.267359</td>\n",
       "      <td>0.138751</td>\n",
       "      <td>0.245397</td>\n",
       "      <td>-0.275867</td>\n",
       "      <td>-0.356100</td>\n",
       "      <td>0.074139</td>\n",
       "      <td>-0.330081</td>\n",
       "      <td>-335.980036</td>\n",
       "    </tr>\n",
       "  </tbody>\n",
       "</table>\n",
       "<p>3 rows × 406 columns</p>\n",
       "</div>"
      ],
      "text/plain": [
       "   b_Intercept  b_sigma_Intercept    b_cDIB  b_RearingPenID2  b_RearingPenID3  \\\n",
       "0    -1.502368          -1.459729  0.009166         0.124643        -0.104293   \n",
       "1    -1.357350          -1.439377  0.008178         0.073632        -0.159414   \n",
       "2    -1.113682          -1.408631  0.006857         1.439195        -0.105289   \n",
       "\n",
       "   b_RearingPenID4  b_InitialWeight_kg  b_TreatmentTRAN  b_CLASSMEXP  \\\n",
       "0        -0.068855            0.920143         0.107977     0.187735   \n",
       "1        -0.075348            0.801563         0.086037     0.193191   \n",
       "2         1.215522            0.615197        -1.209094     0.204638   \n",
       "\n",
       "   b_CLASSOther  ...  r_HenID__sigma[hen_9,Intercept]  \\\n",
       "0      0.073322  ...                        -0.684279   \n",
       "1      0.099874  ...                        -0.546734   \n",
       "2      0.101599  ...                        -0.566364   \n",
       "\n",
       "   r_HenID__sigma[hen_90,Intercept]  r_HenID__sigma[hen_91,Intercept]  \\\n",
       "0                          0.237523                          0.357630   \n",
       "1                          0.148345                          0.390555   \n",
       "2                          0.073298                          0.267359   \n",
       "\n",
       "   r_HenID__sigma[hen_92,Intercept]  r_HenID__sigma[hen_94,Intercept]  \\\n",
       "0                          0.272436                          0.201946   \n",
       "1                          0.017333                          0.163413   \n",
       "2                          0.138751                          0.245397   \n",
       "\n",
       "   r_HenID__sigma[hen_95,Intercept]  r_HenID__sigma[hen_97,Intercept]  \\\n",
       "0                         -0.214892                         -0.032189   \n",
       "1                         -0.028200                         -0.592617   \n",
       "2                         -0.275867                         -0.356100   \n",
       "\n",
       "   r_HenID__sigma[hen_98,Intercept]  r_HenID__sigma[hen_99,Intercept]  \\\n",
       "0                          0.008862                         -0.044924   \n",
       "1                          0.515050                         -0.393083   \n",
       "2                          0.074139                         -0.330081   \n",
       "\n",
       "         lp__  \n",
       "0 -332.864552  \n",
       "1 -348.789574  \n",
       "2 -335.980036  \n",
       "\n",
       "[3 rows x 406 columns]"
      ]
     },
     "metadata": {},
     "output_type": "display_data"
    },
    {
     "name": "stdout",
     "output_type": "stream",
     "text": [
      "['b_Intercept', 'b_sigma_Intercept', 'b_cDIB', 'b_RearingPenID2', 'b_RearingPenID3', 'b_RearingPenID4', 'b_InitialWeight_kg', 'b_TreatmentTRAN', 'b_CLASSMEXP', 'b_CLASSOther', 'b_temperature_C_avg', 'sd_HenID__Intercept', 'sd_HenID__cDIB', 'sd_HenID__sigma_Intercept', 'cor_HenID__Intercept__cDIB', 'r_HenID[hen_1,Intercept]', 'r_HenID[hen_10,Intercept]', 'r_HenID[hen_101,Intercept]', 'r_HenID[hen_102,Intercept]', 'r_HenID[hen_103,Intercept]', 'r_HenID[hen_104,Intercept]', 'r_HenID[hen_105,Intercept]', 'r_HenID[hen_106,Intercept]', 'r_HenID[hen_107,Intercept]', 'r_HenID[hen_108,Intercept]', 'r_HenID[hen_109,Intercept]', 'r_HenID[hen_110,Intercept]', 'r_HenID[hen_111,Intercept]', 'r_HenID[hen_112,Intercept]', 'r_HenID[hen_113,Intercept]', 'r_HenID[hen_114,Intercept]', 'r_HenID[hen_116,Intercept]', 'r_HenID[hen_117,Intercept]', 'r_HenID[hen_118,Intercept]', 'r_HenID[hen_119,Intercept]', 'r_HenID[hen_12,Intercept]', 'r_HenID[hen_123,Intercept]', 'r_HenID[hen_124,Intercept]', 'r_HenID[hen_126,Intercept]', 'r_HenID[hen_127,Intercept]', 'r_HenID[hen_128,Intercept]', 'r_HenID[hen_13,Intercept]', 'r_HenID[hen_131,Intercept]', 'r_HenID[hen_134,Intercept]', 'r_HenID[hen_135,Intercept]', 'r_HenID[hen_136,Intercept]', 'r_HenID[hen_137,Intercept]', 'r_HenID[hen_138,Intercept]', 'r_HenID[hen_139,Intercept]', 'r_HenID[hen_14,Intercept]', 'r_HenID[hen_140,Intercept]', 'r_HenID[hen_141,Intercept]', 'r_HenID[hen_142,Intercept]', 'r_HenID[hen_143,Intercept]', 'r_HenID[hen_144,Intercept]', 'r_HenID[hen_145,Intercept]', 'r_HenID[hen_146,Intercept]', 'r_HenID[hen_147,Intercept]', 'r_HenID[hen_149,Intercept]', 'r_HenID[hen_150,Intercept]', 'r_HenID[hen_151,Intercept]', 'r_HenID[hen_153,Intercept]', 'r_HenID[hen_154,Intercept]', 'r_HenID[hen_155,Intercept]', 'r_HenID[hen_158,Intercept]', 'r_HenID[hen_159,Intercept]', 'r_HenID[hen_17,Intercept]', 'r_HenID[hen_18,Intercept]', 'r_HenID[hen_19,Intercept]', 'r_HenID[hen_2,Intercept]', 'r_HenID[hen_20,Intercept]', 'r_HenID[hen_21,Intercept]', 'r_HenID[hen_22,Intercept]', 'r_HenID[hen_23,Intercept]', 'r_HenID[hen_24,Intercept]', 'r_HenID[hen_25,Intercept]', 'r_HenID[hen_26,Intercept]', 'r_HenID[hen_27,Intercept]', 'r_HenID[hen_28,Intercept]', 'r_HenID[hen_29,Intercept]', 'r_HenID[hen_3,Intercept]', 'r_HenID[hen_32,Intercept]', 'r_HenID[hen_34,Intercept]', 'r_HenID[hen_39,Intercept]', 'r_HenID[hen_4,Intercept]', 'r_HenID[hen_40,Intercept]', 'r_HenID[hen_41,Intercept]', 'r_HenID[hen_42,Intercept]', 'r_HenID[hen_43,Intercept]', 'r_HenID[hen_44,Intercept]', 'r_HenID[hen_46,Intercept]', 'r_HenID[hen_47,Intercept]', 'r_HenID[hen_48,Intercept]', 'r_HenID[hen_49,Intercept]', 'r_HenID[hen_5,Intercept]', 'r_HenID[hen_50,Intercept]', 'r_HenID[hen_51,Intercept]', 'r_HenID[hen_53,Intercept]', 'r_HenID[hen_54,Intercept]', 'r_HenID[hen_55,Intercept]', 'r_HenID[hen_56,Intercept]', 'r_HenID[hen_57,Intercept]', 'r_HenID[hen_58,Intercept]', 'r_HenID[hen_59,Intercept]', 'r_HenID[hen_6,Intercept]', 'r_HenID[hen_60,Intercept]', 'r_HenID[hen_61,Intercept]', 'r_HenID[hen_62,Intercept]', 'r_HenID[hen_63,Intercept]', 'r_HenID[hen_64,Intercept]', 'r_HenID[hen_65,Intercept]', 'r_HenID[hen_66,Intercept]', 'r_HenID[hen_67,Intercept]', 'r_HenID[hen_68,Intercept]', 'r_HenID[hen_69,Intercept]', 'r_HenID[hen_7,Intercept]', 'r_HenID[hen_70,Intercept]', 'r_HenID[hen_71,Intercept]', 'r_HenID[hen_73,Intercept]', 'r_HenID[hen_74,Intercept]', 'r_HenID[hen_75,Intercept]', 'r_HenID[hen_76,Intercept]', 'r_HenID[hen_77,Intercept]', 'r_HenID[hen_78,Intercept]', 'r_HenID[hen_79,Intercept]', 'r_HenID[hen_8,Intercept]', 'r_HenID[hen_80,Intercept]', 'r_HenID[hen_81,Intercept]', 'r_HenID[hen_82,Intercept]', 'r_HenID[hen_83,Intercept]', 'r_HenID[hen_84,Intercept]', 'r_HenID[hen_85,Intercept]', 'r_HenID[hen_86,Intercept]', 'r_HenID[hen_87,Intercept]', 'r_HenID[hen_88,Intercept]', 'r_HenID[hen_89,Intercept]', 'r_HenID[hen_9,Intercept]', 'r_HenID[hen_90,Intercept]', 'r_HenID[hen_91,Intercept]', 'r_HenID[hen_92,Intercept]', 'r_HenID[hen_94,Intercept]', 'r_HenID[hen_95,Intercept]', 'r_HenID[hen_97,Intercept]', 'r_HenID[hen_98,Intercept]', 'r_HenID[hen_99,Intercept]', 'r_HenID[hen_1,cDIB]', 'r_HenID[hen_10,cDIB]', 'r_HenID[hen_101,cDIB]', 'r_HenID[hen_102,cDIB]', 'r_HenID[hen_103,cDIB]', 'r_HenID[hen_104,cDIB]', 'r_HenID[hen_105,cDIB]', 'r_HenID[hen_106,cDIB]', 'r_HenID[hen_107,cDIB]', 'r_HenID[hen_108,cDIB]', 'r_HenID[hen_109,cDIB]', 'r_HenID[hen_110,cDIB]', 'r_HenID[hen_111,cDIB]', 'r_HenID[hen_112,cDIB]', 'r_HenID[hen_113,cDIB]', 'r_HenID[hen_114,cDIB]', 'r_HenID[hen_116,cDIB]', 'r_HenID[hen_117,cDIB]', 'r_HenID[hen_118,cDIB]', 'r_HenID[hen_119,cDIB]', 'r_HenID[hen_12,cDIB]', 'r_HenID[hen_123,cDIB]', 'r_HenID[hen_124,cDIB]', 'r_HenID[hen_126,cDIB]', 'r_HenID[hen_127,cDIB]', 'r_HenID[hen_128,cDIB]', 'r_HenID[hen_13,cDIB]', 'r_HenID[hen_131,cDIB]', 'r_HenID[hen_134,cDIB]', 'r_HenID[hen_135,cDIB]', 'r_HenID[hen_136,cDIB]', 'r_HenID[hen_137,cDIB]', 'r_HenID[hen_138,cDIB]', 'r_HenID[hen_139,cDIB]', 'r_HenID[hen_14,cDIB]', 'r_HenID[hen_140,cDIB]', 'r_HenID[hen_141,cDIB]', 'r_HenID[hen_142,cDIB]', 'r_HenID[hen_143,cDIB]', 'r_HenID[hen_144,cDIB]', 'r_HenID[hen_145,cDIB]', 'r_HenID[hen_146,cDIB]', 'r_HenID[hen_147,cDIB]', 'r_HenID[hen_149,cDIB]', 'r_HenID[hen_150,cDIB]', 'r_HenID[hen_151,cDIB]', 'r_HenID[hen_153,cDIB]', 'r_HenID[hen_154,cDIB]', 'r_HenID[hen_155,cDIB]', 'r_HenID[hen_158,cDIB]', 'r_HenID[hen_159,cDIB]', 'r_HenID[hen_17,cDIB]', 'r_HenID[hen_18,cDIB]', 'r_HenID[hen_19,cDIB]', 'r_HenID[hen_2,cDIB]', 'r_HenID[hen_20,cDIB]', 'r_HenID[hen_21,cDIB]', 'r_HenID[hen_22,cDIB]', 'r_HenID[hen_23,cDIB]', 'r_HenID[hen_24,cDIB]', 'r_HenID[hen_25,cDIB]', 'r_HenID[hen_26,cDIB]', 'r_HenID[hen_27,cDIB]', 'r_HenID[hen_28,cDIB]', 'r_HenID[hen_29,cDIB]', 'r_HenID[hen_3,cDIB]', 'r_HenID[hen_32,cDIB]', 'r_HenID[hen_34,cDIB]', 'r_HenID[hen_39,cDIB]', 'r_HenID[hen_4,cDIB]', 'r_HenID[hen_40,cDIB]', 'r_HenID[hen_41,cDIB]', 'r_HenID[hen_42,cDIB]', 'r_HenID[hen_43,cDIB]', 'r_HenID[hen_44,cDIB]', 'r_HenID[hen_46,cDIB]', 'r_HenID[hen_47,cDIB]', 'r_HenID[hen_48,cDIB]', 'r_HenID[hen_49,cDIB]', 'r_HenID[hen_5,cDIB]', 'r_HenID[hen_50,cDIB]', 'r_HenID[hen_51,cDIB]', 'r_HenID[hen_53,cDIB]', 'r_HenID[hen_54,cDIB]', 'r_HenID[hen_55,cDIB]', 'r_HenID[hen_56,cDIB]', 'r_HenID[hen_57,cDIB]', 'r_HenID[hen_58,cDIB]', 'r_HenID[hen_59,cDIB]', 'r_HenID[hen_6,cDIB]', 'r_HenID[hen_60,cDIB]', 'r_HenID[hen_61,cDIB]', 'r_HenID[hen_62,cDIB]', 'r_HenID[hen_63,cDIB]', 'r_HenID[hen_64,cDIB]', 'r_HenID[hen_65,cDIB]', 'r_HenID[hen_66,cDIB]', 'r_HenID[hen_67,cDIB]', 'r_HenID[hen_68,cDIB]', 'r_HenID[hen_69,cDIB]', 'r_HenID[hen_7,cDIB]', 'r_HenID[hen_70,cDIB]', 'r_HenID[hen_71,cDIB]', 'r_HenID[hen_73,cDIB]', 'r_HenID[hen_74,cDIB]', 'r_HenID[hen_75,cDIB]', 'r_HenID[hen_76,cDIB]', 'r_HenID[hen_77,cDIB]', 'r_HenID[hen_78,cDIB]', 'r_HenID[hen_79,cDIB]', 'r_HenID[hen_8,cDIB]', 'r_HenID[hen_80,cDIB]', 'r_HenID[hen_81,cDIB]', 'r_HenID[hen_82,cDIB]', 'r_HenID[hen_83,cDIB]', 'r_HenID[hen_84,cDIB]', 'r_HenID[hen_85,cDIB]', 'r_HenID[hen_86,cDIB]', 'r_HenID[hen_87,cDIB]', 'r_HenID[hen_88,cDIB]', 'r_HenID[hen_89,cDIB]', 'r_HenID[hen_9,cDIB]', 'r_HenID[hen_90,cDIB]', 'r_HenID[hen_91,cDIB]', 'r_HenID[hen_92,cDIB]', 'r_HenID[hen_94,cDIB]', 'r_HenID[hen_95,cDIB]', 'r_HenID[hen_97,cDIB]', 'r_HenID[hen_98,cDIB]', 'r_HenID[hen_99,cDIB]', 'r_HenID__sigma[hen_1,Intercept]', 'r_HenID__sigma[hen_10,Intercept]', 'r_HenID__sigma[hen_101,Intercept]', 'r_HenID__sigma[hen_102,Intercept]', 'r_HenID__sigma[hen_103,Intercept]', 'r_HenID__sigma[hen_104,Intercept]', 'r_HenID__sigma[hen_105,Intercept]', 'r_HenID__sigma[hen_106,Intercept]', 'r_HenID__sigma[hen_107,Intercept]', 'r_HenID__sigma[hen_108,Intercept]', 'r_HenID__sigma[hen_109,Intercept]', 'r_HenID__sigma[hen_110,Intercept]', 'r_HenID__sigma[hen_111,Intercept]', 'r_HenID__sigma[hen_112,Intercept]', 'r_HenID__sigma[hen_113,Intercept]', 'r_HenID__sigma[hen_114,Intercept]', 'r_HenID__sigma[hen_116,Intercept]', 'r_HenID__sigma[hen_117,Intercept]', 'r_HenID__sigma[hen_118,Intercept]', 'r_HenID__sigma[hen_119,Intercept]', 'r_HenID__sigma[hen_12,Intercept]', 'r_HenID__sigma[hen_123,Intercept]', 'r_HenID__sigma[hen_124,Intercept]', 'r_HenID__sigma[hen_126,Intercept]', 'r_HenID__sigma[hen_127,Intercept]', 'r_HenID__sigma[hen_128,Intercept]', 'r_HenID__sigma[hen_13,Intercept]', 'r_HenID__sigma[hen_131,Intercept]', 'r_HenID__sigma[hen_134,Intercept]', 'r_HenID__sigma[hen_135,Intercept]', 'r_HenID__sigma[hen_136,Intercept]', 'r_HenID__sigma[hen_137,Intercept]', 'r_HenID__sigma[hen_138,Intercept]', 'r_HenID__sigma[hen_139,Intercept]', 'r_HenID__sigma[hen_14,Intercept]', 'r_HenID__sigma[hen_140,Intercept]', 'r_HenID__sigma[hen_141,Intercept]', 'r_HenID__sigma[hen_142,Intercept]', 'r_HenID__sigma[hen_143,Intercept]', 'r_HenID__sigma[hen_144,Intercept]', 'r_HenID__sigma[hen_145,Intercept]', 'r_HenID__sigma[hen_146,Intercept]', 'r_HenID__sigma[hen_147,Intercept]', 'r_HenID__sigma[hen_149,Intercept]', 'r_HenID__sigma[hen_150,Intercept]', 'r_HenID__sigma[hen_151,Intercept]', 'r_HenID__sigma[hen_153,Intercept]', 'r_HenID__sigma[hen_154,Intercept]', 'r_HenID__sigma[hen_155,Intercept]', 'r_HenID__sigma[hen_158,Intercept]', 'r_HenID__sigma[hen_159,Intercept]', 'r_HenID__sigma[hen_17,Intercept]', 'r_HenID__sigma[hen_18,Intercept]', 'r_HenID__sigma[hen_19,Intercept]', 'r_HenID__sigma[hen_2,Intercept]', 'r_HenID__sigma[hen_20,Intercept]', 'r_HenID__sigma[hen_21,Intercept]', 'r_HenID__sigma[hen_22,Intercept]', 'r_HenID__sigma[hen_23,Intercept]', 'r_HenID__sigma[hen_24,Intercept]', 'r_HenID__sigma[hen_25,Intercept]', 'r_HenID__sigma[hen_26,Intercept]', 'r_HenID__sigma[hen_27,Intercept]', 'r_HenID__sigma[hen_28,Intercept]', 'r_HenID__sigma[hen_29,Intercept]', 'r_HenID__sigma[hen_3,Intercept]', 'r_HenID__sigma[hen_32,Intercept]', 'r_HenID__sigma[hen_34,Intercept]', 'r_HenID__sigma[hen_39,Intercept]', 'r_HenID__sigma[hen_4,Intercept]', 'r_HenID__sigma[hen_40,Intercept]', 'r_HenID__sigma[hen_41,Intercept]', 'r_HenID__sigma[hen_42,Intercept]', 'r_HenID__sigma[hen_43,Intercept]', 'r_HenID__sigma[hen_44,Intercept]', 'r_HenID__sigma[hen_46,Intercept]', 'r_HenID__sigma[hen_47,Intercept]', 'r_HenID__sigma[hen_48,Intercept]', 'r_HenID__sigma[hen_49,Intercept]', 'r_HenID__sigma[hen_5,Intercept]', 'r_HenID__sigma[hen_50,Intercept]', 'r_HenID__sigma[hen_51,Intercept]', 'r_HenID__sigma[hen_53,Intercept]', 'r_HenID__sigma[hen_54,Intercept]', 'r_HenID__sigma[hen_55,Intercept]', 'r_HenID__sigma[hen_56,Intercept]', 'r_HenID__sigma[hen_57,Intercept]', 'r_HenID__sigma[hen_58,Intercept]', 'r_HenID__sigma[hen_59,Intercept]', 'r_HenID__sigma[hen_6,Intercept]', 'r_HenID__sigma[hen_60,Intercept]', 'r_HenID__sigma[hen_61,Intercept]', 'r_HenID__sigma[hen_62,Intercept]', 'r_HenID__sigma[hen_63,Intercept]', 'r_HenID__sigma[hen_64,Intercept]', 'r_HenID__sigma[hen_65,Intercept]', 'r_HenID__sigma[hen_66,Intercept]', 'r_HenID__sigma[hen_67,Intercept]', 'r_HenID__sigma[hen_68,Intercept]', 'r_HenID__sigma[hen_69,Intercept]', 'r_HenID__sigma[hen_7,Intercept]', 'r_HenID__sigma[hen_70,Intercept]', 'r_HenID__sigma[hen_71,Intercept]', 'r_HenID__sigma[hen_73,Intercept]', 'r_HenID__sigma[hen_74,Intercept]', 'r_HenID__sigma[hen_75,Intercept]', 'r_HenID__sigma[hen_76,Intercept]', 'r_HenID__sigma[hen_77,Intercept]', 'r_HenID__sigma[hen_78,Intercept]', 'r_HenID__sigma[hen_79,Intercept]', 'r_HenID__sigma[hen_8,Intercept]', 'r_HenID__sigma[hen_80,Intercept]', 'r_HenID__sigma[hen_81,Intercept]', 'r_HenID__sigma[hen_82,Intercept]', 'r_HenID__sigma[hen_83,Intercept]', 'r_HenID__sigma[hen_84,Intercept]', 'r_HenID__sigma[hen_85,Intercept]', 'r_HenID__sigma[hen_86,Intercept]', 'r_HenID__sigma[hen_87,Intercept]', 'r_HenID__sigma[hen_88,Intercept]', 'r_HenID__sigma[hen_89,Intercept]', 'r_HenID__sigma[hen_9,Intercept]', 'r_HenID__sigma[hen_90,Intercept]', 'r_HenID__sigma[hen_91,Intercept]', 'r_HenID__sigma[hen_92,Intercept]', 'r_HenID__sigma[hen_94,Intercept]', 'r_HenID__sigma[hen_95,Intercept]', 'r_HenID__sigma[hen_97,Intercept]', 'r_HenID__sigma[hen_98,Intercept]', 'r_HenID__sigma[hen_99,Intercept]', 'lp__']\n"
     ]
    },
    {
     "data": {
      "text/html": [
       "<div>\n",
       "<style scoped>\n",
       "    .dataframe tbody tr th:only-of-type {\n",
       "        vertical-align: middle;\n",
       "    }\n",
       "\n",
       "    .dataframe tbody tr th {\n",
       "        vertical-align: top;\n",
       "    }\n",
       "\n",
       "    .dataframe thead th {\n",
       "        text-align: right;\n",
       "    }\n",
       "</style>\n",
       "<table border=\"1\" class=\"dataframe\">\n",
       "  <thead>\n",
       "    <tr style=\"text-align: right;\">\n",
       "      <th></th>\n",
       "      <th>run</th>\n",
       "      <th>variable</th>\n",
       "      <th>value</th>\n",
       "      <th>HenID</th>\n",
       "    </tr>\n",
       "  </thead>\n",
       "  <tbody>\n",
       "    <tr>\n",
       "      <th>0</th>\n",
       "      <td>0</td>\n",
       "      <td>r_HenID__sigma[hen_1,Intercept]</td>\n",
       "      <td>-0.375739</td>\n",
       "      <td>hen_1</td>\n",
       "    </tr>\n",
       "    <tr>\n",
       "      <th>1</th>\n",
       "      <td>1</td>\n",
       "      <td>r_HenID__sigma[hen_1,Intercept]</td>\n",
       "      <td>-0.010872</td>\n",
       "      <td>hen_1</td>\n",
       "    </tr>\n",
       "    <tr>\n",
       "      <th>2</th>\n",
       "      <td>2</td>\n",
       "      <td>r_HenID__sigma[hen_1,Intercept]</td>\n",
       "      <td>-0.344742</td>\n",
       "      <td>hen_1</td>\n",
       "    </tr>\n",
       "  </tbody>\n",
       "</table>\n",
       "</div>"
      ],
      "text/plain": [
       "   run                         variable     value  HenID\n",
       "0    0  r_HenID__sigma[hen_1,Intercept] -0.375739  hen_1\n",
       "1    1  r_HenID__sigma[hen_1,Intercept] -0.010872  hen_1\n",
       "2    2  r_HenID__sigma[hen_1,Intercept] -0.344742  hen_1"
      ]
     },
     "execution_count": 22,
     "metadata": {},
     "output_type": "execute_result"
    }
   ],
   "source": [
    "#download ind.plasticity over time\n",
    "df_pred = pd.read_csv(os.path.join(path_extracted_data_adap,'EstimatedPredictability.csv'), sep=',')\n",
    "print(df_pred.shape)\n",
    "display(df_pred.head(3))\n",
    "print(list(df_pred.columns))\n",
    "li_col = [x for x in df_pred.columns if 'r_HenID__sigma' in x]\n",
    "df_pred = df_pred[li_col]\n",
    "df_pred['run'] = df_pred.index\n",
    "df_pred = pd.melt(df_pred, id_vars=['run'], value_vars=li_col)\n",
    "df_pred['HenID'] = df_pred['variable'].map(lambda x: x.split('[')[1].split(',')[0])\n",
    "df_pred.head(3)"
   ]
  },
  {
   "cell_type": "code",
   "execution_count": 23,
   "metadata": {},
   "outputs": [
    {
     "name": "stderr",
     "output_type": "stream",
     "text": [
      "C:\\Users\\camil\\anaconda3\\lib\\site-packages\\ipykernel\\ipkernel.py:283: DeprecationWarning: `should_run_async` will not call `transform_cell` automatically in the future. Please pass the result to `transformed_cell` argument and any exception that happen during thetransform in `preprocessing_exc_tuple` in IPython 7.17 and above.\n",
      "  and should_run_async(code)\n"
     ]
    },
    {
     "data": {
      "text/html": [
       "<div>\n",
       "<style scoped>\n",
       "    .dataframe tbody tr th:only-of-type {\n",
       "        vertical-align: middle;\n",
       "    }\n",
       "\n",
       "    .dataframe tbody tr th {\n",
       "        vertical-align: top;\n",
       "    }\n",
       "\n",
       "    .dataframe thead th {\n",
       "        text-align: right;\n",
       "    }\n",
       "</style>\n",
       "<table border=\"1\" class=\"dataframe\">\n",
       "  <thead>\n",
       "    <tr style=\"text-align: right;\">\n",
       "      <th></th>\n",
       "      <th>HenID</th>\n",
       "      <th>value</th>\n",
       "      <th>mean</th>\n",
       "      <th>sd</th>\n",
       "    </tr>\n",
       "  </thead>\n",
       "  <tbody>\n",
       "    <tr>\n",
       "      <th>0</th>\n",
       "      <td>hen_1</td>\n",
       "      <td>[-0.37573895038262395, -0.0108722325722177, -0...</td>\n",
       "      <td>-0.159845</td>\n",
       "      <td>0.130660</td>\n",
       "    </tr>\n",
       "    <tr>\n",
       "      <th>1</th>\n",
       "      <td>hen_10</td>\n",
       "      <td>[0.455903764622574, 0.7225179345636709, 0.7689...</td>\n",
       "      <td>0.523157</td>\n",
       "      <td>0.128544</td>\n",
       "    </tr>\n",
       "    <tr>\n",
       "      <th>2</th>\n",
       "      <td>hen_101</td>\n",
       "      <td>[0.6247194980778621, 0.38183391731519395, 0.37...</td>\n",
       "      <td>0.488732</td>\n",
       "      <td>0.158463</td>\n",
       "    </tr>\n",
       "  </tbody>\n",
       "</table>\n",
       "</div>"
      ],
      "text/plain": [
       "     HenID                                              value      mean  \\\n",
       "0    hen_1  [-0.37573895038262395, -0.0108722325722177, -0... -0.159845   \n",
       "1   hen_10  [0.455903764622574, 0.7225179345636709, 0.7689...  0.523157   \n",
       "2  hen_101  [0.6247194980778621, 0.38183391731519395, 0.37...  0.488732   \n",
       "\n",
       "         sd  \n",
       "0  0.130660  \n",
       "1  0.128544  \n",
       "2  0.158463  "
      ]
     },
     "metadata": {},
     "output_type": "display_data"
    },
    {
     "data": {
      "image/png": "[encoded data removed]",
      "text/plain": [
       "<Figure size 468x360 with 1 Axes>"
      ]
     },
     "metadata": {},
     "output_type": "display_data"
    }
   ],
   "source": [
    "sns.set(rc={'figure.figsize':(6.5,5)})\n",
    "df_plt = df_pred.groupby('HenID')['value'].agg(lambda x: list(x)).reset_index()\n",
    "df_plt['mean'] = df_plt['value'].map(lambda x: np.mean(x))\n",
    "df_plt['sd'] = df_plt['value'].map(lambda x: np.std(x))\n",
    "display(df_plt.head(3))\n",
    "df_plt = df_plt.sort_values(['mean'])\n",
    "df_plt[' '] = df_plt['HenID'].map(lambda x: x if x in li_hen_visual else 'Other Hens')\n",
    "df_plt['color'] = df_plt[' '].map(lambda x: pal_[x])\n",
    "#hue_order = li_hen_visual + ['Other Hens']\n",
    "ax = sns.boxplot(x='HenID', y='mean', data=df_plt, color='grey');\n",
    "ax.errorbar(df_plt['HenID'], df_plt['mean'], yerr=df_plt['sd'],fmt=' ', zorder=-1, alpha=0.5, \n",
    "            color=df_plt['color'].tolist());\n",
    "plt.xticks([]) #remove xlabel annotations\n",
    "plt.xlabel('HenID')\n",
    "plt.ylabel('Variability BLUP estimates');\n",
    "plt.axhline(y=0, linewidth=2, color = 'k')\n",
    "plt.savefig(os.path.join(path_extracted_data_adap,'estimatespredictability.png'), bbox_inches='tight')\n",
    "plt.show();"
   ]
  },
  {
   "cell_type": "code",
   "execution_count": 24,
   "metadata": {},
   "outputs": [
    {
     "name": "stderr",
     "output_type": "stream",
     "text": [
      "C:\\Users\\camil\\anaconda3\\lib\\site-packages\\ipykernel\\ipkernel.py:283: DeprecationWarning: `should_run_async` will not call `transform_cell` automatically in the future. Please pass the result to `transformed_cell` argument and any exception that happen during thetransform in `preprocessing_exc_tuple` in IPython 7.17 and above.\n",
      "  and should_run_async(code)\n"
     ]
    },
    {
     "data": {
      "image/png": "[encoded data removed]",
      "text/plain": [
       "<Figure size 468x360 with 1 Axes>"
      ]
     },
     "metadata": {},
     "output_type": "display_data"
    }
   ],
   "source": [
    "#plot plasticity over time\n",
    "sns.set(rc={'figure.figsize':(6.5,5)})\n",
    "sns.set_theme(style=\"ticks\", font_scale=1.25)\n",
    "sns.scatterplot(x='DIB', y='PC1', data=df_PL[df_PL['HenID ']!='Other Hens'], hue='HenID ', palette=pal_all, \n",
    "                hue_order=hue_order_all, legend=False);\n",
    "sns.lineplot(x='DIB', y='pred_HenID', data=df_PL, hue='HenID ', linestyle=\"dashed\", palette=pal_all, hue_order=hue_order_all,\n",
    "            legend=False);\n",
    "#remove all borders\n",
    "sns.despine(bottom = True, left = True)\n",
    "#plt.title('Individual plasticity');\n",
    "plt.grid()\n",
    "plt.text(11, 1, '─ ─ ─ estimated slopes', color='black')\n",
    "plt.savefig(os.path.join(path_extracted_data_adap,'RawAdnEstimatedPlasticty.png'), bbox_inches='tight')"
   ]
  },
  {
   "cell_type": "code",
   "execution_count": null,
   "metadata": {},
   "outputs": [],
   "source": []
  },
  {
   "cell_type": "code",
   "execution_count": null,
   "metadata": {},
   "outputs": [],
   "source": []
  },
  {
   "cell_type": "code",
   "execution_count": null,
   "metadata": {},
   "outputs": [],
   "source": []
  },
  {
   "cell_type": "code",
   "execution_count": null,
   "metadata": {},
   "outputs": [],
   "source": []
  },
  {
   "cell_type": "code",
   "execution_count": null,
   "metadata": {},
   "outputs": [],
   "source": []
  },
  {
   "cell_type": "code",
   "execution_count": null,
   "metadata": {},
   "outputs": [],
   "source": []
  }
 ],
 "metadata": {
  "kernelspec": {
   "display_name": "Python 3",
   "language": "python",
   "name": "python3"
  },
  "language_info": {
   "codemirror_mode": {
    "name": "ipython",
    "version": 3
   },
   "file_extension": ".py",
   "mimetype": "text/x-python",
   "name": "python",
   "nbconvert_exporter": "python",
   "pygments_lexer": "ipython3",
   "version": "3.8.5"
  }
 },
 "nbformat": 4,
 "nbformat_minor": 2
}
