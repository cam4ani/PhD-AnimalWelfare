{
 "cells": [
  {
   "cell_type": "markdown",
   "metadata": {},
   "source": [
    "library(lindia)\n",
    "library(tidyverse)\n",
    "library(caret)\n",
    "library(leaps)\n",
    "library(MASS)\n",
    "library(lme4) #random effect"
   ]
  },
  {
   "cell_type": "code",
   "execution_count": 1,
   "metadata": {},
   "outputs": [
    {
     "name": "stderr",
     "output_type": "stream",
     "text": [
      "Warning message:\n",
      "\"package 'rptR' was built under R version 4.0.5\"\n",
      "-- \u001b[1mAttaching packages\u001b[22m ------------------------------------------------------------------------------- tidyverse 1.3.0 --\n",
      "\n",
      "\u001b[32mv\u001b[39m \u001b[34mtibble \u001b[39m 3.0.6     \u001b[32mv\u001b[39m \u001b[34mdplyr  \u001b[39m 1.0.3\n",
      "\u001b[32mv\u001b[39m \u001b[34mtidyr  \u001b[39m 1.1.2     \u001b[32mv\u001b[39m \u001b[34mstringr\u001b[39m 1.4.0\n",
      "\u001b[32mv\u001b[39m \u001b[34mreadr  \u001b[39m 1.4.0     \u001b[32mv\u001b[39m \u001b[34mforcats\u001b[39m 0.5.1\n",
      "\u001b[32mv\u001b[39m \u001b[34mpurrr  \u001b[39m 0.3.4     \n",
      "\n",
      "-- \u001b[1mConflicts\u001b[22m ---------------------------------------------------------------------------------- tidyverse_conflicts() --\n",
      "\u001b[31mx\u001b[39m \u001b[34mdplyr\u001b[39m::\u001b[32mfilter()\u001b[39m masks \u001b[34mstats\u001b[39m::filter()\n",
      "\u001b[31mx\u001b[39m \u001b[34mdplyr\u001b[39m::\u001b[32mlag()\u001b[39m    masks \u001b[34mstats\u001b[39m::lag()\n",
      "\n",
      "Loading required package: lattice\n",
      "\n",
      "\n",
      "Attaching package: 'caret'\n",
      "\n",
      "\n",
      "The following object is masked from 'package:purrr':\n",
      "\n",
      "    lift\n",
      "\n",
      "\n",
      "\n",
      "Attaching package: 'MASS'\n",
      "\n",
      "\n",
      "The following object is masked from 'package:dplyr':\n",
      "\n",
      "    select\n",
      "\n",
      "\n",
      "Loading required package: Matrix\n",
      "\n",
      "\n",
      "Attaching package: 'Matrix'\n",
      "\n",
      "\n",
      "The following objects are masked from 'package:tidyr':\n",
      "\n",
      "    expand, pack, unpack\n",
      "\n",
      "\n",
      "Warning message:\n",
      "\"package 'sjPlot' was built under R version 4.0.4\"\n",
      "This is DHARMa 0.3.3.0. For overview type '?DHARMa'. For recent changes, type news(package = 'DHARMa') Note: Syntax of plotResiduals has changed in 0.3.0, see ?plotResiduals for details\n",
      "\n"
     ]
    }
   ],
   "source": [
    "#install.packages(\"rptR\")\n",
    "library(rptR)\n",
    "library(ggplot2)\n",
    "\n",
    "library(lindia)\n",
    "library(tidyverse)\n",
    "library(caret)\n",
    "library(leaps)\n",
    "library(MASS)\n",
    "library(lme4) #random effect\n",
    "library(sjPlot)#plot estimates\n",
    "\n",
    "library(DHARMa) #verify assumpltion of glm"
   ]
  },
  {
   "cell_type": "raw",
   "metadata": {},
   "source": [
    "additional info on rptR\n",
    "https://cran.r-project.org/web/packages/rptR/rptR.pdf\n",
    "https://cran.r-project.org/web/packages/rptR/vignettes/rptR.html\n",
    "Number of permutations used when calculating asymptotic p-values (defaults to\n",
    "0). Larger numbers of permutations give a better asymtotic p-values, but may\n",
    "be time-consuming "
   ]
  },
  {
   "cell_type": "markdown",
   "metadata": {},
   "source": [
    "# Download data"
   ]
  },
  {
   "cell_type": "code",
   "execution_count": 2,
   "metadata": {
    "scrolled": true
   },
   "outputs": [
    {
     "name": "stdout",
     "output_type": "stream",
     "text": [
      "[1] 6382  228\n"
     ]
    },
    {
     "data": {
      "text/plain": [
       "     HenID         level           duration_1_Zone duration_2_Zone\n",
       " hen_10 :  51   Length:6382        Min.   :    0   Min.   :    0  \n",
       " hen_108:  51   Class :character   1st Qu.:    0   1st Qu.: 5200  \n",
       " hen_111:  51   Mode  :character   Median :    0   Median :14214  \n",
       " hen_112:  51                      Mean   : 1244   Mean   :14054  \n",
       " hen_117:  51                      3rd Qu.: 1680   3rd Qu.:21776  \n",
       " hen_118:  51                      Max.   :18997   Max.   :43644  \n",
       " (Other):6076                                                     \n",
       " duration_3_Zone duration_4_Zone duration_5_Zone\n",
       " Min.   :    0   Min.   :    0   Min.   :    0  \n",
       " 1st Qu.: 2442   1st Qu.: 1372   1st Qu.: 5394  \n",
       " Median : 6553   Median : 2844   Median :14859  \n",
       " Mean   : 7809   Mean   : 3492   Mean   :17597  \n",
       " 3rd Qu.:11929   3rd Qu.: 4517   3rd Qu.:29404  \n",
       " Max.   :34417   Max.   :44088   Max.   :52195  \n",
       "                                                \n",
       " verification_daily_total_duration Total_number_zone Max_duration_zones\n",
       " Min.   :28800                     Min.   :1.000     Length:6382       \n",
       " 1st Qu.:39600                     1st Qu.:4.000     Class :character  \n",
       " Median :43200                     Median :4.000     Mode  :character  \n",
       " Mean   :44195                     Mean   :4.191                       \n",
       " 3rd Qu.:50400                     3rd Qu.:5.000                       \n",
       " Max.   :54000                     Max.   :5.000                       \n",
       "                                                                       \n",
       " dico_zone_sortedduration Total_number_transition distribution_entropy\n",
       " Length:6382              Min.   :  0.00          Min.   :0.0000      \n",
       " Class :character         1st Qu.: 21.00          1st Qu.:0.7911      \n",
       " Mode  :character         Median : 43.00          Median :1.0921      \n",
       "                          Mean   : 42.81          Mean   :0.9681      \n",
       "                          3rd Qu.: 62.00          3rd Qu.:1.2633      \n",
       "                          Max.   :159.00          Max.   :1.5843      \n",
       "                                                                      \n",
       " vertical_travel_distance nbr_stays_3_Zone nbr_appearances_3_Zone\n",
       " Min.   :  0.00           Min.   : 0.00    Min.   :0             \n",
       " 1st Qu.: 22.00           1st Qu.: 6.00    1st Qu.:0             \n",
       " Median : 42.00           Median :15.00    Median :0             \n",
       " Mean   : 42.08           Mean   :15.42    Mean   :0             \n",
       " 3rd Qu.: 60.00           3rd Qu.:23.00    3rd Qu.:0             \n",
       " Max.   :160.00           Max.   :64.00    Max.   :0             \n",
       "                                                                 \n",
       " empproba_3_Zone  nbr_stays_4_Zone nbr_appearances_4_Zone empproba_4_Zone \n",
       " Min.   :  0.00   Min.   : 0.000   Min.   :0              Min.   :  0.00  \n",
       " 1st Qu.: 23.33   1st Qu.: 3.000   1st Qu.:0              1st Qu.: 33.33  \n",
       " Median : 37.50   Median : 7.000   Median :0              Median : 45.45  \n",
       " Mean   : 40.06   Mean   : 8.118   Mean   :0              Mean   : 43.64  \n",
       " 3rd Qu.: 50.00   3rd Qu.:12.000   3rd Qu.:0              3rd Qu.: 51.85  \n",
       " Max.   :100.00   Max.   :63.000   Max.   :0              Max.   :100.00  \n",
       " NA's   :498                                              NA's   :476     \n",
       " nbr_stays_5_Zone nbr_appearances_5_Zone empproba_5_Zone nbr_stays_2_Zone\n",
       " Min.   : 0.000   Min.   :0              Mode:logical    Min.   : 0.00   \n",
       " 1st Qu.: 2.000   1st Qu.:0              NA's:6382       1st Qu.: 4.00   \n",
       " Median : 4.000   Median :0                              Median :12.00   \n",
       " Mean   : 5.119   Mean   :0                              Mean   :12.99   \n",
       " 3rd Qu.: 7.000   3rd Qu.:0                              3rd Qu.:20.00   \n",
       " Max.   :38.000   Max.   :0                              Max.   :56.00   \n",
       "                                                                         \n",
       " nbr_appearances_2_Zone empproba_2_Zone   nbr_stays_1_Zone\n",
       " Min.   :0              Min.   :  5.882   Min.   : 0.000  \n",
       " 1st Qu.:0              1st Qu.: 75.676   1st Qu.: 0.000  \n",
       " Median :0              Median : 92.857   Median : 0.000  \n",
       " Mean   :0              Mean   : 86.473   Mean   : 2.155  \n",
       " 3rd Qu.:0              3rd Qu.:100.000   3rd Qu.: 3.000  \n",
       " Max.   :0              Max.   :100.000   Max.   :23.000  \n",
       "                        NA's   :721                       \n",
       " nbr_appearances_1_Zone empproba_1_Zone Max_duration_zone_4\n",
       " Min.   :0              Mode:logical    Min.   :    0      \n",
       " 1st Qu.:0              NA's:6382       1st Qu.:  678      \n",
       " Median :0                              Median : 1602      \n",
       " Mean   :0                              Mean   : 1837      \n",
       " 3rd Qu.:0                              3rd Qu.: 2598      \n",
       " Max.   :0                              Max.   :44088      \n",
       "                                                           \n",
       " down_missingZone_mvtPerc up_missingZone_mvtPerc mean_duration    \n",
       " Min.   :  0.000          Min.   :  0.000        Min.   :  284.9  \n",
       " 1st Qu.:  0.000          1st Qu.:  0.000        1st Qu.:  732.2  \n",
       " Median :  2.222          Median :  0.000        Median : 1038.5  \n",
       " Mean   :  4.649          Mean   :  2.084        Mean   : 3938.3  \n",
       " 3rd Qu.:  6.250          3rd Qu.:  2.817        3rd Qu.: 1905.9  \n",
       " Max.   :100.000          Max.   :100.000        Max.   :46800.0  \n",
       "                                                                  \n",
       " median_duration    max_duration    min_duration   variance_duration  \n",
       " Min.   :   46.0   Min.   : 1402   Min.   :    1   Min.   :        0  \n",
       " 1st Qu.:  313.0   1st Qu.: 4480   1st Qu.:    6   1st Qu.:   692291  \n",
       " Median :  480.0   Median : 7167   Median :   11   Median :  1584043  \n",
       " Mean   : 3024.2   Mean   :11422   Mean   : 2377   Mean   : 13786649  \n",
       " 3rd Qu.:  765.5   3rd Qu.:14392   3rd Qu.:   22   3rd Qu.:  6006403  \n",
       " Max.   :46800.0   Max.   :46800   Max.   :46800   Max.   :464676819  \n",
       "                                                                      \n",
       "  percentile_5      percentile_15_duration percentile_85_duration\n",
       " Min.   :    3.00   Min.   :    2.0        Min.   :   24         \n",
       " 1st Qu.:   15.20   1st Qu.:   33.0        1st Qu.: 1240         \n",
       " Median :   24.65   Median :   58.0        Median : 1696         \n",
       " Mean   : 2411.45   Mean   : 2434.7        Mean   : 4403         \n",
       " 3rd Qu.:   55.94   3rd Qu.:  125.8        3rd Qu.: 2684         \n",
       " Max.   :46800.00   Max.   :46800.0        Max.   :46800         \n",
       "                                                                 \n",
       " percentile_95_duration median_abs_deviation_duration kurtosis_duration\n",
       " Min.   :   24          Min.   :    0.0               Min.   :-1.627   \n",
       " 1st Qu.: 2165          1st Qu.:  224.1               1st Qu.: 2.477   \n",
       " Median : 2980          Median :  341.0               Median : 5.518   \n",
       " Mean   : 5863          Mean   :  540.0               Mean   : 8.027   \n",
       " 3rd Qu.: 4965          3rd Qu.:  503.0               3rd Qu.:10.797   \n",
       " Max.   :46800          Max.   :21316.0               Max.   :67.219   \n",
       "                                                      NA's   :991      \n",
       " skew_duration   stay_longer_60sec stay_longer_60sec_3_Zone\n",
       " Min.   :0.165   Min.   :  1.00    Min.   : 0.00           \n",
       " 1st Qu.:1.694   1st Qu.: 18.00    1st Qu.: 5.00           \n",
       " Median :2.317   Median : 37.00    Median :12.00           \n",
       " Mean   :2.520   Mean   : 35.93    Mean   :12.48           \n",
       " 3rd Qu.:3.131   3rd Qu.: 52.00    3rd Qu.:19.00           \n",
       " Max.   :7.975   Max.   :112.00    Max.   :51.00           \n",
       " NA's   :991                                               \n",
       " stay_longer_60sec_4_Zone stay_longer_60sec_5_Zone stay_longer_60sec_2_Zone\n",
       " Min.   : 0.000           Min.   : 0.000           Min.   : 0.00           \n",
       " 1st Qu.: 2.000           1st Qu.: 2.000           1st Qu.: 3.00           \n",
       " Median : 4.000           Median : 4.000           Median :10.00           \n",
       " Mean   : 4.983           Mean   : 4.791           Mean   :11.52           \n",
       " 3rd Qu.: 7.000           3rd Qu.: 7.000           3rd Qu.:18.00           \n",
       " Max.   :45.000           Max.   :31.000           Max.   :55.00           \n",
       "                                                                           \n",
       " stay_longer_60sec_1_Zone dico_z_chaoticmvtMiddleDuration    X0         \n",
       " Min.   : 0.000           Length:6382                     Mode:logical  \n",
       " 1st Qu.: 0.000           Class :character                NA's:6382     \n",
       " Median : 0.000           Mode  :character                              \n",
       " Mean   : 2.155                                                         \n",
       " 3rd Qu.: 3.000                                                         \n",
       " Max.   :23.000                                                         \n",
       "                                                                        \n",
       " chaoticmvt_Middle1_Zone chaoticmvt_Middle2_Zone chaoticmvt_Middle3_Zone\n",
       " Length:6382             Length:6382             Length:6382            \n",
       " Class :character        Class :character        Class :character       \n",
       " Mode  :character        Mode  :character        Mode  :character       \n",
       "                                                                        \n",
       "                                                                        \n",
       "                                                                        \n",
       "                                                                        \n",
       " chaoticmvt_Middle4_Zone chaoticmvt_Middle5_Zone\n",
       " Length:6382             Length:6382            \n",
       " Class :character        Class :character       \n",
       " Mode  :character        Mode  :character       \n",
       "                                                \n",
       "                                                \n",
       "                                                \n",
       "                                                \n",
       " chaoticmvt_Middle1_Zone_nbr_180mn chaoticmvt_Middle1_Zone_nbr_900mn\n",
       " Min.   : 0.0000                   Min.   : 0.000                   \n",
       " 1st Qu.: 0.0000                   1st Qu.: 0.000                   \n",
       " Median : 0.0000                   Median : 0.000                   \n",
       " Mean   : 0.4848                   Mean   : 1.702                   \n",
       " 3rd Qu.: 1.0000                   3rd Qu.: 3.000                   \n",
       " Max.   :13.0000                   Max.   :22.000                   \n",
       "                                                                    \n",
       " chaoticmvt_Middle2_Zone_nbr_180mn chaoticmvt_Middle2_Zone_nbr_900mn\n",
       " Min.   : 0.000                    Min.   : 0.000                   \n",
       " 1st Qu.: 0.000                    1st Qu.: 0.000                   \n",
       " Median : 0.000                    Median : 2.000                   \n",
       " Mean   : 1.064                    Mean   : 4.128                   \n",
       " 3rd Qu.: 1.000                    3rd Qu.: 6.000                   \n",
       " Max.   :20.000                    Max.   :51.000                   \n",
       "                                                                    \n",
       " chaoticmvt_Middle3_Zone_nbr_180mn chaoticmvt_Middle3_Zone_nbr_900mn\n",
       " Min.   : 0.000                    Min.   : 0.00                    \n",
       " 1st Qu.: 0.000                    1st Qu.: 1.00                    \n",
       " Median : 1.000                    Median : 5.00                    \n",
       " Mean   : 2.217                    Mean   : 6.81                    \n",
       " 3rd Qu.: 3.000                    3rd Qu.:10.00                    \n",
       " Max.   :25.000                    Max.   :54.00                    \n",
       "                                                                    \n",
       " chaoticmvt_Middle4_Zone_nbr_180mn chaoticmvt_Middle4_Zone_nbr_900mn\n",
       " Min.   : 0.000                    Min.   : 0.000                   \n",
       " 1st Qu.: 0.000                    1st Qu.: 0.000                   \n",
       " Median : 1.000                    Median : 1.000                   \n",
       " Mean   : 1.544                    Mean   : 2.567                   \n",
       " 3rd Qu.: 2.000                    3rd Qu.: 4.000                   \n",
       " Max.   :20.000                    Max.   :29.000                   \n",
       "                                                                    \n",
       " chaoticmvt_Middle5_Zone_nbr_180mn chaoticmvt_Middle5_Zone_nbr_900mn\n",
       " Min.   : 0.0000                   Min.   : 0.000                   \n",
       " 1st Qu.: 0.0000                   1st Qu.: 0.000                   \n",
       " Median : 0.0000                   Median : 0.000                   \n",
       " Mean   : 0.5874                   Mean   : 1.223                   \n",
       " 3rd Qu.: 1.0000                   3rd Qu.: 2.000                   \n",
       " Max.   :19.0000                   Max.   :28.000                   \n",
       "                                                                    \n",
       " X1_Zone_tuple_ts_dur X2_Zone_tuple_ts_dur X3_Zone_tuple_ts_dur\n",
       " Length:6382          Length:6382          Length:6382         \n",
       " Class :character     Class :character     Class :character    \n",
       " Mode  :character     Mode  :character     Mode  :character    \n",
       "                                                               \n",
       "                                                               \n",
       "                                                               \n",
       "                                                               \n",
       " X4_Zone_tuple_ts_dur X5_Zone_tuple_ts_dur\n",
       " Length:6382          Length:6382         \n",
       " Class :character     Class :character    \n",
       " Mode  :character     Mode  :character    \n",
       "                                          \n",
       "                                          \n",
       "                                          \n",
       "                                          \n",
       " Nestbox_time_of_first_staid_longer_than900sec sucessIntrusion_9\n",
       " Length:6382                                   Min.   :0.0000   \n",
       " Class :character                              1st Qu.:0.0000   \n",
       " Mode  :character                              Median :0.1111   \n",
       "                                               Mean   :0.2171   \n",
       "                                               3rd Qu.:0.3333   \n",
       "                                               Max.   :1.0000   \n",
       "                                                                \n",
       " BNestboxHour_nbrd  B10h_Nestbox_nbrvisit B10h_Nestbox_Longestduration\n",
       " Length:6382        Min.   : 0.000        Min.   :    0               \n",
       " Class :character   1st Qu.: 1.000        1st Qu.:   65               \n",
       " Mode  :character   Median : 3.000        Median : 1187               \n",
       "                    Mean   : 3.328        Mean   : 1473               \n",
       "                    3rd Qu.: 5.000        3rd Qu.: 2321               \n",
       "                    Max.   :32.000        Max.   :44088               \n",
       "                                                                      \n",
       " ANestboxHour_nbrd  A12h_Nestbox_nbrvisit A12h_Nestbox_Longestduration\n",
       " Length:6382        Min.   : 0.000        Min.   :     0.0            \n",
       " Class :character   1st Qu.: 1.000        1st Qu.:    16.0            \n",
       " Mode  :character   Median : 3.000        Median :   107.0            \n",
       "                    Mean   : 3.636        Mean   :  4177.6            \n",
       "                    3rd Qu.: 5.000        3rd Qu.:   698.8            \n",
       "                    Max.   :34.000        Max.   :323608.0            \n",
       "                                                                      \n",
       " NBtimefirstvisitlonger900_minus_time1visit activity_25percentile_sec\n",
       " Length:6382                                Min.   : 7597            \n",
       " Class :character                           1st Qu.:26232            \n",
       " Mode  :character                           Median :32002            \n",
       "                                            Mean   :32337            \n",
       "                                            3rd Qu.:37511            \n",
       "                                            Max.   :64775            \n",
       "                                            NA's   :415              \n",
       " activity_25percentile_time activity_50percentile_sec\n",
       " Length:6382                Min.   : 7735            \n",
       " Class :character           1st Qu.:39146            \n",
       " Mode  :character           Median :43732            \n",
       "                            Mean   :43179            \n",
       "                            3rd Qu.:47789            \n",
       "                            Max.   :64775            \n",
       "                            NA's   :415              \n",
       " activity_50percentile_time activity_5percentile_sec activity_5percentile_time\n",
       " Length:6382                Min.   : 7288            Length:6382              \n",
       " Class :character           1st Qu.:14702            Class :character         \n",
       " Mode  :character           Median :20157            Mode  :character         \n",
       "                            Mean   :22366                                     \n",
       "                            3rd Qu.:29288                                     \n",
       "                            Max.   :64775                                     \n",
       "                            NA's   :415                                       \n",
       " activity_95percentile_sec activity_95percentile_time\n",
       " Min.   :11016             Length:6382               \n",
       " 1st Qu.:56635             Class :character          \n",
       " Median :58679             Mode  :character          \n",
       " Mean   :57146                                       \n",
       " 3rd Qu.:60311                                       \n",
       " Max.   :64775                                       \n",
       " NA's   :415                                         \n",
       " duration_last.firsttransition_mn in_WG_15mnAfterOpening Max_duration_WG  \n",
       " Min.   :  0.0                    Min.   :0.0000         Min.   :    0.0  \n",
       " 1st Qu.:503.0                    1st Qu.:0.0000         1st Qu.:    0.0  \n",
       " Median :652.5                    Median :0.0000         Median :    0.0  \n",
       " Mean   :586.8                    Mean   :0.1835         Mean   :  512.5  \n",
       " 3rd Qu.:767.0                    3rd Qu.:0.0000         3rd Qu.:  771.0  \n",
       " Max.   :898.0                    Max.   :1.0000         Max.   :10981.0  \n",
       "                                                                          \n",
       "     PenID         CLASS               R.Pen       InitialStartDate  \n",
       " pen10  : 918   Length:6382        Min.   :1.000   Length:6382       \n",
       " pen11  : 918   Class :character   1st Qu.:2.000   Class :character  \n",
       " pen12  : 809   Mode  :character   Median :2.000   Mode  :character  \n",
       " pen8   : 784                      Mean   :2.488                     \n",
       " pen9   : 783                      3rd Qu.:3.000                     \n",
       " pen4   : 764                      Max.   :4.000                     \n",
       " (Other):1406                                                        \n",
       " X29.09.weight  X10.12.juin.weight weight.23.11.2020 weight.04.01.2021\n",
       " Min.   :1024   Min.   :48.60      Min.   :1399      Min.   :1520     \n",
       " 1st Qu.:1132   1st Qu.:62.40      1st Qu.:1607      1st Qu.:1705     \n",
       " Median :1168   Median :65.65      Median :1696      Median :1788     \n",
       " Mean   :1169   Mean   :65.21      Mean   :1681      Mean   :1787     \n",
       " 3rd Qu.:1202   3rd Qu.:69.10      3rd Qu.:1752      3rd Qu.:1864     \n",
       " Max.   :1350   Max.   :74.30      Max.   :1893      Max.   :2042     \n",
       "                NA's   :926        NA's   :47        NA's   :1444     \n",
       " weight.01.02.21 weight.12.04.21 Treatment      TagID          \n",
       " Min.   :1518    Min.   :1540    OFH :3107   Length:6382       \n",
       " 1st Qu.:1742    1st Qu.:1774    TRAN:3275   Class :character  \n",
       " Median :1820    Median :1884                Mode  :character  \n",
       " Mean   :1815    Mean   :1874                                  \n",
       " 3rd Qu.:1891    3rd Qu.:1980                                  \n",
       " Max.   :2279    Max.   :2170                                  \n",
       " NA's   :784     NA's   :1615                                  \n",
       " FocalLegringName   night_level        night_Max_duration_zones\n",
       " Length:6382        Length:6382        Length:6382             \n",
       " Class :character   Class :character   Class :character        \n",
       " Mode  :character   Mode  :character   Mode  :character        \n",
       "                                                               \n",
       "                                                               \n",
       "                                                               \n",
       "                                                               \n",
       " night_distribution_entropy night_Total_number_transition  is_mvt_night   \n",
       " Min.   :0.00000            Min.   : 0.0000               Min.   :0.0000  \n",
       " 1st Qu.:0.00000            1st Qu.: 0.0000               1st Qu.:0.0000  \n",
       " Median :0.00000            Median : 0.0000               Median :0.0000  \n",
       " Mean   :0.03723            Mean   : 0.6721               Mean   :0.2521  \n",
       " 3rd Qu.:0.00437            3rd Qu.: 1.0000               3rd Qu.:1.0000  \n",
       " Max.   :1.09536            Max.   :43.0000               Max.   :1.0000  \n",
       " NA's   :179                NA's   :179                   NA's   :179     \n",
       " nbr_transition_at_h0 nbr_transition_at_h1 nbr_transition_at_h2\n",
       " Min.   :0.0000       Min.   :0.00000      Min.   :0.00000     \n",
       " 1st Qu.:0.0000       1st Qu.:0.00000      1st Qu.:0.00000     \n",
       " Median :0.0000       Median :0.00000      Median :0.00000     \n",
       " Mean   :0.0187       Mean   :0.02225      Mean   :0.01306     \n",
       " 3rd Qu.:0.0000       3rd Qu.:0.00000      3rd Qu.:0.00000     \n",
       " Max.   :6.0000       Max.   :7.00000      Max.   :5.00000     \n",
       " NA's   :179          NA's   :179          NA's   :179         \n",
       " nbr_transition_at_h3 nbr_transition_at_h4 nbr_transition_at_h5\n",
       " Min.   :0.00000      Min.   :0.00000      Min.   :0.00000     \n",
       " 1st Qu.:0.00000      1st Qu.:0.00000      1st Qu.:0.00000     \n",
       " Median :0.00000      Median :0.00000      Median :0.00000     \n",
       " Mean   :0.02064      Mean   :0.02418      Mean   :0.00822     \n",
       " 3rd Qu.:0.00000      3rd Qu.:0.00000      3rd Qu.:0.00000     \n",
       " Max.   :8.00000      Max.   :7.00000      Max.   :5.00000     \n",
       " NA's   :179          NA's   :179          NA's   :179         \n",
       " nbr_transition_at_h6 nbr_transition_at_h7 nbr_transition_at_h8\n",
       " Min.   :0.00000      Min.   :0.00000      Min.   :0.00000     \n",
       " 1st Qu.:0.00000      1st Qu.:0.00000      1st Qu.:0.00000     \n",
       " Median :0.00000      Median :0.00000      Median :0.00000     \n",
       " Mean   :0.01725      Mean   :0.01145      Mean   :0.02031     \n",
       " 3rd Qu.:0.00000      3rd Qu.:0.00000      3rd Qu.:0.00000     \n",
       " Max.   :7.00000      Max.   :7.00000      Max.   :4.00000     \n",
       " NA's   :179          NA's   :179          NA's   :179         \n",
       " nbr_transition_at_h21 nbr_transition_at_h22 nbr_transition_at_h23\n",
       " Min.   :0.0000        Min.   :0.00000       Min.   :0.00000      \n",
       " 1st Qu.:0.0000        1st Qu.:0.00000       1st Qu.:0.00000      \n",
       " Median :0.0000        Median :0.00000       Median :0.00000      \n",
       " Mean   :0.0245        Mean   :0.02176       Mean   :0.01725      \n",
       " 3rd Qu.:0.0000        3rd Qu.:0.00000       3rd Qu.:0.00000      \n",
       " Max.   :9.0000        Max.   :8.00000       Max.   :8.00000      \n",
       " NA's   :179           NA's   :179           NA's   :179          \n",
       " nbr_transition_next1hafterlightoff date_2remove_weirdLFcounter\n",
       " Min.   : 0.0000                    Length:6382                \n",
       " 1st Qu.: 0.0000                    Class :character           \n",
       " Median : 0.0000                    Mode  :character           \n",
       " Mean   : 0.3884                                               \n",
       " 3rd Qu.: 0.0000                                               \n",
       " Max.   :12.0000                                               \n",
       " NA's   :179                                                   \n",
       " nbr_temperature_nnnan temperature_night20_2_median temperature_night20_2_max\n",
       " Min.   : 25.0         Min.   :21.00                Min.   :22.00            \n",
       " 1st Qu.: 36.0         1st Qu.:27.00                1st Qu.:28.00            \n",
       " Median : 36.0         Median :28.00                Median :29.00            \n",
       " Mean   :111.9         Mean   :28.05                Mean   :29.75            \n",
       " 3rd Qu.: 37.0         3rd Qu.:29.00                3rd Qu.:31.00            \n",
       " Max.   :360.0         Max.   :40.00                Max.   :44.00            \n",
       " NA's   :1172          NA's   :1172                 NA's   :1172             \n",
       " temperature_night20_2_var len_MovementCounter_day\n",
       " Min.   : 0.0000           Min.   :60.00          \n",
       " 1st Qu.: 0.2654           1st Qu.:72.00          \n",
       " Median : 0.4321           Median :78.00          \n",
       " Mean   : 0.8761           Mean   :78.18          \n",
       " 3rd Qu.: 0.8579           3rd Qu.:90.00          \n",
       " Max.   :24.4599           Max.   :90.00          \n",
       " NA's   :1172              NA's   :1256           \n",
       " MovementCounter_day_amount_nnactivity MovementCounter_day_max\n",
       " Min.   :0.0000                        Min.   : 42.00         \n",
       " 1st Qu.:0.0000                        1st Qu.: 88.60         \n",
       " Median :0.0164                        Median : 93.00         \n",
       " Mean   :0.0331                        Mean   : 92.66         \n",
       " 3rd Qu.:0.0444                        3rd Qu.: 97.40         \n",
       " Max.   :0.8889                        Max.   :116.00         \n",
       " NA's   :1256                          NA's   :1256           \n",
       " MovementCounter_day_mean      DOA             WOA        nbr_sec_per_day\n",
       " Min.   : 9.653           Min.   :119.0   Min.   :17.00   Min.   :28800  \n",
       " 1st Qu.:55.440           1st Qu.:135.0   1st Qu.:20.00   1st Qu.:39600  \n",
       " Median :60.321           Median :147.0   Median :21.00   Median :43200  \n",
       " Mean   :59.973           Mean   :147.1   Mean   :21.44   Mean   :44195  \n",
       " 3rd Qu.:65.242           3rd Qu.:160.0   3rd Qu.:23.00   3rd Qu.:50400  \n",
       " Max.   :83.703           Max.   :172.0   Max.   :25.00   Max.   :54000  \n",
       " NA's   :1256                                                            \n",
       " is_correct_amount_time weight_DOA37.39_div_DOA118 weight_DOA37.39_div_DOA243\n",
       " Length:6382            Min.   :0.0432             Min.   :0.0270            \n",
       " Class :character       1st Qu.:0.0528             1st Qu.:0.0338            \n",
       " Mode  :character       Median :0.0560             Median :0.0359            \n",
       "                        Mean   :0.0558             Mean   :0.0360            \n",
       "                        3rd Qu.:0.0588             3rd Qu.:0.0381            \n",
       "                        Max.   :0.0674             Max.   :0.0439            \n",
       "                        NA's   :926                NA's   :1608              \n",
       " weight_DOA118_div_DOA173 weight_DOA118_div_DOA243 weight_DOA173_div_DOA243\n",
       " Min.   :0.6242           Min.   :0.5135           Min.   :0.7847          \n",
       " 1st Qu.:0.6743           1st Qu.:0.6195           1st Qu.:0.8977          \n",
       " Median :0.6949           Median :0.6425           Median :0.9292          \n",
       " Mean   :0.6975           Mean   :0.6454           Mean   :0.9260          \n",
       " 3rd Qu.:0.7150           3rd Qu.:0.6679           3rd Qu.:0.9513          \n",
       " Max.   :0.8652           Max.   :0.8303           Max.   :1.0945          \n",
       " NA's   :47               NA's   :784              NA's   :784             \n",
       "     date           temperature_C    humidity_avgpercent had_rainorsnow  \n",
       " Length:6382        Min.   : 3.000   Min.   : 59.12      Min.   :0.0000  \n",
       " Class :character   1st Qu.: 8.875   1st Qu.: 69.88      1st Qu.:0.0000  \n",
       " Mode  :character   Median :11.125   Median : 74.88      Median :1.0000  \n",
       "                    Mean   :10.603   Mean   : 76.52      Mean   :0.7029  \n",
       "                    3rd Qu.:12.500   3rd Qu.: 82.00      3rd Qu.:1.0000  \n",
       "                    Max.   :18.625   Max.   :100.00      Max.   :1.0000  \n",
       "                                                                         \n",
       "  moon_name         Illumination_percentage latency_1_Zone  latency_2_Zone \n",
       " Length:6382        Min.   : 0.1888         Min.   :  0.0   Min.   :  0.0  \n",
       " Class :character   1st Qu.:14.8313         1st Qu.:  0.0   1st Qu.:485.7  \n",
       " Mode  :character   Median :45.4612         Median :183.9   Median :654.5  \n",
       "                    Mean   :49.4766         Mean   :182.4   Mean   :586.8  \n",
       "                    3rd Qu.:86.7687         3rd Qu.:365.9   3rd Qu.:774.8  \n",
       "                    Max.   :99.8900         Max.   :418.3   Max.   :900.0  \n",
       "                                            NA's   :853                    \n",
       " latency_3_Zone  latency_4_Zone  latency_5_Zone  latency_since15mnnestbox\n",
       " Min.   :  0.0   Min.   :  0.0   Min.   :  0.0   Min.   :  0.0           \n",
       " 1st Qu.:536.7   1st Qu.:529.4   1st Qu.:597.0   1st Qu.:  0.0           \n",
       " Median :681.8   Median :664.7   Median :712.4   Median :545.2           \n",
       " Mean   :619.2   Mean   :596.7   Mean   :665.5   Mean   :414.7           \n",
       " 3rd Qu.:780.0   3rd Qu.:767.7   3rd Qu.:834.5   3rd Qu.:699.0           \n",
       " Max.   :900.0   Max.   :900.0   Max.   :900.0   Max.   :894.5           \n",
       "                                                                         \n",
       " chi2.distance     percChaoticTransition perc_duration_1_Zone\n",
       " Min.   :0.00000   Min.   : 0.00         Min.   : 0.000      \n",
       " 1st Qu.:0.01107   1st Qu.: 4.00         1st Qu.: 0.000      \n",
       " Median :0.02721   Median : 9.00         Median : 0.000      \n",
       " Mean   :0.05601   Mean   :10.31         Mean   : 2.680      \n",
       " 3rd Qu.:0.06051   3rd Qu.:15.00         3rd Qu.: 3.599      \n",
       " Max.   :1.00000   Max.   :67.00         Max.   :43.975      \n",
       " NA's   :309                                                 \n",
       " perc_duration_2_Zone perc_duration_3_Zone perc_duration_4_Zone\n",
       " Min.   :  0.00       Min.   : 0.00        Min.   : 0.000      \n",
       " 1st Qu.: 11.00       1st Qu.: 5.00        1st Qu.: 3.000      \n",
       " Median : 31.00       Median :15.00        Median : 6.000      \n",
       " Mean   : 30.78       Mean   :16.51        Mean   : 7.571      \n",
       " 3rd Qu.: 47.00       3rd Qu.:25.00        3rd Qu.: 9.000      \n",
       " Max.   :100.00       Max.   :98.00        Max.   :99.000      \n",
       "                                                               \n",
       " perc_duration_5_Zone max_duration_of_stay entropy_of_durations\n",
       " Min.   :  0.00       Min.   : 1402        Min.   :0.1232      \n",
       " 1st Qu.: 11.00       1st Qu.: 4480        1st Qu.:0.9726      \n",
       " Median : 34.00       Median : 7167        Median :1.2851      \n",
       " Mean   : 40.66       Mean   :11422        Mean   :   Inf      \n",
       " 3rd Qu.: 67.00       3rd Qu.:14392        3rd Qu.:1.6185      \n",
       " Max.   :100.00       Max.   :46800        Max.   :   Inf      \n",
       "                                           NA's   :664         \n",
       " time_wg_open_sec percentage_time_outside_while_WG_open X24htotaltransition\n",
       " Min.   : 3600    Min.   : 0.000                        Min.   :  0.00     \n",
       " 1st Qu.:18900    1st Qu.: 0.000                        1st Qu.: 22.00     \n",
       " Median :21600    Median : 1.454                        Median : 44.00     \n",
       " Mean   :20601    Mean   : 6.853                        Mean   : 43.83     \n",
       " 3rd Qu.:23400    3rd Qu.: 9.881                        3rd Qu.: 63.00     \n",
       " Max.   :24600    Max.   :91.194                        Max.   :159.00     \n",
       "                  NA's   :853                           NA's   :179        \n",
       " X.trnight..totaltr li_night_Max_duration_zones nbr_same_mainnightzone5Days\n",
       " Min.   :0.00000    Length:6382                 Min.   :0.000              \n",
       " 1st Qu.:0.00000    Class :character            1st Qu.:1.000              \n",
       " Median :0.00000    Mode  :character            Median :3.000              \n",
       " Mean   :0.02297                                Mean   :2.923              \n",
       " 3rd Qu.:0.00922                                3rd Qu.:5.000              \n",
       " Max.   :1.00000                                Max.   :5.000              \n",
       " NA's   :179                                                               \n",
       "   nbr_night_   Consistent_Night_Zone5Days\n",
       " Min.   :0.00   Min.   :0.0000            \n",
       " 1st Qu.:5.00   1st Qu.:0.0000            \n",
       " Median :5.00   Median :1.0000            \n",
       " Mean   :4.54   Mean   :0.5527            \n",
       " 3rd Qu.:5.00   3rd Qu.:1.0000            \n",
       " Max.   :5.00   Max.   :1.0000            \n",
       "                NA's   :437               \n",
       " Nestbox_time_of_first_staid_longer_than900sec_CLASS\n",
       " Length:6382                                        \n",
       " Class :character                                   \n",
       " Mode  :character                                   \n",
       "                                                    \n",
       "                                                    \n",
       "                                                    \n",
       "                                                    \n",
       " TimeFirstVisitLonger15mn.TimeFirstVisit_mn Nestbox1staylonger900_None\n",
       " Min.   :  0.0                              Length:6382               \n",
       " 1st Qu.:  6.0                              Class :character          \n",
       " Median : 41.0                              Mode  :character          \n",
       " Mean   :106.8                                                        \n",
       " 3rd Qu.:154.2                                                        \n",
       " Max.   :898.0                                                        \n",
       " NA's   :1826                                                         \n",
       " Nestbox1staylonger900_Afternoon Nestbox1staylonger900_b8\n",
       " Length:6382                     Length:6382             \n",
       " Class :character                Class :character        \n",
       " Mode  :character                Mode  :character        \n",
       "                                                         \n",
       "                                                         \n",
       "                                                         \n",
       "                                                         \n",
       " Nestbox1staylonger900_8.9 Nestbox1staylonger900_9.10\n",
       " Length:6382               Length:6382               \n",
       " Class :character          Class :character          \n",
       " Mode  :character          Mode  :character          \n",
       "                                                     \n",
       "                                                     \n",
       "                                                     \n",
       "                                                     \n",
       " Nestbox1staylonger900_10.12\n",
       " Length:6382                \n",
       " Class :character           \n",
       " Mode  :character           \n",
       "                            \n",
       "                            \n",
       "                            \n",
       "                            \n",
       " Nestbox_perc_of_visits_afternoon_vs_morning.afternoon\n",
       " Min.   :  0.00                                       \n",
       " 1st Qu.: 16.67                                       \n",
       " Median : 40.00                                       \n",
       " Mean   : 39.71                                       \n",
       " 3rd Qu.: 58.82                                       \n",
       " Max.   :100.00                                       \n",
       "                                                      \n",
       " is_max_zone_duration_zone1 is_max_zone_duration_zone2\n",
       " Length:6382                Length:6382               \n",
       " Class :character           Class :character          \n",
       " Mode  :character           Mode  :character          \n",
       "                                                      \n",
       "                                                      \n",
       "                                                      \n",
       "                                                      \n",
       " is_max_zone_duration_zone3 is_max_zone_duration_zone4\n",
       " Length:6382                Length:6382               \n",
       " Class :character           Class :character          \n",
       " Mode  :character           Mode  :character          \n",
       "                                                      \n",
       "                                                      \n",
       "                                                      \n",
       "                                                      \n",
       " is_max_zone_duration_zone5 is_max_nightzone_duration_zone2\n",
       " Length:6382                Length:6382                    \n",
       " Class :character           Class :character               \n",
       " Mode  :character           Mode  :character               \n",
       "                                                           \n",
       "                                                           \n",
       "                                                           \n",
       "                                                           \n",
       " is_max_nightzone_duration_zone3 is_max_nightzone_duration_zone4\n",
       " Length:6382                     Length:6382                    \n",
       " Class :character                Class :character               \n",
       " Mode  :character                Mode  :character               \n",
       "                                                                \n",
       "                                                                \n",
       "                                                                \n",
       "                                                                \n",
       " is_max_nightzone_duration_zone5\n",
       " Length:6382                    \n",
       " Class :character               \n",
       " Mode  :character               \n",
       "                                \n",
       "                                \n",
       "                                \n",
       "                                \n",
       " is_max_nightzone_duration_zonelitterORlowerperch clustering_general_activity\n",
       " Length:6382                                      Min.   :0.00               \n",
       " Class :character                                 1st Qu.:1.00               \n",
       " Mode  :character                                 Median :3.00               \n",
       "                                                  Mean   :2.68               \n",
       "                                                  3rd Qu.:5.00               \n",
       "                                                  Max.   :6.00               \n",
       "                                                  NA's   :940                \n",
       " clustering_nestbox clustering_WG         PC0               PC1         \n",
       " Min.   :0.0000     Min.   :0.0000   Min.   :-6.6190   Min.   :-5.5762  \n",
       " 1st Qu.:0.0000     1st Qu.:1.0000   1st Qu.:-1.0306   1st Qu.:-0.8680  \n",
       " Median :0.0000     Median :1.0000   Median : 0.7264   Median : 0.2351  \n",
       " Mean   :0.4813     Mean   :0.9392   Mean   : 1.1948   Mean   : 0.7059  \n",
       " 3rd Qu.:1.0000     3rd Qu.:1.0000   3rd Qu.: 2.9883   3rd Qu.: 1.8935  \n",
       " Max.   :2.0000     Max.   :2.0000   Max.   :14.8939   Max.   :14.7205  \n",
       " NA's   :1826                        NA's   :940       NA's   :940      \n",
       "      PC2                PC3               PC4               PC5         \n",
       " Min.   :-12.3042   Min.   :-4.9652   Min.   :-3.4566   Min.   :-9.2838  \n",
       " 1st Qu.: -0.7240   1st Qu.:-0.2617   1st Qu.:-1.1733   1st Qu.:-0.6151  \n",
       " Median :  0.4480   Median : 0.7737   Median :-0.4620   Median : 0.3288  \n",
       " Mean   :  0.4288   Mean   : 0.9688   Mean   :-0.2115   Mean   : 0.4835  \n",
       " 3rd Qu.:  1.6606   3rd Qu.: 1.9330   3rd Qu.: 0.3678   3rd Qu.: 1.4299  \n",
       " Max.   : 10.5451   Max.   :18.6598   Max.   :15.0178   Max.   :11.0154  \n",
       " NA's   :940        NA's   :940       NA's   :940       NA's   :940      \n",
       "      PC6               PC7          clustering_ALL   weeks_in_laying_barn\n",
       " Min.   :-7.8625   Min.   :-4.3757   Min.   :0.0000   Min.   :1.000       \n",
       " 1st Qu.:-0.9824   1st Qu.:-0.4923   1st Qu.:0.0000   1st Qu.:3.000       \n",
       " Median :-0.3003   Median : 0.2346   Median :1.0000   Median :5.000       \n",
       " Mean   :-0.2200   Mean   : 0.3887   Mean   :0.9568   Mean   :4.602       \n",
       " 3rd Qu.: 0.4422   3rd Qu.: 1.0489   3rd Qu.:2.0000   3rd Qu.:6.000       \n",
       " Max.   :16.3642   Max.   :13.3967   Max.   :2.0000   Max.   :8.000       \n",
       " NA's   :940       NA's   :940       NA's   :940                          \n",
       " closeness_DTW_30_1_Zone closeness_DTW_30_2_Zone closeness_DTW_30_3_Zone\n",
       " Min.   :0.0000          Min.   :0.0000          Min.   :0.0000         \n",
       " 1st Qu.:0.6448          1st Qu.:0.2455          1st Qu.:0.2371         \n",
       " Median :0.7858          Median :0.3108          Median :0.4434         \n",
       " Mean   :0.7387          Mean   :0.3035          Mean   :0.4008         \n",
       " 3rd Qu.:0.8936          3rd Qu.:0.3770          3rd Qu.:0.5938         \n",
       " Max.   :1.0000          Max.   :0.6116          Max.   :0.9330         \n",
       "                                                                        \n",
       " closeness_DTW_30_4_Zone closeness_DTW_30_5_Zone closeness_DTW_30_all\n",
       " Min.   :0.0000          Min.   :0.0000          Min.   :0.0000      \n",
       " 1st Qu.:0.5002          1st Qu.:0.3915          1st Qu.:0.2769      \n",
       " Median :0.6072          Median :0.4413          Median :0.3507      \n",
       " Mean   :0.5716          Mean   :0.4342          Mean   :0.3471      \n",
       " 3rd Qu.:0.6882          3rd Qu.:0.4914          3rd Qu.:0.4275      \n",
       " Max.   :0.8470          Max.   :0.6804          Max.   :0.7028      \n",
       "                                                                     \n",
       " betweeness_DTW_30_1_Zone betweeness_DTW_30_2_Zone betweeness_DTW_30_3_Zone\n",
       " Min.   :0.000e+00        Min.   :0.0000000        Min.   :0.0000000       \n",
       " 1st Qu.:5.220e-06        1st Qu.:0.0003089        1st Qu.:0.0000619       \n",
       " Median :8.761e-05        Median :0.0037274        Median :0.0010494       \n",
       " Mean   :2.501e-03        Mean   :0.0130685        Mean   :0.0049737       \n",
       " 3rd Qu.:1.938e-03        3rd Qu.:0.0144676        3rd Qu.:0.0061387       \n",
       " Max.   :6.672e-02        Max.   :0.4090239        Max.   :0.2000603       \n",
       "                                                                           \n",
       " betweeness_DTW_30_4_Zone betweeness_DTW_30_5_Zone betweeness_DTW_30_all\n",
       " Min.   :0.0000000        Min.   :0.0000000        Min.   :0.0000000    \n",
       " 1st Qu.:0.0004712        1st Qu.:0.0008196        1st Qu.:0.0005261    \n",
       " Median :0.0023071        Median :0.0034979        Median :0.0033779    \n",
       " Mean   :0.0042108        Mean   :0.0098238        Mean   :0.0111334    \n",
       " 3rd Qu.:0.0053654        3rd Qu.:0.0111576        3rd Qu.:0.0122113    \n",
       " Max.   :0.0940956        Max.   :0.3690630        Max.   :0.3123477    \n",
       "                                                                        \n",
       " degree_DTW_30_1_Zone degree_DTW_30_2_Zone degree_DTW_30_3_Zone\n",
       " Min.   :0.0000       Min.   :0.00000      Min.   :0.00000     \n",
       " 1st Qu.:0.6456       1st Qu.:0.02632      1st Qu.:0.02532     \n",
       " Median :0.7871       Median :0.06329      Median :0.20290     \n",
       " Mean   :0.6775       Mean   :0.13140      Mean   :0.26001     \n",
       " 3rd Qu.:0.8950       3rd Qu.:0.13376      3rd Qu.:0.48718     \n",
       " Max.   :1.0000       Max.   :0.61745      Max.   :0.93548     \n",
       "                                                               \n",
       " degree_DTW_30_4_Zone degree_DTW_30_5_Zone degree_DTW_30_all  ALL_MLPS_99   \n",
       " Min.   :0.0000       Min.   :0.0000       Min.   :0.00000   Min.   : 0.00  \n",
       " 1st Qu.:0.2484       1st Qu.:0.1013       1st Qu.:0.03871   1st Qu.:15.00  \n",
       " Median :0.4774       Median :0.2866       Median :0.11392   Median :29.00  \n",
       " Mean   :0.4391       Mean   :0.2592       Mean   :0.15978   Mean   :37.42  \n",
       " 3rd Qu.:0.6452       3rd Qu.:0.4051       3rd Qu.:0.23567   3rd Qu.:67.00  \n",
       " Max.   :0.8681       Max.   :0.6624       Max.   :0.61074   Max.   :98.00  \n",
       "                                                             NA's   :1236   \n",
       "  ALL_MLPS_10     ALL_MLPS_40          DIB            WIB       \n",
       " Min.   :0.000   Min.   : 0.000   Min.   : 1.0   Min.   :1.000  \n",
       " 1st Qu.:2.000   1st Qu.: 5.000   1st Qu.:17.0   1st Qu.:3.000  \n",
       " Median :5.000   Median : 5.000   Median :29.0   Median :5.000  \n",
       " Mean   :3.424   Mean   : 9.669   Mean   :29.1   Mean   :4.602  \n",
       " 3rd Qu.:5.000   3rd Qu.:13.000   3rd Qu.:42.0   3rd Qu.:6.000  \n",
       " Max.   :9.000   Max.   :39.000   Max.   :54.0   Max.   :8.000  \n",
       " NA's   :1236    NA's   :1236                                   \n",
       " in_WG_15mnAfterOpening_whenopen             TrackingSystemID\n",
       " Min.   :0.0000                  TrackingSystem 10-12:2645   \n",
       " 1st Qu.:0.0000                  TrackingSystem 3-5  :2170   \n",
       " Median :0.0000                  TrackingSystem 8-9  :1567   \n",
       " Mean   :0.2118                                              \n",
       " 3rd Qu.:0.0000                                              \n",
       " Max.   :1.0000                                              \n",
       " NA's   :853                                                 \n",
       " vertical_travel_distance_perh\n",
       " Min.   : 0.000               \n",
       " 1st Qu.: 1.860               \n",
       " Median : 3.333               \n",
       " Mean   : 3.335               \n",
       " 3rd Qu.: 4.667               \n",
       " Max.   :13.300               \n",
       "                              "
      ]
     },
     "metadata": {},
     "output_type": "display_data"
    }
   ],
   "source": [
    "path_ = 'G:/VPHI/Welfare/2- Research Projects/OFHE2.OriginsE2/DataOutput/TrackingSystem/correctlightschedule_'\n",
    "path_adapt = file.path(path_,'Adaptability')\n",
    "path_model = file.path(path_adapt,'repeatability_model')\n",
    "df = read.csv(file.path(path_,'df_MVT_4repeatibility.csv'), header = TRUE, sep = \";\")\n",
    "df$HenID = as.factor(df$HenID)   \n",
    "df$PenID = as.factor(df$PenID) \n",
    "df$TrackingSystemID = as.factor(df$TrackingSystemID) \n",
    "df$Treatment = as.factor(df$Treatment) \n",
    "#li_var_cont = c('ID0','ID1','ID2','ID3','ID4','ID5','ID6','ID7')\n",
    "#df$maxsevGap0_divided_maxsev_round = round(df$maxsevGap0_divided_maxsev, 1)\n",
    "#df$maxsevGap0_divided_maxsev_round_log <- log(df$maxsevGap0_divided_maxsev_round)\n",
    "#print(as.data.frame(table(df$maxsevGap0_divided_maxsev_round)))\n",
    "#df_ = df[,c(li_var_cont, 'maxsevGap0_divided_maxsev_round','maxsevGap0_divided_maxsev_round_log')] \n",
    "print(dim(df))\n",
    "summary(df)"
   ]
  },
  {
   "cell_type": "markdown",
   "metadata": {},
   "source": [
    "li_mvt4MLPs = c('perc_duration_5_Zone','perc_duration_4_Zone', 'perc_duration_3_Zone', 'perc_duration_2_Zone',\n",
    "               'vertical_travel_distance_perh')\n",
    "#'percentage_time_outside_while_WG_open', 'latency_1_Zone', "
   ]
  },
  {
   "cell_type": "markdown",
   "metadata": {},
   "source": [
    "# Repeatability per week"
   ]
  },
  {
   "cell_type": "markdown",
   "metadata": {},
   "source": [
    "df_WIB4 = df[ which(df$WIB==4), ]\n",
    "dim(df_WIB4)\n",
    "rpet = rpt(perc_duration_5_Zone ~ Treatment + (1 | HenID), grname = c(\"HenID\"), data = df_WIB4, datatype = \"Poisson\", nboot = 10, \n",
    "    npermut = 0)\n",
    "summary(rpet)"
   ]
  },
  {
   "cell_type": "code",
   "execution_count": 5,
   "metadata": {},
   "outputs": [
    {
     "name": "stdout",
     "output_type": "stream",
     "text": [
      "Bootstrap Progress:\n",
      "Bootstrap Progress:\n",
      "Bootstrap Progress:\n",
      "Bootstrap Progress:\n",
      "Bootstrap Progress:\n",
      "Bootstrap Progress:\n",
      "Bootstrap Progress:\n",
      "Bootstrap Progress:\n",
      "Bootstrap Progress:\n",
      "Bootstrap Progress:\n",
      "Bootstrap Progress:\n",
      "Bootstrap Progress:\n",
      "Bootstrap Progress:\n",
      "Bootstrap Progress:\n",
      "Bootstrap Progress:\n",
      "Bootstrap Progress:\n",
      "Bootstrap Progress:\n",
      "Bootstrap Progress:\n",
      "Bootstrap Progress:\n",
      "Bootstrap Progress:\n",
      "Bootstrap Progress:\n",
      "Bootstrap Progress:\n",
      "Bootstrap Progress:\n",
      "Bootstrap Progress:\n",
      "Bootstrap Progress:\n",
      "Bootstrap Progress:\n",
      "Bootstrap Progress:\n",
      "Bootstrap Progress:\n",
      "Bootstrap Progress:\n",
      "Bootstrap Progress:\n",
      "Bootstrap Progress:\n",
      "Bootstrap Progress:\n"
     ]
    },
    {
     "data": {
      "text/html": [
       "<table class=\"dataframe\">\n",
       "<caption>A data.frame: 32 × 9</caption>\n",
       "<thead>\n",
       "\t<tr><th scope=col>li_R_org</th><th scope=col>li_CIL_org</th><th scope=col>li_CIU_org</th><th scope=col>li_P</th><th scope=col>li_se_org</th><th scope=col>li_ngroup</th><th scope=col>li_nobs</th><th scope=col>li_var</th><th scope=col>li_wib</th></tr>\n",
       "\t<tr><th scope=col>&lt;dbl&gt;</th><th scope=col>&lt;dbl&gt;</th><th scope=col>&lt;dbl&gt;</th><th scope=col>&lt;dbl&gt;</th><th scope=col>&lt;dbl&gt;</th><th scope=col>&lt;int&gt;</th><th scope=col>&lt;int&gt;</th><th scope=col>&lt;chr&gt;</th><th scope=col>&lt;int&gt;</th></tr>\n",
       "</thead>\n",
       "<tbody>\n",
       "\t<tr><td>0.5592112</td><td>0.4290123</td><td>0.6680088</td><td> 1.186302e-31</td><td>0.06188417</td><td>52</td><td>312</td><td>perc_duration_5_Zone         </td><td>1</td></tr>\n",
       "\t<tr><td>0.4509007</td><td>0.3230667</td><td>0.5663130</td><td> 3.100812e-21</td><td>0.06157180</td><td>52</td><td>312</td><td>perc_duration_3_Zone         </td><td>1</td></tr>\n",
       "\t<tr><td>0.5779453</td><td>0.4407367</td><td>0.6827438</td><td> 8.745185e-34</td><td>0.06139628</td><td>52</td><td>312</td><td>perc_duration_2_Zone         </td><td>1</td></tr>\n",
       "\t<tr><td>0.6991363</td><td>0.5848412</td><td>0.7868615</td><td> 5.729824e-51</td><td>0.05140689</td><td>52</td><td>312</td><td>vertical_travel_distance_perh</td><td>1</td></tr>\n",
       "\t<tr><td>0.8198924</td><td>0.7418106</td><td>0.8763266</td><td> 2.429944e-61</td><td>0.03442098</td><td>52</td><td>260</td><td>perc_duration_5_Zone         </td><td>2</td></tr>\n",
       "\t<tr><td>0.7647206</td><td>0.6636806</td><td>0.8384294</td><td> 5.815016e-50</td><td>0.04335428</td><td>52</td><td>260</td><td>perc_duration_3_Zone         </td><td>2</td></tr>\n",
       "\t<tr><td>0.7779483</td><td>0.6776562</td><td>0.8463507</td><td> 2.088127e-52</td><td>0.04292130</td><td>52</td><td>260</td><td>perc_duration_2_Zone         </td><td>2</td></tr>\n",
       "\t<tr><td>0.7674396</td><td>0.6623760</td><td>0.8437868</td><td> 1.880962e-50</td><td>0.04396191</td><td>52</td><td>260</td><td>vertical_travel_distance_perh</td><td>2</td></tr>\n",
       "\t<tr><td>0.8228896</td><td>0.7446751</td><td>0.8773487</td><td> 6.042862e-96</td><td>0.03470656</td><td>52</td><td>362</td><td>perc_duration_5_Zone         </td><td>3</td></tr>\n",
       "\t<tr><td>0.7255268</td><td>0.6292326</td><td>0.7997972</td><td> 4.324526e-68</td><td>0.04534919</td><td>52</td><td>362</td><td>perc_duration_3_Zone         </td><td>3</td></tr>\n",
       "\t<tr><td>0.8129735</td><td>0.7209487</td><td>0.8700364</td><td> 2.279127e-92</td><td>0.03717034</td><td>52</td><td>362</td><td>perc_duration_2_Zone         </td><td>3</td></tr>\n",
       "\t<tr><td>0.8022726</td><td>0.7064285</td><td>0.8581469</td><td> 5.937447e-89</td><td>0.03790647</td><td>52</td><td>362</td><td>vertical_travel_distance_perh</td><td>3</td></tr>\n",
       "\t<tr><td>0.6838319</td><td>0.5721583</td><td>0.7653032</td><td> 2.289346e-59</td><td>0.05071825</td><td>52</td><td>364</td><td>perc_duration_5_Zone         </td><td>4</td></tr>\n",
       "\t<tr><td>0.7424327</td><td>0.6366083</td><td>0.8169904</td><td> 2.547867e-72</td><td>0.04458920</td><td>52</td><td>364</td><td>perc_duration_3_Zone         </td><td>4</td></tr>\n",
       "\t<tr><td>0.6671171</td><td>0.5480157</td><td>0.7515829</td><td> 3.748402e-56</td><td>0.05295204</td><td>52</td><td>364</td><td>perc_duration_2_Zone         </td><td>4</td></tr>\n",
       "\t<tr><td>0.5857598</td><td>0.4536439</td><td>0.6832365</td><td> 9.479097e-43</td><td>0.05783807</td><td>52</td><td>364</td><td>vertical_travel_distance_perh</td><td>4</td></tr>\n",
       "\t<tr><td>0.8413708</td><td>0.7719328</td><td>0.8871341</td><td>1.729204e-103</td><td>0.03016881</td><td>52</td><td>363</td><td>perc_duration_5_Zone         </td><td>5</td></tr>\n",
       "\t<tr><td>0.8042736</td><td>0.7191879</td><td>0.8633163</td><td> 8.058616e-90</td><td>0.03670151</td><td>52</td><td>363</td><td>perc_duration_3_Zone         </td><td>5</td></tr>\n",
       "\t<tr><td>0.7472430</td><td>0.6409250</td><td>0.8181504</td><td> 2.039533e-73</td><td>0.04596480</td><td>52</td><td>363</td><td>perc_duration_2_Zone         </td><td>5</td></tr>\n",
       "\t<tr><td>0.6719141</td><td>0.5523846</td><td>0.7621770</td><td> 7.957377e-57</td><td>0.05345828</td><td>52</td><td>363</td><td>vertical_travel_distance_perh</td><td>5</td></tr>\n",
       "\t<tr><td>0.8151780</td><td>0.7396565</td><td>0.8710691</td><td> 1.033718e-93</td><td>0.03488543</td><td>52</td><td>364</td><td>perc_duration_5_Zone         </td><td>6</td></tr>\n",
       "\t<tr><td>0.6268996</td><td>0.5137191</td><td>0.7248570</td><td> 4.151225e-49</td><td>0.05517101</td><td>52</td><td>364</td><td>perc_duration_3_Zone         </td><td>6</td></tr>\n",
       "\t<tr><td>0.8334593</td><td>0.7541657</td><td>0.8835387</td><td>1.666667e-100</td><td>0.03201833</td><td>52</td><td>364</td><td>perc_duration_2_Zone         </td><td>6</td></tr>\n",
       "\t<tr><td>0.6982304</td><td>0.5888396</td><td>0.7825081</td><td> 2.730538e-62</td><td>0.05046488</td><td>52</td><td>364</td><td>vertical_travel_distance_perh</td><td>6</td></tr>\n",
       "\t<tr><td>0.8922521</td><td>0.8366793</td><td>0.9260240</td><td>3.457611e-129</td><td>0.02285773</td><td>52</td><td>364</td><td>perc_duration_5_Zone         </td><td>7</td></tr>\n",
       "\t<tr><td>0.8138036</td><td>0.7328368</td><td>0.8712511</td><td> 3.135753e-93</td><td>0.03616465</td><td>52</td><td>364</td><td>perc_duration_3_Zone         </td><td>7</td></tr>\n",
       "\t<tr><td>0.8755901</td><td>0.8098715</td><td>0.9147291</td><td>1.130411e-119</td><td>0.02641510</td><td>52</td><td>364</td><td>perc_duration_2_Zone         </td><td>7</td></tr>\n",
       "\t<tr><td>0.7590299</td><td>0.6632653</td><td>0.8279832</td><td> 1.410118e-76</td><td>0.04161137</td><td>52</td><td>364</td><td>vertical_travel_distance_perh</td><td>7</td></tr>\n",
       "\t<tr><td>0.8730436</td><td>0.8124187</td><td>0.9160344</td><td> 1.822587e-75</td><td>0.02671846</td><td>52</td><td>256</td><td>perc_duration_5_Zone         </td><td>8</td></tr>\n",
       "\t<tr><td>0.8822033</td><td>0.8216923</td><td>0.9212184</td><td> 9.947823e-78</td><td>0.02620639</td><td>52</td><td>256</td><td>perc_duration_3_Zone         </td><td>8</td></tr>\n",
       "\t<tr><td>0.8804551</td><td>0.8164915</td><td>0.9191914</td><td> 1.245819e-74</td><td>0.02671709</td><td>52</td><td>256</td><td>perc_duration_2_Zone         </td><td>8</td></tr>\n",
       "\t<tr><td>0.8512447</td><td>0.7794706</td><td>0.8975387</td><td> 3.739340e-65</td><td>0.03073337</td><td>52</td><td>256</td><td>vertical_travel_distance_perh</td><td>8</td></tr>\n",
       "</tbody>\n",
       "</table>\n"
      ],
      "text/latex": [
       "A data.frame: 32 × 9\n",
       "\\begin{tabular}{lllllllll}\n",
       " li\\_R\\_org & li\\_CIL\\_org & li\\_CIU\\_org & li\\_P & li\\_se\\_org & li\\_ngroup & li\\_nobs & li\\_var & li\\_wib\\\\\n",
       " <dbl> & <dbl> & <dbl> & <dbl> & <dbl> & <int> & <int> & <chr> & <int>\\\\\n",
       "\\hline\n",
       "\t 0.5592112 & 0.4290123 & 0.6680088 &  1.186302e-31 & 0.06188417 & 52 & 312 & perc\\_duration\\_5\\_Zone          & 1\\\\\n",
       "\t 0.4509007 & 0.3230667 & 0.5663130 &  3.100812e-21 & 0.06157180 & 52 & 312 & perc\\_duration\\_3\\_Zone          & 1\\\\\n",
       "\t 0.5779453 & 0.4407367 & 0.6827438 &  8.745185e-34 & 0.06139628 & 52 & 312 & perc\\_duration\\_2\\_Zone          & 1\\\\\n",
       "\t 0.6991363 & 0.5848412 & 0.7868615 &  5.729824e-51 & 0.05140689 & 52 & 312 & vertical\\_travel\\_distance\\_perh & 1\\\\\n",
       "\t 0.8198924 & 0.7418106 & 0.8763266 &  2.429944e-61 & 0.03442098 & 52 & 260 & perc\\_duration\\_5\\_Zone          & 2\\\\\n",
       "\t 0.7647206 & 0.6636806 & 0.8384294 &  5.815016e-50 & 0.04335428 & 52 & 260 & perc\\_duration\\_3\\_Zone          & 2\\\\\n",
       "\t 0.7779483 & 0.6776562 & 0.8463507 &  2.088127e-52 & 0.04292130 & 52 & 260 & perc\\_duration\\_2\\_Zone          & 2\\\\\n",
       "\t 0.7674396 & 0.6623760 & 0.8437868 &  1.880962e-50 & 0.04396191 & 52 & 260 & vertical\\_travel\\_distance\\_perh & 2\\\\\n",
       "\t 0.8228896 & 0.7446751 & 0.8773487 &  6.042862e-96 & 0.03470656 & 52 & 362 & perc\\_duration\\_5\\_Zone          & 3\\\\\n",
       "\t 0.7255268 & 0.6292326 & 0.7997972 &  4.324526e-68 & 0.04534919 & 52 & 362 & perc\\_duration\\_3\\_Zone          & 3\\\\\n",
       "\t 0.8129735 & 0.7209487 & 0.8700364 &  2.279127e-92 & 0.03717034 & 52 & 362 & perc\\_duration\\_2\\_Zone          & 3\\\\\n",
       "\t 0.8022726 & 0.7064285 & 0.8581469 &  5.937447e-89 & 0.03790647 & 52 & 362 & vertical\\_travel\\_distance\\_perh & 3\\\\\n",
       "\t 0.6838319 & 0.5721583 & 0.7653032 &  2.289346e-59 & 0.05071825 & 52 & 364 & perc\\_duration\\_5\\_Zone          & 4\\\\\n",
       "\t 0.7424327 & 0.6366083 & 0.8169904 &  2.547867e-72 & 0.04458920 & 52 & 364 & perc\\_duration\\_3\\_Zone          & 4\\\\\n",
       "\t 0.6671171 & 0.5480157 & 0.7515829 &  3.748402e-56 & 0.05295204 & 52 & 364 & perc\\_duration\\_2\\_Zone          & 4\\\\\n",
       "\t 0.5857598 & 0.4536439 & 0.6832365 &  9.479097e-43 & 0.05783807 & 52 & 364 & vertical\\_travel\\_distance\\_perh & 4\\\\\n",
       "\t 0.8413708 & 0.7719328 & 0.8871341 & 1.729204e-103 & 0.03016881 & 52 & 363 & perc\\_duration\\_5\\_Zone          & 5\\\\\n",
       "\t 0.8042736 & 0.7191879 & 0.8633163 &  8.058616e-90 & 0.03670151 & 52 & 363 & perc\\_duration\\_3\\_Zone          & 5\\\\\n",
       "\t 0.7472430 & 0.6409250 & 0.8181504 &  2.039533e-73 & 0.04596480 & 52 & 363 & perc\\_duration\\_2\\_Zone          & 5\\\\\n",
       "\t 0.6719141 & 0.5523846 & 0.7621770 &  7.957377e-57 & 0.05345828 & 52 & 363 & vertical\\_travel\\_distance\\_perh & 5\\\\\n",
       "\t 0.8151780 & 0.7396565 & 0.8710691 &  1.033718e-93 & 0.03488543 & 52 & 364 & perc\\_duration\\_5\\_Zone          & 6\\\\\n",
       "\t 0.6268996 & 0.5137191 & 0.7248570 &  4.151225e-49 & 0.05517101 & 52 & 364 & perc\\_duration\\_3\\_Zone          & 6\\\\\n",
       "\t 0.8334593 & 0.7541657 & 0.8835387 & 1.666667e-100 & 0.03201833 & 52 & 364 & perc\\_duration\\_2\\_Zone          & 6\\\\\n",
       "\t 0.6982304 & 0.5888396 & 0.7825081 &  2.730538e-62 & 0.05046488 & 52 & 364 & vertical\\_travel\\_distance\\_perh & 6\\\\\n",
       "\t 0.8922521 & 0.8366793 & 0.9260240 & 3.457611e-129 & 0.02285773 & 52 & 364 & perc\\_duration\\_5\\_Zone          & 7\\\\\n",
       "\t 0.8138036 & 0.7328368 & 0.8712511 &  3.135753e-93 & 0.03616465 & 52 & 364 & perc\\_duration\\_3\\_Zone          & 7\\\\\n",
       "\t 0.8755901 & 0.8098715 & 0.9147291 & 1.130411e-119 & 0.02641510 & 52 & 364 & perc\\_duration\\_2\\_Zone          & 7\\\\\n",
       "\t 0.7590299 & 0.6632653 & 0.8279832 &  1.410118e-76 & 0.04161137 & 52 & 364 & vertical\\_travel\\_distance\\_perh & 7\\\\\n",
       "\t 0.8730436 & 0.8124187 & 0.9160344 &  1.822587e-75 & 0.02671846 & 52 & 256 & perc\\_duration\\_5\\_Zone          & 8\\\\\n",
       "\t 0.8822033 & 0.8216923 & 0.9212184 &  9.947823e-78 & 0.02620639 & 52 & 256 & perc\\_duration\\_3\\_Zone          & 8\\\\\n",
       "\t 0.8804551 & 0.8164915 & 0.9191914 &  1.245819e-74 & 0.02671709 & 52 & 256 & perc\\_duration\\_2\\_Zone          & 8\\\\\n",
       "\t 0.8512447 & 0.7794706 & 0.8975387 &  3.739340e-65 & 0.03073337 & 52 & 256 & vertical\\_travel\\_distance\\_perh & 8\\\\\n",
       "\\end{tabular}\n"
      ],
      "text/markdown": [
       "\n",
       "A data.frame: 32 × 9\n",
       "\n",
       "| li_R_org &lt;dbl&gt; | li_CIL_org &lt;dbl&gt; | li_CIU_org &lt;dbl&gt; | li_P &lt;dbl&gt; | li_se_org &lt;dbl&gt; | li_ngroup &lt;int&gt; | li_nobs &lt;int&gt; | li_var &lt;chr&gt; | li_wib &lt;int&gt; |\n",
       "|---|---|---|---|---|---|---|---|---|\n",
       "| 0.5592112 | 0.4290123 | 0.6680088 |  1.186302e-31 | 0.06188417 | 52 | 312 | perc_duration_5_Zone          | 1 |\n",
       "| 0.4509007 | 0.3230667 | 0.5663130 |  3.100812e-21 | 0.06157180 | 52 | 312 | perc_duration_3_Zone          | 1 |\n",
       "| 0.5779453 | 0.4407367 | 0.6827438 |  8.745185e-34 | 0.06139628 | 52 | 312 | perc_duration_2_Zone          | 1 |\n",
       "| 0.6991363 | 0.5848412 | 0.7868615 |  5.729824e-51 | 0.05140689 | 52 | 312 | vertical_travel_distance_perh | 1 |\n",
       "| 0.8198924 | 0.7418106 | 0.8763266 |  2.429944e-61 | 0.03442098 | 52 | 260 | perc_duration_5_Zone          | 2 |\n",
       "| 0.7647206 | 0.6636806 | 0.8384294 |  5.815016e-50 | 0.04335428 | 52 | 260 | perc_duration_3_Zone          | 2 |\n",
       "| 0.7779483 | 0.6776562 | 0.8463507 |  2.088127e-52 | 0.04292130 | 52 | 260 | perc_duration_2_Zone          | 2 |\n",
       "| 0.7674396 | 0.6623760 | 0.8437868 |  1.880962e-50 | 0.04396191 | 52 | 260 | vertical_travel_distance_perh | 2 |\n",
       "| 0.8228896 | 0.7446751 | 0.8773487 |  6.042862e-96 | 0.03470656 | 52 | 362 | perc_duration_5_Zone          | 3 |\n",
       "| 0.7255268 | 0.6292326 | 0.7997972 |  4.324526e-68 | 0.04534919 | 52 | 362 | perc_duration_3_Zone          | 3 |\n",
       "| 0.8129735 | 0.7209487 | 0.8700364 |  2.279127e-92 | 0.03717034 | 52 | 362 | perc_duration_2_Zone          | 3 |\n",
       "| 0.8022726 | 0.7064285 | 0.8581469 |  5.937447e-89 | 0.03790647 | 52 | 362 | vertical_travel_distance_perh | 3 |\n",
       "| 0.6838319 | 0.5721583 | 0.7653032 |  2.289346e-59 | 0.05071825 | 52 | 364 | perc_duration_5_Zone          | 4 |\n",
       "| 0.7424327 | 0.6366083 | 0.8169904 |  2.547867e-72 | 0.04458920 | 52 | 364 | perc_duration_3_Zone          | 4 |\n",
       "| 0.6671171 | 0.5480157 | 0.7515829 |  3.748402e-56 | 0.05295204 | 52 | 364 | perc_duration_2_Zone          | 4 |\n",
       "| 0.5857598 | 0.4536439 | 0.6832365 |  9.479097e-43 | 0.05783807 | 52 | 364 | vertical_travel_distance_perh | 4 |\n",
       "| 0.8413708 | 0.7719328 | 0.8871341 | 1.729204e-103 | 0.03016881 | 52 | 363 | perc_duration_5_Zone          | 5 |\n",
       "| 0.8042736 | 0.7191879 | 0.8633163 |  8.058616e-90 | 0.03670151 | 52 | 363 | perc_duration_3_Zone          | 5 |\n",
       "| 0.7472430 | 0.6409250 | 0.8181504 |  2.039533e-73 | 0.04596480 | 52 | 363 | perc_duration_2_Zone          | 5 |\n",
       "| 0.6719141 | 0.5523846 | 0.7621770 |  7.957377e-57 | 0.05345828 | 52 | 363 | vertical_travel_distance_perh | 5 |\n",
       "| 0.8151780 | 0.7396565 | 0.8710691 |  1.033718e-93 | 0.03488543 | 52 | 364 | perc_duration_5_Zone          | 6 |\n",
       "| 0.6268996 | 0.5137191 | 0.7248570 |  4.151225e-49 | 0.05517101 | 52 | 364 | perc_duration_3_Zone          | 6 |\n",
       "| 0.8334593 | 0.7541657 | 0.8835387 | 1.666667e-100 | 0.03201833 | 52 | 364 | perc_duration_2_Zone          | 6 |\n",
       "| 0.6982304 | 0.5888396 | 0.7825081 |  2.730538e-62 | 0.05046488 | 52 | 364 | vertical_travel_distance_perh | 6 |\n",
       "| 0.8922521 | 0.8366793 | 0.9260240 | 3.457611e-129 | 0.02285773 | 52 | 364 | perc_duration_5_Zone          | 7 |\n",
       "| 0.8138036 | 0.7328368 | 0.8712511 |  3.135753e-93 | 0.03616465 | 52 | 364 | perc_duration_3_Zone          | 7 |\n",
       "| 0.8755901 | 0.8098715 | 0.9147291 | 1.130411e-119 | 0.02641510 | 52 | 364 | perc_duration_2_Zone          | 7 |\n",
       "| 0.7590299 | 0.6632653 | 0.8279832 |  1.410118e-76 | 0.04161137 | 52 | 364 | vertical_travel_distance_perh | 7 |\n",
       "| 0.8730436 | 0.8124187 | 0.9160344 |  1.822587e-75 | 0.02671846 | 52 | 256 | perc_duration_5_Zone          | 8 |\n",
       "| 0.8822033 | 0.8216923 | 0.9212184 |  9.947823e-78 | 0.02620639 | 52 | 256 | perc_duration_3_Zone          | 8 |\n",
       "| 0.8804551 | 0.8164915 | 0.9191914 |  1.245819e-74 | 0.02671709 | 52 | 256 | perc_duration_2_Zone          | 8 |\n",
       "| 0.8512447 | 0.7794706 | 0.8975387 |  3.739340e-65 | 0.03073337 | 52 | 256 | vertical_travel_distance_perh | 8 |\n",
       "\n"
      ],
      "text/plain": [
       "   li_R_org  li_CIL_org li_CIU_org li_P          li_se_org  li_ngroup li_nobs\n",
       "1  0.5592112 0.4290123  0.6680088   1.186302e-31 0.06188417 52        312    \n",
       "2  0.4509007 0.3230667  0.5663130   3.100812e-21 0.06157180 52        312    \n",
       "3  0.5779453 0.4407367  0.6827438   8.745185e-34 0.06139628 52        312    \n",
       "4  0.6991363 0.5848412  0.7868615   5.729824e-51 0.05140689 52        312    \n",
       "5  0.8198924 0.7418106  0.8763266   2.429944e-61 0.03442098 52        260    \n",
       "6  0.7647206 0.6636806  0.8384294   5.815016e-50 0.04335428 52        260    \n",
       "7  0.7779483 0.6776562  0.8463507   2.088127e-52 0.04292130 52        260    \n",
       "8  0.7674396 0.6623760  0.8437868   1.880962e-50 0.04396191 52        260    \n",
       "9  0.8228896 0.7446751  0.8773487   6.042862e-96 0.03470656 52        362    \n",
       "10 0.7255268 0.6292326  0.7997972   4.324526e-68 0.04534919 52        362    \n",
       "11 0.8129735 0.7209487  0.8700364   2.279127e-92 0.03717034 52        362    \n",
       "12 0.8022726 0.7064285  0.8581469   5.937447e-89 0.03790647 52        362    \n",
       "13 0.6838319 0.5721583  0.7653032   2.289346e-59 0.05071825 52        364    \n",
       "14 0.7424327 0.6366083  0.8169904   2.547867e-72 0.04458920 52        364    \n",
       "15 0.6671171 0.5480157  0.7515829   3.748402e-56 0.05295204 52        364    \n",
       "16 0.5857598 0.4536439  0.6832365   9.479097e-43 0.05783807 52        364    \n",
       "17 0.8413708 0.7719328  0.8871341  1.729204e-103 0.03016881 52        363    \n",
       "18 0.8042736 0.7191879  0.8633163   8.058616e-90 0.03670151 52        363    \n",
       "19 0.7472430 0.6409250  0.8181504   2.039533e-73 0.04596480 52        363    \n",
       "20 0.6719141 0.5523846  0.7621770   7.957377e-57 0.05345828 52        363    \n",
       "21 0.8151780 0.7396565  0.8710691   1.033718e-93 0.03488543 52        364    \n",
       "22 0.6268996 0.5137191  0.7248570   4.151225e-49 0.05517101 52        364    \n",
       "23 0.8334593 0.7541657  0.8835387  1.666667e-100 0.03201833 52        364    \n",
       "24 0.6982304 0.5888396  0.7825081   2.730538e-62 0.05046488 52        364    \n",
       "25 0.8922521 0.8366793  0.9260240  3.457611e-129 0.02285773 52        364    \n",
       "26 0.8138036 0.7328368  0.8712511   3.135753e-93 0.03616465 52        364    \n",
       "27 0.8755901 0.8098715  0.9147291  1.130411e-119 0.02641510 52        364    \n",
       "28 0.7590299 0.6632653  0.8279832   1.410118e-76 0.04161137 52        364    \n",
       "29 0.8730436 0.8124187  0.9160344   1.822587e-75 0.02671846 52        256    \n",
       "30 0.8822033 0.8216923  0.9212184   9.947823e-78 0.02620639 52        256    \n",
       "31 0.8804551 0.8164915  0.9191914   1.245819e-74 0.02671709 52        256    \n",
       "32 0.8512447 0.7794706  0.8975387   3.739340e-65 0.03073337 52        256    \n",
       "   li_var                        li_wib\n",
       "1  perc_duration_5_Zone          1     \n",
       "2  perc_duration_3_Zone          1     \n",
       "3  perc_duration_2_Zone          1     \n",
       "4  vertical_travel_distance_perh 1     \n",
       "5  perc_duration_5_Zone          2     \n",
       "6  perc_duration_3_Zone          2     \n",
       "7  perc_duration_2_Zone          2     \n",
       "8  vertical_travel_distance_perh 2     \n",
       "9  perc_duration_5_Zone          3     \n",
       "10 perc_duration_3_Zone          3     \n",
       "11 perc_duration_2_Zone          3     \n",
       "12 vertical_travel_distance_perh 3     \n",
       "13 perc_duration_5_Zone          4     \n",
       "14 perc_duration_3_Zone          4     \n",
       "15 perc_duration_2_Zone          4     \n",
       "16 vertical_travel_distance_perh 4     \n",
       "17 perc_duration_5_Zone          5     \n",
       "18 perc_duration_3_Zone          5     \n",
       "19 perc_duration_2_Zone          5     \n",
       "20 vertical_travel_distance_perh 5     \n",
       "21 perc_duration_5_Zone          6     \n",
       "22 perc_duration_3_Zone          6     \n",
       "23 perc_duration_2_Zone          6     \n",
       "24 vertical_travel_distance_perh 6     \n",
       "25 perc_duration_5_Zone          7     \n",
       "26 perc_duration_3_Zone          7     \n",
       "27 perc_duration_2_Zone          7     \n",
       "28 vertical_travel_distance_perh 7     \n",
       "29 perc_duration_5_Zone          8     \n",
       "30 perc_duration_3_Zone          8     \n",
       "31 perc_duration_2_Zone          8     \n",
       "32 vertical_travel_distance_perh 8     "
      ]
     },
     "metadata": {},
     "output_type": "display_data"
    }
   ],
   "source": [
    "li_R_org = c()\n",
    "li_R_link = c()\n",
    "li_CIL_org = c()\n",
    "li_CIU_org = c()\n",
    "li_CIL_link = c()\n",
    "li_CIU_link = c()\n",
    "li_P = c()\n",
    "li_se_link = c()\n",
    "li_se_org = c() \n",
    "li_ngroup = c()\n",
    "li_nobs = c()\n",
    "li_mod = c()\n",
    "li_var = c()\n",
    "li_wib = c()\n",
    "nb = 1000\n",
    "for (i in 1:8){\n",
    "    df_ = df[ which((df$WIB==i)&(df$PenID %in% c('pen10','pen11','pen12'))), ]  \n",
    "\n",
    "    #perc_duration_5_Zone\n",
    "    df_$Y = df_$perc_duration_5_Zone\n",
    "    model_ = rpt(Y ~  PenID + DIB + (1|HenID), grname = c(\"HenID\"), data = df_, datatype = \"Gaussian\", \n",
    "                 nboot = nb, npermut = 0)\n",
    "    li_R_org = append(li_R_org, model_$R[[1]])\n",
    "    li_CIL_org = append(li_CIL_org, model_$CI_emp[,'2.5%'])\n",
    "    li_CIU_org = append(li_CIU_org, model_$CI_emp[,'97.5%'])\n",
    "    li_P = append(li_P, model_$P$LRT_P)\n",
    "    li_se_org = append(li_se_org, model_$se[[1]])\n",
    "    li_ngroup = append(li_ngroup, model_$ngroups[['HenID']])\n",
    "    li_nobs = append(li_nobs, model_$nobs)\n",
    "    li_mod = append(li_mod, model_$mod)\n",
    "    li_var = append(li_var, 'perc_duration_5_Zone')\n",
    "    li_wib = append(li_wib, i)\n",
    "    #save model assumption verification \n",
    "    name = 'perc_duration_5_Zone'\n",
    "    ###### histogram of dep var \n",
    "    #variance of the residuals is equal across groups. Even spread around the centered line?\n",
    "    jpeg(file.path(path_model,paste0(name,'_Histrogram_',i,'.jpg')))\n",
    "    hist(df_$Y)\n",
    "    dev.off()\n",
    "    ###### normally distributed residuals\n",
    "    jpeg(file.path(path_model, paste(name,'_diagnostic_normally_distributed_residual_',i,'.jpg', sep='')))\n",
    "    qqnorm(resid(model_$mod), main = \"Residuals\")\n",
    "    qqline(resid(model_$mod))\n",
    "    dev.off()\n",
    "    jpeg(file.path(path_model, paste(name,'_diagnostic_normally_distributed_residual_histogram_',i,'.jpg', sep='')))\n",
    "    hist(resid(model_$mod))\n",
    "    dev.off()\n",
    "    ######check homogeneity of variance (residuals has constant variance)\n",
    "    #variance of the residuals is equal across groups. Even spread around the centered line?\n",
    "    jpeg(file.path(path_model, paste(name,'_diagnostic_homogeneity_variance_',i,'.jpg', sep='')))\n",
    "    plot(model_$mod)\n",
    "    dev.off()\n",
    "    \n",
    "    #perc_duration_3_Zone\n",
    "    df_$Y = df_$perc_duration_3_Zone\n",
    "    model_ = rpt(Y ~  PenID + DIB + (1|HenID) , grname = c(\"HenID\"), data = df_, datatype = \"Gaussian\", \n",
    "                 nboot = nb, npermut = 0)\n",
    "    li_R_org = append(li_R_org, model_$R[[1]])\n",
    "    li_CIL_org = append(li_CIL_org, model_$CI_emp[,'2.5%'])\n",
    "    li_CIU_org = append(li_CIU_org, model_$CI_emp[,'97.5%'])\n",
    "    li_P = append(li_P, model_$P$LRT_P)\n",
    "    li_se_org = append(li_se_org, model_$se[[1]])\n",
    "    li_ngroup = append(li_ngroup, model_$ngroups[['HenID']])\n",
    "    li_nobs = append(li_nobs, model_$nobs)\n",
    "    li_mod = append(li_mod, model_$mod)\n",
    "    li_var = append(li_var, 'perc_duration_3_Zone')\n",
    "    li_wib = append(li_wib, i)\n",
    "    #save model assumption verification \n",
    "    name = 'perc_duration_3_Zone'\n",
    "    ###### histogram of dep var \n",
    "    #variance of the residuals is equal across groups. Even spread around the centered line?\n",
    "    jpeg(file.path(path_model,paste0(name,'_Histrogram_',i,'.jpg')))\n",
    "    hist(df_$Y)\n",
    "    dev.off()\n",
    "    ###### normally distributed residuals\n",
    "    jpeg(file.path(path_model, paste(name,'_diagnostic_normally_distributed_residual_',i,'.jpg', sep='')))\n",
    "    qqnorm(resid(model_$mod), main = \"Residuals\")\n",
    "    qqline(resid(model_$mod))\n",
    "    dev.off()\n",
    "    jpeg(file.path(path_model, paste(name,'_diagnostic_normally_distributed_residual_histogram_',i,'.jpg', sep='')))\n",
    "    hist(resid(model_$mod))\n",
    "    dev.off()\n",
    "    ######check homogeneity of variance : homoscedasticity (residuals has constant variance)\n",
    "    #variance of the residuals is equal across groups. Even spread around the centered line?\n",
    "    jpeg(file.path(path_model, paste(name,'_diagnostic_homogeneity_variance_',i,'.jpg', sep='')))\n",
    "    plot(model_$mod)\n",
    "    dev.off()\n",
    "\n",
    "    #perc_duration_2_Zone\n",
    "    df_$Y = df_$perc_duration_2_Zone\n",
    "    model_ = rpt(Y ~ PenID + DIB + (1|HenID), grname = c(\"HenID\"), data = df_, datatype = \"Gaussian\", \n",
    "                 nboot = nb, npermut = 0)\n",
    "    li_R_org = append(li_R_org, model_$R[[1]])\n",
    "    li_CIL_org = append(li_CIL_org, model_$CI_emp[,'2.5%'])\n",
    "    li_CIU_org = append(li_CIU_org, model_$CI_emp[,'97.5%'])\n",
    "    li_P = append(li_P, model_$P$LRT_P)\n",
    "    li_se_org = append(li_se_org, model_$se[[1]])\n",
    "    li_ngroup = append(li_ngroup, model_$ngroups[['HenID']])\n",
    "    li_nobs = append(li_nobs, model_$nobs)\n",
    "    li_mod = append(li_mod, model_$mod)\n",
    "    li_var = append(li_var, 'perc_duration_2_Zone')\n",
    "    li_wib = append(li_wib, i)\n",
    "    #save model assumption verification \n",
    "    name = 'perc_duration_2_Zone'\n",
    "    ###### histogram of dep var \n",
    "    #variance of the residuals is equal across groups. Even spread around the centered line?\n",
    "    jpeg(file.path(path_model,paste0(name,'_Histrogram_',i,'.jpg')))\n",
    "    hist(df_$Y)\n",
    "    dev.off()\n",
    "    ###### normally distributed residuals\n",
    "    jpeg(file.path(path_model, paste(name,'_diagnostic_normally_distributed_residual_',i,'.jpg', sep='')))\n",
    "    qqnorm(resid(model_$mod), main = \"Residuals\")\n",
    "    qqline(resid(model_$mod))\n",
    "    dev.off()\n",
    "    jpeg(file.path(path_model, paste(name,'_diagnostic_normally_distributed_residual_histogram_',i,'.jpg', sep='')))\n",
    "    hist(resid(model_$mod))\n",
    "    dev.off()\n",
    "    ######check homogeneity of variance (residuals has constant variance)\n",
    "    #variance of the residuals is equal across groups. Even spread around the centered line?\n",
    "    jpeg(file.path(path_model, paste(name,'_diagnostic_homogeneity_variance_',i,'.jpg', sep='')))\n",
    "    plot(model_$mod)\n",
    "    dev.off()\n",
    "\n",
    "    #vertical_travel_distance_perh\n",
    "    df_$Y = df_$vertical_travel_distance_perh\n",
    "    model_ = rpt(vertical_travel_distance_perh ~ PenID + DIB +  (1|HenID) , grname = c(\"HenID\"), data = df_, datatype = \"Gaussian\", \n",
    "                 nboot = nb, npermut = 0)\n",
    "    li_R_org = append(li_R_org, model_$R[[1]])\n",
    "    li_CIL_org = append(li_CIL_org, model_$CI_emp[,'2.5%'])\n",
    "    li_CIU_org = append(li_CIU_org, model_$CI_emp[,'97.5%'])\n",
    "    li_P = append(li_P, model_$P$LRT_P)\n",
    "    li_se_org = append(li_se_org, model_$se[[1]])\n",
    "    li_ngroup = append(li_ngroup, model_$ngroups[['HenID']])\n",
    "    li_nobs = append(li_nobs, model_$nobs)\n",
    "    li_mod = append(li_mod, model_$mod)\n",
    "    li_var = append(li_var, 'vertical_travel_distance_perh')\n",
    "    li_wib = append(li_wib, i)\n",
    "    #save model assumption verification \n",
    "    name = 'vertical_travel_distance_perh'\n",
    "    ###### histogram of dep var \n",
    "    #variance of the residuals is equal across groups. Even spread around the centered line?\n",
    "    jpeg(file.path(path_model,paste0(name,'_Histrogram_',i,'.jpg')))\n",
    "    hist(df_$Y)\n",
    "    dev.off()\n",
    "    ###### normally distributed residuals\n",
    "    jpeg(file.path(path_model, paste(name,'_diagnostic_normally_distributed_residual_',i,'.jpg', sep='')))\n",
    "    qqnorm(resid(model_$mod), main = \"Residuals\")\n",
    "    qqline(resid(model_$mod))\n",
    "    dev.off()\n",
    "    jpeg(file.path(path_model, paste(name,'_diagnostic_normally_distributed_residual_histogram_',i,'.jpg', sep='')))\n",
    "    hist(resid(model_$mod))\n",
    "    dev.off()\n",
    "    ######check homogeneity of variance (residuals has constant variance)\n",
    "    #variance of the residuals is equal across groups. Even spread around the centered line?\n",
    "    jpeg(file.path(path_model, paste(name,'_diagnostic_homogeneity_variance_',i,'.jpg', sep='')))\n",
    "    plot(model_$mod)\n",
    "    dev.off()\n",
    "    \n",
    "}\n",
    "df_res = data.frame(li_R_org, li_CIL_org, li_CIU_org, li_P, li_se_org, li_ngroup, li_nobs, li_var, li_wib)\n",
    "#save\n",
    "write.csv(df_res, file.path(path_adapt,'df_MVT_repeatibilityWIB.csv'))\n",
    "df_res"
   ]
  },
  {
   "cell_type": "code",
   "execution_count": 6,
   "metadata": {},
   "outputs": [
    {
     "data": {
      "image/png": "[encoded data removed]",
      "text/plain": [
       "plot without title"
      ]
     },
     "metadata": {
      "image/png": {
       "height": 420,
       "width": 420
      }
     },
     "output_type": "display_data"
    }
   ],
   "source": [
    "p = ggplot(df_res, aes(x=li_wib, y=li_R_org, group=li_var, color=li_var, position='fill')) +\n",
    "  geom_point(size=2.5, position = position_dodge(width=1)) +\n",
    "  geom_errorbar(aes(ymax = li_CIU_org, ymin = li_CIL_org), position = position_dodge(width=1)) +\n",
    "  theme(plot.margin=grid::unit(c(0,0,0,0), \"mm\"))\n",
    "p + xlab(\"WIB\") + ylab(\"repeatability\")+ coord_cartesian(ylim = c(0, 1))\n",
    "ggsave(file.path(path_adapt,'repeatability_WIB_org.png'),width=10, height=5)"
   ]
  },
  {
   "cell_type": "code",
   "execution_count": null,
   "metadata": {},
   "outputs": [],
   "source": []
  },
  {
   "cell_type": "code",
   "execution_count": null,
   "metadata": {},
   "outputs": [],
   "source": [
    "# SQUARE ROOT"
   ]
  },
  {
   "cell_type": "code",
   "execution_count": 40,
   "metadata": {},
   "outputs": [
    {
     "name": "stdout",
     "output_type": "stream",
     "text": [
      "Bootstrap Progress:\n",
      "Bootstrap Progress:\n",
      "Bootstrap Progress:\n",
      "Bootstrap Progress:\n",
      "Bootstrap Progress:\n",
      "Bootstrap Progress:\n",
      "Bootstrap Progress:\n",
      "Bootstrap Progress:\n",
      "Bootstrap Progress:\n",
      "Bootstrap Progress:\n",
      "Bootstrap Progress:\n",
      "Bootstrap Progress:\n",
      "Bootstrap Progress:\n",
      "Bootstrap Progress:\n",
      "Bootstrap Progress:\n",
      "Bootstrap Progress:\n",
      "Bootstrap Progress:\n",
      "Bootstrap Progress:\n",
      "Bootstrap Progress:\n",
      "Bootstrap Progress:\n",
      "Bootstrap Progress:\n",
      "Bootstrap Progress:\n",
      "Bootstrap Progress:\n",
      "Bootstrap Progress:\n",
      "Bootstrap Progress:\n",
      "Bootstrap Progress:\n",
      "Bootstrap Progress:\n",
      "Bootstrap Progress:\n",
      "Bootstrap Progress:\n",
      "Bootstrap Progress:\n",
      "Bootstrap Progress:\n",
      "Bootstrap Progress:\n"
     ]
    },
    {
     "data": {
      "text/html": [
       "<table class=\"dataframe\">\n",
       "<caption>A data.frame: 32 × 9</caption>\n",
       "<thead>\n",
       "\t<tr><th scope=col>li_R_org</th><th scope=col>li_CIL_org</th><th scope=col>li_CIU_org</th><th scope=col>li_P</th><th scope=col>li_se_org</th><th scope=col>li_ngroup</th><th scope=col>li_nobs</th><th scope=col>li_var</th><th scope=col>li_wib</th></tr>\n",
       "\t<tr><th scope=col>&lt;dbl&gt;</th><th scope=col>&lt;dbl&gt;</th><th scope=col>&lt;dbl&gt;</th><th scope=col>&lt;dbl&gt;</th><th scope=col>&lt;dbl&gt;</th><th scope=col>&lt;int&gt;</th><th scope=col>&lt;int&gt;</th><th scope=col>&lt;chr&gt;</th><th scope=col>&lt;int&gt;</th></tr>\n",
       "</thead>\n",
       "<tbody>\n",
       "\t<tr><td>0.5230145</td><td>0.4448380</td><td>0.6283785</td><td> 7.824762e-28</td><td>0.06142011</td><td>52</td><td>312</td><td>perc_duration_5_Zone         </td><td>1</td></tr>\n",
       "\t<tr><td>0.5077572</td><td>0.3726887</td><td>0.6103715</td><td> 2.482689e-26</td><td>0.07926728</td><td>52</td><td>312</td><td>perc_duration_3_Zone         </td><td>1</td></tr>\n",
       "\t<tr><td>0.5904053</td><td>0.4975206</td><td>0.6327564</td><td> 2.877132e-35</td><td>0.04803288</td><td>52</td><td>312</td><td>perc_duration_2_Zone         </td><td>1</td></tr>\n",
       "\t<tr><td>0.6991363</td><td>0.6446826</td><td>0.7570041</td><td> 5.729824e-51</td><td>0.04198619</td><td>52</td><td>312</td><td>vertical_travel_distance_perh</td><td>1</td></tr>\n",
       "\t<tr><td>0.7791044</td><td>0.7195492</td><td>0.8160556</td><td> 1.254962e-52</td><td>0.04170857</td><td>52</td><td>260</td><td>perc_duration_5_Zone         </td><td>2</td></tr>\n",
       "\t<tr><td>0.7967498</td><td>0.7179512</td><td>0.8431829</td><td> 3.631702e-56</td><td>0.04578972</td><td>52</td><td>260</td><td>perc_duration_3_Zone         </td><td>2</td></tr>\n",
       "\t<tr><td>0.7950867</td><td>0.7323094</td><td>0.8445713</td><td> 8.080201e-56</td><td>0.03678014</td><td>52</td><td>260</td><td>perc_duration_2_Zone         </td><td>2</td></tr>\n",
       "\t<tr><td>0.7674396</td><td>0.6713944</td><td>0.7998951</td><td> 1.880962e-50</td><td>0.04170345</td><td>52</td><td>260</td><td>vertical_travel_distance_perh</td><td>2</td></tr>\n",
       "\t<tr><td>0.7819059</td><td>0.7175917</td><td>0.8358895</td><td> 1.705143e-82</td><td>0.03917546</td><td>52</td><td>362</td><td>perc_duration_5_Zone         </td><td>3</td></tr>\n",
       "\t<tr><td>0.7655120</td><td>0.6978762</td><td>0.8061619</td><td> 4.643603e-78</td><td>0.03664191</td><td>52</td><td>362</td><td>perc_duration_3_Zone         </td><td>3</td></tr>\n",
       "\t<tr><td>0.8136857</td><td>0.6900832</td><td>0.8420120</td><td> 1.386997e-92</td><td>0.04988898</td><td>52</td><td>362</td><td>perc_duration_2_Zone         </td><td>3</td></tr>\n",
       "\t<tr><td>0.8022726</td><td>0.7663205</td><td>0.8587254</td><td> 5.937447e-89</td><td>0.03066134</td><td>52</td><td>362</td><td>vertical_travel_distance_perh</td><td>3</td></tr>\n",
       "\t<tr><td>0.6583799</td><td>0.6105124</td><td>0.7012599</td><td> 1.524216e-54</td><td>0.03055594</td><td>52</td><td>364</td><td>perc_duration_5_Zone         </td><td>4</td></tr>\n",
       "\t<tr><td>0.7058623</td><td>0.6554583</td><td>0.7896537</td><td> 6.664246e-64</td><td>0.04324765</td><td>52</td><td>364</td><td>perc_duration_3_Zone         </td><td>4</td></tr>\n",
       "\t<tr><td>0.6935269</td><td>0.6285898</td><td>0.7456072</td><td> 2.557788e-61</td><td>0.04117278</td><td>52</td><td>364</td><td>perc_duration_2_Zone         </td><td>4</td></tr>\n",
       "\t<tr><td>0.5857598</td><td>0.5241672</td><td>0.6798429</td><td> 9.479097e-43</td><td>0.05605705</td><td>52</td><td>364</td><td>vertical_travel_distance_perh</td><td>4</td></tr>\n",
       "\t<tr><td>0.8393690</td><td>0.7357898</td><td>0.8916408</td><td>1.111959e-102</td><td>0.04831774</td><td>52</td><td>363</td><td>perc_duration_5_Zone         </td><td>5</td></tr>\n",
       "\t<tr><td>0.8166672</td><td>0.7844257</td><td>0.8725706</td><td> 4.503452e-94</td><td>0.02897699</td><td>52</td><td>363</td><td>perc_duration_3_Zone         </td><td>5</td></tr>\n",
       "\t<tr><td>0.7916304</td><td>0.7503016</td><td>0.8606551</td><td> 8.490892e-86</td><td>0.03950000</td><td>52</td><td>363</td><td>perc_duration_2_Zone         </td><td>5</td></tr>\n",
       "\t<tr><td>0.6719141</td><td>0.5580631</td><td>0.7520133</td><td> 7.957377e-57</td><td>0.06960224</td><td>52</td><td>363</td><td>vertical_travel_distance_perh</td><td>5</td></tr>\n",
       "\t<tr><td>0.8014565</td><td>0.7784340</td><td>0.8305528</td><td> 4.628358e-89</td><td>0.01831343</td><td>52</td><td>364</td><td>perc_duration_5_Zone         </td><td>6</td></tr>\n",
       "\t<tr><td>0.6794544</td><td>0.5981153</td><td>0.7573399</td><td> 1.657369e-58</td><td>0.05527019</td><td>52</td><td>364</td><td>perc_duration_3_Zone         </td><td>6</td></tr>\n",
       "\t<tr><td>0.8413128</td><td>0.7991486</td><td>0.8740108</td><td>1.151268e-103</td><td>0.02822170</td><td>52</td><td>364</td><td>perc_duration_2_Zone         </td><td>6</td></tr>\n",
       "\t<tr><td>0.6982304</td><td>0.6559384</td><td>0.7557318</td><td> 2.730538e-62</td><td>0.03183803</td><td>52</td><td>364</td><td>vertical_travel_distance_perh</td><td>6</td></tr>\n",
       "\t<tr><td>0.8835695</td><td>0.8480887</td><td>0.9249088</td><td>4.694723e-124</td><td>0.02567081</td><td>52</td><td>364</td><td>perc_duration_5_Zone         </td><td>7</td></tr>\n",
       "\t<tr><td>0.8388506</td><td>0.7881285</td><td>0.8789353</td><td>1.172983e-102</td><td>0.02916506</td><td>52</td><td>364</td><td>perc_duration_3_Zone         </td><td>7</td></tr>\n",
       "\t<tr><td>0.8861758</td><td>0.8427230</td><td>0.9078053</td><td>1.490157e-125</td><td>0.02294883</td><td>52</td><td>364</td><td>perc_duration_2_Zone         </td><td>7</td></tr>\n",
       "\t<tr><td>0.7590299</td><td>0.7297967</td><td>0.8137242</td><td> 1.410118e-76</td><td>0.02999599</td><td>52</td><td>364</td><td>vertical_travel_distance_perh</td><td>7</td></tr>\n",
       "\t<tr><td>0.8588689</td><td>0.8242305</td><td>0.8970710</td><td> 4.424252e-71</td><td>0.02505935</td><td>52</td><td>256</td><td>perc_duration_5_Zone         </td><td>8</td></tr>\n",
       "\t<tr><td>0.8988772</td><td>0.8603143</td><td>0.9217889</td><td> 2.729751e-84</td><td>0.02148896</td><td>52</td><td>256</td><td>perc_duration_3_Zone         </td><td>8</td></tr>\n",
       "\t<tr><td>0.9160383</td><td>0.8739707</td><td>0.9326271</td><td> 2.488187e-84</td><td>0.02061239</td><td>52</td><td>256</td><td>perc_duration_2_Zone         </td><td>8</td></tr>\n",
       "\t<tr><td>0.8512447</td><td>0.7967290</td><td>0.8806060</td><td> 3.739340e-65</td><td>0.02934052</td><td>52</td><td>256</td><td>vertical_travel_distance_perh</td><td>8</td></tr>\n",
       "</tbody>\n",
       "</table>\n"
      ],
      "text/latex": [
       "A data.frame: 32 × 9\n",
       "\\begin{tabular}{lllllllll}\n",
       " li\\_R\\_org & li\\_CIL\\_org & li\\_CIU\\_org & li\\_P & li\\_se\\_org & li\\_ngroup & li\\_nobs & li\\_var & li\\_wib\\\\\n",
       " <dbl> & <dbl> & <dbl> & <dbl> & <dbl> & <int> & <int> & <chr> & <int>\\\\\n",
       "\\hline\n",
       "\t 0.5230145 & 0.4448380 & 0.6283785 &  7.824762e-28 & 0.06142011 & 52 & 312 & perc\\_duration\\_5\\_Zone          & 1\\\\\n",
       "\t 0.5077572 & 0.3726887 & 0.6103715 &  2.482689e-26 & 0.07926728 & 52 & 312 & perc\\_duration\\_3\\_Zone          & 1\\\\\n",
       "\t 0.5904053 & 0.4975206 & 0.6327564 &  2.877132e-35 & 0.04803288 & 52 & 312 & perc\\_duration\\_2\\_Zone          & 1\\\\\n",
       "\t 0.6991363 & 0.6446826 & 0.7570041 &  5.729824e-51 & 0.04198619 & 52 & 312 & vertical\\_travel\\_distance\\_perh & 1\\\\\n",
       "\t 0.7791044 & 0.7195492 & 0.8160556 &  1.254962e-52 & 0.04170857 & 52 & 260 & perc\\_duration\\_5\\_Zone          & 2\\\\\n",
       "\t 0.7967498 & 0.7179512 & 0.8431829 &  3.631702e-56 & 0.04578972 & 52 & 260 & perc\\_duration\\_3\\_Zone          & 2\\\\\n",
       "\t 0.7950867 & 0.7323094 & 0.8445713 &  8.080201e-56 & 0.03678014 & 52 & 260 & perc\\_duration\\_2\\_Zone          & 2\\\\\n",
       "\t 0.7674396 & 0.6713944 & 0.7998951 &  1.880962e-50 & 0.04170345 & 52 & 260 & vertical\\_travel\\_distance\\_perh & 2\\\\\n",
       "\t 0.7819059 & 0.7175917 & 0.8358895 &  1.705143e-82 & 0.03917546 & 52 & 362 & perc\\_duration\\_5\\_Zone          & 3\\\\\n",
       "\t 0.7655120 & 0.6978762 & 0.8061619 &  4.643603e-78 & 0.03664191 & 52 & 362 & perc\\_duration\\_3\\_Zone          & 3\\\\\n",
       "\t 0.8136857 & 0.6900832 & 0.8420120 &  1.386997e-92 & 0.04988898 & 52 & 362 & perc\\_duration\\_2\\_Zone          & 3\\\\\n",
       "\t 0.8022726 & 0.7663205 & 0.8587254 &  5.937447e-89 & 0.03066134 & 52 & 362 & vertical\\_travel\\_distance\\_perh & 3\\\\\n",
       "\t 0.6583799 & 0.6105124 & 0.7012599 &  1.524216e-54 & 0.03055594 & 52 & 364 & perc\\_duration\\_5\\_Zone          & 4\\\\\n",
       "\t 0.7058623 & 0.6554583 & 0.7896537 &  6.664246e-64 & 0.04324765 & 52 & 364 & perc\\_duration\\_3\\_Zone          & 4\\\\\n",
       "\t 0.6935269 & 0.6285898 & 0.7456072 &  2.557788e-61 & 0.04117278 & 52 & 364 & perc\\_duration\\_2\\_Zone          & 4\\\\\n",
       "\t 0.5857598 & 0.5241672 & 0.6798429 &  9.479097e-43 & 0.05605705 & 52 & 364 & vertical\\_travel\\_distance\\_perh & 4\\\\\n",
       "\t 0.8393690 & 0.7357898 & 0.8916408 & 1.111959e-102 & 0.04831774 & 52 & 363 & perc\\_duration\\_5\\_Zone          & 5\\\\\n",
       "\t 0.8166672 & 0.7844257 & 0.8725706 &  4.503452e-94 & 0.02897699 & 52 & 363 & perc\\_duration\\_3\\_Zone          & 5\\\\\n",
       "\t 0.7916304 & 0.7503016 & 0.8606551 &  8.490892e-86 & 0.03950000 & 52 & 363 & perc\\_duration\\_2\\_Zone          & 5\\\\\n",
       "\t 0.6719141 & 0.5580631 & 0.7520133 &  7.957377e-57 & 0.06960224 & 52 & 363 & vertical\\_travel\\_distance\\_perh & 5\\\\\n",
       "\t 0.8014565 & 0.7784340 & 0.8305528 &  4.628358e-89 & 0.01831343 & 52 & 364 & perc\\_duration\\_5\\_Zone          & 6\\\\\n",
       "\t 0.6794544 & 0.5981153 & 0.7573399 &  1.657369e-58 & 0.05527019 & 52 & 364 & perc\\_duration\\_3\\_Zone          & 6\\\\\n",
       "\t 0.8413128 & 0.7991486 & 0.8740108 & 1.151268e-103 & 0.02822170 & 52 & 364 & perc\\_duration\\_2\\_Zone          & 6\\\\\n",
       "\t 0.6982304 & 0.6559384 & 0.7557318 &  2.730538e-62 & 0.03183803 & 52 & 364 & vertical\\_travel\\_distance\\_perh & 6\\\\\n",
       "\t 0.8835695 & 0.8480887 & 0.9249088 & 4.694723e-124 & 0.02567081 & 52 & 364 & perc\\_duration\\_5\\_Zone          & 7\\\\\n",
       "\t 0.8388506 & 0.7881285 & 0.8789353 & 1.172983e-102 & 0.02916506 & 52 & 364 & perc\\_duration\\_3\\_Zone          & 7\\\\\n",
       "\t 0.8861758 & 0.8427230 & 0.9078053 & 1.490157e-125 & 0.02294883 & 52 & 364 & perc\\_duration\\_2\\_Zone          & 7\\\\\n",
       "\t 0.7590299 & 0.7297967 & 0.8137242 &  1.410118e-76 & 0.02999599 & 52 & 364 & vertical\\_travel\\_distance\\_perh & 7\\\\\n",
       "\t 0.8588689 & 0.8242305 & 0.8970710 &  4.424252e-71 & 0.02505935 & 52 & 256 & perc\\_duration\\_5\\_Zone          & 8\\\\\n",
       "\t 0.8988772 & 0.8603143 & 0.9217889 &  2.729751e-84 & 0.02148896 & 52 & 256 & perc\\_duration\\_3\\_Zone          & 8\\\\\n",
       "\t 0.9160383 & 0.8739707 & 0.9326271 &  2.488187e-84 & 0.02061239 & 52 & 256 & perc\\_duration\\_2\\_Zone          & 8\\\\\n",
       "\t 0.8512447 & 0.7967290 & 0.8806060 &  3.739340e-65 & 0.02934052 & 52 & 256 & vertical\\_travel\\_distance\\_perh & 8\\\\\n",
       "\\end{tabular}\n"
      ],
      "text/markdown": [
       "\n",
       "A data.frame: 32 × 9\n",
       "\n",
       "| li_R_org &lt;dbl&gt; | li_CIL_org &lt;dbl&gt; | li_CIU_org &lt;dbl&gt; | li_P &lt;dbl&gt; | li_se_org &lt;dbl&gt; | li_ngroup &lt;int&gt; | li_nobs &lt;int&gt; | li_var &lt;chr&gt; | li_wib &lt;int&gt; |\n",
       "|---|---|---|---|---|---|---|---|---|\n",
       "| 0.5230145 | 0.4448380 | 0.6283785 |  7.824762e-28 | 0.06142011 | 52 | 312 | perc_duration_5_Zone          | 1 |\n",
       "| 0.5077572 | 0.3726887 | 0.6103715 |  2.482689e-26 | 0.07926728 | 52 | 312 | perc_duration_3_Zone          | 1 |\n",
       "| 0.5904053 | 0.4975206 | 0.6327564 |  2.877132e-35 | 0.04803288 | 52 | 312 | perc_duration_2_Zone          | 1 |\n",
       "| 0.6991363 | 0.6446826 | 0.7570041 |  5.729824e-51 | 0.04198619 | 52 | 312 | vertical_travel_distance_perh | 1 |\n",
       "| 0.7791044 | 0.7195492 | 0.8160556 |  1.254962e-52 | 0.04170857 | 52 | 260 | perc_duration_5_Zone          | 2 |\n",
       "| 0.7967498 | 0.7179512 | 0.8431829 |  3.631702e-56 | 0.04578972 | 52 | 260 | perc_duration_3_Zone          | 2 |\n",
       "| 0.7950867 | 0.7323094 | 0.8445713 |  8.080201e-56 | 0.03678014 | 52 | 260 | perc_duration_2_Zone          | 2 |\n",
       "| 0.7674396 | 0.6713944 | 0.7998951 |  1.880962e-50 | 0.04170345 | 52 | 260 | vertical_travel_distance_perh | 2 |\n",
       "| 0.7819059 | 0.7175917 | 0.8358895 |  1.705143e-82 | 0.03917546 | 52 | 362 | perc_duration_5_Zone          | 3 |\n",
       "| 0.7655120 | 0.6978762 | 0.8061619 |  4.643603e-78 | 0.03664191 | 52 | 362 | perc_duration_3_Zone          | 3 |\n",
       "| 0.8136857 | 0.6900832 | 0.8420120 |  1.386997e-92 | 0.04988898 | 52 | 362 | perc_duration_2_Zone          | 3 |\n",
       "| 0.8022726 | 0.7663205 | 0.8587254 |  5.937447e-89 | 0.03066134 | 52 | 362 | vertical_travel_distance_perh | 3 |\n",
       "| 0.6583799 | 0.6105124 | 0.7012599 |  1.524216e-54 | 0.03055594 | 52 | 364 | perc_duration_5_Zone          | 4 |\n",
       "| 0.7058623 | 0.6554583 | 0.7896537 |  6.664246e-64 | 0.04324765 | 52 | 364 | perc_duration_3_Zone          | 4 |\n",
       "| 0.6935269 | 0.6285898 | 0.7456072 |  2.557788e-61 | 0.04117278 | 52 | 364 | perc_duration_2_Zone          | 4 |\n",
       "| 0.5857598 | 0.5241672 | 0.6798429 |  9.479097e-43 | 0.05605705 | 52 | 364 | vertical_travel_distance_perh | 4 |\n",
       "| 0.8393690 | 0.7357898 | 0.8916408 | 1.111959e-102 | 0.04831774 | 52 | 363 | perc_duration_5_Zone          | 5 |\n",
       "| 0.8166672 | 0.7844257 | 0.8725706 |  4.503452e-94 | 0.02897699 | 52 | 363 | perc_duration_3_Zone          | 5 |\n",
       "| 0.7916304 | 0.7503016 | 0.8606551 |  8.490892e-86 | 0.03950000 | 52 | 363 | perc_duration_2_Zone          | 5 |\n",
       "| 0.6719141 | 0.5580631 | 0.7520133 |  7.957377e-57 | 0.06960224 | 52 | 363 | vertical_travel_distance_perh | 5 |\n",
       "| 0.8014565 | 0.7784340 | 0.8305528 |  4.628358e-89 | 0.01831343 | 52 | 364 | perc_duration_5_Zone          | 6 |\n",
       "| 0.6794544 | 0.5981153 | 0.7573399 |  1.657369e-58 | 0.05527019 | 52 | 364 | perc_duration_3_Zone          | 6 |\n",
       "| 0.8413128 | 0.7991486 | 0.8740108 | 1.151268e-103 | 0.02822170 | 52 | 364 | perc_duration_2_Zone          | 6 |\n",
       "| 0.6982304 | 0.6559384 | 0.7557318 |  2.730538e-62 | 0.03183803 | 52 | 364 | vertical_travel_distance_perh | 6 |\n",
       "| 0.8835695 | 0.8480887 | 0.9249088 | 4.694723e-124 | 0.02567081 | 52 | 364 | perc_duration_5_Zone          | 7 |\n",
       "| 0.8388506 | 0.7881285 | 0.8789353 | 1.172983e-102 | 0.02916506 | 52 | 364 | perc_duration_3_Zone          | 7 |\n",
       "| 0.8861758 | 0.8427230 | 0.9078053 | 1.490157e-125 | 0.02294883 | 52 | 364 | perc_duration_2_Zone          | 7 |\n",
       "| 0.7590299 | 0.7297967 | 0.8137242 |  1.410118e-76 | 0.02999599 | 52 | 364 | vertical_travel_distance_perh | 7 |\n",
       "| 0.8588689 | 0.8242305 | 0.8970710 |  4.424252e-71 | 0.02505935 | 52 | 256 | perc_duration_5_Zone          | 8 |\n",
       "| 0.8988772 | 0.8603143 | 0.9217889 |  2.729751e-84 | 0.02148896 | 52 | 256 | perc_duration_3_Zone          | 8 |\n",
       "| 0.9160383 | 0.8739707 | 0.9326271 |  2.488187e-84 | 0.02061239 | 52 | 256 | perc_duration_2_Zone          | 8 |\n",
       "| 0.8512447 | 0.7967290 | 0.8806060 |  3.739340e-65 | 0.02934052 | 52 | 256 | vertical_travel_distance_perh | 8 |\n",
       "\n"
      ],
      "text/plain": [
       "   li_R_org  li_CIL_org li_CIU_org li_P          li_se_org  li_ngroup li_nobs\n",
       "1  0.5230145 0.4448380  0.6283785   7.824762e-28 0.06142011 52        312    \n",
       "2  0.5077572 0.3726887  0.6103715   2.482689e-26 0.07926728 52        312    \n",
       "3  0.5904053 0.4975206  0.6327564   2.877132e-35 0.04803288 52        312    \n",
       "4  0.6991363 0.6446826  0.7570041   5.729824e-51 0.04198619 52        312    \n",
       "5  0.7791044 0.7195492  0.8160556   1.254962e-52 0.04170857 52        260    \n",
       "6  0.7967498 0.7179512  0.8431829   3.631702e-56 0.04578972 52        260    \n",
       "7  0.7950867 0.7323094  0.8445713   8.080201e-56 0.03678014 52        260    \n",
       "8  0.7674396 0.6713944  0.7998951   1.880962e-50 0.04170345 52        260    \n",
       "9  0.7819059 0.7175917  0.8358895   1.705143e-82 0.03917546 52        362    \n",
       "10 0.7655120 0.6978762  0.8061619   4.643603e-78 0.03664191 52        362    \n",
       "11 0.8136857 0.6900832  0.8420120   1.386997e-92 0.04988898 52        362    \n",
       "12 0.8022726 0.7663205  0.8587254   5.937447e-89 0.03066134 52        362    \n",
       "13 0.6583799 0.6105124  0.7012599   1.524216e-54 0.03055594 52        364    \n",
       "14 0.7058623 0.6554583  0.7896537   6.664246e-64 0.04324765 52        364    \n",
       "15 0.6935269 0.6285898  0.7456072   2.557788e-61 0.04117278 52        364    \n",
       "16 0.5857598 0.5241672  0.6798429   9.479097e-43 0.05605705 52        364    \n",
       "17 0.8393690 0.7357898  0.8916408  1.111959e-102 0.04831774 52        363    \n",
       "18 0.8166672 0.7844257  0.8725706   4.503452e-94 0.02897699 52        363    \n",
       "19 0.7916304 0.7503016  0.8606551   8.490892e-86 0.03950000 52        363    \n",
       "20 0.6719141 0.5580631  0.7520133   7.957377e-57 0.06960224 52        363    \n",
       "21 0.8014565 0.7784340  0.8305528   4.628358e-89 0.01831343 52        364    \n",
       "22 0.6794544 0.5981153  0.7573399   1.657369e-58 0.05527019 52        364    \n",
       "23 0.8413128 0.7991486  0.8740108  1.151268e-103 0.02822170 52        364    \n",
       "24 0.6982304 0.6559384  0.7557318   2.730538e-62 0.03183803 52        364    \n",
       "25 0.8835695 0.8480887  0.9249088  4.694723e-124 0.02567081 52        364    \n",
       "26 0.8388506 0.7881285  0.8789353  1.172983e-102 0.02916506 52        364    \n",
       "27 0.8861758 0.8427230  0.9078053  1.490157e-125 0.02294883 52        364    \n",
       "28 0.7590299 0.7297967  0.8137242   1.410118e-76 0.02999599 52        364    \n",
       "29 0.8588689 0.8242305  0.8970710   4.424252e-71 0.02505935 52        256    \n",
       "30 0.8988772 0.8603143  0.9217889   2.729751e-84 0.02148896 52        256    \n",
       "31 0.9160383 0.8739707  0.9326271   2.488187e-84 0.02061239 52        256    \n",
       "32 0.8512447 0.7967290  0.8806060   3.739340e-65 0.02934052 52        256    \n",
       "   li_var                        li_wib\n",
       "1  perc_duration_5_Zone          1     \n",
       "2  perc_duration_3_Zone          1     \n",
       "3  perc_duration_2_Zone          1     \n",
       "4  vertical_travel_distance_perh 1     \n",
       "5  perc_duration_5_Zone          2     \n",
       "6  perc_duration_3_Zone          2     \n",
       "7  perc_duration_2_Zone          2     \n",
       "8  vertical_travel_distance_perh 2     \n",
       "9  perc_duration_5_Zone          3     \n",
       "10 perc_duration_3_Zone          3     \n",
       "11 perc_duration_2_Zone          3     \n",
       "12 vertical_travel_distance_perh 3     \n",
       "13 perc_duration_5_Zone          4     \n",
       "14 perc_duration_3_Zone          4     \n",
       "15 perc_duration_2_Zone          4     \n",
       "16 vertical_travel_distance_perh 4     \n",
       "17 perc_duration_5_Zone          5     \n",
       "18 perc_duration_3_Zone          5     \n",
       "19 perc_duration_2_Zone          5     \n",
       "20 vertical_travel_distance_perh 5     \n",
       "21 perc_duration_5_Zone          6     \n",
       "22 perc_duration_3_Zone          6     \n",
       "23 perc_duration_2_Zone          6     \n",
       "24 vertical_travel_distance_perh 6     \n",
       "25 perc_duration_5_Zone          7     \n",
       "26 perc_duration_3_Zone          7     \n",
       "27 perc_duration_2_Zone          7     \n",
       "28 vertical_travel_distance_perh 7     \n",
       "29 perc_duration_5_Zone          8     \n",
       "30 perc_duration_3_Zone          8     \n",
       "31 perc_duration_2_Zone          8     \n",
       "32 vertical_travel_distance_perh 8     "
      ]
     },
     "metadata": {},
     "output_type": "display_data"
    }
   ],
   "source": [
    "li_R_org = c()\n",
    "li_R_link = c()\n",
    "li_CIL_org = c()\n",
    "li_CIU_org = c()\n",
    "li_CIL_link = c()\n",
    "li_CIU_link = c()\n",
    "li_P = c()\n",
    "li_se_link = c()\n",
    "li_se_org = c() \n",
    "li_ngroup = c()\n",
    "li_nobs = c()\n",
    "li_mod = c()\n",
    "li_var = c()\n",
    "li_wib = c()\n",
    "nb = 10\n",
    "for (i in 1:8){\n",
    "    df_ = df[ which((df$WIB==i)&(df$PenID %in% c('pen10','pen11','pen12'))), ]  \n",
    "\n",
    "    #perc_duration_5_Zone\n",
    "    df_$Y = sqrt(df_$perc_duration_5_Zone)\n",
    "    model_ = rpt(Y ~  PenID + DIB + (1|HenID), grname = c(\"HenID\"), data = df_, datatype = \"Gaussian\", \n",
    "                 nboot = nb, npermut = 0)\n",
    "    li_R_org = append(li_R_org, model_$R[[1]])\n",
    "    li_CIL_org = append(li_CIL_org, model_$CI_emp[,'2.5%'])\n",
    "    li_CIU_org = append(li_CIU_org, model_$CI_emp[,'97.5%'])\n",
    "    li_P = append(li_P, model_$P$LRT_P)\n",
    "    li_se_org = append(li_se_org, model_$se[[1]])\n",
    "    li_ngroup = append(li_ngroup, model_$ngroups[['HenID']])\n",
    "    li_nobs = append(li_nobs, model_$nobs)\n",
    "    li_mod = append(li_mod, model_$mod)\n",
    "    li_var = append(li_var, 'perc_duration_5_Zone')\n",
    "    li_wib = append(li_wib, i)\n",
    "    #save model assumption verification \n",
    "    name = 'perc_duration_5_Zone'\n",
    "    ###### histogram of dep var \n",
    "    #variance of the residuals is equal across groups. Even spread around the centered line?\n",
    "    jpeg(file.path(path_model,paste0(name,'_Histrogram_',i,'.jpg')))\n",
    "    hist(df_$Y)\n",
    "    dev.off()\n",
    "    ######linearity of predictors: plot residual vs observed\n",
    "    jpeg(file.path(path_model, paste(name,'_diagnostic_predictors_linearity_',i,'.jpg', sep='')))\n",
    "    plot(resid(model_$mod),df_$Y)\n",
    "    dev.off()\n",
    "    ###### normally distributed residuals\n",
    "    jpeg(file.path(path_model, paste(name,'_diagnostic_normally_distributed_residual_',i,'.jpg', sep='')))\n",
    "    qqnorm(resid(model_$mod), main = \"Residuals\")\n",
    "    qqline(resid(model_$mod))\n",
    "    dev.off()\n",
    "    jpeg(file.path(path_model, paste(name,'_diagnostic_normally_distributed_residual_histogram_',i,'.jpg', sep='')))\n",
    "    hist(resid(model_$mod))\n",
    "    dev.off()\n",
    "    ###### normally of random effects\n",
    "    jpeg(file.path(path_model, paste(name,'_diagnostic_normally_distributed_randomeffect_henPen_',i,'.jpg', sep='')))\n",
    "    qqmath(ranef(model_$mod,condVar = TRUE))$HenID\n",
    "    dev.off()\n",
    "    ######check homogeneity of variance (residuals has constant variance)\n",
    "    #variance of the residuals is equal across groups. Even spread around the centered line?\n",
    "    jpeg(file.path(path_model, paste(name,'_diagnostic_homogeneity_variance_',i,'.jpg', sep='')))\n",
    "    plot(model_$mod)\n",
    "    dev.off()\n",
    "    ###### check if the residuals are independent. This can be checked by plotting residuals against covariates - especially time-varying or spatial covariates. There should not be any systematic pattern\n",
    "    jpeg(file.path(path_model, paste(name,'_diagnostic_independance_of_residuals_',i,'.jpg', sep='')))\n",
    "    plot(resid(model_$mod), df_$DIB)\n",
    "    dev.off()\n",
    "\n",
    "    \n",
    "    #perc_duration_3_Zone\n",
    "    df_$Y = sqrt(df_$perc_duration_3_Zone)\n",
    "    model_ = rpt(Y ~  PenID + DIB + (1|HenID) , grname = c(\"HenID\"), data = df_, datatype = \"Gaussian\", \n",
    "                 nboot = nb, npermut = 0)\n",
    "    li_R_org = append(li_R_org, model_$R[[1]])\n",
    "    li_CIL_org = append(li_CIL_org, model_$CI_emp[,'2.5%'])\n",
    "    li_CIU_org = append(li_CIU_org, model_$CI_emp[,'97.5%'])\n",
    "    li_P = append(li_P, model_$P$LRT_P)\n",
    "    li_se_org = append(li_se_org, model_$se[[1]])\n",
    "    li_ngroup = append(li_ngroup, model_$ngroups[['HenID']])\n",
    "    li_nobs = append(li_nobs, model_$nobs)\n",
    "    li_mod = append(li_mod, model_$mod)\n",
    "    li_var = append(li_var, 'perc_duration_3_Zone')\n",
    "    li_wib = append(li_wib, i)\n",
    "    #save model assumption verification \n",
    "    name = 'perc_duration_3_Zone'\n",
    "    ###### histogram of dep var \n",
    "    #variance of the residuals is equal across groups. Even spread around the centered line?\n",
    "    jpeg(file.path(path_model,paste0(name,'_Histrogram_',i,'.jpg')))\n",
    "    hist(df_$Y)\n",
    "    dev.off()\n",
    "    ######linearity of predictors: plot residual vs observed\n",
    "    jpeg(file.path(path_model, paste(name,'_diagnostic_predictors_linearity_',i,'.jpg', sep='')))\n",
    "    plot(resid(model_$mod),df_$Y)\n",
    "    dev.off()\n",
    "    ###### normally distributed residuals\n",
    "    jpeg(file.path(path_model, paste(name,'_diagnostic_normally_distributed_residual_',i,'.jpg', sep='')))\n",
    "    qqnorm(resid(model_$mod), main = \"Residuals\")\n",
    "    qqline(resid(model_$mod))\n",
    "    dev.off()\n",
    "    jpeg(file.path(path_model, paste(name,'_diagnostic_normally_distributed_residual_histogram_',i,'.jpg', sep='')))\n",
    "    hist(resid(model_$mod))\n",
    "    dev.off()\n",
    "    ###### normally of random effects\n",
    "    jpeg(file.path(path_model, paste(name,'_diagnostic_normally_distributed_randomeffect_henPen_',i,'.jpg', sep='')))\n",
    "    qqmath(ranef(model_$mod,condVar = TRUE))$HenID\n",
    "    dev.off()\n",
    "    ######check homogeneity of variance (residuals has constant variance)\n",
    "    #variance of the residuals is equal across groups. Even spread around the centered line?\n",
    "    jpeg(file.path(path_model, paste(name,'_diagnostic_homogeneity_variance_',i,'.jpg', sep='')))\n",
    "    plot(model_$mod)\n",
    "    dev.off()\n",
    "    ###### check if the residuals are independent. This can be checked by plotting residuals against covariates - especially time-varying or spatial covariates. There should not be any systematic pattern\n",
    "    jpeg(file.path(path_model, paste(name,'_diagnostic_independance_of_residuals_',i,'.jpg', sep='')))\n",
    "    plot(resid(model_$mod), df_$DIB)\n",
    "    dev.off()\n",
    "    \n",
    "    #perc_duration_2_Zone\n",
    "    df_$Y = sqrt(df_$perc_duration_2_Zone)\n",
    "    model_ = rpt(Y ~ PenID + DIB + (1|HenID), grname = c(\"HenID\"), data = df_, datatype = \"Gaussian\", \n",
    "                 nboot = nb, npermut = 0)\n",
    "    li_R_org = append(li_R_org, model_$R[[1]])\n",
    "    li_CIL_org = append(li_CIL_org, model_$CI_emp[,'2.5%'])\n",
    "    li_CIU_org = append(li_CIU_org, model_$CI_emp[,'97.5%'])\n",
    "    li_P = append(li_P, model_$P$LRT_P)\n",
    "    li_se_org = append(li_se_org, model_$se[[1]])\n",
    "    li_ngroup = append(li_ngroup, model_$ngroups[['HenID']])\n",
    "    li_nobs = append(li_nobs, model_$nobs)\n",
    "    li_mod = append(li_mod, model_$mod)\n",
    "    li_var = append(li_var, 'perc_duration_2_Zone')\n",
    "    li_wib = append(li_wib, i)\n",
    "    #save model assumption verification \n",
    "    name = 'perc_duration_2_Zone'\n",
    "    ###### histogram of dep var \n",
    "    #variance of the residuals is equal across groups. Even spread around the centered line?\n",
    "    jpeg(file.path(path_model,paste0(name,'_Histrogram_',i,'.jpg')))\n",
    "    hist(df_$Y)\n",
    "    dev.off()\n",
    "    ######linearity of predictors: plot residual vs observed\n",
    "    jpeg(file.path(path_model, paste(name,'_diagnostic_predictors_linearity_',i,'.jpg', sep='')))\n",
    "    plot(resid(model_$mod),df_$Y)\n",
    "    dev.off()\n",
    "    ###### normally distributed residuals\n",
    "    jpeg(file.path(path_model, paste(name,'_diagnostic_normally_distributed_residual_',i,'.jpg', sep='')))\n",
    "    qqnorm(resid(model_$mod), main = \"Residuals\")\n",
    "    qqline(resid(model_$mod))\n",
    "    dev.off()\n",
    "    jpeg(file.path(path_model, paste(name,'_diagnostic_normally_distributed_residual_histogram_',i,'.jpg', sep='')))\n",
    "    hist(resid(model_$mod))\n",
    "    dev.off()\n",
    "    ###### normally of random effects\n",
    "    jpeg(file.path(path_model, paste(name,'_diagnostic_normally_distributed_randomeffect_henPen_',i,'.jpg', sep='')))\n",
    "    qqmath(ranef(model_$mod,condVar = TRUE))$HenID\n",
    "    dev.off()\n",
    "    ######check homogeneity of variance (residuals has constant variance)\n",
    "    #variance of the residuals is equal across groups. Even spread around the centered line?\n",
    "    jpeg(file.path(path_model, paste(name,'_diagnostic_homogeneity_variance_',i,'.jpg', sep='')))\n",
    "    plot(model_$mod)\n",
    "    dev.off()\n",
    "    ###### check if the residuals are independent. This can be checked by plotting residuals against covariates - especially time-varying or spatial covariates. There should not be any systematic pattern\n",
    "    jpeg(file.path(path_model, paste(name,'_diagnostic_independance_of_residuals_',i,'.jpg', sep='')))\n",
    "    plot(resid(model_$mod), df_$DIB)\n",
    "    dev.off()\n",
    "\n",
    "    #vertical_travel_distance_perh\n",
    "    df_$Y = df_$vertical_travel_distance_perh\n",
    "    model_ = rpt(vertical_travel_distance_perh ~ PenID + DIB +  (1|HenID) , grname = c(\"HenID\"), data = df_, datatype = \"Gaussian\", \n",
    "                 nboot = nb, npermut = 0)\n",
    "    li_R_org = append(li_R_org, model_$R[[1]])\n",
    "    li_CIL_org = append(li_CIL_org, model_$CI_emp[,'2.5%'])\n",
    "    li_CIU_org = append(li_CIU_org, model_$CI_emp[,'97.5%'])\n",
    "    li_P = append(li_P, model_$P$LRT_P)\n",
    "    li_se_org = append(li_se_org, model_$se[[1]])\n",
    "    li_ngroup = append(li_ngroup, model_$ngroups[['HenID']])\n",
    "    li_nobs = append(li_nobs, model_$nobs)\n",
    "    li_mod = append(li_mod, model_$mod)\n",
    "    li_var = append(li_var, 'vertical_travel_distance_perh')\n",
    "    li_wib = append(li_wib, i)\n",
    "    #save model assumption verification \n",
    "    name = 'vertical_travel_distance_perh'\n",
    "    ###### histogram of dep var \n",
    "    #variance of the residuals is equal across groups. Even spread around the centered line?\n",
    "    jpeg(file.path(path_model,paste0(name,'_Histrogram_',i,'.jpg')))\n",
    "    hist(df_$Y)\n",
    "    dev.off()\n",
    "    ######linearity of predictors: plot residual vs observed\n",
    "    jpeg(file.path(path_model, paste(name,'_diagnostic_predictors_linearity_',i,'.jpg', sep='')))\n",
    "    plot(resid(model_$mod),df_$Y)\n",
    "    dev.off()\n",
    "    ###### normally distributed residuals\n",
    "    jpeg(file.path(path_model, paste(name,'_diagnostic_normally_distributed_residual_',i,'.jpg', sep='')))\n",
    "    qqnorm(resid(model_$mod), main = \"Residuals\")\n",
    "    qqline(resid(model_$mod))\n",
    "    dev.off()\n",
    "    jpeg(file.path(path_model, paste(name,'_diagnostic_normally_distributed_residual_histogram_',i,'.jpg', sep='')))\n",
    "    hist(resid(model_$mod))\n",
    "    dev.off()\n",
    "    ###### normally of random effects\n",
    "    jpeg(file.path(path_model, paste(name,'_diagnostic_normally_distributed_randomeffect_henPen_',i,'.jpg', sep='')))\n",
    "    qqmath(ranef(model_$mod,condVar = TRUE))$HenID\n",
    "    dev.off()\n",
    "    ######check homogeneity of variance (residuals has constant variance)\n",
    "    #variance of the residuals is equal across groups. Even spread around the centered line?\n",
    "    jpeg(file.path(path_model, paste(name,'_diagnostic_homogeneity_variance_',i,'.jpg', sep='')))\n",
    "    plot(model_$mod)\n",
    "    dev.off()\n",
    "    ###### check if the residuals are independent. This can be checked by plotting residuals against covariates - especially time-varying or spatial covariates. There should not be any systematic pattern\n",
    "    jpeg(file.path(path_model, paste(name,'_diagnostic_independance_of_residuals_',i,'.jpg', sep='')))\n",
    "    plot(resid(model_$mod), df_$DIB)\n",
    "    dev.off()\n",
    "    \n",
    "}\n",
    "df_res = data.frame(li_R_org, li_CIL_org, li_CIU_org, li_P, li_se_org, li_ngroup, li_nobs, li_var, li_wib)\n",
    "#save\n",
    "write.csv(df_res, file.path(path_adapt,'df_MVT_repeatibilityWIB.csv'))\n",
    "df_res"
   ]
  },
  {
   "cell_type": "code",
   "execution_count": 41,
   "metadata": {},
   "outputs": [
    {
     "data": {
      "image/png": "[encoded data removed]",
      "text/plain": [
       "plot without title"
      ]
     },
     "metadata": {
      "image/png": {
       "height": 420,
       "width": 420
      }
     },
     "output_type": "display_data"
    }
   ],
   "source": [
    "p = ggplot(df_res, aes(x=li_wib, y=li_R_org, group=li_var, color=li_var, position='fill')) +\n",
    "  geom_point(size=2.5, position = position_dodge(width=1)) +\n",
    "  geom_errorbar(aes(ymax = li_CIU_org, ymin = li_CIL_org), position = position_dodge(width=1)) +\n",
    "  theme(plot.margin=grid::unit(c(0,0,0,0), \"mm\"))\n",
    "p + xlab(\"WIB\") + ylab(\"repeatability\")+ coord_cartesian(ylim = c(0, 1))\n",
    "#ggsave(file.path(path_adapt,'repeatability_WIB_org_ARCSIN.png'),width=10, height=5)"
   ]
  },
  {
   "cell_type": "code",
   "execution_count": null,
   "metadata": {},
   "outputs": [],
   "source": []
  },
  {
   "cell_type": "code",
   "execution_count": null,
   "metadata": {},
   "outputs": [],
   "source": [
    "#ARCSIN"
   ]
  },
  {
   "cell_type": "code",
   "execution_count": 47,
   "metadata": {
    "scrolled": true
   },
   "outputs": [
    {
     "name": "stdout",
     "output_type": "stream",
     "text": [
      "Bootstrap Progress:\n",
      "Bootstrap Progress:\n",
      "Bootstrap Progress:\n",
      "Bootstrap Progress:\n",
      "Bootstrap Progress:\n",
      "Bootstrap Progress:\n",
      "Bootstrap Progress:\n",
      "Bootstrap Progress:\n",
      "Bootstrap Progress:\n",
      "Bootstrap Progress:\n",
      "Bootstrap Progress:\n",
      "Bootstrap Progress:\n",
      "Bootstrap Progress:\n",
      "Bootstrap Progress:\n",
      "Bootstrap Progress:\n",
      "Bootstrap Progress:\n",
      "Bootstrap Progress:\n",
      "Bootstrap Progress:\n",
      "Bootstrap Progress:\n",
      "Bootstrap Progress:\n",
      "Bootstrap Progress:\n",
      "Bootstrap Progress:\n",
      "Bootstrap Progress:\n",
      "Bootstrap Progress:\n",
      "Bootstrap Progress:\n",
      "Bootstrap Progress:\n",
      "Bootstrap Progress:\n",
      "Bootstrap Progress:\n",
      "Bootstrap Progress:\n",
      "Bootstrap Progress:\n",
      "Bootstrap Progress:\n",
      "Bootstrap Progress:\n"
     ]
    },
    {
     "data": {
      "text/html": [
       "<table class=\"dataframe\">\n",
       "<caption>A data.frame: 32 × 9</caption>\n",
       "<thead>\n",
       "\t<tr><th scope=col>li_R_org</th><th scope=col>li_CIL_org</th><th scope=col>li_CIU_org</th><th scope=col>li_P</th><th scope=col>li_se_org</th><th scope=col>li_ngroup</th><th scope=col>li_nobs</th><th scope=col>li_var</th><th scope=col>li_wib</th></tr>\n",
       "\t<tr><th scope=col>&lt;dbl&gt;</th><th scope=col>&lt;dbl&gt;</th><th scope=col>&lt;dbl&gt;</th><th scope=col>&lt;dbl&gt;</th><th scope=col>&lt;dbl&gt;</th><th scope=col>&lt;int&gt;</th><th scope=col>&lt;int&gt;</th><th scope=col>&lt;chr&gt;</th><th scope=col>&lt;int&gt;</th></tr>\n",
       "</thead>\n",
       "<tbody>\n",
       "\t<tr><td>0.5661532</td><td>0.4510064</td><td>0.6410180</td><td> 1.982175e-32</td><td>0.06257790</td><td>52</td><td>312</td><td>perc_duration_5_Zone         </td><td>1</td></tr>\n",
       "\t<tr><td>0.5027418</td><td>0.3362224</td><td>0.5800371</td><td> 7.505703e-26</td><td>0.07768508</td><td>52</td><td>312</td><td>perc_duration_3_Zone         </td><td>1</td></tr>\n",
       "\t<tr><td>0.5828472</td><td>0.4057469</td><td>0.6653355</td><td> 2.316214e-34</td><td>0.08647542</td><td>52</td><td>312</td><td>perc_duration_2_Zone         </td><td>1</td></tr>\n",
       "\t<tr><td>0.6991363</td><td>0.6357894</td><td>0.7475437</td><td> 5.729824e-51</td><td>0.03648305</td><td>52</td><td>312</td><td>vertical_travel_distance_perh</td><td>1</td></tr>\n",
       "\t<tr><td>0.8079783</td><td>0.7515393</td><td>0.8400690</td><td> 1.356870e-58</td><td>0.03032628</td><td>52</td><td>260</td><td>perc_duration_5_Zone         </td><td>2</td></tr>\n",
       "\t<tr><td>0.7951427</td><td>0.7205722</td><td>0.8115962</td><td> 7.866722e-56</td><td>0.02914798</td><td>52</td><td>260</td><td>perc_duration_3_Zone         </td><td>2</td></tr>\n",
       "\t<tr><td>0.7910082</td><td>0.7496557</td><td>0.8353952</td><td> 5.579227e-55</td><td>0.03100925</td><td>52</td><td>260</td><td>perc_duration_2_Zone         </td><td>2</td></tr>\n",
       "\t<tr><td>0.7674396</td><td>0.7131276</td><td>0.8385811</td><td> 1.880962e-50</td><td>0.04407320</td><td>52</td><td>260</td><td>vertical_travel_distance_perh</td><td>2</td></tr>\n",
       "\t<tr><td>0.8062165</td><td>0.7440678</td><td>0.8536601</td><td> 4.093282e-90</td><td>0.03808815</td><td>52</td><td>362</td><td>perc_duration_5_Zone         </td><td>3</td></tr>\n",
       "\t<tr><td>0.7630399</td><td>0.6846188</td><td>0.8241923</td><td> 2.140014e-77</td><td>0.04885524</td><td>52</td><td>362</td><td>perc_duration_3_Zone         </td><td>3</td></tr>\n",
       "\t<tr><td>0.8146603</td><td>0.7323106</td><td>0.8443058</td><td> 6.073218e-93</td><td>0.04040686</td><td>52</td><td>362</td><td>perc_duration_2_Zone         </td><td>3</td></tr>\n",
       "\t<tr><td>0.8022726</td><td>0.6956334</td><td>0.8344610</td><td> 5.937447e-89</td><td>0.04836559</td><td>52</td><td>362</td><td>vertical_travel_distance_perh</td><td>3</td></tr>\n",
       "\t<tr><td>0.6583420</td><td>0.5372219</td><td>0.7306032</td><td> 1.548569e-54</td><td>0.05917741</td><td>52</td><td>364</td><td>perc_duration_5_Zone         </td><td>4</td></tr>\n",
       "\t<tr><td>0.7135817</td><td>0.6406553</td><td>0.7762872</td><td> 1.397789e-65</td><td>0.04271116</td><td>52</td><td>364</td><td>perc_duration_3_Zone         </td><td>4</td></tr>\n",
       "\t<tr><td>0.6793796</td><td>0.6122074</td><td>0.7712860</td><td> 1.713944e-58</td><td>0.05564368</td><td>52</td><td>364</td><td>perc_duration_2_Zone         </td><td>4</td></tr>\n",
       "\t<tr><td>0.5857598</td><td>0.4689730</td><td>0.6755440</td><td> 9.479097e-43</td><td>0.07256650</td><td>52</td><td>364</td><td>vertical_travel_distance_perh</td><td>4</td></tr>\n",
       "\t<tr><td>0.8529194</td><td>0.8057622</td><td>0.9032776</td><td>1.916634e-108</td><td>0.03411222</td><td>52</td><td>363</td><td>perc_duration_5_Zone         </td><td>5</td></tr>\n",
       "\t<tr><td>0.8160214</td><td>0.7999190</td><td>0.8720748</td><td> 7.646622e-94</td><td>0.02410443</td><td>52</td><td>363</td><td>perc_duration_3_Zone         </td><td>5</td></tr>\n",
       "\t<tr><td>0.7800490</td><td>0.7436359</td><td>0.8472378</td><td> 2.580016e-82</td><td>0.03707482</td><td>52</td><td>363</td><td>perc_duration_2_Zone         </td><td>5</td></tr>\n",
       "\t<tr><td>0.6719141</td><td>0.6222301</td><td>0.7386700</td><td> 7.957377e-57</td><td>0.03909829</td><td>52</td><td>363</td><td>vertical_travel_distance_perh</td><td>5</td></tr>\n",
       "\t<tr><td>0.8149574</td><td>0.7418387</td><td>0.8523049</td><td> 1.235957e-93</td><td>0.03771818</td><td>52</td><td>364</td><td>perc_duration_5_Zone         </td><td>6</td></tr>\n",
       "\t<tr><td>0.6690587</td><td>0.5546255</td><td>0.7305927</td><td> 1.621196e-56</td><td>0.06493055</td><td>52</td><td>364</td><td>perc_duration_3_Zone         </td><td>6</td></tr>\n",
       "\t<tr><td>0.8433177</td><td>0.8002723</td><td>0.8765915</td><td>1.691284e-104</td><td>0.02543328</td><td>52</td><td>364</td><td>perc_duration_2_Zone         </td><td>6</td></tr>\n",
       "\t<tr><td>0.6982304</td><td>0.5300021</td><td>0.7573959</td><td> 2.730538e-62</td><td>0.08378260</td><td>52</td><td>364</td><td>vertical_travel_distance_perh</td><td>6</td></tr>\n",
       "\t<tr><td>0.8896603</td><td>0.8690502</td><td>0.9200508</td><td>1.300524e-127</td><td>0.01641196</td><td>52</td><td>364</td><td>perc_duration_5_Zone         </td><td>7</td></tr>\n",
       "\t<tr><td>0.8351271</td><td>0.7564151</td><td>0.8963145</td><td>3.662559e-101</td><td>0.04988472</td><td>52</td><td>364</td><td>perc_duration_3_Zone         </td><td>7</td></tr>\n",
       "\t<tr><td>0.8828968</td><td>0.8389692</td><td>0.8973824</td><td>1.129010e-123</td><td>0.02294866</td><td>52</td><td>364</td><td>perc_duration_2_Zone         </td><td>7</td></tr>\n",
       "\t<tr><td>0.7590299</td><td>0.7287611</td><td>0.7940444</td><td> 1.410118e-76</td><td>0.02215141</td><td>52</td><td>364</td><td>vertical_travel_distance_perh</td><td>7</td></tr>\n",
       "\t<tr><td>0.8665688</td><td>0.8269644</td><td>0.9213225</td><td> 1.847725e-73</td><td>0.03122252</td><td>52</td><td>256</td><td>perc_duration_5_Zone         </td><td>8</td></tr>\n",
       "\t<tr><td>0.8965520</td><td>0.8453430</td><td>0.9105097</td><td> 2.556205e-83</td><td>0.02393345</td><td>52</td><td>256</td><td>perc_duration_3_Zone         </td><td>8</td></tr>\n",
       "\t<tr><td>0.9074144</td><td>0.8753196</td><td>0.9186898</td><td> 9.912301e-82</td><td>0.01475351</td><td>52</td><td>256</td><td>perc_duration_2_Zone         </td><td>8</td></tr>\n",
       "\t<tr><td>0.8512447</td><td>0.7474373</td><td>0.8772112</td><td> 3.739340e-65</td><td>0.04920743</td><td>52</td><td>256</td><td>vertical_travel_distance_perh</td><td>8</td></tr>\n",
       "</tbody>\n",
       "</table>\n"
      ],
      "text/latex": [
       "A data.frame: 32 × 9\n",
       "\\begin{tabular}{lllllllll}\n",
       " li\\_R\\_org & li\\_CIL\\_org & li\\_CIU\\_org & li\\_P & li\\_se\\_org & li\\_ngroup & li\\_nobs & li\\_var & li\\_wib\\\\\n",
       " <dbl> & <dbl> & <dbl> & <dbl> & <dbl> & <int> & <int> & <chr> & <int>\\\\\n",
       "\\hline\n",
       "\t 0.5661532 & 0.4510064 & 0.6410180 &  1.982175e-32 & 0.06257790 & 52 & 312 & perc\\_duration\\_5\\_Zone          & 1\\\\\n",
       "\t 0.5027418 & 0.3362224 & 0.5800371 &  7.505703e-26 & 0.07768508 & 52 & 312 & perc\\_duration\\_3\\_Zone          & 1\\\\\n",
       "\t 0.5828472 & 0.4057469 & 0.6653355 &  2.316214e-34 & 0.08647542 & 52 & 312 & perc\\_duration\\_2\\_Zone          & 1\\\\\n",
       "\t 0.6991363 & 0.6357894 & 0.7475437 &  5.729824e-51 & 0.03648305 & 52 & 312 & vertical\\_travel\\_distance\\_perh & 1\\\\\n",
       "\t 0.8079783 & 0.7515393 & 0.8400690 &  1.356870e-58 & 0.03032628 & 52 & 260 & perc\\_duration\\_5\\_Zone          & 2\\\\\n",
       "\t 0.7951427 & 0.7205722 & 0.8115962 &  7.866722e-56 & 0.02914798 & 52 & 260 & perc\\_duration\\_3\\_Zone          & 2\\\\\n",
       "\t 0.7910082 & 0.7496557 & 0.8353952 &  5.579227e-55 & 0.03100925 & 52 & 260 & perc\\_duration\\_2\\_Zone          & 2\\\\\n",
       "\t 0.7674396 & 0.7131276 & 0.8385811 &  1.880962e-50 & 0.04407320 & 52 & 260 & vertical\\_travel\\_distance\\_perh & 2\\\\\n",
       "\t 0.8062165 & 0.7440678 & 0.8536601 &  4.093282e-90 & 0.03808815 & 52 & 362 & perc\\_duration\\_5\\_Zone          & 3\\\\\n",
       "\t 0.7630399 & 0.6846188 & 0.8241923 &  2.140014e-77 & 0.04885524 & 52 & 362 & perc\\_duration\\_3\\_Zone          & 3\\\\\n",
       "\t 0.8146603 & 0.7323106 & 0.8443058 &  6.073218e-93 & 0.04040686 & 52 & 362 & perc\\_duration\\_2\\_Zone          & 3\\\\\n",
       "\t 0.8022726 & 0.6956334 & 0.8344610 &  5.937447e-89 & 0.04836559 & 52 & 362 & vertical\\_travel\\_distance\\_perh & 3\\\\\n",
       "\t 0.6583420 & 0.5372219 & 0.7306032 &  1.548569e-54 & 0.05917741 & 52 & 364 & perc\\_duration\\_5\\_Zone          & 4\\\\\n",
       "\t 0.7135817 & 0.6406553 & 0.7762872 &  1.397789e-65 & 0.04271116 & 52 & 364 & perc\\_duration\\_3\\_Zone          & 4\\\\\n",
       "\t 0.6793796 & 0.6122074 & 0.7712860 &  1.713944e-58 & 0.05564368 & 52 & 364 & perc\\_duration\\_2\\_Zone          & 4\\\\\n",
       "\t 0.5857598 & 0.4689730 & 0.6755440 &  9.479097e-43 & 0.07256650 & 52 & 364 & vertical\\_travel\\_distance\\_perh & 4\\\\\n",
       "\t 0.8529194 & 0.8057622 & 0.9032776 & 1.916634e-108 & 0.03411222 & 52 & 363 & perc\\_duration\\_5\\_Zone          & 5\\\\\n",
       "\t 0.8160214 & 0.7999190 & 0.8720748 &  7.646622e-94 & 0.02410443 & 52 & 363 & perc\\_duration\\_3\\_Zone          & 5\\\\\n",
       "\t 0.7800490 & 0.7436359 & 0.8472378 &  2.580016e-82 & 0.03707482 & 52 & 363 & perc\\_duration\\_2\\_Zone          & 5\\\\\n",
       "\t 0.6719141 & 0.6222301 & 0.7386700 &  7.957377e-57 & 0.03909829 & 52 & 363 & vertical\\_travel\\_distance\\_perh & 5\\\\\n",
       "\t 0.8149574 & 0.7418387 & 0.8523049 &  1.235957e-93 & 0.03771818 & 52 & 364 & perc\\_duration\\_5\\_Zone          & 6\\\\\n",
       "\t 0.6690587 & 0.5546255 & 0.7305927 &  1.621196e-56 & 0.06493055 & 52 & 364 & perc\\_duration\\_3\\_Zone          & 6\\\\\n",
       "\t 0.8433177 & 0.8002723 & 0.8765915 & 1.691284e-104 & 0.02543328 & 52 & 364 & perc\\_duration\\_2\\_Zone          & 6\\\\\n",
       "\t 0.6982304 & 0.5300021 & 0.7573959 &  2.730538e-62 & 0.08378260 & 52 & 364 & vertical\\_travel\\_distance\\_perh & 6\\\\\n",
       "\t 0.8896603 & 0.8690502 & 0.9200508 & 1.300524e-127 & 0.01641196 & 52 & 364 & perc\\_duration\\_5\\_Zone          & 7\\\\\n",
       "\t 0.8351271 & 0.7564151 & 0.8963145 & 3.662559e-101 & 0.04988472 & 52 & 364 & perc\\_duration\\_3\\_Zone          & 7\\\\\n",
       "\t 0.8828968 & 0.8389692 & 0.8973824 & 1.129010e-123 & 0.02294866 & 52 & 364 & perc\\_duration\\_2\\_Zone          & 7\\\\\n",
       "\t 0.7590299 & 0.7287611 & 0.7940444 &  1.410118e-76 & 0.02215141 & 52 & 364 & vertical\\_travel\\_distance\\_perh & 7\\\\\n",
       "\t 0.8665688 & 0.8269644 & 0.9213225 &  1.847725e-73 & 0.03122252 & 52 & 256 & perc\\_duration\\_5\\_Zone          & 8\\\\\n",
       "\t 0.8965520 & 0.8453430 & 0.9105097 &  2.556205e-83 & 0.02393345 & 52 & 256 & perc\\_duration\\_3\\_Zone          & 8\\\\\n",
       "\t 0.9074144 & 0.8753196 & 0.9186898 &  9.912301e-82 & 0.01475351 & 52 & 256 & perc\\_duration\\_2\\_Zone          & 8\\\\\n",
       "\t 0.8512447 & 0.7474373 & 0.8772112 &  3.739340e-65 & 0.04920743 & 52 & 256 & vertical\\_travel\\_distance\\_perh & 8\\\\\n",
       "\\end{tabular}\n"
      ],
      "text/markdown": [
       "\n",
       "A data.frame: 32 × 9\n",
       "\n",
       "| li_R_org &lt;dbl&gt; | li_CIL_org &lt;dbl&gt; | li_CIU_org &lt;dbl&gt; | li_P &lt;dbl&gt; | li_se_org &lt;dbl&gt; | li_ngroup &lt;int&gt; | li_nobs &lt;int&gt; | li_var &lt;chr&gt; | li_wib &lt;int&gt; |\n",
       "|---|---|---|---|---|---|---|---|---|\n",
       "| 0.5661532 | 0.4510064 | 0.6410180 |  1.982175e-32 | 0.06257790 | 52 | 312 | perc_duration_5_Zone          | 1 |\n",
       "| 0.5027418 | 0.3362224 | 0.5800371 |  7.505703e-26 | 0.07768508 | 52 | 312 | perc_duration_3_Zone          | 1 |\n",
       "| 0.5828472 | 0.4057469 | 0.6653355 |  2.316214e-34 | 0.08647542 | 52 | 312 | perc_duration_2_Zone          | 1 |\n",
       "| 0.6991363 | 0.6357894 | 0.7475437 |  5.729824e-51 | 0.03648305 | 52 | 312 | vertical_travel_distance_perh | 1 |\n",
       "| 0.8079783 | 0.7515393 | 0.8400690 |  1.356870e-58 | 0.03032628 | 52 | 260 | perc_duration_5_Zone          | 2 |\n",
       "| 0.7951427 | 0.7205722 | 0.8115962 |  7.866722e-56 | 0.02914798 | 52 | 260 | perc_duration_3_Zone          | 2 |\n",
       "| 0.7910082 | 0.7496557 | 0.8353952 |  5.579227e-55 | 0.03100925 | 52 | 260 | perc_duration_2_Zone          | 2 |\n",
       "| 0.7674396 | 0.7131276 | 0.8385811 |  1.880962e-50 | 0.04407320 | 52 | 260 | vertical_travel_distance_perh | 2 |\n",
       "| 0.8062165 | 0.7440678 | 0.8536601 |  4.093282e-90 | 0.03808815 | 52 | 362 | perc_duration_5_Zone          | 3 |\n",
       "| 0.7630399 | 0.6846188 | 0.8241923 |  2.140014e-77 | 0.04885524 | 52 | 362 | perc_duration_3_Zone          | 3 |\n",
       "| 0.8146603 | 0.7323106 | 0.8443058 |  6.073218e-93 | 0.04040686 | 52 | 362 | perc_duration_2_Zone          | 3 |\n",
       "| 0.8022726 | 0.6956334 | 0.8344610 |  5.937447e-89 | 0.04836559 | 52 | 362 | vertical_travel_distance_perh | 3 |\n",
       "| 0.6583420 | 0.5372219 | 0.7306032 |  1.548569e-54 | 0.05917741 | 52 | 364 | perc_duration_5_Zone          | 4 |\n",
       "| 0.7135817 | 0.6406553 | 0.7762872 |  1.397789e-65 | 0.04271116 | 52 | 364 | perc_duration_3_Zone          | 4 |\n",
       "| 0.6793796 | 0.6122074 | 0.7712860 |  1.713944e-58 | 0.05564368 | 52 | 364 | perc_duration_2_Zone          | 4 |\n",
       "| 0.5857598 | 0.4689730 | 0.6755440 |  9.479097e-43 | 0.07256650 | 52 | 364 | vertical_travel_distance_perh | 4 |\n",
       "| 0.8529194 | 0.8057622 | 0.9032776 | 1.916634e-108 | 0.03411222 | 52 | 363 | perc_duration_5_Zone          | 5 |\n",
       "| 0.8160214 | 0.7999190 | 0.8720748 |  7.646622e-94 | 0.02410443 | 52 | 363 | perc_duration_3_Zone          | 5 |\n",
       "| 0.7800490 | 0.7436359 | 0.8472378 |  2.580016e-82 | 0.03707482 | 52 | 363 | perc_duration_2_Zone          | 5 |\n",
       "| 0.6719141 | 0.6222301 | 0.7386700 |  7.957377e-57 | 0.03909829 | 52 | 363 | vertical_travel_distance_perh | 5 |\n",
       "| 0.8149574 | 0.7418387 | 0.8523049 |  1.235957e-93 | 0.03771818 | 52 | 364 | perc_duration_5_Zone          | 6 |\n",
       "| 0.6690587 | 0.5546255 | 0.7305927 |  1.621196e-56 | 0.06493055 | 52 | 364 | perc_duration_3_Zone          | 6 |\n",
       "| 0.8433177 | 0.8002723 | 0.8765915 | 1.691284e-104 | 0.02543328 | 52 | 364 | perc_duration_2_Zone          | 6 |\n",
       "| 0.6982304 | 0.5300021 | 0.7573959 |  2.730538e-62 | 0.08378260 | 52 | 364 | vertical_travel_distance_perh | 6 |\n",
       "| 0.8896603 | 0.8690502 | 0.9200508 | 1.300524e-127 | 0.01641196 | 52 | 364 | perc_duration_5_Zone          | 7 |\n",
       "| 0.8351271 | 0.7564151 | 0.8963145 | 3.662559e-101 | 0.04988472 | 52 | 364 | perc_duration_3_Zone          | 7 |\n",
       "| 0.8828968 | 0.8389692 | 0.8973824 | 1.129010e-123 | 0.02294866 | 52 | 364 | perc_duration_2_Zone          | 7 |\n",
       "| 0.7590299 | 0.7287611 | 0.7940444 |  1.410118e-76 | 0.02215141 | 52 | 364 | vertical_travel_distance_perh | 7 |\n",
       "| 0.8665688 | 0.8269644 | 0.9213225 |  1.847725e-73 | 0.03122252 | 52 | 256 | perc_duration_5_Zone          | 8 |\n",
       "| 0.8965520 | 0.8453430 | 0.9105097 |  2.556205e-83 | 0.02393345 | 52 | 256 | perc_duration_3_Zone          | 8 |\n",
       "| 0.9074144 | 0.8753196 | 0.9186898 |  9.912301e-82 | 0.01475351 | 52 | 256 | perc_duration_2_Zone          | 8 |\n",
       "| 0.8512447 | 0.7474373 | 0.8772112 |  3.739340e-65 | 0.04920743 | 52 | 256 | vertical_travel_distance_perh | 8 |\n",
       "\n"
      ],
      "text/plain": [
       "   li_R_org  li_CIL_org li_CIU_org li_P          li_se_org  li_ngroup li_nobs\n",
       "1  0.5661532 0.4510064  0.6410180   1.982175e-32 0.06257790 52        312    \n",
       "2  0.5027418 0.3362224  0.5800371   7.505703e-26 0.07768508 52        312    \n",
       "3  0.5828472 0.4057469  0.6653355   2.316214e-34 0.08647542 52        312    \n",
       "4  0.6991363 0.6357894  0.7475437   5.729824e-51 0.03648305 52        312    \n",
       "5  0.8079783 0.7515393  0.8400690   1.356870e-58 0.03032628 52        260    \n",
       "6  0.7951427 0.7205722  0.8115962   7.866722e-56 0.02914798 52        260    \n",
       "7  0.7910082 0.7496557  0.8353952   5.579227e-55 0.03100925 52        260    \n",
       "8  0.7674396 0.7131276  0.8385811   1.880962e-50 0.04407320 52        260    \n",
       "9  0.8062165 0.7440678  0.8536601   4.093282e-90 0.03808815 52        362    \n",
       "10 0.7630399 0.6846188  0.8241923   2.140014e-77 0.04885524 52        362    \n",
       "11 0.8146603 0.7323106  0.8443058   6.073218e-93 0.04040686 52        362    \n",
       "12 0.8022726 0.6956334  0.8344610   5.937447e-89 0.04836559 52        362    \n",
       "13 0.6583420 0.5372219  0.7306032   1.548569e-54 0.05917741 52        364    \n",
       "14 0.7135817 0.6406553  0.7762872   1.397789e-65 0.04271116 52        364    \n",
       "15 0.6793796 0.6122074  0.7712860   1.713944e-58 0.05564368 52        364    \n",
       "16 0.5857598 0.4689730  0.6755440   9.479097e-43 0.07256650 52        364    \n",
       "17 0.8529194 0.8057622  0.9032776  1.916634e-108 0.03411222 52        363    \n",
       "18 0.8160214 0.7999190  0.8720748   7.646622e-94 0.02410443 52        363    \n",
       "19 0.7800490 0.7436359  0.8472378   2.580016e-82 0.03707482 52        363    \n",
       "20 0.6719141 0.6222301  0.7386700   7.957377e-57 0.03909829 52        363    \n",
       "21 0.8149574 0.7418387  0.8523049   1.235957e-93 0.03771818 52        364    \n",
       "22 0.6690587 0.5546255  0.7305927   1.621196e-56 0.06493055 52        364    \n",
       "23 0.8433177 0.8002723  0.8765915  1.691284e-104 0.02543328 52        364    \n",
       "24 0.6982304 0.5300021  0.7573959   2.730538e-62 0.08378260 52        364    \n",
       "25 0.8896603 0.8690502  0.9200508  1.300524e-127 0.01641196 52        364    \n",
       "26 0.8351271 0.7564151  0.8963145  3.662559e-101 0.04988472 52        364    \n",
       "27 0.8828968 0.8389692  0.8973824  1.129010e-123 0.02294866 52        364    \n",
       "28 0.7590299 0.7287611  0.7940444   1.410118e-76 0.02215141 52        364    \n",
       "29 0.8665688 0.8269644  0.9213225   1.847725e-73 0.03122252 52        256    \n",
       "30 0.8965520 0.8453430  0.9105097   2.556205e-83 0.02393345 52        256    \n",
       "31 0.9074144 0.8753196  0.9186898   9.912301e-82 0.01475351 52        256    \n",
       "32 0.8512447 0.7474373  0.8772112   3.739340e-65 0.04920743 52        256    \n",
       "   li_var                        li_wib\n",
       "1  perc_duration_5_Zone          1     \n",
       "2  perc_duration_3_Zone          1     \n",
       "3  perc_duration_2_Zone          1     \n",
       "4  vertical_travel_distance_perh 1     \n",
       "5  perc_duration_5_Zone          2     \n",
       "6  perc_duration_3_Zone          2     \n",
       "7  perc_duration_2_Zone          2     \n",
       "8  vertical_travel_distance_perh 2     \n",
       "9  perc_duration_5_Zone          3     \n",
       "10 perc_duration_3_Zone          3     \n",
       "11 perc_duration_2_Zone          3     \n",
       "12 vertical_travel_distance_perh 3     \n",
       "13 perc_duration_5_Zone          4     \n",
       "14 perc_duration_3_Zone          4     \n",
       "15 perc_duration_2_Zone          4     \n",
       "16 vertical_travel_distance_perh 4     \n",
       "17 perc_duration_5_Zone          5     \n",
       "18 perc_duration_3_Zone          5     \n",
       "19 perc_duration_2_Zone          5     \n",
       "20 vertical_travel_distance_perh 5     \n",
       "21 perc_duration_5_Zone          6     \n",
       "22 perc_duration_3_Zone          6     \n",
       "23 perc_duration_2_Zone          6     \n",
       "24 vertical_travel_distance_perh 6     \n",
       "25 perc_duration_5_Zone          7     \n",
       "26 perc_duration_3_Zone          7     \n",
       "27 perc_duration_2_Zone          7     \n",
       "28 vertical_travel_distance_perh 7     \n",
       "29 perc_duration_5_Zone          8     \n",
       "30 perc_duration_3_Zone          8     \n",
       "31 perc_duration_2_Zone          8     \n",
       "32 vertical_travel_distance_perh 8     "
      ]
     },
     "metadata": {},
     "output_type": "display_data"
    }
   ],
   "source": [
    "li_R_org = c()\n",
    "li_R_link = c()\n",
    "li_CIL_org = c()\n",
    "li_CIU_org = c()\n",
    "li_CIL_link = c()\n",
    "li_CIU_link = c()\n",
    "li_P = c()\n",
    "li_se_link = c()\n",
    "li_se_org = c() \n",
    "li_ngroup = c()\n",
    "li_nobs = c()\n",
    "li_mod = c()\n",
    "li_var = c()\n",
    "li_wib = c()\n",
    "nb = 10\n",
    "for (i in 1:8){\n",
    "    df_ = df[ which((df$WIB==i)&(df$PenID %in% c('pen10','pen11','pen12'))), ]  \n",
    "\n",
    "    #perc_duration_5_Zone\n",
    "    df_$Y = asin(sqrt(df_$perc_duration_5_Zone/100))\n",
    "    model_ = rpt(Y ~  PenID + DIB + (1|HenID), grname = c(\"HenID\"), data = df_, datatype = \"Gaussian\", \n",
    "                 nboot = nb, npermut = 0)\n",
    "    li_R_org = append(li_R_org, model_$R[[1]])\n",
    "    li_CIL_org = append(li_CIL_org, model_$CI_emp[,'2.5%'])\n",
    "    li_CIU_org = append(li_CIU_org, model_$CI_emp[,'97.5%'])\n",
    "    li_P = append(li_P, model_$P$LRT_P)\n",
    "    li_se_org = append(li_se_org, model_$se[[1]])\n",
    "    li_ngroup = append(li_ngroup, model_$ngroups[['HenID']])\n",
    "    li_nobs = append(li_nobs, model_$nobs)\n",
    "    li_mod = append(li_mod, model_$mod)\n",
    "    li_var = append(li_var, 'perc_duration_5_Zone')\n",
    "    li_wib = append(li_wib, i)\n",
    "    #save model assumption verification \n",
    "    name = 'perc_duration_5_Zone'\n",
    "    ###### histogram of dep var \n",
    "    #variance of the residuals is equal across groups. Even spread around the centered line?\n",
    "    jpeg(file.path(path_model,paste0(name,'_Histrogram_',i,'.jpg')))\n",
    "    hist(df_$Y)\n",
    "    dev.off()\n",
    "    ######linearity of predictors: plot residual vs observed\n",
    "    jpeg(file.path(path_model, paste(name,'_diagnostic_predictors_linearity_',i,'.jpg', sep='')))\n",
    "    plot(resid(model_$mod),df_$Y)\n",
    "    dev.off()\n",
    "    ###### normally distributed residuals\n",
    "    jpeg(file.path(path_model, paste(name,'_diagnostic_normally_distributed_residual_',i,'.jpg', sep='')))\n",
    "    qqnorm(resid(model_$mod), main = \"Residuals\")\n",
    "    qqline(resid(model_$mod))\n",
    "    dev.off()\n",
    "    jpeg(file.path(path_model, paste(name,'_diagnostic_normally_distributed_residual_histogram_',i,'.jpg', sep='')))\n",
    "    hist(resid(model_$mod))\n",
    "    dev.off()\n",
    "    ###### normally of random effects\n",
    "    jpeg(file.path(path_model, paste(name,'_diagnostic_normally_distributed_randomeffect_henPen_',i,'.jpg', sep='')))\n",
    "    qqmath(ranef(model_$mod,condVar = TRUE))$HenID\n",
    "    dev.off()\n",
    "    ######check homogeneity of variance (residuals has constant variance)\n",
    "    #variance of the residuals is equal across groups. Even spread around the centered line?\n",
    "    jpeg(file.path(path_model, paste(name,'_diagnostic_homogeneity_variance_',i,'.jpg', sep='')))\n",
    "    plot(model_$mod)\n",
    "    dev.off()\n",
    "    ###### check if the residuals are independent. This can be checked by plotting residuals against covariates - especially time-varying or spatial covariates. There should not be any systematic pattern\n",
    "    jpeg(file.path(path_model, paste(name,'_diagnostic_independance_of_residuals_',i,'.jpg', sep='')))\n",
    "    plot(resid(model_$mod), df_$DIB)\n",
    "    dev.off()\n",
    "\n",
    "    \n",
    "    #perc_duration_3_Zone\n",
    "    df_$Y = asin(sqrt(df_$perc_duration_3_Zone/100))\n",
    "    model_ = rpt(Y ~  PenID + DIB + (1|HenID) , grname = c(\"HenID\"), data = df_, datatype = \"Gaussian\", \n",
    "                 nboot = nb, npermut = 0)\n",
    "    li_R_org = append(li_R_org, model_$R[[1]])\n",
    "    li_CIL_org = append(li_CIL_org, model_$CI_emp[,'2.5%'])\n",
    "    li_CIU_org = append(li_CIU_org, model_$CI_emp[,'97.5%'])\n",
    "    li_P = append(li_P, model_$P$LRT_P)\n",
    "    li_se_org = append(li_se_org, model_$se[[1]])\n",
    "    li_ngroup = append(li_ngroup, model_$ngroups[['HenID']])\n",
    "    li_nobs = append(li_nobs, model_$nobs)\n",
    "    li_mod = append(li_mod, model_$mod)\n",
    "    li_var = append(li_var, 'perc_duration_3_Zone')\n",
    "    li_wib = append(li_wib, i)\n",
    "    #save model assumption verification \n",
    "    name = 'perc_duration_3_Zone'\n",
    "    ###### histogram of dep var \n",
    "    #variance of the residuals is equal across groups. Even spread around the centered line?\n",
    "    jpeg(file.path(path_model,paste0(name,'_Histrogram_',i,'.jpg')))\n",
    "    hist(df_$Y)\n",
    "    dev.off()\n",
    "    ######linearity of predictors: plot residual vs observed\n",
    "    jpeg(file.path(path_model, paste(name,'_diagnostic_predictors_linearity_',i,'.jpg', sep='')))\n",
    "    plot(resid(model_$mod),df_$Y)\n",
    "    dev.off()\n",
    "    ###### normally distributed residuals\n",
    "    jpeg(file.path(path_model, paste(name,'_diagnostic_normally_distributed_residual_',i,'.jpg', sep='')))\n",
    "    qqnorm(resid(model_$mod), main = \"Residuals\")\n",
    "    qqline(resid(model_$mod))\n",
    "    dev.off()\n",
    "    jpeg(file.path(path_model, paste(name,'_diagnostic_normally_distributed_residual_histogram_',i,'.jpg', sep='')))\n",
    "    hist(resid(model_$mod))\n",
    "    dev.off()\n",
    "    ###### normally of random effects\n",
    "    jpeg(file.path(path_model, paste(name,'_diagnostic_normally_distributed_randomeffect_henPen_',i,'.jpg', sep='')))\n",
    "    qqmath(ranef(model_$mod,condVar = TRUE))$HenID\n",
    "    dev.off()\n",
    "    ######check homogeneity of variance (residuals has constant variance)\n",
    "    #variance of the residuals is equal across groups. Even spread around the centered line?\n",
    "    jpeg(file.path(path_model, paste(name,'_diagnostic_homogeneity_variance_',i,'.jpg', sep='')))\n",
    "    plot(model_$mod)\n",
    "    dev.off()\n",
    "    ###### check if the residuals are independent. This can be checked by plotting residuals against covariates - especially time-varying or spatial covariates. There should not be any systematic pattern\n",
    "    jpeg(file.path(path_model, paste(name,'_diagnostic_independance_of_residuals_',i,'.jpg', sep='')))\n",
    "    plot(resid(model_$mod), df_$DIB)\n",
    "    dev.off()\n",
    "    \n",
    "    #perc_duration_2_Zone\n",
    "    df_$Y = asin(sqrt(df_$perc_duration_2_Zone/100))\n",
    "    model_ = rpt(Y ~ PenID + DIB + (1|HenID), grname = c(\"HenID\"), data = df_, datatype = \"Gaussian\", \n",
    "                 nboot = nb, npermut = 0)\n",
    "    li_R_org = append(li_R_org, model_$R[[1]])\n",
    "    li_CIL_org = append(li_CIL_org, model_$CI_emp[,'2.5%'])\n",
    "    li_CIU_org = append(li_CIU_org, model_$CI_emp[,'97.5%'])\n",
    "    li_P = append(li_P, model_$P$LRT_P)\n",
    "    li_se_org = append(li_se_org, model_$se[[1]])\n",
    "    li_ngroup = append(li_ngroup, model_$ngroups[['HenID']])\n",
    "    li_nobs = append(li_nobs, model_$nobs)\n",
    "    li_mod = append(li_mod, model_$mod)\n",
    "    li_var = append(li_var, 'perc_duration_2_Zone')\n",
    "    li_wib = append(li_wib, i)\n",
    "    #save model assumption verification \n",
    "    name = 'perc_duration_2_Zone'\n",
    "    ###### histogram of dep var \n",
    "    #variance of the residuals is equal across groups. Even spread around the centered line?\n",
    "    jpeg(file.path(path_model,paste0(name,'_Histrogram_',i,'.jpg')))\n",
    "    hist(df_$Y)\n",
    "    dev.off()\n",
    "    ######linearity of predictors: plot residual vs observed\n",
    "    jpeg(file.path(path_model, paste(name,'_diagnostic_predictors_linearity_',i,'.jpg', sep='')))\n",
    "    plot(resid(model_$mod),df_$Y)\n",
    "    dev.off()\n",
    "    ###### normally distributed residuals\n",
    "    jpeg(file.path(path_model, paste(name,'_diagnostic_normally_distributed_residual_',i,'.jpg', sep='')))\n",
    "    qqnorm(resid(model_$mod), main = \"Residuals\")\n",
    "    qqline(resid(model_$mod))\n",
    "    dev.off()\n",
    "    jpeg(file.path(path_model, paste(name,'_diagnostic_normally_distributed_residual_histogram_',i,'.jpg', sep='')))\n",
    "    hist(resid(model_$mod))\n",
    "    dev.off()\n",
    "    ###### normally of random effects\n",
    "    jpeg(file.path(path_model, paste(name,'_diagnostic_normally_distributed_randomeffect_henPen_',i,'.jpg', sep='')))\n",
    "    qqmath(ranef(model_$mod,condVar = TRUE))$HenID\n",
    "    dev.off()\n",
    "    ######check homogeneity of variance (residuals has constant variance)\n",
    "    #variance of the residuals is equal across groups. Even spread around the centered line?\n",
    "    jpeg(file.path(path_model, paste(name,'_diagnostic_homogeneity_variance_',i,'.jpg', sep='')))\n",
    "    plot(model_$mod)\n",
    "    dev.off()\n",
    "    ###### check if the residuals are independent. This can be checked by plotting residuals against covariates - especially time-varying or spatial covariates. There should not be any systematic pattern\n",
    "    jpeg(file.path(path_model, paste(name,'_diagnostic_independance_of_residuals_',i,'.jpg', sep='')))\n",
    "    plot(resid(model_$mod), df_$DIB)\n",
    "    dev.off()\n",
    "\n",
    "    #vertical_travel_distance_perh\n",
    "    df_$Y = df_$vertical_travel_distance_perh\n",
    "    model_ = rpt(vertical_travel_distance_perh ~ PenID + DIB +  (1|HenID) , grname = c(\"HenID\"), data = df_, datatype = \"Gaussian\", \n",
    "                 nboot = nb, npermut = 0)\n",
    "    li_R_org = append(li_R_org, model_$R[[1]])\n",
    "    li_CIL_org = append(li_CIL_org, model_$CI_emp[,'2.5%'])\n",
    "    li_CIU_org = append(li_CIU_org, model_$CI_emp[,'97.5%'])\n",
    "    li_P = append(li_P, model_$P$LRT_P)\n",
    "    li_se_org = append(li_se_org, model_$se[[1]])\n",
    "    li_ngroup = append(li_ngroup, model_$ngroups[['HenID']])\n",
    "    li_nobs = append(li_nobs, model_$nobs)\n",
    "    li_mod = append(li_mod, model_$mod)\n",
    "    li_var = append(li_var, 'vertical_travel_distance_perh')\n",
    "    li_wib = append(li_wib, i)\n",
    "    #save model assumption verification \n",
    "    name = 'vertical_travel_distance_perh'\n",
    "    ###### histogram of dep var \n",
    "    #variance of the residuals is equal across groups. Even spread around the centered line?\n",
    "    jpeg(file.path(path_model,paste0(name,'_Histrogram_',i,'.jpg')))\n",
    "    hist(df_$Y)\n",
    "    dev.off()\n",
    "    ######linearity of predictors: plot residual vs observed\n",
    "    jpeg(file.path(path_model, paste(name,'_diagnostic_predictors_linearity_',i,'.jpg', sep='')))\n",
    "    plot(resid(model_$mod),df_$Y)\n",
    "    dev.off()\n",
    "    ###### normally distributed residuals\n",
    "    jpeg(file.path(path_model, paste(name,'_diagnostic_normally_distributed_residual_',i,'.jpg', sep='')))\n",
    "    qqnorm(resid(model_$mod), main = \"Residuals\")\n",
    "    qqline(resid(model_$mod))\n",
    "    dev.off()\n",
    "    jpeg(file.path(path_model, paste(name,'_diagnostic_normally_distributed_residual_histogram_',i,'.jpg', sep='')))\n",
    "    hist(resid(model_$mod))\n",
    "    dev.off()\n",
    "    ###### normally of random effects\n",
    "    jpeg(file.path(path_model, paste(name,'_diagnostic_normally_distributed_randomeffect_henPen_',i,'.jpg', sep='')))\n",
    "    qqmath(ranef(model_$mod,condVar = TRUE))$HenID\n",
    "    dev.off()\n",
    "    ######check homogeneity of variance (residuals has constant variance)\n",
    "    #variance of the residuals is equal across groups. Even spread around the centered line?\n",
    "    jpeg(file.path(path_model, paste(name,'_diagnostic_homogeneity_variance_',i,'.jpg', sep='')))\n",
    "    plot(model_$mod)\n",
    "    dev.off()\n",
    "    ###### check if the residuals are independent. This can be checked by plotting residuals against covariates - especially time-varying or spatial covariates. There should not be any systematic pattern\n",
    "    jpeg(file.path(path_model, paste(name,'_diagnostic_independance_of_residuals_',i,'.jpg', sep='')))\n",
    "    plot(resid(model_$mod), df_$DIB)\n",
    "    dev.off()\n",
    "    \n",
    "}\n",
    "df_res = data.frame(li_R_org, li_CIL_org, li_CIU_org, li_P, li_se_org, li_ngroup, li_nobs, li_var, li_wib)\n",
    "#save\n",
    "write.csv(df_res, file.path(path_adapt,'df_MVT_repeatibilityWIB.csv'))\n",
    "df_res"
   ]
  },
  {
   "cell_type": "code",
   "execution_count": 48,
   "metadata": {
    "scrolled": true
   },
   "outputs": [
    {
     "data": {
      "image/png": "[encoded data removed]",
      "text/plain": [
       "plot without title"
      ]
     },
     "metadata": {
      "image/png": {
       "height": 420,
       "width": 420
      }
     },
     "output_type": "display_data"
    }
   ],
   "source": [
    "p = ggplot(df_res, aes(x=li_wib, y=li_R_org, group=li_var, color=li_var, position='fill')) +\n",
    "  geom_point(size=2.5, position = position_dodge(width=1)) +\n",
    "  geom_errorbar(aes(ymax = li_CIU_org, ymin = li_CIL_org), position = position_dodge(width=1)) +\n",
    "  theme(plot.margin=grid::unit(c(0,0,0,0), \"mm\"))\n",
    "p + xlab(\"WIB\") + ylab(\"repeatability\")+ coord_cartesian(ylim = c(0, 1))\n",
    "ggsave(file.path(path_adapt,'repeatability_WIB_org_ARCSIN.png'),width=10, height=5)"
   ]
  },
  {
   "cell_type": "code",
   "execution_count": null,
   "metadata": {},
   "outputs": [],
   "source": []
  },
  {
   "cell_type": "code",
   "execution_count": null,
   "metadata": {},
   "outputs": [],
   "source": []
  },
  {
   "cell_type": "markdown",
   "metadata": {},
   "source": [
    "## Playground"
   ]
  },
  {
   "cell_type": "code",
   "execution_count": 7,
   "metadata": {},
   "outputs": [
    {
     "name": "stdout",
     "output_type": "stream",
     "text": [
      "Bootstrap Progress:\n"
     ]
    },
    {
     "data": {
      "text/plain": [
       "\n",
       "Repeatability estimation using the lmm method\n",
       "\n",
       "Call = rpt(formula = Y ~ PenID + DIB + (1 | HenID), grname = c(\"HenID\"), data = df_, datatype = \"Gaussian\", nboot = 30, npermut = 0)\n",
       "\n",
       "Data: 364 observations\n",
       "----------------------------------------\n",
       "\n",
       "HenID (52 groups)\n",
       "\n",
       "Repeatability estimation overview: \n",
       "      R     SE   2.5%  97.5% P_permut  LRT_P\n",
       "  0.835 0.0305  0.784  0.887       NA      0\n",
       "\n",
       "Bootstrapping and Permutation test: \n",
       "            N   Mean Median   2.5%  97.5%\n",
       "boot       30  0.838   0.84  0.784  0.887\n",
       "permut      1     NA     NA     NA     NA\n",
       "\n",
       "Likelihood ratio test: \n",
       "logLik full model = 323.4453\n",
       "logLik red. model = 96.16313\n",
       "D  = 455, df = 1, P = 3.66e-101\n",
       "\n",
       "----------------------------------------"
      ]
     },
     "metadata": {},
     "output_type": "display_data"
    },
    {
     "data": {
      "text/plain": [
       "Linear mixed model fit by REML ['lmerMod']\n",
       "Formula: Y ~ PenID + DIB + (1 | HenID)\n",
       "   Data: data\n",
       "REML criterion at convergence: -622.7941\n",
       "Random effects:\n",
       " Groups   Name        Std.Dev.\n",
       " HenID    (Intercept) 0.1742  \n",
       " Residual             0.0774  \n",
       "Number of obs: 364, groups:  HenID, 52\n",
       "Fixed Effects:\n",
       "(Intercept)   PenIDpen11   PenIDpen12          DIB  \n",
       "   0.544096    -0.082875    -0.005216    -0.001491  "
      ]
     },
     "metadata": {},
     "output_type": "display_data"
    }
   ],
   "source": [
    "df_ = df[ which((df$WIB==7)&(df$PenID %in% c('pen10','pen11','pen12'))), ]   \n",
    "df_$Y = asin(sqrt(df_$perc_duration_3_Zone/100))\n",
    "model_ = rpt(Y ~ PenID + DIB + (1 | HenID), grname = c(\"HenID\"), \n",
    "    data = df_, datatype = \"Gaussian\", nboot = 30, npermut = 0)\n",
    "summary(model_)\n",
    "model_$mod"
   ]
  },
  {
   "cell_type": "code",
   "execution_count": 10,
   "metadata": {},
   "outputs": [
    {
     "name": "stdout",
     "output_type": "stream",
     "text": [
      "Bootstrap Progress:\n"
     ]
    },
    {
     "data": {
      "text/plain": [
       "\n",
       "Repeatability estimation using the lmm method\n",
       "\n",
       "Call = rpt(formula = Y ~ PenID + DIB + (1 + 1 | HenID), grname = c(\"HenID\"), data = df_, datatype = \"Gaussian\", nboot = 30, npermut = 0)\n",
       "\n",
       "Data: 364 observations\n",
       "----------------------------------------\n",
       "\n",
       "HenID (52 groups)\n",
       "\n",
       "Repeatability estimation overview: \n",
       "      R     SE   2.5%  97.5% P_permut  LRT_P\n",
       "  0.835 0.0284  0.781   0.88       NA      0\n",
       "\n",
       "Bootstrapping and Permutation test: \n",
       "            N   Mean Median   2.5%  97.5%\n",
       "boot       30  0.833  0.832  0.781   0.88\n",
       "permut      1     NA     NA     NA     NA\n",
       "\n",
       "Likelihood ratio test: \n",
       "logLik full model = 323.4453\n",
       "logLik red. model = 96.16313\n",
       "D  = 455, df = 1, P = 3.66e-101\n",
       "\n",
       "----------------------------------------"
      ]
     },
     "metadata": {},
     "output_type": "display_data"
    },
    {
     "data": {
      "text/plain": [
       "Linear mixed model fit by REML ['lmerMod']\n",
       "Formula: Y ~ PenID + DIB + (1 + 1 | HenID)\n",
       "   Data: data\n",
       "REML criterion at convergence: -622.7941\n",
       "Random effects:\n",
       " Groups   Name        Std.Dev.\n",
       " HenID    (Intercept) 0.1742  \n",
       " Residual             0.0774  \n",
       "Number of obs: 364, groups:  HenID, 52\n",
       "Fixed Effects:\n",
       "(Intercept)   PenIDpen11   PenIDpen12          DIB  \n",
       "   0.544096    -0.082875    -0.005216    -0.001491  "
      ]
     },
     "metadata": {},
     "output_type": "display_data"
    }
   ],
   "source": [
    "df_ = df[ which((df$WIB==7)&(df$PenID %in% c('pen10','pen11','pen12'))), ]   \n",
    "df_$Y = asin(sqrt(df_$perc_duration_3_Zone/100))\n",
    "model_ = rpt(Y ~ PenID + DIB + (1+ 1 | HenID), grname = c(\"HenID\"), \n",
    "    data = df_, datatype = \"Gaussian\", nboot = 30, npermut = 0)\n",
    "summary(model_)\n",
    "model_$mod"
   ]
  },
  {
   "cell_type": "code",
   "execution_count": null,
   "metadata": {},
   "outputs": [],
   "source": []
  },
  {
   "cell_type": "code",
   "execution_count": null,
   "metadata": {},
   "outputs": [],
   "source": []
  },
  {
   "cell_type": "code",
   "execution_count": 46,
   "metadata": {},
   "outputs": [
    {
     "data": {
      "text/html": [
       "<strong>png:</strong> 2"
      ],
      "text/latex": [
       "\\textbf{png:} 2"
      ],
      "text/markdown": [
       "**png:** 2"
      ],
      "text/plain": [
       "png \n",
       "  2 "
      ]
     },
     "metadata": {},
     "output_type": "display_data"
    },
    {
     "data": {
      "text/html": [
       "<strong>png:</strong> 2"
      ],
      "text/latex": [
       "\\textbf{png:} 2"
      ],
      "text/markdown": [
       "**png:** 2"
      ],
      "text/plain": [
       "png \n",
       "  2 "
      ]
     },
     "metadata": {},
     "output_type": "display_data"
    },
    {
     "data": {
      "text/html": [
       "<strong>png:</strong> 2"
      ],
      "text/latex": [
       "\\textbf{png:} 2"
      ],
      "text/markdown": [
       "**png:** 2"
      ],
      "text/plain": [
       "png \n",
       "  2 "
      ]
     },
     "metadata": {},
     "output_type": "display_data"
    },
    {
     "data": {
      "text/html": [
       "<strong>png:</strong> 2"
      ],
      "text/latex": [
       "\\textbf{png:} 2"
      ],
      "text/markdown": [
       "**png:** 2"
      ],
      "text/plain": [
       "png \n",
       "  2 "
      ]
     },
     "metadata": {},
     "output_type": "display_data"
    },
    {
     "data": {
      "text/html": [
       "<strong>png:</strong> 2"
      ],
      "text/latex": [
       "\\textbf{png:} 2"
      ],
      "text/markdown": [
       "**png:** 2"
      ],
      "text/plain": [
       "png \n",
       "  2 "
      ]
     },
     "metadata": {},
     "output_type": "display_data"
    },
    {
     "data": {
      "text/html": [
       "<strong>png:</strong> 2"
      ],
      "text/latex": [
       "\\textbf{png:} 2"
      ],
      "text/markdown": [
       "**png:** 2"
      ],
      "text/plain": [
       "png \n",
       "  2 "
      ]
     },
     "metadata": {},
     "output_type": "display_data"
    },
    {
     "data": {
      "text/html": [
       "<strong>png:</strong> 2"
      ],
      "text/latex": [
       "\\textbf{png:} 2"
      ],
      "text/markdown": [
       "**png:** 2"
      ],
      "text/plain": [
       "png \n",
       "  2 "
      ]
     },
     "metadata": {},
     "output_type": "display_data"
    }
   ],
   "source": [
    "name = 'vertical_travel_distance_perh'\n",
    "###### histogram of dep var \n",
    "#variance of the residuals is equal across groups. Even spread around the centered line?\n",
    "jpeg(file.path(path_model,paste0(name,'_Histrogram_',i,'.jpg')))\n",
    "hist(df_$Y)\n",
    "dev.off()\n",
    "######linearity of predictors: plot residual vs observed\n",
    "jpeg(file.path(path_model, paste(name,'_diagnostic_predictors_linearity_',i,'.jpg', sep='')))\n",
    "plot(resid(model_$mod),df_$Y)\n",
    "dev.off()\n",
    "###### normally distributed residuals\n",
    "jpeg(file.path(path_model, paste(name,'_diagnostic_normally_distributed_residual_',i,'.jpg', sep='')))\n",
    "qqnorm(resid(model_$mod), main = \"Residuals\")\n",
    "qqline(resid(model_$mod))\n",
    "dev.off()\n",
    "jpeg(file.path(path_model, paste(name,'_diagnostic_normally_distributed_residual_histogram_',i,'.jpg', sep='')))\n",
    "hist(resid(model_$mod))\n",
    "dev.off()\n",
    "###### normally of random effects\n",
    "jpeg(file.path(path_model, paste(name,'_diagnostic_normally_distributed_randomeffect_henPen_',i,'.jpg', sep='')))\n",
    "qqmath(ranef(model_$mod,condVar = TRUE))$HenID\n",
    "dev.off()\n",
    "######check homogeneity of variance (residuals has constant variance)\n",
    "#variance of the residuals is equal across groups. Even spread around the centered line?\n",
    "jpeg(file.path(path_model, paste(name,'_diagnostic_homogeneity_variance_',i,'.jpg', sep='')))\n",
    "plot(model_$mod)\n",
    "dev.off()\n",
    "###### check if the residuals are independent. This can be checked by plotting residuals against covariates - especially time-varying or spatial covariates. There should not be any systematic pattern\n",
    "jpeg(file.path(path_model, paste(name,'_diagnostic_independance_of_residuals_',i,'.jpg', sep='')))\n",
    "plot(resid(model_$mod), df_$DIB)\n",
    "dev.off()"
   ]
  },
  {
   "cell_type": "code",
   "execution_count": null,
   "metadata": {},
   "outputs": [],
   "source": []
  },
  {
   "cell_type": "code",
   "execution_count": 38,
   "metadata": {},
   "outputs": [
    {
     "name": "stdout",
     "output_type": "stream",
     "text": [
      "Bootstrap Progress:\n"
     ]
    },
    {
     "data": {
      "text/plain": [
       "\n",
       "Repeatability estimation using the lmm method\n",
       "\n",
       "Call = rpt(formula = sqrt(perc_duration_3_Zone) ~ PenID + DIB + (1 | HenID), grname = c(\"HenID\"), data = df_, datatype = \"Gaussian\", nboot = 30, npermut = 0)\n",
       "\n",
       "Data: 312 observations\n",
       "----------------------------------------\n",
       "\n",
       "HenID (52 groups)\n",
       "\n",
       "Repeatability estimation overview: \n",
       "      R     SE   2.5%  97.5% P_permut  LRT_P\n",
       "  0.508  0.056  0.393  0.622       NA      0\n",
       "\n",
       "Bootstrapping and Permutation test: \n",
       "            N   Mean Median   2.5%  97.5%\n",
       "boot       30  0.493  0.487  0.393  0.622\n",
       "permut      1     NA     NA     NA     NA\n",
       "\n",
       "Likelihood ratio test: \n",
       "logLik full model = -597.0729\n",
       "logLik red. model = -652.7468\n",
       "D  = 111, df = 1, P = 2.48e-26\n",
       "\n",
       "----------------------------------------"
      ]
     },
     "metadata": {},
     "output_type": "display_data"
    }
   ],
   "source": [
    "df_ = df[ which((df$WIB==1)&(df$PenID %in% c('pen10','pen11','pen12'))), ]   \n",
    "rpet = rpt(sqrt(perc_duration_3_Zone) ~ PenID + DIB + (1 | HenID), grname = c(\"HenID\"), \n",
    "    data = df_, datatype = \"Gaussian\", nboot = 30, npermut = 0)\n",
    "summary(rpet)\n",
    "fit = rpet$mod"
   ]
  },
  {
   "cell_type": "code",
   "execution_count": 39,
   "metadata": {},
   "outputs": [
    {
     "data": {
      "image/png": "[encoded data removed]",
      "text/plain": [
       "Plot with title \"Residuals\""
      ]
     },
     "metadata": {
      "image/png": {
       "height": 420,
       "width": 420
      }
     },
     "output_type": "display_data"
    },
    {
     "data": {
      "text/plain": [
       "$HenID\n"
      ]
     },
     "metadata": {},
     "output_type": "display_data"
    },
    {
     "data": {
      "image/png": "[encoded data removed]",
      "text/plain": [
       "Plot with title \"Histogram of resid(fit)\""
      ]
     },
     "metadata": {
      "image/png": {
       "height": 420,
       "width": 420
      }
     },
     "output_type": "display_data"
    },
    {
     "data": {
      "image/png": "[encoded data removed]",
      "text/plain": [
       "plot without title"
      ]
     },
     "metadata": {
      "image/png": {
       "height": 420,
       "width": 420
      }
     },
     "output_type": "display_data"
    },
    {
     "data": {
      "image/png": "[encoded data removed]",
      "text/plain": [
       "plot without title"
      ]
     },
     "metadata": {
      "image/png": {
       "height": 420,
       "width": 420
      }
     },
     "output_type": "display_data"
    }
   ],
   "source": [
    "qqnorm(resid(fit), main=\"Residuals\")\n",
    "qqline(resid(fit))\n",
    "\n",
    "hist(resid(fit))\n",
    "\n",
    "qqmath(ranef(fit,condVar = TRUE))\n",
    "\n",
    "plot(fit)"
   ]
  },
  {
   "cell_type": "code",
   "execution_count": null,
   "metadata": {},
   "outputs": [],
   "source": []
  },
  {
   "cell_type": "code",
   "execution_count": null,
   "metadata": {},
   "outputs": [],
   "source": []
  },
  {
   "cell_type": "code",
   "execution_count": 16,
   "metadata": {},
   "outputs": [
    {
     "data": {
      "text/plain": [
       "Linear mixed model fit by REML ['lmerMod']\n",
       "Formula: perc_duration_3_Zone ~ PenID + DIB + (1 | HenID)\n",
       "   Data: data\n",
       "\n",
       "REML criterion at convergence: 2485.7\n",
       "\n",
       "Scaled residuals: \n",
       "    Min      1Q  Median      3Q     Max \n",
       "-3.3011 -0.5241 -0.0671  0.4290  4.5103 \n",
       "\n",
       "Random effects:\n",
       " Groups   Name        Variance Std.Dev.\n",
       " HenID    (Intercept) 150.15   12.254  \n",
       " Residual              34.35    5.861  \n",
       "Number of obs: 364, groups:  HenID, 52\n",
       "\n",
       "Fixed effects:\n",
       "            Estimate Std. Error t value\n",
       "(Intercept)  32.5661     7.6512   4.256\n",
       "PenIDpen11   -6.3968     4.1508  -1.541\n",
       "PenIDpen12   -0.6121     4.2785  -0.143\n",
       "DIB          -0.2026     0.1536  -1.319\n",
       "\n",
       "Correlation of Fixed Effects:\n",
       "           (Intr) PnID11 PnID12\n",
       "PenIDpen11 -0.271              \n",
       "PenIDpen12 -0.263  0.485       \n",
       "DIB        -0.923  0.000  0.000"
      ]
     },
     "metadata": {},
     "output_type": "display_data"
    }
   ],
   "source": [
    "summary(fit)"
   ]
  },
  {
   "cell_type": "code",
   "execution_count": 26,
   "metadata": {},
   "outputs": [
    {
     "name": "stdout",
     "output_type": "stream",
     "text": [
      "Bootstrap Progress:\n"
     ]
    },
    {
     "data": {
      "text/plain": [
       "\n",
       "Repeatability estimation using the lmm method\n",
       "\n",
       "Call = rpt(formula = perc_duration_3_Zone ~ PenID + DIB + (1 | HenID), grname = c(\"HenID\"), data = df_, datatype = \"Gaussian\", nboot = 30, npermut = 0)\n",
       "\n",
       "Data: 2645 observations\n",
       "----------------------------------------\n",
       "\n",
       "HenID (52 groups)\n",
       "\n",
       "Repeatability estimation overview: \n",
       "      R     SE   2.5%  97.5% P_permut  LRT_P\n",
       "  0.405 0.0484  0.298  0.457       NA      0\n",
       "\n",
       "Bootstrapping and Permutation test: \n",
       "            N   Mean Median   2.5%  97.5%\n",
       "boot       30  0.384  0.385  0.298  0.457\n",
       "permut      1     NA     NA     NA     NA\n",
       "\n",
       "Likelihood ratio test: \n",
       "logLik full model = -9687.71\n",
       "logLik red. model = -10250.4\n",
       "D  = 1130, df = 1, P = 5.05e-247\n",
       "\n",
       "----------------------------------------"
      ]
     },
     "metadata": {},
     "output_type": "display_data"
    }
   ],
   "source": [
    "df_ = df[ which(df$PenID %in% c('pen10','pen11','pen12')), ]  \n",
    "df_$DIB_ = as.factor(df_$DIB)   \n",
    "df_$WIB_ = as.factor(df_$WIB)   \n",
    "\n",
    "#rpet = rpt(perc_duration_3_Zone ~ PenID + (1 | DIB_), grname = c(\"DIB_\"), \n",
    "#    data = df_, datatype = \"Gaussian\", nboot =30, npermut = 0)\n",
    "rpet = rpt(perc_duration_3_Zone ~ PenID + DIB + (1 | HenID), grname = c(\"HenID\"), \n",
    "    data = df_, datatype = \"Gaussian\", nboot = 30, npermut = 0)\n",
    "summary(rpet)\n",
    "fit = rpet$mod"
   ]
  },
  {
   "cell_type": "code",
   "execution_count": null,
   "metadata": {},
   "outputs": [],
   "source": []
  },
  {
   "cell_type": "code",
   "execution_count": 27,
   "metadata": {},
   "outputs": [
    {
     "data": {
      "image/png": "[encoded data removed]",
      "text/plain": [
       "Plot with title \"Residuals\""
      ]
     },
     "metadata": {
      "image/png": {
       "height": 420,
       "width": 420
      }
     },
     "output_type": "display_data"
    },
    {
     "data": {
      "text/plain": [
       "$HenID\n"
      ]
     },
     "metadata": {},
     "output_type": "display_data"
    },
    {
     "data": {
      "image/png": "[encoded data removed]",
      "text/plain": [
       "Plot with title \"Histogram of resid(fit)\""
      ]
     },
     "metadata": {
      "image/png": {
       "height": 420,
       "width": 420
      }
     },
     "output_type": "display_data"
    },
    {
     "data": {
      "image/png": "[encoded data removed]",
      "text/plain": [
       "plot without title"
      ]
     },
     "metadata": {
      "image/png": {
       "height": 420,
       "width": 420
      }
     },
     "output_type": "display_data"
    },
    {
     "data": {
      "image/png": "[encoded data removed]",
      "text/plain": [
       "plot without title"
      ]
     },
     "metadata": {
      "image/png": {
       "height": 420,
       "width": 420
      }
     },
     "output_type": "display_data"
    }
   ],
   "source": [
    "qqnorm(resid(fit), main=\"Residuals\")\n",
    "qqline(resid(fit))\n",
    "\n",
    "hist(resid(fit))\n",
    "\n",
    "qqmath(ranef(fit,condVar = TRUE))\n",
    "\n",
    "plot(fit)"
   ]
  },
  {
   "cell_type": "code",
   "execution_count": null,
   "metadata": {},
   "outputs": [],
   "source": []
  },
  {
   "cell_type": "code",
   "execution_count": null,
   "metadata": {},
   "outputs": [],
   "source": []
  },
  {
   "cell_type": "code",
   "execution_count": 80,
   "metadata": {
    "scrolled": true
   },
   "outputs": [
    {
     "name": "stderr",
     "output_type": "stream",
     "text": [
      "boundary (singular) fit: see ?isSingular\n",
      "\n",
      "boundary (singular) fit: see ?isSingular\n",
      "\n"
     ]
    },
    {
     "name": "stdout",
     "output_type": "stream",
     "text": [
      "Bootstrap Progress:\n"
     ]
    },
    {
     "name": "stderr",
     "output_type": "stream",
     "text": [
      "boundary (singular) fit: see ?isSingular\n",
      "\n",
      "boundary (singular) fit: see ?isSingular\n",
      "\n",
      "boundary (singular) fit: see ?isSingular\n",
      "\n",
      "boundary (singular) fit: see ?isSingular\n",
      "\n",
      "boundary (singular) fit: see ?isSingular\n",
      "\n",
      "boundary (singular) fit: see ?isSingular\n",
      "\n"
     ]
    },
    {
     "data": {
      "text/plain": [
       "\n",
       "\n",
       "Repeatability estimation using the glmm method and logit link \n",
       "\n",
       "Repeatability for HenID\n",
       "--------------------------------\n",
       "Link-scale approximation:\n",
       "R  = 0.15\n",
       "SE = 0.019\n",
       "CI = [0.129, 0.182]\n",
       "P  = 2.98e-164 [LRT]\n",
       "     NA [Permutation]\n",
       "\n",
       "Original-scale approximation:\n",
       "R  = 0.147\n",
       "SE = 0.018\n",
       "CI = [0.127, 0.178]\n",
       "P  = 2.98e-164 [LRT]\n",
       "     NA [Permutation]\n"
      ]
     },
     "metadata": {},
     "output_type": "display_data"
    }
   ],
   "source": [
    "df_ = df[ which(df$WIB==8), ]\n",
    "rpt(cbind(nbr_stays_5_Zone, nbr_stays_3_Zone) ~ (1|HenID/PenID), grname = c(\"HenID\"), \n",
    "    data = df_, datatype = \"Proportion\", nboot = 10, npermut = 0)"
   ]
  },
  {
   "cell_type": "code",
   "execution_count": 115,
   "metadata": {},
   "outputs": [
    {
     "name": "stdout",
     "output_type": "stream",
     "text": [
      "Bootstrap Progress:\n"
     ]
    },
    {
     "data": {
      "text/plain": [
       "\n",
       "Repeatability estimation using glmer method\n",
       "\n",
       "Call = rpt(formula = cbind(duration_2_Zone, verification_daily_total_duration) ~ Treatment + (1 | HenID/PenID), grname = c(\"HenID\"), data = df, datatype = \"Proportion\", nboot = 10, npermut = 0)\n",
       "\n",
       "Data: 6382 observations\n",
       "----------------------------------------\n",
       "\n",
       "HenID (131 groups)\n",
       "\n",
       "Repeatability estimation overview: \n",
       "          R     SE    2.5%  97.5% P_permut\n",
       "Org  0.0837 0.0463 0.00335  0.129       NA\n",
       "Link 0.1083 0.0657 0.00470  0.190       NA\n",
       "\n",
       "\n",
       "Bootstrapping: \n",
       "          N   Mean Median    2.5%  97.5%\n",
       "Org      10 0.0935  0.110 0.00335  0.129\n",
       "Link     10 0.1312  0.153 0.00470  0.190\n",
       "\n",
       "Permutation test: \n",
       "          N   Mean Median   2.5%  97.5% P_permut\n",
       "Org       1     NA     NA     NA     NA       NA\n",
       "Link      1     NA     NA     NA     NA       NA\n",
       "\n",
       "Likelihood ratio test: \n",
       "logLik full model = -66900.78\n",
       "logLik red. model = -67598.87\n",
       "D  = 1400, df = 1, P = 7.09e-306\n",
       "\n",
       "----------------------------------------"
      ]
     },
     "metadata": {},
     "output_type": "display_data"
    },
    {
     "data": {
      "text/html": [
       "<table class=\"dataframe\">\n",
       "<caption>A data.frame: 2 × 1</caption>\n",
       "<thead>\n",
       "\t<tr><th></th><th scope=col>HenID</th></tr>\n",
       "\t<tr><th></th><th scope=col>&lt;dbl&gt;</th></tr>\n",
       "</thead>\n",
       "<tbody>\n",
       "\t<tr><th scope=row>se_org</th><td>0.04626575</td></tr>\n",
       "\t<tr><th scope=row>se_link</th><td>0.06572500</td></tr>\n",
       "</tbody>\n",
       "</table>\n"
      ],
      "text/latex": [
       "A data.frame: 2 × 1\n",
       "\\begin{tabular}{r|l}\n",
       "  & HenID\\\\\n",
       "  & <dbl>\\\\\n",
       "\\hline\n",
       "\tse\\_org & 0.04626575\\\\\n",
       "\tse\\_link & 0.06572500\\\\\n",
       "\\end{tabular}\n"
      ],
      "text/markdown": [
       "\n",
       "A data.frame: 2 × 1\n",
       "\n",
       "| <!--/--> | HenID &lt;dbl&gt; |\n",
       "|---|---|\n",
       "| se_org | 0.04626575 |\n",
       "| se_link | 0.06572500 |\n",
       "\n"
      ],
      "text/plain": [
       "        HenID     \n",
       "se_org  0.04626575\n",
       "se_link 0.06572500"
      ]
     },
     "metadata": {},
     "output_type": "display_data"
    }
   ],
   "source": [
    "#proportion data \n",
    "rp = rpt(cbind(duration_2_Zone, verification_daily_total_duration) ~ Treatment + (1|HenID/PenID), grname=c(\"HenID\"), data=df, nboot=10, \n",
    "         npermut=0, datatype = \"Proportion\")\n",
    "summary(rp)\n",
    "rp$se"
   ]
  },
  {
   "cell_type": "code",
   "execution_count": 22,
   "metadata": {},
   "outputs": [
    {
     "name": "stdout",
     "output_type": "stream",
     "text": [
      "[1] 262 228\n",
      "Bootstrap Progress:\n"
     ]
    },
    {
     "data": {
      "text/plain": [
       "\n",
       "Repeatability estimation using the lmm method\n",
       "\n",
       "Call = rpt(formula = vertical_travel_distance_perh ~ Treatment + TrackingSystemID + (1 | HenID), grname = c(\"HenID\"), data = df_, datatype = \"Gaussian\", nboot = 10, npermut = 0)\n",
       "\n",
       "Data: 262 observations\n",
       "----------------------------------------\n",
       "\n",
       "HenID (131 groups)\n",
       "\n",
       "Repeatability estimation overview: \n",
       "      R     SE   2.5%  97.5% P_permut  LRT_P\n",
       "  0.513 0.0789  0.426   0.64       NA      0\n",
       "\n",
       "Bootstrapping and Permutation test: \n",
       "            N   Mean Median   2.5%  97.5%\n",
       "boot       10  0.528  0.532  0.426   0.64\n",
       "permut      1     NA     NA     NA     NA\n",
       "\n",
       "Likelihood ratio test: \n",
       "logLik full model = -476.4988\n",
       "logLik red. model = -495.4488\n",
       "D  = 37.9, df = 1, P = 3.72e-10\n",
       "\n",
       "----------------------------------------"
      ]
     },
     "metadata": {},
     "output_type": "display_data"
    }
   ],
   "source": [
    "df_ = df[ which(df$DIB==2 |df$DIB==7), ]\n",
    "print(dim(df_))\n",
    "rpet = rpt(vertical_travel_distance_perh ~ Treatment + TrackingSystemID + (1 | HenID), grname = c(\"HenID\"), data = df_, datatype = \"Gaussian\", \n",
    "           nboot = 10, npermut = 0)\n",
    "summary(rpet)"
   ]
  },
  {
   "cell_type": "code",
   "execution_count": 7,
   "metadata": {},
   "outputs": [
    {
     "name": "stderr",
     "output_type": "stream",
     "text": [
      "boundary (singular) fit: see ?isSingular\n",
      "\n",
      "boundary (singular) fit: see ?isSingular\n",
      "\n"
     ]
    },
    {
     "ename": "ERROR",
     "evalue": "Error in names(var_a) <- grname: attribut 'names' [1] doit être de même longueur que le vecteur [0]\n",
     "output_type": "error",
     "traceback": [
      "Error in names(var_a) <- grname: attribut 'names' [1] doit être de même longueur que le vecteur [0]\nTraceback:\n",
      "1. rpt(cbind(duration_2_Zone, verification_daily_total_duration) ~ \n .     Treatment + (1 | TrackingSystemID/HenID), grname = c(\"HenID\"), \n .     data = df, nboot = 10, npermut = 0, datatype = \"Proportion\")",
      "2. rptProportion(formula, grname, data, link, CI, nboot, npermut, \n .     parallel, ncores, ratio, adjusted, expect, rptObj, update)",
      "3. R_pe(formula, data, grname, peYN = FALSE)"
     ]
    }
   ],
   "source": [
    "#TODO: why not working??\n",
    "#proportion data (example for the estimation of raw variances,\n",
    "#including residual and fixed-effect variance)\n",
    "rp = rpt(cbind(duration_2_Zone, verification_daily_total_duration) ~ Treatment + (1|TrackingSystemID/HenID), grname=c(\"HenID\"), data=df, nboot=10, \n",
    "         npermut=0, datatype = \"Proportion\")\n",
    "summary(rp)\n",
    "rp$se"
   ]
  },
  {
   "cell_type": "code",
   "execution_count": 6,
   "metadata": {
    "scrolled": true
   },
   "outputs": [
    {
     "name": "stderr",
     "output_type": "stream",
     "text": [
      "boundary (singular) fit: see ?isSingular\n",
      "\n",
      "boundary (singular) fit: see ?isSingular\n",
      "\n"
     ]
    },
    {
     "name": "stdout",
     "output_type": "stream",
     "text": [
      "Bootstrap Progress:\n"
     ]
    },
    {
     "name": "stderr",
     "output_type": "stream",
     "text": [
      "boundary (singular) fit: see ?isSingular\n",
      "\n",
      "boundary (singular) fit: see ?isSingular\n",
      "\n",
      "boundary (singular) fit: see ?isSingular\n",
      "\n",
      "boundary (singular) fit: see ?isSingular\n",
      "\n",
      "boundary (singular) fit: see ?isSingular\n",
      "\n",
      "boundary (singular) fit: see ?isSingular\n",
      "\n",
      "boundary (singular) fit: see ?isSingular\n",
      "\n",
      "boundary (singular) fit: see ?isSingular\n",
      "\n",
      "boundary (singular) fit: see ?isSingular\n",
      "\n",
      "boundary (singular) fit: see ?isSingular\n",
      "\n"
     ]
    },
    {
     "data": {
      "text/plain": [
       "\n",
       "Repeatability estimation using glmer method\n",
       "\n",
       "Call = rpt(formula = cbind(duration_2_Zone, verification_daily_total_duration) ~ Treatment + (1 | TrackingSystemID/PenID) + (1 | HenID), grname = c(\"HenID\"), data = df, datatype = \"Proportion\", nboot = 10, npermut = 0)\n",
       "\n",
       "Data: 6382 observations\n",
       "----------------------------------------\n",
       "\n",
       "HenID (131 groups)\n",
       "\n",
       "Repeatability estimation overview: \n",
       "          R     SE   2.5%  97.5% P_permut\n",
       "Org   0.124 0.0111  0.104  0.134       NA\n",
       "Link  0.160 0.0177  0.142  0.191       NA\n",
       "\n",
       "\n",
       "Bootstrapping: \n",
       "          N   Mean Median   2.5%  97.5%\n",
       "Org      10  0.115  0.114  0.104  0.134\n",
       "Link     10  0.162  0.160  0.142  0.191\n",
       "\n",
       "Permutation test: \n",
       "          N   Mean Median   2.5%  97.5% P_permut\n",
       "Org       1     NA     NA     NA     NA       NA\n",
       "Link      1     NA     NA     NA     NA       NA\n",
       "\n",
       "Likelihood ratio test: \n",
       "logLik full model = -66900.74\n",
       "logLik red. model = -67592.41\n",
       "D  = 1380, df = 1, P = 4.36e-303\n",
       "\n",
       "----------------------------------------"
      ]
     },
     "metadata": {},
     "output_type": "display_data"
    },
    {
     "data": {
      "text/html": [
       "<table class=\"dataframe\">\n",
       "<caption>A data.frame: 2 × 1</caption>\n",
       "<thead>\n",
       "\t<tr><th></th><th scope=col>HenID</th></tr>\n",
       "\t<tr><th></th><th scope=col>&lt;dbl&gt;</th></tr>\n",
       "</thead>\n",
       "<tbody>\n",
       "\t<tr><th scope=row>se_org</th><td>0.01114022</td></tr>\n",
       "\t<tr><th scope=row>se_link</th><td>0.01774833</td></tr>\n",
       "</tbody>\n",
       "</table>\n"
      ],
      "text/latex": [
       "A data.frame: 2 × 1\n",
       "\\begin{tabular}{r|l}\n",
       "  & HenID\\\\\n",
       "  & <dbl>\\\\\n",
       "\\hline\n",
       "\tse\\_org & 0.01114022\\\\\n",
       "\tse\\_link & 0.01774833\\\\\n",
       "\\end{tabular}\n"
      ],
      "text/markdown": [
       "\n",
       "A data.frame: 2 × 1\n",
       "\n",
       "| <!--/--> | HenID &lt;dbl&gt; |\n",
       "|---|---|\n",
       "| se_org | 0.01114022 |\n",
       "| se_link | 0.01774833 |\n",
       "\n"
      ],
      "text/plain": [
       "        HenID     \n",
       "se_org  0.01114022\n",
       "se_link 0.01774833"
      ]
     },
     "metadata": {},
     "output_type": "display_data"
    }
   ],
   "source": [
    "#proportion data (example for the estimation of raw variances,\n",
    "#including residual and fixed-effect variance)\n",
    "rp = rpt(cbind(duration_2_Zone, verification_daily_total_duration) ~ Treatment + (1|TrackingSystemID/PenID) + (1|HenID), grname=c(\"HenID\"), data=df, nboot=10, \n",
    "         npermut=0, datatype = \"Proportion\")\n",
    "summary(rp)\n",
    "rp$se"
   ]
  },
  {
   "cell_type": "code",
   "execution_count": null,
   "metadata": {},
   "outputs": [],
   "source": []
  },
  {
   "cell_type": "code",
   "execution_count": null,
   "metadata": {},
   "outputs": [],
   "source": []
  },
  {
   "cell_type": "code",
   "execution_count": 105,
   "metadata": {},
   "outputs": [
    {
     "name": "stderr",
     "output_type": "stream",
     "text": [
      "boundary (singular) fit: see ?isSingular\n",
      "\n",
      "boundary (singular) fit: see ?isSingular\n",
      "\n"
     ]
    },
    {
     "name": "stdout",
     "output_type": "stream",
     "text": [
      "Bootstrap Progress:\n"
     ]
    },
    {
     "name": "stderr",
     "output_type": "stream",
     "text": [
      "boundary (singular) fit: see ?isSingular\n",
      "\n",
      "boundary (singular) fit: see ?isSingular\n",
      "\n",
      "boundary (singular) fit: see ?isSingular\n",
      "\n",
      "boundary (singular) fit: see ?isSingular\n",
      "\n"
     ]
    },
    {
     "data": {
      "text/plain": [
       "\n",
       "Repeatability estimation using glmer method\n",
       "\n",
       "Call = rpt(formula = cbind(nbr_stays_5_Zone, nbr_stays_3_Zone) ~ Treatment + (1 | HenID/PenID), grname = c(\"HenID\"), data = df_, datatype = \"Proportion\", nboot = 10, npermut = 0)\n",
       "\n",
       "Data: 651 observations\n",
       "----------------------------------------\n",
       "\n",
       "HenID (131 groups)\n",
       "\n",
       "Repeatability estimation overview: \n",
       "          R     SE   2.5%  97.5% P_permut\n",
       "Org  0.0657 0.0189 0.0582  0.113       NA\n",
       "Link 0.0666 0.0192 0.0588  0.114       NA\n",
       "\n",
       "\n",
       "Bootstrapping: \n",
       "          N   Mean Median   2.5%  97.5%\n",
       "Org      10 0.0729 0.0668 0.0582  0.113\n",
       "Link     10 0.0737 0.0678 0.0588  0.114\n",
       "\n",
       "Permutation test: \n",
       "          N   Mean Median   2.5%  97.5% P_permut\n",
       "Org       1     NA     NA     NA     NA       NA\n",
       "Link      1     NA     NA     NA     NA       NA\n",
       "\n",
       "Likelihood ratio test: \n",
       "logLik full model = -1334.069\n",
       "logLik red. model = -1705.287\n",
       "D  = 742, df = 1, P = 8.85e-164\n",
       "\n",
       "----------------------------------------"
      ]
     },
     "metadata": {},
     "output_type": "display_data"
    },
    {
     "data": {
      "text/html": [
       "<table class=\"dataframe\">\n",
       "<caption>A data.frame: 2 × 1</caption>\n",
       "<thead>\n",
       "\t<tr><th></th><th scope=col>HenID</th></tr>\n",
       "\t<tr><th></th><th scope=col>&lt;dbl&gt;</th></tr>\n",
       "</thead>\n",
       "<tbody>\n",
       "\t<tr><th scope=row>se_org</th><td>0.01890245</td></tr>\n",
       "\t<tr><th scope=row>se_link</th><td>0.01921224</td></tr>\n",
       "</tbody>\n",
       "</table>\n"
      ],
      "text/latex": [
       "A data.frame: 2 × 1\n",
       "\\begin{tabular}{r|l}\n",
       "  & HenID\\\\\n",
       "  & <dbl>\\\\\n",
       "\\hline\n",
       "\tse\\_org & 0.01890245\\\\\n",
       "\tse\\_link & 0.01921224\\\\\n",
       "\\end{tabular}\n"
      ],
      "text/markdown": [
       "\n",
       "A data.frame: 2 × 1\n",
       "\n",
       "| <!--/--> | HenID &lt;dbl&gt; |\n",
       "|---|---|\n",
       "| se_org | 0.01890245 |\n",
       "| se_link | 0.01921224 |\n",
       "\n"
      ],
      "text/plain": [
       "        HenID     \n",
       "se_org  0.01890245\n",
       "se_link 0.01921224"
      ]
     },
     "metadata": {},
     "output_type": "display_data"
    }
   ],
   "source": [
    "#proportion data (example for the estimation of raw variances,\n",
    "#including residual and fixed-effect variance)\n",
    "rp = rpt(cbind(nbr_stays_5_Zone, nbr_stays_3_Zone) ~ Treatment + (1|HenID/PenID), grname=c(\"HenID\"), data=df_, nboot=10, \n",
    "         npermut=0, datatype = \"Proportion\")\n",
    "summary(rp)\n",
    "rp$se"
   ]
  },
  {
   "cell_type": "code",
   "execution_count": 106,
   "metadata": {},
   "outputs": [
    {
     "data": {
      "image/png": "[encoded data removed]",
      "text/plain": [
       "Plot with title \"QQ plot residuals\""
      ]
     },
     "metadata": {
      "image/png": {
       "height": 420,
       "width": 420
      }
     },
     "output_type": "display_data"
    }
   ],
   "source": [
    "simulationOutput = simulateResiduals(fittedModel = rp$mod, plot = F)\n",
    "#residuals(simulationOutput)\n",
    "plot(simulationOutput)"
   ]
  },
  {
   "cell_type": "code",
   "execution_count": 107,
   "metadata": {},
   "outputs": [
    {
     "data": {
      "text/plain": [
       "\n",
       "\tDHARMa bootstrapped outlier test\n",
       "\n",
       "data:  simulationOutput\n",
       "outliers at both margin(s) = 0, observations = 651, p-value = 0.3\n",
       "alternative hypothesis: two.sided\n",
       " percent confidence interval:\n",
       " 0.00000000 0.01616743\n",
       "sample estimates:\n",
       "outlier frequency (expected: 0.00534562211981567 ) \n",
       "                                                 0 \n"
      ]
     },
     "metadata": {},
     "output_type": "display_data"
    },
    {
     "data": {
      "image/png": "[encoded data removed]",
      "text/plain": [
       "Plot with title \"Histogram of frequBoot\""
      ]
     },
     "metadata": {
      "image/png": {
       "height": 420,
       "width": 420
      }
     },
     "output_type": "display_data"
    }
   ],
   "source": [
    "testOutliers(simulationOutput, type = 'bootstrap')"
   ]
  },
  {
   "cell_type": "code",
   "execution_count": null,
   "metadata": {},
   "outputs": [],
   "source": []
  },
  {
   "cell_type": "code",
   "execution_count": null,
   "metadata": {},
   "outputs": [],
   "source": []
  },
  {
   "cell_type": "code",
   "execution_count": 60,
   "metadata": {
    "scrolled": true
   },
   "outputs": [
    {
     "data": {
      "text/html": [
       "<table class=\"dataframe\">\n",
       "<caption>A data.frame: 120 × 5</caption>\n",
       "<thead>\n",
       "\t<tr><th scope=col>Treatment</th><th scope=col>Population</th><th scope=col>Container</th><th scope=col>Dark</th><th scope=col>Reddish</th></tr>\n",
       "\t<tr><th scope=col>&lt;fct&gt;</th><th scope=col>&lt;int&gt;</th><th scope=col>&lt;int&gt;</th><th scope=col>&lt;dbl&gt;</th><th scope=col>&lt;dbl&gt;</th></tr>\n",
       "</thead>\n",
       "<tbody>\n",
       "\t<tr><td>Cont</td><td>1</td><td> 2</td><td>0</td><td>4</td></tr>\n",
       "\t<tr><td>Exp </td><td>1</td><td> 2</td><td>2</td><td>2</td></tr>\n",
       "\t<tr><td>Cont</td><td>1</td><td> 4</td><td>1</td><td>3</td></tr>\n",
       "\t<tr><td>Exp </td><td>1</td><td> 4</td><td>2</td><td>2</td></tr>\n",
       "\t<tr><td>Cont</td><td>1</td><td> 6</td><td>0</td><td>4</td></tr>\n",
       "\t<tr><td>Exp </td><td>1</td><td> 6</td><td>2</td><td>2</td></tr>\n",
       "\t<tr><td>Cont</td><td>1</td><td> 8</td><td>1</td><td>3</td></tr>\n",
       "\t<tr><td>Exp </td><td>1</td><td> 8</td><td>3</td><td>1</td></tr>\n",
       "\t<tr><td>Cont</td><td>1</td><td>10</td><td>1</td><td>3</td></tr>\n",
       "\t<tr><td>Exp </td><td>1</td><td>10</td><td>1</td><td>3</td></tr>\n",
       "\t<tr><td>Cont</td><td>2</td><td>12</td><td>0</td><td>4</td></tr>\n",
       "\t<tr><td>Exp </td><td>2</td><td>12</td><td>1</td><td>3</td></tr>\n",
       "\t<tr><td>Cont</td><td>2</td><td>14</td><td>0</td><td>4</td></tr>\n",
       "\t<tr><td>Exp </td><td>2</td><td>14</td><td>3</td><td>1</td></tr>\n",
       "\t<tr><td>Cont</td><td>2</td><td>16</td><td>0</td><td>4</td></tr>\n",
       "\t<tr><td>Exp </td><td>2</td><td>16</td><td>1</td><td>3</td></tr>\n",
       "\t<tr><td>Cont</td><td>2</td><td>18</td><td>0</td><td>4</td></tr>\n",
       "\t<tr><td>Exp </td><td>2</td><td>18</td><td>1</td><td>3</td></tr>\n",
       "\t<tr><td>Cont</td><td>2</td><td>20</td><td>1</td><td>3</td></tr>\n",
       "\t<tr><td>Exp </td><td>2</td><td>20</td><td>0</td><td>4</td></tr>\n",
       "\t<tr><td>Cont</td><td>3</td><td>22</td><td>2</td><td>2</td></tr>\n",
       "\t<tr><td>Exp </td><td>3</td><td>22</td><td>1</td><td>3</td></tr>\n",
       "\t<tr><td>Cont</td><td>3</td><td>24</td><td>2</td><td>2</td></tr>\n",
       "\t<tr><td>Exp </td><td>3</td><td>24</td><td>1</td><td>3</td></tr>\n",
       "\t<tr><td>Cont</td><td>3</td><td>26</td><td>1</td><td>3</td></tr>\n",
       "\t<tr><td>Exp </td><td>3</td><td>26</td><td>2</td><td>2</td></tr>\n",
       "\t<tr><td>Cont</td><td>3</td><td>28</td><td>1</td><td>3</td></tr>\n",
       "\t<tr><td>Exp </td><td>3</td><td>28</td><td>2</td><td>2</td></tr>\n",
       "\t<tr><td>Cont</td><td>3</td><td>30</td><td>3</td><td>1</td></tr>\n",
       "\t<tr><td>Exp </td><td>3</td><td>30</td><td>4</td><td>0</td></tr>\n",
       "\t<tr><td>...</td><td>...</td><td>...</td><td>...</td><td>...</td></tr>\n",
       "\t<tr><td>Cont</td><td>10</td><td> 92</td><td>1</td><td>3</td></tr>\n",
       "\t<tr><td>Exp </td><td>10</td><td> 92</td><td>1</td><td>3</td></tr>\n",
       "\t<tr><td>Cont</td><td>10</td><td> 94</td><td>2</td><td>2</td></tr>\n",
       "\t<tr><td>Exp </td><td>10</td><td> 94</td><td>2</td><td>2</td></tr>\n",
       "\t<tr><td>Cont</td><td>10</td><td> 96</td><td>0</td><td>4</td></tr>\n",
       "\t<tr><td>Exp </td><td>10</td><td> 96</td><td>2</td><td>2</td></tr>\n",
       "\t<tr><td>Cont</td><td>10</td><td> 98</td><td>0</td><td>4</td></tr>\n",
       "\t<tr><td>Exp </td><td>10</td><td> 98</td><td>3</td><td>1</td></tr>\n",
       "\t<tr><td>Cont</td><td>10</td><td>100</td><td>1</td><td>3</td></tr>\n",
       "\t<tr><td>Exp </td><td>10</td><td>100</td><td>1</td><td>3</td></tr>\n",
       "\t<tr><td>Cont</td><td>11</td><td>102</td><td>1</td><td>3</td></tr>\n",
       "\t<tr><td>Exp </td><td>11</td><td>102</td><td>4</td><td>0</td></tr>\n",
       "\t<tr><td>Cont</td><td>11</td><td>104</td><td>3</td><td>1</td></tr>\n",
       "\t<tr><td>Exp </td><td>11</td><td>104</td><td>3</td><td>1</td></tr>\n",
       "\t<tr><td>Cont</td><td>11</td><td>106</td><td>1</td><td>3</td></tr>\n",
       "\t<tr><td>Exp </td><td>11</td><td>106</td><td>3</td><td>1</td></tr>\n",
       "\t<tr><td>Cont</td><td>11</td><td>108</td><td>1</td><td>3</td></tr>\n",
       "\t<tr><td>Exp </td><td>11</td><td>108</td><td>4</td><td>0</td></tr>\n",
       "\t<tr><td>Cont</td><td>11</td><td>110</td><td>1</td><td>3</td></tr>\n",
       "\t<tr><td>Exp </td><td>11</td><td>110</td><td>3</td><td>1</td></tr>\n",
       "\t<tr><td>Cont</td><td>12</td><td>112</td><td>4</td><td>0</td></tr>\n",
       "\t<tr><td>Exp </td><td>12</td><td>112</td><td>2</td><td>2</td></tr>\n",
       "\t<tr><td>Cont</td><td>12</td><td>114</td><td>1</td><td>3</td></tr>\n",
       "\t<tr><td>Exp </td><td>12</td><td>114</td><td>4</td><td>0</td></tr>\n",
       "\t<tr><td>Cont</td><td>12</td><td>116</td><td>4</td><td>0</td></tr>\n",
       "\t<tr><td>Exp </td><td>12</td><td>116</td><td>4</td><td>0</td></tr>\n",
       "\t<tr><td>Cont</td><td>12</td><td>118</td><td>1</td><td>3</td></tr>\n",
       "\t<tr><td>Exp </td><td>12</td><td>118</td><td>3</td><td>1</td></tr>\n",
       "\t<tr><td>Cont</td><td>12</td><td>120</td><td>1</td><td>3</td></tr>\n",
       "\t<tr><td>Exp </td><td>12</td><td>120</td><td>3</td><td>1</td></tr>\n",
       "</tbody>\n",
       "</table>\n"
      ],
      "text/latex": [
       "A data.frame: 120 × 5\n",
       "\\begin{tabular}{lllll}\n",
       " Treatment & Population & Container & Dark & Reddish\\\\\n",
       " <fct> & <int> & <int> & <dbl> & <dbl>\\\\\n",
       "\\hline\n",
       "\t Cont & 1 &  2 & 0 & 4\\\\\n",
       "\t Exp  & 1 &  2 & 2 & 2\\\\\n",
       "\t Cont & 1 &  4 & 1 & 3\\\\\n",
       "\t Exp  & 1 &  4 & 2 & 2\\\\\n",
       "\t Cont & 1 &  6 & 0 & 4\\\\\n",
       "\t Exp  & 1 &  6 & 2 & 2\\\\\n",
       "\t Cont & 1 &  8 & 1 & 3\\\\\n",
       "\t Exp  & 1 &  8 & 3 & 1\\\\\n",
       "\t Cont & 1 & 10 & 1 & 3\\\\\n",
       "\t Exp  & 1 & 10 & 1 & 3\\\\\n",
       "\t Cont & 2 & 12 & 0 & 4\\\\\n",
       "\t Exp  & 2 & 12 & 1 & 3\\\\\n",
       "\t Cont & 2 & 14 & 0 & 4\\\\\n",
       "\t Exp  & 2 & 14 & 3 & 1\\\\\n",
       "\t Cont & 2 & 16 & 0 & 4\\\\\n",
       "\t Exp  & 2 & 16 & 1 & 3\\\\\n",
       "\t Cont & 2 & 18 & 0 & 4\\\\\n",
       "\t Exp  & 2 & 18 & 1 & 3\\\\\n",
       "\t Cont & 2 & 20 & 1 & 3\\\\\n",
       "\t Exp  & 2 & 20 & 0 & 4\\\\\n",
       "\t Cont & 3 & 22 & 2 & 2\\\\\n",
       "\t Exp  & 3 & 22 & 1 & 3\\\\\n",
       "\t Cont & 3 & 24 & 2 & 2\\\\\n",
       "\t Exp  & 3 & 24 & 1 & 3\\\\\n",
       "\t Cont & 3 & 26 & 1 & 3\\\\\n",
       "\t Exp  & 3 & 26 & 2 & 2\\\\\n",
       "\t Cont & 3 & 28 & 1 & 3\\\\\n",
       "\t Exp  & 3 & 28 & 2 & 2\\\\\n",
       "\t Cont & 3 & 30 & 3 & 1\\\\\n",
       "\t Exp  & 3 & 30 & 4 & 0\\\\\n",
       "\t ... & ... & ... & ... & ...\\\\\n",
       "\t Cont & 10 &  92 & 1 & 3\\\\\n",
       "\t Exp  & 10 &  92 & 1 & 3\\\\\n",
       "\t Cont & 10 &  94 & 2 & 2\\\\\n",
       "\t Exp  & 10 &  94 & 2 & 2\\\\\n",
       "\t Cont & 10 &  96 & 0 & 4\\\\\n",
       "\t Exp  & 10 &  96 & 2 & 2\\\\\n",
       "\t Cont & 10 &  98 & 0 & 4\\\\\n",
       "\t Exp  & 10 &  98 & 3 & 1\\\\\n",
       "\t Cont & 10 & 100 & 1 & 3\\\\\n",
       "\t Exp  & 10 & 100 & 1 & 3\\\\\n",
       "\t Cont & 11 & 102 & 1 & 3\\\\\n",
       "\t Exp  & 11 & 102 & 4 & 0\\\\\n",
       "\t Cont & 11 & 104 & 3 & 1\\\\\n",
       "\t Exp  & 11 & 104 & 3 & 1\\\\\n",
       "\t Cont & 11 & 106 & 1 & 3\\\\\n",
       "\t Exp  & 11 & 106 & 3 & 1\\\\\n",
       "\t Cont & 11 & 108 & 1 & 3\\\\\n",
       "\t Exp  & 11 & 108 & 4 & 0\\\\\n",
       "\t Cont & 11 & 110 & 1 & 3\\\\\n",
       "\t Exp  & 11 & 110 & 3 & 1\\\\\n",
       "\t Cont & 12 & 112 & 4 & 0\\\\\n",
       "\t Exp  & 12 & 112 & 2 & 2\\\\\n",
       "\t Cont & 12 & 114 & 1 & 3\\\\\n",
       "\t Exp  & 12 & 114 & 4 & 0\\\\\n",
       "\t Cont & 12 & 116 & 4 & 0\\\\\n",
       "\t Exp  & 12 & 116 & 4 & 0\\\\\n",
       "\t Cont & 12 & 118 & 1 & 3\\\\\n",
       "\t Exp  & 12 & 118 & 3 & 1\\\\\n",
       "\t Cont & 12 & 120 & 1 & 3\\\\\n",
       "\t Exp  & 12 & 120 & 3 & 1\\\\\n",
       "\\end{tabular}\n"
      ],
      "text/markdown": [
       "\n",
       "A data.frame: 120 × 5\n",
       "\n",
       "| Treatment &lt;fct&gt; | Population &lt;int&gt; | Container &lt;int&gt; | Dark &lt;dbl&gt; | Reddish &lt;dbl&gt; |\n",
       "|---|---|---|---|---|\n",
       "| Cont | 1 |  2 | 0 | 4 |\n",
       "| Exp  | 1 |  2 | 2 | 2 |\n",
       "| Cont | 1 |  4 | 1 | 3 |\n",
       "| Exp  | 1 |  4 | 2 | 2 |\n",
       "| Cont | 1 |  6 | 0 | 4 |\n",
       "| Exp  | 1 |  6 | 2 | 2 |\n",
       "| Cont | 1 |  8 | 1 | 3 |\n",
       "| Exp  | 1 |  8 | 3 | 1 |\n",
       "| Cont | 1 | 10 | 1 | 3 |\n",
       "| Exp  | 1 | 10 | 1 | 3 |\n",
       "| Cont | 2 | 12 | 0 | 4 |\n",
       "| Exp  | 2 | 12 | 1 | 3 |\n",
       "| Cont | 2 | 14 | 0 | 4 |\n",
       "| Exp  | 2 | 14 | 3 | 1 |\n",
       "| Cont | 2 | 16 | 0 | 4 |\n",
       "| Exp  | 2 | 16 | 1 | 3 |\n",
       "| Cont | 2 | 18 | 0 | 4 |\n",
       "| Exp  | 2 | 18 | 1 | 3 |\n",
       "| Cont | 2 | 20 | 1 | 3 |\n",
       "| Exp  | 2 | 20 | 0 | 4 |\n",
       "| Cont | 3 | 22 | 2 | 2 |\n",
       "| Exp  | 3 | 22 | 1 | 3 |\n",
       "| Cont | 3 | 24 | 2 | 2 |\n",
       "| Exp  | 3 | 24 | 1 | 3 |\n",
       "| Cont | 3 | 26 | 1 | 3 |\n",
       "| Exp  | 3 | 26 | 2 | 2 |\n",
       "| Cont | 3 | 28 | 1 | 3 |\n",
       "| Exp  | 3 | 28 | 2 | 2 |\n",
       "| Cont | 3 | 30 | 3 | 1 |\n",
       "| Exp  | 3 | 30 | 4 | 0 |\n",
       "| ... | ... | ... | ... | ... |\n",
       "| Cont | 10 |  92 | 1 | 3 |\n",
       "| Exp  | 10 |  92 | 1 | 3 |\n",
       "| Cont | 10 |  94 | 2 | 2 |\n",
       "| Exp  | 10 |  94 | 2 | 2 |\n",
       "| Cont | 10 |  96 | 0 | 4 |\n",
       "| Exp  | 10 |  96 | 2 | 2 |\n",
       "| Cont | 10 |  98 | 0 | 4 |\n",
       "| Exp  | 10 |  98 | 3 | 1 |\n",
       "| Cont | 10 | 100 | 1 | 3 |\n",
       "| Exp  | 10 | 100 | 1 | 3 |\n",
       "| Cont | 11 | 102 | 1 | 3 |\n",
       "| Exp  | 11 | 102 | 4 | 0 |\n",
       "| Cont | 11 | 104 | 3 | 1 |\n",
       "| Exp  | 11 | 104 | 3 | 1 |\n",
       "| Cont | 11 | 106 | 1 | 3 |\n",
       "| Exp  | 11 | 106 | 3 | 1 |\n",
       "| Cont | 11 | 108 | 1 | 3 |\n",
       "| Exp  | 11 | 108 | 4 | 0 |\n",
       "| Cont | 11 | 110 | 1 | 3 |\n",
       "| Exp  | 11 | 110 | 3 | 1 |\n",
       "| Cont | 12 | 112 | 4 | 0 |\n",
       "| Exp  | 12 | 112 | 2 | 2 |\n",
       "| Cont | 12 | 114 | 1 | 3 |\n",
       "| Exp  | 12 | 114 | 4 | 0 |\n",
       "| Cont | 12 | 116 | 4 | 0 |\n",
       "| Exp  | 12 | 116 | 4 | 0 |\n",
       "| Cont | 12 | 118 | 1 | 3 |\n",
       "| Exp  | 12 | 118 | 3 | 1 |\n",
       "| Cont | 12 | 120 | 1 | 3 |\n",
       "| Exp  | 12 | 120 | 3 | 1 |\n",
       "\n"
      ],
      "text/plain": [
       "    Treatment Population Container Dark Reddish\n",
       "1   Cont      1           2        0    4      \n",
       "2   Exp       1           2        2    2      \n",
       "3   Cont      1           4        1    3      \n",
       "4   Exp       1           4        2    2      \n",
       "5   Cont      1           6        0    4      \n",
       "6   Exp       1           6        2    2      \n",
       "7   Cont      1           8        1    3      \n",
       "8   Exp       1           8        3    1      \n",
       "9   Cont      1          10        1    3      \n",
       "10  Exp       1          10        1    3      \n",
       "11  Cont      2          12        0    4      \n",
       "12  Exp       2          12        1    3      \n",
       "13  Cont      2          14        0    4      \n",
       "14  Exp       2          14        3    1      \n",
       "15  Cont      2          16        0    4      \n",
       "16  Exp       2          16        1    3      \n",
       "17  Cont      2          18        0    4      \n",
       "18  Exp       2          18        1    3      \n",
       "19  Cont      2          20        1    3      \n",
       "20  Exp       2          20        0    4      \n",
       "21  Cont      3          22        2    2      \n",
       "22  Exp       3          22        1    3      \n",
       "23  Cont      3          24        2    2      \n",
       "24  Exp       3          24        1    3      \n",
       "25  Cont      3          26        1    3      \n",
       "26  Exp       3          26        2    2      \n",
       "27  Cont      3          28        1    3      \n",
       "28  Exp       3          28        2    2      \n",
       "29  Cont      3          30        3    1      \n",
       "30  Exp       3          30        4    0      \n",
       "... ...       ...        ...       ...  ...    \n",
       "91  Cont      10          92       1    3      \n",
       "92  Exp       10          92       1    3      \n",
       "93  Cont      10          94       2    2      \n",
       "94  Exp       10          94       2    2      \n",
       "95  Cont      10          96       0    4      \n",
       "96  Exp       10          96       2    2      \n",
       "97  Cont      10          98       0    4      \n",
       "98  Exp       10          98       3    1      \n",
       "99  Cont      10         100       1    3      \n",
       "100 Exp       10         100       1    3      \n",
       "101 Cont      11         102       1    3      \n",
       "102 Exp       11         102       4    0      \n",
       "103 Cont      11         104       3    1      \n",
       "104 Exp       11         104       3    1      \n",
       "105 Cont      11         106       1    3      \n",
       "106 Exp       11         106       3    1      \n",
       "107 Cont      11         108       1    3      \n",
       "108 Exp       11         108       4    0      \n",
       "109 Cont      11         110       1    3      \n",
       "110 Exp       11         110       3    1      \n",
       "111 Cont      12         112       4    0      \n",
       "112 Exp       12         112       2    2      \n",
       "113 Cont      12         114       1    3      \n",
       "114 Exp       12         114       4    0      \n",
       "115 Cont      12         116       4    0      \n",
       "116 Exp       12         116       4    0      \n",
       "117 Cont      12         118       1    3      \n",
       "118 Exp       12         118       3    1      \n",
       "119 Cont      12         120       1    3      \n",
       "120 Exp       12         120       3    1      "
      ]
     },
     "metadata": {},
     "output_type": "display_data"
    }
   ],
   "source": [
    "# load data\n",
    "data(BeetlesBody)\n",
    "data(BeetlesMale)\n",
    "data(BeetlesFemale)\n",
    "# prepare proportion data\n",
    "BeetlesMale$Dark <- BeetlesMale$Colour\n",
    "BeetlesMale$Reddish <- (BeetlesMale$Colour-1)*-1\n",
    "BeetlesColour <- aggregate(cbind(Dark, Reddish) ~ Treatment + Population + Container,\n",
    "data=BeetlesMale, FUN=sum)\n",
    "BeetlesColour"
   ]
  },
  {
   "cell_type": "code",
   "execution_count": 63,
   "metadata": {},
   "outputs": [
    {
     "data": {
      "text/plain": [
       "\n",
       "\n",
       "Repeatability estimation using the glmm method and logit link \n",
       "\n",
       "Repeatability for Population\n",
       "--------------------------------\n",
       "Link-scale approximation:\n",
       "R  = 0.205\n",
       "SE = NA\n",
       "CI = [NA, NA]\n",
       "P  = 5.95e-12 [LRT]\n",
       "     NA [Permutation]\n",
       "\n",
       "Original-scale approximation:\n",
       "R  = 0.185\n",
       "SE = NA\n",
       "CI = [NA, NA]\n",
       "P  = 5.95e-12 [LRT]\n",
       "     NA [Permutation]\n"
      ]
     },
     "metadata": {},
     "output_type": "display_data"
    }
   ],
   "source": [
    "# proportion data (example for the estimation of raw variances,\n",
    "# including residual and fixed-effect variance)\n",
    "rpt(cbind(Dark, Reddish) ~ Treatment + (1|Population),\n",
    "grname=c(\"Population\"), data=BeetlesColour, nboot=0, npermut=0, datatype = \"Proportion\")"
   ]
  },
  {
   "cell_type": "code",
   "execution_count": null,
   "metadata": {},
   "outputs": [],
   "source": []
  },
  {
   "cell_type": "code",
   "execution_count": null,
   "metadata": {},
   "outputs": [],
   "source": []
  },
  {
   "cell_type": "code",
   "execution_count": 38,
   "metadata": {},
   "outputs": [
    {
     "name": "stdout",
     "output_type": "stream",
     "text": [
      "[1] 262 227\n",
      "Bootstrap Progress:\n"
     ]
    },
    {
     "data": {
      "text/plain": [
       "\n",
       "Repeatability estimation using the lmm method\n",
       "\n",
       "Call = rpt(formula = perc_duration_3_Zone ~ Treatment + (1 | HenID), grname = c(\"HenID\"), data = df_, datatype = \"Gaussian\", nboot = 10, npermut = 0)\n",
       "\n",
       "Data: 262 observations\n",
       "----------------------------------------\n",
       "\n",
       "HenID (131 groups)\n",
       "\n",
       "Repeatability estimation overview: \n",
       "      R     SE   2.5%  97.5% P_permut  LRT_P\n",
       "  0.295 0.0573  0.243  0.415       NA      0\n",
       "\n",
       "Bootstrapping and Permutation test: \n",
       "            N   Mean Median   2.5%  97.5%\n",
       "boot       10  0.315  0.308  0.243  0.415\n",
       "permut      1     NA     NA     NA     NA\n",
       "\n",
       "Likelihood ratio test: \n",
       "logLik full model = -997.5354\n",
       "logLik red. model = -1003.224\n",
       "D  = 11.4, df = 1, P = 0.000372\n",
       "\n",
       "----------------------------------------"
      ]
     },
     "metadata": {},
     "output_type": "display_data"
    }
   ],
   "source": [
    "df_ = df[ which(df$DIB==2 |df$DIB==7), ]\n",
    "print(dim(df_))\n",
    "rpet = rpt(perc_duration_3_Zone ~ Treatment + (1 | HenID), grname = c(\"HenID\"), data = df_, datatype = \"Gaussian\", \n",
    "           nboot = 10, npermut = 0)\n",
    "summary(rpet)"
   ]
  },
  {
   "cell_type": "code",
   "execution_count": 11,
   "metadata": {},
   "outputs": [
    {
     "name": "stdout",
     "output_type": "stream",
     "text": [
      "[1] 262 228\n",
      "Bootstrap Progress:\n"
     ]
    },
    {
     "data": {
      "text/plain": [
       "\n",
       "Repeatability estimation using the lmm method\n",
       "\n",
       "Call = rpt(formula = vertical_travel_distance_perh ~ Treatment + (1 | HenID), grname = c(\"HenID\"), data = df_, datatype = \"Gaussian\", nboot = 10, npermut = 0)\n",
       "\n",
       "Data: 262 observations\n",
       "----------------------------------------\n",
       "\n",
       "HenID (131 groups)\n",
       "\n",
       "Repeatability estimation overview: \n",
       "      R     SE   2.5%  97.5% P_permut  LRT_P\n",
       "  0.514 0.0764  0.434  0.649       NA      0\n",
       "\n",
       "Bootstrapping and Permutation test: \n",
       "            N   Mean Median   2.5%  97.5%\n",
       "boot       10  0.527  0.531  0.434  0.649\n",
       "permut      1     NA     NA     NA     NA\n",
       "\n",
       "Likelihood ratio test: \n",
       "logLik full model = -477.761\n",
       "logLik red. model = -497.3482\n",
       "D  = 39.2, df = 1, P = 1.94e-10\n",
       "\n",
       "----------------------------------------"
      ]
     },
     "metadata": {},
     "output_type": "display_data"
    }
   ],
   "source": [
    "df_ = df[ which(df$DIB==2 |df$DIB==7), ]\n",
    "print(dim(df_))\n",
    "rpet = rpt(vertical_travel_distance_perh ~ Treatment + (1 | HenID), grname = c(\"HenID\"), data = df_, datatype = \"Gaussian\", \n",
    "           nboot = 10, npermut = 0)\n",
    "summary(rpet)"
   ]
  },
  {
   "cell_type": "code",
   "execution_count": 46,
   "metadata": {},
   "outputs": [
    {
     "name": "stdout",
     "output_type": "stream",
     "text": [
      "Bootstrap Progress:\n"
     ]
    },
    {
     "data": {
      "text/plain": [
       "Linear mixed model fit by REML ['lmerMod']\n",
       "Formula: perc_duration_5_Zone ~ (1 | HenID)\n",
       "   Data: data\n",
       "\n",
       "REML criterion at convergence: 5153.2\n",
       "\n",
       "Scaled residuals: \n",
       "    Min      1Q  Median      3Q     Max \n",
       "-4.4939 -0.3934 -0.0614  0.4196  4.3934 \n",
       "\n",
       "Random effects:\n",
       " Groups   Name        Variance Std.Dev.\n",
       " HenID    (Intercept) 755.8    27.492  \n",
       " Residual              72.9     8.538  \n",
       "Number of obs: 651, groups:  HenID, 131\n",
       "\n",
       "Fixed effects:\n",
       "            Estimate Std. Error t value\n",
       "(Intercept)   33.717      2.426    13.9"
      ]
     },
     "metadata": {},
     "output_type": "display_data"
    },
    {
     "data": {
      "image/png": "[encoded data removed]",
      "text/plain": [
       "Plot with title \"Residuals\""
      ]
     },
     "metadata": {
      "image/png": {
       "height": 420,
       "width": 420
      }
     },
     "output_type": "display_data"
    },
    {
     "data": {
      "text/plain": [
       "$HenID\n"
      ]
     },
     "metadata": {},
     "output_type": "display_data"
    },
    {
     "data": {
      "image/png": "[encoded data removed]",
      "text/plain": [
       "Plot with title \"Histogram of resid(fit)\""
      ]
     },
     "metadata": {
      "image/png": {
       "height": 420,
       "width": 420
      }
     },
     "output_type": "display_data"
    },
    {
     "data": {
      "image/png": "[encoded data removed]",
      "text/plain": [
       "plot without title"
      ]
     },
     "metadata": {
      "image/png": {
       "height": 420,
       "width": 420
      }
     },
     "output_type": "display_data"
    },
    {
     "data": {
      "image/png": "[encoded data removed]",
      "text/plain": [
       "plot without title"
      ]
     },
     "metadata": {
      "image/png": {
       "height": 420,
       "width": 420
      }
     },
     "output_type": "display_data"
    }
   ],
   "source": [
    "#gaussian\n",
    "df_ = df[ which(df$WIB==8), ]\n",
    "rpet = rpt(perc_duration_5_Zone ~ (1 | HenID), grname = c(\"HenID\"),  data = df_, datatype = \"Gaussian\", nboot = 10, npermut = 0)\n",
    "fit = rpet$mod\n",
    "summary(fit)\n",
    "#Assumptions\n",
    "######linearity of predictors: plot residual vs observed\n",
    "#plot(resid(fit), df_$sqrtchi2distance)\n",
    "\n",
    "###### normally distributed residuals\n",
    "#qqmath(fit, id=0.05)\n",
    "qqnorm(resid(fit), main = \"Residuals\")\n",
    "qqline(resid(fit))\n",
    "hist(resid(fit))\n",
    "###### normally of random effects\n",
    "qqmath(ranef(fit,condVar = TRUE))\n",
    "######check homogeneity of variance (residuals has constant variance)\n",
    "#variance of the residuals is equal across groups. Even spread around the centered line?\n",
    "plot(fit)\n",
    "\n",
    "###### check if the residuals are independent. This can be checked by plotting residuals against covariates\n",
    "#plot(resid(fit),df_$max_Total_number_transition)\n",
    "#plot(resid(fit),df_DIB1$min_Total_number_transition)"
   ]
  },
  {
   "cell_type": "code",
   "execution_count": 44,
   "metadata": {},
   "outputs": [
    {
     "name": "stdout",
     "output_type": "stream",
     "text": [
      "Bootstrap Progress:\n"
     ]
    },
    {
     "data": {
      "text/plain": [
       "Generalized linear mixed model fit by maximum likelihood (Laplace\n",
       "  Approximation) [glmerMod]\n",
       " Family: poisson  ( log )\n",
       "Formula: perc_duration_5_Zone ~ (1 | HenID) + (1 | Overdispersion)\n",
       "   Data: data\n",
       "\n",
       "     AIC      BIC   logLik deviance df.resid \n",
       "  5059.0   5072.4  -2526.5   5053.0      648 \n",
       "\n",
       "Scaled residuals: \n",
       "    Min      1Q  Median      3Q     Max \n",
       "-3.0043 -0.4308 -0.0090  0.1942  3.1655 \n",
       "\n",
       "Random effects:\n",
       " Groups         Name        Variance Std.Dev.\n",
       " Overdispersion (Intercept) 0.07483  0.2735  \n",
       " HenID          (Intercept) 1.94875  1.3960  \n",
       "Number of obs: 651, groups:  Overdispersion, 651; HenID, 131\n",
       "\n",
       "Fixed effects:\n",
       "            Estimate Std. Error z value Pr(>|z|)    \n",
       "(Intercept)   2.8785     0.1236   23.28   <2e-16 ***\n",
       "---\n",
       "Signif. codes:  0 '***' 0.001 '**' 0.01 '*' 0.05 '.' 0.1 ' ' 1"
      ]
     },
     "metadata": {},
     "output_type": "display_data"
    },
    {
     "data": {
      "text/plain": [
       "\n",
       "\tDHARMa nonparametric dispersion test via sd of residuals fitted vs.\n",
       "\tsimulated\n",
       "\n",
       "data:  simulationOutput\n",
       "ratioObsSim = 0.26932, p-value < 2.2e-16\n",
       "alternative hypothesis: two.sided\n"
      ]
     },
     "metadata": {},
     "output_type": "display_data"
    },
    {
     "data": {
      "image/png": "[encoded data removed]",
      "text/plain": [
       "Plot with title \"DHARMa nonparametric dispersion test via sd of\n",
       "residuals fitted vs. simulated\n",
       "\""
      ]
     },
     "metadata": {
      "image/png": {
       "height": 420,
       "width": 420
      }
     },
     "output_type": "display_data"
    },
    {
     "data": {
      "image/png": "[encoded data removed]",
      "text/plain": [
       "Plot with title \"QQ plot residuals\""
      ]
     },
     "metadata": {
      "image/png": {
       "height": 420,
       "width": 420
      }
     },
     "output_type": "display_data"
    }
   ],
   "source": [
    "#poisson: sometimes less good fit than gaussian :/\n",
    "df_ = df[ which(df$WIB==8),]\n",
    "rpet = rpt(perc_duration_5_Zone ~ (1 | HenID), grname = c(\"HenID\"),  data = df_, datatype = \"Poisson\", nboot = 10, npermut = 0)\n",
    "fit = rpet$mod\n",
    "summary(fit)\n",
    "testDispersion(fit)\n",
    "simulationOutput <- simulateResiduals(fittedModel = fit, plot = F)\n",
    "#residuals(simulationOutput)\n",
    "plot(simulationOutput)"
   ]
  },
  {
   "cell_type": "code",
   "execution_count": null,
   "metadata": {},
   "outputs": [],
   "source": []
  },
  {
   "cell_type": "code",
   "execution_count": null,
   "metadata": {},
   "outputs": [],
   "source": []
  },
  {
   "cell_type": "code",
   "execution_count": 30,
   "metadata": {},
   "outputs": [
    {
     "ename": "ERROR",
     "evalue": "Error in rand(fit): impossible de trouver la fonction \"rand\"\n",
     "output_type": "error",
     "traceback": [
      "Error in rand(fit): impossible de trouver la fonction \"rand\"\nTraceback:\n"
     ]
    }
   ],
   "source": [
    "#tests the hypothesis that the random effect variation is significant versus the null that there is no between group-level \n",
    "#variation\n",
    "rand(fit)\n",
    "confint(fit)"
   ]
  },
  {
   "cell_type": "code",
   "execution_count": 31,
   "metadata": {},
   "outputs": [
    {
     "data": {
      "text/html": [
       "<strong>png:</strong> 2"
      ],
      "text/latex": [
       "\\textbf{png:} 2"
      ],
      "text/markdown": [
       "**png:** 2"
      ],
      "text/plain": [
       "png \n",
       "  2 "
      ]
     },
     "metadata": {},
     "output_type": "display_data"
    },
    {
     "data": {
      "text/html": [
       "<strong>png:</strong> 2"
      ],
      "text/latex": [
       "\\textbf{png:} 2"
      ],
      "text/markdown": [
       "**png:** 2"
      ],
      "text/plain": [
       "png \n",
       "  2 "
      ]
     },
     "metadata": {},
     "output_type": "display_data"
    },
    {
     "data": {
      "text/plain": [
       "$HenID\n"
      ]
     },
     "metadata": {},
     "output_type": "display_data"
    },
    {
     "data": {
      "text/html": [
       "<strong>png:</strong> 2"
      ],
      "text/latex": [
       "\\textbf{png:} 2"
      ],
      "text/markdown": [
       "**png:** 2"
      ],
      "text/plain": [
       "png \n",
       "  2 "
      ]
     },
     "metadata": {},
     "output_type": "display_data"
    },
    {
     "data": {
      "text/html": [
       "<strong>png:</strong> 2"
      ],
      "text/latex": [
       "\\textbf{png:} 2"
      ],
      "text/markdown": [
       "**png:** 2"
      ],
      "text/plain": [
       "png \n",
       "  2 "
      ]
     },
     "metadata": {},
     "output_type": "display_data"
    }
   ],
   "source": [
    "png(file.path(path_model,'Normally_distributed_residuals.png')) \n",
    "qqnorm(resid(fit), main=\"Residuals\")\n",
    "qqline(resid(fit))\n",
    "dev.off() \n",
    "\n",
    "png(file.path(path_model,'Histrogram_residuals.png')) \n",
    "hist(resid(fit))\n",
    "dev.off() \n",
    "\n",
    "png(file.path(path_model,'Normality_random_effect.png')) \n",
    "qqmath(ranef(fit,condVar = TRUE))\n",
    "dev.off() \n",
    "\n",
    "png(file.path(path_model,'Homogeneity_of_variance.png')) \n",
    "plot(fit)\n",
    "dev.off() "
   ]
  },
  {
   "cell_type": "code",
   "execution_count": 66,
   "metadata": {},
   "outputs": [
    {
     "name": "stderr",
     "output_type": "stream",
     "text": [
      "boundary (singular) fit: see ?isSingular\n",
      "\n",
      "boundary (singular) fit: see ?isSingular\n",
      "\n"
     ]
    },
    {
     "name": "stdout",
     "output_type": "stream",
     "text": [
      "Bootstrap Progress:\n"
     ]
    },
    {
     "name": "stderr",
     "output_type": "stream",
     "text": [
      "boundary (singular) fit: see ?isSingular\n",
      "\n",
      "boundary (singular) fit: see ?isSingular\n",
      "\n",
      "boundary (singular) fit: see ?isSingular\n",
      "\n"
     ]
    },
    {
     "data": {
      "text/plain": [
       "\n",
       "Repeatability estimation using glmer method\n",
       "\n",
       "Call = rpt(formula = perc_duration_2_Zone ~ (1 | HenID), grname = c(\"HenID\"), data = df_, datatype = \"Poisson\", nboot = 10, npermut = 0)\n",
       "\n",
       "Data: 103 observations\n",
       "----------------------------------------\n",
       "\n",
       "HenID (52 groups)\n",
       "\n",
       "Repeatability estimation overview: \n",
       "          R     SE   2.5%  97.5% P_permut\n",
       "Org    0.95 0.0211  0.908  0.967       NA\n",
       "Link   0.94 0.0199  0.901  0.958       NA\n",
       "\n",
       "\n",
       "Bootstrapping: \n",
       "          N   Mean Median   2.5%  97.5%\n",
       "Org      10  0.935  0.933  0.908  0.967\n",
       "Link     10  0.927  0.925  0.901  0.958\n",
       "\n",
       "Permutation test: \n",
       "          N   Mean Median   2.5%  97.5% P_permut\n",
       "Org       1     NA     NA     NA     NA       NA\n",
       "Link      1     NA     NA     NA     NA       NA\n",
       "\n",
       "Likelihood ratio test: \n",
       "logLik full model = -415.4764\n",
       "logLik red. model = -463.6381\n",
       "D  = 96.3, df = 1, P = 4.88e-23\n",
       "\n",
       "----------------------------------------"
      ]
     },
     "metadata": {},
     "output_type": "display_data"
    },
    {
     "name": "stderr",
     "output_type": "stream",
     "text": [
      "boundary (singular) fit: see ?isSingular\n",
      "\n",
      "boundary (singular) fit: see ?isSingular\n",
      "\n"
     ]
    },
    {
     "name": "stdout",
     "output_type": "stream",
     "text": [
      "Bootstrap Progress:\n"
     ]
    },
    {
     "name": "stderr",
     "output_type": "stream",
     "text": [
      "boundary (singular) fit: see ?isSingular\n",
      "\n",
      "boundary (singular) fit: see ?isSingular\n",
      "\n",
      "boundary (singular) fit: see ?isSingular\n",
      "\n",
      "boundary (singular) fit: see ?isSingular\n",
      "\n"
     ]
    },
    {
     "data": {
      "text/plain": [
       "\n",
       "Repeatability estimation using glmer method\n",
       "\n",
       "Call = rpt(formula = perc_duration_2_Zone ~ (1 | HenID), grname = c(\"HenID\"), data = df_[which(df_$HenID != \"hen_55\"), ], datatype = \"Poisson\", nboot = 10, npermut = 0)\n",
       "\n",
       "Data: 102 observations\n",
       "----------------------------------------\n",
       "\n",
       "HenID (51 groups)\n",
       "\n",
       "Repeatability estimation overview: \n",
       "          R     SE   2.5%  97.5% P_permut\n",
       "Org   0.931 0.0160  0.896  0.941       NA\n",
       "Link  0.922 0.0153  0.889  0.931       NA\n",
       "\n",
       "\n",
       "Bootstrapping: \n",
       "          N   Mean Median   2.5%  97.5%\n",
       "Org      10  0.925  0.930  0.896  0.941\n",
       "Link     10  0.916  0.922  0.889  0.931\n",
       "\n",
       "Permutation test: \n",
       "          N   Mean Median   2.5%  97.5% P_permut\n",
       "Org       1     NA     NA     NA     NA       NA\n",
       "Link      1     NA     NA     NA     NA       NA\n",
       "\n",
       "Likelihood ratio test: \n",
       "logLik full model = -404.8142\n",
       "logLik red. model = -451.5151\n",
       "D  = 93.4, df = 1, P = 2.13e-22\n",
       "\n",
       "----------------------------------------"
      ]
     },
     "metadata": {},
     "output_type": "display_data"
    }
   ],
   "source": [
    "#removing the henID taht have only one observation did not improve the warnign messages, it actually made it worse!\n",
    "df_ = df[ which((df$DIB==50 | df$DIB==54)&(df$PenID %in% c('pen10','pen11','pen12'))), ]  \n",
    "rpet = rpt(perc_duration_2_Zone ~ (1|HenID), grname = c(\"HenID\"), data = df_, datatype = \"Poisson\", \n",
    "                 nboot = 10, npermut = 0)\n",
    "summary(rpet)\n",
    "\n",
    "df_ = df[ which((df$DIB==50 | df$DIB==54)&(df$PenID %in% c('pen10','pen11','pen12'))), ]  \n",
    "rpet = rpt(perc_duration_2_Zone ~ (1|HenID), grname = c(\"HenID\"), data = df_[which(df_$HenID!='hen_55'), ]  , datatype = \"Poisson\", \n",
    "                 nboot = 10, npermut = 0)\n",
    "summary(rpet)"
   ]
  },
  {
   "cell_type": "code",
   "execution_count": null,
   "metadata": {},
   "outputs": [],
   "source": []
  },
  {
   "cell_type": "markdown",
   "metadata": {},
   "source": [
    "#in case all\n",
    "######histogram of dep var \n",
    "#variance of the residuals is equal across groups. Even spread around the centered line?\n",
    "jpeg(file.path(path_model,paste0(name,'_Histrogram_',i,'.jpg')))\n",
    "hist(df_$Y)\n",
    "dev.off()\n",
    "######linearity of predictors: plot residual vs observed\n",
    "jpeg(file.path(path_model, paste(name,'_diagnostic_predictors_linearity_',i,'.jpg', sep='')))\n",
    "plot(resid(model_$mod),df_$Y)\n",
    "dev.off()\n",
    "###### normally distributed residuals\n",
    "jpeg(file.path(path_model, paste(name,'_diagnostic_normally_distributed_residual_',i,'.jpg', sep='')))\n",
    "qqnorm(resid(model_$mod), main = \"Residuals\")\n",
    "qqline(resid(model_$mod))\n",
    "dev.off()\n",
    "jpeg(file.path(path_model, paste(name,'_diagnostic_normally_distributed_residual_histogram_',i,'.jpg', sep='')))\n",
    "hist(resid(model_$mod))\n",
    "dev.off()\n",
    "######normally of random effects\n",
    "jpeg(file.path(path_model, paste(name,'_diagnostic_normally_distributed_randomeffect_henPen_',i,'.jpg', sep='')))\n",
    "qqmath(ranef(model_$mod,condVar = TRUE))$HenID\n",
    "dev.off()\n",
    "######check homogeneity of variance (residuals has constant variance)\n",
    "#variance of the residuals is equal across groups. Even spread around the centered line?\n",
    "jpeg(file.path(path_model, paste(name,'_diagnostic_homogeneity_variance_',i,'.jpg', sep='')))\n",
    "plot(model_$mod)\n",
    "dev.off()\n",
    "###### check if the residuals are independent. This can be checked by plotting residuals against covariates - especially time-varying or spatial covariates. There should not be any systematic pattern\n",
    "jpeg(file.path(path_model, paste(name,'_diagnostic_independance_of_residuals_',i,'.jpg', sep='')))\n",
    "plot(resid(model_$mod), df_$DIB)\n",
    "dev.off()"
   ]
  },
  {
   "cell_type": "code",
   "execution_count": null,
   "metadata": {},
   "outputs": [],
   "source": []
  },
  {
   "cell_type": "code",
   "execution_count": null,
   "metadata": {},
   "outputs": [],
   "source": []
  }
 ],
 "metadata": {
  "kernelspec": {
   "display_name": "R 4.0.3",
   "language": "R",
   "name": "ir35"
  },
  "language_info": {
   "codemirror_mode": "r",
   "file_extension": ".r",
   "mimetype": "text/x-r-source",
   "name": "R",
   "pygments_lexer": "r",
   "version": "4.0.3"
  }
 },
 "nbformat": 4,
 "nbformat_minor": 4
}
