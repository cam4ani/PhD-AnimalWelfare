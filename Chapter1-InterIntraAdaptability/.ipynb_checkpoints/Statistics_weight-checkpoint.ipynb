{
 "cells": [
  {
   "cell_type": "code",
   "execution_count": 2,
   "metadata": {},
   "outputs": [
    {
     "name": "stderr",
     "output_type": "stream",
     "text": [
      "This is DHARMa 0.3.3.0. For overview type '?DHARMa'. For recent changes, type news(package = 'DHARMa') Note: Syntax of plotResiduals has changed in 0.3.0, see ?plotResiduals for details\n",
      "\n",
      "-- \u001b[1mAttaching packages\u001b[22m ------------------------------------------------------------------------------- tidyverse 1.3.0 --\n",
      "\n",
      "\u001b[32mv\u001b[39m \u001b[34mggplot2\u001b[39m 3.3.3     \u001b[32mv\u001b[39m \u001b[34mpurrr  \u001b[39m 0.3.4\n",
      "\u001b[32mv\u001b[39m \u001b[34mtibble \u001b[39m 3.0.6     \u001b[32mv\u001b[39m \u001b[34mdplyr  \u001b[39m 1.0.3\n",
      "\u001b[32mv\u001b[39m \u001b[34mtidyr  \u001b[39m 1.1.2     \u001b[32mv\u001b[39m \u001b[34mstringr\u001b[39m 1.4.0\n",
      "\u001b[32mv\u001b[39m \u001b[34mreadr  \u001b[39m 1.4.0     \u001b[32mv\u001b[39m \u001b[34mforcats\u001b[39m 0.5.1\n",
      "\n",
      "-- \u001b[1mConflicts\u001b[22m ---------------------------------------------------------------------------------- tidyverse_conflicts() --\n",
      "\u001b[31mx\u001b[39m \u001b[34mdplyr\u001b[39m::\u001b[32mfilter()\u001b[39m masks \u001b[34mstats\u001b[39m::filter()\n",
      "\u001b[31mx\u001b[39m \u001b[34mdplyr\u001b[39m::\u001b[32mlag()\u001b[39m    masks \u001b[34mstats\u001b[39m::lag()\n",
      "\n",
      "Loading required package: lattice\n",
      "\n",
      "\n",
      "Attaching package: 'caret'\n",
      "\n",
      "\n",
      "The following object is masked from 'package:purrr':\n",
      "\n",
      "    lift\n",
      "\n",
      "\n",
      "\n",
      "Attaching package: 'MASS'\n",
      "\n",
      "\n",
      "The following object is masked from 'package:dplyr':\n",
      "\n",
      "    select\n",
      "\n",
      "\n",
      "Loading required package: Matrix\n",
      "\n",
      "\n",
      "Attaching package: 'Matrix'\n",
      "\n",
      "\n",
      "The following objects are masked from 'package:tidyr':\n",
      "\n",
      "    expand, pack, unpack\n",
      "\n",
      "\n",
      "Registered S3 methods overwritten by 'car':\n",
      "  method                          from\n",
      "  influence.merMod                lme4\n",
      "  cooks.distance.influence.merMod lme4\n",
      "  dfbeta.influence.merMod         lme4\n",
      "  dfbetas.influence.merMod        lme4\n",
      "\n",
      "\n",
      "Attaching package: 'rstatix'\n",
      "\n",
      "\n",
      "The following object is masked from 'package:MASS':\n",
      "\n",
      "    select\n",
      "\n",
      "\n",
      "The following object is masked from 'package:stats':\n",
      "\n",
      "    filter\n",
      "\n",
      "\n",
      "\n",
      "Attaching package: 'lmerTest'\n",
      "\n",
      "\n",
      "The following object is masked from 'package:lme4':\n",
      "\n",
      "    lmer\n",
      "\n",
      "\n",
      "The following object is masked from 'package:stats':\n",
      "\n",
      "    step\n",
      "\n",
      "\n",
      "Loading required package: carData\n",
      "\n",
      "\n",
      "Attaching package: 'car'\n",
      "\n",
      "\n",
      "The following object is masked from 'package:dplyr':\n",
      "\n",
      "    recode\n",
      "\n",
      "\n",
      "The following object is masked from 'package:purrr':\n",
      "\n",
      "    some\n",
      "\n",
      "\n",
      "Loading required package: Rcpp\n",
      "\n",
      "This is rstanarm version 2.21.1\n",
      "\n",
      "- See https://mc-stan.org/rstanarm/articles/priors for changes to default priors!\n",
      "\n",
      "- Default priors may change, so it's safest to specify priors, even if equivalent to the defaults.\n",
      "\n",
      "- For execution on a local, multicore CPU with excess RAM we recommend calling\n",
      "\n",
      "  options(mc.cores = parallel::detectCores())\n",
      "\n",
      "\n",
      "Attaching package: 'rstanarm'\n",
      "\n",
      "\n",
      "The following object is masked from 'package:car':\n",
      "\n",
      "    logit\n",
      "\n",
      "\n",
      "The following objects are masked from 'package:caret':\n",
      "\n",
      "    compare_models, R2\n",
      "\n",
      "\n",
      "\n",
      "Attaching package: 'performance'\n",
      "\n",
      "\n",
      "The following object is masked from 'package:rstanarm':\n",
      "\n",
      "    pp_check\n",
      "\n",
      "\n"
     ]
    }
   ],
   "source": [
    "#install.packages(\"emmeans\")\n",
    "library(DHARMa)\n",
    "library(lindia)\n",
    "library(tidyverse)\n",
    "library(caret)\n",
    "library(leaps)\n",
    "library(MASS)\n",
    "library(modEvA)\n",
    "library(dplyr)\n",
    "library(lme4) #random effect\n",
    "library(broom)\n",
    "library(ggpubr) \n",
    "library(rstatix)\n",
    "library(WRS2) #robust ancova\n",
    "library(lmerTest) #like lmer but with p-value\n",
    "library(emmeans) #visualize interaction term\n",
    "\n",
    "#levenetest\n",
    "library(car)\n",
    "\n",
    "library(rstanarm) #r2 in mixed effect models\n",
    "library(performance) #r2 in mixed effect models"
   ]
  },
  {
   "cell_type": "raw",
   "metadata": {},
   "source": [
    "https://www.datanovia.com/en/lessons/ancova-in-r/\n",
    "\n",
    "https://statistics.laerd.com/spss-tutorials/ancova-using-spss-statistics.php\n",
    "\"Like the one-way ANOVA, the one-way ANCOVA is used to determine whether there are any significant differences between two or more independent (unrelated) groups on a dependent variable. However, whereas the ANOVA looks for differences in the group means, the ANCOVA looks for differences in adjusted means (i.e., adjusted for the covariate). As such, compared to the one-way ANOVA, the one-way ANCOVA has the additional benefit of allowing you to \"statistically control\" for a third variable (sometimes known as a \"confounding variable\"), which you believe will affect your results. This third variable that could be confounding your results is called the covariate and you include it in your one-way ANCOVA analysis.\""
   ]
  },
  {
   "cell_type": "raw",
   "metadata": {},
   "source": [
    "Weight: lmer(weight ~ timestamp*is_MEXP + timestamp*Treatment + (1|PenID/HenID), data=df)\n",
    "3 timestamp together? Loosing 20 hens if we want all to have the three timestamps to have them as random factor."
   ]
  },
  {
   "cell_type": "code",
   "execution_count": 40,
   "metadata": {},
   "outputs": [
    {
     "name": "stdout",
     "output_type": "stream",
     "text": [
      "[1] 336  10\n"
     ]
    },
    {
     "data": {
      "text/plain": [
       "       X              HenID     Treatment      PenID       CLASS          \n",
       " Min.   :  0.00   hen_1  :  3   OFH :159   10     :51   Length:336        \n",
       " 1st Qu.: 83.75   hen_10 :  3   TRAN:177   3      :45   Class :character  \n",
       " Median :167.50   hen_101:  3              12     :45   Mode  :character  \n",
       " Mean   :167.50   hen_102:  3              4      :42                     \n",
       " 3rd Qu.:251.25   hen_103:  3              9      :42                     \n",
       " Max.   :335.00   hen_104:  3              5      :39                     \n",
       "                  (Other):318              (Other):72                     \n",
       "   is_MEXP              R.Pen       InitialStartDate                variable  \n",
       " Length:336         Min.   :1.000   Length:336         10-12 juin weight:112  \n",
       " Class :character   1st Qu.:2.000   Class :character   29-09 weight     :112  \n",
       " Mode  :character   Median :2.000   Mode  :character   weight 23-11-2020:112  \n",
       "                    Mean   :2.473                                             \n",
       "                    3rd Qu.:3.000                                             \n",
       "                    Max.   :4.000                                             \n",
       "                                                                              \n",
       "     value        \n",
       " Min.   :  48.60  \n",
       " 1st Qu.:  69.17  \n",
       " Median :1169.00  \n",
       " Mean   : 974.64  \n",
       " 3rd Qu.:1612.75  \n",
       " Max.   :1893.00  \n",
       "                  "
      ]
     },
     "metadata": {},
     "output_type": "display_data"
    },
    {
     "data": {
      "text/html": [
       "<table class=\"dataframe\">\n",
       "<caption>A data.frame: 3 × 10</caption>\n",
       "<thead>\n",
       "\t<tr><th></th><th scope=col>X</th><th scope=col>HenID</th><th scope=col>Treatment</th><th scope=col>PenID</th><th scope=col>CLASS</th><th scope=col>is_MEXP</th><th scope=col>R.Pen</th><th scope=col>InitialStartDate</th><th scope=col>variable</th><th scope=col>value</th></tr>\n",
       "\t<tr><th></th><th scope=col>&lt;int&gt;</th><th scope=col>&lt;fct&gt;</th><th scope=col>&lt;fct&gt;</th><th scope=col>&lt;fct&gt;</th><th scope=col>&lt;chr&gt;</th><th scope=col>&lt;chr&gt;</th><th scope=col>&lt;dbl&gt;</th><th scope=col>&lt;chr&gt;</th><th scope=col>&lt;fct&gt;</th><th scope=col>&lt;dbl&gt;</th></tr>\n",
       "</thead>\n",
       "<tbody>\n",
       "\t<tr><th scope=row>1</th><td>0</td><td>hen_1  </td><td>OFH</td><td>9 </td><td>EPI </td><td>False</td><td>1</td><td>2020-06-10</td><td>29-09 weight</td><td>1134</td></tr>\n",
       "\t<tr><th scope=row>2</th><td>1</td><td>hen_10 </td><td>OFH</td><td>11</td><td>LEXP</td><td>False</td><td>1</td><td>2020-06-10</td><td>29-09 weight</td><td>1070</td></tr>\n",
       "\t<tr><th scope=row>3</th><td>2</td><td>hen_101</td><td>OFH</td><td>5 </td><td>MEXP</td><td>True </td><td>3</td><td>2020-06-10</td><td>29-09 weight</td><td>1082</td></tr>\n",
       "</tbody>\n",
       "</table>\n"
      ],
      "text/latex": [
       "A data.frame: 3 × 10\n",
       "\\begin{tabular}{r|llllllllll}\n",
       "  & X & HenID & Treatment & PenID & CLASS & is\\_MEXP & R.Pen & InitialStartDate & variable & value\\\\\n",
       "  & <int> & <fct> & <fct> & <fct> & <chr> & <chr> & <dbl> & <chr> & <fct> & <dbl>\\\\\n",
       "\\hline\n",
       "\t1 & 0 & hen\\_1   & OFH & 9  & EPI  & False & 1 & 2020-06-10 & 29-09 weight & 1134\\\\\n",
       "\t2 & 1 & hen\\_10  & OFH & 11 & LEXP & False & 1 & 2020-06-10 & 29-09 weight & 1070\\\\\n",
       "\t3 & 2 & hen\\_101 & OFH & 5  & MEXP & True  & 3 & 2020-06-10 & 29-09 weight & 1082\\\\\n",
       "\\end{tabular}\n"
      ],
      "text/markdown": [
       "\n",
       "A data.frame: 3 × 10\n",
       "\n",
       "| <!--/--> | X &lt;int&gt; | HenID &lt;fct&gt; | Treatment &lt;fct&gt; | PenID &lt;fct&gt; | CLASS &lt;chr&gt; | is_MEXP &lt;chr&gt; | R.Pen &lt;dbl&gt; | InitialStartDate &lt;chr&gt; | variable &lt;fct&gt; | value &lt;dbl&gt; |\n",
       "|---|---|---|---|---|---|---|---|---|---|---|\n",
       "| 1 | 0 | hen_1   | OFH | 9  | EPI  | False | 1 | 2020-06-10 | 29-09 weight | 1134 |\n",
       "| 2 | 1 | hen_10  | OFH | 11 | LEXP | False | 1 | 2020-06-10 | 29-09 weight | 1070 |\n",
       "| 3 | 2 | hen_101 | OFH | 5  | MEXP | True  | 3 | 2020-06-10 | 29-09 weight | 1082 |\n",
       "\n"
      ],
      "text/plain": [
       "  X HenID   Treatment PenID CLASS is_MEXP R.Pen InitialStartDate variable    \n",
       "1 0 hen_1   OFH       9     EPI   False   1     2020-06-10       29-09 weight\n",
       "2 1 hen_10  OFH       11    LEXP  False   1     2020-06-10       29-09 weight\n",
       "3 2 hen_101 OFH       5     MEXP  True    3     2020-06-10       29-09 weight\n",
       "  value\n",
       "1 1134 \n",
       "2 1070 \n",
       "3 1082 "
      ]
     },
     "metadata": {},
     "output_type": "display_data"
    }
   ],
   "source": [
    "path_ = 'G:/VPHI/Welfare/2- Research Projects/OFHE2.OriginsE2/DataOutput/TrackingSystem/correctlightschedule_/visual/Treatment&Classs/adaptability'\n",
    "df = read.csv(file.path(path_,'STATweight_1rowperweight_allhensalltime.csv'), header = TRUE, sep = \";\")\n",
    "df$Treatment = as.factor(df$Treatment)  \n",
    "df$PenID = as.factor(df$PenID)\n",
    "df$HenID = as.factor(df$HenID)\n",
    "df$variable = as.factor(df$variable)\n",
    "name = 'firsttry'\n",
    "print(dim(df))\n",
    "summary(df)\n",
    "head(df, 3)"
   ]
  },
  {
   "cell_type": "code",
   "execution_count": 82,
   "metadata": {},
   "outputs": [
    {
     "name": "stderr",
     "output_type": "stream",
     "text": [
      "Warning message:\n",
      "\"Model failed to converge with 1 negative eigenvalue: -5.5e-08\"\n"
     ]
    },
    {
     "data": {
      "text/plain": [
       "Linear mixed model fit by REML. t-tests use Satterthwaite's method [\n",
       "lmerModLmerTest]\n",
       "Formula: \n",
       "value ~ variable * is_MEXP + variable * Treatment + (1 | PenID/HenID) +  \n",
       "    (1 | variable)\n",
       "   Data: df\n",
       "\n",
       "REML criterion at convergence: 3741.3\n",
       "\n",
       "Scaled residuals: \n",
       "    Min      1Q  Median      3Q     Max \n",
       "-3.4407 -0.4880  0.0011  0.4487  2.6717 \n",
       "\n",
       "Random effects:\n",
       " Groups      Name        Variance  Std.Dev.\n",
       " HenID:PenID (Intercept)    1304.6   36.12 \n",
       " PenID       (Intercept)     260.7   16.15 \n",
       " variable    (Intercept) 1562879.6 1250.15 \n",
       " Residual                   3824.1   61.84 \n",
       "Number of obs: 336, groups:  HenID:PenID, 112; PenID, 8; variable, 3\n",
       "\n",
       "Fixed effects:\n",
       "                                         Estimate Std. Error        df t value\n",
       "(Intercept)                               64.8439  1250.2263  218.0134   0.052\n",
       "variable29-09 weight                    1109.5459  1768.0325  217.9768   0.628\n",
       "variableweight 23-11-2020               1635.4403  1768.0325  217.9765   0.925\n",
       "is_MEXPTrue                                0.2011    14.3992  277.9928   0.014\n",
       "TreatmentTRAN                              0.4581    17.7410   10.7032   0.026\n",
       "variable29-09 weight:is_MEXPTrue           5.2926    17.5725  217.9995   0.301\n",
       "variableweight 23-11-2020:is_MEXPTrue     -5.7853    17.5725  217.9995  -0.329\n",
       "variable29-09 weight:TreatmentTRAN       -10.5961    16.5539  217.9995  -0.640\n",
       "variableweight 23-11-2020:TreatmentTRAN  -21.5281    16.5539  217.9995  -1.300\n",
       "                                        Pr(>|t|)\n",
       "(Intercept)                                0.959\n",
       "variable29-09 weight                       0.531\n",
       "variableweight 23-11-2020                  0.356\n",
       "is_MEXPTrue                                0.989\n",
       "TreatmentTRAN                              0.980\n",
       "variable29-09 weight:is_MEXPTrue           0.764\n",
       "variableweight 23-11-2020:is_MEXPTrue      0.742\n",
       "variable29-09 weight:TreatmentTRAN         0.523\n",
       "variableweight 23-11-2020:TreatmentTRAN    0.195\n",
       "\n",
       "Correlation of Fixed Effects:\n",
       "              (Intr) vr29-09w vr23-11-2020 i_MEXP TrTRAN v29-09w:_\n",
       "vrbl29-09wg   -0.707                                              \n",
       "vr23-11-2020  -0.707  0.500                                       \n",
       "is_MEXPTrue   -0.004  0.002    0.002                              \n",
       "TretmntTRAN   -0.007  0.002    0.002        0.014                 \n",
       "v29-09w:_ME    0.002 -0.003   -0.002       -0.610 -0.009          \n",
       "v23-11-2020:_  0.002 -0.002   -0.003       -0.610 -0.009  0.500   \n",
       "v29-09w:TTR    0.004 -0.005   -0.002       -0.011 -0.467  0.019   \n",
       "v23-11-2020:T  0.004 -0.002   -0.005       -0.011 -0.467  0.009   \n",
       "              v23-11-2020:_ v29-09w:T\n",
       "vrbl29-09wg                          \n",
       "vr23-11-2020                         \n",
       "is_MEXPTrue                          \n",
       "TretmntTRAN                          \n",
       "v29-09w:_ME                          \n",
       "v23-11-2020:_                        \n",
       "v29-09w:TTR    0.009                 \n",
       "v23-11-2020:T  0.019         0.500   "
      ]
     },
     "metadata": {},
     "output_type": "display_data"
    }
   ],
   "source": [
    "#does not converge with: (1|PenID/henID2)\n",
    "fit = lmer(value ~ variable*is_MEXP + variable*Treatment + (1|PenID/HenID) +(1|variable), data=df) #+ (1|R.Pen)\n",
    "#capture.output(summary(fit), file=file.path(path_,paste(name,'.txt', sep='')), append=TRUE)\n",
    "summary(fit)"
   ]
  },
  {
   "cell_type": "code",
   "execution_count": 83,
   "metadata": {},
   "outputs": [
    {
     "data": {
      "image/png": "[encoded data removed]",
      "text/plain": [
       "plot without title"
      ]
     },
     "metadata": {
      "image/png": {
       "height": 420,
       "width": 420
      }
     },
     "output_type": "display_data"
    }
   ],
   "source": [
    "emmip(fit, is_MEXP ~ variable)"
   ]
  },
  {
   "cell_type": "code",
   "execution_count": 84,
   "metadata": {},
   "outputs": [
    {
     "data": {
      "image/png": "[encoded data removed]",
      "text/plain": [
       "plot without title"
      ]
     },
     "metadata": {
      "image/png": {
       "height": 420,
       "width": 420
      }
     },
     "output_type": "display_data"
    }
   ],
   "source": [
    "emmip(fit, Treatment ~ variable)"
   ]
  },
  {
   "cell_type": "markdown",
   "metadata": {},
   "source": [
    "path_ = 'G:/VPHI/Welfare/2- Research Projects/OFHE2.OriginsE2/DataOutput/TrackingSystem/correctlightschedule_/visual/Treatment&Classs/adaptability'\n",
    "df = read.csv(file.path(path_,'STATweight.csv'), header = TRUE, sep = \";\")\n",
    "#df$SQRTPercentagenotmoving <- sqrt(df$Percentagenotmoving)\n",
    "df$Treatment = as.factor(df$Treatment)  \n",
    "df$PenID = as.factor(df$PenID)\n",
    "df$HenID = as.factor(df$HenID)\n",
    "name = 'firsttry'\n",
    "print(dim(df))\n",
    "summary(df)\n",
    "head(df, 3)"
   ]
  },
  {
   "cell_type": "markdown",
   "metadata": {},
   "source": [
    "#does not converge with: (1|PenID/henID2)\n",
    "fit = lmer(X10.12.juin.weight ~ is_MEXP + Treatment + (1|PenID)+ (1|R.Pen), data=df)\n",
    "#capture.output(summary(fit), file=file.path(path_,paste(name,'.txt', sep='')), append=TRUE)\n",
    "summary(fit)"
   ]
  },
  {
   "cell_type": "markdown",
   "metadata": {},
   "source": [
    "#does not converge with: (1|PenID/henID2)\n",
    "fit = lmer(X29.09.weight ~ is_MEXP + Treatment + (1|PenID)+ (1|R.Pen), data=df)\n",
    "#capture.output(summary(fit), file=file.path(path_,paste(name,'.txt', sep='')), append=TRUE)\n",
    "summary(fit)"
   ]
  },
  {
   "cell_type": "markdown",
   "metadata": {},
   "source": [
    "#does not converge with: (1|PenID/henID2)\n",
    "fit = lmer(weight.23.11.2020 ~ is_MEXP + Treatment + (1|PenID)+ (1|R.Pen), data=df)\n",
    "#capture.output(summary(fit), file=file.path(path_,paste(name,'.txt', sep='')), append=TRUE)\n",
    "summary(fit)"
   ]
  },
  {
   "cell_type": "code",
   "execution_count": 85,
   "metadata": {},
   "outputs": [
    {
     "data": {
      "text/html": [
       "<table class=\"dataframe\">\n",
       "<caption>A anova: 5 × 3</caption>\n",
       "<thead>\n",
       "\t<tr><th></th><th scope=col>Chisq</th><th scope=col>Df</th><th scope=col>Pr(&gt;Chisq)</th></tr>\n",
       "\t<tr><th></th><th scope=col>&lt;dbl&gt;</th><th scope=col>&lt;dbl&gt;</th><th scope=col>&lt;dbl&gt;</th></tr>\n",
       "</thead>\n",
       "<tbody>\n",
       "\t<tr><th scope=row>variable</th><td>8.788804e-01</td><td>2</td><td>0.6443971</td></tr>\n",
       "\t<tr><th scope=row>is_MEXP</th><td>1.299209e-05</td><td>1</td><td>0.9971241</td></tr>\n",
       "\t<tr><th scope=row>Treatment</th><td>4.702822e-01</td><td>1</td><td>0.4928574</td></tr>\n",
       "\t<tr><th scope=row>variable:is_MEXP</th><td>3.976847e-01</td><td>2</td><td>0.8196791</td></tr>\n",
       "\t<tr><th scope=row>variable:Treatment</th><td>1.691387e+00</td><td>2</td><td>0.4292596</td></tr>\n",
       "</tbody>\n",
       "</table>\n"
      ],
      "text/latex": [
       "A anova: 5 × 3\n",
       "\\begin{tabular}{r|lll}\n",
       "  & Chisq & Df & Pr(>Chisq)\\\\\n",
       "  & <dbl> & <dbl> & <dbl>\\\\\n",
       "\\hline\n",
       "\tvariable & 8.788804e-01 & 2 & 0.6443971\\\\\n",
       "\tis\\_MEXP & 1.299209e-05 & 1 & 0.9971241\\\\\n",
       "\tTreatment & 4.702822e-01 & 1 & 0.4928574\\\\\n",
       "\tvariable:is\\_MEXP & 3.976847e-01 & 2 & 0.8196791\\\\\n",
       "\tvariable:Treatment & 1.691387e+00 & 2 & 0.4292596\\\\\n",
       "\\end{tabular}\n"
      ],
      "text/markdown": [
       "\n",
       "A anova: 5 × 3\n",
       "\n",
       "| <!--/--> | Chisq &lt;dbl&gt; | Df &lt;dbl&gt; | Pr(&gt;Chisq) &lt;dbl&gt; |\n",
       "|---|---|---|---|\n",
       "| variable | 8.788804e-01 | 2 | 0.6443971 |\n",
       "| is_MEXP | 1.299209e-05 | 1 | 0.9971241 |\n",
       "| Treatment | 4.702822e-01 | 1 | 0.4928574 |\n",
       "| variable:is_MEXP | 3.976847e-01 | 2 | 0.8196791 |\n",
       "| variable:Treatment | 1.691387e+00 | 2 | 0.4292596 |\n",
       "\n"
      ],
      "text/plain": [
       "                   Chisq        Df Pr(>Chisq)\n",
       "variable           8.788804e-01 2  0.6443971 \n",
       "is_MEXP            1.299209e-05 1  0.9971241 \n",
       "Treatment          4.702822e-01 1  0.4928574 \n",
       "variable:is_MEXP   3.976847e-01 2  0.8196791 \n",
       "variable:Treatment 1.691387e+00 2  0.4292596 "
      ]
     },
     "metadata": {},
     "output_type": "display_data"
    }
   ],
   "source": [
    "Anova(fit)"
   ]
  },
  {
   "cell_type": "code",
   "execution_count": 86,
   "metadata": {},
   "outputs": [
    {
     "name": "stderr",
     "output_type": "stream",
     "text": [
      "Warning message in checkConv(attr(opt, \"derivs\"), opt$par, ctrl = control$checkConv, :\n",
      "\"unable to evaluate scaled gradient\"\n",
      "Warning message in checkConv(attr(opt, \"derivs\"), opt$par, ctrl = control$checkConv, :\n",
      "\"Model failed to converge: degenerate  Hessian with 1 negative eigenvalues\"\n",
      "Warning message:\n",
      "\"Model failed to converge with 1 negative eigenvalue: -5.5e-08\"\n"
     ]
    },
    {
     "data": {
      "text/html": [
       "<table class=\"dataframe\">\n",
       "<caption>A anova: 4 × 6</caption>\n",
       "<thead>\n",
       "\t<tr><th></th><th scope=col>npar</th><th scope=col>logLik</th><th scope=col>AIC</th><th scope=col>LRT</th><th scope=col>Df</th><th scope=col>Pr(&gt;Chisq)</th></tr>\n",
       "\t<tr><th></th><th scope=col>&lt;int&gt;</th><th scope=col>&lt;dbl&gt;</th><th scope=col>&lt;dbl&gt;</th><th scope=col>&lt;dbl&gt;</th><th scope=col>&lt;dbl&gt;</th><th scope=col>&lt;dbl&gt;</th></tr>\n",
       "</thead>\n",
       "<tbody>\n",
       "\t<tr><th scope=row>&lt;none&gt;</th><td>13</td><td>-1870.648</td><td>3767.297</td><td>           NA</td><td>NA</td><td>          NA</td></tr>\n",
       "\t<tr><th scope=row>(1 | HenID:PenID)</th><td>12</td><td>-1879.902</td><td>3783.803</td><td> 1.850666e+01</td><td> 1</td><td>1.693115e-05</td></tr>\n",
       "\t<tr><th scope=row>(1 | PenID)</th><td>12</td><td>-1871.839</td><td>3767.678</td><td> 2.381221e+00</td><td> 1</td><td>1.228015e-01</td></tr>\n",
       "\t<tr><th scope=row>(1 | variable)</th><td>12</td><td>-1870.648</td><td>3765.297</td><td>-1.310582e-09</td><td> 1</td><td>1.000000e+00</td></tr>\n",
       "</tbody>\n",
       "</table>\n"
      ],
      "text/latex": [
       "A anova: 4 × 6\n",
       "\\begin{tabular}{r|llllll}\n",
       "  & npar & logLik & AIC & LRT & Df & Pr(>Chisq)\\\\\n",
       "  & <int> & <dbl> & <dbl> & <dbl> & <dbl> & <dbl>\\\\\n",
       "\\hline\n",
       "\t<none> & 13 & -1870.648 & 3767.297 &            NA & NA &           NA\\\\\n",
       "\t(1 \\textbar{} HenID:PenID) & 12 & -1879.902 & 3783.803 &  1.850666e+01 &  1 & 1.693115e-05\\\\\n",
       "\t(1 \\textbar{} PenID) & 12 & -1871.839 & 3767.678 &  2.381221e+00 &  1 & 1.228015e-01\\\\\n",
       "\t(1 \\textbar{} variable) & 12 & -1870.648 & 3765.297 & -1.310582e-09 &  1 & 1.000000e+00\\\\\n",
       "\\end{tabular}\n"
      ],
      "text/markdown": [
       "\n",
       "A anova: 4 × 6\n",
       "\n",
       "| <!--/--> | npar &lt;int&gt; | logLik &lt;dbl&gt; | AIC &lt;dbl&gt; | LRT &lt;dbl&gt; | Df &lt;dbl&gt; | Pr(&gt;Chisq) &lt;dbl&gt; |\n",
       "|---|---|---|---|---|---|---|\n",
       "| &lt;none&gt; | 13 | -1870.648 | 3767.297 |            NA | NA |           NA |\n",
       "| (1 | HenID:PenID) | 12 | -1879.902 | 3783.803 |  1.850666e+01 |  1 | 1.693115e-05 |\n",
       "| (1 | PenID) | 12 | -1871.839 | 3767.678 |  2.381221e+00 |  1 | 1.228015e-01 |\n",
       "| (1 | variable) | 12 | -1870.648 | 3765.297 | -1.310582e-09 |  1 | 1.000000e+00 |\n",
       "\n"
      ],
      "text/plain": [
       "                  npar logLik    AIC      LRT           Df Pr(>Chisq)  \n",
       "<none>            13   -1870.648 3767.297            NA NA           NA\n",
       "(1 | HenID:PenID) 12   -1879.902 3783.803  1.850666e+01  1 1.693115e-05\n",
       "(1 | PenID)       12   -1871.839 3767.678  2.381221e+00  1 1.228015e-01\n",
       "(1 | variable)    12   -1870.648 3765.297 -1.310582e-09  1 1.000000e+00"
      ]
     },
     "metadata": {},
     "output_type": "display_data"
    }
   ],
   "source": [
    "#rand: Likelihood Ratio Test On Random Effects Of Linear Mixed Effects Model\n",
    "#tests the hypothesis that the random effect variation is significant versus the null that there is no between group-level \n",
    "#variation\n",
    "rand(fit)"
   ]
  },
  {
   "cell_type": "code",
   "execution_count": 87,
   "metadata": {},
   "outputs": [
    {
     "data": {
      "text/plain": [
       "$`HenID:PenID`\n",
       "           (Intercept)\n",
       "hen_1:9     -7.2967428\n",
       "hen_10:11  -42.6372530\n",
       "hen_101:5  -34.9788627\n",
       "hen_102:3   19.7504882\n",
       "hen_103:3   30.4246058\n",
       "hen_104:3   -9.0108201\n",
       "hen_105:9  -40.6625863\n",
       "hen_106:9  -11.1763001\n",
       "hen_108:11  -9.8952277\n",
       "hen_109:5  -35.3497816\n",
       "hen_110:9   52.1851652\n",
       "hen_111:11 -43.2779311\n",
       "hen_113:9    6.3092378\n",
       "hen_114:9   -6.6729246\n",
       "hen_12:5    23.5100766\n",
       "hen_123:4  -11.2380498\n",
       "hen_126:8   22.2762513\n",
       "hen_13:3   -45.8498136\n",
       "hen_131:10  17.8692093\n",
       "hen_133:12  24.7945114\n",
       "hen_134:10 -23.3551400\n",
       "hen_135:12  18.7249289\n",
       "hen_136:8   29.6760014\n",
       "hen_137:12 -20.4575978\n",
       "hen_138:10  45.9223996\n",
       "hen_139:10  52.1286302\n",
       "hen_140:10  36.7692146\n",
       "hen_141:10   8.0735776\n",
       "hen_142:4  -14.0873816\n",
       "hen_143:10 -40.4005507\n",
       "hen_144:4    5.8393123\n",
       "hen_145:10  -3.7621081\n",
       "hen_146:8   -9.6059165\n",
       "hen_147:8  -10.8721814\n",
       "hen_149:12 -24.1667870\n",
       "hen_150:4   10.8653462\n",
       "hen_151:8  -17.9702208\n",
       "hen_153:4  -47.2189543\n",
       "hen_154:12 -18.8541339\n",
       "hen_155:12  48.3496317\n",
       "hen_158:8   -4.7520191\n",
       "hen_159:12   8.6107267\n",
       "hen_17:5    30.2034773\n",
       "hen_18:9    15.1438523\n",
       "hen_19:9   -20.0428659\n",
       "hen_2:3     13.2256870\n",
       "hen_20:3     5.7079173\n",
       "hen_21:5    24.7053647\n",
       "hen_22:11    2.1090576\n",
       "hen_23:9    29.2387715\n",
       "hen_24:9   -18.8812978\n",
       "hen_25:3     9.3647582\n",
       "hen_26:5    23.9821553\n",
       "hen_27:3     6.4497551\n",
       "hen_28:11  -22.3884515\n",
       "hen_29:9    10.9457244\n",
       "hen_3:9    -34.1732736\n",
       "hen_32:5    38.9032121\n",
       "hen_4:3     16.6651171\n",
       "hen_41:12  -53.6362133\n",
       "hen_42:12   13.1460536\n",
       "hen_43:4   -22.0115587\n",
       "hen_44:8     4.0000641\n",
       "hen_46:10  -16.6093910\n",
       "hen_47:12    0.7539894\n",
       "hen_48:4    12.0455428\n",
       "hen_49:10    0.6720590\n",
       "hen_5:9      5.5150516\n",
       "hen_50:4     9.1119113\n",
       "hen_53:12  -33.5222915\n",
       "hen_54:10  -10.1014498\n",
       "hen_56:8     7.3383345\n",
       "hen_59:10  -43.7201926\n",
       "hen_6:11     3.1880945\n",
       "hen_60:10  -30.2171401\n",
       "hen_61:12   33.9494649\n",
       "hen_62:8     3.2245064\n",
       "hen_63:4     7.5102159\n",
       "hen_64:4    15.0617056\n",
       "hen_65:10    0.7563588\n",
       "hen_66:8    -5.4752285\n",
       "hen_67:10   -3.8313164\n",
       "hen_68:12  -56.1652060\n",
       "hen_69:8    17.8234556\n",
       "hen_7:11    36.7544889\n",
       "hen_70:10   41.0179223\n",
       "hen_71:12   18.4232183\n",
       "hen_73:4    -8.2875584\n",
       "hen_74:8    34.4997159\n",
       "hen_75:4   -30.7112935\n",
       "hen_76:12   41.1504325\n",
       "hen_77:8    -3.6037739\n",
       "hen_78:10  -61.4905812\n",
       "hen_79:4    25.0596567\n",
       "hen_8:5    -10.0412263\n",
       "hen_80:4    10.6798868\n",
       "hen_81:3     4.0219222\n",
       "hen_82:5     6.7007052\n",
       "hen_83:5   -29.5819098\n",
       "hen_84:11   15.0894515\n",
       "hen_85:5    22.5978708\n",
       "hen_86:3    -6.4649675\n",
       "hen_88:5     0.5468230\n",
       "hen_89:5     8.0832212\n",
       "hen_9:11   -16.7589963\n",
       "hen_92:3   -29.2259017\n",
       "hen_94:3    18.6563598\n",
       "hen_95:11   -2.3251096\n",
       "hen_96:3     5.5206893\n",
       "hen_97:3     2.6731261\n",
       "hen_98:9     4.9923932\n",
       "hen_99:11  -16.4723772\n",
       "\n",
       "$PenID\n",
       "   (Intercept)\n",
       "3    8.3757824\n",
       "4   -7.4708900\n",
       "5   13.8463027\n",
       "8   13.3022653\n",
       "9   -2.9130715\n",
       "10  -6.0513632\n",
       "11 -19.3090137\n",
       "12   0.2199879\n",
       "\n",
       "$variable\n",
       "                    (Intercept)\n",
       "10-12 juin weight -1.287243e-07\n",
       "29-09 weight       2.041188e-07\n",
       "weight 23-11-2020  3.239490e-07\n",
       "\n",
       "with conditional variances for \"HenID:PenID\" \"PenID\" \"variable\" "
      ]
     },
     "metadata": {},
     "output_type": "display_data"
    }
   ],
   "source": [
    "ranef(fit)"
   ]
  },
  {
   "cell_type": "code",
   "execution_count": 88,
   "metadata": {},
   "outputs": [
    {
     "name": "stderr",
     "output_type": "stream",
     "text": [
      "Computing profile confidence intervals ...\n",
      "\n"
     ]
    },
    {
     "data": {
      "text/html": [
       "<table class=\"dataframe\">\n",
       "<caption>A matrix: 13 × 2 of type dbl</caption>\n",
       "<thead>\n",
       "\t<tr><th></th><th scope=col>2.5 %</th><th scope=col>97.5 %</th></tr>\n",
       "</thead>\n",
       "<tbody>\n",
       "\t<tr><th scope=row>.sig01</th><td>  25.99224</td><td>  46.83890</td></tr>\n",
       "\t<tr><th scope=row>.sig02</th><td>   0.00000</td><td>  30.15717</td></tr>\n",
       "\t<tr><th scope=row>.sig03</th><td>   0.00000</td><td>  11.27270</td></tr>\n",
       "\t<tr><th scope=row>.sigma</th><td>  55.76451</td><td>  67.12209</td></tr>\n",
       "\t<tr><th scope=row>(Intercept)</th><td>  39.36363</td><td>  90.28419</td></tr>\n",
       "\t<tr><th scope=row>variable29-09 weight</th><td>1083.49789</td><td>1135.59389</td></tr>\n",
       "\t<tr><th scope=row>variableweight 23-11-2020</th><td>1609.39229</td><td>1661.48830</td></tr>\n",
       "\t<tr><th scope=row>is_MEXPTrue</th><td> -27.82021</td><td>  28.32900</td></tr>\n",
       "\t<tr><th scope=row>TreatmentTRAN</th><td> -32.65246</td><td>  33.76850</td></tr>\n",
       "\t<tr><th scope=row>variable29-09 weight:is_MEXPTrue</th><td> -28.83063</td><td>  39.41586</td></tr>\n",
       "\t<tr><th scope=row>variableweight 23-11-2020:is_MEXPTrue</th><td> -39.90859</td><td>  28.33790</td></tr>\n",
       "\t<tr><th scope=row>variable29-09 weight:TreatmentTRAN</th><td> -42.74140</td><td>  21.54926</td></tr>\n",
       "\t<tr><th scope=row>variableweight 23-11-2020:TreatmentTRAN</th><td> -53.67341</td><td>  10.61725</td></tr>\n",
       "</tbody>\n",
       "</table>\n"
      ],
      "text/latex": [
       "A matrix: 13 × 2 of type dbl\n",
       "\\begin{tabular}{r|ll}\n",
       "  & 2.5 \\% & 97.5 \\%\\\\\n",
       "\\hline\n",
       "\t.sig01 &   25.99224 &   46.83890\\\\\n",
       "\t.sig02 &    0.00000 &   30.15717\\\\\n",
       "\t.sig03 &    0.00000 &   11.27270\\\\\n",
       "\t.sigma &   55.76451 &   67.12209\\\\\n",
       "\t(Intercept) &   39.36363 &   90.28419\\\\\n",
       "\tvariable29-09 weight & 1083.49789 & 1135.59389\\\\\n",
       "\tvariableweight 23-11-2020 & 1609.39229 & 1661.48830\\\\\n",
       "\tis\\_MEXPTrue &  -27.82021 &   28.32900\\\\\n",
       "\tTreatmentTRAN &  -32.65246 &   33.76850\\\\\n",
       "\tvariable29-09 weight:is\\_MEXPTrue &  -28.83063 &   39.41586\\\\\n",
       "\tvariableweight 23-11-2020:is\\_MEXPTrue &  -39.90859 &   28.33790\\\\\n",
       "\tvariable29-09 weight:TreatmentTRAN &  -42.74140 &   21.54926\\\\\n",
       "\tvariableweight 23-11-2020:TreatmentTRAN &  -53.67341 &   10.61725\\\\\n",
       "\\end{tabular}\n"
      ],
      "text/markdown": [
       "\n",
       "A matrix: 13 × 2 of type dbl\n",
       "\n",
       "| <!--/--> | 2.5 % | 97.5 % |\n",
       "|---|---|---|\n",
       "| .sig01 |   25.99224 |   46.83890 |\n",
       "| .sig02 |    0.00000 |   30.15717 |\n",
       "| .sig03 |    0.00000 |   11.27270 |\n",
       "| .sigma |   55.76451 |   67.12209 |\n",
       "| (Intercept) |   39.36363 |   90.28419 |\n",
       "| variable29-09 weight | 1083.49789 | 1135.59389 |\n",
       "| variableweight 23-11-2020 | 1609.39229 | 1661.48830 |\n",
       "| is_MEXPTrue |  -27.82021 |   28.32900 |\n",
       "| TreatmentTRAN |  -32.65246 |   33.76850 |\n",
       "| variable29-09 weight:is_MEXPTrue |  -28.83063 |   39.41586 |\n",
       "| variableweight 23-11-2020:is_MEXPTrue |  -39.90859 |   28.33790 |\n",
       "| variable29-09 weight:TreatmentTRAN |  -42.74140 |   21.54926 |\n",
       "| variableweight 23-11-2020:TreatmentTRAN |  -53.67341 |   10.61725 |\n",
       "\n"
      ],
      "text/plain": [
       "                                        2.5 %      97.5 %    \n",
       ".sig01                                    25.99224   46.83890\n",
       ".sig02                                     0.00000   30.15717\n",
       ".sig03                                     0.00000   11.27270\n",
       ".sigma                                    55.76451   67.12209\n",
       "(Intercept)                               39.36363   90.28419\n",
       "variable29-09 weight                    1083.49789 1135.59389\n",
       "variableweight 23-11-2020               1609.39229 1661.48830\n",
       "is_MEXPTrue                              -27.82021   28.32900\n",
       "TreatmentTRAN                            -32.65246   33.76850\n",
       "variable29-09 weight:is_MEXPTrue         -28.83063   39.41586\n",
       "variableweight 23-11-2020:is_MEXPTrue    -39.90859   28.33790\n",
       "variable29-09 weight:TreatmentTRAN       -42.74140   21.54926\n",
       "variableweight 23-11-2020:TreatmentTRAN  -53.67341   10.61725"
      ]
     },
     "metadata": {},
     "output_type": "display_data"
    }
   ],
   "source": [
    "confint(fit)"
   ]
  },
  {
   "cell_type": "markdown",
   "metadata": {},
   "source": [
    "# Assumptions"
   ]
  },
  {
   "cell_type": "raw",
   "metadata": {},
   "source": [
    "https://ademos.people.uic.edu/Chapter18.html"
   ]
  },
  {
   "cell_type": "code",
   "execution_count": 89,
   "metadata": {},
   "outputs": [
    {
     "data": {
      "image/png": "[encoded data removed]",
      "text/plain": [
       "plot without title"
      ]
     },
     "metadata": {
      "image/png": {
       "height": 420,
       "width": 420
      }
     },
     "output_type": "display_data"
    }
   ],
   "source": [
    "#linearity\n",
    "#jpeg(file.path(path_, paste('diagnostic_plot_linearity_',name,'.jpg', sep='')))\n",
    "plot(resid(fit), df$value)\n",
    "#dev.off()"
   ]
  },
  {
   "cell_type": "code",
   "execution_count": 90,
   "metadata": {},
   "outputs": [
    {
     "data": {
      "image/png": "[encoded data removed]",
      "text/plain": [
       "plot without title"
      ]
     },
     "metadata": {
      "image/png": {
       "height": 420,
       "width": 420
      }
     },
     "output_type": "display_data"
    }
   ],
   "source": [
    "#check homogeneity of variance\n",
    "#variance of the residuals is equal across groups\n",
    "plot(fit)"
   ]
  },
  {
   "cell_type": "code",
   "execution_count": 91,
   "metadata": {},
   "outputs": [
    {
     "data": {
      "image/png": "[encoded data removed]",
      "text/plain": [
       "Plot with title \"Normal Q-Q Plot\""
      ]
     },
     "metadata": {
      "image/png": {
       "height": 420,
       "width": 420
      }
     },
     "output_type": "display_data"
    }
   ],
   "source": [
    "#normally distributed residuals\n",
    "#qqmath(fit) #same\n",
    "qqnorm(resid(fit))"
   ]
  },
  {
   "cell_type": "code",
   "execution_count": 92,
   "metadata": {},
   "outputs": [
    {
     "data": {
      "image/png": "[encoded data removed]",
      "text/plain": [
       "plot without title"
      ]
     },
     "metadata": {
      "image/png": {
       "height": 420,
       "width": 420
      }
     },
     "output_type": "display_data"
    },
    {
     "data": {
      "text/plain": [
       "$`HenID:PenID`\n",
       "\n",
       "$PenID\n",
       "\n",
       "$variable\n"
      ]
     },
     "metadata": {},
     "output_type": "display_data"
    },
    {
     "data": {
      "image/png": "[encoded data removed]",
      "text/plain": [
       "plot without title"
      ]
     },
     "metadata": {
      "image/png": {
       "height": 420,
       "width": 420
      }
     },
     "output_type": "display_data"
    },
    {
     "data": {
      "image/png": "[encoded data removed]",
      "text/plain": [
       "plot without title"
      ]
     },
     "metadata": {
      "image/png": {
       "height": 420,
       "width": 420
      }
     },
     "output_type": "display_data"
    }
   ],
   "source": [
    "#qqplot\n",
    "qqmath(ranef(fit))"
   ]
  },
  {
   "cell_type": "code",
   "execution_count": null,
   "metadata": {},
   "outputs": [],
   "source": []
  },
  {
   "cell_type": "code",
   "execution_count": null,
   "metadata": {},
   "outputs": [],
   "source": []
  },
  {
   "cell_type": "code",
   "execution_count": null,
   "metadata": {},
   "outputs": [],
   "source": []
  },
  {
   "cell_type": "code",
   "execution_count": null,
   "metadata": {},
   "outputs": [],
   "source": []
  },
  {
   "cell_type": "code",
   "execution_count": null,
   "metadata": {},
   "outputs": [],
   "source": []
  },
  {
   "cell_type": "code",
   "execution_count": null,
   "metadata": {},
   "outputs": [],
   "source": []
  },
  {
   "cell_type": "code",
   "execution_count": null,
   "metadata": {},
   "outputs": [],
   "source": []
  },
  {
   "cell_type": "code",
   "execution_count": null,
   "metadata": {},
   "outputs": [],
   "source": []
  }
 ],
 "metadata": {
  "kernelspec": {
   "display_name": "R 4.0.3",
   "language": "R",
   "name": "ir35"
  },
  "language_info": {
   "codemirror_mode": "r",
   "file_extension": ".r",
   "mimetype": "text/x-r-source",
   "name": "R",
   "pygments_lexer": "r",
   "version": "4.0.3"
  }
 },
 "nbformat": 4,
 "nbformat_minor": 4
}
