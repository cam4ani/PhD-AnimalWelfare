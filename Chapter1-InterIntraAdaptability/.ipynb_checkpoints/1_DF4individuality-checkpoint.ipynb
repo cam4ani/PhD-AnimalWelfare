{
 "cells": [
  {
   "cell_type": "code",
   "execution_count": 1,
   "metadata": {},
   "outputs": [],
   "source": [
    "#basic package\n",
    "import os\n",
    "import numpy as np\n",
    "import pandas as pd\n",
    "import sys\n",
    "import time\n",
    "import datetime as dt\n",
    "import pickle\n",
    "\n",
    "#plot\n",
    "import matplotlib.pyplot as plt\n",
    "import seaborn as sns"
   ]
  },
  {
   "cell_type": "code",
   "execution_count": 2,
   "metadata": {},
   "outputs": [
    {
     "name": "stderr",
     "output_type": "stream",
     "text": [
      "C:\\Users\\camil\\anaconda3\\lib\\site-packages\\scipy\\sparse\\sparsetools.py:21: DeprecationWarning: `scipy.sparse.sparsetools` is deprecated!\n",
      "scipy.sparse.sparsetools is a private module for scipy.sparse, and should not be used.\n",
      "  _deprecated()\n"
     ]
    },
    {
     "name": "stdout",
     "output_type": "stream",
     "text": [
      "2\n"
     ]
    }
   ],
   "source": [
    "PACKAGE_PARENT = '../'\n",
    "SCRIPT_DIR = os.path.dirname(os.path.realpath(os.path.join(os.getcwd(), os.path.expanduser('__file__'))))\n",
    "sys.path.append(os.path.normpath(os.path.join(SCRIPT_DIR, PACKAGE_PARENT)))\n",
    "from UTILS import kmeans_clustering, sampen, chi2_distance, ts_visual, correct_key, chi2_distance, most_frequent, mssd\n",
    "import config_origins as config"
   ]
  },
  {
   "cell_type": "code",
   "execution_count": 3,
   "metadata": {
    "scrolled": true
   },
   "outputs": [
    {
     "name": "stdout",
     "output_type": "stream",
     "text": [
      "change the configuration file if not done yet!\n",
      "ALLDATA_\n"
     ]
    },
    {
     "name": "stderr",
     "output_type": "stream",
     "text": [
      "C:\\Users\\camil\\anaconda3\\lib\\site-packages\\ipykernel\\ipkernel.py:283: DeprecationWarning: `should_run_async` will not call `transform_cell` automatically in the future. Please pass the result to `transformed_cell` argument and any exception that happen during thetransform in `preprocessing_exc_tuple` in IPython 7.17 and above.\n",
      "  and should_run_async(code)\n"
     ]
    }
   ],
   "source": [
    "print('change the configuration file if not done yet!')\n",
    "path_extracted_data = config.path_extracted_data\n",
    "id_run = config.id_run\n",
    "path_extracted_data_adap = os.path.join(path_extracted_data,'Adaptability')\n",
    "print(id_run)"
   ]
  },
  {
   "cell_type": "markdown",
   "metadata": {},
   "source": [
    "# Download data"
   ]
  },
  {
   "cell_type": "code",
   "execution_count": 4,
   "metadata": {},
   "outputs": [
    {
     "name": "stdout",
     "output_type": "stream",
     "text": [
      "133\n"
     ]
    },
    {
     "name": "stderr",
     "output_type": "stream",
     "text": [
      "C:\\Users\\camil\\anaconda3\\lib\\site-packages\\ipykernel\\ipkernel.py:283: DeprecationWarning: `should_run_async` will not call `transform_cell` automatically in the future. Please pass the result to `transformed_cell` argument and any exception that happen during thetransform in `preprocessing_exc_tuple` in IPython 7.17 and above.\n",
      "  and should_run_async(code)\n"
     ]
    }
   ],
   "source": [
    "#selected animals\n",
    "li_selected_hens = pickle.load(open(os.path.join(path_extracted_data_adap, 'li_selected_hens.pkl'), 'rb'))\n",
    "print(len(li_selected_hens))"
   ]
  },
  {
   "cell_type": "code",
   "execution_count": 5,
   "metadata": {},
   "outputs": [
    {
     "name": "stderr",
     "output_type": "stream",
     "text": [
      "C:\\Users\\camil\\anaconda3\\lib\\site-packages\\ipykernel\\ipkernel.py:283: DeprecationWarning: `should_run_async` will not call `transform_cell` automatically in the future. Please pass the result to `transformed_cell` argument and any exception that happen during thetransform in `preprocessing_exc_tuple` in IPython 7.17 and above.\n",
      "  and should_run_async(code)\n"
     ]
    },
    {
     "data": {
      "text/plain": [
       "0.0    222\n",
       "1.0     10\n",
       "Name: early_death, dtype: int64"
      ]
     },
     "metadata": {},
     "output_type": "display_data"
    },
    {
     "name": "stdout",
     "output_type": "stream",
     "text": [
      "(232, 14)\n"
     ]
    },
    {
     "data": {
      "text/html": [
       "<div>\n",
       "<style scoped>\n",
       "    .dataframe tbody tr th:only-of-type {\n",
       "        vertical-align: middle;\n",
       "    }\n",
       "\n",
       "    .dataframe tbody tr th {\n",
       "        vertical-align: top;\n",
       "    }\n",
       "\n",
       "    .dataframe thead th {\n",
       "        text-align: right;\n",
       "    }\n",
       "</style>\n",
       "<table border=\"1\" class=\"dataframe\">\n",
       "  <thead>\n",
       "    <tr style=\"text-align: right;\">\n",
       "      <th></th>\n",
       "      <th>HenID</th>\n",
       "      <th>PenID</th>\n",
       "      <th>CLASS</th>\n",
       "      <th>RearingPenID</th>\n",
       "      <th>InitialStartDate</th>\n",
       "      <th>early_death</th>\n",
       "      <th>InitialWeight</th>\n",
       "      <th>10-12 juin weight</th>\n",
       "      <th>weight 23-11-2020</th>\n",
       "      <th>weight 04-01-2021</th>\n",
       "      <th>weight 01-02-21</th>\n",
       "      <th>weight 12-04-21</th>\n",
       "      <th>weight 26-07-21</th>\n",
       "      <th>Treatment</th>\n",
       "    </tr>\n",
       "  </thead>\n",
       "  <tbody>\n",
       "    <tr>\n",
       "      <th>0</th>\n",
       "      <td>hen_1</td>\n",
       "      <td>pen9</td>\n",
       "      <td>EPI</td>\n",
       "      <td>1.0</td>\n",
       "      <td>2020-06-10</td>\n",
       "      <td>0.0</td>\n",
       "      <td>1134.0</td>\n",
       "      <td>57.0</td>\n",
       "      <td>1696.5</td>\n",
       "      <td>1787.8</td>\n",
       "      <td>1800.9</td>\n",
       "      <td>NaN</td>\n",
       "      <td>NaN</td>\n",
       "      <td>OFH</td>\n",
       "    </tr>\n",
       "    <tr>\n",
       "      <th>1</th>\n",
       "      <td>hen_10</td>\n",
       "      <td>pen11</td>\n",
       "      <td>LEXP</td>\n",
       "      <td>1.0</td>\n",
       "      <td>2020-06-10</td>\n",
       "      <td>0.0</td>\n",
       "      <td>1070.0</td>\n",
       "      <td>70.4</td>\n",
       "      <td>1488.3</td>\n",
       "      <td>1628.4</td>\n",
       "      <td>1602.1</td>\n",
       "      <td>1587.2</td>\n",
       "      <td>1713.4</td>\n",
       "      <td>OFH</td>\n",
       "    </tr>\n",
       "    <tr>\n",
       "      <th>2</th>\n",
       "      <td>hen_100</td>\n",
       "      <td>pen5</td>\n",
       "      <td>EPI</td>\n",
       "      <td>3.0</td>\n",
       "      <td>2020-06-10</td>\n",
       "      <td>0.0</td>\n",
       "      <td>1182.0</td>\n",
       "      <td>80.5</td>\n",
       "      <td>1642.5</td>\n",
       "      <td>NaN</td>\n",
       "      <td>NaN</td>\n",
       "      <td>NaN</td>\n",
       "      <td>NaN</td>\n",
       "      <td>OFH</td>\n",
       "    </tr>\n",
       "  </tbody>\n",
       "</table>\n",
       "</div>"
      ],
      "text/plain": [
       "     HenID  PenID CLASS  RearingPenID InitialStartDate  early_death  \\\n",
       "0    hen_1   pen9   EPI           1.0       2020-06-10          0.0   \n",
       "1   hen_10  pen11  LEXP           1.0       2020-06-10          0.0   \n",
       "2  hen_100   pen5   EPI           3.0       2020-06-10          0.0   \n",
       "\n",
       "   InitialWeight  10-12 juin weight  weight 23-11-2020  weight 04-01-2021  \\\n",
       "0         1134.0               57.0             1696.5             1787.8   \n",
       "1         1070.0               70.4             1488.3             1628.4   \n",
       "2         1182.0               80.5             1642.5                NaN   \n",
       "\n",
       "   weight 01-02-21  weight 12-04-21  weight 26-07-21 Treatment  \n",
       "0           1800.9              NaN              NaN       OFH  \n",
       "1           1602.1           1587.2           1713.4       OFH  \n",
       "2              NaN              NaN              NaN       OFH  "
      ]
     },
     "execution_count": 5,
     "metadata": {},
     "output_type": "execute_result"
    }
   ],
   "source": [
    "#focal birds info to control for initial weight and rearingPenID\n",
    "df_FB = pd.read_csv(os.path.join(config.path_extracted_data, id_run+'df_FOCALBIRDS.csv'), sep=';')\n",
    "df_FB['early_death'] = df_FB['early_death'].fillna(0).replace(2,1) #2 means not sure\n",
    "df_FB.rename(columns={'29-09 weight':'InitialWeight','R-Pen':'RearingPenID'}, inplace=True)\n",
    "display(df_FB['early_death'].value_counts())\n",
    "print(df_FB.shape)\n",
    "df_FB.head(3)"
   ]
  },
  {
   "cell_type": "code",
   "execution_count": 6,
   "metadata": {},
   "outputs": [
    {
     "name": "stderr",
     "output_type": "stream",
     "text": [
      "C:\\Users\\camil\\anaconda3\\lib\\site-packages\\ipykernel\\ipkernel.py:283: DeprecationWarning: `should_run_async` will not call `transform_cell` automatically in the future. Please pass the result to `transformed_cell` argument and any exception that happen during thetransform in `preprocessing_exc_tuple` in IPython 7.17 and above.\n",
      "  and should_run_async(code)\n"
     ]
    },
    {
     "name": "stdout",
     "output_type": "stream",
     "text": [
      "(42300, 63)\n"
     ]
    },
    {
     "data": {
      "text/plain": [
       "Other    3246\n",
       "MEXP     1673\n",
       "LEXP     1304\n",
       "Name: CLASS, dtype: int64"
      ]
     },
     "metadata": {},
     "output_type": "display_data"
    },
    {
     "name": "stdout",
     "output_type": "stream",
     "text": [
      "(6223, 63)\n"
     ]
    },
    {
     "data": {
      "text/html": [
       "<div>\n",
       "<style scoped>\n",
       "    .dataframe tbody tr th:only-of-type {\n",
       "        vertical-align: middle;\n",
       "    }\n",
       "\n",
       "    .dataframe tbody tr th {\n",
       "        vertical-align: top;\n",
       "    }\n",
       "\n",
       "    .dataframe thead th {\n",
       "        text-align: right;\n",
       "    }\n",
       "</style>\n",
       "<table border=\"1\" class=\"dataframe\">\n",
       "  <thead>\n",
       "    <tr style=\"text-align: right;\">\n",
       "      <th></th>\n",
       "      <th>HenID</th>\n",
       "      <th>PenID</th>\n",
       "      <th>CLASS</th>\n",
       "      <th>TagID</th>\n",
       "      <th>FocalLegringName</th>\n",
       "      <th>R-Pen</th>\n",
       "      <th>InitialStartDate</th>\n",
       "      <th>Treatment</th>\n",
       "      <th>level</th>\n",
       "      <th>DIB</th>\n",
       "      <th>...</th>\n",
       "      <th>percChaoticTransition</th>\n",
       "      <th>night_Max_duration_zones</th>\n",
       "      <th>is_mvt_night</th>\n",
       "      <th>empproba_3_Zone</th>\n",
       "      <th>empproba_4_Zone</th>\n",
       "      <th>empproba_2_Zone</th>\n",
       "      <th>in_WG_15mnAfterOpening</th>\n",
       "      <th>Max_duration_WG_h</th>\n",
       "      <th>perc_1_Zone_while_WG_open</th>\n",
       "      <th>SleepingHeight</th>\n",
       "    </tr>\n",
       "  </thead>\n",
       "  <tbody>\n",
       "    <tr>\n",
       "      <th>3</th>\n",
       "      <td>hen_131</td>\n",
       "      <td>pen10</td>\n",
       "      <td>Other</td>\n",
       "      <td>tag_128</td>\n",
       "      <td>19black</td>\n",
       "      <td>4.0</td>\n",
       "      <td>2020-06-10 00:00:00</td>\n",
       "      <td>TRAN</td>\n",
       "      <td>2020-09-30</td>\n",
       "      <td>1</td>\n",
       "      <td>...</td>\n",
       "      <td>0.0</td>\n",
       "      <td>5_Zone</td>\n",
       "      <td>1.0</td>\n",
       "      <td>0.000000</td>\n",
       "      <td>0.000000</td>\n",
       "      <td>100.0</td>\n",
       "      <td>NaN</td>\n",
       "      <td>NaN</td>\n",
       "      <td>NaN</td>\n",
       "      <td>5</td>\n",
       "    </tr>\n",
       "    <tr>\n",
       "      <th>4</th>\n",
       "      <td>hen_131</td>\n",
       "      <td>pen10</td>\n",
       "      <td>Other</td>\n",
       "      <td>tag_128</td>\n",
       "      <td>19black</td>\n",
       "      <td>4.0</td>\n",
       "      <td>2020-06-10 00:00:00</td>\n",
       "      <td>TRAN</td>\n",
       "      <td>2020-10-01</td>\n",
       "      <td>2</td>\n",
       "      <td>...</td>\n",
       "      <td>0.0</td>\n",
       "      <td>3_Zone</td>\n",
       "      <td>1.0</td>\n",
       "      <td>33.333333</td>\n",
       "      <td>50.000000</td>\n",
       "      <td>100.0</td>\n",
       "      <td>NaN</td>\n",
       "      <td>NaN</td>\n",
       "      <td>NaN</td>\n",
       "      <td>3</td>\n",
       "    </tr>\n",
       "    <tr>\n",
       "      <th>5</th>\n",
       "      <td>hen_131</td>\n",
       "      <td>pen10</td>\n",
       "      <td>Other</td>\n",
       "      <td>tag_128</td>\n",
       "      <td>19black</td>\n",
       "      <td>4.0</td>\n",
       "      <td>2020-06-10 00:00:00</td>\n",
       "      <td>TRAN</td>\n",
       "      <td>2020-10-02</td>\n",
       "      <td>3</td>\n",
       "      <td>...</td>\n",
       "      <td>8.0</td>\n",
       "      <td>5_Zone</td>\n",
       "      <td>0.0</td>\n",
       "      <td>33.333333</td>\n",
       "      <td>66.666667</td>\n",
       "      <td>100.0</td>\n",
       "      <td>NaN</td>\n",
       "      <td>NaN</td>\n",
       "      <td>NaN</td>\n",
       "      <td>5</td>\n",
       "    </tr>\n",
       "  </tbody>\n",
       "</table>\n",
       "<p>3 rows × 63 columns</p>\n",
       "</div>"
      ],
      "text/plain": [
       "     HenID  PenID  CLASS    TagID FocalLegringName  R-Pen  \\\n",
       "3  hen_131  pen10  Other  tag_128          19black    4.0   \n",
       "4  hen_131  pen10  Other  tag_128          19black    4.0   \n",
       "5  hen_131  pen10  Other  tag_128          19black    4.0   \n",
       "\n",
       "      InitialStartDate Treatment      level  DIB  ...  percChaoticTransition  \\\n",
       "3  2020-06-10 00:00:00      TRAN 2020-09-30    1  ...                    0.0   \n",
       "4  2020-06-10 00:00:00      TRAN 2020-10-01    2  ...                    0.0   \n",
       "5  2020-06-10 00:00:00      TRAN 2020-10-02    3  ...                    8.0   \n",
       "\n",
       "   night_Max_duration_zones  is_mvt_night  empproba_3_Zone empproba_4_Zone  \\\n",
       "3                    5_Zone           1.0         0.000000        0.000000   \n",
       "4                    3_Zone           1.0        33.333333       50.000000   \n",
       "5                    5_Zone           0.0        33.333333       66.666667   \n",
       "\n",
       "   empproba_2_Zone  in_WG_15mnAfterOpening  Max_duration_WG_h  \\\n",
       "3            100.0                     NaN                NaN   \n",
       "4            100.0                     NaN                NaN   \n",
       "5            100.0                     NaN                NaN   \n",
       "\n",
       "   perc_1_Zone_while_WG_open  SleepingHeight  \n",
       "3                        NaN               5  \n",
       "4                        NaN               3  \n",
       "5                        NaN               5  \n",
       "\n",
       "[3 rows x 63 columns]"
      ]
     },
     "execution_count": 6,
     "metadata": {},
     "output_type": "execute_result"
    }
   ],
   "source": [
    "#daily movement variables\n",
    "df_MVT_ALL = pd.read_csv(os.path.join(path_extracted_data, id_run+'_daily_ALL_variables_verified.csv'), sep=';', \n",
    "                     parse_dates=['level'], dayfirst=True) \n",
    "print(df_MVT_ALL.shape)\n",
    "df_MVT_ALL = df_MVT_ALL[df_MVT_ALL['HenID'].isin(li_selected_hens)]\n",
    "#restrict to the adaptability study timeframe\n",
    "df_MVT_ALL = df_MVT_ALL[df_MVT_ALL['level']<=config.max_date_adaptability]\n",
    "dico_cl = {'EPI':'Other','MEXP':'MEXP','LEXP':'LEXP','LEXPLOST':'Other','MEXPLOST':'Other'}\n",
    "df_MVT_ALL['CLASS'] = df_MVT_ALL['CLASS'].map(lambda x: dico_cl[x])\n",
    "display(df_MVT_ALL['CLASS'].value_counts())\n",
    "#make sure we have their mvt\n",
    "df_MVT_ALL = df_MVT_ALL[~df_MVT_ALL['perc_duration_5_Zone'].isnull()]\n",
    "print(df_MVT_ALL.shape)\n",
    "df_MVT_ALL.head(3)"
   ]
  },
  {
   "cell_type": "code",
   "execution_count": 7,
   "metadata": {},
   "outputs": [
    {
     "name": "stdout",
     "output_type": "stream",
     "text": [
      "(7293, 13)\n"
     ]
    },
    {
     "name": "stderr",
     "output_type": "stream",
     "text": [
      "C:\\Users\\camil\\anaconda3\\lib\\site-packages\\ipykernel\\ipkernel.py:283: DeprecationWarning: `should_run_async` will not call `transform_cell` automatically in the future. Please pass the result to `transformed_cell` argument and any exception that happen during thetransform in `preprocessing_exc_tuple` in IPython 7.17 and above.\n",
      "  and should_run_async(code)\n"
     ]
    },
    {
     "data": {
      "text/html": [
       "<div>\n",
       "<style scoped>\n",
       "    .dataframe tbody tr th:only-of-type {\n",
       "        vertical-align: middle;\n",
       "    }\n",
       "\n",
       "    .dataframe tbody tr th {\n",
       "        vertical-align: top;\n",
       "    }\n",
       "\n",
       "    .dataframe thead th {\n",
       "        text-align: right;\n",
       "    }\n",
       "</style>\n",
       "<table border=\"1\" class=\"dataframe\">\n",
       "  <thead>\n",
       "    <tr style=\"text-align: right;\">\n",
       "      <th></th>\n",
       "      <th>Timestamp</th>\n",
       "      <th>temperature</th>\n",
       "      <th>humidity</th>\n",
       "      <th>wind speed</th>\n",
       "      <th>Precipitation amount</th>\n",
       "      <th>query</th>\n",
       "      <th>Moon Phase calculator</th>\n",
       "      <th>hour</th>\n",
       "      <th>temperature_C</th>\n",
       "      <th>wind_speed_mpers</th>\n",
       "      <th>humidity_avgpercent</th>\n",
       "      <th>rain</th>\n",
       "      <th>Timestamp_weather</th>\n",
       "    </tr>\n",
       "  </thead>\n",
       "  <tbody>\n",
       "    <tr>\n",
       "      <th>0</th>\n",
       "      <td>2020-09-29 00:00:00</td>\n",
       "      <td>10 °C\\n(12:00 am CEST | Tuesday, September 29,...</td>\n",
       "      <td>average: 100% (100%)\\n(12:00 am CEST | Tuesday...</td>\n",
       "      <td>2 m/s\\n(12:00 am CEST | Tuesday, September 29,...</td>\n",
       "      <td>rain\\n(12:00 am CEST | Tuesday, September 29, ...</td>\n",
       "      <td>Moon Phase calculatorSeptember 29, 2020 0h</td>\n",
       "      <td>| waxing gibbous moon\\n91.87% illuminated</td>\n",
       "      <td>0</td>\n",
       "      <td>10</td>\n",
       "      <td>2</td>\n",
       "      <td>100</td>\n",
       "      <td>rain</td>\n",
       "      <td>2020-09-29 00:00:00</td>\n",
       "    </tr>\n",
       "    <tr>\n",
       "      <th>1</th>\n",
       "      <td>2020-09-29 01:00:00</td>\n",
       "      <td>10 °C\\n(1:00 am CEST | Tuesday, September 29, ...</td>\n",
       "      <td>average: 100% (100%)\\n(1:00 am CEST | Tuesday,...</td>\n",
       "      <td>3 m/s\\n(1:00 am CEST | Tuesday, September 29, ...</td>\n",
       "      <td>rain\\n(1:00 am CEST | Tuesday, September 29, 2...</td>\n",
       "      <td>Moon Phase calculatorSeptember 29, 2020 1h</td>\n",
       "      <td>| waxing gibbous moon\\n92.09% illuminated</td>\n",
       "      <td>1</td>\n",
       "      <td>10</td>\n",
       "      <td>3</td>\n",
       "      <td>100</td>\n",
       "      <td>rain</td>\n",
       "      <td>2020-09-29 01:00:00</td>\n",
       "    </tr>\n",
       "    <tr>\n",
       "      <th>2</th>\n",
       "      <td>2020-09-29 02:00:00</td>\n",
       "      <td>10 °C\\n(2:00 am CEST | Tuesday, September 29, ...</td>\n",
       "      <td>average: 100% (100%)\\n(2:00 am CEST | Tuesday,...</td>\n",
       "      <td>3 m/s\\n(2:00 am CEST | Tuesday, September 29, ...</td>\n",
       "      <td>rain\\n(2:00 am CEST | Tuesday, September 29, 2...</td>\n",
       "      <td>Moon Phase calculatorSeptember 29, 2020 2h</td>\n",
       "      <td>| waxing gibbous moon\\n92.30% illuminated</td>\n",
       "      <td>2</td>\n",
       "      <td>10</td>\n",
       "      <td>3</td>\n",
       "      <td>100</td>\n",
       "      <td>rain</td>\n",
       "      <td>2020-09-29 02:00:00</td>\n",
       "    </tr>\n",
       "  </tbody>\n",
       "</table>\n",
       "</div>"
      ],
      "text/plain": [
       "            Timestamp                                        temperature  \\\n",
       "0 2020-09-29 00:00:00  10 °C\\n(12:00 am CEST | Tuesday, September 29,...   \n",
       "1 2020-09-29 01:00:00  10 °C\\n(1:00 am CEST | Tuesday, September 29, ...   \n",
       "2 2020-09-29 02:00:00  10 °C\\n(2:00 am CEST | Tuesday, September 29, ...   \n",
       "\n",
       "                                            humidity  \\\n",
       "0  average: 100% (100%)\\n(12:00 am CEST | Tuesday...   \n",
       "1  average: 100% (100%)\\n(1:00 am CEST | Tuesday,...   \n",
       "2  average: 100% (100%)\\n(2:00 am CEST | Tuesday,...   \n",
       "\n",
       "                                          wind speed  \\\n",
       "0  2 m/s\\n(12:00 am CEST | Tuesday, September 29,...   \n",
       "1  3 m/s\\n(1:00 am CEST | Tuesday, September 29, ...   \n",
       "2  3 m/s\\n(2:00 am CEST | Tuesday, September 29, ...   \n",
       "\n",
       "                                Precipitation amount  \\\n",
       "0  rain\\n(12:00 am CEST | Tuesday, September 29, ...   \n",
       "1  rain\\n(1:00 am CEST | Tuesday, September 29, 2...   \n",
       "2  rain\\n(2:00 am CEST | Tuesday, September 29, 2...   \n",
       "\n",
       "                                        query  \\\n",
       "0  Moon Phase calculatorSeptember 29, 2020 0h   \n",
       "1  Moon Phase calculatorSeptember 29, 2020 1h   \n",
       "2  Moon Phase calculatorSeptember 29, 2020 2h   \n",
       "\n",
       "                       Moon Phase calculator  hour  temperature_C  \\\n",
       "0  | waxing gibbous moon\\n91.87% illuminated     0             10   \n",
       "1  | waxing gibbous moon\\n92.09% illuminated     1             10   \n",
       "2  | waxing gibbous moon\\n92.30% illuminated     2             10   \n",
       "\n",
       "   wind_speed_mpers  humidity_avgpercent  rain   Timestamp_weather  \n",
       "0                 2                  100  rain 2020-09-29 00:00:00  \n",
       "1                 3                  100  rain 2020-09-29 01:00:00  \n",
       "2                 3                  100  rain 2020-09-29 02:00:00  "
      ]
     },
     "metadata": {},
     "output_type": "display_data"
    }
   ],
   "source": [
    "#weather conditions\n",
    "path_weather = os.path.join(r'C:\\Users\\camil\\Desktop\\vm_exchange\\PhD_Data\\Weather','Weather_process.csv')\n",
    "df_weather_h = pd.read_csv(path_weather, sep=';', parse_dates=['date','Timestamp'])\n",
    "df_weather_h = df_weather_h.sort_values('Timestamp') \n",
    "df_weather_h = df_weather_h.drop(['date'], axis=1)\n",
    "df_weather_h['Timestamp_weather'] = df_weather_h['Timestamp'].copy()\n",
    "print(df_weather_h.shape)\n",
    "display(df_weather_h.head(3))"
   ]
  },
  {
   "cell_type": "markdown",
   "metadata": {},
   "source": [
    "# Add external temperature as environemntal factor"
   ]
  },
  {
   "cell_type": "code",
   "execution_count": 8,
   "metadata": {},
   "outputs": [
    {
     "name": "stderr",
     "output_type": "stream",
     "text": [
      "C:\\Users\\camil\\anaconda3\\lib\\site-packages\\ipykernel\\ipkernel.py:283: DeprecationWarning: `should_run_async` will not call `transform_cell` automatically in the future. Please pass the result to `transformed_cell` argument and any exception that happen during thetransform in `preprocessing_exc_tuple` in IPython 7.17 and above.\n",
      "  and should_run_async(code)\n"
     ]
    },
    {
     "data": {
      "text/html": [
       "<div>\n",
       "<style scoped>\n",
       "    .dataframe tbody tr th:only-of-type {\n",
       "        vertical-align: middle;\n",
       "    }\n",
       "\n",
       "    .dataframe tbody tr th {\n",
       "        vertical-align: top;\n",
       "    }\n",
       "\n",
       "    .dataframe thead th {\n",
       "        text-align: right;\n",
       "    }\n",
       "</style>\n",
       "<table border=\"1\" class=\"dataframe\">\n",
       "  <thead>\n",
       "    <tr style=\"text-align: right;\">\n",
       "      <th></th>\n",
       "      <th>date</th>\n",
       "      <th>temperature_C</th>\n",
       "      <th>temperature_C_avg</th>\n",
       "    </tr>\n",
       "  </thead>\n",
       "  <tbody>\n",
       "    <tr>\n",
       "      <th>0</th>\n",
       "      <td>2020-09-29</td>\n",
       "      <td>[11, 12, 12, 12, 12, 13]</td>\n",
       "      <td>12.0</td>\n",
       "    </tr>\n",
       "    <tr>\n",
       "      <th>1</th>\n",
       "      <td>2020-09-30</td>\n",
       "      <td>[10, 11, 13, 13, 14, 14]</td>\n",
       "      <td>12.5</td>\n",
       "    </tr>\n",
       "    <tr>\n",
       "      <th>2</th>\n",
       "      <td>2020-10-01</td>\n",
       "      <td>[13, 15, 15, 15, 15, 14]</td>\n",
       "      <td>14.5</td>\n",
       "    </tr>\n",
       "  </tbody>\n",
       "</table>\n",
       "</div>"
      ],
      "text/plain": [
       "         date             temperature_C  temperature_C_avg\n",
       "0  2020-09-29  [11, 12, 12, 12, 12, 13]               12.0\n",
       "1  2020-09-30  [10, 11, 13, 13, 14, 14]               12.5\n",
       "2  2020-10-01  [13, 15, 15, 15, 15, 14]               14.5"
      ]
     },
     "execution_count": 8,
     "metadata": {},
     "output_type": "execute_result"
    }
   ],
   "source": [
    "#check variation over the day... exist very much\n",
    "df_weather_h['date'] = df_weather_h['Timestamp'].map(lambda x: dt.datetime.date(x))\n",
    "df_wday = df_weather_h[df_weather_h['hour'].isin([11,12,13,14,15,16])].groupby(['date'])['temperature_C'].agg(lambda x: list(x)).reset_index()\n",
    "df_wday['temperature_C_avg'] = df_wday['temperature_C'].map(lambda x: np.mean(x))\n",
    "df_wday.head(3)"
   ]
  },
  {
   "cell_type": "code",
   "execution_count": 9,
   "metadata": {},
   "outputs": [
    {
     "name": "stdout",
     "output_type": "stream",
     "text": [
      "(6223, 63)\n",
      "(6223, 66)\n"
     ]
    },
    {
     "name": "stderr",
     "output_type": "stream",
     "text": [
      "C:\\Users\\camil\\anaconda3\\lib\\site-packages\\ipykernel\\ipkernel.py:283: DeprecationWarning: `should_run_async` will not call `transform_cell` automatically in the future. Please pass the result to `transformed_cell` argument and any exception that happen during thetransform in `preprocessing_exc_tuple` in IPython 7.17 and above.\n",
      "  and should_run_async(code)\n"
     ]
    },
    {
     "data": {
      "text/html": [
       "<div>\n",
       "<style scoped>\n",
       "    .dataframe tbody tr th:only-of-type {\n",
       "        vertical-align: middle;\n",
       "    }\n",
       "\n",
       "    .dataframe tbody tr th {\n",
       "        vertical-align: top;\n",
       "    }\n",
       "\n",
       "    .dataframe thead th {\n",
       "        text-align: right;\n",
       "    }\n",
       "</style>\n",
       "<table border=\"1\" class=\"dataframe\">\n",
       "  <thead>\n",
       "    <tr style=\"text-align: right;\">\n",
       "      <th></th>\n",
       "      <th>HenID</th>\n",
       "      <th>PenID</th>\n",
       "      <th>CLASS</th>\n",
       "      <th>TagID</th>\n",
       "      <th>FocalLegringName</th>\n",
       "      <th>R-Pen</th>\n",
       "      <th>InitialStartDate</th>\n",
       "      <th>Treatment</th>\n",
       "      <th>level</th>\n",
       "      <th>DIB</th>\n",
       "      <th>...</th>\n",
       "      <th>empproba_3_Zone</th>\n",
       "      <th>empproba_4_Zone</th>\n",
       "      <th>empproba_2_Zone</th>\n",
       "      <th>in_WG_15mnAfterOpening</th>\n",
       "      <th>Max_duration_WG_h</th>\n",
       "      <th>perc_1_Zone_while_WG_open</th>\n",
       "      <th>SleepingHeight</th>\n",
       "      <th>date</th>\n",
       "      <th>temperature_C</th>\n",
       "      <th>temperature_C_avg</th>\n",
       "    </tr>\n",
       "  </thead>\n",
       "  <tbody>\n",
       "    <tr>\n",
       "      <th>0</th>\n",
       "      <td>hen_131</td>\n",
       "      <td>pen10</td>\n",
       "      <td>Other</td>\n",
       "      <td>tag_128</td>\n",
       "      <td>19black</td>\n",
       "      <td>4.0</td>\n",
       "      <td>2020-06-10 00:00:00</td>\n",
       "      <td>TRAN</td>\n",
       "      <td>2020-09-30</td>\n",
       "      <td>1</td>\n",
       "      <td>...</td>\n",
       "      <td>0.000000</td>\n",
       "      <td>0.0</td>\n",
       "      <td>100.0</td>\n",
       "      <td>NaN</td>\n",
       "      <td>NaN</td>\n",
       "      <td>NaN</td>\n",
       "      <td>5</td>\n",
       "      <td>2020-09-30</td>\n",
       "      <td>[10, 11, 13, 13, 14, 14]</td>\n",
       "      <td>12.5</td>\n",
       "    </tr>\n",
       "    <tr>\n",
       "      <th>1</th>\n",
       "      <td>hen_131</td>\n",
       "      <td>pen10</td>\n",
       "      <td>Other</td>\n",
       "      <td>tag_128</td>\n",
       "      <td>19black</td>\n",
       "      <td>4.0</td>\n",
       "      <td>2020-06-10 00:00:00</td>\n",
       "      <td>TRAN</td>\n",
       "      <td>2020-10-01</td>\n",
       "      <td>2</td>\n",
       "      <td>...</td>\n",
       "      <td>33.333333</td>\n",
       "      <td>50.0</td>\n",
       "      <td>100.0</td>\n",
       "      <td>NaN</td>\n",
       "      <td>NaN</td>\n",
       "      <td>NaN</td>\n",
       "      <td>3</td>\n",
       "      <td>2020-10-01</td>\n",
       "      <td>[13, 15, 15, 15, 15, 14]</td>\n",
       "      <td>14.5</td>\n",
       "    </tr>\n",
       "  </tbody>\n",
       "</table>\n",
       "<p>2 rows × 66 columns</p>\n",
       "</div>"
      ],
      "text/plain": [
       "     HenID  PenID  CLASS    TagID FocalLegringName  R-Pen  \\\n",
       "0  hen_131  pen10  Other  tag_128          19black    4.0   \n",
       "1  hen_131  pen10  Other  tag_128          19black    4.0   \n",
       "\n",
       "      InitialStartDate Treatment      level  DIB  ...  empproba_3_Zone  \\\n",
       "0  2020-06-10 00:00:00      TRAN 2020-09-30    1  ...         0.000000   \n",
       "1  2020-06-10 00:00:00      TRAN 2020-10-01    2  ...        33.333333   \n",
       "\n",
       "   empproba_4_Zone  empproba_2_Zone  in_WG_15mnAfterOpening Max_duration_WG_h  \\\n",
       "0              0.0            100.0                     NaN               NaN   \n",
       "1             50.0            100.0                     NaN               NaN   \n",
       "\n",
       "   perc_1_Zone_while_WG_open  SleepingHeight        date  \\\n",
       "0                        NaN               5  2020-09-30   \n",
       "1                        NaN               3  2020-10-01   \n",
       "\n",
       "              temperature_C  temperature_C_avg  \n",
       "0  [10, 11, 13, 13, 14, 14]               12.5  \n",
       "1  [13, 15, 15, 15, 15, 14]               14.5  \n",
       "\n",
       "[2 rows x 66 columns]"
      ]
     },
     "execution_count": 9,
     "metadata": {},
     "output_type": "execute_result"
    }
   ],
   "source": [
    "print(df_MVT_ALL.shape)\n",
    "df_MVT_ALL['date'] = df_MVT_ALL['level'].map(lambda x: dt.datetime.date(x))\n",
    "df_MVT_ALL = pd.merge(df_MVT_ALL, df_wday, on='date', how='left')\n",
    "print(df_MVT_ALL.shape)\n",
    "df_MVT_ALL.head(2)"
   ]
  },
  {
   "cell_type": "markdown",
   "metadata": {},
   "source": [
    "# Add initial conditions (weight, rearingpenID)"
   ]
  },
  {
   "cell_type": "code",
   "execution_count": 10,
   "metadata": {},
   "outputs": [
    {
     "name": "stdout",
     "output_type": "stream",
     "text": [
      "(6223, 66)\n",
      "(6223, 68)\n"
     ]
    },
    {
     "name": "stderr",
     "output_type": "stream",
     "text": [
      "C:\\Users\\camil\\anaconda3\\lib\\site-packages\\ipykernel\\ipkernel.py:283: DeprecationWarning: `should_run_async` will not call `transform_cell` automatically in the future. Please pass the result to `transformed_cell` argument and any exception that happen during thetransform in `preprocessing_exc_tuple` in IPython 7.17 and above.\n",
      "  and should_run_async(code)\n"
     ]
    },
    {
     "data": {
      "text/html": [
       "<div>\n",
       "<style scoped>\n",
       "    .dataframe tbody tr th:only-of-type {\n",
       "        vertical-align: middle;\n",
       "    }\n",
       "\n",
       "    .dataframe tbody tr th {\n",
       "        vertical-align: top;\n",
       "    }\n",
       "\n",
       "    .dataframe thead th {\n",
       "        text-align: right;\n",
       "    }\n",
       "</style>\n",
       "<table border=\"1\" class=\"dataframe\">\n",
       "  <thead>\n",
       "    <tr style=\"text-align: right;\">\n",
       "      <th></th>\n",
       "      <th>HenID</th>\n",
       "      <th>PenID</th>\n",
       "      <th>CLASS</th>\n",
       "      <th>TagID</th>\n",
       "      <th>FocalLegringName</th>\n",
       "      <th>R-Pen</th>\n",
       "      <th>InitialStartDate</th>\n",
       "      <th>Treatment</th>\n",
       "      <th>level</th>\n",
       "      <th>DIB</th>\n",
       "      <th>...</th>\n",
       "      <th>empproba_2_Zone</th>\n",
       "      <th>in_WG_15mnAfterOpening</th>\n",
       "      <th>Max_duration_WG_h</th>\n",
       "      <th>perc_1_Zone_while_WG_open</th>\n",
       "      <th>SleepingHeight</th>\n",
       "      <th>date</th>\n",
       "      <th>temperature_C</th>\n",
       "      <th>temperature_C_avg</th>\n",
       "      <th>RearingPenID</th>\n",
       "      <th>InitialWeight</th>\n",
       "    </tr>\n",
       "  </thead>\n",
       "  <tbody>\n",
       "    <tr>\n",
       "      <th>0</th>\n",
       "      <td>hen_131</td>\n",
       "      <td>pen10</td>\n",
       "      <td>Other</td>\n",
       "      <td>tag_128</td>\n",
       "      <td>19black</td>\n",
       "      <td>4.0</td>\n",
       "      <td>2020-06-10 00:00:00</td>\n",
       "      <td>TRAN</td>\n",
       "      <td>2020-09-30</td>\n",
       "      <td>1</td>\n",
       "      <td>...</td>\n",
       "      <td>100.0</td>\n",
       "      <td>NaN</td>\n",
       "      <td>NaN</td>\n",
       "      <td>NaN</td>\n",
       "      <td>5</td>\n",
       "      <td>2020-09-30</td>\n",
       "      <td>[10, 11, 13, 13, 14, 14]</td>\n",
       "      <td>12.5</td>\n",
       "      <td>4.0</td>\n",
       "      <td>1202.0</td>\n",
       "    </tr>\n",
       "    <tr>\n",
       "      <th>1</th>\n",
       "      <td>hen_131</td>\n",
       "      <td>pen10</td>\n",
       "      <td>Other</td>\n",
       "      <td>tag_128</td>\n",
       "      <td>19black</td>\n",
       "      <td>4.0</td>\n",
       "      <td>2020-06-10 00:00:00</td>\n",
       "      <td>TRAN</td>\n",
       "      <td>2020-10-01</td>\n",
       "      <td>2</td>\n",
       "      <td>...</td>\n",
       "      <td>100.0</td>\n",
       "      <td>NaN</td>\n",
       "      <td>NaN</td>\n",
       "      <td>NaN</td>\n",
       "      <td>3</td>\n",
       "      <td>2020-10-01</td>\n",
       "      <td>[13, 15, 15, 15, 15, 14]</td>\n",
       "      <td>14.5</td>\n",
       "      <td>4.0</td>\n",
       "      <td>1202.0</td>\n",
       "    </tr>\n",
       "  </tbody>\n",
       "</table>\n",
       "<p>2 rows × 68 columns</p>\n",
       "</div>"
      ],
      "text/plain": [
       "     HenID  PenID  CLASS    TagID FocalLegringName  R-Pen  \\\n",
       "0  hen_131  pen10  Other  tag_128          19black    4.0   \n",
       "1  hen_131  pen10  Other  tag_128          19black    4.0   \n",
       "\n",
       "      InitialStartDate Treatment      level  DIB  ...  empproba_2_Zone  \\\n",
       "0  2020-06-10 00:00:00      TRAN 2020-09-30    1  ...            100.0   \n",
       "1  2020-06-10 00:00:00      TRAN 2020-10-01    2  ...            100.0   \n",
       "\n",
       "   in_WG_15mnAfterOpening  Max_duration_WG_h  perc_1_Zone_while_WG_open  \\\n",
       "0                     NaN                NaN                        NaN   \n",
       "1                     NaN                NaN                        NaN   \n",
       "\n",
       "  SleepingHeight        date             temperature_C  temperature_C_avg  \\\n",
       "0              5  2020-09-30  [10, 11, 13, 13, 14, 14]               12.5   \n",
       "1              3  2020-10-01  [13, 15, 15, 15, 15, 14]               14.5   \n",
       "\n",
       "   RearingPenID  InitialWeight  \n",
       "0           4.0         1202.0  \n",
       "1           4.0         1202.0  \n",
       "\n",
       "[2 rows x 68 columns]"
      ]
     },
     "execution_count": 10,
     "metadata": {},
     "output_type": "execute_result"
    }
   ],
   "source": [
    "print(df_MVT_ALL.shape)\n",
    "df_MVT_ALL = pd.merge(df_MVT_ALL, df_FB[['HenID','RearingPenID','InitialWeight']], on='HenID', how='left')\n",
    "print(df_MVT_ALL.shape)\n",
    "df_MVT_ALL.head(2)"
   ]
  },
  {
   "cell_type": "markdown",
   "metadata": {},
   "source": [
    "# Select only needed variable and days & save"
   ]
  },
  {
   "cell_type": "code",
   "execution_count": 11,
   "metadata": {},
   "outputs": [
    {
     "name": "stdout",
     "output_type": "stream",
     "text": [
      "(6223, 68)\n"
     ]
    },
    {
     "name": "stderr",
     "output_type": "stream",
     "text": [
      "C:\\Users\\camil\\anaconda3\\lib\\site-packages\\ipykernel\\ipkernel.py:283: DeprecationWarning: `should_run_async` will not call `transform_cell` automatically in the future. Please pass the result to `transformed_cell` argument and any exception that happen during thetransform in `preprocessing_exc_tuple` in IPython 7.17 and above.\n",
      "  and should_run_async(code)\n"
     ]
    },
    {
     "data": {
      "text/plain": [
       "(5361, 68)"
      ]
     },
     "execution_count": 11,
     "metadata": {},
     "output_type": "execute_result"
    }
   ],
   "source": [
    "#ONLW since WG open to compare apples with apples\n",
    "print(df_MVT_ALL.shape)\n",
    "df_MVT = df_MVT_ALL[df_MVT_ALL['level']>=config.date_first_opening_WG]\n",
    "df_MVT.shape"
   ]
  },
  {
   "cell_type": "code",
   "execution_count": 12,
   "metadata": {},
   "outputs": [
    {
     "name": "stderr",
     "output_type": "stream",
     "text": [
      "C:\\Users\\camil\\anaconda3\\lib\\site-packages\\ipykernel\\ipkernel.py:283: DeprecationWarning: `should_run_async` will not call `transform_cell` automatically in the future. Please pass the result to `transformed_cell` argument and any exception that happen during thetransform in `preprocessing_exc_tuple` in IPython 7.17 and above.\n",
      "  and should_run_async(code)\n"
     ]
    },
    {
     "name": "stdout",
     "output_type": "stream",
     "text": [
      "(928, 3)\n"
     ]
    },
    {
     "name": "stderr",
     "output_type": "stream",
     "text": [
      "<ipython-input-12-4b1cd8ba3b89>:5: SettingWithCopyWarning: \n",
      "A value is trying to be set on a copy of a slice from a DataFrame.\n",
      "Try using .loc[row_indexer,col_indexer] = value instead\n",
      "\n",
      "See the caveats in the documentation: https://pandas.pydata.org/pandas-docs/stable/user_guide/indexing.html#returning-a-view-versus-a-copy\n",
      "  df_MVT['tobeusedPCA'] = df_MVT.apply(lambda x: int(df_4pca[(df_4pca['HenID']==x['HenID'])&\\\n"
     ]
    },
    {
     "data": {
      "text/plain": [
       "0    4433\n",
       "1     928\n",
       "Name: tobeusedPCA, dtype: int64"
      ]
     },
     "metadata": {},
     "output_type": "display_data"
    }
   ],
   "source": [
    "#df to do PCA on first observation per week per bird \n",
    "df_4pca = df_MVT.groupby(['WIB','HenID'])['DIB'].agg(lambda x: min(list(x))).reset_index()\n",
    "print(df_4pca.shape)\n",
    "df_4pca.head(3)\n",
    "df_MVT['tobeusedPCA'] = df_MVT.apply(lambda x: int(df_4pca[(df_4pca['HenID']==x['HenID'])&\\\n",
    "                                                       (df_4pca['WIB']==x['WIB'])]['DIB'].values[0]==x['DIB']), axis=1)\n",
    "display(df_MVT['tobeusedPCA'].value_counts())\n",
    "#small verification: only one value per animal per week\n",
    "#df_MVT[df_MVT['tobeusedPCA']].groupby(['WIB','HenID']).count().reset_index()"
   ]
  },
  {
   "cell_type": "code",
   "execution_count": 13,
   "metadata": {},
   "outputs": [
    {
     "name": "stderr",
     "output_type": "stream",
     "text": [
      "C:\\Users\\camil\\anaconda3\\lib\\site-packages\\ipykernel\\ipkernel.py:283: DeprecationWarning: `should_run_async` will not call `transform_cell` automatically in the future. Please pass the result to `transformed_cell` argument and any exception that happen during thetransform in `preprocessing_exc_tuple` in IPython 7.17 and above.\n",
      "  and should_run_async(code)\n",
      "<ipython-input-13-6a51c77324a8>:4: SettingWithCopyWarning: \n",
      "A value is trying to be set on a copy of a slice from a DataFrame.\n",
      "Try using .loc[row_indexer,col_indexer] = value instead\n",
      "\n",
      "See the caveats in the documentation: https://pandas.pydata.org/pandas-docs/stable/user_guide/indexing.html#returning-a-view-versus-a-copy\n",
      "  df_MVT['in_WG_15mnAfterOpening'] = df_MVT['in_WG_15mnAfterOpening'].map(lambda x: int(x))\n",
      "C:\\Users\\camil\\anaconda3\\lib\\site-packages\\pandas\\core\\frame.py:4295: SettingWithCopyWarning: \n",
      "A value is trying to be set on a copy of a slice from a DataFrame\n",
      "\n",
      "See the caveats in the documentation: https://pandas.pydata.org/pandas-docs/stable/user_guide/indexing.html#returning-a-view-versus-a-copy\n",
      "  return super().rename(\n"
     ]
    },
    {
     "data": {
      "text/html": [
       "<div>\n",
       "<style scoped>\n",
       "    .dataframe tbody tr th:only-of-type {\n",
       "        vertical-align: middle;\n",
       "    }\n",
       "\n",
       "    .dataframe tbody tr th {\n",
       "        vertical-align: top;\n",
       "    }\n",
       "\n",
       "    .dataframe thead th {\n",
       "        text-align: right;\n",
       "    }\n",
       "</style>\n",
       "<table border=\"1\" class=\"dataframe\">\n",
       "  <thead>\n",
       "    <tr style=\"text-align: right;\">\n",
       "      <th></th>\n",
       "      <th>WIB</th>\n",
       "      <th>HenID</th>\n",
       "      <th>RPen</th>\n",
       "      <th>DIB</th>\n",
       "      <th>CLASS</th>\n",
       "      <th>TrackingSystemID</th>\n",
       "      <th>PenID</th>\n",
       "      <th>temperature_C_avg</th>\n",
       "      <th>Treatment</th>\n",
       "      <th>tobeusedPCA</th>\n",
       "      <th>...</th>\n",
       "      <th>perc_1_Zone_while_WG_open</th>\n",
       "      <th>nbr_stays_2_Zone_perh</th>\n",
       "      <th>nbr_stays_4_Zone_perh</th>\n",
       "      <th>nbr_stays_3_Zone_perh</th>\n",
       "      <th>nbr_stays_5_Zone_perh</th>\n",
       "      <th>nbr_stays_1_Zone_perh</th>\n",
       "      <th>in_WG_15mnAfterOpening</th>\n",
       "      <th>distribution_entropy</th>\n",
       "      <th>SleepingHeight</th>\n",
       "      <th>vertical_travel_distance_perh</th>\n",
       "    </tr>\n",
       "  </thead>\n",
       "  <tbody>\n",
       "    <tr>\n",
       "      <th>7</th>\n",
       "      <td>2</td>\n",
       "      <td>hen_131</td>\n",
       "      <td>4.0</td>\n",
       "      <td>11</td>\n",
       "      <td>Other</td>\n",
       "      <td>TrackingSystem 10-12</td>\n",
       "      <td>pen10</td>\n",
       "      <td>11.500000</td>\n",
       "      <td>TRAN</td>\n",
       "      <td>1</td>\n",
       "      <td>...</td>\n",
       "      <td>0.0</td>\n",
       "      <td>0.9</td>\n",
       "      <td>0.4</td>\n",
       "      <td>1.0</td>\n",
       "      <td>0.3</td>\n",
       "      <td>0.0</td>\n",
       "      <td>0</td>\n",
       "      <td>1.163814</td>\n",
       "      <td>5</td>\n",
       "      <td>2.5</td>\n",
       "    </tr>\n",
       "    <tr>\n",
       "      <th>8</th>\n",
       "      <td>2</td>\n",
       "      <td>hen_131</td>\n",
       "      <td>4.0</td>\n",
       "      <td>12</td>\n",
       "      <td>Other</td>\n",
       "      <td>TrackingSystem 10-12</td>\n",
       "      <td>pen10</td>\n",
       "      <td>10.166667</td>\n",
       "      <td>TRAN</td>\n",
       "      <td>0</td>\n",
       "      <td>...</td>\n",
       "      <td>0.0</td>\n",
       "      <td>0.9</td>\n",
       "      <td>0.2</td>\n",
       "      <td>1.0</td>\n",
       "      <td>0.1</td>\n",
       "      <td>0.0</td>\n",
       "      <td>0</td>\n",
       "      <td>1.140001</td>\n",
       "      <td>5</td>\n",
       "      <td>2.1</td>\n",
       "    </tr>\n",
       "    <tr>\n",
       "      <th>9</th>\n",
       "      <td>2</td>\n",
       "      <td>hen_131</td>\n",
       "      <td>4.0</td>\n",
       "      <td>13</td>\n",
       "      <td>Other</td>\n",
       "      <td>TrackingSystem 10-12</td>\n",
       "      <td>pen10</td>\n",
       "      <td>9.000000</td>\n",
       "      <td>TRAN</td>\n",
       "      <td>0</td>\n",
       "      <td>...</td>\n",
       "      <td>0.0</td>\n",
       "      <td>0.6</td>\n",
       "      <td>0.5</td>\n",
       "      <td>0.8</td>\n",
       "      <td>0.4</td>\n",
       "      <td>0.0</td>\n",
       "      <td>0</td>\n",
       "      <td>1.738025</td>\n",
       "      <td>3</td>\n",
       "      <td>2.4</td>\n",
       "    </tr>\n",
       "  </tbody>\n",
       "</table>\n",
       "<p>3 rows × 26 columns</p>\n",
       "</div>"
      ],
      "text/plain": [
       "   WIB    HenID  RPen  DIB  CLASS      TrackingSystemID  PenID  \\\n",
       "7    2  hen_131   4.0   11  Other  TrackingSystem 10-12  pen10   \n",
       "8    2  hen_131   4.0   12  Other  TrackingSystem 10-12  pen10   \n",
       "9    2  hen_131   4.0   13  Other  TrackingSystem 10-12  pen10   \n",
       "\n",
       "   temperature_C_avg Treatment  tobeusedPCA  ...  perc_1_Zone_while_WG_open  \\\n",
       "7          11.500000      TRAN            1  ...                        0.0   \n",
       "8          10.166667      TRAN            0  ...                        0.0   \n",
       "9           9.000000      TRAN            0  ...                        0.0   \n",
       "\n",
       "   nbr_stays_2_Zone_perh  nbr_stays_4_Zone_perh  nbr_stays_3_Zone_perh  \\\n",
       "7                    0.9                    0.4                    1.0   \n",
       "8                    0.9                    0.2                    1.0   \n",
       "9                    0.6                    0.5                    0.8   \n",
       "\n",
       "   nbr_stays_5_Zone_perh  nbr_stays_1_Zone_perh  in_WG_15mnAfterOpening  \\\n",
       "7                    0.3                    0.0                       0   \n",
       "8                    0.1                    0.0                       0   \n",
       "9                    0.4                    0.0                       0   \n",
       "\n",
       "   distribution_entropy  SleepingHeight  vertical_travel_distance_perh  \n",
       "7              1.163814               5                            2.5  \n",
       "8              1.140001               5                            2.1  \n",
       "9              1.738025               3                            2.4  \n",
       "\n",
       "[3 rows x 26 columns]"
      ]
     },
     "execution_count": 13,
     "metadata": {},
     "output_type": "execute_result"
    }
   ],
   "source": [
    "li_var = ['perc_duration_5_Zone', 'perc_duration_4_Zone','perc_duration_3_Zone', 'perc_duration_2_Zone','perc_1_Zone_while_WG_open',\n",
    "          'nbr_stays_2_Zone_perh', 'nbr_stays_4_Zone_perh','nbr_stays_3_Zone_perh', 'nbr_stays_5_Zone_perh','nbr_stays_1_Zone_perh',\n",
    "          'in_WG_15mnAfterOpening','distribution_entropy', 'SleepingHeight','vertical_travel_distance_perh']\n",
    "df_MVT['in_WG_15mnAfterOpening'] = df_MVT['in_WG_15mnAfterOpening'].map(lambda x: int(x))\n",
    "df_MVT.rename(columns={'R-Pen':'RPen'}, inplace=True)\n",
    "df_MVT = df_MVT[['WIB','HenID','RPen', 'DIB','CLASS','TrackingSystemID','PenID','temperature_C_avg', 'Treatment',\n",
    "                'tobeusedPCA','RearingPenID','InitialWeight']+li_var].copy()\n",
    "df_MVT.to_csv(os.path.join(path_extracted_data_adap,'df_MVT_4individuality.csv'), index=False, sep=';')\n",
    "df_MVT.head(3)"
   ]
  },
  {
   "cell_type": "code",
   "execution_count": 14,
   "metadata": {},
   "outputs": [
    {
     "name": "stderr",
     "output_type": "stream",
     "text": [
      "C:\\Users\\camil\\anaconda3\\lib\\site-packages\\ipykernel\\ipkernel.py:283: DeprecationWarning: `should_run_async` will not call `transform_cell` automatically in the future. Please pass the result to `transformed_cell` argument and any exception that happen during thetransform in `preprocessing_exc_tuple` in IPython 7.17 and above.\n",
      "  and should_run_async(code)\n"
     ]
    },
    {
     "data": {
      "image/png": "[encoded data removed]",
      "text/plain": [
       "<Figure size 432x288 with 1 Axes>"
      ]
     },
     "metadata": {
      "needs_background": "light"
     },
     "output_type": "display_data"
    }
   ],
   "source": [
    "sns.lineplot(y='vertical_travel_distance_perh', x='DIB', data=df_MVT, hue='PenID');#,legend=False);"
   ]
  },
  {
   "cell_type": "code",
   "execution_count": null,
   "metadata": {},
   "outputs": [],
   "source": []
  },
  {
   "cell_type": "code",
   "execution_count": null,
   "metadata": {},
   "outputs": [],
   "source": []
  },
  {
   "cell_type": "code",
   "execution_count": null,
   "metadata": {},
   "outputs": [],
   "source": []
  },
  {
   "cell_type": "code",
   "execution_count": null,
   "metadata": {},
   "outputs": [],
   "source": []
  },
  {
   "cell_type": "code",
   "execution_count": null,
   "metadata": {},
   "outputs": [],
   "source": []
  },
  {
   "cell_type": "code",
   "execution_count": null,
   "metadata": {},
   "outputs": [],
   "source": []
  },
  {
   "cell_type": "code",
   "execution_count": null,
   "metadata": {},
   "outputs": [],
   "source": []
  },
  {
   "cell_type": "code",
   "execution_count": null,
   "metadata": {},
   "outputs": [],
   "source": []
  }
 ],
 "metadata": {
  "kernelspec": {
   "display_name": "Python 3",
   "language": "python",
   "name": "python3"
  },
  "language_info": {
   "codemirror_mode": {
    "name": "ipython",
    "version": 3
   },
   "file_extension": ".py",
   "mimetype": "text/x-python",
   "name": "python",
   "nbconvert_exporter": "python",
   "pygments_lexer": "ipython3",
   "version": "3.8.5"
  }
 },
 "nbformat": 4,
 "nbformat_minor": 2
}
