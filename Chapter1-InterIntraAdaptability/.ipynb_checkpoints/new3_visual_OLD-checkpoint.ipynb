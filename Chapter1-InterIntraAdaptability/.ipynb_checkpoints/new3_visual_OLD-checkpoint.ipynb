{
 "cells": [
  {
   "cell_type": "code",
   "execution_count": 1,
   "metadata": {},
   "outputs": [
    {
     "name": "stderr",
     "output_type": "stream",
     "text": [
      "C:\\Users\\camil\\anaconda3\\lib\\site-packages\\outdated\\utils.py:14: OutdatedPackageWarning: The package pingouin is out of date. Your version is 0.3.8, the latest is 0.4.0.\n",
      "Set the environment variable OUTDATED_IGNORE=1 to disable these warnings.\n",
      "  return warn(\n",
      "C:\\Users\\camil\\anaconda3\\lib\\site-packages\\outdated\\utils.py:14: OutdatedPackageWarning: The package outdated is out of date. Your version is 0.2.0, the latest is 0.2.1.\n",
      "Set the environment variable OUTDATED_IGNORE=1 to disable these warnings.\n",
      "  return warn(\n"
     ]
    }
   ],
   "source": [
    "#basic package\n",
    "import tqdm\n",
    "import os\n",
    "import numpy as np\n",
    "import glob\n",
    "import pandas as pd\n",
    "import sys\n",
    "import time\n",
    "import datetime as dt\n",
    "import itertools\n",
    "import re\n",
    "import math\n",
    "from collections import Counter\n",
    "import operator\n",
    "from scipy import stats\n",
    "from scipy.spatial.distance import cdist #for euclidean distance of consistency t\n",
    "from numpy import inf\n",
    "import networkx as nx\n",
    "from dtaidistance import dtw\n",
    "import random\n",
    "from sklearn.preprocessing import normalize\n",
    "import pickle\n",
    "from collections import defaultdict\n",
    "import random\n",
    "import statistics as st #for the mode\n",
    "from sklearn.ensemble import RandomForestRegressor, RandomForestClassifier\n",
    "from sklearn.model_selection import GridSearchCV\n",
    "from sklearn.model_selection import train_test_split\n",
    "from scipy.stats import pearsonr, spearmanr\n",
    "#repeated measures correlation\n",
    "import pingouin as pg\n",
    "from sklearn.utils import shuffle\n",
    "import random\n",
    "from scipy import stats\n",
    "\n",
    "#plot\n",
    "import joypy # for ridgeplot\n",
    "import matplotlib.pyplot as plt\n",
    "import seaborn as sns"
   ]
  },
  {
   "cell_type": "code",
   "execution_count": 2,
   "metadata": {},
   "outputs": [
    {
     "name": "stderr",
     "output_type": "stream",
     "text": [
      "C:\\Users\\camil\\anaconda3\\lib\\site-packages\\scipy\\sparse\\sparsetools.py:21: DeprecationWarning: `scipy.sparse.sparsetools` is deprecated!\n",
      "scipy.sparse.sparsetools is a private module for scipy.sparse, and should not be used.\n",
      "  _deprecated()\n"
     ]
    },
    {
     "name": "stdout",
     "output_type": "stream",
     "text": [
      "2\n"
     ]
    }
   ],
   "source": [
    "PACKAGE_PARENT = '../'\n",
    "SCRIPT_DIR = os.path.dirname(os.path.realpath(os.path.join(os.getcwd(), os.path.expanduser('__file__'))))\n",
    "sys.path.append(os.path.normpath(os.path.join(SCRIPT_DIR, PACKAGE_PARENT)))\n",
    "from UTILS import kmeans_clustering, sampen, chi2_distance, ts_visual, correct_key, chi2_distance, most_frequent, mssd\n",
    "import config_origins as config"
   ]
  },
  {
   "cell_type": "markdown",
   "metadata": {},
   "source": [
    "# Define parameters"
   ]
  },
  {
   "cell_type": "code",
   "execution_count": 3,
   "metadata": {
    "scrolled": true
   },
   "outputs": [
    {
     "name": "stdout",
     "output_type": "stream",
     "text": [
      "change the configuration file if not done yet!\n",
      "ALLDATA_\n"
     ]
    },
    {
     "name": "stderr",
     "output_type": "stream",
     "text": [
      "C:\\Users\\camil\\anaconda3\\lib\\site-packages\\ipykernel\\ipkernel.py:283: DeprecationWarning: `should_run_async` will not call `transform_cell` automatically in the future. Please pass the result to `transformed_cell` argument and any exception that happen during thetransform in `preprocessing_exc_tuple` in IPython 7.17 and above.\n",
      "  and should_run_async(code)\n"
     ]
    }
   ],
   "source": [
    "print('change the configuration file if not done yet!')\n",
    "path_extracted_data = config.path_extracted_data\n",
    "path_initial_data = config.path_initial_data\n",
    "id_run = config.id_run\n",
    "dico_matching = config.dico_matching\n",
    "li_binmn = config.li_binmn\n",
    "pal_class_treat = config.pal_class_treat\n",
    "pal_treat = config.pal_treat\n",
    "pal_class = config.pal_class\n",
    "birth_date = config.birth_date\n",
    "dico_night_hour = config.dico_night_hour\n",
    "pal_interintre_treatment = config.pal_interintre_treatment\n",
    "max_date_adaptability = config.max_date_adaptability\n",
    "dico_pen_tr = config.dico_pen_tr\n",
    "path_extracted_data_visual = os.path.join(path_extracted_data,'visual')\n",
    "path_extracted_data_visual_corr = os.path.join(path_extracted_data,'visual','correlation')\n",
    "if not os.path.exists(path_extracted_data_visual_corr):\n",
    "    os.makedirs(path_extracted_data_visual_corr)\n",
    "path_extracted_data_adap = os.path.join(path_extracted_data,'Adaptability')\n",
    "print(id_run)"
   ]
  },
  {
   "cell_type": "code",
   "execution_count": 4,
   "metadata": {},
   "outputs": [
    {
     "name": "stderr",
     "output_type": "stream",
     "text": [
      "C:\\Users\\camil\\anaconda3\\lib\\site-packages\\ipykernel\\ipkernel.py:283: DeprecationWarning: `should_run_async` will not call `transform_cell` automatically in the future. Please pass the result to `transformed_cell` argument and any exception that happen during thetransform in `preprocessing_exc_tuple` in IPython 7.17 and above.\n",
      "  and should_run_async(code)\n"
     ]
    },
    {
     "name": "stdout",
     "output_type": "stream",
     "text": [
      "(3113, 32)\n"
     ]
    },
    {
     "data": {
      "text/html": [
       "<div>\n",
       "<style scoped>\n",
       "    .dataframe tbody tr th:only-of-type {\n",
       "        vertical-align: middle;\n",
       "    }\n",
       "\n",
       "    .dataframe tbody tr th {\n",
       "        vertical-align: top;\n",
       "    }\n",
       "\n",
       "    .dataframe thead th {\n",
       "        text-align: right;\n",
       "    }\n",
       "</style>\n",
       "<table border=\"1\" class=\"dataframe\">\n",
       "  <thead>\n",
       "    <tr style=\"text-align: right;\">\n",
       "      <th></th>\n",
       "      <th>WIB</th>\n",
       "      <th>HenID</th>\n",
       "      <th>DIB</th>\n",
       "      <th>avgDIB</th>\n",
       "      <th>CLASS</th>\n",
       "      <th>TrackingSystemID</th>\n",
       "      <th>PenID</th>\n",
       "      <th>temperature_C_avg</th>\n",
       "      <th>early_death</th>\n",
       "      <th>RearingPenID</th>\n",
       "      <th>...</th>\n",
       "      <th>normalize_perc_duration_2_Zone</th>\n",
       "      <th>normalize_nbr_stays_2_Zone_perh</th>\n",
       "      <th>normalize_nbr_stays_3_Zone_perh</th>\n",
       "      <th>normalize_nbr_stays_5_Zone_perh</th>\n",
       "      <th>normalize_distribution_entropy</th>\n",
       "      <th>normalize_SleepingHeight</th>\n",
       "      <th>normalize_vertical_travel_distance_perh</th>\n",
       "      <th>tuple_PCA</th>\n",
       "      <th>PC1</th>\n",
       "      <th>PC1_standardized</th>\n",
       "    </tr>\n",
       "  </thead>\n",
       "  <tbody>\n",
       "    <tr>\n",
       "      <th>0</th>\n",
       "      <td>1</td>\n",
       "      <td>hen_131</td>\n",
       "      <td>1</td>\n",
       "      <td>4.0</td>\n",
       "      <td>Other</td>\n",
       "      <td>TrackingSystem 10-12</td>\n",
       "      <td>pen10</td>\n",
       "      <td>12.500000</td>\n",
       "      <td>0.0</td>\n",
       "      <td>4.0</td>\n",
       "      <td>...</td>\n",
       "      <td>0.983079</td>\n",
       "      <td>0.004337</td>\n",
       "      <td>0.004337</td>\n",
       "      <td>0.000000</td>\n",
       "      <td>0.004955</td>\n",
       "      <td>0.057828</td>\n",
       "      <td>0.007229</td>\n",
       "      <td>[[-0.61874132 -0.27138055]]</td>\n",
       "      <td>-0.618741</td>\n",
       "      <td>-1.182741</td>\n",
       "    </tr>\n",
       "    <tr>\n",
       "      <th>1</th>\n",
       "      <td>1</td>\n",
       "      <td>hen_131</td>\n",
       "      <td>2</td>\n",
       "      <td>4.0</td>\n",
       "      <td>Other</td>\n",
       "      <td>TrackingSystem 10-12</td>\n",
       "      <td>pen10</td>\n",
       "      <td>14.500000</td>\n",
       "      <td>0.0</td>\n",
       "      <td>4.0</td>\n",
       "      <td>...</td>\n",
       "      <td>0.952989</td>\n",
       "      <td>0.007673</td>\n",
       "      <td>0.004604</td>\n",
       "      <td>0.003069</td>\n",
       "      <td>0.011332</td>\n",
       "      <td>0.041434</td>\n",
       "      <td>0.024554</td>\n",
       "      <td>[[-0.50179369 -0.21075355]]</td>\n",
       "      <td>-0.501794</td>\n",
       "      <td>-0.948734</td>\n",
       "    </tr>\n",
       "    <tr>\n",
       "      <th>2</th>\n",
       "      <td>1</td>\n",
       "      <td>hen_131</td>\n",
       "      <td>3</td>\n",
       "      <td>4.0</td>\n",
       "      <td>Other</td>\n",
       "      <td>TrackingSystem 10-12</td>\n",
       "      <td>pen10</td>\n",
       "      <td>12.666667</td>\n",
       "      <td>0.0</td>\n",
       "      <td>4.0</td>\n",
       "      <td>...</td>\n",
       "      <td>0.459557</td>\n",
       "      <td>0.007043</td>\n",
       "      <td>0.008804</td>\n",
       "      <td>0.003522</td>\n",
       "      <td>0.017205</td>\n",
       "      <td>0.079234</td>\n",
       "      <td>0.024651</td>\n",
       "      <td>[[ 0.31479379 -0.05534192]]</td>\n",
       "      <td>0.314794</td>\n",
       "      <td>0.685226</td>\n",
       "    </tr>\n",
       "  </tbody>\n",
       "</table>\n",
       "<p>3 rows × 32 columns</p>\n",
       "</div>"
      ],
      "text/plain": [
       "   WIB    HenID  DIB  avgDIB  CLASS      TrackingSystemID  PenID  \\\n",
       "0    1  hen_131    1     4.0  Other  TrackingSystem 10-12  pen10   \n",
       "1    1  hen_131    2     4.0  Other  TrackingSystem 10-12  pen10   \n",
       "2    1  hen_131    3     4.0  Other  TrackingSystem 10-12  pen10   \n",
       "\n",
       "   temperature_C_avg  early_death  RearingPenID  ...  \\\n",
       "0          12.500000          0.0           4.0  ...   \n",
       "1          14.500000          0.0           4.0  ...   \n",
       "2          12.666667          0.0           4.0  ...   \n",
       "\n",
       "   normalize_perc_duration_2_Zone  normalize_nbr_stays_2_Zone_perh  \\\n",
       "0                        0.983079                         0.004337   \n",
       "1                        0.952989                         0.007673   \n",
       "2                        0.459557                         0.007043   \n",
       "\n",
       "   normalize_nbr_stays_3_Zone_perh  normalize_nbr_stays_5_Zone_perh  \\\n",
       "0                         0.004337                         0.000000   \n",
       "1                         0.004604                         0.003069   \n",
       "2                         0.008804                         0.003522   \n",
       "\n",
       "   normalize_distribution_entropy  normalize_SleepingHeight  \\\n",
       "0                        0.004955                  0.057828   \n",
       "1                        0.011332                  0.041434   \n",
       "2                        0.017205                  0.079234   \n",
       "\n",
       "   normalize_vertical_travel_distance_perh                    tuple_PCA  \\\n",
       "0                                 0.007229  [[-0.61874132 -0.27138055]]   \n",
       "1                                 0.024554  [[-0.50179369 -0.21075355]]   \n",
       "2                                 0.024651  [[ 0.31479379 -0.05534192]]   \n",
       "\n",
       "        PC1  PC1_standardized  \n",
       "0 -0.618741         -1.182741  \n",
       "1 -0.501794         -0.948734  \n",
       "2  0.314794          0.685226  \n",
       "\n",
       "[3 rows x 32 columns]"
      ]
     },
     "execution_count": 4,
     "metadata": {},
     "output_type": "execute_result"
    }
   ],
   "source": [
    "df_MVT = pd.read_csv(os.path.join(path_extracted_data_adap,'df_MVT_4individuality.csv'), sep=';')\n",
    "print(df_MVT.shape)\n",
    "df_MVT.head(3)"
   ]
  },
  {
   "cell_type": "markdown",
   "metadata": {},
   "source": [
    "# Estimates - Individuality plasticity and intercept"
   ]
  },
  {
   "cell_type": "code",
   "execution_count": 11,
   "metadata": {},
   "outputs": [
    {
     "name": "stdout",
     "output_type": "stream",
     "text": [
      "(138, 6)\n"
     ]
    },
    {
     "name": "stderr",
     "output_type": "stream",
     "text": [
      "C:\\Users\\camil\\anaconda3\\lib\\site-packages\\ipykernel\\ipkernel.py:283: DeprecationWarning: `should_run_async` will not call `transform_cell` automatically in the future. Please pass the result to `transformed_cell` argument and any exception that happen during thetransform in `preprocessing_exc_tuple` in IPython 7.17 and above.\n",
      "  and should_run_async(code)\n"
     ]
    },
    {
     "data": {
      "text/html": [
       "<div>\n",
       "<style scoped>\n",
       "    .dataframe tbody tr th:only-of-type {\n",
       "        vertical-align: middle;\n",
       "    }\n",
       "\n",
       "    .dataframe tbody tr th {\n",
       "        vertical-align: top;\n",
       "    }\n",
       "\n",
       "    .dataframe thead th {\n",
       "        text-align: right;\n",
       "    }\n",
       "</style>\n",
       "<table border=\"1\" class=\"dataframe\">\n",
       "  <thead>\n",
       "    <tr style=\"text-align: right;\">\n",
       "      <th></th>\n",
       "      <th>groupFctr</th>\n",
       "      <th>groupID</th>\n",
       "      <th>term</th>\n",
       "      <th>mean</th>\n",
       "      <th>median</th>\n",
       "      <th>sd</th>\n",
       "    </tr>\n",
       "  </thead>\n",
       "  <tbody>\n",
       "    <tr>\n",
       "      <th>0</th>\n",
       "      <td>HenID:PenID</td>\n",
       "      <td>hen_1:pen9</td>\n",
       "      <td>(Intercept)</td>\n",
       "      <td>-0.456738</td>\n",
       "      <td>-0.459839</td>\n",
       "      <td>0.076301</td>\n",
       "    </tr>\n",
       "    <tr>\n",
       "      <th>1</th>\n",
       "      <td>HenID:PenID</td>\n",
       "      <td>hen_10:pen11</td>\n",
       "      <td>(Intercept)</td>\n",
       "      <td>0.001027</td>\n",
       "      <td>0.000806</td>\n",
       "      <td>0.075924</td>\n",
       "    </tr>\n",
       "    <tr>\n",
       "      <th>2</th>\n",
       "      <td>HenID:PenID</td>\n",
       "      <td>hen_101:pen5</td>\n",
       "      <td>(Intercept)</td>\n",
       "      <td>0.441525</td>\n",
       "      <td>0.445056</td>\n",
       "      <td>0.075140</td>\n",
       "    </tr>\n",
       "  </tbody>\n",
       "</table>\n",
       "</div>"
      ],
      "text/plain": [
       "     groupFctr       groupID         term      mean    median        sd\n",
       "0  HenID:PenID    hen_1:pen9  (Intercept) -0.456738 -0.459839  0.076301\n",
       "1  HenID:PenID  hen_10:pen11  (Intercept)  0.001027  0.000806  0.075924\n",
       "2  HenID:PenID  hen_101:pen5  (Intercept)  0.441525  0.445056  0.075140"
      ]
     },
     "execution_count": 11,
     "metadata": {},
     "output_type": "execute_result"
    }
   ],
   "source": [
    "#download ind plasticity and intercepts\n",
    "df_ind = pd.read_csv(os.path.join(path_extracted_data_adap,'BehaviouralType.csv'), sep=',')\n",
    "print(df_ind.shape)\n",
    "df_ind.head(3)"
   ]
  },
  {
   "cell_type": "code",
   "execution_count": 13,
   "metadata": {},
   "outputs": [
    {
     "name": "stderr",
     "output_type": "stream",
     "text": [
      "C:\\Users\\camil\\anaconda3\\lib\\site-packages\\ipykernel\\ipkernel.py:283: DeprecationWarning: `should_run_async` will not call `transform_cell` automatically in the future. Please pass the result to `transformed_cell` argument and any exception that happen during thetransform in `preprocessing_exc_tuple` in IPython 7.17 and above.\n",
      "  and should_run_async(code)\n"
     ]
    },
    {
     "data": {
      "image/png": "[encoded data removed]",
      "text/plain": [
       "<Figure size 432x288 with 1 Axes>"
      ]
     },
     "metadata": {
      "needs_background": "light"
     },
     "output_type": "display_data"
    }
   ],
   "source": [
    "sns.boxplot(x='groupID', y='mean',data=df_ind.sort_values(['mean']));\n",
    "ax.errorbar(x_coords, y_coords, yerr=errors,\n",
    "    ecolor=colors, fmt=' ', zorder=-1)"
   ]
  },
  {
   "cell_type": "code",
   "execution_count": 5,
   "metadata": {},
   "outputs": [
    {
     "name": "stdout",
     "output_type": "stream",
     "text": [
      "(65, 6)\n"
     ]
    },
    {
     "name": "stderr",
     "output_type": "stream",
     "text": [
      "C:\\Users\\camil\\anaconda3\\lib\\site-packages\\ipykernel\\ipkernel.py:283: DeprecationWarning: `should_run_async` will not call `transform_cell` automatically in the future. Please pass the result to `transformed_cell` argument and any exception that happen during thetransform in `preprocessing_exc_tuple` in IPython 7.17 and above.\n",
      "  and should_run_async(code)\n"
     ]
    },
    {
     "data": {
      "text/html": [
       "<div>\n",
       "<style scoped>\n",
       "    .dataframe tbody tr th:only-of-type {\n",
       "        vertical-align: middle;\n",
       "    }\n",
       "\n",
       "    .dataframe tbody tr th {\n",
       "        vertical-align: top;\n",
       "    }\n",
       "\n",
       "    .dataframe thead th {\n",
       "        text-align: right;\n",
       "    }\n",
       "</style>\n",
       "<table border=\"1\" class=\"dataframe\">\n",
       "  <thead>\n",
       "    <tr style=\"text-align: right;\">\n",
       "      <th></th>\n",
       "      <th>HenID</th>\n",
       "      <th>BLUP_int</th>\n",
       "      <th>BLUP_slopes</th>\n",
       "      <th>BLUP_quadratiqueslopes</th>\n",
       "      <th>HenIDcolors</th>\n",
       "      <th>res_ordered</th>\n",
       "    </tr>\n",
       "  </thead>\n",
       "  <tbody>\n",
       "    <tr>\n",
       "      <th>0</th>\n",
       "      <td>hen_123:pen4</td>\n",
       "      <td>-1.612320</td>\n",
       "      <td>0.038828</td>\n",
       "      <td>0.000620</td>\n",
       "      <td>#FF6666</td>\n",
       "      <td>hen_123:pen4</td>\n",
       "    </tr>\n",
       "    <tr>\n",
       "      <th>1</th>\n",
       "      <td>hen_124:pen8</td>\n",
       "      <td>0.809498</td>\n",
       "      <td>0.020647</td>\n",
       "      <td>-0.001020</td>\n",
       "      <td>#FF6666</td>\n",
       "      <td>hen_124:pen8</td>\n",
       "    </tr>\n",
       "    <tr>\n",
       "      <th>2</th>\n",
       "      <td>hen_126:pen8</td>\n",
       "      <td>1.272569</td>\n",
       "      <td>-0.086351</td>\n",
       "      <td>0.001531</td>\n",
       "      <td>#FF6666</td>\n",
       "      <td>hen_126:pen8</td>\n",
       "    </tr>\n",
       "  </tbody>\n",
       "</table>\n",
       "</div>"
      ],
      "text/plain": [
       "          HenID  BLUP_int  BLUP_slopes  BLUP_quadratiqueslopes HenIDcolors  \\\n",
       "0  hen_123:pen4 -1.612320     0.038828                0.000620     #FF6666   \n",
       "1  hen_124:pen8  0.809498     0.020647               -0.001020     #FF6666   \n",
       "2  hen_126:pen8  1.272569    -0.086351                0.001531     #FF6666   \n",
       "\n",
       "    res_ordered  \n",
       "0  hen_123:pen4  \n",
       "1  hen_124:pen8  \n",
       "2  hen_126:pen8  "
      ]
     },
     "execution_count": 5,
     "metadata": {},
     "output_type": "execute_result"
    }
   ],
   "source": [
    "#download ind plasticity and intercepts\n",
    "df_ind = pd.read_csv(os.path.join(path_extracted_data_adap,'Individualbehavoiuraltype.csv'), sep=',')\n",
    "print(df_ind.shape)\n",
    "df_ind.head(3)"
   ]
  },
  {
   "cell_type": "code",
   "execution_count": 6,
   "metadata": {},
   "outputs": [
    {
     "name": "stdout",
     "output_type": "stream",
     "text": [
      "['hen_57:pen10', 'hen_151:pen8']\n",
      "['hen_69:pen8', 'hen_57:pen10']\n",
      "selected hens: hen_57:pen10 hen_151:pen8 hen_69:pen8 hen_57:pen10\n"
     ]
    },
    {
     "name": "stderr",
     "output_type": "stream",
     "text": [
      "C:\\Users\\camil\\anaconda3\\lib\\site-packages\\ipykernel\\ipkernel.py:283: DeprecationWarning: `should_run_async` will not call `transform_cell` automatically in the future. Please pass the result to `transformed_cell` argument and any exception that happen during thetransform in `preprocessing_exc_tuple` in IPython 7.17 and above.\n",
      "  and should_run_async(code)\n"
     ]
    }
   ],
   "source": [
    "#select 5 hens to highlight within the plot: two most extremes intercept (min, max), two most extrem plasticity (min, max) and one?\n",
    "#add info in both datasets\n",
    "li = df_ind.sort_values('BLUP_int', ascending=True)['HenID'].tolist()\n",
    "li_int = [li[-1], li[0]]\n",
    "print(li_int)\n",
    "li = df_ind.sort_values('BLUP_slopes', ascending=True)['HenID'].tolist()\n",
    "li_plasticity = [li[-1], li[0]]\n",
    "print(li_plasticity)\n",
    "li_hen_visual = li_int+li_plasticity\n",
    "print('selected hens: %s' %' '.join(li_hen_visual))\n",
    "#df_ind['HenID '] = df_ind['HenID'].map(lambda x: 'Others' if x not in li_hen_visual else x)"
   ]
  },
  {
   "cell_type": "code",
   "execution_count": 7,
   "metadata": {},
   "outputs": [
    {
     "name": "stderr",
     "output_type": "stream",
     "text": [
      "C:\\Users\\camil\\anaconda3\\lib\\site-packages\\ipykernel\\ipkernel.py:283: DeprecationWarning: `should_run_async` will not call `transform_cell` automatically in the future. Please pass the result to `transformed_cell` argument and any exception that happen during thetransform in `preprocessing_exc_tuple` in IPython 7.17 and above.\n",
      "  and should_run_async(code)\n"
     ]
    }
   ],
   "source": [
    "#choose color: https://matplotlib.org/stable/gallery/color/named_colors.html\n",
    "li_nicecolor = ['lime','cyan','fuchsia','orange','yellow','red','blue']\n",
    "li_all_hen =  df_ind['HenID'].unique()\n",
    "pal_ = {henID:'black' for henID in li_all_hen}\n",
    "#pal_['hen_48:pen4'] = 'violet'\n",
    "#pal_['hen_47:pen12'] = 'fuchsia'\n",
    "#pal_['hen_69:pen8'] = 'cyan'\n",
    "#pal_['hen_57:pen10'] = 'blue'\n",
    "for i,henID in enumerate(li_hen_visual):\n",
    "    pal_[henID] = li_nicecolor[i]"
   ]
  },
  {
   "cell_type": "code",
   "execution_count": 8,
   "metadata": {},
   "outputs": [
    {
     "name": "stderr",
     "output_type": "stream",
     "text": [
      "C:\\Users\\camil\\anaconda3\\lib\\site-packages\\ipykernel\\ipkernel.py:283: DeprecationWarning: `should_run_async` will not call `transform_cell` automatically in the future. Please pass the result to `transformed_cell` argument and any exception that happen during thetransform in `preprocessing_exc_tuple` in IPython 7.17 and above.\n",
      "  and should_run_async(code)\n"
     ]
    },
    {
     "data": {
      "image/png": "[encoded data removed]",
      "text/plain": [
       "<Figure size 432x288 with 1 Axes>"
      ]
     },
     "metadata": {
      "needs_background": "light"
     },
     "output_type": "display_data"
    },
    {
     "data": {
      "image/png": "[encoded data removed]",
      "text/plain": [
       "<Figure size 432x288 with 1 Axes>"
      ]
     },
     "metadata": {
      "needs_background": "light"
     },
     "output_type": "display_data"
    }
   ],
   "source": [
    "#plot all ranked plasticity and ranked intercepts estimates values\n",
    "hue_order = li_hen_visual\n",
    "#slopes\n",
    "sns.barplot(x='HenID', y='BLUP_slopes', palette=pal_, hue_order=hue_order,\n",
    "            data=df_ind.sort_values('BLUP_slopes', ascending=True))\n",
    "plt.title('Slopes BLUP estimates')\n",
    "plt.savefig(os.path.join(path_extracted_data_adap,'estimatesplasticity.png'), bbox_inches='tight')\n",
    "plt.show()\n",
    "#intercepts\n",
    "sns.barplot(x='HenID', y='BLUP_int', palette=pal_, hue_order=hue_order,\n",
    "            data=df_ind.sort_values('BLUP_int', ascending=True))\n",
    "plt.title('Intercepts BLUP estimates')\n",
    "plt.savefig(os.path.join(path_extracted_data_adap,'estimatesintercepts.png'), bbox_inches='tight')\n",
    "plt.show();"
   ]
  },
  {
   "cell_type": "markdown",
   "metadata": {},
   "source": [
    "# Raw data"
   ]
  },
  {
   "cell_type": "code",
   "execution_count": 9,
   "metadata": {},
   "outputs": [
    {
     "name": "stderr",
     "output_type": "stream",
     "text": [
      "C:\\Users\\camil\\anaconda3\\lib\\site-packages\\ipykernel\\ipkernel.py:283: DeprecationWarning: `should_run_async` will not call `transform_cell` automatically in the future. Please pass the result to `transformed_cell` argument and any exception that happen during thetransform in `preprocessing_exc_tuple` in IPython 7.17 and above.\n",
      "  and should_run_async(code)\n"
     ]
    },
    {
     "data": {
      "text/plain": [
       "Others     2968\n",
       "hen_57       49\n",
       "hen_151      48\n",
       "hen_69       48\n",
       "Name: HenID , dtype: int64"
      ]
     },
     "metadata": {},
     "output_type": "display_data"
    },
    {
     "name": "stdout",
     "output_type": "stream",
     "text": [
      "(3113, 43)\n"
     ]
    },
    {
     "data": {
      "text/html": [
       "<div>\n",
       "<style scoped>\n",
       "    .dataframe tbody tr th:only-of-type {\n",
       "        vertical-align: middle;\n",
       "    }\n",
       "\n",
       "    .dataframe tbody tr th {\n",
       "        vertical-align: top;\n",
       "    }\n",
       "\n",
       "    .dataframe thead th {\n",
       "        text-align: right;\n",
       "    }\n",
       "</style>\n",
       "<table border=\"1\" class=\"dataframe\">\n",
       "  <thead>\n",
       "    <tr style=\"text-align: right;\">\n",
       "      <th></th>\n",
       "      <th>WIB</th>\n",
       "      <th>HenID</th>\n",
       "      <th>DIB</th>\n",
       "      <th>avgDIB</th>\n",
       "      <th>CLASS</th>\n",
       "      <th>TrackingSystemID</th>\n",
       "      <th>PenID</th>\n",
       "      <th>perc_duration_5_Zone</th>\n",
       "      <th>perc_duration_4_Zone</th>\n",
       "      <th>perc_duration_3_Zone</th>\n",
       "      <th>...</th>\n",
       "      <th>tuple_PCA</th>\n",
       "      <th>PC1</th>\n",
       "      <th>PC1_standardized</th>\n",
       "      <th>cDIB</th>\n",
       "      <th>cDIBfact</th>\n",
       "      <th>pred_pop1.3</th>\n",
       "      <th>pred_HenID1.3</th>\n",
       "      <th>pred_pop1.4</th>\n",
       "      <th>pred_HenID1.4</th>\n",
       "      <th>HenID</th>\n",
       "    </tr>\n",
       "  </thead>\n",
       "  <tbody>\n",
       "    <tr>\n",
       "      <th>0</th>\n",
       "      <td>1</td>\n",
       "      <td>hen_131</td>\n",
       "      <td>1</td>\n",
       "      <td>4.0</td>\n",
       "      <td>Other</td>\n",
       "      <td>TrackingSystem 10-12</td>\n",
       "      <td>pen10</td>\n",
       "      <td>0</td>\n",
       "      <td>0</td>\n",
       "      <td>15</td>\n",
       "      <td>...</td>\n",
       "      <td>[[0.68826098 0.49820516]]</td>\n",
       "      <td>0.688261</td>\n",
       "      <td>1.693153</td>\n",
       "      <td>1</td>\n",
       "      <td>1</td>\n",
       "      <td>-0.486500</td>\n",
       "      <td>0.337636</td>\n",
       "      <td>-0.626957</td>\n",
       "      <td>0.888375</td>\n",
       "      <td>Others</td>\n",
       "    </tr>\n",
       "    <tr>\n",
       "      <th>1</th>\n",
       "      <td>1</td>\n",
       "      <td>hen_131</td>\n",
       "      <td>2</td>\n",
       "      <td>4.0</td>\n",
       "      <td>Other</td>\n",
       "      <td>TrackingSystem 10-12</td>\n",
       "      <td>pen10</td>\n",
       "      <td>12</td>\n",
       "      <td>0</td>\n",
       "      <td>18</td>\n",
       "      <td>...</td>\n",
       "      <td>[[0.37027705 0.00128843]]</td>\n",
       "      <td>0.370277</td>\n",
       "      <td>0.887863</td>\n",
       "      <td>2</td>\n",
       "      <td>2</td>\n",
       "      <td>-0.469494</td>\n",
       "      <td>0.354643</td>\n",
       "      <td>-0.594536</td>\n",
       "      <td>0.896611</td>\n",
       "      <td>Others</td>\n",
       "    </tr>\n",
       "    <tr>\n",
       "      <th>2</th>\n",
       "      <td>1</td>\n",
       "      <td>hen_131</td>\n",
       "      <td>3</td>\n",
       "      <td>4.0</td>\n",
       "      <td>Other</td>\n",
       "      <td>TrackingSystem 10-12</td>\n",
       "      <td>pen10</td>\n",
       "      <td>54</td>\n",
       "      <td>3</td>\n",
       "      <td>14</td>\n",
       "      <td>...</td>\n",
       "      <td>[[-0.2169131  0.0105777]]</td>\n",
       "      <td>-0.216913</td>\n",
       "      <td>-0.599187</td>\n",
       "      <td>3</td>\n",
       "      <td>3</td>\n",
       "      <td>-0.452487</td>\n",
       "      <td>0.371649</td>\n",
       "      <td>-0.562700</td>\n",
       "      <td>0.904261</td>\n",
       "      <td>Others</td>\n",
       "    </tr>\n",
       "  </tbody>\n",
       "</table>\n",
       "<p>3 rows × 43 columns</p>\n",
       "</div>"
      ],
      "text/plain": [
       "   WIB    HenID  DIB  avgDIB  CLASS      TrackingSystemID  PenID  \\\n",
       "0    1  hen_131    1     4.0  Other  TrackingSystem 10-12  pen10   \n",
       "1    1  hen_131    2     4.0  Other  TrackingSystem 10-12  pen10   \n",
       "2    1  hen_131    3     4.0  Other  TrackingSystem 10-12  pen10   \n",
       "\n",
       "   perc_duration_5_Zone  perc_duration_4_Zone  perc_duration_3_Zone  ...  \\\n",
       "0                     0                     0                    15  ...   \n",
       "1                    12                     0                    18  ...   \n",
       "2                    54                     3                    14  ...   \n",
       "\n",
       "                   tuple_PCA       PC1  PC1_standardized  cDIB  cDIBfact  \\\n",
       "0  [[0.68826098 0.49820516]]  0.688261          1.693153     1         1   \n",
       "1  [[0.37027705 0.00128843]]  0.370277          0.887863     2         2   \n",
       "2  [[-0.2169131  0.0105777]] -0.216913         -0.599187     3         3   \n",
       "\n",
       "   pred_pop1.3  pred_HenID1.3  pred_pop1.4  pred_HenID1.4  HenID   \n",
       "0    -0.486500       0.337636    -0.626957       0.888375  Others  \n",
       "1    -0.469494       0.354643    -0.594536       0.896611  Others  \n",
       "2    -0.452487       0.371649    -0.562700       0.904261  Others  \n",
       "\n",
       "[3 rows x 43 columns]"
      ]
     },
     "execution_count": 9,
     "metadata": {},
     "output_type": "execute_result"
    }
   ],
   "source": [
    "# download ind.plasticity over time\n",
    "df_PL = pd.read_csv(os.path.join(path_extracted_data_adap,'IndividualPlasticity.csv'), sep=',')\n",
    "#adapt hen and colors\n",
    "df_PL['HenID '] = df_PL['HenID'].map(lambda x: 'Others' if x not in [h.split(':')[0] for h in li_hen_visual] else x)\n",
    "display(df_PL['HenID '].value_counts())\n",
    "pal_all = {k.split(':')[0]:v for k,v in pal_.items()}\n",
    "pal_all['Others'] = 'black'\n",
    "hue_order_all=[h.split(':')[0] for h in hue_order]+['Others']\n",
    "print(df_PL.shape)\n",
    "df_PL.head(3)"
   ]
  },
  {
   "cell_type": "code",
   "execution_count": 10,
   "metadata": {},
   "outputs": [
    {
     "name": "stderr",
     "output_type": "stream",
     "text": [
      "C:\\Users\\camil\\anaconda3\\lib\\site-packages\\ipykernel\\ipkernel.py:283: DeprecationWarning: `should_run_async` will not call `transform_cell` automatically in the future. Please pass the result to `transformed_cell` argument and any exception that happen during thetransform in `preprocessing_exc_tuple` in IPython 7.17 and above.\n",
      "  and should_run_async(code)\n"
     ]
    },
    {
     "data": {
      "image/png": "[encoded data removed]",
      "text/plain": [
       "<Figure size 432x288 with 1 Axes>"
      ]
     },
     "metadata": {
      "needs_background": "light"
     },
     "output_type": "display_data"
    }
   ],
   "source": [
    "#plot plasticity over time\n",
    "sns.lineplot(x='DIB', y='PC1_standardized', data=df_PL, hue='HenID ', palette=pal_all, hue_order=hue_order_all);\n",
    "sns.lineplot(x='DIB', y='pred_HenID1.4', data=df_PL, hue='HenID ', linestyle=\"dashed\", palette=pal_all, hue_order=hue_order_all,\n",
    "            legend=False);\n",
    "plt.title('Individual plasticity');\n",
    "plt.grid()\n",
    "plt.savefig(os.path.join(path_extracted_data_adap,'RawAdnEstimatedPlasticty.png'), bbox_inches='tight')"
   ]
  },
  {
   "cell_type": "raw",
   "metadata": {},
   "source": [
    "We observe a general positive trend in the average vertical travel distance per hour as number of days post-transfer increases, but also that variance in the average vertical travel distance per hour is greater at the first days post-transferd compared to the 40th day post-transfer onward and there appears to be some non-linearity, and therefore we will investigate whether the fixed effect of number of days post-transfer on the average vertical travel distance per hour could be modelled with either a linear model or a quadratic model."
   ]
  },
  {
   "cell_type": "markdown",
   "metadata": {},
   "source": [
    "#plot plasticity over time\n",
    "#TODO: add pred_HenID1.4\n",
    "sns.lineplot(x='DIB', y='pred_HenID1.4', data=df_PL, hue='HenID ', linestyle=\"dashed\", palette=pal_all, hue_order=hue_order_all);\n",
    "plt.title('Individual plasticity');\n",
    "plt.savefig(os.path.join(path_extracted_data_adap,'EstimatedPlastictyOvertime.png'), bbox_inches='tight')"
   ]
  },
  {
   "cell_type": "code",
   "execution_count": 11,
   "metadata": {},
   "outputs": [
    {
     "name": "stderr",
     "output_type": "stream",
     "text": [
      "C:\\Users\\camil\\anaconda3\\lib\\site-packages\\ipykernel\\ipkernel.py:283: DeprecationWarning: `should_run_async` will not call `transform_cell` automatically in the future. Please pass the result to `transformed_cell` argument and any exception that happen during thetransform in `preprocessing_exc_tuple` in IPython 7.17 and above.\n",
      "  and should_run_async(code)\n"
     ]
    }
   ],
   "source": [
    "sns.set(rc={'figure.figsize':(11,5)})"
   ]
  },
  {
   "cell_type": "code",
   "execution_count": 12,
   "metadata": {},
   "outputs": [
    {
     "name": "stderr",
     "output_type": "stream",
     "text": [
      "C:\\Users\\camil\\anaconda3\\lib\\site-packages\\ipykernel\\ipkernel.py:283: DeprecationWarning: `should_run_async` will not call `transform_cell` automatically in the future. Please pass the result to `transformed_cell` argument and any exception that happen during thetransform in `preprocessing_exc_tuple` in IPython 7.17 and above.\n",
      "  and should_run_async(code)\n"
     ]
    },
    {
     "data": {
      "image/png": "[encoded data removed]",
      "text/plain": [
       "<Figure size 485.675x288 with 1 Axes>"
      ]
     },
     "metadata": {},
     "output_type": "display_data"
    }
   ],
   "source": [
    "#sns.displot(penguins, x=\"flipper_length_mm\", hue=\"species\", kind=\"kde\", fill=True)\n",
    "sns.displot(df_PL, x='PC1_standardized', hue='HenID ', kde=True, stat=\"density\", fill=True, aspect=1.4, height=4,\n",
    "             common_norm=False, palette=pal_all, hue_order=hue_order_all);\n",
    "plt.title('Individual density');\n",
    "plt.savefig(os.path.join(path_extracted_data_adap,'Rawdensity.png'), bbox_inches='tight')"
   ]
  },
  {
   "cell_type": "code",
   "execution_count": 13,
   "metadata": {},
   "outputs": [
    {
     "name": "stderr",
     "output_type": "stream",
     "text": [
      "C:\\Users\\camil\\anaconda3\\lib\\site-packages\\ipykernel\\ipkernel.py:283: DeprecationWarning: `should_run_async` will not call `transform_cell` automatically in the future. Please pass the result to `transformed_cell` argument and any exception that happen during thetransform in `preprocessing_exc_tuple` in IPython 7.17 and above.\n",
      "  and should_run_async(code)\n"
     ]
    },
    {
     "data": {
      "image/png": "[encoded data removed]",
      "text/plain": [
       "<Figure size 792x360 with 1 Axes>"
      ]
     },
     "metadata": {},
     "output_type": "display_data"
    }
   ],
   "source": [
    "sns.histplot(data=df_PL, x='PC1_standardized', hue='HenID ', element=\"step\", stat=\"density\", bins=10,\n",
    "             common_norm=False, palette=pal_all, hue_order=hue_order_all);\n",
    "plt.title('Individual density');"
   ]
  },
  {
   "cell_type": "code",
   "execution_count": null,
   "metadata": {},
   "outputs": [],
   "source": []
  },
  {
   "cell_type": "code",
   "execution_count": null,
   "metadata": {},
   "outputs": [],
   "source": []
  },
  {
   "cell_type": "code",
   "execution_count": null,
   "metadata": {},
   "outputs": [],
   "source": []
  },
  {
   "cell_type": "code",
   "execution_count": null,
   "metadata": {},
   "outputs": [],
   "source": []
  },
  {
   "cell_type": "code",
   "execution_count": null,
   "metadata": {},
   "outputs": [],
   "source": []
  },
  {
   "cell_type": "code",
   "execution_count": null,
   "metadata": {},
   "outputs": [],
   "source": []
  },
  {
   "cell_type": "code",
   "execution_count": null,
   "metadata": {},
   "outputs": [],
   "source": []
  },
  {
   "cell_type": "code",
   "execution_count": null,
   "metadata": {},
   "outputs": [],
   "source": []
  }
 ],
 "metadata": {
  "kernelspec": {
   "display_name": "Python 3",
   "language": "python",
   "name": "python3"
  },
  "language_info": {
   "codemirror_mode": {
    "name": "ipython",
    "version": 3
   },
   "file_extension": ".py",
   "mimetype": "text/x-python",
   "name": "python",
   "nbconvert_exporter": "python",
   "pygments_lexer": "ipython3",
   "version": "3.8.5"
  }
 },
 "nbformat": 4,
 "nbformat_minor": 2
}
