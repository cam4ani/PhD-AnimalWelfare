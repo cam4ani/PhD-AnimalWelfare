{
 "cells": [
  {
   "cell_type": "code",
   "execution_count": 32,
   "metadata": {},
   "outputs": [],
   "source": [
    "library(lindia)\n",
    "library(tidyverse)\n",
    "library(caret)\n",
    "library(leaps)\n",
    "library(MASS)"
   ]
  },
  {
   "cell_type": "markdown",
   "metadata": {},
   "source": [
    "# Download data"
   ]
  },
  {
   "cell_type": "code",
   "execution_count": 55,
   "metadata": {},
   "outputs": [
    {
     "name": "stdout",
     "output_type": "stream",
     "text": [
      "[1] 78 33\n"
     ]
    },
    {
     "data": {
      "text/plain": [
       " mssd_chi2distance   mean_chi2distance mssd_chi2distance_ALL_15\n",
       " Min.   :0.0002396   Min.   :0.02034   Min.   :0.003759        \n",
       " 1st Qu.:0.0012286   1st Qu.:0.04012   1st Qu.:0.008979        \n",
       " Median :0.0025125   Median :0.04886   Median :0.011923        \n",
       " Mean   :0.0045904   Mean   :0.05428   Mean   :0.012870        \n",
       " 3rd Qu.:0.0061528   3rd Qu.:0.06323   3rd Qu.:0.015625        \n",
       " Max.   :0.0362460   Max.   :0.12654   Max.   :0.033869        \n",
       " mean_chi2distance_ALL_15 mssd_DTW_30_all  mean_DTW_30_all mssd_DTW_30_1_Zone\n",
       " Min.   :0.1670           Min.   : 723.1   Min.   :104.9   Min.   :  0.00    \n",
       " 1st Qu.:0.3156           1st Qu.:1696.5   1st Qu.:158.1   1st Qu.: 13.12    \n",
       " Median :0.3671           Median :2168.4   Median :177.7   Median : 28.73    \n",
       " Mean   :0.3595           Mean   :2389.7   Mean   :176.3   Mean   : 36.78    \n",
       " 3rd Qu.:0.4024           3rd Qu.:2783.1   3rd Qu.:196.0   3rd Qu.: 54.24    \n",
       " Max.   :0.4945           Max.   :6537.2   Max.   :229.5   Max.   :122.87    \n",
       " mean_DTW_30_1_Zone mssd_DTW_30_2_Zone mean_DTW_30_2_Zone mssd_DTW_30_3_Zone\n",
       " Min.   : 0.000     Min.   : 50.73     Min.   :18.48      Min.   : 30.22    \n",
       " 1st Qu.: 4.866     1st Qu.:107.46     1st Qu.:38.72      1st Qu.:197.96    \n",
       " Median : 9.863     Median :156.54     Median :42.17      Median :323.65    \n",
       " Mean   :10.092     Mean   :183.78     Mean   :41.48      Mean   :331.37    \n",
       " 3rd Qu.:14.417     3rd Qu.:227.61     3rd Qu.:44.85      3rd Qu.:437.13    \n",
       " Max.   :27.041     Max.   :639.10     Max.   :53.90      Max.   :766.44    \n",
       " mean_DTW_30_3_Zone mssd_DTW_30_4_Zone mean_DTW_30_4_Zone mssd_DTW_30_5_Zone\n",
       " Min.   : 6.673     Min.   : 31.38     Min.   :10.30      Min.   : 120.4    \n",
       " 1st Qu.:33.086     1st Qu.:100.12     1st Qu.:20.62      1st Qu.: 341.2    \n",
       " Median :39.753     Median :194.45     Median :26.05      Median : 441.8    \n",
       " Mean   :39.209     Mean   :215.99     Mean   :27.47      Mean   : 486.9    \n",
       " 3rd Qu.:45.944     3rd Qu.:279.13     3rd Qu.:33.12      3rd Qu.: 549.2    \n",
       " Max.   :64.233     Max.   :886.68     Max.   :52.60      Max.   :1538.0    \n",
       " mean_DTW_30_5_Zone mssd_perc_duration_5_Zone mean_perc_duration_5_Zone\n",
       " Min.   :20.77      Min.   : 12.72            Min.   : 3.627           \n",
       " 1st Qu.:52.72      1st Qu.: 76.01            1st Qu.:27.664           \n",
       " Median :59.34      Median :115.29            Median :40.146           \n",
       " Mean   :58.04      Mean   :140.25            Mean   :41.890           \n",
       " 3rd Qu.:64.36      3rd Qu.:168.99            3rd Qu.:56.494           \n",
       " Max.   :81.63      Max.   :456.77            Max.   :87.318           \n",
       " mssd_perc_duration_4_Zone mean_perc_duration_4_Zone mssd_perc_duration_3_Zone\n",
       " Min.   : 1.126            Min.   : 3.170            Min.   : 1.059           \n",
       " 1st Qu.: 9.214            1st Qu.: 5.590            1st Qu.:15.318           \n",
       " Median :17.736            Median : 7.103            Median :21.195           \n",
       " Mean   :25.404            Mean   : 8.095            Mean   :26.667           \n",
       " 3rd Qu.:37.105            3rd Qu.: 8.698            3rd Qu.:34.142           \n",
       " Max.   :94.736            Max.   :27.391            Max.   :82.827           \n",
       " mean_perc_duration_3_Zone mssd_perc_duration_2_Zone mean_perc_duration_2_Zone\n",
       " Min.   : 0.8347           Min.   : 10.33            Min.   : 2.626           \n",
       " 1st Qu.:11.3942           1st Qu.: 41.80            1st Qu.:20.900           \n",
       " Median :16.7046           Median : 54.42            Median :29.168           \n",
       " Mean   :16.9568           Mean   : 66.20            Mean   :30.347           \n",
       " 3rd Qu.:22.4295           3rd Qu.: 71.09            3rd Qu.:40.911           \n",
       " Max.   :31.7400           Max.   :359.17            Max.   :55.734           \n",
       " mssd_percentage_time_outside_while_WG_open\n",
       " Min.   :  0.000                           \n",
       " 1st Qu.:  5.709                           \n",
       " Median : 14.728                           \n",
       " Mean   : 25.108                           \n",
       " 3rd Qu.: 37.209                           \n",
       " Max.   :108.759                           \n",
       " mean_percentage_time_outside_while_WG_open mssd_latency_1_Zone\n",
       " Min.   : 0.000                             Min.   :    0      \n",
       " 1st Qu.: 1.599                             1st Qu.: 4720      \n",
       " Median : 4.215                             Median : 7860      \n",
       " Mean   : 5.998                             Mean   : 8226      \n",
       " 3rd Qu.: 8.261                             3rd Qu.:12014      \n",
       " Max.   :33.364                             Max.   :20739      \n",
       " mean_latency_1_Zone mssd_vertical_travel_distance\n",
       " Min.   :  0.00      Min.   : 23.91               \n",
       " 1st Qu.: 90.93      1st Qu.: 72.00               \n",
       " Median :163.39      Median : 95.63               \n",
       " Mean   :151.60      Mean   :102.88               \n",
       " 3rd Qu.:216.62      3rd Qu.:125.42               \n",
       " Max.   :297.62      Max.   :319.26               \n",
       " mean_vertical_travel_distance    severity        Feathers    \n",
       " Min.   :10.08                 Min.   : 2.00   Min.   :70.00  \n",
       " 1st Qu.:33.23                 1st Qu.:16.50   1st Qu.:84.38  \n",
       " Median :43.09                 Median :29.00   Median :89.33  \n",
       " Mean   :42.93                 Mean   :28.95   Mean   :87.92  \n",
       " 3rd Qu.:50.39                 3rd Qu.:38.00   3rd Qu.:92.17  \n",
       " Max.   :71.43                 Max.   :70.00   Max.   :98.33  \n",
       " perc_days_nomvtamngfirst3days\n",
       " Min.   :  0.00               \n",
       " 1st Qu.:  0.00               \n",
       " Median :  0.00               \n",
       " Mean   : 20.09               \n",
       " 3rd Qu.: 33.33               \n",
       " Max.   :100.00               "
      ]
     },
     "metadata": {},
     "output_type": "display_data"
    }
   ],
   "source": [
    "path_ = 'G:/VPHI/Welfare/2- Research Projects/OFHE2.OriginsE2/DataOutput/TrackingSystem/correctlightschedule_'\n",
    "df = read.csv(file.path(path_,'Adaptability_Stat_MSSD_mixedeffect_R.csv'), header = TRUE, sep = \";\")\n",
    "#li_var_cont = c('ID0','ID1','ID2','ID3','ID4','ID5','ID6','ID7')\n",
    "#df$maxsevGap0_divided_maxsev_round = round(df$maxsevGap0_divided_maxsev, 1)\n",
    "#df$maxsevGap0_divided_maxsev_round_log <- log(df$maxsevGap0_divided_maxsev_round)\n",
    "#print(as.data.frame(table(df$maxsevGap0_divided_maxsev_round)))\n",
    "#df_ = df[,c(li_var_cont, 'maxsevGap0_divided_maxsev_round','maxsevGap0_divided_maxsev_round_log')] \n",
    "print(dim(df))\n",
    "summary(df)"
   ]
  },
  {
   "cell_type": "markdown",
   "metadata": {},
   "source": [
    "# Stepwise model selection"
   ]
  },
  {
   "cell_type": "code",
   "execution_count": 59,
   "metadata": {},
   "outputs": [
    {
     "name": "stderr",
     "output_type": "stream",
     "text": [
      "Warning message in leaps.setup(x, y, wt = weights, nbest = nbest, nvmax = nvmax, :\n",
      "\"1  linear dependencies found\"\n"
     ]
    },
    {
     "name": "stdout",
     "output_type": "stream",
     "text": [
      "Reordering variables and trying again:\n"
     ]
    },
    {
     "name": "stderr",
     "output_type": "stream",
     "text": [
      "Warning message in leaps.setup(x, y, wt = weights, nbest = nbest, nvmax = nvmax, :\n",
      "\"1  linear dependencies found\"\n"
     ]
    },
    {
     "name": "stdout",
     "output_type": "stream",
     "text": [
      "Reordering variables and trying again:\n"
     ]
    },
    {
     "name": "stderr",
     "output_type": "stream",
     "text": [
      "Warning message in leaps.setup(x, y, wt = weights, nbest = nbest, nvmax = nvmax, :\n",
      "\"1  linear dependencies found\"\n"
     ]
    },
    {
     "name": "stdout",
     "output_type": "stream",
     "text": [
      "Reordering variables and trying again:\n"
     ]
    },
    {
     "name": "stderr",
     "output_type": "stream",
     "text": [
      "Warning message in leaps.setup(x, y, wt = weights, nbest = nbest, nvmax = nvmax, :\n",
      "\"1  linear dependencies found\"\n"
     ]
    },
    {
     "name": "stdout",
     "output_type": "stream",
     "text": [
      "Reordering variables and trying again:\n"
     ]
    },
    {
     "data": {
      "text/html": [
       "<table class=\"dataframe\">\n",
       "<caption>A data.frame: 6 × 7</caption>\n",
       "<thead>\n",
       "\t<tr><th></th><th scope=col>nvmax</th><th scope=col>RMSE</th><th scope=col>Rsquared</th><th scope=col>MAE</th><th scope=col>RMSESD</th><th scope=col>RsquaredSD</th><th scope=col>MAESD</th></tr>\n",
       "\t<tr><th></th><th scope=col>&lt;int&gt;</th><th scope=col>&lt;dbl&gt;</th><th scope=col>&lt;dbl&gt;</th><th scope=col>&lt;dbl&gt;</th><th scope=col>&lt;dbl&gt;</th><th scope=col>&lt;dbl&gt;</th><th scope=col>&lt;dbl&gt;</th></tr>\n",
       "</thead>\n",
       "<tbody>\n",
       "\t<tr><th scope=row>1</th><td>1</td><td>6.296970</td><td>0.01620244</td><td>5.021398</td><td>0.5971736</td><td>0.01299596</td><td>0.2965805</td></tr>\n",
       "\t<tr><th scope=row>2</th><td>2</td><td>6.432567</td><td>0.02105512</td><td>5.102496</td><td>0.5287821</td><td>0.01793933</td><td>0.1848768</td></tr>\n",
       "\t<tr><th scope=row>3</th><td>3</td><td>6.253266</td><td>0.02377690</td><td>4.859610</td><td>0.5597503</td><td>0.01213306</td><td>0.3296434</td></tr>\n",
       "\t<tr><th scope=row>4</th><td>4</td><td>6.304672</td><td>0.01994244</td><td>5.047433</td><td>0.5939583</td><td>0.01844427</td><td>0.3587543</td></tr>\n",
       "\t<tr><th scope=row>5</th><td>5</td><td>6.413090</td><td>0.01568083</td><td>5.129694</td><td>0.4712910</td><td>0.01926567</td><td>0.1584594</td></tr>\n",
       "\t<tr><th scope=row>6</th><td>6</td><td>6.935557</td><td>0.04997423</td><td>5.541965</td><td>0.4561762</td><td>0.06142774</td><td>0.4051967</td></tr>\n",
       "</tbody>\n",
       "</table>\n"
      ],
      "text/latex": [
       "A data.frame: 6 × 7\n",
       "\\begin{tabular}{r|lllllll}\n",
       "  & nvmax & RMSE & Rsquared & MAE & RMSESD & RsquaredSD & MAESD\\\\\n",
       "  & <int> & <dbl> & <dbl> & <dbl> & <dbl> & <dbl> & <dbl>\\\\\n",
       "\\hline\n",
       "\t1 & 1 & 6.296970 & 0.01620244 & 5.021398 & 0.5971736 & 0.01299596 & 0.2965805\\\\\n",
       "\t2 & 2 & 6.432567 & 0.02105512 & 5.102496 & 0.5287821 & 0.01793933 & 0.1848768\\\\\n",
       "\t3 & 3 & 6.253266 & 0.02377690 & 4.859610 & 0.5597503 & 0.01213306 & 0.3296434\\\\\n",
       "\t4 & 4 & 6.304672 & 0.01994244 & 5.047433 & 0.5939583 & 0.01844427 & 0.3587543\\\\\n",
       "\t5 & 5 & 6.413090 & 0.01568083 & 5.129694 & 0.4712910 & 0.01926567 & 0.1584594\\\\\n",
       "\t6 & 6 & 6.935557 & 0.04997423 & 5.541965 & 0.4561762 & 0.06142774 & 0.4051967\\\\\n",
       "\\end{tabular}\n"
      ],
      "text/markdown": [
       "\n",
       "A data.frame: 6 × 7\n",
       "\n",
       "| <!--/--> | nvmax &lt;int&gt; | RMSE &lt;dbl&gt; | Rsquared &lt;dbl&gt; | MAE &lt;dbl&gt; | RMSESD &lt;dbl&gt; | RsquaredSD &lt;dbl&gt; | MAESD &lt;dbl&gt; |\n",
       "|---|---|---|---|---|---|---|---|\n",
       "| 1 | 1 | 6.296970 | 0.01620244 | 5.021398 | 0.5971736 | 0.01299596 | 0.2965805 |\n",
       "| 2 | 2 | 6.432567 | 0.02105512 | 5.102496 | 0.5287821 | 0.01793933 | 0.1848768 |\n",
       "| 3 | 3 | 6.253266 | 0.02377690 | 4.859610 | 0.5597503 | 0.01213306 | 0.3296434 |\n",
       "| 4 | 4 | 6.304672 | 0.01994244 | 5.047433 | 0.5939583 | 0.01844427 | 0.3587543 |\n",
       "| 5 | 5 | 6.413090 | 0.01568083 | 5.129694 | 0.4712910 | 0.01926567 | 0.1584594 |\n",
       "| 6 | 6 | 6.935557 | 0.04997423 | 5.541965 | 0.4561762 | 0.06142774 | 0.4051967 |\n",
       "\n"
      ],
      "text/plain": [
       "  nvmax RMSE     Rsquared   MAE      RMSESD    RsquaredSD MAESD    \n",
       "1 1     6.296970 0.01620244 5.021398 0.5971736 0.01299596 0.2965805\n",
       "2 2     6.432567 0.02105512 5.102496 0.5287821 0.01793933 0.1848768\n",
       "3 3     6.253266 0.02377690 4.859610 0.5597503 0.01213306 0.3296434\n",
       "4 4     6.304672 0.01994244 5.047433 0.5939583 0.01844427 0.3587543\n",
       "5 5     6.413090 0.01568083 5.129694 0.4712910 0.01926567 0.1584594\n",
       "6 6     6.935557 0.04997423 5.541965 0.4561762 0.06142774 0.4051967"
      ]
     },
     "metadata": {},
     "output_type": "display_data"
    },
    {
     "name": "stdout",
     "output_type": "stream",
     "text": [
      "  nvmax\n",
      "3     3\n"
     ]
    },
    {
     "data": {
      "text/plain": [
       "Subset selection object\n",
       "32 Variables  (and intercept)\n",
       "                                           Forced in Forced out\n",
       "mssd_chi2distance                              FALSE      FALSE\n",
       "mean_chi2distance                              FALSE      FALSE\n",
       "mssd_chi2distance_ALL_15                       FALSE      FALSE\n",
       "mean_chi2distance_ALL_15                       FALSE      FALSE\n",
       "mssd_DTW_30_all                                FALSE      FALSE\n",
       "mean_DTW_30_all                                FALSE      FALSE\n",
       "mssd_DTW_30_1_Zone                             FALSE      FALSE\n",
       "mean_DTW_30_1_Zone                             FALSE      FALSE\n",
       "mssd_DTW_30_2_Zone                             FALSE      FALSE\n",
       "mean_DTW_30_2_Zone                             FALSE      FALSE\n",
       "mssd_DTW_30_3_Zone                             FALSE      FALSE\n",
       "mean_DTW_30_3_Zone                             FALSE      FALSE\n",
       "mssd_DTW_30_4_Zone                             FALSE      FALSE\n",
       "mean_DTW_30_4_Zone                             FALSE      FALSE\n",
       "mssd_DTW_30_5_Zone                             FALSE      FALSE\n",
       "mssd_perc_duration_5_Zone                      FALSE      FALSE\n",
       "mean_perc_duration_5_Zone                      FALSE      FALSE\n",
       "mssd_perc_duration_4_Zone                      FALSE      FALSE\n",
       "mean_perc_duration_4_Zone                      FALSE      FALSE\n",
       "mssd_perc_duration_3_Zone                      FALSE      FALSE\n",
       "mean_perc_duration_3_Zone                      FALSE      FALSE\n",
       "mssd_perc_duration_2_Zone                      FALSE      FALSE\n",
       "mean_perc_duration_2_Zone                      FALSE      FALSE\n",
       "mssd_percentage_time_outside_while_WG_open     FALSE      FALSE\n",
       "mean_percentage_time_outside_while_WG_open     FALSE      FALSE\n",
       "mssd_latency_1_Zone                            FALSE      FALSE\n",
       "mean_latency_1_Zone                            FALSE      FALSE\n",
       "mssd_vertical_travel_distance                  FALSE      FALSE\n",
       "mean_vertical_travel_distance                  FALSE      FALSE\n",
       "severity                                       FALSE      FALSE\n",
       "perc_days_nomvtamngfirst3days                  FALSE      FALSE\n",
       "mean_DTW_30_5_Zone                             FALSE      FALSE\n",
       "1 subsets of each size up to 4\n",
       "Selection Algorithm: 'sequential replacement'\n",
       "         mssd_chi2distance mean_chi2distance mssd_chi2distance_ALL_15\n",
       "1  ( 1 ) \" \"               \" \"               \" \"                     \n",
       "2  ( 1 ) \" \"               \" \"               \" \"                     \n",
       "3  ( 1 ) \" \"               \" \"               \" \"                     \n",
       "4  ( 1 ) \" \"               \" \"               \" \"                     \n",
       "         mean_chi2distance_ALL_15 mssd_DTW_30_all mean_DTW_30_all\n",
       "1  ( 1 ) \" \"                      \" \"             \" \"            \n",
       "2  ( 1 ) \" \"                      \" \"             \" \"            \n",
       "3  ( 1 ) \" \"                      \" \"             \" \"            \n",
       "4  ( 1 ) \" \"                      \" \"             \" \"            \n",
       "         mssd_DTW_30_1_Zone mean_DTW_30_1_Zone mssd_DTW_30_2_Zone\n",
       "1  ( 1 ) \" \"                \" \"                \" \"               \n",
       "2  ( 1 ) \" \"                \"*\"                \" \"               \n",
       "3  ( 1 ) \" \"                \"*\"                \" \"               \n",
       "4  ( 1 ) \" \"                \"*\"                \" \"               \n",
       "         mean_DTW_30_2_Zone mssd_DTW_30_3_Zone mean_DTW_30_3_Zone\n",
       "1  ( 1 ) \" \"                \" \"                \" \"               \n",
       "2  ( 1 ) \" \"                \" \"                \" \"               \n",
       "3  ( 1 ) \" \"                \" \"                \" \"               \n",
       "4  ( 1 ) \" \"                \" \"                \" \"               \n",
       "         mssd_DTW_30_4_Zone mean_DTW_30_4_Zone mssd_DTW_30_5_Zone\n",
       "1  ( 1 ) \" \"                \" \"                \" \"               \n",
       "2  ( 1 ) \" \"                \" \"                \" \"               \n",
       "3  ( 1 ) \" \"                \"*\"                \" \"               \n",
       "4  ( 1 ) \" \"                \"*\"                \" \"               \n",
       "         mean_DTW_30_5_Zone mssd_perc_duration_5_Zone mean_perc_duration_5_Zone\n",
       "1  ( 1 ) \" \"                \" \"                       \" \"                      \n",
       "2  ( 1 ) \" \"                \" \"                       \" \"                      \n",
       "3  ( 1 ) \" \"                \" \"                       \" \"                      \n",
       "4  ( 1 ) \" \"                \" \"                       \" \"                      \n",
       "         mssd_perc_duration_4_Zone mean_perc_duration_4_Zone\n",
       "1  ( 1 ) \" \"                       \" \"                      \n",
       "2  ( 1 ) \" \"                       \" \"                      \n",
       "3  ( 1 ) \" \"                       \" \"                      \n",
       "4  ( 1 ) \" \"                       \" \"                      \n",
       "         mssd_perc_duration_3_Zone mean_perc_duration_3_Zone\n",
       "1  ( 1 ) \" \"                       \" \"                      \n",
       "2  ( 1 ) \" \"                       \" \"                      \n",
       "3  ( 1 ) \" \"                       \" \"                      \n",
       "4  ( 1 ) \" \"                       \"*\"                      \n",
       "         mssd_perc_duration_2_Zone mean_perc_duration_2_Zone\n",
       "1  ( 1 ) \" \"                       \" \"                      \n",
       "2  ( 1 ) \" \"                       \" \"                      \n",
       "3  ( 1 ) \" \"                       \" \"                      \n",
       "4  ( 1 ) \" \"                       \" \"                      \n",
       "         mssd_percentage_time_outside_while_WG_open\n",
       "1  ( 1 ) \" \"                                       \n",
       "2  ( 1 ) \" \"                                       \n",
       "3  ( 1 ) \" \"                                       \n",
       "4  ( 1 ) \" \"                                       \n",
       "         mean_percentage_time_outside_while_WG_open mssd_latency_1_Zone\n",
       "1  ( 1 ) \" \"                                        \" \"                \n",
       "2  ( 1 ) \" \"                                        \" \"                \n",
       "3  ( 1 ) \" \"                                        \" \"                \n",
       "4  ( 1 ) \" \"                                        \" \"                \n",
       "         mean_latency_1_Zone mssd_vertical_travel_distance\n",
       "1  ( 1 ) \" \"                 \"*\"                          \n",
       "2  ( 1 ) \" \"                 \"*\"                          \n",
       "3  ( 1 ) \" \"                 \"*\"                          \n",
       "4  ( 1 ) \" \"                 \"*\"                          \n",
       "         mean_vertical_travel_distance severity perc_days_nomvtamngfirst3days\n",
       "1  ( 1 ) \" \"                           \" \"      \" \"                          \n",
       "2  ( 1 ) \" \"                           \" \"      \" \"                          \n",
       "3  ( 1 ) \" \"                           \" \"      \" \"                          \n",
       "4  ( 1 ) \" \"                           \" \"      \" \"                          "
      ]
     },
     "metadata": {},
     "output_type": "display_data"
    }
   ],
   "source": [
    "#random seed for reproductibility\n",
    "set.seed(0)\n",
    "\n",
    "#set up repeated k-fold cross-validation\n",
    "train.control = trainControl(method = \"cv\", number=3)\n",
    "\n",
    "#fit linear regression with stepwise selection (method: \"leapBackward\",\"leapForward\", \"leapSeq\")\n",
    "step.model = train(Feathers ~ ., #mean_percentage_time_outside_while_WG_open+ mean_latency_1_Zone+perc_days_nomvtamngfirst3days+mean_DTW_30_5_Zone+mssd_DTW_30_5_Zone+mssd_vertical_travel_distance+mean_vertical_travel_distance,\n",
    "                   data=df,\n",
    "                   method = \"leapSeq\", \n",
    "                    tuneGrid = data.frame(nvmax=1:6),\n",
    "                    trControl = train.control, na.action = na.exclude) #na.exclude na.omit\n",
    "step.model$results\n",
    "nv = step.model$bestTune\n",
    "print(nv)\n",
    "summary(step.model$finalModel)"
   ]
  },
  {
   "cell_type": "code",
   "execution_count": 35,
   "metadata": {},
   "outputs": [
    {
     "ename": "ERROR",
     "evalue": "Error in handle_exception(fitted.lm, \"gg_diagnose\"): objet 'model' introuvable\n",
     "output_type": "error",
     "traceback": [
      "Error in handle_exception(fitted.lm, \"gg_diagnose\"): objet 'model' introuvable\nTraceback:\n",
      "1. lindia::gg_diagnose(model)",
      "2. handle_exception(fitted.lm, \"gg_diagnose\")"
     ]
    }
   ],
   "source": [
    "lindia::gg_diagnose(model)"
   ]
  },
  {
   "cell_type": "code",
   "execution_count": 62,
   "metadata": {},
   "outputs": [
    {
     "data": {
      "text/plain": [
       "\n",
       "Call:\n",
       "lm(formula = severity ~ mean_latency_1_Zone + mean_percentage_time_outside_while_WG_open + \n",
       "    perc_days_nomvtamngfirst3days + mean_vertical_travel_distance + \n",
       "    mean_vertical_travel_distance, data = df)\n",
       "\n",
       "Residuals:\n",
       "    Min      1Q  Median      3Q     Max \n",
       "-23.411 -12.674   0.508   7.747  38.905 \n",
       "\n",
       "Coefficients:\n",
       "                                            Estimate Std. Error t value\n",
       "(Intercept)                                34.141938   6.550151   5.212\n",
       "mean_latency_1_Zone                         0.002603   0.033372   0.078\n",
       "mean_percentage_time_outside_while_WG_open -0.118798   0.431635  -0.275\n",
       "perc_days_nomvtamngfirst3days               0.025062   0.060782   0.412\n",
       "mean_vertical_travel_distance              -0.125295   0.127428  -0.983\n",
       "                                           Pr(>|t|)    \n",
       "(Intercept)                                1.67e-06 ***\n",
       "mean_latency_1_Zone                           0.938    \n",
       "mean_percentage_time_outside_while_WG_open    0.784    \n",
       "perc_days_nomvtamngfirst3days                 0.681    \n",
       "mean_vertical_travel_distance                 0.329    \n",
       "---\n",
       "Signif. codes:  0 '***' 0.001 '**' 0.01 '*' 0.05 '.' 0.1 ' ' 1\n",
       "\n",
       "Residual standard error: 15.02 on 73 degrees of freedom\n",
       "Multiple R-squared:  0.02476,\tAdjusted R-squared:  -0.02868 \n",
       "F-statistic: 0.4632 on 4 and 73 DF,  p-value: 0.7625\n"
      ]
     },
     "metadata": {},
     "output_type": "display_data"
    },
    {
     "data": {
      "image/png": "[encoded data removed]",
      "text/plain": [
       "Plot with title \"\""
      ]
     },
     "metadata": {
      "image/png": {
       "height": 420,
       "width": 420
      }
     },
     "output_type": "display_data"
    },
    {
     "data": {
      "image/png": "[encoded data removed]",
      "text/plain": [
       "Plot with title \"\""
      ]
     },
     "metadata": {
      "image/png": {
       "height": 420,
       "width": 420
      }
     },
     "output_type": "display_data"
    },
    {
     "data": {
      "image/png": "[encoded data removed]",
      "text/plain": [
       "Plot with title \"\""
      ]
     },
     "metadata": {
      "image/png": {
       "height": 420,
       "width": 420
      }
     },
     "output_type": "display_data"
    },
    {
     "ename": "ERROR",
     "evalue": "Error in Dsquared(model_final): impossible de trouver la fonction \"Dsquared\"\n",
     "output_type": "error",
     "traceback": [
      "Error in Dsquared(model_final): impossible de trouver la fonction \"Dsquared\"\nTraceback:\n"
     ]
    },
    {
     "data": {
      "image/png": "[encoded data removed]",
      "text/plain": [
       "Plot with title \"\""
      ]
     },
     "metadata": {
      "image/png": {
       "height": 420,
       "width": 420
      }
     },
     "output_type": "display_data"
    }
   ],
   "source": [
    "#TODO with final model\n",
    "model_final = lm(severity ~ mean_latency_1_Zone+mean_percentage_time_outside_while_WG_open  +perc_days_nomvtamngfirst3days+mean_vertical_travel_distance+mean_vertical_travel_distance,\n",
    "                 data=df)\n",
    "summary(model_final)  #absolute_difference_log_0\n",
    "plot(model_final)\n",
    "Dsquared(model_final)\n",
    "bin.resid.df =  simulateResiduals(model_final, 2000)\n",
    "plotSimulatedResiduals(bin.resid.df)\n",
    "plot(bin.resid.df)"
   ]
  },
  {
   "cell_type": "code",
   "execution_count": null,
   "metadata": {},
   "outputs": [],
   "source": []
  },
  {
   "cell_type": "code",
   "execution_count": null,
   "metadata": {},
   "outputs": [],
   "source": []
  },
  {
   "cell_type": "code",
   "execution_count": null,
   "metadata": {},
   "outputs": [],
   "source": []
  },
  {
   "cell_type": "code",
   "execution_count": null,
   "metadata": {},
   "outputs": [],
   "source": []
  },
  {
   "cell_type": "code",
   "execution_count": null,
   "metadata": {},
   "outputs": [],
   "source": []
  },
  {
   "cell_type": "code",
   "execution_count": null,
   "metadata": {},
   "outputs": [],
   "source": []
  }
 ],
 "metadata": {
  "kernelspec": {
   "display_name": "R 4.0.3",
   "language": "R",
   "name": "ir35"
  },
  "language_info": {
   "codemirror_mode": "r",
   "file_extension": ".r",
   "mimetype": "text/x-r-source",
   "name": "R",
   "pygments_lexer": "r",
   "version": "4.0.3"
  }
 },
 "nbformat": 4,
 "nbformat_minor": 4
}
