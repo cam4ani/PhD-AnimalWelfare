{
 "cells": [
  {
   "cell_type": "code",
   "execution_count": 30,
   "metadata": {},
   "outputs": [
    {
     "name": "stderr",
     "output_type": "stream",
     "text": [
      "Loading required package: Matrix\n",
      "\n",
      "\n",
      "Attaching package: 'Matrix'\n",
      "\n",
      "\n",
      "The following objects are masked from 'package:tidyr':\n",
      "\n",
      "    expand, pack, unpack\n",
      "\n",
      "\n"
     ]
    }
   ],
   "source": [
    "library(lindia)\n",
    "library(tidyverse)\n",
    "library(caret)\n",
    "library(leaps)\n",
    "library(MASS)\n",
    "library(lme4) #random effect"
   ]
  },
  {
   "cell_type": "markdown",
   "metadata": {},
   "source": [
    "# Download data"
   ]
  },
  {
   "cell_type": "code",
   "execution_count": 40,
   "metadata": {
    "scrolled": true
   },
   "outputs": [
    {
     "name": "stdout",
     "output_type": "stream",
     "text": [
      "[1] 98 65\n"
     ]
    },
    {
     "data": {
      "text/plain": [
       "    HenID           chi2distance       chi2distance_ALL_15  DTW_30_all       \n",
       " Length:98          Length:98          Length:98           Length:98         \n",
       " Class :character   Class :character   Class :character    Class :character  \n",
       " Mode  :character   Mode  :character   Mode  :character    Mode  :character  \n",
       "                                                                             \n",
       "                                                                             \n",
       "                                                                             \n",
       " DTW_30_1_Zone      DTW_30_2_Zone      DTW_30_3_Zone      DTW_30_4_Zone     \n",
       " Length:98          Length:98          Length:98          Length:98         \n",
       " Class :character   Class :character   Class :character   Class :character  \n",
       " Mode  :character   Mode  :character   Mode  :character   Mode  :character  \n",
       "                                                                            \n",
       "                                                                            \n",
       "                                                                            \n",
       " DTW_30_5_Zone      perc_duration_5_Zone perc_duration_4_Zone\n",
       " Length:98          Length:98            Length:98           \n",
       " Class :character   Class :character     Class :character    \n",
       " Mode  :character   Mode  :character     Mode  :character    \n",
       "                                                             \n",
       "                                                             \n",
       "                                                             \n",
       " perc_duration_3_Zone perc_duration_2_Zone\n",
       " Length:98            Length:98           \n",
       " Class :character     Class :character    \n",
       " Mode  :character     Mode  :character    \n",
       "                                          \n",
       "                                          \n",
       "                                          \n",
       " percentage_time_outside_while_WG_open latency_1_Zone    \n",
       " Length:98                             Length:98         \n",
       " Class :character                      Class :character  \n",
       " Mode  :character                      Mode  :character  \n",
       "                                                         \n",
       "                                                         \n",
       "                                                         \n",
       " vertical_travel_distance    nbr_obs      mssd_chi2distance   mean_chi2distance\n",
       " Length:98                Min.   :47.00   Min.   :0.0002396   Min.   :0.02034  \n",
       " Class :character         1st Qu.:52.00   1st Qu.:0.0012988   1st Qu.:0.04111  \n",
       " Mode  :character         Median :52.00   Median :0.0025658   Median :0.05084  \n",
       "                          Mean   :51.23   Mean   :0.0056011   Mean   :0.05622  \n",
       "                          3rd Qu.:52.00   3rd Qu.:0.0063825   3rd Qu.:0.06433  \n",
       "                          Max.   :52.00   Max.   :0.0492942   Max.   :0.12811  \n",
       " nbr_obs_chi2distance mssd_chi2distance_ALL_15 mean_chi2distance_ALL_15\n",
       " Min.   :38.00        Min.   :0.002691         Min.   :0.1670          \n",
       " 1st Qu.:44.00        1st Qu.:0.009014         1st Qu.:0.3169          \n",
       " Median :46.00        Median :0.012023         Median :0.3696          \n",
       " Mean   :45.04        Mean   :0.013428         Mean   :0.3617          \n",
       " 3rd Qu.:48.00        3rd Qu.:0.015928         3rd Qu.:0.4045          \n",
       " Max.   :48.00        Max.   :0.046882         Max.   :0.4992          \n",
       " nbr_obs_chi2distance_ALL_15 mssd_DTW_30_all  mean_DTW_30_all\n",
       " Min.   :38.00               Min.   : 636.1   Min.   :104.9  \n",
       " 1st Qu.:44.00               1st Qu.:1596.8   1st Qu.:158.7  \n",
       " Median :46.00               Median :2168.4   Median :178.9  \n",
       " Mean   :45.04               Mean   :2450.4   Mean   :177.3  \n",
       " 3rd Qu.:48.00               3rd Qu.:2961.6   3rd Qu.:197.1  \n",
       " Max.   :48.00               Max.   :7147.6   Max.   :229.5  \n",
       " nbr_obs_DTW_30_all mssd_DTW_30_1_Zone mean_DTW_30_1_Zone nbr_obs_DTW_30_1_Zone\n",
       " Min.   :38.00      Min.   :  0.00     Min.   : 0.000     Min.   :38.00        \n",
       " 1st Qu.:44.00      1st Qu.: 13.12     1st Qu.: 4.534     1st Qu.:44.00        \n",
       " Median :46.00      Median : 28.73     Median : 9.470     Median :46.00        \n",
       " Mean   :45.04      Mean   : 37.16     Mean   : 9.845     Mean   :45.04        \n",
       " 3rd Qu.:48.00      3rd Qu.: 54.87     3rd Qu.:14.203     3rd Qu.:48.00        \n",
       " Max.   :48.00      Max.   :122.87     Max.   :27.041     Max.   :48.00        \n",
       " mssd_DTW_30_2_Zone mean_DTW_30_2_Zone nbr_obs_DTW_30_2_Zone mssd_DTW_30_3_Zone\n",
       " Min.   : 50.73     Min.   :18.48      Min.   :38.00         Min.   : 30.22    \n",
       " 1st Qu.:108.80     1st Qu.:38.72      1st Qu.:44.00         1st Qu.:215.67    \n",
       " Median :162.05     Median :42.20      Median :46.00         Median :334.33    \n",
       " Mean   :193.44     Mean   :41.73      Mean   :45.04         Mean   :339.00    \n",
       " 3rd Qu.:239.65     3rd Qu.:46.22      3rd Qu.:48.00         3rd Qu.:440.95    \n",
       " Max.   :639.10     Max.   :53.90      Max.   :48.00         Max.   :766.44    \n",
       " mean_DTW_30_3_Zone nbr_obs_DTW_30_3_Zone mssd_DTW_30_4_Zone mean_DTW_30_4_Zone\n",
       " Min.   : 6.673     Min.   :38.00         Min.   : 31.38     Min.   :10.30     \n",
       " 1st Qu.:33.675     1st Qu.:44.00         1st Qu.:100.12     1st Qu.:21.19     \n",
       " Median :40.633     Median :46.00         Median :192.49     Median :25.77     \n",
       " Mean   :39.988     Mean   :45.04         Mean   :213.37     Mean   :27.65     \n",
       " 3rd Qu.:46.567     3rd Qu.:48.00         3rd Qu.:269.45     3rd Qu.:33.12     \n",
       " Max.   :64.233     Max.   :48.00         Max.   :886.68     Max.   :52.60     \n",
       " nbr_obs_DTW_30_4_Zone mssd_DTW_30_5_Zone mean_DTW_30_5_Zone\n",
       " Min.   :38.00         Min.   : 120.4     Min.   :20.77     \n",
       " 1st Qu.:44.00         1st Qu.: 335.5     1st Qu.:51.82     \n",
       " Median :46.00         Median : 441.8     Median :59.34     \n",
       " Mean   :45.04         Mean   : 496.1     Mean   :58.08     \n",
       " 3rd Qu.:48.00         3rd Qu.: 588.2     3rd Qu.:64.88     \n",
       " Max.   :48.00         Max.   :1538.0     Max.   :81.63     \n",
       " nbr_obs_DTW_30_5_Zone mssd_perc_duration_5_Zone mean_perc_duration_5_Zone\n",
       " Min.   :38.00         Min.   : 12.72            Min.   : 2.747           \n",
       " 1st Qu.:44.00         1st Qu.: 79.43            1st Qu.:26.715           \n",
       " Median :46.00         Median :119.07            Median :39.880           \n",
       " Mean   :45.04         Mean   :148.10            Mean   :41.822           \n",
       " 3rd Qu.:48.00         3rd Qu.:181.23            3rd Qu.:55.486           \n",
       " Max.   :48.00         Max.   :456.77            Max.   :87.318           \n",
       " nbr_obs_perc_duration_5_Zone mssd_perc_duration_4_Zone\n",
       " Min.   :43.00                Min.   :  1.126          \n",
       " 1st Qu.:48.00                1st Qu.:  9.214          \n",
       " Median :49.00                Median : 16.949          \n",
       " Mean   :48.64                Mean   : 24.543          \n",
       " 3rd Qu.:51.00                3rd Qu.: 33.425          \n",
       " Max.   :51.00                Max.   :101.179          \n",
       " mean_perc_duration_4_Zone nbr_obs_perc_duration_4_Zone\n",
       " Min.   : 3.170            Min.   :43.00               \n",
       " 1st Qu.: 5.459            1st Qu.:48.00               \n",
       " Median : 7.072            Median :49.00               \n",
       " Mean   : 8.206            Mean   :48.64               \n",
       " 3rd Qu.: 8.698            3rd Qu.:51.00               \n",
       " Max.   :28.969            Max.   :51.00               \n",
       " mssd_perc_duration_3_Zone mean_perc_duration_3_Zone\n",
       " Min.   : 1.059            Min.   : 0.8347          \n",
       " 1st Qu.:15.792            1st Qu.:11.8171          \n",
       " Median :23.601            Median :16.8034          \n",
       " Mean   :28.857            Mean   :17.2086          \n",
       " 3rd Qu.:38.775            3rd Qu.:22.7808          \n",
       " Max.   :90.343            Max.   :33.8757          \n",
       " nbr_obs_perc_duration_3_Zone mssd_perc_duration_2_Zone\n",
       " Min.   :43.00                Min.   : 10.33           \n",
       " 1st Qu.:48.00                1st Qu.: 41.80           \n",
       " Median :49.00                Median : 57.68           \n",
       " Mean   :48.64                Mean   : 70.98           \n",
       " 3rd Qu.:51.00                3rd Qu.: 83.50           \n",
       " Max.   :51.00                Max.   :359.17           \n",
       " mean_perc_duration_2_Zone nbr_obs_perc_duration_2_Zone\n",
       " Min.   : 2.626            Min.   :43.00               \n",
       " 1st Qu.:20.900            1st Qu.:48.00               \n",
       " Median :28.999            Median :49.00               \n",
       " Mean   :30.150            Mean   :48.64               \n",
       " 3rd Qu.:39.920            3rd Qu.:51.00               \n",
       " Max.   :55.734            Max.   :51.00               \n",
       " mssd_percentage_time_outside_while_WG_open\n",
       " Min.   :  0.000                           \n",
       " 1st Qu.:  5.981                           \n",
       " Median : 15.171                           \n",
       " Mean   : 28.906                           \n",
       " 3rd Qu.: 42.401                           \n",
       " Max.   :144.150                           \n",
       " mean_percentage_time_outside_while_WG_open\n",
       " Min.   : 0.000                            \n",
       " 1st Qu.: 1.581                            \n",
       " Median : 4.721                            \n",
       " Mean   : 6.664                            \n",
       " 3rd Qu.: 9.430                            \n",
       " Max.   :39.060                            \n",
       " nbr_obs_percentage_time_outside_while_WG_open mssd_latency_1_Zone\n",
       " Min.   :36.00                                 Min.   :    0      \n",
       " 1st Qu.:41.00                                 1st Qu.: 5339      \n",
       " Median :44.00                                 Median : 9247      \n",
       " Mean   :42.13                                 Mean   : 9538      \n",
       " 3rd Qu.:44.00                                 3rd Qu.:13601      \n",
       " Max.   :44.00                                 Max.   :24598      \n",
       " mean_latency_1_Zone nbr_obs_latency_1_Zone mssd_vertical_travel_distance\n",
       " Min.   :  0.0       Min.   :39.00          Min.   : 23.91               \n",
       " 1st Qu.:100.9       1st Qu.:44.00          1st Qu.: 72.05               \n",
       " Median :181.7       Median :44.00          Median : 96.54               \n",
       " Mean   :173.9       Mean   :43.23          Mean   :104.16               \n",
       " 3rd Qu.:256.0       3rd Qu.:44.00          3rd Qu.:125.42               \n",
       " Max.   :365.1       Max.   :44.00          Max.   :319.26               \n",
       " mean_vertical_travel_distance nbr_obs_vertical_travel_distance    severity    \n",
       " Min.   :10.08                 Min.   :43.00                    Min.   : 0.00  \n",
       " 1st Qu.:32.88                 1st Qu.:48.00                    1st Qu.:16.50  \n",
       " Median :43.03                 Median :49.00                    Median :30.00  \n",
       " Mean   :42.41                 Mean   :48.64                    Mean   :28.49  \n",
       " 3rd Qu.:50.17                 3rd Qu.:51.00                    3rd Qu.:37.50  \n",
       " Max.   :71.43                 Max.   :51.00                    Max.   :70.00  \n",
       "    Feathers     perc_days_nomvtamngfirst3days\n",
       " Min.   :70.00   Min.   : 0.0000              \n",
       " 1st Qu.:83.21   1st Qu.: 0.0000              \n",
       " Median :88.33   Median : 0.0000              \n",
       " Mean   :87.20   Mean   : 0.6803              \n",
       " 3rd Qu.:91.96   3rd Qu.: 0.0000              \n",
       " Max.   :98.33   Max.   :66.6667              "
      ]
     },
     "metadata": {},
     "output_type": "display_data"
    }
   ],
   "source": [
    "path_ = 'G:/VPHI/Welfare/2- Research Projects/OFHE2.OriginsE2/DataOutput/TrackingSystem/correctlightschedule_'\n",
    "df = read.csv(file.path(path_,'Adaptability_Stat_MSSD_mixedeffect.csv'), header = TRUE, sep = \";\")\n",
    "#li_var_cont = c('ID0','ID1','ID2','ID3','ID4','ID5','ID6','ID7')\n",
    "#df$maxsevGap0_divided_maxsev_round = round(df$maxsevGap0_divided_maxsev, 1)\n",
    "#df$maxsevGap0_divided_maxsev_round_log <- log(df$maxsevGap0_divided_maxsev_round)\n",
    "#print(as.data.frame(table(df$maxsevGap0_divided_maxsev_round)))\n",
    "#df_ = df[,c(li_var_cont, 'maxsevGap0_divided_maxsev_round','maxsevGap0_divided_maxsev_round_log')] \n",
    "print(dim(df))\n",
    "summary(df)"
   ]
  },
  {
   "cell_type": "markdown",
   "metadata": {},
   "source": [
    "# Stepwise model selection"
   ]
  },
  {
   "cell_type": "markdown",
   "metadata": {},
   "source": [
    "#random seed for reproductibility\n",
    "set.seed(0)\n",
    "\n",
    "#set up repeated k-fold cross-validation\n",
    "train.control = trainControl(method = \"cv\", number=3)\n",
    "\n",
    "#fit linear regression with stepwise selection (method: \"leapBackward\",\"leapForward\", \"leapSeq\")\n",
    "step.model = train(Feathers ~ ., #mean_percentage_time_outside_while_WG_open+ mean_latency_1_Zone+perc_days_nomvtamngfirst3days+mean_DTW_30_5_Zone+mssd_DTW_30_5_Zone+mssd_vertical_travel_distance+mean_vertical_travel_distance,\n",
    "                   data=df,\n",
    "                   method = \"leapSeq\", \n",
    "                    tuneGrid = data.frame(nvmax=1:6),\n",
    "                    trControl = train.control, na.action = na.exclude) #na.exclude na.omit\n",
    "step.model$results\n",
    "nv = step.model$bestTune\n",
    "print(nv)\n",
    "summary(step.model$finalModel)"
   ]
  },
  {
   "cell_type": "code",
   "execution_count": 41,
   "metadata": {},
   "outputs": [],
   "source": [
    "#lindia::gg_diagnose(model)"
   ]
  },
  {
   "cell_type": "code",
   "execution_count": 48,
   "metadata": {
    "scrolled": false
   },
   "outputs": [
    {
     "data": {
      "text/plain": [
       "\n",
       "Call:\n",
       "lm(formula = Feathers ~ mean_percentage_time_outside_while_WG_open + \n",
       "    nbr_obs_percentage_time_outside_while_WG_open, data = df)\n",
       "\n",
       "Residuals:\n",
       "     Min       1Q   Median       3Q      Max \n",
       "-17.2763  -3.5751   0.4081   3.4836  10.3564 \n",
       "\n",
       "Coefficients:\n",
       "                                              Estimate Std. Error t value\n",
       "(Intercept)                                   67.44922    8.94647   7.539\n",
       "mean_percentage_time_outside_while_WG_open     0.20549    0.08219   2.500\n",
       "nbr_obs_percentage_time_outside_while_WG_open  0.43633    0.21331   2.045\n",
       "                                              Pr(>|t|)    \n",
       "(Intercept)                                   2.78e-11 ***\n",
       "mean_percentage_time_outside_while_WG_open      0.0141 *  \n",
       "nbr_obs_percentage_time_outside_while_WG_open   0.0436 *  \n",
       "---\n",
       "Signif. codes:  0 '***' 0.001 '**' 0.01 '*' 0.05 '.' 0.1 ' ' 1\n",
       "\n",
       "Residual standard error: 5.789 on 95 degrees of freedom\n",
       "Multiple R-squared:  0.113,\tAdjusted R-squared:  0.09432 \n",
       "F-statistic: 6.051 on 2 and 95 DF,  p-value: 0.003361\n"
      ]
     },
     "metadata": {},
     "output_type": "display_data"
    },
    {
     "data": {
      "image/png": "[encoded data removed]",
      "text/plain": [
       "Plot with title \"\""
      ]
     },
     "metadata": {
      "image/png": {
       "height": 420,
       "width": 420
      }
     },
     "output_type": "display_data"
    },
    {
     "data": {
      "image/png": "[encoded data removed]",
      "text/plain": [
       "Plot with title \"\""
      ]
     },
     "metadata": {
      "image/png": {
       "height": 420,
       "width": 420
      }
     },
     "output_type": "display_data"
    },
    {
     "data": {
      "image/png": "[encoded data removed]",
      "text/plain": [
       "Plot with title \"\""
      ]
     },
     "metadata": {
      "image/png": {
       "height": 420,
       "width": 420
      }
     },
     "output_type": "display_data"
    },
    {
     "ename": "ERROR",
     "evalue": "Error in Dsquared(model_final): impossible de trouver la fonction \"Dsquared\"\n",
     "output_type": "error",
     "traceback": [
      "Error in Dsquared(model_final): impossible de trouver la fonction \"Dsquared\"\nTraceback:\n"
     ]
    },
    {
     "data": {
      "image/png": "[encoded data removed]",
      "text/plain": [
       "Plot with title \"\""
      ]
     },
     "metadata": {
      "image/png": {
       "height": 420,
       "width": 420
      }
     },
     "output_type": "display_data"
    }
   ],
   "source": [
    "model_final = lm(Feathers ~ mean_percentage_time_outside_while_WG_open+nbr_obs_percentage_time_outside_while_WG_open,\n",
    "                 data=df)\n",
    "summary(model_final) \n",
    "plot(model_final)\n",
    "Dsquared(model_final)\n",
    "bin.resid.df =  simulateResiduals(model_final, 2000)\n",
    "plotSimulatedResiduals(bin.resid.df)\n",
    "plot(bin.resid.df)"
   ]
  },
  {
   "cell_type": "markdown",
   "metadata": {},
   "source": [
    "#modeling with randm effect, if we wan tto see across different HA for example\n",
    "fit = lmer(Feathers ~ mean_percentage_time_outside_while_WG_open + DOA + (1|PenID/HenID), data=df)\n",
    "#capture.output(summary(fit), file=file.path(path_,paste(name,'.txt', sep='')), append=TRUE)\n",
    "summary(fit)\n",
    "\n",
    "#Assumptions\n",
    "######linearity of predictors: plot residual vs observed\n",
    "plot(resid(fit),df$Feathers)\n",
    "\n",
    "###### normally distributed residuals\n",
    "#qqmath(fit, id=0.05)\n",
    "qqnorm(resid(fit), main = \"Residuals\")\n",
    "qqline(resid(fit))\n",
    "hist(resid(fit))\n",
    "###### normally of random effects\n",
    "qqmath(ranef(fit,postVar = TRUE))\n",
    "\n",
    "######check homogeneity of variance (residuals has constant variance)\n",
    "#variance of the residuals is equal across groups. Even spread around the centered line?\n",
    "plot(fit)\n",
    "\n",
    "###### check if the residuals are independent. This can be checked by plotting residuals against covariates - especially time-varying or spatial covariates. There should not be any systematic pattern\n",
    "plot(resid(fit),df$DIB)"
   ]
  },
  {
   "cell_type": "code",
   "execution_count": null,
   "metadata": {},
   "outputs": [],
   "source": []
  },
  {
   "cell_type": "code",
   "execution_count": null,
   "metadata": {},
   "outputs": [],
   "source": []
  },
  {
   "cell_type": "code",
   "execution_count": null,
   "metadata": {},
   "outputs": [],
   "source": []
  },
  {
   "cell_type": "code",
   "execution_count": null,
   "metadata": {},
   "outputs": [],
   "source": []
  },
  {
   "cell_type": "code",
   "execution_count": null,
   "metadata": {},
   "outputs": [],
   "source": []
  },
  {
   "cell_type": "code",
   "execution_count": null,
   "metadata": {},
   "outputs": [],
   "source": []
  },
  {
   "cell_type": "code",
   "execution_count": null,
   "metadata": {},
   "outputs": [],
   "source": []
  },
  {
   "cell_type": "code",
   "execution_count": null,
   "metadata": {},
   "outputs": [],
   "source": []
  },
  {
   "cell_type": "code",
   "execution_count": null,
   "metadata": {},
   "outputs": [],
   "source": []
  }
 ],
 "metadata": {
  "kernelspec": {
   "display_name": "R 4.0.3",
   "language": "R",
   "name": "ir35"
  },
  "language_info": {
   "codemirror_mode": "r",
   "file_extension": ".r",
   "mimetype": "text/x-r-source",
   "name": "R",
   "pygments_lexer": "r",
   "version": "4.0.3"
  }
 },
 "nbformat": 4,
 "nbformat_minor": 4
}
