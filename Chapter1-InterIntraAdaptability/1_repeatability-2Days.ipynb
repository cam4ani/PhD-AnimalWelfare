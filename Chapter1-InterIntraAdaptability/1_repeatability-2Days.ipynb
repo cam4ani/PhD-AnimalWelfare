{
 "cells": [
  {
   "cell_type": "markdown",
   "metadata": {},
   "source": [
    "library(lindia)\n",
    "library(tidyverse)\n",
    "library(caret)\n",
    "library(leaps)\n",
    "library(MASS)\n",
    "library(lme4) #random effect"
   ]
  },
  {
   "cell_type": "code",
   "execution_count": 1,
   "metadata": {},
   "outputs": [
    {
     "name": "stderr",
     "output_type": "stream",
     "text": [
      "-- \u001b[1mAttaching packages\u001b[22m ------------------------------------------------------------------------------- tidyverse 1.3.0 --\n",
      "\n",
      "\u001b[32mv\u001b[39m \u001b[34mtibble \u001b[39m 3.0.6     \u001b[32mv\u001b[39m \u001b[34mdplyr  \u001b[39m 1.0.3\n",
      "\u001b[32mv\u001b[39m \u001b[34mtidyr  \u001b[39m 1.1.2     \u001b[32mv\u001b[39m \u001b[34mstringr\u001b[39m 1.4.0\n",
      "\u001b[32mv\u001b[39m \u001b[34mreadr  \u001b[39m 1.4.0     \u001b[32mv\u001b[39m \u001b[34mforcats\u001b[39m 0.5.1\n",
      "\u001b[32mv\u001b[39m \u001b[34mpurrr  \u001b[39m 0.3.4     \n",
      "\n",
      "-- \u001b[1mConflicts\u001b[22m ---------------------------------------------------------------------------------- tidyverse_conflicts() --\n",
      "\u001b[31mx\u001b[39m \u001b[34mdplyr\u001b[39m::\u001b[32mfilter()\u001b[39m masks \u001b[34mstats\u001b[39m::filter()\n",
      "\u001b[31mx\u001b[39m \u001b[34mdplyr\u001b[39m::\u001b[32mlag()\u001b[39m    masks \u001b[34mstats\u001b[39m::lag()\n",
      "\n",
      "Loading required package: lattice\n",
      "\n",
      "\n",
      "Attaching package: 'caret'\n",
      "\n",
      "\n",
      "The following object is masked from 'package:purrr':\n",
      "\n",
      "    lift\n",
      "\n",
      "\n",
      "\n",
      "Attaching package: 'MASS'\n",
      "\n",
      "\n",
      "The following object is masked from 'package:dplyr':\n",
      "\n",
      "    select\n",
      "\n",
      "\n",
      "Loading required package: Matrix\n",
      "\n",
      "\n",
      "Attaching package: 'Matrix'\n",
      "\n",
      "\n",
      "The following objects are masked from 'package:tidyr':\n",
      "\n",
      "    expand, pack, unpack\n",
      "\n",
      "\n",
      "This is DHARMa 0.3.3.0. For overview type '?DHARMa'. For recent changes, type news(package = 'DHARMa') Note: Syntax of plotResiduals has changed in 0.3.0, see ?plotResiduals for details\n",
      "\n"
     ]
    }
   ],
   "source": [
    "#install.packages(\"rptR\")\n",
    "library(rptR)\n",
    "library(ggplot2)\n",
    "\n",
    "library(lindia)\n",
    "library(tidyverse)\n",
    "library(caret)\n",
    "library(leaps)\n",
    "library(MASS)\n",
    "library(lme4) #random effect\n",
    "\n",
    "library(DHARMa) #verify assumpltion of glm"
   ]
  },
  {
   "cell_type": "markdown",
   "metadata": {},
   "source": [
    "#install.packages(\"emmeans\")\n",
    "library(DHARMa)\n",
    "library(lindia)\n",
    "library(tidyverse)\n",
    "library(caret)\n",
    "library(leaps)\n",
    "library(MASS)\n",
    "library(modEvA)\n",
    "library(dplyr)\n",
    "library(lme4) #random effect\n",
    "library(broom)\n",
    "library(ggpubr) \n",
    "library(rstatix)\n",
    "library(WRS2) #robust ancova\n",
    "library(lmerTest) #like lmer but with p-value\n",
    "library(emmeans)\n",
    "\n",
    "#levenetest\n",
    "library(car)"
   ]
  },
  {
   "cell_type": "code",
   "execution_count": 2,
   "metadata": {},
   "outputs": [],
   "source": [
    "#TODO: nboot change to 500????\n",
    "#find out the which one to use: link or org\n",
    "#find out about undary (singular) fit: see ?isSingular"
   ]
  },
  {
   "cell_type": "raw",
   "metadata": {},
   "source": [
    "additional info on rptR\n",
    "https://cran.r-project.org/web/packages/rptR/rptR.pdf\n",
    "https://cran.r-project.org/web/packages/rptR/vignettes/rptR.html\n",
    "Number of permutations used when calculating asymptotic p-values (defaults to\n",
    "0). Larger numbers of permutations give a better asymtotic p-values, but may\n",
    "be time-consuming "
   ]
  },
  {
   "cell_type": "markdown",
   "metadata": {},
   "source": [
    "# Download data"
   ]
  },
  {
   "cell_type": "code",
   "execution_count": 3,
   "metadata": {
    "scrolled": true
   },
   "outputs": [
    {
     "name": "stdout",
     "output_type": "stream",
     "text": [
      "[1] 6382  228\n"
     ]
    },
    {
     "data": {
      "text/plain": [
       "     HenID         level           duration_1_Zone duration_2_Zone\n",
       " hen_10 :  51   Length:6382        Min.   :    0   Min.   :    0  \n",
       " hen_108:  51   Class :character   1st Qu.:    0   1st Qu.: 5200  \n",
       " hen_111:  51   Mode  :character   Median :    0   Median :14214  \n",
       " hen_112:  51                      Mean   : 1244   Mean   :14054  \n",
       " hen_117:  51                      3rd Qu.: 1680   3rd Qu.:21776  \n",
       " hen_118:  51                      Max.   :18997   Max.   :43644  \n",
       " (Other):6076                                                     \n",
       " duration_3_Zone duration_4_Zone duration_5_Zone\n",
       " Min.   :    0   Min.   :    0   Min.   :    0  \n",
       " 1st Qu.: 2442   1st Qu.: 1372   1st Qu.: 5394  \n",
       " Median : 6553   Median : 2844   Median :14859  \n",
       " Mean   : 7809   Mean   : 3492   Mean   :17597  \n",
       " 3rd Qu.:11929   3rd Qu.: 4517   3rd Qu.:29404  \n",
       " Max.   :34417   Max.   :44088   Max.   :52195  \n",
       "                                                \n",
       " verification_daily_total_duration Total_number_zone Max_duration_zones\n",
       " Min.   :28800                     Min.   :1.000     Length:6382       \n",
       " 1st Qu.:39600                     1st Qu.:4.000     Class :character  \n",
       " Median :43200                     Median :4.000     Mode  :character  \n",
       " Mean   :44195                     Mean   :4.191                       \n",
       " 3rd Qu.:50400                     3rd Qu.:5.000                       \n",
       " Max.   :54000                     Max.   :5.000                       \n",
       "                                                                       \n",
       " dico_zone_sortedduration Total_number_transition distribution_entropy\n",
       " Length:6382              Min.   :  0.00          Min.   :0.0000      \n",
       " Class :character         1st Qu.: 21.00          1st Qu.:0.7911      \n",
       " Mode  :character         Median : 43.00          Median :1.0921      \n",
       "                          Mean   : 42.81          Mean   :0.9681      \n",
       "                          3rd Qu.: 62.00          3rd Qu.:1.2633      \n",
       "                          Max.   :159.00          Max.   :1.5843      \n",
       "                                                                      \n",
       " vertical_travel_distance nbr_stays_3_Zone nbr_appearances_3_Zone\n",
       " Min.   :  0.00           Min.   : 0.00    Min.   :0             \n",
       " 1st Qu.: 22.00           1st Qu.: 6.00    1st Qu.:0             \n",
       " Median : 42.00           Median :15.00    Median :0             \n",
       " Mean   : 42.08           Mean   :15.42    Mean   :0             \n",
       " 3rd Qu.: 60.00           3rd Qu.:23.00    3rd Qu.:0             \n",
       " Max.   :160.00           Max.   :64.00    Max.   :0             \n",
       "                                                                 \n",
       " empproba_3_Zone  nbr_stays_4_Zone nbr_appearances_4_Zone empproba_4_Zone \n",
       " Min.   :  0.00   Min.   : 0.000   Min.   :0              Min.   :  0.00  \n",
       " 1st Qu.: 23.33   1st Qu.: 3.000   1st Qu.:0              1st Qu.: 33.33  \n",
       " Median : 37.50   Median : 7.000   Median :0              Median : 45.45  \n",
       " Mean   : 40.06   Mean   : 8.118   Mean   :0              Mean   : 43.64  \n",
       " 3rd Qu.: 50.00   3rd Qu.:12.000   3rd Qu.:0              3rd Qu.: 51.85  \n",
       " Max.   :100.00   Max.   :63.000   Max.   :0              Max.   :100.00  \n",
       " NA's   :498                                              NA's   :476     \n",
       " nbr_stays_5_Zone nbr_appearances_5_Zone empproba_5_Zone nbr_stays_2_Zone\n",
       " Min.   : 0.000   Min.   :0              Mode:logical    Min.   : 0.00   \n",
       " 1st Qu.: 2.000   1st Qu.:0              NA's:6382       1st Qu.: 4.00   \n",
       " Median : 4.000   Median :0                              Median :12.00   \n",
       " Mean   : 5.119   Mean   :0                              Mean   :12.99   \n",
       " 3rd Qu.: 7.000   3rd Qu.:0                              3rd Qu.:20.00   \n",
       " Max.   :38.000   Max.   :0                              Max.   :56.00   \n",
       "                                                                         \n",
       " nbr_appearances_2_Zone empproba_2_Zone   nbr_stays_1_Zone\n",
       " Min.   :0              Min.   :  5.882   Min.   : 0.000  \n",
       " 1st Qu.:0              1st Qu.: 75.676   1st Qu.: 0.000  \n",
       " Median :0              Median : 92.857   Median : 0.000  \n",
       " Mean   :0              Mean   : 86.473   Mean   : 2.155  \n",
       " 3rd Qu.:0              3rd Qu.:100.000   3rd Qu.: 3.000  \n",
       " Max.   :0              Max.   :100.000   Max.   :23.000  \n",
       "                        NA's   :721                       \n",
       " nbr_appearances_1_Zone empproba_1_Zone Max_duration_zone_4\n",
       " Min.   :0              Mode:logical    Min.   :    0      \n",
       " 1st Qu.:0              NA's:6382       1st Qu.:  678      \n",
       " Median :0                              Median : 1602      \n",
       " Mean   :0                              Mean   : 1837      \n",
       " 3rd Qu.:0                              3rd Qu.: 2598      \n",
       " Max.   :0                              Max.   :44088      \n",
       "                                                           \n",
       " down_missingZone_mvtPerc up_missingZone_mvtPerc mean_duration    \n",
       " Min.   :  0.000          Min.   :  0.000        Min.   :  284.9  \n",
       " 1st Qu.:  0.000          1st Qu.:  0.000        1st Qu.:  732.2  \n",
       " Median :  2.222          Median :  0.000        Median : 1038.5  \n",
       " Mean   :  4.649          Mean   :  2.084        Mean   : 3938.3  \n",
       " 3rd Qu.:  6.250          3rd Qu.:  2.817        3rd Qu.: 1905.9  \n",
       " Max.   :100.000          Max.   :100.000        Max.   :46800.0  \n",
       "                                                                  \n",
       " median_duration    max_duration    min_duration   variance_duration  \n",
       " Min.   :   46.0   Min.   : 1402   Min.   :    1   Min.   :        0  \n",
       " 1st Qu.:  313.0   1st Qu.: 4480   1st Qu.:    6   1st Qu.:   692291  \n",
       " Median :  480.0   Median : 7167   Median :   11   Median :  1584043  \n",
       " Mean   : 3024.2   Mean   :11422   Mean   : 2377   Mean   : 13786649  \n",
       " 3rd Qu.:  765.5   3rd Qu.:14392   3rd Qu.:   22   3rd Qu.:  6006403  \n",
       " Max.   :46800.0   Max.   :46800   Max.   :46800   Max.   :464676819  \n",
       "                                                                      \n",
       "  percentile_5      percentile_15_duration percentile_85_duration\n",
       " Min.   :    3.00   Min.   :    2.0        Min.   :   24         \n",
       " 1st Qu.:   15.20   1st Qu.:   33.0        1st Qu.: 1240         \n",
       " Median :   24.65   Median :   58.0        Median : 1696         \n",
       " Mean   : 2411.45   Mean   : 2434.7        Mean   : 4403         \n",
       " 3rd Qu.:   55.94   3rd Qu.:  125.8        3rd Qu.: 2684         \n",
       " Max.   :46800.00   Max.   :46800.0        Max.   :46800         \n",
       "                                                                 \n",
       " percentile_95_duration median_abs_deviation_duration kurtosis_duration\n",
       " Min.   :   24          Min.   :    0.0               Min.   :-1.627   \n",
       " 1st Qu.: 2165          1st Qu.:  224.1               1st Qu.: 2.477   \n",
       " Median : 2980          Median :  341.0               Median : 5.518   \n",
       " Mean   : 5863          Mean   :  540.0               Mean   : 8.027   \n",
       " 3rd Qu.: 4965          3rd Qu.:  503.0               3rd Qu.:10.797   \n",
       " Max.   :46800          Max.   :21316.0               Max.   :67.219   \n",
       "                                                      NA's   :991      \n",
       " skew_duration   stay_longer_60sec stay_longer_60sec_3_Zone\n",
       " Min.   :0.165   Min.   :  1.00    Min.   : 0.00           \n",
       " 1st Qu.:1.694   1st Qu.: 18.00    1st Qu.: 5.00           \n",
       " Median :2.317   Median : 37.00    Median :12.00           \n",
       " Mean   :2.520   Mean   : 35.93    Mean   :12.48           \n",
       " 3rd Qu.:3.131   3rd Qu.: 52.00    3rd Qu.:19.00           \n",
       " Max.   :7.975   Max.   :112.00    Max.   :51.00           \n",
       " NA's   :991                                               \n",
       " stay_longer_60sec_4_Zone stay_longer_60sec_5_Zone stay_longer_60sec_2_Zone\n",
       " Min.   : 0.000           Min.   : 0.000           Min.   : 0.00           \n",
       " 1st Qu.: 2.000           1st Qu.: 2.000           1st Qu.: 3.00           \n",
       " Median : 4.000           Median : 4.000           Median :10.00           \n",
       " Mean   : 4.983           Mean   : 4.791           Mean   :11.52           \n",
       " 3rd Qu.: 7.000           3rd Qu.: 7.000           3rd Qu.:18.00           \n",
       " Max.   :45.000           Max.   :31.000           Max.   :55.00           \n",
       "                                                                           \n",
       " stay_longer_60sec_1_Zone dico_z_chaoticmvtMiddleDuration    X0         \n",
       " Min.   : 0.000           Length:6382                     Mode:logical  \n",
       " 1st Qu.: 0.000           Class :character                NA's:6382     \n",
       " Median : 0.000           Mode  :character                              \n",
       " Mean   : 2.155                                                         \n",
       " 3rd Qu.: 3.000                                                         \n",
       " Max.   :23.000                                                         \n",
       "                                                                        \n",
       " chaoticmvt_Middle1_Zone chaoticmvt_Middle2_Zone chaoticmvt_Middle3_Zone\n",
       " Length:6382             Length:6382             Length:6382            \n",
       " Class :character        Class :character        Class :character       \n",
       " Mode  :character        Mode  :character        Mode  :character       \n",
       "                                                                        \n",
       "                                                                        \n",
       "                                                                        \n",
       "                                                                        \n",
       " chaoticmvt_Middle4_Zone chaoticmvt_Middle5_Zone\n",
       " Length:6382             Length:6382            \n",
       " Class :character        Class :character       \n",
       " Mode  :character        Mode  :character       \n",
       "                                                \n",
       "                                                \n",
       "                                                \n",
       "                                                \n",
       " chaoticmvt_Middle1_Zone_nbr_180mn chaoticmvt_Middle1_Zone_nbr_900mn\n",
       " Min.   : 0.0000                   Min.   : 0.000                   \n",
       " 1st Qu.: 0.0000                   1st Qu.: 0.000                   \n",
       " Median : 0.0000                   Median : 0.000                   \n",
       " Mean   : 0.4848                   Mean   : 1.702                   \n",
       " 3rd Qu.: 1.0000                   3rd Qu.: 3.000                   \n",
       " Max.   :13.0000                   Max.   :22.000                   \n",
       "                                                                    \n",
       " chaoticmvt_Middle2_Zone_nbr_180mn chaoticmvt_Middle2_Zone_nbr_900mn\n",
       " Min.   : 0.000                    Min.   : 0.000                   \n",
       " 1st Qu.: 0.000                    1st Qu.: 0.000                   \n",
       " Median : 0.000                    Median : 2.000                   \n",
       " Mean   : 1.064                    Mean   : 4.128                   \n",
       " 3rd Qu.: 1.000                    3rd Qu.: 6.000                   \n",
       " Max.   :20.000                    Max.   :51.000                   \n",
       "                                                                    \n",
       " chaoticmvt_Middle3_Zone_nbr_180mn chaoticmvt_Middle3_Zone_nbr_900mn\n",
       " Min.   : 0.000                    Min.   : 0.00                    \n",
       " 1st Qu.: 0.000                    1st Qu.: 1.00                    \n",
       " Median : 1.000                    Median : 5.00                    \n",
       " Mean   : 2.217                    Mean   : 6.81                    \n",
       " 3rd Qu.: 3.000                    3rd Qu.:10.00                    \n",
       " Max.   :25.000                    Max.   :54.00                    \n",
       "                                                                    \n",
       " chaoticmvt_Middle4_Zone_nbr_180mn chaoticmvt_Middle4_Zone_nbr_900mn\n",
       " Min.   : 0.000                    Min.   : 0.000                   \n",
       " 1st Qu.: 0.000                    1st Qu.: 0.000                   \n",
       " Median : 1.000                    Median : 1.000                   \n",
       " Mean   : 1.544                    Mean   : 2.567                   \n",
       " 3rd Qu.: 2.000                    3rd Qu.: 4.000                   \n",
       " Max.   :20.000                    Max.   :29.000                   \n",
       "                                                                    \n",
       " chaoticmvt_Middle5_Zone_nbr_180mn chaoticmvt_Middle5_Zone_nbr_900mn\n",
       " Min.   : 0.0000                   Min.   : 0.000                   \n",
       " 1st Qu.: 0.0000                   1st Qu.: 0.000                   \n",
       " Median : 0.0000                   Median : 0.000                   \n",
       " Mean   : 0.5874                   Mean   : 1.223                   \n",
       " 3rd Qu.: 1.0000                   3rd Qu.: 2.000                   \n",
       " Max.   :19.0000                   Max.   :28.000                   \n",
       "                                                                    \n",
       " X1_Zone_tuple_ts_dur X2_Zone_tuple_ts_dur X3_Zone_tuple_ts_dur\n",
       " Length:6382          Length:6382          Length:6382         \n",
       " Class :character     Class :character     Class :character    \n",
       " Mode  :character     Mode  :character     Mode  :character    \n",
       "                                                               \n",
       "                                                               \n",
       "                                                               \n",
       "                                                               \n",
       " X4_Zone_tuple_ts_dur X5_Zone_tuple_ts_dur\n",
       " Length:6382          Length:6382         \n",
       " Class :character     Class :character    \n",
       " Mode  :character     Mode  :character    \n",
       "                                          \n",
       "                                          \n",
       "                                          \n",
       "                                          \n",
       " Nestbox_time_of_first_staid_longer_than900sec sucessIntrusion_9\n",
       " Length:6382                                   Min.   :0.0000   \n",
       " Class :character                              1st Qu.:0.0000   \n",
       " Mode  :character                              Median :0.1111   \n",
       "                                               Mean   :0.2171   \n",
       "                                               3rd Qu.:0.3333   \n",
       "                                               Max.   :1.0000   \n",
       "                                                                \n",
       " BNestboxHour_nbrd  B10h_Nestbox_nbrvisit B10h_Nestbox_Longestduration\n",
       " Length:6382        Min.   : 0.000        Min.   :    0               \n",
       " Class :character   1st Qu.: 1.000        1st Qu.:   65               \n",
       " Mode  :character   Median : 3.000        Median : 1187               \n",
       "                    Mean   : 3.328        Mean   : 1473               \n",
       "                    3rd Qu.: 5.000        3rd Qu.: 2321               \n",
       "                    Max.   :32.000        Max.   :44088               \n",
       "                                                                      \n",
       " ANestboxHour_nbrd  A12h_Nestbox_nbrvisit A12h_Nestbox_Longestduration\n",
       " Length:6382        Min.   : 0.000        Min.   :     0.0            \n",
       " Class :character   1st Qu.: 1.000        1st Qu.:    16.0            \n",
       " Mode  :character   Median : 3.000        Median :   107.0            \n",
       "                    Mean   : 3.636        Mean   :  4177.6            \n",
       "                    3rd Qu.: 5.000        3rd Qu.:   698.8            \n",
       "                    Max.   :34.000        Max.   :323608.0            \n",
       "                                                                      \n",
       " NBtimefirstvisitlonger900_minus_time1visit activity_25percentile_sec\n",
       " Length:6382                                Min.   : 7597            \n",
       " Class :character                           1st Qu.:26232            \n",
       " Mode  :character                           Median :32002            \n",
       "                                            Mean   :32337            \n",
       "                                            3rd Qu.:37511            \n",
       "                                            Max.   :64775            \n",
       "                                            NA's   :415              \n",
       " activity_25percentile_time activity_50percentile_sec\n",
       " Length:6382                Min.   : 7735            \n",
       " Class :character           1st Qu.:39146            \n",
       " Mode  :character           Median :43732            \n",
       "                            Mean   :43179            \n",
       "                            3rd Qu.:47789            \n",
       "                            Max.   :64775            \n",
       "                            NA's   :415              \n",
       " activity_50percentile_time activity_5percentile_sec activity_5percentile_time\n",
       " Length:6382                Min.   : 7288            Length:6382              \n",
       " Class :character           1st Qu.:14702            Class :character         \n",
       " Mode  :character           Median :20157            Mode  :character         \n",
       "                            Mean   :22366                                     \n",
       "                            3rd Qu.:29288                                     \n",
       "                            Max.   :64775                                     \n",
       "                            NA's   :415                                       \n",
       " activity_95percentile_sec activity_95percentile_time\n",
       " Min.   :11016             Length:6382               \n",
       " 1st Qu.:56635             Class :character          \n",
       " Median :58679             Mode  :character          \n",
       " Mean   :57146                                       \n",
       " 3rd Qu.:60311                                       \n",
       " Max.   :64775                                       \n",
       " NA's   :415                                         \n",
       " duration_last.firsttransition_mn in_WG_15mnAfterOpening Max_duration_WG  \n",
       " Min.   :  0.0                    Min.   :0.0000         Min.   :    0.0  \n",
       " 1st Qu.:503.0                    1st Qu.:0.0000         1st Qu.:    0.0  \n",
       " Median :652.5                    Median :0.0000         Median :    0.0  \n",
       " Mean   :586.8                    Mean   :0.1835         Mean   :  512.5  \n",
       " 3rd Qu.:767.0                    3rd Qu.:0.0000         3rd Qu.:  771.0  \n",
       " Max.   :898.0                    Max.   :1.0000         Max.   :10981.0  \n",
       "                                                                          \n",
       "     PenID         CLASS               R.Pen       InitialStartDate  \n",
       " pen10  : 918   Length:6382        Min.   :1.000   Length:6382       \n",
       " pen11  : 918   Class :character   1st Qu.:2.000   Class :character  \n",
       " pen12  : 809   Mode  :character   Median :2.000   Mode  :character  \n",
       " pen8   : 784                      Mean   :2.488                     \n",
       " pen9   : 783                      3rd Qu.:3.000                     \n",
       " pen4   : 764                      Max.   :4.000                     \n",
       " (Other):1406                                                        \n",
       " X29.09.weight  X10.12.juin.weight weight.23.11.2020 weight.04.01.2021\n",
       " Min.   :1024   Min.   :48.60      Min.   :1399      Min.   :1520     \n",
       " 1st Qu.:1132   1st Qu.:62.40      1st Qu.:1607      1st Qu.:1705     \n",
       " Median :1168   Median :65.65      Median :1696      Median :1788     \n",
       " Mean   :1169   Mean   :65.21      Mean   :1681      Mean   :1787     \n",
       " 3rd Qu.:1202   3rd Qu.:69.10      3rd Qu.:1752      3rd Qu.:1864     \n",
       " Max.   :1350   Max.   :74.30      Max.   :1893      Max.   :2042     \n",
       "                NA's   :926        NA's   :47        NA's   :1444     \n",
       " weight.01.02.21 weight.12.04.21  Treatment            TagID          \n",
       " Min.   :1518    Min.   :1540    Length:6382        Length:6382       \n",
       " 1st Qu.:1742    1st Qu.:1774    Class :character   Class :character  \n",
       " Median :1820    Median :1884    Mode  :character   Mode  :character  \n",
       " Mean   :1815    Mean   :1874                                         \n",
       " 3rd Qu.:1891    3rd Qu.:1980                                         \n",
       " Max.   :2279    Max.   :2170                                         \n",
       " NA's   :784     NA's   :1615                                         \n",
       " FocalLegringName   night_level        night_Max_duration_zones\n",
       " Length:6382        Length:6382        Length:6382             \n",
       " Class :character   Class :character   Class :character        \n",
       " Mode  :character   Mode  :character   Mode  :character        \n",
       "                                                               \n",
       "                                                               \n",
       "                                                               \n",
       "                                                               \n",
       " night_distribution_entropy night_Total_number_transition  is_mvt_night   \n",
       " Min.   :0.00000            Min.   : 0.0000               Min.   :0.0000  \n",
       " 1st Qu.:0.00000            1st Qu.: 0.0000               1st Qu.:0.0000  \n",
       " Median :0.00000            Median : 0.0000               Median :0.0000  \n",
       " Mean   :0.03723            Mean   : 0.6721               Mean   :0.2521  \n",
       " 3rd Qu.:0.00437            3rd Qu.: 1.0000               3rd Qu.:1.0000  \n",
       " Max.   :1.09536            Max.   :43.0000               Max.   :1.0000  \n",
       " NA's   :179                NA's   :179                   NA's   :179     \n",
       " nbr_transition_at_h0 nbr_transition_at_h1 nbr_transition_at_h2\n",
       " Min.   :0.0000       Min.   :0.00000      Min.   :0.00000     \n",
       " 1st Qu.:0.0000       1st Qu.:0.00000      1st Qu.:0.00000     \n",
       " Median :0.0000       Median :0.00000      Median :0.00000     \n",
       " Mean   :0.0187       Mean   :0.02225      Mean   :0.01306     \n",
       " 3rd Qu.:0.0000       3rd Qu.:0.00000      3rd Qu.:0.00000     \n",
       " Max.   :6.0000       Max.   :7.00000      Max.   :5.00000     \n",
       " NA's   :179          NA's   :179          NA's   :179         \n",
       " nbr_transition_at_h3 nbr_transition_at_h4 nbr_transition_at_h5\n",
       " Min.   :0.00000      Min.   :0.00000      Min.   :0.00000     \n",
       " 1st Qu.:0.00000      1st Qu.:0.00000      1st Qu.:0.00000     \n",
       " Median :0.00000      Median :0.00000      Median :0.00000     \n",
       " Mean   :0.02064      Mean   :0.02418      Mean   :0.00822     \n",
       " 3rd Qu.:0.00000      3rd Qu.:0.00000      3rd Qu.:0.00000     \n",
       " Max.   :8.00000      Max.   :7.00000      Max.   :5.00000     \n",
       " NA's   :179          NA's   :179          NA's   :179         \n",
       " nbr_transition_at_h6 nbr_transition_at_h7 nbr_transition_at_h8\n",
       " Min.   :0.00000      Min.   :0.00000      Min.   :0.00000     \n",
       " 1st Qu.:0.00000      1st Qu.:0.00000      1st Qu.:0.00000     \n",
       " Median :0.00000      Median :0.00000      Median :0.00000     \n",
       " Mean   :0.01725      Mean   :0.01145      Mean   :0.02031     \n",
       " 3rd Qu.:0.00000      3rd Qu.:0.00000      3rd Qu.:0.00000     \n",
       " Max.   :7.00000      Max.   :7.00000      Max.   :4.00000     \n",
       " NA's   :179          NA's   :179          NA's   :179         \n",
       " nbr_transition_at_h21 nbr_transition_at_h22 nbr_transition_at_h23\n",
       " Min.   :0.0000        Min.   :0.00000       Min.   :0.00000      \n",
       " 1st Qu.:0.0000        1st Qu.:0.00000       1st Qu.:0.00000      \n",
       " Median :0.0000        Median :0.00000       Median :0.00000      \n",
       " Mean   :0.0245        Mean   :0.02176       Mean   :0.01725      \n",
       " 3rd Qu.:0.0000        3rd Qu.:0.00000       3rd Qu.:0.00000      \n",
       " Max.   :9.0000        Max.   :8.00000       Max.   :8.00000      \n",
       " NA's   :179           NA's   :179           NA's   :179          \n",
       " nbr_transition_next1hafterlightoff date_2remove_weirdLFcounter\n",
       " Min.   : 0.0000                    Length:6382                \n",
       " 1st Qu.: 0.0000                    Class :character           \n",
       " Median : 0.0000                    Mode  :character           \n",
       " Mean   : 0.3884                                               \n",
       " 3rd Qu.: 0.0000                                               \n",
       " Max.   :12.0000                                               \n",
       " NA's   :179                                                   \n",
       " nbr_temperature_nnnan temperature_night20_2_median temperature_night20_2_max\n",
       " Min.   : 25.0         Min.   :21.00                Min.   :22.00            \n",
       " 1st Qu.: 36.0         1st Qu.:27.00                1st Qu.:28.00            \n",
       " Median : 36.0         Median :28.00                Median :29.00            \n",
       " Mean   :111.9         Mean   :28.05                Mean   :29.75            \n",
       " 3rd Qu.: 37.0         3rd Qu.:29.00                3rd Qu.:31.00            \n",
       " Max.   :360.0         Max.   :40.00                Max.   :44.00            \n",
       " NA's   :1172          NA's   :1172                 NA's   :1172             \n",
       " temperature_night20_2_var len_MovementCounter_day\n",
       " Min.   : 0.0000           Min.   :60.00          \n",
       " 1st Qu.: 0.2654           1st Qu.:72.00          \n",
       " Median : 0.4321           Median :78.00          \n",
       " Mean   : 0.8761           Mean   :78.18          \n",
       " 3rd Qu.: 0.8579           3rd Qu.:90.00          \n",
       " Max.   :24.4599           Max.   :90.00          \n",
       " NA's   :1172              NA's   :1256           \n",
       " MovementCounter_day_amount_nnactivity MovementCounter_day_max\n",
       " Min.   :0.0000                        Min.   : 42.00         \n",
       " 1st Qu.:0.0000                        1st Qu.: 88.60         \n",
       " Median :0.0164                        Median : 93.00         \n",
       " Mean   :0.0331                        Mean   : 92.66         \n",
       " 3rd Qu.:0.0444                        3rd Qu.: 97.40         \n",
       " Max.   :0.8889                        Max.   :116.00         \n",
       " NA's   :1256                          NA's   :1256           \n",
       " MovementCounter_day_mean      DOA             WOA        nbr_sec_per_day\n",
       " Min.   : 9.653           Min.   :119.0   Min.   :17.00   Min.   :28800  \n",
       " 1st Qu.:55.440           1st Qu.:135.0   1st Qu.:20.00   1st Qu.:39600  \n",
       " Median :60.321           Median :147.0   Median :21.00   Median :43200  \n",
       " Mean   :59.973           Mean   :147.1   Mean   :21.44   Mean   :44195  \n",
       " 3rd Qu.:65.242           3rd Qu.:160.0   3rd Qu.:23.00   3rd Qu.:50400  \n",
       " Max.   :83.703           Max.   :172.0   Max.   :25.00   Max.   :54000  \n",
       " NA's   :1256                                                            \n",
       " is_correct_amount_time weight_DOA37.39_div_DOA118 weight_DOA37.39_div_DOA243\n",
       " Length:6382            Min.   :0.0432             Min.   :0.0270            \n",
       " Class :character       1st Qu.:0.0528             1st Qu.:0.0338            \n",
       " Mode  :character       Median :0.0560             Median :0.0359            \n",
       "                        Mean   :0.0558             Mean   :0.0360            \n",
       "                        3rd Qu.:0.0588             3rd Qu.:0.0381            \n",
       "                        Max.   :0.0674             Max.   :0.0439            \n",
       "                        NA's   :926                NA's   :1608              \n",
       " weight_DOA118_div_DOA173 weight_DOA118_div_DOA243 weight_DOA173_div_DOA243\n",
       " Min.   :0.6242           Min.   :0.5135           Min.   :0.7847          \n",
       " 1st Qu.:0.6743           1st Qu.:0.6195           1st Qu.:0.8977          \n",
       " Median :0.6949           Median :0.6425           Median :0.9292          \n",
       " Mean   :0.6975           Mean   :0.6454           Mean   :0.9260          \n",
       " 3rd Qu.:0.7150           3rd Qu.:0.6679           3rd Qu.:0.9513          \n",
       " Max.   :0.8652           Max.   :0.8303           Max.   :1.0945          \n",
       " NA's   :47               NA's   :784              NA's   :784             \n",
       "     date           temperature_C    humidity_avgpercent had_rainorsnow  \n",
       " Length:6382        Min.   : 3.000   Min.   : 59.12      Min.   :0.0000  \n",
       " Class :character   1st Qu.: 8.875   1st Qu.: 69.88      1st Qu.:0.0000  \n",
       " Mode  :character   Median :11.125   Median : 74.88      Median :1.0000  \n",
       "                    Mean   :10.603   Mean   : 76.52      Mean   :0.7029  \n",
       "                    3rd Qu.:12.500   3rd Qu.: 82.00      3rd Qu.:1.0000  \n",
       "                    Max.   :18.625   Max.   :100.00      Max.   :1.0000  \n",
       "                                                                         \n",
       "  moon_name         Illumination_percentage latency_1_Zone  latency_2_Zone \n",
       " Length:6382        Min.   : 0.1888         Min.   :  0.0   Min.   :  0.0  \n",
       " Class :character   1st Qu.:14.8313         1st Qu.:  0.0   1st Qu.:485.7  \n",
       " Mode  :character   Median :45.4612         Median :183.9   Median :654.5  \n",
       "                    Mean   :49.4766         Mean   :182.4   Mean   :586.8  \n",
       "                    3rd Qu.:86.7687         3rd Qu.:365.9   3rd Qu.:774.8  \n",
       "                    Max.   :99.8900         Max.   :418.3   Max.   :900.0  \n",
       "                                            NA's   :853                    \n",
       " latency_3_Zone  latency_4_Zone  latency_5_Zone  latency_since15mnnestbox\n",
       " Min.   :  0.0   Min.   :  0.0   Min.   :  0.0   Min.   :  0.0           \n",
       " 1st Qu.:536.7   1st Qu.:529.4   1st Qu.:597.0   1st Qu.:  0.0           \n",
       " Median :681.8   Median :664.7   Median :712.4   Median :545.2           \n",
       " Mean   :619.2   Mean   :596.7   Mean   :665.5   Mean   :414.7           \n",
       " 3rd Qu.:780.0   3rd Qu.:767.7   3rd Qu.:834.5   3rd Qu.:699.0           \n",
       " Max.   :900.0   Max.   :900.0   Max.   :900.0   Max.   :894.5           \n",
       "                                                                         \n",
       " chi2.distance     percChaoticTransition perc_duration_1_Zone\n",
       " Min.   :0.00000   Min.   : 0.00         Min.   : 0.000      \n",
       " 1st Qu.:0.01107   1st Qu.: 4.00         1st Qu.: 0.000      \n",
       " Median :0.02721   Median : 9.00         Median : 0.000      \n",
       " Mean   :0.05601   Mean   :10.31         Mean   : 2.680      \n",
       " 3rd Qu.:0.06051   3rd Qu.:15.00         3rd Qu.: 3.599      \n",
       " Max.   :1.00000   Max.   :67.00         Max.   :43.975      \n",
       " NA's   :309                                                 \n",
       " perc_duration_2_Zone perc_duration_3_Zone perc_duration_4_Zone\n",
       " Min.   :  0.00       Min.   : 0.00        Min.   : 0.000      \n",
       " 1st Qu.: 11.00       1st Qu.: 5.00        1st Qu.: 3.000      \n",
       " Median : 31.00       Median :15.00        Median : 6.000      \n",
       " Mean   : 30.78       Mean   :16.51        Mean   : 7.571      \n",
       " 3rd Qu.: 47.00       3rd Qu.:25.00        3rd Qu.: 9.000      \n",
       " Max.   :100.00       Max.   :98.00        Max.   :99.000      \n",
       "                                                               \n",
       " perc_duration_5_Zone max_duration_of_stay entropy_of_durations\n",
       " Min.   :  0.00       Min.   : 1402        Min.   :0.1232      \n",
       " 1st Qu.: 11.00       1st Qu.: 4480        1st Qu.:0.9726      \n",
       " Median : 34.00       Median : 7167        Median :1.2851      \n",
       " Mean   : 40.66       Mean   :11422        Mean   :   Inf      \n",
       " 3rd Qu.: 67.00       3rd Qu.:14392        3rd Qu.:1.6185      \n",
       " Max.   :100.00       Max.   :46800        Max.   :   Inf      \n",
       "                                           NA's   :664         \n",
       " time_wg_open_sec percentage_time_outside_while_WG_open X24htotaltransition\n",
       " Min.   : 3600    Min.   : 0.000                        Min.   :  0.00     \n",
       " 1st Qu.:18900    1st Qu.: 0.000                        1st Qu.: 22.00     \n",
       " Median :21600    Median : 1.454                        Median : 44.00     \n",
       " Mean   :20601    Mean   : 6.853                        Mean   : 43.83     \n",
       " 3rd Qu.:23400    3rd Qu.: 9.881                        3rd Qu.: 63.00     \n",
       " Max.   :24600    Max.   :91.194                        Max.   :159.00     \n",
       "                  NA's   :853                           NA's   :179        \n",
       " X.trnight..totaltr li_night_Max_duration_zones nbr_same_mainnightzone5Days\n",
       " Min.   :0.00000    Length:6382                 Min.   :0.000              \n",
       " 1st Qu.:0.00000    Class :character            1st Qu.:1.000              \n",
       " Median :0.00000    Mode  :character            Median :3.000              \n",
       " Mean   :0.02297                                Mean   :2.923              \n",
       " 3rd Qu.:0.00922                                3rd Qu.:5.000              \n",
       " Max.   :1.00000                                Max.   :5.000              \n",
       " NA's   :179                                                               \n",
       "   nbr_night_   Consistent_Night_Zone5Days\n",
       " Min.   :0.00   Min.   :0.0000            \n",
       " 1st Qu.:5.00   1st Qu.:0.0000            \n",
       " Median :5.00   Median :1.0000            \n",
       " Mean   :4.54   Mean   :0.5527            \n",
       " 3rd Qu.:5.00   3rd Qu.:1.0000            \n",
       " Max.   :5.00   Max.   :1.0000            \n",
       "                NA's   :437               \n",
       " Nestbox_time_of_first_staid_longer_than900sec_CLASS\n",
       " Length:6382                                        \n",
       " Class :character                                   \n",
       " Mode  :character                                   \n",
       "                                                    \n",
       "                                                    \n",
       "                                                    \n",
       "                                                    \n",
       " TimeFirstVisitLonger15mn.TimeFirstVisit_mn Nestbox1staylonger900_None\n",
       " Min.   :  0.0                              Length:6382               \n",
       " 1st Qu.:  6.0                              Class :character          \n",
       " Median : 41.0                              Mode  :character          \n",
       " Mean   :106.8                                                        \n",
       " 3rd Qu.:154.2                                                        \n",
       " Max.   :898.0                                                        \n",
       " NA's   :1826                                                         \n",
       " Nestbox1staylonger900_Afternoon Nestbox1staylonger900_b8\n",
       " Length:6382                     Length:6382             \n",
       " Class :character                Class :character        \n",
       " Mode  :character                Mode  :character        \n",
       "                                                         \n",
       "                                                         \n",
       "                                                         \n",
       "                                                         \n",
       " Nestbox1staylonger900_8.9 Nestbox1staylonger900_9.10\n",
       " Length:6382               Length:6382               \n",
       " Class :character          Class :character          \n",
       " Mode  :character          Mode  :character          \n",
       "                                                     \n",
       "                                                     \n",
       "                                                     \n",
       "                                                     \n",
       " Nestbox1staylonger900_10.12\n",
       " Length:6382                \n",
       " Class :character           \n",
       " Mode  :character           \n",
       "                            \n",
       "                            \n",
       "                            \n",
       "                            \n",
       " Nestbox_perc_of_visits_afternoon_vs_morning.afternoon\n",
       " Min.   :  0.00                                       \n",
       " 1st Qu.: 16.67                                       \n",
       " Median : 40.00                                       \n",
       " Mean   : 39.71                                       \n",
       " 3rd Qu.: 58.82                                       \n",
       " Max.   :100.00                                       \n",
       "                                                      \n",
       " is_max_zone_duration_zone1 is_max_zone_duration_zone2\n",
       " Length:6382                Length:6382               \n",
       " Class :character           Class :character          \n",
       " Mode  :character           Mode  :character          \n",
       "                                                      \n",
       "                                                      \n",
       "                                                      \n",
       "                                                      \n",
       " is_max_zone_duration_zone3 is_max_zone_duration_zone4\n",
       " Length:6382                Length:6382               \n",
       " Class :character           Class :character          \n",
       " Mode  :character           Mode  :character          \n",
       "                                                      \n",
       "                                                      \n",
       "                                                      \n",
       "                                                      \n",
       " is_max_zone_duration_zone5 is_max_nightzone_duration_zone2\n",
       " Length:6382                Length:6382                    \n",
       " Class :character           Class :character               \n",
       " Mode  :character           Mode  :character               \n",
       "                                                           \n",
       "                                                           \n",
       "                                                           \n",
       "                                                           \n",
       " is_max_nightzone_duration_zone3 is_max_nightzone_duration_zone4\n",
       " Length:6382                     Length:6382                    \n",
       " Class :character                Class :character               \n",
       " Mode  :character                Mode  :character               \n",
       "                                                                \n",
       "                                                                \n",
       "                                                                \n",
       "                                                                \n",
       " is_max_nightzone_duration_zone5\n",
       " Length:6382                    \n",
       " Class :character               \n",
       " Mode  :character               \n",
       "                                \n",
       "                                \n",
       "                                \n",
       "                                \n",
       " is_max_nightzone_duration_zonelitterORlowerperch clustering_general_activity\n",
       " Length:6382                                      Min.   :0.00               \n",
       " Class :character                                 1st Qu.:1.00               \n",
       " Mode  :character                                 Median :3.00               \n",
       "                                                  Mean   :2.68               \n",
       "                                                  3rd Qu.:5.00               \n",
       "                                                  Max.   :6.00               \n",
       "                                                  NA's   :940                \n",
       " clustering_nestbox clustering_WG         PC0               PC1         \n",
       " Min.   :0.0000     Min.   :0.0000   Min.   :-6.6190   Min.   :-5.5762  \n",
       " 1st Qu.:0.0000     1st Qu.:1.0000   1st Qu.:-1.0306   1st Qu.:-0.8680  \n",
       " Median :0.0000     Median :1.0000   Median : 0.7264   Median : 0.2351  \n",
       " Mean   :0.4813     Mean   :0.9392   Mean   : 1.1948   Mean   : 0.7059  \n",
       " 3rd Qu.:1.0000     3rd Qu.:1.0000   3rd Qu.: 2.9883   3rd Qu.: 1.8935  \n",
       " Max.   :2.0000     Max.   :2.0000   Max.   :14.8939   Max.   :14.7205  \n",
       " NA's   :1826                        NA's   :940       NA's   :940      \n",
       "      PC2                PC3               PC4               PC5         \n",
       " Min.   :-12.3042   Min.   :-4.9652   Min.   :-3.4566   Min.   :-9.2838  \n",
       " 1st Qu.: -0.7240   1st Qu.:-0.2617   1st Qu.:-1.1733   1st Qu.:-0.6151  \n",
       " Median :  0.4480   Median : 0.7737   Median :-0.4620   Median : 0.3288  \n",
       " Mean   :  0.4288   Mean   : 0.9688   Mean   :-0.2115   Mean   : 0.4835  \n",
       " 3rd Qu.:  1.6606   3rd Qu.: 1.9330   3rd Qu.: 0.3678   3rd Qu.: 1.4299  \n",
       " Max.   : 10.5451   Max.   :18.6598   Max.   :15.0178   Max.   :11.0154  \n",
       " NA's   :940        NA's   :940       NA's   :940       NA's   :940      \n",
       "      PC6               PC7          clustering_ALL   weeks_in_laying_barn\n",
       " Min.   :-7.8625   Min.   :-4.3757   Min.   :0.0000   Min.   :1.000       \n",
       " 1st Qu.:-0.9824   1st Qu.:-0.4923   1st Qu.:0.0000   1st Qu.:3.000       \n",
       " Median :-0.3003   Median : 0.2346   Median :1.0000   Median :5.000       \n",
       " Mean   :-0.2200   Mean   : 0.3887   Mean   :0.9568   Mean   :4.602       \n",
       " 3rd Qu.: 0.4422   3rd Qu.: 1.0489   3rd Qu.:2.0000   3rd Qu.:6.000       \n",
       " Max.   :16.3642   Max.   :13.3967   Max.   :2.0000   Max.   :8.000       \n",
       " NA's   :940       NA's   :940       NA's   :940                          \n",
       " closeness_DTW_30_1_Zone closeness_DTW_30_2_Zone closeness_DTW_30_3_Zone\n",
       " Min.   :0.0000          Min.   :0.0000          Min.   :0.0000         \n",
       " 1st Qu.:0.6448          1st Qu.:0.2455          1st Qu.:0.2371         \n",
       " Median :0.7858          Median :0.3108          Median :0.4434         \n",
       " Mean   :0.7387          Mean   :0.3035          Mean   :0.4008         \n",
       " 3rd Qu.:0.8936          3rd Qu.:0.3770          3rd Qu.:0.5938         \n",
       " Max.   :1.0000          Max.   :0.6116          Max.   :0.9330         \n",
       "                                                                        \n",
       " closeness_DTW_30_4_Zone closeness_DTW_30_5_Zone closeness_DTW_30_all\n",
       " Min.   :0.0000          Min.   :0.0000          Min.   :0.0000      \n",
       " 1st Qu.:0.5002          1st Qu.:0.3915          1st Qu.:0.2769      \n",
       " Median :0.6072          Median :0.4413          Median :0.3507      \n",
       " Mean   :0.5716          Mean   :0.4342          Mean   :0.3471      \n",
       " 3rd Qu.:0.6882          3rd Qu.:0.4914          3rd Qu.:0.4275      \n",
       " Max.   :0.8470          Max.   :0.6804          Max.   :0.7028      \n",
       "                                                                     \n",
       " betweeness_DTW_30_1_Zone betweeness_DTW_30_2_Zone betweeness_DTW_30_3_Zone\n",
       " Min.   :0.000e+00        Min.   :0.0000000        Min.   :0.0000000       \n",
       " 1st Qu.:5.220e-06        1st Qu.:0.0003089        1st Qu.:0.0000619       \n",
       " Median :8.761e-05        Median :0.0037274        Median :0.0010494       \n",
       " Mean   :2.501e-03        Mean   :0.0130685        Mean   :0.0049737       \n",
       " 3rd Qu.:1.938e-03        3rd Qu.:0.0144676        3rd Qu.:0.0061387       \n",
       " Max.   :6.672e-02        Max.   :0.4090239        Max.   :0.2000603       \n",
       "                                                                           \n",
       " betweeness_DTW_30_4_Zone betweeness_DTW_30_5_Zone betweeness_DTW_30_all\n",
       " Min.   :0.0000000        Min.   :0.0000000        Min.   :0.0000000    \n",
       " 1st Qu.:0.0004712        1st Qu.:0.0008196        1st Qu.:0.0005261    \n",
       " Median :0.0023071        Median :0.0034979        Median :0.0033779    \n",
       " Mean   :0.0042108        Mean   :0.0098238        Mean   :0.0111334    \n",
       " 3rd Qu.:0.0053654        3rd Qu.:0.0111576        3rd Qu.:0.0122113    \n",
       " Max.   :0.0940956        Max.   :0.3690630        Max.   :0.3123477    \n",
       "                                                                        \n",
       " degree_DTW_30_1_Zone degree_DTW_30_2_Zone degree_DTW_30_3_Zone\n",
       " Min.   :0.0000       Min.   :0.00000      Min.   :0.00000     \n",
       " 1st Qu.:0.6456       1st Qu.:0.02632      1st Qu.:0.02532     \n",
       " Median :0.7871       Median :0.06329      Median :0.20290     \n",
       " Mean   :0.6775       Mean   :0.13140      Mean   :0.26001     \n",
       " 3rd Qu.:0.8950       3rd Qu.:0.13376      3rd Qu.:0.48718     \n",
       " Max.   :1.0000       Max.   :0.61745      Max.   :0.93548     \n",
       "                                                               \n",
       " degree_DTW_30_4_Zone degree_DTW_30_5_Zone degree_DTW_30_all  ALL_MLPS_99   \n",
       " Min.   :0.0000       Min.   :0.0000       Min.   :0.00000   Min.   : 0.00  \n",
       " 1st Qu.:0.2484       1st Qu.:0.1013       1st Qu.:0.03871   1st Qu.:15.00  \n",
       " Median :0.4774       Median :0.2866       Median :0.11392   Median :29.00  \n",
       " Mean   :0.4391       Mean   :0.2592       Mean   :0.15978   Mean   :37.42  \n",
       " 3rd Qu.:0.6452       3rd Qu.:0.4051       3rd Qu.:0.23567   3rd Qu.:67.00  \n",
       " Max.   :0.8681       Max.   :0.6624       Max.   :0.61074   Max.   :98.00  \n",
       "                                                             NA's   :1236   \n",
       "  ALL_MLPS_10     ALL_MLPS_40     in_WG_15mnAfterOpening_whenopen\n",
       " Min.   :0.000   Min.   : 0.000   Min.   :0.0000                 \n",
       " 1st Qu.:2.000   1st Qu.: 5.000   1st Qu.:0.0000                 \n",
       " Median :5.000   Median : 5.000   Median :0.0000                 \n",
       " Mean   :3.424   Mean   : 9.669   Mean   :0.2118                 \n",
       " 3rd Qu.:5.000   3rd Qu.:13.000   3rd Qu.:0.0000                 \n",
       " Max.   :9.000   Max.   :39.000   Max.   :1.0000                 \n",
       " NA's   :1236    NA's   :1236     NA's   :853                    \n",
       "      DIB            WIB                    TrackingSystemID\n",
       " Min.   : 1.0   Min.   :1.000   TrackingSystem 10-12:2645   \n",
       " 1st Qu.:17.0   1st Qu.:3.000   TrackingSystem 3-5  :2170   \n",
       " Median :29.0   Median :5.000   TrackingSystem 8-9  :1567   \n",
       " Mean   :29.1   Mean   :4.602                               \n",
       " 3rd Qu.:42.0   3rd Qu.:6.000                               \n",
       " Max.   :54.0   Max.   :8.000                               \n",
       "                                                            \n",
       " vertical_travel_distance_perh\n",
       " Min.   : 0.000               \n",
       " 1st Qu.: 1.860               \n",
       " Median : 3.333               \n",
       " Mean   : 3.335               \n",
       " 3rd Qu.: 4.667               \n",
       " Max.   :13.300               \n",
       "                              "
      ]
     },
     "metadata": {},
     "output_type": "display_data"
    }
   ],
   "source": [
    "path_ = 'G:/VPHI/Welfare/2- Research Projects/OFHE2.OriginsE2/DataOutput/TrackingSystem/correctlightschedule_'\n",
    "path_model = file.path(path_,'repeatability_model_twodays')\n",
    "df = read.csv(file.path(path_,'df_MVT_4repeatibility.csv'), header = TRUE, sep = \";\")\n",
    "df$HenID = as.factor(df$HenID)   \n",
    "df$PenID = as.factor(df$PenID) \n",
    "df$TrackingSystemID = as.factor(df$TrackingSystemID) \n",
    "#li_var_cont = c('ID0','ID1','ID2','ID3','ID4','ID5','ID6','ID7')\n",
    "#df$maxsevGap0_divided_maxsev_round = round(df$maxsevGap0_divided_maxsev, 1)\n",
    "#df$maxsevGap0_divided_maxsev_round_log <- log(df$maxsevGap0_divided_maxsev_round)\n",
    "#print(as.data.frame(table(df$maxsevGap0_divided_maxsev_round)))\n",
    "#df_ = df[,c(li_var_cont, 'maxsevGap0_divided_maxsev_round','maxsevGap0_divided_maxsev_round_log')] \n",
    "print(dim(df))\n",
    "summary(df)"
   ]
  },
  {
   "cell_type": "code",
   "execution_count": 4,
   "metadata": {},
   "outputs": [],
   "source": [
    "li_mvt4MLPs = c('perc_duration_5_Zone','perc_duration_4_Zone', 'perc_duration_3_Zone', 'perc_duration_2_Zone',\n",
    "               'vertical_travel_distance_perh')\n",
    "#'percentage_time_outside_while_WG_open', 'latency_1_Zone', "
   ]
  },
  {
   "cell_type": "markdown",
   "metadata": {},
   "source": [
    "# Repeatability within 2 days depending on the number of days in between"
   ]
  },
  {
   "cell_type": "code",
   "execution_count": 5,
   "metadata": {
    "scrolled": true
   },
   "outputs": [
    {
     "name": "stdout",
     "output_type": "stream",
     "text": [
      "Bootstrap Progress:\n",
      "Bootstrap Progress:\n",
      "Bootstrap Progress:\n",
      "Bootstrap Progress:\n",
      "Bootstrap Progress:\n",
      "Bootstrap Progress:\n",
      "Bootstrap Progress:\n",
      "Bootstrap Progress:\n",
      "Bootstrap Progress:\n",
      "Bootstrap Progress:\n",
      "Bootstrap Progress:\n",
      "Bootstrap Progress:\n",
      "Bootstrap Progress:\n",
      "Bootstrap Progress:\n",
      "Bootstrap Progress:\n",
      "Bootstrap Progress:\n",
      "Bootstrap Progress:\n",
      "Bootstrap Progress:\n"
     ]
    },
    {
     "name": "stderr",
     "output_type": "stream",
     "text": [
      "boundary (singular) fit: see ?isSingular\n",
      "\n",
      "boundary (singular) fit: see ?isSingular\n",
      "\n",
      "boundary (singular) fit: see ?isSingular\n",
      "\n"
     ]
    },
    {
     "name": "stdout",
     "output_type": "stream",
     "text": [
      "Bootstrap Progress:\n",
      "Bootstrap Progress:\n",
      "Bootstrap Progress:\n",
      "Bootstrap Progress:\n"
     ]
    },
    {
     "name": "stderr",
     "output_type": "stream",
     "text": [
      "boundary (singular) fit: see ?isSingular\n",
      "\n"
     ]
    },
    {
     "name": "stdout",
     "output_type": "stream",
     "text": [
      "Bootstrap Progress:\n"
     ]
    },
    {
     "name": "stderr",
     "output_type": "stream",
     "text": [
      "boundary (singular) fit: see ?isSingular\n",
      "\n"
     ]
    },
    {
     "name": "stdout",
     "output_type": "stream",
     "text": [
      "Bootstrap Progress:\n"
     ]
    },
    {
     "name": "stderr",
     "output_type": "stream",
     "text": [
      "boundary (singular) fit: see ?isSingular\n",
      "\n"
     ]
    },
    {
     "name": "stdout",
     "output_type": "stream",
     "text": [
      "Bootstrap Progress:\n",
      "Bootstrap Progress:\n",
      "Bootstrap Progress:\n"
     ]
    },
    {
     "name": "stderr",
     "output_type": "stream",
     "text": [
      "boundary (singular) fit: see ?isSingular\n",
      "\n",
      "boundary (singular) fit: see ?isSingular\n",
      "\n"
     ]
    },
    {
     "name": "stdout",
     "output_type": "stream",
     "text": [
      "Bootstrap Progress:\n",
      "Bootstrap Progress:\n"
     ]
    },
    {
     "name": "stderr",
     "output_type": "stream",
     "text": [
      "boundary (singular) fit: see ?isSingular\n",
      "\n"
     ]
    },
    {
     "name": "stdout",
     "output_type": "stream",
     "text": [
      "Bootstrap Progress:\n",
      "Bootstrap Progress:\n"
     ]
    },
    {
     "name": "stderr",
     "output_type": "stream",
     "text": [
      "boundary (singular) fit: see ?isSingular\n",
      "\n",
      "boundary (singular) fit: see ?isSingular\n",
      "\n",
      "boundary (singular) fit: see ?isSingular\n",
      "\n"
     ]
    },
    {
     "name": "stdout",
     "output_type": "stream",
     "text": [
      "Bootstrap Progress:\n"
     ]
    },
    {
     "name": "stderr",
     "output_type": "stream",
     "text": [
      "boundary (singular) fit: see ?isSingular\n",
      "\n"
     ]
    },
    {
     "name": "stdout",
     "output_type": "stream",
     "text": [
      "Bootstrap Progress:\n",
      "Bootstrap Progress:\n",
      "Bootstrap Progress:\n"
     ]
    },
    {
     "name": "stderr",
     "output_type": "stream",
     "text": [
      "boundary (singular) fit: see ?isSingular\n",
      "\n"
     ]
    },
    {
     "name": "stdout",
     "output_type": "stream",
     "text": [
      "Bootstrap Progress:\n",
      "Bootstrap Progress:\n",
      "Bootstrap Progress:\n"
     ]
    },
    {
     "name": "stderr",
     "output_type": "stream",
     "text": [
      "boundary (singular) fit: see ?isSingular\n",
      "\n",
      "boundary (singular) fit: see ?isSingular\n",
      "\n",
      "boundary (singular) fit: see ?isSingular\n",
      "\n"
     ]
    },
    {
     "name": "stdout",
     "output_type": "stream",
     "text": [
      "Bootstrap Progress:\n",
      "Bootstrap Progress:\n",
      "Bootstrap Progress:\n",
      "Bootstrap Progress:\n"
     ]
    },
    {
     "name": "stderr",
     "output_type": "stream",
     "text": [
      "boundary (singular) fit: see ?isSingular\n",
      "\n",
      "boundary (singular) fit: see ?isSingular\n",
      "\n"
     ]
    },
    {
     "name": "stdout",
     "output_type": "stream",
     "text": [
      "Bootstrap Progress:\n",
      "Bootstrap Progress:\n",
      "Bootstrap Progress:\n",
      "Bootstrap Progress:\n"
     ]
    },
    {
     "name": "stderr",
     "output_type": "stream",
     "text": [
      "boundary (singular) fit: see ?isSingular\n",
      "\n"
     ]
    },
    {
     "name": "stdout",
     "output_type": "stream",
     "text": [
      "Bootstrap Progress:\n",
      "Bootstrap Progress:\n",
      "Bootstrap Progress:\n"
     ]
    },
    {
     "name": "stderr",
     "output_type": "stream",
     "text": [
      "boundary (singular) fit: see ?isSingular\n",
      "\n"
     ]
    },
    {
     "name": "stdout",
     "output_type": "stream",
     "text": [
      "Bootstrap Progress:\n"
     ]
    },
    {
     "name": "stderr",
     "output_type": "stream",
     "text": [
      "boundary (singular) fit: see ?isSingular\n",
      "\n"
     ]
    },
    {
     "name": "stdout",
     "output_type": "stream",
     "text": [
      "Bootstrap Progress:\n",
      "Bootstrap Progress:\n"
     ]
    },
    {
     "name": "stderr",
     "output_type": "stream",
     "text": [
      "boundary (singular) fit: see ?isSingular\n",
      "\n"
     ]
    },
    {
     "name": "stdout",
     "output_type": "stream",
     "text": [
      "Bootstrap Progress:\n",
      "Bootstrap Progress:\n",
      "Bootstrap Progress:\n"
     ]
    },
    {
     "name": "stderr",
     "output_type": "stream",
     "text": [
      "boundary (singular) fit: see ?isSingular\n",
      "\n",
      "boundary (singular) fit: see ?isSingular\n",
      "\n"
     ]
    },
    {
     "name": "stdout",
     "output_type": "stream",
     "text": [
      "Bootstrap Progress:\n"
     ]
    },
    {
     "name": "stderr",
     "output_type": "stream",
     "text": [
      "boundary (singular) fit: see ?isSingular\n",
      "\n",
      "boundary (singular) fit: see ?isSingular\n",
      "\n",
      "boundary (singular) fit: see ?isSingular\n",
      "\n",
      "boundary (singular) fit: see ?isSingular\n",
      "\n",
      "boundary (singular) fit: see ?isSingular\n",
      "\n",
      "boundary (singular) fit: see ?isSingular\n",
      "\n",
      "boundary (singular) fit: see ?isSingular\n",
      "\n"
     ]
    },
    {
     "name": "stdout",
     "output_type": "stream",
     "text": [
      "Bootstrap Progress:\n",
      "Bootstrap Progress:\n"
     ]
    },
    {
     "name": "stderr",
     "output_type": "stream",
     "text": [
      "boundary (singular) fit: see ?isSingular\n",
      "\n"
     ]
    },
    {
     "name": "stdout",
     "output_type": "stream",
     "text": [
      "Bootstrap Progress:\n",
      "Bootstrap Progress:\n"
     ]
    },
    {
     "name": "stderr",
     "output_type": "stream",
     "text": [
      "boundary (singular) fit: see ?isSingular\n",
      "\n",
      "boundary (singular) fit: see ?isSingular\n",
      "\n",
      "boundary (singular) fit: see ?isSingular\n",
      "\n"
     ]
    },
    {
     "name": "stdout",
     "output_type": "stream",
     "text": [
      "Bootstrap Progress:\n",
      "Bootstrap Progress:\n",
      "Bootstrap Progress:\n"
     ]
    },
    {
     "name": "stderr",
     "output_type": "stream",
     "text": [
      "boundary (singular) fit: see ?isSingular\n",
      "\n",
      "boundary (singular) fit: see ?isSingular\n",
      "\n"
     ]
    },
    {
     "name": "stdout",
     "output_type": "stream",
     "text": [
      "Bootstrap Progress:\n"
     ]
    },
    {
     "name": "stderr",
     "output_type": "stream",
     "text": [
      "boundary (singular) fit: see ?isSingular\n",
      "\n",
      "boundary (singular) fit: see ?isSingular\n",
      "\n",
      "boundary (singular) fit: see ?isSingular\n",
      "\n",
      "boundary (singular) fit: see ?isSingular\n",
      "\n",
      "boundary (singular) fit: see ?isSingular\n",
      "\n"
     ]
    },
    {
     "name": "stdout",
     "output_type": "stream",
     "text": [
      "Bootstrap Progress:\n",
      "Bootstrap Progress:\n",
      "Bootstrap Progress:\n"
     ]
    },
    {
     "name": "stderr",
     "output_type": "stream",
     "text": [
      "boundary (singular) fit: see ?isSingular\n",
      "\n",
      "boundary (singular) fit: see ?isSingular\n",
      "\n"
     ]
    },
    {
     "name": "stdout",
     "output_type": "stream",
     "text": [
      "Bootstrap Progress:\n"
     ]
    },
    {
     "name": "stderr",
     "output_type": "stream",
     "text": [
      "boundary (singular) fit: see ?isSingular\n",
      "\n",
      "boundary (singular) fit: see ?isSingular\n",
      "\n",
      "boundary (singular) fit: see ?isSingular\n",
      "\n",
      "boundary (singular) fit: see ?isSingular\n",
      "\n",
      "boundary (singular) fit: see ?isSingular\n",
      "\n"
     ]
    },
    {
     "name": "stdout",
     "output_type": "stream",
     "text": [
      "Bootstrap Progress:\n",
      "Bootstrap Progress:\n",
      "Bootstrap Progress:\n"
     ]
    },
    {
     "name": "stderr",
     "output_type": "stream",
     "text": [
      "boundary (singular) fit: see ?isSingular\n",
      "\n",
      "boundary (singular) fit: see ?isSingular\n",
      "\n",
      "boundary (singular) fit: see ?isSingular\n",
      "\n"
     ]
    },
    {
     "name": "stdout",
     "output_type": "stream",
     "text": [
      "Bootstrap Progress:\n"
     ]
    },
    {
     "name": "stderr",
     "output_type": "stream",
     "text": [
      "boundary (singular) fit: see ?isSingular\n",
      "\n",
      "boundary (singular) fit: see ?isSingular\n",
      "\n",
      "boundary (singular) fit: see ?isSingular\n",
      "\n",
      "boundary (singular) fit: see ?isSingular\n",
      "\n",
      "boundary (singular) fit: see ?isSingular\n",
      "\n",
      "boundary (singular) fit: see ?isSingular\n",
      "\n"
     ]
    },
    {
     "name": "stdout",
     "output_type": "stream",
     "text": [
      "Bootstrap Progress:\n"
     ]
    },
    {
     "name": "stderr",
     "output_type": "stream",
     "text": [
      "boundary (singular) fit: see ?isSingular\n",
      "\n"
     ]
    },
    {
     "name": "stdout",
     "output_type": "stream",
     "text": [
      "Bootstrap Progress:\n",
      "Bootstrap Progress:\n"
     ]
    },
    {
     "name": "stderr",
     "output_type": "stream",
     "text": [
      "boundary (singular) fit: see ?isSingular\n",
      "\n",
      "boundary (singular) fit: see ?isSingular\n",
      "\n"
     ]
    },
    {
     "name": "stdout",
     "output_type": "stream",
     "text": [
      "Bootstrap Progress:\n"
     ]
    },
    {
     "name": "stderr",
     "output_type": "stream",
     "text": [
      "boundary (singular) fit: see ?isSingular\n",
      "\n",
      "boundary (singular) fit: see ?isSingular\n",
      "\n",
      "boundary (singular) fit: see ?isSingular\n",
      "\n",
      "boundary (singular) fit: see ?isSingular\n",
      "\n",
      "boundary (singular) fit: see ?isSingular\n",
      "\n",
      "boundary (singular) fit: see ?isSingular\n",
      "\n"
     ]
    },
    {
     "name": "stdout",
     "output_type": "stream",
     "text": [
      "Bootstrap Progress:\n",
      "Bootstrap Progress:\n",
      "Bootstrap Progress:\n"
     ]
    },
    {
     "name": "stderr",
     "output_type": "stream",
     "text": [
      "boundary (singular) fit: see ?isSingular\n",
      "\n",
      "boundary (singular) fit: see ?isSingular\n",
      "\n",
      "boundary (singular) fit: see ?isSingular\n",
      "\n"
     ]
    },
    {
     "name": "stdout",
     "output_type": "stream",
     "text": [
      "Bootstrap Progress:\n"
     ]
    },
    {
     "name": "stderr",
     "output_type": "stream",
     "text": [
      "boundary (singular) fit: see ?isSingular\n",
      "\n",
      "boundary (singular) fit: see ?isSingular\n",
      "\n",
      "boundary (singular) fit: see ?isSingular\n",
      "\n",
      "boundary (singular) fit: see ?isSingular\n",
      "\n",
      "boundary (singular) fit: see ?isSingular\n",
      "\n",
      "boundary (singular) fit: see ?isSingular\n",
      "\n"
     ]
    },
    {
     "name": "stdout",
     "output_type": "stream",
     "text": [
      "Bootstrap Progress:\n",
      "Bootstrap Progress:\n"
     ]
    },
    {
     "name": "stderr",
     "output_type": "stream",
     "text": [
      "boundary (singular) fit: see ?isSingular\n",
      "\n",
      "boundary (singular) fit: see ?isSingular\n",
      "\n",
      "boundary (singular) fit: see ?isSingular\n",
      "\n"
     ]
    },
    {
     "name": "stdout",
     "output_type": "stream",
     "text": [
      "Bootstrap Progress:\n"
     ]
    },
    {
     "name": "stderr",
     "output_type": "stream",
     "text": [
      "boundary (singular) fit: see ?isSingular\n",
      "\n",
      "boundary (singular) fit: see ?isSingular\n",
      "\n"
     ]
    },
    {
     "name": "stdout",
     "output_type": "stream",
     "text": [
      "Bootstrap Progress:\n"
     ]
    },
    {
     "name": "stderr",
     "output_type": "stream",
     "text": [
      "boundary (singular) fit: see ?isSingular\n",
      "\n",
      "boundary (singular) fit: see ?isSingular\n",
      "\n",
      "boundary (singular) fit: see ?isSingular\n",
      "\n",
      "boundary (singular) fit: see ?isSingular\n",
      "\n",
      "boundary (singular) fit: see ?isSingular\n",
      "\n"
     ]
    },
    {
     "name": "stdout",
     "output_type": "stream",
     "text": [
      "Bootstrap Progress:\n",
      "Bootstrap Progress:\n",
      "Bootstrap Progress:\n"
     ]
    },
    {
     "name": "stderr",
     "output_type": "stream",
     "text": [
      "boundary (singular) fit: see ?isSingular\n",
      "\n",
      "boundary (singular) fit: see ?isSingular\n",
      "\n"
     ]
    },
    {
     "name": "stdout",
     "output_type": "stream",
     "text": [
      "Bootstrap Progress:\n"
     ]
    },
    {
     "name": "stderr",
     "output_type": "stream",
     "text": [
      "boundary (singular) fit: see ?isSingular\n",
      "\n",
      "boundary (singular) fit: see ?isSingular\n",
      "\n",
      "boundary (singular) fit: see ?isSingular\n",
      "\n"
     ]
    },
    {
     "name": "stdout",
     "output_type": "stream",
     "text": [
      "Bootstrap Progress:\n",
      "Bootstrap Progress:\n",
      "Bootstrap Progress:\n"
     ]
    },
    {
     "name": "stderr",
     "output_type": "stream",
     "text": [
      "boundary (singular) fit: see ?isSingular\n",
      "\n",
      "boundary (singular) fit: see ?isSingular\n",
      "\n"
     ]
    },
    {
     "name": "stdout",
     "output_type": "stream",
     "text": [
      "Bootstrap Progress:\n"
     ]
    },
    {
     "name": "stderr",
     "output_type": "stream",
     "text": [
      "boundary (singular) fit: see ?isSingular\n",
      "\n",
      "boundary (singular) fit: see ?isSingular\n",
      "\n",
      "boundary (singular) fit: see ?isSingular\n",
      "\n",
      "boundary (singular) fit: see ?isSingular\n",
      "\n",
      "boundary (singular) fit: see ?isSingular\n",
      "\n",
      "boundary (singular) fit: see ?isSingular\n",
      "\n",
      "boundary (singular) fit: see ?isSingular\n",
      "\n"
     ]
    },
    {
     "name": "stdout",
     "output_type": "stream",
     "text": [
      "Bootstrap Progress:\n"
     ]
    },
    {
     "name": "stderr",
     "output_type": "stream",
     "text": [
      "boundary (singular) fit: see ?isSingular\n",
      "\n",
      "boundary (singular) fit: see ?isSingular\n",
      "\n"
     ]
    },
    {
     "name": "stdout",
     "output_type": "stream",
     "text": [
      "Bootstrap Progress:\n",
      "Bootstrap Progress:\n"
     ]
    },
    {
     "name": "stderr",
     "output_type": "stream",
     "text": [
      "boundary (singular) fit: see ?isSingular\n",
      "\n",
      "boundary (singular) fit: see ?isSingular\n",
      "\n",
      "boundary (singular) fit: see ?isSingular\n",
      "\n",
      "boundary (singular) fit: see ?isSingular\n",
      "\n",
      "boundary (singular) fit: see ?isSingular\n",
      "\n"
     ]
    },
    {
     "name": "stdout",
     "output_type": "stream",
     "text": [
      "Bootstrap Progress:\n"
     ]
    },
    {
     "name": "stderr",
     "output_type": "stream",
     "text": [
      "boundary (singular) fit: see ?isSingular\n",
      "\n",
      "boundary (singular) fit: see ?isSingular\n",
      "\n",
      "boundary (singular) fit: see ?isSingular\n",
      "\n",
      "boundary (singular) fit: see ?isSingular\n",
      "\n",
      "boundary (singular) fit: see ?isSingular\n",
      "\n",
      "boundary (singular) fit: see ?isSingular\n",
      "\n"
     ]
    },
    {
     "name": "stdout",
     "output_type": "stream",
     "text": [
      "Bootstrap Progress:\n"
     ]
    },
    {
     "name": "stderr",
     "output_type": "stream",
     "text": [
      "boundary (singular) fit: see ?isSingular\n",
      "\n"
     ]
    },
    {
     "name": "stdout",
     "output_type": "stream",
     "text": [
      "Bootstrap Progress:\n",
      "Bootstrap Progress:\n"
     ]
    },
    {
     "name": "stderr",
     "output_type": "stream",
     "text": [
      "boundary (singular) fit: see ?isSingular\n",
      "\n",
      "boundary (singular) fit: see ?isSingular\n",
      "\n"
     ]
    },
    {
     "name": "stdout",
     "output_type": "stream",
     "text": [
      "Bootstrap Progress:\n"
     ]
    },
    {
     "name": "stderr",
     "output_type": "stream",
     "text": [
      "boundary (singular) fit: see ?isSingular\n",
      "\n",
      "boundary (singular) fit: see ?isSingular\n",
      "\n",
      "boundary (singular) fit: see ?isSingular\n",
      "\n",
      "boundary (singular) fit: see ?isSingular\n",
      "\n",
      "boundary (singular) fit: see ?isSingular\n",
      "\n",
      "boundary (singular) fit: see ?isSingular\n",
      "\n"
     ]
    },
    {
     "name": "stdout",
     "output_type": "stream",
     "text": [
      "Bootstrap Progress:\n"
     ]
    },
    {
     "name": "stderr",
     "output_type": "stream",
     "text": [
      "boundary (singular) fit: see ?isSingular\n",
      "\n",
      "boundary (singular) fit: see ?isSingular\n",
      "\n",
      "boundary (singular) fit: see ?isSingular\n",
      "\n"
     ]
    },
    {
     "name": "stdout",
     "output_type": "stream",
     "text": [
      "Bootstrap Progress:\n"
     ]
    },
    {
     "name": "stderr",
     "output_type": "stream",
     "text": [
      "boundary (singular) fit: see ?isSingular\n",
      "\n"
     ]
    },
    {
     "name": "stdout",
     "output_type": "stream",
     "text": [
      "Bootstrap Progress:\n"
     ]
    },
    {
     "name": "stderr",
     "output_type": "stream",
     "text": [
      "boundary (singular) fit: see ?isSingular\n",
      "\n",
      "boundary (singular) fit: see ?isSingular\n",
      "\n",
      "boundary (singular) fit: see ?isSingular\n",
      "\n",
      "boundary (singular) fit: see ?isSingular\n",
      "\n",
      "boundary (singular) fit: see ?isSingular\n",
      "\n",
      "boundary (singular) fit: see ?isSingular\n",
      "\n"
     ]
    },
    {
     "name": "stdout",
     "output_type": "stream",
     "text": [
      "Bootstrap Progress:\n"
     ]
    },
    {
     "name": "stderr",
     "output_type": "stream",
     "text": [
      "boundary (singular) fit: see ?isSingular\n",
      "\n",
      "boundary (singular) fit: see ?isSingular\n",
      "\n",
      "boundary (singular) fit: see ?isSingular\n",
      "\n",
      "boundary (singular) fit: see ?isSingular\n",
      "\n",
      "boundary (singular) fit: see ?isSingular\n",
      "\n",
      "boundary (singular) fit: see ?isSingular\n",
      "\n",
      "boundary (singular) fit: see ?isSingular\n",
      "\n"
     ]
    },
    {
     "name": "stdout",
     "output_type": "stream",
     "text": [
      "Bootstrap Progress:\n"
     ]
    },
    {
     "name": "stderr",
     "output_type": "stream",
     "text": [
      "boundary (singular) fit: see ?isSingular\n",
      "\n",
      "boundary (singular) fit: see ?isSingular\n",
      "\n",
      "boundary (singular) fit: see ?isSingular\n",
      "\n"
     ]
    },
    {
     "name": "stdout",
     "output_type": "stream",
     "text": [
      "Bootstrap Progress:\n",
      "Bootstrap Progress:\n"
     ]
    },
    {
     "name": "stderr",
     "output_type": "stream",
     "text": [
      "boundary (singular) fit: see ?isSingular\n",
      "\n",
      "boundary (singular) fit: see ?isSingular\n",
      "\n",
      "boundary (singular) fit: see ?isSingular\n",
      "\n",
      "boundary (singular) fit: see ?isSingular\n",
      "\n",
      "boundary (singular) fit: see ?isSingular\n",
      "\n",
      "boundary (singular) fit: see ?isSingular\n",
      "\n",
      "boundary (singular) fit: see ?isSingular\n",
      "\n"
     ]
    },
    {
     "name": "stdout",
     "output_type": "stream",
     "text": [
      "Bootstrap Progress:\n"
     ]
    },
    {
     "name": "stderr",
     "output_type": "stream",
     "text": [
      "boundary (singular) fit: see ?isSingular\n",
      "\n",
      "boundary (singular) fit: see ?isSingular\n",
      "\n",
      "boundary (singular) fit: see ?isSingular\n",
      "\n",
      "boundary (singular) fit: see ?isSingular\n",
      "\n",
      "boundary (singular) fit: see ?isSingular\n",
      "\n"
     ]
    },
    {
     "name": "stdout",
     "output_type": "stream",
     "text": [
      "Bootstrap Progress:\n"
     ]
    },
    {
     "name": "stderr",
     "output_type": "stream",
     "text": [
      "boundary (singular) fit: see ?isSingular\n",
      "\n",
      "boundary (singular) fit: see ?isSingular\n",
      "\n",
      "boundary (singular) fit: see ?isSingular\n",
      "\n",
      "boundary (singular) fit: see ?isSingular\n",
      "\n",
      "boundary (singular) fit: see ?isSingular\n",
      "\n",
      "boundary (singular) fit: see ?isSingular\n",
      "\n"
     ]
    },
    {
     "name": "stdout",
     "output_type": "stream",
     "text": [
      "Bootstrap Progress:\n"
     ]
    },
    {
     "name": "stderr",
     "output_type": "stream",
     "text": [
      "boundary (singular) fit: see ?isSingular\n",
      "\n",
      "boundary (singular) fit: see ?isSingular\n",
      "\n",
      "boundary (singular) fit: see ?isSingular\n",
      "\n",
      "boundary (singular) fit: see ?isSingular\n",
      "\n",
      "boundary (singular) fit: see ?isSingular\n",
      "\n",
      "boundary (singular) fit: see ?isSingular\n",
      "\n"
     ]
    },
    {
     "name": "stdout",
     "output_type": "stream",
     "text": [
      "Bootstrap Progress:\n"
     ]
    },
    {
     "name": "stderr",
     "output_type": "stream",
     "text": [
      "boundary (singular) fit: see ?isSingular\n",
      "\n",
      "boundary (singular) fit: see ?isSingular\n",
      "\n",
      "boundary (singular) fit: see ?isSingular\n",
      "\n",
      "boundary (singular) fit: see ?isSingular\n",
      "\n",
      "boundary (singular) fit: see ?isSingular\n",
      "\n",
      "boundary (singular) fit: see ?isSingular\n",
      "\n",
      "boundary (singular) fit: see ?isSingular\n",
      "\n"
     ]
    },
    {
     "name": "stdout",
     "output_type": "stream",
     "text": [
      "Bootstrap Progress:\n"
     ]
    },
    {
     "name": "stderr",
     "output_type": "stream",
     "text": [
      "boundary (singular) fit: see ?isSingular\n",
      "\n",
      "boundary (singular) fit: see ?isSingular\n",
      "\n",
      "boundary (singular) fit: see ?isSingular\n",
      "\n",
      "boundary (singular) fit: see ?isSingular\n",
      "\n"
     ]
    },
    {
     "name": "stdout",
     "output_type": "stream",
     "text": [
      "Bootstrap Progress:\n",
      "Bootstrap Progress:\n",
      "Bootstrap Progress:\n",
      "Bootstrap Progress:\n",
      "Bootstrap Progress:\n",
      "Bootstrap Progress:\n",
      "Bootstrap Progress:\n",
      "Bootstrap Progress:\n",
      "Bootstrap Progress:\n",
      "Bootstrap Progress:\n",
      "Bootstrap Progress:\n",
      "Bootstrap Progress:\n",
      "Bootstrap Progress:\n",
      "Bootstrap Progress:\n",
      "Bootstrap Progress:\n",
      "Bootstrap Progress:\n",
      "Bootstrap Progress:\n",
      "Bootstrap Progress:\n",
      "Bootstrap Progress:\n",
      "Bootstrap Progress:\n",
      "Bootstrap Progress:\n",
      "Bootstrap Progress:\n",
      "Bootstrap Progress:\n",
      "Bootstrap Progress:\n",
      "Bootstrap Progress:\n",
      "Bootstrap Progress:\n",
      "Bootstrap Progress:\n",
      "Bootstrap Progress:\n",
      "Bootstrap Progress:\n",
      "Bootstrap Progress:\n",
      "Bootstrap Progress:\n",
      "Bootstrap Progress:\n",
      "Bootstrap Progress:\n",
      "Bootstrap Progress:\n"
     ]
    },
    {
     "name": "stderr",
     "output_type": "stream",
     "text": [
      "boundary (singular) fit: see ?isSingular\n",
      "\n"
     ]
    },
    {
     "name": "stdout",
     "output_type": "stream",
     "text": [
      "Bootstrap Progress:\n",
      "Bootstrap Progress:\n",
      "Bootstrap Progress:\n",
      "Bootstrap Progress:\n"
     ]
    },
    {
     "name": "stderr",
     "output_type": "stream",
     "text": [
      "boundary (singular) fit: see ?isSingular\n",
      "\n"
     ]
    },
    {
     "name": "stdout",
     "output_type": "stream",
     "text": [
      "Bootstrap Progress:\n",
      "Bootstrap Progress:\n"
     ]
    },
    {
     "name": "stderr",
     "output_type": "stream",
     "text": [
      "boundary (singular) fit: see ?isSingular\n",
      "\n"
     ]
    },
    {
     "name": "stdout",
     "output_type": "stream",
     "text": [
      "Bootstrap Progress:\n",
      "Bootstrap Progress:\n",
      "Bootstrap Progress:\n",
      "Bootstrap Progress:\n"
     ]
    },
    {
     "name": "stderr",
     "output_type": "stream",
     "text": [
      "boundary (singular) fit: see ?isSingular\n",
      "\n",
      "boundary (singular) fit: see ?isSingular\n",
      "\n",
      "boundary (singular) fit: see ?isSingular\n",
      "\n"
     ]
    },
    {
     "name": "stdout",
     "output_type": "stream",
     "text": [
      "Bootstrap Progress:\n",
      "Bootstrap Progress:\n"
     ]
    },
    {
     "name": "stderr",
     "output_type": "stream",
     "text": [
      "boundary (singular) fit: see ?isSingular\n",
      "\n",
      "boundary (singular) fit: see ?isSingular\n",
      "\n"
     ]
    },
    {
     "name": "stdout",
     "output_type": "stream",
     "text": [
      "Bootstrap Progress:\n",
      "Bootstrap Progress:\n"
     ]
    },
    {
     "name": "stderr",
     "output_type": "stream",
     "text": [
      "boundary (singular) fit: see ?isSingular\n",
      "\n",
      "boundary (singular) fit: see ?isSingular\n",
      "\n",
      "boundary (singular) fit: see ?isSingular\n",
      "\n"
     ]
    },
    {
     "name": "stdout",
     "output_type": "stream",
     "text": [
      "Bootstrap Progress:\n",
      "Bootstrap Progress:\n"
     ]
    },
    {
     "name": "stderr",
     "output_type": "stream",
     "text": [
      "boundary (singular) fit: see ?isSingular\n",
      "\n",
      "boundary (singular) fit: see ?isSingular\n",
      "\n",
      "boundary (singular) fit: see ?isSingular\n",
      "\n",
      "boundary (singular) fit: see ?isSingular\n",
      "\n",
      "boundary (singular) fit: see ?isSingular\n",
      "\n",
      "boundary (singular) fit: see ?isSingular\n",
      "\n"
     ]
    },
    {
     "name": "stdout",
     "output_type": "stream",
     "text": [
      "Bootstrap Progress:\n"
     ]
    },
    {
     "name": "stderr",
     "output_type": "stream",
     "text": [
      "boundary (singular) fit: see ?isSingular\n",
      "\n",
      "boundary (singular) fit: see ?isSingular\n",
      "\n"
     ]
    },
    {
     "name": "stdout",
     "output_type": "stream",
     "text": [
      "Bootstrap Progress:\n"
     ]
    },
    {
     "name": "stderr",
     "output_type": "stream",
     "text": [
      "boundary (singular) fit: see ?isSingular\n",
      "\n",
      "boundary (singular) fit: see ?isSingular\n",
      "\n",
      "boundary (singular) fit: see ?isSingular\n",
      "\n"
     ]
    },
    {
     "name": "stdout",
     "output_type": "stream",
     "text": [
      "Bootstrap Progress:\n"
     ]
    },
    {
     "name": "stderr",
     "output_type": "stream",
     "text": [
      "boundary (singular) fit: see ?isSingular\n",
      "\n",
      "boundary (singular) fit: see ?isSingular\n",
      "\n"
     ]
    },
    {
     "name": "stdout",
     "output_type": "stream",
     "text": [
      "Bootstrap Progress:\n"
     ]
    },
    {
     "name": "stderr",
     "output_type": "stream",
     "text": [
      "boundary (singular) fit: see ?isSingular\n",
      "\n",
      "boundary (singular) fit: see ?isSingular\n",
      "\n",
      "boundary (singular) fit: see ?isSingular\n",
      "\n",
      "boundary (singular) fit: see ?isSingular\n",
      "\n",
      "boundary (singular) fit: see ?isSingular\n",
      "\n"
     ]
    },
    {
     "name": "stdout",
     "output_type": "stream",
     "text": [
      "Bootstrap Progress:\n"
     ]
    },
    {
     "name": "stderr",
     "output_type": "stream",
     "text": [
      "boundary (singular) fit: see ?isSingular\n",
      "\n",
      "boundary (singular) fit: see ?isSingular\n",
      "\n"
     ]
    },
    {
     "name": "stdout",
     "output_type": "stream",
     "text": [
      "Bootstrap Progress:\n"
     ]
    },
    {
     "name": "stderr",
     "output_type": "stream",
     "text": [
      "boundary (singular) fit: see ?isSingular\n",
      "\n",
      "boundary (singular) fit: see ?isSingular\n",
      "\n",
      "boundary (singular) fit: see ?isSingular\n",
      "\n",
      "boundary (singular) fit: see ?isSingular\n",
      "\n",
      "boundary (singular) fit: see ?isSingular\n",
      "\n",
      "boundary (singular) fit: see ?isSingular\n",
      "\n"
     ]
    },
    {
     "name": "stdout",
     "output_type": "stream",
     "text": [
      "Bootstrap Progress:\n",
      "Bootstrap Progress:\n",
      "Bootstrap Progress:\n"
     ]
    },
    {
     "name": "stderr",
     "output_type": "stream",
     "text": [
      "boundary (singular) fit: see ?isSingular\n",
      "\n",
      "boundary (singular) fit: see ?isSingular\n",
      "\n"
     ]
    },
    {
     "name": "stdout",
     "output_type": "stream",
     "text": [
      "Bootstrap Progress:\n"
     ]
    },
    {
     "name": "stderr",
     "output_type": "stream",
     "text": [
      "boundary (singular) fit: see ?isSingular\n",
      "\n",
      "boundary (singular) fit: see ?isSingular\n",
      "\n",
      "boundary (singular) fit: see ?isSingular\n",
      "\n"
     ]
    },
    {
     "name": "stdout",
     "output_type": "stream",
     "text": [
      "Bootstrap Progress:\n",
      "Bootstrap Progress:\n"
     ]
    },
    {
     "name": "stderr",
     "output_type": "stream",
     "text": [
      "boundary (singular) fit: see ?isSingular\n",
      "\n"
     ]
    },
    {
     "name": "stdout",
     "output_type": "stream",
     "text": [
      "Bootstrap Progress:\n"
     ]
    },
    {
     "name": "stderr",
     "output_type": "stream",
     "text": [
      "boundary (singular) fit: see ?isSingular\n",
      "\n",
      "boundary (singular) fit: see ?isSingular\n",
      "\n"
     ]
    },
    {
     "name": "stdout",
     "output_type": "stream",
     "text": [
      "Bootstrap Progress:\n"
     ]
    },
    {
     "name": "stderr",
     "output_type": "stream",
     "text": [
      "boundary (singular) fit: see ?isSingular\n",
      "\n",
      "boundary (singular) fit: see ?isSingular\n",
      "\n",
      "boundary (singular) fit: see ?isSingular\n",
      "\n"
     ]
    },
    {
     "name": "stdout",
     "output_type": "stream",
     "text": [
      "Bootstrap Progress:\n",
      "Bootstrap Progress:\n",
      "Bootstrap Progress:\n"
     ]
    },
    {
     "name": "stderr",
     "output_type": "stream",
     "text": [
      "boundary (singular) fit: see ?isSingular\n",
      "\n",
      "boundary (singular) fit: see ?isSingular\n",
      "\n"
     ]
    },
    {
     "name": "stdout",
     "output_type": "stream",
     "text": [
      "Bootstrap Progress:\n"
     ]
    },
    {
     "name": "stderr",
     "output_type": "stream",
     "text": [
      "boundary (singular) fit: see ?isSingular\n",
      "\n",
      "boundary (singular) fit: see ?isSingular\n",
      "\n",
      "boundary (singular) fit: see ?isSingular\n",
      "\n"
     ]
    },
    {
     "name": "stdout",
     "output_type": "stream",
     "text": [
      "Bootstrap Progress:\n"
     ]
    },
    {
     "name": "stderr",
     "output_type": "stream",
     "text": [
      "boundary (singular) fit: see ?isSingular\n",
      "\n",
      "boundary (singular) fit: see ?isSingular\n",
      "\n",
      "boundary (singular) fit: see ?isSingular\n",
      "\n"
     ]
    },
    {
     "name": "stdout",
     "output_type": "stream",
     "text": [
      "Bootstrap Progress:\n"
     ]
    },
    {
     "name": "stderr",
     "output_type": "stream",
     "text": [
      "boundary (singular) fit: see ?isSingular\n",
      "\n",
      "boundary (singular) fit: see ?isSingular\n",
      "\n",
      "boundary (singular) fit: see ?isSingular\n",
      "\n"
     ]
    },
    {
     "name": "stdout",
     "output_type": "stream",
     "text": [
      "Bootstrap Progress:\n"
     ]
    },
    {
     "name": "stderr",
     "output_type": "stream",
     "text": [
      "boundary (singular) fit: see ?isSingular\n",
      "\n",
      "boundary (singular) fit: see ?isSingular\n",
      "\n"
     ]
    },
    {
     "name": "stdout",
     "output_type": "stream",
     "text": [
      "Bootstrap Progress:\n"
     ]
    },
    {
     "name": "stderr",
     "output_type": "stream",
     "text": [
      "boundary (singular) fit: see ?isSingular\n",
      "\n",
      "boundary (singular) fit: see ?isSingular\n",
      "\n",
      "boundary (singular) fit: see ?isSingular\n",
      "\n",
      "boundary (singular) fit: see ?isSingular\n",
      "\n",
      "boundary (singular) fit: see ?isSingular\n",
      "\n",
      "boundary (singular) fit: see ?isSingular\n",
      "\n"
     ]
    },
    {
     "name": "stdout",
     "output_type": "stream",
     "text": [
      "Bootstrap Progress:\n"
     ]
    },
    {
     "name": "stderr",
     "output_type": "stream",
     "text": [
      "boundary (singular) fit: see ?isSingular\n",
      "\n"
     ]
    },
    {
     "name": "stdout",
     "output_type": "stream",
     "text": [
      "Bootstrap Progress:\n"
     ]
    },
    {
     "name": "stderr",
     "output_type": "stream",
     "text": [
      "boundary (singular) fit: see ?isSingular\n",
      "\n"
     ]
    },
    {
     "name": "stdout",
     "output_type": "stream",
     "text": [
      "Bootstrap Progress:\n"
     ]
    },
    {
     "name": "stderr",
     "output_type": "stream",
     "text": [
      "boundary (singular) fit: see ?isSingular\n",
      "\n",
      "boundary (singular) fit: see ?isSingular\n",
      "\n",
      "boundary (singular) fit: see ?isSingular\n",
      "\n"
     ]
    },
    {
     "name": "stdout",
     "output_type": "stream",
     "text": [
      "Bootstrap Progress:\n"
     ]
    },
    {
     "name": "stderr",
     "output_type": "stream",
     "text": [
      "boundary (singular) fit: see ?isSingular\n",
      "\n",
      "boundary (singular) fit: see ?isSingular\n",
      "\n",
      "boundary (singular) fit: see ?isSingular\n",
      "\n",
      "boundary (singular) fit: see ?isSingular\n",
      "\n",
      "boundary (singular) fit: see ?isSingular\n",
      "\n"
     ]
    },
    {
     "name": "stdout",
     "output_type": "stream",
     "text": [
      "Bootstrap Progress:\n"
     ]
    },
    {
     "name": "stderr",
     "output_type": "stream",
     "text": [
      "boundary (singular) fit: see ?isSingular\n",
      "\n"
     ]
    },
    {
     "name": "stdout",
     "output_type": "stream",
     "text": [
      "Bootstrap Progress:\n"
     ]
    },
    {
     "name": "stderr",
     "output_type": "stream",
     "text": [
      "boundary (singular) fit: see ?isSingular\n",
      "\n",
      "boundary (singular) fit: see ?isSingular\n",
      "\n"
     ]
    },
    {
     "name": "stdout",
     "output_type": "stream",
     "text": [
      "Bootstrap Progress:\n"
     ]
    },
    {
     "name": "stderr",
     "output_type": "stream",
     "text": [
      "boundary (singular) fit: see ?isSingular\n",
      "\n",
      "boundary (singular) fit: see ?isSingular\n",
      "\n"
     ]
    },
    {
     "name": "stdout",
     "output_type": "stream",
     "text": [
      "Bootstrap Progress:\n"
     ]
    },
    {
     "name": "stderr",
     "output_type": "stream",
     "text": [
      "boundary (singular) fit: see ?isSingular\n",
      "\n",
      "boundary (singular) fit: see ?isSingular\n",
      "\n",
      "boundary (singular) fit: see ?isSingular\n",
      "\n",
      "boundary (singular) fit: see ?isSingular\n",
      "\n",
      "boundary (singular) fit: see ?isSingular\n",
      "\n"
     ]
    },
    {
     "name": "stdout",
     "output_type": "stream",
     "text": [
      "Bootstrap Progress:\n",
      "Bootstrap Progress:\n"
     ]
    },
    {
     "name": "stderr",
     "output_type": "stream",
     "text": [
      "boundary (singular) fit: see ?isSingular\n",
      "\n",
      "boundary (singular) fit: see ?isSingular\n",
      "\n"
     ]
    },
    {
     "name": "stdout",
     "output_type": "stream",
     "text": [
      "Bootstrap Progress:\n"
     ]
    },
    {
     "name": "stderr",
     "output_type": "stream",
     "text": [
      "boundary (singular) fit: see ?isSingular\n",
      "\n",
      "boundary (singular) fit: see ?isSingular\n",
      "\n"
     ]
    },
    {
     "name": "stdout",
     "output_type": "stream",
     "text": [
      "Bootstrap Progress:\n"
     ]
    },
    {
     "name": "stderr",
     "output_type": "stream",
     "text": [
      "boundary (singular) fit: see ?isSingular\n",
      "\n",
      "boundary (singular) fit: see ?isSingular\n",
      "\n",
      "boundary (singular) fit: see ?isSingular\n",
      "\n",
      "boundary (singular) fit: see ?isSingular\n",
      "\n",
      "boundary (singular) fit: see ?isSingular\n",
      "\n"
     ]
    },
    {
     "name": "stdout",
     "output_type": "stream",
     "text": [
      "Bootstrap Progress:\n",
      "Bootstrap Progress:\n"
     ]
    },
    {
     "name": "stderr",
     "output_type": "stream",
     "text": [
      "boundary (singular) fit: see ?isSingular\n",
      "\n",
      "boundary (singular) fit: see ?isSingular\n",
      "\n"
     ]
    },
    {
     "name": "stdout",
     "output_type": "stream",
     "text": [
      "Bootstrap Progress:\n"
     ]
    },
    {
     "name": "stderr",
     "output_type": "stream",
     "text": [
      "boundary (singular) fit: see ?isSingular\n",
      "\n",
      "boundary (singular) fit: see ?isSingular\n",
      "\n"
     ]
    },
    {
     "name": "stdout",
     "output_type": "stream",
     "text": [
      "Bootstrap Progress:\n"
     ]
    },
    {
     "name": "stderr",
     "output_type": "stream",
     "text": [
      "boundary (singular) fit: see ?isSingular\n",
      "\n",
      "boundary (singular) fit: see ?isSingular\n",
      "\n",
      "boundary (singular) fit: see ?isSingular\n",
      "\n",
      "boundary (singular) fit: see ?isSingular\n",
      "\n"
     ]
    },
    {
     "name": "stdout",
     "output_type": "stream",
     "text": [
      "Bootstrap Progress:\n",
      "Bootstrap Progress:\n"
     ]
    },
    {
     "name": "stderr",
     "output_type": "stream",
     "text": [
      "boundary (singular) fit: see ?isSingular\n",
      "\n",
      "boundary (singular) fit: see ?isSingular\n",
      "\n",
      "boundary (singular) fit: see ?isSingular\n",
      "\n"
     ]
    },
    {
     "name": "stdout",
     "output_type": "stream",
     "text": [
      "Bootstrap Progress:\n"
     ]
    },
    {
     "name": "stderr",
     "output_type": "stream",
     "text": [
      "boundary (singular) fit: see ?isSingular\n",
      "\n",
      "boundary (singular) fit: see ?isSingular\n",
      "\n",
      "boundary (singular) fit: see ?isSingular\n",
      "\n"
     ]
    },
    {
     "name": "stdout",
     "output_type": "stream",
     "text": [
      "Bootstrap Progress:\n"
     ]
    },
    {
     "name": "stderr",
     "output_type": "stream",
     "text": [
      "boundary (singular) fit: see ?isSingular\n",
      "\n",
      "boundary (singular) fit: see ?isSingular\n",
      "\n",
      "boundary (singular) fit: see ?isSingular\n",
      "\n",
      "boundary (singular) fit: see ?isSingular\n",
      "\n",
      "boundary (singular) fit: see ?isSingular\n",
      "\n"
     ]
    },
    {
     "name": "stdout",
     "output_type": "stream",
     "text": [
      "Bootstrap Progress:\n",
      "Bootstrap Progress:\n"
     ]
    },
    {
     "name": "stderr",
     "output_type": "stream",
     "text": [
      "boundary (singular) fit: see ?isSingular\n",
      "\n"
     ]
    },
    {
     "name": "stdout",
     "output_type": "stream",
     "text": [
      "Bootstrap Progress:\n"
     ]
    },
    {
     "name": "stderr",
     "output_type": "stream",
     "text": [
      "boundary (singular) fit: see ?isSingular\n",
      "\n",
      "boundary (singular) fit: see ?isSingular\n",
      "\n",
      "boundary (singular) fit: see ?isSingular\n",
      "\n"
     ]
    },
    {
     "name": "stdout",
     "output_type": "stream",
     "text": [
      "Bootstrap Progress:\n"
     ]
    },
    {
     "name": "stderr",
     "output_type": "stream",
     "text": [
      "boundary (singular) fit: see ?isSingular\n",
      "\n",
      "boundary (singular) fit: see ?isSingular\n",
      "\n",
      "boundary (singular) fit: see ?isSingular\n",
      "\n",
      "boundary (singular) fit: see ?isSingular\n",
      "\n",
      "boundary (singular) fit: see ?isSingular\n",
      "\n"
     ]
    },
    {
     "name": "stdout",
     "output_type": "stream",
     "text": [
      "Bootstrap Progress:\n"
     ]
    },
    {
     "name": "stderr",
     "output_type": "stream",
     "text": [
      "boundary (singular) fit: see ?isSingular\n",
      "\n",
      "boundary (singular) fit: see ?isSingular\n",
      "\n",
      "boundary (singular) fit: see ?isSingular\n",
      "\n"
     ]
    },
    {
     "name": "stdout",
     "output_type": "stream",
     "text": [
      "Bootstrap Progress:\n",
      "Bootstrap Progress:\n"
     ]
    },
    {
     "name": "stderr",
     "output_type": "stream",
     "text": [
      "boundary (singular) fit: see ?isSingular\n",
      "\n",
      "boundary (singular) fit: see ?isSingular\n",
      "\n",
      "boundary (singular) fit: see ?isSingular\n",
      "\n",
      "boundary (singular) fit: see ?isSingular\n",
      "\n",
      "boundary (singular) fit: see ?isSingular\n",
      "\n",
      "boundary (singular) fit: see ?isSingular\n",
      "\n"
     ]
    },
    {
     "name": "stdout",
     "output_type": "stream",
     "text": [
      "Bootstrap Progress:\n"
     ]
    },
    {
     "name": "stderr",
     "output_type": "stream",
     "text": [
      "boundary (singular) fit: see ?isSingular\n",
      "\n",
      "boundary (singular) fit: see ?isSingular\n",
      "\n",
      "boundary (singular) fit: see ?isSingular\n",
      "\n",
      "boundary (singular) fit: see ?isSingular\n",
      "\n",
      "boundary (singular) fit: see ?isSingular\n",
      "\n",
      "boundary (singular) fit: see ?isSingular\n",
      "\n"
     ]
    },
    {
     "name": "stdout",
     "output_type": "stream",
     "text": [
      "Bootstrap Progress:\n"
     ]
    },
    {
     "name": "stderr",
     "output_type": "stream",
     "text": [
      "boundary (singular) fit: see ?isSingular\n",
      "\n",
      "boundary (singular) fit: see ?isSingular\n",
      "\n",
      "boundary (singular) fit: see ?isSingular\n",
      "\n",
      "boundary (singular) fit: see ?isSingular\n",
      "\n",
      "boundary (singular) fit: see ?isSingular\n",
      "\n"
     ]
    },
    {
     "name": "stdout",
     "output_type": "stream",
     "text": [
      "Bootstrap Progress:\n"
     ]
    },
    {
     "name": "stderr",
     "output_type": "stream",
     "text": [
      "boundary (singular) fit: see ?isSingular\n",
      "\n"
     ]
    },
    {
     "name": "stdout",
     "output_type": "stream",
     "text": [
      "Bootstrap Progress:\n"
     ]
    },
    {
     "name": "stderr",
     "output_type": "stream",
     "text": [
      "boundary (singular) fit: see ?isSingular\n",
      "\n",
      "boundary (singular) fit: see ?isSingular\n",
      "\n",
      "boundary (singular) fit: see ?isSingular\n",
      "\n",
      "boundary (singular) fit: see ?isSingular\n",
      "\n",
      "boundary (singular) fit: see ?isSingular\n",
      "\n",
      "boundary (singular) fit: see ?isSingular\n",
      "\n"
     ]
    },
    {
     "name": "stdout",
     "output_type": "stream",
     "text": [
      "Bootstrap Progress:\n"
     ]
    },
    {
     "name": "stderr",
     "output_type": "stream",
     "text": [
      "boundary (singular) fit: see ?isSingular\n",
      "\n",
      "boundary (singular) fit: see ?isSingular\n",
      "\n",
      "boundary (singular) fit: see ?isSingular\n",
      "\n",
      "boundary (singular) fit: see ?isSingular\n",
      "\n",
      "boundary (singular) fit: see ?isSingular\n",
      "\n",
      "boundary (singular) fit: see ?isSingular\n",
      "\n"
     ]
    },
    {
     "name": "stdout",
     "output_type": "stream",
     "text": [
      "Bootstrap Progress:\n"
     ]
    },
    {
     "name": "stderr",
     "output_type": "stream",
     "text": [
      "boundary (singular) fit: see ?isSingular\n",
      "\n",
      "boundary (singular) fit: see ?isSingular\n",
      "\n",
      "boundary (singular) fit: see ?isSingular\n",
      "\n",
      "boundary (singular) fit: see ?isSingular\n",
      "\n",
      "boundary (singular) fit: see ?isSingular\n",
      "\n",
      "boundary (singular) fit: see ?isSingular\n",
      "\n",
      "boundary (singular) fit: see ?isSingular\n",
      "\n"
     ]
    },
    {
     "name": "stdout",
     "output_type": "stream",
     "text": [
      "Bootstrap Progress:\n"
     ]
    },
    {
     "name": "stderr",
     "output_type": "stream",
     "text": [
      "boundary (singular) fit: see ?isSingular\n",
      "\n",
      "boundary (singular) fit: see ?isSingular\n",
      "\n",
      "boundary (singular) fit: see ?isSingular\n",
      "\n",
      "boundary (singular) fit: see ?isSingular\n",
      "\n",
      "boundary (singular) fit: see ?isSingular\n",
      "\n",
      "boundary (singular) fit: see ?isSingular\n",
      "\n",
      "boundary (singular) fit: see ?isSingular\n",
      "\n",
      "boundary (singular) fit: see ?isSingular\n",
      "\n"
     ]
    },
    {
     "name": "stdout",
     "output_type": "stream",
     "text": [
      "Bootstrap Progress:\n"
     ]
    },
    {
     "name": "stderr",
     "output_type": "stream",
     "text": [
      "boundary (singular) fit: see ?isSingular\n",
      "\n",
      "boundary (singular) fit: see ?isSingular\n",
      "\n",
      "boundary (singular) fit: see ?isSingular\n",
      "\n",
      "boundary (singular) fit: see ?isSingular\n",
      "\n",
      "boundary (singular) fit: see ?isSingular\n",
      "\n",
      "boundary (singular) fit: see ?isSingular\n",
      "\n",
      "boundary (singular) fit: see ?isSingular\n",
      "\n"
     ]
    },
    {
     "name": "stdout",
     "output_type": "stream",
     "text": [
      "Bootstrap Progress:\n"
     ]
    },
    {
     "name": "stderr",
     "output_type": "stream",
     "text": [
      "boundary (singular) fit: see ?isSingular\n",
      "\n",
      "boundary (singular) fit: see ?isSingular\n",
      "\n",
      "boundary (singular) fit: see ?isSingular\n",
      "\n",
      "boundary (singular) fit: see ?isSingular\n",
      "\n",
      "boundary (singular) fit: see ?isSingular\n",
      "\n",
      "boundary (singular) fit: see ?isSingular\n",
      "\n"
     ]
    },
    {
     "name": "stdout",
     "output_type": "stream",
     "text": [
      "Bootstrap Progress:\n"
     ]
    },
    {
     "name": "stderr",
     "output_type": "stream",
     "text": [
      "boundary (singular) fit: see ?isSingular\n",
      "\n",
      "boundary (singular) fit: see ?isSingular\n",
      "\n",
      "boundary (singular) fit: see ?isSingular\n",
      "\n",
      "boundary (singular) fit: see ?isSingular\n",
      "\n",
      "boundary (singular) fit: see ?isSingular\n",
      "\n"
     ]
    },
    {
     "name": "stdout",
     "output_type": "stream",
     "text": [
      "Bootstrap Progress:\n"
     ]
    },
    {
     "name": "stderr",
     "output_type": "stream",
     "text": [
      "boundary (singular) fit: see ?isSingular\n",
      "\n",
      "boundary (singular) fit: see ?isSingular\n",
      "\n",
      "boundary (singular) fit: see ?isSingular\n",
      "\n",
      "boundary (singular) fit: see ?isSingular\n",
      "\n",
      "boundary (singular) fit: see ?isSingular\n",
      "\n"
     ]
    },
    {
     "name": "stdout",
     "output_type": "stream",
     "text": [
      "Bootstrap Progress:\n"
     ]
    },
    {
     "name": "stderr",
     "output_type": "stream",
     "text": [
      "boundary (singular) fit: see ?isSingular\n",
      "\n",
      "boundary (singular) fit: see ?isSingular\n",
      "\n",
      "boundary (singular) fit: see ?isSingular\n",
      "\n",
      "boundary (singular) fit: see ?isSingular\n",
      "\n"
     ]
    },
    {
     "name": "stdout",
     "output_type": "stream",
     "text": [
      "Bootstrap Progress:\n"
     ]
    },
    {
     "name": "stderr",
     "output_type": "stream",
     "text": [
      "boundary (singular) fit: see ?isSingular\n",
      "\n",
      "boundary (singular) fit: see ?isSingular\n",
      "\n",
      "boundary (singular) fit: see ?isSingular\n",
      "\n",
      "boundary (singular) fit: see ?isSingular\n",
      "\n",
      "boundary (singular) fit: see ?isSingular\n",
      "\n"
     ]
    },
    {
     "name": "stdout",
     "output_type": "stream",
     "text": [
      "Bootstrap Progress:\n",
      "Bootstrap Progress:\n",
      "Bootstrap Progress:\n",
      "Bootstrap Progress:\n",
      "Bootstrap Progress:\n",
      "Bootstrap Progress:\n",
      "Bootstrap Progress:\n",
      "Bootstrap Progress:\n",
      "Bootstrap Progress:\n",
      "Bootstrap Progress:\n",
      "Bootstrap Progress:\n",
      "Bootstrap Progress:\n",
      "Bootstrap Progress:\n",
      "Bootstrap Progress:\n",
      "Bootstrap Progress:\n",
      "Bootstrap Progress:\n",
      "Bootstrap Progress:\n",
      "Bootstrap Progress:\n",
      "Bootstrap Progress:\n",
      "Bootstrap Progress:\n",
      "Bootstrap Progress:\n",
      "Bootstrap Progress:\n",
      "Bootstrap Progress:\n",
      "Bootstrap Progress:\n",
      "Bootstrap Progress:\n",
      "Bootstrap Progress:\n",
      "Bootstrap Progress:\n",
      "Bootstrap Progress:\n",
      "Bootstrap Progress:\n",
      "Bootstrap Progress:\n",
      "Bootstrap Progress:\n",
      "Bootstrap Progress:\n",
      "Bootstrap Progress:\n",
      "Bootstrap Progress:\n",
      "Bootstrap Progress:\n",
      "Bootstrap Progress:\n",
      "Bootstrap Progress:\n",
      "Bootstrap Progress:\n",
      "Bootstrap Progress:\n",
      "Bootstrap Progress:\n",
      "Bootstrap Progress:\n",
      "Bootstrap Progress:\n",
      "Bootstrap Progress:\n",
      "Bootstrap Progress:\n",
      "Bootstrap Progress:\n",
      "Bootstrap Progress:\n"
     ]
    },
    {
     "name": "stderr",
     "output_type": "stream",
     "text": [
      "boundary (singular) fit: see ?isSingular\n",
      "\n"
     ]
    },
    {
     "name": "stdout",
     "output_type": "stream",
     "text": [
      "Bootstrap Progress:\n",
      "Bootstrap Progress:\n"
     ]
    },
    {
     "name": "stderr",
     "output_type": "stream",
     "text": [
      "boundary (singular) fit: see ?isSingular\n",
      "\n"
     ]
    },
    {
     "name": "stdout",
     "output_type": "stream",
     "text": [
      "Bootstrap Progress:\n",
      "Bootstrap Progress:\n",
      "Bootstrap Progress:\n",
      "Bootstrap Progress:\n"
     ]
    },
    {
     "name": "stderr",
     "output_type": "stream",
     "text": [
      "boundary (singular) fit: see ?isSingular\n",
      "\n"
     ]
    },
    {
     "name": "stdout",
     "output_type": "stream",
     "text": [
      "Bootstrap Progress:\n",
      "Bootstrap Progress:\n",
      "Bootstrap Progress:\n",
      "Bootstrap Progress:\n"
     ]
    },
    {
     "name": "stderr",
     "output_type": "stream",
     "text": [
      "boundary (singular) fit: see ?isSingular\n",
      "\n",
      "boundary (singular) fit: see ?isSingular\n",
      "\n",
      "boundary (singular) fit: see ?isSingular\n",
      "\n",
      "boundary (singular) fit: see ?isSingular\n",
      "\n",
      "boundary (singular) fit: see ?isSingular\n",
      "\n",
      "boundary (singular) fit: see ?isSingular\n",
      "\n",
      "boundary (singular) fit: see ?isSingular\n",
      "\n"
     ]
    },
    {
     "name": "stdout",
     "output_type": "stream",
     "text": [
      "Bootstrap Progress:\n",
      "Bootstrap Progress:\n",
      "Bootstrap Progress:\n"
     ]
    },
    {
     "name": "stderr",
     "output_type": "stream",
     "text": [
      "boundary (singular) fit: see ?isSingular\n",
      "\n",
      "boundary (singular) fit: see ?isSingular\n",
      "\n"
     ]
    },
    {
     "name": "stdout",
     "output_type": "stream",
     "text": [
      "Bootstrap Progress:\n"
     ]
    },
    {
     "name": "stderr",
     "output_type": "stream",
     "text": [
      "boundary (singular) fit: see ?isSingular\n",
      "\n",
      "boundary (singular) fit: see ?isSingular\n",
      "\n",
      "boundary (singular) fit: see ?isSingular\n",
      "\n",
      "boundary (singular) fit: see ?isSingular\n",
      "\n",
      "boundary (singular) fit: see ?isSingular\n",
      "\n",
      "boundary (singular) fit: see ?isSingular\n",
      "\n"
     ]
    },
    {
     "name": "stdout",
     "output_type": "stream",
     "text": [
      "Bootstrap Progress:\n",
      "Bootstrap Progress:\n",
      "Bootstrap Progress:\n",
      "Bootstrap Progress:\n"
     ]
    },
    {
     "name": "stderr",
     "output_type": "stream",
     "text": [
      "boundary (singular) fit: see ?isSingular\n",
      "\n",
      "boundary (singular) fit: see ?isSingular\n",
      "\n"
     ]
    },
    {
     "name": "stdout",
     "output_type": "stream",
     "text": [
      "Bootstrap Progress:\n",
      "Bootstrap Progress:\n",
      "Bootstrap Progress:\n"
     ]
    },
    {
     "name": "stderr",
     "output_type": "stream",
     "text": [
      "boundary (singular) fit: see ?isSingular\n",
      "\n",
      "boundary (singular) fit: see ?isSingular\n",
      "\n"
     ]
    },
    {
     "name": "stdout",
     "output_type": "stream",
     "text": [
      "Bootstrap Progress:\n"
     ]
    },
    {
     "name": "stderr",
     "output_type": "stream",
     "text": [
      "boundary (singular) fit: see ?isSingular\n",
      "\n",
      "boundary (singular) fit: see ?isSingular\n",
      "\n",
      "boundary (singular) fit: see ?isSingular\n",
      "\n",
      "boundary (singular) fit: see ?isSingular\n",
      "\n",
      "boundary (singular) fit: see ?isSingular\n",
      "\n",
      "boundary (singular) fit: see ?isSingular\n",
      "\n"
     ]
    },
    {
     "name": "stdout",
     "output_type": "stream",
     "text": [
      "Bootstrap Progress:\n",
      "Bootstrap Progress:\n",
      "Bootstrap Progress:\n"
     ]
    },
    {
     "name": "stderr",
     "output_type": "stream",
     "text": [
      "boundary (singular) fit: see ?isSingular\n",
      "\n",
      "boundary (singular) fit: see ?isSingular\n",
      "\n"
     ]
    },
    {
     "name": "stdout",
     "output_type": "stream",
     "text": [
      "Bootstrap Progress:\n"
     ]
    },
    {
     "name": "stderr",
     "output_type": "stream",
     "text": [
      "boundary (singular) fit: see ?isSingular\n",
      "\n",
      "boundary (singular) fit: see ?isSingular\n",
      "\n",
      "boundary (singular) fit: see ?isSingular\n",
      "\n",
      "boundary (singular) fit: see ?isSingular\n",
      "\n"
     ]
    },
    {
     "name": "stdout",
     "output_type": "stream",
     "text": [
      "Bootstrap Progress:\n",
      "Bootstrap Progress:\n",
      "Bootstrap Progress:\n"
     ]
    },
    {
     "name": "stderr",
     "output_type": "stream",
     "text": [
      "boundary (singular) fit: see ?isSingular\n",
      "\n",
      "boundary (singular) fit: see ?isSingular\n",
      "\n"
     ]
    },
    {
     "name": "stdout",
     "output_type": "stream",
     "text": [
      "Bootstrap Progress:\n"
     ]
    },
    {
     "name": "stderr",
     "output_type": "stream",
     "text": [
      "boundary (singular) fit: see ?isSingular\n",
      "\n",
      "boundary (singular) fit: see ?isSingular\n",
      "\n",
      "boundary (singular) fit: see ?isSingular\n",
      "\n",
      "boundary (singular) fit: see ?isSingular\n",
      "\n",
      "boundary (singular) fit: see ?isSingular\n",
      "\n",
      "boundary (singular) fit: see ?isSingular\n",
      "\n",
      "boundary (singular) fit: see ?isSingular\n",
      "\n",
      "boundary (singular) fit: see ?isSingular\n",
      "\n"
     ]
    },
    {
     "name": "stdout",
     "output_type": "stream",
     "text": [
      "Bootstrap Progress:\n"
     ]
    },
    {
     "name": "stderr",
     "output_type": "stream",
     "text": [
      "boundary (singular) fit: see ?isSingular\n",
      "\n",
      "boundary (singular) fit: see ?isSingular\n",
      "\n"
     ]
    },
    {
     "name": "stdout",
     "output_type": "stream",
     "text": [
      "Bootstrap Progress:\n",
      "Bootstrap Progress:\n"
     ]
    },
    {
     "name": "stderr",
     "output_type": "stream",
     "text": [
      "boundary (singular) fit: see ?isSingular\n",
      "\n",
      "boundary (singular) fit: see ?isSingular\n",
      "\n"
     ]
    },
    {
     "name": "stdout",
     "output_type": "stream",
     "text": [
      "Bootstrap Progress:\n"
     ]
    },
    {
     "name": "stderr",
     "output_type": "stream",
     "text": [
      "boundary (singular) fit: see ?isSingular\n",
      "\n",
      "boundary (singular) fit: see ?isSingular\n",
      "\n",
      "boundary (singular) fit: see ?isSingular\n",
      "\n",
      "boundary (singular) fit: see ?isSingular\n",
      "\n",
      "boundary (singular) fit: see ?isSingular\n",
      "\n",
      "boundary (singular) fit: see ?isSingular\n",
      "\n"
     ]
    },
    {
     "name": "stdout",
     "output_type": "stream",
     "text": [
      "Bootstrap Progress:\n",
      "Bootstrap Progress:\n"
     ]
    },
    {
     "name": "stderr",
     "output_type": "stream",
     "text": [
      "boundary (singular) fit: see ?isSingular\n",
      "\n"
     ]
    },
    {
     "name": "stdout",
     "output_type": "stream",
     "text": [
      "Bootstrap Progress:\n"
     ]
    },
    {
     "name": "stderr",
     "output_type": "stream",
     "text": [
      "boundary (singular) fit: see ?isSingular\n",
      "\n",
      "boundary (singular) fit: see ?isSingular\n",
      "\n"
     ]
    },
    {
     "name": "stdout",
     "output_type": "stream",
     "text": [
      "Bootstrap Progress:\n"
     ]
    },
    {
     "name": "stderr",
     "output_type": "stream",
     "text": [
      "boundary (singular) fit: see ?isSingular\n",
      "\n",
      "boundary (singular) fit: see ?isSingular\n",
      "\n"
     ]
    },
    {
     "name": "stdout",
     "output_type": "stream",
     "text": [
      "Bootstrap Progress:\n",
      "Bootstrap Progress:\n",
      "Bootstrap Progress:\n"
     ]
    },
    {
     "name": "stderr",
     "output_type": "stream",
     "text": [
      "boundary (singular) fit: see ?isSingular\n",
      "\n",
      "boundary (singular) fit: see ?isSingular\n",
      "\n"
     ]
    },
    {
     "name": "stdout",
     "output_type": "stream",
     "text": [
      "Bootstrap Progress:\n"
     ]
    },
    {
     "name": "stderr",
     "output_type": "stream",
     "text": [
      "boundary (singular) fit: see ?isSingular\n",
      "\n",
      "boundary (singular) fit: see ?isSingular\n",
      "\n",
      "boundary (singular) fit: see ?isSingular\n",
      "\n",
      "boundary (singular) fit: see ?isSingular\n",
      "\n"
     ]
    },
    {
     "name": "stdout",
     "output_type": "stream",
     "text": [
      "Bootstrap Progress:\n"
     ]
    },
    {
     "name": "stderr",
     "output_type": "stream",
     "text": [
      "boundary (singular) fit: see ?isSingular\n",
      "\n",
      "boundary (singular) fit: see ?isSingular\n",
      "\n",
      "boundary (singular) fit: see ?isSingular\n",
      "\n"
     ]
    },
    {
     "name": "stdout",
     "output_type": "stream",
     "text": [
      "Bootstrap Progress:\n",
      "Bootstrap Progress:\n"
     ]
    },
    {
     "name": "stderr",
     "output_type": "stream",
     "text": [
      "boundary (singular) fit: see ?isSingular\n",
      "\n",
      "boundary (singular) fit: see ?isSingular\n",
      "\n",
      "boundary (singular) fit: see ?isSingular\n",
      "\n",
      "boundary (singular) fit: see ?isSingular\n",
      "\n"
     ]
    },
    {
     "name": "stdout",
     "output_type": "stream",
     "text": [
      "Bootstrap Progress:\n"
     ]
    },
    {
     "name": "stderr",
     "output_type": "stream",
     "text": [
      "boundary (singular) fit: see ?isSingular\n",
      "\n",
      "boundary (singular) fit: see ?isSingular\n",
      "\n"
     ]
    },
    {
     "name": "stdout",
     "output_type": "stream",
     "text": [
      "Bootstrap Progress:\n",
      "Bootstrap Progress:\n"
     ]
    },
    {
     "name": "stderr",
     "output_type": "stream",
     "text": [
      "boundary (singular) fit: see ?isSingular\n",
      "\n"
     ]
    },
    {
     "name": "stdout",
     "output_type": "stream",
     "text": [
      "Bootstrap Progress:\n"
     ]
    },
    {
     "name": "stderr",
     "output_type": "stream",
     "text": [
      "boundary (singular) fit: see ?isSingular\n",
      "\n",
      "boundary (singular) fit: see ?isSingular\n",
      "\n",
      "boundary (singular) fit: see ?isSingular\n",
      "\n",
      "boundary (singular) fit: see ?isSingular\n",
      "\n"
     ]
    },
    {
     "name": "stdout",
     "output_type": "stream",
     "text": [
      "Bootstrap Progress:\n"
     ]
    },
    {
     "name": "stderr",
     "output_type": "stream",
     "text": [
      "boundary (singular) fit: see ?isSingular\n",
      "\n",
      "boundary (singular) fit: see ?isSingular\n",
      "\n",
      "boundary (singular) fit: see ?isSingular\n",
      "\n"
     ]
    },
    {
     "name": "stdout",
     "output_type": "stream",
     "text": [
      "Bootstrap Progress:\n"
     ]
    },
    {
     "name": "stderr",
     "output_type": "stream",
     "text": [
      "boundary (singular) fit: see ?isSingular\n",
      "\n",
      "boundary (singular) fit: see ?isSingular\n",
      "\n",
      "boundary (singular) fit: see ?isSingular\n",
      "\n"
     ]
    },
    {
     "name": "stdout",
     "output_type": "stream",
     "text": [
      "Bootstrap Progress:\n"
     ]
    },
    {
     "name": "stderr",
     "output_type": "stream",
     "text": [
      "boundary (singular) fit: see ?isSingular\n",
      "\n"
     ]
    },
    {
     "name": "stdout",
     "output_type": "stream",
     "text": [
      "Bootstrap Progress:\n"
     ]
    },
    {
     "name": "stderr",
     "output_type": "stream",
     "text": [
      "boundary (singular) fit: see ?isSingular\n",
      "\n",
      "boundary (singular) fit: see ?isSingular\n",
      "\n"
     ]
    },
    {
     "name": "stdout",
     "output_type": "stream",
     "text": [
      "Bootstrap Progress:\n"
     ]
    },
    {
     "name": "stderr",
     "output_type": "stream",
     "text": [
      "boundary (singular) fit: see ?isSingular\n",
      "\n",
      "boundary (singular) fit: see ?isSingular\n",
      "\n",
      "boundary (singular) fit: see ?isSingular\n",
      "\n",
      "boundary (singular) fit: see ?isSingular\n",
      "\n",
      "boundary (singular) fit: see ?isSingular\n",
      "\n",
      "boundary (singular) fit: see ?isSingular\n",
      "\n",
      "boundary (singular) fit: see ?isSingular\n",
      "\n"
     ]
    },
    {
     "name": "stdout",
     "output_type": "stream",
     "text": [
      "Bootstrap Progress:\n"
     ]
    },
    {
     "name": "stderr",
     "output_type": "stream",
     "text": [
      "boundary (singular) fit: see ?isSingular\n",
      "\n",
      "boundary (singular) fit: see ?isSingular\n",
      "\n",
      "boundary (singular) fit: see ?isSingular\n",
      "\n",
      "boundary (singular) fit: see ?isSingular\n",
      "\n"
     ]
    },
    {
     "name": "stdout",
     "output_type": "stream",
     "text": [
      "Bootstrap Progress:\n"
     ]
    },
    {
     "name": "stderr",
     "output_type": "stream",
     "text": [
      "boundary (singular) fit: see ?isSingular\n",
      "\n",
      "boundary (singular) fit: see ?isSingular\n",
      "\n",
      "boundary (singular) fit: see ?isSingular\n",
      "\n",
      "boundary (singular) fit: see ?isSingular\n",
      "\n",
      "boundary (singular) fit: see ?isSingular\n",
      "\n",
      "boundary (singular) fit: see ?isSingular\n",
      "\n"
     ]
    },
    {
     "name": "stdout",
     "output_type": "stream",
     "text": [
      "Bootstrap Progress:\n"
     ]
    },
    {
     "name": "stderr",
     "output_type": "stream",
     "text": [
      "boundary (singular) fit: see ?isSingular\n",
      "\n",
      "boundary (singular) fit: see ?isSingular\n",
      "\n",
      "boundary (singular) fit: see ?isSingular\n",
      "\n",
      "boundary (singular) fit: see ?isSingular\n",
      "\n",
      "boundary (singular) fit: see ?isSingular\n",
      "\n",
      "boundary (singular) fit: see ?isSingular\n",
      "\n"
     ]
    },
    {
     "name": "stdout",
     "output_type": "stream",
     "text": [
      "Bootstrap Progress:\n"
     ]
    },
    {
     "name": "stderr",
     "output_type": "stream",
     "text": [
      "boundary (singular) fit: see ?isSingular\n",
      "\n",
      "boundary (singular) fit: see ?isSingular\n",
      "\n",
      "boundary (singular) fit: see ?isSingular\n",
      "\n",
      "boundary (singular) fit: see ?isSingular\n",
      "\n",
      "boundary (singular) fit: see ?isSingular\n",
      "\n",
      "boundary (singular) fit: see ?isSingular\n",
      "\n"
     ]
    },
    {
     "name": "stdout",
     "output_type": "stream",
     "text": [
      "Bootstrap Progress:\n"
     ]
    },
    {
     "name": "stderr",
     "output_type": "stream",
     "text": [
      "boundary (singular) fit: see ?isSingular\n",
      "\n"
     ]
    },
    {
     "name": "stdout",
     "output_type": "stream",
     "text": [
      "Bootstrap Progress:\n"
     ]
    },
    {
     "name": "stderr",
     "output_type": "stream",
     "text": [
      "boundary (singular) fit: see ?isSingular\n",
      "\n",
      "boundary (singular) fit: see ?isSingular\n",
      "\n",
      "boundary (singular) fit: see ?isSingular\n",
      "\n",
      "boundary (singular) fit: see ?isSingular\n",
      "\n",
      "boundary (singular) fit: see ?isSingular\n",
      "\n"
     ]
    },
    {
     "name": "stdout",
     "output_type": "stream",
     "text": [
      "Bootstrap Progress:\n"
     ]
    },
    {
     "name": "stderr",
     "output_type": "stream",
     "text": [
      "boundary (singular) fit: see ?isSingular\n",
      "\n",
      "boundary (singular) fit: see ?isSingular\n",
      "\n",
      "boundary (singular) fit: see ?isSingular\n",
      "\n"
     ]
    },
    {
     "name": "stdout",
     "output_type": "stream",
     "text": [
      "Bootstrap Progress:\n"
     ]
    },
    {
     "name": "stderr",
     "output_type": "stream",
     "text": [
      "boundary (singular) fit: see ?isSingular\n",
      "\n",
      "boundary (singular) fit: see ?isSingular\n",
      "\n",
      "boundary (singular) fit: see ?isSingular\n",
      "\n",
      "boundary (singular) fit: see ?isSingular\n",
      "\n",
      "boundary (singular) fit: see ?isSingular\n",
      "\n",
      "boundary (singular) fit: see ?isSingular\n",
      "\n"
     ]
    },
    {
     "name": "stdout",
     "output_type": "stream",
     "text": [
      "Bootstrap Progress:\n"
     ]
    },
    {
     "name": "stderr",
     "output_type": "stream",
     "text": [
      "boundary (singular) fit: see ?isSingular\n",
      "\n",
      "boundary (singular) fit: see ?isSingular\n",
      "\n",
      "boundary (singular) fit: see ?isSingular\n",
      "\n",
      "boundary (singular) fit: see ?isSingular\n",
      "\n",
      "boundary (singular) fit: see ?isSingular\n",
      "\n",
      "boundary (singular) fit: see ?isSingular\n",
      "\n"
     ]
    },
    {
     "name": "stdout",
     "output_type": "stream",
     "text": [
      "Bootstrap Progress:\n"
     ]
    },
    {
     "name": "stderr",
     "output_type": "stream",
     "text": [
      "boundary (singular) fit: see ?isSingular\n",
      "\n",
      "boundary (singular) fit: see ?isSingular\n",
      "\n",
      "boundary (singular) fit: see ?isSingular\n",
      "\n"
     ]
    },
    {
     "name": "stdout",
     "output_type": "stream",
     "text": [
      "Bootstrap Progress:\n"
     ]
    },
    {
     "name": "stderr",
     "output_type": "stream",
     "text": [
      "boundary (singular) fit: see ?isSingular\n",
      "\n",
      "boundary (singular) fit: see ?isSingular\n",
      "\n",
      "boundary (singular) fit: see ?isSingular\n",
      "\n",
      "boundary (singular) fit: see ?isSingular\n",
      "\n",
      "boundary (singular) fit: see ?isSingular\n",
      "\n",
      "boundary (singular) fit: see ?isSingular\n",
      "\n"
     ]
    },
    {
     "name": "stdout",
     "output_type": "stream",
     "text": [
      "Bootstrap Progress:\n"
     ]
    },
    {
     "name": "stderr",
     "output_type": "stream",
     "text": [
      "boundary (singular) fit: see ?isSingular\n",
      "\n",
      "boundary (singular) fit: see ?isSingular\n",
      "\n",
      "boundary (singular) fit: see ?isSingular\n",
      "\n"
     ]
    },
    {
     "name": "stdout",
     "output_type": "stream",
     "text": [
      "Bootstrap Progress:\n",
      "Bootstrap Progress:\n",
      "Bootstrap Progress:\n",
      "Bootstrap Progress:\n",
      "Bootstrap Progress:\n",
      "Bootstrap Progress:\n",
      "Bootstrap Progress:\n",
      "Bootstrap Progress:\n",
      "Bootstrap Progress:\n",
      "Bootstrap Progress:\n",
      "Bootstrap Progress:\n",
      "Bootstrap Progress:\n",
      "Bootstrap Progress:\n",
      "Bootstrap Progress:\n",
      "Bootstrap Progress:\n",
      "Bootstrap Progress:\n",
      "Bootstrap Progress:\n",
      "Bootstrap Progress:\n",
      "Bootstrap Progress:\n",
      "Bootstrap Progress:\n",
      "Bootstrap Progress:\n",
      "Bootstrap Progress:\n",
      "Bootstrap Progress:\n",
      "Bootstrap Progress:\n",
      "Bootstrap Progress:\n",
      "Bootstrap Progress:\n",
      "Bootstrap Progress:\n",
      "Bootstrap Progress:\n",
      "Bootstrap Progress:\n",
      "Bootstrap Progress:\n",
      "Bootstrap Progress:\n",
      "Bootstrap Progress:\n",
      "Bootstrap Progress:\n",
      "Bootstrap Progress:\n",
      "Bootstrap Progress:\n",
      "Bootstrap Progress:\n",
      "Bootstrap Progress:\n",
      "Bootstrap Progress:\n",
      "Bootstrap Progress:\n",
      "Bootstrap Progress:\n",
      "Bootstrap Progress:\n",
      "Bootstrap Progress:\n",
      "Bootstrap Progress:\n",
      "Bootstrap Progress:\n"
     ]
    },
    {
     "name": "stderr",
     "output_type": "stream",
     "text": [
      "boundary (singular) fit: see ?isSingular\n",
      "\n"
     ]
    },
    {
     "name": "stdout",
     "output_type": "stream",
     "text": [
      "Bootstrap Progress:\n",
      "Bootstrap Progress:\n",
      "Bootstrap Progress:\n",
      "Bootstrap Progress:\n",
      "Bootstrap Progress:\n",
      "Bootstrap Progress:\n",
      "Bootstrap Progress:\n",
      "Bootstrap Progress:\n",
      "Bootstrap Progress:\n",
      "Bootstrap Progress:\n",
      "Bootstrap Progress:\n",
      "Bootstrap Progress:\n"
     ]
    },
    {
     "name": "stderr",
     "output_type": "stream",
     "text": [
      "boundary (singular) fit: see ?isSingular\n",
      "\n"
     ]
    },
    {
     "name": "stdout",
     "output_type": "stream",
     "text": [
      "Bootstrap Progress:\n",
      "Bootstrap Progress:\n",
      "Bootstrap Progress:\n",
      "Bootstrap Progress:\n"
     ]
    },
    {
     "name": "stderr",
     "output_type": "stream",
     "text": [
      "boundary (singular) fit: see ?isSingular\n",
      "\n",
      "boundary (singular) fit: see ?isSingular\n",
      "\n",
      "boundary (singular) fit: see ?isSingular\n",
      "\n"
     ]
    },
    {
     "name": "stdout",
     "output_type": "stream",
     "text": [
      "Bootstrap Progress:\n",
      "Bootstrap Progress:\n",
      "Bootstrap Progress:\n",
      "Bootstrap Progress:\n",
      "Bootstrap Progress:\n",
      "Bootstrap Progress:\n",
      "Bootstrap Progress:\n",
      "Bootstrap Progress:\n"
     ]
    },
    {
     "name": "stderr",
     "output_type": "stream",
     "text": [
      "boundary (singular) fit: see ?isSingular\n",
      "\n",
      "boundary (singular) fit: see ?isSingular\n",
      "\n"
     ]
    },
    {
     "name": "stdout",
     "output_type": "stream",
     "text": [
      "Bootstrap Progress:\n"
     ]
    },
    {
     "name": "stderr",
     "output_type": "stream",
     "text": [
      "boundary (singular) fit: see ?isSingular\n",
      "\n"
     ]
    },
    {
     "name": "stdout",
     "output_type": "stream",
     "text": [
      "Bootstrap Progress:\n"
     ]
    },
    {
     "name": "stderr",
     "output_type": "stream",
     "text": [
      "boundary (singular) fit: see ?isSingular\n",
      "\n",
      "boundary (singular) fit: see ?isSingular\n",
      "\n",
      "boundary (singular) fit: see ?isSingular\n",
      "\n"
     ]
    },
    {
     "name": "stdout",
     "output_type": "stream",
     "text": [
      "Bootstrap Progress:\n"
     ]
    },
    {
     "name": "stderr",
     "output_type": "stream",
     "text": [
      "boundary (singular) fit: see ?isSingular\n",
      "\n",
      "boundary (singular) fit: see ?isSingular\n",
      "\n"
     ]
    },
    {
     "name": "stdout",
     "output_type": "stream",
     "text": [
      "Bootstrap Progress:\n"
     ]
    },
    {
     "name": "stderr",
     "output_type": "stream",
     "text": [
      "boundary (singular) fit: see ?isSingular\n",
      "\n",
      "boundary (singular) fit: see ?isSingular\n",
      "\n",
      "boundary (singular) fit: see ?isSingular\n",
      "\n",
      "boundary (singular) fit: see ?isSingular\n",
      "\n",
      "boundary (singular) fit: see ?isSingular\n",
      "\n"
     ]
    },
    {
     "name": "stdout",
     "output_type": "stream",
     "text": [
      "Bootstrap Progress:\n"
     ]
    },
    {
     "name": "stderr",
     "output_type": "stream",
     "text": [
      "boundary (singular) fit: see ?isSingular\n",
      "\n"
     ]
    },
    {
     "name": "stdout",
     "output_type": "stream",
     "text": [
      "Bootstrap Progress:\n",
      "Bootstrap Progress:\n"
     ]
    },
    {
     "name": "stderr",
     "output_type": "stream",
     "text": [
      "boundary (singular) fit: see ?isSingular\n",
      "\n",
      "boundary (singular) fit: see ?isSingular\n",
      "\n",
      "boundary (singular) fit: see ?isSingular\n",
      "\n"
     ]
    },
    {
     "name": "stdout",
     "output_type": "stream",
     "text": [
      "Bootstrap Progress:\n"
     ]
    },
    {
     "name": "stderr",
     "output_type": "stream",
     "text": [
      "boundary (singular) fit: see ?isSingular\n",
      "\n",
      "boundary (singular) fit: see ?isSingular\n",
      "\n",
      "boundary (singular) fit: see ?isSingular\n",
      "\n",
      "boundary (singular) fit: see ?isSingular\n",
      "\n",
      "boundary (singular) fit: see ?isSingular\n",
      "\n",
      "boundary (singular) fit: see ?isSingular\n",
      "\n",
      "boundary (singular) fit: see ?isSingular\n",
      "\n",
      "boundary (singular) fit: see ?isSingular\n",
      "\n"
     ]
    },
    {
     "name": "stdout",
     "output_type": "stream",
     "text": [
      "Bootstrap Progress:\n"
     ]
    },
    {
     "name": "stderr",
     "output_type": "stream",
     "text": [
      "boundary (singular) fit: see ?isSingular\n",
      "\n"
     ]
    },
    {
     "name": "stdout",
     "output_type": "stream",
     "text": [
      "Bootstrap Progress:\n"
     ]
    },
    {
     "name": "stderr",
     "output_type": "stream",
     "text": [
      "boundary (singular) fit: see ?isSingular\n",
      "\n"
     ]
    },
    {
     "name": "stdout",
     "output_type": "stream",
     "text": [
      "Bootstrap Progress:\n"
     ]
    },
    {
     "name": "stderr",
     "output_type": "stream",
     "text": [
      "boundary (singular) fit: see ?isSingular\n",
      "\n",
      "boundary (singular) fit: see ?isSingular\n",
      "\n"
     ]
    },
    {
     "name": "stdout",
     "output_type": "stream",
     "text": [
      "Bootstrap Progress:\n"
     ]
    },
    {
     "name": "stderr",
     "output_type": "stream",
     "text": [
      "boundary (singular) fit: see ?isSingular\n",
      "\n",
      "boundary (singular) fit: see ?isSingular\n",
      "\n",
      "boundary (singular) fit: see ?isSingular\n",
      "\n",
      "boundary (singular) fit: see ?isSingular\n",
      "\n"
     ]
    },
    {
     "name": "stdout",
     "output_type": "stream",
     "text": [
      "Bootstrap Progress:\n",
      "Bootstrap Progress:\n",
      "Bootstrap Progress:\n"
     ]
    },
    {
     "name": "stderr",
     "output_type": "stream",
     "text": [
      "boundary (singular) fit: see ?isSingular\n",
      "\n"
     ]
    },
    {
     "name": "stdout",
     "output_type": "stream",
     "text": [
      "Bootstrap Progress:\n"
     ]
    },
    {
     "name": "stderr",
     "output_type": "stream",
     "text": [
      "boundary (singular) fit: see ?isSingular\n",
      "\n",
      "boundary (singular) fit: see ?isSingular\n",
      "\n",
      "boundary (singular) fit: see ?isSingular\n",
      "\n",
      "boundary (singular) fit: see ?isSingular\n",
      "\n",
      "boundary (singular) fit: see ?isSingular\n",
      "\n",
      "boundary (singular) fit: see ?isSingular\n",
      "\n"
     ]
    },
    {
     "name": "stdout",
     "output_type": "stream",
     "text": [
      "Bootstrap Progress:\n",
      "Bootstrap Progress:\n"
     ]
    },
    {
     "name": "stderr",
     "output_type": "stream",
     "text": [
      "boundary (singular) fit: see ?isSingular\n",
      "\n"
     ]
    },
    {
     "name": "stdout",
     "output_type": "stream",
     "text": [
      "Bootstrap Progress:\n"
     ]
    },
    {
     "name": "stderr",
     "output_type": "stream",
     "text": [
      "boundary (singular) fit: see ?isSingular\n",
      "\n",
      "boundary (singular) fit: see ?isSingular\n",
      "\n",
      "boundary (singular) fit: see ?isSingular\n",
      "\n"
     ]
    },
    {
     "name": "stdout",
     "output_type": "stream",
     "text": [
      "Bootstrap Progress:\n"
     ]
    },
    {
     "name": "stderr",
     "output_type": "stream",
     "text": [
      "boundary (singular) fit: see ?isSingular\n",
      "\n",
      "boundary (singular) fit: see ?isSingular\n",
      "\n",
      "boundary (singular) fit: see ?isSingular\n",
      "\n"
     ]
    },
    {
     "name": "stdout",
     "output_type": "stream",
     "text": [
      "Bootstrap Progress:\n"
     ]
    },
    {
     "name": "stderr",
     "output_type": "stream",
     "text": [
      "boundary (singular) fit: see ?isSingular\n",
      "\n"
     ]
    },
    {
     "name": "stdout",
     "output_type": "stream",
     "text": [
      "Bootstrap Progress:\n",
      "Bootstrap Progress:\n"
     ]
    },
    {
     "name": "stderr",
     "output_type": "stream",
     "text": [
      "boundary (singular) fit: see ?isSingular\n",
      "\n",
      "boundary (singular) fit: see ?isSingular\n",
      "\n",
      "boundary (singular) fit: see ?isSingular\n",
      "\n"
     ]
    },
    {
     "name": "stdout",
     "output_type": "stream",
     "text": [
      "Bootstrap Progress:\n"
     ]
    },
    {
     "name": "stderr",
     "output_type": "stream",
     "text": [
      "boundary (singular) fit: see ?isSingular\n",
      "\n",
      "boundary (singular) fit: see ?isSingular\n",
      "\n",
      "boundary (singular) fit: see ?isSingular\n",
      "\n",
      "boundary (singular) fit: see ?isSingular\n",
      "\n",
      "boundary (singular) fit: see ?isSingular\n",
      "\n"
     ]
    },
    {
     "name": "stdout",
     "output_type": "stream",
     "text": [
      "Bootstrap Progress:\n"
     ]
    },
    {
     "name": "stderr",
     "output_type": "stream",
     "text": [
      "boundary (singular) fit: see ?isSingular\n",
      "\n",
      "boundary (singular) fit: see ?isSingular\n",
      "\n"
     ]
    },
    {
     "name": "stdout",
     "output_type": "stream",
     "text": [
      "Bootstrap Progress:\n",
      "Bootstrap Progress:\n"
     ]
    },
    {
     "name": "stderr",
     "output_type": "stream",
     "text": [
      "boundary (singular) fit: see ?isSingular\n",
      "\n",
      "boundary (singular) fit: see ?isSingular\n",
      "\n",
      "boundary (singular) fit: see ?isSingular\n",
      "\n",
      "boundary (singular) fit: see ?isSingular\n",
      "\n",
      "boundary (singular) fit: see ?isSingular\n",
      "\n",
      "boundary (singular) fit: see ?isSingular\n",
      "\n"
     ]
    },
    {
     "name": "stdout",
     "output_type": "stream",
     "text": [
      "Bootstrap Progress:\n"
     ]
    },
    {
     "name": "stderr",
     "output_type": "stream",
     "text": [
      "boundary (singular) fit: see ?isSingular\n",
      "\n",
      "boundary (singular) fit: see ?isSingular\n",
      "\n",
      "boundary (singular) fit: see ?isSingular\n",
      "\n",
      "boundary (singular) fit: see ?isSingular\n",
      "\n",
      "boundary (singular) fit: see ?isSingular\n",
      "\n",
      "boundary (singular) fit: see ?isSingular\n",
      "\n"
     ]
    },
    {
     "name": "stdout",
     "output_type": "stream",
     "text": [
      "Bootstrap Progress:\n"
     ]
    },
    {
     "name": "stderr",
     "output_type": "stream",
     "text": [
      "boundary (singular) fit: see ?isSingular\n",
      "\n",
      "boundary (singular) fit: see ?isSingular\n",
      "\n",
      "boundary (singular) fit: see ?isSingular\n",
      "\n"
     ]
    },
    {
     "name": "stdout",
     "output_type": "stream",
     "text": [
      "Bootstrap Progress:\n"
     ]
    },
    {
     "name": "stderr",
     "output_type": "stream",
     "text": [
      "boundary (singular) fit: see ?isSingular\n",
      "\n",
      "boundary (singular) fit: see ?isSingular\n",
      "\n"
     ]
    },
    {
     "name": "stdout",
     "output_type": "stream",
     "text": [
      "Bootstrap Progress:\n"
     ]
    },
    {
     "name": "stderr",
     "output_type": "stream",
     "text": [
      "boundary (singular) fit: see ?isSingular\n",
      "\n",
      "boundary (singular) fit: see ?isSingular\n",
      "\n",
      "boundary (singular) fit: see ?isSingular\n",
      "\n",
      "boundary (singular) fit: see ?isSingular\n",
      "\n",
      "boundary (singular) fit: see ?isSingular\n",
      "\n"
     ]
    },
    {
     "name": "stdout",
     "output_type": "stream",
     "text": [
      "Bootstrap Progress:\n"
     ]
    },
    {
     "name": "stderr",
     "output_type": "stream",
     "text": [
      "boundary (singular) fit: see ?isSingular\n",
      "\n",
      "boundary (singular) fit: see ?isSingular\n",
      "\n",
      "boundary (singular) fit: see ?isSingular\n",
      "\n",
      "boundary (singular) fit: see ?isSingular\n",
      "\n",
      "boundary (singular) fit: see ?isSingular\n",
      "\n"
     ]
    },
    {
     "name": "stdout",
     "output_type": "stream",
     "text": [
      "Bootstrap Progress:\n",
      "Bootstrap Progress:\n"
     ]
    },
    {
     "name": "stderr",
     "output_type": "stream",
     "text": [
      "boundary (singular) fit: see ?isSingular\n",
      "\n",
      "boundary (singular) fit: see ?isSingular\n",
      "\n",
      "boundary (singular) fit: see ?isSingular\n",
      "\n",
      "boundary (singular) fit: see ?isSingular\n",
      "\n",
      "boundary (singular) fit: see ?isSingular\n",
      "\n"
     ]
    },
    {
     "name": "stdout",
     "output_type": "stream",
     "text": [
      "Bootstrap Progress:\n"
     ]
    },
    {
     "name": "stderr",
     "output_type": "stream",
     "text": [
      "boundary (singular) fit: see ?isSingular\n",
      "\n",
      "boundary (singular) fit: see ?isSingular\n",
      "\n",
      "boundary (singular) fit: see ?isSingular\n",
      "\n",
      "boundary (singular) fit: see ?isSingular\n",
      "\n",
      "boundary (singular) fit: see ?isSingular\n",
      "\n",
      "boundary (singular) fit: see ?isSingular\n",
      "\n"
     ]
    },
    {
     "name": "stdout",
     "output_type": "stream",
     "text": [
      "Bootstrap Progress:\n"
     ]
    },
    {
     "name": "stderr",
     "output_type": "stream",
     "text": [
      "boundary (singular) fit: see ?isSingular\n",
      "\n",
      "boundary (singular) fit: see ?isSingular\n",
      "\n",
      "boundary (singular) fit: see ?isSingular\n",
      "\n",
      "boundary (singular) fit: see ?isSingular\n",
      "\n",
      "boundary (singular) fit: see ?isSingular\n",
      "\n",
      "boundary (singular) fit: see ?isSingular\n",
      "\n",
      "boundary (singular) fit: see ?isSingular\n",
      "\n"
     ]
    },
    {
     "name": "stdout",
     "output_type": "stream",
     "text": [
      "Bootstrap Progress:\n"
     ]
    },
    {
     "name": "stderr",
     "output_type": "stream",
     "text": [
      "boundary (singular) fit: see ?isSingular\n",
      "\n",
      "boundary (singular) fit: see ?isSingular\n",
      "\n",
      "boundary (singular) fit: see ?isSingular\n",
      "\n",
      "boundary (singular) fit: see ?isSingular\n",
      "\n"
     ]
    },
    {
     "name": "stdout",
     "output_type": "stream",
     "text": [
      "Bootstrap Progress:\n"
     ]
    },
    {
     "name": "stderr",
     "output_type": "stream",
     "text": [
      "boundary (singular) fit: see ?isSingular\n",
      "\n",
      "boundary (singular) fit: see ?isSingular\n",
      "\n",
      "boundary (singular) fit: see ?isSingular\n",
      "\n",
      "boundary (singular) fit: see ?isSingular\n",
      "\n"
     ]
    },
    {
     "name": "stdout",
     "output_type": "stream",
     "text": [
      "Bootstrap Progress:\n"
     ]
    },
    {
     "name": "stderr",
     "output_type": "stream",
     "text": [
      "boundary (singular) fit: see ?isSingular\n",
      "\n",
      "boundary (singular) fit: see ?isSingular\n",
      "\n",
      "boundary (singular) fit: see ?isSingular\n",
      "\n",
      "boundary (singular) fit: see ?isSingular\n",
      "\n",
      "boundary (singular) fit: see ?isSingular\n",
      "\n",
      "boundary (singular) fit: see ?isSingular\n",
      "\n"
     ]
    },
    {
     "name": "stdout",
     "output_type": "stream",
     "text": [
      "Bootstrap Progress:\n"
     ]
    },
    {
     "name": "stderr",
     "output_type": "stream",
     "text": [
      "boundary (singular) fit: see ?isSingular\n",
      "\n",
      "boundary (singular) fit: see ?isSingular\n",
      "\n",
      "boundary (singular) fit: see ?isSingular\n",
      "\n",
      "boundary (singular) fit: see ?isSingular\n",
      "\n"
     ]
    },
    {
     "name": "stdout",
     "output_type": "stream",
     "text": [
      "Bootstrap Progress:\n",
      "Bootstrap Progress:\n"
     ]
    },
    {
     "name": "stderr",
     "output_type": "stream",
     "text": [
      "boundary (singular) fit: see ?isSingular\n",
      "\n",
      "boundary (singular) fit: see ?isSingular\n",
      "\n",
      "boundary (singular) fit: see ?isSingular\n",
      "\n",
      "boundary (singular) fit: see ?isSingular\n",
      "\n"
     ]
    },
    {
     "name": "stdout",
     "output_type": "stream",
     "text": [
      "Bootstrap Progress:\n"
     ]
    },
    {
     "name": "stderr",
     "output_type": "stream",
     "text": [
      "boundary (singular) fit: see ?isSingular\n",
      "\n",
      "boundary (singular) fit: see ?isSingular\n",
      "\n",
      "boundary (singular) fit: see ?isSingular\n",
      "\n",
      "boundary (singular) fit: see ?isSingular\n",
      "\n",
      "boundary (singular) fit: see ?isSingular\n",
      "\n",
      "boundary (singular) fit: see ?isSingular\n",
      "\n"
     ]
    },
    {
     "name": "stdout",
     "output_type": "stream",
     "text": [
      "Bootstrap Progress:\n"
     ]
    },
    {
     "name": "stderr",
     "output_type": "stream",
     "text": [
      "boundary (singular) fit: see ?isSingular\n",
      "\n",
      "boundary (singular) fit: see ?isSingular\n",
      "\n",
      "boundary (singular) fit: see ?isSingular\n",
      "\n",
      "boundary (singular) fit: see ?isSingular\n",
      "\n",
      "boundary (singular) fit: see ?isSingular\n",
      "\n",
      "boundary (singular) fit: see ?isSingular\n",
      "\n",
      "boundary (singular) fit: see ?isSingular\n",
      "\n",
      "boundary (singular) fit: see ?isSingular\n",
      "\n"
     ]
    },
    {
     "name": "stdout",
     "output_type": "stream",
     "text": [
      "Bootstrap Progress:\n"
     ]
    },
    {
     "name": "stderr",
     "output_type": "stream",
     "text": [
      "boundary (singular) fit: see ?isSingular\n",
      "\n",
      "boundary (singular) fit: see ?isSingular\n",
      "\n",
      "boundary (singular) fit: see ?isSingular\n",
      "\n",
      "boundary (singular) fit: see ?isSingular\n",
      "\n",
      "boundary (singular) fit: see ?isSingular\n",
      "\n",
      "boundary (singular) fit: see ?isSingular\n",
      "\n"
     ]
    },
    {
     "name": "stdout",
     "output_type": "stream",
     "text": [
      "Bootstrap Progress:\n"
     ]
    },
    {
     "name": "stderr",
     "output_type": "stream",
     "text": [
      "boundary (singular) fit: see ?isSingular\n",
      "\n",
      "boundary (singular) fit: see ?isSingular\n",
      "\n"
     ]
    },
    {
     "name": "stdout",
     "output_type": "stream",
     "text": [
      "Bootstrap Progress:\n"
     ]
    },
    {
     "name": "stderr",
     "output_type": "stream",
     "text": [
      "boundary (singular) fit: see ?isSingular\n",
      "\n",
      "boundary (singular) fit: see ?isSingular\n",
      "\n",
      "boundary (singular) fit: see ?isSingular\n",
      "\n",
      "boundary (singular) fit: see ?isSingular\n",
      "\n",
      "boundary (singular) fit: see ?isSingular\n",
      "\n",
      "boundary (singular) fit: see ?isSingular\n",
      "\n",
      "boundary (singular) fit: see ?isSingular\n",
      "\n"
     ]
    },
    {
     "name": "stdout",
     "output_type": "stream",
     "text": [
      "Bootstrap Progress:\n"
     ]
    },
    {
     "name": "stderr",
     "output_type": "stream",
     "text": [
      "boundary (singular) fit: see ?isSingular\n",
      "\n",
      "boundary (singular) fit: see ?isSingular\n",
      "\n",
      "boundary (singular) fit: see ?isSingular\n",
      "\n",
      "boundary (singular) fit: see ?isSingular\n",
      "\n",
      "boundary (singular) fit: see ?isSingular\n",
      "\n",
      "boundary (singular) fit: see ?isSingular\n",
      "\n"
     ]
    },
    {
     "name": "stdout",
     "output_type": "stream",
     "text": [
      "Bootstrap Progress:\n",
      "Bootstrap Progress:\n",
      "Bootstrap Progress:\n",
      "Bootstrap Progress:\n",
      "Bootstrap Progress:\n",
      "Bootstrap Progress:\n",
      "Bootstrap Progress:\n",
      "Bootstrap Progress:\n",
      "Bootstrap Progress:\n",
      "Bootstrap Progress:\n",
      "Bootstrap Progress:\n",
      "Bootstrap Progress:\n",
      "Bootstrap Progress:\n",
      "Bootstrap Progress:\n",
      "Bootstrap Progress:\n",
      "Bootstrap Progress:\n",
      "Bootstrap Progress:\n",
      "Bootstrap Progress:\n",
      "Bootstrap Progress:\n",
      "Bootstrap Progress:\n",
      "Bootstrap Progress:\n",
      "Bootstrap Progress:\n",
      "Bootstrap Progress:\n",
      "Bootstrap Progress:\n",
      "Bootstrap Progress:\n",
      "Bootstrap Progress:\n",
      "Bootstrap Progress:\n",
      "Bootstrap Progress:\n",
      "Bootstrap Progress:\n",
      "Bootstrap Progress:\n",
      "Bootstrap Progress:\n",
      "Bootstrap Progress:\n",
      "Bootstrap Progress:\n",
      "Bootstrap Progress:\n",
      "Bootstrap Progress:\n",
      "Bootstrap Progress:\n",
      "Bootstrap Progress:\n",
      "Bootstrap Progress:\n",
      "Bootstrap Progress:\n",
      "Bootstrap Progress:\n",
      "Bootstrap Progress:\n",
      "Bootstrap Progress:\n",
      "Bootstrap Progress:\n",
      "Bootstrap Progress:\n",
      "Bootstrap Progress:\n",
      "Bootstrap Progress:\n",
      "Bootstrap Progress:\n",
      "Bootstrap Progress:\n",
      "Bootstrap Progress:\n",
      "Bootstrap Progress:\n",
      "Bootstrap Progress:\n",
      "Bootstrap Progress:\n"
     ]
    },
    {
     "name": "stderr",
     "output_type": "stream",
     "text": [
      "boundary (singular) fit: see ?isSingular\n",
      "\n"
     ]
    },
    {
     "name": "stdout",
     "output_type": "stream",
     "text": [
      "Bootstrap Progress:\n",
      "Bootstrap Progress:\n",
      "Bootstrap Progress:\n",
      "Bootstrap Progress:\n",
      "Bootstrap Progress:\n",
      "Bootstrap Progress:\n",
      "Bootstrap Progress:\n",
      "Bootstrap Progress:\n",
      "Bootstrap Progress:\n",
      "Bootstrap Progress:\n",
      "Bootstrap Progress:\n",
      "Bootstrap Progress:\n",
      "Bootstrap Progress:\n",
      "Bootstrap Progress:\n",
      "Bootstrap Progress:\n",
      "Bootstrap Progress:\n",
      "Bootstrap Progress:\n",
      "Bootstrap Progress:\n",
      "Bootstrap Progress:\n",
      "Bootstrap Progress:\n"
     ]
    },
    {
     "name": "stderr",
     "output_type": "stream",
     "text": [
      "boundary (singular) fit: see ?isSingular\n",
      "\n"
     ]
    },
    {
     "name": "stdout",
     "output_type": "stream",
     "text": [
      "Bootstrap Progress:\n",
      "Bootstrap Progress:\n",
      "Bootstrap Progress:\n"
     ]
    },
    {
     "name": "stderr",
     "output_type": "stream",
     "text": [
      "boundary (singular) fit: see ?isSingular\n",
      "\n",
      "boundary (singular) fit: see ?isSingular\n",
      "\n"
     ]
    },
    {
     "name": "stdout",
     "output_type": "stream",
     "text": [
      "Bootstrap Progress:\n"
     ]
    },
    {
     "name": "stderr",
     "output_type": "stream",
     "text": [
      "boundary (singular) fit: see ?isSingular\n",
      "\n",
      "boundary (singular) fit: see ?isSingular\n",
      "\n",
      "boundary (singular) fit: see ?isSingular\n",
      "\n",
      "boundary (singular) fit: see ?isSingular\n",
      "\n",
      "boundary (singular) fit: see ?isSingular\n",
      "\n",
      "boundary (singular) fit: see ?isSingular\n",
      "\n"
     ]
    },
    {
     "name": "stdout",
     "output_type": "stream",
     "text": [
      "Bootstrap Progress:\n",
      "Bootstrap Progress:\n",
      "Bootstrap Progress:\n",
      "Bootstrap Progress:\n",
      "Bootstrap Progress:\n"
     ]
    },
    {
     "name": "stderr",
     "output_type": "stream",
     "text": [
      "boundary (singular) fit: see ?isSingular\n",
      "\n"
     ]
    },
    {
     "name": "stdout",
     "output_type": "stream",
     "text": [
      "Bootstrap Progress:\n",
      "Bootstrap Progress:\n"
     ]
    },
    {
     "name": "stderr",
     "output_type": "stream",
     "text": [
      "boundary (singular) fit: see ?isSingular\n",
      "\n",
      "boundary (singular) fit: see ?isSingular\n",
      "\n"
     ]
    },
    {
     "name": "stdout",
     "output_type": "stream",
     "text": [
      "Bootstrap Progress:\n"
     ]
    },
    {
     "name": "stderr",
     "output_type": "stream",
     "text": [
      "boundary (singular) fit: see ?isSingular\n",
      "\n",
      "boundary (singular) fit: see ?isSingular\n",
      "\n",
      "boundary (singular) fit: see ?isSingular\n",
      "\n",
      "boundary (singular) fit: see ?isSingular\n",
      "\n"
     ]
    },
    {
     "name": "stdout",
     "output_type": "stream",
     "text": [
      "Bootstrap Progress:\n",
      "Bootstrap Progress:\n",
      "Bootstrap Progress:\n",
      "Bootstrap Progress:\n"
     ]
    },
    {
     "name": "stderr",
     "output_type": "stream",
     "text": [
      "boundary (singular) fit: see ?isSingular\n",
      "\n"
     ]
    },
    {
     "name": "stdout",
     "output_type": "stream",
     "text": [
      "Bootstrap Progress:\n",
      "Bootstrap Progress:\n",
      "Bootstrap Progress:\n"
     ]
    },
    {
     "name": "stderr",
     "output_type": "stream",
     "text": [
      "boundary (singular) fit: see ?isSingular\n",
      "\n"
     ]
    },
    {
     "name": "stdout",
     "output_type": "stream",
     "text": [
      "Bootstrap Progress:\n"
     ]
    },
    {
     "name": "stderr",
     "output_type": "stream",
     "text": [
      "boundary (singular) fit: see ?isSingular\n",
      "\n",
      "boundary (singular) fit: see ?isSingular\n",
      "\n",
      "boundary (singular) fit: see ?isSingular\n",
      "\n",
      "boundary (singular) fit: see ?isSingular\n",
      "\n",
      "boundary (singular) fit: see ?isSingular\n",
      "\n"
     ]
    },
    {
     "name": "stdout",
     "output_type": "stream",
     "text": [
      "Bootstrap Progress:\n",
      "Bootstrap Progress:\n",
      "Bootstrap Progress:\n"
     ]
    },
    {
     "name": "stderr",
     "output_type": "stream",
     "text": [
      "boundary (singular) fit: see ?isSingular\n",
      "\n",
      "boundary (singular) fit: see ?isSingular\n",
      "\n"
     ]
    },
    {
     "name": "stdout",
     "output_type": "stream",
     "text": [
      "Bootstrap Progress:\n"
     ]
    },
    {
     "name": "stderr",
     "output_type": "stream",
     "text": [
      "boundary (singular) fit: see ?isSingular\n",
      "\n",
      "boundary (singular) fit: see ?isSingular\n",
      "\n"
     ]
    },
    {
     "name": "stdout",
     "output_type": "stream",
     "text": [
      "Bootstrap Progress:\n",
      "Bootstrap Progress:\n"
     ]
    },
    {
     "name": "stderr",
     "output_type": "stream",
     "text": [
      "boundary (singular) fit: see ?isSingular\n",
      "\n"
     ]
    },
    {
     "name": "stdout",
     "output_type": "stream",
     "text": [
      "Bootstrap Progress:\n"
     ]
    },
    {
     "name": "stderr",
     "output_type": "stream",
     "text": [
      "boundary (singular) fit: see ?isSingular\n",
      "\n",
      "boundary (singular) fit: see ?isSingular\n",
      "\n",
      "boundary (singular) fit: see ?isSingular\n",
      "\n"
     ]
    },
    {
     "name": "stdout",
     "output_type": "stream",
     "text": [
      "Bootstrap Progress:\n"
     ]
    },
    {
     "name": "stderr",
     "output_type": "stream",
     "text": [
      "boundary (singular) fit: see ?isSingular\n",
      "\n",
      "boundary (singular) fit: see ?isSingular\n",
      "\n",
      "boundary (singular) fit: see ?isSingular\n",
      "\n",
      "boundary (singular) fit: see ?isSingular\n",
      "\n",
      "boundary (singular) fit: see ?isSingular\n",
      "\n",
      "boundary (singular) fit: see ?isSingular\n",
      "\n"
     ]
    },
    {
     "name": "stdout",
     "output_type": "stream",
     "text": [
      "Bootstrap Progress:\n",
      "Bootstrap Progress:\n"
     ]
    },
    {
     "name": "stderr",
     "output_type": "stream",
     "text": [
      "boundary (singular) fit: see ?isSingular\n",
      "\n",
      "boundary (singular) fit: see ?isSingular\n",
      "\n"
     ]
    },
    {
     "name": "stdout",
     "output_type": "stream",
     "text": [
      "Bootstrap Progress:\n"
     ]
    },
    {
     "name": "stderr",
     "output_type": "stream",
     "text": [
      "boundary (singular) fit: see ?isSingular\n",
      "\n",
      "boundary (singular) fit: see ?isSingular\n",
      "\n",
      "boundary (singular) fit: see ?isSingular\n",
      "\n",
      "boundary (singular) fit: see ?isSingular\n",
      "\n",
      "boundary (singular) fit: see ?isSingular\n",
      "\n"
     ]
    },
    {
     "name": "stdout",
     "output_type": "stream",
     "text": [
      "Bootstrap Progress:\n"
     ]
    },
    {
     "name": "stderr",
     "output_type": "stream",
     "text": [
      "boundary (singular) fit: see ?isSingular\n",
      "\n",
      "boundary (singular) fit: see ?isSingular\n",
      "\n",
      "boundary (singular) fit: see ?isSingular\n",
      "\n",
      "boundary (singular) fit: see ?isSingular\n",
      "\n"
     ]
    },
    {
     "name": "stdout",
     "output_type": "stream",
     "text": [
      "Bootstrap Progress:\n"
     ]
    },
    {
     "name": "stderr",
     "output_type": "stream",
     "text": [
      "boundary (singular) fit: see ?isSingular\n",
      "\n"
     ]
    },
    {
     "name": "stdout",
     "output_type": "stream",
     "text": [
      "Bootstrap Progress:\n"
     ]
    },
    {
     "name": "stderr",
     "output_type": "stream",
     "text": [
      "boundary (singular) fit: see ?isSingular\n",
      "\n"
     ]
    },
    {
     "name": "stdout",
     "output_type": "stream",
     "text": [
      "Bootstrap Progress:\n"
     ]
    },
    {
     "name": "stderr",
     "output_type": "stream",
     "text": [
      "boundary (singular) fit: see ?isSingular\n",
      "\n",
      "boundary (singular) fit: see ?isSingular\n",
      "\n",
      "boundary (singular) fit: see ?isSingular\n",
      "\n",
      "boundary (singular) fit: see ?isSingular\n",
      "\n",
      "boundary (singular) fit: see ?isSingular\n",
      "\n",
      "boundary (singular) fit: see ?isSingular\n",
      "\n",
      "boundary (singular) fit: see ?isSingular\n",
      "\n"
     ]
    },
    {
     "name": "stdout",
     "output_type": "stream",
     "text": [
      "Bootstrap Progress:\n"
     ]
    },
    {
     "name": "stderr",
     "output_type": "stream",
     "text": [
      "boundary (singular) fit: see ?isSingular\n",
      "\n",
      "boundary (singular) fit: see ?isSingular\n",
      "\n",
      "boundary (singular) fit: see ?isSingular\n",
      "\n",
      "boundary (singular) fit: see ?isSingular\n",
      "\n",
      "boundary (singular) fit: see ?isSingular\n",
      "\n"
     ]
    },
    {
     "name": "stdout",
     "output_type": "stream",
     "text": [
      "Bootstrap Progress:\n"
     ]
    },
    {
     "name": "stderr",
     "output_type": "stream",
     "text": [
      "boundary (singular) fit: see ?isSingular\n",
      "\n",
      "boundary (singular) fit: see ?isSingular\n",
      "\n",
      "boundary (singular) fit: see ?isSingular\n",
      "\n"
     ]
    },
    {
     "name": "stdout",
     "output_type": "stream",
     "text": [
      "Bootstrap Progress:\n"
     ]
    },
    {
     "name": "stderr",
     "output_type": "stream",
     "text": [
      "boundary (singular) fit: see ?isSingular\n",
      "\n",
      "boundary (singular) fit: see ?isSingular\n",
      "\n",
      "boundary (singular) fit: see ?isSingular\n",
      "\n",
      "boundary (singular) fit: see ?isSingular\n",
      "\n",
      "boundary (singular) fit: see ?isSingular\n",
      "\n",
      "boundary (singular) fit: see ?isSingular\n",
      "\n",
      "boundary (singular) fit: see ?isSingular\n",
      "\n"
     ]
    },
    {
     "name": "stdout",
     "output_type": "stream",
     "text": [
      "Bootstrap Progress:\n"
     ]
    },
    {
     "name": "stderr",
     "output_type": "stream",
     "text": [
      "boundary (singular) fit: see ?isSingular\n",
      "\n",
      "boundary (singular) fit: see ?isSingular\n",
      "\n",
      "boundary (singular) fit: see ?isSingular\n",
      "\n",
      "boundary (singular) fit: see ?isSingular\n",
      "\n",
      "boundary (singular) fit: see ?isSingular\n",
      "\n",
      "boundary (singular) fit: see ?isSingular\n",
      "\n",
      "boundary (singular) fit: see ?isSingular\n",
      "\n",
      "boundary (singular) fit: see ?isSingular\n",
      "\n",
      "boundary (singular) fit: see ?isSingular\n",
      "\n"
     ]
    },
    {
     "name": "stdout",
     "output_type": "stream",
     "text": [
      "Bootstrap Progress:\n"
     ]
    },
    {
     "name": "stderr",
     "output_type": "stream",
     "text": [
      "boundary (singular) fit: see ?isSingular\n",
      "\n",
      "boundary (singular) fit: see ?isSingular\n",
      "\n",
      "boundary (singular) fit: see ?isSingular\n",
      "\n",
      "boundary (singular) fit: see ?isSingular\n",
      "\n"
     ]
    },
    {
     "name": "stdout",
     "output_type": "stream",
     "text": [
      "Bootstrap Progress:\n",
      "Bootstrap Progress:\n"
     ]
    },
    {
     "name": "stderr",
     "output_type": "stream",
     "text": [
      "boundary (singular) fit: see ?isSingular\n",
      "\n",
      "boundary (singular) fit: see ?isSingular\n",
      "\n",
      "boundary (singular) fit: see ?isSingular\n",
      "\n",
      "boundary (singular) fit: see ?isSingular\n",
      "\n"
     ]
    },
    {
     "name": "stdout",
     "output_type": "stream",
     "text": [
      "Bootstrap Progress:\n"
     ]
    },
    {
     "name": "stderr",
     "output_type": "stream",
     "text": [
      "boundary (singular) fit: see ?isSingular\n",
      "\n",
      "boundary (singular) fit: see ?isSingular\n",
      "\n",
      "boundary (singular) fit: see ?isSingular\n",
      "\n",
      "boundary (singular) fit: see ?isSingular\n",
      "\n",
      "boundary (singular) fit: see ?isSingular\n",
      "\n",
      "boundary (singular) fit: see ?isSingular\n",
      "\n"
     ]
    },
    {
     "name": "stdout",
     "output_type": "stream",
     "text": [
      "Bootstrap Progress:\n"
     ]
    },
    {
     "name": "stderr",
     "output_type": "stream",
     "text": [
      "boundary (singular) fit: see ?isSingular\n",
      "\n",
      "boundary (singular) fit: see ?isSingular\n",
      "\n",
      "boundary (singular) fit: see ?isSingular\n",
      "\n",
      "boundary (singular) fit: see ?isSingular\n",
      "\n"
     ]
    },
    {
     "name": "stdout",
     "output_type": "stream",
     "text": [
      "Bootstrap Progress:\n"
     ]
    },
    {
     "name": "stderr",
     "output_type": "stream",
     "text": [
      "boundary (singular) fit: see ?isSingular\n",
      "\n",
      "boundary (singular) fit: see ?isSingular\n",
      "\n",
      "boundary (singular) fit: see ?isSingular\n",
      "\n"
     ]
    },
    {
     "name": "stdout",
     "output_type": "stream",
     "text": [
      "Bootstrap Progress:\n"
     ]
    },
    {
     "name": "stderr",
     "output_type": "stream",
     "text": [
      "boundary (singular) fit: see ?isSingular\n",
      "\n",
      "boundary (singular) fit: see ?isSingular\n",
      "\n",
      "boundary (singular) fit: see ?isSingular\n",
      "\n",
      "boundary (singular) fit: see ?isSingular\n",
      "\n",
      "boundary (singular) fit: see ?isSingular\n",
      "\n"
     ]
    },
    {
     "name": "stdout",
     "output_type": "stream",
     "text": [
      "Bootstrap Progress:\n"
     ]
    },
    {
     "name": "stderr",
     "output_type": "stream",
     "text": [
      "boundary (singular) fit: see ?isSingular\n",
      "\n",
      "boundary (singular) fit: see ?isSingular\n",
      "\n",
      "boundary (singular) fit: see ?isSingular\n",
      "\n",
      "boundary (singular) fit: see ?isSingular\n",
      "\n",
      "boundary (singular) fit: see ?isSingular\n",
      "\n"
     ]
    },
    {
     "name": "stdout",
     "output_type": "stream",
     "text": [
      "Bootstrap Progress:\n"
     ]
    },
    {
     "name": "stderr",
     "output_type": "stream",
     "text": [
      "boundary (singular) fit: see ?isSingular\n",
      "\n",
      "boundary (singular) fit: see ?isSingular\n",
      "\n",
      "boundary (singular) fit: see ?isSingular\n",
      "\n",
      "boundary (singular) fit: see ?isSingular\n",
      "\n",
      "boundary (singular) fit: see ?isSingular\n",
      "\n"
     ]
    },
    {
     "name": "stdout",
     "output_type": "stream",
     "text": [
      "Bootstrap Progress:\n",
      "Bootstrap Progress:\n",
      "Bootstrap Progress:\n",
      "Bootstrap Progress:\n",
      "Bootstrap Progress:\n",
      "Bootstrap Progress:\n",
      "Bootstrap Progress:\n",
      "Bootstrap Progress:\n",
      "Bootstrap Progress:\n",
      "Bootstrap Progress:\n",
      "Bootstrap Progress:\n",
      "Bootstrap Progress:\n",
      "Bootstrap Progress:\n",
      "Bootstrap Progress:\n",
      "Bootstrap Progress:\n",
      "Bootstrap Progress:\n",
      "Bootstrap Progress:\n",
      "Bootstrap Progress:\n",
      "Bootstrap Progress:\n",
      "Bootstrap Progress:\n",
      "Bootstrap Progress:\n",
      "Bootstrap Progress:\n",
      "Bootstrap Progress:\n",
      "Bootstrap Progress:\n",
      "Bootstrap Progress:\n",
      "Bootstrap Progress:\n",
      "Bootstrap Progress:\n",
      "Bootstrap Progress:\n",
      "Bootstrap Progress:\n",
      "Bootstrap Progress:\n",
      "Bootstrap Progress:\n",
      "Bootstrap Progress:\n",
      "Bootstrap Progress:\n",
      "Bootstrap Progress:\n",
      "Bootstrap Progress:\n",
      "Bootstrap Progress:\n",
      "Bootstrap Progress:\n",
      "Bootstrap Progress:\n",
      "Bootstrap Progress:\n",
      "Bootstrap Progress:\n",
      "Bootstrap Progress:\n",
      "Bootstrap Progress:\n",
      "Bootstrap Progress:\n",
      "Bootstrap Progress:\n",
      "Bootstrap Progress:\n",
      "Bootstrap Progress:\n",
      "Bootstrap Progress:\n",
      "Bootstrap Progress:\n",
      "Bootstrap Progress:\n",
      "Bootstrap Progress:\n",
      "Bootstrap Progress:\n",
      "Bootstrap Progress:\n",
      "Bootstrap Progress:\n",
      "Bootstrap Progress:\n",
      "Bootstrap Progress:\n",
      "Bootstrap Progress:\n",
      "Bootstrap Progress:\n",
      "Bootstrap Progress:\n",
      "Bootstrap Progress:\n",
      "Bootstrap Progress:\n",
      "Bootstrap Progress:\n",
      "Bootstrap Progress:\n",
      "Bootstrap Progress:\n",
      "Bootstrap Progress:\n"
     ]
    },
    {
     "name": "stderr",
     "output_type": "stream",
     "text": [
      "boundary (singular) fit: see ?isSingular\n",
      "\n",
      "boundary (singular) fit: see ?isSingular\n",
      "\n"
     ]
    },
    {
     "name": "stdout",
     "output_type": "stream",
     "text": [
      "Bootstrap Progress:\n",
      "Bootstrap Progress:\n",
      "Bootstrap Progress:\n",
      "Bootstrap Progress:\n"
     ]
    },
    {
     "name": "stderr",
     "output_type": "stream",
     "text": [
      "boundary (singular) fit: see ?isSingular\n",
      "\n",
      "boundary (singular) fit: see ?isSingular\n",
      "\n"
     ]
    },
    {
     "name": "stdout",
     "output_type": "stream",
     "text": [
      "Bootstrap Progress:\n",
      "Bootstrap Progress:\n",
      "Bootstrap Progress:\n"
     ]
    },
    {
     "name": "stderr",
     "output_type": "stream",
     "text": [
      "boundary (singular) fit: see ?isSingular\n",
      "\n",
      "boundary (singular) fit: see ?isSingular\n",
      "\n"
     ]
    },
    {
     "name": "stdout",
     "output_type": "stream",
     "text": [
      "Bootstrap Progress:\n"
     ]
    },
    {
     "name": "stderr",
     "output_type": "stream",
     "text": [
      "boundary (singular) fit: see ?isSingular\n",
      "\n",
      "boundary (singular) fit: see ?isSingular\n",
      "\n",
      "boundary (singular) fit: see ?isSingular\n",
      "\n",
      "boundary (singular) fit: see ?isSingular\n",
      "\n",
      "boundary (singular) fit: see ?isSingular\n",
      "\n",
      "boundary (singular) fit: see ?isSingular\n",
      "\n",
      "boundary (singular) fit: see ?isSingular\n",
      "\n"
     ]
    },
    {
     "name": "stdout",
     "output_type": "stream",
     "text": [
      "Bootstrap Progress:\n",
      "Bootstrap Progress:\n",
      "Bootstrap Progress:\n",
      "Bootstrap Progress:\n",
      "Bootstrap Progress:\n",
      "Bootstrap Progress:\n",
      "Bootstrap Progress:\n",
      "Bootstrap Progress:\n"
     ]
    },
    {
     "name": "stderr",
     "output_type": "stream",
     "text": [
      "boundary (singular) fit: see ?isSingular\n",
      "\n",
      "boundary (singular) fit: see ?isSingular\n",
      "\n"
     ]
    },
    {
     "name": "stdout",
     "output_type": "stream",
     "text": [
      "Bootstrap Progress:\n",
      "Bootstrap Progress:\n",
      "Bootstrap Progress:\n",
      "Bootstrap Progress:\n"
     ]
    },
    {
     "name": "stderr",
     "output_type": "stream",
     "text": [
      "boundary (singular) fit: see ?isSingular\n",
      "\n",
      "boundary (singular) fit: see ?isSingular\n",
      "\n"
     ]
    },
    {
     "name": "stdout",
     "output_type": "stream",
     "text": [
      "Bootstrap Progress:\n",
      "Bootstrap Progress:\n",
      "Bootstrap Progress:\n",
      "Bootstrap Progress:\n"
     ]
    },
    {
     "name": "stderr",
     "output_type": "stream",
     "text": [
      "boundary (singular) fit: see ?isSingular\n",
      "\n",
      "boundary (singular) fit: see ?isSingular\n",
      "\n",
      "boundary (singular) fit: see ?isSingular\n",
      "\n",
      "boundary (singular) fit: see ?isSingular\n",
      "\n",
      "boundary (singular) fit: see ?isSingular\n",
      "\n",
      "boundary (singular) fit: see ?isSingular\n",
      "\n"
     ]
    },
    {
     "name": "stdout",
     "output_type": "stream",
     "text": [
      "Bootstrap Progress:\n",
      "Bootstrap Progress:\n",
      "Bootstrap Progress:\n",
      "Bootstrap Progress:\n"
     ]
    },
    {
     "name": "stderr",
     "output_type": "stream",
     "text": [
      "boundary (singular) fit: see ?isSingular\n",
      "\n",
      "boundary (singular) fit: see ?isSingular\n",
      "\n",
      "boundary (singular) fit: see ?isSingular\n",
      "\n",
      "boundary (singular) fit: see ?isSingular\n",
      "\n",
      "boundary (singular) fit: see ?isSingular\n",
      "\n"
     ]
    },
    {
     "name": "stdout",
     "output_type": "stream",
     "text": [
      "Bootstrap Progress:\n",
      "Bootstrap Progress:\n"
     ]
    },
    {
     "name": "stderr",
     "output_type": "stream",
     "text": [
      "boundary (singular) fit: see ?isSingular\n",
      "\n",
      "boundary (singular) fit: see ?isSingular\n",
      "\n"
     ]
    },
    {
     "name": "stdout",
     "output_type": "stream",
     "text": [
      "Bootstrap Progress:\n"
     ]
    },
    {
     "name": "stderr",
     "output_type": "stream",
     "text": [
      "boundary (singular) fit: see ?isSingular\n",
      "\n",
      "boundary (singular) fit: see ?isSingular\n",
      "\n"
     ]
    },
    {
     "name": "stdout",
     "output_type": "stream",
     "text": [
      "Bootstrap Progress:\n"
     ]
    },
    {
     "name": "stderr",
     "output_type": "stream",
     "text": [
      "boundary (singular) fit: see ?isSingular\n",
      "\n",
      "boundary (singular) fit: see ?isSingular\n",
      "\n",
      "boundary (singular) fit: see ?isSingular\n",
      "\n",
      "boundary (singular) fit: see ?isSingular\n",
      "\n",
      "boundary (singular) fit: see ?isSingular\n",
      "\n"
     ]
    },
    {
     "name": "stdout",
     "output_type": "stream",
     "text": [
      "Bootstrap Progress:\n",
      "Bootstrap Progress:\n",
      "Bootstrap Progress:\n"
     ]
    },
    {
     "name": "stderr",
     "output_type": "stream",
     "text": [
      "boundary (singular) fit: see ?isSingular\n",
      "\n",
      "boundary (singular) fit: see ?isSingular\n",
      "\n",
      "boundary (singular) fit: see ?isSingular\n",
      "\n"
     ]
    },
    {
     "name": "stdout",
     "output_type": "stream",
     "text": [
      "Bootstrap Progress:\n"
     ]
    },
    {
     "name": "stderr",
     "output_type": "stream",
     "text": [
      "boundary (singular) fit: see ?isSingular\n",
      "\n",
      "boundary (singular) fit: see ?isSingular\n",
      "\n",
      "boundary (singular) fit: see ?isSingular\n",
      "\n",
      "boundary (singular) fit: see ?isSingular\n",
      "\n",
      "boundary (singular) fit: see ?isSingular\n",
      "\n",
      "boundary (singular) fit: see ?isSingular\n",
      "\n"
     ]
    },
    {
     "name": "stdout",
     "output_type": "stream",
     "text": [
      "Bootstrap Progress:\n"
     ]
    },
    {
     "name": "stderr",
     "output_type": "stream",
     "text": [
      "boundary (singular) fit: see ?isSingular\n",
      "\n"
     ]
    },
    {
     "name": "stdout",
     "output_type": "stream",
     "text": [
      "Bootstrap Progress:\n"
     ]
    },
    {
     "name": "stderr",
     "output_type": "stream",
     "text": [
      "boundary (singular) fit: see ?isSingular\n",
      "\n",
      "boundary (singular) fit: see ?isSingular\n",
      "\n",
      "boundary (singular) fit: see ?isSingular\n",
      "\n"
     ]
    },
    {
     "name": "stdout",
     "output_type": "stream",
     "text": [
      "Bootstrap Progress:\n"
     ]
    },
    {
     "name": "stderr",
     "output_type": "stream",
     "text": [
      "boundary (singular) fit: see ?isSingular\n",
      "\n",
      "boundary (singular) fit: see ?isSingular\n",
      "\n",
      "boundary (singular) fit: see ?isSingular\n",
      "\n",
      "boundary (singular) fit: see ?isSingular\n",
      "\n",
      "boundary (singular) fit: see ?isSingular\n",
      "\n"
     ]
    },
    {
     "name": "stdout",
     "output_type": "stream",
     "text": [
      "Bootstrap Progress:\n"
     ]
    },
    {
     "name": "stderr",
     "output_type": "stream",
     "text": [
      "boundary (singular) fit: see ?isSingular\n",
      "\n",
      "boundary (singular) fit: see ?isSingular\n",
      "\n",
      "boundary (singular) fit: see ?isSingular\n",
      "\n"
     ]
    },
    {
     "name": "stdout",
     "output_type": "stream",
     "text": [
      "Bootstrap Progress:\n",
      "Bootstrap Progress:\n"
     ]
    },
    {
     "name": "stderr",
     "output_type": "stream",
     "text": [
      "boundary (singular) fit: see ?isSingular\n",
      "\n",
      "boundary (singular) fit: see ?isSingular\n",
      "\n",
      "boundary (singular) fit: see ?isSingular\n",
      "\n",
      "boundary (singular) fit: see ?isSingular\n",
      "\n",
      "boundary (singular) fit: see ?isSingular\n",
      "\n",
      "boundary (singular) fit: see ?isSingular\n",
      "\n"
     ]
    },
    {
     "name": "stdout",
     "output_type": "stream",
     "text": [
      "Bootstrap Progress:\n"
     ]
    },
    {
     "name": "stderr",
     "output_type": "stream",
     "text": [
      "boundary (singular) fit: see ?isSingular\n",
      "\n",
      "boundary (singular) fit: see ?isSingular\n",
      "\n",
      "boundary (singular) fit: see ?isSingular\n",
      "\n",
      "boundary (singular) fit: see ?isSingular\n",
      "\n"
     ]
    },
    {
     "name": "stdout",
     "output_type": "stream",
     "text": [
      "Bootstrap Progress:\n"
     ]
    },
    {
     "name": "stderr",
     "output_type": "stream",
     "text": [
      "boundary (singular) fit: see ?isSingular\n",
      "\n",
      "boundary (singular) fit: see ?isSingular\n",
      "\n",
      "boundary (singular) fit: see ?isSingular\n",
      "\n"
     ]
    },
    {
     "name": "stdout",
     "output_type": "stream",
     "text": [
      "Bootstrap Progress:\n",
      "Bootstrap Progress:\n"
     ]
    },
    {
     "name": "stderr",
     "output_type": "stream",
     "text": [
      "boundary (singular) fit: see ?isSingular\n",
      "\n",
      "boundary (singular) fit: see ?isSingular\n",
      "\n",
      "boundary (singular) fit: see ?isSingular\n",
      "\n",
      "boundary (singular) fit: see ?isSingular\n",
      "\n"
     ]
    },
    {
     "name": "stdout",
     "output_type": "stream",
     "text": [
      "Bootstrap Progress:\n"
     ]
    },
    {
     "name": "stderr",
     "output_type": "stream",
     "text": [
      "boundary (singular) fit: see ?isSingular\n",
      "\n",
      "boundary (singular) fit: see ?isSingular\n",
      "\n"
     ]
    },
    {
     "name": "stdout",
     "output_type": "stream",
     "text": [
      "Bootstrap Progress:\n"
     ]
    },
    {
     "name": "stderr",
     "output_type": "stream",
     "text": [
      "boundary (singular) fit: see ?isSingular\n",
      "\n",
      "boundary (singular) fit: see ?isSingular\n",
      "\n"
     ]
    },
    {
     "name": "stdout",
     "output_type": "stream",
     "text": [
      "Bootstrap Progress:\n"
     ]
    },
    {
     "name": "stderr",
     "output_type": "stream",
     "text": [
      "boundary (singular) fit: see ?isSingular\n",
      "\n",
      "boundary (singular) fit: see ?isSingular\n",
      "\n"
     ]
    },
    {
     "name": "stdout",
     "output_type": "stream",
     "text": [
      "Bootstrap Progress:\n"
     ]
    },
    {
     "name": "stderr",
     "output_type": "stream",
     "text": [
      "boundary (singular) fit: see ?isSingular\n",
      "\n",
      "boundary (singular) fit: see ?isSingular\n",
      "\n"
     ]
    },
    {
     "name": "stdout",
     "output_type": "stream",
     "text": [
      "Bootstrap Progress:\n"
     ]
    },
    {
     "name": "stderr",
     "output_type": "stream",
     "text": [
      "boundary (singular) fit: see ?isSingular\n",
      "\n",
      "boundary (singular) fit: see ?isSingular\n",
      "\n",
      "boundary (singular) fit: see ?isSingular\n",
      "\n"
     ]
    },
    {
     "name": "stdout",
     "output_type": "stream",
     "text": [
      "Bootstrap Progress:\n"
     ]
    },
    {
     "name": "stderr",
     "output_type": "stream",
     "text": [
      "boundary (singular) fit: see ?isSingular\n",
      "\n",
      "boundary (singular) fit: see ?isSingular\n",
      "\n",
      "boundary (singular) fit: see ?isSingular\n",
      "\n",
      "boundary (singular) fit: see ?isSingular\n",
      "\n",
      "boundary (singular) fit: see ?isSingular\n",
      "\n",
      "boundary (singular) fit: see ?isSingular\n",
      "\n"
     ]
    },
    {
     "name": "stdout",
     "output_type": "stream",
     "text": [
      "Bootstrap Progress:\n"
     ]
    },
    {
     "name": "stderr",
     "output_type": "stream",
     "text": [
      "boundary (singular) fit: see ?isSingular\n",
      "\n",
      "boundary (singular) fit: see ?isSingular\n",
      "\n"
     ]
    },
    {
     "name": "stdout",
     "output_type": "stream",
     "text": [
      "Bootstrap Progress:\n"
     ]
    },
    {
     "name": "stderr",
     "output_type": "stream",
     "text": [
      "boundary (singular) fit: see ?isSingular\n",
      "\n",
      "boundary (singular) fit: see ?isSingular\n",
      "\n",
      "boundary (singular) fit: see ?isSingular\n",
      "\n",
      "boundary (singular) fit: see ?isSingular\n",
      "\n",
      "boundary (singular) fit: see ?isSingular\n",
      "\n",
      "boundary (singular) fit: see ?isSingular\n",
      "\n"
     ]
    },
    {
     "name": "stdout",
     "output_type": "stream",
     "text": [
      "Bootstrap Progress:\n"
     ]
    },
    {
     "name": "stderr",
     "output_type": "stream",
     "text": [
      "boundary (singular) fit: see ?isSingular\n",
      "\n",
      "boundary (singular) fit: see ?isSingular\n",
      "\n"
     ]
    },
    {
     "name": "stdout",
     "output_type": "stream",
     "text": [
      "Bootstrap Progress:\n"
     ]
    },
    {
     "name": "stderr",
     "output_type": "stream",
     "text": [
      "boundary (singular) fit: see ?isSingular\n",
      "\n",
      "boundary (singular) fit: see ?isSingular\n",
      "\n"
     ]
    },
    {
     "name": "stdout",
     "output_type": "stream",
     "text": [
      "Bootstrap Progress:\n",
      "Bootstrap Progress:\n",
      "Bootstrap Progress:\n",
      "Bootstrap Progress:\n",
      "Bootstrap Progress:\n",
      "Bootstrap Progress:\n",
      "Bootstrap Progress:\n",
      "Bootstrap Progress:\n",
      "Bootstrap Progress:\n",
      "Bootstrap Progress:\n",
      "Bootstrap Progress:\n",
      "Bootstrap Progress:\n",
      "Bootstrap Progress:\n",
      "Bootstrap Progress:\n",
      "Bootstrap Progress:\n",
      "Bootstrap Progress:\n",
      "Bootstrap Progress:\n",
      "Bootstrap Progress:\n",
      "Bootstrap Progress:\n",
      "Bootstrap Progress:\n",
      "Bootstrap Progress:\n",
      "Bootstrap Progress:\n",
      "Bootstrap Progress:\n",
      "Bootstrap Progress:\n",
      "Bootstrap Progress:\n",
      "Bootstrap Progress:\n",
      "Bootstrap Progress:\n",
      "Bootstrap Progress:\n",
      "Bootstrap Progress:\n",
      "Bootstrap Progress:\n",
      "Bootstrap Progress:\n",
      "Bootstrap Progress:\n",
      "Bootstrap Progress:\n",
      "Bootstrap Progress:\n",
      "Bootstrap Progress:\n",
      "Bootstrap Progress:\n",
      "Bootstrap Progress:\n",
      "Bootstrap Progress:\n",
      "Bootstrap Progress:\n",
      "Bootstrap Progress:\n",
      "Bootstrap Progress:\n",
      "Bootstrap Progress:\n",
      "Bootstrap Progress:\n",
      "Bootstrap Progress:\n",
      "Bootstrap Progress:\n",
      "Bootstrap Progress:\n",
      "Bootstrap Progress:\n",
      "Bootstrap Progress:\n",
      "Bootstrap Progress:\n",
      "Bootstrap Progress:\n",
      "Bootstrap Progress:\n",
      "Bootstrap Progress:\n",
      "Bootstrap Progress:\n",
      "Bootstrap Progress:\n"
     ]
    },
    {
     "name": "stderr",
     "output_type": "stream",
     "text": [
      "boundary (singular) fit: see ?isSingular\n",
      "\n"
     ]
    },
    {
     "name": "stdout",
     "output_type": "stream",
     "text": [
      "Bootstrap Progress:\n",
      "Bootstrap Progress:\n",
      "Bootstrap Progress:\n",
      "Bootstrap Progress:\n",
      "Bootstrap Progress:\n",
      "Bootstrap Progress:\n",
      "Bootstrap Progress:\n",
      "Bootstrap Progress:\n",
      "Bootstrap Progress:\n",
      "Bootstrap Progress:\n",
      "Bootstrap Progress:\n",
      "Bootstrap Progress:\n",
      "Bootstrap Progress:\n",
      "Bootstrap Progress:\n"
     ]
    },
    {
     "name": "stderr",
     "output_type": "stream",
     "text": [
      "boundary (singular) fit: see ?isSingular\n",
      "\n",
      "boundary (singular) fit: see ?isSingular\n",
      "\n",
      "boundary (singular) fit: see ?isSingular\n",
      "\n",
      "boundary (singular) fit: see ?isSingular\n",
      "\n",
      "boundary (singular) fit: see ?isSingular\n",
      "\n"
     ]
    },
    {
     "name": "stdout",
     "output_type": "stream",
     "text": [
      "Bootstrap Progress:\n",
      "Bootstrap Progress:\n",
      "Bootstrap Progress:\n",
      "Bootstrap Progress:\n",
      "Bootstrap Progress:\n",
      "Bootstrap Progress:\n",
      "Bootstrap Progress:\n",
      "Bootstrap Progress:\n",
      "Bootstrap Progress:\n",
      "Bootstrap Progress:\n",
      "Bootstrap Progress:\n",
      "Bootstrap Progress:\n",
      "Bootstrap Progress:\n",
      "Bootstrap Progress:\n",
      "Bootstrap Progress:\n",
      "Bootstrap Progress:\n",
      "Bootstrap Progress:\n",
      "Bootstrap Progress:\n",
      "Bootstrap Progress:\n",
      "Bootstrap Progress:\n"
     ]
    },
    {
     "name": "stderr",
     "output_type": "stream",
     "text": [
      "boundary (singular) fit: see ?isSingular\n",
      "\n",
      "boundary (singular) fit: see ?isSingular\n",
      "\n",
      "boundary (singular) fit: see ?isSingular\n",
      "\n"
     ]
    },
    {
     "name": "stdout",
     "output_type": "stream",
     "text": [
      "Bootstrap Progress:\n"
     ]
    },
    {
     "name": "stderr",
     "output_type": "stream",
     "text": [
      "boundary (singular) fit: see ?isSingular\n",
      "\n"
     ]
    },
    {
     "name": "stdout",
     "output_type": "stream",
     "text": [
      "Bootstrap Progress:\n",
      "Bootstrap Progress:\n"
     ]
    },
    {
     "name": "stderr",
     "output_type": "stream",
     "text": [
      "boundary (singular) fit: see ?isSingular\n",
      "\n",
      "boundary (singular) fit: see ?isSingular\n",
      "\n"
     ]
    },
    {
     "name": "stdout",
     "output_type": "stream",
     "text": [
      "Bootstrap Progress:\n"
     ]
    },
    {
     "name": "stderr",
     "output_type": "stream",
     "text": [
      "boundary (singular) fit: see ?isSingular\n",
      "\n",
      "boundary (singular) fit: see ?isSingular\n",
      "\n"
     ]
    },
    {
     "name": "stdout",
     "output_type": "stream",
     "text": [
      "Bootstrap Progress:\n",
      "Bootstrap Progress:\n",
      "Bootstrap Progress:\n"
     ]
    },
    {
     "name": "stderr",
     "output_type": "stream",
     "text": [
      "boundary (singular) fit: see ?isSingular\n",
      "\n",
      "boundary (singular) fit: see ?isSingular\n",
      "\n",
      "boundary (singular) fit: see ?isSingular\n",
      "\n",
      "boundary (singular) fit: see ?isSingular\n",
      "\n",
      "boundary (singular) fit: see ?isSingular\n",
      "\n"
     ]
    },
    {
     "name": "stdout",
     "output_type": "stream",
     "text": [
      "Bootstrap Progress:\n"
     ]
    },
    {
     "name": "stderr",
     "output_type": "stream",
     "text": [
      "boundary (singular) fit: see ?isSingular\n",
      "\n",
      "boundary (singular) fit: see ?isSingular\n",
      "\n",
      "boundary (singular) fit: see ?isSingular\n",
      "\n",
      "boundary (singular) fit: see ?isSingular\n",
      "\n",
      "boundary (singular) fit: see ?isSingular\n",
      "\n"
     ]
    },
    {
     "name": "stdout",
     "output_type": "stream",
     "text": [
      "Bootstrap Progress:\n",
      "Bootstrap Progress:\n",
      "Bootstrap Progress:\n"
     ]
    },
    {
     "name": "stderr",
     "output_type": "stream",
     "text": [
      "boundary (singular) fit: see ?isSingular\n",
      "\n"
     ]
    },
    {
     "name": "stdout",
     "output_type": "stream",
     "text": [
      "Bootstrap Progress:\n"
     ]
    },
    {
     "name": "stderr",
     "output_type": "stream",
     "text": [
      "boundary (singular) fit: see ?isSingular\n",
      "\n",
      "boundary (singular) fit: see ?isSingular\n",
      "\n",
      "boundary (singular) fit: see ?isSingular\n",
      "\n",
      "boundary (singular) fit: see ?isSingular\n",
      "\n",
      "boundary (singular) fit: see ?isSingular\n",
      "\n",
      "boundary (singular) fit: see ?isSingular\n",
      "\n"
     ]
    },
    {
     "name": "stdout",
     "output_type": "stream",
     "text": [
      "Bootstrap Progress:\n"
     ]
    },
    {
     "name": "stderr",
     "output_type": "stream",
     "text": [
      "boundary (singular) fit: see ?isSingular\n",
      "\n"
     ]
    },
    {
     "name": "stdout",
     "output_type": "stream",
     "text": [
      "Bootstrap Progress:\n"
     ]
    },
    {
     "name": "stderr",
     "output_type": "stream",
     "text": [
      "boundary (singular) fit: see ?isSingular\n",
      "\n",
      "boundary (singular) fit: see ?isSingular\n",
      "\n",
      "boundary (singular) fit: see ?isSingular\n",
      "\n"
     ]
    },
    {
     "name": "stdout",
     "output_type": "stream",
     "text": [
      "Bootstrap Progress:\n"
     ]
    },
    {
     "name": "stderr",
     "output_type": "stream",
     "text": [
      "boundary (singular) fit: see ?isSingular\n",
      "\n",
      "boundary (singular) fit: see ?isSingular\n",
      "\n",
      "boundary (singular) fit: see ?isSingular\n",
      "\n",
      "boundary (singular) fit: see ?isSingular\n",
      "\n",
      "boundary (singular) fit: see ?isSingular\n",
      "\n",
      "boundary (singular) fit: see ?isSingular\n",
      "\n",
      "boundary (singular) fit: see ?isSingular\n",
      "\n"
     ]
    },
    {
     "name": "stdout",
     "output_type": "stream",
     "text": [
      "Bootstrap Progress:\n"
     ]
    },
    {
     "name": "stderr",
     "output_type": "stream",
     "text": [
      "boundary (singular) fit: see ?isSingular\n",
      "\n",
      "boundary (singular) fit: see ?isSingular\n",
      "\n",
      "boundary (singular) fit: see ?isSingular\n",
      "\n",
      "boundary (singular) fit: see ?isSingular\n",
      "\n",
      "boundary (singular) fit: see ?isSingular\n",
      "\n",
      "boundary (singular) fit: see ?isSingular\n",
      "\n"
     ]
    },
    {
     "name": "stdout",
     "output_type": "stream",
     "text": [
      "Bootstrap Progress:\n",
      "Bootstrap Progress:\n"
     ]
    },
    {
     "name": "stderr",
     "output_type": "stream",
     "text": [
      "boundary (singular) fit: see ?isSingular\n",
      "\n"
     ]
    },
    {
     "name": "stdout",
     "output_type": "stream",
     "text": [
      "Bootstrap Progress:\n"
     ]
    },
    {
     "name": "stderr",
     "output_type": "stream",
     "text": [
      "boundary (singular) fit: see ?isSingular\n",
      "\n",
      "boundary (singular) fit: see ?isSingular\n",
      "\n",
      "boundary (singular) fit: see ?isSingular\n",
      "\n"
     ]
    },
    {
     "name": "stdout",
     "output_type": "stream",
     "text": [
      "Bootstrap Progress:\n"
     ]
    },
    {
     "name": "stderr",
     "output_type": "stream",
     "text": [
      "boundary (singular) fit: see ?isSingular\n",
      "\n",
      "boundary (singular) fit: see ?isSingular\n",
      "\n",
      "boundary (singular) fit: see ?isSingular\n",
      "\n",
      "boundary (singular) fit: see ?isSingular\n",
      "\n",
      "boundary (singular) fit: see ?isSingular\n",
      "\n",
      "boundary (singular) fit: see ?isSingular\n",
      "\n"
     ]
    },
    {
     "name": "stdout",
     "output_type": "stream",
     "text": [
      "Bootstrap Progress:\n"
     ]
    },
    {
     "name": "stderr",
     "output_type": "stream",
     "text": [
      "boundary (singular) fit: see ?isSingular\n",
      "\n"
     ]
    },
    {
     "name": "stdout",
     "output_type": "stream",
     "text": [
      "Bootstrap Progress:\n",
      "Bootstrap Progress:\n"
     ]
    },
    {
     "name": "stderr",
     "output_type": "stream",
     "text": [
      "boundary (singular) fit: see ?isSingular\n",
      "\n",
      "boundary (singular) fit: see ?isSingular\n",
      "\n",
      "boundary (singular) fit: see ?isSingular\n",
      "\n"
     ]
    },
    {
     "name": "stdout",
     "output_type": "stream",
     "text": [
      "Bootstrap Progress:\n"
     ]
    },
    {
     "name": "stderr",
     "output_type": "stream",
     "text": [
      "boundary (singular) fit: see ?isSingular\n",
      "\n",
      "boundary (singular) fit: see ?isSingular\n",
      "\n",
      "boundary (singular) fit: see ?isSingular\n",
      "\n",
      "boundary (singular) fit: see ?isSingular\n",
      "\n",
      "boundary (singular) fit: see ?isSingular\n",
      "\n"
     ]
    },
    {
     "name": "stdout",
     "output_type": "stream",
     "text": [
      "Bootstrap Progress:\n",
      "Bootstrap Progress:\n"
     ]
    },
    {
     "name": "stderr",
     "output_type": "stream",
     "text": [
      "boundary (singular) fit: see ?isSingular\n",
      "\n",
      "boundary (singular) fit: see ?isSingular\n",
      "\n",
      "boundary (singular) fit: see ?isSingular\n",
      "\n",
      "boundary (singular) fit: see ?isSingular\n",
      "\n"
     ]
    },
    {
     "name": "stdout",
     "output_type": "stream",
     "text": [
      "Bootstrap Progress:\n"
     ]
    },
    {
     "name": "stderr",
     "output_type": "stream",
     "text": [
      "boundary (singular) fit: see ?isSingular\n",
      "\n",
      "boundary (singular) fit: see ?isSingular\n",
      "\n",
      "boundary (singular) fit: see ?isSingular\n",
      "\n"
     ]
    },
    {
     "name": "stdout",
     "output_type": "stream",
     "text": [
      "Bootstrap Progress:\n"
     ]
    },
    {
     "name": "stderr",
     "output_type": "stream",
     "text": [
      "boundary (singular) fit: see ?isSingular\n",
      "\n",
      "boundary (singular) fit: see ?isSingular\n",
      "\n",
      "boundary (singular) fit: see ?isSingular\n",
      "\n",
      "boundary (singular) fit: see ?isSingular\n",
      "\n",
      "boundary (singular) fit: see ?isSingular\n",
      "\n",
      "boundary (singular) fit: see ?isSingular\n",
      "\n"
     ]
    },
    {
     "name": "stdout",
     "output_type": "stream",
     "text": [
      "Bootstrap Progress:\n"
     ]
    },
    {
     "name": "stderr",
     "output_type": "stream",
     "text": [
      "boundary (singular) fit: see ?isSingular\n",
      "\n"
     ]
    },
    {
     "name": "stdout",
     "output_type": "stream",
     "text": [
      "Bootstrap Progress:\n",
      "Bootstrap Progress:\n",
      "Bootstrap Progress:\n"
     ]
    },
    {
     "name": "stderr",
     "output_type": "stream",
     "text": [
      "boundary (singular) fit: see ?isSingular\n",
      "\n",
      "boundary (singular) fit: see ?isSingular\n",
      "\n"
     ]
    },
    {
     "name": "stdout",
     "output_type": "stream",
     "text": [
      "Bootstrap Progress:\n"
     ]
    },
    {
     "name": "stderr",
     "output_type": "stream",
     "text": [
      "boundary (singular) fit: see ?isSingular\n",
      "\n",
      "boundary (singular) fit: see ?isSingular\n",
      "\n",
      "boundary (singular) fit: see ?isSingular\n",
      "\n",
      "boundary (singular) fit: see ?isSingular\n",
      "\n"
     ]
    },
    {
     "name": "stdout",
     "output_type": "stream",
     "text": [
      "Bootstrap Progress:\n"
     ]
    },
    {
     "name": "stderr",
     "output_type": "stream",
     "text": [
      "boundary (singular) fit: see ?isSingular\n",
      "\n",
      "boundary (singular) fit: see ?isSingular\n",
      "\n",
      "boundary (singular) fit: see ?isSingular\n",
      "\n",
      "boundary (singular) fit: see ?isSingular\n",
      "\n",
      "boundary (singular) fit: see ?isSingular\n",
      "\n"
     ]
    },
    {
     "name": "stdout",
     "output_type": "stream",
     "text": [
      "Bootstrap Progress:\n",
      "Bootstrap Progress:\n"
     ]
    },
    {
     "name": "stderr",
     "output_type": "stream",
     "text": [
      "boundary (singular) fit: see ?isSingular\n",
      "\n"
     ]
    },
    {
     "name": "stdout",
     "output_type": "stream",
     "text": [
      "Bootstrap Progress:\n"
     ]
    },
    {
     "name": "stderr",
     "output_type": "stream",
     "text": [
      "boundary (singular) fit: see ?isSingular\n",
      "\n",
      "boundary (singular) fit: see ?isSingular\n",
      "\n",
      "boundary (singular) fit: see ?isSingular\n",
      "\n",
      "boundary (singular) fit: see ?isSingular\n",
      "\n",
      "boundary (singular) fit: see ?isSingular\n",
      "\n"
     ]
    },
    {
     "name": "stdout",
     "output_type": "stream",
     "text": [
      "Bootstrap Progress:\n"
     ]
    },
    {
     "name": "stderr",
     "output_type": "stream",
     "text": [
      "boundary (singular) fit: see ?isSingular\n",
      "\n",
      "boundary (singular) fit: see ?isSingular\n",
      "\n",
      "boundary (singular) fit: see ?isSingular\n",
      "\n"
     ]
    },
    {
     "name": "stdout",
     "output_type": "stream",
     "text": [
      "Bootstrap Progress:\n"
     ]
    },
    {
     "name": "stderr",
     "output_type": "stream",
     "text": [
      "boundary (singular) fit: see ?isSingular\n",
      "\n",
      "boundary (singular) fit: see ?isSingular\n",
      "\n"
     ]
    },
    {
     "name": "stdout",
     "output_type": "stream",
     "text": [
      "Bootstrap Progress:\n",
      "Bootstrap Progress:\n",
      "Bootstrap Progress:\n",
      "Bootstrap Progress:\n",
      "Bootstrap Progress:\n",
      "Bootstrap Progress:\n",
      "Bootstrap Progress:\n",
      "Bootstrap Progress:\n",
      "Bootstrap Progress:\n",
      "Bootstrap Progress:\n",
      "Bootstrap Progress:\n",
      "Bootstrap Progress:\n",
      "Bootstrap Progress:\n",
      "Bootstrap Progress:\n",
      "Bootstrap Progress:\n",
      "Bootstrap Progress:\n",
      "Bootstrap Progress:\n",
      "Bootstrap Progress:\n",
      "Bootstrap Progress:\n",
      "Bootstrap Progress:\n",
      "Bootstrap Progress:\n",
      "Bootstrap Progress:\n",
      "Bootstrap Progress:\n",
      "Bootstrap Progress:\n",
      "Bootstrap Progress:\n",
      "Bootstrap Progress:\n",
      "Bootstrap Progress:\n",
      "Bootstrap Progress:\n",
      "Bootstrap Progress:\n",
      "Bootstrap Progress:\n",
      "Bootstrap Progress:\n",
      "Bootstrap Progress:\n",
      "Bootstrap Progress:\n",
      "Bootstrap Progress:\n",
      "Bootstrap Progress:\n",
      "Bootstrap Progress:\n",
      "Bootstrap Progress:\n",
      "Bootstrap Progress:\n",
      "Bootstrap Progress:\n",
      "Bootstrap Progress:\n",
      "Bootstrap Progress:\n",
      "Bootstrap Progress:\n",
      "Bootstrap Progress:\n",
      "Bootstrap Progress:\n",
      "Bootstrap Progress:\n",
      "Bootstrap Progress:\n",
      "Bootstrap Progress:\n",
      "Bootstrap Progress:\n",
      "Bootstrap Progress:\n",
      "Bootstrap Progress:\n",
      "Bootstrap Progress:\n",
      "Bootstrap Progress:\n",
      "Bootstrap Progress:\n",
      "Bootstrap Progress:\n",
      "Bootstrap Progress:\n",
      "Bootstrap Progress:\n",
      "Bootstrap Progress:\n"
     ]
    },
    {
     "name": "stderr",
     "output_type": "stream",
     "text": [
      "boundary (singular) fit: see ?isSingular\n",
      "\n"
     ]
    },
    {
     "name": "stdout",
     "output_type": "stream",
     "text": [
      "Bootstrap Progress:\n",
      "Bootstrap Progress:\n",
      "Bootstrap Progress:\n"
     ]
    },
    {
     "name": "stderr",
     "output_type": "stream",
     "text": [
      "boundary (singular) fit: see ?isSingular\n",
      "\n"
     ]
    },
    {
     "name": "stdout",
     "output_type": "stream",
     "text": [
      "Bootstrap Progress:\n"
     ]
    },
    {
     "name": "stderr",
     "output_type": "stream",
     "text": [
      "boundary (singular) fit: see ?isSingular\n",
      "\n"
     ]
    },
    {
     "name": "stdout",
     "output_type": "stream",
     "text": [
      "Bootstrap Progress:\n",
      "Bootstrap Progress:\n",
      "Bootstrap Progress:\n",
      "Bootstrap Progress:\n"
     ]
    },
    {
     "name": "stderr",
     "output_type": "stream",
     "text": [
      "boundary (singular) fit: see ?isSingular\n",
      "\n"
     ]
    },
    {
     "name": "stdout",
     "output_type": "stream",
     "text": [
      "Bootstrap Progress:\n",
      "Bootstrap Progress:\n",
      "Bootstrap Progress:\n",
      "Bootstrap Progress:\n",
      "Bootstrap Progress:\n"
     ]
    },
    {
     "name": "stderr",
     "output_type": "stream",
     "text": [
      "boundary (singular) fit: see ?isSingular\n",
      "\n"
     ]
    },
    {
     "name": "stdout",
     "output_type": "stream",
     "text": [
      "Bootstrap Progress:\n",
      "Bootstrap Progress:\n"
     ]
    },
    {
     "name": "stderr",
     "output_type": "stream",
     "text": [
      "boundary (singular) fit: see ?isSingular\n",
      "\n"
     ]
    },
    {
     "name": "stdout",
     "output_type": "stream",
     "text": [
      "Bootstrap Progress:\n",
      "Bootstrap Progress:\n",
      "Bootstrap Progress:\n",
      "Bootstrap Progress:\n",
      "Bootstrap Progress:\n",
      "Bootstrap Progress:\n",
      "Bootstrap Progress:\n",
      "Bootstrap Progress:\n"
     ]
    },
    {
     "name": "stderr",
     "output_type": "stream",
     "text": [
      "boundary (singular) fit: see ?isSingular\n",
      "\n",
      "boundary (singular) fit: see ?isSingular\n",
      "\n"
     ]
    },
    {
     "name": "stdout",
     "output_type": "stream",
     "text": [
      "Bootstrap Progress:\n",
      "Bootstrap Progress:\n",
      "Bootstrap Progress:\n",
      "Bootstrap Progress:\n",
      "Bootstrap Progress:\n",
      "Bootstrap Progress:\n",
      "Bootstrap Progress:\n",
      "Bootstrap Progress:\n"
     ]
    },
    {
     "name": "stderr",
     "output_type": "stream",
     "text": [
      "boundary (singular) fit: see ?isSingular\n",
      "\n"
     ]
    },
    {
     "name": "stdout",
     "output_type": "stream",
     "text": [
      "Bootstrap Progress:\n",
      "Bootstrap Progress:\n"
     ]
    },
    {
     "name": "stderr",
     "output_type": "stream",
     "text": [
      "boundary (singular) fit: see ?isSingular\n",
      "\n",
      "boundary (singular) fit: see ?isSingular\n",
      "\n"
     ]
    },
    {
     "name": "stdout",
     "output_type": "stream",
     "text": [
      "Bootstrap Progress:\n",
      "Bootstrap Progress:\n",
      "Bootstrap Progress:\n"
     ]
    },
    {
     "name": "stderr",
     "output_type": "stream",
     "text": [
      "boundary (singular) fit: see ?isSingular\n",
      "\n",
      "boundary (singular) fit: see ?isSingular\n",
      "\n",
      "boundary (singular) fit: see ?isSingular\n",
      "\n",
      "boundary (singular) fit: see ?isSingular\n",
      "\n",
      "boundary (singular) fit: see ?isSingular\n",
      "\n"
     ]
    },
    {
     "name": "stdout",
     "output_type": "stream",
     "text": [
      "Bootstrap Progress:\n",
      "Bootstrap Progress:\n",
      "Bootstrap Progress:\n"
     ]
    },
    {
     "name": "stderr",
     "output_type": "stream",
     "text": [
      "boundary (singular) fit: see ?isSingular\n",
      "\n",
      "boundary (singular) fit: see ?isSingular\n",
      "\n"
     ]
    },
    {
     "name": "stdout",
     "output_type": "stream",
     "text": [
      "Bootstrap Progress:\n"
     ]
    },
    {
     "name": "stderr",
     "output_type": "stream",
     "text": [
      "boundary (singular) fit: see ?isSingular\n",
      "\n",
      "boundary (singular) fit: see ?isSingular\n",
      "\n",
      "boundary (singular) fit: see ?isSingular\n",
      "\n"
     ]
    },
    {
     "name": "stdout",
     "output_type": "stream",
     "text": [
      "Bootstrap Progress:\n"
     ]
    },
    {
     "name": "stderr",
     "output_type": "stream",
     "text": [
      "boundary (singular) fit: see ?isSingular\n",
      "\n"
     ]
    },
    {
     "name": "stdout",
     "output_type": "stream",
     "text": [
      "Bootstrap Progress:\n"
     ]
    },
    {
     "name": "stderr",
     "output_type": "stream",
     "text": [
      "boundary (singular) fit: see ?isSingular\n",
      "\n",
      "boundary (singular) fit: see ?isSingular\n",
      "\n",
      "boundary (singular) fit: see ?isSingular\n",
      "\n"
     ]
    },
    {
     "name": "stdout",
     "output_type": "stream",
     "text": [
      "Bootstrap Progress:\n"
     ]
    },
    {
     "name": "stderr",
     "output_type": "stream",
     "text": [
      "boundary (singular) fit: see ?isSingular\n",
      "\n",
      "boundary (singular) fit: see ?isSingular\n",
      "\n",
      "boundary (singular) fit: see ?isSingular\n",
      "\n",
      "boundary (singular) fit: see ?isSingular\n",
      "\n",
      "boundary (singular) fit: see ?isSingular\n",
      "\n"
     ]
    },
    {
     "name": "stdout",
     "output_type": "stream",
     "text": [
      "Bootstrap Progress:\n"
     ]
    },
    {
     "name": "stderr",
     "output_type": "stream",
     "text": [
      "boundary (singular) fit: see ?isSingular\n",
      "\n",
      "boundary (singular) fit: see ?isSingular\n",
      "\n",
      "boundary (singular) fit: see ?isSingular\n",
      "\n"
     ]
    },
    {
     "name": "stdout",
     "output_type": "stream",
     "text": [
      "Bootstrap Progress:\n"
     ]
    },
    {
     "name": "stderr",
     "output_type": "stream",
     "text": [
      "boundary (singular) fit: see ?isSingular\n",
      "\n",
      "boundary (singular) fit: see ?isSingular\n",
      "\n",
      "boundary (singular) fit: see ?isSingular\n",
      "\n",
      "boundary (singular) fit: see ?isSingular\n",
      "\n"
     ]
    },
    {
     "name": "stdout",
     "output_type": "stream",
     "text": [
      "Bootstrap Progress:\n"
     ]
    },
    {
     "name": "stderr",
     "output_type": "stream",
     "text": [
      "boundary (singular) fit: see ?isSingular\n",
      "\n",
      "boundary (singular) fit: see ?isSingular\n",
      "\n",
      "boundary (singular) fit: see ?isSingular\n",
      "\n",
      "boundary (singular) fit: see ?isSingular\n",
      "\n"
     ]
    },
    {
     "name": "stdout",
     "output_type": "stream",
     "text": [
      "Bootstrap Progress:\n"
     ]
    },
    {
     "name": "stderr",
     "output_type": "stream",
     "text": [
      "boundary (singular) fit: see ?isSingular\n",
      "\n",
      "boundary (singular) fit: see ?isSingular\n",
      "\n",
      "boundary (singular) fit: see ?isSingular\n",
      "\n"
     ]
    },
    {
     "name": "stdout",
     "output_type": "stream",
     "text": [
      "Bootstrap Progress:\n"
     ]
    },
    {
     "name": "stderr",
     "output_type": "stream",
     "text": [
      "boundary (singular) fit: see ?isSingular\n",
      "\n",
      "boundary (singular) fit: see ?isSingular\n",
      "\n"
     ]
    },
    {
     "name": "stdout",
     "output_type": "stream",
     "text": [
      "Bootstrap Progress:\n"
     ]
    },
    {
     "name": "stderr",
     "output_type": "stream",
     "text": [
      "boundary (singular) fit: see ?isSingular\n",
      "\n",
      "boundary (singular) fit: see ?isSingular\n",
      "\n",
      "boundary (singular) fit: see ?isSingular\n",
      "\n",
      "boundary (singular) fit: see ?isSingular\n",
      "\n",
      "boundary (singular) fit: see ?isSingular\n",
      "\n"
     ]
    },
    {
     "name": "stdout",
     "output_type": "stream",
     "text": [
      "Bootstrap Progress:\n"
     ]
    },
    {
     "name": "stderr",
     "output_type": "stream",
     "text": [
      "boundary (singular) fit: see ?isSingular\n",
      "\n",
      "boundary (singular) fit: see ?isSingular\n",
      "\n",
      "boundary (singular) fit: see ?isSingular\n",
      "\n",
      "boundary (singular) fit: see ?isSingular\n",
      "\n",
      "boundary (singular) fit: see ?isSingular\n",
      "\n",
      "boundary (singular) fit: see ?isSingular\n",
      "\n",
      "boundary (singular) fit: see ?isSingular\n",
      "\n",
      "boundary (singular) fit: see ?isSingular\n",
      "\n",
      "boundary (singular) fit: see ?isSingular\n",
      "\n"
     ]
    },
    {
     "name": "stdout",
     "output_type": "stream",
     "text": [
      "Bootstrap Progress:\n"
     ]
    },
    {
     "name": "stderr",
     "output_type": "stream",
     "text": [
      "boundary (singular) fit: see ?isSingular\n",
      "\n",
      "boundary (singular) fit: see ?isSingular\n",
      "\n",
      "boundary (singular) fit: see ?isSingular\n",
      "\n",
      "boundary (singular) fit: see ?isSingular\n",
      "\n",
      "boundary (singular) fit: see ?isSingular\n",
      "\n",
      "boundary (singular) fit: see ?isSingular\n",
      "\n"
     ]
    },
    {
     "name": "stdout",
     "output_type": "stream",
     "text": [
      "Bootstrap Progress:\n"
     ]
    },
    {
     "name": "stderr",
     "output_type": "stream",
     "text": [
      "boundary (singular) fit: see ?isSingular\n",
      "\n"
     ]
    },
    {
     "name": "stdout",
     "output_type": "stream",
     "text": [
      "Bootstrap Progress:\n"
     ]
    },
    {
     "name": "stderr",
     "output_type": "stream",
     "text": [
      "boundary (singular) fit: see ?isSingular\n",
      "\n",
      "boundary (singular) fit: see ?isSingular\n",
      "\n"
     ]
    },
    {
     "name": "stdout",
     "output_type": "stream",
     "text": [
      "Bootstrap Progress:\n"
     ]
    },
    {
     "name": "stderr",
     "output_type": "stream",
     "text": [
      "boundary (singular) fit: see ?isSingular\n",
      "\n",
      "boundary (singular) fit: see ?isSingular\n",
      "\n",
      "boundary (singular) fit: see ?isSingular\n",
      "\n",
      "boundary (singular) fit: see ?isSingular\n",
      "\n"
     ]
    },
    {
     "name": "stdout",
     "output_type": "stream",
     "text": [
      "Bootstrap Progress:\n"
     ]
    },
    {
     "name": "stderr",
     "output_type": "stream",
     "text": [
      "boundary (singular) fit: see ?isSingular\n",
      "\n",
      "boundary (singular) fit: see ?isSingular\n",
      "\n",
      "boundary (singular) fit: see ?isSingular\n",
      "\n"
     ]
    },
    {
     "name": "stdout",
     "output_type": "stream",
     "text": [
      "Bootstrap Progress:\n",
      "Bootstrap Progress:\n",
      "Bootstrap Progress:\n"
     ]
    },
    {
     "name": "stderr",
     "output_type": "stream",
     "text": [
      "boundary (singular) fit: see ?isSingular\n",
      "\n"
     ]
    },
    {
     "name": "stdout",
     "output_type": "stream",
     "text": [
      "Bootstrap Progress:\n"
     ]
    },
    {
     "name": "stderr",
     "output_type": "stream",
     "text": [
      "boundary (singular) fit: see ?isSingular\n",
      "\n",
      "boundary (singular) fit: see ?isSingular\n",
      "\n",
      "boundary (singular) fit: see ?isSingular\n",
      "\n",
      "boundary (singular) fit: see ?isSingular\n",
      "\n",
      "boundary (singular) fit: see ?isSingular\n",
      "\n",
      "boundary (singular) fit: see ?isSingular\n",
      "\n"
     ]
    },
    {
     "name": "stdout",
     "output_type": "stream",
     "text": [
      "Bootstrap Progress:\n",
      "Bootstrap Progress:\n"
     ]
    },
    {
     "name": "stderr",
     "output_type": "stream",
     "text": [
      "boundary (singular) fit: see ?isSingular\n",
      "\n",
      "boundary (singular) fit: see ?isSingular\n",
      "\n"
     ]
    },
    {
     "name": "stdout",
     "output_type": "stream",
     "text": [
      "Bootstrap Progress:\n"
     ]
    },
    {
     "name": "stderr",
     "output_type": "stream",
     "text": [
      "boundary (singular) fit: see ?isSingular\n",
      "\n",
      "boundary (singular) fit: see ?isSingular\n",
      "\n"
     ]
    },
    {
     "name": "stdout",
     "output_type": "stream",
     "text": [
      "Bootstrap Progress:\n"
     ]
    },
    {
     "name": "stderr",
     "output_type": "stream",
     "text": [
      "boundary (singular) fit: see ?isSingular\n",
      "\n",
      "boundary (singular) fit: see ?isSingular\n",
      "\n",
      "boundary (singular) fit: see ?isSingular\n",
      "\n",
      "boundary (singular) fit: see ?isSingular\n",
      "\n",
      "boundary (singular) fit: see ?isSingular\n",
      "\n"
     ]
    },
    {
     "name": "stdout",
     "output_type": "stream",
     "text": [
      "Bootstrap Progress:\n"
     ]
    },
    {
     "name": "stderr",
     "output_type": "stream",
     "text": [
      "boundary (singular) fit: see ?isSingular\n",
      "\n"
     ]
    },
    {
     "name": "stdout",
     "output_type": "stream",
     "text": [
      "Bootstrap Progress:\n",
      "Bootstrap Progress:\n"
     ]
    },
    {
     "name": "stderr",
     "output_type": "stream",
     "text": [
      "boundary (singular) fit: see ?isSingular\n",
      "\n",
      "boundary (singular) fit: see ?isSingular\n",
      "\n",
      "boundary (singular) fit: see ?isSingular\n",
      "\n"
     ]
    },
    {
     "name": "stdout",
     "output_type": "stream",
     "text": [
      "Bootstrap Progress:\n"
     ]
    },
    {
     "name": "stderr",
     "output_type": "stream",
     "text": [
      "boundary (singular) fit: see ?isSingular\n",
      "\n",
      "boundary (singular) fit: see ?isSingular\n",
      "\n",
      "boundary (singular) fit: see ?isSingular\n",
      "\n"
     ]
    },
    {
     "name": "stdout",
     "output_type": "stream",
     "text": [
      "Bootstrap Progress:\n",
      "Bootstrap Progress:\n"
     ]
    },
    {
     "name": "stderr",
     "output_type": "stream",
     "text": [
      "boundary (singular) fit: see ?isSingular\n",
      "\n"
     ]
    },
    {
     "name": "stdout",
     "output_type": "stream",
     "text": [
      "Bootstrap Progress:\n"
     ]
    },
    {
     "name": "stderr",
     "output_type": "stream",
     "text": [
      "boundary (singular) fit: see ?isSingular\n",
      "\n"
     ]
    },
    {
     "name": "stdout",
     "output_type": "stream",
     "text": [
      "Bootstrap Progress:\n"
     ]
    },
    {
     "name": "stderr",
     "output_type": "stream",
     "text": [
      "boundary (singular) fit: see ?isSingular\n",
      "\n",
      "boundary (singular) fit: see ?isSingular\n",
      "\n"
     ]
    },
    {
     "name": "stdout",
     "output_type": "stream",
     "text": [
      "Bootstrap Progress:\n"
     ]
    },
    {
     "name": "stderr",
     "output_type": "stream",
     "text": [
      "boundary (singular) fit: see ?isSingular\n",
      "\n"
     ]
    },
    {
     "name": "stdout",
     "output_type": "stream",
     "text": [
      "Bootstrap Progress:\n",
      "Bootstrap Progress:\n",
      "Bootstrap Progress:\n",
      "Bootstrap Progress:\n",
      "Bootstrap Progress:\n",
      "Bootstrap Progress:\n",
      "Bootstrap Progress:\n",
      "Bootstrap Progress:\n",
      "Bootstrap Progress:\n",
      "Bootstrap Progress:\n",
      "Bootstrap Progress:\n",
      "Bootstrap Progress:\n",
      "Bootstrap Progress:\n",
      "Bootstrap Progress:\n",
      "Bootstrap Progress:\n",
      "Bootstrap Progress:\n",
      "Bootstrap Progress:\n",
      "Bootstrap Progress:\n",
      "Bootstrap Progress:\n",
      "Bootstrap Progress:\n",
      "Bootstrap Progress:\n",
      "Bootstrap Progress:\n",
      "Bootstrap Progress:\n",
      "Bootstrap Progress:\n",
      "Bootstrap Progress:\n",
      "Bootstrap Progress:\n",
      "Bootstrap Progress:\n",
      "Bootstrap Progress:\n",
      "Bootstrap Progress:\n",
      "Bootstrap Progress:\n",
      "Bootstrap Progress:\n",
      "Bootstrap Progress:\n",
      "Bootstrap Progress:\n",
      "Bootstrap Progress:\n",
      "Bootstrap Progress:\n",
      "Bootstrap Progress:\n",
      "Bootstrap Progress:\n",
      "Bootstrap Progress:\n",
      "Bootstrap Progress:\n",
      "Bootstrap Progress:\n",
      "Bootstrap Progress:\n",
      "Bootstrap Progress:\n"
     ]
    },
    {
     "name": "stderr",
     "output_type": "stream",
     "text": [
      "boundary (singular) fit: see ?isSingular\n",
      "\n"
     ]
    },
    {
     "name": "stdout",
     "output_type": "stream",
     "text": [
      "Bootstrap Progress:\n",
      "Bootstrap Progress:\n",
      "Bootstrap Progress:\n",
      "Bootstrap Progress:\n",
      "Bootstrap Progress:\n",
      "Bootstrap Progress:\n",
      "Bootstrap Progress:\n",
      "Bootstrap Progress:\n",
      "Bootstrap Progress:\n",
      "Bootstrap Progress:\n",
      "Bootstrap Progress:\n",
      "Bootstrap Progress:\n",
      "Bootstrap Progress:\n",
      "Bootstrap Progress:\n",
      "Bootstrap Progress:\n",
      "Bootstrap Progress:\n",
      "Bootstrap Progress:\n",
      "Bootstrap Progress:\n"
     ]
    },
    {
     "name": "stderr",
     "output_type": "stream",
     "text": [
      "boundary (singular) fit: see ?isSingular\n",
      "\n",
      "boundary (singular) fit: see ?isSingular\n",
      "\n",
      "boundary (singular) fit: see ?isSingular\n",
      "\n",
      "boundary (singular) fit: see ?isSingular\n",
      "\n"
     ]
    },
    {
     "name": "stdout",
     "output_type": "stream",
     "text": [
      "Bootstrap Progress:\n",
      "Bootstrap Progress:\n",
      "Bootstrap Progress:\n",
      "Bootstrap Progress:\n",
      "Bootstrap Progress:\n",
      "Bootstrap Progress:\n",
      "Bootstrap Progress:\n",
      "Bootstrap Progress:\n",
      "Bootstrap Progress:\n",
      "Bootstrap Progress:\n",
      "Bootstrap Progress:\n",
      "Bootstrap Progress:\n",
      "Bootstrap Progress:\n"
     ]
    },
    {
     "name": "stderr",
     "output_type": "stream",
     "text": [
      "boundary (singular) fit: see ?isSingular\n",
      "\n"
     ]
    },
    {
     "name": "stdout",
     "output_type": "stream",
     "text": [
      "Bootstrap Progress:\n",
      "Bootstrap Progress:\n",
      "Bootstrap Progress:\n",
      "Bootstrap Progress:\n",
      "Bootstrap Progress:\n",
      "Bootstrap Progress:\n",
      "Bootstrap Progress:\n",
      "Bootstrap Progress:\n"
     ]
    },
    {
     "name": "stderr",
     "output_type": "stream",
     "text": [
      "boundary (singular) fit: see ?isSingular\n",
      "\n"
     ]
    },
    {
     "name": "stdout",
     "output_type": "stream",
     "text": [
      "Bootstrap Progress:\n",
      "Bootstrap Progress:\n",
      "Bootstrap Progress:\n",
      "Bootstrap Progress:\n"
     ]
    },
    {
     "name": "stderr",
     "output_type": "stream",
     "text": [
      "boundary (singular) fit: see ?isSingular\n",
      "\n",
      "boundary (singular) fit: see ?isSingular\n",
      "\n"
     ]
    },
    {
     "name": "stdout",
     "output_type": "stream",
     "text": [
      "Bootstrap Progress:\n"
     ]
    },
    {
     "name": "stderr",
     "output_type": "stream",
     "text": [
      "boundary (singular) fit: see ?isSingular\n",
      "\n"
     ]
    },
    {
     "name": "stdout",
     "output_type": "stream",
     "text": [
      "Bootstrap Progress:\n",
      "Bootstrap Progress:\n"
     ]
    },
    {
     "name": "stderr",
     "output_type": "stream",
     "text": [
      "boundary (singular) fit: see ?isSingular\n",
      "\n",
      "boundary (singular) fit: see ?isSingular\n",
      "\n",
      "boundary (singular) fit: see ?isSingular\n",
      "\n"
     ]
    },
    {
     "name": "stdout",
     "output_type": "stream",
     "text": [
      "Bootstrap Progress:\n",
      "Bootstrap Progress:\n"
     ]
    },
    {
     "name": "stderr",
     "output_type": "stream",
     "text": [
      "boundary (singular) fit: see ?isSingular\n",
      "\n"
     ]
    },
    {
     "name": "stdout",
     "output_type": "stream",
     "text": [
      "Bootstrap Progress:\n",
      "Bootstrap Progress:\n"
     ]
    },
    {
     "name": "stderr",
     "output_type": "stream",
     "text": [
      "boundary (singular) fit: see ?isSingular\n",
      "\n",
      "boundary (singular) fit: see ?isSingular\n",
      "\n"
     ]
    },
    {
     "name": "stdout",
     "output_type": "stream",
     "text": [
      "Bootstrap Progress:\n"
     ]
    },
    {
     "name": "stderr",
     "output_type": "stream",
     "text": [
      "boundary (singular) fit: see ?isSingular\n",
      "\n",
      "boundary (singular) fit: see ?isSingular\n",
      "\n",
      "boundary (singular) fit: see ?isSingular\n",
      "\n"
     ]
    },
    {
     "name": "stdout",
     "output_type": "stream",
     "text": [
      "Bootstrap Progress:\n"
     ]
    },
    {
     "name": "stderr",
     "output_type": "stream",
     "text": [
      "boundary (singular) fit: see ?isSingular\n",
      "\n",
      "boundary (singular) fit: see ?isSingular\n",
      "\n",
      "boundary (singular) fit: see ?isSingular\n",
      "\n"
     ]
    },
    {
     "name": "stdout",
     "output_type": "stream",
     "text": [
      "Bootstrap Progress:\n"
     ]
    },
    {
     "name": "stderr",
     "output_type": "stream",
     "text": [
      "boundary (singular) fit: see ?isSingular\n",
      "\n",
      "boundary (singular) fit: see ?isSingular\n",
      "\n",
      "boundary (singular) fit: see ?isSingular\n",
      "\n",
      "boundary (singular) fit: see ?isSingular\n",
      "\n",
      "boundary (singular) fit: see ?isSingular\n",
      "\n",
      "boundary (singular) fit: see ?isSingular\n",
      "\n",
      "boundary (singular) fit: see ?isSingular\n",
      "\n",
      "boundary (singular) fit: see ?isSingular\n",
      "\n"
     ]
    },
    {
     "name": "stdout",
     "output_type": "stream",
     "text": [
      "Bootstrap Progress:\n"
     ]
    },
    {
     "name": "stderr",
     "output_type": "stream",
     "text": [
      "boundary (singular) fit: see ?isSingular\n",
      "\n",
      "boundary (singular) fit: see ?isSingular\n",
      "\n",
      "boundary (singular) fit: see ?isSingular\n",
      "\n",
      "boundary (singular) fit: see ?isSingular\n",
      "\n",
      "boundary (singular) fit: see ?isSingular\n",
      "\n",
      "boundary (singular) fit: see ?isSingular\n",
      "\n",
      "boundary (singular) fit: see ?isSingular\n",
      "\n"
     ]
    },
    {
     "name": "stdout",
     "output_type": "stream",
     "text": [
      "Bootstrap Progress:\n"
     ]
    },
    {
     "name": "stderr",
     "output_type": "stream",
     "text": [
      "boundary (singular) fit: see ?isSingular\n",
      "\n",
      "boundary (singular) fit: see ?isSingular\n",
      "\n"
     ]
    },
    {
     "name": "stdout",
     "output_type": "stream",
     "text": [
      "Bootstrap Progress:\n"
     ]
    },
    {
     "name": "stderr",
     "output_type": "stream",
     "text": [
      "boundary (singular) fit: see ?isSingular\n",
      "\n",
      "boundary (singular) fit: see ?isSingular\n",
      "\n",
      "boundary (singular) fit: see ?isSingular\n",
      "\n"
     ]
    },
    {
     "name": "stdout",
     "output_type": "stream",
     "text": [
      "Bootstrap Progress:\n"
     ]
    },
    {
     "name": "stderr",
     "output_type": "stream",
     "text": [
      "boundary (singular) fit: see ?isSingular\n",
      "\n",
      "boundary (singular) fit: see ?isSingular\n",
      "\n",
      "boundary (singular) fit: see ?isSingular\n",
      "\n"
     ]
    },
    {
     "name": "stdout",
     "output_type": "stream",
     "text": [
      "Bootstrap Progress:\n"
     ]
    },
    {
     "name": "stderr",
     "output_type": "stream",
     "text": [
      "boundary (singular) fit: see ?isSingular\n",
      "\n",
      "boundary (singular) fit: see ?isSingular\n",
      "\n",
      "boundary (singular) fit: see ?isSingular\n",
      "\n",
      "boundary (singular) fit: see ?isSingular\n",
      "\n"
     ]
    },
    {
     "name": "stdout",
     "output_type": "stream",
     "text": [
      "Bootstrap Progress:\n"
     ]
    },
    {
     "name": "stderr",
     "output_type": "stream",
     "text": [
      "boundary (singular) fit: see ?isSingular\n",
      "\n",
      "boundary (singular) fit: see ?isSingular\n",
      "\n"
     ]
    },
    {
     "name": "stdout",
     "output_type": "stream",
     "text": [
      "Bootstrap Progress:\n"
     ]
    },
    {
     "name": "stderr",
     "output_type": "stream",
     "text": [
      "boundary (singular) fit: see ?isSingular\n",
      "\n",
      "boundary (singular) fit: see ?isSingular\n",
      "\n",
      "boundary (singular) fit: see ?isSingular\n",
      "\n",
      "boundary (singular) fit: see ?isSingular\n",
      "\n",
      "boundary (singular) fit: see ?isSingular\n",
      "\n"
     ]
    },
    {
     "name": "stdout",
     "output_type": "stream",
     "text": [
      "Bootstrap Progress:\n",
      "Bootstrap Progress:\n"
     ]
    },
    {
     "name": "stderr",
     "output_type": "stream",
     "text": [
      "boundary (singular) fit: see ?isSingular\n",
      "\n",
      "boundary (singular) fit: see ?isSingular\n",
      "\n",
      "boundary (singular) fit: see ?isSingular\n",
      "\n",
      "boundary (singular) fit: see ?isSingular\n",
      "\n"
     ]
    },
    {
     "name": "stdout",
     "output_type": "stream",
     "text": [
      "Bootstrap Progress:\n"
     ]
    },
    {
     "name": "stderr",
     "output_type": "stream",
     "text": [
      "boundary (singular) fit: see ?isSingular\n",
      "\n",
      "boundary (singular) fit: see ?isSingular\n",
      "\n",
      "boundary (singular) fit: see ?isSingular\n",
      "\n",
      "boundary (singular) fit: see ?isSingular\n",
      "\n",
      "boundary (singular) fit: see ?isSingular\n",
      "\n"
     ]
    },
    {
     "name": "stdout",
     "output_type": "stream",
     "text": [
      "Bootstrap Progress:\n"
     ]
    },
    {
     "name": "stderr",
     "output_type": "stream",
     "text": [
      "boundary (singular) fit: see ?isSingular\n",
      "\n",
      "boundary (singular) fit: see ?isSingular\n",
      "\n"
     ]
    },
    {
     "name": "stdout",
     "output_type": "stream",
     "text": [
      "Bootstrap Progress:\n"
     ]
    },
    {
     "name": "stderr",
     "output_type": "stream",
     "text": [
      "boundary (singular) fit: see ?isSingular\n",
      "\n",
      "boundary (singular) fit: see ?isSingular\n",
      "\n"
     ]
    },
    {
     "name": "stdout",
     "output_type": "stream",
     "text": [
      "Bootstrap Progress:\n"
     ]
    },
    {
     "name": "stderr",
     "output_type": "stream",
     "text": [
      "boundary (singular) fit: see ?isSingular\n",
      "\n"
     ]
    },
    {
     "name": "stdout",
     "output_type": "stream",
     "text": [
      "Bootstrap Progress:\n"
     ]
    },
    {
     "name": "stderr",
     "output_type": "stream",
     "text": [
      "boundary (singular) fit: see ?isSingular\n",
      "\n",
      "boundary (singular) fit: see ?isSingular\n",
      "\n",
      "boundary (singular) fit: see ?isSingular\n",
      "\n"
     ]
    },
    {
     "name": "stdout",
     "output_type": "stream",
     "text": [
      "Bootstrap Progress:\n"
     ]
    },
    {
     "name": "stderr",
     "output_type": "stream",
     "text": [
      "boundary (singular) fit: see ?isSingular\n",
      "\n",
      "boundary (singular) fit: see ?isSingular\n",
      "\n",
      "boundary (singular) fit: see ?isSingular\n",
      "\n",
      "boundary (singular) fit: see ?isSingular\n",
      "\n",
      "boundary (singular) fit: see ?isSingular\n",
      "\n",
      "boundary (singular) fit: see ?isSingular\n",
      "\n",
      "boundary (singular) fit: see ?isSingular\n",
      "\n",
      "boundary (singular) fit: see ?isSingular\n",
      "\n"
     ]
    },
    {
     "name": "stdout",
     "output_type": "stream",
     "text": [
      "Bootstrap Progress:\n",
      "Bootstrap Progress:\n"
     ]
    },
    {
     "name": "stderr",
     "output_type": "stream",
     "text": [
      "boundary (singular) fit: see ?isSingular\n",
      "\n",
      "boundary (singular) fit: see ?isSingular\n",
      "\n",
      "boundary (singular) fit: see ?isSingular\n",
      "\n"
     ]
    },
    {
     "name": "stdout",
     "output_type": "stream",
     "text": [
      "Bootstrap Progress:\n",
      "Bootstrap Progress:\n"
     ]
    },
    {
     "name": "stderr",
     "output_type": "stream",
     "text": [
      "boundary (singular) fit: see ?isSingular\n",
      "\n",
      "boundary (singular) fit: see ?isSingular\n",
      "\n",
      "boundary (singular) fit: see ?isSingular\n",
      "\n"
     ]
    },
    {
     "name": "stdout",
     "output_type": "stream",
     "text": [
      "Bootstrap Progress:\n"
     ]
    },
    {
     "name": "stderr",
     "output_type": "stream",
     "text": [
      "boundary (singular) fit: see ?isSingular\n",
      "\n"
     ]
    },
    {
     "name": "stdout",
     "output_type": "stream",
     "text": [
      "Bootstrap Progress:\n"
     ]
    },
    {
     "name": "stderr",
     "output_type": "stream",
     "text": [
      "boundary (singular) fit: see ?isSingular\n",
      "\n"
     ]
    },
    {
     "name": "stdout",
     "output_type": "stream",
     "text": [
      "Bootstrap Progress:\n"
     ]
    },
    {
     "name": "stderr",
     "output_type": "stream",
     "text": [
      "boundary (singular) fit: see ?isSingular\n",
      "\n"
     ]
    },
    {
     "name": "stdout",
     "output_type": "stream",
     "text": [
      "Bootstrap Progress:\n"
     ]
    },
    {
     "name": "stderr",
     "output_type": "stream",
     "text": [
      "boundary (singular) fit: see ?isSingular\n",
      "\n",
      "boundary (singular) fit: see ?isSingular\n",
      "\n",
      "boundary (singular) fit: see ?isSingular\n",
      "\n",
      "boundary (singular) fit: see ?isSingular\n",
      "\n",
      "boundary (singular) fit: see ?isSingular\n",
      "\n"
     ]
    },
    {
     "name": "stdout",
     "output_type": "stream",
     "text": [
      "Bootstrap Progress:\n"
     ]
    },
    {
     "name": "stderr",
     "output_type": "stream",
     "text": [
      "boundary (singular) fit: see ?isSingular\n",
      "\n"
     ]
    },
    {
     "name": "stdout",
     "output_type": "stream",
     "text": [
      "Bootstrap Progress:\n",
      "Bootstrap Progress:\n",
      "Bootstrap Progress:\n"
     ]
    },
    {
     "name": "stderr",
     "output_type": "stream",
     "text": [
      "boundary (singular) fit: see ?isSingular\n",
      "\n",
      "boundary (singular) fit: see ?isSingular\n",
      "\n",
      "boundary (singular) fit: see ?isSingular\n",
      "\n"
     ]
    },
    {
     "name": "stdout",
     "output_type": "stream",
     "text": [
      "Bootstrap Progress:\n"
     ]
    },
    {
     "name": "stderr",
     "output_type": "stream",
     "text": [
      "boundary (singular) fit: see ?isSingular\n",
      "\n",
      "boundary (singular) fit: see ?isSingular\n",
      "\n"
     ]
    },
    {
     "name": "stdout",
     "output_type": "stream",
     "text": [
      "Bootstrap Progress:\n",
      "Bootstrap Progress:\n",
      "Bootstrap Progress:\n"
     ]
    },
    {
     "name": "stderr",
     "output_type": "stream",
     "text": [
      "boundary (singular) fit: see ?isSingular\n",
      "\n",
      "boundary (singular) fit: see ?isSingular\n",
      "\n",
      "boundary (singular) fit: see ?isSingular\n",
      "\n"
     ]
    },
    {
     "name": "stdout",
     "output_type": "stream",
     "text": [
      "Bootstrap Progress:\n"
     ]
    },
    {
     "name": "stderr",
     "output_type": "stream",
     "text": [
      "boundary (singular) fit: see ?isSingular\n",
      "\n"
     ]
    },
    {
     "name": "stdout",
     "output_type": "stream",
     "text": [
      "Bootstrap Progress:\n",
      "Bootstrap Progress:\n",
      "Bootstrap Progress:\n",
      "Bootstrap Progress:\n",
      "Bootstrap Progress:\n",
      "Bootstrap Progress:\n",
      "Bootstrap Progress:\n",
      "Bootstrap Progress:\n",
      "Bootstrap Progress:\n",
      "Bootstrap Progress:\n",
      "Bootstrap Progress:\n",
      "Bootstrap Progress:\n",
      "Bootstrap Progress:\n",
      "Bootstrap Progress:\n",
      "Bootstrap Progress:\n",
      "Bootstrap Progress:\n",
      "Bootstrap Progress:\n",
      "Bootstrap Progress:\n",
      "Bootstrap Progress:\n",
      "Bootstrap Progress:\n",
      "Bootstrap Progress:\n",
      "Bootstrap Progress:\n",
      "Bootstrap Progress:\n",
      "Bootstrap Progress:\n",
      "Bootstrap Progress:\n",
      "Bootstrap Progress:\n",
      "Bootstrap Progress:\n",
      "Bootstrap Progress:\n",
      "Bootstrap Progress:\n",
      "Bootstrap Progress:\n",
      "Bootstrap Progress:\n",
      "Bootstrap Progress:\n",
      "Bootstrap Progress:\n",
      "Bootstrap Progress:\n",
      "Bootstrap Progress:\n",
      "Bootstrap Progress:\n",
      "Bootstrap Progress:\n",
      "Bootstrap Progress:\n",
      "Bootstrap Progress:\n",
      "Bootstrap Progress:\n",
      "Bootstrap Progress:\n",
      "Bootstrap Progress:\n",
      "Bootstrap Progress:\n",
      "Bootstrap Progress:\n",
      "Bootstrap Progress:\n",
      "Bootstrap Progress:\n",
      "Bootstrap Progress:\n",
      "Bootstrap Progress:\n",
      "Bootstrap Progress:\n",
      "Bootstrap Progress:\n",
      "Bootstrap Progress:\n",
      "Bootstrap Progress:\n",
      "Bootstrap Progress:\n",
      "Bootstrap Progress:\n",
      "Bootstrap Progress:\n",
      "Bootstrap Progress:\n",
      "Bootstrap Progress:\n"
     ]
    },
    {
     "name": "stderr",
     "output_type": "stream",
     "text": [
      "boundary (singular) fit: see ?isSingular\n",
      "\n"
     ]
    },
    {
     "name": "stdout",
     "output_type": "stream",
     "text": [
      "Bootstrap Progress:\n",
      "Bootstrap Progress:\n",
      "Bootstrap Progress:\n",
      "Bootstrap Progress:\n",
      "Bootstrap Progress:\n",
      "Bootstrap Progress:\n",
      "Bootstrap Progress:\n",
      "Bootstrap Progress:\n",
      "Bootstrap Progress:\n",
      "Bootstrap Progress:\n",
      "Bootstrap Progress:\n",
      "Bootstrap Progress:\n",
      "Bootstrap Progress:\n",
      "Bootstrap Progress:\n",
      "Bootstrap Progress:\n",
      "Bootstrap Progress:\n",
      "Bootstrap Progress:\n",
      "Bootstrap Progress:\n"
     ]
    },
    {
     "name": "stderr",
     "output_type": "stream",
     "text": [
      "boundary (singular) fit: see ?isSingular\n",
      "\n"
     ]
    },
    {
     "name": "stdout",
     "output_type": "stream",
     "text": [
      "Bootstrap Progress:\n",
      "Bootstrap Progress:\n",
      "Bootstrap Progress:\n",
      "Bootstrap Progress:\n",
      "Bootstrap Progress:\n",
      "Bootstrap Progress:\n",
      "Bootstrap Progress:\n",
      "Bootstrap Progress:\n",
      "Bootstrap Progress:\n",
      "Bootstrap Progress:\n"
     ]
    },
    {
     "name": "stderr",
     "output_type": "stream",
     "text": [
      "boundary (singular) fit: see ?isSingular\n",
      "\n",
      "boundary (singular) fit: see ?isSingular\n",
      "\n"
     ]
    },
    {
     "name": "stdout",
     "output_type": "stream",
     "text": [
      "Bootstrap Progress:\n",
      "Bootstrap Progress:\n"
     ]
    },
    {
     "name": "stderr",
     "output_type": "stream",
     "text": [
      "boundary (singular) fit: see ?isSingular\n",
      "\n"
     ]
    },
    {
     "name": "stdout",
     "output_type": "stream",
     "text": [
      "Bootstrap Progress:\n",
      "Bootstrap Progress:\n",
      "Bootstrap Progress:\n"
     ]
    },
    {
     "name": "stderr",
     "output_type": "stream",
     "text": [
      "boundary (singular) fit: see ?isSingular\n",
      "\n",
      "boundary (singular) fit: see ?isSingular\n",
      "\n",
      "boundary (singular) fit: see ?isSingular\n",
      "\n",
      "boundary (singular) fit: see ?isSingular\n",
      "\n",
      "boundary (singular) fit: see ?isSingular\n",
      "\n"
     ]
    },
    {
     "name": "stdout",
     "output_type": "stream",
     "text": [
      "Bootstrap Progress:\n"
     ]
    },
    {
     "name": "stderr",
     "output_type": "stream",
     "text": [
      "boundary (singular) fit: see ?isSingular\n",
      "\n",
      "boundary (singular) fit: see ?isSingular\n",
      "\n",
      "boundary (singular) fit: see ?isSingular\n",
      "\n",
      "boundary (singular) fit: see ?isSingular\n",
      "\n",
      "boundary (singular) fit: see ?isSingular\n",
      "\n",
      "boundary (singular) fit: see ?isSingular\n",
      "\n"
     ]
    },
    {
     "name": "stdout",
     "output_type": "stream",
     "text": [
      "Bootstrap Progress:\n"
     ]
    },
    {
     "name": "stderr",
     "output_type": "stream",
     "text": [
      "boundary (singular) fit: see ?isSingular\n",
      "\n"
     ]
    },
    {
     "name": "stdout",
     "output_type": "stream",
     "text": [
      "Bootstrap Progress:\n"
     ]
    },
    {
     "name": "stderr",
     "output_type": "stream",
     "text": [
      "boundary (singular) fit: see ?isSingular\n",
      "\n",
      "boundary (singular) fit: see ?isSingular\n",
      "\n",
      "boundary (singular) fit: see ?isSingular\n",
      "\n",
      "boundary (singular) fit: see ?isSingular\n",
      "\n",
      "boundary (singular) fit: see ?isSingular\n",
      "\n"
     ]
    },
    {
     "name": "stdout",
     "output_type": "stream",
     "text": [
      "Bootstrap Progress:\n",
      "Bootstrap Progress:\n"
     ]
    },
    {
     "name": "stderr",
     "output_type": "stream",
     "text": [
      "boundary (singular) fit: see ?isSingular\n",
      "\n",
      "boundary (singular) fit: see ?isSingular\n",
      "\n",
      "boundary (singular) fit: see ?isSingular\n",
      "\n",
      "boundary (singular) fit: see ?isSingular\n",
      "\n"
     ]
    },
    {
     "name": "stdout",
     "output_type": "stream",
     "text": [
      "Bootstrap Progress:\n",
      "Bootstrap Progress:\n",
      "Bootstrap Progress:\n"
     ]
    },
    {
     "name": "stderr",
     "output_type": "stream",
     "text": [
      "boundary (singular) fit: see ?isSingular\n",
      "\n",
      "boundary (singular) fit: see ?isSingular\n",
      "\n"
     ]
    },
    {
     "name": "stdout",
     "output_type": "stream",
     "text": [
      "Bootstrap Progress:\n"
     ]
    },
    {
     "name": "stderr",
     "output_type": "stream",
     "text": [
      "boundary (singular) fit: see ?isSingular\n",
      "\n",
      "boundary (singular) fit: see ?isSingular\n",
      "\n",
      "boundary (singular) fit: see ?isSingular\n",
      "\n",
      "boundary (singular) fit: see ?isSingular\n",
      "\n"
     ]
    },
    {
     "name": "stdout",
     "output_type": "stream",
     "text": [
      "Bootstrap Progress:\n"
     ]
    },
    {
     "name": "stderr",
     "output_type": "stream",
     "text": [
      "boundary (singular) fit: see ?isSingular\n",
      "\n",
      "boundary (singular) fit: see ?isSingular\n",
      "\n"
     ]
    },
    {
     "name": "stdout",
     "output_type": "stream",
     "text": [
      "Bootstrap Progress:\n"
     ]
    },
    {
     "name": "stderr",
     "output_type": "stream",
     "text": [
      "boundary (singular) fit: see ?isSingular\n",
      "\n",
      "boundary (singular) fit: see ?isSingular\n",
      "\n",
      "boundary (singular) fit: see ?isSingular\n",
      "\n"
     ]
    },
    {
     "name": "stdout",
     "output_type": "stream",
     "text": [
      "Bootstrap Progress:\n"
     ]
    },
    {
     "name": "stderr",
     "output_type": "stream",
     "text": [
      "boundary (singular) fit: see ?isSingular\n",
      "\n",
      "boundary (singular) fit: see ?isSingular\n",
      "\n",
      "boundary (singular) fit: see ?isSingular\n",
      "\n",
      "boundary (singular) fit: see ?isSingular\n",
      "\n"
     ]
    },
    {
     "name": "stdout",
     "output_type": "stream",
     "text": [
      "Bootstrap Progress:\n"
     ]
    },
    {
     "name": "stderr",
     "output_type": "stream",
     "text": [
      "boundary (singular) fit: see ?isSingular\n",
      "\n",
      "boundary (singular) fit: see ?isSingular\n",
      "\n",
      "boundary (singular) fit: see ?isSingular\n",
      "\n"
     ]
    },
    {
     "name": "stdout",
     "output_type": "stream",
     "text": [
      "Bootstrap Progress:\n"
     ]
    },
    {
     "name": "stderr",
     "output_type": "stream",
     "text": [
      "boundary (singular) fit: see ?isSingular\n",
      "\n",
      "boundary (singular) fit: see ?isSingular\n",
      "\n"
     ]
    },
    {
     "name": "stdout",
     "output_type": "stream",
     "text": [
      "Bootstrap Progress:\n"
     ]
    },
    {
     "name": "stderr",
     "output_type": "stream",
     "text": [
      "boundary (singular) fit: see ?isSingular\n",
      "\n"
     ]
    },
    {
     "name": "stdout",
     "output_type": "stream",
     "text": [
      "Bootstrap Progress:\n"
     ]
    },
    {
     "name": "stderr",
     "output_type": "stream",
     "text": [
      "boundary (singular) fit: see ?isSingular\n",
      "\n",
      "boundary (singular) fit: see ?isSingular\n",
      "\n",
      "boundary (singular) fit: see ?isSingular\n",
      "\n"
     ]
    },
    {
     "name": "stdout",
     "output_type": "stream",
     "text": [
      "Bootstrap Progress:\n"
     ]
    },
    {
     "name": "stderr",
     "output_type": "stream",
     "text": [
      "boundary (singular) fit: see ?isSingular\n",
      "\n",
      "boundary (singular) fit: see ?isSingular\n",
      "\n",
      "boundary (singular) fit: see ?isSingular\n",
      "\n",
      "boundary (singular) fit: see ?isSingular\n",
      "\n",
      "boundary (singular) fit: see ?isSingular\n",
      "\n"
     ]
    },
    {
     "name": "stdout",
     "output_type": "stream",
     "text": [
      "Bootstrap Progress:\n"
     ]
    },
    {
     "name": "stderr",
     "output_type": "stream",
     "text": [
      "boundary (singular) fit: see ?isSingular\n",
      "\n",
      "boundary (singular) fit: see ?isSingular\n",
      "\n"
     ]
    },
    {
     "name": "stdout",
     "output_type": "stream",
     "text": [
      "Bootstrap Progress:\n",
      "Bootstrap Progress:\n"
     ]
    },
    {
     "name": "stderr",
     "output_type": "stream",
     "text": [
      "boundary (singular) fit: see ?isSingular\n",
      "\n",
      "boundary (singular) fit: see ?isSingular\n",
      "\n"
     ]
    },
    {
     "name": "stdout",
     "output_type": "stream",
     "text": [
      "Bootstrap Progress:\n"
     ]
    },
    {
     "name": "stderr",
     "output_type": "stream",
     "text": [
      "boundary (singular) fit: see ?isSingular\n",
      "\n",
      "boundary (singular) fit: see ?isSingular\n",
      "\n",
      "boundary (singular) fit: see ?isSingular\n",
      "\n",
      "boundary (singular) fit: see ?isSingular\n",
      "\n",
      "boundary (singular) fit: see ?isSingular\n",
      "\n"
     ]
    },
    {
     "name": "stdout",
     "output_type": "stream",
     "text": [
      "Bootstrap Progress:\n",
      "Bootstrap Progress:\n"
     ]
    },
    {
     "name": "stderr",
     "output_type": "stream",
     "text": [
      "boundary (singular) fit: see ?isSingular\n",
      "\n"
     ]
    },
    {
     "name": "stdout",
     "output_type": "stream",
     "text": [
      "Bootstrap Progress:\n"
     ]
    },
    {
     "name": "stderr",
     "output_type": "stream",
     "text": [
      "boundary (singular) fit: see ?isSingular\n",
      "\n",
      "boundary (singular) fit: see ?isSingular\n",
      "\n"
     ]
    },
    {
     "name": "stdout",
     "output_type": "stream",
     "text": [
      "Bootstrap Progress:\n"
     ]
    },
    {
     "name": "stderr",
     "output_type": "stream",
     "text": [
      "boundary (singular) fit: see ?isSingular\n",
      "\n",
      "boundary (singular) fit: see ?isSingular\n",
      "\n",
      "boundary (singular) fit: see ?isSingular\n",
      "\n",
      "boundary (singular) fit: see ?isSingular\n",
      "\n",
      "boundary (singular) fit: see ?isSingular\n",
      "\n"
     ]
    },
    {
     "name": "stdout",
     "output_type": "stream",
     "text": [
      "Bootstrap Progress:\n",
      "Bootstrap Progress:\n",
      "Bootstrap Progress:\n",
      "Bootstrap Progress:\n"
     ]
    },
    {
     "name": "stderr",
     "output_type": "stream",
     "text": [
      "boundary (singular) fit: see ?isSingular\n",
      "\n",
      "boundary (singular) fit: see ?isSingular\n",
      "\n",
      "boundary (singular) fit: see ?isSingular\n",
      "\n",
      "boundary (singular) fit: see ?isSingular\n",
      "\n",
      "boundary (singular) fit: see ?isSingular\n",
      "\n"
     ]
    },
    {
     "name": "stdout",
     "output_type": "stream",
     "text": [
      "Bootstrap Progress:\n",
      "Bootstrap Progress:\n",
      "Bootstrap Progress:\n",
      "Bootstrap Progress:\n"
     ]
    },
    {
     "name": "stderr",
     "output_type": "stream",
     "text": [
      "boundary (singular) fit: see ?isSingular\n",
      "\n",
      "boundary (singular) fit: see ?isSingular\n",
      "\n",
      "boundary (singular) fit: see ?isSingular\n",
      "\n",
      "boundary (singular) fit: see ?isSingular\n",
      "\n",
      "boundary (singular) fit: see ?isSingular\n",
      "\n"
     ]
    },
    {
     "name": "stdout",
     "output_type": "stream",
     "text": [
      "Bootstrap Progress:\n",
      "Bootstrap Progress:\n",
      "Bootstrap Progress:\n"
     ]
    },
    {
     "name": "stderr",
     "output_type": "stream",
     "text": [
      "boundary (singular) fit: see ?isSingular\n",
      "\n"
     ]
    },
    {
     "name": "stdout",
     "output_type": "stream",
     "text": [
      "Bootstrap Progress:\n"
     ]
    },
    {
     "name": "stderr",
     "output_type": "stream",
     "text": [
      "boundary (singular) fit: see ?isSingular\n",
      "\n",
      "boundary (singular) fit: see ?isSingular\n",
      "\n",
      "boundary (singular) fit: see ?isSingular\n",
      "\n"
     ]
    },
    {
     "name": "stdout",
     "output_type": "stream",
     "text": [
      "Bootstrap Progress:\n",
      "Bootstrap Progress:\n",
      "Bootstrap Progress:\n",
      "Bootstrap Progress:\n",
      "Bootstrap Progress:\n",
      "Bootstrap Progress:\n",
      "Bootstrap Progress:\n",
      "Bootstrap Progress:\n",
      "Bootstrap Progress:\n",
      "Bootstrap Progress:\n",
      "Bootstrap Progress:\n",
      "Bootstrap Progress:\n",
      "Bootstrap Progress:\n",
      "Bootstrap Progress:\n",
      "Bootstrap Progress:\n",
      "Bootstrap Progress:\n",
      "Bootstrap Progress:\n",
      "Bootstrap Progress:\n",
      "Bootstrap Progress:\n",
      "Bootstrap Progress:\n",
      "Bootstrap Progress:\n",
      "Bootstrap Progress:\n",
      "Bootstrap Progress:\n",
      "Bootstrap Progress:\n",
      "Bootstrap Progress:\n",
      "Bootstrap Progress:\n",
      "Bootstrap Progress:\n",
      "Bootstrap Progress:\n",
      "Bootstrap Progress:\n",
      "Bootstrap Progress:\n",
      "Bootstrap Progress:\n",
      "Bootstrap Progress:\n",
      "Bootstrap Progress:\n",
      "Bootstrap Progress:\n",
      "Bootstrap Progress:\n",
      "Bootstrap Progress:\n",
      "Bootstrap Progress:\n",
      "Bootstrap Progress:\n",
      "Bootstrap Progress:\n",
      "Bootstrap Progress:\n",
      "Bootstrap Progress:\n",
      "Bootstrap Progress:\n",
      "Bootstrap Progress:\n",
      "Bootstrap Progress:\n",
      "Bootstrap Progress:\n",
      "Bootstrap Progress:\n",
      "Bootstrap Progress:\n",
      "Bootstrap Progress:\n",
      "Bootstrap Progress:\n",
      "Bootstrap Progress:\n",
      "Bootstrap Progress:\n",
      "Bootstrap Progress:\n",
      "Bootstrap Progress:\n",
      "Bootstrap Progress:\n",
      "Bootstrap Progress:\n",
      "Bootstrap Progress:\n",
      "Bootstrap Progress:\n",
      "Bootstrap Progress:\n",
      "Bootstrap Progress:\n",
      "Bootstrap Progress:\n",
      "Bootstrap Progress:\n",
      "Bootstrap Progress:\n",
      "Bootstrap Progress:\n",
      "Bootstrap Progress:\n",
      "Bootstrap Progress:\n",
      "Bootstrap Progress:\n",
      "Bootstrap Progress:\n",
      "Bootstrap Progress:\n",
      "Bootstrap Progress:\n",
      "Bootstrap Progress:\n"
     ]
    },
    {
     "name": "stderr",
     "output_type": "stream",
     "text": [
      "boundary (singular) fit: see ?isSingular\n",
      "\n"
     ]
    },
    {
     "name": "stdout",
     "output_type": "stream",
     "text": [
      "Bootstrap Progress:\n",
      "Bootstrap Progress:\n",
      "Bootstrap Progress:\n",
      "Bootstrap Progress:\n"
     ]
    },
    {
     "name": "stderr",
     "output_type": "stream",
     "text": [
      "boundary (singular) fit: see ?isSingular\n",
      "\n",
      "boundary (singular) fit: see ?isSingular\n",
      "\n",
      "boundary (singular) fit: see ?isSingular\n",
      "\n"
     ]
    },
    {
     "name": "stdout",
     "output_type": "stream",
     "text": [
      "Bootstrap Progress:\n",
      "Bootstrap Progress:\n"
     ]
    },
    {
     "name": "stderr",
     "output_type": "stream",
     "text": [
      "boundary (singular) fit: see ?isSingular\n",
      "\n",
      "boundary (singular) fit: see ?isSingular\n",
      "\n"
     ]
    },
    {
     "name": "stdout",
     "output_type": "stream",
     "text": [
      "Bootstrap Progress:\n"
     ]
    },
    {
     "name": "stderr",
     "output_type": "stream",
     "text": [
      "boundary (singular) fit: see ?isSingular\n",
      "\n"
     ]
    },
    {
     "name": "stdout",
     "output_type": "stream",
     "text": [
      "Bootstrap Progress:\n"
     ]
    },
    {
     "name": "stderr",
     "output_type": "stream",
     "text": [
      "boundary (singular) fit: see ?isSingular\n",
      "\n",
      "boundary (singular) fit: see ?isSingular\n",
      "\n"
     ]
    },
    {
     "name": "stdout",
     "output_type": "stream",
     "text": [
      "Bootstrap Progress:\n"
     ]
    },
    {
     "name": "stderr",
     "output_type": "stream",
     "text": [
      "boundary (singular) fit: see ?isSingular\n",
      "\n"
     ]
    },
    {
     "name": "stdout",
     "output_type": "stream",
     "text": [
      "Bootstrap Progress:\n",
      "Bootstrap Progress:\n"
     ]
    },
    {
     "name": "stderr",
     "output_type": "stream",
     "text": [
      "boundary (singular) fit: see ?isSingular\n",
      "\n",
      "boundary (singular) fit: see ?isSingular\n",
      "\n",
      "boundary (singular) fit: see ?isSingular\n",
      "\n"
     ]
    },
    {
     "name": "stdout",
     "output_type": "stream",
     "text": [
      "Bootstrap Progress:\n"
     ]
    },
    {
     "name": "stderr",
     "output_type": "stream",
     "text": [
      "boundary (singular) fit: see ?isSingular\n",
      "\n",
      "boundary (singular) fit: see ?isSingular\n",
      "\n",
      "boundary (singular) fit: see ?isSingular\n",
      "\n",
      "boundary (singular) fit: see ?isSingular\n",
      "\n",
      "boundary (singular) fit: see ?isSingular\n",
      "\n",
      "boundary (singular) fit: see ?isSingular\n",
      "\n"
     ]
    },
    {
     "name": "stdout",
     "output_type": "stream",
     "text": [
      "Bootstrap Progress:\n",
      "Bootstrap Progress:\n"
     ]
    },
    {
     "name": "stderr",
     "output_type": "stream",
     "text": [
      "boundary (singular) fit: see ?isSingular\n",
      "\n"
     ]
    },
    {
     "name": "stdout",
     "output_type": "stream",
     "text": [
      "Bootstrap Progress:\n"
     ]
    },
    {
     "name": "stderr",
     "output_type": "stream",
     "text": [
      "boundary (singular) fit: see ?isSingular\n",
      "\n",
      "boundary (singular) fit: see ?isSingular\n",
      "\n",
      "boundary (singular) fit: see ?isSingular\n",
      "\n",
      "boundary (singular) fit: see ?isSingular\n",
      "\n",
      "boundary (singular) fit: see ?isSingular\n",
      "\n",
      "boundary (singular) fit: see ?isSingular\n",
      "\n"
     ]
    },
    {
     "name": "stdout",
     "output_type": "stream",
     "text": [
      "Bootstrap Progress:\n"
     ]
    },
    {
     "name": "stderr",
     "output_type": "stream",
     "text": [
      "boundary (singular) fit: see ?isSingular\n",
      "\n",
      "boundary (singular) fit: see ?isSingular\n",
      "\n",
      "boundary (singular) fit: see ?isSingular\n",
      "\n",
      "boundary (singular) fit: see ?isSingular\n",
      "\n"
     ]
    },
    {
     "name": "stdout",
     "output_type": "stream",
     "text": [
      "Bootstrap Progress:\n",
      "Bootstrap Progress:\n"
     ]
    },
    {
     "name": "stderr",
     "output_type": "stream",
     "text": [
      "boundary (singular) fit: see ?isSingular\n",
      "\n",
      "boundary (singular) fit: see ?isSingular\n",
      "\n",
      "boundary (singular) fit: see ?isSingular\n",
      "\n",
      "boundary (singular) fit: see ?isSingular\n",
      "\n",
      "boundary (singular) fit: see ?isSingular\n",
      "\n",
      "boundary (singular) fit: see ?isSingular\n",
      "\n"
     ]
    },
    {
     "name": "stdout",
     "output_type": "stream",
     "text": [
      "Bootstrap Progress:\n"
     ]
    },
    {
     "name": "stderr",
     "output_type": "stream",
     "text": [
      "boundary (singular) fit: see ?isSingular\n",
      "\n",
      "boundary (singular) fit: see ?isSingular\n",
      "\n",
      "boundary (singular) fit: see ?isSingular\n",
      "\n",
      "boundary (singular) fit: see ?isSingular\n",
      "\n"
     ]
    },
    {
     "name": "stdout",
     "output_type": "stream",
     "text": [
      "Bootstrap Progress:\n",
      "Bootstrap Progress:\n",
      "Bootstrap Progress:\n"
     ]
    },
    {
     "name": "stderr",
     "output_type": "stream",
     "text": [
      "boundary (singular) fit: see ?isSingular\n",
      "\n",
      "boundary (singular) fit: see ?isSingular\n",
      "\n",
      "boundary (singular) fit: see ?isSingular\n",
      "\n",
      "boundary (singular) fit: see ?isSingular\n",
      "\n"
     ]
    },
    {
     "name": "stdout",
     "output_type": "stream",
     "text": [
      "Bootstrap Progress:\n"
     ]
    },
    {
     "name": "stderr",
     "output_type": "stream",
     "text": [
      "boundary (singular) fit: see ?isSingular\n",
      "\n",
      "boundary (singular) fit: see ?isSingular\n",
      "\n",
      "boundary (singular) fit: see ?isSingular\n",
      "\n"
     ]
    },
    {
     "name": "stdout",
     "output_type": "stream",
     "text": [
      "Bootstrap Progress:\n"
     ]
    },
    {
     "name": "stderr",
     "output_type": "stream",
     "text": [
      "boundary (singular) fit: see ?isSingular\n",
      "\n",
      "boundary (singular) fit: see ?isSingular\n",
      "\n",
      "boundary (singular) fit: see ?isSingular\n",
      "\n"
     ]
    },
    {
     "name": "stdout",
     "output_type": "stream",
     "text": [
      "Bootstrap Progress:\n",
      "Bootstrap Progress:\n"
     ]
    },
    {
     "name": "stderr",
     "output_type": "stream",
     "text": [
      "boundary (singular) fit: see ?isSingular\n",
      "\n",
      "boundary (singular) fit: see ?isSingular\n",
      "\n",
      "boundary (singular) fit: see ?isSingular\n",
      "\n"
     ]
    },
    {
     "name": "stdout",
     "output_type": "stream",
     "text": [
      "Bootstrap Progress:\n"
     ]
    },
    {
     "name": "stderr",
     "output_type": "stream",
     "text": [
      "boundary (singular) fit: see ?isSingular\n",
      "\n",
      "boundary (singular) fit: see ?isSingular\n",
      "\n",
      "boundary (singular) fit: see ?isSingular\n",
      "\n"
     ]
    },
    {
     "name": "stdout",
     "output_type": "stream",
     "text": [
      "Bootstrap Progress:\n"
     ]
    },
    {
     "name": "stderr",
     "output_type": "stream",
     "text": [
      "boundary (singular) fit: see ?isSingular\n",
      "\n"
     ]
    },
    {
     "name": "stdout",
     "output_type": "stream",
     "text": [
      "Bootstrap Progress:\n"
     ]
    },
    {
     "name": "stderr",
     "output_type": "stream",
     "text": [
      "boundary (singular) fit: see ?isSingular\n",
      "\n",
      "boundary (singular) fit: see ?isSingular\n",
      "\n"
     ]
    },
    {
     "name": "stdout",
     "output_type": "stream",
     "text": [
      "Bootstrap Progress:\n"
     ]
    },
    {
     "name": "stderr",
     "output_type": "stream",
     "text": [
      "boundary (singular) fit: see ?isSingular\n",
      "\n",
      "boundary (singular) fit: see ?isSingular\n",
      "\n",
      "boundary (singular) fit: see ?isSingular\n",
      "\n",
      "boundary (singular) fit: see ?isSingular\n",
      "\n"
     ]
    },
    {
     "name": "stdout",
     "output_type": "stream",
     "text": [
      "Bootstrap Progress:\n",
      "Bootstrap Progress:\n",
      "Bootstrap Progress:\n"
     ]
    },
    {
     "name": "stderr",
     "output_type": "stream",
     "text": [
      "boundary (singular) fit: see ?isSingular\n",
      "\n",
      "boundary (singular) fit: see ?isSingular\n",
      "\n",
      "boundary (singular) fit: see ?isSingular\n",
      "\n"
     ]
    },
    {
     "name": "stdout",
     "output_type": "stream",
     "text": [
      "Bootstrap Progress:\n"
     ]
    },
    {
     "name": "stderr",
     "output_type": "stream",
     "text": [
      "boundary (singular) fit: see ?isSingular\n",
      "\n",
      "boundary (singular) fit: see ?isSingular\n",
      "\n",
      "boundary (singular) fit: see ?isSingular\n",
      "\n"
     ]
    },
    {
     "name": "stdout",
     "output_type": "stream",
     "text": [
      "Bootstrap Progress:\n"
     ]
    },
    {
     "name": "stderr",
     "output_type": "stream",
     "text": [
      "boundary (singular) fit: see ?isSingular\n",
      "\n",
      "boundary (singular) fit: see ?isSingular\n",
      "\n"
     ]
    },
    {
     "name": "stdout",
     "output_type": "stream",
     "text": [
      "Bootstrap Progress:\n"
     ]
    },
    {
     "name": "stderr",
     "output_type": "stream",
     "text": [
      "boundary (singular) fit: see ?isSingular\n",
      "\n"
     ]
    },
    {
     "name": "stdout",
     "output_type": "stream",
     "text": [
      "Bootstrap Progress:\n"
     ]
    },
    {
     "name": "stderr",
     "output_type": "stream",
     "text": [
      "boundary (singular) fit: see ?isSingular\n",
      "\n",
      "boundary (singular) fit: see ?isSingular\n",
      "\n",
      "boundary (singular) fit: see ?isSingular\n",
      "\n",
      "boundary (singular) fit: see ?isSingular\n",
      "\n"
     ]
    },
    {
     "name": "stdout",
     "output_type": "stream",
     "text": [
      "Bootstrap Progress:\n"
     ]
    },
    {
     "name": "stderr",
     "output_type": "stream",
     "text": [
      "boundary (singular) fit: see ?isSingular\n",
      "\n",
      "boundary (singular) fit: see ?isSingular\n",
      "\n",
      "boundary (singular) fit: see ?isSingular\n",
      "\n",
      "boundary (singular) fit: see ?isSingular\n",
      "\n"
     ]
    },
    {
     "name": "stdout",
     "output_type": "stream",
     "text": [
      "Bootstrap Progress:\n"
     ]
    },
    {
     "name": "stderr",
     "output_type": "stream",
     "text": [
      "boundary (singular) fit: see ?isSingular\n",
      "\n",
      "boundary (singular) fit: see ?isSingular\n",
      "\n",
      "boundary (singular) fit: see ?isSingular\n",
      "\n",
      "boundary (singular) fit: see ?isSingular\n",
      "\n",
      "boundary (singular) fit: see ?isSingular\n",
      "\n",
      "boundary (singular) fit: see ?isSingular\n",
      "\n"
     ]
    },
    {
     "name": "stdout",
     "output_type": "stream",
     "text": [
      "Bootstrap Progress:\n"
     ]
    },
    {
     "name": "stderr",
     "output_type": "stream",
     "text": [
      "boundary (singular) fit: see ?isSingular\n",
      "\n",
      "boundary (singular) fit: see ?isSingular\n",
      "\n"
     ]
    },
    {
     "name": "stdout",
     "output_type": "stream",
     "text": [
      "Bootstrap Progress:\n"
     ]
    },
    {
     "name": "stderr",
     "output_type": "stream",
     "text": [
      "boundary (singular) fit: see ?isSingular\n",
      "\n",
      "boundary (singular) fit: see ?isSingular\n",
      "\n",
      "boundary (singular) fit: see ?isSingular\n",
      "\n",
      "boundary (singular) fit: see ?isSingular\n",
      "\n",
      "boundary (singular) fit: see ?isSingular\n",
      "\n"
     ]
    },
    {
     "name": "stdout",
     "output_type": "stream",
     "text": [
      "Bootstrap Progress:\n"
     ]
    },
    {
     "name": "stderr",
     "output_type": "stream",
     "text": [
      "boundary (singular) fit: see ?isSingular\n",
      "\n",
      "boundary (singular) fit: see ?isSingular\n",
      "\n",
      "boundary (singular) fit: see ?isSingular\n",
      "\n",
      "boundary (singular) fit: see ?isSingular\n",
      "\n"
     ]
    },
    {
     "name": "stdout",
     "output_type": "stream",
     "text": [
      "Bootstrap Progress:\n"
     ]
    },
    {
     "name": "stderr",
     "output_type": "stream",
     "text": [
      "boundary (singular) fit: see ?isSingular\n",
      "\n",
      "boundary (singular) fit: see ?isSingular\n",
      "\n",
      "boundary (singular) fit: see ?isSingular\n",
      "\n"
     ]
    },
    {
     "name": "stdout",
     "output_type": "stream",
     "text": [
      "Bootstrap Progress:\n",
      "Bootstrap Progress:\n"
     ]
    },
    {
     "name": "stderr",
     "output_type": "stream",
     "text": [
      "boundary (singular) fit: see ?isSingular\n",
      "\n",
      "boundary (singular) fit: see ?isSingular\n",
      "\n",
      "boundary (singular) fit: see ?isSingular\n",
      "\n",
      "boundary (singular) fit: see ?isSingular\n",
      "\n",
      "boundary (singular) fit: see ?isSingular\n",
      "\n"
     ]
    },
    {
     "name": "stdout",
     "output_type": "stream",
     "text": [
      "Bootstrap Progress:\n"
     ]
    },
    {
     "name": "stderr",
     "output_type": "stream",
     "text": [
      "boundary (singular) fit: see ?isSingular\n",
      "\n",
      "boundary (singular) fit: see ?isSingular\n",
      "\n",
      "boundary (singular) fit: see ?isSingular\n",
      "\n"
     ]
    },
    {
     "name": "stdout",
     "output_type": "stream",
     "text": [
      "Bootstrap Progress:\n"
     ]
    },
    {
     "name": "stderr",
     "output_type": "stream",
     "text": [
      "boundary (singular) fit: see ?isSingular\n",
      "\n",
      "boundary (singular) fit: see ?isSingular\n",
      "\n",
      "boundary (singular) fit: see ?isSingular\n",
      "\n",
      "boundary (singular) fit: see ?isSingular\n",
      "\n",
      "boundary (singular) fit: see ?isSingular\n",
      "\n"
     ]
    },
    {
     "name": "stdout",
     "output_type": "stream",
     "text": [
      "Bootstrap Progress:\n",
      "Bootstrap Progress:\n"
     ]
    },
    {
     "name": "stderr",
     "output_type": "stream",
     "text": [
      "boundary (singular) fit: see ?isSingular\n",
      "\n",
      "boundary (singular) fit: see ?isSingular\n",
      "\n",
      "boundary (singular) fit: see ?isSingular\n",
      "\n",
      "boundary (singular) fit: see ?isSingular\n",
      "\n"
     ]
    },
    {
     "name": "stdout",
     "output_type": "stream",
     "text": [
      "Bootstrap Progress:\n"
     ]
    },
    {
     "name": "stderr",
     "output_type": "stream",
     "text": [
      "boundary (singular) fit: see ?isSingular\n",
      "\n",
      "boundary (singular) fit: see ?isSingular\n",
      "\n",
      "boundary (singular) fit: see ?isSingular\n",
      "\n",
      "boundary (singular) fit: see ?isSingular\n",
      "\n",
      "boundary (singular) fit: see ?isSingular\n",
      "\n",
      "boundary (singular) fit: see ?isSingular\n",
      "\n",
      "boundary (singular) fit: see ?isSingular\n",
      "\n"
     ]
    },
    {
     "name": "stdout",
     "output_type": "stream",
     "text": [
      "Bootstrap Progress:\n"
     ]
    },
    {
     "name": "stderr",
     "output_type": "stream",
     "text": [
      "boundary (singular) fit: see ?isSingular\n",
      "\n",
      "boundary (singular) fit: see ?isSingular\n",
      "\n",
      "boundary (singular) fit: see ?isSingular\n",
      "\n",
      "boundary (singular) fit: see ?isSingular\n",
      "\n",
      "boundary (singular) fit: see ?isSingular\n",
      "\n"
     ]
    },
    {
     "name": "stdout",
     "output_type": "stream",
     "text": [
      "Bootstrap Progress:\n",
      "Bootstrap Progress:\n"
     ]
    },
    {
     "name": "stderr",
     "output_type": "stream",
     "text": [
      "boundary (singular) fit: see ?isSingular\n",
      "\n",
      "boundary (singular) fit: see ?isSingular\n",
      "\n",
      "boundary (singular) fit: see ?isSingular\n",
      "\n",
      "boundary (singular) fit: see ?isSingular\n",
      "\n",
      "boundary (singular) fit: see ?isSingular\n",
      "\n"
     ]
    },
    {
     "name": "stdout",
     "output_type": "stream",
     "text": [
      "Bootstrap Progress:\n"
     ]
    },
    {
     "name": "stderr",
     "output_type": "stream",
     "text": [
      "boundary (singular) fit: see ?isSingular\n",
      "\n",
      "boundary (singular) fit: see ?isSingular\n",
      "\n",
      "boundary (singular) fit: see ?isSingular\n",
      "\n",
      "boundary (singular) fit: see ?isSingular\n",
      "\n",
      "boundary (singular) fit: see ?isSingular\n",
      "\n",
      "boundary (singular) fit: see ?isSingular\n",
      "\n",
      "boundary (singular) fit: see ?isSingular\n",
      "\n"
     ]
    },
    {
     "name": "stdout",
     "output_type": "stream",
     "text": [
      "Bootstrap Progress:\n"
     ]
    },
    {
     "name": "stderr",
     "output_type": "stream",
     "text": [
      "boundary (singular) fit: see ?isSingular\n",
      "\n",
      "boundary (singular) fit: see ?isSingular\n",
      "\n",
      "boundary (singular) fit: see ?isSingular\n",
      "\n",
      "boundary (singular) fit: see ?isSingular\n",
      "\n",
      "boundary (singular) fit: see ?isSingular\n",
      "\n"
     ]
    },
    {
     "name": "stdout",
     "output_type": "stream",
     "text": [
      "Bootstrap Progress:\n",
      "Bootstrap Progress:\n"
     ]
    },
    {
     "name": "stderr",
     "output_type": "stream",
     "text": [
      "boundary (singular) fit: see ?isSingular\n",
      "\n",
      "boundary (singular) fit: see ?isSingular\n",
      "\n",
      "boundary (singular) fit: see ?isSingular\n",
      "\n",
      "boundary (singular) fit: see ?isSingular\n",
      "\n",
      "boundary (singular) fit: see ?isSingular\n",
      "\n",
      "boundary (singular) fit: see ?isSingular\n",
      "\n"
     ]
    },
    {
     "name": "stdout",
     "output_type": "stream",
     "text": [
      "Bootstrap Progress:\n"
     ]
    },
    {
     "name": "stderr",
     "output_type": "stream",
     "text": [
      "boundary (singular) fit: see ?isSingular\n",
      "\n",
      "boundary (singular) fit: see ?isSingular\n",
      "\n",
      "boundary (singular) fit: see ?isSingular\n",
      "\n",
      "boundary (singular) fit: see ?isSingular\n",
      "\n",
      "boundary (singular) fit: see ?isSingular\n",
      "\n",
      "boundary (singular) fit: see ?isSingular\n",
      "\n",
      "boundary (singular) fit: see ?isSingular\n",
      "\n"
     ]
    },
    {
     "name": "stdout",
     "output_type": "stream",
     "text": [
      "Bootstrap Progress:\n"
     ]
    },
    {
     "name": "stderr",
     "output_type": "stream",
     "text": [
      "boundary (singular) fit: see ?isSingular\n",
      "\n",
      "boundary (singular) fit: see ?isSingular\n",
      "\n",
      "boundary (singular) fit: see ?isSingular\n",
      "\n",
      "boundary (singular) fit: see ?isSingular\n",
      "\n",
      "boundary (singular) fit: see ?isSingular\n",
      "\n",
      "boundary (singular) fit: see ?isSingular\n",
      "\n"
     ]
    },
    {
     "name": "stdout",
     "output_type": "stream",
     "text": [
      "Bootstrap Progress:\n",
      "Bootstrap Progress:\n",
      "Bootstrap Progress:\n",
      "Bootstrap Progress:\n",
      "Bootstrap Progress:\n",
      "Bootstrap Progress:\n",
      "Bootstrap Progress:\n",
      "Bootstrap Progress:\n",
      "Bootstrap Progress:\n",
      "Bootstrap Progress:\n",
      "Bootstrap Progress:\n",
      "Bootstrap Progress:\n",
      "Bootstrap Progress:\n",
      "Bootstrap Progress:\n",
      "Bootstrap Progress:\n",
      "Bootstrap Progress:\n",
      "Bootstrap Progress:\n",
      "Bootstrap Progress:\n",
      "Bootstrap Progress:\n",
      "Bootstrap Progress:\n",
      "Bootstrap Progress:\n",
      "Bootstrap Progress:\n",
      "Bootstrap Progress:\n",
      "Bootstrap Progress:\n",
      "Bootstrap Progress:\n",
      "Bootstrap Progress:\n",
      "Bootstrap Progress:\n",
      "Bootstrap Progress:\n",
      "Bootstrap Progress:\n",
      "Bootstrap Progress:\n",
      "Bootstrap Progress:\n",
      "Bootstrap Progress:\n",
      "Bootstrap Progress:\n",
      "Bootstrap Progress:\n",
      "Bootstrap Progress:\n",
      "Bootstrap Progress:\n",
      "Bootstrap Progress:\n",
      "Bootstrap Progress:\n",
      "Bootstrap Progress:\n",
      "Bootstrap Progress:\n",
      "Bootstrap Progress:\n",
      "Bootstrap Progress:\n",
      "Bootstrap Progress:\n",
      "Bootstrap Progress:\n",
      "Bootstrap Progress:\n",
      "Bootstrap Progress:\n",
      "Bootstrap Progress:\n",
      "Bootstrap Progress:\n",
      "Bootstrap Progress:\n",
      "Bootstrap Progress:\n",
      "Bootstrap Progress:\n",
      "Bootstrap Progress:\n",
      "Bootstrap Progress:\n",
      "Bootstrap Progress:\n",
      "Bootstrap Progress:\n",
      "Bootstrap Progress:\n",
      "Bootstrap Progress:\n",
      "Bootstrap Progress:\n",
      "Bootstrap Progress:\n",
      "Bootstrap Progress:\n",
      "Bootstrap Progress:\n",
      "Bootstrap Progress:\n",
      "Bootstrap Progress:\n",
      "Bootstrap Progress:\n",
      "Bootstrap Progress:\n"
     ]
    },
    {
     "name": "stderr",
     "output_type": "stream",
     "text": [
      "boundary (singular) fit: see ?isSingular\n",
      "\n",
      "boundary (singular) fit: see ?isSingular\n",
      "\n",
      "boundary (singular) fit: see ?isSingular\n",
      "\n"
     ]
    },
    {
     "name": "stdout",
     "output_type": "stream",
     "text": [
      "Bootstrap Progress:\n",
      "Bootstrap Progress:\n",
      "Bootstrap Progress:\n",
      "Bootstrap Progress:\n"
     ]
    },
    {
     "name": "stderr",
     "output_type": "stream",
     "text": [
      "boundary (singular) fit: see ?isSingular\n",
      "\n",
      "boundary (singular) fit: see ?isSingular\n",
      "\n"
     ]
    },
    {
     "name": "stdout",
     "output_type": "stream",
     "text": [
      "Bootstrap Progress:\n",
      "Bootstrap Progress:\n",
      "Bootstrap Progress:\n",
      "Bootstrap Progress:\n"
     ]
    },
    {
     "name": "stderr",
     "output_type": "stream",
     "text": [
      "boundary (singular) fit: see ?isSingular\n",
      "\n",
      "boundary (singular) fit: see ?isSingular\n",
      "\n",
      "boundary (singular) fit: see ?isSingular\n",
      "\n",
      "boundary (singular) fit: see ?isSingular\n",
      "\n",
      "boundary (singular) fit: see ?isSingular\n",
      "\n",
      "boundary (singular) fit: see ?isSingular\n",
      "\n"
     ]
    },
    {
     "name": "stdout",
     "output_type": "stream",
     "text": [
      "Bootstrap Progress:\n",
      "Bootstrap Progress:\n"
     ]
    },
    {
     "name": "stderr",
     "output_type": "stream",
     "text": [
      "boundary (singular) fit: see ?isSingular\n",
      "\n"
     ]
    },
    {
     "name": "stdout",
     "output_type": "stream",
     "text": [
      "Bootstrap Progress:\n"
     ]
    },
    {
     "name": "stderr",
     "output_type": "stream",
     "text": [
      "boundary (singular) fit: see ?isSingular\n",
      "\n",
      "boundary (singular) fit: see ?isSingular\n",
      "\n"
     ]
    },
    {
     "name": "stdout",
     "output_type": "stream",
     "text": [
      "Bootstrap Progress:\n"
     ]
    },
    {
     "name": "stderr",
     "output_type": "stream",
     "text": [
      "boundary (singular) fit: see ?isSingular\n",
      "\n",
      "boundary (singular) fit: see ?isSingular\n",
      "\n",
      "boundary (singular) fit: see ?isSingular\n",
      "\n",
      "boundary (singular) fit: see ?isSingular\n",
      "\n",
      "boundary (singular) fit: see ?isSingular\n",
      "\n",
      "boundary (singular) fit: see ?isSingular\n",
      "\n",
      "boundary (singular) fit: see ?isSingular\n",
      "\n",
      "boundary (singular) fit: see ?isSingular\n",
      "\n",
      "boundary (singular) fit: see ?isSingular\n",
      "\n"
     ]
    },
    {
     "name": "stdout",
     "output_type": "stream",
     "text": [
      "Bootstrap Progress:\n",
      "Bootstrap Progress:\n"
     ]
    },
    {
     "name": "stderr",
     "output_type": "stream",
     "text": [
      "boundary (singular) fit: see ?isSingular\n",
      "\n"
     ]
    },
    {
     "name": "stdout",
     "output_type": "stream",
     "text": [
      "Bootstrap Progress:\n"
     ]
    },
    {
     "name": "stderr",
     "output_type": "stream",
     "text": [
      "boundary (singular) fit: see ?isSingular\n",
      "\n",
      "boundary (singular) fit: see ?isSingular\n",
      "\n"
     ]
    },
    {
     "name": "stdout",
     "output_type": "stream",
     "text": [
      "Bootstrap Progress:\n"
     ]
    },
    {
     "name": "stderr",
     "output_type": "stream",
     "text": [
      "boundary (singular) fit: see ?isSingular\n",
      "\n",
      "boundary (singular) fit: see ?isSingular\n",
      "\n",
      "boundary (singular) fit: see ?isSingular\n",
      "\n",
      "boundary (singular) fit: see ?isSingular\n",
      "\n",
      "boundary (singular) fit: see ?isSingular\n",
      "\n"
     ]
    },
    {
     "name": "stdout",
     "output_type": "stream",
     "text": [
      "Bootstrap Progress:\n"
     ]
    },
    {
     "name": "stderr",
     "output_type": "stream",
     "text": [
      "boundary (singular) fit: see ?isSingular\n",
      "\n",
      "boundary (singular) fit: see ?isSingular\n",
      "\n",
      "boundary (singular) fit: see ?isSingular\n",
      "\n"
     ]
    },
    {
     "name": "stdout",
     "output_type": "stream",
     "text": [
      "Bootstrap Progress:\n"
     ]
    },
    {
     "name": "stderr",
     "output_type": "stream",
     "text": [
      "boundary (singular) fit: see ?isSingular\n",
      "\n",
      "boundary (singular) fit: see ?isSingular\n",
      "\n",
      "boundary (singular) fit: see ?isSingular\n",
      "\n",
      "boundary (singular) fit: see ?isSingular\n",
      "\n",
      "boundary (singular) fit: see ?isSingular\n",
      "\n",
      "boundary (singular) fit: see ?isSingular\n",
      "\n",
      "boundary (singular) fit: see ?isSingular\n",
      "\n"
     ]
    },
    {
     "name": "stdout",
     "output_type": "stream",
     "text": [
      "Bootstrap Progress:\n"
     ]
    },
    {
     "name": "stderr",
     "output_type": "stream",
     "text": [
      "boundary (singular) fit: see ?isSingular\n",
      "\n"
     ]
    },
    {
     "name": "stdout",
     "output_type": "stream",
     "text": [
      "Bootstrap Progress:\n"
     ]
    },
    {
     "name": "stderr",
     "output_type": "stream",
     "text": [
      "boundary (singular) fit: see ?isSingular\n",
      "\n",
      "boundary (singular) fit: see ?isSingular\n",
      "\n",
      "boundary (singular) fit: see ?isSingular\n",
      "\n"
     ]
    },
    {
     "name": "stdout",
     "output_type": "stream",
     "text": [
      "Bootstrap Progress:\n"
     ]
    },
    {
     "name": "stderr",
     "output_type": "stream",
     "text": [
      "boundary (singular) fit: see ?isSingular\n",
      "\n",
      "boundary (singular) fit: see ?isSingular\n",
      "\n"
     ]
    },
    {
     "name": "stdout",
     "output_type": "stream",
     "text": [
      "Bootstrap Progress:\n"
     ]
    },
    {
     "name": "stderr",
     "output_type": "stream",
     "text": [
      "boundary (singular) fit: see ?isSingular\n",
      "\n",
      "boundary (singular) fit: see ?isSingular\n",
      "\n",
      "boundary (singular) fit: see ?isSingular\n",
      "\n",
      "boundary (singular) fit: see ?isSingular\n",
      "\n",
      "boundary (singular) fit: see ?isSingular\n",
      "\n"
     ]
    },
    {
     "name": "stdout",
     "output_type": "stream",
     "text": [
      "Bootstrap Progress:\n"
     ]
    },
    {
     "name": "stderr",
     "output_type": "stream",
     "text": [
      "boundary (singular) fit: see ?isSingular\n",
      "\n",
      "boundary (singular) fit: see ?isSingular\n",
      "\n"
     ]
    },
    {
     "name": "stdout",
     "output_type": "stream",
     "text": [
      "Bootstrap Progress:\n"
     ]
    },
    {
     "name": "stderr",
     "output_type": "stream",
     "text": [
      "boundary (singular) fit: see ?isSingular\n",
      "\n",
      "boundary (singular) fit: see ?isSingular\n",
      "\n",
      "boundary (singular) fit: see ?isSingular\n",
      "\n"
     ]
    },
    {
     "name": "stdout",
     "output_type": "stream",
     "text": [
      "Bootstrap Progress:\n"
     ]
    },
    {
     "name": "stderr",
     "output_type": "stream",
     "text": [
      "boundary (singular) fit: see ?isSingular\n",
      "\n",
      "boundary (singular) fit: see ?isSingular\n",
      "\n"
     ]
    },
    {
     "name": "stdout",
     "output_type": "stream",
     "text": [
      "Bootstrap Progress:\n"
     ]
    },
    {
     "name": "stderr",
     "output_type": "stream",
     "text": [
      "boundary (singular) fit: see ?isSingular\n",
      "\n",
      "boundary (singular) fit: see ?isSingular\n",
      "\n",
      "boundary (singular) fit: see ?isSingular\n",
      "\n",
      "boundary (singular) fit: see ?isSingular\n",
      "\n",
      "boundary (singular) fit: see ?isSingular\n",
      "\n",
      "boundary (singular) fit: see ?isSingular\n",
      "\n",
      "boundary (singular) fit: see ?isSingular\n",
      "\n"
     ]
    },
    {
     "name": "stdout",
     "output_type": "stream",
     "text": [
      "Bootstrap Progress:\n",
      "Bootstrap Progress:\n"
     ]
    },
    {
     "name": "stderr",
     "output_type": "stream",
     "text": [
      "boundary (singular) fit: see ?isSingular\n",
      "\n",
      "boundary (singular) fit: see ?isSingular\n",
      "\n",
      "boundary (singular) fit: see ?isSingular\n",
      "\n"
     ]
    },
    {
     "name": "stdout",
     "output_type": "stream",
     "text": [
      "Bootstrap Progress:\n"
     ]
    },
    {
     "name": "stderr",
     "output_type": "stream",
     "text": [
      "boundary (singular) fit: see ?isSingular\n",
      "\n",
      "boundary (singular) fit: see ?isSingular\n",
      "\n"
     ]
    },
    {
     "name": "stdout",
     "output_type": "stream",
     "text": [
      "Bootstrap Progress:\n"
     ]
    },
    {
     "name": "stderr",
     "output_type": "stream",
     "text": [
      "boundary (singular) fit: see ?isSingular\n",
      "\n",
      "boundary (singular) fit: see ?isSingular\n",
      "\n",
      "boundary (singular) fit: see ?isSingular\n",
      "\n",
      "boundary (singular) fit: see ?isSingular\n",
      "\n",
      "boundary (singular) fit: see ?isSingular\n",
      "\n",
      "boundary (singular) fit: see ?isSingular\n",
      "\n",
      "boundary (singular) fit: see ?isSingular\n",
      "\n"
     ]
    },
    {
     "name": "stdout",
     "output_type": "stream",
     "text": [
      "Bootstrap Progress:\n"
     ]
    },
    {
     "name": "stderr",
     "output_type": "stream",
     "text": [
      "boundary (singular) fit: see ?isSingular\n",
      "\n",
      "boundary (singular) fit: see ?isSingular\n",
      "\n"
     ]
    },
    {
     "name": "stdout",
     "output_type": "stream",
     "text": [
      "Bootstrap Progress:\n"
     ]
    },
    {
     "name": "stderr",
     "output_type": "stream",
     "text": [
      "boundary (singular) fit: see ?isSingular\n",
      "\n",
      "boundary (singular) fit: see ?isSingular\n",
      "\n",
      "boundary (singular) fit: see ?isSingular\n",
      "\n"
     ]
    },
    {
     "name": "stdout",
     "output_type": "stream",
     "text": [
      "Bootstrap Progress:\n"
     ]
    },
    {
     "name": "stderr",
     "output_type": "stream",
     "text": [
      "boundary (singular) fit: see ?isSingular\n",
      "\n",
      "boundary (singular) fit: see ?isSingular\n",
      "\n"
     ]
    },
    {
     "name": "stdout",
     "output_type": "stream",
     "text": [
      "Bootstrap Progress:\n"
     ]
    },
    {
     "name": "stderr",
     "output_type": "stream",
     "text": [
      "boundary (singular) fit: see ?isSingular\n",
      "\n",
      "boundary (singular) fit: see ?isSingular\n",
      "\n",
      "boundary (singular) fit: see ?isSingular\n",
      "\n",
      "boundary (singular) fit: see ?isSingular\n",
      "\n",
      "boundary (singular) fit: see ?isSingular\n",
      "\n",
      "boundary (singular) fit: see ?isSingular\n",
      "\n"
     ]
    },
    {
     "name": "stdout",
     "output_type": "stream",
     "text": [
      "Bootstrap Progress:\n",
      "Bootstrap Progress:\n"
     ]
    },
    {
     "name": "stderr",
     "output_type": "stream",
     "text": [
      "boundary (singular) fit: see ?isSingular\n",
      "\n"
     ]
    },
    {
     "name": "stdout",
     "output_type": "stream",
     "text": [
      "Bootstrap Progress:\n"
     ]
    },
    {
     "name": "stderr",
     "output_type": "stream",
     "text": [
      "boundary (singular) fit: see ?isSingular\n",
      "\n",
      "boundary (singular) fit: see ?isSingular\n",
      "\n"
     ]
    },
    {
     "name": "stdout",
     "output_type": "stream",
     "text": [
      "Bootstrap Progress:\n"
     ]
    },
    {
     "name": "stderr",
     "output_type": "stream",
     "text": [
      "boundary (singular) fit: see ?isSingular\n",
      "\n",
      "boundary (singular) fit: see ?isSingular\n",
      "\n",
      "boundary (singular) fit: see ?isSingular\n",
      "\n"
     ]
    },
    {
     "name": "stdout",
     "output_type": "stream",
     "text": [
      "Bootstrap Progress:\n",
      "Bootstrap Progress:\n",
      "Bootstrap Progress:\n"
     ]
    },
    {
     "name": "stderr",
     "output_type": "stream",
     "text": [
      "boundary (singular) fit: see ?isSingular\n",
      "\n",
      "boundary (singular) fit: see ?isSingular\n",
      "\n"
     ]
    },
    {
     "name": "stdout",
     "output_type": "stream",
     "text": [
      "Bootstrap Progress:\n"
     ]
    },
    {
     "name": "stderr",
     "output_type": "stream",
     "text": [
      "boundary (singular) fit: see ?isSingular\n",
      "\n",
      "boundary (singular) fit: see ?isSingular\n",
      "\n",
      "boundary (singular) fit: see ?isSingular\n",
      "\n",
      "boundary (singular) fit: see ?isSingular\n",
      "\n",
      "boundary (singular) fit: see ?isSingular\n",
      "\n"
     ]
    },
    {
     "name": "stdout",
     "output_type": "stream",
     "text": [
      "Bootstrap Progress:\n",
      "Bootstrap Progress:\n",
      "Bootstrap Progress:\n"
     ]
    },
    {
     "name": "stderr",
     "output_type": "stream",
     "text": [
      "boundary (singular) fit: see ?isSingular\n",
      "\n",
      "boundary (singular) fit: see ?isSingular\n",
      "\n"
     ]
    },
    {
     "name": "stdout",
     "output_type": "stream",
     "text": [
      "Bootstrap Progress:\n"
     ]
    },
    {
     "name": "stderr",
     "output_type": "stream",
     "text": [
      "boundary (singular) fit: see ?isSingular\n",
      "\n",
      "boundary (singular) fit: see ?isSingular\n",
      "\n",
      "boundary (singular) fit: see ?isSingular\n",
      "\n",
      "boundary (singular) fit: see ?isSingular\n",
      "\n"
     ]
    },
    {
     "name": "stdout",
     "output_type": "stream",
     "text": [
      "Bootstrap Progress:\n"
     ]
    },
    {
     "name": "stderr",
     "output_type": "stream",
     "text": [
      "boundary (singular) fit: see ?isSingular\n",
      "\n",
      "boundary (singular) fit: see ?isSingular\n",
      "\n"
     ]
    },
    {
     "name": "stdout",
     "output_type": "stream",
     "text": [
      "Bootstrap Progress:\n",
      "Bootstrap Progress:\n"
     ]
    },
    {
     "name": "stderr",
     "output_type": "stream",
     "text": [
      "boundary (singular) fit: see ?isSingular\n",
      "\n"
     ]
    },
    {
     "name": "stdout",
     "output_type": "stream",
     "text": [
      "Bootstrap Progress:\n"
     ]
    },
    {
     "name": "stderr",
     "output_type": "stream",
     "text": [
      "boundary (singular) fit: see ?isSingular\n",
      "\n",
      "boundary (singular) fit: see ?isSingular\n",
      "\n",
      "boundary (singular) fit: see ?isSingular\n",
      "\n",
      "boundary (singular) fit: see ?isSingular\n",
      "\n",
      "boundary (singular) fit: see ?isSingular\n",
      "\n"
     ]
    },
    {
     "name": "stdout",
     "output_type": "stream",
     "text": [
      "Bootstrap Progress:\n",
      "Bootstrap Progress:\n",
      "Bootstrap Progress:\n"
     ]
    },
    {
     "name": "stderr",
     "output_type": "stream",
     "text": [
      "boundary (singular) fit: see ?isSingular\n",
      "\n",
      "boundary (singular) fit: see ?isSingular\n",
      "\n"
     ]
    },
    {
     "name": "stdout",
     "output_type": "stream",
     "text": [
      "Bootstrap Progress:\n"
     ]
    },
    {
     "name": "stderr",
     "output_type": "stream",
     "text": [
      "boundary (singular) fit: see ?isSingular\n",
      "\n",
      "boundary (singular) fit: see ?isSingular\n",
      "\n",
      "boundary (singular) fit: see ?isSingular\n",
      "\n",
      "boundary (singular) fit: see ?isSingular\n",
      "\n",
      "boundary (singular) fit: see ?isSingular\n",
      "\n"
     ]
    },
    {
     "name": "stdout",
     "output_type": "stream",
     "text": [
      "Bootstrap Progress:\n",
      "Bootstrap Progress:\n"
     ]
    },
    {
     "name": "stderr",
     "output_type": "stream",
     "text": [
      "boundary (singular) fit: see ?isSingular\n",
      "\n"
     ]
    },
    {
     "name": "stdout",
     "output_type": "stream",
     "text": [
      "Bootstrap Progress:\n"
     ]
    },
    {
     "name": "stderr",
     "output_type": "stream",
     "text": [
      "boundary (singular) fit: see ?isSingular\n",
      "\n",
      "boundary (singular) fit: see ?isSingular\n",
      "\n"
     ]
    },
    {
     "name": "stdout",
     "output_type": "stream",
     "text": [
      "Bootstrap Progress:\n"
     ]
    },
    {
     "name": "stderr",
     "output_type": "stream",
     "text": [
      "boundary (singular) fit: see ?isSingular\n",
      "\n",
      "boundary (singular) fit: see ?isSingular\n",
      "\n",
      "boundary (singular) fit: see ?isSingular\n",
      "\n",
      "boundary (singular) fit: see ?isSingular\n",
      "\n"
     ]
    },
    {
     "name": "stdout",
     "output_type": "stream",
     "text": [
      "Bootstrap Progress:\n",
      "Bootstrap Progress:\n"
     ]
    },
    {
     "name": "stderr",
     "output_type": "stream",
     "text": [
      "boundary (singular) fit: see ?isSingular\n",
      "\n"
     ]
    },
    {
     "name": "stdout",
     "output_type": "stream",
     "text": [
      "Bootstrap Progress:\n"
     ]
    },
    {
     "name": "stderr",
     "output_type": "stream",
     "text": [
      "boundary (singular) fit: see ?isSingular\n",
      "\n",
      "boundary (singular) fit: see ?isSingular\n",
      "\n"
     ]
    },
    {
     "name": "stdout",
     "output_type": "stream",
     "text": [
      "Bootstrap Progress:\n"
     ]
    },
    {
     "name": "stderr",
     "output_type": "stream",
     "text": [
      "boundary (singular) fit: see ?isSingular\n",
      "\n",
      "boundary (singular) fit: see ?isSingular\n",
      "\n",
      "boundary (singular) fit: see ?isSingular\n",
      "\n",
      "boundary (singular) fit: see ?isSingular\n",
      "\n",
      "boundary (singular) fit: see ?isSingular\n",
      "\n",
      "boundary (singular) fit: see ?isSingular\n",
      "\n"
     ]
    },
    {
     "name": "stdout",
     "output_type": "stream",
     "text": [
      "Bootstrap Progress:\n",
      "Bootstrap Progress:\n",
      "Bootstrap Progress:\n",
      "Bootstrap Progress:\n",
      "Bootstrap Progress:\n",
      "Bootstrap Progress:\n",
      "Bootstrap Progress:\n",
      "Bootstrap Progress:\n",
      "Bootstrap Progress:\n",
      "Bootstrap Progress:\n",
      "Bootstrap Progress:\n",
      "Bootstrap Progress:\n",
      "Bootstrap Progress:\n",
      "Bootstrap Progress:\n",
      "Bootstrap Progress:\n",
      "Bootstrap Progress:\n",
      "Bootstrap Progress:\n",
      "Bootstrap Progress:\n",
      "Bootstrap Progress:\n",
      "Bootstrap Progress:\n",
      "Bootstrap Progress:\n",
      "Bootstrap Progress:\n",
      "Bootstrap Progress:\n",
      "Bootstrap Progress:\n",
      "Bootstrap Progress:\n",
      "Bootstrap Progress:\n",
      "Bootstrap Progress:\n",
      "Bootstrap Progress:\n",
      "Bootstrap Progress:\n",
      "Bootstrap Progress:\n",
      "Bootstrap Progress:\n",
      "Bootstrap Progress:\n",
      "Bootstrap Progress:\n",
      "Bootstrap Progress:\n",
      "Bootstrap Progress:\n",
      "Bootstrap Progress:\n",
      "Bootstrap Progress:\n",
      "Bootstrap Progress:\n",
      "Bootstrap Progress:\n",
      "Bootstrap Progress:\n",
      "Bootstrap Progress:\n",
      "Bootstrap Progress:\n",
      "Bootstrap Progress:\n",
      "Bootstrap Progress:\n",
      "Bootstrap Progress:\n",
      "Bootstrap Progress:\n"
     ]
    },
    {
     "name": "stderr",
     "output_type": "stream",
     "text": [
      "boundary (singular) fit: see ?isSingular\n",
      "\n"
     ]
    },
    {
     "name": "stdout",
     "output_type": "stream",
     "text": [
      "Bootstrap Progress:\n",
      "Bootstrap Progress:\n",
      "Bootstrap Progress:\n",
      "Bootstrap Progress:\n",
      "Bootstrap Progress:\n",
      "Bootstrap Progress:\n",
      "Bootstrap Progress:\n",
      "Bootstrap Progress:\n",
      "Bootstrap Progress:\n",
      "Bootstrap Progress:\n",
      "Bootstrap Progress:\n",
      "Bootstrap Progress:\n",
      "Bootstrap Progress:\n",
      "Bootstrap Progress:\n",
      "Bootstrap Progress:\n",
      "Bootstrap Progress:\n"
     ]
    },
    {
     "name": "stderr",
     "output_type": "stream",
     "text": [
      "boundary (singular) fit: see ?isSingular\n",
      "\n",
      "boundary (singular) fit: see ?isSingular\n",
      "\n"
     ]
    },
    {
     "name": "stdout",
     "output_type": "stream",
     "text": [
      "Bootstrap Progress:\n",
      "Bootstrap Progress:\n",
      "Bootstrap Progress:\n",
      "Bootstrap Progress:\n"
     ]
    },
    {
     "name": "stderr",
     "output_type": "stream",
     "text": [
      "boundary (singular) fit: see ?isSingular\n",
      "\n"
     ]
    },
    {
     "name": "stdout",
     "output_type": "stream",
     "text": [
      "Bootstrap Progress:\n",
      "Bootstrap Progress:\n"
     ]
    },
    {
     "name": "stderr",
     "output_type": "stream",
     "text": [
      "boundary (singular) fit: see ?isSingular\n",
      "\n",
      "boundary (singular) fit: see ?isSingular\n",
      "\n"
     ]
    },
    {
     "name": "stdout",
     "output_type": "stream",
     "text": [
      "Bootstrap Progress:\n",
      "Bootstrap Progress:\n"
     ]
    },
    {
     "name": "stderr",
     "output_type": "stream",
     "text": [
      "boundary (singular) fit: see ?isSingular\n",
      "\n",
      "boundary (singular) fit: see ?isSingular\n",
      "\n"
     ]
    },
    {
     "name": "stdout",
     "output_type": "stream",
     "text": [
      "Bootstrap Progress:\n",
      "Bootstrap Progress:\n",
      "Bootstrap Progress:\n"
     ]
    },
    {
     "name": "stderr",
     "output_type": "stream",
     "text": [
      "boundary (singular) fit: see ?isSingular\n",
      "\n",
      "boundary (singular) fit: see ?isSingular\n",
      "\n"
     ]
    },
    {
     "name": "stdout",
     "output_type": "stream",
     "text": [
      "Bootstrap Progress:\n"
     ]
    },
    {
     "name": "stderr",
     "output_type": "stream",
     "text": [
      "boundary (singular) fit: see ?isSingular\n",
      "\n",
      "boundary (singular) fit: see ?isSingular\n",
      "\n"
     ]
    },
    {
     "name": "stdout",
     "output_type": "stream",
     "text": [
      "Bootstrap Progress:\n",
      "Bootstrap Progress:\n"
     ]
    },
    {
     "name": "stderr",
     "output_type": "stream",
     "text": [
      "boundary (singular) fit: see ?isSingular\n",
      "\n",
      "boundary (singular) fit: see ?isSingular\n",
      "\n",
      "boundary (singular) fit: see ?isSingular\n",
      "\n"
     ]
    },
    {
     "name": "stdout",
     "output_type": "stream",
     "text": [
      "Bootstrap Progress:\n"
     ]
    },
    {
     "name": "stderr",
     "output_type": "stream",
     "text": [
      "boundary (singular) fit: see ?isSingular\n",
      "\n",
      "boundary (singular) fit: see ?isSingular\n",
      "\n"
     ]
    },
    {
     "name": "stdout",
     "output_type": "stream",
     "text": [
      "Bootstrap Progress:\n"
     ]
    },
    {
     "name": "stderr",
     "output_type": "stream",
     "text": [
      "boundary (singular) fit: see ?isSingular\n",
      "\n",
      "boundary (singular) fit: see ?isSingular\n",
      "\n",
      "boundary (singular) fit: see ?isSingular\n",
      "\n"
     ]
    },
    {
     "name": "stdout",
     "output_type": "stream",
     "text": [
      "Bootstrap Progress:\n",
      "Bootstrap Progress:\n"
     ]
    },
    {
     "name": "stderr",
     "output_type": "stream",
     "text": [
      "boundary (singular) fit: see ?isSingular\n",
      "\n",
      "boundary (singular) fit: see ?isSingular\n",
      "\n",
      "boundary (singular) fit: see ?isSingular\n",
      "\n",
      "boundary (singular) fit: see ?isSingular\n",
      "\n"
     ]
    },
    {
     "name": "stdout",
     "output_type": "stream",
     "text": [
      "Bootstrap Progress:\n",
      "Bootstrap Progress:\n"
     ]
    },
    {
     "name": "stderr",
     "output_type": "stream",
     "text": [
      "boundary (singular) fit: see ?isSingular\n",
      "\n"
     ]
    },
    {
     "name": "stdout",
     "output_type": "stream",
     "text": [
      "Bootstrap Progress:\n"
     ]
    },
    {
     "name": "stderr",
     "output_type": "stream",
     "text": [
      "boundary (singular) fit: see ?isSingular\n",
      "\n",
      "boundary (singular) fit: see ?isSingular\n",
      "\n"
     ]
    },
    {
     "name": "stdout",
     "output_type": "stream",
     "text": [
      "Bootstrap Progress:\n"
     ]
    },
    {
     "name": "stderr",
     "output_type": "stream",
     "text": [
      "boundary (singular) fit: see ?isSingular\n",
      "\n",
      "boundary (singular) fit: see ?isSingular\n",
      "\n",
      "boundary (singular) fit: see ?isSingular\n",
      "\n",
      "boundary (singular) fit: see ?isSingular\n",
      "\n",
      "boundary (singular) fit: see ?isSingular\n",
      "\n"
     ]
    },
    {
     "name": "stdout",
     "output_type": "stream",
     "text": [
      "Bootstrap Progress:\n",
      "Bootstrap Progress:\n"
     ]
    },
    {
     "name": "stderr",
     "output_type": "stream",
     "text": [
      "boundary (singular) fit: see ?isSingular\n",
      "\n",
      "boundary (singular) fit: see ?isSingular\n",
      "\n",
      "boundary (singular) fit: see ?isSingular\n",
      "\n",
      "boundary (singular) fit: see ?isSingular\n",
      "\n"
     ]
    },
    {
     "name": "stdout",
     "output_type": "stream",
     "text": [
      "Bootstrap Progress:\n"
     ]
    },
    {
     "name": "stderr",
     "output_type": "stream",
     "text": [
      "boundary (singular) fit: see ?isSingular\n",
      "\n",
      "boundary (singular) fit: see ?isSingular\n",
      "\n",
      "boundary (singular) fit: see ?isSingular\n",
      "\n"
     ]
    },
    {
     "name": "stdout",
     "output_type": "stream",
     "text": [
      "Bootstrap Progress:\n"
     ]
    },
    {
     "name": "stderr",
     "output_type": "stream",
     "text": [
      "boundary (singular) fit: see ?isSingular\n",
      "\n",
      "boundary (singular) fit: see ?isSingular\n",
      "\n",
      "boundary (singular) fit: see ?isSingular\n",
      "\n"
     ]
    },
    {
     "name": "stdout",
     "output_type": "stream",
     "text": [
      "Bootstrap Progress:\n"
     ]
    },
    {
     "name": "stderr",
     "output_type": "stream",
     "text": [
      "boundary (singular) fit: see ?isSingular\n",
      "\n"
     ]
    },
    {
     "name": "stdout",
     "output_type": "stream",
     "text": [
      "Bootstrap Progress:\n",
      "Bootstrap Progress:\n"
     ]
    },
    {
     "name": "stderr",
     "output_type": "stream",
     "text": [
      "boundary (singular) fit: see ?isSingular\n",
      "\n",
      "boundary (singular) fit: see ?isSingular\n",
      "\n"
     ]
    },
    {
     "name": "stdout",
     "output_type": "stream",
     "text": [
      "Bootstrap Progress:\n"
     ]
    },
    {
     "name": "stderr",
     "output_type": "stream",
     "text": [
      "boundary (singular) fit: see ?isSingular\n",
      "\n",
      "boundary (singular) fit: see ?isSingular\n",
      "\n",
      "boundary (singular) fit: see ?isSingular\n",
      "\n",
      "boundary (singular) fit: see ?isSingular\n",
      "\n",
      "boundary (singular) fit: see ?isSingular\n",
      "\n"
     ]
    },
    {
     "name": "stdout",
     "output_type": "stream",
     "text": [
      "Bootstrap Progress:\n",
      "Bootstrap Progress:\n",
      "Bootstrap Progress:\n",
      "Bootstrap Progress:\n"
     ]
    },
    {
     "name": "stderr",
     "output_type": "stream",
     "text": [
      "boundary (singular) fit: see ?isSingular\n",
      "\n"
     ]
    },
    {
     "name": "stdout",
     "output_type": "stream",
     "text": [
      "Bootstrap Progress:\n",
      "Bootstrap Progress:\n",
      "Bootstrap Progress:\n"
     ]
    },
    {
     "name": "stderr",
     "output_type": "stream",
     "text": [
      "boundary (singular) fit: see ?isSingular\n",
      "\n"
     ]
    },
    {
     "name": "stdout",
     "output_type": "stream",
     "text": [
      "Bootstrap Progress:\n"
     ]
    },
    {
     "name": "stderr",
     "output_type": "stream",
     "text": [
      "boundary (singular) fit: see ?isSingular\n",
      "\n",
      "boundary (singular) fit: see ?isSingular\n",
      "\n",
      "boundary (singular) fit: see ?isSingular\n",
      "\n",
      "boundary (singular) fit: see ?isSingular\n",
      "\n",
      "boundary (singular) fit: see ?isSingular\n",
      "\n",
      "boundary (singular) fit: see ?isSingular\n",
      "\n"
     ]
    },
    {
     "name": "stdout",
     "output_type": "stream",
     "text": [
      "Bootstrap Progress:\n",
      "Bootstrap Progress:\n",
      "Bootstrap Progress:\n"
     ]
    },
    {
     "name": "stderr",
     "output_type": "stream",
     "text": [
      "boundary (singular) fit: see ?isSingular\n",
      "\n",
      "boundary (singular) fit: see ?isSingular\n",
      "\n",
      "boundary (singular) fit: see ?isSingular\n",
      "\n",
      "boundary (singular) fit: see ?isSingular\n",
      "\n"
     ]
    },
    {
     "name": "stdout",
     "output_type": "stream",
     "text": [
      "Bootstrap Progress:\n"
     ]
    },
    {
     "name": "stderr",
     "output_type": "stream",
     "text": [
      "boundary (singular) fit: see ?isSingular\n",
      "\n",
      "boundary (singular) fit: see ?isSingular\n",
      "\n",
      "boundary (singular) fit: see ?isSingular\n",
      "\n",
      "boundary (singular) fit: see ?isSingular\n",
      "\n",
      "boundary (singular) fit: see ?isSingular\n",
      "\n",
      "boundary (singular) fit: see ?isSingular\n",
      "\n",
      "boundary (singular) fit: see ?isSingular\n",
      "\n"
     ]
    },
    {
     "name": "stdout",
     "output_type": "stream",
     "text": [
      "Bootstrap Progress:\n"
     ]
    },
    {
     "name": "stderr",
     "output_type": "stream",
     "text": [
      "boundary (singular) fit: see ?isSingular\n",
      "\n"
     ]
    },
    {
     "name": "stdout",
     "output_type": "stream",
     "text": [
      "Bootstrap Progress:\n",
      "Bootstrap Progress:\n"
     ]
    },
    {
     "name": "stderr",
     "output_type": "stream",
     "text": [
      "boundary (singular) fit: see ?isSingular\n",
      "\n",
      "boundary (singular) fit: see ?isSingular\n",
      "\n"
     ]
    },
    {
     "name": "stdout",
     "output_type": "stream",
     "text": [
      "Bootstrap Progress:\n"
     ]
    },
    {
     "name": "stderr",
     "output_type": "stream",
     "text": [
      "boundary (singular) fit: see ?isSingular\n",
      "\n",
      "boundary (singular) fit: see ?isSingular\n",
      "\n",
      "boundary (singular) fit: see ?isSingular\n",
      "\n",
      "boundary (singular) fit: see ?isSingular\n",
      "\n",
      "boundary (singular) fit: see ?isSingular\n",
      "\n",
      "boundary (singular) fit: see ?isSingular\n",
      "\n"
     ]
    },
    {
     "name": "stdout",
     "output_type": "stream",
     "text": [
      "Bootstrap Progress:\n",
      "Bootstrap Progress:\n",
      "Bootstrap Progress:\n"
     ]
    },
    {
     "name": "stderr",
     "output_type": "stream",
     "text": [
      "boundary (singular) fit: see ?isSingular\n",
      "\n"
     ]
    },
    {
     "name": "stdout",
     "output_type": "stream",
     "text": [
      "Bootstrap Progress:\n"
     ]
    },
    {
     "name": "stderr",
     "output_type": "stream",
     "text": [
      "boundary (singular) fit: see ?isSingular\n",
      "\n",
      "boundary (singular) fit: see ?isSingular\n",
      "\n"
     ]
    },
    {
     "name": "stdout",
     "output_type": "stream",
     "text": [
      "Bootstrap Progress:\n"
     ]
    },
    {
     "name": "stderr",
     "output_type": "stream",
     "text": [
      "boundary (singular) fit: see ?isSingular\n",
      "\n",
      "boundary (singular) fit: see ?isSingular\n",
      "\n"
     ]
    },
    {
     "name": "stdout",
     "output_type": "stream",
     "text": [
      "Bootstrap Progress:\n",
      "Bootstrap Progress:\n"
     ]
    },
    {
     "name": "stderr",
     "output_type": "stream",
     "text": [
      "boundary (singular) fit: see ?isSingular\n",
      "\n",
      "boundary (singular) fit: see ?isSingular\n",
      "\n"
     ]
    },
    {
     "name": "stdout",
     "output_type": "stream",
     "text": [
      "Bootstrap Progress:\n"
     ]
    },
    {
     "name": "stderr",
     "output_type": "stream",
     "text": [
      "boundary (singular) fit: see ?isSingular\n",
      "\n",
      "boundary (singular) fit: see ?isSingular\n",
      "\n",
      "boundary (singular) fit: see ?isSingular\n",
      "\n",
      "boundary (singular) fit: see ?isSingular\n",
      "\n",
      "boundary (singular) fit: see ?isSingular\n",
      "\n",
      "boundary (singular) fit: see ?isSingular\n",
      "\n"
     ]
    },
    {
     "name": "stdout",
     "output_type": "stream",
     "text": [
      "Bootstrap Progress:\n",
      "Bootstrap Progress:\n",
      "Bootstrap Progress:\n"
     ]
    },
    {
     "name": "stderr",
     "output_type": "stream",
     "text": [
      "boundary (singular) fit: see ?isSingular\n",
      "\n",
      "boundary (singular) fit: see ?isSingular\n",
      "\n",
      "boundary (singular) fit: see ?isSingular\n",
      "\n"
     ]
    },
    {
     "name": "stdout",
     "output_type": "stream",
     "text": [
      "Bootstrap Progress:\n"
     ]
    },
    {
     "name": "stderr",
     "output_type": "stream",
     "text": [
      "boundary (singular) fit: see ?isSingular\n",
      "\n",
      "boundary (singular) fit: see ?isSingular\n",
      "\n",
      "boundary (singular) fit: see ?isSingular\n",
      "\n",
      "boundary (singular) fit: see ?isSingular\n",
      "\n"
     ]
    },
    {
     "name": "stdout",
     "output_type": "stream",
     "text": [
      "Bootstrap Progress:\n",
      "Bootstrap Progress:\n",
      "Bootstrap Progress:\n"
     ]
    },
    {
     "name": "stderr",
     "output_type": "stream",
     "text": [
      "boundary (singular) fit: see ?isSingular\n",
      "\n",
      "boundary (singular) fit: see ?isSingular\n",
      "\n"
     ]
    },
    {
     "name": "stdout",
     "output_type": "stream",
     "text": [
      "Bootstrap Progress:\n"
     ]
    },
    {
     "name": "stderr",
     "output_type": "stream",
     "text": [
      "boundary (singular) fit: see ?isSingular\n",
      "\n",
      "boundary (singular) fit: see ?isSingular\n",
      "\n",
      "boundary (singular) fit: see ?isSingular\n",
      "\n"
     ]
    },
    {
     "name": "stdout",
     "output_type": "stream",
     "text": [
      "Bootstrap Progress:\n"
     ]
    },
    {
     "name": "stderr",
     "output_type": "stream",
     "text": [
      "boundary (singular) fit: see ?isSingular\n",
      "\n",
      "boundary (singular) fit: see ?isSingular\n",
      "\n"
     ]
    },
    {
     "name": "stdout",
     "output_type": "stream",
     "text": [
      "Bootstrap Progress:\n",
      "Bootstrap Progress:\n"
     ]
    },
    {
     "name": "stderr",
     "output_type": "stream",
     "text": [
      "boundary (singular) fit: see ?isSingular\n",
      "\n",
      "boundary (singular) fit: see ?isSingular\n",
      "\n",
      "boundary (singular) fit: see ?isSingular\n",
      "\n"
     ]
    },
    {
     "name": "stdout",
     "output_type": "stream",
     "text": [
      "Bootstrap Progress:\n"
     ]
    },
    {
     "name": "stderr",
     "output_type": "stream",
     "text": [
      "boundary (singular) fit: see ?isSingular\n",
      "\n",
      "boundary (singular) fit: see ?isSingular\n",
      "\n",
      "boundary (singular) fit: see ?isSingular\n",
      "\n",
      "boundary (singular) fit: see ?isSingular\n",
      "\n"
     ]
    },
    {
     "name": "stdout",
     "output_type": "stream",
     "text": [
      "Bootstrap Progress:\n"
     ]
    },
    {
     "name": "stderr",
     "output_type": "stream",
     "text": [
      "boundary (singular) fit: see ?isSingular\n",
      "\n"
     ]
    },
    {
     "name": "stdout",
     "output_type": "stream",
     "text": [
      "Bootstrap Progress:\n"
     ]
    },
    {
     "name": "stderr",
     "output_type": "stream",
     "text": [
      "boundary (singular) fit: see ?isSingular\n",
      "\n"
     ]
    },
    {
     "name": "stdout",
     "output_type": "stream",
     "text": [
      "Bootstrap Progress:\n",
      "Bootstrap Progress:\n",
      "Bootstrap Progress:\n",
      "Bootstrap Progress:\n",
      "Bootstrap Progress:\n",
      "Bootstrap Progress:\n",
      "Bootstrap Progress:\n",
      "Bootstrap Progress:\n",
      "Bootstrap Progress:\n",
      "Bootstrap Progress:\n",
      "Bootstrap Progress:\n",
      "Bootstrap Progress:\n",
      "Bootstrap Progress:\n",
      "Bootstrap Progress:\n",
      "Bootstrap Progress:\n",
      "Bootstrap Progress:\n",
      "Bootstrap Progress:\n",
      "Bootstrap Progress:\n",
      "Bootstrap Progress:\n",
      "Bootstrap Progress:\n",
      "Bootstrap Progress:\n",
      "Bootstrap Progress:\n",
      "Bootstrap Progress:\n",
      "Bootstrap Progress:\n",
      "Bootstrap Progress:\n",
      "Bootstrap Progress:\n",
      "Bootstrap Progress:\n",
      "Bootstrap Progress:\n",
      "Bootstrap Progress:\n",
      "Bootstrap Progress:\n",
      "Bootstrap Progress:\n",
      "Bootstrap Progress:\n",
      "Bootstrap Progress:\n",
      "Bootstrap Progress:\n",
      "Bootstrap Progress:\n",
      "Bootstrap Progress:\n",
      "Bootstrap Progress:\n",
      "Bootstrap Progress:\n",
      "Bootstrap Progress:\n",
      "Bootstrap Progress:\n",
      "Bootstrap Progress:\n",
      "Bootstrap Progress:\n",
      "Bootstrap Progress:\n",
      "Bootstrap Progress:\n",
      "Bootstrap Progress:\n",
      "Bootstrap Progress:\n",
      "Bootstrap Progress:\n",
      "Bootstrap Progress:\n",
      "Bootstrap Progress:\n",
      "Bootstrap Progress:\n",
      "Bootstrap Progress:\n",
      "Bootstrap Progress:\n",
      "Bootstrap Progress:\n",
      "Bootstrap Progress:\n",
      "Bootstrap Progress:\n",
      "Bootstrap Progress:\n",
      "Bootstrap Progress:\n",
      "Bootstrap Progress:\n",
      "Bootstrap Progress:\n",
      "Bootstrap Progress:\n",
      "Bootstrap Progress:\n",
      "Bootstrap Progress:\n",
      "Bootstrap Progress:\n",
      "Bootstrap Progress:\n",
      "Bootstrap Progress:\n",
      "Bootstrap Progress:\n",
      "Bootstrap Progress:\n",
      "Bootstrap Progress:\n",
      "Bootstrap Progress:\n",
      "Bootstrap Progress:\n",
      "Bootstrap Progress:\n",
      "Bootstrap Progress:\n",
      "Bootstrap Progress:\n",
      "Bootstrap Progress:\n"
     ]
    },
    {
     "name": "stderr",
     "output_type": "stream",
     "text": [
      "boundary (singular) fit: see ?isSingular\n",
      "\n"
     ]
    },
    {
     "name": "stdout",
     "output_type": "stream",
     "text": [
      "Bootstrap Progress:\n",
      "Bootstrap Progress:\n",
      "Bootstrap Progress:\n",
      "Bootstrap Progress:\n"
     ]
    },
    {
     "name": "stderr",
     "output_type": "stream",
     "text": [
      "boundary (singular) fit: see ?isSingular\n",
      "\n"
     ]
    },
    {
     "name": "stdout",
     "output_type": "stream",
     "text": [
      "Bootstrap Progress:\n",
      "Bootstrap Progress:\n",
      "Bootstrap Progress:\n",
      "Bootstrap Progress:\n"
     ]
    },
    {
     "name": "stderr",
     "output_type": "stream",
     "text": [
      "boundary (singular) fit: see ?isSingular\n",
      "\n",
      "boundary (singular) fit: see ?isSingular\n",
      "\n"
     ]
    },
    {
     "name": "stdout",
     "output_type": "stream",
     "text": [
      "Bootstrap Progress:\n",
      "Bootstrap Progress:\n",
      "Bootstrap Progress:\n",
      "Bootstrap Progress:\n"
     ]
    },
    {
     "name": "stderr",
     "output_type": "stream",
     "text": [
      "boundary (singular) fit: see ?isSingular\n",
      "\n",
      "boundary (singular) fit: see ?isSingular\n",
      "\n"
     ]
    },
    {
     "name": "stdout",
     "output_type": "stream",
     "text": [
      "Bootstrap Progress:\n",
      "Bootstrap Progress:\n",
      "Bootstrap Progress:\n",
      "Bootstrap Progress:\n",
      "Bootstrap Progress:\n",
      "Bootstrap Progress:\n",
      "Bootstrap Progress:\n",
      "Bootstrap Progress:\n"
     ]
    },
    {
     "name": "stderr",
     "output_type": "stream",
     "text": [
      "boundary (singular) fit: see ?isSingular\n",
      "\n"
     ]
    },
    {
     "name": "stdout",
     "output_type": "stream",
     "text": [
      "Bootstrap Progress:\n",
      "Bootstrap Progress:\n",
      "Bootstrap Progress:\n",
      "Bootstrap Progress:\n"
     ]
    },
    {
     "name": "stderr",
     "output_type": "stream",
     "text": [
      "boundary (singular) fit: see ?isSingular\n",
      "\n",
      "boundary (singular) fit: see ?isSingular\n",
      "\n"
     ]
    },
    {
     "name": "stdout",
     "output_type": "stream",
     "text": [
      "Bootstrap Progress:\n"
     ]
    },
    {
     "name": "stderr",
     "output_type": "stream",
     "text": [
      "boundary (singular) fit: see ?isSingular\n",
      "\n"
     ]
    },
    {
     "name": "stdout",
     "output_type": "stream",
     "text": [
      "Bootstrap Progress:\n",
      "Bootstrap Progress:\n",
      "Bootstrap Progress:\n"
     ]
    },
    {
     "name": "stderr",
     "output_type": "stream",
     "text": [
      "boundary (singular) fit: see ?isSingular\n",
      "\n"
     ]
    },
    {
     "name": "stdout",
     "output_type": "stream",
     "text": [
      "Bootstrap Progress:\n",
      "Bootstrap Progress:\n",
      "Bootstrap Progress:\n",
      "Bootstrap Progress:\n"
     ]
    },
    {
     "name": "stderr",
     "output_type": "stream",
     "text": [
      "boundary (singular) fit: see ?isSingular\n",
      "\n"
     ]
    },
    {
     "name": "stdout",
     "output_type": "stream",
     "text": [
      "Bootstrap Progress:\n",
      "Bootstrap Progress:\n",
      "Bootstrap Progress:\n",
      "Bootstrap Progress:\n",
      "Bootstrap Progress:\n",
      "Bootstrap Progress:\n",
      "Bootstrap Progress:\n"
     ]
    },
    {
     "name": "stderr",
     "output_type": "stream",
     "text": [
      "boundary (singular) fit: see ?isSingular\n",
      "\n"
     ]
    },
    {
     "name": "stdout",
     "output_type": "stream",
     "text": [
      "Bootstrap Progress:\n"
     ]
    },
    {
     "name": "stderr",
     "output_type": "stream",
     "text": [
      "boundary (singular) fit: see ?isSingular\n",
      "\n",
      "boundary (singular) fit: see ?isSingular\n",
      "\n"
     ]
    },
    {
     "name": "stdout",
     "output_type": "stream",
     "text": [
      "Bootstrap Progress:\n"
     ]
    },
    {
     "name": "stderr",
     "output_type": "stream",
     "text": [
      "boundary (singular) fit: see ?isSingular\n",
      "\n"
     ]
    },
    {
     "name": "stdout",
     "output_type": "stream",
     "text": [
      "Bootstrap Progress:\n",
      "Bootstrap Progress:\n",
      "Bootstrap Progress:\n"
     ]
    },
    {
     "name": "stderr",
     "output_type": "stream",
     "text": [
      "boundary (singular) fit: see ?isSingular\n",
      "\n",
      "boundary (singular) fit: see ?isSingular\n",
      "\n",
      "boundary (singular) fit: see ?isSingular\n",
      "\n"
     ]
    },
    {
     "name": "stdout",
     "output_type": "stream",
     "text": [
      "Bootstrap Progress:\n",
      "Bootstrap Progress:\n",
      "Bootstrap Progress:\n",
      "Bootstrap Progress:\n"
     ]
    },
    {
     "name": "stderr",
     "output_type": "stream",
     "text": [
      "boundary (singular) fit: see ?isSingular\n",
      "\n",
      "boundary (singular) fit: see ?isSingular\n",
      "\n"
     ]
    },
    {
     "name": "stdout",
     "output_type": "stream",
     "text": [
      "Bootstrap Progress:\n",
      "Bootstrap Progress:\n",
      "Bootstrap Progress:\n",
      "Bootstrap Progress:\n"
     ]
    },
    {
     "name": "stderr",
     "output_type": "stream",
     "text": [
      "boundary (singular) fit: see ?isSingular\n",
      "\n",
      "boundary (singular) fit: see ?isSingular\n",
      "\n",
      "boundary (singular) fit: see ?isSingular\n",
      "\n"
     ]
    },
    {
     "name": "stdout",
     "output_type": "stream",
     "text": [
      "Bootstrap Progress:\n",
      "Bootstrap Progress:\n",
      "Bootstrap Progress:\n",
      "Bootstrap Progress:\n",
      "Bootstrap Progress:\n",
      "Bootstrap Progress:\n",
      "Bootstrap Progress:\n",
      "Bootstrap Progress:\n",
      "Bootstrap Progress:\n",
      "Bootstrap Progress:\n",
      "Bootstrap Progress:\n",
      "Bootstrap Progress:\n",
      "Bootstrap Progress:\n",
      "Bootstrap Progress:\n",
      "Bootstrap Progress:\n",
      "Bootstrap Progress:\n",
      "Bootstrap Progress:\n",
      "Bootstrap Progress:\n",
      "Bootstrap Progress:\n",
      "Bootstrap Progress:\n",
      "Bootstrap Progress:\n",
      "Bootstrap Progress:\n",
      "Bootstrap Progress:\n",
      "Bootstrap Progress:\n",
      "Bootstrap Progress:\n",
      "Bootstrap Progress:\n",
      "Bootstrap Progress:\n",
      "Bootstrap Progress:\n",
      "Bootstrap Progress:\n",
      "Bootstrap Progress:\n",
      "Bootstrap Progress:\n",
      "Bootstrap Progress:\n",
      "Bootstrap Progress:\n",
      "Bootstrap Progress:\n",
      "Bootstrap Progress:\n",
      "Bootstrap Progress:\n",
      "Bootstrap Progress:\n",
      "Bootstrap Progress:\n",
      "Bootstrap Progress:\n",
      "Bootstrap Progress:\n",
      "Bootstrap Progress:\n",
      "Bootstrap Progress:\n",
      "Bootstrap Progress:\n",
      "Bootstrap Progress:\n",
      "Bootstrap Progress:\n",
      "Bootstrap Progress:\n",
      "Bootstrap Progress:\n",
      "Bootstrap Progress:\n",
      "Bootstrap Progress:\n",
      "Bootstrap Progress:\n",
      "Bootstrap Progress:\n",
      "Bootstrap Progress:\n",
      "Bootstrap Progress:\n",
      "Bootstrap Progress:\n",
      "Bootstrap Progress:\n",
      "Bootstrap Progress:\n",
      "Bootstrap Progress:\n",
      "Bootstrap Progress:\n",
      "Bootstrap Progress:\n",
      "Bootstrap Progress:\n",
      "Bootstrap Progress:\n",
      "Bootstrap Progress:\n",
      "Bootstrap Progress:\n",
      "Bootstrap Progress:\n",
      "Bootstrap Progress:\n"
     ]
    },
    {
     "name": "stderr",
     "output_type": "stream",
     "text": [
      "boundary (singular) fit: see ?isSingular\n",
      "\n"
     ]
    },
    {
     "name": "stdout",
     "output_type": "stream",
     "text": [
      "Bootstrap Progress:\n",
      "Bootstrap Progress:\n",
      "Bootstrap Progress:\n",
      "Bootstrap Progress:\n",
      "Bootstrap Progress:\n",
      "Bootstrap Progress:\n"
     ]
    },
    {
     "name": "stderr",
     "output_type": "stream",
     "text": [
      "boundary (singular) fit: see ?isSingular\n",
      "\n"
     ]
    },
    {
     "name": "stdout",
     "output_type": "stream",
     "text": [
      "Bootstrap Progress:\n",
      "Bootstrap Progress:\n",
      "Bootstrap Progress:\n",
      "Bootstrap Progress:\n",
      "Bootstrap Progress:\n"
     ]
    },
    {
     "name": "stderr",
     "output_type": "stream",
     "text": [
      "boundary (singular) fit: see ?isSingular\n",
      "\n",
      "boundary (singular) fit: see ?isSingular\n",
      "\n",
      "boundary (singular) fit: see ?isSingular\n",
      "\n"
     ]
    },
    {
     "name": "stdout",
     "output_type": "stream",
     "text": [
      "Bootstrap Progress:\n"
     ]
    },
    {
     "name": "stderr",
     "output_type": "stream",
     "text": [
      "boundary (singular) fit: see ?isSingular\n",
      "\n"
     ]
    },
    {
     "name": "stdout",
     "output_type": "stream",
     "text": [
      "Bootstrap Progress:\n",
      "Bootstrap Progress:\n"
     ]
    },
    {
     "name": "stderr",
     "output_type": "stream",
     "text": [
      "boundary (singular) fit: see ?isSingular\n",
      "\n"
     ]
    },
    {
     "name": "stdout",
     "output_type": "stream",
     "text": [
      "Bootstrap Progress:\n"
     ]
    },
    {
     "name": "stderr",
     "output_type": "stream",
     "text": [
      "boundary (singular) fit: see ?isSingular\n",
      "\n",
      "boundary (singular) fit: see ?isSingular\n",
      "\n",
      "boundary (singular) fit: see ?isSingular\n",
      "\n",
      "boundary (singular) fit: see ?isSingular\n",
      "\n"
     ]
    },
    {
     "name": "stdout",
     "output_type": "stream",
     "text": [
      "Bootstrap Progress:\n",
      "Bootstrap Progress:\n",
      "Bootstrap Progress:\n"
     ]
    },
    {
     "name": "stderr",
     "output_type": "stream",
     "text": [
      "boundary (singular) fit: see ?isSingular\n",
      "\n"
     ]
    },
    {
     "name": "stdout",
     "output_type": "stream",
     "text": [
      "Bootstrap Progress:\n"
     ]
    },
    {
     "name": "stderr",
     "output_type": "stream",
     "text": [
      "boundary (singular) fit: see ?isSingular\n",
      "\n",
      "boundary (singular) fit: see ?isSingular\n",
      "\n",
      "boundary (singular) fit: see ?isSingular\n",
      "\n",
      "boundary (singular) fit: see ?isSingular\n",
      "\n"
     ]
    },
    {
     "name": "stdout",
     "output_type": "stream",
     "text": [
      "Bootstrap Progress:\n",
      "Bootstrap Progress:\n",
      "Bootstrap Progress:\n",
      "Bootstrap Progress:\n"
     ]
    },
    {
     "name": "stderr",
     "output_type": "stream",
     "text": [
      "boundary (singular) fit: see ?isSingular\n",
      "\n",
      "boundary (singular) fit: see ?isSingular\n",
      "\n",
      "boundary (singular) fit: see ?isSingular\n",
      "\n"
     ]
    },
    {
     "name": "stdout",
     "output_type": "stream",
     "text": [
      "Bootstrap Progress:\n"
     ]
    },
    {
     "name": "stderr",
     "output_type": "stream",
     "text": [
      "boundary (singular) fit: see ?isSingular\n",
      "\n"
     ]
    },
    {
     "name": "stdout",
     "output_type": "stream",
     "text": [
      "Bootstrap Progress:\n",
      "Bootstrap Progress:\n",
      "Bootstrap Progress:\n"
     ]
    },
    {
     "name": "stderr",
     "output_type": "stream",
     "text": [
      "boundary (singular) fit: see ?isSingular\n",
      "\n",
      "boundary (singular) fit: see ?isSingular\n",
      "\n"
     ]
    },
    {
     "name": "stdout",
     "output_type": "stream",
     "text": [
      "Bootstrap Progress:\n",
      "Bootstrap Progress:\n",
      "Bootstrap Progress:\n"
     ]
    },
    {
     "name": "stderr",
     "output_type": "stream",
     "text": [
      "boundary (singular) fit: see ?isSingular\n",
      "\n"
     ]
    },
    {
     "name": "stdout",
     "output_type": "stream",
     "text": [
      "Bootstrap Progress:\n"
     ]
    },
    {
     "name": "stderr",
     "output_type": "stream",
     "text": [
      "boundary (singular) fit: see ?isSingular\n",
      "\n",
      "boundary (singular) fit: see ?isSingular\n",
      "\n",
      "boundary (singular) fit: see ?isSingular\n",
      "\n",
      "boundary (singular) fit: see ?isSingular\n",
      "\n"
     ]
    },
    {
     "name": "stdout",
     "output_type": "stream",
     "text": [
      "Bootstrap Progress:\n",
      "Bootstrap Progress:\n",
      "Bootstrap Progress:\n"
     ]
    },
    {
     "name": "stderr",
     "output_type": "stream",
     "text": [
      "boundary (singular) fit: see ?isSingular\n",
      "\n"
     ]
    },
    {
     "name": "stdout",
     "output_type": "stream",
     "text": [
      "Bootstrap Progress:\n"
     ]
    },
    {
     "name": "stderr",
     "output_type": "stream",
     "text": [
      "boundary (singular) fit: see ?isSingular\n",
      "\n",
      "boundary (singular) fit: see ?isSingular\n",
      "\n",
      "boundary (singular) fit: see ?isSingular\n",
      "\n",
      "boundary (singular) fit: see ?isSingular\n",
      "\n"
     ]
    },
    {
     "name": "stdout",
     "output_type": "stream",
     "text": [
      "Bootstrap Progress:\n",
      "Bootstrap Progress:\n",
      "Bootstrap Progress:\n",
      "Bootstrap Progress:\n"
     ]
    },
    {
     "name": "stderr",
     "output_type": "stream",
     "text": [
      "boundary (singular) fit: see ?isSingular\n",
      "\n"
     ]
    },
    {
     "name": "stdout",
     "output_type": "stream",
     "text": [
      "Bootstrap Progress:\n",
      "Bootstrap Progress:\n"
     ]
    },
    {
     "name": "stderr",
     "output_type": "stream",
     "text": [
      "boundary (singular) fit: see ?isSingular\n",
      "\n"
     ]
    },
    {
     "name": "stdout",
     "output_type": "stream",
     "text": [
      "Bootstrap Progress:\n",
      "Bootstrap Progress:\n"
     ]
    },
    {
     "name": "stderr",
     "output_type": "stream",
     "text": [
      "boundary (singular) fit: see ?isSingular\n",
      "\n",
      "boundary (singular) fit: see ?isSingular\n",
      "\n",
      "boundary (singular) fit: see ?isSingular\n",
      "\n",
      "boundary (singular) fit: see ?isSingular\n",
      "\n",
      "boundary (singular) fit: see ?isSingular\n",
      "\n",
      "boundary (singular) fit: see ?isSingular\n",
      "\n",
      "boundary (singular) fit: see ?isSingular\n",
      "\n"
     ]
    },
    {
     "name": "stdout",
     "output_type": "stream",
     "text": [
      "Bootstrap Progress:\n",
      "Bootstrap Progress:\n",
      "Bootstrap Progress:\n",
      "Bootstrap Progress:\n"
     ]
    },
    {
     "name": "stderr",
     "output_type": "stream",
     "text": [
      "boundary (singular) fit: see ?isSingular\n",
      "\n",
      "boundary (singular) fit: see ?isSingular\n",
      "\n"
     ]
    },
    {
     "name": "stdout",
     "output_type": "stream",
     "text": [
      "Bootstrap Progress:\n",
      "Bootstrap Progress:\n",
      "Bootstrap Progress:\n",
      "Bootstrap Progress:\n"
     ]
    },
    {
     "name": "stderr",
     "output_type": "stream",
     "text": [
      "boundary (singular) fit: see ?isSingular\n",
      "\n",
      "boundary (singular) fit: see ?isSingular\n",
      "\n",
      "boundary (singular) fit: see ?isSingular\n",
      "\n"
     ]
    },
    {
     "name": "stdout",
     "output_type": "stream",
     "text": [
      "Bootstrap Progress:\n"
     ]
    },
    {
     "name": "stderr",
     "output_type": "stream",
     "text": [
      "boundary (singular) fit: see ?isSingular\n",
      "\n"
     ]
    },
    {
     "name": "stdout",
     "output_type": "stream",
     "text": [
      "Bootstrap Progress:\n",
      "Bootstrap Progress:\n",
      "Bootstrap Progress:\n"
     ]
    },
    {
     "name": "stderr",
     "output_type": "stream",
     "text": [
      "boundary (singular) fit: see ?isSingular\n",
      "\n",
      "boundary (singular) fit: see ?isSingular\n",
      "\n",
      "boundary (singular) fit: see ?isSingular\n",
      "\n"
     ]
    },
    {
     "name": "stdout",
     "output_type": "stream",
     "text": [
      "Bootstrap Progress:\n",
      "Bootstrap Progress:\n",
      "Bootstrap Progress:\n"
     ]
    },
    {
     "name": "stderr",
     "output_type": "stream",
     "text": [
      "boundary (singular) fit: see ?isSingular\n",
      "\n"
     ]
    },
    {
     "name": "stdout",
     "output_type": "stream",
     "text": [
      "Bootstrap Progress:\n"
     ]
    },
    {
     "name": "stderr",
     "output_type": "stream",
     "text": [
      "boundary (singular) fit: see ?isSingular\n",
      "\n",
      "boundary (singular) fit: see ?isSingular\n",
      "\n",
      "boundary (singular) fit: see ?isSingular\n",
      "\n",
      "boundary (singular) fit: see ?isSingular\n",
      "\n",
      "boundary (singular) fit: see ?isSingular\n",
      "\n"
     ]
    },
    {
     "name": "stdout",
     "output_type": "stream",
     "text": [
      "Bootstrap Progress:\n",
      "Bootstrap Progress:\n",
      "Bootstrap Progress:\n",
      "Bootstrap Progress:\n"
     ]
    },
    {
     "name": "stderr",
     "output_type": "stream",
     "text": [
      "boundary (singular) fit: see ?isSingular\n",
      "\n"
     ]
    },
    {
     "name": "stdout",
     "output_type": "stream",
     "text": [
      "Bootstrap Progress:\n",
      "Bootstrap Progress:\n",
      "Bootstrap Progress:\n",
      "Bootstrap Progress:\n",
      "Bootstrap Progress:\n",
      "Bootstrap Progress:\n",
      "Bootstrap Progress:\n",
      "Bootstrap Progress:\n",
      "Bootstrap Progress:\n",
      "Bootstrap Progress:\n",
      "Bootstrap Progress:\n",
      "Bootstrap Progress:\n",
      "Bootstrap Progress:\n",
      "Bootstrap Progress:\n",
      "Bootstrap Progress:\n",
      "Bootstrap Progress:\n",
      "Bootstrap Progress:\n",
      "Bootstrap Progress:\n",
      "Bootstrap Progress:\n",
      "Bootstrap Progress:\n",
      "Bootstrap Progress:\n",
      "Bootstrap Progress:\n",
      "Bootstrap Progress:\n",
      "Bootstrap Progress:\n",
      "Bootstrap Progress:\n",
      "Bootstrap Progress:\n",
      "Bootstrap Progress:\n",
      "Bootstrap Progress:\n",
      "Bootstrap Progress:\n",
      "Bootstrap Progress:\n",
      "Bootstrap Progress:\n",
      "Bootstrap Progress:\n",
      "Bootstrap Progress:\n",
      "Bootstrap Progress:\n",
      "Bootstrap Progress:\n",
      "Bootstrap Progress:\n",
      "Bootstrap Progress:\n",
      "Bootstrap Progress:\n",
      "Bootstrap Progress:\n",
      "Bootstrap Progress:\n",
      "Bootstrap Progress:\n",
      "Bootstrap Progress:\n",
      "Bootstrap Progress:\n",
      "Bootstrap Progress:\n",
      "Bootstrap Progress:\n",
      "Bootstrap Progress:\n",
      "Bootstrap Progress:\n",
      "Bootstrap Progress:\n",
      "Bootstrap Progress:\n",
      "Bootstrap Progress:\n",
      "Bootstrap Progress:\n",
      "Bootstrap Progress:\n",
      "Bootstrap Progress:\n",
      "Bootstrap Progress:\n",
      "Bootstrap Progress:\n",
      "Bootstrap Progress:\n",
      "Bootstrap Progress:\n",
      "Bootstrap Progress:\n",
      "Bootstrap Progress:\n",
      "Bootstrap Progress:\n",
      "Bootstrap Progress:\n",
      "Bootstrap Progress:\n",
      "Bootstrap Progress:\n",
      "Bootstrap Progress:\n",
      "Bootstrap Progress:\n",
      "Bootstrap Progress:\n",
      "Bootstrap Progress:\n",
      "Bootstrap Progress:\n",
      "Bootstrap Progress:\n",
      "Bootstrap Progress:\n",
      "Bootstrap Progress:\n",
      "Bootstrap Progress:\n",
      "Bootstrap Progress:\n",
      "Bootstrap Progress:\n",
      "Bootstrap Progress:\n",
      "Bootstrap Progress:\n"
     ]
    },
    {
     "name": "stderr",
     "output_type": "stream",
     "text": [
      "boundary (singular) fit: see ?isSingular\n",
      "\n",
      "boundary (singular) fit: see ?isSingular\n",
      "\n",
      "boundary (singular) fit: see ?isSingular\n",
      "\n"
     ]
    },
    {
     "name": "stdout",
     "output_type": "stream",
     "text": [
      "Bootstrap Progress:\n",
      "Bootstrap Progress:\n",
      "Bootstrap Progress:\n",
      "Bootstrap Progress:\n"
     ]
    },
    {
     "name": "stderr",
     "output_type": "stream",
     "text": [
      "boundary (singular) fit: see ?isSingular\n",
      "\n",
      "boundary (singular) fit: see ?isSingular\n",
      "\n"
     ]
    },
    {
     "name": "stdout",
     "output_type": "stream",
     "text": [
      "Bootstrap Progress:\n",
      "Bootstrap Progress:\n",
      "Bootstrap Progress:\n",
      "Bootstrap Progress:\n"
     ]
    },
    {
     "name": "stderr",
     "output_type": "stream",
     "text": [
      "boundary (singular) fit: see ?isSingular\n",
      "\n",
      "boundary (singular) fit: see ?isSingular\n",
      "\n",
      "boundary (singular) fit: see ?isSingular\n",
      "\n"
     ]
    },
    {
     "name": "stdout",
     "output_type": "stream",
     "text": [
      "Bootstrap Progress:\n"
     ]
    },
    {
     "name": "stderr",
     "output_type": "stream",
     "text": [
      "boundary (singular) fit: see ?isSingular\n",
      "\n"
     ]
    },
    {
     "name": "stdout",
     "output_type": "stream",
     "text": [
      "Bootstrap Progress:\n",
      "Bootstrap Progress:\n",
      "Bootstrap Progress:\n",
      "Bootstrap Progress:\n",
      "Bootstrap Progress:\n",
      "Bootstrap Progress:\n",
      "Bootstrap Progress:\n"
     ]
    },
    {
     "name": "stderr",
     "output_type": "stream",
     "text": [
      "boundary (singular) fit: see ?isSingular\n",
      "\n",
      "boundary (singular) fit: see ?isSingular\n",
      "\n"
     ]
    },
    {
     "name": "stdout",
     "output_type": "stream",
     "text": [
      "Bootstrap Progress:\n"
     ]
    },
    {
     "name": "stderr",
     "output_type": "stream",
     "text": [
      "boundary (singular) fit: see ?isSingular\n",
      "\n"
     ]
    },
    {
     "name": "stdout",
     "output_type": "stream",
     "text": [
      "Bootstrap Progress:\n",
      "Bootstrap Progress:\n",
      "Bootstrap Progress:\n"
     ]
    },
    {
     "name": "stderr",
     "output_type": "stream",
     "text": [
      "boundary (singular) fit: see ?isSingular\n",
      "\n",
      "boundary (singular) fit: see ?isSingular\n",
      "\n",
      "boundary (singular) fit: see ?isSingular\n",
      "\n",
      "boundary (singular) fit: see ?isSingular\n",
      "\n"
     ]
    },
    {
     "name": "stdout",
     "output_type": "stream",
     "text": [
      "Bootstrap Progress:\n",
      "Bootstrap Progress:\n",
      "Bootstrap Progress:\n",
      "Bootstrap Progress:\n",
      "Bootstrap Progress:\n",
      "Bootstrap Progress:\n",
      "Bootstrap Progress:\n",
      "Bootstrap Progress:\n"
     ]
    },
    {
     "name": "stderr",
     "output_type": "stream",
     "text": [
      "boundary (singular) fit: see ?isSingular\n",
      "\n"
     ]
    },
    {
     "name": "stdout",
     "output_type": "stream",
     "text": [
      "Bootstrap Progress:\n"
     ]
    },
    {
     "name": "stderr",
     "output_type": "stream",
     "text": [
      "boundary (singular) fit: see ?isSingular\n",
      "\n",
      "boundary (singular) fit: see ?isSingular\n",
      "\n",
      "boundary (singular) fit: see ?isSingular\n",
      "\n",
      "boundary (singular) fit: see ?isSingular\n",
      "\n"
     ]
    },
    {
     "name": "stdout",
     "output_type": "stream",
     "text": [
      "Bootstrap Progress:\n",
      "Bootstrap Progress:\n",
      "Bootstrap Progress:\n",
      "Bootstrap Progress:\n"
     ]
    },
    {
     "name": "stderr",
     "output_type": "stream",
     "text": [
      "boundary (singular) fit: see ?isSingular\n",
      "\n"
     ]
    },
    {
     "name": "stdout",
     "output_type": "stream",
     "text": [
      "Bootstrap Progress:\n",
      "Bootstrap Progress:\n",
      "Bootstrap Progress:\n"
     ]
    },
    {
     "name": "stderr",
     "output_type": "stream",
     "text": [
      "boundary (singular) fit: see ?isSingular\n",
      "\n",
      "boundary (singular) fit: see ?isSingular\n",
      "\n",
      "boundary (singular) fit: see ?isSingular\n",
      "\n"
     ]
    },
    {
     "name": "stdout",
     "output_type": "stream",
     "text": [
      "Bootstrap Progress:\n"
     ]
    },
    {
     "name": "stderr",
     "output_type": "stream",
     "text": [
      "boundary (singular) fit: see ?isSingular\n",
      "\n"
     ]
    },
    {
     "name": "stdout",
     "output_type": "stream",
     "text": [
      "Bootstrap Progress:\n",
      "Bootstrap Progress:\n",
      "Bootstrap Progress:\n"
     ]
    },
    {
     "name": "stderr",
     "output_type": "stream",
     "text": [
      "boundary (singular) fit: see ?isSingular\n",
      "\n",
      "boundary (singular) fit: see ?isSingular\n",
      "\n",
      "boundary (singular) fit: see ?isSingular\n",
      "\n"
     ]
    },
    {
     "name": "stdout",
     "output_type": "stream",
     "text": [
      "Bootstrap Progress:\n",
      "Bootstrap Progress:\n",
      "Bootstrap Progress:\n",
      "Bootstrap Progress:\n"
     ]
    },
    {
     "name": "stderr",
     "output_type": "stream",
     "text": [
      "boundary (singular) fit: see ?isSingular\n",
      "\n",
      "boundary (singular) fit: see ?isSingular\n",
      "\n",
      "boundary (singular) fit: see ?isSingular\n",
      "\n",
      "boundary (singular) fit: see ?isSingular\n",
      "\n",
      "boundary (singular) fit: see ?isSingular\n",
      "\n",
      "boundary (singular) fit: see ?isSingular\n",
      "\n"
     ]
    },
    {
     "name": "stdout",
     "output_type": "stream",
     "text": [
      "Bootstrap Progress:\n",
      "Bootstrap Progress:\n",
      "Bootstrap Progress:\n",
      "Bootstrap Progress:\n"
     ]
    },
    {
     "name": "stderr",
     "output_type": "stream",
     "text": [
      "boundary (singular) fit: see ?isSingular\n",
      "\n",
      "boundary (singular) fit: see ?isSingular\n",
      "\n",
      "boundary (singular) fit: see ?isSingular\n",
      "\n"
     ]
    },
    {
     "name": "stdout",
     "output_type": "stream",
     "text": [
      "Bootstrap Progress:\n",
      "Bootstrap Progress:\n",
      "Bootstrap Progress:\n"
     ]
    },
    {
     "name": "stderr",
     "output_type": "stream",
     "text": [
      "boundary (singular) fit: see ?isSingular\n",
      "\n",
      "boundary (singular) fit: see ?isSingular\n",
      "\n"
     ]
    },
    {
     "name": "stdout",
     "output_type": "stream",
     "text": [
      "Bootstrap Progress:\n"
     ]
    },
    {
     "name": "stderr",
     "output_type": "stream",
     "text": [
      "boundary (singular) fit: see ?isSingular\n",
      "\n",
      "boundary (singular) fit: see ?isSingular\n",
      "\n",
      "boundary (singular) fit: see ?isSingular\n",
      "\n",
      "boundary (singular) fit: see ?isSingular\n",
      "\n",
      "boundary (singular) fit: see ?isSingular\n",
      "\n"
     ]
    },
    {
     "name": "stdout",
     "output_type": "stream",
     "text": [
      "Bootstrap Progress:\n"
     ]
    },
    {
     "name": "stderr",
     "output_type": "stream",
     "text": [
      "boundary (singular) fit: see ?isSingular\n",
      "\n"
     ]
    },
    {
     "name": "stdout",
     "output_type": "stream",
     "text": [
      "Bootstrap Progress:\n",
      "Bootstrap Progress:\n",
      "Bootstrap Progress:\n",
      "Bootstrap Progress:\n",
      "Bootstrap Progress:\n",
      "Bootstrap Progress:\n",
      "Bootstrap Progress:\n",
      "Bootstrap Progress:\n",
      "Bootstrap Progress:\n",
      "Bootstrap Progress:\n",
      "Bootstrap Progress:\n",
      "Bootstrap Progress:\n",
      "Bootstrap Progress:\n",
      "Bootstrap Progress:\n",
      "Bootstrap Progress:\n",
      "Bootstrap Progress:\n",
      "Bootstrap Progress:\n",
      "Bootstrap Progress:\n",
      "Bootstrap Progress:\n",
      "Bootstrap Progress:\n",
      "Bootstrap Progress:\n",
      "Bootstrap Progress:\n",
      "Bootstrap Progress:\n",
      "Bootstrap Progress:\n",
      "Bootstrap Progress:\n",
      "Bootstrap Progress:\n",
      "Bootstrap Progress:\n",
      "Bootstrap Progress:\n",
      "Bootstrap Progress:\n",
      "Bootstrap Progress:\n",
      "Bootstrap Progress:\n",
      "Bootstrap Progress:\n",
      "Bootstrap Progress:\n",
      "Bootstrap Progress:\n"
     ]
    },
    {
     "name": "stderr",
     "output_type": "stream",
     "text": [
      "boundary (singular) fit: see ?isSingular\n",
      "\n"
     ]
    },
    {
     "name": "stdout",
     "output_type": "stream",
     "text": [
      "Bootstrap Progress:\n",
      "Bootstrap Progress:\n",
      "Bootstrap Progress:\n",
      "Bootstrap Progress:\n",
      "Bootstrap Progress:\n",
      "Bootstrap Progress:\n",
      "Bootstrap Progress:\n",
      "Bootstrap Progress:\n",
      "Bootstrap Progress:\n",
      "Bootstrap Progress:\n",
      "Bootstrap Progress:\n",
      "Bootstrap Progress:\n",
      "Bootstrap Progress:\n",
      "Bootstrap Progress:\n",
      "Bootstrap Progress:\n",
      "Bootstrap Progress:\n",
      "Bootstrap Progress:\n",
      "Bootstrap Progress:\n",
      "Bootstrap Progress:\n",
      "Bootstrap Progress:\n",
      "Bootstrap Progress:\n",
      "Bootstrap Progress:\n",
      "Bootstrap Progress:\n",
      "Bootstrap Progress:\n",
      "Bootstrap Progress:\n",
      "Bootstrap Progress:\n"
     ]
    },
    {
     "name": "stderr",
     "output_type": "stream",
     "text": [
      "boundary (singular) fit: see ?isSingular\n",
      "\n"
     ]
    },
    {
     "name": "stdout",
     "output_type": "stream",
     "text": [
      "Bootstrap Progress:\n",
      "Bootstrap Progress:\n"
     ]
    },
    {
     "name": "stderr",
     "output_type": "stream",
     "text": [
      "boundary (singular) fit: see ?isSingular\n",
      "\n",
      "boundary (singular) fit: see ?isSingular\n",
      "\n"
     ]
    },
    {
     "name": "stdout",
     "output_type": "stream",
     "text": [
      "Bootstrap Progress:\n"
     ]
    },
    {
     "name": "stderr",
     "output_type": "stream",
     "text": [
      "boundary (singular) fit: see ?isSingular\n",
      "\n"
     ]
    },
    {
     "name": "stdout",
     "output_type": "stream",
     "text": [
      "Bootstrap Progress:\n"
     ]
    },
    {
     "name": "stderr",
     "output_type": "stream",
     "text": [
      "boundary (singular) fit: see ?isSingular\n",
      "\n",
      "boundary (singular) fit: see ?isSingular\n",
      "\n",
      "boundary (singular) fit: see ?isSingular\n",
      "\n"
     ]
    },
    {
     "name": "stdout",
     "output_type": "stream",
     "text": [
      "Bootstrap Progress:\n",
      "Bootstrap Progress:\n"
     ]
    },
    {
     "name": "stderr",
     "output_type": "stream",
     "text": [
      "boundary (singular) fit: see ?isSingular\n",
      "\n"
     ]
    },
    {
     "name": "stdout",
     "output_type": "stream",
     "text": [
      "Bootstrap Progress:\n"
     ]
    },
    {
     "name": "stderr",
     "output_type": "stream",
     "text": [
      "boundary (singular) fit: see ?isSingular\n",
      "\n",
      "boundary (singular) fit: see ?isSingular\n",
      "\n",
      "boundary (singular) fit: see ?isSingular\n",
      "\n",
      "boundary (singular) fit: see ?isSingular\n",
      "\n"
     ]
    },
    {
     "name": "stdout",
     "output_type": "stream",
     "text": [
      "Bootstrap Progress:\n",
      "Bootstrap Progress:\n",
      "Bootstrap Progress:\n"
     ]
    },
    {
     "name": "stderr",
     "output_type": "stream",
     "text": [
      "boundary (singular) fit: see ?isSingular\n",
      "\n"
     ]
    },
    {
     "name": "stdout",
     "output_type": "stream",
     "text": [
      "Bootstrap Progress:\n"
     ]
    },
    {
     "name": "stderr",
     "output_type": "stream",
     "text": [
      "boundary (singular) fit: see ?isSingular\n",
      "\n"
     ]
    },
    {
     "name": "stdout",
     "output_type": "stream",
     "text": [
      "Bootstrap Progress:\n"
     ]
    },
    {
     "name": "stderr",
     "output_type": "stream",
     "text": [
      "boundary (singular) fit: see ?isSingular\n",
      "\n",
      "boundary (singular) fit: see ?isSingular\n",
      "\n",
      "boundary (singular) fit: see ?isSingular\n",
      "\n",
      "boundary (singular) fit: see ?isSingular\n",
      "\n"
     ]
    },
    {
     "name": "stdout",
     "output_type": "stream",
     "text": [
      "Bootstrap Progress:\n",
      "Bootstrap Progress:\n"
     ]
    },
    {
     "name": "stderr",
     "output_type": "stream",
     "text": [
      "boundary (singular) fit: see ?isSingular\n",
      "\n"
     ]
    },
    {
     "name": "stdout",
     "output_type": "stream",
     "text": [
      "Bootstrap Progress:\n"
     ]
    },
    {
     "name": "stderr",
     "output_type": "stream",
     "text": [
      "boundary (singular) fit: see ?isSingular\n",
      "\n"
     ]
    },
    {
     "name": "stdout",
     "output_type": "stream",
     "text": [
      "Bootstrap Progress:\n"
     ]
    },
    {
     "name": "stderr",
     "output_type": "stream",
     "text": [
      "boundary (singular) fit: see ?isSingular\n",
      "\n"
     ]
    },
    {
     "name": "stdout",
     "output_type": "stream",
     "text": [
      "Bootstrap Progress:\n",
      "Bootstrap Progress:\n"
     ]
    },
    {
     "name": "stderr",
     "output_type": "stream",
     "text": [
      "boundary (singular) fit: see ?isSingular\n",
      "\n",
      "boundary (singular) fit: see ?isSingular\n",
      "\n"
     ]
    },
    {
     "name": "stdout",
     "output_type": "stream",
     "text": [
      "Bootstrap Progress:\n"
     ]
    },
    {
     "name": "stderr",
     "output_type": "stream",
     "text": [
      "boundary (singular) fit: see ?isSingular\n",
      "\n",
      "boundary (singular) fit: see ?isSingular\n",
      "\n",
      "boundary (singular) fit: see ?isSingular\n",
      "\n"
     ]
    },
    {
     "name": "stdout",
     "output_type": "stream",
     "text": [
      "Bootstrap Progress:\n"
     ]
    },
    {
     "name": "stderr",
     "output_type": "stream",
     "text": [
      "boundary (singular) fit: see ?isSingular\n",
      "\n"
     ]
    },
    {
     "name": "stdout",
     "output_type": "stream",
     "text": [
      "Bootstrap Progress:\n",
      "Bootstrap Progress:\n"
     ]
    },
    {
     "name": "stderr",
     "output_type": "stream",
     "text": [
      "boundary (singular) fit: see ?isSingular\n",
      "\n",
      "boundary (singular) fit: see ?isSingular\n",
      "\n"
     ]
    },
    {
     "name": "stdout",
     "output_type": "stream",
     "text": [
      "Bootstrap Progress:\n"
     ]
    },
    {
     "name": "stderr",
     "output_type": "stream",
     "text": [
      "boundary (singular) fit: see ?isSingular\n",
      "\n",
      "boundary (singular) fit: see ?isSingular\n",
      "\n"
     ]
    },
    {
     "name": "stdout",
     "output_type": "stream",
     "text": [
      "Bootstrap Progress:\n"
     ]
    },
    {
     "name": "stderr",
     "output_type": "stream",
     "text": [
      "boundary (singular) fit: see ?isSingular\n",
      "\n",
      "boundary (singular) fit: see ?isSingular\n",
      "\n",
      "boundary (singular) fit: see ?isSingular\n",
      "\n",
      "boundary (singular) fit: see ?isSingular\n",
      "\n",
      "boundary (singular) fit: see ?isSingular\n",
      "\n"
     ]
    },
    {
     "name": "stdout",
     "output_type": "stream",
     "text": [
      "Bootstrap Progress:\n",
      "Bootstrap Progress:\n",
      "Bootstrap Progress:\n"
     ]
    },
    {
     "name": "stderr",
     "output_type": "stream",
     "text": [
      "boundary (singular) fit: see ?isSingular\n",
      "\n",
      "boundary (singular) fit: see ?isSingular\n",
      "\n",
      "boundary (singular) fit: see ?isSingular\n",
      "\n",
      "boundary (singular) fit: see ?isSingular\n",
      "\n",
      "boundary (singular) fit: see ?isSingular\n",
      "\n"
     ]
    },
    {
     "name": "stdout",
     "output_type": "stream",
     "text": [
      "Bootstrap Progress:\n"
     ]
    },
    {
     "name": "stderr",
     "output_type": "stream",
     "text": [
      "boundary (singular) fit: see ?isSingular\n",
      "\n",
      "boundary (singular) fit: see ?isSingular\n",
      "\n",
      "boundary (singular) fit: see ?isSingular\n",
      "\n"
     ]
    },
    {
     "name": "stdout",
     "output_type": "stream",
     "text": [
      "Bootstrap Progress:\n",
      "Bootstrap Progress:\n"
     ]
    },
    {
     "name": "stderr",
     "output_type": "stream",
     "text": [
      "boundary (singular) fit: see ?isSingular\n",
      "\n",
      "boundary (singular) fit: see ?isSingular\n",
      "\n",
      "boundary (singular) fit: see ?isSingular\n",
      "\n",
      "boundary (singular) fit: see ?isSingular\n",
      "\n",
      "boundary (singular) fit: see ?isSingular\n",
      "\n"
     ]
    },
    {
     "name": "stdout",
     "output_type": "stream",
     "text": [
      "Bootstrap Progress:\n"
     ]
    },
    {
     "name": "stderr",
     "output_type": "stream",
     "text": [
      "boundary (singular) fit: see ?isSingular\n",
      "\n",
      "boundary (singular) fit: see ?isSingular\n",
      "\n",
      "boundary (singular) fit: see ?isSingular\n",
      "\n",
      "boundary (singular) fit: see ?isSingular\n",
      "\n"
     ]
    },
    {
     "name": "stdout",
     "output_type": "stream",
     "text": [
      "Bootstrap Progress:\n"
     ]
    },
    {
     "name": "stderr",
     "output_type": "stream",
     "text": [
      "boundary (singular) fit: see ?isSingular\n",
      "\n",
      "boundary (singular) fit: see ?isSingular\n",
      "\n"
     ]
    },
    {
     "name": "stdout",
     "output_type": "stream",
     "text": [
      "Bootstrap Progress:\n",
      "Bootstrap Progress:\n"
     ]
    },
    {
     "name": "stderr",
     "output_type": "stream",
     "text": [
      "boundary (singular) fit: see ?isSingular\n",
      "\n"
     ]
    },
    {
     "name": "stdout",
     "output_type": "stream",
     "text": [
      "Bootstrap Progress:\n"
     ]
    },
    {
     "name": "stderr",
     "output_type": "stream",
     "text": [
      "boundary (singular) fit: see ?isSingular\n",
      "\n",
      "boundary (singular) fit: see ?isSingular\n",
      "\n",
      "boundary (singular) fit: see ?isSingular\n",
      "\n",
      "boundary (singular) fit: see ?isSingular\n",
      "\n"
     ]
    },
    {
     "name": "stdout",
     "output_type": "stream",
     "text": [
      "Bootstrap Progress:\n"
     ]
    },
    {
     "name": "stderr",
     "output_type": "stream",
     "text": [
      "boundary (singular) fit: see ?isSingular\n",
      "\n",
      "boundary (singular) fit: see ?isSingular\n",
      "\n",
      "boundary (singular) fit: see ?isSingular\n",
      "\n",
      "boundary (singular) fit: see ?isSingular\n",
      "\n",
      "boundary (singular) fit: see ?isSingular\n",
      "\n",
      "boundary (singular) fit: see ?isSingular\n",
      "\n"
     ]
    },
    {
     "name": "stdout",
     "output_type": "stream",
     "text": [
      "Bootstrap Progress:\n",
      "Bootstrap Progress:\n"
     ]
    },
    {
     "name": "stderr",
     "output_type": "stream",
     "text": [
      "boundary (singular) fit: see ?isSingular\n",
      "\n",
      "boundary (singular) fit: see ?isSingular\n",
      "\n",
      "boundary (singular) fit: see ?isSingular\n",
      "\n"
     ]
    },
    {
     "name": "stdout",
     "output_type": "stream",
     "text": [
      "Bootstrap Progress:\n"
     ]
    },
    {
     "name": "stderr",
     "output_type": "stream",
     "text": [
      "boundary (singular) fit: see ?isSingular\n",
      "\n",
      "boundary (singular) fit: see ?isSingular\n",
      "\n",
      "boundary (singular) fit: see ?isSingular\n",
      "\n",
      "boundary (singular) fit: see ?isSingular\n",
      "\n"
     ]
    },
    {
     "name": "stdout",
     "output_type": "stream",
     "text": [
      "Bootstrap Progress:\n"
     ]
    },
    {
     "name": "stderr",
     "output_type": "stream",
     "text": [
      "boundary (singular) fit: see ?isSingular\n",
      "\n",
      "boundary (singular) fit: see ?isSingular\n",
      "\n",
      "boundary (singular) fit: see ?isSingular\n",
      "\n",
      "boundary (singular) fit: see ?isSingular\n",
      "\n",
      "boundary (singular) fit: see ?isSingular\n",
      "\n",
      "boundary (singular) fit: see ?isSingular\n",
      "\n",
      "boundary (singular) fit: see ?isSingular\n",
      "\n",
      "boundary (singular) fit: see ?isSingular\n",
      "\n"
     ]
    },
    {
     "name": "stdout",
     "output_type": "stream",
     "text": [
      "Bootstrap Progress:\n",
      "Bootstrap Progress:\n"
     ]
    },
    {
     "name": "stderr",
     "output_type": "stream",
     "text": [
      "boundary (singular) fit: see ?isSingular\n",
      "\n",
      "boundary (singular) fit: see ?isSingular\n",
      "\n",
      "boundary (singular) fit: see ?isSingular\n",
      "\n",
      "boundary (singular) fit: see ?isSingular\n",
      "\n",
      "boundary (singular) fit: see ?isSingular\n",
      "\n"
     ]
    },
    {
     "name": "stdout",
     "output_type": "stream",
     "text": [
      "Bootstrap Progress:\n"
     ]
    },
    {
     "name": "stderr",
     "output_type": "stream",
     "text": [
      "boundary (singular) fit: see ?isSingular\n",
      "\n",
      "boundary (singular) fit: see ?isSingular\n",
      "\n",
      "boundary (singular) fit: see ?isSingular\n",
      "\n",
      "boundary (singular) fit: see ?isSingular\n",
      "\n",
      "boundary (singular) fit: see ?isSingular\n",
      "\n",
      "boundary (singular) fit: see ?isSingular\n",
      "\n"
     ]
    },
    {
     "name": "stdout",
     "output_type": "stream",
     "text": [
      "Bootstrap Progress:\n"
     ]
    },
    {
     "name": "stderr",
     "output_type": "stream",
     "text": [
      "boundary (singular) fit: see ?isSingular\n",
      "\n",
      "boundary (singular) fit: see ?isSingular\n",
      "\n",
      "boundary (singular) fit: see ?isSingular\n",
      "\n",
      "boundary (singular) fit: see ?isSingular\n",
      "\n",
      "boundary (singular) fit: see ?isSingular\n",
      "\n"
     ]
    },
    {
     "name": "stdout",
     "output_type": "stream",
     "text": [
      "Bootstrap Progress:\n",
      "Bootstrap Progress:\n"
     ]
    },
    {
     "name": "stderr",
     "output_type": "stream",
     "text": [
      "boundary (singular) fit: see ?isSingular\n",
      "\n",
      "boundary (singular) fit: see ?isSingular\n",
      "\n",
      "boundary (singular) fit: see ?isSingular\n",
      "\n",
      "boundary (singular) fit: see ?isSingular\n",
      "\n"
     ]
    },
    {
     "name": "stdout",
     "output_type": "stream",
     "text": [
      "Bootstrap Progress:\n"
     ]
    },
    {
     "name": "stderr",
     "output_type": "stream",
     "text": [
      "boundary (singular) fit: see ?isSingular\n",
      "\n",
      "boundary (singular) fit: see ?isSingular\n",
      "\n",
      "boundary (singular) fit: see ?isSingular\n",
      "\n"
     ]
    },
    {
     "name": "stdout",
     "output_type": "stream",
     "text": [
      "Bootstrap Progress:\n"
     ]
    },
    {
     "name": "stderr",
     "output_type": "stream",
     "text": [
      "boundary (singular) fit: see ?isSingular\n",
      "\n",
      "boundary (singular) fit: see ?isSingular\n",
      "\n",
      "boundary (singular) fit: see ?isSingular\n",
      "\n"
     ]
    },
    {
     "name": "stdout",
     "output_type": "stream",
     "text": [
      "Bootstrap Progress:\n",
      "Bootstrap Progress:\n"
     ]
    },
    {
     "name": "stderr",
     "output_type": "stream",
     "text": [
      "boundary (singular) fit: see ?isSingular\n",
      "\n",
      "boundary (singular) fit: see ?isSingular\n",
      "\n",
      "boundary (singular) fit: see ?isSingular\n",
      "\n"
     ]
    },
    {
     "name": "stdout",
     "output_type": "stream",
     "text": [
      "Bootstrap Progress:\n"
     ]
    },
    {
     "name": "stderr",
     "output_type": "stream",
     "text": [
      "boundary (singular) fit: see ?isSingular\n",
      "\n",
      "boundary (singular) fit: see ?isSingular\n",
      "\n",
      "boundary (singular) fit: see ?isSingular\n",
      "\n",
      "boundary (singular) fit: see ?isSingular\n",
      "\n",
      "boundary (singular) fit: see ?isSingular\n",
      "\n"
     ]
    },
    {
     "name": "stdout",
     "output_type": "stream",
     "text": [
      "Bootstrap Progress:\n"
     ]
    },
    {
     "name": "stderr",
     "output_type": "stream",
     "text": [
      "boundary (singular) fit: see ?isSingular\n",
      "\n",
      "boundary (singular) fit: see ?isSingular\n",
      "\n"
     ]
    },
    {
     "name": "stdout",
     "output_type": "stream",
     "text": [
      "Bootstrap Progress:\n",
      "Bootstrap Progress:\n"
     ]
    },
    {
     "name": "stderr",
     "output_type": "stream",
     "text": [
      "boundary (singular) fit: see ?isSingular\n",
      "\n",
      "boundary (singular) fit: see ?isSingular\n",
      "\n",
      "boundary (singular) fit: see ?isSingular\n",
      "\n",
      "boundary (singular) fit: see ?isSingular\n",
      "\n",
      "boundary (singular) fit: see ?isSingular\n",
      "\n",
      "boundary (singular) fit: see ?isSingular\n",
      "\n",
      "boundary (singular) fit: see ?isSingular\n",
      "\n"
     ]
    },
    {
     "name": "stdout",
     "output_type": "stream",
     "text": [
      "Bootstrap Progress:\n"
     ]
    },
    {
     "name": "stderr",
     "output_type": "stream",
     "text": [
      "boundary (singular) fit: see ?isSingular\n",
      "\n",
      "boundary (singular) fit: see ?isSingular\n",
      "\n",
      "boundary (singular) fit: see ?isSingular\n",
      "\n",
      "boundary (singular) fit: see ?isSingular\n",
      "\n",
      "boundary (singular) fit: see ?isSingular\n",
      "\n"
     ]
    },
    {
     "name": "stdout",
     "output_type": "stream",
     "text": [
      "Bootstrap Progress:\n"
     ]
    },
    {
     "name": "stderr",
     "output_type": "stream",
     "text": [
      "boundary (singular) fit: see ?isSingular\n",
      "\n"
     ]
    },
    {
     "name": "stdout",
     "output_type": "stream",
     "text": [
      "Bootstrap Progress:\n",
      "Bootstrap Progress:\n",
      "Bootstrap Progress:\n"
     ]
    },
    {
     "name": "stderr",
     "output_type": "stream",
     "text": [
      "boundary (singular) fit: see ?isSingular\n",
      "\n",
      "boundary (singular) fit: see ?isSingular\n",
      "\n",
      "boundary (singular) fit: see ?isSingular\n",
      "\n"
     ]
    },
    {
     "name": "stdout",
     "output_type": "stream",
     "text": [
      "Bootstrap Progress:\n",
      "Bootstrap Progress:\n",
      "Bootstrap Progress:\n"
     ]
    },
    {
     "name": "stderr",
     "output_type": "stream",
     "text": [
      "boundary (singular) fit: see ?isSingular\n",
      "\n",
      "boundary (singular) fit: see ?isSingular\n",
      "\n",
      "boundary (singular) fit: see ?isSingular\n",
      "\n",
      "boundary (singular) fit: see ?isSingular\n",
      "\n",
      "boundary (singular) fit: see ?isSingular\n",
      "\n",
      "boundary (singular) fit: see ?isSingular\n",
      "\n"
     ]
    },
    {
     "name": "stdout",
     "output_type": "stream",
     "text": [
      "Bootstrap Progress:\n"
     ]
    },
    {
     "name": "stderr",
     "output_type": "stream",
     "text": [
      "boundary (singular) fit: see ?isSingular\n",
      "\n",
      "boundary (singular) fit: see ?isSingular\n",
      "\n",
      "boundary (singular) fit: see ?isSingular\n",
      "\n",
      "boundary (singular) fit: see ?isSingular\n",
      "\n"
     ]
    },
    {
     "name": "stdout",
     "output_type": "stream",
     "text": [
      "Bootstrap Progress:\n"
     ]
    },
    {
     "name": "stderr",
     "output_type": "stream",
     "text": [
      "boundary (singular) fit: see ?isSingular\n",
      "\n"
     ]
    },
    {
     "name": "stdout",
     "output_type": "stream",
     "text": [
      "Bootstrap Progress:\n",
      "Bootstrap Progress:\n"
     ]
    },
    {
     "name": "stderr",
     "output_type": "stream",
     "text": [
      "boundary (singular) fit: see ?isSingular\n",
      "\n",
      "boundary (singular) fit: see ?isSingular\n",
      "\n",
      "boundary (singular) fit: see ?isSingular\n",
      "\n",
      "boundary (singular) fit: see ?isSingular\n",
      "\n",
      "boundary (singular) fit: see ?isSingular\n",
      "\n",
      "boundary (singular) fit: see ?isSingular\n",
      "\n"
     ]
    },
    {
     "name": "stdout",
     "output_type": "stream",
     "text": [
      "Bootstrap Progress:\n"
     ]
    },
    {
     "name": "stderr",
     "output_type": "stream",
     "text": [
      "boundary (singular) fit: see ?isSingular\n",
      "\n",
      "boundary (singular) fit: see ?isSingular\n",
      "\n",
      "boundary (singular) fit: see ?isSingular\n",
      "\n",
      "boundary (singular) fit: see ?isSingular\n",
      "\n",
      "boundary (singular) fit: see ?isSingular\n",
      "\n"
     ]
    },
    {
     "name": "stdout",
     "output_type": "stream",
     "text": [
      "Bootstrap Progress:\n"
     ]
    },
    {
     "name": "stderr",
     "output_type": "stream",
     "text": [
      "boundary (singular) fit: see ?isSingular\n",
      "\n",
      "boundary (singular) fit: see ?isSingular\n",
      "\n",
      "boundary (singular) fit: see ?isSingular\n",
      "\n"
     ]
    },
    {
     "name": "stdout",
     "output_type": "stream",
     "text": [
      "Bootstrap Progress:\n"
     ]
    },
    {
     "ename": "ERROR",
     "evalue": "Error in data.frame(li_R_org, li_CIL_org, li_CIU_org, li_CIU_link, li_P, : arguments imply differing number of rows: 2100, 0\n",
     "output_type": "error",
     "traceback": [
      "Error in data.frame(li_R_org, li_CIL_org, li_CIU_org, li_CIU_link, li_P, : arguments imply differing number of rows: 2100, 0\nTraceback:\n",
      "1. data.frame(li_R_org, li_CIL_org, li_CIU_org, li_CIU_link, li_P, \n .     li_se_org, li_ngroup, li_nobs, li_var, li_dib, li_nbrdays)",
      "2. stop(gettextf(\"arguments imply differing number of rows: %s\", \n .     paste(unique(nrows), collapse = \", \")), domain = NA)"
     ]
    }
   ],
   "source": [
    "li_R_org = c()\n",
    "li_R_link = c()\n",
    "li_CIL_org = c()\n",
    "li_CIU_org = c()\n",
    "li_CIL_link = c()\n",
    "li_CIU_link = c()\n",
    "li_P = c()\n",
    "li_se_link = c()\n",
    "li_se_org = c() \n",
    "li_ngroup = c()\n",
    "li_nobs = c()\n",
    "li_mod = c()\n",
    "li_var = c()\n",
    "li_dib = c()\n",
    "li_nbrdays = c()\n",
    "`%notin%` = Negate(`%in%`)\n",
    "nb = 10 \n",
    "for (i in 1:21){\n",
    "    for (j in 1:32){\n",
    "        if ((i %notin% c(4,6,9,10)) & ((i+j) %notin% c(4,6,9,10))){\n",
    "            df_ = df[ which(df$DIB==i | df$DIB==(i+j)), ]   \n",
    "            #perc_duration_5_Zone\n",
    "            df_$Y = df_$perc_duration_5_Zone\n",
    "            model_ = rpt(Y ~  PenID + (1|HenID), grname = c(\"HenID\"), data = df_, datatype = \"Gaussian\", \n",
    "                         nboot = nb, npermut = 0)\n",
    "            li_R_org = append(li_R_org, model_$R[[1]])\n",
    "            li_CIL_org = append(li_CIL_org, model_$CI_emp[,'2.5%'])\n",
    "            li_CIU_org = append(li_CIU_org, model_$CI_emp[,'97.5%'])\n",
    "            li_P = append(li_P, model_$P$LRT_P)\n",
    "            li_se_org = append(li_se_org, model_$se[[1]])\n",
    "            li_ngroup = append(li_ngroup, model_$ngroups[['HenID']])\n",
    "            li_nobs = append(li_nobs, model_$nobs)\n",
    "            li_mod = append(li_mod, model_$mod)\n",
    "            li_var = append(li_var, 'perc_duration_5_Zone')\n",
    "            li_nbrdays = append(li_nbrdays,j)\n",
    "            li_dib = append(li_dib, i)\n",
    "            #save model assumption verification \n",
    "            name = 'perc_duration_5_Zone'\n",
    "            ###### histogram of dep var \n",
    "            #variance of the residuals is equal across groups. Even spread around the centered line?\n",
    "            jpeg(file.path(path_model,paste0(name,'_Histrogram_',j,'-',i,'.jpg')))\n",
    "            hist(df_$Y)\n",
    "            dev.off()\n",
    "            ###### normally distributed residuals\n",
    "            jpeg(file.path(path_model, paste(name,'_diagnostic_normally_distributed_residual_',j,'-',i,'.jpg', sep='')))\n",
    "            qqnorm(resid(model_$mod), main = \"Residuals\")\n",
    "            qqline(resid(model_$mod))\n",
    "            dev.off()\n",
    "            ######check homogeneity of variance (residuals has constant variance)\n",
    "            #variance of the residuals is equal across groups. Even spread around the centered line?\n",
    "            jpeg(file.path(path_model, paste(name,'_diagnostic_homogeneity_variance_',j,'-',i,'.jpg', sep='')))\n",
    "            plot(model_$mod)\n",
    "            dev.off()\n",
    "\n",
    "            #perc_duration_3_Zone\n",
    "            df_$Y = df_$perc_duration_3_Zone\n",
    "            model_ = rpt(Y ~  PenID + (1|HenID) , grname = c(\"HenID\"), data = df_, datatype = \"Gaussian\", \n",
    "                         nboot = nb, npermut = 0)\n",
    "            li_R_org = append(li_R_org, model_$R[[1]])\n",
    "            li_CIL_org = append(li_CIL_org, model_$CI_emp[,'2.5%'])\n",
    "            li_CIU_org = append(li_CIU_org, model_$CI_emp[,'97.5%'])\n",
    "            li_P = append(li_P, model_$P$LRT_P)\n",
    "            li_se_org = append(li_se_org, model_$se[[1]])\n",
    "            li_ngroup = append(li_ngroup, model_$ngroups[['HenID']])\n",
    "            li_nobs = append(li_nobs, model_$nobs)\n",
    "            li_mod = append(li_mod, model_$mod)\n",
    "            li_var = append(li_var, 'perc_duration_3_Zone')\n",
    "            li_nbrdays = append(li_nbrdays,j)\n",
    "            li_dib = append(li_dib, i)\n",
    "            #save model assumption verification \n",
    "            name = 'perc_duration_3_Zone'\n",
    "            ###### histogram of dep var \n",
    "            #variance of the residuals is equal across groups. Even spread around the centered line?\n",
    "            jpeg(file.path(path_model,paste0(name,'_Histrogram_',j,'-',i,'.jpg')))\n",
    "            hist(df_$Y)\n",
    "            dev.off()\n",
    "            ######linearity of predictors: plot residual vs observed\n",
    "            jpeg(file.path(path_model, paste(name,'_diagnostic_predictors_linearity_',j,'-',i,'.jpg', sep='')))\n",
    "            plot(resid(model_$mod),df_$Y)\n",
    "            dev.off()\n",
    "            ###### normally distributed residuals\n",
    "            jpeg(file.path(path_model, paste(name,'_diagnostic_normally_distributed_residual_',j,'-',i,'.jpg', sep='')))\n",
    "            qqnorm(resid(model_$mod), main = \"Residuals\")\n",
    "            qqline(resid(model_$mod))\n",
    "            dev.off()\n",
    "            jpeg(file.path(path_model, paste(name,'_diagnostic_normally_distributed_residual_histogram_',j,'-',i,'.jpg', sep='')))\n",
    "            hist(resid(model_$mod))\n",
    "            dev.off()\n",
    "\n",
    "            #perc_duration_2_Zone\n",
    "            df_$Y = df_$perc_duration_2_Zone\n",
    "            model_ = rpt(Y ~ PenID + (1|HenID), grname = c(\"HenID\"), data = df_, datatype = \"Gaussian\", \n",
    "                         nboot = nb, npermut = 0)\n",
    "            li_R_org = append(li_R_org, model_$R[[1]])\n",
    "            li_CIL_org = append(li_CIL_org, model_$CI_emp[,'2.5%'])\n",
    "            li_CIU_org = append(li_CIU_org, model_$CI_emp[,'97.5%'])\n",
    "            li_P = append(li_P, model_$P$LRT_P)\n",
    "            li_se_org = append(li_se_org, model_$se[[1]])\n",
    "            li_ngroup = append(li_ngroup, model_$ngroups[['HenID']])\n",
    "            li_nobs = append(li_nobs, model_$nobs)\n",
    "            li_mod = append(li_mod, model_$mod)\n",
    "            li_var = append(li_var, 'perc_duration_2_Zone')\n",
    "            li_nbrdays = append(li_nbrdays,j)\n",
    "            li_dib = append(li_dib, i)\n",
    "            #save model assumption verification \n",
    "            name = 'perc_duration_2_Zone'\n",
    "            ###### histogram of dep var \n",
    "            #variance of the residuals is equal across groups. Even spread around the centered line?\n",
    "            jpeg(file.path(path_model,paste0(name,'_Histrogram_',j,'-',i,'.jpg')))\n",
    "            hist(df_$Y)\n",
    "            dev.off()\n",
    "            ###### normally distributed residuals\n",
    "            jpeg(file.path(path_model, paste(name,'_diagnostic_normally_distributed_residual_',j,'-',i,'.jpg', sep='')))\n",
    "            qqnorm(resid(model_$mod), main = \"Residuals\")\n",
    "            qqline(resid(model_$mod))\n",
    "            dev.off()\n",
    "            ######check homogeneity of variance (residuals has constant variance)\n",
    "            #variance of the residuals is equal across groups. Even spread around the centered line?\n",
    "            jpeg(file.path(path_model, paste(name,'_diagnostic_homogeneity_variance_',j,'-',i,'.jpg', sep='')))\n",
    "            plot(model_$mod)\n",
    "            dev.off()\n",
    "            \n",
    "            #vertical_travel_distance_perh\n",
    "            df_$Y = df_$vertical_travel_distance_perh\n",
    "            model_ = rpt(vertical_travel_distance_perh ~ PenID +  (1|HenID) , grname = c(\"HenID\"), data = df_, datatype = \"Gaussian\", \n",
    "                         nboot = nb, npermut = 0)\n",
    "            li_R_org = append(li_R_org, model_$R[[1]])\n",
    "            li_CIL_org = append(li_CIL_org, model_$CI_emp[,'2.5%'])\n",
    "            li_CIU_org = append(li_CIU_org, model_$CI_emp[,'97.5%'])\n",
    "            li_P = append(li_P, model_$P$LRT_P)\n",
    "            li_se_org = append(li_se_org, model_$se[[1]])\n",
    "            li_ngroup = append(li_ngroup, model_$ngroups[['HenID']])\n",
    "            li_nobs = append(li_nobs, model_$nobs)\n",
    "            li_mod = append(li_mod, model_$mod)\n",
    "            li_var = append(li_var, 'vertical_travel_distance_perh')\n",
    "            li_nbrdays = append(li_nbrdays,j)\n",
    "            li_dib = append(li_dib, i)\n",
    "            #save model assumption verification \n",
    "            name = 'vertical_travel_distance_perh'\n",
    "            ###### histogram of dep var \n",
    "            #variance of the residuals is equal across groups. Even spread around the centered line?\n",
    "            jpeg(file.path(path_model,paste0(name,'_Histrogram_',j,'-',i,'.jpg')))\n",
    "            hist(df_$Y)\n",
    "            dev.off()\n",
    "            ###### normally distributed residuals\n",
    "            jpeg(file.path(path_model, paste(name,'_diagnostic_normally_distributed_residual_',j,'-',i,'.jpg', sep='')))\n",
    "            qqnorm(resid(model_$mod), main = \"Residuals\")\n",
    "            qqline(resid(model_$mod))\n",
    "            dev.off()\n",
    "            ######check homogeneity of variance (residuals has constant variance)\n",
    "            #variance of the residuals is equal across groups. Even spread around the centered line?\n",
    "            jpeg(file.path(path_model, paste(name,'_diagnostic_homogeneity_variance_',j,'-',i,'.jpg', sep='')))\n",
    "            plot(model_$mod)\n",
    "            dev.off()\n",
    "\n",
    "}}}\n",
    "df_res = data.frame(li_R_org, li_CIL_org, li_CIU_org, li_P, li_se_org, \n",
    "                    li_ngroup, li_nobs, li_var, li_dib, li_nbrdays)\n",
    "#save\n",
    "write.csv(df_res, file.path(path_,'df_MVT_repeatibility_DIB&Xdaysinbetween.csv'), sep=';')\n",
    "df_res"
   ]
  },
  {
   "cell_type": "code",
   "execution_count": 8,
   "metadata": {},
   "outputs": [
    {
     "data": {
      "text/html": [
       "<table class=\"dataframe\">\n",
       "<caption>A data.frame: 2100 × 10</caption>\n",
       "<thead>\n",
       "\t<tr><th scope=col>li_R_org</th><th scope=col>li_CIL_org</th><th scope=col>li_CIU_org</th><th scope=col>li_P</th><th scope=col>li_se_org</th><th scope=col>li_ngroup</th><th scope=col>li_nobs</th><th scope=col>li_var</th><th scope=col>li_dib</th><th scope=col>li_nbrdays</th></tr>\n",
       "\t<tr><th scope=col>&lt;dbl&gt;</th><th scope=col>&lt;dbl&gt;</th><th scope=col>&lt;dbl&gt;</th><th scope=col>&lt;dbl&gt;</th><th scope=col>&lt;dbl&gt;</th><th scope=col>&lt;int&gt;</th><th scope=col>&lt;int&gt;</th><th scope=col>&lt;chr&gt;</th><th scope=col>&lt;int&gt;</th><th scope=col>&lt;int&gt;</th></tr>\n",
       "</thead>\n",
       "<tbody>\n",
       "\t<tr><td>0.61644368</td><td>0.574921794</td><td>0.7066795</td><td>1.592797e-14</td><td>0.04583929</td><td>131</td><td>262</td><td>perc_duration_5_Zone         </td><td>1</td><td> 1</td></tr>\n",
       "\t<tr><td>0.32394356</td><td>0.189443358</td><td>0.4297383</td><td>2.708594e-04</td><td>0.08273106</td><td>131</td><td>262</td><td>perc_duration_3_Zone         </td><td>1</td><td> 1</td></tr>\n",
       "\t<tr><td>0.75563429</td><td>0.685128300</td><td>0.8119609</td><td>7.180427e-25</td><td>0.04251475</td><td>131</td><td>262</td><td>perc_duration_2_Zone         </td><td>1</td><td> 1</td></tr>\n",
       "\t<tr><td>0.56774000</td><td>0.505514841</td><td>0.6456241</td><td>4.885612e-12</td><td>0.05407463</td><td>131</td><td>262</td><td>vertical_travel_distance_perh</td><td>1</td><td> 1</td></tr>\n",
       "\t<tr><td>0.51302237</td><td>0.436777044</td><td>0.5801168</td><td>1.053021e-09</td><td>0.06016709</td><td>131</td><td>262</td><td>perc_duration_5_Zone         </td><td>1</td><td> 2</td></tr>\n",
       "\t<tr><td>0.42829448</td><td>0.291579819</td><td>0.5736484</td><td>7.614469e-07</td><td>0.09997758</td><td>131</td><td>262</td><td>perc_duration_3_Zone         </td><td>1</td><td> 2</td></tr>\n",
       "\t<tr><td>0.55309265</td><td>0.498371664</td><td>0.6677083</td><td>2.275739e-11</td><td>0.05879311</td><td>131</td><td>262</td><td>perc_duration_2_Zone         </td><td>1</td><td> 2</td></tr>\n",
       "\t<tr><td>0.53613984</td><td>0.481835346</td><td>0.6670907</td><td>1.228974e-10</td><td>0.06680733</td><td>131</td><td>262</td><td>vertical_travel_distance_perh</td><td>1</td><td> 2</td></tr>\n",
       "\t<tr><td>0.40662715</td><td>0.266865520</td><td>0.4913014</td><td>2.191535e-05</td><td>0.08520271</td><td>131</td><td>230</td><td>perc_duration_5_Zone         </td><td>1</td><td> 4</td></tr>\n",
       "\t<tr><td>0.34987816</td><td>0.275896433</td><td>0.4748735</td><td>2.153166e-04</td><td>0.06678024</td><td>131</td><td>230</td><td>perc_duration_3_Zone         </td><td>1</td><td> 4</td></tr>\n",
       "\t<tr><td>0.53862983</td><td>0.464998173</td><td>0.6827190</td><td>2.459505e-08</td><td>0.06970993</td><td>131</td><td>230</td><td>perc_duration_2_Zone         </td><td>1</td><td> 4</td></tr>\n",
       "\t<tr><td>0.43602295</td><td>0.368187184</td><td>0.5762035</td><td>4.981912e-06</td><td>0.06882859</td><td>131</td><td>230</td><td>vertical_travel_distance_perh</td><td>1</td><td> 4</td></tr>\n",
       "\t<tr><td>0.19536723</td><td>0.063713627</td><td>0.3864678</td><td>2.870191e-02</td><td>0.10358893</td><td>131</td><td>262</td><td>perc_duration_5_Zone         </td><td>1</td><td> 6</td></tr>\n",
       "\t<tr><td>0.11060243</td><td>0.053222419</td><td>0.2701353</td><td>1.814072e-01</td><td>0.07104468</td><td>131</td><td>262</td><td>perc_duration_3_Zone         </td><td>1</td><td> 6</td></tr>\n",
       "\t<tr><td>0.24852411</td><td>0.197483020</td><td>0.4641138</td><td>5.632869e-03</td><td>0.08971583</td><td>131</td><td>262</td><td>perc_duration_2_Zone         </td><td>1</td><td> 6</td></tr>\n",
       "\t<tr><td>0.44832829</td><td>0.378791811</td><td>0.5888788</td><td>1.894004e-07</td><td>0.07164986</td><td>131</td><td>262</td><td>vertical_travel_distance_perh</td><td>1</td><td> 6</td></tr>\n",
       "\t<tr><td>0.12809082</td><td>0.083215113</td><td>0.2978712</td><td>1.329230e-01</td><td>0.08126027</td><td>131</td><td>262</td><td>perc_duration_5_Zone         </td><td>1</td><td> 7</td></tr>\n",
       "\t<tr><td>0.05566230</td><td>0.000000000</td><td>0.2354843</td><td>3.908432e-01</td><td>0.09756457</td><td>131</td><td>262</td><td>perc_duration_3_Zone         </td><td>1</td><td> 7</td></tr>\n",
       "\t<tr><td>0.21806308</td><td>0.213295425</td><td>0.3583686</td><td>1.502368e-02</td><td>0.04941225</td><td>131</td><td>262</td><td>perc_duration_2_Zone         </td><td>1</td><td> 7</td></tr>\n",
       "\t<tr><td>0.41512743</td><td>0.342501472</td><td>0.5520628</td><td>1.807029e-06</td><td>0.06869623</td><td>131</td><td>262</td><td>vertical_travel_distance_perh</td><td>1</td><td> 7</td></tr>\n",
       "\t<tr><td>0.22972266</td><td>0.151572235</td><td>0.4701352</td><td>1.048216e-02</td><td>0.10813071</td><td>131</td><td>262</td><td>perc_duration_5_Zone         </td><td>1</td><td>10</td></tr>\n",
       "\t<tr><td>0.03274883</td><td>0.006053237</td><td>0.1977894</td><td>4.942726e-01</td><td>0.06617492</td><td>131</td><td>262</td><td>perc_duration_3_Zone         </td><td>1</td><td>10</td></tr>\n",
       "\t<tr><td>0.20877235</td><td>0.011713272</td><td>0.3243849</td><td>1.974727e-02</td><td>0.11452798</td><td>131</td><td>262</td><td>perc_duration_2_Zone         </td><td>1</td><td>10</td></tr>\n",
       "\t<tr><td>0.21938787</td><td>0.032341564</td><td>0.3838258</td><td>1.443536e-02</td><td>0.11289123</td><td>131</td><td>262</td><td>vertical_travel_distance_perh</td><td>1</td><td>10</td></tr>\n",
       "\t<tr><td>0.24320303</td><td>0.117286327</td><td>0.4733814</td><td>2.462405e-02</td><td>0.12505178</td><td>131</td><td>215</td><td>perc_duration_5_Zone         </td><td>1</td><td>11</td></tr>\n",
       "\t<tr><td>0.38623001</td><td>0.276496263</td><td>0.4962586</td><td>8.938236e-03</td><td>0.07951654</td><td>131</td><td>215</td><td>perc_duration_3_Zone         </td><td>1</td><td>11</td></tr>\n",
       "\t<tr><td>0.13145696</td><td>0.000000000</td><td>0.3668135</td><td>1.951345e-01</td><td>0.12395829</td><td>131</td><td>215</td><td>perc_duration_2_Zone         </td><td>1</td><td>11</td></tr>\n",
       "\t<tr><td>0.22518076</td><td>0.048607085</td><td>0.4262438</td><td>1.715396e-02</td><td>0.12594349</td><td>131</td><td>215</td><td>vertical_travel_distance_perh</td><td>1</td><td>11</td></tr>\n",
       "\t<tr><td>0.18455197</td><td>0.035016489</td><td>0.4344884</td><td>7.825668e-02</td><td>0.12712099</td><td>131</td><td>215</td><td>perc_duration_5_Zone         </td><td>1</td><td>12</td></tr>\n",
       "\t<tr><td>0.35495847</td><td>0.266849293</td><td>0.5288873</td><td>2.113433e-02</td><td>0.08557263</td><td>131</td><td>215</td><td>perc_duration_3_Zone         </td><td>1</td><td>12</td></tr>\n",
       "\t<tr><td>...</td><td>...</td><td>...</td><td>...</td><td>...</td><td>...</td><td>...</td><td>...</td><td>...</td><td>...</td></tr>\n",
       "\t<tr><td>0.001291086</td><td>0.000000e+00</td><td>0.09690275</td><td>1.0000000000</td><td>0.03911992</td><td>131</td><td>261</td><td>perc_duration_2_Zone         </td><td>21</td><td>25</td></tr>\n",
       "\t<tr><td>0.312808443</td><td>2.523600e-01</td><td>0.42925943</td><td>0.0004479897</td><td>0.06251548</td><td>131</td><td>261</td><td>vertical_travel_distance_perh</td><td>21</td><td>25</td></tr>\n",
       "\t<tr><td>0.047482546</td><td>5.563241e-19</td><td>0.15040379</td><td>0.4284487388</td><td>0.05424399</td><td>131</td><td>261</td><td>perc_duration_5_Zone         </td><td>21</td><td>26</td></tr>\n",
       "\t<tr><td>0.000000000</td><td>0.000000e+00</td><td>0.14025258</td><td>1.0000000000</td><td>0.05214375</td><td>131</td><td>261</td><td>perc_duration_3_Zone         </td><td>21</td><td>26</td></tr>\n",
       "\t<tr><td>0.012029378</td><td>0.000000e+00</td><td>0.16294340</td><td>1.0000000000</td><td>0.06274229</td><td>131</td><td>261</td><td>perc_duration_2_Zone         </td><td>21</td><td>26</td></tr>\n",
       "\t<tr><td>0.291303010</td><td>1.801595e-01</td><td>0.50457819</td><td>0.0011309902</td><td>0.10699109</td><td>131</td><td>261</td><td>vertical_travel_distance_perh</td><td>21</td><td>26</td></tr>\n",
       "\t<tr><td>0.092919511</td><td>0.000000e+00</td><td>0.21623448</td><td>0.2415893617</td><td>0.08093675</td><td>131</td><td>261</td><td>perc_duration_5_Zone         </td><td>21</td><td>27</td></tr>\n",
       "\t<tr><td>0.000000000</td><td>0.000000e+00</td><td>0.17311809</td><td>0.4999997310</td><td>0.05878550</td><td>131</td><td>261</td><td>perc_duration_3_Zone         </td><td>21</td><td>27</td></tr>\n",
       "\t<tr><td>0.060454147</td><td>0.000000e+00</td><td>0.19530407</td><td>0.3697121306</td><td>0.07474537</td><td>131</td><td>261</td><td>perc_duration_2_Zone         </td><td>21</td><td>27</td></tr>\n",
       "\t<tr><td>0.267711847</td><td>2.201203e-01</td><td>0.45629166</td><td>0.0028426866</td><td>0.07830052</td><td>131</td><td>261</td><td>vertical_travel_distance_perh</td><td>21</td><td>27</td></tr>\n",
       "\t<tr><td>0.044506430</td><td>1.618095e-04</td><td>0.18250031</td><td>0.4410787254</td><td>0.06527175</td><td>131</td><td>261</td><td>perc_duration_5_Zone         </td><td>21</td><td>28</td></tr>\n",
       "\t<tr><td>0.000000000</td><td>0.000000e+00</td><td>0.07033604</td><td>1.0000000000</td><td>0.02567845</td><td>131</td><td>261</td><td>perc_duration_3_Zone         </td><td>21</td><td>28</td></tr>\n",
       "\t<tr><td>0.085456771</td><td>4.951468e-15</td><td>0.18270610</td><td>0.2672441476</td><td>0.06876440</td><td>131</td><td>261</td><td>perc_duration_2_Zone         </td><td>21</td><td>28</td></tr>\n",
       "\t<tr><td>0.258914510</td><td>1.393677e-01</td><td>0.35256333</td><td>0.0039148754</td><td>0.08496450</td><td>131</td><td>261</td><td>vertical_travel_distance_perh</td><td>21</td><td>28</td></tr>\n",
       "\t<tr><td>0.024990684</td><td>0.000000e+00</td><td>0.16329447</td><td>1.0000000000</td><td>0.06857136</td><td>131</td><td>261</td><td>perc_duration_5_Zone         </td><td>21</td><td>29</td></tr>\n",
       "\t<tr><td>0.000000000</td><td>0.000000e+00</td><td>0.19099048</td><td>1.0000000000</td><td>0.07162560</td><td>131</td><td>261</td><td>perc_duration_3_Zone         </td><td>21</td><td>29</td></tr>\n",
       "\t<tr><td>0.068413151</td><td>6.514104e-04</td><td>0.16168029</td><td>0.3359184552</td><td>0.06462068</td><td>131</td><td>261</td><td>perc_duration_2_Zone         </td><td>21</td><td>29</td></tr>\n",
       "\t<tr><td>0.248060826</td><td>6.354068e-02</td><td>0.40291355</td><td>0.0057536272</td><td>0.10709754</td><td>131</td><td>261</td><td>vertical_travel_distance_perh</td><td>21</td><td>29</td></tr>\n",
       "\t<tr><td>0.075928679</td><td>1.571713e-02</td><td>0.23667026</td><td>0.3070301071</td><td>0.08009373</td><td>131</td><td>260</td><td>perc_duration_5_Zone         </td><td>21</td><td>30</td></tr>\n",
       "\t<tr><td>0.031983188</td><td>1.418988e-18</td><td>0.21989821</td><td>1.0000000000</td><td>0.07484522</td><td>131</td><td>260</td><td>perc_duration_3_Zone         </td><td>21</td><td>30</td></tr>\n",
       "\t<tr><td>0.115585675</td><td>6.957432e-03</td><td>0.33983226</td><td>0.1684000631</td><td>0.11673556</td><td>131</td><td>260</td><td>perc_duration_2_Zone         </td><td>21</td><td>30</td></tr>\n",
       "\t<tr><td>0.247555188</td><td>1.914546e-01</td><td>0.35251897</td><td>0.0059670592</td><td>0.05614549</td><td>131</td><td>260</td><td>vertical_travel_distance_perh</td><td>21</td><td>30</td></tr>\n",
       "\t<tr><td>0.017451348</td><td>4.734931e-20</td><td>0.17371686</td><td>1.0000000000</td><td>0.06344765</td><td>131</td><td>260</td><td>perc_duration_5_Zone         </td><td>21</td><td>31</td></tr>\n",
       "\t<tr><td>0.000000000</td><td>0.000000e+00</td><td>0.13529103</td><td>1.0000000000</td><td>0.04991110</td><td>131</td><td>260</td><td>perc_duration_3_Zone         </td><td>21</td><td>31</td></tr>\n",
       "\t<tr><td>0.052033765</td><td>1.118947e-02</td><td>0.20392532</td><td>0.4069446466</td><td>0.07007740</td><td>131</td><td>260</td><td>perc_duration_2_Zone         </td><td>21</td><td>31</td></tr>\n",
       "\t<tr><td>0.266381887</td><td>1.870058e-01</td><td>0.34028282</td><td>0.0030316574</td><td>0.05775400</td><td>131</td><td>260</td><td>vertical_travel_distance_perh</td><td>21</td><td>31</td></tr>\n",
       "\t<tr><td>0.039597213</td><td>0.000000e+00</td><td>0.25977298</td><td>0.4638291349</td><td>0.09630740</td><td>131</td><td>260</td><td>perc_duration_5_Zone         </td><td>21</td><td>32</td></tr>\n",
       "\t<tr><td>0.000000000</td><td>0.000000e+00</td><td>0.14424684</td><td>0.4999997310</td><td>0.05649732</td><td>131</td><td>260</td><td>perc_duration_3_Zone         </td><td>21</td><td>32</td></tr>\n",
       "\t<tr><td>0.065207760</td><td>0.000000e+00</td><td>0.17750021</td><td>0.3493976224</td><td>0.06998245</td><td>131</td><td>260</td><td>perc_duration_2_Zone         </td><td>21</td><td>32</td></tr>\n",
       "\t<tr><td>0.294366943</td><td>1.740621e-01</td><td>0.38532169</td><td>0.0010098763</td><td>0.07563261</td><td>131</td><td>260</td><td>vertical_travel_distance_perh</td><td>21</td><td>32</td></tr>\n",
       "</tbody>\n",
       "</table>\n"
      ],
      "text/latex": [
       "A data.frame: 2100 × 10\n",
       "\\begin{tabular}{llllllllll}\n",
       " li\\_R\\_org & li\\_CIL\\_org & li\\_CIU\\_org & li\\_P & li\\_se\\_org & li\\_ngroup & li\\_nobs & li\\_var & li\\_dib & li\\_nbrdays\\\\\n",
       " <dbl> & <dbl> & <dbl> & <dbl> & <dbl> & <int> & <int> & <chr> & <int> & <int>\\\\\n",
       "\\hline\n",
       "\t 0.61644368 & 0.574921794 & 0.7066795 & 1.592797e-14 & 0.04583929 & 131 & 262 & perc\\_duration\\_5\\_Zone          & 1 &  1\\\\\n",
       "\t 0.32394356 & 0.189443358 & 0.4297383 & 2.708594e-04 & 0.08273106 & 131 & 262 & perc\\_duration\\_3\\_Zone          & 1 &  1\\\\\n",
       "\t 0.75563429 & 0.685128300 & 0.8119609 & 7.180427e-25 & 0.04251475 & 131 & 262 & perc\\_duration\\_2\\_Zone          & 1 &  1\\\\\n",
       "\t 0.56774000 & 0.505514841 & 0.6456241 & 4.885612e-12 & 0.05407463 & 131 & 262 & vertical\\_travel\\_distance\\_perh & 1 &  1\\\\\n",
       "\t 0.51302237 & 0.436777044 & 0.5801168 & 1.053021e-09 & 0.06016709 & 131 & 262 & perc\\_duration\\_5\\_Zone          & 1 &  2\\\\\n",
       "\t 0.42829448 & 0.291579819 & 0.5736484 & 7.614469e-07 & 0.09997758 & 131 & 262 & perc\\_duration\\_3\\_Zone          & 1 &  2\\\\\n",
       "\t 0.55309265 & 0.498371664 & 0.6677083 & 2.275739e-11 & 0.05879311 & 131 & 262 & perc\\_duration\\_2\\_Zone          & 1 &  2\\\\\n",
       "\t 0.53613984 & 0.481835346 & 0.6670907 & 1.228974e-10 & 0.06680733 & 131 & 262 & vertical\\_travel\\_distance\\_perh & 1 &  2\\\\\n",
       "\t 0.40662715 & 0.266865520 & 0.4913014 & 2.191535e-05 & 0.08520271 & 131 & 230 & perc\\_duration\\_5\\_Zone          & 1 &  4\\\\\n",
       "\t 0.34987816 & 0.275896433 & 0.4748735 & 2.153166e-04 & 0.06678024 & 131 & 230 & perc\\_duration\\_3\\_Zone          & 1 &  4\\\\\n",
       "\t 0.53862983 & 0.464998173 & 0.6827190 & 2.459505e-08 & 0.06970993 & 131 & 230 & perc\\_duration\\_2\\_Zone          & 1 &  4\\\\\n",
       "\t 0.43602295 & 0.368187184 & 0.5762035 & 4.981912e-06 & 0.06882859 & 131 & 230 & vertical\\_travel\\_distance\\_perh & 1 &  4\\\\\n",
       "\t 0.19536723 & 0.063713627 & 0.3864678 & 2.870191e-02 & 0.10358893 & 131 & 262 & perc\\_duration\\_5\\_Zone          & 1 &  6\\\\\n",
       "\t 0.11060243 & 0.053222419 & 0.2701353 & 1.814072e-01 & 0.07104468 & 131 & 262 & perc\\_duration\\_3\\_Zone          & 1 &  6\\\\\n",
       "\t 0.24852411 & 0.197483020 & 0.4641138 & 5.632869e-03 & 0.08971583 & 131 & 262 & perc\\_duration\\_2\\_Zone          & 1 &  6\\\\\n",
       "\t 0.44832829 & 0.378791811 & 0.5888788 & 1.894004e-07 & 0.07164986 & 131 & 262 & vertical\\_travel\\_distance\\_perh & 1 &  6\\\\\n",
       "\t 0.12809082 & 0.083215113 & 0.2978712 & 1.329230e-01 & 0.08126027 & 131 & 262 & perc\\_duration\\_5\\_Zone          & 1 &  7\\\\\n",
       "\t 0.05566230 & 0.000000000 & 0.2354843 & 3.908432e-01 & 0.09756457 & 131 & 262 & perc\\_duration\\_3\\_Zone          & 1 &  7\\\\\n",
       "\t 0.21806308 & 0.213295425 & 0.3583686 & 1.502368e-02 & 0.04941225 & 131 & 262 & perc\\_duration\\_2\\_Zone          & 1 &  7\\\\\n",
       "\t 0.41512743 & 0.342501472 & 0.5520628 & 1.807029e-06 & 0.06869623 & 131 & 262 & vertical\\_travel\\_distance\\_perh & 1 &  7\\\\\n",
       "\t 0.22972266 & 0.151572235 & 0.4701352 & 1.048216e-02 & 0.10813071 & 131 & 262 & perc\\_duration\\_5\\_Zone          & 1 & 10\\\\\n",
       "\t 0.03274883 & 0.006053237 & 0.1977894 & 4.942726e-01 & 0.06617492 & 131 & 262 & perc\\_duration\\_3\\_Zone          & 1 & 10\\\\\n",
       "\t 0.20877235 & 0.011713272 & 0.3243849 & 1.974727e-02 & 0.11452798 & 131 & 262 & perc\\_duration\\_2\\_Zone          & 1 & 10\\\\\n",
       "\t 0.21938787 & 0.032341564 & 0.3838258 & 1.443536e-02 & 0.11289123 & 131 & 262 & vertical\\_travel\\_distance\\_perh & 1 & 10\\\\\n",
       "\t 0.24320303 & 0.117286327 & 0.4733814 & 2.462405e-02 & 0.12505178 & 131 & 215 & perc\\_duration\\_5\\_Zone          & 1 & 11\\\\\n",
       "\t 0.38623001 & 0.276496263 & 0.4962586 & 8.938236e-03 & 0.07951654 & 131 & 215 & perc\\_duration\\_3\\_Zone          & 1 & 11\\\\\n",
       "\t 0.13145696 & 0.000000000 & 0.3668135 & 1.951345e-01 & 0.12395829 & 131 & 215 & perc\\_duration\\_2\\_Zone          & 1 & 11\\\\\n",
       "\t 0.22518076 & 0.048607085 & 0.4262438 & 1.715396e-02 & 0.12594349 & 131 & 215 & vertical\\_travel\\_distance\\_perh & 1 & 11\\\\\n",
       "\t 0.18455197 & 0.035016489 & 0.4344884 & 7.825668e-02 & 0.12712099 & 131 & 215 & perc\\_duration\\_5\\_Zone          & 1 & 12\\\\\n",
       "\t 0.35495847 & 0.266849293 & 0.5288873 & 2.113433e-02 & 0.08557263 & 131 & 215 & perc\\_duration\\_3\\_Zone          & 1 & 12\\\\\n",
       "\t ... & ... & ... & ... & ... & ... & ... & ... & ... & ...\\\\\n",
       "\t 0.001291086 & 0.000000e+00 & 0.09690275 & 1.0000000000 & 0.03911992 & 131 & 261 & perc\\_duration\\_2\\_Zone          & 21 & 25\\\\\n",
       "\t 0.312808443 & 2.523600e-01 & 0.42925943 & 0.0004479897 & 0.06251548 & 131 & 261 & vertical\\_travel\\_distance\\_perh & 21 & 25\\\\\n",
       "\t 0.047482546 & 5.563241e-19 & 0.15040379 & 0.4284487388 & 0.05424399 & 131 & 261 & perc\\_duration\\_5\\_Zone          & 21 & 26\\\\\n",
       "\t 0.000000000 & 0.000000e+00 & 0.14025258 & 1.0000000000 & 0.05214375 & 131 & 261 & perc\\_duration\\_3\\_Zone          & 21 & 26\\\\\n",
       "\t 0.012029378 & 0.000000e+00 & 0.16294340 & 1.0000000000 & 0.06274229 & 131 & 261 & perc\\_duration\\_2\\_Zone          & 21 & 26\\\\\n",
       "\t 0.291303010 & 1.801595e-01 & 0.50457819 & 0.0011309902 & 0.10699109 & 131 & 261 & vertical\\_travel\\_distance\\_perh & 21 & 26\\\\\n",
       "\t 0.092919511 & 0.000000e+00 & 0.21623448 & 0.2415893617 & 0.08093675 & 131 & 261 & perc\\_duration\\_5\\_Zone          & 21 & 27\\\\\n",
       "\t 0.000000000 & 0.000000e+00 & 0.17311809 & 0.4999997310 & 0.05878550 & 131 & 261 & perc\\_duration\\_3\\_Zone          & 21 & 27\\\\\n",
       "\t 0.060454147 & 0.000000e+00 & 0.19530407 & 0.3697121306 & 0.07474537 & 131 & 261 & perc\\_duration\\_2\\_Zone          & 21 & 27\\\\\n",
       "\t 0.267711847 & 2.201203e-01 & 0.45629166 & 0.0028426866 & 0.07830052 & 131 & 261 & vertical\\_travel\\_distance\\_perh & 21 & 27\\\\\n",
       "\t 0.044506430 & 1.618095e-04 & 0.18250031 & 0.4410787254 & 0.06527175 & 131 & 261 & perc\\_duration\\_5\\_Zone          & 21 & 28\\\\\n",
       "\t 0.000000000 & 0.000000e+00 & 0.07033604 & 1.0000000000 & 0.02567845 & 131 & 261 & perc\\_duration\\_3\\_Zone          & 21 & 28\\\\\n",
       "\t 0.085456771 & 4.951468e-15 & 0.18270610 & 0.2672441476 & 0.06876440 & 131 & 261 & perc\\_duration\\_2\\_Zone          & 21 & 28\\\\\n",
       "\t 0.258914510 & 1.393677e-01 & 0.35256333 & 0.0039148754 & 0.08496450 & 131 & 261 & vertical\\_travel\\_distance\\_perh & 21 & 28\\\\\n",
       "\t 0.024990684 & 0.000000e+00 & 0.16329447 & 1.0000000000 & 0.06857136 & 131 & 261 & perc\\_duration\\_5\\_Zone          & 21 & 29\\\\\n",
       "\t 0.000000000 & 0.000000e+00 & 0.19099048 & 1.0000000000 & 0.07162560 & 131 & 261 & perc\\_duration\\_3\\_Zone          & 21 & 29\\\\\n",
       "\t 0.068413151 & 6.514104e-04 & 0.16168029 & 0.3359184552 & 0.06462068 & 131 & 261 & perc\\_duration\\_2\\_Zone          & 21 & 29\\\\\n",
       "\t 0.248060826 & 6.354068e-02 & 0.40291355 & 0.0057536272 & 0.10709754 & 131 & 261 & vertical\\_travel\\_distance\\_perh & 21 & 29\\\\\n",
       "\t 0.075928679 & 1.571713e-02 & 0.23667026 & 0.3070301071 & 0.08009373 & 131 & 260 & perc\\_duration\\_5\\_Zone          & 21 & 30\\\\\n",
       "\t 0.031983188 & 1.418988e-18 & 0.21989821 & 1.0000000000 & 0.07484522 & 131 & 260 & perc\\_duration\\_3\\_Zone          & 21 & 30\\\\\n",
       "\t 0.115585675 & 6.957432e-03 & 0.33983226 & 0.1684000631 & 0.11673556 & 131 & 260 & perc\\_duration\\_2\\_Zone          & 21 & 30\\\\\n",
       "\t 0.247555188 & 1.914546e-01 & 0.35251897 & 0.0059670592 & 0.05614549 & 131 & 260 & vertical\\_travel\\_distance\\_perh & 21 & 30\\\\\n",
       "\t 0.017451348 & 4.734931e-20 & 0.17371686 & 1.0000000000 & 0.06344765 & 131 & 260 & perc\\_duration\\_5\\_Zone          & 21 & 31\\\\\n",
       "\t 0.000000000 & 0.000000e+00 & 0.13529103 & 1.0000000000 & 0.04991110 & 131 & 260 & perc\\_duration\\_3\\_Zone          & 21 & 31\\\\\n",
       "\t 0.052033765 & 1.118947e-02 & 0.20392532 & 0.4069446466 & 0.07007740 & 131 & 260 & perc\\_duration\\_2\\_Zone          & 21 & 31\\\\\n",
       "\t 0.266381887 & 1.870058e-01 & 0.34028282 & 0.0030316574 & 0.05775400 & 131 & 260 & vertical\\_travel\\_distance\\_perh & 21 & 31\\\\\n",
       "\t 0.039597213 & 0.000000e+00 & 0.25977298 & 0.4638291349 & 0.09630740 & 131 & 260 & perc\\_duration\\_5\\_Zone          & 21 & 32\\\\\n",
       "\t 0.000000000 & 0.000000e+00 & 0.14424684 & 0.4999997310 & 0.05649732 & 131 & 260 & perc\\_duration\\_3\\_Zone          & 21 & 32\\\\\n",
       "\t 0.065207760 & 0.000000e+00 & 0.17750021 & 0.3493976224 & 0.06998245 & 131 & 260 & perc\\_duration\\_2\\_Zone          & 21 & 32\\\\\n",
       "\t 0.294366943 & 1.740621e-01 & 0.38532169 & 0.0010098763 & 0.07563261 & 131 & 260 & vertical\\_travel\\_distance\\_perh & 21 & 32\\\\\n",
       "\\end{tabular}\n"
      ],
      "text/markdown": [
       "\n",
       "A data.frame: 2100 × 10\n",
       "\n",
       "| li_R_org &lt;dbl&gt; | li_CIL_org &lt;dbl&gt; | li_CIU_org &lt;dbl&gt; | li_P &lt;dbl&gt; | li_se_org &lt;dbl&gt; | li_ngroup &lt;int&gt; | li_nobs &lt;int&gt; | li_var &lt;chr&gt; | li_dib &lt;int&gt; | li_nbrdays &lt;int&gt; |\n",
       "|---|---|---|---|---|---|---|---|---|---|\n",
       "| 0.61644368 | 0.574921794 | 0.7066795 | 1.592797e-14 | 0.04583929 | 131 | 262 | perc_duration_5_Zone          | 1 |  1 |\n",
       "| 0.32394356 | 0.189443358 | 0.4297383 | 2.708594e-04 | 0.08273106 | 131 | 262 | perc_duration_3_Zone          | 1 |  1 |\n",
       "| 0.75563429 | 0.685128300 | 0.8119609 | 7.180427e-25 | 0.04251475 | 131 | 262 | perc_duration_2_Zone          | 1 |  1 |\n",
       "| 0.56774000 | 0.505514841 | 0.6456241 | 4.885612e-12 | 0.05407463 | 131 | 262 | vertical_travel_distance_perh | 1 |  1 |\n",
       "| 0.51302237 | 0.436777044 | 0.5801168 | 1.053021e-09 | 0.06016709 | 131 | 262 | perc_duration_5_Zone          | 1 |  2 |\n",
       "| 0.42829448 | 0.291579819 | 0.5736484 | 7.614469e-07 | 0.09997758 | 131 | 262 | perc_duration_3_Zone          | 1 |  2 |\n",
       "| 0.55309265 | 0.498371664 | 0.6677083 | 2.275739e-11 | 0.05879311 | 131 | 262 | perc_duration_2_Zone          | 1 |  2 |\n",
       "| 0.53613984 | 0.481835346 | 0.6670907 | 1.228974e-10 | 0.06680733 | 131 | 262 | vertical_travel_distance_perh | 1 |  2 |\n",
       "| 0.40662715 | 0.266865520 | 0.4913014 | 2.191535e-05 | 0.08520271 | 131 | 230 | perc_duration_5_Zone          | 1 |  4 |\n",
       "| 0.34987816 | 0.275896433 | 0.4748735 | 2.153166e-04 | 0.06678024 | 131 | 230 | perc_duration_3_Zone          | 1 |  4 |\n",
       "| 0.53862983 | 0.464998173 | 0.6827190 | 2.459505e-08 | 0.06970993 | 131 | 230 | perc_duration_2_Zone          | 1 |  4 |\n",
       "| 0.43602295 | 0.368187184 | 0.5762035 | 4.981912e-06 | 0.06882859 | 131 | 230 | vertical_travel_distance_perh | 1 |  4 |\n",
       "| 0.19536723 | 0.063713627 | 0.3864678 | 2.870191e-02 | 0.10358893 | 131 | 262 | perc_duration_5_Zone          | 1 |  6 |\n",
       "| 0.11060243 | 0.053222419 | 0.2701353 | 1.814072e-01 | 0.07104468 | 131 | 262 | perc_duration_3_Zone          | 1 |  6 |\n",
       "| 0.24852411 | 0.197483020 | 0.4641138 | 5.632869e-03 | 0.08971583 | 131 | 262 | perc_duration_2_Zone          | 1 |  6 |\n",
       "| 0.44832829 | 0.378791811 | 0.5888788 | 1.894004e-07 | 0.07164986 | 131 | 262 | vertical_travel_distance_perh | 1 |  6 |\n",
       "| 0.12809082 | 0.083215113 | 0.2978712 | 1.329230e-01 | 0.08126027 | 131 | 262 | perc_duration_5_Zone          | 1 |  7 |\n",
       "| 0.05566230 | 0.000000000 | 0.2354843 | 3.908432e-01 | 0.09756457 | 131 | 262 | perc_duration_3_Zone          | 1 |  7 |\n",
       "| 0.21806308 | 0.213295425 | 0.3583686 | 1.502368e-02 | 0.04941225 | 131 | 262 | perc_duration_2_Zone          | 1 |  7 |\n",
       "| 0.41512743 | 0.342501472 | 0.5520628 | 1.807029e-06 | 0.06869623 | 131 | 262 | vertical_travel_distance_perh | 1 |  7 |\n",
       "| 0.22972266 | 0.151572235 | 0.4701352 | 1.048216e-02 | 0.10813071 | 131 | 262 | perc_duration_5_Zone          | 1 | 10 |\n",
       "| 0.03274883 | 0.006053237 | 0.1977894 | 4.942726e-01 | 0.06617492 | 131 | 262 | perc_duration_3_Zone          | 1 | 10 |\n",
       "| 0.20877235 | 0.011713272 | 0.3243849 | 1.974727e-02 | 0.11452798 | 131 | 262 | perc_duration_2_Zone          | 1 | 10 |\n",
       "| 0.21938787 | 0.032341564 | 0.3838258 | 1.443536e-02 | 0.11289123 | 131 | 262 | vertical_travel_distance_perh | 1 | 10 |\n",
       "| 0.24320303 | 0.117286327 | 0.4733814 | 2.462405e-02 | 0.12505178 | 131 | 215 | perc_duration_5_Zone          | 1 | 11 |\n",
       "| 0.38623001 | 0.276496263 | 0.4962586 | 8.938236e-03 | 0.07951654 | 131 | 215 | perc_duration_3_Zone          | 1 | 11 |\n",
       "| 0.13145696 | 0.000000000 | 0.3668135 | 1.951345e-01 | 0.12395829 | 131 | 215 | perc_duration_2_Zone          | 1 | 11 |\n",
       "| 0.22518076 | 0.048607085 | 0.4262438 | 1.715396e-02 | 0.12594349 | 131 | 215 | vertical_travel_distance_perh | 1 | 11 |\n",
       "| 0.18455197 | 0.035016489 | 0.4344884 | 7.825668e-02 | 0.12712099 | 131 | 215 | perc_duration_5_Zone          | 1 | 12 |\n",
       "| 0.35495847 | 0.266849293 | 0.5288873 | 2.113433e-02 | 0.08557263 | 131 | 215 | perc_duration_3_Zone          | 1 | 12 |\n",
       "| ... | ... | ... | ... | ... | ... | ... | ... | ... | ... |\n",
       "| 0.001291086 | 0.000000e+00 | 0.09690275 | 1.0000000000 | 0.03911992 | 131 | 261 | perc_duration_2_Zone          | 21 | 25 |\n",
       "| 0.312808443 | 2.523600e-01 | 0.42925943 | 0.0004479897 | 0.06251548 | 131 | 261 | vertical_travel_distance_perh | 21 | 25 |\n",
       "| 0.047482546 | 5.563241e-19 | 0.15040379 | 0.4284487388 | 0.05424399 | 131 | 261 | perc_duration_5_Zone          | 21 | 26 |\n",
       "| 0.000000000 | 0.000000e+00 | 0.14025258 | 1.0000000000 | 0.05214375 | 131 | 261 | perc_duration_3_Zone          | 21 | 26 |\n",
       "| 0.012029378 | 0.000000e+00 | 0.16294340 | 1.0000000000 | 0.06274229 | 131 | 261 | perc_duration_2_Zone          | 21 | 26 |\n",
       "| 0.291303010 | 1.801595e-01 | 0.50457819 | 0.0011309902 | 0.10699109 | 131 | 261 | vertical_travel_distance_perh | 21 | 26 |\n",
       "| 0.092919511 | 0.000000e+00 | 0.21623448 | 0.2415893617 | 0.08093675 | 131 | 261 | perc_duration_5_Zone          | 21 | 27 |\n",
       "| 0.000000000 | 0.000000e+00 | 0.17311809 | 0.4999997310 | 0.05878550 | 131 | 261 | perc_duration_3_Zone          | 21 | 27 |\n",
       "| 0.060454147 | 0.000000e+00 | 0.19530407 | 0.3697121306 | 0.07474537 | 131 | 261 | perc_duration_2_Zone          | 21 | 27 |\n",
       "| 0.267711847 | 2.201203e-01 | 0.45629166 | 0.0028426866 | 0.07830052 | 131 | 261 | vertical_travel_distance_perh | 21 | 27 |\n",
       "| 0.044506430 | 1.618095e-04 | 0.18250031 | 0.4410787254 | 0.06527175 | 131 | 261 | perc_duration_5_Zone          | 21 | 28 |\n",
       "| 0.000000000 | 0.000000e+00 | 0.07033604 | 1.0000000000 | 0.02567845 | 131 | 261 | perc_duration_3_Zone          | 21 | 28 |\n",
       "| 0.085456771 | 4.951468e-15 | 0.18270610 | 0.2672441476 | 0.06876440 | 131 | 261 | perc_duration_2_Zone          | 21 | 28 |\n",
       "| 0.258914510 | 1.393677e-01 | 0.35256333 | 0.0039148754 | 0.08496450 | 131 | 261 | vertical_travel_distance_perh | 21 | 28 |\n",
       "| 0.024990684 | 0.000000e+00 | 0.16329447 | 1.0000000000 | 0.06857136 | 131 | 261 | perc_duration_5_Zone          | 21 | 29 |\n",
       "| 0.000000000 | 0.000000e+00 | 0.19099048 | 1.0000000000 | 0.07162560 | 131 | 261 | perc_duration_3_Zone          | 21 | 29 |\n",
       "| 0.068413151 | 6.514104e-04 | 0.16168029 | 0.3359184552 | 0.06462068 | 131 | 261 | perc_duration_2_Zone          | 21 | 29 |\n",
       "| 0.248060826 | 6.354068e-02 | 0.40291355 | 0.0057536272 | 0.10709754 | 131 | 261 | vertical_travel_distance_perh | 21 | 29 |\n",
       "| 0.075928679 | 1.571713e-02 | 0.23667026 | 0.3070301071 | 0.08009373 | 131 | 260 | perc_duration_5_Zone          | 21 | 30 |\n",
       "| 0.031983188 | 1.418988e-18 | 0.21989821 | 1.0000000000 | 0.07484522 | 131 | 260 | perc_duration_3_Zone          | 21 | 30 |\n",
       "| 0.115585675 | 6.957432e-03 | 0.33983226 | 0.1684000631 | 0.11673556 | 131 | 260 | perc_duration_2_Zone          | 21 | 30 |\n",
       "| 0.247555188 | 1.914546e-01 | 0.35251897 | 0.0059670592 | 0.05614549 | 131 | 260 | vertical_travel_distance_perh | 21 | 30 |\n",
       "| 0.017451348 | 4.734931e-20 | 0.17371686 | 1.0000000000 | 0.06344765 | 131 | 260 | perc_duration_5_Zone          | 21 | 31 |\n",
       "| 0.000000000 | 0.000000e+00 | 0.13529103 | 1.0000000000 | 0.04991110 | 131 | 260 | perc_duration_3_Zone          | 21 | 31 |\n",
       "| 0.052033765 | 1.118947e-02 | 0.20392532 | 0.4069446466 | 0.07007740 | 131 | 260 | perc_duration_2_Zone          | 21 | 31 |\n",
       "| 0.266381887 | 1.870058e-01 | 0.34028282 | 0.0030316574 | 0.05775400 | 131 | 260 | vertical_travel_distance_perh | 21 | 31 |\n",
       "| 0.039597213 | 0.000000e+00 | 0.25977298 | 0.4638291349 | 0.09630740 | 131 | 260 | perc_duration_5_Zone          | 21 | 32 |\n",
       "| 0.000000000 | 0.000000e+00 | 0.14424684 | 0.4999997310 | 0.05649732 | 131 | 260 | perc_duration_3_Zone          | 21 | 32 |\n",
       "| 0.065207760 | 0.000000e+00 | 0.17750021 | 0.3493976224 | 0.06998245 | 131 | 260 | perc_duration_2_Zone          | 21 | 32 |\n",
       "| 0.294366943 | 1.740621e-01 | 0.38532169 | 0.0010098763 | 0.07563261 | 131 | 260 | vertical_travel_distance_perh | 21 | 32 |\n",
       "\n"
      ],
      "text/plain": [
       "     li_R_org    li_CIL_org   li_CIU_org li_P         li_se_org  li_ngroup\n",
       "1    0.61644368  0.574921794  0.7066795  1.592797e-14 0.04583929 131      \n",
       "2    0.32394356  0.189443358  0.4297383  2.708594e-04 0.08273106 131      \n",
       "3    0.75563429  0.685128300  0.8119609  7.180427e-25 0.04251475 131      \n",
       "4    0.56774000  0.505514841  0.6456241  4.885612e-12 0.05407463 131      \n",
       "5    0.51302237  0.436777044  0.5801168  1.053021e-09 0.06016709 131      \n",
       "6    0.42829448  0.291579819  0.5736484  7.614469e-07 0.09997758 131      \n",
       "7    0.55309265  0.498371664  0.6677083  2.275739e-11 0.05879311 131      \n",
       "8    0.53613984  0.481835346  0.6670907  1.228974e-10 0.06680733 131      \n",
       "9    0.40662715  0.266865520  0.4913014  2.191535e-05 0.08520271 131      \n",
       "10   0.34987816  0.275896433  0.4748735  2.153166e-04 0.06678024 131      \n",
       "11   0.53862983  0.464998173  0.6827190  2.459505e-08 0.06970993 131      \n",
       "12   0.43602295  0.368187184  0.5762035  4.981912e-06 0.06882859 131      \n",
       "13   0.19536723  0.063713627  0.3864678  2.870191e-02 0.10358893 131      \n",
       "14   0.11060243  0.053222419  0.2701353  1.814072e-01 0.07104468 131      \n",
       "15   0.24852411  0.197483020  0.4641138  5.632869e-03 0.08971583 131      \n",
       "16   0.44832829  0.378791811  0.5888788  1.894004e-07 0.07164986 131      \n",
       "17   0.12809082  0.083215113  0.2978712  1.329230e-01 0.08126027 131      \n",
       "18   0.05566230  0.000000000  0.2354843  3.908432e-01 0.09756457 131      \n",
       "19   0.21806308  0.213295425  0.3583686  1.502368e-02 0.04941225 131      \n",
       "20   0.41512743  0.342501472  0.5520628  1.807029e-06 0.06869623 131      \n",
       "21   0.22972266  0.151572235  0.4701352  1.048216e-02 0.10813071 131      \n",
       "22   0.03274883  0.006053237  0.1977894  4.942726e-01 0.06617492 131      \n",
       "23   0.20877235  0.011713272  0.3243849  1.974727e-02 0.11452798 131      \n",
       "24   0.21938787  0.032341564  0.3838258  1.443536e-02 0.11289123 131      \n",
       "25   0.24320303  0.117286327  0.4733814  2.462405e-02 0.12505178 131      \n",
       "26   0.38623001  0.276496263  0.4962586  8.938236e-03 0.07951654 131      \n",
       "27   0.13145696  0.000000000  0.3668135  1.951345e-01 0.12395829 131      \n",
       "28   0.22518076  0.048607085  0.4262438  1.715396e-02 0.12594349 131      \n",
       "29   0.18455197  0.035016489  0.4344884  7.825668e-02 0.12712099 131      \n",
       "30   0.35495847  0.266849293  0.5288873  2.113433e-02 0.08557263 131      \n",
       "...  ...         ...          ...        ...          ...        ...      \n",
       "2071 0.001291086 0.000000e+00 0.09690275 1.0000000000 0.03911992 131      \n",
       "2072 0.312808443 2.523600e-01 0.42925943 0.0004479897 0.06251548 131      \n",
       "2073 0.047482546 5.563241e-19 0.15040379 0.4284487388 0.05424399 131      \n",
       "2074 0.000000000 0.000000e+00 0.14025258 1.0000000000 0.05214375 131      \n",
       "2075 0.012029378 0.000000e+00 0.16294340 1.0000000000 0.06274229 131      \n",
       "2076 0.291303010 1.801595e-01 0.50457819 0.0011309902 0.10699109 131      \n",
       "2077 0.092919511 0.000000e+00 0.21623448 0.2415893617 0.08093675 131      \n",
       "2078 0.000000000 0.000000e+00 0.17311809 0.4999997310 0.05878550 131      \n",
       "2079 0.060454147 0.000000e+00 0.19530407 0.3697121306 0.07474537 131      \n",
       "2080 0.267711847 2.201203e-01 0.45629166 0.0028426866 0.07830052 131      \n",
       "2081 0.044506430 1.618095e-04 0.18250031 0.4410787254 0.06527175 131      \n",
       "2082 0.000000000 0.000000e+00 0.07033604 1.0000000000 0.02567845 131      \n",
       "2083 0.085456771 4.951468e-15 0.18270610 0.2672441476 0.06876440 131      \n",
       "2084 0.258914510 1.393677e-01 0.35256333 0.0039148754 0.08496450 131      \n",
       "2085 0.024990684 0.000000e+00 0.16329447 1.0000000000 0.06857136 131      \n",
       "2086 0.000000000 0.000000e+00 0.19099048 1.0000000000 0.07162560 131      \n",
       "2087 0.068413151 6.514104e-04 0.16168029 0.3359184552 0.06462068 131      \n",
       "2088 0.248060826 6.354068e-02 0.40291355 0.0057536272 0.10709754 131      \n",
       "2089 0.075928679 1.571713e-02 0.23667026 0.3070301071 0.08009373 131      \n",
       "2090 0.031983188 1.418988e-18 0.21989821 1.0000000000 0.07484522 131      \n",
       "2091 0.115585675 6.957432e-03 0.33983226 0.1684000631 0.11673556 131      \n",
       "2092 0.247555188 1.914546e-01 0.35251897 0.0059670592 0.05614549 131      \n",
       "2093 0.017451348 4.734931e-20 0.17371686 1.0000000000 0.06344765 131      \n",
       "2094 0.000000000 0.000000e+00 0.13529103 1.0000000000 0.04991110 131      \n",
       "2095 0.052033765 1.118947e-02 0.20392532 0.4069446466 0.07007740 131      \n",
       "2096 0.266381887 1.870058e-01 0.34028282 0.0030316574 0.05775400 131      \n",
       "2097 0.039597213 0.000000e+00 0.25977298 0.4638291349 0.09630740 131      \n",
       "2098 0.000000000 0.000000e+00 0.14424684 0.4999997310 0.05649732 131      \n",
       "2099 0.065207760 0.000000e+00 0.17750021 0.3493976224 0.06998245 131      \n",
       "2100 0.294366943 1.740621e-01 0.38532169 0.0010098763 0.07563261 131      \n",
       "     li_nobs li_var                        li_dib li_nbrdays\n",
       "1    262     perc_duration_5_Zone          1       1        \n",
       "2    262     perc_duration_3_Zone          1       1        \n",
       "3    262     perc_duration_2_Zone          1       1        \n",
       "4    262     vertical_travel_distance_perh 1       1        \n",
       "5    262     perc_duration_5_Zone          1       2        \n",
       "6    262     perc_duration_3_Zone          1       2        \n",
       "7    262     perc_duration_2_Zone          1       2        \n",
       "8    262     vertical_travel_distance_perh 1       2        \n",
       "9    230     perc_duration_5_Zone          1       4        \n",
       "10   230     perc_duration_3_Zone          1       4        \n",
       "11   230     perc_duration_2_Zone          1       4        \n",
       "12   230     vertical_travel_distance_perh 1       4        \n",
       "13   262     perc_duration_5_Zone          1       6        \n",
       "14   262     perc_duration_3_Zone          1       6        \n",
       "15   262     perc_duration_2_Zone          1       6        \n",
       "16   262     vertical_travel_distance_perh 1       6        \n",
       "17   262     perc_duration_5_Zone          1       7        \n",
       "18   262     perc_duration_3_Zone          1       7        \n",
       "19   262     perc_duration_2_Zone          1       7        \n",
       "20   262     vertical_travel_distance_perh 1       7        \n",
       "21   262     perc_duration_5_Zone          1      10        \n",
       "22   262     perc_duration_3_Zone          1      10        \n",
       "23   262     perc_duration_2_Zone          1      10        \n",
       "24   262     vertical_travel_distance_perh 1      10        \n",
       "25   215     perc_duration_5_Zone          1      11        \n",
       "26   215     perc_duration_3_Zone          1      11        \n",
       "27   215     perc_duration_2_Zone          1      11        \n",
       "28   215     vertical_travel_distance_perh 1      11        \n",
       "29   215     perc_duration_5_Zone          1      12        \n",
       "30   215     perc_duration_3_Zone          1      12        \n",
       "...  ...     ...                           ...    ...       \n",
       "2071 261     perc_duration_2_Zone          21     25        \n",
       "2072 261     vertical_travel_distance_perh 21     25        \n",
       "2073 261     perc_duration_5_Zone          21     26        \n",
       "2074 261     perc_duration_3_Zone          21     26        \n",
       "2075 261     perc_duration_2_Zone          21     26        \n",
       "2076 261     vertical_travel_distance_perh 21     26        \n",
       "2077 261     perc_duration_5_Zone          21     27        \n",
       "2078 261     perc_duration_3_Zone          21     27        \n",
       "2079 261     perc_duration_2_Zone          21     27        \n",
       "2080 261     vertical_travel_distance_perh 21     27        \n",
       "2081 261     perc_duration_5_Zone          21     28        \n",
       "2082 261     perc_duration_3_Zone          21     28        \n",
       "2083 261     perc_duration_2_Zone          21     28        \n",
       "2084 261     vertical_travel_distance_perh 21     28        \n",
       "2085 261     perc_duration_5_Zone          21     29        \n",
       "2086 261     perc_duration_3_Zone          21     29        \n",
       "2087 261     perc_duration_2_Zone          21     29        \n",
       "2088 261     vertical_travel_distance_perh 21     29        \n",
       "2089 260     perc_duration_5_Zone          21     30        \n",
       "2090 260     perc_duration_3_Zone          21     30        \n",
       "2091 260     perc_duration_2_Zone          21     30        \n",
       "2092 260     vertical_travel_distance_perh 21     30        \n",
       "2093 260     perc_duration_5_Zone          21     31        \n",
       "2094 260     perc_duration_3_Zone          21     31        \n",
       "2095 260     perc_duration_2_Zone          21     31        \n",
       "2096 260     vertical_travel_distance_perh 21     31        \n",
       "2097 260     perc_duration_5_Zone          21     32        \n",
       "2098 260     perc_duration_3_Zone          21     32        \n",
       "2099 260     perc_duration_2_Zone          21     32        \n",
       "2100 260     vertical_travel_distance_perh 21     32        "
      ]
     },
     "metadata": {},
     "output_type": "display_data"
    }
   ],
   "source": [
    "df_res"
   ]
  },
  {
   "cell_type": "code",
   "execution_count": 10,
   "metadata": {},
   "outputs": [
    {
     "name": "stderr",
     "output_type": "stream",
     "text": [
      "Saving 6.67 x 6.67 in image\n",
      "\n"
     ]
    },
    {
     "data": {
      "image/png": "[encoded data removed]",
      "text/plain": [
       "plot without title"
      ]
     },
     "metadata": {
      "image/png": {
       "height": 420,
       "width": 420
      }
     },
     "output_type": "display_data"
    }
   ],
   "source": [
    "p = ggplot(df_res[ which(df_res$li_var=='vertical_travel_distance_perh'), ] , aes(x=li_nbrdays, y=li_R_org, group=li_dib, color=li_dib, position='fill')) +\n",
    "  geom_point(size=2.5, position = position_dodge(width=1)) +\n",
    "  geom_errorbar(aes(ymax = li_CIU_org, ymin = li_CIL_org), position = position_dodge(width=1)) +\n",
    "  theme(aspect.ratio = 0.8)\n",
    "p + ggtitle(\"Vertical travel distance per hour\") +\n",
    "  xlab(\"number of days\") + ylab(\"repeatability\")+ coord_cartesian(ylim = c(0, 1))\n",
    "ggsave(file.path(path_,'repeatability_vertical_travel_distance_perh_org.png'))"
   ]
  },
  {
   "cell_type": "code",
   "execution_count": 11,
   "metadata": {},
   "outputs": [
    {
     "name": "stderr",
     "output_type": "stream",
     "text": [
      "Saving 6.67 x 6.67 in image\n",
      "\n"
     ]
    },
    {
     "data": {
      "image/png": "[encoded data removed]",
      "text/plain": [
       "plot without title"
      ]
     },
     "metadata": {
      "image/png": {
       "height": 420,
       "width": 420
      }
     },
     "output_type": "display_data"
    }
   ],
   "source": [
    "p = ggplot(df_res[ which(df_res$li_var=='perc_duration_5_Zone'), ] , aes(x=li_nbrdays, y=li_R_org, group=li_dib, color=li_dib, position='fill')) +\n",
    "  geom_point(size=2.5, position = position_dodge(width=1)) +\n",
    "  geom_errorbar(aes(ymax = li_CIU_org, ymin = li_CIL_org), position = position_dodge(width=1)) +\n",
    "  theme(aspect.ratio = 0.8)\n",
    "p + ggtitle(\"Percentage of duration in zone 5\") +\n",
    "  xlab(\"number of days\") + ylab(\"repeatability\")+ coord_cartesian(ylim = c(0, 1))\n",
    "ggsave(file.path(path_,'repeatability_perc_duration_5_Zone_org.png'))"
   ]
  },
  {
   "cell_type": "code",
   "execution_count": 12,
   "metadata": {},
   "outputs": [
    {
     "name": "stderr",
     "output_type": "stream",
     "text": [
      "Saving 6.67 x 6.67 in image\n",
      "\n"
     ]
    },
    {
     "data": {
      "image/png": "[encoded data removed]",
      "text/plain": [
       "plot without title"
      ]
     },
     "metadata": {
      "image/png": {
       "height": 420,
       "width": 420
      }
     },
     "output_type": "display_data"
    }
   ],
   "source": [
    "p = ggplot(df_res[ which(df_res$li_var=='perc_duration_2_Zone'), ] , aes(x=li_nbrdays, y=li_R_org, group=li_dib, color=li_dib, position='fill')) +\n",
    "  geom_point(size=2.5, position = position_dodge(width=1)) +\n",
    "  geom_errorbar(aes(ymax = li_CIU_org, ymin = li_CIL_org), position = position_dodge(width=1)) +\n",
    "  theme(aspect.ratio = 0.8)\n",
    "p + ggtitle(\"Percentage of duration in zone 2\") +\n",
    "  xlab(\"number of days\") + ylab(\"repeatability\")+ coord_cartesian(ylim = c(0, 1))\n",
    "ggsave(file.path(path_,'repeatability_perc_duration_2_Zone_org.png'))"
   ]
  },
  {
   "cell_type": "code",
   "execution_count": 13,
   "metadata": {},
   "outputs": [
    {
     "name": "stderr",
     "output_type": "stream",
     "text": [
      "Saving 6.67 x 6.67 in image\n",
      "\n"
     ]
    },
    {
     "data": {
      "image/png": "[encoded data removed]",
      "text/plain": [
       "plot without title"
      ]
     },
     "metadata": {
      "image/png": {
       "height": 420,
       "width": 420
      }
     },
     "output_type": "display_data"
    }
   ],
   "source": [
    "p = ggplot(df_res[ which(df_res$li_var=='perc_duration_3_Zone'), ] , aes(x=li_nbrdays, y=li_R_org, group=li_dib, color=li_dib, position='fill')) +\n",
    "  geom_point(size=2.5, position = position_dodge(width=1)) +\n",
    "  geom_errorbar(aes(ymax = li_CIU_org, ymin = li_CIL_org), position = position_dodge(width=1)) +\n",
    "  theme(aspect.ratio = 0.8)\n",
    "p + ggtitle(\"Percentage of duration in zone 3\") +\n",
    "  xlab(\"number of days\") + ylab(\"repeatability\")+ coord_cartesian(ylim = c(0, 1))\n",
    "ggsave(file.path(path_,'repeatability_perc_duration_3_Zone_org.png'))"
   ]
  },
  {
   "cell_type": "code",
   "execution_count": null,
   "metadata": {},
   "outputs": [],
   "source": []
  },
  {
   "cell_type": "code",
   "execution_count": null,
   "metadata": {},
   "outputs": [],
   "source": []
  },
  {
   "cell_type": "code",
   "execution_count": null,
   "metadata": {},
   "outputs": [],
   "source": []
  },
  {
   "cell_type": "code",
   "execution_count": null,
   "metadata": {},
   "outputs": [],
   "source": []
  },
  {
   "cell_type": "code",
   "execution_count": null,
   "metadata": {},
   "outputs": [],
   "source": []
  },
  {
   "cell_type": "code",
   "execution_count": null,
   "metadata": {},
   "outputs": [],
   "source": []
  },
  {
   "cell_type": "code",
   "execution_count": null,
   "metadata": {},
   "outputs": [],
   "source": []
  }
 ],
 "metadata": {
  "kernelspec": {
   "display_name": "R 4.0.3",
   "language": "R",
   "name": "ir35"
  },
  "language_info": {
   "codemirror_mode": "r",
   "file_extension": ".r",
   "mimetype": "text/x-r-source",
   "name": "R",
   "pygments_lexer": "r",
   "version": "4.0.3"
  }
 },
 "nbformat": 4,
 "nbformat_minor": 4
}
