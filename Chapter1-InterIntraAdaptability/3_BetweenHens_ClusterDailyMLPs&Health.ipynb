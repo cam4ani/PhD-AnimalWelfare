{
 "cells": [
  {
   "cell_type": "code",
   "execution_count": 65,
   "metadata": {},
   "outputs": [
    {
     "name": "stderr",
     "output_type": "stream",
     "text": [
      "C:\\Users\\camil\\anaconda3\\lib\\site-packages\\ipykernel\\ipkernel.py:283: DeprecationWarning: `should_run_async` will not call `transform_cell` automatically in the future. Please pass the result to `transformed_cell` argument and any exception that happen during thetransform in `preprocessing_exc_tuple` in IPython 7.17 and above.\n",
      "  and should_run_async(code)\n"
     ]
    }
   ],
   "source": [
    "#basic package\n",
    "import tqdm\n",
    "import os\n",
    "import numpy as np\n",
    "import glob\n",
    "import pandas as pd\n",
    "import sys\n",
    "import time\n",
    "import datetime as dt\n",
    "import itertools\n",
    "import re\n",
    "import math\n",
    "from collections import Counter\n",
    "import operator\n",
    "from scipy import stats\n",
    "from scipy.spatial.distance import cdist #for euclidean distance of consistency t\n",
    "from numpy import inf\n",
    "import networkx as nx\n",
    "from dtaidistance import dtw\n",
    "import random\n",
    "from sklearn.preprocessing import normalize\n",
    "import pickle\n",
    "from collections import defaultdict\n",
    "\n",
    "#clustering\n",
    "from sklearn.cluster import AgglomerativeClustering \n",
    "\n",
    "#scaling\n",
    "from sklearn.preprocessing import StandardScaler, MinMaxScaler\n",
    "\n",
    "#interpolate curves for clustering among birds with not exact same days tracked\n",
    "#from scipy.interpolate import interp1d\n",
    "\n",
    "#PCA\n",
    "from sklearn import decomposition\n",
    "\n",
    "#clustering\n",
    "from sklearn.cluster import KMeans #only numerical var\n",
    "from sklearn.metrics import silhouette_samples, silhouette_score, adjusted_rand_score\n",
    "import kmodes\n",
    "from kmodes.kmodes import KModes #with categorical var as well\n",
    "\n",
    "#plot\n",
    "import matplotlib.pyplot as plt\n",
    "import seaborn as sns\n",
    "import dexplot as dxp #for easy barplot"
   ]
  },
  {
   "cell_type": "code",
   "execution_count": 2,
   "metadata": {},
   "outputs": [
    {
     "name": "stderr",
     "output_type": "stream",
     "text": [
      "C:\\Users\\camil\\anaconda3\\lib\\site-packages\\scipy\\sparse\\sparsetools.py:21: DeprecationWarning: `scipy.sparse.sparsetools` is deprecated!\n",
      "scipy.sparse.sparsetools is a private module for scipy.sparse, and should not be used.\n",
      "  _deprecated()\n"
     ]
    }
   ],
   "source": [
    "PACKAGE_PARENT = '../'\n",
    "SCRIPT_DIR = os.path.dirname(os.path.realpath(os.path.join(os.getcwd(), os.path.expanduser('__file__'))))\n",
    "sys.path.append(os.path.normpath(os.path.join(SCRIPT_DIR, PACKAGE_PARENT)))\n",
    "from UTILS import kmeans_clustering, sampen, chi2_distance, ts_visual, correct_key\n",
    "import config_origins as config"
   ]
  },
  {
   "cell_type": "code",
   "execution_count": 3,
   "metadata": {},
   "outputs": [
    {
     "name": "stderr",
     "output_type": "stream",
     "text": [
      "C:\\Users\\camil\\anaconda3\\lib\\site-packages\\ipykernel\\ipkernel.py:283: DeprecationWarning: `should_run_async` will not call `transform_cell` automatically in the future. Please pass the result to `transformed_cell` argument and any exception that happen during thetransform in `preprocessing_exc_tuple` in IPython 7.17 and above.\n",
      "  and should_run_async(code)\n"
     ]
    }
   ],
   "source": [
    "rv = 0"
   ]
  },
  {
   "cell_type": "markdown",
   "metadata": {},
   "source": [
    "# Define parameters"
   ]
  },
  {
   "cell_type": "code",
   "execution_count": 4,
   "metadata": {
    "scrolled": true
   },
   "outputs": [
    {
     "name": "stderr",
     "output_type": "stream",
     "text": [
      "C:\\Users\\camil\\anaconda3\\lib\\site-packages\\ipykernel\\ipkernel.py:283: DeprecationWarning: `should_run_async` will not call `transform_cell` automatically in the future. Please pass the result to `transformed_cell` argument and any exception that happen during thetransform in `preprocessing_exc_tuple` in IPython 7.17 and above.\n",
      "  and should_run_async(code)\n"
     ]
    },
    {
     "name": "stdout",
     "output_type": "stream",
     "text": [
      "change the configuration file if not done yet!\n"
     ]
    }
   ],
   "source": [
    "print('change the configuration file if not done yet!')\n",
    "path_extracted_data = config.path_extracted_data\n",
    "path_initial_data = config.path_initial_data\n",
    "id_run = config.id_run\n",
    "dico_matching = config.dico_matching\n",
    "li_binmn = config.li_binmn\n",
    "pal_class_treat = config.pal_class_treat\n",
    "pal_treat = config.pal_treat\n",
    "pal_class = config.pal_class\n",
    "birth_date = config.birth_date\n",
    "dico_night_hour = config.dico_night_hour\n",
    "pal_interintre_treatment = config.pal_interintre_treatment\n",
    "max_date_adaptability = config.max_date_adaptability\n",
    "dico_pen_tr = config.dico_pen_tr\n",
    "path_extracted_data_visual = os.path.join(path_extracted_data,'visual')\n",
    "path_extracted_data_visual_corr = os.path.join(path_extracted_data,'visual','correlation')\n",
    "path_extracted_data_visual_adap = os.path.join(path_extracted_data,'visual','Treatment&Classs','adaptability')\n",
    "path_extracted_data_visual_adap_clustering = os.path.join(path_extracted_data_visual_adap,'clustering')\n",
    "for nbr_bin in li_binmn:\n",
    "    path_extracted_data_visual_adap_binmn = os.path.join(path_extracted_data,'visual','Treatment&Classs','adaptability',str(nbr_bin))\n",
    "    #create a director if not existing\n",
    "    if not os.path.exists(path_extracted_data_visual_adap_binmn):\n",
    "        os.makedirs(path_extracted_data_visual_adap_binmn)"
   ]
  },
  {
   "cell_type": "raw",
   "metadata": {},
   "source": [
    "TODO: DUE to non removal of non existing MLPS!!!!!!! using df_daily as in routinedev_distance_notebook"
   ]
  },
  {
   "cell_type": "markdown",
   "metadata": {},
   "source": [
    "# Download variables"
   ]
  },
  {
   "cell_type": "code",
   "execution_count": 5,
   "metadata": {},
   "outputs": [
    {
     "name": "stderr",
     "output_type": "stream",
     "text": [
      "C:\\Users\\camil\\anaconda3\\lib\\site-packages\\ipykernel\\ipkernel.py:283: DeprecationWarning: `should_run_async` will not call `transform_cell` automatically in the future. Please pass the result to `transformed_cell` argument and any exception that happen during thetransform in `preprocessing_exc_tuple` in IPython 7.17 and above.\n",
      "  and should_run_async(code)\n"
     ]
    },
    {
     "name": "stdout",
     "output_type": "stream",
     "text": [
      "131\n"
     ]
    }
   ],
   "source": [
    "li_selected_hens = pickle.load(open(os.path.join(path_extracted_data_visual_adap, 'li_selected_hens.pkl'), 'rb'))\n",
    "print(len(li_selected_hens))\n",
    "#for now we have only distance restricted to 70 animals\n",
    "#compute the CHI2DISTANCE & DTW for each bird with all other birds (because we need this exact same pair to do the visual)\n",
    "#rv = 0\n",
    "#random.seed(rv)\n",
    "#nbr_hens = 70\n",
    "#randomly pick more than one element from the list without repeating elements.\n",
    "#li_selected_hens = random.sample(li_selected_hens, nbr_hens)"
   ]
  },
  {
   "cell_type": "code",
   "execution_count": 30,
   "metadata": {},
   "outputs": [
    {
     "name": "stderr",
     "output_type": "stream",
     "text": [
      "C:\\Users\\camil\\anaconda3\\lib\\site-packages\\ipykernel\\ipkernel.py:283: DeprecationWarning: `should_run_async` will not call `transform_cell` automatically in the future. Please pass the result to `transformed_cell` argument and any exception that happen during thetransform in `preprocessing_exc_tuple` in IPython 7.17 and above.\n",
      "  and should_run_async(code)\n"
     ]
    },
    {
     "name": "stdout",
     "output_type": "stream",
     "text": [
      "(25952410, 11)\n"
     ]
    },
    {
     "data": {
      "text/html": [
       "<div>\n",
       "<style scoped>\n",
       "    .dataframe tbody tr th:only-of-type {\n",
       "        vertical-align: middle;\n",
       "    }\n",
       "\n",
       "    .dataframe tbody tr th {\n",
       "        vertical-align: top;\n",
       "    }\n",
       "\n",
       "    .dataframe thead th {\n",
       "        text-align: right;\n",
       "    }\n",
       "</style>\n",
       "<table border=\"1\" class=\"dataframe\">\n",
       "  <thead>\n",
       "    <tr style=\"text-align: right;\">\n",
       "      <th></th>\n",
       "      <th>chi2distance_ALL_15</th>\n",
       "      <th>h1</th>\n",
       "      <th>h2</th>\n",
       "      <th>henID1</th>\n",
       "      <th>henID2</th>\n",
       "      <th>level1</th>\n",
       "      <th>level2</th>\n",
       "      <th>DIB1</th>\n",
       "      <th>DIB2</th>\n",
       "      <th>MLPID1</th>\n",
       "      <th>MLPID2</th>\n",
       "    </tr>\n",
       "  </thead>\n",
       "  <tbody>\n",
       "    <tr>\n",
       "      <th>0</th>\n",
       "      <td>0.890901</td>\n",
       "      <td>hen_131/2020-09-30</td>\n",
       "      <td>hen_134/2020-09-30</td>\n",
       "      <td>hen_131</td>\n",
       "      <td>hen_134</td>\n",
       "      <td>2020-09-30</td>\n",
       "      <td>2020-09-30</td>\n",
       "      <td>1</td>\n",
       "      <td>1</td>\n",
       "      <td>hen_131-1</td>\n",
       "      <td>hen_134-1</td>\n",
       "    </tr>\n",
       "    <tr>\n",
       "      <th>1</th>\n",
       "      <td>0.202226</td>\n",
       "      <td>hen_131/2020-09-30</td>\n",
       "      <td>hen_138/2020-09-30</td>\n",
       "      <td>hen_131</td>\n",
       "      <td>hen_138</td>\n",
       "      <td>2020-09-30</td>\n",
       "      <td>2020-09-30</td>\n",
       "      <td>1</td>\n",
       "      <td>1</td>\n",
       "      <td>hen_131-1</td>\n",
       "      <td>hen_138-1</td>\n",
       "    </tr>\n",
       "    <tr>\n",
       "      <th>2</th>\n",
       "      <td>0.866714</td>\n",
       "      <td>hen_131/2020-09-30</td>\n",
       "      <td>hen_139/2020-09-30</td>\n",
       "      <td>hen_131</td>\n",
       "      <td>hen_139</td>\n",
       "      <td>2020-09-30</td>\n",
       "      <td>2020-09-30</td>\n",
       "      <td>1</td>\n",
       "      <td>1</td>\n",
       "      <td>hen_131-1</td>\n",
       "      <td>hen_139-1</td>\n",
       "    </tr>\n",
       "  </tbody>\n",
       "</table>\n",
       "</div>"
      ],
      "text/plain": [
       "   chi2distance_ALL_15                  h1                  h2   henID1  \\\n",
       "0             0.890901  hen_131/2020-09-30  hen_134/2020-09-30  hen_131   \n",
       "1             0.202226  hen_131/2020-09-30  hen_138/2020-09-30  hen_131   \n",
       "2             0.866714  hen_131/2020-09-30  hen_139/2020-09-30  hen_131   \n",
       "\n",
       "    henID2     level1     level2  DIB1  DIB2     MLPID1     MLPID2  \n",
       "0  hen_134 2020-09-30 2020-09-30     1     1  hen_131-1  hen_134-1  \n",
       "1  hen_138 2020-09-30 2020-09-30     1     1  hen_131-1  hen_138-1  \n",
       "2  hen_139 2020-09-30 2020-09-30     1     1  hen_131-1  hen_139-1  "
      ]
     },
     "execution_count": 30,
     "metadata": {},
     "output_type": "execute_result"
    }
   ],
   "source": [
    "df_inter = pd.read_csv(os.path.join(path_extracted_data_visual_adap, id_run+'_df_DistanceBetweenAnyDaysHenSim_2h-17h59LEVEL.csv'), sep=';', \n",
    "                      parse_dates=['level1','level2'], dayfirst=True)\n",
    "#weeks of age starting on the first day where the bird was here during 24h\n",
    "#df_inter['weeks_in_laying_barn'] = df_inter['DOA'].map(lambda x: int((x-119)/7)+1)\n",
    "#df_inter['DIB'] = df_inter['DOA'].map(lambda x: x-118)\n",
    "#display(df_inter[['level1','DOA','weeks_in_laying_barn']].drop_duplicates().reset_index().head(3))\n",
    "#remove weeks_in_laying_barn to avoid confusions\n",
    "#df_inter.drop(['WOA'],inplace=True,axis=1)\n",
    "#select only inter \n",
    "#df_inter['animal_pair']  = df_inter.apply(lambda x: '-'.join(sorted([x['henID1'],x['henID2']])), axis=1)\n",
    "\n",
    "df_inter['DIB1'] = df_inter['level1'].map(lambda x: (x-dt.datetime(2020,6,3)).days -118) \n",
    "df_inter['DIB2'] = df_inter['level2'].map(lambda x: (x-dt.datetime(2020,6,3)).days -118) \n",
    "df_inter['MLPID1'] = df_inter.apply(lambda x: x['henID1']+'-'+str(x['DIB1']),axis=1)\n",
    "df_inter['MLPID2'] = df_inter.apply(lambda x: x['henID2']+'-'+str(x['DIB2']),axis=1)\n",
    "print(df_inter.shape)\n",
    "df_inter.head(3)"
   ]
  },
  {
   "cell_type": "code",
   "execution_count": 31,
   "metadata": {},
   "outputs": [
    {
     "name": "stderr",
     "output_type": "stream",
     "text": [
      "C:\\Users\\camil\\anaconda3\\lib\\site-packages\\ipykernel\\ipkernel.py:283: DeprecationWarning: `should_run_async` will not call `transform_cell` automatically in the future. Please pass the result to `transformed_cell` argument and any exception that happen during thetransform in `preprocessing_exc_tuple` in IPython 7.17 and above.\n",
      "  and should_run_async(code)\n"
     ]
    },
    {
     "name": "stdout",
     "output_type": "stream",
     "text": [
      "(27214, 198)\n",
      "(8679, 198)\n"
     ]
    },
    {
     "data": {
      "text/html": [
       "<div>\n",
       "<style scoped>\n",
       "    .dataframe tbody tr th:only-of-type {\n",
       "        vertical-align: middle;\n",
       "    }\n",
       "\n",
       "    .dataframe tbody tr th {\n",
       "        vertical-align: top;\n",
       "    }\n",
       "\n",
       "    .dataframe thead th {\n",
       "        text-align: right;\n",
       "    }\n",
       "</style>\n",
       "<table border=\"1\" class=\"dataframe\">\n",
       "  <thead>\n",
       "    <tr style=\"text-align: right;\">\n",
       "      <th></th>\n",
       "      <th>level</th>\n",
       "      <th>DOA</th>\n",
       "      <th>WOA</th>\n",
       "    </tr>\n",
       "  </thead>\n",
       "  <tbody>\n",
       "    <tr>\n",
       "      <th>27117</th>\n",
       "      <td>2020-11-20</td>\n",
       "      <td>170</td>\n",
       "      <td>25</td>\n",
       "    </tr>\n",
       "    <tr>\n",
       "      <th>27118</th>\n",
       "      <td>2020-11-21</td>\n",
       "      <td>171</td>\n",
       "      <td>25</td>\n",
       "    </tr>\n",
       "    <tr>\n",
       "      <th>27119</th>\n",
       "      <td>2020-11-22</td>\n",
       "      <td>172</td>\n",
       "      <td>25</td>\n",
       "    </tr>\n",
       "  </tbody>\n",
       "</table>\n",
       "</div>"
      ],
      "text/plain": [
       "           level  DOA  WOA\n",
       "27117 2020-11-20  170   25\n",
       "27118 2020-11-21  171   25\n",
       "27119 2020-11-22  172   25"
      ]
     },
     "metadata": {},
     "output_type": "display_data"
    },
    {
     "name": "stdout",
     "output_type": "stream",
     "text": [
      "(8679, 198)\n",
      "(8679, 198)\n",
      "(8679, 198)\n",
      "(8679, 198)\n",
      "(7619, 15)\n"
     ]
    },
    {
     "data": {
      "text/html": [
       "<div>\n",
       "<style scoped>\n",
       "    .dataframe tbody tr th:only-of-type {\n",
       "        vertical-align: middle;\n",
       "    }\n",
       "\n",
       "    .dataframe tbody tr th {\n",
       "        vertical-align: top;\n",
       "    }\n",
       "\n",
       "    .dataframe thead th {\n",
       "        text-align: right;\n",
       "    }\n",
       "</style>\n",
       "<table border=\"1\" class=\"dataframe\">\n",
       "  <thead>\n",
       "    <tr style=\"text-align: right;\">\n",
       "      <th></th>\n",
       "      <th>HenID</th>\n",
       "      <th>PenID</th>\n",
       "      <th>level</th>\n",
       "      <th>Treatment</th>\n",
       "      <th>CLASS</th>\n",
       "      <th>DOA</th>\n",
       "      <th>WOA</th>\n",
       "      <th>dur_values</th>\n",
       "      <th>dur_values_normalized</th>\n",
       "      <th>perc_duration_1_Zone</th>\n",
       "      <th>perc_duration_2_Zone</th>\n",
       "      <th>perc_duration_3_Zone</th>\n",
       "      <th>perc_duration_4_Zone</th>\n",
       "      <th>perc_duration_5_Zone</th>\n",
       "      <th>Total_number_transition</th>\n",
       "    </tr>\n",
       "  </thead>\n",
       "  <tbody>\n",
       "    <tr>\n",
       "      <th>0</th>\n",
       "      <td>hen_1</td>\n",
       "      <td>9</td>\n",
       "      <td>2020-09-30</td>\n",
       "      <td>OFH</td>\n",
       "      <td>EPI</td>\n",
       "      <td>119</td>\n",
       "      <td>17</td>\n",
       "      <td>[0.0, 18886.0, 3488.0, 518.0, 5908.0]</td>\n",
       "      <td>[0.0, 0.6557638888888889, 0.12111111111111111,...</td>\n",
       "      <td>0.0</td>\n",
       "      <td>65.576389</td>\n",
       "      <td>12.111111</td>\n",
       "      <td>1.798611</td>\n",
       "      <td>20.513889</td>\n",
       "      <td>6.0</td>\n",
       "    </tr>\n",
       "    <tr>\n",
       "      <th>1</th>\n",
       "      <td>hen_1</td>\n",
       "      <td>9</td>\n",
       "      <td>2020-10-01</td>\n",
       "      <td>OFH</td>\n",
       "      <td>EPI</td>\n",
       "      <td>120</td>\n",
       "      <td>18</td>\n",
       "      <td>[0.0, 9310.0, 5636.0, 0.0, 17454.0]</td>\n",
       "      <td>[0.0, 0.2873456790123457, 0.17395061728395061,...</td>\n",
       "      <td>0.0</td>\n",
       "      <td>28.734568</td>\n",
       "      <td>17.395062</td>\n",
       "      <td>0.000000</td>\n",
       "      <td>53.870370</td>\n",
       "      <td>12.0</td>\n",
       "    </tr>\n",
       "    <tr>\n",
       "      <th>2</th>\n",
       "      <td>hen_1</td>\n",
       "      <td>9</td>\n",
       "      <td>2020-10-02</td>\n",
       "      <td>OFH</td>\n",
       "      <td>EPI</td>\n",
       "      <td>121</td>\n",
       "      <td>18</td>\n",
       "      <td>[0.0, 0.0, 551.0, 0.0, 31849.0]</td>\n",
       "      <td>[0.0, 0.0, 0.017006172839506173, 0.0, 0.982993...</td>\n",
       "      <td>0.0</td>\n",
       "      <td>0.000000</td>\n",
       "      <td>1.700617</td>\n",
       "      <td>0.000000</td>\n",
       "      <td>98.299383</td>\n",
       "      <td>2.0</td>\n",
       "    </tr>\n",
       "  </tbody>\n",
       "</table>\n",
       "</div>"
      ],
      "text/plain": [
       "   HenID  PenID      level Treatment CLASS  DOA  WOA  \\\n",
       "0  hen_1      9 2020-09-30       OFH   EPI  119   17   \n",
       "1  hen_1      9 2020-10-01       OFH   EPI  120   18   \n",
       "2  hen_1      9 2020-10-02       OFH   EPI  121   18   \n",
       "\n",
       "                              dur_values  \\\n",
       "0  [0.0, 18886.0, 3488.0, 518.0, 5908.0]   \n",
       "1    [0.0, 9310.0, 5636.0, 0.0, 17454.0]   \n",
       "2        [0.0, 0.0, 551.0, 0.0, 31849.0]   \n",
       "\n",
       "                               dur_values_normalized  perc_duration_1_Zone  \\\n",
       "0  [0.0, 0.6557638888888889, 0.12111111111111111,...                   0.0   \n",
       "1  [0.0, 0.2873456790123457, 0.17395061728395061,...                   0.0   \n",
       "2  [0.0, 0.0, 0.017006172839506173, 0.0, 0.982993...                   0.0   \n",
       "\n",
       "   perc_duration_2_Zone  perc_duration_3_Zone  perc_duration_4_Zone  \\\n",
       "0             65.576389             12.111111              1.798611   \n",
       "1             28.734568             17.395062              0.000000   \n",
       "2              0.000000              1.700617              0.000000   \n",
       "\n",
       "   perc_duration_5_Zone  Total_number_transition  \n",
       "0             20.513889                      6.0  \n",
       "1             53.870370                     12.0  \n",
       "2             98.299383                      2.0  "
      ]
     },
     "execution_count": 31,
     "metadata": {},
     "output_type": "execute_result"
    }
   ],
   "source": [
    "#daily variables of the movements (one row per available hen per day)\n",
    "df_daily = pd.read_csv(os.path.join(path_extracted_data, 'daily_ALL_Variable_Tranformed.csv'), sep=';',\n",
    "                     parse_dates=['level'], dayfirst=True) \n",
    "df_daily['DOA'] = df_daily['level'].map(lambda x: (x-birth_date).days) \n",
    "df_daily['WOA'] = df_daily['DOA'].map(lambda x: math.ceil(x/7))\n",
    "#first two month seems good from the %of hens not moving plot! and sounds good too (twice longer thatn they need to start moving)\n",
    "print(df_daily.shape)\n",
    "df_daily = df_daily[(df_daily['level']>dt.datetime(2020,9,29))&(df_daily['level']<=max_date_adaptability)] \n",
    "#df_daily.groupby(['PenID'])['Treatment'].agg(lambda x: set(x)).reset_index()\n",
    "print(df_daily.shape)\n",
    "display(df_daily[['level','DOA','WOA']].tail(3))\n",
    "print(df_daily.shape)\n",
    "\n",
    "#remove days that are not fully recorded\n",
    "df_daily['nbr_sec_per_day'] = df_daily['level'].map(lambda x: dico_night_hour[correct_key(x,dico_night_hour)]['nbr_hour']*60*60)\n",
    "df_daily['is_correct_amount_time'] = df_daily.apply(lambda x: x['nbr_sec_per_day']==x['verification_daily_total_duration'], axis=1)\n",
    "df_daily[(~df_daily['is_correct_amount_time'])&(~df_daily['Total_number_transition'].isnull())][['level', 'HenID', 'Total_number_transition', 'dur_values', 'verification_daily_total_duration','nbr_sec_per_day']]\n",
    "print(df_daily.shape)\n",
    "display(df_daily = df_daily[~((~df_daily['is_correct_amount_time'])&(~df_daily['Total_number_transition'].isnull()))])\n",
    "print(df_daily.shape)\n",
    "\n",
    "#remove the days where the night had movement recorded but not the days\n",
    "print(df_daily.shape)\n",
    "df_daily = df_daily[['HenID','PenID','level','Treatment', 'CLASS', 'DOA','WOA','dur_values','dur_values_normalized','perc_duration_1_Zone', 'perc_duration_2_Zone',\n",
    "          'perc_duration_3_Zone', 'perc_duration_4_Zone', 'perc_duration_5_Zone','Total_number_transition']]\n",
    "#display(df_daily[df_daily.isna().any(axis=1)])\n",
    "df_daily = df_daily[~df_daily.isna().any(axis=1)]\n",
    "print(df_daily.shape)\n",
    "df_daily.head(3)"
   ]
  },
  {
   "cell_type": "code",
   "execution_count": 32,
   "metadata": {},
   "outputs": [
    {
     "name": "stdout",
     "output_type": "stream",
     "text": [
      "(131, 12)\n"
     ]
    },
    {
     "name": "stderr",
     "output_type": "stream",
     "text": [
      "C:\\Users\\camil\\anaconda3\\lib\\site-packages\\ipykernel\\ipkernel.py:283: DeprecationWarning: `should_run_async` will not call `transform_cell` automatically in the future. Please pass the result to `transformed_cell` argument and any exception that happen during thetransform in `preprocessing_exc_tuple` in IPython 7.17 and above.\n",
      "  and should_run_async(code)\n"
     ]
    },
    {
     "data": {
      "text/html": [
       "<div>\n",
       "<style scoped>\n",
       "    .dataframe tbody tr th:only-of-type {\n",
       "        vertical-align: middle;\n",
       "    }\n",
       "\n",
       "    .dataframe tbody tr th {\n",
       "        vertical-align: top;\n",
       "    }\n",
       "\n",
       "    .dataframe thead th {\n",
       "        text-align: right;\n",
       "    }\n",
       "</style>\n",
       "<table border=\"1\" class=\"dataframe\">\n",
       "  <thead>\n",
       "    <tr style=\"text-align: right;\">\n",
       "      <th></th>\n",
       "      <th>HenID</th>\n",
       "      <th>PenID</th>\n",
       "      <th>CLASS</th>\n",
       "      <th>R-Pen</th>\n",
       "      <th>InitialStartDate</th>\n",
       "      <th>29-09 weight</th>\n",
       "      <th>10-12 juin weight</th>\n",
       "      <th>weight 23-11-2020</th>\n",
       "      <th>weight 04-01-2021</th>\n",
       "      <th>weight 01-02-21</th>\n",
       "      <th>Treatment</th>\n",
       "      <th>percentage_of_gain_weight</th>\n",
       "    </tr>\n",
       "  </thead>\n",
       "  <tbody>\n",
       "    <tr>\n",
       "      <th>0</th>\n",
       "      <td>hen_1</td>\n",
       "      <td>9</td>\n",
       "      <td>EPI</td>\n",
       "      <td>1.0</td>\n",
       "      <td>2020-06-10</td>\n",
       "      <td>1134.0</td>\n",
       "      <td>57.0</td>\n",
       "      <td>1696.5</td>\n",
       "      <td>1787.8</td>\n",
       "      <td>1800.9</td>\n",
       "      <td>OFH</td>\n",
       "      <td>49.603175</td>\n",
       "    </tr>\n",
       "    <tr>\n",
       "      <th>1</th>\n",
       "      <td>hen_10</td>\n",
       "      <td>11</td>\n",
       "      <td>LEXP</td>\n",
       "      <td>1.0</td>\n",
       "      <td>2020-06-10</td>\n",
       "      <td>1070.0</td>\n",
       "      <td>70.4</td>\n",
       "      <td>1488.3</td>\n",
       "      <td>1628.4</td>\n",
       "      <td>1602.1</td>\n",
       "      <td>OFH</td>\n",
       "      <td>39.093458</td>\n",
       "    </tr>\n",
       "    <tr>\n",
       "      <th>3</th>\n",
       "      <td>hen_101</td>\n",
       "      <td>5</td>\n",
       "      <td>MEXP</td>\n",
       "      <td>3.0</td>\n",
       "      <td>2020-06-10</td>\n",
       "      <td>1082.0</td>\n",
       "      <td>66.0</td>\n",
       "      <td>1625.7</td>\n",
       "      <td>1751.1</td>\n",
       "      <td>1723.4</td>\n",
       "      <td>OFH</td>\n",
       "      <td>50.249538</td>\n",
       "    </tr>\n",
       "  </tbody>\n",
       "</table>\n",
       "</div>"
      ],
      "text/plain": [
       "     HenID  PenID CLASS  R-Pen InitialStartDate  29-09 weight  \\\n",
       "0    hen_1      9   EPI    1.0       2020-06-10        1134.0   \n",
       "1   hen_10     11  LEXP    1.0       2020-06-10        1070.0   \n",
       "3  hen_101      5  MEXP    3.0       2020-06-10        1082.0   \n",
       "\n",
       "   10-12 juin weight  weight 23-11-2020  weight 04-01-2021  weight 01-02-21  \\\n",
       "0               57.0             1696.5             1787.8           1800.9   \n",
       "1               70.4             1488.3             1628.4           1602.1   \n",
       "3               66.0             1625.7             1751.1           1723.4   \n",
       "\n",
       "  Treatment  percentage_of_gain_weight  \n",
       "0       OFH                  49.603175  \n",
       "1       OFH                  39.093458  \n",
       "3       OFH                  50.249538  "
      ]
     },
     "execution_count": 32,
     "metadata": {},
     "output_type": "execute_result"
    }
   ],
   "source": [
    "#focal birds info (one row per bird)\n",
    "df_FB = pd.read_csv(os.path.join(path_extracted_data,id_run+'df_FOCALBIRDS.csv'), sep=';', parse_dates=['InitialStartDate'],\n",
    "                     dayfirst=True) \n",
    "df_FB = df_FB[df_FB['HenID'].isin(li_selected_hens)]\n",
    "df_FB['percentage_of_gain_weight'] = df_FB.apply(lambda x: (x['weight 23-11-2020']-x['29-09 weight'])/x['29-09 weight']*100, axis=1)\n",
    "print(df_FB.shape)\n",
    "df_FB.head(3)"
   ]
  },
  {
   "cell_type": "markdown",
   "metadata": {},
   "source": [
    "# Cluster on chi2distance_15mn all MLPS"
   ]
  },
  {
   "cell_type": "code",
   "execution_count": 7,
   "metadata": {},
   "outputs": [
    {
     "name": "stderr",
     "output_type": "stream",
     "text": [
      "C:\\Users\\camil\\anaconda3\\lib\\site-packages\\ipykernel\\ipkernel.py:283: DeprecationWarning: `should_run_async` will not call `transform_cell` automatically in the future. Please pass the result to `transformed_cell` argument and any exception that happen during thetransform in `preprocessing_exc_tuple` in IPython 7.17 and above.\n",
      "  and should_run_async(code)\n"
     ]
    }
   ],
   "source": [
    "########################### define parameters ###########################\n",
    "#rs = 0\n",
    "#choose number of cluster\n",
    "li_nbr_cluster = range(2,100)\n",
    "V = 'chi2distance_ALL_15'"
   ]
  },
  {
   "cell_type": "raw",
   "metadata": {},
   "source": [
    "We do not have to remove days or hens, as we will cluster each single mlps to have a general knowledge of different behavioural structure in the flock\n",
    "In total we have 52 days * 131 hens  = 6'812 MLPs to classify To do so we are computing a distance for each pair of ndividuals:\n",
    "6812*6811/2 = 23198266. For now lets do first 30 days: 30*131=3930, 3930*3929/2=7720485 (21h of computation if 100 / sec)\n",
    "Due to the barn change, it is expected to have much new behavioural structure emerging over the first month, and to have much more similar MLPs at the begining"
   ]
  },
  {
   "cell_type": "code",
   "execution_count": 129,
   "metadata": {},
   "outputs": [
    {
     "name": "stderr",
     "output_type": "stream",
     "text": [
      "C:\\Users\\camil\\anaconda3\\lib\\site-packages\\ipykernel\\ipkernel.py:283: DeprecationWarning: `should_run_async` will not call `transform_cell` automatically in the future. Please pass the result to `transformed_cell` argument and any exception that happen during thetransform in `preprocessing_exc_tuple` in IPython 7.17 and above.\n",
      "  and should_run_async(code)\n"
     ]
    },
    {
     "data": {
      "text/html": [
       "<div>\n",
       "<style scoped>\n",
       "    .dataframe tbody tr th:only-of-type {\n",
       "        vertical-align: middle;\n",
       "    }\n",
       "\n",
       "    .dataframe tbody tr th {\n",
       "        vertical-align: top;\n",
       "    }\n",
       "\n",
       "    .dataframe thead th {\n",
       "        text-align: right;\n",
       "    }\n",
       "</style>\n",
       "<table border=\"1\" class=\"dataframe\">\n",
       "  <thead>\n",
       "    <tr style=\"text-align: right;\">\n",
       "      <th></th>\n",
       "      <th>chi2distance_ALL_15</th>\n",
       "      <th>h1</th>\n",
       "      <th>h2</th>\n",
       "      <th>henID1</th>\n",
       "      <th>henID2</th>\n",
       "      <th>level1</th>\n",
       "      <th>level2</th>\n",
       "      <th>DIB1</th>\n",
       "      <th>DIB2</th>\n",
       "      <th>MLPID1</th>\n",
       "      <th>MLPID2</th>\n",
       "    </tr>\n",
       "  </thead>\n",
       "  <tbody>\n",
       "    <tr>\n",
       "      <th>0</th>\n",
       "      <td>0.890901</td>\n",
       "      <td>hen_131/2020-09-30</td>\n",
       "      <td>hen_134/2020-09-30</td>\n",
       "      <td>hen_131</td>\n",
       "      <td>hen_134</td>\n",
       "      <td>2020-09-30</td>\n",
       "      <td>2020-09-30</td>\n",
       "      <td>1</td>\n",
       "      <td>1</td>\n",
       "      <td>hen_131-1</td>\n",
       "      <td>hen_134-1</td>\n",
       "    </tr>\n",
       "    <tr>\n",
       "      <th>1</th>\n",
       "      <td>0.202226</td>\n",
       "      <td>hen_131/2020-09-30</td>\n",
       "      <td>hen_138/2020-09-30</td>\n",
       "      <td>hen_131</td>\n",
       "      <td>hen_138</td>\n",
       "      <td>2020-09-30</td>\n",
       "      <td>2020-09-30</td>\n",
       "      <td>1</td>\n",
       "      <td>1</td>\n",
       "      <td>hen_131-1</td>\n",
       "      <td>hen_138-1</td>\n",
       "    </tr>\n",
       "    <tr>\n",
       "      <th>2</th>\n",
       "      <td>0.866714</td>\n",
       "      <td>hen_131/2020-09-30</td>\n",
       "      <td>hen_139/2020-09-30</td>\n",
       "      <td>hen_131</td>\n",
       "      <td>hen_139</td>\n",
       "      <td>2020-09-30</td>\n",
       "      <td>2020-09-30</td>\n",
       "      <td>1</td>\n",
       "      <td>1</td>\n",
       "      <td>hen_131-1</td>\n",
       "      <td>hen_139-1</td>\n",
       "    </tr>\n",
       "  </tbody>\n",
       "</table>\n",
       "</div>"
      ],
      "text/plain": [
       "   chi2distance_ALL_15                  h1                  h2   henID1  \\\n",
       "0             0.890901  hen_131/2020-09-30  hen_134/2020-09-30  hen_131   \n",
       "1             0.202226  hen_131/2020-09-30  hen_138/2020-09-30  hen_131   \n",
       "2             0.866714  hen_131/2020-09-30  hen_139/2020-09-30  hen_131   \n",
       "\n",
       "    henID2     level1     level2  DIB1  DIB2     MLPID1     MLPID2  \n",
       "0  hen_134 2020-09-30 2020-09-30     1     1  hen_131-1  hen_134-1  \n",
       "1  hen_138 2020-09-30 2020-09-30     1     1  hen_131-1  hen_138-1  \n",
       "2  hen_139 2020-09-30 2020-09-30     1     1  hen_131-1  hen_139-1  "
      ]
     },
     "execution_count": 129,
     "metadata": {},
     "output_type": "execute_result"
    }
   ],
   "source": [
    "df_inter.head(3)"
   ]
  },
  {
   "cell_type": "code",
   "execution_count": 130,
   "metadata": {},
   "outputs": [
    {
     "name": "stderr",
     "output_type": "stream",
     "text": [
      "C:\\Users\\camil\\anaconda3\\lib\\site-packages\\ipykernel\\ipkernel.py:283: DeprecationWarning: `should_run_async` will not call `transform_cell` automatically in the future. Please pass the result to `transformed_cell` argument and any exception that happen during thetransform in `preprocessing_exc_tuple` in IPython 7.17 and above.\n",
      "  and should_run_async(code)\n"
     ]
    },
    {
     "name": "stdout",
     "output_type": "stream",
     "text": [
      "we have a total of 7205 different MLPs\n"
     ]
    }
   ],
   "source": [
    "li_MLPsID = list(set(df_inter['MLPID1'].tolist()+df_inter['MLPID2'].tolist()))\n",
    "print('we have a total of %d different MLPs' %len(li_MLPsID))"
   ]
  },
  {
   "cell_type": "code",
   "execution_count": 131,
   "metadata": {
    "scrolled": true
   },
   "outputs": [
    {
     "name": "stdout",
     "output_type": "stream",
     "text": [
      "---------------lets compute dissimiliartiy matrix..."
     ]
    },
    {
     "name": "stderr",
     "output_type": "stream",
     "text": [
      "C:\\Users\\camil\\anaconda3\\lib\\site-packages\\ipykernel\\ipkernel.py:283: DeprecationWarning: `should_run_async` will not call `transform_cell` automatically in the future. Please pass the result to `transformed_cell` argument and any exception that happen during thetransform in `preprocessing_exc_tuple` in IPython 7.17 and above.\n",
      "  and should_run_async(code)\n",
      "  0%|                                                                       | 148/25952410 [00:00<4:54:10, 1470.33it/s]"
     ]
    },
    {
     "name": "stdout",
     "output_type": "stream",
     "text": [
      "\n"
     ]
    },
    {
     "name": "stderr",
     "output_type": "stream",
     "text": [
      "100%|██████████████████████████████████████████████████████████████████| 25952410/25952410 [5:06:53<00:00, 1409.38it/s]\n"
     ]
    },
    {
     "data": {
      "image/png": "[encoded data removed]",
      "text/plain": [
       "<Figure size 432x288 with 2 Axes>"
      ]
     },
     "metadata": {
      "needs_background": "light"
     },
     "output_type": "display_data"
    },
    {
     "name": "stderr",
     "output_type": "stream",
     "text": [
      "\r",
      "  0%|                                                                                           | 0/17 [00:00<?, ?it/s]"
     ]
    },
    {
     "name": "stdout",
     "output_type": "stream",
     "text": [
      "---------------lets do clustering...\n"
     ]
    },
    {
     "name": "stderr",
     "output_type": "stream",
     "text": [
      "100%|██████████████████████████████████████████████████████████████████████████████████| 17/17 [00:37<00:00,  2.22s/it]"
     ]
    },
    {
     "name": "stdout",
     "output_type": "stream",
     "text": [
      "(7205, 18)\n"
     ]
    },
    {
     "name": "stderr",
     "output_type": "stream",
     "text": [
      "\n"
     ]
    },
    {
     "data": {
      "text/html": [
       "<div>\n",
       "<style scoped>\n",
       "    .dataframe tbody tr th:only-of-type {\n",
       "        vertical-align: middle;\n",
       "    }\n",
       "\n",
       "    .dataframe tbody tr th {\n",
       "        vertical-align: top;\n",
       "    }\n",
       "\n",
       "    .dataframe thead th {\n",
       "        text-align: right;\n",
       "    }\n",
       "</style>\n",
       "<table border=\"1\" class=\"dataframe\">\n",
       "  <thead>\n",
       "    <tr style=\"text-align: right;\">\n",
       "      <th></th>\n",
       "      <th>MLPID</th>\n",
       "      <th>ALL_MLPS_3</th>\n",
       "      <th>ALL_MLPS_4</th>\n",
       "      <th>ALL_MLPS_5</th>\n",
       "      <th>ALL_MLPS_6</th>\n",
       "      <th>ALL_MLPS_7</th>\n",
       "      <th>ALL_MLPS_8</th>\n",
       "      <th>ALL_MLPS_9</th>\n",
       "      <th>ALL_MLPS_10</th>\n",
       "      <th>ALL_MLPS_11</th>\n",
       "      <th>ALL_MLPS_12</th>\n",
       "      <th>ALL_MLPS_13</th>\n",
       "      <th>ALL_MLPS_14</th>\n",
       "      <th>ALL_MLPS_15</th>\n",
       "      <th>ALL_MLPS_16</th>\n",
       "      <th>ALL_MLPS_17</th>\n",
       "      <th>ALL_MLPS_18</th>\n",
       "      <th>ALL_MLPS_19</th>\n",
       "    </tr>\n",
       "  </thead>\n",
       "  <tbody>\n",
       "    <tr>\n",
       "      <th>0</th>\n",
       "      <td>hen_7-32</td>\n",
       "      <td>0</td>\n",
       "      <td>0</td>\n",
       "      <td>3</td>\n",
       "      <td>1</td>\n",
       "      <td>0</td>\n",
       "      <td>0</td>\n",
       "      <td>2</td>\n",
       "      <td>2</td>\n",
       "      <td>2</td>\n",
       "      <td>2</td>\n",
       "      <td>0</td>\n",
       "      <td>3</td>\n",
       "      <td>3</td>\n",
       "      <td>1</td>\n",
       "      <td>0</td>\n",
       "      <td>0</td>\n",
       "      <td>3</td>\n",
       "    </tr>\n",
       "    <tr>\n",
       "      <th>1</th>\n",
       "      <td>hen_39-49</td>\n",
       "      <td>1</td>\n",
       "      <td>1</td>\n",
       "      <td>0</td>\n",
       "      <td>5</td>\n",
       "      <td>5</td>\n",
       "      <td>5</td>\n",
       "      <td>5</td>\n",
       "      <td>5</td>\n",
       "      <td>5</td>\n",
       "      <td>5</td>\n",
       "      <td>2</td>\n",
       "      <td>2</td>\n",
       "      <td>0</td>\n",
       "      <td>3</td>\n",
       "      <td>3</td>\n",
       "      <td>3</td>\n",
       "      <td>1</td>\n",
       "    </tr>\n",
       "    <tr>\n",
       "      <th>2</th>\n",
       "      <td>hen_12-25</td>\n",
       "      <td>0</td>\n",
       "      <td>0</td>\n",
       "      <td>4</td>\n",
       "      <td>4</td>\n",
       "      <td>1</td>\n",
       "      <td>1</td>\n",
       "      <td>1</td>\n",
       "      <td>0</td>\n",
       "      <td>8</td>\n",
       "      <td>3</td>\n",
       "      <td>3</td>\n",
       "      <td>1</td>\n",
       "      <td>1</td>\n",
       "      <td>0</td>\n",
       "      <td>1</td>\n",
       "      <td>1</td>\n",
       "      <td>0</td>\n",
       "    </tr>\n",
       "  </tbody>\n",
       "</table>\n",
       "</div>"
      ],
      "text/plain": [
       "       MLPID  ALL_MLPS_3  ALL_MLPS_4  ALL_MLPS_5  ALL_MLPS_6  ALL_MLPS_7  \\\n",
       "0   hen_7-32           0           0           3           1           0   \n",
       "1  hen_39-49           1           1           0           5           5   \n",
       "2  hen_12-25           0           0           4           4           1   \n",
       "\n",
       "   ALL_MLPS_8  ALL_MLPS_9  ALL_MLPS_10  ALL_MLPS_11  ALL_MLPS_12  ALL_MLPS_13  \\\n",
       "0           0           2            2            2            2            0   \n",
       "1           5           5            5            5            5            2   \n",
       "2           1           1            0            8            3            3   \n",
       "\n",
       "   ALL_MLPS_14  ALL_MLPS_15  ALL_MLPS_16  ALL_MLPS_17  ALL_MLPS_18  \\\n",
       "0            3            3            1            0            0   \n",
       "1            2            0            3            3            3   \n",
       "2            1            1            0            1            1   \n",
       "\n",
       "   ALL_MLPS_19  \n",
       "0            3  \n",
       "1            1  \n",
       "2            0  "
      ]
     },
     "metadata": {},
     "output_type": "display_data"
    },
    {
     "name": "stdout",
     "output_type": "stream",
     "text": [
      "(17, 2)\n"
     ]
    },
    {
     "data": {
      "text/html": [
       "<div>\n",
       "<style scoped>\n",
       "    .dataframe tbody tr th:only-of-type {\n",
       "        vertical-align: middle;\n",
       "    }\n",
       "\n",
       "    .dataframe tbody tr th {\n",
       "        vertical-align: top;\n",
       "    }\n",
       "\n",
       "    .dataframe thead th {\n",
       "        text-align: right;\n",
       "    }\n",
       "</style>\n",
       "<table border=\"1\" class=\"dataframe\">\n",
       "  <thead>\n",
       "    <tr style=\"text-align: right;\">\n",
       "      <th></th>\n",
       "      <th>clusteringID</th>\n",
       "      <th>nbr_cluster</th>\n",
       "    </tr>\n",
       "  </thead>\n",
       "  <tbody>\n",
       "    <tr>\n",
       "      <th>0</th>\n",
       "      <td>ALL_MLPS_3</td>\n",
       "      <td>3</td>\n",
       "    </tr>\n",
       "    <tr>\n",
       "      <th>1</th>\n",
       "      <td>ALL_MLPS_4</td>\n",
       "      <td>4</td>\n",
       "    </tr>\n",
       "    <tr>\n",
       "      <th>2</th>\n",
       "      <td>ALL_MLPS_5</td>\n",
       "      <td>5</td>\n",
       "    </tr>\n",
       "  </tbody>\n",
       "</table>\n",
       "</div>"
      ],
      "text/plain": [
       "  clusteringID  nbr_cluster\n",
       "0   ALL_MLPS_3            3\n",
       "1   ALL_MLPS_4            4\n",
       "2   ALL_MLPS_5            5"
      ]
     },
     "execution_count": 131,
     "metadata": {},
     "output_type": "execute_result"
    }
   ],
   "source": [
    "#create folder for saving\n",
    "path_extracted_data_visual_adap_clustering_V = os.path.join(path_extracted_data_visual_adap_clustering, V+'_ALL_MLPS')\n",
    "if not os.path.exists(path_extracted_data_visual_adap_clustering_V):\n",
    "    os.makedirs(path_extracted_data_visual_adap_clustering_V)\n",
    "\n",
    "#for i,h1 in enumerate(li_MLPsID):\n",
    "#    for h2 in li_MLPsID[i+1:]:\n",
    "\n",
    "#compute dissimilarity matrix\n",
    "print('---------------lets compute dissimiliartiy matrix...')\n",
    "#Initially on sbset of the data, to debug the code\n",
    "#li_MLPsID = li_MLPsID[0:200]\n",
    "#df_inter = df_inter[(df_inter['MLPID1'].isin(li_MLPsID))&(df_inter['MLPID2'].isin(li_MLPsID))]\n",
    "#not efficient but we dont care for now. we could \n",
    "M = np.zeros(shape=(len(li_MLPsID), len(li_MLPsID)))\n",
    "for i in tqdm.tqdm(range(df_inter.shape[0])):\n",
    "    x = df_inter.iloc[i]\n",
    "    mlp1 = x['MLPID1']\n",
    "    mlp2 = x['MLPID2']\n",
    "    dist_ = x['chi2distance_ALL_15']\n",
    "    M[li_MLPsID.index(mlp1)][li_MLPsID.index(mlp2)] = round(dist_,2)\n",
    "    M[li_MLPsID.index(mlp2)][li_MLPsID.index(mlp1)] = round(dist_)\n",
    "np.save(os.path.join(path_extracted_data_visual_adap_clustering_V,id_run+'M'),M)\n",
    "sns.heatmap(M)\n",
    "plt.savefig(os.path.join(path_extracted_data_visual_adap_clustering_V,id_run+'heatmap_distance.png'),\n",
    "            dpi=300,format='png',bbox_inches='tight')"
   ]
  },
  {
   "cell_type": "code",
   "execution_count": 149,
   "metadata": {},
   "outputs": [
    {
     "name": "stderr",
     "output_type": "stream",
     "text": [
      "C:\\Users\\camil\\anaconda3\\lib\\site-packages\\ipykernel\\ipkernel.py:283: DeprecationWarning: `should_run_async` will not call `transform_cell` automatically in the future. Please pass the result to `transformed_cell` argument and any exception that happen during thetransform in `preprocessing_exc_tuple` in IPython 7.17 and above.\n",
      "  and should_run_async(code)\n",
      "\r",
      "  0%|                                                                                           | 0/98 [00:00<?, ?it/s]"
     ]
    },
    {
     "name": "stdout",
     "output_type": "stream",
     "text": [
      "---------------lets do clustering...\n"
     ]
    },
    {
     "name": "stderr",
     "output_type": "stream",
     "text": [
      "100%|██████████████████████████████████████████████████████████████████████████████████| 98/98 [02:52<00:00,  1.76s/it]"
     ]
    },
    {
     "name": "stdout",
     "output_type": "stream",
     "text": [
      "(7205, 99)\n"
     ]
    },
    {
     "name": "stderr",
     "output_type": "stream",
     "text": [
      "\n"
     ]
    },
    {
     "data": {
      "text/html": [
       "<div>\n",
       "<style scoped>\n",
       "    .dataframe tbody tr th:only-of-type {\n",
       "        vertical-align: middle;\n",
       "    }\n",
       "\n",
       "    .dataframe tbody tr th {\n",
       "        vertical-align: top;\n",
       "    }\n",
       "\n",
       "    .dataframe thead th {\n",
       "        text-align: right;\n",
       "    }\n",
       "</style>\n",
       "<table border=\"1\" class=\"dataframe\">\n",
       "  <thead>\n",
       "    <tr style=\"text-align: right;\">\n",
       "      <th></th>\n",
       "      <th>MLPID</th>\n",
       "      <th>ALL_MLPS_2</th>\n",
       "      <th>ALL_MLPS_3</th>\n",
       "      <th>ALL_MLPS_4</th>\n",
       "      <th>ALL_MLPS_5</th>\n",
       "      <th>ALL_MLPS_6</th>\n",
       "      <th>ALL_MLPS_7</th>\n",
       "      <th>ALL_MLPS_8</th>\n",
       "      <th>ALL_MLPS_9</th>\n",
       "      <th>ALL_MLPS_10</th>\n",
       "      <th>...</th>\n",
       "      <th>ALL_MLPS_90</th>\n",
       "      <th>ALL_MLPS_91</th>\n",
       "      <th>ALL_MLPS_92</th>\n",
       "      <th>ALL_MLPS_93</th>\n",
       "      <th>ALL_MLPS_94</th>\n",
       "      <th>ALL_MLPS_95</th>\n",
       "      <th>ALL_MLPS_96</th>\n",
       "      <th>ALL_MLPS_97</th>\n",
       "      <th>ALL_MLPS_98</th>\n",
       "      <th>ALL_MLPS_99</th>\n",
       "    </tr>\n",
       "  </thead>\n",
       "  <tbody>\n",
       "    <tr>\n",
       "      <th>0</th>\n",
       "      <td>hen_7-32</td>\n",
       "      <td>1</td>\n",
       "      <td>0</td>\n",
       "      <td>0</td>\n",
       "      <td>3</td>\n",
       "      <td>3</td>\n",
       "      <td>3</td>\n",
       "      <td>1</td>\n",
       "      <td>0</td>\n",
       "      <td>2</td>\n",
       "      <td>...</td>\n",
       "      <td>9</td>\n",
       "      <td>9</td>\n",
       "      <td>9</td>\n",
       "      <td>9</td>\n",
       "      <td>4</td>\n",
       "      <td>1</td>\n",
       "      <td>1</td>\n",
       "      <td>0</td>\n",
       "      <td>17</td>\n",
       "      <td>17</td>\n",
       "    </tr>\n",
       "    <tr>\n",
       "      <th>1</th>\n",
       "      <td>hen_39-49</td>\n",
       "      <td>0</td>\n",
       "      <td>2</td>\n",
       "      <td>2</td>\n",
       "      <td>2</td>\n",
       "      <td>0</td>\n",
       "      <td>1</td>\n",
       "      <td>0</td>\n",
       "      <td>3</td>\n",
       "      <td>3</td>\n",
       "      <td>...</td>\n",
       "      <td>8</td>\n",
       "      <td>8</td>\n",
       "      <td>8</td>\n",
       "      <td>8</td>\n",
       "      <td>8</td>\n",
       "      <td>8</td>\n",
       "      <td>8</td>\n",
       "      <td>3</td>\n",
       "      <td>1</td>\n",
       "      <td>0</td>\n",
       "    </tr>\n",
       "    <tr>\n",
       "      <th>2</th>\n",
       "      <td>hen_12-25</td>\n",
       "      <td>1</td>\n",
       "      <td>0</td>\n",
       "      <td>0</td>\n",
       "      <td>4</td>\n",
       "      <td>4</td>\n",
       "      <td>4</td>\n",
       "      <td>4</td>\n",
       "      <td>1</td>\n",
       "      <td>1</td>\n",
       "      <td>...</td>\n",
       "      <td>45</td>\n",
       "      <td>45</td>\n",
       "      <td>91</td>\n",
       "      <td>91</td>\n",
       "      <td>91</td>\n",
       "      <td>91</td>\n",
       "      <td>91</td>\n",
       "      <td>91</td>\n",
       "      <td>91</td>\n",
       "      <td>91</td>\n",
       "    </tr>\n",
       "  </tbody>\n",
       "</table>\n",
       "<p>3 rows × 99 columns</p>\n",
       "</div>"
      ],
      "text/plain": [
       "       MLPID  ALL_MLPS_2  ALL_MLPS_3  ALL_MLPS_4  ALL_MLPS_5  ALL_MLPS_6  \\\n",
       "0   hen_7-32           1           0           0           3           3   \n",
       "1  hen_39-49           0           2           2           2           0   \n",
       "2  hen_12-25           1           0           0           4           4   \n",
       "\n",
       "   ALL_MLPS_7  ALL_MLPS_8  ALL_MLPS_9  ALL_MLPS_10  ...  ALL_MLPS_90  \\\n",
       "0           3           1           0            2  ...            9   \n",
       "1           1           0           3            3  ...            8   \n",
       "2           4           4           1            1  ...           45   \n",
       "\n",
       "   ALL_MLPS_91  ALL_MLPS_92  ALL_MLPS_93  ALL_MLPS_94  ALL_MLPS_95  \\\n",
       "0            9            9            9            4            1   \n",
       "1            8            8            8            8            8   \n",
       "2           45           91           91           91           91   \n",
       "\n",
       "   ALL_MLPS_96  ALL_MLPS_97  ALL_MLPS_98  ALL_MLPS_99  \n",
       "0            1            0           17           17  \n",
       "1            8            3            1            0  \n",
       "2           91           91           91           91  \n",
       "\n",
       "[3 rows x 99 columns]"
      ]
     },
     "metadata": {},
     "output_type": "display_data"
    },
    {
     "name": "stdout",
     "output_type": "stream",
     "text": [
      "(98, 2)\n"
     ]
    },
    {
     "data": {
      "text/html": [
       "<div>\n",
       "<style scoped>\n",
       "    .dataframe tbody tr th:only-of-type {\n",
       "        vertical-align: middle;\n",
       "    }\n",
       "\n",
       "    .dataframe tbody tr th {\n",
       "        vertical-align: top;\n",
       "    }\n",
       "\n",
       "    .dataframe thead th {\n",
       "        text-align: right;\n",
       "    }\n",
       "</style>\n",
       "<table border=\"1\" class=\"dataframe\">\n",
       "  <thead>\n",
       "    <tr style=\"text-align: right;\">\n",
       "      <th></th>\n",
       "      <th>clusteringID</th>\n",
       "      <th>nbr_cluster</th>\n",
       "    </tr>\n",
       "  </thead>\n",
       "  <tbody>\n",
       "    <tr>\n",
       "      <th>0</th>\n",
       "      <td>ALL_MLPS_2</td>\n",
       "      <td>2</td>\n",
       "    </tr>\n",
       "    <tr>\n",
       "      <th>1</th>\n",
       "      <td>ALL_MLPS_3</td>\n",
       "      <td>3</td>\n",
       "    </tr>\n",
       "    <tr>\n",
       "      <th>2</th>\n",
       "      <td>ALL_MLPS_4</td>\n",
       "      <td>4</td>\n",
       "    </tr>\n",
       "  </tbody>\n",
       "</table>\n",
       "</div>"
      ],
      "text/plain": [
       "  clusteringID  nbr_cluster\n",
       "0   ALL_MLPS_2            2\n",
       "1   ALL_MLPS_3            3\n",
       "2   ALL_MLPS_4            4"
      ]
     },
     "execution_count": 149,
     "metadata": {},
     "output_type": "execute_result"
    }
   ],
   "source": [
    "print('---------------lets do clustering...')\n",
    "li_df = []\n",
    "df_res = pd.DataFrame({'MLPID':li_MLPsID})\n",
    "for nbr_cluster in tqdm.tqdm(li_nbr_cluster):\n",
    "\n",
    "    #clustering_name\n",
    "    name_clustering = 'ALL_MLPS_'+str(nbr_cluster)\n",
    "    \n",
    "    #cluster based on the dissimilarity matrix\n",
    "    #If “precomputed”, a distance matrix (instead of a similarity matrix) is needed as input for the fit method.\n",
    "    #TODO: CHECK\n",
    "    #The agglomerative clustering is the most common type of hierarchical clustering\n",
    "    cluster = AgglomerativeClustering(n_clusters=nbr_cluster, affinity='precomputed', linkage = 'average') #, linkage='ward')\n",
    "    cluster.fit_predict(M)\n",
    "    #print(cluster.labels_)\n",
    "    df_res_ = pd.DataFrame({'MLPID':li_MLPsID, name_clustering:cluster.labels_})\n",
    "    #display(df_res_['clusterID'].value_counts())\n",
    "    #display(df_res.head(3))\n",
    "    #df_res.to_csv(os.path.join(path_extracted_data_visual_adap_clustering_V ,name_clustering+'_results.csv'), \n",
    "    #                 sep=';', index=False)     \n",
    "    df_res = pd.merge(df_res, df_res_, on='MLPID')        \n",
    "    li_df.append({'clusteringID':name_clustering, 'nbr_cluster':nbr_cluster})\n",
    "df_res.to_csv(os.path.join(path_extracted_data_visual_adap_clustering_V, id_run+'df_clustering_results.csv'), sep=';', index=False)\n",
    "print(df_res.shape)\n",
    "display(df_res.head(3)) \n",
    "    \n",
    "#save meta data info of clusterings\n",
    "df_clusteringMetadata = pd.DataFrame(li_df)\n",
    "df_clusteringMetadata.to_csv(os.path.join(path_extracted_data_visual_adap_clustering_V, id_run+'df_clustering_metadata.csv'), sep=';', index=False)\n",
    "print(df_clusteringMetadata.shape)\n",
    "df_clusteringMetadata.head(3)"
   ]
  },
  {
   "cell_type": "code",
   "execution_count": null,
   "metadata": {},
   "outputs": [],
   "source": [
    "#load matrix\n",
    "#M = np.load(os.path.join(path_extracted_data_visual_adap_clustering_V,id_run+'M.npy'))"
   ]
  },
  {
   "cell_type": "markdown",
   "metadata": {},
   "source": [
    "#merge with all daily info: at (day, hen) level\n",
    "df_analyse_hd = pd.merge(df_daily, df_res, on=['HenID'], how='left')\n",
    "print(df_analyse_hd.shape, df_daily.shape)\n",
    "#df_analyse_hd.to_csv(os.path.join(path_cluster, id_run+'df_analyse_hd.csv'), sep=';', index=False)\n",
    "df_analyse_hd.head(3)"
   ]
  },
  {
   "cell_type": "markdown",
   "metadata": {},
   "source": [
    "# Visuals"
   ]
  },
  {
   "cell_type": "code",
   "execution_count": 21,
   "metadata": {},
   "outputs": [
    {
     "name": "stderr",
     "output_type": "stream",
     "text": [
      "C:\\Users\\camil\\anaconda3\\lib\\site-packages\\ipykernel\\ipkernel.py:283: DeprecationWarning: `should_run_async` will not call `transform_cell` automatically in the future. Please pass the result to `transformed_cell` argument and any exception that happen during thetransform in `preprocessing_exc_tuple` in IPython 7.17 and above.\n",
      "  and should_run_async(code)\n"
     ]
    },
    {
     "name": "stdout",
     "output_type": "stream",
     "text": [
      "(7205, 99)\n"
     ]
    },
    {
     "data": {
      "text/html": [
       "<div>\n",
       "<style scoped>\n",
       "    .dataframe tbody tr th:only-of-type {\n",
       "        vertical-align: middle;\n",
       "    }\n",
       "\n",
       "    .dataframe tbody tr th {\n",
       "        vertical-align: top;\n",
       "    }\n",
       "\n",
       "    .dataframe thead th {\n",
       "        text-align: right;\n",
       "    }\n",
       "</style>\n",
       "<table border=\"1\" class=\"dataframe\">\n",
       "  <thead>\n",
       "    <tr style=\"text-align: right;\">\n",
       "      <th></th>\n",
       "      <th>MLPID</th>\n",
       "      <th>ALL_MLPS_2</th>\n",
       "      <th>ALL_MLPS_3</th>\n",
       "      <th>ALL_MLPS_4</th>\n",
       "      <th>ALL_MLPS_5</th>\n",
       "      <th>ALL_MLPS_6</th>\n",
       "      <th>ALL_MLPS_7</th>\n",
       "      <th>ALL_MLPS_8</th>\n",
       "      <th>ALL_MLPS_9</th>\n",
       "      <th>ALL_MLPS_10</th>\n",
       "      <th>...</th>\n",
       "      <th>ALL_MLPS_90</th>\n",
       "      <th>ALL_MLPS_91</th>\n",
       "      <th>ALL_MLPS_92</th>\n",
       "      <th>ALL_MLPS_93</th>\n",
       "      <th>ALL_MLPS_94</th>\n",
       "      <th>ALL_MLPS_95</th>\n",
       "      <th>ALL_MLPS_96</th>\n",
       "      <th>ALL_MLPS_97</th>\n",
       "      <th>ALL_MLPS_98</th>\n",
       "      <th>ALL_MLPS_99</th>\n",
       "    </tr>\n",
       "  </thead>\n",
       "  <tbody>\n",
       "    <tr>\n",
       "      <th>0</th>\n",
       "      <td>hen_7-32</td>\n",
       "      <td>1</td>\n",
       "      <td>0</td>\n",
       "      <td>0</td>\n",
       "      <td>3</td>\n",
       "      <td>3</td>\n",
       "      <td>3</td>\n",
       "      <td>1</td>\n",
       "      <td>0</td>\n",
       "      <td>2</td>\n",
       "      <td>...</td>\n",
       "      <td>9</td>\n",
       "      <td>9</td>\n",
       "      <td>9</td>\n",
       "      <td>9</td>\n",
       "      <td>4</td>\n",
       "      <td>1</td>\n",
       "      <td>1</td>\n",
       "      <td>0</td>\n",
       "      <td>17</td>\n",
       "      <td>17</td>\n",
       "    </tr>\n",
       "    <tr>\n",
       "      <th>1</th>\n",
       "      <td>hen_39-49</td>\n",
       "      <td>0</td>\n",
       "      <td>2</td>\n",
       "      <td>2</td>\n",
       "      <td>2</td>\n",
       "      <td>0</td>\n",
       "      <td>1</td>\n",
       "      <td>0</td>\n",
       "      <td>3</td>\n",
       "      <td>3</td>\n",
       "      <td>...</td>\n",
       "      <td>8</td>\n",
       "      <td>8</td>\n",
       "      <td>8</td>\n",
       "      <td>8</td>\n",
       "      <td>8</td>\n",
       "      <td>8</td>\n",
       "      <td>8</td>\n",
       "      <td>3</td>\n",
       "      <td>1</td>\n",
       "      <td>0</td>\n",
       "    </tr>\n",
       "    <tr>\n",
       "      <th>2</th>\n",
       "      <td>hen_12-25</td>\n",
       "      <td>1</td>\n",
       "      <td>0</td>\n",
       "      <td>0</td>\n",
       "      <td>4</td>\n",
       "      <td>4</td>\n",
       "      <td>4</td>\n",
       "      <td>4</td>\n",
       "      <td>1</td>\n",
       "      <td>1</td>\n",
       "      <td>...</td>\n",
       "      <td>45</td>\n",
       "      <td>45</td>\n",
       "      <td>91</td>\n",
       "      <td>91</td>\n",
       "      <td>91</td>\n",
       "      <td>91</td>\n",
       "      <td>91</td>\n",
       "      <td>91</td>\n",
       "      <td>91</td>\n",
       "      <td>91</td>\n",
       "    </tr>\n",
       "  </tbody>\n",
       "</table>\n",
       "<p>3 rows × 99 columns</p>\n",
       "</div>"
      ],
      "text/plain": [
       "       MLPID  ALL_MLPS_2  ALL_MLPS_3  ALL_MLPS_4  ALL_MLPS_5  ALL_MLPS_6  \\\n",
       "0   hen_7-32           1           0           0           3           3   \n",
       "1  hen_39-49           0           2           2           2           0   \n",
       "2  hen_12-25           1           0           0           4           4   \n",
       "\n",
       "   ALL_MLPS_7  ALL_MLPS_8  ALL_MLPS_9  ALL_MLPS_10  ...  ALL_MLPS_90  \\\n",
       "0           3           1           0            2  ...            9   \n",
       "1           1           0           3            3  ...            8   \n",
       "2           4           4           1            1  ...           45   \n",
       "\n",
       "   ALL_MLPS_91  ALL_MLPS_92  ALL_MLPS_93  ALL_MLPS_94  ALL_MLPS_95  \\\n",
       "0            9            9            9            4            1   \n",
       "1            8            8            8            8            8   \n",
       "2           45           91           91           91           91   \n",
       "\n",
       "   ALL_MLPS_96  ALL_MLPS_97  ALL_MLPS_98  ALL_MLPS_99  \n",
       "0            1            0           17           17  \n",
       "1            8            3            1            0  \n",
       "2           91           91           91           91  \n",
       "\n",
       "[3 rows x 99 columns]"
      ]
     },
     "execution_count": 21,
     "metadata": {},
     "output_type": "execute_result"
    }
   ],
   "source": [
    "#reopen for reproducibility\n",
    "df_res = pd.read_csv(os.path.join(path_extracted_data_visual_adap_clustering_V,id_run+'df_clustering_results.csv'), sep=';',\n",
    "                     dayfirst=True) \n",
    "print(df_res.shape)\n",
    "df_res.head(3)"
   ]
  },
  {
   "cell_type": "code",
   "execution_count": 22,
   "metadata": {},
   "outputs": [
    {
     "name": "stderr",
     "output_type": "stream",
     "text": [
      "C:\\Users\\camil\\anaconda3\\lib\\site-packages\\ipykernel\\ipkernel.py:283: DeprecationWarning: `should_run_async` will not call `transform_cell` automatically in the future. Please pass the result to `transformed_cell` argument and any exception that happen during thetransform in `preprocessing_exc_tuple` in IPython 7.17 and above.\n",
      "  and should_run_async(code)\n"
     ]
    },
    {
     "data": {
      "text/html": [
       "<div>\n",
       "<style scoped>\n",
       "    .dataframe tbody tr th:only-of-type {\n",
       "        vertical-align: middle;\n",
       "    }\n",
       "\n",
       "    .dataframe tbody tr th {\n",
       "        vertical-align: top;\n",
       "    }\n",
       "\n",
       "    .dataframe thead th {\n",
       "        text-align: right;\n",
       "    }\n",
       "</style>\n",
       "<table border=\"1\" class=\"dataframe\">\n",
       "  <thead>\n",
       "    <tr style=\"text-align: right;\">\n",
       "      <th></th>\n",
       "      <th>MLPID</th>\n",
       "      <th>ALL_MLPS_2</th>\n",
       "      <th>ALL_MLPS_3</th>\n",
       "      <th>ALL_MLPS_4</th>\n",
       "      <th>ALL_MLPS_5</th>\n",
       "      <th>ALL_MLPS_6</th>\n",
       "      <th>ALL_MLPS_7</th>\n",
       "      <th>ALL_MLPS_8</th>\n",
       "      <th>ALL_MLPS_9</th>\n",
       "      <th>ALL_MLPS_10</th>\n",
       "      <th>...</th>\n",
       "      <th>ALL_MLPS_92</th>\n",
       "      <th>ALL_MLPS_93</th>\n",
       "      <th>ALL_MLPS_94</th>\n",
       "      <th>ALL_MLPS_95</th>\n",
       "      <th>ALL_MLPS_96</th>\n",
       "      <th>ALL_MLPS_97</th>\n",
       "      <th>ALL_MLPS_98</th>\n",
       "      <th>ALL_MLPS_99</th>\n",
       "      <th>DIB</th>\n",
       "      <th>HenID</th>\n",
       "    </tr>\n",
       "  </thead>\n",
       "  <tbody>\n",
       "    <tr>\n",
       "      <th>0</th>\n",
       "      <td>hen_7-32</td>\n",
       "      <td>1</td>\n",
       "      <td>0</td>\n",
       "      <td>0</td>\n",
       "      <td>3</td>\n",
       "      <td>3</td>\n",
       "      <td>3</td>\n",
       "      <td>1</td>\n",
       "      <td>0</td>\n",
       "      <td>2</td>\n",
       "      <td>...</td>\n",
       "      <td>9</td>\n",
       "      <td>9</td>\n",
       "      <td>4</td>\n",
       "      <td>1</td>\n",
       "      <td>1</td>\n",
       "      <td>0</td>\n",
       "      <td>17</td>\n",
       "      <td>17</td>\n",
       "      <td>32</td>\n",
       "      <td>hen_7</td>\n",
       "    </tr>\n",
       "    <tr>\n",
       "      <th>1</th>\n",
       "      <td>hen_39-49</td>\n",
       "      <td>0</td>\n",
       "      <td>2</td>\n",
       "      <td>2</td>\n",
       "      <td>2</td>\n",
       "      <td>0</td>\n",
       "      <td>1</td>\n",
       "      <td>0</td>\n",
       "      <td>3</td>\n",
       "      <td>3</td>\n",
       "      <td>...</td>\n",
       "      <td>8</td>\n",
       "      <td>8</td>\n",
       "      <td>8</td>\n",
       "      <td>8</td>\n",
       "      <td>8</td>\n",
       "      <td>3</td>\n",
       "      <td>1</td>\n",
       "      <td>0</td>\n",
       "      <td>49</td>\n",
       "      <td>hen_39</td>\n",
       "    </tr>\n",
       "    <tr>\n",
       "      <th>2</th>\n",
       "      <td>hen_12-25</td>\n",
       "      <td>1</td>\n",
       "      <td>0</td>\n",
       "      <td>0</td>\n",
       "      <td>4</td>\n",
       "      <td>4</td>\n",
       "      <td>4</td>\n",
       "      <td>4</td>\n",
       "      <td>1</td>\n",
       "      <td>1</td>\n",
       "      <td>...</td>\n",
       "      <td>91</td>\n",
       "      <td>91</td>\n",
       "      <td>91</td>\n",
       "      <td>91</td>\n",
       "      <td>91</td>\n",
       "      <td>91</td>\n",
       "      <td>91</td>\n",
       "      <td>91</td>\n",
       "      <td>25</td>\n",
       "      <td>hen_12</td>\n",
       "    </tr>\n",
       "  </tbody>\n",
       "</table>\n",
       "<p>3 rows × 101 columns</p>\n",
       "</div>"
      ],
      "text/plain": [
       "       MLPID  ALL_MLPS_2  ALL_MLPS_3  ALL_MLPS_4  ALL_MLPS_5  ALL_MLPS_6  \\\n",
       "0   hen_7-32           1           0           0           3           3   \n",
       "1  hen_39-49           0           2           2           2           0   \n",
       "2  hen_12-25           1           0           0           4           4   \n",
       "\n",
       "   ALL_MLPS_7  ALL_MLPS_8  ALL_MLPS_9  ALL_MLPS_10  ...  ALL_MLPS_92  \\\n",
       "0           3           1           0            2  ...            9   \n",
       "1           1           0           3            3  ...            8   \n",
       "2           4           4           1            1  ...           91   \n",
       "\n",
       "   ALL_MLPS_93  ALL_MLPS_94  ALL_MLPS_95  ALL_MLPS_96  ALL_MLPS_97  \\\n",
       "0            9            4            1            1            0   \n",
       "1            8            8            8            8            3   \n",
       "2           91           91           91           91           91   \n",
       "\n",
       "   ALL_MLPS_98  ALL_MLPS_99  DIB   HenID  \n",
       "0           17           17   32   hen_7  \n",
       "1            1            0   49  hen_39  \n",
       "2           91           91   25  hen_12  \n",
       "\n",
       "[3 rows x 101 columns]"
      ]
     },
     "execution_count": 22,
     "metadata": {},
     "output_type": "execute_result"
    }
   ],
   "source": [
    "df_res['DIB'] = df_res['MLPID'].map(lambda x: int(x.split('-')[1]))\n",
    "df_res['HenID'] = df_res['MLPID'].map(lambda x: x.split('-')[0])\n",
    "df_res.head(3)"
   ]
  },
  {
   "cell_type": "code",
   "execution_count": 23,
   "metadata": {},
   "outputs": [
    {
     "name": "stdout",
     "output_type": "stream",
     "text": [
      "ALL_MLPS_2\n"
     ]
    },
    {
     "name": "stderr",
     "output_type": "stream",
     "text": [
      "C:\\Users\\camil\\anaconda3\\lib\\site-packages\\ipykernel\\ipkernel.py:283: DeprecationWarning: `should_run_async` will not call `transform_cell` automatically in the future. Please pass the result to `transformed_cell` argument and any exception that happen during thetransform in `preprocessing_exc_tuple` in IPython 7.17 and above.\n",
      "  and should_run_async(code)\n"
     ]
    },
    {
     "data": {
      "text/plain": [
       "0    4179\n",
       "1    3026\n",
       "Name: ALL_MLPS_2, dtype: int64"
      ]
     },
     "metadata": {},
     "output_type": "display_data"
    },
    {
     "name": "stdout",
     "output_type": "stream",
     "text": [
      "ALL_MLPS_3\n"
     ]
    },
    {
     "data": {
      "text/plain": [
       "2    4131\n",
       "0    3026\n",
       "1      48\n",
       "Name: ALL_MLPS_3, dtype: int64"
      ]
     },
     "metadata": {},
     "output_type": "display_data"
    },
    {
     "name": "stdout",
     "output_type": "stream",
     "text": [
      "ALL_MLPS_4\n"
     ]
    },
    {
     "data": {
      "text/plain": [
       "2    4131\n",
       "0    3006\n",
       "1      48\n",
       "3      20\n",
       "Name: ALL_MLPS_4, dtype: int64"
      ]
     },
     "metadata": {},
     "output_type": "display_data"
    },
    {
     "name": "stdout",
     "output_type": "stream",
     "text": [
      "ALL_MLPS_5\n"
     ]
    },
    {
     "data": {
      "text/plain": [
       "2    4131\n",
       "3    2537\n",
       "4     469\n",
       "0      48\n",
       "1      20\n",
       "Name: ALL_MLPS_5, dtype: int64"
      ]
     },
     "metadata": {},
     "output_type": "display_data"
    },
    {
     "name": "stdout",
     "output_type": "stream",
     "text": [
      "ALL_MLPS_6\n"
     ]
    },
    {
     "data": {
      "text/plain": [
       "0    4131\n",
       "3    2537\n",
       "4     469\n",
       "2      46\n",
       "1      20\n",
       "5       2\n",
       "Name: ALL_MLPS_6, dtype: int64"
      ]
     },
     "metadata": {},
     "output_type": "display_data"
    },
    {
     "name": "stdout",
     "output_type": "stream",
     "text": [
      "ALL_MLPS_7\n"
     ]
    },
    {
     "data": {
      "text/plain": [
       "1    3857\n",
       "3    2537\n",
       "4     469\n",
       "6     274\n",
       "2      46\n",
       "0      20\n",
       "5       2\n",
       "Name: ALL_MLPS_7, dtype: int64"
      ]
     },
     "metadata": {},
     "output_type": "display_data"
    },
    {
     "name": "stdout",
     "output_type": "stream",
     "text": [
      "ALL_MLPS_8\n"
     ]
    },
    {
     "data": {
      "text/plain": [
       "0    3857\n",
       "1    2537\n",
       "4     469\n",
       "6     274\n",
       "2      46\n",
       "3      14\n",
       "7       6\n",
       "5       2\n",
       "Name: ALL_MLPS_8, dtype: int64"
      ]
     },
     "metadata": {},
     "output_type": "display_data"
    },
    {
     "name": "stdout",
     "output_type": "stream",
     "text": [
      "ALL_MLPS_9\n"
     ]
    },
    {
     "data": {
      "text/plain": [
       "3    3851\n",
       "0    2537\n",
       "1     469\n",
       "6     274\n",
       "2      46\n",
       "8      14\n",
       "7       6\n",
       "4       6\n",
       "5       2\n",
       "Name: ALL_MLPS_9, dtype: int64"
      ]
     },
     "metadata": {},
     "output_type": "display_data"
    },
    {
     "name": "stdout",
     "output_type": "stream",
     "text": [
      "ALL_MLPS_10\n"
     ]
    },
    {
     "data": {
      "text/plain": [
       "3    3851\n",
       "2    2371\n",
       "1     469\n",
       "6     274\n",
       "9     166\n",
       "0      46\n",
       "8      14\n",
       "7       6\n",
       "4       6\n",
       "5       2\n",
       "Name: ALL_MLPS_10, dtype: int64"
      ]
     },
     "metadata": {},
     "output_type": "display_data"
    },
    {
     "name": "stdout",
     "output_type": "stream",
     "text": [
      "ALL_MLPS_11\n"
     ]
    },
    {
     "data": {
      "text/plain": [
       "3     3851\n",
       "2     2371\n",
       "0      469\n",
       "6      274\n",
       "4      166\n",
       "9       43\n",
       "8       14\n",
       "7        6\n",
       "1        6\n",
       "10       3\n",
       "5        2\n",
       "Name: ALL_MLPS_11, dtype: int64"
      ]
     },
     "metadata": {},
     "output_type": "display_data"
    },
    {
     "name": "stdout",
     "output_type": "stream",
     "text": [
      "ALL_MLPS_12\n"
     ]
    },
    {
     "data": {
      "text/plain": [
       "3     3851\n",
       "0     2371\n",
       "5      358\n",
       "6      274\n",
       "4      166\n",
       "2      111\n",
       "9       43\n",
       "8       14\n",
       "7        6\n",
       "1        6\n",
       "10       3\n",
       "11       2\n",
       "Name: ALL_MLPS_12, dtype: int64"
      ]
     },
     "metadata": {},
     "output_type": "display_data"
    },
    {
     "name": "stdout",
     "output_type": "stream",
     "text": [
      "ALL_MLPS_13\n"
     ]
    },
    {
     "data": {
      "text/plain": [
       "1     3851\n",
       "3     2363\n",
       "5      358\n",
       "6      274\n",
       "4      166\n",
       "2      111\n",
       "9       43\n",
       "8       14\n",
       "12       8\n",
       "7        6\n",
       "0        6\n",
       "10       3\n",
       "11       2\n",
       "Name: ALL_MLPS_13, dtype: int64"
      ]
     },
     "metadata": {},
     "output_type": "display_data"
    },
    {
     "name": "stdout",
     "output_type": "stream",
     "text": [
      "ALL_MLPS_14\n"
     ]
    },
    {
     "data": {
      "text/plain": [
       "0     3851\n",
       "3     2363\n",
       "5      358\n",
       "6      274\n",
       "1      166\n",
       "2      111\n",
       "4       43\n",
       "8       14\n",
       "12       8\n",
       "7        6\n",
       "9        5\n",
       "10       3\n",
       "11       2\n",
       "13       1\n",
       "Name: ALL_MLPS_14, dtype: int64"
      ]
     },
     "metadata": {},
     "output_type": "display_data"
    },
    {
     "name": "stdout",
     "output_type": "stream",
     "text": [
      "ALL_MLPS_15\n"
     ]
    },
    {
     "data": {
      "text/plain": [
       "2     3848\n",
       "3     2363\n",
       "5      358\n",
       "6      274\n",
       "1      166\n",
       "0      111\n",
       "4       43\n",
       "8       14\n",
       "12       8\n",
       "7        6\n",
       "9        5\n",
       "14       3\n",
       "10       3\n",
       "11       2\n",
       "13       1\n",
       "Name: ALL_MLPS_15, dtype: int64"
      ]
     },
     "metadata": {},
     "output_type": "display_data"
    },
    {
     "name": "stdout",
     "output_type": "stream",
     "text": [
      "ALL_MLPS_16\n"
     ]
    },
    {
     "data": {
      "text/plain": [
       "2     3848\n",
       "1     2363\n",
       "5      358\n",
       "6      274\n",
       "0      166\n",
       "8      110\n",
       "4       43\n",
       "3       14\n",
       "12       8\n",
       "7        6\n",
       "9        5\n",
       "14       3\n",
       "10       3\n",
       "11       2\n",
       "15       1\n",
       "13       1\n",
       "Name: ALL_MLPS_16, dtype: int64"
      ]
     },
     "metadata": {},
     "output_type": "display_data"
    },
    {
     "name": "stdout",
     "output_type": "stream",
     "text": [
      "ALL_MLPS_17\n"
     ]
    },
    {
     "data": {
      "text/plain": [
       "2     3848\n",
       "0     2363\n",
       "5      358\n",
       "6      274\n",
       "1      159\n",
       "8      110\n",
       "4       43\n",
       "3       14\n",
       "12       8\n",
       "16       7\n",
       "7        6\n",
       "9        5\n",
       "14       3\n",
       "10       3\n",
       "11       2\n",
       "15       1\n",
       "13       1\n",
       "Name: ALL_MLPS_17, dtype: int64"
      ]
     },
     "metadata": {},
     "output_type": "display_data"
    },
    {
     "name": "stdout",
     "output_type": "stream",
     "text": [
      "ALL_MLPS_18\n"
     ]
    },
    {
     "data": {
      "text/plain": [
       "2     3848\n",
       "1     1483\n",
       "3      880\n",
       "5      358\n",
       "6      274\n",
       "0      159\n",
       "17     110\n",
       "4       43\n",
       "8       14\n",
       "12       8\n",
       "16       7\n",
       "7        6\n",
       "9        5\n",
       "14       3\n",
       "10       3\n",
       "11       2\n",
       "15       1\n",
       "13       1\n",
       "Name: ALL_MLPS_18, dtype: int64"
      ]
     },
     "metadata": {},
     "output_type": "display_data"
    },
    {
     "name": "stdout",
     "output_type": "stream",
     "text": [
      "ALL_MLPS_19\n"
     ]
    },
    {
     "data": {
      "text/plain": [
       "2     3848\n",
       "0     1483\n",
       "1      880\n",
       "5      358\n",
       "6      274\n",
       "17     110\n",
       "3       87\n",
       "8       72\n",
       "4       43\n",
       "18      14\n",
       "12       8\n",
       "16       7\n",
       "7        6\n",
       "9        5\n",
       "10       3\n",
       "14       3\n",
       "11       2\n",
       "13       1\n",
       "15       1\n",
       "Name: ALL_MLPS_19, dtype: int64"
      ]
     },
     "metadata": {},
     "output_type": "display_data"
    },
    {
     "name": "stdout",
     "output_type": "stream",
     "text": [
      "ALL_MLPS_20\n"
     ]
    },
    {
     "data": {
      "text/plain": [
       "2     3848\n",
       "8     1442\n",
       "0      880\n",
       "5      358\n",
       "6      274\n",
       "17     110\n",
       "1       87\n",
       "3       72\n",
       "4       43\n",
       "9       41\n",
       "18      14\n",
       "12       8\n",
       "16       7\n",
       "7        6\n",
       "19       5\n",
       "14       3\n",
       "10       3\n",
       "11       2\n",
       "15       1\n",
       "13       1\n",
       "Name: ALL_MLPS_20, dtype: int64"
      ]
     },
     "metadata": {},
     "output_type": "display_data"
    },
    {
     "name": "stdout",
     "output_type": "stream",
     "text": [
      "ALL_MLPS_21\n"
     ]
    },
    {
     "data": {
      "text/plain": [
       "0     3848\n",
       "8     1442\n",
       "5      869\n",
       "2      358\n",
       "6      274\n",
       "17     110\n",
       "1       87\n",
       "3       72\n",
       "4       43\n",
       "9       41\n",
       "18      14\n",
       "20      11\n",
       "12       8\n",
       "16       7\n",
       "7        6\n",
       "19       5\n",
       "14       3\n",
       "10       3\n",
       "11       2\n",
       "15       1\n",
       "13       1\n",
       "Name: ALL_MLPS_21, dtype: int64"
      ]
     },
     "metadata": {},
     "output_type": "display_data"
    },
    {
     "name": "stdout",
     "output_type": "stream",
     "text": [
      "ALL_MLPS_22\n"
     ]
    },
    {
     "data": {
      "text/plain": [
       "5     3844\n",
       "8     1442\n",
       "2      869\n",
       "0      358\n",
       "6      274\n",
       "17     110\n",
       "1       87\n",
       "3       72\n",
       "4       43\n",
       "9       41\n",
       "18      14\n",
       "20      11\n",
       "12       8\n",
       "16       7\n",
       "7        6\n",
       "19       5\n",
       "21       4\n",
       "14       3\n",
       "10       3\n",
       "11       2\n",
       "15       1\n",
       "13       1\n",
       "Name: ALL_MLPS_22, dtype: int64"
      ]
     },
     "metadata": {},
     "output_type": "display_data"
    },
    {
     "name": "stdout",
     "output_type": "stream",
     "text": [
      "ALL_MLPS_23\n"
     ]
    },
    {
     "data": {
      "text/plain": [
       "5     3844\n",
       "8     1442\n",
       "2      869\n",
       "1      355\n",
       "6      274\n",
       "17     110\n",
       "0       87\n",
       "3       72\n",
       "4       43\n",
       "9       41\n",
       "18      14\n",
       "20      11\n",
       "12       8\n",
       "16       7\n",
       "7        6\n",
       "19       5\n",
       "21       4\n",
       "10       3\n",
       "14       3\n",
       "22       3\n",
       "11       2\n",
       "13       1\n",
       "15       1\n",
       "Name: ALL_MLPS_23, dtype: int64"
      ]
     },
     "metadata": {},
     "output_type": "display_data"
    },
    {
     "name": "stdout",
     "output_type": "stream",
     "text": [
      "ALL_MLPS_24\n"
     ]
    },
    {
     "data": {
      "text/plain": [
       "2     3844\n",
       "8     1442\n",
       "0      869\n",
       "1      355\n",
       "6      274\n",
       "17     110\n",
       "12      78\n",
       "3       72\n",
       "4       43\n",
       "9       41\n",
       "18      14\n",
       "20      11\n",
       "11       9\n",
       "5        8\n",
       "16       7\n",
       "7        6\n",
       "19       5\n",
       "21       4\n",
       "10       3\n",
       "14       3\n",
       "22       3\n",
       "23       2\n",
       "13       1\n",
       "15       1\n",
       "Name: ALL_MLPS_24, dtype: int64"
      ]
     },
     "metadata": {},
     "output_type": "display_data"
    },
    {
     "name": "stdout",
     "output_type": "stream",
     "text": [
      "ALL_MLPS_25\n"
     ]
    },
    {
     "data": {
      "text/plain": [
       "2     3844\n",
       "8     1442\n",
       "1      853\n",
       "0      355\n",
       "6      274\n",
       "17     110\n",
       "12      78\n",
       "3       72\n",
       "4       43\n",
       "9       41\n",
       "11      16\n",
       "18      14\n",
       "20      11\n",
       "24       9\n",
       "5        8\n",
       "16       7\n",
       "7        6\n",
       "19       5\n",
       "21       4\n",
       "10       3\n",
       "14       3\n",
       "22       3\n",
       "23       2\n",
       "13       1\n",
       "15       1\n",
       "Name: ALL_MLPS_25, dtype: int64"
      ]
     },
     "metadata": {},
     "output_type": "display_data"
    },
    {
     "name": "stdout",
     "output_type": "stream",
     "text": [
      "ALL_MLPS_26\n"
     ]
    },
    {
     "data": {
      "text/plain": [
       "2     3844\n",
       "3     1442\n",
       "0      853\n",
       "18     352\n",
       "6      274\n",
       "17     110\n",
       "12      78\n",
       "1       72\n",
       "4       43\n",
       "9       41\n",
       "11      16\n",
       "8       14\n",
       "20      11\n",
       "24       9\n",
       "5        8\n",
       "16       7\n",
       "7        6\n",
       "19       5\n",
       "21       4\n",
       "25       3\n",
       "10       3\n",
       "14       3\n",
       "22       3\n",
       "23       2\n",
       "13       1\n",
       "15       1\n",
       "Name: ALL_MLPS_26, dtype: int64"
      ]
     },
     "metadata": {},
     "output_type": "display_data"
    },
    {
     "name": "stdout",
     "output_type": "stream",
     "text": [
      "ALL_MLPS_27\n"
     ]
    },
    {
     "data": {
      "text/plain": [
       "0     3844\n",
       "3     1442\n",
       "2      848\n",
       "18     352\n",
       "6      274\n",
       "17     110\n",
       "12      78\n",
       "1       72\n",
       "4       43\n",
       "9       41\n",
       "11      16\n",
       "8       14\n",
       "20      11\n",
       "24       9\n",
       "5        8\n",
       "16       7\n",
       "7        6\n",
       "26       5\n",
       "19       5\n",
       "21       4\n",
       "25       3\n",
       "10       3\n",
       "14       3\n",
       "22       3\n",
       "23       2\n",
       "13       1\n",
       "15       1\n",
       "Name: ALL_MLPS_27, dtype: int64"
      ]
     },
     "metadata": {},
     "output_type": "display_data"
    },
    {
     "name": "stdout",
     "output_type": "stream",
     "text": [
      "ALL_MLPS_28\n"
     ]
    },
    {
     "data": {
      "text/plain": [
       "18    3691\n",
       "1     1442\n",
       "2      848\n",
       "8      352\n",
       "13     274\n",
       "6      153\n",
       "17     110\n",
       "12      78\n",
       "0       72\n",
       "4       43\n",
       "9       41\n",
       "11      16\n",
       "3       14\n",
       "20      11\n",
       "24       9\n",
       "5        8\n",
       "16       7\n",
       "7        6\n",
       "26       5\n",
       "19       5\n",
       "21       4\n",
       "25       3\n",
       "10       3\n",
       "14       3\n",
       "22       3\n",
       "23       2\n",
       "15       1\n",
       "27       1\n",
       "Name: ALL_MLPS_28, dtype: int64"
      ]
     },
     "metadata": {},
     "output_type": "display_data"
    },
    {
     "name": "stdout",
     "output_type": "stream",
     "text": [
      "ALL_MLPS_29\n"
     ]
    },
    {
     "data": {
      "text/plain": [
       "18    3691\n",
       "0     1442\n",
       "2      848\n",
       "8      352\n",
       "13     274\n",
       "6      153\n",
       "17     110\n",
       "12      78\n",
       "4       69\n",
       "1       43\n",
       "9       41\n",
       "11      16\n",
       "3       14\n",
       "20      11\n",
       "24       9\n",
       "5        8\n",
       "16       7\n",
       "7        6\n",
       "26       5\n",
       "19       5\n",
       "21       4\n",
       "25       3\n",
       "28       3\n",
       "10       3\n",
       "14       3\n",
       "22       3\n",
       "23       2\n",
       "15       1\n",
       "27       1\n",
       "Name: ALL_MLPS_29, dtype: int64"
      ]
     },
     "metadata": {},
     "output_type": "display_data"
    },
    {
     "name": "stdout",
     "output_type": "stream",
     "text": [
      "ALL_MLPS_30\n"
     ]
    },
    {
     "data": {
      "text/plain": [
       "18    3691\n",
       "3     1427\n",
       "2      848\n",
       "8      352\n",
       "13     274\n",
       "6      153\n",
       "17     110\n",
       "12      78\n",
       "4       69\n",
       "0       43\n",
       "9       41\n",
       "11      16\n",
       "14      15\n",
       "1       14\n",
       "20      11\n",
       "24       9\n",
       "5        8\n",
       "16       7\n",
       "7        6\n",
       "26       5\n",
       "19       5\n",
       "21       4\n",
       "25       3\n",
       "28       3\n",
       "29       3\n",
       "10       3\n",
       "22       3\n",
       "23       2\n",
       "15       1\n",
       "27       1\n",
       "Name: ALL_MLPS_30, dtype: int64"
      ]
     },
     "metadata": {},
     "output_type": "display_data"
    },
    {
     "name": "stdout",
     "output_type": "stream",
     "text": [
      "ALL_MLPS_31\n"
     ]
    },
    {
     "data": {
      "text/plain": [
       "8     3691\n",
       "1     1427\n",
       "2      848\n",
       "3      352\n",
       "13     274\n",
       "6      153\n",
       "17     110\n",
       "12      78\n",
       "4       69\n",
       "9       41\n",
       "18      41\n",
       "11      16\n",
       "14      15\n",
       "0       14\n",
       "20      11\n",
       "24       9\n",
       "5        8\n",
       "16       7\n",
       "7        6\n",
       "26       5\n",
       "19       5\n",
       "21       4\n",
       "28       3\n",
       "29       3\n",
       "25       3\n",
       "10       3\n",
       "22       3\n",
       "23       2\n",
       "30       2\n",
       "15       1\n",
       "27       1\n",
       "Name: ALL_MLPS_31, dtype: int64"
      ]
     },
     "metadata": {},
     "output_type": "display_data"
    },
    {
     "name": "stdout",
     "output_type": "stream",
     "text": [
      "ALL_MLPS_32\n"
     ]
    },
    {
     "data": {
      "text/plain": [
       "8     3691\n",
       "1     1427\n",
       "0      848\n",
       "3      352\n",
       "13     274\n",
       "6      153\n",
       "17     110\n",
       "5       78\n",
       "4       69\n",
       "9       41\n",
       "18      41\n",
       "11      16\n",
       "14      15\n",
       "26      11\n",
       "20      11\n",
       "24       9\n",
       "2        8\n",
       "16       7\n",
       "7        6\n",
       "12       5\n",
       "19       5\n",
       "21       4\n",
       "28       3\n",
       "29       3\n",
       "25       3\n",
       "10       3\n",
       "22       3\n",
       "15       3\n",
       "30       2\n",
       "23       2\n",
       "27       1\n",
       "31       1\n",
       "Name: ALL_MLPS_32, dtype: int64"
      ]
     },
     "metadata": {},
     "output_type": "display_data"
    },
    {
     "name": "stdout",
     "output_type": "stream",
     "text": [
      "ALL_MLPS_33\n"
     ]
    },
    {
     "data": {
      "text/plain": [
       "8     3691\n",
       "0     1427\n",
       "7      846\n",
       "1      352\n",
       "13     274\n",
       "6      153\n",
       "17     110\n",
       "5       78\n",
       "4       69\n",
       "9       41\n",
       "18      41\n",
       "11      16\n",
       "14      15\n",
       "20      11\n",
       "26      11\n",
       "24       9\n",
       "2        8\n",
       "16       7\n",
       "3        6\n",
       "12       5\n",
       "19       5\n",
       "21       4\n",
       "32       3\n",
       "28       3\n",
       "29       3\n",
       "25       3\n",
       "10       3\n",
       "22       3\n",
       "30       2\n",
       "15       2\n",
       "23       2\n",
       "27       1\n",
       "31       1\n",
       "Name: ALL_MLPS_33, dtype: int64"
      ]
     },
     "metadata": {},
     "output_type": "display_data"
    },
    {
     "name": "stdout",
     "output_type": "stream",
     "text": [
      "ALL_MLPS_34\n"
     ]
    },
    {
     "data": {
      "text/plain": [
       "3     3691\n",
       "8     1418\n",
       "16     846\n",
       "0      352\n",
       "13     274\n",
       "6      153\n",
       "17     110\n",
       "5       78\n",
       "4       69\n",
       "9       41\n",
       "18      41\n",
       "11      16\n",
       "14      15\n",
       "20      11\n",
       "26      11\n",
       "24       9\n",
       "7        9\n",
       "2        8\n",
       "33       7\n",
       "1        6\n",
       "12       5\n",
       "19       5\n",
       "21       4\n",
       "32       3\n",
       "28       3\n",
       "29       3\n",
       "25       3\n",
       "10       3\n",
       "22       3\n",
       "30       2\n",
       "15       2\n",
       "23       2\n",
       "27       1\n",
       "31       1\n",
       "Name: ALL_MLPS_34, dtype: int64"
      ]
     },
     "metadata": {},
     "output_type": "display_data"
    },
    {
     "name": "stdout",
     "output_type": "stream",
     "text": [
      "ALL_MLPS_35\n"
     ]
    },
    {
     "data": {
      "text/plain": [
       "3     3691\n",
       "8     1418\n",
       "34     846\n",
       "1      308\n",
       "13     274\n",
       "6      153\n",
       "17     110\n",
       "5       78\n",
       "4       69\n",
       "7       44\n",
       "9       41\n",
       "18      41\n",
       "11      16\n",
       "14      15\n",
       "26      11\n",
       "20      11\n",
       "24       9\n",
       "16       9\n",
       "2        8\n",
       "33       7\n",
       "0        6\n",
       "12       5\n",
       "19       5\n",
       "21       4\n",
       "25       3\n",
       "29       3\n",
       "10       3\n",
       "32       3\n",
       "28       3\n",
       "22       3\n",
       "30       2\n",
       "15       2\n",
       "23       2\n",
       "27       1\n",
       "31       1\n",
       "Name: ALL_MLPS_35, dtype: int64"
      ]
     },
     "metadata": {},
     "output_type": "display_data"
    },
    {
     "name": "stdout",
     "output_type": "stream",
     "text": [
      "ALL_MLPS_36\n"
     ]
    },
    {
     "data": {
      "text/plain": [
       "1     3691\n",
       "3     1418\n",
       "34     846\n",
       "0      308\n",
       "13     274\n",
       "6      153\n",
       "8      110\n",
       "5       78\n",
       "4       69\n",
       "7       44\n",
       "18      41\n",
       "9       41\n",
       "11      16\n",
       "14      15\n",
       "20      11\n",
       "26      11\n",
       "16       9\n",
       "24       9\n",
       "2        8\n",
       "33       7\n",
       "19       5\n",
       "12       5\n",
       "21       4\n",
       "35       4\n",
       "25       3\n",
       "29       3\n",
       "10       3\n",
       "22       3\n",
       "32       3\n",
       "28       3\n",
       "17       2\n",
       "30       2\n",
       "15       2\n",
       "23       2\n",
       "31       1\n",
       "27       1\n",
       "Name: ALL_MLPS_36, dtype: int64"
      ]
     },
     "metadata": {},
     "output_type": "display_data"
    },
    {
     "name": "stdout",
     "output_type": "stream",
     "text": [
      "ALL_MLPS_37\n"
     ]
    },
    {
     "data": {
      "text/plain": [
       "0     3691\n",
       "3     1418\n",
       "34     846\n",
       "13     274\n",
       "1      272\n",
       "6      153\n",
       "8      110\n",
       "5       78\n",
       "4       69\n",
       "7       44\n",
       "18      41\n",
       "9       41\n",
       "17      36\n",
       "11      16\n",
       "14      15\n",
       "20      11\n",
       "26      11\n",
       "16       9\n",
       "24       9\n",
       "2        8\n",
       "33       7\n",
       "19       5\n",
       "12       5\n",
       "21       4\n",
       "35       4\n",
       "25       3\n",
       "29       3\n",
       "10       3\n",
       "22       3\n",
       "32       3\n",
       "28       3\n",
       "36       2\n",
       "30       2\n",
       "15       2\n",
       "23       2\n",
       "31       1\n",
       "27       1\n",
       "Name: ALL_MLPS_37, dtype: int64"
      ]
     },
     "metadata": {},
     "output_type": "display_data"
    },
    {
     "name": "stdout",
     "output_type": "stream",
     "text": [
      "ALL_MLPS_38\n"
     ]
    },
    {
     "data": {
      "text/plain": [
       "18    3632\n",
       "3     1418\n",
       "34     846\n",
       "13     274\n",
       "1      272\n",
       "2      153\n",
       "8      110\n",
       "5       78\n",
       "4       69\n",
       "6       59\n",
       "7       44\n",
       "9       41\n",
       "37      41\n",
       "17      36\n",
       "11      16\n",
       "14      15\n",
       "20      11\n",
       "26      11\n",
       "24       9\n",
       "16       9\n",
       "0        8\n",
       "33       7\n",
       "19       5\n",
       "12       5\n",
       "21       4\n",
       "35       4\n",
       "25       3\n",
       "29       3\n",
       "10       3\n",
       "22       3\n",
       "32       3\n",
       "28       3\n",
       "36       2\n",
       "30       2\n",
       "15       2\n",
       "23       2\n",
       "31       1\n",
       "27       1\n",
       "Name: ALL_MLPS_38, dtype: int64"
      ]
     },
     "metadata": {},
     "output_type": "display_data"
    },
    {
     "name": "stdout",
     "output_type": "stream",
     "text": [
      "ALL_MLPS_39\n"
     ]
    },
    {
     "data": {
      "text/plain": [
       "18    3632\n",
       "3     1418\n",
       "34     846\n",
       "13     274\n",
       "1      272\n",
       "0      153\n",
       "8      110\n",
       "2       78\n",
       "4       69\n",
       "6       59\n",
       "7       44\n",
       "9       41\n",
       "37      41\n",
       "17      36\n",
       "5       16\n",
       "14      15\n",
       "20      11\n",
       "26      11\n",
       "16       9\n",
       "11       9\n",
       "33       7\n",
       "19       5\n",
       "12       5\n",
       "24       5\n",
       "35       4\n",
       "21       4\n",
       "28       3\n",
       "32       3\n",
       "22       3\n",
       "25       3\n",
       "29       3\n",
       "38       3\n",
       "10       3\n",
       "36       2\n",
       "30       2\n",
       "23       2\n",
       "15       2\n",
       "31       1\n",
       "27       1\n",
       "Name: ALL_MLPS_39, dtype: int64"
      ]
     },
     "metadata": {},
     "output_type": "display_data"
    },
    {
     "name": "stdout",
     "output_type": "stream",
     "text": [
      "ALL_MLPS_40\n"
     ]
    },
    {
     "data": {
      "text/plain": [
       "18    3632\n",
       "3     1418\n",
       "34     846\n",
       "13     274\n",
       "1      272\n",
       "6      131\n",
       "8      110\n",
       "0       78\n",
       "4       69\n",
       "2       59\n",
       "7       44\n",
       "9       41\n",
       "37      41\n",
       "17      36\n",
       "19      22\n",
       "5       16\n",
       "14      15\n",
       "26      11\n",
       "20      11\n",
       "16       9\n",
       "11       9\n",
       "33       7\n",
       "12       5\n",
       "24       5\n",
       "39       5\n",
       "21       4\n",
       "35       4\n",
       "22       3\n",
       "25       3\n",
       "29       3\n",
       "32       3\n",
       "28       3\n",
       "38       3\n",
       "10       3\n",
       "23       2\n",
       "36       2\n",
       "30       2\n",
       "15       2\n",
       "27       1\n",
       "31       1\n",
       "Name: ALL_MLPS_40, dtype: int64"
      ]
     },
     "metadata": {},
     "output_type": "display_data"
    },
    {
     "name": "stdout",
     "output_type": "stream",
     "text": [
      "ALL_MLPS_41\n"
     ]
    },
    {
     "data": {
      "text/plain": [
       "18    3632\n",
       "3     1418\n",
       "34     846\n",
       "13     274\n",
       "0      272\n",
       "6      131\n",
       "8      110\n",
       "19      73\n",
       "1       69\n",
       "2       59\n",
       "7       44\n",
       "4       41\n",
       "37      41\n",
       "17      36\n",
       "40      22\n",
       "5       16\n",
       "14      15\n",
       "26      11\n",
       "20      11\n",
       "16       9\n",
       "11       9\n",
       "33       7\n",
       "12       5\n",
       "24       5\n",
       "9        5\n",
       "39       5\n",
       "21       4\n",
       "35       4\n",
       "22       3\n",
       "25       3\n",
       "29       3\n",
       "32       3\n",
       "28       3\n",
       "38       3\n",
       "10       3\n",
       "15       2\n",
       "23       2\n",
       "36       2\n",
       "30       2\n",
       "27       1\n",
       "31       1\n",
       "Name: ALL_MLPS_41, dtype: int64"
      ]
     },
     "metadata": {},
     "output_type": "display_data"
    },
    {
     "name": "stdout",
     "output_type": "stream",
     "text": [
      "ALL_MLPS_42\n"
     ]
    },
    {
     "data": {
      "text/plain": [
       "18    3632\n",
       "3     1418\n",
       "34     846\n",
       "13     274\n",
       "9      269\n",
       "6      131\n",
       "8      110\n",
       "19      73\n",
       "0       69\n",
       "2       59\n",
       "7       44\n",
       "1       41\n",
       "37      41\n",
       "17      36\n",
       "40      22\n",
       "5       16\n",
       "14      15\n",
       "26      11\n",
       "20      11\n",
       "16       9\n",
       "11       9\n",
       "33       7\n",
       "4        5\n",
       "12       5\n",
       "24       5\n",
       "39       5\n",
       "21       4\n",
       "35       4\n",
       "22       3\n",
       "25       3\n",
       "29       3\n",
       "32       3\n",
       "28       3\n",
       "41       3\n",
       "38       3\n",
       "10       3\n",
       "23       2\n",
       "36       2\n",
       "30       2\n",
       "15       2\n",
       "27       1\n",
       "31       1\n",
       "Name: ALL_MLPS_42, dtype: int64"
      ]
     },
     "metadata": {},
     "output_type": "display_data"
    },
    {
     "name": "stdout",
     "output_type": "stream",
     "text": [
      "ALL_MLPS_43\n"
     ]
    },
    {
     "data": {
      "text/plain": [
       "18    3632\n",
       "1     1418\n",
       "16     846\n",
       "13     274\n",
       "9      269\n",
       "6      131\n",
       "8      110\n",
       "19      73\n",
       "2       59\n",
       "3       44\n",
       "37      41\n",
       "0       41\n",
       "34      36\n",
       "17      36\n",
       "20      33\n",
       "40      22\n",
       "5       16\n",
       "14      15\n",
       "26      11\n",
       "42      11\n",
       "7        9\n",
       "11       9\n",
       "33       7\n",
       "12       5\n",
       "4        5\n",
       "24       5\n",
       "39       5\n",
       "21       4\n",
       "35       4\n",
       "25       3\n",
       "29       3\n",
       "10       3\n",
       "22       3\n",
       "32       3\n",
       "28       3\n",
       "38       3\n",
       "41       3\n",
       "36       2\n",
       "30       2\n",
       "15       2\n",
       "23       2\n",
       "27       1\n",
       "31       1\n",
       "Name: ALL_MLPS_43, dtype: int64"
      ]
     },
     "metadata": {},
     "output_type": "display_data"
    },
    {
     "name": "stdout",
     "output_type": "stream",
     "text": [
      "ALL_MLPS_44\n"
     ]
    },
    {
     "data": {
      "text/plain": [
       "18    3632\n",
       "0     1418\n",
       "16     846\n",
       "13     274\n",
       "9      269\n",
       "6      131\n",
       "3      110\n",
       "19      73\n",
       "2       59\n",
       "1       44\n",
       "37      41\n",
       "8       36\n",
       "34      36\n",
       "20      33\n",
       "40      22\n",
       "36      21\n",
       "21      20\n",
       "5       16\n",
       "14      15\n",
       "26      11\n",
       "42      11\n",
       "7        9\n",
       "11       9\n",
       "33       7\n",
       "24       5\n",
       "39       5\n",
       "12       5\n",
       "4        5\n",
       "43       4\n",
       "35       4\n",
       "25       3\n",
       "29       3\n",
       "10       3\n",
       "22       3\n",
       "32       3\n",
       "28       3\n",
       "38       3\n",
       "41       3\n",
       "17       2\n",
       "30       2\n",
       "15       2\n",
       "23       2\n",
       "27       1\n",
       "31       1\n",
       "Name: ALL_MLPS_44, dtype: int64"
      ]
     },
     "metadata": {},
     "output_type": "display_data"
    },
    {
     "name": "stdout",
     "output_type": "stream",
     "text": [
      "ALL_MLPS_45\n"
     ]
    },
    {
     "data": {
      "text/plain": [
       "18    3632\n",
       "16     846\n",
       "6      837\n",
       "10     581\n",
       "13     274\n",
       "9      269\n",
       "2      131\n",
       "3      110\n",
       "19      73\n",
       "0       59\n",
       "1       44\n",
       "37      41\n",
       "34      36\n",
       "8       36\n",
       "20      33\n",
       "40      22\n",
       "36      21\n",
       "44      20\n",
       "5       16\n",
       "14      15\n",
       "26      11\n",
       "42      11\n",
       "7        9\n",
       "11       9\n",
       "33       7\n",
       "39       5\n",
       "4        5\n",
       "24       5\n",
       "12       5\n",
       "43       4\n",
       "35       4\n",
       "21       3\n",
       "25       3\n",
       "29       3\n",
       "22       3\n",
       "32       3\n",
       "28       3\n",
       "38       3\n",
       "41       3\n",
       "17       2\n",
       "30       2\n",
       "15       2\n",
       "23       2\n",
       "27       1\n",
       "31       1\n",
       "Name: ALL_MLPS_45, dtype: int64"
      ]
     },
     "metadata": {},
     "output_type": "display_data"
    },
    {
     "name": "stdout",
     "output_type": "stream",
     "text": [
      "ALL_MLPS_46\n"
     ]
    },
    {
     "data": {
      "text/plain": [
       "18    3632\n",
       "16     846\n",
       "2      837\n",
       "22     581\n",
       "13     274\n",
       "9      269\n",
       "0      131\n",
       "3      110\n",
       "19      73\n",
       "1       44\n",
       "37      41\n",
       "34      36\n",
       "8       36\n",
       "20      33\n",
       "10      32\n",
       "6       27\n",
       "40      22\n",
       "36      21\n",
       "44      20\n",
       "5       16\n",
       "14      15\n",
       "42      11\n",
       "26      11\n",
       "11       9\n",
       "7        9\n",
       "33       7\n",
       "4        5\n",
       "39       5\n",
       "12       5\n",
       "24       5\n",
       "43       4\n",
       "35       4\n",
       "21       3\n",
       "25       3\n",
       "29       3\n",
       "45       3\n",
       "32       3\n",
       "28       3\n",
       "38       3\n",
       "41       3\n",
       "17       2\n",
       "30       2\n",
       "15       2\n",
       "23       2\n",
       "27       1\n",
       "31       1\n",
       "Name: ALL_MLPS_46, dtype: int64"
      ]
     },
     "metadata": {},
     "output_type": "display_data"
    },
    {
     "name": "stdout",
     "output_type": "stream",
     "text": [
      "ALL_MLPS_47\n"
     ]
    },
    {
     "data": {
      "text/plain": [
       "18    3632\n",
       "16     846\n",
       "0      837\n",
       "46     581\n",
       "13     274\n",
       "9      269\n",
       "3      110\n",
       "6       87\n",
       "19      73\n",
       "1       44\n",
       "10      44\n",
       "37      41\n",
       "34      36\n",
       "8       36\n",
       "20      33\n",
       "22      32\n",
       "2       27\n",
       "40      22\n",
       "36      21\n",
       "44      20\n",
       "5       16\n",
       "14      15\n",
       "26      11\n",
       "42      11\n",
       "7        9\n",
       "11       9\n",
       "33       7\n",
       "24       5\n",
       "39       5\n",
       "12       5\n",
       "4        5\n",
       "43       4\n",
       "35       4\n",
       "21       3\n",
       "25       3\n",
       "29       3\n",
       "41       3\n",
       "32       3\n",
       "28       3\n",
       "38       3\n",
       "45       3\n",
       "17       2\n",
       "30       2\n",
       "15       2\n",
       "23       2\n",
       "27       1\n",
       "31       1\n",
       "Name: ALL_MLPS_47, dtype: int64"
      ]
     },
     "metadata": {},
     "output_type": "display_data"
    },
    {
     "name": "stdout",
     "output_type": "stream",
     "text": [
      "ALL_MLPS_48\n"
     ]
    },
    {
     "data": {
      "text/plain": [
       "18    3632\n",
       "7      846\n",
       "16     833\n",
       "46     581\n",
       "13     274\n",
       "9      269\n",
       "1      110\n",
       "6       87\n",
       "19      73\n",
       "10      44\n",
       "0       44\n",
       "37      41\n",
       "8       36\n",
       "34      36\n",
       "20      33\n",
       "22      32\n",
       "2       27\n",
       "40      22\n",
       "36      21\n",
       "44      20\n",
       "5       16\n",
       "14      15\n",
       "26      11\n",
       "42      11\n",
       "11       9\n",
       "3        9\n",
       "33       7\n",
       "24       5\n",
       "4        5\n",
       "12       5\n",
       "39       5\n",
       "43       4\n",
       "35       4\n",
       "23       4\n",
       "28       3\n",
       "32       3\n",
       "45       3\n",
       "21       3\n",
       "25       3\n",
       "29       3\n",
       "41       3\n",
       "38       3\n",
       "17       2\n",
       "30       2\n",
       "15       2\n",
       "47       2\n",
       "27       1\n",
       "31       1\n",
       "Name: ALL_MLPS_48, dtype: int64"
      ]
     },
     "metadata": {},
     "output_type": "display_data"
    },
    {
     "name": "stdout",
     "output_type": "stream",
     "text": [
      "ALL_MLPS_49\n"
     ]
    },
    {
     "data": {
      "text/plain": [
       "18    3632\n",
       "3      846\n",
       "7      833\n",
       "46     581\n",
       "13     274\n",
       "9      269\n",
       "0      110\n",
       "6       87\n",
       "19      73\n",
       "10      44\n",
       "34      41\n",
       "37      41\n",
       "8       36\n",
       "16      36\n",
       "20      33\n",
       "22      32\n",
       "2       27\n",
       "40      22\n",
       "36      21\n",
       "44      20\n",
       "5       16\n",
       "14      15\n",
       "42      11\n",
       "26      11\n",
       "1        9\n",
       "11       9\n",
       "33       7\n",
       "39       5\n",
       "24       5\n",
       "12       5\n",
       "4        5\n",
       "43       4\n",
       "35       4\n",
       "48       4\n",
       "32       3\n",
       "28       3\n",
       "45       3\n",
       "21       3\n",
       "25       3\n",
       "29       3\n",
       "41       3\n",
       "38       3\n",
       "23       3\n",
       "17       2\n",
       "30       2\n",
       "15       2\n",
       "47       2\n",
       "27       1\n",
       "31       1\n",
       "Name: ALL_MLPS_49, dtype: int64"
      ]
     },
     "metadata": {},
     "output_type": "display_data"
    },
    {
     "name": "stdout",
     "output_type": "stream",
     "text": [
      "ALL_MLPS_50\n"
     ]
    },
    {
     "data": {
      "text/plain": [
       "18    3632\n",
       "3      846\n",
       "7      833\n",
       "46     581\n",
       "13     274\n",
       "9      269\n",
       "2       87\n",
       "19      73\n",
       "14      60\n",
       "49      50\n",
       "10      44\n",
       "37      41\n",
       "34      41\n",
       "16      36\n",
       "8       36\n",
       "20      33\n",
       "22      32\n",
       "0       27\n",
       "40      22\n",
       "36      21\n",
       "44      20\n",
       "5       16\n",
       "6       15\n",
       "42      11\n",
       "26      11\n",
       "1        9\n",
       "11       9\n",
       "33       7\n",
       "39       5\n",
       "4        5\n",
       "12       5\n",
       "24       5\n",
       "43       4\n",
       "35       4\n",
       "48       4\n",
       "32       3\n",
       "28       3\n",
       "45       3\n",
       "21       3\n",
       "25       3\n",
       "29       3\n",
       "41       3\n",
       "38       3\n",
       "23       3\n",
       "17       2\n",
       "30       2\n",
       "15       2\n",
       "47       2\n",
       "27       1\n",
       "31       1\n",
       "Name: ALL_MLPS_50, dtype: int64"
      ]
     },
     "metadata": {},
     "output_type": "display_data"
    },
    {
     "name": "stdout",
     "output_type": "stream",
     "text": [
      "ALL_MLPS_51\n"
     ]
    },
    {
     "data": {
      "text/plain": [
       "18    3632\n",
       "3      846\n",
       "7      833\n",
       "46     581\n",
       "13     274\n",
       "9      269\n",
       "0       87\n",
       "19      73\n",
       "14      60\n",
       "24      50\n",
       "10      44\n",
       "37      41\n",
       "34      41\n",
       "16      36\n",
       "8       36\n",
       "20      33\n",
       "22      32\n",
       "49      26\n",
       "40      22\n",
       "36      21\n",
       "44      20\n",
       "2       16\n",
       "6       15\n",
       "26      11\n",
       "42      11\n",
       "5        9\n",
       "1        9\n",
       "33       7\n",
       "4        5\n",
       "11       5\n",
       "39       5\n",
       "12       5\n",
       "43       4\n",
       "35       4\n",
       "48       4\n",
       "32       3\n",
       "25       3\n",
       "23       3\n",
       "21       3\n",
       "29       3\n",
       "41       3\n",
       "45       3\n",
       "38       3\n",
       "28       3\n",
       "15       2\n",
       "30       2\n",
       "17       2\n",
       "47       2\n",
       "31       1\n",
       "27       1\n",
       "50       1\n",
       "Name: ALL_MLPS_51, dtype: int64"
      ]
     },
     "metadata": {},
     "output_type": "display_data"
    },
    {
     "name": "stdout",
     "output_type": "stream",
     "text": [
      "ALL_MLPS_52\n"
     ]
    },
    {
     "data": {
      "text/plain": [
       "18    3632\n",
       "3      846\n",
       "7      833\n",
       "46     581\n",
       "13     274\n",
       "9      269\n",
       "6       84\n",
       "19      73\n",
       "14      60\n",
       "24      50\n",
       "10      44\n",
       "34      41\n",
       "37      41\n",
       "8       36\n",
       "16      36\n",
       "20      33\n",
       "22      32\n",
       "49      26\n",
       "40      22\n",
       "36      21\n",
       "44      20\n",
       "0       16\n",
       "2       15\n",
       "26      11\n",
       "42      11\n",
       "1        9\n",
       "5        9\n",
       "33       7\n",
       "4        5\n",
       "12       5\n",
       "39       5\n",
       "11       5\n",
       "48       4\n",
       "43       4\n",
       "35       4\n",
       "41       3\n",
       "28       3\n",
       "32       3\n",
       "23       3\n",
       "45       3\n",
       "38       3\n",
       "21       3\n",
       "25       3\n",
       "29       3\n",
       "51       3\n",
       "15       2\n",
       "30       2\n",
       "17       2\n",
       "47       2\n",
       "27       1\n",
       "50       1\n",
       "31       1\n",
       "Name: ALL_MLPS_52, dtype: int64"
      ]
     },
     "metadata": {},
     "output_type": "display_data"
    },
    {
     "name": "stdout",
     "output_type": "stream",
     "text": [
      "ALL_MLPS_53\n"
     ]
    },
    {
     "data": {
      "text/plain": [
       "18    3632\n",
       "3      846\n",
       "7      833\n",
       "46     581\n",
       "13     274\n",
       "4      269\n",
       "6       84\n",
       "9       73\n",
       "14      60\n",
       "24      50\n",
       "10      44\n",
       "34      41\n",
       "37      41\n",
       "16      36\n",
       "8       36\n",
       "20      33\n",
       "22      32\n",
       "49      26\n",
       "19      22\n",
       "36      21\n",
       "44      20\n",
       "2       15\n",
       "40      14\n",
       "26      11\n",
       "42      11\n",
       "5        9\n",
       "0        9\n",
       "33       7\n",
       "39       5\n",
       "12       5\n",
       "11       5\n",
       "1        5\n",
       "48       4\n",
       "43       4\n",
       "35       4\n",
       "41       3\n",
       "28       3\n",
       "32       3\n",
       "23       3\n",
       "45       3\n",
       "38       3\n",
       "21       3\n",
       "25       3\n",
       "29       3\n",
       "51       3\n",
       "52       2\n",
       "15       2\n",
       "30       2\n",
       "17       2\n",
       "47       2\n",
       "50       1\n",
       "27       1\n",
       "31       1\n",
       "Name: ALL_MLPS_53, dtype: int64"
      ]
     },
     "metadata": {},
     "output_type": "display_data"
    },
    {
     "name": "stdout",
     "output_type": "stream",
     "text": [
      "ALL_MLPS_54\n"
     ]
    },
    {
     "data": {
      "text/plain": [
       "18    3632\n",
       "1      846\n",
       "3      833\n",
       "46     581\n",
       "13     274\n",
       "4      269\n",
       "6       84\n",
       "9       73\n",
       "14      60\n",
       "24      50\n",
       "10      44\n",
       "16      41\n",
       "37      41\n",
       "7       36\n",
       "8       36\n",
       "20      33\n",
       "22      32\n",
       "49      26\n",
       "19      22\n",
       "36      21\n",
       "44      20\n",
       "2       15\n",
       "40      14\n",
       "26      11\n",
       "42      11\n",
       "5        9\n",
       "33       7\n",
       "34       6\n",
       "12       5\n",
       "0        5\n",
       "39       5\n",
       "11       5\n",
       "48       4\n",
       "43       4\n",
       "35       4\n",
       "41       3\n",
       "23       3\n",
       "28       3\n",
       "32       3\n",
       "45       3\n",
       "51       3\n",
       "38       3\n",
       "53       3\n",
       "21       3\n",
       "25       3\n",
       "29       3\n",
       "52       2\n",
       "30       2\n",
       "15       2\n",
       "47       2\n",
       "17       2\n",
       "27       1\n",
       "31       1\n",
       "50       1\n",
       "Name: ALL_MLPS_54, dtype: int64"
      ]
     },
     "metadata": {},
     "output_type": "display_data"
    },
    {
     "name": "stdout",
     "output_type": "stream",
     "text": [
      "ALL_MLPS_55\n"
     ]
    },
    {
     "data": {
      "text/plain": [
       "8     3632\n",
       "0      846\n",
       "1      833\n",
       "46     581\n",
       "13     274\n",
       "4      269\n",
       "6       84\n",
       "9       73\n",
       "14      60\n",
       "24      50\n",
       "10      44\n",
       "37      41\n",
       "16      41\n",
       "7       36\n",
       "3       36\n",
       "20      33\n",
       "22      32\n",
       "49      26\n",
       "19      22\n",
       "36      21\n",
       "44      20\n",
       "2       15\n",
       "40      14\n",
       "26      11\n",
       "42      11\n",
       "5        9\n",
       "33       7\n",
       "34       6\n",
       "39       5\n",
       "12       5\n",
       "11       5\n",
       "35       4\n",
       "48       4\n",
       "43       4\n",
       "18       4\n",
       "32       3\n",
       "28       3\n",
       "51       3\n",
       "53       3\n",
       "38       3\n",
       "25       3\n",
       "23       3\n",
       "29       3\n",
       "41       3\n",
       "45       3\n",
       "21       3\n",
       "15       2\n",
       "17       2\n",
       "47       2\n",
       "52       2\n",
       "30       2\n",
       "50       1\n",
       "54       1\n",
       "27       1\n",
       "31       1\n",
       "Name: ALL_MLPS_55, dtype: int64"
      ]
     },
     "metadata": {},
     "output_type": "display_data"
    },
    {
     "name": "stdout",
     "output_type": "stream",
     "text": [
      "ALL_MLPS_56\n"
     ]
    },
    {
     "data": {
      "text/plain": [
       "8     3632\n",
       "0      833\n",
       "22     812\n",
       "46     581\n",
       "13     274\n",
       "1      269\n",
       "6       84\n",
       "9       73\n",
       "14      60\n",
       "24      50\n",
       "4       44\n",
       "37      41\n",
       "16      41\n",
       "7       36\n",
       "3       36\n",
       "27      34\n",
       "20      33\n",
       "10      32\n",
       "49      26\n",
       "19      22\n",
       "36      21\n",
       "44      20\n",
       "2       15\n",
       "40      14\n",
       "26      11\n",
       "42      11\n",
       "5        9\n",
       "33       7\n",
       "34       6\n",
       "12       5\n",
       "39       5\n",
       "11       5\n",
       "43       4\n",
       "35       4\n",
       "48       4\n",
       "18       4\n",
       "32       3\n",
       "28       3\n",
       "53       3\n",
       "25       3\n",
       "29       3\n",
       "41       3\n",
       "45       3\n",
       "51       3\n",
       "21       3\n",
       "38       3\n",
       "23       3\n",
       "17       2\n",
       "15       2\n",
       "47       2\n",
       "30       2\n",
       "52       2\n",
       "54       1\n",
       "50       1\n",
       "31       1\n",
       "55       1\n",
       "Name: ALL_MLPS_56, dtype: int64"
      ]
     },
     "metadata": {},
     "output_type": "display_data"
    },
    {
     "name": "stdout",
     "output_type": "stream",
     "text": [
      "ALL_MLPS_57\n"
     ]
    },
    {
     "data": {
      "text/plain": [
       "8     3632\n",
       "10     823\n",
       "22     812\n",
       "46     581\n",
       "13     274\n",
       "0      269\n",
       "6       84\n",
       "9       73\n",
       "14      60\n",
       "24      50\n",
       "1       44\n",
       "37      41\n",
       "16      41\n",
       "7       36\n",
       "3       36\n",
       "56      34\n",
       "20      33\n",
       "4       32\n",
       "49      26\n",
       "19      22\n",
       "36      21\n",
       "44      20\n",
       "2       15\n",
       "40      14\n",
       "26      11\n",
       "42      11\n",
       "27      10\n",
       "5        9\n",
       "33       7\n",
       "34       6\n",
       "39       5\n",
       "11       5\n",
       "12       5\n",
       "48       4\n",
       "35       4\n",
       "18       4\n",
       "43       4\n",
       "32       3\n",
       "28       3\n",
       "53       3\n",
       "25       3\n",
       "29       3\n",
       "41       3\n",
       "45       3\n",
       "51       3\n",
       "21       3\n",
       "38       3\n",
       "23       3\n",
       "17       2\n",
       "15       2\n",
       "47       2\n",
       "30       2\n",
       "52       2\n",
       "54       1\n",
       "50       1\n",
       "31       1\n",
       "55       1\n",
       "Name: ALL_MLPS_57, dtype: int64"
      ]
     },
     "metadata": {},
     "output_type": "display_data"
    },
    {
     "name": "stdout",
     "output_type": "stream",
     "text": [
      "ALL_MLPS_58\n"
     ]
    },
    {
     "data": {
      "text/plain": [
       "8     3632\n",
       "4      823\n",
       "10     812\n",
       "22     581\n",
       "13     274\n",
       "46     255\n",
       "6       84\n",
       "9       73\n",
       "14      60\n",
       "24      50\n",
       "0       44\n",
       "16      41\n",
       "37      41\n",
       "7       36\n",
       "3       36\n",
       "56      34\n",
       "20      33\n",
       "1       32\n",
       "49      26\n",
       "19      22\n",
       "36      21\n",
       "44      20\n",
       "2       15\n",
       "40      14\n",
       "28      14\n",
       "26      11\n",
       "42      11\n",
       "27      10\n",
       "5        9\n",
       "33       7\n",
       "34       6\n",
       "11       5\n",
       "12       5\n",
       "39       5\n",
       "48       4\n",
       "43       4\n",
       "35       4\n",
       "18       4\n",
       "32       3\n",
       "53       3\n",
       "25       3\n",
       "29       3\n",
       "41       3\n",
       "45       3\n",
       "51       3\n",
       "57       3\n",
       "21       3\n",
       "38       3\n",
       "23       3\n",
       "17       2\n",
       "15       2\n",
       "47       2\n",
       "30       2\n",
       "52       2\n",
       "54       1\n",
       "50       1\n",
       "31       1\n",
       "55       1\n",
       "Name: ALL_MLPS_58, dtype: int64"
      ]
     },
     "metadata": {},
     "output_type": "display_data"
    },
    {
     "name": "stdout",
     "output_type": "stream",
     "text": [
      "ALL_MLPS_59\n"
     ]
    },
    {
     "data": {
      "text/plain": [
       "8     3632\n",
       "1      823\n",
       "4      812\n",
       "10     581\n",
       "13     274\n",
       "22     255\n",
       "6       84\n",
       "9       73\n",
       "14      60\n",
       "24      50\n",
       "37      41\n",
       "16      41\n",
       "7       36\n",
       "3       36\n",
       "56      34\n",
       "20      33\n",
       "0       32\n",
       "49      26\n",
       "58      25\n",
       "19      22\n",
       "36      21\n",
       "44      20\n",
       "46      19\n",
       "2       15\n",
       "40      14\n",
       "28      14\n",
       "42      11\n",
       "26      11\n",
       "27      10\n",
       "5        9\n",
       "33       7\n",
       "34       6\n",
       "11       5\n",
       "12       5\n",
       "39       5\n",
       "18       4\n",
       "48       4\n",
       "35       4\n",
       "43       4\n",
       "32       3\n",
       "57       3\n",
       "25       3\n",
       "29       3\n",
       "41       3\n",
       "45       3\n",
       "53       3\n",
       "51       3\n",
       "21       3\n",
       "38       3\n",
       "23       3\n",
       "17       2\n",
       "15       2\n",
       "47       2\n",
       "30       2\n",
       "52       2\n",
       "54       1\n",
       "50       1\n",
       "31       1\n",
       "55       1\n",
       "Name: ALL_MLPS_59, dtype: int64"
      ]
     },
     "metadata": {},
     "output_type": "display_data"
    },
    {
     "name": "stdout",
     "output_type": "stream",
     "text": [
      "ALL_MLPS_60\n"
     ]
    },
    {
     "data": {
      "text/plain": [
       "8     3632\n",
       "0      823\n",
       "1      812\n",
       "4      581\n",
       "13     274\n",
       "22     255\n",
       "6       84\n",
       "9       73\n",
       "14      60\n",
       "24      50\n",
       "37      41\n",
       "16      41\n",
       "7       36\n",
       "3       36\n",
       "56      34\n",
       "20      33\n",
       "49      26\n",
       "58      25\n",
       "21      25\n",
       "19      22\n",
       "36      21\n",
       "44      20\n",
       "46      19\n",
       "2       15\n",
       "28      14\n",
       "40      14\n",
       "26      11\n",
       "42      11\n",
       "27      10\n",
       "5        9\n",
       "33       7\n",
       "59       7\n",
       "34       6\n",
       "12       5\n",
       "39       5\n",
       "11       5\n",
       "43       4\n",
       "35       4\n",
       "18       4\n",
       "48       4\n",
       "53       3\n",
       "45       3\n",
       "51       3\n",
       "32       3\n",
       "23       3\n",
       "57       3\n",
       "38       3\n",
       "25       3\n",
       "29       3\n",
       "10       3\n",
       "41       3\n",
       "15       2\n",
       "30       2\n",
       "17       2\n",
       "47       2\n",
       "52       2\n",
       "54       1\n",
       "50       1\n",
       "31       1\n",
       "55       1\n",
       "Name: ALL_MLPS_60, dtype: int64"
      ]
     },
     "metadata": {},
     "output_type": "display_data"
    },
    {
     "name": "stdout",
     "output_type": "stream",
     "text": [
      "ALL_MLPS_61\n"
     ]
    },
    {
     "data": {
      "text/plain": [
       "8     3632\n",
       "1      812\n",
       "6      810\n",
       "4      581\n",
       "13     274\n",
       "      ... \n",
       "52       2\n",
       "54       1\n",
       "50       1\n",
       "31       1\n",
       "55       1\n",
       "Name: ALL_MLPS_61, Length: 61, dtype: int64"
      ]
     },
     "metadata": {},
     "output_type": "display_data"
    },
    {
     "name": "stdout",
     "output_type": "stream",
     "text": [
      "ALL_MLPS_62\n"
     ]
    },
    {
     "data": {
      "text/plain": [
       "8     3632\n",
       "0      812\n",
       "6      810\n",
       "1      581\n",
       "13     274\n",
       "      ... \n",
       "47       2\n",
       "50       1\n",
       "31       1\n",
       "55       1\n",
       "54       1\n",
       "Name: ALL_MLPS_62, Length: 62, dtype: int64"
      ]
     },
     "metadata": {},
     "output_type": "display_data"
    },
    {
     "name": "stdout",
     "output_type": "stream",
     "text": [
      "ALL_MLPS_63\n"
     ]
    },
    {
     "data": {
      "text/plain": [
       "8     3632\n",
       "6      810\n",
       "9      769\n",
       "0      581\n",
       "13     274\n",
       "      ... \n",
       "61       2\n",
       "54       1\n",
       "50       1\n",
       "31       1\n",
       "55       1\n",
       "Name: ALL_MLPS_63, Length: 63, dtype: int64"
      ]
     },
     "metadata": {},
     "output_type": "display_data"
    },
    {
     "name": "stdout",
     "output_type": "stream",
     "text": [
      "ALL_MLPS_64\n"
     ]
    },
    {
     "data": {
      "text/plain": [
       "8     3632\n",
       "6      810\n",
       "9      769\n",
       "16     561\n",
       "13     274\n",
       "      ... \n",
       "47       2\n",
       "50       1\n",
       "54       1\n",
       "55       1\n",
       "63       1\n",
       "Name: ALL_MLPS_64, Length: 64, dtype: int64"
      ]
     },
     "metadata": {},
     "output_type": "display_data"
    },
    {
     "name": "stdout",
     "output_type": "stream",
     "text": [
      "ALL_MLPS_65\n"
     ]
    },
    {
     "data": {
      "text/plain": [
       "8     3632\n",
       "2      810\n",
       "9      769\n",
       "16     561\n",
       "6      274\n",
       "      ... \n",
       "47       2\n",
       "50       1\n",
       "54       1\n",
       "55       1\n",
       "63       1\n",
       "Name: ALL_MLPS_65, Length: 65, dtype: int64"
      ]
     },
     "metadata": {},
     "output_type": "display_data"
    },
    {
     "name": "stdout",
     "output_type": "stream",
     "text": [
      "ALL_MLPS_66\n"
     ]
    },
    {
     "data": {
      "text/plain": [
       "8     3632\n",
       "2      810\n",
       "4      769\n",
       "16     561\n",
       "6      274\n",
       "      ... \n",
       "47       2\n",
       "50       1\n",
       "54       1\n",
       "55       1\n",
       "63       1\n",
       "Name: ALL_MLPS_66, Length: 66, dtype: int64"
      ]
     },
     "metadata": {},
     "output_type": "display_data"
    },
    {
     "name": "stdout",
     "output_type": "stream",
     "text": [
      "ALL_MLPS_67\n"
     ]
    },
    {
     "data": {
      "text/plain": [
       "8     3632\n",
       "2      810\n",
       "1      769\n",
       "16     561\n",
       "6      274\n",
       "      ... \n",
       "52       2\n",
       "54       1\n",
       "50       1\n",
       "55       1\n",
       "63       1\n",
       "Name: ALL_MLPS_67, Length: 67, dtype: int64"
      ]
     },
     "metadata": {},
     "output_type": "display_data"
    },
    {
     "name": "stdout",
     "output_type": "stream",
     "text": [
      "ALL_MLPS_68\n"
     ]
    },
    {
     "data": {
      "text/plain": [
       "3     3632\n",
       "2      810\n",
       "0      769\n",
       "16     561\n",
       "6      274\n",
       "      ... \n",
       "67       2\n",
       "63       1\n",
       "50       1\n",
       "54       1\n",
       "55       1\n",
       "Name: ALL_MLPS_68, Length: 68, dtype: int64"
      ]
     },
     "metadata": {},
     "output_type": "display_data"
    },
    {
     "name": "stdout",
     "output_type": "stream",
     "text": [
      "ALL_MLPS_69\n"
     ]
    },
    {
     "data": {
      "text/plain": [
       "1     3632\n",
       "2      810\n",
       "7      743\n",
       "16     561\n",
       "6      274\n",
       "      ... \n",
       "67       2\n",
       "63       1\n",
       "50       1\n",
       "54       1\n",
       "55       1\n",
       "Name: ALL_MLPS_69, Length: 69, dtype: int64"
      ]
     },
     "metadata": {},
     "output_type": "display_data"
    },
    {
     "name": "stdout",
     "output_type": "stream",
     "text": [
      "ALL_MLPS_70\n"
     ]
    },
    {
     "data": {
      "text/plain": [
       "0     3632\n",
       "2      810\n",
       "7      743\n",
       "16     561\n",
       "6      274\n",
       "      ... \n",
       "67       2\n",
       "63       1\n",
       "50       1\n",
       "54       1\n",
       "55       1\n",
       "Name: ALL_MLPS_70, Length: 70, dtype: int64"
      ]
     },
     "metadata": {},
     "output_type": "display_data"
    },
    {
     "name": "stdout",
     "output_type": "stream",
     "text": [
      "ALL_MLPS_71\n"
     ]
    },
    {
     "data": {
      "text/plain": [
       "5     3001\n",
       "0      810\n",
       "7      743\n",
       "34     631\n",
       "16     561\n",
       "      ... \n",
       "67       2\n",
       "54       1\n",
       "50       1\n",
       "63       1\n",
       "55       1\n",
       "Name: ALL_MLPS_71, Length: 71, dtype: int64"
      ]
     },
     "metadata": {},
     "output_type": "display_data"
    },
    {
     "name": "stdout",
     "output_type": "stream",
     "text": [
      "ALL_MLPS_72\n"
     ]
    },
    {
     "data": {
      "text/plain": [
       "5     3001\n",
       "30     752\n",
       "7      743\n",
       "34     631\n",
       "16     561\n",
       "      ... \n",
       "61       2\n",
       "54       1\n",
       "50       1\n",
       "55       1\n",
       "63       1\n",
       "Name: ALL_MLPS_72, Length: 72, dtype: int64"
      ]
     },
     "metadata": {},
     "output_type": "display_data"
    },
    {
     "name": "stdout",
     "output_type": "stream",
     "text": [
      "ALL_MLPS_73\n"
     ]
    },
    {
     "data": {
      "text/plain": [
       "5     3001\n",
       "30     752\n",
       "3      743\n",
       "16     631\n",
       "7      561\n",
       "      ... \n",
       "47       2\n",
       "50       1\n",
       "55       1\n",
       "63       1\n",
       "54       1\n",
       "Name: ALL_MLPS_73, Length: 73, dtype: int64"
      ]
     },
     "metadata": {},
     "output_type": "display_data"
    },
    {
     "name": "stdout",
     "output_type": "stream",
     "text": [
      "ALL_MLPS_74\n"
     ]
    },
    {
     "data": {
      "text/plain": [
       "5     3001\n",
       "30     752\n",
       "3      743\n",
       "16     631\n",
       "7      561\n",
       "      ... \n",
       "52       2\n",
       "54       1\n",
       "55       1\n",
       "63       1\n",
       "50       1\n",
       "Name: ALL_MLPS_74, Length: 74, dtype: int64"
      ]
     },
     "metadata": {},
     "output_type": "display_data"
    },
    {
     "name": "stdout",
     "output_type": "stream",
     "text": [
      "ALL_MLPS_75\n"
     ]
    },
    {
     "data": {
      "text/plain": [
       "5     3001\n",
       "30     752\n",
       "1      743\n",
       "7      631\n",
       "3      561\n",
       "      ... \n",
       "0        2\n",
       "50       1\n",
       "54       1\n",
       "55       1\n",
       "63       1\n",
       "Name: ALL_MLPS_75, Length: 75, dtype: int64"
      ]
     },
     "metadata": {},
     "output_type": "display_data"
    },
    {
     "name": "stdout",
     "output_type": "stream",
     "text": [
      "ALL_MLPS_76\n"
     ]
    },
    {
     "data": {
      "text/plain": [
       "5     3001\n",
       "30     752\n",
       "0      743\n",
       "7      631\n",
       "3      561\n",
       "      ... \n",
       "50       1\n",
       "54       1\n",
       "55       1\n",
       "63       1\n",
       "75       1\n",
       "Name: ALL_MLPS_76, Length: 76, dtype: int64"
      ]
     },
     "metadata": {},
     "output_type": "display_data"
    },
    {
     "name": "stdout",
     "output_type": "stream",
     "text": [
      "ALL_MLPS_77\n"
     ]
    },
    {
     "data": {
      "text/plain": [
       "5     3001\n",
       "30     752\n",
       "20     726\n",
       "7      631\n",
       "3      561\n",
       "      ... \n",
       "50       1\n",
       "54       1\n",
       "55       1\n",
       "63       1\n",
       "75       1\n",
       "Name: ALL_MLPS_77, Length: 77, dtype: int64"
      ]
     },
     "metadata": {},
     "output_type": "display_data"
    },
    {
     "name": "stdout",
     "output_type": "stream",
     "text": [
      "ALL_MLPS_78\n"
     ]
    },
    {
     "data": {
      "text/plain": [
       "5     3001\n",
       "14     752\n",
       "20     726\n",
       "7      631\n",
       "3      561\n",
       "      ... \n",
       "50       1\n",
       "54       1\n",
       "55       1\n",
       "63       1\n",
       "75       1\n",
       "Name: ALL_MLPS_78, Length: 78, dtype: int64"
      ]
     },
     "metadata": {},
     "output_type": "display_data"
    },
    {
     "name": "stdout",
     "output_type": "stream",
     "text": [
      "ALL_MLPS_79\n"
     ]
    },
    {
     "data": {
      "text/plain": [
       "2     3001\n",
       "14     752\n",
       "20     726\n",
       "7      631\n",
       "3      561\n",
       "      ... \n",
       "50       1\n",
       "78       1\n",
       "54       1\n",
       "42       1\n",
       "75       1\n",
       "Name: ALL_MLPS_79, Length: 79, dtype: int64"
      ]
     },
     "metadata": {},
     "output_type": "display_data"
    },
    {
     "name": "stdout",
     "output_type": "stream",
     "text": [
      "ALL_MLPS_80\n"
     ]
    },
    {
     "data": {
      "text/plain": [
       "0     3001\n",
       "14     752\n",
       "20     726\n",
       "7      631\n",
       "3      561\n",
       "      ... \n",
       "63       1\n",
       "78       1\n",
       "54       1\n",
       "42       1\n",
       "50       1\n",
       "Name: ALL_MLPS_80, Length: 80, dtype: int64"
      ]
     },
     "metadata": {},
     "output_type": "display_data"
    },
    {
     "name": "stdout",
     "output_type": "stream",
     "text": [
      "ALL_MLPS_81\n"
     ]
    },
    {
     "data": {
      "text/plain": [
       "6     2995\n",
       "14     752\n",
       "20     726\n",
       "7      631\n",
       "3      561\n",
       "      ... \n",
       "63       1\n",
       "78       1\n",
       "54       1\n",
       "42       1\n",
       "50       1\n",
       "Name: ALL_MLPS_81, Length: 81, dtype: int64"
      ]
     },
     "metadata": {},
     "output_type": "display_data"
    },
    {
     "name": "stdout",
     "output_type": "stream",
     "text": [
      "ALL_MLPS_82\n"
     ]
    },
    {
     "data": {
      "text/plain": [
       "6     2995\n",
       "14     752\n",
       "20     726\n",
       "7      631\n",
       "3      561\n",
       "      ... \n",
       "75       1\n",
       "54       1\n",
       "50       1\n",
       "42       1\n",
       "78       1\n",
       "Name: ALL_MLPS_82, Length: 82, dtype: int64"
      ]
     },
     "metadata": {},
     "output_type": "display_data"
    },
    {
     "name": "stdout",
     "output_type": "stream",
     "text": [
      "ALL_MLPS_83\n"
     ]
    },
    {
     "data": {
      "text/plain": [
       "6     2995\n",
       "14     752\n",
       "9      726\n",
       "7      631\n",
       "3      561\n",
       "      ... \n",
       "78       1\n",
       "54       1\n",
       "42       1\n",
       "75       1\n",
       "81       1\n",
       "Name: ALL_MLPS_83, Length: 83, dtype: int64"
      ]
     },
     "metadata": {},
     "output_type": "display_data"
    },
    {
     "name": "stdout",
     "output_type": "stream",
     "text": [
      "ALL_MLPS_84\n"
     ]
    },
    {
     "data": {
      "text/plain": [
       "6     2995\n",
       "14     752\n",
       "9      726\n",
       "7      631\n",
       "3      561\n",
       "      ... \n",
       "54       1\n",
       "78       1\n",
       "50       1\n",
       "42       1\n",
       "81       1\n",
       "Name: ALL_MLPS_84, Length: 84, dtype: int64"
      ]
     },
     "metadata": {},
     "output_type": "display_data"
    },
    {
     "name": "stdout",
     "output_type": "stream",
     "text": [
      "ALL_MLPS_85\n"
     ]
    },
    {
     "data": {
      "text/plain": [
       "6     2995\n",
       "14     752\n",
       "9      726\n",
       "7      631\n",
       "3      561\n",
       "      ... \n",
       "54       1\n",
       "78       1\n",
       "50       1\n",
       "42       1\n",
       "81       1\n",
       "Name: ALL_MLPS_85, Length: 85, dtype: int64"
      ]
     },
     "metadata": {},
     "output_type": "display_data"
    },
    {
     "name": "stdout",
     "output_type": "stream",
     "text": [
      "ALL_MLPS_86\n"
     ]
    },
    {
     "data": {
      "text/plain": [
       "6     2995\n",
       "14     752\n",
       "9      726\n",
       "7      631\n",
       "3      561\n",
       "      ... \n",
       "78       1\n",
       "54       1\n",
       "42       1\n",
       "85       1\n",
       "81       1\n",
       "Name: ALL_MLPS_86, Length: 86, dtype: int64"
      ]
     },
     "metadata": {},
     "output_type": "display_data"
    },
    {
     "name": "stdout",
     "output_type": "stream",
     "text": [
      "ALL_MLPS_87\n"
     ]
    },
    {
     "data": {
      "text/plain": [
       "2     2995\n",
       "6      752\n",
       "9      726\n",
       "7      631\n",
       "3      561\n",
       "      ... \n",
       "81       1\n",
       "55       1\n",
       "63       1\n",
       "75       1\n",
       "85       1\n",
       "Name: ALL_MLPS_87, Length: 87, dtype: int64"
      ]
     },
     "metadata": {},
     "output_type": "display_data"
    },
    {
     "name": "stdout",
     "output_type": "stream",
     "text": [
      "ALL_MLPS_88\n"
     ]
    },
    {
     "data": {
      "text/plain": [
       "0     2995\n",
       "2      752\n",
       "9      726\n",
       "7      631\n",
       "3      561\n",
       "      ... \n",
       "86       1\n",
       "55       1\n",
       "63       1\n",
       "75       1\n",
       "85       1\n",
       "Name: ALL_MLPS_88, Length: 88, dtype: int64"
      ]
     },
     "metadata": {},
     "output_type": "display_data"
    },
    {
     "name": "stdout",
     "output_type": "stream",
     "text": [
      "ALL_MLPS_89\n"
     ]
    },
    {
     "data": {
      "text/plain": [
       "8     2981\n",
       "2      752\n",
       "9      726\n",
       "7      631\n",
       "1      561\n",
       "      ... \n",
       "86       1\n",
       "55       1\n",
       "63       1\n",
       "75       1\n",
       "85       1\n",
       "Name: ALL_MLPS_89, Length: 89, dtype: int64"
      ]
     },
     "metadata": {},
     "output_type": "display_data"
    },
    {
     "name": "stdout",
     "output_type": "stream",
     "text": [
      "ALL_MLPS_90\n"
     ]
    },
    {
     "data": {
      "text/plain": [
       "8     2981\n",
       "0      752\n",
       "9      726\n",
       "7      631\n",
       "1      561\n",
       "      ... \n",
       "86       1\n",
       "55       1\n",
       "63       1\n",
       "75       1\n",
       "85       1\n",
       "Name: ALL_MLPS_90, Length: 90, dtype: int64"
      ]
     },
     "metadata": {},
     "output_type": "display_data"
    },
    {
     "name": "stdout",
     "output_type": "stream",
     "text": [
      "ALL_MLPS_91\n"
     ]
    },
    {
     "data": {
      "text/plain": [
       "8     2981\n",
       "44     750\n",
       "9      726\n",
       "7      631\n",
       "0      561\n",
       "      ... \n",
       "55       1\n",
       "63       1\n",
       "85       1\n",
       "81       1\n",
       "75       1\n",
       "Name: ALL_MLPS_91, Length: 91, dtype: int64"
      ]
     },
     "metadata": {},
     "output_type": "display_data"
    },
    {
     "name": "stdout",
     "output_type": "stream",
     "text": [
      "ALL_MLPS_92\n"
     ]
    },
    {
     "data": {
      "text/plain": [
       "8     2981\n",
       "44     750\n",
       "9      726\n",
       "3      631\n",
       "15     490\n",
       "      ... \n",
       "55       1\n",
       "63       1\n",
       "54       1\n",
       "75       1\n",
       "50       1\n",
       "Name: ALL_MLPS_92, Length: 92, dtype: int64"
      ]
     },
     "metadata": {},
     "output_type": "display_data"
    },
    {
     "name": "stdout",
     "output_type": "stream",
     "text": [
      "ALL_MLPS_93\n"
     ]
    },
    {
     "data": {
      "text/plain": [
       "8     2981\n",
       "44     750\n",
       "9      726\n",
       "3      631\n",
       "15     490\n",
       "      ... \n",
       "81       1\n",
       "54       1\n",
       "50       1\n",
       "92       1\n",
       "86       1\n",
       "Name: ALL_MLPS_93, Length: 93, dtype: int64"
      ]
     },
     "metadata": {},
     "output_type": "display_data"
    },
    {
     "name": "stdout",
     "output_type": "stream",
     "text": [
      "ALL_MLPS_94\n"
     ]
    },
    {
     "data": {
      "text/plain": [
       "8     2981\n",
       "44     750\n",
       "4      726\n",
       "3      631\n",
       "15     490\n",
       "      ... \n",
       "54       1\n",
       "93       1\n",
       "86       1\n",
       "92       1\n",
       "78       1\n",
       "Name: ALL_MLPS_94, Length: 94, dtype: int64"
      ]
     },
     "metadata": {},
     "output_type": "display_data"
    },
    {
     "name": "stdout",
     "output_type": "stream",
     "text": [
      "ALL_MLPS_95\n"
     ]
    },
    {
     "data": {
      "text/plain": [
       "8     2981\n",
       "44     750\n",
       "1      726\n",
       "3      631\n",
       "15     490\n",
       "      ... \n",
       "81       1\n",
       "54       1\n",
       "50       1\n",
       "85       1\n",
       "93       1\n",
       "Name: ALL_MLPS_95, Length: 95, dtype: int64"
      ]
     },
     "metadata": {},
     "output_type": "display_data"
    },
    {
     "name": "stdout",
     "output_type": "stream",
     "text": [
      "ALL_MLPS_96\n"
     ]
    },
    {
     "data": {
      "text/plain": [
       "8     2981\n",
       "44     750\n",
       "1      726\n",
       "3      631\n",
       "15     490\n",
       "      ... \n",
       "54       1\n",
       "50       1\n",
       "85       1\n",
       "81       1\n",
       "93       1\n",
       "Name: ALL_MLPS_96, Length: 96, dtype: int64"
      ]
     },
     "metadata": {},
     "output_type": "display_data"
    },
    {
     "name": "stdout",
     "output_type": "stream",
     "text": [
      "ALL_MLPS_97\n"
     ]
    },
    {
     "data": {
      "text/plain": [
       "3     2981\n",
       "44     750\n",
       "0      726\n",
       "1      631\n",
       "15     490\n",
       "      ... \n",
       "54       1\n",
       "50       1\n",
       "85       1\n",
       "81       1\n",
       "93       1\n",
       "Name: ALL_MLPS_97, Length: 97, dtype: int64"
      ]
     },
     "metadata": {},
     "output_type": "display_data"
    },
    {
     "name": "stdout",
     "output_type": "stream",
     "text": [
      "ALL_MLPS_98\n"
     ]
    },
    {
     "data": {
      "text/plain": [
       "1     2981\n",
       "44     750\n",
       "0      631\n",
       "17     629\n",
       "15     490\n",
       "      ... \n",
       "54       1\n",
       "50       1\n",
       "85       1\n",
       "81       1\n",
       "93       1\n",
       "Name: ALL_MLPS_98, Length: 98, dtype: int64"
      ]
     },
     "metadata": {},
     "output_type": "display_data"
    },
    {
     "name": "stdout",
     "output_type": "stream",
     "text": [
      "ALL_MLPS_99\n"
     ]
    },
    {
     "data": {
      "text/plain": [
       "0     2981\n",
       "44     750\n",
       "16     630\n",
       "17     629\n",
       "15     490\n",
       "      ... \n",
       "75       1\n",
       "50       1\n",
       "92       1\n",
       "54       1\n",
       "81       1\n",
       "Name: ALL_MLPS_99, Length: 99, dtype: int64"
      ]
     },
     "metadata": {},
     "output_type": "display_data"
    }
   ],
   "source": [
    "#lets define it as the animal with the samllest squared average distance to all others from the same cluster\n",
    "#chose which clustering results oyu want to visualise \n",
    "#[i for i in df_ari['clusteringID1'].tolist() if i.startswith('enddayfixed_startingDIB-1_nbrcluster-5_')]\n",
    "for nbr_cl in li_nbr_cluster:   \n",
    "    name_clustering = 'ALL_MLPS_'+str(nbr_cl)\n",
    "    print(name_clustering)\n",
    "    display(df_res[name_clustering].value_counts())"
   ]
  },
  {
   "cell_type": "code",
   "execution_count": 24,
   "metadata": {
    "scrolled": true
   },
   "outputs": [
    {
     "name": "stderr",
     "output_type": "stream",
     "text": [
      "C:\\Users\\camil\\anaconda3\\lib\\site-packages\\ipykernel\\ipkernel.py:283: DeprecationWarning: `should_run_async` will not call `transform_cell` automatically in the future. Please pass the result to `transformed_cell` argument and any exception that happen during thetransform in `preprocessing_exc_tuple` in IPython 7.17 and above.\n",
      "  and should_run_async(code)\n"
     ]
    },
    {
     "data": {
      "text/html": [
       "<div>\n",
       "<style scoped>\n",
       "    .dataframe tbody tr th:only-of-type {\n",
       "        vertical-align: middle;\n",
       "    }\n",
       "\n",
       "    .dataframe tbody tr th {\n",
       "        vertical-align: top;\n",
       "    }\n",
       "\n",
       "    .dataframe thead th {\n",
       "        text-align: right;\n",
       "    }\n",
       "</style>\n",
       "<table border=\"1\" class=\"dataframe\">\n",
       "  <thead>\n",
       "    <tr style=\"text-align: right;\">\n",
       "      <th></th>\n",
       "      <th>index</th>\n",
       "      <th>ALL_MLPS_99</th>\n",
       "    </tr>\n",
       "  </thead>\n",
       "  <tbody>\n",
       "    <tr>\n",
       "      <th>0</th>\n",
       "      <td>cl_0</td>\n",
       "      <td>2981</td>\n",
       "    </tr>\n",
       "    <tr>\n",
       "      <th>1</th>\n",
       "      <td>cl_44</td>\n",
       "      <td>750</td>\n",
       "    </tr>\n",
       "    <tr>\n",
       "      <th>2</th>\n",
       "      <td>cl_16</td>\n",
       "      <td>630</td>\n",
       "    </tr>\n",
       "    <tr>\n",
       "      <th>3</th>\n",
       "      <td>cl_17</td>\n",
       "      <td>629</td>\n",
       "    </tr>\n",
       "    <tr>\n",
       "      <th>4</th>\n",
       "      <td>cl_15</td>\n",
       "      <td>490</td>\n",
       "    </tr>\n",
       "    <tr>\n",
       "      <th>5</th>\n",
       "      <td>cl_33</td>\n",
       "      <td>271</td>\n",
       "    </tr>\n",
       "    <tr>\n",
       "      <th>6</th>\n",
       "      <td>cl_26</td>\n",
       "      <td>238</td>\n",
       "    </tr>\n",
       "    <tr>\n",
       "      <th>7</th>\n",
       "      <td>cl_48</td>\n",
       "      <td>97</td>\n",
       "    </tr>\n",
       "    <tr>\n",
       "      <th>8</th>\n",
       "      <td>cl_32</td>\n",
       "      <td>71</td>\n",
       "    </tr>\n",
       "    <tr>\n",
       "      <th>9</th>\n",
       "      <td>cl_45</td>\n",
       "      <td>71</td>\n",
       "    </tr>\n",
       "    <tr>\n",
       "      <th>10</th>\n",
       "      <td>cl_13</td>\n",
       "      <td>63</td>\n",
       "    </tr>\n",
       "    <tr>\n",
       "      <th>11</th>\n",
       "      <td>cl_97</td>\n",
       "      <td>58</td>\n",
       "    </tr>\n",
       "    <tr>\n",
       "      <th>12</th>\n",
       "      <td>cl_8</td>\n",
       "      <td>58</td>\n",
       "    </tr>\n",
       "    <tr>\n",
       "      <th>13</th>\n",
       "      <td>cl_6</td>\n",
       "      <td>48</td>\n",
       "    </tr>\n",
       "    <tr>\n",
       "      <th>14</th>\n",
       "      <td>cl_76</td>\n",
       "      <td>41</td>\n",
       "    </tr>\n",
       "    <tr>\n",
       "      <th>15</th>\n",
       "      <td>cl_27</td>\n",
       "      <td>39</td>\n",
       "    </tr>\n",
       "    <tr>\n",
       "      <th>16</th>\n",
       "      <td>cl_41</td>\n",
       "      <td>34</td>\n",
       "    </tr>\n",
       "    <tr>\n",
       "      <th>17</th>\n",
       "      <td>cl_36</td>\n",
       "      <td>31</td>\n",
       "    </tr>\n",
       "    <tr>\n",
       "      <th>18</th>\n",
       "      <td>cl_18</td>\n",
       "      <td>27</td>\n",
       "    </tr>\n",
       "    <tr>\n",
       "      <th>19</th>\n",
       "      <td>cl_68</td>\n",
       "      <td>26</td>\n",
       "    </tr>\n",
       "    <tr>\n",
       "      <th>20</th>\n",
       "      <td>cl_24</td>\n",
       "      <td>26</td>\n",
       "    </tr>\n",
       "    <tr>\n",
       "      <th>21</th>\n",
       "      <td>cl_58</td>\n",
       "      <td>25</td>\n",
       "    </tr>\n",
       "    <tr>\n",
       "      <th>22</th>\n",
       "      <td>cl_4</td>\n",
       "      <td>25</td>\n",
       "    </tr>\n",
       "    <tr>\n",
       "      <th>23</th>\n",
       "      <td>cl_84</td>\n",
       "      <td>23</td>\n",
       "    </tr>\n",
       "    <tr>\n",
       "      <th>24</th>\n",
       "      <td>cl_21</td>\n",
       "      <td>20</td>\n",
       "    </tr>\n",
       "    <tr>\n",
       "      <th>25</th>\n",
       "      <td>cl_35</td>\n",
       "      <td>20</td>\n",
       "    </tr>\n",
       "    <tr>\n",
       "      <th>26</th>\n",
       "      <td>cl_3</td>\n",
       "      <td>20</td>\n",
       "    </tr>\n",
       "    <tr>\n",
       "      <th>27</th>\n",
       "      <td>cl_10</td>\n",
       "      <td>19</td>\n",
       "    </tr>\n",
       "    <tr>\n",
       "      <th>28</th>\n",
       "      <td>cl_30</td>\n",
       "      <td>18</td>\n",
       "    </tr>\n",
       "    <tr>\n",
       "      <th>29</th>\n",
       "      <td>cl_37</td>\n",
       "      <td>17</td>\n",
       "    </tr>\n",
       "    <tr>\n",
       "      <th>30</th>\n",
       "      <td>cl_96</td>\n",
       "      <td>17</td>\n",
       "    </tr>\n",
       "    <tr>\n",
       "      <th>31</th>\n",
       "      <td>cl_66</td>\n",
       "      <td>15</td>\n",
       "    </tr>\n",
       "    <tr>\n",
       "      <th>32</th>\n",
       "      <td>cl_43</td>\n",
       "      <td>14</td>\n",
       "    </tr>\n",
       "    <tr>\n",
       "      <th>33</th>\n",
       "      <td>cl_40</td>\n",
       "      <td>14</td>\n",
       "    </tr>\n",
       "    <tr>\n",
       "      <th>34</th>\n",
       "      <td>cl_28</td>\n",
       "      <td>14</td>\n",
       "    </tr>\n",
       "    <tr>\n",
       "      <th>35</th>\n",
       "      <td>cl_29</td>\n",
       "      <td>13</td>\n",
       "    </tr>\n",
       "    <tr>\n",
       "      <th>36</th>\n",
       "      <td>cl_94</td>\n",
       "      <td>11</td>\n",
       "    </tr>\n",
       "    <tr>\n",
       "      <th>37</th>\n",
       "      <td>cl_5</td>\n",
       "      <td>11</td>\n",
       "    </tr>\n",
       "    <tr>\n",
       "      <th>38</th>\n",
       "      <td>cl_46</td>\n",
       "      <td>10</td>\n",
       "    </tr>\n",
       "    <tr>\n",
       "      <th>39</th>\n",
       "      <td>cl_2</td>\n",
       "      <td>10</td>\n",
       "    </tr>\n",
       "  </tbody>\n",
       "</table>\n",
       "</div>"
      ],
      "text/plain": [
       "    index  ALL_MLPS_99\n",
       "0    cl_0         2981\n",
       "1   cl_44          750\n",
       "2   cl_16          630\n",
       "3   cl_17          629\n",
       "4   cl_15          490\n",
       "5   cl_33          271\n",
       "6   cl_26          238\n",
       "7   cl_48           97\n",
       "8   cl_32           71\n",
       "9   cl_45           71\n",
       "10  cl_13           63\n",
       "11  cl_97           58\n",
       "12   cl_8           58\n",
       "13   cl_6           48\n",
       "14  cl_76           41\n",
       "15  cl_27           39\n",
       "16  cl_41           34\n",
       "17  cl_36           31\n",
       "18  cl_18           27\n",
       "19  cl_68           26\n",
       "20  cl_24           26\n",
       "21  cl_58           25\n",
       "22   cl_4           25\n",
       "23  cl_84           23\n",
       "24  cl_21           20\n",
       "25  cl_35           20\n",
       "26   cl_3           20\n",
       "27  cl_10           19\n",
       "28  cl_30           18\n",
       "29  cl_37           17\n",
       "30  cl_96           17\n",
       "31  cl_66           15\n",
       "32  cl_43           14\n",
       "33  cl_40           14\n",
       "34  cl_28           14\n",
       "35  cl_29           13\n",
       "36  cl_94           11\n",
       "37   cl_5           11\n",
       "38  cl_46           10\n",
       "39   cl_2           10"
      ]
     },
     "execution_count": 24,
     "metadata": {},
     "output_type": "execute_result"
    }
   ],
   "source": [
    "name_clustering = 'ALL_MLPS_99'\n",
    "#first, make clustersID as string to avoid confusion\n",
    "df_res[name_clustering] = df_res[name_clustering].map(lambda x: 'cl_'+str(x))\n",
    "df_plt = df_res[name_clustering].value_counts().reset_index()\n",
    "df_plt[0:40]"
   ]
  },
  {
   "cell_type": "code",
   "execution_count": 25,
   "metadata": {},
   "outputs": [
    {
     "name": "stderr",
     "output_type": "stream",
     "text": [
      "C:\\Users\\camil\\anaconda3\\lib\\site-packages\\ipykernel\\ipkernel.py:283: DeprecationWarning: `should_run_async` will not call `transform_cell` automatically in the future. Please pass the result to `transformed_cell` argument and any exception that happen during thetransform in `preprocessing_exc_tuple` in IPython 7.17 and above.\n",
      "  and should_run_async(code)\n"
     ]
    }
   ],
   "source": [
    "#then, select most importnat clusters\n",
    "li_clmostimportant = df_plt['index'][0:7].tolist()"
   ]
  },
  {
   "cell_type": "raw",
   "metadata": {},
   "source": [
    "--> TODO PERHAPS extract graph eccentricity etc emasure and see if more excentric means more KBF sooner?"
   ]
  },
  {
   "cell_type": "code",
   "execution_count": 133,
   "metadata": {},
   "outputs": [
    {
     "name": "stderr",
     "output_type": "stream",
     "text": [
      "C:\\Users\\camil\\anaconda3\\lib\\site-packages\\ipykernel\\ipkernel.py:283: DeprecationWarning: `should_run_async` will not call `transform_cell` automatically in the future. Please pass the result to `transformed_cell` argument and any exception that happen during thetransform in `preprocessing_exc_tuple` in IPython 7.17 and above.\n",
      "  and should_run_async(code)\n"
     ]
    },
    {
     "ename": "SystemExit",
     "evalue": "",
     "output_type": "error",
     "traceback": [
      "An exception has occurred, use %tb to see the full traceback.\n",
      "\u001b[1;31mSystemExit\u001b[0m\n"
     ]
    },
    {
     "name": "stderr",
     "output_type": "stream",
     "text": [
      "C:\\Users\\camil\\anaconda3\\lib\\site-packages\\IPython\\core\\interactiveshell.py:3426: UserWarning: To exit: use 'exit', 'quit', or Ctrl-D.\n",
      "  warn(\"To exit: use 'exit', 'quit', or Ctrl-D.\", stacklevel=1)\n"
     ]
    }
   ],
   "source": [
    "sys.exit()"
   ]
  },
  {
   "cell_type": "markdown",
   "metadata": {},
   "source": [
    "### across DIB"
   ]
  },
  {
   "cell_type": "code",
   "execution_count": 27,
   "metadata": {},
   "outputs": [
    {
     "name": "stderr",
     "output_type": "stream",
     "text": [
      "C:\\Users\\camil\\anaconda3\\lib\\site-packages\\ipykernel\\ipkernel.py:283: DeprecationWarning: `should_run_async` will not call `transform_cell` automatically in the future. Please pass the result to `transformed_cell` argument and any exception that happen during thetransform in `preprocessing_exc_tuple` in IPython 7.17 and above.\n",
      "  and should_run_async(code)\n",
      "findfont: Font family ['Helvetica'] not found. Falling back to DejaVu Sans.\n"
     ]
    },
    {
     "data": {
      "image/png": "[encoded data removed]",
      "text/plain": [
       "<Figure size 3600x316.8 with 1 Axes>"
      ]
     },
     "execution_count": 27,
     "metadata": {},
     "output_type": "execute_result"
    }
   ],
   "source": [
    "dxp.count('DIB', data=df_res[df_res[name_clustering].isin(li_clmostimportant)], split=name_clustering)"
   ]
  },
  {
   "cell_type": "code",
   "execution_count": 28,
   "metadata": {},
   "outputs": [
    {
     "name": "stderr",
     "output_type": "stream",
     "text": [
      "C:\\Users\\camil\\anaconda3\\lib\\site-packages\\ipykernel\\ipkernel.py:283: DeprecationWarning: `should_run_async` will not call `transform_cell` automatically in the future. Please pass the result to `transformed_cell` argument and any exception that happen during thetransform in `preprocessing_exc_tuple` in IPython 7.17 and above.\n",
      "  and should_run_async(code)\n"
     ]
    },
    {
     "data": {
      "text/html": [
       "<div>\n",
       "<style scoped>\n",
       "    .dataframe tbody tr th:only-of-type {\n",
       "        vertical-align: middle;\n",
       "    }\n",
       "\n",
       "    .dataframe tbody tr th {\n",
       "        vertical-align: top;\n",
       "    }\n",
       "\n",
       "    .dataframe thead th {\n",
       "        text-align: right;\n",
       "    }\n",
       "</style>\n",
       "<table border=\"1\" class=\"dataframe\">\n",
       "  <thead>\n",
       "    <tr style=\"text-align: right;\">\n",
       "      <th></th>\n",
       "      <th>DIB</th>\n",
       "      <th>ALL_MLPS_99</th>\n",
       "      <th>HenID</th>\n",
       "    </tr>\n",
       "  </thead>\n",
       "  <tbody>\n",
       "    <tr>\n",
       "      <th>0</th>\n",
       "      <td>1</td>\n",
       "      <td>cl_0</td>\n",
       "      <td>54</td>\n",
       "    </tr>\n",
       "    <tr>\n",
       "      <th>1</th>\n",
       "      <td>1</td>\n",
       "      <td>cl_15</td>\n",
       "      <td>22</td>\n",
       "    </tr>\n",
       "    <tr>\n",
       "      <th>2</th>\n",
       "      <td>1</td>\n",
       "      <td>cl_16</td>\n",
       "      <td>10</td>\n",
       "    </tr>\n",
       "    <tr>\n",
       "      <th>3</th>\n",
       "      <td>1</td>\n",
       "      <td>cl_26</td>\n",
       "      <td>1</td>\n",
       "    </tr>\n",
       "    <tr>\n",
       "      <th>4</th>\n",
       "      <td>1</td>\n",
       "      <td>cl_33</td>\n",
       "      <td>20</td>\n",
       "    </tr>\n",
       "    <tr>\n",
       "      <th>...</th>\n",
       "      <td>...</td>\n",
       "      <td>...</td>\n",
       "      <td>...</td>\n",
       "    </tr>\n",
       "    <tr>\n",
       "      <th>991</th>\n",
       "      <td>55</td>\n",
       "      <td>cl_7</td>\n",
       "      <td>1</td>\n",
       "    </tr>\n",
       "    <tr>\n",
       "      <th>992</th>\n",
       "      <td>55</td>\n",
       "      <td>cl_8</td>\n",
       "      <td>1</td>\n",
       "    </tr>\n",
       "    <tr>\n",
       "      <th>993</th>\n",
       "      <td>55</td>\n",
       "      <td>cl_80</td>\n",
       "      <td>1</td>\n",
       "    </tr>\n",
       "    <tr>\n",
       "      <th>994</th>\n",
       "      <td>55</td>\n",
       "      <td>cl_83</td>\n",
       "      <td>1</td>\n",
       "    </tr>\n",
       "    <tr>\n",
       "      <th>995</th>\n",
       "      <td>55</td>\n",
       "      <td>cl_97</td>\n",
       "      <td>2</td>\n",
       "    </tr>\n",
       "  </tbody>\n",
       "</table>\n",
       "<p>996 rows × 3 columns</p>\n",
       "</div>"
      ],
      "text/plain": [
       "     DIB ALL_MLPS_99  HenID\n",
       "0      1        cl_0     54\n",
       "1      1       cl_15     22\n",
       "2      1       cl_16     10\n",
       "3      1       cl_26      1\n",
       "4      1       cl_33     20\n",
       "..   ...         ...    ...\n",
       "991   55        cl_7      1\n",
       "992   55        cl_8      1\n",
       "993   55       cl_80      1\n",
       "994   55       cl_83      1\n",
       "995   55       cl_97      2\n",
       "\n",
       "[996 rows x 3 columns]"
      ]
     },
     "execution_count": 28,
     "metadata": {},
     "output_type": "execute_result"
    }
   ],
   "source": [
    "#small verification\n",
    "df_res.groupby(['DIB',name_clustering])['HenID'].count().reset_index()"
   ]
  },
  {
   "cell_type": "markdown",
   "metadata": {},
   "source": [
    "### mvt features value across cluster of a particular clustering"
   ]
  },
  {
   "cell_type": "code",
   "execution_count": 165,
   "metadata": {},
   "outputs": [
    {
     "name": "stderr",
     "output_type": "stream",
     "text": [
      "C:\\Users\\camil\\anaconda3\\lib\\site-packages\\ipykernel\\ipkernel.py:283: DeprecationWarning: `should_run_async` will not call `transform_cell` automatically in the future. Please pass the result to `transformed_cell` argument and any exception that happen during thetransform in `preprocessing_exc_tuple` in IPython 7.17 and above.\n",
      "  and should_run_async(code)\n"
     ]
    },
    {
     "data": {
      "text/html": [
       "<div>\n",
       "<style scoped>\n",
       "    .dataframe tbody tr th:only-of-type {\n",
       "        vertical-align: middle;\n",
       "    }\n",
       "\n",
       "    .dataframe tbody tr th {\n",
       "        vertical-align: top;\n",
       "    }\n",
       "\n",
       "    .dataframe thead th {\n",
       "        text-align: right;\n",
       "    }\n",
       "</style>\n",
       "<table border=\"1\" class=\"dataframe\">\n",
       "  <thead>\n",
       "    <tr style=\"text-align: right;\">\n",
       "      <th></th>\n",
       "      <th>ALL_MLPS_99</th>\n",
       "      <th>HenID</th>\n",
       "      <th>PenID</th>\n",
       "      <th>CLASS</th>\n",
       "      <th>R-Pen</th>\n",
       "      <th>InitialStartDate</th>\n",
       "      <th>29-09 weight</th>\n",
       "      <th>10-12 juin weight</th>\n",
       "      <th>weight 23-11-2020</th>\n",
       "      <th>weight 04-01-2021</th>\n",
       "      <th>weight 01-02-21</th>\n",
       "      <th>Treatment</th>\n",
       "      <th>percentage_of_gain_weight</th>\n",
       "    </tr>\n",
       "  </thead>\n",
       "  <tbody>\n",
       "    <tr>\n",
       "      <th>0</th>\n",
       "      <td>cl_17</td>\n",
       "      <td>hen_7</td>\n",
       "      <td>11</td>\n",
       "      <td>MEXP</td>\n",
       "      <td>1.0</td>\n",
       "      <td>2020-06-10</td>\n",
       "      <td>1248.0</td>\n",
       "      <td>62.8</td>\n",
       "      <td>1788.9</td>\n",
       "      <td>1905.1</td>\n",
       "      <td>1905.6</td>\n",
       "      <td>OFH</td>\n",
       "      <td>43.341346</td>\n",
       "    </tr>\n",
       "    <tr>\n",
       "      <th>1</th>\n",
       "      <td>cl_0</td>\n",
       "      <td>hen_39</td>\n",
       "      <td>11</td>\n",
       "      <td>EPI</td>\n",
       "      <td>1.0</td>\n",
       "      <td>2020-06-12</td>\n",
       "      <td>1070.0</td>\n",
       "      <td>NaN</td>\n",
       "      <td>1559.0</td>\n",
       "      <td>1768.0</td>\n",
       "      <td>1779.2</td>\n",
       "      <td>OFH</td>\n",
       "      <td>45.700935</td>\n",
       "    </tr>\n",
       "    <tr>\n",
       "      <th>2</th>\n",
       "      <td>cl_91</td>\n",
       "      <td>hen_12</td>\n",
       "      <td>5</td>\n",
       "      <td>EPI</td>\n",
       "      <td>1.0</td>\n",
       "      <td>2020-06-10</td>\n",
       "      <td>1258.0</td>\n",
       "      <td>68.3</td>\n",
       "      <td>1794.2</td>\n",
       "      <td>1859.3</td>\n",
       "      <td>1895.4</td>\n",
       "      <td>OFH</td>\n",
       "      <td>42.623211</td>\n",
       "    </tr>\n",
       "  </tbody>\n",
       "</table>\n",
       "</div>"
      ],
      "text/plain": [
       "  ALL_MLPS_99   HenID  PenID CLASS  R-Pen InitialStartDate  29-09 weight  \\\n",
       "0       cl_17   hen_7     11  MEXP    1.0       2020-06-10        1248.0   \n",
       "1        cl_0  hen_39     11   EPI    1.0       2020-06-12        1070.0   \n",
       "2       cl_91  hen_12      5   EPI    1.0       2020-06-10        1258.0   \n",
       "\n",
       "   10-12 juin weight  weight 23-11-2020  weight 04-01-2021  weight 01-02-21  \\\n",
       "0               62.8             1788.9             1905.1           1905.6   \n",
       "1                NaN             1559.0             1768.0           1779.2   \n",
       "2               68.3             1794.2             1859.3           1895.4   \n",
       "\n",
       "  Treatment  percentage_of_gain_weight  \n",
       "0       OFH                  43.341346  \n",
       "1       OFH                  45.700935  \n",
       "2       OFH                  42.623211  "
      ]
     },
     "execution_count": 165,
     "metadata": {},
     "output_type": "execute_result"
    }
   ],
   "source": [
    "#add hen info\n",
    "#df_daily\n",
    "df_info = pd.merge(df_res[[name_clustering,'HenID']], df_FB, on='HenID', how='left')\n",
    "df_info.head(3)"
   ]
  },
  {
   "cell_type": "code",
   "execution_count": 166,
   "metadata": {},
   "outputs": [
    {
     "name": "stderr",
     "output_type": "stream",
     "text": [
      "C:\\Users\\camil\\anaconda3\\lib\\site-packages\\ipykernel\\ipkernel.py:283: DeprecationWarning: `should_run_async` will not call `transform_cell` automatically in the future. Please pass the result to `transformed_cell` argument and any exception that happen during thetransform in `preprocessing_exc_tuple` in IPython 7.17 and above.\n",
      "  and should_run_async(code)\n"
     ]
    },
    {
     "data": {
      "text/plain": [
       "cl_0     2981\n",
       "cl_44     750\n",
       "cl_16     630\n",
       "cl_17     629\n",
       "cl_15     490\n",
       "         ... \n",
       "cl_50       1\n",
       "cl_92       1\n",
       "cl_75       1\n",
       "cl_81       1\n",
       "cl_93       1\n",
       "Name: ALL_MLPS_99, Length: 99, dtype: int64"
      ]
     },
     "execution_count": 166,
     "metadata": {},
     "output_type": "execute_result"
    }
   ],
   "source": [
    "df_res[name_clustering].value_counts()"
   ]
  },
  {
   "cell_type": "code",
   "execution_count": 167,
   "metadata": {},
   "outputs": [
    {
     "name": "stderr",
     "output_type": "stream",
     "text": [
      "C:\\Users\\camil\\anaconda3\\lib\\site-packages\\ipykernel\\ipkernel.py:283: DeprecationWarning: `should_run_async` will not call `transform_cell` automatically in the future. Please pass the result to `transformed_cell` argument and any exception that happen during thetransform in `preprocessing_exc_tuple` in IPython 7.17 and above.\n",
      "  and should_run_async(code)\n"
     ]
    },
    {
     "data": {
      "image/png": "[encoded data removed]",
      "text/plain": [
       "<Figure size 432x288 with 1 Axes>"
      ]
     },
     "metadata": {
      "needs_background": "light"
     },
     "output_type": "display_data"
    }
   ],
   "source": [
    "sns.boxplot(x=name_clustering, y=\"percentage_of_gain_weight\",data=df_info); #palette=\"Set3\""
   ]
  },
  {
   "cell_type": "code",
   "execution_count": 168,
   "metadata": {},
   "outputs": [
    {
     "name": "stderr",
     "output_type": "stream",
     "text": [
      "C:\\Users\\camil\\anaconda3\\lib\\site-packages\\ipykernel\\ipkernel.py:283: DeprecationWarning: `should_run_async` will not call `transform_cell` automatically in the future. Please pass the result to `transformed_cell` argument and any exception that happen during thetransform in `preprocessing_exc_tuple` in IPython 7.17 and above.\n",
      "  and should_run_async(code)\n"
     ]
    },
    {
     "data": {
      "image/png": "[encoded data removed]",
      "text/plain": [
       "<Figure size 432x288 with 1 Axes>"
      ]
     },
     "metadata": {
      "needs_background": "light"
     },
     "output_type": "display_data"
    }
   ],
   "source": [
    "sns.boxplot(x=name_clustering, y=\"29-09 weight\",data=df_info);"
   ]
  },
  {
   "cell_type": "code",
   "execution_count": 169,
   "metadata": {},
   "outputs": [
    {
     "name": "stderr",
     "output_type": "stream",
     "text": [
      "C:\\Users\\camil\\anaconda3\\lib\\site-packages\\ipykernel\\ipkernel.py:283: DeprecationWarning: `should_run_async` will not call `transform_cell` automatically in the future. Please pass the result to `transformed_cell` argument and any exception that happen during thetransform in `preprocessing_exc_tuple` in IPython 7.17 and above.\n",
      "  and should_run_async(code)\n"
     ]
    },
    {
     "data": {
      "image/png": "[encoded data removed]",
      "text/plain": [
       "<Figure size 870.912x316.8 with 1 Axes>"
      ]
     },
     "execution_count": 169,
     "metadata": {},
     "output_type": "execute_result"
    }
   ],
   "source": [
    "dxp.count('PenID', data=df_info[df_info[name_clustering].isin(li_clmostimportant)], split=name_clustering)"
   ]
  },
  {
   "cell_type": "code",
   "execution_count": 170,
   "metadata": {},
   "outputs": [
    {
     "name": "stderr",
     "output_type": "stream",
     "text": [
      "C:\\Users\\camil\\anaconda3\\lib\\site-packages\\ipykernel\\ipkernel.py:283: DeprecationWarning: `should_run_async` will not call `transform_cell` automatically in the future. Please pass the result to `transformed_cell` argument and any exception that happen during thetransform in `preprocessing_exc_tuple` in IPython 7.17 and above.\n",
      "  and should_run_async(code)\n"
     ]
    },
    {
     "data": {
      "image/png": "[encoded data removed]",
      "text/plain": [
       "<Figure size 539.136x316.8 with 1 Axes>"
      ]
     },
     "execution_count": 170,
     "metadata": {},
     "output_type": "execute_result"
    }
   ],
   "source": [
    "dxp.count('R-Pen', data=df_info[df_info[name_clustering].isin(li_clmostimportant)], split=name_clustering) "
   ]
  },
  {
   "cell_type": "code",
   "execution_count": 171,
   "metadata": {},
   "outputs": [
    {
     "name": "stderr",
     "output_type": "stream",
     "text": [
      "C:\\Users\\camil\\anaconda3\\lib\\site-packages\\ipykernel\\ipkernel.py:283: DeprecationWarning: `should_run_async` will not call `transform_cell` automatically in the future. Please pass the result to `transformed_cell` argument and any exception that happen during thetransform in `preprocessing_exc_tuple` in IPython 7.17 and above.\n",
      "  and should_run_async(code)\n"
     ]
    },
    {
     "data": {
      "image/png": "[encoded data removed]",
      "text/plain": [
       "<Figure size 622.08x316.8 with 1 Axes>"
      ]
     },
     "execution_count": 171,
     "metadata": {},
     "output_type": "execute_result"
    }
   ],
   "source": [
    "dxp.count('CLASS', data=df_info[df_info[name_clustering].isin(li_clmostimportant)], split=name_clustering) "
   ]
  },
  {
   "cell_type": "code",
   "execution_count": 172,
   "metadata": {},
   "outputs": [
    {
     "name": "stderr",
     "output_type": "stream",
     "text": [
      "C:\\Users\\camil\\anaconda3\\lib\\site-packages\\ipykernel\\ipkernel.py:283: DeprecationWarning: `should_run_async` will not call `transform_cell` automatically in the future. Please pass the result to `transformed_cell` argument and any exception that happen during thetransform in `preprocessing_exc_tuple` in IPython 7.17 and above.\n",
      "  and should_run_async(code)\n"
     ]
    },
    {
     "data": {
      "image/png": "[encoded data removed]",
      "text/plain": [
       "<Figure size 373.248x316.8 with 1 Axes>"
      ]
     },
     "execution_count": 172,
     "metadata": {},
     "output_type": "execute_result"
    }
   ],
   "source": [
    "dxp.count('Treatment', data=df_info[df_info[name_clustering].isin(li_clmostimportant)], split=name_clustering)"
   ]
  },
  {
   "cell_type": "markdown",
   "metadata": {},
   "source": [
    "#we dont normlaize it by pen or anything as we still wan tt se the true nbr of animals per pen/treatment/class\n",
    "fig = dxp.count('PenID', data=df_info, split=name_clustering)\n",
    "#fig.savefig(os.path.join(path_extracted_data_visual_adap_MVTCLUSTER,'AnimalPerPen.png'))\n",
    "fig = dxp.count('R-Pen', data=df_info, split=name_clustering) \n",
    "#fig.savefig(os.path.join(path_extracted_data_visual_adap_MVTCLUSTER,'AnimalPerRPen.png'))\n",
    "fig = dxp.count('CLASS', data=df_info, split=name_clustering) \n",
    "#fig.savefig(os.path.join(path_extracted_data_visual_adap_MVTCLUSTER,'AnimalPerClass.png'))\n",
    "fig = dxp.count('Treatment', data=df_info, split=name_clustering) \n",
    "#fig.savefig(os.path.join(path_extracted_data_visual_adap_MVTCLUSTER,'AnimalPerTreatment.png'))"
   ]
  },
  {
   "cell_type": "markdown",
   "metadata": {},
   "source": [
    "### plot for potential interaction variables"
   ]
  },
  {
   "cell_type": "raw",
   "metadata": {},
   "source": [
    "we are interested into see if there is any association between health indicators (KBF & weight gained) and the types of MLPs.\n",
    "Hence we will use KBF as color, have one point per hens, while having as x any yinteraction variables (e..g is beeing in cluster 1 at begining good but after bad? etc)"
   ]
  },
  {
   "cell_type": "code",
   "execution_count": 176,
   "metadata": {
    "scrolled": false
   },
   "outputs": [
    {
     "name": "stderr",
     "output_type": "stream",
     "text": [
      "C:\\Users\\camil\\anaconda3\\lib\\site-packages\\ipykernel\\ipkernel.py:283: DeprecationWarning: `should_run_async` will not call `transform_cell` automatically in the future. Please pass the result to `transformed_cell` argument and any exception that happen during thetransform in `preprocessing_exc_tuple` in IPython 7.17 and above.\n",
      "  and should_run_async(code)\n"
     ]
    },
    {
     "data": {
      "image/png": "[encoded data removed]",
      "text/plain": [
       "<Figure size 447.425x360 with 1 Axes>"
      ]
     },
     "metadata": {
      "needs_background": "light"
     },
     "output_type": "display_data"
    },
    {
     "data": {
      "image/png": "[encoded data removed]",
      "text/plain": [
       "<Figure size 447.425x360 with 1 Axes>"
      ]
     },
     "metadata": {
      "needs_background": "light"
     },
     "output_type": "display_data"
    },
    {
     "data": {
      "image/png": "[encoded data removed]",
      "text/plain": [
       "<Figure size 447.425x360 with 1 Axes>"
      ]
     },
     "metadata": {
      "needs_background": "light"
     },
     "output_type": "display_data"
    },
    {
     "data": {
      "image/png": "[encoded data removed]",
      "text/plain": [
       "<Figure size 447.425x360 with 1 Axes>"
      ]
     },
     "metadata": {
      "needs_background": "light"
     },
     "output_type": "display_data"
    },
    {
     "data": {
      "image/png": "[encoded data removed]",
      "text/plain": [
       "<Figure size 447.425x360 with 1 Axes>"
      ]
     },
     "metadata": {
      "needs_background": "light"
     },
     "output_type": "display_data"
    },
    {
     "data": {
      "image/png": "[encoded data removed]",
      "text/plain": [
       "<Figure size 447.425x360 with 1 Axes>"
      ]
     },
     "metadata": {
      "needs_background": "light"
     },
     "output_type": "display_data"
    },
    {
     "data": {
      "image/png": "[encoded data removed]",
      "text/plain": [
       "<Figure size 447.425x360 with 1 Axes>"
      ]
     },
     "metadata": {
      "needs_background": "light"
     },
     "output_type": "display_data"
    }
   ],
   "source": [
    "dico_hen_daysinvolved = dict(df_res.groupby(['HenID'])['DIB'].count())\n",
    "\n",
    "for k in li_clmostimportant:\n",
    "    df_plt = df_res[df_res[name_clustering]==k].groupby(['HenID'])['DIB'].agg(lambda x: list(x)).reset_index()\n",
    "    df_plt['percentage_days_involved'] = df_plt.apply(lambda x: len(x['DIB'])/dico_hen_daysinvolved[x['HenID']]*100, axis=1)\n",
    "    df_plt['mean_DIB'] = df_plt['DIB'].map(lambda x: np.mean(x))\n",
    "    df_plt = pd.merge(df_plt, df_info, on=['HenID'], how='left')\n",
    "    df_plt['percentage_of_gain_weight'] = df_plt['percentage_of_gain_weight'].map(lambda x: str(round(x,0)))\n",
    "    #display(df_plt['percentage_of_gain_weight'].value_counts(normalize=True))\n",
    "    #display(df_plt.head(3))\n",
    "    sns.relplot(x=\"percentage_days_involved\", y=\"mean_DIB\", hue=\"percentage_of_gain_weight\", legend=\"full\", data=df_plt,\n",
    "               palette=sns.color_palette(\"rocket_r\", len(df_plt['percentage_of_gain_weight'].unique())));\n",
    "    plt.title('clusterID '+str(k))\n",
    "    plt.show()"
   ]
  },
  {
   "cell_type": "markdown",
   "metadata": {},
   "source": [
    "### plot most representative MLPs within each cluster"
   ]
  },
  {
   "cell_type": "code",
   "execution_count": 33,
   "metadata": {},
   "outputs": [
    {
     "name": "stderr",
     "output_type": "stream",
     "text": [
      "C:\\Users\\camil\\anaconda3\\lib\\site-packages\\ipykernel\\ipkernel.py:283: DeprecationWarning: `should_run_async` will not call `transform_cell` automatically in the future. Please pass the result to `transformed_cell` argument and any exception that happen during thetransform in `preprocessing_exc_tuple` in IPython 7.17 and above.\n",
      "  and should_run_async(code)\n"
     ]
    },
    {
     "data": {
      "text/html": [
       "<div>\n",
       "<style scoped>\n",
       "    .dataframe tbody tr th:only-of-type {\n",
       "        vertical-align: middle;\n",
       "    }\n",
       "\n",
       "    .dataframe tbody tr th {\n",
       "        vertical-align: top;\n",
       "    }\n",
       "\n",
       "    .dataframe thead th {\n",
       "        text-align: right;\n",
       "    }\n",
       "</style>\n",
       "<table border=\"1\" class=\"dataframe\">\n",
       "  <thead>\n",
       "    <tr style=\"text-align: right;\">\n",
       "      <th></th>\n",
       "      <th>chi2distance_ALL_15</th>\n",
       "      <th>h1</th>\n",
       "      <th>h2</th>\n",
       "      <th>henID1</th>\n",
       "      <th>henID2</th>\n",
       "      <th>level1</th>\n",
       "      <th>level2</th>\n",
       "      <th>DIB1</th>\n",
       "      <th>DIB2</th>\n",
       "      <th>MLPID1</th>\n",
       "      <th>MLPID2</th>\n",
       "    </tr>\n",
       "  </thead>\n",
       "  <tbody>\n",
       "    <tr>\n",
       "      <th>0</th>\n",
       "      <td>0.890901</td>\n",
       "      <td>hen_131/2020-09-30</td>\n",
       "      <td>hen_134/2020-09-30</td>\n",
       "      <td>hen_131</td>\n",
       "      <td>hen_134</td>\n",
       "      <td>2020-09-30</td>\n",
       "      <td>2020-09-30</td>\n",
       "      <td>1</td>\n",
       "      <td>1</td>\n",
       "      <td>hen_131-1</td>\n",
       "      <td>hen_134-1</td>\n",
       "    </tr>\n",
       "    <tr>\n",
       "      <th>1</th>\n",
       "      <td>0.202226</td>\n",
       "      <td>hen_131/2020-09-30</td>\n",
       "      <td>hen_138/2020-09-30</td>\n",
       "      <td>hen_131</td>\n",
       "      <td>hen_138</td>\n",
       "      <td>2020-09-30</td>\n",
       "      <td>2020-09-30</td>\n",
       "      <td>1</td>\n",
       "      <td>1</td>\n",
       "      <td>hen_131-1</td>\n",
       "      <td>hen_138-1</td>\n",
       "    </tr>\n",
       "    <tr>\n",
       "      <th>2</th>\n",
       "      <td>0.866714</td>\n",
       "      <td>hen_131/2020-09-30</td>\n",
       "      <td>hen_139/2020-09-30</td>\n",
       "      <td>hen_131</td>\n",
       "      <td>hen_139</td>\n",
       "      <td>2020-09-30</td>\n",
       "      <td>2020-09-30</td>\n",
       "      <td>1</td>\n",
       "      <td>1</td>\n",
       "      <td>hen_131-1</td>\n",
       "      <td>hen_139-1</td>\n",
       "    </tr>\n",
       "  </tbody>\n",
       "</table>\n",
       "</div>"
      ],
      "text/plain": [
       "   chi2distance_ALL_15                  h1                  h2   henID1  \\\n",
       "0             0.890901  hen_131/2020-09-30  hen_134/2020-09-30  hen_131   \n",
       "1             0.202226  hen_131/2020-09-30  hen_138/2020-09-30  hen_131   \n",
       "2             0.866714  hen_131/2020-09-30  hen_139/2020-09-30  hen_131   \n",
       "\n",
       "    henID2     level1     level2  DIB1  DIB2     MLPID1     MLPID2  \n",
       "0  hen_134 2020-09-30 2020-09-30     1     1  hen_131-1  hen_134-1  \n",
       "1  hen_138 2020-09-30 2020-09-30     1     1  hen_131-1  hen_138-1  \n",
       "2  hen_139 2020-09-30 2020-09-30     1     1  hen_131-1  hen_139-1  "
      ]
     },
     "execution_count": 33,
     "metadata": {},
     "output_type": "execute_result"
    }
   ],
   "source": [
    "df_inter.head(3)"
   ]
  },
  {
   "cell_type": "code",
   "execution_count": 62,
   "metadata": {},
   "outputs": [
    {
     "name": "stderr",
     "output_type": "stream",
     "text": [
      "C:\\Users\\camil\\anaconda3\\lib\\site-packages\\ipykernel\\ipkernel.py:283: DeprecationWarning: `should_run_async` will not call `transform_cell` automatically in the future. Please pass the result to `transformed_cell` argument and any exception that happen during thetransform in `preprocessing_exc_tuple` in IPython 7.17 and above.\n",
      "  and should_run_async(code)\n"
     ]
    },
    {
     "name": "stdout",
     "output_type": "stream",
     "text": [
      "(25952410, 13)\n",
      "(5325512, 13)\n"
     ]
    },
    {
     "data": {
      "text/html": [
       "<div>\n",
       "<style scoped>\n",
       "    .dataframe tbody tr th:only-of-type {\n",
       "        vertical-align: middle;\n",
       "    }\n",
       "\n",
       "    .dataframe tbody tr th {\n",
       "        vertical-align: top;\n",
       "    }\n",
       "\n",
       "    .dataframe thead th {\n",
       "        text-align: right;\n",
       "    }\n",
       "</style>\n",
       "<table border=\"1\" class=\"dataframe\">\n",
       "  <thead>\n",
       "    <tr style=\"text-align: right;\">\n",
       "      <th></th>\n",
       "      <th>MLPID</th>\n",
       "      <th>distance</th>\n",
       "    </tr>\n",
       "    <tr>\n",
       "      <th>clID</th>\n",
       "      <th></th>\n",
       "      <th></th>\n",
       "    </tr>\n",
       "  </thead>\n",
       "  <tbody>\n",
       "    <tr>\n",
       "      <th>cl_0</th>\n",
       "      <td>[hen_134-5, hen_78-4, hen_70-4, hen_67-4, hen_...</td>\n",
       "      <td>[0.2674810644609966, 0.26931349756475326, 0.27...</td>\n",
       "    </tr>\n",
       "    <tr>\n",
       "      <th>cl_1</th>\n",
       "      <td>[hen_112-27, hen_92-46, hen_94-37, hen_92-29]</td>\n",
       "      <td>[0.38820376824753855, 0.4516034861901979, 0.83...</td>\n",
       "    </tr>\n",
       "    <tr>\n",
       "      <th>cl_10</th>\n",
       "      <td>[hen_67-46, hen_110-40, hen_126-46, hen_141-50...</td>\n",
       "      <td>[0.416253775285233, 0.476964942068159, 0.68744...</td>\n",
       "    </tr>\n",
       "    <tr>\n",
       "      <th>cl_11</th>\n",
       "      <td>[hen_154-31, hen_113-48, hen_113-47, hen_126-34]</td>\n",
       "      <td>[0.42584949390833193, 0.445474884296363, 0.821...</td>\n",
       "    </tr>\n",
       "    <tr>\n",
       "      <th>cl_12</th>\n",
       "      <td>[hen_94-48, hen_106-51, hen_106-49, hen_94-49,...</td>\n",
       "      <td>[0.38972198678589676, 0.4491773112926511, 0.69...</td>\n",
       "    </tr>\n",
       "    <tr>\n",
       "      <th>...</th>\n",
       "      <td>...</td>\n",
       "      <td>...</td>\n",
       "    </tr>\n",
       "    <tr>\n",
       "      <th>cl_91</th>\n",
       "      <td>[hen_12-25, hen_12-27, hen_12-26]</td>\n",
       "      <td>[0.3869723719280485, 0.4266606806117016, 0.813...</td>\n",
       "    </tr>\n",
       "    <tr>\n",
       "      <th>cl_94</th>\n",
       "      <td>[hen_85-53, hen_138-46, hen_13-51, hen_87-47, ...</td>\n",
       "      <td>[0.44069113401120436, 0.4498980319384014, 0.74...</td>\n",
       "    </tr>\n",
       "    <tr>\n",
       "      <th>cl_95</th>\n",
       "      <td>[hen_20-36, hen_53-45]</td>\n",
       "      <td>[0.4050502804750297, 0.4050502804750297]</td>\n",
       "    </tr>\n",
       "    <tr>\n",
       "      <th>cl_96</th>\n",
       "      <td>[hen_78-35, hen_3-35, hen_6-37, hen_6-36, hen_...</td>\n",
       "      <td>[0.4141018565953545, 0.45576749750411183, 0.72...</td>\n",
       "    </tr>\n",
       "    <tr>\n",
       "      <th>cl_97</th>\n",
       "      <td>[hen_143-6, hen_24-33, hen_20-15, hen_20-8, he...</td>\n",
       "      <td>[0.321316575386854, 0.46609096870479244, 0.596...</td>\n",
       "    </tr>\n",
       "  </tbody>\n",
       "</table>\n",
       "<p>87 rows × 2 columns</p>\n",
       "</div>"
      ],
      "text/plain": [
       "                                                   MLPID  \\\n",
       "clID                                                       \n",
       "cl_0   [hen_134-5, hen_78-4, hen_70-4, hen_67-4, hen_...   \n",
       "cl_1       [hen_112-27, hen_92-46, hen_94-37, hen_92-29]   \n",
       "cl_10  [hen_67-46, hen_110-40, hen_126-46, hen_141-50...   \n",
       "cl_11   [hen_154-31, hen_113-48, hen_113-47, hen_126-34]   \n",
       "cl_12  [hen_94-48, hen_106-51, hen_106-49, hen_94-49,...   \n",
       "...                                                  ...   \n",
       "cl_91                  [hen_12-25, hen_12-27, hen_12-26]   \n",
       "cl_94  [hen_85-53, hen_138-46, hen_13-51, hen_87-47, ...   \n",
       "cl_95                             [hen_20-36, hen_53-45]   \n",
       "cl_96  [hen_78-35, hen_3-35, hen_6-37, hen_6-36, hen_...   \n",
       "cl_97  [hen_143-6, hen_24-33, hen_20-15, hen_20-8, he...   \n",
       "\n",
       "                                                distance  \n",
       "clID                                                      \n",
       "cl_0   [0.2674810644609966, 0.26931349756475326, 0.27...  \n",
       "cl_1   [0.38820376824753855, 0.4516034861901979, 0.83...  \n",
       "cl_10  [0.416253775285233, 0.476964942068159, 0.68744...  \n",
       "cl_11  [0.42584949390833193, 0.445474884296363, 0.821...  \n",
       "cl_12  [0.38972198678589676, 0.4491773112926511, 0.69...  \n",
       "...                                                  ...  \n",
       "cl_91  [0.3869723719280485, 0.4266606806117016, 0.813...  \n",
       "cl_94  [0.44069113401120436, 0.4498980319384014, 0.74...  \n",
       "cl_95           [0.4050502804750297, 0.4050502804750297]  \n",
       "cl_96  [0.4141018565953545, 0.45576749750411183, 0.72...  \n",
       "cl_97  [0.321316575386854, 0.46609096870479244, 0.596...  \n",
       "\n",
       "[87 rows x 2 columns]"
      ]
     },
     "metadata": {},
     "output_type": "display_data"
    },
    {
     "data": {
      "text/plain": [
       "598"
      ]
     },
     "execution_count": 62,
     "metadata": {},
     "output_type": "execute_result"
    }
   ],
   "source": [
    "#TODO: instead selected the most represenatative MLPS aross all different hens in the clusters\n",
    "dico_mlp_clID = dict(zip(df_res['MLPID'].tolist(), df_res[name_clustering].tolist()))\n",
    "df_mr = df_inter.copy()\n",
    "df_mr['MLPID1_cl'] = df_mr['MLPID1'].map(lambda x: dico_mlp_clID[x])\n",
    "df_mr['MLPID2_cl'] = df_mr['MLPID2'].map(lambda x: dico_mlp_clID[x])\n",
    "print(df_mr.shape)\n",
    "#keep only distance etween two mlps from same cluster\n",
    "df_mr = df_mr[df_mr['MLPID1_cl']==df_mr['MLPID2_cl']]\n",
    "print(df_mr.shape)\n",
    "\n",
    "#average distance per element, do first MLPID1 then MLPID2, then merge on MLP and sum the distance\n",
    "df_mrh1 = df_mr.groupby(['MLPID1'])[V].agg(lambda x: sum(x)/len(x)).reset_index()\n",
    "df_mrh1.rename(columns={'MLPID1':'MLPID'},inplace=True)\n",
    "df_mrh2 = df_mr.groupby(['MLPID2'])[V].agg(lambda x: sum(x)/len(x)).reset_index()\n",
    "df_mrh2.rename(columns={'MLPID2':'MLPID'},inplace=True)\n",
    "df_mr_all = pd.merge(df_mrh1, df_mrh2, on='MLPID', how='outer')\n",
    "df_mr_all['distance'] = df_mr_all.apply(lambda x: np.nansum([x[V+'_x'], x[V+'_y']]), axis=1)\n",
    "df_mr_all['clID'] = df_mr_all['MLPID'].map(lambda x: dico_mlp_clID[x])\n",
    "df_mr_all = df_mr_all.sort_values(['distance']).groupby(['clID'])[['MLPID','distance']].agg(lambda x: list(x))\n",
    "display(df_mr_all)\n",
    "nbr_mlps = 10\n",
    "li_msmlps = df_mr_all['MLPID'].tolist()\n",
    "li_msmlps = [i[0:nbr_mlps] for i in li_msmlps]\n",
    "li_msmlps = [j for i in li_msmlps for j in i]\n",
    "len(li_msmlps)"
   ]
  },
  {
   "cell_type": "code",
   "execution_count": 39,
   "metadata": {},
   "outputs": [
    {
     "name": "stderr",
     "output_type": "stream",
     "text": [
      "C:\\Users\\camil\\anaconda3\\lib\\site-packages\\ipykernel\\ipkernel.py:283: DeprecationWarning: `should_run_async` will not call `transform_cell` automatically in the future. Please pass the result to `transformed_cell` argument and any exception that happen during thetransform in `preprocessing_exc_tuple` in IPython 7.17 and above.\n",
      "  and should_run_async(code)\n"
     ]
    },
    {
     "name": "stdout",
     "output_type": "stream",
     "text": [
      "(963966, 16)\n"
     ]
    },
    {
     "data": {
      "text/html": [
       "<div>\n",
       "<style scoped>\n",
       "    .dataframe tbody tr th:only-of-type {\n",
       "        vertical-align: middle;\n",
       "    }\n",
       "\n",
       "    .dataframe tbody tr th {\n",
       "        vertical-align: top;\n",
       "    }\n",
       "\n",
       "    .dataframe thead th {\n",
       "        text-align: right;\n",
       "    }\n",
       "</style>\n",
       "<table border=\"1\" class=\"dataframe\">\n",
       "  <thead>\n",
       "    <tr style=\"text-align: right;\">\n",
       "      <th></th>\n",
       "      <th>HenID</th>\n",
       "      <th>PenID</th>\n",
       "      <th>system</th>\n",
       "      <th>Zone</th>\n",
       "      <th>model_prediction</th>\n",
       "      <th>Timestamp</th>\n",
       "      <th>date</th>\n",
       "      <th>next_record_date</th>\n",
       "      <th>duration</th>\n",
       "      <th>previous_record_date</th>\n",
       "      <th>previous_duration</th>\n",
       "      <th>next_zone</th>\n",
       "      <th>previous_zone</th>\n",
       "      <th>previous_previous_zone</th>\n",
       "      <th>correction_is_consecutive_equal_initial_zone</th>\n",
       "      <th>is_WG_open</th>\n",
       "    </tr>\n",
       "  </thead>\n",
       "  <tbody>\n",
       "    <tr>\n",
       "      <th>0</th>\n",
       "      <td>hen_71</td>\n",
       "      <td>pen12</td>\n",
       "      <td>10 - 12</td>\n",
       "      <td>3_Zone</td>\n",
       "      <td>1.0</td>\n",
       "      <td>2020-09-29 09:07:00</td>\n",
       "      <td>2020-09-29</td>\n",
       "      <td>2020-09-29 09:08:26.000</td>\n",
       "      <td>0 days 00:01:26</td>\n",
       "      <td>NaN</td>\n",
       "      <td>NaN</td>\n",
       "      <td>3_Zone</td>\n",
       "      <td>NaN</td>\n",
       "      <td>NaN</td>\n",
       "      <td>False</td>\n",
       "      <td>False</td>\n",
       "    </tr>\n",
       "    <tr>\n",
       "      <th>1</th>\n",
       "      <td>hen_7</td>\n",
       "      <td>pen11</td>\n",
       "      <td>10 - 12</td>\n",
       "      <td>3_Zone</td>\n",
       "      <td>1.0</td>\n",
       "      <td>2020-09-29 09:08:12</td>\n",
       "      <td>2020-09-29</td>\n",
       "      <td>2020-09-29 09:12:16.000</td>\n",
       "      <td>0 days 00:04:04</td>\n",
       "      <td>NaN</td>\n",
       "      <td>NaN</td>\n",
       "      <td>3_Zone</td>\n",
       "      <td>NaN</td>\n",
       "      <td>NaN</td>\n",
       "      <td>False</td>\n",
       "      <td>False</td>\n",
       "    </tr>\n",
       "    <tr>\n",
       "      <th>2</th>\n",
       "      <td>hen_10</td>\n",
       "      <td>pen11</td>\n",
       "      <td>10 - 12</td>\n",
       "      <td>3_Zone</td>\n",
       "      <td>1.0</td>\n",
       "      <td>2020-09-29 09:19:19</td>\n",
       "      <td>2020-09-29</td>\n",
       "      <td>2020-09-29 09:20:27.000</td>\n",
       "      <td>0 days 00:01:08</td>\n",
       "      <td>NaN</td>\n",
       "      <td>NaN</td>\n",
       "      <td>3_Zone</td>\n",
       "      <td>NaN</td>\n",
       "      <td>NaN</td>\n",
       "      <td>False</td>\n",
       "      <td>False</td>\n",
       "    </tr>\n",
       "  </tbody>\n",
       "</table>\n",
       "</div>"
      ],
      "text/plain": [
       "    HenID  PenID   system    Zone  model_prediction           Timestamp  \\\n",
       "0  hen_71  pen12  10 - 12  3_Zone               1.0 2020-09-29 09:07:00   \n",
       "1   hen_7  pen11  10 - 12  3_Zone               1.0 2020-09-29 09:08:12   \n",
       "2  hen_10  pen11  10 - 12  3_Zone               1.0 2020-09-29 09:19:19   \n",
       "\n",
       "        date         next_record_date         duration previous_record_date  \\\n",
       "0 2020-09-29  2020-09-29 09:08:26.000  0 days 00:01:26                  NaN   \n",
       "1 2020-09-29  2020-09-29 09:12:16.000  0 days 00:04:04                  NaN   \n",
       "2 2020-09-29  2020-09-29 09:20:27.000  0 days 00:01:08                  NaN   \n",
       "\n",
       "  previous_duration next_zone previous_zone previous_previous_zone  \\\n",
       "0               NaN    3_Zone           NaN                    NaN   \n",
       "1               NaN    3_Zone           NaN                    NaN   \n",
       "2               NaN    3_Zone           NaN                    NaN   \n",
       "\n",
       "   correction_is_consecutive_equal_initial_zone  is_WG_open  \n",
       "0                                         False       False  \n",
       "1                                         False       False  \n",
       "2                                         False       False  "
      ]
     },
     "execution_count": 39,
     "metadata": {},
     "output_type": "execute_result"
    }
   ],
   "source": [
    "#open cleaned mvt data\n",
    "df = pd.read_csv(os.path.join(path_extracted_data, id_run+'_CLEANEDDATA.csv'), sep=';', parse_dates=['Timestamp','date'],\n",
    "                 dayfirst=True) \n",
    "df = df[df['HenID'].isin(li_selected_hens)]\n",
    "print(df.shape)\n",
    "df.head(3)\n",
    "#small verification with the initial raw data, this cleaned data and the visual\n",
    "#df[df['HenID']=='hen_1'].head(30)"
   ]
  },
  {
   "cell_type": "code",
   "execution_count": null,
   "metadata": {
    "scrolled": true
   },
   "outputs": [
    {
     "name": "stderr",
     "output_type": "stream",
     "text": [
      "C:\\Users\\camil\\anaconda3\\lib\\site-packages\\ipykernel\\ipkernel.py:283: DeprecationWarning: `should_run_async` will not call `transform_cell` automatically in the future. Please pass the result to `transformed_cell` argument and any exception that happen during thetransform in `preprocessing_exc_tuple` in IPython 7.17 and above.\n",
      "  and should_run_async(code)\n",
      " 18%|██████████████▊                                                                  | 22/120 [07:11<31:35, 19.34s/it]Exception ignored in: <generator object tqdm.__iter__ at 0x00000246BF2D6740>\n",
      "Traceback (most recent call last):\n",
      "  File \"C:\\Users\\camil\\anaconda3\\lib\\site-packages\\tqdm\\std.py\", line 1215, in __iter__\n",
      "    self.last_print_n = last_print_n\n",
      "KeyboardInterrupt: \n"
     ]
    },
    {
     "ename": "KeyboardInterrupt",
     "evalue": "",
     "output_type": "error",
     "traceback": [
      "\u001b[1;31m---------------------------------------------------------------------------\u001b[0m",
      "\u001b[1;31mKeyboardInterrupt\u001b[0m                         Traceback (most recent call last)",
      "\u001b[1;32m<ipython-input-85-ec950e3d7b5b>\u001b[0m in \u001b[0;36m<module>\u001b[1;34m\u001b[0m\n\u001b[0;32m     34\u001b[0m     \u001b[0mdf_plt_\u001b[0m\u001b[1;33m[\u001b[0m\u001b[1;34m'date'\u001b[0m\u001b[1;33m]\u001b[0m \u001b[1;33m=\u001b[0m \u001b[0mdf_plt_\u001b[0m\u001b[1;33m[\u001b[0m\u001b[1;34m'Timestamp'\u001b[0m\u001b[1;33m]\u001b[0m\u001b[1;33m.\u001b[0m\u001b[0mmap\u001b[0m\u001b[1;33m(\u001b[0m\u001b[1;32mlambda\u001b[0m \u001b[0mx\u001b[0m\u001b[1;33m:\u001b[0m \u001b[0mdt\u001b[0m\u001b[1;33m.\u001b[0m\u001b[0mdatetime\u001b[0m\u001b[1;33m.\u001b[0m\u001b[0mdate\u001b[0m\u001b[1;33m(\u001b[0m\u001b[0mx\u001b[0m\u001b[1;33m)\u001b[0m\u001b[1;33m)\u001b[0m\u001b[1;33m\u001b[0m\u001b[1;33m\u001b[0m\u001b[0m\n\u001b[0;32m     35\u001b[0m     \u001b[1;31m#remove first & last date\u001b[0m\u001b[1;33m\u001b[0m\u001b[1;33m\u001b[0m\u001b[1;33m\u001b[0m\u001b[0m\n\u001b[1;32m---> 36\u001b[1;33m     \u001b[0mdf_plt_\u001b[0m \u001b[1;33m=\u001b[0m \u001b[0mdf_plt_\u001b[0m\u001b[1;33m[\u001b[0m\u001b[1;33m~\u001b[0m\u001b[0mdf_plt_\u001b[0m\u001b[1;33m[\u001b[0m\u001b[1;34m'date'\u001b[0m\u001b[1;33m]\u001b[0m\u001b[1;33m.\u001b[0m\u001b[0misin\u001b[0m\u001b[1;33m(\u001b[0m\u001b[1;33m[\u001b[0m\u001b[0mmax\u001b[0m\u001b[1;33m(\u001b[0m\u001b[0mdf_plt_\u001b[0m\u001b[1;33m[\u001b[0m\u001b[1;34m'date'\u001b[0m\u001b[1;33m]\u001b[0m\u001b[1;33m.\u001b[0m\u001b[0mtolist\u001b[0m\u001b[1;33m(\u001b[0m\u001b[1;33m)\u001b[0m\u001b[1;33m)\u001b[0m\u001b[1;33m,\u001b[0m\u001b[0mmin\u001b[0m\u001b[1;33m(\u001b[0m\u001b[0mdf_plt_\u001b[0m\u001b[1;33m[\u001b[0m\u001b[1;34m'date'\u001b[0m\u001b[1;33m]\u001b[0m\u001b[1;33m.\u001b[0m\u001b[0mtolist\u001b[0m\u001b[1;33m(\u001b[0m\u001b[1;33m)\u001b[0m\u001b[1;33m)\u001b[0m\u001b[1;33m]\u001b[0m\u001b[1;33m)\u001b[0m\u001b[1;33m]\u001b[0m\u001b[1;33m\u001b[0m\u001b[1;33m\u001b[0m\u001b[0m\n\u001b[0m\u001b[0;32m     37\u001b[0m     \u001b[1;31m#put xlabel into numbers for the ploting\u001b[0m\u001b[1;33m\u001b[0m\u001b[1;33m\u001b[0m\u001b[1;33m\u001b[0m\u001b[0m\n\u001b[0;32m     38\u001b[0m     \u001b[0mdf_plt_\u001b[0m\u001b[1;33m[\u001b[0m\u001b[1;34m'Zone'\u001b[0m\u001b[1;33m]\u001b[0m \u001b[1;33m=\u001b[0m \u001b[0mdf_plt_\u001b[0m\u001b[1;33m[\u001b[0m\u001b[1;34m'Zone'\u001b[0m\u001b[1;33m]\u001b[0m\u001b[1;33m.\u001b[0m\u001b[0mmap\u001b[0m\u001b[1;33m(\u001b[0m\u001b[1;32mlambda\u001b[0m \u001b[0mx\u001b[0m\u001b[1;33m:\u001b[0m \u001b[0mint\u001b[0m\u001b[1;33m(\u001b[0m\u001b[0mconfig\u001b[0m\u001b[1;33m.\u001b[0m\u001b[0mdico_zone_order\u001b[0m\u001b[1;33m[\u001b[0m\u001b[0mx\u001b[0m\u001b[1;33m]\u001b[0m\u001b[1;33m)\u001b[0m\u001b[1;33m)\u001b[0m\u001b[1;33m\u001b[0m\u001b[1;33m\u001b[0m\u001b[0m\n",
      "\u001b[1;32m~\\anaconda3\\lib\\site-packages\\pandas\\core\\frame.py\u001b[0m in \u001b[0;36m__getitem__\u001b[1;34m(self, key)\u001b[0m\n\u001b[0;32m   2891\u001b[0m         \u001b[1;31m# Do we have a (boolean) 1d indexer?\u001b[0m\u001b[1;33m\u001b[0m\u001b[1;33m\u001b[0m\u001b[1;33m\u001b[0m\u001b[0m\n\u001b[0;32m   2892\u001b[0m         \u001b[1;32mif\u001b[0m \u001b[0mcom\u001b[0m\u001b[1;33m.\u001b[0m\u001b[0mis_bool_indexer\u001b[0m\u001b[1;33m(\u001b[0m\u001b[0mkey\u001b[0m\u001b[1;33m)\u001b[0m\u001b[1;33m:\u001b[0m\u001b[1;33m\u001b[0m\u001b[1;33m\u001b[0m\u001b[0m\n\u001b[1;32m-> 2893\u001b[1;33m             \u001b[1;32mreturn\u001b[0m \u001b[0mself\u001b[0m\u001b[1;33m.\u001b[0m\u001b[0m_getitem_bool_array\u001b[0m\u001b[1;33m(\u001b[0m\u001b[0mkey\u001b[0m\u001b[1;33m)\u001b[0m\u001b[1;33m\u001b[0m\u001b[1;33m\u001b[0m\u001b[0m\n\u001b[0m\u001b[0;32m   2894\u001b[0m \u001b[1;33m\u001b[0m\u001b[0m\n\u001b[0;32m   2895\u001b[0m         \u001b[1;31m# We are left with two options: a single key, and a collection of keys,\u001b[0m\u001b[1;33m\u001b[0m\u001b[1;33m\u001b[0m\u001b[1;33m\u001b[0m\u001b[0m\n",
      "\u001b[1;32m~\\anaconda3\\lib\\site-packages\\pandas\\core\\frame.py\u001b[0m in \u001b[0;36m_getitem_bool_array\u001b[1;34m(self, key)\u001b[0m\n\u001b[0;32m   2945\u001b[0m         \u001b[0mkey\u001b[0m \u001b[1;33m=\u001b[0m \u001b[0mcheck_bool_indexer\u001b[0m\u001b[1;33m(\u001b[0m\u001b[0mself\u001b[0m\u001b[1;33m.\u001b[0m\u001b[0mindex\u001b[0m\u001b[1;33m,\u001b[0m \u001b[0mkey\u001b[0m\u001b[1;33m)\u001b[0m\u001b[1;33m\u001b[0m\u001b[1;33m\u001b[0m\u001b[0m\n\u001b[0;32m   2946\u001b[0m         \u001b[0mindexer\u001b[0m \u001b[1;33m=\u001b[0m \u001b[0mkey\u001b[0m\u001b[1;33m.\u001b[0m\u001b[0mnonzero\u001b[0m\u001b[1;33m(\u001b[0m\u001b[1;33m)\u001b[0m\u001b[1;33m[\u001b[0m\u001b[1;36m0\u001b[0m\u001b[1;33m]\u001b[0m\u001b[1;33m\u001b[0m\u001b[1;33m\u001b[0m\u001b[0m\n\u001b[1;32m-> 2947\u001b[1;33m         \u001b[1;32mreturn\u001b[0m \u001b[0mself\u001b[0m\u001b[1;33m.\u001b[0m\u001b[0m_take_with_is_copy\u001b[0m\u001b[1;33m(\u001b[0m\u001b[0mindexer\u001b[0m\u001b[1;33m,\u001b[0m \u001b[0maxis\u001b[0m\u001b[1;33m=\u001b[0m\u001b[1;36m0\u001b[0m\u001b[1;33m)\u001b[0m\u001b[1;33m\u001b[0m\u001b[1;33m\u001b[0m\u001b[0m\n\u001b[0m\u001b[0;32m   2948\u001b[0m \u001b[1;33m\u001b[0m\u001b[0m\n\u001b[0;32m   2949\u001b[0m     \u001b[1;32mdef\u001b[0m \u001b[0m_getitem_multilevel\u001b[0m\u001b[1;33m(\u001b[0m\u001b[0mself\u001b[0m\u001b[1;33m,\u001b[0m \u001b[0mkey\u001b[0m\u001b[1;33m)\u001b[0m\u001b[1;33m:\u001b[0m\u001b[1;33m\u001b[0m\u001b[1;33m\u001b[0m\u001b[0m\n",
      "\u001b[1;32m~\\anaconda3\\lib\\site-packages\\pandas\\core\\generic.py\u001b[0m in \u001b[0;36m_take_with_is_copy\u001b[1;34m(self, indices, axis)\u001b[0m\n\u001b[0;32m   3358\u001b[0m         \u001b[0mSee\u001b[0m \u001b[0mthe\u001b[0m \u001b[0mdocstring\u001b[0m \u001b[0mof\u001b[0m\u001b[0;31m \u001b[0m\u001b[0;31m`\u001b[0m\u001b[0mtake\u001b[0m\u001b[0;31m`\u001b[0m \u001b[1;32mfor\u001b[0m \u001b[0mfull\u001b[0m \u001b[0mexplanation\u001b[0m \u001b[0mof\u001b[0m \u001b[0mthe\u001b[0m \u001b[0mparameters\u001b[0m\u001b[1;33m.\u001b[0m\u001b[1;33m\u001b[0m\u001b[1;33m\u001b[0m\u001b[0m\n\u001b[0;32m   3359\u001b[0m         \"\"\"\n\u001b[1;32m-> 3360\u001b[1;33m         \u001b[0mresult\u001b[0m \u001b[1;33m=\u001b[0m \u001b[0mself\u001b[0m\u001b[1;33m.\u001b[0m\u001b[0mtake\u001b[0m\u001b[1;33m(\u001b[0m\u001b[0mindices\u001b[0m\u001b[1;33m=\u001b[0m\u001b[0mindices\u001b[0m\u001b[1;33m,\u001b[0m \u001b[0maxis\u001b[0m\u001b[1;33m=\u001b[0m\u001b[0maxis\u001b[0m\u001b[1;33m)\u001b[0m\u001b[1;33m\u001b[0m\u001b[1;33m\u001b[0m\u001b[0m\n\u001b[0m\u001b[0;32m   3361\u001b[0m         \u001b[1;31m# Maybe set copy if we didn't actually change the index.\u001b[0m\u001b[1;33m\u001b[0m\u001b[1;33m\u001b[0m\u001b[1;33m\u001b[0m\u001b[0m\n\u001b[0;32m   3362\u001b[0m         \u001b[1;32mif\u001b[0m \u001b[1;32mnot\u001b[0m \u001b[0mresult\u001b[0m\u001b[1;33m.\u001b[0m\u001b[0m_get_axis\u001b[0m\u001b[1;33m(\u001b[0m\u001b[0maxis\u001b[0m\u001b[1;33m)\u001b[0m\u001b[1;33m.\u001b[0m\u001b[0mequals\u001b[0m\u001b[1;33m(\u001b[0m\u001b[0mself\u001b[0m\u001b[1;33m.\u001b[0m\u001b[0m_get_axis\u001b[0m\u001b[1;33m(\u001b[0m\u001b[0maxis\u001b[0m\u001b[1;33m)\u001b[0m\u001b[1;33m)\u001b[0m\u001b[1;33m:\u001b[0m\u001b[1;33m\u001b[0m\u001b[1;33m\u001b[0m\u001b[0m\n",
      "\u001b[1;32m~\\anaconda3\\lib\\site-packages\\pandas\\core\\generic.py\u001b[0m in \u001b[0;36mtake\u001b[1;34m(self, indices, axis, is_copy, **kwargs)\u001b[0m\n\u001b[0;32m   3345\u001b[0m         \u001b[0mself\u001b[0m\u001b[1;33m.\u001b[0m\u001b[0m_consolidate_inplace\u001b[0m\u001b[1;33m(\u001b[0m\u001b[1;33m)\u001b[0m\u001b[1;33m\u001b[0m\u001b[1;33m\u001b[0m\u001b[0m\n\u001b[0;32m   3346\u001b[0m \u001b[1;33m\u001b[0m\u001b[0m\n\u001b[1;32m-> 3347\u001b[1;33m         new_data = self._mgr.take(\n\u001b[0m\u001b[0;32m   3348\u001b[0m             \u001b[0mindices\u001b[0m\u001b[1;33m,\u001b[0m \u001b[0maxis\u001b[0m\u001b[1;33m=\u001b[0m\u001b[0mself\u001b[0m\u001b[1;33m.\u001b[0m\u001b[0m_get_block_manager_axis\u001b[0m\u001b[1;33m(\u001b[0m\u001b[0maxis\u001b[0m\u001b[1;33m)\u001b[0m\u001b[1;33m,\u001b[0m \u001b[0mverify\u001b[0m\u001b[1;33m=\u001b[0m\u001b[1;32mTrue\u001b[0m\u001b[1;33m\u001b[0m\u001b[1;33m\u001b[0m\u001b[0m\n\u001b[0;32m   3349\u001b[0m         )\n",
      "\u001b[1;32m~\\anaconda3\\lib\\site-packages\\pandas\\core\\internals\\managers.py\u001b[0m in \u001b[0;36mtake\u001b[1;34m(self, indexer, axis, verify, convert)\u001b[0m\n\u001b[0;32m   1445\u001b[0m \u001b[1;33m\u001b[0m\u001b[0m\n\u001b[0;32m   1446\u001b[0m         \u001b[0mnew_labels\u001b[0m \u001b[1;33m=\u001b[0m \u001b[0mself\u001b[0m\u001b[1;33m.\u001b[0m\u001b[0maxes\u001b[0m\u001b[1;33m[\u001b[0m\u001b[0maxis\u001b[0m\u001b[1;33m]\u001b[0m\u001b[1;33m.\u001b[0m\u001b[0mtake\u001b[0m\u001b[1;33m(\u001b[0m\u001b[0mindexer\u001b[0m\u001b[1;33m)\u001b[0m\u001b[1;33m\u001b[0m\u001b[1;33m\u001b[0m\u001b[0m\n\u001b[1;32m-> 1447\u001b[1;33m         return self.reindex_indexer(\n\u001b[0m\u001b[0;32m   1448\u001b[0m             \u001b[0mnew_axis\u001b[0m\u001b[1;33m=\u001b[0m\u001b[0mnew_labels\u001b[0m\u001b[1;33m,\u001b[0m \u001b[0mindexer\u001b[0m\u001b[1;33m=\u001b[0m\u001b[0mindexer\u001b[0m\u001b[1;33m,\u001b[0m \u001b[0maxis\u001b[0m\u001b[1;33m=\u001b[0m\u001b[0maxis\u001b[0m\u001b[1;33m,\u001b[0m \u001b[0mallow_dups\u001b[0m\u001b[1;33m=\u001b[0m\u001b[1;32mTrue\u001b[0m\u001b[1;33m\u001b[0m\u001b[1;33m\u001b[0m\u001b[0m\n\u001b[0;32m   1449\u001b[0m         )\n",
      "\u001b[1;32m~\\anaconda3\\lib\\site-packages\\pandas\\core\\internals\\managers.py\u001b[0m in \u001b[0;36mreindex_indexer\u001b[1;34m(self, new_axis, indexer, axis, fill_value, allow_dups, copy, consolidate)\u001b[0m\n\u001b[0;32m   1282\u001b[0m             \u001b[0mnew_blocks\u001b[0m \u001b[1;33m=\u001b[0m \u001b[0mself\u001b[0m\u001b[1;33m.\u001b[0m\u001b[0m_slice_take_blocks_ax0\u001b[0m\u001b[1;33m(\u001b[0m\u001b[0mindexer\u001b[0m\u001b[1;33m,\u001b[0m \u001b[0mfill_value\u001b[0m\u001b[1;33m=\u001b[0m\u001b[0mfill_value\u001b[0m\u001b[1;33m)\u001b[0m\u001b[1;33m\u001b[0m\u001b[1;33m\u001b[0m\u001b[0m\n\u001b[0;32m   1283\u001b[0m         \u001b[1;32melse\u001b[0m\u001b[1;33m:\u001b[0m\u001b[1;33m\u001b[0m\u001b[1;33m\u001b[0m\u001b[0m\n\u001b[1;32m-> 1284\u001b[1;33m             new_blocks = [\n\u001b[0m\u001b[0;32m   1285\u001b[0m                 blk.take_nd(\n\u001b[0;32m   1286\u001b[0m                     \u001b[0mindexer\u001b[0m\u001b[1;33m,\u001b[0m\u001b[1;33m\u001b[0m\u001b[1;33m\u001b[0m\u001b[0m\n",
      "\u001b[1;32m~\\anaconda3\\lib\\site-packages\\pandas\\core\\internals\\managers.py\u001b[0m in \u001b[0;36m<listcomp>\u001b[1;34m(.0)\u001b[0m\n\u001b[0;32m   1283\u001b[0m         \u001b[1;32melse\u001b[0m\u001b[1;33m:\u001b[0m\u001b[1;33m\u001b[0m\u001b[1;33m\u001b[0m\u001b[0m\n\u001b[0;32m   1284\u001b[0m             new_blocks = [\n\u001b[1;32m-> 1285\u001b[1;33m                 blk.take_nd(\n\u001b[0m\u001b[0;32m   1286\u001b[0m                     \u001b[0mindexer\u001b[0m\u001b[1;33m,\u001b[0m\u001b[1;33m\u001b[0m\u001b[1;33m\u001b[0m\u001b[0m\n\u001b[0;32m   1287\u001b[0m                     \u001b[0maxis\u001b[0m\u001b[1;33m=\u001b[0m\u001b[0maxis\u001b[0m\u001b[1;33m,\u001b[0m\u001b[1;33m\u001b[0m\u001b[1;33m\u001b[0m\u001b[0m\n",
      "\u001b[1;32m~\\anaconda3\\lib\\site-packages\\pandas\\core\\internals\\blocks.py\u001b[0m in \u001b[0;36mtake_nd\u001b[1;34m(self, indexer, axis, new_mgr_locs, fill_value)\u001b[0m\n\u001b[0;32m   1252\u001b[0m             \u001b[0mallow_fill\u001b[0m \u001b[1;33m=\u001b[0m \u001b[1;32mTrue\u001b[0m\u001b[1;33m\u001b[0m\u001b[1;33m\u001b[0m\u001b[0m\n\u001b[0;32m   1253\u001b[0m \u001b[1;33m\u001b[0m\u001b[0m\n\u001b[1;32m-> 1254\u001b[1;33m         new_values = algos.take_nd(\n\u001b[0m\u001b[0;32m   1255\u001b[0m             \u001b[0mvalues\u001b[0m\u001b[1;33m,\u001b[0m \u001b[0mindexer\u001b[0m\u001b[1;33m,\u001b[0m \u001b[0maxis\u001b[0m\u001b[1;33m=\u001b[0m\u001b[0maxis\u001b[0m\u001b[1;33m,\u001b[0m \u001b[0mallow_fill\u001b[0m\u001b[1;33m=\u001b[0m\u001b[0mallow_fill\u001b[0m\u001b[1;33m,\u001b[0m \u001b[0mfill_value\u001b[0m\u001b[1;33m=\u001b[0m\u001b[0mfill_value\u001b[0m\u001b[1;33m\u001b[0m\u001b[1;33m\u001b[0m\u001b[0m\n\u001b[0;32m   1256\u001b[0m         )\n",
      "\u001b[1;31mKeyboardInterrupt\u001b[0m: "
     ]
    },
    {
     "name": "stderr",
     "output_type": "stream",
     "text": [
      " 18%|██████████████▊                                                                  | 22/120 [07:28<33:17, 20.38s/it]\n"
     ]
    }
   ],
   "source": [
    "#TODO: does not work!!!!\n",
    "dico_hen_mlps = defaultdict(list)\n",
    "for x in li_msmlps:\n",
    "     dico_hen_mlps[x.split('-')[0]].append(x)\n",
    "dico_hen_mlps = dict(dico_hen_mlps)\n",
    "dico_hen_mlps\n",
    "\n",
    "#initializse MLPs' clustersID\n",
    "dico_MLPID_cl = dict(zip(df_res['MLPID'].tolist(), df_res[name_clustering].tolist()))\n",
    "\n",
    "#create one folder per cluster\n",
    "#nbr_cluster_ = len(df_res[name_clustering].unique())\n",
    "path_cluster_visual = os.path.join(path_extracted_data_visual_adap_clustering_V, name_clustering)\n",
    "if not os.path.exists(path_cluster_visual):\n",
    "    os.makedirs(path_cluster_visual)\n",
    "    \n",
    "for clID in set(dico_MLPID_cl.values()):\n",
    "    path__ = os.path.join(path_cluster_visual, str(clID))\n",
    "    if not os.path.exists(path__):\n",
    "        os.makedirs(path__)\n",
    "\n",
    "df = df.sort_values(['Timestamp'])\n",
    "for henID,li_MLPID in tqdm.tqdm(dico_hen_mlps.items()):\n",
    "\n",
    "    #select mvt form this hen only and convert into ts\n",
    "    df_plt_ = df[(df['date']<=dt.datetime(2020,11,23))&(df['date']>=dt.datetime(2020,9,29))&(df['HenID']==henID)].copy()\n",
    "    mi = min(df_plt_['Timestamp'].tolist()) ; ma = max(df_plt_['Timestamp'].tolist())\n",
    "    Daterange = pd.date_range(start = mi+dt.timedelta(seconds=(60-mi.second)), \n",
    "                              end = ma-dt.timedelta(seconds=(ma.second+1)), \n",
    "                              freq = 'S') \n",
    "    df_plt_.set_index('Timestamp', inplace=True)\n",
    "    df_plt_ = df_plt_.reindex(Daterange, method='ffill').reset_index()\n",
    "    df_plt_.rename(columns={'index':'Timestamp'}, inplace=True)\n",
    "    #add date again, as the reindexing also extended the date\n",
    "    df_plt_['date'] = df_plt_['Timestamp'].map(lambda x: dt.datetime.date(x))\n",
    "    #remove first & last date\n",
    "    df_plt_ = df_plt_[~df_plt_['date'].isin([max(df_plt_['date'].tolist()),min(df_plt_['date'].tolist())])]\n",
    "    #put xlabel into numbers for the ploting\n",
    "    df_plt_['Zone'] = df_plt_['Zone'].map(lambda x: int(config.dico_zone_order[x]))   \n",
    "    \n",
    "    #plot the mlps of interest (i.e. at specifc dates)\n",
    "    for MLPID in li_MLPID:\n",
    "        #extract corresponding date\n",
    "        dib = int(MLPID.split('-')[1])\n",
    "        d = dt.datetime(2020,9,29)+dt.timedelta(days=dib) #2020, 9, 30 is DIB=1\n",
    "        #extract corresponding cluster\n",
    "        clID = dico_MLPID_cl[MLPID]\n",
    "        #extract corresponding ts\n",
    "        df_plt__ = df_plt_[df_plt_['date']==d]\n",
    "        \n",
    "        #plot \n",
    "        if df_plt__.shape[0]>0:\n",
    "            print('helllo')\n",
    "            plt.plot(df_plt__['Timestamp'].tolist(), df_plt__['Zone'].tolist(), linewidth=1)\n",
    "            plt.yticks([0,1,2,3,4], ['Winter garden', 'Litter', 'Lower perch','Nestbox','Top floor'])\n",
    "            li_hour = pd.date_range(start = d,  end = d+dt.timedelta(days=1), freq = 'H')\n",
    "            plt.xticks(li_hour , [str(i.hour)+'h' for i in li_hour], fontsize=5)                \n",
    "            plt.yticks(fontsize=8)\n",
    "            plt.xlabel(str(d).split('T')[0], size=7)\n",
    "            plt.ylim(0, 4.2)      \n",
    "            plt.title(MLPID)\n",
    "            plt.show()\n",
    "            #save it\n",
    "            plt.savefig(os.path.join(path_cluster_visual, str(clID), MLPID+'.png'), format='png', bbox_inches='tight', dpi=300)\n",
    "            plt.clf()\n",
    "            plt.close(\"all\")"
   ]
  },
  {
   "cell_type": "markdown",
   "metadata": {},
   "source": [
    "# Existance of types of behavioural structure visual"
   ]
  },
  {
   "cell_type": "raw",
   "metadata": {},
   "source": [
    "each point should be the sum over each MLPs of their min distance among all previous existing MLPs. Note that here each distance will be used twice: once for MLPID1 and one for MLPID2"
   ]
  },
  {
   "cell_type": "code",
   "execution_count": 107,
   "metadata": {},
   "outputs": [
    {
     "name": "stdout",
     "output_type": "stream",
     "text": [
      "(25952410, 11)\n"
     ]
    },
    {
     "name": "stderr",
     "output_type": "stream",
     "text": [
      "C:\\Users\\camil\\anaconda3\\lib\\site-packages\\ipykernel\\ipkernel.py:283: DeprecationWarning: `should_run_async` will not call `transform_cell` automatically in the future. Please pass the result to `transformed_cell` argument and any exception that happen during thetransform in `preprocessing_exc_tuple` in IPython 7.17 and above.\n",
      "  and should_run_async(code)\n"
     ]
    },
    {
     "data": {
      "text/html": [
       "<div>\n",
       "<style scoped>\n",
       "    .dataframe tbody tr th:only-of-type {\n",
       "        vertical-align: middle;\n",
       "    }\n",
       "\n",
       "    .dataframe tbody tr th {\n",
       "        vertical-align: top;\n",
       "    }\n",
       "\n",
       "    .dataframe thead th {\n",
       "        text-align: right;\n",
       "    }\n",
       "</style>\n",
       "<table border=\"1\" class=\"dataframe\">\n",
       "  <thead>\n",
       "    <tr style=\"text-align: right;\">\n",
       "      <th></th>\n",
       "      <th>chi2distance_ALL_15</th>\n",
       "      <th>h1</th>\n",
       "      <th>h2</th>\n",
       "      <th>henID1</th>\n",
       "      <th>henID2</th>\n",
       "      <th>level1</th>\n",
       "      <th>level2</th>\n",
       "      <th>DIB1</th>\n",
       "      <th>DIB2</th>\n",
       "      <th>MLPID1</th>\n",
       "      <th>MLPID2</th>\n",
       "    </tr>\n",
       "  </thead>\n",
       "  <tbody>\n",
       "    <tr>\n",
       "      <th>0</th>\n",
       "      <td>0.890901</td>\n",
       "      <td>hen_131/2020-09-30</td>\n",
       "      <td>hen_134/2020-09-30</td>\n",
       "      <td>hen_131</td>\n",
       "      <td>hen_134</td>\n",
       "      <td>2020-09-30</td>\n",
       "      <td>2020-09-30</td>\n",
       "      <td>1</td>\n",
       "      <td>1</td>\n",
       "      <td>hen_131-1</td>\n",
       "      <td>hen_134-1</td>\n",
       "    </tr>\n",
       "    <tr>\n",
       "      <th>1</th>\n",
       "      <td>0.202226</td>\n",
       "      <td>hen_131/2020-09-30</td>\n",
       "      <td>hen_138/2020-09-30</td>\n",
       "      <td>hen_131</td>\n",
       "      <td>hen_138</td>\n",
       "      <td>2020-09-30</td>\n",
       "      <td>2020-09-30</td>\n",
       "      <td>1</td>\n",
       "      <td>1</td>\n",
       "      <td>hen_131-1</td>\n",
       "      <td>hen_138-1</td>\n",
       "    </tr>\n",
       "    <tr>\n",
       "      <th>2</th>\n",
       "      <td>0.866714</td>\n",
       "      <td>hen_131/2020-09-30</td>\n",
       "      <td>hen_139/2020-09-30</td>\n",
       "      <td>hen_131</td>\n",
       "      <td>hen_139</td>\n",
       "      <td>2020-09-30</td>\n",
       "      <td>2020-09-30</td>\n",
       "      <td>1</td>\n",
       "      <td>1</td>\n",
       "      <td>hen_131-1</td>\n",
       "      <td>hen_139-1</td>\n",
       "    </tr>\n",
       "  </tbody>\n",
       "</table>\n",
       "</div>"
      ],
      "text/plain": [
       "   chi2distance_ALL_15                  h1                  h2   henID1  \\\n",
       "0             0.890901  hen_131/2020-09-30  hen_134/2020-09-30  hen_131   \n",
       "1             0.202226  hen_131/2020-09-30  hen_138/2020-09-30  hen_131   \n",
       "2             0.866714  hen_131/2020-09-30  hen_139/2020-09-30  hen_131   \n",
       "\n",
       "    henID2     level1     level2  DIB1  DIB2     MLPID1     MLPID2  \n",
       "0  hen_134 2020-09-30 2020-09-30     1     1  hen_131-1  hen_134-1  \n",
       "1  hen_138 2020-09-30 2020-09-30     1     1  hen_131-1  hen_138-1  \n",
       "2  hen_139 2020-09-30 2020-09-30     1     1  hen_131-1  hen_139-1  "
      ]
     },
     "execution_count": 107,
     "metadata": {},
     "output_type": "execute_result"
    }
   ],
   "source": [
    "print(df_inter.shape)\n",
    "df_inter.head(3)"
   ]
  },
  {
   "cell_type": "code",
   "execution_count": 117,
   "metadata": {},
   "outputs": [
    {
     "name": "stderr",
     "output_type": "stream",
     "text": [
      "C:\\Users\\camil\\anaconda3\\lib\\site-packages\\ipykernel\\ipkernel.py:283: DeprecationWarning: `should_run_async` will not call `transform_cell` automatically in the future. Please pass the result to `transformed_cell` argument and any exception that happen during thetransform in `preprocessing_exc_tuple` in IPython 7.17 and above.\n",
      "  and should_run_async(code)\n",
      "100%|██████████████████████████████████████████████████████████████████████████████████| 55/55 [00:15<00:00,  3.62it/s]"
     ]
    },
    {
     "name": "stdout",
     "output_type": "stream",
     "text": [
      "(13544, 5)\n"
     ]
    },
    {
     "name": "stderr",
     "output_type": "stream",
     "text": [
      "\n"
     ]
    },
    {
     "data": {
      "text/html": [
       "<div>\n",
       "<style scoped>\n",
       "    .dataframe tbody tr th:only-of-type {\n",
       "        vertical-align: middle;\n",
       "    }\n",
       "\n",
       "    .dataframe tbody tr th {\n",
       "        vertical-align: top;\n",
       "    }\n",
       "\n",
       "    .dataframe thead th {\n",
       "        text-align: right;\n",
       "    }\n",
       "</style>\n",
       "<table border=\"1\" class=\"dataframe\">\n",
       "  <thead>\n",
       "    <tr style=\"text-align: right;\">\n",
       "      <th></th>\n",
       "      <th>MLPID</th>\n",
       "      <th>chi2distance_ALL_15</th>\n",
       "      <th>min_distance</th>\n",
       "      <th>DIB</th>\n",
       "      <th>nbr_MLPs_involved</th>\n",
       "    </tr>\n",
       "  </thead>\n",
       "  <tbody>\n",
       "    <tr>\n",
       "      <th>0</th>\n",
       "      <td>hen_1-1</td>\n",
       "      <td>[0.8762493103105875, 0.20999853550192848, 0.58...</td>\n",
       "      <td>0.131369</td>\n",
       "      <td>1</td>\n",
       "      <td>15</td>\n",
       "    </tr>\n",
       "    <tr>\n",
       "      <th>1</th>\n",
       "      <td>hen_10-1</td>\n",
       "      <td>[0.3196661806591478, 0.9580663404213968, 0.349...</td>\n",
       "      <td>0.231584</td>\n",
       "      <td>1</td>\n",
       "      <td>112</td>\n",
       "    </tr>\n",
       "    <tr>\n",
       "      <th>2</th>\n",
       "      <td>hen_101-1</td>\n",
       "      <td>[0.18034643578558016, 0.07131189160799235, 0.8...</td>\n",
       "      <td>0.061431</td>\n",
       "      <td>1</td>\n",
       "      <td>47</td>\n",
       "    </tr>\n",
       "  </tbody>\n",
       "</table>\n",
       "</div>"
      ],
      "text/plain": [
       "       MLPID                                chi2distance_ALL_15  min_distance  \\\n",
       "0    hen_1-1  [0.8762493103105875, 0.20999853550192848, 0.58...      0.131369   \n",
       "1   hen_10-1  [0.3196661806591478, 0.9580663404213968, 0.349...      0.231584   \n",
       "2  hen_101-1  [0.18034643578558016, 0.07131189160799235, 0.8...      0.061431   \n",
       "\n",
       "   DIB  nbr_MLPs_involved  \n",
       "0    1                 15  \n",
       "1    1                112  \n",
       "2    1                 47  "
      ]
     },
     "execution_count": 117,
     "metadata": {},
     "output_type": "execute_result"
    }
   ],
   "source": [
    "li_DIB = set(df_inter['DIB1'].tolist()+df_inter['DIB2'].tolist())\n",
    "li_df = []\n",
    "for DIB in tqdm.tqdm(li_DIB):\n",
    "    #general idea: MLPID1, then MLPID2, the concat (not merge, as each pairs are uniquely represented in the dataframe)\n",
    "    \n",
    "    #if first day in the barn, then simply sum all distances. ater add the smallest one\n",
    "    \n",
    "    if DIB==1:\n",
    "        #MLPID1\n",
    "        df_ = df_inter[(df_inter['DIB1']==DIB)&(df_inter['DIB2']==DIB)].copy()\n",
    "        #print(df_.shape)\n",
    "        df_mlp1 = df_.groupby('MLPID1')[V].agg(lambda x: list(x)).reset_index()\n",
    "        df_mlp1.rename(columns={'MLPID1':'MLPID'}, inplace=True)\n",
    "\n",
    "        #MLPID2\n",
    "        df_ = df_inter[(df_inter['DIB2']==DIB)&(df_inter['DIB1']==DIB)].copy()\n",
    "        #print(df_.shape)\n",
    "        df_mlp2 = df_.groupby('MLPID2')[V].agg(lambda x: list(x)).reset_index()\n",
    "        df_mlp2.rename(columns={'MLPID2':'MLPID'}, inplace=True)\n",
    "\n",
    "        #concat all\n",
    "        df_mlp = pd.concat([df_mlp1, df_mlp2])\n",
    "        #print(df_mlp.shape, df_mlp1.shape, df_mlp2.shape)\n",
    "        df_mlp['min_distance'] = df_mlp[V].map(lambda x: min(x))\n",
    "        df_mlp['DIB'] = DIB\n",
    "        df_mlp['nbr_MLPs_involved'] = df_mlp[V].map(lambda x: len(x))\n",
    "    else:\n",
    "        #MLPID1 (from previous days (n acual days, as we want to have already taken them into account))\n",
    "        df_ = df_inter[(df_inter['DIB1']==DIB)&(df_inter['DIB2']<DIB)].copy()\n",
    "        #print(df_.shape)\n",
    "        df_mlp1 = df_.groupby('MLPID1')[V].agg(lambda x: list(x)).reset_index()\n",
    "        df_mlp1.rename(columns={'MLPID1':'MLPID'}, inplace=True)\n",
    "\n",
    "        #MLPID2\n",
    "        df_ = df_inter[(df_inter['DIB2']==DIB)&(df_inter['DIB1']<DIB)].copy()\n",
    "        #print(df_.shape)\n",
    "        df_mlp2 = df_.groupby('MLPID2')[V].agg(lambda x: list(x)).reset_index()\n",
    "        df_mlp2.rename(columns={'MLPID2':'MLPID'}, inplace=True)\n",
    "\n",
    "        #concat all\n",
    "        df_mlp = pd.concat([df_mlp1, df_mlp2])\n",
    "        #print(df_mlp.shape, df_mlp1.shape, df_mlp2.shape)\n",
    "        df_mlp['min_distance'] = df_mlp[V].map(lambda x: min(x))\n",
    "        df_mlp['DIB'] = DIB\n",
    "        df_mlp['nbr_MLPs_involved'] = df_mlp[V].map(lambda x: len(x))\n",
    "    li_df.append(df_mlp)    \n",
    "df_mlp_allDIB = pd.concat(li_df)\n",
    "print(df_mlp_allDIB.shape)\n",
    "df_mlp_allDIB.head(3)"
   ]
  },
  {
   "cell_type": "code",
   "execution_count": 120,
   "metadata": {},
   "outputs": [
    {
     "name": "stderr",
     "output_type": "stream",
     "text": [
      "C:\\Users\\camil\\anaconda3\\lib\\site-packages\\ipykernel\\ipkernel.py:283: DeprecationWarning: `should_run_async` will not call `transform_cell` automatically in the future. Please pass the result to `transformed_cell` argument and any exception that happen during thetransform in `preprocessing_exc_tuple` in IPython 7.17 and above.\n",
      "  and should_run_async(code)\n"
     ]
    },
    {
     "data": {
      "image/png": "[encoded data removed]",
      "text/plain": [
       "<Figure size 432x288 with 1 Axes>"
      ]
     },
     "metadata": {
      "needs_background": "light"
     },
     "output_type": "display_data"
    }
   ],
   "source": [
    "#plot number of mlps involved per DIB, should be growing over time\n",
    "sns.boxplot(x='DIB', y='nbr_MLPs_involved', data=df_mlp_allDIB);"
   ]
  },
  {
   "cell_type": "code",
   "execution_count": 127,
   "metadata": {},
   "outputs": [
    {
     "name": "stdout",
     "output_type": "stream",
     "text": [
      "(55, 4)\n"
     ]
    },
    {
     "name": "stderr",
     "output_type": "stream",
     "text": [
      "C:\\Users\\camil\\anaconda3\\lib\\site-packages\\ipykernel\\ipkernel.py:283: DeprecationWarning: `should_run_async` will not call `transform_cell` automatically in the future. Please pass the result to `transformed_cell` argument and any exception that happen during thetransform in `preprocessing_exc_tuple` in IPython 7.17 and above.\n",
      "  and should_run_async(code)\n"
     ]
    },
    {
     "data": {
      "text/html": [
       "<div>\n",
       "<style scoped>\n",
       "    .dataframe tbody tr th:only-of-type {\n",
       "        vertical-align: middle;\n",
       "    }\n",
       "\n",
       "    .dataframe tbody tr th {\n",
       "        vertical-align: top;\n",
       "    }\n",
       "\n",
       "    .dataframe thead th {\n",
       "        text-align: right;\n",
       "    }\n",
       "</style>\n",
       "<table border=\"1\" class=\"dataframe\">\n",
       "  <thead>\n",
       "    <tr style=\"text-align: right;\">\n",
       "      <th></th>\n",
       "      <th>DIB</th>\n",
       "      <th>min_distance</th>\n",
       "      <th>nbr_obs</th>\n",
       "      <th>sum_min_distance_for_each_mlp</th>\n",
       "    </tr>\n",
       "  </thead>\n",
       "  <tbody>\n",
       "    <tr>\n",
       "      <th>0</th>\n",
       "      <td>1</td>\n",
       "      <td>[0.13136938038489349, 0.2315844831617873, 0.06...</td>\n",
       "      <td>260</td>\n",
       "      <td>40.270048</td>\n",
       "    </tr>\n",
       "    <tr>\n",
       "      <th>1</th>\n",
       "      <td>2</td>\n",
       "      <td>[0.049825173081477256, 0.06432711132891387, 0....</td>\n",
       "      <td>246</td>\n",
       "      <td>29.359012</td>\n",
       "    </tr>\n",
       "    <tr>\n",
       "      <th>2</th>\n",
       "      <td>3</td>\n",
       "      <td>[0.0, 0.0821949917679172, 0.0, 0.2337743188606...</td>\n",
       "      <td>246</td>\n",
       "      <td>26.772500</td>\n",
       "    </tr>\n",
       "  </tbody>\n",
       "</table>\n",
       "</div>"
      ],
      "text/plain": [
       "   DIB                                       min_distance  nbr_obs  \\\n",
       "0    1  [0.13136938038489349, 0.2315844831617873, 0.06...      260   \n",
       "1    2  [0.049825173081477256, 0.06432711132891387, 0....      246   \n",
       "2    3  [0.0, 0.0821949917679172, 0.0, 0.2337743188606...      246   \n",
       "\n",
       "   sum_min_distance_for_each_mlp  \n",
       "0                      40.270048  \n",
       "1                      29.359012  \n",
       "2                      26.772500  "
      ]
     },
     "metadata": {},
     "output_type": "display_data"
    },
    {
     "data": {
      "text/html": [
       "<div>\n",
       "<style scoped>\n",
       "    .dataframe tbody tr th:only-of-type {\n",
       "        vertical-align: middle;\n",
       "    }\n",
       "\n",
       "    .dataframe tbody tr th {\n",
       "        vertical-align: top;\n",
       "    }\n",
       "\n",
       "    .dataframe thead th {\n",
       "        text-align: right;\n",
       "    }\n",
       "</style>\n",
       "<table border=\"1\" class=\"dataframe\">\n",
       "  <thead>\n",
       "    <tr style=\"text-align: right;\">\n",
       "      <th></th>\n",
       "      <th>DIB</th>\n",
       "      <th>min_distance</th>\n",
       "      <th>nbr_obs</th>\n",
       "      <th>sum_min_distance_for_each_mlp</th>\n",
       "    </tr>\n",
       "  </thead>\n",
       "  <tbody>\n",
       "    <tr>\n",
       "      <th>52</th>\n",
       "      <td>53</td>\n",
       "      <td>[0.21377599813958956, 0.33052505782474634, 0.0...</td>\n",
       "      <td>246</td>\n",
       "      <td>60.717121</td>\n",
       "    </tr>\n",
       "    <tr>\n",
       "      <th>53</th>\n",
       "      <td>54</td>\n",
       "      <td>[0.3046229425502482, 0.3328373387187038, 0.105...</td>\n",
       "      <td>246</td>\n",
       "      <td>59.873918</td>\n",
       "    </tr>\n",
       "    <tr>\n",
       "      <th>54</th>\n",
       "      <td>55</td>\n",
       "      <td>[0.2512579808828505, 0.3377434510370683, 0.247...</td>\n",
       "      <td>246</td>\n",
       "      <td>55.787424</td>\n",
       "    </tr>\n",
       "  </tbody>\n",
       "</table>\n",
       "</div>"
      ],
      "text/plain": [
       "    DIB                                       min_distance  nbr_obs  \\\n",
       "52   53  [0.21377599813958956, 0.33052505782474634, 0.0...      246   \n",
       "53   54  [0.3046229425502482, 0.3328373387187038, 0.105...      246   \n",
       "54   55  [0.2512579808828505, 0.3377434510370683, 0.247...      246   \n",
       "\n",
       "    sum_min_distance_for_each_mlp  \n",
       "52                      60.717121  \n",
       "53                      59.873918  \n",
       "54                      55.787424  "
      ]
     },
     "metadata": {},
     "output_type": "display_data"
    },
    {
     "data": {
      "image/png": "[encoded data removed]",
      "text/plain": [
       "<Figure size 432x288 with 1 Axes>"
      ]
     },
     "metadata": {
      "needs_background": "light"
     },
     "output_type": "display_data"
    },
    {
     "data": {
      "image/png": "[encoded data removed]",
      "text/plain": [
       "<Figure size 432x288 with 1 Axes>"
      ]
     },
     "metadata": {
      "needs_background": "light"
     },
     "output_type": "display_data"
    }
   ],
   "source": [
    "#plot the indicator of behavioural structure creation\n",
    "df_bs_index = df_mlp_allDIB.groupby('DIB')['min_distance'].agg(lambda x: list(x)).reset_index()\n",
    "df_bs_index['nbr_obs'] = df_bs_index['min_distance'].map(lambda x: len(x)) #should be around the same all the time\n",
    "df_bs_index['sum_min_distance_for_each_mlp'] = df_bs_index['min_distance'].map(lambda x: sum(x))\n",
    "print(df_bs_index.shape)\n",
    "display(df_bs_index.head(3))\n",
    "display(df_bs_index.tail(3))\n",
    "plt.plot(df_bs_index['DIB'].tolist(), df_bs_index['sum_min_distance_for_each_mlp'].tolist());\n",
    "plt.show();\n",
    "#cumulatively\n",
    "plt.plot(df_bs_index['DIB'].tolist(), np.cumsum(df_bs_index['sum_min_distance_for_each_mlp'].tolist()));"
   ]
  },
  {
   "cell_type": "code",
   "execution_count": null,
   "metadata": {},
   "outputs": [],
   "source": []
  },
  {
   "cell_type": "code",
   "execution_count": null,
   "metadata": {},
   "outputs": [],
   "source": []
  },
  {
   "cell_type": "code",
   "execution_count": null,
   "metadata": {},
   "outputs": [],
   "source": []
  },
  {
   "cell_type": "code",
   "execution_count": null,
   "metadata": {},
   "outputs": [],
   "source": []
  },
  {
   "cell_type": "code",
   "execution_count": null,
   "metadata": {},
   "outputs": [],
   "source": []
  },
  {
   "cell_type": "code",
   "execution_count": null,
   "metadata": {},
   "outputs": [],
   "source": []
  },
  {
   "cell_type": "code",
   "execution_count": null,
   "metadata": {},
   "outputs": [],
   "source": []
  },
  {
   "cell_type": "code",
   "execution_count": null,
   "metadata": {},
   "outputs": [],
   "source": []
  },
  {
   "cell_type": "code",
   "execution_count": null,
   "metadata": {},
   "outputs": [],
   "source": []
  }
 ],
 "metadata": {
  "kernelspec": {
   "display_name": "Python 3",
   "language": "python",
   "name": "python3"
  },
  "language_info": {
   "codemirror_mode": {
    "name": "ipython",
    "version": 3
   },
   "file_extension": ".py",
   "mimetype": "text/x-python",
   "name": "python",
   "nbconvert_exporter": "python",
   "pygments_lexer": "ipython3",
   "version": "3.8.5"
  }
 },
 "nbformat": 4,
 "nbformat_minor": 2
}
