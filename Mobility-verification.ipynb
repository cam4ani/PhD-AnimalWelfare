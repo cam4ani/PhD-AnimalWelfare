{
 "cells": [
  {
   "cell_type": "code",
   "execution_count": 3,
   "metadata": {},
   "outputs": [],
   "source": [
    "#basic package\n",
    "import json\n",
    "import tqdm\n",
    "import os\n",
    "import numpy as np\n",
    "import glob\n",
    "import pandas as pd\n",
    "import sys\n",
    "import shutil\n",
    "import time\n",
    "import datetime as dt\n",
    "import itertools\n",
    "import time\n",
    "import re\n",
    "from collections import Counter\n",
    "from collections import defaultdict\n",
    "import operator\n",
    "import math\n",
    "#plot\n",
    "import matplotlib.pyplot as plt\n",
    "import seaborn as sns"
   ]
  },
  {
   "cell_type": "code",
   "execution_count": null,
   "metadata": {},
   "outputs": [],
   "source": [
    "from UTILS import time_series_henColumn_tsRow, ZoneVariable, HenVariable, Entropy, heatmap_duration_perzone_perhen, \\\n",
    "TimeSeriesPlot\n",
    "import config_mobility as config"
   ]
  },
  {
   "cell_type": "code",
   "execution_count": null,
   "metadata": {},
   "outputs": [],
   "source": [
    "path_extracted_data = config.path_extracted_data\n",
    "id_run = config.id_run\n",
    "nbr_sec = config.nbr_sec"
   ]
  },
  {
   "cell_type": "markdown",
   "metadata": {},
   "source": [
    "## henID christina and phillipe link to pen"
   ]
  },
  {
   "cell_type": "code",
   "execution_count": 122,
   "metadata": {},
   "outputs": [
    {
     "data": {
      "text/html": [
       "<div>\n",
       "<style scoped>\n",
       "    .dataframe tbody tr th:only-of-type {\n",
       "        vertical-align: middle;\n",
       "    }\n",
       "\n",
       "    .dataframe tbody tr th {\n",
       "        vertical-align: top;\n",
       "    }\n",
       "\n",
       "    .dataframe thead th {\n",
       "        text-align: right;\n",
       "    }\n",
       "</style>\n",
       "<table border=\"1\" class=\"dataframe\">\n",
       "  <thead>\n",
       "    <tr style=\"text-align: right;\">\n",
       "      <th></th>\n",
       "      <th>pen</th>\n",
       "      <th>hen</th>\n",
       "    </tr>\n",
       "  </thead>\n",
       "  <tbody>\n",
       "    <tr>\n",
       "      <th>0</th>\n",
       "      <td>1</td>\n",
       "      <td>{1, 2, 3, 4, 5, 6, 7, 8, 9, 10, 11, 12, 13, 14...</td>\n",
       "    </tr>\n",
       "    <tr>\n",
       "      <th>1</th>\n",
       "      <td>2</td>\n",
       "      <td>{64, 65, 66, 67, 68, 69, 70, 71, 72, 73, 74, 7...</td>\n",
       "    </tr>\n",
       "    <tr>\n",
       "      <th>2</th>\n",
       "      <td>3</td>\n",
       "      <td>{32, 33, 34, 35, 36, 37, 38, 39, 40, 21, 22, 2...</td>\n",
       "    </tr>\n",
       "    <tr>\n",
       "      <th>3</th>\n",
       "      <td>4</td>\n",
       "      <td>{96, 97, 98, 99, 100, 81, 82, 83, 84, 85, 86, ...</td>\n",
       "    </tr>\n",
       "    <tr>\n",
       "      <th>4</th>\n",
       "      <td>5</td>\n",
       "      <td>{41, 42, 43, 44, 45, 46, 47, 48, 49, 50, 51, 5...</td>\n",
       "    </tr>\n",
       "    <tr>\n",
       "      <th>5</th>\n",
       "      <td>6</td>\n",
       "      <td>{101, 102, 103, 104, 105, 106, 107, 108, 109, ...</td>\n",
       "    </tr>\n",
       "  </tbody>\n",
       "</table>\n",
       "</div>"
      ],
      "text/plain": [
       "   pen                                                hen\n",
       "0    1  {1, 2, 3, 4, 5, 6, 7, 8, 9, 10, 11, 12, 13, 14...\n",
       "1    2  {64, 65, 66, 67, 68, 69, 70, 71, 72, 73, 74, 7...\n",
       "2    3  {32, 33, 34, 35, 36, 37, 38, 39, 40, 21, 22, 2...\n",
       "3    4  {96, 97, 98, 99, 100, 81, 82, 83, 84, 85, 86, ...\n",
       "4    5  {41, 42, 43, 44, 45, 46, 47, 48, 49, 50, 51, 5...\n",
       "5    6  {101, 102, 103, 104, 105, 106, 107, 108, 109, ..."
      ]
     },
     "execution_count": 122,
     "metadata": {},
     "output_type": "execute_result"
    }
   ],
   "source": [
    "p = r'C:\\Users\\camil\\Desktop\\animals_code\\AVIFORUM\\data\\initial_data_mobility'\n",
    "df_master = pd.read_csv(os.path.join(p,'Mo_Masterfile.csv'), sep=';')  #parse_dates=['date']\n",
    "df_test = df_master.groupby(['pen'])['hen'].agg(lambda x: set(x)).reset_index()\n",
    "df_test.to_csv(os.path.join(path_extracted_data,'verification','df_verification_pen_hen_link_Mo_Masterfile.csv'), \n",
    "               index=False, sep=';')\n",
    "df_test "
   ]
  },
  {
   "cell_type": "code",
   "execution_count": 123,
   "metadata": {},
   "outputs": [
    {
     "data": {
      "text/html": [
       "<div>\n",
       "<style scoped>\n",
       "    .dataframe tbody tr th:only-of-type {\n",
       "        vertical-align: middle;\n",
       "    }\n",
       "\n",
       "    .dataframe tbody tr th {\n",
       "        vertical-align: top;\n",
       "    }\n",
       "\n",
       "    .dataframe thead th {\n",
       "        text-align: right;\n",
       "    }\n",
       "</style>\n",
       "<table border=\"1\" class=\"dataframe\">\n",
       "  <thead>\n",
       "    <tr style=\"text-align: right;\">\n",
       "      <th></th>\n",
       "      <th>pen</th>\n",
       "      <th>HenID_Christina</th>\n",
       "      <th>HenID_Filipe</th>\n",
       "    </tr>\n",
       "  </thead>\n",
       "  <tbody>\n",
       "    <tr>\n",
       "      <th>0</th>\n",
       "      <td>1</td>\n",
       "      <td>{1, 2, 3, 4, 5, 6, 7, 8, 9, 10, 11, 12, 13, 14...</td>\n",
       "      <td>{1, 2, 3, 4, 5, 6, 7, 8, 9, 10, 11, 12, 13, 14...</td>\n",
       "    </tr>\n",
       "    <tr>\n",
       "      <th>1</th>\n",
       "      <td>2</td>\n",
       "      <td>{32, 33, 34, 35, 36, 37, 38, 39, 40, 21, 22, 2...</td>\n",
       "      <td>{64, 65, 66, 67, 68, 69, 70, 71, 72, 73, 74, 7...</td>\n",
       "    </tr>\n",
       "    <tr>\n",
       "      <th>2</th>\n",
       "      <td>3</td>\n",
       "      <td>{41, 42, 43, 44, 45, 46, 47, 48, 49, 50, 51, 5...</td>\n",
       "      <td>{32, 33, 34, 35, 36, 37, 38, 39, 40, 21, 22, 2...</td>\n",
       "    </tr>\n",
       "    <tr>\n",
       "      <th>3</th>\n",
       "      <td>4</td>\n",
       "      <td>{64, 65, 66, 67, 68, 69, 70, 71, 72, 73, 74, 7...</td>\n",
       "      <td>{96, 97, 98, 99, 100, 81, 82, 83, 84, 85, 86, ...</td>\n",
       "    </tr>\n",
       "    <tr>\n",
       "      <th>4</th>\n",
       "      <td>5</td>\n",
       "      <td>{96, 97, 98, 99, 100, 81, 82, 83, 84, 85, 86, ...</td>\n",
       "      <td>{41, 42, 43, 44, 45, 46, 47, 48, 49, 50, 51, 5...</td>\n",
       "    </tr>\n",
       "    <tr>\n",
       "      <th>5</th>\n",
       "      <td>6</td>\n",
       "      <td>{101, 102, 103, 104, 105, 106, 107, 108, 109, ...</td>\n",
       "      <td>{101, 102, 103, 104, 105, 106, 107, 108, 109, ...</td>\n",
       "    </tr>\n",
       "  </tbody>\n",
       "</table>\n",
       "</div>"
      ],
      "text/plain": [
       "   pen                                    HenID_Christina  \\\n",
       "0    1  {1, 2, 3, 4, 5, 6, 7, 8, 9, 10, 11, 12, 13, 14...   \n",
       "1    2  {32, 33, 34, 35, 36, 37, 38, 39, 40, 21, 22, 2...   \n",
       "2    3  {41, 42, 43, 44, 45, 46, 47, 48, 49, 50, 51, 5...   \n",
       "3    4  {64, 65, 66, 67, 68, 69, 70, 71, 72, 73, 74, 7...   \n",
       "4    5  {96, 97, 98, 99, 100, 81, 82, 83, 84, 85, 86, ...   \n",
       "5    6  {101, 102, 103, 104, 105, 106, 107, 108, 109, ...   \n",
       "\n",
       "                                        HenID_Filipe  \n",
       "0  {1, 2, 3, 4, 5, 6, 7, 8, 9, 10, 11, 12, 13, 14...  \n",
       "1  {64, 65, 66, 67, 68, 69, 70, 71, 72, 73, 74, 7...  \n",
       "2  {32, 33, 34, 35, 36, 37, 38, 39, 40, 21, 22, 2...  \n",
       "3  {96, 97, 98, 99, 100, 81, 82, 83, 84, 85, 86, ...  \n",
       "4  {41, 42, 43, 44, 45, 46, 47, 48, 49, 50, 51, 5...  \n",
       "5  {101, 102, 103, 104, 105, 106, 107, 108, 109, ...  "
      ]
     },
     "execution_count": 123,
     "metadata": {},
     "output_type": "execute_result"
    }
   ],
   "source": [
    "p = r'C:\\Users\\camil\\Desktop\\animals_code\\AVIFORUM\\data\\initial_data_mobility'\n",
    "df_fractures = pd.read_csv(os.path.join(p,'Mo_fractures_orig.csv'), sep=';')  #parse_dates=['date']\n",
    "df_test = df_fractures.groupby(['pen'])[['HenID_Christina','HenID_Filipe']].agg(lambda x: set(x)).reset_index()\n",
    "df_test.to_csv(os.path.join(path_extracted_data,'verification','df_verification_pen_hen_link_Mo_fractures_orig.csv'), \n",
    "               index=False, sep=';')\n",
    "df_test"
   ]
  },
  {
   "cell_type": "code",
   "execution_count": null,
   "metadata": {},
   "outputs": [],
   "source": []
  },
  {
   "cell_type": "code",
   "execution_count": null,
   "metadata": {},
   "outputs": [],
   "source": []
  },
  {
   "cell_type": "code",
   "execution_count": null,
   "metadata": {},
   "outputs": [],
   "source": []
  },
  {
   "cell_type": "code",
   "execution_count": null,
   "metadata": {},
   "outputs": [],
   "source": []
  },
  {
   "cell_type": "code",
   "execution_count": null,
   "metadata": {},
   "outputs": [],
   "source": []
  },
  {
   "cell_type": "code",
   "execution_count": null,
   "metadata": {},
   "outputs": [],
   "source": []
  },
  {
   "cell_type": "code",
   "execution_count": null,
   "metadata": {},
   "outputs": [],
   "source": []
  }
 ],
 "metadata": {
  "kernelspec": {
   "display_name": "Python 3",
   "language": "python",
   "name": "python3"
  },
  "language_info": {
   "codemirror_mode": {
    "name": "ipython",
    "version": 3
   },
   "file_extension": ".py",
   "mimetype": "text/x-python",
   "name": "python",
   "nbconvert_exporter": "python",
   "pygments_lexer": "ipython3",
   "version": "3.6.4"
  }
 },
 "nbformat": 4,
 "nbformat_minor": 2
}
