{
 "cells": [
  {
   "cell_type": "raw",
   "metadata": {},
   "source": [
    "R vs python\n",
    "R is mainly used for statistical analysis while Python provides a more general approach to data science\n",
    "Python is a general-purpose language with a readable syntax\n",
    "data structure: In Python, there are scalars, arrays and lists, and dictionaries (and many others). In R, there are no scalars, just vectors of length one.\n",
    "\n",
    "https://www.quora.com/How-does-R-compare-with-pandas\n",
    "better in python: list comprehension, pandas,...\n",
    "\n",
    "for programing examples\n",
    "https://towardsdatascience.com/cheat-sheet-for-python-dataframe-r-dataframe-syntax-conversions-450f656b44ca"
   ]
  },
  {
   "cell_type": "code",
   "execution_count": 1,
   "metadata": {},
   "outputs": [
    {
     "data": {
      "text/plain": [
       "R version 3.6.3 (2020-02-29)\n",
       "Platform: x86_64-w64-mingw32/x64 (64-bit)\n",
       "Running under: Windows 10 x64 (build 18363)\n",
       "\n",
       "Matrix products: default\n",
       "\n",
       "locale:\n",
       "[1] LC_COLLATE=French_Switzerland.1252  LC_CTYPE=French_Switzerland.1252   \n",
       "[3] LC_MONETARY=French_Switzerland.1252 LC_NUMERIC=C                       \n",
       "[5] LC_TIME=French_Switzerland.1252    \n",
       "\n",
       "attached base packages:\n",
       "[1] stats     graphics  grDevices utils     datasets  methods   base     \n",
       "\n",
       "loaded via a namespace (and not attached):\n",
       " [1] compiler_3.6.3  IRdisplay_0.7.0 pbdZMQ_0.3-3    tools_3.6.3    \n",
       " [5] htmltools_0.3.6 base64enc_0.1-3 crayon_1.3.4    Rcpp_1.0.1     \n",
       " [9] uuid_0.1-2      IRkernel_1.1.1  jsonlite_1.6    digest_0.6.18  \n",
       "[13] repr_0.19.2     evaluate_0.13  "
      ]
     },
     "metadata": {},
     "output_type": "display_data"
    }
   ],
   "source": [
    "sessionInfo()"
   ]
  },
  {
   "cell_type": "code",
   "execution_count": 2,
   "metadata": {},
   "outputs": [
    {
     "data": {
      "text/plain": [
       "\n",
       "To cite package 'DHARMa' in publications use:\n",
       "\n",
       "  Florian Hartig (2020). DHARMa: Residual Diagnostics for Hierarchical\n",
       "  (Multi-Level / Mixed) Regression Models. R package version 0.3.3.0.\n",
       "  https://CRAN.R-project.org/package=DHARMa\n",
       "\n",
       "A BibTeX entry for LaTeX users is\n",
       "\n",
       "  @Manual{,\n",
       "    title = {DHARMa: Residual Diagnostics for Hierarchical (Multi-Level / Mixed)\n",
       "Regression Models},\n",
       "    author = {Florian Hartig},\n",
       "    year = {2020},\n",
       "    note = {R package version 0.3.3.0},\n",
       "    url = {https://CRAN.R-project.org/package=DHARMa},\n",
       "  }\n"
      ]
     },
     "metadata": {},
     "output_type": "display_data"
    }
   ],
   "source": [
    "citation(\"DHARMa\")"
   ]
  },
  {
   "cell_type": "code",
   "execution_count": 4,
   "metadata": {},
   "outputs": [
    {
     "name": "stderr",
     "output_type": "stream",
     "text": [
      "Installing package into 'C:/Users/camil/Documents/R/win-library/4.0'\n",
      "(as 'lib' is unspecified)\n",
      "\n",
      "also installing the dependencies 'desc', 'pkgbuild', 'rprojroot', 'pkgload', 'praise', 'colorspace', 'sys', 'ps', 'highr', 'markdown', 'testthat', 'farver', 'labeling', 'munsell', 'RColorBrewer', 'viridisLite', 'askpass', 'rematch', 'prettyunits', 'processx', 'knitr', 'yaml', 'tinytex', 'xfun', 'backports', 'DBI', 'blob', 'gtable', 'isoband', 'scales', 'withr', 'curl', 'mime', 'openssl', 'clipr', 'BH', 'cellranger', 'progress', 'callr', 'fs', 'rmarkdown', 'whisker', 'selectr', 'stringi', 'cpp11', 'broom', 'dbplyr', 'forcats', 'ggplot2', 'haven', 'hms', 'httr', 'modelr', 'readr', 'readxl', 'reprex', 'rstudioapi', 'rvest', 'stringr', 'tidyr', 'xml2'\n",
      "\n",
      "\n"
     ]
    },
    {
     "name": "stdout",
     "output_type": "stream",
     "text": [
      "\n",
      "  There is a binary version available but the source version is later:\n",
      "          binary source needs_compilation\n",
      "backports  1.1.7  1.1.8              TRUE\n",
      "\n",
      "  Binaries will be installed\n",
      "package 'desc' successfully unpacked and MD5 sums checked\n",
      "package 'pkgbuild' successfully unpacked and MD5 sums checked\n",
      "package 'rprojroot' successfully unpacked and MD5 sums checked\n",
      "package 'pkgload' successfully unpacked and MD5 sums checked\n",
      "package 'praise' successfully unpacked and MD5 sums checked\n",
      "package 'colorspace' successfully unpacked and MD5 sums checked\n",
      "package 'sys' successfully unpacked and MD5 sums checked\n",
      "package 'ps' successfully unpacked and MD5 sums checked\n",
      "package 'highr' successfully unpacked and MD5 sums checked\n",
      "package 'markdown' successfully unpacked and MD5 sums checked\n",
      "package 'testthat' successfully unpacked and MD5 sums checked\n",
      "package 'farver' successfully unpacked and MD5 sums checked\n",
      "package 'labeling' successfully unpacked and MD5 sums checked\n",
      "package 'munsell' successfully unpacked and MD5 sums checked\n",
      "package 'RColorBrewer' successfully unpacked and MD5 sums checked\n",
      "package 'viridisLite' successfully unpacked and MD5 sums checked\n",
      "package 'askpass' successfully unpacked and MD5 sums checked\n",
      "package 'rematch' successfully unpacked and MD5 sums checked\n",
      "package 'prettyunits' successfully unpacked and MD5 sums checked\n",
      "package 'processx' successfully unpacked and MD5 sums checked\n",
      "package 'knitr' successfully unpacked and MD5 sums checked\n",
      "package 'yaml' successfully unpacked and MD5 sums checked\n",
      "package 'tinytex' successfully unpacked and MD5 sums checked\n",
      "package 'xfun' successfully unpacked and MD5 sums checked\n",
      "package 'backports' successfully unpacked and MD5 sums checked\n",
      "package 'DBI' successfully unpacked and MD5 sums checked\n",
      "package 'blob' successfully unpacked and MD5 sums checked\n",
      "package 'gtable' successfully unpacked and MD5 sums checked\n",
      "package 'isoband' successfully unpacked and MD5 sums checked\n",
      "package 'scales' successfully unpacked and MD5 sums checked\n",
      "package 'withr' successfully unpacked and MD5 sums checked\n",
      "package 'curl' successfully unpacked and MD5 sums checked\n",
      "package 'mime' successfully unpacked and MD5 sums checked\n",
      "package 'openssl' successfully unpacked and MD5 sums checked\n",
      "package 'clipr' successfully unpacked and MD5 sums checked\n",
      "package 'BH' successfully unpacked and MD5 sums checked\n",
      "package 'cellranger' successfully unpacked and MD5 sums checked\n",
      "package 'progress' successfully unpacked and MD5 sums checked\n",
      "package 'callr' successfully unpacked and MD5 sums checked\n",
      "package 'fs' successfully unpacked and MD5 sums checked\n",
      "package 'rmarkdown' successfully unpacked and MD5 sums checked\n",
      "package 'whisker' successfully unpacked and MD5 sums checked\n",
      "package 'selectr' successfully unpacked and MD5 sums checked\n",
      "package 'stringi' successfully unpacked and MD5 sums checked\n",
      "package 'cpp11' successfully unpacked and MD5 sums checked\n",
      "package 'broom' successfully unpacked and MD5 sums checked\n",
      "package 'dbplyr' successfully unpacked and MD5 sums checked\n",
      "package 'forcats' successfully unpacked and MD5 sums checked\n",
      "package 'ggplot2' successfully unpacked and MD5 sums checked\n",
      "package 'haven' successfully unpacked and MD5 sums checked\n",
      "package 'hms' successfully unpacked and MD5 sums checked\n",
      "package 'httr' successfully unpacked and MD5 sums checked\n",
      "package 'modelr' successfully unpacked and MD5 sums checked\n",
      "package 'readr' successfully unpacked and MD5 sums checked\n",
      "package 'readxl' successfully unpacked and MD5 sums checked\n",
      "package 'reprex' successfully unpacked and MD5 sums checked\n",
      "package 'rstudioapi' successfully unpacked and MD5 sums checked\n",
      "package 'rvest' successfully unpacked and MD5 sums checked\n",
      "package 'stringr' successfully unpacked and MD5 sums checked\n",
      "package 'tidyr' successfully unpacked and MD5 sums checked\n",
      "package 'xml2' successfully unpacked and MD5 sums checked\n",
      "package 'tidyverse' successfully unpacked and MD5 sums checked\n",
      "\n",
      "The downloaded binary packages are in\n",
      "\tC:\\Users\\Public\\Documents\\Wondershare\\CreatorTemp\\Rtmps5fzWO\\downloaded_packages\n"
     ]
    },
    {
     "name": "stderr",
     "output_type": "stream",
     "text": [
      "-- \u001b[1mAttaching packages\u001b[22m --------------------------------------- tidyverse 1.3.0 --\n",
      "\n",
      "\u001b[32mv\u001b[39m \u001b[34mggplot2\u001b[39m 3.3.2     \u001b[32mv\u001b[39m \u001b[34mpurrr  \u001b[39m 0.3.4\n",
      "\u001b[32mv\u001b[39m \u001b[34mtibble \u001b[39m 3.0.3     \u001b[32mv\u001b[39m \u001b[34mstringr\u001b[39m 1.4.0\n",
      "\u001b[32mv\u001b[39m \u001b[34mtidyr  \u001b[39m 1.1.1     \u001b[32mv\u001b[39m \u001b[34mforcats\u001b[39m 0.5.0\n",
      "\u001b[32mv\u001b[39m \u001b[34mreadr  \u001b[39m 1.3.1     \n",
      "\n",
      "-- \u001b[1mConflicts\u001b[22m ------------------------------------------ tidyverse_conflicts() --\n",
      "\u001b[31mx\u001b[39m \u001b[34mlubridate\u001b[39m::\u001b[32mas.difftime()\u001b[39m masks \u001b[34mbase\u001b[39m::as.difftime()\n",
      "\u001b[31mx\u001b[39m \u001b[34mlubridate\u001b[39m::\u001b[32mdate()\u001b[39m        masks \u001b[34mbase\u001b[39m::date()\n",
      "\u001b[31mx\u001b[39m \u001b[34mdplyr\u001b[39m::\u001b[32mfilter()\u001b[39m          masks \u001b[34mstats\u001b[39m::filter()\n",
      "\u001b[31mx\u001b[39m \u001b[34mlubridate\u001b[39m::\u001b[32mintersect()\u001b[39m   masks \u001b[34mbase\u001b[39m::intersect()\n",
      "\u001b[31mx\u001b[39m \u001b[34mdplyr\u001b[39m::\u001b[32mlag()\u001b[39m             masks \u001b[34mstats\u001b[39m::lag()\n",
      "\u001b[31mx\u001b[39m \u001b[34mlubridate\u001b[39m::\u001b[32msetdiff()\u001b[39m     masks \u001b[34mbase\u001b[39m::setdiff()\n",
      "\u001b[31mx\u001b[39m \u001b[34mlubridate\u001b[39m::\u001b[32munion()\u001b[39m       masks \u001b[34mbase\u001b[39m::union()\n",
      "\n",
      "Loading required package: lpSolve\n",
      "\n"
     ]
    },
    {
     "data": {
      "text/html": [
       "<table>\n",
       "<caption>A matrix: 16114 × 17 of type chr</caption>\n",
       "<thead>\n",
       "\t<tr><th></th><th scope=col>Package</th><th scope=col>Version</th><th scope=col>Priority</th><th scope=col>Depends</th><th scope=col>Imports</th><th scope=col>LinkingTo</th><th scope=col>Suggests</th><th scope=col>Enhances</th><th scope=col>License</th><th scope=col>License_is_FOSS</th><th scope=col>License_restricts_use</th><th scope=col>OS_type</th><th scope=col>Archs</th><th scope=col>MD5sum</th><th scope=col>NeedsCompilation</th><th scope=col>File</th><th scope=col>Repository</th></tr>\n",
       "</thead>\n",
       "<tbody>\n",
       "\t<tr><th scope=row>A3</th><td><span style=white-space:pre-wrap>A3           </span></td><td>1.0.0 </td><td>NA</td><td><span style=white-space:pre-wrap>R (&gt;= 2.15.0), xtable, pbapply                     </span></td><td><span style=white-space:pre-wrap>NA                                                                                                                                                                 </span></td><td><span style=white-space:pre-wrap>NA                 </span></td><td><span style=white-space:pre-wrap>randomForest, e1071                          </span></td><td>NA</td><td><span style=white-space:pre-wrap>GPL (&gt;= 2)        </span></td><td>NA</td><td>NA</td><td>NA</td><td>NA</td><td>027ebdd8affce8f0effaecfcd5f5ade2</td><td>no </td><td>NA</td><td>https://cran.r-project.org/src/contrib</td></tr>\n",
       "\t<tr><th scope=row>aaSEA</th><td><span style=white-space:pre-wrap>aaSEA        </span></td><td>1.1.0 </td><td>NA</td><td><span style=white-space:pre-wrap>R(&gt;= 3.4.0)                                        </span></td><td>DT(&gt;= 0.4), networkD3(&gt;= 0.4), shiny(&gt;= 1.0.5),\n",
       "shinydashboard(&gt;= 0.7.0), magrittr(&gt;= 1.5), Bios2cor(&gt;= 2.0),\n",
       "seqinr(&gt;= 3.4-5), plotly(&gt;= 4.7.1), Hmisc(&gt;= 4.1-1)</td><td><span style=white-space:pre-wrap>NA                 </span></td><td><span style=white-space:pre-wrap>knitr, rmarkdown                             </span></td><td>NA</td><td><span style=white-space:pre-wrap>GPL-3             </span></td><td>NA</td><td>NA</td><td>NA</td><td>NA</td><td>0f9aaefc1f1cf18b6167f85dab3180d8</td><td>no </td><td>NA</td><td>https://cran.r-project.org/src/contrib</td></tr>\n",
       "\t<tr><th scope=row>AATtools</th><td><span style=white-space:pre-wrap>AATtools     </span></td><td>0.0.1 </td><td>NA</td><td><span style=white-space:pre-wrap>R (&gt;= 3.6.0)                                       </span></td><td><span style=white-space:pre-wrap>magrittr, dplyr, doParallel, foreach                                                                                                                               </span></td><td><span style=white-space:pre-wrap>NA                 </span></td><td><span style=white-space:pre-wrap>NA                                           </span></td><td>NA</td><td><span style=white-space:pre-wrap>GPL-3             </span></td><td>NA</td><td>NA</td><td>NA</td><td>NA</td><td>3bd92dbd94573afb17ebc5eab23473cb</td><td>no </td><td>NA</td><td>https://cran.r-project.org/src/contrib</td></tr>\n",
       "\t<tr><th scope=row>ABACUS</th><td><span style=white-space:pre-wrap>ABACUS       </span></td><td>1.0.0 </td><td>NA</td><td><span style=white-space:pre-wrap>R (&gt;= 3.1.0)                                       </span></td><td><span style=white-space:pre-wrap>ggplot2 (&gt;= 3.1.0), shiny (&gt;= 1.3.1),                                                                                                                              </span></td><td><span style=white-space:pre-wrap>NA                 </span></td><td><span style=white-space:pre-wrap>rmarkdown (&gt;= 1.13), knitr (&gt;= 1.22)         </span></td><td>NA</td><td><span style=white-space:pre-wrap>GPL-3             </span></td><td>NA</td><td>NA</td><td>NA</td><td>NA</td><td>50c54c4da09307cb95a70aaaa54b9fbd</td><td>no </td><td>NA</td><td>https://cran.r-project.org/src/contrib</td></tr>\n",
       "\t<tr><th scope=row>abbyyR</th><td><span style=white-space:pre-wrap>abbyyR       </span></td><td>0.5.5 </td><td>NA</td><td><span style=white-space:pre-wrap>R (&gt;= 3.2.0)                                       </span></td><td><span style=white-space:pre-wrap>httr, XML, curl, readr, plyr, progress                                                                                                                             </span></td><td><span style=white-space:pre-wrap>NA                 </span></td><td><span style=white-space:pre-wrap>testthat, rmarkdown, knitr (&gt;= 1.11), lintr  </span></td><td>NA</td><td>MIT + file LICENSE</td><td>NA</td><td>NA</td><td>NA</td><td>NA</td><td>e048a3bca6ea32126e6c367415c0bfaf</td><td>no </td><td>NA</td><td>https://cran.r-project.org/src/contrib</td></tr>\n",
       "\t<tr><th scope=row>abc</th><td><span style=white-space:pre-wrap>abc          </span></td><td><span style=white-space:pre-wrap>2.1   </span></td><td>NA</td><td>R (&gt;= 2.10), abc.data, nnet, quantreg, MASS, locfit</td><td><span style=white-space:pre-wrap>NA                                                                                                                                                                 </span></td><td><span style=white-space:pre-wrap>NA                 </span></td><td><span style=white-space:pre-wrap>NA                                           </span></td><td>NA</td><td><span style=white-space:pre-wrap>GPL (&gt;= 3)        </span></td><td>NA</td><td>NA</td><td>NA</td><td>NA</td><td>c9fffe4334c178917f762735aba59653</td><td>no </td><td>NA</td><td>https://cran.r-project.org/src/contrib</td></tr>\n",
       "\t<tr><th scope=row>abc.data</th><td><span style=white-space:pre-wrap>abc.data     </span></td><td><span style=white-space:pre-wrap>1.0   </span></td><td>NA</td><td><span style=white-space:pre-wrap>R (&gt;= 2.10)                                        </span></td><td><span style=white-space:pre-wrap>NA                                                                                                                                                                 </span></td><td><span style=white-space:pre-wrap>NA                 </span></td><td><span style=white-space:pre-wrap>NA                                           </span></td><td>NA</td><td><span style=white-space:pre-wrap>GPL (&gt;= 3)        </span></td><td>NA</td><td>NA</td><td>NA</td><td>NA</td><td>799079dbbdd0cfc9d9c61c3e35241806</td><td>no </td><td>NA</td><td>https://cran.r-project.org/src/contrib</td></tr>\n",
       "\t<tr><th scope=row>ABC.RAP</th><td><span style=white-space:pre-wrap>ABC.RAP      </span></td><td>0.9.0 </td><td>NA</td><td><span style=white-space:pre-wrap>R (&gt;= 3.1.0)                                       </span></td><td><span style=white-space:pre-wrap>graphics, stats, utils                                                                                                                                             </span></td><td><span style=white-space:pre-wrap>NA                 </span></td><td><span style=white-space:pre-wrap>knitr, rmarkdown                             </span></td><td>NA</td><td><span style=white-space:pre-wrap>GPL-3             </span></td><td>NA</td><td>NA</td><td>NA</td><td>NA</td><td>38c65a7251d28ef2462ee430ded95700</td><td>no </td><td>NA</td><td>https://cran.r-project.org/src/contrib</td></tr>\n",
       "\t<tr><th scope=row>abcADM</th><td><span style=white-space:pre-wrap>abcADM       </span></td><td><span style=white-space:pre-wrap>1.0   </span></td><td>NA</td><td><span style=white-space:pre-wrap>NA                                                 </span></td><td><span style=white-space:pre-wrap>Rcpp (&gt;= 1.0.1)                                                                                                                                                    </span></td><td><span style=white-space:pre-wrap>Rcpp, BH           </span></td><td><span style=white-space:pre-wrap>NA                                           </span></td><td>NA</td><td><span style=white-space:pre-wrap>GPL-3             </span></td><td>NA</td><td>NA</td><td>NA</td><td>NA</td><td>8134f67912b506194e3dab4ccd6e75f7</td><td>yes</td><td>NA</td><td>https://cran.r-project.org/src/contrib</td></tr>\n",
       "\t<tr><th scope=row>ABCanalysis</th><td><span style=white-space:pre-wrap>ABCanalysis  </span></td><td>1.2.1 </td><td>NA</td><td><span style=white-space:pre-wrap>R (&gt;= 2.10)                                        </span></td><td><span style=white-space:pre-wrap>plotrix                                                                                                                                                            </span></td><td><span style=white-space:pre-wrap>NA                 </span></td><td><span style=white-space:pre-wrap>NA                                           </span></td><td>NA</td><td><span style=white-space:pre-wrap>GPL-3             </span></td><td>NA</td><td>NA</td><td>NA</td><td>NA</td><td>678e03837e25a922bf71bafe1f8de617</td><td>no </td><td>NA</td><td>https://cran.r-project.org/src/contrib</td></tr>\n",
       "\t<tr><th scope=row>abcdeFBA</th><td><span style=white-space:pre-wrap>abcdeFBA     </span></td><td><span style=white-space:pre-wrap>0.4   </span></td><td>NA</td><td><span style=white-space:pre-wrap>Rglpk,rgl,corrplot,lattice,R (&gt;= 2.10)             </span></td><td><span style=white-space:pre-wrap>NA                                                                                                                                                                 </span></td><td><span style=white-space:pre-wrap>NA                 </span></td><td><span style=white-space:pre-wrap>LIM,sybil                                    </span></td><td>NA</td><td><span style=white-space:pre-wrap>GPL-2             </span></td><td>NA</td><td>NA</td><td>NA</td><td>NA</td><td>c84d45a85d8ab6bbe517365e8845db83</td><td>no </td><td>NA</td><td>https://cran.r-project.org/src/contrib</td></tr>\n",
       "\t<tr><th scope=row>ABCoptim</th><td>ABCoptim     </td><td>0.15.0</td><td>NA</td><td>NA                                                 </td><td>Rcpp, graphics, stats, utils                                                                                                                                       </td><td>Rcpp               </td><td>testthat, covr                               </td><td>NA</td><td>MIT + file LICENSE</td><td>NA</td><td>NA</td><td>NA</td><td>NA</td><td>a62ed03650273c09899655065437078f</td><td>yes</td><td>NA</td><td>https://cran.r-project.org/src/contrib</td></tr>\n",
       "\t<tr><th scope=row>ABCp2</th><td>ABCp2        </td><td>1.2   </td><td>NA</td><td>MASS                                               </td><td>NA                                                                                                                                                                 </td><td>NA                 </td><td>NA                                           </td><td>NA</td><td>GPL-2             </td><td>NA</td><td>NA</td><td>NA</td><td>NA</td><td>e920282d5a369df71e15241be40cb60e</td><td>no </td><td>NA</td><td>https://cran.r-project.org/src/contrib</td></tr>\n",
       "\t<tr><th scope=row>abcrf</th><td><span style=white-space:pre-wrap>abcrf        </span></td><td>1.8.1 </td><td>NA</td><td><span style=white-space:pre-wrap>R(&gt;= 3.1)                                          </span></td><td><span style=white-space:pre-wrap>readr, MASS, matrixStats, ranger, doParallel, parallel,\n",
       "foreach, stringr, Rcpp (&gt;= 0.11.2)                                                                        </span></td><td>Rcpp, RcppArmadillo</td><td><span style=white-space:pre-wrap>NA                                           </span></td><td>NA</td><td><span style=white-space:pre-wrap>GPL (&gt;= 2)        </span></td><td>NA</td><td>NA</td><td>NA</td><td>NA</td><td>4d5a304f46d117226791523cef4e2427</td><td>yes</td><td>NA</td><td>https://cran.r-project.org/src/contrib</td></tr>\n",
       "\t<tr><th scope=row>abcrlda</th><td>abcrlda      </td><td>1.0.3 </td><td>NA</td><td>NA                                                 </td><td>stats                                                                                                                                                              </td><td>NA                 </td><td>NA                                           </td><td>NA</td><td>GPL-3             </td><td>NA</td><td>NA</td><td>NA</td><td>NA</td><td>651e6e18e08916b443aaf011b5a63525</td><td>no </td><td>NA</td><td>https://cran.r-project.org/src/contrib</td></tr>\n",
       "\t<tr><th scope=row>abctools</th><td><span style=white-space:pre-wrap>abctools     </span></td><td>1.1.3 </td><td>NA</td><td><span style=white-space:pre-wrap>R (&gt;= 2.10), abc, abind, parallel, plyr, Hmisc     </span></td><td><span style=white-space:pre-wrap>NA                                                                                                                                                                 </span></td><td><span style=white-space:pre-wrap>NA                 </span></td><td><span style=white-space:pre-wrap>ggplot2, abc.data                            </span></td><td>NA</td><td><span style=white-space:pre-wrap>GPL (&gt;= 2)        </span></td><td>NA</td><td>NA</td><td>NA</td><td>NA</td><td>c5937b65837ef7e6bfbe141cea257f40</td><td>yes</td><td>NA</td><td>https://cran.r-project.org/src/contrib</td></tr>\n",
       "\t<tr><th scope=row>abd</th><td><span style=white-space:pre-wrap>abd          </span></td><td>0.2-8 </td><td>NA</td><td><span style=white-space:pre-wrap>R (&gt;= 3.0), nlme, lattice, grid, mosaic            </span></td><td><span style=white-space:pre-wrap>NA                                                                                                                                                                 </span></td><td><span style=white-space:pre-wrap>NA                 </span></td><td>boot, car, ggplot2, plyr, HH, ICC, vcd, Hmisc</td><td>NA</td><td><span style=white-space:pre-wrap>GPL-2             </span></td><td>NA</td><td>NA</td><td>NA</td><td>NA</td><td>1913d76a0fbc44222709381f63f385b9</td><td>no </td><td>NA</td><td>https://cran.r-project.org/src/contrib</td></tr>\n",
       "\t<tr><th scope=row>abdiv</th><td><span style=white-space:pre-wrap>abdiv        </span></td><td>0.2.0 </td><td>NA</td><td><span style=white-space:pre-wrap>NA                                                 </span></td><td><span style=white-space:pre-wrap>ape                                                                                                                                                                </span></td><td><span style=white-space:pre-wrap>NA                 </span></td><td><span style=white-space:pre-wrap>testthat (&gt;= 2.1.0), vegan                   </span></td><td>NA</td><td>MIT + file LICENSE</td><td>NA</td><td>NA</td><td>NA</td><td>NA</td><td>80931c0ca85ba5386000bf617552c5ce</td><td>no </td><td>NA</td><td>https://cran.r-project.org/src/contrib</td></tr>\n",
       "\t<tr><th scope=row>abe</th><td><span style=white-space:pre-wrap>abe          </span></td><td>3.0.1 </td><td>NA</td><td><span style=white-space:pre-wrap>NA                                                 </span></td><td><span style=white-space:pre-wrap>NA                                                                                                                                                                 </span></td><td><span style=white-space:pre-wrap>NA                 </span></td><td><span style=white-space:pre-wrap>NA                                           </span></td><td>NA</td><td><span style=white-space:pre-wrap>GPL (&gt;= 2)        </span></td><td>NA</td><td>NA</td><td>NA</td><td>NA</td><td>9c151db5397422c8927dee41dabfbfab</td><td>no </td><td>NA</td><td>https://cran.r-project.org/src/contrib</td></tr>\n",
       "\t<tr><th scope=row>abf2</th><td>abf2         </td><td>0.7-1 </td><td>NA</td><td>NA                                                 </td><td>NA                                                                                                                                                                 </td><td>NA                 </td><td>NA                                           </td><td>NA</td><td>Artistic-2.0      </td><td>NA</td><td>NA</td><td>NA</td><td>NA</td><td>6792a51c6fb3e239165d69aa8a71d3cd</td><td>no </td><td>NA</td><td>https://cran.r-project.org/src/contrib</td></tr>\n",
       "\t<tr><th scope=row>ABHgenotypeR</th><td>ABHgenotypeR </td><td>1.0.1 </td><td>NA</td><td>NA                                                 </td><td>ggplot2, reshape2, utils                                                                                                                                           </td><td>NA                 </td><td>knitr, rmarkdown                             </td><td>NA</td><td>GPL-3             </td><td>NA</td><td>NA</td><td>NA</td><td>NA</td><td>ca4397ba7390c0e0a3728c0cda864494</td><td>no </td><td>NA</td><td>https://cran.r-project.org/src/contrib</td></tr>\n",
       "\t<tr><th scope=row>abind</th><td><span style=white-space:pre-wrap>abind        </span></td><td>1.4-5 </td><td>NA</td><td><span style=white-space:pre-wrap>R (&gt;= 1.5.0)                                       </span></td><td><span style=white-space:pre-wrap>methods, utils                                                                                                                                                     </span></td><td><span style=white-space:pre-wrap>NA                 </span></td><td><span style=white-space:pre-wrap>NA                                           </span></td><td>NA</td><td><span style=white-space:pre-wrap>LGPL (&gt;= 2)       </span></td><td>NA</td><td>NA</td><td>NA</td><td>NA</td><td>136f981e1c4f618b64a87faaa7797c97</td><td>no </td><td>NA</td><td>https://cran.r-project.org/src/contrib</td></tr>\n",
       "\t<tr><th scope=row>abjutils</th><td><span style=white-space:pre-wrap>abjutils     </span></td><td>0.3.1 </td><td>NA</td><td><span style=white-space:pre-wrap>R (&gt;= 4.0)                                         </span></td><td><span style=white-space:pre-wrap>dplyr, magrittr, purrr, rlang, rstudioapi, stringi, stringr,\n",
       "tidyr                                                                                                </span></td><td><span style=white-space:pre-wrap>NA                 </span></td><td><span style=white-space:pre-wrap>testthat                                     </span></td><td>NA</td><td>MIT + file LICENSE</td><td>NA</td><td>NA</td><td>NA</td><td>NA</td><td>a596c07aaa7f82e5d123b2f7354e5b55</td><td>no </td><td>NA</td><td>https://cran.r-project.org/src/contrib</td></tr>\n",
       "\t<tr><th scope=row>abnormality</th><td><span style=white-space:pre-wrap>abnormality  </span></td><td>0.1.0 </td><td>NA</td><td><span style=white-space:pre-wrap>NA                                                 </span></td><td><span style=white-space:pre-wrap>MASS (&gt;= 7.3.0), Matrix                                                                                                                                            </span></td><td><span style=white-space:pre-wrap>NA                 </span></td><td><span style=white-space:pre-wrap>NA                                           </span></td><td>NA</td><td>MIT + file LICENSE</td><td>NA</td><td>NA</td><td>NA</td><td>NA</td><td>da052e7d38d02c5c050e7879f2713345</td><td>no </td><td>NA</td><td>https://cran.r-project.org/src/contrib</td></tr>\n",
       "\t<tr><th scope=row>abodOutlier</th><td><span style=white-space:pre-wrap>abodOutlier  </span></td><td><span style=white-space:pre-wrap>0.1   </span></td><td>NA</td><td><span style=white-space:pre-wrap>cluster, R (&gt;= 3.1.2)                              </span></td><td><span style=white-space:pre-wrap>NA                                                                                                                                                                 </span></td><td><span style=white-space:pre-wrap>NA                 </span></td><td><span style=white-space:pre-wrap>NA                                           </span></td><td>NA</td><td>MIT + file LICENSE</td><td>NA</td><td>NA</td><td>NA</td><td>NA</td><td>e3782e42842fc893d036bdfb7fd86d91</td><td>no </td><td>NA</td><td>https://cran.r-project.org/src/contrib</td></tr>\n",
       "\t<tr><th scope=row>ABPS</th><td><span style=white-space:pre-wrap>ABPS         </span></td><td><span style=white-space:pre-wrap>0.3   </span></td><td>NA</td><td><span style=white-space:pre-wrap>NA                                                 </span></td><td><span style=white-space:pre-wrap>kernlab                                                                                                                                                            </span></td><td><span style=white-space:pre-wrap>NA                 </span></td><td><span style=white-space:pre-wrap>testthat                                     </span></td><td>NA</td><td><span style=white-space:pre-wrap>GPL (&gt;= 2)        </span></td><td>NA</td><td>NA</td><td>NA</td><td>NA</td><td>2f09a946652530e319d433d7f0362be8</td><td>no </td><td>NA</td><td>https://cran.r-project.org/src/contrib</td></tr>\n",
       "\t<tr><th scope=row>AbsFilterGSEA</th><td>AbsFilterGSEA</td><td>1.5.1 </td><td>NA</td><td>NA                                                 </td><td>Rcpp, Biobase, stats, DESeq, limma                                                                                                                                 </td><td>Rcpp, RcppArmadillo</td><td>NA                                           </td><td>NA</td><td>GPL-2             </td><td>NA</td><td>NA</td><td>NA</td><td>NA</td><td>a747572417e9738d1566061e785cfd5f</td><td>yes</td><td>NA</td><td>https://cran.r-project.org/src/contrib</td></tr>\n",
       "\t<tr><th scope=row>AbSim</th><td><span style=white-space:pre-wrap>AbSim        </span></td><td>0.2.6 </td><td>NA</td><td><span style=white-space:pre-wrap>R(&gt;= 3.1.0), ape, poweRlaw                         </span></td><td><span style=white-space:pre-wrap>NA                                                                                                                                                                 </span></td><td><span style=white-space:pre-wrap>NA                 </span></td><td><span style=white-space:pre-wrap>knitr, rmarkdown                             </span></td><td>NA</td><td><span style=white-space:pre-wrap>GPL-2             </span></td><td>NA</td><td>NA</td><td>NA</td><td>NA</td><td>b31c49e56a211fee06391c7677cef511</td><td>no </td><td>NA</td><td>https://cran.r-project.org/src/contrib</td></tr>\n",
       "\t<tr><th scope=row>abstractr</th><td><span style=white-space:pre-wrap>abstractr    </span></td><td>0.1.0 </td><td>NA</td><td><span style=white-space:pre-wrap>NA                                                 </span></td><td><span style=white-space:pre-wrap>shiny (&gt;= 1.2.0), ggplot2 (&gt;= 3.0.0), gridExtra (&gt;= 2.3.0),\n",
       "colourpicker, shinythemes, emojifont, rintrojs                                                        </span></td><td><span style=white-space:pre-wrap>NA                 </span></td><td><span style=white-space:pre-wrap>knitr, rmarkdown                             </span></td><td>NA</td><td><span style=white-space:pre-wrap>GPL-3             </span></td><td>NA</td><td>NA</td><td>NA</td><td>NA</td><td>696a9da933b8bc0bb4c93bedc2aa876b</td><td>no </td><td>NA</td><td>https://cran.r-project.org/src/contrib</td></tr>\n",
       "\t<tr><th scope=row>abtest</th><td><span style=white-space:pre-wrap>abtest       </span></td><td>0.2.1 </td><td>NA</td><td><span style=white-space:pre-wrap>R (&gt;= 3.0.0)                                       </span></td><td><span style=white-space:pre-wrap>Rcpp (&gt;= 0.12.14), mvtnorm, sn, qgam, truncnorm, plotrix,\n",
       "grDevices, RColorBrewer, Matrix, parallel                                                               </span></td><td><span style=white-space:pre-wrap>Rcpp               </span></td><td><span style=white-space:pre-wrap>testthat                                     </span></td><td>NA</td><td><span style=white-space:pre-wrap>GPL (&gt;= 2)        </span></td><td>NA</td><td>NA</td><td>NA</td><td>NA</td><td>1d50080cf97378601538efa9b29b0fd1</td><td>yes</td><td>NA</td><td>https://cran.r-project.org/src/contrib</td></tr>\n",
       "\t<tr><th scope=row>...</th><td>...</td><td>...</td><td>...</td><td>...</td><td>...</td><td>...</td><td>...</td><td>...</td><td>...</td><td>...</td><td>...</td><td>...</td><td>...</td><td>...</td><td>...</td><td>...</td><td>...</td></tr>\n",
       "\t<tr><th scope=row>zip</th><td>zip       </td><td>2.1.0   </td><td>NA</td><td>NA                                                   </td><td>NA                                                                                                                                                                              </td><td>NA                                                                   </td><td>covr, processx, R6, testthat, withr                                                                              </td><td>NA</td><td>CC0                        </td><td>NA</td><td>NA</td><td>NA</td><td>NA</td><td>1f63f43f7047c635b8610c8b2d8b05ec</td><td>yes</td><td>NA</td><td>https://cran.r-project.org/src/contrib</td></tr>\n",
       "\t<tr><th scope=row>zipangu</th><td><span style=white-space:pre-wrap>zipangu   </span></td><td><span style=white-space:pre-wrap>0.2.1   </span></td><td>NA</td><td><span style=white-space:pre-wrap>R (&gt;= 3.2)                                           </span></td><td>dplyr (&gt;= 0.8.3), lifecycle (&gt;= 0.1.0), lubridate (&gt;= 1.7.4),\n",
       "magrittr (&gt;= 1.5), purrr (&gt;= 0.3.3), rlang (&gt;= 0.4.0), stringi\n",
       "(&gt;= 1.4.3), stringr (&gt;= 1.4.0), tibble (&gt;= 2.1.3)</td><td><span style=white-space:pre-wrap>NA                                                                   </span></td><td><span style=white-space:pre-wrap>covr (&gt;= 3.4.0), testthat (&gt;= 2.1.0)                                                                             </span></td><td>NA</td><td><span style=white-space:pre-wrap>MIT + file LICENSE         </span></td><td>NA</td><td>NA</td><td>NA</td><td>NA</td><td>bc47d70b1a15994555829a4c9f765ba2</td><td>no </td><td>NA</td><td>https://cran.r-project.org/src/contrib</td></tr>\n",
       "\t<tr><th scope=row>ZIPFA</th><td><span style=white-space:pre-wrap>ZIPFA     </span></td><td><span style=white-space:pre-wrap>0.8.1   </span></td><td>NA</td><td><span style=white-space:pre-wrap>R (&gt;= 3.2.0)                                         </span></td><td><span style=white-space:pre-wrap>Matrix, doParallel, foreach, optimx, trustOptim                                                                                                                                 </span></td><td><span style=white-space:pre-wrap>NA                                                                   </span></td><td><span style=white-space:pre-wrap>NA                                                                                                               </span></td><td>NA</td><td><span style=white-space:pre-wrap>GPL (&gt;= 2)                 </span></td><td>NA</td><td>NA</td><td>NA</td><td>NA</td><td>c8a58823de2bb217d779592f68832444</td><td>no </td><td>NA</td><td>https://cran.r-project.org/src/contrib</td></tr>\n",
       "\t<tr><th scope=row>zipfextR</th><td><span style=white-space:pre-wrap>zipfextR  </span></td><td><span style=white-space:pre-wrap>1.0.2   </span></td><td>NA</td><td><span style=white-space:pre-wrap>R (&gt;= 2.0.1)                                         </span></td><td><span style=white-space:pre-wrap>VGAM (&gt;= 0.9.8), tolerance(&gt;= 1.2.0), copula(&gt;= 0.999-18)                                                                                                                       </span></td><td><span style=white-space:pre-wrap>NA                                                                   </span></td><td><span style=white-space:pre-wrap>testthat                                                                                                         </span></td><td>NA</td><td><span style=white-space:pre-wrap>GPL-3                      </span></td><td>NA</td><td>NA</td><td>NA</td><td>NA</td><td>5ced3986629fbd390be8afca9701d981</td><td>no </td><td>NA</td><td>https://cran.r-project.org/src/contrib</td></tr>\n",
       "\t<tr><th scope=row>zipfR</th><td><span style=white-space:pre-wrap>zipfR     </span></td><td><span style=white-space:pre-wrap>0.6-66  </span></td><td>NA</td><td><span style=white-space:pre-wrap>R (&gt;= 3.0.0)                                         </span></td><td><span style=white-space:pre-wrap>methods, utils, stats, graphics, grDevices                                                                                                                                      </span></td><td><span style=white-space:pre-wrap>NA                                                                   </span></td><td><span style=white-space:pre-wrap>NA                                                                                                               </span></td><td>NA</td><td><span style=white-space:pre-wrap>GPL-3                      </span></td><td>NA</td><td>NA</td><td>NA</td><td>NA</td><td>0a19b8b35445f5eda3fc1a0a70c33ad3</td><td>no </td><td>NA</td><td>https://cran.r-project.org/src/contrib</td></tr>\n",
       "\t<tr><th scope=row>ziphsmm</th><td><span style=white-space:pre-wrap>ziphsmm   </span></td><td><span style=white-space:pre-wrap>2.0.6   </span></td><td>NA</td><td><span style=white-space:pre-wrap>R(&gt;= 3.0.0)                                          </span></td><td><span style=white-space:pre-wrap>Rcpp, pracma                                                                                                                                                                    </span></td><td><span style=white-space:pre-wrap>Rcpp, RcppArmadillo                                                  </span></td><td><span style=white-space:pre-wrap>NA                                                                                                               </span></td><td>NA</td><td><span style=white-space:pre-wrap>GPL                        </span></td><td>NA</td><td>NA</td><td>NA</td><td>NA</td><td>cc0371eb4b97c8ece1070426be106294</td><td>yes</td><td>NA</td><td>https://cran.r-project.org/src/contrib</td></tr>\n",
       "\t<tr><th scope=row>zipR</th><td><span style=white-space:pre-wrap>zipR      </span></td><td><span style=white-space:pre-wrap>0.1.1   </span></td><td>NA</td><td><span style=white-space:pre-wrap>R (&gt;= 2.1.0)                                         </span></td><td><span style=white-space:pre-wrap>NA                                                                                                                                                                              </span></td><td><span style=white-space:pre-wrap>NA                                                                   </span></td><td><span style=white-space:pre-wrap>knitr, rmarkdown, devtools                                                                                       </span></td><td>NA</td><td><span style=white-space:pre-wrap>GPL-3                      </span></td><td>NA</td><td>NA</td><td>NA</td><td>NA</td><td>cc2ca4be4624f3994ee477a8ea070d9d</td><td>no </td><td>NA</td><td>https://cran.r-project.org/src/contrib</td></tr>\n",
       "\t<tr><th scope=row>ZipRadius</th><td>ZipRadius </td><td><span style=white-space:pre-wrap>1.0.1   </span></td><td>NA</td><td><span style=white-space:pre-wrap>R (&gt;= 2.10)                                          </span></td><td><span style=white-space:pre-wrap>dplyr, geosphere, magrittr, testthat, rlang, ggplot2                                                                                                                            </span></td><td><span style=white-space:pre-wrap>NA                                                                   </span></td><td><span style=white-space:pre-wrap>knitr, rmarkdown                                                                                                 </span></td><td>NA</td><td><span style=white-space:pre-wrap>GPL (&gt;= 2)                 </span></td><td>NA</td><td>NA</td><td>NA</td><td>NA</td><td>078c93bf16ef30ab2dfeac2cbbb6255c</td><td>no </td><td>NA</td><td>https://cran.r-project.org/src/contrib</td></tr>\n",
       "\t<tr><th scope=row>zoeppritz</th><td>zoeppritz </td><td><span style=white-space:pre-wrap>1.0-7   </span></td><td>NA</td><td><span style=white-space:pre-wrap>NA                                                   </span></td><td><span style=white-space:pre-wrap>NA                                                                                                                                                                              </span></td><td><span style=white-space:pre-wrap>NA                                                                   </span></td><td><span style=white-space:pre-wrap>NA                                                                                                               </span></td><td>NA</td><td><span style=white-space:pre-wrap>GPL (&gt;= 2)                 </span></td><td>NA</td><td>NA</td><td>NA</td><td>NA</td><td>42c4722a18e73ea330f39f05f91f78ac</td><td>no </td><td>NA</td><td>https://cran.r-project.org/src/contrib</td></tr>\n",
       "\t<tr><th scope=row>zoib</th><td><span style=white-space:pre-wrap>zoib      </span></td><td><span style=white-space:pre-wrap>1.5.4   </span></td><td>NA</td><td>R (&gt;= 3.3.0), rjags, coda, matrixcalc, Formula, abind</td><td><span style=white-space:pre-wrap>NA                                                                                                                                                                              </span></td><td><span style=white-space:pre-wrap>NA                                                                   </span></td><td><span style=white-space:pre-wrap>NA                                                                                                               </span></td><td>NA</td><td><span style=white-space:pre-wrap>GPL (&gt;= 3)                 </span></td><td>NA</td><td>NA</td><td>NA</td><td>NA</td><td>c0340a16f3ee5ddb5bca9c5535f46605</td><td>no </td><td>NA</td><td>https://cran.r-project.org/src/contrib</td></tr>\n",
       "\t<tr><th scope=row>ZOIP</th><td><span style=white-space:pre-wrap>ZOIP      </span></td><td><span style=white-space:pre-wrap>0.1     </span></td><td>NA</td><td><span style=white-space:pre-wrap>R (&gt;= 3.2.0)                                         </span></td><td><span style=white-space:pre-wrap>rmutil, boot, numDeriv, GHQp, stats                                                                                                                                             </span></td><td><span style=white-space:pre-wrap>NA                                                                   </span></td><td><span style=white-space:pre-wrap>knitr, rmarkdown                                                                                                 </span></td><td>NA</td><td><span style=white-space:pre-wrap>GPL (&gt;= 2)                 </span></td><td>NA</td><td>NA</td><td>NA</td><td>NA</td><td>bc98823ad148d44f25d164617435d179</td><td>no </td><td>NA</td><td>https://cran.r-project.org/src/contrib</td></tr>\n",
       "\t<tr><th scope=row>zoltr</th><td>zoltr     </td><td>0.5.1   </td><td>NA</td><td>NA                                                   </td><td>httr, jsonlite, readr, mockery, webmockr, base64url, dplyr,\n",
       "MMWRweek, utils, rlang, magrittr                                                                                   </td><td>NA                                                                   </td><td>testthat, knitr, rmarkdown                                                                                       </td><td>NA</td><td>GPL-3                      </td><td>NA</td><td>NA</td><td>NA</td><td>NA</td><td>5ded4085dcfd841cfbe383d828d0d6d8</td><td>no </td><td>NA</td><td>https://cran.r-project.org/src/contrib</td></tr>\n",
       "\t<tr><th scope=row>zonator</th><td><span style=white-space:pre-wrap>zonator   </span></td><td><span style=white-space:pre-wrap>0.6.0   </span></td><td>NA</td><td><span style=white-space:pre-wrap>R (&gt;= 2.15.2)                                        </span></td><td><span style=white-space:pre-wrap>ggplot2 (&gt;= 2.0.0), methods, RColorBrewer, raster, reshape2,\n",
       "rgdal                                                                                                             </span></td><td><span style=white-space:pre-wrap>NA                                                                   </span></td><td><span style=white-space:pre-wrap>knitr, rasterVis, rmarkdown, testthat, zdat (&gt;= 0.1.0)                                                           </span></td><td>NA</td><td><span style=white-space:pre-wrap>FreeBSD                    </span></td><td>NA</td><td>NA</td><td>NA</td><td>NA</td><td>74b53facd93c8c1718ac2308452a06fc</td><td>no </td><td>NA</td><td>https://cran.r-project.org/src/contrib</td></tr>\n",
       "\t<tr><th scope=row>zoo</th><td><span style=white-space:pre-wrap>zoo       </span></td><td><span style=white-space:pre-wrap>1.8-8   </span></td><td>NA</td><td><span style=white-space:pre-wrap>R (&gt;= 3.1.0), stats                                  </span></td><td><span style=white-space:pre-wrap>utils, graphics, grDevices, lattice (&gt;= 0.20-27)                                                                                                                                </span></td><td><span style=white-space:pre-wrap>NA                                                                   </span></td><td>AER, coda, chron, fts, ggplot2 (&gt;= 3.0.0), mondate, scales,\n",
       "strucchange, timeDate, timeSeries, tis, tseries, xts</td><td>NA</td><td><span style=white-space:pre-wrap>GPL-2 | GPL-3              </span></td><td>NA</td><td>NA</td><td>NA</td><td>NA</td><td>a751c37a1b84a342851855cae2f40ac5</td><td>yes</td><td>NA</td><td>https://cran.r-project.org/src/contrib</td></tr>\n",
       "\t<tr><th scope=row>zooaRch</th><td><span style=white-space:pre-wrap>zooaRch   </span></td><td><span style=white-space:pre-wrap>1.2     </span></td><td>NA</td><td><span style=white-space:pre-wrap>ggplot2                                              </span></td><td><span style=white-space:pre-wrap>NA                                                                                                                                                                              </span></td><td><span style=white-space:pre-wrap>NA                                                                   </span></td><td><span style=white-space:pre-wrap>rmarkdown, knitr                                                                                                 </span></td><td>NA</td><td><span style=white-space:pre-wrap>GPL (&gt;= 2)                 </span></td><td>NA</td><td>NA</td><td>NA</td><td>NA</td><td>a81376d2f50218ef074ca3f2dfaea3cb</td><td>no </td><td>NA</td><td>https://cran.r-project.org/src/contrib</td></tr>\n",
       "\t<tr><th scope=row>zooaRchGUI</th><td>zooaRchGUI</td><td><span style=white-space:pre-wrap>1.0.2   </span></td><td>NA</td><td><span style=white-space:pre-wrap>NA                                                   </span></td><td><span style=white-space:pre-wrap>car, coda, foreign, geomorph, ggplot2, graphics, grDevices,\n",
       "MASS, pgirmess, raster, readxl, rjags, sp, spdep, splancs,\n",
       "stats, tcltk, tcltk2, tkrplot, utils, vegan            </span></td><td><span style=white-space:pre-wrap>NA                                                                   </span></td><td><span style=white-space:pre-wrap>rmarkdown, knitr                                                                                                 </span></td><td>NA</td><td><span style=white-space:pre-wrap>GPL (&gt;= 2)                 </span></td><td>NA</td><td>NA</td><td>NA</td><td>NA</td><td>59eca969f68b8323f31f82bce10f853b</td><td>no </td><td>NA</td><td>https://cran.r-project.org/src/contrib</td></tr>\n",
       "\t<tr><th scope=row>zoocat</th><td><span style=white-space:pre-wrap>zoocat    </span></td><td>0.2.0.1 </td><td>NA</td><td><span style=white-space:pre-wrap>R(&gt;= 3.1.1), zoo, reshape2                           </span></td><td><span style=white-space:pre-wrap>graphics, utils, stats, plyr, scales, grDevices                                                                                                                                 </span></td><td><span style=white-space:pre-wrap>NA                                                                   </span></td><td><span style=white-space:pre-wrap>ggplot2, knitr, rmarkdown                                                                                        </span></td><td>NA</td><td><span style=white-space:pre-wrap>GPL-3                      </span></td><td>NA</td><td>NA</td><td>NA</td><td>NA</td><td>05f9138ba1b86b0580bbb6ad08fc11e2</td><td>no </td><td>NA</td><td>https://cran.r-project.org/src/contrib</td></tr>\n",
       "\t<tr><th scope=row>zooimage</th><td><span style=white-space:pre-wrap>zooimage  </span></td><td><span style=white-space:pre-wrap>5.5.2   </span></td><td>NA</td><td><span style=white-space:pre-wrap>R (&gt;= 2.15.0), mlearning                             </span></td><td><span style=white-space:pre-wrap>svMisc (&gt;= 0.9-67), svDialogs (&gt;= 0.9-53), filehash, jpeg,\n",
       "png, tiff, utils, digest, tools, MASS, mda, shiny, DT                                                               </span></td><td><span style=white-space:pre-wrap>NA                                                                   </span></td><td><span style=white-space:pre-wrap>rJava, mlbench                                                                                                   </span></td><td>NA</td><td><span style=white-space:pre-wrap>GPL (&gt;= 2)                 </span></td><td>NA</td><td>NA</td><td>NA</td><td>NA</td><td>a2bdb871bb94ea9c863a47b677ff13ad</td><td>no </td><td>NA</td><td>https://cran.r-project.org/src/contrib</td></tr>\n",
       "\t<tr><th scope=row>zoom</th><td><span style=white-space:pre-wrap>zoom      </span></td><td><span style=white-space:pre-wrap>2.0.4   </span></td><td>NA</td><td><span style=white-space:pre-wrap>R (&gt;= 2.10.0)                                        </span></td><td><span style=white-space:pre-wrap>NA                                                                                                                                                                              </span></td><td><span style=white-space:pre-wrap>NA                                                                   </span></td><td><span style=white-space:pre-wrap>testthat                                                                                                         </span></td><td>NA</td><td><span style=white-space:pre-wrap>GPL (&gt;= 3)                 </span></td><td>NA</td><td>NA</td><td>NA</td><td>NA</td><td>2d8a69d4342b4f512eebecc5a255beaa</td><td>no </td><td>NA</td><td>https://cran.r-project.org/src/contrib</td></tr>\n",
       "\t<tr><th scope=row>zoon</th><td><span style=white-space:pre-wrap>zoon      </span></td><td><span style=white-space:pre-wrap>0.6.5   </span></td><td>NA</td><td><span style=white-space:pre-wrap>raster (&gt;= 2.4-20), R (&gt;= 3.2.0)                     </span></td><td><span style=white-space:pre-wrap>dismo, methods, plyr, randomForest, RCurl, rfigshare, rgdal,\n",
       "roxygen2, rworldmap, sp, testthat                                                                                 </span></td><td><span style=white-space:pre-wrap>NA                                                                   </span></td><td><span style=white-space:pre-wrap>knitr, maxlike, SDMTools                                                                                         </span></td><td>NA</td><td>BSD_3_clause + file LICENSE</td><td>NA</td><td>NA</td><td>NA</td><td>NA</td><td>e25e74891bc33089a76d7684b9e852ec</td><td>no </td><td>NA</td><td>https://cran.r-project.org/src/contrib</td></tr>\n",
       "\t<tr><th scope=row>ZRA</th><td><span style=white-space:pre-wrap>ZRA       </span></td><td><span style=white-space:pre-wrap>0.2     </span></td><td>NA</td><td><span style=white-space:pre-wrap>R (&gt;= 3.0.2), forecast, dygraphs, stats              </span></td><td><span style=white-space:pre-wrap>NA                                                                                                                                                                              </span></td><td><span style=white-space:pre-wrap>NA                                                                   </span></td><td><span style=white-space:pre-wrap>NA                                                                                                               </span></td><td>NA</td><td><span style=white-space:pre-wrap>GPL (&gt;= 2)                 </span></td><td>NA</td><td>NA</td><td>NA</td><td>NA</td><td>0b7d36c7518b9613db7df10d29d659c1</td><td>no </td><td>NA</td><td>https://cran.r-project.org/src/contrib</td></tr>\n",
       "\t<tr><th scope=row>zscorer</th><td><span style=white-space:pre-wrap>zscorer   </span></td><td><span style=white-space:pre-wrap>0.3.1   </span></td><td>NA</td><td><span style=white-space:pre-wrap>R (&gt;= 2.10)                                          </span></td><td><span style=white-space:pre-wrap>shiny                                                                                                                                                                           </span></td><td><span style=white-space:pre-wrap>NA                                                                   </span></td><td><span style=white-space:pre-wrap>testthat, knitr, rmarkdown, shinythemes, covr                                                                    </span></td><td>NA</td><td><span style=white-space:pre-wrap>AGPL-3                     </span></td><td>NA</td><td>NA</td><td>NA</td><td>NA</td><td>3b387940a0bbd6c36a2da7cd5f206d62</td><td>no </td><td>NA</td><td>https://cran.r-project.org/src/contrib</td></tr>\n",
       "\t<tr><th scope=row>Zseq</th><td><span style=white-space:pre-wrap>Zseq      </span></td><td><span style=white-space:pre-wrap>0.2.0   </span></td><td>NA</td><td><span style=white-space:pre-wrap>NA                                                   </span></td><td><span style=white-space:pre-wrap>gmp                                                                                                                                                                             </span></td><td><span style=white-space:pre-wrap>NA                                                                   </span></td><td><span style=white-space:pre-wrap>NA                                                                                                               </span></td><td>NA</td><td><span style=white-space:pre-wrap>GPL (&gt;= 3)                 </span></td><td>NA</td><td>NA</td><td>NA</td><td>NA</td><td>de0a905ab42ba82cff7141128e20c5f6</td><td>no </td><td>NA</td><td>https://cran.r-project.org/src/contrib</td></tr>\n",
       "\t<tr><th scope=row>ztable</th><td><span style=white-space:pre-wrap>ztable    </span></td><td><span style=white-space:pre-wrap>0.2.0   </span></td><td>NA</td><td><span style=white-space:pre-wrap>R (&gt;= 3.1.2)                                         </span></td><td><span style=white-space:pre-wrap>stringr, magrittr, RColorBrewer, flextable, officer, moonBook,\n",
       "scales                                                                                                          </span></td><td><span style=white-space:pre-wrap>NA                                                                   </span></td><td><span style=white-space:pre-wrap>MASS, survival, testthat, knitr, rmarkdown                                                                       </span></td><td>NA</td><td><span style=white-space:pre-wrap>GPL-2                      </span></td><td>NA</td><td>NA</td><td>NA</td><td>NA</td><td>1a99e081eb816be6db563fae36952fda</td><td>no </td><td>NA</td><td>https://cran.r-project.org/src/contrib</td></tr>\n",
       "\t<tr><th scope=row>ztpln</th><td><span style=white-space:pre-wrap>ztpln     </span></td><td><span style=white-space:pre-wrap>0.1.1   </span></td><td>NA</td><td><span style=white-space:pre-wrap>R (&gt;= 3.5)                                           </span></td><td><span style=white-space:pre-wrap>DistributionUtils, Rcpp (&gt;= 0.12.0), mixtools, stats                                                                                                                            </span></td><td>Rcpp (&gt;= 0.12.0), RcppEigen (&gt;= 0.3.3.3.0), RcppNumerical\n",
       "(&gt;= 0.3-2)</td><td><span style=white-space:pre-wrap>knitr, dplyr, ggplot2, rmarkdown, testthat, tidyr(&gt;= 1.0.0)                                                      </span></td><td>NA</td><td><span style=white-space:pre-wrap>MIT + file LICENSE         </span></td><td>NA</td><td>NA</td><td>NA</td><td>NA</td><td>cd019ebff5656b3860570b64cb3dd0ec</td><td>yes</td><td>NA</td><td>https://cran.r-project.org/src/contrib</td></tr>\n",
       "\t<tr><th scope=row>zTree</th><td><span style=white-space:pre-wrap>zTree     </span></td><td><span style=white-space:pre-wrap>1.0.6   </span></td><td>NA</td><td><span style=white-space:pre-wrap>R (&gt;= 3.1.0)                                         </span></td><td><span style=white-space:pre-wrap>plyr (&gt;= 1.0)                                                                                                                                                                   </span></td><td><span style=white-space:pre-wrap>NA                                                                   </span></td><td><span style=white-space:pre-wrap>NA                                                                                                               </span></td><td>NA</td><td><span style=white-space:pre-wrap>GPL-3 | file LICENSE       </span></td><td>NA</td><td>NA</td><td>NA</td><td>NA</td><td>8f40f64ef7a695496d8ad47d7296e169</td><td>no </td><td>NA</td><td>https://cran.r-project.org/src/contrib</td></tr>\n",
       "\t<tr><th scope=row>ztype</th><td>ztype     </td><td>0.1.0   </td><td>NA</td><td>NA                                                   </td><td>magrittr, rvest, stats, stringr, utils, dplyr, ggplot2,\n",
       "lubridate, assertthat                                                                                                  </td><td>NA                                                                   </td><td>NA                                                                                                               </td><td>NA</td><td>GPL-3                      </td><td>NA</td><td>NA</td><td>NA</td><td>NA</td><td>28d75de6acc106becb6e49fe6a0d7ed7</td><td>no </td><td>NA</td><td>https://cran.r-project.org/src/contrib</td></tr>\n",
       "\t<tr><th scope=row>ZVCV</th><td><span style=white-space:pre-wrap>ZVCV      </span></td><td><span style=white-space:pre-wrap>2.1.0   </span></td><td>NA</td><td><span style=white-space:pre-wrap>NA                                                   </span></td><td><span style=white-space:pre-wrap>Rcpp (&gt;= 0.11.0), glmnet, abind, mvtnorm, stats, Rlinsolve,\n",
       "magrittr, dplyr                                                                                                    </span></td><td><span style=white-space:pre-wrap>Rcpp, RcppArmadillo, BH                                              </span></td><td><span style=white-space:pre-wrap>partitions, ggplot2, ggthemes                                                                                    </span></td><td>NA</td><td><span style=white-space:pre-wrap>GPL (&gt;= 2)                 </span></td><td>NA</td><td>NA</td><td>NA</td><td>NA</td><td>f5eded51ab69995efed877f66a5754ae</td><td>yes</td><td>NA</td><td>https://cran.r-project.org/src/contrib</td></tr>\n",
       "\t<tr><th scope=row>zyp</th><td><span style=white-space:pre-wrap>zyp       </span></td><td>0.10-1.1</td><td>NA</td><td><span style=white-space:pre-wrap>R (&gt;= 2.4.0), Kendall                                </span></td><td><span style=white-space:pre-wrap>NA                                                                                                                                                                              </span></td><td><span style=white-space:pre-wrap>NA                                                                   </span></td><td><span style=white-space:pre-wrap>NA                                                                                                               </span></td><td>NA</td><td><span style=white-space:pre-wrap>LGPL-2.1                   </span></td><td>NA</td><td>NA</td><td>NA</td><td>NA</td><td>80dac57c016be532372b21b1b4ef9c8b</td><td>no </td><td>NA</td><td>https://cran.r-project.org/src/contrib</td></tr>\n",
       "\t<tr><th scope=row>zzlite</th><td><span style=white-space:pre-wrap>zzlite    </span></td><td><span style=white-space:pre-wrap>0.1.2   </span></td><td>NA</td><td><span style=white-space:pre-wrap>R (&gt;= 3.2)                                           </span></td><td><span style=white-space:pre-wrap>httr, jsonlite                                                                                                                                                                  </span></td><td><span style=white-space:pre-wrap>NA                                                                   </span></td><td><span style=white-space:pre-wrap>httptest, roxygen2, testthat, knitr, rmarkdown                                                                   </span></td><td>NA</td><td><span style=white-space:pre-wrap>GPL-3                      </span></td><td>NA</td><td>NA</td><td>NA</td><td>NA</td><td>2698c39a6f1c7e634db063345746e5f8</td><td>no </td><td>NA</td><td>https://cran.r-project.org/src/contrib</td></tr>\n",
       "</tbody>\n",
       "</table>\n"
      ],
      "text/latex": [
       "A matrix: 16114 × 17 of type chr\n",
       "\\begin{tabular}{r|lllllllllllllllll}\n",
       "  & Package & Version & Priority & Depends & Imports & LinkingTo & Suggests & Enhances & License & License\\_is\\_FOSS & License\\_restricts\\_use & OS\\_type & Archs & MD5sum & NeedsCompilation & File & Repository\\\\\n",
       "\\hline\n",
       "\tA3 & A3            & 1.0.0  & NA & R (>= 2.15.0), xtable, pbapply                      & NA                                                                                                                                                                  & NA                  & randomForest, e1071                           & NA & GPL (>= 2)         & NA & NA & NA & NA & 027ebdd8affce8f0effaecfcd5f5ade2 & no  & NA & https://cran.r-project.org/src/contrib\\\\\n",
       "\taaSEA & aaSEA         & 1.1.0  & NA & R(>= 3.4.0)                                         & DT(>= 0.4), networkD3(>= 0.4), shiny(>= 1.0.5),\n",
       "shinydashboard(>= 0.7.0), magrittr(>= 1.5), Bios2cor(>= 2.0),\n",
       "seqinr(>= 3.4-5), plotly(>= 4.7.1), Hmisc(>= 4.1-1) & NA                  & knitr, rmarkdown                              & NA & GPL-3              & NA & NA & NA & NA & 0f9aaefc1f1cf18b6167f85dab3180d8 & no  & NA & https://cran.r-project.org/src/contrib\\\\\n",
       "\tAATtools & AATtools      & 0.0.1  & NA & R (>= 3.6.0)                                        & magrittr, dplyr, doParallel, foreach                                                                                                                                & NA                  & NA                                            & NA & GPL-3              & NA & NA & NA & NA & 3bd92dbd94573afb17ebc5eab23473cb & no  & NA & https://cran.r-project.org/src/contrib\\\\\n",
       "\tABACUS & ABACUS        & 1.0.0  & NA & R (>= 3.1.0)                                        & ggplot2 (>= 3.1.0), shiny (>= 1.3.1),                                                                                                                               & NA                  & rmarkdown (>= 1.13), knitr (>= 1.22)          & NA & GPL-3              & NA & NA & NA & NA & 50c54c4da09307cb95a70aaaa54b9fbd & no  & NA & https://cran.r-project.org/src/contrib\\\\\n",
       "\tabbyyR & abbyyR        & 0.5.5  & NA & R (>= 3.2.0)                                        & httr, XML, curl, readr, plyr, progress                                                                                                                              & NA                  & testthat, rmarkdown, knitr (>= 1.11), lintr   & NA & MIT + file LICENSE & NA & NA & NA & NA & e048a3bca6ea32126e6c367415c0bfaf & no  & NA & https://cran.r-project.org/src/contrib\\\\\n",
       "\tabc & abc           & 2.1    & NA & R (>= 2.10), abc.data, nnet, quantreg, MASS, locfit & NA                                                                                                                                                                  & NA                  & NA                                            & NA & GPL (>= 3)         & NA & NA & NA & NA & c9fffe4334c178917f762735aba59653 & no  & NA & https://cran.r-project.org/src/contrib\\\\\n",
       "\tabc.data & abc.data      & 1.0    & NA & R (>= 2.10)                                         & NA                                                                                                                                                                  & NA                  & NA                                            & NA & GPL (>= 3)         & NA & NA & NA & NA & 799079dbbdd0cfc9d9c61c3e35241806 & no  & NA & https://cran.r-project.org/src/contrib\\\\\n",
       "\tABC.RAP & ABC.RAP       & 0.9.0  & NA & R (>= 3.1.0)                                        & graphics, stats, utils                                                                                                                                              & NA                  & knitr, rmarkdown                              & NA & GPL-3              & NA & NA & NA & NA & 38c65a7251d28ef2462ee430ded95700 & no  & NA & https://cran.r-project.org/src/contrib\\\\\n",
       "\tabcADM & abcADM        & 1.0    & NA & NA                                                  & Rcpp (>= 1.0.1)                                                                                                                                                     & Rcpp, BH            & NA                                            & NA & GPL-3              & NA & NA & NA & NA & 8134f67912b506194e3dab4ccd6e75f7 & yes & NA & https://cran.r-project.org/src/contrib\\\\\n",
       "\tABCanalysis & ABCanalysis   & 1.2.1  & NA & R (>= 2.10)                                         & plotrix                                                                                                                                                             & NA                  & NA                                            & NA & GPL-3              & NA & NA & NA & NA & 678e03837e25a922bf71bafe1f8de617 & no  & NA & https://cran.r-project.org/src/contrib\\\\\n",
       "\tabcdeFBA & abcdeFBA      & 0.4    & NA & Rglpk,rgl,corrplot,lattice,R (>= 2.10)              & NA                                                                                                                                                                  & NA                  & LIM,sybil                                     & NA & GPL-2              & NA & NA & NA & NA & c84d45a85d8ab6bbe517365e8845db83 & no  & NA & https://cran.r-project.org/src/contrib\\\\\n",
       "\tABCoptim & ABCoptim      & 0.15.0 & NA & NA                                                  & Rcpp, graphics, stats, utils                                                                                                                                        & Rcpp                & testthat, covr                                & NA & MIT + file LICENSE & NA & NA & NA & NA & a62ed03650273c09899655065437078f & yes & NA & https://cran.r-project.org/src/contrib\\\\\n",
       "\tABCp2 & ABCp2         & 1.2    & NA & MASS                                                & NA                                                                                                                                                                  & NA                  & NA                                            & NA & GPL-2              & NA & NA & NA & NA & e920282d5a369df71e15241be40cb60e & no  & NA & https://cran.r-project.org/src/contrib\\\\\n",
       "\tabcrf & abcrf         & 1.8.1  & NA & R(>= 3.1)                                           & readr, MASS, matrixStats, ranger, doParallel, parallel,\n",
       "foreach, stringr, Rcpp (>= 0.11.2)                                                                         & Rcpp, RcppArmadillo & NA                                            & NA & GPL (>= 2)         & NA & NA & NA & NA & 4d5a304f46d117226791523cef4e2427 & yes & NA & https://cran.r-project.org/src/contrib\\\\\n",
       "\tabcrlda & abcrlda       & 1.0.3  & NA & NA                                                  & stats                                                                                                                                                               & NA                  & NA                                            & NA & GPL-3              & NA & NA & NA & NA & 651e6e18e08916b443aaf011b5a63525 & no  & NA & https://cran.r-project.org/src/contrib\\\\\n",
       "\tabctools & abctools      & 1.1.3  & NA & R (>= 2.10), abc, abind, parallel, plyr, Hmisc      & NA                                                                                                                                                                  & NA                  & ggplot2, abc.data                             & NA & GPL (>= 2)         & NA & NA & NA & NA & c5937b65837ef7e6bfbe141cea257f40 & yes & NA & https://cran.r-project.org/src/contrib\\\\\n",
       "\tabd & abd           & 0.2-8  & NA & R (>= 3.0), nlme, lattice, grid, mosaic             & NA                                                                                                                                                                  & NA                  & boot, car, ggplot2, plyr, HH, ICC, vcd, Hmisc & NA & GPL-2              & NA & NA & NA & NA & 1913d76a0fbc44222709381f63f385b9 & no  & NA & https://cran.r-project.org/src/contrib\\\\\n",
       "\tabdiv & abdiv         & 0.2.0  & NA & NA                                                  & ape                                                                                                                                                                 & NA                  & testthat (>= 2.1.0), vegan                    & NA & MIT + file LICENSE & NA & NA & NA & NA & 80931c0ca85ba5386000bf617552c5ce & no  & NA & https://cran.r-project.org/src/contrib\\\\\n",
       "\tabe & abe           & 3.0.1  & NA & NA                                                  & NA                                                                                                                                                                  & NA                  & NA                                            & NA & GPL (>= 2)         & NA & NA & NA & NA & 9c151db5397422c8927dee41dabfbfab & no  & NA & https://cran.r-project.org/src/contrib\\\\\n",
       "\tabf2 & abf2          & 0.7-1  & NA & NA                                                  & NA                                                                                                                                                                  & NA                  & NA                                            & NA & Artistic-2.0       & NA & NA & NA & NA & 6792a51c6fb3e239165d69aa8a71d3cd & no  & NA & https://cran.r-project.org/src/contrib\\\\\n",
       "\tABHgenotypeR & ABHgenotypeR  & 1.0.1  & NA & NA                                                  & ggplot2, reshape2, utils                                                                                                                                            & NA                  & knitr, rmarkdown                              & NA & GPL-3              & NA & NA & NA & NA & ca4397ba7390c0e0a3728c0cda864494 & no  & NA & https://cran.r-project.org/src/contrib\\\\\n",
       "\tabind & abind         & 1.4-5  & NA & R (>= 1.5.0)                                        & methods, utils                                                                                                                                                      & NA                  & NA                                            & NA & LGPL (>= 2)        & NA & NA & NA & NA & 136f981e1c4f618b64a87faaa7797c97 & no  & NA & https://cran.r-project.org/src/contrib\\\\\n",
       "\tabjutils & abjutils      & 0.3.1  & NA & R (>= 4.0)                                          & dplyr, magrittr, purrr, rlang, rstudioapi, stringi, stringr,\n",
       "tidyr                                                                                                 & NA                  & testthat                                      & NA & MIT + file LICENSE & NA & NA & NA & NA & a596c07aaa7f82e5d123b2f7354e5b55 & no  & NA & https://cran.r-project.org/src/contrib\\\\\n",
       "\tabnormality & abnormality   & 0.1.0  & NA & NA                                                  & MASS (>= 7.3.0), Matrix                                                                                                                                             & NA                  & NA                                            & NA & MIT + file LICENSE & NA & NA & NA & NA & da052e7d38d02c5c050e7879f2713345 & no  & NA & https://cran.r-project.org/src/contrib\\\\\n",
       "\tabodOutlier & abodOutlier   & 0.1    & NA & cluster, R (>= 3.1.2)                               & NA                                                                                                                                                                  & NA                  & NA                                            & NA & MIT + file LICENSE & NA & NA & NA & NA & e3782e42842fc893d036bdfb7fd86d91 & no  & NA & https://cran.r-project.org/src/contrib\\\\\n",
       "\tABPS & ABPS          & 0.3    & NA & NA                                                  & kernlab                                                                                                                                                             & NA                  & testthat                                      & NA & GPL (>= 2)         & NA & NA & NA & NA & 2f09a946652530e319d433d7f0362be8 & no  & NA & https://cran.r-project.org/src/contrib\\\\\n",
       "\tAbsFilterGSEA & AbsFilterGSEA & 1.5.1  & NA & NA                                                  & Rcpp, Biobase, stats, DESeq, limma                                                                                                                                  & Rcpp, RcppArmadillo & NA                                            & NA & GPL-2              & NA & NA & NA & NA & a747572417e9738d1566061e785cfd5f & yes & NA & https://cran.r-project.org/src/contrib\\\\\n",
       "\tAbSim & AbSim         & 0.2.6  & NA & R(>= 3.1.0), ape, poweRlaw                          & NA                                                                                                                                                                  & NA                  & knitr, rmarkdown                              & NA & GPL-2              & NA & NA & NA & NA & b31c49e56a211fee06391c7677cef511 & no  & NA & https://cran.r-project.org/src/contrib\\\\\n",
       "\tabstractr & abstractr     & 0.1.0  & NA & NA                                                  & shiny (>= 1.2.0), ggplot2 (>= 3.0.0), gridExtra (>= 2.3.0),\n",
       "colourpicker, shinythemes, emojifont, rintrojs                                                         & NA                  & knitr, rmarkdown                              & NA & GPL-3              & NA & NA & NA & NA & 696a9da933b8bc0bb4c93bedc2aa876b & no  & NA & https://cran.r-project.org/src/contrib\\\\\n",
       "\tabtest & abtest        & 0.2.1  & NA & R (>= 3.0.0)                                        & Rcpp (>= 0.12.14), mvtnorm, sn, qgam, truncnorm, plotrix,\n",
       "grDevices, RColorBrewer, Matrix, parallel                                                                & Rcpp                & testthat                                      & NA & GPL (>= 2)         & NA & NA & NA & NA & 1d50080cf97378601538efa9b29b0fd1 & yes & NA & https://cran.r-project.org/src/contrib\\\\\n",
       "\t... & ... & ... & ... & ... & ... & ... & ... & ... & ... & ... & ... & ... & ... & ... & ... & ... & ...\\\\\n",
       "\tzip & zip        & 2.1.0    & NA & NA                                                    & NA                                                                                                                                                                               & NA                                                                    & covr, processx, R6, testthat, withr                                                                               & NA & CC0                         & NA & NA & NA & NA & 1f63f43f7047c635b8610c8b2d8b05ec & yes & NA & https://cran.r-project.org/src/contrib\\\\\n",
       "\tzipangu & zipangu    & 0.2.1    & NA & R (>= 3.2)                                            & dplyr (>= 0.8.3), lifecycle (>= 0.1.0), lubridate (>= 1.7.4),\n",
       "magrittr (>= 1.5), purrr (>= 0.3.3), rlang (>= 0.4.0), stringi\n",
       "(>= 1.4.3), stringr (>= 1.4.0), tibble (>= 2.1.3) & NA                                                                    & covr (>= 3.4.0), testthat (>= 2.1.0)                                                                              & NA & MIT + file LICENSE          & NA & NA & NA & NA & bc47d70b1a15994555829a4c9f765ba2 & no  & NA & https://cran.r-project.org/src/contrib\\\\\n",
       "\tZIPFA & ZIPFA      & 0.8.1    & NA & R (>= 3.2.0)                                          & Matrix, doParallel, foreach, optimx, trustOptim                                                                                                                                  & NA                                                                    & NA                                                                                                                & NA & GPL (>= 2)                  & NA & NA & NA & NA & c8a58823de2bb217d779592f68832444 & no  & NA & https://cran.r-project.org/src/contrib\\\\\n",
       "\tzipfextR & zipfextR   & 1.0.2    & NA & R (>= 2.0.1)                                          & VGAM (>= 0.9.8), tolerance(>= 1.2.0), copula(>= 0.999-18)                                                                                                                        & NA                                                                    & testthat                                                                                                          & NA & GPL-3                       & NA & NA & NA & NA & 5ced3986629fbd390be8afca9701d981 & no  & NA & https://cran.r-project.org/src/contrib\\\\\n",
       "\tzipfR & zipfR      & 0.6-66   & NA & R (>= 3.0.0)                                          & methods, utils, stats, graphics, grDevices                                                                                                                                       & NA                                                                    & NA                                                                                                                & NA & GPL-3                       & NA & NA & NA & NA & 0a19b8b35445f5eda3fc1a0a70c33ad3 & no  & NA & https://cran.r-project.org/src/contrib\\\\\n",
       "\tziphsmm & ziphsmm    & 2.0.6    & NA & R(>= 3.0.0)                                           & Rcpp, pracma                                                                                                                                                                     & Rcpp, RcppArmadillo                                                   & NA                                                                                                                & NA & GPL                         & NA & NA & NA & NA & cc0371eb4b97c8ece1070426be106294 & yes & NA & https://cran.r-project.org/src/contrib\\\\\n",
       "\tzipR & zipR       & 0.1.1    & NA & R (>= 2.1.0)                                          & NA                                                                                                                                                                               & NA                                                                    & knitr, rmarkdown, devtools                                                                                        & NA & GPL-3                       & NA & NA & NA & NA & cc2ca4be4624f3994ee477a8ea070d9d & no  & NA & https://cran.r-project.org/src/contrib\\\\\n",
       "\tZipRadius & ZipRadius  & 1.0.1    & NA & R (>= 2.10)                                           & dplyr, geosphere, magrittr, testthat, rlang, ggplot2                                                                                                                             & NA                                                                    & knitr, rmarkdown                                                                                                  & NA & GPL (>= 2)                  & NA & NA & NA & NA & 078c93bf16ef30ab2dfeac2cbbb6255c & no  & NA & https://cran.r-project.org/src/contrib\\\\\n",
       "\tzoeppritz & zoeppritz  & 1.0-7    & NA & NA                                                    & NA                                                                                                                                                                               & NA                                                                    & NA                                                                                                                & NA & GPL (>= 2)                  & NA & NA & NA & NA & 42c4722a18e73ea330f39f05f91f78ac & no  & NA & https://cran.r-project.org/src/contrib\\\\\n",
       "\tzoib & zoib       & 1.5.4    & NA & R (>= 3.3.0), rjags, coda, matrixcalc, Formula, abind & NA                                                                                                                                                                               & NA                                                                    & NA                                                                                                                & NA & GPL (>= 3)                  & NA & NA & NA & NA & c0340a16f3ee5ddb5bca9c5535f46605 & no  & NA & https://cran.r-project.org/src/contrib\\\\\n",
       "\tZOIP & ZOIP       & 0.1      & NA & R (>= 3.2.0)                                          & rmutil, boot, numDeriv, GHQp, stats                                                                                                                                              & NA                                                                    & knitr, rmarkdown                                                                                                  & NA & GPL (>= 2)                  & NA & NA & NA & NA & bc98823ad148d44f25d164617435d179 & no  & NA & https://cran.r-project.org/src/contrib\\\\\n",
       "\tzoltr & zoltr      & 0.5.1    & NA & NA                                                    & httr, jsonlite, readr, mockery, webmockr, base64url, dplyr,\n",
       "MMWRweek, utils, rlang, magrittr                                                                                    & NA                                                                    & testthat, knitr, rmarkdown                                                                                        & NA & GPL-3                       & NA & NA & NA & NA & 5ded4085dcfd841cfbe383d828d0d6d8 & no  & NA & https://cran.r-project.org/src/contrib\\\\\n",
       "\tzonator & zonator    & 0.6.0    & NA & R (>= 2.15.2)                                         & ggplot2 (>= 2.0.0), methods, RColorBrewer, raster, reshape2,\n",
       "rgdal                                                                                                              & NA                                                                    & knitr, rasterVis, rmarkdown, testthat, zdat (>= 0.1.0)                                                            & NA & FreeBSD                     & NA & NA & NA & NA & 74b53facd93c8c1718ac2308452a06fc & no  & NA & https://cran.r-project.org/src/contrib\\\\\n",
       "\tzoo & zoo        & 1.8-8    & NA & R (>= 3.1.0), stats                                   & utils, graphics, grDevices, lattice (>= 0.20-27)                                                                                                                                 & NA                                                                    & AER, coda, chron, fts, ggplot2 (>= 3.0.0), mondate, scales,\n",
       "strucchange, timeDate, timeSeries, tis, tseries, xts & NA & GPL-2 \\textbar{} GPL-3               & NA & NA & NA & NA & a751c37a1b84a342851855cae2f40ac5 & yes & NA & https://cran.r-project.org/src/contrib\\\\\n",
       "\tzooaRch & zooaRch    & 1.2      & NA & ggplot2                                               & NA                                                                                                                                                                               & NA                                                                    & rmarkdown, knitr                                                                                                  & NA & GPL (>= 2)                  & NA & NA & NA & NA & a81376d2f50218ef074ca3f2dfaea3cb & no  & NA & https://cran.r-project.org/src/contrib\\\\\n",
       "\tzooaRchGUI & zooaRchGUI & 1.0.2    & NA & NA                                                    & car, coda, foreign, geomorph, ggplot2, graphics, grDevices,\n",
       "MASS, pgirmess, raster, readxl, rjags, sp, spdep, splancs,\n",
       "stats, tcltk, tcltk2, tkrplot, utils, vegan             & NA                                                                    & rmarkdown, knitr                                                                                                  & NA & GPL (>= 2)                  & NA & NA & NA & NA & 59eca969f68b8323f31f82bce10f853b & no  & NA & https://cran.r-project.org/src/contrib\\\\\n",
       "\tzoocat & zoocat     & 0.2.0.1  & NA & R(>= 3.1.1), zoo, reshape2                            & graphics, utils, stats, plyr, scales, grDevices                                                                                                                                  & NA                                                                    & ggplot2, knitr, rmarkdown                                                                                         & NA & GPL-3                       & NA & NA & NA & NA & 05f9138ba1b86b0580bbb6ad08fc11e2 & no  & NA & https://cran.r-project.org/src/contrib\\\\\n",
       "\tzooimage & zooimage   & 5.5.2    & NA & R (>= 2.15.0), mlearning                              & svMisc (>= 0.9-67), svDialogs (>= 0.9-53), filehash, jpeg,\n",
       "png, tiff, utils, digest, tools, MASS, mda, shiny, DT                                                                & NA                                                                    & rJava, mlbench                                                                                                    & NA & GPL (>= 2)                  & NA & NA & NA & NA & a2bdb871bb94ea9c863a47b677ff13ad & no  & NA & https://cran.r-project.org/src/contrib\\\\\n",
       "\tzoom & zoom       & 2.0.4    & NA & R (>= 2.10.0)                                         & NA                                                                                                                                                                               & NA                                                                    & testthat                                                                                                          & NA & GPL (>= 3)                  & NA & NA & NA & NA & 2d8a69d4342b4f512eebecc5a255beaa & no  & NA & https://cran.r-project.org/src/contrib\\\\\n",
       "\tzoon & zoon       & 0.6.5    & NA & raster (>= 2.4-20), R (>= 3.2.0)                      & dismo, methods, plyr, randomForest, RCurl, rfigshare, rgdal,\n",
       "roxygen2, rworldmap, sp, testthat                                                                                  & NA                                                                    & knitr, maxlike, SDMTools                                                                                          & NA & BSD\\_3\\_clause + file LICENSE & NA & NA & NA & NA & e25e74891bc33089a76d7684b9e852ec & no  & NA & https://cran.r-project.org/src/contrib\\\\\n",
       "\tZRA & ZRA        & 0.2      & NA & R (>= 3.0.2), forecast, dygraphs, stats               & NA                                                                                                                                                                               & NA                                                                    & NA                                                                                                                & NA & GPL (>= 2)                  & NA & NA & NA & NA & 0b7d36c7518b9613db7df10d29d659c1 & no  & NA & https://cran.r-project.org/src/contrib\\\\\n",
       "\tzscorer & zscorer    & 0.3.1    & NA & R (>= 2.10)                                           & shiny                                                                                                                                                                            & NA                                                                    & testthat, knitr, rmarkdown, shinythemes, covr                                                                     & NA & AGPL-3                      & NA & NA & NA & NA & 3b387940a0bbd6c36a2da7cd5f206d62 & no  & NA & https://cran.r-project.org/src/contrib\\\\\n",
       "\tZseq & Zseq       & 0.2.0    & NA & NA                                                    & gmp                                                                                                                                                                              & NA                                                                    & NA                                                                                                                & NA & GPL (>= 3)                  & NA & NA & NA & NA & de0a905ab42ba82cff7141128e20c5f6 & no  & NA & https://cran.r-project.org/src/contrib\\\\\n",
       "\tztable & ztable     & 0.2.0    & NA & R (>= 3.1.2)                                          & stringr, magrittr, RColorBrewer, flextable, officer, moonBook,\n",
       "scales                                                                                                           & NA                                                                    & MASS, survival, testthat, knitr, rmarkdown                                                                        & NA & GPL-2                       & NA & NA & NA & NA & 1a99e081eb816be6db563fae36952fda & no  & NA & https://cran.r-project.org/src/contrib\\\\\n",
       "\tztpln & ztpln      & 0.1.1    & NA & R (>= 3.5)                                            & DistributionUtils, Rcpp (>= 0.12.0), mixtools, stats                                                                                                                             & Rcpp (>= 0.12.0), RcppEigen (>= 0.3.3.3.0), RcppNumerical\n",
       "(>= 0.3-2) & knitr, dplyr, ggplot2, rmarkdown, testthat, tidyr(>= 1.0.0)                                                       & NA & MIT + file LICENSE          & NA & NA & NA & NA & cd019ebff5656b3860570b64cb3dd0ec & yes & NA & https://cran.r-project.org/src/contrib\\\\\n",
       "\tzTree & zTree      & 1.0.6    & NA & R (>= 3.1.0)                                          & plyr (>= 1.0)                                                                                                                                                                    & NA                                                                    & NA                                                                                                                & NA & GPL-3 \\textbar{} file LICENSE        & NA & NA & NA & NA & 8f40f64ef7a695496d8ad47d7296e169 & no  & NA & https://cran.r-project.org/src/contrib\\\\\n",
       "\tztype & ztype      & 0.1.0    & NA & NA                                                    & magrittr, rvest, stats, stringr, utils, dplyr, ggplot2,\n",
       "lubridate, assertthat                                                                                                   & NA                                                                    & NA                                                                                                                & NA & GPL-3                       & NA & NA & NA & NA & 28d75de6acc106becb6e49fe6a0d7ed7 & no  & NA & https://cran.r-project.org/src/contrib\\\\\n",
       "\tZVCV & ZVCV       & 2.1.0    & NA & NA                                                    & Rcpp (>= 0.11.0), glmnet, abind, mvtnorm, stats, Rlinsolve,\n",
       "magrittr, dplyr                                                                                                     & Rcpp, RcppArmadillo, BH                                               & partitions, ggplot2, ggthemes                                                                                     & NA & GPL (>= 2)                  & NA & NA & NA & NA & f5eded51ab69995efed877f66a5754ae & yes & NA & https://cran.r-project.org/src/contrib\\\\\n",
       "\tzyp & zyp        & 0.10-1.1 & NA & R (>= 2.4.0), Kendall                                 & NA                                                                                                                                                                               & NA                                                                    & NA                                                                                                                & NA & LGPL-2.1                    & NA & NA & NA & NA & 80dac57c016be532372b21b1b4ef9c8b & no  & NA & https://cran.r-project.org/src/contrib\\\\\n",
       "\tzzlite & zzlite     & 0.1.2    & NA & R (>= 3.2)                                            & httr, jsonlite                                                                                                                                                                   & NA                                                                    & httptest, roxygen2, testthat, knitr, rmarkdown                                                                    & NA & GPL-3                       & NA & NA & NA & NA & 2698c39a6f1c7e634db063345746e5f8 & no  & NA & https://cran.r-project.org/src/contrib\\\\\n",
       "\\end{tabular}\n"
      ],
      "text/markdown": [
       "\n",
       "A matrix: 16114 × 17 of type chr\n",
       "\n",
       "| <!--/--> | Package | Version | Priority | Depends | Imports | LinkingTo | Suggests | Enhances | License | License_is_FOSS | License_restricts_use | OS_type | Archs | MD5sum | NeedsCompilation | File | Repository |\n",
       "|---|---|---|---|---|---|---|---|---|---|---|---|---|---|---|---|---|---|\n",
       "| A3 | A3            | 1.0.0  | NA | R (&gt;= 2.15.0), xtable, pbapply                      | NA                                                                                                                                                                  | NA                  | randomForest, e1071                           | NA | GPL (&gt;= 2)         | NA | NA | NA | NA | 027ebdd8affce8f0effaecfcd5f5ade2 | no  | NA | https://cran.r-project.org/src/contrib |\n",
       "| aaSEA | aaSEA         | 1.1.0  | NA | R(&gt;= 3.4.0)                                         | DT(&gt;= 0.4), networkD3(&gt;= 0.4), shiny(&gt;= 1.0.5),\n",
       "shinydashboard(&gt;= 0.7.0), magrittr(&gt;= 1.5), Bios2cor(&gt;= 2.0),\n",
       "seqinr(&gt;= 3.4-5), plotly(&gt;= 4.7.1), Hmisc(&gt;= 4.1-1) | NA                  | knitr, rmarkdown                              | NA | GPL-3              | NA | NA | NA | NA | 0f9aaefc1f1cf18b6167f85dab3180d8 | no  | NA | https://cran.r-project.org/src/contrib |\n",
       "| AATtools | AATtools      | 0.0.1  | NA | R (&gt;= 3.6.0)                                        | magrittr, dplyr, doParallel, foreach                                                                                                                                | NA                  | NA                                            | NA | GPL-3              | NA | NA | NA | NA | 3bd92dbd94573afb17ebc5eab23473cb | no  | NA | https://cran.r-project.org/src/contrib |\n",
       "| ABACUS | ABACUS        | 1.0.0  | NA | R (&gt;= 3.1.0)                                        | ggplot2 (&gt;= 3.1.0), shiny (&gt;= 1.3.1),                                                                                                                               | NA                  | rmarkdown (&gt;= 1.13), knitr (&gt;= 1.22)          | NA | GPL-3              | NA | NA | NA | NA | 50c54c4da09307cb95a70aaaa54b9fbd | no  | NA | https://cran.r-project.org/src/contrib |\n",
       "| abbyyR | abbyyR        | 0.5.5  | NA | R (&gt;= 3.2.0)                                        | httr, XML, curl, readr, plyr, progress                                                                                                                              | NA                  | testthat, rmarkdown, knitr (&gt;= 1.11), lintr   | NA | MIT + file LICENSE | NA | NA | NA | NA | e048a3bca6ea32126e6c367415c0bfaf | no  | NA | https://cran.r-project.org/src/contrib |\n",
       "| abc | abc           | 2.1    | NA | R (&gt;= 2.10), abc.data, nnet, quantreg, MASS, locfit | NA                                                                                                                                                                  | NA                  | NA                                            | NA | GPL (&gt;= 3)         | NA | NA | NA | NA | c9fffe4334c178917f762735aba59653 | no  | NA | https://cran.r-project.org/src/contrib |\n",
       "| abc.data | abc.data      | 1.0    | NA | R (&gt;= 2.10)                                         | NA                                                                                                                                                                  | NA                  | NA                                            | NA | GPL (&gt;= 3)         | NA | NA | NA | NA | 799079dbbdd0cfc9d9c61c3e35241806 | no  | NA | https://cran.r-project.org/src/contrib |\n",
       "| ABC.RAP | ABC.RAP       | 0.9.0  | NA | R (&gt;= 3.1.0)                                        | graphics, stats, utils                                                                                                                                              | NA                  | knitr, rmarkdown                              | NA | GPL-3              | NA | NA | NA | NA | 38c65a7251d28ef2462ee430ded95700 | no  | NA | https://cran.r-project.org/src/contrib |\n",
       "| abcADM | abcADM        | 1.0    | NA | NA                                                  | Rcpp (&gt;= 1.0.1)                                                                                                                                                     | Rcpp, BH            | NA                                            | NA | GPL-3              | NA | NA | NA | NA | 8134f67912b506194e3dab4ccd6e75f7 | yes | NA | https://cran.r-project.org/src/contrib |\n",
       "| ABCanalysis | ABCanalysis   | 1.2.1  | NA | R (&gt;= 2.10)                                         | plotrix                                                                                                                                                             | NA                  | NA                                            | NA | GPL-3              | NA | NA | NA | NA | 678e03837e25a922bf71bafe1f8de617 | no  | NA | https://cran.r-project.org/src/contrib |\n",
       "| abcdeFBA | abcdeFBA      | 0.4    | NA | Rglpk,rgl,corrplot,lattice,R (&gt;= 2.10)              | NA                                                                                                                                                                  | NA                  | LIM,sybil                                     | NA | GPL-2              | NA | NA | NA | NA | c84d45a85d8ab6bbe517365e8845db83 | no  | NA | https://cran.r-project.org/src/contrib |\n",
       "| ABCoptim | ABCoptim      | 0.15.0 | NA | NA                                                  | Rcpp, graphics, stats, utils                                                                                                                                        | Rcpp                | testthat, covr                                | NA | MIT + file LICENSE | NA | NA | NA | NA | a62ed03650273c09899655065437078f | yes | NA | https://cran.r-project.org/src/contrib |\n",
       "| ABCp2 | ABCp2         | 1.2    | NA | MASS                                                | NA                                                                                                                                                                  | NA                  | NA                                            | NA | GPL-2              | NA | NA | NA | NA | e920282d5a369df71e15241be40cb60e | no  | NA | https://cran.r-project.org/src/contrib |\n",
       "| abcrf | abcrf         | 1.8.1  | NA | R(&gt;= 3.1)                                           | readr, MASS, matrixStats, ranger, doParallel, parallel,\n",
       "foreach, stringr, Rcpp (&gt;= 0.11.2)                                                                         | Rcpp, RcppArmadillo | NA                                            | NA | GPL (&gt;= 2)         | NA | NA | NA | NA | 4d5a304f46d117226791523cef4e2427 | yes | NA | https://cran.r-project.org/src/contrib |\n",
       "| abcrlda | abcrlda       | 1.0.3  | NA | NA                                                  | stats                                                                                                                                                               | NA                  | NA                                            | NA | GPL-3              | NA | NA | NA | NA | 651e6e18e08916b443aaf011b5a63525 | no  | NA | https://cran.r-project.org/src/contrib |\n",
       "| abctools | abctools      | 1.1.3  | NA | R (&gt;= 2.10), abc, abind, parallel, plyr, Hmisc      | NA                                                                                                                                                                  | NA                  | ggplot2, abc.data                             | NA | GPL (&gt;= 2)         | NA | NA | NA | NA | c5937b65837ef7e6bfbe141cea257f40 | yes | NA | https://cran.r-project.org/src/contrib |\n",
       "| abd | abd           | 0.2-8  | NA | R (&gt;= 3.0), nlme, lattice, grid, mosaic             | NA                                                                                                                                                                  | NA                  | boot, car, ggplot2, plyr, HH, ICC, vcd, Hmisc | NA | GPL-2              | NA | NA | NA | NA | 1913d76a0fbc44222709381f63f385b9 | no  | NA | https://cran.r-project.org/src/contrib |\n",
       "| abdiv | abdiv         | 0.2.0  | NA | NA                                                  | ape                                                                                                                                                                 | NA                  | testthat (&gt;= 2.1.0), vegan                    | NA | MIT + file LICENSE | NA | NA | NA | NA | 80931c0ca85ba5386000bf617552c5ce | no  | NA | https://cran.r-project.org/src/contrib |\n",
       "| abe | abe           | 3.0.1  | NA | NA                                                  | NA                                                                                                                                                                  | NA                  | NA                                            | NA | GPL (&gt;= 2)         | NA | NA | NA | NA | 9c151db5397422c8927dee41dabfbfab | no  | NA | https://cran.r-project.org/src/contrib |\n",
       "| abf2 | abf2          | 0.7-1  | NA | NA                                                  | NA                                                                                                                                                                  | NA                  | NA                                            | NA | Artistic-2.0       | NA | NA | NA | NA | 6792a51c6fb3e239165d69aa8a71d3cd | no  | NA | https://cran.r-project.org/src/contrib |\n",
       "| ABHgenotypeR | ABHgenotypeR  | 1.0.1  | NA | NA                                                  | ggplot2, reshape2, utils                                                                                                                                            | NA                  | knitr, rmarkdown                              | NA | GPL-3              | NA | NA | NA | NA | ca4397ba7390c0e0a3728c0cda864494 | no  | NA | https://cran.r-project.org/src/contrib |\n",
       "| abind | abind         | 1.4-5  | NA | R (&gt;= 1.5.0)                                        | methods, utils                                                                                                                                                      | NA                  | NA                                            | NA | LGPL (&gt;= 2)        | NA | NA | NA | NA | 136f981e1c4f618b64a87faaa7797c97 | no  | NA | https://cran.r-project.org/src/contrib |\n",
       "| abjutils | abjutils      | 0.3.1  | NA | R (&gt;= 4.0)                                          | dplyr, magrittr, purrr, rlang, rstudioapi, stringi, stringr,\n",
       "tidyr                                                                                                 | NA                  | testthat                                      | NA | MIT + file LICENSE | NA | NA | NA | NA | a596c07aaa7f82e5d123b2f7354e5b55 | no  | NA | https://cran.r-project.org/src/contrib |\n",
       "| abnormality | abnormality   | 0.1.0  | NA | NA                                                  | MASS (&gt;= 7.3.0), Matrix                                                                                                                                             | NA                  | NA                                            | NA | MIT + file LICENSE | NA | NA | NA | NA | da052e7d38d02c5c050e7879f2713345 | no  | NA | https://cran.r-project.org/src/contrib |\n",
       "| abodOutlier | abodOutlier   | 0.1    | NA | cluster, R (&gt;= 3.1.2)                               | NA                                                                                                                                                                  | NA                  | NA                                            | NA | MIT + file LICENSE | NA | NA | NA | NA | e3782e42842fc893d036bdfb7fd86d91 | no  | NA | https://cran.r-project.org/src/contrib |\n",
       "| ABPS | ABPS          | 0.3    | NA | NA                                                  | kernlab                                                                                                                                                             | NA                  | testthat                                      | NA | GPL (&gt;= 2)         | NA | NA | NA | NA | 2f09a946652530e319d433d7f0362be8 | no  | NA | https://cran.r-project.org/src/contrib |\n",
       "| AbsFilterGSEA | AbsFilterGSEA | 1.5.1  | NA | NA                                                  | Rcpp, Biobase, stats, DESeq, limma                                                                                                                                  | Rcpp, RcppArmadillo | NA                                            | NA | GPL-2              | NA | NA | NA | NA | a747572417e9738d1566061e785cfd5f | yes | NA | https://cran.r-project.org/src/contrib |\n",
       "| AbSim | AbSim         | 0.2.6  | NA | R(&gt;= 3.1.0), ape, poweRlaw                          | NA                                                                                                                                                                  | NA                  | knitr, rmarkdown                              | NA | GPL-2              | NA | NA | NA | NA | b31c49e56a211fee06391c7677cef511 | no  | NA | https://cran.r-project.org/src/contrib |\n",
       "| abstractr | abstractr     | 0.1.0  | NA | NA                                                  | shiny (&gt;= 1.2.0), ggplot2 (&gt;= 3.0.0), gridExtra (&gt;= 2.3.0),\n",
       "colourpicker, shinythemes, emojifont, rintrojs                                                         | NA                  | knitr, rmarkdown                              | NA | GPL-3              | NA | NA | NA | NA | 696a9da933b8bc0bb4c93bedc2aa876b | no  | NA | https://cran.r-project.org/src/contrib |\n",
       "| abtest | abtest        | 0.2.1  | NA | R (&gt;= 3.0.0)                                        | Rcpp (&gt;= 0.12.14), mvtnorm, sn, qgam, truncnorm, plotrix,\n",
       "grDevices, RColorBrewer, Matrix, parallel                                                                | Rcpp                | testthat                                      | NA | GPL (&gt;= 2)         | NA | NA | NA | NA | 1d50080cf97378601538efa9b29b0fd1 | yes | NA | https://cran.r-project.org/src/contrib |\n",
       "| ... | ... | ... | ... | ... | ... | ... | ... | ... | ... | ... | ... | ... | ... | ... | ... | ... | ... |\n",
       "| zip | zip        | 2.1.0    | NA | NA                                                    | NA                                                                                                                                                                               | NA                                                                    | covr, processx, R6, testthat, withr                                                                               | NA | CC0                         | NA | NA | NA | NA | 1f63f43f7047c635b8610c8b2d8b05ec | yes | NA | https://cran.r-project.org/src/contrib |\n",
       "| zipangu | zipangu    | 0.2.1    | NA | R (&gt;= 3.2)                                            | dplyr (&gt;= 0.8.3), lifecycle (&gt;= 0.1.0), lubridate (&gt;= 1.7.4),\n",
       "magrittr (&gt;= 1.5), purrr (&gt;= 0.3.3), rlang (&gt;= 0.4.0), stringi\n",
       "(&gt;= 1.4.3), stringr (&gt;= 1.4.0), tibble (&gt;= 2.1.3) | NA                                                                    | covr (&gt;= 3.4.0), testthat (&gt;= 2.1.0)                                                                              | NA | MIT + file LICENSE          | NA | NA | NA | NA | bc47d70b1a15994555829a4c9f765ba2 | no  | NA | https://cran.r-project.org/src/contrib |\n",
       "| ZIPFA | ZIPFA      | 0.8.1    | NA | R (&gt;= 3.2.0)                                          | Matrix, doParallel, foreach, optimx, trustOptim                                                                                                                                  | NA                                                                    | NA                                                                                                                | NA | GPL (&gt;= 2)                  | NA | NA | NA | NA | c8a58823de2bb217d779592f68832444 | no  | NA | https://cran.r-project.org/src/contrib |\n",
       "| zipfextR | zipfextR   | 1.0.2    | NA | R (&gt;= 2.0.1)                                          | VGAM (&gt;= 0.9.8), tolerance(&gt;= 1.2.0), copula(&gt;= 0.999-18)                                                                                                                        | NA                                                                    | testthat                                                                                                          | NA | GPL-3                       | NA | NA | NA | NA | 5ced3986629fbd390be8afca9701d981 | no  | NA | https://cran.r-project.org/src/contrib |\n",
       "| zipfR | zipfR      | 0.6-66   | NA | R (&gt;= 3.0.0)                                          | methods, utils, stats, graphics, grDevices                                                                                                                                       | NA                                                                    | NA                                                                                                                | NA | GPL-3                       | NA | NA | NA | NA | 0a19b8b35445f5eda3fc1a0a70c33ad3 | no  | NA | https://cran.r-project.org/src/contrib |\n",
       "| ziphsmm | ziphsmm    | 2.0.6    | NA | R(&gt;= 3.0.0)                                           | Rcpp, pracma                                                                                                                                                                     | Rcpp, RcppArmadillo                                                   | NA                                                                                                                | NA | GPL                         | NA | NA | NA | NA | cc0371eb4b97c8ece1070426be106294 | yes | NA | https://cran.r-project.org/src/contrib |\n",
       "| zipR | zipR       | 0.1.1    | NA | R (&gt;= 2.1.0)                                          | NA                                                                                                                                                                               | NA                                                                    | knitr, rmarkdown, devtools                                                                                        | NA | GPL-3                       | NA | NA | NA | NA | cc2ca4be4624f3994ee477a8ea070d9d | no  | NA | https://cran.r-project.org/src/contrib |\n",
       "| ZipRadius | ZipRadius  | 1.0.1    | NA | R (&gt;= 2.10)                                           | dplyr, geosphere, magrittr, testthat, rlang, ggplot2                                                                                                                             | NA                                                                    | knitr, rmarkdown                                                                                                  | NA | GPL (&gt;= 2)                  | NA | NA | NA | NA | 078c93bf16ef30ab2dfeac2cbbb6255c | no  | NA | https://cran.r-project.org/src/contrib |\n",
       "| zoeppritz | zoeppritz  | 1.0-7    | NA | NA                                                    | NA                                                                                                                                                                               | NA                                                                    | NA                                                                                                                | NA | GPL (&gt;= 2)                  | NA | NA | NA | NA | 42c4722a18e73ea330f39f05f91f78ac | no  | NA | https://cran.r-project.org/src/contrib |\n",
       "| zoib | zoib       | 1.5.4    | NA | R (&gt;= 3.3.0), rjags, coda, matrixcalc, Formula, abind | NA                                                                                                                                                                               | NA                                                                    | NA                                                                                                                | NA | GPL (&gt;= 3)                  | NA | NA | NA | NA | c0340a16f3ee5ddb5bca9c5535f46605 | no  | NA | https://cran.r-project.org/src/contrib |\n",
       "| ZOIP | ZOIP       | 0.1      | NA | R (&gt;= 3.2.0)                                          | rmutil, boot, numDeriv, GHQp, stats                                                                                                                                              | NA                                                                    | knitr, rmarkdown                                                                                                  | NA | GPL (&gt;= 2)                  | NA | NA | NA | NA | bc98823ad148d44f25d164617435d179 | no  | NA | https://cran.r-project.org/src/contrib |\n",
       "| zoltr | zoltr      | 0.5.1    | NA | NA                                                    | httr, jsonlite, readr, mockery, webmockr, base64url, dplyr,\n",
       "MMWRweek, utils, rlang, magrittr                                                                                    | NA                                                                    | testthat, knitr, rmarkdown                                                                                        | NA | GPL-3                       | NA | NA | NA | NA | 5ded4085dcfd841cfbe383d828d0d6d8 | no  | NA | https://cran.r-project.org/src/contrib |\n",
       "| zonator | zonator    | 0.6.0    | NA | R (&gt;= 2.15.2)                                         | ggplot2 (&gt;= 2.0.0), methods, RColorBrewer, raster, reshape2,\n",
       "rgdal                                                                                                              | NA                                                                    | knitr, rasterVis, rmarkdown, testthat, zdat (&gt;= 0.1.0)                                                            | NA | FreeBSD                     | NA | NA | NA | NA | 74b53facd93c8c1718ac2308452a06fc | no  | NA | https://cran.r-project.org/src/contrib |\n",
       "| zoo | zoo        | 1.8-8    | NA | R (&gt;= 3.1.0), stats                                   | utils, graphics, grDevices, lattice (&gt;= 0.20-27)                                                                                                                                 | NA                                                                    | AER, coda, chron, fts, ggplot2 (&gt;= 3.0.0), mondate, scales,\n",
       "strucchange, timeDate, timeSeries, tis, tseries, xts | NA | GPL-2 | GPL-3               | NA | NA | NA | NA | a751c37a1b84a342851855cae2f40ac5 | yes | NA | https://cran.r-project.org/src/contrib |\n",
       "| zooaRch | zooaRch    | 1.2      | NA | ggplot2                                               | NA                                                                                                                                                                               | NA                                                                    | rmarkdown, knitr                                                                                                  | NA | GPL (&gt;= 2)                  | NA | NA | NA | NA | a81376d2f50218ef074ca3f2dfaea3cb | no  | NA | https://cran.r-project.org/src/contrib |\n",
       "| zooaRchGUI | zooaRchGUI | 1.0.2    | NA | NA                                                    | car, coda, foreign, geomorph, ggplot2, graphics, grDevices,\n",
       "MASS, pgirmess, raster, readxl, rjags, sp, spdep, splancs,\n",
       "stats, tcltk, tcltk2, tkrplot, utils, vegan             | NA                                                                    | rmarkdown, knitr                                                                                                  | NA | GPL (&gt;= 2)                  | NA | NA | NA | NA | 59eca969f68b8323f31f82bce10f853b | no  | NA | https://cran.r-project.org/src/contrib |\n",
       "| zoocat | zoocat     | 0.2.0.1  | NA | R(&gt;= 3.1.1), zoo, reshape2                            | graphics, utils, stats, plyr, scales, grDevices                                                                                                                                  | NA                                                                    | ggplot2, knitr, rmarkdown                                                                                         | NA | GPL-3                       | NA | NA | NA | NA | 05f9138ba1b86b0580bbb6ad08fc11e2 | no  | NA | https://cran.r-project.org/src/contrib |\n",
       "| zooimage | zooimage   | 5.5.2    | NA | R (&gt;= 2.15.0), mlearning                              | svMisc (&gt;= 0.9-67), svDialogs (&gt;= 0.9-53), filehash, jpeg,\n",
       "png, tiff, utils, digest, tools, MASS, mda, shiny, DT                                                                | NA                                                                    | rJava, mlbench                                                                                                    | NA | GPL (&gt;= 2)                  | NA | NA | NA | NA | a2bdb871bb94ea9c863a47b677ff13ad | no  | NA | https://cran.r-project.org/src/contrib |\n",
       "| zoom | zoom       | 2.0.4    | NA | R (&gt;= 2.10.0)                                         | NA                                                                                                                                                                               | NA                                                                    | testthat                                                                                                          | NA | GPL (&gt;= 3)                  | NA | NA | NA | NA | 2d8a69d4342b4f512eebecc5a255beaa | no  | NA | https://cran.r-project.org/src/contrib |\n",
       "| zoon | zoon       | 0.6.5    | NA | raster (&gt;= 2.4-20), R (&gt;= 3.2.0)                      | dismo, methods, plyr, randomForest, RCurl, rfigshare, rgdal,\n",
       "roxygen2, rworldmap, sp, testthat                                                                                  | NA                                                                    | knitr, maxlike, SDMTools                                                                                          | NA | BSD_3_clause + file LICENSE | NA | NA | NA | NA | e25e74891bc33089a76d7684b9e852ec | no  | NA | https://cran.r-project.org/src/contrib |\n",
       "| ZRA | ZRA        | 0.2      | NA | R (&gt;= 3.0.2), forecast, dygraphs, stats               | NA                                                                                                                                                                               | NA                                                                    | NA                                                                                                                | NA | GPL (&gt;= 2)                  | NA | NA | NA | NA | 0b7d36c7518b9613db7df10d29d659c1 | no  | NA | https://cran.r-project.org/src/contrib |\n",
       "| zscorer | zscorer    | 0.3.1    | NA | R (&gt;= 2.10)                                           | shiny                                                                                                                                                                            | NA                                                                    | testthat, knitr, rmarkdown, shinythemes, covr                                                                     | NA | AGPL-3                      | NA | NA | NA | NA | 3b387940a0bbd6c36a2da7cd5f206d62 | no  | NA | https://cran.r-project.org/src/contrib |\n",
       "| Zseq | Zseq       | 0.2.0    | NA | NA                                                    | gmp                                                                                                                                                                              | NA                                                                    | NA                                                                                                                | NA | GPL (&gt;= 3)                  | NA | NA | NA | NA | de0a905ab42ba82cff7141128e20c5f6 | no  | NA | https://cran.r-project.org/src/contrib |\n",
       "| ztable | ztable     | 0.2.0    | NA | R (&gt;= 3.1.2)                                          | stringr, magrittr, RColorBrewer, flextable, officer, moonBook,\n",
       "scales                                                                                                           | NA                                                                    | MASS, survival, testthat, knitr, rmarkdown                                                                        | NA | GPL-2                       | NA | NA | NA | NA | 1a99e081eb816be6db563fae36952fda | no  | NA | https://cran.r-project.org/src/contrib |\n",
       "| ztpln | ztpln      | 0.1.1    | NA | R (&gt;= 3.5)                                            | DistributionUtils, Rcpp (&gt;= 0.12.0), mixtools, stats                                                                                                                             | Rcpp (&gt;= 0.12.0), RcppEigen (&gt;= 0.3.3.3.0), RcppNumerical\n",
       "(&gt;= 0.3-2) | knitr, dplyr, ggplot2, rmarkdown, testthat, tidyr(&gt;= 1.0.0)                                                       | NA | MIT + file LICENSE          | NA | NA | NA | NA | cd019ebff5656b3860570b64cb3dd0ec | yes | NA | https://cran.r-project.org/src/contrib |\n",
       "| zTree | zTree      | 1.0.6    | NA | R (&gt;= 3.1.0)                                          | plyr (&gt;= 1.0)                                                                                                                                                                    | NA                                                                    | NA                                                                                                                | NA | GPL-3 | file LICENSE        | NA | NA | NA | NA | 8f40f64ef7a695496d8ad47d7296e169 | no  | NA | https://cran.r-project.org/src/contrib |\n",
       "| ztype | ztype      | 0.1.0    | NA | NA                                                    | magrittr, rvest, stats, stringr, utils, dplyr, ggplot2,\n",
       "lubridate, assertthat                                                                                                   | NA                                                                    | NA                                                                                                                | NA | GPL-3                       | NA | NA | NA | NA | 28d75de6acc106becb6e49fe6a0d7ed7 | no  | NA | https://cran.r-project.org/src/contrib |\n",
       "| ZVCV | ZVCV       | 2.1.0    | NA | NA                                                    | Rcpp (&gt;= 0.11.0), glmnet, abind, mvtnorm, stats, Rlinsolve,\n",
       "magrittr, dplyr                                                                                                     | Rcpp, RcppArmadillo, BH                                               | partitions, ggplot2, ggthemes                                                                                     | NA | GPL (&gt;= 2)                  | NA | NA | NA | NA | f5eded51ab69995efed877f66a5754ae | yes | NA | https://cran.r-project.org/src/contrib |\n",
       "| zyp | zyp        | 0.10-1.1 | NA | R (&gt;= 2.4.0), Kendall                                 | NA                                                                                                                                                                               | NA                                                                    | NA                                                                                                                | NA | LGPL-2.1                    | NA | NA | NA | NA | 80dac57c016be532372b21b1b4ef9c8b | no  | NA | https://cran.r-project.org/src/contrib |\n",
       "| zzlite | zzlite     | 0.1.2    | NA | R (&gt;= 3.2)                                            | httr, jsonlite                                                                                                                                                                   | NA                                                                    | httptest, roxygen2, testthat, knitr, rmarkdown                                                                    | NA | GPL-3                       | NA | NA | NA | NA | 2698c39a6f1c7e634db063345746e5f8 | no  | NA | https://cran.r-project.org/src/contrib |\n",
       "\n"
      ],
      "text/plain": [
       "              Package       Version  Priority\n",
       "A3            A3            1.0.0    NA      \n",
       "aaSEA         aaSEA         1.1.0    NA      \n",
       "AATtools      AATtools      0.0.1    NA      \n",
       "ABACUS        ABACUS        1.0.0    NA      \n",
       "abbyyR        abbyyR        0.5.5    NA      \n",
       "abc           abc           2.1      NA      \n",
       "abc.data      abc.data      1.0      NA      \n",
       "ABC.RAP       ABC.RAP       0.9.0    NA      \n",
       "abcADM        abcADM        1.0      NA      \n",
       "ABCanalysis   ABCanalysis   1.2.1    NA      \n",
       "abcdeFBA      abcdeFBA      0.4      NA      \n",
       "ABCoptim      ABCoptim      0.15.0   NA      \n",
       "ABCp2         ABCp2         1.2      NA      \n",
       "abcrf         abcrf         1.8.1    NA      \n",
       "abcrlda       abcrlda       1.0.3    NA      \n",
       "abctools      abctools      1.1.3    NA      \n",
       "abd           abd           0.2-8    NA      \n",
       "abdiv         abdiv         0.2.0    NA      \n",
       "abe           abe           3.0.1    NA      \n",
       "abf2          abf2          0.7-1    NA      \n",
       "ABHgenotypeR  ABHgenotypeR  1.0.1    NA      \n",
       "abind         abind         1.4-5    NA      \n",
       "abjutils      abjutils      0.3.1    NA      \n",
       "abnormality   abnormality   0.1.0    NA      \n",
       "abodOutlier   abodOutlier   0.1      NA      \n",
       "ABPS          ABPS          0.3      NA      \n",
       "AbsFilterGSEA AbsFilterGSEA 1.5.1    NA      \n",
       "AbSim         AbSim         0.2.6    NA      \n",
       "abstractr     abstractr     0.1.0    NA      \n",
       "abtest        abtest        0.2.1    NA      \n",
       "...           ...           ...      ...     \n",
       "zip           zip           2.1.0    NA      \n",
       "zipangu       zipangu       0.2.1    NA      \n",
       "ZIPFA         ZIPFA         0.8.1    NA      \n",
       "zipfextR      zipfextR      1.0.2    NA      \n",
       "zipfR         zipfR         0.6-66   NA      \n",
       "ziphsmm       ziphsmm       2.0.6    NA      \n",
       "zipR          zipR          0.1.1    NA      \n",
       "ZipRadius     ZipRadius     1.0.1    NA      \n",
       "zoeppritz     zoeppritz     1.0-7    NA      \n",
       "zoib          zoib          1.5.4    NA      \n",
       "ZOIP          ZOIP          0.1      NA      \n",
       "zoltr         zoltr         0.5.1    NA      \n",
       "zonator       zonator       0.6.0    NA      \n",
       "zoo           zoo           1.8-8    NA      \n",
       "zooaRch       zooaRch       1.2      NA      \n",
       "zooaRchGUI    zooaRchGUI    1.0.2    NA      \n",
       "zoocat        zoocat        0.2.0.1  NA      \n",
       "zooimage      zooimage      5.5.2    NA      \n",
       "zoom          zoom          2.0.4    NA      \n",
       "zoon          zoon          0.6.5    NA      \n",
       "ZRA           ZRA           0.2      NA      \n",
       "zscorer       zscorer       0.3.1    NA      \n",
       "Zseq          Zseq          0.2.0    NA      \n",
       "ztable        ztable        0.2.0    NA      \n",
       "ztpln         ztpln         0.1.1    NA      \n",
       "zTree         zTree         1.0.6    NA      \n",
       "ztype         ztype         0.1.0    NA      \n",
       "ZVCV          ZVCV          2.1.0    NA      \n",
       "zyp           zyp           0.10-1.1 NA      \n",
       "zzlite        zzlite        0.1.2    NA      \n",
       "              Depends                                              \n",
       "A3            R (>= 2.15.0), xtable, pbapply                       \n",
       "aaSEA         R(>= 3.4.0)                                          \n",
       "AATtools      R (>= 3.6.0)                                         \n",
       "ABACUS        R (>= 3.1.0)                                         \n",
       "abbyyR        R (>= 3.2.0)                                         \n",
       "abc           R (>= 2.10), abc.data, nnet, quantreg, MASS, locfit  \n",
       "abc.data      R (>= 2.10)                                          \n",
       "ABC.RAP       R (>= 3.1.0)                                         \n",
       "abcADM        NA                                                   \n",
       "ABCanalysis   R (>= 2.10)                                          \n",
       "abcdeFBA      Rglpk,rgl,corrplot,lattice,R (>= 2.10)               \n",
       "ABCoptim      NA                                                   \n",
       "ABCp2         MASS                                                 \n",
       "abcrf         R(>= 3.1)                                            \n",
       "abcrlda       NA                                                   \n",
       "abctools      R (>= 2.10), abc, abind, parallel, plyr, Hmisc       \n",
       "abd           R (>= 3.0), nlme, lattice, grid, mosaic              \n",
       "abdiv         NA                                                   \n",
       "abe           NA                                                   \n",
       "abf2          NA                                                   \n",
       "ABHgenotypeR  NA                                                   \n",
       "abind         R (>= 1.5.0)                                         \n",
       "abjutils      R (>= 4.0)                                           \n",
       "abnormality   NA                                                   \n",
       "abodOutlier   cluster, R (>= 3.1.2)                                \n",
       "ABPS          NA                                                   \n",
       "AbsFilterGSEA NA                                                   \n",
       "AbSim         R(>= 3.1.0), ape, poweRlaw                           \n",
       "abstractr     NA                                                   \n",
       "abtest        R (>= 3.0.0)                                         \n",
       "...           ...                                                  \n",
       "zip           NA                                                   \n",
       "zipangu       R (>= 3.2)                                           \n",
       "ZIPFA         R (>= 3.2.0)                                         \n",
       "zipfextR      R (>= 2.0.1)                                         \n",
       "zipfR         R (>= 3.0.0)                                         \n",
       "ziphsmm       R(>= 3.0.0)                                          \n",
       "zipR          R (>= 2.1.0)                                         \n",
       "ZipRadius     R (>= 2.10)                                          \n",
       "zoeppritz     NA                                                   \n",
       "zoib          R (>= 3.3.0), rjags, coda, matrixcalc, Formula, abind\n",
       "ZOIP          R (>= 3.2.0)                                         \n",
       "zoltr         NA                                                   \n",
       "zonator       R (>= 2.15.2)                                        \n",
       "zoo           R (>= 3.1.0), stats                                  \n",
       "zooaRch       ggplot2                                              \n",
       "zooaRchGUI    NA                                                   \n",
       "zoocat        R(>= 3.1.1), zoo, reshape2                           \n",
       "zooimage      R (>= 2.15.0), mlearning                             \n",
       "zoom          R (>= 2.10.0)                                        \n",
       "zoon          raster (>= 2.4-20), R (>= 3.2.0)                     \n",
       "ZRA           R (>= 3.0.2), forecast, dygraphs, stats              \n",
       "zscorer       R (>= 2.10)                                          \n",
       "Zseq          NA                                                   \n",
       "ztable        R (>= 3.1.2)                                         \n",
       "ztpln         R (>= 3.5)                                           \n",
       "zTree         R (>= 3.1.0)                                         \n",
       "ztype         NA                                                   \n",
       "ZVCV          NA                                                   \n",
       "zyp           R (>= 2.4.0), Kendall                                \n",
       "zzlite        R (>= 3.2)                                           \n",
       "              Imports                                                                                                                                                                         \n",
       "A3            NA                                                                                                                                                                              \n",
       "aaSEA         DT(>= 0.4), networkD3(>= 0.4), shiny(>= 1.0.5),\\nshinydashboard(>= 0.7.0), magrittr(>= 1.5), Bios2cor(>= 2.0),\\nseqinr(>= 3.4-5), plotly(>= 4.7.1), Hmisc(>= 4.1-1)             \n",
       "AATtools      magrittr, dplyr, doParallel, foreach                                                                                                                                            \n",
       "ABACUS        ggplot2 (>= 3.1.0), shiny (>= 1.3.1),                                                                                                                                           \n",
       "abbyyR        httr, XML, curl, readr, plyr, progress                                                                                                                                          \n",
       "abc           NA                                                                                                                                                                              \n",
       "abc.data      NA                                                                                                                                                                              \n",
       "ABC.RAP       graphics, stats, utils                                                                                                                                                          \n",
       "abcADM        Rcpp (>= 1.0.1)                                                                                                                                                                 \n",
       "ABCanalysis   plotrix                                                                                                                                                                         \n",
       "abcdeFBA      NA                                                                                                                                                                              \n",
       "ABCoptim      Rcpp, graphics, stats, utils                                                                                                                                                    \n",
       "ABCp2         NA                                                                                                                                                                              \n",
       "abcrf         readr, MASS, matrixStats, ranger, doParallel, parallel,\\nforeach, stringr, Rcpp (>= 0.11.2)                                                                                     \n",
       "abcrlda       stats                                                                                                                                                                           \n",
       "abctools      NA                                                                                                                                                                              \n",
       "abd           NA                                                                                                                                                                              \n",
       "abdiv         ape                                                                                                                                                                             \n",
       "abe           NA                                                                                                                                                                              \n",
       "abf2          NA                                                                                                                                                                              \n",
       "ABHgenotypeR  ggplot2, reshape2, utils                                                                                                                                                        \n",
       "abind         methods, utils                                                                                                                                                                  \n",
       "abjutils      dplyr, magrittr, purrr, rlang, rstudioapi, stringi, stringr,\\ntidyr                                                                                                             \n",
       "abnormality   MASS (>= 7.3.0), Matrix                                                                                                                                                         \n",
       "abodOutlier   NA                                                                                                                                                                              \n",
       "ABPS          kernlab                                                                                                                                                                         \n",
       "AbsFilterGSEA Rcpp, Biobase, stats, DESeq, limma                                                                                                                                              \n",
       "AbSim         NA                                                                                                                                                                              \n",
       "abstractr     shiny (>= 1.2.0), ggplot2 (>= 3.0.0), gridExtra (>= 2.3.0),\\ncolourpicker, shinythemes, emojifont, rintrojs                                                                     \n",
       "abtest        Rcpp (>= 0.12.14), mvtnorm, sn, qgam, truncnorm, plotrix,\\ngrDevices, RColorBrewer, Matrix, parallel                                                                            \n",
       "...           ...                                                                                                                                                                             \n",
       "zip           NA                                                                                                                                                                              \n",
       "zipangu       dplyr (>= 0.8.3), lifecycle (>= 0.1.0), lubridate (>= 1.7.4),\\nmagrittr (>= 1.5), purrr (>= 0.3.3), rlang (>= 0.4.0), stringi\\n(>= 1.4.3), stringr (>= 1.4.0), tibble (>= 2.1.3)\n",
       "ZIPFA         Matrix, doParallel, foreach, optimx, trustOptim                                                                                                                                 \n",
       "zipfextR      VGAM (>= 0.9.8), tolerance(>= 1.2.0), copula(>= 0.999-18)                                                                                                                       \n",
       "zipfR         methods, utils, stats, graphics, grDevices                                                                                                                                      \n",
       "ziphsmm       Rcpp, pracma                                                                                                                                                                    \n",
       "zipR          NA                                                                                                                                                                              \n",
       "ZipRadius     dplyr, geosphere, magrittr, testthat, rlang, ggplot2                                                                                                                            \n",
       "zoeppritz     NA                                                                                                                                                                              \n",
       "zoib          NA                                                                                                                                                                              \n",
       "ZOIP          rmutil, boot, numDeriv, GHQp, stats                                                                                                                                             \n",
       "zoltr         httr, jsonlite, readr, mockery, webmockr, base64url, dplyr,\\nMMWRweek, utils, rlang, magrittr                                                                                   \n",
       "zonator       ggplot2 (>= 2.0.0), methods, RColorBrewer, raster, reshape2,\\nrgdal                                                                                                             \n",
       "zoo           utils, graphics, grDevices, lattice (>= 0.20-27)                                                                                                                                \n",
       "zooaRch       NA                                                                                                                                                                              \n",
       "zooaRchGUI    car, coda, foreign, geomorph, ggplot2, graphics, grDevices,\\nMASS, pgirmess, raster, readxl, rjags, sp, spdep, splancs,\\nstats, tcltk, tcltk2, tkrplot, utils, vegan            \n",
       "zoocat        graphics, utils, stats, plyr, scales, grDevices                                                                                                                                 \n",
       "zooimage      svMisc (>= 0.9-67), svDialogs (>= 0.9-53), filehash, jpeg,\\npng, tiff, utils, digest, tools, MASS, mda, shiny, DT                                                               \n",
       "zoom          NA                                                                                                                                                                              \n",
       "zoon          dismo, methods, plyr, randomForest, RCurl, rfigshare, rgdal,\\nroxygen2, rworldmap, sp, testthat                                                                                 \n",
       "ZRA           NA                                                                                                                                                                              \n",
       "zscorer       shiny                                                                                                                                                                           \n",
       "Zseq          gmp                                                                                                                                                                             \n",
       "ztable        stringr, magrittr, RColorBrewer, flextable, officer, moonBook,\\nscales                                                                                                          \n",
       "ztpln         DistributionUtils, Rcpp (>= 0.12.0), mixtools, stats                                                                                                                            \n",
       "zTree         plyr (>= 1.0)                                                                                                                                                                   \n",
       "ztype         magrittr, rvest, stats, stringr, utils, dplyr, ggplot2,\\nlubridate, assertthat                                                                                                  \n",
       "ZVCV          Rcpp (>= 0.11.0), glmnet, abind, mvtnorm, stats, Rlinsolve,\\nmagrittr, dplyr                                                                                                    \n",
       "zyp           NA                                                                                                                                                                              \n",
       "zzlite        httr, jsonlite                                                                                                                                                                  \n",
       "              LinkingTo                                                            \n",
       "A3            NA                                                                   \n",
       "aaSEA         NA                                                                   \n",
       "AATtools      NA                                                                   \n",
       "ABACUS        NA                                                                   \n",
       "abbyyR        NA                                                                   \n",
       "abc           NA                                                                   \n",
       "abc.data      NA                                                                   \n",
       "ABC.RAP       NA                                                                   \n",
       "abcADM        Rcpp, BH                                                             \n",
       "ABCanalysis   NA                                                                   \n",
       "abcdeFBA      NA                                                                   \n",
       "ABCoptim      Rcpp                                                                 \n",
       "ABCp2         NA                                                                   \n",
       "abcrf         Rcpp, RcppArmadillo                                                  \n",
       "abcrlda       NA                                                                   \n",
       "abctools      NA                                                                   \n",
       "abd           NA                                                                   \n",
       "abdiv         NA                                                                   \n",
       "abe           NA                                                                   \n",
       "abf2          NA                                                                   \n",
       "ABHgenotypeR  NA                                                                   \n",
       "abind         NA                                                                   \n",
       "abjutils      NA                                                                   \n",
       "abnormality   NA                                                                   \n",
       "abodOutlier   NA                                                                   \n",
       "ABPS          NA                                                                   \n",
       "AbsFilterGSEA Rcpp, RcppArmadillo                                                  \n",
       "AbSim         NA                                                                   \n",
       "abstractr     NA                                                                   \n",
       "abtest        Rcpp                                                                 \n",
       "...           ...                                                                  \n",
       "zip           NA                                                                   \n",
       "zipangu       NA                                                                   \n",
       "ZIPFA         NA                                                                   \n",
       "zipfextR      NA                                                                   \n",
       "zipfR         NA                                                                   \n",
       "ziphsmm       Rcpp, RcppArmadillo                                                  \n",
       "zipR          NA                                                                   \n",
       "ZipRadius     NA                                                                   \n",
       "zoeppritz     NA                                                                   \n",
       "zoib          NA                                                                   \n",
       "ZOIP          NA                                                                   \n",
       "zoltr         NA                                                                   \n",
       "zonator       NA                                                                   \n",
       "zoo           NA                                                                   \n",
       "zooaRch       NA                                                                   \n",
       "zooaRchGUI    NA                                                                   \n",
       "zoocat        NA                                                                   \n",
       "zooimage      NA                                                                   \n",
       "zoom          NA                                                                   \n",
       "zoon          NA                                                                   \n",
       "ZRA           NA                                                                   \n",
       "zscorer       NA                                                                   \n",
       "Zseq          NA                                                                   \n",
       "ztable        NA                                                                   \n",
       "ztpln         Rcpp (>= 0.12.0), RcppEigen (>= 0.3.3.3.0), RcppNumerical\\n(>= 0.3-2)\n",
       "zTree         NA                                                                   \n",
       "ztype         NA                                                                   \n",
       "ZVCV          Rcpp, RcppArmadillo, BH                                              \n",
       "zyp           NA                                                                   \n",
       "zzlite        NA                                                                   \n",
       "              Suggests                                                                                                         \n",
       "A3            randomForest, e1071                                                                                              \n",
       "aaSEA         knitr, rmarkdown                                                                                                 \n",
       "AATtools      NA                                                                                                               \n",
       "ABACUS        rmarkdown (>= 1.13), knitr (>= 1.22)                                                                             \n",
       "abbyyR        testthat, rmarkdown, knitr (>= 1.11), lintr                                                                      \n",
       "abc           NA                                                                                                               \n",
       "abc.data      NA                                                                                                               \n",
       "ABC.RAP       knitr, rmarkdown                                                                                                 \n",
       "abcADM        NA                                                                                                               \n",
       "ABCanalysis   NA                                                                                                               \n",
       "abcdeFBA      LIM,sybil                                                                                                        \n",
       "ABCoptim      testthat, covr                                                                                                   \n",
       "ABCp2         NA                                                                                                               \n",
       "abcrf         NA                                                                                                               \n",
       "abcrlda       NA                                                                                                               \n",
       "abctools      ggplot2, abc.data                                                                                                \n",
       "abd           boot, car, ggplot2, plyr, HH, ICC, vcd, Hmisc                                                                    \n",
       "abdiv         testthat (>= 2.1.0), vegan                                                                                       \n",
       "abe           NA                                                                                                               \n",
       "abf2          NA                                                                                                               \n",
       "ABHgenotypeR  knitr, rmarkdown                                                                                                 \n",
       "abind         NA                                                                                                               \n",
       "abjutils      testthat                                                                                                         \n",
       "abnormality   NA                                                                                                               \n",
       "abodOutlier   NA                                                                                                               \n",
       "ABPS          testthat                                                                                                         \n",
       "AbsFilterGSEA NA                                                                                                               \n",
       "AbSim         knitr, rmarkdown                                                                                                 \n",
       "abstractr     knitr, rmarkdown                                                                                                 \n",
       "abtest        testthat                                                                                                         \n",
       "...           ...                                                                                                              \n",
       "zip           covr, processx, R6, testthat, withr                                                                              \n",
       "zipangu       covr (>= 3.4.0), testthat (>= 2.1.0)                                                                             \n",
       "ZIPFA         NA                                                                                                               \n",
       "zipfextR      testthat                                                                                                         \n",
       "zipfR         NA                                                                                                               \n",
       "ziphsmm       NA                                                                                                               \n",
       "zipR          knitr, rmarkdown, devtools                                                                                       \n",
       "ZipRadius     knitr, rmarkdown                                                                                                 \n",
       "zoeppritz     NA                                                                                                               \n",
       "zoib          NA                                                                                                               \n",
       "ZOIP          knitr, rmarkdown                                                                                                 \n",
       "zoltr         testthat, knitr, rmarkdown                                                                                       \n",
       "zonator       knitr, rasterVis, rmarkdown, testthat, zdat (>= 0.1.0)                                                           \n",
       "zoo           AER, coda, chron, fts, ggplot2 (>= 3.0.0), mondate, scales,\\nstrucchange, timeDate, timeSeries, tis, tseries, xts\n",
       "zooaRch       rmarkdown, knitr                                                                                                 \n",
       "zooaRchGUI    rmarkdown, knitr                                                                                                 \n",
       "zoocat        ggplot2, knitr, rmarkdown                                                                                        \n",
       "zooimage      rJava, mlbench                                                                                                   \n",
       "zoom          testthat                                                                                                         \n",
       "zoon          knitr, maxlike, SDMTools                                                                                         \n",
       "ZRA           NA                                                                                                               \n",
       "zscorer       testthat, knitr, rmarkdown, shinythemes, covr                                                                    \n",
       "Zseq          NA                                                                                                               \n",
       "ztable        MASS, survival, testthat, knitr, rmarkdown                                                                       \n",
       "ztpln         knitr, dplyr, ggplot2, rmarkdown, testthat, tidyr(>= 1.0.0)                                                      \n",
       "zTree         NA                                                                                                               \n",
       "ztype         NA                                                                                                               \n",
       "ZVCV          partitions, ggplot2, ggthemes                                                                                    \n",
       "zyp           NA                                                                                                               \n",
       "zzlite        httptest, roxygen2, testthat, knitr, rmarkdown                                                                   \n",
       "              Enhances License                     License_is_FOSS\n",
       "A3            NA       GPL (>= 2)                  NA             \n",
       "aaSEA         NA       GPL-3                       NA             \n",
       "AATtools      NA       GPL-3                       NA             \n",
       "ABACUS        NA       GPL-3                       NA             \n",
       "abbyyR        NA       MIT + file LICENSE          NA             \n",
       "abc           NA       GPL (>= 3)                  NA             \n",
       "abc.data      NA       GPL (>= 3)                  NA             \n",
       "ABC.RAP       NA       GPL-3                       NA             \n",
       "abcADM        NA       GPL-3                       NA             \n",
       "ABCanalysis   NA       GPL-3                       NA             \n",
       "abcdeFBA      NA       GPL-2                       NA             \n",
       "ABCoptim      NA       MIT + file LICENSE          NA             \n",
       "ABCp2         NA       GPL-2                       NA             \n",
       "abcrf         NA       GPL (>= 2)                  NA             \n",
       "abcrlda       NA       GPL-3                       NA             \n",
       "abctools      NA       GPL (>= 2)                  NA             \n",
       "abd           NA       GPL-2                       NA             \n",
       "abdiv         NA       MIT + file LICENSE          NA             \n",
       "abe           NA       GPL (>= 2)                  NA             \n",
       "abf2          NA       Artistic-2.0                NA             \n",
       "ABHgenotypeR  NA       GPL-3                       NA             \n",
       "abind         NA       LGPL (>= 2)                 NA             \n",
       "abjutils      NA       MIT + file LICENSE          NA             \n",
       "abnormality   NA       MIT + file LICENSE          NA             \n",
       "abodOutlier   NA       MIT + file LICENSE          NA             \n",
       "ABPS          NA       GPL (>= 2)                  NA             \n",
       "AbsFilterGSEA NA       GPL-2                       NA             \n",
       "AbSim         NA       GPL-2                       NA             \n",
       "abstractr     NA       GPL-3                       NA             \n",
       "abtest        NA       GPL (>= 2)                  NA             \n",
       "...           ...      ...                         ...            \n",
       "zip           NA       CC0                         NA             \n",
       "zipangu       NA       MIT + file LICENSE          NA             \n",
       "ZIPFA         NA       GPL (>= 2)                  NA             \n",
       "zipfextR      NA       GPL-3                       NA             \n",
       "zipfR         NA       GPL-3                       NA             \n",
       "ziphsmm       NA       GPL                         NA             \n",
       "zipR          NA       GPL-3                       NA             \n",
       "ZipRadius     NA       GPL (>= 2)                  NA             \n",
       "zoeppritz     NA       GPL (>= 2)                  NA             \n",
       "zoib          NA       GPL (>= 3)                  NA             \n",
       "ZOIP          NA       GPL (>= 2)                  NA             \n",
       "zoltr         NA       GPL-3                       NA             \n",
       "zonator       NA       FreeBSD                     NA             \n",
       "zoo           NA       GPL-2 | GPL-3               NA             \n",
       "zooaRch       NA       GPL (>= 2)                  NA             \n",
       "zooaRchGUI    NA       GPL (>= 2)                  NA             \n",
       "zoocat        NA       GPL-3                       NA             \n",
       "zooimage      NA       GPL (>= 2)                  NA             \n",
       "zoom          NA       GPL (>= 3)                  NA             \n",
       "zoon          NA       BSD_3_clause + file LICENSE NA             \n",
       "ZRA           NA       GPL (>= 2)                  NA             \n",
       "zscorer       NA       AGPL-3                      NA             \n",
       "Zseq          NA       GPL (>= 3)                  NA             \n",
       "ztable        NA       GPL-2                       NA             \n",
       "ztpln         NA       MIT + file LICENSE          NA             \n",
       "zTree         NA       GPL-3 | file LICENSE        NA             \n",
       "ztype         NA       GPL-3                       NA             \n",
       "ZVCV          NA       GPL (>= 2)                  NA             \n",
       "zyp           NA       LGPL-2.1                    NA             \n",
       "zzlite        NA       GPL-3                       NA             \n",
       "              License_restricts_use OS_type Archs\n",
       "A3            NA                    NA      NA   \n",
       "aaSEA         NA                    NA      NA   \n",
       "AATtools      NA                    NA      NA   \n",
       "ABACUS        NA                    NA      NA   \n",
       "abbyyR        NA                    NA      NA   \n",
       "abc           NA                    NA      NA   \n",
       "abc.data      NA                    NA      NA   \n",
       "ABC.RAP       NA                    NA      NA   \n",
       "abcADM        NA                    NA      NA   \n",
       "ABCanalysis   NA                    NA      NA   \n",
       "abcdeFBA      NA                    NA      NA   \n",
       "ABCoptim      NA                    NA      NA   \n",
       "ABCp2         NA                    NA      NA   \n",
       "abcrf         NA                    NA      NA   \n",
       "abcrlda       NA                    NA      NA   \n",
       "abctools      NA                    NA      NA   \n",
       "abd           NA                    NA      NA   \n",
       "abdiv         NA                    NA      NA   \n",
       "abe           NA                    NA      NA   \n",
       "abf2          NA                    NA      NA   \n",
       "ABHgenotypeR  NA                    NA      NA   \n",
       "abind         NA                    NA      NA   \n",
       "abjutils      NA                    NA      NA   \n",
       "abnormality   NA                    NA      NA   \n",
       "abodOutlier   NA                    NA      NA   \n",
       "ABPS          NA                    NA      NA   \n",
       "AbsFilterGSEA NA                    NA      NA   \n",
       "AbSim         NA                    NA      NA   \n",
       "abstractr     NA                    NA      NA   \n",
       "abtest        NA                    NA      NA   \n",
       "...           ...                   ...     ...  \n",
       "zip           NA                    NA      NA   \n",
       "zipangu       NA                    NA      NA   \n",
       "ZIPFA         NA                    NA      NA   \n",
       "zipfextR      NA                    NA      NA   \n",
       "zipfR         NA                    NA      NA   \n",
       "ziphsmm       NA                    NA      NA   \n",
       "zipR          NA                    NA      NA   \n",
       "ZipRadius     NA                    NA      NA   \n",
       "zoeppritz     NA                    NA      NA   \n",
       "zoib          NA                    NA      NA   \n",
       "ZOIP          NA                    NA      NA   \n",
       "zoltr         NA                    NA      NA   \n",
       "zonator       NA                    NA      NA   \n",
       "zoo           NA                    NA      NA   \n",
       "zooaRch       NA                    NA      NA   \n",
       "zooaRchGUI    NA                    NA      NA   \n",
       "zoocat        NA                    NA      NA   \n",
       "zooimage      NA                    NA      NA   \n",
       "zoom          NA                    NA      NA   \n",
       "zoon          NA                    NA      NA   \n",
       "ZRA           NA                    NA      NA   \n",
       "zscorer       NA                    NA      NA   \n",
       "Zseq          NA                    NA      NA   \n",
       "ztable        NA                    NA      NA   \n",
       "ztpln         NA                    NA      NA   \n",
       "zTree         NA                    NA      NA   \n",
       "ztype         NA                    NA      NA   \n",
       "ZVCV          NA                    NA      NA   \n",
       "zyp           NA                    NA      NA   \n",
       "zzlite        NA                    NA      NA   \n",
       "              MD5sum                           NeedsCompilation File\n",
       "A3            027ebdd8affce8f0effaecfcd5f5ade2 no               NA  \n",
       "aaSEA         0f9aaefc1f1cf18b6167f85dab3180d8 no               NA  \n",
       "AATtools      3bd92dbd94573afb17ebc5eab23473cb no               NA  \n",
       "ABACUS        50c54c4da09307cb95a70aaaa54b9fbd no               NA  \n",
       "abbyyR        e048a3bca6ea32126e6c367415c0bfaf no               NA  \n",
       "abc           c9fffe4334c178917f762735aba59653 no               NA  \n",
       "abc.data      799079dbbdd0cfc9d9c61c3e35241806 no               NA  \n",
       "ABC.RAP       38c65a7251d28ef2462ee430ded95700 no               NA  \n",
       "abcADM        8134f67912b506194e3dab4ccd6e75f7 yes              NA  \n",
       "ABCanalysis   678e03837e25a922bf71bafe1f8de617 no               NA  \n",
       "abcdeFBA      c84d45a85d8ab6bbe517365e8845db83 no               NA  \n",
       "ABCoptim      a62ed03650273c09899655065437078f yes              NA  \n",
       "ABCp2         e920282d5a369df71e15241be40cb60e no               NA  \n",
       "abcrf         4d5a304f46d117226791523cef4e2427 yes              NA  \n",
       "abcrlda       651e6e18e08916b443aaf011b5a63525 no               NA  \n",
       "abctools      c5937b65837ef7e6bfbe141cea257f40 yes              NA  \n",
       "abd           1913d76a0fbc44222709381f63f385b9 no               NA  \n",
       "abdiv         80931c0ca85ba5386000bf617552c5ce no               NA  \n",
       "abe           9c151db5397422c8927dee41dabfbfab no               NA  \n",
       "abf2          6792a51c6fb3e239165d69aa8a71d3cd no               NA  \n",
       "ABHgenotypeR  ca4397ba7390c0e0a3728c0cda864494 no               NA  \n",
       "abind         136f981e1c4f618b64a87faaa7797c97 no               NA  \n",
       "abjutils      a596c07aaa7f82e5d123b2f7354e5b55 no               NA  \n",
       "abnormality   da052e7d38d02c5c050e7879f2713345 no               NA  \n",
       "abodOutlier   e3782e42842fc893d036bdfb7fd86d91 no               NA  \n",
       "ABPS          2f09a946652530e319d433d7f0362be8 no               NA  \n",
       "AbsFilterGSEA a747572417e9738d1566061e785cfd5f yes              NA  \n",
       "AbSim         b31c49e56a211fee06391c7677cef511 no               NA  \n",
       "abstractr     696a9da933b8bc0bb4c93bedc2aa876b no               NA  \n",
       "abtest        1d50080cf97378601538efa9b29b0fd1 yes              NA  \n",
       "...           ...                              ...              ... \n",
       "zip           1f63f43f7047c635b8610c8b2d8b05ec yes              NA  \n",
       "zipangu       bc47d70b1a15994555829a4c9f765ba2 no               NA  \n",
       "ZIPFA         c8a58823de2bb217d779592f68832444 no               NA  \n",
       "zipfextR      5ced3986629fbd390be8afca9701d981 no               NA  \n",
       "zipfR         0a19b8b35445f5eda3fc1a0a70c33ad3 no               NA  \n",
       "ziphsmm       cc0371eb4b97c8ece1070426be106294 yes              NA  \n",
       "zipR          cc2ca4be4624f3994ee477a8ea070d9d no               NA  \n",
       "ZipRadius     078c93bf16ef30ab2dfeac2cbbb6255c no               NA  \n",
       "zoeppritz     42c4722a18e73ea330f39f05f91f78ac no               NA  \n",
       "zoib          c0340a16f3ee5ddb5bca9c5535f46605 no               NA  \n",
       "ZOIP          bc98823ad148d44f25d164617435d179 no               NA  \n",
       "zoltr         5ded4085dcfd841cfbe383d828d0d6d8 no               NA  \n",
       "zonator       74b53facd93c8c1718ac2308452a06fc no               NA  \n",
       "zoo           a751c37a1b84a342851855cae2f40ac5 yes              NA  \n",
       "zooaRch       a81376d2f50218ef074ca3f2dfaea3cb no               NA  \n",
       "zooaRchGUI    59eca969f68b8323f31f82bce10f853b no               NA  \n",
       "zoocat        05f9138ba1b86b0580bbb6ad08fc11e2 no               NA  \n",
       "zooimage      a2bdb871bb94ea9c863a47b677ff13ad no               NA  \n",
       "zoom          2d8a69d4342b4f512eebecc5a255beaa no               NA  \n",
       "zoon          e25e74891bc33089a76d7684b9e852ec no               NA  \n",
       "ZRA           0b7d36c7518b9613db7df10d29d659c1 no               NA  \n",
       "zscorer       3b387940a0bbd6c36a2da7cd5f206d62 no               NA  \n",
       "Zseq          de0a905ab42ba82cff7141128e20c5f6 no               NA  \n",
       "ztable        1a99e081eb816be6db563fae36952fda no               NA  \n",
       "ztpln         cd019ebff5656b3860570b64cb3dd0ec yes              NA  \n",
       "zTree         8f40f64ef7a695496d8ad47d7296e169 no               NA  \n",
       "ztype         28d75de6acc106becb6e49fe6a0d7ed7 no               NA  \n",
       "ZVCV          f5eded51ab69995efed877f66a5754ae yes              NA  \n",
       "zyp           80dac57c016be532372b21b1b4ef9c8b no               NA  \n",
       "zzlite        2698c39a6f1c7e634db063345746e5f8 no               NA  \n",
       "              Repository                            \n",
       "A3            https://cran.r-project.org/src/contrib\n",
       "aaSEA         https://cran.r-project.org/src/contrib\n",
       "AATtools      https://cran.r-project.org/src/contrib\n",
       "ABACUS        https://cran.r-project.org/src/contrib\n",
       "abbyyR        https://cran.r-project.org/src/contrib\n",
       "abc           https://cran.r-project.org/src/contrib\n",
       "abc.data      https://cran.r-project.org/src/contrib\n",
       "ABC.RAP       https://cran.r-project.org/src/contrib\n",
       "abcADM        https://cran.r-project.org/src/contrib\n",
       "ABCanalysis   https://cran.r-project.org/src/contrib\n",
       "abcdeFBA      https://cran.r-project.org/src/contrib\n",
       "ABCoptim      https://cran.r-project.org/src/contrib\n",
       "ABCp2         https://cran.r-project.org/src/contrib\n",
       "abcrf         https://cran.r-project.org/src/contrib\n",
       "abcrlda       https://cran.r-project.org/src/contrib\n",
       "abctools      https://cran.r-project.org/src/contrib\n",
       "abd           https://cran.r-project.org/src/contrib\n",
       "abdiv         https://cran.r-project.org/src/contrib\n",
       "abe           https://cran.r-project.org/src/contrib\n",
       "abf2          https://cran.r-project.org/src/contrib\n",
       "ABHgenotypeR  https://cran.r-project.org/src/contrib\n",
       "abind         https://cran.r-project.org/src/contrib\n",
       "abjutils      https://cran.r-project.org/src/contrib\n",
       "abnormality   https://cran.r-project.org/src/contrib\n",
       "abodOutlier   https://cran.r-project.org/src/contrib\n",
       "ABPS          https://cran.r-project.org/src/contrib\n",
       "AbsFilterGSEA https://cran.r-project.org/src/contrib\n",
       "AbSim         https://cran.r-project.org/src/contrib\n",
       "abstractr     https://cran.r-project.org/src/contrib\n",
       "abtest        https://cran.r-project.org/src/contrib\n",
       "...           ...                                   \n",
       "zip           https://cran.r-project.org/src/contrib\n",
       "zipangu       https://cran.r-project.org/src/contrib\n",
       "ZIPFA         https://cran.r-project.org/src/contrib\n",
       "zipfextR      https://cran.r-project.org/src/contrib\n",
       "zipfR         https://cran.r-project.org/src/contrib\n",
       "ziphsmm       https://cran.r-project.org/src/contrib\n",
       "zipR          https://cran.r-project.org/src/contrib\n",
       "ZipRadius     https://cran.r-project.org/src/contrib\n",
       "zoeppritz     https://cran.r-project.org/src/contrib\n",
       "zoib          https://cran.r-project.org/src/contrib\n",
       "ZOIP          https://cran.r-project.org/src/contrib\n",
       "zoltr         https://cran.r-project.org/src/contrib\n",
       "zonator       https://cran.r-project.org/src/contrib\n",
       "zoo           https://cran.r-project.org/src/contrib\n",
       "zooaRch       https://cran.r-project.org/src/contrib\n",
       "zooaRchGUI    https://cran.r-project.org/src/contrib\n",
       "zoocat        https://cran.r-project.org/src/contrib\n",
       "zooimage      https://cran.r-project.org/src/contrib\n",
       "zoom          https://cran.r-project.org/src/contrib\n",
       "zoon          https://cran.r-project.org/src/contrib\n",
       "ZRA           https://cran.r-project.org/src/contrib\n",
       "zscorer       https://cran.r-project.org/src/contrib\n",
       "Zseq          https://cran.r-project.org/src/contrib\n",
       "ztable        https://cran.r-project.org/src/contrib\n",
       "ztpln         https://cran.r-project.org/src/contrib\n",
       "zTree         https://cran.r-project.org/src/contrib\n",
       "ztype         https://cran.r-project.org/src/contrib\n",
       "ZVCV          https://cran.r-project.org/src/contrib\n",
       "zyp           https://cran.r-project.org/src/contrib\n",
       "zzlite        https://cran.r-project.org/src/contrib"
      ]
     },
     "metadata": {},
     "output_type": "display_data"
    }
   ],
   "source": [
    "#install packages:\n",
    "#install.packages(\"dplyr\") #repos='http://cran.us.r-project.org'\n",
    "#install.packages(\"comprehenr\") #repos='http://cran.us.r-project.org'\n",
    "#install.packages(\"lubridate\")\n",
    "install.packages(\"tidyverse\")\n",
    "library(\"dplyr\")\n",
    "library(\"lubridate\")\n",
    "library ('tidyverse')\n",
    "library ('irr')\n",
    "library(\"readr\")\n",
    "#available.packages()"
   ]
  },
  {
   "cell_type": "code",
   "execution_count": 1,
   "metadata": {},
   "outputs": [
    {
     "data": {
      "text/plain": [
       "R version 3.6.3 (2020-02-29)\n",
       "Platform: x86_64-w64-mingw32/x64 (64-bit)\n",
       "Running under: Windows 10 x64 (build 18363)\n",
       "\n",
       "Matrix products: default\n",
       "\n",
       "locale:\n",
       "[1] LC_COLLATE=French_Switzerland.1252  LC_CTYPE=French_Switzerland.1252   \n",
       "[3] LC_MONETARY=French_Switzerland.1252 LC_NUMERIC=C                       \n",
       "[5] LC_TIME=French_Switzerland.1252    \n",
       "\n",
       "attached base packages:\n",
       "[1] stats     graphics  grDevices utils     datasets  methods   base     \n",
       "\n",
       "loaded via a namespace (and not attached):\n",
       " [1] compiler_3.6.3  IRdisplay_0.7.0 pbdZMQ_0.3-3    tools_3.6.3    \n",
       " [5] htmltools_0.3.6 base64enc_0.1-3 crayon_1.3.4    Rcpp_1.0.1     \n",
       " [9] uuid_0.1-2      IRkernel_1.1.1  jsonlite_1.6    digest_0.6.18  \n",
       "[13] repr_0.19.2     evaluate_0.13  "
      ]
     },
     "metadata": {},
     "output_type": "display_data"
    }
   ],
   "source": [
    "sessionInfo()"
   ]
  },
  {
   "cell_type": "code",
   "execution_count": null,
   "metadata": {},
   "outputs": [],
   "source": [
    "#update packege: go to enviroenemtn: conda activate r4-base\n",
    "#then install package wth r-packag enema\n",
    "conda install r-rstatix"
   ]
  },
  {
   "cell_type": "code",
   "execution_count": null,
   "metadata": {},
   "outputs": [],
   "source": [
    "#read csv\n",
    "#trim_ws: remove space add begingin or end\n",
    "df = read_delim(file.path(path_records,'VideoObservation','VideoObservationAllStudents.csv'),';',trim_ws = TRUE)"
   ]
  },
  {
   "cell_type": "code",
   "execution_count": null,
   "metadata": {},
   "outputs": [],
   "source": [
    "#removes all objects from the current workspace (R memory)\n",
    "rm(list=ls())"
   ]
  },
  {
   "cell_type": "raw",
   "metadata": {},
   "source": [
    "install.packages(\"dplyr\").\n",
    "\n",
    "After loading dplyr, you can use the following R functions:\n",
    "\n",
    "filter(): Pick rows (observations/samples) based on their values.\n",
    "distinct(): Remove duplicate rows.\n",
    "arrange(): Reorder the rows.\n",
    "select(): Select columns (variables) by their names.\n",
    "rename(): Rename columns.\n",
    "mutate(): Add/create new variables.\n",
    "summarise(): Compute statistical summaries (e.g., computing the mean or the sum)\n",
    "group_by(): Operate on subsets of the data set.\n",
    "table() and xtabs(): Create contingency tables containing frequencies. xtabs allows to use formulas.\n",
    "prop.table(): Compute proportions over rows, columns or overall totals\n",
    "margin.table(): Compute rows, columns or overall totals (i.e, sums)\n",
    "\n",
    "e.x.:\n",
    "#create a table with nbr of such entrys from two columns (class and survived)\n",
    "xtab <- xtabs(~Class + Survived, data = titanic.raw)\n",
    "# Frequencies relative to row total\n",
    "prop.table(xtab, 1)\n",
    "# Frequencies relative to column total\n",
    "prop.table(xtab, 2)\n",
    "# Frequencies relative to the table grand total\n",
    "xtab/sum(xtab)"
   ]
  },
  {
   "cell_type": "code",
   "execution_count": null,
   "metadata": {},
   "outputs": [],
   "source": [
    "df = df[ ! df$TagID_Pen_HenID!='15C3', ]"
   ]
  },
  {
   "cell_type": "code",
   "execution_count": 1,
   "metadata": {},
   "outputs": [
    {
     "name": "stdout",
     "output_type": "stream",
     "text": [
      "[1] \"Current working dir: 3\"\n"
     ]
    }
   ],
   "source": [
    "#print\n",
    "print(paste0(\"Current working dir: \", 3))"
   ]
  },
  {
   "cell_type": "code",
   "execution_count": 1,
   "metadata": {},
   "outputs": [
    {
     "data": {
      "text/html": [
       "'usr/local/lib'"
      ],
      "text/latex": [
       "'usr/local/lib'"
      ],
      "text/markdown": [
       "'usr/local/lib'"
      ],
      "text/plain": [
       "[1] \"usr/local/lib\""
      ]
     },
     "metadata": {},
     "output_type": "display_data"
    }
   ],
   "source": [
    "file.path(\"usr\", \"local\", \"lib\")"
   ]
  },
  {
   "cell_type": "code",
   "execution_count": 4,
   "metadata": {},
   "outputs": [
    {
     "data": {
      "text/html": [
       "<ol class=list-inline>\n",
       "\t<li>1</li>\n",
       "\t<li>2</li>\n",
       "\t<li>5</li>\n",
       "\t<li>6</li>\n",
       "</ol>\n"
      ],
      "text/latex": [
       "\\begin{enumerate*}\n",
       "\\item 1\n",
       "\\item 2\n",
       "\\item 5\n",
       "\\item 6\n",
       "\\end{enumerate*}\n"
      ],
      "text/markdown": [
       "1. 1\n",
       "2. 2\n",
       "3. 5\n",
       "4. 6\n",
       "\n",
       "\n"
      ],
      "text/plain": [
       "[1] 1 2 5 6"
      ]
     },
     "metadata": {},
     "output_type": "display_data"
    }
   ],
   "source": [
    "#set in R. does not exist je crois\n",
    "unique(c(1,1,2,5,2,6))\n",
    "c_pen = c(unique(df_scan[,'Pen'])[[1]])"
   ]
  },
  {
   "cell_type": "code",
   "execution_count": null,
   "metadata": {},
   "outputs": [],
   "source": [
    "#used\n",
    "row.names(df_sum)\n",
    "df_sum[toString(nbr_2keep),]"
   ]
  },
  {
   "cell_type": "markdown",
   "metadata": {},
   "source": [
    "### type"
   ]
  },
  {
   "cell_type": "raw",
   "metadata": {},
   "source": [
    "Sometimes you may want to specifically store a vector as integers if you know that they will never be converted to doubles (used as ID values or indexing) since integers require less storage space.\n",
    "\n",
    "numeric = integer ou double\n",
    "double= float\n",
    "integer=etier"
   ]
  },
  {
   "cell_type": "markdown",
   "metadata": {},
   "source": [
    "### dictionary"
   ]
  },
  {
   "cell_type": "code",
   "execution_count": null,
   "metadata": {},
   "outputs": [],
   "source": [
    "#In R use the hash package.\n",
    "library(hash)\n",
    "#e.g. 1\n",
    "my_hash <- hash(keys = c('colour', 'book', 'movie'),\n",
    "                values = c('blue', '1984', 'Memento'))\n",
    "my_hash$movie\n",
    "my_hash$movie <- 'Inception'\n",
    "my_hash$movie\n",
    "del('book', my_hash)\n",
    "keys(my_hash)\n",
    "values(my_hash)\n",
    "#e.g. 2\n",
    "my_hash <- hash()\n",
    "my_hash$'Rampe 1-5' = c('1','2','3','4','5')\n",
    " \n",
    "#In Python\n",
    "dict = {'colour': 'blue', 'book': '1984', 'movie': 'Memento'}\n",
    "print(dict['movie'])\n",
    "dict['movie'] = 'Inception'\n",
    "print(dict['movie']) \n",
    "del dict['movie']\n",
    "print(dict.keys())\n",
    "print(dict.values())\n",
    "print(dict)"
   ]
  },
  {
   "cell_type": "code",
   "execution_count": null,
   "metadata": {},
   "outputs": [],
   "source": [
    "glob.glob\n",
    "#vs\n",
    "Sys.glob(file.path(path_save_, 'AVIFORUM','data','extracted_info_mobility_VF','visual','predict_KBF',title_,\n",
    "                        '*','df_IDS_onall.csv'))"
   ]
  },
  {
   "cell_type": "code",
   "execution_count": null,
   "metadata": {},
   "outputs": [],
   "source": []
  },
  {
   "cell_type": "markdown",
   "metadata": {},
   "source": [
    "### title dataframe"
   ]
  },
  {
   "cell_type": "code",
   "execution_count": 7,
   "metadata": {},
   "outputs": [
    {
     "name": "stdout",
     "output_type": "stream",
     "text": [
      "\u001b[90m# A tibble: 4 x 3\u001b[39m\n",
      "  patient_id medication pills_per_day\n",
      "  \u001b[3m\u001b[90m<chr>\u001b[39m\u001b[23m      \u001b[3m\u001b[90m<chr>\u001b[39m\u001b[23m              \u001b[3m\u001b[90m<dbl>\u001b[39m\u001b[23m\n",
      "\u001b[90m1\u001b[39m A          zoloft                 1\n",
      "\u001b[90m2\u001b[39m A          asprin                 8\n",
      "\u001b[90m3\u001b[39m A          lipitor                2\n",
      "\u001b[90m4\u001b[39m B          asprin                 4\n"
     ]
    }
   ],
   "source": [
    "#pivot: Pivot Multiple Rows Per Observation To One Row With Multiple Columns\n",
    "#library('lubridate')\n",
    "library('tidyr')\n",
    "meds <-\n",
    "  tibble::tibble(\n",
    "    patient_id = c(\"A\", \"A\", \"A\", \"B\"),\n",
    "    medication = c(\"zoloft\", \"asprin\", \"lipitor\", \"asprin\"),\n",
    "    pills_per_day = c(1, 8, 2, 4)\n",
    "  )\n",
    "print(meds)\n",
    "\n",
    "#other example:\n",
    "#create a dataframe where each column is the persone video_analyse column\n",
    "#TODO: for now we wont take into account in the test when a student see a transition, while the other one not. \n",
    "#it is hard to include in a correct manner without manual work\n",
    "#id_cols: A set of columns that uniquely identifies each observation. Defaults to all columns in the data table except for the \n",
    "#columns specified in names_from and values_from. \n",
    "#df_raters %>% pivot_wider(names_from = worker, values_from = VideoAnalyse, \n",
    "#                          id_cols=c('Date','Heure','TagID','BirdID','TransLogged', 'signalstrength','pen'),values_fn=NULL)"
   ]
  },
  {
   "cell_type": "code",
   "execution_count": 9,
   "metadata": {},
   "outputs": [
    {
     "ename": "ERROR",
     "evalue": "Error in data.table(z = rep(c(\"a\", \"b\", \"c\"), 2), stuff = c(rep(\"x\", 3), : impossible de trouver la fonction \"data.table\"\n",
     "output_type": "error",
     "traceback": [
      "Error in data.table(z = rep(c(\"a\", \"b\", \"c\"), 2), stuff = c(rep(\"x\", 3), : impossible de trouver la fonction \"data.table\"\nTraceback:\n"
     ]
    }
   ],
   "source": [
    "# NOT RUN {\n",
    "test_df <- data.table(\n",
    "  z = rep(c(\"a\", \"b\", \"c\"), 2),\n",
    "  stuff = c(rep(\"x\", 3), rep(\"y\", 3)),\n",
    "  things = 1:6)\n",
    "\n",
    "test_df %>%\n",
    "  pivot_wider.(names_from = stuff, values_from = things)\n",
    "\n",
    "test_df %>%\n",
    "  pivot_wider.(names_from = stuff, values_from = things, id_cols = z)\n",
    "\n",
    "# }"
   ]
  },
  {
   "cell_type": "markdown",
   "metadata": {},
   "source": [
    "### title version"
   ]
  },
  {
   "cell_type": "code",
   "execution_count": 2,
   "metadata": {},
   "outputs": [
    {
     "data": {
      "text/plain": [
       "               _                           \n",
       "platform       x86_64-w64-mingw32          \n",
       "arch           x86_64                      \n",
       "os             mingw32                     \n",
       "system         x86_64, mingw32             \n",
       "status                                     \n",
       "major          4                           \n",
       "minor          0.2                         \n",
       "year           2020                        \n",
       "month          06                          \n",
       "day            22                          \n",
       "svn rev        78730                       \n",
       "language       R                           \n",
       "version.string R version 4.0.2 (2020-06-22)\n",
       "nickname       Taking Off Again            "
      ]
     },
     "metadata": {},
     "output_type": "display_data"
    }
   ],
   "source": [
    "R.version"
   ]
  },
  {
   "cell_type": "code",
   "execution_count": 3,
   "metadata": {},
   "outputs": [
    {
     "data": {
      "text/html": [
       "'C:/PROGRA~1/R/R-40~1.2'"
      ],
      "text/latex": [
       "'C:/PROGRA\\textasciitilde{}1/R/R-40\\textasciitilde{}1.2'"
      ],
      "text/markdown": [
       "'C:/PROGRA~1/R/R-40~1.2'"
      ],
      "text/plain": [
       "[1] \"C:/PROGRA~1/R/R-40~1.2\""
      ]
     },
     "metadata": {},
     "output_type": "display_data"
    }
   ],
   "source": [
    "R.home()"
   ]
  },
  {
   "cell_type": "code",
   "execution_count": 19,
   "metadata": {},
   "outputs": [
    {
     "name": "stdout",
     "output_type": "stream",
     "text": [
      "There is a newer version of R for you to download!\n",
      "\n",
      "You are using R version:    \t 3.4.3 (2017-11-30)\n",
      "And the latest R version is:\t 4.0.2 (2020-06-22)\n",
      "Installing the newest version of R,\n",
      " please wait for the installer file to be download and executed.\n",
      " Be sure to click 'next' as needed...\n",
      "\n",
      "The file was downloaded successfully into:\n",
      " C:\\Users\\Public\\Documents\\Wondershare\\CreatorTemp\\RtmpAp9HsK/R-4.0.2-win.exe \n",
      "\n",
      "Running the installer now...\n",
      "\n",
      "We can not seem to find the location if the new R you have installed.\n",
      "The rest of the updating process is aborted, please take care to copy\n",
      "your packages to the new R installation.\n"
     ]
    },
    {
     "data": {
      "text/html": [
       "TRUE"
      ],
      "text/latex": [
       "TRUE"
      ],
      "text/markdown": [
       "TRUE"
      ],
      "text/plain": [
       "[1] TRUE"
      ]
     },
     "metadata": {},
     "output_type": "display_data"
    }
   ],
   "source": [
    "#find ou R.version\n",
    "print(R.version)\n",
    "#update R version\n",
    "library('installr')\n",
    "updateR(TRUE) \n",
    "#C:\\Program Files\\R\\R-4.0.2"
   ]
  },
  {
   "cell_type": "code",
   "execution_count": null,
   "metadata": {},
   "outputs": [],
   "source": [
    "#cann not save if var are list\n",
    "sapply(df_corr,class) #check if list\n",
    "# if some:\n",
    "data.frame(sapply(df_corr,unlist))\n",
    "#then save"
   ]
  },
  {
   "cell_type": "code",
   "execution_count": null,
   "metadata": {},
   "outputs": [],
   "source": [
    "# Python ⇔ R: \n",
    "df.loc[df['c1']=='A', 'c2'] = 99  ⇔  df[df$c1=='A', 'c2'] <- 99"
   ]
  },
  {
   "cell_type": "code",
   "execution_count": null,
   "metadata": {},
   "outputs": [],
   "source": [
    "#np.where equivalent is ifelse\n",
    "#python\n",
    "df['Zone_without_flickering'] = np.where(df['Zone_without_flickering']=='Interzone', \n",
    "                                         df['interzone_name'], \n",
    "                                         df['Zone_without_flickering'])\n",
    "#R\n",
    "df$Zone_without_flickering = ifelse(df$Zone_without_flickering=='Interzone', df$interzone_name, df$Zone_without_flickering)"
   ]
  },
  {
   "cell_type": "code",
   "execution_count": null,
   "metadata": {},
   "outputs": [],
   "source": [
    "#inspect\n",
    "# Python ⇔ R\n",
    "df.head()       ⇔  head(df)\n",
    "df.head(3)      ⇔  head(df,3)\n",
    "df.tail(3)      ⇔  tail(df,3)\n",
    "df.shape[0]     ⇔  nrow(df)\n",
    "df.shape[1]     ⇔  ncol(df)\n",
    "df.shape        ⇔  dim(df)\n",
    "df.info()       ⇔  NO EQUIVALENT\n",
    "df.describe()   ⇔  summary(df)     # similar, not exactly the same\n",
    "NO EQUIVALENT   ⇔  str(df)"
   ]
  },
  {
   "cell_type": "code",
   "execution_count": null,
   "metadata": {},
   "outputs": [],
   "source": [
    "df_NOMEXP = df[ which(df$is_only_other==TRUE\n",
    "& df$age > 65), ]"
   ]
  },
  {
   "cell_type": "code",
   "execution_count": null,
   "metadata": {},
   "outputs": [],
   "source": [
    "# load the dataset\n",
    "QdataTrain <- read.csv('train.csv',header = FALSE)\n",
    "QdataTest <- read.csv('test.csv',header = FALSE)\n",
    "\n",
    "QdataTrainX <- subset(QdataTrain,select=-V1)\n",
    "QdataTrainY<-as.factor(QdataTrain$V1)   \n",
    "\n",
    "QdataTestX <- subset(QdataTest,select=-V1)\n",
    "QdataTestY<-as.factor(QdataTest$V1)\n",
    "mdl <- randomForest(QdataTrainX, QdataTrainY) "
   ]
  },
  {
   "cell_type": "code",
   "execution_count": null,
   "metadata": {},
   "outputs": [],
   "source": [
    "#read df\n",
    "# Python  \n",
    "import pandas as pd\n",
    "df = pd.read_csv(\"input.csv\",\n",
    "                 sep    = \",\",\n",
    "                 header = 0)\n",
    "df.to_csv(\"output.csv\", index = False)\n",
    "# R \n",
    "df <- read.csv(\"input.csv\", \n",
    "               header = TRUE,\n",
    "               na.strings=c(\"\",\"NA\"),    \n",
    "               sep = \",\")\n",
    "write.csv(df, \"output.csv\", row.names = FALSE)\n",
    "# na.strings: make sure NAs are not read as empty strings"
   ]
  },
  {
   "cell_type": "code",
   "execution_count": null,
   "metadata": {},
   "outputs": [],
   "source": [
    "#create df\n",
    "# Python\n",
    "import pandas as pd\n",
    "df = pd.DataFrame(dict(col_a=['a','b','c'], col_b=[1,2,3]))\n",
    "# R\n",
    "col_a <- c('a','b','c')\n",
    "col_b <- c(1,2,3)\n",
    "df <- data.frame(col_a, col_b)"
   ]
  },
  {
   "cell_type": "code",
   "execution_count": 9,
   "metadata": {},
   "outputs": [
    {
     "data": {
      "text/html": [
       "<table>\n",
       "<thead><tr><th scope=col>A</th><th scope=col>B</th></tr></thead>\n",
       "<tbody>\n",
       "\t<tr><td>1 </td><td> 5</td></tr>\n",
       "\t<tr><td>2 </td><td> 3</td></tr>\n",
       "\t<tr><td>3 </td><td>11</td></tr>\n",
       "</tbody>\n",
       "</table>\n"
      ],
      "text/latex": [
       "\\begin{tabular}{r|ll}\n",
       " A & B\\\\\n",
       "\\hline\n",
       "\t 1  &  5\\\\\n",
       "\t 2  &  3\\\\\n",
       "\t 3  & 11\\\\\n",
       "\\end{tabular}\n"
      ],
      "text/markdown": [
       "\n",
       "A | B | \n",
       "|---|---|---|\n",
       "| 1  |  5 | \n",
       "| 2  |  3 | \n",
       "| 3  | 11 | \n",
       "\n",
       "\n"
      ],
      "text/plain": [
       "  A B \n",
       "1 1  5\n",
       "2 2  3\n",
       "3 3 11"
      ]
     },
     "metadata": {},
     "output_type": "display_data"
    }
   ],
   "source": [
    "df <- data.frame(A = c(1, 1, 2, 3, 3), B = c(2, 3, 3, 5, 6))\n",
    "df %>% group_by(A) %>% summarise(B = sum(B))"
   ]
  },
  {
   "cell_type": "code",
   "execution_count": 138,
   "metadata": {},
   "outputs": [
    {
     "data": {
      "text/html": [
       "<table>\n",
       "<thead><tr><th scope=col>A</th><th scope=col>B</th></tr></thead>\n",
       "<tbody>\n",
       "\t<tr><td>1</td><td>2</td></tr>\n",
       "\t<tr><td>2</td><td>3</td></tr>\n",
       "\t<tr><td>3</td><td>3</td></tr>\n",
       "\t<tr><td>3</td><td>3</td></tr>\n",
       "\t<tr><td>1</td><td>5</td></tr>\n",
       "\t<tr><td>6</td><td>6</td></tr>\n",
       "</tbody>\n",
       "</table>\n"
      ],
      "text/latex": [
       "\\begin{tabular}{r|ll}\n",
       " A & B\\\\\n",
       "\\hline\n",
       "\t 1 & 2\\\\\n",
       "\t 2 & 3\\\\\n",
       "\t 3 & 3\\\\\n",
       "\t 3 & 3\\\\\n",
       "\t 1 & 5\\\\\n",
       "\t 6 & 6\\\\\n",
       "\\end{tabular}\n"
      ],
      "text/markdown": [
       "\n",
       "A | B | \n",
       "|---|---|---|---|---|---|\n",
       "| 1 | 2 | \n",
       "| 2 | 3 | \n",
       "| 3 | 3 | \n",
       "| 3 | 3 | \n",
       "| 1 | 5 | \n",
       "| 6 | 6 | \n",
       "\n",
       "\n"
      ],
      "text/plain": [
       "  A B\n",
       "1 1 2\n",
       "2 2 3\n",
       "3 3 3\n",
       "4 3 3\n",
       "5 1 5\n",
       "6 6 6"
      ]
     },
     "metadata": {},
     "output_type": "display_data"
    }
   ],
   "source": [
    "#concatenate multiple df, put into list not vector (c())\n",
    "li_df = list()\n",
    "df1 <- data.frame(A = c(1, 2, 3), B = c(2, 3, 3))\n",
    "df2 <- data.frame(A = c(3,1,6), B = c(3, 5, 6))\n",
    "li_df = append(li_df,list(df1))\n",
    "li_df = append(li_df,list(df2))\n",
    "bind_rows(li_df)"
   ]
  },
  {
   "cell_type": "code",
   "execution_count": 140,
   "metadata": {},
   "outputs": [
    {
     "data": {
      "text/html": [
       "<ol class=list-inline>\n",
       "\t<li>3</li>\n",
       "\t<li>5</li>\n",
       "\t<li>6</li>\n",
       "</ol>\n"
      ],
      "text/latex": [
       "\\begin{enumerate*}\n",
       "\\item 3\n",
       "\\item 5\n",
       "\\item 6\n",
       "\\end{enumerate*}\n"
      ],
      "text/markdown": [
       "1. 3\n",
       "2. 5\n",
       "3. 6\n",
       "\n",
       "\n"
      ],
      "text/plain": [
       "[1] 3 5 6"
      ]
     },
     "metadata": {},
     "output_type": "display_data"
    }
   ],
   "source": [
    "unique(df2$B)"
   ]
  },
  {
   "cell_type": "code",
   "execution_count": null,
   "metadata": {},
   "outputs": [],
   "source": [
    "#columns/row filtering\n",
    "# Python: row filtering  \n",
    "df[(df['column_1'] > 3) &    \n",
    "   (df['column_2'].isnull())]\n",
    "# R: row filtering  \n",
    "df[(df$column_1 > 3) &    \n",
    "   (is.na(df$column_2)), ] \n",
    "#OR\n",
    "library(dplyr)\n",
    "df %>% filter((column_1 > 3) & (is.na(column_2)))\n",
    "# Python ⇔ R: column filtering (keep columns) \n",
    "df[['c1', 'c2']] ⇔  df[c('c1', 'c2')]   # OR: df[,c('c1', 'c2')]\n",
    "# Python ⇔ R(with dplyr): column filtering (drop columns)\n",
    "df.drop(['c1', 'c2'], axis=1)  ⇔  df %>% select(-c('c1', 'c2'))\n",
    "# Python ⇔ R: select columns by position\n",
    "df.iloc[:,2:5]  ⇔  df[c(3:5)]           # Note the indexing\n",
    "# Python: check if a column contains specific values\n",
    "df[df['c1'].isin(['a','b'])]\n",
    "OR\n",
    "df.query('c1 in (\"a\", \"b\")')\n",
    "# R: check if a column contains specific values\n",
    "df[df$c1 %in% c('a', 'b'), ]\n",
    "OR\n",
    "library(dplyr)\n",
    "df %>% filter(c1 %in% c('a', 'b'))"
   ]
  },
  {
   "cell_type": "code",
   "execution_count": null,
   "metadata": {},
   "outputs": [],
   "source": [
    "#missing value count\n",
    "# Python: missing value imputation \n",
    "df['c1'] = df['c1'].fillna(0)  \n",
    "OR\n",
    "df.fillna(value={'c1': 0})\n",
    "# R: missing value imputation\n",
    "df$c1[is.na(df$c1)] <- 0\n",
    "OR \n",
    "df$c1 = ifelse(is.na(df$c1) == TRUE, 0, df$c1)\n",
    "OR\n",
    "library(dplyr)\n",
    "library(tidyr)\n",
    "# Python ⇔ R: number of missing values in a column\n",
    "df['c1'].isnull().sum()  ⇔  sum(is.na(df$c1))"
   ]
  },
  {
   "cell_type": "code",
   "execution_count": null,
   "metadata": {},
   "outputs": [],
   "source": [
    "# Python ⇔ R: count value frequency (Similar)\n",
    "df['c1'].value_counts()              ⇔ table(df$c1)\n",
    "df['c1'].value_counts(dropna=False)  ⇔ table(df$c1, useNA='always')\n",
    "df['c1'].value_counts(ascending=False) \n",
    "⇔ sort(table(df$c1), decreasing = TRUE)\n",
    "# Python ⇔ R: unique columns (including missing values) \n",
    "df['c1'].unique()      ⇔  unique(df$c1)\n",
    "len(df['c1'].unique()) ⇔  length(unique(df$c1))\n",
    "# Python ⇔ R: column max / min / mean\n",
    "df['c1'].max()         ⇔  max(df$c1,  na.rm = TRUE)\n",
    "df['c1'].min()         ⇔  min(df$c1,  na.rm = TRUE)\n",
    "df['c1'].mean()        ⇔  mean(df$c1, na.rm = TRUE)"
   ]
  },
  {
   "cell_type": "code",
   "execution_count": null,
   "metadata": {},
   "outputs": [],
   "source": [
    "#grouping and aggregation\n",
    "# Python: max / min / sum / mean / count\n",
    "tbl = df.groupby('c1').agg(c2_max=  ('c2', max),\n",
    "                           c2_min=  ('c2', min),\n",
    "                           c2_sum=  ('c2', sum),\n",
    "                           c3_mean= ('c2', 'mean'),\n",
    "                           count=   ('c1', 'count')).reset_index()\n",
    "# R: max / min / sum / mean / count\n",
    "library(dplyr)\n",
    "df %>% group_by(c1) %>% \n",
    "       summarise(c2_max  = max(c2, na.rm = T),\n",
    "                 c2_min  = min(c2, na.rm = T),\n",
    "                 c2_sum  = sum(c2, na.rm = T),\n",
    "                 c3_mean = mean(c3, na.rm = T),\n",
    "                 count   = n())       \n",
    "\n",
    "# Python: count distinct\n",
    "df.groupby('c1')['c2'].nunique()\\\n",
    "                      .reset_index()\\\n",
    "                      .rename(columns={'c2':'c2_cnt_distinct'})\n",
    "# R: count distinct\n",
    "library(dplyr)\n",
    "tbl <- df %>% group_by(c1) \n",
    "          %>% summarise(c2_cnt_distinct = n_distinct(c2))"
   ]
  },
  {
   "cell_type": "code",
   "execution_count": null,
   "metadata": {},
   "outputs": [],
   "source": [
    "#creating new columns / altering existing columns\n",
    "# Python: rename columns\n",
    "df.rename(columns={'old_col': 'new_col'})         \n",
    "# R: rename columns\n",
    "library(dplyr)\n",
    "df %>% rename(new_col = old_col)\n",
    "# Python: value mapping\n",
    "df['Sex'] = df['Sex'].map({'male':0, 'female':1})\n",
    "# R: value mapping\n",
    "library(dplyr)\n",
    "df$Sex <- mapvalues(df$Sex, \n",
    "          from=c('male', 'female'), \n",
    "          to=c(0,1))\n",
    "# Python ⇔ R: change data type\n",
    "df['c1'] = df['c1'].astype(str)    ⇔  df$c1 <- as.character(df$c1)\n",
    "df['c1'] = df['c1'].astype(int)    ⇔  df$c1 <- as.integer(df$c1)\n",
    "df['c1'] = df['c1'].astype(float)  ⇔  df$c1 <- as.numeric(df$c1)"
   ]
  },
  {
   "cell_type": "code",
   "execution_count": null,
   "metadata": {},
   "outputs": [],
   "source": [
    "#Joining / sorting\n",
    "# Python: inner join / left join\n",
    "merged_df1 = pd.merge(df1, df2, on='c1', how='inner')\n",
    "merged_df2 = pd.merge(df1, df2, on='c1', how='left')\n",
    "#OR (for chained operations)\n",
    "merged_df1 = df1.merge(df2, on='c1', how='inner')\n",
    "merged_df2 = df1.merge(df2, on='c1', how='left')\n",
    "# R: inner join / left join\n",
    "merged_df1 <- merge(x=df1,y=df2,by='c1')\n",
    "merged_df2 <- merge(x=df1,y=df2,by='c1',all.x=TRUE)\n",
    "#OR \n",
    "library(dplyr)\n",
    "merged_df1 <- inner_join(x=df1,y=df2,by='c1')\n",
    "merged_df2 <- left_join(x=df1,y=df2,by='c1')\n",
    "# Python: sorting\n",
    "df.sort_values(by=['c1','c2'], ascending = [True, False])\n",
    "# R: sorting \n",
    "library(dplyr)\n",
    "df %>% arrange(c1, desc(c2))"
   ]
  },
  {
   "cell_type": "code",
   "execution_count": null,
   "metadata": {},
   "outputs": [],
   "source": [
    "#Concatenation / sampling\n",
    "# Python (import pandas as pd) ⇔ R: concatenation\n",
    "pd.concat([df1, df2, df3])     ⇔ rbind(df1, df2, df3)\n",
    "pd.concat([df1, df2], axis=1)  ⇔ cbind(df1, df2)\n",
    "# Python random sample\n",
    "df.sample(n=3, random_state=42)\n",
    "# R random sample\n",
    "set.seed(42)\n",
    "sample_n(df, 3)"
   ]
  },
  {
   "cell_type": "code",
   "execution_count": null,
   "metadata": {},
   "outputs": [],
   "source": [
    "#An example of chained operations\n",
    "# Python: chained operations with '.'\n",
    "df.drop('c1', axis=1)\\\n",
    "  .sort_values(by='c2', ascending=False)\\\n",
    "  .assign(c3 = lambda x: x['c1']*3 + 2)\\\n",
    "  .fillna(value={'c2': 0, 'c4':-99})\\\n",
    "  .rename(columns={'total': 'TOT'})\\\n",
    "  .query('c3 > 10')\n",
    "# R: chained operations with '%>%'\n",
    "library(dplyr)\n",
    "library(tidyr)\n",
    "df %>% select(-c('c1')) %>%\n",
    "       arrange(desc(c2)) %>%\n",
    "       mutate(c3 = c1*3 + 2) %>%\n",
    "       mutate(c2 = replace_na(c2, 0),\n",
    "              c4 = replace_na(c4, -99)) %>%\n",
    "       rename(TOT = total) %>%            \n",
    "       filter(c3 > 10)"
   ]
  },
  {
   "cell_type": "code",
   "execution_count": null,
   "metadata": {},
   "outputs": [],
   "source": [
    "#extract value of df\n",
    "df[[1,'Timestamp']]"
   ]
  },
  {
   "cell_type": "code",
   "execution_count": null,
   "metadata": {},
   "outputs": [],
   "source": [
    "# Python: value mapping\n",
    "df['Sex'] = df['Sex'].map({'male':0, 'female':1})\n",
    "# R: value mapping\n",
    "library(dplyr)\n",
    "df$Sex <- mapvalues(df$Sex, \n",
    "          from=c('male', 'female'), \n",
    "          to=c(0,1))"
   ]
  },
  {
   "cell_type": "code",
   "execution_count": null,
   "metadata": {},
   "outputs": [],
   "source": [
    "#change column format\n",
    "df$Timestamp = as.Date(df$Timestamp, format=\"%d.%m.%Y %H:%M:%S\")"
   ]
  },
  {
   "cell_type": "code",
   "execution_count": null,
   "metadata": {},
   "outputs": [],
   "source": [
    "df <-\n",
    "  df %>% \n",
    "  mutate(new_col = list(mapply(function (x,y) c(x,y), col1, col2))\n",
    "        )\n",
    "df_focals = mutate(df_focals, timediff = difftime(df_focals$trackTime, df_focals$obsTime ,units=\"secs\"))                    "
   ]
  },
  {
   "cell_type": "markdown",
   "metadata": {},
   "source": [
    "### variable"
   ]
  },
  {
   "cell_type": "markdown",
   "metadata": {},
   "source": [
    "##### factor - string"
   ]
  },
  {
   "cell_type": "raw",
   "metadata": {},
   "source": [
    "If x is a string it can take any value. If x is a factor it can only take a values from a list of all levels. That makes these variables more memory effecient as well."
   ]
  },
  {
   "cell_type": "markdown",
   "metadata": {},
   "source": [
    "### dataframe with dplyr"
   ]
  },
  {
   "cell_type": "raw",
   "metadata": {},
   "source": [
    "efficient for big database"
   ]
  },
  {
   "cell_type": "code",
   "execution_count": null,
   "metadata": {},
   "outputs": [],
   "source": [
    "#rename\n",
    "#renommer les colonnes lon et lat de airports en longitude et latitude\n",
    "rename(airports, longitude = lon, latitude = lat)\n",
    "#or\n",
    "df %>% rename(new_col = old_col)"
   ]
  },
  {
   "cell_type": "code",
   "execution_count": null,
   "metadata": {},
   "outputs": [],
   "source": [
    "#select particular columns\n",
    "#select Timestamp and day column\n",
    "select(df, Timestamp, day)\n",
    "#Si on fait précéder le nom d’un -, la colonne est éliminée plutôt que sélectionnée :\n",
    "select(df, -Timestamp, -day)\n",
    "select(df, starts_with(\"Time\"))"
   ]
  },
  {
   "cell_type": "code",
   "execution_count": null,
   "metadata": {},
   "outputs": [],
   "source": [
    "#filter df\n",
    "filter(df, Serialnumber_Tag == '02001560' & TagID_Pen_HenID == '067 4L')"
   ]
  },
  {
   "cell_type": "code",
   "execution_count": null,
   "metadata": {},
   "outputs": [],
   "source": [
    "#another interesting feature of dplyr is its ability to chain operations together\n",
    "#e.g. 1\n",
    "group_by(x, Name) %>% summarise_all(max)\n",
    "#e.g. 2\n",
    "wb_ineq %>% \n",
    "  select(Year, gini) %>% \n",
    "  mutate(decade = floor(Year / 10) * 10) %>% \n",
    "  group_by(decade) %>% \n",
    "  summarise(mean(gini, na.rm = TRUE))"
   ]
  },
  {
   "cell_type": "code",
   "execution_count": null,
   "metadata": {},
   "outputs": [],
   "source": [
    "#change/look type of each columns\n",
    "sapply(df_modelling, class)\n",
    "df_modelling <- transform(\n",
    "  df_modelling,\n",
    "  HenID=as.integer(HenID),\n",
    "  hybrid=as.factor(hybrid),\n",
    "  num=as.factor(num)\n",
    ")\n",
    "sapply(df_modelling, class)\n",
    "#or\n",
    "df$c1 <- as.numeric(df$c1)"
   ]
  },
  {
   "cell_type": "markdown",
   "metadata": {},
   "source": [
    "### regular expression"
   ]
  },
  {
   "cell_type": "code",
   "execution_count": null,
   "metadata": {},
   "outputs": [],
   "source": [
    "library(\"stringr\")\n",
    "x = c(\"Hi I'm Robin.\", \"DoB 1985\")\n",
    "\n",
    "grepl(pattern = \"9\", x = x)\n",
    "#> [1] FALSE  TRUE\n",
    "str_detect(string = x, pattern = \"9\")\n",
    "#> [1] FALSE  TRUE"
   ]
  },
  {
   "cell_type": "markdown",
   "metadata": {},
   "source": [
    "### nan/None"
   ]
  },
  {
   "cell_type": "code",
   "execution_count": 2,
   "metadata": {},
   "outputs": [
    {
     "data": {
      "text/html": [
       "TRUE"
      ],
      "text/latex": [
       "TRUE"
      ],
      "text/markdown": [
       "TRUE"
      ],
      "text/plain": [
       "[1] TRUE"
      ]
     },
     "metadata": {},
     "output_type": "display_data"
    }
   ],
   "source": [
    "is.na(NA)"
   ]
  },
  {
   "cell_type": "code",
   "execution_count": null,
   "metadata": {},
   "outputs": [],
   "source": [
    "df$duration[is.na(df$duration)] = ''"
   ]
  },
  {
   "cell_type": "code",
   "execution_count": 3,
   "metadata": {},
   "outputs": [
    {
     "data": {
      "text/html": [
       "FALSE"
      ],
      "text/latex": [
       "FALSE"
      ],
      "text/markdown": [
       "FALSE"
      ],
      "text/plain": [
       "[1] FALSE"
      ]
     },
     "metadata": {},
     "output_type": "display_data"
    }
   ],
   "source": [
    "is.na('v')"
   ]
  },
  {
   "cell_type": "code",
   "execution_count": null,
   "metadata": {},
   "outputs": [],
   "source": []
  },
  {
   "cell_type": "code",
   "execution_count": null,
   "metadata": {},
   "outputs": [],
   "source": [
    "#vectorize\n",
    "l = colnames(df_modelling)\n",
    "li_var_MLPs = lapply(l, function(x) ifelse(grepl('sess_1', x, fixed = TRUE),x,''))\n",
    "li_var_MLPs\n",
    "l = colnames(df_modelling)\n",
    "cond = sapply(l, function(x) grepl('sess_1', x, fixed=TRUE)==TRUE)\n",
    "l[cond]"
   ]
  },
  {
   "cell_type": "markdown",
   "metadata": {},
   "source": [
    "### apply/map/lambda"
   ]
  },
  {
   "cell_type": "raw",
   "metadata": {},
   "source": [
    "apply(), lapply(), sapply(), tapply(), mapply() etc. These functions are substitutes/alternatives to loops\n",
    "lapply: The output returned is a list (which explains the “l” in the function name), which has the same number of elements as the object passed to it\n",
    "sapply(): sapply() function does the same jobs as lapply() function but returns a vector.\n",
    "in mapply(): the ‘m’ in mapply() refers to ‘multivariate’. It applies the specified functions to the arguments one by one."
   ]
  },
  {
   "cell_type": "code",
   "execution_count": null,
   "metadata": {},
   "outputs": [],
   "source": [
    "# your starting data..\n",
    "data <- data.frame('a' = 1:3, 'b' = c('a','b','c'), 'c' = c('d', 'e', 'f'), 'd' = c('g', 'h', 'i')) \n",
    "# columns to paste together\n",
    "cols <- c( 'b' , 'c' , 'd' )\n",
    "# create a new column `x` with the three columns collapsed together\n",
    "data$x <- apply( data[ , cols ] , 1 , paste , collapse = \"-\" )\n",
    "# remove the unnecessary columns\n",
    "data <- data[ , !( names( data ) %in% cols ) ]"
   ]
  },
  {
   "cell_type": "code",
   "execution_count": null,
   "metadata": {},
   "outputs": [],
   "source": [
    "#on several column apply same fct\n",
    "df_corr[,c('HenID','PenID','is_correct_pen4zone')] = sapply(df_corr[,c('HenID','PenID','is_correct_pen4zone')],unlist)"
   ]
  },
  {
   "cell_type": "code",
   "execution_count": null,
   "metadata": {},
   "outputs": [],
   "source": [
    "#on a vector/list: list comprehension in python\n",
    "y=Map({function (a) a*2}, x)"
   ]
  },
  {
   "cell_type": "code",
   "execution_count": null,
   "metadata": {},
   "outputs": [],
   "source": [
    "#apply, map\n",
    "df.apply(lambda x: x + \" doing stuff\", axis=0)\n",
    "#equivalent to\n",
    "lapply(df, function(x) paste(x, \"doing stuff\"))\n",
    "       \n",
    "#.apply(lambda x: )\n",
    "df_$TagID_Pen_HenID = lapply(df_$TagID_Pen_HenID, function(x){gsub(\"_\", \" \", x)})"
   ]
  },
  {
   "cell_type": "code",
   "execution_count": 3,
   "metadata": {},
   "outputs": [
    {
     "data": {
      "text/html": [
       "<ol class=list-inline>\n",
       "\t<li>2</li>\n",
       "\t<li>4</li>\n",
       "\t<li>6</li>\n",
       "\t<li>8</li>\n",
       "\t<li>10</li>\n",
       "</ol>\n"
      ],
      "text/latex": [
       "\\begin{enumerate*}\n",
       "\\item 2\n",
       "\\item 4\n",
       "\\item 6\n",
       "\\item 8\n",
       "\\item 10\n",
       "\\end{enumerate*}\n"
      ],
      "text/markdown": [
       "1. 2\n",
       "2. 4\n",
       "3. 6\n",
       "4. 8\n",
       "5. 10\n",
       "\n",
       "\n"
      ],
      "text/plain": [
       "[1]  2  4  6  8 10"
      ]
     },
     "metadata": {},
     "output_type": "display_data"
    }
   ],
   "source": [
    "#filter fct in R\n",
    "x=1:10\n",
    "Filter(function (x) x%%2==0, x)"
   ]
  },
  {
   "cell_type": "markdown",
   "metadata": {},
   "source": [
    "### loops/while/Conditionals"
   ]
  },
  {
   "cell_type": "code",
   "execution_count": null,
   "metadata": {},
   "outputs": [],
   "source": [
    "#loop\n",
    "#python\n",
    "# prints 0 to 9\n",
    "for num in range(0, 10):\n",
    "   print(num)\n",
    "\n",
    "#in R dont use loops but apply\n",
    "# prints 0 to 9\n",
    "for (i in 0:9){print(i)}\n",
    "#sapply\n",
    "sapply(0:9, FUN = function(x) x )\n",
    "library(purrr) \n",
    "0:9 %>% map(function(x) x) %>% unlist()"
   ]
  },
  {
   "cell_type": "code",
   "execution_count": null,
   "metadata": {},
   "outputs": [],
   "source": [
    "#while\n",
    "#In R\n",
    "i <- 1\n",
    "while (i < 10){\n",
    "  print(i)\n",
    "  i <- i + 1\n",
    "}\n",
    "#In Python\n",
    "count = 0\n",
    "while (count < 9):\n",
    "   print(count)\n",
    "   count = count + 1"
   ]
  },
  {
   "cell_type": "code",
   "execution_count": null,
   "metadata": {},
   "outputs": [],
   "source": [
    "#Conditionals\n",
    "#In R\n",
    "greater_less_equal_5 <- function(answer){\n",
    "  if (answer > 5){\n",
    "    print(1)\n",
    "  }\n",
    "  else if (answer < 5){\n",
    "    print(-1)\n",
    "  } else {\n",
    "    print(0)\n",
    "  }\n",
    "}\n",
    "greater_less_equal_5(4)\n",
    "greater_less_equal_5(5)\n",
    "greater_less_equal_5(6)\n",
    "#In Python\n",
    "def greater_less_equal_5(answer):\n",
    "    if answer > 5:\n",
    "        return 1\n",
    "    elif answer < 5:\n",
    "        return -1\n",
    "    else:\n",
    "        return 0\n",
    "         \n",
    "print greater_less_equal_5(4)\n",
    "print greater_less_equal_5(5)\n",
    "print greater_less_equal_5(6)"
   ]
  },
  {
   "cell_type": "markdown",
   "metadata": {},
   "source": [
    "### list comprehension"
   ]
  },
  {
   "cell_type": "raw",
   "metadata": {},
   "source": [
    "R doesn’t have list comprehensions. Instead R has vectorization, which is a different but, equally powerful way of representing the idea of “do some process to all values in a given structure”.\n",
    "\n",
    "To give you the short and incomplete version: Primitive data structures in R are generally vectors or made of vectors in some way. Vectors are flat structures which means that you cannot nest vectors. All items contained in a vector must be of the same type, such as an integer or string. Vectorized operations will apply the same operation across all elements of a vector, whether it contains 0, 1 or 100 elements. R provides a large number of vectorized functions and operations to manipulate vectors with."
   ]
  },
  {
   "cell_type": "code",
   "execution_count": null,
   "metadata": {},
   "outputs": [],
   "source": []
  },
  {
   "cell_type": "markdown",
   "metadata": {},
   "source": [
    "### time/date"
   ]
  },
  {
   "cell_type": "code",
   "execution_count": null,
   "metadata": {},
   "outputs": [],
   "source": [
    "start = Sys.time()\n",
    "\n",
    "end = Sys.time()\n",
    "print(paste0(\"Total running time: \", (end-start)/60,\" mn\"))"
   ]
  },
  {
   "cell_type": "code",
   "execution_count": null,
   "metadata": {},
   "outputs": [],
   "source": [
    "#value in list\n",
    "as.Date('2019-08-07') %in% li_date2remove"
   ]
  },
  {
   "cell_type": "markdown",
   "metadata": {},
   "source": [
    "### others"
   ]
  },
  {
   "cell_type": "code",
   "execution_count": 2,
   "metadata": {},
   "outputs": [
    {
     "data": {
      "text/html": [
       "'character'"
      ],
      "text/latex": [
       "'character'"
      ],
      "text/markdown": [
       "'character'"
      ],
      "text/plain": [
       "[1] \"character\""
      ]
     },
     "metadata": {},
     "output_type": "display_data"
    }
   ],
   "source": [
    "# Python ⇔ R: object types\n",
    "type(a)  ⇔ typeof(a)\n",
    "\n",
    "# Python ⇔ R: variable assignment\n",
    "a=5      ⇔ a<-5    # a=5 also works for R\n",
    "\n",
    "# Python list ⇔ R vector:\n",
    "a = [1,3,5,7]                ⇔  a <- c(1,3,5,7)\n",
    "a = [i for i in range(3,9)]  ⇔  a <- c(3:9)\n",
    "\n",
    "# Python 'for loop':\n",
    "for val in [1,3,5]:\n",
    "    print(val)\n",
    "# R 'for loop':\n",
    "for (val in c(1,3,5)){\n",
    "    print(val)\n",
    "}\n",
    "\n",
    "# Python function:\n",
    "def new_function(a, b=5):\n",
    "    return a+b\n",
    "# R function:\n",
    "new_function <- function(a, b=5) {\n",
    "    return (a+b)\n",
    "}"
   ]
  },
  {
   "cell_type": "code",
   "execution_count": null,
   "metadata": {},
   "outputs": [],
   "source": [
    "#join two string\n",
    "temp = paste(path_initial_data,temp, sep='/')"
   ]
  },
  {
   "cell_type": "code",
   "execution_count": null,
   "metadata": {},
   "outputs": [],
   "source": [
    "datalist = lapply(filenames, \n",
    "                  function(x){read.csv(file = x,header = TRUE,stringsAsFactors = FALSE)})"
   ]
  },
  {
   "cell_type": "code",
   "execution_count": 1,
   "metadata": {},
   "outputs": [
    {
     "data": {
      "text/html": [
       "'A wolf in sheep\\'s clothing'"
      ],
      "text/latex": [
       "'A wolf in sheep\\textbackslash{}'s clothing'"
      ],
      "text/markdown": [
       "'A wolf in sheep\\'s clothing'"
      ],
      "text/plain": [
       "[1] \"A wolf in sheep's clothing\""
      ]
     },
     "metadata": {},
     "output_type": "display_data"
    }
   ],
   "source": [
    "#replace\n",
    "gsub(\"cheap\", \"sheep's\", \"A wolf in cheap clothing\")"
   ]
  },
  {
   "cell_type": "code",
   "execution_count": null,
   "metadata": {},
   "outputs": [],
   "source": [
    "#split\n",
    "strsplit(x, ',', fixed = FALSE, perl = FALSE, useBytes = FALSE)"
   ]
  },
  {
   "cell_type": "code",
   "execution_count": null,
   "metadata": {},
   "outputs": [],
   "source": [
    "#merge each csv\n",
    "start = Sys.time()\n",
    "df = Reduce(function(x,y) {merge(x, y, all = TRUE)}, df)\n",
    "end = Sys.time()\n",
    "print(paste0(\"Total running time: \", (end-start)/60,\" mn\"))"
   ]
  },
  {
   "cell_type": "code",
   "execution_count": 4,
   "metadata": {},
   "outputs": [
    {
     "data": {
      "text/html": [
       "TRUE"
      ],
      "text/latex": [
       "TRUE"
      ],
      "text/markdown": [
       "TRUE"
      ],
      "text/plain": [
       "[1] TRUE"
      ]
     },
     "metadata": {},
     "output_type": "display_data"
    }
   ],
   "source": [
    "#opposite of in : not in\n",
    "!(2 %in% c(1,12))"
   ]
  },
  {
   "cell_type": "code",
   "execution_count": 10,
   "metadata": {},
   "outputs": [
    {
     "data": {
      "text/html": [
       "<ol>\n",
       "\t<li><ol class=list-inline>\n",
       "\t<li>'dfdk '</li>\n",
       "\t<li>' dkf '</li>\n",
       "</ol>\n",
       "</li>\n",
       "</ol>\n"
      ],
      "text/latex": [
       "\\begin{enumerate}\n",
       "\\item \\begin{enumerate*}\n",
       "\\item 'dfdk '\n",
       "\\item ' dkf '\n",
       "\\end{enumerate*}\n",
       "\n",
       "\\end{enumerate}\n"
      ],
      "text/markdown": [
       "1. 1. 'dfdk '\n",
       "2. ' dkf '\n",
       "\n",
       "\n",
       "\n",
       "\n",
       "\n"
      ],
      "text/plain": [
       "[[1]]\n",
       "[1] \"dfdk \" \" dkf \"\n"
      ]
     },
     "metadata": {},
     "output_type": "display_data"
    }
   ],
   "source": [
    "#split in python\n",
    "trimws strsplit('dfdk , dkf ',',')"
   ]
  },
  {
   "cell_type": "code",
   "execution_count": null,
   "metadata": {},
   "outputs": [],
   "source": [
    "l[l %% 3 == 0 | l %% 5 == 0]"
   ]
  },
  {
   "cell_type": "code",
   "execution_count": 52,
   "metadata": {},
   "outputs": [
    {
     "ename": "ERROR",
     "evalue": "Error in trimws(\" sfdfdf\")[1, ]: nombre de dimensions incorrect\n",
     "output_type": "error",
     "traceback": [
      "Error in trimws(\" sfdfdf\")[1, ]: nombre de dimensions incorrect\nTraceback:\n"
     ]
    }
   ],
   "source": [
    "#strip in python trimws in R\n",
    "trimws(' sfdfdf')[1,]"
   ]
  },
  {
   "cell_type": "code",
   "execution_count": 88,
   "metadata": {},
   "outputs": [
    {
     "data": {
      "text/html": [
       "'kh'"
      ],
      "text/latex": [
       "'kh'"
      ],
      "text/markdown": [
       "'kh'"
      ],
      "text/plain": [
       "[1] \"kh\""
      ]
     },
     "metadata": {},
     "output_type": "display_data"
    }
   ],
   "source": [
    "#take forst element of string in R!\n",
    "substr('khfikg', start = 1, stop = 2)"
   ]
  },
  {
   "cell_type": "code",
   "execution_count": null,
   "metadata": {},
   "outputs": [],
   "source": [
    "#no more list\n",
    "unlist(l)"
   ]
  },
  {
   "cell_type": "code",
   "execution_count": 134,
   "metadata": {},
   "outputs": [
    {
     "data": {
      "text/html": [
       "'ddi'"
      ],
      "text/latex": [
       "'ddi'"
      ],
      "text/markdown": [
       "'ddi'"
      ],
      "text/plain": [
       "[1] \"ddi\""
      ]
     },
     "metadata": {},
     "output_type": "display_data"
    }
   ],
   "source": [
    "#one whole exemple\n",
    "#python\n",
    "x = 'dfdk , dkf , dkf ,ihfjd'\n",
    "#''.join(sorted([j[0] for j in set([i.strip() for i in x.split(',')])]))\n",
    "#R          \n",
    "paste(sort(unlist(lapply(unique(lapply(strsplit(x,','), function(x){trimws(x)})[[1]]),\n",
    "      function(x){substr(x, start = 1, stop = 1)}))), collapse = '')"
   ]
  },
  {
   "cell_type": "code",
   "execution_count": 137,
   "metadata": {},
   "outputs": [
    {
     "data": {
      "text/html": [
       "FALSE"
      ],
      "text/latex": [
       "FALSE"
      ],
      "text/markdown": [
       "FALSE"
      ],
      "text/plain": [
       "[1] FALSE"
      ]
     },
     "metadata": {},
     "output_type": "display_data"
    }
   ],
   "source": [
    "#startswith\n",
    "startsWith('dfghjk','Interzone')"
   ]
  },
  {
   "cell_type": "code",
   "execution_count": 10,
   "metadata": {},
   "outputs": [
    {
     "data": {
      "text/html": [
       "<style>\n",
       ".list-inline {list-style: none; margin:0; padding: 0}\n",
       ".list-inline>li {display: inline-block}\n",
       ".list-inline>li:not(:last-child)::after {content: \"\\00b7\"; padding: 0 .5ex}\n",
       "</style>\n",
       "<ol class=list-inline><li>'1df'</li><li>'2df'</li><li>'3df'</li></ol>\n"
      ],
      "text/latex": [
       "\\begin{enumerate*}\n",
       "\\item '1df'\n",
       "\\item '2df'\n",
       "\\item '3df'\n",
       "\\end{enumerate*}\n"
      ],
      "text/markdown": [
       "1. '1df'\n",
       "2. '2df'\n",
       "3. '3df'\n",
       "\n",
       "\n"
      ],
      "text/plain": [
       "[1] \"1df\" \"2df\" \"3df\""
      ]
     },
     "metadata": {},
     "output_type": "display_data"
    }
   ],
   "source": [
    "paste0(c(1,2,3),'df')"
   ]
  },
  {
   "cell_type": "code",
   "execution_count": null,
   "metadata": {},
   "outputs": [],
   "source": []
  },
  {
   "cell_type": "code",
   "execution_count": null,
   "metadata": {},
   "outputs": [],
   "source": []
  },
  {
   "cell_type": "code",
   "execution_count": null,
   "metadata": {},
   "outputs": [],
   "source": []
  },
  {
   "cell_type": "code",
   "execution_count": null,
   "metadata": {},
   "outputs": [],
   "source": []
  }
 ],
 "metadata": {
  "kernelspec": {
   "display_name": "R",
   "language": "R",
   "name": "ir"
  },
  "language_info": {
   "codemirror_mode": "r",
   "file_extension": ".r",
   "mimetype": "text/x-r-source",
   "name": "R",
   "pygments_lexer": "r",
   "version": "3.6.3"
  }
 },
 "nbformat": 4,
 "nbformat_minor": 2
}
