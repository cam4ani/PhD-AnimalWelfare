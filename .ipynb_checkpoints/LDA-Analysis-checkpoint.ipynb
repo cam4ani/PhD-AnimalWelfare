{
 "cells": [
  {
   "cell_type": "code",
   "execution_count": 1,
   "metadata": {},
   "outputs": [
    {
     "name": "stderr",
     "output_type": "stream",
     "text": [
      "c:\\users\\camil\\anaconda3\\lib\\site-packages\\_pytest\\fixtures.py:844: DeprecationWarning: The `convert` argument is deprecated in favor of `converter`.  It will be removed after 2019/01.\n",
      "  params = attr.ib(convert=attr.converters.optional(tuple))\n",
      "c:\\users\\camil\\anaconda3\\lib\\site-packages\\_pytest\\fixtures.py:846: DeprecationWarning: The `convert` argument is deprecated in favor of `converter`.  It will be removed after 2019/01.\n",
      "  ids = attr.ib(default=None, convert=_ensure_immutable_ids)\n",
      "c:\\users\\camil\\anaconda3\\lib\\site-packages\\scipy\\sparse\\sparsetools.py:21: DeprecationWarning: `scipy.sparse.sparsetools` is deprecated!\n",
      "scipy.sparse.sparsetools is a private module for scipy.sparse, and should not be used.\n",
      "  _deprecated()\n"
     ]
    }
   ],
   "source": [
    "import pickle\n",
    "import os\n",
    "import pyLDAvis\n",
    "import pandas as pd\n",
    "import pyLDAvis.gensim\n",
    "import gensim \n",
    "from gensim import corpora, models, similarities\n",
    "import numpy as np\n",
    "\n",
    "#plot\n",
    "import matplotlib\n",
    "import matplotlib.pyplot as plt"
   ]
  },
  {
   "cell_type": "code",
   "execution_count": 2,
   "metadata": {},
   "outputs": [
    {
     "name": "stderr",
     "output_type": "stream",
     "text": [
      "c:\\users\\camil\\anaconda3\\lib\\site-packages\\statsmodels\\compat\\pandas.py:56: FutureWarning: The pandas.core.datetools module is deprecated and will be removed in a future version. Please use the pandas.tseries module instead.\n",
      "  from pandas.core import datetools\n"
     ]
    },
    {
     "name": "stdout",
     "output_type": "stream",
     "text": [
      "we restrict the time series to one value per 60 seconds \n",
      "we compute the complexity variables each 30 minutes \n",
      "each variables includes the values of at least the last 120.00 minutes (i.e. are using 120.00 values)\n"
     ]
    }
   ],
   "source": [
    "from UTILS import word_from_MLP\n",
    "import config_mobility as config"
   ]
  },
  {
   "cell_type": "code",
   "execution_count": 3,
   "metadata": {},
   "outputs": [],
   "source": [
    "path_extracted_data = config.path_extracted_data\n",
    "id_run = config.id_run\n",
    "title_ = '_LSL' #'_LB', '_LSL', '_all'"
   ]
  },
  {
   "cell_type": "raw",
   "metadata": {},
   "source": [
    "Each document is represented as a distribution over topics.\n",
    "Each topic is represented as a distribution over words.\n",
    "\n",
    "General idea: \n",
    "each document is generated from a mixture of topics and each of those topics is a mixture of words\n",
    "topic structures in a document are latent meaning they are hidden structures in the text\n",
    "documents can be anything (news articles, scientific articles, books, chapters of books, paragraphs, etc.)\n",
    "topic modeling, a method of computational linguistics that attempts to find words that frequently appear together within a text and then group them into clusters\n",
    "\n",
    "The LDA topic model – Assumptions\n",
    "order of words in documents does not matter → \"bag of words\" model\n",
    "order of documents* in a corpus does not matter\n",
    "number of topics  K  is known (has to be set in advance)\n",
    "\n",
    "Saliency: a measure of how much the term tells you about the topic\n",
    "Relevance: a weighted average of the probability of the word given the topic and the word given the topic normalized by the probability of the topic.\n",
    "Size of the bubble measures the importance of the topics, relative to the data.\n",
    "lambda = 0: we got the most salient terms, means terms mostly tell us about what’s going on relative to the topics"
   ]
  },
  {
   "cell_type": "code",
   "execution_count": 6,
   "metadata": {
    "scrolled": false
   },
   "outputs": [],
   "source": [
    "for nbr_topics in range(2,15):\n",
    "    path_save = os.path.join(path_extracted_data,'visual','LDA', title_)\n",
    "    dictionary = gensim.corpora.Dictionary.load(os.path.join(path_save,'dictionary.gensim'))\n",
    "    corpus = pickle.load(open(os.path.join(path_save,'corpus.pkl'), 'rb'))\n",
    "    lda_model = gensim.models.ldamodel.LdaModel.load(os.path.join(path_save, str(nbr_topics),'model'+str(nbr_topics)+'.gensim'))\n",
    "    lda_display = pyLDAvis.gensim.prepare(lda_model, corpus, dictionary, sort_topics=False)\n",
    "    pyLDAvis.display(lda_display)\n",
    "    #save it\n",
    "    pyLDAvis.save_html(lda_display, os.path.join(path_save, str(nbr_topics), str(nbr_topics)+'_lda.html'))"
   ]
  },
  {
   "cell_type": "markdown",
   "metadata": {},
   "source": [
    "df = pd.read_csv(os.path.join(path_save,'df_topics'+str(nbr_topics)+'.csv'), sep=';') \n",
    "print(df.shape)\n",
    "df.head(1)"
   ]
  },
  {
   "cell_type": "markdown",
   "metadata": {},
   "source": [
    "dico_tid_givenname = {0:'BusinessZiele' ,1:'Umsatz', 2:'Compliance', 3:'Fahigkeiten', 4:'Kundenanfragen', 5:'Qualitat', 6:'Releases'}\n",
    "df['topic name'] = df['topic'].map(lambda x: dico_tid_givenname[x])\n",
    "df.to_csv(os.path.join(path_save,'df_topics'+str(nbr_topics)+'_interpretation'+'.csv'),index=False,sep=';')\n",
    "df['topic name'].value_counts()"
   ]
  },
  {
   "cell_type": "code",
   "execution_count": null,
   "metadata": {},
   "outputs": [],
   "source": []
  },
  {
   "cell_type": "code",
   "execution_count": null,
   "metadata": {},
   "outputs": [],
   "source": []
  },
  {
   "cell_type": "code",
   "execution_count": null,
   "metadata": {},
   "outputs": [],
   "source": []
  },
  {
   "cell_type": "code",
   "execution_count": null,
   "metadata": {},
   "outputs": [],
   "source": []
  },
  {
   "cell_type": "code",
   "execution_count": null,
   "metadata": {},
   "outputs": [],
   "source": []
  }
 ],
 "metadata": {
  "kernelspec": {
   "display_name": "Python 3",
   "language": "python",
   "name": "python3"
  },
  "language_info": {
   "codemirror_mode": {
    "name": "ipython",
    "version": 3
   },
   "file_extension": ".py",
   "mimetype": "text/x-python",
   "name": "python",
   "nbconvert_exporter": "python",
   "pygments_lexer": "ipython3",
   "version": "3.6.4"
  }
 },
 "nbformat": 4,
 "nbformat_minor": 2
}
