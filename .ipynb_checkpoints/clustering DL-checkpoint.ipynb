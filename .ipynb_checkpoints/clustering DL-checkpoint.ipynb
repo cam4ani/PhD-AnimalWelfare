{
 "cells": [
  {
   "cell_type": "code",
   "execution_count": 31,
   "metadata": {},
   "outputs": [],
   "source": [
    "import keras\n",
    "from keras.datasets import mnist\n",
    "\n",
    "from tensorflow import keras\n",
    "from tensorflow.keras import layers, models\n",
    "from tensorflow.keras.models import Sequential\n",
    "from tensorflow.keras.layers import Dense, Activation, Flatten, Reshape, Conv2D, MaxPooling2D, UpSampling2D\n",
    "from tensorflow.keras.optimizers import Adam, SGD\n",
    "\n",
    "from tensorflow.keras import backend as K\n",
    "from tensorflow.contrib.factorization.python.ops import clustering_ops\n",
    "import tensorflow as tf\n",
    "\n",
    "import matplotlib.pyplot as plt\n",
    "import numpy as np"
   ]
  },
  {
   "cell_type": "raw",
   "metadata": {},
   "source": [
    "Deep Clustering with Convolutional Autoencoders\n",
    "Taken from: (http://www.datastuff.tech/machine-learning/autoencoder-deep-learning-tensorflow-eager-api-keras/)\n",
    "https://sefiks.com/2018/03/23/convolutional-autoencoder-clustering-images-with-neural-networks/\n",
    "peut-être: \n",
    "https://andersbll.github.io/deeppy-website/examples/autoencoders_mnist.html\n",
    "https://www.learnopencv.com/understanding-autoencoders-using-tensorflow-python/\n",
    "https://stats.stackexchange.com/questions/190148/building-an-autoencoder-in-tensorflow-to-surpass-pca"
   ]
  },
  {
   "cell_type": "code",
   "execution_count": 2,
   "metadata": {},
   "outputs": [],
   "source": [
    "#digits = datasets.load_digits()\n",
    "(x_train, y_train), (x_test, y_test) = mnist.load_data()"
   ]
  },
  {
   "cell_type": "code",
   "execution_count": 3,
   "metadata": {},
   "outputs": [
    {
     "data": {
      "text/plain": [
       "(60000, 28, 28)"
      ]
     },
     "execution_count": 3,
     "metadata": {},
     "output_type": "execute_result"
    }
   ],
   "source": [
    "x_train.shape"
   ]
  },
  {
   "cell_type": "code",
   "execution_count": 4,
   "metadata": {},
   "outputs": [],
   "source": [
    "x_train = x_train.reshape(x_train.shape[0], 28, 28, 1) #transform 2D 28x28 matrix to 3D (28x28x1) matrix\n",
    "x_test = x_test.reshape(x_test.shape[0], 28, 28, 1)\n",
    "\n",
    "x_train = x_train.astype('float32')\n",
    "x_test = x_test.astype('float32')\n",
    "\n",
    "x_train /= 255 #inputs have to be between [0, 1]\n",
    "x_test /= 255"
   ]
  },
  {
   "cell_type": "code",
   "execution_count": 6,
   "metadata": {},
   "outputs": [
    {
     "data": {
      "text/plain": [
       "(60000, 28, 28, 1)"
      ]
     },
     "execution_count": 6,
     "metadata": {},
     "output_type": "execute_result"
    }
   ],
   "source": [
    "x_train.shape"
   ]
  },
  {
   "cell_type": "markdown",
   "metadata": {},
   "source": [
    "img_size = x_train.shape[1]\n",
    "total_pixels = img_size * img_size\n",
    "translator_factor = 2\n",
    "translator_layer_size = int(total_pixels/translator_factor)\n",
    "middle_factor = 2\n",
    "middle_layer_size = int(translator_layer_size/middle_factor)\n",
    "\n",
    "inputs = keras.Input(shape=(img_size,img_size,1), name='cat_image')\n",
    "x = layers.Flatten(name = 'flattened_cat')(inputs) #turn image to vector.\n",
    "\n",
    "x = layers.Dense(translator_layer_size, activation='relu', name='encoder')(x)\n",
    "x = layers.Dense(middle_layer_size, activation='relu', name='middle_layer')(x)\n",
    "x = layers.Dense(translator_layer_size, activation='relu', name='decoder')(x)\n",
    "\n",
    "\n",
    "outputs = layers.Dense(total_pixels, activation='relu', name='reconstructed_cat')(x)\n",
    "outputs = layers.Reshape((img_size,img_size,1))(outputs)\n",
    "\n",
    "model = keras.Model(inputs=inputs, outputs=outputs)\n",
    "\n",
    "model.summary()"
   ]
  },
  {
   "cell_type": "code",
   "execution_count": 21,
   "metadata": {},
   "outputs": [
    {
     "name": "stdout",
     "output_type": "stream",
     "text": [
      "_________________________________________________________________\n",
      "Layer (type)                 Output Shape              Param #   \n",
      "=================================================================\n",
      "conv2d_5 (Conv2D)            (None, 28, 28, 16)        160       \n",
      "_________________________________________________________________\n",
      "activation_5 (Activation)    (None, 28, 28, 16)        0         \n",
      "_________________________________________________________________\n",
      "max_pooling2d_2 (MaxPooling2 (None, 14, 14, 16)        0         \n",
      "_________________________________________________________________\n",
      "conv2d_6 (Conv2D)            (None, 14, 14, 2)         290       \n",
      "_________________________________________________________________\n",
      "activation_6 (Activation)    (None, 14, 14, 2)         0         \n",
      "_________________________________________________________________\n",
      "max_pooling2d_3 (MaxPooling2 (None, 7, 7, 2)           0         \n",
      "_________________________________________________________________\n",
      "conv2d_7 (Conv2D)            (None, 7, 7, 2)           38        \n",
      "_________________________________________________________________\n",
      "activation_7 (Activation)    (None, 7, 7, 2)           0         \n",
      "_________________________________________________________________\n",
      "up_sampling2d_2 (UpSampling2 (None, 14, 14, 2)         0         \n",
      "_________________________________________________________________\n",
      "conv2d_8 (Conv2D)            (None, 14, 14, 16)        304       \n",
      "_________________________________________________________________\n",
      "activation_8 (Activation)    (None, 14, 14, 16)        0         \n",
      "_________________________________________________________________\n",
      "up_sampling2d_3 (UpSampling2 (None, 28, 28, 16)        0         \n",
      "_________________________________________________________________\n",
      "conv2d_9 (Conv2D)            (None, 28, 28, 1)         145       \n",
      "_________________________________________________________________\n",
      "activation_9 (Activation)    (None, 28, 28, 1)         0         \n",
      "=================================================================\n",
      "Total params: 937\n",
      "Trainable params: 937\n",
      "Non-trainable params: 0\n",
      "_________________________________________________________________\n"
     ]
    }
   ],
   "source": [
    "model = Sequential()\n",
    " \n",
    "#1st convolution layer\n",
    "model.add(Conv2D(16, (3, 3) #16 is number of filters and (3, 3) is the size of the filter.\n",
    ", padding='same', input_shape=(28,28,1)))\n",
    "model.add(Activation('relu'))\n",
    "model.add(MaxPooling2D(pool_size=(2,2), padding='same'))\n",
    " \n",
    "#2nd convolution layer\n",
    "model.add(Conv2D(2,(3, 3), padding='same')) # apply 2 filters sized of (3x3)\n",
    "model.add(Activation('relu'))\n",
    "model.add(MaxPooling2D(pool_size=(2,2), padding='same'))\n",
    " \n",
    "#here compressed version\n",
    " \n",
    "#3rd convolution layer\n",
    "model.add(Conv2D(2,(3, 3), padding='same')) # apply 2 filters sized of (3x3)\n",
    "model.add(Activation('relu'))\n",
    "model.add(UpSampling2D((2, 2)))\n",
    " \n",
    "#4rd convolution layer\n",
    "model.add(Conv2D(16,(3, 3), padding='same'))\n",
    "model.add(Activation('relu'))\n",
    "model.add(UpSampling2D((2, 2)))\n",
    " \n",
    "model.add(Conv2D(1,(3, 3), padding='same'))\n",
    "model.add(Activation('sigmoid'))\n",
    "\n",
    "model.summary()"
   ]
  },
  {
   "cell_type": "code",
   "execution_count": 23,
   "metadata": {
    "scrolled": true
   },
   "outputs": [
    {
     "name": "stdout",
     "output_type": "stream",
     "text": [
      "Train on 60000 samples, validate on 10000 samples\n",
      "Epoch 1/10\n",
      "60000/60000 [==============================] - 15s 250us/step - loss: 0.1176 - val_loss: 0.1138\n",
      "Epoch 2/10\n",
      "60000/60000 [==============================] - 14s 230us/step - loss: 0.1120 - val_loss: 0.1083\n",
      "Epoch 3/10\n",
      "60000/60000 [==============================] - 14s 229us/step - loss: 0.1088 - val_loss: 0.1071\n",
      "Epoch 4/10\n",
      "60000/60000 [==============================] - 14s 231us/step - loss: 0.1077 - val_loss: 0.1059\n",
      "Epoch 5/10\n",
      "60000/60000 [==============================] - 15s 243us/step - loss: 0.1070 - val_loss: 0.1055\n",
      "Epoch 6/10\n",
      "60000/60000 [==============================] - 14s 230us/step - loss: 0.1066 - val_loss: 0.1051\n",
      "Epoch 7/10\n",
      "60000/60000 [==============================] - 14s 225us/step - loss: 0.1063 - val_loss: 0.1046\n",
      "Epoch 8/10\n",
      "60000/60000 [==============================] - 14s 237us/step - loss: 0.1061 - val_loss: 0.1045\n",
      "Epoch 9/10\n",
      "60000/60000 [==============================] - 14s 232us/step - loss: 0.1059 - val_loss: 0.1043\n",
      "Epoch 10/10\n",
      "60000/60000 [==============================] - 14s 228us/step - loss: 0.1058 - val_loss: 0.1043\n"
     ]
    },
    {
     "data": {
      "text/plain": [
       "<tensorflow.python.keras.callbacks.History at 0x173241bc860>"
      ]
     },
     "execution_count": 23,
     "metadata": {},
     "output_type": "execute_result"
    }
   ],
   "source": [
    "model.compile(optimizer=Adam(lr=0.005), loss='binary_crossentropy') #'adadelta' Adam(lr=0.001)\n",
    "model.fit(x_train, x_train, epochs=10, validation_data=(x_test, x_test))"
   ]
  },
  {
   "cell_type": "markdown",
   "metadata": {},
   "source": [
    "### restored images"
   ]
  },
  {
   "cell_type": "code",
   "execution_count": 24,
   "metadata": {},
   "outputs": [
    {
     "data": {
      "image/png": "[encoded data removed]",
      "text/plain": [
       "<Figure size 432x288 with 1 Axes>"
      ]
     },
     "metadata": {
      "needs_background": "light"
     },
     "output_type": "display_data"
    },
    {
     "data": {
      "image/png": "[encoded data removed]",
      "text/plain": [
       "<Figure size 432x288 with 1 Axes>"
      ]
     },
     "metadata": {
      "needs_background": "light"
     },
     "output_type": "display_data"
    },
    {
     "name": "stdout",
     "output_type": "stream",
     "text": [
      "----------------------------\n"
     ]
    },
    {
     "data": {
      "image/png": "[encoded data removed]",
      "text/plain": [
       "<Figure size 432x288 with 1 Axes>"
      ]
     },
     "metadata": {
      "needs_background": "light"
     },
     "output_type": "display_data"
    },
    {
     "data": {
      "image/png": "[encoded data removed]",
      "text/plain": [
       "<Figure size 432x288 with 1 Axes>"
      ]
     },
     "metadata": {
      "needs_background": "light"
     },
     "output_type": "display_data"
    },
    {
     "name": "stdout",
     "output_type": "stream",
     "text": [
      "----------------------------\n"
     ]
    },
    {
     "data": {
      "image/png": "[encoded data removed]",
      "text/plain": [
       "<Figure size 432x288 with 1 Axes>"
      ]
     },
     "metadata": {
      "needs_background": "light"
     },
     "output_type": "display_data"
    },
    {
     "data": {
      "image/png": "[encoded data removed]",
      "text/plain": [
       "<Figure size 432x288 with 1 Axes>"
      ]
     },
     "metadata": {
      "needs_background": "light"
     },
     "output_type": "display_data"
    },
    {
     "name": "stdout",
     "output_type": "stream",
     "text": [
      "----------------------------\n"
     ]
    },
    {
     "data": {
      "image/png": "[encoded data removed]",
      "text/plain": [
       "<Figure size 432x288 with 1 Axes>"
      ]
     },
     "metadata": {
      "needs_background": "light"
     },
     "output_type": "display_data"
    },
    {
     "data": {
      "image/png": "[encoded data removed]",
      "text/plain": [
       "<Figure size 432x288 with 1 Axes>"
      ]
     },
     "metadata": {
      "needs_background": "light"
     },
     "output_type": "display_data"
    },
    {
     "name": "stdout",
     "output_type": "stream",
     "text": [
      "----------------------------\n"
     ]
    },
    {
     "data": {
      "image/png": "[encoded data removed]",
      "text/plain": [
       "<Figure size 432x288 with 1 Axes>"
      ]
     },
     "metadata": {
      "needs_background": "light"
     },
     "output_type": "display_data"
    },
    {
     "data": {
      "image/png": "[encoded data removed]",
      "text/plain": [
       "<Figure size 432x288 with 1 Axes>"
      ]
     },
     "metadata": {
      "needs_background": "light"
     },
     "output_type": "display_data"
    },
    {
     "name": "stdout",
     "output_type": "stream",
     "text": [
      "----------------------------\n"
     ]
    }
   ],
   "source": [
    "restored_imgs = model.predict(x_test)\n",
    "for i in range(5):\n",
    "    plt.imshow(x_test[i].reshape(28, 28))\n",
    "    plt.gray()\n",
    "    plt.show()\n",
    "    plt.imshow(restored_imgs[i].reshape(28, 28))\n",
    "    plt.gray()\n",
    "    plt.show()\n",
    "    print(\"----------------------------\")"
   ]
  },
  {
   "cell_type": "markdown",
   "metadata": {},
   "source": [
    "### define K-means"
   ]
  },
  {
   "cell_type": "code",
   "execution_count": 25,
   "metadata": {},
   "outputs": [
    {
     "name": "stdout",
     "output_type": "stream",
     "text": [
      "INFO:tensorflow:Using default config.\n",
      "WARNING:tensorflow:Using temporary folder as model directory: C:\\Users\\Public\\Documents\\Wondershare\\CreatorTemp\\tmpb3o5bbpx\n",
      "INFO:tensorflow:Using config: {'_task_type': None, '_task_id': 0, '_cluster_spec': <tensorflow.python.training.server_lib.ClusterSpec object at 0x0000017324065668>, '_master': '', '_num_ps_replicas': 0, '_num_worker_replicas': 0, '_environment': 'local', '_is_chief': True, '_evaluation_master': '', '_train_distribute': None, '_device_fn': None, '_tf_config': gpu_options {\n",
      "  per_process_gpu_memory_fraction: 1.0\n",
      "}\n",
      ", '_tf_random_seed': None, '_save_summary_steps': 100, '_save_checkpoints_secs': 600, '_log_step_count_steps': 100, '_session_config': None, '_save_checkpoints_steps': None, '_keep_checkpoint_max': 5, '_keep_checkpoint_every_n_hours': 10000, '_model_dir': 'C:\\\\Users\\\\Public\\\\Documents\\\\Wondershare\\\\CreatorTemp\\\\tmpb3o5bbpx'}\n"
     ]
    }
   ],
   "source": [
    "unsupervised_model = tf.contrib.learn.KMeansClustering(\n",
    "    10 #num of clusters\n",
    "    , distance_metric = clustering_ops.SQUARED_EUCLIDEAN_DISTANCE\n",
    "    , initial_clusters=tf.contrib.learn.KMeansClustering.RANDOM_INIT\n",
    ")"
   ]
  },
  {
   "cell_type": "markdown",
   "metadata": {},
   "source": [
    "### fit k-means"
   ]
  },
  {
   "cell_type": "code",
   "execution_count": 32,
   "metadata": {
    "scrolled": true
   },
   "outputs": [
    {
     "name": "stdout",
     "output_type": "stream",
     "text": [
      "WARNING:tensorflow:From c:\\users\\camil\\anaconda3\\lib\\site-packages\\tensorflow\\contrib\\learn\\python\\learn\\estimators\\kmeans.py:151: ModelFnOps.__new__ (from tensorflow.contrib.learn.python.learn.estimators.model_fn) is deprecated and will be removed in a future version.\n",
      "Instructions for updating:\n",
      "When switching to tf.estimator.Estimator, use tf.estimator.EstimatorSpec. You can use the `estimator_spec` method to create an equivalent one.\n",
      "INFO:tensorflow:Create CheckpointSaverHook.\n",
      "INFO:tensorflow:Graph was finalized.\n",
      "INFO:tensorflow:Running local_init_op.\n",
      "INFO:tensorflow:Done running local_init_op.\n",
      "INFO:tensorflow:Saving checkpoints for 0 into C:\\Users\\Public\\Documents\\Wondershare\\CreatorTemp\\tmpb3o5bbpx\\model.ckpt.\n",
      "INFO:tensorflow:loss = 147516.56, step = 1\n",
      "INFO:tensorflow:global_step/sec: 4.7261\n",
      "INFO:tensorflow:loss = 86626.08, step = 101 (21.159 sec)\n",
      "INFO:tensorflow:global_step/sec: 5.01875\n",
      "INFO:tensorflow:loss = 86206.984, step = 201 (19.925 sec)\n",
      "INFO:tensorflow:global_step/sec: 4.90601\n",
      "INFO:tensorflow:loss = 86041.89, step = 301 (20.383 sec)\n",
      "INFO:tensorflow:global_step/sec: 5.00535\n",
      "INFO:tensorflow:loss = 85948.8, step = 401 (19.979 sec)\n",
      "INFO:tensorflow:global_step/sec: 5.09028\n",
      "INFO:tensorflow:loss = 85890.26, step = 501 (19.649 sec)\n",
      "INFO:tensorflow:global_step/sec: 4.87434\n",
      "INFO:tensorflow:loss = 85849.75, step = 601 (20.516 sec)\n",
      "INFO:tensorflow:global_step/sec: 4.68885\n",
      "INFO:tensorflow:loss = 85820.02, step = 701 (21.323 sec)\n",
      "INFO:tensorflow:global_step/sec: 5.02043\n",
      "INFO:tensorflow:loss = 85797.3, step = 801 (19.923 sec)\n",
      "INFO:tensorflow:global_step/sec: 4.81732\n",
      "INFO:tensorflow:loss = 85779.0, step = 901 (20.754 sec)\n",
      "INFO:tensorflow:Saving checkpoints for 1000 into C:\\Users\\Public\\Documents\\Wondershare\\CreatorTemp\\tmpb3o5bbpx\\model.ckpt.\n",
      "INFO:tensorflow:Loss for final step: 85764.05.\n"
     ]
    },
    {
     "data": {
      "text/plain": [
       "KMeansClustering(params={'num_clusters': 10, 'training_initial_clusters': 'random', 'distance_metric': 'squared_euclidean', 'random_seed': 0, 'use_mini_batch': True, 'mini_batch_steps_per_iteration': 1, 'kmeans_plus_plus_num_retries': 2, 'relative_tolerance': None})"
      ]
     },
     "execution_count": 32,
     "metadata": {},
     "output_type": "execute_result"
    }
   ],
   "source": [
    "#layers = len(model.layers)\n",
    "#for i in range(layers):\n",
    "#    print(i, \". \", model.layers[i].output.get_shape())\n",
    "#layer[7] is a compressed representation. It is size of (None, 7, 7, 2). this means 2 different 7x7 sized matrixes. We will \n",
    "#flatten these matrixes.\n",
    "get_3rd_layer_output = K.function([model.layers[0].input], [model.layers[7].output])\n",
    "compressed = get_3rd_layer_output([x_test])[0]\n",
    "compressed = compressed.reshape(10000,7*7*2)\n",
    "\n",
    "def train_input_fn():\n",
    "    data = tf.constant(compressed, tf.float32)\n",
    "    return (data, None)\n",
    "\n",
    "unsupervised_model.fit(input_fn=train_input_fn, steps=1000)"
   ]
  },
  {
   "cell_type": "markdown",
   "metadata": {},
   "source": [
    "### clustering"
   ]
  },
  {
   "cell_type": "code",
   "execution_count": 36,
   "metadata": {
    "scrolled": false
   },
   "outputs": [
    {
     "name": "stdout",
     "output_type": "stream",
     "text": [
      "INFO:tensorflow:Graph was finalized.\n",
      "INFO:tensorflow:Restoring parameters from C:\\Users\\Public\\Documents\\Wondershare\\CreatorTemp\\tmpb3o5bbpx\\model.ckpt-1000\n",
      "INFO:tensorflow:Running local_init_op.\n",
      "INFO:tensorflow:Done running local_init_op.\n",
      "---------------  {'all_scores': array([26.216843, 14.44957 , 21.320496, 13.517731, 19.05243 , 27.794708,\n",
      "       31.158371, 22.062408, 24.145264, 20.318024], dtype=float32), 'cluster_idx': 3}\n"
     ]
    },
    {
     "data": {
      "image/png": "[encoded data removed]",
      "text/plain": [
       "<Figure size 432x288 with 1 Axes>"
      ]
     },
     "metadata": {
      "needs_background": "light"
     },
     "output_type": "display_data"
    },
    {
     "name": "stdout",
     "output_type": "stream",
     "text": [
      "---------------  {'all_scores': array([26.525452, 18.481903, 32.51796 , 16.409592, 19.844193, 24.623978,\n",
      "       29.626587, 30.68901 , 17.16005 , 24.352524], dtype=float32), 'cluster_idx': 3}\n"
     ]
    },
    {
     "data": {
      "image/png": "[encoded data removed]",
      "text/plain": [
       "<Figure size 432x288 with 1 Axes>"
      ]
     },
     "metadata": {
      "needs_background": "light"
     },
     "output_type": "display_data"
    },
    {
     "name": "stdout",
     "output_type": "stream",
     "text": [
      "---------------  {'all_scores': array([25.549652, 22.896423, 31.957596, 15.670639, 24.542953, 27.441086,\n",
      "       25.77359 , 33.59636 , 22.726395, 22.6725  ], dtype=float32), 'cluster_idx': 3}\n"
     ]
    },
    {
     "data": {
      "image/png": "[encoded data removed]",
      "text/plain": [
       "<Figure size 432x288 with 1 Axes>"
      ]
     },
     "metadata": {
      "needs_background": "light"
     },
     "output_type": "display_data"
    },
    {
     "name": "stdout",
     "output_type": "stream",
     "text": [
      "---------------  {'all_scores': array([22.030731, 10.575317, 14.962875, 10.507889, 14.058701, 22.56337 ,\n",
      "       22.520264, 17.214767, 17.770523, 13.005875], dtype=float32), 'cluster_idx': 3}\n"
     ]
    },
    {
     "data": {
      "image/png": "[encoded data removed]",
      "text/plain": [
       "<Figure size 432x288 with 1 Axes>"
      ]
     },
     "metadata": {
      "needs_background": "light"
     },
     "output_type": "display_data"
    },
    {
     "name": "stdout",
     "output_type": "stream",
     "text": [
      "---------------  {'all_scores': array([23.54918 , 22.731216, 16.31604 , 14.384247, 19.587463, 22.99646 ,\n",
      "       28.40834 , 20.07663 , 24.285889, 22.93103 ], dtype=float32), 'cluster_idx': 3}\n"
     ]
    },
    {
     "data": {
      "image/png": "[encoded data removed]",
      "text/plain": [
       "<Figure size 432x288 with 1 Axes>"
      ]
     },
     "metadata": {
      "needs_background": "light"
     },
     "output_type": "display_data"
    },
    {
     "name": "stdout",
     "output_type": "stream",
     "text": [
      "---------------  {'all_scores': array([21.026535, 18.30571 , 18.568634, 11.049194, 19.82254 , 22.154266,\n",
      "       24.24205 , 22.358368, 27.699951, 19.43509 ], dtype=float32), 'cluster_idx': 3}\n"
     ]
    },
    {
     "data": {
      "image/png": "[encoded data removed]",
      "text/plain": [
       "<Figure size 432x288 with 1 Axes>"
      ]
     },
     "metadata": {
      "needs_background": "light"
     },
     "output_type": "display_data"
    },
    {
     "name": "stdout",
     "output_type": "stream",
     "text": [
      "---------------  {'all_scores': array([27.959015, 20.62555 , 28.514114, 16.00264 , 26.49562 , 23.685959,\n",
      "       28.824463, 28.266037, 23.180252, 27.117844], dtype=float32), 'cluster_idx': 3}\n"
     ]
    },
    {
     "data": {
      "image/png": "[encoded data removed]",
      "text/plain": [
       "<Figure size 432x288 with 1 Axes>"
      ]
     },
     "metadata": {
      "needs_background": "light"
     },
     "output_type": "display_data"
    },
    {
     "name": "stdout",
     "output_type": "stream",
     "text": [
      "---------------  {'all_scores': array([13.108658, 14.691757, 17.286743,  9.221497, 15.257721, 18.721039,\n",
      "       17.518967, 17.119415, 19.405579, 11.930206], dtype=float32), 'cluster_idx': 3}\n"
     ]
    },
    {
     "data": {
      "image/png": "[encoded data removed]",
      "text/plain": [
       "<Figure size 432x288 with 1 Axes>"
      ]
     },
     "metadata": {
      "needs_background": "light"
     },
     "output_type": "display_data"
    },
    {
     "name": "stdout",
     "output_type": "stream",
     "text": [
      "---------------  {'all_scores': array([18.468445, 16.647522, 25.925919, 12.767288, 16.336197, 17.27864 ,\n",
      "       20.833221, 23.156387, 14.23439 , 16.86699 ], dtype=float32), 'cluster_idx': 3}\n"
     ]
    },
    {
     "data": {
      "image/png": "[encoded data removed]",
      "text/plain": [
       "<Figure size 432x288 with 1 Axes>"
      ]
     },
     "metadata": {
      "needs_background": "light"
     },
     "output_type": "display_data"
    },
    {
     "name": "stdout",
     "output_type": "stream",
     "text": [
      "---------------  {'all_scores': array([23.687454, 20.634659, 31.210724, 15.398682, 24.250275, 24.45877 ,\n",
      "       25.123611, 30.723602, 18.479248, 20.361725], dtype=float32), 'cluster_idx': 3}\n"
     ]
    },
    {
     "data": {
      "image/png": "[encoded data removed]",
      "text/plain": [
       "<Figure size 432x288 with 1 Axes>"
      ]
     },
     "metadata": {
      "needs_background": "light"
     },
     "output_type": "display_data"
    },
    {
     "name": "stdout",
     "output_type": "stream",
     "text": [
      "---------------  {'all_scores': array([21.14653  , 15.925461 , 22.283813 ,  6.0208435, 18.31189  ,\n",
      "       23.50293  , 23.90831  , 28.49945  , 19.924774 , 17.444824 ],\n",
      "      dtype=float32), 'cluster_idx': 3}\n"
     ]
    },
    {
     "data": {
      "image/png": "[encoded data removed]",
      "text/plain": [
       "<Figure size 432x288 with 1 Axes>"
      ]
     },
     "metadata": {
      "needs_background": "light"
     },
     "output_type": "display_data"
    },
    {
     "name": "stdout",
     "output_type": "stream",
     "text": [
      "---------------  {'all_scores': array([21.251114, 15.458725, 28.799408, 11.518036, 19.863525, 24.394928,\n",
      "       25.114365, 30.403381, 12.457214, 15.902649], dtype=float32), 'cluster_idx': 3}\n"
     ]
    },
    {
     "data": {
      "image/png": "[encoded data removed]",
      "text/plain": [
       "<Figure size 432x288 with 1 Axes>"
      ]
     },
     "metadata": {
      "needs_background": "light"
     },
     "output_type": "display_data"
    },
    {
     "name": "stdout",
     "output_type": "stream",
     "text": [
      "---------------  {'all_scores': array([17.86525  , 16.834305 , 27.751343 , 10.425537 , 15.172089 ,\n",
      "       18.967041 , 24.18309  , 28.499664 , 14.2178955, 15.754822 ],\n",
      "      dtype=float32), 'cluster_idx': 3}\n"
     ]
    },
    {
     "data": {
      "image/png": "[encoded data removed]",
      "text/plain": [
       "<Figure size 432x288 with 1 Axes>"
      ]
     },
     "metadata": {
      "needs_background": "light"
     },
     "output_type": "display_data"
    },
    {
     "name": "stdout",
     "output_type": "stream",
     "text": [
      "---------------  {'all_scores': array([19.707901, 18.587173, 20.276276, 13.738373, 18.551178, 18.05655 ,\n",
      "       22.688004, 20.296509, 23.68689 , 21.229889], dtype=float32), 'cluster_idx': 3}\n"
     ]
    },
    {
     "data": {
      "image/png": "[encoded data removed]",
      "text/plain": [
       "<Figure size 432x288 with 1 Axes>"
      ]
     },
     "metadata": {
      "needs_background": "light"
     },
     "output_type": "display_data"
    },
    {
     "name": "stdout",
     "output_type": "stream",
     "text": [
      "---------------  {'all_scores': array([25.842941, 15.840347, 23.241608, 13.059753, 26.470184, 29.619354,\n",
      "       29.83812 , 28.025635, 22.539032, 17.39569 ], dtype=float32), 'cluster_idx': 3}\n"
     ]
    },
    {
     "data": {
      "image/png": "[encoded data removed]",
      "text/plain": [
       "<Figure size 432x288 with 1 Axes>"
      ]
     },
     "metadata": {
      "needs_background": "light"
     },
     "output_type": "display_data"
    },
    {
     "name": "stdout",
     "output_type": "stream",
     "text": [
      "---------------  {'all_scores': array([15.869202, 13.291809, 18.424881,  9.722092, 14.299637, 13.934799,\n",
      "       15.932098, 20.728012, 20.876877, 11.584152], dtype=float32), 'cluster_idx': 3}\n"
     ]
    },
    {
     "data": {
      "image/png": "[encoded data removed]",
      "text/plain": [
       "<Figure size 432x288 with 1 Axes>"
      ]
     },
     "metadata": {
      "needs_background": "light"
     },
     "output_type": "display_data"
    },
    {
     "name": "stdout",
     "output_type": "stream",
     "text": [
      "---------------  {'all_scores': array([24.990936,  9.863892, 18.081375,  8.103683, 19.365494, 23.771133,\n",
      "       25.006134, 22.472366, 24.111069, 13.859024], dtype=float32), 'cluster_idx': 3}\n"
     ]
    },
    {
     "data": {
      "image/png": "[encoded data removed]",
      "text/plain": [
       "<Figure size 432x288 with 1 Axes>"
      ]
     },
     "metadata": {
      "needs_background": "light"
     },
     "output_type": "display_data"
    },
    {
     "name": "stdout",
     "output_type": "stream",
     "text": [
      "---------------  {'all_scores': array([14.136841 , 11.081421 , 17.650742 ,  5.940506 , 11.699448 ,\n",
      "       17.045456 , 16.432007 , 20.380753 , 13.109879 ,  7.3383026],\n",
      "      dtype=float32), 'cluster_idx': 3}\n"
     ]
    },
    {
     "data": {
      "image/png": "[encoded data removed]",
      "text/plain": [
       "<Figure size 432x288 with 1 Axes>"
      ]
     },
     "metadata": {
      "needs_background": "light"
     },
     "output_type": "display_data"
    }
   ],
   "source": [
    "clusters = unsupervised_model.predict(input_fn=train_input_fn)\n",
    "\n",
    "index = 0\n",
    "for i in clusters:\n",
    "    current_cluster = i['cluster_idx']\n",
    "    features = x_test[index]\n",
    "    \n",
    "    if index < 200 and current_cluster==3:\n",
    "        print('--------------- ',i)\n",
    "        plt.imshow(x_test[index].reshape(28, 28))\n",
    "        plt.gray()\n",
    "        plt.show()\n",
    "    index = index + 1"
   ]
  },
  {
   "cell_type": "code",
   "execution_count": null,
   "metadata": {},
   "outputs": [],
   "source": []
  },
  {
   "cell_type": "code",
   "execution_count": null,
   "metadata": {},
   "outputs": [],
   "source": []
  },
  {
   "cell_type": "code",
   "execution_count": null,
   "metadata": {},
   "outputs": [],
   "source": []
  },
  {
   "cell_type": "code",
   "execution_count": null,
   "metadata": {},
   "outputs": [],
   "source": []
  },
  {
   "cell_type": "code",
   "execution_count": null,
   "metadata": {},
   "outputs": [],
   "source": []
  },
  {
   "cell_type": "code",
   "execution_count": null,
   "metadata": {},
   "outputs": [],
   "source": []
  },
  {
   "cell_type": "code",
   "execution_count": null,
   "metadata": {},
   "outputs": [],
   "source": []
  },
  {
   "cell_type": "code",
   "execution_count": null,
   "metadata": {},
   "outputs": [],
   "source": []
  },
  {
   "cell_type": "code",
   "execution_count": null,
   "metadata": {},
   "outputs": [],
   "source": []
  },
  {
   "cell_type": "code",
   "execution_count": null,
   "metadata": {},
   "outputs": [],
   "source": []
  },
  {
   "cell_type": "code",
   "execution_count": null,
   "metadata": {},
   "outputs": [],
   "source": []
  }
 ],
 "metadata": {
  "kernelspec": {
   "display_name": "Python 3",
   "language": "python",
   "name": "python3"
  },
  "language_info": {
   "codemirror_mode": {
    "name": "ipython",
    "version": 3
   },
   "file_extension": ".py",
   "mimetype": "text/x-python",
   "name": "python",
   "nbconvert_exporter": "python",
   "pygments_lexer": "ipython3",
   "version": "3.6.4"
  }
 },
 "nbformat": 4,
 "nbformat_minor": 2
}
