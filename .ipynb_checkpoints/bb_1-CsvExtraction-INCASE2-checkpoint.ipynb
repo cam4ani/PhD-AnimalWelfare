{
 "cells": [
  {
   "cell_type": "code",
   "execution_count": 1,
   "metadata": {},
   "outputs": [],
   "source": [
    "#basic package\n",
    "import json\n",
    "import tqdm\n",
    "import os\n",
    "import numpy as np\n",
    "import glob\n",
    "import pandas as pd\n",
    "import sys\n",
    "import shutil\n",
    "import time\n",
    "import datetime as dt\n",
    "import itertools\n",
    "import time\n",
    "import re\n",
    "from collections import Counter\n",
    "from collections import defaultdict\n",
    "import operator\n",
    "import math\n",
    "from operator import itemgetter\n",
    "import functools\n",
    "import collections\n",
    "\n",
    "#plot\n",
    "import matplotlib.pyplot as plt\n",
    "import seaborn as sns"
   ]
  },
  {
   "cell_type": "code",
   "execution_count": 2,
   "metadata": {},
   "outputs": [
    {
     "name": "stderr",
     "output_type": "stream",
     "text": [
      "C:\\Users\\camil\\Anaconda3\\lib\\site-packages\\scipy\\sparse\\sparsetools.py:21: DeprecationWarning: `scipy.sparse.sparsetools` is deprecated!\n",
      "scipy.sparse.sparsetools is a private module for scipy.sparse, and should not be used.\n",
      "  _deprecated()\n"
     ]
    }
   ],
   "source": [
    "from UTILS_bb import preprocessing_broiler_breeder, time_series_henColumn_tsRow, bining_broilers\n",
    "import config_breeder_boiler as config"
   ]
  },
  {
   "cell_type": "markdown",
   "metadata": {},
   "source": [
    "# Define parameters"
   ]
  },
  {
   "cell_type": "code",
   "execution_count": 3,
   "metadata": {},
   "outputs": [
    {
     "name": "stdout",
     "output_type": "stream",
     "text": [
      "change the configuration file if not done yet!\n"
     ]
    }
   ],
   "source": [
    "print('change the configuration file if not done yet!')\n",
    "path_extracted_data = config.path_extracted_data\n",
    "id_run = config.id_run"
   ]
  },
  {
   "cell_type": "markdown",
   "metadata": {},
   "source": [
    "# Preprocessing"
   ]
  },
  {
   "cell_type": "code",
   "execution_count": 4,
   "metadata": {},
   "outputs": [
    {
     "name": "stdout",
     "output_type": "stream",
     "text": [
      "We remove 5886 records due to an unkown TagID_Pen_HenID value: 15C3, we are left with 6965685 records\n"
     ]
    },
    {
     "data": {
      "text/html": [
       "<text style=color:green>All records are associated to correct HenID</text>"
      ],
      "text/plain": [
       "<IPython.core.display.HTML object>"
      ]
     },
     "metadata": {},
     "output_type": "display_data"
    },
    {
     "data": {
      "text/html": [
       "<text style=color:green>All HenID has at least one record</text>"
      ],
      "text/plain": [
       "<IPython.core.display.HTML object>"
      ]
     },
     "metadata": {},
     "output_type": "display_data"
    },
    {
     "data": {
      "text/html": [
       "<text style=color:green>All records are associated to correct PenID</text>"
      ],
      "text/plain": [
       "<IPython.core.display.HTML object>"
      ]
     },
     "metadata": {},
     "output_type": "display_data"
    },
    {
     "data": {
      "text/html": [
       "<text style=color:green>All PenID has at least one record</text>"
      ],
      "text/plain": [
       "<IPython.core.display.HTML object>"
      ]
     },
     "metadata": {},
     "output_type": "display_data"
    },
    {
     "data": {
      "text/html": [
       "<text style=color:black>We have </text> <text style=color:green>6965685</text> <text style=color:black> records (</text> <text style=color:red>0</text> <text style=color:black> removed due to wrong hen or pen ids)</text>"
      ],
      "text/plain": [
       "<IPython.core.display.HTML object>"
      ]
     },
     "metadata": {},
     "output_type": "display_data"
    },
    {
     "data": {
      "text/html": [
       "<text style=color:blue>-----------------------------------------------------------------------------------------------</text>"
      ],
      "text/plain": [
       "<IPython.core.display.HTML object>"
      ]
     },
     "metadata": {},
     "output_type": "display_data"
    },
    {
     "data": {
      "text/html": [
       "<text style=color:blue>check zone associated to wrong pen.........</text>"
      ],
      "text/plain": [
       "<IPython.core.display.HTML object>"
      ]
     },
     "metadata": {},
     "output_type": "display_data"
    },
    {
     "data": {
      "text/html": [
       "<text style=color:blue>-----------------------------------------------------------------------------------------------</text>"
      ],
      "text/plain": [
       "<IPython.core.display.HTML object>"
      ]
     },
     "metadata": {},
     "output_type": "display_data"
    },
    {
     "data": {
      "text/html": [
       "<text style=color:black>We have </text> <text style=color:green>6961545</text> <text style=color:black> records (</text> <text style=color:red>4140</text> <text style=color:black> removed due zone associated to wrong pen)</text>"
      ],
      "text/plain": [
       "<IPython.core.display.HTML object>"
      ]
     },
     "metadata": {},
     "output_type": "display_data"
    },
    {
     "name": "stdout",
     "output_type": "stream",
     "text": [
      "(6961545, 11)\n"
     ]
    },
    {
     "data": {
      "text/html": [
       "<div>\n",
       "<style scoped>\n",
       "    .dataframe tbody tr th:only-of-type {\n",
       "        vertical-align: middle;\n",
       "    }\n",
       "\n",
       "    .dataframe tbody tr th {\n",
       "        vertical-align: top;\n",
       "    }\n",
       "\n",
       "    .dataframe thead th {\n",
       "        text-align: right;\n",
       "    }\n",
       "</style>\n",
       "<table border=\"1\" class=\"dataframe\">\n",
       "  <thead>\n",
       "    <tr style=\"text-align: right;\">\n",
       "      <th></th>\n",
       "      <th>Timestamp</th>\n",
       "      <th>HenID</th>\n",
       "      <th>Zone</th>\n",
       "      <th>PenID</th>\n",
       "      <th>log_file_name</th>\n",
       "      <th>Signal</th>\n",
       "      <th>ts_order</th>\n",
       "      <th>date</th>\n",
       "      <th>time</th>\n",
       "      <th>test_correct_HenID</th>\n",
       "      <th>test_correct_PenID</th>\n",
       "    </tr>\n",
       "  </thead>\n",
       "  <tbody>\n",
       "    <tr>\n",
       "      <th>0</th>\n",
       "      <td>2019-07-07 22:09:28</td>\n",
       "      <td>4B</td>\n",
       "      <td>Rampe</td>\n",
       "      <td>4</td>\n",
       "      <td>6</td>\n",
       "      <td>12</td>\n",
       "      <td>0</td>\n",
       "      <td>2019-07-07</td>\n",
       "      <td>22:09:28</td>\n",
       "      <td>True</td>\n",
       "      <td>True</td>\n",
       "    </tr>\n",
       "    <tr>\n",
       "      <th>1</th>\n",
       "      <td>2019-07-07 22:09:28</td>\n",
       "      <td>4L</td>\n",
       "      <td>Rampe</td>\n",
       "      <td>4</td>\n",
       "      <td>6</td>\n",
       "      <td>14</td>\n",
       "      <td>1</td>\n",
       "      <td>2019-07-07</td>\n",
       "      <td>22:09:28</td>\n",
       "      <td>True</td>\n",
       "      <td>True</td>\n",
       "    </tr>\n",
       "    <tr>\n",
       "      <th>2</th>\n",
       "      <td>2019-07-07 22:09:29</td>\n",
       "      <td>4B</td>\n",
       "      <td>Einstreu</td>\n",
       "      <td>4</td>\n",
       "      <td>6</td>\n",
       "      <td>12</td>\n",
       "      <td>2</td>\n",
       "      <td>2019-07-07</td>\n",
       "      <td>22:09:29</td>\n",
       "      <td>True</td>\n",
       "      <td>True</td>\n",
       "    </tr>\n",
       "  </tbody>\n",
       "</table>\n",
       "</div>"
      ],
      "text/plain": [
       "            Timestamp HenID      Zone PenID  log_file_name  Signal  ts_order  \\\n",
       "0 2019-07-07 22:09:28    4B     Rampe     4              6      12         0   \n",
       "1 2019-07-07 22:09:28    4L     Rampe     4              6      14         1   \n",
       "2 2019-07-07 22:09:29    4B  Einstreu     4              6      12         2   \n",
       "\n",
       "         date      time  test_correct_HenID  test_correct_PenID  \n",
       "0  2019-07-07  22:09:28                True                True  \n",
       "1  2019-07-07  22:09:28                True                True  \n",
       "2  2019-07-07  22:09:29                True                True  "
      ]
     },
     "execution_count": 4,
     "metadata": {},
     "output_type": "execute_result"
    }
   ],
   "source": [
    "path_initial_data = config.path_initial_data\n",
    "p = glob.glob(os.path.join(path_initial_data,'log_*.csv'))\n",
    "#print('There is %d log files:\\n  %s'%(len(p),'  \\n  '.join(p)))\n",
    "df = preprocessing_broiler_breeder(p, config)\n",
    "print(df.shape)\n",
    "df.head(3)"
   ]
  },
  {
   "cell_type": "markdown",
   "metadata": {},
   "source": [
    "## Create one second time series"
   ]
  },
  {
   "cell_type": "code",
   "execution_count": 5,
   "metadata": {},
   "outputs": [
    {
     "name": "stderr",
     "output_type": "stream",
     "text": [
      "C:\\Users\\camil\\Anaconda3\\lib\\site-packages\\numpy\\lib\\arraysetops.py:580: FutureWarning: elementwise comparison failed; returning scalar instead, but in the future will perform elementwise comparison\n",
      "  mask |= (ar1 == a)\n"
     ]
    },
    {
     "name": "stdout",
     "output_type": "stream",
     "text": [
      "(6961545, 11)\n"
     ]
    },
    {
     "data": {
      "text/html": [
       "<div>\n",
       "<style scoped>\n",
       "    .dataframe tbody tr th:only-of-type {\n",
       "        vertical-align: middle;\n",
       "    }\n",
       "\n",
       "    .dataframe tbody tr th {\n",
       "        vertical-align: top;\n",
       "    }\n",
       "\n",
       "    .dataframe thead th {\n",
       "        text-align: right;\n",
       "    }\n",
       "</style>\n",
       "<table border=\"1\" class=\"dataframe\">\n",
       "  <thead>\n",
       "    <tr style=\"text-align: right;\">\n",
       "      <th></th>\n",
       "      <th>Timestamp</th>\n",
       "      <th>HenID</th>\n",
       "      <th>Zone</th>\n",
       "      <th>PenID</th>\n",
       "      <th>log_file_name</th>\n",
       "      <th>Signal</th>\n",
       "      <th>ts_order</th>\n",
       "      <th>date</th>\n",
       "      <th>time</th>\n",
       "      <th>test_correct_HenID</th>\n",
       "      <th>test_correct_PenID</th>\n",
       "    </tr>\n",
       "  </thead>\n",
       "  <tbody>\n",
       "    <tr>\n",
       "      <th>0</th>\n",
       "      <td>2019-07-07 22:09:28</td>\n",
       "      <td>4B</td>\n",
       "      <td>Rampe</td>\n",
       "      <td>4</td>\n",
       "      <td>6</td>\n",
       "      <td>12</td>\n",
       "      <td>0</td>\n",
       "      <td>2019-07-07</td>\n",
       "      <td>22:09:28</td>\n",
       "      <td>True</td>\n",
       "      <td>True</td>\n",
       "    </tr>\n",
       "    <tr>\n",
       "      <th>1</th>\n",
       "      <td>2019-07-07 22:09:28</td>\n",
       "      <td>4L</td>\n",
       "      <td>Rampe</td>\n",
       "      <td>4</td>\n",
       "      <td>6</td>\n",
       "      <td>14</td>\n",
       "      <td>1</td>\n",
       "      <td>2019-07-07</td>\n",
       "      <td>22:09:28</td>\n",
       "      <td>True</td>\n",
       "      <td>True</td>\n",
       "    </tr>\n",
       "    <tr>\n",
       "      <th>2</th>\n",
       "      <td>2019-07-07 22:09:29</td>\n",
       "      <td>4B</td>\n",
       "      <td>Einstreu</td>\n",
       "      <td>4</td>\n",
       "      <td>6</td>\n",
       "      <td>12</td>\n",
       "      <td>2</td>\n",
       "      <td>2019-07-07</td>\n",
       "      <td>22:09:29</td>\n",
       "      <td>True</td>\n",
       "      <td>True</td>\n",
       "    </tr>\n",
       "  </tbody>\n",
       "</table>\n",
       "</div>"
      ],
      "text/plain": [
       "            Timestamp HenID      Zone  PenID  log_file_name  Signal  ts_order  \\\n",
       "0 2019-07-07 22:09:28    4B     Rampe      4              6      12         0   \n",
       "1 2019-07-07 22:09:28    4L     Rampe      4              6      14         1   \n",
       "2 2019-07-07 22:09:29    4B  Einstreu      4              6      12         2   \n",
       "\n",
       "        date      time  test_correct_HenID  test_correct_PenID  \n",
       "0 2019-07-07  22:09:28                True                True  \n",
       "1 2019-07-07  22:09:28                True                True  \n",
       "2 2019-07-07  22:09:29                True                True  "
      ]
     },
     "execution_count": 5,
     "metadata": {},
     "output_type": "execute_result"
    }
   ],
   "source": [
    "#for being more reproductible, we open the file that was saved from cleaning\n",
    "df = pd.read_csv(os.path.join(path_extracted_data, id_run+'_PreprocessRecords.csv'), sep=';', parse_dates=['Timestamp','date'],\n",
    "                 index_col=0) \n",
    "print(df.shape)\n",
    "df.head(3)"
   ]
  },
  {
   "cell_type": "code",
   "execution_count": 6,
   "metadata": {},
   "outputs": [
    {
     "data": {
      "text/html": [
       "<div>\n",
       "<style scoped>\n",
       "    .dataframe tbody tr th:only-of-type {\n",
       "        vertical-align: middle;\n",
       "    }\n",
       "\n",
       "    .dataframe tbody tr th {\n",
       "        vertical-align: top;\n",
       "    }\n",
       "\n",
       "    .dataframe thead th {\n",
       "        text-align: right;\n",
       "    }\n",
       "</style>\n",
       "<table border=\"1\" class=\"dataframe\">\n",
       "  <thead>\n",
       "    <tr style=\"text-align: right;\">\n",
       "      <th></th>\n",
       "      <th>Timestamp</th>\n",
       "      <th>HenID</th>\n",
       "      <th>Zone</th>\n",
       "      <th>PenID</th>\n",
       "      <th>log_file_name</th>\n",
       "      <th>Signal</th>\n",
       "      <th>ts_order</th>\n",
       "      <th>date</th>\n",
       "      <th>time</th>\n",
       "      <th>test_correct_HenID</th>\n",
       "      <th>test_correct_PenID</th>\n",
       "    </tr>\n",
       "  </thead>\n",
       "  <tbody>\n",
       "    <tr>\n",
       "      <th>0</th>\n",
       "      <td>2019-07-07 22:09:28</td>\n",
       "      <td>4B</td>\n",
       "      <td>Rampe</td>\n",
       "      <td>4</td>\n",
       "      <td>6</td>\n",
       "      <td>12</td>\n",
       "      <td>0</td>\n",
       "      <td>2019-07-07</td>\n",
       "      <td>22:09:28</td>\n",
       "      <td>True</td>\n",
       "      <td>True</td>\n",
       "    </tr>\n",
       "    <tr>\n",
       "      <th>2</th>\n",
       "      <td>2019-07-07 22:09:29</td>\n",
       "      <td>4B</td>\n",
       "      <td>Einstreu</td>\n",
       "      <td>4</td>\n",
       "      <td>6</td>\n",
       "      <td>12</td>\n",
       "      <td>2</td>\n",
       "      <td>2019-07-07</td>\n",
       "      <td>22:09:29</td>\n",
       "      <td>True</td>\n",
       "      <td>True</td>\n",
       "    </tr>\n",
       "    <tr>\n",
       "      <th>4</th>\n",
       "      <td>2019-07-07 22:09:29</td>\n",
       "      <td>4B</td>\n",
       "      <td>Rampe</td>\n",
       "      <td>4</td>\n",
       "      <td>6</td>\n",
       "      <td>12</td>\n",
       "      <td>4</td>\n",
       "      <td>2019-07-07</td>\n",
       "      <td>22:09:29</td>\n",
       "      <td>True</td>\n",
       "      <td>True</td>\n",
       "    </tr>\n",
       "    <tr>\n",
       "      <th>7</th>\n",
       "      <td>2019-07-07 22:09:30</td>\n",
       "      <td>4B</td>\n",
       "      <td>Einstreu</td>\n",
       "      <td>4</td>\n",
       "      <td>6</td>\n",
       "      <td>12</td>\n",
       "      <td>7</td>\n",
       "      <td>2019-07-07</td>\n",
       "      <td>22:09:30</td>\n",
       "      <td>True</td>\n",
       "      <td>True</td>\n",
       "    </tr>\n",
       "  </tbody>\n",
       "</table>\n",
       "</div>"
      ],
      "text/plain": [
       "            Timestamp HenID      Zone  PenID  log_file_name  Signal  ts_order  \\\n",
       "0 2019-07-07 22:09:28    4B     Rampe      4              6      12         0   \n",
       "2 2019-07-07 22:09:29    4B  Einstreu      4              6      12         2   \n",
       "4 2019-07-07 22:09:29    4B     Rampe      4              6      12         4   \n",
       "7 2019-07-07 22:09:30    4B  Einstreu      4              6      12         7   \n",
       "\n",
       "        date      time  test_correct_HenID  test_correct_PenID  \n",
       "0 2019-07-07  22:09:28                True                True  \n",
       "2 2019-07-07  22:09:29                True                True  \n",
       "4 2019-07-07  22:09:29                True                True  \n",
       "7 2019-07-07  22:09:30                True                True  "
      ]
     },
     "execution_count": 6,
     "metadata": {},
     "output_type": "execute_result"
    }
   ],
   "source": [
    "#very small verification\n",
    "#df[df['Timestamp']!=df['Timestamp_initial']].head(3)\n",
    "df[(df['HenID']=='4B')&(df['date']==dt.datetime(2019,7,7))].head(4) #22:09:29: rampe!!"
   ]
  },
  {
   "cell_type": "code",
   "execution_count": 7,
   "metadata": {
    "scrolled": true
   },
   "outputs": [
    {
     "name": "stdout",
     "output_type": "stream",
     "text": [
      "in this time series there is 100 hens\n",
      "The initial starting date in over all is: 2019-07-07 22:09:28, and the ending date will be: 2019-08-23 10:35:52\n",
      "But note that birds may have different ending and starting date which should be taken into account when computing variables\n",
      "and after ending the last day at midnight : 2019-07-07 22:09:28, and the ending date will be: 2019-08-23 23:59:59\n",
      "-------------- Lets save\n",
      "(4067432, 102)\n",
      "-------------- Lets compute individuals seconds time series\n"
     ]
    },
    {
     "name": "stderr",
     "output_type": "stream",
     "text": [
      "100%|████████████████████████████████████████████████████████████████████████████████| 100/100 [06:42<00:00,  4.02s/it]\n"
     ]
    },
    {
     "name": "stdout",
     "output_type": "stream",
     "text": [
      "Total running time: 11.72 mn\n",
      "(4067432, 103)\n"
     ]
    },
    {
     "data": {
      "text/html": [
       "<div>\n",
       "<style scoped>\n",
       "    .dataframe tbody tr th:only-of-type {\n",
       "        vertical-align: middle;\n",
       "    }\n",
       "\n",
       "    .dataframe tbody tr th {\n",
       "        vertical-align: top;\n",
       "    }\n",
       "\n",
       "    .dataframe thead th {\n",
       "        text-align: right;\n",
       "    }\n",
       "</style>\n",
       "<table border=\"1\" class=\"dataframe\">\n",
       "  <thead>\n",
       "    <tr style=\"text-align: right;\">\n",
       "      <th>HenID</th>\n",
       "      <th>Timestamp</th>\n",
       "      <th>hen_10A</th>\n",
       "      <th>hen_10B</th>\n",
       "      <th>hen_10C</th>\n",
       "      <th>hen_10F</th>\n",
       "      <th>hen_10H</th>\n",
       "      <th>hen_10L</th>\n",
       "      <th>hen_10M</th>\n",
       "      <th>hen_10S</th>\n",
       "      <th>hen_10V</th>\n",
       "      <th>...</th>\n",
       "      <th>hen_9C</th>\n",
       "      <th>hen_9F</th>\n",
       "      <th>hen_9H</th>\n",
       "      <th>hen_9L</th>\n",
       "      <th>hen_9M</th>\n",
       "      <th>hen_9S</th>\n",
       "      <th>hen_9V</th>\n",
       "      <th>hen_9X</th>\n",
       "      <th>date</th>\n",
       "      <th>Timestamp_value</th>\n",
       "    </tr>\n",
       "  </thead>\n",
       "  <tbody>\n",
       "    <tr>\n",
       "      <th>0</th>\n",
       "      <td>2019-07-07 22:09:28</td>\n",
       "      <td>NaN</td>\n",
       "      <td>NaN</td>\n",
       "      <td>NaN</td>\n",
       "      <td>NaN</td>\n",
       "      <td>NaN</td>\n",
       "      <td>NaN</td>\n",
       "      <td>NaN</td>\n",
       "      <td>NaN</td>\n",
       "      <td>NaN</td>\n",
       "      <td>...</td>\n",
       "      <td>NaN</td>\n",
       "      <td>NaN</td>\n",
       "      <td>NaN</td>\n",
       "      <td>NaN</td>\n",
       "      <td>NaN</td>\n",
       "      <td>NaN</td>\n",
       "      <td>NaN</td>\n",
       "      <td>NaN</td>\n",
       "      <td>2019-07-07</td>\n",
       "      <td>0 days 22:09:28</td>\n",
       "    </tr>\n",
       "    <tr>\n",
       "      <th>1</th>\n",
       "      <td>2019-07-07 22:09:29</td>\n",
       "      <td>NaN</td>\n",
       "      <td>NaN</td>\n",
       "      <td>NaN</td>\n",
       "      <td>NaN</td>\n",
       "      <td>NaN</td>\n",
       "      <td>NaN</td>\n",
       "      <td>NaN</td>\n",
       "      <td>NaN</td>\n",
       "      <td>NaN</td>\n",
       "      <td>...</td>\n",
       "      <td>NaN</td>\n",
       "      <td>NaN</td>\n",
       "      <td>NaN</td>\n",
       "      <td>NaN</td>\n",
       "      <td>NaN</td>\n",
       "      <td>NaN</td>\n",
       "      <td>NaN</td>\n",
       "      <td>NaN</td>\n",
       "      <td>2019-07-07</td>\n",
       "      <td>0 days 22:09:29</td>\n",
       "    </tr>\n",
       "    <tr>\n",
       "      <th>2</th>\n",
       "      <td>2019-07-07 22:09:30</td>\n",
       "      <td>NaN</td>\n",
       "      <td>NaN</td>\n",
       "      <td>NaN</td>\n",
       "      <td>NaN</td>\n",
       "      <td>NaN</td>\n",
       "      <td>NaN</td>\n",
       "      <td>NaN</td>\n",
       "      <td>NaN</td>\n",
       "      <td>NaN</td>\n",
       "      <td>...</td>\n",
       "      <td>NaN</td>\n",
       "      <td>NaN</td>\n",
       "      <td>NaN</td>\n",
       "      <td>NaN</td>\n",
       "      <td>NaN</td>\n",
       "      <td>NaN</td>\n",
       "      <td>NaN</td>\n",
       "      <td>NaN</td>\n",
       "      <td>2019-07-07</td>\n",
       "      <td>0 days 22:09:30</td>\n",
       "    </tr>\n",
       "  </tbody>\n",
       "</table>\n",
       "<p>3 rows × 103 columns</p>\n",
       "</div>"
      ],
      "text/plain": [
       "HenID           Timestamp hen_10A hen_10B hen_10C hen_10F hen_10H hen_10L  \\\n",
       "0     2019-07-07 22:09:28     NaN     NaN     NaN     NaN     NaN     NaN   \n",
       "1     2019-07-07 22:09:29     NaN     NaN     NaN     NaN     NaN     NaN   \n",
       "2     2019-07-07 22:09:30     NaN     NaN     NaN     NaN     NaN     NaN   \n",
       "\n",
       "HenID hen_10M hen_10S hen_10V  ... hen_9C hen_9F hen_9H hen_9L hen_9M hen_9S  \\\n",
       "0         NaN     NaN     NaN  ...    NaN    NaN    NaN    NaN    NaN    NaN   \n",
       "1         NaN     NaN     NaN  ...    NaN    NaN    NaN    NaN    NaN    NaN   \n",
       "2         NaN     NaN     NaN  ...    NaN    NaN    NaN    NaN    NaN    NaN   \n",
       "\n",
       "HenID hen_9V hen_9X       date Timestamp_value  \n",
       "0        NaN    NaN 2019-07-07 0 days 22:09:28  \n",
       "1        NaN    NaN 2019-07-07 0 days 22:09:29  \n",
       "2        NaN    NaN 2019-07-07 0 days 22:09:30  \n",
       "\n",
       "[3 rows x 103 columns]"
      ]
     },
     "execution_count": 7,
     "metadata": {},
     "output_type": "execute_result"
    }
   ],
   "source": [
    "df_ts = time_series_henColumn_tsRow(df, config, col_ts='Zone', hen_time_series=True)\n",
    "print(df_ts.shape)\n",
    "df_ts.head(3)"
   ]
  },
  {
   "cell_type": "markdown",
   "metadata": {},
   "source": [
    "## Bining"
   ]
  },
  {
   "cell_type": "code",
   "execution_count": 8,
   "metadata": {
    "scrolled": true
   },
   "outputs": [
    {
     "name": "stderr",
     "output_type": "stream",
     "text": [
      "C:\\Users\\camil\\Anaconda3\\lib\\site-packages\\IPython\\core\\interactiveshell.py:3072: DtypeWarning: Columns (1,2,3,4,5,6,7,8,9,10,12,13,14,15,17,18,19,20,21,22,23,24,25,27,28,29,30,31,32,33,34,35,36,37,38,39,40,41,43,44,48,49,50,51,52,53,54,55,56,57,58,59,60,61,63,66,67,68,69,70,71,72,73,74,75,76,77,79,80,82,83,84,85,86,87,88,89,91,92,93,94,95,96,97,98,99,100) have mixed types.Specify dtype option on import or set low_memory=False.\n",
      "  interactivity=interactivity, compiler=compiler, result=result)\n"
     ]
    },
    {
     "name": "stdout",
     "output_type": "stream",
     "text": [
      "2019-07-07 22:09:28 2019-08-23 23:59:59\n",
      "(4067432, 102)\n"
     ]
    },
    {
     "data": {
      "text/html": [
       "<div>\n",
       "<style scoped>\n",
       "    .dataframe tbody tr th:only-of-type {\n",
       "        vertical-align: middle;\n",
       "    }\n",
       "\n",
       "    .dataframe tbody tr th {\n",
       "        vertical-align: top;\n",
       "    }\n",
       "\n",
       "    .dataframe thead th {\n",
       "        text-align: right;\n",
       "    }\n",
       "</style>\n",
       "<table border=\"1\" class=\"dataframe\">\n",
       "  <thead>\n",
       "    <tr style=\"text-align: right;\">\n",
       "      <th></th>\n",
       "      <th>Timestamp</th>\n",
       "      <th>hen_10A</th>\n",
       "      <th>hen_10B</th>\n",
       "      <th>hen_10C</th>\n",
       "      <th>hen_10F</th>\n",
       "      <th>hen_10H</th>\n",
       "      <th>hen_10L</th>\n",
       "      <th>hen_10M</th>\n",
       "      <th>hen_10S</th>\n",
       "      <th>hen_10V</th>\n",
       "      <th>...</th>\n",
       "      <th>hen_9B</th>\n",
       "      <th>hen_9C</th>\n",
       "      <th>hen_9F</th>\n",
       "      <th>hen_9H</th>\n",
       "      <th>hen_9L</th>\n",
       "      <th>hen_9M</th>\n",
       "      <th>hen_9S</th>\n",
       "      <th>hen_9V</th>\n",
       "      <th>hen_9X</th>\n",
       "      <th>date</th>\n",
       "    </tr>\n",
       "  </thead>\n",
       "  <tbody>\n",
       "    <tr>\n",
       "      <th>0</th>\n",
       "      <td>2019-07-07 22:09:28</td>\n",
       "      <td>NaN</td>\n",
       "      <td>NaN</td>\n",
       "      <td>NaN</td>\n",
       "      <td>NaN</td>\n",
       "      <td>NaN</td>\n",
       "      <td>NaN</td>\n",
       "      <td>NaN</td>\n",
       "      <td>NaN</td>\n",
       "      <td>NaN</td>\n",
       "      <td>...</td>\n",
       "      <td>NaN</td>\n",
       "      <td>NaN</td>\n",
       "      <td>NaN</td>\n",
       "      <td>NaN</td>\n",
       "      <td>NaN</td>\n",
       "      <td>NaN</td>\n",
       "      <td>NaN</td>\n",
       "      <td>NaN</td>\n",
       "      <td>NaN</td>\n",
       "      <td>2019-07-07</td>\n",
       "    </tr>\n",
       "    <tr>\n",
       "      <th>1</th>\n",
       "      <td>2019-07-07 22:09:29</td>\n",
       "      <td>NaN</td>\n",
       "      <td>NaN</td>\n",
       "      <td>NaN</td>\n",
       "      <td>NaN</td>\n",
       "      <td>NaN</td>\n",
       "      <td>NaN</td>\n",
       "      <td>NaN</td>\n",
       "      <td>NaN</td>\n",
       "      <td>NaN</td>\n",
       "      <td>...</td>\n",
       "      <td>NaN</td>\n",
       "      <td>NaN</td>\n",
       "      <td>NaN</td>\n",
       "      <td>NaN</td>\n",
       "      <td>NaN</td>\n",
       "      <td>NaN</td>\n",
       "      <td>NaN</td>\n",
       "      <td>NaN</td>\n",
       "      <td>NaN</td>\n",
       "      <td>2019-07-07</td>\n",
       "    </tr>\n",
       "    <tr>\n",
       "      <th>2</th>\n",
       "      <td>2019-07-07 22:09:30</td>\n",
       "      <td>NaN</td>\n",
       "      <td>NaN</td>\n",
       "      <td>NaN</td>\n",
       "      <td>NaN</td>\n",
       "      <td>NaN</td>\n",
       "      <td>NaN</td>\n",
       "      <td>NaN</td>\n",
       "      <td>NaN</td>\n",
       "      <td>NaN</td>\n",
       "      <td>...</td>\n",
       "      <td>NaN</td>\n",
       "      <td>NaN</td>\n",
       "      <td>NaN</td>\n",
       "      <td>NaN</td>\n",
       "      <td>NaN</td>\n",
       "      <td>NaN</td>\n",
       "      <td>NaN</td>\n",
       "      <td>NaN</td>\n",
       "      <td>NaN</td>\n",
       "      <td>2019-07-07</td>\n",
       "    </tr>\n",
       "  </tbody>\n",
       "</table>\n",
       "<p>3 rows × 102 columns</p>\n",
       "</div>"
      ],
      "text/plain": [
       "            Timestamp hen_10A hen_10B hen_10C hen_10F hen_10H hen_10L hen_10M  \\\n",
       "0 2019-07-07 22:09:28     NaN     NaN     NaN     NaN     NaN     NaN     NaN   \n",
       "1 2019-07-07 22:09:29     NaN     NaN     NaN     NaN     NaN     NaN     NaN   \n",
       "2 2019-07-07 22:09:30     NaN     NaN     NaN     NaN     NaN     NaN     NaN   \n",
       "\n",
       "  hen_10S hen_10V  ... hen_9B hen_9C hen_9F hen_9H hen_9L hen_9M hen_9S  \\\n",
       "0     NaN     NaN  ...    NaN    NaN    NaN    NaN    NaN    NaN    NaN   \n",
       "1     NaN     NaN  ...    NaN    NaN    NaN    NaN    NaN    NaN    NaN   \n",
       "2     NaN     NaN  ...    NaN    NaN    NaN    NaN    NaN    NaN    NaN   \n",
       "\n",
       "  hen_9V hen_9X       date  \n",
       "0    NaN    NaN 2019-07-07  \n",
       "1    NaN    NaN 2019-07-07  \n",
       "2    NaN    NaN 2019-07-07  \n",
       "\n",
       "[3 rows x 102 columns]"
      ]
     },
     "execution_count": 8,
     "metadata": {},
     "output_type": "execute_result"
    }
   ],
   "source": [
    "#for being more reproductible, we open the file that was saved from cleaning\n",
    "df_ts = pd.read_csv(os.path.join(path_extracted_data, id_run+'_TimeSeries.csv'), sep=';', parse_dates=['Timestamp', 'date'])\n",
    "mi = min(df_ts['Timestamp'].tolist())\n",
    "ma = max(df_ts['Timestamp'].tolist())\n",
    "print(mi,ma)\n",
    "print(df_ts.shape)\n",
    "df_ts.head(3)"
   ]
  },
  {
   "cell_type": "markdown",
   "metadata": {
    "scrolled": true
   },
   "source": [
    "#list of period parameters (should be integer once multiplied by 60, e.g. 0.5*60=30 which is integer so its ok)\n",
    "li_bining_period = [0.5,1,2,3,4,5,10,15]\n",
    "for minute in li_bining_period:\n",
    "    print('Lets compute with time interval ', minute)\n",
    "    simple_cleaning_experiment2(df_ts, config, \n",
    "                                nbr_sec_mean=int(minute*60),\n",
    "                                mi=mi, #dt.datetime(2019,11,29,0,0,0),\n",
    "                                ma=ma)\n",
    "#14.7. and the 18.8. "
   ]
  },
  {
   "cell_type": "code",
   "execution_count": 9,
   "metadata": {},
   "outputs": [],
   "source": [
    "#14.7. and the 18.8."
   ]
  },
  {
   "cell_type": "code",
   "execution_count": 10,
   "metadata": {},
   "outputs": [
    {
     "name": "stdout",
     "output_type": "stream",
     "text": [
      "Lets compute with time interval  5\n",
      "The starting date of the datetime list is: 2019-08-18 00:00:00, and the ending date is: 2019-08-19 00:00:00\n",
      "The starting date of the selected datetime list is: 2019-08-18 00:00:00, and the ending date is: 2019-08-19 00:00:00\n",
      "Total running time: 8.38 mn\n",
      "Lets compute with time interval  10\n",
      "The starting date of the datetime list is: 2019-08-18 00:00:00, and the ending date is: 2019-08-19 00:00:00\n",
      "The starting date of the selected datetime list is: 2019-08-18 00:00:00, and the ending date is: 2019-08-19 00:00:00\n",
      "Total running time: 4.69 mn\n",
      "Lets compute with time interval  15\n",
      "The starting date of the datetime list is: 2019-08-18 00:00:00, and the ending date is: 2019-08-19 00:00:00\n",
      "The starting date of the selected datetime list is: 2019-08-18 00:00:00, and the ending date is: 2019-08-19 00:00:00\n",
      "Total running time: 3.24 mn\n",
      "Lets compute with time interval  20\n",
      "The starting date of the datetime list is: 2019-08-18 00:00:00, and the ending date is: 2019-08-19 00:00:00\n",
      "The starting date of the selected datetime list is: 2019-08-18 00:00:00, and the ending date is: 2019-08-19 00:00:00\n",
      "Total running time: 2.74 mn\n",
      "Lets compute with time interval  30\n",
      "The starting date of the datetime list is: 2019-08-18 00:00:00, and the ending date is: 2019-08-19 00:00:00\n",
      "The starting date of the selected datetime list is: 2019-08-18 00:00:00, and the ending date is: 2019-08-19 00:00:00\n",
      "Total running time: 2.11 mn\n",
      "Lets compute with time interval  40\n",
      "The starting date of the datetime list is: 2019-08-18 00:00:00, and the ending date is: 2019-08-19 00:00:00\n",
      "The starting date of the selected datetime list is: 2019-08-18 00:00:00, and the ending date is: 2019-08-19 00:00:00\n",
      "Total running time: 1.76 mn\n",
      "Lets compute with time interval  50\n",
      "The starting date of the datetime list is: 2019-08-18 00:00:00, and the ending date is: 2019-08-19 00:00:00\n",
      "The starting date of the selected datetime list is: 2019-08-18 00:00:00, and the ending date is: 2019-08-19 00:00:00\n",
      "Total running time: 1.55 mn\n",
      "Lets compute with time interval  60\n",
      "The starting date of the datetime list is: 2019-08-18 00:00:00, and the ending date is: 2019-08-19 00:00:00\n",
      "The starting date of the selected datetime list is: 2019-08-18 00:00:00, and the ending date is: 2019-08-19 00:00:00\n",
      "Total running time: 1.45 mn\n",
      "Lets compute with time interval  120\n",
      "The starting date of the datetime list is: 2019-08-18 00:00:00, and the ending date is: 2019-08-19 00:00:00\n",
      "The starting date of the selected datetime list is: 2019-08-18 00:00:00, and the ending date is: 2019-08-19 00:00:00\n",
      "Total running time: 1.13 mn\n",
      "Lets compute with time interval  180\n",
      "The starting date of the datetime list is: 2019-08-18 00:00:00, and the ending date is: 2019-08-19 00:00:00\n",
      "The starting date of the selected datetime list is: 2019-08-18 00:00:00, and the ending date is: 2019-08-19 00:00:00\n",
      "Total running time: 1.04 mn\n",
      "Lets compute with time interval  240\n",
      "The starting date of the datetime list is: 2019-08-18 00:00:00, and the ending date is: 2019-08-19 00:00:00\n",
      "The starting date of the selected datetime list is: 2019-08-18 00:00:00, and the ending date is: 2019-08-19 00:00:00\n",
      "Total running time: 1.00 mn\n",
      "Lets compute with time interval  300\n",
      "The starting date of the datetime list is: 2019-08-18 00:00:00, and the ending date is: 2019-08-19 00:00:00\n",
      "The starting date of the selected datetime list is: 2019-08-18 00:00:00, and the ending date is: 2019-08-19 00:00:00\n",
      "Total running time: 0.96 mn\n",
      "Lets compute with time interval  600\n",
      "The starting date of the datetime list is: 2019-08-18 00:00:00, and the ending date is: 2019-08-19 00:00:00\n",
      "The starting date of the selected datetime list is: 2019-08-18 00:00:00, and the ending date is: 2019-08-19 00:00:00\n",
      "Total running time: 0.89 mn\n",
      "Lets compute with time interval  900\n",
      "The starting date of the datetime list is: 2019-08-18 00:00:00, and the ending date is: 2019-08-19 00:00:00\n",
      "The starting date of the selected datetime list is: 2019-08-18 00:00:00, and the ending date is: 2019-08-19 00:00:00\n",
      "Total running time: 0.92 mn\n",
      "Lets compute with time interval  1200\n",
      "The starting date of the datetime list is: 2019-08-18 00:00:00, and the ending date is: 2019-08-19 00:00:00\n",
      "The starting date of the selected datetime list is: 2019-08-18 00:00:00, and the ending date is: 2019-08-19 00:00:00\n",
      "Total running time: 0.87 mn\n",
      "Lets compute with time interval  1800\n",
      "The starting date of the datetime list is: 2019-08-18 00:00:00, and the ending date is: 2019-08-19 00:00:00\n",
      "The starting date of the selected datetime list is: 2019-08-18 00:00:00, and the ending date is: 2019-08-19 00:00:00\n",
      "Total running time: 0.88 mn\n",
      "Lets compute with time interval  2700\n",
      "The starting date of the datetime list is: 2019-08-18 00:00:00, and the ending date is: 2019-08-19 00:00:00\n",
      "The starting date of the selected datetime list is: 2019-08-18 00:00:00, and the ending date is: 2019-08-19 00:00:00\n",
      "Total running time: 0.84 mn\n",
      "Lets compute with time interval  3600\n",
      "The starting date of the datetime list is: 2019-08-18 00:00:00, and the ending date is: 2019-08-19 00:00:00\n",
      "The starting date of the selected datetime list is: 2019-08-18 00:00:00, and the ending date is: 2019-08-19 00:00:00\n",
      "Total running time: 0.87 mn\n",
      "Total running time: 35.32 mn\n"
     ]
    }
   ],
   "source": [
    "#list of period parameters (should be integer once multiplied by 60, e.g. 0.5*60=30 which is integer so its ok)\n",
    "#start recording the time it last\n",
    "START_TIME = time.clock()  \n",
    "li_bining_period_sec = [5,10,15,20,30,40,50, 60,2*60,3*60,4*60,5*60,10*60,15*60,20*60,30*60,45*60,60*60]\n",
    "#li_bining_period_sec = [5,10,15,30,60,3*60,5*60]\n",
    "for seconds in li_bining_period_sec:\n",
    "    print('Lets compute with time interval ', seconds)\n",
    "    bining_broilers(df_ts, config, nbr_sec_mean=int(seconds),\n",
    "                    mi=dt.datetime(2019,8,18,0,0,0),\n",
    "                    ma=dt.datetime(2019,8,18,23,59,59),\n",
    "                    bining_1sec_ts=True)\n",
    "END_TIME = time.clock()\n",
    "print (\"Total running time: %.2f mn\" %((END_TIME-START_TIME)/60))  "
   ]
  },
  {
   "cell_type": "code",
   "execution_count": 11,
   "metadata": {},
   "outputs": [
    {
     "name": "stdout",
     "output_type": "stream",
     "text": [
      "Lets compute with time interval  5\n",
      "The starting date of the datetime list is: 2019-07-14 00:00:00, and the ending date is: 2019-07-15 00:00:00\n",
      "The starting date of the selected datetime list is: 2019-07-14 00:00:00, and the ending date is: 2019-07-15 00:00:00\n",
      "Total running time: 7.69 mn\n",
      "Lets compute with time interval  10\n",
      "The starting date of the datetime list is: 2019-07-14 00:00:00, and the ending date is: 2019-07-15 00:00:00\n",
      "The starting date of the selected datetime list is: 2019-07-14 00:00:00, and the ending date is: 2019-07-15 00:00:00\n",
      "Total running time: 4.25 mn\n",
      "Lets compute with time interval  15\n",
      "The starting date of the datetime list is: 2019-07-14 00:00:00, and the ending date is: 2019-07-15 00:00:00\n",
      "The starting date of the selected datetime list is: 2019-07-14 00:00:00, and the ending date is: 2019-07-15 00:00:00\n",
      "Total running time: 3.24 mn\n",
      "Lets compute with time interval  20\n",
      "The starting date of the datetime list is: 2019-07-14 00:00:00, and the ending date is: 2019-07-15 00:00:00\n",
      "The starting date of the selected datetime list is: 2019-07-14 00:00:00, and the ending date is: 2019-07-15 00:00:00\n",
      "Total running time: 2.59 mn\n",
      "Lets compute with time interval  30\n",
      "The starting date of the datetime list is: 2019-07-14 00:00:00, and the ending date is: 2019-07-15 00:00:00\n",
      "The starting date of the selected datetime list is: 2019-07-14 00:00:00, and the ending date is: 2019-07-15 00:00:00\n",
      "Total running time: 2.01 mn\n",
      "Lets compute with time interval  40\n",
      "The starting date of the datetime list is: 2019-07-14 00:00:00, and the ending date is: 2019-07-15 00:00:00\n",
      "The starting date of the selected datetime list is: 2019-07-14 00:00:00, and the ending date is: 2019-07-15 00:00:00\n",
      "Total running time: 1.70 mn\n",
      "Lets compute with time interval  50\n",
      "The starting date of the datetime list is: 2019-07-14 00:00:00, and the ending date is: 2019-07-15 00:00:00\n",
      "The starting date of the selected datetime list is: 2019-07-14 00:00:00, and the ending date is: 2019-07-15 00:00:00\n",
      "Total running time: 1.59 mn\n",
      "Lets compute with time interval  60\n",
      "The starting date of the datetime list is: 2019-07-14 00:00:00, and the ending date is: 2019-07-15 00:00:00\n",
      "The starting date of the selected datetime list is: 2019-07-14 00:00:00, and the ending date is: 2019-07-15 00:00:00\n",
      "Total running time: 1.48 mn\n",
      "Lets compute with time interval  120\n",
      "The starting date of the datetime list is: 2019-07-14 00:00:00, and the ending date is: 2019-07-15 00:00:00\n",
      "The starting date of the selected datetime list is: 2019-07-14 00:00:00, and the ending date is: 2019-07-15 00:00:00\n",
      "Total running time: 1.14 mn\n",
      "Lets compute with time interval  180\n",
      "The starting date of the datetime list is: 2019-07-14 00:00:00, and the ending date is: 2019-07-15 00:00:00\n",
      "The starting date of the selected datetime list is: 2019-07-14 00:00:00, and the ending date is: 2019-07-15 00:00:00\n",
      "Total running time: 1.02 mn\n",
      "Lets compute with time interval  240\n",
      "The starting date of the datetime list is: 2019-07-14 00:00:00, and the ending date is: 2019-07-15 00:00:00\n",
      "The starting date of the selected datetime list is: 2019-07-14 00:00:00, and the ending date is: 2019-07-15 00:00:00\n",
      "Total running time: 0.96 mn\n",
      "Lets compute with time interval  300\n",
      "The starting date of the datetime list is: 2019-07-14 00:00:00, and the ending date is: 2019-07-15 00:00:00\n",
      "The starting date of the selected datetime list is: 2019-07-14 00:00:00, and the ending date is: 2019-07-15 00:00:00\n",
      "Total running time: 0.96 mn\n",
      "Lets compute with time interval  600\n",
      "The starting date of the datetime list is: 2019-07-14 00:00:00, and the ending date is: 2019-07-15 00:00:00\n",
      "The starting date of the selected datetime list is: 2019-07-14 00:00:00, and the ending date is: 2019-07-15 00:00:00\n",
      "Total running time: 0.88 mn\n",
      "Lets compute with time interval  900\n",
      "The starting date of the datetime list is: 2019-07-14 00:00:00, and the ending date is: 2019-07-15 00:00:00\n",
      "The starting date of the selected datetime list is: 2019-07-14 00:00:00, and the ending date is: 2019-07-15 00:00:00\n",
      "Total running time: 0.90 mn\n",
      "Lets compute with time interval  1200\n",
      "The starting date of the datetime list is: 2019-07-14 00:00:00, and the ending date is: 2019-07-15 00:00:00\n",
      "The starting date of the selected datetime list is: 2019-07-14 00:00:00, and the ending date is: 2019-07-15 00:00:00\n",
      "Total running time: 0.89 mn\n",
      "Lets compute with time interval  1800\n",
      "The starting date of the datetime list is: 2019-07-14 00:00:00, and the ending date is: 2019-07-15 00:00:00\n",
      "The starting date of the selected datetime list is: 2019-07-14 00:00:00, and the ending date is: 2019-07-15 00:00:00\n",
      "Total running time: 0.90 mn\n",
      "Lets compute with time interval  2700\n",
      "The starting date of the datetime list is: 2019-07-14 00:00:00, and the ending date is: 2019-07-15 00:00:00\n",
      "The starting date of the selected datetime list is: 2019-07-14 00:00:00, and the ending date is: 2019-07-15 00:00:00\n",
      "Total running time: 0.86 mn\n",
      "Lets compute with time interval  3600\n",
      "The starting date of the datetime list is: 2019-07-14 00:00:00, and the ending date is: 2019-07-15 00:00:00\n",
      "The starting date of the selected datetime list is: 2019-07-14 00:00:00, and the ending date is: 2019-07-15 00:00:00\n",
      "Total running time: 0.84 mn\n",
      "Total running time: 33.92 mn\n"
     ]
    }
   ],
   "source": [
    "#list of period parameters (should be integer once multiplied by 60, e.g. 0.5*60=30 which is integer so its ok)\n",
    "#start recording the time it last\n",
    "START_TIME = time.clock()  \n",
    "li_bining_period_sec = [5,10,15,20,30,40,50,60,2*60,3*60,4*60,5*60,10*60,15*60,20*60,30*60,45*60,60*60]\n",
    "for seconds in li_bining_period_sec:\n",
    "    print('Lets compute with time interval ', seconds)\n",
    "    bining_broilers(df_ts, config, nbr_sec_mean=int(seconds),\n",
    "                    mi=dt.datetime(2019,7,14,0,0,0),\n",
    "                    ma=dt.datetime(2019,7,14,23,59,59),\n",
    "                    bining_1sec_ts=True)\n",
    "END_TIME = time.clock()\n",
    "print (\"Total running time: %.2f mn\" %((END_TIME-START_TIME)/60))  "
   ]
  },
  {
   "cell_type": "markdown",
   "metadata": {},
   "source": [
    "print(df_final['nbr_zones'].value_counts())\n",
    "df_final[df_final['nbr_zones']==2].head(3)\n",
    "df_final[df_final['nbr_mf_zones']>1].head(3)"
   ]
  },
  {
   "cell_type": "markdown",
   "metadata": {},
   "source": [
    "## Plot number of bining Timestamps with equal duration zones"
   ]
  },
  {
   "cell_type": "code",
   "execution_count": 12,
   "metadata": {},
   "outputs": [],
   "source": [
    "#we aim to plot the percentage of bining period that had more than one zone beeing equal to another one\n",
    "#For this we need to open each of the bining time series and concatenating them (not merging), then we can simply use the \n",
    "#\"nbr_mf_zones\" columns"
   ]
  },
  {
   "cell_type": "code",
   "execution_count": 13,
   "metadata": {},
   "outputs": [
    {
     "name": "stderr",
     "output_type": "stream",
     "text": [
      "\r",
      "  0%|                                                                                         | 0/3600 [00:00<?, ?it/s]"
     ]
    },
    {
     "name": "stdout",
     "output_type": "stream",
     "text": [
      "3600\n"
     ]
    },
    {
     "name": "stderr",
     "output_type": "stream",
     "text": [
      "100%|██████████████████████████████████████████████████████████████████████████████| 3600/3600 [02:20<00:00, 25.62it/s]\n"
     ]
    },
    {
     "name": "stdout",
     "output_type": "stream",
     "text": [
      "(9298000, 8)\n"
     ]
    },
    {
     "data": {
      "text/html": [
       "<div>\n",
       "<style scoped>\n",
       "    .dataframe tbody tr th:only-of-type {\n",
       "        vertical-align: middle;\n",
       "    }\n",
       "\n",
       "    .dataframe tbody tr th {\n",
       "        vertical-align: top;\n",
       "    }\n",
       "\n",
       "    .dataframe thead th {\n",
       "        text-align: right;\n",
       "    }\n",
       "</style>\n",
       "<table border=\"1\" class=\"dataframe\">\n",
       "  <thead>\n",
       "    <tr style=\"text-align: right;\">\n",
       "      <th></th>\n",
       "      <th>HenID</th>\n",
       "      <th>New_Timestamp</th>\n",
       "      <th>most_frequent_zone</th>\n",
       "      <th>nbr_mf_zones</th>\n",
       "      <th>perc_lost_duration</th>\n",
       "      <th>bining_period</th>\n",
       "      <th>date</th>\n",
       "      <th>lost_duration_per_zone</th>\n",
       "    </tr>\n",
       "  </thead>\n",
       "  <tbody>\n",
       "    <tr>\n",
       "      <th>0</th>\n",
       "      <td>hen_10A</td>\n",
       "      <td>2019-07-14 00:00:00</td>\n",
       "      <td>Einstreu</td>\n",
       "      <td>1</td>\n",
       "      <td>0.0</td>\n",
       "      <td>10</td>\n",
       "      <td>2019-07-14</td>\n",
       "      <td>{}</td>\n",
       "    </tr>\n",
       "    <tr>\n",
       "      <th>1</th>\n",
       "      <td>hen_10A</td>\n",
       "      <td>2019-07-14 00:00:10</td>\n",
       "      <td>Einstreu</td>\n",
       "      <td>1</td>\n",
       "      <td>0.0</td>\n",
       "      <td>10</td>\n",
       "      <td>2019-07-14</td>\n",
       "      <td>{}</td>\n",
       "    </tr>\n",
       "    <tr>\n",
       "      <th>2</th>\n",
       "      <td>hen_10A</td>\n",
       "      <td>2019-07-14 00:00:20</td>\n",
       "      <td>Einstreu</td>\n",
       "      <td>1</td>\n",
       "      <td>0.0</td>\n",
       "      <td>10</td>\n",
       "      <td>2019-07-14</td>\n",
       "      <td>{}</td>\n",
       "    </tr>\n",
       "  </tbody>\n",
       "</table>\n",
       "</div>"
      ],
      "text/plain": [
       "     HenID       New_Timestamp most_frequent_zone  nbr_mf_zones  \\\n",
       "0  hen_10A 2019-07-14 00:00:00           Einstreu             1   \n",
       "1  hen_10A 2019-07-14 00:00:10           Einstreu             1   \n",
       "2  hen_10A 2019-07-14 00:00:20           Einstreu             1   \n",
       "\n",
       "   perc_lost_duration  bining_period       date lost_duration_per_zone  \n",
       "0                 0.0             10 2019-07-14                     {}  \n",
       "1                 0.0             10 2019-07-14                     {}  \n",
       "2                 0.0             10 2019-07-14                     {}  "
      ]
     },
     "metadata": {},
     "output_type": "display_data"
    },
    {
     "data": {
      "text/html": [
       "<div>\n",
       "<style scoped>\n",
       "    .dataframe tbody tr th:only-of-type {\n",
       "        vertical-align: middle;\n",
       "    }\n",
       "\n",
       "    .dataframe tbody tr th {\n",
       "        vertical-align: top;\n",
       "    }\n",
       "\n",
       "    .dataframe thead th {\n",
       "        text-align: right;\n",
       "    }\n",
       "</style>\n",
       "<table border=\"1\" class=\"dataframe\">\n",
       "  <thead>\n",
       "    <tr style=\"text-align: right;\">\n",
       "      <th></th>\n",
       "      <th>HenID</th>\n",
       "      <th>New_Timestamp</th>\n",
       "      <th>most_frequent_zone</th>\n",
       "      <th>nbr_mf_zones</th>\n",
       "      <th>perc_lost_duration</th>\n",
       "      <th>bining_period</th>\n",
       "      <th>date</th>\n",
       "      <th>lost_duration_per_zone</th>\n",
       "    </tr>\n",
       "  </thead>\n",
       "  <tbody>\n",
       "    <tr>\n",
       "      <th>94</th>\n",
       "      <td>hen_9X</td>\n",
       "      <td>2019-08-18 23:30:00</td>\n",
       "      <td>Rampe</td>\n",
       "      <td>1</td>\n",
       "      <td>35.0</td>\n",
       "      <td>900</td>\n",
       "      <td>2019-08-18</td>\n",
       "      <td>{'Einstreu': 315.0}</td>\n",
       "    </tr>\n",
       "    <tr>\n",
       "      <th>95</th>\n",
       "      <td>hen_9X</td>\n",
       "      <td>2019-08-18 23:45:00</td>\n",
       "      <td>Rampe</td>\n",
       "      <td>1</td>\n",
       "      <td>0.0</td>\n",
       "      <td>900</td>\n",
       "      <td>2019-08-18</td>\n",
       "      <td>{}</td>\n",
       "    </tr>\n",
       "    <tr>\n",
       "      <th>96</th>\n",
       "      <td>hen_9X</td>\n",
       "      <td>2019-08-19 00:00:00</td>\n",
       "      <td>Rampe</td>\n",
       "      <td>1</td>\n",
       "      <td>24.0</td>\n",
       "      <td>900</td>\n",
       "      <td>2019-08-19</td>\n",
       "      <td>{'Einstreu': 216.0}</td>\n",
       "    </tr>\n",
       "  </tbody>\n",
       "</table>\n",
       "</div>"
      ],
      "text/plain": [
       "     HenID       New_Timestamp most_frequent_zone  nbr_mf_zones  \\\n",
       "94  hen_9X 2019-08-18 23:30:00              Rampe             1   \n",
       "95  hen_9X 2019-08-18 23:45:00              Rampe             1   \n",
       "96  hen_9X 2019-08-19 00:00:00              Rampe             1   \n",
       "\n",
       "    perc_lost_duration  bining_period       date lost_duration_per_zone  \n",
       "94                35.0            900 2019-08-18    {'Einstreu': 315.0}  \n",
       "95                 0.0            900 2019-08-18                     {}  \n",
       "96                24.0            900 2019-08-19    {'Einstreu': 216.0}  "
      ]
     },
     "metadata": {},
     "output_type": "display_data"
    }
   ],
   "source": [
    "#min and max date\n",
    "#df_ts = pd.read_csv(os.path.join(path_extracted_data, id_run+'_TimeSeries.csv'), sep=';', parse_dates=['Timestamp', 'date'])\n",
    "#mi = min(df_ts['Timestamp'].tolist())\n",
    "#ma = max(df_ts['Timestamp'].tolist())\n",
    "\n",
    "#mi=dt.datetime(2019,8,18,0,0,0),\n",
    "#ma=dt.datetime(2019,8,18,23,59,59)\n",
    "#all in one\n",
    "#li_path = glob.glob(os.path.join(path_extracted_data, 'HensBiningTimeSeries', \n",
    "#                                 id_run+'_ts_MostFrequentZone_period*_'+str(mi).split(' ')[0]+\\\n",
    "#                                 '_'+str(ma).split(' ')[0]+'_*.csv'))\n",
    "\n",
    "li_path = glob.glob(os.path.join(path_extracted_data, 'HensBiningTimeSeries', id_run+'_ts_MostFrequentZone_period*_*.csv'))\n",
    "print(len(li_path))\n",
    "\n",
    "li_df = []\n",
    "for path_ in tqdm.tqdm(li_path):\n",
    "    if 'VERIFICATION' not in path_:\n",
    "        h = 'hen_'+path_.split('hen_')[1][:-4]\n",
    "        period = int(path_.split('period')[1].split('_')[0])\n",
    "        #print(path_)\n",
    "        #print('------------------- ',period,'   ',h)\n",
    "        df_ = pd.read_csv(path_, sep=';', parse_dates=['New_Timestamp'])\n",
    "        df_['HenID'] = h\n",
    "        df_['bining_period'] = period\n",
    "        df_['path'] = path_\n",
    "        df_['date'] = df_['New_Timestamp'].map(lambda x: dt.datetime(x.year,x.month,x.day))\n",
    "        df_.drop([h], axis=1, inplace=True)\n",
    "        li_df.append(df_.filter(['HenID', 'New_Timestamp', 'most_frequent_zone', 'nbr_mf_zones','perc_lost_duration',\n",
    "                                'bining_period','date','lost_duration_per_zone'], axis=1))\n",
    "df_bining_all = pd.concat(li_df)\n",
    "print(df_bining_all.shape)\n",
    "display(df_bining_all.head(3))\n",
    "display(df_bining_all.tail(3))"
   ]
  },
  {
   "cell_type": "code",
   "execution_count": 14,
   "metadata": {},
   "outputs": [
    {
     "name": "stdout",
     "output_type": "stream",
     "text": [
      "(18, 4)\n"
     ]
    },
    {
     "data": {
      "text/html": [
       "<div>\n",
       "<style scoped>\n",
       "    .dataframe tbody tr th:only-of-type {\n",
       "        vertical-align: middle;\n",
       "    }\n",
       "\n",
       "    .dataframe tbody tr th {\n",
       "        vertical-align: top;\n",
       "    }\n",
       "\n",
       "    .dataframe thead th {\n",
       "        text-align: right;\n",
       "    }\n",
       "</style>\n",
       "<table border=\"1\" class=\"dataframe\">\n",
       "  <thead>\n",
       "    <tr style=\"text-align: right;\">\n",
       "      <th></th>\n",
       "      <th>bining_period</th>\n",
       "      <th>total_nbr_records</th>\n",
       "      <th>nbr_more_than1</th>\n",
       "      <th>perc_lost_mf_zone</th>\n",
       "    </tr>\n",
       "  </thead>\n",
       "  <tbody>\n",
       "    <tr>\n",
       "      <th>0</th>\n",
       "      <td>5</td>\n",
       "      <td>3456200</td>\n",
       "      <td>210</td>\n",
       "      <td>0.006076</td>\n",
       "    </tr>\n",
       "    <tr>\n",
       "      <th>1</th>\n",
       "      <td>10</td>\n",
       "      <td>1728200</td>\n",
       "      <td>10093</td>\n",
       "      <td>0.584018</td>\n",
       "    </tr>\n",
       "    <tr>\n",
       "      <th>2</th>\n",
       "      <td>15</td>\n",
       "      <td>1152200</td>\n",
       "      <td>119</td>\n",
       "      <td>0.010328</td>\n",
       "    </tr>\n",
       "  </tbody>\n",
       "</table>\n",
       "</div>"
      ],
      "text/plain": [
       "   bining_period  total_nbr_records  nbr_more_than1  perc_lost_mf_zone\n",
       "0              5            3456200             210           0.006076\n",
       "1             10            1728200           10093           0.584018\n",
       "2             15            1152200             119           0.010328"
      ]
     },
     "metadata": {},
     "output_type": "display_data"
    }
   ],
   "source": [
    "df_plt = df_bining_all.groupby(['bining_period']).agg(\n",
    "    total_nbr_records = pd.NamedAgg(column='nbr_mf_zones', aggfunc=lambda x: len(list(x))),\n",
    "    nbr_more_than1 = pd.NamedAgg(column='nbr_mf_zones', aggfunc=lambda x: len([i for i in x if i>1]))).reset_index()\n",
    "df_plt['perc_lost_mf_zone'] = df_plt.apply(lambda x: x['nbr_more_than1']/x['total_nbr_records']*100, axis=1)\n",
    "print(df_plt.shape)\n",
    "display(df_plt.head(3))     "
   ]
  },
  {
   "cell_type": "code",
   "execution_count": 32,
   "metadata": {},
   "outputs": [
    {
     "data": {
      "image/png": "[encoded data removed]",
      "text/plain": [
       "<Figure size 576x216 with 1 Axes>"
      ]
     },
     "metadata": {
      "needs_background": "light"
     },
     "output_type": "display_data"
    }
   ],
   "source": [
    "fig, ax = plt.subplots(figsize=(8,3))\n",
    "plt.plot(df_plt['bining_period'].tolist(), df_plt['perc_lost_mf_zone'].tolist());\n",
    "plt.xlabel('bining period (seconds)')\n",
    "plt.ylabel('% records with at least one lost zone')\n",
    "plt.grid()\n",
    "plt.savefig(os.path.join(path_extracted_data, id_run+'_bining_period_equal_duration_zones.png'), bbox_inches='tight')\n",
    "plt.show()"
   ]
  },
  {
   "cell_type": "code",
   "execution_count": 33,
   "metadata": {},
   "outputs": [
    {
     "data": {
      "image/png": "[encoded data removed]",
      "text/plain": [
       "<Figure size 576x216 with 1 Axes>"
      ]
     },
     "metadata": {
      "needs_background": "light"
     },
     "output_type": "display_data"
    }
   ],
   "source": [
    "fig, ax = plt.subplots(figsize=(8,3))\n",
    "df_plt.sort_values(['bining_period'], inplace=True)\n",
    "plt.plot(df_plt['bining_period'].tolist()[0:8], df_plt['perc_lost_mf_zone'].tolist()[0:8]);\n",
    "plt.xlabel('bining period (seconds)')\n",
    "plt.ylabel('% records with at least one lost zone')\n",
    "plt.grid()\n",
    "plt.savefig(os.path.join(path_extracted_data, id_run+'_bining_period_equal_duration_zones_smaller.png'), bbox_inches='tight')\n",
    "plt.show()"
   ]
  },
  {
   "cell_type": "code",
   "execution_count": null,
   "metadata": {},
   "outputs": [],
   "source": []
  },
  {
   "cell_type": "markdown",
   "metadata": {},
   "source": [
    "# Verify lost info depending on zones when bining (normal?)"
   ]
  },
  {
   "cell_type": "code",
   "execution_count": 40,
   "metadata": {},
   "outputs": [
    {
     "data": {
      "text/html": [
       "<div>\n",
       "<style scoped>\n",
       "    .dataframe tbody tr th:only-of-type {\n",
       "        vertical-align: middle;\n",
       "    }\n",
       "\n",
       "    .dataframe tbody tr th {\n",
       "        vertical-align: top;\n",
       "    }\n",
       "\n",
       "    .dataframe thead th {\n",
       "        text-align: right;\n",
       "    }\n",
       "</style>\n",
       "<table border=\"1\" class=\"dataframe\">\n",
       "  <thead>\n",
       "    <tr style=\"text-align: right;\">\n",
       "      <th></th>\n",
       "      <th>New_Timestamp</th>\n",
       "      <th>hen_10A</th>\n",
       "      <th>nbr_sec</th>\n",
       "      <th>first_timestamp</th>\n",
       "      <th>nbr_zones</th>\n",
       "      <th>dico_zone_dur_timestamp</th>\n",
       "      <th>dico_zone_dur</th>\n",
       "      <th>dico_zone_timestamp</th>\n",
       "      <th>most_frequent_zones</th>\n",
       "      <th>nbr_mf_zones</th>\n",
       "      <th>most_frequent_zone</th>\n",
       "      <th>lost_duration_per_zone</th>\n",
       "      <th>lost_duration</th>\n",
       "      <th>perc_lost_duration</th>\n",
       "      <th>day</th>\n",
       "      <th>HenID</th>\n",
       "    </tr>\n",
       "  </thead>\n",
       "  <tbody>\n",
       "    <tr>\n",
       "      <th>0</th>\n",
       "      <td>2019-07-14 00:00:00</td>\n",
       "      <td>('Einstreu',)</td>\n",
       "      <td>(1.0,)</td>\n",
       "      <td>(Timestamp('2019-07-14 00:00:00'),)</td>\n",
       "      <td>1</td>\n",
       "      <td>{'Einstreu': (1.0, Timestamp('2019-07-14 00:00...</td>\n",
       "      <td>{'Einstreu': 1.0}</td>\n",
       "      <td>{'Einstreu': Timestamp('2019-07-14 00:00:00')}</td>\n",
       "      <td>['Einstreu']</td>\n",
       "      <td>1</td>\n",
       "      <td>Einstreu</td>\n",
       "      <td>{}</td>\n",
       "      <td>0.0</td>\n",
       "      <td>0.0</td>\n",
       "      <td>2019-07-14</td>\n",
       "      <td>hen_10A</td>\n",
       "    </tr>\n",
       "    <tr>\n",
       "      <th>1</th>\n",
       "      <td>2019-07-14 00:00:10</td>\n",
       "      <td>('Einstreu',)</td>\n",
       "      <td>(10.0,)</td>\n",
       "      <td>(Timestamp('2019-07-14 00:00:01'),)</td>\n",
       "      <td>1</td>\n",
       "      <td>{'Einstreu': (10.0, Timestamp('2019-07-14 00:0...</td>\n",
       "      <td>{'Einstreu': 10.0}</td>\n",
       "      <td>{'Einstreu': Timestamp('2019-07-14 00:00:01')}</td>\n",
       "      <td>['Einstreu']</td>\n",
       "      <td>1</td>\n",
       "      <td>Einstreu</td>\n",
       "      <td>{}</td>\n",
       "      <td>0.0</td>\n",
       "      <td>0.0</td>\n",
       "      <td>2019-07-14</td>\n",
       "      <td>hen_10A</td>\n",
       "    </tr>\n",
       "    <tr>\n",
       "      <th>2</th>\n",
       "      <td>2019-07-14 00:00:20</td>\n",
       "      <td>('Einstreu',)</td>\n",
       "      <td>(10.0,)</td>\n",
       "      <td>(Timestamp('2019-07-14 00:00:11'),)</td>\n",
       "      <td>1</td>\n",
       "      <td>{'Einstreu': (10.0, Timestamp('2019-07-14 00:0...</td>\n",
       "      <td>{'Einstreu': 10.0}</td>\n",
       "      <td>{'Einstreu': Timestamp('2019-07-14 00:00:11')}</td>\n",
       "      <td>['Einstreu']</td>\n",
       "      <td>1</td>\n",
       "      <td>Einstreu</td>\n",
       "      <td>{}</td>\n",
       "      <td>0.0</td>\n",
       "      <td>0.0</td>\n",
       "      <td>2019-07-14</td>\n",
       "      <td>hen_10A</td>\n",
       "    </tr>\n",
       "  </tbody>\n",
       "</table>\n",
       "</div>"
      ],
      "text/plain": [
       "        New_Timestamp        hen_10A  nbr_sec  \\\n",
       "0 2019-07-14 00:00:00  ('Einstreu',)   (1.0,)   \n",
       "1 2019-07-14 00:00:10  ('Einstreu',)  (10.0,)   \n",
       "2 2019-07-14 00:00:20  ('Einstreu',)  (10.0,)   \n",
       "\n",
       "                       first_timestamp  nbr_zones  \\\n",
       "0  (Timestamp('2019-07-14 00:00:00'),)          1   \n",
       "1  (Timestamp('2019-07-14 00:00:01'),)          1   \n",
       "2  (Timestamp('2019-07-14 00:00:11'),)          1   \n",
       "\n",
       "                             dico_zone_dur_timestamp       dico_zone_dur  \\\n",
       "0  {'Einstreu': (1.0, Timestamp('2019-07-14 00:00...   {'Einstreu': 1.0}   \n",
       "1  {'Einstreu': (10.0, Timestamp('2019-07-14 00:0...  {'Einstreu': 10.0}   \n",
       "2  {'Einstreu': (10.0, Timestamp('2019-07-14 00:0...  {'Einstreu': 10.0}   \n",
       "\n",
       "                              dico_zone_timestamp most_frequent_zones  \\\n",
       "0  {'Einstreu': Timestamp('2019-07-14 00:00:00')}        ['Einstreu']   \n",
       "1  {'Einstreu': Timestamp('2019-07-14 00:00:01')}        ['Einstreu']   \n",
       "2  {'Einstreu': Timestamp('2019-07-14 00:00:11')}        ['Einstreu']   \n",
       "\n",
       "   nbr_mf_zones most_frequent_zone lost_duration_per_zone  lost_duration  \\\n",
       "0             1           Einstreu                     {}            0.0   \n",
       "1             1           Einstreu                     {}            0.0   \n",
       "2             1           Einstreu                     {}            0.0   \n",
       "\n",
       "   perc_lost_duration         day    HenID  \n",
       "0                 0.0  2019-07-14  hen_10A  \n",
       "1                 0.0  2019-07-14  hen_10A  \n",
       "2                 0.0  2019-07-14  hen_10A  "
      ]
     },
     "execution_count": 40,
     "metadata": {},
     "output_type": "execute_result"
    }
   ],
   "source": [
    "df_.head(3)"
   ]
  },
  {
   "cell_type": "code",
   "execution_count": null,
   "metadata": {},
   "outputs": [],
   "source": [
    "dico_mi_li_df = {}\n",
    "for path_ in li_path:\n",
    "    h = 'hen_'+path_.split('hen_')[1][:-4]\n",
    "    if 'VERIFICATION' not in path_:\n",
    "        period = int(path_.split('period')[1].split('_')[0])\n",
    "        df_ = pd.read_csv(path_, sep=';', parse_dates=['New_Timestamp'])\n",
    "        d1 = path_.split('period')[1].split('_')[2]\n",
    "        d2 = path_.split('period')[1].split('_')[3]\n",
    "        mi=dt.datetime(int(d1[0:4]),int(d1[5:7]),int(d1[8:]),0,0,0)\n",
    "        ma=dt.datetime(int(d2[0:4]),int(d2[5:7]),int(d2[8:]),23,59,59)\n",
    "        n = str(mi)+'   '+str(ma)\n",
    "        df_['HenID'] = h\n",
    "        df_['lost_duration_per_zone'] = df_['lost_duration_per_zone'].map(lambda x: eval(x))\n",
    "        dico_ = dict(functools.reduce(operator.add, map(collections.Counter, df_['lost_duration_per_zone'].tolist()))) \n",
    "        df_['dico_zone_dur'] = df_['dico_zone_dur'].map(lambda x: eval(x))\n",
    "        dico_all = dict(functools.reduce(operator.add, map(collections.Counter, df_['dico_zone_dur'].tolist()))) \n",
    "        if n not in dico_mi_li_df:\n",
    "            dico_mi_li_df[n] = []\n",
    "        for z in dico_all.keys():\n",
    "            dico_mi_li_df[n].append({'period':period, 'HenID':h, \n",
    "                                     'percentage_lost_duration':dico_.get(z,0)/dico_all[z]*100, 'zone': z})"
   ]
  },
  {
   "cell_type": "code",
   "execution_count": 35,
   "metadata": {},
   "outputs": [],
   "source": [
    "#dico_mi_li_df"
   ]
  },
  {
   "cell_type": "code",
   "execution_count": null,
   "metadata": {
    "scrolled": false
   },
   "outputs": [],
   "source": [
    "#plot\n",
    "for n, li_df in dico_mi_li_df.items():\n",
    "    df_plot = pd.DataFrame(li_df)\n",
    "    #plot for each datarange a plot showing the evolution of duration lost per zone and period\n",
    "    fig, ax = plt.subplots(figsize=(12,6))\n",
    "    ax = sns.boxplot(x=\"period\", y=\"percentage_lost_duration\", hue=\"zone\", data=df_plot) #, palette=\"Set3\")\n",
    "    plt.title(n)\n",
    "    plt.savefig(os.path.join(path_extracted_data,'visual','for_verification', \n",
    "                             id_run+'_percentage_lost_duration_during_bining'+n.split(':')[0][:-3]+'_'+n.split(':')[2][5:-3]+'.png'), dpi=300,\n",
    "                             format='png', bbox_inches='tight')\n",
    "    plt.show()\n",
    "\n",
    "#-->zone 1: si flickering pas possible peut-être que nous devrons le garder en plus deu bining, puis choisir un bining \n",
    "#plus petit ou égale à 5mn peut etre :) "
   ]
  },
  {
   "cell_type": "code",
   "execution_count": null,
   "metadata": {},
   "outputs": [],
   "source": []
  },
  {
   "cell_type": "code",
   "execution_count": null,
   "metadata": {},
   "outputs": [],
   "source": []
  },
  {
   "cell_type": "code",
   "execution_count": null,
   "metadata": {},
   "outputs": [],
   "source": []
  },
  {
   "cell_type": "code",
   "execution_count": null,
   "metadata": {},
   "outputs": [],
   "source": []
  },
  {
   "cell_type": "code",
   "execution_count": null,
   "metadata": {},
   "outputs": [],
   "source": []
  },
  {
   "cell_type": "code",
   "execution_count": null,
   "metadata": {},
   "outputs": [],
   "source": []
  },
  {
   "cell_type": "code",
   "execution_count": null,
   "metadata": {},
   "outputs": [],
   "source": []
  },
  {
   "cell_type": "code",
   "execution_count": null,
   "metadata": {},
   "outputs": [],
   "source": []
  }
 ],
 "metadata": {
  "kernelspec": {
   "display_name": "Python 3",
   "language": "python",
   "name": "python3"
  },
  "language_info": {
   "codemirror_mode": {
    "name": "ipython",
    "version": 3
   },
   "file_extension": ".py",
   "mimetype": "text/x-python",
   "name": "python",
   "nbconvert_exporter": "python",
   "pygments_lexer": "ipython3",
   "version": "3.6.10"
  }
 },
 "nbformat": 4,
 "nbformat_minor": 2
}
