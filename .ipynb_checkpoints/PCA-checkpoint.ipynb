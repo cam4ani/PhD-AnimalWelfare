{
 "cells": [
  {
   "cell_type": "code",
   "execution_count": null,
   "id": "9ec23166",
   "metadata": {},
   "outputs": [],
   "source": []
  },
  {
   "cell_type": "code",
   "execution_count": null,
   "id": "5f4c385d",
   "metadata": {},
   "outputs": [],
   "source": []
  },
  {
   "cell_type": "raw",
   "id": "fe9df407",
   "metadata": {},
   "source": [
    "https://aedin.github.io/PCAworkshop/articles/b_PCA.html\n",
    "PCA of a covariance matrix can be computed as svd of unscaled, centered, matrix\n",
    "plot(P,asp=1,col=1) #plot points\n",
    "points(x=mean(x_obs),y=mean(y_obs),col=\"orange\", pch=19) #show center\n",
    "lines(x_obs,eigenVectors[2,1]/eigenVectors[1,1]*Mx[x]+mean(y_obs),col=8)\n",
    "the eigendecomposition of the covariance matrix (if the input data was standardized) yields the same results as a eigendecomposition on the correlation matrix, since the correlation matrix can be understood as the normalized covariance matrix."
   ]
  },
  {
   "cell_type": "code",
   "execution_count": 17,
   "id": "932ca838",
   "metadata": {},
   "outputs": [
    {
     "data": {
      "text/html": [
       "<table class=\"dataframe\">\n",
       "<caption>A matrix: 6 × 6 of type dbl</caption>\n",
       "<tbody>\n",
       "\t<tr><td> 1.00000000</td><td>-0.31457380</td><td> 0.08361491</td><td>-0.12328381</td><td>-0.2128280</td><td>0.09084278</td></tr>\n",
       "\t<tr><td>-0.31457380</td><td> 1.00000000</td><td> 0.00527904</td><td> 0.26039910</td><td> 0.4685343</td><td>0.51774617</td></tr>\n",
       "\t<tr><td> 0.08361491</td><td> 0.00527904</td><td> 1.00000000</td><td>-0.01015836</td><td>-0.1200429</td><td>0.13635614</td></tr>\n",
       "\t<tr><td>-0.12328381</td><td> 0.26039910</td><td>-0.01015836</td><td> 1.00000000</td><td> 0.0169097</td><td>0.14531645</td></tr>\n",
       "\t<tr><td>-0.21282800</td><td> 0.46853430</td><td>-0.12004292</td><td> 0.01690970</td><td> 1.0000000</td><td>0.05135980</td></tr>\n",
       "\t<tr><td> 0.09084278</td><td> 0.51774617</td><td> 0.13635614</td><td> 0.14531645</td><td> 0.0513598</td><td>1.00000000</td></tr>\n",
       "</tbody>\n",
       "</table>\n"
      ],
      "text/latex": [
       "A matrix: 6 × 6 of type dbl\n",
       "\\begin{tabular}{llllll}\n",
       "\t  1.00000000 & -0.31457380 &  0.08361491 & -0.12328381 & -0.2128280 & 0.09084278\\\\\n",
       "\t -0.31457380 &  1.00000000 &  0.00527904 &  0.26039910 &  0.4685343 & 0.51774617\\\\\n",
       "\t  0.08361491 &  0.00527904 &  1.00000000 & -0.01015836 & -0.1200429 & 0.13635614\\\\\n",
       "\t -0.12328381 &  0.26039910 & -0.01015836 &  1.00000000 &  0.0169097 & 0.14531645\\\\\n",
       "\t -0.21282800 &  0.46853430 & -0.12004292 &  0.01690970 &  1.0000000 & 0.05135980\\\\\n",
       "\t  0.09084278 &  0.51774617 &  0.13635614 &  0.14531645 &  0.0513598 & 1.00000000\\\\\n",
       "\\end{tabular}\n"
      ],
      "text/markdown": [
       "\n",
       "A matrix: 6 × 6 of type dbl\n",
       "\n",
       "|  1.00000000 | -0.31457380 |  0.08361491 | -0.12328381 | -0.2128280 | 0.09084278 |\n",
       "| -0.31457380 |  1.00000000 |  0.00527904 |  0.26039910 |  0.4685343 | 0.51774617 |\n",
       "|  0.08361491 |  0.00527904 |  1.00000000 | -0.01015836 | -0.1200429 | 0.13635614 |\n",
       "| -0.12328381 |  0.26039910 | -0.01015836 |  1.00000000 |  0.0169097 | 0.14531645 |\n",
       "| -0.21282800 |  0.46853430 | -0.12004292 |  0.01690970 |  1.0000000 | 0.05135980 |\n",
       "|  0.09084278 |  0.51774617 |  0.13635614 |  0.14531645 |  0.0513598 | 1.00000000 |\n",
       "\n"
      ],
      "text/plain": [
       "     [,1]        [,2]        [,3]        [,4]        [,5]       [,6]      \n",
       "[1,]  1.00000000 -0.31457380  0.08361491 -0.12328381 -0.2128280 0.09084278\n",
       "[2,] -0.31457380  1.00000000  0.00527904  0.26039910  0.4685343 0.51774617\n",
       "[3,]  0.08361491  0.00527904  1.00000000 -0.01015836 -0.1200429 0.13635614\n",
       "[4,] -0.12328381  0.26039910 -0.01015836  1.00000000  0.0169097 0.14531645\n",
       "[5,] -0.21282800  0.46853430 -0.12004292  0.01690970  1.0000000 0.05135980\n",
       "[6,]  0.09084278  0.51774617  0.13635614  0.14531645  0.0513598 1.00000000"
      ]
     },
     "metadata": {},
     "output_type": "display_data"
    },
    {
     "data": {
      "text/plain": [
       "eigen() decomposition\n",
       "$values\n",
       "[1] 1.9170327 1.2815410 0.9660591 0.8924229 0.6750702 0.2678741\n",
       "\n",
       "$vectors\n",
       "            [,1]        [,2]        [,3]        [,4]       [,5]          [,6]\n",
       "[1,]  0.33191547  0.46698636 -0.25168215  0.54287120 -0.4982776 -0.2557776396\n",
       "[2,] -0.65754366  0.08087926 -0.11425235  0.01475545  0.0887731 -0.7348080633\n",
       "[3,]  0.02752378  0.55994440 -0.07645065 -0.77970389 -0.2681812  0.0008332845\n",
       "[4,] -0.30441099  0.12455142  0.83146396  0.13875349 -0.4112803  0.1099296169\n",
       "[5,] -0.44502208 -0.34535655 -0.44953519 -0.01516562 -0.5934002  0.3581179606\n",
       "[6,] -0.40743120  0.57189191 -0.15602434  0.27866189  0.3881265  0.5042828774\n"
      ]
     },
     "metadata": {},
     "output_type": "display_data"
    }
   ],
   "source": [
    "CorrM = matrix(c( 1,-0.3145738,0.08361491, -0.12328381, -0.212828,    0.09084278,\n",
    " -0.3145738 ,  1,          0.00527904,  0.2603991,   0.4685343,   0.51774617,\n",
    "  0.08361491 , 0.00527904,  1,         -0.01015836, -0.12004292,  0.13635614,\n",
    " -0.12328381,  0.2603991 , -0.01015836,  1,          0.0169097,   0.14531645,\n",
    " -0.212828 ,   0.4685343 , -0.12004292 , 0.0169097,   1,          0.0513598 ,\n",
    "  0.09084278,  0.51774617 , 0.13635614  ,0.14531645,  0.0513598 ,  1        ), nrow=6,ncol=6,byrow=TRUE)\n",
    "CorrM\n",
    "eigen(CorrM)"
   ]
  },
  {
   "cell_type": "markdown",
   "id": "efdac643",
   "metadata": {},
   "source": [
    "eigenValues <-eigen(CorrM)$values\n",
    "eigenVectors <-eigen(CorrM)$vectors\n",
    "eigenVectors[,1]\n",
    "eigenVectors[,2]"
   ]
  },
  {
   "cell_type": "code",
   "execution_count": null,
   "id": "3e1f5b18",
   "metadata": {},
   "outputs": [],
   "source": [
    "dico_mvt_pc1 = {'foodrelatedbehaviorfinalinvcst':0.331915472905767,\n",
    "                 'scaleVTD':-0.657543662574007,\n",
    "                 'midcumZ4hMorning':0.0275237778296617,\n",
    "                 'SleepingNotUppest':-0.304410994004366,\n",
    "                 'mulatency1Zone15mn3hOPP_latency1Zone15mn3hbind':-0.445022081119278,\n",
    "                 'nbrvisitZ4Morningmore60sec':-0.407431204443187}\n",
    "#high pc1 means: does not move a lot\n",
    "\n",
    "dico_mvt_pc2 = {'foodrelatedbehaviorfinalinvcst':0.466986355151282,\n",
    "                 'scaleVTD':0.0808792555080489,\n",
    "                 'midcumZ4hMorning':0.55994440,\n",
    "                 'SleepingNotUppest':0.12455142 ,\n",
    "                 'mulatency1Zone15mn3hOPP_latency1Zone15mn3hbind':-0.34535655,\n",
    "                 'nbrvisitZ4Morningmore60sec':0.57189191}"
   ]
  },
  {
   "cell_type": "code",
   "execution_count": null,
   "id": "343e2061",
   "metadata": {},
   "outputs": [],
   "source": []
  },
  {
   "cell_type": "code",
   "execution_count": 11,
   "id": "26c25cb5",
   "metadata": {},
   "outputs": [],
   "source": [
    "eigenvalues <-eigen(CorrM)$values\n",
    "eigenVectors <-eigen(CorrM)$vectors"
   ]
  },
  {
   "cell_type": "code",
   "execution_count": null,
   "id": "8a54e678",
   "metadata": {},
   "outputs": [],
   "source": [
    "'foodrelatedbehaviorfinalinvcst',\n",
    "'scaleVTD',\n",
    "'midcumZ4hMorning',\n",
    "'SleepingNotUppest',\n",
    "'mulatency1Zone15mn3hOPP_latency1Zone15mn3hbind',\n",
    "'nbrvisitZ4Morningmore60sec'\n",
    "\n",
    "pc1: VTD WG\n",
    "pc2: escape at food, lay eggs later and have more visits to egg\n",
    "pc3: where you sleep"
   ]
  },
  {
   "cell_type": "code",
   "execution_count": null,
   "id": "b010f38f",
   "metadata": {},
   "outputs": [],
   "source": []
  },
  {
   "cell_type": "markdown",
   "id": "7c1dc905",
   "metadata": {},
   "source": [
    "CovM = matrix(c(0.02, -0.04,  0,   -0.04, -0.07 , 0,\n",
    " -0.04,  0.65,  0,    0.49,  0.79,  0.13,\n",
    "  0,    0,    0.02, -0,   -0.04,  0.01,\n",
    " -0.04,  0.49, -0,    5.36,  0.08,  0.11,\n",
    " -0.07,  0.79, -0.04,  0.08,  4.37,  0.03,\n",
    "  0,    0.13,  0.01,  0.11,  0.03,  0.1), nrow=6,ncol=6,byrow=TRUE)\n",
    "CovM\n",
    "eigen(CovM)"
   ]
  },
  {
   "cell_type": "code",
   "execution_count": null,
   "id": "27c21fe9",
   "metadata": {},
   "outputs": [],
   "source": []
  },
  {
   "cell_type": "code",
   "execution_count": null,
   "id": "ddca1eb9",
   "metadata": {},
   "outputs": [],
   "source": []
  },
  {
   "cell_type": "code",
   "execution_count": null,
   "id": "ecaedc8c",
   "metadata": {},
   "outputs": [],
   "source": []
  },
  {
   "cell_type": "code",
   "execution_count": 24,
   "id": "f298a05d",
   "metadata": {},
   "outputs": [
    {
     "data": {
      "text/html": [
       "<table class=\"dataframe\">\n",
       "<caption>A matrix: 3 × 3 of type dbl</caption>\n",
       "<tbody>\n",
       "\t<tr><td> 1.0000000</td><td>-0.3145738</td><td>-0.2128280</td></tr>\n",
       "\t<tr><td>-0.3145738</td><td> 1.0000000</td><td> 0.4685343</td></tr>\n",
       "\t<tr><td>-0.2128280</td><td> 0.4685343</td><td> 1.0000000</td></tr>\n",
       "</tbody>\n",
       "</table>\n"
      ],
      "text/latex": [
       "A matrix: 3 × 3 of type dbl\n",
       "\\begin{tabular}{lll}\n",
       "\t  1.0000000 & -0.3145738 & -0.2128280\\\\\n",
       "\t -0.3145738 &  1.0000000 &  0.4685343\\\\\n",
       "\t -0.2128280 &  0.4685343 &  1.0000000\\\\\n",
       "\\end{tabular}\n"
      ],
      "text/markdown": [
       "\n",
       "A matrix: 3 × 3 of type dbl\n",
       "\n",
       "|  1.0000000 | -0.3145738 | -0.2128280 |\n",
       "| -0.3145738 |  1.0000000 |  0.4685343 |\n",
       "| -0.2128280 |  0.4685343 |  1.0000000 |\n",
       "\n"
      ],
      "text/plain": [
       "     [,1]       [,2]       [,3]      \n",
       "[1,]  1.0000000 -0.3145738 -0.2128280\n",
       "[2,] -0.3145738  1.0000000  0.4685343\n",
       "[3,] -0.2128280  0.4685343  1.0000000"
      ]
     },
     "metadata": {},
     "output_type": "display_data"
    },
    {
     "data": {
      "text/plain": [
       "eigen() decomposition\n",
       "$values\n",
       "[1] 1.6757360 0.8081201 0.5161440\n",
       "\n",
       "$vectors\n",
       "           [,1]      [,2]       [,3]\n",
       "[1,]  0.4854501 0.8492578 -0.2076038\n",
       "[2,] -0.6394040 0.1829387 -0.7467905\n",
       "[3,] -0.5962389 0.4952722  0.6318264\n"
      ]
     },
     "metadata": {},
     "output_type": "display_data"
    }
   ],
   "source": [
    "#li_mvt_chosen = ['foodrelatedbehaviorfinalinvcst', 'scaleVTD', 'mulatency1Zone15mn3hOPP_latency1Zone15mn3hbind']\n",
    "\n",
    "CorrM = matrix(c(1,        -0.3145738, -0.212828,\n",
    "-0.3145738,  1,         0.4685343,\n",
    "-0.212828,   0.4685343,  1), nrow=3,ncol=3,byrow=TRUE)\n",
    "CorrM\n",
    "eigen(CorrM)\n"
   ]
  },
  {
   "cell_type": "code",
   "execution_count": null,
   "id": "aab3c98d",
   "metadata": {},
   "outputs": [],
   "source": [
    "dico_mvt_pc1 = {'foodrelatedbehaviorfinalinvcst':0.4854501 ,\n",
    "                 'scaleVTD':-0.6394040 ,\n",
    "                 'mulatency1Zone15mn3hOPP_latency1Zone15mn3hbind':-0.5962389}"
   ]
  },
  {
   "cell_type": "code",
   "execution_count": null,
   "id": "19bad20b",
   "metadata": {},
   "outputs": [],
   "source": []
  },
  {
   "cell_type": "code",
   "execution_count": null,
   "id": "4d69fe3c",
   "metadata": {},
   "outputs": [],
   "source": []
  },
  {
   "cell_type": "code",
   "execution_count": null,
   "id": "cb498760",
   "metadata": {},
   "outputs": [],
   "source": []
  }
 ],
 "metadata": {
  "kernelspec": {
   "display_name": " Rkernel_4",
   "language": "R",
   "name": "rkernel_4"
  },
  "language_info": {
   "codemirror_mode": "r",
   "file_extension": ".r",
   "mimetype": "text/x-r-source",
   "name": "R",
   "pygments_lexer": "r",
   "version": "4.1.1"
  }
 },
 "nbformat": 4,
 "nbformat_minor": 5
}
