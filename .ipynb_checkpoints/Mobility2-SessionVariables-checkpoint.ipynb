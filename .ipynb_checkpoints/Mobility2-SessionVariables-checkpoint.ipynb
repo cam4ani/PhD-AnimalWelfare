{
 "cells": [
  {
   "cell_type": "code",
   "execution_count": 1,
   "metadata": {},
   "outputs": [],
   "source": [
    "#basic package\n",
    "import json\n",
    "import tqdm\n",
    "import os\n",
    "import numpy as np\n",
    "import glob\n",
    "import pandas as pd\n",
    "import sys\n",
    "import shutil\n",
    "import time\n",
    "import datetime as dt\n",
    "import itertools\n",
    "import time\n",
    "import re\n",
    "from collections import Counter\n",
    "from collections import defaultdict\n",
    "import operator\n",
    "import math\n",
    "\n",
    "#DTW\n",
    "import dtaidistance\n",
    "from dtaidistance import dtw\n",
    "from dtaidistance import dtw_visualisation as dtwvis\n",
    "from dtaidistance import clustering\n",
    "\n",
    "#plot\n",
    "import matplotlib.pyplot as plt\n",
    "import seaborn as sns"
   ]
  },
  {
   "cell_type": "code",
   "execution_count": 2,
   "metadata": {},
   "outputs": [],
   "source": [
    "#change r to 0 from 0.2\n",
    "sys.path.append('C:\\\\Users\\\\camil\\\\Desktop\\\\animals_code\\\\entropy')\n",
    "from entropy.entropy import sample_entropy\n",
    "#from entropy.entropy import sample_entropy #https://github.com/raphaelvallat/entropy"
   ]
  },
  {
   "cell_type": "code",
   "execution_count": 3,
   "metadata": {},
   "outputs": [
    {
     "name": "stderr",
     "output_type": "stream",
     "text": [
      "c:\\users\\camil\\anaconda3\\lib\\site-packages\\statsmodels\\compat\\pandas.py:56: FutureWarning: The pandas.core.datetools module is deprecated and will be removed in a future version. Please use the pandas.tseries module instead.\n",
      "  from pandas.core import datetools\n",
      "c:\\users\\camil\\anaconda3\\lib\\site-packages\\scipy\\sparse\\sparsetools.py:21: DeprecationWarning: `scipy.sparse.sparsetools` is deprecated!\n",
      "scipy.sparse.sparsetools is a private module for scipy.sparse, and should not be used.\n",
      "  _deprecated()\n"
     ]
    },
    {
     "name": "stdout",
     "output_type": "stream",
     "text": [
      "we restrict the time series to one value per 60 seconds \n",
      "we compute the complexity variables each 30 minutes \n",
      "each variables includes the values of at least the last 120.00 minutes (i.e. are using 120.00 values)\n"
     ]
    }
   ],
   "source": [
    "from UTILS import time_series_henColumn_tsRow, ZoneVariable, HenVariable, DistributionEntropy, \\\n",
    "heatmap_duration_perzone_perhen, TimeSeriesPlot, entropy_compare_session\n",
    "import config_mobility as config"
   ]
  },
  {
   "cell_type": "code",
   "execution_count": 4,
   "metadata": {},
   "outputs": [],
   "source": [
    "path_extracted_data = config.path_extracted_data\n",
    "id_run = config.id_run\n",
    "nbr_sec = config.nbr_sec"
   ]
  },
  {
   "cell_type": "markdown",
   "metadata": {},
   "source": [
    "# Session Variables at Day Level computation"
   ]
  },
  {
   "cell_type": "code",
   "execution_count": 5,
   "metadata": {},
   "outputs": [],
   "source": [
    "#day level\n",
    "ts_name = 'time_serie_day'"
   ]
  },
  {
   "cell_type": "raw",
   "metadata": {},
   "source": [
    "HenVariable computation time:\n",
    "SampEnt_perZone takes 2 hours for ~50 hen during 6 days\n",
    "SampEnt_order2 is also very long around 25 mn for ~50 hen during 6 days,\n",
    "--> By commenting those two variables the computation over the 22 sessions of 6 days each can be made within less than 2h only\n",
    "--> By commenting the SampEnt_perZone variable, the computation should be ~11h (i.e. a night)\n",
    "--> By computating these variabes as well, the computation should be ~45h (i.e. a week end)"
   ]
  },
  {
   "cell_type": "markdown",
   "metadata": {},
   "source": [
    "### Nbr of bird per zone at each minute"
   ]
  },
  {
   "cell_type": "markdown",
   "metadata": {
    "scrolled": true
   },
   "source": [
    "#open time series per session and compute the variables for each session (car time series make sence at session level), et en \n",
    "#plus des variables tel que running entropy over the whole session ateach last timestamp of each level make sence only at \n",
    "#session level\n",
    "START_TIME = time.clock()\n",
    "li_path = glob.glob(os.path.join(path_extracted_data, id_run+'_TimeSeries_*.csv'))\n",
    "li_path = [i for i in li_path if '_hen_' not in i]\n",
    "for path_ in tqdm.tqdm(li_path):\n",
    "    \n",
    "    #download time series associated to this session\n",
    "    name_ = path_.split('_')[-1].split('.')[0]\n",
    "    print('-------------------------------------------------------------------------', name_)\n",
    "    df_ts = pd.read_csv(path_, sep=';', parse_dates=['Timestamp', 'day']) \n",
    "    #df_ts = df_ts.sort_values('Timestamp', ascending=True)\n",
    "    #print(df_ts.shape)\n",
    "    #print(min(df_ts['Timestamp']), max(df_ts['Timestamp']))\n",
    "\n",
    "    ZoneVariable(df_ts, config, save=True, red_dot_for_each_hen=True, nbr_bird_per_square_meter=False)\n",
    "    \n",
    "END_TIME = time.clock()\n",
    "print (\"Total running time: %.2f mn\" %((END_TIME-START_TIME)/60))  "
   ]
  },
  {
   "cell_type": "markdown",
   "metadata": {},
   "source": [
    "### Other variables"
   ]
  },
  {
   "cell_type": "code",
   "execution_count": 6,
   "metadata": {},
   "outputs": [
    {
     "name": "stderr",
     "output_type": "stream",
     "text": [
      "\r",
      "  0%|                                                                                            | 0/6 [00:00<?, ?it/s]"
     ]
    },
    {
     "name": "stdout",
     "output_type": "stream",
     "text": [
      "------------------------------------------------------------------------- 7A\n",
      "your time series has 1 seconds between two timestamps\n",
      "----------------- total duration per Zone....\n",
      "The number of hours per \"level\" period is of:\n"
     ]
    },
    {
     "data": {
      "text/html": [
       "<div>\n",
       "<style scoped>\n",
       "    .dataframe tbody tr th:only-of-type {\n",
       "        vertical-align: middle;\n",
       "    }\n",
       "\n",
       "    .dataframe tbody tr th {\n",
       "        vertical-align: top;\n",
       "    }\n",
       "\n",
       "    .dataframe thead th {\n",
       "        text-align: right;\n",
       "    }\n",
       "</style>\n",
       "<table border=\"1\" class=\"dataframe\">\n",
       "  <thead>\n",
       "    <tr style=\"text-align: right;\">\n",
       "      <th>Zone</th>\n",
       "      <th>verification_daily_total_nbr_hour</th>\n",
       "      <th>level</th>\n",
       "      <th>HenID</th>\n",
       "    </tr>\n",
       "  </thead>\n",
       "  <tbody>\n",
       "    <tr>\n",
       "      <th>0</th>\n",
       "      <td>15.0</td>\n",
       "      <td>[2017-04-14 00:00:00, 2017-04-15 00:00:00, 201...</td>\n",
       "      <td>[hen_1, hen_1, hen_1, hen_1, hen_1, hen_1, hen...</td>\n",
       "    </tr>\n",
       "  </tbody>\n",
       "</table>\n",
       "</div>"
      ],
      "text/plain": [
       "Zone  verification_daily_total_nbr_hour  \\\n",
       "0                                  15.0   \n",
       "\n",
       "Zone                                              level  \\\n",
       "0     [2017-04-14 00:00:00, 2017-04-15 00:00:00, 201...   \n",
       "\n",
       "Zone                                              HenID  \n",
       "0     [hen_1, hen_1, hen_1, hen_1, hen_1, hen_1, hen...  "
      ]
     },
     "metadata": {},
     "output_type": "display_data"
    },
    {
     "name": "stdout",
     "output_type": "stream",
     "text": [
      "----------------- first time stamp in each zone per day....\n",
      "----------------- number of Zone (excluding nan)....\n",
      "----------------- compute some variables based on a list of zones over a day....\n"
     ]
    },
    {
     "name": "stderr",
     "output_type": "stream",
     "text": [
      "C:\\Users\\camil\\Desktop\\animals_code\\PhD\\UTILS.py:3021: FutureWarning: using a dict on a Series for aggregation\n",
      "is deprecated and will be removed in a future version\n",
      "  df_ = df[~df['Zone'].isnull()].groupby(['HenID','level'])['Zone'].agg(function2apply).reset_index()\n"
     ]
    },
    {
     "name": "stdout",
     "output_type": "stream",
     "text": [
      "Total running time: 22.18 mn\n"
     ]
    },
    {
     "name": "stderr",
     "output_type": "stream",
     "text": [
      "\r",
      " 17%|█████████████▎                                                                  | 1/6 [22:18<1:51:33, 1338.77s/it]"
     ]
    },
    {
     "name": "stdout",
     "output_type": "stream",
     "text": [
      "------------------------------------------------------------------------- 7B\n",
      "your time series has 1 seconds between two timestamps\n",
      "----------------- total duration per Zone....\n",
      "The number of hours per \"level\" period is of:\n"
     ]
    },
    {
     "data": {
      "text/html": [
       "<div>\n",
       "<style scoped>\n",
       "    .dataframe tbody tr th:only-of-type {\n",
       "        vertical-align: middle;\n",
       "    }\n",
       "\n",
       "    .dataframe tbody tr th {\n",
       "        vertical-align: top;\n",
       "    }\n",
       "\n",
       "    .dataframe thead th {\n",
       "        text-align: right;\n",
       "    }\n",
       "</style>\n",
       "<table border=\"1\" class=\"dataframe\">\n",
       "  <thead>\n",
       "    <tr style=\"text-align: right;\">\n",
       "      <th>Zone</th>\n",
       "      <th>verification_daily_total_nbr_hour</th>\n",
       "      <th>level</th>\n",
       "      <th>HenID</th>\n",
       "    </tr>\n",
       "  </thead>\n",
       "  <tbody>\n",
       "    <tr>\n",
       "      <th>0</th>\n",
       "      <td>15.0</td>\n",
       "      <td>[2017-04-22 00:00:00, 2017-04-23 00:00:00, 201...</td>\n",
       "      <td>[hen_100, hen_100, hen_100, hen_100, hen_100, ...</td>\n",
       "    </tr>\n",
       "  </tbody>\n",
       "</table>\n",
       "</div>"
      ],
      "text/plain": [
       "Zone  verification_daily_total_nbr_hour  \\\n",
       "0                                  15.0   \n",
       "\n",
       "Zone                                              level  \\\n",
       "0     [2017-04-22 00:00:00, 2017-04-23 00:00:00, 201...   \n",
       "\n",
       "Zone                                              HenID  \n",
       "0     [hen_100, hen_100, hen_100, hen_100, hen_100, ...  "
      ]
     },
     "metadata": {},
     "output_type": "display_data"
    },
    {
     "name": "stdout",
     "output_type": "stream",
     "text": [
      "----------------- first time stamp in each zone per day....\n",
      "----------------- number of Zone (excluding nan)....\n",
      "----------------- compute some variables based on a list of zones over a day....\n"
     ]
    },
    {
     "name": "stderr",
     "output_type": "stream",
     "text": [
      "C:\\Users\\camil\\Desktop\\animals_code\\PhD\\UTILS.py:3021: FutureWarning: using a dict on a Series for aggregation\n",
      "is deprecated and will be removed in a future version\n",
      "  df_ = df[~df['Zone'].isnull()].groupby(['HenID','level'])['Zone'].agg(function2apply).reset_index()\n"
     ]
    },
    {
     "name": "stdout",
     "output_type": "stream",
     "text": [
      "Total running time: 21.32 mn\n"
     ]
    },
    {
     "name": "stderr",
     "output_type": "stream",
     "text": [
      "\r",
      " 33%|██████████████████████████▋                                                     | 2/6 [43:46<1:28:13, 1323.44s/it]"
     ]
    },
    {
     "name": "stdout",
     "output_type": "stream",
     "text": [
      "------------------------------------------------------------------------- 8A\n",
      "your time series has 1 seconds between two timestamps\n",
      "----------------- total duration per Zone....\n",
      "The number of hours per \"level\" period is of:\n"
     ]
    },
    {
     "data": {
      "text/html": [
       "<div>\n",
       "<style scoped>\n",
       "    .dataframe tbody tr th:only-of-type {\n",
       "        vertical-align: middle;\n",
       "    }\n",
       "\n",
       "    .dataframe tbody tr th {\n",
       "        vertical-align: top;\n",
       "    }\n",
       "\n",
       "    .dataframe thead th {\n",
       "        text-align: right;\n",
       "    }\n",
       "</style>\n",
       "<table border=\"1\" class=\"dataframe\">\n",
       "  <thead>\n",
       "    <tr style=\"text-align: right;\">\n",
       "      <th>Zone</th>\n",
       "      <th>verification_daily_total_nbr_hour</th>\n",
       "      <th>level</th>\n",
       "      <th>HenID</th>\n",
       "    </tr>\n",
       "  </thead>\n",
       "  <tbody>\n",
       "    <tr>\n",
       "      <th>0</th>\n",
       "      <td>15.0</td>\n",
       "      <td>[2017-05-04 00:00:00, 2017-05-05 00:00:00, 201...</td>\n",
       "      <td>[hen_1, hen_1, hen_1, hen_1, hen_1, hen_1, hen...</td>\n",
       "    </tr>\n",
       "  </tbody>\n",
       "</table>\n",
       "</div>"
      ],
      "text/plain": [
       "Zone  verification_daily_total_nbr_hour  \\\n",
       "0                                  15.0   \n",
       "\n",
       "Zone                                              level  \\\n",
       "0     [2017-05-04 00:00:00, 2017-05-05 00:00:00, 201...   \n",
       "\n",
       "Zone                                              HenID  \n",
       "0     [hen_1, hen_1, hen_1, hen_1, hen_1, hen_1, hen...  "
      ]
     },
     "metadata": {},
     "output_type": "display_data"
    },
    {
     "name": "stdout",
     "output_type": "stream",
     "text": [
      "----------------- first time stamp in each zone per day....\n",
      "----------------- number of Zone (excluding nan)....\n",
      "----------------- compute some variables based on a list of zones over a day....\n"
     ]
    },
    {
     "name": "stderr",
     "output_type": "stream",
     "text": [
      "C:\\Users\\camil\\Desktop\\animals_code\\PhD\\UTILS.py:3021: FutureWarning: using a dict on a Series for aggregation\n",
      "is deprecated and will be removed in a future version\n",
      "  df_ = df[~df['Zone'].isnull()].groupby(['HenID','level'])['Zone'].agg(function2apply).reset_index()\n"
     ]
    },
    {
     "name": "stdout",
     "output_type": "stream",
     "text": [
      "Total running time: 19.73 mn\n"
     ]
    },
    {
     "name": "stderr",
     "output_type": "stream",
     "text": [
      "\r",
      " 50%|███████████████████████████████████████                                       | 3/6 [1:03:36<1:04:09, 1283.28s/it]"
     ]
    },
    {
     "name": "stdout",
     "output_type": "stream",
     "text": [
      "------------------------------------------------------------------------- 8B\n",
      "your time series has 1 seconds between two timestamps\n",
      "----------------- total duration per Zone....\n",
      "The number of hours per \"level\" period is of:\n"
     ]
    },
    {
     "data": {
      "text/html": [
       "<div>\n",
       "<style scoped>\n",
       "    .dataframe tbody tr th:only-of-type {\n",
       "        vertical-align: middle;\n",
       "    }\n",
       "\n",
       "    .dataframe tbody tr th {\n",
       "        vertical-align: top;\n",
       "    }\n",
       "\n",
       "    .dataframe thead th {\n",
       "        text-align: right;\n",
       "    }\n",
       "</style>\n",
       "<table border=\"1\" class=\"dataframe\">\n",
       "  <thead>\n",
       "    <tr style=\"text-align: right;\">\n",
       "      <th>Zone</th>\n",
       "      <th>verification_daily_total_nbr_hour</th>\n",
       "      <th>level</th>\n",
       "      <th>HenID</th>\n",
       "    </tr>\n",
       "  </thead>\n",
       "  <tbody>\n",
       "    <tr>\n",
       "      <th>0</th>\n",
       "      <td>15.0</td>\n",
       "      <td>[2017-05-12 00:00:00, 2017-05-13 00:00:00, 201...</td>\n",
       "      <td>[hen_100, hen_100, hen_100, hen_100, hen_100, ...</td>\n",
       "    </tr>\n",
       "  </tbody>\n",
       "</table>\n",
       "</div>"
      ],
      "text/plain": [
       "Zone  verification_daily_total_nbr_hour  \\\n",
       "0                                  15.0   \n",
       "\n",
       "Zone                                              level  \\\n",
       "0     [2017-05-12 00:00:00, 2017-05-13 00:00:00, 201...   \n",
       "\n",
       "Zone                                              HenID  \n",
       "0     [hen_100, hen_100, hen_100, hen_100, hen_100, ...  "
      ]
     },
     "metadata": {},
     "output_type": "display_data"
    },
    {
     "name": "stdout",
     "output_type": "stream",
     "text": [
      "----------------- first time stamp in each zone per day....\n",
      "----------------- number of Zone (excluding nan)....\n",
      "----------------- compute some variables based on a list of zones over a day....\n"
     ]
    },
    {
     "name": "stderr",
     "output_type": "stream",
     "text": [
      "C:\\Users\\camil\\Desktop\\animals_code\\PhD\\UTILS.py:3021: FutureWarning: using a dict on a Series for aggregation\n",
      "is deprecated and will be removed in a future version\n",
      "  df_ = df[~df['Zone'].isnull()].groupby(['HenID','level'])['Zone'].agg(function2apply).reset_index()\n"
     ]
    },
    {
     "name": "stdout",
     "output_type": "stream",
     "text": [
      "Total running time: 19.24 mn\n"
     ]
    },
    {
     "name": "stderr",
     "output_type": "stream",
     "text": [
      "\r",
      " 67%|█████████████████████████████████████████████████████▎                          | 4/6 [1:22:56<41:33, 1246.54s/it]"
     ]
    },
    {
     "name": "stdout",
     "output_type": "stream",
     "text": [
      "------------------------------------------------------------------------- 9A\n"
     ]
    },
    {
     "name": "stderr",
     "output_type": "stream",
     "text": [
      "c:\\users\\camil\\anaconda3\\lib\\site-packages\\IPython\\core\\interactiveshell.py:2728: DtypeWarning: Columns (24) have mixed types. Specify dtype option on import or set low_memory=False.\n",
      "  interactivity=interactivity, compiler=compiler, result=result)\n"
     ]
    },
    {
     "name": "stdout",
     "output_type": "stream",
     "text": [
      "your time series has 1 seconds between two timestamps\n",
      "----------------- total duration per Zone....\n",
      "The number of hours per \"level\" period is of:\n"
     ]
    },
    {
     "data": {
      "text/html": [
       "<div>\n",
       "<style scoped>\n",
       "    .dataframe tbody tr th:only-of-type {\n",
       "        vertical-align: middle;\n",
       "    }\n",
       "\n",
       "    .dataframe tbody tr th {\n",
       "        vertical-align: top;\n",
       "    }\n",
       "\n",
       "    .dataframe thead th {\n",
       "        text-align: right;\n",
       "    }\n",
       "</style>\n",
       "<table border=\"1\" class=\"dataframe\">\n",
       "  <thead>\n",
       "    <tr style=\"text-align: right;\">\n",
       "      <th>Zone</th>\n",
       "      <th>verification_daily_total_nbr_hour</th>\n",
       "      <th>level</th>\n",
       "      <th>HenID</th>\n",
       "    </tr>\n",
       "  </thead>\n",
       "  <tbody>\n",
       "    <tr>\n",
       "      <th>0</th>\n",
       "      <td>15.0</td>\n",
       "      <td>[2017-06-01 00:00:00, 2017-06-02 00:00:00, 201...</td>\n",
       "      <td>[hen_1, hen_1, hen_1, hen_1, hen_1, hen_1, hen...</td>\n",
       "    </tr>\n",
       "  </tbody>\n",
       "</table>\n",
       "</div>"
      ],
      "text/plain": [
       "Zone  verification_daily_total_nbr_hour  \\\n",
       "0                                  15.0   \n",
       "\n",
       "Zone                                              level  \\\n",
       "0     [2017-06-01 00:00:00, 2017-06-02 00:00:00, 201...   \n",
       "\n",
       "Zone                                              HenID  \n",
       "0     [hen_1, hen_1, hen_1, hen_1, hen_1, hen_1, hen...  "
      ]
     },
     "metadata": {},
     "output_type": "display_data"
    },
    {
     "name": "stdout",
     "output_type": "stream",
     "text": [
      "----------------- first time stamp in each zone per day....\n",
      "----------------- number of Zone (excluding nan)....\n",
      "----------------- compute some variables based on a list of zones over a day....\n"
     ]
    },
    {
     "name": "stderr",
     "output_type": "stream",
     "text": [
      "C:\\Users\\camil\\Desktop\\animals_code\\PhD\\UTILS.py:3021: FutureWarning: using a dict on a Series for aggregation\n",
      "is deprecated and will be removed in a future version\n",
      "  df_ = df[~df['Zone'].isnull()].groupby(['HenID','level'])['Zone'].agg(function2apply).reset_index()\n"
     ]
    },
    {
     "name": "stdout",
     "output_type": "stream",
     "text": [
      "Total running time: 18.96 mn\n"
     ]
    },
    {
     "name": "stderr",
     "output_type": "stream",
     "text": [
      "\r",
      " 83%|██████████████████████████████████████████████████████████████████▋             | 5/6 [1:42:00<20:15, 1215.56s/it]"
     ]
    },
    {
     "name": "stdout",
     "output_type": "stream",
     "text": [
      "------------------------------------------------------------------------- 9B\n",
      "your time series has 1 seconds between two timestamps\n",
      "----------------- total duration per Zone....\n",
      "The number of hours per \"level\" period is of:\n"
     ]
    },
    {
     "data": {
      "text/html": [
       "<div>\n",
       "<style scoped>\n",
       "    .dataframe tbody tr th:only-of-type {\n",
       "        vertical-align: middle;\n",
       "    }\n",
       "\n",
       "    .dataframe tbody tr th {\n",
       "        vertical-align: top;\n",
       "    }\n",
       "\n",
       "    .dataframe thead th {\n",
       "        text-align: right;\n",
       "    }\n",
       "</style>\n",
       "<table border=\"1\" class=\"dataframe\">\n",
       "  <thead>\n",
       "    <tr style=\"text-align: right;\">\n",
       "      <th>Zone</th>\n",
       "      <th>verification_daily_total_nbr_hour</th>\n",
       "      <th>level</th>\n",
       "      <th>HenID</th>\n",
       "    </tr>\n",
       "  </thead>\n",
       "  <tbody>\n",
       "    <tr>\n",
       "      <th>0</th>\n",
       "      <td>15.0</td>\n",
       "      <td>[2017-06-09 00:00:00, 2017-06-10 00:00:00, 201...</td>\n",
       "      <td>[hen_101, hen_101, hen_101, hen_101, hen_101, ...</td>\n",
       "    </tr>\n",
       "  </tbody>\n",
       "</table>\n",
       "</div>"
      ],
      "text/plain": [
       "Zone  verification_daily_total_nbr_hour  \\\n",
       "0                                  15.0   \n",
       "\n",
       "Zone                                              level  \\\n",
       "0     [2017-06-09 00:00:00, 2017-06-10 00:00:00, 201...   \n",
       "\n",
       "Zone                                              HenID  \n",
       "0     [hen_101, hen_101, hen_101, hen_101, hen_101, ...  "
      ]
     },
     "metadata": {},
     "output_type": "display_data"
    },
    {
     "name": "stdout",
     "output_type": "stream",
     "text": [
      "----------------- first time stamp in each zone per day....\n",
      "----------------- number of Zone (excluding nan)....\n",
      "----------------- compute some variables based on a list of zones over a day....\n"
     ]
    },
    {
     "name": "stderr",
     "output_type": "stream",
     "text": [
      "C:\\Users\\camil\\Desktop\\animals_code\\PhD\\UTILS.py:3021: FutureWarning: using a dict on a Series for aggregation\n",
      "is deprecated and will be removed in a future version\n",
      "  df_ = df[~df['Zone'].isnull()].groupby(['HenID','level'])['Zone'].agg(function2apply).reset_index()\n"
     ]
    },
    {
     "name": "stdout",
     "output_type": "stream",
     "text": [
      "Total running time: 17.29 mn\n"
     ]
    },
    {
     "name": "stderr",
     "output_type": "stream",
     "text": [
      "100%|████████████████████████████████████████████████████████████████████████████████| 6/6 [1:59:22<00:00, 1163.68s/it]\n"
     ]
    },
    {
     "name": "stdout",
     "output_type": "stream",
     "text": [
      "Total running time: 119.35 mn\n"
     ]
    }
   ],
   "source": [
    "#open time series per session and compute the variables for each session (car time series make sence at session level), et en \n",
    "#plus des variables tel que running entropy over the whole session ateach last timestamp of each level make sence only at \n",
    "#session level\n",
    "START_TIME = time.clock()\n",
    "li_path = glob.glob(os.path.join(path_extracted_data, id_run+'_TimeSeries_*.csv'))\n",
    "li_path = [i for i in li_path if '_hen_' not in i]\n",
    "for path_ in tqdm.tqdm(li_path[16:]):\n",
    "    \n",
    "    #download time series associated to this session\n",
    "    name_ = path_.split('_')[-1].split('.')[0]\n",
    "    print('-------------------------------------------------------------------------', name_)\n",
    "    df_ts = pd.read_csv(path_, sep=';', parse_dates=['Timestamp', 'day']) \n",
    "    \n",
    "    #daily variable\n",
    "    df_daily = HenVariable(df_ts, config, ts_name, name_=name_, compute_chi2_distance=False, save=True, time4entropy=False)\n",
    "\n",
    "    # NOT VERIFIED\n",
    "    #duration per zone per hen plot\n",
    "    #heatmap_duration_perzone_perhen(df_daily, config)\n",
    "    \n",
    "END_TIME = time.clock()\n",
    "print (\"Total running time: %.2f mn\" %((END_TIME-START_TIME)/60))  "
   ]
  },
  {
   "cell_type": "code",
   "execution_count": 7,
   "metadata": {},
   "outputs": [
    {
     "name": "stdout",
     "output_type": "stream",
     "text": [
      "(300, 55)\n"
     ]
    },
    {
     "data": {
      "text/html": [
       "<div>\n",
       "<style scoped>\n",
       "    .dataframe tbody tr th:only-of-type {\n",
       "        vertical-align: middle;\n",
       "    }\n",
       "\n",
       "    .dataframe tbody tr th {\n",
       "        vertical-align: top;\n",
       "    }\n",
       "\n",
       "    .dataframe thead th {\n",
       "        text-align: right;\n",
       "    }\n",
       "</style>\n",
       "<table border=\"1\" class=\"dataframe\">\n",
       "  <thead>\n",
       "    <tr style=\"text-align: right;\">\n",
       "      <th></th>\n",
       "      <th>HenID</th>\n",
       "      <th>level</th>\n",
       "      <th>duration_zone_1</th>\n",
       "      <th>duration_zone_2</th>\n",
       "      <th>duration_zone_3</th>\n",
       "      <th>duration_zone_4</th>\n",
       "      <th>duration_zone_5</th>\n",
       "      <th>verification_daily_total_duration</th>\n",
       "      <th>dur_values</th>\n",
       "      <th>dur_values_normalized</th>\n",
       "      <th>...</th>\n",
       "      <th>chatoicmvt_Middlezone_1</th>\n",
       "      <th>chatoicmvt_Middlezone_2</th>\n",
       "      <th>chatoicmvt_Middlezone_3</th>\n",
       "      <th>chatoicmvt_Middlezone_4</th>\n",
       "      <th>chatoicmvt_Middlezone_5</th>\n",
       "      <th>chatoicmvt_Middlezone_1_nbr</th>\n",
       "      <th>chatoicmvt_Middlezone_2_nbr</th>\n",
       "      <th>chatoicmvt_Middlezone_3_nbr</th>\n",
       "      <th>chatoicmvt_Middlezone_4_nbr</th>\n",
       "      <th>chatoicmvt_Middlezone_5_nbr</th>\n",
       "    </tr>\n",
       "  </thead>\n",
       "  <tbody>\n",
       "    <tr>\n",
       "      <th>0</th>\n",
       "      <td>hen_101</td>\n",
       "      <td>2017-06-09</td>\n",
       "      <td>0.0</td>\n",
       "      <td>0.0</td>\n",
       "      <td>0.0</td>\n",
       "      <td>2256.0</td>\n",
       "      <td>51744.0</td>\n",
       "      <td>54000.0</td>\n",
       "      <td>[0.0, 0.0, 0.0, 2256.0, 51744.0]</td>\n",
       "      <td>[0.0, 0.0, 0.0, 0.041777777777777775, 0.958222...</td>\n",
       "      <td>...</td>\n",
       "      <td>0</td>\n",
       "      <td>0</td>\n",
       "      <td>0</td>\n",
       "      <td>[2256.0]</td>\n",
       "      <td>0</td>\n",
       "      <td>0</td>\n",
       "      <td>0</td>\n",
       "      <td>0</td>\n",
       "      <td>1</td>\n",
       "      <td>0</td>\n",
       "    </tr>\n",
       "    <tr>\n",
       "      <th>1</th>\n",
       "      <td>hen_101</td>\n",
       "      <td>2017-06-10</td>\n",
       "      <td>0.0</td>\n",
       "      <td>0.0</td>\n",
       "      <td>0.0</td>\n",
       "      <td>2299.0</td>\n",
       "      <td>51701.0</td>\n",
       "      <td>54000.0</td>\n",
       "      <td>[0.0, 0.0, 0.0, 2299.0, 51701.0]</td>\n",
       "      <td>[0.0, 0.0, 0.0, 0.04257407407407408, 0.9574259...</td>\n",
       "      <td>...</td>\n",
       "      <td>0</td>\n",
       "      <td>0</td>\n",
       "      <td>0</td>\n",
       "      <td>0</td>\n",
       "      <td>0</td>\n",
       "      <td>0</td>\n",
       "      <td>0</td>\n",
       "      <td>0</td>\n",
       "      <td>0</td>\n",
       "      <td>0</td>\n",
       "    </tr>\n",
       "    <tr>\n",
       "      <th>2</th>\n",
       "      <td>hen_101</td>\n",
       "      <td>2017-06-11</td>\n",
       "      <td>0.0</td>\n",
       "      <td>2868.0</td>\n",
       "      <td>480.0</td>\n",
       "      <td>15480.0</td>\n",
       "      <td>35172.0</td>\n",
       "      <td>54000.0</td>\n",
       "      <td>[0.0, 2868.0, 480.0, 15480.0, 35172.0]</td>\n",
       "      <td>[0.0, 0.05311111111111111, 0.00888888888888888...</td>\n",
       "      <td>...</td>\n",
       "      <td>0</td>\n",
       "      <td>0</td>\n",
       "      <td>0</td>\n",
       "      <td>0</td>\n",
       "      <td>0</td>\n",
       "      <td>0</td>\n",
       "      <td>0</td>\n",
       "      <td>0</td>\n",
       "      <td>0</td>\n",
       "      <td>0</td>\n",
       "    </tr>\n",
       "  </tbody>\n",
       "</table>\n",
       "<p>3 rows × 55 columns</p>\n",
       "</div>"
      ],
      "text/plain": [
       "     HenID      level  duration_zone_1  duration_zone_2  duration_zone_3  \\\n",
       "0  hen_101 2017-06-09              0.0              0.0              0.0   \n",
       "1  hen_101 2017-06-10              0.0              0.0              0.0   \n",
       "2  hen_101 2017-06-11              0.0           2868.0            480.0   \n",
       "\n",
       "   duration_zone_4  duration_zone_5  verification_daily_total_duration  \\\n",
       "0           2256.0          51744.0                            54000.0   \n",
       "1           2299.0          51701.0                            54000.0   \n",
       "2          15480.0          35172.0                            54000.0   \n",
       "\n",
       "                               dur_values  \\\n",
       "0        [0.0, 0.0, 0.0, 2256.0, 51744.0]   \n",
       "1        [0.0, 0.0, 0.0, 2299.0, 51701.0]   \n",
       "2  [0.0, 2868.0, 480.0, 15480.0, 35172.0]   \n",
       "\n",
       "                               dur_values_normalized  \\\n",
       "0  [0.0, 0.0, 0.0, 0.041777777777777775, 0.958222...   \n",
       "1  [0.0, 0.0, 0.0, 0.04257407407407408, 0.9574259...   \n",
       "2  [0.0, 0.05311111111111111, 0.00888888888888888...   \n",
       "\n",
       "              ...             chatoicmvt_Middlezone_1 chatoicmvt_Middlezone_2  \\\n",
       "0             ...                                   0                       0   \n",
       "1             ...                                   0                       0   \n",
       "2             ...                                   0                       0   \n",
       "\n",
       "  chatoicmvt_Middlezone_3 chatoicmvt_Middlezone_4 chatoicmvt_Middlezone_5  \\\n",
       "0                       0                [2256.0]                       0   \n",
       "1                       0                       0                       0   \n",
       "2                       0                       0                       0   \n",
       "\n",
       "   chatoicmvt_Middlezone_1_nbr chatoicmvt_Middlezone_2_nbr  \\\n",
       "0                            0                           0   \n",
       "1                            0                           0   \n",
       "2                            0                           0   \n",
       "\n",
       "  chatoicmvt_Middlezone_3_nbr chatoicmvt_Middlezone_4_nbr  \\\n",
       "0                           0                           1   \n",
       "1                           0                           0   \n",
       "2                           0                           0   \n",
       "\n",
       "  chatoicmvt_Middlezone_5_nbr  \n",
       "0                           0  \n",
       "1                           0  \n",
       "2                           0  \n",
       "\n",
       "[3 rows x 55 columns]"
      ]
     },
     "execution_count": 7,
     "metadata": {},
     "output_type": "execute_result"
    }
   ],
   "source": [
    "print(df_daily.shape)\n",
    "df_daily.head(3)"
   ]
  },
  {
   "cell_type": "markdown",
   "metadata": {},
   "source": [
    "### visual on variables"
   ]
  },
  {
   "cell_type": "markdown",
   "metadata": {},
   "source": [
    "#plot the histogram of duration per zone. useless\n",
    "for i in range(df_daily.shape[0]):\n",
    "    x = df_daily['li_event_chaoticmvt_z_d'].iloc[i]\n",
    "    x = [i for i in x if i[0]!=None]\n",
    "    #print(len(x))\n",
    "    dico_z_lidur = {}\n",
    "    for z,d in x:\n",
    "        if z not in dico_z_lidur:\n",
    "            dico_z_lidur[z] = []\n",
    "        dico_z_lidur[z].append(d)\n",
    "    #print(dico_z_lidur)\n",
    "    plt.xticks(fontsize=10);    plt.yticks(fontsize=10)\n",
    "    for z, li_dur in dico_z_lidur.items():\n",
    "        plt.hist(li_dur,bins='auto') #auto\n",
    "        plt.title('histogram of duration of zone z from mvt z-n,z,z+n '+str(z), size=13)\n",
    "    plt.show()"
   ]
  },
  {
   "cell_type": "code",
   "execution_count": 8,
   "metadata": {
    "scrolled": true
   },
   "outputs": [
    {
     "name": "stdout",
     "output_type": "stream",
     "text": [
      "dict_keys(['zone_4', 'zone_5', 'zone_3', 'zone_2', 'zone_1'])\n"
     ]
    },
    {
     "data": {
      "image/png": "[encoded data removed]",
      "text/plain": [
       "<Figure size 432x288 with 1 Axes>"
      ]
     },
     "metadata": {
      "needs_background": "light"
     },
     "output_type": "display_data"
    },
    {
     "data": {
      "image/png": "[encoded data removed]",
      "text/plain": [
       "<Figure size 432x288 with 1 Axes>"
      ]
     },
     "metadata": {
      "needs_background": "light"
     },
     "output_type": "display_data"
    },
    {
     "data": {
      "image/png": "[encoded data removed]",
      "text/plain": [
       "<Figure size 432x288 with 1 Axes>"
      ]
     },
     "metadata": {
      "needs_background": "light"
     },
     "output_type": "display_data"
    },
    {
     "data": {
      "image/png": "[encoded data removed]",
      "text/plain": [
       "<Figure size 432x288 with 1 Axes>"
      ]
     },
     "metadata": {
      "needs_background": "light"
     },
     "output_type": "display_data"
    },
    {
     "data": {
      "image/png": "[encoded data removed]",
      "text/plain": [
       "<Figure size 432x288 with 1 Axes>"
      ]
     },
     "metadata": {
      "needs_background": "light"
     },
     "output_type": "display_data"
    }
   ],
   "source": [
    "#plot the histogram of duration per zone. useless\n",
    "li_x = []\n",
    "for i in range(df_daily.shape[0]):\n",
    "    x = df_daily['li_event_chaoticmvt_z_d'].iloc[i]\n",
    "    li_x.extend([i for i in x if i[0]!=None])\n",
    "    dico_z_lidur = {}\n",
    "for z,d in li_x:\n",
    "    if z not in dico_z_lidur:\n",
    "        dico_z_lidur[z] = []\n",
    "    dico_z_lidur[z].append(d)\n",
    "print(dico_z_lidur.keys())\n",
    "#print(dico_z_lidur)\n",
    "for z, li_dur in dico_z_lidur.items():\n",
    "    plt.xticks(fontsize=10);    plt.yticks(fontsize=10)\n",
    "    plt.hist(li_dur,bins='auto')\n",
    "    plt.title('histogram of duration of zone z from mvt z-n,z,z+n '+str(z), size=13)\n",
    "    plt.show()"
   ]
  },
  {
   "cell_type": "code",
   "execution_count": 9,
   "metadata": {},
   "outputs": [
    {
     "data": {
      "image/png": "[encoded data removed]",
      "text/plain": [
       "<Figure size 432x288 with 1 Axes>"
      ]
     },
     "metadata": {
      "needs_background": "light"
     },
     "output_type": "display_data"
    }
   ],
   "source": [
    "#boplot of percentage of skiping zone mvt, per hen. not good as almost only 0\n",
    "plt.xticks(fontsize=7,rotation=90)\n",
    "plt.yticks(fontsize=10)\n",
    "#df_daily.groupby('HenID')['up_missingZone_mvtPerc'].agg(lambda x: list(x)).reset_index()\n",
    "sns.boxplot(x='HenID', y='down_missingZone_mvtPerc', data=df_daily, hue='level', palette=\"PRGn\");\n",
    "#sns.boxplot(x='HenID', y='up_missingZone_mvtPerc', data=df_daily, hue='level', palette=\"PRGn\");"
   ]
  },
  {
   "cell_type": "code",
   "execution_count": null,
   "metadata": {},
   "outputs": [],
   "source": []
  },
  {
   "cell_type": "code",
   "execution_count": null,
   "metadata": {},
   "outputs": [],
   "source": []
  },
  {
   "cell_type": "code",
   "execution_count": null,
   "metadata": {},
   "outputs": [],
   "source": []
  },
  {
   "cell_type": "code",
   "execution_count": null,
   "metadata": {},
   "outputs": [],
   "source": []
  },
  {
   "cell_type": "code",
   "execution_count": null,
   "metadata": {},
   "outputs": [],
   "source": []
  },
  {
   "cell_type": "code",
   "execution_count": null,
   "metadata": {},
   "outputs": [],
   "source": []
  },
  {
   "cell_type": "code",
   "execution_count": null,
   "metadata": {},
   "outputs": [],
   "source": []
  },
  {
   "cell_type": "code",
   "execution_count": null,
   "metadata": {},
   "outputs": [],
   "source": []
  }
 ],
 "metadata": {
  "kernelspec": {
   "display_name": "Python 3",
   "language": "python",
   "name": "python3"
  },
  "language_info": {
   "codemirror_mode": {
    "name": "ipython",
    "version": 3
   },
   "file_extension": ".py",
   "mimetype": "text/x-python",
   "name": "python",
   "nbconvert_exporter": "python",
   "pygments_lexer": "ipython3",
   "version": "3.6.4"
  }
 },
 "nbformat": 4,
 "nbformat_minor": 2
}
