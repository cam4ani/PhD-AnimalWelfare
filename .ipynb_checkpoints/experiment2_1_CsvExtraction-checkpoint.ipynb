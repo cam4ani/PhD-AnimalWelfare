{
 "cells": [
  {
   "cell_type": "code",
   "execution_count": 1,
   "metadata": {},
   "outputs": [],
   "source": [
    "#basic package\n",
    "import json\n",
    "import tqdm\n",
    "import os\n",
    "import numpy as np\n",
    "import glob\n",
    "import pandas as pd\n",
    "import sys\n",
    "import shutil\n",
    "import time\n",
    "import datetime as dt\n",
    "import itertools\n",
    "import time\n",
    "import re\n",
    "from collections import Counter\n",
    "from collections import defaultdict\n",
    "import operator\n",
    "import math\n",
    "import functools\n",
    "import collections\n",
    "\n",
    "#plot\n",
    "import matplotlib.pyplot as plt\n",
    "import seaborn as sns"
   ]
  },
  {
   "cell_type": "code",
   "execution_count": 2,
   "metadata": {},
   "outputs": [],
   "source": [
    "from UTILS_LK import preprocessing_experiment2, general_cleaning, bining\n",
    "import config_experiment2 as config"
   ]
  },
  {
   "cell_type": "markdown",
   "metadata": {},
   "source": [
    "# Define parameters"
   ]
  },
  {
   "cell_type": "code",
   "execution_count": 3,
   "metadata": {},
   "outputs": [
    {
     "name": "stdout",
     "output_type": "stream",
     "text": [
      "change the configuration file if not done yet!\n",
      "VFGIven2Klara_\n"
     ]
    }
   ],
   "source": [
    "print('change the configuration file if not done yet!')\n",
    "path_extracted_data = config.path_extracted_data\n",
    "id_run = config.id_run\n",
    "dico_matching = config.dico_matching\n",
    "print(id_run)\n",
    "#print('The date that will be removed are: \\n %s'%' \\n '.join([str(d) for d in sorted(config.li_date2remove)]))"
   ]
  },
  {
   "cell_type": "markdown",
   "metadata": {},
   "source": [
    "# Preprocessing"
   ]
  },
  {
   "cell_type": "raw",
   "metadata": {},
   "source": [
    "Preprocessing step which is specific to each experiment, and should create dataframe of same format to be used in the functions"
   ]
  },
  {
   "cell_type": "code",
   "execution_count": 4,
   "metadata": {
    "collapsed": true
   },
   "outputs": [
    {
     "data": {
      "text/html": [
       "<text style=color:black>log: 2019-10-16_113343_2019-11-02_060257csv has </text> <text style=color:green>90531</text> <text style=color:black> rows</text>"
      ],
      "text/plain": [
       "<IPython.core.display.HTML object>"
      ]
     },
     "metadata": {},
     "output_type": "display_data"
    },
    {
     "data": {
      "text/html": [
       "<text style=color:black>log: 2019-10-16_113343_2019-11-20_150252csv has </text> <text style=color:red>61757</text> <text style=color:black> rows</text>"
      ],
      "text/plain": [
       "<IPython.core.display.HTML object>"
      ]
     },
     "metadata": {},
     "output_type": "display_data"
    },
    {
     "name": "stderr",
     "output_type": "stream",
     "text": [
      "C:\\Users\\camil\\Anaconda3\\lib\\site-packages\\IPython\\core\\interactiveshell.py:3263: DtypeWarning: Columns (2) have mixed types.Specify dtype option on import or set low_memory=False.\n",
      "  if (await self.run_code(code, result,  async_=asy)):\n"
     ]
    },
    {
     "data": {
      "text/html": [
       "<text style=color:black>log: 2019-10-16_113343_NAcsv has </text> <text style=color:green>132992</text> <text style=color:black> rows</text>"
      ],
      "text/plain": [
       "<IPython.core.display.HTML object>"
      ]
     },
     "metadata": {},
     "output_type": "display_data"
    },
    {
     "data": {
      "text/html": [
       "<text style=color:black>log: 2019-11-02_060304_2019-11-06_065118csv has </text> <text style=color:green>90898</text> <text style=color:black> rows</text>"
      ],
      "text/plain": [
       "<IPython.core.display.HTML object>"
      ]
     },
     "metadata": {},
     "output_type": "display_data"
    },
    {
     "data": {
      "text/html": [
       "<text style=color:black>log: 2019-11-06_065120_2019-11-10_080707csv has </text> <text style=color:green>92362</text> <text style=color:black> rows</text>"
      ],
      "text/plain": [
       "<IPython.core.display.HTML object>"
      ]
     },
     "metadata": {},
     "output_type": "display_data"
    },
    {
     "data": {
      "text/html": [
       "<text style=color:black>log: 2019-11-10_080709_2019-11-14_104727csv has </text> <text style=color:green>92342</text> <text style=color:black> rows</text>"
      ],
      "text/plain": [
       "<IPython.core.display.HTML object>"
      ]
     },
     "metadata": {},
     "output_type": "display_data"
    },
    {
     "data": {
      "text/html": [
       "<text style=color:black>log: 2019-11-14_104728_2019-11-18_143337csv has </text> <text style=color:green>92568</text> <text style=color:black> rows</text>"
      ],
      "text/plain": [
       "<IPython.core.display.HTML object>"
      ]
     },
     "metadata": {},
     "output_type": "display_data"
    },
    {
     "data": {
      "text/html": [
       "<text style=color:black>log: 2019-11-18_143338_2019-11-20_104245csv has </text> <text style=color:red>40035</text> <text style=color:black> rows</text>"
      ],
      "text/plain": [
       "<IPython.core.display.HTML object>"
      ]
     },
     "metadata": {},
     "output_type": "display_data"
    },
    {
     "data": {
      "text/html": [
       "<text style=color:black>log: 2019-11-18_143338_2019-11-23_100906csv has </text> <text style=color:green>92126</text> <text style=color:black> rows</text>"
      ],
      "text/plain": [
       "<IPython.core.display.HTML object>"
      ]
     },
     "metadata": {},
     "output_type": "display_data"
    },
    {
     "data": {
      "text/html": [
       "<text style=color:black>log: 2019-11-23_100909_2019-11-26_114308csv has </text> <text style=color:green>91969</text> <text style=color:black> rows</text>"
      ],
      "text/plain": [
       "<IPython.core.display.HTML object>"
      ]
     },
     "metadata": {},
     "output_type": "display_data"
    },
    {
     "data": {
      "text/html": [
       "<text style=color:black>log: 2019-11-26_114310_2019-11-30_064923csv has </text> <text style=color:green>91999</text> <text style=color:black> rows</text>"
      ],
      "text/plain": [
       "<IPython.core.display.HTML object>"
      ]
     },
     "metadata": {},
     "output_type": "display_data"
    },
    {
     "data": {
      "text/html": [
       "<text style=color:black>log: 2019-11-30_064927_2019-12-04_103721csv has </text> <text style=color:green>92436</text> <text style=color:black> rows</text>"
      ],
      "text/plain": [
       "<IPython.core.display.HTML object>"
      ]
     },
     "metadata": {},
     "output_type": "display_data"
    },
    {
     "data": {
      "text/html": [
       "<text style=color:black>log: 2019-12-04_103726_2019-12-11_081100csv has </text> <text style=color:green>91184</text> <text style=color:black> rows</text>"
      ],
      "text/plain": [
       "<IPython.core.display.HTML object>"
      ]
     },
     "metadata": {},
     "output_type": "display_data"
    },
    {
     "data": {
      "text/html": [
       "<text style=color:black>log: 2019-12-11_081100_2019-12-15_081547csv has </text> <text style=color:green>91396</text> <text style=color:black> rows</text>"
      ],
      "text/plain": [
       "<IPython.core.display.HTML object>"
      ]
     },
     "metadata": {},
     "output_type": "display_data"
    },
    {
     "data": {
      "text/html": [
       "<text style=color:black>log: 2019-12-15_081557_2019-12-18_204201csv has </text> <text style=color:green>91465</text> <text style=color:black> rows</text>"
      ],
      "text/plain": [
       "<IPython.core.display.HTML object>"
      ]
     },
     "metadata": {},
     "output_type": "display_data"
    },
    {
     "data": {
      "text/html": [
       "<text style=color:black>log: 2019-12-18_204204_2019-12-25_053531csv has </text> <text style=color:green>91376</text> <text style=color:black> rows</text>"
      ],
      "text/plain": [
       "<IPython.core.display.HTML object>"
      ]
     },
     "metadata": {},
     "output_type": "display_data"
    },
    {
     "data": {
      "text/html": [
       "<text style=color:black>log: 2019-12-25_053539_2020-01-08_212919csv has </text> <text style=color:green>90991</text> <text style=color:black> rows</text>"
      ],
      "text/plain": [
       "<IPython.core.display.HTML object>"
      ]
     },
     "metadata": {},
     "output_type": "display_data"
    },
    {
     "data": {
      "text/html": [
       "<text style=color:black>log: 2020-01-08_213158_2020-01-13_060909csv has </text> <text style=color:green>91337</text> <text style=color:black> rows</text>"
      ],
      "text/plain": [
       "<IPython.core.display.HTML object>"
      ]
     },
     "metadata": {},
     "output_type": "display_data"
    },
    {
     "data": {
      "text/html": [
       "<text style=color:black>log: 2020-01-13_060913_2020-01-17_070729csv has </text> <text style=color:green>90697</text> <text style=color:black> rows</text>"
      ],
      "text/plain": [
       "<IPython.core.display.HTML object>"
      ]
     },
     "metadata": {},
     "output_type": "display_data"
    },
    {
     "data": {
      "text/html": [
       "<text style=color:black>log: 2020-01-17_070731_2020-01-23_033255csv has </text> <text style=color:green>90974</text> <text style=color:black> rows</text>"
      ],
      "text/plain": [
       "<IPython.core.display.HTML object>"
      ]
     },
     "metadata": {},
     "output_type": "display_data"
    },
    {
     "data": {
      "text/html": [
       "<text style=color:black>log: 2020-01-23_033302_2020-01-28_062511csv has </text> <text style=color:green>92707</text> <text style=color:black> rows</text>"
      ],
      "text/plain": [
       "<IPython.core.display.HTML object>"
      ]
     },
     "metadata": {},
     "output_type": "display_data"
    },
    {
     "data": {
      "text/html": [
       "<text style=color:black>log: 2020-01-28_062528_2020-02-03_161557csv has </text> <text style=color:green>91249</text> <text style=color:black> rows</text>"
      ],
      "text/plain": [
       "<IPython.core.display.HTML object>"
      ]
     },
     "metadata": {},
     "output_type": "display_data"
    },
    {
     "data": {
      "text/html": [
       "<text style=color:black>log: 2020-02-03_161601_2020-02-07_132613csv has </text> <text style=color:green>90859</text> <text style=color:black> rows</text>"
      ],
      "text/plain": [
       "<IPython.core.display.HTML object>"
      ]
     },
     "metadata": {},
     "output_type": "display_data"
    },
    {
     "data": {
      "text/html": [
       "<text style=color:black>log: 2020-02-07_132621_2020-02-11_145349csv has </text> <text style=color:green>91556</text> <text style=color:black> rows</text>"
      ],
      "text/plain": [
       "<IPython.core.display.HTML object>"
      ]
     },
     "metadata": {},
     "output_type": "display_data"
    },
    {
     "data": {
      "text/html": [
       "<text style=color:black>log: 2020-02-11_145350_2020-02-15_093404csv has </text> <text style=color:green>91901</text> <text style=color:black> rows</text>"
      ],
      "text/plain": [
       "<IPython.core.display.HTML object>"
      ]
     },
     "metadata": {},
     "output_type": "display_data"
    },
    {
     "data": {
      "text/html": [
       "<text style=color:black>log: 2020-02-15_093405_2020-02-18_161558csv has </text> <text style=color:green>91710</text> <text style=color:black> rows</text>"
      ],
      "text/plain": [
       "<IPython.core.display.HTML object>"
      ]
     },
     "metadata": {},
     "output_type": "display_data"
    },
    {
     "data": {
      "text/html": [
       "<text style=color:black>log: 2020-02-18_161603_2020-02-22_073616csv has </text> <text style=color:green>90915</text> <text style=color:black> rows</text>"
      ],
      "text/plain": [
       "<IPython.core.display.HTML object>"
      ]
     },
     "metadata": {},
     "output_type": "display_data"
    },
    {
     "data": {
      "text/html": [
       "<text style=color:black>log: 2020-02-22_073618_2020-02-26_020613csv has </text> <text style=color:green>91544</text> <text style=color:black> rows</text>"
      ],
      "text/plain": [
       "<IPython.core.display.HTML object>"
      ]
     },
     "metadata": {},
     "output_type": "display_data"
    },
    {
     "data": {
      "text/html": [
       "<text style=color:black>log: 2020-02-26_020615_2020-02-29_083625csv has </text> <text style=color:green>91592</text> <text style=color:black> rows</text>"
      ],
      "text/plain": [
       "<IPython.core.display.HTML object>"
      ]
     },
     "metadata": {},
     "output_type": "display_data"
    },
    {
     "data": {
      "text/html": [
       "<text style=color:black>log: 2020-02-29_083632_2020-03-04_062628csv has </text> <text style=color:green>91971</text> <text style=color:black> rows</text>"
      ],
      "text/plain": [
       "<IPython.core.display.HTML object>"
      ]
     },
     "metadata": {},
     "output_type": "display_data"
    },
    {
     "data": {
      "text/html": [
       "<text style=color:black>log: 2020-03-04_062629_2020-03-07_164641csv has </text> <text style=color:green>91871</text> <text style=color:black> rows</text>"
      ],
      "text/plain": [
       "<IPython.core.display.HTML object>"
      ]
     },
     "metadata": {},
     "output_type": "display_data"
    },
    {
     "data": {
      "text/html": [
       "<text style=color:black>log: 2020-03-07_164644_2020-03-11_144631csv has </text> <text style=color:green>91808</text> <text style=color:black> rows</text>"
      ],
      "text/plain": [
       "<IPython.core.display.HTML object>"
      ]
     },
     "metadata": {},
     "output_type": "display_data"
    },
    {
     "data": {
      "text/html": [
       "<text style=color:black>log: 2020-03-11_144631_2020-03-15_050732csv has </text> <text style=color:green>91552</text> <text style=color:black> rows</text>"
      ],
      "text/plain": [
       "<IPython.core.display.HTML object>"
      ]
     },
     "metadata": {},
     "output_type": "display_data"
    },
    {
     "data": {
      "text/html": [
       "<text style=color:black>log: 2020-03-15_050735_2020-03-18_161946csv has </text> <text style=color:green>91574</text> <text style=color:black> rows</text>"
      ],
      "text/plain": [
       "<IPython.core.display.HTML object>"
      ]
     },
     "metadata": {},
     "output_type": "display_data"
    },
    {
     "data": {
      "text/html": [
       "<text style=color:black>log: 2020-03-18_161954_2020-03-22_162212csv has </text> <text style=color:green>91218</text> <text style=color:black> rows</text>"
      ],
      "text/plain": [
       "<IPython.core.display.HTML object>"
      ]
     },
     "metadata": {},
     "output_type": "display_data"
    },
    {
     "data": {
      "text/html": [
       "<text style=color:black>log: 2020-03-22_162213_2020-03-26_160229csv has </text> <text style=color:green>90760</text> <text style=color:black> rows</text>"
      ],
      "text/plain": [
       "<IPython.core.display.HTML object>"
      ]
     },
     "metadata": {},
     "output_type": "display_data"
    },
    {
     "data": {
      "text/html": [
       "<text style=color:black>log: 2020-03-26_160229_2020-03-31_053449csv has </text> <text style=color:green>90736</text> <text style=color:black> rows</text>"
      ],
      "text/plain": [
       "<IPython.core.display.HTML object>"
      ]
     },
     "metadata": {},
     "output_type": "display_data"
    },
    {
     "data": {
      "text/html": [
       "<text style=color:black>log: 2020-03-31_053507_2020-04-04_085107csv has </text> <text style=color:green>90810</text> <text style=color:black> rows</text>"
      ],
      "text/plain": [
       "<IPython.core.display.HTML object>"
      ]
     },
     "metadata": {},
     "output_type": "display_data"
    },
    {
     "data": {
      "text/html": [
       "<text style=color:black>log: 2020-04-04_085110_2020-04-08_041323csv has </text> <text style=color:green>90469</text> <text style=color:black> rows</text>"
      ],
      "text/plain": [
       "<IPython.core.display.HTML object>"
      ]
     },
     "metadata": {},
     "output_type": "display_data"
    },
    {
     "data": {
      "text/html": [
       "<text style=color:black>log: 2020-04-08_041328_2020-04-11_163945csv has </text> <text style=color:green>90328</text> <text style=color:black> rows</text>"
      ],
      "text/plain": [
       "<IPython.core.display.HTML object>"
      ]
     },
     "metadata": {},
     "output_type": "display_data"
    },
    {
     "data": {
      "text/html": [
       "<text style=color:black>log: 2020-04-11_163946_2020-04-15_164203csv has </text> <text style=color:green>90867</text> <text style=color:black> rows</text>"
      ],
      "text/plain": [
       "<IPython.core.display.HTML object>"
      ]
     },
     "metadata": {},
     "output_type": "display_data"
    },
    {
     "data": {
      "text/html": [
       "<text style=color:black>log: 2020-04-15_164205_2020-04-19_215418csv has </text> <text style=color:green>90250</text> <text style=color:black> rows</text>"
      ],
      "text/plain": [
       "<IPython.core.display.HTML object>"
      ]
     },
     "metadata": {},
     "output_type": "display_data"
    },
    {
     "data": {
      "text/html": [
       "<text style=color:black>log: 2020-04-19_215429_2020-04-23_213636csv has </text> <text style=color:green>90477</text> <text style=color:black> rows</text>"
      ],
      "text/plain": [
       "<IPython.core.display.HTML object>"
      ]
     },
     "metadata": {},
     "output_type": "display_data"
    },
    {
     "data": {
      "text/html": [
       "<text style=color:black>log: 2020-04-23_213649_2020-04-27_110908csv has </text> <text style=color:green>90379</text> <text style=color:black> rows</text>"
      ],
      "text/plain": [
       "<IPython.core.display.HTML object>"
      ]
     },
     "metadata": {},
     "output_type": "display_data"
    },
    {
     "data": {
      "text/html": [
       "<text style=color:black>log: 2020-04-27_110910_2020-04-30_222525csv has </text> <text style=color:green>90529</text> <text style=color:black> rows</text>"
      ],
      "text/plain": [
       "<IPython.core.display.HTML object>"
      ]
     },
     "metadata": {},
     "output_type": "display_data"
    },
    {
     "data": {
      "text/html": [
       "<text style=color:black>log: 2020-04-30_222529_2020-05-04_165544csv has </text> <text style=color:green>90997</text> <text style=color:black> rows</text>"
      ],
      "text/plain": [
       "<IPython.core.display.HTML object>"
      ]
     },
     "metadata": {},
     "output_type": "display_data"
    },
    {
     "data": {
      "text/html": [
       "<text style=color:black>log: 2020-05-04_165546_2020-05-08_075558csv has </text> <text style=color:green>89100</text> <text style=color:black> rows</text>"
      ],
      "text/plain": [
       "<IPython.core.display.HTML object>"
      ]
     },
     "metadata": {},
     "output_type": "display_data"
    },
    {
     "data": {
      "text/html": [
       "<text style=color:black>log: 2020-05-08_075607_2020-05-11_151624csv has </text> <text style=color:green>90680</text> <text style=color:black> rows</text>"
      ],
      "text/plain": [
       "<IPython.core.display.HTML object>"
      ]
     },
     "metadata": {},
     "output_type": "display_data"
    },
    {
     "data": {
      "text/html": [
       "<text style=color:black>log: 2020-05-11_151627_2020-05-15_050044csv has </text> <text style=color:green>90602</text> <text style=color:black> rows</text>"
      ],
      "text/plain": [
       "<IPython.core.display.HTML object>"
      ]
     },
     "metadata": {},
     "output_type": "display_data"
    },
    {
     "data": {
      "text/html": [
       "<text style=color:black>log: 2020-05-15_050048_2020-05-21_035517csv has </text> <text style=color:green>90988</text> <text style=color:black> rows</text>"
      ],
      "text/plain": [
       "<IPython.core.display.HTML object>"
      ]
     },
     "metadata": {},
     "output_type": "display_data"
    },
    {
     "data": {
      "text/html": [
       "<text style=color:black>log: 2020-05-21_035529_2020-05-26_110308csv has </text> <text style=color:green>90995</text> <text style=color:black> rows</text>"
      ],
      "text/plain": [
       "<IPython.core.display.HTML object>"
      ]
     },
     "metadata": {},
     "output_type": "display_data"
    },
    {
     "data": {
      "text/html": [
       "<text style=color:black>log: 2020-05-26_110310_2020-05-30_045338csv has </text> <text style=color:green>90680</text> <text style=color:black> rows</text>"
      ],
      "text/plain": [
       "<IPython.core.display.HTML object>"
      ]
     },
     "metadata": {},
     "output_type": "display_data"
    },
    {
     "data": {
      "text/html": [
       "<text style=color:black>log: 2020-05-30_045349_2020-06-02_152538csv has </text> <text style=color:green>89872</text> <text style=color:black> rows</text>"
      ],
      "text/plain": [
       "<IPython.core.display.HTML object>"
      ]
     },
     "metadata": {},
     "output_type": "display_data"
    },
    {
     "data": {
      "text/html": [
       "<text style=color:black>log: 2020-06-02_152551_2020-06-06_092017csv has </text> <text style=color:green>89747</text> <text style=color:black> rows</text>"
      ],
      "text/plain": [
       "<IPython.core.display.HTML object>"
      ]
     },
     "metadata": {},
     "output_type": "display_data"
    },
    {
     "data": {
      "text/html": [
       "<text style=color:black>log: 2020-06-06_092022_2020-06-10_100427csv has </text> <text style=color:green>90598</text> <text style=color:black> rows</text>"
      ],
      "text/plain": [
       "<IPython.core.display.HTML object>"
      ]
     },
     "metadata": {},
     "output_type": "display_data"
    },
    {
     "data": {
      "text/html": [
       "<text style=color:black>log: 2020-06-10_100429_2020-06-14_034054csv has </text> <text style=color:green>90312</text> <text style=color:black> rows</text>"
      ],
      "text/plain": [
       "<IPython.core.display.HTML object>"
      ]
     },
     "metadata": {},
     "output_type": "display_data"
    },
    {
     "data": {
      "text/html": [
       "<text style=color:black>log: 2020-06-14_034059_2020-06-17_153701csv has </text> <text style=color:green>90720</text> <text style=color:black> rows</text>"
      ],
      "text/plain": [
       "<IPython.core.display.HTML object>"
      ]
     },
     "metadata": {},
     "output_type": "display_data"
    },
    {
     "data": {
      "text/html": [
       "<text style=color:black>log: 2020-06-17_153710_2020-06-22_042508csv has </text> <text style=color:green>91091</text> <text style=color:black> rows</text>"
      ],
      "text/plain": [
       "<IPython.core.display.HTML object>"
      ]
     },
     "metadata": {},
     "output_type": "display_data"
    },
    {
     "data": {
      "text/html": [
       "<text style=color:black>log: 2020-06-22_042513_2020-06-26_051343csv has </text> <text style=color:green>90539</text> <text style=color:black> rows</text>"
      ],
      "text/plain": [
       "<IPython.core.display.HTML object>"
      ]
     },
     "metadata": {},
     "output_type": "display_data"
    },
    {
     "data": {
      "text/html": [
       "<text style=color:black>log: 2020-06-26_051345_2020-06-29_224157csv has </text> <text style=color:green>90387</text> <text style=color:black> rows</text>"
      ],
      "text/plain": [
       "<IPython.core.display.HTML object>"
      ]
     },
     "metadata": {},
     "output_type": "display_data"
    },
    {
     "data": {
      "text/html": [
       "<text style=color:black>log: 2020-06-29_224200_2020-07-03_041421csv has </text> <text style=color:green>89609</text> <text style=color:black> rows</text>"
      ],
      "text/plain": [
       "<IPython.core.display.HTML object>"
      ]
     },
     "metadata": {},
     "output_type": "display_data"
    },
    {
     "data": {
      "text/html": [
       "<text style=color:black>log: 2020-07-03_041425_2020-07-06_001438csv has </text> <text style=color:green>91106</text> <text style=color:black> rows</text>"
      ],
      "text/plain": [
       "<IPython.core.display.HTML object>"
      ]
     },
     "metadata": {},
     "output_type": "display_data"
    },
    {
     "data": {
      "text/html": [
       "<text style=color:black>log: 2020-07-06_001442_2020-07-08_135638csv has </text> <text style=color:green>92854</text> <text style=color:black> rows</text>"
      ],
      "text/plain": [
       "<IPython.core.display.HTML object>"
      ]
     },
     "metadata": {},
     "output_type": "display_data"
    },
    {
     "data": {
      "text/html": [
       "<text style=color:black>log: 2020-07-08_135641_2020-07-12_020704csv has </text> <text style=color:green>91241</text> <text style=color:black> rows</text>"
      ],
      "text/plain": [
       "<IPython.core.display.HTML object>"
      ]
     },
     "metadata": {},
     "output_type": "display_data"
    },
    {
     "data": {
      "text/html": [
       "<text style=color:black>log: 2020-07-12_020706_2020-07-15_054030csv has </text> <text style=color:green>90509</text> <text style=color:black> rows</text>"
      ],
      "text/plain": [
       "<IPython.core.display.HTML object>"
      ]
     },
     "metadata": {},
     "output_type": "display_data"
    },
    {
     "data": {
      "text/html": [
       "<text style=color:black>log: 2020-07-15_054035_2020-07-19_041254csv has </text> <text style=color:green>89948</text> <text style=color:black> rows</text>"
      ],
      "text/plain": [
       "<IPython.core.display.HTML object>"
      ]
     },
     "metadata": {},
     "output_type": "display_data"
    },
    {
     "data": {
      "text/html": [
       "<text style=color:black>log: 2020-07-19_041255_2020-07-22_112333csv has </text> <text style=color:green>82332</text> <text style=color:black> rows</text>"
      ],
      "text/plain": [
       "<IPython.core.display.HTML object>"
      ]
     },
     "metadata": {},
     "output_type": "display_data"
    },
    {
     "data": {
      "text/html": [
       "<text style=color:black>log: 2019-10-16_151518_NAcsv has </text> <text style=color:green>138066</text> <text style=color:black> rows</text>"
      ],
      "text/plain": [
       "<IPython.core.display.HTML object>"
      ]
     },
     "metadata": {},
     "output_type": "display_data"
    },
    {
     "data": {
      "text/html": [
       "<text style=color:black>log: 2019-11-04_051012_2019-11-08_150549csv has </text> <text style=color:green>104341</text> <text style=color:black> rows</text>"
      ],
      "text/plain": [
       "<IPython.core.display.HTML object>"
      ]
     },
     "metadata": {},
     "output_type": "display_data"
    },
    {
     "data": {
      "text/html": [
       "<text style=color:black>log: 2019-11-08_150552_2019-11-13_075957csv has </text> <text style=color:green>104867</text> <text style=color:black> rows</text>"
      ],
      "text/plain": [
       "<IPython.core.display.HTML object>"
      ]
     },
     "metadata": {},
     "output_type": "display_data"
    },
    {
     "data": {
      "text/html": [
       "<text style=color:black>log: 2019-11-13_075958_2019-11-18_061800csv has </text> <text style=color:green>104349</text> <text style=color:black> rows</text>"
      ],
      "text/plain": [
       "<IPython.core.display.HTML object>"
      ]
     },
     "metadata": {},
     "output_type": "display_data"
    },
    {
     "data": {
      "text/html": [
       "<text style=color:black>log: 2019-11-18_061802_2019-11-23_014638csv has </text> <text style=color:green>104583</text> <text style=color:black> rows</text>"
      ],
      "text/plain": [
       "<IPython.core.display.HTML object>"
      ]
     },
     "metadata": {},
     "output_type": "display_data"
    },
    {
     "data": {
      "text/html": [
       "<text style=color:black>log: 2019-11-23_015326_2019-11-27_130644csv has </text> <text style=color:green>104493</text> <text style=color:black> rows</text>"
      ],
      "text/plain": [
       "<IPython.core.display.HTML object>"
      ]
     },
     "metadata": {},
     "output_type": "display_data"
    },
    {
     "data": {
      "text/html": [
       "<text style=color:black>log: 2019-11-27_130655_2019-12-02_114550csv has </text> <text style=color:green>104686</text> <text style=color:black> rows</text>"
      ],
      "text/plain": [
       "<IPython.core.display.HTML object>"
      ]
     },
     "metadata": {},
     "output_type": "display_data"
    },
    {
     "data": {
      "text/html": [
       "<text style=color:black>log: 2019-12-02_114601_2019-12-08_151152csv has </text> <text style=color:green>105155</text> <text style=color:black> rows</text>"
      ],
      "text/plain": [
       "<IPython.core.display.HTML object>"
      ]
     },
     "metadata": {},
     "output_type": "display_data"
    },
    {
     "data": {
      "text/html": [
       "<text style=color:black>log: 2019-12-08_151154_2019-12-13_043620csv has </text> <text style=color:green>104279</text> <text style=color:black> rows</text>"
      ],
      "text/plain": [
       "<IPython.core.display.HTML object>"
      ]
     },
     "metadata": {},
     "output_type": "display_data"
    },
    {
     "data": {
      "text/html": [
       "<text style=color:black>log: 2019-12-13_043625_2019-12-17_061024csv has </text> <text style=color:green>104659</text> <text style=color:black> rows</text>"
      ],
      "text/plain": [
       "<IPython.core.display.HTML object>"
      ]
     },
     "metadata": {},
     "output_type": "display_data"
    },
    {
     "data": {
      "text/html": [
       "<text style=color:black>log: 2019-12-17_061028_2019-12-20_194227csv has </text> <text style=color:green>104846</text> <text style=color:black> rows</text>"
      ],
      "text/plain": [
       "<IPython.core.display.HTML object>"
      ]
     },
     "metadata": {},
     "output_type": "display_data"
    },
    {
     "data": {
      "text/html": [
       "<text style=color:black>log: 2019-12-20_194248_2020-01-06_080513csv has </text> <text style=color:green>106416</text> <text style=color:black> rows</text>"
      ],
      "text/plain": [
       "<IPython.core.display.HTML object>"
      ]
     },
     "metadata": {},
     "output_type": "display_data"
    },
    {
     "data": {
      "text/html": [
       "<text style=color:black>log: 2020-01-06_080517_2020-01-10_094308csv has </text> <text style=color:green>104648</text> <text style=color:black> rows</text>"
      ],
      "text/plain": [
       "<IPython.core.display.HTML object>"
      ]
     },
     "metadata": {},
     "output_type": "display_data"
    },
    {
     "data": {
      "text/html": [
       "<text style=color:black>log: 2020-01-10_094312_2020-01-14_095513csv has </text> <text style=color:green>104502</text> <text style=color:black> rows</text>"
      ],
      "text/plain": [
       "<IPython.core.display.HTML object>"
      ]
     },
     "metadata": {},
     "output_type": "display_data"
    },
    {
     "data": {
      "text/html": [
       "<text style=color:black>log: 2020-01-14_095518_2020-01-18_051929csv has </text> <text style=color:green>104678</text> <text style=color:black> rows</text>"
      ],
      "text/plain": [
       "<IPython.core.display.HTML object>"
      ]
     },
     "metadata": {},
     "output_type": "display_data"
    },
    {
     "data": {
      "text/html": [
       "<text style=color:black>log: 2020-01-18_051934_2020-01-22_122138csv has </text> <text style=color:green>105105</text> <text style=color:black> rows</text>"
      ],
      "text/plain": [
       "<IPython.core.display.HTML object>"
      ]
     },
     "metadata": {},
     "output_type": "display_data"
    },
    {
     "data": {
      "text/html": [
       "<text style=color:black>log: 2020-01-22_122147_2020-01-27_120710csv has </text> <text style=color:red>57626</text> <text style=color:black> rows</text>"
      ],
      "text/plain": [
       "<IPython.core.display.HTML object>"
      ]
     },
     "metadata": {},
     "output_type": "display_data"
    },
    {
     "data": {
      "text/html": [
       "<text style=color:black>log: 2020-01-22_122147_2020-01-28_091933csv has </text> <text style=color:red>68515</text> <text style=color:black> rows</text>"
      ],
      "text/plain": [
       "<IPython.core.display.HTML object>"
      ]
     },
     "metadata": {},
     "output_type": "display_data"
    },
    {
     "data": {
      "text/html": [
       "<text style=color:black>log: 2020-01-28_091942_2020-02-04_141148csv has </text> <text style=color:green>105025</text> <text style=color:black> rows</text>"
      ],
      "text/plain": [
       "<IPython.core.display.HTML object>"
      ]
     },
     "metadata": {},
     "output_type": "display_data"
    },
    {
     "data": {
      "text/html": [
       "<text style=color:black>log: 2020-02-04_141202_2020-02-08_095413csv has </text> <text style=color:green>105740</text> <text style=color:black> rows</text>"
      ],
      "text/plain": [
       "<IPython.core.display.HTML object>"
      ]
     },
     "metadata": {},
     "output_type": "display_data"
    },
    {
     "data": {
      "text/html": [
       "<text style=color:black>log: 2020-02-08_095417_2020-02-12_024945csv has </text> <text style=color:green>103897</text> <text style=color:black> rows</text>"
      ],
      "text/plain": [
       "<IPython.core.display.HTML object>"
      ]
     },
     "metadata": {},
     "output_type": "display_data"
    },
    {
     "data": {
      "text/html": [
       "<text style=color:black>log: 2020-02-12_024946_2020-02-16_053949csv has </text> <text style=color:green>104985</text> <text style=color:black> rows</text>"
      ],
      "text/plain": [
       "<IPython.core.display.HTML object>"
      ]
     },
     "metadata": {},
     "output_type": "display_data"
    },
    {
     "data": {
      "text/html": [
       "<text style=color:black>log: 2020-02-16_053952_2020-02-20_042437csv has </text> <text style=color:green>105233</text> <text style=color:black> rows</text>"
      ],
      "text/plain": [
       "<IPython.core.display.HTML object>"
      ]
     },
     "metadata": {},
     "output_type": "display_data"
    },
    {
     "data": {
      "text/html": [
       "<text style=color:black>log: 2020-02-20_042438_2020-02-24_030048csv has </text> <text style=color:green>106194</text> <text style=color:black> rows</text>"
      ],
      "text/plain": [
       "<IPython.core.display.HTML object>"
      ]
     },
     "metadata": {},
     "output_type": "display_data"
    },
    {
     "data": {
      "text/html": [
       "<text style=color:black>log: 2020-02-24_030051_2020-02-27_104454csv has </text> <text style=color:green>105395</text> <text style=color:black> rows</text>"
      ],
      "text/plain": [
       "<IPython.core.display.HTML object>"
      ]
     },
     "metadata": {},
     "output_type": "display_data"
    },
    {
     "data": {
      "text/html": [
       "<text style=color:black>log: 2020-02-27_104508_2020-03-01_154907csv has </text> <text style=color:green>106092</text> <text style=color:black> rows</text>"
      ],
      "text/plain": [
       "<IPython.core.display.HTML object>"
      ]
     },
     "metadata": {},
     "output_type": "display_data"
    },
    {
     "data": {
      "text/html": [
       "<text style=color:black>log: 2020-03-01_154910_2020-03-05_083926csv has </text> <text style=color:green>105947</text> <text style=color:black> rows</text>"
      ],
      "text/plain": [
       "<IPython.core.display.HTML object>"
      ]
     },
     "metadata": {},
     "output_type": "display_data"
    },
    {
     "data": {
      "text/html": [
       "<text style=color:black>log: 2020-03-05_083929_2020-03-09_084929csv has </text> <text style=color:green>105948</text> <text style=color:black> rows</text>"
      ],
      "text/plain": [
       "<IPython.core.display.HTML object>"
      ]
     },
     "metadata": {},
     "output_type": "display_data"
    },
    {
     "data": {
      "text/html": [
       "<text style=color:black>log: 2020-03-09_084938_2020-03-13_034339csv has </text> <text style=color:green>105634</text> <text style=color:black> rows</text>"
      ],
      "text/plain": [
       "<IPython.core.display.HTML object>"
      ]
     },
     "metadata": {},
     "output_type": "display_data"
    },
    {
     "data": {
      "text/html": [
       "<text style=color:black>log: 2020-03-13_034342_2020-03-17_021031csv has </text> <text style=color:green>105824</text> <text style=color:black> rows</text>"
      ],
      "text/plain": [
       "<IPython.core.display.HTML object>"
      ]
     },
     "metadata": {},
     "output_type": "display_data"
    },
    {
     "data": {
      "text/html": [
       "<text style=color:black>log: 2020-03-17_021032_2020-03-20_102500csv has </text> <text style=color:green>104451</text> <text style=color:black> rows</text>"
      ],
      "text/plain": [
       "<IPython.core.display.HTML object>"
      ]
     },
     "metadata": {},
     "output_type": "display_data"
    },
    {
     "data": {
      "text/html": [
       "<text style=color:black>log: 2020-03-20_102500_2020-03-24_013121csv has </text> <text style=color:green>105212</text> <text style=color:black> rows</text>"
      ],
      "text/plain": [
       "<IPython.core.display.HTML object>"
      ]
     },
     "metadata": {},
     "output_type": "display_data"
    },
    {
     "data": {
      "text/html": [
       "<text style=color:black>log: 2020-03-24_013123_2020-03-25_032827csv has </text> <text style=color:red>36999</text> <text style=color:black> rows</text>"
      ],
      "text/plain": [
       "<IPython.core.display.HTML object>"
      ]
     },
     "metadata": {},
     "output_type": "display_data"
    },
    {
     "data": {
      "text/html": [
       "<text style=color:black>log: 2020-03-24_013123_2020-03-27_073930csv has </text> <text style=color:green>104813</text> <text style=color:black> rows</text>"
      ],
      "text/plain": [
       "<IPython.core.display.HTML object>"
      ]
     },
     "metadata": {},
     "output_type": "display_data"
    },
    {
     "data": {
      "text/html": [
       "<text style=color:black>log: 2020-03-27_073935_2020-03-31_014353csv has </text> <text style=color:green>105563</text> <text style=color:black> rows</text>"
      ],
      "text/plain": [
       "<IPython.core.display.HTML object>"
      ]
     },
     "metadata": {},
     "output_type": "display_data"
    },
    {
     "data": {
      "text/html": [
       "<text style=color:black>log: 2020-03-31_014357_2020-04-03_074809csv has </text> <text style=color:green>104817</text> <text style=color:black> rows</text>"
      ],
      "text/plain": [
       "<IPython.core.display.HTML object>"
      ]
     },
     "metadata": {},
     "output_type": "display_data"
    },
    {
     "data": {
      "text/html": [
       "<text style=color:black>log: 2020-04-03_074815_2020-04-06_162430csv has </text> <text style=color:green>105311</text> <text style=color:black> rows</text>"
      ],
      "text/plain": [
       "<IPython.core.display.HTML object>"
      ]
     },
     "metadata": {},
     "output_type": "display_data"
    },
    {
     "data": {
      "text/html": [
       "<text style=color:black>log: 2020-04-06_162432_2020-04-09_213225csv has </text> <text style=color:green>104811</text> <text style=color:black> rows</text>"
      ],
      "text/plain": [
       "<IPython.core.display.HTML object>"
      ]
     },
     "metadata": {},
     "output_type": "display_data"
    },
    {
     "data": {
      "text/html": [
       "<text style=color:black>log: 2020-04-09_213253_2020-04-13_052908csv has </text> <text style=color:green>104745</text> <text style=color:black> rows</text>"
      ],
      "text/plain": [
       "<IPython.core.display.HTML object>"
      ]
     },
     "metadata": {},
     "output_type": "display_data"
    },
    {
     "data": {
      "text/html": [
       "<text style=color:black>log: 2020-04-13_052913_2020-04-16_142121csv has </text> <text style=color:green>104730</text> <text style=color:black> rows</text>"
      ],
      "text/plain": [
       "<IPython.core.display.HTML object>"
      ]
     },
     "metadata": {},
     "output_type": "display_data"
    },
    {
     "data": {
      "text/html": [
       "<text style=color:black>log: 2020-04-16_142125_2020-04-20_085941csv has </text> <text style=color:green>105308</text> <text style=color:black> rows</text>"
      ],
      "text/plain": [
       "<IPython.core.display.HTML object>"
      ]
     },
     "metadata": {},
     "output_type": "display_data"
    },
    {
     "data": {
      "text/html": [
       "<text style=color:black>log: 2020-04-20_085948_2020-04-24_090005csv has </text> <text style=color:green>104759</text> <text style=color:black> rows</text>"
      ],
      "text/plain": [
       "<IPython.core.display.HTML object>"
      ]
     },
     "metadata": {},
     "output_type": "display_data"
    },
    {
     "data": {
      "text/html": [
       "<text style=color:black>log: 2020-04-24_090006_2020-04-28_015628csv has </text> <text style=color:green>104788</text> <text style=color:black> rows</text>"
      ],
      "text/plain": [
       "<IPython.core.display.HTML object>"
      ]
     },
     "metadata": {},
     "output_type": "display_data"
    },
    {
     "data": {
      "text/html": [
       "<text style=color:black>log: 2020-04-28_015631_2020-05-01_151445csv has </text> <text style=color:green>104233</text> <text style=color:black> rows</text>"
      ],
      "text/plain": [
       "<IPython.core.display.HTML object>"
      ]
     },
     "metadata": {},
     "output_type": "display_data"
    },
    {
     "data": {
      "text/html": [
       "<text style=color:black>log: 2020-05-01_151448_2020-05-05_215049csv has </text> <text style=color:green>104199</text> <text style=color:black> rows</text>"
      ],
      "text/plain": [
       "<IPython.core.display.HTML object>"
      ]
     },
     "metadata": {},
     "output_type": "display_data"
    },
    {
     "data": {
      "text/html": [
       "<text style=color:black>log: 2020-05-05_215125_2020-05-10_023541csv has </text> <text style=color:green>103505</text> <text style=color:black> rows</text>"
      ],
      "text/plain": [
       "<IPython.core.display.HTML object>"
      ]
     },
     "metadata": {},
     "output_type": "display_data"
    },
    {
     "data": {
      "text/html": [
       "<text style=color:black>log: 2020-05-10_023545_2020-05-13_225400csv has </text> <text style=color:green>104821</text> <text style=color:black> rows</text>"
      ],
      "text/plain": [
       "<IPython.core.display.HTML object>"
      ]
     },
     "metadata": {},
     "output_type": "display_data"
    },
    {
     "data": {
      "text/html": [
       "<text style=color:black>log: 2020-05-13_225451_2020-05-17_174029csv has </text> <text style=color:green>105057</text> <text style=color:black> rows</text>"
      ],
      "text/plain": [
       "<IPython.core.display.HTML object>"
      ]
     },
     "metadata": {},
     "output_type": "display_data"
    },
    {
     "data": {
      "text/html": [
       "<text style=color:black>log: 2020-05-17_174034_2020-05-23_133456csv has </text> <text style=color:green>104766</text> <text style=color:black> rows</text>"
      ],
      "text/plain": [
       "<IPython.core.display.HTML object>"
      ]
     },
     "metadata": {},
     "output_type": "display_data"
    },
    {
     "data": {
      "text/html": [
       "<text style=color:black>log: 2020-05-23_133501_2020-05-29_063923csv has </text> <text style=color:green>104461</text> <text style=color:black> rows</text>"
      ],
      "text/plain": [
       "<IPython.core.display.HTML object>"
      ]
     },
     "metadata": {},
     "output_type": "display_data"
    },
    {
     "data": {
      "text/html": [
       "<text style=color:black>log: 2020-05-29_063925_2020-06-02_065757csv has </text> <text style=color:green>104010</text> <text style=color:black> rows</text>"
      ],
      "text/plain": [
       "<IPython.core.display.HTML object>"
      ]
     },
     "metadata": {},
     "output_type": "display_data"
    },
    {
     "data": {
      "text/html": [
       "<text style=color:black>log: 2020-06-02_065802_2020-06-06_050626csv has </text> <text style=color:green>103984</text> <text style=color:black> rows</text>"
      ],
      "text/plain": [
       "<IPython.core.display.HTML object>"
      ]
     },
     "metadata": {},
     "output_type": "display_data"
    },
    {
     "data": {
      "text/html": [
       "<text style=color:black>log: 2020-06-06_050633_2020-06-10_070059csv has </text> <text style=color:green>103770</text> <text style=color:black> rows</text>"
      ],
      "text/plain": [
       "<IPython.core.display.HTML object>"
      ]
     },
     "metadata": {},
     "output_type": "display_data"
    },
    {
     "data": {
      "text/html": [
       "<text style=color:black>log: 2020-06-10_070103_2020-06-14_053720csv has </text> <text style=color:green>104444</text> <text style=color:black> rows</text>"
      ],
      "text/plain": [
       "<IPython.core.display.HTML object>"
      ]
     },
     "metadata": {},
     "output_type": "display_data"
    },
    {
     "data": {
      "text/html": [
       "<text style=color:black>log: 2020-06-14_053731_2020-06-17_185543csv has </text> <text style=color:green>104801</text> <text style=color:black> rows</text>"
      ],
      "text/plain": [
       "<IPython.core.display.HTML object>"
      ]
     },
     "metadata": {},
     "output_type": "display_data"
    },
    {
     "data": {
      "text/html": [
       "<text style=color:black>log: 2020-06-17_185548_2020-06-21_160138csv has </text> <text style=color:green>103934</text> <text style=color:black> rows</text>"
      ],
      "text/plain": [
       "<IPython.core.display.HTML object>"
      ]
     },
     "metadata": {},
     "output_type": "display_data"
    },
    {
     "data": {
      "text/html": [
       "<text style=color:black>log: 2020-06-21_160148_2020-06-25_054606csv has </text> <text style=color:green>105208</text> <text style=color:black> rows</text>"
      ],
      "text/plain": [
       "<IPython.core.display.HTML object>"
      ]
     },
     "metadata": {},
     "output_type": "display_data"
    },
    {
     "data": {
      "text/html": [
       "<text style=color:black>log: 2020-06-25_054609_2020-06-28_151832csv has </text> <text style=color:green>104485</text> <text style=color:black> rows</text>"
      ],
      "text/plain": [
       "<IPython.core.display.HTML object>"
      ]
     },
     "metadata": {},
     "output_type": "display_data"
    },
    {
     "data": {
      "text/html": [
       "<text style=color:black>log: 2020-06-28_151834_2020-07-02_055649csv has </text> <text style=color:green>104418</text> <text style=color:black> rows</text>"
      ],
      "text/plain": [
       "<IPython.core.display.HTML object>"
      ]
     },
     "metadata": {},
     "output_type": "display_data"
    },
    {
     "data": {
      "text/html": [
       "<text style=color:black>log: 2020-07-02_055652_2020-07-05_144709csv has </text> <text style=color:green>104102</text> <text style=color:black> rows</text>"
      ],
      "text/plain": [
       "<IPython.core.display.HTML object>"
      ]
     },
     "metadata": {},
     "output_type": "display_data"
    },
    {
     "data": {
      "text/html": [
       "<text style=color:black>log: 2020-07-05_144718_2020-07-08_222515csv has </text> <text style=color:green>105249</text> <text style=color:black> rows</text>"
      ],
      "text/plain": [
       "<IPython.core.display.HTML object>"
      ]
     },
     "metadata": {},
     "output_type": "display_data"
    },
    {
     "data": {
      "text/html": [
       "<text style=color:black>log: 2020-07-08_222521_2020-07-12_080541csv has </text> <text style=color:green>104797</text> <text style=color:black> rows</text>"
      ],
      "text/plain": [
       "<IPython.core.display.HTML object>"
      ]
     },
     "metadata": {},
     "output_type": "display_data"
    },
    {
     "data": {
      "text/html": [
       "<text style=color:black>log: 2020-07-12_080546_2020-07-15_224153csv has </text> <text style=color:green>104567</text> <text style=color:black> rows</text>"
      ],
      "text/plain": [
       "<IPython.core.display.HTML object>"
      ]
     },
     "metadata": {},
     "output_type": "display_data"
    },
    {
     "data": {
      "text/html": [
       "<text style=color:black>log: 2020-07-15_224155_2020-07-19_055005csv has </text> <text style=color:green>105455</text> <text style=color:black> rows</text>"
      ],
      "text/plain": [
       "<IPython.core.display.HTML object>"
      ]
     },
     "metadata": {},
     "output_type": "display_data"
    },
    {
     "data": {
      "text/html": [
       "<text style=color:black>log: 2020-07-19_055010_2020-07-29_140746csv has </text> <text style=color:red>44315</text> <text style=color:black> rows</text>"
      ],
      "text/plain": [
       "<IPython.core.display.HTML object>"
      ]
     },
     "metadata": {},
     "output_type": "display_data"
    },
    {
     "name": "stdout",
     "output_type": "stream",
     "text": [
      "2020-07-30 23:59:59\n"
     ]
    },
    {
     "name": "stderr",
     "output_type": "stream",
     "text": [
      "C:\\Users\\camil\\Anaconda3\\lib\\site-packages\\pandas\\core\\computation\\expressions.py:68: FutureWarning: elementwise comparison failed; returning scalar instead, but in the future will perform elementwise comparison\n",
      "  return op(a, b)\n",
      "C:\\Users\\camil\\Desktop\\animals_code\\PhD\\UTILS_LK.py:112: FutureWarning: Indexing with multiple keys (implicitly converted to a tuple of keys) will be deprecated, use a list instead.\n",
      "  df_ = df.groupby(['HenID'])['system','PenID','TagID'].agg(lambda x: set(x)).reset_index()\n"
     ]
    },
    {
     "data": {
      "text/html": [
       "<div>\n",
       "<style scoped>\n",
       "    .dataframe tbody tr th:only-of-type {\n",
       "        vertical-align: middle;\n",
       "    }\n",
       "\n",
       "    .dataframe tbody tr th {\n",
       "        vertical-align: top;\n",
       "    }\n",
       "\n",
       "    .dataframe thead th {\n",
       "        text-align: right;\n",
       "    }\n",
       "</style>\n",
       "<table border=\"1\" class=\"dataframe\">\n",
       "  <thead>\n",
       "    <tr style=\"text-align: right;\">\n",
       "      <th></th>\n",
       "      <th>HenID</th>\n",
       "      <th>system</th>\n",
       "      <th>PenID</th>\n",
       "      <th>TagID</th>\n",
       "      <th>nbr_system</th>\n",
       "      <th>li_system</th>\n",
       "      <th>correct_pen</th>\n",
       "    </tr>\n",
       "  </thead>\n",
       "  <tbody>\n",
       "    <tr>\n",
       "      <th>0</th>\n",
       "      <td>1</td>\n",
       "      <td>{10_12}</td>\n",
       "      <td>{10}</td>\n",
       "      <td>{1}</td>\n",
       "      <td>1</td>\n",
       "      <td>[10, 11, 12]</td>\n",
       "      <td>True</td>\n",
       "    </tr>\n",
       "    <tr>\n",
       "      <th>1</th>\n",
       "      <td>2</td>\n",
       "      <td>{3_5}</td>\n",
       "      <td>{5}</td>\n",
       "      <td>{2}</td>\n",
       "      <td>1</td>\n",
       "      <td>[3, 4, 5]</td>\n",
       "      <td>True</td>\n",
       "    </tr>\n",
       "    <tr>\n",
       "      <th>2</th>\n",
       "      <td>3</td>\n",
       "      <td>{10_12}</td>\n",
       "      <td>{10}</td>\n",
       "      <td>{3}</td>\n",
       "      <td>1</td>\n",
       "      <td>[10, 11, 12]</td>\n",
       "      <td>True</td>\n",
       "    </tr>\n",
       "  </tbody>\n",
       "</table>\n",
       "</div>"
      ],
      "text/plain": [
       "   HenID   system PenID TagID  nbr_system     li_system  correct_pen\n",
       "0      1  {10_12}  {10}   {1}           1  [10, 11, 12]         True\n",
       "1      2    {3_5}   {5}   {2}           1     [3, 4, 5]         True\n",
       "2      3  {10_12}  {10}   {3}           1  [10, 11, 12]         True"
      ]
     },
     "metadata": {},
     "output_type": "display_data"
    },
    {
     "name": "stdout",
     "output_type": "stream",
     "text": [
      "2019-10-22 00:00:00\n",
      "lets look at the record only between date 2019-10-22 00:00:00 and 2020-07-29 23:59:59\n",
      "(12453168, 9)\n"
     ]
    },
    {
     "data": {
      "text/html": [
       "<div>\n",
       "<style scoped>\n",
       "    .dataframe tbody tr th:only-of-type {\n",
       "        vertical-align: middle;\n",
       "    }\n",
       "\n",
       "    .dataframe tbody tr th {\n",
       "        vertical-align: top;\n",
       "    }\n",
       "\n",
       "    .dataframe thead th {\n",
       "        text-align: right;\n",
       "    }\n",
       "</style>\n",
       "<table border=\"1\" class=\"dataframe\">\n",
       "  <thead>\n",
       "    <tr style=\"text-align: right;\">\n",
       "      <th></th>\n",
       "      <th>Timestamp</th>\n",
       "      <th>HenID</th>\n",
       "      <th>Zone</th>\n",
       "      <th>PenID</th>\n",
       "      <th>log_file_name</th>\n",
       "      <th>ts_order</th>\n",
       "      <th>TagID</th>\n",
       "      <th>date</th>\n",
       "      <th>time</th>\n",
       "    </tr>\n",
       "  </thead>\n",
       "  <tbody>\n",
       "    <tr>\n",
       "      <th>0</th>\n",
       "      <td>2019-10-22 07:37:52</td>\n",
       "      <td>71</td>\n",
       "      <td>Tier 2 + untere Stange</td>\n",
       "      <td>10</td>\n",
       "      <td>2019-10-16_113343_2019-11-02_060257csv</td>\n",
       "      <td>292</td>\n",
       "      <td>72</td>\n",
       "      <td>2019-10-22</td>\n",
       "      <td>07:37:52</td>\n",
       "    </tr>\n",
       "    <tr>\n",
       "      <th>1</th>\n",
       "      <td>2019-10-22 07:37:52</td>\n",
       "      <td>71</td>\n",
       "      <td>Tier 2 + untere Stange</td>\n",
       "      <td>10</td>\n",
       "      <td>2019-10-16_113343_NAcsv</td>\n",
       "      <td>292</td>\n",
       "      <td>72</td>\n",
       "      <td>2019-10-22</td>\n",
       "      <td>07:37:52</td>\n",
       "    </tr>\n",
       "    <tr>\n",
       "      <th>2</th>\n",
       "      <td>2019-10-22 07:37:52</td>\n",
       "      <td>71</td>\n",
       "      <td>Tier 2 (mini 10)</td>\n",
       "      <td>10</td>\n",
       "      <td>2019-10-16_113343_NAcsv</td>\n",
       "      <td>294</td>\n",
       "      <td>72</td>\n",
       "      <td>2019-10-22</td>\n",
       "      <td>07:37:52</td>\n",
       "    </tr>\n",
       "  </tbody>\n",
       "</table>\n",
       "</div>"
      ],
      "text/plain": [
       "            Timestamp  HenID                    Zone PenID  \\\n",
       "0 2019-10-22 07:37:52     71  Tier 2 + untere Stange    10   \n",
       "1 2019-10-22 07:37:52     71  Tier 2 + untere Stange    10   \n",
       "2 2019-10-22 07:37:52     71        Tier 2 (mini 10)    10   \n",
       "\n",
       "                            log_file_name  ts_order TagID        date  \\\n",
       "0  2019-10-16_113343_2019-11-02_060257csv       292    72  2019-10-22   \n",
       "1                 2019-10-16_113343_NAcsv       292    72  2019-10-22   \n",
       "2                 2019-10-16_113343_NAcsv       294    72  2019-10-22   \n",
       "\n",
       "       time  \n",
       "0  07:37:52  \n",
       "1  07:37:52  \n",
       "2  07:37:52  "
      ]
     },
     "metadata": {},
     "output_type": "display_data"
    },
    {
     "data": {
      "text/html": [
       "<div>\n",
       "<style scoped>\n",
       "    .dataframe tbody tr th:only-of-type {\n",
       "        vertical-align: middle;\n",
       "    }\n",
       "\n",
       "    .dataframe tbody tr th {\n",
       "        vertical-align: top;\n",
       "    }\n",
       "\n",
       "    .dataframe thead th {\n",
       "        text-align: right;\n",
       "    }\n",
       "</style>\n",
       "<table border=\"1\" class=\"dataframe\">\n",
       "  <thead>\n",
       "    <tr style=\"text-align: right;\">\n",
       "      <th></th>\n",
       "      <th>Timestamp</th>\n",
       "      <th>HenID</th>\n",
       "      <th>Zone</th>\n",
       "      <th>PenID</th>\n",
       "      <th>log_file_name</th>\n",
       "      <th>ts_order</th>\n",
       "      <th>TagID</th>\n",
       "      <th>date</th>\n",
       "      <th>time</th>\n",
       "    </tr>\n",
       "  </thead>\n",
       "  <tbody>\n",
       "    <tr>\n",
       "      <th>12453165</th>\n",
       "      <td>2020-07-18 23:59:56</td>\n",
       "      <td>51</td>\n",
       "      <td>Tier 1</td>\n",
       "      <td>3</td>\n",
       "      <td>2020-07-15_224155_2020-07-19_055005csv</td>\n",
       "      <td>98992</td>\n",
       "      <td>52</td>\n",
       "      <td>2020-07-18</td>\n",
       "      <td>23:59:56</td>\n",
       "    </tr>\n",
       "    <tr>\n",
       "      <th>12453166</th>\n",
       "      <td>2020-07-18 23:59:59</td>\n",
       "      <td>82</td>\n",
       "      <td>Tier 4 + obere Stange</td>\n",
       "      <td>11</td>\n",
       "      <td>2020-07-15_054035_2020-07-19_041254csv</td>\n",
       "      <td>84480</td>\n",
       "      <td>83</td>\n",
       "      <td>2020-07-18</td>\n",
       "      <td>23:59:59</td>\n",
       "    </tr>\n",
       "    <tr>\n",
       "      <th>12453167</th>\n",
       "      <td>2020-07-18 23:59:59</td>\n",
       "      <td>8</td>\n",
       "      <td>Tier 4 + obere Stange</td>\n",
       "      <td>12</td>\n",
       "      <td>2020-07-15_054035_2020-07-19_041254csv</td>\n",
       "      <td>84479</td>\n",
       "      <td>8</td>\n",
       "      <td>2020-07-18</td>\n",
       "      <td>23:59:59</td>\n",
       "    </tr>\n",
       "  </tbody>\n",
       "</table>\n",
       "</div>"
      ],
      "text/plain": [
       "                   Timestamp  HenID                   Zone PenID  \\\n",
       "12453165 2020-07-18 23:59:56     51                 Tier 1     3   \n",
       "12453166 2020-07-18 23:59:59     82  Tier 4 + obere Stange    11   \n",
       "12453167 2020-07-18 23:59:59      8  Tier 4 + obere Stange    12   \n",
       "\n",
       "                                   log_file_name  ts_order TagID        date  \\\n",
       "12453165  2020-07-15_224155_2020-07-19_055005csv     98992    52  2020-07-18   \n",
       "12453166  2020-07-15_054035_2020-07-19_041254csv     84480    83  2020-07-18   \n",
       "12453167  2020-07-15_054035_2020-07-19_041254csv     84479     8  2020-07-18   \n",
       "\n",
       "              time  \n",
       "12453165  23:59:56  \n",
       "12453166  23:59:59  \n",
       "12453167  23:59:59  "
      ]
     },
     "metadata": {},
     "output_type": "display_data"
    }
   ],
   "source": [
    "path_initial_data = r'R:\\VPHI\\Welfare\\2- Research Projects\\Laura C-Klara G\\tracking_Data'\n",
    "#Note that as there is no standardize name (i.e. start with log_), we will simply open all csv files. If there is other csv file\n",
    "#it wont work\n",
    "p = glob.glob(os.path.join(path_initial_data,'TagUpdates*_*','*.csv'))\n",
    "#print('There is %d log files:\\n  %s'%(len(p),'  \\n  '.join(p)))\n",
    "path_FocalBird = os.path.join(path_initial_data,'full_tagID_long.xlsx')\n",
    "df = preprocessing_experiment2(p, path_FocalBird, config)\n",
    "print(df.shape)\n",
    "display(df.head(3))\n",
    "display(df.tail(3))"
   ]
  },
  {
   "cell_type": "markdown",
   "metadata": {},
   "source": [
    "# Cleaning"
   ]
  },
  {
   "cell_type": "raw",
   "metadata": {},
   "source": [
    "Now that we will start computing measure and stop looking at single records, lets first clean the dataframe"
   ]
  },
  {
   "cell_type": "markdown",
   "metadata": {},
   "source": [
    "### general cleaning (adding ms)"
   ]
  },
  {
   "cell_type": "code",
   "execution_count": 5,
   "metadata": {},
   "outputs": [
    {
     "name": "stderr",
     "output_type": "stream",
     "text": [
      "C:\\Users\\camil\\Anaconda3\\lib\\site-packages\\numpy\\lib\\arraysetops.py:580: FutureWarning: elementwise comparison failed; returning scalar instead, but in the future will perform elementwise comparison\n",
      "  mask |= (ar1 == a)\n"
     ]
    },
    {
     "name": "stdout",
     "output_type": "stream",
     "text": [
      "(12453168, 9)\n"
     ]
    },
    {
     "data": {
      "text/html": [
       "<div>\n",
       "<style scoped>\n",
       "    .dataframe tbody tr th:only-of-type {\n",
       "        vertical-align: middle;\n",
       "    }\n",
       "\n",
       "    .dataframe tbody tr th {\n",
       "        vertical-align: top;\n",
       "    }\n",
       "\n",
       "    .dataframe thead th {\n",
       "        text-align: right;\n",
       "    }\n",
       "</style>\n",
       "<table border=\"1\" class=\"dataframe\">\n",
       "  <thead>\n",
       "    <tr style=\"text-align: right;\">\n",
       "      <th></th>\n",
       "      <th>Timestamp</th>\n",
       "      <th>HenID</th>\n",
       "      <th>Zone</th>\n",
       "      <th>PenID</th>\n",
       "      <th>log_file_name</th>\n",
       "      <th>ts_order</th>\n",
       "      <th>TagID</th>\n",
       "      <th>date</th>\n",
       "      <th>time</th>\n",
       "    </tr>\n",
       "  </thead>\n",
       "  <tbody>\n",
       "    <tr>\n",
       "      <th>0</th>\n",
       "      <td>2019-10-22 07:37:52</td>\n",
       "      <td>71</td>\n",
       "      <td>Tier 2 + untere Stange</td>\n",
       "      <td>10</td>\n",
       "      <td>2019-10-16_113343_2019-11-02_060257csv</td>\n",
       "      <td>292</td>\n",
       "      <td>72</td>\n",
       "      <td>2019-10-22</td>\n",
       "      <td>07:37:52</td>\n",
       "    </tr>\n",
       "    <tr>\n",
       "      <th>1</th>\n",
       "      <td>2019-10-22 07:37:52</td>\n",
       "      <td>71</td>\n",
       "      <td>Tier 2 + untere Stange</td>\n",
       "      <td>10</td>\n",
       "      <td>2019-10-16_113343_NAcsv</td>\n",
       "      <td>292</td>\n",
       "      <td>72</td>\n",
       "      <td>2019-10-22</td>\n",
       "      <td>07:37:52</td>\n",
       "    </tr>\n",
       "    <tr>\n",
       "      <th>2</th>\n",
       "      <td>2019-10-22 07:37:52</td>\n",
       "      <td>71</td>\n",
       "      <td>Tier 2 (mini 10)</td>\n",
       "      <td>10</td>\n",
       "      <td>2019-10-16_113343_NAcsv</td>\n",
       "      <td>294</td>\n",
       "      <td>72</td>\n",
       "      <td>2019-10-22</td>\n",
       "      <td>07:37:52</td>\n",
       "    </tr>\n",
       "  </tbody>\n",
       "</table>\n",
       "</div>"
      ],
      "text/plain": [
       "            Timestamp  HenID                    Zone  PenID  \\\n",
       "0 2019-10-22 07:37:52     71  Tier 2 + untere Stange     10   \n",
       "1 2019-10-22 07:37:52     71  Tier 2 + untere Stange     10   \n",
       "2 2019-10-22 07:37:52     71        Tier 2 (mini 10)     10   \n",
       "\n",
       "                            log_file_name  ts_order  TagID        date  \\\n",
       "0  2019-10-16_113343_2019-11-02_060257csv       292     72  2019-10-22   \n",
       "1                 2019-10-16_113343_NAcsv       292     72  2019-10-22   \n",
       "2                 2019-10-16_113343_NAcsv       294     72  2019-10-22   \n",
       "\n",
       "       time  \n",
       "0  07:37:52  \n",
       "1  07:37:52  \n",
       "2  07:37:52  "
      ]
     },
     "execution_count": 5,
     "metadata": {},
     "output_type": "execute_result"
    }
   ],
   "source": [
    "#for being more reproductible, we open the file that was saved from cleaning\n",
    "df = pd.read_csv(os.path.join(path_extracted_data, id_run+'_PreprocessRecords.csv'), sep=';', parse_dates=['Timestamp'],\n",
    "                 index_col=0) \n",
    "print(df.shape)\n",
    "df.head(3)"
   ]
  },
  {
   "cell_type": "code",
   "execution_count": 6,
   "metadata": {},
   "outputs": [
    {
     "data": {
      "text/html": [
       "<text style=color:blue>-----------------------------------------------------------------------------------------------</text>"
      ],
      "text/plain": [
       "<IPython.core.display.HTML object>"
      ]
     },
     "metadata": {},
     "output_type": "display_data"
    },
    {
     "data": {
      "text/html": [
       "<text style=color:blue>remove ts_order and add miliseconds.........</text>"
      ],
      "text/plain": [
       "<IPython.core.display.HTML object>"
      ]
     },
     "metadata": {},
     "output_type": "display_data"
    },
    {
     "data": {
      "text/html": [
       "<text style=color:blue>-----------------------------------------------------------------------------------------------</text>"
      ],
      "text/plain": [
       "<IPython.core.display.HTML object>"
      ]
     },
     "metadata": {},
     "output_type": "display_data"
    },
    {
     "name": "stderr",
     "output_type": "stream",
     "text": [
      "100%|████████████████████████████████████████████████████████████████████████████████| 112/112 [10:56<00:00,  5.86s/it]\n"
     ]
    },
    {
     "name": "stdout",
     "output_type": "stream",
     "text": [
      "Total running time: 13.94 mn\n",
      "(12453168, 10)\n"
     ]
    },
    {
     "data": {
      "text/html": [
       "<div>\n",
       "<style scoped>\n",
       "    .dataframe tbody tr th:only-of-type {\n",
       "        vertical-align: middle;\n",
       "    }\n",
       "\n",
       "    .dataframe tbody tr th {\n",
       "        vertical-align: top;\n",
       "    }\n",
       "\n",
       "    .dataframe thead th {\n",
       "        text-align: right;\n",
       "    }\n",
       "</style>\n",
       "<table border=\"1\" class=\"dataframe\">\n",
       "  <thead>\n",
       "    <tr style=\"text-align: right;\">\n",
       "      <th></th>\n",
       "      <th>Timestamp</th>\n",
       "      <th>HenID</th>\n",
       "      <th>Zone</th>\n",
       "      <th>PenID</th>\n",
       "      <th>log_file_name</th>\n",
       "      <th>date</th>\n",
       "      <th>ts_order_logname</th>\n",
       "      <th>ts_order_list</th>\n",
       "      <th>ms</th>\n",
       "      <th>Timestamp_initial</th>\n",
       "    </tr>\n",
       "  </thead>\n",
       "  <tbody>\n",
       "    <tr>\n",
       "      <th>12453165</th>\n",
       "      <td>2020-07-18 23:59:56</td>\n",
       "      <td>hen_51</td>\n",
       "      <td>2 Zone</td>\n",
       "      <td>3</td>\n",
       "      <td>2020-07-15_224155_2020-07-19_055005csv</td>\n",
       "      <td>2020-07-18</td>\n",
       "      <td>2020-07-15_224155_2020-07-19_055005csv_98992</td>\n",
       "      <td>2020-07-15_224155_2020-07-19_055005csv_98992</td>\n",
       "      <td>0.0</td>\n",
       "      <td>2020-07-18 23:59:56</td>\n",
       "    </tr>\n",
       "    <tr>\n",
       "      <th>12453167</th>\n",
       "      <td>2020-07-18 23:59:59</td>\n",
       "      <td>hen_8</td>\n",
       "      <td>5 Zone</td>\n",
       "      <td>12</td>\n",
       "      <td>2020-07-15_054035_2020-07-19_041254csv</td>\n",
       "      <td>2020-07-18</td>\n",
       "      <td>2020-07-15_054035_2020-07-19_041254csv_84479</td>\n",
       "      <td>2020-07-15_054035_2020-07-19_041254csv_84479</td>\n",
       "      <td>0.0</td>\n",
       "      <td>2020-07-18 23:59:59</td>\n",
       "    </tr>\n",
       "    <tr>\n",
       "      <th>12453166</th>\n",
       "      <td>2020-07-18 23:59:59</td>\n",
       "      <td>hen_82</td>\n",
       "      <td>5 Zone</td>\n",
       "      <td>11</td>\n",
       "      <td>2020-07-15_054035_2020-07-19_041254csv</td>\n",
       "      <td>2020-07-18</td>\n",
       "      <td>2020-07-15_054035_2020-07-19_041254csv_84480</td>\n",
       "      <td>2020-07-15_054035_2020-07-19_041254csv_84480</td>\n",
       "      <td>0.0</td>\n",
       "      <td>2020-07-18 23:59:59</td>\n",
       "    </tr>\n",
       "  </tbody>\n",
       "</table>\n",
       "</div>"
      ],
      "text/plain": [
       "                   Timestamp   HenID    Zone PenID  \\\n",
       "12453165 2020-07-18 23:59:56  hen_51  2 Zone     3   \n",
       "12453167 2020-07-18 23:59:59   hen_8  5 Zone    12   \n",
       "12453166 2020-07-18 23:59:59  hen_82  5 Zone    11   \n",
       "\n",
       "                                   log_file_name        date  \\\n",
       "12453165  2020-07-15_224155_2020-07-19_055005csv  2020-07-18   \n",
       "12453167  2020-07-15_054035_2020-07-19_041254csv  2020-07-18   \n",
       "12453166  2020-07-15_054035_2020-07-19_041254csv  2020-07-18   \n",
       "\n",
       "                                      ts_order_logname  \\\n",
       "12453165  2020-07-15_224155_2020-07-19_055005csv_98992   \n",
       "12453167  2020-07-15_054035_2020-07-19_041254csv_84479   \n",
       "12453166  2020-07-15_054035_2020-07-19_041254csv_84480   \n",
       "\n",
       "                                         ts_order_list   ms  \\\n",
       "12453165  2020-07-15_224155_2020-07-19_055005csv_98992  0.0   \n",
       "12453167  2020-07-15_054035_2020-07-19_041254csv_84479  0.0   \n",
       "12453166  2020-07-15_054035_2020-07-19_041254csv_84480  0.0   \n",
       "\n",
       "           Timestamp_initial  \n",
       "12453165 2020-07-18 23:59:56  \n",
       "12453167 2020-07-18 23:59:59  \n",
       "12453166 2020-07-18 23:59:59  "
      ]
     },
     "execution_count": 6,
     "metadata": {},
     "output_type": "execute_result"
    }
   ],
   "source": [
    "#same for each experiment\n",
    "df = general_cleaning(df, config)\n",
    "print(df.shape)\n",
    "df.tail(3)"
   ]
  },
  {
   "cell_type": "markdown",
   "metadata": {},
   "source": [
    "### Binning"
   ]
  },
  {
   "cell_type": "code",
   "execution_count": 4,
   "metadata": {},
   "outputs": [
    {
     "name": "stdout",
     "output_type": "stream",
     "text": [
      "(12453168, 10)\n"
     ]
    },
    {
     "data": {
      "text/html": [
       "<div>\n",
       "<style scoped>\n",
       "    .dataframe tbody tr th:only-of-type {\n",
       "        vertical-align: middle;\n",
       "    }\n",
       "\n",
       "    .dataframe tbody tr th {\n",
       "        vertical-align: top;\n",
       "    }\n",
       "\n",
       "    .dataframe thead th {\n",
       "        text-align: right;\n",
       "    }\n",
       "</style>\n",
       "<table border=\"1\" class=\"dataframe\">\n",
       "  <thead>\n",
       "    <tr style=\"text-align: right;\">\n",
       "      <th></th>\n",
       "      <th>Timestamp</th>\n",
       "      <th>HenID</th>\n",
       "      <th>Zone</th>\n",
       "      <th>PenID</th>\n",
       "      <th>log_file_name</th>\n",
       "      <th>date</th>\n",
       "      <th>ts_order_logname</th>\n",
       "      <th>ts_order_list</th>\n",
       "      <th>ms</th>\n",
       "      <th>Timestamp_initial</th>\n",
       "    </tr>\n",
       "  </thead>\n",
       "  <tbody>\n",
       "    <tr>\n",
       "      <th>12453165</th>\n",
       "      <td>2020-07-18 23:59:56</td>\n",
       "      <td>hen_51</td>\n",
       "      <td>2 Zone</td>\n",
       "      <td>3</td>\n",
       "      <td>2020-07-15_224155_2020-07-19_055005csv</td>\n",
       "      <td>2020-07-18</td>\n",
       "      <td>2020-07-15_224155_2020-07-19_055005csv_98992</td>\n",
       "      <td>2020-07-15_224155_2020-07-19_055005csv_98992</td>\n",
       "      <td>0.0</td>\n",
       "      <td>2020-07-18 23:59:56</td>\n",
       "    </tr>\n",
       "    <tr>\n",
       "      <th>12453166</th>\n",
       "      <td>2020-07-18 23:59:59</td>\n",
       "      <td>hen_8</td>\n",
       "      <td>5 Zone</td>\n",
       "      <td>12</td>\n",
       "      <td>2020-07-15_054035_2020-07-19_041254csv</td>\n",
       "      <td>2020-07-18</td>\n",
       "      <td>2020-07-15_054035_2020-07-19_041254csv_84479</td>\n",
       "      <td>2020-07-15_054035_2020-07-19_041254csv_84479</td>\n",
       "      <td>0.0</td>\n",
       "      <td>2020-07-18 23:59:59</td>\n",
       "    </tr>\n",
       "    <tr>\n",
       "      <th>12453167</th>\n",
       "      <td>2020-07-18 23:59:59</td>\n",
       "      <td>hen_82</td>\n",
       "      <td>5 Zone</td>\n",
       "      <td>11</td>\n",
       "      <td>2020-07-15_054035_2020-07-19_041254csv</td>\n",
       "      <td>2020-07-18</td>\n",
       "      <td>2020-07-15_054035_2020-07-19_041254csv_84480</td>\n",
       "      <td>2020-07-15_054035_2020-07-19_041254csv_84480</td>\n",
       "      <td>0.0</td>\n",
       "      <td>2020-07-18 23:59:59</td>\n",
       "    </tr>\n",
       "  </tbody>\n",
       "</table>\n",
       "</div>"
      ],
      "text/plain": [
       "                   Timestamp   HenID    Zone  PenID  \\\n",
       "12453165 2020-07-18 23:59:56  hen_51  2 Zone      3   \n",
       "12453166 2020-07-18 23:59:59   hen_8  5 Zone     12   \n",
       "12453167 2020-07-18 23:59:59  hen_82  5 Zone     11   \n",
       "\n",
       "                                   log_file_name       date  \\\n",
       "12453165  2020-07-15_224155_2020-07-19_055005csv 2020-07-18   \n",
       "12453166  2020-07-15_054035_2020-07-19_041254csv 2020-07-18   \n",
       "12453167  2020-07-15_054035_2020-07-19_041254csv 2020-07-18   \n",
       "\n",
       "                                      ts_order_logname  \\\n",
       "12453165  2020-07-15_224155_2020-07-19_055005csv_98992   \n",
       "12453166  2020-07-15_054035_2020-07-19_041254csv_84479   \n",
       "12453167  2020-07-15_054035_2020-07-19_041254csv_84480   \n",
       "\n",
       "                                         ts_order_list   ms  \\\n",
       "12453165  2020-07-15_224155_2020-07-19_055005csv_98992  0.0   \n",
       "12453166  2020-07-15_054035_2020-07-19_041254csv_84479  0.0   \n",
       "12453167  2020-07-15_054035_2020-07-19_041254csv_84480  0.0   \n",
       "\n",
       "           Timestamp_initial  \n",
       "12453165 2020-07-18 23:59:56  \n",
       "12453166 2020-07-18 23:59:59  \n",
       "12453167 2020-07-18 23:59:59  "
      ]
     },
     "execution_count": 4,
     "metadata": {},
     "output_type": "execute_result"
    }
   ],
   "source": [
    "#for being more reproductible, we open the file that was saved from cleaning\n",
    "df = pd.read_csv(os.path.join(path_extracted_data, id_run+'_records_GeneralCleaning.csv'), sep=';', \n",
    "                 parse_dates=['Timestamp', 'Timestamp_initial', 'date']) \n",
    "print(df.shape)\n",
    "df.tail(3)"
   ]
  },
  {
   "cell_type": "code",
   "execution_count": 5,
   "metadata": {},
   "outputs": [
    {
     "data": {
      "text/plain": [
       "array([10, 12, 11,  4,  5,  3], dtype=int64)"
      ]
     },
     "execution_count": 5,
     "metadata": {},
     "output_type": "execute_result"
    }
   ],
   "source": [
    "df['PenID'].unique()"
   ]
  },
  {
   "cell_type": "code",
   "execution_count": 6,
   "metadata": {
    "scrolled": true
   },
   "outputs": [
    {
     "name": "stdout",
     "output_type": "stream",
     "text": [
      "10\n",
      "create time series\n",
      "in this time series there is 18 hens\n",
      "The initial starting date in over all is: 2019-10-22 07:37:52, and the ending date will be: 2020-07-18 23:53:19\n",
      "But note that birds may have different ending and starting date, we remove these dates when computing the daily variables\n",
      "and after ending the last day at midnight : 2019-10-22 07:37:52, and the ending date will be: 2020-07-18 23:59:59\n",
      "Total running time: 2.08 mn\n",
      "finish creating time series\n",
      "The starting date of the datetime list is: 2019-10-22 07:37:00, and the ending date is: 2020-07-19 00:00:00\n",
      "The starting date of the selected datetime list is: 2019-10-22 07:37:00, and the ending date is: 2020-07-19 00:00:00\n"
     ]
    },
    {
     "name": "stderr",
     "output_type": "stream",
     "text": [
      "  0%|                                                                                           | 0/18 [00:00<?, ?it/s]C:\\Users\\camil\\Desktop\\animals_code\\PhD\\UTILS_LK.py:389: FutureWarning: Indexing with multiple keys (implicitly converted to a tuple of keys) will be deprecated, use a list instead.\n",
      "  df_final = df__.groupby(['New_Timestamp'])[h,'nbr_sec'].agg(lambda x: tuple(x)).reset_index()\n",
      "100%|██████████████████████████████████████████████████████████████████████████████████| 18/18 [12:00<00:00, 40.04s/it]\n"
     ]
    },
    {
     "name": "stdout",
     "output_type": "stream",
     "text": [
      "Total running time: 15.83 mn\n",
      "12\n",
      "create time series\n",
      "in this time series there is 18 hens\n",
      "The initial starting date in over all is: 2019-10-22 07:37:52, and the ending date will be: 2020-07-18 23:59:59\n",
      "But note that birds may have different ending and starting date, we remove these dates when computing the daily variables\n",
      "and after ending the last day at midnight : 2019-10-22 07:37:52, and the ending date will be: 2020-07-18 23:59:59\n",
      "Total running time: 2.08 mn\n",
      "finish creating time series\n",
      "The starting date of the datetime list is: 2019-10-22 07:37:00, and the ending date is: 2020-07-19 00:00:00\n",
      "The starting date of the selected datetime list is: 2019-10-22 07:37:00, and the ending date is: 2020-07-19 00:00:00\n"
     ]
    },
    {
     "name": "stderr",
     "output_type": "stream",
     "text": [
      "  0%|                                                                                           | 0/18 [00:00<?, ?it/s]C:\\Users\\camil\\Desktop\\animals_code\\PhD\\UTILS_LK.py:389: FutureWarning: Indexing with multiple keys (implicitly converted to a tuple of keys) will be deprecated, use a list instead.\n",
      "  df_final = df__.groupby(['New_Timestamp'])[h,'nbr_sec'].agg(lambda x: tuple(x)).reset_index()\n",
      "100%|██████████████████████████████████████████████████████████████████████████████████| 18/18 [11:44<00:00, 39.13s/it]\n"
     ]
    },
    {
     "name": "stdout",
     "output_type": "stream",
     "text": [
      "Total running time: 15.54 mn\n",
      "11\n",
      "create time series\n",
      "in this time series there is 19 hens\n",
      "The initial starting date in over all is: 2019-10-22 07:37:53, and the ending date will be: 2020-07-18 23:59:59\n",
      "But note that birds may have different ending and starting date, we remove these dates when computing the daily variables\n",
      "and after ending the last day at midnight : 2019-10-22 07:37:53, and the ending date will be: 2020-07-18 23:59:59\n",
      "Total running time: 2.08 mn\n",
      "finish creating time series\n",
      "The starting date of the datetime list is: 2019-10-22 07:37:00, and the ending date is: 2020-07-19 00:00:00\n",
      "The starting date of the selected datetime list is: 2019-10-22 07:37:00, and the ending date is: 2020-07-19 00:00:00\n"
     ]
    },
    {
     "name": "stderr",
     "output_type": "stream",
     "text": [
      "  0%|                                                                                           | 0/19 [00:00<?, ?it/s]C:\\Users\\camil\\Desktop\\animals_code\\PhD\\UTILS_LK.py:389: FutureWarning: Indexing with multiple keys (implicitly converted to a tuple of keys) will be deprecated, use a list instead.\n",
      "  df_final = df__.groupby(['New_Timestamp'])[h,'nbr_sec'].agg(lambda x: tuple(x)).reset_index()\n",
      "100%|██████████████████████████████████████████████████████████████████████████████████| 19/19 [12:12<00:00, 38.53s/it]\n"
     ]
    },
    {
     "name": "stdout",
     "output_type": "stream",
     "text": [
      "Total running time: 15.97 mn\n",
      "4\n",
      "create time series\n",
      "in this time series there is 19 hens\n",
      "The initial starting date in over all is: 2019-10-22 07:38:54, and the ending date will be: 2020-07-18 23:59:47\n",
      "But note that birds may have different ending and starting date, we remove these dates when computing the daily variables\n",
      "and after ending the last day at midnight : 2019-10-22 07:38:54, and the ending date will be: 2020-07-18 23:59:59\n",
      "Total running time: 2.19 mn\n",
      "finish creating time series\n",
      "The starting date of the datetime list is: 2019-10-22 07:38:00, and the ending date is: 2020-07-19 00:00:00\n",
      "The starting date of the selected datetime list is: 2019-10-22 07:38:00, and the ending date is: 2020-07-19 00:00:00\n"
     ]
    },
    {
     "name": "stderr",
     "output_type": "stream",
     "text": [
      "  0%|                                                                                           | 0/19 [00:00<?, ?it/s]C:\\Users\\camil\\Desktop\\animals_code\\PhD\\UTILS_LK.py:389: FutureWarning: Indexing with multiple keys (implicitly converted to a tuple of keys) will be deprecated, use a list instead.\n",
      "  df_final = df__.groupby(['New_Timestamp'])[h,'nbr_sec'].agg(lambda x: tuple(x)).reset_index()\n",
      "100%|██████████████████████████████████████████████████████████████████████████████████| 19/19 [12:44<00:00, 40.24s/it]\n"
     ]
    },
    {
     "name": "stdout",
     "output_type": "stream",
     "text": [
      "Total running time: 16.66 mn\n",
      "5\n",
      "create time series\n",
      "in this time series there is 20 hens\n",
      "The initial starting date in over all is: 2019-10-22 07:38:54, and the ending date will be: 2020-07-18 23:56:47\n",
      "But note that birds may have different ending and starting date, we remove these dates when computing the daily variables\n",
      "and after ending the last day at midnight : 2019-10-22 07:38:54, and the ending date will be: 2020-07-18 23:59:59\n",
      "Total running time: 1.99 mn\n",
      "finish creating time series\n",
      "The starting date of the datetime list is: 2019-10-22 07:38:00, and the ending date is: 2020-07-19 00:00:00\n",
      "The starting date of the selected datetime list is: 2019-10-22 07:38:00, and the ending date is: 2020-07-19 00:00:00\n"
     ]
    },
    {
     "name": "stderr",
     "output_type": "stream",
     "text": [
      "  0%|                                                                                           | 0/20 [00:00<?, ?it/s]C:\\Users\\camil\\Desktop\\animals_code\\PhD\\UTILS_LK.py:389: FutureWarning: Indexing with multiple keys (implicitly converted to a tuple of keys) will be deprecated, use a list instead.\n",
      "  df_final = df__.groupby(['New_Timestamp'])[h,'nbr_sec'].agg(lambda x: tuple(x)).reset_index()\n",
      "100%|██████████████████████████████████████████████████████████████████████████████████| 20/20 [12:16<00:00, 36.84s/it]\n"
     ]
    },
    {
     "name": "stdout",
     "output_type": "stream",
     "text": [
      "Total running time: 16.16 mn\n",
      "3\n",
      "create time series\n",
      "in this time series there is 18 hens\n",
      "The initial starting date in over all is: 2019-10-22 07:38:57, and the ending date will be: 2020-07-18 23:59:56\n",
      "But note that birds may have different ending and starting date, we remove these dates when computing the daily variables\n",
      "and after ending the last day at midnight : 2019-10-22 07:38:57, and the ending date will be: 2020-07-18 23:59:59\n",
      "Total running time: 2.18 mn\n",
      "finish creating time series\n",
      "The starting date of the datetime list is: 2019-10-22 07:38:00, and the ending date is: 2020-07-19 00:00:00\n",
      "The starting date of the selected datetime list is: 2019-10-22 07:38:00, and the ending date is: 2020-07-19 00:00:00\n"
     ]
    },
    {
     "name": "stderr",
     "output_type": "stream",
     "text": [
      "  0%|                                                                                           | 0/18 [00:00<?, ?it/s]C:\\Users\\camil\\Desktop\\animals_code\\PhD\\UTILS_LK.py:389: FutureWarning: Indexing with multiple keys (implicitly converted to a tuple of keys) will be deprecated, use a list instead.\n",
      "  df_final = df__.groupby(['New_Timestamp'])[h,'nbr_sec'].agg(lambda x: tuple(x)).reset_index()\n",
      "100%|██████████████████████████████████████████████████████████████████████████████████| 18/18 [12:06<00:00, 40.34s/it]\n"
     ]
    },
    {
     "name": "stdout",
     "output_type": "stream",
     "text": [
      "Total running time: 16.02 mn\n"
     ]
    }
   ],
   "source": [
    "for p in df['PenID'].unique():\n",
    "    print('-----------------------', p, '-----------------------')\n",
    "    df_final = bining(df[df['PenID']==p], config, 60)"
   ]
  },
  {
   "cell_type": "markdown",
   "metadata": {},
   "source": [
    "#### turn all bining hens time series into the usual ts csv file (one column per hen)"
   ]
  },
  {
   "cell_type": "code",
   "execution_count": 7,
   "metadata": {},
   "outputs": [
    {
     "name": "stderr",
     "output_type": "stream",
     "text": [
      "100%|████████████████████████████████████████████████████████████████████████████████| 112/112 [01:13<00:00,  1.52it/s]\n"
     ]
    },
    {
     "name": "stdout",
     "output_type": "stream",
     "text": [
      "(389783, 113)\n"
     ]
    },
    {
     "data": {
      "text/html": [
       "<div>\n",
       "<style scoped>\n",
       "    .dataframe tbody tr th:only-of-type {\n",
       "        vertical-align: middle;\n",
       "    }\n",
       "\n",
       "    .dataframe tbody tr th {\n",
       "        vertical-align: top;\n",
       "    }\n",
       "\n",
       "    .dataframe thead th {\n",
       "        text-align: right;\n",
       "    }\n",
       "</style>\n",
       "<table border=\"1\" class=\"dataframe\">\n",
       "  <thead>\n",
       "    <tr style=\"text-align: right;\">\n",
       "      <th></th>\n",
       "      <th>New_Timestamp</th>\n",
       "      <th>hen_1</th>\n",
       "      <th>hen_10</th>\n",
       "      <th>hen_100</th>\n",
       "      <th>hen_101</th>\n",
       "      <th>hen_102</th>\n",
       "      <th>hen_103</th>\n",
       "      <th>hen_104</th>\n",
       "      <th>hen_105</th>\n",
       "      <th>hen_106</th>\n",
       "      <th>...</th>\n",
       "      <th>hen_90</th>\n",
       "      <th>hen_91</th>\n",
       "      <th>hen_92</th>\n",
       "      <th>hen_93</th>\n",
       "      <th>hen_94</th>\n",
       "      <th>hen_95</th>\n",
       "      <th>hen_96</th>\n",
       "      <th>hen_97</th>\n",
       "      <th>hen_98</th>\n",
       "      <th>hen_99</th>\n",
       "    </tr>\n",
       "  </thead>\n",
       "  <tbody>\n",
       "    <tr>\n",
       "      <th>0</th>\n",
       "      <td>2019-10-22 07:39:00</td>\n",
       "      <td>5 Zone</td>\n",
       "      <td>5 Zone</td>\n",
       "      <td>5 Zone</td>\n",
       "      <td>NaN</td>\n",
       "      <td>5 Zone</td>\n",
       "      <td>4 Zone</td>\n",
       "      <td>5 Zone</td>\n",
       "      <td>NaN</td>\n",
       "      <td>5 Zone</td>\n",
       "      <td>...</td>\n",
       "      <td>NaN</td>\n",
       "      <td>NaN</td>\n",
       "      <td>5 Zone</td>\n",
       "      <td>5 Zone</td>\n",
       "      <td>5 Zone</td>\n",
       "      <td>4 Zone</td>\n",
       "      <td>5 Zone</td>\n",
       "      <td>NaN</td>\n",
       "      <td>5 Zone</td>\n",
       "      <td>NaN</td>\n",
       "    </tr>\n",
       "    <tr>\n",
       "      <th>1</th>\n",
       "      <td>2019-10-22 07:40:00</td>\n",
       "      <td>5 Zone</td>\n",
       "      <td>5 Zone</td>\n",
       "      <td>5 Zone</td>\n",
       "      <td>5 Zone</td>\n",
       "      <td>5 Zone</td>\n",
       "      <td>4 Zone</td>\n",
       "      <td>5 Zone</td>\n",
       "      <td>5 Zone</td>\n",
       "      <td>5 Zone</td>\n",
       "      <td>...</td>\n",
       "      <td>3 Zone</td>\n",
       "      <td>3 Zone</td>\n",
       "      <td>5 Zone</td>\n",
       "      <td>5 Zone</td>\n",
       "      <td>5 Zone</td>\n",
       "      <td>4 Zone</td>\n",
       "      <td>5 Zone</td>\n",
       "      <td>5 Zone</td>\n",
       "      <td>5 Zone</td>\n",
       "      <td>2 Zone</td>\n",
       "    </tr>\n",
       "    <tr>\n",
       "      <th>2</th>\n",
       "      <td>2019-10-22 07:41:00</td>\n",
       "      <td>5 Zone</td>\n",
       "      <td>5 Zone</td>\n",
       "      <td>5 Zone</td>\n",
       "      <td>5 Zone</td>\n",
       "      <td>5 Zone</td>\n",
       "      <td>3 Zone</td>\n",
       "      <td>5 Zone</td>\n",
       "      <td>5 Zone</td>\n",
       "      <td>5 Zone</td>\n",
       "      <td>...</td>\n",
       "      <td>3 Zone</td>\n",
       "      <td>3 Zone</td>\n",
       "      <td>5 Zone</td>\n",
       "      <td>5 Zone</td>\n",
       "      <td>5 Zone</td>\n",
       "      <td>4 Zone</td>\n",
       "      <td>5 Zone</td>\n",
       "      <td>5 Zone</td>\n",
       "      <td>5 Zone</td>\n",
       "      <td>2 Zone</td>\n",
       "    </tr>\n",
       "  </tbody>\n",
       "</table>\n",
       "<p>3 rows × 113 columns</p>\n",
       "</div>"
      ],
      "text/plain": [
       "        New_Timestamp   hen_1  hen_10 hen_100 hen_101 hen_102 hen_103 hen_104  \\\n",
       "0 2019-10-22 07:39:00  5 Zone  5 Zone  5 Zone     NaN  5 Zone  4 Zone  5 Zone   \n",
       "1 2019-10-22 07:40:00  5 Zone  5 Zone  5 Zone  5 Zone  5 Zone  4 Zone  5 Zone   \n",
       "2 2019-10-22 07:41:00  5 Zone  5 Zone  5 Zone  5 Zone  5 Zone  3 Zone  5 Zone   \n",
       "\n",
       "  hen_105 hen_106  ...  hen_90  hen_91  hen_92  hen_93  hen_94  hen_95  \\\n",
       "0     NaN  5 Zone  ...     NaN     NaN  5 Zone  5 Zone  5 Zone  4 Zone   \n",
       "1  5 Zone  5 Zone  ...  3 Zone  3 Zone  5 Zone  5 Zone  5 Zone  4 Zone   \n",
       "2  5 Zone  5 Zone  ...  3 Zone  3 Zone  5 Zone  5 Zone  5 Zone  4 Zone   \n",
       "\n",
       "   hen_96  hen_97  hen_98  hen_99  \n",
       "0  5 Zone     NaN  5 Zone     NaN  \n",
       "1  5 Zone  5 Zone  5 Zone  2 Zone  \n",
       "2  5 Zone  5 Zone  5 Zone  2 Zone  \n",
       "\n",
       "[3 rows x 113 columns]"
      ]
     },
     "execution_count": 7,
     "metadata": {},
     "output_type": "execute_result"
    }
   ],
   "source": [
    "#for path_ in glob.glob(os.path.join(path_extracted_data, 'HensTimeSeries', id_run+'_ts_MostFrequentZone_period60_?_?_hen_*.csv')):\n",
    "li_df = []\n",
    "for path_ in tqdm.tqdm(glob.glob(os.path.join(path_extracted_data, 'HensTimeSeries', \n",
    "                                    id_run+'_ts_MostFrequentZone_period60_*_hen_*.csv'))):\n",
    "    name_ = path_.split('\\\\')[-1].split('_MostFrequentZone_')[-1].split('.csv')[0]\n",
    "    HenID = 'hen_'+name_.split('hen_')[-1]\n",
    "    df_h = pd.read_csv(path_, sep=';', parse_dates=['New_Timestamp']) \n",
    "    df_h = df_h.filter(['New_Timestamp','most_frequent_zone'],axis=1).reset_index(drop=True)\n",
    "    df_h.rename(columns={'most_frequent_zone':HenID}, inplace=True)\n",
    "    li_df.append(df_h)\n",
    "\n",
    "df = pd.DataFrame(columns=['New_Timestamp'])\n",
    "for df_h in li_df:\n",
    "    df = pd.merge(df, df_h, on='New_Timestamp', how='outer')\n",
    "df.to_csv(os.path.join(path_extracted_data,id_run+'ts_MostFrequentZone_period60_allhens.csv'), sep=';', index=False)\n",
    "print(df.shape)\n",
    "df.head(3)"
   ]
  },
  {
   "cell_type": "code",
   "execution_count": 8,
   "metadata": {},
   "outputs": [
    {
     "data": {
      "text/html": [
       "<div>\n",
       "<style scoped>\n",
       "    .dataframe tbody tr th:only-of-type {\n",
       "        vertical-align: middle;\n",
       "    }\n",
       "\n",
       "    .dataframe tbody tr th {\n",
       "        vertical-align: top;\n",
       "    }\n",
       "\n",
       "    .dataframe thead th {\n",
       "        text-align: right;\n",
       "    }\n",
       "</style>\n",
       "<table border=\"1\" class=\"dataframe\">\n",
       "  <thead>\n",
       "    <tr style=\"text-align: right;\">\n",
       "      <th></th>\n",
       "      <th>New_Timestamp</th>\n",
       "      <th>hen_1</th>\n",
       "      <th>hen_10</th>\n",
       "      <th>hen_100</th>\n",
       "      <th>hen_101</th>\n",
       "      <th>hen_102</th>\n",
       "      <th>hen_103</th>\n",
       "      <th>hen_104</th>\n",
       "      <th>hen_105</th>\n",
       "      <th>hen_106</th>\n",
       "      <th>...</th>\n",
       "      <th>hen_90</th>\n",
       "      <th>hen_91</th>\n",
       "      <th>hen_92</th>\n",
       "      <th>hen_93</th>\n",
       "      <th>hen_94</th>\n",
       "      <th>hen_95</th>\n",
       "      <th>hen_96</th>\n",
       "      <th>hen_97</th>\n",
       "      <th>hen_98</th>\n",
       "      <th>hen_99</th>\n",
       "    </tr>\n",
       "  </thead>\n",
       "  <tbody>\n",
       "    <tr>\n",
       "      <th>389780</th>\n",
       "      <td>2020-07-18 23:59:00</td>\n",
       "      <td>5 Zone</td>\n",
       "      <td>5 Zone</td>\n",
       "      <td>5 Zone</td>\n",
       "      <td>5 Zone</td>\n",
       "      <td>5 Zone</td>\n",
       "      <td>5 Zone</td>\n",
       "      <td>5 Zone</td>\n",
       "      <td>3 Zone</td>\n",
       "      <td>2 Zone</td>\n",
       "      <td>...</td>\n",
       "      <td>5 Zone</td>\n",
       "      <td>5 Zone</td>\n",
       "      <td>3 Zone</td>\n",
       "      <td>5 Zone</td>\n",
       "      <td>5 Zone</td>\n",
       "      <td>2 Zone</td>\n",
       "      <td>5 Zone</td>\n",
       "      <td>3 Zone</td>\n",
       "      <td>2 Zone</td>\n",
       "      <td>5 Zone</td>\n",
       "    </tr>\n",
       "    <tr>\n",
       "      <th>389781</th>\n",
       "      <td>2020-07-19 00:00:00</td>\n",
       "      <td>5 Zone</td>\n",
       "      <td>5 Zone</td>\n",
       "      <td>5 Zone</td>\n",
       "      <td>5 Zone</td>\n",
       "      <td>5 Zone</td>\n",
       "      <td>5 Zone</td>\n",
       "      <td>5 Zone</td>\n",
       "      <td>3 Zone</td>\n",
       "      <td>2 Zone</td>\n",
       "      <td>...</td>\n",
       "      <td>5 Zone</td>\n",
       "      <td>5 Zone</td>\n",
       "      <td>3 Zone</td>\n",
       "      <td>5 Zone</td>\n",
       "      <td>5 Zone</td>\n",
       "      <td>2 Zone</td>\n",
       "      <td>5 Zone</td>\n",
       "      <td>3 Zone</td>\n",
       "      <td>2 Zone</td>\n",
       "      <td>5 Zone</td>\n",
       "    </tr>\n",
       "    <tr>\n",
       "      <th>389782</th>\n",
       "      <td>2019-10-22 07:38:00</td>\n",
       "      <td>NaN</td>\n",
       "      <td>NaN</td>\n",
       "      <td>NaN</td>\n",
       "      <td>NaN</td>\n",
       "      <td>5 Zone</td>\n",
       "      <td>NaN</td>\n",
       "      <td>NaN</td>\n",
       "      <td>NaN</td>\n",
       "      <td>NaN</td>\n",
       "      <td>...</td>\n",
       "      <td>NaN</td>\n",
       "      <td>NaN</td>\n",
       "      <td>5 Zone</td>\n",
       "      <td>5 Zone</td>\n",
       "      <td>5 Zone</td>\n",
       "      <td>NaN</td>\n",
       "      <td>5 Zone</td>\n",
       "      <td>NaN</td>\n",
       "      <td>NaN</td>\n",
       "      <td>NaN</td>\n",
       "    </tr>\n",
       "  </tbody>\n",
       "</table>\n",
       "<p>3 rows × 113 columns</p>\n",
       "</div>"
      ],
      "text/plain": [
       "             New_Timestamp   hen_1  hen_10 hen_100 hen_101 hen_102 hen_103  \\\n",
       "389780 2020-07-18 23:59:00  5 Zone  5 Zone  5 Zone  5 Zone  5 Zone  5 Zone   \n",
       "389781 2020-07-19 00:00:00  5 Zone  5 Zone  5 Zone  5 Zone  5 Zone  5 Zone   \n",
       "389782 2019-10-22 07:38:00     NaN     NaN     NaN     NaN  5 Zone     NaN   \n",
       "\n",
       "       hen_104 hen_105 hen_106  ...  hen_90  hen_91  hen_92  hen_93  hen_94  \\\n",
       "389780  5 Zone  3 Zone  2 Zone  ...  5 Zone  5 Zone  3 Zone  5 Zone  5 Zone   \n",
       "389781  5 Zone  3 Zone  2 Zone  ...  5 Zone  5 Zone  3 Zone  5 Zone  5 Zone   \n",
       "389782     NaN     NaN     NaN  ...     NaN     NaN  5 Zone  5 Zone  5 Zone   \n",
       "\n",
       "        hen_95  hen_96  hen_97  hen_98  hen_99  \n",
       "389780  2 Zone  5 Zone  3 Zone  2 Zone  5 Zone  \n",
       "389781  2 Zone  5 Zone  3 Zone  2 Zone  5 Zone  \n",
       "389782     NaN  5 Zone     NaN     NaN     NaN  \n",
       "\n",
       "[3 rows x 113 columns]"
      ]
     },
     "execution_count": 8,
     "metadata": {},
     "output_type": "execute_result"
    }
   ],
   "source": [
    "df.tail(3)"
   ]
  },
  {
   "cell_type": "markdown",
   "metadata": {},
   "source": [
    "# Looking at lost info depending on zones when bining"
   ]
  },
  {
   "cell_type": "code",
   "execution_count": 11,
   "metadata": {},
   "outputs": [
    {
     "data": {
      "image/png": "[encoded data removed]",
      "text/plain": [
       "<Figure size 864x432 with 1 Axes>"
      ]
     },
     "metadata": {
      "needs_background": "light"
     },
     "output_type": "display_data"
    }
   ],
   "source": [
    "#this script is temporaire\n",
    "li_path = glob.glob(os.path.join(path_extracted_data, 'HensTimeSeries', id_run+'_ts_MostFrequentZone_period*.csv'))\n",
    "\n",
    "dico_mi_li_df = {}\n",
    "for path_ in tqdm.tqdm(li_path):\n",
    "    h = 'hen_'+path_.split('hen_')[1][:-4]\n",
    "    if 'VERIFICATION' not in path_:\n",
    "        period = int(path_.split('period')[1].split('_')[0])\n",
    "        df_ = pd.read_csv(path_, sep=';', parse_dates=['New_Timestamp'])\n",
    "        d1 = path_.split('period')[1].split('_')[1]\n",
    "        d2 = path_.split('period')[1].split('_')[2]\n",
    "        mi=dt.datetime(int(d1[0:4]),int(d1[5:7]),int(d1[8:]),0,0,0)\n",
    "        ma=dt.datetime(int(d2[0:4]),int(d2[5:7]),int(d2[8:]),23,59,59)\n",
    "        n = str(mi)+'   '+str(ma)\n",
    "        df_['HenID'] = h\n",
    "        #if 'nbr_lost_duration_per_zone' in df_.columns:\n",
    "        df_['nbr_lost_duration_per_zone'] = df_['nbr_lost_duration_per_zone'].map(lambda x: eval(x))\n",
    "        dico_ = dict(functools.reduce(operator.add, map(collections.Counter, df_['nbr_lost_duration_per_zone'].tolist()))) \n",
    "        df_['nbr_duration_per_zone'] = df_['nbr_duration_per_zone'].map(lambda x: eval(x))\n",
    "        dico_all = dict(functools.reduce(operator.add, map(collections.Counter, df_['nbr_duration_per_zone'].tolist()))) \n",
    "        if n not in dico_mi_li_df:\n",
    "            dico_mi_li_df[n] = []\n",
    "        for z in dico_all.keys():\n",
    "            dico_mi_li_df[n].append({'period':period, 'HenID':h, \n",
    "                                     'percentage_lost_duration':dico_.get(z,0)/dico_all[z]*100, 'zone': z})\n",
    "\n",
    "#plot\n",
    "for n, li_df in dico_mi_li_df.items():\n",
    "    df_plot = pd.DataFrame(li_df)\n",
    "    #plot for each datarange a plot showing the evolution of duration lost per zone and period\n",
    "    fig, ax = plt.subplots(figsize=(12,6))\n",
    "    ax = sns.boxplot(x=\"period\", y=\"percentage_lost_duration\", hue=\"zone\", data=df_plot) #, palette=\"Set3\")\n",
    "    plt.title(n)\n",
    "    plt.savefig(os.path.join(path_extracted_data, \n",
    "                             id_run+'_percentage_lost_duration_during_bining'+n.split(':')[0][:-3]+'_'+n.split(':')[2][5:-3]+'.png'), dpi=300,\n",
    "                             format='png', bbox_inches='tight')\n",
    "    plt.show()\n"
   ]
  },
  {
   "cell_type": "code",
   "execution_count": null,
   "metadata": {},
   "outputs": [],
   "source": []
  },
  {
   "cell_type": "code",
   "execution_count": null,
   "metadata": {},
   "outputs": [],
   "source": []
  },
  {
   "cell_type": "code",
   "execution_count": null,
   "metadata": {},
   "outputs": [],
   "source": []
  },
  {
   "cell_type": "code",
   "execution_count": null,
   "metadata": {},
   "outputs": [],
   "source": []
  },
  {
   "cell_type": "code",
   "execution_count": null,
   "metadata": {},
   "outputs": [],
   "source": []
  },
  {
   "cell_type": "code",
   "execution_count": null,
   "metadata": {},
   "outputs": [],
   "source": []
  },
  {
   "cell_type": "code",
   "execution_count": null,
   "metadata": {},
   "outputs": [],
   "source": []
  },
  {
   "cell_type": "code",
   "execution_count": null,
   "metadata": {},
   "outputs": [],
   "source": []
  },
  {
   "cell_type": "code",
   "execution_count": null,
   "metadata": {},
   "outputs": [],
   "source": []
  }
 ],
 "metadata": {
  "kernelspec": {
   "display_name": "Python 3",
   "language": "python",
   "name": "python3"
  },
  "language_info": {
   "codemirror_mode": {
    "name": "ipython",
    "version": 3
   },
   "file_extension": ".py",
   "mimetype": "text/x-python",
   "name": "python",
   "nbconvert_exporter": "python",
   "pygments_lexer": "ipython3",
   "version": "3.6.10"
  }
 },
 "nbformat": 4,
 "nbformat_minor": 2
}
