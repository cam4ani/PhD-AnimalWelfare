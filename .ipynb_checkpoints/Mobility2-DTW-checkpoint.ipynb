{
 "cells": [
  {
   "cell_type": "code",
   "execution_count": 22,
   "metadata": {},
   "outputs": [],
   "source": [
    "#basic package\n",
    "import json\n",
    "import tqdm\n",
    "import os\n",
    "import numpy as np\n",
    "import glob\n",
    "import pandas as pd\n",
    "import sys\n",
    "import shutil\n",
    "import time\n",
    "import datetime as dt\n",
    "import itertools\n",
    "import time\n",
    "import re\n",
    "from collections import Counter\n",
    "from collections import defaultdict\n",
    "import operator\n",
    "import math\n",
    "import pickle\n",
    "\n",
    "#DTW\n",
    "import dtaidistance\n",
    "from dtaidistance import dtw\n",
    "from dtaidistance import dtw_visualisation as dtwvis\n",
    "from dtaidistance import clustering\n",
    "\n",
    "#plot\n",
    "import matplotlib.pyplot as plt\n",
    "import seaborn as sns"
   ]
  },
  {
   "cell_type": "code",
   "execution_count": 23,
   "metadata": {},
   "outputs": [],
   "source": [
    "#change r to 0 from 0.2\n",
    "sys.path.append('C:\\\\Users\\\\camil\\\\Desktop\\\\animals_code\\\\entropy')\n",
    "from entropy.entropy import sample_entropy\n",
    "#from entropy.entropy import sample_entropy #https://github.com/raphaelvallat/entropy"
   ]
  },
  {
   "cell_type": "code",
   "execution_count": 24,
   "metadata": {},
   "outputs": [],
   "source": [
    "from UTILS import time_series_henColumn_tsRow, ZoneVariable, HenVariable, DistributionEntropy, \\\n",
    "heatmap_duration_perzone_perhen, TimeSeriesPlot, entropy_compare_session\n",
    "import config_mobility as config"
   ]
  },
  {
   "cell_type": "code",
   "execution_count": 25,
   "metadata": {},
   "outputs": [],
   "source": [
    "path_extracted_data = config.path_extracted_data\n",
    "id_run = config.id_run\n",
    "nbr_sec = config.nbr_sec\n",
    "path_extracted_visual = os.path.join(path_extracted_data, 'visual')"
   ]
  },
  {
   "cell_type": "code",
   "execution_count": 26,
   "metadata": {},
   "outputs": [],
   "source": [
    "#day level\n",
    "ts_name = 'time_serie_day'"
   ]
  },
  {
   "cell_type": "markdown",
   "metadata": {},
   "source": [
    "## DTW per session"
   ]
  },
  {
   "cell_type": "raw",
   "metadata": {},
   "source": [
    "Note that we could compute the DTW between hen form different sessions too!\n",
    "For now we compute the DTW between any two hens in each session, and then cluster them. At the end we would like to see if over time the number of cluster taht belong to each hen is diminishing (i.e become more stable over time)"
   ]
  },
  {
   "cell_type": "code",
   "execution_count": 27,
   "metadata": {},
   "outputs": [],
   "source": [
    "def DTWVariable(df_ts, config, window=120, value_delta=30, name='', save=True):\n",
    "\n",
    "    ''' '''\n",
    "    \n",
    "    #start recording the time it last\n",
    "    START_TIME = time.clock()\n",
    "\n",
    "    #initialise variable\n",
    "    path_extracted_data = config.path_extracted_data\n",
    "    id_run = config.id_run\n",
    "    dico_zone_order = config.dico_zone_order\n",
    "    dico_S = {}\n",
    "\n",
    "    #create path where to save if not existing yet\n",
    "    path_ = os.path.join(path_extracted_data,'visual','DTW')\n",
    "    #create a director if not existing\n",
    "    if not os.path.exists(path_):\n",
    "        os.makedirs(path_)\n",
    "    \n",
    "    #keep one value per value_delta value\n",
    "    df_ts['nbr'] = range(df_ts.shape[0])\n",
    "    df_ts['to_keep'] = df_ts['nbr'].map(lambda x: x%value_delta==0)\n",
    "    df_ts = df_ts[df_ts['to_keep']]\n",
    "    \n",
    "    #keep only form 2h to 17h\n",
    "    #df_ts['time'] = df_ts['Timestamp'].map(lambda x: dt.datetime.time(x)) #no need\n",
    "    df_ts = df_ts[df_ts['hour'].isin([2,3,4,5,6,7,8,9,10,11,12,13,14,15,16])]\n",
    "        \n",
    "    #from dataframe make a matrix with each row equal to one hen & transform the zone into integers\n",
    "    li_hen = [i for i in df_ts.columns if i.startswith('hen_')]\n",
    "    dico_zone_order_fl = {k:float(v) for k,v in dico_zone_order.items()}\n",
    "    df_ts_dtw = df_ts.groupby(['day'])[li_hen].agg(lambda x: [dico_zone_order_fl[i] for i in x]).stack().reset_index()\n",
    "    df_ts_dtw['name'] = df_ts_dtw.apply(lambda x: str(x['day']).split(' ')[0]+'_'+x['level_1'], axis=1)\n",
    "    df_ts_dtw.rename(columns={0:'ts'}, inplace=True)\n",
    "    li_ts_columns_name = df_ts_dtw['name'].tolist()\n",
    "    M = np.array(df_ts_dtw.ts.values.tolist())\n",
    "    print(M.shape)\n",
    "            \n",
    "    #hierarchical clustering to see nice picture\n",
    "    # Custom Hierarchical clustering\n",
    "    #print('model 1')\n",
    "    #model1 = clustering.Hierarchical(dtw.distance_matrix_fast, {})\n",
    "    #cluster_idx = model1.fit(M)\n",
    "    # Augment Hierarchical object to keep track of the full tree\n",
    "    #print('model 2')\n",
    "    #model2 = clustering.HierarchicalTree(model1)\n",
    "    #cluster_idx = model2.fit(M)\n",
    "    #fig, ax = plt.subplots(ncols=2, nrows=1, figsize=(22, 16))  # attention: 2 columns needed!\n",
    "    #tree_plot = model2.plot(axes=ax, show_ts_label=li_hen, show_tr_label=True, ts_label_margin=-10, ts_left_margin=10)\n",
    "    #plt.savefig(os.path.join(path_,id_run+'_'+name_+'_DTW_clustering1.png'), format='png')  \n",
    "    # SciPy linkage clustering\n",
    "    #print('model 3')\n",
    "    #model3 = clustering.LinkageTree(dtw.distance_matrix_fast, {})\n",
    "    #cluster_idx = model3.fit(M)\n",
    "    #fig, ax = plt.subplots(ncols=2, nrows=1, figsize=(100, 80)) \n",
    "    #tree_plot = model3.plot(axes=ax, show_tr_label=True, show_ts_label=li_ts_columns_name, ts_label_margin=-200)\n",
    "    #plt.savefig(os.path.join(path_,id_run+'_'+name_+'_DTW_clustering2.png'), format='png')  \n",
    "\n",
    "    #for each day and each two chickens draw the DTW matrix --> see path to compare them visually and record the similarity value to\n",
    "    #plot the similarity evolution across each chicken\n",
    "    dico_S = {}\n",
    "    #for each day and each two chickens draw the DTW matrix --> see path to compare them visually and record the similarity value to\n",
    "    #plot the similarity evolution across each chicken\n",
    "    for i,h1 in enumerate(tqdm.tqdm(li_ts_columns_name)):\n",
    "        li_h1 = M[i]\n",
    "        li_h1 = np.array(li_h1, dtype=np.double)\n",
    "        for j in range(i+1, len(li_ts_columns_name)):\n",
    "            \n",
    "            h2 = li_ts_columns_name[j]\n",
    "            li_h2 = M[j]\n",
    "            li_h2 = np.array(li_h2, dtype=np.double)\n",
    "            d, paths = dtw.warping_paths(li_h1, li_h2, window=window, psi=2)\n",
    "            dico_S[(h1,h2)] = d\n",
    "            best_path = dtw.best_path(paths)\n",
    "            dtwvis.plot_warpingpaths(li_h1, li_h2, paths, best_path);\n",
    "            if save:\n",
    "                plt.title (h1+'     '+h2)\n",
    "                plt.savefig(os.path.join(path_,id_run+'_'+name_+'_DTW'+'_'+h1+'_'+h2+'.png'), format='png')  \n",
    "            plt.close()\n",
    "    if save:\n",
    "        pickle.dump(dico_S, open(os.path.join(path_,id_run+'dico_S_'+name+'.pkl'), 'wb'))\n",
    "\n",
    "    END_TIME = time.clock()\n",
    "    print (\"Total running time: %.2f mn\" %((END_TIME-START_TIME)/60))  "
   ]
  },
  {
   "cell_type": "code",
   "execution_count": 28,
   "metadata": {},
   "outputs": [
    {
     "name": "stderr",
     "output_type": "stream",
     "text": [
      "\r",
      "  0%|                                                                                           | 0/22 [00:00<?, ?it/s]"
     ]
    },
    {
     "name": "stdout",
     "output_type": "stream",
     "text": [
      "------------------------------------------------------------------------- 10A\n",
      "(294, 1800)\n"
     ]
    },
    {
     "name": "stderr",
     "output_type": "stream",
     "text": [
      "\n",
      "  0%|                                                                                          | 0/294 [00:00<?, ?it/s]\n",
      "  0%|▎                                                                             | 1/294 [07:52<38:25:03, 472.03s/it]\n",
      "  1%|▌                                                                             | 2/294 [16:20<39:10:43, 483.02s/it]\n",
      "  1%|▊                                                                             | 3/294 [25:03<40:00:05, 494.87s/it]"
     ]
    },
    {
     "ename": "MemoryError",
     "evalue": "",
     "output_type": "error",
     "traceback": [
      "\u001b[1;31m---------------------------------------------------------------------------\u001b[0m",
      "\u001b[1;31mMemoryError\u001b[0m                               Traceback (most recent call last)",
      "\u001b[1;32m<ipython-input-28-8ffb744817e6>\u001b[0m in \u001b[0;36m<module>\u001b[1;34m()\u001b[0m\n\u001b[0;32m     13\u001b[0m     \u001b[1;31m#break\u001b[0m\u001b[1;33m\u001b[0m\u001b[1;33m\u001b[0m\u001b[0m\n\u001b[0;32m     14\u001b[0m     \u001b[1;31m#dynamical time warping\u001b[0m\u001b[1;33m\u001b[0m\u001b[1;33m\u001b[0m\u001b[0m\n\u001b[1;32m---> 15\u001b[1;33m     \u001b[0mDTWVariable\u001b[0m\u001b[1;33m(\u001b[0m\u001b[0mdf_ts\u001b[0m\u001b[1;33m,\u001b[0m \u001b[0mconfig\u001b[0m\u001b[1;33m,\u001b[0m \u001b[0mname\u001b[0m\u001b[1;33m=\u001b[0m\u001b[0mname_\u001b[0m\u001b[1;33m)\u001b[0m\u001b[1;33m\u001b[0m\u001b[0m\n\u001b[0m\u001b[0;32m     16\u001b[0m \u001b[1;33m\u001b[0m\u001b[0m\n\u001b[0;32m     17\u001b[0m \u001b[0mEND_TIME\u001b[0m \u001b[1;33m=\u001b[0m \u001b[0mtime\u001b[0m\u001b[1;33m.\u001b[0m\u001b[0mclock\u001b[0m\u001b[1;33m(\u001b[0m\u001b[1;33m)\u001b[0m\u001b[1;33m\u001b[0m\u001b[0m\n",
      "\u001b[1;32m<ipython-input-27-c05b6380f713>\u001b[0m in \u001b[0;36mDTWVariable\u001b[1;34m(df_ts, config, window, value_delta, name, save)\u001b[0m\n\u001b[0;32m     70\u001b[0m             \u001b[0mli_h2\u001b[0m \u001b[1;33m=\u001b[0m \u001b[0mM\u001b[0m\u001b[1;33m[\u001b[0m\u001b[0mj\u001b[0m\u001b[1;33m]\u001b[0m\u001b[1;33m\u001b[0m\u001b[0m\n\u001b[0;32m     71\u001b[0m             \u001b[0mli_h2\u001b[0m \u001b[1;33m=\u001b[0m \u001b[0mnp\u001b[0m\u001b[1;33m.\u001b[0m\u001b[0marray\u001b[0m\u001b[1;33m(\u001b[0m\u001b[0mli_h2\u001b[0m\u001b[1;33m,\u001b[0m \u001b[0mdtype\u001b[0m\u001b[1;33m=\u001b[0m\u001b[0mnp\u001b[0m\u001b[1;33m.\u001b[0m\u001b[0mdouble\u001b[0m\u001b[1;33m)\u001b[0m\u001b[1;33m\u001b[0m\u001b[0m\n\u001b[1;32m---> 72\u001b[1;33m             \u001b[0md\u001b[0m\u001b[1;33m,\u001b[0m \u001b[0mpaths\u001b[0m \u001b[1;33m=\u001b[0m \u001b[0mdtw\u001b[0m\u001b[1;33m.\u001b[0m\u001b[0mwarping_paths\u001b[0m\u001b[1;33m(\u001b[0m\u001b[0mli_h1\u001b[0m\u001b[1;33m,\u001b[0m \u001b[0mli_h2\u001b[0m\u001b[1;33m,\u001b[0m \u001b[0mwindow\u001b[0m\u001b[1;33m=\u001b[0m\u001b[0mwindow\u001b[0m\u001b[1;33m,\u001b[0m \u001b[0mpsi\u001b[0m\u001b[1;33m=\u001b[0m\u001b[1;36m2\u001b[0m\u001b[1;33m)\u001b[0m\u001b[1;33m\u001b[0m\u001b[0m\n\u001b[0m\u001b[0;32m     73\u001b[0m             \u001b[0mdico_S\u001b[0m\u001b[1;33m[\u001b[0m\u001b[1;33m(\u001b[0m\u001b[0mh1\u001b[0m\u001b[1;33m,\u001b[0m\u001b[0mh2\u001b[0m\u001b[1;33m)\u001b[0m\u001b[1;33m]\u001b[0m \u001b[1;33m=\u001b[0m \u001b[0md\u001b[0m\u001b[1;33m\u001b[0m\u001b[0m\n\u001b[0;32m     74\u001b[0m             \u001b[0mbest_path\u001b[0m \u001b[1;33m=\u001b[0m \u001b[0mdtw\u001b[0m\u001b[1;33m.\u001b[0m\u001b[0mbest_path\u001b[0m\u001b[1;33m(\u001b[0m\u001b[0mpaths\u001b[0m\u001b[1;33m)\u001b[0m\u001b[1;33m\u001b[0m\u001b[0m\n",
      "\u001b[1;32mc:\\users\\camil\\anaconda3\\lib\\site-packages\\dtaidistance\\dtw.py\u001b[0m in \u001b[0;36mwarping_paths\u001b[1;34m(s1, s2, window, max_dist, max_step, max_length_diff, penalty, psi)\u001b[0m\n\u001b[0;32m    300\u001b[0m             \u001b[1;31m# print(dtw)\u001b[0m\u001b[1;33m\u001b[0m\u001b[1;33m\u001b[0m\u001b[0m\n\u001b[0;32m    301\u001b[0m             \u001b[1;32mreturn\u001b[0m \u001b[0mnp\u001b[0m\u001b[1;33m.\u001b[0m\u001b[0minf\u001b[0m\u001b[1;33m,\u001b[0m \u001b[0mdtw\u001b[0m\u001b[1;33m\u001b[0m\u001b[0m\n\u001b[1;32m--> 302\u001b[1;33m     \u001b[0mdtw\u001b[0m \u001b[1;33m=\u001b[0m \u001b[0mnp\u001b[0m\u001b[1;33m.\u001b[0m\u001b[0msqrt\u001b[0m\u001b[1;33m(\u001b[0m\u001b[0mdtw\u001b[0m\u001b[1;33m)\u001b[0m\u001b[1;33m\u001b[0m\u001b[0m\n\u001b[0m\u001b[0;32m    303\u001b[0m     \u001b[1;32mif\u001b[0m \u001b[0mpsi\u001b[0m \u001b[1;33m==\u001b[0m \u001b[1;36m0\u001b[0m\u001b[1;33m:\u001b[0m\u001b[1;33m\u001b[0m\u001b[0m\n\u001b[0;32m    304\u001b[0m         \u001b[0md\u001b[0m \u001b[1;33m=\u001b[0m \u001b[0mdtw\u001b[0m\u001b[1;33m[\u001b[0m\u001b[0mi1\u001b[0m\u001b[1;33m,\u001b[0m \u001b[0mmin\u001b[0m\u001b[1;33m(\u001b[0m\u001b[0mc\u001b[0m\u001b[1;33m,\u001b[0m \u001b[0mc\u001b[0m \u001b[1;33m+\u001b[0m \u001b[0mwindow\u001b[0m \u001b[1;33m-\u001b[0m \u001b[1;36m1\u001b[0m\u001b[1;33m)\u001b[0m\u001b[1;33m]\u001b[0m\u001b[1;33m\u001b[0m\u001b[0m\n",
      "\u001b[1;31mMemoryError\u001b[0m: "
     ]
    }
   ],
   "source": [
    "#open time series per session and compute the variables for each session (car time series make sence at session level), et en \n",
    "#plus des variables tel que running entropy over the whole session ateach last timestamp of each level make sence only at \n",
    "#session level\n",
    "START_TIME = time.clock()\n",
    "li_path = glob.glob(os.path.join(path_extracted_data, id_run+'_TimeSeries_*.csv'))\n",
    "li_path = [i for i in li_path if '_hen_' not in i]\n",
    "for path_ in tqdm.tqdm(li_path):\n",
    "    \n",
    "    #download time series associated to this session\n",
    "    name_ = path_.split('_')[-1].split('.')[0]\n",
    "    print('-------------------------------------------------------------------------', name_)\n",
    "    df_ts = pd.read_csv(path_, sep=';', parse_dates=['Timestamp', 'day']) \n",
    "    #break\n",
    "    #dynamical time warping\n",
    "    DTWVariable(df_ts, config, name=name_)\n",
    "    \n",
    "END_TIME = time.clock()\n",
    "print (\"Total running time: %.2f mn\" %((END_TIME-START_TIME)/60))  "
   ]
  },
  {
   "cell_type": "code",
   "execution_count": null,
   "metadata": {},
   "outputs": [],
   "source": []
  },
  {
   "cell_type": "code",
   "execution_count": null,
   "metadata": {},
   "outputs": [],
   "source": []
  },
  {
   "cell_type": "code",
   "execution_count": null,
   "metadata": {},
   "outputs": [],
   "source": []
  },
  {
   "cell_type": "code",
   "execution_count": null,
   "metadata": {},
   "outputs": [],
   "source": []
  },
  {
   "cell_type": "code",
   "execution_count": null,
   "metadata": {},
   "outputs": [],
   "source": []
  },
  {
   "cell_type": "code",
   "execution_count": null,
   "metadata": {},
   "outputs": [],
   "source": []
  },
  {
   "cell_type": "code",
   "execution_count": null,
   "metadata": {},
   "outputs": [],
   "source": []
  },
  {
   "cell_type": "code",
   "execution_count": null,
   "metadata": {},
   "outputs": [],
   "source": []
  },
  {
   "cell_type": "code",
   "execution_count": null,
   "metadata": {},
   "outputs": [],
   "source": []
  }
 ],
 "metadata": {
  "kernelspec": {
   "display_name": "Python 3",
   "language": "python",
   "name": "python3"
  },
  "language_info": {
   "codemirror_mode": {
    "name": "ipython",
    "version": 3
   },
   "file_extension": ".py",
   "mimetype": "text/x-python",
   "name": "python",
   "nbconvert_exporter": "python",
   "pygments_lexer": "ipython3",
   "version": "3.6.4"
  }
 },
 "nbformat": 4,
 "nbformat_minor": 2
}
