{
 "cells": [
  {
   "cell_type": "code",
   "execution_count": 1,
   "metadata": {},
   "outputs": [
    {
     "name": "stderr",
     "output_type": "stream",
     "text": [
      "Loading required package: lpSolve\n",
      "\n"
     ]
    }
   ],
   "source": [
    "library ('irr') #cohens kappa:kappa2\n",
    "library(\"readr\") #read_delim\n",
    "library(\"vcd\") #Kappa\n",
    "library(caret) #confusion matrix"
   ]
  },
  {
   "cell_type": "raw",
   "metadata": {},
   "source": [
    "in our video analysis vcd package was less good asz value vas inf, whil ein irr was 11.2. BUT; otherwise it is probably better as it provide the 95%IC!"
   ]
  },
  {
   "cell_type": "code",
   "execution_count": 2,
   "metadata": {},
   "outputs": [
    {
     "data": {
      "text/plain": [
       "R version 3.6.3 (2020-02-29)\n",
       "Platform: x86_64-w64-mingw32/x64 (64-bit)\n",
       "Running under: Windows 10 x64 (build 19042)\n",
       "\n",
       "Matrix products: default\n",
       "\n",
       "locale:\n",
       "[1] LC_COLLATE=French_Switzerland.1252  LC_CTYPE=French_Switzerland.1252   \n",
       "[3] LC_MONETARY=French_Switzerland.1252 LC_NUMERIC=C                       \n",
       "[5] LC_TIME=French_Switzerland.1252    \n",
       "\n",
       "attached base packages:\n",
       "[1] stats     graphics  grDevices utils     datasets  methods   base     \n",
       "\n",
       "other attached packages:\n",
       "[1] readr_1.4.0    irr_0.84.1     lpSolve_5.6.15\n",
       "\n",
       "loaded via a namespace (and not attached):\n",
       " [1] Rcpp_1.0.1      digest_0.6.18   crayon_1.3.4    IRdisplay_0.7.0\n",
       " [5] repr_0.19.2     R6_2.5.0        lifecycle_0.2.0 jsonlite_1.6   \n",
       " [9] magrittr_2.0.1  evaluate_0.13   pillar_1.4.7    rlang_0.4.10   \n",
       "[13] uuid_0.1-2      vctrs_0.3.6     ellipsis_0.3.1  IRkernel_1.1.1 \n",
       "[17] tools_3.6.3     hms_1.0.0       compiler_3.6.3  pkgconfig_2.0.3\n",
       "[21] base64enc_0.1-3 htmltools_0.3.6 pbdZMQ_0.3-3    tibble_3.0.5   "
      ]
     },
     "metadata": {},
     "output_type": "display_data"
    }
   ],
   "source": [
    "sessionInfo()"
   ]
  },
  {
   "cell_type": "markdown",
   "metadata": {},
   "source": [
    "# Video Raters reliability"
   ]
  },
  {
   "cell_type": "code",
   "execution_count": 4,
   "metadata": {},
   "outputs": [
    {
     "name": "stderr",
     "output_type": "stream",
     "text": [
      "\n",
      "\u001b[36m--\u001b[39m \u001b[1m\u001b[1mColumn specification\u001b[1m\u001b[22m \u001b[36m------------------------------------------------------------------------------------------------\u001b[39m\n",
      "cols(\n",
      "  Pen = \u001b[32mcol_double()\u001b[39m,\n",
      "  Date = \u001b[31mcol_character()\u001b[39m,\n",
      "  Time = \u001b[34mcol_time(format = \"\")\u001b[39m,\n",
      "  SerianlNumber = \u001b[31mcol_character()\u001b[39m,\n",
      "  Tag = \u001b[32mcol_double()\u001b[39m,\n",
      "  BirdID = \u001b[31mcol_character()\u001b[39m,\n",
      "  TransLogged = \u001b[31mcol_character()\u001b[39m,\n",
      "  Dori = \u001b[32mcol_double()\u001b[39m,\n",
      "  CommentsDori = \u001b[31mcol_character()\u001b[39m,\n",
      "  Masha = \u001b[32mcol_double()\u001b[39m,\n",
      "  CommentsMasha = \u001b[31mcol_character()\u001b[39m\n",
      ")\n",
      "\n",
      "\n"
     ]
    },
    {
     "data": {
      "text/html": [
       "<table>\n",
       "<thead><tr><th scope=col>Pen</th><th scope=col>Date</th><th scope=col>Time</th><th scope=col>SerianlNumber</th><th scope=col>Tag</th><th scope=col>BirdID</th><th scope=col>TransLogged</th><th scope=col>Dori</th><th scope=col>CommentsDori</th><th scope=col>Masha</th><th scope=col>CommentsMasha</th></tr></thead>\n",
       "<tbody>\n",
       "\t<tr><td>11                    </td><td>14.10.2020            </td><td>14:02:04              </td><td>02001E6A              </td><td>140                   </td><td>11wp                  </td><td>Tier 2 + untere Stange</td><td>1                     </td><td>NA                    </td><td>1                     </td><td>NA                    </td></tr>\n",
       "\t<tr><td>11                    </td><td>14.10.2020            </td><td>14:02:30              </td><td>02001E6A              </td><td>140                   </td><td>11wp                  </td><td>Tier 1                </td><td>1                     </td><td>NA                    </td><td>1                     </td><td>NA                    </td></tr>\n",
       "\t<tr><td>11                    </td><td>14.10.2020            </td><td>14:13:45              </td><td>02001E6A              </td><td>140                   </td><td>11wp                  </td><td>Tier 2 (mini 11)      </td><td>1                     </td><td>NA                    </td><td>1                     </td><td>NA                    </td></tr>\n",
       "</tbody>\n",
       "</table>\n"
      ],
      "text/latex": [
       "\\begin{tabular}{r|lllllllllll}\n",
       " Pen & Date & Time & SerianlNumber & Tag & BirdID & TransLogged & Dori & CommentsDori & Masha & CommentsMasha\\\\\n",
       "\\hline\n",
       "\t 11                     & 14.10.2020             & 14:02:04               & 02001E6A               & 140                    & 11wp                   & Tier 2 + untere Stange & 1                      & NA                     & 1                      & NA                    \\\\\n",
       "\t 11                     & 14.10.2020             & 14:02:30               & 02001E6A               & 140                    & 11wp                   & Tier 1                 & 1                      & NA                     & 1                      & NA                    \\\\\n",
       "\t 11                     & 14.10.2020             & 14:13:45               & 02001E6A               & 140                    & 11wp                   & Tier 2 (mini 11)       & 1                      & NA                     & 1                      & NA                    \\\\\n",
       "\\end{tabular}\n"
      ],
      "text/markdown": [
       "\n",
       "| Pen | Date | Time | SerianlNumber | Tag | BirdID | TransLogged | Dori | CommentsDori | Masha | CommentsMasha |\n",
       "|---|---|---|---|---|---|---|---|---|---|---|\n",
       "| 11                     | 14.10.2020             | 14:02:04               | 02001E6A               | 140                    | 11wp                   | Tier 2 + untere Stange | 1                      | NA                     | 1                      | NA                     |\n",
       "| 11                     | 14.10.2020             | 14:02:30               | 02001E6A               | 140                    | 11wp                   | Tier 1                 | 1                      | NA                     | 1                      | NA                     |\n",
       "| 11                     | 14.10.2020             | 14:13:45               | 02001E6A               | 140                    | 11wp                   | Tier 2 (mini 11)       | 1                      | NA                     | 1                      | NA                     |\n",
       "\n"
      ],
      "text/plain": [
       "  Pen Date       Time     SerianlNumber Tag BirdID TransLogged            Dori\n",
       "1 11  14.10.2020 14:02:04 02001E6A      140 11wp   Tier 2 + untere Stange 1   \n",
       "2 11  14.10.2020 14:02:30 02001E6A      140 11wp   Tier 1                 1   \n",
       "3 11  14.10.2020 14:13:45 02001E6A      140 11wp   Tier 2 (mini 11)       1   \n",
       "  CommentsDori Masha CommentsMasha\n",
       "1 NA           1     NA           \n",
       "2 NA           1     NA           \n",
       "3 NA           1     NA           "
      ]
     },
     "metadata": {},
     "output_type": "display_data"
    }
   ],
   "source": [
    "#open data\n",
    "path_analysis = \"G:/VPHI/Welfare/2- Research Projects/OFHE2.OriginsE2/GantnerSystem/GantnerCleaning/Results\"\n",
    "df_2raters = read_delim(file.path(path_analysis,'Reliability_Dori&Masha.csv'),';',trim_ws=TRUE)\n",
    "c_2student = c('Dori','Masha')\n",
    "df_2raters[c_2student] = lapply(df_2raters[c_2student], factor)\n",
    "head(df_2raters,3)"
   ]
  },
  {
   "cell_type": "code",
   "execution_count": 6,
   "metadata": {
    "scrolled": true
   },
   "outputs": [],
   "source": [
    "#### reliability for two helpers ####\n",
    "sink(file.path(path_analysis,'GantnerStatisticalAnalysisSummary.txt')) #create text file to wrtie results\n",
    "cat('------------------------\\n',file=file.path(path_analysis,'GantnerStatisticalAnalysisSummary.txt'), append=TRUE)\n",
    "#kappa test\n",
    "capture.output(kappa2(df_2raters[,c_2student], \"unweighted\"),\n",
    "              file=file.path(path_analysis,'GantnerStatisticalAnalysisSummary.txt'), append=TRUE)\n",
    "capture.output(agree(df_2raters[,c_2student], tolerance=0),\n",
    "              file=file.path(path_analysis,'GantnerStatisticalAnalysisSummary.txt'), append=TRUE) \n",
    "\n",
    "#binom test: Performs an exact test of a simple null hypothesis about the probability of success in a Bernoulli experiment\n",
    "capture.output(binom.test(sum(df_2raters[,c_2student[[1]]]==df_2raters[,c_2student[[2]]]), \n",
    "                          dim(df_2raters[,c_2student])[[1]], p=0.5),\n",
    "              file=file.path(path_analysis,'GantnerStatisticalAnalysisSummary.txt'), append=TRUE)\n",
    "\n",
    "#calculate Krippendorff's alpha\n",
    "#print(krippalpha(t(df_2raters[,c_2student]), metric = \"nominal\"))"
   ]
  },
  {
   "cell_type": "code",
   "execution_count": 7,
   "metadata": {},
   "outputs": [],
   "source": [
    "sink()"
   ]
  },
  {
   "cell_type": "code",
   "execution_count": 18,
   "metadata": {},
   "outputs": [
    {
     "data": {
      "text/plain": [
       " Percentage agreement (Tolerance=0)\n",
       "\n",
       " Subjects = 137 \n",
       "   Raters = 2 \n",
       "  %-agree = 100 "
      ]
     },
     "metadata": {},
     "output_type": "display_data"
    }
   ],
   "source": [
    "agree(df_2raters[,c_2student], tolerance=0)"
   ]
  },
  {
   "cell_type": "code",
   "execution_count": 17,
   "metadata": {},
   "outputs": [
    {
     "data": {
      "text/plain": [
       "\n",
       "\tExact binomial test\n",
       "\n",
       "data:  sum(df_2raters[, c_2student[[1]]] == df_2raters[, c_2student[[2]]]) and dim(df_2raters[, c_2student])[[1]]\n",
       "number of successes = 137, number of trials = 137, p-value < 2.2e-16\n",
       "alternative hypothesis: true probability of success is not equal to 0.5\n",
       "95 percent confidence interval:\n",
       " 0.9734331 1.0000000\n",
       "sample estimates:\n",
       "probability of success \n",
       "                     1 \n"
      ]
     },
     "metadata": {},
     "output_type": "display_data"
    }
   ],
   "source": [
    "binom.test(sum(df_2raters[,c_2student[[1]]]==df_2raters[,c_2student[[2]]]), \n",
    "                          dim(df_2raters[,c_2student])[[1]], p=0.5)"
   ]
  },
  {
   "cell_type": "code",
   "execution_count": 13,
   "metadata": {},
   "outputs": [
    {
     "data": {
      "text/plain": [
       " Cohen's Kappa for 2 Raters (Weights: unweighted)\n",
       "\n",
       " Subjects = 137 \n",
       "   Raters = 2 \n",
       "    Kappa = 1 \n",
       "\n",
       "        z = 11.7 \n",
       "  p-value = 0 "
      ]
     },
     "metadata": {},
     "output_type": "display_data"
    }
   ],
   "source": [
    "kappa2(df_2raters[,c_2student], \"unweighted\")"
   ]
  },
  {
   "cell_type": "code",
   "execution_count": 15,
   "metadata": {},
   "outputs": [
    {
     "data": {
      "text/plain": [
       " Cohen's Kappa for 2 Raters (Weights: equal)\n",
       "\n",
       " Subjects = 137 \n",
       "   Raters = 2 \n",
       "    Kappa = 1 \n",
       "\n",
       "        z = 11.7 \n",
       "  p-value = 0 "
      ]
     },
     "metadata": {},
     "output_type": "display_data"
    }
   ],
   "source": [
    "kappa2(df_2raters[,c_2student], \"equal\")"
   ]
  },
  {
   "cell_type": "code",
   "execution_count": 16,
   "metadata": {},
   "outputs": [
    {
     "data": {
      "text/plain": [
       " Cohen's Kappa for 2 Raters (Weights: squared)\n",
       "\n",
       " Subjects = 137 \n",
       "   Raters = 2 \n",
       "    Kappa = 1 \n",
       "\n",
       "        z = 11.7 \n",
       "  p-value = 0 "
      ]
     },
     "metadata": {},
     "output_type": "display_data"
    }
   ],
   "source": [
    "kappa2(df_2raters[,c_2student], \"square\")"
   ]
  },
  {
   "cell_type": "code",
   "execution_count": 9,
   "metadata": {},
   "outputs": [
    {
     "name": "stderr",
     "output_type": "stream",
     "text": [
      "Loading required package: lattice\n",
      "\n",
      "Loading required package: ggplot2\n",
      "\n"
     ]
    }
   ],
   "source": [
    "library(\"vcd\") #Kappa\n",
    "library(caret) #confusion matrix"
   ]
  },
  {
   "cell_type": "code",
   "execution_count": 22,
   "metadata": {},
   "outputs": [],
   "source": [
    "CM = confusionMatrix(df_2raters$Masha, df_2raters$Dori)"
   ]
  },
  {
   "cell_type": "code",
   "execution_count": 26,
   "metadata": {},
   "outputs": [
    {
     "data": {
      "text/plain": [
       "          Reference\n",
       "Prediction   0   1\n",
       "         0  28   0\n",
       "         1   0 109"
      ]
     },
     "metadata": {},
     "output_type": "display_data"
    }
   ],
   "source": [
    "CM$table"
   ]
  },
  {
   "cell_type": "code",
   "execution_count": 29,
   "metadata": {},
   "outputs": [
    {
     "data": {
      "text/html": [
       "<table>\n",
       "<thead><tr><th></th><th scope=col>lwr</th><th scope=col>upr</th></tr></thead>\n",
       "<tbody>\n",
       "\t<tr><th scope=row>Unweighted</th><td>1</td><td>1</td></tr>\n",
       "\t<tr><th scope=row>Weighted</th><td>1</td><td>1</td></tr>\n",
       "</tbody>\n",
       "</table>\n"
      ],
      "text/latex": [
       "\\begin{tabular}{r|ll}\n",
       "  & lwr & upr\\\\\n",
       "\\hline\n",
       "\tUnweighted & 1 & 1\\\\\n",
       "\tWeighted & 1 & 1\\\\\n",
       "\\end{tabular}\n"
      ],
      "text/markdown": [
       "\n",
       "| <!--/--> | lwr | upr |\n",
       "|---|---|---|\n",
       "| Unweighted | 1 | 1 |\n",
       "| Weighted | 1 | 1 |\n",
       "\n"
      ],
      "text/plain": [
       "            \n",
       "Kappa        lwr upr\n",
       "  Unweighted 1   1  \n",
       "  Weighted   1   1  "
      ]
     },
     "metadata": {},
     "output_type": "display_data"
    },
    {
     "data": {
      "text/plain": [
       "           value ASE   z Pr(>|z|)\n",
       "Unweighted     1   0 Inf        0\n",
       "Weighted       1   0 Inf        0\n",
       "\n",
       "Weights:\n",
       "     [,1] [,2]\n",
       "[1,]    1    0\n",
       "[2,]    0    1"
      ]
     },
     "metadata": {},
     "output_type": "display_data"
    },
    {
     "name": "stdout",
     "output_type": "stream",
     "text": [
      "           value ASE   z Pr(>|z|) lower upper\n",
      "Unweighted     1   0 Inf        0     1     1\n",
      "Weighted       1   0 Inf        0     1     1\n"
     ]
    }
   ],
   "source": [
    "K = Kappa(confusionMatrix(df_2raters$Masha, df_2raters$Dori)$table)#, weights=\"Fleiss-Cohen\")\n",
    "confint(K)\n",
    "summary(K)\n",
    "print(K, CI = TRUE)"
   ]
  },
  {
   "cell_type": "code",
   "execution_count": null,
   "metadata": {},
   "outputs": [],
   "source": [
    "#calculate Krippendorff's alpha\n",
    "#print(krippalpha(t(df_2raters[,c_2student]), metric = \"nominal\"))"
   ]
  },
  {
   "cell_type": "code",
   "execution_count": null,
   "metadata": {},
   "outputs": [],
   "source": []
  },
  {
   "cell_type": "code",
   "execution_count": null,
   "metadata": {},
   "outputs": [],
   "source": []
  },
  {
   "cell_type": "code",
   "execution_count": null,
   "metadata": {},
   "outputs": [],
   "source": []
  }
 ],
 "metadata": {
  "kernelspec": {
   "display_name": "R",
   "language": "R",
   "name": "ir"
  },
  "language_info": {
   "codemirror_mode": "r",
   "file_extension": ".r",
   "mimetype": "text/x-r-source",
   "name": "R",
   "pygments_lexer": "r",
   "version": "3.6.3"
  }
 },
 "nbformat": 4,
 "nbformat_minor": 2
}
