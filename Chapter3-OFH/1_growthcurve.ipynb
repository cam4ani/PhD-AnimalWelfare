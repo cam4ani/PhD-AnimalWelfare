{
 "cells": [
  {
   "cell_type": "code",
   "execution_count": 1,
   "id": "460d6197",
   "metadata": {},
   "outputs": [
    {
     "name": "stderr",
     "output_type": "stream",
     "text": [
      "Warning message:\n",
      "\"le package 'brms' a été compilé avec la version R 4.1.2\"\n",
      "Le chargement a nécessité le package : Rcpp\n",
      "\n",
      "Warning message:\n",
      "\"le package 'Rcpp' a été compilé avec la version R 4.1.2\"\n",
      "Loading 'brms' package (version 2.16.3). Useful instructions\n",
      "can be found by typing help('brms'). A more detailed introduction\n",
      "to the package is available through vignette('brms_overview').\n",
      "\n",
      "\n",
      "Attachement du package : 'brms'\n",
      "\n",
      "\n",
      "L'objet suivant est masqué depuis 'package:stats':\n",
      "\n",
      "    ar\n",
      "\n",
      "\n",
      "Warning message:\n",
      "\"le package 'MCMCglmm' a été compilé avec la version R 4.1.2\"\n",
      "Le chargement a nécessité le package : Matrix\n",
      "\n",
      "Warning message:\n",
      "\"le package 'Matrix' a été compilé avec la version R 4.1.2\"\n",
      "Le chargement a nécessité le package : coda\n",
      "\n",
      "Warning message:\n",
      "\"le package 'coda' a été compilé avec la version R 4.1.2\"\n",
      "Le chargement a nécessité le package : ape\n",
      "\n",
      "Warning message:\n",
      "\"le package 'ape' a été compilé avec la version R 4.1.2\"\n",
      "\n",
      "Attachement du package : 'MCMCglmm'\n",
      "\n",
      "\n",
      "L'objet suivant est masqué depuis 'package:brms':\n",
      "\n",
      "    me\n",
      "\n",
      "\n",
      "Warning message:\n",
      "\"le package 'dplyr' a été compilé avec la version R 4.1.2\"\n",
      "\n",
      "Attachement du package : 'dplyr'\n",
      "\n",
      "\n",
      "Les objets suivants sont masqués depuis 'package:stats':\n",
      "\n",
      "    filter, lag\n",
      "\n",
      "\n",
      "Les objets suivants sont masqués depuis 'package:base':\n",
      "\n",
      "    intersect, setdiff, setequal, union\n",
      "\n",
      "\n",
      "Warning message:\n",
      "\"le package 'lmerTest' a été compilé avec la version R 4.1.2\"\n",
      "Le chargement a nécessité le package : lme4\n",
      "\n",
      "Warning message:\n",
      "\"le package 'lme4' a été compilé avec la version R 4.1.2\"\n",
      "\n",
      "Attachement du package : 'lme4'\n",
      "\n",
      "\n",
      "L'objet suivant est masqué depuis 'package:brms':\n",
      "\n",
      "    ngrps\n",
      "\n",
      "\n",
      "\n",
      "Attachement du package : 'lmerTest'\n",
      "\n",
      "\n",
      "L'objet suivant est masqué depuis 'package:lme4':\n",
      "\n",
      "    lmer\n",
      "\n",
      "\n",
      "L'objet suivant est masqué depuis 'package:stats':\n",
      "\n",
      "    step\n",
      "\n",
      "\n",
      "Warning message:\n",
      "\"le package 'sjPlot' a été compilé avec la version R 4.1.2\"\n",
      "Warning message:\n",
      "\"le package 'ggplot2' a été compilé avec la version R 4.1.2\"\n",
      "Warning message:\n",
      "\"le package 'rstan' a été compilé avec la version R 4.1.2\"\n",
      "Le chargement a nécessité le package : StanHeaders\n",
      "\n",
      "Warning message:\n",
      "\"le package 'StanHeaders' a été compilé avec la version R 4.1.2\"\n",
      "rstan (Version 2.21.2, GitRev: 2e1f913d3ca3)\n",
      "\n",
      "For execution on a local, multicore CPU with excess RAM we recommend calling\n",
      "options(mc.cores = parallel::detectCores()).\n",
      "To avoid recompilation of unchanged Stan programs, we recommend calling\n",
      "rstan_options(auto_write = TRUE)\n",
      "\n",
      "Do not specify '-march=native' in 'LOCAL_CPPFLAGS' or a Makevars file\n",
      "\n",
      "\n",
      "Attachement du package : 'rstan'\n",
      "\n",
      "\n",
      "L'objet suivant est masqué depuis 'package:coda':\n",
      "\n",
      "    traceplot\n",
      "\n",
      "\n"
     ]
    }
   ],
   "source": [
    "library(brms) #predictability: Double hierearchical model\n",
    "library(MCMCglmm) #HPDinterval\n",
    "library(dplyr) #%>%\n",
    "library(lmerTest) #lmer\n",
    "#library(MuMIn) #r2\n",
    "#library(merTools) #sim\n",
    "library(sjPlot) #plot coeff\n",
    "library(ggplot2) #ylim in plot\n",
    "library(rstan) #model diagnostic"
   ]
  },
  {
   "cell_type": "code",
   "execution_count": 2,
   "id": "53b04981",
   "metadata": {},
   "outputs": [
    {
     "data": {
      "text/html": [
       "<table class=\"dataframe\">\n",
       "<caption>A matrix: 2 × 1 of type dbl</caption>\n",
       "<thead>\n",
       "\t<tr><th></th><th scope=col>TRAN</th></tr>\n",
       "</thead>\n",
       "<tbody>\n",
       "\t<tr><th scope=row>OFH</th><td>0</td></tr>\n",
       "\t<tr><th scope=row>TRAN</th><td>1</td></tr>\n",
       "</tbody>\n",
       "</table>\n"
      ],
      "text/latex": [
       "A matrix: 2 × 1 of type dbl\n",
       "\\begin{tabular}{r|l}\n",
       "  & TRAN\\\\\n",
       "\\hline\n",
       "\tOFH & 0\\\\\n",
       "\tTRAN & 1\\\\\n",
       "\\end{tabular}\n"
      ],
      "text/markdown": [
       "\n",
       "A matrix: 2 × 1 of type dbl\n",
       "\n",
       "| <!--/--> | TRAN |\n",
       "|---|---|\n",
       "| OFH | 0 |\n",
       "| TRAN | 1 |\n",
       "\n"
      ],
      "text/plain": [
       "     TRAN\n",
       "OFH  0   \n",
       "TRAN 1   "
      ]
     },
     "metadata": {},
     "output_type": "display_data"
    },
    {
     "data": {
      "text/html": [
       "<table class=\"dataframe\">\n",
       "<caption>A matrix: 2 × 1 of type dbl</caption>\n",
       "<thead>\n",
       "\t<tr><th></th><th scope=col>OFH</th></tr>\n",
       "</thead>\n",
       "<tbody>\n",
       "\t<tr><th scope=row>TRAN</th><td>0</td></tr>\n",
       "\t<tr><th scope=row>OFH</th><td>1</td></tr>\n",
       "</tbody>\n",
       "</table>\n"
      ],
      "text/latex": [
       "A matrix: 2 × 1 of type dbl\n",
       "\\begin{tabular}{r|l}\n",
       "  & OFH\\\\\n",
       "\\hline\n",
       "\tTRAN & 0\\\\\n",
       "\tOFH & 1\\\\\n",
       "\\end{tabular}\n"
      ],
      "text/markdown": [
       "\n",
       "A matrix: 2 × 1 of type dbl\n",
       "\n",
       "| <!--/--> | OFH |\n",
       "|---|---|\n",
       "| TRAN | 0 |\n",
       "| OFH | 1 |\n",
       "\n"
      ],
      "text/plain": [
       "     OFH\n",
       "TRAN 0  \n",
       "OFH  1  "
      ]
     },
     "metadata": {},
     "output_type": "display_data"
    },
    {
     "data": {
      "text/html": [
       "<table class=\"dataframe\">\n",
       "<caption>A matrix: 7 × 6 of type dbl</caption>\n",
       "<thead>\n",
       "\t<tr><th></th><th scope=col>LEXP</th><th scope=col>LEXPLOST</th><th scope=col>MEXP</th><th scope=col>MEXPLOST</th><th scope=col>NewAfterEpi</th><th scope=col>NewAfterEpiLOST</th></tr>\n",
       "</thead>\n",
       "<tbody>\n",
       "\t<tr><th scope=row>EPI</th><td>0</td><td>0</td><td>0</td><td>0</td><td>0</td><td>0</td></tr>\n",
       "\t<tr><th scope=row>LEXP</th><td>1</td><td>0</td><td>0</td><td>0</td><td>0</td><td>0</td></tr>\n",
       "\t<tr><th scope=row>LEXPLOST</th><td>0</td><td>1</td><td>0</td><td>0</td><td>0</td><td>0</td></tr>\n",
       "\t<tr><th scope=row>MEXP</th><td>0</td><td>0</td><td>1</td><td>0</td><td>0</td><td>0</td></tr>\n",
       "\t<tr><th scope=row>MEXPLOST</th><td>0</td><td>0</td><td>0</td><td>1</td><td>0</td><td>0</td></tr>\n",
       "\t<tr><th scope=row>NewAfterEpi</th><td>0</td><td>0</td><td>0</td><td>0</td><td>1</td><td>0</td></tr>\n",
       "\t<tr><th scope=row>NewAfterEpiLOST</th><td>0</td><td>0</td><td>0</td><td>0</td><td>0</td><td>1</td></tr>\n",
       "</tbody>\n",
       "</table>\n"
      ],
      "text/latex": [
       "A matrix: 7 × 6 of type dbl\n",
       "\\begin{tabular}{r|llllll}\n",
       "  & LEXP & LEXPLOST & MEXP & MEXPLOST & NewAfterEpi & NewAfterEpiLOST\\\\\n",
       "\\hline\n",
       "\tEPI & 0 & 0 & 0 & 0 & 0 & 0\\\\\n",
       "\tLEXP & 1 & 0 & 0 & 0 & 0 & 0\\\\\n",
       "\tLEXPLOST & 0 & 1 & 0 & 0 & 0 & 0\\\\\n",
       "\tMEXP & 0 & 0 & 1 & 0 & 0 & 0\\\\\n",
       "\tMEXPLOST & 0 & 0 & 0 & 1 & 0 & 0\\\\\n",
       "\tNewAfterEpi & 0 & 0 & 0 & 0 & 1 & 0\\\\\n",
       "\tNewAfterEpiLOST & 0 & 0 & 0 & 0 & 0 & 1\\\\\n",
       "\\end{tabular}\n"
      ],
      "text/markdown": [
       "\n",
       "A matrix: 7 × 6 of type dbl\n",
       "\n",
       "| <!--/--> | LEXP | LEXPLOST | MEXP | MEXPLOST | NewAfterEpi | NewAfterEpiLOST |\n",
       "|---|---|---|---|---|---|---|\n",
       "| EPI | 0 | 0 | 0 | 0 | 0 | 0 |\n",
       "| LEXP | 1 | 0 | 0 | 0 | 0 | 0 |\n",
       "| LEXPLOST | 0 | 1 | 0 | 0 | 0 | 0 |\n",
       "| MEXP | 0 | 0 | 1 | 0 | 0 | 0 |\n",
       "| MEXPLOST | 0 | 0 | 0 | 1 | 0 | 0 |\n",
       "| NewAfterEpi | 0 | 0 | 0 | 0 | 1 | 0 |\n",
       "| NewAfterEpiLOST | 0 | 0 | 0 | 0 | 0 | 1 |\n",
       "\n"
      ],
      "text/plain": [
       "                LEXP LEXPLOST MEXP MEXPLOST NewAfterEpi NewAfterEpiLOST\n",
       "EPI             0    0        0    0        0           0              \n",
       "LEXP            1    0        0    0        0           0              \n",
       "LEXPLOST        0    1        0    0        0           0              \n",
       "MEXP            0    0        1    0        0           0              \n",
       "MEXPLOST        0    0        0    1        0           0              \n",
       "NewAfterEpi     0    0        0    0        1           0              \n",
       "NewAfterEpiLOST 0    0        0    0        0           1              "
      ]
     },
     "metadata": {},
     "output_type": "display_data"
    },
    {
     "data": {
      "text/html": [
       "<table class=\"dataframe\">\n",
       "<caption>A matrix: 7 × 6 of type dbl</caption>\n",
       "<thead>\n",
       "\t<tr><th></th><th scope=col>EPI</th><th scope=col>LEXPLOST</th><th scope=col>MEXP</th><th scope=col>MEXPLOST</th><th scope=col>NewAfterEpi</th><th scope=col>NewAfterEpiLOST</th></tr>\n",
       "</thead>\n",
       "<tbody>\n",
       "\t<tr><th scope=row>LEXP</th><td>0</td><td>0</td><td>0</td><td>0</td><td>0</td><td>0</td></tr>\n",
       "\t<tr><th scope=row>EPI</th><td>1</td><td>0</td><td>0</td><td>0</td><td>0</td><td>0</td></tr>\n",
       "\t<tr><th scope=row>LEXPLOST</th><td>0</td><td>1</td><td>0</td><td>0</td><td>0</td><td>0</td></tr>\n",
       "\t<tr><th scope=row>MEXP</th><td>0</td><td>0</td><td>1</td><td>0</td><td>0</td><td>0</td></tr>\n",
       "\t<tr><th scope=row>MEXPLOST</th><td>0</td><td>0</td><td>0</td><td>1</td><td>0</td><td>0</td></tr>\n",
       "\t<tr><th scope=row>NewAfterEpi</th><td>0</td><td>0</td><td>0</td><td>0</td><td>1</td><td>0</td></tr>\n",
       "\t<tr><th scope=row>NewAfterEpiLOST</th><td>0</td><td>0</td><td>0</td><td>0</td><td>0</td><td>1</td></tr>\n",
       "</tbody>\n",
       "</table>\n"
      ],
      "text/latex": [
       "A matrix: 7 × 6 of type dbl\n",
       "\\begin{tabular}{r|llllll}\n",
       "  & EPI & LEXPLOST & MEXP & MEXPLOST & NewAfterEpi & NewAfterEpiLOST\\\\\n",
       "\\hline\n",
       "\tLEXP & 0 & 0 & 0 & 0 & 0 & 0\\\\\n",
       "\tEPI & 1 & 0 & 0 & 0 & 0 & 0\\\\\n",
       "\tLEXPLOST & 0 & 1 & 0 & 0 & 0 & 0\\\\\n",
       "\tMEXP & 0 & 0 & 1 & 0 & 0 & 0\\\\\n",
       "\tMEXPLOST & 0 & 0 & 0 & 1 & 0 & 0\\\\\n",
       "\tNewAfterEpi & 0 & 0 & 0 & 0 & 1 & 0\\\\\n",
       "\tNewAfterEpiLOST & 0 & 0 & 0 & 0 & 0 & 1\\\\\n",
       "\\end{tabular}\n"
      ],
      "text/markdown": [
       "\n",
       "A matrix: 7 × 6 of type dbl\n",
       "\n",
       "| <!--/--> | EPI | LEXPLOST | MEXP | MEXPLOST | NewAfterEpi | NewAfterEpiLOST |\n",
       "|---|---|---|---|---|---|---|\n",
       "| LEXP | 0 | 0 | 0 | 0 | 0 | 0 |\n",
       "| EPI | 1 | 0 | 0 | 0 | 0 | 0 |\n",
       "| LEXPLOST | 0 | 1 | 0 | 0 | 0 | 0 |\n",
       "| MEXP | 0 | 0 | 1 | 0 | 0 | 0 |\n",
       "| MEXPLOST | 0 | 0 | 0 | 1 | 0 | 0 |\n",
       "| NewAfterEpi | 0 | 0 | 0 | 0 | 1 | 0 |\n",
       "| NewAfterEpiLOST | 0 | 0 | 0 | 0 | 0 | 1 |\n",
       "\n"
      ],
      "text/plain": [
       "                EPI LEXPLOST MEXP MEXPLOST NewAfterEpi NewAfterEpiLOST\n",
       "LEXP            0   0        0    0        0           0              \n",
       "EPI             1   0        0    0        0           0              \n",
       "LEXPLOST        0   1        0    0        0           0              \n",
       "MEXP            0   0        1    0        0           0              \n",
       "MEXPLOST        0   0        0    1        0           0              \n",
       "NewAfterEpi     0   0        0    0        1           0              \n",
       "NewAfterEpiLOST 0   0        0    0        0           1              "
      ]
     },
     "metadata": {},
     "output_type": "display_data"
    },
    {
     "name": "stdout",
     "output_type": "stream",
     "text": [
      "[1] 1121    9\n"
     ]
    },
    {
     "data": {
      "text/plain": [
       "     HenID      Treatment              CLASS         PenID         R.Pen      \n",
       " hen_10 :   7   TRAN:559   LEXP           :202   pen_10 :145   Min.   :1.000  \n",
       " hen_101:   7   OFH :562   EPI            :350   pen_4  :144   1st Qu.:2.000  \n",
       " hen_102:   7              LEXPLOST       : 59   pen_9  :143   Median :3.000  \n",
       " hen_106:   7              MEXP           :260   pen_8  :142   Mean   :2.505  \n",
       " hen_109:   7              MEXPLOST       : 13   pen_3  :141   3rd Qu.:3.000  \n",
       " hen_13 :   7              NewAfterEpi    :235   pen_5  :141   Max.   :4.000  \n",
       " (Other):1079              NewAfterEpiLOST:  2   (Other):265   NA's   :248    \n",
       "   variable             weight           date                DOA       \n",
       " Length:1121        Min.   :  48.6   Length:1121        Min.   :  7.0  \n",
       " Class :character   1st Qu.:1256.0   Class :character   1st Qu.:118.0  \n",
       " Mode  :character   Median :1731.9   Mode  :character   Median :215.0  \n",
       "                    Mean   :1507.8                      Mean   :217.9  \n",
       "                    3rd Qu.:1862.4                      3rd Qu.:313.0  \n",
       "                    Max.   :2331.1                      Max.   :417.0  \n",
       "                                                                       "
      ]
     },
     "metadata": {},
     "output_type": "display_data"
    }
   ],
   "source": [
    "#weight data\n",
    "#focal birds information (one row per focal bird)\n",
    "path_ = 'G:/VPHI/Welfare/2- Research Projects/OFHE2.OriginsE2/DataOutput/TrackingSystem/ALLDATA_'\n",
    "#df = read.csv(file.path(path_,'df_daily_aggregatedHA.csv'), header = TRUE, sep = \",\")\n",
    "df = read.csv(file.path(path_,'OFH_df_FOCALBIRDS.csv'), header = TRUE, sep = \",\")\n",
    "df$HenID = as.factor(df$HenID)   \n",
    "df$PenID = as.factor(df$PenID)\n",
    "df$CLASS = as.factor(df$CLASS) \n",
    "df$Treatment = as.factor(df$Treatment)\n",
    "\n",
    "#scale: mean-centering of the environmental variable so that intercepts reflect average values for the HenID and ind. \n",
    "#df$temperature_C_avg_scale = scale(df$temperature_C_avg, center=TRUE, scale=TRUE)\n",
    "\n",
    "#setting reference group\n",
    "contrasts(df$Treatment)\n",
    "df <- df %>% mutate(Treatment = relevel(Treatment, ref = \"TRAN\"))\n",
    "contrasts(df$Treatment)\n",
    "\n",
    "contrasts(df$CLASS)\n",
    "df <- df %>% mutate(CLASS = relevel(CLASS, ref = \"LEXP\"))\n",
    "contrasts(df$CLASS)\n",
    "print(dim(df))\n",
    "summary(df)"
   ]
  },
  {
   "cell_type": "code",
   "execution_count": 3,
   "id": "91cce811",
   "metadata": {},
   "outputs": [],
   "source": [
    "#https://stackoverflow.com/questions/38001345/using-lm-nls-and-glm-to-estimate-population-growth-rate-in-malthusian\n",
    "#nls and nlsLM functions in stats and minpack.lm packages in R software"
   ]
  },
  {
   "cell_type": "markdown",
   "id": "78406726",
   "metadata": {},
   "source": [
    "## logistic growth curve"
   ]
  },
  {
   "cell_type": "code",
   "execution_count": 4,
   "id": "6a5e793b",
   "metadata": {},
   "outputs": [
    {
     "data": {
      "text/plain": [
       "\n",
       "Formula: weight ~ SSlogis(DOA, Asym, xmid, scal)\n",
       "\n",
       "Parameters:\n",
       "     Estimate Std. Error t value Pr(>|t|)    \n",
       "Asym 1861.865      6.985  266.55   <2e-16 ***\n",
       "xmid  101.340      1.071   94.58   <2e-16 ***\n",
       "scal   31.468      1.097   28.68   <2e-16 ***\n",
       "---\n",
       "Signif. codes:  0 '***' 0.001 '**' 0.01 '*' 0.05 '.' 0.1 ' ' 1\n",
       "\n",
       "Residual standard error: 111.9 on 559 degrees of freedom\n",
       "\n",
       "Number of iterations to convergence: 3 \n",
       "Achieved convergence tolerance: 3.355e-06\n"
      ]
     },
     "metadata": {},
     "output_type": "display_data"
    },
    {
     "data": {
      "image/png": "[encoded data removed]",
      "text/plain": [
       "plot without title"
      ]
     },
     "metadata": {
      "image/png": {
       "height": 420,
       "width": 420
      }
     },
     "output_type": "display_data"
    }
   ],
   "source": [
    "df_OFH = df[df$Treatment=='OFH',]\n",
    "fit_OFH = nls(weight ~ SSlogis(DOA, Asym, xmid, scal), data = df_OFH) #SSlogis() logistic growth curve\n",
    "#Asym, xmid, scal are param that will be estiamted, you can name them as you want\n",
    "#from documentation (https://www.rdocumentation.org/packages/stats/versions/3.6.2/topics/SSlogis) :\n",
    "#Asym: a numeric parameter representing the asymptote (i.e. max posisble value)\n",
    "#xmid: a numeric param. representing the x value at the inflection pt of the crv. The value of SSlogis will be Asym/2 at xmid\n",
    "#scal: a numeric scale parameter on the input axis.\n",
    "summary(fit_OFH)\n",
    "#\"The logistic growth curve has some upper bound on it (i.e. some point which the model can not pass). The model estimates this\n",
    "#to be 1858.0956. So, if I were to make predictions for very large x, you would see that the curve will get very close to 25.657 but will never touch it or pass it. T\n",
    "plot(df_OFH$DOA, df_OFH$weight)\n",
    "lines(df_OFH$DOA, predict(fit_OFH))"
   ]
  },
  {
   "cell_type": "code",
   "execution_count": 5,
   "id": "59fe8d12",
   "metadata": {},
   "outputs": [
    {
     "data": {
      "text/plain": [
       "\n",
       "Formula: weight ~ SSlogis(DOA, Asym, xmid, scal)\n",
       "\n",
       "Parameters:\n",
       "     Estimate Std. Error t value Pr(>|t|)    \n",
       "Asym 1854.206      7.723  240.08   <2e-16 ***\n",
       "xmid  102.546      1.131   90.70   <2e-16 ***\n",
       "scal   31.609      1.147   27.56   <2e-16 ***\n",
       "---\n",
       "Signif. codes:  0 '***' 0.001 '**' 0.01 '*' 0.05 '.' 0.1 ' ' 1\n",
       "\n",
       "Residual standard error: 123 on 556 degrees of freedom\n",
       "\n",
       "Number of iterations to convergence: 3 \n",
       "Achieved convergence tolerance: 7.305e-07\n"
      ]
     },
     "metadata": {},
     "output_type": "display_data"
    }
   ],
   "source": [
    "df_TRAN = df[df$Treatment=='TRAN',]\n",
    "fit_TRAN = nls(weight ~ SSlogis(DOA, Asym, xmid, scal), data = df_TRAN)\n",
    "summary(fit_TRAN)\n",
    "#\"The logistic growth curve has some upper bound on it (i.e. some point which the model can not pass). The model estimates this\n",
    "#to be 1858.0956. So, if I were to make predictions for very large x, you would see that the curve will get very close to 25.657 but will never touch it or pass it. T"
   ]
  },
  {
   "cell_type": "code",
   "execution_count": 6,
   "id": "33c32c84",
   "metadata": {},
   "outputs": [
    {
     "data": {
      "image/png": "[encoded data removed]",
      "text/plain": [
       "plot without title"
      ]
     },
     "metadata": {
      "image/png": {
       "height": 420,
       "width": 420
      }
     },
     "output_type": "display_data"
    }
   ],
   "source": [
    "plot(df_TRAN$DOA, df_TRAN$weight, col=rgb(red = 0, green = 0, blue = 1, alpha = 0.2), pch=8)\n",
    "lines(df_TRAN$DOA, predict(fit_TRAN), col=rgb(red = 0, green = 0, blue = 1, alpha = 1))\n",
    "points(df_OFH$DOA, df_OFH$weight, col=rgb(red = 1, green = 0, blue = 0, alpha = 0.2), pch=8) #points() instead of plot() as we want plot to overlay!\n",
    "lines(df_OFH$DOA, predict(fit_OFH), col=rgb(red = 1, green = 0, blue = 0, alpha = 1))"
   ]
  },
  {
   "cell_type": "markdown",
   "id": "114a5401",
   "metadata": {},
   "source": [
    "## significance"
   ]
  },
  {
   "cell_type": "raw",
   "id": "baea4579",
   "metadata": {},
   "source": [
    "from: https://stats.stackexchange.com/questions/458195/compare-non-linear-model-parameter-estimates-between-conditions\n",
    "Create a model m12 consisting of separate parameters for each Treatment and a model m0 where the parameters are the same for each Treatment and then compare those two models using an F test. In R that would be done like this:"
   ]
  },
  {
   "cell_type": "code",
   "execution_count": 7,
   "id": "6022c669",
   "metadata": {},
   "outputs": [
    {
     "data": {
      "text/plain": [
       "Nonlinear regression model\n",
       "  model: weight ~ SSlogis(DOA, Asym, xmid, scal)\n",
       "   data: df\n",
       "   Asym    xmid    scal \n",
       "1861.86  101.34   31.47 \n",
       " residual sum-of-squares: 6997284\n",
       "\n",
       "Number of iterations to convergence: 3 \n",
       "Achieved convergence tolerance: 3.355e-06"
      ]
     },
     "metadata": {},
     "output_type": "display_data"
    },
    {
     "data": {
      "text/plain": [
       "Nonlinear regression model\n",
       "  model: weight ~ SSlogis(DOA, Asym, xmid, scal)\n",
       "   data: df\n",
       "   Asym    xmid    scal \n",
       "1854.21  102.55   31.61 \n",
       " residual sum-of-squares: 8411061\n",
       "\n",
       "Number of iterations to convergence: 3 \n",
       "Achieved convergence tolerance: 7.305e-07"
      ]
     },
     "metadata": {},
     "output_type": "display_data"
    },
    {
     "data": {
      "text/html": [
       "<table class=\"dataframe\">\n",
       "<caption>A anova: 2 × 6</caption>\n",
       "<thead>\n",
       "\t<tr><th></th><th scope=col>Res.Df</th><th scope=col>Res.Sum Sq</th><th scope=col>Df</th><th scope=col>Sum Sq</th><th scope=col>F value</th><th scope=col>Pr(&gt;F)</th></tr>\n",
       "\t<tr><th></th><th scope=col>&lt;int&gt;</th><th scope=col>&lt;dbl&gt;</th><th scope=col>&lt;int&gt;</th><th scope=col>&lt;dbl&gt;</th><th scope=col>&lt;dbl&gt;</th><th scope=col>&lt;dbl&gt;</th></tr>\n",
       "</thead>\n",
       "<tbody>\n",
       "\t<tr><th scope=row>1</th><td>1118</td><td>15450159</td><td>NA</td><td>      NA</td><td>      NA</td><td>       NA</td></tr>\n",
       "\t<tr><th scope=row>2</th><td>1115</td><td>15408345</td><td> 3</td><td>41814.84</td><td>1.008621</td><td>0.3880743</td></tr>\n",
       "</tbody>\n",
       "</table>\n"
      ],
      "text/latex": [
       "A anova: 2 × 6\n",
       "\\begin{tabular}{r|llllll}\n",
       "  & Res.Df & Res.Sum Sq & Df & Sum Sq & F value & Pr(>F)\\\\\n",
       "  & <int> & <dbl> & <int> & <dbl> & <dbl> & <dbl>\\\\\n",
       "\\hline\n",
       "\t1 & 1118 & 15450159 & NA &       NA &       NA &        NA\\\\\n",
       "\t2 & 1115 & 15408345 &  3 & 41814.84 & 1.008621 & 0.3880743\\\\\n",
       "\\end{tabular}\n"
      ],
      "text/markdown": [
       "\n",
       "A anova: 2 × 6\n",
       "\n",
       "| <!--/--> | Res.Df &lt;int&gt; | Res.Sum Sq &lt;dbl&gt; | Df &lt;int&gt; | Sum Sq &lt;dbl&gt; | F value &lt;dbl&gt; | Pr(&gt;F) &lt;dbl&gt; |\n",
       "|---|---|---|---|---|---|---|\n",
       "| 1 | 1118 | 15450159 | NA |       NA |       NA |        NA |\n",
       "| 2 | 1115 | 15408345 |  3 | 41814.84 | 1.008621 | 0.3880743 |\n",
       "\n"
      ],
      "text/plain": [
       "  Res.Df Res.Sum Sq Df Sum Sq   F value  Pr(>F)   \n",
       "1 1118   15450159   NA       NA       NA        NA\n",
       "2 1115   15408345    3 41814.84 1.008621 0.3880743"
      ]
     },
     "metadata": {},
     "output_type": "display_data"
    },
    {
     "data": {
      "text/html": [
       "<table class=\"dataframe\">\n",
       "<caption>A anova: 2 × 6</caption>\n",
       "<thead>\n",
       "\t<tr><th></th><th scope=col>Res.Df</th><th scope=col>Res.Sum Sq</th><th scope=col>Df</th><th scope=col>Sum Sq</th><th scope=col>F value</th><th scope=col>Pr(&gt;F)</th></tr>\n",
       "\t<tr><th></th><th scope=col>&lt;int&gt;</th><th scope=col>&lt;dbl&gt;</th><th scope=col>&lt;int&gt;</th><th scope=col>&lt;dbl&gt;</th><th scope=col>&lt;dbl&gt;</th><th scope=col>&lt;dbl&gt;</th></tr>\n",
       "</thead>\n",
       "<tbody>\n",
       "\t<tr><th scope=row>1</th><td>1118</td><td>15450159</td><td>NA</td><td>      NA</td><td>      NA</td><td>       NA</td></tr>\n",
       "\t<tr><th scope=row>2</th><td>1117</td><td>15420001</td><td> 1</td><td>30158.42</td><td>2.184627</td><td>0.1396767</td></tr>\n",
       "</tbody>\n",
       "</table>\n"
      ],
      "text/latex": [
       "A anova: 2 × 6\n",
       "\\begin{tabular}{r|llllll}\n",
       "  & Res.Df & Res.Sum Sq & Df & Sum Sq & F value & Pr(>F)\\\\\n",
       "  & <int> & <dbl> & <int> & <dbl> & <dbl> & <dbl>\\\\\n",
       "\\hline\n",
       "\t1 & 1118 & 15450159 & NA &       NA &       NA &        NA\\\\\n",
       "\t2 & 1117 & 15420001 &  1 & 30158.42 & 2.184627 & 0.1396767\\\\\n",
       "\\end{tabular}\n"
      ],
      "text/markdown": [
       "\n",
       "A anova: 2 × 6\n",
       "\n",
       "| <!--/--> | Res.Df &lt;int&gt; | Res.Sum Sq &lt;dbl&gt; | Df &lt;int&gt; | Sum Sq &lt;dbl&gt; | F value &lt;dbl&gt; | Pr(&gt;F) &lt;dbl&gt; |\n",
       "|---|---|---|---|---|---|---|\n",
       "| 1 | 1118 | 15450159 | NA |       NA |       NA |        NA |\n",
       "| 2 | 1117 | 15420001 |  1 | 30158.42 | 2.184627 | 0.1396767 |\n",
       "\n"
      ],
      "text/plain": [
       "  Res.Df Res.Sum Sq Df Sum Sq   F value  Pr(>F)   \n",
       "1 1118   15450159   NA       NA       NA        NA\n",
       "2 1117   15420001    1 30158.42 2.184627 0.1396767"
      ]
     },
     "metadata": {},
     "output_type": "display_data"
    }
   ],
   "source": [
    "#OFH & TRAN have the same set of parameters\n",
    "fo = weight ~ SSlogis(DOA, Asym, xmid, scal)\n",
    "m0 = nls(fo, df)\n",
    "\n",
    "#################################################################\n",
    "#OFH & TRAN have different set of parameters\n",
    "m1 = nls(fo, df, subset = Treatment == 'OFH') #used to set starting values for m12 for OFH\n",
    "m2 = nls(fo, df, subset = Treatment == 'TRAN')#used to set starting values for m12 for TRAN\n",
    "m1\n",
    "m2\n",
    "Logis = function(x, Asym, xmid, scal) Asym / (1 + exp((xmid - x)/ scal))\n",
    "m12 = nls(weight ~ Logis(DOA, Asym[Treatment], xmid[Treatment], scal[Treatment]),df, \n",
    "          start = as.data.frame(rbind(coef(m1), coef(m2))))\n",
    "#test which model is best\n",
    "anova(m0, m12)\n",
    "#--> p-value >0.05 --> cant reject H0 --> adding specific value for each treatment is not a significant improvement\n",
    "\n",
    "#################################################################\n",
    "#OFH & TRAN have same set of parameters expect asymp (max value)\n",
    "m12bis = nls(weight ~ Logis(DOA, Asym[Treatment], xmid, scal),df, \n",
    "             start = c(as.data.frame(rbind(coef(m1)[1], coef(m2)[1])),\n",
    "                       xmid=(coef(m1)[[2]] + coef(m2)[[2]])/2,\n",
    "                       scal=(coef(m1)[[3]] + coef(m2)[[3]])/2))\n",
    "anova(m0, m12bis)"
   ]
  },
  {
   "cell_type": "raw",
   "id": "cb46c7c2",
   "metadata": {},
   "source": [
    "--> better to model one groth curve for both treatment rather than separate\n",
    "now, check statistically if they are significantly different for each date"
   ]
  },
  {
   "cell_type": "markdown",
   "id": "b96e135b",
   "metadata": {},
   "source": [
    "# Independant t-test"
   ]
  },
  {
   "cell_type": "code",
   "execution_count": 8,
   "id": "61c77754",
   "metadata": {},
   "outputs": [
    {
     "data": {
      "text/html": [
       "<table class=\"dataframe\">\n",
       "<caption>A data.frame: 3 × 9</caption>\n",
       "<thead>\n",
       "\t<tr><th></th><th scope=col>HenID</th><th scope=col>Treatment</th><th scope=col>CLASS</th><th scope=col>PenID</th><th scope=col>R.Pen</th><th scope=col>variable</th><th scope=col>weight</th><th scope=col>date</th><th scope=col>DOA</th></tr>\n",
       "\t<tr><th></th><th scope=col>&lt;fct&gt;</th><th scope=col>&lt;fct&gt;</th><th scope=col>&lt;fct&gt;</th><th scope=col>&lt;fct&gt;</th><th scope=col>&lt;dbl&gt;</th><th scope=col>&lt;chr&gt;</th><th scope=col>&lt;dbl&gt;</th><th scope=col>&lt;chr&gt;</th><th scope=col>&lt;int&gt;</th></tr>\n",
       "</thead>\n",
       "<tbody>\n",
       "\t<tr><th scope=row>1</th><td>hen_46 </td><td>TRAN</td><td>EPI </td><td>pen_10</td><td>2</td><td>10-12 juin weight</td><td>63.6</td><td>2020-06-10</td><td>7</td></tr>\n",
       "\t<tr><th scope=row>2</th><td>hen_17 </td><td>OFH </td><td>LEXP</td><td>pen_5 </td><td>1</td><td>10-12 juin weight</td><td>60.4</td><td>2020-06-10</td><td>7</td></tr>\n",
       "\t<tr><th scope=row>3</th><td>hen_161</td><td>TRAN</td><td>EPI </td><td>pen_10</td><td>4</td><td>10-12 juin weight</td><td>66.7</td><td>2020-06-10</td><td>7</td></tr>\n",
       "</tbody>\n",
       "</table>\n"
      ],
      "text/latex": [
       "A data.frame: 3 × 9\n",
       "\\begin{tabular}{r|lllllllll}\n",
       "  & HenID & Treatment & CLASS & PenID & R.Pen & variable & weight & date & DOA\\\\\n",
       "  & <fct> & <fct> & <fct> & <fct> & <dbl> & <chr> & <dbl> & <chr> & <int>\\\\\n",
       "\\hline\n",
       "\t1 & hen\\_46  & TRAN & EPI  & pen\\_10 & 2 & 10-12 juin weight & 63.6 & 2020-06-10 & 7\\\\\n",
       "\t2 & hen\\_17  & OFH  & LEXP & pen\\_5  & 1 & 10-12 juin weight & 60.4 & 2020-06-10 & 7\\\\\n",
       "\t3 & hen\\_161 & TRAN & EPI  & pen\\_10 & 4 & 10-12 juin weight & 66.7 & 2020-06-10 & 7\\\\\n",
       "\\end{tabular}\n"
      ],
      "text/markdown": [
       "\n",
       "A data.frame: 3 × 9\n",
       "\n",
       "| <!--/--> | HenID &lt;fct&gt; | Treatment &lt;fct&gt; | CLASS &lt;fct&gt; | PenID &lt;fct&gt; | R.Pen &lt;dbl&gt; | variable &lt;chr&gt; | weight &lt;dbl&gt; | date &lt;chr&gt; | DOA &lt;int&gt; |\n",
       "|---|---|---|---|---|---|---|---|---|---|\n",
       "| 1 | hen_46  | TRAN | EPI  | pen_10 | 2 | 10-12 juin weight | 63.6 | 2020-06-10 | 7 |\n",
       "| 2 | hen_17  | OFH  | LEXP | pen_5  | 1 | 10-12 juin weight | 60.4 | 2020-06-10 | 7 |\n",
       "| 3 | hen_161 | TRAN | EPI  | pen_10 | 4 | 10-12 juin weight | 66.7 | 2020-06-10 | 7 |\n",
       "\n"
      ],
      "text/plain": [
       "  HenID   Treatment CLASS PenID  R.Pen variable          weight date       DOA\n",
       "1 hen_46  TRAN      EPI   pen_10 2     10-12 juin weight 63.6   2020-06-10 7  \n",
       "2 hen_17  OFH       LEXP  pen_5  1     10-12 juin weight 60.4   2020-06-10 7  \n",
       "3 hen_161 TRAN      EPI   pen_10 4     10-12 juin weight 66.7   2020-06-10 7  "
      ]
     },
     "metadata": {},
     "output_type": "display_data"
    }
   ],
   "source": [
    "#df[df$Treatment=='TRAN',]\n",
    "head(df,3)"
   ]
  },
  {
   "cell_type": "code",
   "execution_count": 9,
   "id": "3ff48f22",
   "metadata": {
    "scrolled": true
   },
   "outputs": [
    {
     "name": "stdout",
     "output_type": "stream",
     "text": [
      "[1] \"------------------------------------------------------------------------------\"\n",
      "[1] 7\n",
      "\n",
      "\tWelch Two Sample t-test\n",
      "\n",
      "data:  df[df$DOA == doa, ]$weight by df[df$DOA == doa, ]$Treatment\n",
      "t = -1.424, df = 123.85, p-value = 0.157\n",
      "alternative hypothesis: true difference in means between group TRAN and group OFH is not equal to 0\n",
      "95 percent confidence interval:\n",
      " -3.0838973  0.5032285\n",
      "sample estimates:\n",
      "mean in group TRAN  mean in group OFH \n",
      "          64.74865           66.03898 \n",
      "\n",
      "[1] \"------------------------------------------------------------------------------\"\n",
      "[1] 118\n",
      "\n",
      "\tWelch Two Sample t-test\n",
      "\n",
      "data:  df[df$DOA == doa, ]$weight by df[df$DOA == doa, ]$Treatment\n",
      "t = -2.1118, df = 157.38, p-value = 0.03628\n",
      "alternative hypothesis: true difference in means between group TRAN and group OFH is not equal to 0\n",
      "95 percent confidence interval:\n",
      " -39.846843  -1.332169\n",
      "sample estimates:\n",
      "mean in group TRAN  mean in group OFH \n",
      "           1157.16            1177.75 \n",
      "\n"
     ]
    },
    {
     "data": {
      "image/png": "[encoded data removed]",
      "text/plain": [
       "plot without title"
      ]
     },
     "metadata": {
      "image/png": {
       "height": 420,
       "width": 420
      }
     },
     "output_type": "display_data"
    },
    {
     "name": "stdout",
     "output_type": "stream",
     "text": [
      "[1] \"------------------------------------------------------------------------------\"\n",
      "[1] 173\n",
      "\n",
      "\tWelch Two Sample t-test\n",
      "\n",
      "data:  df[df$DOA == doa, ]$weight by df[df$DOA == doa, ]$Treatment\n",
      "t = -1.428, df = 174.87, p-value = 0.1551\n",
      "alternative hypothesis: true difference in means between group TRAN and group OFH is not equal to 0\n",
      "95 percent confidence interval:\n",
      " -52.048673   8.348213\n",
      "sample estimates:\n",
      "mean in group TRAN  mean in group OFH \n",
      "           1671.03            1692.88 \n",
      "\n"
     ]
    },
    {
     "data": {
      "image/png": "[encoded data removed]",
      "text/plain": [
       "plot without title"
      ]
     },
     "metadata": {
      "image/png": {
       "height": 420,
       "width": 420
      }
     },
     "output_type": "display_data"
    },
    {
     "name": "stdout",
     "output_type": "stream",
     "text": [
      "[1] \"------------------------------------------------------------------------------\"\n",
      "[1] 215\n",
      "\n",
      "\tWelch Two Sample t-test\n",
      "\n",
      "data:  df[df$DOA == doa, ]$weight by df[df$DOA == doa, ]$Treatment\n",
      "t = 0.5523, df = 133.82, p-value = 0.5817\n",
      "alternative hypothesis: true difference in means between group TRAN and group OFH is not equal to 0\n",
      "95 percent confidence interval:\n",
      " -27.17811  48.23728\n",
      "sample estimates:\n",
      "mean in group TRAN  mean in group OFH \n",
      "          1790.718           1780.189 \n",
      "\n"
     ]
    },
    {
     "data": {
      "image/png": "[encoded data removed]",
      "text/plain": [
       "plot without title"
      ]
     },
     "metadata": {
      "image/png": {
       "height": 420,
       "width": 420
      }
     },
     "output_type": "display_data"
    },
    {
     "name": "stdout",
     "output_type": "stream",
     "text": [
      "[1] \"------------------------------------------------------------------------------\"\n",
      "[1] 243\n",
      "\n",
      "\tWelch Two Sample t-test\n",
      "\n",
      "data:  df[df$DOA == doa, ]$weight by df[df$DOA == doa, ]$Treatment\n",
      "t = -1.3696, df = 171.8, p-value = 0.1726\n",
      "alternative hypothesis: true difference in means between group TRAN and group OFH is not equal to 0\n",
      "95 percent confidence interval:\n",
      " -66.04678  11.93769\n",
      "sample estimates:\n",
      "mean in group TRAN  mean in group OFH \n",
      "          1795.323           1822.377 \n",
      "\n"
     ]
    },
    {
     "data": {
      "image/png": "[encoded data removed]",
      "text/plain": [
       "plot without title"
      ]
     },
     "metadata": {
      "image/png": {
       "height": 420,
       "width": 420
      }
     },
     "output_type": "display_data"
    },
    {
     "name": "stdout",
     "output_type": "stream",
     "text": [
      "[1] \"------------------------------------------------------------------------------\"\n",
      "[1] 313\n",
      "\n",
      "\tWelch Two Sample t-test\n",
      "\n",
      "data:  df[df$DOA == doa, ]$weight by df[df$DOA == doa, ]$Treatment\n",
      "t = -0.95971, df = 170.31, p-value = 0.3386\n",
      "alternative hypothesis: true difference in means between group TRAN and group OFH is not equal to 0\n",
      "95 percent confidence interval:\n",
      " -65.56091  22.66674\n",
      "sample estimates:\n",
      "mean in group TRAN  mean in group OFH \n",
      "          1855.844           1877.291 \n",
      "\n"
     ]
    },
    {
     "data": {
      "image/png": "[encoded data removed]",
      "text/plain": [
       "plot without title"
      ]
     },
     "metadata": {
      "image/png": {
       "height": 420,
       "width": 420
      }
     },
     "output_type": "display_data"
    },
    {
     "name": "stdout",
     "output_type": "stream",
     "text": [
      "[1] \"------------------------------------------------------------------------------\"\n",
      "[1] 417\n",
      "\n",
      "\tWelch Two Sample t-test\n",
      "\n",
      "data:  df[df$DOA == doa, ]$weight by df[df$DOA == doa, ]$Treatment\n",
      "t = 0.40797, df = 150.41, p-value = 0.6839\n",
      "alternative hypothesis: true difference in means between group TRAN and group OFH is not equal to 0\n",
      "95 percent confidence interval:\n",
      " -39.03225  59.34507\n",
      "sample estimates:\n",
      "mean in group TRAN  mean in group OFH \n",
      "          1898.600           1888.444 \n",
      "\n"
     ]
    },
    {
     "data": {
      "image/png": "[encoded data removed]",
      "text/plain": [
       "plot without title"
      ]
     },
     "metadata": {
      "image/png": {
       "height": 420,
       "width": 420
      }
     },
     "output_type": "display_data"
    },
    {
     "data": {
      "image/png": "[encoded data removed]",
      "text/plain": [
       "plot without title"
      ]
     },
     "metadata": {
      "image/png": {
       "height": 420,
       "width": 420
      }
     },
     "output_type": "display_data"
    }
   ],
   "source": [
    "#Student's t-test to compare 2 independent groups (ANOVA extends the t-test to more than 2 groups) \n",
    "#independent t-test, also called the two sample t-test, independent-samples t-test or student's t-test,\n",
    "for (doa in unique(df['DOA'])[[1]]){\n",
    "    print('------------------------------------------------------------------------------')\n",
    "    print(doa)\n",
    "    #var.equals=False, by defualt but also recommended https://stackoverflow.com/questions/16719669/the-argument-var-equal-true-or-false-in-t-test-function\n",
    "    print(t.test(df[df$DOA==doa,]$weight ~ df[df$DOA==doa,]$Treatment, var.equal = FALSE))\n",
    "    print(ggplot(data=df[df$DOA==doa,], aes(x=weight, group=Treatment, fill=Treatment))+\n",
    "          ggtitle(doa) +theme(plot.title = element_text(hjust = 0.5))+ #title + title in middle\n",
    "          geom_density(adjust=2, alpha=.4))\n",
    "}"
   ]
  },
  {
   "cell_type": "code",
   "execution_count": 10,
   "id": "b32fa3d8",
   "metadata": {},
   "outputs": [
    {
     "data": {
      "text/html": [
       "<style>\n",
       ".list-inline {list-style: none; margin:0; padding: 0}\n",
       ".list-inline>li {display: inline-block}\n",
       ".list-inline>li:not(:last-child)::after {content: \"\\00b7\"; padding: 0 .5ex}\n",
       "</style>\n",
       "<ol class=list-inline><li>7</li><li>118</li><li>173</li><li>215</li><li>243</li><li>313</li><li>417</li></ol>\n"
      ],
      "text/latex": [
       "\\begin{enumerate*}\n",
       "\\item 7\n",
       "\\item 118\n",
       "\\item 173\n",
       "\\item 215\n",
       "\\item 243\n",
       "\\item 313\n",
       "\\item 417\n",
       "\\end{enumerate*}\n"
      ],
      "text/markdown": [
       "1. 7\n",
       "2. 118\n",
       "3. 173\n",
       "4. 215\n",
       "5. 243\n",
       "6. 313\n",
       "7. 417\n",
       "\n",
       "\n"
      ],
      "text/plain": [
       "[1]   7 118 173 215 243 313 417"
      ]
     },
     "metadata": {},
     "output_type": "display_data"
    }
   ],
   "source": [
    "unique(df$DOA)"
   ]
  },
  {
   "cell_type": "code",
   "execution_count": 14,
   "id": "12da76a1",
   "metadata": {},
   "outputs": [
    {
     "name": "stderr",
     "output_type": "stream",
     "text": [
      "Warning message:\n",
      "\"Ignoring unknown aesthetics: label\"\n"
     ]
    },
    {
     "data": {
      "text/html": [
       "<strong>png:</strong> 2"
      ],
      "text/latex": [
       "\\textbf{png:} 2"
      ],
      "text/markdown": [
       "**png:** 2"
      ],
      "text/plain": [
       "png \n",
       "  2 "
      ]
     },
     "metadata": {},
     "output_type": "display_data"
    }
   ],
   "source": [
    "df$DOA_ = as.character(df$DOA) #for boxplot\n",
    "#reorder to have 7 first\n",
    "df$DOA_ = factor(df$DOA_ , levels=c('7','118','173','215','243','313','417'))         \n",
    "df_means = aggregate(weight ~  Treatment + DOA_, df,function(x) c(mean = round(mean(x, na.rm=TRUE),0)))\n",
    "                     \n",
    "df_TRAN$pred = predict(fit_TRAN)\n",
    "df_OFH$pred = predict(fit_OFH)                     \n",
    "df_TRAN$DOA_ = as.character(df_TRAN$DOA) #for boxplot\n",
    "df_OFH$DOA_ = as.character(df_OFH$DOA) #for boxplot\n",
    "  \n",
    "#jpeg(file.path(path_,\"OFH_weight.jpg\"), width = 600, height = 450)    \n",
    "tiff(file.path(path_,\"OFH_weight.tiff\"), units='in', width = 6, height = 4.5, res=300)\n",
    "ggplot(data=df, aes(x=DOA_, y=weight)) +  geom_boxplot(aes(fill=Treatment)) + theme(aspect.ratio=0.8) + \n",
    " scale_fill_manual(values=c(\"#4d32cf\", \"#fbb100\"))+ #blue and orange\n",
    "  geom_text(data = df_means, aes(label = weight, y = weight + 150), colour=\"red\",size=3,\n",
    "               position = position_dodge2(width = 1,  preserve = \"single\"))+\n",
    "  geom_point(data = df_means, aes(label = weight, y = weight), colour=\"red\",\n",
    "               position = position_dodge2(width = 0.75,  preserve = \"single\"))+                     \n",
    "  geom_line(color='#4d32cf',data = df_TRAN, aes(x=DOA_, y=pred, group=1))+\n",
    "  geom_line(color='#fbb100',data = df_OFH, aes(x=DOA_, y=pred, group=1)) +\n",
    "  ylab(\"body mass (g)\") + xlab(\"day of age\")\n",
    "dev.off()"
   ]
  },
  {
   "cell_type": "code",
   "execution_count": null,
   "id": "7c806a0a",
   "metadata": {},
   "outputs": [],
   "source": []
  },
  {
   "cell_type": "code",
   "execution_count": null,
   "id": "e74d149a",
   "metadata": {},
   "outputs": [],
   "source": []
  },
  {
   "cell_type": "code",
   "execution_count": null,
   "id": "65b45a76",
   "metadata": {},
   "outputs": [],
   "source": []
  },
  {
   "cell_type": "code",
   "execution_count": null,
   "id": "f7f6a5d7",
   "metadata": {},
   "outputs": [],
   "source": []
  },
  {
   "cell_type": "code",
   "execution_count": null,
   "id": "73c1d927",
   "metadata": {},
   "outputs": [],
   "source": []
  },
  {
   "cell_type": "code",
   "execution_count": null,
   "id": "e6291966",
   "metadata": {},
   "outputs": [],
   "source": []
  },
  {
   "cell_type": "code",
   "execution_count": null,
   "id": "58e8ea4d",
   "metadata": {},
   "outputs": [],
   "source": []
  }
 ],
 "metadata": {
  "kernelspec": {
   "display_name": " Rkernel_4",
   "language": "R",
   "name": "rkernel_4"
  },
  "language_info": {
   "codemirror_mode": "r",
   "file_extension": ".r",
   "mimetype": "text/x-r-source",
   "name": "R",
   "pygments_lexer": "r",
   "version": "4.1.1"
  }
 },
 "nbformat": 4,
 "nbformat_minor": 5
}
