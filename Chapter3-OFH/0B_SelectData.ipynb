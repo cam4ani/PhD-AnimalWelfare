{
 "cells": [
  {
   "cell_type": "code",
   "execution_count": 1,
   "metadata": {},
   "outputs": [
    {
     "name": "stderr",
     "output_type": "stream",
     "text": [
      "C:\\Users\\camil\\anaconda3\\lib\\site-packages\\numpy\\_distributor_init.py:30: UserWarning: loaded more than 1 DLL from .libs:\n",
      "C:\\Users\\camil\\anaconda3\\lib\\site-packages\\numpy\\.libs\\libopenblas.FB5AE2TYXYH2IJRDKGDGQ3XBKLKTF43H.gfortran-win_amd64.dll\n",
      "C:\\Users\\camil\\anaconda3\\lib\\site-packages\\numpy\\.libs\\libopenblas.WCDJNK7YVMPZQ2ME2ZZHJJRJ3JIKNDB7.gfortran-win_amd64.dll\n",
      "  warnings.warn(\"loaded more than 1 DLL from .libs:\"\n"
     ]
    }
   ],
   "source": [
    "#basic package\n",
    "import os\n",
    "import numpy as np\n",
    "import pandas as pd\n",
    "import sys\n",
    "import time\n",
    "import datetime as dt\n",
    "import itertools\n",
    "import math\n",
    "import pickle #save and load dictionaries/lists\n",
    "import random\n",
    "import tqdm\n",
    "\n",
    "#plot\n",
    "import matplotlib.pyplot as plt\n",
    "import seaborn as sns"
   ]
  },
  {
   "cell_type": "code",
   "execution_count": 2,
   "metadata": {},
   "outputs": [
    {
     "name": "stderr",
     "output_type": "stream",
     "text": [
      "C:\\Users\\camil\\anaconda3\\lib\\site-packages\\statsmodels\\compat\\pandas.py:61: FutureWarning: pandas.Int64Index is deprecated and will be removed from pandas in a future version. Use pandas.Index with the appropriate dtype instead.\n",
      "  from pandas import Int64Index as NumericIndex\n",
      "C:\\Users\\camil\\anaconda3\\lib\\site-packages\\gensim\\matutils.py:24: DeprecationWarning: Please use `triu` from the `scipy.linalg` namespace, the `scipy.linalg.special_matrices` namespace is deprecated.\n",
      "  from scipy.linalg.special_matrices import triu\n",
      "C:\\Users\\camil\\anaconda3\\lib\\site-packages\\xgboost\\compat.py:31: FutureWarning: pandas.Int64Index is deprecated and will be removed from pandas in a future version. Use pandas.Index with the appropriate dtype instead.\n",
      "  from pandas import MultiIndex, Int64Index\n"
     ]
    },
    {
     "name": "stdout",
     "output_type": "stream",
     "text": [
      "2\n"
     ]
    }
   ],
   "source": [
    "PACKAGE_PARENT = '../'\n",
    "SCRIPT_DIR = os.path.dirname(os.path.realpath(os.path.join(os.getcwd(), os.path.expanduser('__file__'))))\n",
    "sys.path.append(os.path.normpath(os.path.join(SCRIPT_DIR, PACKAGE_PARENT)))\n",
    "from UTILS import nbrh_WG_open, mid_cum_Z4_sec, starting_h_day\n",
    "import config_origins as config"
   ]
  },
  {
   "cell_type": "code",
   "execution_count": 3,
   "metadata": {},
   "outputs": [],
   "source": [
    "name = 'OFH'"
   ]
  },
  {
   "cell_type": "markdown",
   "metadata": {},
   "source": [
    "# Define parameters"
   ]
  },
  {
   "cell_type": "code",
   "execution_count": 4,
   "metadata": {
    "scrolled": true
   },
   "outputs": [
    {
     "name": "stdout",
     "output_type": "stream",
     "text": [
      "change the configuration file if not done yet!\n"
     ]
    }
   ],
   "source": [
    "print('change the configuration file if not done yet!')\n",
    "path_extracted_data = config.path_extracted_data\n",
    "id_run = config.id_run\n",
    "max_date_adaptability = config.max_date_adaptability\n",
    "pal_tr = config.pal_treat"
   ]
  },
  {
   "cell_type": "markdown",
   "metadata": {},
   "source": [
    "# Download data"
   ]
  },
  {
   "cell_type": "code",
   "execution_count": 5,
   "metadata": {},
   "outputs": [
    {
     "data": {
      "text/plain": [
       "REXP    22507\n",
       "MEXP     9067\n",
       "LEXP     7358\n",
       "Name: CLASS, dtype: int64"
      ]
     },
     "metadata": {},
     "output_type": "display_data"
    },
    {
     "data": {
      "text/plain": [
       "HenID                                                0\n",
       "CLASS                                                0\n",
       "InitialStartDate                                     0\n",
       "early_death                                          0\n",
       "Treatment                                            0\n",
       "                                                 ...  \n",
       "mid_cum_Z4_sec_Morning                            5837\n",
       "vertical_travel_distance_fulllight_perinsideh     6454\n",
       "R-Pen                                            10923\n",
       "FirstTimestamp_1_Zone                            14307\n",
       "FirstTimestamp_1_Zone_sec                        14307\n",
       "Length: 89, dtype: int64"
      ]
     },
     "metadata": {},
     "output_type": "display_data"
    },
    {
     "name": "stdout",
     "output_type": "stream",
     "text": [
      "(38932, 89)\n"
     ]
    },
    {
     "data": {
      "text/html": [
       "<div>\n",
       "<style scoped>\n",
       "    .dataframe tbody tr th:only-of-type {\n",
       "        vertical-align: middle;\n",
       "    }\n",
       "\n",
       "    .dataframe tbody tr th {\n",
       "        vertical-align: top;\n",
       "    }\n",
       "\n",
       "    .dataframe thead th {\n",
       "        text-align: right;\n",
       "    }\n",
       "</style>\n",
       "<table border=\"1\" class=\"dataframe\">\n",
       "  <thead>\n",
       "    <tr style=\"text-align: right;\">\n",
       "      <th></th>\n",
       "      <th>HenID</th>\n",
       "      <th>level</th>\n",
       "      <th>verification_daily_total_duration</th>\n",
       "      <th>verification_daily_total_nbr_hour</th>\n",
       "      <th>dur_values</th>\n",
       "      <th>perc_duration_3_Zone</th>\n",
       "      <th>perc_duration_4_Zone</th>\n",
       "      <th>perc_duration_5_Zone</th>\n",
       "      <th>perc_duration_2_Zone</th>\n",
       "      <th>perc_duration_1_Zone</th>\n",
       "      <th>...</th>\n",
       "      <th>duration_4_Zone_min</th>\n",
       "      <th>duration_5_Zone_min</th>\n",
       "      <th>Has_been_toptier_wholeday</th>\n",
       "      <th>level_</th>\n",
       "      <th>vertical_travel_distance_perinsideh</th>\n",
       "      <th>day_lighth</th>\n",
       "      <th>mid_durationafterlightturnedon_Z4_h_Morning</th>\n",
       "      <th>previous_mid_cum_Z4_h_Morning</th>\n",
       "      <th>Intervaltime_midcumZ4hmorning_h</th>\n",
       "      <th>is_vacc</th>\n",
       "    </tr>\n",
       "  </thead>\n",
       "  <tbody>\n",
       "    <tr>\n",
       "      <th>0</th>\n",
       "      <td>hen_130</td>\n",
       "      <td>2020-10-05</td>\n",
       "      <td>32400.0</td>\n",
       "      <td>9.0</td>\n",
       "      <td>[0.0, 0.0, 0.0, 0.0, 32400.0]</td>\n",
       "      <td>0.0</td>\n",
       "      <td>0.0</td>\n",
       "      <td>100.0</td>\n",
       "      <td>0.0</td>\n",
       "      <td>NaN</td>\n",
       "      <td>...</td>\n",
       "      <td>0.000000</td>\n",
       "      <td>540.000000</td>\n",
       "      <td>True</td>\n",
       "      <td>2020-10-05</td>\n",
       "      <td>0.000000</td>\n",
       "      <td>9</td>\n",
       "      <td>NaN</td>\n",
       "      <td>NaN</td>\n",
       "      <td>NaN</td>\n",
       "      <td>False</td>\n",
       "    </tr>\n",
       "    <tr>\n",
       "      <th>1</th>\n",
       "      <td>hen_130</td>\n",
       "      <td>2020-10-06</td>\n",
       "      <td>32400.0</td>\n",
       "      <td>9.0</td>\n",
       "      <td>[0.0, 0.0, 780.0, 325.0, 31295.0]</td>\n",
       "      <td>2.0</td>\n",
       "      <td>1.0</td>\n",
       "      <td>97.0</td>\n",
       "      <td>0.0</td>\n",
       "      <td>NaN</td>\n",
       "      <td>...</td>\n",
       "      <td>5.416667</td>\n",
       "      <td>521.583333</td>\n",
       "      <td>False</td>\n",
       "      <td>2020-10-06</td>\n",
       "      <td>0.444444</td>\n",
       "      <td>9</td>\n",
       "      <td>NaN</td>\n",
       "      <td>NaN</td>\n",
       "      <td>NaN</td>\n",
       "      <td>False</td>\n",
       "    </tr>\n",
       "    <tr>\n",
       "      <th>2</th>\n",
       "      <td>hen_130</td>\n",
       "      <td>2020-10-07</td>\n",
       "      <td>32400.0</td>\n",
       "      <td>9.0</td>\n",
       "      <td>[0.0, 206.0, 249.0, 130.0, 31815.0]</td>\n",
       "      <td>1.0</td>\n",
       "      <td>0.0</td>\n",
       "      <td>98.0</td>\n",
       "      <td>1.0</td>\n",
       "      <td>NaN</td>\n",
       "      <td>...</td>\n",
       "      <td>2.166667</td>\n",
       "      <td>530.250000</td>\n",
       "      <td>False</td>\n",
       "      <td>2020-10-07</td>\n",
       "      <td>0.444444</td>\n",
       "      <td>9</td>\n",
       "      <td>NaN</td>\n",
       "      <td>NaN</td>\n",
       "      <td>NaN</td>\n",
       "      <td>False</td>\n",
       "    </tr>\n",
       "  </tbody>\n",
       "</table>\n",
       "<p>3 rows × 89 columns</p>\n",
       "</div>"
      ],
      "text/plain": [
       "     HenID      level  verification_daily_total_duration  \\\n",
       "0  hen_130 2020-10-05                            32400.0   \n",
       "1  hen_130 2020-10-06                            32400.0   \n",
       "2  hen_130 2020-10-07                            32400.0   \n",
       "\n",
       "   verification_daily_total_nbr_hour                           dur_values  \\\n",
       "0                                9.0        [0.0, 0.0, 0.0, 0.0, 32400.0]   \n",
       "1                                9.0    [0.0, 0.0, 780.0, 325.0, 31295.0]   \n",
       "2                                9.0  [0.0, 206.0, 249.0, 130.0, 31815.0]   \n",
       "\n",
       "   perc_duration_3_Zone  perc_duration_4_Zone  perc_duration_5_Zone  \\\n",
       "0                   0.0                   0.0                 100.0   \n",
       "1                   2.0                   1.0                  97.0   \n",
       "2                   1.0                   0.0                  98.0   \n",
       "\n",
       "   perc_duration_2_Zone  perc_duration_1_Zone  ...  duration_4_Zone_min  \\\n",
       "0                   0.0                   NaN  ...             0.000000   \n",
       "1                   0.0                   NaN  ...             5.416667   \n",
       "2                   1.0                   NaN  ...             2.166667   \n",
       "\n",
       "   duration_5_Zone_min  Has_been_toptier_wholeday      level_  \\\n",
       "0           540.000000                       True  2020-10-05   \n",
       "1           521.583333                      False  2020-10-06   \n",
       "2           530.250000                      False  2020-10-07   \n",
       "\n",
       "  vertical_travel_distance_perinsideh day_lighth  \\\n",
       "0                            0.000000          9   \n",
       "1                            0.444444          9   \n",
       "2                            0.444444          9   \n",
       "\n",
       "  mid_durationafterlightturnedon_Z4_h_Morning previous_mid_cum_Z4_h_Morning  \\\n",
       "0                                         NaN                           NaN   \n",
       "1                                         NaN                           NaN   \n",
       "2                                         NaN                           NaN   \n",
       "\n",
       "   Intervaltime_midcumZ4hmorning_h  is_vacc  \n",
       "0                              NaN    False  \n",
       "1                              NaN    False  \n",
       "2                              NaN    False  \n",
       "\n",
       "[3 rows x 89 columns]"
      ]
     },
     "metadata": {},
     "output_type": "display_data"
    },
    {
     "name": "stdout",
     "output_type": "stream",
     "text": [
      "17 60\n",
      "you lost 471 observations by removing days with vaccinations\n",
      "Index(['HenID', 'level', 'verification_daily_total_duration',\n",
      "       'verification_daily_total_nbr_hour', 'dur_values',\n",
      "       'perc_duration_3_Zone', 'perc_duration_4_Zone', 'perc_duration_5_Zone',\n",
      "       'perc_duration_2_Zone', 'perc_duration_1_Zone', 'time_wg_open_sec',\n",
      "       'duration_sincedaystarted_beforeWGopened_sec',\n",
      "       'perc_1_Zone_while_WG_open', 'FirstTimestamp_1_Zone',\n",
      "       'FirstTimestamp_2_Zone', 'FirstTimestamp_3_Zone',\n",
      "       'FirstTimestamp_4_Zone', 'FirstTimestamp_5_Zone', 'nbr_h_WGopen',\n",
      "       'FirstTimestamp_1_Zone_sec', 'latency_1_Zone_h', 'Total_number_zone',\n",
      "       'list_of_durations', 'nestboxes_related_behavior', 'mid_cum_Z4_sec',\n",
      "       'Total_number_transition', 'nbr_stays', 'distribution_entropy',\n",
      "       'vertical_travel_distance', 'vertical_travel_distance_dawn',\n",
      "       'vertical_travel_distance_dusk', 'nbr_stays_total', 'nbr_stays_3_Zone',\n",
      "       'nbr_stays_4_Zone', 'nbr_stays_5_Zone', 'nbr_stays_2_Zone',\n",
      "       'nbr_stays_1_Zone', 'PenID', 'CLASS', 'R-Pen', 'InitialStartDate',\n",
      "       'early_death', 'Treatment', 'TagID', 'FocalLegringName', 'night_level',\n",
      "       'night_Max_duration_zones', 'night_duration_Z5',\n",
      "       'night_Total_number_transition', 'is_mvt_night', 'nbr_h_per_day',\n",
      "       'correct_amount_of_hour', 'DOA', 'WOA', 'DIB', 'WIB',\n",
      "       'TrackingSystemID', 'SleepingHeight', 'Sleeping_NotUppest',\n",
      "       'Sleeping_Uppest', 'WentinWG', 'vertical_travel_distance_fulllight',\n",
      "       'vertical_travel_distance_fulllight_perinsideh',\n",
      "       'mid_cum_Z4_sec_Morning', 'mid_cum_Z4_h_Morning', 'weekday',\n",
      "       'HenID_WIB', 'food_related_behavior_final',\n",
      "       'food_related_behavior_rp_final', 'food_related_behavior_rm_final',\n",
      "       'KBF_interp', 'FeatherDamage_interp', 'weight_interp',\n",
      "       'food_sameDurTiming_r50_final', 'food_sameDurTiming_r50_AP_final',\n",
      "       'food_sameDurTiming_r50_AB_final', 'duration_1_Zone_min',\n",
      "       'duration_2_Zone_min', 'duration_3_Zone_min', 'duration_4_Zone_min',\n",
      "       'duration_5_Zone_min', 'Has_been_toptier_wholeday', 'level_',\n",
      "       'vertical_travel_distance_perinsideh', 'day_lighth',\n",
      "       'mid_durationafterlightturnedon_Z4_h_Morning',\n",
      "       'previous_mid_cum_Z4_h_Morning', 'Intervaltime_midcumZ4hmorning_h',\n",
      "       'is_vacc'],\n",
      "      dtype='object')\n"
     ]
    }
   ],
   "source": [
    "### daily variables of the movements (one row per available hen per day)\n",
    "df_daily = pd.read_csv(os.path.join(path_extracted_data, id_run+'_daily_ALL_variables_verified_OFH.csv'), sep=';',\n",
    "                     parse_dates=['level'], dayfirst=True)\n",
    "#display(df_daily[df_daily.isna().any(axis=1)])\n",
    "\n",
    "#make sure we have their mvt\n",
    "df_daily = df_daily[~df_daily['perc_duration_5_Zone'].isnull()]\n",
    "display(df_daily['CLASS'].value_counts())\n",
    "#show columns with max amount of nan\n",
    "display(df_daily.isna().sum(axis=0).sort_values())\n",
    "print(df_daily.shape)\n",
    "display(df_daily.head(3))\n",
    "\n",
    "#look at the timeframe\n",
    "print(min(df_daily['WOA'].tolist()), max(df_daily['WOA'].tolist()))\n",
    "df_doa = df_daily[['level','DIB','WIB','DOA','WOA']].drop_duplicates()\n",
    "df_doa.sort_values(['level']).head(10)\n",
    "\n",
    "#remove vaccinations days\n",
    "x0 = df_daily.shape[0]\n",
    "df_daily = df_daily[df_daily['is_vacc']==False]\n",
    "print('you lost %s observations by removing days with vaccinations'%(x0-df_daily.shape[0]))\n",
    "\n",
    "#check that its nan for the first 16 days in the barn\n",
    "if df_daily[(df_daily['level']<=dt.datetime(2020,10,15))&(~df_daily['mid_cum_Z4_h_Morning'].isnull())].shape[0]!=0:\n",
    "    print('ERROR: you should have only nan in the mid-nestbox tier behaviour before the 15th of october 2020, due to the \\\n",
    "    artificial light beeing turned on no earlier tha 8am')\n",
    "    sys.exit()\n",
    "\n",
    "df_daily.loc[df_daily['nbr_stays_1_Zone'].isnull(),'WentinWG'] = np.nan\n",
    "print(df_daily.columns)"
   ]
  },
  {
   "cell_type": "code",
   "execution_count": 6,
   "metadata": {},
   "outputs": [
    {
     "data": {
      "text/plain": [
       "Index(['HenID', 'level', 'verification_daily_total_duration',\n",
       "       'verification_daily_total_nbr_hour', 'dur_values',\n",
       "       'perc_duration_3_Zone', 'perc_duration_4_Zone', 'perc_duration_5_Zone',\n",
       "       'perc_duration_2_Zone', 'perc_duration_1_Zone', 'time_wg_open_sec',\n",
       "       'duration_sincedaystarted_beforeWGopened_sec',\n",
       "       'perc_1_Zone_while_WG_open', 'FirstTimestamp_1_Zone',\n",
       "       'FirstTimestamp_2_Zone', 'FirstTimestamp_3_Zone',\n",
       "       'FirstTimestamp_4_Zone', 'FirstTimestamp_5_Zone', 'nbr_h_WGopen',\n",
       "       'FirstTimestamp_1_Zone_sec', 'latency_1_Zone_h', 'Total_number_zone',\n",
       "       'list_of_durations', 'nestboxes_related_behavior', 'mid_cum_Z4_sec',\n",
       "       'Total_number_transition', 'nbr_stays', 'distribution_entropy',\n",
       "       'vertical_travel_distance', 'vertical_travel_distance_dawn',\n",
       "       'vertical_travel_distance_dusk', 'nbr_stays_total', 'nbr_stays_3_Zone',\n",
       "       'nbr_stays_4_Zone', 'nbr_stays_5_Zone', 'nbr_stays_2_Zone',\n",
       "       'nbr_stays_1_Zone', 'PenID', 'CLASS', 'R-Pen', 'InitialStartDate',\n",
       "       'early_death', 'Treatment', 'TagID', 'FocalLegringName', 'night_level',\n",
       "       'night_Max_duration_zones', 'night_duration_Z5',\n",
       "       'night_Total_number_transition', 'is_mvt_night', 'nbr_h_per_day',\n",
       "       'correct_amount_of_hour', 'DOA', 'WOA', 'DIB', 'WIB',\n",
       "       'TrackingSystemID', 'SleepingHeight', 'Sleeping_NotUppest',\n",
       "       'Sleeping_Uppest', 'WentinWG', 'vertical_travel_distance_fulllight',\n",
       "       'vertical_travel_distance_fulllight_perinsideh',\n",
       "       'mid_cum_Z4_sec_Morning', 'mid_cum_Z4_h_Morning', 'weekday',\n",
       "       'HenID_WIB', 'food_related_behavior_final',\n",
       "       'food_related_behavior_rp_final', 'food_related_behavior_rm_final',\n",
       "       'KBF_interp', 'FeatherDamage_interp', 'weight_interp',\n",
       "       'food_sameDurTiming_r50_final', 'food_sameDurTiming_r50_AP_final',\n",
       "       'food_sameDurTiming_r50_AB_final', 'duration_1_Zone_min',\n",
       "       'duration_2_Zone_min', 'duration_3_Zone_min', 'duration_4_Zone_min',\n",
       "       'duration_5_Zone_min', 'Has_been_toptier_wholeday', 'level_',\n",
       "       'vertical_travel_distance_perinsideh', 'day_lighth',\n",
       "       'mid_durationafterlightturnedon_Z4_h_Morning',\n",
       "       'previous_mid_cum_Z4_h_Morning', 'Intervaltime_midcumZ4hmorning_h',\n",
       "       'is_vacc'],\n",
       "      dtype='object')"
      ]
     },
     "execution_count": 6,
     "metadata": {},
     "output_type": "execute_result"
    }
   ],
   "source": [
    "df_daily.columns"
   ]
  },
  {
   "cell_type": "code",
   "execution_count": 7,
   "metadata": {},
   "outputs": [
    {
     "name": "stdout",
     "output_type": "stream",
     "text": [
      "(38461, 23)\n"
     ]
    },
    {
     "data": {
      "text/html": [
       "<div>\n",
       "<style scoped>\n",
       "    .dataframe tbody tr th:only-of-type {\n",
       "        vertical-align: middle;\n",
       "    }\n",
       "\n",
       "    .dataframe tbody tr th {\n",
       "        vertical-align: top;\n",
       "    }\n",
       "\n",
       "    .dataframe thead th {\n",
       "        text-align: right;\n",
       "    }\n",
       "</style>\n",
       "<table border=\"1\" class=\"dataframe\">\n",
       "  <thead>\n",
       "    <tr style=\"text-align: right;\">\n",
       "      <th></th>\n",
       "      <th>HenID</th>\n",
       "      <th>PenID</th>\n",
       "      <th>level</th>\n",
       "      <th>Treatment</th>\n",
       "      <th>CLASS</th>\n",
       "      <th>DOA</th>\n",
       "      <th>WOA</th>\n",
       "      <th>DIB</th>\n",
       "      <th>WIB</th>\n",
       "      <th>weight_interp</th>\n",
       "      <th>...</th>\n",
       "      <th>is_vacc</th>\n",
       "      <th>WentinWG</th>\n",
       "      <th>vertical_travel_distance</th>\n",
       "      <th>mid_cum_Z4_h_Morning</th>\n",
       "      <th>nbr_h_WGopen</th>\n",
       "      <th>perc_duration_1_Zone</th>\n",
       "      <th>perc_duration_4_Zone</th>\n",
       "      <th>perc_duration_5_Zone</th>\n",
       "      <th>perc_duration_2_Zone</th>\n",
       "      <th>nbr_h_per_day</th>\n",
       "    </tr>\n",
       "  </thead>\n",
       "  <tbody>\n",
       "    <tr>\n",
       "      <th>38929</th>\n",
       "      <td>hen_98</td>\n",
       "      <td>pen9</td>\n",
       "      <td>2021-07-22</td>\n",
       "      <td>OFH</td>\n",
       "      <td>MEXP</td>\n",
       "      <td>414</td>\n",
       "      <td>60</td>\n",
       "      <td>296</td>\n",
       "      <td>43</td>\n",
       "      <td>1755.238462</td>\n",
       "      <td>...</td>\n",
       "      <td>False</td>\n",
       "      <td>1.0</td>\n",
       "      <td>75.0</td>\n",
       "      <td>5.726944</td>\n",
       "      <td>8.333333</td>\n",
       "      <td>15.0</td>\n",
       "      <td>8.0</td>\n",
       "      <td>22.0</td>\n",
       "      <td>45.0</td>\n",
       "      <td>15</td>\n",
       "    </tr>\n",
       "    <tr>\n",
       "      <th>38930</th>\n",
       "      <td>hen_98</td>\n",
       "      <td>pen9</td>\n",
       "      <td>2021-07-23</td>\n",
       "      <td>OFH</td>\n",
       "      <td>MEXP</td>\n",
       "      <td>415</td>\n",
       "      <td>60</td>\n",
       "      <td>297</td>\n",
       "      <td>43</td>\n",
       "      <td>1755.392308</td>\n",
       "      <td>...</td>\n",
       "      <td>False</td>\n",
       "      <td>1.0</td>\n",
       "      <td>76.0</td>\n",
       "      <td>5.677778</td>\n",
       "      <td>8.333333</td>\n",
       "      <td>18.0</td>\n",
       "      <td>10.0</td>\n",
       "      <td>17.0</td>\n",
       "      <td>42.0</td>\n",
       "      <td>15</td>\n",
       "    </tr>\n",
       "    <tr>\n",
       "      <th>38931</th>\n",
       "      <td>hen_98</td>\n",
       "      <td>pen9</td>\n",
       "      <td>2021-07-24</td>\n",
       "      <td>OFH</td>\n",
       "      <td>MEXP</td>\n",
       "      <td>416</td>\n",
       "      <td>60</td>\n",
       "      <td>298</td>\n",
       "      <td>43</td>\n",
       "      <td>1755.546154</td>\n",
       "      <td>...</td>\n",
       "      <td>False</td>\n",
       "      <td>1.0</td>\n",
       "      <td>70.0</td>\n",
       "      <td>6.150278</td>\n",
       "      <td>8.333333</td>\n",
       "      <td>17.0</td>\n",
       "      <td>8.0</td>\n",
       "      <td>18.0</td>\n",
       "      <td>46.0</td>\n",
       "      <td>15</td>\n",
       "    </tr>\n",
       "  </tbody>\n",
       "</table>\n",
       "<p>3 rows × 23 columns</p>\n",
       "</div>"
      ],
      "text/plain": [
       "        HenID PenID      level Treatment CLASS  DOA  WOA  DIB  WIB  \\\n",
       "38929  hen_98  pen9 2021-07-22       OFH  MEXP  414   60  296   43   \n",
       "38930  hen_98  pen9 2021-07-23       OFH  MEXP  415   60  297   43   \n",
       "38931  hen_98  pen9 2021-07-24       OFH  MEXP  416   60  298   43   \n",
       "\n",
       "       weight_interp  ...  is_vacc  WentinWG vertical_travel_distance  \\\n",
       "38929    1755.238462  ...    False       1.0                     75.0   \n",
       "38930    1755.392308  ...    False       1.0                     76.0   \n",
       "38931    1755.546154  ...    False       1.0                     70.0   \n",
       "\n",
       "       mid_cum_Z4_h_Morning  nbr_h_WGopen  perc_duration_1_Zone  \\\n",
       "38929              5.726944      8.333333                  15.0   \n",
       "38930              5.677778      8.333333                  18.0   \n",
       "38931              6.150278      8.333333                  17.0   \n",
       "\n",
       "       perc_duration_4_Zone  perc_duration_5_Zone  perc_duration_2_Zone  \\\n",
       "38929                   8.0                  22.0                  45.0   \n",
       "38930                  10.0                  17.0                  42.0   \n",
       "38931                   8.0                  18.0                  46.0   \n",
       "\n",
       "       nbr_h_per_day  \n",
       "38929             15  \n",
       "38930             15  \n",
       "38931             15  \n",
       "\n",
       "[3 rows x 23 columns]"
      ]
     },
     "execution_count": 7,
     "metadata": {},
     "output_type": "execute_result"
    }
   ],
   "source": [
    "#select & keep only variables we are interested in\n",
    "li = ['HenID','PenID','level','Treatment', 'CLASS', 'DOA','WOA', 'DIB','WIB','weight_interp','FeatherDamage_interp','KBF_interp','weekday','is_vacc']\n",
    "li_mvt = ['WentinWG','vertical_travel_distance','mid_cum_Z4_h_Morning','nbr_h_WGopen','perc_duration_1_Zone',\n",
    "         'perc_duration_4_Zone', 'perc_duration_5_Zone','perc_duration_2_Zone','nbr_h_per_day']\n",
    "#if matts prefer: mid_durationafterlightturnedon_Z4_h_Morning, I dont\n",
    "df_daily = df_daily[li+li_mvt].copy()\n",
    "print(df_daily.shape)\n",
    "df_daily.tail(3)"
   ]
  },
  {
   "cell_type": "code",
   "execution_count": 8,
   "metadata": {},
   "outputs": [
    {
     "data": {
      "image/png": "[encoded data removed]",
      "text/plain": [
       "<Figure size 432x288 with 1 Axes>"
      ]
     },
     "metadata": {
      "needs_background": "light"
     },
     "output_type": "display_data"
    }
   ],
   "source": [
    "plt.hist(df_daily['vertical_travel_distance']);"
   ]
  },
  {
   "cell_type": "code",
   "execution_count": 9,
   "metadata": {},
   "outputs": [],
   "source": [
    "#plt.hist(df_daily['Intervaltime_midcumZ4hmorning_h'], bins=30);\n",
    "#plt.scatter(x='DIB', y='Intervaltime_midcumZ4hmorning_h', data=df_daily, alpha=0.1);"
   ]
  },
  {
   "cell_type": "markdown",
   "metadata": {},
   "source": [
    "# Add external temperature"
   ]
  },
  {
   "cell_type": "code",
   "execution_count": 10,
   "metadata": {},
   "outputs": [
    {
     "name": "stdout",
     "output_type": "stream",
     "text": [
      "(7293, 13)\n"
     ]
    },
    {
     "data": {
      "text/html": [
       "<div>\n",
       "<style scoped>\n",
       "    .dataframe tbody tr th:only-of-type {\n",
       "        vertical-align: middle;\n",
       "    }\n",
       "\n",
       "    .dataframe tbody tr th {\n",
       "        vertical-align: top;\n",
       "    }\n",
       "\n",
       "    .dataframe thead th {\n",
       "        text-align: right;\n",
       "    }\n",
       "</style>\n",
       "<table border=\"1\" class=\"dataframe\">\n",
       "  <thead>\n",
       "    <tr style=\"text-align: right;\">\n",
       "      <th></th>\n",
       "      <th>Timestamp</th>\n",
       "      <th>temperature</th>\n",
       "      <th>humidity</th>\n",
       "      <th>wind speed</th>\n",
       "      <th>Precipitation amount</th>\n",
       "      <th>query</th>\n",
       "      <th>Moon Phase calculator</th>\n",
       "      <th>hour</th>\n",
       "      <th>temperature_C</th>\n",
       "      <th>wind_speed_mpers</th>\n",
       "      <th>humidity_avgpercent</th>\n",
       "      <th>rain</th>\n",
       "      <th>Timestamp_weather</th>\n",
       "    </tr>\n",
       "  </thead>\n",
       "  <tbody>\n",
       "    <tr>\n",
       "      <th>0</th>\n",
       "      <td>2020-09-29 00:00:00</td>\n",
       "      <td>10 °C\\n(12:00 am CEST | Tuesday, September 29,...</td>\n",
       "      <td>average: 100% (100%)\\n(12:00 am CEST | Tuesday...</td>\n",
       "      <td>2 m/s\\n(12:00 am CEST | Tuesday, September 29,...</td>\n",
       "      <td>rain\\n(12:00 am CEST | Tuesday, September 29, ...</td>\n",
       "      <td>Moon Phase calculatorSeptember 29, 2020 0h</td>\n",
       "      <td>| waxing gibbous moon\\n91.87% illuminated</td>\n",
       "      <td>0</td>\n",
       "      <td>10</td>\n",
       "      <td>2</td>\n",
       "      <td>100</td>\n",
       "      <td>rain</td>\n",
       "      <td>2020-09-29 00:00:00</td>\n",
       "    </tr>\n",
       "    <tr>\n",
       "      <th>1</th>\n",
       "      <td>2020-09-29 01:00:00</td>\n",
       "      <td>10 °C\\n(1:00 am CEST | Tuesday, September 29, ...</td>\n",
       "      <td>average: 100% (100%)\\n(1:00 am CEST | Tuesday,...</td>\n",
       "      <td>3 m/s\\n(1:00 am CEST | Tuesday, September 29, ...</td>\n",
       "      <td>rain\\n(1:00 am CEST | Tuesday, September 29, 2...</td>\n",
       "      <td>Moon Phase calculatorSeptember 29, 2020 1h</td>\n",
       "      <td>| waxing gibbous moon\\n92.09% illuminated</td>\n",
       "      <td>1</td>\n",
       "      <td>10</td>\n",
       "      <td>3</td>\n",
       "      <td>100</td>\n",
       "      <td>rain</td>\n",
       "      <td>2020-09-29 01:00:00</td>\n",
       "    </tr>\n",
       "  </tbody>\n",
       "</table>\n",
       "</div>"
      ],
      "text/plain": [
       "            Timestamp                                        temperature  \\\n",
       "0 2020-09-29 00:00:00  10 °C\\n(12:00 am CEST | Tuesday, September 29,...   \n",
       "1 2020-09-29 01:00:00  10 °C\\n(1:00 am CEST | Tuesday, September 29, ...   \n",
       "\n",
       "                                            humidity  \\\n",
       "0  average: 100% (100%)\\n(12:00 am CEST | Tuesday...   \n",
       "1  average: 100% (100%)\\n(1:00 am CEST | Tuesday,...   \n",
       "\n",
       "                                          wind speed  \\\n",
       "0  2 m/s\\n(12:00 am CEST | Tuesday, September 29,...   \n",
       "1  3 m/s\\n(1:00 am CEST | Tuesday, September 29, ...   \n",
       "\n",
       "                                Precipitation amount  \\\n",
       "0  rain\\n(12:00 am CEST | Tuesday, September 29, ...   \n",
       "1  rain\\n(1:00 am CEST | Tuesday, September 29, 2...   \n",
       "\n",
       "                                        query  \\\n",
       "0  Moon Phase calculatorSeptember 29, 2020 0h   \n",
       "1  Moon Phase calculatorSeptember 29, 2020 1h   \n",
       "\n",
       "                       Moon Phase calculator  hour  temperature_C  \\\n",
       "0  | waxing gibbous moon\\n91.87% illuminated     0             10   \n",
       "1  | waxing gibbous moon\\n92.09% illuminated     1             10   \n",
       "\n",
       "   wind_speed_mpers  humidity_avgpercent  rain   Timestamp_weather  \n",
       "0                 2                  100  rain 2020-09-29 00:00:00  \n",
       "1                 3                  100  rain 2020-09-29 01:00:00  "
      ]
     },
     "metadata": {},
     "output_type": "display_data"
    }
   ],
   "source": [
    "#add weather conditions\n",
    "path_weather = os.path.join(r'C:\\Users\\camil\\Desktop\\vm_exchange\\PhD_Data\\Weather_exp1','Weather_process.csv')\n",
    "df_weather_h = pd.read_csv(path_weather, sep=';', parse_dates=['date','Timestamp'])\n",
    "df_weather_h = df_weather_h.sort_values('Timestamp') \n",
    "df_weather_h = df_weather_h.drop(['date'], axis=1)\n",
    "df_weather_h['Timestamp_weather'] = df_weather_h['Timestamp'].copy()\n",
    "print(df_weather_h.shape)\n",
    "display(df_weather_h.head(2))"
   ]
  },
  {
   "cell_type": "code",
   "execution_count": 11,
   "metadata": {},
   "outputs": [
    {
     "data": {
      "text/html": [
       "<div>\n",
       "<style scoped>\n",
       "    .dataframe tbody tr th:only-of-type {\n",
       "        vertical-align: middle;\n",
       "    }\n",
       "\n",
       "    .dataframe tbody tr th {\n",
       "        vertical-align: top;\n",
       "    }\n",
       "\n",
       "    .dataframe thead th {\n",
       "        text-align: right;\n",
       "    }\n",
       "</style>\n",
       "<table border=\"1\" class=\"dataframe\">\n",
       "  <thead>\n",
       "    <tr style=\"text-align: right;\">\n",
       "      <th></th>\n",
       "      <th>date</th>\n",
       "      <th>temperature_C</th>\n",
       "      <th>temperature_C_avg</th>\n",
       "    </tr>\n",
       "  </thead>\n",
       "  <tbody>\n",
       "    <tr>\n",
       "      <th>0</th>\n",
       "      <td>2020-09-29</td>\n",
       "      <td>[11, 12, 12, 12, 12, 13]</td>\n",
       "      <td>12.0</td>\n",
       "    </tr>\n",
       "    <tr>\n",
       "      <th>1</th>\n",
       "      <td>2020-09-30</td>\n",
       "      <td>[10, 11, 13, 13, 14, 14]</td>\n",
       "      <td>12.5</td>\n",
       "    </tr>\n",
       "    <tr>\n",
       "      <th>2</th>\n",
       "      <td>2020-10-01</td>\n",
       "      <td>[13, 15, 15, 15, 15, 14]</td>\n",
       "      <td>14.5</td>\n",
       "    </tr>\n",
       "  </tbody>\n",
       "</table>\n",
       "</div>"
      ],
      "text/plain": [
       "         date             temperature_C  temperature_C_avg\n",
       "0  2020-09-29  [11, 12, 12, 12, 12, 13]               12.0\n",
       "1  2020-09-30  [10, 11, 13, 13, 14, 14]               12.5\n",
       "2  2020-10-01  [13, 15, 15, 15, 15, 14]               14.5"
      ]
     },
     "metadata": {},
     "output_type": "display_data"
    },
    {
     "name": "stdout",
     "output_type": "stream",
     "text": [
      "(38461, 23)\n",
      "(38461, 26)\n"
     ]
    },
    {
     "data": {
      "text/html": [
       "<div>\n",
       "<style scoped>\n",
       "    .dataframe tbody tr th:only-of-type {\n",
       "        vertical-align: middle;\n",
       "    }\n",
       "\n",
       "    .dataframe tbody tr th {\n",
       "        vertical-align: top;\n",
       "    }\n",
       "\n",
       "    .dataframe thead th {\n",
       "        text-align: right;\n",
       "    }\n",
       "</style>\n",
       "<table border=\"1\" class=\"dataframe\">\n",
       "  <thead>\n",
       "    <tr style=\"text-align: right;\">\n",
       "      <th></th>\n",
       "      <th>HenID</th>\n",
       "      <th>PenID</th>\n",
       "      <th>level</th>\n",
       "      <th>Treatment</th>\n",
       "      <th>CLASS</th>\n",
       "      <th>DOA</th>\n",
       "      <th>WOA</th>\n",
       "      <th>DIB</th>\n",
       "      <th>WIB</th>\n",
       "      <th>weight_interp</th>\n",
       "      <th>...</th>\n",
       "      <th>mid_cum_Z4_h_Morning</th>\n",
       "      <th>nbr_h_WGopen</th>\n",
       "      <th>perc_duration_1_Zone</th>\n",
       "      <th>perc_duration_4_Zone</th>\n",
       "      <th>perc_duration_5_Zone</th>\n",
       "      <th>perc_duration_2_Zone</th>\n",
       "      <th>nbr_h_per_day</th>\n",
       "      <th>date</th>\n",
       "      <th>temperature_C</th>\n",
       "      <th>temperature_C_avg</th>\n",
       "    </tr>\n",
       "  </thead>\n",
       "  <tbody>\n",
       "    <tr>\n",
       "      <th>0</th>\n",
       "      <td>hen_130</td>\n",
       "      <td>pen10</td>\n",
       "      <td>2020-10-05</td>\n",
       "      <td>TRAN</td>\n",
       "      <td>REXP</td>\n",
       "      <td>124</td>\n",
       "      <td>18</td>\n",
       "      <td>6</td>\n",
       "      <td>1</td>\n",
       "      <td>NaN</td>\n",
       "      <td>...</td>\n",
       "      <td>NaN</td>\n",
       "      <td>0.0</td>\n",
       "      <td>NaN</td>\n",
       "      <td>0.0</td>\n",
       "      <td>100.0</td>\n",
       "      <td>0.0</td>\n",
       "      <td>9</td>\n",
       "      <td>2020-10-05</td>\n",
       "      <td>[10, 11, 12, 12, 12, 12]</td>\n",
       "      <td>11.5</td>\n",
       "    </tr>\n",
       "    <tr>\n",
       "      <th>1</th>\n",
       "      <td>hen_130</td>\n",
       "      <td>pen10</td>\n",
       "      <td>2020-10-06</td>\n",
       "      <td>TRAN</td>\n",
       "      <td>REXP</td>\n",
       "      <td>125</td>\n",
       "      <td>18</td>\n",
       "      <td>7</td>\n",
       "      <td>1</td>\n",
       "      <td>NaN</td>\n",
       "      <td>...</td>\n",
       "      <td>NaN</td>\n",
       "      <td>0.0</td>\n",
       "      <td>NaN</td>\n",
       "      <td>1.0</td>\n",
       "      <td>97.0</td>\n",
       "      <td>0.0</td>\n",
       "      <td>9</td>\n",
       "      <td>2020-10-06</td>\n",
       "      <td>[11, 12, 14, 16, 13, 15]</td>\n",
       "      <td>13.5</td>\n",
       "    </tr>\n",
       "  </tbody>\n",
       "</table>\n",
       "<p>2 rows × 26 columns</p>\n",
       "</div>"
      ],
      "text/plain": [
       "     HenID  PenID      level Treatment CLASS  DOA  WOA  DIB  WIB  \\\n",
       "0  hen_130  pen10 2020-10-05      TRAN  REXP  124   18    6    1   \n",
       "1  hen_130  pen10 2020-10-06      TRAN  REXP  125   18    7    1   \n",
       "\n",
       "   weight_interp  ...  mid_cum_Z4_h_Morning  nbr_h_WGopen  \\\n",
       "0            NaN  ...                   NaN           0.0   \n",
       "1            NaN  ...                   NaN           0.0   \n",
       "\n",
       "  perc_duration_1_Zone  perc_duration_4_Zone  perc_duration_5_Zone  \\\n",
       "0                  NaN                   0.0                 100.0   \n",
       "1                  NaN                   1.0                  97.0   \n",
       "\n",
       "   perc_duration_2_Zone  nbr_h_per_day        date             temperature_C  \\\n",
       "0                   0.0              9  2020-10-05  [10, 11, 12, 12, 12, 12]   \n",
       "1                   0.0              9  2020-10-06  [11, 12, 14, 16, 13, 15]   \n",
       "\n",
       "   temperature_C_avg  \n",
       "0               11.5  \n",
       "1               13.5  \n",
       "\n",
       "[2 rows x 26 columns]"
      ]
     },
     "execution_count": 11,
     "metadata": {},
     "output_type": "execute_result"
    }
   ],
   "source": [
    "#add external temperature as environmental factor\n",
    "#check variation over the day... exist very much\n",
    "df_weather_h['date'] = df_weather_h['Timestamp'].map(lambda x: dt.datetime.date(x))\n",
    "df_wday = df_weather_h[df_weather_h['hour'].isin([11,12,13,14,15,16])].groupby(['date'])['temperature_C'].agg(lambda x: list(x)).reset_index()\n",
    "df_wday['temperature_C_avg'] = df_wday['temperature_C'].map(lambda x: np.mean(x))\n",
    "display(df_wday.head(3))\n",
    "\n",
    "print(df_daily.shape)\n",
    "df_daily['date'] = df_daily['level'].map(lambda x: dt.datetime.date(x))\n",
    "df_daily = pd.merge(df_daily, df_wday, on='date', how='left')\n",
    "print(df_daily.shape)\n",
    "df_daily.head(2)"
   ]
  },
  {
   "cell_type": "markdown",
   "metadata": {},
   "source": [
    "# Save dataframe to assess effects of treatment"
   ]
  },
  {
   "cell_type": "code",
   "execution_count": 12,
   "metadata": {},
   "outputs": [
    {
     "data": {
      "text/html": [
       "<div>\n",
       "<style scoped>\n",
       "    .dataframe tbody tr th:only-of-type {\n",
       "        vertical-align: middle;\n",
       "    }\n",
       "\n",
       "    .dataframe tbody tr th {\n",
       "        vertical-align: top;\n",
       "    }\n",
       "\n",
       "    .dataframe thead th {\n",
       "        text-align: right;\n",
       "    }\n",
       "</style>\n",
       "<table border=\"1\" class=\"dataframe\">\n",
       "  <thead>\n",
       "    <tr style=\"text-align: right;\">\n",
       "      <th></th>\n",
       "      <th>propindoor_duration_5_Zone</th>\n",
       "      <th>propindoor_duration_5_Zone_rs</th>\n",
       "      <th>propindoor_duration_4_Zone</th>\n",
       "      <th>propindoor_duration_4_Zone_rs</th>\n",
       "    </tr>\n",
       "  </thead>\n",
       "  <tbody>\n",
       "    <tr>\n",
       "      <th>38458</th>\n",
       "      <td>0.258824</td>\n",
       "      <td>0.263647</td>\n",
       "      <td>0.094118</td>\n",
       "      <td>0.102235</td>\n",
       "    </tr>\n",
       "    <tr>\n",
       "      <th>38459</th>\n",
       "      <td>0.207317</td>\n",
       "      <td>0.213171</td>\n",
       "      <td>0.121951</td>\n",
       "      <td>0.129512</td>\n",
       "    </tr>\n",
       "    <tr>\n",
       "      <th>38460</th>\n",
       "      <td>0.216867</td>\n",
       "      <td>0.222530</td>\n",
       "      <td>0.096386</td>\n",
       "      <td>0.104458</td>\n",
       "    </tr>\n",
       "  </tbody>\n",
       "</table>\n",
       "</div>"
      ],
      "text/plain": [
       "       propindoor_duration_5_Zone  propindoor_duration_5_Zone_rs  \\\n",
       "38458                    0.258824                       0.263647   \n",
       "38459                    0.207317                       0.213171   \n",
       "38460                    0.216867                       0.222530   \n",
       "\n",
       "       propindoor_duration_4_Zone  propindoor_duration_4_Zone_rs  \n",
       "38458                    0.094118                       0.102235  \n",
       "38459                    0.121951                       0.129512  \n",
       "38460                    0.096386                       0.104458  "
      ]
     },
     "metadata": {},
     "output_type": "display_data"
    },
    {
     "name": "stdout",
     "output_type": "stream",
     "text": [
      "0.01 0.99 0.01 0.99\n"
     ]
    },
    {
     "data": {
      "text/plain": [
       "1    37365\n",
       "0     1096\n",
       "Name: went_litter, dtype: int64"
      ]
     },
     "metadata": {},
     "output_type": "display_data"
    },
    {
     "data": {
      "text/plain": [
       "0    37989\n",
       "1      472\n",
       "Name: stayed_top_tier, dtype: int64"
      ]
     },
     "metadata": {},
     "output_type": "display_data"
    }
   ],
   "source": [
    "#proportion of INDOOR time\n",
    "df_daily['perc_duration_1_Zone_nonan'] = df_daily['perc_duration_1_Zone'].fillna(0)\n",
    "df_daily['propindoor_duration_5_Zone'] = df_daily.apply(lambda x: x['perc_duration_5_Zone']/(100-x['perc_duration_1_Zone_nonan']), axis=1)\n",
    "df_daily['propindoor_duration_4_Zone'] = df_daily.apply(lambda x: x['perc_duration_4_Zone']/(100-x['perc_duration_1_Zone_nonan']), axis=1)\n",
    "df_daily['propindoor_duration_2_Zone'] = df_daily.apply(lambda x: x['perc_duration_2_Zone']/(100-x['perc_duration_1_Zone_nonan']), axis=1)\n",
    "\n",
    "#rescalling to 0.01-0.99 for beta\n",
    "def renormalize(n, r1, r2):\n",
    "    delta1 = r1[1] - r1[0] ; delta2 = r2[1] - r2[0]\n",
    "    return (delta2 * (n - r1[0]) / delta1) + r2[0] #rescale from 0--1 then multiply by 99-1 and add 1\n",
    "#small example:\n",
    "#renormalize(99,[0,100], [1,99]) #98.02\n",
    "#renormalize(0,[0,100], [1,99]) #1\n",
    "df_daily['propindoor_duration_5_Zone_rs'] = df_daily['propindoor_duration_5_Zone'].map(lambda x: renormalize(x*100, [0,100], \n",
    "                                                                                                             [1,99])/100)\n",
    "df_daily['propindoor_duration_4_Zone_rs'] = df_daily['propindoor_duration_4_Zone'].map(lambda x: renormalize(x*100, [0,100], \n",
    "                                                                                                             [1,99])/100)\n",
    "df_daily['propindoor_duration_2_Zone_rs'] = df_daily['propindoor_duration_2_Zone'].map(lambda x: renormalize(x*100, [0,100], \n",
    "                                                                                                             [1,99])/100)\n",
    "\n",
    "#small check \n",
    "display(df_daily[['propindoor_duration_5_Zone','propindoor_duration_5_Zone_rs',\n",
    "          'propindoor_duration_4_Zone','propindoor_duration_4_Zone_rs']].tail(3))\n",
    "print(df_daily['propindoor_duration_5_Zone_rs'].min(), df_daily['propindoor_duration_5_Zone_rs'].max(),\n",
    "      df_daily['propindoor_duration_4_Zone_rs'].min(), df_daily['propindoor_duration_4_Zone_rs'].max())\n",
    "\n",
    "#for month 1\n",
    "df_daily['went_litter'] = df_daily['propindoor_duration_2_Zone'].map(lambda x: int(x>0))\n",
    "display(df_daily['went_litter'].value_counts())\n",
    "df_daily['stayed_top_tier'] = df_daily['propindoor_duration_5_Zone'].map(lambda x: int(x==1))\n",
    "display(df_daily['stayed_top_tier'].value_counts())"
   ]
  },
  {
   "cell_type": "code",
   "execution_count": 13,
   "metadata": {},
   "outputs": [
    {
     "data": {
      "text/html": [
       "<div>\n",
       "<style scoped>\n",
       "    .dataframe tbody tr th:only-of-type {\n",
       "        vertical-align: middle;\n",
       "    }\n",
       "\n",
       "    .dataframe tbody tr th {\n",
       "        vertical-align: top;\n",
       "    }\n",
       "\n",
       "    .dataframe thead th {\n",
       "        text-align: right;\n",
       "    }\n",
       "</style>\n",
       "<table border=\"1\" class=\"dataframe\">\n",
       "  <thead>\n",
       "    <tr style=\"text-align: right;\">\n",
       "      <th></th>\n",
       "      <th>HenID</th>\n",
       "      <th>DIB</th>\n",
       "    </tr>\n",
       "  </thead>\n",
       "  <tbody>\n",
       "    <tr>\n",
       "      <th>0</th>\n",
       "      <td>hen_135</td>\n",
       "      <td>2</td>\n",
       "    </tr>\n",
       "    <tr>\n",
       "      <th>1</th>\n",
       "      <td>hen_199</td>\n",
       "      <td>7</td>\n",
       "    </tr>\n",
       "  </tbody>\n",
       "</table>\n",
       "</div>"
      ],
      "text/plain": [
       "     HenID  DIB\n",
       "0  hen_135    2\n",
       "1  hen_199    7"
      ]
     },
     "metadata": {},
     "output_type": "display_data"
    },
    {
     "data": {
      "text/html": [
       "<div>\n",
       "<style scoped>\n",
       "    .dataframe tbody tr th:only-of-type {\n",
       "        vertical-align: middle;\n",
       "    }\n",
       "\n",
       "    .dataframe tbody tr th {\n",
       "        vertical-align: top;\n",
       "    }\n",
       "\n",
       "    .dataframe thead th {\n",
       "        text-align: right;\n",
       "    }\n",
       "</style>\n",
       "<table border=\"1\" class=\"dataframe\">\n",
       "  <thead>\n",
       "    <tr style=\"text-align: right;\">\n",
       "      <th></th>\n",
       "      <th>HenID</th>\n",
       "      <th>DIB</th>\n",
       "    </tr>\n",
       "  </thead>\n",
       "  <tbody>\n",
       "    <tr>\n",
       "      <th>0</th>\n",
       "      <td>hen_116</td>\n",
       "      <td>1</td>\n",
       "    </tr>\n",
       "    <tr>\n",
       "      <th>1</th>\n",
       "      <td>hen_135</td>\n",
       "      <td>3</td>\n",
       "    </tr>\n",
       "    <tr>\n",
       "      <th>2</th>\n",
       "      <td>hen_143</td>\n",
       "      <td>1</td>\n",
       "    </tr>\n",
       "    <tr>\n",
       "      <th>3</th>\n",
       "      <td>hen_153</td>\n",
       "      <td>2</td>\n",
       "    </tr>\n",
       "    <tr>\n",
       "      <th>4</th>\n",
       "      <td>hen_156</td>\n",
       "      <td>1</td>\n",
       "    </tr>\n",
       "    <tr>\n",
       "      <th>5</th>\n",
       "      <td>hen_166</td>\n",
       "      <td>1</td>\n",
       "    </tr>\n",
       "    <tr>\n",
       "      <th>6</th>\n",
       "      <td>hen_174</td>\n",
       "      <td>1</td>\n",
       "    </tr>\n",
       "    <tr>\n",
       "      <th>7</th>\n",
       "      <td>hen_177</td>\n",
       "      <td>4</td>\n",
       "    </tr>\n",
       "    <tr>\n",
       "      <th>8</th>\n",
       "      <td>hen_199</td>\n",
       "      <td>28</td>\n",
       "    </tr>\n",
       "    <tr>\n",
       "      <th>9</th>\n",
       "      <td>hen_20</td>\n",
       "      <td>7</td>\n",
       "    </tr>\n",
       "    <tr>\n",
       "      <th>10</th>\n",
       "      <td>hen_55</td>\n",
       "      <td>1</td>\n",
       "    </tr>\n",
       "    <tr>\n",
       "      <th>11</th>\n",
       "      <td>hen_6</td>\n",
       "      <td>1</td>\n",
       "    </tr>\n",
       "    <tr>\n",
       "      <th>12</th>\n",
       "      <td>hen_65</td>\n",
       "      <td>4</td>\n",
       "    </tr>\n",
       "    <tr>\n",
       "      <th>13</th>\n",
       "      <td>hen_69</td>\n",
       "      <td>1</td>\n",
       "    </tr>\n",
       "    <tr>\n",
       "      <th>14</th>\n",
       "      <td>hen_80</td>\n",
       "      <td>2</td>\n",
       "    </tr>\n",
       "    <tr>\n",
       "      <th>15</th>\n",
       "      <td>hen_94</td>\n",
       "      <td>1</td>\n",
       "    </tr>\n",
       "  </tbody>\n",
       "</table>\n",
       "</div>"
      ],
      "text/plain": [
       "      HenID  DIB\n",
       "0   hen_116    1\n",
       "1   hen_135    3\n",
       "2   hen_143    1\n",
       "3   hen_153    2\n",
       "4   hen_156    1\n",
       "5   hen_166    1\n",
       "6   hen_174    1\n",
       "7   hen_177    4\n",
       "8   hen_199   28\n",
       "9    hen_20    7\n",
       "10   hen_55    1\n",
       "11    hen_6    1\n",
       "12   hen_65    4\n",
       "13   hen_69    1\n",
       "14   hen_80    2\n",
       "15   hen_94    1"
      ]
     },
     "metadata": {},
     "output_type": "display_data"
    }
   ],
   "source": [
    "#remove this disfuntiocn tag\n",
    "display(df_daily[df_daily['propindoor_duration_4_Zone']>=0.90].groupby('HenID')['DIB'].count().reset_index())\n",
    "display(df_daily[df_daily['propindoor_duration_4_Zone']>=0.60].groupby('HenID')['DIB'].count().reset_index())"
   ]
  },
  {
   "cell_type": "code",
   "execution_count": 14,
   "metadata": {},
   "outputs": [
    {
     "data": {
      "text/plain": [
       "Timestamp('2021-04-11 00:00:00')"
      ]
     },
     "execution_count": 14,
     "metadata": {},
     "output_type": "execute_result"
    }
   ],
   "source": [
    "df_daily[df_daily['HenID']=='hen_199']['level'].max()\n",
    "#01.02.2021 12.04.2021"
   ]
  },
  {
   "cell_type": "code",
   "execution_count": 15,
   "metadata": {},
   "outputs": [
    {
     "data": {
      "text/plain": [
       "Timestamp('2020-11-24 00:00:00')"
      ]
     },
     "execution_count": 15,
     "metadata": {},
     "output_type": "execute_result"
    }
   ],
   "source": [
    "df_daily[df_daily['HenID']=='hen_199']['level'].min()"
   ]
  },
  {
   "cell_type": "code",
   "execution_count": 16,
   "metadata": {},
   "outputs": [],
   "source": [
    "#print(df_daily.shape)\n",
    "#df_daily = df_daily[df_daily['HenID']!='hen_199']\n",
    "#print(df_daily.shape)"
   ]
  },
  {
   "cell_type": "markdown",
   "metadata": {},
   "source": [
    "#drop useless columns\n",
    "print(df_daily.shape)\n",
    "df_daily = df_daily.drop(['perc_duration_1_Zone','perc_duration_5_Zone','perc_duration_4_Zone','perc_duration_2_Zone','perc_duration_1_Zone_nonan',\n",
    "               'temperature_C','is_vacc'], axis=1)\n",
    "print(df_daily.shape)\n",
    "df_daily.tail(3)"
   ]
  },
  {
   "cell_type": "code",
   "execution_count": 17,
   "metadata": {},
   "outputs": [
    {
     "name": "stdout",
     "output_type": "stream",
     "text": [
      "(38461, 35)\n",
      "(38303, 35)\n"
     ]
    }
   ],
   "source": [
    "#df_ = df_daily[df_daily['DOA']>200].groupby(['DOA','date','Treatment'])['vertical_travel_distance'].mean().reset_index()\n",
    "#plt.hist(df_['vertical_travel_distance']);\n",
    "#df_[df_['vertical_travel_distance']>100]\n",
    "#df_daily[df_daily['DOA']==275]['PenID'].value_counts()\n",
    "#remove this weird distrubance day\n",
    "print(df_daily.shape)\n",
    "df_daily = df_daily[df_daily['DOA']!=275]\n",
    "print(df_daily.shape)"
   ]
  },
  {
   "cell_type": "code",
   "execution_count": 18,
   "metadata": {},
   "outputs": [
    {
     "data": {
      "text/html": [
       "<div>\n",
       "<style scoped>\n",
       "    .dataframe tbody tr th:only-of-type {\n",
       "        vertical-align: middle;\n",
       "    }\n",
       "\n",
       "    .dataframe tbody tr th {\n",
       "        vertical-align: top;\n",
       "    }\n",
       "\n",
       "    .dataframe thead th {\n",
       "        text-align: right;\n",
       "    }\n",
       "</style>\n",
       "<table border=\"1\" class=\"dataframe\">\n",
       "  <thead>\n",
       "    <tr style=\"text-align: right;\">\n",
       "      <th></th>\n",
       "      <th>nbr_h_per_day</th>\n",
       "      <th>DIB</th>\n",
       "    </tr>\n",
       "  </thead>\n",
       "  <tbody>\n",
       "    <tr>\n",
       "      <th>0</th>\n",
       "      <td>8</td>\n",
       "      <td>[1]</td>\n",
       "    </tr>\n",
       "    <tr>\n",
       "      <th>1</th>\n",
       "      <td>9</td>\n",
       "      <td>[2, 3, 4, 5, 6, 7, 8]</td>\n",
       "    </tr>\n",
       "    <tr>\n",
       "      <th>2</th>\n",
       "      <td>10</td>\n",
       "      <td>[11, 12, 13, 14, 16]</td>\n",
       "    </tr>\n",
       "    <tr>\n",
       "      <th>3</th>\n",
       "      <td>11</td>\n",
       "      <td>[17, 18, 19, 20, 21, 22]</td>\n",
       "    </tr>\n",
       "    <tr>\n",
       "      <th>4</th>\n",
       "      <td>12</td>\n",
       "      <td>[23, 24, 25, 26, 27, 28, 29, 30]</td>\n",
       "    </tr>\n",
       "    <tr>\n",
       "      <th>5</th>\n",
       "      <td>13</td>\n",
       "      <td>[31, 32, 33, 34, 35, 36, 37]</td>\n",
       "    </tr>\n",
       "    <tr>\n",
       "      <th>6</th>\n",
       "      <td>14</td>\n",
       "      <td>[38, 39, 40, 41, 42, 43, 44]</td>\n",
       "    </tr>\n",
       "    <tr>\n",
       "      <th>7</th>\n",
       "      <td>15</td>\n",
       "      <td>[45, 46, 47, 48, 49, 50, 51, 52, 53, 54, 56, 5...</td>\n",
       "    </tr>\n",
       "  </tbody>\n",
       "</table>\n",
       "</div>"
      ],
      "text/plain": [
       "   nbr_h_per_day                                                DIB\n",
       "0              8                                                [1]\n",
       "1              9                              [2, 3, 4, 5, 6, 7, 8]\n",
       "2             10                               [11, 12, 13, 14, 16]\n",
       "3             11                           [17, 18, 19, 20, 21, 22]\n",
       "4             12                   [23, 24, 25, 26, 27, 28, 29, 30]\n",
       "5             13                       [31, 32, 33, 34, 35, 36, 37]\n",
       "6             14                       [38, 39, 40, 41, 42, 43, 44]\n",
       "7             15  [45, 46, 47, 48, 49, 50, 51, 52, 53, 54, 56, 5..."
      ]
     },
     "metadata": {},
     "output_type": "display_data"
    }
   ],
   "source": [
    "df_ = df_daily.groupby('nbr_h_per_day')['DIB'].agg(lambda x: sorted(set(x))).reset_index()\n",
    "display(df_)"
   ]
  },
  {
   "cell_type": "code",
   "execution_count": 19,
   "metadata": {},
   "outputs": [
    {
     "data": {
      "text/html": [
       "<div>\n",
       "<style scoped>\n",
       "    .dataframe tbody tr th:only-of-type {\n",
       "        vertical-align: middle;\n",
       "    }\n",
       "\n",
       "    .dataframe tbody tr th {\n",
       "        vertical-align: top;\n",
       "    }\n",
       "\n",
       "    .dataframe thead th {\n",
       "        text-align: right;\n",
       "    }\n",
       "</style>\n",
       "<table border=\"1\" class=\"dataframe\">\n",
       "  <thead>\n",
       "    <tr style=\"text-align: right;\">\n",
       "      <th></th>\n",
       "      <th>monthILB</th>\n",
       "      <th>level</th>\n",
       "    </tr>\n",
       "  </thead>\n",
       "  <tbody>\n",
       "    <tr>\n",
       "      <th>0</th>\n",
       "      <td>month1</td>\n",
       "      <td>[2020-09-30 00:00:00, 2020-10-01 00:00:00, 202...</td>\n",
       "    </tr>\n",
       "    <tr>\n",
       "      <th>1</th>\n",
       "      <td>month10</td>\n",
       "      <td>[2021-07-04 00:00:00, 2021-07-05 00:00:00, 202...</td>\n",
       "    </tr>\n",
       "    <tr>\n",
       "      <th>2</th>\n",
       "      <td>month2</td>\n",
       "      <td>[2020-11-01 00:00:00, 2020-11-02 00:00:00, 202...</td>\n",
       "    </tr>\n",
       "    <tr>\n",
       "      <th>3</th>\n",
       "      <td>month3</td>\n",
       "      <td>[2020-12-01 00:00:00, 2020-12-02 00:00:00, 202...</td>\n",
       "    </tr>\n",
       "    <tr>\n",
       "      <th>4</th>\n",
       "      <td>month4</td>\n",
       "      <td>[2021-01-01 00:00:00, 2021-01-02 00:00:00, 202...</td>\n",
       "    </tr>\n",
       "    <tr>\n",
       "      <th>5</th>\n",
       "      <td>month5</td>\n",
       "      <td>[2021-02-03 00:00:00, 2021-02-04 00:00:00, 202...</td>\n",
       "    </tr>\n",
       "    <tr>\n",
       "      <th>6</th>\n",
       "      <td>month6</td>\n",
       "      <td>[2021-03-01 00:00:00, 2021-03-02 00:00:00, 202...</td>\n",
       "    </tr>\n",
       "    <tr>\n",
       "      <th>7</th>\n",
       "      <td>month7</td>\n",
       "      <td>[2021-04-01 00:00:00, 2021-04-02 00:00:00, 202...</td>\n",
       "    </tr>\n",
       "    <tr>\n",
       "      <th>8</th>\n",
       "      <td>month8</td>\n",
       "      <td>[2021-05-01 00:00:00, 2021-05-02 00:00:00, 202...</td>\n",
       "    </tr>\n",
       "    <tr>\n",
       "      <th>9</th>\n",
       "      <td>month9</td>\n",
       "      <td>[2021-06-01 00:00:00, 2021-06-03 00:00:00, 202...</td>\n",
       "    </tr>\n",
       "  </tbody>\n",
       "</table>\n",
       "</div>"
      ],
      "text/plain": [
       "  monthILB                                              level\n",
       "0   month1  [2020-09-30 00:00:00, 2020-10-01 00:00:00, 202...\n",
       "1  month10  [2021-07-04 00:00:00, 2021-07-05 00:00:00, 202...\n",
       "2   month2  [2020-11-01 00:00:00, 2020-11-02 00:00:00, 202...\n",
       "3   month3  [2020-12-01 00:00:00, 2020-12-02 00:00:00, 202...\n",
       "4   month4  [2021-01-01 00:00:00, 2021-01-02 00:00:00, 202...\n",
       "5   month5  [2021-02-03 00:00:00, 2021-02-04 00:00:00, 202...\n",
       "6   month6  [2021-03-01 00:00:00, 2021-03-02 00:00:00, 202...\n",
       "7   month7  [2021-04-01 00:00:00, 2021-04-02 00:00:00, 202...\n",
       "8   month8  [2021-05-01 00:00:00, 2021-05-02 00:00:00, 202...\n",
       "9   month9  [2021-06-01 00:00:00, 2021-06-03 00:00:00, 202..."
      ]
     },
     "metadata": {},
     "output_type": "display_data"
    },
    {
     "data": {
      "text/plain": [
       "month8     4552\n",
       "month3     4464\n",
       "month2     4399\n",
       "month6     4262\n",
       "month7     4141\n",
       "month1     3936\n",
       "month5     3889\n",
       "month4     3660\n",
       "month10    3144\n",
       "month9     1856\n",
       "Name: monthILB, dtype: int64"
      ]
     },
     "execution_count": 19,
     "metadata": {},
     "output_type": "execute_result"
    }
   ],
   "source": [
    "#df_daily['LPIB'] = df_daily['WIB'].map(lambda x: 'LP'+str(math.ceil(x/4)))\n",
    "#display(df_daily.groupby(['LPIB'])['WIB'].agg(lambda x: set(x)).reset_index())\n",
    "#month 9 (september) has only one day, lets include it in the first month\n",
    "dico_month_ = {9:1,10:1,11:2,12:3,1:4,2:5,3:6,4:7,5:8,6:9,7:10}\n",
    "df_daily['monthILB'] = df_daily['level'].map(lambda x:'month'+str(dico_month_[x.month]))\n",
    "#small check\n",
    "display(df_daily.groupby(['monthILB'])['level'].agg(lambda x: sorted(set(x))).reset_index())\n",
    "df_daily['monthILB'].value_counts()"
   ]
  },
  {
   "cell_type": "code",
   "execution_count": 20,
   "metadata": {},
   "outputs": [],
   "source": [
    "df_daily.loc[df_daily['monthILB']=='month1','mid_cum_Z4_h_Morning'] = np.nan\n",
    "df_daily.loc[df_daily['monthILB']=='month1','propindoor_duration_4_Zone_rs'] = np.nan\n",
    "df_daily.loc[df_daily['monthILB']=='month1','propindoor_duration_4_Zone'] = np.nan"
   ]
  },
  {
   "cell_type": "code",
   "execution_count": 21,
   "metadata": {},
   "outputs": [],
   "source": [
    "#plt.hist(df_daily[df_daily['monthILB']=='month1']['propindoor_duration_2_Zone_rs'], bins=50);"
   ]
  },
  {
   "cell_type": "markdown",
   "metadata": {},
   "source": [
    "print(df_daily[(df_daily['monthILB']=='month1')&(df_daily['propindoor_duration_2_Zone']==0)].shape,\n",
    "df_daily[(df_daily['monthILB']=='month1')&(df_daily['propindoor_duration_2_Zone']!=0)].shape)\n",
    "print(df_daily[(df_daily['monthILB']=='month1')&(df_daily['propindoor_duration_5_Zone']==1)].shape,\n",
    "df_daily[(df_daily['monthILB']=='month1')&(df_daily['propindoor_duration_5_Zone']!=1)].shape)"
   ]
  },
  {
   "cell_type": "code",
   "execution_count": 22,
   "metadata": {},
   "outputs": [
    {
     "data": {
      "image/png": "[encoded data removed]",
      "text/plain": [
       "<Figure size 432x288 with 1 Axes>"
      ]
     },
     "metadata": {
      "needs_background": "light"
     },
     "output_type": "display_data"
    }
   ],
   "source": [
    "plt.hist(df_daily[df_daily['monthILB']=='month4']['propindoor_duration_2_Zone_rs'], bins=50);"
   ]
  },
  {
   "cell_type": "code",
   "execution_count": 23,
   "metadata": {},
   "outputs": [],
   "source": [
    "df_daily.to_csv(os.path.join(path_extracted_data, name+'_df_all_mvt.csv'), index=False, sep=',')"
   ]
  },
  {
   "cell_type": "code",
   "execution_count": null,
   "metadata": {},
   "outputs": [],
   "source": []
  },
  {
   "cell_type": "markdown",
   "metadata": {},
   "source": [
    "df_ = df_daily.groupby(['HenID'])['propindoor_duration_2_Zone_rs'].mean().reset_index().sort_values('propindoor_duration_2_Zone_rs', ascending=False)\n",
    "li_hen_ = df_['HenID'].tolist()\n",
    "df_daily['order_D2'] = df_daily['HenID'].map(lambda x: li_hen_.index(x))\n",
    "df_daily.sort_values('order_D2', inplace=True)\n",
    "plt.figure(figsize=(15,5))\n",
    "sns.boxplot(x='HenID', y='propindoor_duration_2_Zone_rs', data=df_daily[df_daily['monthILB']=='month3'], hue='HenID');"
   ]
  },
  {
   "cell_type": "code",
   "execution_count": null,
   "metadata": {},
   "outputs": [],
   "source": [
    "#sns.lineplot(x='DIB', y='propindoor_duration_4_Zone_rs', data=df_daily[df_daily['monthILB']=='month6'], hue='PenID')"
   ]
  },
  {
   "cell_type": "code",
   "execution_count": null,
   "metadata": {},
   "outputs": [],
   "source": [
    "df_daily[~(df_daily['WentinWG'].isnull())]['level'].min()"
   ]
  },
  {
   "cell_type": "code",
   "execution_count": null,
   "metadata": {},
   "outputs": [],
   "source": [
    "df_daily.groupby('monthILB')['WentinWG'].value_counts(normalize=True)"
   ]
  },
  {
   "cell_type": "code",
   "execution_count": null,
   "metadata": {},
   "outputs": [],
   "source": [
    "df_daily.groupby(['monthILB','Treatment'])['WentinWG'].value_counts(normalize=True)"
   ]
  },
  {
   "cell_type": "code",
   "execution_count": null,
   "metadata": {},
   "outputs": [],
   "source": [
    "df_daily.groupby('monthILB')['went_litter'].value_counts(normalize=True)"
   ]
  },
  {
   "cell_type": "code",
   "execution_count": null,
   "metadata": {},
   "outputs": [],
   "source": [
    "df_daily.groupby(['monthILB','Treatment'])['went_litter'].value_counts(normalize=True)"
   ]
  },
  {
   "cell_type": "code",
   "execution_count": null,
   "metadata": {},
   "outputs": [],
   "source": [
    "df_daily[df_daily['WIB']==25]['DIB'].min()"
   ]
  },
  {
   "cell_type": "code",
   "execution_count": null,
   "metadata": {},
   "outputs": [],
   "source": [
    "#first day accounted for the nestbox tier behaviours\n",
    "df_daily[df_daily['monthILB']=='month2']['level'].min()"
   ]
  },
  {
   "cell_type": "code",
   "execution_count": null,
   "metadata": {},
   "outputs": [],
   "source": [
    "display(df_daily[df_daily['monthILB']=='month1'].groupby(['PenID','Treatment'])['went_litter'].value_counts(normalize=True))"
   ]
  },
  {
   "cell_type": "code",
   "execution_count": null,
   "metadata": {},
   "outputs": [],
   "source": [
    "df_daily[df_daily['monthILB']=='month3']['DOA']"
   ]
  },
  {
   "cell_type": "code",
   "execution_count": null,
   "metadata": {},
   "outputs": [],
   "source": [
    "df_ = df_daily[df_daily['monthILB']=='month5'].groupby('HenID')['monthILB'].count().reset_index().sort_values(['monthILB'])\n",
    "display(df_.head(3))\n",
    "li_henremove = df_[df_['monthILB']<5]['HenID'].unique()\n",
    "print(len(li_henremove))"
   ]
  },
  {
   "cell_type": "code",
   "execution_count": null,
   "metadata": {},
   "outputs": [],
   "source": [
    "#save \n",
    "df_daily_ = df_daily[~df_daily['HenID'].isin(li_henremove)]\n",
    "print(df_daily.shape, df_daily_.shape)\n",
    "df_daily_.to_csv(os.path.join(path_extracted_data, name+'_df_all_mvt_henless.csv'), index=False, sep=',')"
   ]
  },
  {
   "cell_type": "code",
   "execution_count": null,
   "metadata": {},
   "outputs": [],
   "source": [
    "name+'_df_all_mvt_henless.csv'"
   ]
  },
  {
   "cell_type": "code",
   "execution_count": null,
   "metadata": {
    "scrolled": true
   },
   "outputs": [],
   "source": [
    "df_daily['HenID'].value_counts().reset_index().head(30)"
   ]
  },
  {
   "cell_type": "code",
   "execution_count": null,
   "metadata": {},
   "outputs": [],
   "source": [
    "df_daily.isna().sum(axis=0).sort_values().tail(30)"
   ]
  },
  {
   "cell_type": "code",
   "execution_count": null,
   "metadata": {},
   "outputs": [],
   "source": [
    "mi = min(df_daily['DOA'].tolist())\n",
    "ma = max(df_daily['DOA'].tolist())\n",
    "print('We are involving a period of %d days of tracking during the days from the DOA %d until DOA %d'%(ma-mi, mi, ma))"
   ]
  },
  {
   "cell_type": "code",
   "execution_count": null,
   "metadata": {},
   "outputs": [],
   "source": [
    "#check #obs/hen - to be removed due to unexpected issues\n",
    "df_info = df_daily.groupby(['HenID'])['DOA','level','PenID'].agg(lambda x: list(x)).reset_index()\n",
    "df_info['nbrDaysTracked'] = df_info['DOA'].map(lambda x: len(set(x)))\n",
    "df_info = df_info.sort_values(['nbrDaysTracked'])\n",
    "display(df_info.head(3))\n",
    "display(df_info.tail(3))\n",
    "#pen 5 had issues with batteries of markers!\n",
    "print(df_info['nbrDaysTracked'].mean())\n",
    "#df_info[df_info['HenID']=='hen_26']['level'].values\n",
    "\n",
    "print('hens had in average %d days tracked with a minimum of %d days tracked \\\n",
    "and a max of %d days'%(round(df_info['nbrDaysTracked'].mean(),0),df_info['nbrDaysTracked'].min(),df_info['nbrDaysTracked'].max()))\n",
    "\n",
    "print('In other words, %d hens were used in subsequent analysis with a total of %d observations.'%(len(df_daily['HenID'].unique()),\n",
    "                                                                                                   df_daily.shape[0]))"
   ]
  },
  {
   "cell_type": "markdown",
   "metadata": {},
   "source": [
    "# Save dataframe for HA"
   ]
  },
  {
   "cell_type": "code",
   "execution_count": null,
   "metadata": {},
   "outputs": [],
   "source": [
    "#all\n",
    "df_HA = pd.read_csv(os.path.join(path_extracted_data, 'df_all_HA.csv'), sep=';')\n",
    "df_HA['FeatherDamage'] = df_HA['Feathers'].map(lambda x: 100-x)\n",
    "display(df_HA['CLASS'].value_counts())\n",
    "df_HA['CLASS'] = df_HA['CLASS'].map(lambda x: 'REXP' if x not in ['MEXP','LEXP'] else x)\n",
    "display(df_HA['CLASS'].value_counts())\n",
    "print(df_HA.shape) \n",
    "display(df_HA.head(3))"
   ]
  },
  {
   "cell_type": "code",
   "execution_count": null,
   "metadata": {},
   "outputs": [],
   "source": [
    "df_HA.isna().sum(axis=0).sort_values().tail(30)\n",
    "print(df_HA.shape)\n",
    "df_HA = df_HA[~df_HA['Treatment'].isnull()][['CLASS','date','Treatment','HenID','severity','FeatherDamage','DOA','PenID']]\n",
    "print(df_HA.shape)\n",
    "df_HA.isna().sum(axis=0).sort_values().tail(30)"
   ]
  },
  {
   "cell_type": "code",
   "execution_count": null,
   "metadata": {},
   "outputs": [],
   "source": [
    "display(df_daily['CLASS'].value_counts())"
   ]
  },
  {
   "cell_type": "code",
   "execution_count": null,
   "metadata": {},
   "outputs": [],
   "source": [
    "sorted(df_HA['DOA'].unique())"
   ]
  },
  {
   "cell_type": "code",
   "execution_count": null,
   "metadata": {},
   "outputs": [],
   "source": [
    "#median of 0 over 100\n",
    "df_HA[df_HA['DOA']==173]['severity'].describe()"
   ]
  },
  {
   "cell_type": "code",
   "execution_count": null,
   "metadata": {},
   "outputs": [],
   "source": [
    "#median of 0 over 100\n",
    "df_HA[df_HA['DOA']==215]['FeatherDamage'].describe()"
   ]
  },
  {
   "cell_type": "code",
   "execution_count": null,
   "metadata": {},
   "outputs": [],
   "source": [
    "#save\n",
    "df_HA.to_csv(os.path.join(path_extracted_data, name+'_df_HA.csv'), index=False, sep=',')"
   ]
  },
  {
   "cell_type": "markdown",
   "metadata": {},
   "source": [
    "# Save dataframe for growth curve"
   ]
  },
  {
   "cell_type": "code",
   "execution_count": null,
   "metadata": {},
   "outputs": [],
   "source": [
    "#focal birds information (one row per focal bird)\n",
    "df_FB = pd.read_csv(os.path.join(path_extracted_data, id_run+'df_FOCALBIRDS.csv'), sep=';', parse_dates=['InitialStartDate'])\n",
    "df_FB['early_death'] = df_FB['early_death'].fillna(0).replace(2,1) #2 means not sure\n",
    "display(df_FB['early_death'].value_counts())\n",
    "dico_cl = {'EPI':'REXP', 'NewAfterEpi':'REXP', 'MEXP':'MEXP', 'LEXP':'LEXP', 'LEXPLOST':'REXP', 'MEXPLOST':'REXP', 'NewAfterEpiLOST':'REXP'}\n",
    "df_FB['CLASS'] = df_FB['CLASS'].map(lambda x: dico_cl[x])\n",
    "display(df_FB['CLASS'].value_counts())\n",
    "print(df_FB.shape)\n",
    "df_FB.head(3)"
   ]
  },
  {
   "cell_type": "code",
   "execution_count": null,
   "metadata": {},
   "outputs": [],
   "source": [
    "#already NA in the 10-12 juin so it means its on the 10th all, i.e. DOA 7\n",
    "df_FB[df_FB['InitialStartDate']==dt.datetime(2020,6,12)]"
   ]
  },
  {
   "cell_type": "markdown",
   "metadata": {},
   "source": [
    "df_FB['12 juin weight'] = df_FB.apply(lambda x: x['10-12 juin weight'] if x['InitialStartDate']==dt.datetime(2020,6,12) else np.nan, axis=1)\n",
    "df_FB['10 juin weight'] = df_FB.apply(lambda x: x['10-12 juin weight'] if x['InitialStartDate']==dt.datetime(2020,6,10) else np.nan, axis=1)\n",
    "df_FB[['12 juin weight','10 juin weight','10-12 juin weight']]\n",
    "#we did not weight them on the 12th!\n",
    "df_FB[df_FB['InitialStartDate']==dt.datetime(2020,6,12)]"
   ]
  },
  {
   "cell_type": "code",
   "execution_count": null,
   "metadata": {},
   "outputs": [],
   "source": [
    "df_FB['InitialStartDate'].value_counts()"
   ]
  },
  {
   "cell_type": "code",
   "execution_count": null,
   "metadata": {},
   "outputs": [],
   "source": [
    "#save file for OFH chapter to use in R to fit growth curve\n",
    "df_FB['PenID'] = df_FB['PenID'].map(lambda x: 'pen_'+str(x))\n",
    "df_FB['PenID'].unique()"
   ]
  },
  {
   "cell_type": "code",
   "execution_count": null,
   "metadata": {},
   "outputs": [],
   "source": [
    "li_weight = [i for i in df_FB.columns if ('weight' in i)]\n",
    "print(li_weight)\n",
    "df_FB_ = pd.melt(df_FB, id_vars=['HenID','Treatment','CLASS','PenID','R-Pen'], value_vars=li_weight, value_name = 'weight')\n",
    "df_FB_.head(3)"
   ]
  },
  {
   "cell_type": "code",
   "execution_count": null,
   "metadata": {},
   "outputs": [],
   "source": [
    "dico_name_date = {'29-09 weight':dt.datetime(2020,9,29), \n",
    "                  '10-12 juin weight':dt.datetime(2020,6,10), #we did not weight them on the 12th!\n",
    "                  'weight 23-11-2020':dt.datetime(2020,11,23), \n",
    "                  'weight 04-01-2021':dt.datetime(2021,1,4), \n",
    "                  'weight 01-02-21':dt.datetime(2021,2,1), \n",
    "                  'weight 12-04-21':dt.datetime(2021,4,12), \n",
    "                  'weight 26-07-21':dt.datetime(2021,7,25)} #we did it on the 25 actually\n",
    "df_FB_['date'] = df_FB_['variable'].map(lambda x:dico_name_date[x])\n",
    "df_FB_['DOA'] = df_FB_['date'].map(lambda x: (x-dt.datetime(2020,6,3)).days) \n",
    "df_FB_ = df_FB_.sort_values('DOA')\n",
    "print(df_FB_.shape)\n",
    "df_FB_.head(3)"
   ]
  },
  {
   "cell_type": "code",
   "execution_count": null,
   "metadata": {},
   "outputs": [],
   "source": [
    "#plt.figure(figsize=(10,10))\n",
    "#sns.lineplot(x='DOA',y='weight',hue='Treatment', data=df_FB_);\n",
    "sns.boxplot(x='DOA',y='weight',hue='Treatment', data=df_FB_);"
   ]
  },
  {
   "cell_type": "code",
   "execution_count": null,
   "metadata": {},
   "outputs": [],
   "source": [
    "sns.boxplot(x='DOA',y='weight',hue='Treatment', data=df_FB_[df_FB_['DOA']==7]);"
   ]
  },
  {
   "cell_type": "code",
   "execution_count": null,
   "metadata": {},
   "outputs": [],
   "source": [
    "df_FB_.head(3)"
   ]
  },
  {
   "cell_type": "code",
   "execution_count": null,
   "metadata": {},
   "outputs": [],
   "source": [
    "#normalising distinctiveness per degree for the triangle network\n",
    "type_ = 'weight'\n",
    "li_df = []\n",
    "print(df_FB_.shape)\n",
    "for comp,df_FB__ in tqdm.tqdm(df_FB_.groupby('date')):\n",
    "    df_FB__[type_+'_norm'] = (df_FB__['weight']-df_FB__['weight'].min())/(df_FB__['weight'].max()-df_FB__['weight'].min())\n",
    "    li_df.append(df_FB__)\n",
    "df_FB_F = pd.concat(li_df)\n",
    "print(df_FB_F.shape)\n",
    "df_FB_F.head(3)"
   ]
  },
  {
   "cell_type": "code",
   "execution_count": null,
   "metadata": {},
   "outputs": [],
   "source": [
    "plt.hist(df_FB_F['weight_norm']);"
   ]
  },
  {
   "cell_type": "code",
   "execution_count": null,
   "metadata": {},
   "outputs": [],
   "source": [
    "df_FB_F = df_FB_F[~df_FB_F['weight'].isnull()]\n",
    "print(df_FB_F.shape)\n",
    "df_FB_F.to_csv(os.path.join(path_extracted_data, 'OFH_df_FOCALBIRDS.csv'), index=False, sep=',')"
   ]
  },
  {
   "cell_type": "code",
   "execution_count": null,
   "metadata": {},
   "outputs": [],
   "source": []
  },
  {
   "cell_type": "code",
   "execution_count": null,
   "metadata": {},
   "outputs": [],
   "source": []
  },
  {
   "cell_type": "code",
   "execution_count": null,
   "metadata": {},
   "outputs": [],
   "source": []
  },
  {
   "cell_type": "markdown",
   "metadata": {},
   "source": [
    "# reopen small check"
   ]
  },
  {
   "cell_type": "code",
   "execution_count": null,
   "metadata": {},
   "outputs": [],
   "source": [
    "from scipy.stats import pearsonr, spearmanr"
   ]
  },
  {
   "cell_type": "code",
   "execution_count": null,
   "metadata": {},
   "outputs": [],
   "source": [
    "df = pd.read_csv(os.path.join(path_extracted_data, name+'_df_all_mvt.csv'), sep=',')\n",
    "print(df.shape)\n",
    "display(df.head(3))"
   ]
  },
  {
   "cell_type": "code",
   "execution_count": null,
   "metadata": {},
   "outputs": [],
   "source": [
    "df__ = df[~df['temperature_C_avg'].isnull()]\n",
    "for month_,df_ in df__.groupby('monthILB'):\n",
    "    print(month_)\n",
    "    print(spearmanr(df_['DIB'].tolist(), df_['temperature_C_avg'].tolist()))\n",
    "    print(pearsonr(df_['DIB'].tolist(), df_['temperature_C_avg'].tolist()))"
   ]
  },
  {
   "cell_type": "code",
   "execution_count": null,
   "metadata": {},
   "outputs": [],
   "source": [
    "plt.figure(figsize=(8,5))\n",
    "df_ = df[df['monthILB']=='month5']\n",
    "li_hen = df_['HenID'].unique()\n",
    "sns.lineplot(x='DIB',y='propindoor_duration_2_Zone_rs',hue='HenID', data=df_[df_['HenID'].isin(li_hen[0:10])], legend=False);"
   ]
  },
  {
   "cell_type": "code",
   "execution_count": null,
   "metadata": {},
   "outputs": [],
   "source": [
    "plt.figure(figsize=(8,5))\n",
    "df_ = df[df['monthILB']=='month5']\n",
    "li_hen = df_['HenID'].unique()\n",
    "sns.lineplot(x='DIB',y='propindoor_duration_2_Zone_rs',hue='HenID', data=df_[df_['HenID'].isin(li_hen[10:20])], legend=False);"
   ]
  },
  {
   "cell_type": "code",
   "execution_count": null,
   "metadata": {},
   "outputs": [],
   "source": [
    "df['DIB'] = df['']"
   ]
  },
  {
   "cell_type": "code",
   "execution_count": null,
   "metadata": {},
   "outputs": [],
   "source": []
  },
  {
   "cell_type": "code",
   "execution_count": null,
   "metadata": {},
   "outputs": [],
   "source": []
  },
  {
   "cell_type": "code",
   "execution_count": null,
   "metadata": {},
   "outputs": [],
   "source": []
  }
 ],
 "metadata": {
  "kernelspec": {
   "display_name": "Python 3 (ipykernel)",
   "language": "python",
   "name": "python3"
  },
  "language_info": {
   "codemirror_mode": {
    "name": "ipython",
    "version": 3
   },
   "file_extension": ".py",
   "mimetype": "text/x-python",
   "name": "python",
   "nbconvert_exporter": "python",
   "pygments_lexer": "ipython3",
   "version": "3.8.12"
  }
 },
 "nbformat": 4,
 "nbformat_minor": 2
}
