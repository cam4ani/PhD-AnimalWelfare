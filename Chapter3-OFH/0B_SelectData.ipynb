{
 "cells": [
  {
   "cell_type": "code",
   "execution_count": 1,
   "metadata": {},
   "outputs": [
    {
     "name": "stderr",
     "output_type": "stream",
     "text": [
      "C:\\Users\\camil\\anaconda3\\lib\\site-packages\\numpy\\_distributor_init.py:30: UserWarning: loaded more than 1 DLL from .libs:\n",
      "C:\\Users\\camil\\anaconda3\\lib\\site-packages\\numpy\\.libs\\libopenblas.FB5AE2TYXYH2IJRDKGDGQ3XBKLKTF43H.gfortran-win_amd64.dll\n",
      "C:\\Users\\camil\\anaconda3\\lib\\site-packages\\numpy\\.libs\\libopenblas.WCDJNK7YVMPZQ2ME2ZZHJJRJ3JIKNDB7.gfortran-win_amd64.dll\n",
      "  warnings.warn(\"loaded more than 1 DLL from .libs:\"\n"
     ]
    }
   ],
   "source": [
    "#basic package\n",
    "import os\n",
    "import numpy as np\n",
    "import pandas as pd\n",
    "import sys\n",
    "import time\n",
    "import datetime as dt\n",
    "import itertools\n",
    "import math\n",
    "import pickle #save and load dictionaries/lists\n",
    "import random\n",
    "import tqdm\n",
    "\n",
    "#plot\n",
    "import matplotlib.pyplot as plt\n",
    "import seaborn as sns"
   ]
  },
  {
   "cell_type": "code",
   "execution_count": 2,
   "metadata": {},
   "outputs": [
    {
     "name": "stderr",
     "output_type": "stream",
     "text": [
      "C:\\Users\\camil\\anaconda3\\lib\\site-packages\\statsmodels\\compat\\pandas.py:61: FutureWarning: pandas.Int64Index is deprecated and will be removed from pandas in a future version. Use pandas.Index with the appropriate dtype instead.\n",
      "  from pandas import Int64Index as NumericIndex\n",
      "C:\\Users\\camil\\anaconda3\\lib\\site-packages\\gensim\\matutils.py:24: DeprecationWarning: Please use `triu` from the `scipy.linalg` namespace, the `scipy.linalg.special_matrices` namespace is deprecated.\n",
      "  from scipy.linalg.special_matrices import triu\n",
      "C:\\Users\\camil\\anaconda3\\lib\\site-packages\\xgboost\\compat.py:31: FutureWarning: pandas.Int64Index is deprecated and will be removed from pandas in a future version. Use pandas.Index with the appropriate dtype instead.\n",
      "  from pandas import MultiIndex, Int64Index\n"
     ]
    },
    {
     "name": "stdout",
     "output_type": "stream",
     "text": [
      "2\n"
     ]
    }
   ],
   "source": [
    "PACKAGE_PARENT = '../'\n",
    "SCRIPT_DIR = os.path.dirname(os.path.realpath(os.path.join(os.getcwd(), os.path.expanduser('__file__'))))\n",
    "sys.path.append(os.path.normpath(os.path.join(SCRIPT_DIR, PACKAGE_PARENT)))\n",
    "from UTILS import nbrh_WG_open, mid_cum_Z4_sec, starting_h_day\n",
    "import config_origins as config"
   ]
  },
  {
   "cell_type": "code",
   "execution_count": 3,
   "metadata": {},
   "outputs": [],
   "source": [
    "name = 'OFH'"
   ]
  },
  {
   "cell_type": "markdown",
   "metadata": {},
   "source": [
    "# Define parameters"
   ]
  },
  {
   "cell_type": "code",
   "execution_count": 4,
   "metadata": {
    "scrolled": true
   },
   "outputs": [
    {
     "name": "stdout",
     "output_type": "stream",
     "text": [
      "change the configuration file if not done yet!\n"
     ]
    }
   ],
   "source": [
    "print('change the configuration file if not done yet!')\n",
    "path_extracted_data = config.path_extracted_data\n",
    "id_run = config.id_run\n",
    "max_date_adaptability = config.max_date_adaptability\n",
    "pal_tr = config.pal_treat"
   ]
  },
  {
   "cell_type": "markdown",
   "metadata": {},
   "source": [
    "# Download data"
   ]
  },
  {
   "cell_type": "code",
   "execution_count": 5,
   "metadata": {},
   "outputs": [
    {
     "data": {
      "text/plain": [
       "REXP    22507\n",
       "MEXP     9067\n",
       "LEXP     7358\n",
       "Name: CLASS, dtype: int64"
      ]
     },
     "metadata": {},
     "output_type": "display_data"
    },
    {
     "data": {
      "text/plain": [
       "HenID                                                0\n",
       "CLASS                                                0\n",
       "InitialStartDate                                     0\n",
       "early_death                                          0\n",
       "Treatment                                            0\n",
       "                                                 ...  \n",
       "mid_cum_Z4_sec_Morning                            5837\n",
       "vertical_travel_distance_fulllight_perinsideh     6454\n",
       "R-Pen                                            10923\n",
       "FirstTimestamp_1_Zone                            14307\n",
       "FirstTimestamp_1_Zone_sec                        14307\n",
       "Length: 89, dtype: int64"
      ]
     },
     "metadata": {},
     "output_type": "display_data"
    },
    {
     "name": "stdout",
     "output_type": "stream",
     "text": [
      "(38932, 89)\n"
     ]
    },
    {
     "data": {
      "text/html": [
       "<div>\n",
       "<style scoped>\n",
       "    .dataframe tbody tr th:only-of-type {\n",
       "        vertical-align: middle;\n",
       "    }\n",
       "\n",
       "    .dataframe tbody tr th {\n",
       "        vertical-align: top;\n",
       "    }\n",
       "\n",
       "    .dataframe thead th {\n",
       "        text-align: right;\n",
       "    }\n",
       "</style>\n",
       "<table border=\"1\" class=\"dataframe\">\n",
       "  <thead>\n",
       "    <tr style=\"text-align: right;\">\n",
       "      <th></th>\n",
       "      <th>HenID</th>\n",
       "      <th>level</th>\n",
       "      <th>verification_daily_total_duration</th>\n",
       "      <th>verification_daily_total_nbr_hour</th>\n",
       "      <th>dur_values</th>\n",
       "      <th>perc_duration_3_Zone</th>\n",
       "      <th>perc_duration_4_Zone</th>\n",
       "      <th>perc_duration_5_Zone</th>\n",
       "      <th>perc_duration_2_Zone</th>\n",
       "      <th>perc_duration_1_Zone</th>\n",
       "      <th>...</th>\n",
       "      <th>duration_4_Zone_min</th>\n",
       "      <th>duration_5_Zone_min</th>\n",
       "      <th>Has_been_toptier_wholeday</th>\n",
       "      <th>level_</th>\n",
       "      <th>vertical_travel_distance_perinsideh</th>\n",
       "      <th>day_lighth</th>\n",
       "      <th>mid_durationafterlightturnedon_Z4_h_Morning</th>\n",
       "      <th>previous_mid_cum_Z4_h_Morning</th>\n",
       "      <th>Intervaltime_midcumZ4hmorning_h</th>\n",
       "      <th>is_vacc</th>\n",
       "    </tr>\n",
       "  </thead>\n",
       "  <tbody>\n",
       "    <tr>\n",
       "      <th>0</th>\n",
       "      <td>hen_130</td>\n",
       "      <td>2020-10-05</td>\n",
       "      <td>32400.0</td>\n",
       "      <td>9.0</td>\n",
       "      <td>[0.0, 0.0, 0.0, 0.0, 32400.0]</td>\n",
       "      <td>0.0</td>\n",
       "      <td>0.0</td>\n",
       "      <td>100.0</td>\n",
       "      <td>0.0</td>\n",
       "      <td>NaN</td>\n",
       "      <td>...</td>\n",
       "      <td>0.000000</td>\n",
       "      <td>540.000000</td>\n",
       "      <td>True</td>\n",
       "      <td>2020-10-05</td>\n",
       "      <td>0.000000</td>\n",
       "      <td>9</td>\n",
       "      <td>NaN</td>\n",
       "      <td>NaN</td>\n",
       "      <td>NaN</td>\n",
       "      <td>False</td>\n",
       "    </tr>\n",
       "    <tr>\n",
       "      <th>1</th>\n",
       "      <td>hen_130</td>\n",
       "      <td>2020-10-06</td>\n",
       "      <td>32400.0</td>\n",
       "      <td>9.0</td>\n",
       "      <td>[0.0, 0.0, 780.0, 325.0, 31295.0]</td>\n",
       "      <td>2.0</td>\n",
       "      <td>1.0</td>\n",
       "      <td>97.0</td>\n",
       "      <td>0.0</td>\n",
       "      <td>NaN</td>\n",
       "      <td>...</td>\n",
       "      <td>5.416667</td>\n",
       "      <td>521.583333</td>\n",
       "      <td>False</td>\n",
       "      <td>2020-10-06</td>\n",
       "      <td>0.444444</td>\n",
       "      <td>9</td>\n",
       "      <td>NaN</td>\n",
       "      <td>NaN</td>\n",
       "      <td>NaN</td>\n",
       "      <td>False</td>\n",
       "    </tr>\n",
       "    <tr>\n",
       "      <th>2</th>\n",
       "      <td>hen_130</td>\n",
       "      <td>2020-10-07</td>\n",
       "      <td>32400.0</td>\n",
       "      <td>9.0</td>\n",
       "      <td>[0.0, 206.0, 249.0, 130.0, 31815.0]</td>\n",
       "      <td>1.0</td>\n",
       "      <td>0.0</td>\n",
       "      <td>98.0</td>\n",
       "      <td>1.0</td>\n",
       "      <td>NaN</td>\n",
       "      <td>...</td>\n",
       "      <td>2.166667</td>\n",
       "      <td>530.250000</td>\n",
       "      <td>False</td>\n",
       "      <td>2020-10-07</td>\n",
       "      <td>0.444444</td>\n",
       "      <td>9</td>\n",
       "      <td>NaN</td>\n",
       "      <td>NaN</td>\n",
       "      <td>NaN</td>\n",
       "      <td>False</td>\n",
       "    </tr>\n",
       "  </tbody>\n",
       "</table>\n",
       "<p>3 rows × 89 columns</p>\n",
       "</div>"
      ],
      "text/plain": [
       "     HenID      level  verification_daily_total_duration  \\\n",
       "0  hen_130 2020-10-05                            32400.0   \n",
       "1  hen_130 2020-10-06                            32400.0   \n",
       "2  hen_130 2020-10-07                            32400.0   \n",
       "\n",
       "   verification_daily_total_nbr_hour                           dur_values  \\\n",
       "0                                9.0        [0.0, 0.0, 0.0, 0.0, 32400.0]   \n",
       "1                                9.0    [0.0, 0.0, 780.0, 325.0, 31295.0]   \n",
       "2                                9.0  [0.0, 206.0, 249.0, 130.0, 31815.0]   \n",
       "\n",
       "   perc_duration_3_Zone  perc_duration_4_Zone  perc_duration_5_Zone  \\\n",
       "0                   0.0                   0.0                 100.0   \n",
       "1                   2.0                   1.0                  97.0   \n",
       "2                   1.0                   0.0                  98.0   \n",
       "\n",
       "   perc_duration_2_Zone  perc_duration_1_Zone  ...  duration_4_Zone_min  \\\n",
       "0                   0.0                   NaN  ...             0.000000   \n",
       "1                   0.0                   NaN  ...             5.416667   \n",
       "2                   1.0                   NaN  ...             2.166667   \n",
       "\n",
       "   duration_5_Zone_min  Has_been_toptier_wholeday      level_  \\\n",
       "0           540.000000                       True  2020-10-05   \n",
       "1           521.583333                      False  2020-10-06   \n",
       "2           530.250000                      False  2020-10-07   \n",
       "\n",
       "  vertical_travel_distance_perinsideh day_lighth  \\\n",
       "0                            0.000000          9   \n",
       "1                            0.444444          9   \n",
       "2                            0.444444          9   \n",
       "\n",
       "  mid_durationafterlightturnedon_Z4_h_Morning previous_mid_cum_Z4_h_Morning  \\\n",
       "0                                         NaN                           NaN   \n",
       "1                                         NaN                           NaN   \n",
       "2                                         NaN                           NaN   \n",
       "\n",
       "   Intervaltime_midcumZ4hmorning_h  is_vacc  \n",
       "0                              NaN    False  \n",
       "1                              NaN    False  \n",
       "2                              NaN    False  \n",
       "\n",
       "[3 rows x 89 columns]"
      ]
     },
     "metadata": {},
     "output_type": "display_data"
    },
    {
     "name": "stdout",
     "output_type": "stream",
     "text": [
      "17 60\n",
      "you lost 471 observations by removing days with vaccinations\n",
      "Index(['HenID', 'level', 'verification_daily_total_duration',\n",
      "       'verification_daily_total_nbr_hour', 'dur_values',\n",
      "       'perc_duration_3_Zone', 'perc_duration_4_Zone', 'perc_duration_5_Zone',\n",
      "       'perc_duration_2_Zone', 'perc_duration_1_Zone', 'time_wg_open_sec',\n",
      "       'duration_sincedaystarted_beforeWGopened_sec',\n",
      "       'perc_1_Zone_while_WG_open', 'FirstTimestamp_1_Zone',\n",
      "       'FirstTimestamp_2_Zone', 'FirstTimestamp_3_Zone',\n",
      "       'FirstTimestamp_4_Zone', 'FirstTimestamp_5_Zone', 'nbr_h_WGopen',\n",
      "       'FirstTimestamp_1_Zone_sec', 'latency_1_Zone_h', 'Total_number_zone',\n",
      "       'list_of_durations', 'nestboxes_related_behavior', 'mid_cum_Z4_sec',\n",
      "       'Total_number_transition', 'nbr_stays', 'distribution_entropy',\n",
      "       'vertical_travel_distance', 'vertical_travel_distance_dawn',\n",
      "       'vertical_travel_distance_dusk', 'nbr_stays_total', 'nbr_stays_3_Zone',\n",
      "       'nbr_stays_4_Zone', 'nbr_stays_5_Zone', 'nbr_stays_2_Zone',\n",
      "       'nbr_stays_1_Zone', 'PenID', 'CLASS', 'R-Pen', 'InitialStartDate',\n",
      "       'early_death', 'Treatment', 'TagID', 'FocalLegringName', 'night_level',\n",
      "       'night_Max_duration_zones', 'night_duration_Z5',\n",
      "       'night_Total_number_transition', 'is_mvt_night', 'nbr_h_per_day',\n",
      "       'correct_amount_of_hour', 'DOA', 'WOA', 'DIB', 'WIB',\n",
      "       'TrackingSystemID', 'SleepingHeight', 'Sleeping_NotUppest',\n",
      "       'Sleeping_Uppest', 'WentinWG', 'vertical_travel_distance_fulllight',\n",
      "       'vertical_travel_distance_fulllight_perinsideh',\n",
      "       'mid_cum_Z4_sec_Morning', 'mid_cum_Z4_h_Morning', 'weekday',\n",
      "       'HenID_WIB', 'food_related_behavior_final',\n",
      "       'food_related_behavior_rp_final', 'food_related_behavior_rm_final',\n",
      "       'KBF_interp', 'FeatherDamage_interp', 'weight_interp',\n",
      "       'food_sameDurTiming_r50_final', 'food_sameDurTiming_r50_AP_final',\n",
      "       'food_sameDurTiming_r50_AB_final', 'duration_1_Zone_min',\n",
      "       'duration_2_Zone_min', 'duration_3_Zone_min', 'duration_4_Zone_min',\n",
      "       'duration_5_Zone_min', 'Has_been_toptier_wholeday', 'level_',\n",
      "       'vertical_travel_distance_perinsideh', 'day_lighth',\n",
      "       'mid_durationafterlightturnedon_Z4_h_Morning',\n",
      "       'previous_mid_cum_Z4_h_Morning', 'Intervaltime_midcumZ4hmorning_h',\n",
      "       'is_vacc'],\n",
      "      dtype='object')\n"
     ]
    }
   ],
   "source": [
    "### daily variables of the movements (one row per available hen per day)\n",
    "df_daily = pd.read_csv(os.path.join(path_extracted_data, id_run+'_daily_ALL_variables_verified_OFH.csv'), sep=';',\n",
    "                     parse_dates=['level'], dayfirst=True)\n",
    "#display(df_daily[df_daily.isna().any(axis=1)])\n",
    "\n",
    "#make sure we have their mvt\n",
    "df_daily = df_daily[~df_daily['perc_duration_5_Zone'].isnull()]\n",
    "display(df_daily['CLASS'].value_counts())\n",
    "#show columns with max amount of nan\n",
    "display(df_daily.isna().sum(axis=0).sort_values())\n",
    "print(df_daily.shape)\n",
    "display(df_daily.head(3))\n",
    "\n",
    "#look at the timeframe\n",
    "print(min(df_daily['WOA'].tolist()), max(df_daily['WOA'].tolist()))\n",
    "df_doa = df_daily[['level','DIB','WIB','DOA','WOA']].drop_duplicates()\n",
    "df_doa.sort_values(['level']).head(10)\n",
    "\n",
    "#remove vaccinations days\n",
    "x0 = df_daily.shape[0]\n",
    "df_daily = df_daily[df_daily['is_vacc']==False]\n",
    "print('you lost %s observations by removing days with vaccinations'%(x0-df_daily.shape[0]))\n",
    "\n",
    "#check that its nan for the first 16 days in the barn\n",
    "if df_daily[(df_daily['level']<=dt.datetime(2020,10,15))&(~df_daily['mid_cum_Z4_h_Morning'].isnull())].shape[0]!=0:\n",
    "    print('ERROR: you should have only nan in the mid-nestbox tier behaviour before the 15th of october 2020, due to the \\\n",
    "    artificial light beeing turned on no earlier tha 8am')\n",
    "    sys.exit()\n",
    "\n",
    "df_daily.loc[df_daily['nbr_stays_1_Zone'].isnull(),'WentinWG'] = np.nan\n",
    "print(df_daily.columns)"
   ]
  },
  {
   "cell_type": "code",
   "execution_count": 7,
   "metadata": {},
   "outputs": [
    {
     "name": "stdout",
     "output_type": "stream",
     "text": [
      "(38461, 23)\n"
     ]
    },
    {
     "data": {
      "text/html": [
       "<div>\n",
       "<style scoped>\n",
       "    .dataframe tbody tr th:only-of-type {\n",
       "        vertical-align: middle;\n",
       "    }\n",
       "\n",
       "    .dataframe tbody tr th {\n",
       "        vertical-align: top;\n",
       "    }\n",
       "\n",
       "    .dataframe thead th {\n",
       "        text-align: right;\n",
       "    }\n",
       "</style>\n",
       "<table border=\"1\" class=\"dataframe\">\n",
       "  <thead>\n",
       "    <tr style=\"text-align: right;\">\n",
       "      <th></th>\n",
       "      <th>HenID</th>\n",
       "      <th>PenID</th>\n",
       "      <th>level</th>\n",
       "      <th>Treatment</th>\n",
       "      <th>CLASS</th>\n",
       "      <th>DOA</th>\n",
       "      <th>WOA</th>\n",
       "      <th>DIB</th>\n",
       "      <th>WIB</th>\n",
       "      <th>weight_interp</th>\n",
       "      <th>...</th>\n",
       "      <th>is_vacc</th>\n",
       "      <th>WentinWG</th>\n",
       "      <th>vertical_travel_distance</th>\n",
       "      <th>mid_cum_Z4_h_Morning</th>\n",
       "      <th>nbr_h_WGopen</th>\n",
       "      <th>perc_duration_1_Zone</th>\n",
       "      <th>perc_duration_4_Zone</th>\n",
       "      <th>perc_duration_5_Zone</th>\n",
       "      <th>perc_duration_2_Zone</th>\n",
       "      <th>nbr_h_per_day</th>\n",
       "    </tr>\n",
       "  </thead>\n",
       "  <tbody>\n",
       "    <tr>\n",
       "      <th>38929</th>\n",
       "      <td>hen_98</td>\n",
       "      <td>pen9</td>\n",
       "      <td>2021-07-22</td>\n",
       "      <td>OFH</td>\n",
       "      <td>MEXP</td>\n",
       "      <td>414</td>\n",
       "      <td>60</td>\n",
       "      <td>296</td>\n",
       "      <td>43</td>\n",
       "      <td>1755.238462</td>\n",
       "      <td>...</td>\n",
       "      <td>False</td>\n",
       "      <td>1.0</td>\n",
       "      <td>75.0</td>\n",
       "      <td>5.726944</td>\n",
       "      <td>8.333333</td>\n",
       "      <td>15.0</td>\n",
       "      <td>8.0</td>\n",
       "      <td>22.0</td>\n",
       "      <td>45.0</td>\n",
       "      <td>15</td>\n",
       "    </tr>\n",
       "    <tr>\n",
       "      <th>38930</th>\n",
       "      <td>hen_98</td>\n",
       "      <td>pen9</td>\n",
       "      <td>2021-07-23</td>\n",
       "      <td>OFH</td>\n",
       "      <td>MEXP</td>\n",
       "      <td>415</td>\n",
       "      <td>60</td>\n",
       "      <td>297</td>\n",
       "      <td>43</td>\n",
       "      <td>1755.392308</td>\n",
       "      <td>...</td>\n",
       "      <td>False</td>\n",
       "      <td>1.0</td>\n",
       "      <td>76.0</td>\n",
       "      <td>5.677778</td>\n",
       "      <td>8.333333</td>\n",
       "      <td>18.0</td>\n",
       "      <td>10.0</td>\n",
       "      <td>17.0</td>\n",
       "      <td>42.0</td>\n",
       "      <td>15</td>\n",
       "    </tr>\n",
       "    <tr>\n",
       "      <th>38931</th>\n",
       "      <td>hen_98</td>\n",
       "      <td>pen9</td>\n",
       "      <td>2021-07-24</td>\n",
       "      <td>OFH</td>\n",
       "      <td>MEXP</td>\n",
       "      <td>416</td>\n",
       "      <td>60</td>\n",
       "      <td>298</td>\n",
       "      <td>43</td>\n",
       "      <td>1755.546154</td>\n",
       "      <td>...</td>\n",
       "      <td>False</td>\n",
       "      <td>1.0</td>\n",
       "      <td>70.0</td>\n",
       "      <td>6.150278</td>\n",
       "      <td>8.333333</td>\n",
       "      <td>17.0</td>\n",
       "      <td>8.0</td>\n",
       "      <td>18.0</td>\n",
       "      <td>46.0</td>\n",
       "      <td>15</td>\n",
       "    </tr>\n",
       "  </tbody>\n",
       "</table>\n",
       "<p>3 rows × 23 columns</p>\n",
       "</div>"
      ],
      "text/plain": [
       "        HenID PenID      level Treatment CLASS  DOA  WOA  DIB  WIB  \\\n",
       "38929  hen_98  pen9 2021-07-22       OFH  MEXP  414   60  296   43   \n",
       "38930  hen_98  pen9 2021-07-23       OFH  MEXP  415   60  297   43   \n",
       "38931  hen_98  pen9 2021-07-24       OFH  MEXP  416   60  298   43   \n",
       "\n",
       "       weight_interp  ...  is_vacc  WentinWG vertical_travel_distance  \\\n",
       "38929    1755.238462  ...    False       1.0                     75.0   \n",
       "38930    1755.392308  ...    False       1.0                     76.0   \n",
       "38931    1755.546154  ...    False       1.0                     70.0   \n",
       "\n",
       "       mid_cum_Z4_h_Morning  nbr_h_WGopen  perc_duration_1_Zone  \\\n",
       "38929              5.726944      8.333333                  15.0   \n",
       "38930              5.677778      8.333333                  18.0   \n",
       "38931              6.150278      8.333333                  17.0   \n",
       "\n",
       "       perc_duration_4_Zone  perc_duration_5_Zone  perc_duration_2_Zone  \\\n",
       "38929                   8.0                  22.0                  45.0   \n",
       "38930                  10.0                  17.0                  42.0   \n",
       "38931                   8.0                  18.0                  46.0   \n",
       "\n",
       "       nbr_h_per_day  \n",
       "38929             15  \n",
       "38930             15  \n",
       "38931             15  \n",
       "\n",
       "[3 rows x 23 columns]"
      ]
     },
     "execution_count": 7,
     "metadata": {},
     "output_type": "execute_result"
    }
   ],
   "source": [
    "#select & keep only variables we are interested in\n",
    "li = ['HenID','PenID','level','Treatment', 'CLASS', 'DOA','WOA', 'DIB','WIB','weight_interp','FeatherDamage_interp','KBF_interp','weekday','is_vacc']\n",
    "li_mvt = ['WentinWG','vertical_travel_distance','mid_cum_Z4_h_Morning','nbr_h_WGopen','perc_duration_1_Zone',\n",
    "         'perc_duration_4_Zone', 'perc_duration_5_Zone','perc_duration_2_Zone','nbr_h_per_day']\n",
    "#if matts prefer: mid_durationafterlightturnedon_Z4_h_Morning, I dont\n",
    "df_daily = df_daily[li+li_mvt].copy()\n",
    "print(df_daily.shape)\n",
    "df_daily.tail(3)"
   ]
  },
  {
   "cell_type": "code",
   "execution_count": 8,
   "metadata": {},
   "outputs": [
    {
     "data": {
      "image/png": "[encoded data removed]",
      "text/plain": [
       "<Figure size 432x288 with 1 Axes>"
      ]
     },
     "metadata": {
      "needs_background": "light"
     },
     "output_type": "display_data"
    }
   ],
   "source": [
    "plt.hist(df_daily['vertical_travel_distance']);"
   ]
  },
  {
   "cell_type": "code",
   "execution_count": 9,
   "metadata": {},
   "outputs": [],
   "source": [
    "#plt.hist(df_daily['Intervaltime_midcumZ4hmorning_h'], bins=30);\n",
    "#plt.scatter(x='DIB', y='Intervaltime_midcumZ4hmorning_h', data=df_daily, alpha=0.1);"
   ]
  },
  {
   "cell_type": "markdown",
   "metadata": {},
   "source": [
    "# Add external temperature"
   ]
  },
  {
   "cell_type": "code",
   "execution_count": 10,
   "metadata": {},
   "outputs": [
    {
     "name": "stdout",
     "output_type": "stream",
     "text": [
      "(7293, 13)\n"
     ]
    },
    {
     "data": {
      "text/html": [
       "<div>\n",
       "<style scoped>\n",
       "    .dataframe tbody tr th:only-of-type {\n",
       "        vertical-align: middle;\n",
       "    }\n",
       "\n",
       "    .dataframe tbody tr th {\n",
       "        vertical-align: top;\n",
       "    }\n",
       "\n",
       "    .dataframe thead th {\n",
       "        text-align: right;\n",
       "    }\n",
       "</style>\n",
       "<table border=\"1\" class=\"dataframe\">\n",
       "  <thead>\n",
       "    <tr style=\"text-align: right;\">\n",
       "      <th></th>\n",
       "      <th>Timestamp</th>\n",
       "      <th>temperature</th>\n",
       "      <th>humidity</th>\n",
       "      <th>wind speed</th>\n",
       "      <th>Precipitation amount</th>\n",
       "      <th>query</th>\n",
       "      <th>Moon Phase calculator</th>\n",
       "      <th>hour</th>\n",
       "      <th>temperature_C</th>\n",
       "      <th>wind_speed_mpers</th>\n",
       "      <th>humidity_avgpercent</th>\n",
       "      <th>rain</th>\n",
       "      <th>Timestamp_weather</th>\n",
       "    </tr>\n",
       "  </thead>\n",
       "  <tbody>\n",
       "    <tr>\n",
       "      <th>0</th>\n",
       "      <td>2020-09-29 00:00:00</td>\n",
       "      <td>10 °C\\n(12:00 am CEST | Tuesday, September 29,...</td>\n",
       "      <td>average: 100% (100%)\\n(12:00 am CEST | Tuesday...</td>\n",
       "      <td>2 m/s\\n(12:00 am CEST | Tuesday, September 29,...</td>\n",
       "      <td>rain\\n(12:00 am CEST | Tuesday, September 29, ...</td>\n",
       "      <td>Moon Phase calculatorSeptember 29, 2020 0h</td>\n",
       "      <td>| waxing gibbous moon\\n91.87% illuminated</td>\n",
       "      <td>0</td>\n",
       "      <td>10</td>\n",
       "      <td>2</td>\n",
       "      <td>100</td>\n",
       "      <td>rain</td>\n",
       "      <td>2020-09-29 00:00:00</td>\n",
       "    </tr>\n",
       "    <tr>\n",
       "      <th>1</th>\n",
       "      <td>2020-09-29 01:00:00</td>\n",
       "      <td>10 °C\\n(1:00 am CEST | Tuesday, September 29, ...</td>\n",
       "      <td>average: 100% (100%)\\n(1:00 am CEST | Tuesday,...</td>\n",
       "      <td>3 m/s\\n(1:00 am CEST | Tuesday, September 29, ...</td>\n",
       "      <td>rain\\n(1:00 am CEST | Tuesday, September 29, 2...</td>\n",
       "      <td>Moon Phase calculatorSeptember 29, 2020 1h</td>\n",
       "      <td>| waxing gibbous moon\\n92.09% illuminated</td>\n",
       "      <td>1</td>\n",
       "      <td>10</td>\n",
       "      <td>3</td>\n",
       "      <td>100</td>\n",
       "      <td>rain</td>\n",
       "      <td>2020-09-29 01:00:00</td>\n",
       "    </tr>\n",
       "  </tbody>\n",
       "</table>\n",
       "</div>"
      ],
      "text/plain": [
       "            Timestamp                                        temperature  \\\n",
       "0 2020-09-29 00:00:00  10 °C\\n(12:00 am CEST | Tuesday, September 29,...   \n",
       "1 2020-09-29 01:00:00  10 °C\\n(1:00 am CEST | Tuesday, September 29, ...   \n",
       "\n",
       "                                            humidity  \\\n",
       "0  average: 100% (100%)\\n(12:00 am CEST | Tuesday...   \n",
       "1  average: 100% (100%)\\n(1:00 am CEST | Tuesday,...   \n",
       "\n",
       "                                          wind speed  \\\n",
       "0  2 m/s\\n(12:00 am CEST | Tuesday, September 29,...   \n",
       "1  3 m/s\\n(1:00 am CEST | Tuesday, September 29, ...   \n",
       "\n",
       "                                Precipitation amount  \\\n",
       "0  rain\\n(12:00 am CEST | Tuesday, September 29, ...   \n",
       "1  rain\\n(1:00 am CEST | Tuesday, September 29, 2...   \n",
       "\n",
       "                                        query  \\\n",
       "0  Moon Phase calculatorSeptember 29, 2020 0h   \n",
       "1  Moon Phase calculatorSeptember 29, 2020 1h   \n",
       "\n",
       "                       Moon Phase calculator  hour  temperature_C  \\\n",
       "0  | waxing gibbous moon\\n91.87% illuminated     0             10   \n",
       "1  | waxing gibbous moon\\n92.09% illuminated     1             10   \n",
       "\n",
       "   wind_speed_mpers  humidity_avgpercent  rain   Timestamp_weather  \n",
       "0                 2                  100  rain 2020-09-29 00:00:00  \n",
       "1                 3                  100  rain 2020-09-29 01:00:00  "
      ]
     },
     "metadata": {},
     "output_type": "display_data"
    }
   ],
   "source": [
    "#add weather conditions\n",
    "path_weather = os.path.join(r'C:\\Users\\camil\\Desktop\\vm_exchange\\PhD_Data\\Weather_exp1','Weather_process.csv')\n",
    "df_weather_h = pd.read_csv(path_weather, sep=';', parse_dates=['date','Timestamp'])\n",
    "df_weather_h = df_weather_h.sort_values('Timestamp') \n",
    "df_weather_h = df_weather_h.drop(['date'], axis=1)\n",
    "df_weather_h['Timestamp_weather'] = df_weather_h['Timestamp'].copy()\n",
    "print(df_weather_h.shape)\n",
    "display(df_weather_h.head(2))"
   ]
  },
  {
   "cell_type": "code",
   "execution_count": 11,
   "metadata": {},
   "outputs": [
    {
     "data": {
      "text/html": [
       "<div>\n",
       "<style scoped>\n",
       "    .dataframe tbody tr th:only-of-type {\n",
       "        vertical-align: middle;\n",
       "    }\n",
       "\n",
       "    .dataframe tbody tr th {\n",
       "        vertical-align: top;\n",
       "    }\n",
       "\n",
       "    .dataframe thead th {\n",
       "        text-align: right;\n",
       "    }\n",
       "</style>\n",
       "<table border=\"1\" class=\"dataframe\">\n",
       "  <thead>\n",
       "    <tr style=\"text-align: right;\">\n",
       "      <th></th>\n",
       "      <th>date</th>\n",
       "      <th>temperature_C</th>\n",
       "      <th>temperature_C_avg</th>\n",
       "    </tr>\n",
       "  </thead>\n",
       "  <tbody>\n",
       "    <tr>\n",
       "      <th>0</th>\n",
       "      <td>2020-09-29</td>\n",
       "      <td>[11, 12, 12, 12, 12, 13]</td>\n",
       "      <td>12.0</td>\n",
       "    </tr>\n",
       "    <tr>\n",
       "      <th>1</th>\n",
       "      <td>2020-09-30</td>\n",
       "      <td>[10, 11, 13, 13, 14, 14]</td>\n",
       "      <td>12.5</td>\n",
       "    </tr>\n",
       "    <tr>\n",
       "      <th>2</th>\n",
       "      <td>2020-10-01</td>\n",
       "      <td>[13, 15, 15, 15, 15, 14]</td>\n",
       "      <td>14.5</td>\n",
       "    </tr>\n",
       "  </tbody>\n",
       "</table>\n",
       "</div>"
      ],
      "text/plain": [
       "         date             temperature_C  temperature_C_avg\n",
       "0  2020-09-29  [11, 12, 12, 12, 12, 13]               12.0\n",
       "1  2020-09-30  [10, 11, 13, 13, 14, 14]               12.5\n",
       "2  2020-10-01  [13, 15, 15, 15, 15, 14]               14.5"
      ]
     },
     "metadata": {},
     "output_type": "display_data"
    },
    {
     "name": "stdout",
     "output_type": "stream",
     "text": [
      "(38461, 23)\n",
      "(38461, 26)\n"
     ]
    },
    {
     "data": {
      "text/html": [
       "<div>\n",
       "<style scoped>\n",
       "    .dataframe tbody tr th:only-of-type {\n",
       "        vertical-align: middle;\n",
       "    }\n",
       "\n",
       "    .dataframe tbody tr th {\n",
       "        vertical-align: top;\n",
       "    }\n",
       "\n",
       "    .dataframe thead th {\n",
       "        text-align: right;\n",
       "    }\n",
       "</style>\n",
       "<table border=\"1\" class=\"dataframe\">\n",
       "  <thead>\n",
       "    <tr style=\"text-align: right;\">\n",
       "      <th></th>\n",
       "      <th>HenID</th>\n",
       "      <th>PenID</th>\n",
       "      <th>level</th>\n",
       "      <th>Treatment</th>\n",
       "      <th>CLASS</th>\n",
       "      <th>DOA</th>\n",
       "      <th>WOA</th>\n",
       "      <th>DIB</th>\n",
       "      <th>WIB</th>\n",
       "      <th>weight_interp</th>\n",
       "      <th>...</th>\n",
       "      <th>mid_cum_Z4_h_Morning</th>\n",
       "      <th>nbr_h_WGopen</th>\n",
       "      <th>perc_duration_1_Zone</th>\n",
       "      <th>perc_duration_4_Zone</th>\n",
       "      <th>perc_duration_5_Zone</th>\n",
       "      <th>perc_duration_2_Zone</th>\n",
       "      <th>nbr_h_per_day</th>\n",
       "      <th>date</th>\n",
       "      <th>temperature_C</th>\n",
       "      <th>temperature_C_avg</th>\n",
       "    </tr>\n",
       "  </thead>\n",
       "  <tbody>\n",
       "    <tr>\n",
       "      <th>0</th>\n",
       "      <td>hen_130</td>\n",
       "      <td>pen10</td>\n",
       "      <td>2020-10-05</td>\n",
       "      <td>TRAN</td>\n",
       "      <td>REXP</td>\n",
       "      <td>124</td>\n",
       "      <td>18</td>\n",
       "      <td>6</td>\n",
       "      <td>1</td>\n",
       "      <td>NaN</td>\n",
       "      <td>...</td>\n",
       "      <td>NaN</td>\n",
       "      <td>0.0</td>\n",
       "      <td>NaN</td>\n",
       "      <td>0.0</td>\n",
       "      <td>100.0</td>\n",
       "      <td>0.0</td>\n",
       "      <td>9</td>\n",
       "      <td>2020-10-05</td>\n",
       "      <td>[10, 11, 12, 12, 12, 12]</td>\n",
       "      <td>11.5</td>\n",
       "    </tr>\n",
       "    <tr>\n",
       "      <th>1</th>\n",
       "      <td>hen_130</td>\n",
       "      <td>pen10</td>\n",
       "      <td>2020-10-06</td>\n",
       "      <td>TRAN</td>\n",
       "      <td>REXP</td>\n",
       "      <td>125</td>\n",
       "      <td>18</td>\n",
       "      <td>7</td>\n",
       "      <td>1</td>\n",
       "      <td>NaN</td>\n",
       "      <td>...</td>\n",
       "      <td>NaN</td>\n",
       "      <td>0.0</td>\n",
       "      <td>NaN</td>\n",
       "      <td>1.0</td>\n",
       "      <td>97.0</td>\n",
       "      <td>0.0</td>\n",
       "      <td>9</td>\n",
       "      <td>2020-10-06</td>\n",
       "      <td>[11, 12, 14, 16, 13, 15]</td>\n",
       "      <td>13.5</td>\n",
       "    </tr>\n",
       "  </tbody>\n",
       "</table>\n",
       "<p>2 rows × 26 columns</p>\n",
       "</div>"
      ],
      "text/plain": [
       "     HenID  PenID      level Treatment CLASS  DOA  WOA  DIB  WIB  \\\n",
       "0  hen_130  pen10 2020-10-05      TRAN  REXP  124   18    6    1   \n",
       "1  hen_130  pen10 2020-10-06      TRAN  REXP  125   18    7    1   \n",
       "\n",
       "   weight_interp  ...  mid_cum_Z4_h_Morning  nbr_h_WGopen  \\\n",
       "0            NaN  ...                   NaN           0.0   \n",
       "1            NaN  ...                   NaN           0.0   \n",
       "\n",
       "  perc_duration_1_Zone  perc_duration_4_Zone  perc_duration_5_Zone  \\\n",
       "0                  NaN                   0.0                 100.0   \n",
       "1                  NaN                   1.0                  97.0   \n",
       "\n",
       "   perc_duration_2_Zone  nbr_h_per_day        date             temperature_C  \\\n",
       "0                   0.0              9  2020-10-05  [10, 11, 12, 12, 12, 12]   \n",
       "1                   0.0              9  2020-10-06  [11, 12, 14, 16, 13, 15]   \n",
       "\n",
       "   temperature_C_avg  \n",
       "0               11.5  \n",
       "1               13.5  \n",
       "\n",
       "[2 rows x 26 columns]"
      ]
     },
     "execution_count": 11,
     "metadata": {},
     "output_type": "execute_result"
    }
   ],
   "source": [
    "#add external temperature as environmental factor\n",
    "#check variation over the day... exist very much\n",
    "df_weather_h['date'] = df_weather_h['Timestamp'].map(lambda x: dt.datetime.date(x))\n",
    "df_wday = df_weather_h[df_weather_h['hour'].isin([11,12,13,14,15,16])].groupby(['date'])['temperature_C'].agg(lambda x: list(x)).reset_index()\n",
    "df_wday['temperature_C_avg'] = df_wday['temperature_C'].map(lambda x: np.mean(x))\n",
    "display(df_wday.head(3))\n",
    "\n",
    "print(df_daily.shape)\n",
    "df_daily['date'] = df_daily['level'].map(lambda x: dt.datetime.date(x))\n",
    "df_daily = pd.merge(df_daily, df_wday, on='date', how='left')\n",
    "print(df_daily.shape)\n",
    "df_daily.head(2)"
   ]
  },
  {
   "cell_type": "markdown",
   "metadata": {},
   "source": [
    "# Save dataframe to assess effects of treatment"
   ]
  },
  {
   "cell_type": "code",
   "execution_count": 12,
   "metadata": {},
   "outputs": [
    {
     "data": {
      "text/html": [
       "<div>\n",
       "<style scoped>\n",
       "    .dataframe tbody tr th:only-of-type {\n",
       "        vertical-align: middle;\n",
       "    }\n",
       "\n",
       "    .dataframe tbody tr th {\n",
       "        vertical-align: top;\n",
       "    }\n",
       "\n",
       "    .dataframe thead th {\n",
       "        text-align: right;\n",
       "    }\n",
       "</style>\n",
       "<table border=\"1\" class=\"dataframe\">\n",
       "  <thead>\n",
       "    <tr style=\"text-align: right;\">\n",
       "      <th></th>\n",
       "      <th>propindoor_duration_5_Zone</th>\n",
       "      <th>propindoor_duration_5_Zone_rs</th>\n",
       "      <th>propindoor_duration_4_Zone</th>\n",
       "      <th>propindoor_duration_4_Zone_rs</th>\n",
       "    </tr>\n",
       "  </thead>\n",
       "  <tbody>\n",
       "    <tr>\n",
       "      <th>38458</th>\n",
       "      <td>0.258824</td>\n",
       "      <td>0.263647</td>\n",
       "      <td>0.094118</td>\n",
       "      <td>0.102235</td>\n",
       "    </tr>\n",
       "    <tr>\n",
       "      <th>38459</th>\n",
       "      <td>0.207317</td>\n",
       "      <td>0.213171</td>\n",
       "      <td>0.121951</td>\n",
       "      <td>0.129512</td>\n",
       "    </tr>\n",
       "    <tr>\n",
       "      <th>38460</th>\n",
       "      <td>0.216867</td>\n",
       "      <td>0.222530</td>\n",
       "      <td>0.096386</td>\n",
       "      <td>0.104458</td>\n",
       "    </tr>\n",
       "  </tbody>\n",
       "</table>\n",
       "</div>"
      ],
      "text/plain": [
       "       propindoor_duration_5_Zone  propindoor_duration_5_Zone_rs  \\\n",
       "38458                    0.258824                       0.263647   \n",
       "38459                    0.207317                       0.213171   \n",
       "38460                    0.216867                       0.222530   \n",
       "\n",
       "       propindoor_duration_4_Zone  propindoor_duration_4_Zone_rs  \n",
       "38458                    0.094118                       0.102235  \n",
       "38459                    0.121951                       0.129512  \n",
       "38460                    0.096386                       0.104458  "
      ]
     },
     "metadata": {},
     "output_type": "display_data"
    },
    {
     "name": "stdout",
     "output_type": "stream",
     "text": [
      "0.01 0.99 0.01 0.99\n"
     ]
    },
    {
     "data": {
      "text/plain": [
       "1    37365\n",
       "0     1096\n",
       "Name: went_litter, dtype: int64"
      ]
     },
     "metadata": {},
     "output_type": "display_data"
    },
    {
     "data": {
      "text/plain": [
       "0    37989\n",
       "1      472\n",
       "Name: stayed_top_tier, dtype: int64"
      ]
     },
     "metadata": {},
     "output_type": "display_data"
    }
   ],
   "source": [
    "#proportion of INDOOR time\n",
    "df_daily['perc_duration_1_Zone_nonan'] = df_daily['perc_duration_1_Zone'].fillna(0)\n",
    "#if there is 100h over the day, and you spend 85h on Z5, and 3 hou outside then you spent 85/97*100 percent of your indoor time on Z5\n",
    "#if oyu spen 15h outside then 85/85*100: 100% of oyur time on Z5\n",
    "df_daily['propindoor_duration_5_Zone'] = df_daily.apply(lambda x: x['perc_duration_5_Zone']/(100-x['perc_duration_1_Zone_nonan']), axis=1)\n",
    "df_daily['propindoor_duration_4_Zone'] = df_daily.apply(lambda x: x['perc_duration_4_Zone']/(100-x['perc_duration_1_Zone_nonan']), axis=1)\n",
    "df_daily['propindoor_duration_2_Zone'] = df_daily.apply(lambda x: x['perc_duration_2_Zone']/(100-x['perc_duration_1_Zone_nonan']), axis=1)\n",
    "\n",
    "#rescalling to 0.01-0.99 for beta\n",
    "def renormalize(n, r1, r2):\n",
    "    delta1 = r1[1] - r1[0] ; delta2 = r2[1] - r2[0]\n",
    "    return (delta2 * (n - r1[0]) / delta1) + r2[0] #rescale from 0--1 then multiply by 99-1 and add 1\n",
    "#small example:\n",
    "#renormalize(99,[0,100], [1,99]) #98.02\n",
    "#renormalize(0,[0,100], [1,99]) #1\n",
    "df_daily['propindoor_duration_5_Zone_rs'] = df_daily['propindoor_duration_5_Zone'].map(lambda x: renormalize(x*100, [0,100], \n",
    "                                                                                                             [1,99])/100)\n",
    "df_daily['propindoor_duration_4_Zone_rs'] = df_daily['propindoor_duration_4_Zone'].map(lambda x: renormalize(x*100, [0,100], \n",
    "                                                                                                             [1,99])/100)\n",
    "df_daily['propindoor_duration_2_Zone_rs'] = df_daily['propindoor_duration_2_Zone'].map(lambda x: renormalize(x*100, [0,100], \n",
    "                                                                                                             [1,99])/100)\n",
    "\n",
    "#small check \n",
    "display(df_daily[['propindoor_duration_5_Zone','propindoor_duration_5_Zone_rs',\n",
    "          'propindoor_duration_4_Zone','propindoor_duration_4_Zone_rs']].tail(3))\n",
    "print(df_daily['propindoor_duration_5_Zone_rs'].min(), df_daily['propindoor_duration_5_Zone_rs'].max(),\n",
    "      df_daily['propindoor_duration_4_Zone_rs'].min(), df_daily['propindoor_duration_4_Zone_rs'].max())\n",
    "\n",
    "#for month 1\n",
    "df_daily['went_litter'] = df_daily['propindoor_duration_2_Zone'].map(lambda x: int(x>0))\n",
    "display(df_daily['went_litter'].value_counts())\n",
    "df_daily['stayed_top_tier'] = df_daily['propindoor_duration_5_Zone'].map(lambda x: int(x==1))\n",
    "display(df_daily['stayed_top_tier'].value_counts())"
   ]
  },
  {
   "cell_type": "code",
   "execution_count": 13,
   "metadata": {},
   "outputs": [
    {
     "data": {
      "text/html": [
       "<div>\n",
       "<style scoped>\n",
       "    .dataframe tbody tr th:only-of-type {\n",
       "        vertical-align: middle;\n",
       "    }\n",
       "\n",
       "    .dataframe tbody tr th {\n",
       "        vertical-align: top;\n",
       "    }\n",
       "\n",
       "    .dataframe thead th {\n",
       "        text-align: right;\n",
       "    }\n",
       "</style>\n",
       "<table border=\"1\" class=\"dataframe\">\n",
       "  <thead>\n",
       "    <tr style=\"text-align: right;\">\n",
       "      <th></th>\n",
       "      <th>HenID</th>\n",
       "      <th>DIB</th>\n",
       "    </tr>\n",
       "  </thead>\n",
       "  <tbody>\n",
       "    <tr>\n",
       "      <th>0</th>\n",
       "      <td>hen_135</td>\n",
       "      <td>2</td>\n",
       "    </tr>\n",
       "    <tr>\n",
       "      <th>1</th>\n",
       "      <td>hen_199</td>\n",
       "      <td>7</td>\n",
       "    </tr>\n",
       "  </tbody>\n",
       "</table>\n",
       "</div>"
      ],
      "text/plain": [
       "     HenID  DIB\n",
       "0  hen_135    2\n",
       "1  hen_199    7"
      ]
     },
     "metadata": {},
     "output_type": "display_data"
    },
    {
     "data": {
      "text/html": [
       "<div>\n",
       "<style scoped>\n",
       "    .dataframe tbody tr th:only-of-type {\n",
       "        vertical-align: middle;\n",
       "    }\n",
       "\n",
       "    .dataframe tbody tr th {\n",
       "        vertical-align: top;\n",
       "    }\n",
       "\n",
       "    .dataframe thead th {\n",
       "        text-align: right;\n",
       "    }\n",
       "</style>\n",
       "<table border=\"1\" class=\"dataframe\">\n",
       "  <thead>\n",
       "    <tr style=\"text-align: right;\">\n",
       "      <th></th>\n",
       "      <th>HenID</th>\n",
       "      <th>DIB</th>\n",
       "    </tr>\n",
       "  </thead>\n",
       "  <tbody>\n",
       "    <tr>\n",
       "      <th>0</th>\n",
       "      <td>hen_116</td>\n",
       "      <td>1</td>\n",
       "    </tr>\n",
       "    <tr>\n",
       "      <th>1</th>\n",
       "      <td>hen_135</td>\n",
       "      <td>3</td>\n",
       "    </tr>\n",
       "    <tr>\n",
       "      <th>2</th>\n",
       "      <td>hen_143</td>\n",
       "      <td>1</td>\n",
       "    </tr>\n",
       "    <tr>\n",
       "      <th>3</th>\n",
       "      <td>hen_153</td>\n",
       "      <td>2</td>\n",
       "    </tr>\n",
       "    <tr>\n",
       "      <th>4</th>\n",
       "      <td>hen_156</td>\n",
       "      <td>1</td>\n",
       "    </tr>\n",
       "    <tr>\n",
       "      <th>5</th>\n",
       "      <td>hen_166</td>\n",
       "      <td>1</td>\n",
       "    </tr>\n",
       "    <tr>\n",
       "      <th>6</th>\n",
       "      <td>hen_174</td>\n",
       "      <td>1</td>\n",
       "    </tr>\n",
       "    <tr>\n",
       "      <th>7</th>\n",
       "      <td>hen_177</td>\n",
       "      <td>4</td>\n",
       "    </tr>\n",
       "    <tr>\n",
       "      <th>8</th>\n",
       "      <td>hen_199</td>\n",
       "      <td>28</td>\n",
       "    </tr>\n",
       "    <tr>\n",
       "      <th>9</th>\n",
       "      <td>hen_20</td>\n",
       "      <td>7</td>\n",
       "    </tr>\n",
       "    <tr>\n",
       "      <th>10</th>\n",
       "      <td>hen_55</td>\n",
       "      <td>1</td>\n",
       "    </tr>\n",
       "    <tr>\n",
       "      <th>11</th>\n",
       "      <td>hen_6</td>\n",
       "      <td>1</td>\n",
       "    </tr>\n",
       "    <tr>\n",
       "      <th>12</th>\n",
       "      <td>hen_65</td>\n",
       "      <td>4</td>\n",
       "    </tr>\n",
       "    <tr>\n",
       "      <th>13</th>\n",
       "      <td>hen_69</td>\n",
       "      <td>1</td>\n",
       "    </tr>\n",
       "    <tr>\n",
       "      <th>14</th>\n",
       "      <td>hen_80</td>\n",
       "      <td>2</td>\n",
       "    </tr>\n",
       "    <tr>\n",
       "      <th>15</th>\n",
       "      <td>hen_94</td>\n",
       "      <td>1</td>\n",
       "    </tr>\n",
       "  </tbody>\n",
       "</table>\n",
       "</div>"
      ],
      "text/plain": [
       "      HenID  DIB\n",
       "0   hen_116    1\n",
       "1   hen_135    3\n",
       "2   hen_143    1\n",
       "3   hen_153    2\n",
       "4   hen_156    1\n",
       "5   hen_166    1\n",
       "6   hen_174    1\n",
       "7   hen_177    4\n",
       "8   hen_199   28\n",
       "9    hen_20    7\n",
       "10   hen_55    1\n",
       "11    hen_6    1\n",
       "12   hen_65    4\n",
       "13   hen_69    1\n",
       "14   hen_80    2\n",
       "15   hen_94    1"
      ]
     },
     "metadata": {},
     "output_type": "display_data"
    }
   ],
   "source": [
    "#remove this disfuntiocn tag\n",
    "display(df_daily[df_daily['propindoor_duration_4_Zone']>=0.90].groupby('HenID')['DIB'].count().reset_index())\n",
    "display(df_daily[df_daily['propindoor_duration_4_Zone']>=0.60].groupby('HenID')['DIB'].count().reset_index())"
   ]
  },
  {
   "cell_type": "code",
   "execution_count": 14,
   "metadata": {},
   "outputs": [
    {
     "data": {
      "text/plain": [
       "Timestamp('2021-04-11 00:00:00')"
      ]
     },
     "execution_count": 14,
     "metadata": {},
     "output_type": "execute_result"
    }
   ],
   "source": [
    "df_daily[df_daily['HenID']=='hen_199']['level'].max()\n",
    "#01.02.2021 12.04.2021"
   ]
  },
  {
   "cell_type": "code",
   "execution_count": 15,
   "metadata": {},
   "outputs": [
    {
     "data": {
      "text/plain": [
       "Timestamp('2020-11-24 00:00:00')"
      ]
     },
     "execution_count": 15,
     "metadata": {},
     "output_type": "execute_result"
    }
   ],
   "source": [
    "df_daily[df_daily['HenID']=='hen_199']['level'].min()"
   ]
  },
  {
   "cell_type": "code",
   "execution_count": 16,
   "metadata": {},
   "outputs": [],
   "source": [
    "#print(df_daily.shape)\n",
    "#df_daily = df_daily[df_daily['HenID']!='hen_199']\n",
    "#print(df_daily.shape)"
   ]
  },
  {
   "cell_type": "markdown",
   "metadata": {},
   "source": [
    "#drop useless columns\n",
    "print(df_daily.shape)\n",
    "df_daily = df_daily.drop(['perc_duration_1_Zone','perc_duration_5_Zone','perc_duration_4_Zone','perc_duration_2_Zone','perc_duration_1_Zone_nonan',\n",
    "               'temperature_C','is_vacc'], axis=1)\n",
    "print(df_daily.shape)\n",
    "df_daily.tail(3)"
   ]
  },
  {
   "cell_type": "code",
   "execution_count": 17,
   "metadata": {},
   "outputs": [
    {
     "name": "stdout",
     "output_type": "stream",
     "text": [
      "(38461, 35)\n",
      "(38303, 35)\n"
     ]
    }
   ],
   "source": [
    "#df_ = df_daily[df_daily['DOA']>200].groupby(['DOA','date','Treatment'])['vertical_travel_distance'].mean().reset_index()\n",
    "#plt.hist(df_['vertical_travel_distance']);\n",
    "#df_[df_['vertical_travel_distance']>100]\n",
    "#df_daily[df_daily['DOA']==275]['PenID'].value_counts()\n",
    "#remove this weird distrubance day\n",
    "print(df_daily.shape)\n",
    "df_daily = df_daily[df_daily['DOA']!=275]\n",
    "print(df_daily.shape)"
   ]
  },
  {
   "cell_type": "code",
   "execution_count": 18,
   "metadata": {},
   "outputs": [
    {
     "data": {
      "text/html": [
       "<div>\n",
       "<style scoped>\n",
       "    .dataframe tbody tr th:only-of-type {\n",
       "        vertical-align: middle;\n",
       "    }\n",
       "\n",
       "    .dataframe tbody tr th {\n",
       "        vertical-align: top;\n",
       "    }\n",
       "\n",
       "    .dataframe thead th {\n",
       "        text-align: right;\n",
       "    }\n",
       "</style>\n",
       "<table border=\"1\" class=\"dataframe\">\n",
       "  <thead>\n",
       "    <tr style=\"text-align: right;\">\n",
       "      <th></th>\n",
       "      <th>nbr_h_per_day</th>\n",
       "      <th>DIB</th>\n",
       "    </tr>\n",
       "  </thead>\n",
       "  <tbody>\n",
       "    <tr>\n",
       "      <th>0</th>\n",
       "      <td>8</td>\n",
       "      <td>[1]</td>\n",
       "    </tr>\n",
       "    <tr>\n",
       "      <th>1</th>\n",
       "      <td>9</td>\n",
       "      <td>[2, 3, 4, 5, 6, 7, 8]</td>\n",
       "    </tr>\n",
       "    <tr>\n",
       "      <th>2</th>\n",
       "      <td>10</td>\n",
       "      <td>[11, 12, 13, 14, 16]</td>\n",
       "    </tr>\n",
       "    <tr>\n",
       "      <th>3</th>\n",
       "      <td>11</td>\n",
       "      <td>[17, 18, 19, 20, 21, 22]</td>\n",
       "    </tr>\n",
       "    <tr>\n",
       "      <th>4</th>\n",
       "      <td>12</td>\n",
       "      <td>[23, 24, 25, 26, 27, 28, 29, 30]</td>\n",
       "    </tr>\n",
       "    <tr>\n",
       "      <th>5</th>\n",
       "      <td>13</td>\n",
       "      <td>[31, 32, 33, 34, 35, 36, 37]</td>\n",
       "    </tr>\n",
       "    <tr>\n",
       "      <th>6</th>\n",
       "      <td>14</td>\n",
       "      <td>[38, 39, 40, 41, 42, 43, 44]</td>\n",
       "    </tr>\n",
       "    <tr>\n",
       "      <th>7</th>\n",
       "      <td>15</td>\n",
       "      <td>[45, 46, 47, 48, 49, 50, 51, 52, 53, 54, 56, 5...</td>\n",
       "    </tr>\n",
       "  </tbody>\n",
       "</table>\n",
       "</div>"
      ],
      "text/plain": [
       "   nbr_h_per_day                                                DIB\n",
       "0              8                                                [1]\n",
       "1              9                              [2, 3, 4, 5, 6, 7, 8]\n",
       "2             10                               [11, 12, 13, 14, 16]\n",
       "3             11                           [17, 18, 19, 20, 21, 22]\n",
       "4             12                   [23, 24, 25, 26, 27, 28, 29, 30]\n",
       "5             13                       [31, 32, 33, 34, 35, 36, 37]\n",
       "6             14                       [38, 39, 40, 41, 42, 43, 44]\n",
       "7             15  [45, 46, 47, 48, 49, 50, 51, 52, 53, 54, 56, 5..."
      ]
     },
     "metadata": {},
     "output_type": "display_data"
    }
   ],
   "source": [
    "df_ = df_daily.groupby('nbr_h_per_day')['DIB'].agg(lambda x: sorted(set(x))).reset_index()\n",
    "display(df_)"
   ]
  },
  {
   "cell_type": "code",
   "execution_count": 19,
   "metadata": {},
   "outputs": [
    {
     "data": {
      "text/html": [
       "<div>\n",
       "<style scoped>\n",
       "    .dataframe tbody tr th:only-of-type {\n",
       "        vertical-align: middle;\n",
       "    }\n",
       "\n",
       "    .dataframe tbody tr th {\n",
       "        vertical-align: top;\n",
       "    }\n",
       "\n",
       "    .dataframe thead th {\n",
       "        text-align: right;\n",
       "    }\n",
       "</style>\n",
       "<table border=\"1\" class=\"dataframe\">\n",
       "  <thead>\n",
       "    <tr style=\"text-align: right;\">\n",
       "      <th></th>\n",
       "      <th>monthILB</th>\n",
       "      <th>level</th>\n",
       "    </tr>\n",
       "  </thead>\n",
       "  <tbody>\n",
       "    <tr>\n",
       "      <th>0</th>\n",
       "      <td>month1</td>\n",
       "      <td>[2020-09-30 00:00:00, 2020-10-01 00:00:00, 202...</td>\n",
       "    </tr>\n",
       "    <tr>\n",
       "      <th>1</th>\n",
       "      <td>month10</td>\n",
       "      <td>[2021-07-04 00:00:00, 2021-07-05 00:00:00, 202...</td>\n",
       "    </tr>\n",
       "    <tr>\n",
       "      <th>2</th>\n",
       "      <td>month2</td>\n",
       "      <td>[2020-11-01 00:00:00, 2020-11-02 00:00:00, 202...</td>\n",
       "    </tr>\n",
       "    <tr>\n",
       "      <th>3</th>\n",
       "      <td>month3</td>\n",
       "      <td>[2020-12-01 00:00:00, 2020-12-02 00:00:00, 202...</td>\n",
       "    </tr>\n",
       "    <tr>\n",
       "      <th>4</th>\n",
       "      <td>month4</td>\n",
       "      <td>[2021-01-01 00:00:00, 2021-01-02 00:00:00, 202...</td>\n",
       "    </tr>\n",
       "    <tr>\n",
       "      <th>5</th>\n",
       "      <td>month5</td>\n",
       "      <td>[2021-02-03 00:00:00, 2021-02-04 00:00:00, 202...</td>\n",
       "    </tr>\n",
       "    <tr>\n",
       "      <th>6</th>\n",
       "      <td>month6</td>\n",
       "      <td>[2021-03-01 00:00:00, 2021-03-02 00:00:00, 202...</td>\n",
       "    </tr>\n",
       "    <tr>\n",
       "      <th>7</th>\n",
       "      <td>month7</td>\n",
       "      <td>[2021-04-01 00:00:00, 2021-04-02 00:00:00, 202...</td>\n",
       "    </tr>\n",
       "    <tr>\n",
       "      <th>8</th>\n",
       "      <td>month8</td>\n",
       "      <td>[2021-05-01 00:00:00, 2021-05-02 00:00:00, 202...</td>\n",
       "    </tr>\n",
       "    <tr>\n",
       "      <th>9</th>\n",
       "      <td>month9</td>\n",
       "      <td>[2021-06-01 00:00:00, 2021-06-03 00:00:00, 202...</td>\n",
       "    </tr>\n",
       "  </tbody>\n",
       "</table>\n",
       "</div>"
      ],
      "text/plain": [
       "  monthILB                                              level\n",
       "0   month1  [2020-09-30 00:00:00, 2020-10-01 00:00:00, 202...\n",
       "1  month10  [2021-07-04 00:00:00, 2021-07-05 00:00:00, 202...\n",
       "2   month2  [2020-11-01 00:00:00, 2020-11-02 00:00:00, 202...\n",
       "3   month3  [2020-12-01 00:00:00, 2020-12-02 00:00:00, 202...\n",
       "4   month4  [2021-01-01 00:00:00, 2021-01-02 00:00:00, 202...\n",
       "5   month5  [2021-02-03 00:00:00, 2021-02-04 00:00:00, 202...\n",
       "6   month6  [2021-03-01 00:00:00, 2021-03-02 00:00:00, 202...\n",
       "7   month7  [2021-04-01 00:00:00, 2021-04-02 00:00:00, 202...\n",
       "8   month8  [2021-05-01 00:00:00, 2021-05-02 00:00:00, 202...\n",
       "9   month9  [2021-06-01 00:00:00, 2021-06-03 00:00:00, 202..."
      ]
     },
     "metadata": {},
     "output_type": "display_data"
    },
    {
     "data": {
      "text/plain": [
       "month8     4552\n",
       "month3     4464\n",
       "month2     4399\n",
       "month6     4262\n",
       "month7     4141\n",
       "month1     3936\n",
       "month5     3889\n",
       "month4     3660\n",
       "month10    3144\n",
       "month9     1856\n",
       "Name: monthILB, dtype: int64"
      ]
     },
     "execution_count": 19,
     "metadata": {},
     "output_type": "execute_result"
    }
   ],
   "source": [
    "#df_daily['LPIB'] = df_daily['WIB'].map(lambda x: 'LP'+str(math.ceil(x/4)))\n",
    "#display(df_daily.groupby(['LPIB'])['WIB'].agg(lambda x: set(x)).reset_index())\n",
    "#month 9 (september) has only one day, lets include it in the first month\n",
    "dico_month_ = {9:1,10:1,11:2,12:3,1:4,2:5,3:6,4:7,5:8,6:9,7:10}\n",
    "df_daily['monthILB'] = df_daily['level'].map(lambda x:'month'+str(dico_month_[x.month]))\n",
    "#small check\n",
    "display(df_daily.groupby(['monthILB'])['level'].agg(lambda x: sorted(set(x))).reset_index())\n",
    "df_daily['monthILB'].value_counts()"
   ]
  },
  {
   "cell_type": "code",
   "execution_count": 20,
   "metadata": {},
   "outputs": [],
   "source": [
    "df_daily.loc[df_daily['monthILB']=='month1','mid_cum_Z4_h_Morning'] = np.nan\n",
    "df_daily.loc[df_daily['monthILB']=='month1','propindoor_duration_4_Zone_rs'] = np.nan\n",
    "df_daily.loc[df_daily['monthILB']=='month1','propindoor_duration_4_Zone'] = np.nan"
   ]
  },
  {
   "cell_type": "code",
   "execution_count": 21,
   "metadata": {},
   "outputs": [],
   "source": [
    "#plt.hist(df_daily[df_daily['monthILB']=='month1']['propindoor_duration_2_Zone_rs'], bins=50);"
   ]
  },
  {
   "cell_type": "markdown",
   "metadata": {},
   "source": [
    "print(df_daily[(df_daily['monthILB']=='month1')&(df_daily['propindoor_duration_2_Zone']==0)].shape,\n",
    "df_daily[(df_daily['monthILB']=='month1')&(df_daily['propindoor_duration_2_Zone']!=0)].shape)\n",
    "print(df_daily[(df_daily['monthILB']=='month1')&(df_daily['propindoor_duration_5_Zone']==1)].shape,\n",
    "df_daily[(df_daily['monthILB']=='month1')&(df_daily['propindoor_duration_5_Zone']!=1)].shape)"
   ]
  },
  {
   "cell_type": "code",
   "execution_count": 22,
   "metadata": {},
   "outputs": [
    {
     "data": {
      "image/png": "[encoded data removed]",
      "text/plain": [
       "<Figure size 432x288 with 1 Axes>"
      ]
     },
     "metadata": {
      "needs_background": "light"
     },
     "output_type": "display_data"
    }
   ],
   "source": [
    "plt.hist(df_daily[df_daily['monthILB']=='month4']['propindoor_duration_2_Zone_rs'], bins=50);"
   ]
  },
  {
   "cell_type": "code",
   "execution_count": 23,
   "metadata": {},
   "outputs": [],
   "source": [
    "df_daily.to_csv(os.path.join(path_extracted_data, name+'_df_all_mvt.csv'), index=False, sep=',')"
   ]
  },
  {
   "cell_type": "code",
   "execution_count": null,
   "metadata": {},
   "outputs": [],
   "source": []
  },
  {
   "cell_type": "markdown",
   "metadata": {},
   "source": [
    "df_ = df_daily.groupby(['HenID'])['propindoor_duration_2_Zone_rs'].mean().reset_index().sort_values('propindoor_duration_2_Zone_rs', ascending=False)\n",
    "li_hen_ = df_['HenID'].tolist()\n",
    "df_daily['order_D2'] = df_daily['HenID'].map(lambda x: li_hen_.index(x))\n",
    "df_daily.sort_values('order_D2', inplace=True)\n",
    "plt.figure(figsize=(15,5))\n",
    "sns.boxplot(x='HenID', y='propindoor_duration_2_Zone_rs', data=df_daily[df_daily['monthILB']=='month3'], hue='HenID');"
   ]
  },
  {
   "cell_type": "code",
   "execution_count": 24,
   "metadata": {},
   "outputs": [],
   "source": [
    "#sns.lineplot(x='DIB', y='propindoor_duration_4_Zone_rs', data=df_daily[df_daily['monthILB']=='month6'], hue='PenID')"
   ]
  },
  {
   "cell_type": "markdown",
   "metadata": {},
   "source": [
    "df_ = df_daily[df_daily['monthILB']=='month5'].groupby('HenID')['monthILB'].count().reset_index().sort_values(['monthILB'])\n",
    "display(df_.head(3))\n",
    "li_henremove = df_[df_['monthILB']<5]['HenID'].unique()\n",
    "print(len(li_henremove))\n",
    "#save \n",
    "df_daily_ = df_daily[~df_daily['HenID'].isin(li_henremove)]\n",
    "print(df_daily.shape, df_daily_.shape)\n",
    "df_daily_.to_csv(os.path.join(path_extracted_data, name+'_df_all_mvt_henless.csv'), index=False, sep=',')"
   ]
  },
  {
   "cell_type": "code",
   "execution_count": 25,
   "metadata": {},
   "outputs": [
    {
     "data": {
      "text/plain": [
       "perc_duration_1_Zone_nonan          0\n",
       "date                                0\n",
       "nbr_h_per_day                       0\n",
       "perc_duration_2_Zone                0\n",
       "perc_duration_5_Zone                0\n",
       "perc_duration_4_Zone                0\n",
       "stayed_top_tier                     0\n",
       "vertical_travel_distance            0\n",
       "nbr_h_WGopen                        0\n",
       "is_vacc                             0\n",
       "PenID                               0\n",
       "level                               0\n",
       "Treatment                           0\n",
       "CLASS                               0\n",
       "DOA                                 0\n",
       "WOA                                 0\n",
       "DIB                                 0\n",
       "monthILB                            0\n",
       "weekday                             0\n",
       "WIB                                 0\n",
       "KBF_interp                        277\n",
       "temperature_C                     315\n",
       "temperature_C_avg                 315\n",
       "weight_interp                     848\n",
       "FeatherDamage_interp             1320\n",
       "WentinWG                         1714\n",
       "perc_duration_1_Zone             1714\n",
       "propindoor_duration_4_Zone       3936\n",
       "propindoor_duration_4_Zone_rs    3936\n",
       "mid_cum_Z4_h_Morning             4159\n",
       "dtype: int64"
      ]
     },
     "execution_count": 25,
     "metadata": {},
     "output_type": "execute_result"
    }
   ],
   "source": [
    "df_daily.isna().sum(axis=0).sort_values().tail(30)"
   ]
  },
  {
   "cell_type": "code",
   "execution_count": 26,
   "metadata": {},
   "outputs": [
    {
     "name": "stdout",
     "output_type": "stream",
     "text": [
      "We are involving a period of 297 days of tracking during the days from the DOA 119 until DOA 416\n"
     ]
    }
   ],
   "source": [
    "mi = min(df_daily['DOA'].tolist())\n",
    "ma = max(df_daily['DOA'].tolist())\n",
    "print('We are involving a period of %d days of tracking during the days from the DOA %d until DOA %d'%(ma-mi, mi, ma))"
   ]
  },
  {
   "cell_type": "code",
   "execution_count": 27,
   "metadata": {},
   "outputs": [
    {
     "name": "stderr",
     "output_type": "stream",
     "text": [
      "C:\\Users\\camil\\AppData\\Local\\Temp/ipykernel_31796/3940579085.py:2: FutureWarning: Indexing with multiple keys (implicitly converted to a tuple of keys) will be deprecated, use a list instead.\n",
      "  df_info = df_daily.groupby(['HenID'])['DOA','level','PenID'].agg(lambda x: list(x)).reset_index()\n"
     ]
    },
    {
     "data": {
      "text/html": [
       "<div>\n",
       "<style scoped>\n",
       "    .dataframe tbody tr th:only-of-type {\n",
       "        vertical-align: middle;\n",
       "    }\n",
       "\n",
       "    .dataframe tbody tr th {\n",
       "        vertical-align: top;\n",
       "    }\n",
       "\n",
       "    .dataframe thead th {\n",
       "        text-align: right;\n",
       "    }\n",
       "</style>\n",
       "<table border=\"1\" class=\"dataframe\">\n",
       "  <thead>\n",
       "    <tr style=\"text-align: right;\">\n",
       "      <th></th>\n",
       "      <th>HenID</th>\n",
       "      <th>DOA</th>\n",
       "      <th>level</th>\n",
       "      <th>PenID</th>\n",
       "      <th>nbrDaysTracked</th>\n",
       "    </tr>\n",
       "  </thead>\n",
       "  <tbody>\n",
       "    <tr>\n",
       "      <th>34</th>\n",
       "      <td>hen_130</td>\n",
       "      <td>[124, 125, 126]</td>\n",
       "      <td>[2020-10-05 00:00:00, 2020-10-06 00:00:00, 202...</td>\n",
       "      <td>[pen10, pen10, pen10]</td>\n",
       "      <td>3</td>\n",
       "    </tr>\n",
       "    <tr>\n",
       "      <th>36</th>\n",
       "      <td>hen_132</td>\n",
       "      <td>[119, 120, 121, 125, 126]</td>\n",
       "      <td>[2020-09-30 00:00:00, 2020-10-01 00:00:00, 202...</td>\n",
       "      <td>[pen8, pen8, pen8, pen8, pen8]</td>\n",
       "      <td>5</td>\n",
       "    </tr>\n",
       "    <tr>\n",
       "      <th>152</th>\n",
       "      <td>hen_31</td>\n",
       "      <td>[119, 120, 121, 125, 126]</td>\n",
       "      <td>[2020-09-30 00:00:00, 2020-10-01 00:00:00, 202...</td>\n",
       "      <td>[pen9, pen9, pen9, pen9, pen9]</td>\n",
       "      <td>5</td>\n",
       "    </tr>\n",
       "  </tbody>\n",
       "</table>\n",
       "</div>"
      ],
      "text/plain": [
       "       HenID                        DOA  \\\n",
       "34   hen_130            [124, 125, 126]   \n",
       "36   hen_132  [119, 120, 121, 125, 126]   \n",
       "152   hen_31  [119, 120, 121, 125, 126]   \n",
       "\n",
       "                                                 level  \\\n",
       "34   [2020-10-05 00:00:00, 2020-10-06 00:00:00, 202...   \n",
       "36   [2020-09-30 00:00:00, 2020-10-01 00:00:00, 202...   \n",
       "152  [2020-09-30 00:00:00, 2020-10-01 00:00:00, 202...   \n",
       "\n",
       "                              PenID  nbrDaysTracked  \n",
       "34            [pen10, pen10, pen10]               3  \n",
       "36   [pen8, pen8, pen8, pen8, pen8]               5  \n",
       "152  [pen9, pen9, pen9, pen9, pen9]               5  "
      ]
     },
     "metadata": {},
     "output_type": "display_data"
    },
    {
     "data": {
      "text/html": [
       "<div>\n",
       "<style scoped>\n",
       "    .dataframe tbody tr th:only-of-type {\n",
       "        vertical-align: middle;\n",
       "    }\n",
       "\n",
       "    .dataframe tbody tr th {\n",
       "        vertical-align: top;\n",
       "    }\n",
       "\n",
       "    .dataframe thead th {\n",
       "        text-align: right;\n",
       "    }\n",
       "</style>\n",
       "<table border=\"1\" class=\"dataframe\">\n",
       "  <thead>\n",
       "    <tr style=\"text-align: right;\">\n",
       "      <th></th>\n",
       "      <th>HenID</th>\n",
       "      <th>DOA</th>\n",
       "      <th>level</th>\n",
       "      <th>PenID</th>\n",
       "      <th>nbrDaysTracked</th>\n",
       "    </tr>\n",
       "  </thead>\n",
       "  <tbody>\n",
       "    <tr>\n",
       "      <th>191</th>\n",
       "      <td>hen_67</td>\n",
       "      <td>[119, 120, 121, 123, 124, 125, 126, 129, 130, ...</td>\n",
       "      <td>[2020-09-30 00:00:00, 2020-10-01 00:00:00, 202...</td>\n",
       "      <td>[pen10, pen10, pen10, pen10, pen10, pen10, pen...</td>\n",
       "      <td>250</td>\n",
       "    </tr>\n",
       "    <tr>\n",
       "      <th>148</th>\n",
       "      <td>hen_28</td>\n",
       "      <td>[119, 120, 121, 123, 124, 125, 126, 129, 130, ...</td>\n",
       "      <td>[2020-09-30 00:00:00, 2020-10-01 00:00:00, 202...</td>\n",
       "      <td>[pen11, pen11, pen11, pen11, pen11, pen11, pen...</td>\n",
       "      <td>250</td>\n",
       "    </tr>\n",
       "    <tr>\n",
       "      <th>190</th>\n",
       "      <td>hen_66</td>\n",
       "      <td>[119, 120, 121, 125, 126, 129, 130, 131, 132, ...</td>\n",
       "      <td>[2020-09-30 00:00:00, 2020-10-01 00:00:00, 202...</td>\n",
       "      <td>[pen8, pen8, pen8, pen8, pen8, pen8, pen8, pen...</td>\n",
       "      <td>250</td>\n",
       "    </tr>\n",
       "  </tbody>\n",
       "</table>\n",
       "</div>"
      ],
      "text/plain": [
       "      HenID                                                DOA  \\\n",
       "191  hen_67  [119, 120, 121, 123, 124, 125, 126, 129, 130, ...   \n",
       "148  hen_28  [119, 120, 121, 123, 124, 125, 126, 129, 130, ...   \n",
       "190  hen_66  [119, 120, 121, 125, 126, 129, 130, 131, 132, ...   \n",
       "\n",
       "                                                 level  \\\n",
       "191  [2020-09-30 00:00:00, 2020-10-01 00:00:00, 202...   \n",
       "148  [2020-09-30 00:00:00, 2020-10-01 00:00:00, 202...   \n",
       "190  [2020-09-30 00:00:00, 2020-10-01 00:00:00, 202...   \n",
       "\n",
       "                                                 PenID  nbrDaysTracked  \n",
       "191  [pen10, pen10, pen10, pen10, pen10, pen10, pen...             250  \n",
       "148  [pen11, pen11, pen11, pen11, pen11, pen11, pen...             250  \n",
       "190  [pen8, pen8, pen8, pen8, pen8, pen8, pen8, pen...             250  "
      ]
     },
     "metadata": {},
     "output_type": "display_data"
    },
    {
     "name": "stdout",
     "output_type": "stream",
     "text": [
      "168.73568281938327\n",
      "hens had in average 169 days tracked with a minimum of 3 days tracked and a max of 250 days\n",
      "In other words, 227 hens were used in subsequent analysis with a total of 38303 observations.\n"
     ]
    }
   ],
   "source": [
    "#check #obs/hen - to be removed due to unexpected issues\n",
    "df_info = df_daily.groupby(['HenID'])['DOA','level','PenID'].agg(lambda x: list(x)).reset_index()\n",
    "df_info['nbrDaysTracked'] = df_info['DOA'].map(lambda x: len(set(x)))\n",
    "df_info = df_info.sort_values(['nbrDaysTracked'])\n",
    "display(df_info.head(3))\n",
    "display(df_info.tail(3))\n",
    "#pen 5 had issues with batteries of markers!\n",
    "print(df_info['nbrDaysTracked'].mean())\n",
    "#df_info[df_info['HenID']=='hen_26']['level'].values\n",
    "\n",
    "print('hens had in average %d days tracked with a minimum of %d days tracked \\\n",
    "and a max of %d days'%(round(df_info['nbrDaysTracked'].mean(),0),df_info['nbrDaysTracked'].min(),df_info['nbrDaysTracked'].max()))\n",
    "\n",
    "print('In other words, %d hens were used in subsequent analysis with a total of %d observations.'%(len(df_daily['HenID'].unique()),\n",
    "                                                                                                   df_daily.shape[0]))"
   ]
  },
  {
   "cell_type": "markdown",
   "metadata": {},
   "source": [
    "# Save dataframe for HA"
   ]
  },
  {
   "cell_type": "code",
   "execution_count": 28,
   "metadata": {},
   "outputs": [
    {
     "data": {
      "text/plain": [
       "Other    507\n",
       "MEXP     188\n",
       "LEXP     149\n",
       "Name: CLASS, dtype: int64"
      ]
     },
     "metadata": {},
     "output_type": "display_data"
    },
    {
     "data": {
      "text/plain": [
       "REXP    509\n",
       "MEXP    188\n",
       "LEXP    149\n",
       "Name: CLASS, dtype: int64"
      ]
     },
     "metadata": {},
     "output_type": "display_data"
    },
    {
     "name": "stdout",
     "output_type": "stream",
     "text": [
      "(846, 59)\n"
     ]
    },
    {
     "data": {
      "text/html": [
       "<div>\n",
       "<style scoped>\n",
       "    .dataframe tbody tr th:only-of-type {\n",
       "        vertical-align: middle;\n",
       "    }\n",
       "\n",
       "    .dataframe tbody tr th {\n",
       "        vertical-align: top;\n",
       "    }\n",
       "\n",
       "    .dataframe thead th {\n",
       "        text-align: right;\n",
       "    }\n",
       "</style>\n",
       "<table border=\"1\" class=\"dataframe\">\n",
       "  <thead>\n",
       "    <tr style=\"text-align: right;\">\n",
       "      <th></th>\n",
       "      <th>Person_toe</th>\n",
       "      <th>Time</th>\n",
       "      <th>PenID</th>\n",
       "      <th>FocalLegringName</th>\n",
       "      <th>BirdType</th>\n",
       "      <th>CombPecks</th>\n",
       "      <th>Toes</th>\n",
       "      <th>RFPododermatitis</th>\n",
       "      <th>RFBumblefoot</th>\n",
       "      <th>RFinjuries</th>\n",
       "      <th>...</th>\n",
       "      <th>imageID</th>\n",
       "      <th>random_order1</th>\n",
       "      <th>severity</th>\n",
       "      <th>has_gap</th>\n",
       "      <th>BirdID</th>\n",
       "      <th>uncertainty (0:certain:1 random)</th>\n",
       "      <th>Unnamed: 9</th>\n",
       "      <th>Info</th>\n",
       "      <th>backpack</th>\n",
       "      <th>FeatherDamage</th>\n",
       "    </tr>\n",
       "  </thead>\n",
       "  <tbody>\n",
       "    <tr>\n",
       "      <th>0</th>\n",
       "      <td>M</td>\n",
       "      <td>09:30</td>\n",
       "      <td>pen9</td>\n",
       "      <td>42grey</td>\n",
       "      <td>normal</td>\n",
       "      <td>25.0</td>\n",
       "      <td>NaN</td>\n",
       "      <td>0.0</td>\n",
       "      <td>0.0</td>\n",
       "      <td>0.0</td>\n",
       "      <td>...</td>\n",
       "      <td>239.0</td>\n",
       "      <td>109.0</td>\n",
       "      <td>0</td>\n",
       "      <td>0.0</td>\n",
       "      <td>42grey9sb</td>\n",
       "      <td>NaN</td>\n",
       "      <td>NaN</td>\n",
       "      <td>['', '42', 'grey', '9', 'sb']</td>\n",
       "      <td>sb</td>\n",
       "      <td>NaN</td>\n",
       "    </tr>\n",
       "    <tr>\n",
       "      <th>1</th>\n",
       "      <td>Mark</td>\n",
       "      <td>14:54</td>\n",
       "      <td>pen9</td>\n",
       "      <td>66grey</td>\n",
       "      <td>normal</td>\n",
       "      <td>0.0</td>\n",
       "      <td>NaN</td>\n",
       "      <td>50.0</td>\n",
       "      <td>0.0</td>\n",
       "      <td>0.0</td>\n",
       "      <td>...</td>\n",
       "      <td>456.0</td>\n",
       "      <td>509.0</td>\n",
       "      <td>16</td>\n",
       "      <td>0.0</td>\n",
       "      <td>66grey9sp</td>\n",
       "      <td>NaN</td>\n",
       "      <td>NaN</td>\n",
       "      <td>['', '66', 'grey', '9', 'sp']</td>\n",
       "      <td>sp</td>\n",
       "      <td>14.0</td>\n",
       "    </tr>\n",
       "    <tr>\n",
       "      <th>2</th>\n",
       "      <td>Camille</td>\n",
       "      <td>10:30</td>\n",
       "      <td>pen5</td>\n",
       "      <td>2green</td>\n",
       "      <td>normal</td>\n",
       "      <td>130.0</td>\n",
       "      <td>NaN</td>\n",
       "      <td>25.0</td>\n",
       "      <td>0.0</td>\n",
       "      <td>0.0</td>\n",
       "      <td>...</td>\n",
       "      <td>482.0</td>\n",
       "      <td>428.0</td>\n",
       "      <td>4</td>\n",
       "      <td>0.0</td>\n",
       "      <td>2green5pp</td>\n",
       "      <td>NaN</td>\n",
       "      <td>NaN</td>\n",
       "      <td>['', '2', 'green', '5', 'pp']</td>\n",
       "      <td>pp</td>\n",
       "      <td>8.0</td>\n",
       "    </tr>\n",
       "  </tbody>\n",
       "</table>\n",
       "<p>3 rows × 59 columns</p>\n",
       "</div>"
      ],
      "text/plain": [
       "  Person_toe   Time PenID FocalLegringName BirdType  CombPecks Toes  \\\n",
       "0          M  09:30  pen9           42grey   normal       25.0  NaN   \n",
       "1       Mark  14:54  pen9           66grey   normal        0.0  NaN   \n",
       "2    Camille  10:30  pen5           2green   normal      130.0  NaN   \n",
       "\n",
       "   RFPododermatitis  RFBumblefoot  RFinjuries  ...  imageID  random_order1  \\\n",
       "0               0.0           0.0         0.0  ...    239.0          109.0   \n",
       "1              50.0           0.0         0.0  ...    456.0          509.0   \n",
       "2              25.0           0.0         0.0  ...    482.0          428.0   \n",
       "\n",
       "   severity  has_gap     BirdID  uncertainty (0:certain:1 random) Unnamed: 9  \\\n",
       "0         0      0.0  42grey9sb                               NaN        NaN   \n",
       "1        16      0.0  66grey9sp                               NaN        NaN   \n",
       "2         4      0.0  2green5pp                               NaN        NaN   \n",
       "\n",
       "                            Info backpack FeatherDamage  \n",
       "0  ['', '42', 'grey', '9', 'sb']       sb           NaN  \n",
       "1  ['', '66', 'grey', '9', 'sp']       sp          14.0  \n",
       "2  ['', '2', 'green', '5', 'pp']       pp           8.0  \n",
       "\n",
       "[3 rows x 59 columns]"
      ]
     },
     "metadata": {},
     "output_type": "display_data"
    }
   ],
   "source": [
    "#all\n",
    "df_HA = pd.read_csv(os.path.join(path_extracted_data, 'df_all_HA.csv'), sep=';')\n",
    "df_HA['FeatherDamage'] = df_HA['Feathers'].map(lambda x: 100-x)\n",
    "display(df_HA['CLASS'].value_counts())\n",
    "df_HA['CLASS'] = df_HA['CLASS'].map(lambda x: 'REXP' if x not in ['MEXP','LEXP'] else x)\n",
    "display(df_HA['CLASS'].value_counts())\n",
    "print(df_HA.shape) \n",
    "display(df_HA.head(3))"
   ]
  },
  {
   "cell_type": "code",
   "execution_count": 29,
   "metadata": {},
   "outputs": [
    {
     "name": "stdout",
     "output_type": "stream",
     "text": [
      "(846, 59)\n",
      "(844, 8)\n"
     ]
    },
    {
     "data": {
      "text/plain": [
       "CLASS              0\n",
       "date               0\n",
       "Treatment          0\n",
       "HenID              0\n",
       "severity           0\n",
       "DOA                0\n",
       "PenID              0\n",
       "FeatherDamage    181\n",
       "dtype: int64"
      ]
     },
     "execution_count": 29,
     "metadata": {},
     "output_type": "execute_result"
    }
   ],
   "source": [
    "df_HA.isna().sum(axis=0).sort_values().tail(30)\n",
    "print(df_HA.shape)\n",
    "df_HA = df_HA[~df_HA['Treatment'].isnull()][['CLASS','date','Treatment','HenID','severity','FeatherDamage','DOA','PenID']]\n",
    "print(df_HA.shape)\n",
    "df_HA.isna().sum(axis=0).sort_values().tail(30)"
   ]
  },
  {
   "cell_type": "code",
   "execution_count": 30,
   "metadata": {},
   "outputs": [
    {
     "data": {
      "text/plain": [
       "REXP    22141\n",
       "MEXP     8922\n",
       "LEXP     7240\n",
       "Name: CLASS, dtype: int64"
      ]
     },
     "metadata": {},
     "output_type": "display_data"
    }
   ],
   "source": [
    "display(df_daily['CLASS'].value_counts())"
   ]
  },
  {
   "cell_type": "code",
   "execution_count": 31,
   "metadata": {},
   "outputs": [
    {
     "data": {
      "text/plain": [
       "[173.0, 215.0, 243.0, 313.0, 417.0]"
      ]
     },
     "execution_count": 31,
     "metadata": {},
     "output_type": "execute_result"
    }
   ],
   "source": [
    "sorted(df_HA['DOA'].unique())"
   ]
  },
  {
   "cell_type": "code",
   "execution_count": 32,
   "metadata": {},
   "outputs": [
    {
     "data": {
      "text/plain": [
       "count    175.000000\n",
       "mean       6.788571\n",
       "std       12.321175\n",
       "min        0.000000\n",
       "25%        0.000000\n",
       "50%        0.000000\n",
       "75%       10.000000\n",
       "max       66.000000\n",
       "Name: severity, dtype: float64"
      ]
     },
     "execution_count": 32,
     "metadata": {},
     "output_type": "execute_result"
    }
   ],
   "source": [
    "#median of 0 over 100\n",
    "df_HA[df_HA['DOA']==173]['severity'].describe()"
   ]
  },
  {
   "cell_type": "code",
   "execution_count": 33,
   "metadata": {},
   "outputs": [
    {
     "data": {
      "text/plain": [
       "count    157.000000\n",
       "mean       3.106157\n",
       "std        4.604135\n",
       "min        0.000000\n",
       "25%        0.000000\n",
       "50%        0.333333\n",
       "75%        5.000000\n",
       "max       20.666667\n",
       "Name: FeatherDamage, dtype: float64"
      ]
     },
     "execution_count": 33,
     "metadata": {},
     "output_type": "execute_result"
    }
   ],
   "source": [
    "#median of 0 over 100\n",
    "df_HA[df_HA['DOA']==215]['FeatherDamage'].describe()"
   ]
  },
  {
   "cell_type": "code",
   "execution_count": 34,
   "metadata": {},
   "outputs": [],
   "source": [
    "#save\n",
    "df_HA.to_csv(os.path.join(path_extracted_data, name+'_df_HA.csv'), index=False, sep=',')"
   ]
  },
  {
   "cell_type": "markdown",
   "metadata": {},
   "source": [
    "# Save dataframe for growth curve"
   ]
  },
  {
   "cell_type": "code",
   "execution_count": 35,
   "metadata": {},
   "outputs": [
    {
     "data": {
      "text/plain": [
       "0.0    222\n",
       "1.0     10\n",
       "Name: early_death, dtype: int64"
      ]
     },
     "metadata": {},
     "output_type": "display_data"
    },
    {
     "data": {
      "text/plain": [
       "REXP    162\n",
       "MEXP     39\n",
       "LEXP     31\n",
       "Name: CLASS, dtype: int64"
      ]
     },
     "metadata": {},
     "output_type": "display_data"
    },
    {
     "name": "stdout",
     "output_type": "stream",
     "text": [
      "(232, 14)\n"
     ]
    },
    {
     "data": {
      "text/html": [
       "<div>\n",
       "<style scoped>\n",
       "    .dataframe tbody tr th:only-of-type {\n",
       "        vertical-align: middle;\n",
       "    }\n",
       "\n",
       "    .dataframe tbody tr th {\n",
       "        vertical-align: top;\n",
       "    }\n",
       "\n",
       "    .dataframe thead th {\n",
       "        text-align: right;\n",
       "    }\n",
       "</style>\n",
       "<table border=\"1\" class=\"dataframe\">\n",
       "  <thead>\n",
       "    <tr style=\"text-align: right;\">\n",
       "      <th></th>\n",
       "      <th>HenID</th>\n",
       "      <th>PenID</th>\n",
       "      <th>CLASS</th>\n",
       "      <th>R-Pen</th>\n",
       "      <th>InitialStartDate</th>\n",
       "      <th>early_death</th>\n",
       "      <th>29-09 weight</th>\n",
       "      <th>10-12 juin weight</th>\n",
       "      <th>weight 23-11-2020</th>\n",
       "      <th>weight 04-01-2021</th>\n",
       "      <th>weight 01-02-21</th>\n",
       "      <th>weight 12-04-21</th>\n",
       "      <th>weight 26-07-21</th>\n",
       "      <th>Treatment</th>\n",
       "    </tr>\n",
       "  </thead>\n",
       "  <tbody>\n",
       "    <tr>\n",
       "      <th>0</th>\n",
       "      <td>hen_1</td>\n",
       "      <td>9</td>\n",
       "      <td>REXP</td>\n",
       "      <td>1.0</td>\n",
       "      <td>2020-06-10</td>\n",
       "      <td>0.0</td>\n",
       "      <td>1134.0</td>\n",
       "      <td>57.0</td>\n",
       "      <td>1696.5</td>\n",
       "      <td>1787.8</td>\n",
       "      <td>1800.9</td>\n",
       "      <td>NaN</td>\n",
       "      <td>NaN</td>\n",
       "      <td>OFH</td>\n",
       "    </tr>\n",
       "    <tr>\n",
       "      <th>1</th>\n",
       "      <td>hen_10</td>\n",
       "      <td>11</td>\n",
       "      <td>LEXP</td>\n",
       "      <td>1.0</td>\n",
       "      <td>2020-06-10</td>\n",
       "      <td>0.0</td>\n",
       "      <td>1070.0</td>\n",
       "      <td>70.4</td>\n",
       "      <td>1488.3</td>\n",
       "      <td>1628.4</td>\n",
       "      <td>1602.1</td>\n",
       "      <td>1587.2</td>\n",
       "      <td>1713.4</td>\n",
       "      <td>OFH</td>\n",
       "    </tr>\n",
       "    <tr>\n",
       "      <th>2</th>\n",
       "      <td>hen_100</td>\n",
       "      <td>5</td>\n",
       "      <td>REXP</td>\n",
       "      <td>3.0</td>\n",
       "      <td>2020-06-10</td>\n",
       "      <td>0.0</td>\n",
       "      <td>1182.0</td>\n",
       "      <td>80.5</td>\n",
       "      <td>1642.5</td>\n",
       "      <td>NaN</td>\n",
       "      <td>NaN</td>\n",
       "      <td>NaN</td>\n",
       "      <td>NaN</td>\n",
       "      <td>OFH</td>\n",
       "    </tr>\n",
       "  </tbody>\n",
       "</table>\n",
       "</div>"
      ],
      "text/plain": [
       "     HenID  PenID CLASS  R-Pen InitialStartDate  early_death  29-09 weight  \\\n",
       "0    hen_1      9  REXP    1.0       2020-06-10          0.0        1134.0   \n",
       "1   hen_10     11  LEXP    1.0       2020-06-10          0.0        1070.0   \n",
       "2  hen_100      5  REXP    3.0       2020-06-10          0.0        1182.0   \n",
       "\n",
       "   10-12 juin weight  weight 23-11-2020  weight 04-01-2021  weight 01-02-21  \\\n",
       "0               57.0             1696.5             1787.8           1800.9   \n",
       "1               70.4             1488.3             1628.4           1602.1   \n",
       "2               80.5             1642.5                NaN              NaN   \n",
       "\n",
       "   weight 12-04-21  weight 26-07-21 Treatment  \n",
       "0              NaN              NaN       OFH  \n",
       "1           1587.2           1713.4       OFH  \n",
       "2              NaN              NaN       OFH  "
      ]
     },
     "execution_count": 35,
     "metadata": {},
     "output_type": "execute_result"
    }
   ],
   "source": [
    "#focal birds information (one row per focal bird)\n",
    "df_FB = pd.read_csv(os.path.join(path_extracted_data, id_run+'df_FOCALBIRDS.csv'), sep=';', parse_dates=['InitialStartDate'])\n",
    "df_FB['early_death'] = df_FB['early_death'].fillna(0).replace(2,1) #2 means not sure\n",
    "display(df_FB['early_death'].value_counts())\n",
    "dico_cl = {'EPI':'REXP', 'NewAfterEpi':'REXP', 'MEXP':'MEXP', 'LEXP':'LEXP', 'LEXPLOST':'REXP', 'MEXPLOST':'REXP', 'NewAfterEpiLOST':'REXP'}\n",
    "df_FB['CLASS'] = df_FB['CLASS'].map(lambda x: dico_cl[x])\n",
    "display(df_FB['CLASS'].value_counts())\n",
    "print(df_FB.shape)\n",
    "df_FB.head(3)"
   ]
  },
  {
   "cell_type": "code",
   "execution_count": 36,
   "metadata": {},
   "outputs": [
    {
     "data": {
      "text/html": [
       "<div>\n",
       "<style scoped>\n",
       "    .dataframe tbody tr th:only-of-type {\n",
       "        vertical-align: middle;\n",
       "    }\n",
       "\n",
       "    .dataframe tbody tr th {\n",
       "        vertical-align: top;\n",
       "    }\n",
       "\n",
       "    .dataframe thead th {\n",
       "        text-align: right;\n",
       "    }\n",
       "</style>\n",
       "<table border=\"1\" class=\"dataframe\">\n",
       "  <thead>\n",
       "    <tr style=\"text-align: right;\">\n",
       "      <th></th>\n",
       "      <th>HenID</th>\n",
       "      <th>PenID</th>\n",
       "      <th>CLASS</th>\n",
       "      <th>R-Pen</th>\n",
       "      <th>InitialStartDate</th>\n",
       "      <th>early_death</th>\n",
       "      <th>29-09 weight</th>\n",
       "      <th>10-12 juin weight</th>\n",
       "      <th>weight 23-11-2020</th>\n",
       "      <th>weight 04-01-2021</th>\n",
       "      <th>weight 01-02-21</th>\n",
       "      <th>weight 12-04-21</th>\n",
       "      <th>weight 26-07-21</th>\n",
       "      <th>Treatment</th>\n",
       "    </tr>\n",
       "  </thead>\n",
       "  <tbody>\n",
       "    <tr>\n",
       "      <th>18</th>\n",
       "      <td>hen_115</td>\n",
       "      <td>3</td>\n",
       "      <td>LEXP</td>\n",
       "      <td>3.0</td>\n",
       "      <td>2020-06-12</td>\n",
       "      <td>0.0</td>\n",
       "      <td>1130.0</td>\n",
       "      <td>NaN</td>\n",
       "      <td>1705.4</td>\n",
       "      <td>1717.4</td>\n",
       "      <td>1787.7</td>\n",
       "      <td>1861.7</td>\n",
       "      <td>1845.9</td>\n",
       "      <td>OFH</td>\n",
       "    </tr>\n",
       "    <tr>\n",
       "      <th>19</th>\n",
       "      <td>hen_116</td>\n",
       "      <td>9</td>\n",
       "      <td>LEXP</td>\n",
       "      <td>3.0</td>\n",
       "      <td>2020-06-12</td>\n",
       "      <td>0.0</td>\n",
       "      <td>1190.0</td>\n",
       "      <td>NaN</td>\n",
       "      <td>1606.1</td>\n",
       "      <td>1796.4</td>\n",
       "      <td>1878.9</td>\n",
       "      <td>1952.3</td>\n",
       "      <td>2022.1</td>\n",
       "      <td>OFH</td>\n",
       "    </tr>\n",
       "    <tr>\n",
       "      <th>20</th>\n",
       "      <td>hen_117</td>\n",
       "      <td>11</td>\n",
       "      <td>REXP</td>\n",
       "      <td>3.0</td>\n",
       "      <td>2020-06-12</td>\n",
       "      <td>0.0</td>\n",
       "      <td>1158.0</td>\n",
       "      <td>NaN</td>\n",
       "      <td>1632.2</td>\n",
       "      <td>NaN</td>\n",
       "      <td>NaN</td>\n",
       "      <td>NaN</td>\n",
       "      <td>NaN</td>\n",
       "      <td>OFH</td>\n",
       "    </tr>\n",
       "    <tr>\n",
       "      <th>21</th>\n",
       "      <td>hen_118</td>\n",
       "      <td>11</td>\n",
       "      <td>REXP</td>\n",
       "      <td>3.0</td>\n",
       "      <td>2020-06-12</td>\n",
       "      <td>0.0</td>\n",
       "      <td>1144.0</td>\n",
       "      <td>NaN</td>\n",
       "      <td>1540.0</td>\n",
       "      <td>1693.9</td>\n",
       "      <td>1687.5</td>\n",
       "      <td>1755.2</td>\n",
       "      <td>1759.3</td>\n",
       "      <td>OFH</td>\n",
       "    </tr>\n",
       "    <tr>\n",
       "      <th>22</th>\n",
       "      <td>hen_119</td>\n",
       "      <td>5</td>\n",
       "      <td>LEXP</td>\n",
       "      <td>3.0</td>\n",
       "      <td>2020-06-12</td>\n",
       "      <td>0.0</td>\n",
       "      <td>1200.0</td>\n",
       "      <td>NaN</td>\n",
       "      <td>1707.4</td>\n",
       "      <td>1788.6</td>\n",
       "      <td>1806.5</td>\n",
       "      <td>1988.4</td>\n",
       "      <td>2000.8</td>\n",
       "      <td>OFH</td>\n",
       "    </tr>\n",
       "    <tr>\n",
       "      <th>24</th>\n",
       "      <td>hen_120</td>\n",
       "      <td>9</td>\n",
       "      <td>LEXP</td>\n",
       "      <td>3.0</td>\n",
       "      <td>2020-06-12</td>\n",
       "      <td>0.0</td>\n",
       "      <td>1204.0</td>\n",
       "      <td>NaN</td>\n",
       "      <td>1642.3</td>\n",
       "      <td>1722.8</td>\n",
       "      <td>1772.7</td>\n",
       "      <td>1819.5</td>\n",
       "      <td>1820.9</td>\n",
       "      <td>OFH</td>\n",
       "    </tr>\n",
       "    <tr>\n",
       "      <th>156</th>\n",
       "      <td>hen_30</td>\n",
       "      <td>3</td>\n",
       "      <td>REXP</td>\n",
       "      <td>1.0</td>\n",
       "      <td>2020-06-12</td>\n",
       "      <td>0.0</td>\n",
       "      <td>1154.0</td>\n",
       "      <td>NaN</td>\n",
       "      <td>NaN</td>\n",
       "      <td>NaN</td>\n",
       "      <td>NaN</td>\n",
       "      <td>NaN</td>\n",
       "      <td>NaN</td>\n",
       "      <td>OFH</td>\n",
       "    </tr>\n",
       "    <tr>\n",
       "      <th>159</th>\n",
       "      <td>hen_33</td>\n",
       "      <td>11</td>\n",
       "      <td>REXP</td>\n",
       "      <td>1.0</td>\n",
       "      <td>2020-06-12</td>\n",
       "      <td>0.0</td>\n",
       "      <td>1208.0</td>\n",
       "      <td>NaN</td>\n",
       "      <td>NaN</td>\n",
       "      <td>NaN</td>\n",
       "      <td>NaN</td>\n",
       "      <td>NaN</td>\n",
       "      <td>NaN</td>\n",
       "      <td>OFH</td>\n",
       "    </tr>\n",
       "    <tr>\n",
       "      <th>160</th>\n",
       "      <td>hen_34</td>\n",
       "      <td>5</td>\n",
       "      <td>REXP</td>\n",
       "      <td>1.0</td>\n",
       "      <td>2020-06-12</td>\n",
       "      <td>0.0</td>\n",
       "      <td>1218.0</td>\n",
       "      <td>NaN</td>\n",
       "      <td>1639.3</td>\n",
       "      <td>1720.5</td>\n",
       "      <td>1749.7</td>\n",
       "      <td>NaN</td>\n",
       "      <td>NaN</td>\n",
       "      <td>OFH</td>\n",
       "    </tr>\n",
       "    <tr>\n",
       "      <th>161</th>\n",
       "      <td>hen_35</td>\n",
       "      <td>5</td>\n",
       "      <td>REXP</td>\n",
       "      <td>1.0</td>\n",
       "      <td>2020-06-12</td>\n",
       "      <td>0.0</td>\n",
       "      <td>1240.0</td>\n",
       "      <td>NaN</td>\n",
       "      <td>NaN</td>\n",
       "      <td>NaN</td>\n",
       "      <td>NaN</td>\n",
       "      <td>NaN</td>\n",
       "      <td>NaN</td>\n",
       "      <td>OFH</td>\n",
       "    </tr>\n",
       "    <tr>\n",
       "      <th>162</th>\n",
       "      <td>hen_36</td>\n",
       "      <td>5</td>\n",
       "      <td>REXP</td>\n",
       "      <td>1.0</td>\n",
       "      <td>2020-06-12</td>\n",
       "      <td>0.0</td>\n",
       "      <td>1202.0</td>\n",
       "      <td>NaN</td>\n",
       "      <td>NaN</td>\n",
       "      <td>NaN</td>\n",
       "      <td>NaN</td>\n",
       "      <td>NaN</td>\n",
       "      <td>NaN</td>\n",
       "      <td>OFH</td>\n",
       "    </tr>\n",
       "    <tr>\n",
       "      <th>163</th>\n",
       "      <td>hen_37</td>\n",
       "      <td>11</td>\n",
       "      <td>REXP</td>\n",
       "      <td>1.0</td>\n",
       "      <td>2020-06-12</td>\n",
       "      <td>0.0</td>\n",
       "      <td>1184.0</td>\n",
       "      <td>NaN</td>\n",
       "      <td>NaN</td>\n",
       "      <td>NaN</td>\n",
       "      <td>NaN</td>\n",
       "      <td>NaN</td>\n",
       "      <td>NaN</td>\n",
       "      <td>OFH</td>\n",
       "    </tr>\n",
       "    <tr>\n",
       "      <th>164</th>\n",
       "      <td>hen_38</td>\n",
       "      <td>3</td>\n",
       "      <td>REXP</td>\n",
       "      <td>1.0</td>\n",
       "      <td>2020-06-12</td>\n",
       "      <td>0.0</td>\n",
       "      <td>1178.0</td>\n",
       "      <td>NaN</td>\n",
       "      <td>NaN</td>\n",
       "      <td>NaN</td>\n",
       "      <td>NaN</td>\n",
       "      <td>NaN</td>\n",
       "      <td>NaN</td>\n",
       "      <td>OFH</td>\n",
       "    </tr>\n",
       "    <tr>\n",
       "      <th>165</th>\n",
       "      <td>hen_39</td>\n",
       "      <td>11</td>\n",
       "      <td>REXP</td>\n",
       "      <td>1.0</td>\n",
       "      <td>2020-06-12</td>\n",
       "      <td>0.0</td>\n",
       "      <td>1070.0</td>\n",
       "      <td>NaN</td>\n",
       "      <td>1559.0</td>\n",
       "      <td>1768.0</td>\n",
       "      <td>1779.2</td>\n",
       "      <td>NaN</td>\n",
       "      <td>NaN</td>\n",
       "      <td>OFH</td>\n",
       "    </tr>\n",
       "    <tr>\n",
       "      <th>167</th>\n",
       "      <td>hen_40</td>\n",
       "      <td>3</td>\n",
       "      <td>REXP</td>\n",
       "      <td>1.0</td>\n",
       "      <td>2020-06-12</td>\n",
       "      <td>0.0</td>\n",
       "      <td>1258.0</td>\n",
       "      <td>NaN</td>\n",
       "      <td>1707.6</td>\n",
       "      <td>1674.8</td>\n",
       "      <td>1748.6</td>\n",
       "      <td>NaN</td>\n",
       "      <td>NaN</td>\n",
       "      <td>OFH</td>\n",
       "    </tr>\n",
       "    <tr>\n",
       "      <th>222</th>\n",
       "      <td>hen_90</td>\n",
       "      <td>9</td>\n",
       "      <td>LEXP</td>\n",
       "      <td>3.0</td>\n",
       "      <td>2020-06-12</td>\n",
       "      <td>0.0</td>\n",
       "      <td>1088.0</td>\n",
       "      <td>NaN</td>\n",
       "      <td>1520.9</td>\n",
       "      <td>1663.3</td>\n",
       "      <td>1764.0</td>\n",
       "      <td>1816.5</td>\n",
       "      <td>1745.6</td>\n",
       "      <td>OFH</td>\n",
       "    </tr>\n",
       "    <tr>\n",
       "      <th>223</th>\n",
       "      <td>hen_91</td>\n",
       "      <td>11</td>\n",
       "      <td>REXP</td>\n",
       "      <td>3.0</td>\n",
       "      <td>2020-06-12</td>\n",
       "      <td>0.0</td>\n",
       "      <td>1178.0</td>\n",
       "      <td>NaN</td>\n",
       "      <td>1712.3</td>\n",
       "      <td>NaN</td>\n",
       "      <td>NaN</td>\n",
       "      <td>NaN</td>\n",
       "      <td>NaN</td>\n",
       "      <td>OFH</td>\n",
       "    </tr>\n",
       "  </tbody>\n",
       "</table>\n",
       "</div>"
      ],
      "text/plain": [
       "       HenID  PenID CLASS  R-Pen InitialStartDate  early_death  29-09 weight  \\\n",
       "18   hen_115      3  LEXP    3.0       2020-06-12          0.0        1130.0   \n",
       "19   hen_116      9  LEXP    3.0       2020-06-12          0.0        1190.0   \n",
       "20   hen_117     11  REXP    3.0       2020-06-12          0.0        1158.0   \n",
       "21   hen_118     11  REXP    3.0       2020-06-12          0.0        1144.0   \n",
       "22   hen_119      5  LEXP    3.0       2020-06-12          0.0        1200.0   \n",
       "24   hen_120      9  LEXP    3.0       2020-06-12          0.0        1204.0   \n",
       "156   hen_30      3  REXP    1.0       2020-06-12          0.0        1154.0   \n",
       "159   hen_33     11  REXP    1.0       2020-06-12          0.0        1208.0   \n",
       "160   hen_34      5  REXP    1.0       2020-06-12          0.0        1218.0   \n",
       "161   hen_35      5  REXP    1.0       2020-06-12          0.0        1240.0   \n",
       "162   hen_36      5  REXP    1.0       2020-06-12          0.0        1202.0   \n",
       "163   hen_37     11  REXP    1.0       2020-06-12          0.0        1184.0   \n",
       "164   hen_38      3  REXP    1.0       2020-06-12          0.0        1178.0   \n",
       "165   hen_39     11  REXP    1.0       2020-06-12          0.0        1070.0   \n",
       "167   hen_40      3  REXP    1.0       2020-06-12          0.0        1258.0   \n",
       "222   hen_90      9  LEXP    3.0       2020-06-12          0.0        1088.0   \n",
       "223   hen_91     11  REXP    3.0       2020-06-12          0.0        1178.0   \n",
       "\n",
       "     10-12 juin weight  weight 23-11-2020  weight 04-01-2021  weight 01-02-21  \\\n",
       "18                 NaN             1705.4             1717.4           1787.7   \n",
       "19                 NaN             1606.1             1796.4           1878.9   \n",
       "20                 NaN             1632.2                NaN              NaN   \n",
       "21                 NaN             1540.0             1693.9           1687.5   \n",
       "22                 NaN             1707.4             1788.6           1806.5   \n",
       "24                 NaN             1642.3             1722.8           1772.7   \n",
       "156                NaN                NaN                NaN              NaN   \n",
       "159                NaN                NaN                NaN              NaN   \n",
       "160                NaN             1639.3             1720.5           1749.7   \n",
       "161                NaN                NaN                NaN              NaN   \n",
       "162                NaN                NaN                NaN              NaN   \n",
       "163                NaN                NaN                NaN              NaN   \n",
       "164                NaN                NaN                NaN              NaN   \n",
       "165                NaN             1559.0             1768.0           1779.2   \n",
       "167                NaN             1707.6             1674.8           1748.6   \n",
       "222                NaN             1520.9             1663.3           1764.0   \n",
       "223                NaN             1712.3                NaN              NaN   \n",
       "\n",
       "     weight 12-04-21  weight 26-07-21 Treatment  \n",
       "18            1861.7           1845.9       OFH  \n",
       "19            1952.3           2022.1       OFH  \n",
       "20               NaN              NaN       OFH  \n",
       "21            1755.2           1759.3       OFH  \n",
       "22            1988.4           2000.8       OFH  \n",
       "24            1819.5           1820.9       OFH  \n",
       "156              NaN              NaN       OFH  \n",
       "159              NaN              NaN       OFH  \n",
       "160              NaN              NaN       OFH  \n",
       "161              NaN              NaN       OFH  \n",
       "162              NaN              NaN       OFH  \n",
       "163              NaN              NaN       OFH  \n",
       "164              NaN              NaN       OFH  \n",
       "165              NaN              NaN       OFH  \n",
       "167              NaN              NaN       OFH  \n",
       "222           1816.5           1745.6       OFH  \n",
       "223              NaN              NaN       OFH  "
      ]
     },
     "execution_count": 36,
     "metadata": {},
     "output_type": "execute_result"
    }
   ],
   "source": [
    "#already NA in the 10-12 juin so it means its on the 10th all, i.e. DOA 7\n",
    "df_FB[df_FB['InitialStartDate']==dt.datetime(2020,6,12)]"
   ]
  },
  {
   "cell_type": "markdown",
   "metadata": {},
   "source": [
    "df_FB['12 juin weight'] = df_FB.apply(lambda x: x['10-12 juin weight'] if x['InitialStartDate']==dt.datetime(2020,6,12) else np.nan, axis=1)\n",
    "df_FB['10 juin weight'] = df_FB.apply(lambda x: x['10-12 juin weight'] if x['InitialStartDate']==dt.datetime(2020,6,10) else np.nan, axis=1)\n",
    "df_FB[['12 juin weight','10 juin weight','10-12 juin weight']]\n",
    "#we did not weight them on the 12th!\n",
    "df_FB[df_FB['InitialStartDate']==dt.datetime(2020,6,12)]"
   ]
  },
  {
   "cell_type": "code",
   "execution_count": 37,
   "metadata": {},
   "outputs": [
    {
     "data": {
      "text/plain": [
       "2020-06-10    133\n",
       "2020-11-23     18\n",
       "2020-06-12     17\n",
       "2021-04-12     17\n",
       "2021-02-01     16\n",
       "2020-10-08     15\n",
       "2020-09-29     10\n",
       "2020-10-13      1\n",
       "2020-10-20      1\n",
       "2020-10-30      1\n",
       "2021-02-08      1\n",
       "2021-02-22      1\n",
       "2020-06-17      1\n",
       "Name: InitialStartDate, dtype: int64"
      ]
     },
     "execution_count": 37,
     "metadata": {},
     "output_type": "execute_result"
    }
   ],
   "source": [
    "df_FB['InitialStartDate'].value_counts()"
   ]
  },
  {
   "cell_type": "code",
   "execution_count": 38,
   "metadata": {},
   "outputs": [
    {
     "data": {
      "text/plain": [
       "array(['pen_9', 'pen_11', 'pen_5', 'pen_3', 'pen_12', 'pen_4', 'pen_8',\n",
       "       'pen_10'], dtype=object)"
      ]
     },
     "execution_count": 38,
     "metadata": {},
     "output_type": "execute_result"
    }
   ],
   "source": [
    "#save file for OFH chapter to use in R to fit growth curve\n",
    "df_FB['PenID'] = df_FB['PenID'].map(lambda x: 'pen_'+str(x))\n",
    "df_FB['PenID'].unique()"
   ]
  },
  {
   "cell_type": "code",
   "execution_count": 39,
   "metadata": {},
   "outputs": [
    {
     "name": "stdout",
     "output_type": "stream",
     "text": [
      "['29-09 weight', '10-12 juin weight', 'weight 23-11-2020', 'weight 04-01-2021', 'weight 01-02-21', 'weight 12-04-21', 'weight 26-07-21']\n"
     ]
    },
    {
     "data": {
      "text/html": [
       "<div>\n",
       "<style scoped>\n",
       "    .dataframe tbody tr th:only-of-type {\n",
       "        vertical-align: middle;\n",
       "    }\n",
       "\n",
       "    .dataframe tbody tr th {\n",
       "        vertical-align: top;\n",
       "    }\n",
       "\n",
       "    .dataframe thead th {\n",
       "        text-align: right;\n",
       "    }\n",
       "</style>\n",
       "<table border=\"1\" class=\"dataframe\">\n",
       "  <thead>\n",
       "    <tr style=\"text-align: right;\">\n",
       "      <th></th>\n",
       "      <th>HenID</th>\n",
       "      <th>Treatment</th>\n",
       "      <th>CLASS</th>\n",
       "      <th>PenID</th>\n",
       "      <th>R-Pen</th>\n",
       "      <th>variable</th>\n",
       "      <th>weight</th>\n",
       "    </tr>\n",
       "  </thead>\n",
       "  <tbody>\n",
       "    <tr>\n",
       "      <th>0</th>\n",
       "      <td>hen_1</td>\n",
       "      <td>OFH</td>\n",
       "      <td>REXP</td>\n",
       "      <td>pen_9</td>\n",
       "      <td>1.0</td>\n",
       "      <td>29-09 weight</td>\n",
       "      <td>1134.0</td>\n",
       "    </tr>\n",
       "    <tr>\n",
       "      <th>1</th>\n",
       "      <td>hen_10</td>\n",
       "      <td>OFH</td>\n",
       "      <td>LEXP</td>\n",
       "      <td>pen_11</td>\n",
       "      <td>1.0</td>\n",
       "      <td>29-09 weight</td>\n",
       "      <td>1070.0</td>\n",
       "    </tr>\n",
       "    <tr>\n",
       "      <th>2</th>\n",
       "      <td>hen_100</td>\n",
       "      <td>OFH</td>\n",
       "      <td>REXP</td>\n",
       "      <td>pen_5</td>\n",
       "      <td>3.0</td>\n",
       "      <td>29-09 weight</td>\n",
       "      <td>1182.0</td>\n",
       "    </tr>\n",
       "  </tbody>\n",
       "</table>\n",
       "</div>"
      ],
      "text/plain": [
       "     HenID Treatment CLASS   PenID  R-Pen      variable  weight\n",
       "0    hen_1       OFH  REXP   pen_9    1.0  29-09 weight  1134.0\n",
       "1   hen_10       OFH  LEXP  pen_11    1.0  29-09 weight  1070.0\n",
       "2  hen_100       OFH  REXP   pen_5    3.0  29-09 weight  1182.0"
      ]
     },
     "execution_count": 39,
     "metadata": {},
     "output_type": "execute_result"
    }
   ],
   "source": [
    "li_weight = [i for i in df_FB.columns if ('weight' in i)]\n",
    "print(li_weight)\n",
    "df_FB_ = pd.melt(df_FB, id_vars=['HenID','Treatment','CLASS','PenID','R-Pen'], value_vars=li_weight, value_name = 'weight')\n",
    "df_FB_.head(3)"
   ]
  },
  {
   "cell_type": "code",
   "execution_count": 40,
   "metadata": {},
   "outputs": [
    {
     "name": "stdout",
     "output_type": "stream",
     "text": [
      "(1624, 9)\n"
     ]
    },
    {
     "data": {
      "text/html": [
       "<div>\n",
       "<style scoped>\n",
       "    .dataframe tbody tr th:only-of-type {\n",
       "        vertical-align: middle;\n",
       "    }\n",
       "\n",
       "    .dataframe tbody tr th {\n",
       "        vertical-align: top;\n",
       "    }\n",
       "\n",
       "    .dataframe thead th {\n",
       "        text-align: right;\n",
       "    }\n",
       "</style>\n",
       "<table border=\"1\" class=\"dataframe\">\n",
       "  <thead>\n",
       "    <tr style=\"text-align: right;\">\n",
       "      <th></th>\n",
       "      <th>HenID</th>\n",
       "      <th>Treatment</th>\n",
       "      <th>CLASS</th>\n",
       "      <th>PenID</th>\n",
       "      <th>R-Pen</th>\n",
       "      <th>variable</th>\n",
       "      <th>weight</th>\n",
       "      <th>date</th>\n",
       "      <th>DOA</th>\n",
       "    </tr>\n",
       "  </thead>\n",
       "  <tbody>\n",
       "    <tr>\n",
       "      <th>405</th>\n",
       "      <td>hen_46</td>\n",
       "      <td>TRAN</td>\n",
       "      <td>REXP</td>\n",
       "      <td>pen_10</td>\n",
       "      <td>2.0</td>\n",
       "      <td>10-12 juin weight</td>\n",
       "      <td>63.6</td>\n",
       "      <td>2020-06-10</td>\n",
       "      <td>7</td>\n",
       "    </tr>\n",
       "    <tr>\n",
       "      <th>316</th>\n",
       "      <td>hen_175</td>\n",
       "      <td>TRAN</td>\n",
       "      <td>REXP</td>\n",
       "      <td>pen_12</td>\n",
       "      <td>NaN</td>\n",
       "      <td>10-12 juin weight</td>\n",
       "      <td>NaN</td>\n",
       "      <td>2020-06-10</td>\n",
       "      <td>7</td>\n",
       "    </tr>\n",
       "    <tr>\n",
       "      <th>315</th>\n",
       "      <td>hen_174</td>\n",
       "      <td>TRAN</td>\n",
       "      <td>REXP</td>\n",
       "      <td>pen_4</td>\n",
       "      <td>NaN</td>\n",
       "      <td>10-12 juin weight</td>\n",
       "      <td>NaN</td>\n",
       "      <td>2020-06-10</td>\n",
       "      <td>7</td>\n",
       "    </tr>\n",
       "  </tbody>\n",
       "</table>\n",
       "</div>"
      ],
      "text/plain": [
       "       HenID Treatment CLASS   PenID  R-Pen           variable  weight  \\\n",
       "405   hen_46      TRAN  REXP  pen_10    2.0  10-12 juin weight    63.6   \n",
       "316  hen_175      TRAN  REXP  pen_12    NaN  10-12 juin weight     NaN   \n",
       "315  hen_174      TRAN  REXP   pen_4    NaN  10-12 juin weight     NaN   \n",
       "\n",
       "          date  DOA  \n",
       "405 2020-06-10    7  \n",
       "316 2020-06-10    7  \n",
       "315 2020-06-10    7  "
      ]
     },
     "execution_count": 40,
     "metadata": {},
     "output_type": "execute_result"
    }
   ],
   "source": [
    "dico_name_date = {'29-09 weight':dt.datetime(2020,9,29), \n",
    "                  '10-12 juin weight':dt.datetime(2020,6,10), #we did not weight them on the 12th!\n",
    "                  'weight 23-11-2020':dt.datetime(2020,11,23), \n",
    "                  'weight 04-01-2021':dt.datetime(2021,1,4), \n",
    "                  'weight 01-02-21':dt.datetime(2021,2,1), \n",
    "                  'weight 12-04-21':dt.datetime(2021,4,12), \n",
    "                  'weight 26-07-21':dt.datetime(2021,7,25)} #we did it on the 25 actually\n",
    "df_FB_['date'] = df_FB_['variable'].map(lambda x:dico_name_date[x])\n",
    "df_FB_['DOA'] = df_FB_['date'].map(lambda x: (x-dt.datetime(2020,6,3)).days) \n",
    "df_FB_ = df_FB_.sort_values('DOA')\n",
    "print(df_FB_.shape)\n",
    "df_FB_.head(3)"
   ]
  },
  {
   "cell_type": "code",
   "execution_count": 41,
   "metadata": {},
   "outputs": [
    {
     "data": {
      "image/png": "[encoded data removed]",
      "text/plain": [
       "<Figure size 432x288 with 1 Axes>"
      ]
     },
     "metadata": {
      "needs_background": "light"
     },
     "output_type": "display_data"
    }
   ],
   "source": [
    "#plt.figure(figsize=(10,10))\n",
    "#sns.lineplot(x='DOA',y='weight',hue='Treatment', data=df_FB_);\n",
    "sns.boxplot(x='DOA',y='weight',hue='Treatment', data=df_FB_);"
   ]
  },
  {
   "cell_type": "code",
   "execution_count": 42,
   "metadata": {},
   "outputs": [
    {
     "data": {
      "image/png": "[encoded data removed]",
      "text/plain": [
       "<Figure size 432x288 with 1 Axes>"
      ]
     },
     "metadata": {
      "needs_background": "light"
     },
     "output_type": "display_data"
    }
   ],
   "source": [
    "sns.boxplot(x='DOA',y='weight',hue='Treatment', data=df_FB_[df_FB_['DOA']==7]);"
   ]
  },
  {
   "cell_type": "code",
   "execution_count": 43,
   "metadata": {},
   "outputs": [
    {
     "data": {
      "text/html": [
       "<div>\n",
       "<style scoped>\n",
       "    .dataframe tbody tr th:only-of-type {\n",
       "        vertical-align: middle;\n",
       "    }\n",
       "\n",
       "    .dataframe tbody tr th {\n",
       "        vertical-align: top;\n",
       "    }\n",
       "\n",
       "    .dataframe thead th {\n",
       "        text-align: right;\n",
       "    }\n",
       "</style>\n",
       "<table border=\"1\" class=\"dataframe\">\n",
       "  <thead>\n",
       "    <tr style=\"text-align: right;\">\n",
       "      <th></th>\n",
       "      <th>HenID</th>\n",
       "      <th>Treatment</th>\n",
       "      <th>CLASS</th>\n",
       "      <th>PenID</th>\n",
       "      <th>R-Pen</th>\n",
       "      <th>variable</th>\n",
       "      <th>weight</th>\n",
       "      <th>date</th>\n",
       "      <th>DOA</th>\n",
       "    </tr>\n",
       "  </thead>\n",
       "  <tbody>\n",
       "    <tr>\n",
       "      <th>405</th>\n",
       "      <td>hen_46</td>\n",
       "      <td>TRAN</td>\n",
       "      <td>REXP</td>\n",
       "      <td>pen_10</td>\n",
       "      <td>2.0</td>\n",
       "      <td>10-12 juin weight</td>\n",
       "      <td>63.6</td>\n",
       "      <td>2020-06-10</td>\n",
       "      <td>7</td>\n",
       "    </tr>\n",
       "    <tr>\n",
       "      <th>316</th>\n",
       "      <td>hen_175</td>\n",
       "      <td>TRAN</td>\n",
       "      <td>REXP</td>\n",
       "      <td>pen_12</td>\n",
       "      <td>NaN</td>\n",
       "      <td>10-12 juin weight</td>\n",
       "      <td>NaN</td>\n",
       "      <td>2020-06-10</td>\n",
       "      <td>7</td>\n",
       "    </tr>\n",
       "    <tr>\n",
       "      <th>315</th>\n",
       "      <td>hen_174</td>\n",
       "      <td>TRAN</td>\n",
       "      <td>REXP</td>\n",
       "      <td>pen_4</td>\n",
       "      <td>NaN</td>\n",
       "      <td>10-12 juin weight</td>\n",
       "      <td>NaN</td>\n",
       "      <td>2020-06-10</td>\n",
       "      <td>7</td>\n",
       "    </tr>\n",
       "  </tbody>\n",
       "</table>\n",
       "</div>"
      ],
      "text/plain": [
       "       HenID Treatment CLASS   PenID  R-Pen           variable  weight  \\\n",
       "405   hen_46      TRAN  REXP  pen_10    2.0  10-12 juin weight    63.6   \n",
       "316  hen_175      TRAN  REXP  pen_12    NaN  10-12 juin weight     NaN   \n",
       "315  hen_174      TRAN  REXP   pen_4    NaN  10-12 juin weight     NaN   \n",
       "\n",
       "          date  DOA  \n",
       "405 2020-06-10    7  \n",
       "316 2020-06-10    7  \n",
       "315 2020-06-10    7  "
      ]
     },
     "execution_count": 43,
     "metadata": {},
     "output_type": "execute_result"
    }
   ],
   "source": [
    "df_FB_.head(3)"
   ]
  },
  {
   "cell_type": "code",
   "execution_count": 44,
   "metadata": {},
   "outputs": [
    {
     "name": "stdout",
     "output_type": "stream",
     "text": [
      "(1624, 9)\n"
     ]
    },
    {
     "name": "stderr",
     "output_type": "stream",
     "text": [
      "100%|██████████████████████████████████████████████████████████████████████████████████| 7/7 [00:00<00:00, 1403.78it/s]"
     ]
    },
    {
     "name": "stdout",
     "output_type": "stream",
     "text": [
      "(1624, 10)\n"
     ]
    },
    {
     "name": "stderr",
     "output_type": "stream",
     "text": [
      "\n"
     ]
    },
    {
     "data": {
      "text/html": [
       "<div>\n",
       "<style scoped>\n",
       "    .dataframe tbody tr th:only-of-type {\n",
       "        vertical-align: middle;\n",
       "    }\n",
       "\n",
       "    .dataframe tbody tr th {\n",
       "        vertical-align: top;\n",
       "    }\n",
       "\n",
       "    .dataframe thead th {\n",
       "        text-align: right;\n",
       "    }\n",
       "</style>\n",
       "<table border=\"1\" class=\"dataframe\">\n",
       "  <thead>\n",
       "    <tr style=\"text-align: right;\">\n",
       "      <th></th>\n",
       "      <th>HenID</th>\n",
       "      <th>Treatment</th>\n",
       "      <th>CLASS</th>\n",
       "      <th>PenID</th>\n",
       "      <th>R-Pen</th>\n",
       "      <th>variable</th>\n",
       "      <th>weight</th>\n",
       "      <th>date</th>\n",
       "      <th>DOA</th>\n",
       "      <th>weight_norm</th>\n",
       "    </tr>\n",
       "  </thead>\n",
       "  <tbody>\n",
       "    <tr>\n",
       "      <th>405</th>\n",
       "      <td>hen_46</td>\n",
       "      <td>TRAN</td>\n",
       "      <td>REXP</td>\n",
       "      <td>pen_10</td>\n",
       "      <td>2.0</td>\n",
       "      <td>10-12 juin weight</td>\n",
       "      <td>63.6</td>\n",
       "      <td>2020-06-10</td>\n",
       "      <td>7</td>\n",
       "      <td>0.470219</td>\n",
       "    </tr>\n",
       "    <tr>\n",
       "      <th>316</th>\n",
       "      <td>hen_175</td>\n",
       "      <td>TRAN</td>\n",
       "      <td>REXP</td>\n",
       "      <td>pen_12</td>\n",
       "      <td>NaN</td>\n",
       "      <td>10-12 juin weight</td>\n",
       "      <td>NaN</td>\n",
       "      <td>2020-06-10</td>\n",
       "      <td>7</td>\n",
       "      <td>NaN</td>\n",
       "    </tr>\n",
       "    <tr>\n",
       "      <th>315</th>\n",
       "      <td>hen_174</td>\n",
       "      <td>TRAN</td>\n",
       "      <td>REXP</td>\n",
       "      <td>pen_4</td>\n",
       "      <td>NaN</td>\n",
       "      <td>10-12 juin weight</td>\n",
       "      <td>NaN</td>\n",
       "      <td>2020-06-10</td>\n",
       "      <td>7</td>\n",
       "      <td>NaN</td>\n",
       "    </tr>\n",
       "  </tbody>\n",
       "</table>\n",
       "</div>"
      ],
      "text/plain": [
       "       HenID Treatment CLASS   PenID  R-Pen           variable  weight  \\\n",
       "405   hen_46      TRAN  REXP  pen_10    2.0  10-12 juin weight    63.6   \n",
       "316  hen_175      TRAN  REXP  pen_12    NaN  10-12 juin weight     NaN   \n",
       "315  hen_174      TRAN  REXP   pen_4    NaN  10-12 juin weight     NaN   \n",
       "\n",
       "          date  DOA  weight_norm  \n",
       "405 2020-06-10    7     0.470219  \n",
       "316 2020-06-10    7          NaN  \n",
       "315 2020-06-10    7          NaN  "
      ]
     },
     "execution_count": 44,
     "metadata": {},
     "output_type": "execute_result"
    }
   ],
   "source": [
    "#normalising distinctiveness per degree for the triangle network\n",
    "type_ = 'weight'\n",
    "li_df = []\n",
    "print(df_FB_.shape)\n",
    "for comp,df_FB__ in tqdm.tqdm(df_FB_.groupby('date')):\n",
    "    df_FB__[type_+'_norm'] = (df_FB__['weight']-df_FB__['weight'].min())/(df_FB__['weight'].max()-df_FB__['weight'].min())\n",
    "    li_df.append(df_FB__)\n",
    "df_FB_F = pd.concat(li_df)\n",
    "print(df_FB_F.shape)\n",
    "df_FB_F.head(3)"
   ]
  },
  {
   "cell_type": "code",
   "execution_count": 45,
   "metadata": {},
   "outputs": [
    {
     "data": {
      "image/png": "[encoded data removed]",
      "text/plain": [
       "<Figure size 432x288 with 1 Axes>"
      ]
     },
     "metadata": {
      "needs_background": "light"
     },
     "output_type": "display_data"
    }
   ],
   "source": [
    "plt.hist(df_FB_F['weight_norm']);"
   ]
  },
  {
   "cell_type": "code",
   "execution_count": 46,
   "metadata": {},
   "outputs": [
    {
     "name": "stdout",
     "output_type": "stream",
     "text": [
      "(1121, 10)\n"
     ]
    }
   ],
   "source": [
    "df_FB_F = df_FB_F[~df_FB_F['weight'].isnull()]\n",
    "print(df_FB_F.shape)\n",
    "df_FB_F.to_csv(os.path.join(path_extracted_data, 'OFH_df_FOCALBIRDS.csv'), index=False, sep=',')"
   ]
  },
  {
   "cell_type": "code",
   "execution_count": null,
   "metadata": {},
   "outputs": [],
   "source": []
  },
  {
   "cell_type": "code",
   "execution_count": null,
   "metadata": {},
   "outputs": [],
   "source": []
  },
  {
   "cell_type": "code",
   "execution_count": null,
   "metadata": {},
   "outputs": [],
   "source": []
  },
  {
   "cell_type": "markdown",
   "metadata": {},
   "source": [
    "# reopen small check"
   ]
  },
  {
   "cell_type": "code",
   "execution_count": 47,
   "metadata": {},
   "outputs": [],
   "source": [
    "from scipy.stats import pearsonr, spearmanr"
   ]
  },
  {
   "cell_type": "code",
   "execution_count": 48,
   "metadata": {},
   "outputs": [
    {
     "name": "stdout",
     "output_type": "stream",
     "text": [
      "(38303, 36)\n"
     ]
    },
    {
     "data": {
      "text/html": [
       "<div>\n",
       "<style scoped>\n",
       "    .dataframe tbody tr th:only-of-type {\n",
       "        vertical-align: middle;\n",
       "    }\n",
       "\n",
       "    .dataframe tbody tr th {\n",
       "        vertical-align: top;\n",
       "    }\n",
       "\n",
       "    .dataframe thead th {\n",
       "        text-align: right;\n",
       "    }\n",
       "</style>\n",
       "<table border=\"1\" class=\"dataframe\">\n",
       "  <thead>\n",
       "    <tr style=\"text-align: right;\">\n",
       "      <th></th>\n",
       "      <th>HenID</th>\n",
       "      <th>PenID</th>\n",
       "      <th>level</th>\n",
       "      <th>Treatment</th>\n",
       "      <th>CLASS</th>\n",
       "      <th>DOA</th>\n",
       "      <th>WOA</th>\n",
       "      <th>DIB</th>\n",
       "      <th>WIB</th>\n",
       "      <th>weight_interp</th>\n",
       "      <th>...</th>\n",
       "      <th>perc_duration_1_Zone_nonan</th>\n",
       "      <th>propindoor_duration_5_Zone</th>\n",
       "      <th>propindoor_duration_4_Zone</th>\n",
       "      <th>propindoor_duration_2_Zone</th>\n",
       "      <th>propindoor_duration_5_Zone_rs</th>\n",
       "      <th>propindoor_duration_4_Zone_rs</th>\n",
       "      <th>propindoor_duration_2_Zone_rs</th>\n",
       "      <th>went_litter</th>\n",
       "      <th>stayed_top_tier</th>\n",
       "      <th>monthILB</th>\n",
       "    </tr>\n",
       "  </thead>\n",
       "  <tbody>\n",
       "    <tr>\n",
       "      <th>0</th>\n",
       "      <td>hen_130</td>\n",
       "      <td>pen10</td>\n",
       "      <td>2020-10-05</td>\n",
       "      <td>TRAN</td>\n",
       "      <td>REXP</td>\n",
       "      <td>124</td>\n",
       "      <td>18</td>\n",
       "      <td>6</td>\n",
       "      <td>1</td>\n",
       "      <td>NaN</td>\n",
       "      <td>...</td>\n",
       "      <td>0.0</td>\n",
       "      <td>1.00</td>\n",
       "      <td>NaN</td>\n",
       "      <td>0.00</td>\n",
       "      <td>0.9900</td>\n",
       "      <td>NaN</td>\n",
       "      <td>0.0100</td>\n",
       "      <td>0</td>\n",
       "      <td>1</td>\n",
       "      <td>month1</td>\n",
       "    </tr>\n",
       "    <tr>\n",
       "      <th>1</th>\n",
       "      <td>hen_130</td>\n",
       "      <td>pen10</td>\n",
       "      <td>2020-10-06</td>\n",
       "      <td>TRAN</td>\n",
       "      <td>REXP</td>\n",
       "      <td>125</td>\n",
       "      <td>18</td>\n",
       "      <td>7</td>\n",
       "      <td>1</td>\n",
       "      <td>NaN</td>\n",
       "      <td>...</td>\n",
       "      <td>0.0</td>\n",
       "      <td>0.97</td>\n",
       "      <td>NaN</td>\n",
       "      <td>0.00</td>\n",
       "      <td>0.9606</td>\n",
       "      <td>NaN</td>\n",
       "      <td>0.0100</td>\n",
       "      <td>0</td>\n",
       "      <td>0</td>\n",
       "      <td>month1</td>\n",
       "    </tr>\n",
       "    <tr>\n",
       "      <th>2</th>\n",
       "      <td>hen_130</td>\n",
       "      <td>pen10</td>\n",
       "      <td>2020-10-07</td>\n",
       "      <td>TRAN</td>\n",
       "      <td>REXP</td>\n",
       "      <td>126</td>\n",
       "      <td>18</td>\n",
       "      <td>8</td>\n",
       "      <td>2</td>\n",
       "      <td>NaN</td>\n",
       "      <td>...</td>\n",
       "      <td>0.0</td>\n",
       "      <td>0.98</td>\n",
       "      <td>NaN</td>\n",
       "      <td>0.01</td>\n",
       "      <td>0.9704</td>\n",
       "      <td>NaN</td>\n",
       "      <td>0.0198</td>\n",
       "      <td>1</td>\n",
       "      <td>0</td>\n",
       "      <td>month1</td>\n",
       "    </tr>\n",
       "  </tbody>\n",
       "</table>\n",
       "<p>3 rows × 36 columns</p>\n",
       "</div>"
      ],
      "text/plain": [
       "     HenID  PenID       level Treatment CLASS  DOA  WOA  DIB  WIB  \\\n",
       "0  hen_130  pen10  2020-10-05      TRAN  REXP  124   18    6    1   \n",
       "1  hen_130  pen10  2020-10-06      TRAN  REXP  125   18    7    1   \n",
       "2  hen_130  pen10  2020-10-07      TRAN  REXP  126   18    8    2   \n",
       "\n",
       "   weight_interp  ...  perc_duration_1_Zone_nonan  propindoor_duration_5_Zone  \\\n",
       "0            NaN  ...                         0.0                        1.00   \n",
       "1            NaN  ...                         0.0                        0.97   \n",
       "2            NaN  ...                         0.0                        0.98   \n",
       "\n",
       "  propindoor_duration_4_Zone  propindoor_duration_2_Zone  \\\n",
       "0                        NaN                        0.00   \n",
       "1                        NaN                        0.00   \n",
       "2                        NaN                        0.01   \n",
       "\n",
       "   propindoor_duration_5_Zone_rs  propindoor_duration_4_Zone_rs  \\\n",
       "0                         0.9900                            NaN   \n",
       "1                         0.9606                            NaN   \n",
       "2                         0.9704                            NaN   \n",
       "\n",
       "   propindoor_duration_2_Zone_rs  went_litter  stayed_top_tier  monthILB  \n",
       "0                         0.0100            0                1    month1  \n",
       "1                         0.0100            0                0    month1  \n",
       "2                         0.0198            1                0    month1  \n",
       "\n",
       "[3 rows x 36 columns]"
      ]
     },
     "metadata": {},
     "output_type": "display_data"
    }
   ],
   "source": [
    "df = pd.read_csv(os.path.join(path_extracted_data, name+'_df_all_mvt.csv'), sep=',')\n",
    "print(df.shape)\n",
    "display(df.head(3))"
   ]
  },
  {
   "cell_type": "code",
   "execution_count": 49,
   "metadata": {},
   "outputs": [
    {
     "name": "stdout",
     "output_type": "stream",
     "text": [
      "month1\n",
      "SpearmanrResult(correlation=0.1334957987751729, pvalue=4.092903849420788e-17)\n",
      "PearsonRResult(statistic=0.024123341302468126, pvalue=0.1302342549961459)\n",
      "month10\n",
      "SpearmanrResult(correlation=0.6077629257351489, pvalue=6.4420607e-317)\n",
      "PearsonRResult(statistic=0.6343053621417453, pvalue=0.0)\n",
      "month2\n",
      "SpearmanrResult(correlation=-0.7532607541105913, pvalue=0.0)\n",
      "PearsonRResult(statistic=-0.7906747542033394, pvalue=0.0)\n",
      "month3\n",
      "SpearmanrResult(correlation=0.21615606080961172, pvalue=2.3867998431063196e-48)\n",
      "PearsonRResult(statistic=0.20355079189539593, pvalue=5.835399339782808e-43)\n",
      "month4\n",
      "SpearmanrResult(correlation=0.6372478329196734, pvalue=0.0)\n",
      "PearsonRResult(statistic=0.6392578204792503, pvalue=0.0)\n",
      "month5\n",
      "SpearmanrResult(correlation=0.4211028765736844, pvalue=2.9799341473605614e-160)\n",
      "PearsonRResult(statistic=0.39058055774697203, pvalue=3.353053205745251e-136)\n",
      "month6\n",
      "SpearmanrResult(correlation=0.21557060397603836, pvalue=5.4085254092358224e-46)\n",
      "PearsonRResult(statistic=0.2871341973379347, pvalue=1.0797628146171512e-81)\n",
      "month7\n",
      "SpearmanrResult(correlation=0.26319147776181334, pvalue=1.4213704990852787e-66)\n",
      "PearsonRResult(statistic=0.2540843233785523, pvalue=5.076611068360586e-62)\n",
      "month8\n",
      "SpearmanrResult(correlation=0.5165809208240713, pvalue=1.5421710861328907e-298)\n",
      "PearsonRResult(statistic=0.5066951891137758, pvalue=1.8693306841117475e-285)\n",
      "month9\n",
      "SpearmanrResult(correlation=0.5638860053676593, pvalue=2.8410430208405795e-156)\n",
      "PearsonRResult(statistic=0.5369663627983963, pvalue=3.962728863555504e-139)\n"
     ]
    }
   ],
   "source": [
    "df__ = df[~df['temperature_C_avg'].isnull()]\n",
    "for month_,df_ in df__.groupby('monthILB'):\n",
    "    print(month_)\n",
    "    print(spearmanr(df_['DIB'].tolist(), df_['temperature_C_avg'].tolist()))\n",
    "    print(pearsonr(df_['DIB'].tolist(), df_['temperature_C_avg'].tolist()))"
   ]
  },
  {
   "cell_type": "code",
   "execution_count": 50,
   "metadata": {},
   "outputs": [
    {
     "data": {
      "image/png": "[encoded data removed]",
      "text/plain": [
       "<Figure size 576x360 with 1 Axes>"
      ]
     },
     "metadata": {
      "needs_background": "light"
     },
     "output_type": "display_data"
    }
   ],
   "source": [
    "plt.figure(figsize=(8,5))\n",
    "df_ = df[df['monthILB']=='month5']\n",
    "li_hen = df_['HenID'].unique()\n",
    "sns.lineplot(x='DIB',y='propindoor_duration_2_Zone_rs',hue='HenID', data=df_[df_['HenID'].isin(li_hen[0:10])], legend=False);"
   ]
  },
  {
   "cell_type": "code",
   "execution_count": 51,
   "metadata": {},
   "outputs": [
    {
     "data": {
      "image/png": "[encoded data removed]",
      "text/plain": [
       "<Figure size 576x360 with 1 Axes>"
      ]
     },
     "metadata": {
      "needs_background": "light"
     },
     "output_type": "display_data"
    }
   ],
   "source": [
    "plt.figure(figsize=(8,5))\n",
    "df_ = df[df['monthILB']=='month5']\n",
    "li_hen = df_['HenID'].unique()\n",
    "sns.lineplot(x='DIB',y='propindoor_duration_2_Zone_rs',hue='HenID', data=df_[df_['HenID'].isin(li_hen[10:20])], legend=False);"
   ]
  },
  {
   "cell_type": "markdown",
   "metadata": {},
   "source": [
    "## add Rpen"
   ]
  },
  {
   "cell_type": "code",
   "execution_count": 10,
   "metadata": {},
   "outputs": [
    {
     "name": "stdout",
     "output_type": "stream",
     "text": [
      "(1121, 10)\n"
     ]
    },
    {
     "data": {
      "text/html": [
       "<div>\n",
       "<style scoped>\n",
       "    .dataframe tbody tr th:only-of-type {\n",
       "        vertical-align: middle;\n",
       "    }\n",
       "\n",
       "    .dataframe tbody tr th {\n",
       "        vertical-align: top;\n",
       "    }\n",
       "\n",
       "    .dataframe thead th {\n",
       "        text-align: right;\n",
       "    }\n",
       "</style>\n",
       "<table border=\"1\" class=\"dataframe\">\n",
       "  <thead>\n",
       "    <tr style=\"text-align: right;\">\n",
       "      <th></th>\n",
       "      <th>HenID</th>\n",
       "      <th>Treatment</th>\n",
       "      <th>CLASS</th>\n",
       "      <th>PenID</th>\n",
       "      <th>RPenID</th>\n",
       "      <th>variable</th>\n",
       "      <th>weight</th>\n",
       "      <th>date</th>\n",
       "      <th>DOA</th>\n",
       "      <th>weight_norm</th>\n",
       "    </tr>\n",
       "  </thead>\n",
       "  <tbody>\n",
       "    <tr>\n",
       "      <th>0</th>\n",
       "      <td>hen_46</td>\n",
       "      <td>TRAN</td>\n",
       "      <td>REXP</td>\n",
       "      <td>pen_10</td>\n",
       "      <td>Rpen2</td>\n",
       "      <td>10-12 juin weight</td>\n",
       "      <td>63.6</td>\n",
       "      <td>2020-06-10</td>\n",
       "      <td>7</td>\n",
       "      <td>0.470219</td>\n",
       "    </tr>\n",
       "    <tr>\n",
       "      <th>1</th>\n",
       "      <td>hen_17</td>\n",
       "      <td>OFH</td>\n",
       "      <td>LEXP</td>\n",
       "      <td>pen_5</td>\n",
       "      <td>Rpen1</td>\n",
       "      <td>10-12 juin weight</td>\n",
       "      <td>60.4</td>\n",
       "      <td>2020-06-10</td>\n",
       "      <td>7</td>\n",
       "      <td>0.369906</td>\n",
       "    </tr>\n",
       "    <tr>\n",
       "      <th>2</th>\n",
       "      <td>hen_161</td>\n",
       "      <td>TRAN</td>\n",
       "      <td>REXP</td>\n",
       "      <td>pen_10</td>\n",
       "      <td>Rpen4</td>\n",
       "      <td>10-12 juin weight</td>\n",
       "      <td>66.7</td>\n",
       "      <td>2020-06-10</td>\n",
       "      <td>7</td>\n",
       "      <td>0.567398</td>\n",
       "    </tr>\n",
       "  </tbody>\n",
       "</table>\n",
       "</div>"
      ],
      "text/plain": [
       "     HenID Treatment CLASS   PenID RPenID           variable  weight  \\\n",
       "0   hen_46      TRAN  REXP  pen_10  Rpen2  10-12 juin weight    63.6   \n",
       "1   hen_17       OFH  LEXP   pen_5  Rpen1  10-12 juin weight    60.4   \n",
       "2  hen_161      TRAN  REXP  pen_10  Rpen4  10-12 juin weight    66.7   \n",
       "\n",
       "         date  DOA  weight_norm  \n",
       "0  2020-06-10    7     0.470219  \n",
       "1  2020-06-10    7     0.369906  \n",
       "2  2020-06-10    7     0.567398  "
      ]
     },
     "metadata": {},
     "output_type": "display_data"
    }
   ],
   "source": [
    "#Rearing penid is in here\n",
    "df_W = pd.read_csv(os.path.join(path_extracted_data, 'OFH_df_FOCALBIRDS.csv'), sep=',')\n",
    "df_W.rename(columns={'R-Pen':'RPenID'}, inplace=True)\n",
    "df_W.loc[(df_W['RPenID'].isnull())&(df_W['Treatment']=='OFH'), 'RPenID'] = '13'\n",
    "df_W.loc[(df_W['RPenID'].isnull())&(df_W['Treatment']=='TRAN'), 'RPenID'] = '24'\n",
    "df_W['RPenID'] = df_W['RPenID'].map(lambda x: 'Rpen'+str(int(x)))\n",
    "df_W[df_W['RPenID'].isnull()]\n",
    "print(df_W.shape) \n",
    "display(df_W.head(3))"
   ]
  },
  {
   "cell_type": "code",
   "execution_count": 11,
   "metadata": {},
   "outputs": [
    {
     "data": {
      "text/plain": [
       "Treatment  RPenID\n",
       "OFH        Rpen3     228\n",
       "           Rpen1     209\n",
       "           Rpen13    125\n",
       "TRAN       Rpen2     225\n",
       "           Rpen4     211\n",
       "           Rpen24    123\n",
       "dtype: int64"
      ]
     },
     "execution_count": 11,
     "metadata": {},
     "output_type": "execute_result"
    }
   ],
   "source": [
    "#check\n",
    "df_W.groupby('Treatment')[['Treatment','RPenID']].value_counts()"
   ]
  },
  {
   "cell_type": "code",
   "execution_count": 14,
   "metadata": {},
   "outputs": [
    {
     "name": "stdout",
     "output_type": "stream",
     "text": [
      "(38303, 36)\n"
     ]
    },
    {
     "data": {
      "text/html": [
       "<div>\n",
       "<style scoped>\n",
       "    .dataframe tbody tr th:only-of-type {\n",
       "        vertical-align: middle;\n",
       "    }\n",
       "\n",
       "    .dataframe tbody tr th {\n",
       "        vertical-align: top;\n",
       "    }\n",
       "\n",
       "    .dataframe thead th {\n",
       "        text-align: right;\n",
       "    }\n",
       "</style>\n",
       "<table border=\"1\" class=\"dataframe\">\n",
       "  <thead>\n",
       "    <tr style=\"text-align: right;\">\n",
       "      <th></th>\n",
       "      <th>HenID</th>\n",
       "      <th>PenID</th>\n",
       "      <th>level</th>\n",
       "      <th>Treatment</th>\n",
       "      <th>CLASS</th>\n",
       "      <th>DOA</th>\n",
       "      <th>WOA</th>\n",
       "      <th>DIB</th>\n",
       "      <th>WIB</th>\n",
       "      <th>weight_interp</th>\n",
       "      <th>...</th>\n",
       "      <th>perc_duration_1_Zone_nonan</th>\n",
       "      <th>propindoor_duration_5_Zone</th>\n",
       "      <th>propindoor_duration_4_Zone</th>\n",
       "      <th>propindoor_duration_2_Zone</th>\n",
       "      <th>propindoor_duration_5_Zone_rs</th>\n",
       "      <th>propindoor_duration_4_Zone_rs</th>\n",
       "      <th>propindoor_duration_2_Zone_rs</th>\n",
       "      <th>went_litter</th>\n",
       "      <th>stayed_top_tier</th>\n",
       "      <th>monthILB</th>\n",
       "    </tr>\n",
       "  </thead>\n",
       "  <tbody>\n",
       "    <tr>\n",
       "      <th>0</th>\n",
       "      <td>hen_130</td>\n",
       "      <td>pen10</td>\n",
       "      <td>2020-10-05</td>\n",
       "      <td>TRAN</td>\n",
       "      <td>REXP</td>\n",
       "      <td>124</td>\n",
       "      <td>18</td>\n",
       "      <td>6</td>\n",
       "      <td>1</td>\n",
       "      <td>NaN</td>\n",
       "      <td>...</td>\n",
       "      <td>0.0</td>\n",
       "      <td>1.00</td>\n",
       "      <td>NaN</td>\n",
       "      <td>0.00</td>\n",
       "      <td>0.9900</td>\n",
       "      <td>NaN</td>\n",
       "      <td>0.0100</td>\n",
       "      <td>0</td>\n",
       "      <td>1</td>\n",
       "      <td>month1</td>\n",
       "    </tr>\n",
       "    <tr>\n",
       "      <th>1</th>\n",
       "      <td>hen_130</td>\n",
       "      <td>pen10</td>\n",
       "      <td>2020-10-06</td>\n",
       "      <td>TRAN</td>\n",
       "      <td>REXP</td>\n",
       "      <td>125</td>\n",
       "      <td>18</td>\n",
       "      <td>7</td>\n",
       "      <td>1</td>\n",
       "      <td>NaN</td>\n",
       "      <td>...</td>\n",
       "      <td>0.0</td>\n",
       "      <td>0.97</td>\n",
       "      <td>NaN</td>\n",
       "      <td>0.00</td>\n",
       "      <td>0.9606</td>\n",
       "      <td>NaN</td>\n",
       "      <td>0.0100</td>\n",
       "      <td>0</td>\n",
       "      <td>0</td>\n",
       "      <td>month1</td>\n",
       "    </tr>\n",
       "    <tr>\n",
       "      <th>2</th>\n",
       "      <td>hen_130</td>\n",
       "      <td>pen10</td>\n",
       "      <td>2020-10-07</td>\n",
       "      <td>TRAN</td>\n",
       "      <td>REXP</td>\n",
       "      <td>126</td>\n",
       "      <td>18</td>\n",
       "      <td>8</td>\n",
       "      <td>2</td>\n",
       "      <td>NaN</td>\n",
       "      <td>...</td>\n",
       "      <td>0.0</td>\n",
       "      <td>0.98</td>\n",
       "      <td>NaN</td>\n",
       "      <td>0.01</td>\n",
       "      <td>0.9704</td>\n",
       "      <td>NaN</td>\n",
       "      <td>0.0198</td>\n",
       "      <td>1</td>\n",
       "      <td>0</td>\n",
       "      <td>month1</td>\n",
       "    </tr>\n",
       "  </tbody>\n",
       "</table>\n",
       "<p>3 rows × 36 columns</p>\n",
       "</div>"
      ],
      "text/plain": [
       "     HenID  PenID       level Treatment CLASS  DOA  WOA  DIB  WIB  \\\n",
       "0  hen_130  pen10  2020-10-05      TRAN  REXP  124   18    6    1   \n",
       "1  hen_130  pen10  2020-10-06      TRAN  REXP  125   18    7    1   \n",
       "2  hen_130  pen10  2020-10-07      TRAN  REXP  126   18    8    2   \n",
       "\n",
       "   weight_interp  ...  perc_duration_1_Zone_nonan  propindoor_duration_5_Zone  \\\n",
       "0            NaN  ...                         0.0                        1.00   \n",
       "1            NaN  ...                         0.0                        0.97   \n",
       "2            NaN  ...                         0.0                        0.98   \n",
       "\n",
       "  propindoor_duration_4_Zone  propindoor_duration_2_Zone  \\\n",
       "0                        NaN                        0.00   \n",
       "1                        NaN                        0.00   \n",
       "2                        NaN                        0.01   \n",
       "\n",
       "   propindoor_duration_5_Zone_rs  propindoor_duration_4_Zone_rs  \\\n",
       "0                         0.9900                            NaN   \n",
       "1                         0.9606                            NaN   \n",
       "2                         0.9704                            NaN   \n",
       "\n",
       "   propindoor_duration_2_Zone_rs  went_litter  stayed_top_tier  monthILB  \n",
       "0                         0.0100            0                1    month1  \n",
       "1                         0.0100            0                0    month1  \n",
       "2                         0.0198            1                0    month1  \n",
       "\n",
       "[3 rows x 36 columns]"
      ]
     },
     "metadata": {},
     "output_type": "display_data"
    },
    {
     "name": "stdout",
     "output_type": "stream",
     "text": [
      "(38303, 36) (38303, 37) (1121, 10)\n"
     ]
    }
   ],
   "source": [
    "#add in mvt\n",
    "df_mvt = pd.read_csv(os.path.join(path_extracted_data, 'OFH_df_all_mvt.csv'), sep=',')\n",
    "print(df_mvt.shape) \n",
    "display(df_mvt.head(3))\n",
    "df_mvt_ = pd.merge(df_mvt, df_W[['HenID','RPenID']].drop_duplicates(), on='HenID',how='left')\n",
    "print(df_mvt.shape, df_mvt_.shape, df_W.shape)\n",
    "df_mvt_.to_csv(os.path.join(path_extracted_data, 'OFH_df_all_mvt_.csv'), index=False, sep=',')"
   ]
  },
  {
   "cell_type": "code",
   "execution_count": 15,
   "metadata": {},
   "outputs": [
    {
     "name": "stdout",
     "output_type": "stream",
     "text": [
      "(844, 8)\n"
     ]
    },
    {
     "data": {
      "text/html": [
       "<div>\n",
       "<style scoped>\n",
       "    .dataframe tbody tr th:only-of-type {\n",
       "        vertical-align: middle;\n",
       "    }\n",
       "\n",
       "    .dataframe tbody tr th {\n",
       "        vertical-align: top;\n",
       "    }\n",
       "\n",
       "    .dataframe thead th {\n",
       "        text-align: right;\n",
       "    }\n",
       "</style>\n",
       "<table border=\"1\" class=\"dataframe\">\n",
       "  <thead>\n",
       "    <tr style=\"text-align: right;\">\n",
       "      <th></th>\n",
       "      <th>CLASS</th>\n",
       "      <th>date</th>\n",
       "      <th>Treatment</th>\n",
       "      <th>HenID</th>\n",
       "      <th>severity</th>\n",
       "      <th>FeatherDamage</th>\n",
       "      <th>DOA</th>\n",
       "      <th>PenID</th>\n",
       "    </tr>\n",
       "  </thead>\n",
       "  <tbody>\n",
       "    <tr>\n",
       "      <th>0</th>\n",
       "      <td>REXP</td>\n",
       "      <td>2020-11-23</td>\n",
       "      <td>OFH</td>\n",
       "      <td>hen_164</td>\n",
       "      <td>0</td>\n",
       "      <td>NaN</td>\n",
       "      <td>173.0</td>\n",
       "      <td>pen9</td>\n",
       "    </tr>\n",
       "    <tr>\n",
       "      <th>1</th>\n",
       "      <td>REXP</td>\n",
       "      <td>2021-02-01</td>\n",
       "      <td>OFH</td>\n",
       "      <td>hen_181</td>\n",
       "      <td>16</td>\n",
       "      <td>14.0</td>\n",
       "      <td>243.0</td>\n",
       "      <td>pen9</td>\n",
       "    </tr>\n",
       "    <tr>\n",
       "      <th>2</th>\n",
       "      <td>REXP</td>\n",
       "      <td>2021-02-01</td>\n",
       "      <td>OFH</td>\n",
       "      <td>hen_82</td>\n",
       "      <td>4</td>\n",
       "      <td>8.0</td>\n",
       "      <td>243.0</td>\n",
       "      <td>pen5</td>\n",
       "    </tr>\n",
       "  </tbody>\n",
       "</table>\n",
       "</div>"
      ],
      "text/plain": [
       "  CLASS        date Treatment    HenID  severity  FeatherDamage    DOA PenID\n",
       "0  REXP  2020-11-23       OFH  hen_164         0            NaN  173.0  pen9\n",
       "1  REXP  2021-02-01       OFH  hen_181        16           14.0  243.0  pen9\n",
       "2  REXP  2021-02-01       OFH   hen_82         4            8.0  243.0  pen5"
      ]
     },
     "metadata": {},
     "output_type": "display_data"
    },
    {
     "name": "stdout",
     "output_type": "stream",
     "text": [
      "(844, 8) (844, 9) (1121, 10)\n"
     ]
    }
   ],
   "source": [
    "#add in HA\n",
    "df_HA = pd.read_csv(os.path.join(path_extracted_data, 'OFH_df_HA.csv'), sep=',')\n",
    "print(df_HA.shape) \n",
    "display(df_HA.head(3))\n",
    "df_HA_ = pd.merge(df_HA, df_W[['HenID','RPenID']].drop_duplicates(), on='HenID',how='left')\n",
    "print(df_HA.shape, df_HA_.shape, df_W.shape)\n",
    "df_HA_.to_csv(os.path.join(path_extracted_data, 'OFH_df_HA_.csv'), index=False, sep=',')"
   ]
  },
  {
   "cell_type": "code",
   "execution_count": null,
   "metadata": {},
   "outputs": [],
   "source": []
  },
  {
   "cell_type": "code",
   "execution_count": null,
   "metadata": {},
   "outputs": [],
   "source": []
  },
  {
   "cell_type": "code",
   "execution_count": null,
   "metadata": {},
   "outputs": [],
   "source": []
  },
  {
   "cell_type": "code",
   "execution_count": null,
   "metadata": {},
   "outputs": [],
   "source": []
  }
 ],
 "metadata": {
  "kernelspec": {
   "display_name": "Python 3 (ipykernel)",
   "language": "python",
   "name": "python3"
  },
  "language_info": {
   "codemirror_mode": {
    "name": "ipython",
    "version": 3
   },
   "file_extension": ".py",
   "mimetype": "text/x-python",
   "name": "python",
   "nbconvert_exporter": "python",
   "pygments_lexer": "ipython3",
   "version": "3.8.12"
  }
 },
 "nbformat": 4,
 "nbformat_minor": 2
}
