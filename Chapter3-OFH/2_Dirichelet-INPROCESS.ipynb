{
 "cells": [
  {
   "cell_type": "code",
   "execution_count": 1,
   "id": "eaeb6db0",
   "metadata": {},
   "outputs": [
    {
     "name": "stderr",
     "output_type": "stream",
     "text": [
      "Warning message:\n",
      "\"le package 'brms' a été compilé avec la version R 4.1.2\"\n",
      "Le chargement a nécessité le package : Rcpp\n",
      "\n",
      "Warning message:\n",
      "\"le package 'Rcpp' a été compilé avec la version R 4.1.2\"\n",
      "Loading 'brms' package (version 2.16.3). Useful instructions\n",
      "can be found by typing help('brms'). A more detailed introduction\n",
      "to the package is available through vignette('brms_overview').\n",
      "\n",
      "\n",
      "Attachement du package : 'brms'\n",
      "\n",
      "\n",
      "L'objet suivant est masqué depuis 'package:stats':\n",
      "\n",
      "    ar\n",
      "\n",
      "\n",
      "Warning message:\n",
      "\"le package 'MCMCglmm' a été compilé avec la version R 4.1.2\"\n",
      "Le chargement a nécessité le package : Matrix\n",
      "\n",
      "Warning message:\n",
      "\"le package 'Matrix' a été compilé avec la version R 4.1.2\"\n",
      "Le chargement a nécessité le package : coda\n",
      "\n",
      "Warning message:\n",
      "\"le package 'coda' a été compilé avec la version R 4.1.2\"\n",
      "Le chargement a nécessité le package : ape\n",
      "\n",
      "Warning message:\n",
      "\"le package 'ape' a été compilé avec la version R 4.1.2\"\n",
      "\n",
      "Attachement du package : 'MCMCglmm'\n",
      "\n",
      "\n",
      "L'objet suivant est masqué depuis 'package:brms':\n",
      "\n",
      "    me\n",
      "\n",
      "\n",
      "Warning message:\n",
      "\"le package 'dplyr' a été compilé avec la version R 4.1.2\"\n",
      "\n",
      "Attachement du package : 'dplyr'\n",
      "\n",
      "\n",
      "Les objets suivants sont masqués depuis 'package:stats':\n",
      "\n",
      "    filter, lag\n",
      "\n",
      "\n",
      "Les objets suivants sont masqués depuis 'package:base':\n",
      "\n",
      "    intersect, setdiff, setequal, union\n",
      "\n",
      "\n",
      "Warning message:\n",
      "\"le package 'lmerTest' a été compilé avec la version R 4.1.2\"\n",
      "Le chargement a nécessité le package : lme4\n",
      "\n",
      "Warning message:\n",
      "\"le package 'lme4' a été compilé avec la version R 4.1.2\"\n",
      "\n",
      "Attachement du package : 'lme4'\n",
      "\n",
      "\n",
      "L'objet suivant est masqué depuis 'package:brms':\n",
      "\n",
      "    ngrps\n",
      "\n",
      "\n",
      "\n",
      "Attachement du package : 'lmerTest'\n",
      "\n",
      "\n",
      "L'objet suivant est masqué depuis 'package:lme4':\n",
      "\n",
      "    lmer\n",
      "\n",
      "\n",
      "L'objet suivant est masqué depuis 'package:stats':\n",
      "\n",
      "    step\n",
      "\n",
      "\n",
      "Warning message:\n",
      "\"le package 'sjPlot' a été compilé avec la version R 4.1.2\"\n",
      "Install package \"strengejacke\" from GitHub (`devtools::install_github(\"strengejacke/strengejacke\")`) to load all sj-packages at once!\n",
      "\n",
      "Warning message:\n",
      "\"le package 'ggplot2' a été compilé avec la version R 4.1.2\"\n",
      "Warning message:\n",
      "\"le package 'rstan' a été compilé avec la version R 4.1.2\"\n",
      "Le chargement a nécessité le package : StanHeaders\n",
      "\n",
      "Warning message:\n",
      "\"le package 'StanHeaders' a été compilé avec la version R 4.1.2\"\n",
      "rstan (Version 2.21.2, GitRev: 2e1f913d3ca3)\n",
      "\n",
      "For execution on a local, multicore CPU with excess RAM we recommend calling\n",
      "options(mc.cores = parallel::detectCores()).\n",
      "To avoid recompilation of unchanged Stan programs, we recommend calling\n",
      "rstan_options(auto_write = TRUE)\n",
      "\n",
      "Do not specify '-march=native' in 'LOCAL_CPPFLAGS' or a Makevars file\n",
      "\n",
      "\n",
      "Attachement du package : 'rstan'\n",
      "\n",
      "\n",
      "L'objet suivant est masqué depuis 'package:coda':\n",
      "\n",
      "    traceplot\n",
      "\n",
      "\n"
     ]
    }
   ],
   "source": [
    "library(brms) #predictability: Double hierearchical model\n",
    "library(MCMCglmm) #HPDinterval\n",
    "library(dplyr) #%>%\n",
    "library(lmerTest) #lmer\n",
    "#library(MuMIn) #r2\n",
    "#library(merTools) #sim\n",
    "library(sjPlot) #plot coeff\n",
    "library(ggplot2) #ylim in plot\n",
    "library(rstan) #model diagnostic"
   ]
  },
  {
   "cell_type": "code",
   "execution_count": 2,
   "id": "815eed43",
   "metadata": {},
   "outputs": [],
   "source": [
    "library(ggplot2)"
   ]
  },
  {
   "cell_type": "code",
   "execution_count": 3,
   "id": "4980fea2",
   "metadata": {},
   "outputs": [
    {
     "data": {
      "text/html": [
       "11"
      ],
      "text/latex": [
       "11"
      ],
      "text/markdown": [
       "11"
      ],
      "text/plain": [
       "[1] 11"
      ]
     },
     "metadata": {},
     "output_type": "display_data"
    }
   ],
   "source": [
    "library(parallel)\n",
    "my.cores = detectCores()-1 #minus 1 to avoid bocking the computer\n",
    "my.cores"
   ]
  },
  {
   "cell_type": "code",
   "execution_count": 4,
   "id": "8f18c382",
   "metadata": {},
   "outputs": [
    {
     "data": {
      "text/html": [
       "<table class=\"dataframe\">\n",
       "<caption>A matrix: 2 × 1 of type dbl</caption>\n",
       "<thead>\n",
       "\t<tr><th></th><th scope=col>TRAN</th></tr>\n",
       "</thead>\n",
       "<tbody>\n",
       "\t<tr><th scope=row>OFH</th><td>0</td></tr>\n",
       "\t<tr><th scope=row>TRAN</th><td>1</td></tr>\n",
       "</tbody>\n",
       "</table>\n"
      ],
      "text/latex": [
       "A matrix: 2 × 1 of type dbl\n",
       "\\begin{tabular}{r|l}\n",
       "  & TRAN\\\\\n",
       "\\hline\n",
       "\tOFH & 0\\\\\n",
       "\tTRAN & 1\\\\\n",
       "\\end{tabular}\n"
      ],
      "text/markdown": [
       "\n",
       "A matrix: 2 × 1 of type dbl\n",
       "\n",
       "| <!--/--> | TRAN |\n",
       "|---|---|\n",
       "| OFH | 0 |\n",
       "| TRAN | 1 |\n",
       "\n"
      ],
      "text/plain": [
       "     TRAN\n",
       "OFH  0   \n",
       "TRAN 1   "
      ]
     },
     "metadata": {},
     "output_type": "display_data"
    },
    {
     "data": {
      "text/html": [
       "<table class=\"dataframe\">\n",
       "<caption>A matrix: 2 × 1 of type dbl</caption>\n",
       "<thead>\n",
       "\t<tr><th></th><th scope=col>OFH</th></tr>\n",
       "</thead>\n",
       "<tbody>\n",
       "\t<tr><th scope=row>TRAN</th><td>0</td></tr>\n",
       "\t<tr><th scope=row>OFH</th><td>1</td></tr>\n",
       "</tbody>\n",
       "</table>\n"
      ],
      "text/latex": [
       "A matrix: 2 × 1 of type dbl\n",
       "\\begin{tabular}{r|l}\n",
       "  & OFH\\\\\n",
       "\\hline\n",
       "\tTRAN & 0\\\\\n",
       "\tOFH & 1\\\\\n",
       "\\end{tabular}\n"
      ],
      "text/markdown": [
       "\n",
       "A matrix: 2 × 1 of type dbl\n",
       "\n",
       "| <!--/--> | OFH |\n",
       "|---|---|\n",
       "| TRAN | 0 |\n",
       "| OFH | 1 |\n",
       "\n"
      ],
      "text/plain": [
       "     OFH\n",
       "TRAN 0  \n",
       "OFH  1  "
      ]
     },
     "metadata": {},
     "output_type": "display_data"
    },
    {
     "data": {
      "text/html": [
       "<table class=\"dataframe\">\n",
       "<caption>A matrix: 6 × 5 of type dbl</caption>\n",
       "<thead>\n",
       "\t<tr><th></th><th scope=col>LEXP</th><th scope=col>LEXPLOST</th><th scope=col>MEXP</th><th scope=col>MEXPLOST</th><th scope=col>NewAfterEpi</th></tr>\n",
       "</thead>\n",
       "<tbody>\n",
       "\t<tr><th scope=row>EPI</th><td>0</td><td>0</td><td>0</td><td>0</td><td>0</td></tr>\n",
       "\t<tr><th scope=row>LEXP</th><td>1</td><td>0</td><td>0</td><td>0</td><td>0</td></tr>\n",
       "\t<tr><th scope=row>LEXPLOST</th><td>0</td><td>1</td><td>0</td><td>0</td><td>0</td></tr>\n",
       "\t<tr><th scope=row>MEXP</th><td>0</td><td>0</td><td>1</td><td>0</td><td>0</td></tr>\n",
       "\t<tr><th scope=row>MEXPLOST</th><td>0</td><td>0</td><td>0</td><td>1</td><td>0</td></tr>\n",
       "\t<tr><th scope=row>NewAfterEpi</th><td>0</td><td>0</td><td>0</td><td>0</td><td>1</td></tr>\n",
       "</tbody>\n",
       "</table>\n"
      ],
      "text/latex": [
       "A matrix: 6 × 5 of type dbl\n",
       "\\begin{tabular}{r|lllll}\n",
       "  & LEXP & LEXPLOST & MEXP & MEXPLOST & NewAfterEpi\\\\\n",
       "\\hline\n",
       "\tEPI & 0 & 0 & 0 & 0 & 0\\\\\n",
       "\tLEXP & 1 & 0 & 0 & 0 & 0\\\\\n",
       "\tLEXPLOST & 0 & 1 & 0 & 0 & 0\\\\\n",
       "\tMEXP & 0 & 0 & 1 & 0 & 0\\\\\n",
       "\tMEXPLOST & 0 & 0 & 0 & 1 & 0\\\\\n",
       "\tNewAfterEpi & 0 & 0 & 0 & 0 & 1\\\\\n",
       "\\end{tabular}\n"
      ],
      "text/markdown": [
       "\n",
       "A matrix: 6 × 5 of type dbl\n",
       "\n",
       "| <!--/--> | LEXP | LEXPLOST | MEXP | MEXPLOST | NewAfterEpi |\n",
       "|---|---|---|---|---|---|\n",
       "| EPI | 0 | 0 | 0 | 0 | 0 |\n",
       "| LEXP | 1 | 0 | 0 | 0 | 0 |\n",
       "| LEXPLOST | 0 | 1 | 0 | 0 | 0 |\n",
       "| MEXP | 0 | 0 | 1 | 0 | 0 |\n",
       "| MEXPLOST | 0 | 0 | 0 | 1 | 0 |\n",
       "| NewAfterEpi | 0 | 0 | 0 | 0 | 1 |\n",
       "\n"
      ],
      "text/plain": [
       "            LEXP LEXPLOST MEXP MEXPLOST NewAfterEpi\n",
       "EPI         0    0        0    0        0          \n",
       "LEXP        1    0        0    0        0          \n",
       "LEXPLOST    0    1        0    0        0          \n",
       "MEXP        0    0        1    0        0          \n",
       "MEXPLOST    0    0        0    1        0          \n",
       "NewAfterEpi 0    0        0    0        1          "
      ]
     },
     "metadata": {},
     "output_type": "display_data"
    },
    {
     "data": {
      "text/html": [
       "<table class=\"dataframe\">\n",
       "<caption>A matrix: 6 × 5 of type dbl</caption>\n",
       "<thead>\n",
       "\t<tr><th></th><th scope=col>EPI</th><th scope=col>LEXPLOST</th><th scope=col>MEXP</th><th scope=col>MEXPLOST</th><th scope=col>NewAfterEpi</th></tr>\n",
       "</thead>\n",
       "<tbody>\n",
       "\t<tr><th scope=row>LEXP</th><td>0</td><td>0</td><td>0</td><td>0</td><td>0</td></tr>\n",
       "\t<tr><th scope=row>EPI</th><td>1</td><td>0</td><td>0</td><td>0</td><td>0</td></tr>\n",
       "\t<tr><th scope=row>LEXPLOST</th><td>0</td><td>1</td><td>0</td><td>0</td><td>0</td></tr>\n",
       "\t<tr><th scope=row>MEXP</th><td>0</td><td>0</td><td>1</td><td>0</td><td>0</td></tr>\n",
       "\t<tr><th scope=row>MEXPLOST</th><td>0</td><td>0</td><td>0</td><td>1</td><td>0</td></tr>\n",
       "\t<tr><th scope=row>NewAfterEpi</th><td>0</td><td>0</td><td>0</td><td>0</td><td>1</td></tr>\n",
       "</tbody>\n",
       "</table>\n"
      ],
      "text/latex": [
       "A matrix: 6 × 5 of type dbl\n",
       "\\begin{tabular}{r|lllll}\n",
       "  & EPI & LEXPLOST & MEXP & MEXPLOST & NewAfterEpi\\\\\n",
       "\\hline\n",
       "\tLEXP & 0 & 0 & 0 & 0 & 0\\\\\n",
       "\tEPI & 1 & 0 & 0 & 0 & 0\\\\\n",
       "\tLEXPLOST & 0 & 1 & 0 & 0 & 0\\\\\n",
       "\tMEXP & 0 & 0 & 1 & 0 & 0\\\\\n",
       "\tMEXPLOST & 0 & 0 & 0 & 1 & 0\\\\\n",
       "\tNewAfterEpi & 0 & 0 & 0 & 0 & 1\\\\\n",
       "\\end{tabular}\n"
      ],
      "text/markdown": [
       "\n",
       "A matrix: 6 × 5 of type dbl\n",
       "\n",
       "| <!--/--> | EPI | LEXPLOST | MEXP | MEXPLOST | NewAfterEpi |\n",
       "|---|---|---|---|---|---|\n",
       "| LEXP | 0 | 0 | 0 | 0 | 0 |\n",
       "| EPI | 1 | 0 | 0 | 0 | 0 |\n",
       "| LEXPLOST | 0 | 1 | 0 | 0 | 0 |\n",
       "| MEXP | 0 | 0 | 1 | 0 | 0 |\n",
       "| MEXPLOST | 0 | 0 | 0 | 1 | 0 |\n",
       "| NewAfterEpi | 0 | 0 | 0 | 0 | 1 |\n",
       "\n"
      ],
      "text/plain": [
       "            EPI LEXPLOST MEXP MEXPLOST NewAfterEpi\n",
       "LEXP        0   0        0    0        0          \n",
       "EPI         1   0        0    0        0          \n",
       "LEXPLOST    0   1        0    0        0          \n",
       "MEXP        0   0        1    0        0          \n",
       "MEXPLOST    0   0        0    1        0          \n",
       "NewAfterEpi 0   0        0    0        1          "
      ]
     },
     "metadata": {},
     "output_type": "display_data"
    },
    {
     "name": "stdout",
     "output_type": "stream",
     "text": [
      "[1] 2123   91\n"
     ]
    },
    {
     "data": {
      "text/plain": [
       "     HenID             level      verification_daily_total_duration\n",
       " hen_112:  39   2021-04-18:  63   Min.   :32400                    \n",
       " hen_57 :  39   2021-05-02:  61   1st Qu.:54000                    \n",
       " hen_59 :  39   2021-05-09:  61   Median :54000                    \n",
       " hen_60 :  39   2021-05-16:  61   Mean   :52511                    \n",
       " hen_61 :  39   2021-05-23:  60   3rd Qu.:54000                    \n",
       " hen_78 :  39   2021-05-30:  60   Max.   :54000                    \n",
       " (Other):1889   (Other)   :1757                                    \n",
       " verification_daily_total_nbr_hour  dur_values        perc_duration_3_Zone\n",
       " Min.   : 9.00                     Length:2123        Min.   : 0.00       \n",
       " 1st Qu.:15.00                     Class :character   1st Qu.:12.00       \n",
       " Median :15.00                     Mode  :character   Median :21.00       \n",
       " Mean   :14.59                                        Mean   :21.07       \n",
       " 3rd Qu.:15.00                                        3rd Qu.:29.00       \n",
       " Max.   :15.00                                        Max.   :89.00       \n",
       "                                                                          \n",
       " perc_duration_4_Zone perc_duration_5_Zone perc_duration_2_Zone\n",
       " Min.   : 0.000       Min.   :  0.00       Min.   : 0.00       \n",
       " 1st Qu.: 5.000       1st Qu.:  9.00       1st Qu.:26.00       \n",
       " Median : 7.000       Median : 25.00       Median :39.00       \n",
       " Mean   : 8.216       Mean   : 30.79       Mean   :37.47       \n",
       " 3rd Qu.: 9.500       3rd Qu.: 48.00       3rd Qu.:51.00       \n",
       " Max.   :82.000       Max.   :100.00       Max.   :91.00       \n",
       "                                                               \n",
       " perc_duration_1_Zone time_wg_open_sec\n",
       " Min.   : 0.000       Min.   :15600   \n",
       " 1st Qu.: 0.000       1st Qu.:21900   \n",
       " Median : 1.000       Median :22500   \n",
       " Mean   : 2.528       Mean   :22558   \n",
       " 3rd Qu.: 3.000       3rd Qu.:23400   \n",
       " Max.   :44.000       Max.   :24300   \n",
       " NA's   :93                           \n",
       " duration_sincedaystarted_beforeWGopened_sec perc_1_Zone_while_WG_open\n",
       " Min.   :36000                               Min.   : 0.000           \n",
       " 1st Qu.:36000                               1st Qu.: 0.000           \n",
       " Median :36000                               Median : 2.011           \n",
       " Mean   :36509                               Mean   : 5.870           \n",
       " 3rd Qu.:36000                               3rd Qu.: 7.521           \n",
       " Max.   :45000                               Max.   :87.949           \n",
       "                                             NA's   :93               \n",
       " FirstTimestamp_1_Zone FirstTimestamp_2_Zone FirstTimestamp_3_Zone\n",
       " Length:2123           Length:2123           Length:2123          \n",
       " Class :character      Class :character      Class :character     \n",
       " Mode  :character      Mode  :character      Mode  :character     \n",
       "                                                                  \n",
       "                                                                  \n",
       "                                                                  \n",
       "                                                                  \n",
       " FirstTimestamp_4_Zone FirstTimestamp_5_Zone  nbr_h_WGopen  \n",
       " Length:2123           Length:2123           Min.   :0.000  \n",
       " Class :character      Class :character      1st Qu.:6.083  \n",
       " Mode  :character      Mode  :character      Median :6.250  \n",
       "                                             Mean   :6.010  \n",
       "                                             3rd Qu.:6.500  \n",
       "                                             Max.   :6.750  \n",
       "                                                            \n",
       " FirstTimestamp_1_Zone_sec latency_1_Zone_h  Total_number_zone\n",
       " Min.   :36021             Min.   :0.00583   Min.   :1.000    \n",
       " 1st Qu.:36695             1st Qu.:0.42729   1st Qu.:4.000    \n",
       " Median :39828             Median :3.11583   Median :5.000    \n",
       " Mean   :42545             Mean   :3.21365   Mean   :4.576    \n",
       " 3rd Qu.:47734             3rd Qu.:6.00646   3rd Qu.:5.000    \n",
       " Max.   :59912             Max.   :6.75000   Max.   :5.000    \n",
       " NA's   :758               NA's   :93                         \n",
       " list_of_durations  nestboxes_related_behavior mid_cum_Z4_sec \n",
       " Length:2123        Min.   :-1.0000            Min.   :  162  \n",
       " Class :character   1st Qu.: 0.8577            1st Qu.: 6902  \n",
       " Mode  :character   Median : 0.9625            Median : 9465  \n",
       "                    Mean   : 0.8388            Mean   :10781  \n",
       "                    3rd Qu.: 1.0000            3rd Qu.:12671  \n",
       "                    Max.   : 1.0000            Max.   :51660  \n",
       "                    NA's   :212                NA's   :19     \n",
       " Total_number_transition  nbr_stays         distribution_entropy\n",
       " Min.   :  0.00          Length:2123        Min.   :0.000       \n",
       " 1st Qu.: 45.00          Class :character   1st Qu.:1.452       \n",
       " Median : 61.00          Mode  :character   Median :1.694       \n",
       " Mean   : 61.85                             Mean   :1.616       \n",
       " 3rd Qu.: 78.50                             3rd Qu.:1.848       \n",
       " Max.   :180.00                             Max.   :2.281       \n",
       "                                                                \n",
       " vertical_travel_distance vertical_travel_distance_dawn\n",
       " Min.   :  0.00           Min.   :0.0000               \n",
       " 1st Qu.: 44.00           1st Qu.:0.0000               \n",
       " Median : 60.00           Median :0.0000               \n",
       " Mean   : 61.39           Mean   :0.0129               \n",
       " 3rd Qu.: 78.00           3rd Qu.:0.0000               \n",
       " Max.   :197.00           Max.   :6.0000               \n",
       "                          NA's   :263                  \n",
       " vertical_travel_distance_dusk nbr_stays_total  nbr_stays_3_Zone\n",
       " Min.   : 0.000                Min.   :  1.00   Min.   : 0.00   \n",
       " 1st Qu.: 0.000                1st Qu.: 46.00   1st Qu.:16.00   \n",
       " Median : 1.000                Median : 62.00   Median :24.00   \n",
       " Mean   : 1.558                Mean   : 62.85   Mean   :24.16   \n",
       " 3rd Qu.: 3.000                3rd Qu.: 79.50   3rd Qu.:32.00   \n",
       " Max.   :16.000                Max.   :181.00   Max.   :69.00   \n",
       " NA's   :263                                                    \n",
       " nbr_stays_4_Zone nbr_stays_5_Zone nbr_stays_2_Zone nbr_stays_1_Zone\n",
       " Min.   : 0.000   Min.   : 0.000   Min.   : 0.00    Min.   : 0.000  \n",
       " 1st Qu.: 5.000   1st Qu.: 3.000   1st Qu.:13.00    1st Qu.: 0.000  \n",
       " Median : 7.000   Median : 5.000   Median :21.00    Median : 1.000  \n",
       " Mean   : 9.053   Mean   : 5.631   Mean   :21.54    Mean   : 2.582  \n",
       " 3rd Qu.:12.000   3rd Qu.: 7.000   3rd Qu.:29.00    3rd Qu.: 4.000  \n",
       " Max.   :52.000   Max.   :31.000   Max.   :68.00    Max.   :22.000  \n",
       "                                                    NA's   :93      \n",
       "     PenID             CLASS         R.Pen       InitialStartDate  \n",
       " pen11  :358   LEXP       :436   Min.   :1.000   Length:2123       \n",
       " pen10  :310   EPI        :317   1st Qu.:1.000   Class :character  \n",
       " pen4   :295   LEXPLOST   :152   Median :2.000   Mode  :character  \n",
       " pen8   :266   MEXP       :618   Mean   :2.462                     \n",
       " pen3   :262   MEXPLOST   : 39   3rd Qu.:3.000                     \n",
       " pen5   :253   NewAfterEpi:561   Max.   :4.000                     \n",
       " (Other):379                     NA's   :561                       \n",
       "  early_death      Treatment      TagID           FocalLegringName  \n",
       " Min.   :0.00000   TRAN:1036   Length:2123        Length:2123       \n",
       " 1st Qu.:0.00000   OFH :1087   Class :character   Class :character  \n",
       " Median :0.00000               Mode  :character   Mode  :character  \n",
       " Mean   :0.03627                                                    \n",
       " 3rd Qu.:0.00000                                                    \n",
       " Max.   :1.00000                                                    \n",
       "                                                                    \n",
       " night_level        night_Max_duration_zones night_duration_Z5\n",
       " Length:2123        Length:2123              Min.   :    0    \n",
       " Class :character   Class :character         1st Qu.:    0    \n",
       " Mode  :character   Mode  :character         Median :32400    \n",
       "                                             Mean   :22728    \n",
       "                                             3rd Qu.:32400    \n",
       "                                             Max.   :54000    \n",
       "                                                              \n",
       " night_Total_number_transition  is_mvt_night    nbr_h_per_day  \n",
       " Min.   : 0.0000               Min.   :0.0000   Min.   : 9.00  \n",
       " 1st Qu.: 0.0000               1st Qu.:0.0000   1st Qu.:15.00  \n",
       " Median : 0.0000               Median :0.0000   Median :15.00  \n",
       " Mean   : 0.2666               Mean   :0.1875   Mean   :14.59  \n",
       " 3rd Qu.: 0.0000               3rd Qu.:0.0000   3rd Qu.:15.00  \n",
       " Max.   :11.0000               Max.   :1.0000   Max.   :15.00  \n",
       "                                                               \n",
       " correct_amount_of_hour      DOA             WOA             DIB       \n",
       " Length:2123            Min.   :123.0   Min.   :18.00   Min.   :  5.0  \n",
       " Class :character       1st Qu.:200.0   1st Qu.:29.00   1st Qu.: 82.0  \n",
       " Mode  :character       Median :263.0   Median :38.00   Median :145.0  \n",
       "                        Mean   :266.7   Mean   :38.52   Mean   :148.7  \n",
       "                        3rd Qu.:340.0   3rd Qu.:49.00   3rd Qu.:222.0  \n",
       "                        Max.   :410.0   Max.   :59.00   Max.   :292.0  \n",
       "                                                                       \n",
       "      WIB                    TrackingSystemID SleepingHeight \n",
       " Min.   : 1.00   TrackingSystem 10-12:833     Min.   :0.000  \n",
       " 1st Qu.:12.00   TrackingSystem 3-5  :810     1st Qu.:2.000  \n",
       " Median :21.00   TrackingSystem 8-9  :480     Median :3.000  \n",
       " Mean   :21.52                                Mean   :2.499  \n",
       " 3rd Qu.:32.00                                3rd Qu.:3.000  \n",
       " Max.   :42.00                                Max.   :3.000  \n",
       "                                                             \n",
       " Sleeping_NotUppest vertical_travel_distance_fulllight\n",
       " Min.   :0.0000     Min.   :  6.00                    \n",
       " 1st Qu.:0.0000     1st Qu.: 46.00                    \n",
       " Median :0.0000     Median : 60.00                    \n",
       " Mean   :0.3307     Mean   : 62.19                    \n",
       " 3rd Qu.:1.0000     3rd Qu.: 77.00                    \n",
       " Max.   :1.0000     Max.   :191.00                    \n",
       "                    NA's   :263                       \n",
       " vertical_travel_distance_fulllight_perinsideh mid_cum_Z4_sec_Morning\n",
       " Min.   : 0.4074                               Min.   :  133         \n",
       " 1st Qu.: 3.1472                               1st Qu.: 6656         \n",
       " Median : 4.1939                               Median : 8917         \n",
       " Mean   : 4.3119                               Mean   : 9284         \n",
       " 3rd Qu.: 5.3439                               3rd Qu.:11645         \n",
       " Max.   :13.4012                               Max.   :21540         \n",
       " NA's   :317                                   NA's   :271           \n",
       " mid_cum_Z4_h_Morning   KBF_interp    FeatherDamage_interp weight_interp \n",
       " Min.   :2.037        Min.   : 0.00   Min.   : 0.000       Min.   :1085  \n",
       " 1st Qu.:3.849        1st Qu.:10.00   1st Qu.: 9.457       1st Qu.:1668  \n",
       " Median :4.477        Median :22.77   Median :16.986       Median :1786  \n",
       " Mean   :4.579        Mean   :24.03   Mean   :17.507       Mean   :1762  \n",
       " 3rd Qu.:5.235        3rd Qu.:37.15   3rd Qu.:24.355       3rd Qu.:1904  \n",
       " Max.   :7.983        Max.   :81.17   Max.   :63.013       Max.   :2161  \n",
       " NA's   :271          NA's   :313     NA's   :695          NA's   :20    \n",
       "  HenID_WIB         food_related_behavior_final food_related_behavior_rp_final\n",
       " Length:2123        Min.   :-1.00000            Min.   :-1.00000              \n",
       " Class :character   1st Qu.: 0.01338            1st Qu.:-0.14610              \n",
       " Mode  :character   Median : 0.13581            Median : 0.00565              \n",
       "                    Mean   : 0.13498            Mean   :-0.03426              \n",
       "                    3rd Qu.: 0.27923            3rd Qu.: 0.12140              \n",
       "                    Max.   : 0.63878            Max.   : 0.54378              \n",
       "                    NA's   :263                 NA's   :263                   \n",
       " food_related_behavior_rm_final food_sameDurTiming_r50_final\n",
       " Min.   :-1.00000               Min.   :-0.760              \n",
       " 1st Qu.:-0.13054               1st Qu.: 0.040              \n",
       " Median : 0.01545               Median : 0.260              \n",
       " Mean   :-0.02269               Mean   : 0.242              \n",
       " 3rd Qu.: 0.12470               3rd Qu.: 0.460              \n",
       " Max.   : 0.51263               Max.   : 0.860              \n",
       " NA's   :263                    NA's   :263                 \n",
       " food_sameDurTiming_r50_AP_final food_sameDurTiming_r50_AB_final\n",
       " Min.   :-0.76000                Min.   :-0.82000               \n",
       " 1st Qu.:-0.18000                1st Qu.:-0.14000               \n",
       " Median : 0.01000                Median : 0.02500               \n",
       " Mean   : 0.00394                Mean   : 0.02758               \n",
       " 3rd Qu.: 0.18000                3rd Qu.: 0.20000               \n",
       " Max.   : 0.75000                Max.   : 0.74000               \n",
       " NA's   :263                     NA's   :263                    \n",
       " duration_1_Zone_min duration_2_Zone_min duration_3_Zone_min\n",
       " Min.   :  0.000     Min.   :  0.0       Min.   :  0.0      \n",
       " 1st Qu.:  0.000     1st Qu.:225.9       1st Qu.:103.8      \n",
       " Median :  7.467     Median :342.9       Median :183.0      \n",
       " Mean   : 22.138     Mean   :330.2       Mean   :185.7      \n",
       " 3rd Qu.: 28.492     3rd Qu.:448.3       3rd Qu.:259.6      \n",
       " Max.   :316.617     Max.   :683.3       Max.   :583.4      \n",
       " NA's   :93                                                 \n",
       " duration_4_Zone_min duration_5_Zone_min Has_been_toptier_wholeday\n",
       " Min.   :  0.00      Min.   :  0.00      Length:2123              \n",
       " 1st Qu.: 44.33      1st Qu.: 80.37      Class :character         \n",
       " Median : 60.52      Median :220.55      Mode  :character         \n",
       " Mean   : 71.79      Mean   :266.36                               \n",
       " 3rd Qu.: 84.78      3rd Qu.:413.95                               \n",
       " Max.   :590.90      Max.   :831.95                               \n",
       "                                                                  \n",
       "   weekday             WentinWG     Sleeping_Uppest  dico_indoorZ_prop \n",
       " Length:2123        Min.   :0.000   Min.   :0.0000   Length:2123       \n",
       " Class :character   1st Qu.:0.000   1st Qu.:0.0000   Class :character  \n",
       " Mode  :character   Median :1.000   Median :1.0000   Mode  :character  \n",
       "                    Mean   :0.643   Mean   :0.6693                     \n",
       "                    3rd Qu.:1.000   3rd Qu.:1.0000                     \n",
       "                    Max.   :1.000   Max.   :1.0000                     \n",
       "                                                                       \n",
       " propindoor_duration_2_Zone propindoor_duration_3_Zone\n",
       " Min.   :0.0001             Min.   :0.0001            \n",
       " 1st Qu.:0.2626             1st Qu.:0.1212            \n",
       " Median :0.4000             Median :0.2121            \n",
       " Mean   :0.3851             Mean   :0.2164            \n",
       " 3rd Qu.:0.5200             3rd Qu.:0.3000            \n",
       " Max.   :0.9098             Max.   :0.8899            \n",
       "                                                      \n",
       " propindoor_duration_4_Zone propindoor_duration_5_Zone    sum_prop\n",
       " Min.   :0.00010            Min.   :0.00010            Min.   :1  \n",
       " 1st Qu.:0.05051            1st Qu.:0.09424            1st Qu.:1  \n",
       " Median :0.07071            Median :0.25510            Median :1  \n",
       " Mean   :0.08421            Mean   :0.31432            Mean   :1  \n",
       " 3rd Qu.:0.10000            3rd Qu.:0.49000            3rd Qu.:1  \n",
       " Max.   :0.82808            Max.   :0.99970            Max.   :1  \n",
       "                                                                  \n",
       "      time.V1           time2_               time2.V1     \n",
       " Min.   :0.085631   Min.   : 0.007333   Min.   :0.001923  \n",
       " 1st Qu.:1.027576   1st Qu.: 1.055913   1st Qu.:0.276901  \n",
       " Median :1.798258   Median : 3.233732   Median :0.848009  \n",
       " Mean   :1.843070   Mean   : 4.396437   Mean   :1.152915  \n",
       " 3rd Qu.:2.740203   3rd Qu.: 7.508712   3rd Qu.:1.969073  \n",
       " Max.   :3.596516   Max.   :12.934929   Max.   :3.392035  \n",
       "                                                          "
      ]
     },
     "metadata": {},
     "output_type": "display_data"
    }
   ],
   "source": [
    "path_ = 'G:/VPHI/Welfare/2- Research Projects/OFHE2.OriginsE2/DataOutput/TrackingSystem/ALLDATA_'\n",
    "#df = read.csv(file.path(path_,'df_daily_aggregatedHA.csv'), header = TRUE, sep = \",\")\n",
    "df = read.csv(file.path(path_,'OFH_df_MVT_simpler3.csv'), header = TRUE, sep = \",\")\n",
    "\n",
    "df$HenID = as.factor(df$HenID)   \n",
    "df$PenID = as.factor(df$PenID)\n",
    "df$TrackingSystemID = as.factor(df$TrackingSystemID)\n",
    "df$level = as.factor(df$level) \n",
    "df$CLASS = as.factor(df$CLASS) \n",
    "df$Treatment = as.factor(df$Treatment)\n",
    "df$time = scale(df$WIB, center=FALSE, scale=sd(df$WIB, na.rm = TRUE)) #as not centering, we need to add this\n",
    "df$time2_ = poly(df$time, degree=2,raw=TRUE)[,2]\n",
    "df$time2 = scale(df$time2_, center=FALSE, scale=sd(df$time2_, na.rm = TRUE))\n",
    "\n",
    "#scale: mean-centering of the environmental variable so that intercepts reflect average values for the HenID and ind. \n",
    "#df$temperature_C_avg_scale = scale(df$temperature_C_avg, center=TRUE, scale=TRUE)\n",
    "\n",
    "#setting reference group\n",
    "contrasts(df$Treatment)\n",
    "df <- df %>% mutate(Treatment = relevel(Treatment, ref = \"TRAN\"))\n",
    "contrasts(df$Treatment)\n",
    "\n",
    "contrasts(df$CLASS)\n",
    "df <- df %>% mutate(CLASS = relevel(CLASS, ref = \"LEXP\"))\n",
    "contrasts(df$CLASS)\n",
    "print(dim(df))\n",
    "summary(df)"
   ]
  },
  {
   "cell_type": "code",
   "execution_count": 5,
   "id": "8cd17851",
   "metadata": {},
   "outputs": [
    {
     "data": {
      "text/html": [
       "1"
      ],
      "text/latex": [
       "1"
      ],
      "text/markdown": [
       "1"
      ],
      "text/plain": [
       "[1] 1"
      ]
     },
     "metadata": {},
     "output_type": "display_data"
    },
    {
     "data": {
      "text/html": [
       "3.81332389115193"
      ],
      "text/latex": [
       "3.81332389115193"
      ],
      "text/markdown": [
       "3.81332389115193"
      ],
      "text/plain": [
       "[1] 3.813324"
      ]
     },
     "metadata": {},
     "output_type": "display_data"
    },
    {
     "data": {
      "text/html": [
       "1"
      ],
      "text/latex": [
       "1"
      ],
      "text/markdown": [
       "1"
      ],
      "text/plain": [
       "[1] 1"
      ]
     },
     "metadata": {},
     "output_type": "display_data"
    }
   ],
   "source": [
    "sd(df$time2)\n",
    "sd(df$time2_)\n",
    "sd(df$time)"
   ]
  },
  {
   "cell_type": "code",
   "execution_count": 6,
   "id": "390498a1",
   "metadata": {
    "scrolled": true
   },
   "outputs": [],
   "source": [
    "#df$Matrix_proportions = data.matrix(df[,c('propindoor_duration_2_Zone','propindoor_duration_3_Zone', 'propindoor_duration_4_Zone', 'propindoor_duration_5_Zone')])"
   ]
  },
  {
   "cell_type": "code",
   "execution_count": null,
   "id": "a4e61990",
   "metadata": {},
   "outputs": [
    {
     "name": "stderr",
     "output_type": "stream",
     "text": [
      "Compiling Stan program...\n",
      "\n",
      "Start sampling\n",
      "\n"
     ]
    }
   ],
   "source": [
    "iter_ = 10000\n",
    "iter_wu = 8000\n",
    "bind <- function(...) cbind(...) #cbind is reserve for multivariate in brms!\n",
    "#put 4 as reference!\n",
    "frml = bf(bind(propindoor_duration_4_Zone, propindoor_duration_2_Zone, propindoor_duration_3_Zone,\n",
    "               propindoor_duration_5_Zone) ~ time + time2 + Treatment + time:time2:Treatment + (1|PenID/HenID))\n",
    "fit = brm(frml, data = df, family = dirichlet(link = 'logit', link_phi = 'log'), \n",
    "         iter = iter_, warmup = iter_wu, thin = 30, chains = 3, cores = my.cores, seed = 12345)\n",
    "summary(fit)\n",
    "save(fit, file = file.path(path_, 'OFH_dirichlet_80birdsPenIDtimesquare.rda'))\n",
    "#load(file.path(path_,\"OFH_dirichlet_TEST.rda\")) "
   ]
  },
  {
   "cell_type": "code",
   "execution_count": null,
   "id": "b8fdc82c",
   "metadata": {},
   "outputs": [],
   "source": [
    "#as hens are in a unique pen:\n",
    "li_dfpred = list()\n",
    "li_dfnewdata = list()\n",
    "for (penid in unique(df$PenID)){\n",
    "    print(penid)\n",
    "    df_newdata = expand.grid(Treatment=c(\"OFH\",'TRAN'),\n",
    "                             PenID = penid,\n",
    "                             HenID =  unique(df[df$PenID==penid,]$HenID), #unique(df$HenID), #sample(unique(df$HenID), 10),\n",
    "                             time = unique(df$time),\n",
    "                             time2 = unique(df$time2),\n",
    "                             Treatment = unique(df$Treatment))\n",
    "    #dim(df_newdata)\n",
    "    #head(df_newdata, 2)\n",
    "    #predict.MCMCglmm() : https://www.rdocumentation.org/packages/MCMCglmm/versions/2.32/topics/predict.MCMCglmm\n",
    "    #credible intervals: https://stat.ethz.ch/pipermail/r-sig-mixed-models/2018q1/026408.html \n",
    "    df_pred = predict(fit, newdata=df_newdata, interval='confidence') #marginal=fit$Random$formula OR NULL?\n",
    "    #dim(df_pred)\n",
    "    #head(df_pred,3)\n",
    "    li_dfpred = append(li_dfpred,list(df_pred))\n",
    "    li_dfnewdata = append(li_dfnewdata,list(df_newdata))\n",
    "}\n",
    "df_pred_all = bind_rows(li_dfpred)\n",
    "df_newdata_all = bind_rows(li_dfnewdata)\n",
    "dim(df_pred_all)\n",
    "dim(df_newdata_all)\n",
    "write.csv(df_newdata, file.path(path_,'OFH_df_pred_all.csv'))\n",
    "write.csv(df_newdata_all, file.path(path_,'OFH_df_newdata_all.csv'))"
   ]
  },
  {
   "cell_type": "code",
   "execution_count": null,
   "id": "53e16ed7",
   "metadata": {},
   "outputs": [],
   "source": [
    "#TODO NEXT ROUND: all birds, account for CLASS; health, weight,"
   ]
  },
  {
   "cell_type": "code",
   "execution_count": null,
   "id": "5f0d9e18",
   "metadata": {},
   "outputs": [],
   "source": [
    "#dirichlet diagnotic pp_check\n",
    "#https://discourse.mc-stan.org/t/using-pp-check-for-dirichlet-model/8033/6\n",
    "#good to know: http://paul-buerkner.github.io/brms/reference/conditional_effects.html\n",
    "#to read: https://www.google.com/imgres?imgurl=https%3A%2F%2Fars.els-cdn.com%2Fcontent%2Fimage%2F1-s2.0-S0169207021000583-gr1.jpg&imgrefurl=https%3A%2F%2Fwww.sciencedirect.com%2Fscience%2Farticle%2Fpii%2FS0169207021000583&tbnid=ot_CAfIcu_8oPM&vet=12ahUKEwiTl-ez1tX4AhWyPOwKHSVVAhMQMygkegUIARDvAQ..i&docid=medWEoPnTXoAaM&w=531&h=525&q=plot%20Dirichlet%20prediction%20with%20brms%20odel&ved=2ahUKEwiTl-ez1tX4AhWyPOwKHSVVAhMQMygkegUIARDvAQ"
   ]
  },
  {
   "cell_type": "code",
   "execution_count": null,
   "id": "6e5ea7fd",
   "metadata": {},
   "outputs": [],
   "source": []
  },
  {
   "cell_type": "code",
   "execution_count": null,
   "id": "9625d2c9",
   "metadata": {},
   "outputs": [],
   "source": []
  },
  {
   "cell_type": "code",
   "execution_count": null,
   "id": "7a266ea8",
   "metadata": {},
   "outputs": [],
   "source": []
  },
  {
   "cell_type": "code",
   "execution_count": null,
   "id": "7d2cf752",
   "metadata": {},
   "outputs": [],
   "source": []
  },
  {
   "cell_type": "code",
   "execution_count": null,
   "id": "d970b333",
   "metadata": {},
   "outputs": [],
   "source": []
  }
 ],
 "metadata": {
  "kernelspec": {
   "display_name": " Rkernel_4",
   "language": "R",
   "name": "rkernel_4"
  },
  "language_info": {
   "codemirror_mode": "r",
   "file_extension": ".r",
   "mimetype": "text/x-r-source",
   "name": "R",
   "pygments_lexer": "r",
   "version": "4.1.1"
  }
 },
 "nbformat": 4,
 "nbformat_minor": 5
}
