{
 "cells": [
  {
   "cell_type": "code",
   "execution_count": 19,
   "id": "eaeb6db0",
   "metadata": {},
   "outputs": [],
   "source": [
    "library(dplyr) #%>%\n",
    "#library(lmerTest) #lmer\n",
    "library(MuMIn) #r2\n",
    "#library(merTools) #sim\n",
    "library(ggplot2) #ylim in plot\n",
    "#library(rstan) #model diagnostic\n",
    "library(ggeffects)  #ggpredict\n",
    "library(ggpubr) #ggboxplot\n",
    "library(DHARMa) #sim\n",
    "library(glmmTMB) \n",
    "#library(multcomp) #glht\n",
    "#library(emmeans)\n",
    "#library(splines)\n",
    "#library(sjPlot)\n",
    "#library(sjstats)\n",
    "#library(effectsize)\n",
    "#install.packages('multcomp')\n",
    "#library(performance) #r2_nakagawa\n",
    "library(jtools) # plot_summs \n",
    "library(ggstance) # plot_summs\n",
    "library(arm) #rescale by 2sd to comapre bin with cont\n",
    "library(sjPlot) #plot_models, tab_model\n",
    "library(parameters) #bootstrapped p-val"
   ]
  },
  {
   "cell_type": "code",
   "execution_count": 26,
   "id": "8f18c382",
   "metadata": {
    "scrolled": true
   },
   "outputs": [
    {
     "data": {
      "text/html": [
       "<table class=\"dataframe\">\n",
       "<caption>A matrix: 3 × 2 of type dbl</caption>\n",
       "<thead>\n",
       "\t<tr><th></th><th scope=col>LEXP</th><th scope=col>MEXP</th></tr>\n",
       "</thead>\n",
       "<tbody>\n",
       "\t<tr><th scope=row>REXP</th><td>0</td><td>0</td></tr>\n",
       "\t<tr><th scope=row>LEXP</th><td>1</td><td>0</td></tr>\n",
       "\t<tr><th scope=row>MEXP</th><td>0</td><td>1</td></tr>\n",
       "</tbody>\n",
       "</table>\n"
      ],
      "text/latex": [
       "A matrix: 3 × 2 of type dbl\n",
       "\\begin{tabular}{r|ll}\n",
       "  & LEXP & MEXP\\\\\n",
       "\\hline\n",
       "\tREXP & 0 & 0\\\\\n",
       "\tLEXP & 1 & 0\\\\\n",
       "\tMEXP & 0 & 1\\\\\n",
       "\\end{tabular}\n"
      ],
      "text/markdown": [
       "\n",
       "A matrix: 3 × 2 of type dbl\n",
       "\n",
       "| <!--/--> | LEXP | MEXP |\n",
       "|---|---|---|\n",
       "| REXP | 0 | 0 |\n",
       "| LEXP | 1 | 0 |\n",
       "| MEXP | 0 | 1 |\n",
       "\n"
      ],
      "text/plain": [
       "     LEXP MEXP\n",
       "REXP 0    0   \n",
       "LEXP 1    0   \n",
       "MEXP 0    1   "
      ]
     },
     "metadata": {},
     "output_type": "display_data"
    },
    {
     "data": {
      "text/html": [
       "<table class=\"dataframe\">\n",
       "<caption>A matrix: 2 × 1 of type dbl</caption>\n",
       "<thead>\n",
       "\t<tr><th></th><th scope=col>OFH</th></tr>\n",
       "</thead>\n",
       "<tbody>\n",
       "\t<tr><th scope=row>TRAN</th><td>0</td></tr>\n",
       "\t<tr><th scope=row>OFH</th><td>1</td></tr>\n",
       "</tbody>\n",
       "</table>\n"
      ],
      "text/latex": [
       "A matrix: 2 × 1 of type dbl\n",
       "\\begin{tabular}{r|l}\n",
       "  & OFH\\\\\n",
       "\\hline\n",
       "\tTRAN & 0\\\\\n",
       "\tOFH & 1\\\\\n",
       "\\end{tabular}\n"
      ],
      "text/markdown": [
       "\n",
       "A matrix: 2 × 1 of type dbl\n",
       "\n",
       "| <!--/--> | OFH |\n",
       "|---|---|\n",
       "| TRAN | 0 |\n",
       "| OFH | 1 |\n",
       "\n"
      ],
      "text/plain": [
       "     OFH\n",
       "TRAN 0  \n",
       "OFH  1  "
      ]
     },
     "metadata": {},
     "output_type": "display_data"
    },
    {
     "data": {
      "text/html": [
       "3.0381941659387e-17"
      ],
      "text/latex": [
       "3.0381941659387e-17"
      ],
      "text/markdown": [
       "3.0381941659387e-17"
      ],
      "text/plain": [
       "[1] 3.038194e-17"
      ]
     },
     "metadata": {},
     "output_type": "display_data"
    },
    {
     "data": {
      "text/html": [
       "1"
      ],
      "text/latex": [
       "1"
      ],
      "text/markdown": [
       "1"
      ],
      "text/plain": [
       "[1] 1"
      ]
     },
     "metadata": {},
     "output_type": "display_data"
    },
    {
     "data": {
      "text/html": [
       "1.51909708296935e-17"
      ],
      "text/latex": [
       "1.51909708296935e-17"
      ],
      "text/markdown": [
       "1.51909708296935e-17"
      ],
      "text/plain": [
       "[1] 1.519097e-17"
      ]
     },
     "metadata": {},
     "output_type": "display_data"
    },
    {
     "data": {
      "text/html": [
       "0.5"
      ],
      "text/latex": [
       "0.5"
      ],
      "text/markdown": [
       "0.5"
      ],
      "text/plain": [
       "[1] 0.5"
      ]
     },
     "metadata": {},
     "output_type": "display_data"
    },
    {
     "data": {
      "text/html": [
       "-8.34223472083177e-17"
      ],
      "text/latex": [
       "-8.34223472083177e-17"
      ],
      "text/markdown": [
       "-8.34223472083177e-17"
      ],
      "text/plain": [
       "[1] -8.342235e-17"
      ]
     },
     "metadata": {},
     "output_type": "display_data"
    },
    {
     "data": {
      "text/html": [
       "0.5"
      ],
      "text/latex": [
       "0.5"
      ],
      "text/markdown": [
       "0.5"
      ],
      "text/plain": [
       "[1] 0.5"
      ]
     },
     "metadata": {},
     "output_type": "display_data"
    },
    {
     "data": {
      "text/html": [
       "<style>\n",
       ".list-inline {list-style: none; margin:0; padding: 0}\n",
       ".list-inline>li {display: inline-block}\n",
       ".list-inline>li:not(:last-child)::after {content: \"\\00b7\"; padding: 0 .5ex}\n",
       "</style>\n",
       "<ol class=list-inline><li>38303</li><li>36</li></ol>\n"
      ],
      "text/latex": [
       "\\begin{enumerate*}\n",
       "\\item 38303\n",
       "\\item 36\n",
       "\\end{enumerate*}\n"
      ],
      "text/markdown": [
       "1. 38303\n",
       "2. 36\n",
       "\n",
       "\n"
      ],
      "text/plain": [
       "[1] 38303    36"
      ]
     },
     "metadata": {},
     "output_type": "display_data"
    },
    {
     "data": {
      "text/html": [
       "<style>\n",
       ".list-inline {list-style: none; margin:0; padding: 0}\n",
       ".list-inline>li {display: inline-block}\n",
       ".list-inline>li:not(:last-child)::after {content: \"\\00b7\"; padding: 0 .5ex}\n",
       "</style>\n",
       "<ol class=list-inline><li>38026</li><li>36</li></ol>\n"
      ],
      "text/latex": [
       "\\begin{enumerate*}\n",
       "\\item 38026\n",
       "\\item 36\n",
       "\\end{enumerate*}\n"
      ],
      "text/markdown": [
       "1. 38026\n",
       "2. 36\n",
       "\n",
       "\n"
      ],
      "text/plain": [
       "[1] 38026    36"
      ]
     },
     "metadata": {},
     "output_type": "display_data"
    },
    {
     "data": {
      "text/html": [
       "<style>\n",
       ".list-inline {list-style: none; margin:0; padding: 0}\n",
       ".list-inline>li {display: inline-block}\n",
       ".list-inline>li:not(:last-child)::after {content: \"\\00b7\"; padding: 0 .5ex}\n",
       "</style>\n",
       "<ol class=list-inline><li>37455</li><li>36</li></ol>\n"
      ],
      "text/latex": [
       "\\begin{enumerate*}\n",
       "\\item 37455\n",
       "\\item 36\n",
       "\\end{enumerate*}\n"
      ],
      "text/markdown": [
       "1. 37455\n",
       "2. 36\n",
       "\n",
       "\n"
      ],
      "text/plain": [
       "[1] 37455    36"
      ]
     },
     "metadata": {},
     "output_type": "display_data"
    },
    {
     "name": "stdout",
     "output_type": "stream",
     "text": [
      "[1] 37455    36\n"
     ]
    },
    {
     "data": {
      "text/plain": [
       "     HenID           PenID             level       Treatment     CLASS      \n",
       " hen_124:  250   pen10  :4837   2021-01-06:  159   TRAN:18498   REXP:21365  \n",
       " hen_136:  250   pen11  :4823   2021-01-09:  159   OFH :18957   LEXP: 7195  \n",
       " hen_145:  250   pen9   :4808   2021-01-10:  159                MEXP: 8895  \n",
       " hen_151:  250   pen5   :4698   2021-01-11:  159                            \n",
       " hen_28 :  250   pen4   :4682   2021-01-12:  159                            \n",
       " hen_57 :  250   pen3   :4628   2021-01-13:  159                            \n",
       " (Other):35955   (Other):8979   (Other)   :36501                            \n",
       "      DOA             WOA             DIB             WIB       weight_interp \n",
       " Min.   :119.0   Min.   :17.00   Min.   :  1.0   Min.   : 1.0   Min.   :1024  \n",
       " 1st Qu.:192.0   1st Qu.:28.00   1st Qu.: 74.0   1st Qu.:11.0   1st Qu.:1653  \n",
       " Median :264.0   Median :38.00   Median :146.0   Median :21.0   Median :1783  \n",
       " Mean   :264.1   Mean   :38.16   Mean   :146.1   Mean   :21.3   Mean   :1761  \n",
       " 3rd Qu.:333.0   3rd Qu.:48.00   3rd Qu.:215.0   3rd Qu.:31.0   3rd Qu.:1906  \n",
       " Max.   :416.0   Max.   :60.00   Max.   :298.0   Max.   :43.0   Max.   :2329  \n",
       "                                                                              \n",
       " FeatherDamage_interp   KBF_interp          weekday      is_vacc     \n",
       " Min.   : 0.000       Min.   : 0.000   friday   :5120   False:37455  \n",
       " 1st Qu.: 1.389       1st Qu.: 4.571   monday   :4897                \n",
       " Median :10.115       Median :18.000   saturday :5742                \n",
       " Mean   :12.779       Mean   :20.251   sunday   :5743                \n",
       " 3rd Qu.:20.858       3rd Qu.:32.686   thursday :5463                \n",
       " Max.   :65.859       Max.   :83.596   tuesday  :5079                \n",
       " NA's   :1012                          wednesday:5411                \n",
       "    WentinWG      vertical_travel_distance mid_cum_Z4_h_Morning  nbr_h_WGopen  \n",
       " Min.   :0.0000   Min.   :  0.00           Min.   :2.035        Min.   :0.000  \n",
       " 1st Qu.:0.0000   1st Qu.: 40.00           1st Qu.:3.854        1st Qu.:6.250  \n",
       " Median :1.0000   Median : 58.00           Median :4.500        Median :6.500  \n",
       " Mean   :0.6656   Mean   : 58.42           Mean   :4.630        Mean   :6.027  \n",
       " 3rd Qu.:1.0000   3rd Qu.: 74.00           3rd Qu.:5.308        3rd Qu.:6.500  \n",
       " Max.   :1.0000   Max.   :220.00           Max.   :7.994        Max.   :8.500  \n",
       " NA's   :1608                              NA's   :3744                        \n",
       " perc_duration_1_Zone perc_duration_4_Zone perc_duration_5_Zone\n",
       " Min.   : 0.000       Min.   :  0.000      Min.   :  0.0       \n",
       " 1st Qu.: 0.000       1st Qu.:  5.000      1st Qu.:  8.0       \n",
       " Median : 1.000       Median :  7.000      Median : 23.0       \n",
       " Mean   : 2.451       Mean   :  7.842      Mean   : 31.1       \n",
       " 3rd Qu.: 3.000       3rd Qu.:  9.000      3rd Qu.: 50.0       \n",
       " Max.   :44.000       Max.   :100.000      Max.   :100.0       \n",
       " NA's   :1608                                                  \n",
       " perc_duration_2_Zone nbr_h_per_day           date      \n",
       " Min.   :  0.00       Min.   : 8.00   2021-01-06:  159  \n",
       " 1st Qu.: 24.00       1st Qu.:15.00   2021-01-09:  159  \n",
       " Median : 40.00       Median :15.00   2021-01-10:  159  \n",
       " Mean   : 38.02       Mean   :14.55   2021-01-11:  159  \n",
       " 3rd Qu.: 52.00       3rd Qu.:15.00   2021-01-12:  159  \n",
       " Max.   :100.00       Max.   :15.00   2021-01-13:  159  \n",
       "                                      (Other)   :36501  \n",
       "                 temperature_C   temperature_C_avg perc_duration_1_Zone_nonan\n",
       " [1, 1, 1, 1, 1, 1]     :  624   Min.   :-5.833    Min.   : 0.000            \n",
       " [9, 10, 11, 11, 11, 11]:  583   1st Qu.: 4.667    1st Qu.: 0.000            \n",
       " [1, 1, 2, 2, 2, 2]     :  454   Median : 9.833    Median : 1.000            \n",
       " [3, 3, 4, 4, 4, 4]     :  315   Mean   :10.098    Mean   : 2.346            \n",
       "                        :  314   3rd Qu.:14.667    3rd Qu.: 3.000            \n",
       " [0, 1, 2, 2, 2, 2]     :  314   Max.   :26.167    Max.   :44.000            \n",
       " (Other)                :34851   NA's   :314                                 \n",
       " propindoor_duration_5_Zone propindoor_duration_4_Zone\n",
       " Min.   :0.00000            Min.   :0.000             \n",
       " 1st Qu.:0.08081            1st Qu.:0.050             \n",
       " Median :0.24000            Median :0.070             \n",
       " Mean   :0.31693            Mean   :0.079             \n",
       " 3rd Qu.:0.51000            3rd Qu.:0.093             \n",
       " Max.   :1.00000            Max.   :1.000             \n",
       "                            NA's   :3523              \n",
       " propindoor_duration_2_Zone propindoor_duration_5_Zone_rs\n",
       " Min.   :0.0000             Min.   :0.01000              \n",
       " 1st Qu.:0.2500             1st Qu.:0.08919              \n",
       " Median :0.4194             Median :0.24520              \n",
       " Mean   :0.3903             Mean   :0.32059              \n",
       " 3rd Qu.:0.5400             3rd Qu.:0.50980              \n",
       " Max.   :1.0000             Max.   :0.99000              \n",
       "                                                         \n",
       " propindoor_duration_4_Zone_rs propindoor_duration_2_Zone_rs  went_litter    \n",
       " Min.   :0.010                 Min.   :0.0100                Min.   :0.0000  \n",
       " 1st Qu.:0.059                 1st Qu.:0.2550                1st Qu.:1.0000  \n",
       " Median :0.079                 Median :0.4210                Median :1.0000  \n",
       " Mean   :0.088                 Mean   :0.3925                Mean   :0.9736  \n",
       " 3rd Qu.:0.101                 3rd Qu.:0.5392                3rd Qu.:1.0000  \n",
       " Max.   :0.990                 Max.   :0.9900                Max.   :1.0000  \n",
       " NA's   :3523                                                                \n",
       " stayed_top_tier      monthILB    \n",
       " Min.   :0.00000   month8 : 4552  \n",
       " 1st Qu.:0.00000   month3 : 4464  \n",
       " Median :0.00000   month6 : 4208  \n",
       " Mean   :0.01121   month7 : 4121  \n",
       " 3rd Qu.:0.00000   month2 : 4060  \n",
       " Max.   :1.00000   month5 : 3867  \n",
       "                   (Other):12183  "
      ]
     },
     "metadata": {},
     "output_type": "display_data"
    },
    {
     "data": {
      "text/html": [
       "<table class=\"dataframe\">\n",
       "<caption>A data.frame: 3 × 36</caption>\n",
       "<thead>\n",
       "\t<tr><th></th><th scope=col>HenID</th><th scope=col>PenID</th><th scope=col>level</th><th scope=col>Treatment</th><th scope=col>CLASS</th><th scope=col>DOA</th><th scope=col>WOA</th><th scope=col>DIB</th><th scope=col>WIB</th><th scope=col>weight_interp</th><th scope=col>...</th><th scope=col>perc_duration_1_Zone_nonan</th><th scope=col>propindoor_duration_5_Zone</th><th scope=col>propindoor_duration_4_Zone</th><th scope=col>propindoor_duration_2_Zone</th><th scope=col>propindoor_duration_5_Zone_rs</th><th scope=col>propindoor_duration_4_Zone_rs</th><th scope=col>propindoor_duration_2_Zone_rs</th><th scope=col>went_litter</th><th scope=col>stayed_top_tier</th><th scope=col>monthILB</th></tr>\n",
       "\t<tr><th></th><th scope=col>&lt;fct&gt;</th><th scope=col>&lt;fct&gt;</th><th scope=col>&lt;fct&gt;</th><th scope=col>&lt;fct&gt;</th><th scope=col>&lt;fct&gt;</th><th scope=col>&lt;int&gt;</th><th scope=col>&lt;int&gt;</th><th scope=col>&lt;int&gt;</th><th scope=col>&lt;int&gt;</th><th scope=col>&lt;dbl&gt;</th><th scope=col>...</th><th scope=col>&lt;dbl&gt;</th><th scope=col>&lt;dbl&gt;</th><th scope=col>&lt;dbl&gt;</th><th scope=col>&lt;dbl&gt;</th><th scope=col>&lt;dbl&gt;</th><th scope=col>&lt;dbl&gt;</th><th scope=col>&lt;dbl&gt;</th><th scope=col>&lt;int&gt;</th><th scope=col>&lt;int&gt;</th><th scope=col>&lt;fct&gt;</th></tr>\n",
       "</thead>\n",
       "<tbody>\n",
       "\t<tr><th scope=row>4</th><td>hen_131</td><td>pen10</td><td>2020-09-30</td><td>TRAN</td><td>REXP</td><td>119</td><td>17</td><td>1</td><td>1</td><td>1202.000</td><td>...</td><td>0</td><td>0.00</td><td>NA</td><td>0.85</td><td>0.0100</td><td>NA</td><td>0.8430</td><td>1</td><td>0</td><td>month1</td></tr>\n",
       "\t<tr><th scope=row>5</th><td>hen_131</td><td>pen10</td><td>2020-10-01</td><td>TRAN</td><td>REXP</td><td>120</td><td>18</td><td>2</td><td>1</td><td>1211.815</td><td>...</td><td>0</td><td>0.12</td><td>NA</td><td>0.69</td><td>0.1276</td><td>NA</td><td>0.6862</td><td>1</td><td>0</td><td>month1</td></tr>\n",
       "\t<tr><th scope=row>6</th><td>hen_131</td><td>pen10</td><td>2020-10-02</td><td>TRAN</td><td>REXP</td><td>121</td><td>18</td><td>3</td><td>1</td><td>1221.630</td><td>...</td><td>0</td><td>0.54</td><td>NA</td><td>0.29</td><td>0.5392</td><td>NA</td><td>0.2942</td><td>1</td><td>0</td><td>month1</td></tr>\n",
       "</tbody>\n",
       "</table>\n"
      ],
      "text/latex": [
       "A data.frame: 3 × 36\n",
       "\\begin{tabular}{r|lllllllllllllllllllll}\n",
       "  & HenID & PenID & level & Treatment & CLASS & DOA & WOA & DIB & WIB & weight\\_interp & ... & perc\\_duration\\_1\\_Zone\\_nonan & propindoor\\_duration\\_5\\_Zone & propindoor\\_duration\\_4\\_Zone & propindoor\\_duration\\_2\\_Zone & propindoor\\_duration\\_5\\_Zone\\_rs & propindoor\\_duration\\_4\\_Zone\\_rs & propindoor\\_duration\\_2\\_Zone\\_rs & went\\_litter & stayed\\_top\\_tier & monthILB\\\\\n",
       "  & <fct> & <fct> & <fct> & <fct> & <fct> & <int> & <int> & <int> & <int> & <dbl> & ... & <dbl> & <dbl> & <dbl> & <dbl> & <dbl> & <dbl> & <dbl> & <int> & <int> & <fct>\\\\\n",
       "\\hline\n",
       "\t4 & hen\\_131 & pen10 & 2020-09-30 & TRAN & REXP & 119 & 17 & 1 & 1 & 1202.000 & ... & 0 & 0.00 & NA & 0.85 & 0.0100 & NA & 0.8430 & 1 & 0 & month1\\\\\n",
       "\t5 & hen\\_131 & pen10 & 2020-10-01 & TRAN & REXP & 120 & 18 & 2 & 1 & 1211.815 & ... & 0 & 0.12 & NA & 0.69 & 0.1276 & NA & 0.6862 & 1 & 0 & month1\\\\\n",
       "\t6 & hen\\_131 & pen10 & 2020-10-02 & TRAN & REXP & 121 & 18 & 3 & 1 & 1221.630 & ... & 0 & 0.54 & NA & 0.29 & 0.5392 & NA & 0.2942 & 1 & 0 & month1\\\\\n",
       "\\end{tabular}\n"
      ],
      "text/markdown": [
       "\n",
       "A data.frame: 3 × 36\n",
       "\n",
       "| <!--/--> | HenID &lt;fct&gt; | PenID &lt;fct&gt; | level &lt;fct&gt; | Treatment &lt;fct&gt; | CLASS &lt;fct&gt; | DOA &lt;int&gt; | WOA &lt;int&gt; | DIB &lt;int&gt; | WIB &lt;int&gt; | weight_interp &lt;dbl&gt; | ... ... | perc_duration_1_Zone_nonan &lt;dbl&gt; | propindoor_duration_5_Zone &lt;dbl&gt; | propindoor_duration_4_Zone &lt;dbl&gt; | propindoor_duration_2_Zone &lt;dbl&gt; | propindoor_duration_5_Zone_rs &lt;dbl&gt; | propindoor_duration_4_Zone_rs &lt;dbl&gt; | propindoor_duration_2_Zone_rs &lt;dbl&gt; | went_litter &lt;int&gt; | stayed_top_tier &lt;int&gt; | monthILB &lt;fct&gt; |\n",
       "|---|---|---|---|---|---|---|---|---|---|---|---|---|---|---|---|---|---|---|---|---|---|\n",
       "| 4 | hen_131 | pen10 | 2020-09-30 | TRAN | REXP | 119 | 17 | 1 | 1 | 1202.000 | ... | 0 | 0.00 | NA | 0.85 | 0.0100 | NA | 0.8430 | 1 | 0 | month1 |\n",
       "| 5 | hen_131 | pen10 | 2020-10-01 | TRAN | REXP | 120 | 18 | 2 | 1 | 1211.815 | ... | 0 | 0.12 | NA | 0.69 | 0.1276 | NA | 0.6862 | 1 | 0 | month1 |\n",
       "| 6 | hen_131 | pen10 | 2020-10-02 | TRAN | REXP | 121 | 18 | 3 | 1 | 1221.630 | ... | 0 | 0.54 | NA | 0.29 | 0.5392 | NA | 0.2942 | 1 | 0 | month1 |\n",
       "\n"
      ],
      "text/plain": [
       "  HenID   PenID level      Treatment CLASS DOA WOA DIB WIB weight_interp ...\n",
       "4 hen_131 pen10 2020-09-30 TRAN      REXP  119 17  1   1   1202.000      ...\n",
       "5 hen_131 pen10 2020-10-01 TRAN      REXP  120 18  2   1   1211.815      ...\n",
       "6 hen_131 pen10 2020-10-02 TRAN      REXP  121 18  3   1   1221.630      ...\n",
       "  perc_duration_1_Zone_nonan propindoor_duration_5_Zone\n",
       "4 0                          0.00                      \n",
       "5 0                          0.12                      \n",
       "6 0                          0.54                      \n",
       "  propindoor_duration_4_Zone propindoor_duration_2_Zone\n",
       "4 NA                         0.85                      \n",
       "5 NA                         0.69                      \n",
       "6 NA                         0.29                      \n",
       "  propindoor_duration_5_Zone_rs propindoor_duration_4_Zone_rs\n",
       "4 0.0100                        NA                           \n",
       "5 0.1276                        NA                           \n",
       "6 0.5392                        NA                           \n",
       "  propindoor_duration_2_Zone_rs went_litter stayed_top_tier monthILB\n",
       "4 0.8430                        1           0               month1  \n",
       "5 0.6862                        1           0               month1  \n",
       "6 0.2942                        1           0               month1  "
      ]
     },
     "metadata": {},
     "output_type": "display_data"
    }
   ],
   "source": [
    "path_ = 'G:/VPHI/Welfare/2- Research Projects/OFHE2.OriginsE2/DataOutput/TrackingSystem/ALLDATA_'\n",
    "path_visual = file.path(path_, 'OFH_model','Month_bootstrap_FINAL')\n",
    "dir.create(path_visual)\n",
    "df = read.csv(file.path(path_,'OFH_df_all_mvt.csv'), header = TRUE, sep = \",\")\n",
    "\n",
    "#factors\n",
    "df$HenID = as.factor(df$HenID)   \n",
    "df$PenID = as.factor(df$PenID)\n",
    "df$CLASS = as.factor(df$CLASS) \n",
    "df = df %>% mutate(CLASS = relevel(CLASS, ref = \"REXP\"))\n",
    "contrasts(df$CLASS)\n",
    "df$Treatment = as.factor(df$Treatment) #unsacaled: 0-1\n",
    "#setting reference group\n",
    "df <- df %>% mutate(Treatment = relevel(Treatment, ref = \"TRAN\"))\n",
    "contrasts(df$Treatment)\n",
    "#df$time = scale(df$WIB, center=FALSE, scale=sd(df$WIB, na.rm = TRUE)) #as not centering, we need to add this\n",
    "#df$time2_ = poly(df$time, degree=2,raw=FALSE)[,2]\n",
    "df$monthILB = as.factor(df$monthILB) \n",
    "#small example\n",
    "mean(scale(df$DIB))\n",
    "sd(scale(df$DIB))\n",
    "mean(rescale(df$DIB, binary.inputs=\"full\"))\n",
    "sd(rescale(df$DIB, binary.inputs=\"full\"))\n",
    "mean(rescale(df$Treatment, binary.inputs=\"full\"))\n",
    "sd(rescale(df$Treatment, binary.inputs=\"full\"))\n",
    "#unique(rescale(df$Treatment, binary.inputs=\"0/1\")) #0-1\n",
    "\n",
    "#FeatherDamage_interp we wont use it as many nan\n",
    "dim(df)\n",
    "df = subset(df, !is.na(KBF_interp))\n",
    "dim(df)\n",
    "df = subset(df, !is.na(weight_interp))\n",
    "dim(df)\n",
    "\n",
    "#two_sd: variables are scaled by two times the deviation (SD or MAD depending on robust). \n",
    "#This method can be useful to obtain model coefficients of continuous parameters comparable to coefficients related to binary predictors (Gelman, 2008).\n",
    "#scale var1 to have mean = 0 and standard deviation = 0.5\n",
    "#rescale\n",
    "print(dim(df))\n",
    "summary(df)\n",
    "write.csv(df, file.path(path_,'OFH_df_spaceUse_allday_4visual.csv'))\n",
    "head(df,3)"
   ]
  },
  {
   "cell_type": "code",
   "execution_count": 21,
   "id": "c987c4dc",
   "metadata": {},
   "outputs": [],
   "source": [
    "#tab_model: to use check first for each distribution used here (gamma, poisson, hurdle etc). ANd verify sam evaue than excel\n",
    "#as we want to do the plot in pyhton, we will save the excel based on the models for plots and further detialed shown in supplement"
   ]
  },
  {
   "cell_type": "code",
   "execution_count": 22,
   "id": "ff663b24",
   "metadata": {},
   "outputs": [],
   "source": [
    "#var with nan\n",
    "#nbr_stays_1_Zone                 \n",
    "#mid_cum_Z4_h_Morning             \n",
    "#temperature_C_avg"
   ]
  },
  {
   "cell_type": "code",
   "execution_count": 23,
   "id": "4030bec7",
   "metadata": {},
   "outputs": [],
   "source": [
    "n_iter = 500"
   ]
  },
  {
   "cell_type": "markdown",
   "id": "0374e602",
   "metadata": {},
   "source": [
    "check for convergence & NA/NaN function evaluation"
   ]
  },
  {
   "cell_type": "markdown",
   "id": "7ba46e94",
   "metadata": {},
   "source": [
    "#str(summary(li_model[[2]]))#['coefficients']\n",
    "#tab_model has all. but if I want to extract myself:\n",
    "summary(li_model[[2]])[['ngrps']]$cond[['PenID']]\n",
    "summary(li_model[[2]])[['ngrps']]$cond[['HenID:PenID']]\n",
    "summary(li_model[[2]])[['nobs']]\n",
    "summary(li_model[[2]])[['varcor']]$cond['HenID:PenID']\n",
    "summary(li_model[[2]])[['varcor']]$cond['PenID']\n",
    "confint(fit)"
   ]
  },
  {
   "cell_type": "code",
   "execution_count": 6,
   "id": "12418929",
   "metadata": {},
   "outputs": [],
   "source": [
    "#http://www.strengejacke.de/sjPlot/reference/plot_model.html\n",
    "#plot model but model as row and coffieint as column\n",
    "#plot_models(li_model, p.shape = TRUE, rm.terms=c('DIB_sc','KBF_interp_sc','LEXP','MEPX'), grid = TRUE)#type = \"std2\", title='TreatmentOFH', "
   ]
  },
  {
   "cell_type": "code",
   "execution_count": 7,
   "id": "a5fc6b2c",
   "metadata": {},
   "outputs": [],
   "source": [
    "#in train\n",
    "#path_visual = 'C:/Users/camil/Desktop/animals_code/PhD-AnimalWelfare/Chapter3-OFH/plot'"
   ]
  },
  {
   "cell_type": "markdown",
   "id": "0fa8ebd8",
   "metadata": {},
   "source": [
    "# propindoor_duration_2_Zone"
   ]
  },
  {
   "cell_type": "code",
   "execution_count": 8,
   "id": "a2200fc9",
   "metadata": {
    "scrolled": true
   },
   "outputs": [
    {
     "data": {
      "text/html": [
       "<style>\n",
       ".list-inline {list-style: none; margin:0; padding: 0}\n",
       ".list-inline>li {display: inline-block}\n",
       ".list-inline>li:not(:last-child)::after {content: \"\\00b7\"; padding: 0 .5ex}\n",
       "</style>\n",
       "<ol class=list-inline><li>37455</li><li>36</li></ol>\n"
      ],
      "text/latex": [
       "\\begin{enumerate*}\n",
       "\\item 37455\n",
       "\\item 36\n",
       "\\end{enumerate*}\n"
      ],
      "text/markdown": [
       "1. 37455\n",
       "2. 36\n",
       "\n",
       "\n"
      ],
      "text/plain": [
       "[1] 37455    36"
      ]
     },
     "metadata": {},
     "output_type": "display_data"
    },
    {
     "data": {
      "text/html": [
       "<style>\n",
       ".list-inline {list-style: none; margin:0; padding: 0}\n",
       ".list-inline>li {display: inline-block}\n",
       ".list-inline>li:not(:last-child)::after {content: \"\\00b7\"; padding: 0 .5ex}\n",
       "</style>\n",
       "<ol class=list-inline><li>37455</li><li>36</li></ol>\n"
      ],
      "text/latex": [
       "\\begin{enumerate*}\n",
       "\\item 37455\n",
       "\\item 36\n",
       "\\end{enumerate*}\n"
      ],
      "text/markdown": [
       "1. 37455\n",
       "2. 36\n",
       "\n",
       "\n"
      ],
      "text/plain": [
       "[1] 37455    36"
      ]
     },
     "metadata": {},
     "output_type": "display_data"
    },
    {
     "name": "stdout",
     "output_type": "stream",
     "text": [
      "[1] \"month1\"\n"
     ]
    },
    {
     "name": "stderr",
     "output_type": "stream",
     "text": [
      "Warning message in Matrix::sparseMatrix(dims = c(0, 0), i = integer(0), j = integer(0), :\n",
      "\"'giveCsparse' has been deprecated; setting 'repr = \"T\"' for you\"\n",
      "Warning message in Matrix::sparseMatrix(dims = c(0, 0), i = integer(0), j = integer(0), :\n",
      "\"'giveCsparse' has been deprecated; setting 'repr = \"T\"' for you\"\n",
      "Warning message in Matrix::sparseMatrix(dims = c(0, 0), i = integer(0), j = integer(0), :\n",
      "\"'giveCsparse' has been deprecated; setting 'repr = \"T\"' for you\"\n",
      "Warning message in Matrix::sparseMatrix(dims = c(0, 0), i = integer(0), j = integer(0), :\n",
      "\"'giveCsparse' has been deprecated; setting 'repr = \"T\"' for you\"\n",
      "Warning message in Matrix::sparseMatrix(dims = c(0, 0), i = integer(0), j = integer(0), :\n",
      "\"'giveCsparse' has been deprecated; setting 'repr = \"T\"' for you\"\n",
      "Warning message in Matrix::sparseMatrix(dims = c(0, 0), i = integer(0), j = integer(0), :\n",
      "\"'giveCsparse' has been deprecated; setting 'repr = \"T\"' for you\"\n"
     ]
    },
    {
     "name": "stdout",
     "output_type": "stream",
     "text": [
      "Data: df__\n",
      "Models:\n",
      "fit_nopenid: went_litter ~ CLASS + Treatment + rescale(DIB) + rescale(weight_interp) + , zi=~0, disp=~1\n",
      "fit_nopenid:     rescale(nbr_h_per_day) + (1 | HenID), zi=~0, disp=~1\n",
      "fit_penid: went_litter ~ CLASS + Treatment + rescale(DIB) + rescale(weight_interp) + , zi=~0, disp=~1\n",
      "fit_penid:     rescale(nbr_h_per_day) + (1 | PenID/HenID), zi=~0, disp=~1\n",
      "            Df    AIC    BIC  logLik deviance Chisq Chi Df Pr(>Chisq)\n",
      "fit_nopenid  8 2424.9 2474.2 -1204.4   2408.9                        \n",
      "fit_penid    9 2426.9 2482.4 -1204.4   2408.9     0      1          1\n"
     ]
    },
    {
     "name": "stderr",
     "output_type": "stream",
     "text": [
      "Warning message:\n",
      "\"Bootstrapping only returns fixed effects of the mixed model.\"\n",
      "Warning message in Matrix::sparseMatrix(dims = c(0, 0), i = integer(0), j = integer(0), :\n",
      "\"'giveCsparse' has been deprecated; setting 'repr = \"T\"' for you\"\n",
      "Warning message in Matrix::sparseMatrix(dims = c(0, 0), i = integer(0), j = integer(0), :\n",
      "\"'giveCsparse' has been deprecated; setting 'repr = \"T\"' for you\"\n",
      "Warning message in Matrix::sparseMatrix(dims = c(0, 0), i = integer(0), j = integer(0), :\n",
      "\"'giveCsparse' has been deprecated; setting 'repr = \"T\"' for you\"\n",
      "Warning message in Matrix::sparseMatrix(dims = c(0, 0), i = integer(0), j = integer(0), :\n",
      "\"'giveCsparse' has been deprecated; setting 'repr = \"T\"' for you\"\n",
      "Warning message in Matrix::sparseMatrix(dims = c(0, 0), i = integer(0), j = integer(0), :\n",
      "\"'giveCsparse' has been deprecated; setting 'repr = \"T\"' for you\"\n",
      "Warning message in Matrix::sparseMatrix(dims = c(0, 0), i = integer(0), j = integer(0), :\n",
      "\"'giveCsparse' has been deprecated; setting 'repr = \"T\"' for you\"\n"
     ]
    },
    {
     "name": "stdout",
     "output_type": "stream",
     "text": [
      "NULL\n",
      "NULL\n",
      "[1] \"month2\"\n"
     ]
    },
    {
     "name": "stderr",
     "output_type": "stream",
     "text": [
      "Warning message in Matrix::sparseMatrix(dims = c(0, 0), i = integer(0), j = integer(0), :\n",
      "\"'giveCsparse' has been deprecated; setting 'repr = \"T\"' for you\"\n",
      "Warning message in Matrix::sparseMatrix(dims = c(0, 0), i = integer(0), j = integer(0), :\n",
      "\"'giveCsparse' has been deprecated; setting 'repr = \"T\"' for you\"\n",
      "Warning message in Matrix::sparseMatrix(dims = c(0, 0), i = integer(0), j = integer(0), :\n",
      "\"'giveCsparse' has been deprecated; setting 'repr = \"T\"' for you\"\n",
      "Warning message in Matrix::sparseMatrix(dims = c(0, 0), i = integer(0), j = integer(0), :\n",
      "\"'giveCsparse' has been deprecated; setting 'repr = \"T\"' for you\"\n",
      "Warning message in Matrix::sparseMatrix(dims = c(0, 0), i = integer(0), j = integer(0), :\n",
      "\"'giveCsparse' has been deprecated; setting 'repr = \"T\"' for you\"\n",
      "Warning message in Matrix::sparseMatrix(dims = c(0, 0), i = integer(0), j = integer(0), :\n",
      "\"'giveCsparse' has been deprecated; setting 'repr = \"T\"' for you\"\n"
     ]
    },
    {
     "name": "stdout",
     "output_type": "stream",
     "text": [
      "Data: df__\n",
      "Models:\n",
      "fit_nopenid: propindoor_duration_2_Zone ~ CLASS + Treatment + rescale(DIB) + , zi=~0, disp=~1\n",
      "fit_nopenid:     rescale(weight_interp) + rescale(nbr_h_per_day) + (1 | HenID), zi=~0, disp=~1\n",
      "fit_penid: propindoor_duration_2_Zone ~ CLASS + Treatment + rescale(DIB) + , zi=~0, disp=~1\n",
      "fit_penid:     rescale(weight_interp) + rescale(nbr_h_per_day) + (1 | PenID/HenID), zi=~0, disp=~1\n",
      "            Df     AIC     BIC logLik deviance Chisq Chi Df Pr(>Chisq)\n",
      "fit_nopenid  9 -7605.5 -7548.7 3811.8  -7623.5                        \n",
      "fit_penid   10 -7603.5 -7540.4 3811.8  -7623.5     0      1          1\n"
     ]
    },
    {
     "name": "stderr",
     "output_type": "stream",
     "text": [
      "Warning message in Matrix::sparseMatrix(dims = c(0, 0), i = integer(0), j = integer(0), :\n",
      "\"'giveCsparse' has been deprecated; setting 'repr = \"T\"' for you\"\n",
      "Warning message in Matrix::sparseMatrix(dims = c(0, 0), i = integer(0), j = integer(0), :\n",
      "\"'giveCsparse' has been deprecated; setting 'repr = \"T\"' for you\"\n",
      "Warning message in Matrix::sparseMatrix(dims = c(0, 0), i = integer(0), j = integer(0), :\n",
      "\"'giveCsparse' has been deprecated; setting 'repr = \"T\"' for you\"\n",
      "Warning message in Matrix::sparseMatrix(dims = c(0, 0), i = integer(0), j = integer(0), :\n",
      "\"'giveCsparse' has been deprecated; setting 'repr = \"T\"' for you\"\n",
      "Warning message in Matrix::sparseMatrix(dims = c(0, 0), i = integer(0), j = integer(0), :\n",
      "\"'giveCsparse' has been deprecated; setting 'repr = \"T\"' for you\"\n",
      "Warning message in Matrix::sparseMatrix(dims = c(0, 0), i = integer(0), j = integer(0), :\n",
      "\"'giveCsparse' has been deprecated; setting 'repr = \"T\"' for you\"\n",
      "Warning message in Matrix::sparseMatrix(dims = c(0, 0), i = integer(0), j = integer(0), :\n",
      "\"'giveCsparse' has been deprecated; setting 'repr = \"T\"' for you\"\n",
      "Warning message in Matrix::sparseMatrix(dims = c(0, 0), i = integer(0), j = integer(0), :\n",
      "\"'giveCsparse' has been deprecated; setting 'repr = \"T\"' for you\"\n",
      "Warning message in Matrix::sparseMatrix(dims = c(0, 0), i = integer(0), j = integer(0), :\n",
      "\"'giveCsparse' has been deprecated; setting 'repr = \"T\"' for you\"\n",
      "Warning message:\n",
      "\"Bootstrapping only returns fixed effects of the mixed model.\"\n",
      "Warning message in Matrix::sparseMatrix(dims = c(0, 0), i = integer(0), j = integer(0), :\n",
      "\"'giveCsparse' has been deprecated; setting 'repr = \"T\"' for you\"\n",
      "Warning message in Matrix::sparseMatrix(dims = c(0, 0), i = integer(0), j = integer(0), :\n",
      "\"'giveCsparse' has been deprecated; setting 'repr = \"T\"' for you\"\n",
      "Warning message in Matrix::sparseMatrix(dims = c(0, 0), i = integer(0), j = integer(0), :\n",
      "\"'giveCsparse' has been deprecated; setting 'repr = \"T\"' for you\"\n",
      "Warning message in Matrix::sparseMatrix(dims = c(0, 0), i = integer(0), j = integer(0), :\n",
      "\"'giveCsparse' has been deprecated; setting 'repr = \"T\"' for you\"\n",
      "Warning message in Matrix::sparseMatrix(dims = c(0, 0), i = integer(0), j = integer(0), :\n",
      "\"'giveCsparse' has been deprecated; setting 'repr = \"T\"' for you\"\n",
      "Warning message in Matrix::sparseMatrix(dims = c(0, 0), i = integer(0), j = integer(0), :\n",
      "\"'giveCsparse' has been deprecated; setting 'repr = \"T\"' for you\"\n"
     ]
    },
    {
     "name": "stdout",
     "output_type": "stream",
     "text": [
      "NULL\n",
      "NULL\n",
      "[1] \"month3\"\n"
     ]
    },
    {
     "name": "stderr",
     "output_type": "stream",
     "text": [
      "Warning message in Matrix::sparseMatrix(dims = c(0, 0), i = integer(0), j = integer(0), :\n",
      "\"'giveCsparse' has been deprecated; setting 'repr = \"T\"' for you\"\n",
      "Warning message in Matrix::sparseMatrix(dims = c(0, 0), i = integer(0), j = integer(0), :\n",
      "\"'giveCsparse' has been deprecated; setting 'repr = \"T\"' for you\"\n",
      "Warning message in Matrix::sparseMatrix(dims = c(0, 0), i = integer(0), j = integer(0), :\n",
      "\"'giveCsparse' has been deprecated; setting 'repr = \"T\"' for you\"\n",
      "Warning message in Matrix::sparseMatrix(dims = c(0, 0), i = integer(0), j = integer(0), :\n",
      "\"'giveCsparse' has been deprecated; setting 'repr = \"T\"' for you\"\n",
      "Warning message in Matrix::sparseMatrix(dims = c(0, 0), i = integer(0), j = integer(0), :\n",
      "\"'giveCsparse' has been deprecated; setting 'repr = \"T\"' for you\"\n",
      "Warning message in Matrix::sparseMatrix(dims = c(0, 0), i = integer(0), j = integer(0), :\n",
      "\"'giveCsparse' has been deprecated; setting 'repr = \"T\"' for you\"\n"
     ]
    },
    {
     "name": "stdout",
     "output_type": "stream",
     "text": [
      "Data: df__\n",
      "Models:\n",
      "fit_nopenid: propindoor_duration_2_Zone ~ CLASS + Treatment + rescale(DIB) + , zi=~0, disp=~1\n",
      "fit_nopenid:     rescale(weight_interp) + rescale(KBF_interp) + (1 | HenID), zi=~0, disp=~1\n",
      "fit_penid: propindoor_duration_2_Zone ~ CLASS + Treatment + rescale(DIB) + , zi=~0, disp=~1\n",
      "fit_penid:     rescale(weight_interp) + rescale(KBF_interp) + (1 | PenID/HenID), zi=~0, disp=~1\n",
      "            Df    AIC    BIC logLik deviance Chisq Chi Df Pr(>Chisq)\n",
      "fit_nopenid  9 -11806 -11748 5911.8   -11824                        \n",
      "fit_penid   10 -11804 -11740 5911.8   -11824     0      1          1\n"
     ]
    },
    {
     "name": "stderr",
     "output_type": "stream",
     "text": [
      "Warning message in Matrix::sparseMatrix(dims = c(0, 0), i = integer(0), j = integer(0), :\n",
      "\"'giveCsparse' has been deprecated; setting 'repr = \"T\"' for you\"\n",
      "Warning message in Matrix::sparseMatrix(dims = c(0, 0), i = integer(0), j = integer(0), :\n",
      "\"'giveCsparse' has been deprecated; setting 'repr = \"T\"' for you\"\n",
      "Warning message in Matrix::sparseMatrix(dims = c(0, 0), i = integer(0), j = integer(0), :\n",
      "\"'giveCsparse' has been deprecated; setting 'repr = \"T\"' for you\"\n",
      "Warning message in Matrix::sparseMatrix(dims = c(0, 0), i = integer(0), j = integer(0), :\n",
      "\"'giveCsparse' has been deprecated; setting 'repr = \"T\"' for you\"\n",
      "Warning message in Matrix::sparseMatrix(dims = c(0, 0), i = integer(0), j = integer(0), :\n",
      "\"'giveCsparse' has been deprecated; setting 'repr = \"T\"' for you\"\n",
      "Warning message in Matrix::sparseMatrix(dims = c(0, 0), i = integer(0), j = integer(0), :\n",
      "\"'giveCsparse' has been deprecated; setting 'repr = \"T\"' for you\"\n",
      "Warning message in Matrix::sparseMatrix(dims = c(0, 0), i = integer(0), j = integer(0), :\n",
      "\"'giveCsparse' has been deprecated; setting 'repr = \"T\"' for you\"\n",
      "Warning message in Matrix::sparseMatrix(dims = c(0, 0), i = integer(0), j = integer(0), :\n",
      "\"'giveCsparse' has been deprecated; setting 'repr = \"T\"' for you\"\n",
      "Warning message in Matrix::sparseMatrix(dims = c(0, 0), i = integer(0), j = integer(0), :\n",
      "\"'giveCsparse' has been deprecated; setting 'repr = \"T\"' for you\"\n",
      "Warning message:\n",
      "\"Bootstrapping only returns fixed effects of the mixed model.\"\n",
      "Warning message in Matrix::sparseMatrix(dims = c(0, 0), i = integer(0), j = integer(0), :\n",
      "\"'giveCsparse' has been deprecated; setting 'repr = \"T\"' for you\"\n",
      "Warning message in Matrix::sparseMatrix(dims = c(0, 0), i = integer(0), j = integer(0), :\n",
      "\"'giveCsparse' has been deprecated; setting 'repr = \"T\"' for you\"\n",
      "Warning message in Matrix::sparseMatrix(dims = c(0, 0), i = integer(0), j = integer(0), :\n",
      "\"'giveCsparse' has been deprecated; setting 'repr = \"T\"' for you\"\n",
      "Warning message in Matrix::sparseMatrix(dims = c(0, 0), i = integer(0), j = integer(0), :\n",
      "\"'giveCsparse' has been deprecated; setting 'repr = \"T\"' for you\"\n",
      "Warning message in Matrix::sparseMatrix(dims = c(0, 0), i = integer(0), j = integer(0), :\n",
      "\"'giveCsparse' has been deprecated; setting 'repr = \"T\"' for you\"\n",
      "Warning message in Matrix::sparseMatrix(dims = c(0, 0), i = integer(0), j = integer(0), :\n",
      "\"'giveCsparse' has been deprecated; setting 'repr = \"T\"' for you\"\n"
     ]
    },
    {
     "name": "stdout",
     "output_type": "stream",
     "text": [
      "NULL\n",
      "NULL\n",
      "[1] \"month4\"\n"
     ]
    },
    {
     "name": "stderr",
     "output_type": "stream",
     "text": [
      "Warning message in Matrix::sparseMatrix(dims = c(0, 0), i = integer(0), j = integer(0), :\n",
      "\"'giveCsparse' has been deprecated; setting 'repr = \"T\"' for you\"\n",
      "Warning message in Matrix::sparseMatrix(dims = c(0, 0), i = integer(0), j = integer(0), :\n",
      "\"'giveCsparse' has been deprecated; setting 'repr = \"T\"' for you\"\n",
      "Warning message in Matrix::sparseMatrix(dims = c(0, 0), i = integer(0), j = integer(0), :\n",
      "\"'giveCsparse' has been deprecated; setting 'repr = \"T\"' for you\"\n",
      "Warning message in Matrix::sparseMatrix(dims = c(0, 0), i = integer(0), j = integer(0), :\n",
      "\"'giveCsparse' has been deprecated; setting 'repr = \"T\"' for you\"\n",
      "Warning message in Matrix::sparseMatrix(dims = c(0, 0), i = integer(0), j = integer(0), :\n",
      "\"'giveCsparse' has been deprecated; setting 'repr = \"T\"' for you\"\n",
      "Warning message in Matrix::sparseMatrix(dims = c(0, 0), i = integer(0), j = integer(0), :\n",
      "\"'giveCsparse' has been deprecated; setting 'repr = \"T\"' for you\"\n"
     ]
    },
    {
     "name": "stdout",
     "output_type": "stream",
     "text": [
      "Data: df__\n",
      "Models:\n",
      "fit_nopenid: propindoor_duration_2_Zone ~ CLASS + Treatment + rescale(DIB) + , zi=~0, disp=~1\n",
      "fit_nopenid:     rescale(weight_interp) + rescale(KBF_interp) + (1 | HenID), zi=~0, disp=~1\n",
      "fit_penid: propindoor_duration_2_Zone ~ CLASS + Treatment + rescale(DIB) + , zi=~0, disp=~1\n",
      "fit_penid:     rescale(weight_interp) + rescale(KBF_interp) + (1 | PenID/HenID), zi=~0, disp=~1\n",
      "            Df   AIC     BIC logLik deviance  Chisq Chi Df Pr(>Chisq)\n",
      "fit_nopenid  9 -9537 -9481.1 4777.5    -9555                         \n",
      "fit_penid   10 -9535 -9472.9 4777.5    -9555 0.0014      1       0.97\n"
     ]
    },
    {
     "name": "stderr",
     "output_type": "stream",
     "text": [
      "Warning message in Matrix::sparseMatrix(dims = c(0, 0), i = integer(0), j = integer(0), :\n",
      "\"'giveCsparse' has been deprecated; setting 'repr = \"T\"' for you\"\n",
      "Warning message in Matrix::sparseMatrix(dims = c(0, 0), i = integer(0), j = integer(0), :\n",
      "\"'giveCsparse' has been deprecated; setting 'repr = \"T\"' for you\"\n",
      "Warning message in Matrix::sparseMatrix(dims = c(0, 0), i = integer(0), j = integer(0), :\n",
      "\"'giveCsparse' has been deprecated; setting 'repr = \"T\"' for you\"\n",
      "Warning message in Matrix::sparseMatrix(dims = c(0, 0), i = integer(0), j = integer(0), :\n",
      "\"'giveCsparse' has been deprecated; setting 'repr = \"T\"' for you\"\n",
      "Warning message in Matrix::sparseMatrix(dims = c(0, 0), i = integer(0), j = integer(0), :\n",
      "\"'giveCsparse' has been deprecated; setting 'repr = \"T\"' for you\"\n",
      "Warning message in Matrix::sparseMatrix(dims = c(0, 0), i = integer(0), j = integer(0), :\n",
      "\"'giveCsparse' has been deprecated; setting 'repr = \"T\"' for you\"\n",
      "Warning message in Matrix::sparseMatrix(dims = c(0, 0), i = integer(0), j = integer(0), :\n",
      "\"'giveCsparse' has been deprecated; setting 'repr = \"T\"' for you\"\n",
      "Warning message in Matrix::sparseMatrix(dims = c(0, 0), i = integer(0), j = integer(0), :\n",
      "\"'giveCsparse' has been deprecated; setting 'repr = \"T\"' for you\"\n",
      "Warning message in Matrix::sparseMatrix(dims = c(0, 0), i = integer(0), j = integer(0), :\n",
      "\"'giveCsparse' has been deprecated; setting 'repr = \"T\"' for you\"\n",
      "Warning message:\n",
      "\"Bootstrapping only returns fixed effects of the mixed model.\"\n",
      "Warning message in Matrix::sparseMatrix(dims = c(0, 0), i = integer(0), j = integer(0), :\n",
      "\"'giveCsparse' has been deprecated; setting 'repr = \"T\"' for you\"\n",
      "Warning message in Matrix::sparseMatrix(dims = c(0, 0), i = integer(0), j = integer(0), :\n",
      "\"'giveCsparse' has been deprecated; setting 'repr = \"T\"' for you\"\n",
      "Warning message in Matrix::sparseMatrix(dims = c(0, 0), i = integer(0), j = integer(0), :\n",
      "\"'giveCsparse' has been deprecated; setting 'repr = \"T\"' for you\"\n",
      "Warning message in Matrix::sparseMatrix(dims = c(0, 0), i = integer(0), j = integer(0), :\n",
      "\"'giveCsparse' has been deprecated; setting 'repr = \"T\"' for you\"\n",
      "Warning message in Matrix::sparseMatrix(dims = c(0, 0), i = integer(0), j = integer(0), :\n",
      "\"'giveCsparse' has been deprecated; setting 'repr = \"T\"' for you\"\n",
      "Warning message in Matrix::sparseMatrix(dims = c(0, 0), i = integer(0), j = integer(0), :\n",
      "\"'giveCsparse' has been deprecated; setting 'repr = \"T\"' for you\"\n"
     ]
    },
    {
     "name": "stdout",
     "output_type": "stream",
     "text": [
      "NULL\n",
      "NULL\n",
      "[1] \"month5\"\n"
     ]
    },
    {
     "name": "stderr",
     "output_type": "stream",
     "text": [
      "Warning message in Matrix::sparseMatrix(dims = c(0, 0), i = integer(0), j = integer(0), :\n",
      "\"'giveCsparse' has been deprecated; setting 'repr = \"T\"' for you\"\n",
      "Warning message in Matrix::sparseMatrix(dims = c(0, 0), i = integer(0), j = integer(0), :\n",
      "\"'giveCsparse' has been deprecated; setting 'repr = \"T\"' for you\"\n",
      "Warning message in Matrix::sparseMatrix(dims = c(0, 0), i = integer(0), j = integer(0), :\n",
      "\"'giveCsparse' has been deprecated; setting 'repr = \"T\"' for you\"\n",
      "Warning message in Matrix::sparseMatrix(dims = c(0, 0), i = integer(0), j = integer(0), :\n",
      "\"'giveCsparse' has been deprecated; setting 'repr = \"T\"' for you\"\n",
      "Warning message in Matrix::sparseMatrix(dims = c(0, 0), i = integer(0), j = integer(0), :\n",
      "\"'giveCsparse' has been deprecated; setting 'repr = \"T\"' for you\"\n",
      "Warning message in Matrix::sparseMatrix(dims = c(0, 0), i = integer(0), j = integer(0), :\n",
      "\"'giveCsparse' has been deprecated; setting 'repr = \"T\"' for you\"\n"
     ]
    },
    {
     "name": "stdout",
     "output_type": "stream",
     "text": [
      "Data: df__\n",
      "Models:\n",
      "fit_nopenid: propindoor_duration_2_Zone ~ CLASS + Treatment + rescale(DIB) + , zi=~0, disp=~1\n",
      "fit_nopenid:     rescale(weight_interp) + rescale(KBF_interp) + (1 | HenID), zi=~0, disp=~1\n",
      "fit_penid: propindoor_duration_2_Zone ~ CLASS + Treatment + rescale(DIB) + , zi=~0, disp=~1\n",
      "fit_penid:     rescale(weight_interp) + rescale(KBF_interp) + (1 | PenID/HenID), zi=~0, disp=~1\n",
      "            Df    AIC    BIC logLik deviance Chisq Chi Df Pr(>Chisq)\n",
      "fit_nopenid  9 -10663 -10607 5340.5   -10681                        \n",
      "fit_penid   10 -10661 -10598 5340.5   -10681     0      1          1\n"
     ]
    },
    {
     "name": "stderr",
     "output_type": "stream",
     "text": [
      "Warning message in Matrix::sparseMatrix(dims = c(0, 0), i = integer(0), j = integer(0), :\n",
      "\"'giveCsparse' has been deprecated; setting 'repr = \"T\"' for you\"\n",
      "Warning message in Matrix::sparseMatrix(dims = c(0, 0), i = integer(0), j = integer(0), :\n",
      "\"'giveCsparse' has been deprecated; setting 'repr = \"T\"' for you\"\n",
      "Warning message in Matrix::sparseMatrix(dims = c(0, 0), i = integer(0), j = integer(0), :\n",
      "\"'giveCsparse' has been deprecated; setting 'repr = \"T\"' for you\"\n",
      "Warning message in Matrix::sparseMatrix(dims = c(0, 0), i = integer(0), j = integer(0), :\n",
      "\"'giveCsparse' has been deprecated; setting 'repr = \"T\"' for you\"\n",
      "Warning message in Matrix::sparseMatrix(dims = c(0, 0), i = integer(0), j = integer(0), :\n",
      "\"'giveCsparse' has been deprecated; setting 'repr = \"T\"' for you\"\n",
      "Warning message in Matrix::sparseMatrix(dims = c(0, 0), i = integer(0), j = integer(0), :\n",
      "\"'giveCsparse' has been deprecated; setting 'repr = \"T\"' for you\"\n",
      "Warning message in Matrix::sparseMatrix(dims = c(0, 0), i = integer(0), j = integer(0), :\n",
      "\"'giveCsparse' has been deprecated; setting 'repr = \"T\"' for you\"\n",
      "Warning message in Matrix::sparseMatrix(dims = c(0, 0), i = integer(0), j = integer(0), :\n",
      "\"'giveCsparse' has been deprecated; setting 'repr = \"T\"' for you\"\n",
      "Warning message in Matrix::sparseMatrix(dims = c(0, 0), i = integer(0), j = integer(0), :\n",
      "\"'giveCsparse' has been deprecated; setting 'repr = \"T\"' for you\"\n",
      "Warning message:\n",
      "\"Bootstrapping only returns fixed effects of the mixed model.\"\n",
      "Warning message in Matrix::sparseMatrix(dims = c(0, 0), i = integer(0), j = integer(0), :\n",
      "\"'giveCsparse' has been deprecated; setting 'repr = \"T\"' for you\"\n",
      "Warning message in Matrix::sparseMatrix(dims = c(0, 0), i = integer(0), j = integer(0), :\n",
      "\"'giveCsparse' has been deprecated; setting 'repr = \"T\"' for you\"\n",
      "Warning message in Matrix::sparseMatrix(dims = c(0, 0), i = integer(0), j = integer(0), :\n",
      "\"'giveCsparse' has been deprecated; setting 'repr = \"T\"' for you\"\n",
      "Warning message in Matrix::sparseMatrix(dims = c(0, 0), i = integer(0), j = integer(0), :\n",
      "\"'giveCsparse' has been deprecated; setting 'repr = \"T\"' for you\"\n",
      "Warning message in Matrix::sparseMatrix(dims = c(0, 0), i = integer(0), j = integer(0), :\n",
      "\"'giveCsparse' has been deprecated; setting 'repr = \"T\"' for you\"\n",
      "Warning message in Matrix::sparseMatrix(dims = c(0, 0), i = integer(0), j = integer(0), :\n",
      "\"'giveCsparse' has been deprecated; setting 'repr = \"T\"' for you\"\n"
     ]
    },
    {
     "name": "stdout",
     "output_type": "stream",
     "text": [
      "NULL\n",
      "NULL\n",
      "[1] \"month6\"\n"
     ]
    },
    {
     "name": "stderr",
     "output_type": "stream",
     "text": [
      "Warning message in Matrix::sparseMatrix(dims = c(0, 0), i = integer(0), j = integer(0), :\n",
      "\"'giveCsparse' has been deprecated; setting 'repr = \"T\"' for you\"\n",
      "Warning message in Matrix::sparseMatrix(dims = c(0, 0), i = integer(0), j = integer(0), :\n",
      "\"'giveCsparse' has been deprecated; setting 'repr = \"T\"' for you\"\n",
      "Warning message in Matrix::sparseMatrix(dims = c(0, 0), i = integer(0), j = integer(0), :\n",
      "\"'giveCsparse' has been deprecated; setting 'repr = \"T\"' for you\"\n",
      "Warning message in Matrix::sparseMatrix(dims = c(0, 0), i = integer(0), j = integer(0), :\n",
      "\"'giveCsparse' has been deprecated; setting 'repr = \"T\"' for you\"\n",
      "Warning message in Matrix::sparseMatrix(dims = c(0, 0), i = integer(0), j = integer(0), :\n",
      "\"'giveCsparse' has been deprecated; setting 'repr = \"T\"' for you\"\n",
      "Warning message in Matrix::sparseMatrix(dims = c(0, 0), i = integer(0), j = integer(0), :\n",
      "\"'giveCsparse' has been deprecated; setting 'repr = \"T\"' for you\"\n"
     ]
    },
    {
     "name": "stdout",
     "output_type": "stream",
     "text": [
      "Data: df__\n",
      "Models:\n",
      "fit_nopenid: propindoor_duration_2_Zone ~ CLASS + Treatment + rescale(DIB) + , zi=~0, disp=~1\n",
      "fit_nopenid:     rescale(weight_interp) + rescale(KBF_interp) + (1 | HenID), zi=~0, disp=~1\n",
      "fit_penid: propindoor_duration_2_Zone ~ CLASS + Treatment + rescale(DIB) + , zi=~0, disp=~1\n",
      "fit_penid:     rescale(weight_interp) + rescale(KBF_interp) + (1 | PenID/HenID), zi=~0, disp=~1\n",
      "            Df    AIC    BIC logLik deviance  Chisq Chi Df Pr(>Chisq)\n",
      "fit_nopenid  9 -11897 -11840 5957.6   -11915                         \n",
      "fit_penid   10 -11895 -11832 5957.6   -11915 0.0017      1     0.9675\n"
     ]
    },
    {
     "name": "stderr",
     "output_type": "stream",
     "text": [
      "Warning message in Matrix::sparseMatrix(dims = c(0, 0), i = integer(0), j = integer(0), :\n",
      "\"'giveCsparse' has been deprecated; setting 'repr = \"T\"' for you\"\n",
      "Warning message in Matrix::sparseMatrix(dims = c(0, 0), i = integer(0), j = integer(0), :\n",
      "\"'giveCsparse' has been deprecated; setting 'repr = \"T\"' for you\"\n",
      "Warning message in Matrix::sparseMatrix(dims = c(0, 0), i = integer(0), j = integer(0), :\n",
      "\"'giveCsparse' has been deprecated; setting 'repr = \"T\"' for you\"\n",
      "Warning message in Matrix::sparseMatrix(dims = c(0, 0), i = integer(0), j = integer(0), :\n",
      "\"'giveCsparse' has been deprecated; setting 'repr = \"T\"' for you\"\n",
      "Warning message in Matrix::sparseMatrix(dims = c(0, 0), i = integer(0), j = integer(0), :\n",
      "\"'giveCsparse' has been deprecated; setting 'repr = \"T\"' for you\"\n",
      "Warning message in Matrix::sparseMatrix(dims = c(0, 0), i = integer(0), j = integer(0), :\n",
      "\"'giveCsparse' has been deprecated; setting 'repr = \"T\"' for you\"\n",
      "Warning message in Matrix::sparseMatrix(dims = c(0, 0), i = integer(0), j = integer(0), :\n",
      "\"'giveCsparse' has been deprecated; setting 'repr = \"T\"' for you\"\n",
      "Warning message in Matrix::sparseMatrix(dims = c(0, 0), i = integer(0), j = integer(0), :\n",
      "\"'giveCsparse' has been deprecated; setting 'repr = \"T\"' for you\"\n",
      "Warning message in Matrix::sparseMatrix(dims = c(0, 0), i = integer(0), j = integer(0), :\n",
      "\"'giveCsparse' has been deprecated; setting 'repr = \"T\"' for you\"\n",
      "Warning message:\n",
      "\"Bootstrapping only returns fixed effects of the mixed model.\"\n",
      "Warning message in Matrix::sparseMatrix(dims = c(0, 0), i = integer(0), j = integer(0), :\n",
      "\"'giveCsparse' has been deprecated; setting 'repr = \"T\"' for you\"\n",
      "Warning message in Matrix::sparseMatrix(dims = c(0, 0), i = integer(0), j = integer(0), :\n",
      "\"'giveCsparse' has been deprecated; setting 'repr = \"T\"' for you\"\n",
      "Warning message in Matrix::sparseMatrix(dims = c(0, 0), i = integer(0), j = integer(0), :\n",
      "\"'giveCsparse' has been deprecated; setting 'repr = \"T\"' for you\"\n",
      "Warning message in Matrix::sparseMatrix(dims = c(0, 0), i = integer(0), j = integer(0), :\n",
      "\"'giveCsparse' has been deprecated; setting 'repr = \"T\"' for you\"\n",
      "Warning message in Matrix::sparseMatrix(dims = c(0, 0), i = integer(0), j = integer(0), :\n",
      "\"'giveCsparse' has been deprecated; setting 'repr = \"T\"' for you\"\n",
      "Warning message in Matrix::sparseMatrix(dims = c(0, 0), i = integer(0), j = integer(0), :\n",
      "\"'giveCsparse' has been deprecated; setting 'repr = \"T\"' for you\"\n"
     ]
    },
    {
     "name": "stdout",
     "output_type": "stream",
     "text": [
      "NULL\n",
      "NULL\n",
      "[1] \"month7\"\n"
     ]
    },
    {
     "name": "stderr",
     "output_type": "stream",
     "text": [
      "Warning message in Matrix::sparseMatrix(dims = c(0, 0), i = integer(0), j = integer(0), :\n",
      "\"'giveCsparse' has been deprecated; setting 'repr = \"T\"' for you\"\n",
      "Warning message in Matrix::sparseMatrix(dims = c(0, 0), i = integer(0), j = integer(0), :\n",
      "\"'giveCsparse' has been deprecated; setting 'repr = \"T\"' for you\"\n",
      "Warning message in Matrix::sparseMatrix(dims = c(0, 0), i = integer(0), j = integer(0), :\n",
      "\"'giveCsparse' has been deprecated; setting 'repr = \"T\"' for you\"\n",
      "Warning message in Matrix::sparseMatrix(dims = c(0, 0), i = integer(0), j = integer(0), :\n",
      "\"'giveCsparse' has been deprecated; setting 'repr = \"T\"' for you\"\n",
      "Warning message in Matrix::sparseMatrix(dims = c(0, 0), i = integer(0), j = integer(0), :\n",
      "\"'giveCsparse' has been deprecated; setting 'repr = \"T\"' for you\"\n",
      "Warning message in Matrix::sparseMatrix(dims = c(0, 0), i = integer(0), j = integer(0), :\n",
      "\"'giveCsparse' has been deprecated; setting 'repr = \"T\"' for you\"\n"
     ]
    },
    {
     "name": "stdout",
     "output_type": "stream",
     "text": [
      "Data: df__\n",
      "Models:\n",
      "fit_nopenid: propindoor_duration_2_Zone ~ CLASS + Treatment + rescale(DIB) + , zi=~0, disp=~1\n",
      "fit_nopenid:     rescale(weight_interp) + rescale(KBF_interp) + (1 | HenID), zi=~0, disp=~1\n",
      "fit_penid: propindoor_duration_2_Zone ~ CLASS + Treatment + rescale(DIB) + , zi=~0, disp=~1\n",
      "fit_penid:     rescale(weight_interp) + rescale(KBF_interp) + (1 | PenID/HenID), zi=~0, disp=~1\n",
      "            Df    AIC    BIC logLik deviance Chisq Chi Df Pr(>Chisq)\n",
      "fit_nopenid  9 -10676 -10619 5346.9   -10694                        \n",
      "fit_penid   10 -10674 -10611 5346.9   -10694     0      1          1\n"
     ]
    },
    {
     "name": "stderr",
     "output_type": "stream",
     "text": [
      "Warning message in Matrix::sparseMatrix(dims = c(0, 0), i = integer(0), j = integer(0), :\n",
      "\"'giveCsparse' has been deprecated; setting 'repr = \"T\"' for you\"\n",
      "Warning message in Matrix::sparseMatrix(dims = c(0, 0), i = integer(0), j = integer(0), :\n",
      "\"'giveCsparse' has been deprecated; setting 'repr = \"T\"' for you\"\n",
      "Warning message in Matrix::sparseMatrix(dims = c(0, 0), i = integer(0), j = integer(0), :\n",
      "\"'giveCsparse' has been deprecated; setting 'repr = \"T\"' for you\"\n",
      "Warning message in Matrix::sparseMatrix(dims = c(0, 0), i = integer(0), j = integer(0), :\n",
      "\"'giveCsparse' has been deprecated; setting 'repr = \"T\"' for you\"\n",
      "Warning message in Matrix::sparseMatrix(dims = c(0, 0), i = integer(0), j = integer(0), :\n",
      "\"'giveCsparse' has been deprecated; setting 'repr = \"T\"' for you\"\n",
      "Warning message in Matrix::sparseMatrix(dims = c(0, 0), i = integer(0), j = integer(0), :\n",
      "\"'giveCsparse' has been deprecated; setting 'repr = \"T\"' for you\"\n",
      "Warning message in Matrix::sparseMatrix(dims = c(0, 0), i = integer(0), j = integer(0), :\n",
      "\"'giveCsparse' has been deprecated; setting 'repr = \"T\"' for you\"\n",
      "Warning message in Matrix::sparseMatrix(dims = c(0, 0), i = integer(0), j = integer(0), :\n",
      "\"'giveCsparse' has been deprecated; setting 'repr = \"T\"' for you\"\n",
      "Warning message in Matrix::sparseMatrix(dims = c(0, 0), i = integer(0), j = integer(0), :\n",
      "\"'giveCsparse' has been deprecated; setting 'repr = \"T\"' for you\"\n",
      "Warning message:\n",
      "\"Bootstrapping only returns fixed effects of the mixed model.\"\n",
      "Warning message in Matrix::sparseMatrix(dims = c(0, 0), i = integer(0), j = integer(0), :\n",
      "\"'giveCsparse' has been deprecated; setting 'repr = \"T\"' for you\"\n",
      "Warning message in Matrix::sparseMatrix(dims = c(0, 0), i = integer(0), j = integer(0), :\n",
      "\"'giveCsparse' has been deprecated; setting 'repr = \"T\"' for you\"\n",
      "Warning message in Matrix::sparseMatrix(dims = c(0, 0), i = integer(0), j = integer(0), :\n",
      "\"'giveCsparse' has been deprecated; setting 'repr = \"T\"' for you\"\n",
      "Warning message in Matrix::sparseMatrix(dims = c(0, 0), i = integer(0), j = integer(0), :\n",
      "\"'giveCsparse' has been deprecated; setting 'repr = \"T\"' for you\"\n",
      "Warning message in Matrix::sparseMatrix(dims = c(0, 0), i = integer(0), j = integer(0), :\n",
      "\"'giveCsparse' has been deprecated; setting 'repr = \"T\"' for you\"\n",
      "Warning message in Matrix::sparseMatrix(dims = c(0, 0), i = integer(0), j = integer(0), :\n",
      "\"'giveCsparse' has been deprecated; setting 'repr = \"T\"' for you\"\n"
     ]
    },
    {
     "name": "stdout",
     "output_type": "stream",
     "text": [
      "NULL\n",
      "NULL\n",
      "[1] \"month8\"\n"
     ]
    },
    {
     "name": "stderr",
     "output_type": "stream",
     "text": [
      "Warning message in Matrix::sparseMatrix(dims = c(0, 0), i = integer(0), j = integer(0), :\n",
      "\"'giveCsparse' has been deprecated; setting 'repr = \"T\"' for you\"\n",
      "Warning message in Matrix::sparseMatrix(dims = c(0, 0), i = integer(0), j = integer(0), :\n",
      "\"'giveCsparse' has been deprecated; setting 'repr = \"T\"' for you\"\n",
      "Warning message in Matrix::sparseMatrix(dims = c(0, 0), i = integer(0), j = integer(0), :\n",
      "\"'giveCsparse' has been deprecated; setting 'repr = \"T\"' for you\"\n",
      "Warning message in Matrix::sparseMatrix(dims = c(0, 0), i = integer(0), j = integer(0), :\n",
      "\"'giveCsparse' has been deprecated; setting 'repr = \"T\"' for you\"\n",
      "Warning message in Matrix::sparseMatrix(dims = c(0, 0), i = integer(0), j = integer(0), :\n",
      "\"'giveCsparse' has been deprecated; setting 'repr = \"T\"' for you\"\n",
      "Warning message in Matrix::sparseMatrix(dims = c(0, 0), i = integer(0), j = integer(0), :\n",
      "\"'giveCsparse' has been deprecated; setting 'repr = \"T\"' for you\"\n"
     ]
    },
    {
     "name": "stdout",
     "output_type": "stream",
     "text": [
      "Data: df__\n",
      "Models:\n",
      "fit_nopenid: propindoor_duration_2_Zone ~ CLASS + Treatment + rescale(DIB) + , zi=~0, disp=~1\n",
      "fit_nopenid:     rescale(weight_interp) + rescale(KBF_interp) + (1 | HenID), zi=~0, disp=~1\n",
      "fit_penid: propindoor_duration_2_Zone ~ CLASS + Treatment + rescale(DIB) + , zi=~0, disp=~1\n",
      "fit_penid:     rescale(weight_interp) + rescale(KBF_interp) + (1 | PenID/HenID), zi=~0, disp=~1\n",
      "            Df    AIC    BIC logLik deviance  Chisq Chi Df Pr(>Chisq)\n",
      "fit_nopenid  9 -12025 -11967 6021.4   -12043                         \n",
      "fit_penid   10 -12023 -11958 6021.4   -12043 0.0013      1     0.9717\n"
     ]
    },
    {
     "name": "stderr",
     "output_type": "stream",
     "text": [
      "Warning message in Matrix::sparseMatrix(dims = c(0, 0), i = integer(0), j = integer(0), :\n",
      "\"'giveCsparse' has been deprecated; setting 'repr = \"T\"' for you\"\n",
      "Warning message in Matrix::sparseMatrix(dims = c(0, 0), i = integer(0), j = integer(0), :\n",
      "\"'giveCsparse' has been deprecated; setting 'repr = \"T\"' for you\"\n",
      "Warning message in Matrix::sparseMatrix(dims = c(0, 0), i = integer(0), j = integer(0), :\n",
      "\"'giveCsparse' has been deprecated; setting 'repr = \"T\"' for you\"\n",
      "Warning message in Matrix::sparseMatrix(dims = c(0, 0), i = integer(0), j = integer(0), :\n",
      "\"'giveCsparse' has been deprecated; setting 'repr = \"T\"' for you\"\n",
      "Warning message in Matrix::sparseMatrix(dims = c(0, 0), i = integer(0), j = integer(0), :\n",
      "\"'giveCsparse' has been deprecated; setting 'repr = \"T\"' for you\"\n",
      "Warning message in Matrix::sparseMatrix(dims = c(0, 0), i = integer(0), j = integer(0), :\n",
      "\"'giveCsparse' has been deprecated; setting 'repr = \"T\"' for you\"\n",
      "Warning message in Matrix::sparseMatrix(dims = c(0, 0), i = integer(0), j = integer(0), :\n",
      "\"'giveCsparse' has been deprecated; setting 'repr = \"T\"' for you\"\n",
      "Warning message in Matrix::sparseMatrix(dims = c(0, 0), i = integer(0), j = integer(0), :\n",
      "\"'giveCsparse' has been deprecated; setting 'repr = \"T\"' for you\"\n",
      "Warning message in Matrix::sparseMatrix(dims = c(0, 0), i = integer(0), j = integer(0), :\n",
      "\"'giveCsparse' has been deprecated; setting 'repr = \"T\"' for you\"\n",
      "Warning message:\n",
      "\"Bootstrapping only returns fixed effects of the mixed model.\"\n",
      "Warning message in Matrix::sparseMatrix(dims = c(0, 0), i = integer(0), j = integer(0), :\n",
      "\"'giveCsparse' has been deprecated; setting 'repr = \"T\"' for you\"\n",
      "Warning message in Matrix::sparseMatrix(dims = c(0, 0), i = integer(0), j = integer(0), :\n",
      "\"'giveCsparse' has been deprecated; setting 'repr = \"T\"' for you\"\n",
      "Warning message in Matrix::sparseMatrix(dims = c(0, 0), i = integer(0), j = integer(0), :\n",
      "\"'giveCsparse' has been deprecated; setting 'repr = \"T\"' for you\"\n",
      "Warning message in Matrix::sparseMatrix(dims = c(0, 0), i = integer(0), j = integer(0), :\n",
      "\"'giveCsparse' has been deprecated; setting 'repr = \"T\"' for you\"\n",
      "Warning message in Matrix::sparseMatrix(dims = c(0, 0), i = integer(0), j = integer(0), :\n",
      "\"'giveCsparse' has been deprecated; setting 'repr = \"T\"' for you\"\n",
      "Warning message in Matrix::sparseMatrix(dims = c(0, 0), i = integer(0), j = integer(0), :\n",
      "\"'giveCsparse' has been deprecated; setting 'repr = \"T\"' for you\"\n"
     ]
    },
    {
     "name": "stdout",
     "output_type": "stream",
     "text": [
      "NULL\n",
      "NULL\n",
      "[1] \"month9\"\n"
     ]
    },
    {
     "name": "stderr",
     "output_type": "stream",
     "text": [
      "Warning message in Matrix::sparseMatrix(dims = c(0, 0), i = integer(0), j = integer(0), :\n",
      "\"'giveCsparse' has been deprecated; setting 'repr = \"T\"' for you\"\n",
      "Warning message in Matrix::sparseMatrix(dims = c(0, 0), i = integer(0), j = integer(0), :\n",
      "\"'giveCsparse' has been deprecated; setting 'repr = \"T\"' for you\"\n",
      "Warning message in Matrix::sparseMatrix(dims = c(0, 0), i = integer(0), j = integer(0), :\n",
      "\"'giveCsparse' has been deprecated; setting 'repr = \"T\"' for you\"\n",
      "Warning message in Matrix::sparseMatrix(dims = c(0, 0), i = integer(0), j = integer(0), :\n",
      "\"'giveCsparse' has been deprecated; setting 'repr = \"T\"' for you\"\n",
      "Warning message in Matrix::sparseMatrix(dims = c(0, 0), i = integer(0), j = integer(0), :\n",
      "\"'giveCsparse' has been deprecated; setting 'repr = \"T\"' for you\"\n",
      "Warning message in Matrix::sparseMatrix(dims = c(0, 0), i = integer(0), j = integer(0), :\n",
      "\"'giveCsparse' has been deprecated; setting 'repr = \"T\"' for you\"\n"
     ]
    },
    {
     "name": "stdout",
     "output_type": "stream",
     "text": [
      "Data: df__\n",
      "Models:\n",
      "fit_nopenid: propindoor_duration_2_Zone ~ CLASS + Treatment + rescale(DIB) + , zi=~0, disp=~1\n",
      "fit_nopenid:     rescale(weight_interp) + rescale(KBF_interp) + (1 | HenID), zi=~0, disp=~1\n",
      "fit_penid: propindoor_duration_2_Zone ~ CLASS + Treatment + rescale(DIB) + , zi=~0, disp=~1\n",
      "fit_penid:     rescale(weight_interp) + rescale(KBF_interp) + (1 | PenID/HenID), zi=~0, disp=~1\n",
      "            Df     AIC     BIC logLik deviance Chisq Chi Df Pr(>Chisq)\n",
      "fit_nopenid  9 -5238.7 -5189.0 2628.4  -5256.7                        \n",
      "fit_penid   10 -5236.7 -5181.5 2628.4  -5256.7     0      1          1\n"
     ]
    },
    {
     "name": "stderr",
     "output_type": "stream",
     "text": [
      "Warning message in Matrix::sparseMatrix(dims = c(0, 0), i = integer(0), j = integer(0), :\n",
      "\"'giveCsparse' has been deprecated; setting 'repr = \"T\"' for you\"\n",
      "Warning message in Matrix::sparseMatrix(dims = c(0, 0), i = integer(0), j = integer(0), :\n",
      "\"'giveCsparse' has been deprecated; setting 'repr = \"T\"' for you\"\n",
      "Warning message in Matrix::sparseMatrix(dims = c(0, 0), i = integer(0), j = integer(0), :\n",
      "\"'giveCsparse' has been deprecated; setting 'repr = \"T\"' for you\"\n",
      "Warning message in Matrix::sparseMatrix(dims = c(0, 0), i = integer(0), j = integer(0), :\n",
      "\"'giveCsparse' has been deprecated; setting 'repr = \"T\"' for you\"\n",
      "Warning message in Matrix::sparseMatrix(dims = c(0, 0), i = integer(0), j = integer(0), :\n",
      "\"'giveCsparse' has been deprecated; setting 'repr = \"T\"' for you\"\n",
      "Warning message in Matrix::sparseMatrix(dims = c(0, 0), i = integer(0), j = integer(0), :\n",
      "\"'giveCsparse' has been deprecated; setting 'repr = \"T\"' for you\"\n",
      "Warning message in Matrix::sparseMatrix(dims = c(0, 0), i = integer(0), j = integer(0), :\n",
      "\"'giveCsparse' has been deprecated; setting 'repr = \"T\"' for you\"\n",
      "Warning message in Matrix::sparseMatrix(dims = c(0, 0), i = integer(0), j = integer(0), :\n",
      "\"'giveCsparse' has been deprecated; setting 'repr = \"T\"' for you\"\n",
      "Warning message in Matrix::sparseMatrix(dims = c(0, 0), i = integer(0), j = integer(0), :\n",
      "\"'giveCsparse' has been deprecated; setting 'repr = \"T\"' for you\"\n",
      "Warning message:\n",
      "\"Bootstrapping only returns fixed effects of the mixed model.\"\n",
      "Warning message in Matrix::sparseMatrix(dims = c(0, 0), i = integer(0), j = integer(0), :\n",
      "\"'giveCsparse' has been deprecated; setting 'repr = \"T\"' for you\"\n",
      "Warning message in Matrix::sparseMatrix(dims = c(0, 0), i = integer(0), j = integer(0), :\n",
      "\"'giveCsparse' has been deprecated; setting 'repr = \"T\"' for you\"\n",
      "Warning message in Matrix::sparseMatrix(dims = c(0, 0), i = integer(0), j = integer(0), :\n",
      "\"'giveCsparse' has been deprecated; setting 'repr = \"T\"' for you\"\n",
      "Warning message in Matrix::sparseMatrix(dims = c(0, 0), i = integer(0), j = integer(0), :\n",
      "\"'giveCsparse' has been deprecated; setting 'repr = \"T\"' for you\"\n",
      "Warning message in Matrix::sparseMatrix(dims = c(0, 0), i = integer(0), j = integer(0), :\n",
      "\"'giveCsparse' has been deprecated; setting 'repr = \"T\"' for you\"\n",
      "Warning message in Matrix::sparseMatrix(dims = c(0, 0), i = integer(0), j = integer(0), :\n",
      "\"'giveCsparse' has been deprecated; setting 'repr = \"T\"' for you\"\n"
     ]
    },
    {
     "name": "stdout",
     "output_type": "stream",
     "text": [
      "NULL\n",
      "NULL\n",
      "[1] \"month10\"\n"
     ]
    },
    {
     "name": "stderr",
     "output_type": "stream",
     "text": [
      "Warning message in Matrix::sparseMatrix(dims = c(0, 0), i = integer(0), j = integer(0), :\n",
      "\"'giveCsparse' has been deprecated; setting 'repr = \"T\"' for you\"\n",
      "Warning message in Matrix::sparseMatrix(dims = c(0, 0), i = integer(0), j = integer(0), :\n",
      "\"'giveCsparse' has been deprecated; setting 'repr = \"T\"' for you\"\n",
      "Warning message in Matrix::sparseMatrix(dims = c(0, 0), i = integer(0), j = integer(0), :\n",
      "\"'giveCsparse' has been deprecated; setting 'repr = \"T\"' for you\"\n",
      "Warning message in Matrix::sparseMatrix(dims = c(0, 0), i = integer(0), j = integer(0), :\n",
      "\"'giveCsparse' has been deprecated; setting 'repr = \"T\"' for you\"\n",
      "Warning message in Matrix::sparseMatrix(dims = c(0, 0), i = integer(0), j = integer(0), :\n",
      "\"'giveCsparse' has been deprecated; setting 'repr = \"T\"' for you\"\n",
      "Warning message in Matrix::sparseMatrix(dims = c(0, 0), i = integer(0), j = integer(0), :\n",
      "\"'giveCsparse' has been deprecated; setting 'repr = \"T\"' for you\"\n"
     ]
    },
    {
     "name": "stdout",
     "output_type": "stream",
     "text": [
      "Data: df__\n",
      "Models:\n",
      "fit_nopenid: propindoor_duration_2_Zone ~ CLASS + Treatment + rescale(DIB) + , zi=~0, disp=~1\n",
      "fit_nopenid:     rescale(weight_interp) + rescale(KBF_interp) + (1 | HenID), zi=~0, disp=~1\n",
      "fit_penid: propindoor_duration_2_Zone ~ CLASS + Treatment + rescale(DIB) + , zi=~0, disp=~1\n",
      "fit_penid:     rescale(weight_interp) + rescale(KBF_interp) + (1 | PenID/HenID), zi=~0, disp=~1\n",
      "            Df     AIC     BIC logLik deviance Chisq Chi Df Pr(>Chisq)\n",
      "fit_nopenid  9 -8118.9 -8064.4 4068.4  -8136.9                        \n",
      "fit_penid   10 -8116.9 -8056.4 4068.4  -8136.9     0      1          1\n"
     ]
    },
    {
     "name": "stderr",
     "output_type": "stream",
     "text": [
      "Warning message in Matrix::sparseMatrix(dims = c(0, 0), i = integer(0), j = integer(0), :\n",
      "\"'giveCsparse' has been deprecated; setting 'repr = \"T\"' for you\"\n",
      "Warning message in Matrix::sparseMatrix(dims = c(0, 0), i = integer(0), j = integer(0), :\n",
      "\"'giveCsparse' has been deprecated; setting 'repr = \"T\"' for you\"\n",
      "Warning message in Matrix::sparseMatrix(dims = c(0, 0), i = integer(0), j = integer(0), :\n",
      "\"'giveCsparse' has been deprecated; setting 'repr = \"T\"' for you\"\n",
      "Warning message in Matrix::sparseMatrix(dims = c(0, 0), i = integer(0), j = integer(0), :\n",
      "\"'giveCsparse' has been deprecated; setting 'repr = \"T\"' for you\"\n",
      "Warning message in Matrix::sparseMatrix(dims = c(0, 0), i = integer(0), j = integer(0), :\n",
      "\"'giveCsparse' has been deprecated; setting 'repr = \"T\"' for you\"\n",
      "Warning message in Matrix::sparseMatrix(dims = c(0, 0), i = integer(0), j = integer(0), :\n",
      "\"'giveCsparse' has been deprecated; setting 'repr = \"T\"' for you\"\n",
      "Warning message in Matrix::sparseMatrix(dims = c(0, 0), i = integer(0), j = integer(0), :\n",
      "\"'giveCsparse' has been deprecated; setting 'repr = \"T\"' for you\"\n",
      "Warning message in Matrix::sparseMatrix(dims = c(0, 0), i = integer(0), j = integer(0), :\n",
      "\"'giveCsparse' has been deprecated; setting 'repr = \"T\"' for you\"\n",
      "Warning message in Matrix::sparseMatrix(dims = c(0, 0), i = integer(0), j = integer(0), :\n",
      "\"'giveCsparse' has been deprecated; setting 'repr = \"T\"' for you\"\n",
      "Warning message:\n",
      "\"Bootstrapping only returns fixed effects of the mixed model.\"\n",
      "Warning message in Matrix::sparseMatrix(dims = c(0, 0), i = integer(0), j = integer(0), :\n",
      "\"'giveCsparse' has been deprecated; setting 'repr = \"T\"' for you\"\n",
      "Warning message in Matrix::sparseMatrix(dims = c(0, 0), i = integer(0), j = integer(0), :\n",
      "\"'giveCsparse' has been deprecated; setting 'repr = \"T\"' for you\"\n",
      "Warning message in Matrix::sparseMatrix(dims = c(0, 0), i = integer(0), j = integer(0), :\n",
      "\"'giveCsparse' has been deprecated; setting 'repr = \"T\"' for you\"\n",
      "Warning message in Matrix::sparseMatrix(dims = c(0, 0), i = integer(0), j = integer(0), :\n",
      "\"'giveCsparse' has been deprecated; setting 'repr = \"T\"' for you\"\n",
      "Warning message in Matrix::sparseMatrix(dims = c(0, 0), i = integer(0), j = integer(0), :\n",
      "\"'giveCsparse' has been deprecated; setting 'repr = \"T\"' for you\"\n",
      "Warning message in Matrix::sparseMatrix(dims = c(0, 0), i = integer(0), j = integer(0), :\n",
      "\"'giveCsparse' has been deprecated; setting 'repr = \"T\"' for you\"\n"
     ]
    },
    {
     "name": "stdout",
     "output_type": "stream",
     "text": [
      "NULL\n",
      "NULL\n"
     ]
    },
    {
     "name": "stderr",
     "output_type": "stream",
     "text": [
      "Warning message:\n",
      "\"Following potential variables could not be found in the data: DIB ,weight_interp\n",
      "  ,nbr_h_per_day\"\n",
      "Warning message:\n",
      "\"Following potential variables could not be found in the data: DIB ,weight_interp\n",
      "  ,nbr_h_per_day\"\n",
      "Warning message:\n",
      "\"Following potential variables could not be found in the data: DIB ,weight_interp\n",
      "  ,KBF_interp\"\n",
      "Warning message:\n",
      "\"Following potential variables could not be found in the data: DIB ,weight_interp\n",
      "  ,KBF_interp\"\n",
      "Warning message:\n",
      "\"Following potential variables could not be found in the data: DIB ,weight_interp\n",
      "  ,KBF_interp\"\n",
      "Warning message:\n",
      "\"Following potential variables could not be found in the data: DIB ,weight_interp\n",
      "  ,nbr_h_per_day\"\n",
      "Warning message:\n",
      "\"Following potential variables could not be found in the data: DIB ,weight_interp\n",
      "  ,nbr_h_per_day\"\n",
      "Warning message:\n",
      "\"Following potential variables could not be found in the data: DIB ,weight_interp\n",
      "  ,KBF_interp\"\n",
      "Warning message:\n",
      "\"Following potential variables could not be found in the data: DIB ,weight_interp\n",
      "  ,KBF_interp\"\n",
      "Warning message:\n",
      "\"Following potential variables could not be found in the data: DIB ,weight_interp\n",
      "  ,KBF_interp\"\n",
      "Warning message:\n",
      "\"Following potential variables could not be found in the data: DIB ,weight_interp\n",
      "  ,nbr_h_per_day\"\n",
      "Warning message:\n",
      "\"Following potential variables could not be found in the data: DIB ,weight_interp\n",
      "  ,nbr_h_per_day\"\n",
      "Warning message:\n",
      "\"Following potential variables could not be found in the data: DIB ,weight_interp\n",
      "  ,KBF_interp\"\n",
      "Warning message:\n",
      "\"Following potential variables could not be found in the data: DIB ,weight_interp\n",
      "  ,KBF_interp\"\n",
      "Warning message:\n",
      "\"Following potential variables could not be found in the data: DIB ,weight_interp\n",
      "  ,KBF_interp\"\n",
      "Warning message:\n",
      "\"Following potential variables could not be found in the data: DIB ,weight_interp\n",
      "  ,KBF_interp\"\n",
      "Warning message:\n",
      "\"Following potential variables could not be found in the data: DIB ,weight_interp\n",
      "  ,KBF_interp\"\n",
      "Warning message:\n",
      "\"Following potential variables could not be found in the data: DIB ,weight_interp\n",
      "  ,KBF_interp\"\n",
      "Warning message:\n",
      "\"Following potential variables could not be found in the data: DIB ,weight_interp\n",
      "  ,KBF_interp\"\n",
      "Warning message:\n",
      "\"Following potential variables could not be found in the data: DIB ,weight_interp\n",
      "  ,KBF_interp\"\n",
      "Warning message:\n",
      "\"Following potential variables could not be found in the data: DIB ,weight_interp\n",
      "  ,KBF_interp\"\n",
      "Warning message:\n",
      "\"Following potential variables could not be found in the data: DIB ,weight_interp\n",
      "  ,KBF_interp\"\n",
      "Warning message:\n",
      "\"Following potential variables could not be found in the data: DIB ,weight_interp\n",
      "  ,KBF_interp\"\n",
      "Warning message:\n",
      "\"Following potential variables could not be found in the data: DIB ,weight_interp\n",
      "  ,KBF_interp\"\n",
      "Warning message:\n",
      "\"Following potential variables could not be found in the data: DIB ,weight_interp\n",
      "  ,KBF_interp\"\n",
      "Warning message:\n",
      "\"Following potential variables could not be found in the data: DIB ,weight_interp\n",
      "  ,KBF_interp\"\n",
      "Warning message:\n",
      "\"Following potential variables could not be found in the data: DIB ,weight_interp\n",
      "  ,KBF_interp\"\n",
      "Loading required namespace: broom.mixed\n",
      "\n",
      "Warning message in confint.glmmTMB(x, method = tolower(conf.method), level = conf.level, :\n",
      "\"extra arguments ignored:  intervals, prob\"\n",
      "Warning message in confint.glmmTMB(x, parm = thpar, method = conf.method, level = conf.level, :\n",
      "\"extra arguments ignored:  intervals, prob\"\n"
     ]
    },
    {
     "data": {
      "text/html": [
       "<strong>png:</strong> 2"
      ],
      "text/latex": [
       "\\textbf{png:} 2"
      ],
      "text/markdown": [
       "**png:** 2"
      ],
      "text/plain": [
       "png \n",
       "  2 "
      ]
     },
     "metadata": {},
     "output_type": "display_data"
    },
    {
     "name": "stderr",
     "output_type": "stream",
     "text": [
      "Warning message in confint.glmmTMB(x, method = tolower(conf.method), level = conf.level, :\n",
      "\"extra arguments ignored:  intervals, prob\"\n",
      "Warning message in confint.glmmTMB(x, parm = thpar, method = conf.method, level = conf.level, :\n",
      "\"extra arguments ignored:  intervals, prob\"\n",
      "New names:\n",
      "* sigma -> sigma...1\n",
      "* sigma -> sigma...2\n",
      "\n",
      "Warning message in confint.glmmTMB(x, method = tolower(conf.method), level = conf.level, :\n",
      "\"extra arguments ignored:  intervals, prob\"\n",
      "Warning message in confint.glmmTMB(x, parm = thpar, method = conf.method, level = conf.level, :\n",
      "\"extra arguments ignored:  intervals, prob\"\n",
      "New names:\n",
      "* sigma -> sigma...1\n",
      "* sigma -> sigma...2\n",
      "\n",
      "Warning message in confint.glmmTMB(x, method = tolower(conf.method), level = conf.level, :\n",
      "\"extra arguments ignored:  intervals, prob\"\n",
      "Warning message in confint.glmmTMB(x, parm = thpar, method = conf.method, level = conf.level, :\n",
      "\"extra arguments ignored:  intervals, prob\"\n",
      "New names:\n",
      "* sigma -> sigma...1\n",
      "* sigma -> sigma...2\n",
      "\n",
      "Warning message in confint.glmmTMB(x, method = tolower(conf.method), level = conf.level, :\n",
      "\"extra arguments ignored:  intervals, prob\"\n",
      "Warning message in confint.glmmTMB(x, parm = thpar, method = conf.method, level = conf.level, :\n",
      "\"extra arguments ignored:  intervals, prob\"\n",
      "New names:\n",
      "* sigma -> sigma...1\n",
      "* sigma -> sigma...2\n",
      "\n",
      "Warning message in confint.glmmTMB(x, method = tolower(conf.method), level = conf.level, :\n",
      "\"extra arguments ignored:  intervals, prob\"\n",
      "Warning message in confint.glmmTMB(x, parm = thpar, method = conf.method, level = conf.level, :\n",
      "\"extra arguments ignored:  intervals, prob\"\n",
      "New names:\n",
      "* sigma -> sigma...1\n",
      "* sigma -> sigma...2\n",
      "\n",
      "Warning message in confint.glmmTMB(x, method = tolower(conf.method), level = conf.level, :\n",
      "\"extra arguments ignored:  intervals, prob\"\n",
      "Warning message in confint.glmmTMB(x, parm = thpar, method = conf.method, level = conf.level, :\n",
      "\"extra arguments ignored:  intervals, prob\"\n",
      "New names:\n",
      "* sigma -> sigma...1\n",
      "* sigma -> sigma...2\n",
      "\n",
      "Warning message in confint.glmmTMB(x, method = tolower(conf.method), level = conf.level, :\n",
      "\"extra arguments ignored:  intervals, prob\"\n",
      "Warning message in confint.glmmTMB(x, parm = thpar, method = conf.method, level = conf.level, :\n",
      "\"extra arguments ignored:  intervals, prob\"\n",
      "New names:\n",
      "* sigma -> sigma...1\n",
      "* sigma -> sigma...2\n",
      "\n",
      "Warning message in confint.glmmTMB(x, method = tolower(conf.method), level = conf.level, :\n",
      "\"extra arguments ignored:  intervals, prob\"\n",
      "Warning message in confint.glmmTMB(x, parm = thpar, method = conf.method, level = conf.level, :\n",
      "\"extra arguments ignored:  intervals, prob\"\n",
      "New names:\n",
      "* sigma -> sigma...1\n",
      "* sigma -> sigma...2\n",
      "\n",
      "Warning message in confint.glmmTMB(x, method = tolower(conf.method), level = conf.level, :\n",
      "\"extra arguments ignored:  intervals, prob\"\n",
      "Warning message in confint.glmmTMB(x, parm = thpar, method = conf.method, level = conf.level, :\n",
      "\"extra arguments ignored:  intervals, prob\"\n",
      "New names:\n",
      "* sigma -> sigma...1\n",
      "* sigma -> sigma...2\n",
      "\n",
      "Warning message in confint.glmmTMB(x, method = tolower(conf.method), level = conf.level, :\n",
      "\"extra arguments ignored:  intervals, prob\"\n",
      "Warning message in confint.glmmTMB(x, parm = thpar, method = conf.method, level = conf.level, :\n",
      "\"extra arguments ignored:  intervals, prob\"\n",
      "New names:\n",
      "* sigma -> sigma...1\n",
      "* sigma -> sigma...2\n",
      "\n"
     ]
    },
    {
     "data": {
      "text/html": [
       "<strong>png:</strong> 2"
      ],
      "text/latex": [
       "\\textbf{png:} 2"
      ],
      "text/markdown": [
       "**png:** 2"
      ],
      "text/plain": [
       "png \n",
       "  2 "
      ]
     },
     "metadata": {},
     "output_type": "display_data"
    }
   ],
   "source": [
    "var = 'propindoor_duration_2_Zone'\n",
    "path_visual_ = file.path(path_visual, var)\n",
    "dir.create(path_visual_)\n",
    "dim(df)\n",
    "df_ = df\n",
    "dim(df_)\n",
    "\n",
    "li_model = list()\n",
    "for (i in 1:10){\n",
    "    monthILBID = paste0('month',i)\n",
    "    print(monthILBID)\n",
    "    df__ = df_[df_$monthILB==monthILBID,]\n",
    "    #drop factors not existing in this subdataframe\n",
    "    df__$HenID = factor(df__$HenID) \n",
    "    df__$PenID = factor(df__$PenID)\n",
    "    df__$CLASS = factor(df__$CLASS) \n",
    "    #df__$Treatment = as.factor(df__$Treatment) \n",
    "    #monthILB1-monthILB2: no KBF but nbr_h_per_day_sc, after KBF but no nbr_h_per_day_sc\n",
    "    if (monthILBID %in% c('month1')){\n",
    "        fit_nopenid = glmmTMB(went_litter ~  CLASS+ Treatment + rescale(DIB) + rescale(weight_interp)+ rescale(nbr_h_per_day) + (1|HenID), \n",
    "                   data=df__, family=binomial)\n",
    "        fit_penid = glmmTMB(went_litter ~  CLASS+ Treatment + rescale(DIB) + rescale(weight_interp)+ rescale(nbr_h_per_day) + (1|PenID/HenID), #singular\n",
    "                   data=df__, family=binomial)}\n",
    "    else if (monthILBID %in% c('month2')){\n",
    "        fit_nopenid = glmmTMB(propindoor_duration_2_Zone ~  CLASS+ Treatment + rescale(DIB) + rescale(weight_interp)+ rescale(nbr_h_per_day) + (1|HenID), \n",
    "                   data=df__, family=gaussian)\n",
    "        fit_penid = glmmTMB(propindoor_duration_2_Zone ~  CLASS+ Treatment + rescale(DIB) + rescale(weight_interp)+ rescale(nbr_h_per_day) + (1|PenID/HenID), \n",
    "                   data=df__, family=gaussian)}\n",
    "    else{\n",
    "        fit_nopenid = glmmTMB(propindoor_duration_2_Zone ~  CLASS + Treatment + rescale(DIB) + rescale(weight_interp)+ rescale(KBF_interp) + (1|HenID), \n",
    "                   data=df__, family=gaussian)\n",
    "        fit_penid = glmmTMB(propindoor_duration_2_Zone ~  CLASS + Treatment + rescale(DIB) + rescale(weight_interp)+ rescale(KBF_interp) + (1|PenID/HenID), \n",
    "                   data=df__, family=gaussian)}\n",
    "    set.seed(0)\n",
    "\n",
    "    #test if PenID should be kept or not\n",
    "    print(anova(fit_nopenid,fit_penid))\n",
    "    p_value = anova(fit_nopenid,fit_penid)['Pr(>Chisq)']['fit_penid',]\n",
    "    if (p_value<0.05){\n",
    "        fit = fit_penid    \n",
    "    }else{\n",
    "        fit = fit_nopenid    \n",
    "    } \n",
    "        \n",
    "    #binomial: exponentiate\n",
    "    if (monthILBID %in% c('month1')){\n",
    "        df_res = model_parameters(fit, bootstrap = TRUE, iterations = n_iter,effects = \"all\",exponentiate = TRUE)\n",
    "        write.csv(df_res, file=file.path(path_visual_, paste0(var, 'bootstrapPVAL',monthILBID,'.csv')) )\n",
    "    }\n",
    "    \n",
    "    #gaussian model additional (to darmha) residuals inspection & exponentiate\n",
    "    else{\n",
    "        tiff(file.path(path_visual_, paste0(var,'_qqplot',monthILBID,'.tiff')), width=400, height=400)\n",
    "        qqnorm(resid(fit))\n",
    "        qqline(resid(fit))\n",
    "        dev.off()\n",
    "\n",
    "        tiff(file.path(path_visual_, paste0(var,'_reshisto',monthILBID,'.tiff')), width=400, height=400)\n",
    "        hist(resid(fit))\n",
    "        dev.off()\n",
    "        ######check homogeneity of variance (residuals has constant variance)\n",
    "        #into with glmmTMB but we used it with glmer and it was all food. for glmmtmb we will use darmha\n",
    "        #tiff(file.path(path_visual_, paste0(var,'_homogeneityvar',monthILBID,'.tiff')), width=400, height=400)\n",
    "        #print(plot(fit))\n",
    "        #dev.off()        \n",
    "        df_res = model_parameters(fit, bootstrap = TRUE, iterations = n_iter,effects = \"all\",exponentiate = FALSE)\n",
    "        write.csv(df_res, file=file.path(path_visual_, paste0(var, 'bootstrapPVAL',monthILBID,'.csv')) )\n",
    "        \n",
    "    }\n",
    "\n",
    "    li_model[[i]] = fit\n",
    "    \n",
    "    #save raw coeff in case\n",
    "    write.csv(summary(fit)[['coefficients']]$cond, file=file.path(path_visual_, paste0(var,monthILBID,'.csv')) )\n",
    "    \n",
    "    simulationOutput = simulateResiduals(fittedModel=fit)\n",
    "    tiff(file.path(path_visual_, paste0(var,'_SimRes1',monthILBID,'.tiff')), width=400, height=400)\n",
    "    print(plot(simulationOutput))\n",
    "    dev.off()\n",
    "    \n",
    "    tiff(file.path(path_visual_, paste0(var,'_SimRes2',monthILBID,'.tiff')), width=400, height=400)\n",
    "    print(plotResiduals(simulationOutput, form = df__$Treatment))\n",
    "    dev.off()\n",
    "    \n",
    "    tab_model(fit, collapse.ci = TRUE, p.style = \"numeric_stars\", file=file.path(path_visual_, paste0(var,'_TableModel',monthILBID,'.doc')))\n",
    "}\n",
    "\n",
    "#save ta model in case\n",
    "tab_model(li_model[1:5], collapse.ci = TRUE, p.style = \"numeric_stars\", file=file.path(path_visual_, paste0(var,'_TableModel1-5.doc')))\n",
    "tab_model(li_model[6:10], collapse.ci = TRUE, p.style = \"numeric_stars\", file=file.path(path_visual_, paste0(var,'_TableModel6-10.doc')))\n",
    "\n",
    "#save visuals in case\n",
    "tiff(file.path(path_visual_, paste0(var,'_OFHCoeff_month1','.tiff')), width=400, height=400)\n",
    "plot_summs(li_model[1], coefs=c('TreatmentOFH'), colors='Rainbow', legend.title=var, exp=TRUE)\n",
    "dev.off()\n",
    "\n",
    "#to match the colors and modelID, put as model 1 the model2. then, we will remove it from the plot\n",
    "li_model_ = li_model\n",
    "li_model_[[1]] = li_model_[[2]]\n",
    "tiff(file.path(path_visual_, paste0(var,'_OFHCoeff_month2-10','.tiff')), width=400, height=400)\n",
    "plot_summs(li_model_, coefs=c('TreatmentOFH'), colors='Rainbow', legend.title=var, exp=FALSE)\n",
    "dev.off()"
   ]
  },
  {
   "cell_type": "code",
   "execution_count": 9,
   "id": "1fef0899",
   "metadata": {},
   "outputs": [
    {
     "data": {
      "text/plain": [
       "Linear mixed model fit by REML ['lmerMod']\n",
       "Formula: sqrt(propindoor_duration_2_Zone) ~ CLASS + Treatment + rescale(DIB) +  \n",
       "    rescale(weight_interp) + rescale(nbr_h_per_day) + (1 | HenID)\n",
       "   Data: df__\n",
       "\n",
       "REML criterion at convergence: -616.6\n",
       "\n",
       "Scaled residuals: \n",
       "    Min      1Q  Median      3Q     Max \n",
       "-2.9888 -0.6347 -0.0197  0.6064  4.7306 \n",
       "\n",
       "Random effects:\n",
       " Groups   Name        Variance Std.Dev.\n",
       " HenID    (Intercept) 0.03845  0.1961  \n",
       " Residual             0.04298  0.2073  \n",
       "Number of obs: 3523, groups:  HenID, 140\n",
       "\n",
       "Fixed effects:\n",
       "                       Estimate Std. Error t value\n",
       "(Intercept)             0.51199    0.02890  17.719\n",
       "CLASSLEXP              -0.06979    0.04356  -1.602\n",
       "CLASSMEXP              -0.01405    0.04045  -0.347\n",
       "TreatmentOFH           -0.07975    0.03418  -2.333\n",
       "rescale(DIB)            0.22398    0.04470   5.011\n",
       "rescale(weight_interp) -0.07335    0.03942  -1.861\n",
       "rescale(nbr_h_per_day) -0.03939    0.03189  -1.235\n",
       "\n",
       "Correlation of Fixed Effects:\n",
       "            (Intr) CLASSL CLASSM TrtOFH r(DIB) rsc(_)\n",
       "CLASSLEXP   -0.403                                   \n",
       "CLASSMEXP   -0.475  0.312                            \n",
       "TreatmntOFH -0.583 -0.059  0.007                     \n",
       "rescal(DIB) -0.050 -0.012  0.011  0.080              \n",
       "rscl(wght_)  0.071  0.017 -0.015 -0.114 -0.701       \n",
       "rscl(nb___)  0.001  0.000  0.000 -0.002 -0.701  0.007"
      ]
     },
     "metadata": {},
     "output_type": "display_data"
    },
    {
     "data": {
      "image/png": "[encoded data removed]",
      "text/plain": [
       "Plot with title \"Normal Q-Q Plot\""
      ]
     },
     "metadata": {
      "image/png": {
       "height": 420,
       "width": 420
      }
     },
     "output_type": "display_data"
    },
    {
     "data": {
      "image/png": "[encoded data removed]",
      "text/plain": [
       "Plot with title \"Histogram of resid(fit)\""
      ]
     },
     "metadata": {
      "image/png": {
       "height": 420,
       "width": 420
      }
     },
     "output_type": "display_data"
    },
    {
     "data": {
      "image/png": "[encoded data removed]",
      "text/plain": [
       "plot without title"
      ]
     },
     "metadata": {
      "image/png": {
       "height": 420,
       "width": 420
      }
     },
     "output_type": "display_data"
    }
   ],
   "source": [
    "#just to remeber why binary\n",
    "df__ = df_[df_$monthILB=='month1',]\n",
    "#drop factors not existing in this subdataframe\n",
    "df__$HenID = factor(df__$HenID) \n",
    "df__$PenID = factor(df__$PenID)\n",
    "df__$CLASS = factor(df__$CLASS) \n",
    "df__$Treatment = as.factor(df__$Treatment) \n",
    "#asin(sqrt())\n",
    "fit = lmer(sqrt(propindoor_duration_2_Zone) ~  CLASS+ Treatment + rescale(DIB) + rescale(weight_interp)+ rescale(nbr_h_per_day) + (1|HenID), \n",
    "               data=df__)\n",
    "summary(fit)\n",
    "qqnorm(resid(fit))\n",
    "qqline(resid(fit))\n",
    "hist(resid(fit))\n",
    "plot(fit)"
   ]
  },
  {
   "cell_type": "markdown",
   "id": "46a41ab7",
   "metadata": {},
   "source": [
    "# propindoor_duration_5_Zone_rs"
   ]
  },
  {
   "cell_type": "code",
   "execution_count": 16,
   "id": "a95afd85",
   "metadata": {
    "scrolled": true
   },
   "outputs": [
    {
     "name": "stderr",
     "output_type": "stream",
     "text": [
      "Warning message in dir.create(path_visual_):\n",
      "\"'G:\\VPHI\\Welfare\\2- Research Projects\\OFHE2.OriginsE2\\DataOutput\\TrackingSystem\\ALLDATA_\\OFH_model\\Month_final_PenIDWhenNeeded_bootstrap_final\\propindoor_duration_5_Zone_rs' existe déjà\"\n"
     ]
    },
    {
     "data": {
      "text/html": [
       "<style>\n",
       ".list-inline {list-style: none; margin:0; padding: 0}\n",
       ".list-inline>li {display: inline-block}\n",
       ".list-inline>li:not(:last-child)::after {content: \"\\00b7\"; padding: 0 .5ex}\n",
       "</style>\n",
       "<ol class=list-inline><li>37455</li><li>36</li></ol>\n"
      ],
      "text/latex": [
       "\\begin{enumerate*}\n",
       "\\item 37455\n",
       "\\item 36\n",
       "\\end{enumerate*}\n"
      ],
      "text/markdown": [
       "1. 37455\n",
       "2. 36\n",
       "\n",
       "\n"
      ],
      "text/plain": [
       "[1] 37455    36"
      ]
     },
     "metadata": {},
     "output_type": "display_data"
    },
    {
     "data": {
      "text/html": [
       "<style>\n",
       ".list-inline {list-style: none; margin:0; padding: 0}\n",
       ".list-inline>li {display: inline-block}\n",
       ".list-inline>li:not(:last-child)::after {content: \"\\00b7\"; padding: 0 .5ex}\n",
       "</style>\n",
       "<ol class=list-inline><li>37455</li><li>36</li></ol>\n"
      ],
      "text/latex": [
       "\\begin{enumerate*}\n",
       "\\item 37455\n",
       "\\item 36\n",
       "\\end{enumerate*}\n"
      ],
      "text/markdown": [
       "1. 37455\n",
       "2. 36\n",
       "\n",
       "\n"
      ],
      "text/plain": [
       "[1] 37455    36"
      ]
     },
     "metadata": {},
     "output_type": "display_data"
    },
    {
     "name": "stdout",
     "output_type": "stream",
     "text": [
      "[1] \"month6\"\n"
     ]
    },
    {
     "name": "stderr",
     "output_type": "stream",
     "text": [
      "Warning message in Matrix::sparseMatrix(dims = c(0, 0), i = integer(0), j = integer(0), :\n",
      "\"'giveCsparse' has been deprecated; setting 'repr = \"T\"' for you\"\n",
      "Warning message in Matrix::sparseMatrix(dims = c(0, 0), i = integer(0), j = integer(0), :\n",
      "\"'giveCsparse' has been deprecated; setting 'repr = \"T\"' for you\"\n",
      "Warning message in Matrix::sparseMatrix(dims = c(0, 0), i = integer(0), j = integer(0), :\n",
      "\"'giveCsparse' has been deprecated; setting 'repr = \"T\"' for you\"\n",
      "Warning message in Matrix::sparseMatrix(dims = c(0, 0), i = integer(0), j = integer(0), :\n",
      "\"'giveCsparse' has been deprecated; setting 'repr = \"T\"' for you\"\n",
      "Warning message in Matrix::sparseMatrix(dims = c(0, 0), i = integer(0), j = integer(0), :\n",
      "\"'giveCsparse' has been deprecated; setting 'repr = \"T\"' for you\"\n",
      "Warning message in Matrix::sparseMatrix(dims = c(0, 0), i = integer(0), j = integer(0), :\n",
      "\"'giveCsparse' has been deprecated; setting 'repr = \"T\"' for you\"\n"
     ]
    },
    {
     "name": "stdout",
     "output_type": "stream",
     "text": [
      "Data: df__\n",
      "Models:\n",
      "fit_nopenid: propindoor_duration_5_Zone_rs ~ CLASS + Treatment + rescale(DIB) + , zi=~0, disp=~1\n",
      "fit_nopenid:     rescale(weight_interp) + rescale(KBF_interp) + (1 | HenID), zi=~0, disp=~1\n",
      "fit_penid: propindoor_duration_5_Zone_rs ~ CLASS + Treatment + rescale(DIB) + , zi=~0, disp=~1\n",
      "fit_penid:     rescale(weight_interp) + rescale(KBF_interp) + (1 | PenID/HenID), zi=~0, disp=~1\n",
      "            Df    AIC    BIC logLik deviance  Chisq Chi Df Pr(>Chisq)\n",
      "fit_nopenid  9 -10219 -10162 5118.7   -10237                         \n",
      "fit_penid   10 -10217 -10154 5118.7   -10237 0.0019      1     0.9654\n"
     ]
    },
    {
     "name": "stderr",
     "output_type": "stream",
     "text": [
      "Warning message:\n",
      "\"Bootstrapping only returns fixed effects of the mixed model.\"\n",
      "Warning message in Matrix::sparseMatrix(dims = c(0, 0), i = integer(0), j = integer(0), :\n",
      "\"'giveCsparse' has been deprecated; setting 'repr = \"T\"' for you\"\n",
      "Warning message in Matrix::sparseMatrix(dims = c(0, 0), i = integer(0), j = integer(0), :\n",
      "\"'giveCsparse' has been deprecated; setting 'repr = \"T\"' for you\"\n",
      "Warning message in Matrix::sparseMatrix(dims = c(0, 0), i = integer(0), j = integer(0), :\n",
      "\"'giveCsparse' has been deprecated; setting 'repr = \"T\"' for you\"\n",
      "Warning message in Matrix::sparseMatrix(dims = c(0, 0), i = integer(0), j = integer(0), :\n",
      "\"'giveCsparse' has been deprecated; setting 'repr = \"T\"' for you\"\n",
      "Warning message in Matrix::sparseMatrix(dims = c(0, 0), i = integer(0), j = integer(0), :\n",
      "\"'giveCsparse' has been deprecated; setting 'repr = \"T\"' for you\"\n",
      "Warning message in Matrix::sparseMatrix(dims = c(0, 0), i = integer(0), j = integer(0), :\n",
      "\"'giveCsparse' has been deprecated; setting 'repr = \"T\"' for you\"\n"
     ]
    },
    {
     "name": "stdout",
     "output_type": "stream",
     "text": [
      "NULL\n",
      "NULL\n",
      "[1] \"month7\"\n"
     ]
    },
    {
     "name": "stderr",
     "output_type": "stream",
     "text": [
      "Warning message in Matrix::sparseMatrix(dims = c(0, 0), i = integer(0), j = integer(0), :\n",
      "\"'giveCsparse' has been deprecated; setting 'repr = \"T\"' for you\"\n",
      "Warning message in Matrix::sparseMatrix(dims = c(0, 0), i = integer(0), j = integer(0), :\n",
      "\"'giveCsparse' has been deprecated; setting 'repr = \"T\"' for you\"\n",
      "Warning message in Matrix::sparseMatrix(dims = c(0, 0), i = integer(0), j = integer(0), :\n",
      "\"'giveCsparse' has been deprecated; setting 'repr = \"T\"' for you\"\n",
      "Warning message in Matrix::sparseMatrix(dims = c(0, 0), i = integer(0), j = integer(0), :\n",
      "\"'giveCsparse' has been deprecated; setting 'repr = \"T\"' for you\"\n",
      "Warning message in Matrix::sparseMatrix(dims = c(0, 0), i = integer(0), j = integer(0), :\n",
      "\"'giveCsparse' has been deprecated; setting 'repr = \"T\"' for you\"\n",
      "Warning message in Matrix::sparseMatrix(dims = c(0, 0), i = integer(0), j = integer(0), :\n",
      "\"'giveCsparse' has been deprecated; setting 'repr = \"T\"' for you\"\n"
     ]
    },
    {
     "name": "stdout",
     "output_type": "stream",
     "text": [
      "Data: df__\n",
      "Models:\n",
      "fit_nopenid: propindoor_duration_5_Zone_rs ~ CLASS + Treatment + rescale(DIB) + , zi=~0, disp=~1\n",
      "fit_nopenid:     rescale(weight_interp) + rescale(KBF_interp) + (1 | HenID), zi=~0, disp=~1\n",
      "fit_penid: propindoor_duration_5_Zone_rs ~ CLASS + Treatment + rescale(DIB) + , zi=~0, disp=~1\n",
      "fit_penid:     rescale(weight_interp) + rescale(KBF_interp) + (1 | PenID/HenID), zi=~0, disp=~1\n",
      "            Df     AIC     BIC logLik deviance Chisq Chi Df Pr(>Chisq)\n",
      "fit_nopenid  9 -9399.3 -9342.3 4708.6  -9417.3                        \n",
      "fit_penid   10 -9397.3 -9334.0 4708.6  -9417.3     0      1          1\n"
     ]
    },
    {
     "name": "stderr",
     "output_type": "stream",
     "text": [
      "Warning message:\n",
      "\"Bootstrapping only returns fixed effects of the mixed model.\"\n",
      "Warning message in Matrix::sparseMatrix(dims = c(0, 0), i = integer(0), j = integer(0), :\n",
      "\"'giveCsparse' has been deprecated; setting 'repr = \"T\"' for you\"\n",
      "Warning message in Matrix::sparseMatrix(dims = c(0, 0), i = integer(0), j = integer(0), :\n",
      "\"'giveCsparse' has been deprecated; setting 'repr = \"T\"' for you\"\n",
      "Warning message in Matrix::sparseMatrix(dims = c(0, 0), i = integer(0), j = integer(0), :\n",
      "\"'giveCsparse' has been deprecated; setting 'repr = \"T\"' for you\"\n",
      "Warning message in Matrix::sparseMatrix(dims = c(0, 0), i = integer(0), j = integer(0), :\n",
      "\"'giveCsparse' has been deprecated; setting 'repr = \"T\"' for you\"\n",
      "Warning message in Matrix::sparseMatrix(dims = c(0, 0), i = integer(0), j = integer(0), :\n",
      "\"'giveCsparse' has been deprecated; setting 'repr = \"T\"' for you\"\n",
      "Warning message in Matrix::sparseMatrix(dims = c(0, 0), i = integer(0), j = integer(0), :\n",
      "\"'giveCsparse' has been deprecated; setting 'repr = \"T\"' for you\"\n"
     ]
    },
    {
     "name": "stdout",
     "output_type": "stream",
     "text": [
      "NULL\n",
      "NULL\n",
      "[1] \"month8\"\n"
     ]
    },
    {
     "name": "stderr",
     "output_type": "stream",
     "text": [
      "Warning message in Matrix::sparseMatrix(dims = c(0, 0), i = integer(0), j = integer(0), :\n",
      "\"'giveCsparse' has been deprecated; setting 'repr = \"T\"' for you\"\n",
      "Warning message in Matrix::sparseMatrix(dims = c(0, 0), i = integer(0), j = integer(0), :\n",
      "\"'giveCsparse' has been deprecated; setting 'repr = \"T\"' for you\"\n",
      "Warning message in Matrix::sparseMatrix(dims = c(0, 0), i = integer(0), j = integer(0), :\n",
      "\"'giveCsparse' has been deprecated; setting 'repr = \"T\"' for you\"\n",
      "Warning message in Matrix::sparseMatrix(dims = c(0, 0), i = integer(0), j = integer(0), :\n",
      "\"'giveCsparse' has been deprecated; setting 'repr = \"T\"' for you\"\n",
      "Warning message in Matrix::sparseMatrix(dims = c(0, 0), i = integer(0), j = integer(0), :\n",
      "\"'giveCsparse' has been deprecated; setting 'repr = \"T\"' for you\"\n",
      "Warning message in Matrix::sparseMatrix(dims = c(0, 0), i = integer(0), j = integer(0), :\n",
      "\"'giveCsparse' has been deprecated; setting 'repr = \"T\"' for you\"\n"
     ]
    },
    {
     "name": "stdout",
     "output_type": "stream",
     "text": [
      "Data: df__\n",
      "Models:\n",
      "fit_nopenid: propindoor_duration_5_Zone_rs ~ CLASS + Treatment + rescale(DIB) + , zi=~0, disp=~1\n",
      "fit_nopenid:     rescale(weight_interp) + rescale(KBF_interp) + (1 | HenID), zi=~0, disp=~1\n",
      "fit_penid: propindoor_duration_5_Zone_rs ~ CLASS + Treatment + rescale(DIB) + , zi=~0, disp=~1\n",
      "fit_penid:     rescale(weight_interp) + rescale(KBF_interp) + (1 | PenID/HenID), zi=~0, disp=~1\n",
      "            Df    AIC    BIC logLik deviance  Chisq Chi Df Pr(>Chisq)\n",
      "fit_nopenid  9 -10643 -10585 5330.4   -10661                         \n",
      "fit_penid   10 -10641 -10577 5330.6   -10661 0.5082      1     0.4759\n"
     ]
    },
    {
     "name": "stderr",
     "output_type": "stream",
     "text": [
      "Warning message:\n",
      "\"Bootstrapping only returns fixed effects of the mixed model.\"\n",
      "Warning message in Matrix::sparseMatrix(dims = c(0, 0), i = integer(0), j = integer(0), :\n",
      "\"'giveCsparse' has been deprecated; setting 'repr = \"T\"' for you\"\n",
      "Warning message in Matrix::sparseMatrix(dims = c(0, 0), i = integer(0), j = integer(0), :\n",
      "\"'giveCsparse' has been deprecated; setting 'repr = \"T\"' for you\"\n",
      "Warning message in Matrix::sparseMatrix(dims = c(0, 0), i = integer(0), j = integer(0), :\n",
      "\"'giveCsparse' has been deprecated; setting 'repr = \"T\"' for you\"\n",
      "Warning message in Matrix::sparseMatrix(dims = c(0, 0), i = integer(0), j = integer(0), :\n",
      "\"'giveCsparse' has been deprecated; setting 'repr = \"T\"' for you\"\n",
      "Warning message in Matrix::sparseMatrix(dims = c(0, 0), i = integer(0), j = integer(0), :\n",
      "\"'giveCsparse' has been deprecated; setting 'repr = \"T\"' for you\"\n",
      "Warning message in Matrix::sparseMatrix(dims = c(0, 0), i = integer(0), j = integer(0), :\n",
      "\"'giveCsparse' has been deprecated; setting 'repr = \"T\"' for you\"\n"
     ]
    },
    {
     "name": "stdout",
     "output_type": "stream",
     "text": [
      "NULL\n",
      "NULL\n",
      "[1] \"month9\"\n"
     ]
    },
    {
     "name": "stderr",
     "output_type": "stream",
     "text": [
      "Warning message in Matrix::sparseMatrix(dims = c(0, 0), i = integer(0), j = integer(0), :\n",
      "\"'giveCsparse' has been deprecated; setting 'repr = \"T\"' for you\"\n",
      "Warning message in Matrix::sparseMatrix(dims = c(0, 0), i = integer(0), j = integer(0), :\n",
      "\"'giveCsparse' has been deprecated; setting 'repr = \"T\"' for you\"\n",
      "Warning message in Matrix::sparseMatrix(dims = c(0, 0), i = integer(0), j = integer(0), :\n",
      "\"'giveCsparse' has been deprecated; setting 'repr = \"T\"' for you\"\n",
      "Warning message in Matrix::sparseMatrix(dims = c(0, 0), i = integer(0), j = integer(0), :\n",
      "\"'giveCsparse' has been deprecated; setting 'repr = \"T\"' for you\"\n",
      "Warning message in Matrix::sparseMatrix(dims = c(0, 0), i = integer(0), j = integer(0), :\n",
      "\"'giveCsparse' has been deprecated; setting 'repr = \"T\"' for you\"\n",
      "Warning message in Matrix::sparseMatrix(dims = c(0, 0), i = integer(0), j = integer(0), :\n",
      "\"'giveCsparse' has been deprecated; setting 'repr = \"T\"' for you\"\n"
     ]
    },
    {
     "name": "stdout",
     "output_type": "stream",
     "text": [
      "Data: df__\n",
      "Models:\n",
      "fit_nopenid: propindoor_duration_5_Zone_rs ~ CLASS + Treatment + rescale(DIB) + , zi=~0, disp=~1\n",
      "fit_nopenid:     rescale(weight_interp) + rescale(KBF_interp) + (1 | HenID), zi=~0, disp=~1\n",
      "fit_penid: propindoor_duration_5_Zone_rs ~ CLASS + Treatment + rescale(DIB) + , zi=~0, disp=~1\n",
      "fit_penid:     rescale(weight_interp) + rescale(KBF_interp) + (1 | PenID/HenID), zi=~0, disp=~1\n",
      "            Df     AIC     BIC logLik deviance  Chisq Chi Df Pr(>Chisq)\n",
      "fit_nopenid  9 -4841.1 -4791.4 2429.6  -4859.1                         \n",
      "fit_penid   10 -4839.5 -4784.2 2429.8  -4859.5 0.3759      1     0.5398\n"
     ]
    },
    {
     "name": "stderr",
     "output_type": "stream",
     "text": [
      "Warning message:\n",
      "\"Bootstrapping only returns fixed effects of the mixed model.\"\n",
      "Warning message in Matrix::sparseMatrix(dims = c(0, 0), i = integer(0), j = integer(0), :\n",
      "\"'giveCsparse' has been deprecated; setting 'repr = \"T\"' for you\"\n",
      "Warning message in Matrix::sparseMatrix(dims = c(0, 0), i = integer(0), j = integer(0), :\n",
      "\"'giveCsparse' has been deprecated; setting 'repr = \"T\"' for you\"\n",
      "Warning message in Matrix::sparseMatrix(dims = c(0, 0), i = integer(0), j = integer(0), :\n",
      "\"'giveCsparse' has been deprecated; setting 'repr = \"T\"' for you\"\n",
      "Warning message in Matrix::sparseMatrix(dims = c(0, 0), i = integer(0), j = integer(0), :\n",
      "\"'giveCsparse' has been deprecated; setting 'repr = \"T\"' for you\"\n",
      "Warning message in Matrix::sparseMatrix(dims = c(0, 0), i = integer(0), j = integer(0), :\n",
      "\"'giveCsparse' has been deprecated; setting 'repr = \"T\"' for you\"\n",
      "Warning message in Matrix::sparseMatrix(dims = c(0, 0), i = integer(0), j = integer(0), :\n",
      "\"'giveCsparse' has been deprecated; setting 'repr = \"T\"' for you\"\n"
     ]
    },
    {
     "name": "stdout",
     "output_type": "stream",
     "text": [
      "NULL\n",
      "NULL\n",
      "[1] \"month10\"\n"
     ]
    },
    {
     "name": "stderr",
     "output_type": "stream",
     "text": [
      "Warning message in Matrix::sparseMatrix(dims = c(0, 0), i = integer(0), j = integer(0), :\n",
      "\"'giveCsparse' has been deprecated; setting 'repr = \"T\"' for you\"\n",
      "Warning message in Matrix::sparseMatrix(dims = c(0, 0), i = integer(0), j = integer(0), :\n",
      "\"'giveCsparse' has been deprecated; setting 'repr = \"T\"' for you\"\n",
      "Warning message in Matrix::sparseMatrix(dims = c(0, 0), i = integer(0), j = integer(0), :\n",
      "\"'giveCsparse' has been deprecated; setting 'repr = \"T\"' for you\"\n",
      "Warning message in Matrix::sparseMatrix(dims = c(0, 0), i = integer(0), j = integer(0), :\n",
      "\"'giveCsparse' has been deprecated; setting 'repr = \"T\"' for you\"\n",
      "Warning message in Matrix::sparseMatrix(dims = c(0, 0), i = integer(0), j = integer(0), :\n",
      "\"'giveCsparse' has been deprecated; setting 'repr = \"T\"' for you\"\n",
      "Warning message in Matrix::sparseMatrix(dims = c(0, 0), i = integer(0), j = integer(0), :\n",
      "\"'giveCsparse' has been deprecated; setting 'repr = \"T\"' for you\"\n"
     ]
    },
    {
     "name": "stdout",
     "output_type": "stream",
     "text": [
      "Data: df__\n",
      "Models:\n",
      "fit_nopenid: propindoor_duration_5_Zone_rs ~ CLASS + Treatment + rescale(DIB) + , zi=~0, disp=~1\n",
      "fit_nopenid:     rescale(weight_interp) + rescale(KBF_interp) + (1 | HenID), zi=~0, disp=~1\n",
      "fit_penid: propindoor_duration_5_Zone_rs ~ CLASS + Treatment + rescale(DIB) + , zi=~0, disp=~1\n",
      "fit_penid:     rescale(weight_interp) + rescale(KBF_interp) + (1 | PenID/HenID), zi=~0, disp=~1\n",
      "            Df     AIC     BIC logLik deviance  Chisq Chi Df Pr(>Chisq)\n",
      "fit_nopenid  9 -7751.1 -7696.6 3884.6  -7769.1                         \n",
      "fit_penid   10 -7749.2 -7688.7 3884.6  -7769.2 0.1051      1     0.7457\n"
     ]
    },
    {
     "name": "stderr",
     "output_type": "stream",
     "text": [
      "Warning message:\n",
      "\"Bootstrapping only returns fixed effects of the mixed model.\"\n",
      "Warning message in Matrix::sparseMatrix(dims = c(0, 0), i = integer(0), j = integer(0), :\n",
      "\"'giveCsparse' has been deprecated; setting 'repr = \"T\"' for you\"\n",
      "Warning message in Matrix::sparseMatrix(dims = c(0, 0), i = integer(0), j = integer(0), :\n",
      "\"'giveCsparse' has been deprecated; setting 'repr = \"T\"' for you\"\n",
      "Warning message in Matrix::sparseMatrix(dims = c(0, 0), i = integer(0), j = integer(0), :\n",
      "\"'giveCsparse' has been deprecated; setting 'repr = \"T\"' for you\"\n",
      "Warning message in Matrix::sparseMatrix(dims = c(0, 0), i = integer(0), j = integer(0), :\n",
      "\"'giveCsparse' has been deprecated; setting 'repr = \"T\"' for you\"\n",
      "Warning message in Matrix::sparseMatrix(dims = c(0, 0), i = integer(0), j = integer(0), :\n",
      "\"'giveCsparse' has been deprecated; setting 'repr = \"T\"' for you\"\n",
      "Warning message in Matrix::sparseMatrix(dims = c(0, 0), i = integer(0), j = integer(0), :\n",
      "\"'giveCsparse' has been deprecated; setting 'repr = \"T\"' for you\"\n"
     ]
    },
    {
     "name": "stdout",
     "output_type": "stream",
     "text": [
      "NULL\n",
      "NULL\n"
     ]
    }
   ],
   "source": [
    "var = 'propindoor_duration_5_Zone_rs'\n",
    "path_visual_ = file.path(path_visual, var)\n",
    "dir.create(path_visual_)\n",
    "dim(df)\n",
    "df_ = df\n",
    "dim(df_)\n",
    "\n",
    "li_model = list()\n",
    "for (i in 1:10){\n",
    "    monthILBID = paste0('month',i)\n",
    "    print(monthILBID)\n",
    "    df__ = df_[df_$monthILB==monthILBID,]\n",
    "    #drop factors not existing in this subdataframe\n",
    "    df__$HenID = factor(df__$HenID) \n",
    "    df__$PenID = factor(df__$PenID)\n",
    "    df__$CLASS = factor(df__$CLASS) \n",
    "    #monthILB1-monthILB2: no KBF but nbr_h_per_day_sc, after KBF but no nbr_h_per_day_sc\n",
    "    if (monthILBID %in% c('month1', 'month2')){\n",
    "        fit_nopenid = glmmTMB(propindoor_duration_5_Zone_rs ~  CLASS+ Treatment + rescale(DIB) + rescale(weight_interp)+ rescale(nbr_h_per_day)+(1|HenID), \n",
    "                   data=df__, family=beta_family(link=\"logit\"))\n",
    "        fit_penid = glmmTMB(propindoor_duration_5_Zone_rs ~  CLASS+ Treatment + rescale(DIB) + rescale(weight_interp)+ rescale(nbr_h_per_day)+(1|PenID/HenID), \n",
    "                   data=df__, family=beta_family(link=\"logit\"))}\n",
    "    else{\n",
    "        fit_nopenid = glmmTMB(propindoor_duration_5_Zone_rs ~  CLASS + Treatment + rescale(DIB) + rescale(weight_interp)+rescale(KBF_interp) + (1|HenID), \n",
    "                   data=df__, family=beta_family(link=\"logit\"))\n",
    "        fit_penid = glmmTMB(propindoor_duration_5_Zone_rs ~  CLASS + Treatment + rescale(DIB) + rescale(weight_interp)+rescale(KBF_interp) + (1|PenID/HenID), \n",
    "                   data=df__, family=beta_family(link=\"logit\"))}\n",
    "    print(anova(fit_nopenid,fit_penid))\n",
    "    p_value = anova(fit_nopenid,fit_penid)['Pr(>Chisq)']['fit_penid',]\n",
    "    if (p_value<0.05){\n",
    "        fit = fit_penid    \n",
    "    }else{\n",
    "        fit = fit_nopenid    \n",
    "    }    \n",
    "    \n",
    "    li_model[[i]] = fit\n",
    "    write.csv(summary(fit)['coefficients']$coefficients$cond, file=file.path(path_visual_, paste0(var,monthILBID,'.csv')) )\n",
    "    \n",
    "    set.seed(0)\n",
    "    \n",
    "    df_res = model_parameters(fit, bootstrap = TRUE, iterations = n_iter,effects = \"all\",exponentiate = TRUE)\n",
    "    write.csv(df_res, file=file.path(path_visual_, paste0(var, 'bootstrapPVAL',monthILBID,'.csv')) )\n",
    "\n",
    "    simulationOutput = simulateResiduals(fittedModel=fit)\n",
    "    tiff(file.path(path_visual_, paste0(var,'_SimRes1',monthILBID,'.tiff')), width=400, height=400)\n",
    "    print(plot(simulationOutput))\n",
    "    dev.off()\n",
    "    \n",
    "    tiff(file.path(path_visual_, paste0(var,'_SimRes2',monthILBID,'.tiff')), width=400, height=400)\n",
    "    print(plotResiduals(simulationOutput, form = df__$Treatment))\n",
    "    dev.off()\n",
    "    tab_model(fit, collapse.ci = TRUE, p.style = \"numeric_stars\", file=file.path(path_visual_, paste0(var,'_TableModel',monthILBID,'.doc')))\n",
    "}\n",
    "\n",
    "\n",
    "#tiff(file.path(path_visual_, paste0(var,'_OFHCoeff','.tiff')), width=400, height=400)\n",
    "#plot_summs(li_model, coefs=c('TreatmentOFH'), colors='Rainbow', legend.title=var, exp=TRUE)\n",
    "#dev.off()\n",
    "#tab_model(li_model[1:5], collapse.ci = TRUE, p.style = \"numeric_stars\", file=file.path(path_visual_, paste0(var,'_TableModel1-5.doc')))\n",
    "#tab_model(li_model[6:10], collapse.ci = TRUE, p.style = \"numeric_stars\", file=file.path(path_visual_, paste0(var,'_TableModel6-10.doc')))"
   ]
  },
  {
   "cell_type": "code",
   "execution_count": 17,
   "id": "a4a3b29a",
   "metadata": {},
   "outputs": [
    {
     "data": {
      "text/html": [
       "<table class=\"dataframe\">\n",
       "<caption>A data.frame: 3 × 37</caption>\n",
       "<thead>\n",
       "\t<tr><th></th><th scope=col>HenID</th><th scope=col>PenID</th><th scope=col>level</th><th scope=col>Treatment</th><th scope=col>CLASS</th><th scope=col>DOA</th><th scope=col>WOA</th><th scope=col>DIB</th><th scope=col>WIB</th><th scope=col>weight_interp</th><th scope=col>...</th><th scope=col>propindoor_duration_5_Zone</th><th scope=col>propindoor_duration_4_Zone</th><th scope=col>propindoor_duration_2_Zone</th><th scope=col>propindoor_duration_5_Zone_rs</th><th scope=col>propindoor_duration_4_Zone_rs</th><th scope=col>propindoor_duration_2_Zone_rs</th><th scope=col>went_litter</th><th scope=col>stayed_top_tier</th><th scope=col>monthILB</th><th scope=col>stayedin_Z5</th></tr>\n",
       "\t<tr><th></th><th scope=col>&lt;fct&gt;</th><th scope=col>&lt;fct&gt;</th><th scope=col>&lt;fct&gt;</th><th scope=col>&lt;fct&gt;</th><th scope=col>&lt;fct&gt;</th><th scope=col>&lt;int&gt;</th><th scope=col>&lt;int&gt;</th><th scope=col>&lt;int&gt;</th><th scope=col>&lt;int&gt;</th><th scope=col>&lt;dbl&gt;</th><th scope=col>...</th><th scope=col>&lt;dbl&gt;</th><th scope=col>&lt;dbl&gt;</th><th scope=col>&lt;dbl&gt;</th><th scope=col>&lt;dbl&gt;</th><th scope=col>&lt;dbl&gt;</th><th scope=col>&lt;dbl&gt;</th><th scope=col>&lt;int&gt;</th><th scope=col>&lt;int&gt;</th><th scope=col>&lt;fct&gt;</th><th scope=col>&lt;int&gt;</th></tr>\n",
       "</thead>\n",
       "<tbody>\n",
       "\t<tr><th scope=row>4</th><td>hen_131</td><td>pen10</td><td>2020-09-30</td><td>TRAN</td><td>REXP</td><td>119</td><td>17</td><td>1</td><td>1</td><td>1202.000</td><td>...</td><td>0.00</td><td>NA</td><td>0.85</td><td>0.0100</td><td>NA</td><td>0.8430</td><td>1</td><td>0</td><td>month1</td><td>0</td></tr>\n",
       "\t<tr><th scope=row>5</th><td>hen_131</td><td>pen10</td><td>2020-10-01</td><td>TRAN</td><td>REXP</td><td>120</td><td>18</td><td>2</td><td>1</td><td>1211.815</td><td>...</td><td>0.12</td><td>NA</td><td>0.69</td><td>0.1276</td><td>NA</td><td>0.6862</td><td>1</td><td>0</td><td>month1</td><td>0</td></tr>\n",
       "\t<tr><th scope=row>6</th><td>hen_131</td><td>pen10</td><td>2020-10-02</td><td>TRAN</td><td>REXP</td><td>121</td><td>18</td><td>3</td><td>1</td><td>1221.630</td><td>...</td><td>0.54</td><td>NA</td><td>0.29</td><td>0.5392</td><td>NA</td><td>0.2942</td><td>1</td><td>0</td><td>month1</td><td>0</td></tr>\n",
       "</tbody>\n",
       "</table>\n"
      ],
      "text/latex": [
       "A data.frame: 3 × 37\n",
       "\\begin{tabular}{r|lllllllllllllllllllll}\n",
       "  & HenID & PenID & level & Treatment & CLASS & DOA & WOA & DIB & WIB & weight\\_interp & ... & propindoor\\_duration\\_5\\_Zone & propindoor\\_duration\\_4\\_Zone & propindoor\\_duration\\_2\\_Zone & propindoor\\_duration\\_5\\_Zone\\_rs & propindoor\\_duration\\_4\\_Zone\\_rs & propindoor\\_duration\\_2\\_Zone\\_rs & went\\_litter & stayed\\_top\\_tier & monthILB & stayedin\\_Z5\\\\\n",
       "  & <fct> & <fct> & <fct> & <fct> & <fct> & <int> & <int> & <int> & <int> & <dbl> & ... & <dbl> & <dbl> & <dbl> & <dbl> & <dbl> & <dbl> & <int> & <int> & <fct> & <int>\\\\\n",
       "\\hline\n",
       "\t4 & hen\\_131 & pen10 & 2020-09-30 & TRAN & REXP & 119 & 17 & 1 & 1 & 1202.000 & ... & 0.00 & NA & 0.85 & 0.0100 & NA & 0.8430 & 1 & 0 & month1 & 0\\\\\n",
       "\t5 & hen\\_131 & pen10 & 2020-10-01 & TRAN & REXP & 120 & 18 & 2 & 1 & 1211.815 & ... & 0.12 & NA & 0.69 & 0.1276 & NA & 0.6862 & 1 & 0 & month1 & 0\\\\\n",
       "\t6 & hen\\_131 & pen10 & 2020-10-02 & TRAN & REXP & 121 & 18 & 3 & 1 & 1221.630 & ... & 0.54 & NA & 0.29 & 0.5392 & NA & 0.2942 & 1 & 0 & month1 & 0\\\\\n",
       "\\end{tabular}\n"
      ],
      "text/markdown": [
       "\n",
       "A data.frame: 3 × 37\n",
       "\n",
       "| <!--/--> | HenID &lt;fct&gt; | PenID &lt;fct&gt; | level &lt;fct&gt; | Treatment &lt;fct&gt; | CLASS &lt;fct&gt; | DOA &lt;int&gt; | WOA &lt;int&gt; | DIB &lt;int&gt; | WIB &lt;int&gt; | weight_interp &lt;dbl&gt; | ... ... | propindoor_duration_5_Zone &lt;dbl&gt; | propindoor_duration_4_Zone &lt;dbl&gt; | propindoor_duration_2_Zone &lt;dbl&gt; | propindoor_duration_5_Zone_rs &lt;dbl&gt; | propindoor_duration_4_Zone_rs &lt;dbl&gt; | propindoor_duration_2_Zone_rs &lt;dbl&gt; | went_litter &lt;int&gt; | stayed_top_tier &lt;int&gt; | monthILB &lt;fct&gt; | stayedin_Z5 &lt;int&gt; |\n",
       "|---|---|---|---|---|---|---|---|---|---|---|---|---|---|---|---|---|---|---|---|---|---|\n",
       "| 4 | hen_131 | pen10 | 2020-09-30 | TRAN | REXP | 119 | 17 | 1 | 1 | 1202.000 | ... | 0.00 | NA | 0.85 | 0.0100 | NA | 0.8430 | 1 | 0 | month1 | 0 |\n",
       "| 5 | hen_131 | pen10 | 2020-10-01 | TRAN | REXP | 120 | 18 | 2 | 1 | 1211.815 | ... | 0.12 | NA | 0.69 | 0.1276 | NA | 0.6862 | 1 | 0 | month1 | 0 |\n",
       "| 6 | hen_131 | pen10 | 2020-10-02 | TRAN | REXP | 121 | 18 | 3 | 1 | 1221.630 | ... | 0.54 | NA | 0.29 | 0.5392 | NA | 0.2942 | 1 | 0 | month1 | 0 |\n",
       "\n"
      ],
      "text/plain": [
       "  HenID   PenID level      Treatment CLASS DOA WOA DIB WIB weight_interp ...\n",
       "4 hen_131 pen10 2020-09-30 TRAN      REXP  119 17  1   1   1202.000      ...\n",
       "5 hen_131 pen10 2020-10-01 TRAN      REXP  120 18  2   1   1211.815      ...\n",
       "6 hen_131 pen10 2020-10-02 TRAN      REXP  121 18  3   1   1221.630      ...\n",
       "  propindoor_duration_5_Zone propindoor_duration_4_Zone\n",
       "4 0.00                       NA                        \n",
       "5 0.12                       NA                        \n",
       "6 0.54                       NA                        \n",
       "  propindoor_duration_2_Zone propindoor_duration_5_Zone_rs\n",
       "4 0.85                       0.0100                       \n",
       "5 0.69                       0.1276                       \n",
       "6 0.29                       0.5392                       \n",
       "  propindoor_duration_4_Zone_rs propindoor_duration_2_Zone_rs went_litter\n",
       "4 NA                            0.8430                        1          \n",
       "5 NA                            0.6862                        1          \n",
       "6 NA                            0.2942                        1          \n",
       "  stayed_top_tier monthILB stayedin_Z5\n",
       "4 0               month1   0          \n",
       "5 0               month1   0          \n",
       "6 0               month1   0          "
      ]
     },
     "metadata": {},
     "output_type": "display_data"
    },
    {
     "data": {
      "text/html": [
       "<style>\n",
       ".list-inline {list-style: none; margin:0; padding: 0}\n",
       ".list-inline>li {display: inline-block}\n",
       ".list-inline>li:not(:last-child)::after {content: \"\\00b7\"; padding: 0 .5ex}\n",
       "</style>\n",
       "<ol class=list-inline><li>37455</li><li>37</li></ol>\n"
      ],
      "text/latex": [
       "\\begin{enumerate*}\n",
       "\\item 37455\n",
       "\\item 37\n",
       "\\end{enumerate*}\n"
      ],
      "text/markdown": [
       "1. 37455\n",
       "2. 37\n",
       "\n",
       "\n"
      ],
      "text/plain": [
       "[1] 37455    37"
      ]
     },
     "metadata": {},
     "output_type": "display_data"
    },
    {
     "data": {
      "text/html": [
       "<style>\n",
       ".list-inline {list-style: none; margin:0; padding: 0}\n",
       ".list-inline>li {display: inline-block}\n",
       ".list-inline>li:not(:last-child)::after {content: \"\\00b7\"; padding: 0 .5ex}\n",
       "</style>\n",
       "<ol class=list-inline><li>410</li><li>37</li></ol>\n"
      ],
      "text/latex": [
       "\\begin{enumerate*}\n",
       "\\item 410\n",
       "\\item 37\n",
       "\\end{enumerate*}\n"
      ],
      "text/markdown": [
       "1. 410\n",
       "2. 37\n",
       "\n",
       "\n"
      ],
      "text/plain": [
       "[1] 410  37"
      ]
     },
     "metadata": {},
     "output_type": "display_data"
    },
    {
     "name": "stderr",
     "output_type": "stream",
     "text": [
      "Warning message in Matrix::sparseMatrix(dims = c(0, 0), i = integer(0), j = integer(0), :\n",
      "\"'giveCsparse' has been deprecated; setting 'repr = \"T\"' for you\"\n",
      "Warning message in Matrix::sparseMatrix(dims = c(0, 0), i = integer(0), j = integer(0), :\n",
      "\"'giveCsparse' has been deprecated; setting 'repr = \"T\"' for you\"\n",
      "Warning message in Matrix::sparseMatrix(dims = c(0, 0), i = integer(0), j = integer(0), :\n",
      "\"'giveCsparse' has been deprecated; setting 'repr = \"T\"' for you\"\n",
      "Warning message in Matrix::sparseMatrix(dims = c(0, 0), i = integer(0), j = integer(0), :\n",
      "\"'giveCsparse' has been deprecated; setting 'repr = \"T\"' for you\"\n",
      "Warning message in Matrix::sparseMatrix(dims = c(0, 0), i = integer(0), j = integer(0), :\n",
      "\"'giveCsparse' has been deprecated; setting 'repr = \"T\"' for you\"\n",
      "Warning message in Matrix::sparseMatrix(dims = c(0, 0), i = integer(0), j = integer(0), :\n",
      "\"'giveCsparse' has been deprecated; setting 'repr = \"T\"' for you\"\n"
     ]
    },
    {
     "data": {
      "text/html": [
       "<table class=\"dataframe\">\n",
       "<caption>A anova: 2 × 8</caption>\n",
       "<thead>\n",
       "\t<tr><th></th><th scope=col>Df</th><th scope=col>AIC</th><th scope=col>BIC</th><th scope=col>logLik</th><th scope=col>deviance</th><th scope=col>Chisq</th><th scope=col>Chi Df</th><th scope=col>Pr(&gt;Chisq)</th></tr>\n",
       "\t<tr><th></th><th scope=col>&lt;dbl&gt;</th><th scope=col>&lt;dbl&gt;</th><th scope=col>&lt;dbl&gt;</th><th scope=col>&lt;dbl&gt;</th><th scope=col>&lt;dbl&gt;</th><th scope=col>&lt;dbl&gt;</th><th scope=col>&lt;dbl&gt;</th><th scope=col>&lt;dbl&gt;</th></tr>\n",
       "</thead>\n",
       "<tbody>\n",
       "\t<tr><th scope=row>fit_nopenid</th><td>8</td><td>1869.379</td><td>1918.715</td><td>-926.6894</td><td>1853.379</td><td>NA</td><td>NA</td><td>NA</td></tr>\n",
       "\t<tr><th scope=row>fit_penid</th><td>9</td><td>1871.379</td><td>1926.882</td><td>-926.6894</td><td>1853.379</td><td> 0</td><td> 1</td><td> 1</td></tr>\n",
       "</tbody>\n",
       "</table>\n"
      ],
      "text/latex": [
       "A anova: 2 × 8\n",
       "\\begin{tabular}{r|llllllll}\n",
       "  & Df & AIC & BIC & logLik & deviance & Chisq & Chi Df & Pr(>Chisq)\\\\\n",
       "  & <dbl> & <dbl> & <dbl> & <dbl> & <dbl> & <dbl> & <dbl> & <dbl>\\\\\n",
       "\\hline\n",
       "\tfit\\_nopenid & 8 & 1869.379 & 1918.715 & -926.6894 & 1853.379 & NA & NA & NA\\\\\n",
       "\tfit\\_penid & 9 & 1871.379 & 1926.882 & -926.6894 & 1853.379 &  0 &  1 &  1\\\\\n",
       "\\end{tabular}\n"
      ],
      "text/markdown": [
       "\n",
       "A anova: 2 × 8\n",
       "\n",
       "| <!--/--> | Df &lt;dbl&gt; | AIC &lt;dbl&gt; | BIC &lt;dbl&gt; | logLik &lt;dbl&gt; | deviance &lt;dbl&gt; | Chisq &lt;dbl&gt; | Chi Df &lt;dbl&gt; | Pr(&gt;Chisq) &lt;dbl&gt; |\n",
       "|---|---|---|---|---|---|---|---|---|\n",
       "| fit_nopenid | 8 | 1869.379 | 1918.715 | -926.6894 | 1853.379 | NA | NA | NA |\n",
       "| fit_penid | 9 | 1871.379 | 1926.882 | -926.6894 | 1853.379 |  0 |  1 |  1 |\n",
       "\n"
      ],
      "text/plain": [
       "            Df AIC      BIC      logLik    deviance Chisq Chi Df Pr(>Chisq)\n",
       "fit_nopenid 8  1869.379 1918.715 -926.6894 1853.379 NA    NA     NA        \n",
       "fit_penid   9  1871.379 1926.882 -926.6894 1853.379  0     1      1        "
      ]
     },
     "metadata": {},
     "output_type": "display_data"
    },
    {
     "data": {
      "text/plain": [
       " Family: binomial  ( logit )\n",
       "Formula:          \n",
       "stayedin_Z5 ~ CLASS + Treatment + rescale(DIB) + rescale(weight_interp) +  \n",
       "    rescale(nbr_h_per_day) + (1 | HenID)\n",
       "Data: df__\n",
       "\n",
       "     AIC      BIC   logLik deviance df.resid \n",
       "  1869.4   1918.7   -926.7   1853.4     3515 \n",
       "\n",
       "Random effects:\n",
       "\n",
       "Conditional model:\n",
       " Groups Name        Variance Std.Dev.\n",
       " HenID  (Intercept) 4.374    2.091   \n",
       "Number of obs: 3523, groups:  HenID, 140\n",
       "\n",
       "Conditional model:\n",
       "                       Estimate Std. Error z value Pr(>|z|)    \n",
       "(Intercept)            -4.35519    0.41757 -10.430  < 2e-16 ***\n",
       "CLASSLEXP               0.19643    0.52716   0.373 0.709428    \n",
       "CLASSMEXP              -0.36949    0.50951  -0.725 0.468331    \n",
       "TreatmentOFH            1.49051    0.43253   3.446 0.000569 ***\n",
       "rescale(DIB)           -1.33792    0.75518  -1.772 0.076452 .  \n",
       "rescale(weight_interp) -0.65868    0.61051  -1.079 0.280631    \n",
       "rescale(nbr_h_per_day) -0.06587    0.57694  -0.114 0.909102    \n",
       "---\n",
       "Signif. codes:  0 '***' 0.001 '**' 0.01 '*' 0.05 '.' 0.1 ' ' 1"
      ]
     },
     "metadata": {},
     "output_type": "display_data"
    },
    {
     "name": "stderr",
     "output_type": "stream",
     "text": [
      "Warning message in Matrix::sparseMatrix(dims = c(0, 0), i = integer(0), j = integer(0), :\n",
      "\"'giveCsparse' has been deprecated; setting 'repr = \"T\"' for you\"\n",
      "Warning message in Matrix::sparseMatrix(dims = c(0, 0), i = integer(0), j = integer(0), :\n",
      "\"'giveCsparse' has been deprecated; setting 'repr = \"T\"' for you\"\n",
      "Warning message in Matrix::sparseMatrix(dims = c(0, 0), i = integer(0), j = integer(0), :\n",
      "\"'giveCsparse' has been deprecated; setting 'repr = \"T\"' for you\"\n",
      "Warning message in Matrix::sparseMatrix(dims = c(0, 0), i = integer(0), j = integer(0), :\n",
      "\"'giveCsparse' has been deprecated; setting 'repr = \"T\"' for you\"\n",
      "Warning message in Matrix::sparseMatrix(dims = c(0, 0), i = integer(0), j = integer(0), :\n",
      "\"'giveCsparse' has been deprecated; setting 'repr = \"T\"' for you\"\n",
      "Warning message in Matrix::sparseMatrix(dims = c(0, 0), i = integer(0), j = integer(0), :\n",
      "\"'giveCsparse' has been deprecated; setting 'repr = \"T\"' for you\"\n"
     ]
    },
    {
     "data": {
      "image/png": "[encoded data removed]",
      "text/plain": [
       "Plot with title \"Residual vs. predicted\""
      ]
     },
     "metadata": {
      "image/png": {
       "height": 420,
       "width": 420
      }
     },
     "output_type": "display_data"
    },
    {
     "data": {
      "image/png": "[encoded data removed]",
      "text/plain": [
       "plot without title"
      ]
     },
     "metadata": {
      "image/png": {
       "height": 420,
       "width": 420
      }
     },
     "output_type": "display_data"
    }
   ],
   "source": [
    "#small check with binary if results are sensitive to binomial dsitrb. NOP :)\n",
    "df$stayedin_Z5 = as.integer(df$propindoor_duration_5_Zone_rs==0.99)\n",
    "head(df,3)\n",
    "df_ = df\n",
    "dim(df_)\n",
    "df__ = df_[df_$monthILB=='month1',]\n",
    "#drop factors not existing in this subdataframe\n",
    "df__$HenID = factor(df__$HenID) \n",
    "df__$PenID = factor(df__$PenID)\n",
    "df__$CLASS = factor(df__$CLASS) \n",
    "dim(df__[df__$stayedin_Z5==1,])\n",
    "fit_nopenid = glmmTMB(stayedin_Z5 ~  CLASS+ Treatment + rescale(DIB) + rescale(weight_interp)+ rescale(nbr_h_per_day)+(1|HenID), \n",
    "           data=df__, family=binomial)\n",
    "fit_penid = glmmTMB(stayedin_Z5 ~  CLASS+ Treatment + rescale(DIB) + rescale(weight_interp)+ rescale(nbr_h_per_day)+(1|PenID/HenID), \n",
    "           data=df__, family=binomial)\n",
    "anova(fit_nopenid,fit_penid)\n",
    "set.seed(0)\n",
    "summary(fit_nopenid)\n",
    "simulationOutput = simulateResiduals(fittedModel=fit_nopenid)\n",
    "plot(simulationOutput)\n",
    "plotResiduals(simulationOutput, form = df__$Treatment)"
   ]
  },
  {
   "cell_type": "markdown",
   "id": "d900f3b9",
   "metadata": {},
   "source": [
    "# mid_cum_Z4_h_Morning"
   ]
  },
  {
   "cell_type": "code",
   "execution_count": 10,
   "id": "76bfddd1",
   "metadata": {
    "scrolled": true
   },
   "outputs": [
    {
     "data": {
      "text/html": [
       "<style>\n",
       ".list-inline {list-style: none; margin:0; padding: 0}\n",
       ".list-inline>li {display: inline-block}\n",
       ".list-inline>li:not(:last-child)::after {content: \"\\00b7\"; padding: 0 .5ex}\n",
       "</style>\n",
       "<ol class=list-inline><li>37455</li><li>36</li></ol>\n"
      ],
      "text/latex": [
       "\\begin{enumerate*}\n",
       "\\item 37455\n",
       "\\item 36\n",
       "\\end{enumerate*}\n"
      ],
      "text/markdown": [
       "1. 37455\n",
       "2. 36\n",
       "\n",
       "\n"
      ],
      "text/plain": [
       "[1] 37455    36"
      ]
     },
     "metadata": {},
     "output_type": "display_data"
    },
    {
     "data": {
      "text/html": [
       "<style>\n",
       ".list-inline {list-style: none; margin:0; padding: 0}\n",
       ".list-inline>li {display: inline-block}\n",
       ".list-inline>li:not(:last-child)::after {content: \"\\00b7\"; padding: 0 .5ex}\n",
       "</style>\n",
       "<ol class=list-inline><li>33711</li><li>36</li></ol>\n"
      ],
      "text/latex": [
       "\\begin{enumerate*}\n",
       "\\item 33711\n",
       "\\item 36\n",
       "\\end{enumerate*}\n"
      ],
      "text/markdown": [
       "1. 33711\n",
       "2. 36\n",
       "\n",
       "\n"
      ],
      "text/plain": [
       "[1] 33711    36"
      ]
     },
     "metadata": {},
     "output_type": "display_data"
    },
    {
     "name": "stdout",
     "output_type": "stream",
     "text": [
      "[1] \"month2\"\n"
     ]
    },
    {
     "name": "stderr",
     "output_type": "stream",
     "text": [
      "Warning message in Matrix::sparseMatrix(dims = c(0, 0), i = integer(0), j = integer(0), :\n",
      "\"'giveCsparse' has been deprecated; setting 'repr = \"T\"' for you\"\n",
      "Warning message in Matrix::sparseMatrix(dims = c(0, 0), i = integer(0), j = integer(0), :\n",
      "\"'giveCsparse' has been deprecated; setting 'repr = \"T\"' for you\"\n",
      "Warning message in Matrix::sparseMatrix(dims = c(0, 0), i = integer(0), j = integer(0), :\n",
      "\"'giveCsparse' has been deprecated; setting 'repr = \"T\"' for you\"\n",
      "Warning message in Matrix::sparseMatrix(dims = c(0, 0), i = integer(0), j = integer(0), :\n",
      "\"'giveCsparse' has been deprecated; setting 'repr = \"T\"' for you\"\n",
      "Warning message in Matrix::sparseMatrix(dims = c(0, 0), i = integer(0), j = integer(0), :\n",
      "\"'giveCsparse' has been deprecated; setting 'repr = \"T\"' for you\"\n",
      "Warning message in Matrix::sparseMatrix(dims = c(0, 0), i = integer(0), j = integer(0), :\n",
      "\"'giveCsparse' has been deprecated; setting 'repr = \"T\"' for you\"\n"
     ]
    },
    {
     "name": "stdout",
     "output_type": "stream",
     "text": [
      "Data: df__\n",
      "Models:\n",
      "fit_nopenid: mid_cum_Z4_h_Morning ~ CLASS + Treatment + rescale(DIB) + rescale(weight_interp) + , zi=~0, disp=~1\n",
      "fit_nopenid:     rescale(nbr_h_per_day) + (1 | HenID), zi=~0, disp=~1\n",
      "fit_penid: mid_cum_Z4_h_Morning ~ CLASS + Treatment + rescale(DIB) + rescale(weight_interp) + , zi=~0, disp=~1\n",
      "fit_penid:     rescale(nbr_h_per_day) + (1 | PenID/HenID), zi=~0, disp=~1\n",
      "            Df   AIC   BIC  logLik deviance Chisq Chi Df Pr(>Chisq)\n",
      "fit_nopenid  9 10117 10174 -5049.7    10099                        \n",
      "fit_penid   10 10119 10182 -5049.7    10099     0      1          1\n"
     ]
    },
    {
     "name": "stderr",
     "output_type": "stream",
     "text": [
      "Warning message:\n",
      "\"Bootstrapping only returns fixed effects of the mixed model.\"\n",
      "Warning message in Matrix::sparseMatrix(dims = c(0, 0), i = integer(0), j = integer(0), :\n",
      "\"'giveCsparse' has been deprecated; setting 'repr = \"T\"' for you\"\n",
      "Warning message in Matrix::sparseMatrix(dims = c(0, 0), i = integer(0), j = integer(0), :\n",
      "\"'giveCsparse' has been deprecated; setting 'repr = \"T\"' for you\"\n",
      "Warning message in Matrix::sparseMatrix(dims = c(0, 0), i = integer(0), j = integer(0), :\n",
      "\"'giveCsparse' has been deprecated; setting 'repr = \"T\"' for you\"\n",
      "Warning message in Matrix::sparseMatrix(dims = c(0, 0), i = integer(0), j = integer(0), :\n",
      "\"'giveCsparse' has been deprecated; setting 'repr = \"T\"' for you\"\n",
      "Warning message in Matrix::sparseMatrix(dims = c(0, 0), i = integer(0), j = integer(0), :\n",
      "\"'giveCsparse' has been deprecated; setting 'repr = \"T\"' for you\"\n",
      "Warning message in Matrix::sparseMatrix(dims = c(0, 0), i = integer(0), j = integer(0), :\n",
      "\"'giveCsparse' has been deprecated; setting 'repr = \"T\"' for you\"\n"
     ]
    },
    {
     "name": "stdout",
     "output_type": "stream",
     "text": [
      "NULL\n",
      "NULL\n",
      "[1] \"month3\"\n"
     ]
    },
    {
     "name": "stderr",
     "output_type": "stream",
     "text": [
      "Warning message in Matrix::sparseMatrix(dims = c(0, 0), i = integer(0), j = integer(0), :\n",
      "\"'giveCsparse' has been deprecated; setting 'repr = \"T\"' for you\"\n",
      "Warning message in Matrix::sparseMatrix(dims = c(0, 0), i = integer(0), j = integer(0), :\n",
      "\"'giveCsparse' has been deprecated; setting 'repr = \"T\"' for you\"\n",
      "Warning message in Matrix::sparseMatrix(dims = c(0, 0), i = integer(0), j = integer(0), :\n",
      "\"'giveCsparse' has been deprecated; setting 'repr = \"T\"' for you\"\n",
      "Warning message in Matrix::sparseMatrix(dims = c(0, 0), i = integer(0), j = integer(0), :\n",
      "\"'giveCsparse' has been deprecated; setting 'repr = \"T\"' for you\"\n",
      "Warning message in Matrix::sparseMatrix(dims = c(0, 0), i = integer(0), j = integer(0), :\n",
      "\"'giveCsparse' has been deprecated; setting 'repr = \"T\"' for you\"\n",
      "Warning message in Matrix::sparseMatrix(dims = c(0, 0), i = integer(0), j = integer(0), :\n",
      "\"'giveCsparse' has been deprecated; setting 'repr = \"T\"' for you\"\n"
     ]
    },
    {
     "name": "stdout",
     "output_type": "stream",
     "text": [
      "Data: df__\n",
      "Models:\n",
      "fit_nopenid: mid_cum_Z4_h_Morning ~ CLASS + Treatment + rescale(DIB) + rescale(weight_interp) + , zi=~0, disp=~1\n",
      "fit_nopenid:     rescale(KBF_interp) + (1 | HenID), zi=~0, disp=~1\n",
      "fit_penid: mid_cum_Z4_h_Morning ~ CLASS + Treatment + rescale(DIB) + rescale(weight_interp) + , zi=~0, disp=~1\n",
      "fit_penid:     rescale(KBF_interp) + (1 | PenID/HenID), zi=~0, disp=~1\n",
      "            Df    AIC    BIC  logLik deviance Chisq Chi Df Pr(>Chisq)\n",
      "fit_nopenid  9 7807.4 7865.0 -3894.7   7789.4                        \n",
      "fit_penid   10 7809.4 7873.4 -3894.7   7789.4     0      1          1\n"
     ]
    },
    {
     "name": "stderr",
     "output_type": "stream",
     "text": [
      "Warning message:\n",
      "\"Bootstrapping only returns fixed effects of the mixed model.\"\n",
      "Warning message in Matrix::sparseMatrix(dims = c(0, 0), i = integer(0), j = integer(0), :\n",
      "\"'giveCsparse' has been deprecated; setting 'repr = \"T\"' for you\"\n",
      "Warning message in Matrix::sparseMatrix(dims = c(0, 0), i = integer(0), j = integer(0), :\n",
      "\"'giveCsparse' has been deprecated; setting 'repr = \"T\"' for you\"\n",
      "Warning message in Matrix::sparseMatrix(dims = c(0, 0), i = integer(0), j = integer(0), :\n",
      "\"'giveCsparse' has been deprecated; setting 'repr = \"T\"' for you\"\n",
      "Warning message in Matrix::sparseMatrix(dims = c(0, 0), i = integer(0), j = integer(0), :\n",
      "\"'giveCsparse' has been deprecated; setting 'repr = \"T\"' for you\"\n",
      "Warning message in Matrix::sparseMatrix(dims = c(0, 0), i = integer(0), j = integer(0), :\n",
      "\"'giveCsparse' has been deprecated; setting 'repr = \"T\"' for you\"\n",
      "Warning message in Matrix::sparseMatrix(dims = c(0, 0), i = integer(0), j = integer(0), :\n",
      "\"'giveCsparse' has been deprecated; setting 'repr = \"T\"' for you\"\n"
     ]
    },
    {
     "name": "stdout",
     "output_type": "stream",
     "text": [
      "NULL\n",
      "NULL\n",
      "[1] \"month4\"\n"
     ]
    },
    {
     "name": "stderr",
     "output_type": "stream",
     "text": [
      "Warning message in Matrix::sparseMatrix(dims = c(0, 0), i = integer(0), j = integer(0), :\n",
      "\"'giveCsparse' has been deprecated; setting 'repr = \"T\"' for you\"\n",
      "Warning message in Matrix::sparseMatrix(dims = c(0, 0), i = integer(0), j = integer(0), :\n",
      "\"'giveCsparse' has been deprecated; setting 'repr = \"T\"' for you\"\n",
      "Warning message in Matrix::sparseMatrix(dims = c(0, 0), i = integer(0), j = integer(0), :\n",
      "\"'giveCsparse' has been deprecated; setting 'repr = \"T\"' for you\"\n",
      "Warning message in Matrix::sparseMatrix(dims = c(0, 0), i = integer(0), j = integer(0), :\n",
      "\"'giveCsparse' has been deprecated; setting 'repr = \"T\"' for you\"\n",
      "Warning message in Matrix::sparseMatrix(dims = c(0, 0), i = integer(0), j = integer(0), :\n",
      "\"'giveCsparse' has been deprecated; setting 'repr = \"T\"' for you\"\n",
      "Warning message in Matrix::sparseMatrix(dims = c(0, 0), i = integer(0), j = integer(0), :\n",
      "\"'giveCsparse' has been deprecated; setting 'repr = \"T\"' for you\"\n"
     ]
    },
    {
     "name": "stdout",
     "output_type": "stream",
     "text": [
      "Data: df__\n",
      "Models:\n",
      "fit_nopenid: mid_cum_Z4_h_Morning ~ CLASS + Treatment + rescale(DIB) + rescale(weight_interp) + , zi=~0, disp=~1\n",
      "fit_nopenid:     rescale(KBF_interp) + (1 | HenID), zi=~0, disp=~1\n",
      "fit_penid: mid_cum_Z4_h_Morning ~ CLASS + Treatment + rescale(DIB) + rescale(weight_interp) + , zi=~0, disp=~1\n",
      "fit_penid:     rescale(KBF_interp) + (1 | PenID/HenID), zi=~0, disp=~1\n",
      "            Df    AIC    BIC  logLik deviance Chisq Chi Df Pr(>Chisq)\n",
      "fit_nopenid  9 6984.4 7040.2 -3483.2   6966.4                        \n",
      "fit_penid   10 6986.4 7048.4 -3483.2   6966.4     0      1          1\n"
     ]
    },
    {
     "name": "stderr",
     "output_type": "stream",
     "text": [
      "Warning message:\n",
      "\"Bootstrapping only returns fixed effects of the mixed model.\"\n",
      "Warning message in Matrix::sparseMatrix(dims = c(0, 0), i = integer(0), j = integer(0), :\n",
      "\"'giveCsparse' has been deprecated; setting 'repr = \"T\"' for you\"\n",
      "Warning message in Matrix::sparseMatrix(dims = c(0, 0), i = integer(0), j = integer(0), :\n",
      "\"'giveCsparse' has been deprecated; setting 'repr = \"T\"' for you\"\n",
      "Warning message in Matrix::sparseMatrix(dims = c(0, 0), i = integer(0), j = integer(0), :\n",
      "\"'giveCsparse' has been deprecated; setting 'repr = \"T\"' for you\"\n",
      "Warning message in Matrix::sparseMatrix(dims = c(0, 0), i = integer(0), j = integer(0), :\n",
      "\"'giveCsparse' has been deprecated; setting 'repr = \"T\"' for you\"\n",
      "Warning message in Matrix::sparseMatrix(dims = c(0, 0), i = integer(0), j = integer(0), :\n",
      "\"'giveCsparse' has been deprecated; setting 'repr = \"T\"' for you\"\n",
      "Warning message in Matrix::sparseMatrix(dims = c(0, 0), i = integer(0), j = integer(0), :\n",
      "\"'giveCsparse' has been deprecated; setting 'repr = \"T\"' for you\"\n"
     ]
    },
    {
     "name": "stdout",
     "output_type": "stream",
     "text": [
      "NULL\n",
      "NULL\n",
      "[1] \"month5\"\n"
     ]
    },
    {
     "name": "stderr",
     "output_type": "stream",
     "text": [
      "Warning message in Matrix::sparseMatrix(dims = c(0, 0), i = integer(0), j = integer(0), :\n",
      "\"'giveCsparse' has been deprecated; setting 'repr = \"T\"' for you\"\n",
      "Warning message in Matrix::sparseMatrix(dims = c(0, 0), i = integer(0), j = integer(0), :\n",
      "\"'giveCsparse' has been deprecated; setting 'repr = \"T\"' for you\"\n",
      "Warning message in Matrix::sparseMatrix(dims = c(0, 0), i = integer(0), j = integer(0), :\n",
      "\"'giveCsparse' has been deprecated; setting 'repr = \"T\"' for you\"\n",
      "Warning message in Matrix::sparseMatrix(dims = c(0, 0), i = integer(0), j = integer(0), :\n",
      "\"'giveCsparse' has been deprecated; setting 'repr = \"T\"' for you\"\n",
      "Warning message in Matrix::sparseMatrix(dims = c(0, 0), i = integer(0), j = integer(0), :\n",
      "\"'giveCsparse' has been deprecated; setting 'repr = \"T\"' for you\"\n",
      "Warning message in Matrix::sparseMatrix(dims = c(0, 0), i = integer(0), j = integer(0), :\n",
      "\"'giveCsparse' has been deprecated; setting 'repr = \"T\"' for you\"\n"
     ]
    },
    {
     "name": "stdout",
     "output_type": "stream",
     "text": [
      "Data: df__\n",
      "Models:\n",
      "fit_nopenid: mid_cum_Z4_h_Morning ~ CLASS + Treatment + rescale(DIB) + rescale(weight_interp) + , zi=~0, disp=~1\n",
      "fit_nopenid:     rescale(KBF_interp) + (1 | HenID), zi=~0, disp=~1\n",
      "fit_penid: mid_cum_Z4_h_Morning ~ CLASS + Treatment + rescale(DIB) + rescale(weight_interp) + , zi=~0, disp=~1\n",
      "fit_penid:     rescale(KBF_interp) + (1 | PenID/HenID), zi=~0, disp=~1\n",
      "            Df    AIC    BIC  logLik deviance  Chisq Chi Df Pr(>Chisq)\n",
      "fit_nopenid  9 6311.4 6367.7 -3146.7   6293.4                         \n",
      "fit_penid   10 6313.1 6375.7 -3146.6   6293.1 0.2474      1     0.6189\n"
     ]
    },
    {
     "name": "stderr",
     "output_type": "stream",
     "text": [
      "Warning message:\n",
      "\"Bootstrapping only returns fixed effects of the mixed model.\"\n",
      "Warning message in Matrix::sparseMatrix(dims = c(0, 0), i = integer(0), j = integer(0), :\n",
      "\"'giveCsparse' has been deprecated; setting 'repr = \"T\"' for you\"\n",
      "Warning message in Matrix::sparseMatrix(dims = c(0, 0), i = integer(0), j = integer(0), :\n",
      "\"'giveCsparse' has been deprecated; setting 'repr = \"T\"' for you\"\n",
      "Warning message in Matrix::sparseMatrix(dims = c(0, 0), i = integer(0), j = integer(0), :\n",
      "\"'giveCsparse' has been deprecated; setting 'repr = \"T\"' for you\"\n",
      "Warning message in Matrix::sparseMatrix(dims = c(0, 0), i = integer(0), j = integer(0), :\n",
      "\"'giveCsparse' has been deprecated; setting 'repr = \"T\"' for you\"\n",
      "Warning message in Matrix::sparseMatrix(dims = c(0, 0), i = integer(0), j = integer(0), :\n",
      "\"'giveCsparse' has been deprecated; setting 'repr = \"T\"' for you\"\n",
      "Warning message in Matrix::sparseMatrix(dims = c(0, 0), i = integer(0), j = integer(0), :\n",
      "\"'giveCsparse' has been deprecated; setting 'repr = \"T\"' for you\"\n"
     ]
    },
    {
     "name": "stdout",
     "output_type": "stream",
     "text": [
      "NULL\n",
      "NULL\n",
      "[1] \"month6\"\n"
     ]
    },
    {
     "name": "stderr",
     "output_type": "stream",
     "text": [
      "Warning message in Matrix::sparseMatrix(dims = c(0, 0), i = integer(0), j = integer(0), :\n",
      "\"'giveCsparse' has been deprecated; setting 'repr = \"T\"' for you\"\n",
      "Warning message in Matrix::sparseMatrix(dims = c(0, 0), i = integer(0), j = integer(0), :\n",
      "\"'giveCsparse' has been deprecated; setting 'repr = \"T\"' for you\"\n",
      "Warning message in Matrix::sparseMatrix(dims = c(0, 0), i = integer(0), j = integer(0), :\n",
      "\"'giveCsparse' has been deprecated; setting 'repr = \"T\"' for you\"\n",
      "Warning message in Matrix::sparseMatrix(dims = c(0, 0), i = integer(0), j = integer(0), :\n",
      "\"'giveCsparse' has been deprecated; setting 'repr = \"T\"' for you\"\n",
      "Warning message in Matrix::sparseMatrix(dims = c(0, 0), i = integer(0), j = integer(0), :\n",
      "\"'giveCsparse' has been deprecated; setting 'repr = \"T\"' for you\"\n",
      "Warning message in Matrix::sparseMatrix(dims = c(0, 0), i = integer(0), j = integer(0), :\n",
      "\"'giveCsparse' has been deprecated; setting 'repr = \"T\"' for you\"\n"
     ]
    },
    {
     "name": "stdout",
     "output_type": "stream",
     "text": [
      "Data: df__\n",
      "Models:\n",
      "fit_nopenid: mid_cum_Z4_h_Morning ~ CLASS + Treatment + rescale(DIB) + rescale(weight_interp) + , zi=~0, disp=~1\n",
      "fit_nopenid:     rescale(KBF_interp) + (1 | HenID), zi=~0, disp=~1\n",
      "fit_penid: mid_cum_Z4_h_Morning ~ CLASS + Treatment + rescale(DIB) + rescale(weight_interp) + , zi=~0, disp=~1\n",
      "fit_penid:     rescale(KBF_interp) + (1 | PenID/HenID), zi=~0, disp=~1\n",
      "            Df    AIC    BIC  logLik deviance Chisq Chi Df Pr(>Chisq)\n",
      "fit_nopenid  9 8075.9 8133.0 -4028.9   8057.9                        \n",
      "fit_penid   10 8077.9 8141.3 -4028.9   8057.9     0      1          1\n"
     ]
    },
    {
     "name": "stderr",
     "output_type": "stream",
     "text": [
      "Warning message:\n",
      "\"Bootstrapping only returns fixed effects of the mixed model.\"\n",
      "Warning message in Matrix::sparseMatrix(dims = c(0, 0), i = integer(0), j = integer(0), :\n",
      "\"'giveCsparse' has been deprecated; setting 'repr = \"T\"' for you\"\n",
      "Warning message in Matrix::sparseMatrix(dims = c(0, 0), i = integer(0), j = integer(0), :\n",
      "\"'giveCsparse' has been deprecated; setting 'repr = \"T\"' for you\"\n",
      "Warning message in Matrix::sparseMatrix(dims = c(0, 0), i = integer(0), j = integer(0), :\n",
      "\"'giveCsparse' has been deprecated; setting 'repr = \"T\"' for you\"\n",
      "Warning message in Matrix::sparseMatrix(dims = c(0, 0), i = integer(0), j = integer(0), :\n",
      "\"'giveCsparse' has been deprecated; setting 'repr = \"T\"' for you\"\n",
      "Warning message in Matrix::sparseMatrix(dims = c(0, 0), i = integer(0), j = integer(0), :\n",
      "\"'giveCsparse' has been deprecated; setting 'repr = \"T\"' for you\"\n",
      "Warning message in Matrix::sparseMatrix(dims = c(0, 0), i = integer(0), j = integer(0), :\n",
      "\"'giveCsparse' has been deprecated; setting 'repr = \"T\"' for you\"\n"
     ]
    },
    {
     "name": "stdout",
     "output_type": "stream",
     "text": [
      "NULL\n",
      "NULL\n",
      "[1] \"month7\"\n"
     ]
    },
    {
     "name": "stderr",
     "output_type": "stream",
     "text": [
      "Warning message in Matrix::sparseMatrix(dims = c(0, 0), i = integer(0), j = integer(0), :\n",
      "\"'giveCsparse' has been deprecated; setting 'repr = \"T\"' for you\"\n",
      "Warning message in Matrix::sparseMatrix(dims = c(0, 0), i = integer(0), j = integer(0), :\n",
      "\"'giveCsparse' has been deprecated; setting 'repr = \"T\"' for you\"\n",
      "Warning message in Matrix::sparseMatrix(dims = c(0, 0), i = integer(0), j = integer(0), :\n",
      "\"'giveCsparse' has been deprecated; setting 'repr = \"T\"' for you\"\n",
      "Warning message in Matrix::sparseMatrix(dims = c(0, 0), i = integer(0), j = integer(0), :\n",
      "\"'giveCsparse' has been deprecated; setting 'repr = \"T\"' for you\"\n",
      "Warning message in Matrix::sparseMatrix(dims = c(0, 0), i = integer(0), j = integer(0), :\n",
      "\"'giveCsparse' has been deprecated; setting 'repr = \"T\"' for you\"\n",
      "Warning message in Matrix::sparseMatrix(dims = c(0, 0), i = integer(0), j = integer(0), :\n",
      "\"'giveCsparse' has been deprecated; setting 'repr = \"T\"' for you\"\n"
     ]
    },
    {
     "name": "stdout",
     "output_type": "stream",
     "text": [
      "Data: df__\n",
      "Models:\n",
      "fit_nopenid: mid_cum_Z4_h_Morning ~ CLASS + Treatment + rescale(DIB) + rescale(weight_interp) + , zi=~0, disp=~1\n",
      "fit_nopenid:     rescale(KBF_interp) + (1 | HenID), zi=~0, disp=~1\n",
      "fit_penid: mid_cum_Z4_h_Morning ~ CLASS + Treatment + rescale(DIB) + rescale(weight_interp) + , zi=~0, disp=~1\n",
      "fit_penid:     rescale(KBF_interp) + (1 | PenID/HenID), zi=~0, disp=~1\n",
      "            Df    AIC    BIC  logLik deviance  Chisq Chi Df Pr(>Chisq)\n",
      "fit_nopenid  9 7680.4 7737.2 -3831.2   7662.4                         \n",
      "fit_penid   10 7681.6 7744.8 -3830.8   7661.6 0.7342      1     0.3915\n"
     ]
    },
    {
     "name": "stderr",
     "output_type": "stream",
     "text": [
      "Warning message:\n",
      "\"Bootstrapping only returns fixed effects of the mixed model.\"\n",
      "Warning message in Matrix::sparseMatrix(dims = c(0, 0), i = integer(0), j = integer(0), :\n",
      "\"'giveCsparse' has been deprecated; setting 'repr = \"T\"' for you\"\n",
      "Warning message in Matrix::sparseMatrix(dims = c(0, 0), i = integer(0), j = integer(0), :\n",
      "\"'giveCsparse' has been deprecated; setting 'repr = \"T\"' for you\"\n",
      "Warning message in Matrix::sparseMatrix(dims = c(0, 0), i = integer(0), j = integer(0), :\n",
      "\"'giveCsparse' has been deprecated; setting 'repr = \"T\"' for you\"\n",
      "Warning message in Matrix::sparseMatrix(dims = c(0, 0), i = integer(0), j = integer(0), :\n",
      "\"'giveCsparse' has been deprecated; setting 'repr = \"T\"' for you\"\n",
      "Warning message in Matrix::sparseMatrix(dims = c(0, 0), i = integer(0), j = integer(0), :\n",
      "\"'giveCsparse' has been deprecated; setting 'repr = \"T\"' for you\"\n",
      "Warning message in Matrix::sparseMatrix(dims = c(0, 0), i = integer(0), j = integer(0), :\n",
      "\"'giveCsparse' has been deprecated; setting 'repr = \"T\"' for you\"\n"
     ]
    },
    {
     "name": "stdout",
     "output_type": "stream",
     "text": [
      "NULL\n",
      "NULL\n",
      "[1] \"month8\"\n"
     ]
    },
    {
     "name": "stderr",
     "output_type": "stream",
     "text": [
      "Warning message in Matrix::sparseMatrix(dims = c(0, 0), i = integer(0), j = integer(0), :\n",
      "\"'giveCsparse' has been deprecated; setting 'repr = \"T\"' for you\"\n",
      "Warning message in Matrix::sparseMatrix(dims = c(0, 0), i = integer(0), j = integer(0), :\n",
      "\"'giveCsparse' has been deprecated; setting 'repr = \"T\"' for you\"\n",
      "Warning message in Matrix::sparseMatrix(dims = c(0, 0), i = integer(0), j = integer(0), :\n",
      "\"'giveCsparse' has been deprecated; setting 'repr = \"T\"' for you\"\n",
      "Warning message in Matrix::sparseMatrix(dims = c(0, 0), i = integer(0), j = integer(0), :\n",
      "\"'giveCsparse' has been deprecated; setting 'repr = \"T\"' for you\"\n",
      "Warning message in Matrix::sparseMatrix(dims = c(0, 0), i = integer(0), j = integer(0), :\n",
      "\"'giveCsparse' has been deprecated; setting 'repr = \"T\"' for you\"\n",
      "Warning message in Matrix::sparseMatrix(dims = c(0, 0), i = integer(0), j = integer(0), :\n",
      "\"'giveCsparse' has been deprecated; setting 'repr = \"T\"' for you\"\n"
     ]
    },
    {
     "name": "stdout",
     "output_type": "stream",
     "text": [
      "Data: df__\n",
      "Models:\n",
      "fit_nopenid: mid_cum_Z4_h_Morning ~ CLASS + Treatment + rescale(DIB) + rescale(weight_interp) + , zi=~0, disp=~1\n",
      "fit_nopenid:     rescale(KBF_interp) + (1 | HenID), zi=~0, disp=~1\n",
      "fit_penid: mid_cum_Z4_h_Morning ~ CLASS + Treatment + rescale(DIB) + rescale(weight_interp) + , zi=~0, disp=~1\n",
      "fit_penid:     rescale(KBF_interp) + (1 | PenID/HenID), zi=~0, disp=~1\n",
      "            Df    AIC    BIC  logLik deviance Chisq Chi Df Pr(>Chisq)\n",
      "fit_nopenid  9 8882.3 8940.1 -4432.1   8864.3                        \n",
      "fit_penid   10 8884.3 8948.5 -4432.1   8864.3     0      1          1\n"
     ]
    },
    {
     "name": "stderr",
     "output_type": "stream",
     "text": [
      "Warning message:\n",
      "\"Bootstrapping only returns fixed effects of the mixed model.\"\n",
      "Warning message in Matrix::sparseMatrix(dims = c(0, 0), i = integer(0), j = integer(0), :\n",
      "\"'giveCsparse' has been deprecated; setting 'repr = \"T\"' for you\"\n",
      "Warning message in Matrix::sparseMatrix(dims = c(0, 0), i = integer(0), j = integer(0), :\n",
      "\"'giveCsparse' has been deprecated; setting 'repr = \"T\"' for you\"\n",
      "Warning message in Matrix::sparseMatrix(dims = c(0, 0), i = integer(0), j = integer(0), :\n",
      "\"'giveCsparse' has been deprecated; setting 'repr = \"T\"' for you\"\n",
      "Warning message in Matrix::sparseMatrix(dims = c(0, 0), i = integer(0), j = integer(0), :\n",
      "\"'giveCsparse' has been deprecated; setting 'repr = \"T\"' for you\"\n",
      "Warning message in Matrix::sparseMatrix(dims = c(0, 0), i = integer(0), j = integer(0), :\n",
      "\"'giveCsparse' has been deprecated; setting 'repr = \"T\"' for you\"\n",
      "Warning message in Matrix::sparseMatrix(dims = c(0, 0), i = integer(0), j = integer(0), :\n",
      "\"'giveCsparse' has been deprecated; setting 'repr = \"T\"' for you\"\n"
     ]
    },
    {
     "name": "stdout",
     "output_type": "stream",
     "text": [
      "NULL\n",
      "NULL\n",
      "[1] \"month9\"\n"
     ]
    },
    {
     "name": "stderr",
     "output_type": "stream",
     "text": [
      "Warning message in Matrix::sparseMatrix(dims = c(0, 0), i = integer(0), j = integer(0), :\n",
      "\"'giveCsparse' has been deprecated; setting 'repr = \"T\"' for you\"\n",
      "Warning message in Matrix::sparseMatrix(dims = c(0, 0), i = integer(0), j = integer(0), :\n",
      "\"'giveCsparse' has been deprecated; setting 'repr = \"T\"' for you\"\n",
      "Warning message in Matrix::sparseMatrix(dims = c(0, 0), i = integer(0), j = integer(0), :\n",
      "\"'giveCsparse' has been deprecated; setting 'repr = \"T\"' for you\"\n",
      "Warning message in Matrix::sparseMatrix(dims = c(0, 0), i = integer(0), j = integer(0), :\n",
      "\"'giveCsparse' has been deprecated; setting 'repr = \"T\"' for you\"\n",
      "Warning message in Matrix::sparseMatrix(dims = c(0, 0), i = integer(0), j = integer(0), :\n",
      "\"'giveCsparse' has been deprecated; setting 'repr = \"T\"' for you\"\n",
      "Warning message in Matrix::sparseMatrix(dims = c(0, 0), i = integer(0), j = integer(0), :\n",
      "\"'giveCsparse' has been deprecated; setting 'repr = \"T\"' for you\"\n"
     ]
    },
    {
     "name": "stdout",
     "output_type": "stream",
     "text": [
      "Data: df__\n",
      "Models:\n",
      "fit_nopenid: mid_cum_Z4_h_Morning ~ CLASS + Treatment + rescale(DIB) + rescale(weight_interp) + , zi=~0, disp=~1\n",
      "fit_nopenid:     rescale(KBF_interp) + (1 | HenID), zi=~0, disp=~1\n",
      "fit_penid: mid_cum_Z4_h_Morning ~ CLASS + Treatment + rescale(DIB) + rescale(weight_interp) + , zi=~0, disp=~1\n",
      "fit_penid:     rescale(KBF_interp) + (1 | PenID/HenID), zi=~0, disp=~1\n",
      "            Df    AIC    BIC  logLik deviance Chisq Chi Df Pr(>Chisq)\n",
      "fit_nopenid  9 2991.2 3040.9 -1486.6   2973.2                        \n",
      "fit_penid   10 2993.2 3048.4 -1486.6   2973.2     0      1          1\n"
     ]
    },
    {
     "name": "stderr",
     "output_type": "stream",
     "text": [
      "Warning message:\n",
      "\"Bootstrapping only returns fixed effects of the mixed model.\"\n",
      "Warning message in Matrix::sparseMatrix(dims = c(0, 0), i = integer(0), j = integer(0), :\n",
      "\"'giveCsparse' has been deprecated; setting 'repr = \"T\"' for you\"\n",
      "Warning message in Matrix::sparseMatrix(dims = c(0, 0), i = integer(0), j = integer(0), :\n",
      "\"'giveCsparse' has been deprecated; setting 'repr = \"T\"' for you\"\n",
      "Warning message in Matrix::sparseMatrix(dims = c(0, 0), i = integer(0), j = integer(0), :\n",
      "\"'giveCsparse' has been deprecated; setting 'repr = \"T\"' for you\"\n",
      "Warning message in Matrix::sparseMatrix(dims = c(0, 0), i = integer(0), j = integer(0), :\n",
      "\"'giveCsparse' has been deprecated; setting 'repr = \"T\"' for you\"\n",
      "Warning message in Matrix::sparseMatrix(dims = c(0, 0), i = integer(0), j = integer(0), :\n",
      "\"'giveCsparse' has been deprecated; setting 'repr = \"T\"' for you\"\n",
      "Warning message in Matrix::sparseMatrix(dims = c(0, 0), i = integer(0), j = integer(0), :\n",
      "\"'giveCsparse' has been deprecated; setting 'repr = \"T\"' for you\"\n"
     ]
    },
    {
     "name": "stdout",
     "output_type": "stream",
     "text": [
      "NULL\n",
      "NULL\n",
      "[1] \"month10\"\n"
     ]
    },
    {
     "name": "stderr",
     "output_type": "stream",
     "text": [
      "Warning message in Matrix::sparseMatrix(dims = c(0, 0), i = integer(0), j = integer(0), :\n",
      "\"'giveCsparse' has been deprecated; setting 'repr = \"T\"' for you\"\n",
      "Warning message in Matrix::sparseMatrix(dims = c(0, 0), i = integer(0), j = integer(0), :\n",
      "\"'giveCsparse' has been deprecated; setting 'repr = \"T\"' for you\"\n",
      "Warning message in Matrix::sparseMatrix(dims = c(0, 0), i = integer(0), j = integer(0), :\n",
      "\"'giveCsparse' has been deprecated; setting 'repr = \"T\"' for you\"\n",
      "Warning message in Matrix::sparseMatrix(dims = c(0, 0), i = integer(0), j = integer(0), :\n",
      "\"'giveCsparse' has been deprecated; setting 'repr = \"T\"' for you\"\n",
      "Warning message in Matrix::sparseMatrix(dims = c(0, 0), i = integer(0), j = integer(0), :\n",
      "\"'giveCsparse' has been deprecated; setting 'repr = \"T\"' for you\"\n",
      "Warning message in Matrix::sparseMatrix(dims = c(0, 0), i = integer(0), j = integer(0), :\n",
      "\"'giveCsparse' has been deprecated; setting 'repr = \"T\"' for you\"\n"
     ]
    },
    {
     "name": "stdout",
     "output_type": "stream",
     "text": [
      "Data: df__\n",
      "Models:\n",
      "fit_nopenid: mid_cum_Z4_h_Morning ~ CLASS + Treatment + rescale(DIB) + rescale(weight_interp) + , zi=~0, disp=~1\n",
      "fit_nopenid:     rescale(KBF_interp) + (1 | HenID), zi=~0, disp=~1\n",
      "fit_penid: mid_cum_Z4_h_Morning ~ CLASS + Treatment + rescale(DIB) + rescale(weight_interp) + , zi=~0, disp=~1\n",
      "fit_penid:     rescale(KBF_interp) + (1 | PenID/HenID), zi=~0, disp=~1\n",
      "            Df    AIC    BIC  logLik deviance Chisq Chi Df Pr(>Chisq)\n",
      "fit_nopenid  9 7378.7 7433.1 -3680.3   7360.7                        \n",
      "fit_penid   10 7380.7 7441.1 -3680.3   7360.7     0      1          1\n"
     ]
    },
    {
     "name": "stderr",
     "output_type": "stream",
     "text": [
      "Warning message:\n",
      "\"Bootstrapping only returns fixed effects of the mixed model.\"\n",
      "Warning message in Matrix::sparseMatrix(dims = c(0, 0), i = integer(0), j = integer(0), :\n",
      "\"'giveCsparse' has been deprecated; setting 'repr = \"T\"' for you\"\n",
      "Warning message in Matrix::sparseMatrix(dims = c(0, 0), i = integer(0), j = integer(0), :\n",
      "\"'giveCsparse' has been deprecated; setting 'repr = \"T\"' for you\"\n",
      "Warning message in Matrix::sparseMatrix(dims = c(0, 0), i = integer(0), j = integer(0), :\n",
      "\"'giveCsparse' has been deprecated; setting 'repr = \"T\"' for you\"\n",
      "Warning message in Matrix::sparseMatrix(dims = c(0, 0), i = integer(0), j = integer(0), :\n",
      "\"'giveCsparse' has been deprecated; setting 'repr = \"T\"' for you\"\n",
      "Warning message in Matrix::sparseMatrix(dims = c(0, 0), i = integer(0), j = integer(0), :\n",
      "\"'giveCsparse' has been deprecated; setting 'repr = \"T\"' for you\"\n",
      "Warning message in Matrix::sparseMatrix(dims = c(0, 0), i = integer(0), j = integer(0), :\n",
      "\"'giveCsparse' has been deprecated; setting 'repr = \"T\"' for you\"\n"
     ]
    },
    {
     "name": "stdout",
     "output_type": "stream",
     "text": [
      "NULL\n",
      "NULL\n"
     ]
    },
    {
     "name": "stderr",
     "output_type": "stream",
     "text": [
      "Warning message in confint.glmmTMB(x, method = tolower(conf.method), level = conf.level, :\n",
      "\"extra arguments ignored:  intervals, prob\"\n",
      "Warning message in confint.glmmTMB(x, parm = thpar, method = conf.method, level = conf.level, :\n",
      "\"extra arguments ignored:  intervals, prob\"\n",
      "Warning message in confint.glmmTMB(x, method = tolower(conf.method), level = conf.level, :\n",
      "\"extra arguments ignored:  intervals, prob\"\n",
      "Warning message in confint.glmmTMB(x, parm = thpar, method = conf.method, level = conf.level, :\n",
      "\"extra arguments ignored:  intervals, prob\"\n",
      "Warning message in confint.glmmTMB(x, method = tolower(conf.method), level = conf.level, :\n",
      "\"extra arguments ignored:  intervals, prob\"\n",
      "Warning message in confint.glmmTMB(x, parm = thpar, method = conf.method, level = conf.level, :\n",
      "\"extra arguments ignored:  intervals, prob\"\n",
      "Warning message in confint.glmmTMB(x, method = tolower(conf.method), level = conf.level, :\n",
      "\"extra arguments ignored:  intervals, prob\"\n",
      "Warning message in confint.glmmTMB(x, parm = thpar, method = conf.method, level = conf.level, :\n",
      "\"extra arguments ignored:  intervals, prob\"\n",
      "Warning message in confint.glmmTMB(x, method = tolower(conf.method), level = conf.level, :\n",
      "\"extra arguments ignored:  intervals, prob\"\n",
      "Warning message in confint.glmmTMB(x, parm = thpar, method = conf.method, level = conf.level, :\n",
      "\"extra arguments ignored:  intervals, prob\"\n",
      "Warning message in confint.glmmTMB(x, method = tolower(conf.method), level = conf.level, :\n",
      "\"extra arguments ignored:  intervals, prob\"\n",
      "Warning message in confint.glmmTMB(x, parm = thpar, method = conf.method, level = conf.level, :\n",
      "\"extra arguments ignored:  intervals, prob\"\n",
      "Warning message in confint.glmmTMB(x, method = tolower(conf.method), level = conf.level, :\n",
      "\"extra arguments ignored:  intervals, prob\"\n",
      "Warning message in confint.glmmTMB(x, parm = thpar, method = conf.method, level = conf.level, :\n",
      "\"extra arguments ignored:  intervals, prob\"\n",
      "Warning message in confint.glmmTMB(x, method = tolower(conf.method), level = conf.level, :\n",
      "\"extra arguments ignored:  intervals, prob\"\n",
      "Warning message in confint.glmmTMB(x, parm = thpar, method = conf.method, level = conf.level, :\n",
      "\"extra arguments ignored:  intervals, prob\"\n",
      "Warning message in confint.glmmTMB(x, method = tolower(conf.method), level = conf.level, :\n",
      "\"extra arguments ignored:  intervals, prob\"\n",
      "Warning message in confint.glmmTMB(x, parm = thpar, method = conf.method, level = conf.level, :\n",
      "\"extra arguments ignored:  intervals, prob\"\n",
      "Warning message in confint.glmmTMB(x, method = tolower(conf.method), level = conf.level, :\n",
      "\"extra arguments ignored:  intervals, prob\"\n",
      "Warning message in confint.glmmTMB(x, parm = thpar, method = conf.method, level = conf.level, :\n",
      "\"extra arguments ignored:  intervals, prob\"\n"
     ]
    },
    {
     "data": {
      "text/html": [
       "<strong>png:</strong> 2"
      ],
      "text/latex": [
       "\\textbf{png:} 2"
      ],
      "text/markdown": [
       "**png:** 2"
      ],
      "text/plain": [
       "png \n",
       "  2 "
      ]
     },
     "metadata": {},
     "output_type": "display_data"
    },
    {
     "name": "stderr",
     "output_type": "stream",
     "text": [
      "Warning message:\n",
      "\"Following potential variables could not be found in the data: DIB ,weight_interp\n",
      "  ,nbr_h_per_day\"\n",
      "Warning message:\n",
      "\"Following potential variables could not be found in the data: DIB ,weight_interp\n",
      "  ,KBF_interp\"\n",
      "Warning message:\n",
      "\"Following potential variables could not be found in the data: DIB ,weight_interp\n",
      "  ,KBF_interp\"\n",
      "Warning message:\n",
      "\"Following potential variables could not be found in the data: DIB ,weight_interp\n",
      "  ,KBF_interp\"\n",
      "Warning message:\n",
      "\"Following potential variables could not be found in the data: DIB ,weight_interp\n",
      "  ,nbr_h_per_day\"\n",
      "Warning message:\n",
      "\"Following potential variables could not be found in the data: DIB ,weight_interp\n",
      "  ,KBF_interp\"\n",
      "Warning message:\n",
      "\"Following potential variables could not be found in the data: DIB ,weight_interp\n",
      "  ,KBF_interp\"\n",
      "Warning message:\n",
      "\"Following potential variables could not be found in the data: DIB ,weight_interp\n",
      "  ,KBF_interp\"\n",
      "Warning message:\n",
      "\"Following potential variables could not be found in the data: DIB ,weight_interp\n",
      "  ,nbr_h_per_day\"\n",
      "Warning message:\n",
      "\"Following potential variables could not be found in the data: DIB ,weight_interp\n",
      "  ,KBF_interp\"\n",
      "Warning message:\n",
      "\"Following potential variables could not be found in the data: DIB ,weight_interp\n",
      "  ,KBF_interp\"\n",
      "Warning message:\n",
      "\"Following potential variables could not be found in the data: DIB ,weight_interp\n",
      "  ,KBF_interp\"\n",
      "Warning message:\n",
      "\"Following potential variables could not be found in the data: DIB ,weight_interp\n",
      "  ,KBF_interp\"\n",
      "Warning message:\n",
      "\"Following potential variables could not be found in the data: DIB ,weight_interp\n",
      "  ,KBF_interp\"\n",
      "Warning message:\n",
      "\"Following potential variables could not be found in the data: DIB ,weight_interp\n",
      "  ,KBF_interp\"\n",
      "Warning message:\n",
      "\"Following potential variables could not be found in the data: DIB ,weight_interp\n",
      "  ,KBF_interp\"\n",
      "Warning message:\n",
      "\"Following potential variables could not be found in the data: DIB ,weight_interp\n",
      "  ,KBF_interp\"\n",
      "Warning message:\n",
      "\"Following potential variables could not be found in the data: DIB ,weight_interp\n",
      "  ,KBF_interp\"\n",
      "Warning message:\n",
      "\"Following potential variables could not be found in the data: DIB ,weight_interp\n",
      "  ,KBF_interp\"\n",
      "Warning message:\n",
      "\"Following potential variables could not be found in the data: DIB ,weight_interp\n",
      "  ,KBF_interp\"\n",
      "Warning message:\n",
      "\"Following potential variables could not be found in the data: DIB ,weight_interp\n",
      "  ,KBF_interp\"\n",
      "Warning message:\n",
      "\"Following potential variables could not be found in the data: DIB ,weight_interp\n",
      "  ,KBF_interp\"\n",
      "Warning message:\n",
      "\"Following potential variables could not be found in the data: DIB ,weight_interp\n",
      "  ,KBF_interp\"\n",
      "Warning message:\n",
      "\"Following potential variables could not be found in the data: DIB ,weight_interp\n",
      "  ,KBF_interp\"\n"
     ]
    }
   ],
   "source": [
    "var = 'mid_cum_Z4_h_Morning'\n",
    "path_visual_ = file.path(path_visual, var)\n",
    "dir.create(path_visual_)\n",
    "dim(df)\n",
    "df_ = subset(df, !is.na(mid_cum_Z4_h_Morning))\n",
    "dim(df_)\n",
    "\n",
    "li_model = list()\n",
    "for (i in 2:10){\n",
    "    monthILBID = paste0('month',i)\n",
    "    print(monthILBID)\n",
    "    df__ = df_[df_$monthILB==monthILBID,]\n",
    "    #drop factors not existing in this subdataframe\n",
    "    df__$HenID = factor(df__$HenID) \n",
    "    df__$PenID = factor(df__$PenID)\n",
    "    df__$CLASS = factor(df__$CLASS) \n",
    "    #monthILB1-monthILB2: no KBF but nbr_h_per_day_sc, after KBF but no nbr_h_per_day_sc\n",
    "    if (monthILBID %in% c('month1', 'month2')){\n",
    "        fit_nopenid = glmmTMB(mid_cum_Z4_h_Morning ~  CLASS+ Treatment + rescale(DIB) + rescale(weight_interp)+ rescale(nbr_h_per_day)+(1|HenID), \n",
    "                   data=df__, family=Gamma(link = \"log\"))\n",
    "        fit_penid = glmmTMB(mid_cum_Z4_h_Morning ~  CLASS+ Treatment + rescale(DIB) + rescale(weight_interp)+ rescale(nbr_h_per_day)+(1|PenID/HenID), \n",
    "                   data=df__, family=Gamma(link = \"log\"))}\n",
    "    else{\n",
    "        fit_nopenid = glmmTMB(mid_cum_Z4_h_Morning ~  CLASS + Treatment + rescale(DIB) + rescale(weight_interp)+ rescale(KBF_interp) + (1|HenID), \n",
    "                   data=df__, family=Gamma(link = \"log\"))\n",
    "        fit_penid = glmmTMB(mid_cum_Z4_h_Morning ~  CLASS + Treatment + rescale(DIB) + rescale(weight_interp)+ rescale(KBF_interp) + (1|PenID/HenID), \n",
    "                   data=df__, family=Gamma(link = \"log\"))}\n",
    "    print(anova(fit_nopenid,fit_penid))\n",
    "    p_value = anova(fit_nopenid,fit_penid)['Pr(>Chisq)']['fit_penid',]\n",
    "    if (p_value<0.05){\n",
    "        fit = fit_penid    \n",
    "    }else{\n",
    "        fit = fit_nopenid    \n",
    "    }    \n",
    "    \n",
    "    li_model[[i]] = fit\n",
    "    write.csv(summary(fit)['coefficients']$coefficients$cond, file=file.path(path_visual_, paste0(var,monthILBID,'.csv')) )\n",
    "    \n",
    "    set.seed(0)\n",
    "    \n",
    "    df_res = model_parameters(fit, bootstrap = TRUE, iterations = n_iter,effects = \"all\",exponentiate = TRUE)\n",
    "    write.csv(df_res, file=file.path(path_visual_, paste0(var, 'bootstrapPVAL',monthILBID,'.csv')) )\n",
    "\n",
    "    simulationOutput = simulateResiduals(fittedModel=fit)\n",
    "    tiff(file.path(path_visual_, paste0(var,'_SimRes1',monthILBID,'.tiff')), width=400, height=400)\n",
    "    print(plot(simulationOutput))\n",
    "    dev.off()\n",
    "    \n",
    "    tiff(file.path(path_visual_, paste0(var,'_SimRes2',monthILBID,'.tiff')), width=400, height=400)\n",
    "    print(plotResiduals(simulationOutput, form = df__$Treatment))\n",
    "    dev.off()\n",
    "    tab_model(fit, collapse.ci = TRUE, p.style = \"numeric_stars\", file=file.path(path_visual_, paste0(var,'_TableModel',monthILBID,'.doc')))\n",
    "}\n",
    "\n",
    "\n",
    "#to match the colors and modelID, put as model 1 the model2. then, we will remove it\n",
    "li_model[[1]] = li_model[[2]]\n",
    "\n",
    "tiff(file.path(path_visual_, paste0(var,'_OFHCoeff','.tiff')), width=400, height=400)\n",
    "plot_summs(li_model[1:10], coefs=c('TreatmentOFH'), colors='Rainbow', legend.title=var, exp=TRUE)\n",
    "dev.off()\n",
    "tab_model(li_model[2:5], collapse.ci = TRUE, p.style = \"numeric_stars\", file=file.path(path_visual_, paste0(var,'_TableModel2-5.doc')))\n",
    "tab_model(li_model[6:10], collapse.ci = TRUE, p.style = \"numeric_stars\", file=file.path(path_visual_, paste0(var,'_TableModel6-10.doc')))"
   ]
  },
  {
   "cell_type": "markdown",
   "id": "90bb03e7",
   "metadata": {},
   "source": [
    "# vertical_travel_distance"
   ]
  },
  {
   "cell_type": "raw",
   "id": "1ab1409e",
   "metadata": {},
   "source": [
    "\"The basic glmmTMB fit — a zero-inflated Poisson model with a single zero- inflation parameter applying to all observations (ziformula~1).\"\n",
    "--> zero-inflated Poisson model with the rescaled number of day in the barn zaro-inflation paramter."
   ]
  },
  {
   "cell_type": "code",
   "execution_count": 28,
   "id": "67841306",
   "metadata": {},
   "outputs": [
    {
     "data": {
      "text/html": [
       "<style>\n",
       ".list-inline {list-style: none; margin:0; padding: 0}\n",
       ".list-inline>li {display: inline-block}\n",
       ".list-inline>li:not(:last-child)::after {content: \"\\00b7\"; padding: 0 .5ex}\n",
       "</style>\n",
       "<ol class=list-inline><li>37455</li><li>36</li></ol>\n"
      ],
      "text/latex": [
       "\\begin{enumerate*}\n",
       "\\item 37455\n",
       "\\item 36\n",
       "\\end{enumerate*}\n"
      ],
      "text/markdown": [
       "1. 37455\n",
       "2. 36\n",
       "\n",
       "\n"
      ],
      "text/plain": [
       "[1] 37455    36"
      ]
     },
     "metadata": {},
     "output_type": "display_data"
    },
    {
     "data": {
      "text/html": [
       "<style>\n",
       ".list-inline {list-style: none; margin:0; padding: 0}\n",
       ".list-inline>li {display: inline-block}\n",
       ".list-inline>li:not(:last-child)::after {content: \"\\00b7\"; padding: 0 .5ex}\n",
       "</style>\n",
       "<ol class=list-inline><li>37455</li><li>36</li></ol>\n"
      ],
      "text/latex": [
       "\\begin{enumerate*}\n",
       "\\item 37455\n",
       "\\item 36\n",
       "\\end{enumerate*}\n"
      ],
      "text/markdown": [
       "1. 37455\n",
       "2. 36\n",
       "\n",
       "\n"
      ],
      "text/plain": [
       "[1] 37455    36"
      ]
     },
     "metadata": {},
     "output_type": "display_data"
    },
    {
     "name": "stdout",
     "output_type": "stream",
     "text": [
      "[1] \"month1\"\n"
     ]
    },
    {
     "name": "stderr",
     "output_type": "stream",
     "text": [
      "Warning message in Matrix::sparseMatrix(dims = c(0, 0), i = integer(0), j = integer(0), :\n",
      "\"'giveCsparse' has been deprecated; setting 'repr = \"T\"' for you\"\n",
      "Warning message in Matrix::sparseMatrix(dims = c(0, 0), i = integer(0), j = integer(0), :\n",
      "\"'giveCsparse' has been deprecated; setting 'repr = \"T\"' for you\"\n",
      "Warning message in Matrix::sparseMatrix(dims = c(0, 0), i = integer(0), j = integer(0), :\n",
      "\"'giveCsparse' has been deprecated; setting 'repr = \"T\"' for you\"\n",
      "Warning message in Matrix::sparseMatrix(dims = c(0, 0), i = integer(0), j = integer(0), :\n",
      "\"'giveCsparse' has been deprecated; setting 'repr = \"T\"' for you\"\n",
      "Warning message in Matrix::sparseMatrix(dims = c(0, 0), i = integer(0), j = integer(0), :\n",
      "\"'giveCsparse' has been deprecated; setting 'repr = \"T\"' for you\"\n",
      "Warning message in Matrix::sparseMatrix(dims = c(0, 0), i = integer(0), j = integer(0), :\n",
      "\"'giveCsparse' has been deprecated; setting 'repr = \"T\"' for you\"\n"
     ]
    },
    {
     "name": "stdout",
     "output_type": "stream",
     "text": [
      "Data: df__\n",
      "Models:\n",
      "fit_nopenid: vertical_travel_distance ~ CLASS + Treatment + rescale(DIB) + , zi=~1 + rescale(DIB), disp=~1\n",
      "fit_nopenid:     rescale(weight_interp) + rescale(nbr_h_per_day) + (1 | HenID), zi=~1 + rescale(DIB), disp=~1\n",
      "fit_penid: vertical_travel_distance ~ CLASS + Treatment + rescale(DIB) + , zi=~1 + rescale(DIB), disp=~1\n",
      "fit_penid:     rescale(weight_interp) + rescale(nbr_h_per_day) + (1 | PenID/HenID), zi=~1 + rescale(DIB), disp=~1\n",
      "            Df   AIC   BIC logLik deviance  Chisq Chi Df Pr(>Chisq)\n",
      "fit_nopenid 10 39796 39858 -19888    39776                         \n",
      "fit_penid   11 39798 39866 -19888    39776 0.0169      1     0.8965\n"
     ]
    },
    {
     "name": "stderr",
     "output_type": "stream",
     "text": [
      "Warning message:\n",
      "\"Bootstrapping only returns fixed effects of the mixed model.\"\n",
      "Warning message in Matrix::sparseMatrix(dims = c(0, 0), i = integer(0), j = integer(0), :\n",
      "\"'giveCsparse' has been deprecated; setting 'repr = \"T\"' for you\"\n",
      "Warning message in Matrix::sparseMatrix(dims = c(0, 0), i = integer(0), j = integer(0), :\n",
      "\"'giveCsparse' has been deprecated; setting 'repr = \"T\"' for you\"\n",
      "Warning message in Matrix::sparseMatrix(dims = c(0, 0), i = integer(0), j = integer(0), :\n",
      "\"'giveCsparse' has been deprecated; setting 'repr = \"T\"' for you\"\n",
      "Warning message in Matrix::sparseMatrix(dims = c(0, 0), i = integer(0), j = integer(0), :\n",
      "\"'giveCsparse' has been deprecated; setting 'repr = \"T\"' for you\"\n",
      "Warning message in Matrix::sparseMatrix(dims = c(0, 0), i = integer(0), j = integer(0), :\n",
      "\"'giveCsparse' has been deprecated; setting 'repr = \"T\"' for you\"\n",
      "Warning message in Matrix::sparseMatrix(dims = c(0, 0), i = integer(0), j = integer(0), :\n",
      "\"'giveCsparse' has been deprecated; setting 'repr = \"T\"' for you\"\n"
     ]
    },
    {
     "name": "stdout",
     "output_type": "stream",
     "text": [
      "NULL\n",
      "NULL\n",
      "[1] \"month2\"\n"
     ]
    },
    {
     "name": "stderr",
     "output_type": "stream",
     "text": [
      "Warning message in Matrix::sparseMatrix(dims = c(0, 0), i = integer(0), j = integer(0), :\n",
      "\"'giveCsparse' has been deprecated; setting 'repr = \"T\"' for you\"\n",
      "Warning message in Matrix::sparseMatrix(dims = c(0, 0), i = integer(0), j = integer(0), :\n",
      "\"'giveCsparse' has been deprecated; setting 'repr = \"T\"' for you\"\n",
      "Warning message in Matrix::sparseMatrix(dims = c(0, 0), i = integer(0), j = integer(0), :\n",
      "\"'giveCsparse' has been deprecated; setting 'repr = \"T\"' for you\"\n",
      "Warning message in Matrix::sparseMatrix(dims = c(0, 0), i = integer(0), j = integer(0), :\n",
      "\"'giveCsparse' has been deprecated; setting 'repr = \"T\"' for you\"\n",
      "Warning message in Matrix::sparseMatrix(dims = c(0, 0), i = integer(0), j = integer(0), :\n",
      "\"'giveCsparse' has been deprecated; setting 'repr = \"T\"' for you\"\n",
      "Warning message in Matrix::sparseMatrix(dims = c(0, 0), i = integer(0), j = integer(0), :\n",
      "\"'giveCsparse' has been deprecated; setting 'repr = \"T\"' for you\"\n"
     ]
    },
    {
     "name": "stdout",
     "output_type": "stream",
     "text": [
      "Data: df__\n",
      "Models:\n",
      "fit_nopenid: vertical_travel_distance ~ CLASS + Treatment + rescale(DIB) + , zi=~0, disp=~1\n",
      "fit_nopenid:     rescale(weight_interp) + rescale(nbr_h_per_day) + (1 | HenID), zi=~0, disp=~1\n",
      "fit_penid: vertical_travel_distance ~ CLASS + Treatment + rescale(DIB) + , zi=~0, disp=~1\n",
      "fit_penid:     rescale(weight_interp) + rescale(nbr_h_per_day) + (1 | PenID/HenID), zi=~0, disp=~1\n",
      "            Df   AIC   BIC logLik deviance Chisq Chi Df Pr(>Chisq)\n",
      "fit_nopenid  9 33337 33393 -16659    33319                        \n",
      "fit_penid   10 33339 33402 -16659    33319     0      1          1\n"
     ]
    },
    {
     "name": "stderr",
     "output_type": "stream",
     "text": [
      "Warning message:\n",
      "\"Bootstrapping only returns fixed effects of the mixed model.\"\n",
      "Warning message in Matrix::sparseMatrix(dims = c(0, 0), i = integer(0), j = integer(0), :\n",
      "\"'giveCsparse' has been deprecated; setting 'repr = \"T\"' for you\"\n",
      "Warning message in Matrix::sparseMatrix(dims = c(0, 0), i = integer(0), j = integer(0), :\n",
      "\"'giveCsparse' has been deprecated; setting 'repr = \"T\"' for you\"\n",
      "Warning message in Matrix::sparseMatrix(dims = c(0, 0), i = integer(0), j = integer(0), :\n",
      "\"'giveCsparse' has been deprecated; setting 'repr = \"T\"' for you\"\n",
      "Warning message in Matrix::sparseMatrix(dims = c(0, 0), i = integer(0), j = integer(0), :\n",
      "\"'giveCsparse' has been deprecated; setting 'repr = \"T\"' for you\"\n",
      "Warning message in Matrix::sparseMatrix(dims = c(0, 0), i = integer(0), j = integer(0), :\n",
      "\"'giveCsparse' has been deprecated; setting 'repr = \"T\"' for you\"\n",
      "Warning message in Matrix::sparseMatrix(dims = c(0, 0), i = integer(0), j = integer(0), :\n",
      "\"'giveCsparse' has been deprecated; setting 'repr = \"T\"' for you\"\n"
     ]
    },
    {
     "name": "stdout",
     "output_type": "stream",
     "text": [
      "NULL\n",
      "NULL\n",
      "[1] \"month3\"\n"
     ]
    },
    {
     "name": "stderr",
     "output_type": "stream",
     "text": [
      "Warning message in Matrix::sparseMatrix(dims = c(0, 0), i = integer(0), j = integer(0), :\n",
      "\"'giveCsparse' has been deprecated; setting 'repr = \"T\"' for you\"\n",
      "Warning message in Matrix::sparseMatrix(dims = c(0, 0), i = integer(0), j = integer(0), :\n",
      "\"'giveCsparse' has been deprecated; setting 'repr = \"T\"' for you\"\n",
      "Warning message in Matrix::sparseMatrix(dims = c(0, 0), i = integer(0), j = integer(0), :\n",
      "\"'giveCsparse' has been deprecated; setting 'repr = \"T\"' for you\"\n",
      "Warning message in Matrix::sparseMatrix(dims = c(0, 0), i = integer(0), j = integer(0), :\n",
      "\"'giveCsparse' has been deprecated; setting 'repr = \"T\"' for you\"\n",
      "Warning message in Matrix::sparseMatrix(dims = c(0, 0), i = integer(0), j = integer(0), :\n",
      "\"'giveCsparse' has been deprecated; setting 'repr = \"T\"' for you\"\n",
      "Warning message in Matrix::sparseMatrix(dims = c(0, 0), i = integer(0), j = integer(0), :\n",
      "\"'giveCsparse' has been deprecated; setting 'repr = \"T\"' for you\"\n"
     ]
    },
    {
     "name": "stdout",
     "output_type": "stream",
     "text": [
      "Data: df__\n",
      "Models:\n",
      "fit_nopenid: vertical_travel_distance ~ CLASS + Treatment + rescale(DIB) + , zi=~0, disp=~1\n",
      "fit_nopenid:     rescale(weight_interp) + rescale(KBF_interp) + (1 | HenID), zi=~0, disp=~1\n",
      "fit_penid: vertical_travel_distance ~ CLASS + Treatment + rescale(DIB) + , zi=~0, disp=~1\n",
      "fit_penid:     rescale(weight_interp) + rescale(KBF_interp) + (1 | PenID/HenID), zi=~0, disp=~1\n",
      "            Df   AIC   BIC logLik deviance Chisq Chi Df Pr(>Chisq)\n",
      "fit_nopenid  9 35074 35132 -17528    35056                        \n",
      "fit_penid   10 35076 35140 -17528    35056     0      1          1\n"
     ]
    },
    {
     "name": "stderr",
     "output_type": "stream",
     "text": [
      "Warning message:\n",
      "\"Bootstrapping only returns fixed effects of the mixed model.\"\n",
      "Warning message in Matrix::sparseMatrix(dims = c(0, 0), i = integer(0), j = integer(0), :\n",
      "\"'giveCsparse' has been deprecated; setting 'repr = \"T\"' for you\"\n",
      "Warning message in Matrix::sparseMatrix(dims = c(0, 0), i = integer(0), j = integer(0), :\n",
      "\"'giveCsparse' has been deprecated; setting 'repr = \"T\"' for you\"\n",
      "Warning message in Matrix::sparseMatrix(dims = c(0, 0), i = integer(0), j = integer(0), :\n",
      "\"'giveCsparse' has been deprecated; setting 'repr = \"T\"' for you\"\n",
      "Warning message in Matrix::sparseMatrix(dims = c(0, 0), i = integer(0), j = integer(0), :\n",
      "\"'giveCsparse' has been deprecated; setting 'repr = \"T\"' for you\"\n",
      "Warning message in Matrix::sparseMatrix(dims = c(0, 0), i = integer(0), j = integer(0), :\n",
      "\"'giveCsparse' has been deprecated; setting 'repr = \"T\"' for you\"\n",
      "Warning message in Matrix::sparseMatrix(dims = c(0, 0), i = integer(0), j = integer(0), :\n",
      "\"'giveCsparse' has been deprecated; setting 'repr = \"T\"' for you\"\n"
     ]
    },
    {
     "name": "stdout",
     "output_type": "stream",
     "text": [
      "NULL\n",
      "NULL\n",
      "[1] \"month4\"\n"
     ]
    },
    {
     "name": "stderr",
     "output_type": "stream",
     "text": [
      "Warning message in Matrix::sparseMatrix(dims = c(0, 0), i = integer(0), j = integer(0), :\n",
      "\"'giveCsparse' has been deprecated; setting 'repr = \"T\"' for you\"\n",
      "Warning message in Matrix::sparseMatrix(dims = c(0, 0), i = integer(0), j = integer(0), :\n",
      "\"'giveCsparse' has been deprecated; setting 'repr = \"T\"' for you\"\n",
      "Warning message in Matrix::sparseMatrix(dims = c(0, 0), i = integer(0), j = integer(0), :\n",
      "\"'giveCsparse' has been deprecated; setting 'repr = \"T\"' for you\"\n",
      "Warning message in Matrix::sparseMatrix(dims = c(0, 0), i = integer(0), j = integer(0), :\n",
      "\"'giveCsparse' has been deprecated; setting 'repr = \"T\"' for you\"\n",
      "Warning message in Matrix::sparseMatrix(dims = c(0, 0), i = integer(0), j = integer(0), :\n",
      "\"'giveCsparse' has been deprecated; setting 'repr = \"T\"' for you\"\n",
      "Warning message in Matrix::sparseMatrix(dims = c(0, 0), i = integer(0), j = integer(0), :\n",
      "\"'giveCsparse' has been deprecated; setting 'repr = \"T\"' for you\"\n"
     ]
    },
    {
     "name": "stdout",
     "output_type": "stream",
     "text": [
      "Data: df__\n",
      "Models:\n",
      "fit_nopenid: vertical_travel_distance ~ CLASS + Treatment + rescale(DIB) + , zi=~0, disp=~1\n",
      "fit_nopenid:     rescale(weight_interp) + rescale(KBF_interp) + (1 | HenID), zi=~0, disp=~1\n",
      "fit_penid: vertical_travel_distance ~ CLASS + Treatment + rescale(DIB) + , zi=~0, disp=~1\n",
      "fit_penid:     rescale(weight_interp) + rescale(KBF_interp) + (1 | PenID/HenID), zi=~0, disp=~1\n",
      "            Df   AIC   BIC logLik deviance Chisq Chi Df Pr(>Chisq)\n",
      "fit_nopenid  9 29863 29919 -14923    29845                        \n",
      "fit_penid   10 29865 29927 -14923    29845     0      1          1\n"
     ]
    },
    {
     "name": "stderr",
     "output_type": "stream",
     "text": [
      "Warning message:\n",
      "\"Bootstrapping only returns fixed effects of the mixed model.\"\n",
      "Warning message in Matrix::sparseMatrix(dims = c(0, 0), i = integer(0), j = integer(0), :\n",
      "\"'giveCsparse' has been deprecated; setting 'repr = \"T\"' for you\"\n",
      "Warning message in Matrix::sparseMatrix(dims = c(0, 0), i = integer(0), j = integer(0), :\n",
      "\"'giveCsparse' has been deprecated; setting 'repr = \"T\"' for you\"\n",
      "Warning message in Matrix::sparseMatrix(dims = c(0, 0), i = integer(0), j = integer(0), :\n",
      "\"'giveCsparse' has been deprecated; setting 'repr = \"T\"' for you\"\n",
      "Warning message in Matrix::sparseMatrix(dims = c(0, 0), i = integer(0), j = integer(0), :\n",
      "\"'giveCsparse' has been deprecated; setting 'repr = \"T\"' for you\"\n",
      "Warning message in Matrix::sparseMatrix(dims = c(0, 0), i = integer(0), j = integer(0), :\n",
      "\"'giveCsparse' has been deprecated; setting 'repr = \"T\"' for you\"\n",
      "Warning message in Matrix::sparseMatrix(dims = c(0, 0), i = integer(0), j = integer(0), :\n",
      "\"'giveCsparse' has been deprecated; setting 'repr = \"T\"' for you\"\n"
     ]
    },
    {
     "name": "stdout",
     "output_type": "stream",
     "text": [
      "NULL\n",
      "NULL\n",
      "[1] \"month5\"\n"
     ]
    },
    {
     "name": "stderr",
     "output_type": "stream",
     "text": [
      "Warning message in Matrix::sparseMatrix(dims = c(0, 0), i = integer(0), j = integer(0), :\n",
      "\"'giveCsparse' has been deprecated; setting 'repr = \"T\"' for you\"\n",
      "Warning message in Matrix::sparseMatrix(dims = c(0, 0), i = integer(0), j = integer(0), :\n",
      "\"'giveCsparse' has been deprecated; setting 'repr = \"T\"' for you\"\n",
      "Warning message in Matrix::sparseMatrix(dims = c(0, 0), i = integer(0), j = integer(0), :\n",
      "\"'giveCsparse' has been deprecated; setting 'repr = \"T\"' for you\"\n",
      "Warning message in Matrix::sparseMatrix(dims = c(0, 0), i = integer(0), j = integer(0), :\n",
      "\"'giveCsparse' has been deprecated; setting 'repr = \"T\"' for you\"\n",
      "Warning message in Matrix::sparseMatrix(dims = c(0, 0), i = integer(0), j = integer(0), :\n",
      "\"'giveCsparse' has been deprecated; setting 'repr = \"T\"' for you\"\n",
      "Warning message in Matrix::sparseMatrix(dims = c(0, 0), i = integer(0), j = integer(0), :\n",
      "\"'giveCsparse' has been deprecated; setting 'repr = \"T\"' for you\"\n"
     ]
    },
    {
     "name": "stdout",
     "output_type": "stream",
     "text": [
      "Data: df__\n",
      "Models:\n",
      "fit_nopenid: vertical_travel_distance ~ CLASS + Treatment + rescale(DIB) + , zi=~0, disp=~1\n",
      "fit_nopenid:     rescale(weight_interp) + rescale(KBF_interp) + (1 | HenID), zi=~0, disp=~1\n",
      "fit_penid: vertical_travel_distance ~ CLASS + Treatment + rescale(DIB) + , zi=~0, disp=~1\n",
      "fit_penid:     rescale(weight_interp) + rescale(KBF_interp) + (1 | PenID/HenID), zi=~0, disp=~1\n",
      "            Df   AIC   BIC logLik deviance Chisq Chi Df Pr(>Chisq)\n",
      "fit_nopenid  9 31331 31388 -15657    31313                        \n",
      "fit_penid   10 31333 31396 -15657    31313 0.044      1     0.8338\n"
     ]
    },
    {
     "name": "stderr",
     "output_type": "stream",
     "text": [
      "Warning message:\n",
      "\"Bootstrapping only returns fixed effects of the mixed model.\"\n",
      "Warning message in Matrix::sparseMatrix(dims = c(0, 0), i = integer(0), j = integer(0), :\n",
      "\"'giveCsparse' has been deprecated; setting 'repr = \"T\"' for you\"\n",
      "Warning message in Matrix::sparseMatrix(dims = c(0, 0), i = integer(0), j = integer(0), :\n",
      "\"'giveCsparse' has been deprecated; setting 'repr = \"T\"' for you\"\n",
      "Warning message in Matrix::sparseMatrix(dims = c(0, 0), i = integer(0), j = integer(0), :\n",
      "\"'giveCsparse' has been deprecated; setting 'repr = \"T\"' for you\"\n",
      "Warning message in Matrix::sparseMatrix(dims = c(0, 0), i = integer(0), j = integer(0), :\n",
      "\"'giveCsparse' has been deprecated; setting 'repr = \"T\"' for you\"\n",
      "Warning message in Matrix::sparseMatrix(dims = c(0, 0), i = integer(0), j = integer(0), :\n",
      "\"'giveCsparse' has been deprecated; setting 'repr = \"T\"' for you\"\n",
      "Warning message in Matrix::sparseMatrix(dims = c(0, 0), i = integer(0), j = integer(0), :\n",
      "\"'giveCsparse' has been deprecated; setting 'repr = \"T\"' for you\"\n"
     ]
    },
    {
     "name": "stdout",
     "output_type": "stream",
     "text": [
      "NULL\n",
      "NULL\n",
      "[1] \"month6\"\n"
     ]
    },
    {
     "name": "stderr",
     "output_type": "stream",
     "text": [
      "Warning message in Matrix::sparseMatrix(dims = c(0, 0), i = integer(0), j = integer(0), :\n",
      "\"'giveCsparse' has been deprecated; setting 'repr = \"T\"' for you\"\n",
      "Warning message in Matrix::sparseMatrix(dims = c(0, 0), i = integer(0), j = integer(0), :\n",
      "\"'giveCsparse' has been deprecated; setting 'repr = \"T\"' for you\"\n",
      "Warning message in Matrix::sparseMatrix(dims = c(0, 0), i = integer(0), j = integer(0), :\n",
      "\"'giveCsparse' has been deprecated; setting 'repr = \"T\"' for you\"\n",
      "Warning message in Matrix::sparseMatrix(dims = c(0, 0), i = integer(0), j = integer(0), :\n",
      "\"'giveCsparse' has been deprecated; setting 'repr = \"T\"' for you\"\n",
      "Warning message in Matrix::sparseMatrix(dims = c(0, 0), i = integer(0), j = integer(0), :\n",
      "\"'giveCsparse' has been deprecated; setting 'repr = \"T\"' for you\"\n",
      "Warning message in Matrix::sparseMatrix(dims = c(0, 0), i = integer(0), j = integer(0), :\n",
      "\"'giveCsparse' has been deprecated; setting 'repr = \"T\"' for you\"\n"
     ]
    },
    {
     "name": "stdout",
     "output_type": "stream",
     "text": [
      "Data: df__\n",
      "Models:\n",
      "fit_nopenid: vertical_travel_distance ~ CLASS + Treatment + rescale(DIB) + , zi=~0, disp=~1\n",
      "fit_nopenid:     rescale(weight_interp) + rescale(KBF_interp) + (1 | HenID), zi=~0, disp=~1\n",
      "fit_penid: vertical_travel_distance ~ CLASS + Treatment + rescale(DIB) + , zi=~0, disp=~1\n",
      "fit_penid:     rescale(weight_interp) + rescale(KBF_interp) + (1 | PenID/HenID), zi=~0, disp=~1\n",
      "            Df   AIC   BIC logLik deviance Chisq Chi Df Pr(>Chisq)\n",
      "fit_nopenid  9 34220 34277 -17101    34202                        \n",
      "fit_penid   10 34222 34285 -17101    34202     0      1          1\n"
     ]
    },
    {
     "name": "stderr",
     "output_type": "stream",
     "text": [
      "Warning message:\n",
      "\"Bootstrapping only returns fixed effects of the mixed model.\"\n",
      "Warning message in Matrix::sparseMatrix(dims = c(0, 0), i = integer(0), j = integer(0), :\n",
      "\"'giveCsparse' has been deprecated; setting 'repr = \"T\"' for you\"\n",
      "Warning message in Matrix::sparseMatrix(dims = c(0, 0), i = integer(0), j = integer(0), :\n",
      "\"'giveCsparse' has been deprecated; setting 'repr = \"T\"' for you\"\n",
      "Warning message in Matrix::sparseMatrix(dims = c(0, 0), i = integer(0), j = integer(0), :\n",
      "\"'giveCsparse' has been deprecated; setting 'repr = \"T\"' for you\"\n",
      "Warning message in Matrix::sparseMatrix(dims = c(0, 0), i = integer(0), j = integer(0), :\n",
      "\"'giveCsparse' has been deprecated; setting 'repr = \"T\"' for you\"\n",
      "Warning message in Matrix::sparseMatrix(dims = c(0, 0), i = integer(0), j = integer(0), :\n",
      "\"'giveCsparse' has been deprecated; setting 'repr = \"T\"' for you\"\n",
      "Warning message in Matrix::sparseMatrix(dims = c(0, 0), i = integer(0), j = integer(0), :\n",
      "\"'giveCsparse' has been deprecated; setting 'repr = \"T\"' for you\"\n"
     ]
    },
    {
     "name": "stdout",
     "output_type": "stream",
     "text": [
      "NULL\n",
      "NULL\n",
      "[1] \"month7\"\n"
     ]
    },
    {
     "name": "stderr",
     "output_type": "stream",
     "text": [
      "Warning message in Matrix::sparseMatrix(dims = c(0, 0), i = integer(0), j = integer(0), :\n",
      "\"'giveCsparse' has been deprecated; setting 'repr = \"T\"' for you\"\n",
      "Warning message in Matrix::sparseMatrix(dims = c(0, 0), i = integer(0), j = integer(0), :\n",
      "\"'giveCsparse' has been deprecated; setting 'repr = \"T\"' for you\"\n",
      "Warning message in Matrix::sparseMatrix(dims = c(0, 0), i = integer(0), j = integer(0), :\n",
      "\"'giveCsparse' has been deprecated; setting 'repr = \"T\"' for you\"\n",
      "Warning message in Matrix::sparseMatrix(dims = c(0, 0), i = integer(0), j = integer(0), :\n",
      "\"'giveCsparse' has been deprecated; setting 'repr = \"T\"' for you\"\n",
      "Warning message in Matrix::sparseMatrix(dims = c(0, 0), i = integer(0), j = integer(0), :\n",
      "\"'giveCsparse' has been deprecated; setting 'repr = \"T\"' for you\"\n",
      "Warning message in Matrix::sparseMatrix(dims = c(0, 0), i = integer(0), j = integer(0), :\n",
      "\"'giveCsparse' has been deprecated; setting 'repr = \"T\"' for you\"\n"
     ]
    },
    {
     "name": "stdout",
     "output_type": "stream",
     "text": [
      "Data: df__\n",
      "Models:\n",
      "fit_nopenid: vertical_travel_distance ~ CLASS + Treatment + rescale(DIB) + , zi=~0, disp=~1\n",
      "fit_nopenid:     rescale(weight_interp) + rescale(KBF_interp) + (1 | HenID), zi=~0, disp=~1\n",
      "fit_penid: vertical_travel_distance ~ CLASS + Treatment + rescale(DIB) + , zi=~0, disp=~1\n",
      "fit_penid:     rescale(weight_interp) + rescale(KBF_interp) + (1 | PenID/HenID), zi=~0, disp=~1\n",
      "            Df   AIC   BIC logLik deviance  Chisq Chi Df Pr(>Chisq)\n",
      "fit_nopenid  9 33265 33322 -16623    33247                         \n",
      "fit_penid   10 33267 33330 -16623    33247 0.1119      1      0.738\n"
     ]
    },
    {
     "name": "stderr",
     "output_type": "stream",
     "text": [
      "Warning message:\n",
      "\"Bootstrapping only returns fixed effects of the mixed model.\"\n",
      "Warning message in Matrix::sparseMatrix(dims = c(0, 0), i = integer(0), j = integer(0), :\n",
      "\"'giveCsparse' has been deprecated; setting 'repr = \"T\"' for you\"\n",
      "Warning message in Matrix::sparseMatrix(dims = c(0, 0), i = integer(0), j = integer(0), :\n",
      "\"'giveCsparse' has been deprecated; setting 'repr = \"T\"' for you\"\n",
      "Warning message in Matrix::sparseMatrix(dims = c(0, 0), i = integer(0), j = integer(0), :\n",
      "\"'giveCsparse' has been deprecated; setting 'repr = \"T\"' for you\"\n",
      "Warning message in Matrix::sparseMatrix(dims = c(0, 0), i = integer(0), j = integer(0), :\n",
      "\"'giveCsparse' has been deprecated; setting 'repr = \"T\"' for you\"\n",
      "Warning message in Matrix::sparseMatrix(dims = c(0, 0), i = integer(0), j = integer(0), :\n",
      "\"'giveCsparse' has been deprecated; setting 'repr = \"T\"' for you\"\n",
      "Warning message in Matrix::sparseMatrix(dims = c(0, 0), i = integer(0), j = integer(0), :\n",
      "\"'giveCsparse' has been deprecated; setting 'repr = \"T\"' for you\"\n"
     ]
    },
    {
     "name": "stdout",
     "output_type": "stream",
     "text": [
      "NULL\n",
      "NULL\n",
      "[1] \"month8\"\n"
     ]
    },
    {
     "name": "stderr",
     "output_type": "stream",
     "text": [
      "Warning message in Matrix::sparseMatrix(dims = c(0, 0), i = integer(0), j = integer(0), :\n",
      "\"'giveCsparse' has been deprecated; setting 'repr = \"T\"' for you\"\n",
      "Warning message in Matrix::sparseMatrix(dims = c(0, 0), i = integer(0), j = integer(0), :\n",
      "\"'giveCsparse' has been deprecated; setting 'repr = \"T\"' for you\"\n",
      "Warning message in Matrix::sparseMatrix(dims = c(0, 0), i = integer(0), j = integer(0), :\n",
      "\"'giveCsparse' has been deprecated; setting 'repr = \"T\"' for you\"\n",
      "Warning message in Matrix::sparseMatrix(dims = c(0, 0), i = integer(0), j = integer(0), :\n",
      "\"'giveCsparse' has been deprecated; setting 'repr = \"T\"' for you\"\n",
      "Warning message in Matrix::sparseMatrix(dims = c(0, 0), i = integer(0), j = integer(0), :\n",
      "\"'giveCsparse' has been deprecated; setting 'repr = \"T\"' for you\"\n",
      "Warning message in Matrix::sparseMatrix(dims = c(0, 0), i = integer(0), j = integer(0), :\n",
      "\"'giveCsparse' has been deprecated; setting 'repr = \"T\"' for you\"\n"
     ]
    },
    {
     "name": "stdout",
     "output_type": "stream",
     "text": [
      "Data: df__\n",
      "Models:\n",
      "fit_nopenid: vertical_travel_distance ~ CLASS + Treatment + rescale(DIB) + , zi=~0, disp=~1\n",
      "fit_nopenid:     rescale(weight_interp) + rescale(KBF_interp) + (1 | HenID), zi=~0, disp=~1\n",
      "fit_penid: vertical_travel_distance ~ CLASS + Treatment + rescale(DIB) + , zi=~0, disp=~1\n",
      "fit_penid:     rescale(weight_interp) + rescale(KBF_interp) + (1 | PenID/HenID), zi=~0, disp=~1\n",
      "            Df   AIC   BIC logLik deviance  Chisq Chi Df Pr(>Chisq)\n",
      "fit_nopenid  9 35190 35247 -17586    35172                         \n",
      "fit_penid   10 35191 35256 -17586    35171 0.2118      1     0.6454\n"
     ]
    },
    {
     "name": "stderr",
     "output_type": "stream",
     "text": [
      "Warning message:\n",
      "\"Bootstrapping only returns fixed effects of the mixed model.\"\n",
      "Warning message in Matrix::sparseMatrix(dims = c(0, 0), i = integer(0), j = integer(0), :\n",
      "\"'giveCsparse' has been deprecated; setting 'repr = \"T\"' for you\"\n",
      "Warning message in Matrix::sparseMatrix(dims = c(0, 0), i = integer(0), j = integer(0), :\n",
      "\"'giveCsparse' has been deprecated; setting 'repr = \"T\"' for you\"\n",
      "Warning message in Matrix::sparseMatrix(dims = c(0, 0), i = integer(0), j = integer(0), :\n",
      "\"'giveCsparse' has been deprecated; setting 'repr = \"T\"' for you\"\n",
      "Warning message in Matrix::sparseMatrix(dims = c(0, 0), i = integer(0), j = integer(0), :\n",
      "\"'giveCsparse' has been deprecated; setting 'repr = \"T\"' for you\"\n",
      "Warning message in Matrix::sparseMatrix(dims = c(0, 0), i = integer(0), j = integer(0), :\n",
      "\"'giveCsparse' has been deprecated; setting 'repr = \"T\"' for you\"\n",
      "Warning message in Matrix::sparseMatrix(dims = c(0, 0), i = integer(0), j = integer(0), :\n",
      "\"'giveCsparse' has been deprecated; setting 'repr = \"T\"' for you\"\n"
     ]
    },
    {
     "name": "stdout",
     "output_type": "stream",
     "text": [
      "NULL\n",
      "NULL\n",
      "[1] \"month9\"\n"
     ]
    },
    {
     "name": "stderr",
     "output_type": "stream",
     "text": [
      "Warning message in Matrix::sparseMatrix(dims = c(0, 0), i = integer(0), j = integer(0), :\n",
      "\"'giveCsparse' has been deprecated; setting 'repr = \"T\"' for you\"\n",
      "Warning message in Matrix::sparseMatrix(dims = c(0, 0), i = integer(0), j = integer(0), :\n",
      "\"'giveCsparse' has been deprecated; setting 'repr = \"T\"' for you\"\n",
      "Warning message in Matrix::sparseMatrix(dims = c(0, 0), i = integer(0), j = integer(0), :\n",
      "\"'giveCsparse' has been deprecated; setting 'repr = \"T\"' for you\"\n",
      "Warning message in Matrix::sparseMatrix(dims = c(0, 0), i = integer(0), j = integer(0), :\n",
      "\"'giveCsparse' has been deprecated; setting 'repr = \"T\"' for you\"\n",
      "Warning message in Matrix::sparseMatrix(dims = c(0, 0), i = integer(0), j = integer(0), :\n",
      "\"'giveCsparse' has been deprecated; setting 'repr = \"T\"' for you\"\n",
      "Warning message in Matrix::sparseMatrix(dims = c(0, 0), i = integer(0), j = integer(0), :\n",
      "\"'giveCsparse' has been deprecated; setting 'repr = \"T\"' for you\"\n"
     ]
    },
    {
     "name": "stdout",
     "output_type": "stream",
     "text": [
      "Data: df__\n",
      "Models:\n",
      "fit_nopenid: vertical_travel_distance ~ CLASS + Treatment + rescale(DIB) + , zi=~0, disp=~1\n",
      "fit_nopenid:     rescale(weight_interp) + rescale(KBF_interp) + (1 | HenID), zi=~0, disp=~1\n",
      "fit_penid: vertical_travel_distance ~ CLASS + Treatment + rescale(DIB) + , zi=~0, disp=~1\n",
      "fit_penid:     rescale(weight_interp) + rescale(KBF_interp) + (1 | PenID/HenID), zi=~0, disp=~1\n",
      "            Df   AIC   BIC  logLik deviance Chisq Chi Df Pr(>Chisq)\n",
      "fit_nopenid  9 14453 14502 -7217.3    14435                        \n",
      "fit_penid   10 14455 14510 -7217.3    14435     0      1     0.9991\n"
     ]
    },
    {
     "name": "stderr",
     "output_type": "stream",
     "text": [
      "Warning message:\n",
      "\"Bootstrapping only returns fixed effects of the mixed model.\"\n",
      "Warning message in Matrix::sparseMatrix(dims = c(0, 0), i = integer(0), j = integer(0), :\n",
      "\"'giveCsparse' has been deprecated; setting 'repr = \"T\"' for you\"\n",
      "Warning message in Matrix::sparseMatrix(dims = c(0, 0), i = integer(0), j = integer(0), :\n",
      "\"'giveCsparse' has been deprecated; setting 'repr = \"T\"' for you\"\n",
      "Warning message in Matrix::sparseMatrix(dims = c(0, 0), i = integer(0), j = integer(0), :\n",
      "\"'giveCsparse' has been deprecated; setting 'repr = \"T\"' for you\"\n",
      "Warning message in Matrix::sparseMatrix(dims = c(0, 0), i = integer(0), j = integer(0), :\n",
      "\"'giveCsparse' has been deprecated; setting 'repr = \"T\"' for you\"\n",
      "Warning message in Matrix::sparseMatrix(dims = c(0, 0), i = integer(0), j = integer(0), :\n",
      "\"'giveCsparse' has been deprecated; setting 'repr = \"T\"' for you\"\n",
      "Warning message in Matrix::sparseMatrix(dims = c(0, 0), i = integer(0), j = integer(0), :\n",
      "\"'giveCsparse' has been deprecated; setting 'repr = \"T\"' for you\"\n"
     ]
    },
    {
     "name": "stdout",
     "output_type": "stream",
     "text": [
      "NULL\n",
      "NULL\n",
      "[1] \"month10\"\n"
     ]
    },
    {
     "name": "stderr",
     "output_type": "stream",
     "text": [
      "Warning message in Matrix::sparseMatrix(dims = c(0, 0), i = integer(0), j = integer(0), :\n",
      "\"'giveCsparse' has been deprecated; setting 'repr = \"T\"' for you\"\n",
      "Warning message in Matrix::sparseMatrix(dims = c(0, 0), i = integer(0), j = integer(0), :\n",
      "\"'giveCsparse' has been deprecated; setting 'repr = \"T\"' for you\"\n",
      "Warning message in Matrix::sparseMatrix(dims = c(0, 0), i = integer(0), j = integer(0), :\n",
      "\"'giveCsparse' has been deprecated; setting 'repr = \"T\"' for you\"\n",
      "Warning message in Matrix::sparseMatrix(dims = c(0, 0), i = integer(0), j = integer(0), :\n",
      "\"'giveCsparse' has been deprecated; setting 'repr = \"T\"' for you\"\n",
      "Warning message in Matrix::sparseMatrix(dims = c(0, 0), i = integer(0), j = integer(0), :\n",
      "\"'giveCsparse' has been deprecated; setting 'repr = \"T\"' for you\"\n",
      "Warning message in Matrix::sparseMatrix(dims = c(0, 0), i = integer(0), j = integer(0), :\n",
      "\"'giveCsparse' has been deprecated; setting 'repr = \"T\"' for you\"\n"
     ]
    },
    {
     "name": "stdout",
     "output_type": "stream",
     "text": [
      "Data: df__\n",
      "Models:\n",
      "fit_nopenid: vertical_travel_distance ~ CLASS + Treatment + rescale(DIB) + , zi=~0, disp=~1\n",
      "fit_nopenid:     rescale(weight_interp) + rescale(KBF_interp) + (1 | HenID), zi=~0, disp=~1\n",
      "fit_penid: vertical_travel_distance ~ CLASS + Treatment + rescale(DIB) + , zi=~0, disp=~1\n",
      "fit_penid:     rescale(weight_interp) + rescale(KBF_interp) + (1 | PenID/HenID), zi=~0, disp=~1\n",
      "            Df   AIC   BIC logLik deviance  Chisq Chi Df Pr(>Chisq)\n",
      "fit_nopenid  9 24965 25020 -12474    24947                         \n",
      "fit_penid   10 24967 25027 -12473    24947 0.5354      1     0.4644\n"
     ]
    },
    {
     "name": "stderr",
     "output_type": "stream",
     "text": [
      "Warning message:\n",
      "\"Bootstrapping only returns fixed effects of the mixed model.\"\n",
      "Warning message in Matrix::sparseMatrix(dims = c(0, 0), i = integer(0), j = integer(0), :\n",
      "\"'giveCsparse' has been deprecated; setting 'repr = \"T\"' for you\"\n",
      "Warning message in Matrix::sparseMatrix(dims = c(0, 0), i = integer(0), j = integer(0), :\n",
      "\"'giveCsparse' has been deprecated; setting 'repr = \"T\"' for you\"\n",
      "Warning message in Matrix::sparseMatrix(dims = c(0, 0), i = integer(0), j = integer(0), :\n",
      "\"'giveCsparse' has been deprecated; setting 'repr = \"T\"' for you\"\n",
      "Warning message in Matrix::sparseMatrix(dims = c(0, 0), i = integer(0), j = integer(0), :\n",
      "\"'giveCsparse' has been deprecated; setting 'repr = \"T\"' for you\"\n",
      "Warning message in Matrix::sparseMatrix(dims = c(0, 0), i = integer(0), j = integer(0), :\n",
      "\"'giveCsparse' has been deprecated; setting 'repr = \"T\"' for you\"\n",
      "Warning message in Matrix::sparseMatrix(dims = c(0, 0), i = integer(0), j = integer(0), :\n",
      "\"'giveCsparse' has been deprecated; setting 'repr = \"T\"' for you\"\n"
     ]
    },
    {
     "name": "stdout",
     "output_type": "stream",
     "text": [
      "NULL\n",
      "NULL\n"
     ]
    },
    {
     "name": "stderr",
     "output_type": "stream",
     "text": [
      "Warning message:\n",
      "\"Following potential variables could not be found in the data: DIB ,weight_interp\n",
      "  ,nbr_h_per_day\"\n",
      "Warning message:\n",
      "\"Following potential variables could not be found in the data: DIB ,weight_interp\n",
      "  ,nbr_h_per_day\"\n",
      "Warning message:\n",
      "\"Following potential variables could not be found in the data: DIB ,weight_interp\n",
      "  ,KBF_interp\"\n",
      "Warning message:\n",
      "\"Following potential variables could not be found in the data: DIB ,weight_interp\n",
      "  ,KBF_interp\"\n",
      "Warning message:\n",
      "\"Following potential variables could not be found in the data: DIB ,weight_interp\n",
      "  ,KBF_interp\"\n",
      "Warning message:\n",
      "\"Following potential variables could not be found in the data: DIB ,weight_interp\n",
      "  ,nbr_h_per_day\"\n",
      "Warning message:\n",
      "\"Following potential variables could not be found in the data: DIB ,weight_interp\n",
      "  ,nbr_h_per_day\"\n",
      "Warning message:\n",
      "\"Following potential variables could not be found in the data: DIB ,weight_interp\n",
      "  ,KBF_interp\"\n",
      "Warning message:\n",
      "\"Following potential variables could not be found in the data: DIB ,weight_interp\n",
      "  ,KBF_interp\"\n",
      "Warning message:\n",
      "\"Following potential variables could not be found in the data: DIB ,weight_interp\n",
      "  ,KBF_interp\"\n",
      "Warning message:\n",
      "\"Following potential variables could not be found in the data: DIB ,weight_interp\n",
      "  ,nbr_h_per_day\"\n",
      "Warning message:\n",
      "\"Following potential variables could not be found in the data: DIB ,weight_interp\n",
      "  ,nbr_h_per_day\"\n",
      "Warning message:\n",
      "\"Following potential variables could not be found in the data: DIB ,weight_interp\n",
      "  ,KBF_interp\"\n",
      "Warning message:\n",
      "\"Following potential variables could not be found in the data: DIB ,weight_interp\n",
      "  ,KBF_interp\"\n",
      "Warning message:\n",
      "\"Following potential variables could not be found in the data: DIB ,weight_interp\n",
      "  ,KBF_interp\"\n",
      "Warning message:\n",
      "\"Following potential variables could not be found in the data: DIB ,weight_interp\n",
      "  ,KBF_interp\"\n",
      "Warning message:\n",
      "\"Following potential variables could not be found in the data: DIB ,weight_interp\n",
      "  ,KBF_interp\"\n",
      "Warning message:\n",
      "\"Following potential variables could not be found in the data: DIB ,weight_interp\n",
      "  ,KBF_interp\"\n",
      "Warning message:\n",
      "\"Following potential variables could not be found in the data: DIB ,weight_interp\n",
      "  ,KBF_interp\"\n",
      "Warning message:\n",
      "\"Following potential variables could not be found in the data: DIB ,weight_interp\n",
      "  ,KBF_interp\"\n",
      "Warning message:\n",
      "\"Following potential variables could not be found in the data: DIB ,weight_interp\n",
      "  ,KBF_interp\"\n",
      "Warning message:\n",
      "\"Following potential variables could not be found in the data: DIB ,weight_interp\n",
      "  ,KBF_interp\"\n",
      "Warning message:\n",
      "\"Following potential variables could not be found in the data: DIB ,weight_interp\n",
      "  ,KBF_interp\"\n",
      "Warning message:\n",
      "\"Following potential variables could not be found in the data: DIB ,weight_interp\n",
      "  ,KBF_interp\"\n",
      "Warning message:\n",
      "\"Following potential variables could not be found in the data: DIB ,weight_interp\n",
      "  ,KBF_interp\"\n",
      "Warning message:\n",
      "\"Following potential variables could not be found in the data: DIB ,weight_interp\n",
      "  ,KBF_interp\"\n",
      "Warning message:\n",
      "\"Following potential variables could not be found in the data: DIB ,weight_interp\n",
      "  ,KBF_interp\"\n",
      "Warning message in confint.glmmTMB(x, method = tolower(conf.method), level = conf.level, :\n",
      "\"extra arguments ignored:  intervals, prob\"\n",
      "Warning message in confint.glmmTMB(x, method = tolower(conf.method), level = conf.level, :\n",
      "\"extra arguments ignored:  intervals, prob\"\n",
      "Warning message in confint.glmmTMB(x, parm = thpar, method = conf.method, level = conf.level, :\n",
      "\"extra arguments ignored:  intervals, prob\"\n"
     ]
    },
    {
     "data": {
      "text/html": [
       "<strong>png:</strong> 2"
      ],
      "text/latex": [
       "\\textbf{png:} 2"
      ],
      "text/markdown": [
       "**png:** 2"
      ],
      "text/plain": [
       "png \n",
       "  2 "
      ]
     },
     "metadata": {},
     "output_type": "display_data"
    },
    {
     "name": "stderr",
     "output_type": "stream",
     "text": [
      "Warning message in confint.glmmTMB(x, method = tolower(conf.method), level = conf.level, :\n",
      "\"extra arguments ignored:  intervals, prob\"\n",
      "Warning message in confint.glmmTMB(x, parm = thpar, method = conf.method, level = conf.level, :\n",
      "\"extra arguments ignored:  intervals, prob\"\n",
      "New names:\n",
      "* sigma -> sigma...1\n",
      "* sigma -> sigma...2\n",
      "\n",
      "Warning message in confint.glmmTMB(x, method = tolower(conf.method), level = conf.level, :\n",
      "\"extra arguments ignored:  intervals, prob\"\n",
      "Warning message in confint.glmmTMB(x, parm = thpar, method = conf.method, level = conf.level, :\n",
      "\"extra arguments ignored:  intervals, prob\"\n",
      "New names:\n",
      "* sigma -> sigma...1\n",
      "* sigma -> sigma...2\n",
      "\n",
      "Warning message in confint.glmmTMB(x, method = tolower(conf.method), level = conf.level, :\n",
      "\"extra arguments ignored:  intervals, prob\"\n",
      "Warning message in confint.glmmTMB(x, parm = thpar, method = conf.method, level = conf.level, :\n",
      "\"extra arguments ignored:  intervals, prob\"\n",
      "New names:\n",
      "* sigma -> sigma...1\n",
      "* sigma -> sigma...2\n",
      "\n",
      "Warning message in confint.glmmTMB(x, method = tolower(conf.method), level = conf.level, :\n",
      "\"extra arguments ignored:  intervals, prob\"\n",
      "Warning message in confint.glmmTMB(x, parm = thpar, method = conf.method, level = conf.level, :\n",
      "\"extra arguments ignored:  intervals, prob\"\n",
      "New names:\n",
      "* sigma -> sigma...1\n",
      "* sigma -> sigma...2\n",
      "\n",
      "Warning message in confint.glmmTMB(x, method = tolower(conf.method), level = conf.level, :\n",
      "\"extra arguments ignored:  intervals, prob\"\n",
      "Warning message in confint.glmmTMB(x, parm = thpar, method = conf.method, level = conf.level, :\n",
      "\"extra arguments ignored:  intervals, prob\"\n",
      "New names:\n",
      "* sigma -> sigma...1\n",
      "* sigma -> sigma...2\n",
      "\n",
      "Warning message in confint.glmmTMB(x, method = tolower(conf.method), level = conf.level, :\n",
      "\"extra arguments ignored:  intervals, prob\"\n",
      "Warning message in confint.glmmTMB(x, parm = thpar, method = conf.method, level = conf.level, :\n",
      "\"extra arguments ignored:  intervals, prob\"\n",
      "New names:\n",
      "* sigma -> sigma...1\n",
      "* sigma -> sigma...2\n",
      "\n",
      "Warning message in confint.glmmTMB(x, method = tolower(conf.method), level = conf.level, :\n",
      "\"extra arguments ignored:  intervals, prob\"\n",
      "Warning message in confint.glmmTMB(x, parm = thpar, method = conf.method, level = conf.level, :\n",
      "\"extra arguments ignored:  intervals, prob\"\n",
      "New names:\n",
      "* sigma -> sigma...1\n",
      "* sigma -> sigma...2\n",
      "\n",
      "Warning message in confint.glmmTMB(x, method = tolower(conf.method), level = conf.level, :\n",
      "\"extra arguments ignored:  intervals, prob\"\n",
      "Warning message in confint.glmmTMB(x, parm = thpar, method = conf.method, level = conf.level, :\n",
      "\"extra arguments ignored:  intervals, prob\"\n",
      "New names:\n",
      "* sigma -> sigma...1\n",
      "* sigma -> sigma...2\n",
      "\n",
      "Warning message in confint.glmmTMB(x, method = tolower(conf.method), level = conf.level, :\n",
      "\"extra arguments ignored:  intervals, prob\"\n",
      "Warning message in confint.glmmTMB(x, parm = thpar, method = conf.method, level = conf.level, :\n",
      "\"extra arguments ignored:  intervals, prob\"\n",
      "New names:\n",
      "* sigma -> sigma...1\n",
      "* sigma -> sigma...2\n",
      "\n",
      "Warning message in confint.glmmTMB(x, method = tolower(conf.method), level = conf.level, :\n",
      "\"extra arguments ignored:  intervals, prob\"\n",
      "Warning message in confint.glmmTMB(x, parm = thpar, method = conf.method, level = conf.level, :\n",
      "\"extra arguments ignored:  intervals, prob\"\n",
      "New names:\n",
      "* sigma -> sigma...1\n",
      "* sigma -> sigma...2\n",
      "\n"
     ]
    },
    {
     "data": {
      "text/html": [
       "<strong>png:</strong> 2"
      ],
      "text/latex": [
       "\\textbf{png:} 2"
      ],
      "text/markdown": [
       "**png:** 2"
      ],
      "text/plain": [
       "png \n",
       "  2 "
      ]
     },
     "metadata": {},
     "output_type": "display_data"
    }
   ],
   "source": [
    "var = 'vertical_travel_distance'\n",
    "path_visual_ = file.path(path_visual, var)\n",
    "dir.create(path_visual_)\n",
    "dim(df)\n",
    "df_ = df\n",
    "dim(df_)\n",
    "#month: poisson - exponentate, other months: gaussian - dont exponentiate\n",
    "li_model = list()\n",
    "for (i in 1:10){\n",
    "    monthILBID = paste0('month',i)\n",
    "    print(monthILBID)\n",
    "    df__ = df_[df_$monthILB==monthILBID,]\n",
    "    #drop factors not existing in this subdataframe\n",
    "    df__$HenID = factor(df__$HenID) \n",
    "    df__$PenID = factor(df__$PenID)\n",
    "    df__$CLASS = factor(df__$CLASS) \n",
    "    #monthILB1-monthILB2: no KBF but nbr_h_per_day_sc, after KBF but no nbr_h_per_day_sc\n",
    "    if (monthILBID %in% c('month1')){\n",
    "        fit_nopenid = glmmTMB(vertical_travel_distance ~  CLASS+ Treatment + rescale(DIB) + rescale(weight_interp)+ rescale(nbr_h_per_day)+(1|HenID), \n",
    "                   data=df__, family=poisson, zi=~1+rescale(DIB))\n",
    "        fit_penid = glmmTMB(vertical_travel_distance ~  CLASS+ Treatment + rescale(DIB) + rescale(weight_interp)+ rescale(nbr_h_per_day)+(1|PenID/HenID), \n",
    "                   data=df__, family=poisson, zi=~1+rescale(DIB))}\n",
    "    else if (monthILBID %in% c('month2')){\n",
    "        fit_nopenid = glmmTMB(vertical_travel_distance ~  CLASS+ Treatment + rescale(DIB) + rescale(weight_interp)+ rescale(nbr_h_per_day)+(1|HenID), \n",
    "                   data=df__, family=gaussian)\n",
    "        fit_penid = glmmTMB(vertical_travel_distance ~  CLASS+ Treatment + rescale(DIB) + rescale(weight_interp)+ rescale(nbr_h_per_day)+(1|PenID/HenID), \n",
    "                   data=df__, family=gaussian)}\n",
    "    else{\n",
    "        fit_nopenid = glmmTMB(vertical_travel_distance ~  CLASS + Treatment + rescale(DIB) + rescale(weight_interp)+ rescale(KBF_interp) + (1|HenID), \n",
    "                   data=df__, family=gaussian)\n",
    "        fit_penid = glmmTMB(vertical_travel_distance ~  CLASS + Treatment + rescale(DIB) + rescale(weight_interp)+ rescale(KBF_interp) + (1|PenID/HenID), \n",
    "                   data=df__, family=gaussian)}    \n",
    "    print(anova(fit_nopenid,fit_penid))\n",
    "    p_value = anova(fit_nopenid,fit_penid)['Pr(>Chisq)']['fit_penid',]\n",
    "    if (p_value<0.05){\n",
    "        fit = fit_penid    \n",
    "    }else{\n",
    "        fit = fit_nopenid    \n",
    "    }\n",
    "    \n",
    "    li_model[[i]] = fit\n",
    "    write.csv(summary(fit)[['coefficients']]$cond, file=file.path(path_visual_, paste0(var,monthILBID,'.csv')) )\n",
    "    \n",
    "    set.seed(0)\n",
    "    if (monthILBID %in% c('month1')){\n",
    "        df_res = model_parameters(fit, bootstrap = TRUE, iterations = n_iter,effects = \"all\",exponentiate = TRUE)\n",
    "        write.csv(df_res, file=file.path(path_visual_, paste0(var, 'bootstrapPVAL',monthILBID,'.csv')) )}\n",
    "    else{\n",
    "        df_res = model_parameters(fit, bootstrap = TRUE, iterations = n_iter,effects = \"all\",exponentiate = FALSE)\n",
    "        write.csv(df_res, file=file.path(path_visual_, paste0(var, 'bootstrapPVAL',monthILBID,'.csv')) )\n",
    "    }\n",
    "    simulationOutput = simulateResiduals(fittedModel=fit)\n",
    "    tiff(file.path(path_visual_, paste0(var,'_SimRes1',monthILBID,'.tiff')), width=400, height=400)\n",
    "    print(plot(simulationOutput))\n",
    "    dev.off()\n",
    "    \n",
    "    tiff(file.path(path_visual_, paste0(var,'_SimRes2',monthILBID,'.tiff')), width=400, height=400)\n",
    "    print(plotResiduals(simulationOutput, form = df__$Treatment))\n",
    "    dev.off()\n",
    "    tab_model(fit, collapse.ci = TRUE, p.style = \"numeric_stars\", file=file.path(path_visual_, paste0(var,'_TableModel',monthILBID,'.doc')))\n",
    "}\n",
    "\n",
    "\n",
    "#save in case\n",
    "tab_model(li_model[1:5], collapse.ci = TRUE, p.style = \"numeric_stars\", file=file.path(path_visual_, paste0(var,'_TableModel1-5.doc')))\n",
    "tab_model(li_model[6:10], collapse.ci = TRUE, p.style = \"numeric_stars\", file=file.path(path_visual_, paste0(var,'_TableModel6-10.doc')))\n",
    "\n",
    "tiff(file.path(path_visual_, paste0(var,'_OFHCoeff_month1','.tiff')), width=400, height=400)\n",
    "plot_summs(li_model[1], coefs=c('TreatmentOFH'), colors='Rainbow', legend.title=var, exp=TRUE)\n",
    "dev.off()\n",
    "\n",
    "#to match the colors and modelID, put as model 1 the model2. then, we will remove it from the plot\n",
    "li_model_ = li_model\n",
    "li_model_[[1]] = li_model_[[2]]\n",
    "tiff(file.path(path_visual_, paste0(var,'_OFHCoeff_month2-10','.tiff')), width=400, height=400)\n",
    "plot_summs(li_model_, coefs=c('TreatmentOFH'), colors='Rainbow', legend.title=var, exp=FALSE)\n",
    "dev.off()"
   ]
  },
  {
   "cell_type": "markdown",
   "id": "36a2e151",
   "metadata": {},
   "source": [
    "# propindoor_duration_4_Zone_rs"
   ]
  },
  {
   "cell_type": "code",
   "execution_count": 18,
   "id": "32672b97",
   "metadata": {
    "scrolled": true
   },
   "outputs": [
    {
     "data": {
      "text/html": [
       "<style>\n",
       ".list-inline {list-style: none; margin:0; padding: 0}\n",
       ".list-inline>li {display: inline-block}\n",
       ".list-inline>li:not(:last-child)::after {content: \"\\00b7\"; padding: 0 .5ex}\n",
       "</style>\n",
       "<ol class=list-inline><li>37455</li><li>37</li></ol>\n"
      ],
      "text/latex": [
       "\\begin{enumerate*}\n",
       "\\item 37455\n",
       "\\item 37\n",
       "\\end{enumerate*}\n"
      ],
      "text/markdown": [
       "1. 37455\n",
       "2. 37\n",
       "\n",
       "\n"
      ],
      "text/plain": [
       "[1] 37455    37"
      ]
     },
     "metadata": {},
     "output_type": "display_data"
    },
    {
     "data": {
      "text/html": [
       "<style>\n",
       ".list-inline {list-style: none; margin:0; padding: 0}\n",
       ".list-inline>li {display: inline-block}\n",
       ".list-inline>li:not(:last-child)::after {content: \"\\00b7\"; padding: 0 .5ex}\n",
       "</style>\n",
       "<ol class=list-inline><li>33932</li><li>37</li></ol>\n"
      ],
      "text/latex": [
       "\\begin{enumerate*}\n",
       "\\item 33932\n",
       "\\item 37\n",
       "\\end{enumerate*}\n"
      ],
      "text/markdown": [
       "1. 33932\n",
       "2. 37\n",
       "\n",
       "\n"
      ],
      "text/plain": [
       "[1] 33932    37"
      ]
     },
     "metadata": {},
     "output_type": "display_data"
    },
    {
     "data": {
      "text/html": [
       "<style>\n",
       ".list-inline {list-style: none; margin:0; padding: 0}\n",
       ".list-inline>li {display: inline-block}\n",
       ".list-inline>li:not(:last-child)::after {content: \"\\00b7\"; padding: 0 .5ex}\n",
       "</style>\n",
       "<ol class=list-inline><li>33810</li><li>37</li></ol>\n"
      ],
      "text/latex": [
       "\\begin{enumerate*}\n",
       "\\item 33810\n",
       "\\item 37\n",
       "\\end{enumerate*}\n"
      ],
      "text/markdown": [
       "1. 33810\n",
       "2. 37\n",
       "\n",
       "\n"
      ],
      "text/plain": [
       "[1] 33810    37"
      ]
     },
     "metadata": {},
     "output_type": "display_data"
    },
    {
     "name": "stdout",
     "output_type": "stream",
     "text": [
      "[1] \"month2\"\n",
      "[1] 4053   37\n"
     ]
    },
    {
     "name": "stderr",
     "output_type": "stream",
     "text": [
      "Warning message in Matrix::sparseMatrix(dims = c(0, 0), i = integer(0), j = integer(0), :\n",
      "\"'giveCsparse' has been deprecated; setting 'repr = \"T\"' for you\"\n",
      "Warning message in Matrix::sparseMatrix(dims = c(0, 0), i = integer(0), j = integer(0), :\n",
      "\"'giveCsparse' has been deprecated; setting 'repr = \"T\"' for you\"\n",
      "Warning message in Matrix::sparseMatrix(dims = c(0, 0), i = integer(0), j = integer(0), :\n",
      "\"'giveCsparse' has been deprecated; setting 'repr = \"T\"' for you\"\n",
      "Warning message in Matrix::sparseMatrix(dims = c(0, 0), i = integer(0), j = integer(0), :\n",
      "\"'giveCsparse' has been deprecated; setting 'repr = \"T\"' for you\"\n",
      "Warning message in Matrix::sparseMatrix(dims = c(0, 0), i = integer(0), j = integer(0), :\n",
      "\"'giveCsparse' has been deprecated; setting 'repr = \"T\"' for you\"\n",
      "Warning message in Matrix::sparseMatrix(dims = c(0, 0), i = integer(0), j = integer(0), :\n",
      "\"'giveCsparse' has been deprecated; setting 'repr = \"T\"' for you\"\n"
     ]
    },
    {
     "name": "stdout",
     "output_type": "stream",
     "text": [
      "Data: df__\n",
      "Models:\n",
      "fit_nopenid: propindoor_duration_4_Zone_rs ~ CLASS + Treatment + rescale(DIB) + , zi=~0, disp=~1\n",
      "fit_nopenid:     rescale(weight_interp) + rescale(nbr_h_per_day) + (1 | HenID), zi=~0, disp=~1\n",
      "fit_penid: propindoor_duration_4_Zone_rs ~ CLASS + Treatment + rescale(DIB) + , zi=~0, disp=~1\n",
      "fit_penid:     rescale(weight_interp) + rescale(nbr_h_per_day) + (1 | PenID/HenID), zi=~0, disp=~1\n",
      "            Df    AIC    BIC logLik deviance  Chisq Chi Df Pr(>Chisq)\n",
      "fit_nopenid  9 -17385 -17329 8701.7   -17403                         \n",
      "fit_penid   10 -17384 -17320 8701.7   -17404 0.1513      1     0.6973\n"
     ]
    },
    {
     "name": "stderr",
     "output_type": "stream",
     "text": [
      "Warning message:\n",
      "\"Bootstrapping only returns fixed effects of the mixed model.\"\n",
      "Warning message in Matrix::sparseMatrix(dims = c(0, 0), i = integer(0), j = integer(0), :\n",
      "\"'giveCsparse' has been deprecated; setting 'repr = \"T\"' for you\"\n",
      "Warning message in Matrix::sparseMatrix(dims = c(0, 0), i = integer(0), j = integer(0), :\n",
      "\"'giveCsparse' has been deprecated; setting 'repr = \"T\"' for you\"\n",
      "Warning message in Matrix::sparseMatrix(dims = c(0, 0), i = integer(0), j = integer(0), :\n",
      "\"'giveCsparse' has been deprecated; setting 'repr = \"T\"' for you\"\n",
      "Warning message in Matrix::sparseMatrix(dims = c(0, 0), i = integer(0), j = integer(0), :\n",
      "\"'giveCsparse' has been deprecated; setting 'repr = \"T\"' for you\"\n",
      "Warning message in Matrix::sparseMatrix(dims = c(0, 0), i = integer(0), j = integer(0), :\n",
      "\"'giveCsparse' has been deprecated; setting 'repr = \"T\"' for you\"\n",
      "Warning message in Matrix::sparseMatrix(dims = c(0, 0), i = integer(0), j = integer(0), :\n",
      "\"'giveCsparse' has been deprecated; setting 'repr = \"T\"' for you\"\n"
     ]
    },
    {
     "name": "stdout",
     "output_type": "stream",
     "text": [
      "NULL\n",
      "NULL\n",
      "[1] \"month3\"\n",
      "[1] 4435   37\n"
     ]
    },
    {
     "name": "stderr",
     "output_type": "stream",
     "text": [
      "Warning message in Matrix::sparseMatrix(dims = c(0, 0), i = integer(0), j = integer(0), :\n",
      "\"'giveCsparse' has been deprecated; setting 'repr = \"T\"' for you\"\n",
      "Warning message in Matrix::sparseMatrix(dims = c(0, 0), i = integer(0), j = integer(0), :\n",
      "\"'giveCsparse' has been deprecated; setting 'repr = \"T\"' for you\"\n",
      "Warning message in Matrix::sparseMatrix(dims = c(0, 0), i = integer(0), j = integer(0), :\n",
      "\"'giveCsparse' has been deprecated; setting 'repr = \"T\"' for you\"\n",
      "Warning message in Matrix::sparseMatrix(dims = c(0, 0), i = integer(0), j = integer(0), :\n",
      "\"'giveCsparse' has been deprecated; setting 'repr = \"T\"' for you\"\n",
      "Warning message in Matrix::sparseMatrix(dims = c(0, 0), i = integer(0), j = integer(0), :\n",
      "\"'giveCsparse' has been deprecated; setting 'repr = \"T\"' for you\"\n",
      "Warning message in Matrix::sparseMatrix(dims = c(0, 0), i = integer(0), j = integer(0), :\n",
      "\"'giveCsparse' has been deprecated; setting 'repr = \"T\"' for you\"\n"
     ]
    },
    {
     "name": "stdout",
     "output_type": "stream",
     "text": [
      "Data: df__\n",
      "Models:\n",
      "fit_nopenid: propindoor_duration_4_Zone_rs ~ CLASS + Treatment + rescale(DIB) + , zi=~0, disp=~1\n",
      "fit_nopenid:     rescale(weight_interp) + rescale(KBF_interp) + (1 | HenID), zi=~0, disp=~1\n",
      "fit_penid: propindoor_duration_4_Zone_rs ~ CLASS + Treatment + rescale(DIB) + , zi=~0, disp=~1\n",
      "fit_penid:     rescale(weight_interp) + rescale(KBF_interp) + (1 | PenID/HenID), zi=~0, disp=~1\n",
      "            Df    AIC    BIC logLik deviance Chisq Chi Df Pr(>Chisq)\n",
      "fit_nopenid  9 -20996 -20938  10507   -21014                        \n",
      "fit_penid   10 -20994 -20930  10507   -21014     0      1          1\n"
     ]
    },
    {
     "name": "stderr",
     "output_type": "stream",
     "text": [
      "Warning message:\n",
      "\"Bootstrapping only returns fixed effects of the mixed model.\"\n",
      "Warning message in Matrix::sparseMatrix(dims = c(0, 0), i = integer(0), j = integer(0), :\n",
      "\"'giveCsparse' has been deprecated; setting 'repr = \"T\"' for you\"\n",
      "Warning message in Matrix::sparseMatrix(dims = c(0, 0), i = integer(0), j = integer(0), :\n",
      "\"'giveCsparse' has been deprecated; setting 'repr = \"T\"' for you\"\n",
      "Warning message in Matrix::sparseMatrix(dims = c(0, 0), i = integer(0), j = integer(0), :\n",
      "\"'giveCsparse' has been deprecated; setting 'repr = \"T\"' for you\"\n",
      "Warning message in Matrix::sparseMatrix(dims = c(0, 0), i = integer(0), j = integer(0), :\n",
      "\"'giveCsparse' has been deprecated; setting 'repr = \"T\"' for you\"\n",
      "Warning message in Matrix::sparseMatrix(dims = c(0, 0), i = integer(0), j = integer(0), :\n",
      "\"'giveCsparse' has been deprecated; setting 'repr = \"T\"' for you\"\n",
      "Warning message in Matrix::sparseMatrix(dims = c(0, 0), i = integer(0), j = integer(0), :\n",
      "\"'giveCsparse' has been deprecated; setting 'repr = \"T\"' for you\"\n"
     ]
    },
    {
     "name": "stdout",
     "output_type": "stream",
     "text": [
      "NULL\n",
      "NULL\n",
      "[1] \"month4\"\n",
      "[1] 3636   37\n"
     ]
    },
    {
     "name": "stderr",
     "output_type": "stream",
     "text": [
      "Warning message in Matrix::sparseMatrix(dims = c(0, 0), i = integer(0), j = integer(0), :\n",
      "\"'giveCsparse' has been deprecated; setting 'repr = \"T\"' for you\"\n",
      "Warning message in Matrix::sparseMatrix(dims = c(0, 0), i = integer(0), j = integer(0), :\n",
      "\"'giveCsparse' has been deprecated; setting 'repr = \"T\"' for you\"\n",
      "Warning message in Matrix::sparseMatrix(dims = c(0, 0), i = integer(0), j = integer(0), :\n",
      "\"'giveCsparse' has been deprecated; setting 'repr = \"T\"' for you\"\n",
      "Warning message in Matrix::sparseMatrix(dims = c(0, 0), i = integer(0), j = integer(0), :\n",
      "\"'giveCsparse' has been deprecated; setting 'repr = \"T\"' for you\"\n",
      "Warning message in Matrix::sparseMatrix(dims = c(0, 0), i = integer(0), j = integer(0), :\n",
      "\"'giveCsparse' has been deprecated; setting 'repr = \"T\"' for you\"\n",
      "Warning message in Matrix::sparseMatrix(dims = c(0, 0), i = integer(0), j = integer(0), :\n",
      "\"'giveCsparse' has been deprecated; setting 'repr = \"T\"' for you\"\n"
     ]
    },
    {
     "name": "stdout",
     "output_type": "stream",
     "text": [
      "Data: df__\n",
      "Models:\n",
      "fit_nopenid: propindoor_duration_4_Zone_rs ~ CLASS + Treatment + rescale(DIB) + , zi=~0, disp=~1\n",
      "fit_nopenid:     rescale(weight_interp) + rescale(KBF_interp) + (1 | HenID), zi=~0, disp=~1\n",
      "fit_penid: propindoor_duration_4_Zone_rs ~ CLASS + Treatment + rescale(DIB) + , zi=~0, disp=~1\n",
      "fit_penid:     rescale(weight_interp) + rescale(KBF_interp) + (1 | PenID/HenID), zi=~0, disp=~1\n",
      "            Df    AIC    BIC logLik deviance Chisq Chi Df Pr(>Chisq)\n",
      "fit_nopenid  9 -15530 -15474 7774.1   -15548                        \n",
      "fit_penid   10 -15528 -15466 7774.1   -15548     0      1          1\n"
     ]
    },
    {
     "name": "stderr",
     "output_type": "stream",
     "text": [
      "Warning message:\n",
      "\"Bootstrapping only returns fixed effects of the mixed model.\"\n",
      "Warning message in Matrix::sparseMatrix(dims = c(0, 0), i = integer(0), j = integer(0), :\n",
      "\"'giveCsparse' has been deprecated; setting 'repr = \"T\"' for you\"\n",
      "Warning message in Matrix::sparseMatrix(dims = c(0, 0), i = integer(0), j = integer(0), :\n",
      "\"'giveCsparse' has been deprecated; setting 'repr = \"T\"' for you\"\n",
      "Warning message in Matrix::sparseMatrix(dims = c(0, 0), i = integer(0), j = integer(0), :\n",
      "\"'giveCsparse' has been deprecated; setting 'repr = \"T\"' for you\"\n",
      "Warning message in Matrix::sparseMatrix(dims = c(0, 0), i = integer(0), j = integer(0), :\n",
      "\"'giveCsparse' has been deprecated; setting 'repr = \"T\"' for you\"\n",
      "Warning message in Matrix::sparseMatrix(dims = c(0, 0), i = integer(0), j = integer(0), :\n",
      "\"'giveCsparse' has been deprecated; setting 'repr = \"T\"' for you\"\n",
      "Warning message in Matrix::sparseMatrix(dims = c(0, 0), i = integer(0), j = integer(0), :\n",
      "\"'giveCsparse' has been deprecated; setting 'repr = \"T\"' for you\"\n"
     ]
    },
    {
     "name": "stdout",
     "output_type": "stream",
     "text": [
      "NULL\n",
      "NULL\n",
      "[1] \"month5\"\n",
      "[1] 3841   37\n"
     ]
    },
    {
     "name": "stderr",
     "output_type": "stream",
     "text": [
      "Warning message in Matrix::sparseMatrix(dims = c(0, 0), i = integer(0), j = integer(0), :\n",
      "\"'giveCsparse' has been deprecated; setting 'repr = \"T\"' for you\"\n",
      "Warning message in Matrix::sparseMatrix(dims = c(0, 0), i = integer(0), j = integer(0), :\n",
      "\"'giveCsparse' has been deprecated; setting 'repr = \"T\"' for you\"\n",
      "Warning message in Matrix::sparseMatrix(dims = c(0, 0), i = integer(0), j = integer(0), :\n",
      "\"'giveCsparse' has been deprecated; setting 'repr = \"T\"' for you\"\n",
      "Warning message in Matrix::sparseMatrix(dims = c(0, 0), i = integer(0), j = integer(0), :\n",
      "\"'giveCsparse' has been deprecated; setting 'repr = \"T\"' for you\"\n",
      "Warning message in Matrix::sparseMatrix(dims = c(0, 0), i = integer(0), j = integer(0), :\n",
      "\"'giveCsparse' has been deprecated; setting 'repr = \"T\"' for you\"\n",
      "Warning message in Matrix::sparseMatrix(dims = c(0, 0), i = integer(0), j = integer(0), :\n",
      "\"'giveCsparse' has been deprecated; setting 'repr = \"T\"' for you\"\n"
     ]
    },
    {
     "name": "stdout",
     "output_type": "stream",
     "text": [
      "Data: df__\n",
      "Models:\n",
      "fit_nopenid: propindoor_duration_4_Zone_rs ~ CLASS + Treatment + rescale(DIB) + , zi=~0, disp=~1\n",
      "fit_nopenid:     rescale(weight_interp) + rescale(KBF_interp) + (1 | HenID), zi=~0, disp=~1\n",
      "fit_penid: propindoor_duration_4_Zone_rs ~ CLASS + Treatment + rescale(DIB) + , zi=~0, disp=~1\n",
      "fit_penid:     rescale(weight_interp) + rescale(KBF_interp) + (1 | PenID/HenID), zi=~0, disp=~1\n",
      "            Df    AIC    BIC logLik deviance  Chisq Chi Df Pr(>Chisq)\n",
      "fit_nopenid  9 -17896 -17839 8956.8   -17914                         \n",
      "fit_penid   10 -17894 -17831 8956.8   -17914 0.0022      1     0.9625\n"
     ]
    },
    {
     "name": "stderr",
     "output_type": "stream",
     "text": [
      "Warning message:\n",
      "\"Bootstrapping only returns fixed effects of the mixed model.\"\n",
      "Warning message in Matrix::sparseMatrix(dims = c(0, 0), i = integer(0), j = integer(0), :\n",
      "\"'giveCsparse' has been deprecated; setting 'repr = \"T\"' for you\"\n",
      "Warning message in Matrix::sparseMatrix(dims = c(0, 0), i = integer(0), j = integer(0), :\n",
      "\"'giveCsparse' has been deprecated; setting 'repr = \"T\"' for you\"\n",
      "Warning message in Matrix::sparseMatrix(dims = c(0, 0), i = integer(0), j = integer(0), :\n",
      "\"'giveCsparse' has been deprecated; setting 'repr = \"T\"' for you\"\n",
      "Warning message in Matrix::sparseMatrix(dims = c(0, 0), i = integer(0), j = integer(0), :\n",
      "\"'giveCsparse' has been deprecated; setting 'repr = \"T\"' for you\"\n",
      "Warning message in Matrix::sparseMatrix(dims = c(0, 0), i = integer(0), j = integer(0), :\n",
      "\"'giveCsparse' has been deprecated; setting 'repr = \"T\"' for you\"\n",
      "Warning message in Matrix::sparseMatrix(dims = c(0, 0), i = integer(0), j = integer(0), :\n",
      "\"'giveCsparse' has been deprecated; setting 'repr = \"T\"' for you\"\n"
     ]
    },
    {
     "name": "stdout",
     "output_type": "stream",
     "text": [
      "NULL\n",
      "NULL\n",
      "[1] \"month6\"\n",
      "[1] 4181   37\n"
     ]
    },
    {
     "name": "stderr",
     "output_type": "stream",
     "text": [
      "Warning message in Matrix::sparseMatrix(dims = c(0, 0), i = integer(0), j = integer(0), :\n",
      "\"'giveCsparse' has been deprecated; setting 'repr = \"T\"' for you\"\n",
      "Warning message in Matrix::sparseMatrix(dims = c(0, 0), i = integer(0), j = integer(0), :\n",
      "\"'giveCsparse' has been deprecated; setting 'repr = \"T\"' for you\"\n",
      "Warning message in Matrix::sparseMatrix(dims = c(0, 0), i = integer(0), j = integer(0), :\n",
      "\"'giveCsparse' has been deprecated; setting 'repr = \"T\"' for you\"\n",
      "Warning message in Matrix::sparseMatrix(dims = c(0, 0), i = integer(0), j = integer(0), :\n",
      "\"'giveCsparse' has been deprecated; setting 'repr = \"T\"' for you\"\n",
      "Warning message in Matrix::sparseMatrix(dims = c(0, 0), i = integer(0), j = integer(0), :\n",
      "\"'giveCsparse' has been deprecated; setting 'repr = \"T\"' for you\"\n",
      "Warning message in Matrix::sparseMatrix(dims = c(0, 0), i = integer(0), j = integer(0), :\n",
      "\"'giveCsparse' has been deprecated; setting 'repr = \"T\"' for you\"\n"
     ]
    },
    {
     "name": "stdout",
     "output_type": "stream",
     "text": [
      "Data: df__\n",
      "Models:\n",
      "fit_nopenid: propindoor_duration_4_Zone_rs ~ CLASS + Treatment + rescale(DIB) + , zi=~0, disp=~1\n",
      "fit_nopenid:     rescale(weight_interp) + rescale(KBF_interp) + (1 | HenID), zi=~0, disp=~1\n",
      "fit_penid: propindoor_duration_4_Zone_rs ~ CLASS + Treatment + rescale(DIB) + , zi=~0, disp=~1\n",
      "fit_penid:     rescale(weight_interp) + rescale(KBF_interp) + (1 | PenID/HenID), zi=~0, disp=~1\n",
      "            Df    AIC    BIC logLik deviance  Chisq Chi Df Pr(>Chisq)\n",
      "fit_nopenid  9 -20540 -20483  10279   -20558                         \n",
      "fit_penid   10 -20538 -20475  10279   -20558 0.0106      1     0.9178\n"
     ]
    },
    {
     "name": "stderr",
     "output_type": "stream",
     "text": [
      "Warning message:\n",
      "\"Bootstrapping only returns fixed effects of the mixed model.\"\n",
      "Warning message in Matrix::sparseMatrix(dims = c(0, 0), i = integer(0), j = integer(0), :\n",
      "\"'giveCsparse' has been deprecated; setting 'repr = \"T\"' for you\"\n",
      "Warning message in Matrix::sparseMatrix(dims = c(0, 0), i = integer(0), j = integer(0), :\n",
      "\"'giveCsparse' has been deprecated; setting 'repr = \"T\"' for you\"\n",
      "Warning message in Matrix::sparseMatrix(dims = c(0, 0), i = integer(0), j = integer(0), :\n",
      "\"'giveCsparse' has been deprecated; setting 'repr = \"T\"' for you\"\n",
      "Warning message in Matrix::sparseMatrix(dims = c(0, 0), i = integer(0), j = integer(0), :\n",
      "\"'giveCsparse' has been deprecated; setting 'repr = \"T\"' for you\"\n",
      "Warning message in Matrix::sparseMatrix(dims = c(0, 0), i = integer(0), j = integer(0), :\n",
      "\"'giveCsparse' has been deprecated; setting 'repr = \"T\"' for you\"\n",
      "Warning message in Matrix::sparseMatrix(dims = c(0, 0), i = integer(0), j = integer(0), :\n",
      "\"'giveCsparse' has been deprecated; setting 'repr = \"T\"' for you\"\n"
     ]
    },
    {
     "name": "stdout",
     "output_type": "stream",
     "text": [
      "NULL\n",
      "NULL\n",
      "[1] \"month7\"\n",
      "[1] 4112   37\n"
     ]
    },
    {
     "name": "stderr",
     "output_type": "stream",
     "text": [
      "Warning message in Matrix::sparseMatrix(dims = c(0, 0), i = integer(0), j = integer(0), :\n",
      "\"'giveCsparse' has been deprecated; setting 'repr = \"T\"' for you\"\n",
      "Warning message in Matrix::sparseMatrix(dims = c(0, 0), i = integer(0), j = integer(0), :\n",
      "\"'giveCsparse' has been deprecated; setting 'repr = \"T\"' for you\"\n",
      "Warning message in Matrix::sparseMatrix(dims = c(0, 0), i = integer(0), j = integer(0), :\n",
      "\"'giveCsparse' has been deprecated; setting 'repr = \"T\"' for you\"\n",
      "Warning message in Matrix::sparseMatrix(dims = c(0, 0), i = integer(0), j = integer(0), :\n",
      "\"'giveCsparse' has been deprecated; setting 'repr = \"T\"' for you\"\n",
      "Warning message in Matrix::sparseMatrix(dims = c(0, 0), i = integer(0), j = integer(0), :\n",
      "\"'giveCsparse' has been deprecated; setting 'repr = \"T\"' for you\"\n",
      "Warning message in Matrix::sparseMatrix(dims = c(0, 0), i = integer(0), j = integer(0), :\n",
      "\"'giveCsparse' has been deprecated; setting 'repr = \"T\"' for you\"\n"
     ]
    },
    {
     "name": "stdout",
     "output_type": "stream",
     "text": [
      "Data: df__\n",
      "Models:\n",
      "fit_nopenid: propindoor_duration_4_Zone_rs ~ CLASS + Treatment + rescale(DIB) + , zi=~0, disp=~1\n",
      "fit_nopenid:     rescale(weight_interp) + rescale(KBF_interp) + (1 | HenID), zi=~0, disp=~1\n",
      "fit_penid: propindoor_duration_4_Zone_rs ~ CLASS + Treatment + rescale(DIB) + , zi=~0, disp=~1\n",
      "fit_penid:     rescale(weight_interp) + rescale(KBF_interp) + (1 | PenID/HenID), zi=~0, disp=~1\n",
      "            Df    AIC    BIC logLik deviance  Chisq Chi Df Pr(>Chisq)\n",
      "fit_nopenid  9 -19619 -19562 9818.4   -19637                         \n",
      "fit_penid   10 -19617 -19554 9818.5   -19637 0.0287      1     0.8654\n"
     ]
    },
    {
     "name": "stderr",
     "output_type": "stream",
     "text": [
      "Warning message:\n",
      "\"Bootstrapping only returns fixed effects of the mixed model.\"\n",
      "Warning message in Matrix::sparseMatrix(dims = c(0, 0), i = integer(0), j = integer(0), :\n",
      "\"'giveCsparse' has been deprecated; setting 'repr = \"T\"' for you\"\n",
      "Warning message in Matrix::sparseMatrix(dims = c(0, 0), i = integer(0), j = integer(0), :\n",
      "\"'giveCsparse' has been deprecated; setting 'repr = \"T\"' for you\"\n",
      "Warning message in Matrix::sparseMatrix(dims = c(0, 0), i = integer(0), j = integer(0), :\n",
      "\"'giveCsparse' has been deprecated; setting 'repr = \"T\"' for you\"\n",
      "Warning message in Matrix::sparseMatrix(dims = c(0, 0), i = integer(0), j = integer(0), :\n",
      "\"'giveCsparse' has been deprecated; setting 'repr = \"T\"' for you\"\n",
      "Warning message in Matrix::sparseMatrix(dims = c(0, 0), i = integer(0), j = integer(0), :\n",
      "\"'giveCsparse' has been deprecated; setting 'repr = \"T\"' for you\"\n",
      "Warning message in Matrix::sparseMatrix(dims = c(0, 0), i = integer(0), j = integer(0), :\n",
      "\"'giveCsparse' has been deprecated; setting 'repr = \"T\"' for you\"\n"
     ]
    },
    {
     "name": "stdout",
     "output_type": "stream",
     "text": [
      "NULL\n",
      "NULL\n",
      "[1] \"month8\"\n",
      "[1] 4552   37\n"
     ]
    },
    {
     "name": "stderr",
     "output_type": "stream",
     "text": [
      "Warning message in Matrix::sparseMatrix(dims = c(0, 0), i = integer(0), j = integer(0), :\n",
      "\"'giveCsparse' has been deprecated; setting 'repr = \"T\"' for you\"\n",
      "Warning message in Matrix::sparseMatrix(dims = c(0, 0), i = integer(0), j = integer(0), :\n",
      "\"'giveCsparse' has been deprecated; setting 'repr = \"T\"' for you\"\n",
      "Warning message in Matrix::sparseMatrix(dims = c(0, 0), i = integer(0), j = integer(0), :\n",
      "\"'giveCsparse' has been deprecated; setting 'repr = \"T\"' for you\"\n",
      "Warning message in Matrix::sparseMatrix(dims = c(0, 0), i = integer(0), j = integer(0), :\n",
      "\"'giveCsparse' has been deprecated; setting 'repr = \"T\"' for you\"\n",
      "Warning message in Matrix::sparseMatrix(dims = c(0, 0), i = integer(0), j = integer(0), :\n",
      "\"'giveCsparse' has been deprecated; setting 'repr = \"T\"' for you\"\n",
      "Warning message in Matrix::sparseMatrix(dims = c(0, 0), i = integer(0), j = integer(0), :\n",
      "\"'giveCsparse' has been deprecated; setting 'repr = \"T\"' for you\"\n"
     ]
    },
    {
     "name": "stdout",
     "output_type": "stream",
     "text": [
      "Data: df__\n",
      "Models:\n",
      "fit_nopenid: propindoor_duration_4_Zone_rs ~ CLASS + Treatment + rescale(DIB) + , zi=~0, disp=~1\n",
      "fit_nopenid:     rescale(weight_interp) + rescale(KBF_interp) + (1 | HenID), zi=~0, disp=~1\n",
      "fit_penid: propindoor_duration_4_Zone_rs ~ CLASS + Treatment + rescale(DIB) + , zi=~0, disp=~1\n",
      "fit_penid:     rescale(weight_interp) + rescale(KBF_interp) + (1 | PenID/HenID), zi=~0, disp=~1\n",
      "            Df    AIC    BIC logLik deviance  Chisq Chi Df Pr(>Chisq)\n",
      "fit_nopenid  9 -22234 -22176  11126   -22252                         \n",
      "fit_penid   10 -22232 -22168  11126   -22252 0.0065      1     0.9357\n"
     ]
    },
    {
     "name": "stderr",
     "output_type": "stream",
     "text": [
      "Warning message:\n",
      "\"Bootstrapping only returns fixed effects of the mixed model.\"\n",
      "Warning message in Matrix::sparseMatrix(dims = c(0, 0), i = integer(0), j = integer(0), :\n",
      "\"'giveCsparse' has been deprecated; setting 'repr = \"T\"' for you\"\n",
      "Warning message in Matrix::sparseMatrix(dims = c(0, 0), i = integer(0), j = integer(0), :\n",
      "\"'giveCsparse' has been deprecated; setting 'repr = \"T\"' for you\"\n",
      "Warning message in Matrix::sparseMatrix(dims = c(0, 0), i = integer(0), j = integer(0), :\n",
      "\"'giveCsparse' has been deprecated; setting 'repr = \"T\"' for you\"\n",
      "Warning message in Matrix::sparseMatrix(dims = c(0, 0), i = integer(0), j = integer(0), :\n",
      "\"'giveCsparse' has been deprecated; setting 'repr = \"T\"' for you\"\n",
      "Warning message in Matrix::sparseMatrix(dims = c(0, 0), i = integer(0), j = integer(0), :\n",
      "\"'giveCsparse' has been deprecated; setting 'repr = \"T\"' for you\"\n",
      "Warning message in Matrix::sparseMatrix(dims = c(0, 0), i = integer(0), j = integer(0), :\n",
      "\"'giveCsparse' has been deprecated; setting 'repr = \"T\"' for you\"\n"
     ]
    },
    {
     "name": "stdout",
     "output_type": "stream",
     "text": [
      "NULL\n",
      "NULL\n",
      "[1] \"month9\"\n",
      "[1] 1856   37\n"
     ]
    },
    {
     "name": "stderr",
     "output_type": "stream",
     "text": [
      "Warning message in Matrix::sparseMatrix(dims = c(0, 0), i = integer(0), j = integer(0), :\n",
      "\"'giveCsparse' has been deprecated; setting 'repr = \"T\"' for you\"\n",
      "Warning message in Matrix::sparseMatrix(dims = c(0, 0), i = integer(0), j = integer(0), :\n",
      "\"'giveCsparse' has been deprecated; setting 'repr = \"T\"' for you\"\n",
      "Warning message in Matrix::sparseMatrix(dims = c(0, 0), i = integer(0), j = integer(0), :\n",
      "\"'giveCsparse' has been deprecated; setting 'repr = \"T\"' for you\"\n",
      "Warning message in Matrix::sparseMatrix(dims = c(0, 0), i = integer(0), j = integer(0), :\n",
      "\"'giveCsparse' has been deprecated; setting 'repr = \"T\"' for you\"\n",
      "Warning message in Matrix::sparseMatrix(dims = c(0, 0), i = integer(0), j = integer(0), :\n",
      "\"'giveCsparse' has been deprecated; setting 'repr = \"T\"' for you\"\n",
      "Warning message in Matrix::sparseMatrix(dims = c(0, 0), i = integer(0), j = integer(0), :\n",
      "\"'giveCsparse' has been deprecated; setting 'repr = \"T\"' for you\"\n"
     ]
    },
    {
     "name": "stdout",
     "output_type": "stream",
     "text": [
      "Data: df__\n",
      "Models:\n",
      "fit_nopenid: propindoor_duration_4_Zone_rs ~ CLASS + Treatment + rescale(DIB) + , zi=~0, disp=~1\n",
      "fit_nopenid:     rescale(weight_interp) + rescale(KBF_interp) + (1 | HenID), zi=~0, disp=~1\n",
      "fit_penid: propindoor_duration_4_Zone_rs ~ CLASS + Treatment + rescale(DIB) + , zi=~0, disp=~1\n",
      "fit_penid:     rescale(weight_interp) + rescale(KBF_interp) + (1 | PenID/HenID), zi=~0, disp=~1\n",
      "            Df   AIC     BIC logLik deviance Chisq Chi Df Pr(>Chisq)\n",
      "fit_nopenid  9 -9120 -9070.3   4569    -9138                        \n",
      "fit_penid   10 -9118 -9062.8   4569    -9138     0      1          1\n"
     ]
    },
    {
     "name": "stderr",
     "output_type": "stream",
     "text": [
      "Warning message:\n",
      "\"Bootstrapping only returns fixed effects of the mixed model.\"\n",
      "Warning message in Matrix::sparseMatrix(dims = c(0, 0), i = integer(0), j = integer(0), :\n",
      "\"'giveCsparse' has been deprecated; setting 'repr = \"T\"' for you\"\n",
      "Warning message in Matrix::sparseMatrix(dims = c(0, 0), i = integer(0), j = integer(0), :\n",
      "\"'giveCsparse' has been deprecated; setting 'repr = \"T\"' for you\"\n",
      "Warning message in Matrix::sparseMatrix(dims = c(0, 0), i = integer(0), j = integer(0), :\n",
      "\"'giveCsparse' has been deprecated; setting 'repr = \"T\"' for you\"\n",
      "Warning message in Matrix::sparseMatrix(dims = c(0, 0), i = integer(0), j = integer(0), :\n",
      "\"'giveCsparse' has been deprecated; setting 'repr = \"T\"' for you\"\n",
      "Warning message in Matrix::sparseMatrix(dims = c(0, 0), i = integer(0), j = integer(0), :\n",
      "\"'giveCsparse' has been deprecated; setting 'repr = \"T\"' for you\"\n",
      "Warning message in Matrix::sparseMatrix(dims = c(0, 0), i = integer(0), j = integer(0), :\n",
      "\"'giveCsparse' has been deprecated; setting 'repr = \"T\"' for you\"\n"
     ]
    },
    {
     "name": "stdout",
     "output_type": "stream",
     "text": [
      "NULL\n",
      "NULL\n",
      "[1] \"month10\"\n",
      "[1] 3144   37\n"
     ]
    },
    {
     "name": "stderr",
     "output_type": "stream",
     "text": [
      "Warning message in Matrix::sparseMatrix(dims = c(0, 0), i = integer(0), j = integer(0), :\n",
      "\"'giveCsparse' has been deprecated; setting 'repr = \"T\"' for you\"\n",
      "Warning message in Matrix::sparseMatrix(dims = c(0, 0), i = integer(0), j = integer(0), :\n",
      "\"'giveCsparse' has been deprecated; setting 'repr = \"T\"' for you\"\n",
      "Warning message in Matrix::sparseMatrix(dims = c(0, 0), i = integer(0), j = integer(0), :\n",
      "\"'giveCsparse' has been deprecated; setting 'repr = \"T\"' for you\"\n",
      "Warning message in Matrix::sparseMatrix(dims = c(0, 0), i = integer(0), j = integer(0), :\n",
      "\"'giveCsparse' has been deprecated; setting 'repr = \"T\"' for you\"\n",
      "Warning message in Matrix::sparseMatrix(dims = c(0, 0), i = integer(0), j = integer(0), :\n",
      "\"'giveCsparse' has been deprecated; setting 'repr = \"T\"' for you\"\n",
      "Warning message in Matrix::sparseMatrix(dims = c(0, 0), i = integer(0), j = integer(0), :\n",
      "\"'giveCsparse' has been deprecated; setting 'repr = \"T\"' for you\"\n"
     ]
    },
    {
     "name": "stdout",
     "output_type": "stream",
     "text": [
      "Data: df__\n",
      "Models:\n",
      "fit_nopenid: propindoor_duration_4_Zone_rs ~ CLASS + Treatment + rescale(DIB) + , zi=~0, disp=~1\n",
      "fit_nopenid:     rescale(weight_interp) + rescale(KBF_interp) + (1 | HenID), zi=~0, disp=~1\n",
      "fit_penid: propindoor_duration_4_Zone_rs ~ CLASS + Treatment + rescale(DIB) + , zi=~0, disp=~1\n",
      "fit_penid:     rescale(weight_interp) + rescale(KBF_interp) + (1 | PenID/HenID), zi=~0, disp=~1\n",
      "            Df    AIC    BIC logLik deviance Chisq Chi Df Pr(>Chisq)\n",
      "fit_nopenid  9 -14751 -14696 7384.4   -14769                        \n",
      "fit_penid   10 -14749 -14688 7384.4   -14769     0      1          1\n"
     ]
    },
    {
     "name": "stderr",
     "output_type": "stream",
     "text": [
      "Warning message:\n",
      "\"Bootstrapping only returns fixed effects of the mixed model.\"\n",
      "Warning message in Matrix::sparseMatrix(dims = c(0, 0), i = integer(0), j = integer(0), :\n",
      "\"'giveCsparse' has been deprecated; setting 'repr = \"T\"' for you\"\n",
      "Warning message in Matrix::sparseMatrix(dims = c(0, 0), i = integer(0), j = integer(0), :\n",
      "\"'giveCsparse' has been deprecated; setting 'repr = \"T\"' for you\"\n",
      "Warning message in Matrix::sparseMatrix(dims = c(0, 0), i = integer(0), j = integer(0), :\n",
      "\"'giveCsparse' has been deprecated; setting 'repr = \"T\"' for you\"\n",
      "Warning message in Matrix::sparseMatrix(dims = c(0, 0), i = integer(0), j = integer(0), :\n",
      "\"'giveCsparse' has been deprecated; setting 'repr = \"T\"' for you\"\n",
      "Warning message in Matrix::sparseMatrix(dims = c(0, 0), i = integer(0), j = integer(0), :\n",
      "\"'giveCsparse' has been deprecated; setting 'repr = \"T\"' for you\"\n",
      "Warning message in Matrix::sparseMatrix(dims = c(0, 0), i = integer(0), j = integer(0), :\n",
      "\"'giveCsparse' has been deprecated; setting 'repr = \"T\"' for you\"\n"
     ]
    },
    {
     "name": "stdout",
     "output_type": "stream",
     "text": [
      "NULL\n",
      "NULL\n"
     ]
    },
    {
     "name": "stderr",
     "output_type": "stream",
     "text": [
      "Warning message in confint.glmmTMB(x, method = tolower(conf.method), level = conf.level, :\n",
      "\"extra arguments ignored:  intervals, prob\"\n",
      "Warning message in confint.glmmTMB(x, parm = thpar, method = conf.method, level = conf.level, :\n",
      "\"extra arguments ignored:  intervals, prob\"\n",
      "Warning message in confint.glmmTMB(x, method = tolower(conf.method), level = conf.level, :\n",
      "\"extra arguments ignored:  intervals, prob\"\n",
      "Warning message in confint.glmmTMB(x, parm = thpar, method = conf.method, level = conf.level, :\n",
      "\"extra arguments ignored:  intervals, prob\"\n",
      "Warning message in confint.glmmTMB(x, method = tolower(conf.method), level = conf.level, :\n",
      "\"extra arguments ignored:  intervals, prob\"\n",
      "Warning message in confint.glmmTMB(x, parm = thpar, method = conf.method, level = conf.level, :\n",
      "\"extra arguments ignored:  intervals, prob\"\n",
      "Warning message in confint.glmmTMB(x, method = tolower(conf.method), level = conf.level, :\n",
      "\"extra arguments ignored:  intervals, prob\"\n",
      "Warning message in confint.glmmTMB(x, parm = thpar, method = conf.method, level = conf.level, :\n",
      "\"extra arguments ignored:  intervals, prob\"\n",
      "Warning message in confint.glmmTMB(x, method = tolower(conf.method), level = conf.level, :\n",
      "\"extra arguments ignored:  intervals, prob\"\n",
      "Warning message in confint.glmmTMB(x, parm = thpar, method = conf.method, level = conf.level, :\n",
      "\"extra arguments ignored:  intervals, prob\"\n",
      "Warning message in confint.glmmTMB(x, method = tolower(conf.method), level = conf.level, :\n",
      "\"extra arguments ignored:  intervals, prob\"\n",
      "Warning message in confint.glmmTMB(x, parm = thpar, method = conf.method, level = conf.level, :\n",
      "\"extra arguments ignored:  intervals, prob\"\n",
      "Warning message in confint.glmmTMB(x, method = tolower(conf.method), level = conf.level, :\n",
      "\"extra arguments ignored:  intervals, prob\"\n",
      "Warning message in confint.glmmTMB(x, parm = thpar, method = conf.method, level = conf.level, :\n",
      "\"extra arguments ignored:  intervals, prob\"\n",
      "Warning message in confint.glmmTMB(x, method = tolower(conf.method), level = conf.level, :\n",
      "\"extra arguments ignored:  intervals, prob\"\n",
      "Warning message in confint.glmmTMB(x, parm = thpar, method = conf.method, level = conf.level, :\n",
      "\"extra arguments ignored:  intervals, prob\"\n",
      "Warning message in confint.glmmTMB(x, method = tolower(conf.method), level = conf.level, :\n",
      "\"extra arguments ignored:  intervals, prob\"\n",
      "Warning message in confint.glmmTMB(x, parm = thpar, method = conf.method, level = conf.level, :\n",
      "\"extra arguments ignored:  intervals, prob\"\n",
      "Warning message in confint.glmmTMB(x, method = tolower(conf.method), level = conf.level, :\n",
      "\"extra arguments ignored:  intervals, prob\"\n",
      "Warning message in confint.glmmTMB(x, parm = thpar, method = conf.method, level = conf.level, :\n",
      "\"extra arguments ignored:  intervals, prob\"\n"
     ]
    },
    {
     "data": {
      "text/html": [
       "<strong>png:</strong> 2"
      ],
      "text/latex": [
       "\\textbf{png:} 2"
      ],
      "text/markdown": [
       "**png:** 2"
      ],
      "text/plain": [
       "png \n",
       "  2 "
      ]
     },
     "metadata": {},
     "output_type": "display_data"
    },
    {
     "name": "stderr",
     "output_type": "stream",
     "text": [
      "Warning message:\n",
      "\"Following potential variables could not be found in the data: DIB ,weight_interp\n",
      "  ,nbr_h_per_day\"\n",
      "Warning message:\n",
      "\"Following potential variables could not be found in the data: DIB ,weight_interp\n",
      "  ,KBF_interp\"\n",
      "Warning message:\n",
      "\"Following potential variables could not be found in the data: DIB ,weight_interp\n",
      "  ,KBF_interp\"\n",
      "Warning message:\n",
      "\"Following potential variables could not be found in the data: DIB ,weight_interp\n",
      "  ,KBF_interp\"\n",
      "Warning message:\n",
      "\"Following potential variables could not be found in the data: DIB ,weight_interp\n",
      "  ,nbr_h_per_day\"\n",
      "Warning message:\n",
      "\"Following potential variables could not be found in the data: DIB ,weight_interp\n",
      "  ,KBF_interp\"\n",
      "Warning message:\n",
      "\"Following potential variables could not be found in the data: DIB ,weight_interp\n",
      "  ,KBF_interp\"\n",
      "Warning message:\n",
      "\"Following potential variables could not be found in the data: DIB ,weight_interp\n",
      "  ,KBF_interp\"\n",
      "Warning message:\n",
      "\"Following potential variables could not be found in the data: DIB ,weight_interp\n",
      "  ,nbr_h_per_day\"\n",
      "Warning message:\n",
      "\"Following potential variables could not be found in the data: DIB ,weight_interp\n",
      "  ,KBF_interp\"\n",
      "Warning message:\n",
      "\"Following potential variables could not be found in the data: DIB ,weight_interp\n",
      "  ,KBF_interp\"\n",
      "Warning message:\n",
      "\"Following potential variables could not be found in the data: DIB ,weight_interp\n",
      "  ,KBF_interp\"\n",
      "Warning message:\n",
      "\"Following potential variables could not be found in the data: DIB ,weight_interp\n",
      "  ,KBF_interp\"\n",
      "Warning message:\n",
      "\"Following potential variables could not be found in the data: DIB ,weight_interp\n",
      "  ,KBF_interp\"\n",
      "Warning message:\n",
      "\"Following potential variables could not be found in the data: DIB ,weight_interp\n",
      "  ,KBF_interp\"\n",
      "Warning message:\n",
      "\"Following potential variables could not be found in the data: DIB ,weight_interp\n",
      "  ,KBF_interp\"\n",
      "Warning message:\n",
      "\"Following potential variables could not be found in the data: DIB ,weight_interp\n",
      "  ,KBF_interp\"\n",
      "Warning message:\n",
      "\"Following potential variables could not be found in the data: DIB ,weight_interp\n",
      "  ,KBF_interp\"\n",
      "Warning message:\n",
      "\"Following potential variables could not be found in the data: DIB ,weight_interp\n",
      "  ,KBF_interp\"\n",
      "Warning message:\n",
      "\"Following potential variables could not be found in the data: DIB ,weight_interp\n",
      "  ,KBF_interp\"\n",
      "Warning message:\n",
      "\"Following potential variables could not be found in the data: DIB ,weight_interp\n",
      "  ,KBF_interp\"\n",
      "Warning message:\n",
      "\"Following potential variables could not be found in the data: DIB ,weight_interp\n",
      "  ,KBF_interp\"\n",
      "Warning message:\n",
      "\"Following potential variables could not be found in the data: DIB ,weight_interp\n",
      "  ,KBF_interp\"\n",
      "Warning message:\n",
      "\"Following potential variables could not be found in the data: DIB ,weight_interp\n",
      "  ,KBF_interp\"\n"
     ]
    }
   ],
   "source": [
    "var = 'propindoor_duration_4_Zone_rs'\n",
    "path_visual_ = file.path(path_visual, var)\n",
    "dir.create(path_visual_)\n",
    "dim(df)\n",
    "#as until then they only use it as a transitional zone\n",
    "df_ = subset(df, !is.na(propindoor_duration_4_Zone_rs))\n",
    "dim(df_)\n",
    "df_ = df_[df_['HenID']!='hen_199', ]\n",
    "dim(df_)\n",
    "li_model = list()\n",
    "for (i in 2:10){\n",
    "    monthILBID = paste0('month',i)\n",
    "    print(monthILBID)\n",
    "    df__ = df_[df_$monthILB==monthILBID,]\n",
    "    print(dim(df__))\n",
    "    #drop factors not existing in this subdataframe\n",
    "    df__$HenID = factor(df__$HenID) \n",
    "    df__$PenID = factor(df__$PenID)\n",
    "    df__$CLASS = factor(df__$CLASS) \n",
    "    #monthILB1-monthILB2: no KBF but nbr_h_per_day_sc, after KBF but no nbr_h_per_day_sc\n",
    "    if (monthILBID %in% c('month1', 'month2')){\n",
    "        fit_nopenid = glmmTMB(propindoor_duration_4_Zone_rs ~  CLASS+ Treatment + rescale(DIB) + rescale(weight_interp)+ rescale(nbr_h_per_day)+(1|HenID), \n",
    "                   data=df__, family=beta_family(link=\"logit\"))\n",
    "        fit_penid = glmmTMB(propindoor_duration_4_Zone_rs ~  CLASS+ Treatment + rescale(DIB) + rescale(weight_interp)+ rescale(nbr_h_per_day)+(1|PenID/HenID), \n",
    "                   data=df__, family=beta_family(link=\"logit\"))}\n",
    "    else{\n",
    "        fit_nopenid = glmmTMB(propindoor_duration_4_Zone_rs ~  CLASS + Treatment + rescale(DIB) +rescale(weight_interp)+ rescale(KBF_interp) + (1|HenID), \n",
    "                   data=df__, family=beta_family(link=\"logit\"))\n",
    "        fit_penid = glmmTMB(propindoor_duration_4_Zone_rs ~  CLASS + Treatment + rescale(DIB) +rescale(weight_interp)+ rescale(KBF_interp) + (1|PenID/HenID), \n",
    "                   data=df__, family=beta_family(link=\"logit\"))}\n",
    "    print(anova(fit_nopenid,fit_penid))\n",
    "    p_value = anova(fit_nopenid,fit_penid)['Pr(>Chisq)']['fit_penid',]\n",
    "    if (p_value<0.05){\n",
    "        fit = fit_penid    \n",
    "    }else{\n",
    "        fit = fit_nopenid    \n",
    "    }\n",
    "    \n",
    "    li_model[[i]] = fit\n",
    "    write.csv(summary(fit)['coefficients']$coefficients$cond, file=file.path(path_visual_, paste0(var,monthILBID,'.csv')) )\n",
    "    \n",
    "    set.seed(0)\n",
    "        \n",
    "    df_res = model_parameters(fit, bootstrap = TRUE, iterations = n_iter,effects = \"all\",exponentiate = TRUE)\n",
    "    write.csv(df_res, file=file.path(path_visual_, paste0(var, 'bootstrapPVAL',monthILBID,'.csv')) )\n",
    "\n",
    "    simulationOutput = simulateResiduals(fittedModel=fit)\n",
    "    tiff(file.path(path_visual_, paste0(var,'_SimRes1',monthILBID,'.tiff')), width=400, height=400)\n",
    "    print(plot(simulationOutput))\n",
    "    dev.off()\n",
    "    \n",
    "    tiff(file.path(path_visual_, paste0(var,'_SimRes2',monthILBID,'.tiff')), width=400, height=400)\n",
    "    print(plotResiduals(simulationOutput, form = df__$Treatment))\n",
    "    dev.off()\n",
    "    tab_model(fit, collapse.ci = TRUE, p.style = \"numeric_stars\", file=file.path(path_visual_, paste0(var,'_TableModel',monthILBID,'.doc')))\n",
    "\n",
    "}\n",
    "\n",
    "#to match the colors and modelID, put as model 1 the model2. then, we will remove it\n",
    "li_model[[1]] = li_model[[2]]\n",
    "\n",
    "tiff(file.path(path_visual_, paste0(var,'_OFHCoeff','.tiff')), width=400, height=400)\n",
    "plot_summs(li_model[1:10], coefs=c('TreatmentOFH'), colors='Rainbow', legend.title=var, exp=TRUE)\n",
    "dev.off()\n",
    "tab_model(li_model[2:5], collapse.ci = TRUE, p.style = \"numeric_stars\", file=file.path(path_visual_, paste0(var,'_TableModel1-5.doc')))\n",
    "tab_model(li_model[6:10], collapse.ci = TRUE, p.style = \"numeric_stars\", file=file.path(path_visual_, paste0(var,'_TableModel6-10.doc')))"
   ]
  },
  {
   "cell_type": "markdown",
   "id": "915fce89",
   "metadata": {},
   "source": [
    "# WG"
   ]
  },
  {
   "cell_type": "code",
   "execution_count": 12,
   "id": "90d1b2e4",
   "metadata": {
    "scrolled": true
   },
   "outputs": [
    {
     "data": {
      "text/html": [
       "<style>\n",
       ".list-inline {list-style: none; margin:0; padding: 0}\n",
       ".list-inline>li {display: inline-block}\n",
       ".list-inline>li:not(:last-child)::after {content: \"\\00b7\"; padding: 0 .5ex}\n",
       "</style>\n",
       "<ol class=list-inline><li>37455</li><li>36</li></ol>\n"
      ],
      "text/latex": [
       "\\begin{enumerate*}\n",
       "\\item 37455\n",
       "\\item 36\n",
       "\\end{enumerate*}\n"
      ],
      "text/markdown": [
       "1. 37455\n",
       "2. 36\n",
       "\n",
       "\n"
      ],
      "text/plain": [
       "[1] 37455    36"
      ]
     },
     "metadata": {},
     "output_type": "display_data"
    },
    {
     "data": {
      "text/html": [
       "<style>\n",
       ".list-inline {list-style: none; margin:0; padding: 0}\n",
       ".list-inline>li {display: inline-block}\n",
       ".list-inline>li:not(:last-child)::after {content: \"\\00b7\"; padding: 0 .5ex}\n",
       "</style>\n",
       "<ol class=list-inline><li>35847</li><li>36</li></ol>\n"
      ],
      "text/latex": [
       "\\begin{enumerate*}\n",
       "\\item 35847\n",
       "\\item 36\n",
       "\\end{enumerate*}\n"
      ],
      "text/markdown": [
       "1. 35847\n",
       "2. 36\n",
       "\n",
       "\n"
      ],
      "text/plain": [
       "[1] 35847    36"
      ]
     },
     "metadata": {},
     "output_type": "display_data"
    },
    {
     "data": {
      "text/html": [
       "<style>\n",
       ".list-inline {list-style: none; margin:0; padding: 0}\n",
       ".list-inline>li {display: inline-block}\n",
       ".list-inline>li:not(:last-child)::after {content: \"\\00b7\"; padding: 0 .5ex}\n",
       "</style>\n",
       "<ol class=list-inline><li>35533</li><li>36</li></ol>\n"
      ],
      "text/latex": [
       "\\begin{enumerate*}\n",
       "\\item 35533\n",
       "\\item 36\n",
       "\\end{enumerate*}\n"
      ],
      "text/markdown": [
       "1. 35533\n",
       "2. 36\n",
       "\n",
       "\n"
      ],
      "text/plain": [
       "[1] 35533    36"
      ]
     },
     "metadata": {},
     "output_type": "display_data"
    },
    {
     "name": "stdout",
     "output_type": "stream",
     "text": [
      "[1] \"month1\"\n"
     ]
    },
    {
     "name": "stderr",
     "output_type": "stream",
     "text": [
      "Warning message in Matrix::sparseMatrix(dims = c(0, 0), i = integer(0), j = integer(0), :\n",
      "\"'giveCsparse' has been deprecated; setting 'repr = \"T\"' for you\"\n",
      "Warning message in Matrix::sparseMatrix(dims = c(0, 0), i = integer(0), j = integer(0), :\n",
      "\"'giveCsparse' has been deprecated; setting 'repr = \"T\"' for you\"\n",
      "Warning message in Matrix::sparseMatrix(dims = c(0, 0), i = integer(0), j = integer(0), :\n",
      "\"'giveCsparse' has been deprecated; setting 'repr = \"T\"' for you\"\n",
      "Warning message in Matrix::sparseMatrix(dims = c(0, 0), i = integer(0), j = integer(0), :\n",
      "\"'giveCsparse' has been deprecated; setting 'repr = \"T\"' for you\"\n",
      "Warning message in Matrix::sparseMatrix(dims = c(0, 0), i = integer(0), j = integer(0), :\n",
      "\"'giveCsparse' has been deprecated; setting 'repr = \"T\"' for you\"\n",
      "Warning message in Matrix::sparseMatrix(dims = c(0, 0), i = integer(0), j = integer(0), :\n",
      "\"'giveCsparse' has been deprecated; setting 'repr = \"T\"' for you\"\n"
     ]
    },
    {
     "name": "stdout",
     "output_type": "stream",
     "text": [
      "Data: df__\n",
      "Models:\n",
      "fit_nopenid: WentinWG ~ CLASS + Treatment + rescale(DIB) + rescale(weight_interp) + , zi=~0, disp=~1\n",
      "fit_nopenid:     rescale(nbr_h_per_day) + rescale(nbr_h_WGopen) + rescale(temperature_C_avg) + , zi=~0, disp=~1\n",
      "fit_nopenid:     (1 | HenID), zi=~0, disp=~1\n",
      "fit_penid: WentinWG ~ CLASS + Treatment + rescale(DIB) + rescale(weight_interp) + , zi=~0, disp=~1\n",
      "fit_penid:     rescale(nbr_h_per_day) + rescale(nbr_h_WGopen) + rescale(temperature_C_avg) + , zi=~0, disp=~1\n",
      "fit_penid:     (1 | PenID/HenID), zi=~0, disp=~1\n",
      "            Df  AIC    BIC  logLik deviance Chisq Chi Df Pr(>Chisq)\n",
      "fit_nopenid 10 2323 2381.9 -1151.5     2303                        \n",
      "fit_penid   11 2325 2389.8 -1151.5     2303     0      1          1\n"
     ]
    },
    {
     "name": "stderr",
     "output_type": "stream",
     "text": [
      "Warning message:\n",
      "\"Bootstrapping only returns fixed effects of the mixed model.\"\n",
      "Warning message in Matrix::sparseMatrix(dims = c(0, 0), i = integer(0), j = integer(0), :\n",
      "\"'giveCsparse' has been deprecated; setting 'repr = \"T\"' for you\"\n",
      "Warning message in Matrix::sparseMatrix(dims = c(0, 0), i = integer(0), j = integer(0), :\n",
      "\"'giveCsparse' has been deprecated; setting 'repr = \"T\"' for you\"\n",
      "Warning message in Matrix::sparseMatrix(dims = c(0, 0), i = integer(0), j = integer(0), :\n",
      "\"'giveCsparse' has been deprecated; setting 'repr = \"T\"' for you\"\n",
      "Warning message in Matrix::sparseMatrix(dims = c(0, 0), i = integer(0), j = integer(0), :\n",
      "\"'giveCsparse' has been deprecated; setting 'repr = \"T\"' for you\"\n",
      "Warning message in Matrix::sparseMatrix(dims = c(0, 0), i = integer(0), j = integer(0), :\n",
      "\"'giveCsparse' has been deprecated; setting 'repr = \"T\"' for you\"\n",
      "Warning message in Matrix::sparseMatrix(dims = c(0, 0), i = integer(0), j = integer(0), :\n",
      "\"'giveCsparse' has been deprecated; setting 'repr = \"T\"' for you\"\n"
     ]
    },
    {
     "name": "stdout",
     "output_type": "stream",
     "text": [
      "NULL\n",
      "NULL\n",
      "[1] \"month2\"\n"
     ]
    },
    {
     "name": "stderr",
     "output_type": "stream",
     "text": [
      "Warning message in Matrix::sparseMatrix(dims = c(0, 0), i = integer(0), j = integer(0), :\n",
      "\"'giveCsparse' has been deprecated; setting 'repr = \"T\"' for you\"\n",
      "Warning message in Matrix::sparseMatrix(dims = c(0, 0), i = integer(0), j = integer(0), :\n",
      "\"'giveCsparse' has been deprecated; setting 'repr = \"T\"' for you\"\n",
      "Warning message in Matrix::sparseMatrix(dims = c(0, 0), i = integer(0), j = integer(0), :\n",
      "\"'giveCsparse' has been deprecated; setting 'repr = \"T\"' for you\"\n",
      "Warning message in Matrix::sparseMatrix(dims = c(0, 0), i = integer(0), j = integer(0), :\n",
      "\"'giveCsparse' has been deprecated; setting 'repr = \"T\"' for you\"\n",
      "Warning message in Matrix::sparseMatrix(dims = c(0, 0), i = integer(0), j = integer(0), :\n",
      "\"'giveCsparse' has been deprecated; setting 'repr = \"T\"' for you\"\n",
      "Warning message in Matrix::sparseMatrix(dims = c(0, 0), i = integer(0), j = integer(0), :\n",
      "\"'giveCsparse' has been deprecated; setting 'repr = \"T\"' for you\"\n"
     ]
    },
    {
     "name": "stdout",
     "output_type": "stream",
     "text": [
      "Data: df__\n",
      "Models:\n",
      "fit_nopenid: WentinWG ~ CLASS + Treatment + rescale(DIB) + rescale(weight_interp) + , zi=~0, disp=~1\n",
      "fit_nopenid:     rescale(nbr_h_per_day) + rescale(nbr_h_WGopen) + rescale(temperature_C_avg) + , zi=~0, disp=~1\n",
      "fit_nopenid:     (1 | HenID), zi=~0, disp=~1\n",
      "fit_penid: WentinWG ~ CLASS + Treatment + rescale(DIB) + rescale(weight_interp) + , zi=~0, disp=~1\n",
      "fit_penid:     rescale(nbr_h_per_day) + rescale(nbr_h_WGopen) + rescale(temperature_C_avg) + , zi=~0, disp=~1\n",
      "fit_penid:     (1 | PenID/HenID), zi=~0, disp=~1\n",
      "            Df    AIC    BIC  logLik deviance Chisq Chi Df Pr(>Chisq)\n",
      "fit_nopenid 10 3264.9 3328.0 -1622.4   3244.9                        \n",
      "fit_penid   11 3266.9 3336.3 -1622.4   3244.9     0      1          1\n"
     ]
    },
    {
     "name": "stderr",
     "output_type": "stream",
     "text": [
      "Warning message:\n",
      "\"Bootstrapping only returns fixed effects of the mixed model.\"\n",
      "Warning message in Matrix::sparseMatrix(dims = c(0, 0), i = integer(0), j = integer(0), :\n",
      "\"'giveCsparse' has been deprecated; setting 'repr = \"T\"' for you\"\n",
      "Warning message in Matrix::sparseMatrix(dims = c(0, 0), i = integer(0), j = integer(0), :\n",
      "\"'giveCsparse' has been deprecated; setting 'repr = \"T\"' for you\"\n",
      "Warning message in Matrix::sparseMatrix(dims = c(0, 0), i = integer(0), j = integer(0), :\n",
      "\"'giveCsparse' has been deprecated; setting 'repr = \"T\"' for you\"\n",
      "Warning message in Matrix::sparseMatrix(dims = c(0, 0), i = integer(0), j = integer(0), :\n",
      "\"'giveCsparse' has been deprecated; setting 'repr = \"T\"' for you\"\n",
      "Warning message in Matrix::sparseMatrix(dims = c(0, 0), i = integer(0), j = integer(0), :\n",
      "\"'giveCsparse' has been deprecated; setting 'repr = \"T\"' for you\"\n",
      "Warning message in Matrix::sparseMatrix(dims = c(0, 0), i = integer(0), j = integer(0), :\n",
      "\"'giveCsparse' has been deprecated; setting 'repr = \"T\"' for you\"\n"
     ]
    },
    {
     "name": "stdout",
     "output_type": "stream",
     "text": [
      "NULL\n",
      "NULL\n",
      "[1] \"month3\"\n"
     ]
    },
    {
     "name": "stderr",
     "output_type": "stream",
     "text": [
      "Warning message in Matrix::sparseMatrix(dims = c(0, 0), i = integer(0), j = integer(0), :\n",
      "\"'giveCsparse' has been deprecated; setting 'repr = \"T\"' for you\"\n",
      "Warning message in Matrix::sparseMatrix(dims = c(0, 0), i = integer(0), j = integer(0), :\n",
      "\"'giveCsparse' has been deprecated; setting 'repr = \"T\"' for you\"\n",
      "Warning message in Matrix::sparseMatrix(dims = c(0, 0), i = integer(0), j = integer(0), :\n",
      "\"'giveCsparse' has been deprecated; setting 'repr = \"T\"' for you\"\n",
      "Warning message in Matrix::sparseMatrix(dims = c(0, 0), i = integer(0), j = integer(0), :\n",
      "\"'giveCsparse' has been deprecated; setting 'repr = \"T\"' for you\"\n",
      "Warning message in Matrix::sparseMatrix(dims = c(0, 0), i = integer(0), j = integer(0), :\n",
      "\"'giveCsparse' has been deprecated; setting 'repr = \"T\"' for you\"\n",
      "Warning message in Matrix::sparseMatrix(dims = c(0, 0), i = integer(0), j = integer(0), :\n",
      "\"'giveCsparse' has been deprecated; setting 'repr = \"T\"' for you\"\n"
     ]
    },
    {
     "name": "stdout",
     "output_type": "stream",
     "text": [
      "Data: df__\n",
      "Models:\n",
      "fit_nopenid: WentinWG ~ CLASS + Treatment + rescale(DIB) + rescale(weight_interp) + , zi=~0, disp=~1\n",
      "fit_nopenid:     rescale(KBF_interp) + rescale(nbr_h_WGopen) + rescale(temperature_C_avg) + , zi=~0, disp=~1\n",
      "fit_nopenid:     (1 | HenID), zi=~0, disp=~1\n",
      "fit_penid: WentinWG ~ CLASS + Treatment + rescale(DIB) + rescale(weight_interp) + , zi=~0, disp=~1\n",
      "fit_penid:     rescale(KBF_interp) + rescale(nbr_h_WGopen) + rescale(temperature_C_avg) + , zi=~0, disp=~1\n",
      "fit_penid:     (1 | PenID/HenID), zi=~0, disp=~1\n",
      "            Df    AIC    BIC logLik deviance Chisq Chi Df Pr(>Chisq)\n",
      "fit_nopenid 10 3420.1 3484.1  -1700   3400.1                        \n",
      "fit_penid   11 3422.1 3492.5  -1700   3400.1     0      1          1\n"
     ]
    },
    {
     "name": "stderr",
     "output_type": "stream",
     "text": [
      "Warning message:\n",
      "\"Bootstrapping only returns fixed effects of the mixed model.\"\n",
      "Warning message in Matrix::sparseMatrix(dims = c(0, 0), i = integer(0), j = integer(0), :\n",
      "\"'giveCsparse' has been deprecated; setting 'repr = \"T\"' for you\"\n",
      "Warning message in Matrix::sparseMatrix(dims = c(0, 0), i = integer(0), j = integer(0), :\n",
      "\"'giveCsparse' has been deprecated; setting 'repr = \"T\"' for you\"\n",
      "Warning message in Matrix::sparseMatrix(dims = c(0, 0), i = integer(0), j = integer(0), :\n",
      "\"'giveCsparse' has been deprecated; setting 'repr = \"T\"' for you\"\n",
      "Warning message in Matrix::sparseMatrix(dims = c(0, 0), i = integer(0), j = integer(0), :\n",
      "\"'giveCsparse' has been deprecated; setting 'repr = \"T\"' for you\"\n",
      "Warning message in Matrix::sparseMatrix(dims = c(0, 0), i = integer(0), j = integer(0), :\n",
      "\"'giveCsparse' has been deprecated; setting 'repr = \"T\"' for you\"\n",
      "Warning message in Matrix::sparseMatrix(dims = c(0, 0), i = integer(0), j = integer(0), :\n",
      "\"'giveCsparse' has been deprecated; setting 'repr = \"T\"' for you\"\n"
     ]
    },
    {
     "name": "stdout",
     "output_type": "stream",
     "text": [
      "NULL\n",
      "NULL\n",
      "[1] \"month4\"\n"
     ]
    },
    {
     "name": "stderr",
     "output_type": "stream",
     "text": [
      "Warning message in Matrix::sparseMatrix(dims = c(0, 0), i = integer(0), j = integer(0), :\n",
      "\"'giveCsparse' has been deprecated; setting 'repr = \"T\"' for you\"\n",
      "Warning message in Matrix::sparseMatrix(dims = c(0, 0), i = integer(0), j = integer(0), :\n",
      "\"'giveCsparse' has been deprecated; setting 'repr = \"T\"' for you\"\n",
      "Warning message in Matrix::sparseMatrix(dims = c(0, 0), i = integer(0), j = integer(0), :\n",
      "\"'giveCsparse' has been deprecated; setting 'repr = \"T\"' for you\"\n",
      "Warning message in Matrix::sparseMatrix(dims = c(0, 0), i = integer(0), j = integer(0), :\n",
      "\"'giveCsparse' has been deprecated; setting 'repr = \"T\"' for you\"\n",
      "Warning message in Matrix::sparseMatrix(dims = c(0, 0), i = integer(0), j = integer(0), :\n",
      "\"'giveCsparse' has been deprecated; setting 'repr = \"T\"' for you\"\n",
      "Warning message in Matrix::sparseMatrix(dims = c(0, 0), i = integer(0), j = integer(0), :\n",
      "\"'giveCsparse' has been deprecated; setting 'repr = \"T\"' for you\"\n"
     ]
    },
    {
     "name": "stdout",
     "output_type": "stream",
     "text": [
      "Data: df__\n",
      "Models:\n",
      "fit_nopenid: WentinWG ~ CLASS + Treatment + rescale(DIB) + rescale(weight_interp) + , zi=~0, disp=~1\n",
      "fit_nopenid:     rescale(KBF_interp) + rescale(nbr_h_WGopen) + rescale(temperature_C_avg) + , zi=~0, disp=~1\n",
      "fit_nopenid:     (1 | HenID), zi=~0, disp=~1\n",
      "fit_penid: WentinWG ~ CLASS + Treatment + rescale(DIB) + rescale(weight_interp) + , zi=~0, disp=~1\n",
      "fit_penid:     rescale(KBF_interp) + rescale(nbr_h_WGopen) + rescale(temperature_C_avg) + , zi=~0, disp=~1\n",
      "fit_penid:     (1 | PenID/HenID), zi=~0, disp=~1\n",
      "            Df    AIC    BIC  logLik deviance Chisq Chi Df Pr(>Chisq)\n",
      "fit_nopenid 10 2867.4 2929.0 -1423.7   2847.4                        \n",
      "fit_penid   11 2868.9 2936.7 -1423.5   2846.9 0.458      1     0.4986\n"
     ]
    },
    {
     "name": "stderr",
     "output_type": "stream",
     "text": [
      "Warning message:\n",
      "\"Bootstrapping only returns fixed effects of the mixed model.\"\n",
      "Warning message in Matrix::sparseMatrix(dims = c(0, 0), i = integer(0), j = integer(0), :\n",
      "\"'giveCsparse' has been deprecated; setting 'repr = \"T\"' for you\"\n",
      "Warning message in Matrix::sparseMatrix(dims = c(0, 0), i = integer(0), j = integer(0), :\n",
      "\"'giveCsparse' has been deprecated; setting 'repr = \"T\"' for you\"\n",
      "Warning message in Matrix::sparseMatrix(dims = c(0, 0), i = integer(0), j = integer(0), :\n",
      "\"'giveCsparse' has been deprecated; setting 'repr = \"T\"' for you\"\n",
      "Warning message in Matrix::sparseMatrix(dims = c(0, 0), i = integer(0), j = integer(0), :\n",
      "\"'giveCsparse' has been deprecated; setting 'repr = \"T\"' for you\"\n",
      "Warning message in Matrix::sparseMatrix(dims = c(0, 0), i = integer(0), j = integer(0), :\n",
      "\"'giveCsparse' has been deprecated; setting 'repr = \"T\"' for you\"\n",
      "Warning message in Matrix::sparseMatrix(dims = c(0, 0), i = integer(0), j = integer(0), :\n",
      "\"'giveCsparse' has been deprecated; setting 'repr = \"T\"' for you\"\n",
      "DHARMa:testOutliers with type = binomial may have inflated Type I error rates for integer-valued distributions. To get a more exact result, it is recommended to re-run testOutliers with type = 'bootstrap'. See ?testOutliers for details\n",
      "\n"
     ]
    },
    {
     "name": "stdout",
     "output_type": "stream",
     "text": [
      "NULL\n",
      "NULL\n",
      "[1] \"month5\"\n"
     ]
    },
    {
     "name": "stderr",
     "output_type": "stream",
     "text": [
      "Warning message in Matrix::sparseMatrix(dims = c(0, 0), i = integer(0), j = integer(0), :\n",
      "\"'giveCsparse' has been deprecated; setting 'repr = \"T\"' for you\"\n",
      "Warning message in Matrix::sparseMatrix(dims = c(0, 0), i = integer(0), j = integer(0), :\n",
      "\"'giveCsparse' has been deprecated; setting 'repr = \"T\"' for you\"\n",
      "Warning message in Matrix::sparseMatrix(dims = c(0, 0), i = integer(0), j = integer(0), :\n",
      "\"'giveCsparse' has been deprecated; setting 'repr = \"T\"' for you\"\n",
      "Warning message in Matrix::sparseMatrix(dims = c(0, 0), i = integer(0), j = integer(0), :\n",
      "\"'giveCsparse' has been deprecated; setting 'repr = \"T\"' for you\"\n",
      "Warning message in Matrix::sparseMatrix(dims = c(0, 0), i = integer(0), j = integer(0), :\n",
      "\"'giveCsparse' has been deprecated; setting 'repr = \"T\"' for you\"\n",
      "Warning message in Matrix::sparseMatrix(dims = c(0, 0), i = integer(0), j = integer(0), :\n",
      "\"'giveCsparse' has been deprecated; setting 'repr = \"T\"' for you\"\n"
     ]
    },
    {
     "name": "stdout",
     "output_type": "stream",
     "text": [
      "Data: df__\n",
      "Models:\n",
      "fit_nopenid: WentinWG ~ CLASS + Treatment + rescale(DIB) + rescale(weight_interp) + , zi=~0, disp=~1\n",
      "fit_nopenid:     rescale(KBF_interp) + rescale(nbr_h_WGopen) + rescale(temperature_C_avg) + , zi=~0, disp=~1\n",
      "fit_nopenid:     (1 | HenID), zi=~0, disp=~1\n",
      "fit_penid: WentinWG ~ CLASS + Treatment + rescale(DIB) + rescale(weight_interp) + , zi=~0, disp=~1\n",
      "fit_penid:     rescale(KBF_interp) + rescale(nbr_h_WGopen) + rescale(temperature_C_avg) + , zi=~0, disp=~1\n",
      "fit_penid:     (1 | PenID/HenID), zi=~0, disp=~1\n",
      "            Df    AIC    BIC  logLik deviance  Chisq Chi Df Pr(>Chisq)  \n",
      "fit_nopenid 10 2620.6 2681.6 -1300.3   2600.6                           \n",
      "fit_penid   11 2617.9 2684.9 -1298.0   2595.9 4.7061      1    0.03006 *\n",
      "---\n",
      "Signif. codes:  0 '***' 0.001 '**' 0.01 '*' 0.05 '.' 0.1 ' ' 1\n"
     ]
    },
    {
     "name": "stderr",
     "output_type": "stream",
     "text": [
      "Warning message:\n",
      "\"Bootstrapping only returns fixed effects of the mixed model.\"\n",
      "Warning message in Matrix::sparseMatrix(dims = c(0, 0), i = integer(0), j = integer(0), :\n",
      "\"'giveCsparse' has been deprecated; setting 'repr = \"T\"' for you\"\n",
      "Warning message in Matrix::sparseMatrix(dims = c(0, 0), i = integer(0), j = integer(0), :\n",
      "\"'giveCsparse' has been deprecated; setting 'repr = \"T\"' for you\"\n",
      "Warning message in Matrix::sparseMatrix(dims = c(0, 0), i = integer(0), j = integer(0), :\n",
      "\"'giveCsparse' has been deprecated; setting 'repr = \"T\"' for you\"\n",
      "Warning message in Matrix::sparseMatrix(dims = c(0, 0), i = integer(0), j = integer(0), :\n",
      "\"'giveCsparse' has been deprecated; setting 'repr = \"T\"' for you\"\n",
      "Warning message in Matrix::sparseMatrix(dims = c(0, 0), i = integer(0), j = integer(0), :\n",
      "\"'giveCsparse' has been deprecated; setting 'repr = \"T\"' for you\"\n",
      "Warning message in Matrix::sparseMatrix(dims = c(0, 0), i = integer(0), j = integer(0), :\n",
      "\"'giveCsparse' has been deprecated; setting 'repr = \"T\"' for you\"\n"
     ]
    },
    {
     "name": "stdout",
     "output_type": "stream",
     "text": [
      "NULL\n",
      "NULL\n",
      "[1] \"month6\"\n"
     ]
    },
    {
     "name": "stderr",
     "output_type": "stream",
     "text": [
      "Warning message in Matrix::sparseMatrix(dims = c(0, 0), i = integer(0), j = integer(0), :\n",
      "\"'giveCsparse' has been deprecated; setting 'repr = \"T\"' for you\"\n",
      "Warning message in Matrix::sparseMatrix(dims = c(0, 0), i = integer(0), j = integer(0), :\n",
      "\"'giveCsparse' has been deprecated; setting 'repr = \"T\"' for you\"\n",
      "Warning message in Matrix::sparseMatrix(dims = c(0, 0), i = integer(0), j = integer(0), :\n",
      "\"'giveCsparse' has been deprecated; setting 'repr = \"T\"' for you\"\n",
      "Warning message in Matrix::sparseMatrix(dims = c(0, 0), i = integer(0), j = integer(0), :\n",
      "\"'giveCsparse' has been deprecated; setting 'repr = \"T\"' for you\"\n",
      "Warning message in Matrix::sparseMatrix(dims = c(0, 0), i = integer(0), j = integer(0), :\n",
      "\"'giveCsparse' has been deprecated; setting 'repr = \"T\"' for you\"\n",
      "Warning message in Matrix::sparseMatrix(dims = c(0, 0), i = integer(0), j = integer(0), :\n",
      "\"'giveCsparse' has been deprecated; setting 'repr = \"T\"' for you\"\n"
     ]
    },
    {
     "name": "stdout",
     "output_type": "stream",
     "text": [
      "Data: df__\n",
      "Models:\n",
      "fit_nopenid: WentinWG ~ CLASS + Treatment + rescale(DIB) + rescale(weight_interp) + , zi=~0, disp=~1\n",
      "fit_nopenid:     rescale(KBF_interp) + rescale(nbr_h_WGopen) + rescale(temperature_C_avg) + , zi=~0, disp=~1\n",
      "fit_nopenid:     (1 | HenID), zi=~0, disp=~1\n",
      "fit_penid: WentinWG ~ CLASS + Treatment + rescale(DIB) + rescale(weight_interp) + , zi=~0, disp=~1\n",
      "fit_penid:     rescale(KBF_interp) + rescale(nbr_h_WGopen) + rescale(temperature_C_avg) + , zi=~0, disp=~1\n",
      "fit_penid:     (1 | PenID/HenID), zi=~0, disp=~1\n",
      "            Df    AIC    BIC  logLik deviance  Chisq Chi Df Pr(>Chisq)\n",
      "fit_nopenid 10 3410.3 3473.8 -1695.2   3390.3                         \n",
      "fit_penid   11 3411.7 3481.5 -1694.8   3389.7 0.6311      1      0.427\n"
     ]
    },
    {
     "name": "stderr",
     "output_type": "stream",
     "text": [
      "Warning message:\n",
      "\"Bootstrapping only returns fixed effects of the mixed model.\"\n",
      "Warning message in Matrix::sparseMatrix(dims = c(0, 0), i = integer(0), j = integer(0), :\n",
      "\"'giveCsparse' has been deprecated; setting 'repr = \"T\"' for you\"\n",
      "Warning message in Matrix::sparseMatrix(dims = c(0, 0), i = integer(0), j = integer(0), :\n",
      "\"'giveCsparse' has been deprecated; setting 'repr = \"T\"' for you\"\n",
      "Warning message in Matrix::sparseMatrix(dims = c(0, 0), i = integer(0), j = integer(0), :\n",
      "\"'giveCsparse' has been deprecated; setting 'repr = \"T\"' for you\"\n",
      "Warning message in Matrix::sparseMatrix(dims = c(0, 0), i = integer(0), j = integer(0), :\n",
      "\"'giveCsparse' has been deprecated; setting 'repr = \"T\"' for you\"\n",
      "Warning message in Matrix::sparseMatrix(dims = c(0, 0), i = integer(0), j = integer(0), :\n",
      "\"'giveCsparse' has been deprecated; setting 'repr = \"T\"' for you\"\n",
      "Warning message in Matrix::sparseMatrix(dims = c(0, 0), i = integer(0), j = integer(0), :\n",
      "\"'giveCsparse' has been deprecated; setting 'repr = \"T\"' for you\"\n"
     ]
    },
    {
     "name": "stdout",
     "output_type": "stream",
     "text": [
      "NULL\n",
      "NULL\n",
      "[1] \"month7\"\n"
     ]
    },
    {
     "name": "stderr",
     "output_type": "stream",
     "text": [
      "Warning message in Matrix::sparseMatrix(dims = c(0, 0), i = integer(0), j = integer(0), :\n",
      "\"'giveCsparse' has been deprecated; setting 'repr = \"T\"' for you\"\n",
      "Warning message in Matrix::sparseMatrix(dims = c(0, 0), i = integer(0), j = integer(0), :\n",
      "\"'giveCsparse' has been deprecated; setting 'repr = \"T\"' for you\"\n",
      "Warning message in Matrix::sparseMatrix(dims = c(0, 0), i = integer(0), j = integer(0), :\n",
      "\"'giveCsparse' has been deprecated; setting 'repr = \"T\"' for you\"\n",
      "Warning message in Matrix::sparseMatrix(dims = c(0, 0), i = integer(0), j = integer(0), :\n",
      "\"'giveCsparse' has been deprecated; setting 'repr = \"T\"' for you\"\n",
      "Warning message in Matrix::sparseMatrix(dims = c(0, 0), i = integer(0), j = integer(0), :\n",
      "\"'giveCsparse' has been deprecated; setting 'repr = \"T\"' for you\"\n",
      "Warning message in Matrix::sparseMatrix(dims = c(0, 0), i = integer(0), j = integer(0), :\n",
      "\"'giveCsparse' has been deprecated; setting 'repr = \"T\"' for you\"\n"
     ]
    },
    {
     "name": "stdout",
     "output_type": "stream",
     "text": [
      "Data: df__\n",
      "Models:\n",
      "fit_nopenid: WentinWG ~ CLASS + Treatment + rescale(DIB) + rescale(weight_interp) + , zi=~0, disp=~1\n",
      "fit_nopenid:     rescale(KBF_interp) + rescale(nbr_h_WGopen) + rescale(temperature_C_avg) + , zi=~0, disp=~1\n",
      "fit_nopenid:     (1 | HenID), zi=~0, disp=~1\n",
      "fit_penid: WentinWG ~ CLASS + Treatment + rescale(DIB) + rescale(weight_interp) + , zi=~0, disp=~1\n",
      "fit_penid:     rescale(KBF_interp) + rescale(nbr_h_WGopen) + rescale(temperature_C_avg) + , zi=~0, disp=~1\n",
      "fit_penid:     (1 | PenID/HenID), zi=~0, disp=~1\n",
      "            Df    AIC    BIC  logLik deviance  Chisq Chi Df Pr(>Chisq)  \n",
      "fit_nopenid 10 3493.9 3557.1 -1737.0   3473.9                           \n",
      "fit_penid   11 3492.2 3561.7 -1735.1   3470.2 3.7421      1    0.05306 .\n",
      "---\n",
      "Signif. codes:  0 '***' 0.001 '**' 0.01 '*' 0.05 '.' 0.1 ' ' 1\n"
     ]
    },
    {
     "name": "stderr",
     "output_type": "stream",
     "text": [
      "Warning message:\n",
      "\"Bootstrapping only returns fixed effects of the mixed model.\"\n",
      "Warning message in Matrix::sparseMatrix(dims = c(0, 0), i = integer(0), j = integer(0), :\n",
      "\"'giveCsparse' has been deprecated; setting 'repr = \"T\"' for you\"\n",
      "Warning message in Matrix::sparseMatrix(dims = c(0, 0), i = integer(0), j = integer(0), :\n",
      "\"'giveCsparse' has been deprecated; setting 'repr = \"T\"' for you\"\n",
      "Warning message in Matrix::sparseMatrix(dims = c(0, 0), i = integer(0), j = integer(0), :\n",
      "\"'giveCsparse' has been deprecated; setting 'repr = \"T\"' for you\"\n",
      "Warning message in Matrix::sparseMatrix(dims = c(0, 0), i = integer(0), j = integer(0), :\n",
      "\"'giveCsparse' has been deprecated; setting 'repr = \"T\"' for you\"\n",
      "Warning message in Matrix::sparseMatrix(dims = c(0, 0), i = integer(0), j = integer(0), :\n",
      "\"'giveCsparse' has been deprecated; setting 'repr = \"T\"' for you\"\n",
      "Warning message in Matrix::sparseMatrix(dims = c(0, 0), i = integer(0), j = integer(0), :\n",
      "\"'giveCsparse' has been deprecated; setting 'repr = \"T\"' for you\"\n"
     ]
    },
    {
     "name": "stdout",
     "output_type": "stream",
     "text": [
      "NULL\n",
      "NULL\n",
      "[1] \"month8\"\n"
     ]
    },
    {
     "name": "stderr",
     "output_type": "stream",
     "text": [
      "Warning message in Matrix::sparseMatrix(dims = c(0, 0), i = integer(0), j = integer(0), :\n",
      "\"'giveCsparse' has been deprecated; setting 'repr = \"T\"' for you\"\n",
      "Warning message in Matrix::sparseMatrix(dims = c(0, 0), i = integer(0), j = integer(0), :\n",
      "\"'giveCsparse' has been deprecated; setting 'repr = \"T\"' for you\"\n",
      "Warning message in Matrix::sparseMatrix(dims = c(0, 0), i = integer(0), j = integer(0), :\n",
      "\"'giveCsparse' has been deprecated; setting 'repr = \"T\"' for you\"\n",
      "Warning message in Matrix::sparseMatrix(dims = c(0, 0), i = integer(0), j = integer(0), :\n",
      "\"'giveCsparse' has been deprecated; setting 'repr = \"T\"' for you\"\n",
      "Warning message in Matrix::sparseMatrix(dims = c(0, 0), i = integer(0), j = integer(0), :\n",
      "\"'giveCsparse' has been deprecated; setting 'repr = \"T\"' for you\"\n",
      "Warning message in Matrix::sparseMatrix(dims = c(0, 0), i = integer(0), j = integer(0), :\n",
      "\"'giveCsparse' has been deprecated; setting 'repr = \"T\"' for you\"\n"
     ]
    },
    {
     "name": "stdout",
     "output_type": "stream",
     "text": [
      "Data: df__\n",
      "Models:\n",
      "fit_nopenid: WentinWG ~ CLASS + Treatment + rescale(DIB) + rescale(weight_interp) + , zi=~0, disp=~1\n",
      "fit_nopenid:     rescale(KBF_interp) + rescale(nbr_h_WGopen) + rescale(temperature_C_avg) + , zi=~0, disp=~1\n",
      "fit_nopenid:     (1 | HenID), zi=~0, disp=~1\n",
      "fit_penid: WentinWG ~ CLASS + Treatment + rescale(DIB) + rescale(weight_interp) + , zi=~0, disp=~1\n",
      "fit_penid:     rescale(KBF_interp) + rescale(nbr_h_WGopen) + rescale(temperature_C_avg) + , zi=~0, disp=~1\n",
      "fit_penid:     (1 | PenID/HenID), zi=~0, disp=~1\n",
      "            Df    AIC    BIC  logLik deviance Chisq Chi Df Pr(>Chisq)\n",
      "fit_nopenid 10 3105.3 3168.8 -1542.6   3085.3                        \n",
      "fit_penid   11 3107.3 3177.1 -1542.6   3085.3     0      1          1\n"
     ]
    },
    {
     "name": "stderr",
     "output_type": "stream",
     "text": [
      "Warning message:\n",
      "\"Bootstrapping only returns fixed effects of the mixed model.\"\n",
      "Warning message in Matrix::sparseMatrix(dims = c(0, 0), i = integer(0), j = integer(0), :\n",
      "\"'giveCsparse' has been deprecated; setting 'repr = \"T\"' for you\"\n",
      "Warning message in Matrix::sparseMatrix(dims = c(0, 0), i = integer(0), j = integer(0), :\n",
      "\"'giveCsparse' has been deprecated; setting 'repr = \"T\"' for you\"\n",
      "Warning message in Matrix::sparseMatrix(dims = c(0, 0), i = integer(0), j = integer(0), :\n",
      "\"'giveCsparse' has been deprecated; setting 'repr = \"T\"' for you\"\n",
      "Warning message in Matrix::sparseMatrix(dims = c(0, 0), i = integer(0), j = integer(0), :\n",
      "\"'giveCsparse' has been deprecated; setting 'repr = \"T\"' for you\"\n",
      "Warning message in Matrix::sparseMatrix(dims = c(0, 0), i = integer(0), j = integer(0), :\n",
      "\"'giveCsparse' has been deprecated; setting 'repr = \"T\"' for you\"\n",
      "Warning message in Matrix::sparseMatrix(dims = c(0, 0), i = integer(0), j = integer(0), :\n",
      "\"'giveCsparse' has been deprecated; setting 'repr = \"T\"' for you\"\n"
     ]
    },
    {
     "name": "stdout",
     "output_type": "stream",
     "text": [
      "NULL\n",
      "NULL\n",
      "[1] \"month9\"\n"
     ]
    },
    {
     "name": "stderr",
     "output_type": "stream",
     "text": [
      "Warning message in Matrix::sparseMatrix(dims = c(0, 0), i = integer(0), j = integer(0), :\n",
      "\"'giveCsparse' has been deprecated; setting 'repr = \"T\"' for you\"\n",
      "Warning message in Matrix::sparseMatrix(dims = c(0, 0), i = integer(0), j = integer(0), :\n",
      "\"'giveCsparse' has been deprecated; setting 'repr = \"T\"' for you\"\n",
      "Warning message in Matrix::sparseMatrix(dims = c(0, 0), i = integer(0), j = integer(0), :\n",
      "\"'giveCsparse' has been deprecated; setting 'repr = \"T\"' for you\"\n",
      "Warning message in Matrix::sparseMatrix(dims = c(0, 0), i = integer(0), j = integer(0), :\n",
      "\"'giveCsparse' has been deprecated; setting 'repr = \"T\"' for you\"\n",
      "Warning message in Matrix::sparseMatrix(dims = c(0, 0), i = integer(0), j = integer(0), :\n",
      "\"'giveCsparse' has been deprecated; setting 'repr = \"T\"' for you\"\n",
      "Warning message in Matrix::sparseMatrix(dims = c(0, 0), i = integer(0), j = integer(0), :\n",
      "\"'giveCsparse' has been deprecated; setting 'repr = \"T\"' for you\"\n"
     ]
    },
    {
     "name": "stdout",
     "output_type": "stream",
     "text": [
      "Data: df__\n",
      "Models:\n",
      "fit_nopenid: WentinWG ~ CLASS + Treatment + rescale(DIB) + rescale(weight_interp) + , zi=~0, disp=~1\n",
      "fit_nopenid:     rescale(KBF_interp) + rescale(nbr_h_WGopen) + rescale(temperature_C_avg) + , zi=~0, disp=~1\n",
      "fit_nopenid:     (1 | HenID), zi=~0, disp=~1\n",
      "fit_penid: WentinWG ~ CLASS + Treatment + rescale(DIB) + rescale(weight_interp) + , zi=~0, disp=~1\n",
      "fit_penid:     rescale(KBF_interp) + rescale(nbr_h_WGopen) + rescale(temperature_C_avg) + , zi=~0, disp=~1\n",
      "fit_penid:     (1 | PenID/HenID), zi=~0, disp=~1\n",
      "            Df    AIC    BIC  logLik deviance Chisq Chi Df Pr(>Chisq)\n",
      "fit_nopenid 10 968.79 1024.0 -474.39   948.79                        \n",
      "fit_penid   11 970.79 1031.6 -474.39   948.79     0      1          1\n"
     ]
    },
    {
     "name": "stderr",
     "output_type": "stream",
     "text": [
      "Warning message:\n",
      "\"Bootstrapping only returns fixed effects of the mixed model.\"\n",
      "Warning message in Matrix::sparseMatrix(dims = c(0, 0), i = integer(0), j = integer(0), :\n",
      "\"'giveCsparse' has been deprecated; setting 'repr = \"T\"' for you\"\n",
      "Warning message in Matrix::sparseMatrix(dims = c(0, 0), i = integer(0), j = integer(0), :\n",
      "\"'giveCsparse' has been deprecated; setting 'repr = \"T\"' for you\"\n",
      "Warning message in Matrix::sparseMatrix(dims = c(0, 0), i = integer(0), j = integer(0), :\n",
      "\"'giveCsparse' has been deprecated; setting 'repr = \"T\"' for you\"\n",
      "Warning message in Matrix::sparseMatrix(dims = c(0, 0), i = integer(0), j = integer(0), :\n",
      "\"'giveCsparse' has been deprecated; setting 'repr = \"T\"' for you\"\n",
      "Warning message in Matrix::sparseMatrix(dims = c(0, 0), i = integer(0), j = integer(0), :\n",
      "\"'giveCsparse' has been deprecated; setting 'repr = \"T\"' for you\"\n",
      "Warning message in Matrix::sparseMatrix(dims = c(0, 0), i = integer(0), j = integer(0), :\n",
      "\"'giveCsparse' has been deprecated; setting 'repr = \"T\"' for you\"\n",
      "DHARMa:testOutliers with type = binomial may have inflated Type I error rates for integer-valued distributions. To get a more exact result, it is recommended to re-run testOutliers with type = 'bootstrap'. See ?testOutliers for details\n",
      "\n"
     ]
    },
    {
     "name": "stdout",
     "output_type": "stream",
     "text": [
      "NULL\n",
      "NULL\n",
      "[1] \"month10\"\n"
     ]
    },
    {
     "name": "stderr",
     "output_type": "stream",
     "text": [
      "Warning message in Matrix::sparseMatrix(dims = c(0, 0), i = integer(0), j = integer(0), :\n",
      "\"'giveCsparse' has been deprecated; setting 'repr = \"T\"' for you\"\n",
      "Warning message in Matrix::sparseMatrix(dims = c(0, 0), i = integer(0), j = integer(0), :\n",
      "\"'giveCsparse' has been deprecated; setting 'repr = \"T\"' for you\"\n",
      "Warning message in Matrix::sparseMatrix(dims = c(0, 0), i = integer(0), j = integer(0), :\n",
      "\"'giveCsparse' has been deprecated; setting 'repr = \"T\"' for you\"\n",
      "Warning message in Matrix::sparseMatrix(dims = c(0, 0), i = integer(0), j = integer(0), :\n",
      "\"'giveCsparse' has been deprecated; setting 'repr = \"T\"' for you\"\n",
      "Warning message in Matrix::sparseMatrix(dims = c(0, 0), i = integer(0), j = integer(0), :\n",
      "\"'giveCsparse' has been deprecated; setting 'repr = \"T\"' for you\"\n",
      "Warning message in Matrix::sparseMatrix(dims = c(0, 0), i = integer(0), j = integer(0), :\n",
      "\"'giveCsparse' has been deprecated; setting 'repr = \"T\"' for you\"\n"
     ]
    },
    {
     "name": "stdout",
     "output_type": "stream",
     "text": [
      "Data: df__\n",
      "Models:\n",
      "fit_nopenid: WentinWG ~ CLASS + Treatment + rescale(DIB) + rescale(weight_interp) + , zi=~0, disp=~1\n",
      "fit_nopenid:     rescale(KBF_interp) + rescale(nbr_h_WGopen) + rescale(temperature_C_avg) + , zi=~0, disp=~1\n",
      "fit_nopenid:     (1 | HenID), zi=~0, disp=~1\n",
      "fit_penid: WentinWG ~ CLASS + Treatment + rescale(DIB) + rescale(weight_interp) + , zi=~0, disp=~1\n",
      "fit_penid:     rescale(KBF_interp) + rescale(nbr_h_WGopen) + rescale(temperature_C_avg) + , zi=~0, disp=~1\n",
      "fit_penid:     (1 | PenID/HenID), zi=~0, disp=~1\n",
      "            Df    AIC    BIC  logLik deviance  Chisq Chi Df Pr(>Chisq)   \n",
      "fit_nopenid 10 2006.1 2066.6 -993.05   1986.1                            \n",
      "fit_penid   11 1997.3 2063.9 -987.66   1975.3 10.776      1   0.001028 **\n",
      "---\n",
      "Signif. codes:  0 '***' 0.001 '**' 0.01 '*' 0.05 '.' 0.1 ' ' 1\n"
     ]
    },
    {
     "name": "stderr",
     "output_type": "stream",
     "text": [
      "Warning message:\n",
      "\"Bootstrapping only returns fixed effects of the mixed model.\"\n",
      "Warning message in Matrix::sparseMatrix(dims = c(0, 0), i = integer(0), j = integer(0), :\n",
      "\"'giveCsparse' has been deprecated; setting 'repr = \"T\"' for you\"\n",
      "Warning message in Matrix::sparseMatrix(dims = c(0, 0), i = integer(0), j = integer(0), :\n",
      "\"'giveCsparse' has been deprecated; setting 'repr = \"T\"' for you\"\n",
      "Warning message in Matrix::sparseMatrix(dims = c(0, 0), i = integer(0), j = integer(0), :\n",
      "\"'giveCsparse' has been deprecated; setting 'repr = \"T\"' for you\"\n",
      "Warning message in Matrix::sparseMatrix(dims = c(0, 0), i = integer(0), j = integer(0), :\n",
      "\"'giveCsparse' has been deprecated; setting 'repr = \"T\"' for you\"\n",
      "Warning message in Matrix::sparseMatrix(dims = c(0, 0), i = integer(0), j = integer(0), :\n",
      "\"'giveCsparse' has been deprecated; setting 'repr = \"T\"' for you\"\n",
      "Warning message in Matrix::sparseMatrix(dims = c(0, 0), i = integer(0), j = integer(0), :\n",
      "\"'giveCsparse' has been deprecated; setting 'repr = \"T\"' for you\"\n"
     ]
    },
    {
     "name": "stdout",
     "output_type": "stream",
     "text": [
      "NULL\n",
      "NULL\n"
     ]
    },
    {
     "name": "stderr",
     "output_type": "stream",
     "text": [
      "Warning message in confint.glmmTMB(x, method = tolower(conf.method), level = conf.level, :\n",
      "\"extra arguments ignored:  intervals, prob\"\n",
      "Warning message in confint.glmmTMB(x, parm = thpar, method = conf.method, level = conf.level, :\n",
      "\"extra arguments ignored:  intervals, prob\"\n",
      "Warning message in confint.glmmTMB(x, method = tolower(conf.method), level = conf.level, :\n",
      "\"extra arguments ignored:  intervals, prob\"\n",
      "Warning message in confint.glmmTMB(x, parm = thpar, method = conf.method, level = conf.level, :\n",
      "\"extra arguments ignored:  intervals, prob\"\n",
      "Warning message in confint.glmmTMB(x, method = tolower(conf.method), level = conf.level, :\n",
      "\"extra arguments ignored:  intervals, prob\"\n",
      "Warning message in confint.glmmTMB(x, parm = thpar, method = conf.method, level = conf.level, :\n",
      "\"extra arguments ignored:  intervals, prob\"\n",
      "Warning message in confint.glmmTMB(x, method = tolower(conf.method), level = conf.level, :\n",
      "\"extra arguments ignored:  intervals, prob\"\n",
      "Warning message in confint.glmmTMB(x, parm = thpar, method = conf.method, level = conf.level, :\n",
      "\"extra arguments ignored:  intervals, prob\"\n",
      "Warning message in confint.glmmTMB(x, method = tolower(conf.method), level = conf.level, :\n",
      "\"extra arguments ignored:  intervals, prob\"\n",
      "Warning message in confint.glmmTMB(x, parm = thpar, method = conf.method, level = conf.level, :\n",
      "\"extra arguments ignored:  intervals, prob\"\n",
      "Warning message in confint.glmmTMB(x, method = tolower(conf.method), level = conf.level, :\n",
      "\"extra arguments ignored:  intervals, prob\"\n",
      "Warning message in confint.glmmTMB(x, parm = thpar, method = conf.method, level = conf.level, :\n",
      "\"extra arguments ignored:  intervals, prob\"\n",
      "Warning message in confint.glmmTMB(x, method = tolower(conf.method), level = conf.level, :\n",
      "\"extra arguments ignored:  intervals, prob\"\n",
      "Warning message in confint.glmmTMB(x, parm = thpar, method = conf.method, level = conf.level, :\n",
      "\"extra arguments ignored:  intervals, prob\"\n",
      "Warning message in confint.glmmTMB(x, method = tolower(conf.method), level = conf.level, :\n",
      "\"extra arguments ignored:  intervals, prob\"\n",
      "Warning message in confint.glmmTMB(x, parm = thpar, method = conf.method, level = conf.level, :\n",
      "\"extra arguments ignored:  intervals, prob\"\n",
      "Warning message in confint.glmmTMB(x, method = tolower(conf.method), level = conf.level, :\n",
      "\"extra arguments ignored:  intervals, prob\"\n",
      "Warning message in confint.glmmTMB(x, parm = thpar, method = conf.method, level = conf.level, :\n",
      "\"extra arguments ignored:  intervals, prob\"\n",
      "Warning message in confint.glmmTMB(x, method = tolower(conf.method), level = conf.level, :\n",
      "\"extra arguments ignored:  intervals, prob\"\n",
      "Warning message in confint.glmmTMB(x, parm = thpar, method = conf.method, level = conf.level, :\n",
      "\"extra arguments ignored:  intervals, prob\"\n"
     ]
    },
    {
     "data": {
      "text/html": [
       "<strong>png:</strong> 2"
      ],
      "text/latex": [
       "\\textbf{png:} 2"
      ],
      "text/markdown": [
       "**png:** 2"
      ],
      "text/plain": [
       "png \n",
       "  2 "
      ]
     },
     "metadata": {},
     "output_type": "display_data"
    },
    {
     "name": "stderr",
     "output_type": "stream",
     "text": [
      "Warning message:\n",
      "\"Following potential variables could not be found in the data: DIB ,weight_interp\n",
      "  ,nbr_h_per_day ,nbr_h_WGopen ,temperature_C_avg\"\n",
      "Warning message:\n",
      "\"Following potential variables could not be found in the data: DIB ,weight_interp\n",
      "  ,nbr_h_per_day ,nbr_h_WGopen ,temperature_C_avg\"\n",
      "Warning message:\n",
      "\"Following potential variables could not be found in the data: DIB ,weight_interp\n",
      "  ,KBF_interp ,nbr_h_WGopen ,temperature_C_avg\"\n",
      "Warning message:\n",
      "\"Following potential variables could not be found in the data: DIB ,weight_interp\n",
      "  ,KBF_interp ,nbr_h_WGopen ,temperature_C_avg\"\n",
      "Warning message:\n",
      "\"Following potential variables could not be found in the data: DIB ,weight_interp\n",
      "  ,KBF_interp ,nbr_h_WGopen ,temperature_C_avg\"\n",
      "Warning message:\n",
      "\"Following potential variables could not be found in the data: DIB ,weight_interp\n",
      "  ,nbr_h_per_day ,nbr_h_WGopen ,temperature_C_avg\"\n",
      "Warning message:\n",
      "\"Following potential variables could not be found in the data: DIB ,weight_interp\n",
      "  ,nbr_h_per_day ,nbr_h_WGopen ,temperature_C_avg\"\n",
      "Warning message:\n",
      "\"Following potential variables could not be found in the data: DIB ,weight_interp\n",
      "  ,KBF_interp ,nbr_h_WGopen ,temperature_C_avg\"\n",
      "Warning message:\n",
      "\"Following potential variables could not be found in the data: DIB ,weight_interp\n",
      "  ,KBF_interp ,nbr_h_WGopen ,temperature_C_avg\"\n",
      "Warning message:\n",
      "\"Following potential variables could not be found in the data: DIB ,weight_interp\n",
      "  ,KBF_interp ,nbr_h_WGopen ,temperature_C_avg\"\n",
      "Warning message:\n",
      "\"Following potential variables could not be found in the data: DIB ,weight_interp\n",
      "  ,nbr_h_per_day ,nbr_h_WGopen ,temperature_C_avg\"\n",
      "Warning message:\n",
      "\"Following potential variables could not be found in the data: DIB ,weight_interp\n",
      "  ,nbr_h_per_day ,nbr_h_WGopen ,temperature_C_avg\"\n",
      "Warning message:\n",
      "\"Following potential variables could not be found in the data: DIB ,weight_interp\n",
      "  ,KBF_interp ,nbr_h_WGopen ,temperature_C_avg\"\n",
      "Warning message:\n",
      "\"Following potential variables could not be found in the data: DIB ,weight_interp\n",
      "  ,KBF_interp ,nbr_h_WGopen ,temperature_C_avg\"\n",
      "Warning message:\n",
      "\"Following potential variables could not be found in the data: DIB ,weight_interp\n",
      "  ,KBF_interp ,nbr_h_WGopen ,temperature_C_avg\"\n",
      "Warning message:\n",
      "\"Following potential variables could not be found in the data: DIB ,weight_interp\n",
      "  ,KBF_interp ,nbr_h_WGopen ,temperature_C_avg\"\n",
      "Warning message:\n",
      "\"Following potential variables could not be found in the data: DIB ,weight_interp\n",
      "  ,KBF_interp ,nbr_h_WGopen ,temperature_C_avg\"\n",
      "Warning message:\n",
      "\"Following potential variables could not be found in the data: DIB ,weight_interp\n",
      "  ,KBF_interp ,nbr_h_WGopen ,temperature_C_avg\"\n",
      "Warning message:\n",
      "\"Following potential variables could not be found in the data: DIB ,weight_interp\n",
      "  ,KBF_interp ,nbr_h_WGopen ,temperature_C_avg\"\n",
      "Warning message:\n",
      "\"Following potential variables could not be found in the data: DIB ,weight_interp\n",
      "  ,KBF_interp ,nbr_h_WGopen ,temperature_C_avg\"\n",
      "Warning message:\n",
      "\"Following potential variables could not be found in the data: DIB ,weight_interp\n",
      "  ,KBF_interp ,nbr_h_WGopen ,temperature_C_avg\"\n",
      "Warning message:\n",
      "\"Following potential variables could not be found in the data: DIB ,weight_interp\n",
      "  ,KBF_interp ,nbr_h_WGopen ,temperature_C_avg\"\n",
      "Warning message:\n",
      "\"Following potential variables could not be found in the data: DIB ,weight_interp\n",
      "  ,KBF_interp ,nbr_h_WGopen ,temperature_C_avg\"\n",
      "Warning message:\n",
      "\"Following potential variables could not be found in the data: DIB ,weight_interp\n",
      "  ,KBF_interp ,nbr_h_WGopen ,temperature_C_avg\"\n",
      "Warning message:\n",
      "\"Following potential variables could not be found in the data: DIB ,weight_interp\n",
      "  ,KBF_interp ,nbr_h_WGopen ,temperature_C_avg\"\n",
      "Warning message:\n",
      "\"Following potential variables could not be found in the data: DIB ,weight_interp\n",
      "  ,KBF_interp ,nbr_h_WGopen ,temperature_C_avg\"\n",
      "Warning message:\n",
      "\"Following potential variables could not be found in the data: DIB ,weight_interp\n",
      "  ,KBF_interp ,nbr_h_WGopen ,temperature_C_avg\"\n"
     ]
    }
   ],
   "source": [
    "var = 'WentinWG'\n",
    "path_visual_ = file.path(path_visual, var)\n",
    "dir.create(path_visual_)\n",
    "dim(df)\n",
    "df_ = subset(df, !is.na(WentinWG))\n",
    "dim(df_)\n",
    "df_ = subset(df_, !is.na(temperature_C_avg))\n",
    "dim(df_)\n",
    "\n",
    "li_model = list()\n",
    "for (i in 1:10){\n",
    "    monthILBID = paste0('month',i)\n",
    "    print(monthILBID)\n",
    "    df__ = df_[df_$monthILB==monthILBID,]\n",
    "    #drop factors not existing in this subdataframe\n",
    "    df__$HenID = factor(df__$HenID) \n",
    "    df__$PenID = factor(df__$PenID)\n",
    "    df__$CLASS = factor(df__$CLASS) \n",
    "    #monthILB1-monthILB2: no KBF but nbr_h_per_day_sc, after KBF but no nbr_h_per_day_sc\n",
    "    if (monthILBID %in% c('month1', 'month2')){\n",
    "        fit_penid = glmmTMB(WentinWG ~  CLASS+ Treatment + rescale(DIB) +rescale(weight_interp)+rescale(nbr_h_per_day)+ rescale(nbr_h_WGopen)+ rescale(temperature_C_avg)+(1|PenID/HenID), \n",
    "                   data=df__, family=binomial)\n",
    "        fit_nopenid = glmmTMB(WentinWG ~  CLASS+ Treatment + rescale(DIB) +rescale(weight_interp)+rescale(nbr_h_per_day)+ rescale(nbr_h_WGopen)+ rescale(temperature_C_avg)+(1|HenID), \n",
    "                   data=df__, family=binomial)}\n",
    "    else{\n",
    "        fit_penid = glmmTMB(WentinWG ~  CLASS + Treatment + rescale(DIB) +rescale(weight_interp)+ rescale(KBF_interp) +rescale(nbr_h_WGopen)+ rescale(temperature_C_avg) + (1|PenID/HenID), \n",
    "                   data=df__, family=binomial)\n",
    "        fit_nopenid = glmmTMB(WentinWG ~  CLASS + Treatment + rescale(DIB) +rescale(weight_interp)+ rescale(KBF_interp) +rescale(nbr_h_WGopen)+ rescale(temperature_C_avg) + (1|HenID), \n",
    "                   data=df__, family=binomial)} \n",
    "    print(anova(fit_nopenid,fit_penid))\n",
    "    p_value = anova(fit_nopenid,fit_penid)['Pr(>Chisq)']['fit_penid',]\n",
    "    if (p_value<0.05){\n",
    "        fit = fit_penid    \n",
    "    }else{\n",
    "        fit = fit_nopenid    \n",
    "    }\n",
    "\n",
    "    li_model[[i]] = fit\n",
    "    write.csv(summary(fit)['coefficients']$coefficients$cond, file=file.path(path_visual_, paste0(var,monthILBID,'.csv')) )\n",
    "\n",
    "    set.seed(0)\n",
    "    \n",
    "    df_res = model_parameters(fit, bootstrap = TRUE, iterations = n_iter,effects = \"all\",exponentiate = TRUE)\n",
    "    write.csv(df_res, file=file.path(path_visual_, paste0(var, 'bootstrapPVAL',monthILBID,'.csv')) )\n",
    "\n",
    "    simulationOutput = simulateResiduals(fittedModel=fit)\n",
    "    tiff(file.path(path_visual_, paste0(var,'_SimRes1',monthILBID,'.tiff')), width=400, height=400)\n",
    "    print(plot(simulationOutput))\n",
    "    dev.off()\n",
    "    \n",
    "    tiff(file.path(path_visual_, paste0(var,'_SimRes2',monthILBID,'.tiff')), width=400, height=400)\n",
    "    print(plotResiduals(simulationOutput, form = df__$Treatment))\n",
    "    dev.off()\n",
    "    tab_model(fit, collapse.ci = TRUE, p.style = \"numeric_stars\", file=file.path(path_visual_, paste0(var,'_TableModel',monthILBID,'.doc')))\n",
    "}\n",
    "\n",
    "tiff(file.path(path_visual_, paste0(var,'_OFHCoeff','.tiff')), width=400, height=400)\n",
    "plot_summs(li_model, coefs=c('TreatmentOFH'), colors='Rainbow', legend.title=var, exp=TRUE)\n",
    "dev.off()\n",
    "#truncated_nbinom2\n",
    "\n",
    "tab_model(li_model[1:5], collapse.ci = TRUE, p.style = \"numeric_stars\", file=file.path(path_visual_, paste0(var,'_TableModel1-5.doc')))\n",
    "tab_model(li_model[6:10], collapse.ci = TRUE, p.style = \"numeric_stars\", file=file.path(path_visual_, paste0(var,'_TableModel6-10.doc')))"
   ]
  },
  {
   "cell_type": "markdown",
   "id": "95b1e4e6",
   "metadata": {},
   "source": [
    "## small test with and without temperature as its correaltion =.79 only in month2 only)"
   ]
  },
  {
   "cell_type": "code",
   "execution_count": 13,
   "id": "43c10e37",
   "metadata": {},
   "outputs": [
    {
     "name": "stderr",
     "output_type": "stream",
     "text": [
      "Warning message in dir.create(path_visual_):\n",
      "\"'G:\\VPHI\\Welfare\\2- Research Projects\\OFHE2.OriginsE2\\DataOutput\\TrackingSystem\\ALLDATA_\\OFH_model\\Month_final_PenIDWhenNeeded_bootstrap_final\\WentinWG' existe déjà\"\n"
     ]
    },
    {
     "data": {
      "text/html": [
       "<style>\n",
       ".list-inline {list-style: none; margin:0; padding: 0}\n",
       ".list-inline>li {display: inline-block}\n",
       ".list-inline>li:not(:last-child)::after {content: \"\\00b7\"; padding: 0 .5ex}\n",
       "</style>\n",
       "<ol class=list-inline><li>37455</li><li>36</li></ol>\n"
      ],
      "text/latex": [
       "\\begin{enumerate*}\n",
       "\\item 37455\n",
       "\\item 36\n",
       "\\end{enumerate*}\n"
      ],
      "text/markdown": [
       "1. 37455\n",
       "2. 36\n",
       "\n",
       "\n"
      ],
      "text/plain": [
       "[1] 37455    36"
      ]
     },
     "metadata": {},
     "output_type": "display_data"
    },
    {
     "data": {
      "text/html": [
       "<style>\n",
       ".list-inline {list-style: none; margin:0; padding: 0}\n",
       ".list-inline>li {display: inline-block}\n",
       ".list-inline>li:not(:last-child)::after {content: \"\\00b7\"; padding: 0 .5ex}\n",
       "</style>\n",
       "<ol class=list-inline><li>35847</li><li>36</li></ol>\n"
      ],
      "text/latex": [
       "\\begin{enumerate*}\n",
       "\\item 35847\n",
       "\\item 36\n",
       "\\end{enumerate*}\n"
      ],
      "text/markdown": [
       "1. 35847\n",
       "2. 36\n",
       "\n",
       "\n"
      ],
      "text/plain": [
       "[1] 35847    36"
      ]
     },
     "metadata": {},
     "output_type": "display_data"
    },
    {
     "data": {
      "text/html": [
       "<style>\n",
       ".list-inline {list-style: none; margin:0; padding: 0}\n",
       ".list-inline>li {display: inline-block}\n",
       ".list-inline>li:not(:last-child)::after {content: \"\\00b7\"; padding: 0 .5ex}\n",
       "</style>\n",
       "<ol class=list-inline><li>35533</li><li>36</li></ol>\n"
      ],
      "text/latex": [
       "\\begin{enumerate*}\n",
       "\\item 35533\n",
       "\\item 36\n",
       "\\end{enumerate*}\n"
      ],
      "text/markdown": [
       "1. 35533\n",
       "2. 36\n",
       "\n",
       "\n"
      ],
      "text/plain": [
       "[1] 35533    36"
      ]
     },
     "metadata": {},
     "output_type": "display_data"
    },
    {
     "name": "stdout",
     "output_type": "stream",
     "text": [
      "[1] \"month2\"\n"
     ]
    },
    {
     "name": "stderr",
     "output_type": "stream",
     "text": [
      "Warning message in Matrix::sparseMatrix(dims = c(0, 0), i = integer(0), j = integer(0), :\n",
      "\"'giveCsparse' has been deprecated; setting 'repr = \"T\"' for you\"\n",
      "Warning message in Matrix::sparseMatrix(dims = c(0, 0), i = integer(0), j = integer(0), :\n",
      "\"'giveCsparse' has been deprecated; setting 'repr = \"T\"' for you\"\n",
      "Warning message in Matrix::sparseMatrix(dims = c(0, 0), i = integer(0), j = integer(0), :\n",
      "\"'giveCsparse' has been deprecated; setting 'repr = \"T\"' for you\"\n",
      "Warning message in Matrix::sparseMatrix(dims = c(0, 0), i = integer(0), j = integer(0), :\n",
      "\"'giveCsparse' has been deprecated; setting 'repr = \"T\"' for you\"\n",
      "Warning message in Matrix::sparseMatrix(dims = c(0, 0), i = integer(0), j = integer(0), :\n",
      "\"'giveCsparse' has been deprecated; setting 'repr = \"T\"' for you\"\n",
      "Warning message in Matrix::sparseMatrix(dims = c(0, 0), i = integer(0), j = integer(0), :\n",
      "\"'giveCsparse' has been deprecated; setting 'repr = \"T\"' for you\"\n"
     ]
    },
    {
     "name": "stdout",
     "output_type": "stream",
     "text": [
      "Data: df__\n",
      "Models:\n",
      "fit_nopenid: WentinWG ~ CLASS + Treatment + rescale(DIB) + rescale(weight_interp) + , zi=~0, disp=~1\n",
      "fit_nopenid:     rescale(nbr_h_per_day) + rescale(nbr_h_WGopen) + rescale(temperature_C_avg) + , zi=~0, disp=~1\n",
      "fit_nopenid:     (1 | HenID), zi=~0, disp=~1\n",
      "fit_penid: WentinWG ~ CLASS + Treatment + rescale(DIB) + rescale(weight_interp) + , zi=~0, disp=~1\n",
      "fit_penid:     rescale(nbr_h_per_day) + rescale(nbr_h_WGopen) + rescale(temperature_C_avg) + , zi=~0, disp=~1\n",
      "fit_penid:     (1 | PenID/HenID), zi=~0, disp=~1\n",
      "            Df    AIC    BIC  logLik deviance Chisq Chi Df Pr(>Chisq)\n",
      "fit_nopenid 10 3264.9 3328.0 -1622.4   3244.9                        \n",
      "fit_penid   11 3266.9 3336.3 -1622.4   3244.9     0      1          1\n"
     ]
    },
    {
     "data": {
      "text/plain": [
       " Family: binomial  ( logit )\n",
       "Formula:          \n",
       "WentinWG ~ CLASS + Treatment + rescale(DIB) + rescale(weight_interp) +  \n",
       "    rescale(nbr_h_per_day) + rescale(nbr_h_WGopen) + rescale(temperature_C_avg) +  \n",
       "    (1 | HenID)\n",
       "Data: df__\n",
       "\n",
       "     AIC      BIC   logLik deviance df.resid \n",
       "  3264.9   3328.0  -1622.4   3244.9     4050 \n",
       "\n",
       "Random effects:\n",
       "\n",
       "Conditional model:\n",
       " Groups Name        Variance Std.Dev.\n",
       " HenID  (Intercept) 8.285    2.878   \n",
       "Number of obs: 4060, groups:  HenID, 173\n",
       "\n",
       "Conditional model:\n",
       "                           Estimate Std. Error z value Pr(>|z|)    \n",
       "(Intercept)                 1.18724    0.38229   3.106   0.0019 ** \n",
       "CLASSLEXP                  -0.28726    0.63244  -0.454   0.6497    \n",
       "CLASSMEXP                  -0.02954    0.58534  -0.050   0.9597    \n",
       "TreatmentOFH               -0.05951    0.47060  -0.126   0.8994    \n",
       "rescale(DIB)               -0.95509    0.41332  -2.311   0.0208 *  \n",
       "rescale(weight_interp)      0.49935    0.52443   0.952   0.3410    \n",
       "rescale(nbr_h_per_day)      0.46400    0.25240   1.838   0.0660 .  \n",
       "rescale(nbr_h_WGopen)       1.26120    0.10918  11.551   <2e-16 ***\n",
       "rescale(temperature_C_avg)  0.58478    0.19840   2.947   0.0032 ** \n",
       "---\n",
       "Signif. codes:  0 '***' 0.001 '**' 0.01 '*' 0.05 '.' 0.1 ' ' 1"
      ]
     },
     "metadata": {},
     "output_type": "display_data"
    }
   ],
   "source": [
    "var = 'WentinWG'\n",
    "path_visual_ = file.path(path_visual, var)\n",
    "dir.create(path_visual_)\n",
    "dim(df)\n",
    "df_ = subset(df, !is.na(WentinWG))\n",
    "dim(df_)\n",
    "df_ = subset(df_, !is.na(temperature_C_avg))\n",
    "dim(df_)\n",
    "\n",
    "monthILBID = 'month2'\n",
    "print(monthILBID)\n",
    "df__ = df_[df_$monthILB==monthILBID,]\n",
    "#drop factors not existing in this subdataframe\n",
    "df__$HenID = factor(df__$HenID) \n",
    "df__$PenID = factor(df__$PenID)\n",
    "df__$CLASS = factor(df__$CLASS) \n",
    "#monthILB1-monthILB2: no KBF but nbr_h_per_day_sc, after KBF but no nbr_h_per_day_sc\n",
    "fit_penid = glmmTMB(WentinWG ~  CLASS+ Treatment + rescale(DIB) +rescale(weight_interp)+rescale(nbr_h_per_day)+ rescale(nbr_h_WGopen)+ rescale(temperature_C_avg)+(1|PenID/HenID), \n",
    "           data=df__, family=binomial)\n",
    "fit_nopenid = glmmTMB(WentinWG ~  CLASS+ Treatment + rescale(DIB) +rescale(weight_interp)+rescale(nbr_h_per_day)+ rescale(nbr_h_WGopen)+ rescale(temperature_C_avg)+(1|HenID), \n",
    "           data=df__, family=binomial)\n",
    "print(anova(fit_nopenid,fit_penid))\n",
    "p_value = anova(fit_nopenid,fit_penid)['Pr(>Chisq)']['fit_penid',]\n",
    "if (p_value<0.05){\n",
    "    fit = fit_penid    \n",
    "}else{\n",
    "    fit = fit_nopenid    \n",
    "}\n",
    "\n",
    "summary(fit)"
   ]
  },
  {
   "cell_type": "code",
   "execution_count": 14,
   "id": "818bd975",
   "metadata": {},
   "outputs": [
    {
     "name": "stderr",
     "output_type": "stream",
     "text": [
      "Warning message in dir.create(path_visual_):\n",
      "\"'G:\\VPHI\\Welfare\\2- Research Projects\\OFHE2.OriginsE2\\DataOutput\\TrackingSystem\\ALLDATA_\\OFH_model\\Month_final_PenIDWhenNeeded_bootstrap_final\\WentinWG' existe déjà\"\n"
     ]
    },
    {
     "data": {
      "text/html": [
       "<style>\n",
       ".list-inline {list-style: none; margin:0; padding: 0}\n",
       ".list-inline>li {display: inline-block}\n",
       ".list-inline>li:not(:last-child)::after {content: \"\\00b7\"; padding: 0 .5ex}\n",
       "</style>\n",
       "<ol class=list-inline><li>37455</li><li>36</li></ol>\n"
      ],
      "text/latex": [
       "\\begin{enumerate*}\n",
       "\\item 37455\n",
       "\\item 36\n",
       "\\end{enumerate*}\n"
      ],
      "text/markdown": [
       "1. 37455\n",
       "2. 36\n",
       "\n",
       "\n"
      ],
      "text/plain": [
       "[1] 37455    36"
      ]
     },
     "metadata": {},
     "output_type": "display_data"
    },
    {
     "data": {
      "text/html": [
       "<style>\n",
       ".list-inline {list-style: none; margin:0; padding: 0}\n",
       ".list-inline>li {display: inline-block}\n",
       ".list-inline>li:not(:last-child)::after {content: \"\\00b7\"; padding: 0 .5ex}\n",
       "</style>\n",
       "<ol class=list-inline><li>35847</li><li>36</li></ol>\n"
      ],
      "text/latex": [
       "\\begin{enumerate*}\n",
       "\\item 35847\n",
       "\\item 36\n",
       "\\end{enumerate*}\n"
      ],
      "text/markdown": [
       "1. 35847\n",
       "2. 36\n",
       "\n",
       "\n"
      ],
      "text/plain": [
       "[1] 35847    36"
      ]
     },
     "metadata": {},
     "output_type": "display_data"
    },
    {
     "data": {
      "text/html": [
       "<style>\n",
       ".list-inline {list-style: none; margin:0; padding: 0}\n",
       ".list-inline>li {display: inline-block}\n",
       ".list-inline>li:not(:last-child)::after {content: \"\\00b7\"; padding: 0 .5ex}\n",
       "</style>\n",
       "<ol class=list-inline><li>35533</li><li>36</li></ol>\n"
      ],
      "text/latex": [
       "\\begin{enumerate*}\n",
       "\\item 35533\n",
       "\\item 36\n",
       "\\end{enumerate*}\n"
      ],
      "text/markdown": [
       "1. 35533\n",
       "2. 36\n",
       "\n",
       "\n"
      ],
      "text/plain": [
       "[1] 35533    36"
      ]
     },
     "metadata": {},
     "output_type": "display_data"
    },
    {
     "name": "stdout",
     "output_type": "stream",
     "text": [
      "[1] \"month2\"\n"
     ]
    },
    {
     "name": "stderr",
     "output_type": "stream",
     "text": [
      "Warning message in Matrix::sparseMatrix(dims = c(0, 0), i = integer(0), j = integer(0), :\n",
      "\"'giveCsparse' has been deprecated; setting 'repr = \"T\"' for you\"\n",
      "Warning message in Matrix::sparseMatrix(dims = c(0, 0), i = integer(0), j = integer(0), :\n",
      "\"'giveCsparse' has been deprecated; setting 'repr = \"T\"' for you\"\n",
      "Warning message in Matrix::sparseMatrix(dims = c(0, 0), i = integer(0), j = integer(0), :\n",
      "\"'giveCsparse' has been deprecated; setting 'repr = \"T\"' for you\"\n",
      "Warning message in Matrix::sparseMatrix(dims = c(0, 0), i = integer(0), j = integer(0), :\n",
      "\"'giveCsparse' has been deprecated; setting 'repr = \"T\"' for you\"\n",
      "Warning message in Matrix::sparseMatrix(dims = c(0, 0), i = integer(0), j = integer(0), :\n",
      "\"'giveCsparse' has been deprecated; setting 'repr = \"T\"' for you\"\n",
      "Warning message in Matrix::sparseMatrix(dims = c(0, 0), i = integer(0), j = integer(0), :\n",
      "\"'giveCsparse' has been deprecated; setting 'repr = \"T\"' for you\"\n"
     ]
    },
    {
     "name": "stdout",
     "output_type": "stream",
     "text": [
      "Data: df__\n",
      "Models:\n",
      "fit_nopenid: WentinWG ~ CLASS + Treatment + rescale(DIB) + rescale(weight_interp) + , zi=~0, disp=~1\n",
      "fit_nopenid:     rescale(nbr_h_per_day) + rescale(nbr_h_WGopen) + (1 | HenID), zi=~0, disp=~1\n",
      "fit_penid: WentinWG ~ CLASS + Treatment + rescale(DIB) + rescale(weight_interp) + , zi=~0, disp=~1\n",
      "fit_penid:     rescale(nbr_h_per_day) + rescale(nbr_h_WGopen) + (1 | PenID/HenID), zi=~0, disp=~1\n",
      "            Df    AIC    BIC  logLik deviance Chisq Chi Df Pr(>Chisq)\n",
      "fit_nopenid  9 3271.7 3328.5 -1626.8   3253.7                        \n",
      "fit_penid   10 3273.7 3336.8 -1626.8   3253.7     0      1          1\n"
     ]
    },
    {
     "data": {
      "text/plain": [
       " Family: binomial  ( logit )\n",
       "Formula:          \n",
       "WentinWG ~ CLASS + Treatment + rescale(DIB) + rescale(weight_interp) +  \n",
       "    rescale(nbr_h_per_day) + rescale(nbr_h_WGopen) + (1 | HenID)\n",
       "Data: df__\n",
       "\n",
       "     AIC      BIC   logLik deviance df.resid \n",
       "  3271.7   3328.5  -1626.8   3253.7     4051 \n",
       "\n",
       "Random effects:\n",
       "\n",
       "Conditional model:\n",
       " Groups Name        Variance Std.Dev.\n",
       " HenID  (Intercept) 8.189    2.862   \n",
       "Number of obs: 4060, groups:  HenID, 173\n",
       "\n",
       "Conditional model:\n",
       "                       Estimate Std. Error z value Pr(>|z|)    \n",
       "(Intercept)             1.17794    0.38008   3.099  0.00194 ** \n",
       "CLASSLEXP              -0.28659    0.62894  -0.456  0.64863    \n",
       "CLASSMEXP              -0.03010    0.58203  -0.052  0.95876    \n",
       "TreatmentOFH           -0.04696    0.46793  -0.100  0.92006    \n",
       "rescale(DIB)           -1.69476    0.32838  -5.161 2.46e-07 ***\n",
       "rescale(weight_interp)  0.39901    0.51935   0.768  0.44232    \n",
       "rescale(nbr_h_per_day)  0.85458    0.21391   3.995 6.47e-05 ***\n",
       "rescale(nbr_h_WGopen)   1.26384    0.10908  11.586  < 2e-16 ***\n",
       "---\n",
       "Signif. codes:  0 '***' 0.001 '**' 0.01 '*' 0.05 '.' 0.1 ' ' 1"
      ]
     },
     "metadata": {},
     "output_type": "display_data"
    }
   ],
   "source": [
    "var = 'WentinWG'\n",
    "path_visual_ = file.path(path_visual, var)\n",
    "dir.create(path_visual_)\n",
    "dim(df)\n",
    "df_ = subset(df, !is.na(WentinWG))\n",
    "dim(df_)\n",
    "df_ = subset(df_, !is.na(temperature_C_avg))\n",
    "dim(df_)\n",
    "\n",
    "monthILBID = 'month2'\n",
    "print(monthILBID)\n",
    "df__ = df_[df_$monthILB==monthILBID,]\n",
    "#drop factors not existing in this subdataframe\n",
    "df__$HenID = factor(df__$HenID) \n",
    "df__$PenID = factor(df__$PenID)\n",
    "df__$CLASS = factor(df__$CLASS) \n",
    "#monthILB1-monthILB2: no KBF but nbr_h_per_day_sc, after KBF but no nbr_h_per_day_sc\n",
    "fit_penid = glmmTMB(WentinWG ~  CLASS+ Treatment + rescale(DIB) +rescale(weight_interp)+rescale(nbr_h_per_day)+ rescale(nbr_h_WGopen)+(1|PenID/HenID), \n",
    "           data=df__, family=binomial)\n",
    "fit_nopenid = glmmTMB(WentinWG ~  CLASS+ Treatment + rescale(DIB) +rescale(weight_interp)+rescale(nbr_h_per_day)+ rescale(nbr_h_WGopen)+(1|HenID), \n",
    "           data=df__, family=binomial)\n",
    "print(anova(fit_nopenid,fit_penid))\n",
    "p_value = anova(fit_nopenid,fit_penid)['Pr(>Chisq)']['fit_penid',]\n",
    "if (p_value<0.05){\n",
    "    fit = fit_penid    \n",
    "}else{\n",
    "    fit = fit_nopenid    \n",
    "}\n",
    "\n",
    "summary(fit)"
   ]
  },
  {
   "cell_type": "code",
   "execution_count": null,
   "id": "def99586",
   "metadata": {},
   "outputs": [],
   "source": []
  },
  {
   "cell_type": "code",
   "execution_count": null,
   "id": "d617d39f",
   "metadata": {},
   "outputs": [],
   "source": []
  },
  {
   "cell_type": "code",
   "execution_count": null,
   "id": "d35773df",
   "metadata": {},
   "outputs": [],
   "source": []
  },
  {
   "cell_type": "code",
   "execution_count": null,
   "id": "d6998bd9",
   "metadata": {},
   "outputs": [],
   "source": []
  },
  {
   "cell_type": "code",
   "execution_count": null,
   "id": "7fe33ed2",
   "metadata": {},
   "outputs": [],
   "source": []
  },
  {
   "cell_type": "code",
   "execution_count": null,
   "id": "51f23287",
   "metadata": {},
   "outputs": [],
   "source": []
  },
  {
   "cell_type": "code",
   "execution_count": null,
   "id": "29e286a2",
   "metadata": {},
   "outputs": [],
   "source": []
  },
  {
   "cell_type": "code",
   "execution_count": null,
   "id": "d7cee7cf",
   "metadata": {},
   "outputs": [],
   "source": []
  }
 ],
 "metadata": {
  "kernelspec": {
   "display_name": " Rkernel ",
   "language": "R",
   "name": "rkernel"
  },
  "language_info": {
   "codemirror_mode": "r",
   "file_extension": ".r",
   "mimetype": "text/x-r-source",
   "name": "R",
   "pygments_lexer": "r",
   "version": "3.6.1"
  }
 },
 "nbformat": 4,
 "nbformat_minor": 5
}
