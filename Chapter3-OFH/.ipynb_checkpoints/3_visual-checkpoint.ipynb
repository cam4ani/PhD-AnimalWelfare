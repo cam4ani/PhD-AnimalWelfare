{
 "cells": [
  {
   "cell_type": "code",
   "execution_count": 1,
   "id": "043d5944",
   "metadata": {},
   "outputs": [
    {
     "name": "stderr",
     "output_type": "stream",
     "text": [
      "C:\\Users\\camil\\anaconda3\\lib\\site-packages\\numpy\\_distributor_init.py:30: UserWarning: loaded more than 1 DLL from .libs:\n",
      "C:\\Users\\camil\\anaconda3\\lib\\site-packages\\numpy\\.libs\\libopenblas.FB5AE2TYXYH2IJRDKGDGQ3XBKLKTF43H.gfortran-win_amd64.dll\n",
      "C:\\Users\\camil\\anaconda3\\lib\\site-packages\\numpy\\.libs\\libopenblas.WCDJNK7YVMPZQ2ME2ZZHJJRJ3JIKNDB7.gfortran-win_amd64.dll\n",
      "  warnings.warn(\"loaded more than 1 DLL from .libs:\"\n"
     ]
    }
   ],
   "source": [
    "#basic package\n",
    "import tqdm\n",
    "import os\n",
    "import numpy as np\n",
    "import pandas as pd\n",
    "import sys\n",
    "import time\n",
    "import glob\n",
    "import datetime as dt\n",
    "import itertools\n",
    "import math\n",
    "import random\n",
    "import pickle\n",
    "from scipy import stats\n",
    "from numpy.linalg import eig #eigenvector decomposition\n",
    "\n",
    "#plot\n",
    "import matplotlib.pyplot as plt\n",
    "import seaborn as sns\n",
    "from  matplotlib.colors import LinearSegmentedColormap  # to define our own palette for plots\n",
    "from matplotlib import pyplot #barplot"
   ]
  },
  {
   "cell_type": "code",
   "execution_count": null,
   "id": "7961c8c9",
   "metadata": {},
   "outputs": [],
   "source": [
    "PACKAGE_PARENT = '../'\n",
    "SCRIPT_DIR = os.path.dirname(os.path.realpath(os.path.join(os.getcwd(), os.path.expanduser('__file__'))))\n",
    "sys.path.append(os.path.normpath(os.path.join(SCRIPT_DIR, PACKAGE_PARENT)))\n",
    "import config_origins as config"
   ]
  },
  {
   "cell_type": "code",
   "execution_count": null,
   "id": "ef5a0f4c",
   "metadata": {},
   "outputs": [],
   "source": [
    "print('change the configuration file if not done yet!')\n",
    "path_extracted_data = config.path_extracted_data\n",
    "id_run = config.id_run\n",
    "path_extracted_data\n",
    "name = 'OFH'"
   ]
  },
  {
   "cell_type": "code",
   "execution_count": null,
   "id": "9e7aae5b",
   "metadata": {},
   "outputs": [],
   "source": [
    "pal_treat_ = {'OFH':'orangered','TRAN':'royalblue'}\n",
    "pal_pens = {3:'lightsalmon', 5:'indianred', 7:'grey', 9:'tomato', 11:'red', \n",
    "            4:'cornflowerblue', 6:'grey', 8:'deepskyblue',10:'skyblue', 12:'royalblue'}"
   ]
  },
  {
   "cell_type": "markdown",
   "id": "c7b4e75b",
   "metadata": {},
   "source": [
    "# health indicators"
   ]
  },
  {
   "cell_type": "code",
   "execution_count": null,
   "id": "9fbf2baa",
   "metadata": {},
   "outputs": [],
   "source": [
    "df_HA = pd.read_csv(os.path.join(path_extracted_data, 'OFH_df_HA.csv'), sep=',')\n",
    "df_HA['DOA'] = df_HA['DOA'].map(lambda x: int(x))\n",
    "print(df_HA.shape) \n",
    "display(df_HA.head(3))"
   ]
  },
  {
   "cell_type": "code",
   "execution_count": null,
   "id": "a09db948",
   "metadata": {},
   "outputs": [],
   "source": [
    "df_W = pd.read_csv(os.path.join(path_extracted_data, 'OFH_df_FOCALBIRDS.csv'), sep=',')\n",
    "print(df_W.shape) \n",
    "display(df_W.head(3))"
   ]
  },
  {
   "cell_type": "code",
   "execution_count": null,
   "id": "10399829",
   "metadata": {},
   "outputs": [],
   "source": [
    "plt.figure(figsize=(4,4))\n",
    "sns.violinplot(x='DOA',y='severity', hue='Treatment', palette=pal_treat_, data=df_HA[df_HA['DOA']>200], saturation=1);\n",
    "plt.grid()\n",
    "plt.ylabel('KBF severity')\n",
    "plt.xlabel('day of age')\n",
    "plt.legend([],[], frameon=False)\n",
    "plt.savefig(os.path.join(path_extracted_data,'0FH_HA',name+'_severity_violine.png'), transparent=True, bbox_inches='tight')\n",
    "plt.show()"
   ]
  },
  {
   "cell_type": "code",
   "execution_count": null,
   "id": "a4f79d18",
   "metadata": {},
   "outputs": [],
   "source": [
    "plt.figure(figsize=(4,4))\n",
    "sns.violinplot(x='DOA',y='FeatherDamage', hue='Treatment', palette=pal_treat_,data=df_HA[df_HA['DOA']>230], saturation=1);\n",
    "plt.ylabel('Feather dammage')\n",
    "plt.xlabel('day of age')\n",
    "plt.grid()\n",
    "plt.savefig(os.path.join(path_extracted_data,'0FH_HA',name+'_FeatherDamage_violine.png'), transparent=True, bbox_inches='tight')\n",
    "#sns.histplot(x='severity',hue='date', data=df_HA[df_HA['DOA']>173]);"
   ]
  },
  {
   "cell_type": "code",
   "execution_count": null,
   "id": "b70fa444",
   "metadata": {},
   "outputs": [],
   "source": [
    "plt.figure(figsize=(4,4))\n",
    "sns.violinplot(x='DOA',y='weight', hue='Treatment', palette=pal_treat_, data=df_W[df_W['DOA']!=7], saturation=1);\n",
    "plt.legend([],[], frameon=False)\n",
    "plt.ylabel('Weight (g)')\n",
    "plt.xlabel('day of age')\n",
    "plt.grid()\n",
    "plt.savefig(os.path.join(path_extracted_data,'0FH_HA',name+'_Weight_violine.png'), transparent=True, bbox_inches='tight')\n",
    "#sns.histplot(x='severity',hue='date', data=df_HA[df_HA['DOA']>173]);"
   ]
  },
  {
   "cell_type": "code",
   "execution_count": null,
   "id": "9199cf68",
   "metadata": {},
   "outputs": [],
   "source": [
    "plt.figure(figsize=(1.5,4))\n",
    "sns.violinplot(x='DOA',y='weight', hue='Treatment', palette=pal_treat_, data=df_W[df_W['DOA']==7], saturation=1);\n",
    "plt.ylabel('Weight (g)')\n",
    "plt.xlabel('day of age')\n",
    "plt.legend([],[], frameon=False)\n",
    "plt.grid()\n",
    "plt.savefig(os.path.join(path_extracted_data,'0FH_HA',name+'_Weight_violine7.png'), transparent=True, bbox_inches='tight')\n",
    "#sns.histplot(x='severity',hue='date', data=df_HA[df_HA['DOA']>173]);"
   ]
  },
  {
   "cell_type": "markdown",
   "id": "b67704a4",
   "metadata": {},
   "source": [
    "# Table mean mvt"
   ]
  },
  {
   "cell_type": "code",
   "execution_count": null,
   "id": "ff84b16d",
   "metadata": {},
   "outputs": [],
   "source": [
    "df_mvt = pd.read_csv(os.path.join(path_extracted_data, 'OFH_df_all_mvt.csv'), sep=',')\n",
    "li_prop = ['propindoor_duration_2_Zone','propindoor_duration_4_Zone','propindoor_duration_5_Zone']\n",
    "#because of nan we have to use split, cant convert nan to integer\n",
    "#for mvtprop in li_prop:\n",
    "#    df_mvt[mvtprop.replace('prop','perc')] = df_mvt[mvtprop].map(lambda x: x*100)\n",
    "print(df_mvt.shape) \n",
    "display(df_mvt.head(3))"
   ]
  },
  {
   "cell_type": "code",
   "execution_count": null,
   "id": "79548839",
   "metadata": {},
   "outputs": [],
   "source": [
    "li_mvt = ['propindoor_duration_2_Zone','propindoor_duration_5_Zone','mid_cum_Z4_h_Morning','vertical_travel_distance',\n",
    "        'propindoor_duration_4_Zone','WentinWG']"
   ]
  },
  {
   "cell_type": "code",
   "execution_count": null,
   "id": "fbb2cf72",
   "metadata": {},
   "outputs": [],
   "source": [
    "df_table1 = df_mvt.groupby(['monthILB','Treatment'])[li_mvt].agg(lambda x:\"%.2f\" % round(np.nanmean(x),2)+' ±'+\"%.2f\" % round(np.nanstd(x),2)).reset_index()\n",
    "df_table1['order'] = df_table1['monthILB'].map(lambda x: int(x.split('th')[-1]))\n",
    "df_table1.sort_values('order', inplace=True)\n",
    "df_table1.drop('order', axis=1, inplace=True)\n",
    "df_table1 = df_table1.replace('nan ±nan','')\n",
    "df_table1.rename(columns={'propindoor_duration_2_Zone':'proportion of time spent in litter floor',\n",
    "                          'propindoor_duration_5_Zone':'proportion of time spent in top tier',\n",
    "                          'mid_cum_Z4_h_Morning':'nestbox tier usage',\n",
    "                          'vertical_travel_distance':'vertical travelled distance',\n",
    "                          'propindoor_duration_4_Zone':'proportion of time spent in nestbox tier',\n",
    "                          'WentinWG':'WG presence',\n",
    "                          'monthILB':'month in the laying barn','Treatment':'treatment'}, inplace=True)\n",
    "df_table1 = df_table1[['month in the laying barn','treatment','proportion of time spent in top tier','proportion of time spent in litter floor',\n",
    "          'proportion of time spent in nestbox tier','WG presence','vertical travelled distance','nestbox tier usage']]\n",
    "df_table1.to_csv(os.path.join(path_extracted_data, 'OFH_meanbehaviour_SD.csv'), index=False, sep=',')\n",
    "df_table1"
   ]
  },
  {
   "cell_type": "code",
   "execution_count": null,
   "id": "1e785714",
   "metadata": {
    "scrolled": true
   },
   "outputs": [],
   "source": [
    "df_tableOFH = df_mvt[df_mvt['Treatment']=='OFH'].groupby('monthILB')[li_mvt].agg(lambda x:\"%.2f\" % round(np.nanmean(x),2)).reset_index()\n",
    "df_tableTRAN = df_mvt[df_mvt['Treatment']=='TRAN'].groupby('monthILB')[li_mvt].agg(lambda x:\"%.2f\" % round(np.nanmean(x),2)).reset_index()\n",
    "df_tableALL = df_tableOFH.copy()\n",
    "for mvt in li_mvt:\n",
    "    df_tableALL[mvt] = df_tableALL.apply(lambda x: x[mvt] + ' vs. ' +df_tableTRAN[df_tableTRAN['monthILB']==x['monthILB']][mvt].values[0], axis=1)\n",
    "df_tableALL['order'] = df_tableALL['monthILB'].map(lambda x: int(x.split('th')[-1]))\n",
    "df_tableALL.sort_values('order', inplace=True)\n",
    "df_tableALL.drop('order', axis=1, inplace=True)\n",
    "df_tableALL = df_tableALL.replace('nan vs.nan','')\n",
    "df_tableALL.rename(columns={'propindoor_duration_2_Zone':'proportion of time spent in litter floor',\n",
    "                          'propindoor_duration_5_Zone':'proportion of time spent in top tier',\n",
    "                          'mid_cum_Z4_h_Morning':'nestbox tier usage',\n",
    "                          'vertical_travel_distance':'vertical travelled distance',\n",
    "                          'propindoor_duration_4_Zone':'proportion of time spent in nestbox tier',\n",
    "                          'WentinWG':'WG presence',\n",
    "                          'monthILB':'month in the laying barn'}, inplace=True)\n",
    "df_tableALL = df_tableALL[['month in the laying barn','proportion of time spent in top tier','proportion of time spent in litter floor',\n",
    "          'proportion of time spent in nestbox tier','WG presence','vertical travelled distance','nestbox tier usage']]\n",
    "df_tableALL.to_csv(os.path.join(path_extracted_data, 'OFH_meanbehaviour.csv'), index=False, sep=',')\n",
    "df_tableALL"
   ]
  },
  {
   "cell_type": "markdown",
   "id": "8e33e022",
   "metadata": {},
   "source": [
    "# mvt high R investigation"
   ]
  },
  {
   "cell_type": "code",
   "execution_count": null,
   "id": "889130da",
   "metadata": {},
   "outputs": [],
   "source": [
    "df_mvt.head(3)"
   ]
  },
  {
   "cell_type": "code",
   "execution_count": null,
   "id": "ff5e5610",
   "metadata": {},
   "outputs": [],
   "source": [
    "plt.figure(figsize=(10,10))\n",
    "sns.boxplot(x='HenID',y='propindoor_duration_2_Zone_rs',data=df_mvt[df_mvt['monthILB']=='month2']);"
   ]
  },
  {
   "cell_type": "markdown",
   "id": "c2f8a4a3",
   "metadata": {},
   "source": [
    "# egg growth curve"
   ]
  },
  {
   "cell_type": "code",
   "execution_count": null,
   "id": "27738685",
   "metadata": {},
   "outputs": [],
   "source": [
    "df_prod = pd.read_csv(os.path.join(path_extracted_data, 'OFH_performance', 'egg_growthcurve.csv'), sep=',')\n",
    "print(df_prod.shape)\n",
    "df_prod.head(3)"
   ]
  },
  {
   "cell_type": "code",
   "execution_count": null,
   "id": "2c90de47",
   "metadata": {},
   "outputs": [],
   "source": [
    "dico_pen_tr = config.dico_pen_tr\n",
    "def matching_(x):\n",
    "    if 'Asym' in x:\n",
    "        return 'Asym'\n",
    "    if 'xmid' in x:\n",
    "        return 'xmid'\n",
    "    if 'scal' in x:\n",
    "        return 'scal'\n",
    "    else:\n",
    "        return None\n",
    "df_prod['type'] = df_prod['Unnamed: 0'].map(lambda x: matching_(x))\n",
    "df_prod['Treatment'] = df_prod['PenID'].map(lambda x: dico_pen_tr[x].split('-')[0])\n",
    "display(df_prod['type'].value_counts())\n",
    "display(df_prod['Treatment'].value_counts())\n",
    "display(df_prod.head(3))"
   ]
  },
  {
   "cell_type": "code",
   "execution_count": null,
   "id": "2214e27e",
   "metadata": {
    "scrolled": true
   },
   "outputs": [],
   "source": [
    "for type_,df_ in df_prod.groupby('type'):\n",
    "    plt.figure(figsize=(3,5))\n",
    "    sns.boxplot(x='Treatment',y='Estimate',data=df_, color='white', fliersize=0) #[pal_treat[tr] for tr in df_['Treatment'].tolist()]);\n",
    "    sns.stripplot(x='Treatment',y='Estimate',data=df_, size=8, hue='PenID', palette=pal_pens)\n",
    "    plt.legend(bbox_to_anchor=(1.05, 1), loc='upper left', borderaxespad=0, title='PenID')\n",
    "    plt.title(type_)\n",
    "    plt.savefig(os.path.join(path_extracted_data,'OFH_performance',type_+'_Weight_violine7.png'), transparent=True, bbox_inches='tight')\n",
    "    plt.show();"
   ]
  },
  {
   "cell_type": "markdown",
   "id": "247ecf3c",
   "metadata": {},
   "source": [
    "# egg long term"
   ]
  },
  {
   "cell_type": "code",
   "execution_count": null,
   "id": "5837e8d7",
   "metadata": {},
   "outputs": [],
   "source": [
    "#initial data\n",
    "df_prodinit = pd.read_csv(os.path.join(path_extracted_data, 'df_eggdata.csv'), sep=',')\n",
    "print(df_prodinit.shape)\n",
    "print(df_prodinit['Date'].max())\n",
    "df_prodinit.head(3)"
   ]
  },
  {
   "cell_type": "code",
   "execution_count": null,
   "id": "aa0c28b1",
   "metadata": {},
   "outputs": [],
   "source": [
    "df_ltegg = df_prodinit[df_prodinit['DIB']>60].copy()"
   ]
  },
  {
   "cell_type": "code",
   "execution_count": null,
   "id": "8fa6d7c0",
   "metadata": {},
   "outputs": [],
   "source": [
    "sns.violinplot(x='PenID',y='#eggPerTier',data=df_ltegg[df_ltegg['Treatment_allpens']=='OFH'],palette=pal_pens)\n",
    "plt.grid(True)"
   ]
  },
  {
   "cell_type": "code",
   "execution_count": null,
   "id": "219ab595",
   "metadata": {},
   "outputs": [],
   "source": [
    "sns.violinplot(x='PenID',y='#eggPerTier',data=df_ltegg[df_ltegg['Treatment_allpens']=='TRAN'],palette=pal_pens)\n",
    "plt.grid(True)"
   ]
  },
  {
   "cell_type": "code",
   "execution_count": null,
   "id": "c14ba9fb",
   "metadata": {},
   "outputs": [],
   "source": []
  },
  {
   "cell_type": "code",
   "execution_count": null,
   "id": "dc62c713",
   "metadata": {},
   "outputs": [],
   "source": []
  },
  {
   "cell_type": "code",
   "execution_count": null,
   "id": "8e57c005",
   "metadata": {},
   "outputs": [],
   "source": []
  },
  {
   "cell_type": "code",
   "execution_count": null,
   "id": "d2ecde70",
   "metadata": {},
   "outputs": [],
   "source": []
  },
  {
   "cell_type": "code",
   "execution_count": null,
   "id": "6dbb6794",
   "metadata": {},
   "outputs": [],
   "source": []
  },
  {
   "cell_type": "code",
   "execution_count": null,
   "id": "9462ec02",
   "metadata": {},
   "outputs": [],
   "source": []
  },
  {
   "cell_type": "code",
   "execution_count": null,
   "id": "3002ef28",
   "metadata": {},
   "outputs": [],
   "source": []
  }
 ],
 "metadata": {
  "kernelspec": {
   "display_name": "Python 3 (ipykernel)",
   "language": "python",
   "name": "python3"
  },
  "language_info": {
   "codemirror_mode": {
    "name": "ipython",
    "version": 3
   },
   "file_extension": ".py",
   "mimetype": "text/x-python",
   "name": "python",
   "nbconvert_exporter": "python",
   "pygments_lexer": "ipython3",
   "version": "3.8.12"
  }
 },
 "nbformat": 4,
 "nbformat_minor": 5
}
