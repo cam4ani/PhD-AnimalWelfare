{
 "cells": [
  {
   "cell_type": "code",
   "execution_count": 1,
   "id": "043d5944",
   "metadata": {},
   "outputs": [
    {
     "name": "stderr",
     "output_type": "stream",
     "text": [
      "C:\\Users\\camil\\anaconda3\\lib\\site-packages\\numpy\\_distributor_init.py:30: UserWarning: loaded more than 1 DLL from .libs:\n",
      "C:\\Users\\camil\\anaconda3\\lib\\site-packages\\numpy\\.libs\\libopenblas.FB5AE2TYXYH2IJRDKGDGQ3XBKLKTF43H.gfortran-win_amd64.dll\n",
      "C:\\Users\\camil\\anaconda3\\lib\\site-packages\\numpy\\.libs\\libopenblas.WCDJNK7YVMPZQ2ME2ZZHJJRJ3JIKNDB7.gfortran-win_amd64.dll\n",
      "  warnings.warn(\"loaded more than 1 DLL from .libs:\"\n"
     ]
    }
   ],
   "source": [
    "#basic package\n",
    "import tqdm\n",
    "import os\n",
    "import numpy as np\n",
    "import pandas as pd\n",
    "import sys\n",
    "import time\n",
    "import glob\n",
    "import datetime as dt\n",
    "import itertools\n",
    "import math\n",
    "import random\n",
    "import pickle\n",
    "from scipy import stats\n",
    "from numpy.linalg import eig #eigenvector decomposition\n",
    "\n",
    "#plot\n",
    "import matplotlib.pyplot as plt\n",
    "import seaborn as sns\n",
    "from  matplotlib.colors import LinearSegmentedColormap  # to define our own palette for plots\n",
    "from matplotlib import pyplot #barplot"
   ]
  },
  {
   "cell_type": "code",
   "execution_count": 2,
   "id": "7961c8c9",
   "metadata": {},
   "outputs": [],
   "source": [
    "PACKAGE_PARENT = '../'\n",
    "SCRIPT_DIR = os.path.dirname(os.path.realpath(os.path.join(os.getcwd(), os.path.expanduser('__file__'))))\n",
    "sys.path.append(os.path.normpath(os.path.join(SCRIPT_DIR, PACKAGE_PARENT)))\n",
    "import config_origins as config"
   ]
  },
  {
   "cell_type": "code",
   "execution_count": 3,
   "id": "ef5a0f4c",
   "metadata": {},
   "outputs": [
    {
     "name": "stdout",
     "output_type": "stream",
     "text": [
      "change the configuration file if not done yet!\n"
     ]
    }
   ],
   "source": [
    "print('change the configuration file if not done yet!')\n",
    "path_extracted_data = config.path_extracted_data\n",
    "id_run = config.id_run\n",
    "path_extracted_data\n",
    "name = 'OFH'"
   ]
  },
  {
   "cell_type": "code",
   "execution_count": 4,
   "id": "9e7aae5b",
   "metadata": {},
   "outputs": [],
   "source": [
    "pal_treat_ = {'OFH':'orangered','TRAN':'royalblue'}\n",
    "pal_pens = {3:'lightsalmon', 5:'indianred', 7:'grey', 9:'tomato', 11:'red', \n",
    "            4:'cornflowerblue', 6:'grey', 8:'deepskyblue',10:'skyblue', 12:'royalblue'}"
   ]
  },
  {
   "cell_type": "markdown",
   "id": "04627224",
   "metadata": {},
   "source": [
    "# Movements"
   ]
  },
  {
   "cell_type": "code",
   "execution_count": 5,
   "id": "d49627d0",
   "metadata": {},
   "outputs": [
    {
     "name": "stdout",
     "output_type": "stream",
     "text": [
      "(474, 10)\n"
     ]
    },
    {
     "data": {
      "text/html": [
       "<div>\n",
       "<style scoped>\n",
       "    .dataframe tbody tr th:only-of-type {\n",
       "        vertical-align: middle;\n",
       "    }\n",
       "\n",
       "    .dataframe tbody tr th {\n",
       "        vertical-align: top;\n",
       "    }\n",
       "\n",
       "    .dataframe thead th {\n",
       "        text-align: right;\n",
       "    }\n",
       "</style>\n",
       "<table border=\"1\" class=\"dataframe\">\n",
       "  <thead>\n",
       "    <tr style=\"text-align: right;\">\n",
       "      <th></th>\n",
       "      <th>Unnamed: 0</th>\n",
       "      <th>Parameter</th>\n",
       "      <th>Coefficient</th>\n",
       "      <th>CI</th>\n",
       "      <th>CI_low</th>\n",
       "      <th>CI_high</th>\n",
       "      <th>p</th>\n",
       "      <th>Effects</th>\n",
       "      <th>var</th>\n",
       "      <th>month</th>\n",
       "    </tr>\n",
       "  </thead>\n",
       "  <tbody>\n",
       "    <tr>\n",
       "      <th>0</th>\n",
       "      <td>1</td>\n",
       "      <td>(Intercept)</td>\n",
       "      <td>5.256283</td>\n",
       "      <td>0.95</td>\n",
       "      <td>5.054073</td>\n",
       "      <td>5.438603</td>\n",
       "      <td>0.000</td>\n",
       "      <td>fixed</td>\n",
       "      <td>mid_cum_Z4_h_Morning</td>\n",
       "      <td>10</td>\n",
       "    </tr>\n",
       "    <tr>\n",
       "      <th>1</th>\n",
       "      <td>2</td>\n",
       "      <td>CLASSLEXP</td>\n",
       "      <td>1.018995</td>\n",
       "      <td>0.95</td>\n",
       "      <td>0.960316</td>\n",
       "      <td>1.078208</td>\n",
       "      <td>0.516</td>\n",
       "      <td>fixed</td>\n",
       "      <td>mid_cum_Z4_h_Morning</td>\n",
       "      <td>10</td>\n",
       "    </tr>\n",
       "    <tr>\n",
       "      <th>2</th>\n",
       "      <td>3</td>\n",
       "      <td>CLASSMEXP</td>\n",
       "      <td>1.032963</td>\n",
       "      <td>0.95</td>\n",
       "      <td>0.973181</td>\n",
       "      <td>1.091932</td>\n",
       "      <td>0.224</td>\n",
       "      <td>fixed</td>\n",
       "      <td>mid_cum_Z4_h_Morning</td>\n",
       "      <td>10</td>\n",
       "    </tr>\n",
       "  </tbody>\n",
       "</table>\n",
       "</div>"
      ],
      "text/plain": [
       "   Unnamed: 0    Parameter  Coefficient    CI    CI_low   CI_high      p  \\\n",
       "0           1  (Intercept)     5.256283  0.95  5.054073  5.438603  0.000   \n",
       "1           2    CLASSLEXP     1.018995  0.95  0.960316  1.078208  0.516   \n",
       "2           3    CLASSMEXP     1.032963  0.95  0.973181  1.091932  0.224   \n",
       "\n",
       "  Effects                   var  month  \n",
       "0   fixed  mid_cum_Z4_h_Morning     10  \n",
       "1   fixed  mid_cum_Z4_h_Morning     10  \n",
       "2   fixed  mid_cum_Z4_h_Morning     10  "
      ]
     },
     "metadata": {},
     "output_type": "display_data"
    }
   ],
   "source": [
    "li_path = glob.glob(os.path.join(path_extracted_data,'OFH_model','Month_bootstrap_FINAL','*', '*bootstrapPVAL*'))\n",
    "li_df = []\n",
    "for p in li_path:\n",
    "    #print(p)\n",
    "    df_ = pd.read_csv(p, sep=',')\n",
    "    #print(df_.shape) \n",
    "    #display(df_.head(2))  \n",
    "    df_['var'] = p.split('\\\\')[-1].split('bootstrap')[0]\n",
    "    df_['month'] = int(p.split('bootstrapPVAL')[-1].split('.csv')[0].split('month')[-1])\n",
    "    li_df.append(df_)\n",
    "df_mvtestimates = pd.concat(li_df)\n",
    "print(df_mvtestimates.shape)\n",
    "display(df_mvtestimates.head(3))"
   ]
  },
  {
   "cell_type": "code",
   "execution_count": 6,
   "id": "34595a07",
   "metadata": {},
   "outputs": [
    {
     "data": {
      "text/plain": [
       "WentinWG                         90\n",
       "vertical_travel_distance         81\n",
       "propindoor_duration_5_Zone_rs    80\n",
       "propindoor_duration_2_Zone       79\n",
       "mid_cum_Z4_h_Morning             72\n",
       "propindoor_duration_4_Zone_rs    72\n",
       "Name: var, dtype: int64"
      ]
     },
     "execution_count": 6,
     "metadata": {},
     "output_type": "execute_result"
    }
   ],
   "source": [
    "df_mvtestimates['var'].value_counts()"
   ]
  },
  {
   "cell_type": "code",
   "execution_count": 7,
   "id": "ecef18fd",
   "metadata": {},
   "outputs": [
    {
     "data": {
      "text/plain": [
       "(Intercept)                   58\n",
       "CLASSLEXP                     58\n",
       "CLASSMEXP                     58\n",
       "TreatmentOFH                  58\n",
       "rescale(DIB)                  58\n",
       "rescale(weight_interp)        58\n",
       "rescale(KBF_interp)           48\n",
       "rescale(nbr_h_per_day)        10\n",
       "rescale(nbr_h_WGopen)         10\n",
       "rescale(temperature_C_avg)    10\n",
       "NA.1                           1\n",
       "Name: Parameter, dtype: int64"
      ]
     },
     "execution_count": 7,
     "metadata": {},
     "output_type": "execute_result"
    }
   ],
   "source": [
    "df_mvtestimates['Parameter'].value_counts()"
   ]
  },
  {
   "cell_type": "code",
   "execution_count": 8,
   "id": "16e8decd",
   "metadata": {},
   "outputs": [
    {
     "data": {
      "text/plain": [
       "True     330\n",
       "False    144\n",
       "Name: was_exp, dtype: int64"
      ]
     },
     "metadata": {},
     "output_type": "display_data"
    }
   ],
   "source": [
    "def wassexp(var,month):\n",
    "    #laways exponentiate except when we used gaussian: VTD month>1 and Z2 month>1\n",
    "    if (var=='vertical_travel_distance')&(month>1):\n",
    "        return False\n",
    "    if (var=='propindoor_duration_2_Zone')&(month>1):\n",
    "        return False\n",
    "    else:\n",
    "        return True\n",
    "df_mvtestimates['was_exp'] = df_mvtestimates.apply(lambda x: wassexp(x['var'],x['month']), axis=1)\n",
    "display(df_mvtestimates['was_exp'].value_counts())"
   ]
  },
  {
   "cell_type": "code",
   "execution_count": 9,
   "id": "ea8dc8f2",
   "metadata": {},
   "outputs": [
    {
     "data": {
      "text/html": [
       "<div>\n",
       "<style scoped>\n",
       "    .dataframe tbody tr th:only-of-type {\n",
       "        vertical-align: middle;\n",
       "    }\n",
       "\n",
       "    .dataframe tbody tr th {\n",
       "        vertical-align: top;\n",
       "    }\n",
       "\n",
       "    .dataframe thead th {\n",
       "        text-align: right;\n",
       "    }\n",
       "</style>\n",
       "<table border=\"1\" class=\"dataframe\">\n",
       "  <thead>\n",
       "    <tr style=\"text-align: right;\">\n",
       "      <th></th>\n",
       "      <th>Unnamed: 0</th>\n",
       "      <th>Parameter</th>\n",
       "      <th>Coefficient</th>\n",
       "      <th>CI</th>\n",
       "      <th>CI_low</th>\n",
       "      <th>CI_high</th>\n",
       "      <th>p</th>\n",
       "      <th>Effects</th>\n",
       "      <th>var</th>\n",
       "      <th>month</th>\n",
       "      <th>was_exp</th>\n",
       "    </tr>\n",
       "  </thead>\n",
       "  <tbody>\n",
       "    <tr>\n",
       "      <th>0</th>\n",
       "      <td>1</td>\n",
       "      <td>(Intercept)</td>\n",
       "      <td>5.256283</td>\n",
       "      <td>0.95</td>\n",
       "      <td>5.054073</td>\n",
       "      <td>5.438603</td>\n",
       "      <td>0.000</td>\n",
       "      <td>fixed</td>\n",
       "      <td>mid_cum_Z4_h_Morning</td>\n",
       "      <td>10</td>\n",
       "      <td>True</td>\n",
       "    </tr>\n",
       "    <tr>\n",
       "      <th>1</th>\n",
       "      <td>2</td>\n",
       "      <td>CLASSLEXP</td>\n",
       "      <td>1.018995</td>\n",
       "      <td>0.95</td>\n",
       "      <td>0.960316</td>\n",
       "      <td>1.078208</td>\n",
       "      <td>0.516</td>\n",
       "      <td>fixed</td>\n",
       "      <td>mid_cum_Z4_h_Morning</td>\n",
       "      <td>10</td>\n",
       "      <td>True</td>\n",
       "    </tr>\n",
       "    <tr>\n",
       "      <th>2</th>\n",
       "      <td>3</td>\n",
       "      <td>CLASSMEXP</td>\n",
       "      <td>1.032963</td>\n",
       "      <td>0.95</td>\n",
       "      <td>0.973181</td>\n",
       "      <td>1.091932</td>\n",
       "      <td>0.224</td>\n",
       "      <td>fixed</td>\n",
       "      <td>mid_cum_Z4_h_Morning</td>\n",
       "      <td>10</td>\n",
       "      <td>True</td>\n",
       "    </tr>\n",
       "    <tr>\n",
       "      <th>3</th>\n",
       "      <td>4</td>\n",
       "      <td>TreatmentOFH</td>\n",
       "      <td>0.999039</td>\n",
       "      <td>0.95</td>\n",
       "      <td>0.954213</td>\n",
       "      <td>1.046038</td>\n",
       "      <td>0.972</td>\n",
       "      <td>fixed</td>\n",
       "      <td>mid_cum_Z4_h_Morning</td>\n",
       "      <td>10</td>\n",
       "      <td>True</td>\n",
       "    </tr>\n",
       "    <tr>\n",
       "      <th>4</th>\n",
       "      <td>5</td>\n",
       "      <td>rescale(DIB)</td>\n",
       "      <td>1.015139</td>\n",
       "      <td>0.95</td>\n",
       "      <td>1.005325</td>\n",
       "      <td>1.024500</td>\n",
       "      <td>0.000</td>\n",
       "      <td>fixed</td>\n",
       "      <td>mid_cum_Z4_h_Morning</td>\n",
       "      <td>10</td>\n",
       "      <td>True</td>\n",
       "    </tr>\n",
       "    <tr>\n",
       "      <th>...</th>\n",
       "      <td>...</td>\n",
       "      <td>...</td>\n",
       "      <td>...</td>\n",
       "      <td>...</td>\n",
       "      <td>...</td>\n",
       "      <td>...</td>\n",
       "      <td>...</td>\n",
       "      <td>...</td>\n",
       "      <td>...</td>\n",
       "      <td>...</td>\n",
       "      <td>...</td>\n",
       "    </tr>\n",
       "    <tr>\n",
       "      <th>4</th>\n",
       "      <td>5</td>\n",
       "      <td>rescale(DIB)</td>\n",
       "      <td>2.346421</td>\n",
       "      <td>0.95</td>\n",
       "      <td>1.261532</td>\n",
       "      <td>4.779056</td>\n",
       "      <td>0.016</td>\n",
       "      <td>fixed</td>\n",
       "      <td>WentinWG</td>\n",
       "      <td>9</td>\n",
       "      <td>True</td>\n",
       "    </tr>\n",
       "    <tr>\n",
       "      <th>5</th>\n",
       "      <td>6</td>\n",
       "      <td>rescale(weight_interp)</td>\n",
       "      <td>0.761035</td>\n",
       "      <td>0.95</td>\n",
       "      <td>0.295728</td>\n",
       "      <td>2.057946</td>\n",
       "      <td>0.560</td>\n",
       "      <td>fixed</td>\n",
       "      <td>WentinWG</td>\n",
       "      <td>9</td>\n",
       "      <td>True</td>\n",
       "    </tr>\n",
       "    <tr>\n",
       "      <th>6</th>\n",
       "      <td>7</td>\n",
       "      <td>rescale(KBF_interp)</td>\n",
       "      <td>0.995445</td>\n",
       "      <td>0.95</td>\n",
       "      <td>0.341143</td>\n",
       "      <td>2.901149</td>\n",
       "      <td>0.996</td>\n",
       "      <td>fixed</td>\n",
       "      <td>WentinWG</td>\n",
       "      <td>9</td>\n",
       "      <td>True</td>\n",
       "    </tr>\n",
       "    <tr>\n",
       "      <th>7</th>\n",
       "      <td>8</td>\n",
       "      <td>rescale(nbr_h_WGopen)</td>\n",
       "      <td>0.830730</td>\n",
       "      <td>0.95</td>\n",
       "      <td>0.469046</td>\n",
       "      <td>1.489502</td>\n",
       "      <td>0.560</td>\n",
       "      <td>fixed</td>\n",
       "      <td>WentinWG</td>\n",
       "      <td>9</td>\n",
       "      <td>True</td>\n",
       "    </tr>\n",
       "    <tr>\n",
       "      <th>8</th>\n",
       "      <td>9</td>\n",
       "      <td>rescale(temperature_C_avg)</td>\n",
       "      <td>1.444893</td>\n",
       "      <td>0.95</td>\n",
       "      <td>0.757505</td>\n",
       "      <td>2.815025</td>\n",
       "      <td>0.304</td>\n",
       "      <td>fixed</td>\n",
       "      <td>WentinWG</td>\n",
       "      <td>9</td>\n",
       "      <td>True</td>\n",
       "    </tr>\n",
       "  </tbody>\n",
       "</table>\n",
       "<p>474 rows × 11 columns</p>\n",
       "</div>"
      ],
      "text/plain": [
       "    Unnamed: 0                   Parameter  Coefficient    CI    CI_low  \\\n",
       "0            1                 (Intercept)     5.256283  0.95  5.054073   \n",
       "1            2                   CLASSLEXP     1.018995  0.95  0.960316   \n",
       "2            3                   CLASSMEXP     1.032963  0.95  0.973181   \n",
       "3            4                TreatmentOFH     0.999039  0.95  0.954213   \n",
       "4            5                rescale(DIB)     1.015139  0.95  1.005325   \n",
       "..         ...                         ...          ...   ...       ...   \n",
       "4            5                rescale(DIB)     2.346421  0.95  1.261532   \n",
       "5            6      rescale(weight_interp)     0.761035  0.95  0.295728   \n",
       "6            7         rescale(KBF_interp)     0.995445  0.95  0.341143   \n",
       "7            8       rescale(nbr_h_WGopen)     0.830730  0.95  0.469046   \n",
       "8            9  rescale(temperature_C_avg)     1.444893  0.95  0.757505   \n",
       "\n",
       "     CI_high      p Effects                   var  month  was_exp  \n",
       "0   5.438603  0.000   fixed  mid_cum_Z4_h_Morning     10     True  \n",
       "1   1.078208  0.516   fixed  mid_cum_Z4_h_Morning     10     True  \n",
       "2   1.091932  0.224   fixed  mid_cum_Z4_h_Morning     10     True  \n",
       "3   1.046038  0.972   fixed  mid_cum_Z4_h_Morning     10     True  \n",
       "4   1.024500  0.000   fixed  mid_cum_Z4_h_Morning     10     True  \n",
       "..       ...    ...     ...                   ...    ...      ...  \n",
       "4   4.779056  0.016   fixed              WentinWG      9     True  \n",
       "5   2.057946  0.560   fixed              WentinWG      9     True  \n",
       "6   2.901149  0.996   fixed              WentinWG      9     True  \n",
       "7   1.489502  0.560   fixed              WentinWG      9     True  \n",
       "8   2.815025  0.304   fixed              WentinWG      9     True  \n",
       "\n",
       "[474 rows x 11 columns]"
      ]
     },
     "execution_count": 9,
     "metadata": {},
     "output_type": "execute_result"
    }
   ],
   "source": [
    "df_mvtestimates"
   ]
  },
  {
   "cell_type": "code",
   "execution_count": 10,
   "id": "2c626e68",
   "metadata": {},
   "outputs": [
    {
     "data": {
      "image/png": "[encoded data removed]",
      "text/plain": [
       "<Figure size 216x216 with 1 Axes>"
      ]
     },
     "metadata": {
      "needs_background": "light"
     },
     "output_type": "display_data"
    },
    {
     "data": {
      "image/png": "[encoded data removed]",
      "text/plain": [
       "<Figure size 216x216 with 1 Axes>"
      ]
     },
     "metadata": {
      "needs_background": "light"
     },
     "output_type": "display_data"
    },
    {
     "data": {
      "image/png": "[encoded data removed]",
      "text/plain": [
       "<Figure size 216x216 with 1 Axes>"
      ]
     },
     "metadata": {
      "needs_background": "light"
     },
     "output_type": "display_data"
    },
    {
     "data": {
      "image/png": "[encoded data removed]",
      "text/plain": [
       "<Figure size 216x216 with 1 Axes>"
      ]
     },
     "metadata": {
      "needs_background": "light"
     },
     "output_type": "display_data"
    },
    {
     "data": {
      "image/png": "[encoded data removed]",
      "text/plain": [
       "<Figure size 216x216 with 1 Axes>"
      ]
     },
     "metadata": {
      "needs_background": "light"
     },
     "output_type": "display_data"
    },
    {
     "data": {
      "image/png": "[encoded data removed]",
      "text/plain": [
       "<Figure size 216x216 with 1 Axes>"
      ]
     },
     "metadata": {
      "needs_background": "light"
     },
     "output_type": "display_data"
    },
    {
     "data": {
      "image/png": "[encoded data removed]",
      "text/plain": [
       "<Figure size 216x216 with 1 Axes>"
      ]
     },
     "metadata": {
      "needs_background": "light"
     },
     "output_type": "display_data"
    },
    {
     "data": {
      "image/png": "[encoded data removed]",
      "text/plain": [
       "<Figure size 216x216 with 1 Axes>"
      ]
     },
     "metadata": {
      "needs_background": "light"
     },
     "output_type": "display_data"
    }
   ],
   "source": [
    "dico_mvt_name = {'propindoor_duration_2_Zone':'proportion of time spent in litter floor',\n",
    "                'propindoor_duration_5_Zone_rs':'proportion of time spent in top tier',\n",
    "                  'mid_cum_Z4_h_Morning':'nestbox tier usage',\n",
    "                   'vertical_travel_distance':'vertical travelled distance',\n",
    "                 'propindoor_duration_4_Zone_rs':'proportion of time spent in nestbox tier',\n",
    "                'WentinWG':'WG presence'}\n",
    "#keep all back for now\n",
    "df_mvtestimates['color'] = df_mvtestimates.apply(lambda x: 'black' if x['p']<0.05 else 'black', axis=1)\n",
    "#only what was NOT EXPONENTIATE\n",
    "df_ = df_mvtestimates[(df_mvtestimates['Parameter']=='TreatmentOFH')&(~df_mvtestimates['was_exp'])].copy()\n",
    "for mvt, df_plt in df_.groupby('var'):\n",
    "    #df_plt.sort_values('month',inplace=True)\n",
    "    plt.figure(figsize=(3,3))\n",
    "    plt.scatter(df_plt['Coefficient'].tolist(), df_plt['month'].tolist(), color=df_plt['color'].tolist(), s=14);\n",
    "    plt.axvline(x=0,linestyle=\":\",linewidth=2, color='black')\n",
    "    plt.plot((df_plt['CI_low'].tolist(),df_plt['CI_high'].tolist()),\n",
    "             (df_plt['month'].tolist(),df_plt['month'].tolist()),'-', color='black', linewidth=1);\n",
    "    plt.title(dico_mvt_name[mvt],size=10)\n",
    "    plt.ylabel('month in the laying barn')\n",
    "    plt.xlabel('coefficient estimate');\n",
    "    plt.savefig(os.path.join(path_extracted_data,'OFH_model',mvt+'_coefficient_noexp.png'), transparent=True, bbox_inches='tight')\n",
    "    plt.show();\n",
    "    \n",
    "#only what was EXPONENTIATE\n",
    "df_ = df_mvtestimates[(df_mvtestimates['Parameter']=='TreatmentOFH')&(df_mvtestimates['was_exp'])].copy()\n",
    "for mvt, df_plt in df_.groupby('var'):\n",
    "    plt.figure(figsize=(3,3))\n",
    "    plt.scatter(df_plt['Coefficient'].tolist(), df_plt['month'].tolist(), color=df_plt['color'].tolist(), s=14);\n",
    "    plt.axvline(x=1,linestyle=\":\",linewidth=2, color='black')\n",
    "    plt.plot((df_plt['CI_low'].tolist(),df_plt['CI_high'].tolist()),\n",
    "             (df_plt['month'].tolist(),df_plt['month'].tolist()),'-', color='black', linewidth=1);\n",
    "    plt.title(dico_mvt_name[mvt],size=10)\n",
    "    plt.ylabel('month in the laying barn')\n",
    "    plt.xlabel('exp(coefficient estimate)');\n",
    "    plt.savefig(os.path.join(path_extracted_data,'OFH_model',mvt+'_coefficient_exp.png'), transparent=True, bbox_inches='tight')\n",
    "    plt.show();"
   ]
  },
  {
   "cell_type": "markdown",
   "id": "c7b4e75b",
   "metadata": {},
   "source": [
    "# health indicators"
   ]
  },
  {
   "cell_type": "code",
   "execution_count": 11,
   "id": "9fbf2baa",
   "metadata": {},
   "outputs": [
    {
     "name": "stdout",
     "output_type": "stream",
     "text": [
      "(844, 8)\n"
     ]
    },
    {
     "data": {
      "text/html": [
       "<div>\n",
       "<style scoped>\n",
       "    .dataframe tbody tr th:only-of-type {\n",
       "        vertical-align: middle;\n",
       "    }\n",
       "\n",
       "    .dataframe tbody tr th {\n",
       "        vertical-align: top;\n",
       "    }\n",
       "\n",
       "    .dataframe thead th {\n",
       "        text-align: right;\n",
       "    }\n",
       "</style>\n",
       "<table border=\"1\" class=\"dataframe\">\n",
       "  <thead>\n",
       "    <tr style=\"text-align: right;\">\n",
       "      <th></th>\n",
       "      <th>CLASS</th>\n",
       "      <th>date</th>\n",
       "      <th>Treatment</th>\n",
       "      <th>HenID</th>\n",
       "      <th>severity</th>\n",
       "      <th>FeatherDamage</th>\n",
       "      <th>DOA</th>\n",
       "      <th>PenID</th>\n",
       "    </tr>\n",
       "  </thead>\n",
       "  <tbody>\n",
       "    <tr>\n",
       "      <th>0</th>\n",
       "      <td>REXP</td>\n",
       "      <td>2020-11-23</td>\n",
       "      <td>OFH</td>\n",
       "      <td>hen_164</td>\n",
       "      <td>0</td>\n",
       "      <td>NaN</td>\n",
       "      <td>173</td>\n",
       "      <td>pen9</td>\n",
       "    </tr>\n",
       "    <tr>\n",
       "      <th>1</th>\n",
       "      <td>REXP</td>\n",
       "      <td>2021-02-01</td>\n",
       "      <td>OFH</td>\n",
       "      <td>hen_181</td>\n",
       "      <td>16</td>\n",
       "      <td>14.0</td>\n",
       "      <td>243</td>\n",
       "      <td>pen9</td>\n",
       "    </tr>\n",
       "    <tr>\n",
       "      <th>2</th>\n",
       "      <td>REXP</td>\n",
       "      <td>2021-02-01</td>\n",
       "      <td>OFH</td>\n",
       "      <td>hen_82</td>\n",
       "      <td>4</td>\n",
       "      <td>8.0</td>\n",
       "      <td>243</td>\n",
       "      <td>pen5</td>\n",
       "    </tr>\n",
       "  </tbody>\n",
       "</table>\n",
       "</div>"
      ],
      "text/plain": [
       "  CLASS        date Treatment    HenID  severity  FeatherDamage  DOA PenID\n",
       "0  REXP  2020-11-23       OFH  hen_164         0            NaN  173  pen9\n",
       "1  REXP  2021-02-01       OFH  hen_181        16           14.0  243  pen9\n",
       "2  REXP  2021-02-01       OFH   hen_82         4            8.0  243  pen5"
      ]
     },
     "metadata": {},
     "output_type": "display_data"
    }
   ],
   "source": [
    "df_HA = pd.read_csv(os.path.join(path_extracted_data, 'OFH_df_HA.csv'), sep=',')\n",
    "df_HA['DOA'] = df_HA['DOA'].map(lambda x: int(x))\n",
    "print(df_HA.shape) \n",
    "display(df_HA.head(3))"
   ]
  },
  {
   "cell_type": "code",
   "execution_count": 12,
   "id": "a09db948",
   "metadata": {},
   "outputs": [
    {
     "name": "stdout",
     "output_type": "stream",
     "text": [
      "(1121, 10)\n"
     ]
    },
    {
     "data": {
      "text/html": [
       "<div>\n",
       "<style scoped>\n",
       "    .dataframe tbody tr th:only-of-type {\n",
       "        vertical-align: middle;\n",
       "    }\n",
       "\n",
       "    .dataframe tbody tr th {\n",
       "        vertical-align: top;\n",
       "    }\n",
       "\n",
       "    .dataframe thead th {\n",
       "        text-align: right;\n",
       "    }\n",
       "</style>\n",
       "<table border=\"1\" class=\"dataframe\">\n",
       "  <thead>\n",
       "    <tr style=\"text-align: right;\">\n",
       "      <th></th>\n",
       "      <th>HenID</th>\n",
       "      <th>Treatment</th>\n",
       "      <th>CLASS</th>\n",
       "      <th>PenID</th>\n",
       "      <th>R-Pen</th>\n",
       "      <th>variable</th>\n",
       "      <th>weight</th>\n",
       "      <th>date</th>\n",
       "      <th>DOA</th>\n",
       "      <th>weight_norm</th>\n",
       "    </tr>\n",
       "  </thead>\n",
       "  <tbody>\n",
       "    <tr>\n",
       "      <th>0</th>\n",
       "      <td>hen_46</td>\n",
       "      <td>TRAN</td>\n",
       "      <td>REXP</td>\n",
       "      <td>pen_10</td>\n",
       "      <td>2.0</td>\n",
       "      <td>10-12 juin weight</td>\n",
       "      <td>63.6</td>\n",
       "      <td>2020-06-10</td>\n",
       "      <td>7</td>\n",
       "      <td>0.470219</td>\n",
       "    </tr>\n",
       "    <tr>\n",
       "      <th>1</th>\n",
       "      <td>hen_17</td>\n",
       "      <td>OFH</td>\n",
       "      <td>LEXP</td>\n",
       "      <td>pen_5</td>\n",
       "      <td>1.0</td>\n",
       "      <td>10-12 juin weight</td>\n",
       "      <td>60.4</td>\n",
       "      <td>2020-06-10</td>\n",
       "      <td>7</td>\n",
       "      <td>0.369906</td>\n",
       "    </tr>\n",
       "    <tr>\n",
       "      <th>2</th>\n",
       "      <td>hen_161</td>\n",
       "      <td>TRAN</td>\n",
       "      <td>REXP</td>\n",
       "      <td>pen_10</td>\n",
       "      <td>4.0</td>\n",
       "      <td>10-12 juin weight</td>\n",
       "      <td>66.7</td>\n",
       "      <td>2020-06-10</td>\n",
       "      <td>7</td>\n",
       "      <td>0.567398</td>\n",
       "    </tr>\n",
       "  </tbody>\n",
       "</table>\n",
       "</div>"
      ],
      "text/plain": [
       "     HenID Treatment CLASS   PenID  R-Pen           variable  weight  \\\n",
       "0   hen_46      TRAN  REXP  pen_10    2.0  10-12 juin weight    63.6   \n",
       "1   hen_17       OFH  LEXP   pen_5    1.0  10-12 juin weight    60.4   \n",
       "2  hen_161      TRAN  REXP  pen_10    4.0  10-12 juin weight    66.7   \n",
       "\n",
       "         date  DOA  weight_norm  \n",
       "0  2020-06-10    7     0.470219  \n",
       "1  2020-06-10    7     0.369906  \n",
       "2  2020-06-10    7     0.567398  "
      ]
     },
     "metadata": {},
     "output_type": "display_data"
    }
   ],
   "source": [
    "df_W = pd.read_csv(os.path.join(path_extracted_data, 'OFH_df_FOCALBIRDS.csv'), sep=',')\n",
    "print(df_W.shape) \n",
    "display(df_W.head(3))"
   ]
  },
  {
   "cell_type": "code",
   "execution_count": 17,
   "id": "10399829",
   "metadata": {},
   "outputs": [
    {
     "data": {
      "image/png": "[encoded data removed]",
      "text/plain": [
       "<Figure size 216x216 with 1 Axes>"
      ]
     },
     "metadata": {
      "needs_background": "light"
     },
     "output_type": "display_data"
    }
   ],
   "source": [
    "plt.figure(figsize=(3,3))\n",
    "sns.violinplot(x='DOA',y='severity', hue='Treatment', palette=pal_treat_, data=df_HA[df_HA['DOA']>200], saturation=1);\n",
    "plt.grid()\n",
    "plt.ylabel('KBF severity')\n",
    "plt.xlabel('day of age')\n",
    "plt.legend([],[], frameon=False)\n",
    "plt.savefig(os.path.join(path_extracted_data,'0FH_HA',name+'_severity_violine.png'), transparent=True, dpi=300, bbox_inches='tight')\n",
    "plt.show()"
   ]
  },
  {
   "cell_type": "code",
   "execution_count": 18,
   "id": "64f60d1a",
   "metadata": {},
   "outputs": [
    {
     "data": {
      "image/png": "[encoded data removed]",
      "text/plain": [
       "<Figure size 216x216 with 1 Axes>"
      ]
     },
     "metadata": {
      "needs_background": "light"
     },
     "output_type": "display_data"
    }
   ],
   "source": [
    "plt.figure(figsize=(3,3))\n",
    "sns.violinplot(x='DOA',y='FeatherDamage', hue='Treatment', palette=pal_treat_,data=df_HA[df_HA['DOA']>230], saturation=1);\n",
    "plt.ylabel('Feather damage')\n",
    "plt.xlabel('day of age')\n",
    "plt.grid()\n",
    "plt.savefig(os.path.join(path_extracted_data,'0FH_HA',name+'_FeatherDamage_violine.png'), transparent=True, dpi=300, bbox_inches='tight')\n",
    "#sns.histplot(x='severity',hue='date', data=df_HA[df_HA['DOA']>173]);"
   ]
  },
  {
   "cell_type": "code",
   "execution_count": 21,
   "id": "b70fa444",
   "metadata": {},
   "outputs": [
    {
     "data": {
      "image/png": "[encoded data removed]",
      "text/plain": [
       "<Figure size 216x216 with 1 Axes>"
      ]
     },
     "metadata": {
      "needs_background": "light"
     },
     "output_type": "display_data"
    }
   ],
   "source": [
    "plt.figure(figsize=(3,3))\n",
    "sns.violinplot(x='DOA',y='weight', hue='Treatment', palette=pal_treat_, data=df_W[df_W['DOA']!=7], saturation=1);\n",
    "plt.legend([],[], frameon=False)\n",
    "plt.ylabel('Body mass (g)')\n",
    "plt.xlabel('day of age')\n",
    "plt.grid()\n",
    "plt.savefig(os.path.join(path_extracted_data,'0FH_HA',name+'_Weight_violine.png'), transparent=True, dpi=300, bbox_inches='tight')\n",
    "#sns.histplot(x='severity',hue='date', data=df_HA[df_HA['DOA']>173]);"
   ]
  },
  {
   "cell_type": "code",
   "execution_count": 28,
   "id": "9199cf68",
   "metadata": {},
   "outputs": [
    {
     "data": {
      "image/png": "[encoded data removed]",
      "text/plain": [
       "<Figure size 77.76x201.6 with 1 Axes>"
      ]
     },
     "metadata": {
      "needs_background": "light"
     },
     "output_type": "display_data"
    }
   ],
   "source": [
    "plt.figure(figsize=(1.08,2.8))\n",
    "sns.violinplot(x='DOA',y='weight', hue='Treatment', palette=pal_treat_, data=df_W[df_W['DOA']==7], saturation=1);\n",
    "plt.ylabel('Body mass (g)')\n",
    "plt.xlabel('day of age')\n",
    "plt.legend([],[], frameon=False)\n",
    "plt.grid()\n",
    "plt.savefig(os.path.join(path_extracted_data,'0FH_HA',name+'_Weight_violine7.png'), transparent=True, dpi=300, bbox_inches='tight')\n",
    "#sns.histplot(x='severity',hue='date', data=df_HA[df_HA['DOA']>173]);"
   ]
  },
  {
   "cell_type": "markdown",
   "id": "b67704a4",
   "metadata": {},
   "source": [
    "# Table mean mvt"
   ]
  },
  {
   "cell_type": "code",
   "execution_count": 11,
   "id": "ff84b16d",
   "metadata": {},
   "outputs": [
    {
     "name": "stdout",
     "output_type": "stream",
     "text": [
      "(38303, 36)\n"
     ]
    },
    {
     "data": {
      "text/html": [
       "<div>\n",
       "<style scoped>\n",
       "    .dataframe tbody tr th:only-of-type {\n",
       "        vertical-align: middle;\n",
       "    }\n",
       "\n",
       "    .dataframe tbody tr th {\n",
       "        vertical-align: top;\n",
       "    }\n",
       "\n",
       "    .dataframe thead th {\n",
       "        text-align: right;\n",
       "    }\n",
       "</style>\n",
       "<table border=\"1\" class=\"dataframe\">\n",
       "  <thead>\n",
       "    <tr style=\"text-align: right;\">\n",
       "      <th></th>\n",
       "      <th>HenID</th>\n",
       "      <th>PenID</th>\n",
       "      <th>level</th>\n",
       "      <th>Treatment</th>\n",
       "      <th>CLASS</th>\n",
       "      <th>DOA</th>\n",
       "      <th>WOA</th>\n",
       "      <th>DIB</th>\n",
       "      <th>WIB</th>\n",
       "      <th>weight_interp</th>\n",
       "      <th>...</th>\n",
       "      <th>perc_duration_1_Zone_nonan</th>\n",
       "      <th>propindoor_duration_5_Zone</th>\n",
       "      <th>propindoor_duration_4_Zone</th>\n",
       "      <th>propindoor_duration_2_Zone</th>\n",
       "      <th>propindoor_duration_5_Zone_rs</th>\n",
       "      <th>propindoor_duration_4_Zone_rs</th>\n",
       "      <th>propindoor_duration_2_Zone_rs</th>\n",
       "      <th>went_litter</th>\n",
       "      <th>stayed_top_tier</th>\n",
       "      <th>monthILB</th>\n",
       "    </tr>\n",
       "  </thead>\n",
       "  <tbody>\n",
       "    <tr>\n",
       "      <th>0</th>\n",
       "      <td>hen_130</td>\n",
       "      <td>pen10</td>\n",
       "      <td>2020-10-05</td>\n",
       "      <td>TRAN</td>\n",
       "      <td>REXP</td>\n",
       "      <td>124</td>\n",
       "      <td>18</td>\n",
       "      <td>6</td>\n",
       "      <td>1</td>\n",
       "      <td>NaN</td>\n",
       "      <td>...</td>\n",
       "      <td>0.0</td>\n",
       "      <td>1.00</td>\n",
       "      <td>NaN</td>\n",
       "      <td>0.00</td>\n",
       "      <td>0.9900</td>\n",
       "      <td>NaN</td>\n",
       "      <td>0.0100</td>\n",
       "      <td>0</td>\n",
       "      <td>1</td>\n",
       "      <td>month1</td>\n",
       "    </tr>\n",
       "    <tr>\n",
       "      <th>1</th>\n",
       "      <td>hen_130</td>\n",
       "      <td>pen10</td>\n",
       "      <td>2020-10-06</td>\n",
       "      <td>TRAN</td>\n",
       "      <td>REXP</td>\n",
       "      <td>125</td>\n",
       "      <td>18</td>\n",
       "      <td>7</td>\n",
       "      <td>1</td>\n",
       "      <td>NaN</td>\n",
       "      <td>...</td>\n",
       "      <td>0.0</td>\n",
       "      <td>0.97</td>\n",
       "      <td>NaN</td>\n",
       "      <td>0.00</td>\n",
       "      <td>0.9606</td>\n",
       "      <td>NaN</td>\n",
       "      <td>0.0100</td>\n",
       "      <td>0</td>\n",
       "      <td>0</td>\n",
       "      <td>month1</td>\n",
       "    </tr>\n",
       "    <tr>\n",
       "      <th>2</th>\n",
       "      <td>hen_130</td>\n",
       "      <td>pen10</td>\n",
       "      <td>2020-10-07</td>\n",
       "      <td>TRAN</td>\n",
       "      <td>REXP</td>\n",
       "      <td>126</td>\n",
       "      <td>18</td>\n",
       "      <td>8</td>\n",
       "      <td>2</td>\n",
       "      <td>NaN</td>\n",
       "      <td>...</td>\n",
       "      <td>0.0</td>\n",
       "      <td>0.98</td>\n",
       "      <td>NaN</td>\n",
       "      <td>0.01</td>\n",
       "      <td>0.9704</td>\n",
       "      <td>NaN</td>\n",
       "      <td>0.0198</td>\n",
       "      <td>1</td>\n",
       "      <td>0</td>\n",
       "      <td>month1</td>\n",
       "    </tr>\n",
       "  </tbody>\n",
       "</table>\n",
       "<p>3 rows × 36 columns</p>\n",
       "</div>"
      ],
      "text/plain": [
       "     HenID  PenID       level Treatment CLASS  DOA  WOA  DIB  WIB  \\\n",
       "0  hen_130  pen10  2020-10-05      TRAN  REXP  124   18    6    1   \n",
       "1  hen_130  pen10  2020-10-06      TRAN  REXP  125   18    7    1   \n",
       "2  hen_130  pen10  2020-10-07      TRAN  REXP  126   18    8    2   \n",
       "\n",
       "   weight_interp  ...  perc_duration_1_Zone_nonan  propindoor_duration_5_Zone  \\\n",
       "0            NaN  ...                         0.0                        1.00   \n",
       "1            NaN  ...                         0.0                        0.97   \n",
       "2            NaN  ...                         0.0                        0.98   \n",
       "\n",
       "  propindoor_duration_4_Zone  propindoor_duration_2_Zone  \\\n",
       "0                        NaN                        0.00   \n",
       "1                        NaN                        0.00   \n",
       "2                        NaN                        0.01   \n",
       "\n",
       "   propindoor_duration_5_Zone_rs  propindoor_duration_4_Zone_rs  \\\n",
       "0                         0.9900                            NaN   \n",
       "1                         0.9606                            NaN   \n",
       "2                         0.9704                            NaN   \n",
       "\n",
       "   propindoor_duration_2_Zone_rs  went_litter  stayed_top_tier  monthILB  \n",
       "0                         0.0100            0                1    month1  \n",
       "1                         0.0100            0                0    month1  \n",
       "2                         0.0198            1                0    month1  \n",
       "\n",
       "[3 rows x 36 columns]"
      ]
     },
     "metadata": {},
     "output_type": "display_data"
    }
   ],
   "source": [
    "df_mvt = pd.read_csv(os.path.join(path_extracted_data, 'OFH_df_all_mvt.csv'), sep=',')\n",
    "li_prop = ['propindoor_duration_2_Zone','propindoor_duration_4_Zone','propindoor_duration_5_Zone']\n",
    "#because of nan we have to use split, cant convert nan to integer\n",
    "#for mvtprop in li_prop:\n",
    "#    df_mvt[mvtprop.replace('prop','perc')] = df_mvt[mvtprop].map(lambda x: x*100)\n",
    "print(df_mvt.shape) \n",
    "display(df_mvt.head(3))"
   ]
  },
  {
   "cell_type": "code",
   "execution_count": 12,
   "id": "79548839",
   "metadata": {},
   "outputs": [],
   "source": [
    "li_mvt = ['propindoor_duration_2_Zone','propindoor_duration_5_Zone','mid_cum_Z4_h_Morning','vertical_travel_distance',\n",
    "        'propindoor_duration_4_Zone','WentinWG']"
   ]
  },
  {
   "cell_type": "code",
   "execution_count": 13,
   "id": "fbb2cf72",
   "metadata": {},
   "outputs": [
    {
     "name": "stderr",
     "output_type": "stream",
     "text": [
      "C:\\Users\\camil\\AppData\\Local\\Temp/ipykernel_7408/3766290038.py:1: RuntimeWarning: Mean of empty slice\n",
      "  df_table1 = df_mvt.groupby(['monthILB','Treatment'])[li_mvt].agg(lambda x:\"%.2f\" % round(np.nanmean(x),2)+' ±'+\"%.2f\" % round(np.nanstd(x),2)).reset_index()\n",
      "C:\\Users\\camil\\anaconda3\\lib\\site-packages\\numpy\\lib\\nanfunctions.py:1878: RuntimeWarning: Degrees of freedom <= 0 for slice.\n",
      "  var = nanvar(a, axis=axis, dtype=dtype, out=out, ddof=ddof,\n"
     ]
    },
    {
     "data": {
      "text/html": [
       "<div>\n",
       "<style scoped>\n",
       "    .dataframe tbody tr th:only-of-type {\n",
       "        vertical-align: middle;\n",
       "    }\n",
       "\n",
       "    .dataframe tbody tr th {\n",
       "        vertical-align: top;\n",
       "    }\n",
       "\n",
       "    .dataframe thead th {\n",
       "        text-align: right;\n",
       "    }\n",
       "</style>\n",
       "<table border=\"1\" class=\"dataframe\">\n",
       "  <thead>\n",
       "    <tr style=\"text-align: right;\">\n",
       "      <th></th>\n",
       "      <th>month in the laying barn</th>\n",
       "      <th>treatment</th>\n",
       "      <th>proportion of time spent in top tier</th>\n",
       "      <th>proportion of time spent in litter floor</th>\n",
       "      <th>proportion of time spent in nestbox tier</th>\n",
       "      <th>WG presence</th>\n",
       "      <th>vertical travelled distance</th>\n",
       "      <th>nestbox tier usage</th>\n",
       "    </tr>\n",
       "  </thead>\n",
       "  <tbody>\n",
       "    <tr>\n",
       "      <th>0</th>\n",
       "      <td>month1</td>\n",
       "      <td>OFH</td>\n",
       "      <td>0.53 ±0.35</td>\n",
       "      <td>0.26 ±0.24</td>\n",
       "      <td></td>\n",
       "      <td>0.44 ±0.50</td>\n",
       "      <td>28.51 ±24.07</td>\n",
       "      <td></td>\n",
       "    </tr>\n",
       "    <tr>\n",
       "      <th>1</th>\n",
       "      <td>month1</td>\n",
       "      <td>TRAN</td>\n",
       "      <td>0.42 ±0.33</td>\n",
       "      <td>0.32 ±0.25</td>\n",
       "      <td></td>\n",
       "      <td>0.51 ±0.50</td>\n",
       "      <td>39.02 ±27.69</td>\n",
       "      <td></td>\n",
       "    </tr>\n",
       "    <tr>\n",
       "      <th>4</th>\n",
       "      <td>month2</td>\n",
       "      <td>OFH</td>\n",
       "      <td>0.41 ±0.29</td>\n",
       "      <td>0.31 ±0.19</td>\n",
       "      <td>0.07 ±0.04</td>\n",
       "      <td>0.62 ±0.48</td>\n",
       "      <td>47.03 ±22.45</td>\n",
       "      <td>5.00 ±1.08</td>\n",
       "    </tr>\n",
       "    <tr>\n",
       "      <th>5</th>\n",
       "      <td>month2</td>\n",
       "      <td>TRAN</td>\n",
       "      <td>0.30 ±0.26</td>\n",
       "      <td>0.39 ±0.17</td>\n",
       "      <td>0.07 ±0.05</td>\n",
       "      <td>0.65 ±0.48</td>\n",
       "      <td>58.67 ±22.55</td>\n",
       "      <td>5.31 ±1.24</td>\n",
       "    </tr>\n",
       "    <tr>\n",
       "      <th>7</th>\n",
       "      <td>month3</td>\n",
       "      <td>TRAN</td>\n",
       "      <td>0.28 ±0.26</td>\n",
       "      <td>0.41 ±0.17</td>\n",
       "      <td>0.07 ±0.04</td>\n",
       "      <td>0.67 ±0.47</td>\n",
       "      <td>63.99 ±26.70</td>\n",
       "      <td>4.29 ±0.85</td>\n",
       "    </tr>\n",
       "    <tr>\n",
       "      <th>6</th>\n",
       "      <td>month3</td>\n",
       "      <td>OFH</td>\n",
       "      <td>0.34 ±0.29</td>\n",
       "      <td>0.36 ±0.20</td>\n",
       "      <td>0.07 ±0.06</td>\n",
       "      <td>0.66 ±0.48</td>\n",
       "      <td>55.43 ±24.13</td>\n",
       "      <td>4.24 ±0.86</td>\n",
       "    </tr>\n",
       "    <tr>\n",
       "      <th>8</th>\n",
       "      <td>month4</td>\n",
       "      <td>OFH</td>\n",
       "      <td>0.33 ±0.27</td>\n",
       "      <td>0.38 ±0.19</td>\n",
       "      <td>0.08 ±0.07</td>\n",
       "      <td>0.62 ±0.49</td>\n",
       "      <td>61.64 ±26.76</td>\n",
       "      <td>4.19 ±0.94</td>\n",
       "    </tr>\n",
       "    <tr>\n",
       "      <th>9</th>\n",
       "      <td>month4</td>\n",
       "      <td>TRAN</td>\n",
       "      <td>0.27 ±0.25</td>\n",
       "      <td>0.42 ±0.16</td>\n",
       "      <td>0.08 ±0.04</td>\n",
       "      <td>0.69 ±0.46</td>\n",
       "      <td>68.68 ±28.42</td>\n",
       "      <td>4.14 ±0.95</td>\n",
       "    </tr>\n",
       "    <tr>\n",
       "      <th>10</th>\n",
       "      <td>month5</td>\n",
       "      <td>OFH</td>\n",
       "      <td>0.33 ±0.27</td>\n",
       "      <td>0.37 ±0.18</td>\n",
       "      <td>0.08 ±0.08</td>\n",
       "      <td>0.61 ±0.49</td>\n",
       "      <td>63.03 ±27.68</td>\n",
       "      <td>4.16 ±0.96</td>\n",
       "    </tr>\n",
       "    <tr>\n",
       "      <th>11</th>\n",
       "      <td>month5</td>\n",
       "      <td>TRAN</td>\n",
       "      <td>0.28 ±0.25</td>\n",
       "      <td>0.42 ±0.17</td>\n",
       "      <td>0.08 ±0.04</td>\n",
       "      <td>0.70 ±0.46</td>\n",
       "      <td>68.94 ±27.09</td>\n",
       "      <td>4.18 ±1.01</td>\n",
       "    </tr>\n",
       "    <tr>\n",
       "      <th>12</th>\n",
       "      <td>month6</td>\n",
       "      <td>OFH</td>\n",
       "      <td>0.30 ±0.25</td>\n",
       "      <td>0.40 ±0.18</td>\n",
       "      <td>0.09 ±0.08</td>\n",
       "      <td>0.65 ±0.48</td>\n",
       "      <td>66.50 ±28.21</td>\n",
       "      <td>4.46 ±0.94</td>\n",
       "    </tr>\n",
       "    <tr>\n",
       "      <th>13</th>\n",
       "      <td>month6</td>\n",
       "      <td>TRAN</td>\n",
       "      <td>0.24 ±0.23</td>\n",
       "      <td>0.44 ±0.16</td>\n",
       "      <td>0.09 ±0.08</td>\n",
       "      <td>0.73 ±0.44</td>\n",
       "      <td>72.47 ±28.46</td>\n",
       "      <td>4.52 ±0.99</td>\n",
       "    </tr>\n",
       "    <tr>\n",
       "      <th>14</th>\n",
       "      <td>month7</td>\n",
       "      <td>OFH</td>\n",
       "      <td>0.31 ±0.26</td>\n",
       "      <td>0.40 ±0.18</td>\n",
       "      <td>0.09 ±0.08</td>\n",
       "      <td>0.62 ±0.48</td>\n",
       "      <td>61.38 ±25.35</td>\n",
       "      <td>4.59 ±0.90</td>\n",
       "    </tr>\n",
       "    <tr>\n",
       "      <th>15</th>\n",
       "      <td>month7</td>\n",
       "      <td>TRAN</td>\n",
       "      <td>0.28 ±0.24</td>\n",
       "      <td>0.41 ±0.17</td>\n",
       "      <td>0.09 ±0.06</td>\n",
       "      <td>0.69 ±0.46</td>\n",
       "      <td>65.76 ±27.10</td>\n",
       "      <td>4.62 ±0.98</td>\n",
       "    </tr>\n",
       "    <tr>\n",
       "      <th>16</th>\n",
       "      <td>month8</td>\n",
       "      <td>OFH</td>\n",
       "      <td>0.30 ±0.26</td>\n",
       "      <td>0.41 ±0.18</td>\n",
       "      <td>0.08 ±0.07</td>\n",
       "      <td>0.69 ±0.46</td>\n",
       "      <td>58.36 ±23.93</td>\n",
       "      <td>4.78 ±0.95</td>\n",
       "    </tr>\n",
       "    <tr>\n",
       "      <th>17</th>\n",
       "      <td>month8</td>\n",
       "      <td>TRAN</td>\n",
       "      <td>0.29 ±0.25</td>\n",
       "      <td>0.41 ±0.17</td>\n",
       "      <td>0.08 ±0.04</td>\n",
       "      <td>0.72 ±0.45</td>\n",
       "      <td>58.61 ±24.06</td>\n",
       "      <td>4.74 ±1.00</td>\n",
       "    </tr>\n",
       "    <tr>\n",
       "      <th>18</th>\n",
       "      <td>month9</td>\n",
       "      <td>OFH</td>\n",
       "      <td>0.28 ±0.25</td>\n",
       "      <td>0.43 ±0.17</td>\n",
       "      <td>0.08 ±0.05</td>\n",
       "      <td>0.71 ±0.45</td>\n",
       "      <td>57.11 ±22.00</td>\n",
       "      <td>5.05 ±0.88</td>\n",
       "    </tr>\n",
       "    <tr>\n",
       "      <th>19</th>\n",
       "      <td>month9</td>\n",
       "      <td>TRAN</td>\n",
       "      <td>0.26 ±0.23</td>\n",
       "      <td>0.43 ±0.16</td>\n",
       "      <td>0.09 ±0.04</td>\n",
       "      <td>0.83 ±0.38</td>\n",
       "      <td>58.38 ±24.01</td>\n",
       "      <td>5.18 ±1.07</td>\n",
       "    </tr>\n",
       "    <tr>\n",
       "      <th>2</th>\n",
       "      <td>month10</td>\n",
       "      <td>OFH</td>\n",
       "      <td>0.27 ±0.25</td>\n",
       "      <td>0.43 ±0.17</td>\n",
       "      <td>0.08 ±0.04</td>\n",
       "      <td>0.68 ±0.47</td>\n",
       "      <td>52.95 ±22.08</td>\n",
       "      <td>5.34 ±0.97</td>\n",
       "    </tr>\n",
       "    <tr>\n",
       "      <th>3</th>\n",
       "      <td>month10</td>\n",
       "      <td>TRAN</td>\n",
       "      <td>0.26 ±0.23</td>\n",
       "      <td>0.43 ±0.16</td>\n",
       "      <td>0.08 ±0.04</td>\n",
       "      <td>0.80 ±0.40</td>\n",
       "      <td>53.14 ±21.38</td>\n",
       "      <td>5.36 ±1.09</td>\n",
       "    </tr>\n",
       "  </tbody>\n",
       "</table>\n",
       "</div>"
      ],
      "text/plain": [
       "   month in the laying barn treatment proportion of time spent in top tier  \\\n",
       "0                    month1       OFH                           0.53 ±0.35   \n",
       "1                    month1      TRAN                           0.42 ±0.33   \n",
       "4                    month2       OFH                           0.41 ±0.29   \n",
       "5                    month2      TRAN                           0.30 ±0.26   \n",
       "7                    month3      TRAN                           0.28 ±0.26   \n",
       "6                    month3       OFH                           0.34 ±0.29   \n",
       "8                    month4       OFH                           0.33 ±0.27   \n",
       "9                    month4      TRAN                           0.27 ±0.25   \n",
       "10                   month5       OFH                           0.33 ±0.27   \n",
       "11                   month5      TRAN                           0.28 ±0.25   \n",
       "12                   month6       OFH                           0.30 ±0.25   \n",
       "13                   month6      TRAN                           0.24 ±0.23   \n",
       "14                   month7       OFH                           0.31 ±0.26   \n",
       "15                   month7      TRAN                           0.28 ±0.24   \n",
       "16                   month8       OFH                           0.30 ±0.26   \n",
       "17                   month8      TRAN                           0.29 ±0.25   \n",
       "18                   month9       OFH                           0.28 ±0.25   \n",
       "19                   month9      TRAN                           0.26 ±0.23   \n",
       "2                   month10       OFH                           0.27 ±0.25   \n",
       "3                   month10      TRAN                           0.26 ±0.23   \n",
       "\n",
       "   proportion of time spent in litter floor  \\\n",
       "0                                0.26 ±0.24   \n",
       "1                                0.32 ±0.25   \n",
       "4                                0.31 ±0.19   \n",
       "5                                0.39 ±0.17   \n",
       "7                                0.41 ±0.17   \n",
       "6                                0.36 ±0.20   \n",
       "8                                0.38 ±0.19   \n",
       "9                                0.42 ±0.16   \n",
       "10                               0.37 ±0.18   \n",
       "11                               0.42 ±0.17   \n",
       "12                               0.40 ±0.18   \n",
       "13                               0.44 ±0.16   \n",
       "14                               0.40 ±0.18   \n",
       "15                               0.41 ±0.17   \n",
       "16                               0.41 ±0.18   \n",
       "17                               0.41 ±0.17   \n",
       "18                               0.43 ±0.17   \n",
       "19                               0.43 ±0.16   \n",
       "2                                0.43 ±0.17   \n",
       "3                                0.43 ±0.16   \n",
       "\n",
       "   proportion of time spent in nestbox tier WG presence  \\\n",
       "0                                            0.44 ±0.50   \n",
       "1                                            0.51 ±0.50   \n",
       "4                                0.07 ±0.04  0.62 ±0.48   \n",
       "5                                0.07 ±0.05  0.65 ±0.48   \n",
       "7                                0.07 ±0.04  0.67 ±0.47   \n",
       "6                                0.07 ±0.06  0.66 ±0.48   \n",
       "8                                0.08 ±0.07  0.62 ±0.49   \n",
       "9                                0.08 ±0.04  0.69 ±0.46   \n",
       "10                               0.08 ±0.08  0.61 ±0.49   \n",
       "11                               0.08 ±0.04  0.70 ±0.46   \n",
       "12                               0.09 ±0.08  0.65 ±0.48   \n",
       "13                               0.09 ±0.08  0.73 ±0.44   \n",
       "14                               0.09 ±0.08  0.62 ±0.48   \n",
       "15                               0.09 ±0.06  0.69 ±0.46   \n",
       "16                               0.08 ±0.07  0.69 ±0.46   \n",
       "17                               0.08 ±0.04  0.72 ±0.45   \n",
       "18                               0.08 ±0.05  0.71 ±0.45   \n",
       "19                               0.09 ±0.04  0.83 ±0.38   \n",
       "2                                0.08 ±0.04  0.68 ±0.47   \n",
       "3                                0.08 ±0.04  0.80 ±0.40   \n",
       "\n",
       "   vertical travelled distance nestbox tier usage  \n",
       "0                 28.51 ±24.07                     \n",
       "1                 39.02 ±27.69                     \n",
       "4                 47.03 ±22.45         5.00 ±1.08  \n",
       "5                 58.67 ±22.55         5.31 ±1.24  \n",
       "7                 63.99 ±26.70         4.29 ±0.85  \n",
       "6                 55.43 ±24.13         4.24 ±0.86  \n",
       "8                 61.64 ±26.76         4.19 ±0.94  \n",
       "9                 68.68 ±28.42         4.14 ±0.95  \n",
       "10                63.03 ±27.68         4.16 ±0.96  \n",
       "11                68.94 ±27.09         4.18 ±1.01  \n",
       "12                66.50 ±28.21         4.46 ±0.94  \n",
       "13                72.47 ±28.46         4.52 ±0.99  \n",
       "14                61.38 ±25.35         4.59 ±0.90  \n",
       "15                65.76 ±27.10         4.62 ±0.98  \n",
       "16                58.36 ±23.93         4.78 ±0.95  \n",
       "17                58.61 ±24.06         4.74 ±1.00  \n",
       "18                57.11 ±22.00         5.05 ±0.88  \n",
       "19                58.38 ±24.01         5.18 ±1.07  \n",
       "2                 52.95 ±22.08         5.34 ±0.97  \n",
       "3                 53.14 ±21.38         5.36 ±1.09  "
      ]
     },
     "execution_count": 13,
     "metadata": {},
     "output_type": "execute_result"
    }
   ],
   "source": [
    "df_table1 = df_mvt.groupby(['monthILB','Treatment'])[li_mvt].agg(lambda x:\"%.2f\" % round(np.nanmean(x),2)+' ±'+\"%.2f\" % round(np.nanstd(x),2)).reset_index()\n",
    "df_table1['order'] = df_table1['monthILB'].map(lambda x: int(x.split('th')[-1]))\n",
    "df_table1.sort_values('order', inplace=True)\n",
    "df_table1.drop('order', axis=1, inplace=True)\n",
    "df_table1 = df_table1.replace('nan ±nan','')\n",
    "df_table1.rename(columns={'propindoor_duration_2_Zone':'proportion of time spent in litter floor',\n",
    "                          'propindoor_duration_5_Zone':'proportion of time spent in top tier',\n",
    "                          'mid_cum_Z4_h_Morning':'nestbox tier usage',\n",
    "                          'vertical_travel_distance':'vertical travelled distance',\n",
    "                          'propindoor_duration_4_Zone':'proportion of time spent in nestbox tier',\n",
    "                          'WentinWG':'WG presence',\n",
    "                          'monthILB':'month in the laying barn','Treatment':'treatment'}, inplace=True)\n",
    "df_table1 = df_table1[['month in the laying barn','treatment','proportion of time spent in top tier','proportion of time spent in litter floor',\n",
    "          'proportion of time spent in nestbox tier','WG presence','vertical travelled distance','nestbox tier usage']]\n",
    "df_table1.to_csv(os.path.join(path_extracted_data, 'OFH_meanbehaviour_SD.csv'), index=False, sep=',')\n",
    "df_table1"
   ]
  },
  {
   "cell_type": "code",
   "execution_count": 14,
   "id": "1e785714",
   "metadata": {
    "scrolled": true
   },
   "outputs": [
    {
     "name": "stderr",
     "output_type": "stream",
     "text": [
      "C:\\Users\\camil\\AppData\\Local\\Temp/ipykernel_7408/181114191.py:1: RuntimeWarning: Mean of empty slice\n",
      "  df_tableOFH = df_mvt[df_mvt['Treatment']=='OFH'].groupby('monthILB')[li_mvt].agg(lambda x:\"%.2f\" % round(np.nanmean(x),2)).reset_index()\n",
      "C:\\Users\\camil\\AppData\\Local\\Temp/ipykernel_7408/181114191.py:1: RuntimeWarning: Mean of empty slice\n",
      "  df_tableOFH = df_mvt[df_mvt['Treatment']=='OFH'].groupby('monthILB')[li_mvt].agg(lambda x:\"%.2f\" % round(np.nanmean(x),2)).reset_index()\n",
      "C:\\Users\\camil\\AppData\\Local\\Temp/ipykernel_7408/181114191.py:2: RuntimeWarning: Mean of empty slice\n",
      "  df_tableTRAN = df_mvt[df_mvt['Treatment']=='TRAN'].groupby('monthILB')[li_mvt].agg(lambda x:\"%.2f\" % round(np.nanmean(x),2)).reset_index()\n",
      "C:\\Users\\camil\\AppData\\Local\\Temp/ipykernel_7408/181114191.py:2: RuntimeWarning: Mean of empty slice\n",
      "  df_tableTRAN = df_mvt[df_mvt['Treatment']=='TRAN'].groupby('monthILB')[li_mvt].agg(lambda x:\"%.2f\" % round(np.nanmean(x),2)).reset_index()\n"
     ]
    },
    {
     "data": {
      "text/html": [
       "<div>\n",
       "<style scoped>\n",
       "    .dataframe tbody tr th:only-of-type {\n",
       "        vertical-align: middle;\n",
       "    }\n",
       "\n",
       "    .dataframe tbody tr th {\n",
       "        vertical-align: top;\n",
       "    }\n",
       "\n",
       "    .dataframe thead th {\n",
       "        text-align: right;\n",
       "    }\n",
       "</style>\n",
       "<table border=\"1\" class=\"dataframe\">\n",
       "  <thead>\n",
       "    <tr style=\"text-align: right;\">\n",
       "      <th></th>\n",
       "      <th>month in the laying barn</th>\n",
       "      <th>proportion of time spent in top tier</th>\n",
       "      <th>proportion of time spent in litter floor</th>\n",
       "      <th>proportion of time spent in nestbox tier</th>\n",
       "      <th>WG presence</th>\n",
       "      <th>vertical travelled distance</th>\n",
       "      <th>nestbox tier usage</th>\n",
       "    </tr>\n",
       "  </thead>\n",
       "  <tbody>\n",
       "    <tr>\n",
       "      <th>0</th>\n",
       "      <td>month1</td>\n",
       "      <td>0.53 vs. 0.42</td>\n",
       "      <td>0.26 vs. 0.32</td>\n",
       "      <td>nan vs. nan</td>\n",
       "      <td>0.44 vs. 0.51</td>\n",
       "      <td>28.51 vs. 39.02</td>\n",
       "      <td>nan vs. nan</td>\n",
       "    </tr>\n",
       "    <tr>\n",
       "      <th>2</th>\n",
       "      <td>month2</td>\n",
       "      <td>0.41 vs. 0.30</td>\n",
       "      <td>0.31 vs. 0.39</td>\n",
       "      <td>0.07 vs. 0.07</td>\n",
       "      <td>0.62 vs. 0.65</td>\n",
       "      <td>47.03 vs. 58.67</td>\n",
       "      <td>5.00 vs. 5.31</td>\n",
       "    </tr>\n",
       "    <tr>\n",
       "      <th>3</th>\n",
       "      <td>month3</td>\n",
       "      <td>0.34 vs. 0.28</td>\n",
       "      <td>0.36 vs. 0.41</td>\n",
       "      <td>0.07 vs. 0.07</td>\n",
       "      <td>0.66 vs. 0.67</td>\n",
       "      <td>55.43 vs. 63.99</td>\n",
       "      <td>4.24 vs. 4.29</td>\n",
       "    </tr>\n",
       "    <tr>\n",
       "      <th>4</th>\n",
       "      <td>month4</td>\n",
       "      <td>0.33 vs. 0.27</td>\n",
       "      <td>0.38 vs. 0.42</td>\n",
       "      <td>0.08 vs. 0.08</td>\n",
       "      <td>0.62 vs. 0.69</td>\n",
       "      <td>61.64 vs. 68.68</td>\n",
       "      <td>4.19 vs. 4.14</td>\n",
       "    </tr>\n",
       "    <tr>\n",
       "      <th>5</th>\n",
       "      <td>month5</td>\n",
       "      <td>0.33 vs. 0.28</td>\n",
       "      <td>0.37 vs. 0.42</td>\n",
       "      <td>0.08 vs. 0.08</td>\n",
       "      <td>0.61 vs. 0.70</td>\n",
       "      <td>63.03 vs. 68.94</td>\n",
       "      <td>4.16 vs. 4.18</td>\n",
       "    </tr>\n",
       "    <tr>\n",
       "      <th>6</th>\n",
       "      <td>month6</td>\n",
       "      <td>0.30 vs. 0.24</td>\n",
       "      <td>0.40 vs. 0.44</td>\n",
       "      <td>0.09 vs. 0.09</td>\n",
       "      <td>0.65 vs. 0.73</td>\n",
       "      <td>66.50 vs. 72.47</td>\n",
       "      <td>4.46 vs. 4.52</td>\n",
       "    </tr>\n",
       "    <tr>\n",
       "      <th>7</th>\n",
       "      <td>month7</td>\n",
       "      <td>0.31 vs. 0.28</td>\n",
       "      <td>0.40 vs. 0.41</td>\n",
       "      <td>0.09 vs. 0.09</td>\n",
       "      <td>0.62 vs. 0.69</td>\n",
       "      <td>61.38 vs. 65.76</td>\n",
       "      <td>4.59 vs. 4.62</td>\n",
       "    </tr>\n",
       "    <tr>\n",
       "      <th>8</th>\n",
       "      <td>month8</td>\n",
       "      <td>0.30 vs. 0.29</td>\n",
       "      <td>0.41 vs. 0.41</td>\n",
       "      <td>0.08 vs. 0.08</td>\n",
       "      <td>0.69 vs. 0.72</td>\n",
       "      <td>58.36 vs. 58.61</td>\n",
       "      <td>4.78 vs. 4.74</td>\n",
       "    </tr>\n",
       "    <tr>\n",
       "      <th>9</th>\n",
       "      <td>month9</td>\n",
       "      <td>0.28 vs. 0.26</td>\n",
       "      <td>0.43 vs. 0.43</td>\n",
       "      <td>0.08 vs. 0.09</td>\n",
       "      <td>0.71 vs. 0.83</td>\n",
       "      <td>57.11 vs. 58.38</td>\n",
       "      <td>5.05 vs. 5.18</td>\n",
       "    </tr>\n",
       "    <tr>\n",
       "      <th>1</th>\n",
       "      <td>month10</td>\n",
       "      <td>0.27 vs. 0.26</td>\n",
       "      <td>0.43 vs. 0.43</td>\n",
       "      <td>0.08 vs. 0.08</td>\n",
       "      <td>0.68 vs. 0.80</td>\n",
       "      <td>52.95 vs. 53.14</td>\n",
       "      <td>5.34 vs. 5.36</td>\n",
       "    </tr>\n",
       "  </tbody>\n",
       "</table>\n",
       "</div>"
      ],
      "text/plain": [
       "  month in the laying barn proportion of time spent in top tier  \\\n",
       "0                   month1                        0.53 vs. 0.42   \n",
       "2                   month2                        0.41 vs. 0.30   \n",
       "3                   month3                        0.34 vs. 0.28   \n",
       "4                   month4                        0.33 vs. 0.27   \n",
       "5                   month5                        0.33 vs. 0.28   \n",
       "6                   month6                        0.30 vs. 0.24   \n",
       "7                   month7                        0.31 vs. 0.28   \n",
       "8                   month8                        0.30 vs. 0.29   \n",
       "9                   month9                        0.28 vs. 0.26   \n",
       "1                  month10                        0.27 vs. 0.26   \n",
       "\n",
       "  proportion of time spent in litter floor  \\\n",
       "0                            0.26 vs. 0.32   \n",
       "2                            0.31 vs. 0.39   \n",
       "3                            0.36 vs. 0.41   \n",
       "4                            0.38 vs. 0.42   \n",
       "5                            0.37 vs. 0.42   \n",
       "6                            0.40 vs. 0.44   \n",
       "7                            0.40 vs. 0.41   \n",
       "8                            0.41 vs. 0.41   \n",
       "9                            0.43 vs. 0.43   \n",
       "1                            0.43 vs. 0.43   \n",
       "\n",
       "  proportion of time spent in nestbox tier    WG presence  \\\n",
       "0                              nan vs. nan  0.44 vs. 0.51   \n",
       "2                            0.07 vs. 0.07  0.62 vs. 0.65   \n",
       "3                            0.07 vs. 0.07  0.66 vs. 0.67   \n",
       "4                            0.08 vs. 0.08  0.62 vs. 0.69   \n",
       "5                            0.08 vs. 0.08  0.61 vs. 0.70   \n",
       "6                            0.09 vs. 0.09  0.65 vs. 0.73   \n",
       "7                            0.09 vs. 0.09  0.62 vs. 0.69   \n",
       "8                            0.08 vs. 0.08  0.69 vs. 0.72   \n",
       "9                            0.08 vs. 0.09  0.71 vs. 0.83   \n",
       "1                            0.08 vs. 0.08  0.68 vs. 0.80   \n",
       "\n",
       "  vertical travelled distance nestbox tier usage  \n",
       "0             28.51 vs. 39.02        nan vs. nan  \n",
       "2             47.03 vs. 58.67      5.00 vs. 5.31  \n",
       "3             55.43 vs. 63.99      4.24 vs. 4.29  \n",
       "4             61.64 vs. 68.68      4.19 vs. 4.14  \n",
       "5             63.03 vs. 68.94      4.16 vs. 4.18  \n",
       "6             66.50 vs. 72.47      4.46 vs. 4.52  \n",
       "7             61.38 vs. 65.76      4.59 vs. 4.62  \n",
       "8             58.36 vs. 58.61      4.78 vs. 4.74  \n",
       "9             57.11 vs. 58.38      5.05 vs. 5.18  \n",
       "1             52.95 vs. 53.14      5.34 vs. 5.36  "
      ]
     },
     "execution_count": 14,
     "metadata": {},
     "output_type": "execute_result"
    }
   ],
   "source": [
    "df_tableOFH = df_mvt[df_mvt['Treatment']=='OFH'].groupby('monthILB')[li_mvt].agg(lambda x:\"%.2f\" % round(np.nanmean(x),2)).reset_index()\n",
    "df_tableTRAN = df_mvt[df_mvt['Treatment']=='TRAN'].groupby('monthILB')[li_mvt].agg(lambda x:\"%.2f\" % round(np.nanmean(x),2)).reset_index()\n",
    "df_tableALL = df_tableOFH.copy()\n",
    "for mvt in li_mvt:\n",
    "    df_tableALL[mvt] = df_tableALL.apply(lambda x: x[mvt] + ' vs. ' +df_tableTRAN[df_tableTRAN['monthILB']==x['monthILB']][mvt].values[0], axis=1)\n",
    "df_tableALL['order'] = df_tableALL['monthILB'].map(lambda x: int(x.split('th')[-1]))\n",
    "df_tableALL.sort_values('order', inplace=True)\n",
    "df_tableALL.drop('order', axis=1, inplace=True)\n",
    "df_tableALL = df_tableALL.replace('nan vs.nan','')\n",
    "df_tableALL.rename(columns={'propindoor_duration_2_Zone':'proportion of time spent in litter floor',\n",
    "                          'propindoor_duration_5_Zone':'proportion of time spent in top tier',\n",
    "                          'mid_cum_Z4_h_Morning':'nestbox tier usage',\n",
    "                          'vertical_travel_distance':'vertical travelled distance',\n",
    "                          'propindoor_duration_4_Zone':'proportion of time spent in nestbox tier',\n",
    "                          'WentinWG':'WG presence',\n",
    "                          'monthILB':'month in the laying barn'}, inplace=True)\n",
    "df_tableALL = df_tableALL[['month in the laying barn','proportion of time spent in top tier','proportion of time spent in litter floor',\n",
    "          'proportion of time spent in nestbox tier','WG presence','vertical travelled distance','nestbox tier usage']]\n",
    "df_tableALL.to_csv(os.path.join(path_extracted_data, 'OFH_meanbehaviour.csv'), index=False, sep=',')\n",
    "df_tableALL"
   ]
  },
  {
   "cell_type": "markdown",
   "id": "8e33e022",
   "metadata": {},
   "source": [
    "# mvt high R investigation"
   ]
  },
  {
   "cell_type": "code",
   "execution_count": 15,
   "id": "889130da",
   "metadata": {},
   "outputs": [
    {
     "data": {
      "text/html": [
       "<div>\n",
       "<style scoped>\n",
       "    .dataframe tbody tr th:only-of-type {\n",
       "        vertical-align: middle;\n",
       "    }\n",
       "\n",
       "    .dataframe tbody tr th {\n",
       "        vertical-align: top;\n",
       "    }\n",
       "\n",
       "    .dataframe thead th {\n",
       "        text-align: right;\n",
       "    }\n",
       "</style>\n",
       "<table border=\"1\" class=\"dataframe\">\n",
       "  <thead>\n",
       "    <tr style=\"text-align: right;\">\n",
       "      <th></th>\n",
       "      <th>HenID</th>\n",
       "      <th>PenID</th>\n",
       "      <th>level</th>\n",
       "      <th>Treatment</th>\n",
       "      <th>CLASS</th>\n",
       "      <th>DOA</th>\n",
       "      <th>WOA</th>\n",
       "      <th>DIB</th>\n",
       "      <th>WIB</th>\n",
       "      <th>weight_interp</th>\n",
       "      <th>...</th>\n",
       "      <th>perc_duration_1_Zone_nonan</th>\n",
       "      <th>propindoor_duration_5_Zone</th>\n",
       "      <th>propindoor_duration_4_Zone</th>\n",
       "      <th>propindoor_duration_2_Zone</th>\n",
       "      <th>propindoor_duration_5_Zone_rs</th>\n",
       "      <th>propindoor_duration_4_Zone_rs</th>\n",
       "      <th>propindoor_duration_2_Zone_rs</th>\n",
       "      <th>went_litter</th>\n",
       "      <th>stayed_top_tier</th>\n",
       "      <th>monthILB</th>\n",
       "    </tr>\n",
       "  </thead>\n",
       "  <tbody>\n",
       "    <tr>\n",
       "      <th>0</th>\n",
       "      <td>hen_130</td>\n",
       "      <td>pen10</td>\n",
       "      <td>2020-10-05</td>\n",
       "      <td>TRAN</td>\n",
       "      <td>REXP</td>\n",
       "      <td>124</td>\n",
       "      <td>18</td>\n",
       "      <td>6</td>\n",
       "      <td>1</td>\n",
       "      <td>NaN</td>\n",
       "      <td>...</td>\n",
       "      <td>0.0</td>\n",
       "      <td>1.00</td>\n",
       "      <td>NaN</td>\n",
       "      <td>0.00</td>\n",
       "      <td>0.9900</td>\n",
       "      <td>NaN</td>\n",
       "      <td>0.0100</td>\n",
       "      <td>0</td>\n",
       "      <td>1</td>\n",
       "      <td>month1</td>\n",
       "    </tr>\n",
       "    <tr>\n",
       "      <th>1</th>\n",
       "      <td>hen_130</td>\n",
       "      <td>pen10</td>\n",
       "      <td>2020-10-06</td>\n",
       "      <td>TRAN</td>\n",
       "      <td>REXP</td>\n",
       "      <td>125</td>\n",
       "      <td>18</td>\n",
       "      <td>7</td>\n",
       "      <td>1</td>\n",
       "      <td>NaN</td>\n",
       "      <td>...</td>\n",
       "      <td>0.0</td>\n",
       "      <td>0.97</td>\n",
       "      <td>NaN</td>\n",
       "      <td>0.00</td>\n",
       "      <td>0.9606</td>\n",
       "      <td>NaN</td>\n",
       "      <td>0.0100</td>\n",
       "      <td>0</td>\n",
       "      <td>0</td>\n",
       "      <td>month1</td>\n",
       "    </tr>\n",
       "    <tr>\n",
       "      <th>2</th>\n",
       "      <td>hen_130</td>\n",
       "      <td>pen10</td>\n",
       "      <td>2020-10-07</td>\n",
       "      <td>TRAN</td>\n",
       "      <td>REXP</td>\n",
       "      <td>126</td>\n",
       "      <td>18</td>\n",
       "      <td>8</td>\n",
       "      <td>2</td>\n",
       "      <td>NaN</td>\n",
       "      <td>...</td>\n",
       "      <td>0.0</td>\n",
       "      <td>0.98</td>\n",
       "      <td>NaN</td>\n",
       "      <td>0.01</td>\n",
       "      <td>0.9704</td>\n",
       "      <td>NaN</td>\n",
       "      <td>0.0198</td>\n",
       "      <td>1</td>\n",
       "      <td>0</td>\n",
       "      <td>month1</td>\n",
       "    </tr>\n",
       "  </tbody>\n",
       "</table>\n",
       "<p>3 rows × 36 columns</p>\n",
       "</div>"
      ],
      "text/plain": [
       "     HenID  PenID       level Treatment CLASS  DOA  WOA  DIB  WIB  \\\n",
       "0  hen_130  pen10  2020-10-05      TRAN  REXP  124   18    6    1   \n",
       "1  hen_130  pen10  2020-10-06      TRAN  REXP  125   18    7    1   \n",
       "2  hen_130  pen10  2020-10-07      TRAN  REXP  126   18    8    2   \n",
       "\n",
       "   weight_interp  ...  perc_duration_1_Zone_nonan  propindoor_duration_5_Zone  \\\n",
       "0            NaN  ...                         0.0                        1.00   \n",
       "1            NaN  ...                         0.0                        0.97   \n",
       "2            NaN  ...                         0.0                        0.98   \n",
       "\n",
       "  propindoor_duration_4_Zone  propindoor_duration_2_Zone  \\\n",
       "0                        NaN                        0.00   \n",
       "1                        NaN                        0.00   \n",
       "2                        NaN                        0.01   \n",
       "\n",
       "   propindoor_duration_5_Zone_rs  propindoor_duration_4_Zone_rs  \\\n",
       "0                         0.9900                            NaN   \n",
       "1                         0.9606                            NaN   \n",
       "2                         0.9704                            NaN   \n",
       "\n",
       "   propindoor_duration_2_Zone_rs  went_litter  stayed_top_tier  monthILB  \n",
       "0                         0.0100            0                1    month1  \n",
       "1                         0.0100            0                0    month1  \n",
       "2                         0.0198            1                0    month1  \n",
       "\n",
       "[3 rows x 36 columns]"
      ]
     },
     "execution_count": 15,
     "metadata": {},
     "output_type": "execute_result"
    }
   ],
   "source": [
    "df_mvt.head(3)"
   ]
  },
  {
   "cell_type": "code",
   "execution_count": 16,
   "id": "ff5e5610",
   "metadata": {},
   "outputs": [
    {
     "data": {
      "image/png": "[encoded data removed]",
      "text/plain": [
       "<Figure size 720x720 with 1 Axes>"
      ]
     },
     "metadata": {
      "needs_background": "light"
     },
     "output_type": "display_data"
    }
   ],
   "source": [
    "plt.figure(figsize=(10,10))\n",
    "sns.boxplot(x='HenID',y='propindoor_duration_2_Zone_rs',data=df_mvt[df_mvt['monthILB']=='month2']);"
   ]
  },
  {
   "cell_type": "markdown",
   "id": "c2f8a4a3",
   "metadata": {},
   "source": [
    "# egg growth curve"
   ]
  },
  {
   "cell_type": "code",
   "execution_count": 54,
   "id": "27738685",
   "metadata": {},
   "outputs": [
    {
     "name": "stdout",
     "output_type": "stream",
     "text": [
      "(30, 6)\n"
     ]
    },
    {
     "data": {
      "text/html": [
       "<div>\n",
       "<style scoped>\n",
       "    .dataframe tbody tr th:only-of-type {\n",
       "        vertical-align: middle;\n",
       "    }\n",
       "\n",
       "    .dataframe tbody tr th {\n",
       "        vertical-align: top;\n",
       "    }\n",
       "\n",
       "    .dataframe thead th {\n",
       "        text-align: right;\n",
       "    }\n",
       "</style>\n",
       "<table border=\"1\" class=\"dataframe\">\n",
       "  <thead>\n",
       "    <tr style=\"text-align: right;\">\n",
       "      <th></th>\n",
       "      <th>Unnamed: 0</th>\n",
       "      <th>Estimate</th>\n",
       "      <th>Std. Error</th>\n",
       "      <th>t value</th>\n",
       "      <th>Pr(&gt;|t|)</th>\n",
       "      <th>PenID</th>\n",
       "    </tr>\n",
       "  </thead>\n",
       "  <tbody>\n",
       "    <tr>\n",
       "      <th>0</th>\n",
       "      <td>Asym</td>\n",
       "      <td>0.951955</td>\n",
       "      <td>0.007562</td>\n",
       "      <td>125.885056</td>\n",
       "      <td>2.100468e-71</td>\n",
       "      <td>3</td>\n",
       "    </tr>\n",
       "    <tr>\n",
       "      <th>1</th>\n",
       "      <td>xmid</td>\n",
       "      <td>24.049881</td>\n",
       "      <td>0.207618</td>\n",
       "      <td>115.836958</td>\n",
       "      <td>2.364101e-69</td>\n",
       "      <td>3</td>\n",
       "    </tr>\n",
       "    <tr>\n",
       "      <th>2</th>\n",
       "      <td>scal</td>\n",
       "      <td>4.135419</td>\n",
       "      <td>0.178141</td>\n",
       "      <td>23.214320</td>\n",
       "      <td>9.841249e-31</td>\n",
       "      <td>3</td>\n",
       "    </tr>\n",
       "  </tbody>\n",
       "</table>\n",
       "</div>"
      ],
      "text/plain": [
       "  Unnamed: 0   Estimate  Std. Error     t value      Pr(>|t|)  PenID\n",
       "0       Asym   0.951955    0.007562  125.885056  2.100468e-71      3\n",
       "1       xmid  24.049881    0.207618  115.836958  2.364101e-69      3\n",
       "2       scal   4.135419    0.178141   23.214320  9.841249e-31      3"
      ]
     },
     "execution_count": 54,
     "metadata": {},
     "output_type": "execute_result"
    }
   ],
   "source": [
    "df_prod = pd.read_csv(os.path.join(path_extracted_data, 'OFH_performance', 'egg_growthcurve.csv'), sep=',')\n",
    "print(df_prod.shape)\n",
    "df_prod.head(3)"
   ]
  },
  {
   "cell_type": "code",
   "execution_count": 55,
   "id": "2c90de47",
   "metadata": {},
   "outputs": [
    {
     "data": {
      "text/plain": [
       "Asym    10\n",
       "xmid    10\n",
       "scal    10\n",
       "Name: type, dtype: int64"
      ]
     },
     "metadata": {},
     "output_type": "display_data"
    },
    {
     "data": {
      "text/plain": [
       "OFH     15\n",
       "TRAN    15\n",
       "Name: Treatment, dtype: int64"
      ]
     },
     "metadata": {},
     "output_type": "display_data"
    },
    {
     "data": {
      "text/html": [
       "<div>\n",
       "<style scoped>\n",
       "    .dataframe tbody tr th:only-of-type {\n",
       "        vertical-align: middle;\n",
       "    }\n",
       "\n",
       "    .dataframe tbody tr th {\n",
       "        vertical-align: top;\n",
       "    }\n",
       "\n",
       "    .dataframe thead th {\n",
       "        text-align: right;\n",
       "    }\n",
       "</style>\n",
       "<table border=\"1\" class=\"dataframe\">\n",
       "  <thead>\n",
       "    <tr style=\"text-align: right;\">\n",
       "      <th></th>\n",
       "      <th>Unnamed: 0</th>\n",
       "      <th>Estimate</th>\n",
       "      <th>Std. Error</th>\n",
       "      <th>t value</th>\n",
       "      <th>Pr(&gt;|t|)</th>\n",
       "      <th>PenID</th>\n",
       "      <th>type</th>\n",
       "      <th>Treatment</th>\n",
       "    </tr>\n",
       "  </thead>\n",
       "  <tbody>\n",
       "    <tr>\n",
       "      <th>0</th>\n",
       "      <td>Asym</td>\n",
       "      <td>0.951955</td>\n",
       "      <td>0.007562</td>\n",
       "      <td>125.885056</td>\n",
       "      <td>2.100468e-71</td>\n",
       "      <td>3</td>\n",
       "      <td>Asym</td>\n",
       "      <td>OFH</td>\n",
       "    </tr>\n",
       "    <tr>\n",
       "      <th>1</th>\n",
       "      <td>xmid</td>\n",
       "      <td>24.049881</td>\n",
       "      <td>0.207618</td>\n",
       "      <td>115.836958</td>\n",
       "      <td>2.364101e-69</td>\n",
       "      <td>3</td>\n",
       "      <td>xmid</td>\n",
       "      <td>OFH</td>\n",
       "    </tr>\n",
       "    <tr>\n",
       "      <th>2</th>\n",
       "      <td>scal</td>\n",
       "      <td>4.135419</td>\n",
       "      <td>0.178141</td>\n",
       "      <td>23.214320</td>\n",
       "      <td>9.841249e-31</td>\n",
       "      <td>3</td>\n",
       "      <td>scal</td>\n",
       "      <td>OFH</td>\n",
       "    </tr>\n",
       "  </tbody>\n",
       "</table>\n",
       "</div>"
      ],
      "text/plain": [
       "  Unnamed: 0   Estimate  Std. Error     t value      Pr(>|t|)  PenID  type  \\\n",
       "0       Asym   0.951955    0.007562  125.885056  2.100468e-71      3  Asym   \n",
       "1       xmid  24.049881    0.207618  115.836958  2.364101e-69      3  xmid   \n",
       "2       scal   4.135419    0.178141   23.214320  9.841249e-31      3  scal   \n",
       "\n",
       "  Treatment  \n",
       "0       OFH  \n",
       "1       OFH  \n",
       "2       OFH  "
      ]
     },
     "metadata": {},
     "output_type": "display_data"
    }
   ],
   "source": [
    "dico_pen_tr = config.dico_pen_tr\n",
    "def matching_(x):\n",
    "    if 'Asym' in x:\n",
    "        return 'Asym'\n",
    "    if 'xmid' in x:\n",
    "        return 'xmid'\n",
    "    if 'scal' in x:\n",
    "        return 'scal'\n",
    "    else:\n",
    "        return None\n",
    "df_prod['type'] = df_prod['Unnamed: 0'].map(lambda x: matching_(x))\n",
    "df_prod['Treatment'] = df_prod['PenID'].map(lambda x: dico_pen_tr[x].split('-')[0])\n",
    "display(df_prod['type'].value_counts())\n",
    "display(df_prod['Treatment'].value_counts())\n",
    "display(df_prod.head(3))"
   ]
  },
  {
   "cell_type": "code",
   "execution_count": 58,
   "id": "d43b1cbe",
   "metadata": {
    "scrolled": true
   },
   "outputs": [
    {
     "data": {
      "text/html": [
       "<div>\n",
       "<style scoped>\n",
       "    .dataframe tbody tr th:only-of-type {\n",
       "        vertical-align: middle;\n",
       "    }\n",
       "\n",
       "    .dataframe tbody tr th {\n",
       "        vertical-align: top;\n",
       "    }\n",
       "\n",
       "    .dataframe thead th {\n",
       "        text-align: right;\n",
       "    }\n",
       "</style>\n",
       "<table border=\"1\" class=\"dataframe\">\n",
       "  <thead>\n",
       "    <tr style=\"text-align: right;\">\n",
       "      <th></th>\n",
       "      <th></th>\n",
       "      <th>count</th>\n",
       "      <th>mean</th>\n",
       "      <th>std</th>\n",
       "      <th>min</th>\n",
       "      <th>25%</th>\n",
       "      <th>50%</th>\n",
       "      <th>75%</th>\n",
       "      <th>max</th>\n",
       "    </tr>\n",
       "    <tr>\n",
       "      <th>type</th>\n",
       "      <th>Treatment</th>\n",
       "      <th></th>\n",
       "      <th></th>\n",
       "      <th></th>\n",
       "      <th></th>\n",
       "      <th></th>\n",
       "      <th></th>\n",
       "      <th></th>\n",
       "      <th></th>\n",
       "    </tr>\n",
       "  </thead>\n",
       "  <tbody>\n",
       "    <tr>\n",
       "      <th rowspan=\"2\" valign=\"top\">Asym</th>\n",
       "      <th>OFH</th>\n",
       "      <td>5.0</td>\n",
       "      <td>0.9538</td>\n",
       "      <td>0.006496</td>\n",
       "      <td>0.948</td>\n",
       "      <td>0.949</td>\n",
       "      <td>0.952</td>\n",
       "      <td>0.956</td>\n",
       "      <td>0.964</td>\n",
       "    </tr>\n",
       "    <tr>\n",
       "      <th>TRAN</th>\n",
       "      <td>5.0</td>\n",
       "      <td>0.9454</td>\n",
       "      <td>0.012876</td>\n",
       "      <td>0.926</td>\n",
       "      <td>0.939</td>\n",
       "      <td>0.950</td>\n",
       "      <td>0.956</td>\n",
       "      <td>0.956</td>\n",
       "    </tr>\n",
       "    <tr>\n",
       "      <th rowspan=\"2\" valign=\"top\">scal</th>\n",
       "      <th>OFH</th>\n",
       "      <td>5.0</td>\n",
       "      <td>4.0000</td>\n",
       "      <td>0.248354</td>\n",
       "      <td>3.636</td>\n",
       "      <td>3.848</td>\n",
       "      <td>4.135</td>\n",
       "      <td>4.178</td>\n",
       "      <td>4.203</td>\n",
       "    </tr>\n",
       "    <tr>\n",
       "      <th>TRAN</th>\n",
       "      <td>5.0</td>\n",
       "      <td>4.0154</td>\n",
       "      <td>0.322272</td>\n",
       "      <td>3.741</td>\n",
       "      <td>3.839</td>\n",
       "      <td>3.926</td>\n",
       "      <td>4.007</td>\n",
       "      <td>4.564</td>\n",
       "    </tr>\n",
       "    <tr>\n",
       "      <th rowspan=\"2\" valign=\"top\">xmid</th>\n",
       "      <th>OFH</th>\n",
       "      <td>5.0</td>\n",
       "      <td>24.7820</td>\n",
       "      <td>0.658594</td>\n",
       "      <td>24.050</td>\n",
       "      <td>24.496</td>\n",
       "      <td>24.562</td>\n",
       "      <td>25.012</td>\n",
       "      <td>25.790</td>\n",
       "    </tr>\n",
       "    <tr>\n",
       "      <th>TRAN</th>\n",
       "      <td>5.0</td>\n",
       "      <td>24.3790</td>\n",
       "      <td>0.466077</td>\n",
       "      <td>23.708</td>\n",
       "      <td>24.307</td>\n",
       "      <td>24.339</td>\n",
       "      <td>24.541</td>\n",
       "      <td>25.000</td>\n",
       "    </tr>\n",
       "  </tbody>\n",
       "</table>\n",
       "</div>"
      ],
      "text/plain": [
       "                count     mean       std     min     25%     50%     75%  \\\n",
       "type Treatment                                                             \n",
       "Asym OFH          5.0   0.9538  0.006496   0.948   0.949   0.952   0.956   \n",
       "     TRAN         5.0   0.9454  0.012876   0.926   0.939   0.950   0.956   \n",
       "scal OFH          5.0   4.0000  0.248354   3.636   3.848   4.135   4.178   \n",
       "     TRAN         5.0   4.0154  0.322272   3.741   3.839   3.926   4.007   \n",
       "xmid OFH          5.0  24.7820  0.658594  24.050  24.496  24.562  25.012   \n",
       "     TRAN         5.0  24.3790  0.466077  23.708  24.307  24.339  24.541   \n",
       "\n",
       "                   max  \n",
       "type Treatment          \n",
       "Asym OFH         0.964  \n",
       "     TRAN        0.956  \n",
       "scal OFH         4.203  \n",
       "     TRAN        4.564  \n",
       "xmid OFH        25.790  \n",
       "     TRAN       25.000  "
      ]
     },
     "execution_count": 58,
     "metadata": {},
     "output_type": "execute_result"
    }
   ],
   "source": [
    "df_prod.groupby(['type','Treatment'])['Estimate'].describe()"
   ]
  },
  {
   "cell_type": "code",
   "execution_count": 57,
   "id": "2214e27e",
   "metadata": {
    "scrolled": true
   },
   "outputs": [
    {
     "data": {
      "image/png": "[encoded data removed]",
      "text/plain": [
       "<Figure size 151.2x252 with 1 Axes>"
      ]
     },
     "metadata": {
      "needs_background": "light"
     },
     "output_type": "display_data"
    },
    {
     "data": {
      "image/png": "[encoded data removed]",
      "text/plain": [
       "<Figure size 151.2x252 with 1 Axes>"
      ]
     },
     "metadata": {
      "needs_background": "light"
     },
     "output_type": "display_data"
    },
    {
     "data": {
      "image/png": "[encoded data removed]",
      "text/plain": [
       "<Figure size 151.2x252 with 1 Axes>"
      ]
     },
     "metadata": {
      "needs_background": "light"
     },
     "output_type": "display_data"
    }
   ],
   "source": [
    "df_prod['Estimate'] = df_prod['Estimate'].map(lambda x: round(x,3))\n",
    "for type_,df_ in df_prod.groupby('type'):\n",
    "    plt.figure(figsize=(2.1,3.5))\n",
    "    sns.boxplot(x='Treatment',y='Estimate',data=df_, color='white', fliersize=0) #[pal_treat[tr] for tr in df_['Treatment'].tolist()]);\n",
    "    sns.stripplot(x='Treatment',y='Estimate',data=df_, size=8, hue='PenID', palette=pal_pens)\n",
    "    plt.legend(bbox_to_anchor=(1.05, 1), loc='upper left', borderaxespad=0, title='PenID')\n",
    "    plt.title(type_)\n",
    "    plt.ylabel('')\n",
    "    plt.savefig(os.path.join(path_extracted_data,'OFH_performance',type_+'_Egg_parameters.png'), transparent=True, bbox_inches='tight')\n",
    "    plt.show();"
   ]
  },
  {
   "cell_type": "markdown",
   "id": "e30971f4",
   "metadata": {},
   "source": [
    "# egg long term"
   ]
  },
  {
   "cell_type": "code",
   "execution_count": 37,
   "id": "828208c6",
   "metadata": {},
   "outputs": [
    {
     "name": "stdout",
     "output_type": "stream",
     "text": [
      "(3360, 10)\n",
      "2021-08-25\n"
     ]
    },
    {
     "data": {
      "text/html": [
       "<div>\n",
       "<style scoped>\n",
       "    .dataframe tbody tr th:only-of-type {\n",
       "        vertical-align: middle;\n",
       "    }\n",
       "\n",
       "    .dataframe tbody tr th {\n",
       "        vertical-align: top;\n",
       "    }\n",
       "\n",
       "    .dataframe thead th {\n",
       "        text-align: right;\n",
       "    }\n",
       "</style>\n",
       "<table border=\"1\" class=\"dataframe\">\n",
       "  <thead>\n",
       "    <tr style=\"text-align: right;\">\n",
       "      <th></th>\n",
       "      <th>PenID</th>\n",
       "      <th>Treatment</th>\n",
       "      <th>Date</th>\n",
       "      <th>DIB</th>\n",
       "      <th>WIB</th>\n",
       "      <th>Tier-bestand</th>\n",
       "      <th>#eggOutsideBoxPerTier</th>\n",
       "      <th>#eggPerTier</th>\n",
       "      <th>Treatment_allpens</th>\n",
       "      <th>Early_death</th>\n",
       "    </tr>\n",
       "  </thead>\n",
       "  <tbody>\n",
       "    <tr>\n",
       "      <th>0</th>\n",
       "      <td>3</td>\n",
       "      <td>OFH</td>\n",
       "      <td>2020-09-24</td>\n",
       "      <td>-5</td>\n",
       "      <td>0</td>\n",
       "      <td>225</td>\n",
       "      <td>0.0</td>\n",
       "      <td>0.0</td>\n",
       "      <td>OFH</td>\n",
       "      <td>0.0</td>\n",
       "    </tr>\n",
       "    <tr>\n",
       "      <th>1</th>\n",
       "      <td>3</td>\n",
       "      <td>OFH</td>\n",
       "      <td>2020-09-25</td>\n",
       "      <td>-4</td>\n",
       "      <td>0</td>\n",
       "      <td>225</td>\n",
       "      <td>0.0</td>\n",
       "      <td>0.0</td>\n",
       "      <td>OFH</td>\n",
       "      <td>0.0</td>\n",
       "    </tr>\n",
       "    <tr>\n",
       "      <th>2</th>\n",
       "      <td>3</td>\n",
       "      <td>OFH</td>\n",
       "      <td>2020-09-26</td>\n",
       "      <td>-3</td>\n",
       "      <td>0</td>\n",
       "      <td>225</td>\n",
       "      <td>0.0</td>\n",
       "      <td>0.0</td>\n",
       "      <td>OFH</td>\n",
       "      <td>0.0</td>\n",
       "    </tr>\n",
       "  </tbody>\n",
       "</table>\n",
       "</div>"
      ],
      "text/plain": [
       "   PenID Treatment        Date  DIB  WIB  Tier-bestand  #eggOutsideBoxPerTier  \\\n",
       "0      3       OFH  2020-09-24   -5    0           225                    0.0   \n",
       "1      3       OFH  2020-09-25   -4    0           225                    0.0   \n",
       "2      3       OFH  2020-09-26   -3    0           225                    0.0   \n",
       "\n",
       "   #eggPerTier Treatment_allpens  Early_death  \n",
       "0          0.0               OFH          0.0  \n",
       "1          0.0               OFH          0.0  \n",
       "2          0.0               OFH          0.0  "
      ]
     },
     "execution_count": 37,
     "metadata": {},
     "output_type": "execute_result"
    }
   ],
   "source": [
    "#initial data\n",
    "df_prodinit = pd.read_csv(os.path.join(path_extracted_data, 'df_eggdata.csv'), sep=',')\n",
    "print(df_prodinit.shape)\n",
    "print(df_prodinit['Date'].max())\n",
    "df_prodinit.head(3)"
   ]
  },
  {
   "cell_type": "code",
   "execution_count": 38,
   "id": "af4ac14d",
   "metadata": {},
   "outputs": [
    {
     "name": "stdout",
     "output_type": "stream",
     "text": [
      "61 330\n"
     ]
    }
   ],
   "source": [
    "df_stegg = df_prodinit[df_prodinit['DIB']<=60].copy()\n",
    "df_ltegg = df_prodinit[df_prodinit['DIB']>60].copy()\n",
    "print(df_ltegg['DIB'].min(), df_ltegg['DIB'].max())"
   ]
  },
  {
   "cell_type": "code",
   "execution_count": 47,
   "id": "5c19b739",
   "metadata": {},
   "outputs": [
    {
     "data": {
      "image/png": "[encoded data removed]",
      "text/plain": [
       "<Figure size 360x288 with 1 Axes>"
      ]
     },
     "metadata": {
      "needs_background": "light"
     },
     "output_type": "display_data"
    }
   ],
   "source": [
    "plt.figure(figsize=(5,4))\n",
    "sns.violinplot(x='PenID',y='#eggPerTier',data=df_ltegg[df_ltegg['Treatment_allpens']=='OFH'],palette=pal_pens)\n",
    "plt.grid(True)\n",
    "plt.ylim(0.82,1.1)\n",
    "plt.savefig(os.path.join(path_extracted_data,'OFH_performance','Longtermegg_OFH.png'), transparent=True, dpi=300, bbox_inches='tight')\n",
    "plt.show();"
   ]
  },
  {
   "cell_type": "code",
   "execution_count": 48,
   "id": "f84e82af",
   "metadata": {},
   "outputs": [
    {
     "data": {
      "image/png": "[encoded data removed]",
      "text/plain": [
       "<Figure size 360x288 with 1 Axes>"
      ]
     },
     "metadata": {
      "needs_background": "light"
     },
     "output_type": "display_data"
    }
   ],
   "source": [
    "plt.figure(figsize=(5,4))\n",
    "sns.violinplot(x='PenID',y='#eggPerTier',data=df_ltegg[df_ltegg['Treatment_allpens']=='TRAN'],palette=pal_pens)\n",
    "plt.grid(True)\n",
    "plt.ylim(0.82,1.1)\n",
    "plt.savefig(os.path.join(path_extracted_data,'OFH_performance','Longtermegg_TRAN.png'), transparent=True, dpi=300, bbox_inches='tight')\n",
    "plt.show();"
   ]
  },
  {
   "cell_type": "code",
   "execution_count": 41,
   "id": "68138b55",
   "metadata": {},
   "outputs": [
    {
     "data": {
      "image/png": "[encoded data removed]",
      "text/plain": [
       "<Figure size 406.08x360 with 1 Axes>"
      ]
     },
     "metadata": {
      "needs_background": "light"
     },
     "output_type": "display_data"
    }
   ],
   "source": [
    "plt.figure(figsize=(5.64,5))\n",
    "sns.violinplot(x='WIB',y='#eggPerTier', data = df_stegg, hue='Treatment_allpens', palette=pal_treat_);\n",
    "plt.savefig(os.path.join(path_extracted_data,'OFH_performance','ShorttermeggTreatment.png'), transparent=True, bbox_inches='tight')\n",
    "plt.show();"
   ]
  },
  {
   "cell_type": "code",
   "execution_count": null,
   "id": "d2ecde70",
   "metadata": {},
   "outputs": [],
   "source": []
  },
  {
   "cell_type": "code",
   "execution_count": null,
   "id": "d6f98481",
   "metadata": {},
   "outputs": [],
   "source": []
  },
  {
   "cell_type": "code",
   "execution_count": null,
   "id": "a6e92348",
   "metadata": {},
   "outputs": [],
   "source": []
  },
  {
   "cell_type": "code",
   "execution_count": null,
   "id": "0b4bb115",
   "metadata": {},
   "outputs": [],
   "source": []
  },
  {
   "cell_type": "code",
   "execution_count": null,
   "id": "6dbb6794",
   "metadata": {},
   "outputs": [],
   "source": []
  },
  {
   "cell_type": "code",
   "execution_count": null,
   "id": "9462ec02",
   "metadata": {},
   "outputs": [],
   "source": []
  },
  {
   "cell_type": "code",
   "execution_count": null,
   "id": "3002ef28",
   "metadata": {},
   "outputs": [],
   "source": []
  }
 ],
 "metadata": {
  "kernelspec": {
   "display_name": "Python 3 (ipykernel)",
   "language": "python",
   "name": "python3"
  },
  "language_info": {
   "codemirror_mode": {
    "name": "ipython",
    "version": 3
   },
   "file_extension": ".py",
   "mimetype": "text/x-python",
   "name": "python",
   "nbconvert_exporter": "python",
   "pygments_lexer": "ipython3",
   "version": "3.8.12"
  }
 },
 "nbformat": 4,
 "nbformat_minor": 5
}
