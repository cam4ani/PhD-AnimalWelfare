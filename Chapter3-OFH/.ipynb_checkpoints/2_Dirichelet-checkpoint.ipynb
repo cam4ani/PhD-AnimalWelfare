{
 "cells": [
  {
   "cell_type": "code",
   "execution_count": null,
   "id": "eaeb6db0",
   "metadata": {},
   "outputs": [
    {
     "name": "stderr",
     "output_type": "stream",
     "text": [
      "Warning message:\n",
      "\"le package 'brms' a été compilé avec la version R 4.1.2\"\n",
      "Le chargement a nécessité le package : Rcpp\n",
      "\n",
      "Warning message:\n",
      "\"le package 'Rcpp' a été compilé avec la version R 4.1.2\"\n",
      "Loading 'brms' package (version 2.16.3). Useful instructions\n",
      "can be found by typing help('brms'). A more detailed introduction\n",
      "to the package is available through vignette('brms_overview').\n",
      "\n",
      "\n",
      "Attachement du package : 'brms'\n",
      "\n",
      "\n",
      "L'objet suivant est masqué depuis 'package:stats':\n",
      "\n",
      "    ar\n",
      "\n",
      "\n",
      "Warning message:\n",
      "\"le package 'MCMCglmm' a été compilé avec la version R 4.1.2\"\n",
      "Le chargement a nécessité le package : Matrix\n",
      "\n",
      "Warning message:\n",
      "\"le package 'Matrix' a été compilé avec la version R 4.1.2\"\n",
      "Le chargement a nécessité le package : coda\n",
      "\n",
      "Warning message:\n",
      "\"le package 'coda' a été compilé avec la version R 4.1.2\"\n",
      "Le chargement a nécessité le package : ape\n",
      "\n",
      "Warning message:\n",
      "\"le package 'ape' a été compilé avec la version R 4.1.2\"\n",
      "\n",
      "Attachement du package : 'MCMCglmm'\n",
      "\n",
      "\n",
      "L'objet suivant est masqué depuis 'package:brms':\n",
      "\n",
      "    me\n",
      "\n",
      "\n",
      "Warning message:\n",
      "\"le package 'dplyr' a été compilé avec la version R 4.1.2\"\n",
      "\n",
      "Attachement du package : 'dplyr'\n",
      "\n",
      "\n",
      "Les objets suivants sont masqués depuis 'package:stats':\n",
      "\n",
      "    filter, lag\n",
      "\n",
      "\n",
      "Les objets suivants sont masqués depuis 'package:base':\n",
      "\n",
      "    intersect, setdiff, setequal, union\n",
      "\n",
      "\n",
      "Warning message:\n",
      "\"le package 'lmerTest' a été compilé avec la version R 4.1.2\"\n",
      "Le chargement a nécessité le package : lme4\n",
      "\n",
      "Warning message:\n",
      "\"le package 'lme4' a été compilé avec la version R 4.1.2\"\n",
      "\n",
      "Attachement du package : 'lme4'\n",
      "\n",
      "\n",
      "L'objet suivant est masqué depuis 'package:brms':\n",
      "\n",
      "    ngrps\n",
      "\n",
      "\n",
      "\n",
      "Attachement du package : 'lmerTest'\n",
      "\n",
      "\n",
      "L'objet suivant est masqué depuis 'package:lme4':\n",
      "\n",
      "    lmer\n",
      "\n",
      "\n",
      "L'objet suivant est masqué depuis 'package:stats':\n",
      "\n",
      "    step\n",
      "\n",
      "\n",
      "Warning message:\n",
      "\"le package 'sjPlot' a été compilé avec la version R 4.1.2\"\n"
     ]
    }
   ],
   "source": [
    "library(brms) #predictability: Double hierearchical model\n",
    "library(MCMCglmm) #HPDinterval\n",
    "library(dplyr) #%>%\n",
    "library(lmerTest) #lmer\n",
    "#library(MuMIn) #r2\n",
    "#library(merTools) #sim\n",
    "library(sjPlot) #plot coeff\n",
    "library(ggplot2) #ylim in plot\n",
    "library(rstan) #model diagnostic"
   ]
  },
  {
   "cell_type": "code",
   "execution_count": null,
   "id": "815eed43",
   "metadata": {},
   "outputs": [],
   "source": [
    "library(ggplot2)"
   ]
  },
  {
   "cell_type": "code",
   "execution_count": null,
   "id": "4980fea2",
   "metadata": {},
   "outputs": [],
   "source": [
    "library(parallel)\n",
    "my.cores = detectCores()-1 #minus 1 to avoid bocking the computer\n",
    "my.cores"
   ]
  },
  {
   "cell_type": "code",
   "execution_count": null,
   "id": "8f18c382",
   "metadata": {},
   "outputs": [],
   "source": [
    "path_ = 'G:/VPHI/Welfare/2- Research Projects/OFHE2.OriginsE2/DataOutput/TrackingSystem/ALLDATA_'\n",
    "#df = read.csv(file.path(path_,'df_daily_aggregatedHA.csv'), header = TRUE, sep = \",\")\n",
    "df = read.csv(file.path(path_,'OFH_df_MVT_ALL.csv'), header = TRUE, sep = \",\")\n",
    "\n",
    "df$HenID = as.factor(df$HenID)   \n",
    "df$PenID = as.factor(df$PenID)\n",
    "df$level = as.factor(df$level) \n",
    "df$CLASS = as.factor(df$CLASS) \n",
    "df$Treatment = as.factor(df$Treatment)\n",
    "df$time = scale(df$WIB, center=FALSE, scale=sd(df$WIB, na.rm = TRUE)) #as not centering, we need to add this\n",
    "df$time2_ = poly(df$time, degree=2,raw=TRUE)[,2]\n",
    "df$time2 = scale(df$time2_, center=FALSE, scale=sd(df$time2_, na.rm = TRUE))\n",
    "#df$KBF_interp = scale(df$KBF_interp, center=TRUE)\n",
    "#df$FeatherDamage_interp = scale(df$FeatherDamage_interp, center=TRUE)\n",
    "#df$weight_interp = scale(df$weight_interp, center=TRUE)\n",
    "\n",
    "#scale: mean-centering of the environmental variable so that intercepts reflect average values for the HenID and ind. \n",
    "#df$temperature_C_avg_scale = scale(df$temperature_C_avg, center=TRUE, scale=TRUE)\n",
    "\n",
    "#setting reference group\n",
    "df <- df %>% mutate(Treatment = relevel(Treatment, ref = \"TRAN\"))\n",
    "contrasts(df$Treatment)\n",
    "df <- df %>% mutate(CLASS = relevel(CLASS, ref = \"REXP\"))\n",
    "contrasts(df$CLASS)\n",
    "print(dim(df))\n",
    "summary(df)\n",
    "write.csv(df, file.path(path_,'OFH__df_MVT_ALL_time.csv'))"
   ]
  },
  {
   "cell_type": "code",
   "execution_count": null,
   "id": "8cd17851",
   "metadata": {},
   "outputs": [],
   "source": [
    "sd(df$time2)\n",
    "sd(df$time2_)\n",
    "sd(df$time)"
   ]
  },
  {
   "cell_type": "code",
   "execution_count": null,
   "id": "390498a1",
   "metadata": {
    "scrolled": true
   },
   "outputs": [],
   "source": [
    "#df$Matrix_proportions = data.matrix(df[,c('propindoor_duration_2_Zone','propindoor_duration_3_Zone', 'propindoor_duration_4_Zone', 'propindoor_duration_5_Zone')])"
   ]
  },
  {
   "cell_type": "code",
   "execution_count": null,
   "id": "c59de4d5",
   "metadata": {
    "scrolled": false
   },
   "outputs": [],
   "source": [
    "iter_ = 10000*10\n",
    "iter_wu = 8000*10\n",
    "bind <- function(...) cbind(...) #cbind is reserve for multivariate in brms!\n",
    "#put 4 as reference!\n",
    "frml = bf(bind(propindoor_duration_4_Zone, propindoor_duration_2_Zone, propindoor_duration_3_Zone,\n",
    "               propindoor_duration_5_Zone) ~ time + time2 + Treatment + time:Treatment + PenID + CLASS + scale(KBF_interp) + scale(FeatherDamage_interp) + scale(weight_interp) + (1|HenID))\n",
    "fit_moreit = brm(frml, data = df, family = dirichlet(link = 'logit', link_phi = 'log'), \n",
    "                 iter = iter_, warmup = iter_wu, thin = 50, chains = 3, cores = my.cores, seed = 12345,\n",
    "                 control = list(max_treedepth=11, adapt_delta=0.9))\n",
    "summary(fit_moreit)\n",
    "save(fit_moreit, file = file.path(path_, 'OFH_dirichlet_80birdsPenIDtimesquare_moreit_allfixedeffect_allhens.rda'))\n",
    "#load(file.path(path_,\"OFH_dirichlet_80birdsPenIDtimesquare_moreit.rda\"))  #OLD: 10 divergent transitions\n",
    "#load(file.path(path_,\"OFH_dirichlet_80birdsPenIDtimesquare_moreit_allfixedeffect_allhens.rda\"))  #OLD: 10 divergent transitions"
   ]
  },
  {
   "cell_type": "code",
   "execution_count": null,
   "id": "b8fdc82c",
   "metadata": {},
   "outputs": [],
   "source": [
    "#as hens are in a unique pen:\n",
    "li_dfpred = list()\n",
    "li_dfnewdata = list()\n",
    "bind <- function(...) cbind(...) #cbind is reserve for multivariate in brms!\n",
    "for (penid in unique(df$PenID)){\n",
    "    print(penid)\n",
    "    df_newdata = expand.grid(Treatment=c(\"OFH\",'TRAN'),\n",
    "                             PenID = penid,\n",
    "                             HenID = unique(df[df$PenID==penid,]$HenID), #unique(df$HenID), #sample(unique(df$HenID), 10),\n",
    "                             time = unique(df$time),\n",
    "                             time2 = unique(df$time2),\n",
    "                             Treatment = unique(df[df$PenID==penid,]$Treatment))\n",
    "    dim(df_newdata)\n",
    "    #head(df_newdata, 2)\n",
    "    #predict.MCMCglmm() : https://www.rdocumentation.org/packages/MCMCglmm/versions/2.32/topics/predict.MCMCglmm\n",
    "    #credible intervals: https://stat.ethz.ch/pipermail/r-sig-mixed-models/2018q1/026408.html \n",
    "    df_pred = predict(fit_moreit, newdata=df_newdata, interval='confidence') #marginal=fit$Random$formula OR NULL?\n",
    "    #dim(df_pred)\n",
    "    #head(df_pred,3)\n",
    "    ##li_dfpred = append(li_dfpred,list(df_pred))\n",
    "    ##li_dfnewdata = append(li_dfnewdata,list(df_newdata))\n",
    "    write.csv(df_pred, file.path(path_,paste0('OFH_',penid,'_df_pred_all_moreit_allfixedeffect_allhens.csv')))\n",
    "    write.csv(df_newdata, file.path(path_,paste0('OFH_',penid,'_df_newdata_all_moreit_allfixedeffect_allhens.csv')))\n",
    "}\n",
    "##df_pred_all = bind_rows(li_dfpred)\n",
    "##df_newdata_all = bind_rows(li_dfnewdata)\n",
    "##dim(df_pred_all)\n",
    "##dim(df_newdata_all)\n",
    "##write.csv(df_pred_all, file.path(path_,paste0('OFH_',penid,'_df_pred_all_moreit.csv')))\n",
    "##write.csv(df_newdata_all, file.path(path_,paste0('OFH_',penid,'_df_newdata_all_moreit.csv')))"
   ]
  },
  {
   "cell_type": "code",
   "execution_count": null,
   "id": "53e16ed7",
   "metadata": {},
   "outputs": [],
   "source": [
    "#TODO NEXT ROUND: all birds, account for CLASS; health, weight,"
   ]
  },
  {
   "cell_type": "code",
   "execution_count": null,
   "id": "5f0d9e18",
   "metadata": {},
   "outputs": [],
   "source": [
    "#dirichlet diagnotic pp_check\n",
    "#https://discourse.mc-stan.org/t/using-pp-check-for-dirichlet-model/8033/6\n",
    "#good to know: http://paul-buerkner.github.io/brms/reference/conditional_effects.html\n",
    "#to read: https://www.google.com/imgres?imgurl=https%3A%2F%2Fars.els-cdn.com%2Fcontent%2Fimage%2F1-s2.0-S0169207021000583-gr1.jpg&imgrefurl=https%3A%2F%2Fwww.sciencedirect.com%2Fscience%2Farticle%2Fpii%2FS0169207021000583&tbnid=ot_CAfIcu_8oPM&vet=12ahUKEwiTl-ez1tX4AhWyPOwKHSVVAhMQMygkegUIARDvAQ..i&docid=medWEoPnTXoAaM&w=531&h=525&q=plot%20Dirichlet%20prediction%20with%20brms%20odel&ved=2ahUKEwiTl-ez1tX4AhWyPOwKHSVVAhMQMygkegUIARDvAQ"
   ]
  },
  {
   "cell_type": "code",
   "execution_count": null,
   "id": "6e5ea7fd",
   "metadata": {},
   "outputs": [],
   "source": []
  },
  {
   "cell_type": "code",
   "execution_count": null,
   "id": "9625d2c9",
   "metadata": {},
   "outputs": [],
   "source": []
  },
  {
   "cell_type": "code",
   "execution_count": null,
   "id": "7a266ea8",
   "metadata": {},
   "outputs": [],
   "source": []
  },
  {
   "cell_type": "code",
   "execution_count": null,
   "id": "7d2cf752",
   "metadata": {},
   "outputs": [],
   "source": []
  },
  {
   "cell_type": "code",
   "execution_count": null,
   "id": "d970b333",
   "metadata": {},
   "outputs": [],
   "source": []
  }
 ],
 "metadata": {
  "kernelspec": {
   "display_name": " Rkernel_4",
   "language": "R",
   "name": "rkernel_4"
  },
  "language_info": {
   "codemirror_mode": "r",
   "file_extension": ".r",
   "mimetype": "text/x-r-source",
   "name": "R",
   "pygments_lexer": "r",
   "version": "4.1.1"
  }
 },
 "nbformat": 4,
 "nbformat_minor": 5
}
