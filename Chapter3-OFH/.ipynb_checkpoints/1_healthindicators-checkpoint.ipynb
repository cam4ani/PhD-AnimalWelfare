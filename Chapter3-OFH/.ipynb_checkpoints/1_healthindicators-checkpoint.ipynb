{
 "cells": [
  {
   "cell_type": "code",
   "execution_count": null,
   "id": "460d6197",
   "metadata": {},
   "outputs": [
    {
     "name": "stderr",
     "output_type": "stream",
     "text": [
      "Warning message:\n",
      "\"package 'lmerTest' was built under R version 3.6.3\"\n",
      "Loading required package: lme4\n",
      "\n",
      "Warning message:\n",
      "\"package 'lme4' was built under R version 3.6.3\"\n",
      "Loading required package: Matrix\n",
      "\n",
      "Warning message:\n",
      "\"package 'Matrix' was built under R version 3.6.3\"\n"
     ]
    }
   ],
   "source": [
    "library(lmerTest) #lmer\n",
    "library(ggplot2) #ylim in plot\n",
    "library(emmeans)\n",
    "library(dplyr) #%>%\n",
    "library(sjPlot) #tab_model\n",
    "#library(glmmTMB)\n",
    "#library(DHARMa) #sim"
   ]
  },
  {
   "cell_type": "code",
   "execution_count": null,
   "id": "4588b0ab",
   "metadata": {},
   "outputs": [],
   "source": [
    "#sessionInfo()\n",
    "#contrast: https://cran.r-project.org/web/packages/emmeans/vignettes/comparisons.html"
   ]
  },
  {
   "cell_type": "code",
   "execution_count": null,
   "id": "53b04981",
   "metadata": {},
   "outputs": [],
   "source": [
    "#focal birds information (one row per focal bird)\n",
    "path_ = 'G:/VPHI/Welfare/2- Research Projects/OFHE2.OriginsE2/DataOutput/TrackingSystem/ALLDATA_'\n",
    "path_save = file.path(path_, '0FH_HA')\n",
    "dir.create(path_save)\n",
    "#df = read.csv(file.path(path_,'df_daily_aggregatedHA.csv'), header = TRUE, sep = \",\")\n",
    "df = read.csv(file.path(path_,'OFH_df_HA.csv'), header = TRUE, sep = \",\")\n",
    "df$HenID = as.factor(df$HenID)   \n",
    "df$PenID = as.factor(df$PenID)\n",
    "df$CLASS = as.factor(df$CLASS) \n",
    "df$date = as.factor(df$date) \n",
    "df$DOA = as.integer(df$DOA) \n",
    "df$Treatment = as.factor(df$Treatment)\n",
    "#df$dateTreatment = interaction(df$DOA, df$Treatment)\n",
    "#df$dateTreatment = as.factor(df$dateTreatment)\n",
    "df = df %>% mutate(CLASS = relevel(CLASS, ref = \"REXP\"))\n",
    "df = df %>% mutate(Treatment = relevel(Treatment, ref = \"TRAN\"))\n",
    "dim(df)\n",
    "df = df[!is.na(df$DOA),]\n",
    "head(df,3)"
   ]
  },
  {
   "cell_type": "code",
   "execution_count": null,
   "id": "e7ecfc06",
   "metadata": {},
   "outputs": [],
   "source": [
    "unique(df['date'])"
   ]
  },
  {
   "cell_type": "code",
   "execution_count": null,
   "id": "f5262598",
   "metadata": {},
   "outputs": [],
   "source": [
    "#TO READ: https://cran.r-project.org/web/packages/emmeans/vignettes/comparisons.html"
   ]
  },
  {
   "cell_type": "markdown",
   "id": "e8034d35",
   "metadata": {},
   "source": [
    "# KBF severity"
   ]
  },
  {
   "cell_type": "code",
   "execution_count": null,
   "id": "279113fd",
   "metadata": {},
   "outputs": [],
   "source": [
    "dim(df)\n",
    "df_S = df[(!is.na(df$severity))&(df$DOA>200),]\n",
    "dim(df_S)\n",
    "hist(df_S$severity)\n",
    "hist(sqrt(df_S$severity))"
   ]
  },
  {
   "cell_type": "code",
   "execution_count": null,
   "id": "e97e3aca",
   "metadata": {},
   "outputs": [],
   "source": [
    "#sqrt is better. penid no variance\n",
    "#penID as random effect: singular values\n",
    "fit = lmer(sqrt(severity) ~ CLASS + date*Treatment+(1|PenID/HenID), data=df_S)\n",
    "summary(fit)\n",
    "######normally distributed residuals\n",
    "qqnorm(resid(fit))\n",
    "qqline(resid(fit))\n",
    "hist(resid(fit))\n",
    "######check homogeneity of variance (residuals has constant variance)\n",
    "plot(fit)\n",
    "#isnt it comapred to the ref group?"
   ]
  },
  {
   "cell_type": "code",
   "execution_count": null,
   "id": "9bc34d9e",
   "metadata": {},
   "outputs": [],
   "source": [
    "#penID as random effect: singular values -->withouPenID\n",
    "#without sqrt is worse\n",
    "fit_s = lmer(sqrt(severity) ~  CLASS + date*Treatment + (1|HenID), data=df_S)\n",
    "summary(fit_s)\n",
    "anova(fit_s)\n",
    "######normally distributed residuals\n",
    "qqnorm(resid(fit_s))\n",
    "qqline(resid(fit_s))\n",
    "hist(resid(fit_s))\n",
    "######check homogeneity of variance (residuals has constant variance)\n",
    "plot(fit_s)"
   ]
  },
  {
   "cell_type": "code",
   "execution_count": null,
   "id": "2df74b29",
   "metadata": {},
   "outputs": [],
   "source": [
    "#contrast\n",
    "#no correction for sqrt\n",
    "#emm = emmeans(fit_s, pairwise ~ Treatment | date, adjust = \"bonferroni\")\n",
    "#emm\n",
    "#i nemmeans: P-value adjustments are applied to each by group, and there is only one comparison - hence no multiplicity - \n",
    "#in each group. And no annotation about adjustments is shown when no adjustments are made.\n",
    "#fit_s.rg <- ref_grid(fit_s)\n",
    "#emm <- emmeans(regrid(fit_s.rg), pairwise ~ Treatment | date)\n",
    "#summary(emm) #no crreaction but ame as *4 then: \n",
    "fit_s.rg = ref_grid(fit_s)\n",
    "emm = emmeans(regrid(fit_s.rg), specs =~ Treatment | date)\n",
    "df_res = summary(pairs(emm), by = NULL, adjust = \"bonf\")\n",
    "df_res\n",
    "write.csv(df_res, file=file.path(path_save, paste0('OFH_KBF_posthoc.csv')) )\n",
    "df_res = confint(emm)\n",
    "df_res\n",
    "write.csv(df_res, file=file.path(path_save, paste0('OFH_KBF_posthocmeans.csv')) )"
   ]
  },
  {
   "cell_type": "markdown",
   "id": "21f56d46",
   "metadata": {},
   "source": [
    "# Feather damage"
   ]
  },
  {
   "cell_type": "code",
   "execution_count": null,
   "id": "bbd13f63",
   "metadata": {},
   "outputs": [],
   "source": [
    "dim(df)\n",
    "df_F = df[(!is.na(df$FeatherDamage))&(df$DOA>230),]\n",
    "dim(df_F)\n",
    "hist(df_F$FeatherDamage)\n",
    "hist(sqrt(df_F$FeatherDamage))"
   ]
  },
  {
   "cell_type": "code",
   "execution_count": null,
   "id": "927e17c5",
   "metadata": {},
   "outputs": [],
   "source": [
    "#histogram of residuals looks bad with sqrt()\n",
    "#penID as random effect: singular values -->withouPenID\n",
    "fit_f = lmer(FeatherDamage ~  CLASS + date*Treatment + (1|PenID/HenID), data=df_F)\n",
    "summary(fit_f)\n",
    "anova(fit_f)\n",
    "######normally distributed residuals\n",
    "qqnorm(resid(fit_f))\n",
    "qqline(resid(fit_f))\n",
    "hist(resid(fit_f))\n",
    "######check homogeneity of variance (residuals has constant variance)\n",
    "plot(fit_f)"
   ]
  },
  {
   "cell_type": "markdown",
   "id": "9f2ae863",
   "metadata": {},
   "source": [
    "# Weight"
   ]
  },
  {
   "cell_type": "code",
   "execution_count": null,
   "id": "58e8ea4d",
   "metadata": {},
   "outputs": [],
   "source": [
    "#focal birds information (one row per focal bird)\n",
    "path_ = 'G:/VPHI/Welfare/2- Research Projects/OFHE2.OriginsE2/DataOutput/TrackingSystem/ALLDATA_'\n",
    "#df_W = read.csv(file.path(path_,'df_W_daily_aggregatedHA.csv'), header = TRUE, sep = \",\")\n",
    "df_W = read.csv(file.path(path_,'OFH_df_FOCALBIRDS.csv'), header = TRUE, sep = \",\")\n",
    "df_W$HenID = as.factor(df_W$HenID)   \n",
    "df_W$PenID = as.factor(df_W$PenID)\n",
    "df_W$CLASS = as.factor(df_W$CLASS) \n",
    "df_W$date = as.factor(df_W$date) \n",
    "df_W$DOA = as.integer(df_W$DOA) \n",
    "df_W$Treatment = as.factor(df_W$Treatment)\n",
    "df_W = df_W %>% mutate(CLASS = relevel(CLASS, ref = \"REXP\"))\n",
    "df_W = df_W %>% mutate(Treatment = relevel(Treatment, ref = \"TRAN\"))\n",
    "#df_W$dateTreatment = interaction(df_W$DOA, df_W$Treatment) #new as one DOA less for the feather!\n",
    "#df_W$dateTreatment = as.factor(df_W$dateTreatment)\n",
    "dim(df_W)\n",
    "df_W = df_W[!is.na(df_W$DOA),]\n",
    "head(df_W,3)\n",
    "hist(df_W$weight)\n",
    "hist(df_W$weight_norm)"
   ]
  },
  {
   "cell_type": "code",
   "execution_count": null,
   "id": "265a3690",
   "metadata": {
    "scrolled": true
   },
   "outputs": [],
   "source": [
    "#penID as random effect: singular values -->withouPenID\n",
    "fit = lmer(weight_norm ~ CLASS + date*Treatment + (1|PenID/HenID), data=df_W)\n",
    "summary(fit)"
   ]
  },
  {
   "cell_type": "code",
   "execution_count": null,
   "id": "1cb49d0f",
   "metadata": {},
   "outputs": [],
   "source": [
    "#penID as random effect: singular values -->withouPenID\n",
    "#sqrt is worst and lead to same result\n",
    "#scale(DOA): same results but nor more emmeans\n",
    "fit_w = lmer(weight_norm ~ CLASS + date*Treatment + (1|HenID), data=df_W)\n",
    "summary(fit_w)\n",
    "anova(fit_w)\n",
    "######normally distributed residuals\n",
    "qqnorm(resid(fit_w))\n",
    "qqline(resid(fit_w))\n",
    "hist(resid(fit_w))\n",
    "######check homogeneity of variance (residuals has constant variance)\n",
    "plot(fit_w)"
   ]
  },
  {
   "cell_type": "code",
   "execution_count": null,
   "id": "b1622880",
   "metadata": {},
   "outputs": [],
   "source": [
    "tab_model(c(fit_s, fit_f,fit_w), collapse.ci = TRUE, p.style = \"numeric_stars\", file=file.path(path_save,'Models_HA.doc'))"
   ]
  },
  {
   "cell_type": "code",
   "execution_count": null,
   "id": "e20b9ef5",
   "metadata": {},
   "outputs": [],
   "source": []
  },
  {
   "cell_type": "code",
   "execution_count": null,
   "id": "dc0b9c91",
   "metadata": {},
   "outputs": [],
   "source": []
  },
  {
   "cell_type": "code",
   "execution_count": null,
   "id": "97a75d13",
   "metadata": {},
   "outputs": [],
   "source": []
  },
  {
   "cell_type": "code",
   "execution_count": null,
   "id": "309c2600",
   "metadata": {},
   "outputs": [],
   "source": []
  }
 ],
 "metadata": {
  "kernelspec": {
   "display_name": " Rkernel ",
   "language": "R",
   "name": "rkernel"
  },
  "language_info": {
   "codemirror_mode": "r",
   "file_extension": ".r",
   "mimetype": "text/x-r-source",
   "name": "R",
   "pygments_lexer": "r",
   "version": "3.6.1"
  }
 },
 "nbformat": 4,
 "nbformat_minor": 5
}
