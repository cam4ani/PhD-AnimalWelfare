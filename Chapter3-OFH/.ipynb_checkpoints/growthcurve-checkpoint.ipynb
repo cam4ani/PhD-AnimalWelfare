{
 "cells": [
  {
   "cell_type": "code",
   "execution_count": 1,
   "id": "460d6197",
   "metadata": {},
   "outputs": [
    {
     "name": "stderr",
     "output_type": "stream",
     "text": [
      "Warning message:\n",
      "\"le package 'brms' a été compilé avec la version R 4.1.2\"\n",
      "Le chargement a nécessité le package : Rcpp\n",
      "\n",
      "Warning message:\n",
      "\"le package 'Rcpp' a été compilé avec la version R 4.1.2\"\n",
      "Loading 'brms' package (version 2.16.3). Useful instructions\n",
      "can be found by typing help('brms'). A more detailed introduction\n",
      "to the package is available through vignette('brms_overview').\n",
      "\n",
      "\n",
      "Attachement du package : 'brms'\n",
      "\n",
      "\n",
      "L'objet suivant est masqué depuis 'package:stats':\n",
      "\n",
      "    ar\n",
      "\n",
      "\n",
      "Warning message:\n",
      "\"le package 'MCMCglmm' a été compilé avec la version R 4.1.2\"\n",
      "Le chargement a nécessité le package : Matrix\n",
      "\n",
      "Warning message:\n",
      "\"le package 'Matrix' a été compilé avec la version R 4.1.2\"\n",
      "Le chargement a nécessité le package : coda\n",
      "\n",
      "Warning message:\n",
      "\"le package 'coda' a été compilé avec la version R 4.1.2\"\n",
      "Le chargement a nécessité le package : ape\n",
      "\n",
      "Warning message:\n",
      "\"le package 'ape' a été compilé avec la version R 4.1.2\"\n",
      "\n",
      "Attachement du package : 'MCMCglmm'\n",
      "\n",
      "\n",
      "L'objet suivant est masqué depuis 'package:brms':\n",
      "\n",
      "    me\n",
      "\n",
      "\n",
      "Warning message:\n",
      "\"le package 'dplyr' a été compilé avec la version R 4.1.2\"\n",
      "\n",
      "Attachement du package : 'dplyr'\n",
      "\n",
      "\n",
      "Les objets suivants sont masqués depuis 'package:stats':\n",
      "\n",
      "    filter, lag\n",
      "\n",
      "\n",
      "Les objets suivants sont masqués depuis 'package:base':\n",
      "\n",
      "    intersect, setdiff, setequal, union\n",
      "\n",
      "\n",
      "Warning message:\n",
      "\"le package 'lmerTest' a été compilé avec la version R 4.1.2\"\n",
      "Le chargement a nécessité le package : lme4\n",
      "\n",
      "Warning message:\n",
      "\"le package 'lme4' a été compilé avec la version R 4.1.2\"\n",
      "\n",
      "Attachement du package : 'lme4'\n",
      "\n",
      "\n",
      "L'objet suivant est masqué depuis 'package:brms':\n",
      "\n",
      "    ngrps\n",
      "\n",
      "\n",
      "\n",
      "Attachement du package : 'lmerTest'\n",
      "\n",
      "\n",
      "L'objet suivant est masqué depuis 'package:lme4':\n",
      "\n",
      "    lmer\n",
      "\n",
      "\n",
      "L'objet suivant est masqué depuis 'package:stats':\n",
      "\n",
      "    step\n",
      "\n",
      "\n",
      "Warning message:\n",
      "\"le package 'sjPlot' a été compilé avec la version R 4.1.2\"\n",
      "Install package \"strengejacke\" from GitHub (`devtools::install_github(\"strengejacke/strengejacke\")`) to load all sj-packages at once!\n",
      "\n",
      "Warning message:\n",
      "\"le package 'ggplot2' a été compilé avec la version R 4.1.2\"\n",
      "Warning message:\n",
      "\"le package 'rstan' a été compilé avec la version R 4.1.2\"\n",
      "Le chargement a nécessité le package : StanHeaders\n",
      "\n",
      "Warning message:\n",
      "\"le package 'StanHeaders' a été compilé avec la version R 4.1.2\"\n",
      "rstan (Version 2.21.2, GitRev: 2e1f913d3ca3)\n",
      "\n",
      "For execution on a local, multicore CPU with excess RAM we recommend calling\n",
      "options(mc.cores = parallel::detectCores()).\n",
      "To avoid recompilation of unchanged Stan programs, we recommend calling\n",
      "rstan_options(auto_write = TRUE)\n",
      "\n",
      "Do not specify '-march=native' in 'LOCAL_CPPFLAGS' or a Makevars file\n",
      "\n",
      "\n",
      "Attachement du package : 'rstan'\n",
      "\n",
      "\n",
      "L'objet suivant est masqué depuis 'package:coda':\n",
      "\n",
      "    traceplot\n",
      "\n",
      "\n"
     ]
    }
   ],
   "source": [
    "library(brms) #predictability: Double hierearchical model\n",
    "library(MCMCglmm) #HPDinterval\n",
    "library(dplyr) #%>%\n",
    "library(lmerTest) #lmer\n",
    "#library(MuMIn) #r2\n",
    "#library(merTools) #sim\n",
    "library(sjPlot) #plot coeff\n",
    "library(ggplot2) #ylim in plot\n",
    "library(rstan) #model diagnostic"
   ]
  },
  {
   "cell_type": "code",
   "execution_count": 2,
   "id": "53b04981",
   "metadata": {},
   "outputs": [
    {
     "data": {
      "text/html": [
       "<table class=\"dataframe\">\n",
       "<caption>A matrix: 2 × 1 of type dbl</caption>\n",
       "<thead>\n",
       "\t<tr><th></th><th scope=col>TRAN</th></tr>\n",
       "</thead>\n",
       "<tbody>\n",
       "\t<tr><th scope=row>OFH</th><td>0</td></tr>\n",
       "\t<tr><th scope=row>TRAN</th><td>1</td></tr>\n",
       "</tbody>\n",
       "</table>\n"
      ],
      "text/latex": [
       "A matrix: 2 × 1 of type dbl\n",
       "\\begin{tabular}{r|l}\n",
       "  & TRAN\\\\\n",
       "\\hline\n",
       "\tOFH & 0\\\\\n",
       "\tTRAN & 1\\\\\n",
       "\\end{tabular}\n"
      ],
      "text/markdown": [
       "\n",
       "A matrix: 2 × 1 of type dbl\n",
       "\n",
       "| <!--/--> | TRAN |\n",
       "|---|---|\n",
       "| OFH | 0 |\n",
       "| TRAN | 1 |\n",
       "\n"
      ],
      "text/plain": [
       "     TRAN\n",
       "OFH  0   \n",
       "TRAN 1   "
      ]
     },
     "metadata": {},
     "output_type": "display_data"
    },
    {
     "data": {
      "text/html": [
       "<table class=\"dataframe\">\n",
       "<caption>A matrix: 2 × 1 of type dbl</caption>\n",
       "<thead>\n",
       "\t<tr><th></th><th scope=col>OFH</th></tr>\n",
       "</thead>\n",
       "<tbody>\n",
       "\t<tr><th scope=row>TRAN</th><td>0</td></tr>\n",
       "\t<tr><th scope=row>OFH</th><td>1</td></tr>\n",
       "</tbody>\n",
       "</table>\n"
      ],
      "text/latex": [
       "A matrix: 2 × 1 of type dbl\n",
       "\\begin{tabular}{r|l}\n",
       "  & OFH\\\\\n",
       "\\hline\n",
       "\tTRAN & 0\\\\\n",
       "\tOFH & 1\\\\\n",
       "\\end{tabular}\n"
      ],
      "text/markdown": [
       "\n",
       "A matrix: 2 × 1 of type dbl\n",
       "\n",
       "| <!--/--> | OFH |\n",
       "|---|---|\n",
       "| TRAN | 0 |\n",
       "| OFH | 1 |\n",
       "\n"
      ],
      "text/plain": [
       "     OFH\n",
       "TRAN 0  \n",
       "OFH  1  "
      ]
     },
     "metadata": {},
     "output_type": "display_data"
    },
    {
     "data": {
      "text/html": [
       "<table class=\"dataframe\">\n",
       "<caption>A matrix: 7 × 6 of type dbl</caption>\n",
       "<thead>\n",
       "\t<tr><th></th><th scope=col>LEXP</th><th scope=col>LEXPLOST</th><th scope=col>MEXP</th><th scope=col>MEXPLOST</th><th scope=col>NewAfterEpi</th><th scope=col>NewAfterEpiLOST</th></tr>\n",
       "</thead>\n",
       "<tbody>\n",
       "\t<tr><th scope=row>EPI</th><td>0</td><td>0</td><td>0</td><td>0</td><td>0</td><td>0</td></tr>\n",
       "\t<tr><th scope=row>LEXP</th><td>1</td><td>0</td><td>0</td><td>0</td><td>0</td><td>0</td></tr>\n",
       "\t<tr><th scope=row>LEXPLOST</th><td>0</td><td>1</td><td>0</td><td>0</td><td>0</td><td>0</td></tr>\n",
       "\t<tr><th scope=row>MEXP</th><td>0</td><td>0</td><td>1</td><td>0</td><td>0</td><td>0</td></tr>\n",
       "\t<tr><th scope=row>MEXPLOST</th><td>0</td><td>0</td><td>0</td><td>1</td><td>0</td><td>0</td></tr>\n",
       "\t<tr><th scope=row>NewAfterEpi</th><td>0</td><td>0</td><td>0</td><td>0</td><td>1</td><td>0</td></tr>\n",
       "\t<tr><th scope=row>NewAfterEpiLOST</th><td>0</td><td>0</td><td>0</td><td>0</td><td>0</td><td>1</td></tr>\n",
       "</tbody>\n",
       "</table>\n"
      ],
      "text/latex": [
       "A matrix: 7 × 6 of type dbl\n",
       "\\begin{tabular}{r|llllll}\n",
       "  & LEXP & LEXPLOST & MEXP & MEXPLOST & NewAfterEpi & NewAfterEpiLOST\\\\\n",
       "\\hline\n",
       "\tEPI & 0 & 0 & 0 & 0 & 0 & 0\\\\\n",
       "\tLEXP & 1 & 0 & 0 & 0 & 0 & 0\\\\\n",
       "\tLEXPLOST & 0 & 1 & 0 & 0 & 0 & 0\\\\\n",
       "\tMEXP & 0 & 0 & 1 & 0 & 0 & 0\\\\\n",
       "\tMEXPLOST & 0 & 0 & 0 & 1 & 0 & 0\\\\\n",
       "\tNewAfterEpi & 0 & 0 & 0 & 0 & 1 & 0\\\\\n",
       "\tNewAfterEpiLOST & 0 & 0 & 0 & 0 & 0 & 1\\\\\n",
       "\\end{tabular}\n"
      ],
      "text/markdown": [
       "\n",
       "A matrix: 7 × 6 of type dbl\n",
       "\n",
       "| <!--/--> | LEXP | LEXPLOST | MEXP | MEXPLOST | NewAfterEpi | NewAfterEpiLOST |\n",
       "|---|---|---|---|---|---|---|\n",
       "| EPI | 0 | 0 | 0 | 0 | 0 | 0 |\n",
       "| LEXP | 1 | 0 | 0 | 0 | 0 | 0 |\n",
       "| LEXPLOST | 0 | 1 | 0 | 0 | 0 | 0 |\n",
       "| MEXP | 0 | 0 | 1 | 0 | 0 | 0 |\n",
       "| MEXPLOST | 0 | 0 | 0 | 1 | 0 | 0 |\n",
       "| NewAfterEpi | 0 | 0 | 0 | 0 | 1 | 0 |\n",
       "| NewAfterEpiLOST | 0 | 0 | 0 | 0 | 0 | 1 |\n",
       "\n"
      ],
      "text/plain": [
       "                LEXP LEXPLOST MEXP MEXPLOST NewAfterEpi NewAfterEpiLOST\n",
       "EPI             0    0        0    0        0           0              \n",
       "LEXP            1    0        0    0        0           0              \n",
       "LEXPLOST        0    1        0    0        0           0              \n",
       "MEXP            0    0        1    0        0           0              \n",
       "MEXPLOST        0    0        0    1        0           0              \n",
       "NewAfterEpi     0    0        0    0        1           0              \n",
       "NewAfterEpiLOST 0    0        0    0        0           1              "
      ]
     },
     "metadata": {},
     "output_type": "display_data"
    },
    {
     "data": {
      "text/html": [
       "<table class=\"dataframe\">\n",
       "<caption>A matrix: 7 × 6 of type dbl</caption>\n",
       "<thead>\n",
       "\t<tr><th></th><th scope=col>EPI</th><th scope=col>LEXPLOST</th><th scope=col>MEXP</th><th scope=col>MEXPLOST</th><th scope=col>NewAfterEpi</th><th scope=col>NewAfterEpiLOST</th></tr>\n",
       "</thead>\n",
       "<tbody>\n",
       "\t<tr><th scope=row>LEXP</th><td>0</td><td>0</td><td>0</td><td>0</td><td>0</td><td>0</td></tr>\n",
       "\t<tr><th scope=row>EPI</th><td>1</td><td>0</td><td>0</td><td>0</td><td>0</td><td>0</td></tr>\n",
       "\t<tr><th scope=row>LEXPLOST</th><td>0</td><td>1</td><td>0</td><td>0</td><td>0</td><td>0</td></tr>\n",
       "\t<tr><th scope=row>MEXP</th><td>0</td><td>0</td><td>1</td><td>0</td><td>0</td><td>0</td></tr>\n",
       "\t<tr><th scope=row>MEXPLOST</th><td>0</td><td>0</td><td>0</td><td>1</td><td>0</td><td>0</td></tr>\n",
       "\t<tr><th scope=row>NewAfterEpi</th><td>0</td><td>0</td><td>0</td><td>0</td><td>1</td><td>0</td></tr>\n",
       "\t<tr><th scope=row>NewAfterEpiLOST</th><td>0</td><td>0</td><td>0</td><td>0</td><td>0</td><td>1</td></tr>\n",
       "</tbody>\n",
       "</table>\n"
      ],
      "text/latex": [
       "A matrix: 7 × 6 of type dbl\n",
       "\\begin{tabular}{r|llllll}\n",
       "  & EPI & LEXPLOST & MEXP & MEXPLOST & NewAfterEpi & NewAfterEpiLOST\\\\\n",
       "\\hline\n",
       "\tLEXP & 0 & 0 & 0 & 0 & 0 & 0\\\\\n",
       "\tEPI & 1 & 0 & 0 & 0 & 0 & 0\\\\\n",
       "\tLEXPLOST & 0 & 1 & 0 & 0 & 0 & 0\\\\\n",
       "\tMEXP & 0 & 0 & 1 & 0 & 0 & 0\\\\\n",
       "\tMEXPLOST & 0 & 0 & 0 & 1 & 0 & 0\\\\\n",
       "\tNewAfterEpi & 0 & 0 & 0 & 0 & 1 & 0\\\\\n",
       "\tNewAfterEpiLOST & 0 & 0 & 0 & 0 & 0 & 1\\\\\n",
       "\\end{tabular}\n"
      ],
      "text/markdown": [
       "\n",
       "A matrix: 7 × 6 of type dbl\n",
       "\n",
       "| <!--/--> | EPI | LEXPLOST | MEXP | MEXPLOST | NewAfterEpi | NewAfterEpiLOST |\n",
       "|---|---|---|---|---|---|---|\n",
       "| LEXP | 0 | 0 | 0 | 0 | 0 | 0 |\n",
       "| EPI | 1 | 0 | 0 | 0 | 0 | 0 |\n",
       "| LEXPLOST | 0 | 1 | 0 | 0 | 0 | 0 |\n",
       "| MEXP | 0 | 0 | 1 | 0 | 0 | 0 |\n",
       "| MEXPLOST | 0 | 0 | 0 | 1 | 0 | 0 |\n",
       "| NewAfterEpi | 0 | 0 | 0 | 0 | 1 | 0 |\n",
       "| NewAfterEpiLOST | 0 | 0 | 0 | 0 | 0 | 1 |\n",
       "\n"
      ],
      "text/plain": [
       "                EPI LEXPLOST MEXP MEXPLOST NewAfterEpi NewAfterEpiLOST\n",
       "LEXP            0   0        0    0        0           0              \n",
       "EPI             1   0        0    0        0           0              \n",
       "LEXPLOST        0   1        0    0        0           0              \n",
       "MEXP            0   0        1    0        0           0              \n",
       "MEXPLOST        0   0        0    1        0           0              \n",
       "NewAfterEpi     0   0        0    0        1           0              \n",
       "NewAfterEpiLOST 0   0        0    0        0           1              "
      ]
     },
     "metadata": {},
     "output_type": "display_data"
    },
    {
     "name": "stdout",
     "output_type": "stream",
     "text": [
      "[1] 1121    9\n"
     ]
    },
    {
     "data": {
      "text/plain": [
       "     HenID      Treatment              CLASS         PenID         R.Pen      \n",
       " hen_10 :   7   TRAN:559   LEXP           :202   pen_10 :145   Min.   :1.000  \n",
       " hen_101:   7   OFH :562   EPI            :350   pen_4  :144   1st Qu.:2.000  \n",
       " hen_102:   7              LEXPLOST       : 59   pen_9  :143   Median :3.000  \n",
       " hen_106:   7              MEXP           :260   pen_8  :142   Mean   :2.505  \n",
       " hen_109:   7              MEXPLOST       : 13   pen_3  :141   3rd Qu.:3.000  \n",
       " hen_13 :   7              NewAfterEpi    :235   pen_5  :141   Max.   :4.000  \n",
       " (Other):1079              NewAfterEpiLOST:  2   (Other):265   NA's   :248    \n",
       "   variable             weight           date                DOA       \n",
       " Length:1121        Min.   :  48.6   Length:1121        Min.   :  7.0  \n",
       " Class :character   1st Qu.:1256.0   Class :character   1st Qu.:118.0  \n",
       " Mode  :character   Median :1731.9   Mode  :character   Median :215.0  \n",
       "                    Mean   :1507.8                      Mean   :218.1  \n",
       "                    3rd Qu.:1862.4                      3rd Qu.:313.0  \n",
       "                    Max.   :2331.1                      Max.   :418.0  \n",
       "                                                                       "
      ]
     },
     "metadata": {},
     "output_type": "display_data"
    }
   ],
   "source": [
    "#focal birds information (one row per focal bird)\n",
    "path_ = 'G:/VPHI/Welfare/2- Research Projects/OFHE2.OriginsE2/DataOutput/TrackingSystem/ALLDATA_'\n",
    "#df = read.csv(file.path(path_,'df_daily_aggregatedHA.csv'), header = TRUE, sep = \",\")\n",
    "df = read.csv(file.path(path_,'OFH_df_FOCALBIRDS.csv'), header = TRUE, sep = \",\")\n",
    "df$HenID = as.factor(df$HenID)   \n",
    "df$PenID = as.factor(df$PenID)\n",
    "df$CLASS = as.factor(df$CLASS) \n",
    "df$Treatment = as.factor(df$Treatment)\n",
    "\n",
    "#scale: mean-centering of the environmental variable so that intercepts reflect average values for the HenID and ind. \n",
    "#df$temperature_C_avg_scale = scale(df$temperature_C_avg, center=TRUE, scale=TRUE)\n",
    "\n",
    "#setting reference group\n",
    "contrasts(df$Treatment)\n",
    "df <- df %>% mutate(Treatment = relevel(Treatment, ref = \"TRAN\"))\n",
    "contrasts(df$Treatment)\n",
    "\n",
    "contrasts(df$CLASS)\n",
    "df <- df %>% mutate(CLASS = relevel(CLASS, ref = \"LEXP\"))\n",
    "contrasts(df$CLASS)\n",
    "print(dim(df))\n",
    "summary(df)"
   ]
  },
  {
   "cell_type": "code",
   "execution_count": 3,
   "id": "91cce811",
   "metadata": {},
   "outputs": [],
   "source": [
    "#https://stackoverflow.com/questions/38001345/using-lm-nls-and-glm-to-estimate-population-growth-rate-in-malthusian\n",
    "#nls and nlsLM functions in stats and minpack.lm packages in R software"
   ]
  },
  {
   "cell_type": "markdown",
   "id": "78406726",
   "metadata": {},
   "source": [
    "## logistic growth curve"
   ]
  },
  {
   "cell_type": "code",
   "execution_count": 4,
   "id": "6a5e793b",
   "metadata": {},
   "outputs": [
    {
     "data": {
      "text/plain": [
       "\n",
       "Formula: weight ~ SSlogis(DOA, Asym, xmid, scal)\n",
       "\n",
       "Parameters:\n",
       "     Estimate Std. Error t value Pr(>|t|)    \n",
       "Asym 1861.864      6.985  266.56   <2e-16 ***\n",
       "xmid  101.340      1.071   94.58   <2e-16 ***\n",
       "scal   31.468      1.097   28.68   <2e-16 ***\n",
       "---\n",
       "Signif. codes:  0 '***' 0.001 '**' 0.01 '*' 0.05 '.' 0.1 ' ' 1\n",
       "\n",
       "Residual standard error: 111.9 on 559 degrees of freedom\n",
       "\n",
       "Number of iterations to convergence: 3 \n",
       "Achieved convergence tolerance: 3.356e-06\n"
      ]
     },
     "metadata": {},
     "output_type": "display_data"
    },
    {
     "data": {
      "image/png": "[encoded data removed]",
      "text/plain": [
       "plot without title"
      ]
     },
     "metadata": {
      "image/png": {
       "height": 420,
       "width": 420
      }
     },
     "output_type": "display_data"
    }
   ],
   "source": [
    "df_OFH = df[df$Treatment=='OFH',]\n",
    "fit_OFH = nls(weight ~ SSlogis(DOA, Asym, xmid, scal), data = df_OFH) #SSlogis() logistic growth curve\n",
    "#Asym, xmid, scal are param that will be estiamted, you can name them as you want\n",
    "#from documentation (https://www.rdocumentation.org/packages/stats/versions/3.6.2/topics/SSlogis) :\n",
    "#Asym: a numeric parameter representing the asymptote (i.e. max posisble value)\n",
    "#xmid: a numeric param. representing the x value at the inflection pt of the crv. The value of SSlogis will be Asym/2 at xmid\n",
    "#scal: a numeric scale parameter on the input axis.\n",
    "summary(fit_OFH)\n",
    "#\"The logistic growth curve has some upper bound on it (i.e. some point which the model can not pass). The model estimates this\n",
    "#to be 1858.0956. So, if I were to make predictions for very large x, you would see that the curve will get very close to 25.657 but will never touch it or pass it. T\n",
    "plot(df_OFH$DOA, df_OFH$weight)\n",
    "lines(df_OFH$DOA, predict(fit_OFH))"
   ]
  },
  {
   "cell_type": "code",
   "execution_count": 5,
   "id": "59fe8d12",
   "metadata": {},
   "outputs": [
    {
     "data": {
      "text/plain": [
       "\n",
       "Formula: weight ~ SSlogis(DOA, Asym, xmid, scal)\n",
       "\n",
       "Parameters:\n",
       "     Estimate Std. Error t value Pr(>|t|)    \n",
       "Asym 1854.206      7.723  240.09   <2e-16 ***\n",
       "xmid  102.546      1.131   90.70   <2e-16 ***\n",
       "scal   31.609      1.147   27.56   <2e-16 ***\n",
       "---\n",
       "Signif. codes:  0 '***' 0.001 '**' 0.01 '*' 0.05 '.' 0.1 ' ' 1\n",
       "\n",
       "Residual standard error: 123 on 556 degrees of freedom\n",
       "\n",
       "Number of iterations to convergence: 3 \n",
       "Achieved convergence tolerance: 7.301e-07\n"
      ]
     },
     "metadata": {},
     "output_type": "display_data"
    }
   ],
   "source": [
    "df_TRAN = df[df$Treatment=='TRAN',]\n",
    "fit_TRAN = nls(weight ~ SSlogis(DOA, Asym, xmid, scal), data = df_TRAN)\n",
    "summary(fit_TRAN)\n",
    "#\"The logistic growth curve has some upper bound on it (i.e. some point which the model can not pass). The model estimates this\n",
    "#to be 1858.0956. So, if I were to make predictions for very large x, you would see that the curve will get very close to 25.657 but will never touch it or pass it. T"
   ]
  },
  {
   "cell_type": "code",
   "execution_count": 6,
   "id": "33c32c84",
   "metadata": {},
   "outputs": [
    {
     "data": {
      "image/png": "[encoded data removed]",
      "text/plain": [
       "plot without title"
      ]
     },
     "metadata": {
      "image/png": {
       "height": 420,
       "width": 420
      }
     },
     "output_type": "display_data"
    }
   ],
   "source": [
    "plot(df_TRAN$DOA, df_TRAN$weight, col=rgb(red = 0, green = 0, blue = 1, alpha = 0.2), pch=8)\n",
    "lines(df_TRAN$DOA, predict(fit_TRAN), col=rgb(red = 0, green = 0, blue = 1, alpha = 1))\n",
    "points(df_OFH$DOA, df_OFH$weight, col=rgb(red = 1, green = 0, blue = 0, alpha = 0.2), pch=8) #points() instead of plot() as we want plot to overlay!\n",
    "lines(df_OFH$DOA, predict(fit_OFH), col=rgb(red = 1, green = 0, blue = 0, alpha = 1))"
   ]
  },
  {
   "cell_type": "markdown",
   "id": "114a5401",
   "metadata": {},
   "source": [
    "## significance"
   ]
  },
  {
   "cell_type": "raw",
   "id": "baea4579",
   "metadata": {},
   "source": [
    "from: https://stats.stackexchange.com/questions/458195/compare-non-linear-model-parameter-estimates-between-conditions\n",
    "Create a model m12 consisting of separate parameters for each Treatment and a model m0 where the parameters are the same for each Treatment and then compare those two models using an F test. In R that would be done like this:"
   ]
  },
  {
   "cell_type": "code",
   "execution_count": 58,
   "id": "6022c669",
   "metadata": {},
   "outputs": [
    {
     "data": {
      "text/plain": [
       "Nonlinear regression model\n",
       "  model: weight ~ SSlogis(DOA, Asym, xmid, scal)\n",
       "   data: df\n",
       "   Asym    xmid    scal \n",
       "1861.86  101.34   31.47 \n",
       " residual sum-of-squares: 6997273\n",
       "\n",
       "Number of iterations to convergence: 3 \n",
       "Achieved convergence tolerance: 3.356e-06"
      ]
     },
     "metadata": {},
     "output_type": "display_data"
    },
    {
     "data": {
      "text/plain": [
       "Nonlinear regression model\n",
       "  model: weight ~ SSlogis(DOA, Asym, xmid, scal)\n",
       "   data: df\n",
       "   Asym    xmid    scal \n",
       "1854.21  102.55   31.61 \n",
       " residual sum-of-squares: 8411041\n",
       "\n",
       "Number of iterations to convergence: 3 \n",
       "Achieved convergence tolerance: 7.301e-07"
      ]
     },
     "metadata": {},
     "output_type": "display_data"
    },
    {
     "data": {
      "text/html": [
       "<table class=\"dataframe\">\n",
       "<caption>A anova: 2 × 6</caption>\n",
       "<thead>\n",
       "\t<tr><th></th><th scope=col>Res.Df</th><th scope=col>Res.Sum Sq</th><th scope=col>Df</th><th scope=col>Sum Sq</th><th scope=col>F value</th><th scope=col>Pr(&gt;F)</th></tr>\n",
       "\t<tr><th></th><th scope=col>&lt;int&gt;</th><th scope=col>&lt;dbl&gt;</th><th scope=col>&lt;int&gt;</th><th scope=col>&lt;dbl&gt;</th><th scope=col>&lt;dbl&gt;</th><th scope=col>&lt;dbl&gt;</th></tr>\n",
       "</thead>\n",
       "<tbody>\n",
       "\t<tr><th scope=row>1</th><td>1118</td><td>15450130</td><td>NA</td><td>      NA</td><td>      NA</td><td>       NA</td></tr>\n",
       "\t<tr><th scope=row>2</th><td>1115</td><td>15408315</td><td> 3</td><td>41815.36</td><td>1.008636</td><td>0.3880677</td></tr>\n",
       "</tbody>\n",
       "</table>\n"
      ],
      "text/latex": [
       "A anova: 2 × 6\n",
       "\\begin{tabular}{r|llllll}\n",
       "  & Res.Df & Res.Sum Sq & Df & Sum Sq & F value & Pr(>F)\\\\\n",
       "  & <int> & <dbl> & <int> & <dbl> & <dbl> & <dbl>\\\\\n",
       "\\hline\n",
       "\t1 & 1118 & 15450130 & NA &       NA &       NA &        NA\\\\\n",
       "\t2 & 1115 & 15408315 &  3 & 41815.36 & 1.008636 & 0.3880677\\\\\n",
       "\\end{tabular}\n"
      ],
      "text/markdown": [
       "\n",
       "A anova: 2 × 6\n",
       "\n",
       "| <!--/--> | Res.Df &lt;int&gt; | Res.Sum Sq &lt;dbl&gt; | Df &lt;int&gt; | Sum Sq &lt;dbl&gt; | F value &lt;dbl&gt; | Pr(&gt;F) &lt;dbl&gt; |\n",
       "|---|---|---|---|---|---|---|\n",
       "| 1 | 1118 | 15450130 | NA |       NA |       NA |        NA |\n",
       "| 2 | 1115 | 15408315 |  3 | 41815.36 | 1.008636 | 0.3880677 |\n",
       "\n"
      ],
      "text/plain": [
       "  Res.Df Res.Sum Sq Df Sum Sq   F value  Pr(>F)   \n",
       "1 1118   15450130   NA       NA       NA        NA\n",
       "2 1115   15408315    3 41815.36 1.008636 0.3880677"
      ]
     },
     "metadata": {},
     "output_type": "display_data"
    },
    {
     "data": {
      "text/html": [
       "<table class=\"dataframe\">\n",
       "<caption>A anova: 2 × 6</caption>\n",
       "<thead>\n",
       "\t<tr><th></th><th scope=col>Res.Df</th><th scope=col>Res.Sum Sq</th><th scope=col>Df</th><th scope=col>Sum Sq</th><th scope=col>F value</th><th scope=col>Pr(&gt;F)</th></tr>\n",
       "\t<tr><th></th><th scope=col>&lt;int&gt;</th><th scope=col>&lt;dbl&gt;</th><th scope=col>&lt;int&gt;</th><th scope=col>&lt;dbl&gt;</th><th scope=col>&lt;dbl&gt;</th><th scope=col>&lt;dbl&gt;</th></tr>\n",
       "</thead>\n",
       "<tbody>\n",
       "\t<tr><th scope=row>1</th><td>1118</td><td>15450130</td><td>NA</td><td>      NA</td><td>      NA</td><td>       NA</td></tr>\n",
       "\t<tr><th scope=row>2</th><td>1117</td><td>15419971</td><td> 1</td><td>30158.61</td><td>2.184645</td><td>0.1396751</td></tr>\n",
       "</tbody>\n",
       "</table>\n"
      ],
      "text/latex": [
       "A anova: 2 × 6\n",
       "\\begin{tabular}{r|llllll}\n",
       "  & Res.Df & Res.Sum Sq & Df & Sum Sq & F value & Pr(>F)\\\\\n",
       "  & <int> & <dbl> & <int> & <dbl> & <dbl> & <dbl>\\\\\n",
       "\\hline\n",
       "\t1 & 1118 & 15450130 & NA &       NA &       NA &        NA\\\\\n",
       "\t2 & 1117 & 15419971 &  1 & 30158.61 & 2.184645 & 0.1396751\\\\\n",
       "\\end{tabular}\n"
      ],
      "text/markdown": [
       "\n",
       "A anova: 2 × 6\n",
       "\n",
       "| <!--/--> | Res.Df &lt;int&gt; | Res.Sum Sq &lt;dbl&gt; | Df &lt;int&gt; | Sum Sq &lt;dbl&gt; | F value &lt;dbl&gt; | Pr(&gt;F) &lt;dbl&gt; |\n",
       "|---|---|---|---|---|---|---|\n",
       "| 1 | 1118 | 15450130 | NA |       NA |       NA |        NA |\n",
       "| 2 | 1117 | 15419971 |  1 | 30158.61 | 2.184645 | 0.1396751 |\n",
       "\n"
      ],
      "text/plain": [
       "  Res.Df Res.Sum Sq Df Sum Sq   F value  Pr(>F)   \n",
       "1 1118   15450130   NA       NA       NA        NA\n",
       "2 1117   15419971    1 30158.61 2.184645 0.1396751"
      ]
     },
     "metadata": {},
     "output_type": "display_data"
    }
   ],
   "source": [
    "#OFH & TRAN have the same set of parameters\n",
    "fo = weight ~ SSlogis(DOA, Asym, xmid, scal)\n",
    "m0 = nls(fo, df)\n",
    "\n",
    "#################################################################\n",
    "#OFH & TRAN have different set of parameters\n",
    "m1 = nls(fo, df, subset = Treatment == 'OFH') #used to set starting values for m12 for OFH\n",
    "m2 = nls(fo, df, subset = Treatment == 'TRAN')#used to set starting values for m12 for TRAN\n",
    "m1\n",
    "m2\n",
    "Logis = function(x, Asym, xmid, scal) Asym / (1 + exp((xmid - x)/ scal))\n",
    "m12 = nls(weight ~ Logis(DOA, Asym[Treatment], xmid[Treatment], scal[Treatment]),df, \n",
    "          start = as.data.frame(rbind(coef(m1), coef(m2))))\n",
    "#test which model is best\n",
    "anova(m0, m12)\n",
    "#--> p-value >0.05 --> cant reject H0 --> adding specific value for each treatment is not a significant improvement\n",
    "\n",
    "\n",
    "#################################################################\n",
    "#OFH & TRAN have same set of parameters expect asymp (max value)\n",
    "m12bis = nls(weight ~ Logis(DOA, Asym[Treatment], xmid, scal),df, \n",
    "             start = c(as.data.frame(rbind(coef(m1)[1], coef(m2)[1])),\n",
    "                       xmid=(coef(m1)[[2]] + coef(m2)[[2]])/2,\n",
    "                       scal=(coef(m1)[[3]] + coef(m2)[[3]])/2))\n",
    "anova(m0, m12bis)"
   ]
  },
  {
   "cell_type": "raw",
   "id": "cb46c7c2",
   "metadata": {},
   "source": [
    "--> better to model one groth curve for both treatment rather than separate\n",
    "now, check statistically if they are significantly different for each date"
   ]
  },
  {
   "cell_type": "code",
   "execution_count": null,
   "id": "ec98a8db",
   "metadata": {},
   "outputs": [],
   "source": []
  },
  {
   "cell_type": "code",
   "execution_count": null,
   "id": "61c77754",
   "metadata": {},
   "outputs": [],
   "source": []
  },
  {
   "cell_type": "code",
   "execution_count": null,
   "id": "99cf02ae",
   "metadata": {},
   "outputs": [],
   "source": []
  },
  {
   "cell_type": "code",
   "execution_count": null,
   "id": "68ae359e",
   "metadata": {},
   "outputs": [],
   "source": []
  },
  {
   "cell_type": "code",
   "execution_count": null,
   "id": "36291292",
   "metadata": {},
   "outputs": [],
   "source": []
  },
  {
   "cell_type": "code",
   "execution_count": null,
   "id": "9fed34bc",
   "metadata": {},
   "outputs": [],
   "source": []
  },
  {
   "cell_type": "code",
   "execution_count": null,
   "id": "e74d149a",
   "metadata": {},
   "outputs": [],
   "source": []
  },
  {
   "cell_type": "code",
   "execution_count": null,
   "id": "e6291966",
   "metadata": {},
   "outputs": [],
   "source": []
  },
  {
   "cell_type": "code",
   "execution_count": null,
   "id": "58e8ea4d",
   "metadata": {},
   "outputs": [],
   "source": []
  }
 ],
 "metadata": {
  "kernelspec": {
   "display_name": " Rkernel_4",
   "language": "R",
   "name": "rkernel_4"
  },
  "language_info": {
   "codemirror_mode": "r",
   "file_extension": ".r",
   "mimetype": "text/x-r-source",
   "name": "R",
   "pygments_lexer": "r",
   "version": "4.1.1"
  }
 },
 "nbformat": 4,
 "nbformat_minor": 5
}
