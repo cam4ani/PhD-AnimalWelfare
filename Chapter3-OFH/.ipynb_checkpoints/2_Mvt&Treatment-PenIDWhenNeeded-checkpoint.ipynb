{
 "cells": [
  {
   "cell_type": "code",
   "execution_count": 1,
   "id": "eaeb6db0",
   "metadata": {},
   "outputs": [
    {
     "name": "stderr",
     "output_type": "stream",
     "text": [
      "Warning message:\n",
      "\"package 'dplyr' was built under R version 3.6.3\"\n",
      "\n",
      "Attaching package: 'dplyr'\n",
      "\n",
      "\n",
      "The following objects are masked from 'package:stats':\n",
      "\n",
      "    filter, lag\n",
      "\n",
      "\n",
      "The following objects are masked from 'package:base':\n",
      "\n",
      "    intersect, setdiff, setequal, union\n",
      "\n",
      "\n",
      "Warning message:\n",
      "\"package 'MuMIn' was built under R version 3.6.3\"\n",
      "Warning message:\n",
      "\"package 'ggpubr' was built under R version 3.6.3\"\n",
      "This is DHARMa 0.4.5. For overview type '?DHARMa'. For recent changes, type news(package = 'DHARMa')\n",
      "\n",
      "Warning message:\n",
      "\"package 'glmmTMB' was built under R version 3.6.3\"\n",
      "Warning message:\n",
      "\"package 'ggstance' was built under R version 3.6.3\"\n",
      "\n",
      "Attaching package: 'ggstance'\n",
      "\n",
      "\n",
      "The following objects are masked from 'package:ggplot2':\n",
      "\n",
      "    geom_errorbarh, GeomErrorbarh\n",
      "\n",
      "\n",
      "Loading required package: MASS\n",
      "\n",
      "Warning message:\n",
      "\"package 'MASS' was built under R version 3.6.3\"\n",
      "\n",
      "Attaching package: 'MASS'\n",
      "\n",
      "\n",
      "The following object is masked from 'package:dplyr':\n",
      "\n",
      "    select\n",
      "\n",
      "\n",
      "Loading required package: Matrix\n",
      "\n",
      "Warning message:\n",
      "\"package 'Matrix' was built under R version 3.6.3\"\n",
      "Loading required package: lme4\n",
      "\n",
      "Warning message:\n",
      "\"package 'lme4' was built under R version 3.6.3\"\n",
      "\n",
      "arm (Version 1.12-2, built: 2021-10-15)\n",
      "\n",
      "\n",
      "Working directory is C:/Users/camil/Desktop/animals_code/PhD-AnimalWelfare/Chapter3-OFH\n",
      "\n",
      "\n",
      "\n",
      "Attaching package: 'arm'\n",
      "\n",
      "\n",
      "The following object is masked from 'package:jtools':\n",
      "\n",
      "    standardize\n",
      "\n",
      "\n"
     ]
    }
   ],
   "source": [
    "library(dplyr) #%>%\n",
    "#library(lmerTest) #lmer\n",
    "library(MuMIn) #r2\n",
    "#library(merTools) #sim\n",
    "library(ggplot2) #ylim in plot\n",
    "#library(rstan) #model diagnostic\n",
    "library(ggeffects)  #ggpredict\n",
    "library(ggpubr) #ggboxplot\n",
    "library(DHARMa) #sim\n",
    "library(glmmTMB) \n",
    "#library(multcomp) #glht\n",
    "#library(emmeans)\n",
    "library(splines)\n",
    "#library(sjPlot)\n",
    "#library(sjstats)\n",
    "#library(effectsize)\n",
    "#install.packages('multcomp')\n",
    "#library(performance) #r2_nakagawa\n",
    "library(jtools) # plot_summs \n",
    "library(ggstance) # plot_summs\n",
    "library(arm) #rescale by 2sd to comapre bin with cont\n",
    "library(sjPlot) #plot_models"
   ]
  },
  {
   "cell_type": "code",
   "execution_count": 2,
   "id": "8f18c382",
   "metadata": {
    "scrolled": true
   },
   "outputs": [
    {
     "name": "stderr",
     "output_type": "stream",
     "text": [
      "Warning message in dir.create(path_visual):\n",
      "\"'G:\\VPHI\\Welfare\\2- Research Projects\\OFHE2.OriginsE2\\DataOutput\\TrackingSystem\\ALLDATA_\\OFH_model\\Month_final_PenID' existe déjà\"\n"
     ]
    },
    {
     "data": {
      "text/html": [
       "<table class=\"dataframe\">\n",
       "<caption>A matrix: 3 × 2 of type dbl</caption>\n",
       "<thead>\n",
       "\t<tr><th></th><th scope=col>LEXP</th><th scope=col>MEXP</th></tr>\n",
       "</thead>\n",
       "<tbody>\n",
       "\t<tr><th scope=row>REXP</th><td>0</td><td>0</td></tr>\n",
       "\t<tr><th scope=row>LEXP</th><td>1</td><td>0</td></tr>\n",
       "\t<tr><th scope=row>MEXP</th><td>0</td><td>1</td></tr>\n",
       "</tbody>\n",
       "</table>\n"
      ],
      "text/latex": [
       "A matrix: 3 × 2 of type dbl\n",
       "\\begin{tabular}{r|ll}\n",
       "  & LEXP & MEXP\\\\\n",
       "\\hline\n",
       "\tREXP & 0 & 0\\\\\n",
       "\tLEXP & 1 & 0\\\\\n",
       "\tMEXP & 0 & 1\\\\\n",
       "\\end{tabular}\n"
      ],
      "text/markdown": [
       "\n",
       "A matrix: 3 × 2 of type dbl\n",
       "\n",
       "| <!--/--> | LEXP | MEXP |\n",
       "|---|---|---|\n",
       "| REXP | 0 | 0 |\n",
       "| LEXP | 1 | 0 |\n",
       "| MEXP | 0 | 1 |\n",
       "\n"
      ],
      "text/plain": [
       "     LEXP MEXP\n",
       "REXP 0    0   \n",
       "LEXP 1    0   \n",
       "MEXP 0    1   "
      ]
     },
     "metadata": {},
     "output_type": "display_data"
    },
    {
     "data": {
      "text/html": [
       "<table class=\"dataframe\">\n",
       "<caption>A matrix: 2 × 1 of type dbl</caption>\n",
       "<thead>\n",
       "\t<tr><th></th><th scope=col>OFH</th></tr>\n",
       "</thead>\n",
       "<tbody>\n",
       "\t<tr><th scope=row>TRAN</th><td>0</td></tr>\n",
       "\t<tr><th scope=row>OFH</th><td>1</td></tr>\n",
       "</tbody>\n",
       "</table>\n"
      ],
      "text/latex": [
       "A matrix: 2 × 1 of type dbl\n",
       "\\begin{tabular}{r|l}\n",
       "  & OFH\\\\\n",
       "\\hline\n",
       "\tTRAN & 0\\\\\n",
       "\tOFH & 1\\\\\n",
       "\\end{tabular}\n"
      ],
      "text/markdown": [
       "\n",
       "A matrix: 2 × 1 of type dbl\n",
       "\n",
       "| <!--/--> | OFH |\n",
       "|---|---|\n",
       "| TRAN | 0 |\n",
       "| OFH | 1 |\n",
       "\n"
      ],
      "text/plain": [
       "     OFH\n",
       "TRAN 0  \n",
       "OFH  1  "
      ]
     },
     "metadata": {},
     "output_type": "display_data"
    },
    {
     "data": {
      "text/html": [
       "3.0381941659387e-17"
      ],
      "text/latex": [
       "3.0381941659387e-17"
      ],
      "text/markdown": [
       "3.0381941659387e-17"
      ],
      "text/plain": [
       "[1] 3.038194e-17"
      ]
     },
     "metadata": {},
     "output_type": "display_data"
    },
    {
     "data": {
      "text/html": [
       "1"
      ],
      "text/latex": [
       "1"
      ],
      "text/markdown": [
       "1"
      ],
      "text/plain": [
       "[1] 1"
      ]
     },
     "metadata": {},
     "output_type": "display_data"
    },
    {
     "data": {
      "text/html": [
       "1.51909708296935e-17"
      ],
      "text/latex": [
       "1.51909708296935e-17"
      ],
      "text/markdown": [
       "1.51909708296935e-17"
      ],
      "text/plain": [
       "[1] 1.519097e-17"
      ]
     },
     "metadata": {},
     "output_type": "display_data"
    },
    {
     "data": {
      "text/html": [
       "0.5"
      ],
      "text/latex": [
       "0.5"
      ],
      "text/markdown": [
       "0.5"
      ],
      "text/plain": [
       "[1] 0.5"
      ]
     },
     "metadata": {},
     "output_type": "display_data"
    },
    {
     "data": {
      "text/html": [
       "-8.34223472083177e-17"
      ],
      "text/latex": [
       "-8.34223472083177e-17"
      ],
      "text/markdown": [
       "-8.34223472083177e-17"
      ],
      "text/plain": [
       "[1] -8.342235e-17"
      ]
     },
     "metadata": {},
     "output_type": "display_data"
    },
    {
     "data": {
      "text/html": [
       "0.5"
      ],
      "text/latex": [
       "0.5"
      ],
      "text/markdown": [
       "0.5"
      ],
      "text/plain": [
       "[1] 0.5"
      ]
     },
     "metadata": {},
     "output_type": "display_data"
    },
    {
     "name": "stdout",
     "output_type": "stream",
     "text": [
      "[1] 38303    26\n"
     ]
    },
    {
     "data": {
      "text/plain": [
       "     HenID           PenID             level       Treatment     CLASS      \n",
       " hen_124:  250   pen10  :4930   2021-01-06:  159   TRAN:18968   REXP:22141  \n",
       " hen_136:  250   pen11  :4921   2021-01-09:  159   OFH :19335   LEXP: 7240  \n",
       " hen_145:  250   pen9   :4890   2021-01-10:  159                MEXP: 8922  \n",
       " hen_151:  250   pen5   :4802   2021-01-11:  159                            \n",
       " hen_28 :  250   pen4   :4766   2021-01-12:  159                            \n",
       " hen_57 :  250   pen3   :4722   2021-01-13:  159                            \n",
       " (Other):36803   (Other):9272   (Other)   :37349                            \n",
       "      DOA             WOA             DIB             WIB        weight_interp \n",
       " Min.   :119.0   Min.   :17.00   Min.   :  1.0   Min.   : 1.00   Min.   :1024  \n",
       " 1st Qu.:188.0   1st Qu.:27.00   1st Qu.: 70.0   1st Qu.:10.00   1st Qu.:1653  \n",
       " Median :262.0   Median :38.00   Median :144.0   Median :21.00   Median :1783  \n",
       " Mean   :261.8   Mean   :37.84   Mean   :143.8   Mean   :20.98   Mean   :1761  \n",
       " 3rd Qu.:331.0   3rd Qu.:48.00   3rd Qu.:213.0   3rd Qu.:31.00   3rd Qu.:1906  \n",
       " Max.   :416.0   Max.   :60.00   Max.   :298.0   Max.   :43.00   Max.   :2329  \n",
       "                                                                 NA's   :848   \n",
       " FeatherDamage_interp   KBF_interp          weekday        WentinWG     \n",
       " Min.   : 0.000       Min.   : 0.000   friday   :5242   Min.   :0.0000  \n",
       " 1st Qu.: 1.286       1st Qu.: 3.952   monday   :5008   1st Qu.:0.0000  \n",
       " Median : 9.771       Median :17.600   saturday :5871   Median :1.0000  \n",
       " Mean   :12.613       Mean   :19.955   sunday   :5875   Mean   :0.6618  \n",
       " 3rd Qu.:20.667       3rd Qu.:32.400   thursday :5581   3rd Qu.:1.0000  \n",
       " Max.   :65.859       Max.   :83.596   tuesday  :5189   Max.   :1.0000  \n",
       " NA's   :1320         NA's   :277      wednesday:5537   NA's   :1714    \n",
       " vertical_travel_distance mid_cum_Z4_h_Morning  nbr_h_WGopen   nbr_h_per_day \n",
       " Min.   :  0.00           Min.   :2.035        Min.   :0.000   Min.   : 8.0  \n",
       " 1st Qu.: 40.00           1st Qu.:3.860        1st Qu.:6.250   1st Qu.:15.0  \n",
       " Median : 58.00           Median :4.509        Median :6.500   Median :15.0  \n",
       " Mean   : 58.11           Mean   :4.637        Mean   :6.006   Mean   :14.5  \n",
       " 3rd Qu.: 74.00           3rd Qu.:5.317        3rd Qu.:6.500   3rd Qu.:15.0  \n",
       " Max.   :220.00           Max.   :7.994        Max.   :8.500   Max.   :15.0  \n",
       "                          NA's   :4159                                       \n",
       "         date       temperature_C_avg propindoor_duration_5_Zone_rs\n",
       " 2021-01-06:  159   Min.   :-5.833    Min.   :0.0100               \n",
       " 2021-01-09:  159   1st Qu.: 4.833    1st Qu.:0.0884               \n",
       " 2021-01-10:  159   Median :10.000    Median :0.2452               \n",
       " 2021-01-11:  159   Mean   :10.118    Mean   :0.3218               \n",
       " 2021-01-12:  159   3rd Qu.:14.500    3rd Qu.:0.5108               \n",
       " 2021-01-13:  159   Max.   :26.167    Max.   :0.9900               \n",
       " (Other)   :37349   NA's   :315                                    \n",
       " propindoor_duration_4_Zone_rs propindoor_duration_2_Zone_rs  went_litter    \n",
       " Min.   :0.010                 Min.   :0.0100                Min.   :0.0000  \n",
       " 1st Qu.:0.059                 1st Qu.:0.2525                1st Qu.:1.0000  \n",
       " Median :0.079                 Median :0.4183                Median :1.0000  \n",
       " Mean   :0.088                 Mean   :0.3908                Mean   :0.9714  \n",
       " 3rd Qu.:0.101                 3rd Qu.:0.5392                3rd Qu.:1.0000  \n",
       " Max.   :0.990                 Max.   :0.9900                Max.   :1.0000  \n",
       " NA's   :3936                                                                \n",
       " stayed_top_tier      monthILB    \n",
       " Min.   :0.00000   month8 : 4552  \n",
       " 1st Qu.:0.00000   month3 : 4464  \n",
       " Median :0.00000   month2 : 4399  \n",
       " Mean   :0.01232   month6 : 4262  \n",
       " 3rd Qu.:0.00000   month7 : 4141  \n",
       " Max.   :1.00000   month1 : 3936  \n",
       "                   (Other):12549  "
      ]
     },
     "metadata": {},
     "output_type": "display_data"
    },
    {
     "data": {
      "text/html": [
       "<table class=\"dataframe\">\n",
       "<caption>A data.frame: 3 × 26</caption>\n",
       "<thead>\n",
       "\t<tr><th></th><th scope=col>HenID</th><th scope=col>PenID</th><th scope=col>level</th><th scope=col>Treatment</th><th scope=col>CLASS</th><th scope=col>DOA</th><th scope=col>WOA</th><th scope=col>DIB</th><th scope=col>WIB</th><th scope=col>weight_interp</th><th scope=col>...</th><th scope=col>nbr_h_WGopen</th><th scope=col>nbr_h_per_day</th><th scope=col>date</th><th scope=col>temperature_C_avg</th><th scope=col>propindoor_duration_5_Zone_rs</th><th scope=col>propindoor_duration_4_Zone_rs</th><th scope=col>propindoor_duration_2_Zone_rs</th><th scope=col>went_litter</th><th scope=col>stayed_top_tier</th><th scope=col>monthILB</th></tr>\n",
       "\t<tr><th></th><th scope=col>&lt;fct&gt;</th><th scope=col>&lt;fct&gt;</th><th scope=col>&lt;fct&gt;</th><th scope=col>&lt;fct&gt;</th><th scope=col>&lt;fct&gt;</th><th scope=col>&lt;int&gt;</th><th scope=col>&lt;int&gt;</th><th scope=col>&lt;int&gt;</th><th scope=col>&lt;int&gt;</th><th scope=col>&lt;dbl&gt;</th><th scope=col>...</th><th scope=col>&lt;dbl&gt;</th><th scope=col>&lt;int&gt;</th><th scope=col>&lt;fct&gt;</th><th scope=col>&lt;dbl&gt;</th><th scope=col>&lt;dbl&gt;</th><th scope=col>&lt;dbl&gt;</th><th scope=col>&lt;dbl&gt;</th><th scope=col>&lt;int&gt;</th><th scope=col>&lt;int&gt;</th><th scope=col>&lt;fct&gt;</th></tr>\n",
       "</thead>\n",
       "<tbody>\n",
       "\t<tr><th scope=row>1</th><td>hen_130</td><td>pen10</td><td>2020-10-05</td><td>TRAN</td><td>REXP</td><td>124</td><td>18</td><td>6</td><td>1</td><td>NA</td><td>...</td><td>0</td><td>9</td><td>2020-10-05</td><td>11.50000</td><td>0.9900</td><td>NA</td><td>0.0100</td><td>0</td><td>1</td><td>month1</td></tr>\n",
       "\t<tr><th scope=row>2</th><td>hen_130</td><td>pen10</td><td>2020-10-06</td><td>TRAN</td><td>REXP</td><td>125</td><td>18</td><td>7</td><td>1</td><td>NA</td><td>...</td><td>0</td><td>9</td><td>2020-10-06</td><td>13.50000</td><td>0.9606</td><td>NA</td><td>0.0100</td><td>0</td><td>0</td><td>month1</td></tr>\n",
       "\t<tr><th scope=row>3</th><td>hen_130</td><td>pen10</td><td>2020-10-07</td><td>TRAN</td><td>REXP</td><td>126</td><td>18</td><td>8</td><td>2</td><td>NA</td><td>...</td><td>0</td><td>9</td><td>2020-10-07</td><td>12.66667</td><td>0.9704</td><td>NA</td><td>0.0198</td><td>1</td><td>0</td><td>month1</td></tr>\n",
       "</tbody>\n",
       "</table>\n"
      ],
      "text/latex": [
       "A data.frame: 3 × 26\n",
       "\\begin{tabular}{r|lllllllllllllllllllll}\n",
       "  & HenID & PenID & level & Treatment & CLASS & DOA & WOA & DIB & WIB & weight\\_interp & ... & nbr\\_h\\_WGopen & nbr\\_h\\_per\\_day & date & temperature\\_C\\_avg & propindoor\\_duration\\_5\\_Zone\\_rs & propindoor\\_duration\\_4\\_Zone\\_rs & propindoor\\_duration\\_2\\_Zone\\_rs & went\\_litter & stayed\\_top\\_tier & monthILB\\\\\n",
       "  & <fct> & <fct> & <fct> & <fct> & <fct> & <int> & <int> & <int> & <int> & <dbl> & ... & <dbl> & <int> & <fct> & <dbl> & <dbl> & <dbl> & <dbl> & <int> & <int> & <fct>\\\\\n",
       "\\hline\n",
       "\t1 & hen\\_130 & pen10 & 2020-10-05 & TRAN & REXP & 124 & 18 & 6 & 1 & NA & ... & 0 & 9 & 2020-10-05 & 11.50000 & 0.9900 & NA & 0.0100 & 0 & 1 & month1\\\\\n",
       "\t2 & hen\\_130 & pen10 & 2020-10-06 & TRAN & REXP & 125 & 18 & 7 & 1 & NA & ... & 0 & 9 & 2020-10-06 & 13.50000 & 0.9606 & NA & 0.0100 & 0 & 0 & month1\\\\\n",
       "\t3 & hen\\_130 & pen10 & 2020-10-07 & TRAN & REXP & 126 & 18 & 8 & 2 & NA & ... & 0 & 9 & 2020-10-07 & 12.66667 & 0.9704 & NA & 0.0198 & 1 & 0 & month1\\\\\n",
       "\\end{tabular}\n"
      ],
      "text/markdown": [
       "\n",
       "A data.frame: 3 × 26\n",
       "\n",
       "| <!--/--> | HenID &lt;fct&gt; | PenID &lt;fct&gt; | level &lt;fct&gt; | Treatment &lt;fct&gt; | CLASS &lt;fct&gt; | DOA &lt;int&gt; | WOA &lt;int&gt; | DIB &lt;int&gt; | WIB &lt;int&gt; | weight_interp &lt;dbl&gt; | ... ... | nbr_h_WGopen &lt;dbl&gt; | nbr_h_per_day &lt;int&gt; | date &lt;fct&gt; | temperature_C_avg &lt;dbl&gt; | propindoor_duration_5_Zone_rs &lt;dbl&gt; | propindoor_duration_4_Zone_rs &lt;dbl&gt; | propindoor_duration_2_Zone_rs &lt;dbl&gt; | went_litter &lt;int&gt; | stayed_top_tier &lt;int&gt; | monthILB &lt;fct&gt; |\n",
       "|---|---|---|---|---|---|---|---|---|---|---|---|---|---|---|---|---|---|---|---|---|---|\n",
       "| 1 | hen_130 | pen10 | 2020-10-05 | TRAN | REXP | 124 | 18 | 6 | 1 | NA | ... | 0 | 9 | 2020-10-05 | 11.50000 | 0.9900 | NA | 0.0100 | 0 | 1 | month1 |\n",
       "| 2 | hen_130 | pen10 | 2020-10-06 | TRAN | REXP | 125 | 18 | 7 | 1 | NA | ... | 0 | 9 | 2020-10-06 | 13.50000 | 0.9606 | NA | 0.0100 | 0 | 0 | month1 |\n",
       "| 3 | hen_130 | pen10 | 2020-10-07 | TRAN | REXP | 126 | 18 | 8 | 2 | NA | ... | 0 | 9 | 2020-10-07 | 12.66667 | 0.9704 | NA | 0.0198 | 1 | 0 | month1 |\n",
       "\n"
      ],
      "text/plain": [
       "  HenID   PenID level      Treatment CLASS DOA WOA DIB WIB weight_interp ...\n",
       "1 hen_130 pen10 2020-10-05 TRAN      REXP  124 18  6   1   NA            ...\n",
       "2 hen_130 pen10 2020-10-06 TRAN      REXP  125 18  7   1   NA            ...\n",
       "3 hen_130 pen10 2020-10-07 TRAN      REXP  126 18  8   2   NA            ...\n",
       "  nbr_h_WGopen nbr_h_per_day date       temperature_C_avg\n",
       "1 0            9             2020-10-05 11.50000         \n",
       "2 0            9             2020-10-06 13.50000         \n",
       "3 0            9             2020-10-07 12.66667         \n",
       "  propindoor_duration_5_Zone_rs propindoor_duration_4_Zone_rs\n",
       "1 0.9900                        NA                           \n",
       "2 0.9606                        NA                           \n",
       "3 0.9704                        NA                           \n",
       "  propindoor_duration_2_Zone_rs went_litter stayed_top_tier monthILB\n",
       "1 0.0100                        0           1               month1  \n",
       "2 0.0100                        0           0               month1  \n",
       "3 0.0198                        1           0               month1  "
      ]
     },
     "metadata": {},
     "output_type": "display_data"
    }
   ],
   "source": [
    "path_ = 'G:/VPHI/Welfare/2- Research Projects/OFHE2.OriginsE2/DataOutput/TrackingSystem/ALLDATA_'\n",
    "path_visual = file.path(path_, 'OFH_model','Month_final_PenIDWhenNeeded')\n",
    "dir.create(path_visual)\n",
    "df = read.csv(file.path(path_,'OFH_df_all_mvt.csv'), header = TRUE, sep = \",\")\n",
    "\n",
    "#factors\n",
    "df$HenID = as.factor(df$HenID)   \n",
    "df$PenID = as.factor(df$PenID)\n",
    "df$CLASS = as.factor(df$CLASS) \n",
    "df = df %>% mutate(CLASS = relevel(CLASS, ref = \"REXP\"))\n",
    "contrasts(df$CLASS)\n",
    "df$Treatment = as.factor(df$Treatment) #unsacaled: 0-1\n",
    "#setting reference group\n",
    "df <- df %>% mutate(Treatment = relevel(Treatment, ref = \"TRAN\"))\n",
    "contrasts(df$Treatment)\n",
    "#df$time = scale(df$WIB, center=FALSE, scale=sd(df$WIB, na.rm = TRUE)) #as not centering, we need to add this\n",
    "#df$time2_ = poly(df$time, degree=2,raw=FALSE)[,2]\n",
    "df$monthILB = as.factor(df$monthILB) \n",
    "#small example\n",
    "mean(scale(df$DIB))\n",
    "sd(scale(df$DIB))\n",
    "mean(rescale(df$DIB, binary.inputs=\"full\"))\n",
    "sd(rescale(df$DIB, binary.inputs=\"full\"))\n",
    "mean(rescale(df$Treatment, binary.inputs=\"full\"))\n",
    "sd(rescale(df$Treatment, binary.inputs=\"full\"))\n",
    "#unique(rescale(df$Treatment, binary.inputs=\"0/1\")) #0-1\n",
    "\n",
    "#two_sd: variables are scaled by two times the deviation (SD or MAD depending on robust). \n",
    "#This method can be useful to obtain model coefficients of continuous parameters comparable to coefficients related to binary predictors (Gelman, 2008).\n",
    "#scale var1 to have mean = 0 and standard deviation = 0.5\n",
    "#rescale\n",
    "print(dim(df))\n",
    "summary(df)\n",
    "write.csv(df, file.path(path_,'OFH_df_spaceUse_allday_4visual.csv'))\n",
    "head(df,3)"
   ]
  },
  {
   "cell_type": "code",
   "execution_count": 3,
   "id": "c987c4dc",
   "metadata": {},
   "outputs": [],
   "source": [
    "#tab_model: to use check first for each distribution used here (gamma, poisson, hurdle etc). ANd verify sam evaue than excel\n",
    "#as we want to do the plot in pyhton, we will save the excel based on the models for plots and further detialed shown in supplement"
   ]
  },
  {
   "cell_type": "code",
   "execution_count": 4,
   "id": "b6589bdc",
   "metadata": {},
   "outputs": [
    {
     "data": {
      "text/html": [
       "<style>\n",
       ".list-inline {list-style: none; margin:0; padding: 0}\n",
       ".list-inline>li {display: inline-block}\n",
       ".list-inline>li:not(:last-child)::after {content: \"\\00b7\"; padding: 0 .5ex}\n",
       "</style>\n",
       "<ol class=list-inline><li>38303</li><li>26</li></ol>\n"
      ],
      "text/latex": [
       "\\begin{enumerate*}\n",
       "\\item 38303\n",
       "\\item 26\n",
       "\\end{enumerate*}\n"
      ],
      "text/markdown": [
       "1. 38303\n",
       "2. 26\n",
       "\n",
       "\n"
      ],
      "text/plain": [
       "[1] 38303    26"
      ]
     },
     "metadata": {},
     "output_type": "display_data"
    },
    {
     "data": {
      "text/html": [
       "<style>\n",
       ".list-inline {list-style: none; margin:0; padding: 0}\n",
       ".list-inline>li {display: inline-block}\n",
       ".list-inline>li:not(:last-child)::after {content: \"\\00b7\"; padding: 0 .5ex}\n",
       "</style>\n",
       "<ol class=list-inline><li>38026</li><li>26</li></ol>\n"
      ],
      "text/latex": [
       "\\begin{enumerate*}\n",
       "\\item 38026\n",
       "\\item 26\n",
       "\\end{enumerate*}\n"
      ],
      "text/markdown": [
       "1. 38026\n",
       "2. 26\n",
       "\n",
       "\n"
      ],
      "text/plain": [
       "[1] 38026    26"
      ]
     },
     "metadata": {},
     "output_type": "display_data"
    },
    {
     "data": {
      "text/html": [
       "<style>\n",
       ".list-inline {list-style: none; margin:0; padding: 0}\n",
       ".list-inline>li {display: inline-block}\n",
       ".list-inline>li:not(:last-child)::after {content: \"\\00b7\"; padding: 0 .5ex}\n",
       "</style>\n",
       "<ol class=list-inline><li>37455</li><li>26</li></ol>\n"
      ],
      "text/latex": [
       "\\begin{enumerate*}\n",
       "\\item 37455\n",
       "\\item 26\n",
       "\\end{enumerate*}\n"
      ],
      "text/markdown": [
       "1. 37455\n",
       "2. 26\n",
       "\n",
       "\n"
      ],
      "text/plain": [
       "[1] 37455    26"
      ]
     },
     "metadata": {},
     "output_type": "display_data"
    }
   ],
   "source": [
    "#FeatherDamage_interp we wont use it as many nan\n",
    "dim(df)\n",
    "df = subset(df, !is.na(KBF_interp))\n",
    "dim(df)\n",
    "df = subset(df, !is.na(weight_interp))\n",
    "dim(df)"
   ]
  },
  {
   "cell_type": "code",
   "execution_count": 5,
   "id": "ff663b24",
   "metadata": {},
   "outputs": [],
   "source": [
    "#var with nan\n",
    "#nbr_stays_1_Zone                 \n",
    "#mid_cum_Z4_h_Morning             \n",
    "#temperature_C_avg"
   ]
  },
  {
   "cell_type": "markdown",
   "id": "0374e602",
   "metadata": {},
   "source": [
    "check for convergence & NA/NaN function evaluation"
   ]
  },
  {
   "cell_type": "markdown",
   "id": "7ba46e94",
   "metadata": {},
   "source": [
    "#str(summary(li_model[[2]]))#['coefficients']\n",
    "#tab_model has all. but if I want to extract myself:\n",
    "summary(li_model[[2]])[['ngrps']]$cond[['PenID']]\n",
    "summary(li_model[[2]])[['ngrps']]$cond[['HenID:PenID']]\n",
    "summary(li_model[[2]])[['nobs']]\n",
    "summary(li_model[[2]])[['varcor']]$cond['HenID:PenID']\n",
    "summary(li_model[[2]])[['varcor']]$cond['PenID']\n",
    "confint(fit)"
   ]
  },
  {
   "cell_type": "code",
   "execution_count": 6,
   "id": "12418929",
   "metadata": {},
   "outputs": [],
   "source": [
    "#http://www.strengejacke.de/sjPlot/reference/plot_model.html\n",
    "#plot model but model as row and coffieint as column\n",
    "#plot_models(li_model, p.shape = TRUE, rm.terms=c('DIB_sc','KBF_interp_sc','LEXP','MEPX'), grid = TRUE)#type = \"std2\", title='TreatmentOFH', "
   ]
  },
  {
   "cell_type": "code",
   "execution_count": 7,
   "id": "a5fc6b2c",
   "metadata": {},
   "outputs": [],
   "source": [
    "#in train\n",
    "#path_visual = 'C:/Users/camil/Desktop/animals_code/PhD-AnimalWelfare/Chapter3-OFH/plot'"
   ]
  },
  {
   "cell_type": "markdown",
   "id": "0fa8ebd8",
   "metadata": {},
   "source": [
    "# 0. propindoor_duration_2_Zone_rs"
   ]
  },
  {
   "cell_type": "code",
   "execution_count": 55,
   "id": "a2200fc9",
   "metadata": {},
   "outputs": [
    {
     "name": "stderr",
     "output_type": "stream",
     "text": [
      "Warning message in dir.create(path_visual_):\n",
      "\"'G:\\VPHI\\Welfare\\2- Research Projects\\OFHE2.OriginsE2\\DataOutput\\TrackingSystem\\ALLDATA_\\OFH_model\\Month_final_PenIDWhenNeeded\\propindoor_duration_2_Zone_rs' existe déjà\"\n"
     ]
    },
    {
     "data": {
      "text/html": [
       "<style>\n",
       ".list-inline {list-style: none; margin:0; padding: 0}\n",
       ".list-inline>li {display: inline-block}\n",
       ".list-inline>li:not(:last-child)::after {content: \"\\00b7\"; padding: 0 .5ex}\n",
       "</style>\n",
       "<ol class=list-inline><li>37455</li><li>26</li></ol>\n"
      ],
      "text/latex": [
       "\\begin{enumerate*}\n",
       "\\item 37455\n",
       "\\item 26\n",
       "\\end{enumerate*}\n"
      ],
      "text/markdown": [
       "1. 37455\n",
       "2. 26\n",
       "\n",
       "\n"
      ],
      "text/plain": [
       "[1] 37455    26"
      ]
     },
     "metadata": {},
     "output_type": "display_data"
    },
    {
     "data": {
      "text/html": [
       "<style>\n",
       ".list-inline {list-style: none; margin:0; padding: 0}\n",
       ".list-inline>li {display: inline-block}\n",
       ".list-inline>li:not(:last-child)::after {content: \"\\00b7\"; padding: 0 .5ex}\n",
       "</style>\n",
       "<ol class=list-inline><li>37455</li><li>26</li></ol>\n"
      ],
      "text/latex": [
       "\\begin{enumerate*}\n",
       "\\item 37455\n",
       "\\item 26\n",
       "\\end{enumerate*}\n"
      ],
      "text/markdown": [
       "1. 37455\n",
       "2. 26\n",
       "\n",
       "\n"
      ],
      "text/plain": [
       "[1] 37455    26"
      ]
     },
     "metadata": {},
     "output_type": "display_data"
    },
    {
     "name": "stdout",
     "output_type": "stream",
     "text": [
      "[1] \"month1\"\n"
     ]
    },
    {
     "name": "stderr",
     "output_type": "stream",
     "text": [
      "Warning message in Matrix::sparseMatrix(dims = c(0, 0), i = integer(0), j = integer(0), :\n",
      "\"'giveCsparse' has been deprecated; setting 'repr = \"T\"' for you\"\n",
      "Warning message in Matrix::sparseMatrix(dims = c(0, 0), i = integer(0), j = integer(0), :\n",
      "\"'giveCsparse' has been deprecated; setting 'repr = \"T\"' for you\"\n",
      "Warning message in Matrix::sparseMatrix(dims = c(0, 0), i = integer(0), j = integer(0), :\n",
      "\"'giveCsparse' has been deprecated; setting 'repr = \"T\"' for you\"\n",
      "Warning message in Matrix::sparseMatrix(dims = c(0, 0), i = integer(0), j = integer(0), :\n",
      "\"'giveCsparse' has been deprecated; setting 'repr = \"T\"' for you\"\n",
      "Warning message in Matrix::sparseMatrix(dims = c(0, 0), i = integer(0), j = integer(0), :\n",
      "\"'giveCsparse' has been deprecated; setting 'repr = \"T\"' for you\"\n",
      "Warning message in Matrix::sparseMatrix(dims = c(0, 0), i = integer(0), j = integer(0), :\n",
      "\"'giveCsparse' has been deprecated; setting 'repr = \"T\"' for you\"\n"
     ]
    },
    {
     "name": "stdout",
     "output_type": "stream",
     "text": [
      "Data: df__\n",
      "Models:\n",
      "fit_nopenid: went_litter ~ CLASS + Treatment + rescale(DIB) + rescale(weight_interp) + , zi=~0, disp=~1\n",
      "fit_nopenid:     rescale(nbr_h_per_day) + (1 | HenID), zi=~0, disp=~1\n",
      "fit_penid: went_litter ~ CLASS + Treatment + rescale(DIB) + rescale(weight_interp) + , zi=~0, disp=~1\n",
      "fit_penid:     rescale(nbr_h_per_day) + (1 | PenID/HenID), zi=~0, disp=~1\n",
      "            Df    AIC    BIC  logLik deviance Chisq Chi Df Pr(>Chisq)\n",
      "fit_nopenid  8 2424.9 2474.2 -1204.4   2408.9                        \n",
      "fit_penid    9 2426.9 2482.4 -1204.4   2408.9     0      1          1\n"
     ]
    },
    {
     "name": "stderr",
     "output_type": "stream",
     "text": [
      "Warning message in Matrix::sparseMatrix(dims = c(0, 0), i = integer(0), j = integer(0), :\n",
      "\"'giveCsparse' has been deprecated; setting 'repr = \"T\"' for you\"\n",
      "Warning message in Matrix::sparseMatrix(dims = c(0, 0), i = integer(0), j = integer(0), :\n",
      "\"'giveCsparse' has been deprecated; setting 'repr = \"T\"' for you\"\n",
      "Warning message in Matrix::sparseMatrix(dims = c(0, 0), i = integer(0), j = integer(0), :\n",
      "\"'giveCsparse' has been deprecated; setting 'repr = \"T\"' for you\"\n",
      "Warning message in Matrix::sparseMatrix(dims = c(0, 0), i = integer(0), j = integer(0), :\n",
      "\"'giveCsparse' has been deprecated; setting 'repr = \"T\"' for you\"\n",
      "Warning message in Matrix::sparseMatrix(dims = c(0, 0), i = integer(0), j = integer(0), :\n",
      "\"'giveCsparse' has been deprecated; setting 'repr = \"T\"' for you\"\n",
      "Warning message in Matrix::sparseMatrix(dims = c(0, 0), i = integer(0), j = integer(0), :\n",
      "\"'giveCsparse' has been deprecated; setting 'repr = \"T\"' for you\"\n"
     ]
    },
    {
     "name": "stdout",
     "output_type": "stream",
     "text": [
      "NULL\n",
      "NULL\n",
      "[1] \"month2\"\n"
     ]
    },
    {
     "name": "stderr",
     "output_type": "stream",
     "text": [
      "Warning message in Matrix::sparseMatrix(dims = c(0, 0), i = integer(0), j = integer(0), :\n",
      "\"'giveCsparse' has been deprecated; setting 'repr = \"T\"' for you\"\n",
      "Warning message in Matrix::sparseMatrix(dims = c(0, 0), i = integer(0), j = integer(0), :\n",
      "\"'giveCsparse' has been deprecated; setting 'repr = \"T\"' for you\"\n",
      "Warning message in Matrix::sparseMatrix(dims = c(0, 0), i = integer(0), j = integer(0), :\n",
      "\"'giveCsparse' has been deprecated; setting 'repr = \"T\"' for you\"\n",
      "Warning message in Matrix::sparseMatrix(dims = c(0, 0), i = integer(0), j = integer(0), :\n",
      "\"'giveCsparse' has been deprecated; setting 'repr = \"T\"' for you\"\n",
      "Warning message in Matrix::sparseMatrix(dims = c(0, 0), i = integer(0), j = integer(0), :\n",
      "\"'giveCsparse' has been deprecated; setting 'repr = \"T\"' for you\"\n",
      "Warning message in Matrix::sparseMatrix(dims = c(0, 0), i = integer(0), j = integer(0), :\n",
      "\"'giveCsparse' has been deprecated; setting 'repr = \"T\"' for you\"\n"
     ]
    },
    {
     "name": "stdout",
     "output_type": "stream",
     "text": [
      "Data: df__\n",
      "Models:\n",
      "fit_nopenid: propindoor_duration_2_Zone_rs ~ CLASS + Treatment + rescale(DIB) + , zi=~0, disp=~1\n",
      "fit_nopenid:     rescale(weight_interp) + rescale(nbr_h_per_day) + (1 | HenID), zi=~0, disp=~1\n",
      "fit_penid: propindoor_duration_2_Zone_rs ~ CLASS + Treatment + rescale(DIB) + , zi=~0, disp=~1\n",
      "fit_penid:     rescale(weight_interp) + rescale(nbr_h_per_day) + (1 | PenID/HenID), zi=~0, disp=~1\n",
      "            Df     AIC     BIC logLik deviance Chisq Chi Df Pr(>Chisq)\n",
      "fit_nopenid  9 -7965.2 -7908.4 3991.6  -7983.2                        \n",
      "fit_penid   10 -7963.2 -7900.1 3991.6  -7983.2     0      1          1\n"
     ]
    },
    {
     "name": "stderr",
     "output_type": "stream",
     "text": [
      "Warning message in Matrix::sparseMatrix(dims = c(0, 0), i = integer(0), j = integer(0), :\n",
      "\"'giveCsparse' has been deprecated; setting 'repr = \"T\"' for you\"\n",
      "Warning message in Matrix::sparseMatrix(dims = c(0, 0), i = integer(0), j = integer(0), :\n",
      "\"'giveCsparse' has been deprecated; setting 'repr = \"T\"' for you\"\n",
      "Warning message in Matrix::sparseMatrix(dims = c(0, 0), i = integer(0), j = integer(0), :\n",
      "\"'giveCsparse' has been deprecated; setting 'repr = \"T\"' for you\"\n",
      "Warning message in Matrix::sparseMatrix(dims = c(0, 0), i = integer(0), j = integer(0), :\n",
      "\"'giveCsparse' has been deprecated; setting 'repr = \"T\"' for you\"\n",
      "Warning message in Matrix::sparseMatrix(dims = c(0, 0), i = integer(0), j = integer(0), :\n",
      "\"'giveCsparse' has been deprecated; setting 'repr = \"T\"' for you\"\n",
      "Warning message in Matrix::sparseMatrix(dims = c(0, 0), i = integer(0), j = integer(0), :\n",
      "\"'giveCsparse' has been deprecated; setting 'repr = \"T\"' for you\"\n"
     ]
    },
    {
     "name": "stdout",
     "output_type": "stream",
     "text": [
      "NULL\n",
      "NULL\n",
      "[1] \"month3\"\n"
     ]
    },
    {
     "name": "stderr",
     "output_type": "stream",
     "text": [
      "Warning message in Matrix::sparseMatrix(dims = c(0, 0), i = integer(0), j = integer(0), :\n",
      "\"'giveCsparse' has been deprecated; setting 'repr = \"T\"' for you\"\n",
      "Warning message in Matrix::sparseMatrix(dims = c(0, 0), i = integer(0), j = integer(0), :\n",
      "\"'giveCsparse' has been deprecated; setting 'repr = \"T\"' for you\"\n",
      "Warning message in Matrix::sparseMatrix(dims = c(0, 0), i = integer(0), j = integer(0), :\n",
      "\"'giveCsparse' has been deprecated; setting 'repr = \"T\"' for you\"\n",
      "Warning message in Matrix::sparseMatrix(dims = c(0, 0), i = integer(0), j = integer(0), :\n",
      "\"'giveCsparse' has been deprecated; setting 'repr = \"T\"' for you\"\n",
      "Warning message in Matrix::sparseMatrix(dims = c(0, 0), i = integer(0), j = integer(0), :\n",
      "\"'giveCsparse' has been deprecated; setting 'repr = \"T\"' for you\"\n",
      "Warning message in Matrix::sparseMatrix(dims = c(0, 0), i = integer(0), j = integer(0), :\n",
      "\"'giveCsparse' has been deprecated; setting 'repr = \"T\"' for you\"\n"
     ]
    },
    {
     "name": "stdout",
     "output_type": "stream",
     "text": [
      "Data: df__\n",
      "Models:\n",
      "fit_nopenid: propindoor_duration_2_Zone_rs ~ CLASS + Treatment + rescale(DIB) + , zi=~0, disp=~1\n",
      "fit_nopenid:     rescale(weight_interp) + rescale(KBF_interp) + (1 | HenID), zi=~0, disp=~1\n",
      "fit_penid: propindoor_duration_2_Zone_rs ~ CLASS + Treatment + rescale(DIB) + , zi=~0, disp=~1\n",
      "fit_penid:     rescale(weight_interp) + rescale(KBF_interp) + (1 | PenID/HenID), zi=~0, disp=~1\n",
      "            Df    AIC    BIC logLik deviance Chisq Chi Df Pr(>Chisq)\n",
      "fit_nopenid  9 -12171 -12114 6094.7   -12189                        \n",
      "fit_penid   10 -12169 -12105 6094.7   -12189     0      1          1\n"
     ]
    },
    {
     "name": "stderr",
     "output_type": "stream",
     "text": [
      "Warning message in Matrix::sparseMatrix(dims = c(0, 0), i = integer(0), j = integer(0), :\n",
      "\"'giveCsparse' has been deprecated; setting 'repr = \"T\"' for you\"\n",
      "Warning message in Matrix::sparseMatrix(dims = c(0, 0), i = integer(0), j = integer(0), :\n",
      "\"'giveCsparse' has been deprecated; setting 'repr = \"T\"' for you\"\n",
      "Warning message in Matrix::sparseMatrix(dims = c(0, 0), i = integer(0), j = integer(0), :\n",
      "\"'giveCsparse' has been deprecated; setting 'repr = \"T\"' for you\"\n",
      "Warning message in Matrix::sparseMatrix(dims = c(0, 0), i = integer(0), j = integer(0), :\n",
      "\"'giveCsparse' has been deprecated; setting 'repr = \"T\"' for you\"\n",
      "Warning message in Matrix::sparseMatrix(dims = c(0, 0), i = integer(0), j = integer(0), :\n",
      "\"'giveCsparse' has been deprecated; setting 'repr = \"T\"' for you\"\n",
      "Warning message in Matrix::sparseMatrix(dims = c(0, 0), i = integer(0), j = integer(0), :\n",
      "\"'giveCsparse' has been deprecated; setting 'repr = \"T\"' for you\"\n"
     ]
    },
    {
     "name": "stdout",
     "output_type": "stream",
     "text": [
      "NULL\n",
      "NULL\n",
      "[1] \"month4\"\n"
     ]
    },
    {
     "name": "stderr",
     "output_type": "stream",
     "text": [
      "Warning message in Matrix::sparseMatrix(dims = c(0, 0), i = integer(0), j = integer(0), :\n",
      "\"'giveCsparse' has been deprecated; setting 'repr = \"T\"' for you\"\n",
      "Warning message in Matrix::sparseMatrix(dims = c(0, 0), i = integer(0), j = integer(0), :\n",
      "\"'giveCsparse' has been deprecated; setting 'repr = \"T\"' for you\"\n",
      "Warning message in Matrix::sparseMatrix(dims = c(0, 0), i = integer(0), j = integer(0), :\n",
      "\"'giveCsparse' has been deprecated; setting 'repr = \"T\"' for you\"\n",
      "Warning message in Matrix::sparseMatrix(dims = c(0, 0), i = integer(0), j = integer(0), :\n",
      "\"'giveCsparse' has been deprecated; setting 'repr = \"T\"' for you\"\n",
      "Warning message in Matrix::sparseMatrix(dims = c(0, 0), i = integer(0), j = integer(0), :\n",
      "\"'giveCsparse' has been deprecated; setting 'repr = \"T\"' for you\"\n",
      "Warning message in Matrix::sparseMatrix(dims = c(0, 0), i = integer(0), j = integer(0), :\n",
      "\"'giveCsparse' has been deprecated; setting 'repr = \"T\"' for you\"\n"
     ]
    },
    {
     "name": "stdout",
     "output_type": "stream",
     "text": [
      "Data: df__\n",
      "Models:\n",
      "fit_nopenid: propindoor_duration_2_Zone_rs ~ CLASS + Treatment + rescale(DIB) + , zi=~0, disp=~1\n",
      "fit_nopenid:     rescale(weight_interp) + rescale(KBF_interp) + (1 | HenID), zi=~0, disp=~1\n",
      "fit_penid: propindoor_duration_2_Zone_rs ~ CLASS + Treatment + rescale(DIB) + , zi=~0, disp=~1\n",
      "fit_penid:     rescale(weight_interp) + rescale(KBF_interp) + (1 | PenID/HenID), zi=~0, disp=~1\n",
      "            Df     AIC     BIC logLik deviance Chisq Chi Df Pr(>Chisq)\n",
      "fit_nopenid  9 -9618.4 -9562.5 4818.2  -9636.4                        \n",
      "fit_penid   10 -9616.4 -9554.3 4818.2  -9636.4     0      1          1\n"
     ]
    },
    {
     "name": "stderr",
     "output_type": "stream",
     "text": [
      "Warning message in Matrix::sparseMatrix(dims = c(0, 0), i = integer(0), j = integer(0), :\n",
      "\"'giveCsparse' has been deprecated; setting 'repr = \"T\"' for you\"\n",
      "Warning message in Matrix::sparseMatrix(dims = c(0, 0), i = integer(0), j = integer(0), :\n",
      "\"'giveCsparse' has been deprecated; setting 'repr = \"T\"' for you\"\n",
      "Warning message in Matrix::sparseMatrix(dims = c(0, 0), i = integer(0), j = integer(0), :\n",
      "\"'giveCsparse' has been deprecated; setting 'repr = \"T\"' for you\"\n",
      "Warning message in Matrix::sparseMatrix(dims = c(0, 0), i = integer(0), j = integer(0), :\n",
      "\"'giveCsparse' has been deprecated; setting 'repr = \"T\"' for you\"\n",
      "Warning message in Matrix::sparseMatrix(dims = c(0, 0), i = integer(0), j = integer(0), :\n",
      "\"'giveCsparse' has been deprecated; setting 'repr = \"T\"' for you\"\n",
      "Warning message in Matrix::sparseMatrix(dims = c(0, 0), i = integer(0), j = integer(0), :\n",
      "\"'giveCsparse' has been deprecated; setting 'repr = \"T\"' for you\"\n"
     ]
    },
    {
     "name": "stdout",
     "output_type": "stream",
     "text": [
      "NULL\n",
      "NULL\n",
      "[1] \"month5\"\n"
     ]
    },
    {
     "name": "stderr",
     "output_type": "stream",
     "text": [
      "Warning message in Matrix::sparseMatrix(dims = c(0, 0), i = integer(0), j = integer(0), :\n",
      "\"'giveCsparse' has been deprecated; setting 'repr = \"T\"' for you\"\n",
      "Warning message in Matrix::sparseMatrix(dims = c(0, 0), i = integer(0), j = integer(0), :\n",
      "\"'giveCsparse' has been deprecated; setting 'repr = \"T\"' for you\"\n",
      "Warning message in Matrix::sparseMatrix(dims = c(0, 0), i = integer(0), j = integer(0), :\n",
      "\"'giveCsparse' has been deprecated; setting 'repr = \"T\"' for you\"\n",
      "Warning message in Matrix::sparseMatrix(dims = c(0, 0), i = integer(0), j = integer(0), :\n",
      "\"'giveCsparse' has been deprecated; setting 'repr = \"T\"' for you\"\n",
      "Warning message in Matrix::sparseMatrix(dims = c(0, 0), i = integer(0), j = integer(0), :\n",
      "\"'giveCsparse' has been deprecated; setting 'repr = \"T\"' for you\"\n",
      "Warning message in Matrix::sparseMatrix(dims = c(0, 0), i = integer(0), j = integer(0), :\n",
      "\"'giveCsparse' has been deprecated; setting 'repr = \"T\"' for you\"\n"
     ]
    },
    {
     "name": "stdout",
     "output_type": "stream",
     "text": [
      "Data: df__\n",
      "Models:\n",
      "fit_nopenid: propindoor_duration_2_Zone_rs ~ CLASS + Treatment + rescale(DIB) + , zi=~0, disp=~1\n",
      "fit_nopenid:     rescale(weight_interp) + rescale(KBF_interp) + (1 | HenID), zi=~0, disp=~1\n",
      "fit_penid: propindoor_duration_2_Zone_rs ~ CLASS + Treatment + rescale(DIB) + , zi=~0, disp=~1\n",
      "fit_penid:     rescale(weight_interp) + rescale(KBF_interp) + (1 | PenID/HenID), zi=~0, disp=~1\n",
      "            Df    AIC    BIC logLik deviance Chisq Chi Df Pr(>Chisq)\n",
      "fit_nopenid  9 -10726 -10670 5371.9   -10744                        \n",
      "fit_penid   10 -10724 -10661 5371.9   -10744     0      1          1\n"
     ]
    },
    {
     "name": "stderr",
     "output_type": "stream",
     "text": [
      "Warning message in Matrix::sparseMatrix(dims = c(0, 0), i = integer(0), j = integer(0), :\n",
      "\"'giveCsparse' has been deprecated; setting 'repr = \"T\"' for you\"\n",
      "Warning message in Matrix::sparseMatrix(dims = c(0, 0), i = integer(0), j = integer(0), :\n",
      "\"'giveCsparse' has been deprecated; setting 'repr = \"T\"' for you\"\n",
      "Warning message in Matrix::sparseMatrix(dims = c(0, 0), i = integer(0), j = integer(0), :\n",
      "\"'giveCsparse' has been deprecated; setting 'repr = \"T\"' for you\"\n",
      "Warning message in Matrix::sparseMatrix(dims = c(0, 0), i = integer(0), j = integer(0), :\n",
      "\"'giveCsparse' has been deprecated; setting 'repr = \"T\"' for you\"\n",
      "Warning message in Matrix::sparseMatrix(dims = c(0, 0), i = integer(0), j = integer(0), :\n",
      "\"'giveCsparse' has been deprecated; setting 'repr = \"T\"' for you\"\n",
      "Warning message in Matrix::sparseMatrix(dims = c(0, 0), i = integer(0), j = integer(0), :\n",
      "\"'giveCsparse' has been deprecated; setting 'repr = \"T\"' for you\"\n"
     ]
    },
    {
     "name": "stdout",
     "output_type": "stream",
     "text": [
      "NULL\n",
      "NULL\n",
      "[1] \"month6\"\n"
     ]
    },
    {
     "name": "stderr",
     "output_type": "stream",
     "text": [
      "Warning message in Matrix::sparseMatrix(dims = c(0, 0), i = integer(0), j = integer(0), :\n",
      "\"'giveCsparse' has been deprecated; setting 'repr = \"T\"' for you\"\n",
      "Warning message in Matrix::sparseMatrix(dims = c(0, 0), i = integer(0), j = integer(0), :\n",
      "\"'giveCsparse' has been deprecated; setting 'repr = \"T\"' for you\"\n",
      "Warning message in Matrix::sparseMatrix(dims = c(0, 0), i = integer(0), j = integer(0), :\n",
      "\"'giveCsparse' has been deprecated; setting 'repr = \"T\"' for you\"\n",
      "Warning message in Matrix::sparseMatrix(dims = c(0, 0), i = integer(0), j = integer(0), :\n",
      "\"'giveCsparse' has been deprecated; setting 'repr = \"T\"' for you\"\n",
      "Warning message in Matrix::sparseMatrix(dims = c(0, 0), i = integer(0), j = integer(0), :\n",
      "\"'giveCsparse' has been deprecated; setting 'repr = \"T\"' for you\"\n",
      "Warning message in Matrix::sparseMatrix(dims = c(0, 0), i = integer(0), j = integer(0), :\n",
      "\"'giveCsparse' has been deprecated; setting 'repr = \"T\"' for you\"\n"
     ]
    },
    {
     "name": "stdout",
     "output_type": "stream",
     "text": [
      "Data: df__\n",
      "Models:\n",
      "fit_nopenid: propindoor_duration_2_Zone_rs ~ CLASS + Treatment + rescale(DIB) + , zi=~0, disp=~1\n",
      "fit_nopenid:     rescale(weight_interp) + rescale(KBF_interp) + (1 | HenID), zi=~0, disp=~1\n",
      "fit_penid: propindoor_duration_2_Zone_rs ~ CLASS + Treatment + rescale(DIB) + , zi=~0, disp=~1\n",
      "fit_penid:     rescale(weight_interp) + rescale(KBF_interp) + (1 | PenID/HenID), zi=~0, disp=~1\n",
      "            Df    AIC    BIC logLik deviance  Chisq Chi Df Pr(>Chisq)\n",
      "fit_nopenid  9 -11930 -11873 5974.0   -11948                         \n",
      "fit_penid   10 -11928 -11865 5974.1   -11948 0.0482      1     0.8262\n"
     ]
    },
    {
     "name": "stderr",
     "output_type": "stream",
     "text": [
      "Warning message in Matrix::sparseMatrix(dims = c(0, 0), i = integer(0), j = integer(0), :\n",
      "\"'giveCsparse' has been deprecated; setting 'repr = \"T\"' for you\"\n",
      "Warning message in Matrix::sparseMatrix(dims = c(0, 0), i = integer(0), j = integer(0), :\n",
      "\"'giveCsparse' has been deprecated; setting 'repr = \"T\"' for you\"\n",
      "Warning message in Matrix::sparseMatrix(dims = c(0, 0), i = integer(0), j = integer(0), :\n",
      "\"'giveCsparse' has been deprecated; setting 'repr = \"T\"' for you\"\n",
      "Warning message in Matrix::sparseMatrix(dims = c(0, 0), i = integer(0), j = integer(0), :\n",
      "\"'giveCsparse' has been deprecated; setting 'repr = \"T\"' for you\"\n",
      "Warning message in Matrix::sparseMatrix(dims = c(0, 0), i = integer(0), j = integer(0), :\n",
      "\"'giveCsparse' has been deprecated; setting 'repr = \"T\"' for you\"\n",
      "Warning message in Matrix::sparseMatrix(dims = c(0, 0), i = integer(0), j = integer(0), :\n",
      "\"'giveCsparse' has been deprecated; setting 'repr = \"T\"' for you\"\n"
     ]
    },
    {
     "name": "stdout",
     "output_type": "stream",
     "text": [
      "NULL\n",
      "NULL\n",
      "[1] \"month7\"\n"
     ]
    },
    {
     "name": "stderr",
     "output_type": "stream",
     "text": [
      "Warning message in Matrix::sparseMatrix(dims = c(0, 0), i = integer(0), j = integer(0), :\n",
      "\"'giveCsparse' has been deprecated; setting 'repr = \"T\"' for you\"\n",
      "Warning message in Matrix::sparseMatrix(dims = c(0, 0), i = integer(0), j = integer(0), :\n",
      "\"'giveCsparse' has been deprecated; setting 'repr = \"T\"' for you\"\n",
      "Warning message in Matrix::sparseMatrix(dims = c(0, 0), i = integer(0), j = integer(0), :\n",
      "\"'giveCsparse' has been deprecated; setting 'repr = \"T\"' for you\"\n",
      "Warning message in Matrix::sparseMatrix(dims = c(0, 0), i = integer(0), j = integer(0), :\n",
      "\"'giveCsparse' has been deprecated; setting 'repr = \"T\"' for you\"\n",
      "Warning message in Matrix::sparseMatrix(dims = c(0, 0), i = integer(0), j = integer(0), :\n",
      "\"'giveCsparse' has been deprecated; setting 'repr = \"T\"' for you\"\n",
      "Warning message in Matrix::sparseMatrix(dims = c(0, 0), i = integer(0), j = integer(0), :\n",
      "\"'giveCsparse' has been deprecated; setting 'repr = \"T\"' for you\"\n"
     ]
    },
    {
     "name": "stdout",
     "output_type": "stream",
     "text": [
      "Data: df__\n",
      "Models:\n",
      "fit_nopenid: propindoor_duration_2_Zone_rs ~ CLASS + Treatment + rescale(DIB) + , zi=~0, disp=~1\n",
      "fit_nopenid:     rescale(weight_interp) + rescale(KBF_interp) + (1 | HenID), zi=~0, disp=~1\n",
      "fit_penid: propindoor_duration_2_Zone_rs ~ CLASS + Treatment + rescale(DIB) + , zi=~0, disp=~1\n",
      "fit_penid:     rescale(weight_interp) + rescale(KBF_interp) + (1 | PenID/HenID), zi=~0, disp=~1\n",
      "            Df    AIC    BIC logLik deviance Chisq Chi Df Pr(>Chisq)\n",
      "fit_nopenid  9 -10676 -10619 5346.7   -10694                        \n",
      "fit_penid   10 -10674 -10610 5346.7   -10694     0      1          1\n"
     ]
    },
    {
     "name": "stderr",
     "output_type": "stream",
     "text": [
      "Warning message in Matrix::sparseMatrix(dims = c(0, 0), i = integer(0), j = integer(0), :\n",
      "\"'giveCsparse' has been deprecated; setting 'repr = \"T\"' for you\"\n",
      "Warning message in Matrix::sparseMatrix(dims = c(0, 0), i = integer(0), j = integer(0), :\n",
      "\"'giveCsparse' has been deprecated; setting 'repr = \"T\"' for you\"\n",
      "Warning message in Matrix::sparseMatrix(dims = c(0, 0), i = integer(0), j = integer(0), :\n",
      "\"'giveCsparse' has been deprecated; setting 'repr = \"T\"' for you\"\n",
      "Warning message in Matrix::sparseMatrix(dims = c(0, 0), i = integer(0), j = integer(0), :\n",
      "\"'giveCsparse' has been deprecated; setting 'repr = \"T\"' for you\"\n",
      "Warning message in Matrix::sparseMatrix(dims = c(0, 0), i = integer(0), j = integer(0), :\n",
      "\"'giveCsparse' has been deprecated; setting 'repr = \"T\"' for you\"\n",
      "Warning message in Matrix::sparseMatrix(dims = c(0, 0), i = integer(0), j = integer(0), :\n",
      "\"'giveCsparse' has been deprecated; setting 'repr = \"T\"' for you\"\n"
     ]
    },
    {
     "name": "stdout",
     "output_type": "stream",
     "text": [
      "NULL\n",
      "NULL\n",
      "[1] \"month8\"\n"
     ]
    },
    {
     "name": "stderr",
     "output_type": "stream",
     "text": [
      "Warning message in Matrix::sparseMatrix(dims = c(0, 0), i = integer(0), j = integer(0), :\n",
      "\"'giveCsparse' has been deprecated; setting 'repr = \"T\"' for you\"\n",
      "Warning message in Matrix::sparseMatrix(dims = c(0, 0), i = integer(0), j = integer(0), :\n",
      "\"'giveCsparse' has been deprecated; setting 'repr = \"T\"' for you\"\n",
      "Warning message in Matrix::sparseMatrix(dims = c(0, 0), i = integer(0), j = integer(0), :\n",
      "\"'giveCsparse' has been deprecated; setting 'repr = \"T\"' for you\"\n",
      "Warning message in Matrix::sparseMatrix(dims = c(0, 0), i = integer(0), j = integer(0), :\n",
      "\"'giveCsparse' has been deprecated; setting 'repr = \"T\"' for you\"\n",
      "Warning message in Matrix::sparseMatrix(dims = c(0, 0), i = integer(0), j = integer(0), :\n",
      "\"'giveCsparse' has been deprecated; setting 'repr = \"T\"' for you\"\n",
      "Warning message in Matrix::sparseMatrix(dims = c(0, 0), i = integer(0), j = integer(0), :\n",
      "\"'giveCsparse' has been deprecated; setting 'repr = \"T\"' for you\"\n"
     ]
    },
    {
     "name": "stdout",
     "output_type": "stream",
     "text": [
      "Data: df__\n",
      "Models:\n",
      "fit_nopenid: propindoor_duration_2_Zone_rs ~ CLASS + Treatment + rescale(DIB) + , zi=~0, disp=~1\n",
      "fit_nopenid:     rescale(weight_interp) + rescale(KBF_interp) + (1 | HenID), zi=~0, disp=~1\n",
      "fit_penid: propindoor_duration_2_Zone_rs ~ CLASS + Treatment + rescale(DIB) + , zi=~0, disp=~1\n",
      "fit_penid:     rescale(weight_interp) + rescale(KBF_interp) + (1 | PenID/HenID), zi=~0, disp=~1\n",
      "            Df    AIC    BIC logLik deviance  Chisq Chi Df Pr(>Chisq)\n",
      "fit_nopenid  9 -11791 -11733 5904.4   -11809                         \n",
      "fit_penid   10 -11789 -11725 5904.4   -11809 0.0074      1     0.9316\n"
     ]
    },
    {
     "name": "stderr",
     "output_type": "stream",
     "text": [
      "Warning message in Matrix::sparseMatrix(dims = c(0, 0), i = integer(0), j = integer(0), :\n",
      "\"'giveCsparse' has been deprecated; setting 'repr = \"T\"' for you\"\n",
      "Warning message in Matrix::sparseMatrix(dims = c(0, 0), i = integer(0), j = integer(0), :\n",
      "\"'giveCsparse' has been deprecated; setting 'repr = \"T\"' for you\"\n",
      "Warning message in Matrix::sparseMatrix(dims = c(0, 0), i = integer(0), j = integer(0), :\n",
      "\"'giveCsparse' has been deprecated; setting 'repr = \"T\"' for you\"\n",
      "Warning message in Matrix::sparseMatrix(dims = c(0, 0), i = integer(0), j = integer(0), :\n",
      "\"'giveCsparse' has been deprecated; setting 'repr = \"T\"' for you\"\n",
      "Warning message in Matrix::sparseMatrix(dims = c(0, 0), i = integer(0), j = integer(0), :\n",
      "\"'giveCsparse' has been deprecated; setting 'repr = \"T\"' for you\"\n",
      "Warning message in Matrix::sparseMatrix(dims = c(0, 0), i = integer(0), j = integer(0), :\n",
      "\"'giveCsparse' has been deprecated; setting 'repr = \"T\"' for you\"\n"
     ]
    },
    {
     "name": "stdout",
     "output_type": "stream",
     "text": [
      "NULL\n",
      "NULL\n",
      "[1] \"month9\"\n"
     ]
    },
    {
     "name": "stderr",
     "output_type": "stream",
     "text": [
      "Warning message in Matrix::sparseMatrix(dims = c(0, 0), i = integer(0), j = integer(0), :\n",
      "\"'giveCsparse' has been deprecated; setting 'repr = \"T\"' for you\"\n",
      "Warning message in Matrix::sparseMatrix(dims = c(0, 0), i = integer(0), j = integer(0), :\n",
      "\"'giveCsparse' has been deprecated; setting 'repr = \"T\"' for you\"\n",
      "Warning message in Matrix::sparseMatrix(dims = c(0, 0), i = integer(0), j = integer(0), :\n",
      "\"'giveCsparse' has been deprecated; setting 'repr = \"T\"' for you\"\n",
      "Warning message in Matrix::sparseMatrix(dims = c(0, 0), i = integer(0), j = integer(0), :\n",
      "\"'giveCsparse' has been deprecated; setting 'repr = \"T\"' for you\"\n",
      "Warning message in Matrix::sparseMatrix(dims = c(0, 0), i = integer(0), j = integer(0), :\n",
      "\"'giveCsparse' has been deprecated; setting 'repr = \"T\"' for you\"\n",
      "Warning message in Matrix::sparseMatrix(dims = c(0, 0), i = integer(0), j = integer(0), :\n",
      "\"'giveCsparse' has been deprecated; setting 'repr = \"T\"' for you\"\n"
     ]
    },
    {
     "name": "stdout",
     "output_type": "stream",
     "text": [
      "Data: df__\n",
      "Models:\n",
      "fit_nopenid: propindoor_duration_2_Zone_rs ~ CLASS + Treatment + rescale(DIB) + , zi=~0, disp=~1\n",
      "fit_nopenid:     rescale(weight_interp) + rescale(KBF_interp) + (1 | HenID), zi=~0, disp=~1\n",
      "fit_penid: propindoor_duration_2_Zone_rs ~ CLASS + Treatment + rescale(DIB) + , zi=~0, disp=~1\n",
      "fit_penid:     rescale(weight_interp) + rescale(KBF_interp) + (1 | PenID/HenID), zi=~0, disp=~1\n",
      "            Df     AIC     BIC logLik deviance Chisq Chi Df Pr(>Chisq)\n",
      "fit_nopenid  9 -5227.3 -5177.6 2622.7  -5245.3                        \n",
      "fit_penid   10 -5225.3 -5170.0 2622.7  -5245.3     0      1          1\n"
     ]
    },
    {
     "name": "stderr",
     "output_type": "stream",
     "text": [
      "Warning message in Matrix::sparseMatrix(dims = c(0, 0), i = integer(0), j = integer(0), :\n",
      "\"'giveCsparse' has been deprecated; setting 'repr = \"T\"' for you\"\n",
      "Warning message in Matrix::sparseMatrix(dims = c(0, 0), i = integer(0), j = integer(0), :\n",
      "\"'giveCsparse' has been deprecated; setting 'repr = \"T\"' for you\"\n",
      "Warning message in Matrix::sparseMatrix(dims = c(0, 0), i = integer(0), j = integer(0), :\n",
      "\"'giveCsparse' has been deprecated; setting 'repr = \"T\"' for you\"\n",
      "Warning message in Matrix::sparseMatrix(dims = c(0, 0), i = integer(0), j = integer(0), :\n",
      "\"'giveCsparse' has been deprecated; setting 'repr = \"T\"' for you\"\n",
      "Warning message in Matrix::sparseMatrix(dims = c(0, 0), i = integer(0), j = integer(0), :\n",
      "\"'giveCsparse' has been deprecated; setting 'repr = \"T\"' for you\"\n",
      "Warning message in Matrix::sparseMatrix(dims = c(0, 0), i = integer(0), j = integer(0), :\n",
      "\"'giveCsparse' has been deprecated; setting 'repr = \"T\"' for you\"\n"
     ]
    },
    {
     "name": "stdout",
     "output_type": "stream",
     "text": [
      "NULL\n",
      "NULL\n",
      "[1] \"month10\"\n"
     ]
    },
    {
     "name": "stderr",
     "output_type": "stream",
     "text": [
      "Warning message in Matrix::sparseMatrix(dims = c(0, 0), i = integer(0), j = integer(0), :\n",
      "\"'giveCsparse' has been deprecated; setting 'repr = \"T\"' for you\"\n",
      "Warning message in Matrix::sparseMatrix(dims = c(0, 0), i = integer(0), j = integer(0), :\n",
      "\"'giveCsparse' has been deprecated; setting 'repr = \"T\"' for you\"\n",
      "Warning message in Matrix::sparseMatrix(dims = c(0, 0), i = integer(0), j = integer(0), :\n",
      "\"'giveCsparse' has been deprecated; setting 'repr = \"T\"' for you\"\n",
      "Warning message in Matrix::sparseMatrix(dims = c(0, 0), i = integer(0), j = integer(0), :\n",
      "\"'giveCsparse' has been deprecated; setting 'repr = \"T\"' for you\"\n",
      "Warning message in Matrix::sparseMatrix(dims = c(0, 0), i = integer(0), j = integer(0), :\n",
      "\"'giveCsparse' has been deprecated; setting 'repr = \"T\"' for you\"\n",
      "Warning message in Matrix::sparseMatrix(dims = c(0, 0), i = integer(0), j = integer(0), :\n",
      "\"'giveCsparse' has been deprecated; setting 'repr = \"T\"' for you\"\n"
     ]
    },
    {
     "name": "stdout",
     "output_type": "stream",
     "text": [
      "Data: df__\n",
      "Models:\n",
      "fit_nopenid: propindoor_duration_2_Zone_rs ~ CLASS + Treatment + rescale(DIB) + , zi=~0, disp=~1\n",
      "fit_nopenid:     rescale(weight_interp) + rescale(KBF_interp) + (1 | HenID), zi=~0, disp=~1\n",
      "fit_penid: propindoor_duration_2_Zone_rs ~ CLASS + Treatment + rescale(DIB) + , zi=~0, disp=~1\n",
      "fit_penid:     rescale(weight_interp) + rescale(KBF_interp) + (1 | PenID/HenID), zi=~0, disp=~1\n",
      "            Df     AIC     BIC logLik deviance Chisq Chi Df Pr(>Chisq)\n",
      "fit_nopenid  9 -7811.6 -7757.1 3914.8  -7829.6                        \n",
      "fit_penid   10 -7809.6 -7749.0 3914.8  -7829.6     0      1          1\n"
     ]
    },
    {
     "name": "stderr",
     "output_type": "stream",
     "text": [
      "Warning message in Matrix::sparseMatrix(dims = c(0, 0), i = integer(0), j = integer(0), :\n",
      "\"'giveCsparse' has been deprecated; setting 'repr = \"T\"' for you\"\n",
      "Warning message in Matrix::sparseMatrix(dims = c(0, 0), i = integer(0), j = integer(0), :\n",
      "\"'giveCsparse' has been deprecated; setting 'repr = \"T\"' for you\"\n",
      "Warning message in Matrix::sparseMatrix(dims = c(0, 0), i = integer(0), j = integer(0), :\n",
      "\"'giveCsparse' has been deprecated; setting 'repr = \"T\"' for you\"\n",
      "Warning message in Matrix::sparseMatrix(dims = c(0, 0), i = integer(0), j = integer(0), :\n",
      "\"'giveCsparse' has been deprecated; setting 'repr = \"T\"' for you\"\n",
      "Warning message in Matrix::sparseMatrix(dims = c(0, 0), i = integer(0), j = integer(0), :\n",
      "\"'giveCsparse' has been deprecated; setting 'repr = \"T\"' for you\"\n",
      "Warning message in Matrix::sparseMatrix(dims = c(0, 0), i = integer(0), j = integer(0), :\n",
      "\"'giveCsparse' has been deprecated; setting 'repr = \"T\"' for you\"\n"
     ]
    },
    {
     "name": "stdout",
     "output_type": "stream",
     "text": [
      "NULL\n",
      "NULL\n"
     ]
    },
    {
     "name": "stderr",
     "output_type": "stream",
     "text": [
      "Warning message:\n",
      "\"Following potential variables could not be found in the data: DIB ,weight_interp\n",
      "  ,nbr_h_per_day\"\n",
      "Warning message:\n",
      "\"Following potential variables could not be found in the data: DIB ,weight_interp\n",
      "  ,nbr_h_per_day\"\n",
      "Warning message:\n",
      "\"Following potential variables could not be found in the data: DIB ,weight_interp\n",
      "  ,KBF_interp\"\n",
      "Warning message:\n",
      "\"Following potential variables could not be found in the data: DIB ,weight_interp\n",
      "  ,KBF_interp\"\n",
      "Warning message:\n",
      "\"Following potential variables could not be found in the data: DIB ,weight_interp\n",
      "  ,KBF_interp\"\n",
      "Warning message:\n",
      "\"Following potential variables could not be found in the data: DIB ,weight_interp\n",
      "  ,nbr_h_per_day\"\n",
      "Warning message:\n",
      "\"Following potential variables could not be found in the data: DIB ,weight_interp\n",
      "  ,nbr_h_per_day\"\n",
      "Warning message:\n",
      "\"Following potential variables could not be found in the data: DIB ,weight_interp\n",
      "  ,KBF_interp\"\n",
      "Warning message:\n",
      "\"Following potential variables could not be found in the data: DIB ,weight_interp\n",
      "  ,KBF_interp\"\n",
      "Warning message:\n",
      "\"Following potential variables could not be found in the data: DIB ,weight_interp\n",
      "  ,KBF_interp\"\n",
      "Warning message:\n",
      "\"Following potential variables could not be found in the data: DIB ,weight_interp\n",
      "  ,nbr_h_per_day\"\n",
      "Warning message:\n",
      "\"Following potential variables could not be found in the data: DIB ,weight_interp\n",
      "  ,nbr_h_per_day\"\n",
      "Warning message:\n",
      "\"Following potential variables could not be found in the data: DIB ,weight_interp\n",
      "  ,KBF_interp\"\n",
      "Warning message:\n",
      "\"Following potential variables could not be found in the data: DIB ,weight_interp\n",
      "  ,KBF_interp\"\n",
      "Warning message:\n",
      "\"Following potential variables could not be found in the data: DIB ,weight_interp\n",
      "  ,KBF_interp\"\n",
      "Warning message:\n",
      "\"Following potential variables could not be found in the data: DIB ,weight_interp\n",
      "  ,KBF_interp\"\n",
      "Warning message:\n",
      "\"Following potential variables could not be found in the data: DIB ,weight_interp\n",
      "  ,KBF_interp\"\n",
      "Warning message:\n",
      "\"Following potential variables could not be found in the data: DIB ,weight_interp\n",
      "  ,KBF_interp\"\n",
      "Warning message:\n",
      "\"Following potential variables could not be found in the data: DIB ,weight_interp\n",
      "  ,KBF_interp\"\n",
      "Warning message:\n",
      "\"Following potential variables could not be found in the data: DIB ,weight_interp\n",
      "  ,KBF_interp\"\n",
      "Warning message:\n",
      "\"Following potential variables could not be found in the data: DIB ,weight_interp\n",
      "  ,KBF_interp\"\n",
      "Warning message:\n",
      "\"Following potential variables could not be found in the data: DIB ,weight_interp\n",
      "  ,KBF_interp\"\n",
      "Warning message:\n",
      "\"Following potential variables could not be found in the data: DIB ,weight_interp\n",
      "  ,KBF_interp\"\n",
      "Warning message:\n",
      "\"Following potential variables could not be found in the data: DIB ,weight_interp\n",
      "  ,KBF_interp\"\n",
      "Warning message:\n",
      "\"Following potential variables could not be found in the data: DIB ,weight_interp\n",
      "  ,KBF_interp\"\n",
      "Warning message:\n",
      "\"Following potential variables could not be found in the data: DIB ,weight_interp\n",
      "  ,KBF_interp\"\n",
      "Warning message:\n",
      "\"Following potential variables could not be found in the data: DIB ,weight_interp\n",
      "  ,KBF_interp\"\n",
      "Warning message in confint.glmmTMB(x, method = tolower(conf.method), level = conf.level, :\n",
      "\"extra arguments ignored:  intervals, prob\"\n",
      "Warning message in confint.glmmTMB(x, parm = thpar, method = conf.method, level = conf.level, :\n",
      "\"extra arguments ignored:  intervals, prob\"\n",
      "Warning message in confint.glmmTMB(x, method = tolower(conf.method), level = conf.level, :\n",
      "\"extra arguments ignored:  intervals, prob\"\n",
      "Warning message in confint.glmmTMB(x, parm = thpar, method = conf.method, level = conf.level, :\n",
      "\"extra arguments ignored:  intervals, prob\"\n",
      "Warning message in confint.glmmTMB(x, method = tolower(conf.method), level = conf.level, :\n",
      "\"extra arguments ignored:  intervals, prob\"\n",
      "Warning message in confint.glmmTMB(x, parm = thpar, method = conf.method, level = conf.level, :\n",
      "\"extra arguments ignored:  intervals, prob\"\n",
      "Warning message in confint.glmmTMB(x, method = tolower(conf.method), level = conf.level, :\n",
      "\"extra arguments ignored:  intervals, prob\"\n",
      "Warning message in confint.glmmTMB(x, parm = thpar, method = conf.method, level = conf.level, :\n",
      "\"extra arguments ignored:  intervals, prob\"\n",
      "Warning message in confint.glmmTMB(x, method = tolower(conf.method), level = conf.level, :\n",
      "\"extra arguments ignored:  intervals, prob\"\n",
      "Warning message in confint.glmmTMB(x, parm = thpar, method = conf.method, level = conf.level, :\n",
      "\"extra arguments ignored:  intervals, prob\"\n",
      "Warning message in confint.glmmTMB(x, method = tolower(conf.method), level = conf.level, :\n",
      "\"extra arguments ignored:  intervals, prob\"\n",
      "Warning message in confint.glmmTMB(x, parm = thpar, method = conf.method, level = conf.level, :\n",
      "\"extra arguments ignored:  intervals, prob\"\n",
      "Warning message in confint.glmmTMB(x, method = tolower(conf.method), level = conf.level, :\n",
      "\"extra arguments ignored:  intervals, prob\"\n",
      "Warning message in confint.glmmTMB(x, parm = thpar, method = conf.method, level = conf.level, :\n",
      "\"extra arguments ignored:  intervals, prob\"\n",
      "Warning message in confint.glmmTMB(x, method = tolower(conf.method), level = conf.level, :\n",
      "\"extra arguments ignored:  intervals, prob\"\n",
      "Warning message in confint.glmmTMB(x, parm = thpar, method = conf.method, level = conf.level, :\n",
      "\"extra arguments ignored:  intervals, prob\"\n",
      "Warning message in confint.glmmTMB(x, method = tolower(conf.method), level = conf.level, :\n",
      "\"extra arguments ignored:  intervals, prob\"\n",
      "Warning message in confint.glmmTMB(x, parm = thpar, method = conf.method, level = conf.level, :\n",
      "\"extra arguments ignored:  intervals, prob\"\n",
      "Warning message in confint.glmmTMB(x, method = tolower(conf.method), level = conf.level, :\n",
      "\"extra arguments ignored:  intervals, prob\"\n",
      "Warning message in confint.glmmTMB(x, parm = thpar, method = conf.method, level = conf.level, :\n",
      "\"extra arguments ignored:  intervals, prob\"\n"
     ]
    },
    {
     "data": {
      "text/html": [
       "<strong>png:</strong> 2"
      ],
      "text/latex": [
       "\\textbf{png:} 2"
      ],
      "text/markdown": [
       "**png:** 2"
      ],
      "text/plain": [
       "png \n",
       "  2 "
      ]
     },
     "metadata": {},
     "output_type": "display_data"
    }
   ],
   "source": [
    "var = 'propindoor_duration_2_Zone_rs'\n",
    "path_visual_ = file.path(path_visual, var)\n",
    "dir.create(path_visual_)\n",
    "dim(df)\n",
    "df_ = df\n",
    "dim(df_)\n",
    "\n",
    "li_model = list()\n",
    "for (i in 1:10){\n",
    "    monthILBID = paste0('month',i)\n",
    "    print(monthILBID)\n",
    "    df__ = df_[df_$monthILB==monthILBID,]\n",
    "    #monthILB1-monthILB2: no KBF but nbr_h_per_day_sc, after KBF but no nbr_h_per_day_sc\n",
    "    if (monthILBID %in% c('month1')){\n",
    "        fit_nopenid = glmmTMB(went_litter ~  CLASS+ Treatment + rescale(DIB) + rescale(weight_interp)+ rescale(nbr_h_per_day) + (1|HenID), \n",
    "                   data=df__, family=binomial)\n",
    "        fit_penid = glmmTMB(went_litter ~  CLASS+ Treatment + rescale(DIB) + rescale(weight_interp)+ rescale(nbr_h_per_day) + (1|PenID/HenID), \n",
    "                   data=df__, family=binomial)}\n",
    "    else if (monthILBID %in% c('month2')){\n",
    "        fit_nopenid = glmmTMB(propindoor_duration_2_Zone_rs ~  CLASS+ Treatment + rescale(DIB) + rescale(weight_interp)+ rescale(nbr_h_per_day) + (1|HenID), \n",
    "                   data=df__, family=beta_family(link=\"logit\"))\n",
    "        fit_penid = glmmTMB(propindoor_duration_2_Zone_rs ~  CLASS+ Treatment + rescale(DIB) + rescale(weight_interp)+ rescale(nbr_h_per_day) + (1|PenID/HenID), \n",
    "                   data=df__, family=beta_family(link=\"logit\"))}\n",
    "    else{\n",
    "        fit_nopenid = glmmTMB(propindoor_duration_2_Zone_rs ~  CLASS + Treatment + rescale(DIB) + rescale(weight_interp)+ rescale(KBF_interp) + (1|HenID), \n",
    "                   data=df__, family=beta_family(link=\"logit\"))\n",
    "        fit_penid = glmmTMB(propindoor_duration_2_Zone_rs ~  CLASS + Treatment + rescale(DIB) + rescale(weight_interp)+ rescale(KBF_interp) + (1|PenID/HenID), \n",
    "                   data=df__, family=beta_family(link=\"logit\"))}\n",
    "    print(anova(fit_nopenid,fit_penid))\n",
    "    p_value = anova(fit_nopenid,fit_penid)['Pr(>Chisq)']['fit_penid',]\n",
    "    if (p_value<0.05){\n",
    "        fit = fit_penid    \n",
    "    }else{\n",
    "        fit = fit_nopenid    \n",
    "    }    \n",
    "    \n",
    "    li_model[[i]] = fit\n",
    "    write.csv(summary(fit)[['coefficients']]$cond, file=file.path(path_visual_, paste0(var,monthILBID,'.csv')) )\n",
    "    \n",
    "    set.seed(0)\n",
    "    simulationOutput = simulateResiduals(fittedModel=fit)\n",
    "    tiff(file.path(path_visual_, paste0(var,'_SimRes1',monthILBID,'.tiff')), width=400, height=400)\n",
    "    print(plot(simulationOutput))\n",
    "    dev.off()\n",
    "    \n",
    "    tiff(file.path(path_visual_, paste0(var,'_SimRes2',monthILBID,'.tiff')), width=400, height=400)\n",
    "    print(plotResiduals(simulationOutput, form = df__$Treatment))\n",
    "    dev.off()}\n",
    "\n",
    "tab_model(li_model[1:5], collapse.ci = TRUE, p.style = \"numeric_stars\", file=file.path(path_visual_, paste0(var,'_TableModel1-5.doc')))\n",
    "tab_model(li_model[6:10], collapse.ci = TRUE, p.style = \"numeric_stars\", file=file.path(path_visual_, paste0(var,'_TableModel6-10.doc')))\n",
    "\n",
    "tiff(file.path(path_visual_, paste0(var,'_OFHCoeff','.tiff')), width=400, height=400)\n",
    "plot_summs(li_model, coefs=c('TreatmentOFH'), colors='Rainbow', legend.title=var, exp=TRUE)\n",
    "dev.off()"
   ]
  },
  {
   "cell_type": "markdown",
   "id": "46a41ab7",
   "metadata": {},
   "source": [
    "# 1. propindoor_duration_5_Zone_rs"
   ]
  },
  {
   "cell_type": "code",
   "execution_count": 56,
   "id": "a95afd85",
   "metadata": {},
   "outputs": [
    {
     "data": {
      "text/html": [
       "<style>\n",
       ".list-inline {list-style: none; margin:0; padding: 0}\n",
       ".list-inline>li {display: inline-block}\n",
       ".list-inline>li:not(:last-child)::after {content: \"\\00b7\"; padding: 0 .5ex}\n",
       "</style>\n",
       "<ol class=list-inline><li>37455</li><li>26</li></ol>\n"
      ],
      "text/latex": [
       "\\begin{enumerate*}\n",
       "\\item 37455\n",
       "\\item 26\n",
       "\\end{enumerate*}\n"
      ],
      "text/markdown": [
       "1. 37455\n",
       "2. 26\n",
       "\n",
       "\n"
      ],
      "text/plain": [
       "[1] 37455    26"
      ]
     },
     "metadata": {},
     "output_type": "display_data"
    },
    {
     "data": {
      "text/html": [
       "<style>\n",
       ".list-inline {list-style: none; margin:0; padding: 0}\n",
       ".list-inline>li {display: inline-block}\n",
       ".list-inline>li:not(:last-child)::after {content: \"\\00b7\"; padding: 0 .5ex}\n",
       "</style>\n",
       "<ol class=list-inline><li>37455</li><li>26</li></ol>\n"
      ],
      "text/latex": [
       "\\begin{enumerate*}\n",
       "\\item 37455\n",
       "\\item 26\n",
       "\\end{enumerate*}\n"
      ],
      "text/markdown": [
       "1. 37455\n",
       "2. 26\n",
       "\n",
       "\n"
      ],
      "text/plain": [
       "[1] 37455    26"
      ]
     },
     "metadata": {},
     "output_type": "display_data"
    },
    {
     "name": "stdout",
     "output_type": "stream",
     "text": [
      "[1] \"month1\"\n"
     ]
    },
    {
     "name": "stderr",
     "output_type": "stream",
     "text": [
      "Warning message in Matrix::sparseMatrix(dims = c(0, 0), i = integer(0), j = integer(0), :\n",
      "\"'giveCsparse' has been deprecated; setting 'repr = \"T\"' for you\"\n",
      "Warning message in Matrix::sparseMatrix(dims = c(0, 0), i = integer(0), j = integer(0), :\n",
      "\"'giveCsparse' has been deprecated; setting 'repr = \"T\"' for you\"\n",
      "Warning message in Matrix::sparseMatrix(dims = c(0, 0), i = integer(0), j = integer(0), :\n",
      "\"'giveCsparse' has been deprecated; setting 'repr = \"T\"' for you\"\n",
      "Warning message in Matrix::sparseMatrix(dims = c(0, 0), i = integer(0), j = integer(0), :\n",
      "\"'giveCsparse' has been deprecated; setting 'repr = \"T\"' for you\"\n",
      "Warning message in Matrix::sparseMatrix(dims = c(0, 0), i = integer(0), j = integer(0), :\n",
      "\"'giveCsparse' has been deprecated; setting 'repr = \"T\"' for you\"\n",
      "Warning message in Matrix::sparseMatrix(dims = c(0, 0), i = integer(0), j = integer(0), :\n",
      "\"'giveCsparse' has been deprecated; setting 'repr = \"T\"' for you\"\n"
     ]
    },
    {
     "name": "stdout",
     "output_type": "stream",
     "text": [
      "Data: df__\n",
      "Models:\n",
      "fit_nopenid: propindoor_duration_5_Zone_rs ~ CLASS + Treatment + rescale(DIB) + , zi=~0, disp=~1\n",
      "fit_nopenid:     rescale(weight_interp) + rescale(nbr_h_per_day) + (1 | HenID), zi=~0, disp=~1\n",
      "fit_penid: propindoor_duration_5_Zone_rs ~ CLASS + Treatment + rescale(DIB) + , zi=~0, disp=~1\n",
      "fit_penid:     rescale(weight_interp) + rescale(nbr_h_per_day) + (1 | PenID/HenID), zi=~0, disp=~1\n",
      "            Df     AIC     BIC logLik deviance Chisq Chi Df Pr(>Chisq)\n",
      "fit_nopenid  9 -2165.2 -2109.7 1091.6  -2183.2                        \n",
      "fit_penid   10 -2163.2 -2101.5 1091.6  -2183.2     0      1          1\n"
     ]
    },
    {
     "name": "stderr",
     "output_type": "stream",
     "text": [
      "Warning message in Matrix::sparseMatrix(dims = c(0, 0), i = integer(0), j = integer(0), :\n",
      "\"'giveCsparse' has been deprecated; setting 'repr = \"T\"' for you\"\n",
      "Warning message in Matrix::sparseMatrix(dims = c(0, 0), i = integer(0), j = integer(0), :\n",
      "\"'giveCsparse' has been deprecated; setting 'repr = \"T\"' for you\"\n",
      "Warning message in Matrix::sparseMatrix(dims = c(0, 0), i = integer(0), j = integer(0), :\n",
      "\"'giveCsparse' has been deprecated; setting 'repr = \"T\"' for you\"\n",
      "Warning message in Matrix::sparseMatrix(dims = c(0, 0), i = integer(0), j = integer(0), :\n",
      "\"'giveCsparse' has been deprecated; setting 'repr = \"T\"' for you\"\n",
      "Warning message in Matrix::sparseMatrix(dims = c(0, 0), i = integer(0), j = integer(0), :\n",
      "\"'giveCsparse' has been deprecated; setting 'repr = \"T\"' for you\"\n",
      "Warning message in Matrix::sparseMatrix(dims = c(0, 0), i = integer(0), j = integer(0), :\n",
      "\"'giveCsparse' has been deprecated; setting 'repr = \"T\"' for you\"\n"
     ]
    },
    {
     "name": "stdout",
     "output_type": "stream",
     "text": [
      "NULL\n",
      "NULL\n",
      "[1] \"month2\"\n"
     ]
    },
    {
     "name": "stderr",
     "output_type": "stream",
     "text": [
      "Warning message in Matrix::sparseMatrix(dims = c(0, 0), i = integer(0), j = integer(0), :\n",
      "\"'giveCsparse' has been deprecated; setting 'repr = \"T\"' for you\"\n",
      "Warning message in Matrix::sparseMatrix(dims = c(0, 0), i = integer(0), j = integer(0), :\n",
      "\"'giveCsparse' has been deprecated; setting 'repr = \"T\"' for you\"\n",
      "Warning message in Matrix::sparseMatrix(dims = c(0, 0), i = integer(0), j = integer(0), :\n",
      "\"'giveCsparse' has been deprecated; setting 'repr = \"T\"' for you\"\n",
      "Warning message in Matrix::sparseMatrix(dims = c(0, 0), i = integer(0), j = integer(0), :\n",
      "\"'giveCsparse' has been deprecated; setting 'repr = \"T\"' for you\"\n",
      "Warning message in Matrix::sparseMatrix(dims = c(0, 0), i = integer(0), j = integer(0), :\n",
      "\"'giveCsparse' has been deprecated; setting 'repr = \"T\"' for you\"\n",
      "Warning message in Matrix::sparseMatrix(dims = c(0, 0), i = integer(0), j = integer(0), :\n",
      "\"'giveCsparse' has been deprecated; setting 'repr = \"T\"' for you\"\n"
     ]
    },
    {
     "name": "stdout",
     "output_type": "stream",
     "text": [
      "Data: df__\n",
      "Models:\n",
      "fit_nopenid: propindoor_duration_5_Zone_rs ~ CLASS + Treatment + rescale(DIB) + , zi=~0, disp=~1\n",
      "fit_nopenid:     rescale(weight_interp) + rescale(nbr_h_per_day) + (1 | HenID), zi=~0, disp=~1\n",
      "fit_penid: propindoor_duration_5_Zone_rs ~ CLASS + Treatment + rescale(DIB) + , zi=~0, disp=~1\n",
      "fit_penid:     rescale(weight_interp) + rescale(nbr_h_per_day) + (1 | PenID/HenID), zi=~0, disp=~1\n",
      "            Df     AIC     BIC logLik deviance Chisq Chi Df Pr(>Chisq)\n",
      "fit_nopenid  9 -5771.3 -5714.5 2894.7  -5789.3                        \n",
      "fit_penid   10 -5769.3 -5706.2 2894.7  -5789.3     0      1          1\n"
     ]
    },
    {
     "name": "stderr",
     "output_type": "stream",
     "text": [
      "Warning message in Matrix::sparseMatrix(dims = c(0, 0), i = integer(0), j = integer(0), :\n",
      "\"'giveCsparse' has been deprecated; setting 'repr = \"T\"' for you\"\n",
      "Warning message in Matrix::sparseMatrix(dims = c(0, 0), i = integer(0), j = integer(0), :\n",
      "\"'giveCsparse' has been deprecated; setting 'repr = \"T\"' for you\"\n",
      "Warning message in Matrix::sparseMatrix(dims = c(0, 0), i = integer(0), j = integer(0), :\n",
      "\"'giveCsparse' has been deprecated; setting 'repr = \"T\"' for you\"\n",
      "Warning message in Matrix::sparseMatrix(dims = c(0, 0), i = integer(0), j = integer(0), :\n",
      "\"'giveCsparse' has been deprecated; setting 'repr = \"T\"' for you\"\n",
      "Warning message in Matrix::sparseMatrix(dims = c(0, 0), i = integer(0), j = integer(0), :\n",
      "\"'giveCsparse' has been deprecated; setting 'repr = \"T\"' for you\"\n",
      "Warning message in Matrix::sparseMatrix(dims = c(0, 0), i = integer(0), j = integer(0), :\n",
      "\"'giveCsparse' has been deprecated; setting 'repr = \"T\"' for you\"\n"
     ]
    },
    {
     "name": "stdout",
     "output_type": "stream",
     "text": [
      "NULL\n",
      "NULL\n",
      "[1] \"month3\"\n"
     ]
    },
    {
     "name": "stderr",
     "output_type": "stream",
     "text": [
      "Warning message in Matrix::sparseMatrix(dims = c(0, 0), i = integer(0), j = integer(0), :\n",
      "\"'giveCsparse' has been deprecated; setting 'repr = \"T\"' for you\"\n",
      "Warning message in Matrix::sparseMatrix(dims = c(0, 0), i = integer(0), j = integer(0), :\n",
      "\"'giveCsparse' has been deprecated; setting 'repr = \"T\"' for you\"\n",
      "Warning message in Matrix::sparseMatrix(dims = c(0, 0), i = integer(0), j = integer(0), :\n",
      "\"'giveCsparse' has been deprecated; setting 'repr = \"T\"' for you\"\n",
      "Warning message in Matrix::sparseMatrix(dims = c(0, 0), i = integer(0), j = integer(0), :\n",
      "\"'giveCsparse' has been deprecated; setting 'repr = \"T\"' for you\"\n",
      "Warning message in Matrix::sparseMatrix(dims = c(0, 0), i = integer(0), j = integer(0), :\n",
      "\"'giveCsparse' has been deprecated; setting 'repr = \"T\"' for you\"\n",
      "Warning message in Matrix::sparseMatrix(dims = c(0, 0), i = integer(0), j = integer(0), :\n",
      "\"'giveCsparse' has been deprecated; setting 'repr = \"T\"' for you\"\n"
     ]
    },
    {
     "name": "stdout",
     "output_type": "stream",
     "text": [
      "Data: df__\n",
      "Models:\n",
      "fit_nopenid: propindoor_duration_5_Zone_rs ~ CLASS + Treatment + rescale(DIB) + , zi=~0, disp=~1\n",
      "fit_nopenid:     rescale(weight_interp) + rescale(KBF_interp) + (1 | HenID), zi=~0, disp=~1\n",
      "fit_penid: propindoor_duration_5_Zone_rs ~ CLASS + Treatment + rescale(DIB) + , zi=~0, disp=~1\n",
      "fit_penid:     rescale(weight_interp) + rescale(KBF_interp) + (1 | PenID/HenID), zi=~0, disp=~1\n",
      "            Df    AIC    BIC logLik deviance Chisq Chi Df Pr(>Chisq)\n",
      "fit_nopenid  9 -10740 -10683 5379.2   -10758                        \n",
      "fit_penid   10 -10738 -10674 5379.2   -10758     0      1          1\n"
     ]
    },
    {
     "name": "stderr",
     "output_type": "stream",
     "text": [
      "Warning message in Matrix::sparseMatrix(dims = c(0, 0), i = integer(0), j = integer(0), :\n",
      "\"'giveCsparse' has been deprecated; setting 'repr = \"T\"' for you\"\n",
      "Warning message in Matrix::sparseMatrix(dims = c(0, 0), i = integer(0), j = integer(0), :\n",
      "\"'giveCsparse' has been deprecated; setting 'repr = \"T\"' for you\"\n",
      "Warning message in Matrix::sparseMatrix(dims = c(0, 0), i = integer(0), j = integer(0), :\n",
      "\"'giveCsparse' has been deprecated; setting 'repr = \"T\"' for you\"\n",
      "Warning message in Matrix::sparseMatrix(dims = c(0, 0), i = integer(0), j = integer(0), :\n",
      "\"'giveCsparse' has been deprecated; setting 'repr = \"T\"' for you\"\n",
      "Warning message in Matrix::sparseMatrix(dims = c(0, 0), i = integer(0), j = integer(0), :\n",
      "\"'giveCsparse' has been deprecated; setting 'repr = \"T\"' for you\"\n",
      "Warning message in Matrix::sparseMatrix(dims = c(0, 0), i = integer(0), j = integer(0), :\n",
      "\"'giveCsparse' has been deprecated; setting 'repr = \"T\"' for you\"\n"
     ]
    },
    {
     "name": "stdout",
     "output_type": "stream",
     "text": [
      "NULL\n",
      "NULL\n",
      "[1] \"month4\"\n"
     ]
    },
    {
     "name": "stderr",
     "output_type": "stream",
     "text": [
      "Warning message in Matrix::sparseMatrix(dims = c(0, 0), i = integer(0), j = integer(0), :\n",
      "\"'giveCsparse' has been deprecated; setting 'repr = \"T\"' for you\"\n",
      "Warning message in Matrix::sparseMatrix(dims = c(0, 0), i = integer(0), j = integer(0), :\n",
      "\"'giveCsparse' has been deprecated; setting 'repr = \"T\"' for you\"\n",
      "Warning message in Matrix::sparseMatrix(dims = c(0, 0), i = integer(0), j = integer(0), :\n",
      "\"'giveCsparse' has been deprecated; setting 'repr = \"T\"' for you\"\n",
      "Warning message in Matrix::sparseMatrix(dims = c(0, 0), i = integer(0), j = integer(0), :\n",
      "\"'giveCsparse' has been deprecated; setting 'repr = \"T\"' for you\"\n",
      "Warning message in Matrix::sparseMatrix(dims = c(0, 0), i = integer(0), j = integer(0), :\n",
      "\"'giveCsparse' has been deprecated; setting 'repr = \"T\"' for you\"\n",
      "Warning message in Matrix::sparseMatrix(dims = c(0, 0), i = integer(0), j = integer(0), :\n",
      "\"'giveCsparse' has been deprecated; setting 'repr = \"T\"' for you\"\n"
     ]
    },
    {
     "name": "stdout",
     "output_type": "stream",
     "text": [
      "Data: df__\n",
      "Models:\n",
      "fit_nopenid: propindoor_duration_5_Zone_rs ~ CLASS + Treatment + rescale(DIB) + , zi=~0, disp=~1\n",
      "fit_nopenid:     rescale(weight_interp) + rescale(KBF_interp) + (1 | HenID), zi=~0, disp=~1\n",
      "fit_penid: propindoor_duration_5_Zone_rs ~ CLASS + Treatment + rescale(DIB) + , zi=~0, disp=~1\n",
      "fit_penid:     rescale(weight_interp) + rescale(KBF_interp) + (1 | PenID/HenID), zi=~0, disp=~1\n",
      "            Df     AIC     BIC logLik deviance Chisq Chi Df Pr(>Chisq)\n",
      "fit_nopenid  9 -8642.5 -8586.6 4330.2  -8660.5                        \n",
      "fit_penid   10 -8640.5 -8578.4 4330.2  -8660.5     0      1          1\n"
     ]
    },
    {
     "name": "stderr",
     "output_type": "stream",
     "text": [
      "Warning message in Matrix::sparseMatrix(dims = c(0, 0), i = integer(0), j = integer(0), :\n",
      "\"'giveCsparse' has been deprecated; setting 'repr = \"T\"' for you\"\n",
      "Warning message in Matrix::sparseMatrix(dims = c(0, 0), i = integer(0), j = integer(0), :\n",
      "\"'giveCsparse' has been deprecated; setting 'repr = \"T\"' for you\"\n",
      "Warning message in Matrix::sparseMatrix(dims = c(0, 0), i = integer(0), j = integer(0), :\n",
      "\"'giveCsparse' has been deprecated; setting 'repr = \"T\"' for you\"\n",
      "Warning message in Matrix::sparseMatrix(dims = c(0, 0), i = integer(0), j = integer(0), :\n",
      "\"'giveCsparse' has been deprecated; setting 'repr = \"T\"' for you\"\n",
      "Warning message in Matrix::sparseMatrix(dims = c(0, 0), i = integer(0), j = integer(0), :\n",
      "\"'giveCsparse' has been deprecated; setting 'repr = \"T\"' for you\"\n",
      "Warning message in Matrix::sparseMatrix(dims = c(0, 0), i = integer(0), j = integer(0), :\n",
      "\"'giveCsparse' has been deprecated; setting 'repr = \"T\"' for you\"\n"
     ]
    },
    {
     "name": "stdout",
     "output_type": "stream",
     "text": [
      "NULL\n",
      "NULL\n",
      "[1] \"month5\"\n"
     ]
    },
    {
     "name": "stderr",
     "output_type": "stream",
     "text": [
      "Warning message in Matrix::sparseMatrix(dims = c(0, 0), i = integer(0), j = integer(0), :\n",
      "\"'giveCsparse' has been deprecated; setting 'repr = \"T\"' for you\"\n",
      "Warning message in Matrix::sparseMatrix(dims = c(0, 0), i = integer(0), j = integer(0), :\n",
      "\"'giveCsparse' has been deprecated; setting 'repr = \"T\"' for you\"\n",
      "Warning message in Matrix::sparseMatrix(dims = c(0, 0), i = integer(0), j = integer(0), :\n",
      "\"'giveCsparse' has been deprecated; setting 'repr = \"T\"' for you\"\n",
      "Warning message in Matrix::sparseMatrix(dims = c(0, 0), i = integer(0), j = integer(0), :\n",
      "\"'giveCsparse' has been deprecated; setting 'repr = \"T\"' for you\"\n",
      "Warning message in Matrix::sparseMatrix(dims = c(0, 0), i = integer(0), j = integer(0), :\n",
      "\"'giveCsparse' has been deprecated; setting 'repr = \"T\"' for you\"\n",
      "Warning message in Matrix::sparseMatrix(dims = c(0, 0), i = integer(0), j = integer(0), :\n",
      "\"'giveCsparse' has been deprecated; setting 'repr = \"T\"' for you\"\n"
     ]
    },
    {
     "name": "stdout",
     "output_type": "stream",
     "text": [
      "Data: df__\n",
      "Models:\n",
      "fit_nopenid: propindoor_duration_5_Zone_rs ~ CLASS + Treatment + rescale(DIB) + , zi=~0, disp=~1\n",
      "fit_nopenid:     rescale(weight_interp) + rescale(KBF_interp) + (1 | HenID), zi=~0, disp=~1\n",
      "fit_penid: propindoor_duration_5_Zone_rs ~ CLASS + Treatment + rescale(DIB) + , zi=~0, disp=~1\n",
      "fit_penid:     rescale(weight_interp) + rescale(KBF_interp) + (1 | PenID/HenID), zi=~0, disp=~1\n",
      "            Df     AIC     BIC logLik deviance Chisq Chi Df Pr(>Chisq)\n",
      "fit_nopenid  9 -9608.2 -9551.9 4813.1  -9626.2                        \n",
      "fit_penid   10 -9606.2 -9543.6 4813.1  -9626.2     0      1          1\n"
     ]
    },
    {
     "name": "stderr",
     "output_type": "stream",
     "text": [
      "Warning message in Matrix::sparseMatrix(dims = c(0, 0), i = integer(0), j = integer(0), :\n",
      "\"'giveCsparse' has been deprecated; setting 'repr = \"T\"' for you\"\n",
      "Warning message in Matrix::sparseMatrix(dims = c(0, 0), i = integer(0), j = integer(0), :\n",
      "\"'giveCsparse' has been deprecated; setting 'repr = \"T\"' for you\"\n",
      "Warning message in Matrix::sparseMatrix(dims = c(0, 0), i = integer(0), j = integer(0), :\n",
      "\"'giveCsparse' has been deprecated; setting 'repr = \"T\"' for you\"\n",
      "Warning message in Matrix::sparseMatrix(dims = c(0, 0), i = integer(0), j = integer(0), :\n",
      "\"'giveCsparse' has been deprecated; setting 'repr = \"T\"' for you\"\n",
      "Warning message in Matrix::sparseMatrix(dims = c(0, 0), i = integer(0), j = integer(0), :\n",
      "\"'giveCsparse' has been deprecated; setting 'repr = \"T\"' for you\"\n",
      "Warning message in Matrix::sparseMatrix(dims = c(0, 0), i = integer(0), j = integer(0), :\n",
      "\"'giveCsparse' has been deprecated; setting 'repr = \"T\"' for you\"\n"
     ]
    },
    {
     "name": "stdout",
     "output_type": "stream",
     "text": [
      "NULL\n",
      "NULL\n",
      "[1] \"month6\"\n"
     ]
    },
    {
     "name": "stderr",
     "output_type": "stream",
     "text": [
      "Warning message in Matrix::sparseMatrix(dims = c(0, 0), i = integer(0), j = integer(0), :\n",
      "\"'giveCsparse' has been deprecated; setting 'repr = \"T\"' for you\"\n",
      "Warning message in Matrix::sparseMatrix(dims = c(0, 0), i = integer(0), j = integer(0), :\n",
      "\"'giveCsparse' has been deprecated; setting 'repr = \"T\"' for you\"\n",
      "Warning message in Matrix::sparseMatrix(dims = c(0, 0), i = integer(0), j = integer(0), :\n",
      "\"'giveCsparse' has been deprecated; setting 'repr = \"T\"' for you\"\n",
      "Warning message in Matrix::sparseMatrix(dims = c(0, 0), i = integer(0), j = integer(0), :\n",
      "\"'giveCsparse' has been deprecated; setting 'repr = \"T\"' for you\"\n",
      "Warning message in Matrix::sparseMatrix(dims = c(0, 0), i = integer(0), j = integer(0), :\n",
      "\"'giveCsparse' has been deprecated; setting 'repr = \"T\"' for you\"\n",
      "Warning message in Matrix::sparseMatrix(dims = c(0, 0), i = integer(0), j = integer(0), :\n",
      "\"'giveCsparse' has been deprecated; setting 'repr = \"T\"' for you\"\n"
     ]
    },
    {
     "name": "stdout",
     "output_type": "stream",
     "text": [
      "Data: df__\n",
      "Models:\n",
      "fit_nopenid: propindoor_duration_5_Zone_rs ~ CLASS + Treatment + rescale(DIB) + , zi=~0, disp=~1\n",
      "fit_nopenid:     rescale(weight_interp) + rescale(KBF_interp) + (1 | HenID), zi=~0, disp=~1\n",
      "fit_penid: propindoor_duration_5_Zone_rs ~ CLASS + Treatment + rescale(DIB) + , zi=~0, disp=~1\n",
      "fit_penid:     rescale(weight_interp) + rescale(KBF_interp) + (1 | PenID/HenID), zi=~0, disp=~1\n",
      "            Df    AIC    BIC logLik deviance  Chisq Chi Df Pr(>Chisq)\n",
      "fit_nopenid  9 -10219 -10162 5118.7   -10237                         \n",
      "fit_penid   10 -10217 -10154 5118.7   -10237 0.0019      1     0.9654\n"
     ]
    },
    {
     "name": "stderr",
     "output_type": "stream",
     "text": [
      "Warning message in Matrix::sparseMatrix(dims = c(0, 0), i = integer(0), j = integer(0), :\n",
      "\"'giveCsparse' has been deprecated; setting 'repr = \"T\"' for you\"\n",
      "Warning message in Matrix::sparseMatrix(dims = c(0, 0), i = integer(0), j = integer(0), :\n",
      "\"'giveCsparse' has been deprecated; setting 'repr = \"T\"' for you\"\n",
      "Warning message in Matrix::sparseMatrix(dims = c(0, 0), i = integer(0), j = integer(0), :\n",
      "\"'giveCsparse' has been deprecated; setting 'repr = \"T\"' for you\"\n",
      "Warning message in Matrix::sparseMatrix(dims = c(0, 0), i = integer(0), j = integer(0), :\n",
      "\"'giveCsparse' has been deprecated; setting 'repr = \"T\"' for you\"\n",
      "Warning message in Matrix::sparseMatrix(dims = c(0, 0), i = integer(0), j = integer(0), :\n",
      "\"'giveCsparse' has been deprecated; setting 'repr = \"T\"' for you\"\n",
      "Warning message in Matrix::sparseMatrix(dims = c(0, 0), i = integer(0), j = integer(0), :\n",
      "\"'giveCsparse' has been deprecated; setting 'repr = \"T\"' for you\"\n"
     ]
    },
    {
     "name": "stdout",
     "output_type": "stream",
     "text": [
      "NULL\n",
      "NULL\n",
      "[1] \"month7\"\n"
     ]
    },
    {
     "name": "stderr",
     "output_type": "stream",
     "text": [
      "Warning message in Matrix::sparseMatrix(dims = c(0, 0), i = integer(0), j = integer(0), :\n",
      "\"'giveCsparse' has been deprecated; setting 'repr = \"T\"' for you\"\n",
      "Warning message in Matrix::sparseMatrix(dims = c(0, 0), i = integer(0), j = integer(0), :\n",
      "\"'giveCsparse' has been deprecated; setting 'repr = \"T\"' for you\"\n",
      "Warning message in Matrix::sparseMatrix(dims = c(0, 0), i = integer(0), j = integer(0), :\n",
      "\"'giveCsparse' has been deprecated; setting 'repr = \"T\"' for you\"\n",
      "Warning message in Matrix::sparseMatrix(dims = c(0, 0), i = integer(0), j = integer(0), :\n",
      "\"'giveCsparse' has been deprecated; setting 'repr = \"T\"' for you\"\n",
      "Warning message in Matrix::sparseMatrix(dims = c(0, 0), i = integer(0), j = integer(0), :\n",
      "\"'giveCsparse' has been deprecated; setting 'repr = \"T\"' for you\"\n",
      "Warning message in Matrix::sparseMatrix(dims = c(0, 0), i = integer(0), j = integer(0), :\n",
      "\"'giveCsparse' has been deprecated; setting 'repr = \"T\"' for you\"\n"
     ]
    },
    {
     "name": "stdout",
     "output_type": "stream",
     "text": [
      "Data: df__\n",
      "Models:\n",
      "fit_nopenid: propindoor_duration_5_Zone_rs ~ CLASS + Treatment + rescale(DIB) + , zi=~0, disp=~1\n",
      "fit_nopenid:     rescale(weight_interp) + rescale(KBF_interp) + (1 | HenID), zi=~0, disp=~1\n",
      "fit_penid: propindoor_duration_5_Zone_rs ~ CLASS + Treatment + rescale(DIB) + , zi=~0, disp=~1\n",
      "fit_penid:     rescale(weight_interp) + rescale(KBF_interp) + (1 | PenID/HenID), zi=~0, disp=~1\n",
      "            Df     AIC     BIC logLik deviance Chisq Chi Df Pr(>Chisq)\n",
      "fit_nopenid  9 -9399.3 -9342.3 4708.6  -9417.3                        \n",
      "fit_penid   10 -9397.3 -9334.0 4708.6  -9417.3     0      1          1\n"
     ]
    },
    {
     "name": "stderr",
     "output_type": "stream",
     "text": [
      "Warning message in Matrix::sparseMatrix(dims = c(0, 0), i = integer(0), j = integer(0), :\n",
      "\"'giveCsparse' has been deprecated; setting 'repr = \"T\"' for you\"\n",
      "Warning message in Matrix::sparseMatrix(dims = c(0, 0), i = integer(0), j = integer(0), :\n",
      "\"'giveCsparse' has been deprecated; setting 'repr = \"T\"' for you\"\n",
      "Warning message in Matrix::sparseMatrix(dims = c(0, 0), i = integer(0), j = integer(0), :\n",
      "\"'giveCsparse' has been deprecated; setting 'repr = \"T\"' for you\"\n",
      "Warning message in Matrix::sparseMatrix(dims = c(0, 0), i = integer(0), j = integer(0), :\n",
      "\"'giveCsparse' has been deprecated; setting 'repr = \"T\"' for you\"\n",
      "Warning message in Matrix::sparseMatrix(dims = c(0, 0), i = integer(0), j = integer(0), :\n",
      "\"'giveCsparse' has been deprecated; setting 'repr = \"T\"' for you\"\n",
      "Warning message in Matrix::sparseMatrix(dims = c(0, 0), i = integer(0), j = integer(0), :\n",
      "\"'giveCsparse' has been deprecated; setting 'repr = \"T\"' for you\"\n"
     ]
    },
    {
     "name": "stdout",
     "output_type": "stream",
     "text": [
      "NULL\n",
      "NULL\n",
      "[1] \"month8\"\n"
     ]
    },
    {
     "name": "stderr",
     "output_type": "stream",
     "text": [
      "Warning message in Matrix::sparseMatrix(dims = c(0, 0), i = integer(0), j = integer(0), :\n",
      "\"'giveCsparse' has been deprecated; setting 'repr = \"T\"' for you\"\n",
      "Warning message in Matrix::sparseMatrix(dims = c(0, 0), i = integer(0), j = integer(0), :\n",
      "\"'giveCsparse' has been deprecated; setting 'repr = \"T\"' for you\"\n",
      "Warning message in Matrix::sparseMatrix(dims = c(0, 0), i = integer(0), j = integer(0), :\n",
      "\"'giveCsparse' has been deprecated; setting 'repr = \"T\"' for you\"\n",
      "Warning message in Matrix::sparseMatrix(dims = c(0, 0), i = integer(0), j = integer(0), :\n",
      "\"'giveCsparse' has been deprecated; setting 'repr = \"T\"' for you\"\n",
      "Warning message in Matrix::sparseMatrix(dims = c(0, 0), i = integer(0), j = integer(0), :\n",
      "\"'giveCsparse' has been deprecated; setting 'repr = \"T\"' for you\"\n",
      "Warning message in Matrix::sparseMatrix(dims = c(0, 0), i = integer(0), j = integer(0), :\n",
      "\"'giveCsparse' has been deprecated; setting 'repr = \"T\"' for you\"\n"
     ]
    },
    {
     "name": "stdout",
     "output_type": "stream",
     "text": [
      "Data: df__\n",
      "Models:\n",
      "fit_nopenid: propindoor_duration_5_Zone_rs ~ CLASS + Treatment + rescale(DIB) + , zi=~0, disp=~1\n",
      "fit_nopenid:     rescale(weight_interp) + rescale(KBF_interp) + (1 | HenID), zi=~0, disp=~1\n",
      "fit_penid: propindoor_duration_5_Zone_rs ~ CLASS + Treatment + rescale(DIB) + , zi=~0, disp=~1\n",
      "fit_penid:     rescale(weight_interp) + rescale(KBF_interp) + (1 | PenID/HenID), zi=~0, disp=~1\n",
      "            Df    AIC    BIC logLik deviance  Chisq Chi Df Pr(>Chisq)\n",
      "fit_nopenid  9 -10643 -10585 5330.4   -10661                         \n",
      "fit_penid   10 -10641 -10577 5330.6   -10661 0.5082      1     0.4759\n"
     ]
    },
    {
     "name": "stderr",
     "output_type": "stream",
     "text": [
      "Warning message in Matrix::sparseMatrix(dims = c(0, 0), i = integer(0), j = integer(0), :\n",
      "\"'giveCsparse' has been deprecated; setting 'repr = \"T\"' for you\"\n",
      "Warning message in Matrix::sparseMatrix(dims = c(0, 0), i = integer(0), j = integer(0), :\n",
      "\"'giveCsparse' has been deprecated; setting 'repr = \"T\"' for you\"\n",
      "Warning message in Matrix::sparseMatrix(dims = c(0, 0), i = integer(0), j = integer(0), :\n",
      "\"'giveCsparse' has been deprecated; setting 'repr = \"T\"' for you\"\n",
      "Warning message in Matrix::sparseMatrix(dims = c(0, 0), i = integer(0), j = integer(0), :\n",
      "\"'giveCsparse' has been deprecated; setting 'repr = \"T\"' for you\"\n",
      "Warning message in Matrix::sparseMatrix(dims = c(0, 0), i = integer(0), j = integer(0), :\n",
      "\"'giveCsparse' has been deprecated; setting 'repr = \"T\"' for you\"\n",
      "Warning message in Matrix::sparseMatrix(dims = c(0, 0), i = integer(0), j = integer(0), :\n",
      "\"'giveCsparse' has been deprecated; setting 'repr = \"T\"' for you\"\n"
     ]
    },
    {
     "name": "stdout",
     "output_type": "stream",
     "text": [
      "NULL\n",
      "NULL\n",
      "[1] \"month9\"\n"
     ]
    },
    {
     "name": "stderr",
     "output_type": "stream",
     "text": [
      "Warning message in Matrix::sparseMatrix(dims = c(0, 0), i = integer(0), j = integer(0), :\n",
      "\"'giveCsparse' has been deprecated; setting 'repr = \"T\"' for you\"\n",
      "Warning message in Matrix::sparseMatrix(dims = c(0, 0), i = integer(0), j = integer(0), :\n",
      "\"'giveCsparse' has been deprecated; setting 'repr = \"T\"' for you\"\n",
      "Warning message in Matrix::sparseMatrix(dims = c(0, 0), i = integer(0), j = integer(0), :\n",
      "\"'giveCsparse' has been deprecated; setting 'repr = \"T\"' for you\"\n",
      "Warning message in Matrix::sparseMatrix(dims = c(0, 0), i = integer(0), j = integer(0), :\n",
      "\"'giveCsparse' has been deprecated; setting 'repr = \"T\"' for you\"\n",
      "Warning message in Matrix::sparseMatrix(dims = c(0, 0), i = integer(0), j = integer(0), :\n",
      "\"'giveCsparse' has been deprecated; setting 'repr = \"T\"' for you\"\n",
      "Warning message in Matrix::sparseMatrix(dims = c(0, 0), i = integer(0), j = integer(0), :\n",
      "\"'giveCsparse' has been deprecated; setting 'repr = \"T\"' for you\"\n"
     ]
    },
    {
     "name": "stdout",
     "output_type": "stream",
     "text": [
      "Data: df__\n",
      "Models:\n",
      "fit_nopenid: propindoor_duration_5_Zone_rs ~ CLASS + Treatment + rescale(DIB) + , zi=~0, disp=~1\n",
      "fit_nopenid:     rescale(weight_interp) + rescale(KBF_interp) + (1 | HenID), zi=~0, disp=~1\n",
      "fit_penid: propindoor_duration_5_Zone_rs ~ CLASS + Treatment + rescale(DIB) + , zi=~0, disp=~1\n",
      "fit_penid:     rescale(weight_interp) + rescale(KBF_interp) + (1 | PenID/HenID), zi=~0, disp=~1\n",
      "            Df     AIC     BIC logLik deviance  Chisq Chi Df Pr(>Chisq)\n",
      "fit_nopenid  9 -4841.1 -4791.4 2429.6  -4859.1                         \n",
      "fit_penid   10 -4839.5 -4784.2 2429.8  -4859.5 0.3759      1     0.5398\n"
     ]
    },
    {
     "name": "stderr",
     "output_type": "stream",
     "text": [
      "Warning message in Matrix::sparseMatrix(dims = c(0, 0), i = integer(0), j = integer(0), :\n",
      "\"'giveCsparse' has been deprecated; setting 'repr = \"T\"' for you\"\n",
      "Warning message in Matrix::sparseMatrix(dims = c(0, 0), i = integer(0), j = integer(0), :\n",
      "\"'giveCsparse' has been deprecated; setting 'repr = \"T\"' for you\"\n",
      "Warning message in Matrix::sparseMatrix(dims = c(0, 0), i = integer(0), j = integer(0), :\n",
      "\"'giveCsparse' has been deprecated; setting 'repr = \"T\"' for you\"\n",
      "Warning message in Matrix::sparseMatrix(dims = c(0, 0), i = integer(0), j = integer(0), :\n",
      "\"'giveCsparse' has been deprecated; setting 'repr = \"T\"' for you\"\n",
      "Warning message in Matrix::sparseMatrix(dims = c(0, 0), i = integer(0), j = integer(0), :\n",
      "\"'giveCsparse' has been deprecated; setting 'repr = \"T\"' for you\"\n",
      "Warning message in Matrix::sparseMatrix(dims = c(0, 0), i = integer(0), j = integer(0), :\n",
      "\"'giveCsparse' has been deprecated; setting 'repr = \"T\"' for you\"\n"
     ]
    },
    {
     "name": "stdout",
     "output_type": "stream",
     "text": [
      "NULL\n",
      "NULL\n",
      "[1] \"month10\"\n"
     ]
    },
    {
     "name": "stderr",
     "output_type": "stream",
     "text": [
      "Warning message in Matrix::sparseMatrix(dims = c(0, 0), i = integer(0), j = integer(0), :\n",
      "\"'giveCsparse' has been deprecated; setting 'repr = \"T\"' for you\"\n",
      "Warning message in Matrix::sparseMatrix(dims = c(0, 0), i = integer(0), j = integer(0), :\n",
      "\"'giveCsparse' has been deprecated; setting 'repr = \"T\"' for you\"\n",
      "Warning message in Matrix::sparseMatrix(dims = c(0, 0), i = integer(0), j = integer(0), :\n",
      "\"'giveCsparse' has been deprecated; setting 'repr = \"T\"' for you\"\n",
      "Warning message in Matrix::sparseMatrix(dims = c(0, 0), i = integer(0), j = integer(0), :\n",
      "\"'giveCsparse' has been deprecated; setting 'repr = \"T\"' for you\"\n",
      "Warning message in Matrix::sparseMatrix(dims = c(0, 0), i = integer(0), j = integer(0), :\n",
      "\"'giveCsparse' has been deprecated; setting 'repr = \"T\"' for you\"\n",
      "Warning message in Matrix::sparseMatrix(dims = c(0, 0), i = integer(0), j = integer(0), :\n",
      "\"'giveCsparse' has been deprecated; setting 'repr = \"T\"' for you\"\n"
     ]
    },
    {
     "name": "stdout",
     "output_type": "stream",
     "text": [
      "Data: df__\n",
      "Models:\n",
      "fit_nopenid: propindoor_duration_5_Zone_rs ~ CLASS + Treatment + rescale(DIB) + , zi=~0, disp=~1\n",
      "fit_nopenid:     rescale(weight_interp) + rescale(KBF_interp) + (1 | HenID), zi=~0, disp=~1\n",
      "fit_penid: propindoor_duration_5_Zone_rs ~ CLASS + Treatment + rescale(DIB) + , zi=~0, disp=~1\n",
      "fit_penid:     rescale(weight_interp) + rescale(KBF_interp) + (1 | PenID/HenID), zi=~0, disp=~1\n",
      "            Df     AIC     BIC logLik deviance  Chisq Chi Df Pr(>Chisq)\n",
      "fit_nopenid  9 -7751.1 -7696.6 3884.6  -7769.1                         \n",
      "fit_penid   10 -7749.2 -7688.7 3884.6  -7769.2 0.1051      1     0.7457\n"
     ]
    },
    {
     "name": "stderr",
     "output_type": "stream",
     "text": [
      "Warning message in Matrix::sparseMatrix(dims = c(0, 0), i = integer(0), j = integer(0), :\n",
      "\"'giveCsparse' has been deprecated; setting 'repr = \"T\"' for you\"\n",
      "Warning message in Matrix::sparseMatrix(dims = c(0, 0), i = integer(0), j = integer(0), :\n",
      "\"'giveCsparse' has been deprecated; setting 'repr = \"T\"' for you\"\n",
      "Warning message in Matrix::sparseMatrix(dims = c(0, 0), i = integer(0), j = integer(0), :\n",
      "\"'giveCsparse' has been deprecated; setting 'repr = \"T\"' for you\"\n",
      "Warning message in Matrix::sparseMatrix(dims = c(0, 0), i = integer(0), j = integer(0), :\n",
      "\"'giveCsparse' has been deprecated; setting 'repr = \"T\"' for you\"\n",
      "Warning message in Matrix::sparseMatrix(dims = c(0, 0), i = integer(0), j = integer(0), :\n",
      "\"'giveCsparse' has been deprecated; setting 'repr = \"T\"' for you\"\n",
      "Warning message in Matrix::sparseMatrix(dims = c(0, 0), i = integer(0), j = integer(0), :\n",
      "\"'giveCsparse' has been deprecated; setting 'repr = \"T\"' for you\"\n"
     ]
    },
    {
     "name": "stdout",
     "output_type": "stream",
     "text": [
      "NULL\n",
      "NULL\n"
     ]
    },
    {
     "name": "stderr",
     "output_type": "stream",
     "text": [
      "Warning message in confint.glmmTMB(x, method = tolower(conf.method), level = conf.level, :\n",
      "\"extra arguments ignored:  intervals, prob\"\n",
      "Warning message in confint.glmmTMB(x, parm = thpar, method = conf.method, level = conf.level, :\n",
      "\"extra arguments ignored:  intervals, prob\"\n",
      "Warning message in confint.glmmTMB(x, method = tolower(conf.method), level = conf.level, :\n",
      "\"extra arguments ignored:  intervals, prob\"\n",
      "Warning message in confint.glmmTMB(x, parm = thpar, method = conf.method, level = conf.level, :\n",
      "\"extra arguments ignored:  intervals, prob\"\n",
      "Warning message in confint.glmmTMB(x, method = tolower(conf.method), level = conf.level, :\n",
      "\"extra arguments ignored:  intervals, prob\"\n",
      "Warning message in confint.glmmTMB(x, parm = thpar, method = conf.method, level = conf.level, :\n",
      "\"extra arguments ignored:  intervals, prob\"\n",
      "Warning message in confint.glmmTMB(x, method = tolower(conf.method), level = conf.level, :\n",
      "\"extra arguments ignored:  intervals, prob\"\n",
      "Warning message in confint.glmmTMB(x, parm = thpar, method = conf.method, level = conf.level, :\n",
      "\"extra arguments ignored:  intervals, prob\"\n",
      "Warning message in confint.glmmTMB(x, method = tolower(conf.method), level = conf.level, :\n",
      "\"extra arguments ignored:  intervals, prob\"\n",
      "Warning message in confint.glmmTMB(x, parm = thpar, method = conf.method, level = conf.level, :\n",
      "\"extra arguments ignored:  intervals, prob\"\n",
      "Warning message in confint.glmmTMB(x, method = tolower(conf.method), level = conf.level, :\n",
      "\"extra arguments ignored:  intervals, prob\"\n",
      "Warning message in confint.glmmTMB(x, parm = thpar, method = conf.method, level = conf.level, :\n",
      "\"extra arguments ignored:  intervals, prob\"\n",
      "Warning message in confint.glmmTMB(x, method = tolower(conf.method), level = conf.level, :\n",
      "\"extra arguments ignored:  intervals, prob\"\n",
      "Warning message in confint.glmmTMB(x, parm = thpar, method = conf.method, level = conf.level, :\n",
      "\"extra arguments ignored:  intervals, prob\"\n",
      "Warning message in confint.glmmTMB(x, method = tolower(conf.method), level = conf.level, :\n",
      "\"extra arguments ignored:  intervals, prob\"\n",
      "Warning message in confint.glmmTMB(x, parm = thpar, method = conf.method, level = conf.level, :\n",
      "\"extra arguments ignored:  intervals, prob\"\n",
      "Warning message in confint.glmmTMB(x, method = tolower(conf.method), level = conf.level, :\n",
      "\"extra arguments ignored:  intervals, prob\"\n",
      "Warning message in confint.glmmTMB(x, parm = thpar, method = conf.method, level = conf.level, :\n",
      "\"extra arguments ignored:  intervals, prob\"\n",
      "Warning message in confint.glmmTMB(x, method = tolower(conf.method), level = conf.level, :\n",
      "\"extra arguments ignored:  intervals, prob\"\n",
      "Warning message in confint.glmmTMB(x, parm = thpar, method = conf.method, level = conf.level, :\n",
      "\"extra arguments ignored:  intervals, prob\"\n"
     ]
    },
    {
     "data": {
      "text/html": [
       "<strong>png:</strong> 2"
      ],
      "text/latex": [
       "\\textbf{png:} 2"
      ],
      "text/markdown": [
       "**png:** 2"
      ],
      "text/plain": [
       "png \n",
       "  2 "
      ]
     },
     "metadata": {},
     "output_type": "display_data"
    },
    {
     "name": "stderr",
     "output_type": "stream",
     "text": [
      "Warning message:\n",
      "\"Following potential variables could not be found in the data: DIB ,weight_interp\n",
      "  ,nbr_h_per_day\"\n",
      "Warning message:\n",
      "\"Following potential variables could not be found in the data: DIB ,weight_interp\n",
      "  ,nbr_h_per_day\"\n",
      "Warning message:\n",
      "\"Following potential variables could not be found in the data: DIB ,weight_interp\n",
      "  ,KBF_interp\"\n",
      "Warning message:\n",
      "\"Following potential variables could not be found in the data: DIB ,weight_interp\n",
      "  ,KBF_interp\"\n",
      "Warning message:\n",
      "\"Following potential variables could not be found in the data: DIB ,weight_interp\n",
      "  ,KBF_interp\"\n",
      "Warning message:\n",
      "\"Following potential variables could not be found in the data: DIB ,weight_interp\n",
      "  ,nbr_h_per_day\"\n",
      "Warning message:\n",
      "\"Following potential variables could not be found in the data: DIB ,weight_interp\n",
      "  ,nbr_h_per_day\"\n",
      "Warning message:\n",
      "\"Following potential variables could not be found in the data: DIB ,weight_interp\n",
      "  ,KBF_interp\"\n",
      "Warning message:\n",
      "\"Following potential variables could not be found in the data: DIB ,weight_interp\n",
      "  ,KBF_interp\"\n",
      "Warning message:\n",
      "\"Following potential variables could not be found in the data: DIB ,weight_interp\n",
      "  ,KBF_interp\"\n",
      "Warning message:\n",
      "\"Following potential variables could not be found in the data: DIB ,weight_interp\n",
      "  ,nbr_h_per_day\"\n",
      "Warning message:\n",
      "\"Following potential variables could not be found in the data: DIB ,weight_interp\n",
      "  ,nbr_h_per_day\"\n",
      "Warning message:\n",
      "\"Following potential variables could not be found in the data: DIB ,weight_interp\n",
      "  ,KBF_interp\"\n",
      "Warning message:\n",
      "\"Following potential variables could not be found in the data: DIB ,weight_interp\n",
      "  ,KBF_interp\"\n",
      "Warning message:\n",
      "\"Following potential variables could not be found in the data: DIB ,weight_interp\n",
      "  ,KBF_interp\"\n",
      "Warning message:\n",
      "\"Following potential variables could not be found in the data: DIB ,weight_interp\n",
      "  ,KBF_interp\"\n",
      "Warning message:\n",
      "\"Following potential variables could not be found in the data: DIB ,weight_interp\n",
      "  ,KBF_interp\"\n",
      "Warning message:\n",
      "\"Following potential variables could not be found in the data: DIB ,weight_interp\n",
      "  ,KBF_interp\"\n",
      "Warning message:\n",
      "\"Following potential variables could not be found in the data: DIB ,weight_interp\n",
      "  ,KBF_interp\"\n",
      "Warning message:\n",
      "\"Following potential variables could not be found in the data: DIB ,weight_interp\n",
      "  ,KBF_interp\"\n",
      "Warning message:\n",
      "\"Following potential variables could not be found in the data: DIB ,weight_interp\n",
      "  ,KBF_interp\"\n",
      "Warning message:\n",
      "\"Following potential variables could not be found in the data: DIB ,weight_interp\n",
      "  ,KBF_interp\"\n",
      "Warning message:\n",
      "\"Following potential variables could not be found in the data: DIB ,weight_interp\n",
      "  ,KBF_interp\"\n",
      "Warning message:\n",
      "\"Following potential variables could not be found in the data: DIB ,weight_interp\n",
      "  ,KBF_interp\"\n",
      "Warning message:\n",
      "\"Following potential variables could not be found in the data: DIB ,weight_interp\n",
      "  ,KBF_interp\"\n",
      "Warning message:\n",
      "\"Following potential variables could not be found in the data: DIB ,weight_interp\n",
      "  ,KBF_interp\"\n",
      "Warning message:\n",
      "\"Following potential variables could not be found in the data: DIB ,weight_interp\n",
      "  ,KBF_interp\"\n"
     ]
    }
   ],
   "source": [
    "var = 'propindoor_duration_5_Zone_rs'\n",
    "path_visual_ = file.path(path_visual, var)\n",
    "dir.create(path_visual_)\n",
    "dim(df)\n",
    "df_ = df\n",
    "dim(df_)\n",
    "\n",
    "li_model = list()\n",
    "for (i in 1:10){\n",
    "    monthILBID = paste0('month',i)\n",
    "    print(monthILBID)\n",
    "    df__ = df_[df_$monthILB==monthILBID,]\n",
    "    #monthILB1-monthILB2: no KBF but nbr_h_per_day_sc, after KBF but no nbr_h_per_day_sc\n",
    "    if (monthILBID %in% c('month1', 'month2')){\n",
    "        fit_nopenid = glmmTMB(propindoor_duration_5_Zone_rs ~  CLASS+ Treatment + rescale(DIB) + rescale(weight_interp)+ rescale(nbr_h_per_day)+(1|HenID), \n",
    "                   data=df__, family=beta_family(link=\"logit\"))\n",
    "        fit_penid = glmmTMB(propindoor_duration_5_Zone_rs ~  CLASS+ Treatment + rescale(DIB) + rescale(weight_interp)+ rescale(nbr_h_per_day)+(1|PenID/HenID), \n",
    "                   data=df__, family=beta_family(link=\"logit\"))}\n",
    "    else{\n",
    "        fit_nopenid = glmmTMB(propindoor_duration_5_Zone_rs ~  CLASS + Treatment + rescale(DIB) + rescale(weight_interp)+rescale(KBF_interp) + (1|HenID), \n",
    "                   data=df__, family=beta_family(link=\"logit\"))\n",
    "        fit_penid = glmmTMB(propindoor_duration_5_Zone_rs ~  CLASS + Treatment + rescale(DIB) + rescale(weight_interp)+rescale(KBF_interp) + (1|PenID/HenID), \n",
    "                   data=df__, family=beta_family(link=\"logit\"))}\n",
    "    print(anova(fit_nopenid,fit_penid))\n",
    "    p_value = anova(fit_nopenid,fit_penid)['Pr(>Chisq)']['fit_penid',]\n",
    "    if (p_value<0.05){\n",
    "        fit = fit_penid    \n",
    "    }else{\n",
    "        fit = fit_nopenid    \n",
    "    }    \n",
    "    \n",
    "    li_model[[i]] = fit\n",
    "    write.csv(summary(fit)['coefficients']$coefficients$cond, file=file.path(path_visual_, paste0(var,monthILBID,'.csv')) )\n",
    "    \n",
    "    set.seed(0)\n",
    "    simulationOutput = simulateResiduals(fittedModel=fit)\n",
    "    tiff(file.path(path_visual_, paste0(var,'_SimRes1',monthILBID,'.tiff')), width=400, height=400)\n",
    "    print(plot(simulationOutput))\n",
    "    dev.off()\n",
    "    \n",
    "    tiff(file.path(path_visual_, paste0(var,'_SimRes2',monthILBID,'.tiff')), width=400, height=400)\n",
    "    print(plotResiduals(simulationOutput, form = df__$Treatment))\n",
    "    dev.off()}\n",
    "\n",
    "\n",
    "tiff(file.path(path_visual_, paste0(var,'_OFHCoeff','.tiff')), width=400, height=400)\n",
    "plot_summs(li_model, coefs=c('TreatmentOFH'), colors='Rainbow', legend.title=var, exp=TRUE)\n",
    "dev.off()\n",
    "tab_model(li_model[1:5], collapse.ci = TRUE, p.style = \"numeric_stars\", file=file.path(path_visual_, paste0(var,'_TableModel1-5.doc')))\n",
    "tab_model(li_model[6:10], collapse.ci = TRUE, p.style = \"numeric_stars\", file=file.path(path_visual_, paste0(var,'_TableModel6-10.doc')))"
   ]
  },
  {
   "cell_type": "markdown",
   "id": "d900f3b9",
   "metadata": {},
   "source": [
    "# 2. mid_cum_Z4_h_Morning"
   ]
  },
  {
   "cell_type": "code",
   "execution_count": 57,
   "id": "76bfddd1",
   "metadata": {
    "scrolled": true
   },
   "outputs": [
    {
     "data": {
      "text/html": [
       "<style>\n",
       ".list-inline {list-style: none; margin:0; padding: 0}\n",
       ".list-inline>li {display: inline-block}\n",
       ".list-inline>li:not(:last-child)::after {content: \"\\00b7\"; padding: 0 .5ex}\n",
       "</style>\n",
       "<ol class=list-inline><li>37455</li><li>26</li></ol>\n"
      ],
      "text/latex": [
       "\\begin{enumerate*}\n",
       "\\item 37455\n",
       "\\item 26\n",
       "\\end{enumerate*}\n"
      ],
      "text/markdown": [
       "1. 37455\n",
       "2. 26\n",
       "\n",
       "\n"
      ],
      "text/plain": [
       "[1] 37455    26"
      ]
     },
     "metadata": {},
     "output_type": "display_data"
    },
    {
     "data": {
      "text/html": [
       "<style>\n",
       ".list-inline {list-style: none; margin:0; padding: 0}\n",
       ".list-inline>li {display: inline-block}\n",
       ".list-inline>li:not(:last-child)::after {content: \"\\00b7\"; padding: 0 .5ex}\n",
       "</style>\n",
       "<ol class=list-inline><li>33711</li><li>26</li></ol>\n"
      ],
      "text/latex": [
       "\\begin{enumerate*}\n",
       "\\item 33711\n",
       "\\item 26\n",
       "\\end{enumerate*}\n"
      ],
      "text/markdown": [
       "1. 33711\n",
       "2. 26\n",
       "\n",
       "\n"
      ],
      "text/plain": [
       "[1] 33711    26"
      ]
     },
     "metadata": {},
     "output_type": "display_data"
    },
    {
     "name": "stdout",
     "output_type": "stream",
     "text": [
      "[1] \"month2\"\n"
     ]
    },
    {
     "name": "stderr",
     "output_type": "stream",
     "text": [
      "Warning message in Matrix::sparseMatrix(dims = c(0, 0), i = integer(0), j = integer(0), :\n",
      "\"'giveCsparse' has been deprecated; setting 'repr = \"T\"' for you\"\n",
      "Warning message in Matrix::sparseMatrix(dims = c(0, 0), i = integer(0), j = integer(0), :\n",
      "\"'giveCsparse' has been deprecated; setting 'repr = \"T\"' for you\"\n",
      "Warning message in Matrix::sparseMatrix(dims = c(0, 0), i = integer(0), j = integer(0), :\n",
      "\"'giveCsparse' has been deprecated; setting 'repr = \"T\"' for you\"\n",
      "Warning message in Matrix::sparseMatrix(dims = c(0, 0), i = integer(0), j = integer(0), :\n",
      "\"'giveCsparse' has been deprecated; setting 'repr = \"T\"' for you\"\n",
      "Warning message in Matrix::sparseMatrix(dims = c(0, 0), i = integer(0), j = integer(0), :\n",
      "\"'giveCsparse' has been deprecated; setting 'repr = \"T\"' for you\"\n",
      "Warning message in Matrix::sparseMatrix(dims = c(0, 0), i = integer(0), j = integer(0), :\n",
      "\"'giveCsparse' has been deprecated; setting 'repr = \"T\"' for you\"\n"
     ]
    },
    {
     "name": "stdout",
     "output_type": "stream",
     "text": [
      "Data: df__\n",
      "Models:\n",
      "fit_nopenid: mid_cum_Z4_h_Morning ~ CLASS + Treatment + rescale(DIB) + rescale(weight_interp) + , zi=~0, disp=~1\n",
      "fit_nopenid:     rescale(nbr_h_per_day) + (1 | HenID), zi=~0, disp=~1\n",
      "fit_penid: mid_cum_Z4_h_Morning ~ CLASS + Treatment + rescale(DIB) + rescale(weight_interp) + , zi=~0, disp=~1\n",
      "fit_penid:     rescale(nbr_h_per_day) + (1 | PenID/HenID), zi=~0, disp=~1\n",
      "            Df   AIC   BIC  logLik deviance Chisq Chi Df Pr(>Chisq)\n",
      "fit_nopenid  9 10117 10174 -5049.7    10099                        \n",
      "fit_penid   10 10119 10182 -5049.7    10099     0      1          1\n"
     ]
    },
    {
     "name": "stderr",
     "output_type": "stream",
     "text": [
      "Warning message in Matrix::sparseMatrix(dims = c(0, 0), i = integer(0), j = integer(0), :\n",
      "\"'giveCsparse' has been deprecated; setting 'repr = \"T\"' for you\"\n",
      "Warning message in Matrix::sparseMatrix(dims = c(0, 0), i = integer(0), j = integer(0), :\n",
      "\"'giveCsparse' has been deprecated; setting 'repr = \"T\"' for you\"\n",
      "Warning message in Matrix::sparseMatrix(dims = c(0, 0), i = integer(0), j = integer(0), :\n",
      "\"'giveCsparse' has been deprecated; setting 'repr = \"T\"' for you\"\n",
      "Warning message in Matrix::sparseMatrix(dims = c(0, 0), i = integer(0), j = integer(0), :\n",
      "\"'giveCsparse' has been deprecated; setting 'repr = \"T\"' for you\"\n",
      "Warning message in Matrix::sparseMatrix(dims = c(0, 0), i = integer(0), j = integer(0), :\n",
      "\"'giveCsparse' has been deprecated; setting 'repr = \"T\"' for you\"\n",
      "Warning message in Matrix::sparseMatrix(dims = c(0, 0), i = integer(0), j = integer(0), :\n",
      "\"'giveCsparse' has been deprecated; setting 'repr = \"T\"' for you\"\n"
     ]
    },
    {
     "name": "stdout",
     "output_type": "stream",
     "text": [
      "NULL\n",
      "NULL\n",
      "[1] \"month3\"\n"
     ]
    },
    {
     "name": "stderr",
     "output_type": "stream",
     "text": [
      "Warning message in Matrix::sparseMatrix(dims = c(0, 0), i = integer(0), j = integer(0), :\n",
      "\"'giveCsparse' has been deprecated; setting 'repr = \"T\"' for you\"\n",
      "Warning message in Matrix::sparseMatrix(dims = c(0, 0), i = integer(0), j = integer(0), :\n",
      "\"'giveCsparse' has been deprecated; setting 'repr = \"T\"' for you\"\n",
      "Warning message in Matrix::sparseMatrix(dims = c(0, 0), i = integer(0), j = integer(0), :\n",
      "\"'giveCsparse' has been deprecated; setting 'repr = \"T\"' for you\"\n",
      "Warning message in Matrix::sparseMatrix(dims = c(0, 0), i = integer(0), j = integer(0), :\n",
      "\"'giveCsparse' has been deprecated; setting 'repr = \"T\"' for you\"\n",
      "Warning message in Matrix::sparseMatrix(dims = c(0, 0), i = integer(0), j = integer(0), :\n",
      "\"'giveCsparse' has been deprecated; setting 'repr = \"T\"' for you\"\n",
      "Warning message in Matrix::sparseMatrix(dims = c(0, 0), i = integer(0), j = integer(0), :\n",
      "\"'giveCsparse' has been deprecated; setting 'repr = \"T\"' for you\"\n"
     ]
    },
    {
     "name": "stdout",
     "output_type": "stream",
     "text": [
      "Data: df__\n",
      "Models:\n",
      "fit_nopenid: mid_cum_Z4_h_Morning ~ CLASS + Treatment + rescale(DIB) + rescale(weight_interp) + , zi=~0, disp=~1\n",
      "fit_nopenid:     rescale(KBF_interp) + (1 | HenID), zi=~0, disp=~1\n",
      "fit_penid: mid_cum_Z4_h_Morning ~ CLASS + Treatment + rescale(DIB) + rescale(weight_interp) + , zi=~0, disp=~1\n",
      "fit_penid:     rescale(KBF_interp) + (1 | PenID/HenID), zi=~0, disp=~1\n",
      "            Df    AIC    BIC  logLik deviance Chisq Chi Df Pr(>Chisq)\n",
      "fit_nopenid  9 7807.4 7865.0 -3894.7   7789.4                        \n",
      "fit_penid   10 7809.4 7873.4 -3894.7   7789.4     0      1          1\n"
     ]
    },
    {
     "name": "stderr",
     "output_type": "stream",
     "text": [
      "Warning message in Matrix::sparseMatrix(dims = c(0, 0), i = integer(0), j = integer(0), :\n",
      "\"'giveCsparse' has been deprecated; setting 'repr = \"T\"' for you\"\n",
      "Warning message in Matrix::sparseMatrix(dims = c(0, 0), i = integer(0), j = integer(0), :\n",
      "\"'giveCsparse' has been deprecated; setting 'repr = \"T\"' for you\"\n",
      "Warning message in Matrix::sparseMatrix(dims = c(0, 0), i = integer(0), j = integer(0), :\n",
      "\"'giveCsparse' has been deprecated; setting 'repr = \"T\"' for you\"\n",
      "Warning message in Matrix::sparseMatrix(dims = c(0, 0), i = integer(0), j = integer(0), :\n",
      "\"'giveCsparse' has been deprecated; setting 'repr = \"T\"' for you\"\n",
      "Warning message in Matrix::sparseMatrix(dims = c(0, 0), i = integer(0), j = integer(0), :\n",
      "\"'giveCsparse' has been deprecated; setting 'repr = \"T\"' for you\"\n",
      "Warning message in Matrix::sparseMatrix(dims = c(0, 0), i = integer(0), j = integer(0), :\n",
      "\"'giveCsparse' has been deprecated; setting 'repr = \"T\"' for you\"\n"
     ]
    },
    {
     "name": "stdout",
     "output_type": "stream",
     "text": [
      "NULL\n",
      "NULL\n",
      "[1] \"month4\"\n"
     ]
    },
    {
     "name": "stderr",
     "output_type": "stream",
     "text": [
      "Warning message in Matrix::sparseMatrix(dims = c(0, 0), i = integer(0), j = integer(0), :\n",
      "\"'giveCsparse' has been deprecated; setting 'repr = \"T\"' for you\"\n",
      "Warning message in Matrix::sparseMatrix(dims = c(0, 0), i = integer(0), j = integer(0), :\n",
      "\"'giveCsparse' has been deprecated; setting 'repr = \"T\"' for you\"\n",
      "Warning message in Matrix::sparseMatrix(dims = c(0, 0), i = integer(0), j = integer(0), :\n",
      "\"'giveCsparse' has been deprecated; setting 'repr = \"T\"' for you\"\n",
      "Warning message in Matrix::sparseMatrix(dims = c(0, 0), i = integer(0), j = integer(0), :\n",
      "\"'giveCsparse' has been deprecated; setting 'repr = \"T\"' for you\"\n",
      "Warning message in Matrix::sparseMatrix(dims = c(0, 0), i = integer(0), j = integer(0), :\n",
      "\"'giveCsparse' has been deprecated; setting 'repr = \"T\"' for you\"\n",
      "Warning message in Matrix::sparseMatrix(dims = c(0, 0), i = integer(0), j = integer(0), :\n",
      "\"'giveCsparse' has been deprecated; setting 'repr = \"T\"' for you\"\n"
     ]
    },
    {
     "name": "stdout",
     "output_type": "stream",
     "text": [
      "Data: df__\n",
      "Models:\n",
      "fit_nopenid: mid_cum_Z4_h_Morning ~ CLASS + Treatment + rescale(DIB) + rescale(weight_interp) + , zi=~0, disp=~1\n",
      "fit_nopenid:     rescale(KBF_interp) + (1 | HenID), zi=~0, disp=~1\n",
      "fit_penid: mid_cum_Z4_h_Morning ~ CLASS + Treatment + rescale(DIB) + rescale(weight_interp) + , zi=~0, disp=~1\n",
      "fit_penid:     rescale(KBF_interp) + (1 | PenID/HenID), zi=~0, disp=~1\n",
      "            Df    AIC    BIC  logLik deviance Chisq Chi Df Pr(>Chisq)\n",
      "fit_nopenid  9 6984.4 7040.2 -3483.2   6966.4                        \n",
      "fit_penid   10 6986.4 7048.4 -3483.2   6966.4     0      1          1\n"
     ]
    },
    {
     "name": "stderr",
     "output_type": "stream",
     "text": [
      "Warning message in Matrix::sparseMatrix(dims = c(0, 0), i = integer(0), j = integer(0), :\n",
      "\"'giveCsparse' has been deprecated; setting 'repr = \"T\"' for you\"\n",
      "Warning message in Matrix::sparseMatrix(dims = c(0, 0), i = integer(0), j = integer(0), :\n",
      "\"'giveCsparse' has been deprecated; setting 'repr = \"T\"' for you\"\n",
      "Warning message in Matrix::sparseMatrix(dims = c(0, 0), i = integer(0), j = integer(0), :\n",
      "\"'giveCsparse' has been deprecated; setting 'repr = \"T\"' for you\"\n",
      "Warning message in Matrix::sparseMatrix(dims = c(0, 0), i = integer(0), j = integer(0), :\n",
      "\"'giveCsparse' has been deprecated; setting 'repr = \"T\"' for you\"\n",
      "Warning message in Matrix::sparseMatrix(dims = c(0, 0), i = integer(0), j = integer(0), :\n",
      "\"'giveCsparse' has been deprecated; setting 'repr = \"T\"' for you\"\n",
      "Warning message in Matrix::sparseMatrix(dims = c(0, 0), i = integer(0), j = integer(0), :\n",
      "\"'giveCsparse' has been deprecated; setting 'repr = \"T\"' for you\"\n"
     ]
    },
    {
     "name": "stdout",
     "output_type": "stream",
     "text": [
      "NULL\n",
      "NULL\n",
      "[1] \"month5\"\n"
     ]
    },
    {
     "name": "stderr",
     "output_type": "stream",
     "text": [
      "Warning message in Matrix::sparseMatrix(dims = c(0, 0), i = integer(0), j = integer(0), :\n",
      "\"'giveCsparse' has been deprecated; setting 'repr = \"T\"' for you\"\n",
      "Warning message in Matrix::sparseMatrix(dims = c(0, 0), i = integer(0), j = integer(0), :\n",
      "\"'giveCsparse' has been deprecated; setting 'repr = \"T\"' for you\"\n",
      "Warning message in Matrix::sparseMatrix(dims = c(0, 0), i = integer(0), j = integer(0), :\n",
      "\"'giveCsparse' has been deprecated; setting 'repr = \"T\"' for you\"\n",
      "Warning message in Matrix::sparseMatrix(dims = c(0, 0), i = integer(0), j = integer(0), :\n",
      "\"'giveCsparse' has been deprecated; setting 'repr = \"T\"' for you\"\n",
      "Warning message in Matrix::sparseMatrix(dims = c(0, 0), i = integer(0), j = integer(0), :\n",
      "\"'giveCsparse' has been deprecated; setting 'repr = \"T\"' for you\"\n",
      "Warning message in Matrix::sparseMatrix(dims = c(0, 0), i = integer(0), j = integer(0), :\n",
      "\"'giveCsparse' has been deprecated; setting 'repr = \"T\"' for you\"\n"
     ]
    },
    {
     "name": "stdout",
     "output_type": "stream",
     "text": [
      "Data: df__\n",
      "Models:\n",
      "fit_nopenid: mid_cum_Z4_h_Morning ~ CLASS + Treatment + rescale(DIB) + rescale(weight_interp) + , zi=~0, disp=~1\n",
      "fit_nopenid:     rescale(KBF_interp) + (1 | HenID), zi=~0, disp=~1\n",
      "fit_penid: mid_cum_Z4_h_Morning ~ CLASS + Treatment + rescale(DIB) + rescale(weight_interp) + , zi=~0, disp=~1\n",
      "fit_penid:     rescale(KBF_interp) + (1 | PenID/HenID), zi=~0, disp=~1\n",
      "            Df    AIC    BIC  logLik deviance  Chisq Chi Df Pr(>Chisq)\n",
      "fit_nopenid  9 6311.4 6367.7 -3146.7   6293.4                         \n",
      "fit_penid   10 6313.1 6375.7 -3146.6   6293.1 0.2474      1     0.6189\n"
     ]
    },
    {
     "name": "stderr",
     "output_type": "stream",
     "text": [
      "Warning message in Matrix::sparseMatrix(dims = c(0, 0), i = integer(0), j = integer(0), :\n",
      "\"'giveCsparse' has been deprecated; setting 'repr = \"T\"' for you\"\n",
      "Warning message in Matrix::sparseMatrix(dims = c(0, 0), i = integer(0), j = integer(0), :\n",
      "\"'giveCsparse' has been deprecated; setting 'repr = \"T\"' for you\"\n",
      "Warning message in Matrix::sparseMatrix(dims = c(0, 0), i = integer(0), j = integer(0), :\n",
      "\"'giveCsparse' has been deprecated; setting 'repr = \"T\"' for you\"\n",
      "Warning message in Matrix::sparseMatrix(dims = c(0, 0), i = integer(0), j = integer(0), :\n",
      "\"'giveCsparse' has been deprecated; setting 'repr = \"T\"' for you\"\n",
      "Warning message in Matrix::sparseMatrix(dims = c(0, 0), i = integer(0), j = integer(0), :\n",
      "\"'giveCsparse' has been deprecated; setting 'repr = \"T\"' for you\"\n",
      "Warning message in Matrix::sparseMatrix(dims = c(0, 0), i = integer(0), j = integer(0), :\n",
      "\"'giveCsparse' has been deprecated; setting 'repr = \"T\"' for you\"\n"
     ]
    },
    {
     "name": "stdout",
     "output_type": "stream",
     "text": [
      "NULL\n",
      "NULL\n",
      "[1] \"month6\"\n"
     ]
    },
    {
     "name": "stderr",
     "output_type": "stream",
     "text": [
      "Warning message in Matrix::sparseMatrix(dims = c(0, 0), i = integer(0), j = integer(0), :\n",
      "\"'giveCsparse' has been deprecated; setting 'repr = \"T\"' for you\"\n",
      "Warning message in Matrix::sparseMatrix(dims = c(0, 0), i = integer(0), j = integer(0), :\n",
      "\"'giveCsparse' has been deprecated; setting 'repr = \"T\"' for you\"\n",
      "Warning message in Matrix::sparseMatrix(dims = c(0, 0), i = integer(0), j = integer(0), :\n",
      "\"'giveCsparse' has been deprecated; setting 'repr = \"T\"' for you\"\n",
      "Warning message in Matrix::sparseMatrix(dims = c(0, 0), i = integer(0), j = integer(0), :\n",
      "\"'giveCsparse' has been deprecated; setting 'repr = \"T\"' for you\"\n",
      "Warning message in Matrix::sparseMatrix(dims = c(0, 0), i = integer(0), j = integer(0), :\n",
      "\"'giveCsparse' has been deprecated; setting 'repr = \"T\"' for you\"\n",
      "Warning message in Matrix::sparseMatrix(dims = c(0, 0), i = integer(0), j = integer(0), :\n",
      "\"'giveCsparse' has been deprecated; setting 'repr = \"T\"' for you\"\n"
     ]
    },
    {
     "name": "stdout",
     "output_type": "stream",
     "text": [
      "Data: df__\n",
      "Models:\n",
      "fit_nopenid: mid_cum_Z4_h_Morning ~ CLASS + Treatment + rescale(DIB) + rescale(weight_interp) + , zi=~0, disp=~1\n",
      "fit_nopenid:     rescale(KBF_interp) + (1 | HenID), zi=~0, disp=~1\n",
      "fit_penid: mid_cum_Z4_h_Morning ~ CLASS + Treatment + rescale(DIB) + rescale(weight_interp) + , zi=~0, disp=~1\n",
      "fit_penid:     rescale(KBF_interp) + (1 | PenID/HenID), zi=~0, disp=~1\n",
      "            Df    AIC    BIC  logLik deviance Chisq Chi Df Pr(>Chisq)\n",
      "fit_nopenid  9 8075.9 8133.0 -4028.9   8057.9                        \n",
      "fit_penid   10 8077.9 8141.3 -4028.9   8057.9     0      1          1\n"
     ]
    },
    {
     "name": "stderr",
     "output_type": "stream",
     "text": [
      "Warning message in Matrix::sparseMatrix(dims = c(0, 0), i = integer(0), j = integer(0), :\n",
      "\"'giveCsparse' has been deprecated; setting 'repr = \"T\"' for you\"\n",
      "Warning message in Matrix::sparseMatrix(dims = c(0, 0), i = integer(0), j = integer(0), :\n",
      "\"'giveCsparse' has been deprecated; setting 'repr = \"T\"' for you\"\n",
      "Warning message in Matrix::sparseMatrix(dims = c(0, 0), i = integer(0), j = integer(0), :\n",
      "\"'giveCsparse' has been deprecated; setting 'repr = \"T\"' for you\"\n",
      "Warning message in Matrix::sparseMatrix(dims = c(0, 0), i = integer(0), j = integer(0), :\n",
      "\"'giveCsparse' has been deprecated; setting 'repr = \"T\"' for you\"\n",
      "Warning message in Matrix::sparseMatrix(dims = c(0, 0), i = integer(0), j = integer(0), :\n",
      "\"'giveCsparse' has been deprecated; setting 'repr = \"T\"' for you\"\n",
      "Warning message in Matrix::sparseMatrix(dims = c(0, 0), i = integer(0), j = integer(0), :\n",
      "\"'giveCsparse' has been deprecated; setting 'repr = \"T\"' for you\"\n"
     ]
    },
    {
     "name": "stdout",
     "output_type": "stream",
     "text": [
      "NULL\n",
      "NULL\n",
      "[1] \"month7\"\n"
     ]
    },
    {
     "name": "stderr",
     "output_type": "stream",
     "text": [
      "Warning message in Matrix::sparseMatrix(dims = c(0, 0), i = integer(0), j = integer(0), :\n",
      "\"'giveCsparse' has been deprecated; setting 'repr = \"T\"' for you\"\n",
      "Warning message in Matrix::sparseMatrix(dims = c(0, 0), i = integer(0), j = integer(0), :\n",
      "\"'giveCsparse' has been deprecated; setting 'repr = \"T\"' for you\"\n",
      "Warning message in Matrix::sparseMatrix(dims = c(0, 0), i = integer(0), j = integer(0), :\n",
      "\"'giveCsparse' has been deprecated; setting 'repr = \"T\"' for you\"\n",
      "Warning message in Matrix::sparseMatrix(dims = c(0, 0), i = integer(0), j = integer(0), :\n",
      "\"'giveCsparse' has been deprecated; setting 'repr = \"T\"' for you\"\n",
      "Warning message in Matrix::sparseMatrix(dims = c(0, 0), i = integer(0), j = integer(0), :\n",
      "\"'giveCsparse' has been deprecated; setting 'repr = \"T\"' for you\"\n",
      "Warning message in Matrix::sparseMatrix(dims = c(0, 0), i = integer(0), j = integer(0), :\n",
      "\"'giveCsparse' has been deprecated; setting 'repr = \"T\"' for you\"\n"
     ]
    },
    {
     "name": "stdout",
     "output_type": "stream",
     "text": [
      "Data: df__\n",
      "Models:\n",
      "fit_nopenid: mid_cum_Z4_h_Morning ~ CLASS + Treatment + rescale(DIB) + rescale(weight_interp) + , zi=~0, disp=~1\n",
      "fit_nopenid:     rescale(KBF_interp) + (1 | HenID), zi=~0, disp=~1\n",
      "fit_penid: mid_cum_Z4_h_Morning ~ CLASS + Treatment + rescale(DIB) + rescale(weight_interp) + , zi=~0, disp=~1\n",
      "fit_penid:     rescale(KBF_interp) + (1 | PenID/HenID), zi=~0, disp=~1\n",
      "            Df    AIC    BIC  logLik deviance  Chisq Chi Df Pr(>Chisq)\n",
      "fit_nopenid  9 7680.4 7737.2 -3831.2   7662.4                         \n",
      "fit_penid   10 7681.6 7744.8 -3830.8   7661.6 0.7342      1     0.3915\n"
     ]
    },
    {
     "name": "stderr",
     "output_type": "stream",
     "text": [
      "Warning message in Matrix::sparseMatrix(dims = c(0, 0), i = integer(0), j = integer(0), :\n",
      "\"'giveCsparse' has been deprecated; setting 'repr = \"T\"' for you\"\n",
      "Warning message in Matrix::sparseMatrix(dims = c(0, 0), i = integer(0), j = integer(0), :\n",
      "\"'giveCsparse' has been deprecated; setting 'repr = \"T\"' for you\"\n",
      "Warning message in Matrix::sparseMatrix(dims = c(0, 0), i = integer(0), j = integer(0), :\n",
      "\"'giveCsparse' has been deprecated; setting 'repr = \"T\"' for you\"\n",
      "Warning message in Matrix::sparseMatrix(dims = c(0, 0), i = integer(0), j = integer(0), :\n",
      "\"'giveCsparse' has been deprecated; setting 'repr = \"T\"' for you\"\n",
      "Warning message in Matrix::sparseMatrix(dims = c(0, 0), i = integer(0), j = integer(0), :\n",
      "\"'giveCsparse' has been deprecated; setting 'repr = \"T\"' for you\"\n",
      "Warning message in Matrix::sparseMatrix(dims = c(0, 0), i = integer(0), j = integer(0), :\n",
      "\"'giveCsparse' has been deprecated; setting 'repr = \"T\"' for you\"\n"
     ]
    },
    {
     "name": "stdout",
     "output_type": "stream",
     "text": [
      "NULL\n",
      "NULL\n",
      "[1] \"month8\"\n"
     ]
    },
    {
     "name": "stderr",
     "output_type": "stream",
     "text": [
      "Warning message in Matrix::sparseMatrix(dims = c(0, 0), i = integer(0), j = integer(0), :\n",
      "\"'giveCsparse' has been deprecated; setting 'repr = \"T\"' for you\"\n",
      "Warning message in Matrix::sparseMatrix(dims = c(0, 0), i = integer(0), j = integer(0), :\n",
      "\"'giveCsparse' has been deprecated; setting 'repr = \"T\"' for you\"\n",
      "Warning message in Matrix::sparseMatrix(dims = c(0, 0), i = integer(0), j = integer(0), :\n",
      "\"'giveCsparse' has been deprecated; setting 'repr = \"T\"' for you\"\n",
      "Warning message in Matrix::sparseMatrix(dims = c(0, 0), i = integer(0), j = integer(0), :\n",
      "\"'giveCsparse' has been deprecated; setting 'repr = \"T\"' for you\"\n",
      "Warning message in Matrix::sparseMatrix(dims = c(0, 0), i = integer(0), j = integer(0), :\n",
      "\"'giveCsparse' has been deprecated; setting 'repr = \"T\"' for you\"\n",
      "Warning message in Matrix::sparseMatrix(dims = c(0, 0), i = integer(0), j = integer(0), :\n",
      "\"'giveCsparse' has been deprecated; setting 'repr = \"T\"' for you\"\n"
     ]
    },
    {
     "name": "stdout",
     "output_type": "stream",
     "text": [
      "Data: df__\n",
      "Models:\n",
      "fit_nopenid: mid_cum_Z4_h_Morning ~ CLASS + Treatment + rescale(DIB) + rescale(weight_interp) + , zi=~0, disp=~1\n",
      "fit_nopenid:     rescale(KBF_interp) + (1 | HenID), zi=~0, disp=~1\n",
      "fit_penid: mid_cum_Z4_h_Morning ~ CLASS + Treatment + rescale(DIB) + rescale(weight_interp) + , zi=~0, disp=~1\n",
      "fit_penid:     rescale(KBF_interp) + (1 | PenID/HenID), zi=~0, disp=~1\n",
      "            Df    AIC    BIC  logLik deviance Chisq Chi Df Pr(>Chisq)\n",
      "fit_nopenid  9 8882.3 8940.1 -4432.1   8864.3                        \n",
      "fit_penid   10 8884.3 8948.5 -4432.1   8864.3     0      1          1\n"
     ]
    },
    {
     "name": "stderr",
     "output_type": "stream",
     "text": [
      "Warning message in Matrix::sparseMatrix(dims = c(0, 0), i = integer(0), j = integer(0), :\n",
      "\"'giveCsparse' has been deprecated; setting 'repr = \"T\"' for you\"\n",
      "Warning message in Matrix::sparseMatrix(dims = c(0, 0), i = integer(0), j = integer(0), :\n",
      "\"'giveCsparse' has been deprecated; setting 'repr = \"T\"' for you\"\n",
      "Warning message in Matrix::sparseMatrix(dims = c(0, 0), i = integer(0), j = integer(0), :\n",
      "\"'giveCsparse' has been deprecated; setting 'repr = \"T\"' for you\"\n",
      "Warning message in Matrix::sparseMatrix(dims = c(0, 0), i = integer(0), j = integer(0), :\n",
      "\"'giveCsparse' has been deprecated; setting 'repr = \"T\"' for you\"\n",
      "Warning message in Matrix::sparseMatrix(dims = c(0, 0), i = integer(0), j = integer(0), :\n",
      "\"'giveCsparse' has been deprecated; setting 'repr = \"T\"' for you\"\n",
      "Warning message in Matrix::sparseMatrix(dims = c(0, 0), i = integer(0), j = integer(0), :\n",
      "\"'giveCsparse' has been deprecated; setting 'repr = \"T\"' for you\"\n"
     ]
    },
    {
     "name": "stdout",
     "output_type": "stream",
     "text": [
      "NULL\n",
      "NULL\n",
      "[1] \"month9\"\n"
     ]
    },
    {
     "name": "stderr",
     "output_type": "stream",
     "text": [
      "Warning message in Matrix::sparseMatrix(dims = c(0, 0), i = integer(0), j = integer(0), :\n",
      "\"'giveCsparse' has been deprecated; setting 'repr = \"T\"' for you\"\n",
      "Warning message in Matrix::sparseMatrix(dims = c(0, 0), i = integer(0), j = integer(0), :\n",
      "\"'giveCsparse' has been deprecated; setting 'repr = \"T\"' for you\"\n",
      "Warning message in Matrix::sparseMatrix(dims = c(0, 0), i = integer(0), j = integer(0), :\n",
      "\"'giveCsparse' has been deprecated; setting 'repr = \"T\"' for you\"\n",
      "Warning message in Matrix::sparseMatrix(dims = c(0, 0), i = integer(0), j = integer(0), :\n",
      "\"'giveCsparse' has been deprecated; setting 'repr = \"T\"' for you\"\n",
      "Warning message in Matrix::sparseMatrix(dims = c(0, 0), i = integer(0), j = integer(0), :\n",
      "\"'giveCsparse' has been deprecated; setting 'repr = \"T\"' for you\"\n",
      "Warning message in Matrix::sparseMatrix(dims = c(0, 0), i = integer(0), j = integer(0), :\n",
      "\"'giveCsparse' has been deprecated; setting 'repr = \"T\"' for you\"\n"
     ]
    },
    {
     "name": "stdout",
     "output_type": "stream",
     "text": [
      "Data: df__\n",
      "Models:\n",
      "fit_nopenid: mid_cum_Z4_h_Morning ~ CLASS + Treatment + rescale(DIB) + rescale(weight_interp) + , zi=~0, disp=~1\n",
      "fit_nopenid:     rescale(KBF_interp) + (1 | HenID), zi=~0, disp=~1\n",
      "fit_penid: mid_cum_Z4_h_Morning ~ CLASS + Treatment + rescale(DIB) + rescale(weight_interp) + , zi=~0, disp=~1\n",
      "fit_penid:     rescale(KBF_interp) + (1 | PenID/HenID), zi=~0, disp=~1\n",
      "            Df    AIC    BIC  logLik deviance Chisq Chi Df Pr(>Chisq)\n",
      "fit_nopenid  9 2991.2 3040.9 -1486.6   2973.2                        \n",
      "fit_penid   10 2993.2 3048.4 -1486.6   2973.2     0      1          1\n"
     ]
    },
    {
     "name": "stderr",
     "output_type": "stream",
     "text": [
      "Warning message in Matrix::sparseMatrix(dims = c(0, 0), i = integer(0), j = integer(0), :\n",
      "\"'giveCsparse' has been deprecated; setting 'repr = \"T\"' for you\"\n",
      "Warning message in Matrix::sparseMatrix(dims = c(0, 0), i = integer(0), j = integer(0), :\n",
      "\"'giveCsparse' has been deprecated; setting 'repr = \"T\"' for you\"\n",
      "Warning message in Matrix::sparseMatrix(dims = c(0, 0), i = integer(0), j = integer(0), :\n",
      "\"'giveCsparse' has been deprecated; setting 'repr = \"T\"' for you\"\n",
      "Warning message in Matrix::sparseMatrix(dims = c(0, 0), i = integer(0), j = integer(0), :\n",
      "\"'giveCsparse' has been deprecated; setting 'repr = \"T\"' for you\"\n",
      "Warning message in Matrix::sparseMatrix(dims = c(0, 0), i = integer(0), j = integer(0), :\n",
      "\"'giveCsparse' has been deprecated; setting 'repr = \"T\"' for you\"\n",
      "Warning message in Matrix::sparseMatrix(dims = c(0, 0), i = integer(0), j = integer(0), :\n",
      "\"'giveCsparse' has been deprecated; setting 'repr = \"T\"' for you\"\n"
     ]
    },
    {
     "name": "stdout",
     "output_type": "stream",
     "text": [
      "NULL\n",
      "NULL\n",
      "[1] \"month10\"\n"
     ]
    },
    {
     "name": "stderr",
     "output_type": "stream",
     "text": [
      "Warning message in Matrix::sparseMatrix(dims = c(0, 0), i = integer(0), j = integer(0), :\n",
      "\"'giveCsparse' has been deprecated; setting 'repr = \"T\"' for you\"\n",
      "Warning message in Matrix::sparseMatrix(dims = c(0, 0), i = integer(0), j = integer(0), :\n",
      "\"'giveCsparse' has been deprecated; setting 'repr = \"T\"' for you\"\n",
      "Warning message in Matrix::sparseMatrix(dims = c(0, 0), i = integer(0), j = integer(0), :\n",
      "\"'giveCsparse' has been deprecated; setting 'repr = \"T\"' for you\"\n",
      "Warning message in Matrix::sparseMatrix(dims = c(0, 0), i = integer(0), j = integer(0), :\n",
      "\"'giveCsparse' has been deprecated; setting 'repr = \"T\"' for you\"\n",
      "Warning message in Matrix::sparseMatrix(dims = c(0, 0), i = integer(0), j = integer(0), :\n",
      "\"'giveCsparse' has been deprecated; setting 'repr = \"T\"' for you\"\n",
      "Warning message in Matrix::sparseMatrix(dims = c(0, 0), i = integer(0), j = integer(0), :\n",
      "\"'giveCsparse' has been deprecated; setting 'repr = \"T\"' for you\"\n"
     ]
    },
    {
     "name": "stdout",
     "output_type": "stream",
     "text": [
      "Data: df__\n",
      "Models:\n",
      "fit_nopenid: mid_cum_Z4_h_Morning ~ CLASS + Treatment + rescale(DIB) + rescale(weight_interp) + , zi=~0, disp=~1\n",
      "fit_nopenid:     rescale(KBF_interp) + (1 | HenID), zi=~0, disp=~1\n",
      "fit_penid: mid_cum_Z4_h_Morning ~ CLASS + Treatment + rescale(DIB) + rescale(weight_interp) + , zi=~0, disp=~1\n",
      "fit_penid:     rescale(KBF_interp) + (1 | PenID/HenID), zi=~0, disp=~1\n",
      "            Df    AIC    BIC  logLik deviance Chisq Chi Df Pr(>Chisq)\n",
      "fit_nopenid  9 7378.7 7433.1 -3680.3   7360.7                        \n",
      "fit_penid   10 7380.7 7441.1 -3680.3   7360.7     0      1          1\n"
     ]
    },
    {
     "name": "stderr",
     "output_type": "stream",
     "text": [
      "Warning message in Matrix::sparseMatrix(dims = c(0, 0), i = integer(0), j = integer(0), :\n",
      "\"'giveCsparse' has been deprecated; setting 'repr = \"T\"' for you\"\n",
      "Warning message in Matrix::sparseMatrix(dims = c(0, 0), i = integer(0), j = integer(0), :\n",
      "\"'giveCsparse' has been deprecated; setting 'repr = \"T\"' for you\"\n",
      "Warning message in Matrix::sparseMatrix(dims = c(0, 0), i = integer(0), j = integer(0), :\n",
      "\"'giveCsparse' has been deprecated; setting 'repr = \"T\"' for you\"\n",
      "Warning message in Matrix::sparseMatrix(dims = c(0, 0), i = integer(0), j = integer(0), :\n",
      "\"'giveCsparse' has been deprecated; setting 'repr = \"T\"' for you\"\n",
      "Warning message in Matrix::sparseMatrix(dims = c(0, 0), i = integer(0), j = integer(0), :\n",
      "\"'giveCsparse' has been deprecated; setting 'repr = \"T\"' for you\"\n",
      "Warning message in Matrix::sparseMatrix(dims = c(0, 0), i = integer(0), j = integer(0), :\n",
      "\"'giveCsparse' has been deprecated; setting 'repr = \"T\"' for you\"\n"
     ]
    },
    {
     "name": "stdout",
     "output_type": "stream",
     "text": [
      "NULL\n",
      "NULL\n"
     ]
    },
    {
     "name": "stderr",
     "output_type": "stream",
     "text": [
      "Warning message in confint.glmmTMB(x, method = tolower(conf.method), level = conf.level, :\n",
      "\"extra arguments ignored:  intervals, prob\"\n",
      "Warning message in confint.glmmTMB(x, parm = thpar, method = conf.method, level = conf.level, :\n",
      "\"extra arguments ignored:  intervals, prob\"\n",
      "Warning message in confint.glmmTMB(x, method = tolower(conf.method), level = conf.level, :\n",
      "\"extra arguments ignored:  intervals, prob\"\n",
      "Warning message in confint.glmmTMB(x, parm = thpar, method = conf.method, level = conf.level, :\n",
      "\"extra arguments ignored:  intervals, prob\"\n",
      "Warning message in confint.glmmTMB(x, method = tolower(conf.method), level = conf.level, :\n",
      "\"extra arguments ignored:  intervals, prob\"\n",
      "Warning message in confint.glmmTMB(x, parm = thpar, method = conf.method, level = conf.level, :\n",
      "\"extra arguments ignored:  intervals, prob\"\n",
      "Warning message in confint.glmmTMB(x, method = tolower(conf.method), level = conf.level, :\n",
      "\"extra arguments ignored:  intervals, prob\"\n",
      "Warning message in confint.glmmTMB(x, parm = thpar, method = conf.method, level = conf.level, :\n",
      "\"extra arguments ignored:  intervals, prob\"\n",
      "Warning message in confint.glmmTMB(x, method = tolower(conf.method), level = conf.level, :\n",
      "\"extra arguments ignored:  intervals, prob\"\n",
      "Warning message in confint.glmmTMB(x, parm = thpar, method = conf.method, level = conf.level, :\n",
      "\"extra arguments ignored:  intervals, prob\"\n",
      "Warning message in confint.glmmTMB(x, method = tolower(conf.method), level = conf.level, :\n",
      "\"extra arguments ignored:  intervals, prob\"\n",
      "Warning message in confint.glmmTMB(x, parm = thpar, method = conf.method, level = conf.level, :\n",
      "\"extra arguments ignored:  intervals, prob\"\n",
      "Warning message in confint.glmmTMB(x, method = tolower(conf.method), level = conf.level, :\n",
      "\"extra arguments ignored:  intervals, prob\"\n",
      "Warning message in confint.glmmTMB(x, parm = thpar, method = conf.method, level = conf.level, :\n",
      "\"extra arguments ignored:  intervals, prob\"\n",
      "Warning message in confint.glmmTMB(x, method = tolower(conf.method), level = conf.level, :\n",
      "\"extra arguments ignored:  intervals, prob\"\n",
      "Warning message in confint.glmmTMB(x, parm = thpar, method = conf.method, level = conf.level, :\n",
      "\"extra arguments ignored:  intervals, prob\"\n",
      "Warning message in confint.glmmTMB(x, method = tolower(conf.method), level = conf.level, :\n",
      "\"extra arguments ignored:  intervals, prob\"\n",
      "Warning message in confint.glmmTMB(x, parm = thpar, method = conf.method, level = conf.level, :\n",
      "\"extra arguments ignored:  intervals, prob\"\n",
      "Warning message in confint.glmmTMB(x, method = tolower(conf.method), level = conf.level, :\n",
      "\"extra arguments ignored:  intervals, prob\"\n",
      "Warning message in confint.glmmTMB(x, parm = thpar, method = conf.method, level = conf.level, :\n",
      "\"extra arguments ignored:  intervals, prob\"\n"
     ]
    },
    {
     "data": {
      "text/html": [
       "<strong>png:</strong> 2"
      ],
      "text/latex": [
       "\\textbf{png:} 2"
      ],
      "text/markdown": [
       "**png:** 2"
      ],
      "text/plain": [
       "png \n",
       "  2 "
      ]
     },
     "metadata": {},
     "output_type": "display_data"
    },
    {
     "name": "stderr",
     "output_type": "stream",
     "text": [
      "Warning message:\n",
      "\"Following potential variables could not be found in the data: DIB ,weight_interp\n",
      "  ,nbr_h_per_day\"\n",
      "Warning message:\n",
      "\"Following potential variables could not be found in the data: DIB ,weight_interp\n",
      "  ,KBF_interp\"\n",
      "Warning message:\n",
      "\"Following potential variables could not be found in the data: DIB ,weight_interp\n",
      "  ,KBF_interp\"\n",
      "Warning message:\n",
      "\"Following potential variables could not be found in the data: DIB ,weight_interp\n",
      "  ,KBF_interp\"\n",
      "Warning message:\n",
      "\"Following potential variables could not be found in the data: DIB ,weight_interp\n",
      "  ,nbr_h_per_day\"\n",
      "Warning message:\n",
      "\"Following potential variables could not be found in the data: DIB ,weight_interp\n",
      "  ,KBF_interp\"\n",
      "Warning message:\n",
      "\"Following potential variables could not be found in the data: DIB ,weight_interp\n",
      "  ,KBF_interp\"\n",
      "Warning message:\n",
      "\"Following potential variables could not be found in the data: DIB ,weight_interp\n",
      "  ,KBF_interp\"\n",
      "Warning message:\n",
      "\"Following potential variables could not be found in the data: DIB ,weight_interp\n",
      "  ,nbr_h_per_day\"\n",
      "Warning message:\n",
      "\"Following potential variables could not be found in the data: DIB ,weight_interp\n",
      "  ,KBF_interp\"\n",
      "Warning message:\n",
      "\"Following potential variables could not be found in the data: DIB ,weight_interp\n",
      "  ,KBF_interp\"\n",
      "Warning message:\n",
      "\"Following potential variables could not be found in the data: DIB ,weight_interp\n",
      "  ,KBF_interp\"\n",
      "Warning message:\n",
      "\"Following potential variables could not be found in the data: DIB ,weight_interp\n",
      "  ,KBF_interp\"\n",
      "Warning message:\n",
      "\"Following potential variables could not be found in the data: DIB ,weight_interp\n",
      "  ,KBF_interp\"\n",
      "Warning message:\n",
      "\"Following potential variables could not be found in the data: DIB ,weight_interp\n",
      "  ,KBF_interp\"\n",
      "Warning message:\n",
      "\"Following potential variables could not be found in the data: DIB ,weight_interp\n",
      "  ,KBF_interp\"\n",
      "Warning message:\n",
      "\"Following potential variables could not be found in the data: DIB ,weight_interp\n",
      "  ,KBF_interp\"\n",
      "Warning message:\n",
      "\"Following potential variables could not be found in the data: DIB ,weight_interp\n",
      "  ,KBF_interp\"\n",
      "Warning message:\n",
      "\"Following potential variables could not be found in the data: DIB ,weight_interp\n",
      "  ,KBF_interp\"\n",
      "Warning message:\n",
      "\"Following potential variables could not be found in the data: DIB ,weight_interp\n",
      "  ,KBF_interp\"\n",
      "Warning message:\n",
      "\"Following potential variables could not be found in the data: DIB ,weight_interp\n",
      "  ,KBF_interp\"\n",
      "Warning message:\n",
      "\"Following potential variables could not be found in the data: DIB ,weight_interp\n",
      "  ,KBF_interp\"\n",
      "Warning message:\n",
      "\"Following potential variables could not be found in the data: DIB ,weight_interp\n",
      "  ,KBF_interp\"\n",
      "Warning message:\n",
      "\"Following potential variables could not be found in the data: DIB ,weight_interp\n",
      "  ,KBF_interp\"\n"
     ]
    }
   ],
   "source": [
    "var = 'mid_cum_Z4_h_Morning'\n",
    "path_visual_ = file.path(path_visual, var)\n",
    "dir.create(path_visual_)\n",
    "dim(df)\n",
    "df_ = subset(df, !is.na(mid_cum_Z4_h_Morning))\n",
    "dim(df_)\n",
    "\n",
    "li_model = list()\n",
    "for (i in 2:10){\n",
    "    monthILBID = paste0('month',i)\n",
    "    print(monthILBID)\n",
    "    df__ = df_[df_$monthILB==monthILBID,]\n",
    "    #monthILB1-monthILB2: no KBF but nbr_h_per_day_sc, after KBF but no nbr_h_per_day_sc\n",
    "    if (monthILBID %in% c('month1', 'month2')){\n",
    "        fit_nopenid = glmmTMB(mid_cum_Z4_h_Morning ~  CLASS+ Treatment + rescale(DIB) + rescale(weight_interp)+ rescale(nbr_h_per_day)+(1|HenID), \n",
    "                   data=df__, family=Gamma(link = \"log\"))\n",
    "        fit_penid = glmmTMB(mid_cum_Z4_h_Morning ~  CLASS+ Treatment + rescale(DIB) + rescale(weight_interp)+ rescale(nbr_h_per_day)+(1|PenID/HenID), \n",
    "                   data=df__, family=Gamma(link = \"log\"))}\n",
    "    else{\n",
    "        fit_nopenid = glmmTMB(mid_cum_Z4_h_Morning ~  CLASS + Treatment + rescale(DIB) + rescale(weight_interp)+ rescale(KBF_interp) + (1|HenID), \n",
    "                   data=df__, family=Gamma(link = \"log\"))\n",
    "        fit_penid = glmmTMB(mid_cum_Z4_h_Morning ~  CLASS + Treatment + rescale(DIB) + rescale(weight_interp)+ rescale(KBF_interp) + (1|PenID/HenID), \n",
    "                   data=df__, family=Gamma(link = \"log\"))}\n",
    "    print(anova(fit_nopenid,fit_penid))\n",
    "    p_value = anova(fit_nopenid,fit_penid)['Pr(>Chisq)']['fit_penid',]\n",
    "    if (p_value<0.05){\n",
    "        fit = fit_penid    \n",
    "    }else{\n",
    "        fit = fit_nopenid    \n",
    "    }    \n",
    "    \n",
    "    li_model[[i]] = fit\n",
    "    write.csv(summary(fit)['coefficients']$coefficients$cond, file=file.path(path_visual_, paste0(var,monthILBID,'.csv')) )\n",
    "    \n",
    "    set.seed(0)\n",
    "    simulationOutput = simulateResiduals(fittedModel=fit)\n",
    "    tiff(file.path(path_visual_, paste0(var,'_SimRes1',monthILBID,'.tiff')), width=400, height=400)\n",
    "    print(plot(simulationOutput))\n",
    "    dev.off()\n",
    "    \n",
    "    tiff(file.path(path_visual_, paste0(var,'_SimRes2',monthILBID,'.tiff')), width=400, height=400)\n",
    "    print(plotResiduals(simulationOutput, form = df__$Treatment))\n",
    "    dev.off()}\n",
    "\n",
    "\n",
    "#to match the colors and modelID, put as model 1 the model2. then, we will remove it\n",
    "li_model[[1]] = li_model[[2]]\n",
    "\n",
    "tiff(file.path(path_visual_, paste0(var,'_OFHCoeff','.tiff')), width=400, height=400)\n",
    "plot_summs(li_model[1:10], coefs=c('TreatmentOFH'), colors='Rainbow', legend.title=var, exp=TRUE)\n",
    "dev.off()\n",
    "tab_model(li_model[2:5], collapse.ci = TRUE, p.style = \"numeric_stars\", file=file.path(path_visual_, paste0(var,'_TableModel2-5.doc')))\n",
    "tab_model(li_model[6:10], collapse.ci = TRUE, p.style = \"numeric_stars\", file=file.path(path_visual_, paste0(var,'_TableModel6-10.doc')))"
   ]
  },
  {
   "cell_type": "markdown",
   "id": "90bb03e7",
   "metadata": {},
   "source": [
    "# vertical_travel_distance"
   ]
  },
  {
   "cell_type": "code",
   "execution_count": 58,
   "id": "67841306",
   "metadata": {},
   "outputs": [
    {
     "data": {
      "text/html": [
       "<style>\n",
       ".list-inline {list-style: none; margin:0; padding: 0}\n",
       ".list-inline>li {display: inline-block}\n",
       ".list-inline>li:not(:last-child)::after {content: \"\\00b7\"; padding: 0 .5ex}\n",
       "</style>\n",
       "<ol class=list-inline><li>37455</li><li>26</li></ol>\n"
      ],
      "text/latex": [
       "\\begin{enumerate*}\n",
       "\\item 37455\n",
       "\\item 26\n",
       "\\end{enumerate*}\n"
      ],
      "text/markdown": [
       "1. 37455\n",
       "2. 26\n",
       "\n",
       "\n"
      ],
      "text/plain": [
       "[1] 37455    26"
      ]
     },
     "metadata": {},
     "output_type": "display_data"
    },
    {
     "data": {
      "text/html": [
       "<style>\n",
       ".list-inline {list-style: none; margin:0; padding: 0}\n",
       ".list-inline>li {display: inline-block}\n",
       ".list-inline>li:not(:last-child)::after {content: \"\\00b7\"; padding: 0 .5ex}\n",
       "</style>\n",
       "<ol class=list-inline><li>37455</li><li>26</li></ol>\n"
      ],
      "text/latex": [
       "\\begin{enumerate*}\n",
       "\\item 37455\n",
       "\\item 26\n",
       "\\end{enumerate*}\n"
      ],
      "text/markdown": [
       "1. 37455\n",
       "2. 26\n",
       "\n",
       "\n"
      ],
      "text/plain": [
       "[1] 37455    26"
      ]
     },
     "metadata": {},
     "output_type": "display_data"
    },
    {
     "name": "stdout",
     "output_type": "stream",
     "text": [
      "[1] \"month1\"\n"
     ]
    },
    {
     "name": "stderr",
     "output_type": "stream",
     "text": [
      "Warning message in Matrix::sparseMatrix(dims = c(0, 0), i = integer(0), j = integer(0), :\n",
      "\"'giveCsparse' has been deprecated; setting 'repr = \"T\"' for you\"\n",
      "Warning message in Matrix::sparseMatrix(dims = c(0, 0), i = integer(0), j = integer(0), :\n",
      "\"'giveCsparse' has been deprecated; setting 'repr = \"T\"' for you\"\n",
      "Warning message in Matrix::sparseMatrix(dims = c(0, 0), i = integer(0), j = integer(0), :\n",
      "\"'giveCsparse' has been deprecated; setting 'repr = \"T\"' for you\"\n",
      "Warning message in Matrix::sparseMatrix(dims = c(0, 0), i = integer(0), j = integer(0), :\n",
      "\"'giveCsparse' has been deprecated; setting 'repr = \"T\"' for you\"\n",
      "Warning message in Matrix::sparseMatrix(dims = c(0, 0), i = integer(0), j = integer(0), :\n",
      "\"'giveCsparse' has been deprecated; setting 'repr = \"T\"' for you\"\n",
      "Warning message in Matrix::sparseMatrix(dims = c(0, 0), i = integer(0), j = integer(0), :\n",
      "\"'giveCsparse' has been deprecated; setting 'repr = \"T\"' for you\"\n"
     ]
    },
    {
     "name": "stdout",
     "output_type": "stream",
     "text": [
      "Data: df__\n",
      "Models:\n",
      "fit_nopenid: vertical_travel_distance ~ CLASS + Treatment + rescale(DIB) + , zi=~0, disp=~1\n",
      "fit_nopenid:     rescale(weight_interp) + rescale(nbr_h_per_day) + (1 | HenID), zi=~0, disp=~1\n",
      "fit_penid: vertical_travel_distance ~ CLASS + Treatment + rescale(DIB) + , zi=~0, disp=~1\n",
      "fit_penid:     rescale(weight_interp) + rescale(nbr_h_per_day) + (1 | PenID/HenID), zi=~0, disp=~1\n",
      "            Df   AIC   BIC logLik deviance Chisq Chi Df Pr(>Chisq)\n",
      "fit_nopenid  8 48282 48331 -24133    48266                        \n",
      "fit_penid    9 48284 48339 -24133    48266     0      1          1\n"
     ]
    },
    {
     "name": "stderr",
     "output_type": "stream",
     "text": [
      "Warning message in Matrix::sparseMatrix(dims = c(0, 0), i = integer(0), j = integer(0), :\n",
      "\"'giveCsparse' has been deprecated; setting 'repr = \"T\"' for you\"\n",
      "Warning message in Matrix::sparseMatrix(dims = c(0, 0), i = integer(0), j = integer(0), :\n",
      "\"'giveCsparse' has been deprecated; setting 'repr = \"T\"' for you\"\n",
      "Warning message in Matrix::sparseMatrix(dims = c(0, 0), i = integer(0), j = integer(0), :\n",
      "\"'giveCsparse' has been deprecated; setting 'repr = \"T\"' for you\"\n",
      "Warning message in Matrix::sparseMatrix(dims = c(0, 0), i = integer(0), j = integer(0), :\n",
      "\"'giveCsparse' has been deprecated; setting 'repr = \"T\"' for you\"\n",
      "Warning message in Matrix::sparseMatrix(dims = c(0, 0), i = integer(0), j = integer(0), :\n",
      "\"'giveCsparse' has been deprecated; setting 'repr = \"T\"' for you\"\n",
      "Warning message in Matrix::sparseMatrix(dims = c(0, 0), i = integer(0), j = integer(0), :\n",
      "\"'giveCsparse' has been deprecated; setting 'repr = \"T\"' for you\"\n",
      "DHARMa:testOutliers with type = binomial may have inflated Type I error rates for integer-valued distributions. To get a more exact result, it is recommended to re-run testOutliers with type = 'bootstrap'. See ?testOutliers for details\n",
      "\n"
     ]
    },
    {
     "name": "stdout",
     "output_type": "stream",
     "text": [
      "NULL\n",
      "NULL\n",
      "[1] \"month2\"\n"
     ]
    },
    {
     "name": "stderr",
     "output_type": "stream",
     "text": [
      "Warning message in Matrix::sparseMatrix(dims = c(0, 0), i = integer(0), j = integer(0), :\n",
      "\"'giveCsparse' has been deprecated; setting 'repr = \"T\"' for you\"\n",
      "Warning message in Matrix::sparseMatrix(dims = c(0, 0), i = integer(0), j = integer(0), :\n",
      "\"'giveCsparse' has been deprecated; setting 'repr = \"T\"' for you\"\n",
      "Warning message in Matrix::sparseMatrix(dims = c(0, 0), i = integer(0), j = integer(0), :\n",
      "\"'giveCsparse' has been deprecated; setting 'repr = \"T\"' for you\"\n",
      "Warning message in Matrix::sparseMatrix(dims = c(0, 0), i = integer(0), j = integer(0), :\n",
      "\"'giveCsparse' has been deprecated; setting 'repr = \"T\"' for you\"\n",
      "Warning message in Matrix::sparseMatrix(dims = c(0, 0), i = integer(0), j = integer(0), :\n",
      "\"'giveCsparse' has been deprecated; setting 'repr = \"T\"' for you\"\n",
      "Warning message in Matrix::sparseMatrix(dims = c(0, 0), i = integer(0), j = integer(0), :\n",
      "\"'giveCsparse' has been deprecated; setting 'repr = \"T\"' for you\"\n"
     ]
    },
    {
     "name": "stdout",
     "output_type": "stream",
     "text": [
      "Data: df__\n",
      "Models:\n",
      "fit_nopenid: vertical_travel_distance ~ CLASS + Treatment + rescale(DIB) + , zi=~0, disp=~1\n",
      "fit_nopenid:     rescale(weight_interp) + rescale(nbr_h_per_day) + (1 | HenID), zi=~0, disp=~1\n",
      "fit_penid: vertical_travel_distance ~ CLASS + Treatment + rescale(DIB) + , zi=~0, disp=~1\n",
      "fit_penid:     rescale(weight_interp) + rescale(nbr_h_per_day) + (1 | PenID/HenID), zi=~0, disp=~1\n",
      "            Df   AIC   BIC logLik deviance Chisq Chi Df Pr(>Chisq)\n",
      "fit_nopenid  8 38523 38573 -19253    38507                        \n",
      "fit_penid    9 38525 38581 -19253    38507     0      1          1\n"
     ]
    },
    {
     "name": "stderr",
     "output_type": "stream",
     "text": [
      "Warning message in Matrix::sparseMatrix(dims = c(0, 0), i = integer(0), j = integer(0), :\n",
      "\"'giveCsparse' has been deprecated; setting 'repr = \"T\"' for you\"\n",
      "Warning message in Matrix::sparseMatrix(dims = c(0, 0), i = integer(0), j = integer(0), :\n",
      "\"'giveCsparse' has been deprecated; setting 'repr = \"T\"' for you\"\n",
      "Warning message in Matrix::sparseMatrix(dims = c(0, 0), i = integer(0), j = integer(0), :\n",
      "\"'giveCsparse' has been deprecated; setting 'repr = \"T\"' for you\"\n",
      "Warning message in Matrix::sparseMatrix(dims = c(0, 0), i = integer(0), j = integer(0), :\n",
      "\"'giveCsparse' has been deprecated; setting 'repr = \"T\"' for you\"\n",
      "Warning message in Matrix::sparseMatrix(dims = c(0, 0), i = integer(0), j = integer(0), :\n",
      "\"'giveCsparse' has been deprecated; setting 'repr = \"T\"' for you\"\n",
      "Warning message in Matrix::sparseMatrix(dims = c(0, 0), i = integer(0), j = integer(0), :\n",
      "\"'giveCsparse' has been deprecated; setting 'repr = \"T\"' for you\"\n",
      "DHARMa:testOutliers with type = binomial may have inflated Type I error rates for integer-valued distributions. To get a more exact result, it is recommended to re-run testOutliers with type = 'bootstrap'. See ?testOutliers for details\n",
      "\n"
     ]
    },
    {
     "name": "stdout",
     "output_type": "stream",
     "text": [
      "NULL\n",
      "NULL\n",
      "[1] \"month3\"\n"
     ]
    },
    {
     "name": "stderr",
     "output_type": "stream",
     "text": [
      "Warning message in Matrix::sparseMatrix(dims = c(0, 0), i = integer(0), j = integer(0), :\n",
      "\"'giveCsparse' has been deprecated; setting 'repr = \"T\"' for you\"\n",
      "Warning message in Matrix::sparseMatrix(dims = c(0, 0), i = integer(0), j = integer(0), :\n",
      "\"'giveCsparse' has been deprecated; setting 'repr = \"T\"' for you\"\n",
      "Warning message in Matrix::sparseMatrix(dims = c(0, 0), i = integer(0), j = integer(0), :\n",
      "\"'giveCsparse' has been deprecated; setting 'repr = \"T\"' for you\"\n",
      "Warning message in Matrix::sparseMatrix(dims = c(0, 0), i = integer(0), j = integer(0), :\n",
      "\"'giveCsparse' has been deprecated; setting 'repr = \"T\"' for you\"\n",
      "Warning message in Matrix::sparseMatrix(dims = c(0, 0), i = integer(0), j = integer(0), :\n",
      "\"'giveCsparse' has been deprecated; setting 'repr = \"T\"' for you\"\n",
      "Warning message in Matrix::sparseMatrix(dims = c(0, 0), i = integer(0), j = integer(0), :\n",
      "\"'giveCsparse' has been deprecated; setting 'repr = \"T\"' for you\"\n"
     ]
    },
    {
     "name": "stdout",
     "output_type": "stream",
     "text": [
      "Data: df__\n",
      "Models:\n",
      "fit_nopenid: vertical_travel_distance ~ CLASS + Treatment + rescale(DIB) + , zi=~0, disp=~1\n",
      "fit_nopenid:     rescale(weight_interp) + rescale(KBF_interp) + (1 | HenID), zi=~0, disp=~1\n",
      "fit_penid: vertical_travel_distance ~ CLASS + Treatment + rescale(DIB) + , zi=~0, disp=~1\n",
      "fit_penid:     rescale(weight_interp) + rescale(KBF_interp) + (1 | PenID/HenID), zi=~0, disp=~1\n",
      "            Df   AIC   BIC logLik deviance Chisq Chi Df Pr(>Chisq)\n",
      "fit_nopenid  8 36675 36726 -18329    36659                        \n",
      "fit_penid    9 36677 36734 -18329    36659     0      1          1\n"
     ]
    },
    {
     "name": "stderr",
     "output_type": "stream",
     "text": [
      "Warning message in Matrix::sparseMatrix(dims = c(0, 0), i = integer(0), j = integer(0), :\n",
      "\"'giveCsparse' has been deprecated; setting 'repr = \"T\"' for you\"\n",
      "Warning message in Matrix::sparseMatrix(dims = c(0, 0), i = integer(0), j = integer(0), :\n",
      "\"'giveCsparse' has been deprecated; setting 'repr = \"T\"' for you\"\n",
      "Warning message in Matrix::sparseMatrix(dims = c(0, 0), i = integer(0), j = integer(0), :\n",
      "\"'giveCsparse' has been deprecated; setting 'repr = \"T\"' for you\"\n",
      "Warning message in Matrix::sparseMatrix(dims = c(0, 0), i = integer(0), j = integer(0), :\n",
      "\"'giveCsparse' has been deprecated; setting 'repr = \"T\"' for you\"\n",
      "Warning message in Matrix::sparseMatrix(dims = c(0, 0), i = integer(0), j = integer(0), :\n",
      "\"'giveCsparse' has been deprecated; setting 'repr = \"T\"' for you\"\n",
      "Warning message in Matrix::sparseMatrix(dims = c(0, 0), i = integer(0), j = integer(0), :\n",
      "\"'giveCsparse' has been deprecated; setting 'repr = \"T\"' for you\"\n",
      "DHARMa:testOutliers with type = binomial may have inflated Type I error rates for integer-valued distributions. To get a more exact result, it is recommended to re-run testOutliers with type = 'bootstrap'. See ?testOutliers for details\n",
      "\n"
     ]
    },
    {
     "name": "stdout",
     "output_type": "stream",
     "text": [
      "NULL\n",
      "NULL\n",
      "[1] \"month4\"\n"
     ]
    },
    {
     "name": "stderr",
     "output_type": "stream",
     "text": [
      "Warning message in Matrix::sparseMatrix(dims = c(0, 0), i = integer(0), j = integer(0), :\n",
      "\"'giveCsparse' has been deprecated; setting 'repr = \"T\"' for you\"\n",
      "Warning message in Matrix::sparseMatrix(dims = c(0, 0), i = integer(0), j = integer(0), :\n",
      "\"'giveCsparse' has been deprecated; setting 'repr = \"T\"' for you\"\n",
      "Warning message in Matrix::sparseMatrix(dims = c(0, 0), i = integer(0), j = integer(0), :\n",
      "\"'giveCsparse' has been deprecated; setting 'repr = \"T\"' for you\"\n",
      "Warning message in Matrix::sparseMatrix(dims = c(0, 0), i = integer(0), j = integer(0), :\n",
      "\"'giveCsparse' has been deprecated; setting 'repr = \"T\"' for you\"\n",
      "Warning message in Matrix::sparseMatrix(dims = c(0, 0), i = integer(0), j = integer(0), :\n",
      "\"'giveCsparse' has been deprecated; setting 'repr = \"T\"' for you\"\n",
      "Warning message in Matrix::sparseMatrix(dims = c(0, 0), i = integer(0), j = integer(0), :\n",
      "\"'giveCsparse' has been deprecated; setting 'repr = \"T\"' for you\"\n"
     ]
    },
    {
     "name": "stdout",
     "output_type": "stream",
     "text": [
      "Data: df__\n",
      "Models:\n",
      "fit_nopenid: vertical_travel_distance ~ CLASS + Treatment + rescale(DIB) + , zi=~0, disp=~1\n",
      "fit_nopenid:     rescale(weight_interp) + rescale(KBF_interp) + (1 | HenID), zi=~0, disp=~1\n",
      "fit_penid: vertical_travel_distance ~ CLASS + Treatment + rescale(DIB) + , zi=~0, disp=~1\n",
      "fit_penid:     rescale(weight_interp) + rescale(KBF_interp) + (1 | PenID/HenID), zi=~0, disp=~1\n",
      "            Df   AIC   BIC logLik deviance Chisq Chi Df Pr(>Chisq)\n",
      "fit_nopenid  8 31673 31722 -15828    31657                        \n",
      "fit_penid    9 31675 31731 -15828    31657     0      1          1\n"
     ]
    },
    {
     "name": "stderr",
     "output_type": "stream",
     "text": [
      "Warning message in Matrix::sparseMatrix(dims = c(0, 0), i = integer(0), j = integer(0), :\n",
      "\"'giveCsparse' has been deprecated; setting 'repr = \"T\"' for you\"\n",
      "Warning message in Matrix::sparseMatrix(dims = c(0, 0), i = integer(0), j = integer(0), :\n",
      "\"'giveCsparse' has been deprecated; setting 'repr = \"T\"' for you\"\n",
      "Warning message in Matrix::sparseMatrix(dims = c(0, 0), i = integer(0), j = integer(0), :\n",
      "\"'giveCsparse' has been deprecated; setting 'repr = \"T\"' for you\"\n",
      "Warning message in Matrix::sparseMatrix(dims = c(0, 0), i = integer(0), j = integer(0), :\n",
      "\"'giveCsparse' has been deprecated; setting 'repr = \"T\"' for you\"\n",
      "Warning message in Matrix::sparseMatrix(dims = c(0, 0), i = integer(0), j = integer(0), :\n",
      "\"'giveCsparse' has been deprecated; setting 'repr = \"T\"' for you\"\n",
      "Warning message in Matrix::sparseMatrix(dims = c(0, 0), i = integer(0), j = integer(0), :\n",
      "\"'giveCsparse' has been deprecated; setting 'repr = \"T\"' for you\"\n",
      "DHARMa:testOutliers with type = binomial may have inflated Type I error rates for integer-valued distributions. To get a more exact result, it is recommended to re-run testOutliers with type = 'bootstrap'. See ?testOutliers for details\n",
      "\n"
     ]
    },
    {
     "name": "stdout",
     "output_type": "stream",
     "text": [
      "NULL\n",
      "NULL\n",
      "[1] \"month5\"\n"
     ]
    },
    {
     "name": "stderr",
     "output_type": "stream",
     "text": [
      "Warning message in Matrix::sparseMatrix(dims = c(0, 0), i = integer(0), j = integer(0), :\n",
      "\"'giveCsparse' has been deprecated; setting 'repr = \"T\"' for you\"\n",
      "Warning message in Matrix::sparseMatrix(dims = c(0, 0), i = integer(0), j = integer(0), :\n",
      "\"'giveCsparse' has been deprecated; setting 'repr = \"T\"' for you\"\n",
      "Warning message in Matrix::sparseMatrix(dims = c(0, 0), i = integer(0), j = integer(0), :\n",
      "\"'giveCsparse' has been deprecated; setting 'repr = \"T\"' for you\"\n",
      "Warning message in Matrix::sparseMatrix(dims = c(0, 0), i = integer(0), j = integer(0), :\n",
      "\"'giveCsparse' has been deprecated; setting 'repr = \"T\"' for you\"\n",
      "Warning message in Matrix::sparseMatrix(dims = c(0, 0), i = integer(0), j = integer(0), :\n",
      "\"'giveCsparse' has been deprecated; setting 'repr = \"T\"' for you\"\n",
      "Warning message in Matrix::sparseMatrix(dims = c(0, 0), i = integer(0), j = integer(0), :\n",
      "\"'giveCsparse' has been deprecated; setting 'repr = \"T\"' for you\"\n"
     ]
    },
    {
     "name": "stdout",
     "output_type": "stream",
     "text": [
      "Data: df__\n",
      "Models:\n",
      "fit_nopenid: vertical_travel_distance ~ CLASS + Treatment + rescale(DIB) + , zi=~0, disp=~1\n",
      "fit_nopenid:     rescale(weight_interp) + rescale(KBF_interp) + (1 | HenID), zi=~0, disp=~1\n",
      "fit_penid: vertical_travel_distance ~ CLASS + Treatment + rescale(DIB) + , zi=~0, disp=~1\n",
      "fit_penid:     rescale(weight_interp) + rescale(KBF_interp) + (1 | PenID/HenID), zi=~0, disp=~1\n",
      "            Df   AIC   BIC logLik deviance Chisq Chi Df Pr(>Chisq)\n",
      "fit_nopenid  8 33138 33188 -16561    33122                        \n",
      "fit_penid    9 33139 33196 -16561    33121 0.087      1      0.768\n"
     ]
    },
    {
     "name": "stderr",
     "output_type": "stream",
     "text": [
      "Warning message in Matrix::sparseMatrix(dims = c(0, 0), i = integer(0), j = integer(0), :\n",
      "\"'giveCsparse' has been deprecated; setting 'repr = \"T\"' for you\"\n",
      "Warning message in Matrix::sparseMatrix(dims = c(0, 0), i = integer(0), j = integer(0), :\n",
      "\"'giveCsparse' has been deprecated; setting 'repr = \"T\"' for you\"\n",
      "Warning message in Matrix::sparseMatrix(dims = c(0, 0), i = integer(0), j = integer(0), :\n",
      "\"'giveCsparse' has been deprecated; setting 'repr = \"T\"' for you\"\n",
      "Warning message in Matrix::sparseMatrix(dims = c(0, 0), i = integer(0), j = integer(0), :\n",
      "\"'giveCsparse' has been deprecated; setting 'repr = \"T\"' for you\"\n",
      "Warning message in Matrix::sparseMatrix(dims = c(0, 0), i = integer(0), j = integer(0), :\n",
      "\"'giveCsparse' has been deprecated; setting 'repr = \"T\"' for you\"\n",
      "Warning message in Matrix::sparseMatrix(dims = c(0, 0), i = integer(0), j = integer(0), :\n",
      "\"'giveCsparse' has been deprecated; setting 'repr = \"T\"' for you\"\n",
      "DHARMa:testOutliers with type = binomial may have inflated Type I error rates for integer-valued distributions. To get a more exact result, it is recommended to re-run testOutliers with type = 'bootstrap'. See ?testOutliers for details\n",
      "\n"
     ]
    },
    {
     "name": "stdout",
     "output_type": "stream",
     "text": [
      "NULL\n",
      "NULL\n",
      "[1] \"month6\"\n"
     ]
    },
    {
     "name": "stderr",
     "output_type": "stream",
     "text": [
      "Warning message in Matrix::sparseMatrix(dims = c(0, 0), i = integer(0), j = integer(0), :\n",
      "\"'giveCsparse' has been deprecated; setting 'repr = \"T\"' for you\"\n",
      "Warning message in Matrix::sparseMatrix(dims = c(0, 0), i = integer(0), j = integer(0), :\n",
      "\"'giveCsparse' has been deprecated; setting 'repr = \"T\"' for you\"\n",
      "Warning message in Matrix::sparseMatrix(dims = c(0, 0), i = integer(0), j = integer(0), :\n",
      "\"'giveCsparse' has been deprecated; setting 'repr = \"T\"' for you\"\n",
      "Warning message in Matrix::sparseMatrix(dims = c(0, 0), i = integer(0), j = integer(0), :\n",
      "\"'giveCsparse' has been deprecated; setting 'repr = \"T\"' for you\"\n",
      "Warning message in Matrix::sparseMatrix(dims = c(0, 0), i = integer(0), j = integer(0), :\n",
      "\"'giveCsparse' has been deprecated; setting 'repr = \"T\"' for you\"\n",
      "Warning message in Matrix::sparseMatrix(dims = c(0, 0), i = integer(0), j = integer(0), :\n",
      "\"'giveCsparse' has been deprecated; setting 'repr = \"T\"' for you\"\n"
     ]
    },
    {
     "name": "stdout",
     "output_type": "stream",
     "text": [
      "Data: df__\n",
      "Models:\n",
      "fit_nopenid: vertical_travel_distance ~ CLASS + Treatment + rescale(DIB) + , zi=~0, disp=~1\n",
      "fit_nopenid:     rescale(weight_interp) + rescale(KBF_interp) + (1 | HenID), zi=~0, disp=~1\n",
      "fit_penid: vertical_travel_distance ~ CLASS + Treatment + rescale(DIB) + , zi=~0, disp=~1\n",
      "fit_penid:     rescale(weight_interp) + rescale(KBF_interp) + (1 | PenID/HenID), zi=~0, disp=~1\n",
      "            Df   AIC   BIC logLik deviance  Chisq Chi Df Pr(>Chisq)\n",
      "fit_nopenid  8 36236 36287 -18110    36220                         \n",
      "fit_penid    9 36238 36295 -18110    36220 0.1953      1     0.6585\n"
     ]
    },
    {
     "name": "stderr",
     "output_type": "stream",
     "text": [
      "Warning message in Matrix::sparseMatrix(dims = c(0, 0), i = integer(0), j = integer(0), :\n",
      "\"'giveCsparse' has been deprecated; setting 'repr = \"T\"' for you\"\n",
      "Warning message in Matrix::sparseMatrix(dims = c(0, 0), i = integer(0), j = integer(0), :\n",
      "\"'giveCsparse' has been deprecated; setting 'repr = \"T\"' for you\"\n",
      "Warning message in Matrix::sparseMatrix(dims = c(0, 0), i = integer(0), j = integer(0), :\n",
      "\"'giveCsparse' has been deprecated; setting 'repr = \"T\"' for you\"\n",
      "Warning message in Matrix::sparseMatrix(dims = c(0, 0), i = integer(0), j = integer(0), :\n",
      "\"'giveCsparse' has been deprecated; setting 'repr = \"T\"' for you\"\n",
      "Warning message in Matrix::sparseMatrix(dims = c(0, 0), i = integer(0), j = integer(0), :\n",
      "\"'giveCsparse' has been deprecated; setting 'repr = \"T\"' for you\"\n",
      "Warning message in Matrix::sparseMatrix(dims = c(0, 0), i = integer(0), j = integer(0), :\n",
      "\"'giveCsparse' has been deprecated; setting 'repr = \"T\"' for you\"\n",
      "DHARMa:testOutliers with type = binomial may have inflated Type I error rates for integer-valued distributions. To get a more exact result, it is recommended to re-run testOutliers with type = 'bootstrap'. See ?testOutliers for details\n",
      "\n"
     ]
    },
    {
     "name": "stdout",
     "output_type": "stream",
     "text": [
      "NULL\n",
      "NULL\n",
      "[1] \"month7\"\n"
     ]
    },
    {
     "name": "stderr",
     "output_type": "stream",
     "text": [
      "Warning message in Matrix::sparseMatrix(dims = c(0, 0), i = integer(0), j = integer(0), :\n",
      "\"'giveCsparse' has been deprecated; setting 'repr = \"T\"' for you\"\n",
      "Warning message in Matrix::sparseMatrix(dims = c(0, 0), i = integer(0), j = integer(0), :\n",
      "\"'giveCsparse' has been deprecated; setting 'repr = \"T\"' for you\"\n",
      "Warning message in Matrix::sparseMatrix(dims = c(0, 0), i = integer(0), j = integer(0), :\n",
      "\"'giveCsparse' has been deprecated; setting 'repr = \"T\"' for you\"\n",
      "Warning message in Matrix::sparseMatrix(dims = c(0, 0), i = integer(0), j = integer(0), :\n",
      "\"'giveCsparse' has been deprecated; setting 'repr = \"T\"' for you\"\n",
      "Warning message in Matrix::sparseMatrix(dims = c(0, 0), i = integer(0), j = integer(0), :\n",
      "\"'giveCsparse' has been deprecated; setting 'repr = \"T\"' for you\"\n",
      "Warning message in Matrix::sparseMatrix(dims = c(0, 0), i = integer(0), j = integer(0), :\n",
      "\"'giveCsparse' has been deprecated; setting 'repr = \"T\"' for you\"\n"
     ]
    },
    {
     "name": "stdout",
     "output_type": "stream",
     "text": [
      "Data: df__\n",
      "Models:\n",
      "fit_nopenid: vertical_travel_distance ~ CLASS + Treatment + rescale(DIB) + , zi=~0, disp=~1\n",
      "fit_nopenid:     rescale(weight_interp) + rescale(KBF_interp) + (1 | HenID), zi=~0, disp=~1\n",
      "fit_penid: vertical_travel_distance ~ CLASS + Treatment + rescale(DIB) + , zi=~0, disp=~1\n",
      "fit_penid:     rescale(weight_interp) + rescale(KBF_interp) + (1 | PenID/HenID), zi=~0, disp=~1\n",
      "            Df   AIC   BIC logLik deviance  Chisq Chi Df Pr(>Chisq)\n",
      "fit_nopenid  8 35126 35176 -17555    35110                         \n",
      "fit_penid    9 35128 35184 -17555    35110 0.1458      1     0.7025\n"
     ]
    },
    {
     "name": "stderr",
     "output_type": "stream",
     "text": [
      "Warning message in Matrix::sparseMatrix(dims = c(0, 0), i = integer(0), j = integer(0), :\n",
      "\"'giveCsparse' has been deprecated; setting 'repr = \"T\"' for you\"\n",
      "Warning message in Matrix::sparseMatrix(dims = c(0, 0), i = integer(0), j = integer(0), :\n",
      "\"'giveCsparse' has been deprecated; setting 'repr = \"T\"' for you\"\n",
      "Warning message in Matrix::sparseMatrix(dims = c(0, 0), i = integer(0), j = integer(0), :\n",
      "\"'giveCsparse' has been deprecated; setting 'repr = \"T\"' for you\"\n",
      "Warning message in Matrix::sparseMatrix(dims = c(0, 0), i = integer(0), j = integer(0), :\n",
      "\"'giveCsparse' has been deprecated; setting 'repr = \"T\"' for you\"\n",
      "Warning message in Matrix::sparseMatrix(dims = c(0, 0), i = integer(0), j = integer(0), :\n",
      "\"'giveCsparse' has been deprecated; setting 'repr = \"T\"' for you\"\n",
      "Warning message in Matrix::sparseMatrix(dims = c(0, 0), i = integer(0), j = integer(0), :\n",
      "\"'giveCsparse' has been deprecated; setting 'repr = \"T\"' for you\"\n",
      "DHARMa:testOutliers with type = binomial may have inflated Type I error rates for integer-valued distributions. To get a more exact result, it is recommended to re-run testOutliers with type = 'bootstrap'. See ?testOutliers for details\n",
      "\n"
     ]
    },
    {
     "name": "stdout",
     "output_type": "stream",
     "text": [
      "NULL\n",
      "NULL\n",
      "[1] \"month8\"\n"
     ]
    },
    {
     "name": "stderr",
     "output_type": "stream",
     "text": [
      "Warning message in Matrix::sparseMatrix(dims = c(0, 0), i = integer(0), j = integer(0), :\n",
      "\"'giveCsparse' has been deprecated; setting 'repr = \"T\"' for you\"\n",
      "Warning message in Matrix::sparseMatrix(dims = c(0, 0), i = integer(0), j = integer(0), :\n",
      "\"'giveCsparse' has been deprecated; setting 'repr = \"T\"' for you\"\n",
      "Warning message in Matrix::sparseMatrix(dims = c(0, 0), i = integer(0), j = integer(0), :\n",
      "\"'giveCsparse' has been deprecated; setting 'repr = \"T\"' for you\"\n",
      "Warning message in Matrix::sparseMatrix(dims = c(0, 0), i = integer(0), j = integer(0), :\n",
      "\"'giveCsparse' has been deprecated; setting 'repr = \"T\"' for you\"\n",
      "Warning message in Matrix::sparseMatrix(dims = c(0, 0), i = integer(0), j = integer(0), :\n",
      "\"'giveCsparse' has been deprecated; setting 'repr = \"T\"' for you\"\n",
      "Warning message in Matrix::sparseMatrix(dims = c(0, 0), i = integer(0), j = integer(0), :\n",
      "\"'giveCsparse' has been deprecated; setting 'repr = \"T\"' for you\"\n"
     ]
    },
    {
     "name": "stdout",
     "output_type": "stream",
     "text": [
      "Data: df__\n",
      "Models:\n",
      "fit_nopenid: vertical_travel_distance ~ CLASS + Treatment + rescale(DIB) + , zi=~0, disp=~1\n",
      "fit_nopenid:     rescale(weight_interp) + rescale(KBF_interp) + (1 | HenID), zi=~0, disp=~1\n",
      "fit_penid: vertical_travel_distance ~ CLASS + Treatment + rescale(DIB) + , zi=~0, disp=~1\n",
      "fit_penid:     rescale(weight_interp) + rescale(KBF_interp) + (1 | PenID/HenID), zi=~0, disp=~1\n",
      "            Df   AIC   BIC logLik deviance  Chisq Chi Df Pr(>Chisq)\n",
      "fit_nopenid  8 36506 36557 -18245    36490                         \n",
      "fit_penid    9 36508 36566 -18245    36490 0.0032      1     0.9546\n"
     ]
    },
    {
     "name": "stderr",
     "output_type": "stream",
     "text": [
      "Warning message in Matrix::sparseMatrix(dims = c(0, 0), i = integer(0), j = integer(0), :\n",
      "\"'giveCsparse' has been deprecated; setting 'repr = \"T\"' for you\"\n",
      "Warning message in Matrix::sparseMatrix(dims = c(0, 0), i = integer(0), j = integer(0), :\n",
      "\"'giveCsparse' has been deprecated; setting 'repr = \"T\"' for you\"\n",
      "Warning message in Matrix::sparseMatrix(dims = c(0, 0), i = integer(0), j = integer(0), :\n",
      "\"'giveCsparse' has been deprecated; setting 'repr = \"T\"' for you\"\n",
      "Warning message in Matrix::sparseMatrix(dims = c(0, 0), i = integer(0), j = integer(0), :\n",
      "\"'giveCsparse' has been deprecated; setting 'repr = \"T\"' for you\"\n",
      "Warning message in Matrix::sparseMatrix(dims = c(0, 0), i = integer(0), j = integer(0), :\n",
      "\"'giveCsparse' has been deprecated; setting 'repr = \"T\"' for you\"\n",
      "Warning message in Matrix::sparseMatrix(dims = c(0, 0), i = integer(0), j = integer(0), :\n",
      "\"'giveCsparse' has been deprecated; setting 'repr = \"T\"' for you\"\n",
      "DHARMa:testOutliers with type = binomial may have inflated Type I error rates for integer-valued distributions. To get a more exact result, it is recommended to re-run testOutliers with type = 'bootstrap'. See ?testOutliers for details\n",
      "\n"
     ]
    },
    {
     "name": "stdout",
     "output_type": "stream",
     "text": [
      "NULL\n",
      "NULL\n",
      "[1] \"month9\"\n"
     ]
    },
    {
     "name": "stderr",
     "output_type": "stream",
     "text": [
      "Warning message in Matrix::sparseMatrix(dims = c(0, 0), i = integer(0), j = integer(0), :\n",
      "\"'giveCsparse' has been deprecated; setting 'repr = \"T\"' for you\"\n",
      "Warning message in Matrix::sparseMatrix(dims = c(0, 0), i = integer(0), j = integer(0), :\n",
      "\"'giveCsparse' has been deprecated; setting 'repr = \"T\"' for you\"\n",
      "Warning message in Matrix::sparseMatrix(dims = c(0, 0), i = integer(0), j = integer(0), :\n",
      "\"'giveCsparse' has been deprecated; setting 'repr = \"T\"' for you\"\n",
      "Warning message in Matrix::sparseMatrix(dims = c(0, 0), i = integer(0), j = integer(0), :\n",
      "\"'giveCsparse' has been deprecated; setting 'repr = \"T\"' for you\"\n",
      "Warning message in Matrix::sparseMatrix(dims = c(0, 0), i = integer(0), j = integer(0), :\n",
      "\"'giveCsparse' has been deprecated; setting 'repr = \"T\"' for you\"\n",
      "Warning message in Matrix::sparseMatrix(dims = c(0, 0), i = integer(0), j = integer(0), :\n",
      "\"'giveCsparse' has been deprecated; setting 'repr = \"T\"' for you\"\n"
     ]
    },
    {
     "name": "stdout",
     "output_type": "stream",
     "text": [
      "Data: df__\n",
      "Models:\n",
      "fit_nopenid: vertical_travel_distance ~ CLASS + Treatment + rescale(DIB) + , zi=~0, disp=~1\n",
      "fit_nopenid:     rescale(weight_interp) + rescale(KBF_interp) + (1 | HenID), zi=~0, disp=~1\n",
      "fit_penid: vertical_travel_distance ~ CLASS + Treatment + rescale(DIB) + , zi=~0, disp=~1\n",
      "fit_penid:     rescale(weight_interp) + rescale(KBF_interp) + (1 | PenID/HenID), zi=~0, disp=~1\n",
      "            Df   AIC   BIC  logLik deviance Chisq Chi Df Pr(>Chisq)\n",
      "fit_nopenid  8 14623 14667 -7303.6    14607                        \n",
      "fit_penid    9 14625 14675 -7303.6    14607     0      1          1\n"
     ]
    },
    {
     "name": "stderr",
     "output_type": "stream",
     "text": [
      "Warning message in Matrix::sparseMatrix(dims = c(0, 0), i = integer(0), j = integer(0), :\n",
      "\"'giveCsparse' has been deprecated; setting 'repr = \"T\"' for you\"\n",
      "Warning message in Matrix::sparseMatrix(dims = c(0, 0), i = integer(0), j = integer(0), :\n",
      "\"'giveCsparse' has been deprecated; setting 'repr = \"T\"' for you\"\n",
      "Warning message in Matrix::sparseMatrix(dims = c(0, 0), i = integer(0), j = integer(0), :\n",
      "\"'giveCsparse' has been deprecated; setting 'repr = \"T\"' for you\"\n",
      "Warning message in Matrix::sparseMatrix(dims = c(0, 0), i = integer(0), j = integer(0), :\n",
      "\"'giveCsparse' has been deprecated; setting 'repr = \"T\"' for you\"\n",
      "Warning message in Matrix::sparseMatrix(dims = c(0, 0), i = integer(0), j = integer(0), :\n",
      "\"'giveCsparse' has been deprecated; setting 'repr = \"T\"' for you\"\n",
      "Warning message in Matrix::sparseMatrix(dims = c(0, 0), i = integer(0), j = integer(0), :\n",
      "\"'giveCsparse' has been deprecated; setting 'repr = \"T\"' for you\"\n",
      "DHARMa:testOutliers with type = binomial may have inflated Type I error rates for integer-valued distributions. To get a more exact result, it is recommended to re-run testOutliers with type = 'bootstrap'. See ?testOutliers for details\n",
      "\n"
     ]
    },
    {
     "name": "stdout",
     "output_type": "stream",
     "text": [
      "NULL\n",
      "NULL\n",
      "[1] \"month10\"\n"
     ]
    },
    {
     "name": "stderr",
     "output_type": "stream",
     "text": [
      "Warning message in Matrix::sparseMatrix(dims = c(0, 0), i = integer(0), j = integer(0), :\n",
      "\"'giveCsparse' has been deprecated; setting 'repr = \"T\"' for you\"\n",
      "Warning message in Matrix::sparseMatrix(dims = c(0, 0), i = integer(0), j = integer(0), :\n",
      "\"'giveCsparse' has been deprecated; setting 'repr = \"T\"' for you\"\n",
      "Warning message in Matrix::sparseMatrix(dims = c(0, 0), i = integer(0), j = integer(0), :\n",
      "\"'giveCsparse' has been deprecated; setting 'repr = \"T\"' for you\"\n",
      "Warning message in Matrix::sparseMatrix(dims = c(0, 0), i = integer(0), j = integer(0), :\n",
      "\"'giveCsparse' has been deprecated; setting 'repr = \"T\"' for you\"\n",
      "Warning message in Matrix::sparseMatrix(dims = c(0, 0), i = integer(0), j = integer(0), :\n",
      "\"'giveCsparse' has been deprecated; setting 'repr = \"T\"' for you\"\n",
      "Warning message in Matrix::sparseMatrix(dims = c(0, 0), i = integer(0), j = integer(0), :\n",
      "\"'giveCsparse' has been deprecated; setting 'repr = \"T\"' for you\"\n"
     ]
    },
    {
     "name": "stdout",
     "output_type": "stream",
     "text": [
      "Data: df__\n",
      "Models:\n",
      "fit_nopenid: vertical_travel_distance ~ CLASS + Treatment + rescale(DIB) + , zi=~0, disp=~1\n",
      "fit_nopenid:     rescale(weight_interp) + rescale(KBF_interp) + (1 | HenID), zi=~0, disp=~1\n",
      "fit_penid: vertical_travel_distance ~ CLASS + Treatment + rescale(DIB) + , zi=~0, disp=~1\n",
      "fit_penid:     rescale(weight_interp) + rescale(KBF_interp) + (1 | PenID/HenID), zi=~0, disp=~1\n",
      "            Df   AIC   BIC logLik deviance Chisq Chi Df Pr(>Chisq)\n",
      "fit_nopenid  8 26226 26275 -13105    26210                        \n",
      "fit_penid    9 26228 26282 -13105    26210 0.509      1     0.4756\n"
     ]
    },
    {
     "name": "stderr",
     "output_type": "stream",
     "text": [
      "Warning message in Matrix::sparseMatrix(dims = c(0, 0), i = integer(0), j = integer(0), :\n",
      "\"'giveCsparse' has been deprecated; setting 'repr = \"T\"' for you\"\n",
      "Warning message in Matrix::sparseMatrix(dims = c(0, 0), i = integer(0), j = integer(0), :\n",
      "\"'giveCsparse' has been deprecated; setting 'repr = \"T\"' for you\"\n",
      "Warning message in Matrix::sparseMatrix(dims = c(0, 0), i = integer(0), j = integer(0), :\n",
      "\"'giveCsparse' has been deprecated; setting 'repr = \"T\"' for you\"\n",
      "Warning message in Matrix::sparseMatrix(dims = c(0, 0), i = integer(0), j = integer(0), :\n",
      "\"'giveCsparse' has been deprecated; setting 'repr = \"T\"' for you\"\n",
      "Warning message in Matrix::sparseMatrix(dims = c(0, 0), i = integer(0), j = integer(0), :\n",
      "\"'giveCsparse' has been deprecated; setting 'repr = \"T\"' for you\"\n",
      "Warning message in Matrix::sparseMatrix(dims = c(0, 0), i = integer(0), j = integer(0), :\n",
      "\"'giveCsparse' has been deprecated; setting 'repr = \"T\"' for you\"\n",
      "DHARMa:testOutliers with type = binomial may have inflated Type I error rates for integer-valued distributions. To get a more exact result, it is recommended to re-run testOutliers with type = 'bootstrap'. See ?testOutliers for details\n",
      "\n"
     ]
    },
    {
     "name": "stdout",
     "output_type": "stream",
     "text": [
      "NULL\n",
      "NULL\n"
     ]
    },
    {
     "name": "stderr",
     "output_type": "stream",
     "text": [
      "Warning message in confint.glmmTMB(x, method = tolower(conf.method), level = conf.level, :\n",
      "\"extra arguments ignored:  intervals, prob\"\n",
      "Warning message in confint.glmmTMB(x, parm = thpar, method = conf.method, level = conf.level, :\n",
      "\"extra arguments ignored:  intervals, prob\"\n",
      "Warning message in confint.glmmTMB(x, method = tolower(conf.method), level = conf.level, :\n",
      "\"extra arguments ignored:  intervals, prob\"\n",
      "Warning message in confint.glmmTMB(x, parm = thpar, method = conf.method, level = conf.level, :\n",
      "\"extra arguments ignored:  intervals, prob\"\n",
      "Warning message in confint.glmmTMB(x, method = tolower(conf.method), level = conf.level, :\n",
      "\"extra arguments ignored:  intervals, prob\"\n",
      "Warning message in confint.glmmTMB(x, parm = thpar, method = conf.method, level = conf.level, :\n",
      "\"extra arguments ignored:  intervals, prob\"\n",
      "Warning message in confint.glmmTMB(x, method = tolower(conf.method), level = conf.level, :\n",
      "\"extra arguments ignored:  intervals, prob\"\n",
      "Warning message in confint.glmmTMB(x, parm = thpar, method = conf.method, level = conf.level, :\n",
      "\"extra arguments ignored:  intervals, prob\"\n",
      "Warning message in confint.glmmTMB(x, method = tolower(conf.method), level = conf.level, :\n",
      "\"extra arguments ignored:  intervals, prob\"\n",
      "Warning message in confint.glmmTMB(x, parm = thpar, method = conf.method, level = conf.level, :\n",
      "\"extra arguments ignored:  intervals, prob\"\n",
      "Warning message in confint.glmmTMB(x, method = tolower(conf.method), level = conf.level, :\n",
      "\"extra arguments ignored:  intervals, prob\"\n",
      "Warning message in confint.glmmTMB(x, parm = thpar, method = conf.method, level = conf.level, :\n",
      "\"extra arguments ignored:  intervals, prob\"\n",
      "Warning message in confint.glmmTMB(x, method = tolower(conf.method), level = conf.level, :\n",
      "\"extra arguments ignored:  intervals, prob\"\n",
      "Warning message in confint.glmmTMB(x, parm = thpar, method = conf.method, level = conf.level, :\n",
      "\"extra arguments ignored:  intervals, prob\"\n",
      "Warning message in confint.glmmTMB(x, method = tolower(conf.method), level = conf.level, :\n",
      "\"extra arguments ignored:  intervals, prob\"\n",
      "Warning message in confint.glmmTMB(x, parm = thpar, method = conf.method, level = conf.level, :\n",
      "\"extra arguments ignored:  intervals, prob\"\n",
      "Warning message in confint.glmmTMB(x, method = tolower(conf.method), level = conf.level, :\n",
      "\"extra arguments ignored:  intervals, prob\"\n",
      "Warning message in confint.glmmTMB(x, parm = thpar, method = conf.method, level = conf.level, :\n",
      "\"extra arguments ignored:  intervals, prob\"\n",
      "Warning message in confint.glmmTMB(x, method = tolower(conf.method), level = conf.level, :\n",
      "\"extra arguments ignored:  intervals, prob\"\n",
      "Warning message in confint.glmmTMB(x, parm = thpar, method = conf.method, level = conf.level, :\n",
      "\"extra arguments ignored:  intervals, prob\"\n"
     ]
    },
    {
     "data": {
      "text/html": [
       "<strong>png:</strong> 2"
      ],
      "text/latex": [
       "\\textbf{png:} 2"
      ],
      "text/markdown": [
       "**png:** 2"
      ],
      "text/plain": [
       "png \n",
       "  2 "
      ]
     },
     "metadata": {},
     "output_type": "display_data"
    },
    {
     "name": "stderr",
     "output_type": "stream",
     "text": [
      "Warning message:\n",
      "\"Following potential variables could not be found in the data: DIB ,weight_interp\n",
      "  ,nbr_h_per_day\"\n",
      "Warning message:\n",
      "\"Following potential variables could not be found in the data: DIB ,weight_interp\n",
      "  ,nbr_h_per_day\"\n",
      "Warning message:\n",
      "\"Following potential variables could not be found in the data: DIB ,weight_interp\n",
      "  ,KBF_interp\"\n",
      "Warning message:\n",
      "\"Following potential variables could not be found in the data: DIB ,weight_interp\n",
      "  ,KBF_interp\"\n",
      "Warning message:\n",
      "\"Following potential variables could not be found in the data: DIB ,weight_interp\n",
      "  ,KBF_interp\"\n",
      "Warning message:\n",
      "\"Following potential variables could not be found in the data: DIB ,weight_interp\n",
      "  ,nbr_h_per_day\"\n",
      "Warning message:\n",
      "\"Following potential variables could not be found in the data: DIB ,weight_interp\n",
      "  ,nbr_h_per_day\"\n",
      "Warning message:\n",
      "\"Following potential variables could not be found in the data: DIB ,weight_interp\n",
      "  ,KBF_interp\"\n",
      "Warning message:\n",
      "\"Following potential variables could not be found in the data: DIB ,weight_interp\n",
      "  ,KBF_interp\"\n",
      "Warning message:\n",
      "\"Following potential variables could not be found in the data: DIB ,weight_interp\n",
      "  ,KBF_interp\"\n",
      "Warning message:\n",
      "\"Following potential variables could not be found in the data: DIB ,weight_interp\n",
      "  ,nbr_h_per_day\"\n",
      "Warning message:\n",
      "\"Following potential variables could not be found in the data: DIB ,weight_interp\n",
      "  ,nbr_h_per_day\"\n",
      "Warning message:\n",
      "\"Following potential variables could not be found in the data: DIB ,weight_interp\n",
      "  ,KBF_interp\"\n",
      "Warning message:\n",
      "\"Following potential variables could not be found in the data: DIB ,weight_interp\n",
      "  ,KBF_interp\"\n",
      "Warning message:\n",
      "\"Following potential variables could not be found in the data: DIB ,weight_interp\n",
      "  ,KBF_interp\"\n",
      "Warning message:\n",
      "\"Following potential variables could not be found in the data: DIB ,weight_interp\n",
      "  ,KBF_interp\"\n",
      "Warning message:\n",
      "\"Following potential variables could not be found in the data: DIB ,weight_interp\n",
      "  ,KBF_interp\"\n",
      "Warning message:\n",
      "\"Following potential variables could not be found in the data: DIB ,weight_interp\n",
      "  ,KBF_interp\"\n",
      "Warning message:\n",
      "\"Following potential variables could not be found in the data: DIB ,weight_interp\n",
      "  ,KBF_interp\"\n",
      "Warning message:\n",
      "\"Following potential variables could not be found in the data: DIB ,weight_interp\n",
      "  ,KBF_interp\"\n",
      "Warning message:\n",
      "\"Following potential variables could not be found in the data: DIB ,weight_interp\n",
      "  ,KBF_interp\"\n",
      "Warning message:\n",
      "\"Following potential variables could not be found in the data: DIB ,weight_interp\n",
      "  ,KBF_interp\"\n",
      "Warning message:\n",
      "\"Following potential variables could not be found in the data: DIB ,weight_interp\n",
      "  ,KBF_interp\"\n",
      "Warning message:\n",
      "\"Following potential variables could not be found in the data: DIB ,weight_interp\n",
      "  ,KBF_interp\"\n",
      "Warning message:\n",
      "\"Following potential variables could not be found in the data: DIB ,weight_interp\n",
      "  ,KBF_interp\"\n",
      "Warning message:\n",
      "\"Following potential variables could not be found in the data: DIB ,weight_interp\n",
      "  ,KBF_interp\"\n",
      "Warning message:\n",
      "\"Following potential variables could not be found in the data: DIB ,weight_interp\n",
      "  ,KBF_interp\"\n"
     ]
    }
   ],
   "source": [
    "var = 'vertical_travel_distance'\n",
    "path_visual_ = file.path(path_visual, var)\n",
    "dir.create(path_visual_)\n",
    "dim(df)\n",
    "df_ = df\n",
    "dim(df_)\n",
    "\n",
    "li_model = list()\n",
    "for (i in 1:10){\n",
    "    monthILBID = paste0('month',i)\n",
    "    print(monthILBID)\n",
    "    df__ = df_[df_$monthILB==monthILBID,]\n",
    "    #monthILB1-monthILB2: no KBF but nbr_h_per_day_sc, after KBF but no nbr_h_per_day_sc\n",
    "    if (monthILBID %in% c('month1', 'month2')){\n",
    "        fit_nopenid = glmmTMB(vertical_travel_distance ~  CLASS+ Treatment + rescale(DIB) + rescale(weight_interp)+ rescale(nbr_h_per_day)+(1|HenID), \n",
    "                   data=df__, family=poisson)\n",
    "        fit_penid = glmmTMB(vertical_travel_distance ~  CLASS+ Treatment + rescale(DIB) + rescale(weight_interp)+ rescale(nbr_h_per_day)+(1|PenID/HenID), \n",
    "                   data=df__, family=poisson)}\n",
    "    else{\n",
    "        fit_nopenid = glmmTMB(vertical_travel_distance ~  CLASS + Treatment + rescale(DIB) + rescale(weight_interp)+ rescale(KBF_interp) + (1|HenID), \n",
    "                   data=df__, family=poisson)\n",
    "        fit_penid = glmmTMB(vertical_travel_distance ~  CLASS + Treatment + rescale(DIB) + rescale(weight_interp)+ rescale(KBF_interp) + (1|PenID/HenID), \n",
    "                   data=df__, family=poisson)}    \n",
    "    print(anova(fit_nopenid,fit_penid))\n",
    "    p_value = anova(fit_nopenid,fit_penid)['Pr(>Chisq)']['fit_penid',]\n",
    "    if (p_value<0.05){\n",
    "        fit = fit_penid    \n",
    "    }else{\n",
    "        fit = fit_nopenid    \n",
    "    }\n",
    "    \n",
    "    li_model[[i]] = fit\n",
    "    write.csv(summary(fit)[['coefficients']]$cond, file=file.path(path_visual_, paste0(var,monthILBID,'.csv')) )\n",
    "    \n",
    "    set.seed(0)\n",
    "    simulationOutput = simulateResiduals(fittedModel=fit)\n",
    "    tiff(file.path(path_visual_, paste0(var,'_SimRes1',monthILBID,'.tiff')), width=400, height=400)\n",
    "    print(plot(simulationOutput))\n",
    "    dev.off()\n",
    "    \n",
    "    tiff(file.path(path_visual_, paste0(var,'_SimRes2',monthILBID,'.tiff')), width=400, height=400)\n",
    "    print(plotResiduals(simulationOutput, form = df__$Treatment))\n",
    "    dev.off()}\n",
    "\n",
    "\n",
    "tiff(file.path(path_visual_, paste0(var,'_OFHCoeff','.tiff')), width=400, height=400)\n",
    "plot_summs(li_model, coefs=c('TreatmentOFH'), colors='Rainbow', legend.title=var, exp=TRUE)\n",
    "dev.off()\n",
    "tab_model(li_model[1:5], collapse.ci = TRUE, p.style = \"numeric_stars\", file=file.path(path_visual_, paste0(var,'_TableModel1-5.doc')))\n",
    "tab_model(li_model[6:10], collapse.ci = TRUE, p.style = \"numeric_stars\", file=file.path(path_visual_, paste0(var,'_TableModel6-10.doc')))"
   ]
  },
  {
   "cell_type": "markdown",
   "id": "36a2e151",
   "metadata": {},
   "source": [
    "## propindoor_duration_4_Zone_rs"
   ]
  },
  {
   "cell_type": "code",
   "execution_count": 59,
   "id": "32672b97",
   "metadata": {},
   "outputs": [
    {
     "data": {
      "text/html": [
       "<style>\n",
       ".list-inline {list-style: none; margin:0; padding: 0}\n",
       ".list-inline>li {display: inline-block}\n",
       ".list-inline>li:not(:last-child)::after {content: \"\\00b7\"; padding: 0 .5ex}\n",
       "</style>\n",
       "<ol class=list-inline><li>37455</li><li>26</li></ol>\n"
      ],
      "text/latex": [
       "\\begin{enumerate*}\n",
       "\\item 37455\n",
       "\\item 26\n",
       "\\end{enumerate*}\n"
      ],
      "text/markdown": [
       "1. 37455\n",
       "2. 26\n",
       "\n",
       "\n"
      ],
      "text/plain": [
       "[1] 37455    26"
      ]
     },
     "metadata": {},
     "output_type": "display_data"
    },
    {
     "data": {
      "text/html": [
       "<style>\n",
       ".list-inline {list-style: none; margin:0; padding: 0}\n",
       ".list-inline>li {display: inline-block}\n",
       ".list-inline>li:not(:last-child)::after {content: \"\\00b7\"; padding: 0 .5ex}\n",
       "</style>\n",
       "<ol class=list-inline><li>33932</li><li>26</li></ol>\n"
      ],
      "text/latex": [
       "\\begin{enumerate*}\n",
       "\\item 33932\n",
       "\\item 26\n",
       "\\end{enumerate*}\n"
      ],
      "text/markdown": [
       "1. 33932\n",
       "2. 26\n",
       "\n",
       "\n"
      ],
      "text/plain": [
       "[1] 33932    26"
      ]
     },
     "metadata": {},
     "output_type": "display_data"
    },
    {
     "data": {
      "text/html": [
       "<style>\n",
       ".list-inline {list-style: none; margin:0; padding: 0}\n",
       ".list-inline>li {display: inline-block}\n",
       ".list-inline>li:not(:last-child)::after {content: \"\\00b7\"; padding: 0 .5ex}\n",
       "</style>\n",
       "<ol class=list-inline><li>33810</li><li>26</li></ol>\n"
      ],
      "text/latex": [
       "\\begin{enumerate*}\n",
       "\\item 33810\n",
       "\\item 26\n",
       "\\end{enumerate*}\n"
      ],
      "text/markdown": [
       "1. 33810\n",
       "2. 26\n",
       "\n",
       "\n"
      ],
      "text/plain": [
       "[1] 33810    26"
      ]
     },
     "metadata": {},
     "output_type": "display_data"
    },
    {
     "name": "stdout",
     "output_type": "stream",
     "text": [
      "[1] \"month2\"\n",
      "[1] 4053   26\n"
     ]
    },
    {
     "name": "stderr",
     "output_type": "stream",
     "text": [
      "Warning message in Matrix::sparseMatrix(dims = c(0, 0), i = integer(0), j = integer(0), :\n",
      "\"'giveCsparse' has been deprecated; setting 'repr = \"T\"' for you\"\n",
      "Warning message in Matrix::sparseMatrix(dims = c(0, 0), i = integer(0), j = integer(0), :\n",
      "\"'giveCsparse' has been deprecated; setting 'repr = \"T\"' for you\"\n",
      "Warning message in Matrix::sparseMatrix(dims = c(0, 0), i = integer(0), j = integer(0), :\n",
      "\"'giveCsparse' has been deprecated; setting 'repr = \"T\"' for you\"\n",
      "Warning message in Matrix::sparseMatrix(dims = c(0, 0), i = integer(0), j = integer(0), :\n",
      "\"'giveCsparse' has been deprecated; setting 'repr = \"T\"' for you\"\n",
      "Warning message in Matrix::sparseMatrix(dims = c(0, 0), i = integer(0), j = integer(0), :\n",
      "\"'giveCsparse' has been deprecated; setting 'repr = \"T\"' for you\"\n",
      "Warning message in Matrix::sparseMatrix(dims = c(0, 0), i = integer(0), j = integer(0), :\n",
      "\"'giveCsparse' has been deprecated; setting 'repr = \"T\"' for you\"\n"
     ]
    },
    {
     "name": "stdout",
     "output_type": "stream",
     "text": [
      "Data: df__\n",
      "Models:\n",
      "fit_nopenid: propindoor_duration_4_Zone_rs ~ CLASS + Treatment + rescale(DIB) + , zi=~0, disp=~1\n",
      "fit_nopenid:     rescale(weight_interp) + rescale(nbr_h_per_day) + (1 | HenID), zi=~0, disp=~1\n",
      "fit_penid: propindoor_duration_4_Zone_rs ~ CLASS + Treatment + rescale(DIB) + , zi=~0, disp=~1\n",
      "fit_penid:     rescale(weight_interp) + rescale(nbr_h_per_day) + (1 | PenID/HenID), zi=~0, disp=~1\n",
      "            Df    AIC    BIC logLik deviance  Chisq Chi Df Pr(>Chisq)\n",
      "fit_nopenid  9 -17385 -17329 8701.7   -17403                         \n",
      "fit_penid   10 -17384 -17320 8701.7   -17404 0.1513      1     0.6973\n"
     ]
    },
    {
     "name": "stderr",
     "output_type": "stream",
     "text": [
      "Warning message in Matrix::sparseMatrix(dims = c(0, 0), i = integer(0), j = integer(0), :\n",
      "\"'giveCsparse' has been deprecated; setting 'repr = \"T\"' for you\"\n",
      "Warning message in Matrix::sparseMatrix(dims = c(0, 0), i = integer(0), j = integer(0), :\n",
      "\"'giveCsparse' has been deprecated; setting 'repr = \"T\"' for you\"\n",
      "Warning message in Matrix::sparseMatrix(dims = c(0, 0), i = integer(0), j = integer(0), :\n",
      "\"'giveCsparse' has been deprecated; setting 'repr = \"T\"' for you\"\n",
      "Warning message in Matrix::sparseMatrix(dims = c(0, 0), i = integer(0), j = integer(0), :\n",
      "\"'giveCsparse' has been deprecated; setting 'repr = \"T\"' for you\"\n",
      "Warning message in Matrix::sparseMatrix(dims = c(0, 0), i = integer(0), j = integer(0), :\n",
      "\"'giveCsparse' has been deprecated; setting 'repr = \"T\"' for you\"\n",
      "Warning message in Matrix::sparseMatrix(dims = c(0, 0), i = integer(0), j = integer(0), :\n",
      "\"'giveCsparse' has been deprecated; setting 'repr = \"T\"' for you\"\n"
     ]
    },
    {
     "name": "stdout",
     "output_type": "stream",
     "text": [
      "NULL\n",
      "NULL\n",
      "[1] \"month3\"\n",
      "[1] 4435   26\n"
     ]
    },
    {
     "name": "stderr",
     "output_type": "stream",
     "text": [
      "Warning message in Matrix::sparseMatrix(dims = c(0, 0), i = integer(0), j = integer(0), :\n",
      "\"'giveCsparse' has been deprecated; setting 'repr = \"T\"' for you\"\n",
      "Warning message in Matrix::sparseMatrix(dims = c(0, 0), i = integer(0), j = integer(0), :\n",
      "\"'giveCsparse' has been deprecated; setting 'repr = \"T\"' for you\"\n",
      "Warning message in Matrix::sparseMatrix(dims = c(0, 0), i = integer(0), j = integer(0), :\n",
      "\"'giveCsparse' has been deprecated; setting 'repr = \"T\"' for you\"\n",
      "Warning message in Matrix::sparseMatrix(dims = c(0, 0), i = integer(0), j = integer(0), :\n",
      "\"'giveCsparse' has been deprecated; setting 'repr = \"T\"' for you\"\n",
      "Warning message in Matrix::sparseMatrix(dims = c(0, 0), i = integer(0), j = integer(0), :\n",
      "\"'giveCsparse' has been deprecated; setting 'repr = \"T\"' for you\"\n",
      "Warning message in Matrix::sparseMatrix(dims = c(0, 0), i = integer(0), j = integer(0), :\n",
      "\"'giveCsparse' has been deprecated; setting 'repr = \"T\"' for you\"\n"
     ]
    },
    {
     "name": "stdout",
     "output_type": "stream",
     "text": [
      "Data: df__\n",
      "Models:\n",
      "fit_nopenid: propindoor_duration_4_Zone_rs ~ CLASS + Treatment + rescale(DIB) + , zi=~0, disp=~1\n",
      "fit_nopenid:     rescale(weight_interp) + rescale(KBF_interp) + (1 | HenID), zi=~0, disp=~1\n",
      "fit_penid: propindoor_duration_4_Zone_rs ~ CLASS + Treatment + rescale(DIB) + , zi=~0, disp=~1\n",
      "fit_penid:     rescale(weight_interp) + rescale(KBF_interp) + (1 | PenID/HenID), zi=~0, disp=~1\n",
      "            Df    AIC    BIC logLik deviance Chisq Chi Df Pr(>Chisq)\n",
      "fit_nopenid  9 -20996 -20938  10507   -21014                        \n",
      "fit_penid   10 -20994 -20930  10507   -21014     0      1          1\n"
     ]
    },
    {
     "name": "stderr",
     "output_type": "stream",
     "text": [
      "Warning message in Matrix::sparseMatrix(dims = c(0, 0), i = integer(0), j = integer(0), :\n",
      "\"'giveCsparse' has been deprecated; setting 'repr = \"T\"' for you\"\n",
      "Warning message in Matrix::sparseMatrix(dims = c(0, 0), i = integer(0), j = integer(0), :\n",
      "\"'giveCsparse' has been deprecated; setting 'repr = \"T\"' for you\"\n",
      "Warning message in Matrix::sparseMatrix(dims = c(0, 0), i = integer(0), j = integer(0), :\n",
      "\"'giveCsparse' has been deprecated; setting 'repr = \"T\"' for you\"\n",
      "Warning message in Matrix::sparseMatrix(dims = c(0, 0), i = integer(0), j = integer(0), :\n",
      "\"'giveCsparse' has been deprecated; setting 'repr = \"T\"' for you\"\n",
      "Warning message in Matrix::sparseMatrix(dims = c(0, 0), i = integer(0), j = integer(0), :\n",
      "\"'giveCsparse' has been deprecated; setting 'repr = \"T\"' for you\"\n",
      "Warning message in Matrix::sparseMatrix(dims = c(0, 0), i = integer(0), j = integer(0), :\n",
      "\"'giveCsparse' has been deprecated; setting 'repr = \"T\"' for you\"\n"
     ]
    },
    {
     "name": "stdout",
     "output_type": "stream",
     "text": [
      "NULL\n",
      "NULL\n",
      "[1] \"month4\"\n",
      "[1] 3636   26\n"
     ]
    },
    {
     "name": "stderr",
     "output_type": "stream",
     "text": [
      "Warning message in Matrix::sparseMatrix(dims = c(0, 0), i = integer(0), j = integer(0), :\n",
      "\"'giveCsparse' has been deprecated; setting 'repr = \"T\"' for you\"\n",
      "Warning message in Matrix::sparseMatrix(dims = c(0, 0), i = integer(0), j = integer(0), :\n",
      "\"'giveCsparse' has been deprecated; setting 'repr = \"T\"' for you\"\n",
      "Warning message in Matrix::sparseMatrix(dims = c(0, 0), i = integer(0), j = integer(0), :\n",
      "\"'giveCsparse' has been deprecated; setting 'repr = \"T\"' for you\"\n",
      "Warning message in Matrix::sparseMatrix(dims = c(0, 0), i = integer(0), j = integer(0), :\n",
      "\"'giveCsparse' has been deprecated; setting 'repr = \"T\"' for you\"\n",
      "Warning message in Matrix::sparseMatrix(dims = c(0, 0), i = integer(0), j = integer(0), :\n",
      "\"'giveCsparse' has been deprecated; setting 'repr = \"T\"' for you\"\n",
      "Warning message in Matrix::sparseMatrix(dims = c(0, 0), i = integer(0), j = integer(0), :\n",
      "\"'giveCsparse' has been deprecated; setting 'repr = \"T\"' for you\"\n"
     ]
    },
    {
     "name": "stdout",
     "output_type": "stream",
     "text": [
      "Data: df__\n",
      "Models:\n",
      "fit_nopenid: propindoor_duration_4_Zone_rs ~ CLASS + Treatment + rescale(DIB) + , zi=~0, disp=~1\n",
      "fit_nopenid:     rescale(weight_interp) + rescale(KBF_interp) + (1 | HenID), zi=~0, disp=~1\n",
      "fit_penid: propindoor_duration_4_Zone_rs ~ CLASS + Treatment + rescale(DIB) + , zi=~0, disp=~1\n",
      "fit_penid:     rescale(weight_interp) + rescale(KBF_interp) + (1 | PenID/HenID), zi=~0, disp=~1\n",
      "            Df    AIC    BIC logLik deviance Chisq Chi Df Pr(>Chisq)\n",
      "fit_nopenid  9 -15530 -15474 7774.1   -15548                        \n",
      "fit_penid   10 -15528 -15466 7774.1   -15548     0      1          1\n"
     ]
    },
    {
     "name": "stderr",
     "output_type": "stream",
     "text": [
      "Warning message in Matrix::sparseMatrix(dims = c(0, 0), i = integer(0), j = integer(0), :\n",
      "\"'giveCsparse' has been deprecated; setting 'repr = \"T\"' for you\"\n",
      "Warning message in Matrix::sparseMatrix(dims = c(0, 0), i = integer(0), j = integer(0), :\n",
      "\"'giveCsparse' has been deprecated; setting 'repr = \"T\"' for you\"\n",
      "Warning message in Matrix::sparseMatrix(dims = c(0, 0), i = integer(0), j = integer(0), :\n",
      "\"'giveCsparse' has been deprecated; setting 'repr = \"T\"' for you\"\n",
      "Warning message in Matrix::sparseMatrix(dims = c(0, 0), i = integer(0), j = integer(0), :\n",
      "\"'giveCsparse' has been deprecated; setting 'repr = \"T\"' for you\"\n",
      "Warning message in Matrix::sparseMatrix(dims = c(0, 0), i = integer(0), j = integer(0), :\n",
      "\"'giveCsparse' has been deprecated; setting 'repr = \"T\"' for you\"\n",
      "Warning message in Matrix::sparseMatrix(dims = c(0, 0), i = integer(0), j = integer(0), :\n",
      "\"'giveCsparse' has been deprecated; setting 'repr = \"T\"' for you\"\n"
     ]
    },
    {
     "name": "stdout",
     "output_type": "stream",
     "text": [
      "NULL\n",
      "NULL\n",
      "[1] \"month5\"\n",
      "[1] 3841   26\n"
     ]
    },
    {
     "name": "stderr",
     "output_type": "stream",
     "text": [
      "Warning message in Matrix::sparseMatrix(dims = c(0, 0), i = integer(0), j = integer(0), :\n",
      "\"'giveCsparse' has been deprecated; setting 'repr = \"T\"' for you\"\n",
      "Warning message in Matrix::sparseMatrix(dims = c(0, 0), i = integer(0), j = integer(0), :\n",
      "\"'giveCsparse' has been deprecated; setting 'repr = \"T\"' for you\"\n",
      "Warning message in Matrix::sparseMatrix(dims = c(0, 0), i = integer(0), j = integer(0), :\n",
      "\"'giveCsparse' has been deprecated; setting 'repr = \"T\"' for you\"\n",
      "Warning message in Matrix::sparseMatrix(dims = c(0, 0), i = integer(0), j = integer(0), :\n",
      "\"'giveCsparse' has been deprecated; setting 'repr = \"T\"' for you\"\n",
      "Warning message in Matrix::sparseMatrix(dims = c(0, 0), i = integer(0), j = integer(0), :\n",
      "\"'giveCsparse' has been deprecated; setting 'repr = \"T\"' for you\"\n",
      "Warning message in Matrix::sparseMatrix(dims = c(0, 0), i = integer(0), j = integer(0), :\n",
      "\"'giveCsparse' has been deprecated; setting 'repr = \"T\"' for you\"\n"
     ]
    },
    {
     "name": "stdout",
     "output_type": "stream",
     "text": [
      "Data: df__\n",
      "Models:\n",
      "fit_nopenid: propindoor_duration_4_Zone_rs ~ CLASS + Treatment + rescale(DIB) + , zi=~0, disp=~1\n",
      "fit_nopenid:     rescale(weight_interp) + rescale(KBF_interp) + (1 | HenID), zi=~0, disp=~1\n",
      "fit_penid: propindoor_duration_4_Zone_rs ~ CLASS + Treatment + rescale(DIB) + , zi=~0, disp=~1\n",
      "fit_penid:     rescale(weight_interp) + rescale(KBF_interp) + (1 | PenID/HenID), zi=~0, disp=~1\n",
      "            Df    AIC    BIC logLik deviance  Chisq Chi Df Pr(>Chisq)\n",
      "fit_nopenid  9 -17896 -17839 8956.8   -17914                         \n",
      "fit_penid   10 -17894 -17831 8956.8   -17914 0.0022      1     0.9625\n"
     ]
    },
    {
     "name": "stderr",
     "output_type": "stream",
     "text": [
      "Warning message in Matrix::sparseMatrix(dims = c(0, 0), i = integer(0), j = integer(0), :\n",
      "\"'giveCsparse' has been deprecated; setting 'repr = \"T\"' for you\"\n",
      "Warning message in Matrix::sparseMatrix(dims = c(0, 0), i = integer(0), j = integer(0), :\n",
      "\"'giveCsparse' has been deprecated; setting 'repr = \"T\"' for you\"\n",
      "Warning message in Matrix::sparseMatrix(dims = c(0, 0), i = integer(0), j = integer(0), :\n",
      "\"'giveCsparse' has been deprecated; setting 'repr = \"T\"' for you\"\n",
      "Warning message in Matrix::sparseMatrix(dims = c(0, 0), i = integer(0), j = integer(0), :\n",
      "\"'giveCsparse' has been deprecated; setting 'repr = \"T\"' for you\"\n",
      "Warning message in Matrix::sparseMatrix(dims = c(0, 0), i = integer(0), j = integer(0), :\n",
      "\"'giveCsparse' has been deprecated; setting 'repr = \"T\"' for you\"\n",
      "Warning message in Matrix::sparseMatrix(dims = c(0, 0), i = integer(0), j = integer(0), :\n",
      "\"'giveCsparse' has been deprecated; setting 'repr = \"T\"' for you\"\n"
     ]
    },
    {
     "name": "stdout",
     "output_type": "stream",
     "text": [
      "NULL\n",
      "NULL\n",
      "[1] \"month6\"\n",
      "[1] 4181   26\n"
     ]
    },
    {
     "name": "stderr",
     "output_type": "stream",
     "text": [
      "Warning message in Matrix::sparseMatrix(dims = c(0, 0), i = integer(0), j = integer(0), :\n",
      "\"'giveCsparse' has been deprecated; setting 'repr = \"T\"' for you\"\n",
      "Warning message in Matrix::sparseMatrix(dims = c(0, 0), i = integer(0), j = integer(0), :\n",
      "\"'giveCsparse' has been deprecated; setting 'repr = \"T\"' for you\"\n",
      "Warning message in Matrix::sparseMatrix(dims = c(0, 0), i = integer(0), j = integer(0), :\n",
      "\"'giveCsparse' has been deprecated; setting 'repr = \"T\"' for you\"\n",
      "Warning message in Matrix::sparseMatrix(dims = c(0, 0), i = integer(0), j = integer(0), :\n",
      "\"'giveCsparse' has been deprecated; setting 'repr = \"T\"' for you\"\n",
      "Warning message in Matrix::sparseMatrix(dims = c(0, 0), i = integer(0), j = integer(0), :\n",
      "\"'giveCsparse' has been deprecated; setting 'repr = \"T\"' for you\"\n",
      "Warning message in Matrix::sparseMatrix(dims = c(0, 0), i = integer(0), j = integer(0), :\n",
      "\"'giveCsparse' has been deprecated; setting 'repr = \"T\"' for you\"\n"
     ]
    },
    {
     "name": "stdout",
     "output_type": "stream",
     "text": [
      "Data: df__\n",
      "Models:\n",
      "fit_nopenid: propindoor_duration_4_Zone_rs ~ CLASS + Treatment + rescale(DIB) + , zi=~0, disp=~1\n",
      "fit_nopenid:     rescale(weight_interp) + rescale(KBF_interp) + (1 | HenID), zi=~0, disp=~1\n",
      "fit_penid: propindoor_duration_4_Zone_rs ~ CLASS + Treatment + rescale(DIB) + , zi=~0, disp=~1\n",
      "fit_penid:     rescale(weight_interp) + rescale(KBF_interp) + (1 | PenID/HenID), zi=~0, disp=~1\n",
      "            Df    AIC    BIC logLik deviance  Chisq Chi Df Pr(>Chisq)\n",
      "fit_nopenid  9 -20540 -20483  10279   -20558                         \n",
      "fit_penid   10 -20538 -20475  10279   -20558 0.0106      1     0.9178\n"
     ]
    },
    {
     "name": "stderr",
     "output_type": "stream",
     "text": [
      "Warning message in Matrix::sparseMatrix(dims = c(0, 0), i = integer(0), j = integer(0), :\n",
      "\"'giveCsparse' has been deprecated; setting 'repr = \"T\"' for you\"\n",
      "Warning message in Matrix::sparseMatrix(dims = c(0, 0), i = integer(0), j = integer(0), :\n",
      "\"'giveCsparse' has been deprecated; setting 'repr = \"T\"' for you\"\n",
      "Warning message in Matrix::sparseMatrix(dims = c(0, 0), i = integer(0), j = integer(0), :\n",
      "\"'giveCsparse' has been deprecated; setting 'repr = \"T\"' for you\"\n",
      "Warning message in Matrix::sparseMatrix(dims = c(0, 0), i = integer(0), j = integer(0), :\n",
      "\"'giveCsparse' has been deprecated; setting 'repr = \"T\"' for you\"\n",
      "Warning message in Matrix::sparseMatrix(dims = c(0, 0), i = integer(0), j = integer(0), :\n",
      "\"'giveCsparse' has been deprecated; setting 'repr = \"T\"' for you\"\n",
      "Warning message in Matrix::sparseMatrix(dims = c(0, 0), i = integer(0), j = integer(0), :\n",
      "\"'giveCsparse' has been deprecated; setting 'repr = \"T\"' for you\"\n"
     ]
    },
    {
     "name": "stdout",
     "output_type": "stream",
     "text": [
      "NULL\n",
      "NULL\n",
      "[1] \"month7\"\n",
      "[1] 4112   26\n"
     ]
    },
    {
     "name": "stderr",
     "output_type": "stream",
     "text": [
      "Warning message in Matrix::sparseMatrix(dims = c(0, 0), i = integer(0), j = integer(0), :\n",
      "\"'giveCsparse' has been deprecated; setting 'repr = \"T\"' for you\"\n",
      "Warning message in Matrix::sparseMatrix(dims = c(0, 0), i = integer(0), j = integer(0), :\n",
      "\"'giveCsparse' has been deprecated; setting 'repr = \"T\"' for you\"\n",
      "Warning message in Matrix::sparseMatrix(dims = c(0, 0), i = integer(0), j = integer(0), :\n",
      "\"'giveCsparse' has been deprecated; setting 'repr = \"T\"' for you\"\n",
      "Warning message in Matrix::sparseMatrix(dims = c(0, 0), i = integer(0), j = integer(0), :\n",
      "\"'giveCsparse' has been deprecated; setting 'repr = \"T\"' for you\"\n",
      "Warning message in Matrix::sparseMatrix(dims = c(0, 0), i = integer(0), j = integer(0), :\n",
      "\"'giveCsparse' has been deprecated; setting 'repr = \"T\"' for you\"\n",
      "Warning message in Matrix::sparseMatrix(dims = c(0, 0), i = integer(0), j = integer(0), :\n",
      "\"'giveCsparse' has been deprecated; setting 'repr = \"T\"' for you\"\n"
     ]
    },
    {
     "name": "stdout",
     "output_type": "stream",
     "text": [
      "Data: df__\n",
      "Models:\n",
      "fit_nopenid: propindoor_duration_4_Zone_rs ~ CLASS + Treatment + rescale(DIB) + , zi=~0, disp=~1\n",
      "fit_nopenid:     rescale(weight_interp) + rescale(KBF_interp) + (1 | HenID), zi=~0, disp=~1\n",
      "fit_penid: propindoor_duration_4_Zone_rs ~ CLASS + Treatment + rescale(DIB) + , zi=~0, disp=~1\n",
      "fit_penid:     rescale(weight_interp) + rescale(KBF_interp) + (1 | PenID/HenID), zi=~0, disp=~1\n",
      "            Df    AIC    BIC logLik deviance  Chisq Chi Df Pr(>Chisq)\n",
      "fit_nopenid  9 -19619 -19562 9818.4   -19637                         \n",
      "fit_penid   10 -19617 -19554 9818.5   -19637 0.0287      1     0.8654\n"
     ]
    },
    {
     "name": "stderr",
     "output_type": "stream",
     "text": [
      "Warning message in Matrix::sparseMatrix(dims = c(0, 0), i = integer(0), j = integer(0), :\n",
      "\"'giveCsparse' has been deprecated; setting 'repr = \"T\"' for you\"\n",
      "Warning message in Matrix::sparseMatrix(dims = c(0, 0), i = integer(0), j = integer(0), :\n",
      "\"'giveCsparse' has been deprecated; setting 'repr = \"T\"' for you\"\n",
      "Warning message in Matrix::sparseMatrix(dims = c(0, 0), i = integer(0), j = integer(0), :\n",
      "\"'giveCsparse' has been deprecated; setting 'repr = \"T\"' for you\"\n",
      "Warning message in Matrix::sparseMatrix(dims = c(0, 0), i = integer(0), j = integer(0), :\n",
      "\"'giveCsparse' has been deprecated; setting 'repr = \"T\"' for you\"\n",
      "Warning message in Matrix::sparseMatrix(dims = c(0, 0), i = integer(0), j = integer(0), :\n",
      "\"'giveCsparse' has been deprecated; setting 'repr = \"T\"' for you\"\n",
      "Warning message in Matrix::sparseMatrix(dims = c(0, 0), i = integer(0), j = integer(0), :\n",
      "\"'giveCsparse' has been deprecated; setting 'repr = \"T\"' for you\"\n"
     ]
    },
    {
     "name": "stdout",
     "output_type": "stream",
     "text": [
      "NULL\n",
      "NULL\n",
      "[1] \"month8\"\n",
      "[1] 4552   26\n"
     ]
    },
    {
     "name": "stderr",
     "output_type": "stream",
     "text": [
      "Warning message in Matrix::sparseMatrix(dims = c(0, 0), i = integer(0), j = integer(0), :\n",
      "\"'giveCsparse' has been deprecated; setting 'repr = \"T\"' for you\"\n",
      "Warning message in Matrix::sparseMatrix(dims = c(0, 0), i = integer(0), j = integer(0), :\n",
      "\"'giveCsparse' has been deprecated; setting 'repr = \"T\"' for you\"\n",
      "Warning message in Matrix::sparseMatrix(dims = c(0, 0), i = integer(0), j = integer(0), :\n",
      "\"'giveCsparse' has been deprecated; setting 'repr = \"T\"' for you\"\n",
      "Warning message in Matrix::sparseMatrix(dims = c(0, 0), i = integer(0), j = integer(0), :\n",
      "\"'giveCsparse' has been deprecated; setting 'repr = \"T\"' for you\"\n",
      "Warning message in Matrix::sparseMatrix(dims = c(0, 0), i = integer(0), j = integer(0), :\n",
      "\"'giveCsparse' has been deprecated; setting 'repr = \"T\"' for you\"\n",
      "Warning message in Matrix::sparseMatrix(dims = c(0, 0), i = integer(0), j = integer(0), :\n",
      "\"'giveCsparse' has been deprecated; setting 'repr = \"T\"' for you\"\n"
     ]
    },
    {
     "name": "stdout",
     "output_type": "stream",
     "text": [
      "Data: df__\n",
      "Models:\n",
      "fit_nopenid: propindoor_duration_4_Zone_rs ~ CLASS + Treatment + rescale(DIB) + , zi=~0, disp=~1\n",
      "fit_nopenid:     rescale(weight_interp) + rescale(KBF_interp) + (1 | HenID), zi=~0, disp=~1\n",
      "fit_penid: propindoor_duration_4_Zone_rs ~ CLASS + Treatment + rescale(DIB) + , zi=~0, disp=~1\n",
      "fit_penid:     rescale(weight_interp) + rescale(KBF_interp) + (1 | PenID/HenID), zi=~0, disp=~1\n",
      "            Df    AIC    BIC logLik deviance  Chisq Chi Df Pr(>Chisq)\n",
      "fit_nopenid  9 -22234 -22176  11126   -22252                         \n",
      "fit_penid   10 -22232 -22168  11126   -22252 0.0065      1     0.9357\n"
     ]
    },
    {
     "name": "stderr",
     "output_type": "stream",
     "text": [
      "Warning message in Matrix::sparseMatrix(dims = c(0, 0), i = integer(0), j = integer(0), :\n",
      "\"'giveCsparse' has been deprecated; setting 'repr = \"T\"' for you\"\n",
      "Warning message in Matrix::sparseMatrix(dims = c(0, 0), i = integer(0), j = integer(0), :\n",
      "\"'giveCsparse' has been deprecated; setting 'repr = \"T\"' for you\"\n",
      "Warning message in Matrix::sparseMatrix(dims = c(0, 0), i = integer(0), j = integer(0), :\n",
      "\"'giveCsparse' has been deprecated; setting 'repr = \"T\"' for you\"\n",
      "Warning message in Matrix::sparseMatrix(dims = c(0, 0), i = integer(0), j = integer(0), :\n",
      "\"'giveCsparse' has been deprecated; setting 'repr = \"T\"' for you\"\n",
      "Warning message in Matrix::sparseMatrix(dims = c(0, 0), i = integer(0), j = integer(0), :\n",
      "\"'giveCsparse' has been deprecated; setting 'repr = \"T\"' for you\"\n",
      "Warning message in Matrix::sparseMatrix(dims = c(0, 0), i = integer(0), j = integer(0), :\n",
      "\"'giveCsparse' has been deprecated; setting 'repr = \"T\"' for you\"\n"
     ]
    },
    {
     "name": "stdout",
     "output_type": "stream",
     "text": [
      "NULL\n",
      "NULL\n",
      "[1] \"month9\"\n",
      "[1] 1856   26\n"
     ]
    },
    {
     "name": "stderr",
     "output_type": "stream",
     "text": [
      "Warning message in Matrix::sparseMatrix(dims = c(0, 0), i = integer(0), j = integer(0), :\n",
      "\"'giveCsparse' has been deprecated; setting 'repr = \"T\"' for you\"\n",
      "Warning message in Matrix::sparseMatrix(dims = c(0, 0), i = integer(0), j = integer(0), :\n",
      "\"'giveCsparse' has been deprecated; setting 'repr = \"T\"' for you\"\n",
      "Warning message in Matrix::sparseMatrix(dims = c(0, 0), i = integer(0), j = integer(0), :\n",
      "\"'giveCsparse' has been deprecated; setting 'repr = \"T\"' for you\"\n",
      "Warning message in Matrix::sparseMatrix(dims = c(0, 0), i = integer(0), j = integer(0), :\n",
      "\"'giveCsparse' has been deprecated; setting 'repr = \"T\"' for you\"\n",
      "Warning message in Matrix::sparseMatrix(dims = c(0, 0), i = integer(0), j = integer(0), :\n",
      "\"'giveCsparse' has been deprecated; setting 'repr = \"T\"' for you\"\n",
      "Warning message in Matrix::sparseMatrix(dims = c(0, 0), i = integer(0), j = integer(0), :\n",
      "\"'giveCsparse' has been deprecated; setting 'repr = \"T\"' for you\"\n"
     ]
    },
    {
     "name": "stdout",
     "output_type": "stream",
     "text": [
      "Data: df__\n",
      "Models:\n",
      "fit_nopenid: propindoor_duration_4_Zone_rs ~ CLASS + Treatment + rescale(DIB) + , zi=~0, disp=~1\n",
      "fit_nopenid:     rescale(weight_interp) + rescale(KBF_interp) + (1 | HenID), zi=~0, disp=~1\n",
      "fit_penid: propindoor_duration_4_Zone_rs ~ CLASS + Treatment + rescale(DIB) + , zi=~0, disp=~1\n",
      "fit_penid:     rescale(weight_interp) + rescale(KBF_interp) + (1 | PenID/HenID), zi=~0, disp=~1\n",
      "            Df   AIC     BIC logLik deviance Chisq Chi Df Pr(>Chisq)\n",
      "fit_nopenid  9 -9120 -9070.3   4569    -9138                        \n",
      "fit_penid   10 -9118 -9062.8   4569    -9138     0      1          1\n"
     ]
    },
    {
     "name": "stderr",
     "output_type": "stream",
     "text": [
      "Warning message in Matrix::sparseMatrix(dims = c(0, 0), i = integer(0), j = integer(0), :\n",
      "\"'giveCsparse' has been deprecated; setting 'repr = \"T\"' for you\"\n",
      "Warning message in Matrix::sparseMatrix(dims = c(0, 0), i = integer(0), j = integer(0), :\n",
      "\"'giveCsparse' has been deprecated; setting 'repr = \"T\"' for you\"\n",
      "Warning message in Matrix::sparseMatrix(dims = c(0, 0), i = integer(0), j = integer(0), :\n",
      "\"'giveCsparse' has been deprecated; setting 'repr = \"T\"' for you\"\n",
      "Warning message in Matrix::sparseMatrix(dims = c(0, 0), i = integer(0), j = integer(0), :\n",
      "\"'giveCsparse' has been deprecated; setting 'repr = \"T\"' for you\"\n",
      "Warning message in Matrix::sparseMatrix(dims = c(0, 0), i = integer(0), j = integer(0), :\n",
      "\"'giveCsparse' has been deprecated; setting 'repr = \"T\"' for you\"\n",
      "Warning message in Matrix::sparseMatrix(dims = c(0, 0), i = integer(0), j = integer(0), :\n",
      "\"'giveCsparse' has been deprecated; setting 'repr = \"T\"' for you\"\n"
     ]
    },
    {
     "name": "stdout",
     "output_type": "stream",
     "text": [
      "NULL\n",
      "NULL\n",
      "[1] \"month10\"\n",
      "[1] 3144   26\n"
     ]
    },
    {
     "name": "stderr",
     "output_type": "stream",
     "text": [
      "Warning message in Matrix::sparseMatrix(dims = c(0, 0), i = integer(0), j = integer(0), :\n",
      "\"'giveCsparse' has been deprecated; setting 'repr = \"T\"' for you\"\n",
      "Warning message in Matrix::sparseMatrix(dims = c(0, 0), i = integer(0), j = integer(0), :\n",
      "\"'giveCsparse' has been deprecated; setting 'repr = \"T\"' for you\"\n",
      "Warning message in Matrix::sparseMatrix(dims = c(0, 0), i = integer(0), j = integer(0), :\n",
      "\"'giveCsparse' has been deprecated; setting 'repr = \"T\"' for you\"\n",
      "Warning message in Matrix::sparseMatrix(dims = c(0, 0), i = integer(0), j = integer(0), :\n",
      "\"'giveCsparse' has been deprecated; setting 'repr = \"T\"' for you\"\n",
      "Warning message in Matrix::sparseMatrix(dims = c(0, 0), i = integer(0), j = integer(0), :\n",
      "\"'giveCsparse' has been deprecated; setting 'repr = \"T\"' for you\"\n",
      "Warning message in Matrix::sparseMatrix(dims = c(0, 0), i = integer(0), j = integer(0), :\n",
      "\"'giveCsparse' has been deprecated; setting 'repr = \"T\"' for you\"\n"
     ]
    },
    {
     "name": "stdout",
     "output_type": "stream",
     "text": [
      "Data: df__\n",
      "Models:\n",
      "fit_nopenid: propindoor_duration_4_Zone_rs ~ CLASS + Treatment + rescale(DIB) + , zi=~0, disp=~1\n",
      "fit_nopenid:     rescale(weight_interp) + rescale(KBF_interp) + (1 | HenID), zi=~0, disp=~1\n",
      "fit_penid: propindoor_duration_4_Zone_rs ~ CLASS + Treatment + rescale(DIB) + , zi=~0, disp=~1\n",
      "fit_penid:     rescale(weight_interp) + rescale(KBF_interp) + (1 | PenID/HenID), zi=~0, disp=~1\n",
      "            Df    AIC    BIC logLik deviance Chisq Chi Df Pr(>Chisq)\n",
      "fit_nopenid  9 -14751 -14696 7384.4   -14769                        \n",
      "fit_penid   10 -14749 -14688 7384.4   -14769     0      1          1\n"
     ]
    },
    {
     "name": "stderr",
     "output_type": "stream",
     "text": [
      "Warning message in Matrix::sparseMatrix(dims = c(0, 0), i = integer(0), j = integer(0), :\n",
      "\"'giveCsparse' has been deprecated; setting 'repr = \"T\"' for you\"\n",
      "Warning message in Matrix::sparseMatrix(dims = c(0, 0), i = integer(0), j = integer(0), :\n",
      "\"'giveCsparse' has been deprecated; setting 'repr = \"T\"' for you\"\n",
      "Warning message in Matrix::sparseMatrix(dims = c(0, 0), i = integer(0), j = integer(0), :\n",
      "\"'giveCsparse' has been deprecated; setting 'repr = \"T\"' for you\"\n",
      "Warning message in Matrix::sparseMatrix(dims = c(0, 0), i = integer(0), j = integer(0), :\n",
      "\"'giveCsparse' has been deprecated; setting 'repr = \"T\"' for you\"\n",
      "Warning message in Matrix::sparseMatrix(dims = c(0, 0), i = integer(0), j = integer(0), :\n",
      "\"'giveCsparse' has been deprecated; setting 'repr = \"T\"' for you\"\n",
      "Warning message in Matrix::sparseMatrix(dims = c(0, 0), i = integer(0), j = integer(0), :\n",
      "\"'giveCsparse' has been deprecated; setting 'repr = \"T\"' for you\"\n"
     ]
    },
    {
     "name": "stdout",
     "output_type": "stream",
     "text": [
      "NULL\n",
      "NULL\n"
     ]
    },
    {
     "name": "stderr",
     "output_type": "stream",
     "text": [
      "Warning message in confint.glmmTMB(x, method = tolower(conf.method), level = conf.level, :\n",
      "\"extra arguments ignored:  intervals, prob\"\n",
      "Warning message in confint.glmmTMB(x, parm = thpar, method = conf.method, level = conf.level, :\n",
      "\"extra arguments ignored:  intervals, prob\"\n",
      "Warning message in confint.glmmTMB(x, method = tolower(conf.method), level = conf.level, :\n",
      "\"extra arguments ignored:  intervals, prob\"\n",
      "Warning message in confint.glmmTMB(x, parm = thpar, method = conf.method, level = conf.level, :\n",
      "\"extra arguments ignored:  intervals, prob\"\n",
      "Warning message in confint.glmmTMB(x, method = tolower(conf.method), level = conf.level, :\n",
      "\"extra arguments ignored:  intervals, prob\"\n",
      "Warning message in confint.glmmTMB(x, parm = thpar, method = conf.method, level = conf.level, :\n",
      "\"extra arguments ignored:  intervals, prob\"\n",
      "Warning message in confint.glmmTMB(x, method = tolower(conf.method), level = conf.level, :\n",
      "\"extra arguments ignored:  intervals, prob\"\n",
      "Warning message in confint.glmmTMB(x, parm = thpar, method = conf.method, level = conf.level, :\n",
      "\"extra arguments ignored:  intervals, prob\"\n",
      "Warning message in confint.glmmTMB(x, method = tolower(conf.method), level = conf.level, :\n",
      "\"extra arguments ignored:  intervals, prob\"\n",
      "Warning message in confint.glmmTMB(x, parm = thpar, method = conf.method, level = conf.level, :\n",
      "\"extra arguments ignored:  intervals, prob\"\n",
      "Warning message in confint.glmmTMB(x, method = tolower(conf.method), level = conf.level, :\n",
      "\"extra arguments ignored:  intervals, prob\"\n",
      "Warning message in confint.glmmTMB(x, parm = thpar, method = conf.method, level = conf.level, :\n",
      "\"extra arguments ignored:  intervals, prob\"\n",
      "Warning message in confint.glmmTMB(x, method = tolower(conf.method), level = conf.level, :\n",
      "\"extra arguments ignored:  intervals, prob\"\n",
      "Warning message in confint.glmmTMB(x, parm = thpar, method = conf.method, level = conf.level, :\n",
      "\"extra arguments ignored:  intervals, prob\"\n",
      "Warning message in confint.glmmTMB(x, method = tolower(conf.method), level = conf.level, :\n",
      "\"extra arguments ignored:  intervals, prob\"\n",
      "Warning message in confint.glmmTMB(x, parm = thpar, method = conf.method, level = conf.level, :\n",
      "\"extra arguments ignored:  intervals, prob\"\n",
      "Warning message in confint.glmmTMB(x, method = tolower(conf.method), level = conf.level, :\n",
      "\"extra arguments ignored:  intervals, prob\"\n",
      "Warning message in confint.glmmTMB(x, parm = thpar, method = conf.method, level = conf.level, :\n",
      "\"extra arguments ignored:  intervals, prob\"\n",
      "Warning message in confint.glmmTMB(x, method = tolower(conf.method), level = conf.level, :\n",
      "\"extra arguments ignored:  intervals, prob\"\n",
      "Warning message in confint.glmmTMB(x, parm = thpar, method = conf.method, level = conf.level, :\n",
      "\"extra arguments ignored:  intervals, prob\"\n"
     ]
    },
    {
     "data": {
      "text/html": [
       "<strong>png:</strong> 2"
      ],
      "text/latex": [
       "\\textbf{png:} 2"
      ],
      "text/markdown": [
       "**png:** 2"
      ],
      "text/plain": [
       "png \n",
       "  2 "
      ]
     },
     "metadata": {},
     "output_type": "display_data"
    },
    {
     "name": "stderr",
     "output_type": "stream",
     "text": [
      "Warning message:\n",
      "\"Following potential variables could not be found in the data: DIB ,weight_interp\n",
      "  ,nbr_h_per_day\"\n",
      "Warning message:\n",
      "\"Following potential variables could not be found in the data: DIB ,weight_interp\n",
      "  ,KBF_interp\"\n",
      "Warning message:\n",
      "\"Following potential variables could not be found in the data: DIB ,weight_interp\n",
      "  ,KBF_interp\"\n",
      "Warning message:\n",
      "\"Following potential variables could not be found in the data: DIB ,weight_interp\n",
      "  ,KBF_interp\"\n",
      "Warning message:\n",
      "\"Following potential variables could not be found in the data: DIB ,weight_interp\n",
      "  ,nbr_h_per_day\"\n",
      "Warning message:\n",
      "\"Following potential variables could not be found in the data: DIB ,weight_interp\n",
      "  ,KBF_interp\"\n",
      "Warning message:\n",
      "\"Following potential variables could not be found in the data: DIB ,weight_interp\n",
      "  ,KBF_interp\"\n",
      "Warning message:\n",
      "\"Following potential variables could not be found in the data: DIB ,weight_interp\n",
      "  ,KBF_interp\"\n",
      "Warning message:\n",
      "\"Following potential variables could not be found in the data: DIB ,weight_interp\n",
      "  ,nbr_h_per_day\"\n",
      "Warning message:\n",
      "\"Following potential variables could not be found in the data: DIB ,weight_interp\n",
      "  ,KBF_interp\"\n",
      "Warning message:\n",
      "\"Following potential variables could not be found in the data: DIB ,weight_interp\n",
      "  ,KBF_interp\"\n",
      "Warning message:\n",
      "\"Following potential variables could not be found in the data: DIB ,weight_interp\n",
      "  ,KBF_interp\"\n",
      "Warning message:\n",
      "\"Following potential variables could not be found in the data: DIB ,weight_interp\n",
      "  ,KBF_interp\"\n",
      "Warning message:\n",
      "\"Following potential variables could not be found in the data: DIB ,weight_interp\n",
      "  ,KBF_interp\"\n",
      "Warning message:\n",
      "\"Following potential variables could not be found in the data: DIB ,weight_interp\n",
      "  ,KBF_interp\"\n",
      "Warning message:\n",
      "\"Following potential variables could not be found in the data: DIB ,weight_interp\n",
      "  ,KBF_interp\"\n",
      "Warning message:\n",
      "\"Following potential variables could not be found in the data: DIB ,weight_interp\n",
      "  ,KBF_interp\"\n",
      "Warning message:\n",
      "\"Following potential variables could not be found in the data: DIB ,weight_interp\n",
      "  ,KBF_interp\"\n",
      "Warning message:\n",
      "\"Following potential variables could not be found in the data: DIB ,weight_interp\n",
      "  ,KBF_interp\"\n",
      "Warning message:\n",
      "\"Following potential variables could not be found in the data: DIB ,weight_interp\n",
      "  ,KBF_interp\"\n",
      "Warning message:\n",
      "\"Following potential variables could not be found in the data: DIB ,weight_interp\n",
      "  ,KBF_interp\"\n",
      "Warning message:\n",
      "\"Following potential variables could not be found in the data: DIB ,weight_interp\n",
      "  ,KBF_interp\"\n",
      "Warning message:\n",
      "\"Following potential variables could not be found in the data: DIB ,weight_interp\n",
      "  ,KBF_interp\"\n",
      "Warning message:\n",
      "\"Following potential variables could not be found in the data: DIB ,weight_interp\n",
      "  ,KBF_interp\"\n"
     ]
    }
   ],
   "source": [
    "var = 'propindoor_duration_4_Zone_rs'\n",
    "path_visual_ = file.path(path_visual, var)\n",
    "dir.create(path_visual_)\n",
    "dim(df)\n",
    "#as until then they only use it as a transitional zone\n",
    "df_ = subset(df, !is.na(propindoor_duration_4_Zone_rs))\n",
    "dim(df_)\n",
    "df_ = df_[df_['HenID']!='hen_199', ]\n",
    "dim(df_)\n",
    "li_model = list()\n",
    "for (i in 2:10){\n",
    "    monthILBID = paste0('month',i)\n",
    "    print(monthILBID)\n",
    "    df__ = df_[df_$monthILB==monthILBID,]\n",
    "    print(dim(df__))\n",
    "    #monthILB1-monthILB2: no KBF but nbr_h_per_day_sc, after KBF but no nbr_h_per_day_sc\n",
    "    if (monthILBID %in% c('month1', 'month2')){\n",
    "        fit_nopenid = glmmTMB(propindoor_duration_4_Zone_rs ~  CLASS+ Treatment + rescale(DIB) + rescale(weight_interp)+ rescale(nbr_h_per_day)+(1|HenID), \n",
    "                   data=df__, family=beta_family(link=\"logit\"))\n",
    "        fit_penid = glmmTMB(propindoor_duration_4_Zone_rs ~  CLASS+ Treatment + rescale(DIB) + rescale(weight_interp)+ rescale(nbr_h_per_day)+(1|PenID/HenID), \n",
    "                   data=df__, family=beta_family(link=\"logit\"))}\n",
    "    else{\n",
    "        fit_nopenid = glmmTMB(propindoor_duration_4_Zone_rs ~  CLASS + Treatment + rescale(DIB) +rescale(weight_interp)+ rescale(KBF_interp) + (1|HenID), \n",
    "                   data=df__, family=beta_family(link=\"logit\"))\n",
    "        fit_penid = glmmTMB(propindoor_duration_4_Zone_rs ~  CLASS + Treatment + rescale(DIB) +rescale(weight_interp)+ rescale(KBF_interp) + (1|PenID/HenID), \n",
    "                   data=df__, family=beta_family(link=\"logit\"))}\n",
    "    print(anova(fit_nopenid,fit_penid))\n",
    "    p_value = anova(fit_nopenid,fit_penid)['Pr(>Chisq)']['fit_penid',]\n",
    "    if (p_value<0.05){\n",
    "        fit = fit_penid    \n",
    "    }else{\n",
    "        fit = fit_nopenid    \n",
    "    }\n",
    "    \n",
    "    li_model[[i]] = fit\n",
    "    write.csv(summary(fit)['coefficients']$coefficients$cond, file=file.path(path_visual_, paste0(var,monthILBID,'.csv')) )\n",
    "    \n",
    "    set.seed(0)\n",
    "    simulationOutput = simulateResiduals(fittedModel=fit)\n",
    "    tiff(file.path(path_visual_, paste0(var,'_SimRes1',monthILBID,'.tiff')), width=400, height=400)\n",
    "    print(plot(simulationOutput))\n",
    "    dev.off()\n",
    "    \n",
    "    tiff(file.path(path_visual_, paste0(var,'_SimRes2',monthILBID,'.tiff')), width=400, height=400)\n",
    "    print(plotResiduals(simulationOutput, form = df__$Treatment))\n",
    "    dev.off()\n",
    "}\n",
    "\n",
    "#to match the colors and modelID, put as model 1 the model2. then, we will remove it\n",
    "li_model[[1]] = li_model[[2]]\n",
    "\n",
    "tiff(file.path(path_visual_, paste0(var,'_OFHCoeff','.tiff')), width=400, height=400)\n",
    "plot_summs(li_model[1:10], coefs=c('TreatmentOFH'), colors='Rainbow', legend.title=var, exp=TRUE)\n",
    "dev.off()\n",
    "tab_model(li_model[2:5], collapse.ci = TRUE, p.style = \"numeric_stars\", file=file.path(path_visual_, paste0(var,'_TableModel1-5.doc')))\n",
    "tab_model(li_model[6:10], collapse.ci = TRUE, p.style = \"numeric_stars\", file=file.path(path_visual_, paste0(var,'_TableModel6-10.doc')))"
   ]
  },
  {
   "cell_type": "markdown",
   "id": "915fce89",
   "metadata": {},
   "source": [
    "# WG"
   ]
  },
  {
   "cell_type": "code",
   "execution_count": 53,
   "id": "90d1b2e4",
   "metadata": {
    "scrolled": true
   },
   "outputs": [
    {
     "name": "stderr",
     "output_type": "stream",
     "text": [
      "Warning message in dir.create(path_visual_):\n",
      "\"'G:\\VPHI\\Welfare\\2- Research Projects\\OFHE2.OriginsE2\\DataOutput\\TrackingSystem\\ALLDATA_\\OFH_model\\Month_final_PenIDWhenNeeded\\WentinWG' existe déjà\"\n"
     ]
    },
    {
     "data": {
      "text/html": [
       "<style>\n",
       ".list-inline {list-style: none; margin:0; padding: 0}\n",
       ".list-inline>li {display: inline-block}\n",
       ".list-inline>li:not(:last-child)::after {content: \"\\00b7\"; padding: 0 .5ex}\n",
       "</style>\n",
       "<ol class=list-inline><li>37455</li><li>26</li></ol>\n"
      ],
      "text/latex": [
       "\\begin{enumerate*}\n",
       "\\item 37455\n",
       "\\item 26\n",
       "\\end{enumerate*}\n"
      ],
      "text/markdown": [
       "1. 37455\n",
       "2. 26\n",
       "\n",
       "\n"
      ],
      "text/plain": [
       "[1] 37455    26"
      ]
     },
     "metadata": {},
     "output_type": "display_data"
    },
    {
     "data": {
      "text/html": [
       "<style>\n",
       ".list-inline {list-style: none; margin:0; padding: 0}\n",
       ".list-inline>li {display: inline-block}\n",
       ".list-inline>li:not(:last-child)::after {content: \"\\00b7\"; padding: 0 .5ex}\n",
       "</style>\n",
       "<ol class=list-inline><li>35847</li><li>26</li></ol>\n"
      ],
      "text/latex": [
       "\\begin{enumerate*}\n",
       "\\item 35847\n",
       "\\item 26\n",
       "\\end{enumerate*}\n"
      ],
      "text/markdown": [
       "1. 35847\n",
       "2. 26\n",
       "\n",
       "\n"
      ],
      "text/plain": [
       "[1] 35847    26"
      ]
     },
     "metadata": {},
     "output_type": "display_data"
    },
    {
     "data": {
      "text/html": [
       "<style>\n",
       ".list-inline {list-style: none; margin:0; padding: 0}\n",
       ".list-inline>li {display: inline-block}\n",
       ".list-inline>li:not(:last-child)::after {content: \"\\00b7\"; padding: 0 .5ex}\n",
       "</style>\n",
       "<ol class=list-inline><li>35533</li><li>26</li></ol>\n"
      ],
      "text/latex": [
       "\\begin{enumerate*}\n",
       "\\item 35533\n",
       "\\item 26\n",
       "\\end{enumerate*}\n"
      ],
      "text/markdown": [
       "1. 35533\n",
       "2. 26\n",
       "\n",
       "\n"
      ],
      "text/plain": [
       "[1] 35533    26"
      ]
     },
     "metadata": {},
     "output_type": "display_data"
    },
    {
     "name": "stdout",
     "output_type": "stream",
     "text": [
      "[1] \"month1\"\n"
     ]
    },
    {
     "name": "stderr",
     "output_type": "stream",
     "text": [
      "Warning message in Matrix::sparseMatrix(dims = c(0, 0), i = integer(0), j = integer(0), :\n",
      "\"'giveCsparse' has been deprecated; setting 'repr = \"T\"' for you\"\n",
      "Warning message in Matrix::sparseMatrix(dims = c(0, 0), i = integer(0), j = integer(0), :\n",
      "\"'giveCsparse' has been deprecated; setting 'repr = \"T\"' for you\"\n",
      "Warning message in Matrix::sparseMatrix(dims = c(0, 0), i = integer(0), j = integer(0), :\n",
      "\"'giveCsparse' has been deprecated; setting 'repr = \"T\"' for you\"\n",
      "Warning message in Matrix::sparseMatrix(dims = c(0, 0), i = integer(0), j = integer(0), :\n",
      "\"'giveCsparse' has been deprecated; setting 'repr = \"T\"' for you\"\n",
      "Warning message in Matrix::sparseMatrix(dims = c(0, 0), i = integer(0), j = integer(0), :\n",
      "\"'giveCsparse' has been deprecated; setting 'repr = \"T\"' for you\"\n",
      "Warning message in Matrix::sparseMatrix(dims = c(0, 0), i = integer(0), j = integer(0), :\n",
      "\"'giveCsparse' has been deprecated; setting 'repr = \"T\"' for you\"\n"
     ]
    },
    {
     "name": "stdout",
     "output_type": "stream",
     "text": [
      "Data: df__\n",
      "Models:\n",
      "fit_nopenid: WentinWG ~ CLASS + Treatment + rescale(DIB) + rescale(weight_interp) + , zi=~0, disp=~1\n",
      "fit_nopenid:     rescale(nbr_h_per_day) + rescale(nbr_h_WGopen) + rescale(temperature_C_avg) + , zi=~0, disp=~1\n",
      "fit_nopenid:     (1 | HenID), zi=~0, disp=~1\n",
      "fit_penid: WentinWG ~ CLASS + Treatment + rescale(DIB) + rescale(weight_interp) + , zi=~0, disp=~1\n",
      "fit_penid:     rescale(nbr_h_per_day) + rescale(nbr_h_WGopen) + rescale(temperature_C_avg) + , zi=~0, disp=~1\n",
      "fit_penid:     (1 | PenID/HenID), zi=~0, disp=~1\n",
      "            Df  AIC    BIC  logLik deviance Chisq Chi Df Pr(>Chisq)\n",
      "fit_nopenid 10 2323 2381.9 -1151.5     2303                        \n",
      "fit_penid   11 2325 2389.8 -1151.5     2303     0      1          1\n"
     ]
    },
    {
     "name": "stderr",
     "output_type": "stream",
     "text": [
      "Warning message in Matrix::sparseMatrix(dims = c(0, 0), i = integer(0), j = integer(0), :\n",
      "\"'giveCsparse' has been deprecated; setting 'repr = \"T\"' for you\"\n",
      "Warning message in Matrix::sparseMatrix(dims = c(0, 0), i = integer(0), j = integer(0), :\n",
      "\"'giveCsparse' has been deprecated; setting 'repr = \"T\"' for you\"\n",
      "Warning message in Matrix::sparseMatrix(dims = c(0, 0), i = integer(0), j = integer(0), :\n",
      "\"'giveCsparse' has been deprecated; setting 'repr = \"T\"' for you\"\n",
      "Warning message in Matrix::sparseMatrix(dims = c(0, 0), i = integer(0), j = integer(0), :\n",
      "\"'giveCsparse' has been deprecated; setting 'repr = \"T\"' for you\"\n",
      "Warning message in Matrix::sparseMatrix(dims = c(0, 0), i = integer(0), j = integer(0), :\n",
      "\"'giveCsparse' has been deprecated; setting 'repr = \"T\"' for you\"\n",
      "Warning message in Matrix::sparseMatrix(dims = c(0, 0), i = integer(0), j = integer(0), :\n",
      "\"'giveCsparse' has been deprecated; setting 'repr = \"T\"' for you\"\n"
     ]
    },
    {
     "name": "stdout",
     "output_type": "stream",
     "text": [
      "NULL\n",
      "NULL\n",
      "[1] \"month2\"\n"
     ]
    },
    {
     "name": "stderr",
     "output_type": "stream",
     "text": [
      "Warning message in Matrix::sparseMatrix(dims = c(0, 0), i = integer(0), j = integer(0), :\n",
      "\"'giveCsparse' has been deprecated; setting 'repr = \"T\"' for you\"\n",
      "Warning message in Matrix::sparseMatrix(dims = c(0, 0), i = integer(0), j = integer(0), :\n",
      "\"'giveCsparse' has been deprecated; setting 'repr = \"T\"' for you\"\n",
      "Warning message in Matrix::sparseMatrix(dims = c(0, 0), i = integer(0), j = integer(0), :\n",
      "\"'giveCsparse' has been deprecated; setting 'repr = \"T\"' for you\"\n",
      "Warning message in Matrix::sparseMatrix(dims = c(0, 0), i = integer(0), j = integer(0), :\n",
      "\"'giveCsparse' has been deprecated; setting 'repr = \"T\"' for you\"\n",
      "Warning message in Matrix::sparseMatrix(dims = c(0, 0), i = integer(0), j = integer(0), :\n",
      "\"'giveCsparse' has been deprecated; setting 'repr = \"T\"' for you\"\n",
      "Warning message in Matrix::sparseMatrix(dims = c(0, 0), i = integer(0), j = integer(0), :\n",
      "\"'giveCsparse' has been deprecated; setting 'repr = \"T\"' for you\"\n"
     ]
    },
    {
     "name": "stdout",
     "output_type": "stream",
     "text": [
      "Data: df__\n",
      "Models:\n",
      "fit_nopenid: WentinWG ~ CLASS + Treatment + rescale(DIB) + rescale(weight_interp) + , zi=~0, disp=~1\n",
      "fit_nopenid:     rescale(nbr_h_per_day) + rescale(nbr_h_WGopen) + rescale(temperature_C_avg) + , zi=~0, disp=~1\n",
      "fit_nopenid:     (1 | HenID), zi=~0, disp=~1\n",
      "fit_penid: WentinWG ~ CLASS + Treatment + rescale(DIB) + rescale(weight_interp) + , zi=~0, disp=~1\n",
      "fit_penid:     rescale(nbr_h_per_day) + rescale(nbr_h_WGopen) + rescale(temperature_C_avg) + , zi=~0, disp=~1\n",
      "fit_penid:     (1 | PenID/HenID), zi=~0, disp=~1\n",
      "            Df    AIC    BIC  logLik deviance Chisq Chi Df Pr(>Chisq)\n",
      "fit_nopenid 10 3264.9 3328.0 -1622.4   3244.9                        \n",
      "fit_penid   11 3266.9 3336.3 -1622.4   3244.9     0      1          1\n"
     ]
    },
    {
     "name": "stderr",
     "output_type": "stream",
     "text": [
      "Warning message in Matrix::sparseMatrix(dims = c(0, 0), i = integer(0), j = integer(0), :\n",
      "\"'giveCsparse' has been deprecated; setting 'repr = \"T\"' for you\"\n",
      "Warning message in Matrix::sparseMatrix(dims = c(0, 0), i = integer(0), j = integer(0), :\n",
      "\"'giveCsparse' has been deprecated; setting 'repr = \"T\"' for you\"\n",
      "Warning message in Matrix::sparseMatrix(dims = c(0, 0), i = integer(0), j = integer(0), :\n",
      "\"'giveCsparse' has been deprecated; setting 'repr = \"T\"' for you\"\n",
      "Warning message in Matrix::sparseMatrix(dims = c(0, 0), i = integer(0), j = integer(0), :\n",
      "\"'giveCsparse' has been deprecated; setting 'repr = \"T\"' for you\"\n",
      "Warning message in Matrix::sparseMatrix(dims = c(0, 0), i = integer(0), j = integer(0), :\n",
      "\"'giveCsparse' has been deprecated; setting 'repr = \"T\"' for you\"\n",
      "Warning message in Matrix::sparseMatrix(dims = c(0, 0), i = integer(0), j = integer(0), :\n",
      "\"'giveCsparse' has been deprecated; setting 'repr = \"T\"' for you\"\n"
     ]
    },
    {
     "name": "stdout",
     "output_type": "stream",
     "text": [
      "NULL\n",
      "NULL\n",
      "[1] \"month3\"\n"
     ]
    },
    {
     "name": "stderr",
     "output_type": "stream",
     "text": [
      "Warning message in Matrix::sparseMatrix(dims = c(0, 0), i = integer(0), j = integer(0), :\n",
      "\"'giveCsparse' has been deprecated; setting 'repr = \"T\"' for you\"\n",
      "Warning message in Matrix::sparseMatrix(dims = c(0, 0), i = integer(0), j = integer(0), :\n",
      "\"'giveCsparse' has been deprecated; setting 'repr = \"T\"' for you\"\n",
      "Warning message in Matrix::sparseMatrix(dims = c(0, 0), i = integer(0), j = integer(0), :\n",
      "\"'giveCsparse' has been deprecated; setting 'repr = \"T\"' for you\"\n",
      "Warning message in Matrix::sparseMatrix(dims = c(0, 0), i = integer(0), j = integer(0), :\n",
      "\"'giveCsparse' has been deprecated; setting 'repr = \"T\"' for you\"\n",
      "Warning message in Matrix::sparseMatrix(dims = c(0, 0), i = integer(0), j = integer(0), :\n",
      "\"'giveCsparse' has been deprecated; setting 'repr = \"T\"' for you\"\n",
      "Warning message in Matrix::sparseMatrix(dims = c(0, 0), i = integer(0), j = integer(0), :\n",
      "\"'giveCsparse' has been deprecated; setting 'repr = \"T\"' for you\"\n"
     ]
    },
    {
     "name": "stdout",
     "output_type": "stream",
     "text": [
      "Data: df__\n",
      "Models:\n",
      "fit_nopenid: WentinWG ~ CLASS + Treatment + rescale(DIB) + rescale(weight_interp) + , zi=~0, disp=~1\n",
      "fit_nopenid:     rescale(KBF_interp) + rescale(nbr_h_WGopen) + rescale(temperature_C_avg) + , zi=~0, disp=~1\n",
      "fit_nopenid:     (1 | HenID), zi=~0, disp=~1\n",
      "fit_penid: WentinWG ~ CLASS + Treatment + rescale(DIB) + rescale(weight_interp) + , zi=~0, disp=~1\n",
      "fit_penid:     rescale(KBF_interp) + rescale(nbr_h_WGopen) + rescale(temperature_C_avg) + , zi=~0, disp=~1\n",
      "fit_penid:     (1 | PenID/HenID), zi=~0, disp=~1\n",
      "            Df    AIC    BIC logLik deviance Chisq Chi Df Pr(>Chisq)\n",
      "fit_nopenid 10 3420.1 3484.1  -1700   3400.1                        \n",
      "fit_penid   11 3422.1 3492.5  -1700   3400.1     0      1          1\n"
     ]
    },
    {
     "name": "stderr",
     "output_type": "stream",
     "text": [
      "Warning message in Matrix::sparseMatrix(dims = c(0, 0), i = integer(0), j = integer(0), :\n",
      "\"'giveCsparse' has been deprecated; setting 'repr = \"T\"' for you\"\n",
      "Warning message in Matrix::sparseMatrix(dims = c(0, 0), i = integer(0), j = integer(0), :\n",
      "\"'giveCsparse' has been deprecated; setting 'repr = \"T\"' for you\"\n",
      "Warning message in Matrix::sparseMatrix(dims = c(0, 0), i = integer(0), j = integer(0), :\n",
      "\"'giveCsparse' has been deprecated; setting 'repr = \"T\"' for you\"\n",
      "Warning message in Matrix::sparseMatrix(dims = c(0, 0), i = integer(0), j = integer(0), :\n",
      "\"'giveCsparse' has been deprecated; setting 'repr = \"T\"' for you\"\n",
      "Warning message in Matrix::sparseMatrix(dims = c(0, 0), i = integer(0), j = integer(0), :\n",
      "\"'giveCsparse' has been deprecated; setting 'repr = \"T\"' for you\"\n",
      "Warning message in Matrix::sparseMatrix(dims = c(0, 0), i = integer(0), j = integer(0), :\n",
      "\"'giveCsparse' has been deprecated; setting 'repr = \"T\"' for you\"\n"
     ]
    },
    {
     "name": "stdout",
     "output_type": "stream",
     "text": [
      "NULL\n",
      "NULL\n",
      "[1] \"month4\"\n"
     ]
    },
    {
     "name": "stderr",
     "output_type": "stream",
     "text": [
      "Warning message in Matrix::sparseMatrix(dims = c(0, 0), i = integer(0), j = integer(0), :\n",
      "\"'giveCsparse' has been deprecated; setting 'repr = \"T\"' for you\"\n",
      "Warning message in Matrix::sparseMatrix(dims = c(0, 0), i = integer(0), j = integer(0), :\n",
      "\"'giveCsparse' has been deprecated; setting 'repr = \"T\"' for you\"\n",
      "Warning message in Matrix::sparseMatrix(dims = c(0, 0), i = integer(0), j = integer(0), :\n",
      "\"'giveCsparse' has been deprecated; setting 'repr = \"T\"' for you\"\n",
      "Warning message in Matrix::sparseMatrix(dims = c(0, 0), i = integer(0), j = integer(0), :\n",
      "\"'giveCsparse' has been deprecated; setting 'repr = \"T\"' for you\"\n",
      "Warning message in Matrix::sparseMatrix(dims = c(0, 0), i = integer(0), j = integer(0), :\n",
      "\"'giveCsparse' has been deprecated; setting 'repr = \"T\"' for you\"\n",
      "Warning message in Matrix::sparseMatrix(dims = c(0, 0), i = integer(0), j = integer(0), :\n",
      "\"'giveCsparse' has been deprecated; setting 'repr = \"T\"' for you\"\n"
     ]
    },
    {
     "name": "stdout",
     "output_type": "stream",
     "text": [
      "Data: df__\n",
      "Models:\n",
      "fit_nopenid: WentinWG ~ CLASS + Treatment + rescale(DIB) + rescale(weight_interp) + , zi=~0, disp=~1\n",
      "fit_nopenid:     rescale(KBF_interp) + rescale(nbr_h_WGopen) + rescale(temperature_C_avg) + , zi=~0, disp=~1\n",
      "fit_nopenid:     (1 | HenID), zi=~0, disp=~1\n",
      "fit_penid: WentinWG ~ CLASS + Treatment + rescale(DIB) + rescale(weight_interp) + , zi=~0, disp=~1\n",
      "fit_penid:     rescale(KBF_interp) + rescale(nbr_h_WGopen) + rescale(temperature_C_avg) + , zi=~0, disp=~1\n",
      "fit_penid:     (1 | PenID/HenID), zi=~0, disp=~1\n",
      "            Df    AIC    BIC  logLik deviance Chisq Chi Df Pr(>Chisq)\n",
      "fit_nopenid 10 2867.4 2929.0 -1423.7   2847.4                        \n",
      "fit_penid   11 2868.9 2936.7 -1423.5   2846.9 0.458      1     0.4986\n"
     ]
    },
    {
     "name": "stderr",
     "output_type": "stream",
     "text": [
      "Warning message in Matrix::sparseMatrix(dims = c(0, 0), i = integer(0), j = integer(0), :\n",
      "\"'giveCsparse' has been deprecated; setting 'repr = \"T\"' for you\"\n",
      "Warning message in Matrix::sparseMatrix(dims = c(0, 0), i = integer(0), j = integer(0), :\n",
      "\"'giveCsparse' has been deprecated; setting 'repr = \"T\"' for you\"\n",
      "Warning message in Matrix::sparseMatrix(dims = c(0, 0), i = integer(0), j = integer(0), :\n",
      "\"'giveCsparse' has been deprecated; setting 'repr = \"T\"' for you\"\n",
      "Warning message in Matrix::sparseMatrix(dims = c(0, 0), i = integer(0), j = integer(0), :\n",
      "\"'giveCsparse' has been deprecated; setting 'repr = \"T\"' for you\"\n",
      "Warning message in Matrix::sparseMatrix(dims = c(0, 0), i = integer(0), j = integer(0), :\n",
      "\"'giveCsparse' has been deprecated; setting 'repr = \"T\"' for you\"\n",
      "Warning message in Matrix::sparseMatrix(dims = c(0, 0), i = integer(0), j = integer(0), :\n",
      "\"'giveCsparse' has been deprecated; setting 'repr = \"T\"' for you\"\n",
      "DHARMa:testOutliers with type = binomial may have inflated Type I error rates for integer-valued distributions. To get a more exact result, it is recommended to re-run testOutliers with type = 'bootstrap'. See ?testOutliers for details\n",
      "\n"
     ]
    },
    {
     "name": "stdout",
     "output_type": "stream",
     "text": [
      "NULL\n",
      "NULL\n",
      "[1] \"month5\"\n"
     ]
    },
    {
     "name": "stderr",
     "output_type": "stream",
     "text": [
      "Warning message in Matrix::sparseMatrix(dims = c(0, 0), i = integer(0), j = integer(0), :\n",
      "\"'giveCsparse' has been deprecated; setting 'repr = \"T\"' for you\"\n",
      "Warning message in Matrix::sparseMatrix(dims = c(0, 0), i = integer(0), j = integer(0), :\n",
      "\"'giveCsparse' has been deprecated; setting 'repr = \"T\"' for you\"\n",
      "Warning message in Matrix::sparseMatrix(dims = c(0, 0), i = integer(0), j = integer(0), :\n",
      "\"'giveCsparse' has been deprecated; setting 'repr = \"T\"' for you\"\n",
      "Warning message in Matrix::sparseMatrix(dims = c(0, 0), i = integer(0), j = integer(0), :\n",
      "\"'giveCsparse' has been deprecated; setting 'repr = \"T\"' for you\"\n",
      "Warning message in Matrix::sparseMatrix(dims = c(0, 0), i = integer(0), j = integer(0), :\n",
      "\"'giveCsparse' has been deprecated; setting 'repr = \"T\"' for you\"\n",
      "Warning message in Matrix::sparseMatrix(dims = c(0, 0), i = integer(0), j = integer(0), :\n",
      "\"'giveCsparse' has been deprecated; setting 'repr = \"T\"' for you\"\n"
     ]
    },
    {
     "name": "stdout",
     "output_type": "stream",
     "text": [
      "Data: df__\n",
      "Models:\n",
      "fit_nopenid: WentinWG ~ CLASS + Treatment + rescale(DIB) + rescale(weight_interp) + , zi=~0, disp=~1\n",
      "fit_nopenid:     rescale(KBF_interp) + rescale(nbr_h_WGopen) + rescale(temperature_C_avg) + , zi=~0, disp=~1\n",
      "fit_nopenid:     (1 | HenID), zi=~0, disp=~1\n",
      "fit_penid: WentinWG ~ CLASS + Treatment + rescale(DIB) + rescale(weight_interp) + , zi=~0, disp=~1\n",
      "fit_penid:     rescale(KBF_interp) + rescale(nbr_h_WGopen) + rescale(temperature_C_avg) + , zi=~0, disp=~1\n",
      "fit_penid:     (1 | PenID/HenID), zi=~0, disp=~1\n",
      "            Df    AIC    BIC  logLik deviance  Chisq Chi Df Pr(>Chisq)  \n",
      "fit_nopenid 10 2620.6 2681.6 -1300.3   2600.6                           \n",
      "fit_penid   11 2617.9 2684.9 -1298.0   2595.9 4.7061      1    0.03006 *\n",
      "---\n",
      "Signif. codes:  0 '***' 0.001 '**' 0.01 '*' 0.05 '.' 0.1 ' ' 1\n"
     ]
    },
    {
     "name": "stderr",
     "output_type": "stream",
     "text": [
      "Warning message in Matrix::sparseMatrix(dims = c(0, 0), i = integer(0), j = integer(0), :\n",
      "\"'giveCsparse' has been deprecated; setting 'repr = \"T\"' for you\"\n",
      "Warning message in Matrix::sparseMatrix(dims = c(0, 0), i = integer(0), j = integer(0), :\n",
      "\"'giveCsparse' has been deprecated; setting 'repr = \"T\"' for you\"\n",
      "Warning message in Matrix::sparseMatrix(dims = c(0, 0), i = integer(0), j = integer(0), :\n",
      "\"'giveCsparse' has been deprecated; setting 'repr = \"T\"' for you\"\n",
      "Warning message in Matrix::sparseMatrix(dims = c(0, 0), i = integer(0), j = integer(0), :\n",
      "\"'giveCsparse' has been deprecated; setting 'repr = \"T\"' for you\"\n",
      "Warning message in Matrix::sparseMatrix(dims = c(0, 0), i = integer(0), j = integer(0), :\n",
      "\"'giveCsparse' has been deprecated; setting 'repr = \"T\"' for you\"\n",
      "Warning message in Matrix::sparseMatrix(dims = c(0, 0), i = integer(0), j = integer(0), :\n",
      "\"'giveCsparse' has been deprecated; setting 'repr = \"T\"' for you\"\n"
     ]
    },
    {
     "name": "stdout",
     "output_type": "stream",
     "text": [
      "NULL\n",
      "NULL\n",
      "[1] \"month6\"\n"
     ]
    },
    {
     "name": "stderr",
     "output_type": "stream",
     "text": [
      "Warning message in Matrix::sparseMatrix(dims = c(0, 0), i = integer(0), j = integer(0), :\n",
      "\"'giveCsparse' has been deprecated; setting 'repr = \"T\"' for you\"\n",
      "Warning message in Matrix::sparseMatrix(dims = c(0, 0), i = integer(0), j = integer(0), :\n",
      "\"'giveCsparse' has been deprecated; setting 'repr = \"T\"' for you\"\n",
      "Warning message in Matrix::sparseMatrix(dims = c(0, 0), i = integer(0), j = integer(0), :\n",
      "\"'giveCsparse' has been deprecated; setting 'repr = \"T\"' for you\"\n",
      "Warning message in Matrix::sparseMatrix(dims = c(0, 0), i = integer(0), j = integer(0), :\n",
      "\"'giveCsparse' has been deprecated; setting 'repr = \"T\"' for you\"\n",
      "Warning message in Matrix::sparseMatrix(dims = c(0, 0), i = integer(0), j = integer(0), :\n",
      "\"'giveCsparse' has been deprecated; setting 'repr = \"T\"' for you\"\n",
      "Warning message in Matrix::sparseMatrix(dims = c(0, 0), i = integer(0), j = integer(0), :\n",
      "\"'giveCsparse' has been deprecated; setting 'repr = \"T\"' for you\"\n"
     ]
    },
    {
     "name": "stdout",
     "output_type": "stream",
     "text": [
      "Data: df__\n",
      "Models:\n",
      "fit_nopenid: WentinWG ~ CLASS + Treatment + rescale(DIB) + rescale(weight_interp) + , zi=~0, disp=~1\n",
      "fit_nopenid:     rescale(KBF_interp) + rescale(nbr_h_WGopen) + rescale(temperature_C_avg) + , zi=~0, disp=~1\n",
      "fit_nopenid:     (1 | HenID), zi=~0, disp=~1\n",
      "fit_penid: WentinWG ~ CLASS + Treatment + rescale(DIB) + rescale(weight_interp) + , zi=~0, disp=~1\n",
      "fit_penid:     rescale(KBF_interp) + rescale(nbr_h_WGopen) + rescale(temperature_C_avg) + , zi=~0, disp=~1\n",
      "fit_penid:     (1 | PenID/HenID), zi=~0, disp=~1\n",
      "            Df    AIC    BIC  logLik deviance  Chisq Chi Df Pr(>Chisq)\n",
      "fit_nopenid 10 3410.3 3473.8 -1695.2   3390.3                         \n",
      "fit_penid   11 3411.7 3481.5 -1694.8   3389.7 0.6311      1      0.427\n"
     ]
    },
    {
     "name": "stderr",
     "output_type": "stream",
     "text": [
      "Warning message in Matrix::sparseMatrix(dims = c(0, 0), i = integer(0), j = integer(0), :\n",
      "\"'giveCsparse' has been deprecated; setting 'repr = \"T\"' for you\"\n",
      "Warning message in Matrix::sparseMatrix(dims = c(0, 0), i = integer(0), j = integer(0), :\n",
      "\"'giveCsparse' has been deprecated; setting 'repr = \"T\"' for you\"\n",
      "Warning message in Matrix::sparseMatrix(dims = c(0, 0), i = integer(0), j = integer(0), :\n",
      "\"'giveCsparse' has been deprecated; setting 'repr = \"T\"' for you\"\n",
      "Warning message in Matrix::sparseMatrix(dims = c(0, 0), i = integer(0), j = integer(0), :\n",
      "\"'giveCsparse' has been deprecated; setting 'repr = \"T\"' for you\"\n",
      "Warning message in Matrix::sparseMatrix(dims = c(0, 0), i = integer(0), j = integer(0), :\n",
      "\"'giveCsparse' has been deprecated; setting 'repr = \"T\"' for you\"\n",
      "Warning message in Matrix::sparseMatrix(dims = c(0, 0), i = integer(0), j = integer(0), :\n",
      "\"'giveCsparse' has been deprecated; setting 'repr = \"T\"' for you\"\n"
     ]
    },
    {
     "name": "stdout",
     "output_type": "stream",
     "text": [
      "NULL\n",
      "NULL\n",
      "[1] \"month7\"\n"
     ]
    },
    {
     "name": "stderr",
     "output_type": "stream",
     "text": [
      "Warning message in Matrix::sparseMatrix(dims = c(0, 0), i = integer(0), j = integer(0), :\n",
      "\"'giveCsparse' has been deprecated; setting 'repr = \"T\"' for you\"\n",
      "Warning message in Matrix::sparseMatrix(dims = c(0, 0), i = integer(0), j = integer(0), :\n",
      "\"'giveCsparse' has been deprecated; setting 'repr = \"T\"' for you\"\n",
      "Warning message in Matrix::sparseMatrix(dims = c(0, 0), i = integer(0), j = integer(0), :\n",
      "\"'giveCsparse' has been deprecated; setting 'repr = \"T\"' for you\"\n",
      "Warning message in Matrix::sparseMatrix(dims = c(0, 0), i = integer(0), j = integer(0), :\n",
      "\"'giveCsparse' has been deprecated; setting 'repr = \"T\"' for you\"\n",
      "Warning message in Matrix::sparseMatrix(dims = c(0, 0), i = integer(0), j = integer(0), :\n",
      "\"'giveCsparse' has been deprecated; setting 'repr = \"T\"' for you\"\n",
      "Warning message in Matrix::sparseMatrix(dims = c(0, 0), i = integer(0), j = integer(0), :\n",
      "\"'giveCsparse' has been deprecated; setting 'repr = \"T\"' for you\"\n"
     ]
    },
    {
     "name": "stdout",
     "output_type": "stream",
     "text": [
      "Data: df__\n",
      "Models:\n",
      "fit_nopenid: WentinWG ~ CLASS + Treatment + rescale(DIB) + rescale(weight_interp) + , zi=~0, disp=~1\n",
      "fit_nopenid:     rescale(KBF_interp) + rescale(nbr_h_WGopen) + rescale(temperature_C_avg) + , zi=~0, disp=~1\n",
      "fit_nopenid:     (1 | HenID), zi=~0, disp=~1\n",
      "fit_penid: WentinWG ~ CLASS + Treatment + rescale(DIB) + rescale(weight_interp) + , zi=~0, disp=~1\n",
      "fit_penid:     rescale(KBF_interp) + rescale(nbr_h_WGopen) + rescale(temperature_C_avg) + , zi=~0, disp=~1\n",
      "fit_penid:     (1 | PenID/HenID), zi=~0, disp=~1\n",
      "            Df    AIC    BIC  logLik deviance  Chisq Chi Df Pr(>Chisq)  \n",
      "fit_nopenid 10 3493.9 3557.1 -1737.0   3473.9                           \n",
      "fit_penid   11 3492.2 3561.7 -1735.1   3470.2 3.7421      1    0.05306 .\n",
      "---\n",
      "Signif. codes:  0 '***' 0.001 '**' 0.01 '*' 0.05 '.' 0.1 ' ' 1\n"
     ]
    },
    {
     "name": "stderr",
     "output_type": "stream",
     "text": [
      "Warning message in Matrix::sparseMatrix(dims = c(0, 0), i = integer(0), j = integer(0), :\n",
      "\"'giveCsparse' has been deprecated; setting 'repr = \"T\"' for you\"\n",
      "Warning message in Matrix::sparseMatrix(dims = c(0, 0), i = integer(0), j = integer(0), :\n",
      "\"'giveCsparse' has been deprecated; setting 'repr = \"T\"' for you\"\n",
      "Warning message in Matrix::sparseMatrix(dims = c(0, 0), i = integer(0), j = integer(0), :\n",
      "\"'giveCsparse' has been deprecated; setting 'repr = \"T\"' for you\"\n",
      "Warning message in Matrix::sparseMatrix(dims = c(0, 0), i = integer(0), j = integer(0), :\n",
      "\"'giveCsparse' has been deprecated; setting 'repr = \"T\"' for you\"\n",
      "Warning message in Matrix::sparseMatrix(dims = c(0, 0), i = integer(0), j = integer(0), :\n",
      "\"'giveCsparse' has been deprecated; setting 'repr = \"T\"' for you\"\n",
      "Warning message in Matrix::sparseMatrix(dims = c(0, 0), i = integer(0), j = integer(0), :\n",
      "\"'giveCsparse' has been deprecated; setting 'repr = \"T\"' for you\"\n"
     ]
    },
    {
     "name": "stdout",
     "output_type": "stream",
     "text": [
      "NULL\n",
      "NULL\n",
      "[1] \"month8\"\n"
     ]
    },
    {
     "name": "stderr",
     "output_type": "stream",
     "text": [
      "Warning message in Matrix::sparseMatrix(dims = c(0, 0), i = integer(0), j = integer(0), :\n",
      "\"'giveCsparse' has been deprecated; setting 'repr = \"T\"' for you\"\n",
      "Warning message in Matrix::sparseMatrix(dims = c(0, 0), i = integer(0), j = integer(0), :\n",
      "\"'giveCsparse' has been deprecated; setting 'repr = \"T\"' for you\"\n",
      "Warning message in Matrix::sparseMatrix(dims = c(0, 0), i = integer(0), j = integer(0), :\n",
      "\"'giveCsparse' has been deprecated; setting 'repr = \"T\"' for you\"\n",
      "Warning message in Matrix::sparseMatrix(dims = c(0, 0), i = integer(0), j = integer(0), :\n",
      "\"'giveCsparse' has been deprecated; setting 'repr = \"T\"' for you\"\n",
      "Warning message in Matrix::sparseMatrix(dims = c(0, 0), i = integer(0), j = integer(0), :\n",
      "\"'giveCsparse' has been deprecated; setting 'repr = \"T\"' for you\"\n",
      "Warning message in Matrix::sparseMatrix(dims = c(0, 0), i = integer(0), j = integer(0), :\n",
      "\"'giveCsparse' has been deprecated; setting 'repr = \"T\"' for you\"\n"
     ]
    },
    {
     "name": "stdout",
     "output_type": "stream",
     "text": [
      "Data: df__\n",
      "Models:\n",
      "fit_nopenid: WentinWG ~ CLASS + Treatment + rescale(DIB) + rescale(weight_interp) + , zi=~0, disp=~1\n",
      "fit_nopenid:     rescale(KBF_interp) + rescale(nbr_h_WGopen) + rescale(temperature_C_avg) + , zi=~0, disp=~1\n",
      "fit_nopenid:     (1 | HenID), zi=~0, disp=~1\n",
      "fit_penid: WentinWG ~ CLASS + Treatment + rescale(DIB) + rescale(weight_interp) + , zi=~0, disp=~1\n",
      "fit_penid:     rescale(KBF_interp) + rescale(nbr_h_WGopen) + rescale(temperature_C_avg) + , zi=~0, disp=~1\n",
      "fit_penid:     (1 | PenID/HenID), zi=~0, disp=~1\n",
      "            Df    AIC    BIC  logLik deviance Chisq Chi Df Pr(>Chisq)\n",
      "fit_nopenid 10 3105.3 3168.8 -1542.6   3085.3                        \n",
      "fit_penid   11 3107.3 3177.1 -1542.6   3085.3     0      1          1\n"
     ]
    },
    {
     "name": "stderr",
     "output_type": "stream",
     "text": [
      "Warning message in Matrix::sparseMatrix(dims = c(0, 0), i = integer(0), j = integer(0), :\n",
      "\"'giveCsparse' has been deprecated; setting 'repr = \"T\"' for you\"\n",
      "Warning message in Matrix::sparseMatrix(dims = c(0, 0), i = integer(0), j = integer(0), :\n",
      "\"'giveCsparse' has been deprecated; setting 'repr = \"T\"' for you\"\n",
      "Warning message in Matrix::sparseMatrix(dims = c(0, 0), i = integer(0), j = integer(0), :\n",
      "\"'giveCsparse' has been deprecated; setting 'repr = \"T\"' for you\"\n",
      "Warning message in Matrix::sparseMatrix(dims = c(0, 0), i = integer(0), j = integer(0), :\n",
      "\"'giveCsparse' has been deprecated; setting 'repr = \"T\"' for you\"\n",
      "Warning message in Matrix::sparseMatrix(dims = c(0, 0), i = integer(0), j = integer(0), :\n",
      "\"'giveCsparse' has been deprecated; setting 'repr = \"T\"' for you\"\n",
      "Warning message in Matrix::sparseMatrix(dims = c(0, 0), i = integer(0), j = integer(0), :\n",
      "\"'giveCsparse' has been deprecated; setting 'repr = \"T\"' for you\"\n"
     ]
    },
    {
     "name": "stdout",
     "output_type": "stream",
     "text": [
      "NULL\n",
      "NULL\n",
      "[1] \"month9\"\n"
     ]
    },
    {
     "name": "stderr",
     "output_type": "stream",
     "text": [
      "Warning message in Matrix::sparseMatrix(dims = c(0, 0), i = integer(0), j = integer(0), :\n",
      "\"'giveCsparse' has been deprecated; setting 'repr = \"T\"' for you\"\n",
      "Warning message in Matrix::sparseMatrix(dims = c(0, 0), i = integer(0), j = integer(0), :\n",
      "\"'giveCsparse' has been deprecated; setting 'repr = \"T\"' for you\"\n",
      "Warning message in Matrix::sparseMatrix(dims = c(0, 0), i = integer(0), j = integer(0), :\n",
      "\"'giveCsparse' has been deprecated; setting 'repr = \"T\"' for you\"\n",
      "Warning message in Matrix::sparseMatrix(dims = c(0, 0), i = integer(0), j = integer(0), :\n",
      "\"'giveCsparse' has been deprecated; setting 'repr = \"T\"' for you\"\n",
      "Warning message in Matrix::sparseMatrix(dims = c(0, 0), i = integer(0), j = integer(0), :\n",
      "\"'giveCsparse' has been deprecated; setting 'repr = \"T\"' for you\"\n",
      "Warning message in Matrix::sparseMatrix(dims = c(0, 0), i = integer(0), j = integer(0), :\n",
      "\"'giveCsparse' has been deprecated; setting 'repr = \"T\"' for you\"\n"
     ]
    },
    {
     "name": "stdout",
     "output_type": "stream",
     "text": [
      "Data: df__\n",
      "Models:\n",
      "fit_nopenid: WentinWG ~ CLASS + Treatment + rescale(DIB) + rescale(weight_interp) + , zi=~0, disp=~1\n",
      "fit_nopenid:     rescale(KBF_interp) + rescale(nbr_h_WGopen) + rescale(temperature_C_avg) + , zi=~0, disp=~1\n",
      "fit_nopenid:     (1 | HenID), zi=~0, disp=~1\n",
      "fit_penid: WentinWG ~ CLASS + Treatment + rescale(DIB) + rescale(weight_interp) + , zi=~0, disp=~1\n",
      "fit_penid:     rescale(KBF_interp) + rescale(nbr_h_WGopen) + rescale(temperature_C_avg) + , zi=~0, disp=~1\n",
      "fit_penid:     (1 | PenID/HenID), zi=~0, disp=~1\n",
      "            Df    AIC    BIC  logLik deviance Chisq Chi Df Pr(>Chisq)\n",
      "fit_nopenid 10 968.79 1024.0 -474.39   948.79                        \n",
      "fit_penid   11 970.79 1031.6 -474.39   948.79     0      1          1\n"
     ]
    },
    {
     "name": "stderr",
     "output_type": "stream",
     "text": [
      "Warning message in Matrix::sparseMatrix(dims = c(0, 0), i = integer(0), j = integer(0), :\n",
      "\"'giveCsparse' has been deprecated; setting 'repr = \"T\"' for you\"\n",
      "Warning message in Matrix::sparseMatrix(dims = c(0, 0), i = integer(0), j = integer(0), :\n",
      "\"'giveCsparse' has been deprecated; setting 'repr = \"T\"' for you\"\n",
      "Warning message in Matrix::sparseMatrix(dims = c(0, 0), i = integer(0), j = integer(0), :\n",
      "\"'giveCsparse' has been deprecated; setting 'repr = \"T\"' for you\"\n",
      "Warning message in Matrix::sparseMatrix(dims = c(0, 0), i = integer(0), j = integer(0), :\n",
      "\"'giveCsparse' has been deprecated; setting 'repr = \"T\"' for you\"\n",
      "Warning message in Matrix::sparseMatrix(dims = c(0, 0), i = integer(0), j = integer(0), :\n",
      "\"'giveCsparse' has been deprecated; setting 'repr = \"T\"' for you\"\n",
      "Warning message in Matrix::sparseMatrix(dims = c(0, 0), i = integer(0), j = integer(0), :\n",
      "\"'giveCsparse' has been deprecated; setting 'repr = \"T\"' for you\"\n",
      "DHARMa:testOutliers with type = binomial may have inflated Type I error rates for integer-valued distributions. To get a more exact result, it is recommended to re-run testOutliers with type = 'bootstrap'. See ?testOutliers for details\n",
      "\n"
     ]
    },
    {
     "name": "stdout",
     "output_type": "stream",
     "text": [
      "NULL\n",
      "NULL\n",
      "[1] \"month10\"\n"
     ]
    },
    {
     "name": "stderr",
     "output_type": "stream",
     "text": [
      "Warning message in Matrix::sparseMatrix(dims = c(0, 0), i = integer(0), j = integer(0), :\n",
      "\"'giveCsparse' has been deprecated; setting 'repr = \"T\"' for you\"\n",
      "Warning message in Matrix::sparseMatrix(dims = c(0, 0), i = integer(0), j = integer(0), :\n",
      "\"'giveCsparse' has been deprecated; setting 'repr = \"T\"' for you\"\n",
      "Warning message in Matrix::sparseMatrix(dims = c(0, 0), i = integer(0), j = integer(0), :\n",
      "\"'giveCsparse' has been deprecated; setting 'repr = \"T\"' for you\"\n",
      "Warning message in Matrix::sparseMatrix(dims = c(0, 0), i = integer(0), j = integer(0), :\n",
      "\"'giveCsparse' has been deprecated; setting 'repr = \"T\"' for you\"\n",
      "Warning message in Matrix::sparseMatrix(dims = c(0, 0), i = integer(0), j = integer(0), :\n",
      "\"'giveCsparse' has been deprecated; setting 'repr = \"T\"' for you\"\n",
      "Warning message in Matrix::sparseMatrix(dims = c(0, 0), i = integer(0), j = integer(0), :\n",
      "\"'giveCsparse' has been deprecated; setting 'repr = \"T\"' for you\"\n"
     ]
    },
    {
     "name": "stdout",
     "output_type": "stream",
     "text": [
      "Data: df__\n",
      "Models:\n",
      "fit_nopenid: WentinWG ~ CLASS + Treatment + rescale(DIB) + rescale(weight_interp) + , zi=~0, disp=~1\n",
      "fit_nopenid:     rescale(KBF_interp) + rescale(nbr_h_WGopen) + rescale(temperature_C_avg) + , zi=~0, disp=~1\n",
      "fit_nopenid:     (1 | HenID), zi=~0, disp=~1\n",
      "fit_penid: WentinWG ~ CLASS + Treatment + rescale(DIB) + rescale(weight_interp) + , zi=~0, disp=~1\n",
      "fit_penid:     rescale(KBF_interp) + rescale(nbr_h_WGopen) + rescale(temperature_C_avg) + , zi=~0, disp=~1\n",
      "fit_penid:     (1 | PenID/HenID), zi=~0, disp=~1\n",
      "            Df    AIC    BIC  logLik deviance  Chisq Chi Df Pr(>Chisq)   \n",
      "fit_nopenid 10 2006.1 2066.6 -993.05   1986.1                            \n",
      "fit_penid   11 1997.3 2063.9 -987.66   1975.3 10.776      1   0.001028 **\n",
      "---\n",
      "Signif. codes:  0 '***' 0.001 '**' 0.01 '*' 0.05 '.' 0.1 ' ' 1\n"
     ]
    },
    {
     "name": "stderr",
     "output_type": "stream",
     "text": [
      "Warning message in Matrix::sparseMatrix(dims = c(0, 0), i = integer(0), j = integer(0), :\n",
      "\"'giveCsparse' has been deprecated; setting 'repr = \"T\"' for you\"\n",
      "Warning message in Matrix::sparseMatrix(dims = c(0, 0), i = integer(0), j = integer(0), :\n",
      "\"'giveCsparse' has been deprecated; setting 'repr = \"T\"' for you\"\n",
      "Warning message in Matrix::sparseMatrix(dims = c(0, 0), i = integer(0), j = integer(0), :\n",
      "\"'giveCsparse' has been deprecated; setting 'repr = \"T\"' for you\"\n",
      "Warning message in Matrix::sparseMatrix(dims = c(0, 0), i = integer(0), j = integer(0), :\n",
      "\"'giveCsparse' has been deprecated; setting 'repr = \"T\"' for you\"\n",
      "Warning message in Matrix::sparseMatrix(dims = c(0, 0), i = integer(0), j = integer(0), :\n",
      "\"'giveCsparse' has been deprecated; setting 'repr = \"T\"' for you\"\n",
      "Warning message in Matrix::sparseMatrix(dims = c(0, 0), i = integer(0), j = integer(0), :\n",
      "\"'giveCsparse' has been deprecated; setting 'repr = \"T\"' for you\"\n"
     ]
    },
    {
     "name": "stdout",
     "output_type": "stream",
     "text": [
      "NULL\n",
      "NULL\n"
     ]
    },
    {
     "name": "stderr",
     "output_type": "stream",
     "text": [
      "Warning message in confint.glmmTMB(x, method = tolower(conf.method), level = conf.level, :\n",
      "\"extra arguments ignored:  intervals, prob\"\n",
      "Warning message in confint.glmmTMB(x, parm = thpar, method = conf.method, level = conf.level, :\n",
      "\"extra arguments ignored:  intervals, prob\"\n",
      "Warning message in confint.glmmTMB(x, method = tolower(conf.method), level = conf.level, :\n",
      "\"extra arguments ignored:  intervals, prob\"\n",
      "Warning message in confint.glmmTMB(x, parm = thpar, method = conf.method, level = conf.level, :\n",
      "\"extra arguments ignored:  intervals, prob\"\n",
      "Warning message in confint.glmmTMB(x, method = tolower(conf.method), level = conf.level, :\n",
      "\"extra arguments ignored:  intervals, prob\"\n",
      "Warning message in confint.glmmTMB(x, parm = thpar, method = conf.method, level = conf.level, :\n",
      "\"extra arguments ignored:  intervals, prob\"\n",
      "Warning message in confint.glmmTMB(x, method = tolower(conf.method), level = conf.level, :\n",
      "\"extra arguments ignored:  intervals, prob\"\n",
      "Warning message in confint.glmmTMB(x, parm = thpar, method = conf.method, level = conf.level, :\n",
      "\"extra arguments ignored:  intervals, prob\"\n",
      "Warning message in confint.glmmTMB(x, method = tolower(conf.method), level = conf.level, :\n",
      "\"extra arguments ignored:  intervals, prob\"\n",
      "Warning message in confint.glmmTMB(x, parm = thpar, method = conf.method, level = conf.level, :\n",
      "\"extra arguments ignored:  intervals, prob\"\n",
      "Warning message in confint.glmmTMB(x, method = tolower(conf.method), level = conf.level, :\n",
      "\"extra arguments ignored:  intervals, prob\"\n",
      "Warning message in confint.glmmTMB(x, parm = thpar, method = conf.method, level = conf.level, :\n",
      "\"extra arguments ignored:  intervals, prob\"\n",
      "Warning message in confint.glmmTMB(x, method = tolower(conf.method), level = conf.level, :\n",
      "\"extra arguments ignored:  intervals, prob\"\n",
      "Warning message in confint.glmmTMB(x, parm = thpar, method = conf.method, level = conf.level, :\n",
      "\"extra arguments ignored:  intervals, prob\"\n",
      "Warning message in confint.glmmTMB(x, method = tolower(conf.method), level = conf.level, :\n",
      "\"extra arguments ignored:  intervals, prob\"\n",
      "Warning message in confint.glmmTMB(x, parm = thpar, method = conf.method, level = conf.level, :\n",
      "\"extra arguments ignored:  intervals, prob\"\n",
      "Warning message in confint.glmmTMB(x, method = tolower(conf.method), level = conf.level, :\n",
      "\"extra arguments ignored:  intervals, prob\"\n",
      "Warning message in confint.glmmTMB(x, parm = thpar, method = conf.method, level = conf.level, :\n",
      "\"extra arguments ignored:  intervals, prob\"\n",
      "Warning message in confint.glmmTMB(x, method = tolower(conf.method), level = conf.level, :\n",
      "\"extra arguments ignored:  intervals, prob\"\n",
      "Warning message in confint.glmmTMB(x, parm = thpar, method = conf.method, level = conf.level, :\n",
      "\"extra arguments ignored:  intervals, prob\"\n"
     ]
    },
    {
     "data": {
      "text/html": [
       "<strong>png:</strong> 2"
      ],
      "text/latex": [
       "\\textbf{png:} 2"
      ],
      "text/markdown": [
       "**png:** 2"
      ],
      "text/plain": [
       "png \n",
       "  2 "
      ]
     },
     "metadata": {},
     "output_type": "display_data"
    },
    {
     "name": "stderr",
     "output_type": "stream",
     "text": [
      "Warning message:\n",
      "\"Following potential variables could not be found in the data: DIB ,weight_interp\n",
      "  ,nbr_h_per_day ,nbr_h_WGopen ,temperature_C_avg\"\n",
      "Warning message:\n",
      "\"Following potential variables could not be found in the data: DIB ,weight_interp\n",
      "  ,nbr_h_per_day ,nbr_h_WGopen ,temperature_C_avg\"\n",
      "Warning message:\n",
      "\"Following potential variables could not be found in the data: DIB ,weight_interp\n",
      "  ,KBF_interp ,nbr_h_WGopen ,temperature_C_avg\"\n",
      "Warning message:\n",
      "\"Following potential variables could not be found in the data: DIB ,weight_interp\n",
      "  ,KBF_interp ,nbr_h_WGopen ,temperature_C_avg\"\n",
      "Warning message:\n",
      "\"Following potential variables could not be found in the data: DIB ,weight_interp\n",
      "  ,KBF_interp ,nbr_h_WGopen ,temperature_C_avg\"\n",
      "Warning message:\n",
      "\"Following potential variables could not be found in the data: DIB ,weight_interp\n",
      "  ,nbr_h_per_day ,nbr_h_WGopen ,temperature_C_avg\"\n",
      "Warning message:\n",
      "\"Following potential variables could not be found in the data: DIB ,weight_interp\n",
      "  ,nbr_h_per_day ,nbr_h_WGopen ,temperature_C_avg\"\n",
      "Warning message:\n",
      "\"Following potential variables could not be found in the data: DIB ,weight_interp\n",
      "  ,KBF_interp ,nbr_h_WGopen ,temperature_C_avg\"\n",
      "Warning message:\n",
      "\"Following potential variables could not be found in the data: DIB ,weight_interp\n",
      "  ,KBF_interp ,nbr_h_WGopen ,temperature_C_avg\"\n",
      "Warning message:\n",
      "\"Following potential variables could not be found in the data: DIB ,weight_interp\n",
      "  ,KBF_interp ,nbr_h_WGopen ,temperature_C_avg\"\n",
      "Warning message:\n",
      "\"Following potential variables could not be found in the data: DIB ,weight_interp\n",
      "  ,nbr_h_per_day ,nbr_h_WGopen ,temperature_C_avg\"\n",
      "Warning message:\n",
      "\"Following potential variables could not be found in the data: DIB ,weight_interp\n",
      "  ,nbr_h_per_day ,nbr_h_WGopen ,temperature_C_avg\"\n",
      "Warning message:\n",
      "\"Following potential variables could not be found in the data: DIB ,weight_interp\n",
      "  ,KBF_interp ,nbr_h_WGopen ,temperature_C_avg\"\n",
      "Warning message:\n",
      "\"Following potential variables could not be found in the data: DIB ,weight_interp\n",
      "  ,KBF_interp ,nbr_h_WGopen ,temperature_C_avg\"\n",
      "Warning message:\n",
      "\"Following potential variables could not be found in the data: DIB ,weight_interp\n",
      "  ,KBF_interp ,nbr_h_WGopen ,temperature_C_avg\"\n",
      "Warning message:\n",
      "\"Following potential variables could not be found in the data: DIB ,weight_interp\n",
      "  ,KBF_interp ,nbr_h_WGopen ,temperature_C_avg\"\n",
      "Warning message:\n",
      "\"Following potential variables could not be found in the data: DIB ,weight_interp\n",
      "  ,KBF_interp ,nbr_h_WGopen ,temperature_C_avg\"\n",
      "Warning message:\n",
      "\"Following potential variables could not be found in the data: DIB ,weight_interp\n",
      "  ,KBF_interp ,nbr_h_WGopen ,temperature_C_avg\"\n",
      "Warning message:\n",
      "\"Following potential variables could not be found in the data: DIB ,weight_interp\n",
      "  ,KBF_interp ,nbr_h_WGopen ,temperature_C_avg\"\n",
      "Warning message:\n",
      "\"Following potential variables could not be found in the data: DIB ,weight_interp\n",
      "  ,KBF_interp ,nbr_h_WGopen ,temperature_C_avg\"\n",
      "Warning message:\n",
      "\"Following potential variables could not be found in the data: DIB ,weight_interp\n",
      "  ,KBF_interp ,nbr_h_WGopen ,temperature_C_avg\"\n",
      "Warning message:\n",
      "\"Following potential variables could not be found in the data: DIB ,weight_interp\n",
      "  ,KBF_interp ,nbr_h_WGopen ,temperature_C_avg\"\n",
      "Warning message:\n",
      "\"Following potential variables could not be found in the data: DIB ,weight_interp\n",
      "  ,KBF_interp ,nbr_h_WGopen ,temperature_C_avg\"\n",
      "Warning message:\n",
      "\"Following potential variables could not be found in the data: DIB ,weight_interp\n",
      "  ,KBF_interp ,nbr_h_WGopen ,temperature_C_avg\"\n",
      "Warning message:\n",
      "\"Following potential variables could not be found in the data: DIB ,weight_interp\n",
      "  ,KBF_interp ,nbr_h_WGopen ,temperature_C_avg\"\n",
      "Warning message:\n",
      "\"Following potential variables could not be found in the data: DIB ,weight_interp\n",
      "  ,KBF_interp ,nbr_h_WGopen ,temperature_C_avg\"\n",
      "Warning message:\n",
      "\"Following potential variables could not be found in the data: DIB ,weight_interp\n",
      "  ,KBF_interp ,nbr_h_WGopen ,temperature_C_avg\"\n"
     ]
    }
   ],
   "source": [
    "var = 'WentinWG'\n",
    "path_visual_ = file.path(path_visual, var)\n",
    "dir.create(path_visual_)\n",
    "dim(df)\n",
    "df_ = subset(df, !is.na(WentinWG))\n",
    "dim(df_)\n",
    "df_ = subset(df_, !is.na(temperature_C_avg))\n",
    "dim(df_)\n",
    "\n",
    "li_model = list()\n",
    "for (i in 1:10){\n",
    "    monthILBID = paste0('month',i)\n",
    "    print(monthILBID)\n",
    "    df__ = df_[df_$monthILB==monthILBID,]\n",
    "    #monthILB1-monthILB2: no KBF but nbr_h_per_day_sc, after KBF but no nbr_h_per_day_sc\n",
    "    if (monthILBID %in% c('month1', 'month2')){\n",
    "        fit_penid = glmmTMB(WentinWG ~  CLASS+ Treatment + rescale(DIB) +rescale(weight_interp)+rescale(nbr_h_per_day)+ rescale(nbr_h_WGopen)+ rescale(temperature_C_avg)+(1|PenID/HenID), \n",
    "                   data=df__, family=binomial)\n",
    "        fit_nopenid = glmmTMB(WentinWG ~  CLASS+ Treatment + rescale(DIB) +rescale(weight_interp)+rescale(nbr_h_per_day)+ rescale(nbr_h_WGopen)+ rescale(temperature_C_avg)+(1|HenID), \n",
    "                   data=df__, family=binomial)}\n",
    "    else{\n",
    "        fit_penid = glmmTMB(WentinWG ~  CLASS + Treatment + rescale(DIB) +rescale(weight_interp)+ rescale(KBF_interp) +rescale(nbr_h_WGopen)+ rescale(temperature_C_avg) + (1|PenID/HenID), \n",
    "                   data=df__, family=binomial)\n",
    "        fit_nopenid = glmmTMB(WentinWG ~  CLASS + Treatment + rescale(DIB) +rescale(weight_interp)+ rescale(KBF_interp) +rescale(nbr_h_WGopen)+ rescale(temperature_C_avg) + (1|HenID), \n",
    "                   data=df__, family=binomial)} \n",
    "    print(anova(fit_nopenid,fit_penid))\n",
    "    p_value = anova(fit_nopenid,fit_penid)['Pr(>Chisq)']['fit_penid',]\n",
    "    if (p_value<0.05){\n",
    "        fit = fit_penid    \n",
    "    }else{\n",
    "        fit = fit_nopenid    \n",
    "    }\n",
    "\n",
    "    li_model[[i]] = fit\n",
    "    write.csv(summary(fit)['coefficients']$coefficients$cond, file=file.path(path_visual_, paste0(var,monthILBID,'.csv')) )\n",
    "\n",
    "    set.seed(0)\n",
    "    simulationOutput = simulateResiduals(fittedModel=fit)\n",
    "    tiff(file.path(path_visual_, paste0(var,'_SimRes1',monthILBID,'.tiff')), width=400, height=400)\n",
    "    print(plot(simulationOutput))\n",
    "    dev.off()\n",
    "    \n",
    "    tiff(file.path(path_visual_, paste0(var,'_SimRes2',monthILBID,'.tiff')), width=400, height=400)\n",
    "    print(plotResiduals(simulationOutput, form = df__$Treatment))\n",
    "    dev.off()}\n",
    "\n",
    "tiff(file.path(path_visual_, paste0(var,'_OFHCoeff','.tiff')), width=400, height=400)\n",
    "plot_summs(li_model, coefs=c('TreatmentOFH'), colors='Rainbow', legend.title=var, exp=TRUE)\n",
    "dev.off()\n",
    "#truncated_nbinom2\n",
    "\n",
    "tab_model(li_model[1:5], collapse.ci = TRUE, p.style = \"numeric_stars\", file=file.path(path_visual_, paste0(var,'_TableModel1-5.doc')))\n",
    "tab_model(li_model[6:10], collapse.ci = TRUE, p.style = \"numeric_stars\", file=file.path(path_visual_, paste0(var,'_TableModel6-10.doc')))"
   ]
  },
  {
   "cell_type": "code",
   "execution_count": null,
   "id": "3112ae19",
   "metadata": {},
   "outputs": [],
   "source": []
  },
  {
   "cell_type": "code",
   "execution_count": null,
   "id": "2f19cf49",
   "metadata": {},
   "outputs": [],
   "source": []
  },
  {
   "cell_type": "code",
   "execution_count": null,
   "id": "d6998bd9",
   "metadata": {},
   "outputs": [],
   "source": []
  }
 ],
 "metadata": {
  "kernelspec": {
   "display_name": " Rkernel ",
   "language": "R",
   "name": "rkernel"
  },
  "language_info": {
   "codemirror_mode": "r",
   "file_extension": ".r",
   "mimetype": "text/x-r-source",
   "name": "R",
   "pygments_lexer": "r",
   "version": "3.6.1"
  }
 },
 "nbformat": 4,
 "nbformat_minor": 5
}
