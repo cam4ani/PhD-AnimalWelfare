{
 "cells": [
  {
   "cell_type": "code",
   "execution_count": 1,
   "id": "eaeb6db0",
   "metadata": {},
   "outputs": [
    {
     "name": "stderr",
     "output_type": "stream",
     "text": [
      "Warning message:\n",
      "\"package 'dplyr' was built under R version 3.6.3\"\n",
      "\n",
      "Attaching package: 'dplyr'\n",
      "\n",
      "\n",
      "The following objects are masked from 'package:stats':\n",
      "\n",
      "    filter, lag\n",
      "\n",
      "\n",
      "The following objects are masked from 'package:base':\n",
      "\n",
      "    intersect, setdiff, setequal, union\n",
      "\n",
      "\n",
      "Warning message:\n",
      "\"package 'MuMIn' was built under R version 3.6.3\"\n",
      "Warning message:\n",
      "\"package 'ggpubr' was built under R version 3.6.3\"\n",
      "This is DHARMa 0.4.5. For overview type '?DHARMa'. For recent changes, type news(package = 'DHARMa')\n",
      "\n",
      "Warning message:\n",
      "\"package 'glmmTMB' was built under R version 3.6.3\"\n",
      "Warning message:\n",
      "\"package 'ggstance' was built under R version 3.6.3\"\n",
      "\n",
      "Attaching package: 'ggstance'\n",
      "\n",
      "\n",
      "The following objects are masked from 'package:ggplot2':\n",
      "\n",
      "    geom_errorbarh, GeomErrorbarh\n",
      "\n",
      "\n",
      "Loading required package: MASS\n",
      "\n",
      "Warning message:\n",
      "\"package 'MASS' was built under R version 3.6.3\"\n",
      "\n",
      "Attaching package: 'MASS'\n",
      "\n",
      "\n",
      "The following object is masked from 'package:dplyr':\n",
      "\n",
      "    select\n",
      "\n",
      "\n",
      "Loading required package: Matrix\n",
      "\n",
      "Warning message:\n",
      "\"package 'Matrix' was built under R version 3.6.3\"\n",
      "Loading required package: lme4\n",
      "\n",
      "Warning message:\n",
      "\"package 'lme4' was built under R version 3.6.3\"\n",
      "\n",
      "arm (Version 1.12-2, built: 2021-10-15)\n",
      "\n",
      "\n",
      "Working directory is C:/Users/camil/Desktop/animals_code/PhD-AnimalWelfare/Chapter3-OFH\n",
      "\n",
      "\n",
      "\n",
      "Attaching package: 'arm'\n",
      "\n",
      "\n",
      "The following object is masked from 'package:jtools':\n",
      "\n",
      "    standardize\n",
      "\n",
      "\n"
     ]
    }
   ],
   "source": [
    "library(dplyr) #%>%\n",
    "#library(lmerTest) #lmer\n",
    "library(MuMIn) #r2\n",
    "#library(merTools) #sim\n",
    "library(ggplot2) #ylim in plot\n",
    "#library(rstan) #model diagnostic\n",
    "library(ggeffects)  #ggpredict\n",
    "library(ggpubr) #ggboxplot\n",
    "library(DHARMa) #sim\n",
    "library(glmmTMB) \n",
    "#library(multcomp) #glht\n",
    "#library(emmeans)\n",
    "library(splines)\n",
    "#library(sjPlot)\n",
    "#library(sjstats)\n",
    "#library(effectsize)\n",
    "#install.packages('multcomp')\n",
    "#library(performance) #r2_nakagawa\n",
    "library(jtools) # plot_summs \n",
    "library(ggstance) # plot_summs\n",
    "library(arm) #rescale by 2sd to comapre bin with cont\n",
    "library(sjPlot) #plot_models, tab_model"
   ]
  },
  {
   "cell_type": "code",
   "execution_count": 45,
   "id": "8f18c382",
   "metadata": {
    "scrolled": true
   },
   "outputs": [
    {
     "data": {
      "text/html": [
       "<table class=\"dataframe\">\n",
       "<caption>A matrix: 3 × 2 of type dbl</caption>\n",
       "<thead>\n",
       "\t<tr><th></th><th scope=col>LEXP</th><th scope=col>MEXP</th></tr>\n",
       "</thead>\n",
       "<tbody>\n",
       "\t<tr><th scope=row>REXP</th><td>0</td><td>0</td></tr>\n",
       "\t<tr><th scope=row>LEXP</th><td>1</td><td>0</td></tr>\n",
       "\t<tr><th scope=row>MEXP</th><td>0</td><td>1</td></tr>\n",
       "</tbody>\n",
       "</table>\n"
      ],
      "text/latex": [
       "A matrix: 3 × 2 of type dbl\n",
       "\\begin{tabular}{r|ll}\n",
       "  & LEXP & MEXP\\\\\n",
       "\\hline\n",
       "\tREXP & 0 & 0\\\\\n",
       "\tLEXP & 1 & 0\\\\\n",
       "\tMEXP & 0 & 1\\\\\n",
       "\\end{tabular}\n"
      ],
      "text/markdown": [
       "\n",
       "A matrix: 3 × 2 of type dbl\n",
       "\n",
       "| <!--/--> | LEXP | MEXP |\n",
       "|---|---|---|\n",
       "| REXP | 0 | 0 |\n",
       "| LEXP | 1 | 0 |\n",
       "| MEXP | 0 | 1 |\n",
       "\n"
      ],
      "text/plain": [
       "     LEXP MEXP\n",
       "REXP 0    0   \n",
       "LEXP 1    0   \n",
       "MEXP 0    1   "
      ]
     },
     "metadata": {},
     "output_type": "display_data"
    },
    {
     "data": {
      "text/html": [
       "<table class=\"dataframe\">\n",
       "<caption>A matrix: 2 × 1 of type dbl</caption>\n",
       "<thead>\n",
       "\t<tr><th></th><th scope=col>OFH</th></tr>\n",
       "</thead>\n",
       "<tbody>\n",
       "\t<tr><th scope=row>TRAN</th><td>0</td></tr>\n",
       "\t<tr><th scope=row>OFH</th><td>1</td></tr>\n",
       "</tbody>\n",
       "</table>\n"
      ],
      "text/latex": [
       "A matrix: 2 × 1 of type dbl\n",
       "\\begin{tabular}{r|l}\n",
       "  & OFH\\\\\n",
       "\\hline\n",
       "\tTRAN & 0\\\\\n",
       "\tOFH & 1\\\\\n",
       "\\end{tabular}\n"
      ],
      "text/markdown": [
       "\n",
       "A matrix: 2 × 1 of type dbl\n",
       "\n",
       "| <!--/--> | OFH |\n",
       "|---|---|\n",
       "| TRAN | 0 |\n",
       "| OFH | 1 |\n",
       "\n"
      ],
      "text/plain": [
       "     OFH\n",
       "TRAN 0  \n",
       "OFH  1  "
      ]
     },
     "metadata": {},
     "output_type": "display_data"
    },
    {
     "data": {
      "text/html": [
       "3.0381941659387e-17"
      ],
      "text/latex": [
       "3.0381941659387e-17"
      ],
      "text/markdown": [
       "3.0381941659387e-17"
      ],
      "text/plain": [
       "[1] 3.038194e-17"
      ]
     },
     "metadata": {},
     "output_type": "display_data"
    },
    {
     "data": {
      "text/html": [
       "1"
      ],
      "text/latex": [
       "1"
      ],
      "text/markdown": [
       "1"
      ],
      "text/plain": [
       "[1] 1"
      ]
     },
     "metadata": {},
     "output_type": "display_data"
    },
    {
     "data": {
      "text/html": [
       "1.51909708296935e-17"
      ],
      "text/latex": [
       "1.51909708296935e-17"
      ],
      "text/markdown": [
       "1.51909708296935e-17"
      ],
      "text/plain": [
       "[1] 1.519097e-17"
      ]
     },
     "metadata": {},
     "output_type": "display_data"
    },
    {
     "data": {
      "text/html": [
       "0.5"
      ],
      "text/latex": [
       "0.5"
      ],
      "text/markdown": [
       "0.5"
      ],
      "text/plain": [
       "[1] 0.5"
      ]
     },
     "metadata": {},
     "output_type": "display_data"
    },
    {
     "data": {
      "text/html": [
       "-8.34223472083177e-17"
      ],
      "text/latex": [
       "-8.34223472083177e-17"
      ],
      "text/markdown": [
       "-8.34223472083177e-17"
      ],
      "text/plain": [
       "[1] -8.342235e-17"
      ]
     },
     "metadata": {},
     "output_type": "display_data"
    },
    {
     "data": {
      "text/html": [
       "0.5"
      ],
      "text/latex": [
       "0.5"
      ],
      "text/markdown": [
       "0.5"
      ],
      "text/plain": [
       "[1] 0.5"
      ]
     },
     "metadata": {},
     "output_type": "display_data"
    },
    {
     "name": "stdout",
     "output_type": "stream",
     "text": [
      "[1] 38303    29\n"
     ]
    },
    {
     "data": {
      "text/plain": [
       "     HenID           PenID             level       Treatment     CLASS      \n",
       " hen_124:  250   pen10  :4930   2021-01-06:  159   TRAN:18968   REXP:22141  \n",
       " hen_136:  250   pen11  :4921   2021-01-09:  159   OFH :19335   LEXP: 7240  \n",
       " hen_145:  250   pen9   :4890   2021-01-10:  159                MEXP: 8922  \n",
       " hen_151:  250   pen5   :4802   2021-01-11:  159                            \n",
       " hen_28 :  250   pen4   :4766   2021-01-12:  159                            \n",
       " hen_57 :  250   pen3   :4722   2021-01-13:  159                            \n",
       " (Other):36803   (Other):9272   (Other)   :37349                            \n",
       "      DOA             WOA             DIB             WIB        weight_interp \n",
       " Min.   :119.0   Min.   :17.00   Min.   :  1.0   Min.   : 1.00   Min.   :1024  \n",
       " 1st Qu.:188.0   1st Qu.:27.00   1st Qu.: 70.0   1st Qu.:10.00   1st Qu.:1653  \n",
       " Median :262.0   Median :38.00   Median :144.0   Median :21.00   Median :1783  \n",
       " Mean   :261.8   Mean   :37.84   Mean   :143.8   Mean   :20.98   Mean   :1761  \n",
       " 3rd Qu.:331.0   3rd Qu.:48.00   3rd Qu.:213.0   3rd Qu.:31.00   3rd Qu.:1906  \n",
       " Max.   :416.0   Max.   :60.00   Max.   :298.0   Max.   :43.00   Max.   :2329  \n",
       "                                                                 NA's   :848   \n",
       " FeatherDamage_interp   KBF_interp          weekday        WentinWG     \n",
       " Min.   : 0.000       Min.   : 0.000   friday   :5242   Min.   :0.0000  \n",
       " 1st Qu.: 1.286       1st Qu.: 3.952   monday   :5008   1st Qu.:0.0000  \n",
       " Median : 9.771       Median :17.600   saturday :5871   Median :1.0000  \n",
       " Mean   :12.613       Mean   :19.955   sunday   :5875   Mean   :0.6618  \n",
       " 3rd Qu.:20.667       3rd Qu.:32.400   thursday :5581   3rd Qu.:1.0000  \n",
       " Max.   :65.859       Max.   :83.596   tuesday  :5189   Max.   :1.0000  \n",
       " NA's   :1320         NA's   :277      wednesday:5537   NA's   :1714    \n",
       " vertical_travel_distance mid_cum_Z4_h_Morning  nbr_h_WGopen   nbr_h_per_day \n",
       " Min.   :  0.00           Min.   :2.035        Min.   :0.000   Min.   : 8.0  \n",
       " 1st Qu.: 40.00           1st Qu.:3.860        1st Qu.:6.250   1st Qu.:15.0  \n",
       " Median : 58.00           Median :4.509        Median :6.500   Median :15.0  \n",
       " Mean   : 58.11           Mean   :4.637        Mean   :6.006   Mean   :14.5  \n",
       " 3rd Qu.: 74.00           3rd Qu.:5.317        3rd Qu.:6.500   3rd Qu.:15.0  \n",
       " Max.   :220.00           Max.   :7.994        Max.   :8.500   Max.   :15.0  \n",
       "                          NA's   :4159                                       \n",
       "         date       temperature_C_avg propindoor_duration_5_Zone\n",
       " 2021-01-06:  159   Min.   :-5.833    Min.   :0.0000            \n",
       " 2021-01-09:  159   1st Qu.: 4.833    1st Qu.:0.0800            \n",
       " 2021-01-10:  159   Median :10.000    Median :0.2400            \n",
       " 2021-01-11:  159   Mean   :10.118    Mean   :0.3181            \n",
       " 2021-01-12:  159   3rd Qu.:14.500    3rd Qu.:0.5110            \n",
       " 2021-01-13:  159   Max.   :26.167    Max.   :1.0000            \n",
       " (Other)   :37349   NA's   :315                                 \n",
       " propindoor_duration_4_Zone propindoor_duration_2_Zone\n",
       " Min.   :0.000              Min.   :0.0000            \n",
       " 1st Qu.:0.050              1st Qu.:0.2474            \n",
       " Median :0.070              Median :0.4167            \n",
       " Mean   :0.079              Mean   :0.3886            \n",
       " 3rd Qu.:0.093              3rd Qu.:0.5400            \n",
       " Max.   :1.000              Max.   :1.0000            \n",
       " NA's   :3936                                         \n",
       " propindoor_duration_5_Zone_rs propindoor_duration_4_Zone_rs\n",
       " Min.   :0.0100                Min.   :0.010                \n",
       " 1st Qu.:0.0884                1st Qu.:0.059                \n",
       " Median :0.2452                Median :0.079                \n",
       " Mean   :0.3218                Mean   :0.088                \n",
       " 3rd Qu.:0.5108                3rd Qu.:0.101                \n",
       " Max.   :0.9900                Max.   :0.990                \n",
       "                               NA's   :3936                 \n",
       " propindoor_duration_2_Zone_rs  went_litter     stayed_top_tier  \n",
       " Min.   :0.0100                Min.   :0.0000   Min.   :0.00000  \n",
       " 1st Qu.:0.2525                1st Qu.:1.0000   1st Qu.:0.00000  \n",
       " Median :0.4183                Median :1.0000   Median :0.00000  \n",
       " Mean   :0.3908                Mean   :0.9714   Mean   :0.01232  \n",
       " 3rd Qu.:0.5392                3rd Qu.:1.0000   3rd Qu.:0.00000  \n",
       " Max.   :0.9900                Max.   :1.0000   Max.   :1.00000  \n",
       "                                                                 \n",
       "    monthILB    \n",
       " month8 : 4552  \n",
       " month3 : 4464  \n",
       " month2 : 4399  \n",
       " month6 : 4262  \n",
       " month7 : 4141  \n",
       " month1 : 3936  \n",
       " (Other):12549  "
      ]
     },
     "metadata": {},
     "output_type": "display_data"
    },
    {
     "data": {
      "text/html": [
       "<table class=\"dataframe\">\n",
       "<caption>A data.frame: 3 × 29</caption>\n",
       "<thead>\n",
       "\t<tr><th></th><th scope=col>HenID</th><th scope=col>PenID</th><th scope=col>level</th><th scope=col>Treatment</th><th scope=col>CLASS</th><th scope=col>DOA</th><th scope=col>WOA</th><th scope=col>DIB</th><th scope=col>WIB</th><th scope=col>weight_interp</th><th scope=col>...</th><th scope=col>temperature_C_avg</th><th scope=col>propindoor_duration_5_Zone</th><th scope=col>propindoor_duration_4_Zone</th><th scope=col>propindoor_duration_2_Zone</th><th scope=col>propindoor_duration_5_Zone_rs</th><th scope=col>propindoor_duration_4_Zone_rs</th><th scope=col>propindoor_duration_2_Zone_rs</th><th scope=col>went_litter</th><th scope=col>stayed_top_tier</th><th scope=col>monthILB</th></tr>\n",
       "\t<tr><th></th><th scope=col>&lt;fct&gt;</th><th scope=col>&lt;fct&gt;</th><th scope=col>&lt;fct&gt;</th><th scope=col>&lt;fct&gt;</th><th scope=col>&lt;fct&gt;</th><th scope=col>&lt;int&gt;</th><th scope=col>&lt;int&gt;</th><th scope=col>&lt;int&gt;</th><th scope=col>&lt;int&gt;</th><th scope=col>&lt;dbl&gt;</th><th scope=col>...</th><th scope=col>&lt;dbl&gt;</th><th scope=col>&lt;dbl&gt;</th><th scope=col>&lt;dbl&gt;</th><th scope=col>&lt;dbl&gt;</th><th scope=col>&lt;dbl&gt;</th><th scope=col>&lt;dbl&gt;</th><th scope=col>&lt;dbl&gt;</th><th scope=col>&lt;int&gt;</th><th scope=col>&lt;int&gt;</th><th scope=col>&lt;fct&gt;</th></tr>\n",
       "</thead>\n",
       "<tbody>\n",
       "\t<tr><th scope=row>1</th><td>hen_130</td><td>pen10</td><td>2020-10-05</td><td>TRAN</td><td>REXP</td><td>124</td><td>18</td><td>6</td><td>1</td><td>NA</td><td>...</td><td>11.50000</td><td>1.00</td><td>NA</td><td>0.00</td><td>0.9900</td><td>NA</td><td>0.0100</td><td>0</td><td>1</td><td>month1</td></tr>\n",
       "\t<tr><th scope=row>2</th><td>hen_130</td><td>pen10</td><td>2020-10-06</td><td>TRAN</td><td>REXP</td><td>125</td><td>18</td><td>7</td><td>1</td><td>NA</td><td>...</td><td>13.50000</td><td>0.97</td><td>NA</td><td>0.00</td><td>0.9606</td><td>NA</td><td>0.0100</td><td>0</td><td>0</td><td>month1</td></tr>\n",
       "\t<tr><th scope=row>3</th><td>hen_130</td><td>pen10</td><td>2020-10-07</td><td>TRAN</td><td>REXP</td><td>126</td><td>18</td><td>8</td><td>2</td><td>NA</td><td>...</td><td>12.66667</td><td>0.98</td><td>NA</td><td>0.01</td><td>0.9704</td><td>NA</td><td>0.0198</td><td>1</td><td>0</td><td>month1</td></tr>\n",
       "</tbody>\n",
       "</table>\n"
      ],
      "text/latex": [
       "A data.frame: 3 × 29\n",
       "\\begin{tabular}{r|lllllllllllllllllllll}\n",
       "  & HenID & PenID & level & Treatment & CLASS & DOA & WOA & DIB & WIB & weight\\_interp & ... & temperature\\_C\\_avg & propindoor\\_duration\\_5\\_Zone & propindoor\\_duration\\_4\\_Zone & propindoor\\_duration\\_2\\_Zone & propindoor\\_duration\\_5\\_Zone\\_rs & propindoor\\_duration\\_4\\_Zone\\_rs & propindoor\\_duration\\_2\\_Zone\\_rs & went\\_litter & stayed\\_top\\_tier & monthILB\\\\\n",
       "  & <fct> & <fct> & <fct> & <fct> & <fct> & <int> & <int> & <int> & <int> & <dbl> & ... & <dbl> & <dbl> & <dbl> & <dbl> & <dbl> & <dbl> & <dbl> & <int> & <int> & <fct>\\\\\n",
       "\\hline\n",
       "\t1 & hen\\_130 & pen10 & 2020-10-05 & TRAN & REXP & 124 & 18 & 6 & 1 & NA & ... & 11.50000 & 1.00 & NA & 0.00 & 0.9900 & NA & 0.0100 & 0 & 1 & month1\\\\\n",
       "\t2 & hen\\_130 & pen10 & 2020-10-06 & TRAN & REXP & 125 & 18 & 7 & 1 & NA & ... & 13.50000 & 0.97 & NA & 0.00 & 0.9606 & NA & 0.0100 & 0 & 0 & month1\\\\\n",
       "\t3 & hen\\_130 & pen10 & 2020-10-07 & TRAN & REXP & 126 & 18 & 8 & 2 & NA & ... & 12.66667 & 0.98 & NA & 0.01 & 0.9704 & NA & 0.0198 & 1 & 0 & month1\\\\\n",
       "\\end{tabular}\n"
      ],
      "text/markdown": [
       "\n",
       "A data.frame: 3 × 29\n",
       "\n",
       "| <!--/--> | HenID &lt;fct&gt; | PenID &lt;fct&gt; | level &lt;fct&gt; | Treatment &lt;fct&gt; | CLASS &lt;fct&gt; | DOA &lt;int&gt; | WOA &lt;int&gt; | DIB &lt;int&gt; | WIB &lt;int&gt; | weight_interp &lt;dbl&gt; | ... ... | temperature_C_avg &lt;dbl&gt; | propindoor_duration_5_Zone &lt;dbl&gt; | propindoor_duration_4_Zone &lt;dbl&gt; | propindoor_duration_2_Zone &lt;dbl&gt; | propindoor_duration_5_Zone_rs &lt;dbl&gt; | propindoor_duration_4_Zone_rs &lt;dbl&gt; | propindoor_duration_2_Zone_rs &lt;dbl&gt; | went_litter &lt;int&gt; | stayed_top_tier &lt;int&gt; | monthILB &lt;fct&gt; |\n",
       "|---|---|---|---|---|---|---|---|---|---|---|---|---|---|---|---|---|---|---|---|---|---|\n",
       "| 1 | hen_130 | pen10 | 2020-10-05 | TRAN | REXP | 124 | 18 | 6 | 1 | NA | ... | 11.50000 | 1.00 | NA | 0.00 | 0.9900 | NA | 0.0100 | 0 | 1 | month1 |\n",
       "| 2 | hen_130 | pen10 | 2020-10-06 | TRAN | REXP | 125 | 18 | 7 | 1 | NA | ... | 13.50000 | 0.97 | NA | 0.00 | 0.9606 | NA | 0.0100 | 0 | 0 | month1 |\n",
       "| 3 | hen_130 | pen10 | 2020-10-07 | TRAN | REXP | 126 | 18 | 8 | 2 | NA | ... | 12.66667 | 0.98 | NA | 0.01 | 0.9704 | NA | 0.0198 | 1 | 0 | month1 |\n",
       "\n"
      ],
      "text/plain": [
       "  HenID   PenID level      Treatment CLASS DOA WOA DIB WIB weight_interp ...\n",
       "1 hen_130 pen10 2020-10-05 TRAN      REXP  124 18  6   1   NA            ...\n",
       "2 hen_130 pen10 2020-10-06 TRAN      REXP  125 18  7   1   NA            ...\n",
       "3 hen_130 pen10 2020-10-07 TRAN      REXP  126 18  8   2   NA            ...\n",
       "  temperature_C_avg propindoor_duration_5_Zone propindoor_duration_4_Zone\n",
       "1 11.50000          1.00                       NA                        \n",
       "2 13.50000          0.97                       NA                        \n",
       "3 12.66667          0.98                       NA                        \n",
       "  propindoor_duration_2_Zone propindoor_duration_5_Zone_rs\n",
       "1 0.00                       0.9900                       \n",
       "2 0.00                       0.9606                       \n",
       "3 0.01                       0.9704                       \n",
       "  propindoor_duration_4_Zone_rs propindoor_duration_2_Zone_rs went_litter\n",
       "1 NA                            0.0100                        0          \n",
       "2 NA                            0.0100                        0          \n",
       "3 NA                            0.0198                        1          \n",
       "  stayed_top_tier monthILB\n",
       "1 1               month1  \n",
       "2 0               month1  \n",
       "3 0               month1  "
      ]
     },
     "metadata": {},
     "output_type": "display_data"
    }
   ],
   "source": [
    "path_ = 'G:/VPHI/Welfare/2- Research Projects/OFHE2.OriginsE2/DataOutput/TrackingSystem/ALLDATA_'\n",
    "path_visual = file.path(path_, 'OFH_model','Month_final_PenIDWhenNeeded')\n",
    "dir.create(path_visual)\n",
    "df = read.csv(file.path(path_,'OFH_df_all_mvt.csv'), header = TRUE, sep = \",\")\n",
    "\n",
    "#factors\n",
    "df$HenID = as.factor(df$HenID)   \n",
    "df$PenID = as.factor(df$PenID)\n",
    "df$CLASS = as.factor(df$CLASS) \n",
    "df = df %>% mutate(CLASS = relevel(CLASS, ref = \"REXP\"))\n",
    "contrasts(df$CLASS)\n",
    "df$Treatment = as.factor(df$Treatment) #unsacaled: 0-1\n",
    "#setting reference group\n",
    "df <- df %>% mutate(Treatment = relevel(Treatment, ref = \"TRAN\"))\n",
    "contrasts(df$Treatment)\n",
    "#df$time = scale(df$WIB, center=FALSE, scale=sd(df$WIB, na.rm = TRUE)) #as not centering, we need to add this\n",
    "#df$time2_ = poly(df$time, degree=2,raw=FALSE)[,2]\n",
    "df$monthILB = as.factor(df$monthILB) \n",
    "#small example\n",
    "mean(scale(df$DIB))\n",
    "sd(scale(df$DIB))\n",
    "mean(rescale(df$DIB, binary.inputs=\"full\"))\n",
    "sd(rescale(df$DIB, binary.inputs=\"full\"))\n",
    "mean(rescale(df$Treatment, binary.inputs=\"full\"))\n",
    "sd(rescale(df$Treatment, binary.inputs=\"full\"))\n",
    "#unique(rescale(df$Treatment, binary.inputs=\"0/1\")) #0-1\n",
    "\n",
    "#two_sd: variables are scaled by two times the deviation (SD or MAD depending on robust). \n",
    "#This method can be useful to obtain model coefficients of continuous parameters comparable to coefficients related to binary predictors (Gelman, 2008).\n",
    "#scale var1 to have mean = 0 and standard deviation = 0.5\n",
    "#rescale\n",
    "print(dim(df))\n",
    "summary(df)\n",
    "write.csv(df, file.path(path_,'OFH_df_spaceUse_allday_4visual.csv'))\n",
    "head(df,3)"
   ]
  },
  {
   "cell_type": "code",
   "execution_count": 46,
   "id": "c987c4dc",
   "metadata": {},
   "outputs": [],
   "source": [
    "#tab_model: to use check first for each distribution used here (gamma, poisson, hurdle etc). ANd verify sam evaue than excel\n",
    "#as we want to do the plot in pyhton, we will save the excel based on the models for plots and further detialed shown in supplement"
   ]
  },
  {
   "cell_type": "code",
   "execution_count": 47,
   "id": "b6589bdc",
   "metadata": {},
   "outputs": [
    {
     "data": {
      "text/html": [
       "<style>\n",
       ".list-inline {list-style: none; margin:0; padding: 0}\n",
       ".list-inline>li {display: inline-block}\n",
       ".list-inline>li:not(:last-child)::after {content: \"\\00b7\"; padding: 0 .5ex}\n",
       "</style>\n",
       "<ol class=list-inline><li>38303</li><li>29</li></ol>\n"
      ],
      "text/latex": [
       "\\begin{enumerate*}\n",
       "\\item 38303\n",
       "\\item 29\n",
       "\\end{enumerate*}\n"
      ],
      "text/markdown": [
       "1. 38303\n",
       "2. 29\n",
       "\n",
       "\n"
      ],
      "text/plain": [
       "[1] 38303    29"
      ]
     },
     "metadata": {},
     "output_type": "display_data"
    },
    {
     "data": {
      "text/html": [
       "<style>\n",
       ".list-inline {list-style: none; margin:0; padding: 0}\n",
       ".list-inline>li {display: inline-block}\n",
       ".list-inline>li:not(:last-child)::after {content: \"\\00b7\"; padding: 0 .5ex}\n",
       "</style>\n",
       "<ol class=list-inline><li>38026</li><li>29</li></ol>\n"
      ],
      "text/latex": [
       "\\begin{enumerate*}\n",
       "\\item 38026\n",
       "\\item 29\n",
       "\\end{enumerate*}\n"
      ],
      "text/markdown": [
       "1. 38026\n",
       "2. 29\n",
       "\n",
       "\n"
      ],
      "text/plain": [
       "[1] 38026    29"
      ]
     },
     "metadata": {},
     "output_type": "display_data"
    },
    {
     "data": {
      "text/html": [
       "<style>\n",
       ".list-inline {list-style: none; margin:0; padding: 0}\n",
       ".list-inline>li {display: inline-block}\n",
       ".list-inline>li:not(:last-child)::after {content: \"\\00b7\"; padding: 0 .5ex}\n",
       "</style>\n",
       "<ol class=list-inline><li>37455</li><li>29</li></ol>\n"
      ],
      "text/latex": [
       "\\begin{enumerate*}\n",
       "\\item 37455\n",
       "\\item 29\n",
       "\\end{enumerate*}\n"
      ],
      "text/markdown": [
       "1. 37455\n",
       "2. 29\n",
       "\n",
       "\n"
      ],
      "text/plain": [
       "[1] 37455    29"
      ]
     },
     "metadata": {},
     "output_type": "display_data"
    }
   ],
   "source": [
    "#FeatherDamage_interp we wont use it as many nan\n",
    "dim(df)\n",
    "df = subset(df, !is.na(KBF_interp))\n",
    "dim(df)\n",
    "df = subset(df, !is.na(weight_interp))\n",
    "dim(df)"
   ]
  },
  {
   "cell_type": "code",
   "execution_count": 48,
   "id": "ff663b24",
   "metadata": {},
   "outputs": [],
   "source": [
    "#var with nan\n",
    "#nbr_stays_1_Zone                 \n",
    "#mid_cum_Z4_h_Morning             \n",
    "#temperature_C_avg"
   ]
  },
  {
   "cell_type": "markdown",
   "id": "0374e602",
   "metadata": {},
   "source": [
    "check for convergence & NA/NaN function evaluation"
   ]
  },
  {
   "cell_type": "markdown",
   "id": "7ba46e94",
   "metadata": {},
   "source": [
    "#str(summary(li_model[[2]]))#['coefficients']\n",
    "#tab_model has all. but if I want to extract myself:\n",
    "summary(li_model[[2]])[['ngrps']]$cond[['PenID']]\n",
    "summary(li_model[[2]])[['ngrps']]$cond[['HenID:PenID']]\n",
    "summary(li_model[[2]])[['nobs']]\n",
    "summary(li_model[[2]])[['varcor']]$cond['HenID:PenID']\n",
    "summary(li_model[[2]])[['varcor']]$cond['PenID']\n",
    "confint(fit)"
   ]
  },
  {
   "cell_type": "code",
   "execution_count": 49,
   "id": "12418929",
   "metadata": {},
   "outputs": [],
   "source": [
    "#http://www.strengejacke.de/sjPlot/reference/plot_model.html\n",
    "#plot model but model as row and coffieint as column\n",
    "#plot_models(li_model, p.shape = TRUE, rm.terms=c('DIB_sc','KBF_interp_sc','LEXP','MEPX'), grid = TRUE)#type = \"std2\", title='TreatmentOFH', "
   ]
  },
  {
   "cell_type": "code",
   "execution_count": 50,
   "id": "a5fc6b2c",
   "metadata": {},
   "outputs": [],
   "source": [
    "#in train\n",
    "#path_visual = 'C:/Users/camil/Desktop/animals_code/PhD-AnimalWelfare/Chapter3-OFH/plot'"
   ]
  },
  {
   "cell_type": "code",
   "execution_count": 51,
   "id": "0d38d0ef",
   "metadata": {},
   "outputs": [
    {
     "data": {
      "text/html": [
       "<style>\n",
       ".list-inline {list-style: none; margin:0; padding: 0}\n",
       ".list-inline>li {display: inline-block}\n",
       ".list-inline>li:not(:last-child)::after {content: \"\\00b7\"; padding: 0 .5ex}\n",
       "</style>\n",
       "<ol class=list-inline><li>-0.668153104781061</li><li>-0.400891862868637</li><li>-0.133630620956212</li><li>0.133630620956212</li><li>0.400891862868637</li><li>0.668153104781061</li></ol>\n"
      ],
      "text/latex": [
       "\\begin{enumerate*}\n",
       "\\item -0.668153104781061\n",
       "\\item -0.400891862868637\n",
       "\\item -0.133630620956212\n",
       "\\item 0.133630620956212\n",
       "\\item 0.400891862868637\n",
       "\\item 0.668153104781061\n",
       "\\end{enumerate*}\n"
      ],
      "text/markdown": [
       "1. -0.668153104781061\n",
       "2. -0.400891862868637\n",
       "3. -0.133630620956212\n",
       "4. 0.133630620956212\n",
       "5. 0.400891862868637\n",
       "6. 0.668153104781061\n",
       "\n",
       "\n"
      ],
      "text/plain": [
       "[1] -0.6681531 -0.4008919 -0.1336306  0.1336306  0.4008919  0.6681531"
      ]
     },
     "metadata": {},
     "output_type": "display_data"
    }
   ],
   "source": [
    "rescale(c(1,2,3,4,5,6))"
   ]
  },
  {
   "cell_type": "code",
   "execution_count": 52,
   "id": "127c0d99",
   "metadata": {},
   "outputs": [
    {
     "data": {
      "text/html": [
       "<style>\n",
       ".list-inline {list-style: none; margin:0; padding: 0}\n",
       ".list-inline>li {display: inline-block}\n",
       ".list-inline>li:not(:last-child)::after {content: \"\\00b7\"; padding: 0 .5ex}\n",
       "</style>\n",
       "<ol class=list-inline><li>-0.668153104781061</li><li>-0.400891862868637</li><li>-0.133630620956212</li><li>0.133630620956212</li><li>0.400891862868637</li><li>0.668153104781061</li></ol>\n"
      ],
      "text/latex": [
       "\\begin{enumerate*}\n",
       "\\item -0.668153104781061\n",
       "\\item -0.400891862868637\n",
       "\\item -0.133630620956212\n",
       "\\item 0.133630620956212\n",
       "\\item 0.400891862868637\n",
       "\\item 0.668153104781061\n",
       "\\end{enumerate*}\n"
      ],
      "text/markdown": [
       "1. -0.668153104781061\n",
       "2. -0.400891862868637\n",
       "3. -0.133630620956212\n",
       "4. 0.133630620956212\n",
       "5. 0.400891862868637\n",
       "6. 0.668153104781061\n",
       "\n",
       "\n"
      ],
      "text/plain": [
       "[1] -0.6681531 -0.4008919 -0.1336306  0.1336306  0.4008919  0.6681531"
      ]
     },
     "metadata": {},
     "output_type": "display_data"
    }
   ],
   "source": [
    "rescale(c(7,8,9,10,11,12))"
   ]
  },
  {
   "cell_type": "markdown",
   "id": "0fa8ebd8",
   "metadata": {},
   "source": [
    "# propindoor_duration_2_Zone_rs"
   ]
  },
  {
   "cell_type": "code",
   "execution_count": 56,
   "id": "b71e82c3",
   "metadata": {
    "scrolled": true
   },
   "outputs": [
    {
     "data": {
      "text/html": [
       "<style>\n",
       ".list-inline {list-style: none; margin:0; padding: 0}\n",
       ".list-inline>li {display: inline-block}\n",
       ".list-inline>li:not(:last-child)::after {content: \"\\00b7\"; padding: 0 .5ex}\n",
       "</style>\n",
       "<ol class=list-inline><li>37455</li><li>29</li></ol>\n"
      ],
      "text/latex": [
       "\\begin{enumerate*}\n",
       "\\item 37455\n",
       "\\item 29\n",
       "\\end{enumerate*}\n"
      ],
      "text/markdown": [
       "1. 37455\n",
       "2. 29\n",
       "\n",
       "\n"
      ],
      "text/plain": [
       "[1] 37455    29"
      ]
     },
     "metadata": {},
     "output_type": "display_data"
    },
    {
     "name": "stdout",
     "output_type": "stream",
     "text": [
      "[1] \"month2\"\n"
     ]
    },
    {
     "name": "stderr",
     "output_type": "stream",
     "text": [
      "Warning message in Matrix::sparseMatrix(dims = c(0, 0), i = integer(0), j = integer(0), :\n",
      "\"'giveCsparse' has been deprecated; setting 'repr = \"T\"' for you\"\n",
      "Warning message in Matrix::sparseMatrix(dims = c(0, 0), i = integer(0), j = integer(0), :\n",
      "\"'giveCsparse' has been deprecated; setting 'repr = \"T\"' for you\"\n",
      "Warning message in Matrix::sparseMatrix(dims = c(0, 0), i = integer(0), j = integer(0), :\n",
      "\"'giveCsparse' has been deprecated; setting 'repr = \"T\"' for you\"\n"
     ]
    },
    {
     "data": {
      "text/plain": [
       " Family: beta  ( logit )\n",
       "Formula:          propindoor_duration_2_Zone_rs ~ 1 + (1 | HenID)\n",
       "Data: df__\n",
       "\n",
       "     AIC      BIC   logLik deviance df.resid \n",
       " -7926.7  -7907.8   3966.3  -7932.7     4057 \n",
       "\n",
       "Random effects:\n",
       "\n",
       "Conditional model:\n",
       " Groups Name        Variance Std.Dev.\n",
       " HenID  (Intercept) 0.7037   0.8388  \n",
       "Number of obs: 4060, groups:  HenID, 173\n",
       "\n",
       "Overdispersion parameter for beta family (): 24.8 \n",
       "\n",
       "Conditional model:\n",
       "            Estimate Std. Error z value Pr(>|z|)    \n",
       "(Intercept) -0.76187    0.06434  -11.84   <2e-16 ***\n",
       "---\n",
       "Signif. codes:  0 '***' 0.001 '**' 0.01 '*' 0.05 '.' 0.1 ' ' 1"
      ]
     },
     "metadata": {},
     "output_type": "display_data"
    },
    {
     "name": "stderr",
     "output_type": "stream",
     "text": [
      "Warning message in Matrix::sparseMatrix(dims = c(0, 0), i = integer(0), j = integer(0), :\n",
      "\"'giveCsparse' has been deprecated; setting 'repr = \"T\"' for you\"\n",
      "Warning message in Matrix::sparseMatrix(dims = c(0, 0), i = integer(0), j = integer(0), :\n",
      "\"'giveCsparse' has been deprecated; setting 'repr = \"T\"' for you\"\n",
      "Warning message in Matrix::sparseMatrix(dims = c(0, 0), i = integer(0), j = integer(0), :\n",
      "\"'giveCsparse' has been deprecated; setting 'repr = \"T\"' for you\"\n",
      "Warning message:\n",
      "\"mu of 0.5 is too close to zero, estimate of random effect variances may be\n",
      "  unreliable.\"\n"
     ]
    },
    {
     "data": {
      "text/plain": [
       "\u001b[34m# R2 for Mixed Models\n",
       "\n",
       "\u001b[39m  Conditional R2: 0.942\n",
       "     Marginal R2: 0.000"
      ]
     },
     "metadata": {},
     "output_type": "display_data"
    }
   ],
   "source": [
    "df_ = df\n",
    "dim(df_)\n",
    "monthILBID = 'month2'\n",
    "print(monthILBID)\n",
    "df__ = df_[df_$monthILB==monthILBID,]\n",
    "df__$HenID = factor(df__$HenID)   \n",
    "df__$PenID = as.factor(df__$PenID)\n",
    "df__$CLASS = as.factor(df__$CLASS) \n",
    "fit_nopenid = glmmTMB(propindoor_duration_2_Zone_rs ~  CLASS+ Treatment + rescale(DIB) + rescale(weight_interp)+ rescale(nbr_h_per_day) + (1|HenID), \n",
    "                   data=df__, family=beta_family(link=\"logit\"))\n",
    "summary(fit_nopenid)\n",
    "#https://github.com/glmmTMB/glmmTMB/issues/169\n",
    "performance::r2(fit_nopenid)"
   ]
  },
  {
   "cell_type": "code",
   "execution_count": 42,
   "id": "6f9ad6bd",
   "metadata": {
    "scrolled": true
   },
   "outputs": [
    {
     "data": {
      "text/html": [
       "<style>\n",
       ".list-inline {list-style: none; margin:0; padding: 0}\n",
       ".list-inline>li {display: inline-block}\n",
       ".list-inline>li:not(:last-child)::after {content: \"\\00b7\"; padding: 0 .5ex}\n",
       "</style>\n",
       "<ol class=list-inline><li>37455</li><li>29</li></ol>\n"
      ],
      "text/latex": [
       "\\begin{enumerate*}\n",
       "\\item 37455\n",
       "\\item 29\n",
       "\\end{enumerate*}\n"
      ],
      "text/markdown": [
       "1. 37455\n",
       "2. 29\n",
       "\n",
       "\n"
      ],
      "text/plain": [
       "[1] 37455    29"
      ]
     },
     "metadata": {},
     "output_type": "display_data"
    },
    {
     "name": "stdout",
     "output_type": "stream",
     "text": [
      "[1] \"month5\"\n"
     ]
    },
    {
     "data": {
      "text/html": [
       "<table class=\"dataframe\">\n",
       "<caption>A matrix: 159 × 158 of type dbl</caption>\n",
       "<thead>\n",
       "\t<tr><th></th><th scope=col>hen_101</th><th scope=col>hen_102</th><th scope=col>hen_105</th><th scope=col>hen_106</th><th scope=col>hen_107</th><th scope=col>hen_108</th><th scope=col>hen_109</th><th scope=col>hen_111</th><th scope=col>hen_112</th><th scope=col>hen_113</th><th scope=col>...</th><th scope=col>hen_9</th><th scope=col>hen_90</th><th scope=col>hen_92</th><th scope=col>hen_93</th><th scope=col>hen_94</th><th scope=col>hen_95</th><th scope=col>hen_96</th><th scope=col>hen_97</th><th scope=col>hen_98</th><th scope=col>hen_99</th></tr>\n",
       "</thead>\n",
       "<tbody>\n",
       "\t<tr><th scope=row>hen_10</th><td>0</td><td>0</td><td>0</td><td>0</td><td>0</td><td>0</td><td>0</td><td>0</td><td>0</td><td>0</td><td>...</td><td>0</td><td>0</td><td>0</td><td>0</td><td>0</td><td>0</td><td>0</td><td>0</td><td>0</td><td>0</td></tr>\n",
       "\t<tr><th scope=row>hen_101</th><td>1</td><td>0</td><td>0</td><td>0</td><td>0</td><td>0</td><td>0</td><td>0</td><td>0</td><td>0</td><td>...</td><td>0</td><td>0</td><td>0</td><td>0</td><td>0</td><td>0</td><td>0</td><td>0</td><td>0</td><td>0</td></tr>\n",
       "\t<tr><th scope=row>hen_102</th><td>0</td><td>1</td><td>0</td><td>0</td><td>0</td><td>0</td><td>0</td><td>0</td><td>0</td><td>0</td><td>...</td><td>0</td><td>0</td><td>0</td><td>0</td><td>0</td><td>0</td><td>0</td><td>0</td><td>0</td><td>0</td></tr>\n",
       "\t<tr><th scope=row>hen_105</th><td>0</td><td>0</td><td>1</td><td>0</td><td>0</td><td>0</td><td>0</td><td>0</td><td>0</td><td>0</td><td>...</td><td>0</td><td>0</td><td>0</td><td>0</td><td>0</td><td>0</td><td>0</td><td>0</td><td>0</td><td>0</td></tr>\n",
       "\t<tr><th scope=row>hen_106</th><td>0</td><td>0</td><td>0</td><td>1</td><td>0</td><td>0</td><td>0</td><td>0</td><td>0</td><td>0</td><td>...</td><td>0</td><td>0</td><td>0</td><td>0</td><td>0</td><td>0</td><td>0</td><td>0</td><td>0</td><td>0</td></tr>\n",
       "\t<tr><th scope=row>hen_107</th><td>0</td><td>0</td><td>0</td><td>0</td><td>1</td><td>0</td><td>0</td><td>0</td><td>0</td><td>0</td><td>...</td><td>0</td><td>0</td><td>0</td><td>0</td><td>0</td><td>0</td><td>0</td><td>0</td><td>0</td><td>0</td></tr>\n",
       "\t<tr><th scope=row>hen_108</th><td>0</td><td>0</td><td>0</td><td>0</td><td>0</td><td>1</td><td>0</td><td>0</td><td>0</td><td>0</td><td>...</td><td>0</td><td>0</td><td>0</td><td>0</td><td>0</td><td>0</td><td>0</td><td>0</td><td>0</td><td>0</td></tr>\n",
       "\t<tr><th scope=row>hen_109</th><td>0</td><td>0</td><td>0</td><td>0</td><td>0</td><td>0</td><td>1</td><td>0</td><td>0</td><td>0</td><td>...</td><td>0</td><td>0</td><td>0</td><td>0</td><td>0</td><td>0</td><td>0</td><td>0</td><td>0</td><td>0</td></tr>\n",
       "\t<tr><th scope=row>hen_111</th><td>0</td><td>0</td><td>0</td><td>0</td><td>0</td><td>0</td><td>0</td><td>1</td><td>0</td><td>0</td><td>...</td><td>0</td><td>0</td><td>0</td><td>0</td><td>0</td><td>0</td><td>0</td><td>0</td><td>0</td><td>0</td></tr>\n",
       "\t<tr><th scope=row>hen_112</th><td>0</td><td>0</td><td>0</td><td>0</td><td>0</td><td>0</td><td>0</td><td>0</td><td>1</td><td>0</td><td>...</td><td>0</td><td>0</td><td>0</td><td>0</td><td>0</td><td>0</td><td>0</td><td>0</td><td>0</td><td>0</td></tr>\n",
       "\t<tr><th scope=row>hen_113</th><td>0</td><td>0</td><td>0</td><td>0</td><td>0</td><td>0</td><td>0</td><td>0</td><td>0</td><td>1</td><td>...</td><td>0</td><td>0</td><td>0</td><td>0</td><td>0</td><td>0</td><td>0</td><td>0</td><td>0</td><td>0</td></tr>\n",
       "\t<tr><th scope=row>hen_115</th><td>0</td><td>0</td><td>0</td><td>0</td><td>0</td><td>0</td><td>0</td><td>0</td><td>0</td><td>0</td><td>...</td><td>0</td><td>0</td><td>0</td><td>0</td><td>0</td><td>0</td><td>0</td><td>0</td><td>0</td><td>0</td></tr>\n",
       "\t<tr><th scope=row>hen_116</th><td>0</td><td>0</td><td>0</td><td>0</td><td>0</td><td>0</td><td>0</td><td>0</td><td>0</td><td>0</td><td>...</td><td>0</td><td>0</td><td>0</td><td>0</td><td>0</td><td>0</td><td>0</td><td>0</td><td>0</td><td>0</td></tr>\n",
       "\t<tr><th scope=row>hen_118</th><td>0</td><td>0</td><td>0</td><td>0</td><td>0</td><td>0</td><td>0</td><td>0</td><td>0</td><td>0</td><td>...</td><td>0</td><td>0</td><td>0</td><td>0</td><td>0</td><td>0</td><td>0</td><td>0</td><td>0</td><td>0</td></tr>\n",
       "\t<tr><th scope=row>hen_119</th><td>0</td><td>0</td><td>0</td><td>0</td><td>0</td><td>0</td><td>0</td><td>0</td><td>0</td><td>0</td><td>...</td><td>0</td><td>0</td><td>0</td><td>0</td><td>0</td><td>0</td><td>0</td><td>0</td><td>0</td><td>0</td></tr>\n",
       "\t<tr><th scope=row>hen_120</th><td>0</td><td>0</td><td>0</td><td>0</td><td>0</td><td>0</td><td>0</td><td>0</td><td>0</td><td>0</td><td>...</td><td>0</td><td>0</td><td>0</td><td>0</td><td>0</td><td>0</td><td>0</td><td>0</td><td>0</td><td>0</td></tr>\n",
       "\t<tr><th scope=row>hen_122</th><td>0</td><td>0</td><td>0</td><td>0</td><td>0</td><td>0</td><td>0</td><td>0</td><td>0</td><td>0</td><td>...</td><td>0</td><td>0</td><td>0</td><td>0</td><td>0</td><td>0</td><td>0</td><td>0</td><td>0</td><td>0</td></tr>\n",
       "\t<tr><th scope=row>hen_124</th><td>0</td><td>0</td><td>0</td><td>0</td><td>0</td><td>0</td><td>0</td><td>0</td><td>0</td><td>0</td><td>...</td><td>0</td><td>0</td><td>0</td><td>0</td><td>0</td><td>0</td><td>0</td><td>0</td><td>0</td><td>0</td></tr>\n",
       "\t<tr><th scope=row>hen_127</th><td>0</td><td>0</td><td>0</td><td>0</td><td>0</td><td>0</td><td>0</td><td>0</td><td>0</td><td>0</td><td>...</td><td>0</td><td>0</td><td>0</td><td>0</td><td>0</td><td>0</td><td>0</td><td>0</td><td>0</td><td>0</td></tr>\n",
       "\t<tr><th scope=row>hen_128</th><td>0</td><td>0</td><td>0</td><td>0</td><td>0</td><td>0</td><td>0</td><td>0</td><td>0</td><td>0</td><td>...</td><td>0</td><td>0</td><td>0</td><td>0</td><td>0</td><td>0</td><td>0</td><td>0</td><td>0</td><td>0</td></tr>\n",
       "\t<tr><th scope=row>hen_13</th><td>0</td><td>0</td><td>0</td><td>0</td><td>0</td><td>0</td><td>0</td><td>0</td><td>0</td><td>0</td><td>...</td><td>0</td><td>0</td><td>0</td><td>0</td><td>0</td><td>0</td><td>0</td><td>0</td><td>0</td><td>0</td></tr>\n",
       "\t<tr><th scope=row>hen_133</th><td>0</td><td>0</td><td>0</td><td>0</td><td>0</td><td>0</td><td>0</td><td>0</td><td>0</td><td>0</td><td>...</td><td>0</td><td>0</td><td>0</td><td>0</td><td>0</td><td>0</td><td>0</td><td>0</td><td>0</td><td>0</td></tr>\n",
       "\t<tr><th scope=row>hen_134</th><td>0</td><td>0</td><td>0</td><td>0</td><td>0</td><td>0</td><td>0</td><td>0</td><td>0</td><td>0</td><td>...</td><td>0</td><td>0</td><td>0</td><td>0</td><td>0</td><td>0</td><td>0</td><td>0</td><td>0</td><td>0</td></tr>\n",
       "\t<tr><th scope=row>hen_135</th><td>0</td><td>0</td><td>0</td><td>0</td><td>0</td><td>0</td><td>0</td><td>0</td><td>0</td><td>0</td><td>...</td><td>0</td><td>0</td><td>0</td><td>0</td><td>0</td><td>0</td><td>0</td><td>0</td><td>0</td><td>0</td></tr>\n",
       "\t<tr><th scope=row>hen_136</th><td>0</td><td>0</td><td>0</td><td>0</td><td>0</td><td>0</td><td>0</td><td>0</td><td>0</td><td>0</td><td>...</td><td>0</td><td>0</td><td>0</td><td>0</td><td>0</td><td>0</td><td>0</td><td>0</td><td>0</td><td>0</td></tr>\n",
       "\t<tr><th scope=row>hen_137</th><td>0</td><td>0</td><td>0</td><td>0</td><td>0</td><td>0</td><td>0</td><td>0</td><td>0</td><td>0</td><td>...</td><td>0</td><td>0</td><td>0</td><td>0</td><td>0</td><td>0</td><td>0</td><td>0</td><td>0</td><td>0</td></tr>\n",
       "\t<tr><th scope=row>hen_138</th><td>0</td><td>0</td><td>0</td><td>0</td><td>0</td><td>0</td><td>0</td><td>0</td><td>0</td><td>0</td><td>...</td><td>0</td><td>0</td><td>0</td><td>0</td><td>0</td><td>0</td><td>0</td><td>0</td><td>0</td><td>0</td></tr>\n",
       "\t<tr><th scope=row>hen_139</th><td>0</td><td>0</td><td>0</td><td>0</td><td>0</td><td>0</td><td>0</td><td>0</td><td>0</td><td>0</td><td>...</td><td>0</td><td>0</td><td>0</td><td>0</td><td>0</td><td>0</td><td>0</td><td>0</td><td>0</td><td>0</td></tr>\n",
       "\t<tr><th scope=row>hen_14</th><td>0</td><td>0</td><td>0</td><td>0</td><td>0</td><td>0</td><td>0</td><td>0</td><td>0</td><td>0</td><td>...</td><td>0</td><td>0</td><td>0</td><td>0</td><td>0</td><td>0</td><td>0</td><td>0</td><td>0</td><td>0</td></tr>\n",
       "\t<tr><th scope=row>hen_140</th><td>0</td><td>0</td><td>0</td><td>0</td><td>0</td><td>0</td><td>0</td><td>0</td><td>0</td><td>0</td><td>...</td><td>0</td><td>0</td><td>0</td><td>0</td><td>0</td><td>0</td><td>0</td><td>0</td><td>0</td><td>0</td></tr>\n",
       "\t<tr><th scope=row>...</th><td>...</td><td>...</td><td>...</td><td>...</td><td>...</td><td>...</td><td>...</td><td>...</td><td>...</td><td>...</td><td></td><td>...</td><td>...</td><td>...</td><td>...</td><td>...</td><td>...</td><td>...</td><td>...</td><td>...</td><td>...</td></tr>\n",
       "\t<tr><th scope=row>hen_68</th><td>0</td><td>0</td><td>0</td><td>0</td><td>0</td><td>0</td><td>0</td><td>0</td><td>0</td><td>0</td><td>...</td><td>0</td><td>0</td><td>0</td><td>0</td><td>0</td><td>0</td><td>0</td><td>0</td><td>0</td><td>0</td></tr>\n",
       "\t<tr><th scope=row>hen_69</th><td>0</td><td>0</td><td>0</td><td>0</td><td>0</td><td>0</td><td>0</td><td>0</td><td>0</td><td>0</td><td>...</td><td>0</td><td>0</td><td>0</td><td>0</td><td>0</td><td>0</td><td>0</td><td>0</td><td>0</td><td>0</td></tr>\n",
       "\t<tr><th scope=row>hen_7</th><td>0</td><td>0</td><td>0</td><td>0</td><td>0</td><td>0</td><td>0</td><td>0</td><td>0</td><td>0</td><td>...</td><td>0</td><td>0</td><td>0</td><td>0</td><td>0</td><td>0</td><td>0</td><td>0</td><td>0</td><td>0</td></tr>\n",
       "\t<tr><th scope=row>hen_71</th><td>0</td><td>0</td><td>0</td><td>0</td><td>0</td><td>0</td><td>0</td><td>0</td><td>0</td><td>0</td><td>...</td><td>0</td><td>0</td><td>0</td><td>0</td><td>0</td><td>0</td><td>0</td><td>0</td><td>0</td><td>0</td></tr>\n",
       "\t<tr><th scope=row>hen_72</th><td>0</td><td>0</td><td>0</td><td>0</td><td>0</td><td>0</td><td>0</td><td>0</td><td>0</td><td>0</td><td>...</td><td>0</td><td>0</td><td>0</td><td>0</td><td>0</td><td>0</td><td>0</td><td>0</td><td>0</td><td>0</td></tr>\n",
       "\t<tr><th scope=row>hen_73</th><td>0</td><td>0</td><td>0</td><td>0</td><td>0</td><td>0</td><td>0</td><td>0</td><td>0</td><td>0</td><td>...</td><td>0</td><td>0</td><td>0</td><td>0</td><td>0</td><td>0</td><td>0</td><td>0</td><td>0</td><td>0</td></tr>\n",
       "\t<tr><th scope=row>hen_75</th><td>0</td><td>0</td><td>0</td><td>0</td><td>0</td><td>0</td><td>0</td><td>0</td><td>0</td><td>0</td><td>...</td><td>0</td><td>0</td><td>0</td><td>0</td><td>0</td><td>0</td><td>0</td><td>0</td><td>0</td><td>0</td></tr>\n",
       "\t<tr><th scope=row>hen_76</th><td>0</td><td>0</td><td>0</td><td>0</td><td>0</td><td>0</td><td>0</td><td>0</td><td>0</td><td>0</td><td>...</td><td>0</td><td>0</td><td>0</td><td>0</td><td>0</td><td>0</td><td>0</td><td>0</td><td>0</td><td>0</td></tr>\n",
       "\t<tr><th scope=row>hen_77</th><td>0</td><td>0</td><td>0</td><td>0</td><td>0</td><td>0</td><td>0</td><td>0</td><td>0</td><td>0</td><td>...</td><td>0</td><td>0</td><td>0</td><td>0</td><td>0</td><td>0</td><td>0</td><td>0</td><td>0</td><td>0</td></tr>\n",
       "\t<tr><th scope=row>hen_78</th><td>0</td><td>0</td><td>0</td><td>0</td><td>0</td><td>0</td><td>0</td><td>0</td><td>0</td><td>0</td><td>...</td><td>0</td><td>0</td><td>0</td><td>0</td><td>0</td><td>0</td><td>0</td><td>0</td><td>0</td><td>0</td></tr>\n",
       "\t<tr><th scope=row>hen_79</th><td>0</td><td>0</td><td>0</td><td>0</td><td>0</td><td>0</td><td>0</td><td>0</td><td>0</td><td>0</td><td>...</td><td>0</td><td>0</td><td>0</td><td>0</td><td>0</td><td>0</td><td>0</td><td>0</td><td>0</td><td>0</td></tr>\n",
       "\t<tr><th scope=row>hen_8</th><td>0</td><td>0</td><td>0</td><td>0</td><td>0</td><td>0</td><td>0</td><td>0</td><td>0</td><td>0</td><td>...</td><td>0</td><td>0</td><td>0</td><td>0</td><td>0</td><td>0</td><td>0</td><td>0</td><td>0</td><td>0</td></tr>\n",
       "\t<tr><th scope=row>hen_80</th><td>0</td><td>0</td><td>0</td><td>0</td><td>0</td><td>0</td><td>0</td><td>0</td><td>0</td><td>0</td><td>...</td><td>0</td><td>0</td><td>0</td><td>0</td><td>0</td><td>0</td><td>0</td><td>0</td><td>0</td><td>0</td></tr>\n",
       "\t<tr><th scope=row>hen_81</th><td>0</td><td>0</td><td>0</td><td>0</td><td>0</td><td>0</td><td>0</td><td>0</td><td>0</td><td>0</td><td>...</td><td>0</td><td>0</td><td>0</td><td>0</td><td>0</td><td>0</td><td>0</td><td>0</td><td>0</td><td>0</td></tr>\n",
       "\t<tr><th scope=row>hen_82</th><td>0</td><td>0</td><td>0</td><td>0</td><td>0</td><td>0</td><td>0</td><td>0</td><td>0</td><td>0</td><td>...</td><td>0</td><td>0</td><td>0</td><td>0</td><td>0</td><td>0</td><td>0</td><td>0</td><td>0</td><td>0</td></tr>\n",
       "\t<tr><th scope=row>hen_83</th><td>0</td><td>0</td><td>0</td><td>0</td><td>0</td><td>0</td><td>0</td><td>0</td><td>0</td><td>0</td><td>...</td><td>0</td><td>0</td><td>0</td><td>0</td><td>0</td><td>0</td><td>0</td><td>0</td><td>0</td><td>0</td></tr>\n",
       "\t<tr><th scope=row>hen_84</th><td>0</td><td>0</td><td>0</td><td>0</td><td>0</td><td>0</td><td>0</td><td>0</td><td>0</td><td>0</td><td>...</td><td>0</td><td>0</td><td>0</td><td>0</td><td>0</td><td>0</td><td>0</td><td>0</td><td>0</td><td>0</td></tr>\n",
       "\t<tr><th scope=row>hen_85</th><td>0</td><td>0</td><td>0</td><td>0</td><td>0</td><td>0</td><td>0</td><td>0</td><td>0</td><td>0</td><td>...</td><td>0</td><td>0</td><td>0</td><td>0</td><td>0</td><td>0</td><td>0</td><td>0</td><td>0</td><td>0</td></tr>\n",
       "\t<tr><th scope=row>hen_87</th><td>0</td><td>0</td><td>0</td><td>0</td><td>0</td><td>0</td><td>0</td><td>0</td><td>0</td><td>0</td><td>...</td><td>0</td><td>0</td><td>0</td><td>0</td><td>0</td><td>0</td><td>0</td><td>0</td><td>0</td><td>0</td></tr>\n",
       "\t<tr><th scope=row>hen_89</th><td>0</td><td>0</td><td>0</td><td>0</td><td>0</td><td>0</td><td>0</td><td>0</td><td>0</td><td>0</td><td>...</td><td>0</td><td>0</td><td>0</td><td>0</td><td>0</td><td>0</td><td>0</td><td>0</td><td>0</td><td>0</td></tr>\n",
       "\t<tr><th scope=row>hen_9</th><td>0</td><td>0</td><td>0</td><td>0</td><td>0</td><td>0</td><td>0</td><td>0</td><td>0</td><td>0</td><td>...</td><td>1</td><td>0</td><td>0</td><td>0</td><td>0</td><td>0</td><td>0</td><td>0</td><td>0</td><td>0</td></tr>\n",
       "\t<tr><th scope=row>hen_90</th><td>0</td><td>0</td><td>0</td><td>0</td><td>0</td><td>0</td><td>0</td><td>0</td><td>0</td><td>0</td><td>...</td><td>0</td><td>1</td><td>0</td><td>0</td><td>0</td><td>0</td><td>0</td><td>0</td><td>0</td><td>0</td></tr>\n",
       "\t<tr><th scope=row>hen_92</th><td>0</td><td>0</td><td>0</td><td>0</td><td>0</td><td>0</td><td>0</td><td>0</td><td>0</td><td>0</td><td>...</td><td>0</td><td>0</td><td>1</td><td>0</td><td>0</td><td>0</td><td>0</td><td>0</td><td>0</td><td>0</td></tr>\n",
       "\t<tr><th scope=row>hen_93</th><td>0</td><td>0</td><td>0</td><td>0</td><td>0</td><td>0</td><td>0</td><td>0</td><td>0</td><td>0</td><td>...</td><td>0</td><td>0</td><td>0</td><td>1</td><td>0</td><td>0</td><td>0</td><td>0</td><td>0</td><td>0</td></tr>\n",
       "\t<tr><th scope=row>hen_94</th><td>0</td><td>0</td><td>0</td><td>0</td><td>0</td><td>0</td><td>0</td><td>0</td><td>0</td><td>0</td><td>...</td><td>0</td><td>0</td><td>0</td><td>0</td><td>1</td><td>0</td><td>0</td><td>0</td><td>0</td><td>0</td></tr>\n",
       "\t<tr><th scope=row>hen_95</th><td>0</td><td>0</td><td>0</td><td>0</td><td>0</td><td>0</td><td>0</td><td>0</td><td>0</td><td>0</td><td>...</td><td>0</td><td>0</td><td>0</td><td>0</td><td>0</td><td>1</td><td>0</td><td>0</td><td>0</td><td>0</td></tr>\n",
       "\t<tr><th scope=row>hen_96</th><td>0</td><td>0</td><td>0</td><td>0</td><td>0</td><td>0</td><td>0</td><td>0</td><td>0</td><td>0</td><td>...</td><td>0</td><td>0</td><td>0</td><td>0</td><td>0</td><td>0</td><td>1</td><td>0</td><td>0</td><td>0</td></tr>\n",
       "\t<tr><th scope=row>hen_97</th><td>0</td><td>0</td><td>0</td><td>0</td><td>0</td><td>0</td><td>0</td><td>0</td><td>0</td><td>0</td><td>...</td><td>0</td><td>0</td><td>0</td><td>0</td><td>0</td><td>0</td><td>0</td><td>1</td><td>0</td><td>0</td></tr>\n",
       "\t<tr><th scope=row>hen_98</th><td>0</td><td>0</td><td>0</td><td>0</td><td>0</td><td>0</td><td>0</td><td>0</td><td>0</td><td>0</td><td>...</td><td>0</td><td>0</td><td>0</td><td>0</td><td>0</td><td>0</td><td>0</td><td>0</td><td>1</td><td>0</td></tr>\n",
       "\t<tr><th scope=row>hen_99</th><td>0</td><td>0</td><td>0</td><td>0</td><td>0</td><td>0</td><td>0</td><td>0</td><td>0</td><td>0</td><td>...</td><td>0</td><td>0</td><td>0</td><td>0</td><td>0</td><td>0</td><td>0</td><td>0</td><td>0</td><td>1</td></tr>\n",
       "</tbody>\n",
       "</table>\n"
      ],
      "text/latex": [
       "A matrix: 159 × 158 of type dbl\n",
       "\\begin{tabular}{r|lllllllllllllllllllll}\n",
       "  & hen\\_101 & hen\\_102 & hen\\_105 & hen\\_106 & hen\\_107 & hen\\_108 & hen\\_109 & hen\\_111 & hen\\_112 & hen\\_113 & ... & hen\\_9 & hen\\_90 & hen\\_92 & hen\\_93 & hen\\_94 & hen\\_95 & hen\\_96 & hen\\_97 & hen\\_98 & hen\\_99\\\\\n",
       "\\hline\n",
       "\then\\_10 & 0 & 0 & 0 & 0 & 0 & 0 & 0 & 0 & 0 & 0 & ... & 0 & 0 & 0 & 0 & 0 & 0 & 0 & 0 & 0 & 0\\\\\n",
       "\then\\_101 & 1 & 0 & 0 & 0 & 0 & 0 & 0 & 0 & 0 & 0 & ... & 0 & 0 & 0 & 0 & 0 & 0 & 0 & 0 & 0 & 0\\\\\n",
       "\then\\_102 & 0 & 1 & 0 & 0 & 0 & 0 & 0 & 0 & 0 & 0 & ... & 0 & 0 & 0 & 0 & 0 & 0 & 0 & 0 & 0 & 0\\\\\n",
       "\then\\_105 & 0 & 0 & 1 & 0 & 0 & 0 & 0 & 0 & 0 & 0 & ... & 0 & 0 & 0 & 0 & 0 & 0 & 0 & 0 & 0 & 0\\\\\n",
       "\then\\_106 & 0 & 0 & 0 & 1 & 0 & 0 & 0 & 0 & 0 & 0 & ... & 0 & 0 & 0 & 0 & 0 & 0 & 0 & 0 & 0 & 0\\\\\n",
       "\then\\_107 & 0 & 0 & 0 & 0 & 1 & 0 & 0 & 0 & 0 & 0 & ... & 0 & 0 & 0 & 0 & 0 & 0 & 0 & 0 & 0 & 0\\\\\n",
       "\then\\_108 & 0 & 0 & 0 & 0 & 0 & 1 & 0 & 0 & 0 & 0 & ... & 0 & 0 & 0 & 0 & 0 & 0 & 0 & 0 & 0 & 0\\\\\n",
       "\then\\_109 & 0 & 0 & 0 & 0 & 0 & 0 & 1 & 0 & 0 & 0 & ... & 0 & 0 & 0 & 0 & 0 & 0 & 0 & 0 & 0 & 0\\\\\n",
       "\then\\_111 & 0 & 0 & 0 & 0 & 0 & 0 & 0 & 1 & 0 & 0 & ... & 0 & 0 & 0 & 0 & 0 & 0 & 0 & 0 & 0 & 0\\\\\n",
       "\then\\_112 & 0 & 0 & 0 & 0 & 0 & 0 & 0 & 0 & 1 & 0 & ... & 0 & 0 & 0 & 0 & 0 & 0 & 0 & 0 & 0 & 0\\\\\n",
       "\then\\_113 & 0 & 0 & 0 & 0 & 0 & 0 & 0 & 0 & 0 & 1 & ... & 0 & 0 & 0 & 0 & 0 & 0 & 0 & 0 & 0 & 0\\\\\n",
       "\then\\_115 & 0 & 0 & 0 & 0 & 0 & 0 & 0 & 0 & 0 & 0 & ... & 0 & 0 & 0 & 0 & 0 & 0 & 0 & 0 & 0 & 0\\\\\n",
       "\then\\_116 & 0 & 0 & 0 & 0 & 0 & 0 & 0 & 0 & 0 & 0 & ... & 0 & 0 & 0 & 0 & 0 & 0 & 0 & 0 & 0 & 0\\\\\n",
       "\then\\_118 & 0 & 0 & 0 & 0 & 0 & 0 & 0 & 0 & 0 & 0 & ... & 0 & 0 & 0 & 0 & 0 & 0 & 0 & 0 & 0 & 0\\\\\n",
       "\then\\_119 & 0 & 0 & 0 & 0 & 0 & 0 & 0 & 0 & 0 & 0 & ... & 0 & 0 & 0 & 0 & 0 & 0 & 0 & 0 & 0 & 0\\\\\n",
       "\then\\_120 & 0 & 0 & 0 & 0 & 0 & 0 & 0 & 0 & 0 & 0 & ... & 0 & 0 & 0 & 0 & 0 & 0 & 0 & 0 & 0 & 0\\\\\n",
       "\then\\_122 & 0 & 0 & 0 & 0 & 0 & 0 & 0 & 0 & 0 & 0 & ... & 0 & 0 & 0 & 0 & 0 & 0 & 0 & 0 & 0 & 0\\\\\n",
       "\then\\_124 & 0 & 0 & 0 & 0 & 0 & 0 & 0 & 0 & 0 & 0 & ... & 0 & 0 & 0 & 0 & 0 & 0 & 0 & 0 & 0 & 0\\\\\n",
       "\then\\_127 & 0 & 0 & 0 & 0 & 0 & 0 & 0 & 0 & 0 & 0 & ... & 0 & 0 & 0 & 0 & 0 & 0 & 0 & 0 & 0 & 0\\\\\n",
       "\then\\_128 & 0 & 0 & 0 & 0 & 0 & 0 & 0 & 0 & 0 & 0 & ... & 0 & 0 & 0 & 0 & 0 & 0 & 0 & 0 & 0 & 0\\\\\n",
       "\then\\_13 & 0 & 0 & 0 & 0 & 0 & 0 & 0 & 0 & 0 & 0 & ... & 0 & 0 & 0 & 0 & 0 & 0 & 0 & 0 & 0 & 0\\\\\n",
       "\then\\_133 & 0 & 0 & 0 & 0 & 0 & 0 & 0 & 0 & 0 & 0 & ... & 0 & 0 & 0 & 0 & 0 & 0 & 0 & 0 & 0 & 0\\\\\n",
       "\then\\_134 & 0 & 0 & 0 & 0 & 0 & 0 & 0 & 0 & 0 & 0 & ... & 0 & 0 & 0 & 0 & 0 & 0 & 0 & 0 & 0 & 0\\\\\n",
       "\then\\_135 & 0 & 0 & 0 & 0 & 0 & 0 & 0 & 0 & 0 & 0 & ... & 0 & 0 & 0 & 0 & 0 & 0 & 0 & 0 & 0 & 0\\\\\n",
       "\then\\_136 & 0 & 0 & 0 & 0 & 0 & 0 & 0 & 0 & 0 & 0 & ... & 0 & 0 & 0 & 0 & 0 & 0 & 0 & 0 & 0 & 0\\\\\n",
       "\then\\_137 & 0 & 0 & 0 & 0 & 0 & 0 & 0 & 0 & 0 & 0 & ... & 0 & 0 & 0 & 0 & 0 & 0 & 0 & 0 & 0 & 0\\\\\n",
       "\then\\_138 & 0 & 0 & 0 & 0 & 0 & 0 & 0 & 0 & 0 & 0 & ... & 0 & 0 & 0 & 0 & 0 & 0 & 0 & 0 & 0 & 0\\\\\n",
       "\then\\_139 & 0 & 0 & 0 & 0 & 0 & 0 & 0 & 0 & 0 & 0 & ... & 0 & 0 & 0 & 0 & 0 & 0 & 0 & 0 & 0 & 0\\\\\n",
       "\then\\_14 & 0 & 0 & 0 & 0 & 0 & 0 & 0 & 0 & 0 & 0 & ... & 0 & 0 & 0 & 0 & 0 & 0 & 0 & 0 & 0 & 0\\\\\n",
       "\then\\_140 & 0 & 0 & 0 & 0 & 0 & 0 & 0 & 0 & 0 & 0 & ... & 0 & 0 & 0 & 0 & 0 & 0 & 0 & 0 & 0 & 0\\\\\n",
       "\t... & ... & ... & ... & ... & ... & ... & ... & ... & ... & ... &  & ... & ... & ... & ... & ... & ... & ... & ... & ... & ...\\\\\n",
       "\then\\_68 & 0 & 0 & 0 & 0 & 0 & 0 & 0 & 0 & 0 & 0 & ... & 0 & 0 & 0 & 0 & 0 & 0 & 0 & 0 & 0 & 0\\\\\n",
       "\then\\_69 & 0 & 0 & 0 & 0 & 0 & 0 & 0 & 0 & 0 & 0 & ... & 0 & 0 & 0 & 0 & 0 & 0 & 0 & 0 & 0 & 0\\\\\n",
       "\then\\_7 & 0 & 0 & 0 & 0 & 0 & 0 & 0 & 0 & 0 & 0 & ... & 0 & 0 & 0 & 0 & 0 & 0 & 0 & 0 & 0 & 0\\\\\n",
       "\then\\_71 & 0 & 0 & 0 & 0 & 0 & 0 & 0 & 0 & 0 & 0 & ... & 0 & 0 & 0 & 0 & 0 & 0 & 0 & 0 & 0 & 0\\\\\n",
       "\then\\_72 & 0 & 0 & 0 & 0 & 0 & 0 & 0 & 0 & 0 & 0 & ... & 0 & 0 & 0 & 0 & 0 & 0 & 0 & 0 & 0 & 0\\\\\n",
       "\then\\_73 & 0 & 0 & 0 & 0 & 0 & 0 & 0 & 0 & 0 & 0 & ... & 0 & 0 & 0 & 0 & 0 & 0 & 0 & 0 & 0 & 0\\\\\n",
       "\then\\_75 & 0 & 0 & 0 & 0 & 0 & 0 & 0 & 0 & 0 & 0 & ... & 0 & 0 & 0 & 0 & 0 & 0 & 0 & 0 & 0 & 0\\\\\n",
       "\then\\_76 & 0 & 0 & 0 & 0 & 0 & 0 & 0 & 0 & 0 & 0 & ... & 0 & 0 & 0 & 0 & 0 & 0 & 0 & 0 & 0 & 0\\\\\n",
       "\then\\_77 & 0 & 0 & 0 & 0 & 0 & 0 & 0 & 0 & 0 & 0 & ... & 0 & 0 & 0 & 0 & 0 & 0 & 0 & 0 & 0 & 0\\\\\n",
       "\then\\_78 & 0 & 0 & 0 & 0 & 0 & 0 & 0 & 0 & 0 & 0 & ... & 0 & 0 & 0 & 0 & 0 & 0 & 0 & 0 & 0 & 0\\\\\n",
       "\then\\_79 & 0 & 0 & 0 & 0 & 0 & 0 & 0 & 0 & 0 & 0 & ... & 0 & 0 & 0 & 0 & 0 & 0 & 0 & 0 & 0 & 0\\\\\n",
       "\then\\_8 & 0 & 0 & 0 & 0 & 0 & 0 & 0 & 0 & 0 & 0 & ... & 0 & 0 & 0 & 0 & 0 & 0 & 0 & 0 & 0 & 0\\\\\n",
       "\then\\_80 & 0 & 0 & 0 & 0 & 0 & 0 & 0 & 0 & 0 & 0 & ... & 0 & 0 & 0 & 0 & 0 & 0 & 0 & 0 & 0 & 0\\\\\n",
       "\then\\_81 & 0 & 0 & 0 & 0 & 0 & 0 & 0 & 0 & 0 & 0 & ... & 0 & 0 & 0 & 0 & 0 & 0 & 0 & 0 & 0 & 0\\\\\n",
       "\then\\_82 & 0 & 0 & 0 & 0 & 0 & 0 & 0 & 0 & 0 & 0 & ... & 0 & 0 & 0 & 0 & 0 & 0 & 0 & 0 & 0 & 0\\\\\n",
       "\then\\_83 & 0 & 0 & 0 & 0 & 0 & 0 & 0 & 0 & 0 & 0 & ... & 0 & 0 & 0 & 0 & 0 & 0 & 0 & 0 & 0 & 0\\\\\n",
       "\then\\_84 & 0 & 0 & 0 & 0 & 0 & 0 & 0 & 0 & 0 & 0 & ... & 0 & 0 & 0 & 0 & 0 & 0 & 0 & 0 & 0 & 0\\\\\n",
       "\then\\_85 & 0 & 0 & 0 & 0 & 0 & 0 & 0 & 0 & 0 & 0 & ... & 0 & 0 & 0 & 0 & 0 & 0 & 0 & 0 & 0 & 0\\\\\n",
       "\then\\_87 & 0 & 0 & 0 & 0 & 0 & 0 & 0 & 0 & 0 & 0 & ... & 0 & 0 & 0 & 0 & 0 & 0 & 0 & 0 & 0 & 0\\\\\n",
       "\then\\_89 & 0 & 0 & 0 & 0 & 0 & 0 & 0 & 0 & 0 & 0 & ... & 0 & 0 & 0 & 0 & 0 & 0 & 0 & 0 & 0 & 0\\\\\n",
       "\then\\_9 & 0 & 0 & 0 & 0 & 0 & 0 & 0 & 0 & 0 & 0 & ... & 1 & 0 & 0 & 0 & 0 & 0 & 0 & 0 & 0 & 0\\\\\n",
       "\then\\_90 & 0 & 0 & 0 & 0 & 0 & 0 & 0 & 0 & 0 & 0 & ... & 0 & 1 & 0 & 0 & 0 & 0 & 0 & 0 & 0 & 0\\\\\n",
       "\then\\_92 & 0 & 0 & 0 & 0 & 0 & 0 & 0 & 0 & 0 & 0 & ... & 0 & 0 & 1 & 0 & 0 & 0 & 0 & 0 & 0 & 0\\\\\n",
       "\then\\_93 & 0 & 0 & 0 & 0 & 0 & 0 & 0 & 0 & 0 & 0 & ... & 0 & 0 & 0 & 1 & 0 & 0 & 0 & 0 & 0 & 0\\\\\n",
       "\then\\_94 & 0 & 0 & 0 & 0 & 0 & 0 & 0 & 0 & 0 & 0 & ... & 0 & 0 & 0 & 0 & 1 & 0 & 0 & 0 & 0 & 0\\\\\n",
       "\then\\_95 & 0 & 0 & 0 & 0 & 0 & 0 & 0 & 0 & 0 & 0 & ... & 0 & 0 & 0 & 0 & 0 & 1 & 0 & 0 & 0 & 0\\\\\n",
       "\then\\_96 & 0 & 0 & 0 & 0 & 0 & 0 & 0 & 0 & 0 & 0 & ... & 0 & 0 & 0 & 0 & 0 & 0 & 1 & 0 & 0 & 0\\\\\n",
       "\then\\_97 & 0 & 0 & 0 & 0 & 0 & 0 & 0 & 0 & 0 & 0 & ... & 0 & 0 & 0 & 0 & 0 & 0 & 0 & 1 & 0 & 0\\\\\n",
       "\then\\_98 & 0 & 0 & 0 & 0 & 0 & 0 & 0 & 0 & 0 & 0 & ... & 0 & 0 & 0 & 0 & 0 & 0 & 0 & 0 & 1 & 0\\\\\n",
       "\then\\_99 & 0 & 0 & 0 & 0 & 0 & 0 & 0 & 0 & 0 & 0 & ... & 0 & 0 & 0 & 0 & 0 & 0 & 0 & 0 & 0 & 1\\\\\n",
       "\\end{tabular}\n"
      ],
      "text/markdown": [
       "\n",
       "A matrix: 159 × 158 of type dbl\n",
       "\n",
       "| <!--/--> | hen_101 | hen_102 | hen_105 | hen_106 | hen_107 | hen_108 | hen_109 | hen_111 | hen_112 | hen_113 | ... | hen_9 | hen_90 | hen_92 | hen_93 | hen_94 | hen_95 | hen_96 | hen_97 | hen_98 | hen_99 |\n",
       "|---|---|---|---|---|---|---|---|---|---|---|---|---|---|---|---|---|---|---|---|---|---|\n",
       "| hen_10 | 0 | 0 | 0 | 0 | 0 | 0 | 0 | 0 | 0 | 0 | ... | 0 | 0 | 0 | 0 | 0 | 0 | 0 | 0 | 0 | 0 |\n",
       "| hen_101 | 1 | 0 | 0 | 0 | 0 | 0 | 0 | 0 | 0 | 0 | ... | 0 | 0 | 0 | 0 | 0 | 0 | 0 | 0 | 0 | 0 |\n",
       "| hen_102 | 0 | 1 | 0 | 0 | 0 | 0 | 0 | 0 | 0 | 0 | ... | 0 | 0 | 0 | 0 | 0 | 0 | 0 | 0 | 0 | 0 |\n",
       "| hen_105 | 0 | 0 | 1 | 0 | 0 | 0 | 0 | 0 | 0 | 0 | ... | 0 | 0 | 0 | 0 | 0 | 0 | 0 | 0 | 0 | 0 |\n",
       "| hen_106 | 0 | 0 | 0 | 1 | 0 | 0 | 0 | 0 | 0 | 0 | ... | 0 | 0 | 0 | 0 | 0 | 0 | 0 | 0 | 0 | 0 |\n",
       "| hen_107 | 0 | 0 | 0 | 0 | 1 | 0 | 0 | 0 | 0 | 0 | ... | 0 | 0 | 0 | 0 | 0 | 0 | 0 | 0 | 0 | 0 |\n",
       "| hen_108 | 0 | 0 | 0 | 0 | 0 | 1 | 0 | 0 | 0 | 0 | ... | 0 | 0 | 0 | 0 | 0 | 0 | 0 | 0 | 0 | 0 |\n",
       "| hen_109 | 0 | 0 | 0 | 0 | 0 | 0 | 1 | 0 | 0 | 0 | ... | 0 | 0 | 0 | 0 | 0 | 0 | 0 | 0 | 0 | 0 |\n",
       "| hen_111 | 0 | 0 | 0 | 0 | 0 | 0 | 0 | 1 | 0 | 0 | ... | 0 | 0 | 0 | 0 | 0 | 0 | 0 | 0 | 0 | 0 |\n",
       "| hen_112 | 0 | 0 | 0 | 0 | 0 | 0 | 0 | 0 | 1 | 0 | ... | 0 | 0 | 0 | 0 | 0 | 0 | 0 | 0 | 0 | 0 |\n",
       "| hen_113 | 0 | 0 | 0 | 0 | 0 | 0 | 0 | 0 | 0 | 1 | ... | 0 | 0 | 0 | 0 | 0 | 0 | 0 | 0 | 0 | 0 |\n",
       "| hen_115 | 0 | 0 | 0 | 0 | 0 | 0 | 0 | 0 | 0 | 0 | ... | 0 | 0 | 0 | 0 | 0 | 0 | 0 | 0 | 0 | 0 |\n",
       "| hen_116 | 0 | 0 | 0 | 0 | 0 | 0 | 0 | 0 | 0 | 0 | ... | 0 | 0 | 0 | 0 | 0 | 0 | 0 | 0 | 0 | 0 |\n",
       "| hen_118 | 0 | 0 | 0 | 0 | 0 | 0 | 0 | 0 | 0 | 0 | ... | 0 | 0 | 0 | 0 | 0 | 0 | 0 | 0 | 0 | 0 |\n",
       "| hen_119 | 0 | 0 | 0 | 0 | 0 | 0 | 0 | 0 | 0 | 0 | ... | 0 | 0 | 0 | 0 | 0 | 0 | 0 | 0 | 0 | 0 |\n",
       "| hen_120 | 0 | 0 | 0 | 0 | 0 | 0 | 0 | 0 | 0 | 0 | ... | 0 | 0 | 0 | 0 | 0 | 0 | 0 | 0 | 0 | 0 |\n",
       "| hen_122 | 0 | 0 | 0 | 0 | 0 | 0 | 0 | 0 | 0 | 0 | ... | 0 | 0 | 0 | 0 | 0 | 0 | 0 | 0 | 0 | 0 |\n",
       "| hen_124 | 0 | 0 | 0 | 0 | 0 | 0 | 0 | 0 | 0 | 0 | ... | 0 | 0 | 0 | 0 | 0 | 0 | 0 | 0 | 0 | 0 |\n",
       "| hen_127 | 0 | 0 | 0 | 0 | 0 | 0 | 0 | 0 | 0 | 0 | ... | 0 | 0 | 0 | 0 | 0 | 0 | 0 | 0 | 0 | 0 |\n",
       "| hen_128 | 0 | 0 | 0 | 0 | 0 | 0 | 0 | 0 | 0 | 0 | ... | 0 | 0 | 0 | 0 | 0 | 0 | 0 | 0 | 0 | 0 |\n",
       "| hen_13 | 0 | 0 | 0 | 0 | 0 | 0 | 0 | 0 | 0 | 0 | ... | 0 | 0 | 0 | 0 | 0 | 0 | 0 | 0 | 0 | 0 |\n",
       "| hen_133 | 0 | 0 | 0 | 0 | 0 | 0 | 0 | 0 | 0 | 0 | ... | 0 | 0 | 0 | 0 | 0 | 0 | 0 | 0 | 0 | 0 |\n",
       "| hen_134 | 0 | 0 | 0 | 0 | 0 | 0 | 0 | 0 | 0 | 0 | ... | 0 | 0 | 0 | 0 | 0 | 0 | 0 | 0 | 0 | 0 |\n",
       "| hen_135 | 0 | 0 | 0 | 0 | 0 | 0 | 0 | 0 | 0 | 0 | ... | 0 | 0 | 0 | 0 | 0 | 0 | 0 | 0 | 0 | 0 |\n",
       "| hen_136 | 0 | 0 | 0 | 0 | 0 | 0 | 0 | 0 | 0 | 0 | ... | 0 | 0 | 0 | 0 | 0 | 0 | 0 | 0 | 0 | 0 |\n",
       "| hen_137 | 0 | 0 | 0 | 0 | 0 | 0 | 0 | 0 | 0 | 0 | ... | 0 | 0 | 0 | 0 | 0 | 0 | 0 | 0 | 0 | 0 |\n",
       "| hen_138 | 0 | 0 | 0 | 0 | 0 | 0 | 0 | 0 | 0 | 0 | ... | 0 | 0 | 0 | 0 | 0 | 0 | 0 | 0 | 0 | 0 |\n",
       "| hen_139 | 0 | 0 | 0 | 0 | 0 | 0 | 0 | 0 | 0 | 0 | ... | 0 | 0 | 0 | 0 | 0 | 0 | 0 | 0 | 0 | 0 |\n",
       "| hen_14 | 0 | 0 | 0 | 0 | 0 | 0 | 0 | 0 | 0 | 0 | ... | 0 | 0 | 0 | 0 | 0 | 0 | 0 | 0 | 0 | 0 |\n",
       "| hen_140 | 0 | 0 | 0 | 0 | 0 | 0 | 0 | 0 | 0 | 0 | ... | 0 | 0 | 0 | 0 | 0 | 0 | 0 | 0 | 0 | 0 |\n",
       "| ... | ... | ... | ... | ... | ... | ... | ... | ... | ... | ... | <!----> | ... | ... | ... | ... | ... | ... | ... | ... | ... | ... |\n",
       "| hen_68 | 0 | 0 | 0 | 0 | 0 | 0 | 0 | 0 | 0 | 0 | ... | 0 | 0 | 0 | 0 | 0 | 0 | 0 | 0 | 0 | 0 |\n",
       "| hen_69 | 0 | 0 | 0 | 0 | 0 | 0 | 0 | 0 | 0 | 0 | ... | 0 | 0 | 0 | 0 | 0 | 0 | 0 | 0 | 0 | 0 |\n",
       "| hen_7 | 0 | 0 | 0 | 0 | 0 | 0 | 0 | 0 | 0 | 0 | ... | 0 | 0 | 0 | 0 | 0 | 0 | 0 | 0 | 0 | 0 |\n",
       "| hen_71 | 0 | 0 | 0 | 0 | 0 | 0 | 0 | 0 | 0 | 0 | ... | 0 | 0 | 0 | 0 | 0 | 0 | 0 | 0 | 0 | 0 |\n",
       "| hen_72 | 0 | 0 | 0 | 0 | 0 | 0 | 0 | 0 | 0 | 0 | ... | 0 | 0 | 0 | 0 | 0 | 0 | 0 | 0 | 0 | 0 |\n",
       "| hen_73 | 0 | 0 | 0 | 0 | 0 | 0 | 0 | 0 | 0 | 0 | ... | 0 | 0 | 0 | 0 | 0 | 0 | 0 | 0 | 0 | 0 |\n",
       "| hen_75 | 0 | 0 | 0 | 0 | 0 | 0 | 0 | 0 | 0 | 0 | ... | 0 | 0 | 0 | 0 | 0 | 0 | 0 | 0 | 0 | 0 |\n",
       "| hen_76 | 0 | 0 | 0 | 0 | 0 | 0 | 0 | 0 | 0 | 0 | ... | 0 | 0 | 0 | 0 | 0 | 0 | 0 | 0 | 0 | 0 |\n",
       "| hen_77 | 0 | 0 | 0 | 0 | 0 | 0 | 0 | 0 | 0 | 0 | ... | 0 | 0 | 0 | 0 | 0 | 0 | 0 | 0 | 0 | 0 |\n",
       "| hen_78 | 0 | 0 | 0 | 0 | 0 | 0 | 0 | 0 | 0 | 0 | ... | 0 | 0 | 0 | 0 | 0 | 0 | 0 | 0 | 0 | 0 |\n",
       "| hen_79 | 0 | 0 | 0 | 0 | 0 | 0 | 0 | 0 | 0 | 0 | ... | 0 | 0 | 0 | 0 | 0 | 0 | 0 | 0 | 0 | 0 |\n",
       "| hen_8 | 0 | 0 | 0 | 0 | 0 | 0 | 0 | 0 | 0 | 0 | ... | 0 | 0 | 0 | 0 | 0 | 0 | 0 | 0 | 0 | 0 |\n",
       "| hen_80 | 0 | 0 | 0 | 0 | 0 | 0 | 0 | 0 | 0 | 0 | ... | 0 | 0 | 0 | 0 | 0 | 0 | 0 | 0 | 0 | 0 |\n",
       "| hen_81 | 0 | 0 | 0 | 0 | 0 | 0 | 0 | 0 | 0 | 0 | ... | 0 | 0 | 0 | 0 | 0 | 0 | 0 | 0 | 0 | 0 |\n",
       "| hen_82 | 0 | 0 | 0 | 0 | 0 | 0 | 0 | 0 | 0 | 0 | ... | 0 | 0 | 0 | 0 | 0 | 0 | 0 | 0 | 0 | 0 |\n",
       "| hen_83 | 0 | 0 | 0 | 0 | 0 | 0 | 0 | 0 | 0 | 0 | ... | 0 | 0 | 0 | 0 | 0 | 0 | 0 | 0 | 0 | 0 |\n",
       "| hen_84 | 0 | 0 | 0 | 0 | 0 | 0 | 0 | 0 | 0 | 0 | ... | 0 | 0 | 0 | 0 | 0 | 0 | 0 | 0 | 0 | 0 |\n",
       "| hen_85 | 0 | 0 | 0 | 0 | 0 | 0 | 0 | 0 | 0 | 0 | ... | 0 | 0 | 0 | 0 | 0 | 0 | 0 | 0 | 0 | 0 |\n",
       "| hen_87 | 0 | 0 | 0 | 0 | 0 | 0 | 0 | 0 | 0 | 0 | ... | 0 | 0 | 0 | 0 | 0 | 0 | 0 | 0 | 0 | 0 |\n",
       "| hen_89 | 0 | 0 | 0 | 0 | 0 | 0 | 0 | 0 | 0 | 0 | ... | 0 | 0 | 0 | 0 | 0 | 0 | 0 | 0 | 0 | 0 |\n",
       "| hen_9 | 0 | 0 | 0 | 0 | 0 | 0 | 0 | 0 | 0 | 0 | ... | 1 | 0 | 0 | 0 | 0 | 0 | 0 | 0 | 0 | 0 |\n",
       "| hen_90 | 0 | 0 | 0 | 0 | 0 | 0 | 0 | 0 | 0 | 0 | ... | 0 | 1 | 0 | 0 | 0 | 0 | 0 | 0 | 0 | 0 |\n",
       "| hen_92 | 0 | 0 | 0 | 0 | 0 | 0 | 0 | 0 | 0 | 0 | ... | 0 | 0 | 1 | 0 | 0 | 0 | 0 | 0 | 0 | 0 |\n",
       "| hen_93 | 0 | 0 | 0 | 0 | 0 | 0 | 0 | 0 | 0 | 0 | ... | 0 | 0 | 0 | 1 | 0 | 0 | 0 | 0 | 0 | 0 |\n",
       "| hen_94 | 0 | 0 | 0 | 0 | 0 | 0 | 0 | 0 | 0 | 0 | ... | 0 | 0 | 0 | 0 | 1 | 0 | 0 | 0 | 0 | 0 |\n",
       "| hen_95 | 0 | 0 | 0 | 0 | 0 | 0 | 0 | 0 | 0 | 0 | ... | 0 | 0 | 0 | 0 | 0 | 1 | 0 | 0 | 0 | 0 |\n",
       "| hen_96 | 0 | 0 | 0 | 0 | 0 | 0 | 0 | 0 | 0 | 0 | ... | 0 | 0 | 0 | 0 | 0 | 0 | 1 | 0 | 0 | 0 |\n",
       "| hen_97 | 0 | 0 | 0 | 0 | 0 | 0 | 0 | 0 | 0 | 0 | ... | 0 | 0 | 0 | 0 | 0 | 0 | 0 | 1 | 0 | 0 |\n",
       "| hen_98 | 0 | 0 | 0 | 0 | 0 | 0 | 0 | 0 | 0 | 0 | ... | 0 | 0 | 0 | 0 | 0 | 0 | 0 | 0 | 1 | 0 |\n",
       "| hen_99 | 0 | 0 | 0 | 0 | 0 | 0 | 0 | 0 | 0 | 0 | ... | 0 | 0 | 0 | 0 | 0 | 0 | 0 | 0 | 0 | 1 |\n",
       "\n"
      ],
      "text/plain": [
       "        hen_101 hen_102 hen_105 hen_106 hen_107 hen_108 hen_109 hen_111 hen_112\n",
       "hen_10  0       0       0       0       0       0       0       0       0      \n",
       "hen_101 1       0       0       0       0       0       0       0       0      \n",
       "hen_102 0       1       0       0       0       0       0       0       0      \n",
       "hen_105 0       0       1       0       0       0       0       0       0      \n",
       "hen_106 0       0       0       1       0       0       0       0       0      \n",
       "hen_107 0       0       0       0       1       0       0       0       0      \n",
       "hen_108 0       0       0       0       0       1       0       0       0      \n",
       "hen_109 0       0       0       0       0       0       1       0       0      \n",
       "hen_111 0       0       0       0       0       0       0       1       0      \n",
       "hen_112 0       0       0       0       0       0       0       0       1      \n",
       "hen_113 0       0       0       0       0       0       0       0       0      \n",
       "hen_115 0       0       0       0       0       0       0       0       0      \n",
       "hen_116 0       0       0       0       0       0       0       0       0      \n",
       "hen_118 0       0       0       0       0       0       0       0       0      \n",
       "hen_119 0       0       0       0       0       0       0       0       0      \n",
       "hen_120 0       0       0       0       0       0       0       0       0      \n",
       "hen_122 0       0       0       0       0       0       0       0       0      \n",
       "hen_124 0       0       0       0       0       0       0       0       0      \n",
       "hen_127 0       0       0       0       0       0       0       0       0      \n",
       "hen_128 0       0       0       0       0       0       0       0       0      \n",
       "hen_13  0       0       0       0       0       0       0       0       0      \n",
       "hen_133 0       0       0       0       0       0       0       0       0      \n",
       "hen_134 0       0       0       0       0       0       0       0       0      \n",
       "hen_135 0       0       0       0       0       0       0       0       0      \n",
       "hen_136 0       0       0       0       0       0       0       0       0      \n",
       "hen_137 0       0       0       0       0       0       0       0       0      \n",
       "hen_138 0       0       0       0       0       0       0       0       0      \n",
       "hen_139 0       0       0       0       0       0       0       0       0      \n",
       "hen_14  0       0       0       0       0       0       0       0       0      \n",
       "hen_140 0       0       0       0       0       0       0       0       0      \n",
       "...     ...     ...     ...     ...     ...     ...     ...     ...     ...    \n",
       "hen_68  0       0       0       0       0       0       0       0       0      \n",
       "hen_69  0       0       0       0       0       0       0       0       0      \n",
       "hen_7   0       0       0       0       0       0       0       0       0      \n",
       "hen_71  0       0       0       0       0       0       0       0       0      \n",
       "hen_72  0       0       0       0       0       0       0       0       0      \n",
       "hen_73  0       0       0       0       0       0       0       0       0      \n",
       "hen_75  0       0       0       0       0       0       0       0       0      \n",
       "hen_76  0       0       0       0       0       0       0       0       0      \n",
       "hen_77  0       0       0       0       0       0       0       0       0      \n",
       "hen_78  0       0       0       0       0       0       0       0       0      \n",
       "hen_79  0       0       0       0       0       0       0       0       0      \n",
       "hen_8   0       0       0       0       0       0       0       0       0      \n",
       "hen_80  0       0       0       0       0       0       0       0       0      \n",
       "hen_81  0       0       0       0       0       0       0       0       0      \n",
       "hen_82  0       0       0       0       0       0       0       0       0      \n",
       "hen_83  0       0       0       0       0       0       0       0       0      \n",
       "hen_84  0       0       0       0       0       0       0       0       0      \n",
       "hen_85  0       0       0       0       0       0       0       0       0      \n",
       "hen_87  0       0       0       0       0       0       0       0       0      \n",
       "hen_89  0       0       0       0       0       0       0       0       0      \n",
       "hen_9   0       0       0       0       0       0       0       0       0      \n",
       "hen_90  0       0       0       0       0       0       0       0       0      \n",
       "hen_92  0       0       0       0       0       0       0       0       0      \n",
       "hen_93  0       0       0       0       0       0       0       0       0      \n",
       "hen_94  0       0       0       0       0       0       0       0       0      \n",
       "hen_95  0       0       0       0       0       0       0       0       0      \n",
       "hen_96  0       0       0       0       0       0       0       0       0      \n",
       "hen_97  0       0       0       0       0       0       0       0       0      \n",
       "hen_98  0       0       0       0       0       0       0       0       0      \n",
       "hen_99  0       0       0       0       0       0       0       0       0      \n",
       "        hen_113 ... hen_9 hen_90 hen_92 hen_93 hen_94 hen_95 hen_96 hen_97\n",
       "hen_10  0       ... 0     0      0      0      0      0      0      0     \n",
       "hen_101 0       ... 0     0      0      0      0      0      0      0     \n",
       "hen_102 0       ... 0     0      0      0      0      0      0      0     \n",
       "hen_105 0       ... 0     0      0      0      0      0      0      0     \n",
       "hen_106 0       ... 0     0      0      0      0      0      0      0     \n",
       "hen_107 0       ... 0     0      0      0      0      0      0      0     \n",
       "hen_108 0       ... 0     0      0      0      0      0      0      0     \n",
       "hen_109 0       ... 0     0      0      0      0      0      0      0     \n",
       "hen_111 0       ... 0     0      0      0      0      0      0      0     \n",
       "hen_112 0       ... 0     0      0      0      0      0      0      0     \n",
       "hen_113 1       ... 0     0      0      0      0      0      0      0     \n",
       "hen_115 0       ... 0     0      0      0      0      0      0      0     \n",
       "hen_116 0       ... 0     0      0      0      0      0      0      0     \n",
       "hen_118 0       ... 0     0      0      0      0      0      0      0     \n",
       "hen_119 0       ... 0     0      0      0      0      0      0      0     \n",
       "hen_120 0       ... 0     0      0      0      0      0      0      0     \n",
       "hen_122 0       ... 0     0      0      0      0      0      0      0     \n",
       "hen_124 0       ... 0     0      0      0      0      0      0      0     \n",
       "hen_127 0       ... 0     0      0      0      0      0      0      0     \n",
       "hen_128 0       ... 0     0      0      0      0      0      0      0     \n",
       "hen_13  0       ... 0     0      0      0      0      0      0      0     \n",
       "hen_133 0       ... 0     0      0      0      0      0      0      0     \n",
       "hen_134 0       ... 0     0      0      0      0      0      0      0     \n",
       "hen_135 0       ... 0     0      0      0      0      0      0      0     \n",
       "hen_136 0       ... 0     0      0      0      0      0      0      0     \n",
       "hen_137 0       ... 0     0      0      0      0      0      0      0     \n",
       "hen_138 0       ... 0     0      0      0      0      0      0      0     \n",
       "hen_139 0       ... 0     0      0      0      0      0      0      0     \n",
       "hen_14  0       ... 0     0      0      0      0      0      0      0     \n",
       "hen_140 0       ... 0     0      0      0      0      0      0      0     \n",
       "...     ...         ...   ...    ...    ...    ...    ...    ...    ...   \n",
       "hen_68  0       ... 0     0      0      0      0      0      0      0     \n",
       "hen_69  0       ... 0     0      0      0      0      0      0      0     \n",
       "hen_7   0       ... 0     0      0      0      0      0      0      0     \n",
       "hen_71  0       ... 0     0      0      0      0      0      0      0     \n",
       "hen_72  0       ... 0     0      0      0      0      0      0      0     \n",
       "hen_73  0       ... 0     0      0      0      0      0      0      0     \n",
       "hen_75  0       ... 0     0      0      0      0      0      0      0     \n",
       "hen_76  0       ... 0     0      0      0      0      0      0      0     \n",
       "hen_77  0       ... 0     0      0      0      0      0      0      0     \n",
       "hen_78  0       ... 0     0      0      0      0      0      0      0     \n",
       "hen_79  0       ... 0     0      0      0      0      0      0      0     \n",
       "hen_8   0       ... 0     0      0      0      0      0      0      0     \n",
       "hen_80  0       ... 0     0      0      0      0      0      0      0     \n",
       "hen_81  0       ... 0     0      0      0      0      0      0      0     \n",
       "hen_82  0       ... 0     0      0      0      0      0      0      0     \n",
       "hen_83  0       ... 0     0      0      0      0      0      0      0     \n",
       "hen_84  0       ... 0     0      0      0      0      0      0      0     \n",
       "hen_85  0       ... 0     0      0      0      0      0      0      0     \n",
       "hen_87  0       ... 0     0      0      0      0      0      0      0     \n",
       "hen_89  0       ... 0     0      0      0      0      0      0      0     \n",
       "hen_9   0       ... 1     0      0      0      0      0      0      0     \n",
       "hen_90  0       ... 0     1      0      0      0      0      0      0     \n",
       "hen_92  0       ... 0     0      1      0      0      0      0      0     \n",
       "hen_93  0       ... 0     0      0      1      0      0      0      0     \n",
       "hen_94  0       ... 0     0      0      0      1      0      0      0     \n",
       "hen_95  0       ... 0     0      0      0      0      1      0      0     \n",
       "hen_96  0       ... 0     0      0      0      0      0      1      0     \n",
       "hen_97  0       ... 0     0      0      0      0      0      0      1     \n",
       "hen_98  0       ... 0     0      0      0      0      0      0      0     \n",
       "hen_99  0       ... 0     0      0      0      0      0      0      0     \n",
       "        hen_98 hen_99\n",
       "hen_10  0      0     \n",
       "hen_101 0      0     \n",
       "hen_102 0      0     \n",
       "hen_105 0      0     \n",
       "hen_106 0      0     \n",
       "hen_107 0      0     \n",
       "hen_108 0      0     \n",
       "hen_109 0      0     \n",
       "hen_111 0      0     \n",
       "hen_112 0      0     \n",
       "hen_113 0      0     \n",
       "hen_115 0      0     \n",
       "hen_116 0      0     \n",
       "hen_118 0      0     \n",
       "hen_119 0      0     \n",
       "hen_120 0      0     \n",
       "hen_122 0      0     \n",
       "hen_124 0      0     \n",
       "hen_127 0      0     \n",
       "hen_128 0      0     \n",
       "hen_13  0      0     \n",
       "hen_133 0      0     \n",
       "hen_134 0      0     \n",
       "hen_135 0      0     \n",
       "hen_136 0      0     \n",
       "hen_137 0      0     \n",
       "hen_138 0      0     \n",
       "hen_139 0      0     \n",
       "hen_14  0      0     \n",
       "hen_140 0      0     \n",
       "...     ...    ...   \n",
       "hen_68  0      0     \n",
       "hen_69  0      0     \n",
       "hen_7   0      0     \n",
       "hen_71  0      0     \n",
       "hen_72  0      0     \n",
       "hen_73  0      0     \n",
       "hen_75  0      0     \n",
       "hen_76  0      0     \n",
       "hen_77  0      0     \n",
       "hen_78  0      0     \n",
       "hen_79  0      0     \n",
       "hen_8   0      0     \n",
       "hen_80  0      0     \n",
       "hen_81  0      0     \n",
       "hen_82  0      0     \n",
       "hen_83  0      0     \n",
       "hen_84  0      0     \n",
       "hen_85  0      0     \n",
       "hen_87  0      0     \n",
       "hen_89  0      0     \n",
       "hen_9   0      0     \n",
       "hen_90  0      0     \n",
       "hen_92  0      0     \n",
       "hen_93  0      0     \n",
       "hen_94  0      0     \n",
       "hen_95  0      0     \n",
       "hen_96  0      0     \n",
       "hen_97  0      0     \n",
       "hen_98  1      0     \n",
       "hen_99  0      1     "
      ]
     },
     "metadata": {},
     "output_type": "display_data"
    },
    {
     "name": "stderr",
     "output_type": "stream",
     "text": [
      "Warning message in Matrix::sparseMatrix(dims = c(0, 0), i = integer(0), j = integer(0), :\n",
      "\"'giveCsparse' has been deprecated; setting 'repr = \"T\"' for you\"\n",
      "Warning message in Matrix::sparseMatrix(dims = c(0, 0), i = integer(0), j = integer(0), :\n",
      "\"'giveCsparse' has been deprecated; setting 'repr = \"T\"' for you\"\n",
      "Warning message in Matrix::sparseMatrix(dims = c(0, 0), i = integer(0), j = integer(0), :\n",
      "\"'giveCsparse' has been deprecated; setting 'repr = \"T\"' for you\"\n"
     ]
    },
    {
     "data": {
      "text/plain": [
       " Family: beta  ( logit )\n",
       "Formula:          \n",
       "propindoor_duration_2_Zone_rs ~ CLASS + Treatment + rescale(DIB) +  \n",
       "    rescale(weight_interp) + rescale(KBF_interp) + (1 | HenID)\n",
       "Data: df__\n",
       "\n",
       "     AIC      BIC   logLik deviance df.resid \n",
       "-10725.9 -10669.5   5371.9 -10743.9     3858 \n",
       "\n",
       "Random effects:\n",
       "\n",
       "Conditional model:\n",
       " Groups Name        Variance Std.Dev.\n",
       " HenID  (Intercept) 0.7382   0.8592  \n",
       "Number of obs: 3867, groups:  HenID, 159\n",
       "\n",
       "Overdispersion parameter for beta family (): 66.6 \n",
       "\n",
       "Conditional model:\n",
       "                        Estimate Std. Error z value Pr(>|z|)    \n",
       "(Intercept)            -0.451454   0.112554  -4.011 6.05e-05 ***\n",
       "CLASSLEXP               0.027877   0.181798   0.153   0.8781    \n",
       "CLASSMEXP               0.084592   0.166809   0.507   0.6121    \n",
       "TreatmentOFH           -0.194126   0.137996  -1.407   0.1595    \n",
       "rescale(DIB)            0.006795   0.010830   0.627   0.5304    \n",
       "rescale(weight_interp) -0.221956   0.099831  -2.223   0.0262 *  \n",
       "rescale(KBF_interp)     0.132135   0.070856   1.865   0.0622 .  \n",
       "---\n",
       "Signif. codes:  0 '***' 0.001 '**' 0.01 '*' 0.05 '.' 0.1 ' ' 1"
      ]
     },
     "metadata": {},
     "output_type": "display_data"
    },
    {
     "name": "stderr",
     "output_type": "stream",
     "text": [
      "Warning message in Matrix::sparseMatrix(dims = c(0, 0), i = integer(0), j = integer(0), :\n",
      "\"'giveCsparse' has been deprecated; setting 'repr = \"T\"' for you\"\n",
      "Warning message in Matrix::sparseMatrix(dims = c(0, 0), i = integer(0), j = integer(0), :\n",
      "\"'giveCsparse' has been deprecated; setting 'repr = \"T\"' for you\"\n",
      "Warning message in Matrix::sparseMatrix(dims = c(0, 0), i = integer(0), j = integer(0), :\n",
      "\"'giveCsparse' has been deprecated; setting 'repr = \"T\"' for you\"\n",
      "Warning message:\n",
      "\"mu of 0.6 is too close to zero, estimate of random effect variances may be\n",
      "  unreliable.\"\n"
     ]
    },
    {
     "data": {
      "text/plain": [
       "\u001b[34m# R2 for Mixed Models\n",
       "\n",
       "\u001b[39m  Conditional R2: 0.987\n",
       "     Marginal R2: 0.034"
      ]
     },
     "metadata": {},
     "output_type": "display_data"
    }
   ],
   "source": [
    "#FULL MONTH 5\n",
    "#https://github.com/glmmTMB/glmmTMB/issues/169\n",
    "df_ = df\n",
    "dim(df_)\n",
    "monthILBID = 'month5'\n",
    "print(monthILBID)\n",
    "df__ = df_[df_$monthILB==monthILBID,]\n",
    "df__$HenID = factor(df__$HenID) \n",
    "df__$PenID = factor(df__$PenID)\n",
    "df__$CLASS = factor(df__$CLASS) \n",
    "fit_nopenid = glmmTMB(propindoor_duration_2_Zone_rs ~  CLASS+ Treatment + rescale(DIB) + rescale(weight_interp)+ rescale(KBF_interp) + (1|HenID), \n",
    "                   data=df__, family=beta_family(link=\"logit\"))\n",
    "summary(fit_nopenid)\n",
    "#https://github.com/glmmTMB/glmmTMB/issues/169\n",
    "performance::r2(fit_nopenid)"
   ]
  },
  {
   "cell_type": "code",
   "execution_count": null,
   "id": "fe8f0ec4",
   "metadata": {},
   "outputs": [],
   "source": []
  },
  {
   "cell_type": "code",
   "execution_count": null,
   "id": "88321136",
   "metadata": {},
   "outputs": [],
   "source": []
  },
  {
   "cell_type": "code",
   "execution_count": null,
   "id": "c3eef17d",
   "metadata": {},
   "outputs": [],
   "source": []
  },
  {
   "cell_type": "code",
   "execution_count": 42,
   "id": "964bb810",
   "metadata": {},
   "outputs": [
    {
     "data": {
      "text/html": [
       "<style>\n",
       ".list-inline {list-style: none; margin:0; padding: 0}\n",
       ".list-inline>li {display: inline-block}\n",
       ".list-inline>li:not(:last-child)::after {content: \"\\00b7\"; padding: 0 .5ex}\n",
       "</style>\n",
       "<ol class=list-inline><li>37455</li><li>30</li></ol>\n"
      ],
      "text/latex": [
       "\\begin{enumerate*}\n",
       "\\item 37455\n",
       "\\item 30\n",
       "\\end{enumerate*}\n"
      ],
      "text/markdown": [
       "1. 37455\n",
       "2. 30\n",
       "\n",
       "\n"
      ],
      "text/plain": [
       "[1] 37455    30"
      ]
     },
     "metadata": {},
     "output_type": "display_data"
    },
    {
     "name": "stdout",
     "output_type": "stream",
     "text": [
      "[1] \"month5\"\n"
     ]
    },
    {
     "data": {
      "text/html": [
       "<style>\n",
       ".list-inline {list-style: none; margin:0; padding: 0}\n",
       ".list-inline>li {display: inline-block}\n",
       ".list-inline>li:not(:last-child)::after {content: \"\\00b7\"; padding: 0 .5ex}\n",
       "</style>\n",
       "<ol class=list-inline><li>3867</li><li>30</li></ol>\n"
      ],
      "text/latex": [
       "\\begin{enumerate*}\n",
       "\\item 3867\n",
       "\\item 30\n",
       "\\end{enumerate*}\n"
      ],
      "text/markdown": [
       "1. 3867\n",
       "2. 30\n",
       "\n",
       "\n"
      ],
      "text/plain": [
       "[1] 3867   30"
      ]
     },
     "metadata": {},
     "output_type": "display_data"
    },
    {
     "data": {
      "text/html": [
       "<style>\n",
       ".list-inline {list-style: none; margin:0; padding: 0}\n",
       ".list-inline>li {display: inline-block}\n",
       ".list-inline>li:not(:last-child)::after {content: \"\\00b7\"; padding: 0 .5ex}\n",
       "</style>\n",
       "<ol class=list-inline><li>3867</li><li>30</li></ol>\n"
      ],
      "text/latex": [
       "\\begin{enumerate*}\n",
       "\\item 3867\n",
       "\\item 30\n",
       "\\end{enumerate*}\n"
      ],
      "text/markdown": [
       "1. 3867\n",
       "2. 30\n",
       "\n",
       "\n"
      ],
      "text/plain": [
       "[1] 3867   30"
      ]
     },
     "metadata": {},
     "output_type": "display_data"
    },
    {
     "name": "stderr",
     "output_type": "stream",
     "text": [
      "Warning message in Matrix::sparseMatrix(dims = c(0, 0), i = integer(0), j = integer(0), :\n",
      "\"'giveCsparse' has been deprecated; setting 'repr = \"T\"' for you\"\n",
      "Warning message in Matrix::sparseMatrix(dims = c(0, 0), i = integer(0), j = integer(0), :\n",
      "\"'giveCsparse' has been deprecated; setting 'repr = \"T\"' for you\"\n",
      "Warning message in Matrix::sparseMatrix(dims = c(0, 0), i = integer(0), j = integer(0), :\n",
      "\"'giveCsparse' has been deprecated; setting 'repr = \"T\"' for you\"\n"
     ]
    },
    {
     "data": {
      "text/plain": [
       " Family: beta  ( logit )\n",
       "Formula:          \n",
       "propindoor_duration_2_Zone_rs ~ CLASS + Treatment + rescale(DIB) +  \n",
       "    rescale(weight_interp) + rescale(KBF_interp) + (1 | HenID_sh)\n",
       "Data: df__\n",
       "\n",
       "     AIC      BIC   logLik deviance df.resid \n",
       " -2537.8  -2481.4   1277.9  -2555.8     3858 \n",
       "\n",
       "Random effects:\n",
       "\n",
       "Conditional model:\n",
       " Groups   Name        Variance Std.Dev.\n",
       " HenID_sh (Intercept) 0.002639 0.05137 \n",
       "Number of obs: 3867, groups:  HenID_sh, 159\n",
       "\n",
       "Overdispersion parameter for beta family ():  6.3 \n",
       "\n",
       "Conditional model:\n",
       "                        Estimate Std. Error z value Pr(>|z|)    \n",
       "(Intercept)            -0.401547   0.020511 -19.577  < 2e-16 ***\n",
       "CLASSLEXP               0.012595   0.032150   0.392 0.695243    \n",
       "CLASSMEXP               0.090885   0.029568   3.074 0.002114 ** \n",
       "TreatmentOFH           -0.163880   0.024745  -6.623 3.53e-11 ***\n",
       "rescale(DIB)            0.001444   0.024269   0.059 0.952555    \n",
       "rescale(weight_interp) -0.213834   0.024284  -8.806  < 2e-16 ***\n",
       "rescale(KBF_interp)     0.089914   0.024404   3.684 0.000229 ***\n",
       "---\n",
       "Signif. codes:  0 '***' 0.001 '**' 0.01 '*' 0.05 '.' 0.1 ' ' 1"
      ]
     },
     "metadata": {},
     "output_type": "display_data"
    },
    {
     "name": "stderr",
     "output_type": "stream",
     "text": [
      "Warning message in Matrix::sparseMatrix(dims = c(0, 0), i = integer(0), j = integer(0), :\n",
      "\"'giveCsparse' has been deprecated; setting 'repr = \"T\"' for you\"\n",
      "Warning message in Matrix::sparseMatrix(dims = c(0, 0), i = integer(0), j = integer(0), :\n",
      "\"'giveCsparse' has been deprecated; setting 'repr = \"T\"' for you\"\n",
      "Warning message in Matrix::sparseMatrix(dims = c(0, 0), i = integer(0), j = integer(0), :\n",
      "\"'giveCsparse' has been deprecated; setting 'repr = \"T\"' for you\"\n",
      "Warning message:\n",
      "\"mu of 0.6 is too close to zero, estimate of random effect variances may be\n",
      "  unreliable.\"\n"
     ]
    },
    {
     "data": {
      "text/plain": [
       "\u001b[34m# R2 for Mixed Models\n",
       "\n",
       "\u001b[39m  Conditional R2: 0.239\n",
       "     Marginal R2: 0.213"
      ]
     },
     "metadata": {},
     "output_type": "display_data"
    }
   ],
   "source": [
    "#FULL MONTH 5 SHUDDLE\n",
    "#https://github.com/glmmTMB/glmmTMB/issues/169\n",
    "df_ = df\n",
    "dim(df_)\n",
    "monthILBID = 'month5'\n",
    "print(monthILBID)\n",
    "df__ = df_[df_$monthILB==monthILBID,]\n",
    "is.odd <- function(x) x %% 2 != 0\n",
    "df$DIB_isodd = is.odd(df$DIB)\n",
    "dim(df__)\n",
    "#df__ = df__[df__$DIB_isodd,]\n",
    "dim(df__)\n",
    "df__$HenID_sh = sample(df__$HenID)\n",
    "fit_nopenid = glmmTMB(propindoor_duration_2_Zone_rs ~  CLASS+ Treatment + rescale(DIB) + rescale(weight_interp)+ rescale(KBF_interp) + (1|HenID_sh), \n",
    "                   data=df__, family=beta_family(link=\"logit\"))\n",
    "summary(fit_nopenid)\n",
    "#https://github.com/glmmTMB/glmmTMB/issues/169\n",
    "performance::r2(fit_nopenid)"
   ]
  },
  {
   "cell_type": "code",
   "execution_count": 39,
   "id": "ddeabd5b",
   "metadata": {},
   "outputs": [
    {
     "data": {
      "text/html": [
       "<table class=\"dataframe\">\n",
       "<caption>A data.frame: 3867 × 30</caption>\n",
       "<thead>\n",
       "\t<tr><th></th><th scope=col>HenID</th><th scope=col>PenID</th><th scope=col>level</th><th scope=col>Treatment</th><th scope=col>CLASS</th><th scope=col>DOA</th><th scope=col>WOA</th><th scope=col>DIB</th><th scope=col>WIB</th><th scope=col>weight_interp</th><th scope=col>...</th><th scope=col>propindoor_duration_5_Zone</th><th scope=col>propindoor_duration_4_Zone</th><th scope=col>propindoor_duration_2_Zone</th><th scope=col>propindoor_duration_5_Zone_rs</th><th scope=col>propindoor_duration_4_Zone_rs</th><th scope=col>propindoor_duration_2_Zone_rs</th><th scope=col>went_litter</th><th scope=col>stayed_top_tier</th><th scope=col>monthILB</th><th scope=col>HenID_sh</th></tr>\n",
       "\t<tr><th></th><th scope=col>&lt;fct&gt;</th><th scope=col>&lt;fct&gt;</th><th scope=col>&lt;fct&gt;</th><th scope=col>&lt;fct&gt;</th><th scope=col>&lt;fct&gt;</th><th scope=col>&lt;int&gt;</th><th scope=col>&lt;int&gt;</th><th scope=col>&lt;int&gt;</th><th scope=col>&lt;int&gt;</th><th scope=col>&lt;dbl&gt;</th><th scope=col>...</th><th scope=col>&lt;dbl&gt;</th><th scope=col>&lt;dbl&gt;</th><th scope=col>&lt;dbl&gt;</th><th scope=col>&lt;dbl&gt;</th><th scope=col>&lt;dbl&gt;</th><th scope=col>&lt;dbl&gt;</th><th scope=col>&lt;int&gt;</th><th scope=col>&lt;int&gt;</th><th scope=col>&lt;fct&gt;</th><th scope=col>&lt;fct&gt;</th></tr>\n",
       "</thead>\n",
       "<tbody>\n",
       "\t<tr><th scope=row>222</th><td>hen_134</td><td>pen10</td><td>2021-02-03</td><td>TRAN</td><td>MEXP</td><td>245</td><td>35</td><td>127</td><td>19</td><td>1702.791</td><td>...</td><td>0.60204082</td><td>0.09183673</td><td>0.2346939</td><td>0.60000000</td><td>0.10000000</td><td>0.2400000</td><td>1</td><td>0</td><td>month5</td><td>hen_51 </td></tr>\n",
       "\t<tr><th scope=row>223</th><td>hen_134</td><td>pen10</td><td>2021-02-04</td><td>TRAN</td><td>MEXP</td><td>246</td><td>36</td><td>128</td><td>19</td><td>1704.137</td><td>...</td><td>0.50000000</td><td>0.18367347</td><td>0.2142857</td><td>0.50000000</td><td>0.19000000</td><td>0.2200000</td><td>1</td><td>0</td><td>month5</td><td>hen_149</td></tr>\n",
       "\t<tr><th scope=row>224</th><td>hen_134</td><td>pen10</td><td>2021-02-05</td><td>TRAN</td><td>MEXP</td><td>247</td><td>36</td><td>129</td><td>19</td><td>1705.483</td><td>...</td><td>0.46938776</td><td>0.12244898</td><td>0.3061224</td><td>0.47000000</td><td>0.13000000</td><td>0.3100000</td><td>1</td><td>0</td><td>month5</td><td>hen_71 </td></tr>\n",
       "\t<tr><th scope=row>225</th><td>hen_134</td><td>pen10</td><td>2021-02-06</td><td>TRAN</td><td>MEXP</td><td>248</td><td>36</td><td>130</td><td>19</td><td>1706.829</td><td>...</td><td>0.39583333</td><td>0.13541667</td><td>0.3645833</td><td>0.39791667</td><td>0.14270833</td><td>0.3672917</td><td>1</td><td>0</td><td>month5</td><td>hen_170</td></tr>\n",
       "\t<tr><th scope=row>226</th><td>hen_134</td><td>pen10</td><td>2021-02-07</td><td>TRAN</td><td>MEXP</td><td>249</td><td>36</td><td>131</td><td>19</td><td>1708.174</td><td>...</td><td>0.52577320</td><td>0.11340206</td><td>0.2577320</td><td>0.52525773</td><td>0.12113402</td><td>0.2625773</td><td>1</td><td>0</td><td>month5</td><td>hen_105</td></tr>\n",
       "\t<tr><th scope=row>227</th><td>hen_134</td><td>pen10</td><td>2021-02-08</td><td>TRAN</td><td>MEXP</td><td>250</td><td>36</td><td>132</td><td>19</td><td>1709.520</td><td>...</td><td>0.52525253</td><td>0.12121212</td><td>0.2525253</td><td>0.52474747</td><td>0.12878788</td><td>0.2574747</td><td>1</td><td>0</td><td>month5</td><td>hen_197</td></tr>\n",
       "\t<tr><th scope=row>228</th><td>hen_134</td><td>pen10</td><td>2021-02-09</td><td>TRAN</td><td>MEXP</td><td>251</td><td>36</td><td>133</td><td>19</td><td>1710.866</td><td>...</td><td>0.63265306</td><td>0.11224490</td><td>0.1836735</td><td>0.63000000</td><td>0.12000000</td><td>0.1900000</td><td>1</td><td>0</td><td>month5</td><td>hen_122</td></tr>\n",
       "\t<tr><th scope=row>229</th><td>hen_134</td><td>pen10</td><td>2021-02-10</td><td>TRAN</td><td>MEXP</td><td>252</td><td>36</td><td>134</td><td>20</td><td>1712.211</td><td>...</td><td>0.51578947</td><td>0.14736842</td><td>0.2736842</td><td>0.51547368</td><td>0.15442105</td><td>0.2782105</td><td>1</td><td>0</td><td>month5</td><td>hen_15 </td></tr>\n",
       "\t<tr><th scope=row>230</th><td>hen_134</td><td>pen10</td><td>2021-02-11</td><td>TRAN</td><td>MEXP</td><td>253</td><td>37</td><td>135</td><td>20</td><td>1713.557</td><td>...</td><td>0.45000000</td><td>0.14000000</td><td>0.3100000</td><td>0.45100000</td><td>0.14720000</td><td>0.3138000</td><td>1</td><td>0</td><td>month5</td><td>hen_133</td></tr>\n",
       "\t<tr><th scope=row>231</th><td>hen_134</td><td>pen10</td><td>2021-02-12</td><td>TRAN</td><td>MEXP</td><td>254</td><td>37</td><td>136</td><td>20</td><td>1714.903</td><td>...</td><td>0.64000000</td><td>0.10000000</td><td>0.2100000</td><td>0.63720000</td><td>0.10800000</td><td>0.2158000</td><td>1</td><td>0</td><td>month5</td><td>hen_113</td></tr>\n",
       "\t<tr><th scope=row>232</th><td>hen_134</td><td>pen10</td><td>2021-02-13</td><td>TRAN</td><td>MEXP</td><td>255</td><td>37</td><td>137</td><td>20</td><td>1716.249</td><td>...</td><td>0.69000000</td><td>0.11000000</td><td>0.1700000</td><td>0.68620000</td><td>0.11780000</td><td>0.1766000</td><td>1</td><td>0</td><td>month5</td><td>hen_108</td></tr>\n",
       "\t<tr><th scope=row>233</th><td>hen_134</td><td>pen10</td><td>2021-02-14</td><td>TRAN</td><td>MEXP</td><td>256</td><td>37</td><td>138</td><td>20</td><td>1717.594</td><td>...</td><td>0.64000000</td><td>0.09000000</td><td>0.2300000</td><td>0.63720000</td><td>0.09820000</td><td>0.2354000</td><td>1</td><td>0</td><td>month5</td><td>hen_75 </td></tr>\n",
       "\t<tr><th scope=row>234</th><td>hen_134</td><td>pen10</td><td>2021-02-15</td><td>TRAN</td><td>MEXP</td><td>257</td><td>37</td><td>139</td><td>20</td><td>1718.940</td><td>...</td><td>0.54545455</td><td>0.11111111</td><td>0.2929293</td><td>0.54454545</td><td>0.11888889</td><td>0.2970707</td><td>1</td><td>0</td><td>month5</td><td>hen_177</td></tr>\n",
       "\t<tr><th scope=row>235</th><td>hen_134</td><td>pen10</td><td>2021-02-16</td><td>TRAN</td><td>MEXP</td><td>258</td><td>37</td><td>140</td><td>20</td><td>1720.286</td><td>...</td><td>0.57142857</td><td>0.11224490</td><td>0.2755102</td><td>0.57000000</td><td>0.12000000</td><td>0.2800000</td><td>1</td><td>0</td><td>month5</td><td>hen_76 </td></tr>\n",
       "\t<tr><th scope=row>236</th><td>hen_134</td><td>pen10</td><td>2021-02-17</td><td>TRAN</td><td>MEXP</td><td>259</td><td>37</td><td>141</td><td>21</td><td>1721.631</td><td>...</td><td>0.59000000</td><td>0.12000000</td><td>0.2600000</td><td>0.58820000</td><td>0.12760000</td><td>0.2648000</td><td>1</td><td>0</td><td>month5</td><td>hen_77 </td></tr>\n",
       "\t<tr><th scope=row>237</th><td>hen_134</td><td>pen10</td><td>2021-02-18</td><td>TRAN</td><td>MEXP</td><td>260</td><td>38</td><td>142</td><td>21</td><td>1722.977</td><td>...</td><td>0.64285714</td><td>0.12244898</td><td>0.1938776</td><td>0.64000000</td><td>0.13000000</td><td>0.2000000</td><td>1</td><td>0</td><td>month5</td><td>hen_57 </td></tr>\n",
       "\t<tr><th scope=row>238</th><td>hen_134</td><td>pen10</td><td>2021-02-19</td><td>TRAN</td><td>MEXP</td><td>261</td><td>38</td><td>143</td><td>21</td><td>1724.323</td><td>...</td><td>0.46391753</td><td>0.12371134</td><td>0.3092784</td><td>0.46463918</td><td>0.13123711</td><td>0.3130928</td><td>1</td><td>0</td><td>month5</td><td>hen_211</td></tr>\n",
       "\t<tr><th scope=row>239</th><td>hen_134</td><td>pen10</td><td>2021-02-20</td><td>TRAN</td><td>MEXP</td><td>262</td><td>38</td><td>144</td><td>21</td><td>1725.669</td><td>...</td><td>0.47959184</td><td>0.11224490</td><td>0.3265306</td><td>0.48000000</td><td>0.12000000</td><td>0.3300000</td><td>1</td><td>0</td><td>month5</td><td>hen_186</td></tr>\n",
       "\t<tr><th scope=row>240</th><td>hen_134</td><td>pen10</td><td>2021-02-21</td><td>TRAN</td><td>MEXP</td><td>263</td><td>38</td><td>145</td><td>21</td><td>1727.014</td><td>...</td><td>0.57731959</td><td>0.11340206</td><td>0.2268041</td><td>0.57577320</td><td>0.12113402</td><td>0.2322680</td><td>1</td><td>0</td><td>month5</td><td>hen_13 </td></tr>\n",
       "\t<tr><th scope=row>241</th><td>hen_134</td><td>pen10</td><td>2021-02-22</td><td>TRAN</td><td>MEXP</td><td>264</td><td>38</td><td>146</td><td>21</td><td>1728.360</td><td>...</td><td>0.49494949</td><td>0.11111111</td><td>0.3030303</td><td>0.49505051</td><td>0.11888889</td><td>0.3069697</td><td>1</td><td>0</td><td>month5</td><td>hen_165</td></tr>\n",
       "\t<tr><th scope=row>242</th><td>hen_134</td><td>pen10</td><td>2021-02-23</td><td>TRAN</td><td>MEXP</td><td>265</td><td>38</td><td>147</td><td>21</td><td>1729.706</td><td>...</td><td>0.50515464</td><td>0.13402062</td><td>0.3092784</td><td>0.50505155</td><td>0.14134021</td><td>0.3130928</td><td>1</td><td>0</td><td>month5</td><td>hen_169</td></tr>\n",
       "\t<tr><th scope=row>243</th><td>hen_134</td><td>pen10</td><td>2021-02-24</td><td>TRAN</td><td>MEXP</td><td>266</td><td>38</td><td>148</td><td>22</td><td>1731.051</td><td>...</td><td>0.49494949</td><td>0.12121212</td><td>0.2828283</td><td>0.49505051</td><td>0.12878788</td><td>0.2871717</td><td>1</td><td>0</td><td>month5</td><td>hen_54 </td></tr>\n",
       "\t<tr><th scope=row>244</th><td>hen_134</td><td>pen10</td><td>2021-02-25</td><td>TRAN</td><td>MEXP</td><td>267</td><td>39</td><td>149</td><td>22</td><td>1732.397</td><td>...</td><td>0.42268041</td><td>0.13402062</td><td>0.3298969</td><td>0.42422680</td><td>0.14134021</td><td>0.3332990</td><td>1</td><td>0</td><td>month5</td><td>hen_93 </td></tr>\n",
       "\t<tr><th scope=row>245</th><td>hen_134</td><td>pen10</td><td>2021-02-26</td><td>TRAN</td><td>MEXP</td><td>268</td><td>39</td><td>150</td><td>22</td><td>1733.743</td><td>...</td><td>0.32291667</td><td>0.13541667</td><td>0.3541667</td><td>0.32645833</td><td>0.14270833</td><td>0.3570833</td><td>1</td><td>0</td><td>month5</td><td>hen_137</td></tr>\n",
       "\t<tr><th scope=row>246</th><td>hen_134</td><td>pen10</td><td>2021-02-27</td><td>TRAN</td><td>MEXP</td><td>269</td><td>39</td><td>151</td><td>22</td><td>1735.089</td><td>...</td><td>0.55102041</td><td>0.12244898</td><td>0.2346939</td><td>0.55000000</td><td>0.13000000</td><td>0.2400000</td><td>1</td><td>0</td><td>month5</td><td>hen_180</td></tr>\n",
       "\t<tr><th scope=row>247</th><td>hen_134</td><td>pen10</td><td>2021-02-28</td><td>TRAN</td><td>MEXP</td><td>270</td><td>39</td><td>152</td><td>22</td><td>1736.434</td><td>...</td><td>0.48484848</td><td>0.12121212</td><td>0.2727273</td><td>0.48515152</td><td>0.12878788</td><td>0.2772727</td><td>1</td><td>0</td><td>month5</td><td>hen_145</td></tr>\n",
       "\t<tr><th scope=row>470</th><td>hen_138</td><td>pen10</td><td>2021-02-03</td><td>TRAN</td><td>MEXP</td><td>245</td><td>35</td><td>127</td><td>19</td><td>2019.326</td><td>...</td><td>0.04081633</td><td>0.05102041</td><td>0.5612245</td><td>0.05000000</td><td>0.06000000</td><td>0.5600000</td><td>1</td><td>0</td><td>month5</td><td>hen_79 </td></tr>\n",
       "\t<tr><th scope=row>471</th><td>hen_138</td><td>pen10</td><td>2021-02-04</td><td>TRAN</td><td>MEXP</td><td>246</td><td>36</td><td>128</td><td>19</td><td>2021.439</td><td>...</td><td>0.02061856</td><td>0.05154639</td><td>0.5670103</td><td>0.03020619</td><td>0.06051546</td><td>0.5656701</td><td>1</td><td>0</td><td>month5</td><td>hen_173</td></tr>\n",
       "\t<tr><th scope=row>472</th><td>hen_138</td><td>pen10</td><td>2021-02-05</td><td>TRAN</td><td>MEXP</td><td>247</td><td>36</td><td>129</td><td>19</td><td>2023.551</td><td>...</td><td>0.03061224</td><td>0.05102041</td><td>0.5204082</td><td>0.04000000</td><td>0.06000000</td><td>0.5200000</td><td>1</td><td>0</td><td>month5</td><td>hen_151</td></tr>\n",
       "\t<tr><th scope=row>473</th><td>hen_138</td><td>pen10</td><td>2021-02-06</td><td>TRAN</td><td>MEXP</td><td>248</td><td>36</td><td>130</td><td>19</td><td>2025.664</td><td>...</td><td>0.04166667</td><td>0.04166667</td><td>0.5520833</td><td>0.05083333</td><td>0.05083333</td><td>0.5510417</td><td>1</td><td>0</td><td>month5</td><td>hen_138</td></tr>\n",
       "\t<tr><th scope=row>...</th><td>...</td><td>...</td><td>...</td><td>...</td><td>...</td><td>...</td><td>...</td><td>...</td><td>...</td><td>...</td><td></td><td>...</td><td>...</td><td>...</td><td>...</td><td>...</td><td>...</td><td>...</td><td>...</td><td>...</td><td>...</td></tr>\n",
       "\t<tr><th scope=row>37934</th><td>hen_93</td><td>pen9</td><td>2021-02-23</td><td>OFH</td><td>REXP</td><td>265</td><td>38</td><td>147</td><td>21</td><td>1758.334</td><td>...</td><td>0.9000000</td><td>0.10000000</td><td>0.0000000</td><td>0.8920000</td><td>0.10800000</td><td>0.0100000</td><td>0</td><td>0</td><td>month5</td><td>hen_58 </td></tr>\n",
       "\t<tr><th scope=row>37935</th><td>hen_93</td><td>pen9</td><td>2021-02-24</td><td>OFH</td><td>REXP</td><td>266</td><td>38</td><td>148</td><td>22</td><td>1759.359</td><td>...</td><td>0.8800000</td><td>0.06000000</td><td>0.0500000</td><td>0.8724000</td><td>0.06880000</td><td>0.0590000</td><td>1</td><td>0</td><td>month5</td><td>hen_193</td></tr>\n",
       "\t<tr><th scope=row>37936</th><td>hen_93</td><td>pen9</td><td>2021-02-26</td><td>OFH</td><td>REXP</td><td>268</td><td>39</td><td>150</td><td>22</td><td>1761.407</td><td>...</td><td>0.7800000</td><td>0.10000000</td><td>0.0900000</td><td>0.7744000</td><td>0.10800000</td><td>0.0982000</td><td>1</td><td>0</td><td>month5</td><td>hen_50 </td></tr>\n",
       "\t<tr><th scope=row>37937</th><td>hen_93</td><td>pen9</td><td>2021-02-27</td><td>OFH</td><td>REXP</td><td>269</td><td>39</td><td>151</td><td>22</td><td>1762.431</td><td>...</td><td>0.8900000</td><td>0.06000000</td><td>0.0500000</td><td>0.8822000</td><td>0.06880000</td><td>0.0590000</td><td>1</td><td>0</td><td>month5</td><td>hen_143</td></tr>\n",
       "\t<tr><th scope=row>37938</th><td>hen_93</td><td>pen9</td><td>2021-02-28</td><td>OFH</td><td>REXP</td><td>270</td><td>39</td><td>152</td><td>22</td><td>1763.456</td><td>...</td><td>0.9000000</td><td>0.07000000</td><td>0.0300000</td><td>0.8920000</td><td>0.07860000</td><td>0.0394000</td><td>1</td><td>0</td><td>month5</td><td>hen_68 </td></tr>\n",
       "\t<tr><th scope=row>38163</th><td>hen_98</td><td>pen9</td><td>2021-02-03</td><td>OFH</td><td>MEXP</td><td>245</td><td>35</td><td>127</td><td>19</td><td>1715.220</td><td>...</td><td>0.2755102</td><td>0.16326531</td><td>0.3163265</td><td>0.2800000</td><td>0.17000000</td><td>0.3200000</td><td>1</td><td>0</td><td>month5</td><td>hen_7  </td></tr>\n",
       "\t<tr><th scope=row>38164</th><td>hen_98</td><td>pen9</td><td>2021-02-04</td><td>OFH</td><td>MEXP</td><td>246</td><td>36</td><td>128</td><td>19</td><td>1715.580</td><td>...</td><td>0.5050505</td><td>0.15151515</td><td>0.2323232</td><td>0.5049495</td><td>0.15848485</td><td>0.2376768</td><td>1</td><td>0</td><td>month5</td><td>hen_92 </td></tr>\n",
       "\t<tr><th scope=row>38165</th><td>hen_98</td><td>pen9</td><td>2021-02-05</td><td>OFH</td><td>MEXP</td><td>247</td><td>36</td><td>129</td><td>19</td><td>1715.940</td><td>...</td><td>0.5000000</td><td>0.07291667</td><td>0.2708333</td><td>0.5000000</td><td>0.08145833</td><td>0.2754167</td><td>1</td><td>0</td><td>month5</td><td>hen_211</td></tr>\n",
       "\t<tr><th scope=row>38166</th><td>hen_98</td><td>pen9</td><td>2021-02-06</td><td>OFH</td><td>MEXP</td><td>248</td><td>36</td><td>130</td><td>19</td><td>1716.300</td><td>...</td><td>0.3265306</td><td>0.11224490</td><td>0.3775510</td><td>0.3300000</td><td>0.12000000</td><td>0.3800000</td><td>1</td><td>0</td><td>month5</td><td>hen_133</td></tr>\n",
       "\t<tr><th scope=row>38167</th><td>hen_98</td><td>pen9</td><td>2021-02-07</td><td>OFH</td><td>MEXP</td><td>249</td><td>36</td><td>131</td><td>19</td><td>1716.660</td><td>...</td><td>0.3775510</td><td>0.09183673</td><td>0.3367347</td><td>0.3800000</td><td>0.10000000</td><td>0.3400000</td><td>1</td><td>0</td><td>month5</td><td>hen_147</td></tr>\n",
       "\t<tr><th scope=row>38168</th><td>hen_98</td><td>pen9</td><td>2021-02-08</td><td>OFH</td><td>MEXP</td><td>250</td><td>36</td><td>132</td><td>19</td><td>1717.020</td><td>...</td><td>0.2234043</td><td>0.12765957</td><td>0.4574468</td><td>0.2289362</td><td>0.13510638</td><td>0.4582979</td><td>1</td><td>0</td><td>month5</td><td>hen_85 </td></tr>\n",
       "\t<tr><th scope=row>38169</th><td>hen_98</td><td>pen9</td><td>2021-02-09</td><td>OFH</td><td>MEXP</td><td>251</td><td>36</td><td>133</td><td>19</td><td>1717.380</td><td>...</td><td>0.2474227</td><td>0.09278351</td><td>0.3917526</td><td>0.2524742</td><td>0.10092784</td><td>0.3939175</td><td>1</td><td>0</td><td>month5</td><td>hen_139</td></tr>\n",
       "\t<tr><th scope=row>38170</th><td>hen_98</td><td>pen9</td><td>2021-02-10</td><td>OFH</td><td>MEXP</td><td>252</td><td>36</td><td>134</td><td>20</td><td>1717.740</td><td>...</td><td>0.2959184</td><td>0.14285714</td><td>0.3571429</td><td>0.3000000</td><td>0.15000000</td><td>0.3600000</td><td>1</td><td>0</td><td>month5</td><td>hen_19 </td></tr>\n",
       "\t<tr><th scope=row>38171</th><td>hen_98</td><td>pen9</td><td>2021-02-11</td><td>OFH</td><td>MEXP</td><td>253</td><td>37</td><td>135</td><td>20</td><td>1718.100</td><td>...</td><td>0.2828283</td><td>0.06060606</td><td>0.4545455</td><td>0.2871717</td><td>0.06939394</td><td>0.4554545</td><td>1</td><td>0</td><td>month5</td><td>hen_180</td></tr>\n",
       "\t<tr><th scope=row>38172</th><td>hen_98</td><td>pen9</td><td>2021-02-12</td><td>OFH</td><td>MEXP</td><td>254</td><td>37</td><td>136</td><td>20</td><td>1718.460</td><td>...</td><td>0.1100000</td><td>0.11000000</td><td>0.4600000</td><td>0.1178000</td><td>0.11780000</td><td>0.4608000</td><td>1</td><td>0</td><td>month5</td><td>hen_15 </td></tr>\n",
       "\t<tr><th scope=row>38173</th><td>hen_98</td><td>pen9</td><td>2021-02-13</td><td>OFH</td><td>MEXP</td><td>255</td><td>37</td><td>137</td><td>20</td><td>1718.820</td><td>...</td><td>0.3400000</td><td>0.10000000</td><td>0.3700000</td><td>0.3432000</td><td>0.10800000</td><td>0.3726000</td><td>1</td><td>0</td><td>month5</td><td>hen_205</td></tr>\n",
       "\t<tr><th scope=row>38174</th><td>hen_98</td><td>pen9</td><td>2021-02-14</td><td>OFH</td><td>MEXP</td><td>256</td><td>37</td><td>138</td><td>20</td><td>1719.180</td><td>...</td><td>0.5000000</td><td>0.07000000</td><td>0.2900000</td><td>0.5000000</td><td>0.07860000</td><td>0.2942000</td><td>1</td><td>0</td><td>month5</td><td>hen_187</td></tr>\n",
       "\t<tr><th scope=row>38175</th><td>hen_98</td><td>pen9</td><td>2021-02-15</td><td>OFH</td><td>MEXP</td><td>257</td><td>37</td><td>139</td><td>20</td><td>1719.540</td><td>...</td><td>0.6326531</td><td>0.12244898</td><td>0.1632653</td><td>0.6300000</td><td>0.13000000</td><td>0.1700000</td><td>1</td><td>0</td><td>month5</td><td>hen_153</td></tr>\n",
       "\t<tr><th scope=row>38176</th><td>hen_98</td><td>pen9</td><td>2021-02-16</td><td>OFH</td><td>MEXP</td><td>258</td><td>37</td><td>140</td><td>20</td><td>1719.900</td><td>...</td><td>0.2842105</td><td>0.08421053</td><td>0.4842105</td><td>0.2885263</td><td>0.09252632</td><td>0.4845263</td><td>1</td><td>0</td><td>month5</td><td>hen_181</td></tr>\n",
       "\t<tr><th scope=row>38177</th><td>hen_98</td><td>pen9</td><td>2021-02-17</td><td>OFH</td><td>MEXP</td><td>259</td><td>37</td><td>141</td><td>21</td><td>1720.260</td><td>...</td><td>0.3300000</td><td>0.23000000</td><td>0.3000000</td><td>0.3334000</td><td>0.23540000</td><td>0.3040000</td><td>1</td><td>0</td><td>month5</td><td>hen_97 </td></tr>\n",
       "\t<tr><th scope=row>38178</th><td>hen_98</td><td>pen9</td><td>2021-02-18</td><td>OFH</td><td>MEXP</td><td>260</td><td>38</td><td>142</td><td>21</td><td>1720.620</td><td>...</td><td>0.3157895</td><td>0.14736842</td><td>0.3684211</td><td>0.3194737</td><td>0.15442105</td><td>0.3710526</td><td>1</td><td>0</td><td>month5</td><td>hen_151</td></tr>\n",
       "\t<tr><th scope=row>38179</th><td>hen_98</td><td>pen9</td><td>2021-02-19</td><td>OFH</td><td>MEXP</td><td>261</td><td>38</td><td>143</td><td>21</td><td>1720.980</td><td>...</td><td>0.3777778</td><td>0.16666667</td><td>0.3222222</td><td>0.3802222</td><td>0.17333333</td><td>0.3257778</td><td>1</td><td>0</td><td>month5</td><td>hen_111</td></tr>\n",
       "\t<tr><th scope=row>38180</th><td>hen_98</td><td>pen9</td><td>2021-02-20</td><td>OFH</td><td>MEXP</td><td>262</td><td>38</td><td>144</td><td>21</td><td>1721.340</td><td>...</td><td>0.3894737</td><td>0.20000000</td><td>0.2842105</td><td>0.3916842</td><td>0.20600000</td><td>0.2885263</td><td>1</td><td>0</td><td>month5</td><td>hen_122</td></tr>\n",
       "\t<tr><th scope=row>38181</th><td>hen_98</td><td>pen9</td><td>2021-02-21</td><td>OFH</td><td>MEXP</td><td>263</td><td>38</td><td>145</td><td>21</td><td>1721.700</td><td>...</td><td>0.3265306</td><td>0.18367347</td><td>0.2857143</td><td>0.3300000</td><td>0.19000000</td><td>0.2900000</td><td>1</td><td>0</td><td>month5</td><td>hen_78 </td></tr>\n",
       "\t<tr><th scope=row>38182</th><td>hen_98</td><td>pen9</td><td>2021-02-22</td><td>OFH</td><td>MEXP</td><td>264</td><td>38</td><td>146</td><td>21</td><td>1722.060</td><td>...</td><td>0.3125000</td><td>0.11458333</td><td>0.4062500</td><td>0.3162500</td><td>0.12229167</td><td>0.4081250</td><td>1</td><td>0</td><td>month5</td><td>hen_51 </td></tr>\n",
       "\t<tr><th scope=row>38183</th><td>hen_98</td><td>pen9</td><td>2021-02-23</td><td>OFH</td><td>MEXP</td><td>265</td><td>38</td><td>147</td><td>21</td><td>1722.420</td><td>...</td><td>0.4270833</td><td>0.08333333</td><td>0.3333333</td><td>0.4285417</td><td>0.09166667</td><td>0.3366667</td><td>1</td><td>0</td><td>month5</td><td>hen_18 </td></tr>\n",
       "\t<tr><th scope=row>38184</th><td>hen_98</td><td>pen9</td><td>2021-02-24</td><td>OFH</td><td>MEXP</td><td>266</td><td>38</td><td>148</td><td>22</td><td>1722.780</td><td>...</td><td>0.3917526</td><td>0.13402062</td><td>0.3402062</td><td>0.3939175</td><td>0.14134021</td><td>0.3434021</td><td>1</td><td>0</td><td>month5</td><td>hen_202</td></tr>\n",
       "\t<tr><th scope=row>38185</th><td>hen_98</td><td>pen9</td><td>2021-02-26</td><td>OFH</td><td>MEXP</td><td>268</td><td>39</td><td>150</td><td>22</td><td>1723.500</td><td>...</td><td>0.3917526</td><td>0.13402062</td><td>0.3298969</td><td>0.3939175</td><td>0.14134021</td><td>0.3332990</td><td>1</td><td>0</td><td>month5</td><td>hen_28 </td></tr>\n",
       "\t<tr><th scope=row>38186</th><td>hen_98</td><td>pen9</td><td>2021-02-27</td><td>OFH</td><td>MEXP</td><td>269</td><td>39</td><td>151</td><td>22</td><td>1723.860</td><td>...</td><td>0.2828283</td><td>0.12121212</td><td>0.4343434</td><td>0.2871717</td><td>0.12878788</td><td>0.4356566</td><td>1</td><td>0</td><td>month5</td><td>hen_210</td></tr>\n",
       "\t<tr><th scope=row>38187</th><td>hen_98</td><td>pen9</td><td>2021-02-28</td><td>OFH</td><td>MEXP</td><td>270</td><td>39</td><td>152</td><td>22</td><td>1724.220</td><td>...</td><td>0.2121212</td><td>0.13131313</td><td>0.4141414</td><td>0.2178788</td><td>0.13868687</td><td>0.4158586</td><td>1</td><td>0</td><td>month5</td><td>hen_206</td></tr>\n",
       "</tbody>\n",
       "</table>\n"
      ],
      "text/latex": [
       "A data.frame: 3867 × 30\n",
       "\\begin{tabular}{r|lllllllllllllllllllll}\n",
       "  & HenID & PenID & level & Treatment & CLASS & DOA & WOA & DIB & WIB & weight\\_interp & ... & propindoor\\_duration\\_5\\_Zone & propindoor\\_duration\\_4\\_Zone & propindoor\\_duration\\_2\\_Zone & propindoor\\_duration\\_5\\_Zone\\_rs & propindoor\\_duration\\_4\\_Zone\\_rs & propindoor\\_duration\\_2\\_Zone\\_rs & went\\_litter & stayed\\_top\\_tier & monthILB & HenID\\_sh\\\\\n",
       "  & <fct> & <fct> & <fct> & <fct> & <fct> & <int> & <int> & <int> & <int> & <dbl> & ... & <dbl> & <dbl> & <dbl> & <dbl> & <dbl> & <dbl> & <int> & <int> & <fct> & <fct>\\\\\n",
       "\\hline\n",
       "\t222 & hen\\_134 & pen10 & 2021-02-03 & TRAN & MEXP & 245 & 35 & 127 & 19 & 1702.791 & ... & 0.60204082 & 0.09183673 & 0.2346939 & 0.60000000 & 0.10000000 & 0.2400000 & 1 & 0 & month5 & hen\\_51 \\\\\n",
       "\t223 & hen\\_134 & pen10 & 2021-02-04 & TRAN & MEXP & 246 & 36 & 128 & 19 & 1704.137 & ... & 0.50000000 & 0.18367347 & 0.2142857 & 0.50000000 & 0.19000000 & 0.2200000 & 1 & 0 & month5 & hen\\_149\\\\\n",
       "\t224 & hen\\_134 & pen10 & 2021-02-05 & TRAN & MEXP & 247 & 36 & 129 & 19 & 1705.483 & ... & 0.46938776 & 0.12244898 & 0.3061224 & 0.47000000 & 0.13000000 & 0.3100000 & 1 & 0 & month5 & hen\\_71 \\\\\n",
       "\t225 & hen\\_134 & pen10 & 2021-02-06 & TRAN & MEXP & 248 & 36 & 130 & 19 & 1706.829 & ... & 0.39583333 & 0.13541667 & 0.3645833 & 0.39791667 & 0.14270833 & 0.3672917 & 1 & 0 & month5 & hen\\_170\\\\\n",
       "\t226 & hen\\_134 & pen10 & 2021-02-07 & TRAN & MEXP & 249 & 36 & 131 & 19 & 1708.174 & ... & 0.52577320 & 0.11340206 & 0.2577320 & 0.52525773 & 0.12113402 & 0.2625773 & 1 & 0 & month5 & hen\\_105\\\\\n",
       "\t227 & hen\\_134 & pen10 & 2021-02-08 & TRAN & MEXP & 250 & 36 & 132 & 19 & 1709.520 & ... & 0.52525253 & 0.12121212 & 0.2525253 & 0.52474747 & 0.12878788 & 0.2574747 & 1 & 0 & month5 & hen\\_197\\\\\n",
       "\t228 & hen\\_134 & pen10 & 2021-02-09 & TRAN & MEXP & 251 & 36 & 133 & 19 & 1710.866 & ... & 0.63265306 & 0.11224490 & 0.1836735 & 0.63000000 & 0.12000000 & 0.1900000 & 1 & 0 & month5 & hen\\_122\\\\\n",
       "\t229 & hen\\_134 & pen10 & 2021-02-10 & TRAN & MEXP & 252 & 36 & 134 & 20 & 1712.211 & ... & 0.51578947 & 0.14736842 & 0.2736842 & 0.51547368 & 0.15442105 & 0.2782105 & 1 & 0 & month5 & hen\\_15 \\\\\n",
       "\t230 & hen\\_134 & pen10 & 2021-02-11 & TRAN & MEXP & 253 & 37 & 135 & 20 & 1713.557 & ... & 0.45000000 & 0.14000000 & 0.3100000 & 0.45100000 & 0.14720000 & 0.3138000 & 1 & 0 & month5 & hen\\_133\\\\\n",
       "\t231 & hen\\_134 & pen10 & 2021-02-12 & TRAN & MEXP & 254 & 37 & 136 & 20 & 1714.903 & ... & 0.64000000 & 0.10000000 & 0.2100000 & 0.63720000 & 0.10800000 & 0.2158000 & 1 & 0 & month5 & hen\\_113\\\\\n",
       "\t232 & hen\\_134 & pen10 & 2021-02-13 & TRAN & MEXP & 255 & 37 & 137 & 20 & 1716.249 & ... & 0.69000000 & 0.11000000 & 0.1700000 & 0.68620000 & 0.11780000 & 0.1766000 & 1 & 0 & month5 & hen\\_108\\\\\n",
       "\t233 & hen\\_134 & pen10 & 2021-02-14 & TRAN & MEXP & 256 & 37 & 138 & 20 & 1717.594 & ... & 0.64000000 & 0.09000000 & 0.2300000 & 0.63720000 & 0.09820000 & 0.2354000 & 1 & 0 & month5 & hen\\_75 \\\\\n",
       "\t234 & hen\\_134 & pen10 & 2021-02-15 & TRAN & MEXP & 257 & 37 & 139 & 20 & 1718.940 & ... & 0.54545455 & 0.11111111 & 0.2929293 & 0.54454545 & 0.11888889 & 0.2970707 & 1 & 0 & month5 & hen\\_177\\\\\n",
       "\t235 & hen\\_134 & pen10 & 2021-02-16 & TRAN & MEXP & 258 & 37 & 140 & 20 & 1720.286 & ... & 0.57142857 & 0.11224490 & 0.2755102 & 0.57000000 & 0.12000000 & 0.2800000 & 1 & 0 & month5 & hen\\_76 \\\\\n",
       "\t236 & hen\\_134 & pen10 & 2021-02-17 & TRAN & MEXP & 259 & 37 & 141 & 21 & 1721.631 & ... & 0.59000000 & 0.12000000 & 0.2600000 & 0.58820000 & 0.12760000 & 0.2648000 & 1 & 0 & month5 & hen\\_77 \\\\\n",
       "\t237 & hen\\_134 & pen10 & 2021-02-18 & TRAN & MEXP & 260 & 38 & 142 & 21 & 1722.977 & ... & 0.64285714 & 0.12244898 & 0.1938776 & 0.64000000 & 0.13000000 & 0.2000000 & 1 & 0 & month5 & hen\\_57 \\\\\n",
       "\t238 & hen\\_134 & pen10 & 2021-02-19 & TRAN & MEXP & 261 & 38 & 143 & 21 & 1724.323 & ... & 0.46391753 & 0.12371134 & 0.3092784 & 0.46463918 & 0.13123711 & 0.3130928 & 1 & 0 & month5 & hen\\_211\\\\\n",
       "\t239 & hen\\_134 & pen10 & 2021-02-20 & TRAN & MEXP & 262 & 38 & 144 & 21 & 1725.669 & ... & 0.47959184 & 0.11224490 & 0.3265306 & 0.48000000 & 0.12000000 & 0.3300000 & 1 & 0 & month5 & hen\\_186\\\\\n",
       "\t240 & hen\\_134 & pen10 & 2021-02-21 & TRAN & MEXP & 263 & 38 & 145 & 21 & 1727.014 & ... & 0.57731959 & 0.11340206 & 0.2268041 & 0.57577320 & 0.12113402 & 0.2322680 & 1 & 0 & month5 & hen\\_13 \\\\\n",
       "\t241 & hen\\_134 & pen10 & 2021-02-22 & TRAN & MEXP & 264 & 38 & 146 & 21 & 1728.360 & ... & 0.49494949 & 0.11111111 & 0.3030303 & 0.49505051 & 0.11888889 & 0.3069697 & 1 & 0 & month5 & hen\\_165\\\\\n",
       "\t242 & hen\\_134 & pen10 & 2021-02-23 & TRAN & MEXP & 265 & 38 & 147 & 21 & 1729.706 & ... & 0.50515464 & 0.13402062 & 0.3092784 & 0.50505155 & 0.14134021 & 0.3130928 & 1 & 0 & month5 & hen\\_169\\\\\n",
       "\t243 & hen\\_134 & pen10 & 2021-02-24 & TRAN & MEXP & 266 & 38 & 148 & 22 & 1731.051 & ... & 0.49494949 & 0.12121212 & 0.2828283 & 0.49505051 & 0.12878788 & 0.2871717 & 1 & 0 & month5 & hen\\_54 \\\\\n",
       "\t244 & hen\\_134 & pen10 & 2021-02-25 & TRAN & MEXP & 267 & 39 & 149 & 22 & 1732.397 & ... & 0.42268041 & 0.13402062 & 0.3298969 & 0.42422680 & 0.14134021 & 0.3332990 & 1 & 0 & month5 & hen\\_93 \\\\\n",
       "\t245 & hen\\_134 & pen10 & 2021-02-26 & TRAN & MEXP & 268 & 39 & 150 & 22 & 1733.743 & ... & 0.32291667 & 0.13541667 & 0.3541667 & 0.32645833 & 0.14270833 & 0.3570833 & 1 & 0 & month5 & hen\\_137\\\\\n",
       "\t246 & hen\\_134 & pen10 & 2021-02-27 & TRAN & MEXP & 269 & 39 & 151 & 22 & 1735.089 & ... & 0.55102041 & 0.12244898 & 0.2346939 & 0.55000000 & 0.13000000 & 0.2400000 & 1 & 0 & month5 & hen\\_180\\\\\n",
       "\t247 & hen\\_134 & pen10 & 2021-02-28 & TRAN & MEXP & 270 & 39 & 152 & 22 & 1736.434 & ... & 0.48484848 & 0.12121212 & 0.2727273 & 0.48515152 & 0.12878788 & 0.2772727 & 1 & 0 & month5 & hen\\_145\\\\\n",
       "\t470 & hen\\_138 & pen10 & 2021-02-03 & TRAN & MEXP & 245 & 35 & 127 & 19 & 2019.326 & ... & 0.04081633 & 0.05102041 & 0.5612245 & 0.05000000 & 0.06000000 & 0.5600000 & 1 & 0 & month5 & hen\\_79 \\\\\n",
       "\t471 & hen\\_138 & pen10 & 2021-02-04 & TRAN & MEXP & 246 & 36 & 128 & 19 & 2021.439 & ... & 0.02061856 & 0.05154639 & 0.5670103 & 0.03020619 & 0.06051546 & 0.5656701 & 1 & 0 & month5 & hen\\_173\\\\\n",
       "\t472 & hen\\_138 & pen10 & 2021-02-05 & TRAN & MEXP & 247 & 36 & 129 & 19 & 2023.551 & ... & 0.03061224 & 0.05102041 & 0.5204082 & 0.04000000 & 0.06000000 & 0.5200000 & 1 & 0 & month5 & hen\\_151\\\\\n",
       "\t473 & hen\\_138 & pen10 & 2021-02-06 & TRAN & MEXP & 248 & 36 & 130 & 19 & 2025.664 & ... & 0.04166667 & 0.04166667 & 0.5520833 & 0.05083333 & 0.05083333 & 0.5510417 & 1 & 0 & month5 & hen\\_138\\\\\n",
       "\t... & ... & ... & ... & ... & ... & ... & ... & ... & ... & ... &  & ... & ... & ... & ... & ... & ... & ... & ... & ... & ...\\\\\n",
       "\t37934 & hen\\_93 & pen9 & 2021-02-23 & OFH & REXP & 265 & 38 & 147 & 21 & 1758.334 & ... & 0.9000000 & 0.10000000 & 0.0000000 & 0.8920000 & 0.10800000 & 0.0100000 & 0 & 0 & month5 & hen\\_58 \\\\\n",
       "\t37935 & hen\\_93 & pen9 & 2021-02-24 & OFH & REXP & 266 & 38 & 148 & 22 & 1759.359 & ... & 0.8800000 & 0.06000000 & 0.0500000 & 0.8724000 & 0.06880000 & 0.0590000 & 1 & 0 & month5 & hen\\_193\\\\\n",
       "\t37936 & hen\\_93 & pen9 & 2021-02-26 & OFH & REXP & 268 & 39 & 150 & 22 & 1761.407 & ... & 0.7800000 & 0.10000000 & 0.0900000 & 0.7744000 & 0.10800000 & 0.0982000 & 1 & 0 & month5 & hen\\_50 \\\\\n",
       "\t37937 & hen\\_93 & pen9 & 2021-02-27 & OFH & REXP & 269 & 39 & 151 & 22 & 1762.431 & ... & 0.8900000 & 0.06000000 & 0.0500000 & 0.8822000 & 0.06880000 & 0.0590000 & 1 & 0 & month5 & hen\\_143\\\\\n",
       "\t37938 & hen\\_93 & pen9 & 2021-02-28 & OFH & REXP & 270 & 39 & 152 & 22 & 1763.456 & ... & 0.9000000 & 0.07000000 & 0.0300000 & 0.8920000 & 0.07860000 & 0.0394000 & 1 & 0 & month5 & hen\\_68 \\\\\n",
       "\t38163 & hen\\_98 & pen9 & 2021-02-03 & OFH & MEXP & 245 & 35 & 127 & 19 & 1715.220 & ... & 0.2755102 & 0.16326531 & 0.3163265 & 0.2800000 & 0.17000000 & 0.3200000 & 1 & 0 & month5 & hen\\_7  \\\\\n",
       "\t38164 & hen\\_98 & pen9 & 2021-02-04 & OFH & MEXP & 246 & 36 & 128 & 19 & 1715.580 & ... & 0.5050505 & 0.15151515 & 0.2323232 & 0.5049495 & 0.15848485 & 0.2376768 & 1 & 0 & month5 & hen\\_92 \\\\\n",
       "\t38165 & hen\\_98 & pen9 & 2021-02-05 & OFH & MEXP & 247 & 36 & 129 & 19 & 1715.940 & ... & 0.5000000 & 0.07291667 & 0.2708333 & 0.5000000 & 0.08145833 & 0.2754167 & 1 & 0 & month5 & hen\\_211\\\\\n",
       "\t38166 & hen\\_98 & pen9 & 2021-02-06 & OFH & MEXP & 248 & 36 & 130 & 19 & 1716.300 & ... & 0.3265306 & 0.11224490 & 0.3775510 & 0.3300000 & 0.12000000 & 0.3800000 & 1 & 0 & month5 & hen\\_133\\\\\n",
       "\t38167 & hen\\_98 & pen9 & 2021-02-07 & OFH & MEXP & 249 & 36 & 131 & 19 & 1716.660 & ... & 0.3775510 & 0.09183673 & 0.3367347 & 0.3800000 & 0.10000000 & 0.3400000 & 1 & 0 & month5 & hen\\_147\\\\\n",
       "\t38168 & hen\\_98 & pen9 & 2021-02-08 & OFH & MEXP & 250 & 36 & 132 & 19 & 1717.020 & ... & 0.2234043 & 0.12765957 & 0.4574468 & 0.2289362 & 0.13510638 & 0.4582979 & 1 & 0 & month5 & hen\\_85 \\\\\n",
       "\t38169 & hen\\_98 & pen9 & 2021-02-09 & OFH & MEXP & 251 & 36 & 133 & 19 & 1717.380 & ... & 0.2474227 & 0.09278351 & 0.3917526 & 0.2524742 & 0.10092784 & 0.3939175 & 1 & 0 & month5 & hen\\_139\\\\\n",
       "\t38170 & hen\\_98 & pen9 & 2021-02-10 & OFH & MEXP & 252 & 36 & 134 & 20 & 1717.740 & ... & 0.2959184 & 0.14285714 & 0.3571429 & 0.3000000 & 0.15000000 & 0.3600000 & 1 & 0 & month5 & hen\\_19 \\\\\n",
       "\t38171 & hen\\_98 & pen9 & 2021-02-11 & OFH & MEXP & 253 & 37 & 135 & 20 & 1718.100 & ... & 0.2828283 & 0.06060606 & 0.4545455 & 0.2871717 & 0.06939394 & 0.4554545 & 1 & 0 & month5 & hen\\_180\\\\\n",
       "\t38172 & hen\\_98 & pen9 & 2021-02-12 & OFH & MEXP & 254 & 37 & 136 & 20 & 1718.460 & ... & 0.1100000 & 0.11000000 & 0.4600000 & 0.1178000 & 0.11780000 & 0.4608000 & 1 & 0 & month5 & hen\\_15 \\\\\n",
       "\t38173 & hen\\_98 & pen9 & 2021-02-13 & OFH & MEXP & 255 & 37 & 137 & 20 & 1718.820 & ... & 0.3400000 & 0.10000000 & 0.3700000 & 0.3432000 & 0.10800000 & 0.3726000 & 1 & 0 & month5 & hen\\_205\\\\\n",
       "\t38174 & hen\\_98 & pen9 & 2021-02-14 & OFH & MEXP & 256 & 37 & 138 & 20 & 1719.180 & ... & 0.5000000 & 0.07000000 & 0.2900000 & 0.5000000 & 0.07860000 & 0.2942000 & 1 & 0 & month5 & hen\\_187\\\\\n",
       "\t38175 & hen\\_98 & pen9 & 2021-02-15 & OFH & MEXP & 257 & 37 & 139 & 20 & 1719.540 & ... & 0.6326531 & 0.12244898 & 0.1632653 & 0.6300000 & 0.13000000 & 0.1700000 & 1 & 0 & month5 & hen\\_153\\\\\n",
       "\t38176 & hen\\_98 & pen9 & 2021-02-16 & OFH & MEXP & 258 & 37 & 140 & 20 & 1719.900 & ... & 0.2842105 & 0.08421053 & 0.4842105 & 0.2885263 & 0.09252632 & 0.4845263 & 1 & 0 & month5 & hen\\_181\\\\\n",
       "\t38177 & hen\\_98 & pen9 & 2021-02-17 & OFH & MEXP & 259 & 37 & 141 & 21 & 1720.260 & ... & 0.3300000 & 0.23000000 & 0.3000000 & 0.3334000 & 0.23540000 & 0.3040000 & 1 & 0 & month5 & hen\\_97 \\\\\n",
       "\t38178 & hen\\_98 & pen9 & 2021-02-18 & OFH & MEXP & 260 & 38 & 142 & 21 & 1720.620 & ... & 0.3157895 & 0.14736842 & 0.3684211 & 0.3194737 & 0.15442105 & 0.3710526 & 1 & 0 & month5 & hen\\_151\\\\\n",
       "\t38179 & hen\\_98 & pen9 & 2021-02-19 & OFH & MEXP & 261 & 38 & 143 & 21 & 1720.980 & ... & 0.3777778 & 0.16666667 & 0.3222222 & 0.3802222 & 0.17333333 & 0.3257778 & 1 & 0 & month5 & hen\\_111\\\\\n",
       "\t38180 & hen\\_98 & pen9 & 2021-02-20 & OFH & MEXP & 262 & 38 & 144 & 21 & 1721.340 & ... & 0.3894737 & 0.20000000 & 0.2842105 & 0.3916842 & 0.20600000 & 0.2885263 & 1 & 0 & month5 & hen\\_122\\\\\n",
       "\t38181 & hen\\_98 & pen9 & 2021-02-21 & OFH & MEXP & 263 & 38 & 145 & 21 & 1721.700 & ... & 0.3265306 & 0.18367347 & 0.2857143 & 0.3300000 & 0.19000000 & 0.2900000 & 1 & 0 & month5 & hen\\_78 \\\\\n",
       "\t38182 & hen\\_98 & pen9 & 2021-02-22 & OFH & MEXP & 264 & 38 & 146 & 21 & 1722.060 & ... & 0.3125000 & 0.11458333 & 0.4062500 & 0.3162500 & 0.12229167 & 0.4081250 & 1 & 0 & month5 & hen\\_51 \\\\\n",
       "\t38183 & hen\\_98 & pen9 & 2021-02-23 & OFH & MEXP & 265 & 38 & 147 & 21 & 1722.420 & ... & 0.4270833 & 0.08333333 & 0.3333333 & 0.4285417 & 0.09166667 & 0.3366667 & 1 & 0 & month5 & hen\\_18 \\\\\n",
       "\t38184 & hen\\_98 & pen9 & 2021-02-24 & OFH & MEXP & 266 & 38 & 148 & 22 & 1722.780 & ... & 0.3917526 & 0.13402062 & 0.3402062 & 0.3939175 & 0.14134021 & 0.3434021 & 1 & 0 & month5 & hen\\_202\\\\\n",
       "\t38185 & hen\\_98 & pen9 & 2021-02-26 & OFH & MEXP & 268 & 39 & 150 & 22 & 1723.500 & ... & 0.3917526 & 0.13402062 & 0.3298969 & 0.3939175 & 0.14134021 & 0.3332990 & 1 & 0 & month5 & hen\\_28 \\\\\n",
       "\t38186 & hen\\_98 & pen9 & 2021-02-27 & OFH & MEXP & 269 & 39 & 151 & 22 & 1723.860 & ... & 0.2828283 & 0.12121212 & 0.4343434 & 0.2871717 & 0.12878788 & 0.4356566 & 1 & 0 & month5 & hen\\_210\\\\\n",
       "\t38187 & hen\\_98 & pen9 & 2021-02-28 & OFH & MEXP & 270 & 39 & 152 & 22 & 1724.220 & ... & 0.2121212 & 0.13131313 & 0.4141414 & 0.2178788 & 0.13868687 & 0.4158586 & 1 & 0 & month5 & hen\\_206\\\\\n",
       "\\end{tabular}\n"
      ],
      "text/markdown": [
       "\n",
       "A data.frame: 3867 × 30\n",
       "\n",
       "| <!--/--> | HenID &lt;fct&gt; | PenID &lt;fct&gt; | level &lt;fct&gt; | Treatment &lt;fct&gt; | CLASS &lt;fct&gt; | DOA &lt;int&gt; | WOA &lt;int&gt; | DIB &lt;int&gt; | WIB &lt;int&gt; | weight_interp &lt;dbl&gt; | ... ... | propindoor_duration_5_Zone &lt;dbl&gt; | propindoor_duration_4_Zone &lt;dbl&gt; | propindoor_duration_2_Zone &lt;dbl&gt; | propindoor_duration_5_Zone_rs &lt;dbl&gt; | propindoor_duration_4_Zone_rs &lt;dbl&gt; | propindoor_duration_2_Zone_rs &lt;dbl&gt; | went_litter &lt;int&gt; | stayed_top_tier &lt;int&gt; | monthILB &lt;fct&gt; | HenID_sh &lt;fct&gt; |\n",
       "|---|---|---|---|---|---|---|---|---|---|---|---|---|---|---|---|---|---|---|---|---|---|\n",
       "| 222 | hen_134 | pen10 | 2021-02-03 | TRAN | MEXP | 245 | 35 | 127 | 19 | 1702.791 | ... | 0.60204082 | 0.09183673 | 0.2346939 | 0.60000000 | 0.10000000 | 0.2400000 | 1 | 0 | month5 | hen_51  |\n",
       "| 223 | hen_134 | pen10 | 2021-02-04 | TRAN | MEXP | 246 | 36 | 128 | 19 | 1704.137 | ... | 0.50000000 | 0.18367347 | 0.2142857 | 0.50000000 | 0.19000000 | 0.2200000 | 1 | 0 | month5 | hen_149 |\n",
       "| 224 | hen_134 | pen10 | 2021-02-05 | TRAN | MEXP | 247 | 36 | 129 | 19 | 1705.483 | ... | 0.46938776 | 0.12244898 | 0.3061224 | 0.47000000 | 0.13000000 | 0.3100000 | 1 | 0 | month5 | hen_71  |\n",
       "| 225 | hen_134 | pen10 | 2021-02-06 | TRAN | MEXP | 248 | 36 | 130 | 19 | 1706.829 | ... | 0.39583333 | 0.13541667 | 0.3645833 | 0.39791667 | 0.14270833 | 0.3672917 | 1 | 0 | month5 | hen_170 |\n",
       "| 226 | hen_134 | pen10 | 2021-02-07 | TRAN | MEXP | 249 | 36 | 131 | 19 | 1708.174 | ... | 0.52577320 | 0.11340206 | 0.2577320 | 0.52525773 | 0.12113402 | 0.2625773 | 1 | 0 | month5 | hen_105 |\n",
       "| 227 | hen_134 | pen10 | 2021-02-08 | TRAN | MEXP | 250 | 36 | 132 | 19 | 1709.520 | ... | 0.52525253 | 0.12121212 | 0.2525253 | 0.52474747 | 0.12878788 | 0.2574747 | 1 | 0 | month5 | hen_197 |\n",
       "| 228 | hen_134 | pen10 | 2021-02-09 | TRAN | MEXP | 251 | 36 | 133 | 19 | 1710.866 | ... | 0.63265306 | 0.11224490 | 0.1836735 | 0.63000000 | 0.12000000 | 0.1900000 | 1 | 0 | month5 | hen_122 |\n",
       "| 229 | hen_134 | pen10 | 2021-02-10 | TRAN | MEXP | 252 | 36 | 134 | 20 | 1712.211 | ... | 0.51578947 | 0.14736842 | 0.2736842 | 0.51547368 | 0.15442105 | 0.2782105 | 1 | 0 | month5 | hen_15  |\n",
       "| 230 | hen_134 | pen10 | 2021-02-11 | TRAN | MEXP | 253 | 37 | 135 | 20 | 1713.557 | ... | 0.45000000 | 0.14000000 | 0.3100000 | 0.45100000 | 0.14720000 | 0.3138000 | 1 | 0 | month5 | hen_133 |\n",
       "| 231 | hen_134 | pen10 | 2021-02-12 | TRAN | MEXP | 254 | 37 | 136 | 20 | 1714.903 | ... | 0.64000000 | 0.10000000 | 0.2100000 | 0.63720000 | 0.10800000 | 0.2158000 | 1 | 0 | month5 | hen_113 |\n",
       "| 232 | hen_134 | pen10 | 2021-02-13 | TRAN | MEXP | 255 | 37 | 137 | 20 | 1716.249 | ... | 0.69000000 | 0.11000000 | 0.1700000 | 0.68620000 | 0.11780000 | 0.1766000 | 1 | 0 | month5 | hen_108 |\n",
       "| 233 | hen_134 | pen10 | 2021-02-14 | TRAN | MEXP | 256 | 37 | 138 | 20 | 1717.594 | ... | 0.64000000 | 0.09000000 | 0.2300000 | 0.63720000 | 0.09820000 | 0.2354000 | 1 | 0 | month5 | hen_75  |\n",
       "| 234 | hen_134 | pen10 | 2021-02-15 | TRAN | MEXP | 257 | 37 | 139 | 20 | 1718.940 | ... | 0.54545455 | 0.11111111 | 0.2929293 | 0.54454545 | 0.11888889 | 0.2970707 | 1 | 0 | month5 | hen_177 |\n",
       "| 235 | hen_134 | pen10 | 2021-02-16 | TRAN | MEXP | 258 | 37 | 140 | 20 | 1720.286 | ... | 0.57142857 | 0.11224490 | 0.2755102 | 0.57000000 | 0.12000000 | 0.2800000 | 1 | 0 | month5 | hen_76  |\n",
       "| 236 | hen_134 | pen10 | 2021-02-17 | TRAN | MEXP | 259 | 37 | 141 | 21 | 1721.631 | ... | 0.59000000 | 0.12000000 | 0.2600000 | 0.58820000 | 0.12760000 | 0.2648000 | 1 | 0 | month5 | hen_77  |\n",
       "| 237 | hen_134 | pen10 | 2021-02-18 | TRAN | MEXP | 260 | 38 | 142 | 21 | 1722.977 | ... | 0.64285714 | 0.12244898 | 0.1938776 | 0.64000000 | 0.13000000 | 0.2000000 | 1 | 0 | month5 | hen_57  |\n",
       "| 238 | hen_134 | pen10 | 2021-02-19 | TRAN | MEXP | 261 | 38 | 143 | 21 | 1724.323 | ... | 0.46391753 | 0.12371134 | 0.3092784 | 0.46463918 | 0.13123711 | 0.3130928 | 1 | 0 | month5 | hen_211 |\n",
       "| 239 | hen_134 | pen10 | 2021-02-20 | TRAN | MEXP | 262 | 38 | 144 | 21 | 1725.669 | ... | 0.47959184 | 0.11224490 | 0.3265306 | 0.48000000 | 0.12000000 | 0.3300000 | 1 | 0 | month5 | hen_186 |\n",
       "| 240 | hen_134 | pen10 | 2021-02-21 | TRAN | MEXP | 263 | 38 | 145 | 21 | 1727.014 | ... | 0.57731959 | 0.11340206 | 0.2268041 | 0.57577320 | 0.12113402 | 0.2322680 | 1 | 0 | month5 | hen_13  |\n",
       "| 241 | hen_134 | pen10 | 2021-02-22 | TRAN | MEXP | 264 | 38 | 146 | 21 | 1728.360 | ... | 0.49494949 | 0.11111111 | 0.3030303 | 0.49505051 | 0.11888889 | 0.3069697 | 1 | 0 | month5 | hen_165 |\n",
       "| 242 | hen_134 | pen10 | 2021-02-23 | TRAN | MEXP | 265 | 38 | 147 | 21 | 1729.706 | ... | 0.50515464 | 0.13402062 | 0.3092784 | 0.50505155 | 0.14134021 | 0.3130928 | 1 | 0 | month5 | hen_169 |\n",
       "| 243 | hen_134 | pen10 | 2021-02-24 | TRAN | MEXP | 266 | 38 | 148 | 22 | 1731.051 | ... | 0.49494949 | 0.12121212 | 0.2828283 | 0.49505051 | 0.12878788 | 0.2871717 | 1 | 0 | month5 | hen_54  |\n",
       "| 244 | hen_134 | pen10 | 2021-02-25 | TRAN | MEXP | 267 | 39 | 149 | 22 | 1732.397 | ... | 0.42268041 | 0.13402062 | 0.3298969 | 0.42422680 | 0.14134021 | 0.3332990 | 1 | 0 | month5 | hen_93  |\n",
       "| 245 | hen_134 | pen10 | 2021-02-26 | TRAN | MEXP | 268 | 39 | 150 | 22 | 1733.743 | ... | 0.32291667 | 0.13541667 | 0.3541667 | 0.32645833 | 0.14270833 | 0.3570833 | 1 | 0 | month5 | hen_137 |\n",
       "| 246 | hen_134 | pen10 | 2021-02-27 | TRAN | MEXP | 269 | 39 | 151 | 22 | 1735.089 | ... | 0.55102041 | 0.12244898 | 0.2346939 | 0.55000000 | 0.13000000 | 0.2400000 | 1 | 0 | month5 | hen_180 |\n",
       "| 247 | hen_134 | pen10 | 2021-02-28 | TRAN | MEXP | 270 | 39 | 152 | 22 | 1736.434 | ... | 0.48484848 | 0.12121212 | 0.2727273 | 0.48515152 | 0.12878788 | 0.2772727 | 1 | 0 | month5 | hen_145 |\n",
       "| 470 | hen_138 | pen10 | 2021-02-03 | TRAN | MEXP | 245 | 35 | 127 | 19 | 2019.326 | ... | 0.04081633 | 0.05102041 | 0.5612245 | 0.05000000 | 0.06000000 | 0.5600000 | 1 | 0 | month5 | hen_79  |\n",
       "| 471 | hen_138 | pen10 | 2021-02-04 | TRAN | MEXP | 246 | 36 | 128 | 19 | 2021.439 | ... | 0.02061856 | 0.05154639 | 0.5670103 | 0.03020619 | 0.06051546 | 0.5656701 | 1 | 0 | month5 | hen_173 |\n",
       "| 472 | hen_138 | pen10 | 2021-02-05 | TRAN | MEXP | 247 | 36 | 129 | 19 | 2023.551 | ... | 0.03061224 | 0.05102041 | 0.5204082 | 0.04000000 | 0.06000000 | 0.5200000 | 1 | 0 | month5 | hen_151 |\n",
       "| 473 | hen_138 | pen10 | 2021-02-06 | TRAN | MEXP | 248 | 36 | 130 | 19 | 2025.664 | ... | 0.04166667 | 0.04166667 | 0.5520833 | 0.05083333 | 0.05083333 | 0.5510417 | 1 | 0 | month5 | hen_138 |\n",
       "| ... | ... | ... | ... | ... | ... | ... | ... | ... | ... | ... | <!----> | ... | ... | ... | ... | ... | ... | ... | ... | ... | ... |\n",
       "| 37934 | hen_93 | pen9 | 2021-02-23 | OFH | REXP | 265 | 38 | 147 | 21 | 1758.334 | ... | 0.9000000 | 0.10000000 | 0.0000000 | 0.8920000 | 0.10800000 | 0.0100000 | 0 | 0 | month5 | hen_58  |\n",
       "| 37935 | hen_93 | pen9 | 2021-02-24 | OFH | REXP | 266 | 38 | 148 | 22 | 1759.359 | ... | 0.8800000 | 0.06000000 | 0.0500000 | 0.8724000 | 0.06880000 | 0.0590000 | 1 | 0 | month5 | hen_193 |\n",
       "| 37936 | hen_93 | pen9 | 2021-02-26 | OFH | REXP | 268 | 39 | 150 | 22 | 1761.407 | ... | 0.7800000 | 0.10000000 | 0.0900000 | 0.7744000 | 0.10800000 | 0.0982000 | 1 | 0 | month5 | hen_50  |\n",
       "| 37937 | hen_93 | pen9 | 2021-02-27 | OFH | REXP | 269 | 39 | 151 | 22 | 1762.431 | ... | 0.8900000 | 0.06000000 | 0.0500000 | 0.8822000 | 0.06880000 | 0.0590000 | 1 | 0 | month5 | hen_143 |\n",
       "| 37938 | hen_93 | pen9 | 2021-02-28 | OFH | REXP | 270 | 39 | 152 | 22 | 1763.456 | ... | 0.9000000 | 0.07000000 | 0.0300000 | 0.8920000 | 0.07860000 | 0.0394000 | 1 | 0 | month5 | hen_68  |\n",
       "| 38163 | hen_98 | pen9 | 2021-02-03 | OFH | MEXP | 245 | 35 | 127 | 19 | 1715.220 | ... | 0.2755102 | 0.16326531 | 0.3163265 | 0.2800000 | 0.17000000 | 0.3200000 | 1 | 0 | month5 | hen_7   |\n",
       "| 38164 | hen_98 | pen9 | 2021-02-04 | OFH | MEXP | 246 | 36 | 128 | 19 | 1715.580 | ... | 0.5050505 | 0.15151515 | 0.2323232 | 0.5049495 | 0.15848485 | 0.2376768 | 1 | 0 | month5 | hen_92  |\n",
       "| 38165 | hen_98 | pen9 | 2021-02-05 | OFH | MEXP | 247 | 36 | 129 | 19 | 1715.940 | ... | 0.5000000 | 0.07291667 | 0.2708333 | 0.5000000 | 0.08145833 | 0.2754167 | 1 | 0 | month5 | hen_211 |\n",
       "| 38166 | hen_98 | pen9 | 2021-02-06 | OFH | MEXP | 248 | 36 | 130 | 19 | 1716.300 | ... | 0.3265306 | 0.11224490 | 0.3775510 | 0.3300000 | 0.12000000 | 0.3800000 | 1 | 0 | month5 | hen_133 |\n",
       "| 38167 | hen_98 | pen9 | 2021-02-07 | OFH | MEXP | 249 | 36 | 131 | 19 | 1716.660 | ... | 0.3775510 | 0.09183673 | 0.3367347 | 0.3800000 | 0.10000000 | 0.3400000 | 1 | 0 | month5 | hen_147 |\n",
       "| 38168 | hen_98 | pen9 | 2021-02-08 | OFH | MEXP | 250 | 36 | 132 | 19 | 1717.020 | ... | 0.2234043 | 0.12765957 | 0.4574468 | 0.2289362 | 0.13510638 | 0.4582979 | 1 | 0 | month5 | hen_85  |\n",
       "| 38169 | hen_98 | pen9 | 2021-02-09 | OFH | MEXP | 251 | 36 | 133 | 19 | 1717.380 | ... | 0.2474227 | 0.09278351 | 0.3917526 | 0.2524742 | 0.10092784 | 0.3939175 | 1 | 0 | month5 | hen_139 |\n",
       "| 38170 | hen_98 | pen9 | 2021-02-10 | OFH | MEXP | 252 | 36 | 134 | 20 | 1717.740 | ... | 0.2959184 | 0.14285714 | 0.3571429 | 0.3000000 | 0.15000000 | 0.3600000 | 1 | 0 | month5 | hen_19  |\n",
       "| 38171 | hen_98 | pen9 | 2021-02-11 | OFH | MEXP | 253 | 37 | 135 | 20 | 1718.100 | ... | 0.2828283 | 0.06060606 | 0.4545455 | 0.2871717 | 0.06939394 | 0.4554545 | 1 | 0 | month5 | hen_180 |\n",
       "| 38172 | hen_98 | pen9 | 2021-02-12 | OFH | MEXP | 254 | 37 | 136 | 20 | 1718.460 | ... | 0.1100000 | 0.11000000 | 0.4600000 | 0.1178000 | 0.11780000 | 0.4608000 | 1 | 0 | month5 | hen_15  |\n",
       "| 38173 | hen_98 | pen9 | 2021-02-13 | OFH | MEXP | 255 | 37 | 137 | 20 | 1718.820 | ... | 0.3400000 | 0.10000000 | 0.3700000 | 0.3432000 | 0.10800000 | 0.3726000 | 1 | 0 | month5 | hen_205 |\n",
       "| 38174 | hen_98 | pen9 | 2021-02-14 | OFH | MEXP | 256 | 37 | 138 | 20 | 1719.180 | ... | 0.5000000 | 0.07000000 | 0.2900000 | 0.5000000 | 0.07860000 | 0.2942000 | 1 | 0 | month5 | hen_187 |\n",
       "| 38175 | hen_98 | pen9 | 2021-02-15 | OFH | MEXP | 257 | 37 | 139 | 20 | 1719.540 | ... | 0.6326531 | 0.12244898 | 0.1632653 | 0.6300000 | 0.13000000 | 0.1700000 | 1 | 0 | month5 | hen_153 |\n",
       "| 38176 | hen_98 | pen9 | 2021-02-16 | OFH | MEXP | 258 | 37 | 140 | 20 | 1719.900 | ... | 0.2842105 | 0.08421053 | 0.4842105 | 0.2885263 | 0.09252632 | 0.4845263 | 1 | 0 | month5 | hen_181 |\n",
       "| 38177 | hen_98 | pen9 | 2021-02-17 | OFH | MEXP | 259 | 37 | 141 | 21 | 1720.260 | ... | 0.3300000 | 0.23000000 | 0.3000000 | 0.3334000 | 0.23540000 | 0.3040000 | 1 | 0 | month5 | hen_97  |\n",
       "| 38178 | hen_98 | pen9 | 2021-02-18 | OFH | MEXP | 260 | 38 | 142 | 21 | 1720.620 | ... | 0.3157895 | 0.14736842 | 0.3684211 | 0.3194737 | 0.15442105 | 0.3710526 | 1 | 0 | month5 | hen_151 |\n",
       "| 38179 | hen_98 | pen9 | 2021-02-19 | OFH | MEXP | 261 | 38 | 143 | 21 | 1720.980 | ... | 0.3777778 | 0.16666667 | 0.3222222 | 0.3802222 | 0.17333333 | 0.3257778 | 1 | 0 | month5 | hen_111 |\n",
       "| 38180 | hen_98 | pen9 | 2021-02-20 | OFH | MEXP | 262 | 38 | 144 | 21 | 1721.340 | ... | 0.3894737 | 0.20000000 | 0.2842105 | 0.3916842 | 0.20600000 | 0.2885263 | 1 | 0 | month5 | hen_122 |\n",
       "| 38181 | hen_98 | pen9 | 2021-02-21 | OFH | MEXP | 263 | 38 | 145 | 21 | 1721.700 | ... | 0.3265306 | 0.18367347 | 0.2857143 | 0.3300000 | 0.19000000 | 0.2900000 | 1 | 0 | month5 | hen_78  |\n",
       "| 38182 | hen_98 | pen9 | 2021-02-22 | OFH | MEXP | 264 | 38 | 146 | 21 | 1722.060 | ... | 0.3125000 | 0.11458333 | 0.4062500 | 0.3162500 | 0.12229167 | 0.4081250 | 1 | 0 | month5 | hen_51  |\n",
       "| 38183 | hen_98 | pen9 | 2021-02-23 | OFH | MEXP | 265 | 38 | 147 | 21 | 1722.420 | ... | 0.4270833 | 0.08333333 | 0.3333333 | 0.4285417 | 0.09166667 | 0.3366667 | 1 | 0 | month5 | hen_18  |\n",
       "| 38184 | hen_98 | pen9 | 2021-02-24 | OFH | MEXP | 266 | 38 | 148 | 22 | 1722.780 | ... | 0.3917526 | 0.13402062 | 0.3402062 | 0.3939175 | 0.14134021 | 0.3434021 | 1 | 0 | month5 | hen_202 |\n",
       "| 38185 | hen_98 | pen9 | 2021-02-26 | OFH | MEXP | 268 | 39 | 150 | 22 | 1723.500 | ... | 0.3917526 | 0.13402062 | 0.3298969 | 0.3939175 | 0.14134021 | 0.3332990 | 1 | 0 | month5 | hen_28  |\n",
       "| 38186 | hen_98 | pen9 | 2021-02-27 | OFH | MEXP | 269 | 39 | 151 | 22 | 1723.860 | ... | 0.2828283 | 0.12121212 | 0.4343434 | 0.2871717 | 0.12878788 | 0.4356566 | 1 | 0 | month5 | hen_210 |\n",
       "| 38187 | hen_98 | pen9 | 2021-02-28 | OFH | MEXP | 270 | 39 | 152 | 22 | 1724.220 | ... | 0.2121212 | 0.13131313 | 0.4141414 | 0.2178788 | 0.13868687 | 0.4158586 | 1 | 0 | month5 | hen_206 |\n",
       "\n"
      ],
      "text/plain": [
       "      HenID   PenID level      Treatment CLASS DOA WOA DIB WIB weight_interp\n",
       "222   hen_134 pen10 2021-02-03 TRAN      MEXP  245 35  127 19  1702.791     \n",
       "223   hen_134 pen10 2021-02-04 TRAN      MEXP  246 36  128 19  1704.137     \n",
       "224   hen_134 pen10 2021-02-05 TRAN      MEXP  247 36  129 19  1705.483     \n",
       "225   hen_134 pen10 2021-02-06 TRAN      MEXP  248 36  130 19  1706.829     \n",
       "226   hen_134 pen10 2021-02-07 TRAN      MEXP  249 36  131 19  1708.174     \n",
       "227   hen_134 pen10 2021-02-08 TRAN      MEXP  250 36  132 19  1709.520     \n",
       "228   hen_134 pen10 2021-02-09 TRAN      MEXP  251 36  133 19  1710.866     \n",
       "229   hen_134 pen10 2021-02-10 TRAN      MEXP  252 36  134 20  1712.211     \n",
       "230   hen_134 pen10 2021-02-11 TRAN      MEXP  253 37  135 20  1713.557     \n",
       "231   hen_134 pen10 2021-02-12 TRAN      MEXP  254 37  136 20  1714.903     \n",
       "232   hen_134 pen10 2021-02-13 TRAN      MEXP  255 37  137 20  1716.249     \n",
       "233   hen_134 pen10 2021-02-14 TRAN      MEXP  256 37  138 20  1717.594     \n",
       "234   hen_134 pen10 2021-02-15 TRAN      MEXP  257 37  139 20  1718.940     \n",
       "235   hen_134 pen10 2021-02-16 TRAN      MEXP  258 37  140 20  1720.286     \n",
       "236   hen_134 pen10 2021-02-17 TRAN      MEXP  259 37  141 21  1721.631     \n",
       "237   hen_134 pen10 2021-02-18 TRAN      MEXP  260 38  142 21  1722.977     \n",
       "238   hen_134 pen10 2021-02-19 TRAN      MEXP  261 38  143 21  1724.323     \n",
       "239   hen_134 pen10 2021-02-20 TRAN      MEXP  262 38  144 21  1725.669     \n",
       "240   hen_134 pen10 2021-02-21 TRAN      MEXP  263 38  145 21  1727.014     \n",
       "241   hen_134 pen10 2021-02-22 TRAN      MEXP  264 38  146 21  1728.360     \n",
       "242   hen_134 pen10 2021-02-23 TRAN      MEXP  265 38  147 21  1729.706     \n",
       "243   hen_134 pen10 2021-02-24 TRAN      MEXP  266 38  148 22  1731.051     \n",
       "244   hen_134 pen10 2021-02-25 TRAN      MEXP  267 39  149 22  1732.397     \n",
       "245   hen_134 pen10 2021-02-26 TRAN      MEXP  268 39  150 22  1733.743     \n",
       "246   hen_134 pen10 2021-02-27 TRAN      MEXP  269 39  151 22  1735.089     \n",
       "247   hen_134 pen10 2021-02-28 TRAN      MEXP  270 39  152 22  1736.434     \n",
       "470   hen_138 pen10 2021-02-03 TRAN      MEXP  245 35  127 19  2019.326     \n",
       "471   hen_138 pen10 2021-02-04 TRAN      MEXP  246 36  128 19  2021.439     \n",
       "472   hen_138 pen10 2021-02-05 TRAN      MEXP  247 36  129 19  2023.551     \n",
       "473   hen_138 pen10 2021-02-06 TRAN      MEXP  248 36  130 19  2025.664     \n",
       "...   ...     ...   ...        ...       ...   ... ... ... ... ...          \n",
       "37934 hen_93  pen9  2021-02-23 OFH       REXP  265 38  147 21  1758.334     \n",
       "37935 hen_93  pen9  2021-02-24 OFH       REXP  266 38  148 22  1759.359     \n",
       "37936 hen_93  pen9  2021-02-26 OFH       REXP  268 39  150 22  1761.407     \n",
       "37937 hen_93  pen9  2021-02-27 OFH       REXP  269 39  151 22  1762.431     \n",
       "37938 hen_93  pen9  2021-02-28 OFH       REXP  270 39  152 22  1763.456     \n",
       "38163 hen_98  pen9  2021-02-03 OFH       MEXP  245 35  127 19  1715.220     \n",
       "38164 hen_98  pen9  2021-02-04 OFH       MEXP  246 36  128 19  1715.580     \n",
       "38165 hen_98  pen9  2021-02-05 OFH       MEXP  247 36  129 19  1715.940     \n",
       "38166 hen_98  pen9  2021-02-06 OFH       MEXP  248 36  130 19  1716.300     \n",
       "38167 hen_98  pen9  2021-02-07 OFH       MEXP  249 36  131 19  1716.660     \n",
       "38168 hen_98  pen9  2021-02-08 OFH       MEXP  250 36  132 19  1717.020     \n",
       "38169 hen_98  pen9  2021-02-09 OFH       MEXP  251 36  133 19  1717.380     \n",
       "38170 hen_98  pen9  2021-02-10 OFH       MEXP  252 36  134 20  1717.740     \n",
       "38171 hen_98  pen9  2021-02-11 OFH       MEXP  253 37  135 20  1718.100     \n",
       "38172 hen_98  pen9  2021-02-12 OFH       MEXP  254 37  136 20  1718.460     \n",
       "38173 hen_98  pen9  2021-02-13 OFH       MEXP  255 37  137 20  1718.820     \n",
       "38174 hen_98  pen9  2021-02-14 OFH       MEXP  256 37  138 20  1719.180     \n",
       "38175 hen_98  pen9  2021-02-15 OFH       MEXP  257 37  139 20  1719.540     \n",
       "38176 hen_98  pen9  2021-02-16 OFH       MEXP  258 37  140 20  1719.900     \n",
       "38177 hen_98  pen9  2021-02-17 OFH       MEXP  259 37  141 21  1720.260     \n",
       "38178 hen_98  pen9  2021-02-18 OFH       MEXP  260 38  142 21  1720.620     \n",
       "38179 hen_98  pen9  2021-02-19 OFH       MEXP  261 38  143 21  1720.980     \n",
       "38180 hen_98  pen9  2021-02-20 OFH       MEXP  262 38  144 21  1721.340     \n",
       "38181 hen_98  pen9  2021-02-21 OFH       MEXP  263 38  145 21  1721.700     \n",
       "38182 hen_98  pen9  2021-02-22 OFH       MEXP  264 38  146 21  1722.060     \n",
       "38183 hen_98  pen9  2021-02-23 OFH       MEXP  265 38  147 21  1722.420     \n",
       "38184 hen_98  pen9  2021-02-24 OFH       MEXP  266 38  148 22  1722.780     \n",
       "38185 hen_98  pen9  2021-02-26 OFH       MEXP  268 39  150 22  1723.500     \n",
       "38186 hen_98  pen9  2021-02-27 OFH       MEXP  269 39  151 22  1723.860     \n",
       "38187 hen_98  pen9  2021-02-28 OFH       MEXP  270 39  152 22  1724.220     \n",
       "      ... propindoor_duration_5_Zone propindoor_duration_4_Zone\n",
       "222   ... 0.60204082                 0.09183673                \n",
       "223   ... 0.50000000                 0.18367347                \n",
       "224   ... 0.46938776                 0.12244898                \n",
       "225   ... 0.39583333                 0.13541667                \n",
       "226   ... 0.52577320                 0.11340206                \n",
       "227   ... 0.52525253                 0.12121212                \n",
       "228   ... 0.63265306                 0.11224490                \n",
       "229   ... 0.51578947                 0.14736842                \n",
       "230   ... 0.45000000                 0.14000000                \n",
       "231   ... 0.64000000                 0.10000000                \n",
       "232   ... 0.69000000                 0.11000000                \n",
       "233   ... 0.64000000                 0.09000000                \n",
       "234   ... 0.54545455                 0.11111111                \n",
       "235   ... 0.57142857                 0.11224490                \n",
       "236   ... 0.59000000                 0.12000000                \n",
       "237   ... 0.64285714                 0.12244898                \n",
       "238   ... 0.46391753                 0.12371134                \n",
       "239   ... 0.47959184                 0.11224490                \n",
       "240   ... 0.57731959                 0.11340206                \n",
       "241   ... 0.49494949                 0.11111111                \n",
       "242   ... 0.50515464                 0.13402062                \n",
       "243   ... 0.49494949                 0.12121212                \n",
       "244   ... 0.42268041                 0.13402062                \n",
       "245   ... 0.32291667                 0.13541667                \n",
       "246   ... 0.55102041                 0.12244898                \n",
       "247   ... 0.48484848                 0.12121212                \n",
       "470   ... 0.04081633                 0.05102041                \n",
       "471   ... 0.02061856                 0.05154639                \n",
       "472   ... 0.03061224                 0.05102041                \n",
       "473   ... 0.04166667                 0.04166667                \n",
       "...       ...                        ...                       \n",
       "37934 ... 0.9000000                  0.10000000                \n",
       "37935 ... 0.8800000                  0.06000000                \n",
       "37936 ... 0.7800000                  0.10000000                \n",
       "37937 ... 0.8900000                  0.06000000                \n",
       "37938 ... 0.9000000                  0.07000000                \n",
       "38163 ... 0.2755102                  0.16326531                \n",
       "38164 ... 0.5050505                  0.15151515                \n",
       "38165 ... 0.5000000                  0.07291667                \n",
       "38166 ... 0.3265306                  0.11224490                \n",
       "38167 ... 0.3775510                  0.09183673                \n",
       "38168 ... 0.2234043                  0.12765957                \n",
       "38169 ... 0.2474227                  0.09278351                \n",
       "38170 ... 0.2959184                  0.14285714                \n",
       "38171 ... 0.2828283                  0.06060606                \n",
       "38172 ... 0.1100000                  0.11000000                \n",
       "38173 ... 0.3400000                  0.10000000                \n",
       "38174 ... 0.5000000                  0.07000000                \n",
       "38175 ... 0.6326531                  0.12244898                \n",
       "38176 ... 0.2842105                  0.08421053                \n",
       "38177 ... 0.3300000                  0.23000000                \n",
       "38178 ... 0.3157895                  0.14736842                \n",
       "38179 ... 0.3777778                  0.16666667                \n",
       "38180 ... 0.3894737                  0.20000000                \n",
       "38181 ... 0.3265306                  0.18367347                \n",
       "38182 ... 0.3125000                  0.11458333                \n",
       "38183 ... 0.4270833                  0.08333333                \n",
       "38184 ... 0.3917526                  0.13402062                \n",
       "38185 ... 0.3917526                  0.13402062                \n",
       "38186 ... 0.2828283                  0.12121212                \n",
       "38187 ... 0.2121212                  0.13131313                \n",
       "      propindoor_duration_2_Zone propindoor_duration_5_Zone_rs\n",
       "222   0.2346939                  0.60000000                   \n",
       "223   0.2142857                  0.50000000                   \n",
       "224   0.3061224                  0.47000000                   \n",
       "225   0.3645833                  0.39791667                   \n",
       "226   0.2577320                  0.52525773                   \n",
       "227   0.2525253                  0.52474747                   \n",
       "228   0.1836735                  0.63000000                   \n",
       "229   0.2736842                  0.51547368                   \n",
       "230   0.3100000                  0.45100000                   \n",
       "231   0.2100000                  0.63720000                   \n",
       "232   0.1700000                  0.68620000                   \n",
       "233   0.2300000                  0.63720000                   \n",
       "234   0.2929293                  0.54454545                   \n",
       "235   0.2755102                  0.57000000                   \n",
       "236   0.2600000                  0.58820000                   \n",
       "237   0.1938776                  0.64000000                   \n",
       "238   0.3092784                  0.46463918                   \n",
       "239   0.3265306                  0.48000000                   \n",
       "240   0.2268041                  0.57577320                   \n",
       "241   0.3030303                  0.49505051                   \n",
       "242   0.3092784                  0.50505155                   \n",
       "243   0.2828283                  0.49505051                   \n",
       "244   0.3298969                  0.42422680                   \n",
       "245   0.3541667                  0.32645833                   \n",
       "246   0.2346939                  0.55000000                   \n",
       "247   0.2727273                  0.48515152                   \n",
       "470   0.5612245                  0.05000000                   \n",
       "471   0.5670103                  0.03020619                   \n",
       "472   0.5204082                  0.04000000                   \n",
       "473   0.5520833                  0.05083333                   \n",
       "...   ...                        ...                          \n",
       "37934 0.0000000                  0.8920000                    \n",
       "37935 0.0500000                  0.8724000                    \n",
       "37936 0.0900000                  0.7744000                    \n",
       "37937 0.0500000                  0.8822000                    \n",
       "37938 0.0300000                  0.8920000                    \n",
       "38163 0.3163265                  0.2800000                    \n",
       "38164 0.2323232                  0.5049495                    \n",
       "38165 0.2708333                  0.5000000                    \n",
       "38166 0.3775510                  0.3300000                    \n",
       "38167 0.3367347                  0.3800000                    \n",
       "38168 0.4574468                  0.2289362                    \n",
       "38169 0.3917526                  0.2524742                    \n",
       "38170 0.3571429                  0.3000000                    \n",
       "38171 0.4545455                  0.2871717                    \n",
       "38172 0.4600000                  0.1178000                    \n",
       "38173 0.3700000                  0.3432000                    \n",
       "38174 0.2900000                  0.5000000                    \n",
       "38175 0.1632653                  0.6300000                    \n",
       "38176 0.4842105                  0.2885263                    \n",
       "38177 0.3000000                  0.3334000                    \n",
       "38178 0.3684211                  0.3194737                    \n",
       "38179 0.3222222                  0.3802222                    \n",
       "38180 0.2842105                  0.3916842                    \n",
       "38181 0.2857143                  0.3300000                    \n",
       "38182 0.4062500                  0.3162500                    \n",
       "38183 0.3333333                  0.4285417                    \n",
       "38184 0.3402062                  0.3939175                    \n",
       "38185 0.3298969                  0.3939175                    \n",
       "38186 0.4343434                  0.2871717                    \n",
       "38187 0.4141414                  0.2178788                    \n",
       "      propindoor_duration_4_Zone_rs propindoor_duration_2_Zone_rs went_litter\n",
       "222   0.10000000                    0.2400000                     1          \n",
       "223   0.19000000                    0.2200000                     1          \n",
       "224   0.13000000                    0.3100000                     1          \n",
       "225   0.14270833                    0.3672917                     1          \n",
       "226   0.12113402                    0.2625773                     1          \n",
       "227   0.12878788                    0.2574747                     1          \n",
       "228   0.12000000                    0.1900000                     1          \n",
       "229   0.15442105                    0.2782105                     1          \n",
       "230   0.14720000                    0.3138000                     1          \n",
       "231   0.10800000                    0.2158000                     1          \n",
       "232   0.11780000                    0.1766000                     1          \n",
       "233   0.09820000                    0.2354000                     1          \n",
       "234   0.11888889                    0.2970707                     1          \n",
       "235   0.12000000                    0.2800000                     1          \n",
       "236   0.12760000                    0.2648000                     1          \n",
       "237   0.13000000                    0.2000000                     1          \n",
       "238   0.13123711                    0.3130928                     1          \n",
       "239   0.12000000                    0.3300000                     1          \n",
       "240   0.12113402                    0.2322680                     1          \n",
       "241   0.11888889                    0.3069697                     1          \n",
       "242   0.14134021                    0.3130928                     1          \n",
       "243   0.12878788                    0.2871717                     1          \n",
       "244   0.14134021                    0.3332990                     1          \n",
       "245   0.14270833                    0.3570833                     1          \n",
       "246   0.13000000                    0.2400000                     1          \n",
       "247   0.12878788                    0.2772727                     1          \n",
       "470   0.06000000                    0.5600000                     1          \n",
       "471   0.06051546                    0.5656701                     1          \n",
       "472   0.06000000                    0.5200000                     1          \n",
       "473   0.05083333                    0.5510417                     1          \n",
       "...   ...                           ...                           ...        \n",
       "37934 0.10800000                    0.0100000                     0          \n",
       "37935 0.06880000                    0.0590000                     1          \n",
       "37936 0.10800000                    0.0982000                     1          \n",
       "37937 0.06880000                    0.0590000                     1          \n",
       "37938 0.07860000                    0.0394000                     1          \n",
       "38163 0.17000000                    0.3200000                     1          \n",
       "38164 0.15848485                    0.2376768                     1          \n",
       "38165 0.08145833                    0.2754167                     1          \n",
       "38166 0.12000000                    0.3800000                     1          \n",
       "38167 0.10000000                    0.3400000                     1          \n",
       "38168 0.13510638                    0.4582979                     1          \n",
       "38169 0.10092784                    0.3939175                     1          \n",
       "38170 0.15000000                    0.3600000                     1          \n",
       "38171 0.06939394                    0.4554545                     1          \n",
       "38172 0.11780000                    0.4608000                     1          \n",
       "38173 0.10800000                    0.3726000                     1          \n",
       "38174 0.07860000                    0.2942000                     1          \n",
       "38175 0.13000000                    0.1700000                     1          \n",
       "38176 0.09252632                    0.4845263                     1          \n",
       "38177 0.23540000                    0.3040000                     1          \n",
       "38178 0.15442105                    0.3710526                     1          \n",
       "38179 0.17333333                    0.3257778                     1          \n",
       "38180 0.20600000                    0.2885263                     1          \n",
       "38181 0.19000000                    0.2900000                     1          \n",
       "38182 0.12229167                    0.4081250                     1          \n",
       "38183 0.09166667                    0.3366667                     1          \n",
       "38184 0.14134021                    0.3434021                     1          \n",
       "38185 0.14134021                    0.3332990                     1          \n",
       "38186 0.12878788                    0.4356566                     1          \n",
       "38187 0.13868687                    0.4158586                     1          \n",
       "      stayed_top_tier monthILB HenID_sh\n",
       "222   0               month5   hen_51  \n",
       "223   0               month5   hen_149 \n",
       "224   0               month5   hen_71  \n",
       "225   0               month5   hen_170 \n",
       "226   0               month5   hen_105 \n",
       "227   0               month5   hen_197 \n",
       "228   0               month5   hen_122 \n",
       "229   0               month5   hen_15  \n",
       "230   0               month5   hen_133 \n",
       "231   0               month5   hen_113 \n",
       "232   0               month5   hen_108 \n",
       "233   0               month5   hen_75  \n",
       "234   0               month5   hen_177 \n",
       "235   0               month5   hen_76  \n",
       "236   0               month5   hen_77  \n",
       "237   0               month5   hen_57  \n",
       "238   0               month5   hen_211 \n",
       "239   0               month5   hen_186 \n",
       "240   0               month5   hen_13  \n",
       "241   0               month5   hen_165 \n",
       "242   0               month5   hen_169 \n",
       "243   0               month5   hen_54  \n",
       "244   0               month5   hen_93  \n",
       "245   0               month5   hen_137 \n",
       "246   0               month5   hen_180 \n",
       "247   0               month5   hen_145 \n",
       "470   0               month5   hen_79  \n",
       "471   0               month5   hen_173 \n",
       "472   0               month5   hen_151 \n",
       "473   0               month5   hen_138 \n",
       "...   ...             ...      ...     \n",
       "37934 0               month5   hen_58  \n",
       "37935 0               month5   hen_193 \n",
       "37936 0               month5   hen_50  \n",
       "37937 0               month5   hen_143 \n",
       "37938 0               month5   hen_68  \n",
       "38163 0               month5   hen_7   \n",
       "38164 0               month5   hen_92  \n",
       "38165 0               month5   hen_211 \n",
       "38166 0               month5   hen_133 \n",
       "38167 0               month5   hen_147 \n",
       "38168 0               month5   hen_85  \n",
       "38169 0               month5   hen_139 \n",
       "38170 0               month5   hen_19  \n",
       "38171 0               month5   hen_180 \n",
       "38172 0               month5   hen_15  \n",
       "38173 0               month5   hen_205 \n",
       "38174 0               month5   hen_187 \n",
       "38175 0               month5   hen_153 \n",
       "38176 0               month5   hen_181 \n",
       "38177 0               month5   hen_97  \n",
       "38178 0               month5   hen_151 \n",
       "38179 0               month5   hen_111 \n",
       "38180 0               month5   hen_122 \n",
       "38181 0               month5   hen_78  \n",
       "38182 0               month5   hen_51  \n",
       "38183 0               month5   hen_18  \n",
       "38184 0               month5   hen_202 \n",
       "38185 0               month5   hen_28  \n",
       "38186 0               month5   hen_210 \n",
       "38187 0               month5   hen_206 "
      ]
     },
     "metadata": {},
     "output_type": "display_data"
    }
   ],
   "source": [
    "df__"
   ]
  },
  {
   "cell_type": "code",
   "execution_count": 34,
   "id": "ab3e24d8",
   "metadata": {},
   "outputs": [
    {
     "data": {
      "text/html": [
       "TRUE"
      ],
      "text/latex": [
       "TRUE"
      ],
      "text/markdown": [
       "TRUE"
      ],
      "text/plain": [
       "[1] TRUE"
      ]
     },
     "metadata": {},
     "output_type": "display_data"
    }
   ],
   "source": [
    "performance::check_singularity(fit_nopenid)"
   ]
  },
  {
   "cell_type": "code",
   "execution_count": null,
   "id": "c6446b86",
   "metadata": {},
   "outputs": [],
   "source": []
  },
  {
   "cell_type": "code",
   "execution_count": 29,
   "id": "9f711ff2",
   "metadata": {},
   "outputs": [
    {
     "data": {
      "text/html": [
       "<style>\n",
       ".list-inline {list-style: none; margin:0; padding: 0}\n",
       ".list-inline>li {display: inline-block}\n",
       ".list-inline>li:not(:last-child)::after {content: \"\\00b7\"; padding: 0 .5ex}\n",
       "</style>\n",
       "<ol class=list-inline><li>37455</li><li>29</li></ol>\n"
      ],
      "text/latex": [
       "\\begin{enumerate*}\n",
       "\\item 37455\n",
       "\\item 29\n",
       "\\end{enumerate*}\n"
      ],
      "text/markdown": [
       "1. 37455\n",
       "2. 29\n",
       "\n",
       "\n"
      ],
      "text/plain": [
       "[1] 37455    29"
      ]
     },
     "metadata": {},
     "output_type": "display_data"
    },
    {
     "name": "stdout",
     "output_type": "stream",
     "text": [
      "[1] \"month5\"\n"
     ]
    },
    {
     "name": "stderr",
     "output_type": "stream",
     "text": [
      "Warning message in Matrix::sparseMatrix(dims = c(0, 0), i = integer(0), j = integer(0), :\n",
      "\"'giveCsparse' has been deprecated; setting 'repr = \"T\"' for you\"\n",
      "Warning message in Matrix::sparseMatrix(dims = c(0, 0), i = integer(0), j = integer(0), :\n",
      "\"'giveCsparse' has been deprecated; setting 'repr = \"T\"' for you\"\n",
      "Warning message in Matrix::sparseMatrix(dims = c(0, 0), i = integer(0), j = integer(0), :\n",
      "\"'giveCsparse' has been deprecated; setting 'repr = \"T\"' for you\"\n"
     ]
    },
    {
     "data": {
      "text/plain": [
       " Family: beta  ( logit )\n",
       "Formula:          propindoor_duration_2_Zone_rs ~ 1 + (1 | HenID)\n",
       "Data: df__\n",
       "\n",
       "     AIC      BIC   logLik deviance df.resid \n",
       "-10727.0 -10708.2   5366.5 -10733.0     3864 \n",
       "\n",
       "Random effects:\n",
       "\n",
       "Conditional model:\n",
       " Groups Name        Variance Std.Dev.\n",
       " HenID  (Intercept) 0.7666   0.8756  \n",
       "Number of obs: 3867, groups:  HenID, 159\n",
       "\n",
       "Overdispersion parameter for beta family (): 66.6 \n",
       "\n",
       "Conditional model:\n",
       "            Estimate Std. Error z value Pr(>|z|)    \n",
       "(Intercept) -0.52417    0.06959  -7.532 4.99e-14 ***\n",
       "---\n",
       "Signif. codes:  0 '***' 0.001 '**' 0.01 '*' 0.05 '.' 0.1 ' ' 1"
      ]
     },
     "metadata": {},
     "output_type": "display_data"
    },
    {
     "name": "stderr",
     "output_type": "stream",
     "text": [
      "Warning message in Matrix::sparseMatrix(dims = c(0, 0), i = integer(0), j = integer(0), :\n",
      "\"'giveCsparse' has been deprecated; setting 'repr = \"T\"' for you\"\n",
      "Warning message in Matrix::sparseMatrix(dims = c(0, 0), i = integer(0), j = integer(0), :\n",
      "\"'giveCsparse' has been deprecated; setting 'repr = \"T\"' for you\"\n",
      "Warning message in Matrix::sparseMatrix(dims = c(0, 0), i = integer(0), j = integer(0), :\n",
      "\"'giveCsparse' has been deprecated; setting 'repr = \"T\"' for you\"\n",
      "Warning message:\n",
      "\"mu of 0.6 is too close to zero, estimate of random effect variances may be\n",
      "  unreliable.\"\n"
     ]
    },
    {
     "data": {
      "text/plain": [
       "\u001b[34m# R2 for Mixed Models\n",
       "\n",
       "\u001b[39m  Conditional R2: 0.987\n",
       "     Marginal R2: 0.000"
      ]
     },
     "metadata": {},
     "output_type": "display_data"
    }
   ],
   "source": [
    "# NOT FULL MONTH 5 SAM ISSUE\n",
    "#https://github.com/glmmTMB/glmmTMB/issues/169\n",
    "#https://stackoverflow.com/questions/71928005/weird-output-of-tab-model-with-glmmtmb\n",
    "df_ = df\n",
    "dim(df_)\n",
    "monthILBID = 'month5'\n",
    "print(monthILBID)\n",
    "df__ = df_[df_$monthILB==monthILBID,]\n",
    "fit_nopenid = glmmTMB(propindoor_duration_2_Zone_rs ~  1 +(1|HenID), \n",
    "                   data=df__, family=beta_family(link=\"logit\"))\n",
    "summary(fit_nopenid)\n",
    "performance::r2(fit_nopenid)"
   ]
  },
  {
   "cell_type": "code",
   "execution_count": 30,
   "id": "5854023d",
   "metadata": {},
   "outputs": [
    {
     "data": {
      "text/html": [
       "<style>\n",
       ".list-inline {list-style: none; margin:0; padding: 0}\n",
       ".list-inline>li {display: inline-block}\n",
       ".list-inline>li:not(:last-child)::after {content: \"\\00b7\"; padding: 0 .5ex}\n",
       "</style>\n",
       "<ol class=list-inline><li>37455</li><li>29</li></ol>\n"
      ],
      "text/latex": [
       "\\begin{enumerate*}\n",
       "\\item 37455\n",
       "\\item 29\n",
       "\\end{enumerate*}\n"
      ],
      "text/markdown": [
       "1. 37455\n",
       "2. 29\n",
       "\n",
       "\n"
      ],
      "text/plain": [
       "[1] 37455    29"
      ]
     },
     "metadata": {},
     "output_type": "display_data"
    },
    {
     "name": "stdout",
     "output_type": "stream",
     "text": [
      "[1] \"month2\"\n"
     ]
    },
    {
     "name": "stderr",
     "output_type": "stream",
     "text": [
      "Warning message in Matrix::sparseMatrix(dims = c(0, 0), i = integer(0), j = integer(0), :\n",
      "\"'giveCsparse' has been deprecated; setting 'repr = \"T\"' for you\"\n",
      "Warning message in Matrix::sparseMatrix(dims = c(0, 0), i = integer(0), j = integer(0), :\n",
      "\"'giveCsparse' has been deprecated; setting 'repr = \"T\"' for you\"\n",
      "Warning message in Matrix::sparseMatrix(dims = c(0, 0), i = integer(0), j = integer(0), :\n",
      "\"'giveCsparse' has been deprecated; setting 'repr = \"T\"' for you\"\n"
     ]
    },
    {
     "data": {
      "text/plain": [
       " Family: beta  ( logit )\n",
       "Formula:          propindoor_duration_4_Zone_rs ~ 1 + (1 | HenID)\n",
       "Data: df__\n",
       "\n",
       "     AIC      BIC   logLik deviance df.resid \n",
       "-17320.0 -17301.1   8663.0 -17326.0     4057 \n",
       "\n",
       "Random effects:\n",
       "\n",
       "Conditional model:\n",
       " Groups Name        Variance Std.Dev.\n",
       " HenID  (Intercept) 0.1107   0.3327  \n",
       "Number of obs: 4060, groups:  HenID, 173\n",
       "\n",
       "Overdispersion parameter for beta family ():   86 \n",
       "\n",
       "Conditional model:\n",
       "            Estimate Std. Error z value Pr(>|z|)    \n",
       "(Intercept) -2.50477    0.02636  -95.02   <2e-16 ***\n",
       "---\n",
       "Signif. codes:  0 '***' 0.001 '**' 0.01 '*' 0.05 '.' 0.1 ' ' 1"
      ]
     },
     "metadata": {},
     "output_type": "display_data"
    },
    {
     "name": "stderr",
     "output_type": "stream",
     "text": [
      "Warning message in Matrix::sparseMatrix(dims = c(0, 0), i = integer(0), j = integer(0), :\n",
      "\"'giveCsparse' has been deprecated; setting 'repr = \"T\"' for you\"\n",
      "Warning message in Matrix::sparseMatrix(dims = c(0, 0), i = integer(0), j = integer(0), :\n",
      "\"'giveCsparse' has been deprecated; setting 'repr = \"T\"' for you\"\n",
      "Warning message in Matrix::sparseMatrix(dims = c(0, 0), i = integer(0), j = integer(0), :\n",
      "\"'giveCsparse' has been deprecated; setting 'repr = \"T\"' for you\"\n",
      "Warning message:\n",
      "\"mu of 0.1 is too close to zero, estimate of random effect variances may be\n",
      "  unreliable.\"\n"
     ]
    },
    {
     "data": {
      "text/plain": [
       "\u001b[34m# R2 for Mixed Models\n",
       "\n",
       "\u001b[39m  Conditional R2: 0.477\n",
       "     Marginal R2: 0.000"
      ]
     },
     "metadata": {},
     "output_type": "display_data"
    }
   ],
   "source": [
    "# NOT FULL MONTH 5 SAM ISSUE\n",
    "#https://github.com/glmmTMB/glmmTMB/issues/169\n",
    "#https://stackoverflow.com/questions/71928005/weird-output-of-tab-model-with-glmmtmb\n",
    "df_ = df\n",
    "dim(df_)\n",
    "monthILBID = 'month2'\n",
    "print(monthILBID)\n",
    "df__ = df_[df_$monthILB==monthILBID,]\n",
    "fit_nopenid = glmmTMB(propindoor_duration_4_Zone_rs ~  1 +(1|HenID), \n",
    "                   data=df__, family=beta_family(link=\"logit\"))\n",
    "summary(fit_nopenid)\n",
    "performance::r2(fit_nopenid)"
   ]
  },
  {
   "cell_type": "code",
   "execution_count": null,
   "id": "dc59e5c7",
   "metadata": {},
   "outputs": [],
   "source": []
  },
  {
   "cell_type": "code",
   "execution_count": null,
   "id": "edcc77bc",
   "metadata": {},
   "outputs": [],
   "source": []
  },
  {
   "cell_type": "code",
   "execution_count": null,
   "id": "452ff2e4",
   "metadata": {},
   "outputs": [],
   "source": []
  },
  {
   "cell_type": "code",
   "execution_count": null,
   "id": "d9f2a7a0",
   "metadata": {},
   "outputs": [],
   "source": [
    "--> same isse with no fixed effect, same issue with performance::r2() \n",
    "--> same issue with Z4"
   ]
  },
  {
   "cell_type": "code",
   "execution_count": 53,
   "id": "a6f66517",
   "metadata": {},
   "outputs": [
    {
     "name": "stderr",
     "output_type": "stream",
     "text": [
      "Warning message in Matrix::sparseMatrix(dims = c(0, 0), i = integer(0), j = integer(0), :\n",
      "\"'giveCsparse' has been deprecated; setting 'repr = \"T\"' for you\"\n",
      "Warning message in Matrix::sparseMatrix(dims = c(0, 0), i = integer(0), j = integer(0), :\n",
      "\"'giveCsparse' has been deprecated; setting 'repr = \"T\"' for you\"\n",
      "Warning message in Matrix::sparseMatrix(dims = c(0, 0), i = integer(0), j = integer(0), :\n",
      "\"'giveCsparse' has been deprecated; setting 'repr = \"T\"' for you\"\n",
      "Warning message:\n",
      "\"mu of 0.6 is too close to zero, estimate of random effect variances may be\n",
      "  unreliable.\"\n"
     ]
    },
    {
     "data": {
      "text/plain": [
       "\u001b[34m# R2 for Mixed Models\n",
       "\n",
       "\u001b[39m  Conditional R2: 0.987\n",
       "     Marginal R2: 0.034"
      ]
     },
     "metadata": {},
     "output_type": "display_data"
    }
   ],
   "source": [
    "performance::r2_nakagawa(fit_nopenid)"
   ]
  },
  {
   "cell_type": "code",
   "execution_count": null,
   "id": "6018c394",
   "metadata": {},
   "outputs": [],
   "source": []
  },
  {
   "cell_type": "code",
   "execution_count": null,
   "id": "a09f589f",
   "metadata": {},
   "outputs": [],
   "source": [
    "df_ = df\n",
    "dim(df_)\n",
    "monthILBID = 'month4'\n",
    "print(monthILBID)\n",
    "df__ = df_[df_$monthILB==monthILBID,]\n",
    "fit_nopenid = glmmTMB(propindoor_duration_2_Zone_rs ~  CLASS+ Treatment + rescale(DIB) + rescale(weight_interp) + (1|HenID), \n",
    "                   data=df__, family=beta_family(link=\"logit\"))\n",
    "summary(fit_nopenid)\n",
    "#https://github.com/glmmTMB/glmmTMB/issues/169\n",
    "performance::r2(fit_nopenid)"
   ]
  },
  {
   "cell_type": "code",
   "execution_count": null,
   "id": "4fd5e436",
   "metadata": {},
   "outputs": [],
   "source": []
  },
  {
   "cell_type": "code",
   "execution_count": 55,
   "id": "a2200fc9",
   "metadata": {},
   "outputs": [
    {
     "name": "stderr",
     "output_type": "stream",
     "text": [
      "Warning message in dir.create(path_visual_):\n",
      "\"'G:\\VPHI\\Welfare\\2- Research Projects\\OFHE2.OriginsE2\\DataOutput\\TrackingSystem\\ALLDATA_\\OFH_model\\Month_final_PenIDWhenNeeded\\propindoor_duration_2_Zone_rs' existe déjà\"\n"
     ]
    },
    {
     "data": {
      "text/html": [
       "<style>\n",
       ".list-inline {list-style: none; margin:0; padding: 0}\n",
       ".list-inline>li {display: inline-block}\n",
       ".list-inline>li:not(:last-child)::after {content: \"\\00b7\"; padding: 0 .5ex}\n",
       "</style>\n",
       "<ol class=list-inline><li>37455</li><li>26</li></ol>\n"
      ],
      "text/latex": [
       "\\begin{enumerate*}\n",
       "\\item 37455\n",
       "\\item 26\n",
       "\\end{enumerate*}\n"
      ],
      "text/markdown": [
       "1. 37455\n",
       "2. 26\n",
       "\n",
       "\n"
      ],
      "text/plain": [
       "[1] 37455    26"
      ]
     },
     "metadata": {},
     "output_type": "display_data"
    },
    {
     "data": {
      "text/html": [
       "<style>\n",
       ".list-inline {list-style: none; margin:0; padding: 0}\n",
       ".list-inline>li {display: inline-block}\n",
       ".list-inline>li:not(:last-child)::after {content: \"\\00b7\"; padding: 0 .5ex}\n",
       "</style>\n",
       "<ol class=list-inline><li>37455</li><li>26</li></ol>\n"
      ],
      "text/latex": [
       "\\begin{enumerate*}\n",
       "\\item 37455\n",
       "\\item 26\n",
       "\\end{enumerate*}\n"
      ],
      "text/markdown": [
       "1. 37455\n",
       "2. 26\n",
       "\n",
       "\n"
      ],
      "text/plain": [
       "[1] 37455    26"
      ]
     },
     "metadata": {},
     "output_type": "display_data"
    },
    {
     "name": "stdout",
     "output_type": "stream",
     "text": [
      "[1] \"month1\"\n"
     ]
    },
    {
     "name": "stderr",
     "output_type": "stream",
     "text": [
      "Warning message in Matrix::sparseMatrix(dims = c(0, 0), i = integer(0), j = integer(0), :\n",
      "\"'giveCsparse' has been deprecated; setting 'repr = \"T\"' for you\"\n",
      "Warning message in Matrix::sparseMatrix(dims = c(0, 0), i = integer(0), j = integer(0), :\n",
      "\"'giveCsparse' has been deprecated; setting 'repr = \"T\"' for you\"\n",
      "Warning message in Matrix::sparseMatrix(dims = c(0, 0), i = integer(0), j = integer(0), :\n",
      "\"'giveCsparse' has been deprecated; setting 'repr = \"T\"' for you\"\n",
      "Warning message in Matrix::sparseMatrix(dims = c(0, 0), i = integer(0), j = integer(0), :\n",
      "\"'giveCsparse' has been deprecated; setting 'repr = \"T\"' for you\"\n",
      "Warning message in Matrix::sparseMatrix(dims = c(0, 0), i = integer(0), j = integer(0), :\n",
      "\"'giveCsparse' has been deprecated; setting 'repr = \"T\"' for you\"\n",
      "Warning message in Matrix::sparseMatrix(dims = c(0, 0), i = integer(0), j = integer(0), :\n",
      "\"'giveCsparse' has been deprecated; setting 'repr = \"T\"' for you\"\n"
     ]
    },
    {
     "name": "stdout",
     "output_type": "stream",
     "text": [
      "Data: df__\n",
      "Models:\n",
      "fit_nopenid: went_litter ~ CLASS + Treatment + rescale(DIB) + rescale(weight_interp) + , zi=~0, disp=~1\n",
      "fit_nopenid:     rescale(nbr_h_per_day) + (1 | HenID), zi=~0, disp=~1\n",
      "fit_penid: went_litter ~ CLASS + Treatment + rescale(DIB) + rescale(weight_interp) + , zi=~0, disp=~1\n",
      "fit_penid:     rescale(nbr_h_per_day) + (1 | PenID/HenID), zi=~0, disp=~1\n",
      "            Df    AIC    BIC  logLik deviance Chisq Chi Df Pr(>Chisq)\n",
      "fit_nopenid  8 2424.9 2474.2 -1204.4   2408.9                        \n",
      "fit_penid    9 2426.9 2482.4 -1204.4   2408.9     0      1          1\n"
     ]
    },
    {
     "name": "stderr",
     "output_type": "stream",
     "text": [
      "Warning message in Matrix::sparseMatrix(dims = c(0, 0), i = integer(0), j = integer(0), :\n",
      "\"'giveCsparse' has been deprecated; setting 'repr = \"T\"' for you\"\n",
      "Warning message in Matrix::sparseMatrix(dims = c(0, 0), i = integer(0), j = integer(0), :\n",
      "\"'giveCsparse' has been deprecated; setting 'repr = \"T\"' for you\"\n",
      "Warning message in Matrix::sparseMatrix(dims = c(0, 0), i = integer(0), j = integer(0), :\n",
      "\"'giveCsparse' has been deprecated; setting 'repr = \"T\"' for you\"\n",
      "Warning message in Matrix::sparseMatrix(dims = c(0, 0), i = integer(0), j = integer(0), :\n",
      "\"'giveCsparse' has been deprecated; setting 'repr = \"T\"' for you\"\n",
      "Warning message in Matrix::sparseMatrix(dims = c(0, 0), i = integer(0), j = integer(0), :\n",
      "\"'giveCsparse' has been deprecated; setting 'repr = \"T\"' for you\"\n",
      "Warning message in Matrix::sparseMatrix(dims = c(0, 0), i = integer(0), j = integer(0), :\n",
      "\"'giveCsparse' has been deprecated; setting 'repr = \"T\"' for you\"\n"
     ]
    },
    {
     "name": "stdout",
     "output_type": "stream",
     "text": [
      "NULL\n",
      "NULL\n",
      "[1] \"month2\"\n"
     ]
    },
    {
     "name": "stderr",
     "output_type": "stream",
     "text": [
      "Warning message in Matrix::sparseMatrix(dims = c(0, 0), i = integer(0), j = integer(0), :\n",
      "\"'giveCsparse' has been deprecated; setting 'repr = \"T\"' for you\"\n",
      "Warning message in Matrix::sparseMatrix(dims = c(0, 0), i = integer(0), j = integer(0), :\n",
      "\"'giveCsparse' has been deprecated; setting 'repr = \"T\"' for you\"\n",
      "Warning message in Matrix::sparseMatrix(dims = c(0, 0), i = integer(0), j = integer(0), :\n",
      "\"'giveCsparse' has been deprecated; setting 'repr = \"T\"' for you\"\n",
      "Warning message in Matrix::sparseMatrix(dims = c(0, 0), i = integer(0), j = integer(0), :\n",
      "\"'giveCsparse' has been deprecated; setting 'repr = \"T\"' for you\"\n",
      "Warning message in Matrix::sparseMatrix(dims = c(0, 0), i = integer(0), j = integer(0), :\n",
      "\"'giveCsparse' has been deprecated; setting 'repr = \"T\"' for you\"\n",
      "Warning message in Matrix::sparseMatrix(dims = c(0, 0), i = integer(0), j = integer(0), :\n",
      "\"'giveCsparse' has been deprecated; setting 'repr = \"T\"' for you\"\n"
     ]
    },
    {
     "name": "stdout",
     "output_type": "stream",
     "text": [
      "Data: df__\n",
      "Models:\n",
      "fit_nopenid: propindoor_duration_2_Zone_rs ~ CLASS + Treatment + rescale(DIB) + , zi=~0, disp=~1\n",
      "fit_nopenid:     rescale(weight_interp) + rescale(nbr_h_per_day) + (1 | HenID), zi=~0, disp=~1\n",
      "fit_penid: propindoor_duration_2_Zone_rs ~ CLASS + Treatment + rescale(DIB) + , zi=~0, disp=~1\n",
      "fit_penid:     rescale(weight_interp) + rescale(nbr_h_per_day) + (1 | PenID/HenID), zi=~0, disp=~1\n",
      "            Df     AIC     BIC logLik deviance Chisq Chi Df Pr(>Chisq)\n",
      "fit_nopenid  9 -7965.2 -7908.4 3991.6  -7983.2                        \n",
      "fit_penid   10 -7963.2 -7900.1 3991.6  -7983.2     0      1          1\n"
     ]
    },
    {
     "name": "stderr",
     "output_type": "stream",
     "text": [
      "Warning message in Matrix::sparseMatrix(dims = c(0, 0), i = integer(0), j = integer(0), :\n",
      "\"'giveCsparse' has been deprecated; setting 'repr = \"T\"' for you\"\n",
      "Warning message in Matrix::sparseMatrix(dims = c(0, 0), i = integer(0), j = integer(0), :\n",
      "\"'giveCsparse' has been deprecated; setting 'repr = \"T\"' for you\"\n",
      "Warning message in Matrix::sparseMatrix(dims = c(0, 0), i = integer(0), j = integer(0), :\n",
      "\"'giveCsparse' has been deprecated; setting 'repr = \"T\"' for you\"\n",
      "Warning message in Matrix::sparseMatrix(dims = c(0, 0), i = integer(0), j = integer(0), :\n",
      "\"'giveCsparse' has been deprecated; setting 'repr = \"T\"' for you\"\n",
      "Warning message in Matrix::sparseMatrix(dims = c(0, 0), i = integer(0), j = integer(0), :\n",
      "\"'giveCsparse' has been deprecated; setting 'repr = \"T\"' for you\"\n",
      "Warning message in Matrix::sparseMatrix(dims = c(0, 0), i = integer(0), j = integer(0), :\n",
      "\"'giveCsparse' has been deprecated; setting 'repr = \"T\"' for you\"\n"
     ]
    },
    {
     "name": "stdout",
     "output_type": "stream",
     "text": [
      "NULL\n",
      "NULL\n",
      "[1] \"month3\"\n"
     ]
    },
    {
     "name": "stderr",
     "output_type": "stream",
     "text": [
      "Warning message in Matrix::sparseMatrix(dims = c(0, 0), i = integer(0), j = integer(0), :\n",
      "\"'giveCsparse' has been deprecated; setting 'repr = \"T\"' for you\"\n",
      "Warning message in Matrix::sparseMatrix(dims = c(0, 0), i = integer(0), j = integer(0), :\n",
      "\"'giveCsparse' has been deprecated; setting 'repr = \"T\"' for you\"\n",
      "Warning message in Matrix::sparseMatrix(dims = c(0, 0), i = integer(0), j = integer(0), :\n",
      "\"'giveCsparse' has been deprecated; setting 'repr = \"T\"' for you\"\n",
      "Warning message in Matrix::sparseMatrix(dims = c(0, 0), i = integer(0), j = integer(0), :\n",
      "\"'giveCsparse' has been deprecated; setting 'repr = \"T\"' for you\"\n",
      "Warning message in Matrix::sparseMatrix(dims = c(0, 0), i = integer(0), j = integer(0), :\n",
      "\"'giveCsparse' has been deprecated; setting 'repr = \"T\"' for you\"\n",
      "Warning message in Matrix::sparseMatrix(dims = c(0, 0), i = integer(0), j = integer(0), :\n",
      "\"'giveCsparse' has been deprecated; setting 'repr = \"T\"' for you\"\n"
     ]
    },
    {
     "name": "stdout",
     "output_type": "stream",
     "text": [
      "Data: df__\n",
      "Models:\n",
      "fit_nopenid: propindoor_duration_2_Zone_rs ~ CLASS + Treatment + rescale(DIB) + , zi=~0, disp=~1\n",
      "fit_nopenid:     rescale(weight_interp) + rescale(KBF_interp) + (1 | HenID), zi=~0, disp=~1\n",
      "fit_penid: propindoor_duration_2_Zone_rs ~ CLASS + Treatment + rescale(DIB) + , zi=~0, disp=~1\n",
      "fit_penid:     rescale(weight_interp) + rescale(KBF_interp) + (1 | PenID/HenID), zi=~0, disp=~1\n",
      "            Df    AIC    BIC logLik deviance Chisq Chi Df Pr(>Chisq)\n",
      "fit_nopenid  9 -12171 -12114 6094.7   -12189                        \n",
      "fit_penid   10 -12169 -12105 6094.7   -12189     0      1          1\n"
     ]
    },
    {
     "name": "stderr",
     "output_type": "stream",
     "text": [
      "Warning message in Matrix::sparseMatrix(dims = c(0, 0), i = integer(0), j = integer(0), :\n",
      "\"'giveCsparse' has been deprecated; setting 'repr = \"T\"' for you\"\n",
      "Warning message in Matrix::sparseMatrix(dims = c(0, 0), i = integer(0), j = integer(0), :\n",
      "\"'giveCsparse' has been deprecated; setting 'repr = \"T\"' for you\"\n",
      "Warning message in Matrix::sparseMatrix(dims = c(0, 0), i = integer(0), j = integer(0), :\n",
      "\"'giveCsparse' has been deprecated; setting 'repr = \"T\"' for you\"\n",
      "Warning message in Matrix::sparseMatrix(dims = c(0, 0), i = integer(0), j = integer(0), :\n",
      "\"'giveCsparse' has been deprecated; setting 'repr = \"T\"' for you\"\n",
      "Warning message in Matrix::sparseMatrix(dims = c(0, 0), i = integer(0), j = integer(0), :\n",
      "\"'giveCsparse' has been deprecated; setting 'repr = \"T\"' for you\"\n",
      "Warning message in Matrix::sparseMatrix(dims = c(0, 0), i = integer(0), j = integer(0), :\n",
      "\"'giveCsparse' has been deprecated; setting 'repr = \"T\"' for you\"\n"
     ]
    },
    {
     "name": "stdout",
     "output_type": "stream",
     "text": [
      "NULL\n",
      "NULL\n",
      "[1] \"month4\"\n"
     ]
    },
    {
     "name": "stderr",
     "output_type": "stream",
     "text": [
      "Warning message in Matrix::sparseMatrix(dims = c(0, 0), i = integer(0), j = integer(0), :\n",
      "\"'giveCsparse' has been deprecated; setting 'repr = \"T\"' for you\"\n",
      "Warning message in Matrix::sparseMatrix(dims = c(0, 0), i = integer(0), j = integer(0), :\n",
      "\"'giveCsparse' has been deprecated; setting 'repr = \"T\"' for you\"\n",
      "Warning message in Matrix::sparseMatrix(dims = c(0, 0), i = integer(0), j = integer(0), :\n",
      "\"'giveCsparse' has been deprecated; setting 'repr = \"T\"' for you\"\n",
      "Warning message in Matrix::sparseMatrix(dims = c(0, 0), i = integer(0), j = integer(0), :\n",
      "\"'giveCsparse' has been deprecated; setting 'repr = \"T\"' for you\"\n",
      "Warning message in Matrix::sparseMatrix(dims = c(0, 0), i = integer(0), j = integer(0), :\n",
      "\"'giveCsparse' has been deprecated; setting 'repr = \"T\"' for you\"\n",
      "Warning message in Matrix::sparseMatrix(dims = c(0, 0), i = integer(0), j = integer(0), :\n",
      "\"'giveCsparse' has been deprecated; setting 'repr = \"T\"' for you\"\n"
     ]
    },
    {
     "name": "stdout",
     "output_type": "stream",
     "text": [
      "Data: df__\n",
      "Models:\n",
      "fit_nopenid: propindoor_duration_2_Zone_rs ~ CLASS + Treatment + rescale(DIB) + , zi=~0, disp=~1\n",
      "fit_nopenid:     rescale(weight_interp) + rescale(KBF_interp) + (1 | HenID), zi=~0, disp=~1\n",
      "fit_penid: propindoor_duration_2_Zone_rs ~ CLASS + Treatment + rescale(DIB) + , zi=~0, disp=~1\n",
      "fit_penid:     rescale(weight_interp) + rescale(KBF_interp) + (1 | PenID/HenID), zi=~0, disp=~1\n",
      "            Df     AIC     BIC logLik deviance Chisq Chi Df Pr(>Chisq)\n",
      "fit_nopenid  9 -9618.4 -9562.5 4818.2  -9636.4                        \n",
      "fit_penid   10 -9616.4 -9554.3 4818.2  -9636.4     0      1          1\n"
     ]
    },
    {
     "name": "stderr",
     "output_type": "stream",
     "text": [
      "Warning message in Matrix::sparseMatrix(dims = c(0, 0), i = integer(0), j = integer(0), :\n",
      "\"'giveCsparse' has been deprecated; setting 'repr = \"T\"' for you\"\n",
      "Warning message in Matrix::sparseMatrix(dims = c(0, 0), i = integer(0), j = integer(0), :\n",
      "\"'giveCsparse' has been deprecated; setting 'repr = \"T\"' for you\"\n",
      "Warning message in Matrix::sparseMatrix(dims = c(0, 0), i = integer(0), j = integer(0), :\n",
      "\"'giveCsparse' has been deprecated; setting 'repr = \"T\"' for you\"\n",
      "Warning message in Matrix::sparseMatrix(dims = c(0, 0), i = integer(0), j = integer(0), :\n",
      "\"'giveCsparse' has been deprecated; setting 'repr = \"T\"' for you\"\n",
      "Warning message in Matrix::sparseMatrix(dims = c(0, 0), i = integer(0), j = integer(0), :\n",
      "\"'giveCsparse' has been deprecated; setting 'repr = \"T\"' for you\"\n",
      "Warning message in Matrix::sparseMatrix(dims = c(0, 0), i = integer(0), j = integer(0), :\n",
      "\"'giveCsparse' has been deprecated; setting 'repr = \"T\"' for you\"\n"
     ]
    },
    {
     "name": "stdout",
     "output_type": "stream",
     "text": [
      "NULL\n",
      "NULL\n",
      "[1] \"month5\"\n"
     ]
    },
    {
     "name": "stderr",
     "output_type": "stream",
     "text": [
      "Warning message in Matrix::sparseMatrix(dims = c(0, 0), i = integer(0), j = integer(0), :\n",
      "\"'giveCsparse' has been deprecated; setting 'repr = \"T\"' for you\"\n",
      "Warning message in Matrix::sparseMatrix(dims = c(0, 0), i = integer(0), j = integer(0), :\n",
      "\"'giveCsparse' has been deprecated; setting 'repr = \"T\"' for you\"\n",
      "Warning message in Matrix::sparseMatrix(dims = c(0, 0), i = integer(0), j = integer(0), :\n",
      "\"'giveCsparse' has been deprecated; setting 'repr = \"T\"' for you\"\n",
      "Warning message in Matrix::sparseMatrix(dims = c(0, 0), i = integer(0), j = integer(0), :\n",
      "\"'giveCsparse' has been deprecated; setting 'repr = \"T\"' for you\"\n",
      "Warning message in Matrix::sparseMatrix(dims = c(0, 0), i = integer(0), j = integer(0), :\n",
      "\"'giveCsparse' has been deprecated; setting 'repr = \"T\"' for you\"\n",
      "Warning message in Matrix::sparseMatrix(dims = c(0, 0), i = integer(0), j = integer(0), :\n",
      "\"'giveCsparse' has been deprecated; setting 'repr = \"T\"' for you\"\n"
     ]
    },
    {
     "name": "stdout",
     "output_type": "stream",
     "text": [
      "Data: df__\n",
      "Models:\n",
      "fit_nopenid: propindoor_duration_2_Zone_rs ~ CLASS + Treatment + rescale(DIB) + , zi=~0, disp=~1\n",
      "fit_nopenid:     rescale(weight_interp) + rescale(KBF_interp) + (1 | HenID), zi=~0, disp=~1\n",
      "fit_penid: propindoor_duration_2_Zone_rs ~ CLASS + Treatment + rescale(DIB) + , zi=~0, disp=~1\n",
      "fit_penid:     rescale(weight_interp) + rescale(KBF_interp) + (1 | PenID/HenID), zi=~0, disp=~1\n",
      "            Df    AIC    BIC logLik deviance Chisq Chi Df Pr(>Chisq)\n",
      "fit_nopenid  9 -10726 -10670 5371.9   -10744                        \n",
      "fit_penid   10 -10724 -10661 5371.9   -10744     0      1          1\n"
     ]
    },
    {
     "name": "stderr",
     "output_type": "stream",
     "text": [
      "Warning message in Matrix::sparseMatrix(dims = c(0, 0), i = integer(0), j = integer(0), :\n",
      "\"'giveCsparse' has been deprecated; setting 'repr = \"T\"' for you\"\n",
      "Warning message in Matrix::sparseMatrix(dims = c(0, 0), i = integer(0), j = integer(0), :\n",
      "\"'giveCsparse' has been deprecated; setting 'repr = \"T\"' for you\"\n",
      "Warning message in Matrix::sparseMatrix(dims = c(0, 0), i = integer(0), j = integer(0), :\n",
      "\"'giveCsparse' has been deprecated; setting 'repr = \"T\"' for you\"\n",
      "Warning message in Matrix::sparseMatrix(dims = c(0, 0), i = integer(0), j = integer(0), :\n",
      "\"'giveCsparse' has been deprecated; setting 'repr = \"T\"' for you\"\n",
      "Warning message in Matrix::sparseMatrix(dims = c(0, 0), i = integer(0), j = integer(0), :\n",
      "\"'giveCsparse' has been deprecated; setting 'repr = \"T\"' for you\"\n",
      "Warning message in Matrix::sparseMatrix(dims = c(0, 0), i = integer(0), j = integer(0), :\n",
      "\"'giveCsparse' has been deprecated; setting 'repr = \"T\"' for you\"\n"
     ]
    },
    {
     "name": "stdout",
     "output_type": "stream",
     "text": [
      "NULL\n",
      "NULL\n",
      "[1] \"month6\"\n"
     ]
    },
    {
     "name": "stderr",
     "output_type": "stream",
     "text": [
      "Warning message in Matrix::sparseMatrix(dims = c(0, 0), i = integer(0), j = integer(0), :\n",
      "\"'giveCsparse' has been deprecated; setting 'repr = \"T\"' for you\"\n",
      "Warning message in Matrix::sparseMatrix(dims = c(0, 0), i = integer(0), j = integer(0), :\n",
      "\"'giveCsparse' has been deprecated; setting 'repr = \"T\"' for you\"\n",
      "Warning message in Matrix::sparseMatrix(dims = c(0, 0), i = integer(0), j = integer(0), :\n",
      "\"'giveCsparse' has been deprecated; setting 'repr = \"T\"' for you\"\n",
      "Warning message in Matrix::sparseMatrix(dims = c(0, 0), i = integer(0), j = integer(0), :\n",
      "\"'giveCsparse' has been deprecated; setting 'repr = \"T\"' for you\"\n",
      "Warning message in Matrix::sparseMatrix(dims = c(0, 0), i = integer(0), j = integer(0), :\n",
      "\"'giveCsparse' has been deprecated; setting 'repr = \"T\"' for you\"\n",
      "Warning message in Matrix::sparseMatrix(dims = c(0, 0), i = integer(0), j = integer(0), :\n",
      "\"'giveCsparse' has been deprecated; setting 'repr = \"T\"' for you\"\n"
     ]
    },
    {
     "name": "stdout",
     "output_type": "stream",
     "text": [
      "Data: df__\n",
      "Models:\n",
      "fit_nopenid: propindoor_duration_2_Zone_rs ~ CLASS + Treatment + rescale(DIB) + , zi=~0, disp=~1\n",
      "fit_nopenid:     rescale(weight_interp) + rescale(KBF_interp) + (1 | HenID), zi=~0, disp=~1\n",
      "fit_penid: propindoor_duration_2_Zone_rs ~ CLASS + Treatment + rescale(DIB) + , zi=~0, disp=~1\n",
      "fit_penid:     rescale(weight_interp) + rescale(KBF_interp) + (1 | PenID/HenID), zi=~0, disp=~1\n",
      "            Df    AIC    BIC logLik deviance  Chisq Chi Df Pr(>Chisq)\n",
      "fit_nopenid  9 -11930 -11873 5974.0   -11948                         \n",
      "fit_penid   10 -11928 -11865 5974.1   -11948 0.0482      1     0.8262\n"
     ]
    },
    {
     "name": "stderr",
     "output_type": "stream",
     "text": [
      "Warning message in Matrix::sparseMatrix(dims = c(0, 0), i = integer(0), j = integer(0), :\n",
      "\"'giveCsparse' has been deprecated; setting 'repr = \"T\"' for you\"\n",
      "Warning message in Matrix::sparseMatrix(dims = c(0, 0), i = integer(0), j = integer(0), :\n",
      "\"'giveCsparse' has been deprecated; setting 'repr = \"T\"' for you\"\n",
      "Warning message in Matrix::sparseMatrix(dims = c(0, 0), i = integer(0), j = integer(0), :\n",
      "\"'giveCsparse' has been deprecated; setting 'repr = \"T\"' for you\"\n",
      "Warning message in Matrix::sparseMatrix(dims = c(0, 0), i = integer(0), j = integer(0), :\n",
      "\"'giveCsparse' has been deprecated; setting 'repr = \"T\"' for you\"\n",
      "Warning message in Matrix::sparseMatrix(dims = c(0, 0), i = integer(0), j = integer(0), :\n",
      "\"'giveCsparse' has been deprecated; setting 'repr = \"T\"' for you\"\n",
      "Warning message in Matrix::sparseMatrix(dims = c(0, 0), i = integer(0), j = integer(0), :\n",
      "\"'giveCsparse' has been deprecated; setting 'repr = \"T\"' for you\"\n"
     ]
    },
    {
     "name": "stdout",
     "output_type": "stream",
     "text": [
      "NULL\n",
      "NULL\n",
      "[1] \"month7\"\n"
     ]
    },
    {
     "name": "stderr",
     "output_type": "stream",
     "text": [
      "Warning message in Matrix::sparseMatrix(dims = c(0, 0), i = integer(0), j = integer(0), :\n",
      "\"'giveCsparse' has been deprecated; setting 'repr = \"T\"' for you\"\n",
      "Warning message in Matrix::sparseMatrix(dims = c(0, 0), i = integer(0), j = integer(0), :\n",
      "\"'giveCsparse' has been deprecated; setting 'repr = \"T\"' for you\"\n",
      "Warning message in Matrix::sparseMatrix(dims = c(0, 0), i = integer(0), j = integer(0), :\n",
      "\"'giveCsparse' has been deprecated; setting 'repr = \"T\"' for you\"\n",
      "Warning message in Matrix::sparseMatrix(dims = c(0, 0), i = integer(0), j = integer(0), :\n",
      "\"'giveCsparse' has been deprecated; setting 'repr = \"T\"' for you\"\n",
      "Warning message in Matrix::sparseMatrix(dims = c(0, 0), i = integer(0), j = integer(0), :\n",
      "\"'giveCsparse' has been deprecated; setting 'repr = \"T\"' for you\"\n",
      "Warning message in Matrix::sparseMatrix(dims = c(0, 0), i = integer(0), j = integer(0), :\n",
      "\"'giveCsparse' has been deprecated; setting 'repr = \"T\"' for you\"\n"
     ]
    },
    {
     "name": "stdout",
     "output_type": "stream",
     "text": [
      "Data: df__\n",
      "Models:\n",
      "fit_nopenid: propindoor_duration_2_Zone_rs ~ CLASS + Treatment + rescale(DIB) + , zi=~0, disp=~1\n",
      "fit_nopenid:     rescale(weight_interp) + rescale(KBF_interp) + (1 | HenID), zi=~0, disp=~1\n",
      "fit_penid: propindoor_duration_2_Zone_rs ~ CLASS + Treatment + rescale(DIB) + , zi=~0, disp=~1\n",
      "fit_penid:     rescale(weight_interp) + rescale(KBF_interp) + (1 | PenID/HenID), zi=~0, disp=~1\n",
      "            Df    AIC    BIC logLik deviance Chisq Chi Df Pr(>Chisq)\n",
      "fit_nopenid  9 -10676 -10619 5346.7   -10694                        \n",
      "fit_penid   10 -10674 -10610 5346.7   -10694     0      1          1\n"
     ]
    },
    {
     "name": "stderr",
     "output_type": "stream",
     "text": [
      "Warning message in Matrix::sparseMatrix(dims = c(0, 0), i = integer(0), j = integer(0), :\n",
      "\"'giveCsparse' has been deprecated; setting 'repr = \"T\"' for you\"\n",
      "Warning message in Matrix::sparseMatrix(dims = c(0, 0), i = integer(0), j = integer(0), :\n",
      "\"'giveCsparse' has been deprecated; setting 'repr = \"T\"' for you\"\n",
      "Warning message in Matrix::sparseMatrix(dims = c(0, 0), i = integer(0), j = integer(0), :\n",
      "\"'giveCsparse' has been deprecated; setting 'repr = \"T\"' for you\"\n",
      "Warning message in Matrix::sparseMatrix(dims = c(0, 0), i = integer(0), j = integer(0), :\n",
      "\"'giveCsparse' has been deprecated; setting 'repr = \"T\"' for you\"\n",
      "Warning message in Matrix::sparseMatrix(dims = c(0, 0), i = integer(0), j = integer(0), :\n",
      "\"'giveCsparse' has been deprecated; setting 'repr = \"T\"' for you\"\n",
      "Warning message in Matrix::sparseMatrix(dims = c(0, 0), i = integer(0), j = integer(0), :\n",
      "\"'giveCsparse' has been deprecated; setting 'repr = \"T\"' for you\"\n"
     ]
    },
    {
     "name": "stdout",
     "output_type": "stream",
     "text": [
      "NULL\n",
      "NULL\n",
      "[1] \"month8\"\n"
     ]
    },
    {
     "name": "stderr",
     "output_type": "stream",
     "text": [
      "Warning message in Matrix::sparseMatrix(dims = c(0, 0), i = integer(0), j = integer(0), :\n",
      "\"'giveCsparse' has been deprecated; setting 'repr = \"T\"' for you\"\n",
      "Warning message in Matrix::sparseMatrix(dims = c(0, 0), i = integer(0), j = integer(0), :\n",
      "\"'giveCsparse' has been deprecated; setting 'repr = \"T\"' for you\"\n",
      "Warning message in Matrix::sparseMatrix(dims = c(0, 0), i = integer(0), j = integer(0), :\n",
      "\"'giveCsparse' has been deprecated; setting 'repr = \"T\"' for you\"\n",
      "Warning message in Matrix::sparseMatrix(dims = c(0, 0), i = integer(0), j = integer(0), :\n",
      "\"'giveCsparse' has been deprecated; setting 'repr = \"T\"' for you\"\n",
      "Warning message in Matrix::sparseMatrix(dims = c(0, 0), i = integer(0), j = integer(0), :\n",
      "\"'giveCsparse' has been deprecated; setting 'repr = \"T\"' for you\"\n",
      "Warning message in Matrix::sparseMatrix(dims = c(0, 0), i = integer(0), j = integer(0), :\n",
      "\"'giveCsparse' has been deprecated; setting 'repr = \"T\"' for you\"\n"
     ]
    },
    {
     "name": "stdout",
     "output_type": "stream",
     "text": [
      "Data: df__\n",
      "Models:\n",
      "fit_nopenid: propindoor_duration_2_Zone_rs ~ CLASS + Treatment + rescale(DIB) + , zi=~0, disp=~1\n",
      "fit_nopenid:     rescale(weight_interp) + rescale(KBF_interp) + (1 | HenID), zi=~0, disp=~1\n",
      "fit_penid: propindoor_duration_2_Zone_rs ~ CLASS + Treatment + rescale(DIB) + , zi=~0, disp=~1\n",
      "fit_penid:     rescale(weight_interp) + rescale(KBF_interp) + (1 | PenID/HenID), zi=~0, disp=~1\n",
      "            Df    AIC    BIC logLik deviance  Chisq Chi Df Pr(>Chisq)\n",
      "fit_nopenid  9 -11791 -11733 5904.4   -11809                         \n",
      "fit_penid   10 -11789 -11725 5904.4   -11809 0.0074      1     0.9316\n"
     ]
    },
    {
     "name": "stderr",
     "output_type": "stream",
     "text": [
      "Warning message in Matrix::sparseMatrix(dims = c(0, 0), i = integer(0), j = integer(0), :\n",
      "\"'giveCsparse' has been deprecated; setting 'repr = \"T\"' for you\"\n",
      "Warning message in Matrix::sparseMatrix(dims = c(0, 0), i = integer(0), j = integer(0), :\n",
      "\"'giveCsparse' has been deprecated; setting 'repr = \"T\"' for you\"\n",
      "Warning message in Matrix::sparseMatrix(dims = c(0, 0), i = integer(0), j = integer(0), :\n",
      "\"'giveCsparse' has been deprecated; setting 'repr = \"T\"' for you\"\n",
      "Warning message in Matrix::sparseMatrix(dims = c(0, 0), i = integer(0), j = integer(0), :\n",
      "\"'giveCsparse' has been deprecated; setting 'repr = \"T\"' for you\"\n",
      "Warning message in Matrix::sparseMatrix(dims = c(0, 0), i = integer(0), j = integer(0), :\n",
      "\"'giveCsparse' has been deprecated; setting 'repr = \"T\"' for you\"\n",
      "Warning message in Matrix::sparseMatrix(dims = c(0, 0), i = integer(0), j = integer(0), :\n",
      "\"'giveCsparse' has been deprecated; setting 'repr = \"T\"' for you\"\n"
     ]
    },
    {
     "name": "stdout",
     "output_type": "stream",
     "text": [
      "NULL\n",
      "NULL\n",
      "[1] \"month9\"\n"
     ]
    },
    {
     "name": "stderr",
     "output_type": "stream",
     "text": [
      "Warning message in Matrix::sparseMatrix(dims = c(0, 0), i = integer(0), j = integer(0), :\n",
      "\"'giveCsparse' has been deprecated; setting 'repr = \"T\"' for you\"\n",
      "Warning message in Matrix::sparseMatrix(dims = c(0, 0), i = integer(0), j = integer(0), :\n",
      "\"'giveCsparse' has been deprecated; setting 'repr = \"T\"' for you\"\n",
      "Warning message in Matrix::sparseMatrix(dims = c(0, 0), i = integer(0), j = integer(0), :\n",
      "\"'giveCsparse' has been deprecated; setting 'repr = \"T\"' for you\"\n",
      "Warning message in Matrix::sparseMatrix(dims = c(0, 0), i = integer(0), j = integer(0), :\n",
      "\"'giveCsparse' has been deprecated; setting 'repr = \"T\"' for you\"\n",
      "Warning message in Matrix::sparseMatrix(dims = c(0, 0), i = integer(0), j = integer(0), :\n",
      "\"'giveCsparse' has been deprecated; setting 'repr = \"T\"' for you\"\n",
      "Warning message in Matrix::sparseMatrix(dims = c(0, 0), i = integer(0), j = integer(0), :\n",
      "\"'giveCsparse' has been deprecated; setting 'repr = \"T\"' for you\"\n"
     ]
    },
    {
     "name": "stdout",
     "output_type": "stream",
     "text": [
      "Data: df__\n",
      "Models:\n",
      "fit_nopenid: propindoor_duration_2_Zone_rs ~ CLASS + Treatment + rescale(DIB) + , zi=~0, disp=~1\n",
      "fit_nopenid:     rescale(weight_interp) + rescale(KBF_interp) + (1 | HenID), zi=~0, disp=~1\n",
      "fit_penid: propindoor_duration_2_Zone_rs ~ CLASS + Treatment + rescale(DIB) + , zi=~0, disp=~1\n",
      "fit_penid:     rescale(weight_interp) + rescale(KBF_interp) + (1 | PenID/HenID), zi=~0, disp=~1\n",
      "            Df     AIC     BIC logLik deviance Chisq Chi Df Pr(>Chisq)\n",
      "fit_nopenid  9 -5227.3 -5177.6 2622.7  -5245.3                        \n",
      "fit_penid   10 -5225.3 -5170.0 2622.7  -5245.3     0      1          1\n"
     ]
    },
    {
     "name": "stderr",
     "output_type": "stream",
     "text": [
      "Warning message in Matrix::sparseMatrix(dims = c(0, 0), i = integer(0), j = integer(0), :\n",
      "\"'giveCsparse' has been deprecated; setting 'repr = \"T\"' for you\"\n",
      "Warning message in Matrix::sparseMatrix(dims = c(0, 0), i = integer(0), j = integer(0), :\n",
      "\"'giveCsparse' has been deprecated; setting 'repr = \"T\"' for you\"\n",
      "Warning message in Matrix::sparseMatrix(dims = c(0, 0), i = integer(0), j = integer(0), :\n",
      "\"'giveCsparse' has been deprecated; setting 'repr = \"T\"' for you\"\n",
      "Warning message in Matrix::sparseMatrix(dims = c(0, 0), i = integer(0), j = integer(0), :\n",
      "\"'giveCsparse' has been deprecated; setting 'repr = \"T\"' for you\"\n",
      "Warning message in Matrix::sparseMatrix(dims = c(0, 0), i = integer(0), j = integer(0), :\n",
      "\"'giveCsparse' has been deprecated; setting 'repr = \"T\"' for you\"\n",
      "Warning message in Matrix::sparseMatrix(dims = c(0, 0), i = integer(0), j = integer(0), :\n",
      "\"'giveCsparse' has been deprecated; setting 'repr = \"T\"' for you\"\n"
     ]
    },
    {
     "name": "stdout",
     "output_type": "stream",
     "text": [
      "NULL\n",
      "NULL\n",
      "[1] \"month10\"\n"
     ]
    },
    {
     "name": "stderr",
     "output_type": "stream",
     "text": [
      "Warning message in Matrix::sparseMatrix(dims = c(0, 0), i = integer(0), j = integer(0), :\n",
      "\"'giveCsparse' has been deprecated; setting 'repr = \"T\"' for you\"\n",
      "Warning message in Matrix::sparseMatrix(dims = c(0, 0), i = integer(0), j = integer(0), :\n",
      "\"'giveCsparse' has been deprecated; setting 'repr = \"T\"' for you\"\n",
      "Warning message in Matrix::sparseMatrix(dims = c(0, 0), i = integer(0), j = integer(0), :\n",
      "\"'giveCsparse' has been deprecated; setting 'repr = \"T\"' for you\"\n",
      "Warning message in Matrix::sparseMatrix(dims = c(0, 0), i = integer(0), j = integer(0), :\n",
      "\"'giveCsparse' has been deprecated; setting 'repr = \"T\"' for you\"\n",
      "Warning message in Matrix::sparseMatrix(dims = c(0, 0), i = integer(0), j = integer(0), :\n",
      "\"'giveCsparse' has been deprecated; setting 'repr = \"T\"' for you\"\n",
      "Warning message in Matrix::sparseMatrix(dims = c(0, 0), i = integer(0), j = integer(0), :\n",
      "\"'giveCsparse' has been deprecated; setting 'repr = \"T\"' for you\"\n"
     ]
    },
    {
     "name": "stdout",
     "output_type": "stream",
     "text": [
      "Data: df__\n",
      "Models:\n",
      "fit_nopenid: propindoor_duration_2_Zone_rs ~ CLASS + Treatment + rescale(DIB) + , zi=~0, disp=~1\n",
      "fit_nopenid:     rescale(weight_interp) + rescale(KBF_interp) + (1 | HenID), zi=~0, disp=~1\n",
      "fit_penid: propindoor_duration_2_Zone_rs ~ CLASS + Treatment + rescale(DIB) + , zi=~0, disp=~1\n",
      "fit_penid:     rescale(weight_interp) + rescale(KBF_interp) + (1 | PenID/HenID), zi=~0, disp=~1\n",
      "            Df     AIC     BIC logLik deviance Chisq Chi Df Pr(>Chisq)\n",
      "fit_nopenid  9 -7811.6 -7757.1 3914.8  -7829.6                        \n",
      "fit_penid   10 -7809.6 -7749.0 3914.8  -7829.6     0      1          1\n"
     ]
    },
    {
     "name": "stderr",
     "output_type": "stream",
     "text": [
      "Warning message in Matrix::sparseMatrix(dims = c(0, 0), i = integer(0), j = integer(0), :\n",
      "\"'giveCsparse' has been deprecated; setting 'repr = \"T\"' for you\"\n",
      "Warning message in Matrix::sparseMatrix(dims = c(0, 0), i = integer(0), j = integer(0), :\n",
      "\"'giveCsparse' has been deprecated; setting 'repr = \"T\"' for you\"\n",
      "Warning message in Matrix::sparseMatrix(dims = c(0, 0), i = integer(0), j = integer(0), :\n",
      "\"'giveCsparse' has been deprecated; setting 'repr = \"T\"' for you\"\n",
      "Warning message in Matrix::sparseMatrix(dims = c(0, 0), i = integer(0), j = integer(0), :\n",
      "\"'giveCsparse' has been deprecated; setting 'repr = \"T\"' for you\"\n",
      "Warning message in Matrix::sparseMatrix(dims = c(0, 0), i = integer(0), j = integer(0), :\n",
      "\"'giveCsparse' has been deprecated; setting 'repr = \"T\"' for you\"\n",
      "Warning message in Matrix::sparseMatrix(dims = c(0, 0), i = integer(0), j = integer(0), :\n",
      "\"'giveCsparse' has been deprecated; setting 'repr = \"T\"' for you\"\n"
     ]
    },
    {
     "name": "stdout",
     "output_type": "stream",
     "text": [
      "NULL\n",
      "NULL\n"
     ]
    },
    {
     "name": "stderr",
     "output_type": "stream",
     "text": [
      "Warning message:\n",
      "\"Following potential variables could not be found in the data: DIB ,weight_interp\n",
      "  ,nbr_h_per_day\"\n",
      "Warning message:\n",
      "\"Following potential variables could not be found in the data: DIB ,weight_interp\n",
      "  ,nbr_h_per_day\"\n",
      "Warning message:\n",
      "\"Following potential variables could not be found in the data: DIB ,weight_interp\n",
      "  ,KBF_interp\"\n",
      "Warning message:\n",
      "\"Following potential variables could not be found in the data: DIB ,weight_interp\n",
      "  ,KBF_interp\"\n",
      "Warning message:\n",
      "\"Following potential variables could not be found in the data: DIB ,weight_interp\n",
      "  ,KBF_interp\"\n",
      "Warning message:\n",
      "\"Following potential variables could not be found in the data: DIB ,weight_interp\n",
      "  ,nbr_h_per_day\"\n",
      "Warning message:\n",
      "\"Following potential variables could not be found in the data: DIB ,weight_interp\n",
      "  ,nbr_h_per_day\"\n",
      "Warning message:\n",
      "\"Following potential variables could not be found in the data: DIB ,weight_interp\n",
      "  ,KBF_interp\"\n",
      "Warning message:\n",
      "\"Following potential variables could not be found in the data: DIB ,weight_interp\n",
      "  ,KBF_interp\"\n",
      "Warning message:\n",
      "\"Following potential variables could not be found in the data: DIB ,weight_interp\n",
      "  ,KBF_interp\"\n",
      "Warning message:\n",
      "\"Following potential variables could not be found in the data: DIB ,weight_interp\n",
      "  ,nbr_h_per_day\"\n",
      "Warning message:\n",
      "\"Following potential variables could not be found in the data: DIB ,weight_interp\n",
      "  ,nbr_h_per_day\"\n",
      "Warning message:\n",
      "\"Following potential variables could not be found in the data: DIB ,weight_interp\n",
      "  ,KBF_interp\"\n",
      "Warning message:\n",
      "\"Following potential variables could not be found in the data: DIB ,weight_interp\n",
      "  ,KBF_interp\"\n",
      "Warning message:\n",
      "\"Following potential variables could not be found in the data: DIB ,weight_interp\n",
      "  ,KBF_interp\"\n",
      "Warning message:\n",
      "\"Following potential variables could not be found in the data: DIB ,weight_interp\n",
      "  ,KBF_interp\"\n",
      "Warning message:\n",
      "\"Following potential variables could not be found in the data: DIB ,weight_interp\n",
      "  ,KBF_interp\"\n",
      "Warning message:\n",
      "\"Following potential variables could not be found in the data: DIB ,weight_interp\n",
      "  ,KBF_interp\"\n",
      "Warning message:\n",
      "\"Following potential variables could not be found in the data: DIB ,weight_interp\n",
      "  ,KBF_interp\"\n",
      "Warning message:\n",
      "\"Following potential variables could not be found in the data: DIB ,weight_interp\n",
      "  ,KBF_interp\"\n",
      "Warning message:\n",
      "\"Following potential variables could not be found in the data: DIB ,weight_interp\n",
      "  ,KBF_interp\"\n",
      "Warning message:\n",
      "\"Following potential variables could not be found in the data: DIB ,weight_interp\n",
      "  ,KBF_interp\"\n",
      "Warning message:\n",
      "\"Following potential variables could not be found in the data: DIB ,weight_interp\n",
      "  ,KBF_interp\"\n",
      "Warning message:\n",
      "\"Following potential variables could not be found in the data: DIB ,weight_interp\n",
      "  ,KBF_interp\"\n",
      "Warning message:\n",
      "\"Following potential variables could not be found in the data: DIB ,weight_interp\n",
      "  ,KBF_interp\"\n",
      "Warning message:\n",
      "\"Following potential variables could not be found in the data: DIB ,weight_interp\n",
      "  ,KBF_interp\"\n",
      "Warning message:\n",
      "\"Following potential variables could not be found in the data: DIB ,weight_interp\n",
      "  ,KBF_interp\"\n",
      "Warning message in confint.glmmTMB(x, method = tolower(conf.method), level = conf.level, :\n",
      "\"extra arguments ignored:  intervals, prob\"\n",
      "Warning message in confint.glmmTMB(x, parm = thpar, method = conf.method, level = conf.level, :\n",
      "\"extra arguments ignored:  intervals, prob\"\n",
      "Warning message in confint.glmmTMB(x, method = tolower(conf.method), level = conf.level, :\n",
      "\"extra arguments ignored:  intervals, prob\"\n",
      "Warning message in confint.glmmTMB(x, parm = thpar, method = conf.method, level = conf.level, :\n",
      "\"extra arguments ignored:  intervals, prob\"\n",
      "Warning message in confint.glmmTMB(x, method = tolower(conf.method), level = conf.level, :\n",
      "\"extra arguments ignored:  intervals, prob\"\n",
      "Warning message in confint.glmmTMB(x, parm = thpar, method = conf.method, level = conf.level, :\n",
      "\"extra arguments ignored:  intervals, prob\"\n",
      "Warning message in confint.glmmTMB(x, method = tolower(conf.method), level = conf.level, :\n",
      "\"extra arguments ignored:  intervals, prob\"\n",
      "Warning message in confint.glmmTMB(x, parm = thpar, method = conf.method, level = conf.level, :\n",
      "\"extra arguments ignored:  intervals, prob\"\n",
      "Warning message in confint.glmmTMB(x, method = tolower(conf.method), level = conf.level, :\n",
      "\"extra arguments ignored:  intervals, prob\"\n",
      "Warning message in confint.glmmTMB(x, parm = thpar, method = conf.method, level = conf.level, :\n",
      "\"extra arguments ignored:  intervals, prob\"\n",
      "Warning message in confint.glmmTMB(x, method = tolower(conf.method), level = conf.level, :\n",
      "\"extra arguments ignored:  intervals, prob\"\n",
      "Warning message in confint.glmmTMB(x, parm = thpar, method = conf.method, level = conf.level, :\n",
      "\"extra arguments ignored:  intervals, prob\"\n",
      "Warning message in confint.glmmTMB(x, method = tolower(conf.method), level = conf.level, :\n",
      "\"extra arguments ignored:  intervals, prob\"\n",
      "Warning message in confint.glmmTMB(x, parm = thpar, method = conf.method, level = conf.level, :\n",
      "\"extra arguments ignored:  intervals, prob\"\n",
      "Warning message in confint.glmmTMB(x, method = tolower(conf.method), level = conf.level, :\n",
      "\"extra arguments ignored:  intervals, prob\"\n",
      "Warning message in confint.glmmTMB(x, parm = thpar, method = conf.method, level = conf.level, :\n",
      "\"extra arguments ignored:  intervals, prob\"\n",
      "Warning message in confint.glmmTMB(x, method = tolower(conf.method), level = conf.level, :\n",
      "\"extra arguments ignored:  intervals, prob\"\n",
      "Warning message in confint.glmmTMB(x, parm = thpar, method = conf.method, level = conf.level, :\n",
      "\"extra arguments ignored:  intervals, prob\"\n",
      "Warning message in confint.glmmTMB(x, method = tolower(conf.method), level = conf.level, :\n",
      "\"extra arguments ignored:  intervals, prob\"\n",
      "Warning message in confint.glmmTMB(x, parm = thpar, method = conf.method, level = conf.level, :\n",
      "\"extra arguments ignored:  intervals, prob\"\n"
     ]
    },
    {
     "data": {
      "text/html": [
       "<strong>png:</strong> 2"
      ],
      "text/latex": [
       "\\textbf{png:} 2"
      ],
      "text/markdown": [
       "**png:** 2"
      ],
      "text/plain": [
       "png \n",
       "  2 "
      ]
     },
     "metadata": {},
     "output_type": "display_data"
    }
   ],
   "source": [
    "var = 'propindoor_duration_2_Zone_rs'\n",
    "path_visual_ = file.path(path_visual, var)\n",
    "dir.create(path_visual_)\n",
    "dim(df)\n",
    "df_ = df\n",
    "dim(df_)\n",
    "\n",
    "li_model = list()\n",
    "for (i in 1:10){\n",
    "    monthILBID = paste0('month',i)\n",
    "    print(monthILBID)\n",
    "    df__ = df_[df_$monthILB==monthILBID,]\n",
    "    #drop factors not existing in this subdataframe\n",
    "    df__$HenID = factor(df__$HenID) \n",
    "    df__$PenID = factor(df__$PenID)\n",
    "    df__$CLASS = factor(df__$CLASS) \n",
    "    #monthILB1-monthILB2: no KBF but nbr_h_per_day_sc, after KBF but no nbr_h_per_day_sc\n",
    "    if (monthILBID %in% c('month1')){\n",
    "        fit_nopenid = glmmTMB(went_litter ~  CLASS+ Treatment + rescale(DIB) + rescale(weight_interp)+ rescale(nbr_h_per_day) + (1|HenID), \n",
    "                   data=df__, family=binomial)\n",
    "        fit_penid = glmmTMB(went_litter ~  CLASS+ Treatment + rescale(DIB) + rescale(weight_interp)+ rescale(nbr_h_per_day) + (1|PenID/HenID), \n",
    "                   data=df__, family=binomial)}\n",
    "    else if (monthILBID %in% c('month2')){\n",
    "        fit_nopenid = glmmTMB(propindoor_duration_2_Zone_rs ~  CLASS+ Treatment + rescale(DIB) + rescale(weight_interp)+ rescale(nbr_h_per_day) + (1|HenID), \n",
    "                   data=df__, family=beta_family(link=\"logit\"))\n",
    "        fit_penid = glmmTMB(propindoor_duration_2_Zone_rs ~  CLASS+ Treatment + rescale(DIB) + rescale(weight_interp)+ rescale(nbr_h_per_day) + (1|PenID/HenID), \n",
    "                   data=df__, family=beta_family(link=\"logit\"))}\n",
    "    else{\n",
    "        fit_nopenid = glmmTMB(propindoor_duration_2_Zone_rs ~  CLASS + Treatment + rescale(DIB) + rescale(weight_interp)+ rescale(KBF_interp) + (1|HenID), \n",
    "                   data=df__, family=beta_family(link=\"logit\"))\n",
    "        fit_penid = glmmTMB(propindoor_duration_2_Zone_rs ~  CLASS + Treatment + rescale(DIB) + rescale(weight_interp)+ rescale(KBF_interp) + (1|PenID/HenID), \n",
    "                   data=df__, family=beta_family(link=\"logit\"))}\n",
    "    print(anova(fit_nopenid,fit_penid))\n",
    "    p_value = anova(fit_nopenid,fit_penid)['Pr(>Chisq)']['fit_penid',]\n",
    "    if (p_value<0.05){\n",
    "        fit = fit_penid    \n",
    "    }else{\n",
    "        fit = fit_nopenid    \n",
    "    }    \n",
    "    \n",
    "    li_model[[i]] = fit\n",
    "    write.csv(summary(fit)[['coefficients']]$cond, file=file.path(path_visual_, paste0(var,monthILBID,'.csv')) )\n",
    "    \n",
    "    set.seed(0)\n",
    "    simulationOutput = simulateResiduals(fittedModel=fit)\n",
    "    tiff(file.path(path_visual_, paste0(var,'_SimRes1',monthILBID,'.tiff')), width=400, height=400)\n",
    "    print(plot(simulationOutput))\n",
    "    dev.off()\n",
    "    \n",
    "    tiff(file.path(path_visual_, paste0(var,'_SimRes2',monthILBID,'.tiff')), width=400, height=400)\n",
    "    print(plotResiduals(simulationOutput, form = df__$Treatment))\n",
    "    dev.off()}\n",
    "\n",
    "tab_model(li_model[1:5], collapse.ci = TRUE, p.style = \"numeric_stars\", file=file.path(path_visual_, paste0(var,'_TableModel1-5.doc')))\n",
    "tab_model(li_model[6:10], collapse.ci = TRUE, p.style = \"numeric_stars\", file=file.path(path_visual_, paste0(var,'_TableModel6-10.doc')))\n",
    "\n",
    "tiff(file.path(path_visual_, paste0(var,'_OFHCoeff','.tiff')), width=400, height=400)\n",
    "plot_summs(li_model, coefs=c('TreatmentOFH'), colors='Rainbow', legend.title=var, exp=TRUE)\n",
    "dev.off()"
   ]
  },
  {
   "cell_type": "markdown",
   "id": "46a41ab7",
   "metadata": {},
   "source": [
    "# propindoor_duration_5_Zone_rs"
   ]
  },
  {
   "cell_type": "code",
   "execution_count": 56,
   "id": "a95afd85",
   "metadata": {},
   "outputs": [
    {
     "data": {
      "text/html": [
       "<style>\n",
       ".list-inline {list-style: none; margin:0; padding: 0}\n",
       ".list-inline>li {display: inline-block}\n",
       ".list-inline>li:not(:last-child)::after {content: \"\\00b7\"; padding: 0 .5ex}\n",
       "</style>\n",
       "<ol class=list-inline><li>37455</li><li>26</li></ol>\n"
      ],
      "text/latex": [
       "\\begin{enumerate*}\n",
       "\\item 37455\n",
       "\\item 26\n",
       "\\end{enumerate*}\n"
      ],
      "text/markdown": [
       "1. 37455\n",
       "2. 26\n",
       "\n",
       "\n"
      ],
      "text/plain": [
       "[1] 37455    26"
      ]
     },
     "metadata": {},
     "output_type": "display_data"
    },
    {
     "data": {
      "text/html": [
       "<style>\n",
       ".list-inline {list-style: none; margin:0; padding: 0}\n",
       ".list-inline>li {display: inline-block}\n",
       ".list-inline>li:not(:last-child)::after {content: \"\\00b7\"; padding: 0 .5ex}\n",
       "</style>\n",
       "<ol class=list-inline><li>37455</li><li>26</li></ol>\n"
      ],
      "text/latex": [
       "\\begin{enumerate*}\n",
       "\\item 37455\n",
       "\\item 26\n",
       "\\end{enumerate*}\n"
      ],
      "text/markdown": [
       "1. 37455\n",
       "2. 26\n",
       "\n",
       "\n"
      ],
      "text/plain": [
       "[1] 37455    26"
      ]
     },
     "metadata": {},
     "output_type": "display_data"
    },
    {
     "name": "stdout",
     "output_type": "stream",
     "text": [
      "[1] \"month1\"\n"
     ]
    },
    {
     "name": "stderr",
     "output_type": "stream",
     "text": [
      "Warning message in Matrix::sparseMatrix(dims = c(0, 0), i = integer(0), j = integer(0), :\n",
      "\"'giveCsparse' has been deprecated; setting 'repr = \"T\"' for you\"\n",
      "Warning message in Matrix::sparseMatrix(dims = c(0, 0), i = integer(0), j = integer(0), :\n",
      "\"'giveCsparse' has been deprecated; setting 'repr = \"T\"' for you\"\n",
      "Warning message in Matrix::sparseMatrix(dims = c(0, 0), i = integer(0), j = integer(0), :\n",
      "\"'giveCsparse' has been deprecated; setting 'repr = \"T\"' for you\"\n",
      "Warning message in Matrix::sparseMatrix(dims = c(0, 0), i = integer(0), j = integer(0), :\n",
      "\"'giveCsparse' has been deprecated; setting 'repr = \"T\"' for you\"\n",
      "Warning message in Matrix::sparseMatrix(dims = c(0, 0), i = integer(0), j = integer(0), :\n",
      "\"'giveCsparse' has been deprecated; setting 'repr = \"T\"' for you\"\n",
      "Warning message in Matrix::sparseMatrix(dims = c(0, 0), i = integer(0), j = integer(0), :\n",
      "\"'giveCsparse' has been deprecated; setting 'repr = \"T\"' for you\"\n"
     ]
    },
    {
     "name": "stdout",
     "output_type": "stream",
     "text": [
      "Data: df__\n",
      "Models:\n",
      "fit_nopenid: propindoor_duration_5_Zone_rs ~ CLASS + Treatment + rescale(DIB) + , zi=~0, disp=~1\n",
      "fit_nopenid:     rescale(weight_interp) + rescale(nbr_h_per_day) + (1 | HenID), zi=~0, disp=~1\n",
      "fit_penid: propindoor_duration_5_Zone_rs ~ CLASS + Treatment + rescale(DIB) + , zi=~0, disp=~1\n",
      "fit_penid:     rescale(weight_interp) + rescale(nbr_h_per_day) + (1 | PenID/HenID), zi=~0, disp=~1\n",
      "            Df     AIC     BIC logLik deviance Chisq Chi Df Pr(>Chisq)\n",
      "fit_nopenid  9 -2165.2 -2109.7 1091.6  -2183.2                        \n",
      "fit_penid   10 -2163.2 -2101.5 1091.6  -2183.2     0      1          1\n"
     ]
    },
    {
     "name": "stderr",
     "output_type": "stream",
     "text": [
      "Warning message in Matrix::sparseMatrix(dims = c(0, 0), i = integer(0), j = integer(0), :\n",
      "\"'giveCsparse' has been deprecated; setting 'repr = \"T\"' for you\"\n",
      "Warning message in Matrix::sparseMatrix(dims = c(0, 0), i = integer(0), j = integer(0), :\n",
      "\"'giveCsparse' has been deprecated; setting 'repr = \"T\"' for you\"\n",
      "Warning message in Matrix::sparseMatrix(dims = c(0, 0), i = integer(0), j = integer(0), :\n",
      "\"'giveCsparse' has been deprecated; setting 'repr = \"T\"' for you\"\n",
      "Warning message in Matrix::sparseMatrix(dims = c(0, 0), i = integer(0), j = integer(0), :\n",
      "\"'giveCsparse' has been deprecated; setting 'repr = \"T\"' for you\"\n",
      "Warning message in Matrix::sparseMatrix(dims = c(0, 0), i = integer(0), j = integer(0), :\n",
      "\"'giveCsparse' has been deprecated; setting 'repr = \"T\"' for you\"\n",
      "Warning message in Matrix::sparseMatrix(dims = c(0, 0), i = integer(0), j = integer(0), :\n",
      "\"'giveCsparse' has been deprecated; setting 'repr = \"T\"' for you\"\n"
     ]
    },
    {
     "name": "stdout",
     "output_type": "stream",
     "text": [
      "NULL\n",
      "NULL\n",
      "[1] \"month2\"\n"
     ]
    },
    {
     "name": "stderr",
     "output_type": "stream",
     "text": [
      "Warning message in Matrix::sparseMatrix(dims = c(0, 0), i = integer(0), j = integer(0), :\n",
      "\"'giveCsparse' has been deprecated; setting 'repr = \"T\"' for you\"\n",
      "Warning message in Matrix::sparseMatrix(dims = c(0, 0), i = integer(0), j = integer(0), :\n",
      "\"'giveCsparse' has been deprecated; setting 'repr = \"T\"' for you\"\n",
      "Warning message in Matrix::sparseMatrix(dims = c(0, 0), i = integer(0), j = integer(0), :\n",
      "\"'giveCsparse' has been deprecated; setting 'repr = \"T\"' for you\"\n",
      "Warning message in Matrix::sparseMatrix(dims = c(0, 0), i = integer(0), j = integer(0), :\n",
      "\"'giveCsparse' has been deprecated; setting 'repr = \"T\"' for you\"\n",
      "Warning message in Matrix::sparseMatrix(dims = c(0, 0), i = integer(0), j = integer(0), :\n",
      "\"'giveCsparse' has been deprecated; setting 'repr = \"T\"' for you\"\n",
      "Warning message in Matrix::sparseMatrix(dims = c(0, 0), i = integer(0), j = integer(0), :\n",
      "\"'giveCsparse' has been deprecated; setting 'repr = \"T\"' for you\"\n"
     ]
    },
    {
     "name": "stdout",
     "output_type": "stream",
     "text": [
      "Data: df__\n",
      "Models:\n",
      "fit_nopenid: propindoor_duration_5_Zone_rs ~ CLASS + Treatment + rescale(DIB) + , zi=~0, disp=~1\n",
      "fit_nopenid:     rescale(weight_interp) + rescale(nbr_h_per_day) + (1 | HenID), zi=~0, disp=~1\n",
      "fit_penid: propindoor_duration_5_Zone_rs ~ CLASS + Treatment + rescale(DIB) + , zi=~0, disp=~1\n",
      "fit_penid:     rescale(weight_interp) + rescale(nbr_h_per_day) + (1 | PenID/HenID), zi=~0, disp=~1\n",
      "            Df     AIC     BIC logLik deviance Chisq Chi Df Pr(>Chisq)\n",
      "fit_nopenid  9 -5771.3 -5714.5 2894.7  -5789.3                        \n",
      "fit_penid   10 -5769.3 -5706.2 2894.7  -5789.3     0      1          1\n"
     ]
    },
    {
     "name": "stderr",
     "output_type": "stream",
     "text": [
      "Warning message in Matrix::sparseMatrix(dims = c(0, 0), i = integer(0), j = integer(0), :\n",
      "\"'giveCsparse' has been deprecated; setting 'repr = \"T\"' for you\"\n",
      "Warning message in Matrix::sparseMatrix(dims = c(0, 0), i = integer(0), j = integer(0), :\n",
      "\"'giveCsparse' has been deprecated; setting 'repr = \"T\"' for you\"\n",
      "Warning message in Matrix::sparseMatrix(dims = c(0, 0), i = integer(0), j = integer(0), :\n",
      "\"'giveCsparse' has been deprecated; setting 'repr = \"T\"' for you\"\n",
      "Warning message in Matrix::sparseMatrix(dims = c(0, 0), i = integer(0), j = integer(0), :\n",
      "\"'giveCsparse' has been deprecated; setting 'repr = \"T\"' for you\"\n",
      "Warning message in Matrix::sparseMatrix(dims = c(0, 0), i = integer(0), j = integer(0), :\n",
      "\"'giveCsparse' has been deprecated; setting 'repr = \"T\"' for you\"\n",
      "Warning message in Matrix::sparseMatrix(dims = c(0, 0), i = integer(0), j = integer(0), :\n",
      "\"'giveCsparse' has been deprecated; setting 'repr = \"T\"' for you\"\n"
     ]
    },
    {
     "name": "stdout",
     "output_type": "stream",
     "text": [
      "NULL\n",
      "NULL\n",
      "[1] \"month3\"\n"
     ]
    },
    {
     "name": "stderr",
     "output_type": "stream",
     "text": [
      "Warning message in Matrix::sparseMatrix(dims = c(0, 0), i = integer(0), j = integer(0), :\n",
      "\"'giveCsparse' has been deprecated; setting 'repr = \"T\"' for you\"\n",
      "Warning message in Matrix::sparseMatrix(dims = c(0, 0), i = integer(0), j = integer(0), :\n",
      "\"'giveCsparse' has been deprecated; setting 'repr = \"T\"' for you\"\n",
      "Warning message in Matrix::sparseMatrix(dims = c(0, 0), i = integer(0), j = integer(0), :\n",
      "\"'giveCsparse' has been deprecated; setting 'repr = \"T\"' for you\"\n",
      "Warning message in Matrix::sparseMatrix(dims = c(0, 0), i = integer(0), j = integer(0), :\n",
      "\"'giveCsparse' has been deprecated; setting 'repr = \"T\"' for you\"\n",
      "Warning message in Matrix::sparseMatrix(dims = c(0, 0), i = integer(0), j = integer(0), :\n",
      "\"'giveCsparse' has been deprecated; setting 'repr = \"T\"' for you\"\n",
      "Warning message in Matrix::sparseMatrix(dims = c(0, 0), i = integer(0), j = integer(0), :\n",
      "\"'giveCsparse' has been deprecated; setting 'repr = \"T\"' for you\"\n"
     ]
    },
    {
     "name": "stdout",
     "output_type": "stream",
     "text": [
      "Data: df__\n",
      "Models:\n",
      "fit_nopenid: propindoor_duration_5_Zone_rs ~ CLASS + Treatment + rescale(DIB) + , zi=~0, disp=~1\n",
      "fit_nopenid:     rescale(weight_interp) + rescale(KBF_interp) + (1 | HenID), zi=~0, disp=~1\n",
      "fit_penid: propindoor_duration_5_Zone_rs ~ CLASS + Treatment + rescale(DIB) + , zi=~0, disp=~1\n",
      "fit_penid:     rescale(weight_interp) + rescale(KBF_interp) + (1 | PenID/HenID), zi=~0, disp=~1\n",
      "            Df    AIC    BIC logLik deviance Chisq Chi Df Pr(>Chisq)\n",
      "fit_nopenid  9 -10740 -10683 5379.2   -10758                        \n",
      "fit_penid   10 -10738 -10674 5379.2   -10758     0      1          1\n"
     ]
    },
    {
     "name": "stderr",
     "output_type": "stream",
     "text": [
      "Warning message in Matrix::sparseMatrix(dims = c(0, 0), i = integer(0), j = integer(0), :\n",
      "\"'giveCsparse' has been deprecated; setting 'repr = \"T\"' for you\"\n",
      "Warning message in Matrix::sparseMatrix(dims = c(0, 0), i = integer(0), j = integer(0), :\n",
      "\"'giveCsparse' has been deprecated; setting 'repr = \"T\"' for you\"\n",
      "Warning message in Matrix::sparseMatrix(dims = c(0, 0), i = integer(0), j = integer(0), :\n",
      "\"'giveCsparse' has been deprecated; setting 'repr = \"T\"' for you\"\n",
      "Warning message in Matrix::sparseMatrix(dims = c(0, 0), i = integer(0), j = integer(0), :\n",
      "\"'giveCsparse' has been deprecated; setting 'repr = \"T\"' for you\"\n",
      "Warning message in Matrix::sparseMatrix(dims = c(0, 0), i = integer(0), j = integer(0), :\n",
      "\"'giveCsparse' has been deprecated; setting 'repr = \"T\"' for you\"\n",
      "Warning message in Matrix::sparseMatrix(dims = c(0, 0), i = integer(0), j = integer(0), :\n",
      "\"'giveCsparse' has been deprecated; setting 'repr = \"T\"' for you\"\n"
     ]
    },
    {
     "name": "stdout",
     "output_type": "stream",
     "text": [
      "NULL\n",
      "NULL\n",
      "[1] \"month4\"\n"
     ]
    },
    {
     "name": "stderr",
     "output_type": "stream",
     "text": [
      "Warning message in Matrix::sparseMatrix(dims = c(0, 0), i = integer(0), j = integer(0), :\n",
      "\"'giveCsparse' has been deprecated; setting 'repr = \"T\"' for you\"\n",
      "Warning message in Matrix::sparseMatrix(dims = c(0, 0), i = integer(0), j = integer(0), :\n",
      "\"'giveCsparse' has been deprecated; setting 'repr = \"T\"' for you\"\n",
      "Warning message in Matrix::sparseMatrix(dims = c(0, 0), i = integer(0), j = integer(0), :\n",
      "\"'giveCsparse' has been deprecated; setting 'repr = \"T\"' for you\"\n",
      "Warning message in Matrix::sparseMatrix(dims = c(0, 0), i = integer(0), j = integer(0), :\n",
      "\"'giveCsparse' has been deprecated; setting 'repr = \"T\"' for you\"\n",
      "Warning message in Matrix::sparseMatrix(dims = c(0, 0), i = integer(0), j = integer(0), :\n",
      "\"'giveCsparse' has been deprecated; setting 'repr = \"T\"' for you\"\n",
      "Warning message in Matrix::sparseMatrix(dims = c(0, 0), i = integer(0), j = integer(0), :\n",
      "\"'giveCsparse' has been deprecated; setting 'repr = \"T\"' for you\"\n"
     ]
    },
    {
     "name": "stdout",
     "output_type": "stream",
     "text": [
      "Data: df__\n",
      "Models:\n",
      "fit_nopenid: propindoor_duration_5_Zone_rs ~ CLASS + Treatment + rescale(DIB) + , zi=~0, disp=~1\n",
      "fit_nopenid:     rescale(weight_interp) + rescale(KBF_interp) + (1 | HenID), zi=~0, disp=~1\n",
      "fit_penid: propindoor_duration_5_Zone_rs ~ CLASS + Treatment + rescale(DIB) + , zi=~0, disp=~1\n",
      "fit_penid:     rescale(weight_interp) + rescale(KBF_interp) + (1 | PenID/HenID), zi=~0, disp=~1\n",
      "            Df     AIC     BIC logLik deviance Chisq Chi Df Pr(>Chisq)\n",
      "fit_nopenid  9 -8642.5 -8586.6 4330.2  -8660.5                        \n",
      "fit_penid   10 -8640.5 -8578.4 4330.2  -8660.5     0      1          1\n"
     ]
    },
    {
     "name": "stderr",
     "output_type": "stream",
     "text": [
      "Warning message in Matrix::sparseMatrix(dims = c(0, 0), i = integer(0), j = integer(0), :\n",
      "\"'giveCsparse' has been deprecated; setting 'repr = \"T\"' for you\"\n",
      "Warning message in Matrix::sparseMatrix(dims = c(0, 0), i = integer(0), j = integer(0), :\n",
      "\"'giveCsparse' has been deprecated; setting 'repr = \"T\"' for you\"\n",
      "Warning message in Matrix::sparseMatrix(dims = c(0, 0), i = integer(0), j = integer(0), :\n",
      "\"'giveCsparse' has been deprecated; setting 'repr = \"T\"' for you\"\n",
      "Warning message in Matrix::sparseMatrix(dims = c(0, 0), i = integer(0), j = integer(0), :\n",
      "\"'giveCsparse' has been deprecated; setting 'repr = \"T\"' for you\"\n",
      "Warning message in Matrix::sparseMatrix(dims = c(0, 0), i = integer(0), j = integer(0), :\n",
      "\"'giveCsparse' has been deprecated; setting 'repr = \"T\"' for you\"\n",
      "Warning message in Matrix::sparseMatrix(dims = c(0, 0), i = integer(0), j = integer(0), :\n",
      "\"'giveCsparse' has been deprecated; setting 'repr = \"T\"' for you\"\n"
     ]
    },
    {
     "name": "stdout",
     "output_type": "stream",
     "text": [
      "NULL\n",
      "NULL\n",
      "[1] \"month5\"\n"
     ]
    },
    {
     "name": "stderr",
     "output_type": "stream",
     "text": [
      "Warning message in Matrix::sparseMatrix(dims = c(0, 0), i = integer(0), j = integer(0), :\n",
      "\"'giveCsparse' has been deprecated; setting 'repr = \"T\"' for you\"\n",
      "Warning message in Matrix::sparseMatrix(dims = c(0, 0), i = integer(0), j = integer(0), :\n",
      "\"'giveCsparse' has been deprecated; setting 'repr = \"T\"' for you\"\n",
      "Warning message in Matrix::sparseMatrix(dims = c(0, 0), i = integer(0), j = integer(0), :\n",
      "\"'giveCsparse' has been deprecated; setting 'repr = \"T\"' for you\"\n",
      "Warning message in Matrix::sparseMatrix(dims = c(0, 0), i = integer(0), j = integer(0), :\n",
      "\"'giveCsparse' has been deprecated; setting 'repr = \"T\"' for you\"\n",
      "Warning message in Matrix::sparseMatrix(dims = c(0, 0), i = integer(0), j = integer(0), :\n",
      "\"'giveCsparse' has been deprecated; setting 'repr = \"T\"' for you\"\n",
      "Warning message in Matrix::sparseMatrix(dims = c(0, 0), i = integer(0), j = integer(0), :\n",
      "\"'giveCsparse' has been deprecated; setting 'repr = \"T\"' for you\"\n"
     ]
    },
    {
     "name": "stdout",
     "output_type": "stream",
     "text": [
      "Data: df__\n",
      "Models:\n",
      "fit_nopenid: propindoor_duration_5_Zone_rs ~ CLASS + Treatment + rescale(DIB) + , zi=~0, disp=~1\n",
      "fit_nopenid:     rescale(weight_interp) + rescale(KBF_interp) + (1 | HenID), zi=~0, disp=~1\n",
      "fit_penid: propindoor_duration_5_Zone_rs ~ CLASS + Treatment + rescale(DIB) + , zi=~0, disp=~1\n",
      "fit_penid:     rescale(weight_interp) + rescale(KBF_interp) + (1 | PenID/HenID), zi=~0, disp=~1\n",
      "            Df     AIC     BIC logLik deviance Chisq Chi Df Pr(>Chisq)\n",
      "fit_nopenid  9 -9608.2 -9551.9 4813.1  -9626.2                        \n",
      "fit_penid   10 -9606.2 -9543.6 4813.1  -9626.2     0      1          1\n"
     ]
    },
    {
     "name": "stderr",
     "output_type": "stream",
     "text": [
      "Warning message in Matrix::sparseMatrix(dims = c(0, 0), i = integer(0), j = integer(0), :\n",
      "\"'giveCsparse' has been deprecated; setting 'repr = \"T\"' for you\"\n",
      "Warning message in Matrix::sparseMatrix(dims = c(0, 0), i = integer(0), j = integer(0), :\n",
      "\"'giveCsparse' has been deprecated; setting 'repr = \"T\"' for you\"\n",
      "Warning message in Matrix::sparseMatrix(dims = c(0, 0), i = integer(0), j = integer(0), :\n",
      "\"'giveCsparse' has been deprecated; setting 'repr = \"T\"' for you\"\n",
      "Warning message in Matrix::sparseMatrix(dims = c(0, 0), i = integer(0), j = integer(0), :\n",
      "\"'giveCsparse' has been deprecated; setting 'repr = \"T\"' for you\"\n",
      "Warning message in Matrix::sparseMatrix(dims = c(0, 0), i = integer(0), j = integer(0), :\n",
      "\"'giveCsparse' has been deprecated; setting 'repr = \"T\"' for you\"\n",
      "Warning message in Matrix::sparseMatrix(dims = c(0, 0), i = integer(0), j = integer(0), :\n",
      "\"'giveCsparse' has been deprecated; setting 'repr = \"T\"' for you\"\n"
     ]
    },
    {
     "name": "stdout",
     "output_type": "stream",
     "text": [
      "NULL\n",
      "NULL\n",
      "[1] \"month6\"\n"
     ]
    },
    {
     "name": "stderr",
     "output_type": "stream",
     "text": [
      "Warning message in Matrix::sparseMatrix(dims = c(0, 0), i = integer(0), j = integer(0), :\n",
      "\"'giveCsparse' has been deprecated; setting 'repr = \"T\"' for you\"\n",
      "Warning message in Matrix::sparseMatrix(dims = c(0, 0), i = integer(0), j = integer(0), :\n",
      "\"'giveCsparse' has been deprecated; setting 'repr = \"T\"' for you\"\n",
      "Warning message in Matrix::sparseMatrix(dims = c(0, 0), i = integer(0), j = integer(0), :\n",
      "\"'giveCsparse' has been deprecated; setting 'repr = \"T\"' for you\"\n",
      "Warning message in Matrix::sparseMatrix(dims = c(0, 0), i = integer(0), j = integer(0), :\n",
      "\"'giveCsparse' has been deprecated; setting 'repr = \"T\"' for you\"\n",
      "Warning message in Matrix::sparseMatrix(dims = c(0, 0), i = integer(0), j = integer(0), :\n",
      "\"'giveCsparse' has been deprecated; setting 'repr = \"T\"' for you\"\n",
      "Warning message in Matrix::sparseMatrix(dims = c(0, 0), i = integer(0), j = integer(0), :\n",
      "\"'giveCsparse' has been deprecated; setting 'repr = \"T\"' for you\"\n"
     ]
    },
    {
     "name": "stdout",
     "output_type": "stream",
     "text": [
      "Data: df__\n",
      "Models:\n",
      "fit_nopenid: propindoor_duration_5_Zone_rs ~ CLASS + Treatment + rescale(DIB) + , zi=~0, disp=~1\n",
      "fit_nopenid:     rescale(weight_interp) + rescale(KBF_interp) + (1 | HenID), zi=~0, disp=~1\n",
      "fit_penid: propindoor_duration_5_Zone_rs ~ CLASS + Treatment + rescale(DIB) + , zi=~0, disp=~1\n",
      "fit_penid:     rescale(weight_interp) + rescale(KBF_interp) + (1 | PenID/HenID), zi=~0, disp=~1\n",
      "            Df    AIC    BIC logLik deviance  Chisq Chi Df Pr(>Chisq)\n",
      "fit_nopenid  9 -10219 -10162 5118.7   -10237                         \n",
      "fit_penid   10 -10217 -10154 5118.7   -10237 0.0019      1     0.9654\n"
     ]
    },
    {
     "name": "stderr",
     "output_type": "stream",
     "text": [
      "Warning message in Matrix::sparseMatrix(dims = c(0, 0), i = integer(0), j = integer(0), :\n",
      "\"'giveCsparse' has been deprecated; setting 'repr = \"T\"' for you\"\n",
      "Warning message in Matrix::sparseMatrix(dims = c(0, 0), i = integer(0), j = integer(0), :\n",
      "\"'giveCsparse' has been deprecated; setting 'repr = \"T\"' for you\"\n",
      "Warning message in Matrix::sparseMatrix(dims = c(0, 0), i = integer(0), j = integer(0), :\n",
      "\"'giveCsparse' has been deprecated; setting 'repr = \"T\"' for you\"\n",
      "Warning message in Matrix::sparseMatrix(dims = c(0, 0), i = integer(0), j = integer(0), :\n",
      "\"'giveCsparse' has been deprecated; setting 'repr = \"T\"' for you\"\n",
      "Warning message in Matrix::sparseMatrix(dims = c(0, 0), i = integer(0), j = integer(0), :\n",
      "\"'giveCsparse' has been deprecated; setting 'repr = \"T\"' for you\"\n",
      "Warning message in Matrix::sparseMatrix(dims = c(0, 0), i = integer(0), j = integer(0), :\n",
      "\"'giveCsparse' has been deprecated; setting 'repr = \"T\"' for you\"\n"
     ]
    },
    {
     "name": "stdout",
     "output_type": "stream",
     "text": [
      "NULL\n",
      "NULL\n",
      "[1] \"month7\"\n"
     ]
    },
    {
     "name": "stderr",
     "output_type": "stream",
     "text": [
      "Warning message in Matrix::sparseMatrix(dims = c(0, 0), i = integer(0), j = integer(0), :\n",
      "\"'giveCsparse' has been deprecated; setting 'repr = \"T\"' for you\"\n",
      "Warning message in Matrix::sparseMatrix(dims = c(0, 0), i = integer(0), j = integer(0), :\n",
      "\"'giveCsparse' has been deprecated; setting 'repr = \"T\"' for you\"\n",
      "Warning message in Matrix::sparseMatrix(dims = c(0, 0), i = integer(0), j = integer(0), :\n",
      "\"'giveCsparse' has been deprecated; setting 'repr = \"T\"' for you\"\n",
      "Warning message in Matrix::sparseMatrix(dims = c(0, 0), i = integer(0), j = integer(0), :\n",
      "\"'giveCsparse' has been deprecated; setting 'repr = \"T\"' for you\"\n",
      "Warning message in Matrix::sparseMatrix(dims = c(0, 0), i = integer(0), j = integer(0), :\n",
      "\"'giveCsparse' has been deprecated; setting 'repr = \"T\"' for you\"\n",
      "Warning message in Matrix::sparseMatrix(dims = c(0, 0), i = integer(0), j = integer(0), :\n",
      "\"'giveCsparse' has been deprecated; setting 'repr = \"T\"' for you\"\n"
     ]
    },
    {
     "name": "stdout",
     "output_type": "stream",
     "text": [
      "Data: df__\n",
      "Models:\n",
      "fit_nopenid: propindoor_duration_5_Zone_rs ~ CLASS + Treatment + rescale(DIB) + , zi=~0, disp=~1\n",
      "fit_nopenid:     rescale(weight_interp) + rescale(KBF_interp) + (1 | HenID), zi=~0, disp=~1\n",
      "fit_penid: propindoor_duration_5_Zone_rs ~ CLASS + Treatment + rescale(DIB) + , zi=~0, disp=~1\n",
      "fit_penid:     rescale(weight_interp) + rescale(KBF_interp) + (1 | PenID/HenID), zi=~0, disp=~1\n",
      "            Df     AIC     BIC logLik deviance Chisq Chi Df Pr(>Chisq)\n",
      "fit_nopenid  9 -9399.3 -9342.3 4708.6  -9417.3                        \n",
      "fit_penid   10 -9397.3 -9334.0 4708.6  -9417.3     0      1          1\n"
     ]
    },
    {
     "name": "stderr",
     "output_type": "stream",
     "text": [
      "Warning message in Matrix::sparseMatrix(dims = c(0, 0), i = integer(0), j = integer(0), :\n",
      "\"'giveCsparse' has been deprecated; setting 'repr = \"T\"' for you\"\n",
      "Warning message in Matrix::sparseMatrix(dims = c(0, 0), i = integer(0), j = integer(0), :\n",
      "\"'giveCsparse' has been deprecated; setting 'repr = \"T\"' for you\"\n",
      "Warning message in Matrix::sparseMatrix(dims = c(0, 0), i = integer(0), j = integer(0), :\n",
      "\"'giveCsparse' has been deprecated; setting 'repr = \"T\"' for you\"\n",
      "Warning message in Matrix::sparseMatrix(dims = c(0, 0), i = integer(0), j = integer(0), :\n",
      "\"'giveCsparse' has been deprecated; setting 'repr = \"T\"' for you\"\n",
      "Warning message in Matrix::sparseMatrix(dims = c(0, 0), i = integer(0), j = integer(0), :\n",
      "\"'giveCsparse' has been deprecated; setting 'repr = \"T\"' for you\"\n",
      "Warning message in Matrix::sparseMatrix(dims = c(0, 0), i = integer(0), j = integer(0), :\n",
      "\"'giveCsparse' has been deprecated; setting 'repr = \"T\"' for you\"\n"
     ]
    },
    {
     "name": "stdout",
     "output_type": "stream",
     "text": [
      "NULL\n",
      "NULL\n",
      "[1] \"month8\"\n"
     ]
    },
    {
     "name": "stderr",
     "output_type": "stream",
     "text": [
      "Warning message in Matrix::sparseMatrix(dims = c(0, 0), i = integer(0), j = integer(0), :\n",
      "\"'giveCsparse' has been deprecated; setting 'repr = \"T\"' for you\"\n",
      "Warning message in Matrix::sparseMatrix(dims = c(0, 0), i = integer(0), j = integer(0), :\n",
      "\"'giveCsparse' has been deprecated; setting 'repr = \"T\"' for you\"\n",
      "Warning message in Matrix::sparseMatrix(dims = c(0, 0), i = integer(0), j = integer(0), :\n",
      "\"'giveCsparse' has been deprecated; setting 'repr = \"T\"' for you\"\n",
      "Warning message in Matrix::sparseMatrix(dims = c(0, 0), i = integer(0), j = integer(0), :\n",
      "\"'giveCsparse' has been deprecated; setting 'repr = \"T\"' for you\"\n",
      "Warning message in Matrix::sparseMatrix(dims = c(0, 0), i = integer(0), j = integer(0), :\n",
      "\"'giveCsparse' has been deprecated; setting 'repr = \"T\"' for you\"\n",
      "Warning message in Matrix::sparseMatrix(dims = c(0, 0), i = integer(0), j = integer(0), :\n",
      "\"'giveCsparse' has been deprecated; setting 'repr = \"T\"' for you\"\n"
     ]
    },
    {
     "name": "stdout",
     "output_type": "stream",
     "text": [
      "Data: df__\n",
      "Models:\n",
      "fit_nopenid: propindoor_duration_5_Zone_rs ~ CLASS + Treatment + rescale(DIB) + , zi=~0, disp=~1\n",
      "fit_nopenid:     rescale(weight_interp) + rescale(KBF_interp) + (1 | HenID), zi=~0, disp=~1\n",
      "fit_penid: propindoor_duration_5_Zone_rs ~ CLASS + Treatment + rescale(DIB) + , zi=~0, disp=~1\n",
      "fit_penid:     rescale(weight_interp) + rescale(KBF_interp) + (1 | PenID/HenID), zi=~0, disp=~1\n",
      "            Df    AIC    BIC logLik deviance  Chisq Chi Df Pr(>Chisq)\n",
      "fit_nopenid  9 -10643 -10585 5330.4   -10661                         \n",
      "fit_penid   10 -10641 -10577 5330.6   -10661 0.5082      1     0.4759\n"
     ]
    },
    {
     "name": "stderr",
     "output_type": "stream",
     "text": [
      "Warning message in Matrix::sparseMatrix(dims = c(0, 0), i = integer(0), j = integer(0), :\n",
      "\"'giveCsparse' has been deprecated; setting 'repr = \"T\"' for you\"\n",
      "Warning message in Matrix::sparseMatrix(dims = c(0, 0), i = integer(0), j = integer(0), :\n",
      "\"'giveCsparse' has been deprecated; setting 'repr = \"T\"' for you\"\n",
      "Warning message in Matrix::sparseMatrix(dims = c(0, 0), i = integer(0), j = integer(0), :\n",
      "\"'giveCsparse' has been deprecated; setting 'repr = \"T\"' for you\"\n",
      "Warning message in Matrix::sparseMatrix(dims = c(0, 0), i = integer(0), j = integer(0), :\n",
      "\"'giveCsparse' has been deprecated; setting 'repr = \"T\"' for you\"\n",
      "Warning message in Matrix::sparseMatrix(dims = c(0, 0), i = integer(0), j = integer(0), :\n",
      "\"'giveCsparse' has been deprecated; setting 'repr = \"T\"' for you\"\n",
      "Warning message in Matrix::sparseMatrix(dims = c(0, 0), i = integer(0), j = integer(0), :\n",
      "\"'giveCsparse' has been deprecated; setting 'repr = \"T\"' for you\"\n"
     ]
    },
    {
     "name": "stdout",
     "output_type": "stream",
     "text": [
      "NULL\n",
      "NULL\n",
      "[1] \"month9\"\n"
     ]
    },
    {
     "name": "stderr",
     "output_type": "stream",
     "text": [
      "Warning message in Matrix::sparseMatrix(dims = c(0, 0), i = integer(0), j = integer(0), :\n",
      "\"'giveCsparse' has been deprecated; setting 'repr = \"T\"' for you\"\n",
      "Warning message in Matrix::sparseMatrix(dims = c(0, 0), i = integer(0), j = integer(0), :\n",
      "\"'giveCsparse' has been deprecated; setting 'repr = \"T\"' for you\"\n",
      "Warning message in Matrix::sparseMatrix(dims = c(0, 0), i = integer(0), j = integer(0), :\n",
      "\"'giveCsparse' has been deprecated; setting 'repr = \"T\"' for you\"\n",
      "Warning message in Matrix::sparseMatrix(dims = c(0, 0), i = integer(0), j = integer(0), :\n",
      "\"'giveCsparse' has been deprecated; setting 'repr = \"T\"' for you\"\n",
      "Warning message in Matrix::sparseMatrix(dims = c(0, 0), i = integer(0), j = integer(0), :\n",
      "\"'giveCsparse' has been deprecated; setting 'repr = \"T\"' for you\"\n",
      "Warning message in Matrix::sparseMatrix(dims = c(0, 0), i = integer(0), j = integer(0), :\n",
      "\"'giveCsparse' has been deprecated; setting 'repr = \"T\"' for you\"\n"
     ]
    },
    {
     "name": "stdout",
     "output_type": "stream",
     "text": [
      "Data: df__\n",
      "Models:\n",
      "fit_nopenid: propindoor_duration_5_Zone_rs ~ CLASS + Treatment + rescale(DIB) + , zi=~0, disp=~1\n",
      "fit_nopenid:     rescale(weight_interp) + rescale(KBF_interp) + (1 | HenID), zi=~0, disp=~1\n",
      "fit_penid: propindoor_duration_5_Zone_rs ~ CLASS + Treatment + rescale(DIB) + , zi=~0, disp=~1\n",
      "fit_penid:     rescale(weight_interp) + rescale(KBF_interp) + (1 | PenID/HenID), zi=~0, disp=~1\n",
      "            Df     AIC     BIC logLik deviance  Chisq Chi Df Pr(>Chisq)\n",
      "fit_nopenid  9 -4841.1 -4791.4 2429.6  -4859.1                         \n",
      "fit_penid   10 -4839.5 -4784.2 2429.8  -4859.5 0.3759      1     0.5398\n"
     ]
    },
    {
     "name": "stderr",
     "output_type": "stream",
     "text": [
      "Warning message in Matrix::sparseMatrix(dims = c(0, 0), i = integer(0), j = integer(0), :\n",
      "\"'giveCsparse' has been deprecated; setting 'repr = \"T\"' for you\"\n",
      "Warning message in Matrix::sparseMatrix(dims = c(0, 0), i = integer(0), j = integer(0), :\n",
      "\"'giveCsparse' has been deprecated; setting 'repr = \"T\"' for you\"\n",
      "Warning message in Matrix::sparseMatrix(dims = c(0, 0), i = integer(0), j = integer(0), :\n",
      "\"'giveCsparse' has been deprecated; setting 'repr = \"T\"' for you\"\n",
      "Warning message in Matrix::sparseMatrix(dims = c(0, 0), i = integer(0), j = integer(0), :\n",
      "\"'giveCsparse' has been deprecated; setting 'repr = \"T\"' for you\"\n",
      "Warning message in Matrix::sparseMatrix(dims = c(0, 0), i = integer(0), j = integer(0), :\n",
      "\"'giveCsparse' has been deprecated; setting 'repr = \"T\"' for you\"\n",
      "Warning message in Matrix::sparseMatrix(dims = c(0, 0), i = integer(0), j = integer(0), :\n",
      "\"'giveCsparse' has been deprecated; setting 'repr = \"T\"' for you\"\n"
     ]
    },
    {
     "name": "stdout",
     "output_type": "stream",
     "text": [
      "NULL\n",
      "NULL\n",
      "[1] \"month10\"\n"
     ]
    },
    {
     "name": "stderr",
     "output_type": "stream",
     "text": [
      "Warning message in Matrix::sparseMatrix(dims = c(0, 0), i = integer(0), j = integer(0), :\n",
      "\"'giveCsparse' has been deprecated; setting 'repr = \"T\"' for you\"\n",
      "Warning message in Matrix::sparseMatrix(dims = c(0, 0), i = integer(0), j = integer(0), :\n",
      "\"'giveCsparse' has been deprecated; setting 'repr = \"T\"' for you\"\n",
      "Warning message in Matrix::sparseMatrix(dims = c(0, 0), i = integer(0), j = integer(0), :\n",
      "\"'giveCsparse' has been deprecated; setting 'repr = \"T\"' for you\"\n",
      "Warning message in Matrix::sparseMatrix(dims = c(0, 0), i = integer(0), j = integer(0), :\n",
      "\"'giveCsparse' has been deprecated; setting 'repr = \"T\"' for you\"\n",
      "Warning message in Matrix::sparseMatrix(dims = c(0, 0), i = integer(0), j = integer(0), :\n",
      "\"'giveCsparse' has been deprecated; setting 'repr = \"T\"' for you\"\n",
      "Warning message in Matrix::sparseMatrix(dims = c(0, 0), i = integer(0), j = integer(0), :\n",
      "\"'giveCsparse' has been deprecated; setting 'repr = \"T\"' for you\"\n"
     ]
    },
    {
     "name": "stdout",
     "output_type": "stream",
     "text": [
      "Data: df__\n",
      "Models:\n",
      "fit_nopenid: propindoor_duration_5_Zone_rs ~ CLASS + Treatment + rescale(DIB) + , zi=~0, disp=~1\n",
      "fit_nopenid:     rescale(weight_interp) + rescale(KBF_interp) + (1 | HenID), zi=~0, disp=~1\n",
      "fit_penid: propindoor_duration_5_Zone_rs ~ CLASS + Treatment + rescale(DIB) + , zi=~0, disp=~1\n",
      "fit_penid:     rescale(weight_interp) + rescale(KBF_interp) + (1 | PenID/HenID), zi=~0, disp=~1\n",
      "            Df     AIC     BIC logLik deviance  Chisq Chi Df Pr(>Chisq)\n",
      "fit_nopenid  9 -7751.1 -7696.6 3884.6  -7769.1                         \n",
      "fit_penid   10 -7749.2 -7688.7 3884.6  -7769.2 0.1051      1     0.7457\n"
     ]
    },
    {
     "name": "stderr",
     "output_type": "stream",
     "text": [
      "Warning message in Matrix::sparseMatrix(dims = c(0, 0), i = integer(0), j = integer(0), :\n",
      "\"'giveCsparse' has been deprecated; setting 'repr = \"T\"' for you\"\n",
      "Warning message in Matrix::sparseMatrix(dims = c(0, 0), i = integer(0), j = integer(0), :\n",
      "\"'giveCsparse' has been deprecated; setting 'repr = \"T\"' for you\"\n",
      "Warning message in Matrix::sparseMatrix(dims = c(0, 0), i = integer(0), j = integer(0), :\n",
      "\"'giveCsparse' has been deprecated; setting 'repr = \"T\"' for you\"\n",
      "Warning message in Matrix::sparseMatrix(dims = c(0, 0), i = integer(0), j = integer(0), :\n",
      "\"'giveCsparse' has been deprecated; setting 'repr = \"T\"' for you\"\n",
      "Warning message in Matrix::sparseMatrix(dims = c(0, 0), i = integer(0), j = integer(0), :\n",
      "\"'giveCsparse' has been deprecated; setting 'repr = \"T\"' for you\"\n",
      "Warning message in Matrix::sparseMatrix(dims = c(0, 0), i = integer(0), j = integer(0), :\n",
      "\"'giveCsparse' has been deprecated; setting 'repr = \"T\"' for you\"\n"
     ]
    },
    {
     "name": "stdout",
     "output_type": "stream",
     "text": [
      "NULL\n",
      "NULL\n"
     ]
    },
    {
     "name": "stderr",
     "output_type": "stream",
     "text": [
      "Warning message in confint.glmmTMB(x, method = tolower(conf.method), level = conf.level, :\n",
      "\"extra arguments ignored:  intervals, prob\"\n",
      "Warning message in confint.glmmTMB(x, parm = thpar, method = conf.method, level = conf.level, :\n",
      "\"extra arguments ignored:  intervals, prob\"\n",
      "Warning message in confint.glmmTMB(x, method = tolower(conf.method), level = conf.level, :\n",
      "\"extra arguments ignored:  intervals, prob\"\n",
      "Warning message in confint.glmmTMB(x, parm = thpar, method = conf.method, level = conf.level, :\n",
      "\"extra arguments ignored:  intervals, prob\"\n",
      "Warning message in confint.glmmTMB(x, method = tolower(conf.method), level = conf.level, :\n",
      "\"extra arguments ignored:  intervals, prob\"\n",
      "Warning message in confint.glmmTMB(x, parm = thpar, method = conf.method, level = conf.level, :\n",
      "\"extra arguments ignored:  intervals, prob\"\n",
      "Warning message in confint.glmmTMB(x, method = tolower(conf.method), level = conf.level, :\n",
      "\"extra arguments ignored:  intervals, prob\"\n",
      "Warning message in confint.glmmTMB(x, parm = thpar, method = conf.method, level = conf.level, :\n",
      "\"extra arguments ignored:  intervals, prob\"\n",
      "Warning message in confint.glmmTMB(x, method = tolower(conf.method), level = conf.level, :\n",
      "\"extra arguments ignored:  intervals, prob\"\n",
      "Warning message in confint.glmmTMB(x, parm = thpar, method = conf.method, level = conf.level, :\n",
      "\"extra arguments ignored:  intervals, prob\"\n",
      "Warning message in confint.glmmTMB(x, method = tolower(conf.method), level = conf.level, :\n",
      "\"extra arguments ignored:  intervals, prob\"\n",
      "Warning message in confint.glmmTMB(x, parm = thpar, method = conf.method, level = conf.level, :\n",
      "\"extra arguments ignored:  intervals, prob\"\n",
      "Warning message in confint.glmmTMB(x, method = tolower(conf.method), level = conf.level, :\n",
      "\"extra arguments ignored:  intervals, prob\"\n",
      "Warning message in confint.glmmTMB(x, parm = thpar, method = conf.method, level = conf.level, :\n",
      "\"extra arguments ignored:  intervals, prob\"\n",
      "Warning message in confint.glmmTMB(x, method = tolower(conf.method), level = conf.level, :\n",
      "\"extra arguments ignored:  intervals, prob\"\n",
      "Warning message in confint.glmmTMB(x, parm = thpar, method = conf.method, level = conf.level, :\n",
      "\"extra arguments ignored:  intervals, prob\"\n",
      "Warning message in confint.glmmTMB(x, method = tolower(conf.method), level = conf.level, :\n",
      "\"extra arguments ignored:  intervals, prob\"\n",
      "Warning message in confint.glmmTMB(x, parm = thpar, method = conf.method, level = conf.level, :\n",
      "\"extra arguments ignored:  intervals, prob\"\n",
      "Warning message in confint.glmmTMB(x, method = tolower(conf.method), level = conf.level, :\n",
      "\"extra arguments ignored:  intervals, prob\"\n",
      "Warning message in confint.glmmTMB(x, parm = thpar, method = conf.method, level = conf.level, :\n",
      "\"extra arguments ignored:  intervals, prob\"\n"
     ]
    },
    {
     "data": {
      "text/html": [
       "<strong>png:</strong> 2"
      ],
      "text/latex": [
       "\\textbf{png:} 2"
      ],
      "text/markdown": [
       "**png:** 2"
      ],
      "text/plain": [
       "png \n",
       "  2 "
      ]
     },
     "metadata": {},
     "output_type": "display_data"
    },
    {
     "name": "stderr",
     "output_type": "stream",
     "text": [
      "Warning message:\n",
      "\"Following potential variables could not be found in the data: DIB ,weight_interp\n",
      "  ,nbr_h_per_day\"\n",
      "Warning message:\n",
      "\"Following potential variables could not be found in the data: DIB ,weight_interp\n",
      "  ,nbr_h_per_day\"\n",
      "Warning message:\n",
      "\"Following potential variables could not be found in the data: DIB ,weight_interp\n",
      "  ,KBF_interp\"\n",
      "Warning message:\n",
      "\"Following potential variables could not be found in the data: DIB ,weight_interp\n",
      "  ,KBF_interp\"\n",
      "Warning message:\n",
      "\"Following potential variables could not be found in the data: DIB ,weight_interp\n",
      "  ,KBF_interp\"\n",
      "Warning message:\n",
      "\"Following potential variables could not be found in the data: DIB ,weight_interp\n",
      "  ,nbr_h_per_day\"\n",
      "Warning message:\n",
      "\"Following potential variables could not be found in the data: DIB ,weight_interp\n",
      "  ,nbr_h_per_day\"\n",
      "Warning message:\n",
      "\"Following potential variables could not be found in the data: DIB ,weight_interp\n",
      "  ,KBF_interp\"\n",
      "Warning message:\n",
      "\"Following potential variables could not be found in the data: DIB ,weight_interp\n",
      "  ,KBF_interp\"\n",
      "Warning message:\n",
      "\"Following potential variables could not be found in the data: DIB ,weight_interp\n",
      "  ,KBF_interp\"\n",
      "Warning message:\n",
      "\"Following potential variables could not be found in the data: DIB ,weight_interp\n",
      "  ,nbr_h_per_day\"\n",
      "Warning message:\n",
      "\"Following potential variables could not be found in the data: DIB ,weight_interp\n",
      "  ,nbr_h_per_day\"\n",
      "Warning message:\n",
      "\"Following potential variables could not be found in the data: DIB ,weight_interp\n",
      "  ,KBF_interp\"\n",
      "Warning message:\n",
      "\"Following potential variables could not be found in the data: DIB ,weight_interp\n",
      "  ,KBF_interp\"\n",
      "Warning message:\n",
      "\"Following potential variables could not be found in the data: DIB ,weight_interp\n",
      "  ,KBF_interp\"\n",
      "Warning message:\n",
      "\"Following potential variables could not be found in the data: DIB ,weight_interp\n",
      "  ,KBF_interp\"\n",
      "Warning message:\n",
      "\"Following potential variables could not be found in the data: DIB ,weight_interp\n",
      "  ,KBF_interp\"\n",
      "Warning message:\n",
      "\"Following potential variables could not be found in the data: DIB ,weight_interp\n",
      "  ,KBF_interp\"\n",
      "Warning message:\n",
      "\"Following potential variables could not be found in the data: DIB ,weight_interp\n",
      "  ,KBF_interp\"\n",
      "Warning message:\n",
      "\"Following potential variables could not be found in the data: DIB ,weight_interp\n",
      "  ,KBF_interp\"\n",
      "Warning message:\n",
      "\"Following potential variables could not be found in the data: DIB ,weight_interp\n",
      "  ,KBF_interp\"\n",
      "Warning message:\n",
      "\"Following potential variables could not be found in the data: DIB ,weight_interp\n",
      "  ,KBF_interp\"\n",
      "Warning message:\n",
      "\"Following potential variables could not be found in the data: DIB ,weight_interp\n",
      "  ,KBF_interp\"\n",
      "Warning message:\n",
      "\"Following potential variables could not be found in the data: DIB ,weight_interp\n",
      "  ,KBF_interp\"\n",
      "Warning message:\n",
      "\"Following potential variables could not be found in the data: DIB ,weight_interp\n",
      "  ,KBF_interp\"\n",
      "Warning message:\n",
      "\"Following potential variables could not be found in the data: DIB ,weight_interp\n",
      "  ,KBF_interp\"\n",
      "Warning message:\n",
      "\"Following potential variables could not be found in the data: DIB ,weight_interp\n",
      "  ,KBF_interp\"\n"
     ]
    }
   ],
   "source": [
    "var = 'propindoor_duration_5_Zone_rs'\n",
    "path_visual_ = file.path(path_visual, var)\n",
    "dir.create(path_visual_)\n",
    "dim(df)\n",
    "df_ = df\n",
    "dim(df_)\n",
    "\n",
    "li_model = list()\n",
    "for (i in 1:10){\n",
    "    monthILBID = paste0('month',i)\n",
    "    print(monthILBID)\n",
    "    df__ = df_[df_$monthILB==monthILBID,]\n",
    "    #drop factors not existing in this subdataframe\n",
    "    df__$HenID = factor(df__$HenID) \n",
    "    df__$PenID = factor(df__$PenID)\n",
    "    df__$CLASS = factor(df__$CLASS) \n",
    "    #monthILB1-monthILB2: no KBF but nbr_h_per_day_sc, after KBF but no nbr_h_per_day_sc\n",
    "    if (monthILBID %in% c('month1', 'month2')){\n",
    "        fit_nopenid = glmmTMB(propindoor_duration_5_Zone_rs ~  CLASS+ Treatment + rescale(DIB) + rescale(weight_interp)+ rescale(nbr_h_per_day)+(1|HenID), \n",
    "                   data=df__, family=beta_family(link=\"logit\"))\n",
    "        fit_penid = glmmTMB(propindoor_duration_5_Zone_rs ~  CLASS+ Treatment + rescale(DIB) + rescale(weight_interp)+ rescale(nbr_h_per_day)+(1|PenID/HenID), \n",
    "                   data=df__, family=beta_family(link=\"logit\"))}\n",
    "    else{\n",
    "        fit_nopenid = glmmTMB(propindoor_duration_5_Zone_rs ~  CLASS + Treatment + rescale(DIB) + rescale(weight_interp)+rescale(KBF_interp) + (1|HenID), \n",
    "                   data=df__, family=beta_family(link=\"logit\"))\n",
    "        fit_penid = glmmTMB(propindoor_duration_5_Zone_rs ~  CLASS + Treatment + rescale(DIB) + rescale(weight_interp)+rescale(KBF_interp) + (1|PenID/HenID), \n",
    "                   data=df__, family=beta_family(link=\"logit\"))}\n",
    "    print(anova(fit_nopenid,fit_penid))\n",
    "    p_value = anova(fit_nopenid,fit_penid)['Pr(>Chisq)']['fit_penid',]\n",
    "    if (p_value<0.05){\n",
    "        fit = fit_penid    \n",
    "    }else{\n",
    "        fit = fit_nopenid    \n",
    "    }    \n",
    "    \n",
    "    li_model[[i]] = fit\n",
    "    write.csv(summary(fit)['coefficients']$coefficients$cond, file=file.path(path_visual_, paste0(var,monthILBID,'.csv')) )\n",
    "    \n",
    "    set.seed(0)\n",
    "    simulationOutput = simulateResiduals(fittedModel=fit)\n",
    "    tiff(file.path(path_visual_, paste0(var,'_SimRes1',monthILBID,'.tiff')), width=400, height=400)\n",
    "    print(plot(simulationOutput))\n",
    "    dev.off()\n",
    "    \n",
    "    tiff(file.path(path_visual_, paste0(var,'_SimRes2',monthILBID,'.tiff')), width=400, height=400)\n",
    "    print(plotResiduals(simulationOutput, form = df__$Treatment))\n",
    "    dev.off()}\n",
    "\n",
    "\n",
    "tiff(file.path(path_visual_, paste0(var,'_OFHCoeff','.tiff')), width=400, height=400)\n",
    "plot_summs(li_model, coefs=c('TreatmentOFH'), colors='Rainbow', legend.title=var, exp=TRUE)\n",
    "dev.off()\n",
    "tab_model(li_model[1:5], collapse.ci = TRUE, p.style = \"numeric_stars\", file=file.path(path_visual_, paste0(var,'_TableModel1-5.doc')))\n",
    "tab_model(li_model[6:10], collapse.ci = TRUE, p.style = \"numeric_stars\", file=file.path(path_visual_, paste0(var,'_TableModel6-10.doc')))"
   ]
  },
  {
   "cell_type": "code",
   "execution_count": 34,
   "id": "a4a3b29a",
   "metadata": {},
   "outputs": [
    {
     "data": {
      "text/html": [
       "<table class=\"dataframe\">\n",
       "<caption>A data.frame: 3 × 28</caption>\n",
       "<thead>\n",
       "\t<tr><th></th><th scope=col>HenID</th><th scope=col>PenID</th><th scope=col>level</th><th scope=col>Treatment</th><th scope=col>CLASS</th><th scope=col>DOA</th><th scope=col>WOA</th><th scope=col>DIB</th><th scope=col>WIB</th><th scope=col>weight_interp</th><th scope=col>...</th><th scope=col>date</th><th scope=col>temperature_C_avg</th><th scope=col>propindoor_duration_5_Zone_rs</th><th scope=col>propindoor_duration_4_Zone_rs</th><th scope=col>propindoor_duration_2_Zone_rs</th><th scope=col>went_litter</th><th scope=col>stayed_top_tier</th><th scope=col>monthILB</th><th scope=col>went_Z5</th><th scope=col>stayedin_Z5</th></tr>\n",
       "\t<tr><th></th><th scope=col>&lt;fct&gt;</th><th scope=col>&lt;fct&gt;</th><th scope=col>&lt;fct&gt;</th><th scope=col>&lt;fct&gt;</th><th scope=col>&lt;fct&gt;</th><th scope=col>&lt;int&gt;</th><th scope=col>&lt;int&gt;</th><th scope=col>&lt;int&gt;</th><th scope=col>&lt;int&gt;</th><th scope=col>&lt;dbl&gt;</th><th scope=col>...</th><th scope=col>&lt;fct&gt;</th><th scope=col>&lt;dbl&gt;</th><th scope=col>&lt;dbl&gt;</th><th scope=col>&lt;dbl&gt;</th><th scope=col>&lt;dbl&gt;</th><th scope=col>&lt;int&gt;</th><th scope=col>&lt;int&gt;</th><th scope=col>&lt;fct&gt;</th><th scope=col>&lt;int&gt;</th><th scope=col>&lt;int&gt;</th></tr>\n",
       "</thead>\n",
       "<tbody>\n",
       "\t<tr><th scope=row>4</th><td>hen_131</td><td>pen10</td><td>2020-09-30</td><td>TRAN</td><td>REXP</td><td>119</td><td>17</td><td>1</td><td>1</td><td>1202.000</td><td>...</td><td>2020-09-30</td><td>12.50000</td><td>0.0100</td><td>NA</td><td>0.8430</td><td>1</td><td>0</td><td>month1</td><td>1</td><td>0</td></tr>\n",
       "\t<tr><th scope=row>5</th><td>hen_131</td><td>pen10</td><td>2020-10-01</td><td>TRAN</td><td>REXP</td><td>120</td><td>18</td><td>2</td><td>1</td><td>1211.815</td><td>...</td><td>2020-10-01</td><td>14.50000</td><td>0.1276</td><td>NA</td><td>0.6862</td><td>1</td><td>0</td><td>month1</td><td>1</td><td>0</td></tr>\n",
       "\t<tr><th scope=row>6</th><td>hen_131</td><td>pen10</td><td>2020-10-02</td><td>TRAN</td><td>REXP</td><td>121</td><td>18</td><td>3</td><td>1</td><td>1221.630</td><td>...</td><td>2020-10-02</td><td>12.66667</td><td>0.5392</td><td>NA</td><td>0.2942</td><td>1</td><td>0</td><td>month1</td><td>1</td><td>0</td></tr>\n",
       "</tbody>\n",
       "</table>\n"
      ],
      "text/latex": [
       "A data.frame: 3 × 28\n",
       "\\begin{tabular}{r|lllllllllllllllllllll}\n",
       "  & HenID & PenID & level & Treatment & CLASS & DOA & WOA & DIB & WIB & weight\\_interp & ... & date & temperature\\_C\\_avg & propindoor\\_duration\\_5\\_Zone\\_rs & propindoor\\_duration\\_4\\_Zone\\_rs & propindoor\\_duration\\_2\\_Zone\\_rs & went\\_litter & stayed\\_top\\_tier & monthILB & went\\_Z5 & stayedin\\_Z5\\\\\n",
       "  & <fct> & <fct> & <fct> & <fct> & <fct> & <int> & <int> & <int> & <int> & <dbl> & ... & <fct> & <dbl> & <dbl> & <dbl> & <dbl> & <int> & <int> & <fct> & <int> & <int>\\\\\n",
       "\\hline\n",
       "\t4 & hen\\_131 & pen10 & 2020-09-30 & TRAN & REXP & 119 & 17 & 1 & 1 & 1202.000 & ... & 2020-09-30 & 12.50000 & 0.0100 & NA & 0.8430 & 1 & 0 & month1 & 1 & 0\\\\\n",
       "\t5 & hen\\_131 & pen10 & 2020-10-01 & TRAN & REXP & 120 & 18 & 2 & 1 & 1211.815 & ... & 2020-10-01 & 14.50000 & 0.1276 & NA & 0.6862 & 1 & 0 & month1 & 1 & 0\\\\\n",
       "\t6 & hen\\_131 & pen10 & 2020-10-02 & TRAN & REXP & 121 & 18 & 3 & 1 & 1221.630 & ... & 2020-10-02 & 12.66667 & 0.5392 & NA & 0.2942 & 1 & 0 & month1 & 1 & 0\\\\\n",
       "\\end{tabular}\n"
      ],
      "text/markdown": [
       "\n",
       "A data.frame: 3 × 28\n",
       "\n",
       "| <!--/--> | HenID &lt;fct&gt; | PenID &lt;fct&gt; | level &lt;fct&gt; | Treatment &lt;fct&gt; | CLASS &lt;fct&gt; | DOA &lt;int&gt; | WOA &lt;int&gt; | DIB &lt;int&gt; | WIB &lt;int&gt; | weight_interp &lt;dbl&gt; | ... ... | date &lt;fct&gt; | temperature_C_avg &lt;dbl&gt; | propindoor_duration_5_Zone_rs &lt;dbl&gt; | propindoor_duration_4_Zone_rs &lt;dbl&gt; | propindoor_duration_2_Zone_rs &lt;dbl&gt; | went_litter &lt;int&gt; | stayed_top_tier &lt;int&gt; | monthILB &lt;fct&gt; | went_Z5 &lt;int&gt; | stayedin_Z5 &lt;int&gt; |\n",
       "|---|---|---|---|---|---|---|---|---|---|---|---|---|---|---|---|---|---|---|---|---|---|\n",
       "| 4 | hen_131 | pen10 | 2020-09-30 | TRAN | REXP | 119 | 17 | 1 | 1 | 1202.000 | ... | 2020-09-30 | 12.50000 | 0.0100 | NA | 0.8430 | 1 | 0 | month1 | 1 | 0 |\n",
       "| 5 | hen_131 | pen10 | 2020-10-01 | TRAN | REXP | 120 | 18 | 2 | 1 | 1211.815 | ... | 2020-10-01 | 14.50000 | 0.1276 | NA | 0.6862 | 1 | 0 | month1 | 1 | 0 |\n",
       "| 6 | hen_131 | pen10 | 2020-10-02 | TRAN | REXP | 121 | 18 | 3 | 1 | 1221.630 | ... | 2020-10-02 | 12.66667 | 0.5392 | NA | 0.2942 | 1 | 0 | month1 | 1 | 0 |\n",
       "\n"
      ],
      "text/plain": [
       "  HenID   PenID level      Treatment CLASS DOA WOA DIB WIB weight_interp ...\n",
       "4 hen_131 pen10 2020-09-30 TRAN      REXP  119 17  1   1   1202.000      ...\n",
       "5 hen_131 pen10 2020-10-01 TRAN      REXP  120 18  2   1   1211.815      ...\n",
       "6 hen_131 pen10 2020-10-02 TRAN      REXP  121 18  3   1   1221.630      ...\n",
       "  date       temperature_C_avg propindoor_duration_5_Zone_rs\n",
       "4 2020-09-30 12.50000          0.0100                       \n",
       "5 2020-10-01 14.50000          0.1276                       \n",
       "6 2020-10-02 12.66667          0.5392                       \n",
       "  propindoor_duration_4_Zone_rs propindoor_duration_2_Zone_rs went_litter\n",
       "4 NA                            0.8430                        1          \n",
       "5 NA                            0.6862                        1          \n",
       "6 NA                            0.2942                        1          \n",
       "  stayed_top_tier monthILB went_Z5 stayedin_Z5\n",
       "4 0               month1   1       0          \n",
       "5 0               month1   1       0          \n",
       "6 0               month1   1       0          "
      ]
     },
     "metadata": {},
     "output_type": "display_data"
    },
    {
     "data": {
      "text/html": [
       "<style>\n",
       ".list-inline {list-style: none; margin:0; padding: 0}\n",
       ".list-inline>li {display: inline-block}\n",
       ".list-inline>li:not(:last-child)::after {content: \"\\00b7\"; padding: 0 .5ex}\n",
       "</style>\n",
       "<ol class=list-inline><li>37455</li><li>28</li></ol>\n"
      ],
      "text/latex": [
       "\\begin{enumerate*}\n",
       "\\item 37455\n",
       "\\item 28\n",
       "\\end{enumerate*}\n"
      ],
      "text/markdown": [
       "1. 37455\n",
       "2. 28\n",
       "\n",
       "\n"
      ],
      "text/plain": [
       "[1] 37455    28"
      ]
     },
     "metadata": {},
     "output_type": "display_data"
    },
    {
     "data": {
      "text/html": [
       "<style>\n",
       ".list-inline {list-style: none; margin:0; padding: 0}\n",
       ".list-inline>li {display: inline-block}\n",
       ".list-inline>li:not(:last-child)::after {content: \"\\00b7\"; padding: 0 .5ex}\n",
       "</style>\n",
       "<ol class=list-inline><li>37455</li><li>28</li></ol>\n"
      ],
      "text/latex": [
       "\\begin{enumerate*}\n",
       "\\item 37455\n",
       "\\item 28\n",
       "\\end{enumerate*}\n"
      ],
      "text/markdown": [
       "1. 37455\n",
       "2. 28\n",
       "\n",
       "\n"
      ],
      "text/plain": [
       "[1] 37455    28"
      ]
     },
     "metadata": {},
     "output_type": "display_data"
    },
    {
     "data": {
      "text/html": [
       "<style>\n",
       ".list-inline {list-style: none; margin:0; padding: 0}\n",
       ".list-inline>li {display: inline-block}\n",
       ".list-inline>li:not(:last-child)::after {content: \"\\00b7\"; padding: 0 .5ex}\n",
       "</style>\n",
       "<ol class=list-inline><li>410</li><li>28</li></ol>\n"
      ],
      "text/latex": [
       "\\begin{enumerate*}\n",
       "\\item 410\n",
       "\\item 28\n",
       "\\end{enumerate*}\n"
      ],
      "text/markdown": [
       "1. 410\n",
       "2. 28\n",
       "\n",
       "\n"
      ],
      "text/plain": [
       "[1] 410  28"
      ]
     },
     "metadata": {},
     "output_type": "display_data"
    },
    {
     "name": "stderr",
     "output_type": "stream",
     "text": [
      "Warning message in Matrix::sparseMatrix(dims = c(0, 0), i = integer(0), j = integer(0), :\n",
      "\"'giveCsparse' has been deprecated; setting 'repr = \"T\"' for you\"\n",
      "Warning message in Matrix::sparseMatrix(dims = c(0, 0), i = integer(0), j = integer(0), :\n",
      "\"'giveCsparse' has been deprecated; setting 'repr = \"T\"' for you\"\n",
      "Warning message in Matrix::sparseMatrix(dims = c(0, 0), i = integer(0), j = integer(0), :\n",
      "\"'giveCsparse' has been deprecated; setting 'repr = \"T\"' for you\"\n",
      "Warning message in Matrix::sparseMatrix(dims = c(0, 0), i = integer(0), j = integer(0), :\n",
      "\"'giveCsparse' has been deprecated; setting 'repr = \"T\"' for you\"\n",
      "Warning message in Matrix::sparseMatrix(dims = c(0, 0), i = integer(0), j = integer(0), :\n",
      "\"'giveCsparse' has been deprecated; setting 'repr = \"T\"' for you\"\n",
      "Warning message in Matrix::sparseMatrix(dims = c(0, 0), i = integer(0), j = integer(0), :\n",
      "\"'giveCsparse' has been deprecated; setting 'repr = \"T\"' for you\"\n"
     ]
    },
    {
     "data": {
      "text/html": [
       "<table class=\"dataframe\">\n",
       "<caption>A anova: 2 × 8</caption>\n",
       "<thead>\n",
       "\t<tr><th></th><th scope=col>Df</th><th scope=col>AIC</th><th scope=col>BIC</th><th scope=col>logLik</th><th scope=col>deviance</th><th scope=col>Chisq</th><th scope=col>Chi Df</th><th scope=col>Pr(&gt;Chisq)</th></tr>\n",
       "\t<tr><th></th><th scope=col>&lt;dbl&gt;</th><th scope=col>&lt;dbl&gt;</th><th scope=col>&lt;dbl&gt;</th><th scope=col>&lt;dbl&gt;</th><th scope=col>&lt;dbl&gt;</th><th scope=col>&lt;dbl&gt;</th><th scope=col>&lt;dbl&gt;</th><th scope=col>&lt;dbl&gt;</th></tr>\n",
       "</thead>\n",
       "<tbody>\n",
       "\t<tr><th scope=row>fit_nopenid</th><td>8</td><td>1869.379</td><td>1918.715</td><td>-926.6894</td><td>1853.379</td><td>NA</td><td>NA</td><td>NA</td></tr>\n",
       "\t<tr><th scope=row>fit_penid</th><td>9</td><td>1871.379</td><td>1926.882</td><td>-926.6894</td><td>1853.379</td><td> 0</td><td> 1</td><td> 1</td></tr>\n",
       "</tbody>\n",
       "</table>\n"
      ],
      "text/latex": [
       "A anova: 2 × 8\n",
       "\\begin{tabular}{r|llllllll}\n",
       "  & Df & AIC & BIC & logLik & deviance & Chisq & Chi Df & Pr(>Chisq)\\\\\n",
       "  & <dbl> & <dbl> & <dbl> & <dbl> & <dbl> & <dbl> & <dbl> & <dbl>\\\\\n",
       "\\hline\n",
       "\tfit\\_nopenid & 8 & 1869.379 & 1918.715 & -926.6894 & 1853.379 & NA & NA & NA\\\\\n",
       "\tfit\\_penid & 9 & 1871.379 & 1926.882 & -926.6894 & 1853.379 &  0 &  1 &  1\\\\\n",
       "\\end{tabular}\n"
      ],
      "text/markdown": [
       "\n",
       "A anova: 2 × 8\n",
       "\n",
       "| <!--/--> | Df &lt;dbl&gt; | AIC &lt;dbl&gt; | BIC &lt;dbl&gt; | logLik &lt;dbl&gt; | deviance &lt;dbl&gt; | Chisq &lt;dbl&gt; | Chi Df &lt;dbl&gt; | Pr(&gt;Chisq) &lt;dbl&gt; |\n",
       "|---|---|---|---|---|---|---|---|---|\n",
       "| fit_nopenid | 8 | 1869.379 | 1918.715 | -926.6894 | 1853.379 | NA | NA | NA |\n",
       "| fit_penid | 9 | 1871.379 | 1926.882 | -926.6894 | 1853.379 |  0 |  1 |  1 |\n",
       "\n"
      ],
      "text/plain": [
       "            Df AIC      BIC      logLik    deviance Chisq Chi Df Pr(>Chisq)\n",
       "fit_nopenid 8  1869.379 1918.715 -926.6894 1853.379 NA    NA     NA        \n",
       "fit_penid   9  1871.379 1926.882 -926.6894 1853.379  0     1      1        "
      ]
     },
     "metadata": {},
     "output_type": "display_data"
    },
    {
     "data": {
      "text/plain": [
       " Family: binomial  ( logit )\n",
       "Formula:          \n",
       "stayedin_Z5 ~ CLASS + Treatment + rescale(DIB) + rescale(weight_interp) +  \n",
       "    rescale(nbr_h_per_day) + (1 | HenID)\n",
       "Data: df__\n",
       "\n",
       "     AIC      BIC   logLik deviance df.resid \n",
       "  1869.4   1918.7   -926.7   1853.4     3515 \n",
       "\n",
       "Random effects:\n",
       "\n",
       "Conditional model:\n",
       " Groups Name        Variance Std.Dev.\n",
       " HenID  (Intercept) 4.374    2.091   \n",
       "Number of obs: 3523, groups:  HenID, 140\n",
       "\n",
       "Conditional model:\n",
       "                       Estimate Std. Error z value Pr(>|z|)    \n",
       "(Intercept)            -4.35519    0.41757 -10.430  < 2e-16 ***\n",
       "CLASSLEXP               0.19643    0.52716   0.373 0.709428    \n",
       "CLASSMEXP              -0.36949    0.50951  -0.725 0.468331    \n",
       "TreatmentOFH            1.49051    0.43253   3.446 0.000569 ***\n",
       "rescale(DIB)           -1.33792    0.75518  -1.772 0.076452 .  \n",
       "rescale(weight_interp) -0.65868    0.61051  -1.079 0.280631    \n",
       "rescale(nbr_h_per_day) -0.06587    0.57694  -0.114 0.909102    \n",
       "---\n",
       "Signif. codes:  0 '***' 0.001 '**' 0.01 '*' 0.05 '.' 0.1 ' ' 1"
      ]
     },
     "metadata": {},
     "output_type": "display_data"
    },
    {
     "name": "stderr",
     "output_type": "stream",
     "text": [
      "Warning message in Matrix::sparseMatrix(dims = c(0, 0), i = integer(0), j = integer(0), :\n",
      "\"'giveCsparse' has been deprecated; setting 'repr = \"T\"' for you\"\n",
      "Warning message in Matrix::sparseMatrix(dims = c(0, 0), i = integer(0), j = integer(0), :\n",
      "\"'giveCsparse' has been deprecated; setting 'repr = \"T\"' for you\"\n",
      "Warning message in Matrix::sparseMatrix(dims = c(0, 0), i = integer(0), j = integer(0), :\n",
      "\"'giveCsparse' has been deprecated; setting 'repr = \"T\"' for you\"\n",
      "Warning message in Matrix::sparseMatrix(dims = c(0, 0), i = integer(0), j = integer(0), :\n",
      "\"'giveCsparse' has been deprecated; setting 'repr = \"T\"' for you\"\n",
      "Warning message in Matrix::sparseMatrix(dims = c(0, 0), i = integer(0), j = integer(0), :\n",
      "\"'giveCsparse' has been deprecated; setting 'repr = \"T\"' for you\"\n",
      "Warning message in Matrix::sparseMatrix(dims = c(0, 0), i = integer(0), j = integer(0), :\n",
      "\"'giveCsparse' has been deprecated; setting 'repr = \"T\"' for you\"\n"
     ]
    },
    {
     "data": {
      "image/png": "[encoded data removed]",
      "text/plain": [
       "Plot with title \"Residual vs. predicted\""
      ]
     },
     "metadata": {
      "image/png": {
       "height": 420,
       "width": 420
      }
     },
     "output_type": "display_data"
    },
    {
     "data": {
      "image/png": "[encoded data removed]",
      "text/plain": [
       "plot without title"
      ]
     },
     "metadata": {
      "image/png": {
       "height": 420,
       "width": 420
      }
     },
     "output_type": "display_data"
    }
   ],
   "source": [
    "#small check with binary if results are sensitive to binomial dsitrb. NOP :)\n",
    "df$stayedin_Z5 = as.integer(df$propindoor_duration_5_Zone_rs==0.99)\n",
    "head(df,3)\n",
    "df_ = df\n",
    "dim(df_)\n",
    "df__ = df_[df_$monthILB=='month1',]\n",
    "#drop factors not existing in this subdataframe\n",
    "df__$HenID = factor(df__$HenID) \n",
    "df__$PenID = factor(df__$PenID)\n",
    "df__$CLASS = factor(df__$CLASS) \n",
    "dim(df__[df__$stayedin_Z5==1,])\n",
    "fit_nopenid = glmmTMB(stayedin_Z5 ~  CLASS+ Treatment + rescale(DIB) + rescale(weight_interp)+ rescale(nbr_h_per_day)+(1|HenID), \n",
    "           data=df__, family=binomial)\n",
    "fit_penid = glmmTMB(stayedin_Z5 ~  CLASS+ Treatment + rescale(DIB) + rescale(weight_interp)+ rescale(nbr_h_per_day)+(1|PenID/HenID), \n",
    "           data=df__, family=binomial)\n",
    "anova(fit_nopenid,fit_penid)\n",
    "set.seed(0)\n",
    "summary(fit_nopenid)\n",
    "simulationOutput = simulateResiduals(fittedModel=fit_nopenid)\n",
    "plot(simulationOutput)\n",
    "plotResiduals(simulationOutput, form = df__$Treatment)"
   ]
  },
  {
   "cell_type": "markdown",
   "id": "d900f3b9",
   "metadata": {},
   "source": [
    "# mid_cum_Z4_h_Morning"
   ]
  },
  {
   "cell_type": "code",
   "execution_count": 57,
   "id": "76bfddd1",
   "metadata": {
    "scrolled": true
   },
   "outputs": [
    {
     "data": {
      "text/html": [
       "<style>\n",
       ".list-inline {list-style: none; margin:0; padding: 0}\n",
       ".list-inline>li {display: inline-block}\n",
       ".list-inline>li:not(:last-child)::after {content: \"\\00b7\"; padding: 0 .5ex}\n",
       "</style>\n",
       "<ol class=list-inline><li>37455</li><li>26</li></ol>\n"
      ],
      "text/latex": [
       "\\begin{enumerate*}\n",
       "\\item 37455\n",
       "\\item 26\n",
       "\\end{enumerate*}\n"
      ],
      "text/markdown": [
       "1. 37455\n",
       "2. 26\n",
       "\n",
       "\n"
      ],
      "text/plain": [
       "[1] 37455    26"
      ]
     },
     "metadata": {},
     "output_type": "display_data"
    },
    {
     "data": {
      "text/html": [
       "<style>\n",
       ".list-inline {list-style: none; margin:0; padding: 0}\n",
       ".list-inline>li {display: inline-block}\n",
       ".list-inline>li:not(:last-child)::after {content: \"\\00b7\"; padding: 0 .5ex}\n",
       "</style>\n",
       "<ol class=list-inline><li>33711</li><li>26</li></ol>\n"
      ],
      "text/latex": [
       "\\begin{enumerate*}\n",
       "\\item 33711\n",
       "\\item 26\n",
       "\\end{enumerate*}\n"
      ],
      "text/markdown": [
       "1. 33711\n",
       "2. 26\n",
       "\n",
       "\n"
      ],
      "text/plain": [
       "[1] 33711    26"
      ]
     },
     "metadata": {},
     "output_type": "display_data"
    },
    {
     "name": "stdout",
     "output_type": "stream",
     "text": [
      "[1] \"month2\"\n"
     ]
    },
    {
     "name": "stderr",
     "output_type": "stream",
     "text": [
      "Warning message in Matrix::sparseMatrix(dims = c(0, 0), i = integer(0), j = integer(0), :\n",
      "\"'giveCsparse' has been deprecated; setting 'repr = \"T\"' for you\"\n",
      "Warning message in Matrix::sparseMatrix(dims = c(0, 0), i = integer(0), j = integer(0), :\n",
      "\"'giveCsparse' has been deprecated; setting 'repr = \"T\"' for you\"\n",
      "Warning message in Matrix::sparseMatrix(dims = c(0, 0), i = integer(0), j = integer(0), :\n",
      "\"'giveCsparse' has been deprecated; setting 'repr = \"T\"' for you\"\n",
      "Warning message in Matrix::sparseMatrix(dims = c(0, 0), i = integer(0), j = integer(0), :\n",
      "\"'giveCsparse' has been deprecated; setting 'repr = \"T\"' for you\"\n",
      "Warning message in Matrix::sparseMatrix(dims = c(0, 0), i = integer(0), j = integer(0), :\n",
      "\"'giveCsparse' has been deprecated; setting 'repr = \"T\"' for you\"\n",
      "Warning message in Matrix::sparseMatrix(dims = c(0, 0), i = integer(0), j = integer(0), :\n",
      "\"'giveCsparse' has been deprecated; setting 'repr = \"T\"' for you\"\n"
     ]
    },
    {
     "name": "stdout",
     "output_type": "stream",
     "text": [
      "Data: df__\n",
      "Models:\n",
      "fit_nopenid: mid_cum_Z4_h_Morning ~ CLASS + Treatment + rescale(DIB) + rescale(weight_interp) + , zi=~0, disp=~1\n",
      "fit_nopenid:     rescale(nbr_h_per_day) + (1 | HenID), zi=~0, disp=~1\n",
      "fit_penid: mid_cum_Z4_h_Morning ~ CLASS + Treatment + rescale(DIB) + rescale(weight_interp) + , zi=~0, disp=~1\n",
      "fit_penid:     rescale(nbr_h_per_day) + (1 | PenID/HenID), zi=~0, disp=~1\n",
      "            Df   AIC   BIC  logLik deviance Chisq Chi Df Pr(>Chisq)\n",
      "fit_nopenid  9 10117 10174 -5049.7    10099                        \n",
      "fit_penid   10 10119 10182 -5049.7    10099     0      1          1\n"
     ]
    },
    {
     "name": "stderr",
     "output_type": "stream",
     "text": [
      "Warning message in Matrix::sparseMatrix(dims = c(0, 0), i = integer(0), j = integer(0), :\n",
      "\"'giveCsparse' has been deprecated; setting 'repr = \"T\"' for you\"\n",
      "Warning message in Matrix::sparseMatrix(dims = c(0, 0), i = integer(0), j = integer(0), :\n",
      "\"'giveCsparse' has been deprecated; setting 'repr = \"T\"' for you\"\n",
      "Warning message in Matrix::sparseMatrix(dims = c(0, 0), i = integer(0), j = integer(0), :\n",
      "\"'giveCsparse' has been deprecated; setting 'repr = \"T\"' for you\"\n",
      "Warning message in Matrix::sparseMatrix(dims = c(0, 0), i = integer(0), j = integer(0), :\n",
      "\"'giveCsparse' has been deprecated; setting 'repr = \"T\"' for you\"\n",
      "Warning message in Matrix::sparseMatrix(dims = c(0, 0), i = integer(0), j = integer(0), :\n",
      "\"'giveCsparse' has been deprecated; setting 'repr = \"T\"' for you\"\n",
      "Warning message in Matrix::sparseMatrix(dims = c(0, 0), i = integer(0), j = integer(0), :\n",
      "\"'giveCsparse' has been deprecated; setting 'repr = \"T\"' for you\"\n"
     ]
    },
    {
     "name": "stdout",
     "output_type": "stream",
     "text": [
      "NULL\n",
      "NULL\n",
      "[1] \"month3\"\n"
     ]
    },
    {
     "name": "stderr",
     "output_type": "stream",
     "text": [
      "Warning message in Matrix::sparseMatrix(dims = c(0, 0), i = integer(0), j = integer(0), :\n",
      "\"'giveCsparse' has been deprecated; setting 'repr = \"T\"' for you\"\n",
      "Warning message in Matrix::sparseMatrix(dims = c(0, 0), i = integer(0), j = integer(0), :\n",
      "\"'giveCsparse' has been deprecated; setting 'repr = \"T\"' for you\"\n",
      "Warning message in Matrix::sparseMatrix(dims = c(0, 0), i = integer(0), j = integer(0), :\n",
      "\"'giveCsparse' has been deprecated; setting 'repr = \"T\"' for you\"\n",
      "Warning message in Matrix::sparseMatrix(dims = c(0, 0), i = integer(0), j = integer(0), :\n",
      "\"'giveCsparse' has been deprecated; setting 'repr = \"T\"' for you\"\n",
      "Warning message in Matrix::sparseMatrix(dims = c(0, 0), i = integer(0), j = integer(0), :\n",
      "\"'giveCsparse' has been deprecated; setting 'repr = \"T\"' for you\"\n",
      "Warning message in Matrix::sparseMatrix(dims = c(0, 0), i = integer(0), j = integer(0), :\n",
      "\"'giveCsparse' has been deprecated; setting 'repr = \"T\"' for you\"\n"
     ]
    },
    {
     "name": "stdout",
     "output_type": "stream",
     "text": [
      "Data: df__\n",
      "Models:\n",
      "fit_nopenid: mid_cum_Z4_h_Morning ~ CLASS + Treatment + rescale(DIB) + rescale(weight_interp) + , zi=~0, disp=~1\n",
      "fit_nopenid:     rescale(KBF_interp) + (1 | HenID), zi=~0, disp=~1\n",
      "fit_penid: mid_cum_Z4_h_Morning ~ CLASS + Treatment + rescale(DIB) + rescale(weight_interp) + , zi=~0, disp=~1\n",
      "fit_penid:     rescale(KBF_interp) + (1 | PenID/HenID), zi=~0, disp=~1\n",
      "            Df    AIC    BIC  logLik deviance Chisq Chi Df Pr(>Chisq)\n",
      "fit_nopenid  9 7807.4 7865.0 -3894.7   7789.4                        \n",
      "fit_penid   10 7809.4 7873.4 -3894.7   7789.4     0      1          1\n"
     ]
    },
    {
     "name": "stderr",
     "output_type": "stream",
     "text": [
      "Warning message in Matrix::sparseMatrix(dims = c(0, 0), i = integer(0), j = integer(0), :\n",
      "\"'giveCsparse' has been deprecated; setting 'repr = \"T\"' for you\"\n",
      "Warning message in Matrix::sparseMatrix(dims = c(0, 0), i = integer(0), j = integer(0), :\n",
      "\"'giveCsparse' has been deprecated; setting 'repr = \"T\"' for you\"\n",
      "Warning message in Matrix::sparseMatrix(dims = c(0, 0), i = integer(0), j = integer(0), :\n",
      "\"'giveCsparse' has been deprecated; setting 'repr = \"T\"' for you\"\n",
      "Warning message in Matrix::sparseMatrix(dims = c(0, 0), i = integer(0), j = integer(0), :\n",
      "\"'giveCsparse' has been deprecated; setting 'repr = \"T\"' for you\"\n",
      "Warning message in Matrix::sparseMatrix(dims = c(0, 0), i = integer(0), j = integer(0), :\n",
      "\"'giveCsparse' has been deprecated; setting 'repr = \"T\"' for you\"\n",
      "Warning message in Matrix::sparseMatrix(dims = c(0, 0), i = integer(0), j = integer(0), :\n",
      "\"'giveCsparse' has been deprecated; setting 'repr = \"T\"' for you\"\n"
     ]
    },
    {
     "name": "stdout",
     "output_type": "stream",
     "text": [
      "NULL\n",
      "NULL\n",
      "[1] \"month4\"\n"
     ]
    },
    {
     "name": "stderr",
     "output_type": "stream",
     "text": [
      "Warning message in Matrix::sparseMatrix(dims = c(0, 0), i = integer(0), j = integer(0), :\n",
      "\"'giveCsparse' has been deprecated; setting 'repr = \"T\"' for you\"\n",
      "Warning message in Matrix::sparseMatrix(dims = c(0, 0), i = integer(0), j = integer(0), :\n",
      "\"'giveCsparse' has been deprecated; setting 'repr = \"T\"' for you\"\n",
      "Warning message in Matrix::sparseMatrix(dims = c(0, 0), i = integer(0), j = integer(0), :\n",
      "\"'giveCsparse' has been deprecated; setting 'repr = \"T\"' for you\"\n",
      "Warning message in Matrix::sparseMatrix(dims = c(0, 0), i = integer(0), j = integer(0), :\n",
      "\"'giveCsparse' has been deprecated; setting 'repr = \"T\"' for you\"\n",
      "Warning message in Matrix::sparseMatrix(dims = c(0, 0), i = integer(0), j = integer(0), :\n",
      "\"'giveCsparse' has been deprecated; setting 'repr = \"T\"' for you\"\n",
      "Warning message in Matrix::sparseMatrix(dims = c(0, 0), i = integer(0), j = integer(0), :\n",
      "\"'giveCsparse' has been deprecated; setting 'repr = \"T\"' for you\"\n"
     ]
    },
    {
     "name": "stdout",
     "output_type": "stream",
     "text": [
      "Data: df__\n",
      "Models:\n",
      "fit_nopenid: mid_cum_Z4_h_Morning ~ CLASS + Treatment + rescale(DIB) + rescale(weight_interp) + , zi=~0, disp=~1\n",
      "fit_nopenid:     rescale(KBF_interp) + (1 | HenID), zi=~0, disp=~1\n",
      "fit_penid: mid_cum_Z4_h_Morning ~ CLASS + Treatment + rescale(DIB) + rescale(weight_interp) + , zi=~0, disp=~1\n",
      "fit_penid:     rescale(KBF_interp) + (1 | PenID/HenID), zi=~0, disp=~1\n",
      "            Df    AIC    BIC  logLik deviance Chisq Chi Df Pr(>Chisq)\n",
      "fit_nopenid  9 6984.4 7040.2 -3483.2   6966.4                        \n",
      "fit_penid   10 6986.4 7048.4 -3483.2   6966.4     0      1          1\n"
     ]
    },
    {
     "name": "stderr",
     "output_type": "stream",
     "text": [
      "Warning message in Matrix::sparseMatrix(dims = c(0, 0), i = integer(0), j = integer(0), :\n",
      "\"'giveCsparse' has been deprecated; setting 'repr = \"T\"' for you\"\n",
      "Warning message in Matrix::sparseMatrix(dims = c(0, 0), i = integer(0), j = integer(0), :\n",
      "\"'giveCsparse' has been deprecated; setting 'repr = \"T\"' for you\"\n",
      "Warning message in Matrix::sparseMatrix(dims = c(0, 0), i = integer(0), j = integer(0), :\n",
      "\"'giveCsparse' has been deprecated; setting 'repr = \"T\"' for you\"\n",
      "Warning message in Matrix::sparseMatrix(dims = c(0, 0), i = integer(0), j = integer(0), :\n",
      "\"'giveCsparse' has been deprecated; setting 'repr = \"T\"' for you\"\n",
      "Warning message in Matrix::sparseMatrix(dims = c(0, 0), i = integer(0), j = integer(0), :\n",
      "\"'giveCsparse' has been deprecated; setting 'repr = \"T\"' for you\"\n",
      "Warning message in Matrix::sparseMatrix(dims = c(0, 0), i = integer(0), j = integer(0), :\n",
      "\"'giveCsparse' has been deprecated; setting 'repr = \"T\"' for you\"\n"
     ]
    },
    {
     "name": "stdout",
     "output_type": "stream",
     "text": [
      "NULL\n",
      "NULL\n",
      "[1] \"month5\"\n"
     ]
    },
    {
     "name": "stderr",
     "output_type": "stream",
     "text": [
      "Warning message in Matrix::sparseMatrix(dims = c(0, 0), i = integer(0), j = integer(0), :\n",
      "\"'giveCsparse' has been deprecated; setting 'repr = \"T\"' for you\"\n",
      "Warning message in Matrix::sparseMatrix(dims = c(0, 0), i = integer(0), j = integer(0), :\n",
      "\"'giveCsparse' has been deprecated; setting 'repr = \"T\"' for you\"\n",
      "Warning message in Matrix::sparseMatrix(dims = c(0, 0), i = integer(0), j = integer(0), :\n",
      "\"'giveCsparse' has been deprecated; setting 'repr = \"T\"' for you\"\n",
      "Warning message in Matrix::sparseMatrix(dims = c(0, 0), i = integer(0), j = integer(0), :\n",
      "\"'giveCsparse' has been deprecated; setting 'repr = \"T\"' for you\"\n",
      "Warning message in Matrix::sparseMatrix(dims = c(0, 0), i = integer(0), j = integer(0), :\n",
      "\"'giveCsparse' has been deprecated; setting 'repr = \"T\"' for you\"\n",
      "Warning message in Matrix::sparseMatrix(dims = c(0, 0), i = integer(0), j = integer(0), :\n",
      "\"'giveCsparse' has been deprecated; setting 'repr = \"T\"' for you\"\n"
     ]
    },
    {
     "name": "stdout",
     "output_type": "stream",
     "text": [
      "Data: df__\n",
      "Models:\n",
      "fit_nopenid: mid_cum_Z4_h_Morning ~ CLASS + Treatment + rescale(DIB) + rescale(weight_interp) + , zi=~0, disp=~1\n",
      "fit_nopenid:     rescale(KBF_interp) + (1 | HenID), zi=~0, disp=~1\n",
      "fit_penid: mid_cum_Z4_h_Morning ~ CLASS + Treatment + rescale(DIB) + rescale(weight_interp) + , zi=~0, disp=~1\n",
      "fit_penid:     rescale(KBF_interp) + (1 | PenID/HenID), zi=~0, disp=~1\n",
      "            Df    AIC    BIC  logLik deviance  Chisq Chi Df Pr(>Chisq)\n",
      "fit_nopenid  9 6311.4 6367.7 -3146.7   6293.4                         \n",
      "fit_penid   10 6313.1 6375.7 -3146.6   6293.1 0.2474      1     0.6189\n"
     ]
    },
    {
     "name": "stderr",
     "output_type": "stream",
     "text": [
      "Warning message in Matrix::sparseMatrix(dims = c(0, 0), i = integer(0), j = integer(0), :\n",
      "\"'giveCsparse' has been deprecated; setting 'repr = \"T\"' for you\"\n",
      "Warning message in Matrix::sparseMatrix(dims = c(0, 0), i = integer(0), j = integer(0), :\n",
      "\"'giveCsparse' has been deprecated; setting 'repr = \"T\"' for you\"\n",
      "Warning message in Matrix::sparseMatrix(dims = c(0, 0), i = integer(0), j = integer(0), :\n",
      "\"'giveCsparse' has been deprecated; setting 'repr = \"T\"' for you\"\n",
      "Warning message in Matrix::sparseMatrix(dims = c(0, 0), i = integer(0), j = integer(0), :\n",
      "\"'giveCsparse' has been deprecated; setting 'repr = \"T\"' for you\"\n",
      "Warning message in Matrix::sparseMatrix(dims = c(0, 0), i = integer(0), j = integer(0), :\n",
      "\"'giveCsparse' has been deprecated; setting 'repr = \"T\"' for you\"\n",
      "Warning message in Matrix::sparseMatrix(dims = c(0, 0), i = integer(0), j = integer(0), :\n",
      "\"'giveCsparse' has been deprecated; setting 'repr = \"T\"' for you\"\n"
     ]
    },
    {
     "name": "stdout",
     "output_type": "stream",
     "text": [
      "NULL\n",
      "NULL\n",
      "[1] \"month6\"\n"
     ]
    },
    {
     "name": "stderr",
     "output_type": "stream",
     "text": [
      "Warning message in Matrix::sparseMatrix(dims = c(0, 0), i = integer(0), j = integer(0), :\n",
      "\"'giveCsparse' has been deprecated; setting 'repr = \"T\"' for you\"\n",
      "Warning message in Matrix::sparseMatrix(dims = c(0, 0), i = integer(0), j = integer(0), :\n",
      "\"'giveCsparse' has been deprecated; setting 'repr = \"T\"' for you\"\n",
      "Warning message in Matrix::sparseMatrix(dims = c(0, 0), i = integer(0), j = integer(0), :\n",
      "\"'giveCsparse' has been deprecated; setting 'repr = \"T\"' for you\"\n",
      "Warning message in Matrix::sparseMatrix(dims = c(0, 0), i = integer(0), j = integer(0), :\n",
      "\"'giveCsparse' has been deprecated; setting 'repr = \"T\"' for you\"\n",
      "Warning message in Matrix::sparseMatrix(dims = c(0, 0), i = integer(0), j = integer(0), :\n",
      "\"'giveCsparse' has been deprecated; setting 'repr = \"T\"' for you\"\n",
      "Warning message in Matrix::sparseMatrix(dims = c(0, 0), i = integer(0), j = integer(0), :\n",
      "\"'giveCsparse' has been deprecated; setting 'repr = \"T\"' for you\"\n"
     ]
    },
    {
     "name": "stdout",
     "output_type": "stream",
     "text": [
      "Data: df__\n",
      "Models:\n",
      "fit_nopenid: mid_cum_Z4_h_Morning ~ CLASS + Treatment + rescale(DIB) + rescale(weight_interp) + , zi=~0, disp=~1\n",
      "fit_nopenid:     rescale(KBF_interp) + (1 | HenID), zi=~0, disp=~1\n",
      "fit_penid: mid_cum_Z4_h_Morning ~ CLASS + Treatment + rescale(DIB) + rescale(weight_interp) + , zi=~0, disp=~1\n",
      "fit_penid:     rescale(KBF_interp) + (1 | PenID/HenID), zi=~0, disp=~1\n",
      "            Df    AIC    BIC  logLik deviance Chisq Chi Df Pr(>Chisq)\n",
      "fit_nopenid  9 8075.9 8133.0 -4028.9   8057.9                        \n",
      "fit_penid   10 8077.9 8141.3 -4028.9   8057.9     0      1          1\n"
     ]
    },
    {
     "name": "stderr",
     "output_type": "stream",
     "text": [
      "Warning message in Matrix::sparseMatrix(dims = c(0, 0), i = integer(0), j = integer(0), :\n",
      "\"'giveCsparse' has been deprecated; setting 'repr = \"T\"' for you\"\n",
      "Warning message in Matrix::sparseMatrix(dims = c(0, 0), i = integer(0), j = integer(0), :\n",
      "\"'giveCsparse' has been deprecated; setting 'repr = \"T\"' for you\"\n",
      "Warning message in Matrix::sparseMatrix(dims = c(0, 0), i = integer(0), j = integer(0), :\n",
      "\"'giveCsparse' has been deprecated; setting 'repr = \"T\"' for you\"\n",
      "Warning message in Matrix::sparseMatrix(dims = c(0, 0), i = integer(0), j = integer(0), :\n",
      "\"'giveCsparse' has been deprecated; setting 'repr = \"T\"' for you\"\n",
      "Warning message in Matrix::sparseMatrix(dims = c(0, 0), i = integer(0), j = integer(0), :\n",
      "\"'giveCsparse' has been deprecated; setting 'repr = \"T\"' for you\"\n",
      "Warning message in Matrix::sparseMatrix(dims = c(0, 0), i = integer(0), j = integer(0), :\n",
      "\"'giveCsparse' has been deprecated; setting 'repr = \"T\"' for you\"\n"
     ]
    },
    {
     "name": "stdout",
     "output_type": "stream",
     "text": [
      "NULL\n",
      "NULL\n",
      "[1] \"month7\"\n"
     ]
    },
    {
     "name": "stderr",
     "output_type": "stream",
     "text": [
      "Warning message in Matrix::sparseMatrix(dims = c(0, 0), i = integer(0), j = integer(0), :\n",
      "\"'giveCsparse' has been deprecated; setting 'repr = \"T\"' for you\"\n",
      "Warning message in Matrix::sparseMatrix(dims = c(0, 0), i = integer(0), j = integer(0), :\n",
      "\"'giveCsparse' has been deprecated; setting 'repr = \"T\"' for you\"\n",
      "Warning message in Matrix::sparseMatrix(dims = c(0, 0), i = integer(0), j = integer(0), :\n",
      "\"'giveCsparse' has been deprecated; setting 'repr = \"T\"' for you\"\n",
      "Warning message in Matrix::sparseMatrix(dims = c(0, 0), i = integer(0), j = integer(0), :\n",
      "\"'giveCsparse' has been deprecated; setting 'repr = \"T\"' for you\"\n",
      "Warning message in Matrix::sparseMatrix(dims = c(0, 0), i = integer(0), j = integer(0), :\n",
      "\"'giveCsparse' has been deprecated; setting 'repr = \"T\"' for you\"\n",
      "Warning message in Matrix::sparseMatrix(dims = c(0, 0), i = integer(0), j = integer(0), :\n",
      "\"'giveCsparse' has been deprecated; setting 'repr = \"T\"' for you\"\n"
     ]
    },
    {
     "name": "stdout",
     "output_type": "stream",
     "text": [
      "Data: df__\n",
      "Models:\n",
      "fit_nopenid: mid_cum_Z4_h_Morning ~ CLASS + Treatment + rescale(DIB) + rescale(weight_interp) + , zi=~0, disp=~1\n",
      "fit_nopenid:     rescale(KBF_interp) + (1 | HenID), zi=~0, disp=~1\n",
      "fit_penid: mid_cum_Z4_h_Morning ~ CLASS + Treatment + rescale(DIB) + rescale(weight_interp) + , zi=~0, disp=~1\n",
      "fit_penid:     rescale(KBF_interp) + (1 | PenID/HenID), zi=~0, disp=~1\n",
      "            Df    AIC    BIC  logLik deviance  Chisq Chi Df Pr(>Chisq)\n",
      "fit_nopenid  9 7680.4 7737.2 -3831.2   7662.4                         \n",
      "fit_penid   10 7681.6 7744.8 -3830.8   7661.6 0.7342      1     0.3915\n"
     ]
    },
    {
     "name": "stderr",
     "output_type": "stream",
     "text": [
      "Warning message in Matrix::sparseMatrix(dims = c(0, 0), i = integer(0), j = integer(0), :\n",
      "\"'giveCsparse' has been deprecated; setting 'repr = \"T\"' for you\"\n",
      "Warning message in Matrix::sparseMatrix(dims = c(0, 0), i = integer(0), j = integer(0), :\n",
      "\"'giveCsparse' has been deprecated; setting 'repr = \"T\"' for you\"\n",
      "Warning message in Matrix::sparseMatrix(dims = c(0, 0), i = integer(0), j = integer(0), :\n",
      "\"'giveCsparse' has been deprecated; setting 'repr = \"T\"' for you\"\n",
      "Warning message in Matrix::sparseMatrix(dims = c(0, 0), i = integer(0), j = integer(0), :\n",
      "\"'giveCsparse' has been deprecated; setting 'repr = \"T\"' for you\"\n",
      "Warning message in Matrix::sparseMatrix(dims = c(0, 0), i = integer(0), j = integer(0), :\n",
      "\"'giveCsparse' has been deprecated; setting 'repr = \"T\"' for you\"\n",
      "Warning message in Matrix::sparseMatrix(dims = c(0, 0), i = integer(0), j = integer(0), :\n",
      "\"'giveCsparse' has been deprecated; setting 'repr = \"T\"' for you\"\n"
     ]
    },
    {
     "name": "stdout",
     "output_type": "stream",
     "text": [
      "NULL\n",
      "NULL\n",
      "[1] \"month8\"\n"
     ]
    },
    {
     "name": "stderr",
     "output_type": "stream",
     "text": [
      "Warning message in Matrix::sparseMatrix(dims = c(0, 0), i = integer(0), j = integer(0), :\n",
      "\"'giveCsparse' has been deprecated; setting 'repr = \"T\"' for you\"\n",
      "Warning message in Matrix::sparseMatrix(dims = c(0, 0), i = integer(0), j = integer(0), :\n",
      "\"'giveCsparse' has been deprecated; setting 'repr = \"T\"' for you\"\n",
      "Warning message in Matrix::sparseMatrix(dims = c(0, 0), i = integer(0), j = integer(0), :\n",
      "\"'giveCsparse' has been deprecated; setting 'repr = \"T\"' for you\"\n",
      "Warning message in Matrix::sparseMatrix(dims = c(0, 0), i = integer(0), j = integer(0), :\n",
      "\"'giveCsparse' has been deprecated; setting 'repr = \"T\"' for you\"\n",
      "Warning message in Matrix::sparseMatrix(dims = c(0, 0), i = integer(0), j = integer(0), :\n",
      "\"'giveCsparse' has been deprecated; setting 'repr = \"T\"' for you\"\n",
      "Warning message in Matrix::sparseMatrix(dims = c(0, 0), i = integer(0), j = integer(0), :\n",
      "\"'giveCsparse' has been deprecated; setting 'repr = \"T\"' for you\"\n"
     ]
    },
    {
     "name": "stdout",
     "output_type": "stream",
     "text": [
      "Data: df__\n",
      "Models:\n",
      "fit_nopenid: mid_cum_Z4_h_Morning ~ CLASS + Treatment + rescale(DIB) + rescale(weight_interp) + , zi=~0, disp=~1\n",
      "fit_nopenid:     rescale(KBF_interp) + (1 | HenID), zi=~0, disp=~1\n",
      "fit_penid: mid_cum_Z4_h_Morning ~ CLASS + Treatment + rescale(DIB) + rescale(weight_interp) + , zi=~0, disp=~1\n",
      "fit_penid:     rescale(KBF_interp) + (1 | PenID/HenID), zi=~0, disp=~1\n",
      "            Df    AIC    BIC  logLik deviance Chisq Chi Df Pr(>Chisq)\n",
      "fit_nopenid  9 8882.3 8940.1 -4432.1   8864.3                        \n",
      "fit_penid   10 8884.3 8948.5 -4432.1   8864.3     0      1          1\n"
     ]
    },
    {
     "name": "stderr",
     "output_type": "stream",
     "text": [
      "Warning message in Matrix::sparseMatrix(dims = c(0, 0), i = integer(0), j = integer(0), :\n",
      "\"'giveCsparse' has been deprecated; setting 'repr = \"T\"' for you\"\n",
      "Warning message in Matrix::sparseMatrix(dims = c(0, 0), i = integer(0), j = integer(0), :\n",
      "\"'giveCsparse' has been deprecated; setting 'repr = \"T\"' for you\"\n",
      "Warning message in Matrix::sparseMatrix(dims = c(0, 0), i = integer(0), j = integer(0), :\n",
      "\"'giveCsparse' has been deprecated; setting 'repr = \"T\"' for you\"\n",
      "Warning message in Matrix::sparseMatrix(dims = c(0, 0), i = integer(0), j = integer(0), :\n",
      "\"'giveCsparse' has been deprecated; setting 'repr = \"T\"' for you\"\n",
      "Warning message in Matrix::sparseMatrix(dims = c(0, 0), i = integer(0), j = integer(0), :\n",
      "\"'giveCsparse' has been deprecated; setting 'repr = \"T\"' for you\"\n",
      "Warning message in Matrix::sparseMatrix(dims = c(0, 0), i = integer(0), j = integer(0), :\n",
      "\"'giveCsparse' has been deprecated; setting 'repr = \"T\"' for you\"\n"
     ]
    },
    {
     "name": "stdout",
     "output_type": "stream",
     "text": [
      "NULL\n",
      "NULL\n",
      "[1] \"month9\"\n"
     ]
    },
    {
     "name": "stderr",
     "output_type": "stream",
     "text": [
      "Warning message in Matrix::sparseMatrix(dims = c(0, 0), i = integer(0), j = integer(0), :\n",
      "\"'giveCsparse' has been deprecated; setting 'repr = \"T\"' for you\"\n",
      "Warning message in Matrix::sparseMatrix(dims = c(0, 0), i = integer(0), j = integer(0), :\n",
      "\"'giveCsparse' has been deprecated; setting 'repr = \"T\"' for you\"\n",
      "Warning message in Matrix::sparseMatrix(dims = c(0, 0), i = integer(0), j = integer(0), :\n",
      "\"'giveCsparse' has been deprecated; setting 'repr = \"T\"' for you\"\n",
      "Warning message in Matrix::sparseMatrix(dims = c(0, 0), i = integer(0), j = integer(0), :\n",
      "\"'giveCsparse' has been deprecated; setting 'repr = \"T\"' for you\"\n",
      "Warning message in Matrix::sparseMatrix(dims = c(0, 0), i = integer(0), j = integer(0), :\n",
      "\"'giveCsparse' has been deprecated; setting 'repr = \"T\"' for you\"\n",
      "Warning message in Matrix::sparseMatrix(dims = c(0, 0), i = integer(0), j = integer(0), :\n",
      "\"'giveCsparse' has been deprecated; setting 'repr = \"T\"' for you\"\n"
     ]
    },
    {
     "name": "stdout",
     "output_type": "stream",
     "text": [
      "Data: df__\n",
      "Models:\n",
      "fit_nopenid: mid_cum_Z4_h_Morning ~ CLASS + Treatment + rescale(DIB) + rescale(weight_interp) + , zi=~0, disp=~1\n",
      "fit_nopenid:     rescale(KBF_interp) + (1 | HenID), zi=~0, disp=~1\n",
      "fit_penid: mid_cum_Z4_h_Morning ~ CLASS + Treatment + rescale(DIB) + rescale(weight_interp) + , zi=~0, disp=~1\n",
      "fit_penid:     rescale(KBF_interp) + (1 | PenID/HenID), zi=~0, disp=~1\n",
      "            Df    AIC    BIC  logLik deviance Chisq Chi Df Pr(>Chisq)\n",
      "fit_nopenid  9 2991.2 3040.9 -1486.6   2973.2                        \n",
      "fit_penid   10 2993.2 3048.4 -1486.6   2973.2     0      1          1\n"
     ]
    },
    {
     "name": "stderr",
     "output_type": "stream",
     "text": [
      "Warning message in Matrix::sparseMatrix(dims = c(0, 0), i = integer(0), j = integer(0), :\n",
      "\"'giveCsparse' has been deprecated; setting 'repr = \"T\"' for you\"\n",
      "Warning message in Matrix::sparseMatrix(dims = c(0, 0), i = integer(0), j = integer(0), :\n",
      "\"'giveCsparse' has been deprecated; setting 'repr = \"T\"' for you\"\n",
      "Warning message in Matrix::sparseMatrix(dims = c(0, 0), i = integer(0), j = integer(0), :\n",
      "\"'giveCsparse' has been deprecated; setting 'repr = \"T\"' for you\"\n",
      "Warning message in Matrix::sparseMatrix(dims = c(0, 0), i = integer(0), j = integer(0), :\n",
      "\"'giveCsparse' has been deprecated; setting 'repr = \"T\"' for you\"\n",
      "Warning message in Matrix::sparseMatrix(dims = c(0, 0), i = integer(0), j = integer(0), :\n",
      "\"'giveCsparse' has been deprecated; setting 'repr = \"T\"' for you\"\n",
      "Warning message in Matrix::sparseMatrix(dims = c(0, 0), i = integer(0), j = integer(0), :\n",
      "\"'giveCsparse' has been deprecated; setting 'repr = \"T\"' for you\"\n"
     ]
    },
    {
     "name": "stdout",
     "output_type": "stream",
     "text": [
      "NULL\n",
      "NULL\n",
      "[1] \"month10\"\n"
     ]
    },
    {
     "name": "stderr",
     "output_type": "stream",
     "text": [
      "Warning message in Matrix::sparseMatrix(dims = c(0, 0), i = integer(0), j = integer(0), :\n",
      "\"'giveCsparse' has been deprecated; setting 'repr = \"T\"' for you\"\n",
      "Warning message in Matrix::sparseMatrix(dims = c(0, 0), i = integer(0), j = integer(0), :\n",
      "\"'giveCsparse' has been deprecated; setting 'repr = \"T\"' for you\"\n",
      "Warning message in Matrix::sparseMatrix(dims = c(0, 0), i = integer(0), j = integer(0), :\n",
      "\"'giveCsparse' has been deprecated; setting 'repr = \"T\"' for you\"\n",
      "Warning message in Matrix::sparseMatrix(dims = c(0, 0), i = integer(0), j = integer(0), :\n",
      "\"'giveCsparse' has been deprecated; setting 'repr = \"T\"' for you\"\n",
      "Warning message in Matrix::sparseMatrix(dims = c(0, 0), i = integer(0), j = integer(0), :\n",
      "\"'giveCsparse' has been deprecated; setting 'repr = \"T\"' for you\"\n",
      "Warning message in Matrix::sparseMatrix(dims = c(0, 0), i = integer(0), j = integer(0), :\n",
      "\"'giveCsparse' has been deprecated; setting 'repr = \"T\"' for you\"\n"
     ]
    },
    {
     "name": "stdout",
     "output_type": "stream",
     "text": [
      "Data: df__\n",
      "Models:\n",
      "fit_nopenid: mid_cum_Z4_h_Morning ~ CLASS + Treatment + rescale(DIB) + rescale(weight_interp) + , zi=~0, disp=~1\n",
      "fit_nopenid:     rescale(KBF_interp) + (1 | HenID), zi=~0, disp=~1\n",
      "fit_penid: mid_cum_Z4_h_Morning ~ CLASS + Treatment + rescale(DIB) + rescale(weight_interp) + , zi=~0, disp=~1\n",
      "fit_penid:     rescale(KBF_interp) + (1 | PenID/HenID), zi=~0, disp=~1\n",
      "            Df    AIC    BIC  logLik deviance Chisq Chi Df Pr(>Chisq)\n",
      "fit_nopenid  9 7378.7 7433.1 -3680.3   7360.7                        \n",
      "fit_penid   10 7380.7 7441.1 -3680.3   7360.7     0      1          1\n"
     ]
    },
    {
     "name": "stderr",
     "output_type": "stream",
     "text": [
      "Warning message in Matrix::sparseMatrix(dims = c(0, 0), i = integer(0), j = integer(0), :\n",
      "\"'giveCsparse' has been deprecated; setting 'repr = \"T\"' for you\"\n",
      "Warning message in Matrix::sparseMatrix(dims = c(0, 0), i = integer(0), j = integer(0), :\n",
      "\"'giveCsparse' has been deprecated; setting 'repr = \"T\"' for you\"\n",
      "Warning message in Matrix::sparseMatrix(dims = c(0, 0), i = integer(0), j = integer(0), :\n",
      "\"'giveCsparse' has been deprecated; setting 'repr = \"T\"' for you\"\n",
      "Warning message in Matrix::sparseMatrix(dims = c(0, 0), i = integer(0), j = integer(0), :\n",
      "\"'giveCsparse' has been deprecated; setting 'repr = \"T\"' for you\"\n",
      "Warning message in Matrix::sparseMatrix(dims = c(0, 0), i = integer(0), j = integer(0), :\n",
      "\"'giveCsparse' has been deprecated; setting 'repr = \"T\"' for you\"\n",
      "Warning message in Matrix::sparseMatrix(dims = c(0, 0), i = integer(0), j = integer(0), :\n",
      "\"'giveCsparse' has been deprecated; setting 'repr = \"T\"' for you\"\n"
     ]
    },
    {
     "name": "stdout",
     "output_type": "stream",
     "text": [
      "NULL\n",
      "NULL\n"
     ]
    },
    {
     "name": "stderr",
     "output_type": "stream",
     "text": [
      "Warning message in confint.glmmTMB(x, method = tolower(conf.method), level = conf.level, :\n",
      "\"extra arguments ignored:  intervals, prob\"\n",
      "Warning message in confint.glmmTMB(x, parm = thpar, method = conf.method, level = conf.level, :\n",
      "\"extra arguments ignored:  intervals, prob\"\n",
      "Warning message in confint.glmmTMB(x, method = tolower(conf.method), level = conf.level, :\n",
      "\"extra arguments ignored:  intervals, prob\"\n",
      "Warning message in confint.glmmTMB(x, parm = thpar, method = conf.method, level = conf.level, :\n",
      "\"extra arguments ignored:  intervals, prob\"\n",
      "Warning message in confint.glmmTMB(x, method = tolower(conf.method), level = conf.level, :\n",
      "\"extra arguments ignored:  intervals, prob\"\n",
      "Warning message in confint.glmmTMB(x, parm = thpar, method = conf.method, level = conf.level, :\n",
      "\"extra arguments ignored:  intervals, prob\"\n",
      "Warning message in confint.glmmTMB(x, method = tolower(conf.method), level = conf.level, :\n",
      "\"extra arguments ignored:  intervals, prob\"\n",
      "Warning message in confint.glmmTMB(x, parm = thpar, method = conf.method, level = conf.level, :\n",
      "\"extra arguments ignored:  intervals, prob\"\n",
      "Warning message in confint.glmmTMB(x, method = tolower(conf.method), level = conf.level, :\n",
      "\"extra arguments ignored:  intervals, prob\"\n",
      "Warning message in confint.glmmTMB(x, parm = thpar, method = conf.method, level = conf.level, :\n",
      "\"extra arguments ignored:  intervals, prob\"\n",
      "Warning message in confint.glmmTMB(x, method = tolower(conf.method), level = conf.level, :\n",
      "\"extra arguments ignored:  intervals, prob\"\n",
      "Warning message in confint.glmmTMB(x, parm = thpar, method = conf.method, level = conf.level, :\n",
      "\"extra arguments ignored:  intervals, prob\"\n",
      "Warning message in confint.glmmTMB(x, method = tolower(conf.method), level = conf.level, :\n",
      "\"extra arguments ignored:  intervals, prob\"\n",
      "Warning message in confint.glmmTMB(x, parm = thpar, method = conf.method, level = conf.level, :\n",
      "\"extra arguments ignored:  intervals, prob\"\n",
      "Warning message in confint.glmmTMB(x, method = tolower(conf.method), level = conf.level, :\n",
      "\"extra arguments ignored:  intervals, prob\"\n",
      "Warning message in confint.glmmTMB(x, parm = thpar, method = conf.method, level = conf.level, :\n",
      "\"extra arguments ignored:  intervals, prob\"\n",
      "Warning message in confint.glmmTMB(x, method = tolower(conf.method), level = conf.level, :\n",
      "\"extra arguments ignored:  intervals, prob\"\n",
      "Warning message in confint.glmmTMB(x, parm = thpar, method = conf.method, level = conf.level, :\n",
      "\"extra arguments ignored:  intervals, prob\"\n",
      "Warning message in confint.glmmTMB(x, method = tolower(conf.method), level = conf.level, :\n",
      "\"extra arguments ignored:  intervals, prob\"\n",
      "Warning message in confint.glmmTMB(x, parm = thpar, method = conf.method, level = conf.level, :\n",
      "\"extra arguments ignored:  intervals, prob\"\n"
     ]
    },
    {
     "data": {
      "text/html": [
       "<strong>png:</strong> 2"
      ],
      "text/latex": [
       "\\textbf{png:} 2"
      ],
      "text/markdown": [
       "**png:** 2"
      ],
      "text/plain": [
       "png \n",
       "  2 "
      ]
     },
     "metadata": {},
     "output_type": "display_data"
    },
    {
     "name": "stderr",
     "output_type": "stream",
     "text": [
      "Warning message:\n",
      "\"Following potential variables could not be found in the data: DIB ,weight_interp\n",
      "  ,nbr_h_per_day\"\n",
      "Warning message:\n",
      "\"Following potential variables could not be found in the data: DIB ,weight_interp\n",
      "  ,KBF_interp\"\n",
      "Warning message:\n",
      "\"Following potential variables could not be found in the data: DIB ,weight_interp\n",
      "  ,KBF_interp\"\n",
      "Warning message:\n",
      "\"Following potential variables could not be found in the data: DIB ,weight_interp\n",
      "  ,KBF_interp\"\n",
      "Warning message:\n",
      "\"Following potential variables could not be found in the data: DIB ,weight_interp\n",
      "  ,nbr_h_per_day\"\n",
      "Warning message:\n",
      "\"Following potential variables could not be found in the data: DIB ,weight_interp\n",
      "  ,KBF_interp\"\n",
      "Warning message:\n",
      "\"Following potential variables could not be found in the data: DIB ,weight_interp\n",
      "  ,KBF_interp\"\n",
      "Warning message:\n",
      "\"Following potential variables could not be found in the data: DIB ,weight_interp\n",
      "  ,KBF_interp\"\n",
      "Warning message:\n",
      "\"Following potential variables could not be found in the data: DIB ,weight_interp\n",
      "  ,nbr_h_per_day\"\n",
      "Warning message:\n",
      "\"Following potential variables could not be found in the data: DIB ,weight_interp\n",
      "  ,KBF_interp\"\n",
      "Warning message:\n",
      "\"Following potential variables could not be found in the data: DIB ,weight_interp\n",
      "  ,KBF_interp\"\n",
      "Warning message:\n",
      "\"Following potential variables could not be found in the data: DIB ,weight_interp\n",
      "  ,KBF_interp\"\n",
      "Warning message:\n",
      "\"Following potential variables could not be found in the data: DIB ,weight_interp\n",
      "  ,KBF_interp\"\n",
      "Warning message:\n",
      "\"Following potential variables could not be found in the data: DIB ,weight_interp\n",
      "  ,KBF_interp\"\n",
      "Warning message:\n",
      "\"Following potential variables could not be found in the data: DIB ,weight_interp\n",
      "  ,KBF_interp\"\n",
      "Warning message:\n",
      "\"Following potential variables could not be found in the data: DIB ,weight_interp\n",
      "  ,KBF_interp\"\n",
      "Warning message:\n",
      "\"Following potential variables could not be found in the data: DIB ,weight_interp\n",
      "  ,KBF_interp\"\n",
      "Warning message:\n",
      "\"Following potential variables could not be found in the data: DIB ,weight_interp\n",
      "  ,KBF_interp\"\n",
      "Warning message:\n",
      "\"Following potential variables could not be found in the data: DIB ,weight_interp\n",
      "  ,KBF_interp\"\n",
      "Warning message:\n",
      "\"Following potential variables could not be found in the data: DIB ,weight_interp\n",
      "  ,KBF_interp\"\n",
      "Warning message:\n",
      "\"Following potential variables could not be found in the data: DIB ,weight_interp\n",
      "  ,KBF_interp\"\n",
      "Warning message:\n",
      "\"Following potential variables could not be found in the data: DIB ,weight_interp\n",
      "  ,KBF_interp\"\n",
      "Warning message:\n",
      "\"Following potential variables could not be found in the data: DIB ,weight_interp\n",
      "  ,KBF_interp\"\n",
      "Warning message:\n",
      "\"Following potential variables could not be found in the data: DIB ,weight_interp\n",
      "  ,KBF_interp\"\n"
     ]
    }
   ],
   "source": [
    "var = 'mid_cum_Z4_h_Morning'\n",
    "path_visual_ = file.path(path_visual, var)\n",
    "dir.create(path_visual_)\n",
    "dim(df)\n",
    "df_ = subset(df, !is.na(mid_cum_Z4_h_Morning))\n",
    "dim(df_)\n",
    "\n",
    "li_model = list()\n",
    "for (i in 2:10){\n",
    "    monthILBID = paste0('month',i)\n",
    "    print(monthILBID)\n",
    "    df__ = df_[df_$monthILB==monthILBID,]\n",
    "    #drop factors not existing in this subdataframe\n",
    "    df__$HenID = factor(df__$HenID) \n",
    "    df__$PenID = factor(df__$PenID)\n",
    "    df__$CLASS = factor(df__$CLASS) \n",
    "    #monthILB1-monthILB2: no KBF but nbr_h_per_day_sc, after KBF but no nbr_h_per_day_sc\n",
    "    if (monthILBID %in% c('month1', 'month2')){\n",
    "        fit_nopenid = glmmTMB(mid_cum_Z4_h_Morning ~  CLASS+ Treatment + rescale(DIB) + rescale(weight_interp)+ rescale(nbr_h_per_day)+(1|HenID), \n",
    "                   data=df__, family=Gamma(link = \"log\"))\n",
    "        fit_penid = glmmTMB(mid_cum_Z4_h_Morning ~  CLASS+ Treatment + rescale(DIB) + rescale(weight_interp)+ rescale(nbr_h_per_day)+(1|PenID/HenID), \n",
    "                   data=df__, family=Gamma(link = \"log\"))}\n",
    "    else{\n",
    "        fit_nopenid = glmmTMB(mid_cum_Z4_h_Morning ~  CLASS + Treatment + rescale(DIB) + rescale(weight_interp)+ rescale(KBF_interp) + (1|HenID), \n",
    "                   data=df__, family=Gamma(link = \"log\"))\n",
    "        fit_penid = glmmTMB(mid_cum_Z4_h_Morning ~  CLASS + Treatment + rescale(DIB) + rescale(weight_interp)+ rescale(KBF_interp) + (1|PenID/HenID), \n",
    "                   data=df__, family=Gamma(link = \"log\"))}\n",
    "    print(anova(fit_nopenid,fit_penid))\n",
    "    p_value = anova(fit_nopenid,fit_penid)['Pr(>Chisq)']['fit_penid',]\n",
    "    if (p_value<0.05){\n",
    "        fit = fit_penid    \n",
    "    }else{\n",
    "        fit = fit_nopenid    \n",
    "    }    \n",
    "    \n",
    "    li_model[[i]] = fit\n",
    "    write.csv(summary(fit)['coefficients']$coefficients$cond, file=file.path(path_visual_, paste0(var,monthILBID,'.csv')) )\n",
    "    \n",
    "    set.seed(0)\n",
    "    simulationOutput = simulateResiduals(fittedModel=fit)\n",
    "    tiff(file.path(path_visual_, paste0(var,'_SimRes1',monthILBID,'.tiff')), width=400, height=400)\n",
    "    print(plot(simulationOutput))\n",
    "    dev.off()\n",
    "    \n",
    "    tiff(file.path(path_visual_, paste0(var,'_SimRes2',monthILBID,'.tiff')), width=400, height=400)\n",
    "    print(plotResiduals(simulationOutput, form = df__$Treatment))\n",
    "    dev.off()}\n",
    "\n",
    "\n",
    "#to match the colors and modelID, put as model 1 the model2. then, we will remove it\n",
    "li_model[[1]] = li_model[[2]]\n",
    "\n",
    "tiff(file.path(path_visual_, paste0(var,'_OFHCoeff','.tiff')), width=400, height=400)\n",
    "plot_summs(li_model[1:10], coefs=c('TreatmentOFH'), colors='Rainbow', legend.title=var, exp=TRUE)\n",
    "dev.off()\n",
    "tab_model(li_model[2:5], collapse.ci = TRUE, p.style = \"numeric_stars\", file=file.path(path_visual_, paste0(var,'_TableModel2-5.doc')))\n",
    "tab_model(li_model[6:10], collapse.ci = TRUE, p.style = \"numeric_stars\", file=file.path(path_visual_, paste0(var,'_TableModel6-10.doc')))"
   ]
  },
  {
   "cell_type": "markdown",
   "id": "90bb03e7",
   "metadata": {},
   "source": [
    "# vertical_travel_distance"
   ]
  },
  {
   "cell_type": "code",
   "execution_count": 58,
   "id": "67841306",
   "metadata": {},
   "outputs": [
    {
     "data": {
      "text/html": [
       "<style>\n",
       ".list-inline {list-style: none; margin:0; padding: 0}\n",
       ".list-inline>li {display: inline-block}\n",
       ".list-inline>li:not(:last-child)::after {content: \"\\00b7\"; padding: 0 .5ex}\n",
       "</style>\n",
       "<ol class=list-inline><li>37455</li><li>26</li></ol>\n"
      ],
      "text/latex": [
       "\\begin{enumerate*}\n",
       "\\item 37455\n",
       "\\item 26\n",
       "\\end{enumerate*}\n"
      ],
      "text/markdown": [
       "1. 37455\n",
       "2. 26\n",
       "\n",
       "\n"
      ],
      "text/plain": [
       "[1] 37455    26"
      ]
     },
     "metadata": {},
     "output_type": "display_data"
    },
    {
     "data": {
      "text/html": [
       "<style>\n",
       ".list-inline {list-style: none; margin:0; padding: 0}\n",
       ".list-inline>li {display: inline-block}\n",
       ".list-inline>li:not(:last-child)::after {content: \"\\00b7\"; padding: 0 .5ex}\n",
       "</style>\n",
       "<ol class=list-inline><li>37455</li><li>26</li></ol>\n"
      ],
      "text/latex": [
       "\\begin{enumerate*}\n",
       "\\item 37455\n",
       "\\item 26\n",
       "\\end{enumerate*}\n"
      ],
      "text/markdown": [
       "1. 37455\n",
       "2. 26\n",
       "\n",
       "\n"
      ],
      "text/plain": [
       "[1] 37455    26"
      ]
     },
     "metadata": {},
     "output_type": "display_data"
    },
    {
     "name": "stdout",
     "output_type": "stream",
     "text": [
      "[1] \"month1\"\n"
     ]
    },
    {
     "name": "stderr",
     "output_type": "stream",
     "text": [
      "Warning message in Matrix::sparseMatrix(dims = c(0, 0), i = integer(0), j = integer(0), :\n",
      "\"'giveCsparse' has been deprecated; setting 'repr = \"T\"' for you\"\n",
      "Warning message in Matrix::sparseMatrix(dims = c(0, 0), i = integer(0), j = integer(0), :\n",
      "\"'giveCsparse' has been deprecated; setting 'repr = \"T\"' for you\"\n",
      "Warning message in Matrix::sparseMatrix(dims = c(0, 0), i = integer(0), j = integer(0), :\n",
      "\"'giveCsparse' has been deprecated; setting 'repr = \"T\"' for you\"\n",
      "Warning message in Matrix::sparseMatrix(dims = c(0, 0), i = integer(0), j = integer(0), :\n",
      "\"'giveCsparse' has been deprecated; setting 'repr = \"T\"' for you\"\n",
      "Warning message in Matrix::sparseMatrix(dims = c(0, 0), i = integer(0), j = integer(0), :\n",
      "\"'giveCsparse' has been deprecated; setting 'repr = \"T\"' for you\"\n",
      "Warning message in Matrix::sparseMatrix(dims = c(0, 0), i = integer(0), j = integer(0), :\n",
      "\"'giveCsparse' has been deprecated; setting 'repr = \"T\"' for you\"\n"
     ]
    },
    {
     "name": "stdout",
     "output_type": "stream",
     "text": [
      "Data: df__\n",
      "Models:\n",
      "fit_nopenid: vertical_travel_distance ~ CLASS + Treatment + rescale(DIB) + , zi=~0, disp=~1\n",
      "fit_nopenid:     rescale(weight_interp) + rescale(nbr_h_per_day) + (1 | HenID), zi=~0, disp=~1\n",
      "fit_penid: vertical_travel_distance ~ CLASS + Treatment + rescale(DIB) + , zi=~0, disp=~1\n",
      "fit_penid:     rescale(weight_interp) + rescale(nbr_h_per_day) + (1 | PenID/HenID), zi=~0, disp=~1\n",
      "            Df   AIC   BIC logLik deviance Chisq Chi Df Pr(>Chisq)\n",
      "fit_nopenid  8 48282 48331 -24133    48266                        \n",
      "fit_penid    9 48284 48339 -24133    48266     0      1          1\n"
     ]
    },
    {
     "name": "stderr",
     "output_type": "stream",
     "text": [
      "Warning message in Matrix::sparseMatrix(dims = c(0, 0), i = integer(0), j = integer(0), :\n",
      "\"'giveCsparse' has been deprecated; setting 'repr = \"T\"' for you\"\n",
      "Warning message in Matrix::sparseMatrix(dims = c(0, 0), i = integer(0), j = integer(0), :\n",
      "\"'giveCsparse' has been deprecated; setting 'repr = \"T\"' for you\"\n",
      "Warning message in Matrix::sparseMatrix(dims = c(0, 0), i = integer(0), j = integer(0), :\n",
      "\"'giveCsparse' has been deprecated; setting 'repr = \"T\"' for you\"\n",
      "Warning message in Matrix::sparseMatrix(dims = c(0, 0), i = integer(0), j = integer(0), :\n",
      "\"'giveCsparse' has been deprecated; setting 'repr = \"T\"' for you\"\n",
      "Warning message in Matrix::sparseMatrix(dims = c(0, 0), i = integer(0), j = integer(0), :\n",
      "\"'giveCsparse' has been deprecated; setting 'repr = \"T\"' for you\"\n",
      "Warning message in Matrix::sparseMatrix(dims = c(0, 0), i = integer(0), j = integer(0), :\n",
      "\"'giveCsparse' has been deprecated; setting 'repr = \"T\"' for you\"\n",
      "DHARMa:testOutliers with type = binomial may have inflated Type I error rates for integer-valued distributions. To get a more exact result, it is recommended to re-run testOutliers with type = 'bootstrap'. See ?testOutliers for details\n",
      "\n"
     ]
    },
    {
     "name": "stdout",
     "output_type": "stream",
     "text": [
      "NULL\n",
      "NULL\n",
      "[1] \"month2\"\n"
     ]
    },
    {
     "name": "stderr",
     "output_type": "stream",
     "text": [
      "Warning message in Matrix::sparseMatrix(dims = c(0, 0), i = integer(0), j = integer(0), :\n",
      "\"'giveCsparse' has been deprecated; setting 'repr = \"T\"' for you\"\n",
      "Warning message in Matrix::sparseMatrix(dims = c(0, 0), i = integer(0), j = integer(0), :\n",
      "\"'giveCsparse' has been deprecated; setting 'repr = \"T\"' for you\"\n",
      "Warning message in Matrix::sparseMatrix(dims = c(0, 0), i = integer(0), j = integer(0), :\n",
      "\"'giveCsparse' has been deprecated; setting 'repr = \"T\"' for you\"\n",
      "Warning message in Matrix::sparseMatrix(dims = c(0, 0), i = integer(0), j = integer(0), :\n",
      "\"'giveCsparse' has been deprecated; setting 'repr = \"T\"' for you\"\n",
      "Warning message in Matrix::sparseMatrix(dims = c(0, 0), i = integer(0), j = integer(0), :\n",
      "\"'giveCsparse' has been deprecated; setting 'repr = \"T\"' for you\"\n",
      "Warning message in Matrix::sparseMatrix(dims = c(0, 0), i = integer(0), j = integer(0), :\n",
      "\"'giveCsparse' has been deprecated; setting 'repr = \"T\"' for you\"\n"
     ]
    },
    {
     "name": "stdout",
     "output_type": "stream",
     "text": [
      "Data: df__\n",
      "Models:\n",
      "fit_nopenid: vertical_travel_distance ~ CLASS + Treatment + rescale(DIB) + , zi=~0, disp=~1\n",
      "fit_nopenid:     rescale(weight_interp) + rescale(nbr_h_per_day) + (1 | HenID), zi=~0, disp=~1\n",
      "fit_penid: vertical_travel_distance ~ CLASS + Treatment + rescale(DIB) + , zi=~0, disp=~1\n",
      "fit_penid:     rescale(weight_interp) + rescale(nbr_h_per_day) + (1 | PenID/HenID), zi=~0, disp=~1\n",
      "            Df   AIC   BIC logLik deviance Chisq Chi Df Pr(>Chisq)\n",
      "fit_nopenid  8 38523 38573 -19253    38507                        \n",
      "fit_penid    9 38525 38581 -19253    38507     0      1          1\n"
     ]
    },
    {
     "name": "stderr",
     "output_type": "stream",
     "text": [
      "Warning message in Matrix::sparseMatrix(dims = c(0, 0), i = integer(0), j = integer(0), :\n",
      "\"'giveCsparse' has been deprecated; setting 'repr = \"T\"' for you\"\n",
      "Warning message in Matrix::sparseMatrix(dims = c(0, 0), i = integer(0), j = integer(0), :\n",
      "\"'giveCsparse' has been deprecated; setting 'repr = \"T\"' for you\"\n",
      "Warning message in Matrix::sparseMatrix(dims = c(0, 0), i = integer(0), j = integer(0), :\n",
      "\"'giveCsparse' has been deprecated; setting 'repr = \"T\"' for you\"\n",
      "Warning message in Matrix::sparseMatrix(dims = c(0, 0), i = integer(0), j = integer(0), :\n",
      "\"'giveCsparse' has been deprecated; setting 'repr = \"T\"' for you\"\n",
      "Warning message in Matrix::sparseMatrix(dims = c(0, 0), i = integer(0), j = integer(0), :\n",
      "\"'giveCsparse' has been deprecated; setting 'repr = \"T\"' for you\"\n",
      "Warning message in Matrix::sparseMatrix(dims = c(0, 0), i = integer(0), j = integer(0), :\n",
      "\"'giveCsparse' has been deprecated; setting 'repr = \"T\"' for you\"\n",
      "DHARMa:testOutliers with type = binomial may have inflated Type I error rates for integer-valued distributions. To get a more exact result, it is recommended to re-run testOutliers with type = 'bootstrap'. See ?testOutliers for details\n",
      "\n"
     ]
    },
    {
     "name": "stdout",
     "output_type": "stream",
     "text": [
      "NULL\n",
      "NULL\n",
      "[1] \"month3\"\n"
     ]
    },
    {
     "name": "stderr",
     "output_type": "stream",
     "text": [
      "Warning message in Matrix::sparseMatrix(dims = c(0, 0), i = integer(0), j = integer(0), :\n",
      "\"'giveCsparse' has been deprecated; setting 'repr = \"T\"' for you\"\n",
      "Warning message in Matrix::sparseMatrix(dims = c(0, 0), i = integer(0), j = integer(0), :\n",
      "\"'giveCsparse' has been deprecated; setting 'repr = \"T\"' for you\"\n",
      "Warning message in Matrix::sparseMatrix(dims = c(0, 0), i = integer(0), j = integer(0), :\n",
      "\"'giveCsparse' has been deprecated; setting 'repr = \"T\"' for you\"\n",
      "Warning message in Matrix::sparseMatrix(dims = c(0, 0), i = integer(0), j = integer(0), :\n",
      "\"'giveCsparse' has been deprecated; setting 'repr = \"T\"' for you\"\n",
      "Warning message in Matrix::sparseMatrix(dims = c(0, 0), i = integer(0), j = integer(0), :\n",
      "\"'giveCsparse' has been deprecated; setting 'repr = \"T\"' for you\"\n",
      "Warning message in Matrix::sparseMatrix(dims = c(0, 0), i = integer(0), j = integer(0), :\n",
      "\"'giveCsparse' has been deprecated; setting 'repr = \"T\"' for you\"\n"
     ]
    },
    {
     "name": "stdout",
     "output_type": "stream",
     "text": [
      "Data: df__\n",
      "Models:\n",
      "fit_nopenid: vertical_travel_distance ~ CLASS + Treatment + rescale(DIB) + , zi=~0, disp=~1\n",
      "fit_nopenid:     rescale(weight_interp) + rescale(KBF_interp) + (1 | HenID), zi=~0, disp=~1\n",
      "fit_penid: vertical_travel_distance ~ CLASS + Treatment + rescale(DIB) + , zi=~0, disp=~1\n",
      "fit_penid:     rescale(weight_interp) + rescale(KBF_interp) + (1 | PenID/HenID), zi=~0, disp=~1\n",
      "            Df   AIC   BIC logLik deviance Chisq Chi Df Pr(>Chisq)\n",
      "fit_nopenid  8 36675 36726 -18329    36659                        \n",
      "fit_penid    9 36677 36734 -18329    36659     0      1          1\n"
     ]
    },
    {
     "name": "stderr",
     "output_type": "stream",
     "text": [
      "Warning message in Matrix::sparseMatrix(dims = c(0, 0), i = integer(0), j = integer(0), :\n",
      "\"'giveCsparse' has been deprecated; setting 'repr = \"T\"' for you\"\n",
      "Warning message in Matrix::sparseMatrix(dims = c(0, 0), i = integer(0), j = integer(0), :\n",
      "\"'giveCsparse' has been deprecated; setting 'repr = \"T\"' for you\"\n",
      "Warning message in Matrix::sparseMatrix(dims = c(0, 0), i = integer(0), j = integer(0), :\n",
      "\"'giveCsparse' has been deprecated; setting 'repr = \"T\"' for you\"\n",
      "Warning message in Matrix::sparseMatrix(dims = c(0, 0), i = integer(0), j = integer(0), :\n",
      "\"'giveCsparse' has been deprecated; setting 'repr = \"T\"' for you\"\n",
      "Warning message in Matrix::sparseMatrix(dims = c(0, 0), i = integer(0), j = integer(0), :\n",
      "\"'giveCsparse' has been deprecated; setting 'repr = \"T\"' for you\"\n",
      "Warning message in Matrix::sparseMatrix(dims = c(0, 0), i = integer(0), j = integer(0), :\n",
      "\"'giveCsparse' has been deprecated; setting 'repr = \"T\"' for you\"\n",
      "DHARMa:testOutliers with type = binomial may have inflated Type I error rates for integer-valued distributions. To get a more exact result, it is recommended to re-run testOutliers with type = 'bootstrap'. See ?testOutliers for details\n",
      "\n"
     ]
    },
    {
     "name": "stdout",
     "output_type": "stream",
     "text": [
      "NULL\n",
      "NULL\n",
      "[1] \"month4\"\n"
     ]
    },
    {
     "name": "stderr",
     "output_type": "stream",
     "text": [
      "Warning message in Matrix::sparseMatrix(dims = c(0, 0), i = integer(0), j = integer(0), :\n",
      "\"'giveCsparse' has been deprecated; setting 'repr = \"T\"' for you\"\n",
      "Warning message in Matrix::sparseMatrix(dims = c(0, 0), i = integer(0), j = integer(0), :\n",
      "\"'giveCsparse' has been deprecated; setting 'repr = \"T\"' for you\"\n",
      "Warning message in Matrix::sparseMatrix(dims = c(0, 0), i = integer(0), j = integer(0), :\n",
      "\"'giveCsparse' has been deprecated; setting 'repr = \"T\"' for you\"\n",
      "Warning message in Matrix::sparseMatrix(dims = c(0, 0), i = integer(0), j = integer(0), :\n",
      "\"'giveCsparse' has been deprecated; setting 'repr = \"T\"' for you\"\n",
      "Warning message in Matrix::sparseMatrix(dims = c(0, 0), i = integer(0), j = integer(0), :\n",
      "\"'giveCsparse' has been deprecated; setting 'repr = \"T\"' for you\"\n",
      "Warning message in Matrix::sparseMatrix(dims = c(0, 0), i = integer(0), j = integer(0), :\n",
      "\"'giveCsparse' has been deprecated; setting 'repr = \"T\"' for you\"\n"
     ]
    },
    {
     "name": "stdout",
     "output_type": "stream",
     "text": [
      "Data: df__\n",
      "Models:\n",
      "fit_nopenid: vertical_travel_distance ~ CLASS + Treatment + rescale(DIB) + , zi=~0, disp=~1\n",
      "fit_nopenid:     rescale(weight_interp) + rescale(KBF_interp) + (1 | HenID), zi=~0, disp=~1\n",
      "fit_penid: vertical_travel_distance ~ CLASS + Treatment + rescale(DIB) + , zi=~0, disp=~1\n",
      "fit_penid:     rescale(weight_interp) + rescale(KBF_interp) + (1 | PenID/HenID), zi=~0, disp=~1\n",
      "            Df   AIC   BIC logLik deviance Chisq Chi Df Pr(>Chisq)\n",
      "fit_nopenid  8 31673 31722 -15828    31657                        \n",
      "fit_penid    9 31675 31731 -15828    31657     0      1          1\n"
     ]
    },
    {
     "name": "stderr",
     "output_type": "stream",
     "text": [
      "Warning message in Matrix::sparseMatrix(dims = c(0, 0), i = integer(0), j = integer(0), :\n",
      "\"'giveCsparse' has been deprecated; setting 'repr = \"T\"' for you\"\n",
      "Warning message in Matrix::sparseMatrix(dims = c(0, 0), i = integer(0), j = integer(0), :\n",
      "\"'giveCsparse' has been deprecated; setting 'repr = \"T\"' for you\"\n",
      "Warning message in Matrix::sparseMatrix(dims = c(0, 0), i = integer(0), j = integer(0), :\n",
      "\"'giveCsparse' has been deprecated; setting 'repr = \"T\"' for you\"\n",
      "Warning message in Matrix::sparseMatrix(dims = c(0, 0), i = integer(0), j = integer(0), :\n",
      "\"'giveCsparse' has been deprecated; setting 'repr = \"T\"' for you\"\n",
      "Warning message in Matrix::sparseMatrix(dims = c(0, 0), i = integer(0), j = integer(0), :\n",
      "\"'giveCsparse' has been deprecated; setting 'repr = \"T\"' for you\"\n",
      "Warning message in Matrix::sparseMatrix(dims = c(0, 0), i = integer(0), j = integer(0), :\n",
      "\"'giveCsparse' has been deprecated; setting 'repr = \"T\"' for you\"\n",
      "DHARMa:testOutliers with type = binomial may have inflated Type I error rates for integer-valued distributions. To get a more exact result, it is recommended to re-run testOutliers with type = 'bootstrap'. See ?testOutliers for details\n",
      "\n"
     ]
    },
    {
     "name": "stdout",
     "output_type": "stream",
     "text": [
      "NULL\n",
      "NULL\n",
      "[1] \"month5\"\n"
     ]
    },
    {
     "name": "stderr",
     "output_type": "stream",
     "text": [
      "Warning message in Matrix::sparseMatrix(dims = c(0, 0), i = integer(0), j = integer(0), :\n",
      "\"'giveCsparse' has been deprecated; setting 'repr = \"T\"' for you\"\n",
      "Warning message in Matrix::sparseMatrix(dims = c(0, 0), i = integer(0), j = integer(0), :\n",
      "\"'giveCsparse' has been deprecated; setting 'repr = \"T\"' for you\"\n",
      "Warning message in Matrix::sparseMatrix(dims = c(0, 0), i = integer(0), j = integer(0), :\n",
      "\"'giveCsparse' has been deprecated; setting 'repr = \"T\"' for you\"\n",
      "Warning message in Matrix::sparseMatrix(dims = c(0, 0), i = integer(0), j = integer(0), :\n",
      "\"'giveCsparse' has been deprecated; setting 'repr = \"T\"' for you\"\n",
      "Warning message in Matrix::sparseMatrix(dims = c(0, 0), i = integer(0), j = integer(0), :\n",
      "\"'giveCsparse' has been deprecated; setting 'repr = \"T\"' for you\"\n",
      "Warning message in Matrix::sparseMatrix(dims = c(0, 0), i = integer(0), j = integer(0), :\n",
      "\"'giveCsparse' has been deprecated; setting 'repr = \"T\"' for you\"\n"
     ]
    },
    {
     "name": "stdout",
     "output_type": "stream",
     "text": [
      "Data: df__\n",
      "Models:\n",
      "fit_nopenid: vertical_travel_distance ~ CLASS + Treatment + rescale(DIB) + , zi=~0, disp=~1\n",
      "fit_nopenid:     rescale(weight_interp) + rescale(KBF_interp) + (1 | HenID), zi=~0, disp=~1\n",
      "fit_penid: vertical_travel_distance ~ CLASS + Treatment + rescale(DIB) + , zi=~0, disp=~1\n",
      "fit_penid:     rescale(weight_interp) + rescale(KBF_interp) + (1 | PenID/HenID), zi=~0, disp=~1\n",
      "            Df   AIC   BIC logLik deviance Chisq Chi Df Pr(>Chisq)\n",
      "fit_nopenid  8 33138 33188 -16561    33122                        \n",
      "fit_penid    9 33139 33196 -16561    33121 0.087      1      0.768\n"
     ]
    },
    {
     "name": "stderr",
     "output_type": "stream",
     "text": [
      "Warning message in Matrix::sparseMatrix(dims = c(0, 0), i = integer(0), j = integer(0), :\n",
      "\"'giveCsparse' has been deprecated; setting 'repr = \"T\"' for you\"\n",
      "Warning message in Matrix::sparseMatrix(dims = c(0, 0), i = integer(0), j = integer(0), :\n",
      "\"'giveCsparse' has been deprecated; setting 'repr = \"T\"' for you\"\n",
      "Warning message in Matrix::sparseMatrix(dims = c(0, 0), i = integer(0), j = integer(0), :\n",
      "\"'giveCsparse' has been deprecated; setting 'repr = \"T\"' for you\"\n",
      "Warning message in Matrix::sparseMatrix(dims = c(0, 0), i = integer(0), j = integer(0), :\n",
      "\"'giveCsparse' has been deprecated; setting 'repr = \"T\"' for you\"\n",
      "Warning message in Matrix::sparseMatrix(dims = c(0, 0), i = integer(0), j = integer(0), :\n",
      "\"'giveCsparse' has been deprecated; setting 'repr = \"T\"' for you\"\n",
      "Warning message in Matrix::sparseMatrix(dims = c(0, 0), i = integer(0), j = integer(0), :\n",
      "\"'giveCsparse' has been deprecated; setting 'repr = \"T\"' for you\"\n",
      "DHARMa:testOutliers with type = binomial may have inflated Type I error rates for integer-valued distributions. To get a more exact result, it is recommended to re-run testOutliers with type = 'bootstrap'. See ?testOutliers for details\n",
      "\n"
     ]
    },
    {
     "name": "stdout",
     "output_type": "stream",
     "text": [
      "NULL\n",
      "NULL\n",
      "[1] \"month6\"\n"
     ]
    },
    {
     "name": "stderr",
     "output_type": "stream",
     "text": [
      "Warning message in Matrix::sparseMatrix(dims = c(0, 0), i = integer(0), j = integer(0), :\n",
      "\"'giveCsparse' has been deprecated; setting 'repr = \"T\"' for you\"\n",
      "Warning message in Matrix::sparseMatrix(dims = c(0, 0), i = integer(0), j = integer(0), :\n",
      "\"'giveCsparse' has been deprecated; setting 'repr = \"T\"' for you\"\n",
      "Warning message in Matrix::sparseMatrix(dims = c(0, 0), i = integer(0), j = integer(0), :\n",
      "\"'giveCsparse' has been deprecated; setting 'repr = \"T\"' for you\"\n",
      "Warning message in Matrix::sparseMatrix(dims = c(0, 0), i = integer(0), j = integer(0), :\n",
      "\"'giveCsparse' has been deprecated; setting 'repr = \"T\"' for you\"\n",
      "Warning message in Matrix::sparseMatrix(dims = c(0, 0), i = integer(0), j = integer(0), :\n",
      "\"'giveCsparse' has been deprecated; setting 'repr = \"T\"' for you\"\n",
      "Warning message in Matrix::sparseMatrix(dims = c(0, 0), i = integer(0), j = integer(0), :\n",
      "\"'giveCsparse' has been deprecated; setting 'repr = \"T\"' for you\"\n"
     ]
    },
    {
     "name": "stdout",
     "output_type": "stream",
     "text": [
      "Data: df__\n",
      "Models:\n",
      "fit_nopenid: vertical_travel_distance ~ CLASS + Treatment + rescale(DIB) + , zi=~0, disp=~1\n",
      "fit_nopenid:     rescale(weight_interp) + rescale(KBF_interp) + (1 | HenID), zi=~0, disp=~1\n",
      "fit_penid: vertical_travel_distance ~ CLASS + Treatment + rescale(DIB) + , zi=~0, disp=~1\n",
      "fit_penid:     rescale(weight_interp) + rescale(KBF_interp) + (1 | PenID/HenID), zi=~0, disp=~1\n",
      "            Df   AIC   BIC logLik deviance  Chisq Chi Df Pr(>Chisq)\n",
      "fit_nopenid  8 36236 36287 -18110    36220                         \n",
      "fit_penid    9 36238 36295 -18110    36220 0.1953      1     0.6585\n"
     ]
    },
    {
     "name": "stderr",
     "output_type": "stream",
     "text": [
      "Warning message in Matrix::sparseMatrix(dims = c(0, 0), i = integer(0), j = integer(0), :\n",
      "\"'giveCsparse' has been deprecated; setting 'repr = \"T\"' for you\"\n",
      "Warning message in Matrix::sparseMatrix(dims = c(0, 0), i = integer(0), j = integer(0), :\n",
      "\"'giveCsparse' has been deprecated; setting 'repr = \"T\"' for you\"\n",
      "Warning message in Matrix::sparseMatrix(dims = c(0, 0), i = integer(0), j = integer(0), :\n",
      "\"'giveCsparse' has been deprecated; setting 'repr = \"T\"' for you\"\n",
      "Warning message in Matrix::sparseMatrix(dims = c(0, 0), i = integer(0), j = integer(0), :\n",
      "\"'giveCsparse' has been deprecated; setting 'repr = \"T\"' for you\"\n",
      "Warning message in Matrix::sparseMatrix(dims = c(0, 0), i = integer(0), j = integer(0), :\n",
      "\"'giveCsparse' has been deprecated; setting 'repr = \"T\"' for you\"\n",
      "Warning message in Matrix::sparseMatrix(dims = c(0, 0), i = integer(0), j = integer(0), :\n",
      "\"'giveCsparse' has been deprecated; setting 'repr = \"T\"' for you\"\n",
      "DHARMa:testOutliers with type = binomial may have inflated Type I error rates for integer-valued distributions. To get a more exact result, it is recommended to re-run testOutliers with type = 'bootstrap'. See ?testOutliers for details\n",
      "\n"
     ]
    },
    {
     "name": "stdout",
     "output_type": "stream",
     "text": [
      "NULL\n",
      "NULL\n",
      "[1] \"month7\"\n"
     ]
    },
    {
     "name": "stderr",
     "output_type": "stream",
     "text": [
      "Warning message in Matrix::sparseMatrix(dims = c(0, 0), i = integer(0), j = integer(0), :\n",
      "\"'giveCsparse' has been deprecated; setting 'repr = \"T\"' for you\"\n",
      "Warning message in Matrix::sparseMatrix(dims = c(0, 0), i = integer(0), j = integer(0), :\n",
      "\"'giveCsparse' has been deprecated; setting 'repr = \"T\"' for you\"\n",
      "Warning message in Matrix::sparseMatrix(dims = c(0, 0), i = integer(0), j = integer(0), :\n",
      "\"'giveCsparse' has been deprecated; setting 'repr = \"T\"' for you\"\n",
      "Warning message in Matrix::sparseMatrix(dims = c(0, 0), i = integer(0), j = integer(0), :\n",
      "\"'giveCsparse' has been deprecated; setting 'repr = \"T\"' for you\"\n",
      "Warning message in Matrix::sparseMatrix(dims = c(0, 0), i = integer(0), j = integer(0), :\n",
      "\"'giveCsparse' has been deprecated; setting 'repr = \"T\"' for you\"\n",
      "Warning message in Matrix::sparseMatrix(dims = c(0, 0), i = integer(0), j = integer(0), :\n",
      "\"'giveCsparse' has been deprecated; setting 'repr = \"T\"' for you\"\n"
     ]
    },
    {
     "name": "stdout",
     "output_type": "stream",
     "text": [
      "Data: df__\n",
      "Models:\n",
      "fit_nopenid: vertical_travel_distance ~ CLASS + Treatment + rescale(DIB) + , zi=~0, disp=~1\n",
      "fit_nopenid:     rescale(weight_interp) + rescale(KBF_interp) + (1 | HenID), zi=~0, disp=~1\n",
      "fit_penid: vertical_travel_distance ~ CLASS + Treatment + rescale(DIB) + , zi=~0, disp=~1\n",
      "fit_penid:     rescale(weight_interp) + rescale(KBF_interp) + (1 | PenID/HenID), zi=~0, disp=~1\n",
      "            Df   AIC   BIC logLik deviance  Chisq Chi Df Pr(>Chisq)\n",
      "fit_nopenid  8 35126 35176 -17555    35110                         \n",
      "fit_penid    9 35128 35184 -17555    35110 0.1458      1     0.7025\n"
     ]
    },
    {
     "name": "stderr",
     "output_type": "stream",
     "text": [
      "Warning message in Matrix::sparseMatrix(dims = c(0, 0), i = integer(0), j = integer(0), :\n",
      "\"'giveCsparse' has been deprecated; setting 'repr = \"T\"' for you\"\n",
      "Warning message in Matrix::sparseMatrix(dims = c(0, 0), i = integer(0), j = integer(0), :\n",
      "\"'giveCsparse' has been deprecated; setting 'repr = \"T\"' for you\"\n",
      "Warning message in Matrix::sparseMatrix(dims = c(0, 0), i = integer(0), j = integer(0), :\n",
      "\"'giveCsparse' has been deprecated; setting 'repr = \"T\"' for you\"\n",
      "Warning message in Matrix::sparseMatrix(dims = c(0, 0), i = integer(0), j = integer(0), :\n",
      "\"'giveCsparse' has been deprecated; setting 'repr = \"T\"' for you\"\n",
      "Warning message in Matrix::sparseMatrix(dims = c(0, 0), i = integer(0), j = integer(0), :\n",
      "\"'giveCsparse' has been deprecated; setting 'repr = \"T\"' for you\"\n",
      "Warning message in Matrix::sparseMatrix(dims = c(0, 0), i = integer(0), j = integer(0), :\n",
      "\"'giveCsparse' has been deprecated; setting 'repr = \"T\"' for you\"\n",
      "DHARMa:testOutliers with type = binomial may have inflated Type I error rates for integer-valued distributions. To get a more exact result, it is recommended to re-run testOutliers with type = 'bootstrap'. See ?testOutliers for details\n",
      "\n"
     ]
    },
    {
     "name": "stdout",
     "output_type": "stream",
     "text": [
      "NULL\n",
      "NULL\n",
      "[1] \"month8\"\n"
     ]
    },
    {
     "name": "stderr",
     "output_type": "stream",
     "text": [
      "Warning message in Matrix::sparseMatrix(dims = c(0, 0), i = integer(0), j = integer(0), :\n",
      "\"'giveCsparse' has been deprecated; setting 'repr = \"T\"' for you\"\n",
      "Warning message in Matrix::sparseMatrix(dims = c(0, 0), i = integer(0), j = integer(0), :\n",
      "\"'giveCsparse' has been deprecated; setting 'repr = \"T\"' for you\"\n",
      "Warning message in Matrix::sparseMatrix(dims = c(0, 0), i = integer(0), j = integer(0), :\n",
      "\"'giveCsparse' has been deprecated; setting 'repr = \"T\"' for you\"\n",
      "Warning message in Matrix::sparseMatrix(dims = c(0, 0), i = integer(0), j = integer(0), :\n",
      "\"'giveCsparse' has been deprecated; setting 'repr = \"T\"' for you\"\n",
      "Warning message in Matrix::sparseMatrix(dims = c(0, 0), i = integer(0), j = integer(0), :\n",
      "\"'giveCsparse' has been deprecated; setting 'repr = \"T\"' for you\"\n",
      "Warning message in Matrix::sparseMatrix(dims = c(0, 0), i = integer(0), j = integer(0), :\n",
      "\"'giveCsparse' has been deprecated; setting 'repr = \"T\"' for you\"\n"
     ]
    },
    {
     "name": "stdout",
     "output_type": "stream",
     "text": [
      "Data: df__\n",
      "Models:\n",
      "fit_nopenid: vertical_travel_distance ~ CLASS + Treatment + rescale(DIB) + , zi=~0, disp=~1\n",
      "fit_nopenid:     rescale(weight_interp) + rescale(KBF_interp) + (1 | HenID), zi=~0, disp=~1\n",
      "fit_penid: vertical_travel_distance ~ CLASS + Treatment + rescale(DIB) + , zi=~0, disp=~1\n",
      "fit_penid:     rescale(weight_interp) + rescale(KBF_interp) + (1 | PenID/HenID), zi=~0, disp=~1\n",
      "            Df   AIC   BIC logLik deviance  Chisq Chi Df Pr(>Chisq)\n",
      "fit_nopenid  8 36506 36557 -18245    36490                         \n",
      "fit_penid    9 36508 36566 -18245    36490 0.0032      1     0.9546\n"
     ]
    },
    {
     "name": "stderr",
     "output_type": "stream",
     "text": [
      "Warning message in Matrix::sparseMatrix(dims = c(0, 0), i = integer(0), j = integer(0), :\n",
      "\"'giveCsparse' has been deprecated; setting 'repr = \"T\"' for you\"\n",
      "Warning message in Matrix::sparseMatrix(dims = c(0, 0), i = integer(0), j = integer(0), :\n",
      "\"'giveCsparse' has been deprecated; setting 'repr = \"T\"' for you\"\n",
      "Warning message in Matrix::sparseMatrix(dims = c(0, 0), i = integer(0), j = integer(0), :\n",
      "\"'giveCsparse' has been deprecated; setting 'repr = \"T\"' for you\"\n",
      "Warning message in Matrix::sparseMatrix(dims = c(0, 0), i = integer(0), j = integer(0), :\n",
      "\"'giveCsparse' has been deprecated; setting 'repr = \"T\"' for you\"\n",
      "Warning message in Matrix::sparseMatrix(dims = c(0, 0), i = integer(0), j = integer(0), :\n",
      "\"'giveCsparse' has been deprecated; setting 'repr = \"T\"' for you\"\n",
      "Warning message in Matrix::sparseMatrix(dims = c(0, 0), i = integer(0), j = integer(0), :\n",
      "\"'giveCsparse' has been deprecated; setting 'repr = \"T\"' for you\"\n",
      "DHARMa:testOutliers with type = binomial may have inflated Type I error rates for integer-valued distributions. To get a more exact result, it is recommended to re-run testOutliers with type = 'bootstrap'. See ?testOutliers for details\n",
      "\n"
     ]
    },
    {
     "name": "stdout",
     "output_type": "stream",
     "text": [
      "NULL\n",
      "NULL\n",
      "[1] \"month9\"\n"
     ]
    },
    {
     "name": "stderr",
     "output_type": "stream",
     "text": [
      "Warning message in Matrix::sparseMatrix(dims = c(0, 0), i = integer(0), j = integer(0), :\n",
      "\"'giveCsparse' has been deprecated; setting 'repr = \"T\"' for you\"\n",
      "Warning message in Matrix::sparseMatrix(dims = c(0, 0), i = integer(0), j = integer(0), :\n",
      "\"'giveCsparse' has been deprecated; setting 'repr = \"T\"' for you\"\n",
      "Warning message in Matrix::sparseMatrix(dims = c(0, 0), i = integer(0), j = integer(0), :\n",
      "\"'giveCsparse' has been deprecated; setting 'repr = \"T\"' for you\"\n",
      "Warning message in Matrix::sparseMatrix(dims = c(0, 0), i = integer(0), j = integer(0), :\n",
      "\"'giveCsparse' has been deprecated; setting 'repr = \"T\"' for you\"\n",
      "Warning message in Matrix::sparseMatrix(dims = c(0, 0), i = integer(0), j = integer(0), :\n",
      "\"'giveCsparse' has been deprecated; setting 'repr = \"T\"' for you\"\n",
      "Warning message in Matrix::sparseMatrix(dims = c(0, 0), i = integer(0), j = integer(0), :\n",
      "\"'giveCsparse' has been deprecated; setting 'repr = \"T\"' for you\"\n"
     ]
    },
    {
     "name": "stdout",
     "output_type": "stream",
     "text": [
      "Data: df__\n",
      "Models:\n",
      "fit_nopenid: vertical_travel_distance ~ CLASS + Treatment + rescale(DIB) + , zi=~0, disp=~1\n",
      "fit_nopenid:     rescale(weight_interp) + rescale(KBF_interp) + (1 | HenID), zi=~0, disp=~1\n",
      "fit_penid: vertical_travel_distance ~ CLASS + Treatment + rescale(DIB) + , zi=~0, disp=~1\n",
      "fit_penid:     rescale(weight_interp) + rescale(KBF_interp) + (1 | PenID/HenID), zi=~0, disp=~1\n",
      "            Df   AIC   BIC  logLik deviance Chisq Chi Df Pr(>Chisq)\n",
      "fit_nopenid  8 14623 14667 -7303.6    14607                        \n",
      "fit_penid    9 14625 14675 -7303.6    14607     0      1          1\n"
     ]
    },
    {
     "name": "stderr",
     "output_type": "stream",
     "text": [
      "Warning message in Matrix::sparseMatrix(dims = c(0, 0), i = integer(0), j = integer(0), :\n",
      "\"'giveCsparse' has been deprecated; setting 'repr = \"T\"' for you\"\n",
      "Warning message in Matrix::sparseMatrix(dims = c(0, 0), i = integer(0), j = integer(0), :\n",
      "\"'giveCsparse' has been deprecated; setting 'repr = \"T\"' for you\"\n",
      "Warning message in Matrix::sparseMatrix(dims = c(0, 0), i = integer(0), j = integer(0), :\n",
      "\"'giveCsparse' has been deprecated; setting 'repr = \"T\"' for you\"\n",
      "Warning message in Matrix::sparseMatrix(dims = c(0, 0), i = integer(0), j = integer(0), :\n",
      "\"'giveCsparse' has been deprecated; setting 'repr = \"T\"' for you\"\n",
      "Warning message in Matrix::sparseMatrix(dims = c(0, 0), i = integer(0), j = integer(0), :\n",
      "\"'giveCsparse' has been deprecated; setting 'repr = \"T\"' for you\"\n",
      "Warning message in Matrix::sparseMatrix(dims = c(0, 0), i = integer(0), j = integer(0), :\n",
      "\"'giveCsparse' has been deprecated; setting 'repr = \"T\"' for you\"\n",
      "DHARMa:testOutliers with type = binomial may have inflated Type I error rates for integer-valued distributions. To get a more exact result, it is recommended to re-run testOutliers with type = 'bootstrap'. See ?testOutliers for details\n",
      "\n"
     ]
    },
    {
     "name": "stdout",
     "output_type": "stream",
     "text": [
      "NULL\n",
      "NULL\n",
      "[1] \"month10\"\n"
     ]
    },
    {
     "name": "stderr",
     "output_type": "stream",
     "text": [
      "Warning message in Matrix::sparseMatrix(dims = c(0, 0), i = integer(0), j = integer(0), :\n",
      "\"'giveCsparse' has been deprecated; setting 'repr = \"T\"' for you\"\n",
      "Warning message in Matrix::sparseMatrix(dims = c(0, 0), i = integer(0), j = integer(0), :\n",
      "\"'giveCsparse' has been deprecated; setting 'repr = \"T\"' for you\"\n",
      "Warning message in Matrix::sparseMatrix(dims = c(0, 0), i = integer(0), j = integer(0), :\n",
      "\"'giveCsparse' has been deprecated; setting 'repr = \"T\"' for you\"\n",
      "Warning message in Matrix::sparseMatrix(dims = c(0, 0), i = integer(0), j = integer(0), :\n",
      "\"'giveCsparse' has been deprecated; setting 'repr = \"T\"' for you\"\n",
      "Warning message in Matrix::sparseMatrix(dims = c(0, 0), i = integer(0), j = integer(0), :\n",
      "\"'giveCsparse' has been deprecated; setting 'repr = \"T\"' for you\"\n",
      "Warning message in Matrix::sparseMatrix(dims = c(0, 0), i = integer(0), j = integer(0), :\n",
      "\"'giveCsparse' has been deprecated; setting 'repr = \"T\"' for you\"\n"
     ]
    },
    {
     "name": "stdout",
     "output_type": "stream",
     "text": [
      "Data: df__\n",
      "Models:\n",
      "fit_nopenid: vertical_travel_distance ~ CLASS + Treatment + rescale(DIB) + , zi=~0, disp=~1\n",
      "fit_nopenid:     rescale(weight_interp) + rescale(KBF_interp) + (1 | HenID), zi=~0, disp=~1\n",
      "fit_penid: vertical_travel_distance ~ CLASS + Treatment + rescale(DIB) + , zi=~0, disp=~1\n",
      "fit_penid:     rescale(weight_interp) + rescale(KBF_interp) + (1 | PenID/HenID), zi=~0, disp=~1\n",
      "            Df   AIC   BIC logLik deviance Chisq Chi Df Pr(>Chisq)\n",
      "fit_nopenid  8 26226 26275 -13105    26210                        \n",
      "fit_penid    9 26228 26282 -13105    26210 0.509      1     0.4756\n"
     ]
    },
    {
     "name": "stderr",
     "output_type": "stream",
     "text": [
      "Warning message in Matrix::sparseMatrix(dims = c(0, 0), i = integer(0), j = integer(0), :\n",
      "\"'giveCsparse' has been deprecated; setting 'repr = \"T\"' for you\"\n",
      "Warning message in Matrix::sparseMatrix(dims = c(0, 0), i = integer(0), j = integer(0), :\n",
      "\"'giveCsparse' has been deprecated; setting 'repr = \"T\"' for you\"\n",
      "Warning message in Matrix::sparseMatrix(dims = c(0, 0), i = integer(0), j = integer(0), :\n",
      "\"'giveCsparse' has been deprecated; setting 'repr = \"T\"' for you\"\n",
      "Warning message in Matrix::sparseMatrix(dims = c(0, 0), i = integer(0), j = integer(0), :\n",
      "\"'giveCsparse' has been deprecated; setting 'repr = \"T\"' for you\"\n",
      "Warning message in Matrix::sparseMatrix(dims = c(0, 0), i = integer(0), j = integer(0), :\n",
      "\"'giveCsparse' has been deprecated; setting 'repr = \"T\"' for you\"\n",
      "Warning message in Matrix::sparseMatrix(dims = c(0, 0), i = integer(0), j = integer(0), :\n",
      "\"'giveCsparse' has been deprecated; setting 'repr = \"T\"' for you\"\n",
      "DHARMa:testOutliers with type = binomial may have inflated Type I error rates for integer-valued distributions. To get a more exact result, it is recommended to re-run testOutliers with type = 'bootstrap'. See ?testOutliers for details\n",
      "\n"
     ]
    },
    {
     "name": "stdout",
     "output_type": "stream",
     "text": [
      "NULL\n",
      "NULL\n"
     ]
    },
    {
     "name": "stderr",
     "output_type": "stream",
     "text": [
      "Warning message in confint.glmmTMB(x, method = tolower(conf.method), level = conf.level, :\n",
      "\"extra arguments ignored:  intervals, prob\"\n",
      "Warning message in confint.glmmTMB(x, parm = thpar, method = conf.method, level = conf.level, :\n",
      "\"extra arguments ignored:  intervals, prob\"\n",
      "Warning message in confint.glmmTMB(x, method = tolower(conf.method), level = conf.level, :\n",
      "\"extra arguments ignored:  intervals, prob\"\n",
      "Warning message in confint.glmmTMB(x, parm = thpar, method = conf.method, level = conf.level, :\n",
      "\"extra arguments ignored:  intervals, prob\"\n",
      "Warning message in confint.glmmTMB(x, method = tolower(conf.method), level = conf.level, :\n",
      "\"extra arguments ignored:  intervals, prob\"\n",
      "Warning message in confint.glmmTMB(x, parm = thpar, method = conf.method, level = conf.level, :\n",
      "\"extra arguments ignored:  intervals, prob\"\n",
      "Warning message in confint.glmmTMB(x, method = tolower(conf.method), level = conf.level, :\n",
      "\"extra arguments ignored:  intervals, prob\"\n",
      "Warning message in confint.glmmTMB(x, parm = thpar, method = conf.method, level = conf.level, :\n",
      "\"extra arguments ignored:  intervals, prob\"\n",
      "Warning message in confint.glmmTMB(x, method = tolower(conf.method), level = conf.level, :\n",
      "\"extra arguments ignored:  intervals, prob\"\n",
      "Warning message in confint.glmmTMB(x, parm = thpar, method = conf.method, level = conf.level, :\n",
      "\"extra arguments ignored:  intervals, prob\"\n",
      "Warning message in confint.glmmTMB(x, method = tolower(conf.method), level = conf.level, :\n",
      "\"extra arguments ignored:  intervals, prob\"\n",
      "Warning message in confint.glmmTMB(x, parm = thpar, method = conf.method, level = conf.level, :\n",
      "\"extra arguments ignored:  intervals, prob\"\n",
      "Warning message in confint.glmmTMB(x, method = tolower(conf.method), level = conf.level, :\n",
      "\"extra arguments ignored:  intervals, prob\"\n",
      "Warning message in confint.glmmTMB(x, parm = thpar, method = conf.method, level = conf.level, :\n",
      "\"extra arguments ignored:  intervals, prob\"\n",
      "Warning message in confint.glmmTMB(x, method = tolower(conf.method), level = conf.level, :\n",
      "\"extra arguments ignored:  intervals, prob\"\n",
      "Warning message in confint.glmmTMB(x, parm = thpar, method = conf.method, level = conf.level, :\n",
      "\"extra arguments ignored:  intervals, prob\"\n",
      "Warning message in confint.glmmTMB(x, method = tolower(conf.method), level = conf.level, :\n",
      "\"extra arguments ignored:  intervals, prob\"\n",
      "Warning message in confint.glmmTMB(x, parm = thpar, method = conf.method, level = conf.level, :\n",
      "\"extra arguments ignored:  intervals, prob\"\n",
      "Warning message in confint.glmmTMB(x, method = tolower(conf.method), level = conf.level, :\n",
      "\"extra arguments ignored:  intervals, prob\"\n",
      "Warning message in confint.glmmTMB(x, parm = thpar, method = conf.method, level = conf.level, :\n",
      "\"extra arguments ignored:  intervals, prob\"\n"
     ]
    },
    {
     "data": {
      "text/html": [
       "<strong>png:</strong> 2"
      ],
      "text/latex": [
       "\\textbf{png:} 2"
      ],
      "text/markdown": [
       "**png:** 2"
      ],
      "text/plain": [
       "png \n",
       "  2 "
      ]
     },
     "metadata": {},
     "output_type": "display_data"
    },
    {
     "name": "stderr",
     "output_type": "stream",
     "text": [
      "Warning message:\n",
      "\"Following potential variables could not be found in the data: DIB ,weight_interp\n",
      "  ,nbr_h_per_day\"\n",
      "Warning message:\n",
      "\"Following potential variables could not be found in the data: DIB ,weight_interp\n",
      "  ,nbr_h_per_day\"\n",
      "Warning message:\n",
      "\"Following potential variables could not be found in the data: DIB ,weight_interp\n",
      "  ,KBF_interp\"\n",
      "Warning message:\n",
      "\"Following potential variables could not be found in the data: DIB ,weight_interp\n",
      "  ,KBF_interp\"\n",
      "Warning message:\n",
      "\"Following potential variables could not be found in the data: DIB ,weight_interp\n",
      "  ,KBF_interp\"\n",
      "Warning message:\n",
      "\"Following potential variables could not be found in the data: DIB ,weight_interp\n",
      "  ,nbr_h_per_day\"\n",
      "Warning message:\n",
      "\"Following potential variables could not be found in the data: DIB ,weight_interp\n",
      "  ,nbr_h_per_day\"\n",
      "Warning message:\n",
      "\"Following potential variables could not be found in the data: DIB ,weight_interp\n",
      "  ,KBF_interp\"\n",
      "Warning message:\n",
      "\"Following potential variables could not be found in the data: DIB ,weight_interp\n",
      "  ,KBF_interp\"\n",
      "Warning message:\n",
      "\"Following potential variables could not be found in the data: DIB ,weight_interp\n",
      "  ,KBF_interp\"\n",
      "Warning message:\n",
      "\"Following potential variables could not be found in the data: DIB ,weight_interp\n",
      "  ,nbr_h_per_day\"\n",
      "Warning message:\n",
      "\"Following potential variables could not be found in the data: DIB ,weight_interp\n",
      "  ,nbr_h_per_day\"\n",
      "Warning message:\n",
      "\"Following potential variables could not be found in the data: DIB ,weight_interp\n",
      "  ,KBF_interp\"\n",
      "Warning message:\n",
      "\"Following potential variables could not be found in the data: DIB ,weight_interp\n",
      "  ,KBF_interp\"\n",
      "Warning message:\n",
      "\"Following potential variables could not be found in the data: DIB ,weight_interp\n",
      "  ,KBF_interp\"\n",
      "Warning message:\n",
      "\"Following potential variables could not be found in the data: DIB ,weight_interp\n",
      "  ,KBF_interp\"\n",
      "Warning message:\n",
      "\"Following potential variables could not be found in the data: DIB ,weight_interp\n",
      "  ,KBF_interp\"\n",
      "Warning message:\n",
      "\"Following potential variables could not be found in the data: DIB ,weight_interp\n",
      "  ,KBF_interp\"\n",
      "Warning message:\n",
      "\"Following potential variables could not be found in the data: DIB ,weight_interp\n",
      "  ,KBF_interp\"\n",
      "Warning message:\n",
      "\"Following potential variables could not be found in the data: DIB ,weight_interp\n",
      "  ,KBF_interp\"\n",
      "Warning message:\n",
      "\"Following potential variables could not be found in the data: DIB ,weight_interp\n",
      "  ,KBF_interp\"\n",
      "Warning message:\n",
      "\"Following potential variables could not be found in the data: DIB ,weight_interp\n",
      "  ,KBF_interp\"\n",
      "Warning message:\n",
      "\"Following potential variables could not be found in the data: DIB ,weight_interp\n",
      "  ,KBF_interp\"\n",
      "Warning message:\n",
      "\"Following potential variables could not be found in the data: DIB ,weight_interp\n",
      "  ,KBF_interp\"\n",
      "Warning message:\n",
      "\"Following potential variables could not be found in the data: DIB ,weight_interp\n",
      "  ,KBF_interp\"\n",
      "Warning message:\n",
      "\"Following potential variables could not be found in the data: DIB ,weight_interp\n",
      "  ,KBF_interp\"\n",
      "Warning message:\n",
      "\"Following potential variables could not be found in the data: DIB ,weight_interp\n",
      "  ,KBF_interp\"\n"
     ]
    }
   ],
   "source": [
    "var = 'vertical_travel_distance'\n",
    "path_visual_ = file.path(path_visual, var)\n",
    "dir.create(path_visual_)\n",
    "dim(df)\n",
    "df_ = df\n",
    "dim(df_)\n",
    "\n",
    "li_model = list()\n",
    "for (i in 1:10){\n",
    "    monthILBID = paste0('month',i)\n",
    "    print(monthILBID)\n",
    "    df__ = df_[df_$monthILB==monthILBID,]\n",
    "    #drop factors not existing in this subdataframe\n",
    "    df__$HenID = factor(df__$HenID) \n",
    "    df__$PenID = factor(df__$PenID)\n",
    "    df__$CLASS = factor(df__$CLASS) \n",
    "    #monthILB1-monthILB2: no KBF but nbr_h_per_day_sc, after KBF but no nbr_h_per_day_sc\n",
    "    if (monthILBID %in% c('month1', 'month2')){\n",
    "        fit_nopenid = glmmTMB(vertical_travel_distance ~  CLASS+ Treatment + rescale(DIB) + rescale(weight_interp)+ rescale(nbr_h_per_day)+(1|HenID), \n",
    "                   data=df__, family=poisson)\n",
    "        fit_penid = glmmTMB(vertical_travel_distance ~  CLASS+ Treatment + rescale(DIB) + rescale(weight_interp)+ rescale(nbr_h_per_day)+(1|PenID/HenID), \n",
    "                   data=df__, family=poisson)}\n",
    "    else{\n",
    "        fit_nopenid = glmmTMB(vertical_travel_distance ~  CLASS + Treatment + rescale(DIB) + rescale(weight_interp)+ rescale(KBF_interp) + (1|HenID), \n",
    "                   data=df__, family=poisson)\n",
    "        fit_penid = glmmTMB(vertical_travel_distance ~  CLASS + Treatment + rescale(DIB) + rescale(weight_interp)+ rescale(KBF_interp) + (1|PenID/HenID), \n",
    "                   data=df__, family=poisson)}    \n",
    "    print(anova(fit_nopenid,fit_penid))\n",
    "    p_value = anova(fit_nopenid,fit_penid)['Pr(>Chisq)']['fit_penid',]\n",
    "    if (p_value<0.05){\n",
    "        fit = fit_penid    \n",
    "    }else{\n",
    "        fit = fit_nopenid    \n",
    "    }\n",
    "    \n",
    "    li_model[[i]] = fit\n",
    "    write.csv(summary(fit)[['coefficients']]$cond, file=file.path(path_visual_, paste0(var,monthILBID,'.csv')) )\n",
    "    \n",
    "    set.seed(0)\n",
    "    simulationOutput = simulateResiduals(fittedModel=fit)\n",
    "    tiff(file.path(path_visual_, paste0(var,'_SimRes1',monthILBID,'.tiff')), width=400, height=400)\n",
    "    print(plot(simulationOutput))\n",
    "    dev.off()\n",
    "    \n",
    "    tiff(file.path(path_visual_, paste0(var,'_SimRes2',monthILBID,'.tiff')), width=400, height=400)\n",
    "    print(plotResiduals(simulationOutput, form = df__$Treatment))\n",
    "    dev.off()}\n",
    "\n",
    "\n",
    "tiff(file.path(path_visual_, paste0(var,'_OFHCoeff','.tiff')), width=400, height=400)\n",
    "plot_summs(li_model, coefs=c('TreatmentOFH'), colors='Rainbow', legend.title=var, exp=TRUE)\n",
    "dev.off()\n",
    "tab_model(li_model[1:5], collapse.ci = TRUE, p.style = \"numeric_stars\", file=file.path(path_visual_, paste0(var,'_TableModel1-5.doc')))\n",
    "tab_model(li_model[6:10], collapse.ci = TRUE, p.style = \"numeric_stars\", file=file.path(path_visual_, paste0(var,'_TableModel6-10.doc')))"
   ]
  },
  {
   "cell_type": "markdown",
   "id": "36a2e151",
   "metadata": {},
   "source": [
    "## propindoor_duration_4_Zone_rs"
   ]
  },
  {
   "cell_type": "code",
   "execution_count": 59,
   "id": "32672b97",
   "metadata": {},
   "outputs": [
    {
     "data": {
      "text/html": [
       "<style>\n",
       ".list-inline {list-style: none; margin:0; padding: 0}\n",
       ".list-inline>li {display: inline-block}\n",
       ".list-inline>li:not(:last-child)::after {content: \"\\00b7\"; padding: 0 .5ex}\n",
       "</style>\n",
       "<ol class=list-inline><li>37455</li><li>26</li></ol>\n"
      ],
      "text/latex": [
       "\\begin{enumerate*}\n",
       "\\item 37455\n",
       "\\item 26\n",
       "\\end{enumerate*}\n"
      ],
      "text/markdown": [
       "1. 37455\n",
       "2. 26\n",
       "\n",
       "\n"
      ],
      "text/plain": [
       "[1] 37455    26"
      ]
     },
     "metadata": {},
     "output_type": "display_data"
    },
    {
     "data": {
      "text/html": [
       "<style>\n",
       ".list-inline {list-style: none; margin:0; padding: 0}\n",
       ".list-inline>li {display: inline-block}\n",
       ".list-inline>li:not(:last-child)::after {content: \"\\00b7\"; padding: 0 .5ex}\n",
       "</style>\n",
       "<ol class=list-inline><li>33932</li><li>26</li></ol>\n"
      ],
      "text/latex": [
       "\\begin{enumerate*}\n",
       "\\item 33932\n",
       "\\item 26\n",
       "\\end{enumerate*}\n"
      ],
      "text/markdown": [
       "1. 33932\n",
       "2. 26\n",
       "\n",
       "\n"
      ],
      "text/plain": [
       "[1] 33932    26"
      ]
     },
     "metadata": {},
     "output_type": "display_data"
    },
    {
     "data": {
      "text/html": [
       "<style>\n",
       ".list-inline {list-style: none; margin:0; padding: 0}\n",
       ".list-inline>li {display: inline-block}\n",
       ".list-inline>li:not(:last-child)::after {content: \"\\00b7\"; padding: 0 .5ex}\n",
       "</style>\n",
       "<ol class=list-inline><li>33810</li><li>26</li></ol>\n"
      ],
      "text/latex": [
       "\\begin{enumerate*}\n",
       "\\item 33810\n",
       "\\item 26\n",
       "\\end{enumerate*}\n"
      ],
      "text/markdown": [
       "1. 33810\n",
       "2. 26\n",
       "\n",
       "\n"
      ],
      "text/plain": [
       "[1] 33810    26"
      ]
     },
     "metadata": {},
     "output_type": "display_data"
    },
    {
     "name": "stdout",
     "output_type": "stream",
     "text": [
      "[1] \"month2\"\n",
      "[1] 4053   26\n"
     ]
    },
    {
     "name": "stderr",
     "output_type": "stream",
     "text": [
      "Warning message in Matrix::sparseMatrix(dims = c(0, 0), i = integer(0), j = integer(0), :\n",
      "\"'giveCsparse' has been deprecated; setting 'repr = \"T\"' for you\"\n",
      "Warning message in Matrix::sparseMatrix(dims = c(0, 0), i = integer(0), j = integer(0), :\n",
      "\"'giveCsparse' has been deprecated; setting 'repr = \"T\"' for you\"\n",
      "Warning message in Matrix::sparseMatrix(dims = c(0, 0), i = integer(0), j = integer(0), :\n",
      "\"'giveCsparse' has been deprecated; setting 'repr = \"T\"' for you\"\n",
      "Warning message in Matrix::sparseMatrix(dims = c(0, 0), i = integer(0), j = integer(0), :\n",
      "\"'giveCsparse' has been deprecated; setting 'repr = \"T\"' for you\"\n",
      "Warning message in Matrix::sparseMatrix(dims = c(0, 0), i = integer(0), j = integer(0), :\n",
      "\"'giveCsparse' has been deprecated; setting 'repr = \"T\"' for you\"\n",
      "Warning message in Matrix::sparseMatrix(dims = c(0, 0), i = integer(0), j = integer(0), :\n",
      "\"'giveCsparse' has been deprecated; setting 'repr = \"T\"' for you\"\n"
     ]
    },
    {
     "name": "stdout",
     "output_type": "stream",
     "text": [
      "Data: df__\n",
      "Models:\n",
      "fit_nopenid: propindoor_duration_4_Zone_rs ~ CLASS + Treatment + rescale(DIB) + , zi=~0, disp=~1\n",
      "fit_nopenid:     rescale(weight_interp) + rescale(nbr_h_per_day) + (1 | HenID), zi=~0, disp=~1\n",
      "fit_penid: propindoor_duration_4_Zone_rs ~ CLASS + Treatment + rescale(DIB) + , zi=~0, disp=~1\n",
      "fit_penid:     rescale(weight_interp) + rescale(nbr_h_per_day) + (1 | PenID/HenID), zi=~0, disp=~1\n",
      "            Df    AIC    BIC logLik deviance  Chisq Chi Df Pr(>Chisq)\n",
      "fit_nopenid  9 -17385 -17329 8701.7   -17403                         \n",
      "fit_penid   10 -17384 -17320 8701.7   -17404 0.1513      1     0.6973\n"
     ]
    },
    {
     "name": "stderr",
     "output_type": "stream",
     "text": [
      "Warning message in Matrix::sparseMatrix(dims = c(0, 0), i = integer(0), j = integer(0), :\n",
      "\"'giveCsparse' has been deprecated; setting 'repr = \"T\"' for you\"\n",
      "Warning message in Matrix::sparseMatrix(dims = c(0, 0), i = integer(0), j = integer(0), :\n",
      "\"'giveCsparse' has been deprecated; setting 'repr = \"T\"' for you\"\n",
      "Warning message in Matrix::sparseMatrix(dims = c(0, 0), i = integer(0), j = integer(0), :\n",
      "\"'giveCsparse' has been deprecated; setting 'repr = \"T\"' for you\"\n",
      "Warning message in Matrix::sparseMatrix(dims = c(0, 0), i = integer(0), j = integer(0), :\n",
      "\"'giveCsparse' has been deprecated; setting 'repr = \"T\"' for you\"\n",
      "Warning message in Matrix::sparseMatrix(dims = c(0, 0), i = integer(0), j = integer(0), :\n",
      "\"'giveCsparse' has been deprecated; setting 'repr = \"T\"' for you\"\n",
      "Warning message in Matrix::sparseMatrix(dims = c(0, 0), i = integer(0), j = integer(0), :\n",
      "\"'giveCsparse' has been deprecated; setting 'repr = \"T\"' for you\"\n"
     ]
    },
    {
     "name": "stdout",
     "output_type": "stream",
     "text": [
      "NULL\n",
      "NULL\n",
      "[1] \"month3\"\n",
      "[1] 4435   26\n"
     ]
    },
    {
     "name": "stderr",
     "output_type": "stream",
     "text": [
      "Warning message in Matrix::sparseMatrix(dims = c(0, 0), i = integer(0), j = integer(0), :\n",
      "\"'giveCsparse' has been deprecated; setting 'repr = \"T\"' for you\"\n",
      "Warning message in Matrix::sparseMatrix(dims = c(0, 0), i = integer(0), j = integer(0), :\n",
      "\"'giveCsparse' has been deprecated; setting 'repr = \"T\"' for you\"\n",
      "Warning message in Matrix::sparseMatrix(dims = c(0, 0), i = integer(0), j = integer(0), :\n",
      "\"'giveCsparse' has been deprecated; setting 'repr = \"T\"' for you\"\n",
      "Warning message in Matrix::sparseMatrix(dims = c(0, 0), i = integer(0), j = integer(0), :\n",
      "\"'giveCsparse' has been deprecated; setting 'repr = \"T\"' for you\"\n",
      "Warning message in Matrix::sparseMatrix(dims = c(0, 0), i = integer(0), j = integer(0), :\n",
      "\"'giveCsparse' has been deprecated; setting 'repr = \"T\"' for you\"\n",
      "Warning message in Matrix::sparseMatrix(dims = c(0, 0), i = integer(0), j = integer(0), :\n",
      "\"'giveCsparse' has been deprecated; setting 'repr = \"T\"' for you\"\n"
     ]
    },
    {
     "name": "stdout",
     "output_type": "stream",
     "text": [
      "Data: df__\n",
      "Models:\n",
      "fit_nopenid: propindoor_duration_4_Zone_rs ~ CLASS + Treatment + rescale(DIB) + , zi=~0, disp=~1\n",
      "fit_nopenid:     rescale(weight_interp) + rescale(KBF_interp) + (1 | HenID), zi=~0, disp=~1\n",
      "fit_penid: propindoor_duration_4_Zone_rs ~ CLASS + Treatment + rescale(DIB) + , zi=~0, disp=~1\n",
      "fit_penid:     rescale(weight_interp) + rescale(KBF_interp) + (1 | PenID/HenID), zi=~0, disp=~1\n",
      "            Df    AIC    BIC logLik deviance Chisq Chi Df Pr(>Chisq)\n",
      "fit_nopenid  9 -20996 -20938  10507   -21014                        \n",
      "fit_penid   10 -20994 -20930  10507   -21014     0      1          1\n"
     ]
    },
    {
     "name": "stderr",
     "output_type": "stream",
     "text": [
      "Warning message in Matrix::sparseMatrix(dims = c(0, 0), i = integer(0), j = integer(0), :\n",
      "\"'giveCsparse' has been deprecated; setting 'repr = \"T\"' for you\"\n",
      "Warning message in Matrix::sparseMatrix(dims = c(0, 0), i = integer(0), j = integer(0), :\n",
      "\"'giveCsparse' has been deprecated; setting 'repr = \"T\"' for you\"\n",
      "Warning message in Matrix::sparseMatrix(dims = c(0, 0), i = integer(0), j = integer(0), :\n",
      "\"'giveCsparse' has been deprecated; setting 'repr = \"T\"' for you\"\n",
      "Warning message in Matrix::sparseMatrix(dims = c(0, 0), i = integer(0), j = integer(0), :\n",
      "\"'giveCsparse' has been deprecated; setting 'repr = \"T\"' for you\"\n",
      "Warning message in Matrix::sparseMatrix(dims = c(0, 0), i = integer(0), j = integer(0), :\n",
      "\"'giveCsparse' has been deprecated; setting 'repr = \"T\"' for you\"\n",
      "Warning message in Matrix::sparseMatrix(dims = c(0, 0), i = integer(0), j = integer(0), :\n",
      "\"'giveCsparse' has been deprecated; setting 'repr = \"T\"' for you\"\n"
     ]
    },
    {
     "name": "stdout",
     "output_type": "stream",
     "text": [
      "NULL\n",
      "NULL\n",
      "[1] \"month4\"\n",
      "[1] 3636   26\n"
     ]
    },
    {
     "name": "stderr",
     "output_type": "stream",
     "text": [
      "Warning message in Matrix::sparseMatrix(dims = c(0, 0), i = integer(0), j = integer(0), :\n",
      "\"'giveCsparse' has been deprecated; setting 'repr = \"T\"' for you\"\n",
      "Warning message in Matrix::sparseMatrix(dims = c(0, 0), i = integer(0), j = integer(0), :\n",
      "\"'giveCsparse' has been deprecated; setting 'repr = \"T\"' for you\"\n",
      "Warning message in Matrix::sparseMatrix(dims = c(0, 0), i = integer(0), j = integer(0), :\n",
      "\"'giveCsparse' has been deprecated; setting 'repr = \"T\"' for you\"\n",
      "Warning message in Matrix::sparseMatrix(dims = c(0, 0), i = integer(0), j = integer(0), :\n",
      "\"'giveCsparse' has been deprecated; setting 'repr = \"T\"' for you\"\n",
      "Warning message in Matrix::sparseMatrix(dims = c(0, 0), i = integer(0), j = integer(0), :\n",
      "\"'giveCsparse' has been deprecated; setting 'repr = \"T\"' for you\"\n",
      "Warning message in Matrix::sparseMatrix(dims = c(0, 0), i = integer(0), j = integer(0), :\n",
      "\"'giveCsparse' has been deprecated; setting 'repr = \"T\"' for you\"\n"
     ]
    },
    {
     "name": "stdout",
     "output_type": "stream",
     "text": [
      "Data: df__\n",
      "Models:\n",
      "fit_nopenid: propindoor_duration_4_Zone_rs ~ CLASS + Treatment + rescale(DIB) + , zi=~0, disp=~1\n",
      "fit_nopenid:     rescale(weight_interp) + rescale(KBF_interp) + (1 | HenID), zi=~0, disp=~1\n",
      "fit_penid: propindoor_duration_4_Zone_rs ~ CLASS + Treatment + rescale(DIB) + , zi=~0, disp=~1\n",
      "fit_penid:     rescale(weight_interp) + rescale(KBF_interp) + (1 | PenID/HenID), zi=~0, disp=~1\n",
      "            Df    AIC    BIC logLik deviance Chisq Chi Df Pr(>Chisq)\n",
      "fit_nopenid  9 -15530 -15474 7774.1   -15548                        \n",
      "fit_penid   10 -15528 -15466 7774.1   -15548     0      1          1\n"
     ]
    },
    {
     "name": "stderr",
     "output_type": "stream",
     "text": [
      "Warning message in Matrix::sparseMatrix(dims = c(0, 0), i = integer(0), j = integer(0), :\n",
      "\"'giveCsparse' has been deprecated; setting 'repr = \"T\"' for you\"\n",
      "Warning message in Matrix::sparseMatrix(dims = c(0, 0), i = integer(0), j = integer(0), :\n",
      "\"'giveCsparse' has been deprecated; setting 'repr = \"T\"' for you\"\n",
      "Warning message in Matrix::sparseMatrix(dims = c(0, 0), i = integer(0), j = integer(0), :\n",
      "\"'giveCsparse' has been deprecated; setting 'repr = \"T\"' for you\"\n",
      "Warning message in Matrix::sparseMatrix(dims = c(0, 0), i = integer(0), j = integer(0), :\n",
      "\"'giveCsparse' has been deprecated; setting 'repr = \"T\"' for you\"\n",
      "Warning message in Matrix::sparseMatrix(dims = c(0, 0), i = integer(0), j = integer(0), :\n",
      "\"'giveCsparse' has been deprecated; setting 'repr = \"T\"' for you\"\n",
      "Warning message in Matrix::sparseMatrix(dims = c(0, 0), i = integer(0), j = integer(0), :\n",
      "\"'giveCsparse' has been deprecated; setting 'repr = \"T\"' for you\"\n"
     ]
    },
    {
     "name": "stdout",
     "output_type": "stream",
     "text": [
      "NULL\n",
      "NULL\n",
      "[1] \"month5\"\n",
      "[1] 3841   26\n"
     ]
    },
    {
     "name": "stderr",
     "output_type": "stream",
     "text": [
      "Warning message in Matrix::sparseMatrix(dims = c(0, 0), i = integer(0), j = integer(0), :\n",
      "\"'giveCsparse' has been deprecated; setting 'repr = \"T\"' for you\"\n",
      "Warning message in Matrix::sparseMatrix(dims = c(0, 0), i = integer(0), j = integer(0), :\n",
      "\"'giveCsparse' has been deprecated; setting 'repr = \"T\"' for you\"\n",
      "Warning message in Matrix::sparseMatrix(dims = c(0, 0), i = integer(0), j = integer(0), :\n",
      "\"'giveCsparse' has been deprecated; setting 'repr = \"T\"' for you\"\n",
      "Warning message in Matrix::sparseMatrix(dims = c(0, 0), i = integer(0), j = integer(0), :\n",
      "\"'giveCsparse' has been deprecated; setting 'repr = \"T\"' for you\"\n",
      "Warning message in Matrix::sparseMatrix(dims = c(0, 0), i = integer(0), j = integer(0), :\n",
      "\"'giveCsparse' has been deprecated; setting 'repr = \"T\"' for you\"\n",
      "Warning message in Matrix::sparseMatrix(dims = c(0, 0), i = integer(0), j = integer(0), :\n",
      "\"'giveCsparse' has been deprecated; setting 'repr = \"T\"' for you\"\n"
     ]
    },
    {
     "name": "stdout",
     "output_type": "stream",
     "text": [
      "Data: df__\n",
      "Models:\n",
      "fit_nopenid: propindoor_duration_4_Zone_rs ~ CLASS + Treatment + rescale(DIB) + , zi=~0, disp=~1\n",
      "fit_nopenid:     rescale(weight_interp) + rescale(KBF_interp) + (1 | HenID), zi=~0, disp=~1\n",
      "fit_penid: propindoor_duration_4_Zone_rs ~ CLASS + Treatment + rescale(DIB) + , zi=~0, disp=~1\n",
      "fit_penid:     rescale(weight_interp) + rescale(KBF_interp) + (1 | PenID/HenID), zi=~0, disp=~1\n",
      "            Df    AIC    BIC logLik deviance  Chisq Chi Df Pr(>Chisq)\n",
      "fit_nopenid  9 -17896 -17839 8956.8   -17914                         \n",
      "fit_penid   10 -17894 -17831 8956.8   -17914 0.0022      1     0.9625\n"
     ]
    },
    {
     "name": "stderr",
     "output_type": "stream",
     "text": [
      "Warning message in Matrix::sparseMatrix(dims = c(0, 0), i = integer(0), j = integer(0), :\n",
      "\"'giveCsparse' has been deprecated; setting 'repr = \"T\"' for you\"\n",
      "Warning message in Matrix::sparseMatrix(dims = c(0, 0), i = integer(0), j = integer(0), :\n",
      "\"'giveCsparse' has been deprecated; setting 'repr = \"T\"' for you\"\n",
      "Warning message in Matrix::sparseMatrix(dims = c(0, 0), i = integer(0), j = integer(0), :\n",
      "\"'giveCsparse' has been deprecated; setting 'repr = \"T\"' for you\"\n",
      "Warning message in Matrix::sparseMatrix(dims = c(0, 0), i = integer(0), j = integer(0), :\n",
      "\"'giveCsparse' has been deprecated; setting 'repr = \"T\"' for you\"\n",
      "Warning message in Matrix::sparseMatrix(dims = c(0, 0), i = integer(0), j = integer(0), :\n",
      "\"'giveCsparse' has been deprecated; setting 'repr = \"T\"' for you\"\n",
      "Warning message in Matrix::sparseMatrix(dims = c(0, 0), i = integer(0), j = integer(0), :\n",
      "\"'giveCsparse' has been deprecated; setting 'repr = \"T\"' for you\"\n"
     ]
    },
    {
     "name": "stdout",
     "output_type": "stream",
     "text": [
      "NULL\n",
      "NULL\n",
      "[1] \"month6\"\n",
      "[1] 4181   26\n"
     ]
    },
    {
     "name": "stderr",
     "output_type": "stream",
     "text": [
      "Warning message in Matrix::sparseMatrix(dims = c(0, 0), i = integer(0), j = integer(0), :\n",
      "\"'giveCsparse' has been deprecated; setting 'repr = \"T\"' for you\"\n",
      "Warning message in Matrix::sparseMatrix(dims = c(0, 0), i = integer(0), j = integer(0), :\n",
      "\"'giveCsparse' has been deprecated; setting 'repr = \"T\"' for you\"\n",
      "Warning message in Matrix::sparseMatrix(dims = c(0, 0), i = integer(0), j = integer(0), :\n",
      "\"'giveCsparse' has been deprecated; setting 'repr = \"T\"' for you\"\n",
      "Warning message in Matrix::sparseMatrix(dims = c(0, 0), i = integer(0), j = integer(0), :\n",
      "\"'giveCsparse' has been deprecated; setting 'repr = \"T\"' for you\"\n",
      "Warning message in Matrix::sparseMatrix(dims = c(0, 0), i = integer(0), j = integer(0), :\n",
      "\"'giveCsparse' has been deprecated; setting 'repr = \"T\"' for you\"\n",
      "Warning message in Matrix::sparseMatrix(dims = c(0, 0), i = integer(0), j = integer(0), :\n",
      "\"'giveCsparse' has been deprecated; setting 'repr = \"T\"' for you\"\n"
     ]
    },
    {
     "name": "stdout",
     "output_type": "stream",
     "text": [
      "Data: df__\n",
      "Models:\n",
      "fit_nopenid: propindoor_duration_4_Zone_rs ~ CLASS + Treatment + rescale(DIB) + , zi=~0, disp=~1\n",
      "fit_nopenid:     rescale(weight_interp) + rescale(KBF_interp) + (1 | HenID), zi=~0, disp=~1\n",
      "fit_penid: propindoor_duration_4_Zone_rs ~ CLASS + Treatment + rescale(DIB) + , zi=~0, disp=~1\n",
      "fit_penid:     rescale(weight_interp) + rescale(KBF_interp) + (1 | PenID/HenID), zi=~0, disp=~1\n",
      "            Df    AIC    BIC logLik deviance  Chisq Chi Df Pr(>Chisq)\n",
      "fit_nopenid  9 -20540 -20483  10279   -20558                         \n",
      "fit_penid   10 -20538 -20475  10279   -20558 0.0106      1     0.9178\n"
     ]
    },
    {
     "name": "stderr",
     "output_type": "stream",
     "text": [
      "Warning message in Matrix::sparseMatrix(dims = c(0, 0), i = integer(0), j = integer(0), :\n",
      "\"'giveCsparse' has been deprecated; setting 'repr = \"T\"' for you\"\n",
      "Warning message in Matrix::sparseMatrix(dims = c(0, 0), i = integer(0), j = integer(0), :\n",
      "\"'giveCsparse' has been deprecated; setting 'repr = \"T\"' for you\"\n",
      "Warning message in Matrix::sparseMatrix(dims = c(0, 0), i = integer(0), j = integer(0), :\n",
      "\"'giveCsparse' has been deprecated; setting 'repr = \"T\"' for you\"\n",
      "Warning message in Matrix::sparseMatrix(dims = c(0, 0), i = integer(0), j = integer(0), :\n",
      "\"'giveCsparse' has been deprecated; setting 'repr = \"T\"' for you\"\n",
      "Warning message in Matrix::sparseMatrix(dims = c(0, 0), i = integer(0), j = integer(0), :\n",
      "\"'giveCsparse' has been deprecated; setting 'repr = \"T\"' for you\"\n",
      "Warning message in Matrix::sparseMatrix(dims = c(0, 0), i = integer(0), j = integer(0), :\n",
      "\"'giveCsparse' has been deprecated; setting 'repr = \"T\"' for you\"\n"
     ]
    },
    {
     "name": "stdout",
     "output_type": "stream",
     "text": [
      "NULL\n",
      "NULL\n",
      "[1] \"month7\"\n",
      "[1] 4112   26\n"
     ]
    },
    {
     "name": "stderr",
     "output_type": "stream",
     "text": [
      "Warning message in Matrix::sparseMatrix(dims = c(0, 0), i = integer(0), j = integer(0), :\n",
      "\"'giveCsparse' has been deprecated; setting 'repr = \"T\"' for you\"\n",
      "Warning message in Matrix::sparseMatrix(dims = c(0, 0), i = integer(0), j = integer(0), :\n",
      "\"'giveCsparse' has been deprecated; setting 'repr = \"T\"' for you\"\n",
      "Warning message in Matrix::sparseMatrix(dims = c(0, 0), i = integer(0), j = integer(0), :\n",
      "\"'giveCsparse' has been deprecated; setting 'repr = \"T\"' for you\"\n",
      "Warning message in Matrix::sparseMatrix(dims = c(0, 0), i = integer(0), j = integer(0), :\n",
      "\"'giveCsparse' has been deprecated; setting 'repr = \"T\"' for you\"\n",
      "Warning message in Matrix::sparseMatrix(dims = c(0, 0), i = integer(0), j = integer(0), :\n",
      "\"'giveCsparse' has been deprecated; setting 'repr = \"T\"' for you\"\n",
      "Warning message in Matrix::sparseMatrix(dims = c(0, 0), i = integer(0), j = integer(0), :\n",
      "\"'giveCsparse' has been deprecated; setting 'repr = \"T\"' for you\"\n"
     ]
    },
    {
     "name": "stdout",
     "output_type": "stream",
     "text": [
      "Data: df__\n",
      "Models:\n",
      "fit_nopenid: propindoor_duration_4_Zone_rs ~ CLASS + Treatment + rescale(DIB) + , zi=~0, disp=~1\n",
      "fit_nopenid:     rescale(weight_interp) + rescale(KBF_interp) + (1 | HenID), zi=~0, disp=~1\n",
      "fit_penid: propindoor_duration_4_Zone_rs ~ CLASS + Treatment + rescale(DIB) + , zi=~0, disp=~1\n",
      "fit_penid:     rescale(weight_interp) + rescale(KBF_interp) + (1 | PenID/HenID), zi=~0, disp=~1\n",
      "            Df    AIC    BIC logLik deviance  Chisq Chi Df Pr(>Chisq)\n",
      "fit_nopenid  9 -19619 -19562 9818.4   -19637                         \n",
      "fit_penid   10 -19617 -19554 9818.5   -19637 0.0287      1     0.8654\n"
     ]
    },
    {
     "name": "stderr",
     "output_type": "stream",
     "text": [
      "Warning message in Matrix::sparseMatrix(dims = c(0, 0), i = integer(0), j = integer(0), :\n",
      "\"'giveCsparse' has been deprecated; setting 'repr = \"T\"' for you\"\n",
      "Warning message in Matrix::sparseMatrix(dims = c(0, 0), i = integer(0), j = integer(0), :\n",
      "\"'giveCsparse' has been deprecated; setting 'repr = \"T\"' for you\"\n",
      "Warning message in Matrix::sparseMatrix(dims = c(0, 0), i = integer(0), j = integer(0), :\n",
      "\"'giveCsparse' has been deprecated; setting 'repr = \"T\"' for you\"\n",
      "Warning message in Matrix::sparseMatrix(dims = c(0, 0), i = integer(0), j = integer(0), :\n",
      "\"'giveCsparse' has been deprecated; setting 'repr = \"T\"' for you\"\n",
      "Warning message in Matrix::sparseMatrix(dims = c(0, 0), i = integer(0), j = integer(0), :\n",
      "\"'giveCsparse' has been deprecated; setting 'repr = \"T\"' for you\"\n",
      "Warning message in Matrix::sparseMatrix(dims = c(0, 0), i = integer(0), j = integer(0), :\n",
      "\"'giveCsparse' has been deprecated; setting 'repr = \"T\"' for you\"\n"
     ]
    },
    {
     "name": "stdout",
     "output_type": "stream",
     "text": [
      "NULL\n",
      "NULL\n",
      "[1] \"month8\"\n",
      "[1] 4552   26\n"
     ]
    },
    {
     "name": "stderr",
     "output_type": "stream",
     "text": [
      "Warning message in Matrix::sparseMatrix(dims = c(0, 0), i = integer(0), j = integer(0), :\n",
      "\"'giveCsparse' has been deprecated; setting 'repr = \"T\"' for you\"\n",
      "Warning message in Matrix::sparseMatrix(dims = c(0, 0), i = integer(0), j = integer(0), :\n",
      "\"'giveCsparse' has been deprecated; setting 'repr = \"T\"' for you\"\n",
      "Warning message in Matrix::sparseMatrix(dims = c(0, 0), i = integer(0), j = integer(0), :\n",
      "\"'giveCsparse' has been deprecated; setting 'repr = \"T\"' for you\"\n",
      "Warning message in Matrix::sparseMatrix(dims = c(0, 0), i = integer(0), j = integer(0), :\n",
      "\"'giveCsparse' has been deprecated; setting 'repr = \"T\"' for you\"\n",
      "Warning message in Matrix::sparseMatrix(dims = c(0, 0), i = integer(0), j = integer(0), :\n",
      "\"'giveCsparse' has been deprecated; setting 'repr = \"T\"' for you\"\n",
      "Warning message in Matrix::sparseMatrix(dims = c(0, 0), i = integer(0), j = integer(0), :\n",
      "\"'giveCsparse' has been deprecated; setting 'repr = \"T\"' for you\"\n"
     ]
    },
    {
     "name": "stdout",
     "output_type": "stream",
     "text": [
      "Data: df__\n",
      "Models:\n",
      "fit_nopenid: propindoor_duration_4_Zone_rs ~ CLASS + Treatment + rescale(DIB) + , zi=~0, disp=~1\n",
      "fit_nopenid:     rescale(weight_interp) + rescale(KBF_interp) + (1 | HenID), zi=~0, disp=~1\n",
      "fit_penid: propindoor_duration_4_Zone_rs ~ CLASS + Treatment + rescale(DIB) + , zi=~0, disp=~1\n",
      "fit_penid:     rescale(weight_interp) + rescale(KBF_interp) + (1 | PenID/HenID), zi=~0, disp=~1\n",
      "            Df    AIC    BIC logLik deviance  Chisq Chi Df Pr(>Chisq)\n",
      "fit_nopenid  9 -22234 -22176  11126   -22252                         \n",
      "fit_penid   10 -22232 -22168  11126   -22252 0.0065      1     0.9357\n"
     ]
    },
    {
     "name": "stderr",
     "output_type": "stream",
     "text": [
      "Warning message in Matrix::sparseMatrix(dims = c(0, 0), i = integer(0), j = integer(0), :\n",
      "\"'giveCsparse' has been deprecated; setting 'repr = \"T\"' for you\"\n",
      "Warning message in Matrix::sparseMatrix(dims = c(0, 0), i = integer(0), j = integer(0), :\n",
      "\"'giveCsparse' has been deprecated; setting 'repr = \"T\"' for you\"\n",
      "Warning message in Matrix::sparseMatrix(dims = c(0, 0), i = integer(0), j = integer(0), :\n",
      "\"'giveCsparse' has been deprecated; setting 'repr = \"T\"' for you\"\n",
      "Warning message in Matrix::sparseMatrix(dims = c(0, 0), i = integer(0), j = integer(0), :\n",
      "\"'giveCsparse' has been deprecated; setting 'repr = \"T\"' for you\"\n",
      "Warning message in Matrix::sparseMatrix(dims = c(0, 0), i = integer(0), j = integer(0), :\n",
      "\"'giveCsparse' has been deprecated; setting 'repr = \"T\"' for you\"\n",
      "Warning message in Matrix::sparseMatrix(dims = c(0, 0), i = integer(0), j = integer(0), :\n",
      "\"'giveCsparse' has been deprecated; setting 'repr = \"T\"' for you\"\n"
     ]
    },
    {
     "name": "stdout",
     "output_type": "stream",
     "text": [
      "NULL\n",
      "NULL\n",
      "[1] \"month9\"\n",
      "[1] 1856   26\n"
     ]
    },
    {
     "name": "stderr",
     "output_type": "stream",
     "text": [
      "Warning message in Matrix::sparseMatrix(dims = c(0, 0), i = integer(0), j = integer(0), :\n",
      "\"'giveCsparse' has been deprecated; setting 'repr = \"T\"' for you\"\n",
      "Warning message in Matrix::sparseMatrix(dims = c(0, 0), i = integer(0), j = integer(0), :\n",
      "\"'giveCsparse' has been deprecated; setting 'repr = \"T\"' for you\"\n",
      "Warning message in Matrix::sparseMatrix(dims = c(0, 0), i = integer(0), j = integer(0), :\n",
      "\"'giveCsparse' has been deprecated; setting 'repr = \"T\"' for you\"\n",
      "Warning message in Matrix::sparseMatrix(dims = c(0, 0), i = integer(0), j = integer(0), :\n",
      "\"'giveCsparse' has been deprecated; setting 'repr = \"T\"' for you\"\n",
      "Warning message in Matrix::sparseMatrix(dims = c(0, 0), i = integer(0), j = integer(0), :\n",
      "\"'giveCsparse' has been deprecated; setting 'repr = \"T\"' for you\"\n",
      "Warning message in Matrix::sparseMatrix(dims = c(0, 0), i = integer(0), j = integer(0), :\n",
      "\"'giveCsparse' has been deprecated; setting 'repr = \"T\"' for you\"\n"
     ]
    },
    {
     "name": "stdout",
     "output_type": "stream",
     "text": [
      "Data: df__\n",
      "Models:\n",
      "fit_nopenid: propindoor_duration_4_Zone_rs ~ CLASS + Treatment + rescale(DIB) + , zi=~0, disp=~1\n",
      "fit_nopenid:     rescale(weight_interp) + rescale(KBF_interp) + (1 | HenID), zi=~0, disp=~1\n",
      "fit_penid: propindoor_duration_4_Zone_rs ~ CLASS + Treatment + rescale(DIB) + , zi=~0, disp=~1\n",
      "fit_penid:     rescale(weight_interp) + rescale(KBF_interp) + (1 | PenID/HenID), zi=~0, disp=~1\n",
      "            Df   AIC     BIC logLik deviance Chisq Chi Df Pr(>Chisq)\n",
      "fit_nopenid  9 -9120 -9070.3   4569    -9138                        \n",
      "fit_penid   10 -9118 -9062.8   4569    -9138     0      1          1\n"
     ]
    },
    {
     "name": "stderr",
     "output_type": "stream",
     "text": [
      "Warning message in Matrix::sparseMatrix(dims = c(0, 0), i = integer(0), j = integer(0), :\n",
      "\"'giveCsparse' has been deprecated; setting 'repr = \"T\"' for you\"\n",
      "Warning message in Matrix::sparseMatrix(dims = c(0, 0), i = integer(0), j = integer(0), :\n",
      "\"'giveCsparse' has been deprecated; setting 'repr = \"T\"' for you\"\n",
      "Warning message in Matrix::sparseMatrix(dims = c(0, 0), i = integer(0), j = integer(0), :\n",
      "\"'giveCsparse' has been deprecated; setting 'repr = \"T\"' for you\"\n",
      "Warning message in Matrix::sparseMatrix(dims = c(0, 0), i = integer(0), j = integer(0), :\n",
      "\"'giveCsparse' has been deprecated; setting 'repr = \"T\"' for you\"\n",
      "Warning message in Matrix::sparseMatrix(dims = c(0, 0), i = integer(0), j = integer(0), :\n",
      "\"'giveCsparse' has been deprecated; setting 'repr = \"T\"' for you\"\n",
      "Warning message in Matrix::sparseMatrix(dims = c(0, 0), i = integer(0), j = integer(0), :\n",
      "\"'giveCsparse' has been deprecated; setting 'repr = \"T\"' for you\"\n"
     ]
    },
    {
     "name": "stdout",
     "output_type": "stream",
     "text": [
      "NULL\n",
      "NULL\n",
      "[1] \"month10\"\n",
      "[1] 3144   26\n"
     ]
    },
    {
     "name": "stderr",
     "output_type": "stream",
     "text": [
      "Warning message in Matrix::sparseMatrix(dims = c(0, 0), i = integer(0), j = integer(0), :\n",
      "\"'giveCsparse' has been deprecated; setting 'repr = \"T\"' for you\"\n",
      "Warning message in Matrix::sparseMatrix(dims = c(0, 0), i = integer(0), j = integer(0), :\n",
      "\"'giveCsparse' has been deprecated; setting 'repr = \"T\"' for you\"\n",
      "Warning message in Matrix::sparseMatrix(dims = c(0, 0), i = integer(0), j = integer(0), :\n",
      "\"'giveCsparse' has been deprecated; setting 'repr = \"T\"' for you\"\n",
      "Warning message in Matrix::sparseMatrix(dims = c(0, 0), i = integer(0), j = integer(0), :\n",
      "\"'giveCsparse' has been deprecated; setting 'repr = \"T\"' for you\"\n",
      "Warning message in Matrix::sparseMatrix(dims = c(0, 0), i = integer(0), j = integer(0), :\n",
      "\"'giveCsparse' has been deprecated; setting 'repr = \"T\"' for you\"\n",
      "Warning message in Matrix::sparseMatrix(dims = c(0, 0), i = integer(0), j = integer(0), :\n",
      "\"'giveCsparse' has been deprecated; setting 'repr = \"T\"' for you\"\n"
     ]
    },
    {
     "name": "stdout",
     "output_type": "stream",
     "text": [
      "Data: df__\n",
      "Models:\n",
      "fit_nopenid: propindoor_duration_4_Zone_rs ~ CLASS + Treatment + rescale(DIB) + , zi=~0, disp=~1\n",
      "fit_nopenid:     rescale(weight_interp) + rescale(KBF_interp) + (1 | HenID), zi=~0, disp=~1\n",
      "fit_penid: propindoor_duration_4_Zone_rs ~ CLASS + Treatment + rescale(DIB) + , zi=~0, disp=~1\n",
      "fit_penid:     rescale(weight_interp) + rescale(KBF_interp) + (1 | PenID/HenID), zi=~0, disp=~1\n",
      "            Df    AIC    BIC logLik deviance Chisq Chi Df Pr(>Chisq)\n",
      "fit_nopenid  9 -14751 -14696 7384.4   -14769                        \n",
      "fit_penid   10 -14749 -14688 7384.4   -14769     0      1          1\n"
     ]
    },
    {
     "name": "stderr",
     "output_type": "stream",
     "text": [
      "Warning message in Matrix::sparseMatrix(dims = c(0, 0), i = integer(0), j = integer(0), :\n",
      "\"'giveCsparse' has been deprecated; setting 'repr = \"T\"' for you\"\n",
      "Warning message in Matrix::sparseMatrix(dims = c(0, 0), i = integer(0), j = integer(0), :\n",
      "\"'giveCsparse' has been deprecated; setting 'repr = \"T\"' for you\"\n",
      "Warning message in Matrix::sparseMatrix(dims = c(0, 0), i = integer(0), j = integer(0), :\n",
      "\"'giveCsparse' has been deprecated; setting 'repr = \"T\"' for you\"\n",
      "Warning message in Matrix::sparseMatrix(dims = c(0, 0), i = integer(0), j = integer(0), :\n",
      "\"'giveCsparse' has been deprecated; setting 'repr = \"T\"' for you\"\n",
      "Warning message in Matrix::sparseMatrix(dims = c(0, 0), i = integer(0), j = integer(0), :\n",
      "\"'giveCsparse' has been deprecated; setting 'repr = \"T\"' for you\"\n",
      "Warning message in Matrix::sparseMatrix(dims = c(0, 0), i = integer(0), j = integer(0), :\n",
      "\"'giveCsparse' has been deprecated; setting 'repr = \"T\"' for you\"\n"
     ]
    },
    {
     "name": "stdout",
     "output_type": "stream",
     "text": [
      "NULL\n",
      "NULL\n"
     ]
    },
    {
     "name": "stderr",
     "output_type": "stream",
     "text": [
      "Warning message in confint.glmmTMB(x, method = tolower(conf.method), level = conf.level, :\n",
      "\"extra arguments ignored:  intervals, prob\"\n",
      "Warning message in confint.glmmTMB(x, parm = thpar, method = conf.method, level = conf.level, :\n",
      "\"extra arguments ignored:  intervals, prob\"\n",
      "Warning message in confint.glmmTMB(x, method = tolower(conf.method), level = conf.level, :\n",
      "\"extra arguments ignored:  intervals, prob\"\n",
      "Warning message in confint.glmmTMB(x, parm = thpar, method = conf.method, level = conf.level, :\n",
      "\"extra arguments ignored:  intervals, prob\"\n",
      "Warning message in confint.glmmTMB(x, method = tolower(conf.method), level = conf.level, :\n",
      "\"extra arguments ignored:  intervals, prob\"\n",
      "Warning message in confint.glmmTMB(x, parm = thpar, method = conf.method, level = conf.level, :\n",
      "\"extra arguments ignored:  intervals, prob\"\n",
      "Warning message in confint.glmmTMB(x, method = tolower(conf.method), level = conf.level, :\n",
      "\"extra arguments ignored:  intervals, prob\"\n",
      "Warning message in confint.glmmTMB(x, parm = thpar, method = conf.method, level = conf.level, :\n",
      "\"extra arguments ignored:  intervals, prob\"\n",
      "Warning message in confint.glmmTMB(x, method = tolower(conf.method), level = conf.level, :\n",
      "\"extra arguments ignored:  intervals, prob\"\n",
      "Warning message in confint.glmmTMB(x, parm = thpar, method = conf.method, level = conf.level, :\n",
      "\"extra arguments ignored:  intervals, prob\"\n",
      "Warning message in confint.glmmTMB(x, method = tolower(conf.method), level = conf.level, :\n",
      "\"extra arguments ignored:  intervals, prob\"\n",
      "Warning message in confint.glmmTMB(x, parm = thpar, method = conf.method, level = conf.level, :\n",
      "\"extra arguments ignored:  intervals, prob\"\n",
      "Warning message in confint.glmmTMB(x, method = tolower(conf.method), level = conf.level, :\n",
      "\"extra arguments ignored:  intervals, prob\"\n",
      "Warning message in confint.glmmTMB(x, parm = thpar, method = conf.method, level = conf.level, :\n",
      "\"extra arguments ignored:  intervals, prob\"\n",
      "Warning message in confint.glmmTMB(x, method = tolower(conf.method), level = conf.level, :\n",
      "\"extra arguments ignored:  intervals, prob\"\n",
      "Warning message in confint.glmmTMB(x, parm = thpar, method = conf.method, level = conf.level, :\n",
      "\"extra arguments ignored:  intervals, prob\"\n",
      "Warning message in confint.glmmTMB(x, method = tolower(conf.method), level = conf.level, :\n",
      "\"extra arguments ignored:  intervals, prob\"\n",
      "Warning message in confint.glmmTMB(x, parm = thpar, method = conf.method, level = conf.level, :\n",
      "\"extra arguments ignored:  intervals, prob\"\n",
      "Warning message in confint.glmmTMB(x, method = tolower(conf.method), level = conf.level, :\n",
      "\"extra arguments ignored:  intervals, prob\"\n",
      "Warning message in confint.glmmTMB(x, parm = thpar, method = conf.method, level = conf.level, :\n",
      "\"extra arguments ignored:  intervals, prob\"\n"
     ]
    },
    {
     "data": {
      "text/html": [
       "<strong>png:</strong> 2"
      ],
      "text/latex": [
       "\\textbf{png:} 2"
      ],
      "text/markdown": [
       "**png:** 2"
      ],
      "text/plain": [
       "png \n",
       "  2 "
      ]
     },
     "metadata": {},
     "output_type": "display_data"
    },
    {
     "name": "stderr",
     "output_type": "stream",
     "text": [
      "Warning message:\n",
      "\"Following potential variables could not be found in the data: DIB ,weight_interp\n",
      "  ,nbr_h_per_day\"\n",
      "Warning message:\n",
      "\"Following potential variables could not be found in the data: DIB ,weight_interp\n",
      "  ,KBF_interp\"\n",
      "Warning message:\n",
      "\"Following potential variables could not be found in the data: DIB ,weight_interp\n",
      "  ,KBF_interp\"\n",
      "Warning message:\n",
      "\"Following potential variables could not be found in the data: DIB ,weight_interp\n",
      "  ,KBF_interp\"\n",
      "Warning message:\n",
      "\"Following potential variables could not be found in the data: DIB ,weight_interp\n",
      "  ,nbr_h_per_day\"\n",
      "Warning message:\n",
      "\"Following potential variables could not be found in the data: DIB ,weight_interp\n",
      "  ,KBF_interp\"\n",
      "Warning message:\n",
      "\"Following potential variables could not be found in the data: DIB ,weight_interp\n",
      "  ,KBF_interp\"\n",
      "Warning message:\n",
      "\"Following potential variables could not be found in the data: DIB ,weight_interp\n",
      "  ,KBF_interp\"\n",
      "Warning message:\n",
      "\"Following potential variables could not be found in the data: DIB ,weight_interp\n",
      "  ,nbr_h_per_day\"\n",
      "Warning message:\n",
      "\"Following potential variables could not be found in the data: DIB ,weight_interp\n",
      "  ,KBF_interp\"\n",
      "Warning message:\n",
      "\"Following potential variables could not be found in the data: DIB ,weight_interp\n",
      "  ,KBF_interp\"\n",
      "Warning message:\n",
      "\"Following potential variables could not be found in the data: DIB ,weight_interp\n",
      "  ,KBF_interp\"\n",
      "Warning message:\n",
      "\"Following potential variables could not be found in the data: DIB ,weight_interp\n",
      "  ,KBF_interp\"\n",
      "Warning message:\n",
      "\"Following potential variables could not be found in the data: DIB ,weight_interp\n",
      "  ,KBF_interp\"\n",
      "Warning message:\n",
      "\"Following potential variables could not be found in the data: DIB ,weight_interp\n",
      "  ,KBF_interp\"\n",
      "Warning message:\n",
      "\"Following potential variables could not be found in the data: DIB ,weight_interp\n",
      "  ,KBF_interp\"\n",
      "Warning message:\n",
      "\"Following potential variables could not be found in the data: DIB ,weight_interp\n",
      "  ,KBF_interp\"\n",
      "Warning message:\n",
      "\"Following potential variables could not be found in the data: DIB ,weight_interp\n",
      "  ,KBF_interp\"\n",
      "Warning message:\n",
      "\"Following potential variables could not be found in the data: DIB ,weight_interp\n",
      "  ,KBF_interp\"\n",
      "Warning message:\n",
      "\"Following potential variables could not be found in the data: DIB ,weight_interp\n",
      "  ,KBF_interp\"\n",
      "Warning message:\n",
      "\"Following potential variables could not be found in the data: DIB ,weight_interp\n",
      "  ,KBF_interp\"\n",
      "Warning message:\n",
      "\"Following potential variables could not be found in the data: DIB ,weight_interp\n",
      "  ,KBF_interp\"\n",
      "Warning message:\n",
      "\"Following potential variables could not be found in the data: DIB ,weight_interp\n",
      "  ,KBF_interp\"\n",
      "Warning message:\n",
      "\"Following potential variables could not be found in the data: DIB ,weight_interp\n",
      "  ,KBF_interp\"\n"
     ]
    }
   ],
   "source": [
    "var = 'propindoor_duration_4_Zone_rs'\n",
    "path_visual_ = file.path(path_visual, var)\n",
    "dir.create(path_visual_)\n",
    "dim(df)\n",
    "#as until then they only use it as a transitional zone\n",
    "df_ = subset(df, !is.na(propindoor_duration_4_Zone_rs))\n",
    "dim(df_)\n",
    "df_ = df_[df_['HenID']!='hen_199', ]\n",
    "dim(df_)\n",
    "li_model = list()\n",
    "for (i in 2:10){\n",
    "    monthILBID = paste0('month',i)\n",
    "    print(monthILBID)\n",
    "    df__ = df_[df_$monthILB==monthILBID,]\n",
    "    print(dim(df__))\n",
    "    #drop factors not existing in this subdataframe\n",
    "    df__$HenID = factor(df__$HenID) \n",
    "    df__$PenID = factor(df__$PenID)\n",
    "    df__$CLASS = factor(df__$CLASS) \n",
    "    #monthILB1-monthILB2: no KBF but nbr_h_per_day_sc, after KBF but no nbr_h_per_day_sc\n",
    "    if (monthILBID %in% c('month1', 'month2')){\n",
    "        fit_nopenid = glmmTMB(propindoor_duration_4_Zone_rs ~  CLASS+ Treatment + rescale(DIB) + rescale(weight_interp)+ rescale(nbr_h_per_day)+(1|HenID), \n",
    "                   data=df__, family=beta_family(link=\"logit\"))\n",
    "        fit_penid = glmmTMB(propindoor_duration_4_Zone_rs ~  CLASS+ Treatment + rescale(DIB) + rescale(weight_interp)+ rescale(nbr_h_per_day)+(1|PenID/HenID), \n",
    "                   data=df__, family=beta_family(link=\"logit\"))}\n",
    "    else{\n",
    "        fit_nopenid = glmmTMB(propindoor_duration_4_Zone_rs ~  CLASS + Treatment + rescale(DIB) +rescale(weight_interp)+ rescale(KBF_interp) + (1|HenID), \n",
    "                   data=df__, family=beta_family(link=\"logit\"))\n",
    "        fit_penid = glmmTMB(propindoor_duration_4_Zone_rs ~  CLASS + Treatment + rescale(DIB) +rescale(weight_interp)+ rescale(KBF_interp) + (1|PenID/HenID), \n",
    "                   data=df__, family=beta_family(link=\"logit\"))}\n",
    "    print(anova(fit_nopenid,fit_penid))\n",
    "    p_value = anova(fit_nopenid,fit_penid)['Pr(>Chisq)']['fit_penid',]\n",
    "    if (p_value<0.05){\n",
    "        fit = fit_penid    \n",
    "    }else{\n",
    "        fit = fit_nopenid    \n",
    "    }\n",
    "    \n",
    "    li_model[[i]] = fit\n",
    "    write.csv(summary(fit)['coefficients']$coefficients$cond, file=file.path(path_visual_, paste0(var,monthILBID,'.csv')) )\n",
    "    \n",
    "    set.seed(0)\n",
    "    simulationOutput = simulateResiduals(fittedModel=fit)\n",
    "    tiff(file.path(path_visual_, paste0(var,'_SimRes1',monthILBID,'.tiff')), width=400, height=400)\n",
    "    print(plot(simulationOutput))\n",
    "    dev.off()\n",
    "    \n",
    "    tiff(file.path(path_visual_, paste0(var,'_SimRes2',monthILBID,'.tiff')), width=400, height=400)\n",
    "    print(plotResiduals(simulationOutput, form = df__$Treatment))\n",
    "    dev.off()\n",
    "}\n",
    "\n",
    "#to match the colors and modelID, put as model 1 the model2. then, we will remove it\n",
    "li_model[[1]] = li_model[[2]]\n",
    "\n",
    "tiff(file.path(path_visual_, paste0(var,'_OFHCoeff','.tiff')), width=400, height=400)\n",
    "plot_summs(li_model[1:10], coefs=c('TreatmentOFH'), colors='Rainbow', legend.title=var, exp=TRUE)\n",
    "dev.off()\n",
    "tab_model(li_model[2:5], collapse.ci = TRUE, p.style = \"numeric_stars\", file=file.path(path_visual_, paste0(var,'_TableModel1-5.doc')))\n",
    "tab_model(li_model[6:10], collapse.ci = TRUE, p.style = \"numeric_stars\", file=file.path(path_visual_, paste0(var,'_TableModel6-10.doc')))"
   ]
  },
  {
   "cell_type": "markdown",
   "id": "915fce89",
   "metadata": {},
   "source": [
    "# WG"
   ]
  },
  {
   "cell_type": "code",
   "execution_count": 53,
   "id": "90d1b2e4",
   "metadata": {
    "scrolled": true
   },
   "outputs": [
    {
     "name": "stderr",
     "output_type": "stream",
     "text": [
      "Warning message in dir.create(path_visual_):\n",
      "\"'G:\\VPHI\\Welfare\\2- Research Projects\\OFHE2.OriginsE2\\DataOutput\\TrackingSystem\\ALLDATA_\\OFH_model\\Month_final_PenIDWhenNeeded\\WentinWG' existe déjà\"\n"
     ]
    },
    {
     "data": {
      "text/html": [
       "<style>\n",
       ".list-inline {list-style: none; margin:0; padding: 0}\n",
       ".list-inline>li {display: inline-block}\n",
       ".list-inline>li:not(:last-child)::after {content: \"\\00b7\"; padding: 0 .5ex}\n",
       "</style>\n",
       "<ol class=list-inline><li>37455</li><li>26</li></ol>\n"
      ],
      "text/latex": [
       "\\begin{enumerate*}\n",
       "\\item 37455\n",
       "\\item 26\n",
       "\\end{enumerate*}\n"
      ],
      "text/markdown": [
       "1. 37455\n",
       "2. 26\n",
       "\n",
       "\n"
      ],
      "text/plain": [
       "[1] 37455    26"
      ]
     },
     "metadata": {},
     "output_type": "display_data"
    },
    {
     "data": {
      "text/html": [
       "<style>\n",
       ".list-inline {list-style: none; margin:0; padding: 0}\n",
       ".list-inline>li {display: inline-block}\n",
       ".list-inline>li:not(:last-child)::after {content: \"\\00b7\"; padding: 0 .5ex}\n",
       "</style>\n",
       "<ol class=list-inline><li>35847</li><li>26</li></ol>\n"
      ],
      "text/latex": [
       "\\begin{enumerate*}\n",
       "\\item 35847\n",
       "\\item 26\n",
       "\\end{enumerate*}\n"
      ],
      "text/markdown": [
       "1. 35847\n",
       "2. 26\n",
       "\n",
       "\n"
      ],
      "text/plain": [
       "[1] 35847    26"
      ]
     },
     "metadata": {},
     "output_type": "display_data"
    },
    {
     "data": {
      "text/html": [
       "<style>\n",
       ".list-inline {list-style: none; margin:0; padding: 0}\n",
       ".list-inline>li {display: inline-block}\n",
       ".list-inline>li:not(:last-child)::after {content: \"\\00b7\"; padding: 0 .5ex}\n",
       "</style>\n",
       "<ol class=list-inline><li>35533</li><li>26</li></ol>\n"
      ],
      "text/latex": [
       "\\begin{enumerate*}\n",
       "\\item 35533\n",
       "\\item 26\n",
       "\\end{enumerate*}\n"
      ],
      "text/markdown": [
       "1. 35533\n",
       "2. 26\n",
       "\n",
       "\n"
      ],
      "text/plain": [
       "[1] 35533    26"
      ]
     },
     "metadata": {},
     "output_type": "display_data"
    },
    {
     "name": "stdout",
     "output_type": "stream",
     "text": [
      "[1] \"month1\"\n"
     ]
    },
    {
     "name": "stderr",
     "output_type": "stream",
     "text": [
      "Warning message in Matrix::sparseMatrix(dims = c(0, 0), i = integer(0), j = integer(0), :\n",
      "\"'giveCsparse' has been deprecated; setting 'repr = \"T\"' for you\"\n",
      "Warning message in Matrix::sparseMatrix(dims = c(0, 0), i = integer(0), j = integer(0), :\n",
      "\"'giveCsparse' has been deprecated; setting 'repr = \"T\"' for you\"\n",
      "Warning message in Matrix::sparseMatrix(dims = c(0, 0), i = integer(0), j = integer(0), :\n",
      "\"'giveCsparse' has been deprecated; setting 'repr = \"T\"' for you\"\n",
      "Warning message in Matrix::sparseMatrix(dims = c(0, 0), i = integer(0), j = integer(0), :\n",
      "\"'giveCsparse' has been deprecated; setting 'repr = \"T\"' for you\"\n",
      "Warning message in Matrix::sparseMatrix(dims = c(0, 0), i = integer(0), j = integer(0), :\n",
      "\"'giveCsparse' has been deprecated; setting 'repr = \"T\"' for you\"\n",
      "Warning message in Matrix::sparseMatrix(dims = c(0, 0), i = integer(0), j = integer(0), :\n",
      "\"'giveCsparse' has been deprecated; setting 'repr = \"T\"' for you\"\n"
     ]
    },
    {
     "name": "stdout",
     "output_type": "stream",
     "text": [
      "Data: df__\n",
      "Models:\n",
      "fit_nopenid: WentinWG ~ CLASS + Treatment + rescale(DIB) + rescale(weight_interp) + , zi=~0, disp=~1\n",
      "fit_nopenid:     rescale(nbr_h_per_day) + rescale(nbr_h_WGopen) + rescale(temperature_C_avg) + , zi=~0, disp=~1\n",
      "fit_nopenid:     (1 | HenID), zi=~0, disp=~1\n",
      "fit_penid: WentinWG ~ CLASS + Treatment + rescale(DIB) + rescale(weight_interp) + , zi=~0, disp=~1\n",
      "fit_penid:     rescale(nbr_h_per_day) + rescale(nbr_h_WGopen) + rescale(temperature_C_avg) + , zi=~0, disp=~1\n",
      "fit_penid:     (1 | PenID/HenID), zi=~0, disp=~1\n",
      "            Df  AIC    BIC  logLik deviance Chisq Chi Df Pr(>Chisq)\n",
      "fit_nopenid 10 2323 2381.9 -1151.5     2303                        \n",
      "fit_penid   11 2325 2389.8 -1151.5     2303     0      1          1\n"
     ]
    },
    {
     "name": "stderr",
     "output_type": "stream",
     "text": [
      "Warning message in Matrix::sparseMatrix(dims = c(0, 0), i = integer(0), j = integer(0), :\n",
      "\"'giveCsparse' has been deprecated; setting 'repr = \"T\"' for you\"\n",
      "Warning message in Matrix::sparseMatrix(dims = c(0, 0), i = integer(0), j = integer(0), :\n",
      "\"'giveCsparse' has been deprecated; setting 'repr = \"T\"' for you\"\n",
      "Warning message in Matrix::sparseMatrix(dims = c(0, 0), i = integer(0), j = integer(0), :\n",
      "\"'giveCsparse' has been deprecated; setting 'repr = \"T\"' for you\"\n",
      "Warning message in Matrix::sparseMatrix(dims = c(0, 0), i = integer(0), j = integer(0), :\n",
      "\"'giveCsparse' has been deprecated; setting 'repr = \"T\"' for you\"\n",
      "Warning message in Matrix::sparseMatrix(dims = c(0, 0), i = integer(0), j = integer(0), :\n",
      "\"'giveCsparse' has been deprecated; setting 'repr = \"T\"' for you\"\n",
      "Warning message in Matrix::sparseMatrix(dims = c(0, 0), i = integer(0), j = integer(0), :\n",
      "\"'giveCsparse' has been deprecated; setting 'repr = \"T\"' for you\"\n"
     ]
    },
    {
     "name": "stdout",
     "output_type": "stream",
     "text": [
      "NULL\n",
      "NULL\n",
      "[1] \"month2\"\n"
     ]
    },
    {
     "name": "stderr",
     "output_type": "stream",
     "text": [
      "Warning message in Matrix::sparseMatrix(dims = c(0, 0), i = integer(0), j = integer(0), :\n",
      "\"'giveCsparse' has been deprecated; setting 'repr = \"T\"' for you\"\n",
      "Warning message in Matrix::sparseMatrix(dims = c(0, 0), i = integer(0), j = integer(0), :\n",
      "\"'giveCsparse' has been deprecated; setting 'repr = \"T\"' for you\"\n",
      "Warning message in Matrix::sparseMatrix(dims = c(0, 0), i = integer(0), j = integer(0), :\n",
      "\"'giveCsparse' has been deprecated; setting 'repr = \"T\"' for you\"\n",
      "Warning message in Matrix::sparseMatrix(dims = c(0, 0), i = integer(0), j = integer(0), :\n",
      "\"'giveCsparse' has been deprecated; setting 'repr = \"T\"' for you\"\n",
      "Warning message in Matrix::sparseMatrix(dims = c(0, 0), i = integer(0), j = integer(0), :\n",
      "\"'giveCsparse' has been deprecated; setting 'repr = \"T\"' for you\"\n",
      "Warning message in Matrix::sparseMatrix(dims = c(0, 0), i = integer(0), j = integer(0), :\n",
      "\"'giveCsparse' has been deprecated; setting 'repr = \"T\"' for you\"\n"
     ]
    },
    {
     "name": "stdout",
     "output_type": "stream",
     "text": [
      "Data: df__\n",
      "Models:\n",
      "fit_nopenid: WentinWG ~ CLASS + Treatment + rescale(DIB) + rescale(weight_interp) + , zi=~0, disp=~1\n",
      "fit_nopenid:     rescale(nbr_h_per_day) + rescale(nbr_h_WGopen) + rescale(temperature_C_avg) + , zi=~0, disp=~1\n",
      "fit_nopenid:     (1 | HenID), zi=~0, disp=~1\n",
      "fit_penid: WentinWG ~ CLASS + Treatment + rescale(DIB) + rescale(weight_interp) + , zi=~0, disp=~1\n",
      "fit_penid:     rescale(nbr_h_per_day) + rescale(nbr_h_WGopen) + rescale(temperature_C_avg) + , zi=~0, disp=~1\n",
      "fit_penid:     (1 | PenID/HenID), zi=~0, disp=~1\n",
      "            Df    AIC    BIC  logLik deviance Chisq Chi Df Pr(>Chisq)\n",
      "fit_nopenid 10 3264.9 3328.0 -1622.4   3244.9                        \n",
      "fit_penid   11 3266.9 3336.3 -1622.4   3244.9     0      1          1\n"
     ]
    },
    {
     "name": "stderr",
     "output_type": "stream",
     "text": [
      "Warning message in Matrix::sparseMatrix(dims = c(0, 0), i = integer(0), j = integer(0), :\n",
      "\"'giveCsparse' has been deprecated; setting 'repr = \"T\"' for you\"\n",
      "Warning message in Matrix::sparseMatrix(dims = c(0, 0), i = integer(0), j = integer(0), :\n",
      "\"'giveCsparse' has been deprecated; setting 'repr = \"T\"' for you\"\n",
      "Warning message in Matrix::sparseMatrix(dims = c(0, 0), i = integer(0), j = integer(0), :\n",
      "\"'giveCsparse' has been deprecated; setting 'repr = \"T\"' for you\"\n",
      "Warning message in Matrix::sparseMatrix(dims = c(0, 0), i = integer(0), j = integer(0), :\n",
      "\"'giveCsparse' has been deprecated; setting 'repr = \"T\"' for you\"\n",
      "Warning message in Matrix::sparseMatrix(dims = c(0, 0), i = integer(0), j = integer(0), :\n",
      "\"'giveCsparse' has been deprecated; setting 'repr = \"T\"' for you\"\n",
      "Warning message in Matrix::sparseMatrix(dims = c(0, 0), i = integer(0), j = integer(0), :\n",
      "\"'giveCsparse' has been deprecated; setting 'repr = \"T\"' for you\"\n"
     ]
    },
    {
     "name": "stdout",
     "output_type": "stream",
     "text": [
      "NULL\n",
      "NULL\n",
      "[1] \"month3\"\n"
     ]
    },
    {
     "name": "stderr",
     "output_type": "stream",
     "text": [
      "Warning message in Matrix::sparseMatrix(dims = c(0, 0), i = integer(0), j = integer(0), :\n",
      "\"'giveCsparse' has been deprecated; setting 'repr = \"T\"' for you\"\n",
      "Warning message in Matrix::sparseMatrix(dims = c(0, 0), i = integer(0), j = integer(0), :\n",
      "\"'giveCsparse' has been deprecated; setting 'repr = \"T\"' for you\"\n",
      "Warning message in Matrix::sparseMatrix(dims = c(0, 0), i = integer(0), j = integer(0), :\n",
      "\"'giveCsparse' has been deprecated; setting 'repr = \"T\"' for you\"\n",
      "Warning message in Matrix::sparseMatrix(dims = c(0, 0), i = integer(0), j = integer(0), :\n",
      "\"'giveCsparse' has been deprecated; setting 'repr = \"T\"' for you\"\n",
      "Warning message in Matrix::sparseMatrix(dims = c(0, 0), i = integer(0), j = integer(0), :\n",
      "\"'giveCsparse' has been deprecated; setting 'repr = \"T\"' for you\"\n",
      "Warning message in Matrix::sparseMatrix(dims = c(0, 0), i = integer(0), j = integer(0), :\n",
      "\"'giveCsparse' has been deprecated; setting 'repr = \"T\"' for you\"\n"
     ]
    },
    {
     "name": "stdout",
     "output_type": "stream",
     "text": [
      "Data: df__\n",
      "Models:\n",
      "fit_nopenid: WentinWG ~ CLASS + Treatment + rescale(DIB) + rescale(weight_interp) + , zi=~0, disp=~1\n",
      "fit_nopenid:     rescale(KBF_interp) + rescale(nbr_h_WGopen) + rescale(temperature_C_avg) + , zi=~0, disp=~1\n",
      "fit_nopenid:     (1 | HenID), zi=~0, disp=~1\n",
      "fit_penid: WentinWG ~ CLASS + Treatment + rescale(DIB) + rescale(weight_interp) + , zi=~0, disp=~1\n",
      "fit_penid:     rescale(KBF_interp) + rescale(nbr_h_WGopen) + rescale(temperature_C_avg) + , zi=~0, disp=~1\n",
      "fit_penid:     (1 | PenID/HenID), zi=~0, disp=~1\n",
      "            Df    AIC    BIC logLik deviance Chisq Chi Df Pr(>Chisq)\n",
      "fit_nopenid 10 3420.1 3484.1  -1700   3400.1                        \n",
      "fit_penid   11 3422.1 3492.5  -1700   3400.1     0      1          1\n"
     ]
    },
    {
     "name": "stderr",
     "output_type": "stream",
     "text": [
      "Warning message in Matrix::sparseMatrix(dims = c(0, 0), i = integer(0), j = integer(0), :\n",
      "\"'giveCsparse' has been deprecated; setting 'repr = \"T\"' for you\"\n",
      "Warning message in Matrix::sparseMatrix(dims = c(0, 0), i = integer(0), j = integer(0), :\n",
      "\"'giveCsparse' has been deprecated; setting 'repr = \"T\"' for you\"\n",
      "Warning message in Matrix::sparseMatrix(dims = c(0, 0), i = integer(0), j = integer(0), :\n",
      "\"'giveCsparse' has been deprecated; setting 'repr = \"T\"' for you\"\n",
      "Warning message in Matrix::sparseMatrix(dims = c(0, 0), i = integer(0), j = integer(0), :\n",
      "\"'giveCsparse' has been deprecated; setting 'repr = \"T\"' for you\"\n",
      "Warning message in Matrix::sparseMatrix(dims = c(0, 0), i = integer(0), j = integer(0), :\n",
      "\"'giveCsparse' has been deprecated; setting 'repr = \"T\"' for you\"\n",
      "Warning message in Matrix::sparseMatrix(dims = c(0, 0), i = integer(0), j = integer(0), :\n",
      "\"'giveCsparse' has been deprecated; setting 'repr = \"T\"' for you\"\n"
     ]
    },
    {
     "name": "stdout",
     "output_type": "stream",
     "text": [
      "NULL\n",
      "NULL\n",
      "[1] \"month4\"\n"
     ]
    },
    {
     "name": "stderr",
     "output_type": "stream",
     "text": [
      "Warning message in Matrix::sparseMatrix(dims = c(0, 0), i = integer(0), j = integer(0), :\n",
      "\"'giveCsparse' has been deprecated; setting 'repr = \"T\"' for you\"\n",
      "Warning message in Matrix::sparseMatrix(dims = c(0, 0), i = integer(0), j = integer(0), :\n",
      "\"'giveCsparse' has been deprecated; setting 'repr = \"T\"' for you\"\n",
      "Warning message in Matrix::sparseMatrix(dims = c(0, 0), i = integer(0), j = integer(0), :\n",
      "\"'giveCsparse' has been deprecated; setting 'repr = \"T\"' for you\"\n",
      "Warning message in Matrix::sparseMatrix(dims = c(0, 0), i = integer(0), j = integer(0), :\n",
      "\"'giveCsparse' has been deprecated; setting 'repr = \"T\"' for you\"\n",
      "Warning message in Matrix::sparseMatrix(dims = c(0, 0), i = integer(0), j = integer(0), :\n",
      "\"'giveCsparse' has been deprecated; setting 'repr = \"T\"' for you\"\n",
      "Warning message in Matrix::sparseMatrix(dims = c(0, 0), i = integer(0), j = integer(0), :\n",
      "\"'giveCsparse' has been deprecated; setting 'repr = \"T\"' for you\"\n"
     ]
    },
    {
     "name": "stdout",
     "output_type": "stream",
     "text": [
      "Data: df__\n",
      "Models:\n",
      "fit_nopenid: WentinWG ~ CLASS + Treatment + rescale(DIB) + rescale(weight_interp) + , zi=~0, disp=~1\n",
      "fit_nopenid:     rescale(KBF_interp) + rescale(nbr_h_WGopen) + rescale(temperature_C_avg) + , zi=~0, disp=~1\n",
      "fit_nopenid:     (1 | HenID), zi=~0, disp=~1\n",
      "fit_penid: WentinWG ~ CLASS + Treatment + rescale(DIB) + rescale(weight_interp) + , zi=~0, disp=~1\n",
      "fit_penid:     rescale(KBF_interp) + rescale(nbr_h_WGopen) + rescale(temperature_C_avg) + , zi=~0, disp=~1\n",
      "fit_penid:     (1 | PenID/HenID), zi=~0, disp=~1\n",
      "            Df    AIC    BIC  logLik deviance Chisq Chi Df Pr(>Chisq)\n",
      "fit_nopenid 10 2867.4 2929.0 -1423.7   2847.4                        \n",
      "fit_penid   11 2868.9 2936.7 -1423.5   2846.9 0.458      1     0.4986\n"
     ]
    },
    {
     "name": "stderr",
     "output_type": "stream",
     "text": [
      "Warning message in Matrix::sparseMatrix(dims = c(0, 0), i = integer(0), j = integer(0), :\n",
      "\"'giveCsparse' has been deprecated; setting 'repr = \"T\"' for you\"\n",
      "Warning message in Matrix::sparseMatrix(dims = c(0, 0), i = integer(0), j = integer(0), :\n",
      "\"'giveCsparse' has been deprecated; setting 'repr = \"T\"' for you\"\n",
      "Warning message in Matrix::sparseMatrix(dims = c(0, 0), i = integer(0), j = integer(0), :\n",
      "\"'giveCsparse' has been deprecated; setting 'repr = \"T\"' for you\"\n",
      "Warning message in Matrix::sparseMatrix(dims = c(0, 0), i = integer(0), j = integer(0), :\n",
      "\"'giveCsparse' has been deprecated; setting 'repr = \"T\"' for you\"\n",
      "Warning message in Matrix::sparseMatrix(dims = c(0, 0), i = integer(0), j = integer(0), :\n",
      "\"'giveCsparse' has been deprecated; setting 'repr = \"T\"' for you\"\n",
      "Warning message in Matrix::sparseMatrix(dims = c(0, 0), i = integer(0), j = integer(0), :\n",
      "\"'giveCsparse' has been deprecated; setting 'repr = \"T\"' for you\"\n",
      "DHARMa:testOutliers with type = binomial may have inflated Type I error rates for integer-valued distributions. To get a more exact result, it is recommended to re-run testOutliers with type = 'bootstrap'. See ?testOutliers for details\n",
      "\n"
     ]
    },
    {
     "name": "stdout",
     "output_type": "stream",
     "text": [
      "NULL\n",
      "NULL\n",
      "[1] \"month5\"\n"
     ]
    },
    {
     "name": "stderr",
     "output_type": "stream",
     "text": [
      "Warning message in Matrix::sparseMatrix(dims = c(0, 0), i = integer(0), j = integer(0), :\n",
      "\"'giveCsparse' has been deprecated; setting 'repr = \"T\"' for you\"\n",
      "Warning message in Matrix::sparseMatrix(dims = c(0, 0), i = integer(0), j = integer(0), :\n",
      "\"'giveCsparse' has been deprecated; setting 'repr = \"T\"' for you\"\n",
      "Warning message in Matrix::sparseMatrix(dims = c(0, 0), i = integer(0), j = integer(0), :\n",
      "\"'giveCsparse' has been deprecated; setting 'repr = \"T\"' for you\"\n",
      "Warning message in Matrix::sparseMatrix(dims = c(0, 0), i = integer(0), j = integer(0), :\n",
      "\"'giveCsparse' has been deprecated; setting 'repr = \"T\"' for you\"\n",
      "Warning message in Matrix::sparseMatrix(dims = c(0, 0), i = integer(0), j = integer(0), :\n",
      "\"'giveCsparse' has been deprecated; setting 'repr = \"T\"' for you\"\n",
      "Warning message in Matrix::sparseMatrix(dims = c(0, 0), i = integer(0), j = integer(0), :\n",
      "\"'giveCsparse' has been deprecated; setting 'repr = \"T\"' for you\"\n"
     ]
    },
    {
     "name": "stdout",
     "output_type": "stream",
     "text": [
      "Data: df__\n",
      "Models:\n",
      "fit_nopenid: WentinWG ~ CLASS + Treatment + rescale(DIB) + rescale(weight_interp) + , zi=~0, disp=~1\n",
      "fit_nopenid:     rescale(KBF_interp) + rescale(nbr_h_WGopen) + rescale(temperature_C_avg) + , zi=~0, disp=~1\n",
      "fit_nopenid:     (1 | HenID), zi=~0, disp=~1\n",
      "fit_penid: WentinWG ~ CLASS + Treatment + rescale(DIB) + rescale(weight_interp) + , zi=~0, disp=~1\n",
      "fit_penid:     rescale(KBF_interp) + rescale(nbr_h_WGopen) + rescale(temperature_C_avg) + , zi=~0, disp=~1\n",
      "fit_penid:     (1 | PenID/HenID), zi=~0, disp=~1\n",
      "            Df    AIC    BIC  logLik deviance  Chisq Chi Df Pr(>Chisq)  \n",
      "fit_nopenid 10 2620.6 2681.6 -1300.3   2600.6                           \n",
      "fit_penid   11 2617.9 2684.9 -1298.0   2595.9 4.7061      1    0.03006 *\n",
      "---\n",
      "Signif. codes:  0 '***' 0.001 '**' 0.01 '*' 0.05 '.' 0.1 ' ' 1\n"
     ]
    },
    {
     "name": "stderr",
     "output_type": "stream",
     "text": [
      "Warning message in Matrix::sparseMatrix(dims = c(0, 0), i = integer(0), j = integer(0), :\n",
      "\"'giveCsparse' has been deprecated; setting 'repr = \"T\"' for you\"\n",
      "Warning message in Matrix::sparseMatrix(dims = c(0, 0), i = integer(0), j = integer(0), :\n",
      "\"'giveCsparse' has been deprecated; setting 'repr = \"T\"' for you\"\n",
      "Warning message in Matrix::sparseMatrix(dims = c(0, 0), i = integer(0), j = integer(0), :\n",
      "\"'giveCsparse' has been deprecated; setting 'repr = \"T\"' for you\"\n",
      "Warning message in Matrix::sparseMatrix(dims = c(0, 0), i = integer(0), j = integer(0), :\n",
      "\"'giveCsparse' has been deprecated; setting 'repr = \"T\"' for you\"\n",
      "Warning message in Matrix::sparseMatrix(dims = c(0, 0), i = integer(0), j = integer(0), :\n",
      "\"'giveCsparse' has been deprecated; setting 'repr = \"T\"' for you\"\n",
      "Warning message in Matrix::sparseMatrix(dims = c(0, 0), i = integer(0), j = integer(0), :\n",
      "\"'giveCsparse' has been deprecated; setting 'repr = \"T\"' for you\"\n"
     ]
    },
    {
     "name": "stdout",
     "output_type": "stream",
     "text": [
      "NULL\n",
      "NULL\n",
      "[1] \"month6\"\n"
     ]
    },
    {
     "name": "stderr",
     "output_type": "stream",
     "text": [
      "Warning message in Matrix::sparseMatrix(dims = c(0, 0), i = integer(0), j = integer(0), :\n",
      "\"'giveCsparse' has been deprecated; setting 'repr = \"T\"' for you\"\n",
      "Warning message in Matrix::sparseMatrix(dims = c(0, 0), i = integer(0), j = integer(0), :\n",
      "\"'giveCsparse' has been deprecated; setting 'repr = \"T\"' for you\"\n",
      "Warning message in Matrix::sparseMatrix(dims = c(0, 0), i = integer(0), j = integer(0), :\n",
      "\"'giveCsparse' has been deprecated; setting 'repr = \"T\"' for you\"\n",
      "Warning message in Matrix::sparseMatrix(dims = c(0, 0), i = integer(0), j = integer(0), :\n",
      "\"'giveCsparse' has been deprecated; setting 'repr = \"T\"' for you\"\n",
      "Warning message in Matrix::sparseMatrix(dims = c(0, 0), i = integer(0), j = integer(0), :\n",
      "\"'giveCsparse' has been deprecated; setting 'repr = \"T\"' for you\"\n",
      "Warning message in Matrix::sparseMatrix(dims = c(0, 0), i = integer(0), j = integer(0), :\n",
      "\"'giveCsparse' has been deprecated; setting 'repr = \"T\"' for you\"\n"
     ]
    },
    {
     "name": "stdout",
     "output_type": "stream",
     "text": [
      "Data: df__\n",
      "Models:\n",
      "fit_nopenid: WentinWG ~ CLASS + Treatment + rescale(DIB) + rescale(weight_interp) + , zi=~0, disp=~1\n",
      "fit_nopenid:     rescale(KBF_interp) + rescale(nbr_h_WGopen) + rescale(temperature_C_avg) + , zi=~0, disp=~1\n",
      "fit_nopenid:     (1 | HenID), zi=~0, disp=~1\n",
      "fit_penid: WentinWG ~ CLASS + Treatment + rescale(DIB) + rescale(weight_interp) + , zi=~0, disp=~1\n",
      "fit_penid:     rescale(KBF_interp) + rescale(nbr_h_WGopen) + rescale(temperature_C_avg) + , zi=~0, disp=~1\n",
      "fit_penid:     (1 | PenID/HenID), zi=~0, disp=~1\n",
      "            Df    AIC    BIC  logLik deviance  Chisq Chi Df Pr(>Chisq)\n",
      "fit_nopenid 10 3410.3 3473.8 -1695.2   3390.3                         \n",
      "fit_penid   11 3411.7 3481.5 -1694.8   3389.7 0.6311      1      0.427\n"
     ]
    },
    {
     "name": "stderr",
     "output_type": "stream",
     "text": [
      "Warning message in Matrix::sparseMatrix(dims = c(0, 0), i = integer(0), j = integer(0), :\n",
      "\"'giveCsparse' has been deprecated; setting 'repr = \"T\"' for you\"\n",
      "Warning message in Matrix::sparseMatrix(dims = c(0, 0), i = integer(0), j = integer(0), :\n",
      "\"'giveCsparse' has been deprecated; setting 'repr = \"T\"' for you\"\n",
      "Warning message in Matrix::sparseMatrix(dims = c(0, 0), i = integer(0), j = integer(0), :\n",
      "\"'giveCsparse' has been deprecated; setting 'repr = \"T\"' for you\"\n",
      "Warning message in Matrix::sparseMatrix(dims = c(0, 0), i = integer(0), j = integer(0), :\n",
      "\"'giveCsparse' has been deprecated; setting 'repr = \"T\"' for you\"\n",
      "Warning message in Matrix::sparseMatrix(dims = c(0, 0), i = integer(0), j = integer(0), :\n",
      "\"'giveCsparse' has been deprecated; setting 'repr = \"T\"' for you\"\n",
      "Warning message in Matrix::sparseMatrix(dims = c(0, 0), i = integer(0), j = integer(0), :\n",
      "\"'giveCsparse' has been deprecated; setting 'repr = \"T\"' for you\"\n"
     ]
    },
    {
     "name": "stdout",
     "output_type": "stream",
     "text": [
      "NULL\n",
      "NULL\n",
      "[1] \"month7\"\n"
     ]
    },
    {
     "name": "stderr",
     "output_type": "stream",
     "text": [
      "Warning message in Matrix::sparseMatrix(dims = c(0, 0), i = integer(0), j = integer(0), :\n",
      "\"'giveCsparse' has been deprecated; setting 'repr = \"T\"' for you\"\n",
      "Warning message in Matrix::sparseMatrix(dims = c(0, 0), i = integer(0), j = integer(0), :\n",
      "\"'giveCsparse' has been deprecated; setting 'repr = \"T\"' for you\"\n",
      "Warning message in Matrix::sparseMatrix(dims = c(0, 0), i = integer(0), j = integer(0), :\n",
      "\"'giveCsparse' has been deprecated; setting 'repr = \"T\"' for you\"\n",
      "Warning message in Matrix::sparseMatrix(dims = c(0, 0), i = integer(0), j = integer(0), :\n",
      "\"'giveCsparse' has been deprecated; setting 'repr = \"T\"' for you\"\n",
      "Warning message in Matrix::sparseMatrix(dims = c(0, 0), i = integer(0), j = integer(0), :\n",
      "\"'giveCsparse' has been deprecated; setting 'repr = \"T\"' for you\"\n",
      "Warning message in Matrix::sparseMatrix(dims = c(0, 0), i = integer(0), j = integer(0), :\n",
      "\"'giveCsparse' has been deprecated; setting 'repr = \"T\"' for you\"\n"
     ]
    },
    {
     "name": "stdout",
     "output_type": "stream",
     "text": [
      "Data: df__\n",
      "Models:\n",
      "fit_nopenid: WentinWG ~ CLASS + Treatment + rescale(DIB) + rescale(weight_interp) + , zi=~0, disp=~1\n",
      "fit_nopenid:     rescale(KBF_interp) + rescale(nbr_h_WGopen) + rescale(temperature_C_avg) + , zi=~0, disp=~1\n",
      "fit_nopenid:     (1 | HenID), zi=~0, disp=~1\n",
      "fit_penid: WentinWG ~ CLASS + Treatment + rescale(DIB) + rescale(weight_interp) + , zi=~0, disp=~1\n",
      "fit_penid:     rescale(KBF_interp) + rescale(nbr_h_WGopen) + rescale(temperature_C_avg) + , zi=~0, disp=~1\n",
      "fit_penid:     (1 | PenID/HenID), zi=~0, disp=~1\n",
      "            Df    AIC    BIC  logLik deviance  Chisq Chi Df Pr(>Chisq)  \n",
      "fit_nopenid 10 3493.9 3557.1 -1737.0   3473.9                           \n",
      "fit_penid   11 3492.2 3561.7 -1735.1   3470.2 3.7421      1    0.05306 .\n",
      "---\n",
      "Signif. codes:  0 '***' 0.001 '**' 0.01 '*' 0.05 '.' 0.1 ' ' 1\n"
     ]
    },
    {
     "name": "stderr",
     "output_type": "stream",
     "text": [
      "Warning message in Matrix::sparseMatrix(dims = c(0, 0), i = integer(0), j = integer(0), :\n",
      "\"'giveCsparse' has been deprecated; setting 'repr = \"T\"' for you\"\n",
      "Warning message in Matrix::sparseMatrix(dims = c(0, 0), i = integer(0), j = integer(0), :\n",
      "\"'giveCsparse' has been deprecated; setting 'repr = \"T\"' for you\"\n",
      "Warning message in Matrix::sparseMatrix(dims = c(0, 0), i = integer(0), j = integer(0), :\n",
      "\"'giveCsparse' has been deprecated; setting 'repr = \"T\"' for you\"\n",
      "Warning message in Matrix::sparseMatrix(dims = c(0, 0), i = integer(0), j = integer(0), :\n",
      "\"'giveCsparse' has been deprecated; setting 'repr = \"T\"' for you\"\n",
      "Warning message in Matrix::sparseMatrix(dims = c(0, 0), i = integer(0), j = integer(0), :\n",
      "\"'giveCsparse' has been deprecated; setting 'repr = \"T\"' for you\"\n",
      "Warning message in Matrix::sparseMatrix(dims = c(0, 0), i = integer(0), j = integer(0), :\n",
      "\"'giveCsparse' has been deprecated; setting 'repr = \"T\"' for you\"\n"
     ]
    },
    {
     "name": "stdout",
     "output_type": "stream",
     "text": [
      "NULL\n",
      "NULL\n",
      "[1] \"month8\"\n"
     ]
    },
    {
     "name": "stderr",
     "output_type": "stream",
     "text": [
      "Warning message in Matrix::sparseMatrix(dims = c(0, 0), i = integer(0), j = integer(0), :\n",
      "\"'giveCsparse' has been deprecated; setting 'repr = \"T\"' for you\"\n",
      "Warning message in Matrix::sparseMatrix(dims = c(0, 0), i = integer(0), j = integer(0), :\n",
      "\"'giveCsparse' has been deprecated; setting 'repr = \"T\"' for you\"\n",
      "Warning message in Matrix::sparseMatrix(dims = c(0, 0), i = integer(0), j = integer(0), :\n",
      "\"'giveCsparse' has been deprecated; setting 'repr = \"T\"' for you\"\n",
      "Warning message in Matrix::sparseMatrix(dims = c(0, 0), i = integer(0), j = integer(0), :\n",
      "\"'giveCsparse' has been deprecated; setting 'repr = \"T\"' for you\"\n",
      "Warning message in Matrix::sparseMatrix(dims = c(0, 0), i = integer(0), j = integer(0), :\n",
      "\"'giveCsparse' has been deprecated; setting 'repr = \"T\"' for you\"\n",
      "Warning message in Matrix::sparseMatrix(dims = c(0, 0), i = integer(0), j = integer(0), :\n",
      "\"'giveCsparse' has been deprecated; setting 'repr = \"T\"' for you\"\n"
     ]
    },
    {
     "name": "stdout",
     "output_type": "stream",
     "text": [
      "Data: df__\n",
      "Models:\n",
      "fit_nopenid: WentinWG ~ CLASS + Treatment + rescale(DIB) + rescale(weight_interp) + , zi=~0, disp=~1\n",
      "fit_nopenid:     rescale(KBF_interp) + rescale(nbr_h_WGopen) + rescale(temperature_C_avg) + , zi=~0, disp=~1\n",
      "fit_nopenid:     (1 | HenID), zi=~0, disp=~1\n",
      "fit_penid: WentinWG ~ CLASS + Treatment + rescale(DIB) + rescale(weight_interp) + , zi=~0, disp=~1\n",
      "fit_penid:     rescale(KBF_interp) + rescale(nbr_h_WGopen) + rescale(temperature_C_avg) + , zi=~0, disp=~1\n",
      "fit_penid:     (1 | PenID/HenID), zi=~0, disp=~1\n",
      "            Df    AIC    BIC  logLik deviance Chisq Chi Df Pr(>Chisq)\n",
      "fit_nopenid 10 3105.3 3168.8 -1542.6   3085.3                        \n",
      "fit_penid   11 3107.3 3177.1 -1542.6   3085.3     0      1          1\n"
     ]
    },
    {
     "name": "stderr",
     "output_type": "stream",
     "text": [
      "Warning message in Matrix::sparseMatrix(dims = c(0, 0), i = integer(0), j = integer(0), :\n",
      "\"'giveCsparse' has been deprecated; setting 'repr = \"T\"' for you\"\n",
      "Warning message in Matrix::sparseMatrix(dims = c(0, 0), i = integer(0), j = integer(0), :\n",
      "\"'giveCsparse' has been deprecated; setting 'repr = \"T\"' for you\"\n",
      "Warning message in Matrix::sparseMatrix(dims = c(0, 0), i = integer(0), j = integer(0), :\n",
      "\"'giveCsparse' has been deprecated; setting 'repr = \"T\"' for you\"\n",
      "Warning message in Matrix::sparseMatrix(dims = c(0, 0), i = integer(0), j = integer(0), :\n",
      "\"'giveCsparse' has been deprecated; setting 'repr = \"T\"' for you\"\n",
      "Warning message in Matrix::sparseMatrix(dims = c(0, 0), i = integer(0), j = integer(0), :\n",
      "\"'giveCsparse' has been deprecated; setting 'repr = \"T\"' for you\"\n",
      "Warning message in Matrix::sparseMatrix(dims = c(0, 0), i = integer(0), j = integer(0), :\n",
      "\"'giveCsparse' has been deprecated; setting 'repr = \"T\"' for you\"\n"
     ]
    },
    {
     "name": "stdout",
     "output_type": "stream",
     "text": [
      "NULL\n",
      "NULL\n",
      "[1] \"month9\"\n"
     ]
    },
    {
     "name": "stderr",
     "output_type": "stream",
     "text": [
      "Warning message in Matrix::sparseMatrix(dims = c(0, 0), i = integer(0), j = integer(0), :\n",
      "\"'giveCsparse' has been deprecated; setting 'repr = \"T\"' for you\"\n",
      "Warning message in Matrix::sparseMatrix(dims = c(0, 0), i = integer(0), j = integer(0), :\n",
      "\"'giveCsparse' has been deprecated; setting 'repr = \"T\"' for you\"\n",
      "Warning message in Matrix::sparseMatrix(dims = c(0, 0), i = integer(0), j = integer(0), :\n",
      "\"'giveCsparse' has been deprecated; setting 'repr = \"T\"' for you\"\n",
      "Warning message in Matrix::sparseMatrix(dims = c(0, 0), i = integer(0), j = integer(0), :\n",
      "\"'giveCsparse' has been deprecated; setting 'repr = \"T\"' for you\"\n",
      "Warning message in Matrix::sparseMatrix(dims = c(0, 0), i = integer(0), j = integer(0), :\n",
      "\"'giveCsparse' has been deprecated; setting 'repr = \"T\"' for you\"\n",
      "Warning message in Matrix::sparseMatrix(dims = c(0, 0), i = integer(0), j = integer(0), :\n",
      "\"'giveCsparse' has been deprecated; setting 'repr = \"T\"' for you\"\n"
     ]
    },
    {
     "name": "stdout",
     "output_type": "stream",
     "text": [
      "Data: df__\n",
      "Models:\n",
      "fit_nopenid: WentinWG ~ CLASS + Treatment + rescale(DIB) + rescale(weight_interp) + , zi=~0, disp=~1\n",
      "fit_nopenid:     rescale(KBF_interp) + rescale(nbr_h_WGopen) + rescale(temperature_C_avg) + , zi=~0, disp=~1\n",
      "fit_nopenid:     (1 | HenID), zi=~0, disp=~1\n",
      "fit_penid: WentinWG ~ CLASS + Treatment + rescale(DIB) + rescale(weight_interp) + , zi=~0, disp=~1\n",
      "fit_penid:     rescale(KBF_interp) + rescale(nbr_h_WGopen) + rescale(temperature_C_avg) + , zi=~0, disp=~1\n",
      "fit_penid:     (1 | PenID/HenID), zi=~0, disp=~1\n",
      "            Df    AIC    BIC  logLik deviance Chisq Chi Df Pr(>Chisq)\n",
      "fit_nopenid 10 968.79 1024.0 -474.39   948.79                        \n",
      "fit_penid   11 970.79 1031.6 -474.39   948.79     0      1          1\n"
     ]
    },
    {
     "name": "stderr",
     "output_type": "stream",
     "text": [
      "Warning message in Matrix::sparseMatrix(dims = c(0, 0), i = integer(0), j = integer(0), :\n",
      "\"'giveCsparse' has been deprecated; setting 'repr = \"T\"' for you\"\n",
      "Warning message in Matrix::sparseMatrix(dims = c(0, 0), i = integer(0), j = integer(0), :\n",
      "\"'giveCsparse' has been deprecated; setting 'repr = \"T\"' for you\"\n",
      "Warning message in Matrix::sparseMatrix(dims = c(0, 0), i = integer(0), j = integer(0), :\n",
      "\"'giveCsparse' has been deprecated; setting 'repr = \"T\"' for you\"\n",
      "Warning message in Matrix::sparseMatrix(dims = c(0, 0), i = integer(0), j = integer(0), :\n",
      "\"'giveCsparse' has been deprecated; setting 'repr = \"T\"' for you\"\n",
      "Warning message in Matrix::sparseMatrix(dims = c(0, 0), i = integer(0), j = integer(0), :\n",
      "\"'giveCsparse' has been deprecated; setting 'repr = \"T\"' for you\"\n",
      "Warning message in Matrix::sparseMatrix(dims = c(0, 0), i = integer(0), j = integer(0), :\n",
      "\"'giveCsparse' has been deprecated; setting 'repr = \"T\"' for you\"\n",
      "DHARMa:testOutliers with type = binomial may have inflated Type I error rates for integer-valued distributions. To get a more exact result, it is recommended to re-run testOutliers with type = 'bootstrap'. See ?testOutliers for details\n",
      "\n"
     ]
    },
    {
     "name": "stdout",
     "output_type": "stream",
     "text": [
      "NULL\n",
      "NULL\n",
      "[1] \"month10\"\n"
     ]
    },
    {
     "name": "stderr",
     "output_type": "stream",
     "text": [
      "Warning message in Matrix::sparseMatrix(dims = c(0, 0), i = integer(0), j = integer(0), :\n",
      "\"'giveCsparse' has been deprecated; setting 'repr = \"T\"' for you\"\n",
      "Warning message in Matrix::sparseMatrix(dims = c(0, 0), i = integer(0), j = integer(0), :\n",
      "\"'giveCsparse' has been deprecated; setting 'repr = \"T\"' for you\"\n",
      "Warning message in Matrix::sparseMatrix(dims = c(0, 0), i = integer(0), j = integer(0), :\n",
      "\"'giveCsparse' has been deprecated; setting 'repr = \"T\"' for you\"\n",
      "Warning message in Matrix::sparseMatrix(dims = c(0, 0), i = integer(0), j = integer(0), :\n",
      "\"'giveCsparse' has been deprecated; setting 'repr = \"T\"' for you\"\n",
      "Warning message in Matrix::sparseMatrix(dims = c(0, 0), i = integer(0), j = integer(0), :\n",
      "\"'giveCsparse' has been deprecated; setting 'repr = \"T\"' for you\"\n",
      "Warning message in Matrix::sparseMatrix(dims = c(0, 0), i = integer(0), j = integer(0), :\n",
      "\"'giveCsparse' has been deprecated; setting 'repr = \"T\"' for you\"\n"
     ]
    },
    {
     "name": "stdout",
     "output_type": "stream",
     "text": [
      "Data: df__\n",
      "Models:\n",
      "fit_nopenid: WentinWG ~ CLASS + Treatment + rescale(DIB) + rescale(weight_interp) + , zi=~0, disp=~1\n",
      "fit_nopenid:     rescale(KBF_interp) + rescale(nbr_h_WGopen) + rescale(temperature_C_avg) + , zi=~0, disp=~1\n",
      "fit_nopenid:     (1 | HenID), zi=~0, disp=~1\n",
      "fit_penid: WentinWG ~ CLASS + Treatment + rescale(DIB) + rescale(weight_interp) + , zi=~0, disp=~1\n",
      "fit_penid:     rescale(KBF_interp) + rescale(nbr_h_WGopen) + rescale(temperature_C_avg) + , zi=~0, disp=~1\n",
      "fit_penid:     (1 | PenID/HenID), zi=~0, disp=~1\n",
      "            Df    AIC    BIC  logLik deviance  Chisq Chi Df Pr(>Chisq)   \n",
      "fit_nopenid 10 2006.1 2066.6 -993.05   1986.1                            \n",
      "fit_penid   11 1997.3 2063.9 -987.66   1975.3 10.776      1   0.001028 **\n",
      "---\n",
      "Signif. codes:  0 '***' 0.001 '**' 0.01 '*' 0.05 '.' 0.1 ' ' 1\n"
     ]
    },
    {
     "name": "stderr",
     "output_type": "stream",
     "text": [
      "Warning message in Matrix::sparseMatrix(dims = c(0, 0), i = integer(0), j = integer(0), :\n",
      "\"'giveCsparse' has been deprecated; setting 'repr = \"T\"' for you\"\n",
      "Warning message in Matrix::sparseMatrix(dims = c(0, 0), i = integer(0), j = integer(0), :\n",
      "\"'giveCsparse' has been deprecated; setting 'repr = \"T\"' for you\"\n",
      "Warning message in Matrix::sparseMatrix(dims = c(0, 0), i = integer(0), j = integer(0), :\n",
      "\"'giveCsparse' has been deprecated; setting 'repr = \"T\"' for you\"\n",
      "Warning message in Matrix::sparseMatrix(dims = c(0, 0), i = integer(0), j = integer(0), :\n",
      "\"'giveCsparse' has been deprecated; setting 'repr = \"T\"' for you\"\n",
      "Warning message in Matrix::sparseMatrix(dims = c(0, 0), i = integer(0), j = integer(0), :\n",
      "\"'giveCsparse' has been deprecated; setting 'repr = \"T\"' for you\"\n",
      "Warning message in Matrix::sparseMatrix(dims = c(0, 0), i = integer(0), j = integer(0), :\n",
      "\"'giveCsparse' has been deprecated; setting 'repr = \"T\"' for you\"\n"
     ]
    },
    {
     "name": "stdout",
     "output_type": "stream",
     "text": [
      "NULL\n",
      "NULL\n"
     ]
    },
    {
     "name": "stderr",
     "output_type": "stream",
     "text": [
      "Warning message in confint.glmmTMB(x, method = tolower(conf.method), level = conf.level, :\n",
      "\"extra arguments ignored:  intervals, prob\"\n",
      "Warning message in confint.glmmTMB(x, parm = thpar, method = conf.method, level = conf.level, :\n",
      "\"extra arguments ignored:  intervals, prob\"\n",
      "Warning message in confint.glmmTMB(x, method = tolower(conf.method), level = conf.level, :\n",
      "\"extra arguments ignored:  intervals, prob\"\n",
      "Warning message in confint.glmmTMB(x, parm = thpar, method = conf.method, level = conf.level, :\n",
      "\"extra arguments ignored:  intervals, prob\"\n",
      "Warning message in confint.glmmTMB(x, method = tolower(conf.method), level = conf.level, :\n",
      "\"extra arguments ignored:  intervals, prob\"\n",
      "Warning message in confint.glmmTMB(x, parm = thpar, method = conf.method, level = conf.level, :\n",
      "\"extra arguments ignored:  intervals, prob\"\n",
      "Warning message in confint.glmmTMB(x, method = tolower(conf.method), level = conf.level, :\n",
      "\"extra arguments ignored:  intervals, prob\"\n",
      "Warning message in confint.glmmTMB(x, parm = thpar, method = conf.method, level = conf.level, :\n",
      "\"extra arguments ignored:  intervals, prob\"\n",
      "Warning message in confint.glmmTMB(x, method = tolower(conf.method), level = conf.level, :\n",
      "\"extra arguments ignored:  intervals, prob\"\n",
      "Warning message in confint.glmmTMB(x, parm = thpar, method = conf.method, level = conf.level, :\n",
      "\"extra arguments ignored:  intervals, prob\"\n",
      "Warning message in confint.glmmTMB(x, method = tolower(conf.method), level = conf.level, :\n",
      "\"extra arguments ignored:  intervals, prob\"\n",
      "Warning message in confint.glmmTMB(x, parm = thpar, method = conf.method, level = conf.level, :\n",
      "\"extra arguments ignored:  intervals, prob\"\n",
      "Warning message in confint.glmmTMB(x, method = tolower(conf.method), level = conf.level, :\n",
      "\"extra arguments ignored:  intervals, prob\"\n",
      "Warning message in confint.glmmTMB(x, parm = thpar, method = conf.method, level = conf.level, :\n",
      "\"extra arguments ignored:  intervals, prob\"\n",
      "Warning message in confint.glmmTMB(x, method = tolower(conf.method), level = conf.level, :\n",
      "\"extra arguments ignored:  intervals, prob\"\n",
      "Warning message in confint.glmmTMB(x, parm = thpar, method = conf.method, level = conf.level, :\n",
      "\"extra arguments ignored:  intervals, prob\"\n",
      "Warning message in confint.glmmTMB(x, method = tolower(conf.method), level = conf.level, :\n",
      "\"extra arguments ignored:  intervals, prob\"\n",
      "Warning message in confint.glmmTMB(x, parm = thpar, method = conf.method, level = conf.level, :\n",
      "\"extra arguments ignored:  intervals, prob\"\n",
      "Warning message in confint.glmmTMB(x, method = tolower(conf.method), level = conf.level, :\n",
      "\"extra arguments ignored:  intervals, prob\"\n",
      "Warning message in confint.glmmTMB(x, parm = thpar, method = conf.method, level = conf.level, :\n",
      "\"extra arguments ignored:  intervals, prob\"\n"
     ]
    },
    {
     "data": {
      "text/html": [
       "<strong>png:</strong> 2"
      ],
      "text/latex": [
       "\\textbf{png:} 2"
      ],
      "text/markdown": [
       "**png:** 2"
      ],
      "text/plain": [
       "png \n",
       "  2 "
      ]
     },
     "metadata": {},
     "output_type": "display_data"
    },
    {
     "name": "stderr",
     "output_type": "stream",
     "text": [
      "Warning message:\n",
      "\"Following potential variables could not be found in the data: DIB ,weight_interp\n",
      "  ,nbr_h_per_day ,nbr_h_WGopen ,temperature_C_avg\"\n",
      "Warning message:\n",
      "\"Following potential variables could not be found in the data: DIB ,weight_interp\n",
      "  ,nbr_h_per_day ,nbr_h_WGopen ,temperature_C_avg\"\n",
      "Warning message:\n",
      "\"Following potential variables could not be found in the data: DIB ,weight_interp\n",
      "  ,KBF_interp ,nbr_h_WGopen ,temperature_C_avg\"\n",
      "Warning message:\n",
      "\"Following potential variables could not be found in the data: DIB ,weight_interp\n",
      "  ,KBF_interp ,nbr_h_WGopen ,temperature_C_avg\"\n",
      "Warning message:\n",
      "\"Following potential variables could not be found in the data: DIB ,weight_interp\n",
      "  ,KBF_interp ,nbr_h_WGopen ,temperature_C_avg\"\n",
      "Warning message:\n",
      "\"Following potential variables could not be found in the data: DIB ,weight_interp\n",
      "  ,nbr_h_per_day ,nbr_h_WGopen ,temperature_C_avg\"\n",
      "Warning message:\n",
      "\"Following potential variables could not be found in the data: DIB ,weight_interp\n",
      "  ,nbr_h_per_day ,nbr_h_WGopen ,temperature_C_avg\"\n",
      "Warning message:\n",
      "\"Following potential variables could not be found in the data: DIB ,weight_interp\n",
      "  ,KBF_interp ,nbr_h_WGopen ,temperature_C_avg\"\n",
      "Warning message:\n",
      "\"Following potential variables could not be found in the data: DIB ,weight_interp\n",
      "  ,KBF_interp ,nbr_h_WGopen ,temperature_C_avg\"\n",
      "Warning message:\n",
      "\"Following potential variables could not be found in the data: DIB ,weight_interp\n",
      "  ,KBF_interp ,nbr_h_WGopen ,temperature_C_avg\"\n",
      "Warning message:\n",
      "\"Following potential variables could not be found in the data: DIB ,weight_interp\n",
      "  ,nbr_h_per_day ,nbr_h_WGopen ,temperature_C_avg\"\n",
      "Warning message:\n",
      "\"Following potential variables could not be found in the data: DIB ,weight_interp\n",
      "  ,nbr_h_per_day ,nbr_h_WGopen ,temperature_C_avg\"\n",
      "Warning message:\n",
      "\"Following potential variables could not be found in the data: DIB ,weight_interp\n",
      "  ,KBF_interp ,nbr_h_WGopen ,temperature_C_avg\"\n",
      "Warning message:\n",
      "\"Following potential variables could not be found in the data: DIB ,weight_interp\n",
      "  ,KBF_interp ,nbr_h_WGopen ,temperature_C_avg\"\n",
      "Warning message:\n",
      "\"Following potential variables could not be found in the data: DIB ,weight_interp\n",
      "  ,KBF_interp ,nbr_h_WGopen ,temperature_C_avg\"\n",
      "Warning message:\n",
      "\"Following potential variables could not be found in the data: DIB ,weight_interp\n",
      "  ,KBF_interp ,nbr_h_WGopen ,temperature_C_avg\"\n",
      "Warning message:\n",
      "\"Following potential variables could not be found in the data: DIB ,weight_interp\n",
      "  ,KBF_interp ,nbr_h_WGopen ,temperature_C_avg\"\n",
      "Warning message:\n",
      "\"Following potential variables could not be found in the data: DIB ,weight_interp\n",
      "  ,KBF_interp ,nbr_h_WGopen ,temperature_C_avg\"\n",
      "Warning message:\n",
      "\"Following potential variables could not be found in the data: DIB ,weight_interp\n",
      "  ,KBF_interp ,nbr_h_WGopen ,temperature_C_avg\"\n",
      "Warning message:\n",
      "\"Following potential variables could not be found in the data: DIB ,weight_interp\n",
      "  ,KBF_interp ,nbr_h_WGopen ,temperature_C_avg\"\n",
      "Warning message:\n",
      "\"Following potential variables could not be found in the data: DIB ,weight_interp\n",
      "  ,KBF_interp ,nbr_h_WGopen ,temperature_C_avg\"\n",
      "Warning message:\n",
      "\"Following potential variables could not be found in the data: DIB ,weight_interp\n",
      "  ,KBF_interp ,nbr_h_WGopen ,temperature_C_avg\"\n",
      "Warning message:\n",
      "\"Following potential variables could not be found in the data: DIB ,weight_interp\n",
      "  ,KBF_interp ,nbr_h_WGopen ,temperature_C_avg\"\n",
      "Warning message:\n",
      "\"Following potential variables could not be found in the data: DIB ,weight_interp\n",
      "  ,KBF_interp ,nbr_h_WGopen ,temperature_C_avg\"\n",
      "Warning message:\n",
      "\"Following potential variables could not be found in the data: DIB ,weight_interp\n",
      "  ,KBF_interp ,nbr_h_WGopen ,temperature_C_avg\"\n",
      "Warning message:\n",
      "\"Following potential variables could not be found in the data: DIB ,weight_interp\n",
      "  ,KBF_interp ,nbr_h_WGopen ,temperature_C_avg\"\n",
      "Warning message:\n",
      "\"Following potential variables could not be found in the data: DIB ,weight_interp\n",
      "  ,KBF_interp ,nbr_h_WGopen ,temperature_C_avg\"\n"
     ]
    }
   ],
   "source": [
    "var = 'WentinWG'\n",
    "path_visual_ = file.path(path_visual, var)\n",
    "dir.create(path_visual_)\n",
    "dim(df)\n",
    "df_ = subset(df, !is.na(WentinWG))\n",
    "dim(df_)\n",
    "df_ = subset(df_, !is.na(temperature_C_avg))\n",
    "dim(df_)\n",
    "\n",
    "li_model = list()\n",
    "for (i in 1:10){\n",
    "    monthILBID = paste0('month',i)\n",
    "    print(monthILBID)\n",
    "    df__ = df_[df_$monthILB==monthILBID,]\n",
    "    #drop factors not existing in this subdataframe\n",
    "    df__$HenID = factor(df__$HenID) \n",
    "    df__$PenID = factor(df__$PenID)\n",
    "    df__$CLASS = factor(df__$CLASS) \n",
    "    #monthILB1-monthILB2: no KBF but nbr_h_per_day_sc, after KBF but no nbr_h_per_day_sc\n",
    "    if (monthILBID %in% c('month1', 'month2')){\n",
    "        fit_penid = glmmTMB(WentinWG ~  CLASS+ Treatment + rescale(DIB) +rescale(weight_interp)+rescale(nbr_h_per_day)+ rescale(nbr_h_WGopen)+ rescale(temperature_C_avg)+(1|PenID/HenID), \n",
    "                   data=df__, family=binomial)\n",
    "        fit_nopenid = glmmTMB(WentinWG ~  CLASS+ Treatment + rescale(DIB) +rescale(weight_interp)+rescale(nbr_h_per_day)+ rescale(nbr_h_WGopen)+ rescale(temperature_C_avg)+(1|HenID), \n",
    "                   data=df__, family=binomial)}\n",
    "    else{\n",
    "        fit_penid = glmmTMB(WentinWG ~  CLASS + Treatment + rescale(DIB) +rescale(weight_interp)+ rescale(KBF_interp) +rescale(nbr_h_WGopen)+ rescale(temperature_C_avg) + (1|PenID/HenID), \n",
    "                   data=df__, family=binomial)\n",
    "        fit_nopenid = glmmTMB(WentinWG ~  CLASS + Treatment + rescale(DIB) +rescale(weight_interp)+ rescale(KBF_interp) +rescale(nbr_h_WGopen)+ rescale(temperature_C_avg) + (1|HenID), \n",
    "                   data=df__, family=binomial)} \n",
    "    print(anova(fit_nopenid,fit_penid))\n",
    "    p_value = anova(fit_nopenid,fit_penid)['Pr(>Chisq)']['fit_penid',]\n",
    "    if (p_value<0.05){\n",
    "        fit = fit_penid    \n",
    "    }else{\n",
    "        fit = fit_nopenid    \n",
    "    }\n",
    "\n",
    "    li_model[[i]] = fit\n",
    "    write.csv(summary(fit)['coefficients']$coefficients$cond, file=file.path(path_visual_, paste0(var,monthILBID,'.csv')) )\n",
    "\n",
    "    set.seed(0)\n",
    "    simulationOutput = simulateResiduals(fittedModel=fit)\n",
    "    tiff(file.path(path_visual_, paste0(var,'_SimRes1',monthILBID,'.tiff')), width=400, height=400)\n",
    "    print(plot(simulationOutput))\n",
    "    dev.off()\n",
    "    \n",
    "    tiff(file.path(path_visual_, paste0(var,'_SimRes2',monthILBID,'.tiff')), width=400, height=400)\n",
    "    print(plotResiduals(simulationOutput, form = df__$Treatment))\n",
    "    dev.off()}\n",
    "\n",
    "tiff(file.path(path_visual_, paste0(var,'_OFHCoeff','.tiff')), width=400, height=400)\n",
    "plot_summs(li_model, coefs=c('TreatmentOFH'), colors='Rainbow', legend.title=var, exp=TRUE)\n",
    "dev.off()\n",
    "#truncated_nbinom2\n",
    "\n",
    "tab_model(li_model[1:5], collapse.ci = TRUE, p.style = \"numeric_stars\", file=file.path(path_visual_, paste0(var,'_TableModel1-5.doc')))\n",
    "tab_model(li_model[6:10], collapse.ci = TRUE, p.style = \"numeric_stars\", file=file.path(path_visual_, paste0(var,'_TableModel6-10.doc')))"
   ]
  },
  {
   "cell_type": "markdown",
   "id": "95b1e4e6",
   "metadata": {},
   "source": [
    "## small test with and without temperature as its correaltion =.79 only in month2 only)"
   ]
  },
  {
   "cell_type": "code",
   "execution_count": 17,
   "id": "43c10e37",
   "metadata": {},
   "outputs": [
    {
     "name": "stderr",
     "output_type": "stream",
     "text": [
      "Warning message in dir.create(path_visual_):\n",
      "\"'G:\\VPHI\\Welfare\\2- Research Projects\\OFHE2.OriginsE2\\DataOutput\\TrackingSystem\\ALLDATA_\\OFH_model\\Month_final_PenIDWhenNeeded\\WentinWG' existe déjà\"\n"
     ]
    },
    {
     "data": {
      "text/html": [
       "<style>\n",
       ".list-inline {list-style: none; margin:0; padding: 0}\n",
       ".list-inline>li {display: inline-block}\n",
       ".list-inline>li:not(:last-child)::after {content: \"\\00b7\"; padding: 0 .5ex}\n",
       "</style>\n",
       "<ol class=list-inline><li>37455</li><li>29</li></ol>\n"
      ],
      "text/latex": [
       "\\begin{enumerate*}\n",
       "\\item 37455\n",
       "\\item 29\n",
       "\\end{enumerate*}\n"
      ],
      "text/markdown": [
       "1. 37455\n",
       "2. 29\n",
       "\n",
       "\n"
      ],
      "text/plain": [
       "[1] 37455    29"
      ]
     },
     "metadata": {},
     "output_type": "display_data"
    },
    {
     "data": {
      "text/html": [
       "<style>\n",
       ".list-inline {list-style: none; margin:0; padding: 0}\n",
       ".list-inline>li {display: inline-block}\n",
       ".list-inline>li:not(:last-child)::after {content: \"\\00b7\"; padding: 0 .5ex}\n",
       "</style>\n",
       "<ol class=list-inline><li>35847</li><li>29</li></ol>\n"
      ],
      "text/latex": [
       "\\begin{enumerate*}\n",
       "\\item 35847\n",
       "\\item 29\n",
       "\\end{enumerate*}\n"
      ],
      "text/markdown": [
       "1. 35847\n",
       "2. 29\n",
       "\n",
       "\n"
      ],
      "text/plain": [
       "[1] 35847    29"
      ]
     },
     "metadata": {},
     "output_type": "display_data"
    },
    {
     "data": {
      "text/html": [
       "<style>\n",
       ".list-inline {list-style: none; margin:0; padding: 0}\n",
       ".list-inline>li {display: inline-block}\n",
       ".list-inline>li:not(:last-child)::after {content: \"\\00b7\"; padding: 0 .5ex}\n",
       "</style>\n",
       "<ol class=list-inline><li>35533</li><li>29</li></ol>\n"
      ],
      "text/latex": [
       "\\begin{enumerate*}\n",
       "\\item 35533\n",
       "\\item 29\n",
       "\\end{enumerate*}\n"
      ],
      "text/markdown": [
       "1. 35533\n",
       "2. 29\n",
       "\n",
       "\n"
      ],
      "text/plain": [
       "[1] 35533    29"
      ]
     },
     "metadata": {},
     "output_type": "display_data"
    },
    {
     "name": "stdout",
     "output_type": "stream",
     "text": [
      "[1] \"month2\"\n"
     ]
    },
    {
     "name": "stderr",
     "output_type": "stream",
     "text": [
      "Warning message in Matrix::sparseMatrix(dims = c(0, 0), i = integer(0), j = integer(0), :\n",
      "\"'giveCsparse' has been deprecated; setting 'repr = \"T\"' for you\"\n",
      "Warning message in Matrix::sparseMatrix(dims = c(0, 0), i = integer(0), j = integer(0), :\n",
      "\"'giveCsparse' has been deprecated; setting 'repr = \"T\"' for you\"\n",
      "Warning message in Matrix::sparseMatrix(dims = c(0, 0), i = integer(0), j = integer(0), :\n",
      "\"'giveCsparse' has been deprecated; setting 'repr = \"T\"' for you\"\n",
      "Warning message in Matrix::sparseMatrix(dims = c(0, 0), i = integer(0), j = integer(0), :\n",
      "\"'giveCsparse' has been deprecated; setting 'repr = \"T\"' for you\"\n",
      "Warning message in Matrix::sparseMatrix(dims = c(0, 0), i = integer(0), j = integer(0), :\n",
      "\"'giveCsparse' has been deprecated; setting 'repr = \"T\"' for you\"\n",
      "Warning message in Matrix::sparseMatrix(dims = c(0, 0), i = integer(0), j = integer(0), :\n",
      "\"'giveCsparse' has been deprecated; setting 'repr = \"T\"' for you\"\n"
     ]
    },
    {
     "name": "stdout",
     "output_type": "stream",
     "text": [
      "Data: df__\n",
      "Models:\n",
      "fit_nopenid: WentinWG ~ CLASS + Treatment + rescale(DIB) + rescale(weight_interp) + , zi=~0, disp=~1\n",
      "fit_nopenid:     rescale(nbr_h_per_day) + rescale(nbr_h_WGopen) + rescale(temperature_C_avg) + , zi=~0, disp=~1\n",
      "fit_nopenid:     (1 | HenID), zi=~0, disp=~1\n",
      "fit_penid: WentinWG ~ CLASS + Treatment + rescale(DIB) + rescale(weight_interp) + , zi=~0, disp=~1\n",
      "fit_penid:     rescale(nbr_h_per_day) + rescale(nbr_h_WGopen) + rescale(temperature_C_avg) + , zi=~0, disp=~1\n",
      "fit_penid:     (1 | PenID/HenID), zi=~0, disp=~1\n",
      "            Df    AIC    BIC  logLik deviance Chisq Chi Df Pr(>Chisq)\n",
      "fit_nopenid 10 3264.9 3328.0 -1622.4   3244.9                        \n",
      "fit_penid   11 3266.9 3336.3 -1622.4   3244.9     0      1          1\n"
     ]
    },
    {
     "data": {
      "text/plain": [
       " Family: binomial  ( logit )\n",
       "Formula:          \n",
       "WentinWG ~ CLASS + Treatment + rescale(DIB) + rescale(weight_interp) +  \n",
       "    rescale(nbr_h_per_day) + rescale(nbr_h_WGopen) + rescale(temperature_C_avg) +  \n",
       "    (1 | HenID)\n",
       "Data: df__\n",
       "\n",
       "     AIC      BIC   logLik deviance df.resid \n",
       "  3264.9   3328.0  -1622.4   3244.9     4050 \n",
       "\n",
       "Random effects:\n",
       "\n",
       "Conditional model:\n",
       " Groups Name        Variance Std.Dev.\n",
       " HenID  (Intercept) 8.285    2.878   \n",
       "Number of obs: 4060, groups:  HenID, 173\n",
       "\n",
       "Conditional model:\n",
       "                           Estimate Std. Error z value Pr(>|z|)    \n",
       "(Intercept)                 1.18724    0.38229   3.106   0.0019 ** \n",
       "CLASSLEXP                  -0.28726    0.63244  -0.454   0.6497    \n",
       "CLASSMEXP                  -0.02954    0.58534  -0.050   0.9597    \n",
       "TreatmentOFH               -0.05951    0.47060  -0.126   0.8994    \n",
       "rescale(DIB)               -0.95509    0.41332  -2.311   0.0208 *  \n",
       "rescale(weight_interp)      0.49935    0.52443   0.952   0.3410    \n",
       "rescale(nbr_h_per_day)      0.46400    0.25240   1.838   0.0660 .  \n",
       "rescale(nbr_h_WGopen)       1.26120    0.10918  11.551   <2e-16 ***\n",
       "rescale(temperature_C_avg)  0.58478    0.19840   2.947   0.0032 ** \n",
       "---\n",
       "Signif. codes:  0 '***' 0.001 '**' 0.01 '*' 0.05 '.' 0.1 ' ' 1"
      ]
     },
     "metadata": {},
     "output_type": "display_data"
    }
   ],
   "source": [
    "var = 'WentinWG'\n",
    "path_visual_ = file.path(path_visual, var)\n",
    "dir.create(path_visual_)\n",
    "dim(df)\n",
    "df_ = subset(df, !is.na(WentinWG))\n",
    "dim(df_)\n",
    "df_ = subset(df_, !is.na(temperature_C_avg))\n",
    "dim(df_)\n",
    "\n",
    "monthILBID = 'month2'\n",
    "print(monthILBID)\n",
    "df__ = df_[df_$monthILB==monthILBID,]\n",
    "#drop factors not existing in this subdataframe\n",
    "df__$HenID = factor(df__$HenID) \n",
    "df__$PenID = factor(df__$PenID)\n",
    "df__$CLASS = factor(df__$CLASS) \n",
    "#monthILB1-monthILB2: no KBF but nbr_h_per_day_sc, after KBF but no nbr_h_per_day_sc\n",
    "fit_penid = glmmTMB(WentinWG ~  CLASS+ Treatment + rescale(DIB) +rescale(weight_interp)+rescale(nbr_h_per_day)+ rescale(nbr_h_WGopen)+ rescale(temperature_C_avg)+(1|PenID/HenID), \n",
    "           data=df__, family=binomial)\n",
    "fit_nopenid = glmmTMB(WentinWG ~  CLASS+ Treatment + rescale(DIB) +rescale(weight_interp)+rescale(nbr_h_per_day)+ rescale(nbr_h_WGopen)+ rescale(temperature_C_avg)+(1|HenID), \n",
    "           data=df__, family=binomial)\n",
    "print(anova(fit_nopenid,fit_penid))\n",
    "p_value = anova(fit_nopenid,fit_penid)['Pr(>Chisq)']['fit_penid',]\n",
    "if (p_value<0.05){\n",
    "    fit = fit_penid    \n",
    "}else{\n",
    "    fit = fit_nopenid    \n",
    "}\n",
    "\n",
    "summary(fit)"
   ]
  },
  {
   "cell_type": "code",
   "execution_count": 19,
   "id": "818bd975",
   "metadata": {},
   "outputs": [
    {
     "name": "stderr",
     "output_type": "stream",
     "text": [
      "Warning message in dir.create(path_visual_):\n",
      "\"'G:\\VPHI\\Welfare\\2- Research Projects\\OFHE2.OriginsE2\\DataOutput\\TrackingSystem\\ALLDATA_\\OFH_model\\Month_final_PenIDWhenNeeded\\WentinWG' existe déjà\"\n"
     ]
    },
    {
     "data": {
      "text/html": [
       "<style>\n",
       ".list-inline {list-style: none; margin:0; padding: 0}\n",
       ".list-inline>li {display: inline-block}\n",
       ".list-inline>li:not(:last-child)::after {content: \"\\00b7\"; padding: 0 .5ex}\n",
       "</style>\n",
       "<ol class=list-inline><li>37455</li><li>29</li></ol>\n"
      ],
      "text/latex": [
       "\\begin{enumerate*}\n",
       "\\item 37455\n",
       "\\item 29\n",
       "\\end{enumerate*}\n"
      ],
      "text/markdown": [
       "1. 37455\n",
       "2. 29\n",
       "\n",
       "\n"
      ],
      "text/plain": [
       "[1] 37455    29"
      ]
     },
     "metadata": {},
     "output_type": "display_data"
    },
    {
     "data": {
      "text/html": [
       "<style>\n",
       ".list-inline {list-style: none; margin:0; padding: 0}\n",
       ".list-inline>li {display: inline-block}\n",
       ".list-inline>li:not(:last-child)::after {content: \"\\00b7\"; padding: 0 .5ex}\n",
       "</style>\n",
       "<ol class=list-inline><li>35847</li><li>29</li></ol>\n"
      ],
      "text/latex": [
       "\\begin{enumerate*}\n",
       "\\item 35847\n",
       "\\item 29\n",
       "\\end{enumerate*}\n"
      ],
      "text/markdown": [
       "1. 35847\n",
       "2. 29\n",
       "\n",
       "\n"
      ],
      "text/plain": [
       "[1] 35847    29"
      ]
     },
     "metadata": {},
     "output_type": "display_data"
    },
    {
     "data": {
      "text/html": [
       "<style>\n",
       ".list-inline {list-style: none; margin:0; padding: 0}\n",
       ".list-inline>li {display: inline-block}\n",
       ".list-inline>li:not(:last-child)::after {content: \"\\00b7\"; padding: 0 .5ex}\n",
       "</style>\n",
       "<ol class=list-inline><li>35533</li><li>29</li></ol>\n"
      ],
      "text/latex": [
       "\\begin{enumerate*}\n",
       "\\item 35533\n",
       "\\item 29\n",
       "\\end{enumerate*}\n"
      ],
      "text/markdown": [
       "1. 35533\n",
       "2. 29\n",
       "\n",
       "\n"
      ],
      "text/plain": [
       "[1] 35533    29"
      ]
     },
     "metadata": {},
     "output_type": "display_data"
    },
    {
     "name": "stdout",
     "output_type": "stream",
     "text": [
      "[1] \"month2\"\n"
     ]
    },
    {
     "name": "stderr",
     "output_type": "stream",
     "text": [
      "Warning message in Matrix::sparseMatrix(dims = c(0, 0), i = integer(0), j = integer(0), :\n",
      "\"'giveCsparse' has been deprecated; setting 'repr = \"T\"' for you\"\n",
      "Warning message in Matrix::sparseMatrix(dims = c(0, 0), i = integer(0), j = integer(0), :\n",
      "\"'giveCsparse' has been deprecated; setting 'repr = \"T\"' for you\"\n",
      "Warning message in Matrix::sparseMatrix(dims = c(0, 0), i = integer(0), j = integer(0), :\n",
      "\"'giveCsparse' has been deprecated; setting 'repr = \"T\"' for you\"\n",
      "Warning message in Matrix::sparseMatrix(dims = c(0, 0), i = integer(0), j = integer(0), :\n",
      "\"'giveCsparse' has been deprecated; setting 'repr = \"T\"' for you\"\n",
      "Warning message in Matrix::sparseMatrix(dims = c(0, 0), i = integer(0), j = integer(0), :\n",
      "\"'giveCsparse' has been deprecated; setting 'repr = \"T\"' for you\"\n",
      "Warning message in Matrix::sparseMatrix(dims = c(0, 0), i = integer(0), j = integer(0), :\n",
      "\"'giveCsparse' has been deprecated; setting 'repr = \"T\"' for you\"\n"
     ]
    },
    {
     "name": "stdout",
     "output_type": "stream",
     "text": [
      "Data: df__\n",
      "Models:\n",
      "fit_nopenid: WentinWG ~ CLASS + Treatment + rescale(DIB) + rescale(weight_interp) + , zi=~0, disp=~1\n",
      "fit_nopenid:     rescale(nbr_h_per_day) + rescale(nbr_h_WGopen) + (1 | HenID), zi=~0, disp=~1\n",
      "fit_penid: WentinWG ~ CLASS + Treatment + rescale(DIB) + rescale(weight_interp) + , zi=~0, disp=~1\n",
      "fit_penid:     rescale(nbr_h_per_day) + rescale(nbr_h_WGopen) + (1 | PenID/HenID), zi=~0, disp=~1\n",
      "            Df    AIC    BIC  logLik deviance Chisq Chi Df Pr(>Chisq)\n",
      "fit_nopenid  9 3271.7 3328.5 -1626.8   3253.7                        \n",
      "fit_penid   10 3273.7 3336.8 -1626.8   3253.7     0      1          1\n"
     ]
    },
    {
     "data": {
      "text/plain": [
       " Family: binomial  ( logit )\n",
       "Formula:          \n",
       "WentinWG ~ CLASS + Treatment + rescale(DIB) + rescale(weight_interp) +  \n",
       "    rescale(nbr_h_per_day) + rescale(nbr_h_WGopen) + (1 | HenID)\n",
       "Data: df__\n",
       "\n",
       "     AIC      BIC   logLik deviance df.resid \n",
       "  3271.7   3328.5  -1626.8   3253.7     4051 \n",
       "\n",
       "Random effects:\n",
       "\n",
       "Conditional model:\n",
       " Groups Name        Variance Std.Dev.\n",
       " HenID  (Intercept) 8.189    2.862   \n",
       "Number of obs: 4060, groups:  HenID, 173\n",
       "\n",
       "Conditional model:\n",
       "                       Estimate Std. Error z value Pr(>|z|)    \n",
       "(Intercept)             1.17794    0.38008   3.099  0.00194 ** \n",
       "CLASSLEXP              -0.28659    0.62894  -0.456  0.64863    \n",
       "CLASSMEXP              -0.03010    0.58203  -0.052  0.95876    \n",
       "TreatmentOFH           -0.04696    0.46793  -0.100  0.92006    \n",
       "rescale(DIB)           -1.69476    0.32838  -5.161 2.46e-07 ***\n",
       "rescale(weight_interp)  0.39901    0.51935   0.768  0.44232    \n",
       "rescale(nbr_h_per_day)  0.85458    0.21391   3.995 6.47e-05 ***\n",
       "rescale(nbr_h_WGopen)   1.26384    0.10908  11.586  < 2e-16 ***\n",
       "---\n",
       "Signif. codes:  0 '***' 0.001 '**' 0.01 '*' 0.05 '.' 0.1 ' ' 1"
      ]
     },
     "metadata": {},
     "output_type": "display_data"
    }
   ],
   "source": [
    "var = 'WentinWG'\n",
    "path_visual_ = file.path(path_visual, var)\n",
    "dir.create(path_visual_)\n",
    "dim(df)\n",
    "df_ = subset(df, !is.na(WentinWG))\n",
    "dim(df_)\n",
    "df_ = subset(df_, !is.na(temperature_C_avg))\n",
    "dim(df_)\n",
    "\n",
    "monthILBID = 'month2'\n",
    "print(monthILBID)\n",
    "df__ = df_[df_$monthILB==monthILBID,]\n",
    "#drop factors not existing in this subdataframe\n",
    "df__$HenID = factor(df__$HenID) \n",
    "df__$PenID = factor(df__$PenID)\n",
    "df__$CLASS = factor(df__$CLASS) \n",
    "#monthILB1-monthILB2: no KBF but nbr_h_per_day_sc, after KBF but no nbr_h_per_day_sc\n",
    "fit_penid = glmmTMB(WentinWG ~  CLASS+ Treatment + rescale(DIB) +rescale(weight_interp)+rescale(nbr_h_per_day)+ rescale(nbr_h_WGopen)+(1|PenID/HenID), \n",
    "           data=df__, family=binomial)\n",
    "fit_nopenid = glmmTMB(WentinWG ~  CLASS+ Treatment + rescale(DIB) +rescale(weight_interp)+rescale(nbr_h_per_day)+ rescale(nbr_h_WGopen)+(1|HenID), \n",
    "           data=df__, family=binomial)\n",
    "print(anova(fit_nopenid,fit_penid))\n",
    "p_value = anova(fit_nopenid,fit_penid)['Pr(>Chisq)']['fit_penid',]\n",
    "if (p_value<0.05){\n",
    "    fit = fit_penid    \n",
    "}else{\n",
    "    fit = fit_nopenid    \n",
    "}\n",
    "\n",
    "summary(fit)"
   ]
  },
  {
   "cell_type": "code",
   "execution_count": null,
   "id": "def99586",
   "metadata": {},
   "outputs": [],
   "source": []
  },
  {
   "cell_type": "code",
   "execution_count": null,
   "id": "d617d39f",
   "metadata": {},
   "outputs": [],
   "source": []
  },
  {
   "cell_type": "code",
   "execution_count": null,
   "id": "d35773df",
   "metadata": {},
   "outputs": [],
   "source": []
  },
  {
   "cell_type": "code",
   "execution_count": null,
   "id": "d6998bd9",
   "metadata": {},
   "outputs": [],
   "source": []
  }
 ],
 "metadata": {
  "kernelspec": {
   "display_name": " Rkernel ",
   "language": "R",
   "name": "rkernel"
  },
  "language_info": {
   "codemirror_mode": "r",
   "file_extension": ".r",
   "mimetype": "text/x-r-source",
   "name": "R",
   "pygments_lexer": "r",
   "version": "3.6.1"
  }
 },
 "nbformat": 4,
 "nbformat_minor": 5
}
