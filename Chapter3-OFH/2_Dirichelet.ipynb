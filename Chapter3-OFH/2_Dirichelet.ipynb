{
 "cells": [
  {
   "cell_type": "code",
   "execution_count": 1,
   "id": "eaeb6db0",
   "metadata": {},
   "outputs": [
    {
     "name": "stderr",
     "output_type": "stream",
     "text": [
      "Warning message:\n",
      "\"le package 'brms' a été compilé avec la version R 4.1.2\"\n",
      "Le chargement a nécessité le package : Rcpp\n",
      "\n",
      "Warning message:\n",
      "\"le package 'Rcpp' a été compilé avec la version R 4.1.2\"\n",
      "Loading 'brms' package (version 2.16.3). Useful instructions\n",
      "can be found by typing help('brms'). A more detailed introduction\n",
      "to the package is available through vignette('brms_overview').\n",
      "\n",
      "\n",
      "Attachement du package : 'brms'\n",
      "\n",
      "\n",
      "L'objet suivant est masqué depuis 'package:stats':\n",
      "\n",
      "    ar\n",
      "\n",
      "\n",
      "Warning message:\n",
      "\"le package 'MCMCglmm' a été compilé avec la version R 4.1.2\"\n",
      "Le chargement a nécessité le package : Matrix\n",
      "\n",
      "Warning message:\n",
      "\"le package 'Matrix' a été compilé avec la version R 4.1.2\"\n",
      "Le chargement a nécessité le package : coda\n",
      "\n",
      "Warning message:\n",
      "\"le package 'coda' a été compilé avec la version R 4.1.2\"\n",
      "Le chargement a nécessité le package : ape\n",
      "\n",
      "Warning message:\n",
      "\"le package 'ape' a été compilé avec la version R 4.1.2\"\n",
      "\n",
      "Attachement du package : 'MCMCglmm'\n",
      "\n",
      "\n",
      "L'objet suivant est masqué depuis 'package:brms':\n",
      "\n",
      "    me\n",
      "\n",
      "\n",
      "Warning message:\n",
      "\"le package 'dplyr' a été compilé avec la version R 4.1.2\"\n",
      "\n",
      "Attachement du package : 'dplyr'\n",
      "\n",
      "\n",
      "Les objets suivants sont masqués depuis 'package:stats':\n",
      "\n",
      "    filter, lag\n",
      "\n",
      "\n",
      "Les objets suivants sont masqués depuis 'package:base':\n",
      "\n",
      "    intersect, setdiff, setequal, union\n",
      "\n",
      "\n",
      "Warning message:\n",
      "\"le package 'lmerTest' a été compilé avec la version R 4.1.2\"\n",
      "Le chargement a nécessité le package : lme4\n",
      "\n",
      "Warning message:\n",
      "\"le package 'lme4' a été compilé avec la version R 4.1.2\"\n",
      "\n",
      "Attachement du package : 'lme4'\n",
      "\n",
      "\n",
      "L'objet suivant est masqué depuis 'package:brms':\n",
      "\n",
      "    ngrps\n",
      "\n",
      "\n",
      "\n",
      "Attachement du package : 'lmerTest'\n",
      "\n",
      "\n",
      "L'objet suivant est masqué depuis 'package:lme4':\n",
      "\n",
      "    lmer\n",
      "\n",
      "\n",
      "L'objet suivant est masqué depuis 'package:stats':\n",
      "\n",
      "    step\n",
      "\n",
      "\n",
      "Warning message:\n",
      "\"le package 'sjPlot' a été compilé avec la version R 4.1.2\"\n",
      "Learn more about sjPlot with 'browseVignettes(\"sjPlot\")'.\n",
      "\n",
      "Warning message:\n",
      "\"le package 'ggplot2' a été compilé avec la version R 4.1.2\"\n",
      "Warning message:\n",
      "\"le package 'rstan' a été compilé avec la version R 4.1.2\"\n",
      "Le chargement a nécessité le package : StanHeaders\n",
      "\n",
      "Warning message:\n",
      "\"le package 'StanHeaders' a été compilé avec la version R 4.1.2\"\n",
      "rstan (Version 2.21.2, GitRev: 2e1f913d3ca3)\n",
      "\n",
      "For execution on a local, multicore CPU with excess RAM we recommend calling\n",
      "options(mc.cores = parallel::detectCores()).\n",
      "To avoid recompilation of unchanged Stan programs, we recommend calling\n",
      "rstan_options(auto_write = TRUE)\n",
      "\n",
      "Do not specify '-march=native' in 'LOCAL_CPPFLAGS' or a Makevars file\n",
      "\n",
      "\n",
      "Attachement du package : 'rstan'\n",
      "\n",
      "\n",
      "L'objet suivant est masqué depuis 'package:coda':\n",
      "\n",
      "    traceplot\n",
      "\n",
      "\n"
     ]
    }
   ],
   "source": [
    "library(brms) #predictability: Double hierearchical model\n",
    "library(MCMCglmm) #HPDinterval\n",
    "library(dplyr) #%>%\n",
    "library(lmerTest) #lmer\n",
    "#library(MuMIn) #r2\n",
    "#library(merTools) #sim\n",
    "library(sjPlot) #plot coeff\n",
    "library(ggplot2) #ylim in plot\n",
    "library(rstan) #model diagnostic"
   ]
  },
  {
   "cell_type": "code",
   "execution_count": 2,
   "id": "815eed43",
   "metadata": {},
   "outputs": [],
   "source": [
    "library(ggplot2)"
   ]
  },
  {
   "cell_type": "code",
   "execution_count": 3,
   "id": "4980fea2",
   "metadata": {},
   "outputs": [
    {
     "data": {
      "text/html": [
       "11"
      ],
      "text/latex": [
       "11"
      ],
      "text/markdown": [
       "11"
      ],
      "text/plain": [
       "[1] 11"
      ]
     },
     "metadata": {},
     "output_type": "display_data"
    }
   ],
   "source": [
    "library(parallel)\n",
    "my.cores = detectCores()-1 #minus 1 to avoid bocking the computer\n",
    "my.cores"
   ]
  },
  {
   "cell_type": "code",
   "execution_count": 4,
   "id": "8f18c382",
   "metadata": {},
   "outputs": [
    {
     "data": {
      "text/html": [
       "<table class=\"dataframe\">\n",
       "<caption>A matrix: 2 × 1 of type dbl</caption>\n",
       "<thead>\n",
       "\t<tr><th></th><th scope=col>OFH</th></tr>\n",
       "</thead>\n",
       "<tbody>\n",
       "\t<tr><th scope=row>TRAN</th><td>0</td></tr>\n",
       "\t<tr><th scope=row>OFH</th><td>1</td></tr>\n",
       "</tbody>\n",
       "</table>\n"
      ],
      "text/latex": [
       "A matrix: 2 × 1 of type dbl\n",
       "\\begin{tabular}{r|l}\n",
       "  & OFH\\\\\n",
       "\\hline\n",
       "\tTRAN & 0\\\\\n",
       "\tOFH & 1\\\\\n",
       "\\end{tabular}\n"
      ],
      "text/markdown": [
       "\n",
       "A matrix: 2 × 1 of type dbl\n",
       "\n",
       "| <!--/--> | OFH |\n",
       "|---|---|\n",
       "| TRAN | 0 |\n",
       "| OFH | 1 |\n",
       "\n"
      ],
      "text/plain": [
       "     OFH\n",
       "TRAN 0  \n",
       "OFH  1  "
      ]
     },
     "metadata": {},
     "output_type": "display_data"
    },
    {
     "data": {
      "text/html": [
       "<table class=\"dataframe\">\n",
       "<caption>A matrix: 3 × 2 of type dbl</caption>\n",
       "<thead>\n",
       "\t<tr><th></th><th scope=col>LEXP</th><th scope=col>MEXP</th></tr>\n",
       "</thead>\n",
       "<tbody>\n",
       "\t<tr><th scope=row>REXP</th><td>0</td><td>0</td></tr>\n",
       "\t<tr><th scope=row>LEXP</th><td>1</td><td>0</td></tr>\n",
       "\t<tr><th scope=row>MEXP</th><td>0</td><td>1</td></tr>\n",
       "</tbody>\n",
       "</table>\n"
      ],
      "text/latex": [
       "A matrix: 3 × 2 of type dbl\n",
       "\\begin{tabular}{r|ll}\n",
       "  & LEXP & MEXP\\\\\n",
       "\\hline\n",
       "\tREXP & 0 & 0\\\\\n",
       "\tLEXP & 1 & 0\\\\\n",
       "\tMEXP & 0 & 1\\\\\n",
       "\\end{tabular}\n"
      ],
      "text/markdown": [
       "\n",
       "A matrix: 3 × 2 of type dbl\n",
       "\n",
       "| <!--/--> | LEXP | MEXP |\n",
       "|---|---|---|\n",
       "| REXP | 0 | 0 |\n",
       "| LEXP | 1 | 0 |\n",
       "| MEXP | 0 | 1 |\n",
       "\n"
      ],
      "text/plain": [
       "     LEXP MEXP\n",
       "REXP 0    0   \n",
       "LEXP 1    0   \n",
       "MEXP 0    1   "
      ]
     },
     "metadata": {},
     "output_type": "display_data"
    },
    {
     "name": "stdout",
     "output_type": "stream",
     "text": [
      "[1] 5875   19\n"
     ]
    },
    {
     "data": {
      "text/plain": [
       "     HenID          PenID             level      Treatment    CLASS     \n",
       " hen_10 :  39   pen10  : 769   2021-01-10: 159   TRAN:2920   REXP:3397  \n",
       " hen_112:  39   pen11  : 766   2021-01-17: 159   OFH :2955   LEXP:1110  \n",
       " hen_118:  39   pen4   : 738   2021-02-07: 159               MEXP:1368  \n",
       " hen_134:  39   pen5   : 736   2021-04-18: 159                          \n",
       " hen_139:  39   pen9   : 733   2021-01-24: 158                          \n",
       " hen_145:  39   pen12  : 728   2021-02-28: 158                          \n",
       " (Other):5641   (Other):1405   (Other)   :4923                          \n",
       "      DOA             WOA             DIB             WIB       \n",
       " Min.   :123.0   Min.   :18.00   Min.   :  5.0   Min.   : 1.00  \n",
       " 1st Qu.:193.0   1st Qu.:28.00   1st Qu.: 75.0   1st Qu.:11.00  \n",
       " Median :256.0   Median :37.00   Median :138.0   Median :20.00  \n",
       " Mean   :261.7   Mean   :37.81   Mean   :143.7   Mean   :20.81  \n",
       " 3rd Qu.:333.0   3rd Qu.:48.00   3rd Qu.:215.0   3rd Qu.:31.00  \n",
       " Max.   :410.0   Max.   :59.00   Max.   :292.0   Max.   :42.00  \n",
       "                                                                \n",
       "   KBF_interp     FeatherDamage_interp weight_interp \n",
       " Min.   : 0.000   Min.   : 0.000       Min.   :1061  \n",
       " 1st Qu.: 4.143   1st Qu.: 1.288       1st Qu.:1657  \n",
       " Median :17.731   Median : 9.652       Median :1785  \n",
       " Mean   :19.999   Mean   :12.559       Mean   :1763  \n",
       " 3rd Qu.:32.381   3rd Qu.:20.599       3rd Qu.:1905  \n",
       " Max.   :81.173   Max.   :63.013       Max.   :2329  \n",
       " NA's   :40       NA's   :205          NA's   :132   \n",
       " propindoor_duration_2_Zone propindoor_duration_3_Zone\n",
       " Min.   :0.0001             Min.   :0.0001            \n",
       " 1st Qu.:0.2449             1st Qu.:0.1146            \n",
       " Median :0.4141             Median :0.2200            \n",
       " Mean   :0.3864             Mean   :0.2150            \n",
       " 3rd Qu.:0.5361             3rd Qu.:0.3061            \n",
       " Max.   :0.9098             Max.   :0.9997            \n",
       "                                                      \n",
       " propindoor_duration_4_Zone propindoor_duration_5_Zone      time.V1      \n",
       " Min.   :0.00010            Min.   :0.0001             Min.   :0.085011  \n",
       " 1st Qu.:0.04951            1st Qu.:0.0800             1st Qu.:0.935116  \n",
       " Median :0.06977            Median :0.2391             Median :1.700211  \n",
       " Mean   :0.08149            Mean   :0.3171             Mean   :1.769188  \n",
       " 3rd Qu.:0.09783            3rd Qu.:0.5100             3rd Qu.:2.635326  \n",
       " Max.   :0.99970            Max.   :0.9997             Max.   :3.570442  \n",
       "                                                                         \n",
       "     time2_               time2.V1     \n",
       " Min.   : 0.007227   Min.   :0.001930  \n",
       " 1st Qu.: 0.874442   1st Qu.:0.233513  \n",
       " Median : 2.890716   Median :0.771942  \n",
       " Mean   : 4.129858   Mean   :1.102845  \n",
       " 3rd Qu.: 6.944945   3rd Qu.:1.854591  \n",
       " Max.   :12.748057   Max.   :3.404265  \n",
       "                                       "
      ]
     },
     "metadata": {},
     "output_type": "display_data"
    }
   ],
   "source": [
    "path_ = 'G:/VPHI/Welfare/2- Research Projects/OFHE2.OriginsE2/DataOutput/TrackingSystem/ALLDATA_'\n",
    "#df = read.csv(file.path(path_,'df_daily_aggregatedHA.csv'), header = TRUE, sep = \",\")\n",
    "df = read.csv(file.path(path_,'OFH_df_MVT_ALL.csv'), header = TRUE, sep = \",\")\n",
    "\n",
    "df$HenID = as.factor(df$HenID)   \n",
    "df$PenID = as.factor(df$PenID)\n",
    "df$level = as.factor(df$level) \n",
    "df$CLASS = as.factor(df$CLASS) \n",
    "df$Treatment = as.factor(df$Treatment)\n",
    "df$time = scale(df$WIB, center=FALSE, scale=sd(df$WIB, na.rm = TRUE)) #as not centering, we need to add this\n",
    "df$time2_ = poly(df$time, degree=2,raw=TRUE)[,2]\n",
    "df$time2 = scale(df$time2_, center=FALSE, scale=sd(df$time2_, na.rm = TRUE))\n",
    "#df$KBF_interp = scale(df$KBF_interp, center=TRUE)\n",
    "#df$FeatherDamage_interp = scale(df$FeatherDamage_interp, center=TRUE)\n",
    "#df$weight_interp = scale(df$weight_interp, center=TRUE)\n",
    "\n",
    "#scale: mean-centering of the environmental variable so that intercepts reflect average values for the HenID and ind. \n",
    "#df$temperature_C_avg_scale = scale(df$temperature_C_avg, center=TRUE, scale=TRUE)\n",
    "\n",
    "#setting reference group\n",
    "df <- df %>% mutate(Treatment = relevel(Treatment, ref = \"TRAN\"))\n",
    "contrasts(df$Treatment)\n",
    "df <- df %>% mutate(CLASS = relevel(CLASS, ref = \"REXP\"))\n",
    "contrasts(df$CLASS)\n",
    "print(dim(df))\n",
    "summary(df)\n",
    "write.csv(df, file.path(path_,'OFH__df_MVT_ALL_time.csv'))"
   ]
  },
  {
   "cell_type": "code",
   "execution_count": 5,
   "id": "8cd17851",
   "metadata": {},
   "outputs": [
    {
     "data": {
      "text/html": [
       "1"
      ],
      "text/latex": [
       "1"
      ],
      "text/markdown": [
       "1"
      ],
      "text/plain": [
       "[1] 1"
      ]
     },
     "metadata": {},
     "output_type": "display_data"
    },
    {
     "data": {
      "text/html": [
       "3.7447309689824"
      ],
      "text/latex": [
       "3.7447309689824"
      ],
      "text/markdown": [
       "3.7447309689824"
      ],
      "text/plain": [
       "[1] 3.744731"
      ]
     },
     "metadata": {},
     "output_type": "display_data"
    },
    {
     "data": {
      "text/html": [
       "1"
      ],
      "text/latex": [
       "1"
      ],
      "text/markdown": [
       "1"
      ],
      "text/plain": [
       "[1] 1"
      ]
     },
     "metadata": {},
     "output_type": "display_data"
    }
   ],
   "source": [
    "sd(df$time2)\n",
    "sd(df$time2_)\n",
    "sd(df$time)"
   ]
  },
  {
   "cell_type": "code",
   "execution_count": 6,
   "id": "390498a1",
   "metadata": {
    "scrolled": true
   },
   "outputs": [],
   "source": [
    "#df$Matrix_proportions = data.matrix(df[,c('propindoor_duration_2_Zone','propindoor_duration_3_Zone', 'propindoor_duration_4_Zone', 'propindoor_duration_5_Zone')])"
   ]
  },
  {
   "cell_type": "code",
   "execution_count": null,
   "id": "c59de4d5",
   "metadata": {
    "scrolled": false
   },
   "outputs": [
    {
     "name": "stderr",
     "output_type": "stream",
     "text": [
      "Warning message:\n",
      "\"Rows containing NAs were excluded from the model.\"\n",
      "Compiling Stan program...\n",
      "\n",
      "Start sampling\n",
      "\n"
     ]
    }
   ],
   "source": [
    "iter_ = 10000*10\n",
    "iter_wu = 8000*10\n",
    "bind <- function(...) cbind(...) #cbind is reserve for multivariate in brms!\n",
    "#put 4 as reference!\n",
    "frml = bf(bind(propindoor_duration_4_Zone, propindoor_duration_2_Zone, propindoor_duration_3_Zone,\n",
    "               propindoor_duration_5_Zone) ~ time + time2 + Treatment + time:Treatment + PenID + CLASS + scale(KBF_interp) + scale(FeatherDamage_interp) + scale(weight_interp) + (1|HenID))\n",
    "fit_moreit = brm(frml, data = df, family = dirichlet(link = 'logit', link_phi = 'log'), \n",
    "                 iter = iter_, warmup = iter_wu, thin = 50, chains = 3, cores = my.cores, seed = 12345,\n",
    "                 control = list(max_treedepth=11, adapt_delta=0.9))\n",
    "summary(fit_moreit)\n",
    "save(fit_moreit, file = file.path(path_, 'OFH_dirichlet_80birdsPenIDtimesquare_moreit_allfixedeffect_allhens.rda'))\n",
    "#load(file.path(path_,\"OFH_dirichlet_80birdsPenIDtimesquare_moreit.rda\"))  #OLD: 10 divergent transitions\n",
    "#load(file.path(path_,\"OFH_dirichlet_80birdsPenIDtimesquare_moreit_allfixedeffect_allhens.rda\"))  #OLD: 10 divergent transitions"
   ]
  },
  {
   "cell_type": "code",
   "execution_count": null,
   "id": "b8fdc82c",
   "metadata": {},
   "outputs": [],
   "source": [
    "#as hens are in a unique pen:\n",
    "li_dfpred = list()\n",
    "li_dfnewdata = list()\n",
    "bind <- function(...) cbind(...) #cbind is reserve for multivariate in brms!\n",
    "for (penid in unique(df$PenID)){\n",
    "    print(penid)\n",
    "    df_newdata = expand.grid(Treatment=c(\"OFH\",'TRAN'),\n",
    "                             PenID = penid,\n",
    "                             HenID = unique(df[df$PenID==penid,]$HenID), #unique(df$HenID), #sample(unique(df$HenID), 10),\n",
    "                             time = unique(df$time),\n",
    "                             time2 = unique(df$time2),\n",
    "                             Treatment = unique(df[df$PenID==penid,]$Treatment))\n",
    "    dim(df_newdata)\n",
    "    #head(df_newdata, 2)\n",
    "    #predict.MCMCglmm() : https://www.rdocumentation.org/packages/MCMCglmm/versions/2.32/topics/predict.MCMCglmm\n",
    "    #credible intervals: https://stat.ethz.ch/pipermail/r-sig-mixed-models/2018q1/026408.html \n",
    "    df_pred = predict(fit_moreit, newdata=df_newdata, interval='confidence') #marginal=fit$Random$formula OR NULL?\n",
    "    #dim(df_pred)\n",
    "    #head(df_pred,3)\n",
    "    ##li_dfpred = append(li_dfpred,list(df_pred))\n",
    "    ##li_dfnewdata = append(li_dfnewdata,list(df_newdata))\n",
    "    write.csv(df_pred, file.path(path_,paste0('OFH_',penid,'_df_pred_all_moreit_allfixedeffect_allhens.csv')))\n",
    "    write.csv(df_newdata, file.path(path_,paste0('OFH_',penid,'_df_newdata_all_moreit_allfixedeffect_allhens.csv')))\n",
    "}\n",
    "##df_pred_all = bind_rows(li_dfpred)\n",
    "##df_newdata_all = bind_rows(li_dfnewdata)\n",
    "##dim(df_pred_all)\n",
    "##dim(df_newdata_all)\n",
    "##write.csv(df_pred_all, file.path(path_,paste0('OFH_',penid,'_df_pred_all_moreit.csv')))\n",
    "##write.csv(df_newdata_all, file.path(path_,paste0('OFH_',penid,'_df_newdata_all_moreit.csv')))"
   ]
  },
  {
   "cell_type": "code",
   "execution_count": null,
   "id": "53e16ed7",
   "metadata": {},
   "outputs": [],
   "source": [
    "#TODO NEXT ROUND: all birds, account for CLASS; health, weight,"
   ]
  },
  {
   "cell_type": "code",
   "execution_count": null,
   "id": "5f0d9e18",
   "metadata": {},
   "outputs": [],
   "source": [
    "#dirichlet diagnotic pp_check\n",
    "#https://discourse.mc-stan.org/t/using-pp-check-for-dirichlet-model/8033/6\n",
    "#good to know: http://paul-buerkner.github.io/brms/reference/conditional_effects.html\n",
    "#to read: https://www.google.com/imgres?imgurl=https%3A%2F%2Fars.els-cdn.com%2Fcontent%2Fimage%2F1-s2.0-S0169207021000583-gr1.jpg&imgrefurl=https%3A%2F%2Fwww.sciencedirect.com%2Fscience%2Farticle%2Fpii%2FS0169207021000583&tbnid=ot_CAfIcu_8oPM&vet=12ahUKEwiTl-ez1tX4AhWyPOwKHSVVAhMQMygkegUIARDvAQ..i&docid=medWEoPnTXoAaM&w=531&h=525&q=plot%20Dirichlet%20prediction%20with%20brms%20odel&ved=2ahUKEwiTl-ez1tX4AhWyPOwKHSVVAhMQMygkegUIARDvAQ"
   ]
  },
  {
   "cell_type": "code",
   "execution_count": null,
   "id": "6e5ea7fd",
   "metadata": {},
   "outputs": [],
   "source": []
  },
  {
   "cell_type": "code",
   "execution_count": null,
   "id": "9625d2c9",
   "metadata": {},
   "outputs": [],
   "source": []
  },
  {
   "cell_type": "code",
   "execution_count": null,
   "id": "7a266ea8",
   "metadata": {},
   "outputs": [],
   "source": []
  },
  {
   "cell_type": "code",
   "execution_count": null,
   "id": "7d2cf752",
   "metadata": {},
   "outputs": [],
   "source": []
  },
  {
   "cell_type": "code",
   "execution_count": null,
   "id": "d970b333",
   "metadata": {},
   "outputs": [],
   "source": []
  }
 ],
 "metadata": {
  "kernelspec": {
   "display_name": " Rkernel_4",
   "language": "R",
   "name": "rkernel_4"
  },
  "language_info": {
   "codemirror_mode": "r",
   "file_extension": ".r",
   "mimetype": "text/x-r-source",
   "name": "R",
   "pygments_lexer": "r",
   "version": "4.1.1"
  }
 },
 "nbformat": 4,
 "nbformat_minor": 5
}
