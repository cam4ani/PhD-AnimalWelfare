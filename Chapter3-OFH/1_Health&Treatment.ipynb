{
 "cells": [
  {
   "cell_type": "code",
   "execution_count": 1,
   "id": "460d6197",
   "metadata": {},
   "outputs": [
    {
     "name": "stderr",
     "output_type": "stream",
     "text": [
      "Warning message:\n",
      "\"package 'lmerTest' was built under R version 3.6.3\"\n",
      "Loading required package: lme4\n",
      "\n",
      "Warning message:\n",
      "\"package 'lme4' was built under R version 3.6.3\"\n",
      "Loading required package: Matrix\n",
      "\n",
      "Warning message:\n",
      "\"package 'Matrix' was built under R version 3.6.3\"\n",
      "\n",
      "Attaching package: 'lmerTest'\n",
      "\n",
      "\n",
      "The following object is masked from 'package:lme4':\n",
      "\n",
      "    lmer\n",
      "\n",
      "\n",
      "The following object is masked from 'package:stats':\n",
      "\n",
      "    step\n",
      "\n",
      "\n",
      "Warning message:\n",
      "\"package 'dplyr' was built under R version 3.6.3\"\n",
      "\n",
      "Attaching package: 'dplyr'\n",
      "\n",
      "\n",
      "The following objects are masked from 'package:stats':\n",
      "\n",
      "    filter, lag\n",
      "\n",
      "\n",
      "The following objects are masked from 'package:base':\n",
      "\n",
      "    intersect, setdiff, setequal, union\n",
      "\n",
      "\n",
      "Learn more about sjPlot with 'browseVignettes(\"sjPlot\")'.\n",
      "\n"
     ]
    }
   ],
   "source": [
    "library(lmerTest) #lmer\n",
    "library(ggplot2) #ylim in plot\n",
    "library(emmeans)\n",
    "library(dplyr) #%>%\n",
    "library(sjPlot) #tab_model\n",
    "#library(glmmTMB)\n",
    "#library(DHARMa) #sim"
   ]
  },
  {
   "cell_type": "code",
   "execution_count": 2,
   "id": "dfdc2e7c",
   "metadata": {},
   "outputs": [],
   "source": [
    "#sessionInfo()\n",
    "#contrast: https://cran.r-project.org/web/packages/emmeans/vignettes/comparisons.html"
   ]
  },
  {
   "cell_type": "code",
   "execution_count": 3,
   "id": "53b04981",
   "metadata": {},
   "outputs": [
    {
     "name": "stderr",
     "output_type": "stream",
     "text": [
      "Warning message in dir.create(path_save):\n",
      "\"'G:\\VPHI\\Welfare\\2- Research Projects\\OFHE2.OriginsE2\\DataOutput\\TrackingSystem\\ALLDATA_\\0FH_HA' existe déjà\"\n"
     ]
    },
    {
     "data": {
      "text/html": [
       "<style>\n",
       ".list-inline {list-style: none; margin:0; padding: 0}\n",
       ".list-inline>li {display: inline-block}\n",
       ".list-inline>li:not(:last-child)::after {content: \"\\00b7\"; padding: 0 .5ex}\n",
       "</style>\n",
       "<ol class=list-inline><li>844</li><li>8</li></ol>\n"
      ],
      "text/latex": [
       "\\begin{enumerate*}\n",
       "\\item 844\n",
       "\\item 8\n",
       "\\end{enumerate*}\n"
      ],
      "text/markdown": [
       "1. 844\n",
       "2. 8\n",
       "\n",
       "\n"
      ],
      "text/plain": [
       "[1] 844   8"
      ]
     },
     "metadata": {},
     "output_type": "display_data"
    },
    {
     "data": {
      "text/html": [
       "<table class=\"dataframe\">\n",
       "<caption>A data.frame: 3 × 8</caption>\n",
       "<thead>\n",
       "\t<tr><th></th><th scope=col>CLASS</th><th scope=col>date</th><th scope=col>Treatment</th><th scope=col>HenID</th><th scope=col>severity</th><th scope=col>FeatherDamage</th><th scope=col>DOA</th><th scope=col>PenID</th></tr>\n",
       "\t<tr><th></th><th scope=col>&lt;fct&gt;</th><th scope=col>&lt;fct&gt;</th><th scope=col>&lt;fct&gt;</th><th scope=col>&lt;fct&gt;</th><th scope=col>&lt;int&gt;</th><th scope=col>&lt;dbl&gt;</th><th scope=col>&lt;int&gt;</th><th scope=col>&lt;fct&gt;</th></tr>\n",
       "</thead>\n",
       "<tbody>\n",
       "\t<tr><th scope=row>1</th><td>REXP</td><td>2020-11-23</td><td>OFH</td><td>hen_164</td><td> 0</td><td>NA</td><td>173</td><td>pen9</td></tr>\n",
       "\t<tr><th scope=row>2</th><td>REXP</td><td>2021-02-01</td><td>OFH</td><td>hen_181</td><td>16</td><td>14</td><td>243</td><td>pen9</td></tr>\n",
       "\t<tr><th scope=row>3</th><td>REXP</td><td>2021-02-01</td><td>OFH</td><td>hen_82 </td><td> 4</td><td> 8</td><td>243</td><td>pen5</td></tr>\n",
       "</tbody>\n",
       "</table>\n"
      ],
      "text/latex": [
       "A data.frame: 3 × 8\n",
       "\\begin{tabular}{r|llllllll}\n",
       "  & CLASS & date & Treatment & HenID & severity & FeatherDamage & DOA & PenID\\\\\n",
       "  & <fct> & <fct> & <fct> & <fct> & <int> & <dbl> & <int> & <fct>\\\\\n",
       "\\hline\n",
       "\t1 & REXP & 2020-11-23 & OFH & hen\\_164 &  0 & NA & 173 & pen9\\\\\n",
       "\t2 & REXP & 2021-02-01 & OFH & hen\\_181 & 16 & 14 & 243 & pen9\\\\\n",
       "\t3 & REXP & 2021-02-01 & OFH & hen\\_82  &  4 &  8 & 243 & pen5\\\\\n",
       "\\end{tabular}\n"
      ],
      "text/markdown": [
       "\n",
       "A data.frame: 3 × 8\n",
       "\n",
       "| <!--/--> | CLASS &lt;fct&gt; | date &lt;fct&gt; | Treatment &lt;fct&gt; | HenID &lt;fct&gt; | severity &lt;int&gt; | FeatherDamage &lt;dbl&gt; | DOA &lt;int&gt; | PenID &lt;fct&gt; |\n",
       "|---|---|---|---|---|---|---|---|---|\n",
       "| 1 | REXP | 2020-11-23 | OFH | hen_164 |  0 | NA | 173 | pen9 |\n",
       "| 2 | REXP | 2021-02-01 | OFH | hen_181 | 16 | 14 | 243 | pen9 |\n",
       "| 3 | REXP | 2021-02-01 | OFH | hen_82  |  4 |  8 | 243 | pen5 |\n",
       "\n"
      ],
      "text/plain": [
       "  CLASS date       Treatment HenID   severity FeatherDamage DOA PenID\n",
       "1 REXP  2020-11-23 OFH       hen_164  0       NA            173 pen9 \n",
       "2 REXP  2021-02-01 OFH       hen_181 16       14            243 pen9 \n",
       "3 REXP  2021-02-01 OFH       hen_82   4        8            243 pen5 "
      ]
     },
     "metadata": {},
     "output_type": "display_data"
    }
   ],
   "source": [
    "#focal birds information (one row per focal bird)\n",
    "path_ = 'G:/VPHI/Welfare/2- Research Projects/OFHE2.OriginsE2/DataOutput/TrackingSystem/ALLDATA_'\n",
    "path_save = file.path(path_, '0FH_HA')\n",
    "dir.create(path_save)\n",
    "#df = read.csv(file.path(path_,'df_daily_aggregatedHA.csv'), header = TRUE, sep = \",\")\n",
    "df = read.csv(file.path(path_,'OFH_df_HA.csv'), header = TRUE, sep = \",\")\n",
    "df$HenID = as.factor(df$HenID)   \n",
    "df$PenID = as.factor(df$PenID)\n",
    "df$CLASS = as.factor(df$CLASS) \n",
    "df$date = as.factor(df$date) \n",
    "df$DOA = as.integer(df$DOA) \n",
    "df$Treatment = as.factor(df$Treatment)\n",
    "#df$dateTreatment = interaction(df$DOA, df$Treatment)\n",
    "#df$dateTreatment = as.factor(df$dateTreatment)\n",
    "df = df %>% mutate(CLASS = relevel(CLASS, ref = \"REXP\"))\n",
    "df = df %>% mutate(Treatment = relevel(Treatment, ref = \"TRAN\"))\n",
    "dim(df)\n",
    "df = df[!is.na(df$DOA),]\n",
    "head(df,3)"
   ]
  },
  {
   "cell_type": "code",
   "execution_count": 4,
   "id": "e7ecfc06",
   "metadata": {},
   "outputs": [
    {
     "data": {
      "text/html": [
       "<table class=\"dataframe\">\n",
       "<caption>A data.frame: 5 × 1</caption>\n",
       "<thead>\n",
       "\t<tr><th></th><th scope=col>date</th></tr>\n",
       "\t<tr><th></th><th scope=col>&lt;fct&gt;</th></tr>\n",
       "</thead>\n",
       "<tbody>\n",
       "\t<tr><th scope=row>1</th><td>2020-11-23</td></tr>\n",
       "\t<tr><th scope=row>2</th><td>2021-02-01</td></tr>\n",
       "\t<tr><th scope=row>5</th><td>2021-01-04</td></tr>\n",
       "\t<tr><th scope=row>6</th><td>2021-07-25</td></tr>\n",
       "\t<tr><th scope=row>23</th><td>2021-04-12</td></tr>\n",
       "</tbody>\n",
       "</table>\n"
      ],
      "text/latex": [
       "A data.frame: 5 × 1\n",
       "\\begin{tabular}{r|l}\n",
       "  & date\\\\\n",
       "  & <fct>\\\\\n",
       "\\hline\n",
       "\t1 & 2020-11-23\\\\\n",
       "\t2 & 2021-02-01\\\\\n",
       "\t5 & 2021-01-04\\\\\n",
       "\t6 & 2021-07-25\\\\\n",
       "\t23 & 2021-04-12\\\\\n",
       "\\end{tabular}\n"
      ],
      "text/markdown": [
       "\n",
       "A data.frame: 5 × 1\n",
       "\n",
       "| <!--/--> | date &lt;fct&gt; |\n",
       "|---|---|\n",
       "| 1 | 2020-11-23 |\n",
       "| 2 | 2021-02-01 |\n",
       "| 5 | 2021-01-04 |\n",
       "| 6 | 2021-07-25 |\n",
       "| 23 | 2021-04-12 |\n",
       "\n"
      ],
      "text/plain": [
       "   date      \n",
       "1  2020-11-23\n",
       "2  2021-02-01\n",
       "5  2021-01-04\n",
       "6  2021-07-25\n",
       "23 2021-04-12"
      ]
     },
     "metadata": {},
     "output_type": "display_data"
    }
   ],
   "source": [
    "unique(df['date'])"
   ]
  },
  {
   "cell_type": "code",
   "execution_count": 5,
   "id": "f5262598",
   "metadata": {},
   "outputs": [],
   "source": [
    "#TO READ: https://cran.r-project.org/web/packages/emmeans/vignettes/comparisons.html"
   ]
  },
  {
   "cell_type": "markdown",
   "id": "e8034d35",
   "metadata": {},
   "source": [
    "# KBF severity"
   ]
  },
  {
   "cell_type": "code",
   "execution_count": 6,
   "id": "279113fd",
   "metadata": {},
   "outputs": [
    {
     "data": {
      "text/html": [
       "<style>\n",
       ".list-inline {list-style: none; margin:0; padding: 0}\n",
       ".list-inline>li {display: inline-block}\n",
       ".list-inline>li:not(:last-child)::after {content: \"\\00b7\"; padding: 0 .5ex}\n",
       "</style>\n",
       "<ol class=list-inline><li>844</li><li>8</li></ol>\n"
      ],
      "text/latex": [
       "\\begin{enumerate*}\n",
       "\\item 844\n",
       "\\item 8\n",
       "\\end{enumerate*}\n"
      ],
      "text/markdown": [
       "1. 844\n",
       "2. 8\n",
       "\n",
       "\n"
      ],
      "text/plain": [
       "[1] 844   8"
      ]
     },
     "metadata": {},
     "output_type": "display_data"
    },
    {
     "data": {
      "text/html": [
       "<style>\n",
       ".list-inline {list-style: none; margin:0; padding: 0}\n",
       ".list-inline>li {display: inline-block}\n",
       ".list-inline>li:not(:last-child)::after {content: \"\\00b7\"; padding: 0 .5ex}\n",
       "</style>\n",
       "<ol class=list-inline><li>669</li><li>8</li></ol>\n"
      ],
      "text/latex": [
       "\\begin{enumerate*}\n",
       "\\item 669\n",
       "\\item 8\n",
       "\\end{enumerate*}\n"
      ],
      "text/markdown": [
       "1. 669\n",
       "2. 8\n",
       "\n",
       "\n"
      ],
      "text/plain": [
       "[1] 669   8"
      ]
     },
     "metadata": {},
     "output_type": "display_data"
    },
    {
     "data": {
      "image/png": "[encoded data removed]",
      "text/plain": [
       "Plot with title \"Histogram of df_S$severity\""
      ]
     },
     "metadata": {
      "image/png": {
       "height": 420,
       "width": 420
      }
     },
     "output_type": "display_data"
    },
    {
     "data": {
      "image/png": "[encoded data removed]",
      "text/plain": [
       "Plot with title \"Histogram of sqrt(df_S$severity)\""
      ]
     },
     "metadata": {
      "image/png": {
       "height": 420,
       "width": 420
      }
     },
     "output_type": "display_data"
    }
   ],
   "source": [
    "dim(df)\n",
    "df_S = df[(!is.na(df$severity))&(df$DOA>200),]\n",
    "dim(df_S)\n",
    "df_S$date = factor(df_S$date) \n",
    "hist(df_S$severity)\n",
    "hist(sqrt(df_S$severity))"
   ]
  },
  {
   "cell_type": "code",
   "execution_count": 7,
   "id": "e97e3aca",
   "metadata": {},
   "outputs": [
    {
     "name": "stderr",
     "output_type": "stream",
     "text": [
      "boundary (singular) fit: see ?isSingular\n",
      "\n"
     ]
    },
    {
     "data": {
      "text/plain": [
       "Linear mixed model fit by REML. t-tests use Satterthwaite's method [\n",
       "lmerModLmerTest]\n",
       "Formula: severity ~ CLASS + date * Treatment + (1 | PenID/HenID)\n",
       "   Data: df_S\n",
       "\n",
       "REML criterion at convergence: 5269.6\n",
       "\n",
       "Scaled residuals: \n",
       "    Min      1Q  Median      3Q     Max \n",
       "-2.6836 -0.5218 -0.0565  0.4851  4.3481 \n",
       "\n",
       "Random effects:\n",
       " Groups      Name        Variance  Std.Dev. \n",
       " HenID:PenID (Intercept) 1.260e+02 1.122e+01\n",
       " PenID       (Intercept) 7.987e-07 8.937e-04\n",
       " Residual                1.013e+02 1.006e+01\n",
       "Number of obs: 669, groups:  HenID:PenID, 194; PenID, 8\n",
       "\n",
       "Fixed effects:\n",
       "                            Estimate Std. Error       df t value Pr(>|t|)    \n",
       "(Intercept)                  13.1428     1.7531 392.1952   7.497 4.39e-13 ***\n",
       "CLASSLEXP                     0.8619     2.5192 181.7357   0.342  0.73265    \n",
       "CLASSMEXP                    -1.1716     2.2957 182.9797  -0.510  0.61041    \n",
       "date2021-02-01                4.1336     1.5656 475.1539   2.640  0.00856 ** \n",
       "date2021-04-12               11.2958     1.5976 489.1847   7.071 5.36e-12 ***\n",
       "date2021-07-25               22.4625     1.6558 494.5695  13.566  < 2e-16 ***\n",
       "TreatmentOFH                  4.8248     2.2995 426.2458   2.098  0.03648 *  \n",
       "date2021-02-01:TreatmentOFH  -1.1518     2.2131 474.6411  -0.520  0.60299    \n",
       "date2021-04-12:TreatmentOFH   1.2520     2.2565 488.6033   0.555  0.57926    \n",
       "date2021-07-25:TreatmentOFH  -1.3903     2.3406 492.8935  -0.594  0.55279    \n",
       "---\n",
       "Signif. codes:  0 '***' 0.001 '**' 0.01 '*' 0.05 '.' 0.1 ' ' 1\n",
       "\n",
       "Correlation of Fixed Effects:\n",
       "             (Intr) CLASSL CLASSM dt2021-02-01 dt2021-04-12 dt2021-07-25 TrtOFH\n",
       "CLASSLEXP    -0.263                                                            \n",
       "CLASSMEXP    -0.326  0.220                                                     \n",
       "dt2021-02-01 -0.478  0.007  0.009                                              \n",
       "dt2021-04-12 -0.487  0.007  0.013  0.519                                       \n",
       "dt2021-07-25 -0.470  0.001  0.005  0.503        0.534                          \n",
       "TreatmntOFH  -0.645 -0.046  0.008  0.361        0.367        0.357             \n",
       "d2021-02-01:  0.335  0.000 -0.001 -0.707       -0.367       -0.356       -0.510\n",
       "d2021-04-12:  0.342  0.001 -0.004 -0.368       -0.708       -0.378       -0.519\n",
       "d2021-07-25:  0.333  0.001 -0.004 -0.356       -0.378       -0.707       -0.503\n",
       "             d2021-02-01: d2021-04-12:\n",
       "CLASSLEXP                             \n",
       "CLASSMEXP                             \n",
       "dt2021-02-01                          \n",
       "dt2021-04-12                          \n",
       "dt2021-07-25                          \n",
       "TreatmntOFH                           \n",
       "d2021-02-01:                          \n",
       "d2021-04-12:  0.521                   \n",
       "d2021-07-25:  0.504        0.531      \n",
       "optimizer (nloptwrap) convergence code: 0 (OK)\n",
       "boundary (singular) fit: see ?isSingular\n"
      ]
     },
     "metadata": {},
     "output_type": "display_data"
    },
    {
     "data": {
      "image/png": "[encoded data removed]",
      "text/plain": [
       "Plot with title \"Normal Q-Q Plot\""
      ]
     },
     "metadata": {
      "image/png": {
       "height": 420,
       "width": 420
      }
     },
     "output_type": "display_data"
    },
    {
     "data": {
      "image/png": "[encoded data removed]",
      "text/plain": [
       "Plot with title \"Histogram of resid(fit)\""
      ]
     },
     "metadata": {
      "image/png": {
       "height": 420,
       "width": 420
      }
     },
     "output_type": "display_data"
    },
    {
     "data": {
      "image/png": "[encoded data removed]",
      "text/plain": [
       "plot without title"
      ]
     },
     "metadata": {
      "image/png": {
       "height": 420,
       "width": 420
      }
     },
     "output_type": "display_data"
    }
   ],
   "source": [
    "#penID as random effect: singular values\n",
    "fit = lmer(severity ~ CLASS + date*Treatment+(1|PenID/HenID), data=df_S)\n",
    "summary(fit)\n",
    "######normally distributed residuals\n",
    "qqnorm(resid(fit))\n",
    "qqline(resid(fit))\n",
    "hist(resid(fit))\n",
    "######check homogeneity of variance (residuals has constant variance)\n",
    "plot(fit)\n",
    "#isnt it comapred to the ref group?"
   ]
  },
  {
   "cell_type": "code",
   "execution_count": 8,
   "id": "9bc34d9e",
   "metadata": {},
   "outputs": [
    {
     "data": {
      "text/plain": [
       "Linear mixed model fit by REML. t-tests use Satterthwaite's method [\n",
       "lmerModLmerTest]\n",
       "Formula: severity ~ CLASS + date + Treatment + date:Treatment + (1 | HenID)\n",
       "   Data: df_S\n",
       "\n",
       "REML criterion at convergence: 5269.6\n",
       "\n",
       "Scaled residuals: \n",
       "    Min      1Q  Median      3Q     Max \n",
       "-2.6836 -0.5218 -0.0565  0.4851  4.3481 \n",
       "\n",
       "Random effects:\n",
       " Groups   Name        Variance Std.Dev.\n",
       " HenID    (Intercept) 126.0    11.22   \n",
       " Residual             101.3    10.06   \n",
       "Number of obs: 669, groups:  HenID, 194\n",
       "\n",
       "Fixed effects:\n",
       "                            Estimate Std. Error       df t value Pr(>|t|)    \n",
       "(Intercept)                  13.1428     1.7531 392.2063   7.497 4.39e-13 ***\n",
       "CLASSLEXP                     0.8619     2.5192 181.7356   0.342  0.73265    \n",
       "CLASSMEXP                    -1.1716     2.2957 182.9796  -0.510  0.61041    \n",
       "date2021-02-01                4.1336     1.5656 475.1539   2.640  0.00856 ** \n",
       "date2021-04-12               11.2958     1.5976 489.1848   7.071 5.36e-12 ***\n",
       "date2021-07-25               22.4625     1.6558 494.5696  13.566  < 2e-16 ***\n",
       "TreatmentOFH                  4.8248     2.2995 426.2639   2.098  0.03648 *  \n",
       "date2021-02-01:TreatmentOFH  -1.1518     2.2131 474.6411  -0.520  0.60299    \n",
       "date2021-04-12:TreatmentOFH   1.2520     2.2565 488.6033   0.555  0.57926    \n",
       "date2021-07-25:TreatmentOFH  -1.3903     2.3406 492.8936  -0.594  0.55279    \n",
       "---\n",
       "Signif. codes:  0 '***' 0.001 '**' 0.01 '*' 0.05 '.' 0.1 ' ' 1\n",
       "\n",
       "Correlation of Fixed Effects:\n",
       "             (Intr) CLASSL CLASSM dt2021-02-01 dt2021-04-12 dt2021-07-25 TrtOFH\n",
       "CLASSLEXP    -0.263                                                            \n",
       "CLASSMEXP    -0.326  0.220                                                     \n",
       "dt2021-02-01 -0.478  0.007  0.009                                              \n",
       "dt2021-04-12 -0.487  0.007  0.013  0.519                                       \n",
       "dt2021-07-25 -0.470  0.001  0.005  0.503        0.534                          \n",
       "TreatmntOFH  -0.645 -0.046  0.008  0.361        0.367        0.357             \n",
       "d2021-02-01:  0.335  0.000 -0.001 -0.707       -0.367       -0.356       -0.510\n",
       "d2021-04-12:  0.342  0.001 -0.004 -0.368       -0.708       -0.378       -0.519\n",
       "d2021-07-25:  0.333  0.001 -0.004 -0.356       -0.378       -0.707       -0.503\n",
       "             d2021-02-01: d2021-04-12:\n",
       "CLASSLEXP                             \n",
       "CLASSMEXP                             \n",
       "dt2021-02-01                          \n",
       "dt2021-04-12                          \n",
       "dt2021-07-25                          \n",
       "TreatmntOFH                           \n",
       "d2021-02-01:                          \n",
       "d2021-04-12:  0.521                   \n",
       "d2021-07-25:  0.504        0.531      "
      ]
     },
     "metadata": {},
     "output_type": "display_data"
    },
    {
     "data": {
      "text/html": [
       "<table class=\"dataframe\">\n",
       "<caption>A anova: 4 × 6</caption>\n",
       "<thead>\n",
       "\t<tr><th></th><th scope=col>Sum Sq</th><th scope=col>Mean Sq</th><th scope=col>NumDF</th><th scope=col>DenDF</th><th scope=col>F value</th><th scope=col>Pr(&gt;F)</th></tr>\n",
       "\t<tr><th></th><th scope=col>&lt;dbl&gt;</th><th scope=col>&lt;dbl&gt;</th><th scope=col>&lt;int&gt;</th><th scope=col>&lt;dbl&gt;</th><th scope=col>&lt;dbl&gt;</th><th scope=col>&lt;dbl&gt;</th></tr>\n",
       "</thead>\n",
       "<tbody>\n",
       "\t<tr><th scope=row>CLASS</th><td>   48.33434</td><td>   24.16717</td><td>2</td><td>181.6069</td><td>  0.2386641</td><td>7.879260e-01</td></tr>\n",
       "\t<tr><th scope=row>date</th><td>41401.58662</td><td>13800.52887</td><td>3</td><td>483.8410</td><td>136.2878430</td><td>5.301185e-64</td></tr>\n",
       "\t<tr><th scope=row>Treatment</th><td>  630.41761</td><td>  630.41761</td><td>1</td><td>190.2774</td><td>  6.2257220</td><td>1.344186e-02</td></tr>\n",
       "\t<tr><th scope=row>date:Treatment</th><td>  185.56165</td><td>   61.85388</td><td>3</td><td>483.9468</td><td>  0.6108413</td><td>6.082230e-01</td></tr>\n",
       "</tbody>\n",
       "</table>\n"
      ],
      "text/latex": [
       "A anova: 4 × 6\n",
       "\\begin{tabular}{r|llllll}\n",
       "  & Sum Sq & Mean Sq & NumDF & DenDF & F value & Pr(>F)\\\\\n",
       "  & <dbl> & <dbl> & <int> & <dbl> & <dbl> & <dbl>\\\\\n",
       "\\hline\n",
       "\tCLASS &    48.33434 &    24.16717 & 2 & 181.6069 &   0.2386641 & 7.879260e-01\\\\\n",
       "\tdate & 41401.58662 & 13800.52887 & 3 & 483.8410 & 136.2878430 & 5.301185e-64\\\\\n",
       "\tTreatment &   630.41761 &   630.41761 & 1 & 190.2774 &   6.2257220 & 1.344186e-02\\\\\n",
       "\tdate:Treatment &   185.56165 &    61.85388 & 3 & 483.9468 &   0.6108413 & 6.082230e-01\\\\\n",
       "\\end{tabular}\n"
      ],
      "text/markdown": [
       "\n",
       "A anova: 4 × 6\n",
       "\n",
       "| <!--/--> | Sum Sq &lt;dbl&gt; | Mean Sq &lt;dbl&gt; | NumDF &lt;int&gt; | DenDF &lt;dbl&gt; | F value &lt;dbl&gt; | Pr(&gt;F) &lt;dbl&gt; |\n",
       "|---|---|---|---|---|---|---|\n",
       "| CLASS |    48.33434 |    24.16717 | 2 | 181.6069 |   0.2386641 | 7.879260e-01 |\n",
       "| date | 41401.58662 | 13800.52887 | 3 | 483.8410 | 136.2878430 | 5.301185e-64 |\n",
       "| Treatment |   630.41761 |   630.41761 | 1 | 190.2774 |   6.2257220 | 1.344186e-02 |\n",
       "| date:Treatment |   185.56165 |    61.85388 | 3 | 483.9468 |   0.6108413 | 6.082230e-01 |\n",
       "\n"
      ],
      "text/plain": [
       "               Sum Sq      Mean Sq     NumDF DenDF    F value     Pr(>F)      \n",
       "CLASS             48.33434    24.16717 2     181.6069   0.2386641 7.879260e-01\n",
       "date           41401.58662 13800.52887 3     483.8410 136.2878430 5.301185e-64\n",
       "Treatment        630.41761   630.41761 1     190.2774   6.2257220 1.344186e-02\n",
       "date:Treatment   185.56165    61.85388 3     483.9468   0.6108413 6.082230e-01"
      ]
     },
     "metadata": {},
     "output_type": "display_data"
    },
    {
     "data": {
      "image/png": "[encoded data removed]",
      "text/plain": [
       "Plot with title \"Normal Q-Q Plot\""
      ]
     },
     "metadata": {
      "image/png": {
       "height": 420,
       "width": 420
      }
     },
     "output_type": "display_data"
    },
    {
     "data": {
      "image/png": "[encoded data removed]",
      "text/plain": [
       "Plot with title \"Histogram of resid(fit_s)\""
      ]
     },
     "metadata": {
      "image/png": {
       "height": 420,
       "width": 420
      }
     },
     "output_type": "display_data"
    },
    {
     "data": {
      "image/png": "[encoded data removed]",
      "text/plain": [
       "plot without title"
      ]
     },
     "metadata": {
      "image/png": {
       "height": 420,
       "width": 420
      }
     },
     "output_type": "display_data"
    }
   ],
   "source": [
    "#penID as random effect: singular values & not explaining any variance --> without PenID\n",
    "fit_s = lmer(severity ~  CLASS + date+Treatment+date:Treatment + (1|HenID), data=df_S)\n",
    "summary(fit_s)\n",
    "anova(fit_s)\n",
    "write.csv(anova(fit_s), file=file.path(path_save, paste0('OFH_KBF_anova.csv')) )\n",
    "######normally distributed residuals\n",
    "qqnorm(resid(fit_s))\n",
    "qqline(resid(fit_s))\n",
    "hist(resid(fit_s))\n",
    "######check homogeneity of variance (residuals has constant variance)\n",
    "plot(fit_s)"
   ]
  },
  {
   "cell_type": "code",
   "execution_count": 19,
   "id": "fe3ece90",
   "metadata": {},
   "outputs": [
    {
     "name": "stderr",
     "output_type": "stream",
     "text": [
      "refitting model(s) with ML (instead of REML)\n",
      "\n"
     ]
    },
    {
     "data": {
      "text/html": [
       "<table class=\"dataframe\">\n",
       "<caption>A anova: 2 × 8</caption>\n",
       "<thead>\n",
       "\t<tr><th></th><th scope=col>npar</th><th scope=col>AIC</th><th scope=col>BIC</th><th scope=col>logLik</th><th scope=col>deviance</th><th scope=col>Chisq</th><th scope=col>Df</th><th scope=col>Pr(&gt;Chisq)</th></tr>\n",
       "\t<tr><th></th><th scope=col>&lt;dbl&gt;</th><th scope=col>&lt;dbl&gt;</th><th scope=col>&lt;dbl&gt;</th><th scope=col>&lt;dbl&gt;</th><th scope=col>&lt;dbl&gt;</th><th scope=col>&lt;dbl&gt;</th><th scope=col>&lt;dbl&gt;</th><th scope=col>&lt;dbl&gt;</th></tr>\n",
       "</thead>\n",
       "<tbody>\n",
       "\t<tr><th scope=row>fit_s0</th><td> 9</td><td>5316.391</td><td>5356.943</td><td>-2649.196</td><td>5298.391</td><td>      NA</td><td>NA</td><td>       NA</td></tr>\n",
       "\t<tr><th scope=row>fit_s</th><td>12</td><td>5320.545</td><td>5374.614</td><td>-2648.272</td><td>5296.545</td><td>1.846362</td><td> 3</td><td>0.6048984</td></tr>\n",
       "</tbody>\n",
       "</table>\n"
      ],
      "text/latex": [
       "A anova: 2 × 8\n",
       "\\begin{tabular}{r|llllllll}\n",
       "  & npar & AIC & BIC & logLik & deviance & Chisq & Df & Pr(>Chisq)\\\\\n",
       "  & <dbl> & <dbl> & <dbl> & <dbl> & <dbl> & <dbl> & <dbl> & <dbl>\\\\\n",
       "\\hline\n",
       "\tfit\\_s0 &  9 & 5316.391 & 5356.943 & -2649.196 & 5298.391 &       NA & NA &        NA\\\\\n",
       "\tfit\\_s & 12 & 5320.545 & 5374.614 & -2648.272 & 5296.545 & 1.846362 &  3 & 0.6048984\\\\\n",
       "\\end{tabular}\n"
      ],
      "text/markdown": [
       "\n",
       "A anova: 2 × 8\n",
       "\n",
       "| <!--/--> | npar &lt;dbl&gt; | AIC &lt;dbl&gt; | BIC &lt;dbl&gt; | logLik &lt;dbl&gt; | deviance &lt;dbl&gt; | Chisq &lt;dbl&gt; | Df &lt;dbl&gt; | Pr(&gt;Chisq) &lt;dbl&gt; |\n",
       "|---|---|---|---|---|---|---|---|---|\n",
       "| fit_s0 |  9 | 5316.391 | 5356.943 | -2649.196 | 5298.391 |       NA | NA |        NA |\n",
       "| fit_s | 12 | 5320.545 | 5374.614 | -2648.272 | 5296.545 | 1.846362 |  3 | 0.6048984 |\n",
       "\n"
      ],
      "text/plain": [
       "       npar AIC      BIC      logLik    deviance Chisq    Df Pr(>Chisq)\n",
       "fit_s0  9   5316.391 5356.943 -2649.196 5298.391       NA NA        NA \n",
       "fit_s  12   5320.545 5374.614 -2648.272 5296.545 1.846362  3 0.6048984 "
      ]
     },
     "metadata": {},
     "output_type": "display_data"
    }
   ],
   "source": [
    "#https://stats.stackexchange.com/questions/331244/how-to-test-if-an-interaction-is-significant-interaction-terms-or-model-compari\n",
    "#anova doc: https://stat.ethz.ch/R-manual/R-patched/library/stats/html/anova.lm.html\n",
    "fit_s0 = lmer(severity ~  CLASS + date+Treatment + (1|HenID), data=df_S)\n",
    "anova(fit_s, fit_s0)"
   ]
  },
  {
   "cell_type": "code",
   "execution_count": 10,
   "id": "0bb91d86",
   "metadata": {},
   "outputs": [
    {
     "name": "stderr",
     "output_type": "stream",
     "text": [
      "refitting model(s) with ML (instead of REML)\n",
      "\n"
     ]
    },
    {
     "data": {
      "text/html": [
       "<table class=\"dataframe\">\n",
       "<caption>A anova: 2 × 8</caption>\n",
       "<thead>\n",
       "\t<tr><th></th><th scope=col>npar</th><th scope=col>AIC</th><th scope=col>BIC</th><th scope=col>logLik</th><th scope=col>deviance</th><th scope=col>Chisq</th><th scope=col>Df</th><th scope=col>Pr(&gt;Chisq)</th></tr>\n",
       "\t<tr><th></th><th scope=col>&lt;dbl&gt;</th><th scope=col>&lt;dbl&gt;</th><th scope=col>&lt;dbl&gt;</th><th scope=col>&lt;dbl&gt;</th><th scope=col>&lt;dbl&gt;</th><th scope=col>&lt;dbl&gt;</th><th scope=col>&lt;dbl&gt;</th><th scope=col>&lt;dbl&gt;</th></tr>\n",
       "</thead>\n",
       "<tbody>\n",
       "\t<tr><th scope=row>fit_s00</th><td>8</td><td>5320.738</td><td>5356.784</td><td>-2652.369</td><td>5304.738</td><td>      NA</td><td>NA</td><td>        NA</td></tr>\n",
       "\t<tr><th scope=row>fit_s0</th><td>9</td><td>5316.391</td><td>5356.943</td><td>-2649.196</td><td>5298.391</td><td>6.347148</td><td> 1</td><td>0.01175701</td></tr>\n",
       "</tbody>\n",
       "</table>\n"
      ],
      "text/latex": [
       "A anova: 2 × 8\n",
       "\\begin{tabular}{r|llllllll}\n",
       "  & npar & AIC & BIC & logLik & deviance & Chisq & Df & Pr(>Chisq)\\\\\n",
       "  & <dbl> & <dbl> & <dbl> & <dbl> & <dbl> & <dbl> & <dbl> & <dbl>\\\\\n",
       "\\hline\n",
       "\tfit\\_s00 & 8 & 5320.738 & 5356.784 & -2652.369 & 5304.738 &       NA & NA &         NA\\\\\n",
       "\tfit\\_s0 & 9 & 5316.391 & 5356.943 & -2649.196 & 5298.391 & 6.347148 &  1 & 0.01175701\\\\\n",
       "\\end{tabular}\n"
      ],
      "text/markdown": [
       "\n",
       "A anova: 2 × 8\n",
       "\n",
       "| <!--/--> | npar &lt;dbl&gt; | AIC &lt;dbl&gt; | BIC &lt;dbl&gt; | logLik &lt;dbl&gt; | deviance &lt;dbl&gt; | Chisq &lt;dbl&gt; | Df &lt;dbl&gt; | Pr(&gt;Chisq) &lt;dbl&gt; |\n",
       "|---|---|---|---|---|---|---|---|---|\n",
       "| fit_s00 | 8 | 5320.738 | 5356.784 | -2652.369 | 5304.738 |       NA | NA |         NA |\n",
       "| fit_s0 | 9 | 5316.391 | 5356.943 | -2649.196 | 5298.391 | 6.347148 |  1 | 0.01175701 |\n",
       "\n"
      ],
      "text/plain": [
       "        npar AIC      BIC      logLik    deviance Chisq    Df Pr(>Chisq)\n",
       "fit_s00 8    5320.738 5356.784 -2652.369 5304.738       NA NA         NA\n",
       "fit_s0  9    5316.391 5356.943 -2649.196 5298.391 6.347148  1 0.01175701"
      ]
     },
     "metadata": {},
     "output_type": "display_data"
    }
   ],
   "source": [
    "#https://stats.stackexchange.com/questions/331244/how-to-test-if-an-interaction-is-significant-interaction-terms-or-model-compari\n",
    "#anova doc: https://stat.ethz.ch/R-manual/R-patched/library/stats/html/anova.lm.html\n",
    "fit_s00 = lmer(severity ~  CLASS + date + (1|HenID), data=df_S)\n",
    "anova(fit_s0, fit_s00)"
   ]
  },
  {
   "cell_type": "code",
   "execution_count": 11,
   "id": "43099b6a",
   "metadata": {},
   "outputs": [
    {
     "data": {
      "text/html": [
       "<style>\n",
       ".list-inline {list-style: none; margin:0; padding: 0}\n",
       ".list-inline>li {display: inline-block}\n",
       ".list-inline>li:not(:last-child)::after {content: \"\\00b7\"; padding: 0 .5ex}\n",
       "</style>\n",
       "<ol class=list-inline><li>669</li><li>8</li></ol>\n"
      ],
      "text/latex": [
       "\\begin{enumerate*}\n",
       "\\item 669\n",
       "\\item 8\n",
       "\\end{enumerate*}\n"
      ],
      "text/markdown": [
       "1. 669\n",
       "2. 8\n",
       "\n",
       "\n"
      ],
      "text/plain": [
       "[1] 669   8"
      ]
     },
     "metadata": {},
     "output_type": "display_data"
    }
   ],
   "source": [
    "dim(df_S)"
   ]
  },
  {
   "cell_type": "code",
   "execution_count": 12,
   "id": "e0177150",
   "metadata": {},
   "outputs": [
    {
     "data": {
      "text/plain": [
       "  CLASS             date     Treatment      HenID        severity   \n",
       " REXP:400   2021-01-04:160   TRAN:335   hen_10 :  4   Min.   : 0.0  \n",
       " LEXP:119   2021-02-01:176   OFH :334   hen_101:  4   1st Qu.:10.0  \n",
       " MEXP:150   2021-04-12:176              hen_102:  4   Median :22.0  \n",
       "            2021-07-25:157              hen_106:  4   Mean   :24.6  \n",
       "                                        hen_107:  4   3rd Qu.:38.0  \n",
       "                                        hen_109:  4   Max.   :84.0  \n",
       "                                        (Other):645                 \n",
       " FeatherDamage        DOA            PenID    \n",
       " Min.   : 0.00   Min.   :215.0   pen10  : 84  \n",
       " 1st Qu.: 3.00   1st Qu.:243.0   pen11  : 84  \n",
       " Median :13.00   Median :243.0   pen4   : 84  \n",
       " Mean   :15.69   Mean   :295.6   pen5   : 84  \n",
       " 3rd Qu.:24.67   3rd Qu.:313.0   pen8   : 84  \n",
       " Max.   :66.33   Max.   :417.0   pen12  : 83  \n",
       " NA's   :6                       (Other):166  "
      ]
     },
     "metadata": {},
     "output_type": "display_data"
    }
   ],
   "source": [
    "summary(df_S)"
   ]
  },
  {
   "cell_type": "code",
   "execution_count": 13,
   "id": "df18dc19",
   "metadata": {
    "scrolled": false
   },
   "outputs": [
    {
     "data": {
      "text/plain": [
       "Linear mixed model fit by REML. t-tests use Satterthwaite's method [\n",
       "lmerModLmerTest]\n",
       "Formula: severity ~ CLASS + date + Treatment + (1 | HenID)\n",
       "   Data: df_S\n",
       "\n",
       "REML criterion at convergence: 5281.2\n",
       "\n",
       "Scaled residuals: \n",
       "    Min      1Q  Median      3Q     Max \n",
       "-2.7396 -0.5327 -0.0716  0.4718  4.4298 \n",
       "\n",
       "Random effects:\n",
       " Groups   Name        Variance Std.Dev.\n",
       " HenID    (Intercept) 125.7    11.21   \n",
       " Residual             101.1    10.05   \n",
       "Number of obs: 669, groups:  HenID, 194\n",
       "\n",
       "Fixed effects:\n",
       "               Estimate Std. Error       df t value Pr(>|t|)    \n",
       "(Intercept)     13.2919     1.5983 296.3230   8.316 3.34e-15 ***\n",
       "CLASSLEXP        0.8631     2.5164 181.9141   0.343  0.73201    \n",
       "CLASSMEXP       -1.1708     2.2931 183.1525  -0.511  0.61028    \n",
       "date2021-02-01   3.5567     1.1058 477.6063   3.216  0.00139 ** \n",
       "date2021-04-12  11.9220     1.1275 491.5804  10.574  < 2e-16 ***\n",
       "date2021-07-25  21.7737     1.1694 496.1263  18.620  < 2e-16 ***\n",
       "TreatmentOFH     4.5293     1.8017 190.2089   2.514  0.01277 *  \n",
       "---\n",
       "Signif. codes:  0 '***' 0.001 '**' 0.01 '*' 0.05 '.' 0.1 ' ' 1\n",
       "\n",
       "Correlation of Fixed Effects:\n",
       "            (Intr) CLASSL CLASSM d2021-02 d2021-04 d2021-07\n",
       "CLASSLEXP   -0.288                                         \n",
       "CLASSMEXP   -0.356  0.220                                  \n",
       "d2021-02-01 -0.373  0.010  0.011                           \n",
       "d2021-04-12 -0.380  0.011  0.014  0.521                    \n",
       "d2021-07-25 -0.364  0.002  0.002  0.504    0.531           \n",
       "TreatmntOFH -0.547 -0.058  0.007  0.001   -0.001    0.002  "
      ]
     },
     "metadata": {},
     "output_type": "display_data"
    }
   ],
   "source": [
    "summary(fit_s0)"
   ]
  },
  {
   "cell_type": "code",
   "execution_count": 20,
   "id": "547522bc",
   "metadata": {},
   "outputs": [
    {
     "data": {
      "text/html": [
       "<table class=\"dataframe\">\n",
       "<caption>A anova: 3 × 6</caption>\n",
       "<thead>\n",
       "\t<tr><th></th><th scope=col>Sum Sq</th><th scope=col>Mean Sq</th><th scope=col>NumDF</th><th scope=col>DenDF</th><th scope=col>F value</th><th scope=col>Pr(&gt;F)</th></tr>\n",
       "\t<tr><th></th><th scope=col>&lt;dbl&gt;</th><th scope=col>&lt;dbl&gt;</th><th scope=col>&lt;int&gt;</th><th scope=col>&lt;dbl&gt;</th><th scope=col>&lt;dbl&gt;</th><th scope=col>&lt;dbl&gt;</th></tr>\n",
       "</thead>\n",
       "<tbody>\n",
       "\t<tr><th scope=row>CLASS</th><td>   48.36416</td><td>   24.18208</td><td>2</td><td>181.7812</td><td>  0.2391905</td><td>7.875123e-01</td></tr>\n",
       "\t<tr><th scope=row>date</th><td>41429.32877</td><td>13809.77626</td><td>3</td><td>487.0072</td><td>136.5956381</td><td>3.240311e-64</td></tr>\n",
       "\t<tr><th scope=row>Treatment</th><td>  638.90257</td><td>  638.90257</td><td>1</td><td>190.2089</td><td>  6.3195307</td><td>1.277111e-02</td></tr>\n",
       "</tbody>\n",
       "</table>\n"
      ],
      "text/latex": [
       "A anova: 3 × 6\n",
       "\\begin{tabular}{r|llllll}\n",
       "  & Sum Sq & Mean Sq & NumDF & DenDF & F value & Pr(>F)\\\\\n",
       "  & <dbl> & <dbl> & <int> & <dbl> & <dbl> & <dbl>\\\\\n",
       "\\hline\n",
       "\tCLASS &    48.36416 &    24.18208 & 2 & 181.7812 &   0.2391905 & 7.875123e-01\\\\\n",
       "\tdate & 41429.32877 & 13809.77626 & 3 & 487.0072 & 136.5956381 & 3.240311e-64\\\\\n",
       "\tTreatment &   638.90257 &   638.90257 & 1 & 190.2089 &   6.3195307 & 1.277111e-02\\\\\n",
       "\\end{tabular}\n"
      ],
      "text/markdown": [
       "\n",
       "A anova: 3 × 6\n",
       "\n",
       "| <!--/--> | Sum Sq &lt;dbl&gt; | Mean Sq &lt;dbl&gt; | NumDF &lt;int&gt; | DenDF &lt;dbl&gt; | F value &lt;dbl&gt; | Pr(&gt;F) &lt;dbl&gt; |\n",
       "|---|---|---|---|---|---|---|\n",
       "| CLASS |    48.36416 |    24.18208 | 2 | 181.7812 |   0.2391905 | 7.875123e-01 |\n",
       "| date | 41429.32877 | 13809.77626 | 3 | 487.0072 | 136.5956381 | 3.240311e-64 |\n",
       "| Treatment |   638.90257 |   638.90257 | 1 | 190.2089 |   6.3195307 | 1.277111e-02 |\n",
       "\n"
      ],
      "text/plain": [
       "          Sum Sq      Mean Sq     NumDF DenDF    F value     Pr(>F)      \n",
       "CLASS        48.36416    24.18208 2     181.7812   0.2391905 7.875123e-01\n",
       "date      41429.32877 13809.77626 3     487.0072 136.5956381 3.240311e-64\n",
       "Treatment   638.90257   638.90257 1     190.2089   6.3195307 1.277111e-02"
      ]
     },
     "metadata": {},
     "output_type": "display_data"
    }
   ],
   "source": [
    "anova(fit_s0)"
   ]
  },
  {
   "cell_type": "code",
   "execution_count": 18,
   "id": "04c2524a",
   "metadata": {},
   "outputs": [
    {
     "data": {
      "text/html": [
       "<table class=\"dataframe\">\n",
       "<caption>A anova: 3 × 6</caption>\n",
       "<thead>\n",
       "\t<tr><th></th><th scope=col>Sum Sq</th><th scope=col>Mean Sq</th><th scope=col>NumDF</th><th scope=col>DenDF</th><th scope=col>F value</th><th scope=col>Pr(&gt;F)</th></tr>\n",
       "\t<tr><th></th><th scope=col>&lt;dbl&gt;</th><th scope=col>&lt;dbl&gt;</th><th scope=col>&lt;int&gt;</th><th scope=col>&lt;dbl&gt;</th><th scope=col>&lt;dbl&gt;</th><th scope=col>&lt;dbl&gt;</th></tr>\n",
       "</thead>\n",
       "<tbody>\n",
       "\t<tr><th scope=row>CLASS</th><td>  0.8947132</td><td>  0.4473566</td><td>2</td><td>180.5677</td><td>  0.2889308</td><td>7.494097e-01</td></tr>\n",
       "\t<tr><th scope=row>date</th><td>619.1008919</td><td>206.3669640</td><td>3</td><td>486.5753</td><td>133.2846753</td><td>5.005005e-63</td></tr>\n",
       "\t<tr><th scope=row>Treatment</th><td>  9.7362833</td><td>  9.7362833</td><td>1</td><td>189.2244</td><td>  6.2882999</td><td>1.299498e-02</td></tr>\n",
       "</tbody>\n",
       "</table>\n"
      ],
      "text/latex": [
       "A anova: 3 × 6\n",
       "\\begin{tabular}{r|llllll}\n",
       "  & Sum Sq & Mean Sq & NumDF & DenDF & F value & Pr(>F)\\\\\n",
       "  & <dbl> & <dbl> & <int> & <dbl> & <dbl> & <dbl>\\\\\n",
       "\\hline\n",
       "\tCLASS &   0.8947132 &   0.4473566 & 2 & 180.5677 &   0.2889308 & 7.494097e-01\\\\\n",
       "\tdate & 619.1008919 & 206.3669640 & 3 & 486.5753 & 133.2846753 & 5.005005e-63\\\\\n",
       "\tTreatment &   9.7362833 &   9.7362833 & 1 & 189.2244 &   6.2882999 & 1.299498e-02\\\\\n",
       "\\end{tabular}\n"
      ],
      "text/markdown": [
       "\n",
       "A anova: 3 × 6\n",
       "\n",
       "| <!--/--> | Sum Sq &lt;dbl&gt; | Mean Sq &lt;dbl&gt; | NumDF &lt;int&gt; | DenDF &lt;dbl&gt; | F value &lt;dbl&gt; | Pr(&gt;F) &lt;dbl&gt; |\n",
       "|---|---|---|---|---|---|---|\n",
       "| CLASS |   0.8947132 |   0.4473566 | 2 | 180.5677 |   0.2889308 | 7.494097e-01 |\n",
       "| date | 619.1008919 | 206.3669640 | 3 | 486.5753 | 133.2846753 | 5.005005e-63 |\n",
       "| Treatment |   9.7362833 |   9.7362833 | 1 | 189.2244 |   6.2882999 | 1.299498e-02 |\n",
       "\n"
      ],
      "text/plain": [
       "          Sum Sq      Mean Sq     NumDF DenDF    F value     Pr(>F)      \n",
       "CLASS       0.8947132   0.4473566 2     180.5677   0.2889308 7.494097e-01\n",
       "date      619.1008919 206.3669640 3     486.5753 133.2846753 5.005005e-63\n",
       "Treatment   9.7362833   9.7362833 1     189.2244   6.2882999 1.299498e-02"
      ]
     },
     "metadata": {},
     "output_type": "display_data"
    }
   ],
   "source": [
    "anova(fit_s0)"
   ]
  },
  {
   "cell_type": "markdown",
   "id": "915767db",
   "metadata": {},
   "source": [
    "#contrast\n",
    "#no correction for sqrt\n",
    "#emm = emmeans(fit_s, pairwise ~ Treatment | date, adjust = \"bonferroni\")\n",
    "#emm\n",
    "#in emmeans: P-value adjustments are applied to each by group, and there is only one comparison - hence no multiplicity - \n",
    "#in each group. And no annotation about adjustments is shown when no adjustments are made.\n",
    "#fit_s.rg <- ref_grid(fit_s)\n",
    "#emm <- emmeans(regrid(fit_s.rg), pairwise ~ Treatment | date)\n",
    "#summary(emm) #no crreaction but ame as *4 then: \n",
    "fit_s.rg = ref_grid(fit_s)\n",
    "emm = emmeans(regrid(fit_s.rg), specs =~ Treatment | date)\n",
    "df_res = summary(pairs(emm), by = NULL, adjust = \"bonferroni\")\n",
    "df_res\n",
    "write.csv(df_res, file=file.path(path_save, paste0('OFH_KBF_posthoc.csv')) )\n",
    "df_res = confint(emm)\n",
    "df_res\n",
    "write.csv(df_res, file=file.path(path_save, paste0('OFH_KBF_posthocmeans.csv')) )"
   ]
  },
  {
   "cell_type": "markdown",
   "id": "21f56d46",
   "metadata": {},
   "source": [
    "# Feather damage"
   ]
  },
  {
   "cell_type": "code",
   "execution_count": 12,
   "id": "bbd13f63",
   "metadata": {},
   "outputs": [
    {
     "data": {
      "text/html": [
       "<style>\n",
       ".list-inline {list-style: none; margin:0; padding: 0}\n",
       ".list-inline>li {display: inline-block}\n",
       ".list-inline>li:not(:last-child)::after {content: \"\\00b7\"; padding: 0 .5ex}\n",
       "</style>\n",
       "<ol class=list-inline><li>844</li><li>8</li></ol>\n"
      ],
      "text/latex": [
       "\\begin{enumerate*}\n",
       "\\item 844\n",
       "\\item 8\n",
       "\\end{enumerate*}\n"
      ],
      "text/markdown": [
       "1. 844\n",
       "2. 8\n",
       "\n",
       "\n"
      ],
      "text/plain": [
       "[1] 844   8"
      ]
     },
     "metadata": {},
     "output_type": "display_data"
    },
    {
     "data": {
      "text/html": [
       "<style>\n",
       ".list-inline {list-style: none; margin:0; padding: 0}\n",
       ".list-inline>li {display: inline-block}\n",
       ".list-inline>li:not(:last-child)::after {content: \"\\00b7\"; padding: 0 .5ex}\n",
       "</style>\n",
       "<ol class=list-inline><li>506</li><li>8</li></ol>\n"
      ],
      "text/latex": [
       "\\begin{enumerate*}\n",
       "\\item 506\n",
       "\\item 8\n",
       "\\end{enumerate*}\n"
      ],
      "text/markdown": [
       "1. 506\n",
       "2. 8\n",
       "\n",
       "\n"
      ],
      "text/plain": [
       "[1] 506   8"
      ]
     },
     "metadata": {},
     "output_type": "display_data"
    },
    {
     "data": {
      "image/png": "[encoded data removed]",
      "text/plain": [
       "Plot with title \"Histogram of df_F$FeatherDamage\""
      ]
     },
     "metadata": {
      "image/png": {
       "height": 420,
       "width": 420
      }
     },
     "output_type": "display_data"
    },
    {
     "data": {
      "image/png": "[encoded data removed]",
      "text/plain": [
       "Plot with title \"Histogram of sqrt(df_F$FeatherDamage)\""
      ]
     },
     "metadata": {
      "image/png": {
       "height": 420,
       "width": 420
      }
     },
     "output_type": "display_data"
    }
   ],
   "source": [
    "dim(df)\n",
    "df_F = df[(!is.na(df$FeatherDamage))&(df$DOA>230),]\n",
    "dim(df_F)\n",
    "df_F$date = factor(df_F$date) \n",
    "hist(df_F$FeatherDamage)\n",
    "hist(sqrt(df_F$FeatherDamage))"
   ]
  },
  {
   "cell_type": "code",
   "execution_count": 13,
   "id": "f196c3b7",
   "metadata": {},
   "outputs": [
    {
     "data": {
      "text/plain": [
       "Linear mixed model fit by REML. t-tests use Satterthwaite's method [\n",
       "lmerModLmerTest]\n",
       "Formula: FeatherDamage ~ CLASS + date + Treatment + date:Treatment + (1 |  \n",
       "    PenID/HenID)\n",
       "   Data: df_F\n",
       "\n",
       "REML criterion at convergence: 3614.3\n",
       "\n",
       "Scaled residuals: \n",
       "    Min      1Q  Median      3Q     Max \n",
       "-2.2653 -0.5598 -0.0121  0.5023  3.2047 \n",
       "\n",
       "Random effects:\n",
       " Groups      Name        Variance Std.Dev.\n",
       " HenID:PenID (Intercept) 43.320   6.582   \n",
       " PenID       (Intercept)  1.705   1.306   \n",
       " Residual                49.237   7.017   \n",
       "Number of obs: 506, groups:  HenID:PenID, 194; PenID, 8\n",
       "\n",
       "Fixed effects:\n",
       "                            Estimate Std. Error       df t value Pr(>|t|)    \n",
       "(Intercept)                   9.0213     1.2727  13.4197   7.088 6.87e-06 ***\n",
       "CLASSLEXP                    -1.9523     1.5961 176.2162  -1.223    0.223    \n",
       "CLASSMEXP                     0.7956     1.4526 175.4090   0.548    0.585    \n",
       "date2021-04-12                6.9683     1.0877 336.0515   6.406 5.03e-10 ***\n",
       "date2021-07-25               25.3658     1.1297 342.2827  22.453  < 2e-16 ***\n",
       "TreatmentOFH                  0.6585     1.7045  10.8209   0.386    0.707    \n",
       "date2021-04-12:TreatmentOFH   2.0367     1.5317 333.6645   1.330    0.185    \n",
       "date2021-07-25:TreatmentOFH  -1.3897     1.5934 338.4571  -0.872    0.384    \n",
       "---\n",
       "Signif. codes:  0 '***' 0.001 '**' 0.01 '*' 0.05 '.' 0.1 ' ' 1\n",
       "\n",
       "Correlation of Fixed Effects:\n",
       "             (Intr) CLASSL CLASSM dt2021-04-12 dt2021-07-25 TrtOFH d2021-04-12:\n",
       "CLASSLEXP    -0.227                                                            \n",
       "CLASSMEXP    -0.281  0.226                                                     \n",
       "dt2021-04-12 -0.420 -0.006 -0.001                                              \n",
       "dt2021-07-25 -0.403 -0.010 -0.013  0.505                                       \n",
       "TreatmntOFH  -0.661 -0.039  0.006  0.315        0.304                          \n",
       "d2021-04-12:  0.299  0.001 -0.003 -0.710       -0.359       -0.445             \n",
       "d2021-07-25:  0.291 -0.004 -0.006 -0.358       -0.709       -0.427  0.500      "
      ]
     },
     "metadata": {},
     "output_type": "display_data"
    },
    {
     "data": {
      "text/html": [
       "<table class=\"dataframe\">\n",
       "<caption>A anova: 4 × 6</caption>\n",
       "<thead>\n",
       "\t<tr><th></th><th scope=col>Sum Sq</th><th scope=col>Mean Sq</th><th scope=col>NumDF</th><th scope=col>DenDF</th><th scope=col>F value</th><th scope=col>Pr(&gt;F)</th></tr>\n",
       "\t<tr><th></th><th scope=col>&lt;dbl&gt;</th><th scope=col>&lt;dbl&gt;</th><th scope=col>&lt;int&gt;</th><th scope=col>&lt;dbl&gt;</th><th scope=col>&lt;dbl&gt;</th><th scope=col>&lt;dbl&gt;</th></tr>\n",
       "</thead>\n",
       "<tbody>\n",
       "\t<tr><th scope=row>CLASS</th><td>  108.91512</td><td>   54.45756</td><td>2</td><td>174.635201</td><td>  1.1060269</td><td> 3.331773e-01</td></tr>\n",
       "\t<tr><th scope=row>date</th><td>48852.83279</td><td>24426.41639</td><td>2</td><td>330.478971</td><td>496.0977453</td><td>2.983650e-100</td></tr>\n",
       "\t<tr><th scope=row>Treatment</th><td>   17.33088</td><td>   17.33088</td><td>1</td><td>  6.058945</td><td>  0.3519881</td><td> 5.744533e-01</td></tr>\n",
       "\t<tr><th scope=row>date:Treatment</th><td>  242.11444</td><td>  121.05722</td><td>2</td><td>330.596084</td><td>  2.4586584</td><td> 8.711270e-02</td></tr>\n",
       "</tbody>\n",
       "</table>\n"
      ],
      "text/latex": [
       "A anova: 4 × 6\n",
       "\\begin{tabular}{r|llllll}\n",
       "  & Sum Sq & Mean Sq & NumDF & DenDF & F value & Pr(>F)\\\\\n",
       "  & <dbl> & <dbl> & <int> & <dbl> & <dbl> & <dbl>\\\\\n",
       "\\hline\n",
       "\tCLASS &   108.91512 &    54.45756 & 2 & 174.635201 &   1.1060269 &  3.331773e-01\\\\\n",
       "\tdate & 48852.83279 & 24426.41639 & 2 & 330.478971 & 496.0977453 & 2.983650e-100\\\\\n",
       "\tTreatment &    17.33088 &    17.33088 & 1 &   6.058945 &   0.3519881 &  5.744533e-01\\\\\n",
       "\tdate:Treatment &   242.11444 &   121.05722 & 2 & 330.596084 &   2.4586584 &  8.711270e-02\\\\\n",
       "\\end{tabular}\n"
      ],
      "text/markdown": [
       "\n",
       "A anova: 4 × 6\n",
       "\n",
       "| <!--/--> | Sum Sq &lt;dbl&gt; | Mean Sq &lt;dbl&gt; | NumDF &lt;int&gt; | DenDF &lt;dbl&gt; | F value &lt;dbl&gt; | Pr(&gt;F) &lt;dbl&gt; |\n",
       "|---|---|---|---|---|---|---|\n",
       "| CLASS |   108.91512 |    54.45756 | 2 | 174.635201 |   1.1060269 |  3.331773e-01 |\n",
       "| date | 48852.83279 | 24426.41639 | 2 | 330.478971 | 496.0977453 | 2.983650e-100 |\n",
       "| Treatment |    17.33088 |    17.33088 | 1 |   6.058945 |   0.3519881 |  5.744533e-01 |\n",
       "| date:Treatment |   242.11444 |   121.05722 | 2 | 330.596084 |   2.4586584 |  8.711270e-02 |\n",
       "\n"
      ],
      "text/plain": [
       "               Sum Sq      Mean Sq     NumDF DenDF      F value    \n",
       "CLASS            108.91512    54.45756 2     174.635201   1.1060269\n",
       "date           48852.83279 24426.41639 2     330.478971 496.0977453\n",
       "Treatment         17.33088    17.33088 1       6.058945   0.3519881\n",
       "date:Treatment   242.11444   121.05722 2     330.596084   2.4586584\n",
       "               Pr(>F)       \n",
       "CLASS           3.331773e-01\n",
       "date           2.983650e-100\n",
       "Treatment       5.744533e-01\n",
       "date:Treatment  8.711270e-02"
      ]
     },
     "metadata": {},
     "output_type": "display_data"
    },
    {
     "data": {
      "image/png": "[encoded data removed]",
      "text/plain": [
       "Plot with title \"Normal Q-Q Plot\""
      ]
     },
     "metadata": {
      "image/png": {
       "height": 420,
       "width": 420
      }
     },
     "output_type": "display_data"
    },
    {
     "data": {
      "image/png": "[encoded data removed]",
      "text/plain": [
       "Plot with title \"Histogram of resid(fit_f)\""
      ]
     },
     "metadata": {
      "image/png": {
       "height": 420,
       "width": 420
      }
     },
     "output_type": "display_data"
    },
    {
     "data": {
      "image/png": "[encoded data removed]",
      "text/plain": [
       "plot without title"
      ]
     },
     "metadata": {
      "image/png": {
       "height": 420,
       "width": 420
      }
     },
     "output_type": "display_data"
    }
   ],
   "source": [
    "#histogram of residuals looks bad with sqrt()\n",
    "#penID as random effect: singular values -->withouPenID\n",
    "fit_f = lmer(FeatherDamage ~  CLASS + date+Treatment+date:Treatment + (1|PenID/HenID), data=df_F)\n",
    "summary(fit_f)\n",
    "anova(fit_f)\n",
    "write.csv(anova(fit_f), file=file.path(path_save, paste0('OFH_FD_anova.csv')) )\n",
    "######normally distributed residuals\n",
    "qqnorm(resid(fit_f))\n",
    "qqline(resid(fit_f))\n",
    "hist(resid(fit_f))\n",
    "######check homogeneity of variance (residuals has constant variance)\n",
    "plot(fit_f)"
   ]
  },
  {
   "cell_type": "code",
   "execution_count": 14,
   "id": "d14b4dff",
   "metadata": {},
   "outputs": [
    {
     "name": "stderr",
     "output_type": "stream",
     "text": [
      "refitting model(s) with ML (instead of REML)\n",
      "\n"
     ]
    },
    {
     "data": {
      "text/html": [
       "<table class=\"dataframe\">\n",
       "<caption>A anova: 2 × 8</caption>\n",
       "<thead>\n",
       "\t<tr><th></th><th scope=col>npar</th><th scope=col>AIC</th><th scope=col>BIC</th><th scope=col>logLik</th><th scope=col>deviance</th><th scope=col>Chisq</th><th scope=col>Df</th><th scope=col>Pr(&gt;Chisq)</th></tr>\n",
       "\t<tr><th></th><th scope=col>&lt;dbl&gt;</th><th scope=col>&lt;dbl&gt;</th><th scope=col>&lt;dbl&gt;</th><th scope=col>&lt;dbl&gt;</th><th scope=col>&lt;dbl&gt;</th><th scope=col>&lt;dbl&gt;</th><th scope=col>&lt;dbl&gt;</th><th scope=col>&lt;dbl&gt;</th></tr>\n",
       "</thead>\n",
       "<tbody>\n",
       "\t<tr><th scope=row>fit_f0</th><td> 9</td><td>3653.621</td><td>3691.660</td><td>-1817.811</td><td>3635.621</td><td>      NA</td><td>NA</td><td>       NA</td></tr>\n",
       "\t<tr><th scope=row>fit_f</th><td>11</td><td>3652.674</td><td>3699.165</td><td>-1815.337</td><td>3630.674</td><td>4.947663</td><td> 2</td><td>0.0842614</td></tr>\n",
       "</tbody>\n",
       "</table>\n"
      ],
      "text/latex": [
       "A anova: 2 × 8\n",
       "\\begin{tabular}{r|llllllll}\n",
       "  & npar & AIC & BIC & logLik & deviance & Chisq & Df & Pr(>Chisq)\\\\\n",
       "  & <dbl> & <dbl> & <dbl> & <dbl> & <dbl> & <dbl> & <dbl> & <dbl>\\\\\n",
       "\\hline\n",
       "\tfit\\_f0 &  9 & 3653.621 & 3691.660 & -1817.811 & 3635.621 &       NA & NA &        NA\\\\\n",
       "\tfit\\_f & 11 & 3652.674 & 3699.165 & -1815.337 & 3630.674 & 4.947663 &  2 & 0.0842614\\\\\n",
       "\\end{tabular}\n"
      ],
      "text/markdown": [
       "\n",
       "A anova: 2 × 8\n",
       "\n",
       "| <!--/--> | npar &lt;dbl&gt; | AIC &lt;dbl&gt; | BIC &lt;dbl&gt; | logLik &lt;dbl&gt; | deviance &lt;dbl&gt; | Chisq &lt;dbl&gt; | Df &lt;dbl&gt; | Pr(&gt;Chisq) &lt;dbl&gt; |\n",
       "|---|---|---|---|---|---|---|---|---|\n",
       "| fit_f0 |  9 | 3653.621 | 3691.660 | -1817.811 | 3635.621 |       NA | NA |        NA |\n",
       "| fit_f | 11 | 3652.674 | 3699.165 | -1815.337 | 3630.674 | 4.947663 |  2 | 0.0842614 |\n",
       "\n"
      ],
      "text/plain": [
       "       npar AIC      BIC      logLik    deviance Chisq    Df Pr(>Chisq)\n",
       "fit_f0  9   3653.621 3691.660 -1817.811 3635.621       NA NA        NA \n",
       "fit_f  11   3652.674 3699.165 -1815.337 3630.674 4.947663  2 0.0842614 "
      ]
     },
     "metadata": {},
     "output_type": "display_data"
    }
   ],
   "source": [
    "#https://stats.stackexchange.com/questions/331244/how-to-test-if-an-interaction-is-significant-interaction-terms-or-model-compari\n",
    "fit_f0 = lmer(FeatherDamage ~  CLASS + date+Treatment + (1|PenID/HenID), data=df_F)\n",
    "anova(fit_f, fit_f0)"
   ]
  },
  {
   "cell_type": "code",
   "execution_count": 28,
   "id": "3e3ea98a",
   "metadata": {},
   "outputs": [
    {
     "name": "stderr",
     "output_type": "stream",
     "text": [
      "refitting model(s) with ML (instead of REML)\n",
      "\n"
     ]
    },
    {
     "data": {
      "text/html": [
       "<table class=\"dataframe\">\n",
       "<caption>A anova: 2 × 8</caption>\n",
       "<thead>\n",
       "\t<tr><th></th><th scope=col>npar</th><th scope=col>AIC</th><th scope=col>BIC</th><th scope=col>logLik</th><th scope=col>deviance</th><th scope=col>Chisq</th><th scope=col>Df</th><th scope=col>Pr(&gt;Chisq)</th></tr>\n",
       "\t<tr><th></th><th scope=col>&lt;dbl&gt;</th><th scope=col>&lt;dbl&gt;</th><th scope=col>&lt;dbl&gt;</th><th scope=col>&lt;dbl&gt;</th><th scope=col>&lt;dbl&gt;</th><th scope=col>&lt;dbl&gt;</th><th scope=col>&lt;dbl&gt;</th><th scope=col>&lt;dbl&gt;</th></tr>\n",
       "</thead>\n",
       "<tbody>\n",
       "\t<tr><th scope=row>fit_f00</th><td>8</td><td>3652.157</td><td>3685.969</td><td>-1818.079</td><td>3636.157</td><td>       NA</td><td>NA</td><td>       NA</td></tr>\n",
       "\t<tr><th scope=row>fit_f0</th><td>9</td><td>3653.621</td><td>3691.660</td><td>-1817.811</td><td>3635.621</td><td>0.5358041</td><td> 1</td><td>0.4641769</td></tr>\n",
       "</tbody>\n",
       "</table>\n"
      ],
      "text/latex": [
       "A anova: 2 × 8\n",
       "\\begin{tabular}{r|llllllll}\n",
       "  & npar & AIC & BIC & logLik & deviance & Chisq & Df & Pr(>Chisq)\\\\\n",
       "  & <dbl> & <dbl> & <dbl> & <dbl> & <dbl> & <dbl> & <dbl> & <dbl>\\\\\n",
       "\\hline\n",
       "\tfit\\_f00 & 8 & 3652.157 & 3685.969 & -1818.079 & 3636.157 &        NA & NA &        NA\\\\\n",
       "\tfit\\_f0 & 9 & 3653.621 & 3691.660 & -1817.811 & 3635.621 & 0.5358041 &  1 & 0.4641769\\\\\n",
       "\\end{tabular}\n"
      ],
      "text/markdown": [
       "\n",
       "A anova: 2 × 8\n",
       "\n",
       "| <!--/--> | npar &lt;dbl&gt; | AIC &lt;dbl&gt; | BIC &lt;dbl&gt; | logLik &lt;dbl&gt; | deviance &lt;dbl&gt; | Chisq &lt;dbl&gt; | Df &lt;dbl&gt; | Pr(&gt;Chisq) &lt;dbl&gt; |\n",
       "|---|---|---|---|---|---|---|---|---|\n",
       "| fit_f00 | 8 | 3652.157 | 3685.969 | -1818.079 | 3636.157 |        NA | NA |        NA |\n",
       "| fit_f0 | 9 | 3653.621 | 3691.660 | -1817.811 | 3635.621 | 0.5358041 |  1 | 0.4641769 |\n",
       "\n"
      ],
      "text/plain": [
       "        npar AIC      BIC      logLik    deviance Chisq     Df Pr(>Chisq)\n",
       "fit_f00 8    3652.157 3685.969 -1818.079 3636.157        NA NA        NA \n",
       "fit_f0  9    3653.621 3691.660 -1817.811 3635.621 0.5358041  1 0.4641769 "
      ]
     },
     "metadata": {},
     "output_type": "display_data"
    }
   ],
   "source": [
    "#https://stats.stackexchange.com/questions/331244/how-to-test-if-an-interaction-is-significant-interaction-terms-or-model-compari\n",
    "fit_f00 = lmer(FeatherDamage ~  CLASS + date + (1|PenID/HenID), data=df_F)\n",
    "anova(fit_f0, fit_f00)"
   ]
  },
  {
   "cell_type": "code",
   "execution_count": 15,
   "id": "028b112f",
   "metadata": {},
   "outputs": [
    {
     "data": {
      "text/html": [
       "<style>\n",
       ".list-inline {list-style: none; margin:0; padding: 0}\n",
       ".list-inline>li {display: inline-block}\n",
       ".list-inline>li:not(:last-child)::after {content: \"\\00b7\"; padding: 0 .5ex}\n",
       "</style>\n",
       "<ol class=list-inline><li>506</li><li>8</li></ol>\n"
      ],
      "text/latex": [
       "\\begin{enumerate*}\n",
       "\\item 506\n",
       "\\item 8\n",
       "\\end{enumerate*}\n"
      ],
      "text/markdown": [
       "1. 506\n",
       "2. 8\n",
       "\n",
       "\n"
      ],
      "text/plain": [
       "[1] 506   8"
      ]
     },
     "metadata": {},
     "output_type": "display_data"
    }
   ],
   "source": [
    "dim(df_F)"
   ]
  },
  {
   "cell_type": "code",
   "execution_count": 16,
   "id": "79273422",
   "metadata": {},
   "outputs": [
    {
     "data": {
      "text/plain": [
       "  CLASS             date     Treatment      HenID        severity    \n",
       " REXP:306   2021-02-01:176   TRAN:253   hen_10 :  3   Min.   : 0.00  \n",
       " LEXP: 88   2021-04-12:175   OFH :253   hen_101:  3   1st Qu.:14.00  \n",
       " MEXP:112   2021-07-25:155              hen_102:  3   Median :28.00  \n",
       "                                        hen_106:  3   Mean   :27.44  \n",
       "                                        hen_107:  3   3rd Qu.:40.00  \n",
       "                                        hen_109:  3   Max.   :84.00  \n",
       "                                        (Other):488                  \n",
       " FeatherDamage        DOA            PenID    \n",
       " Min.   : 0.00   Min.   :243.0   pen11  : 64  \n",
       " 1st Qu.: 8.75   1st Qu.:243.0   pen4   : 64  \n",
       " Median :17.33   Median :313.0   pen8   : 64  \n",
       " Mean   :19.59   Mean   :320.5   pen10  : 63  \n",
       " 3rd Qu.:28.00   3rd Qu.:417.0   pen3   : 63  \n",
       " Max.   :66.33   Max.   :417.0   pen5   : 63  \n",
       "                                 (Other):125  "
      ]
     },
     "metadata": {},
     "output_type": "display_data"
    }
   ],
   "source": [
    "summary(df_F)"
   ]
  },
  {
   "cell_type": "markdown",
   "id": "9f2ae863",
   "metadata": {},
   "source": [
    "# Weight"
   ]
  },
  {
   "cell_type": "code",
   "execution_count": 17,
   "id": "58e8ea4d",
   "metadata": {},
   "outputs": [
    {
     "data": {
      "text/html": [
       "<style>\n",
       ".list-inline {list-style: none; margin:0; padding: 0}\n",
       ".list-inline>li {display: inline-block}\n",
       ".list-inline>li:not(:last-child)::after {content: \"\\00b7\"; padding: 0 .5ex}\n",
       "</style>\n",
       "<ol class=list-inline><li>1121</li><li>10</li></ol>\n"
      ],
      "text/latex": [
       "\\begin{enumerate*}\n",
       "\\item 1121\n",
       "\\item 10\n",
       "\\end{enumerate*}\n"
      ],
      "text/markdown": [
       "1. 1121\n",
       "2. 10\n",
       "\n",
       "\n"
      ],
      "text/plain": [
       "[1] 1121   10"
      ]
     },
     "metadata": {},
     "output_type": "display_data"
    },
    {
     "data": {
      "text/html": [
       "<table class=\"dataframe\">\n",
       "<caption>A data.frame: 3 × 10</caption>\n",
       "<thead>\n",
       "\t<tr><th></th><th scope=col>HenID</th><th scope=col>Treatment</th><th scope=col>CLASS</th><th scope=col>PenID</th><th scope=col>R.Pen</th><th scope=col>variable</th><th scope=col>weight</th><th scope=col>date</th><th scope=col>DOA</th><th scope=col>weight_norm</th></tr>\n",
       "\t<tr><th></th><th scope=col>&lt;fct&gt;</th><th scope=col>&lt;fct&gt;</th><th scope=col>&lt;fct&gt;</th><th scope=col>&lt;fct&gt;</th><th scope=col>&lt;dbl&gt;</th><th scope=col>&lt;fct&gt;</th><th scope=col>&lt;dbl&gt;</th><th scope=col>&lt;fct&gt;</th><th scope=col>&lt;int&gt;</th><th scope=col>&lt;dbl&gt;</th></tr>\n",
       "</thead>\n",
       "<tbody>\n",
       "\t<tr><th scope=row>1</th><td>hen_46 </td><td>TRAN</td><td>REXP</td><td>pen_10</td><td>2</td><td>10-12 juin weight</td><td>63.6</td><td>2020-06-10</td><td>7</td><td>0.4702194</td></tr>\n",
       "\t<tr><th scope=row>2</th><td>hen_17 </td><td>OFH </td><td>LEXP</td><td>pen_5 </td><td>1</td><td>10-12 juin weight</td><td>60.4</td><td>2020-06-10</td><td>7</td><td>0.3699060</td></tr>\n",
       "\t<tr><th scope=row>3</th><td>hen_161</td><td>TRAN</td><td>REXP</td><td>pen_10</td><td>4</td><td>10-12 juin weight</td><td>66.7</td><td>2020-06-10</td><td>7</td><td>0.5673981</td></tr>\n",
       "</tbody>\n",
       "</table>\n"
      ],
      "text/latex": [
       "A data.frame: 3 × 10\n",
       "\\begin{tabular}{r|llllllllll}\n",
       "  & HenID & Treatment & CLASS & PenID & R.Pen & variable & weight & date & DOA & weight\\_norm\\\\\n",
       "  & <fct> & <fct> & <fct> & <fct> & <dbl> & <fct> & <dbl> & <fct> & <int> & <dbl>\\\\\n",
       "\\hline\n",
       "\t1 & hen\\_46  & TRAN & REXP & pen\\_10 & 2 & 10-12 juin weight & 63.6 & 2020-06-10 & 7 & 0.4702194\\\\\n",
       "\t2 & hen\\_17  & OFH  & LEXP & pen\\_5  & 1 & 10-12 juin weight & 60.4 & 2020-06-10 & 7 & 0.3699060\\\\\n",
       "\t3 & hen\\_161 & TRAN & REXP & pen\\_10 & 4 & 10-12 juin weight & 66.7 & 2020-06-10 & 7 & 0.5673981\\\\\n",
       "\\end{tabular}\n"
      ],
      "text/markdown": [
       "\n",
       "A data.frame: 3 × 10\n",
       "\n",
       "| <!--/--> | HenID &lt;fct&gt; | Treatment &lt;fct&gt; | CLASS &lt;fct&gt; | PenID &lt;fct&gt; | R.Pen &lt;dbl&gt; | variable &lt;fct&gt; | weight &lt;dbl&gt; | date &lt;fct&gt; | DOA &lt;int&gt; | weight_norm &lt;dbl&gt; |\n",
       "|---|---|---|---|---|---|---|---|---|---|---|\n",
       "| 1 | hen_46  | TRAN | REXP | pen_10 | 2 | 10-12 juin weight | 63.6 | 2020-06-10 | 7 | 0.4702194 |\n",
       "| 2 | hen_17  | OFH  | LEXP | pen_5  | 1 | 10-12 juin weight | 60.4 | 2020-06-10 | 7 | 0.3699060 |\n",
       "| 3 | hen_161 | TRAN | REXP | pen_10 | 4 | 10-12 juin weight | 66.7 | 2020-06-10 | 7 | 0.5673981 |\n",
       "\n"
      ],
      "text/plain": [
       "  HenID   Treatment CLASS PenID  R.Pen variable          weight date       DOA\n",
       "1 hen_46  TRAN      REXP  pen_10 2     10-12 juin weight 63.6   2020-06-10 7  \n",
       "2 hen_17  OFH       LEXP  pen_5  1     10-12 juin weight 60.4   2020-06-10 7  \n",
       "3 hen_161 TRAN      REXP  pen_10 4     10-12 juin weight 66.7   2020-06-10 7  \n",
       "  weight_norm\n",
       "1 0.4702194  \n",
       "2 0.3699060  \n",
       "3 0.5673981  "
      ]
     },
     "metadata": {},
     "output_type": "display_data"
    },
    {
     "data": {
      "image/png": "[encoded data removed]",
      "text/plain": [
       "Plot with title \"Histogram of df_W$weight\""
      ]
     },
     "metadata": {
      "image/png": {
       "height": 420,
       "width": 420
      }
     },
     "output_type": "display_data"
    },
    {
     "data": {
      "image/png": "[encoded data removed]",
      "text/plain": [
       "Plot with title \"Histogram of df_W$weight_norm\""
      ]
     },
     "metadata": {
      "image/png": {
       "height": 420,
       "width": 420
      }
     },
     "output_type": "display_data"
    }
   ],
   "source": [
    "#focal birds information (one row per focal bird)\n",
    "path_ = 'G:/VPHI/Welfare/2- Research Projects/OFHE2.OriginsE2/DataOutput/TrackingSystem/ALLDATA_'\n",
    "#df_W = read.csv(file.path(path_,'df_W_daily_aggregatedHA.csv'), header = TRUE, sep = \",\")\n",
    "df_W = read.csv(file.path(path_,'OFH_df_FOCALBIRDS.csv'), header = TRUE, sep = \",\")\n",
    "df_W$HenID = as.factor(df_W$HenID)   \n",
    "df_W$PenID = as.factor(df_W$PenID)\n",
    "df_W$CLASS = as.factor(df_W$CLASS) \n",
    "df_W$date = as.factor(df_W$date) \n",
    "df_W$DOA = as.integer(df_W$DOA) \n",
    "df_W$Treatment = as.factor(df_W$Treatment)\n",
    "df_W = df_W %>% mutate(CLASS = relevel(CLASS, ref = \"REXP\"))\n",
    "df_W = df_W %>% mutate(Treatment = relevel(Treatment, ref = \"TRAN\"))\n",
    "#df_W$dateTreatment = interaction(df_W$DOA, df_W$Treatment) #new as one DOA less for the feather!\n",
    "#df_W$dateTreatment = as.factor(df_W$dateTreatment)\n",
    "dim(df_W)\n",
    "df_W = df_W[!is.na(df_W$DOA),]\n",
    "head(df_W,3)\n",
    "hist(df_W$weight)\n",
    "hist(df_W$weight_norm)"
   ]
  },
  {
   "cell_type": "code",
   "execution_count": 18,
   "id": "265a3690",
   "metadata": {
    "scrolled": true
   },
   "outputs": [
    {
     "name": "stderr",
     "output_type": "stream",
     "text": [
      "boundary (singular) fit: see ?isSingular\n",
      "\n",
      "\n",
      "Correlation matrix not shown by default, as p = 16 > 12.\n",
      "Use print(obj, correlation=TRUE)  or\n",
      "    vcov(obj)        if you need it\n",
      "\n",
      "\n"
     ]
    },
    {
     "data": {
      "text/plain": [
       "Linear mixed model fit by REML. t-tests use Satterthwaite's method [\n",
       "lmerModLmerTest]\n",
       "Formula: weight_norm ~ CLASS + date + Treatment + date:Treatment + (1 |  \n",
       "    PenID/HenID)\n",
       "   Data: df_W\n",
       "\n",
       "REML criterion at convergence: -1179.7\n",
       "\n",
       "Scaled residuals: \n",
       "    Min      1Q  Median      3Q     Max \n",
       "-4.3717 -0.4501 -0.0350  0.4490  3.9337 \n",
       "\n",
       "Random effects:\n",
       " Groups      Name        Variance  Std.Dev. \n",
       " HenID:PenID (Intercept) 1.750e-02 1.323e-01\n",
       " PenID       (Intercept) 1.330e-12 1.153e-06\n",
       " Residual                1.262e-02 1.123e-01\n",
       "Number of obs: 1121, groups:  HenID:PenID, 231; PenID, 8\n",
       "\n",
       "Fixed effects:\n",
       "                              Estimate Std. Error         df t value Pr(>|t|)\n",
       "(Intercept)                   0.497873   0.019461 601.968234  25.583  < 2e-16\n",
       "CLASSLEXP                    -0.010909   0.027641 208.380324  -0.395  0.69350\n",
       "CLASSMEXP                     0.010540   0.025142 208.775989   0.419  0.67548\n",
       "date2020-09-29               -0.013738   0.018149 885.040289  -0.757  0.44929\n",
       "date2020-11-23                0.050203   0.018198 905.287682   2.759  0.00592\n",
       "date2021-01-04               -0.030197   0.020374 914.413250  -1.482  0.13865\n",
       "date2021-02-01               -0.044321   0.018509 922.665385  -2.395  0.01684\n",
       "date2021-04-12                0.091519   0.018812 941.415544   4.865 1.34e-06\n",
       "date2021-07-25               -0.032882   0.019497 946.683567  -1.687  0.09202\n",
       "TreatmentOFH                  0.040971   0.027039 711.241529   1.515  0.13016\n",
       "date2020-09-29:TreatmentOFH   0.012269   0.026771 895.242450   0.458  0.64684\n",
       "date2020-11-23:TreatmentOFH   0.002074   0.026576 903.007756   0.078  0.93782\n",
       "date2021-01-04:TreatmentOFH  -0.053385   0.028480 909.421611  -1.874  0.06119\n",
       "date2021-02-01:TreatmentOFH  -0.014380   0.026980 916.043776  -0.533  0.59417\n",
       "date2021-04-12:TreatmentOFH  -0.016409   0.027356 932.187278  -0.600  0.54875\n",
       "date2021-07-25:TreatmentOFH  -0.043486   0.028300 936.191697  -1.537  0.12473\n",
       "                               \n",
       "(Intercept)                 ***\n",
       "CLASSLEXP                      \n",
       "CLASSMEXP                      \n",
       "date2020-09-29                 \n",
       "date2020-11-23              ** \n",
       "date2021-01-04                 \n",
       "date2021-02-01              *  \n",
       "date2021-04-12              ***\n",
       "date2021-07-25              .  \n",
       "TreatmentOFH                   \n",
       "date2020-09-29:TreatmentOFH    \n",
       "date2020-11-23:TreatmentOFH    \n",
       "date2021-01-04:TreatmentOFH .  \n",
       "date2021-02-01:TreatmentOFH    \n",
       "date2021-04-12:TreatmentOFH    \n",
       "date2021-07-25:TreatmentOFH    \n",
       "---\n",
       "Signif. codes:  0 '***' 0.001 '**' 0.01 '*' 0.05 '.' 0.1 ' ' 1\n",
       "optimizer (nloptwrap) convergence code: 0 (OK)\n",
       "boundary (singular) fit: see ?isSingular\n"
      ]
     },
     "metadata": {},
     "output_type": "display_data"
    }
   ],
   "source": [
    "#penID as random effect: singular values & explain none of the variance -->without PenID\n",
    "fit = lmer(weight_norm ~ CLASS + date+Treatment+date:Treatment + (1|PenID/HenID), data=df_W)\n",
    "summary(fit)"
   ]
  },
  {
   "cell_type": "code",
   "execution_count": 19,
   "id": "1cb49d0f",
   "metadata": {},
   "outputs": [
    {
     "name": "stderr",
     "output_type": "stream",
     "text": [
      "\n",
      "Correlation matrix not shown by default, as p = 16 > 12.\n",
      "Use print(obj, correlation=TRUE)  or\n",
      "    vcov(obj)        if you need it\n",
      "\n",
      "\n"
     ]
    },
    {
     "data": {
      "text/plain": [
       "Linear mixed model fit by REML. t-tests use Satterthwaite's method [\n",
       "lmerModLmerTest]\n",
       "Formula: weight_norm ~ CLASS + date + Treatment + date:Treatment + (1 |  \n",
       "    HenID)\n",
       "   Data: df_W\n",
       "\n",
       "REML criterion at convergence: -1179.7\n",
       "\n",
       "Scaled residuals: \n",
       "    Min      1Q  Median      3Q     Max \n",
       "-4.3717 -0.4501 -0.0350  0.4490  3.9337 \n",
       "\n",
       "Random effects:\n",
       " Groups   Name        Variance Std.Dev.\n",
       " HenID    (Intercept) 0.01750  0.1323  \n",
       " Residual             0.01262  0.1123  \n",
       "Number of obs: 1121, groups:  HenID, 231\n",
       "\n",
       "Fixed effects:\n",
       "                              Estimate Std. Error         df t value Pr(>|t|)\n",
       "(Intercept)                   0.497873   0.019461 601.968522  25.583  < 2e-16\n",
       "CLASSLEXP                    -0.010909   0.027641 208.380280  -0.395  0.69350\n",
       "CLASSMEXP                     0.010540   0.025142 208.775946   0.419  0.67548\n",
       "date2020-09-29               -0.013738   0.018149 885.040307  -0.757  0.44929\n",
       "date2020-11-23                0.050203   0.018198 905.287700   2.759  0.00592\n",
       "date2021-01-04               -0.030197   0.020374 914.413266  -1.482  0.13865\n",
       "date2021-02-01               -0.044321   0.018509 922.665401  -2.395  0.01684\n",
       "date2021-04-12                0.091519   0.018812 941.415559   4.865 1.34e-06\n",
       "date2021-07-25               -0.032882   0.019497 946.683581  -1.687  0.09202\n",
       "TreatmentOFH                  0.040971   0.027039 711.242033   1.515  0.13016\n",
       "date2020-09-29:TreatmentOFH   0.012269   0.026771 895.242469   0.458  0.64684\n",
       "date2020-11-23:TreatmentOFH   0.002074   0.026576 903.007773   0.078  0.93782\n",
       "date2021-01-04:TreatmentOFH  -0.053385   0.028480 909.421628  -1.874  0.06119\n",
       "date2021-02-01:TreatmentOFH  -0.014380   0.026980 916.043793  -0.533  0.59417\n",
       "date2021-04-12:TreatmentOFH  -0.016409   0.027356 932.187294  -0.600  0.54875\n",
       "date2021-07-25:TreatmentOFH  -0.043486   0.028300 936.191712  -1.537  0.12473\n",
       "                               \n",
       "(Intercept)                 ***\n",
       "CLASSLEXP                      \n",
       "CLASSMEXP                      \n",
       "date2020-09-29                 \n",
       "date2020-11-23              ** \n",
       "date2021-01-04                 \n",
       "date2021-02-01              *  \n",
       "date2021-04-12              ***\n",
       "date2021-07-25              .  \n",
       "TreatmentOFH                   \n",
       "date2020-09-29:TreatmentOFH    \n",
       "date2020-11-23:TreatmentOFH    \n",
       "date2021-01-04:TreatmentOFH .  \n",
       "date2021-02-01:TreatmentOFH    \n",
       "date2021-04-12:TreatmentOFH    \n",
       "date2021-07-25:TreatmentOFH    \n",
       "---\n",
       "Signif. codes:  0 '***' 0.001 '**' 0.01 '*' 0.05 '.' 0.1 ' ' 1"
      ]
     },
     "metadata": {},
     "output_type": "display_data"
    },
    {
     "data": {
      "text/html": [
       "<table class=\"dataframe\">\n",
       "<caption>A anova: 4 × 6</caption>\n",
       "<thead>\n",
       "\t<tr><th></th><th scope=col>Sum Sq</th><th scope=col>Mean Sq</th><th scope=col>NumDF</th><th scope=col>DenDF</th><th scope=col>F value</th><th scope=col>Pr(&gt;F)</th></tr>\n",
       "\t<tr><th></th><th scope=col>&lt;dbl&gt;</th><th scope=col>&lt;dbl&gt;</th><th scope=col>&lt;int&gt;</th><th scope=col>&lt;dbl&gt;</th><th scope=col>&lt;dbl&gt;</th><th scope=col>&lt;dbl&gt;</th></tr>\n",
       "</thead>\n",
       "<tbody>\n",
       "\t<tr><th scope=row>CLASS</th><td>0.005168386</td><td>0.002584193</td><td>2</td><td>207.5352</td><td> 0.2048248</td><td>8.149546e-01</td></tr>\n",
       "\t<tr><th scope=row>date</th><td>3.022881863</td><td>0.503813644</td><td>6</td><td>908.3756</td><td>39.9325861</td><td>3.071876e-43</td></tr>\n",
       "\t<tr><th scope=row>Treatment</th><td>0.021457162</td><td>0.021457162</td><td>1</td><td>226.5031</td><td> 1.7007082</td><td>1.935191e-01</td></tr>\n",
       "\t<tr><th scope=row>date:Treatment</th><td>0.118528435</td><td>0.019754739</td><td>6</td><td>908.5446</td><td> 1.5657730</td><td>1.539689e-01</td></tr>\n",
       "</tbody>\n",
       "</table>\n"
      ],
      "text/latex": [
       "A anova: 4 × 6\n",
       "\\begin{tabular}{r|llllll}\n",
       "  & Sum Sq & Mean Sq & NumDF & DenDF & F value & Pr(>F)\\\\\n",
       "  & <dbl> & <dbl> & <int> & <dbl> & <dbl> & <dbl>\\\\\n",
       "\\hline\n",
       "\tCLASS & 0.005168386 & 0.002584193 & 2 & 207.5352 &  0.2048248 & 8.149546e-01\\\\\n",
       "\tdate & 3.022881863 & 0.503813644 & 6 & 908.3756 & 39.9325861 & 3.071876e-43\\\\\n",
       "\tTreatment & 0.021457162 & 0.021457162 & 1 & 226.5031 &  1.7007082 & 1.935191e-01\\\\\n",
       "\tdate:Treatment & 0.118528435 & 0.019754739 & 6 & 908.5446 &  1.5657730 & 1.539689e-01\\\\\n",
       "\\end{tabular}\n"
      ],
      "text/markdown": [
       "\n",
       "A anova: 4 × 6\n",
       "\n",
       "| <!--/--> | Sum Sq &lt;dbl&gt; | Mean Sq &lt;dbl&gt; | NumDF &lt;int&gt; | DenDF &lt;dbl&gt; | F value &lt;dbl&gt; | Pr(&gt;F) &lt;dbl&gt; |\n",
       "|---|---|---|---|---|---|---|\n",
       "| CLASS | 0.005168386 | 0.002584193 | 2 | 207.5352 |  0.2048248 | 8.149546e-01 |\n",
       "| date | 3.022881863 | 0.503813644 | 6 | 908.3756 | 39.9325861 | 3.071876e-43 |\n",
       "| Treatment | 0.021457162 | 0.021457162 | 1 | 226.5031 |  1.7007082 | 1.935191e-01 |\n",
       "| date:Treatment | 0.118528435 | 0.019754739 | 6 | 908.5446 |  1.5657730 | 1.539689e-01 |\n",
       "\n"
      ],
      "text/plain": [
       "               Sum Sq      Mean Sq     NumDF DenDF    F value    Pr(>F)      \n",
       "CLASS          0.005168386 0.002584193 2     207.5352  0.2048248 8.149546e-01\n",
       "date           3.022881863 0.503813644 6     908.3756 39.9325861 3.071876e-43\n",
       "Treatment      0.021457162 0.021457162 1     226.5031  1.7007082 1.935191e-01\n",
       "date:Treatment 0.118528435 0.019754739 6     908.5446  1.5657730 1.539689e-01"
      ]
     },
     "metadata": {},
     "output_type": "display_data"
    },
    {
     "data": {
      "image/png": "[encoded data removed]",
      "text/plain": [
       "Plot with title \"Normal Q-Q Plot\""
      ]
     },
     "metadata": {
      "image/png": {
       "height": 420,
       "width": 420
      }
     },
     "output_type": "display_data"
    },
    {
     "data": {
      "image/png": "[encoded data removed]",
      "text/plain": [
       "Plot with title \"Histogram of resid(fit_w)\""
      ]
     },
     "metadata": {
      "image/png": {
       "height": 420,
       "width": 420
      }
     },
     "output_type": "display_data"
    },
    {
     "data": {
      "image/png": "[encoded data removed]",
      "text/plain": [
       "plot without title"
      ]
     },
     "metadata": {
      "image/png": {
       "height": 420,
       "width": 420
      }
     },
     "output_type": "display_data"
    }
   ],
   "source": [
    "#penID as random effect: singular values & explain none of the variance -->without PenID\n",
    "#sqrt is worst and lead to same result\n",
    "#scale(DOA): same results but nor more emmeans\n",
    "fit_w = lmer(weight_norm ~ CLASS + date+Treatment+date:Treatment + (1|HenID), data=df_W)\n",
    "summary(fit_w)\n",
    "anova(fit_w)\n",
    "write.csv(anova(fit_w), file=file.path(path_save, paste0('OFH_Weight_anova.csv')) )\n",
    "######normally distributed residuals\n",
    "qqnorm(resid(fit_w))\n",
    "qqline(resid(fit_w))\n",
    "hist(resid(fit_w))\n",
    "######check homogeneity of variance (residuals has constant variance)\n",
    "plot(fit_w)"
   ]
  },
  {
   "cell_type": "code",
   "execution_count": 20,
   "id": "73f091ad",
   "metadata": {},
   "outputs": [
    {
     "name": "stderr",
     "output_type": "stream",
     "text": [
      "refitting model(s) with ML (instead of REML)\n",
      "\n"
     ]
    },
    {
     "data": {
      "text/html": [
       "<table class=\"dataframe\">\n",
       "<caption>A anova: 2 × 8</caption>\n",
       "<thead>\n",
       "\t<tr><th></th><th scope=col>npar</th><th scope=col>AIC</th><th scope=col>BIC</th><th scope=col>logLik</th><th scope=col>deviance</th><th scope=col>Chisq</th><th scope=col>Df</th><th scope=col>Pr(&gt;Chisq)</th></tr>\n",
       "\t<tr><th></th><th scope=col>&lt;dbl&gt;</th><th scope=col>&lt;dbl&gt;</th><th scope=col>&lt;dbl&gt;</th><th scope=col>&lt;dbl&gt;</th><th scope=col>&lt;dbl&gt;</th><th scope=col>&lt;dbl&gt;</th><th scope=col>&lt;dbl&gt;</th><th scope=col>&lt;dbl&gt;</th></tr>\n",
       "</thead>\n",
       "<tbody>\n",
       "\t<tr><th scope=row>fit_w0</th><td>12</td><td>-1249.088</td><td>-1188.824</td><td>636.5439</td><td>-1273.088</td><td>      NA</td><td>NA</td><td>      NA</td></tr>\n",
       "\t<tr><th scope=row>fit_w</th><td>18</td><td>-1246.574</td><td>-1156.178</td><td>641.2868</td><td>-1282.574</td><td>9.485811</td><td> 6</td><td>0.148043</td></tr>\n",
       "</tbody>\n",
       "</table>\n"
      ],
      "text/latex": [
       "A anova: 2 × 8\n",
       "\\begin{tabular}{r|llllllll}\n",
       "  & npar & AIC & BIC & logLik & deviance & Chisq & Df & Pr(>Chisq)\\\\\n",
       "  & <dbl> & <dbl> & <dbl> & <dbl> & <dbl> & <dbl> & <dbl> & <dbl>\\\\\n",
       "\\hline\n",
       "\tfit\\_w0 & 12 & -1249.088 & -1188.824 & 636.5439 & -1273.088 &       NA & NA &       NA\\\\\n",
       "\tfit\\_w & 18 & -1246.574 & -1156.178 & 641.2868 & -1282.574 & 9.485811 &  6 & 0.148043\\\\\n",
       "\\end{tabular}\n"
      ],
      "text/markdown": [
       "\n",
       "A anova: 2 × 8\n",
       "\n",
       "| <!--/--> | npar &lt;dbl&gt; | AIC &lt;dbl&gt; | BIC &lt;dbl&gt; | logLik &lt;dbl&gt; | deviance &lt;dbl&gt; | Chisq &lt;dbl&gt; | Df &lt;dbl&gt; | Pr(&gt;Chisq) &lt;dbl&gt; |\n",
       "|---|---|---|---|---|---|---|---|---|\n",
       "| fit_w0 | 12 | -1249.088 | -1188.824 | 636.5439 | -1273.088 |       NA | NA |       NA |\n",
       "| fit_w | 18 | -1246.574 | -1156.178 | 641.2868 | -1282.574 | 9.485811 |  6 | 0.148043 |\n",
       "\n"
      ],
      "text/plain": [
       "       npar AIC       BIC       logLik   deviance  Chisq    Df Pr(>Chisq)\n",
       "fit_w0 12   -1249.088 -1188.824 636.5439 -1273.088       NA NA       NA  \n",
       "fit_w  18   -1246.574 -1156.178 641.2868 -1282.574 9.485811  6 0.148043  "
      ]
     },
     "metadata": {},
     "output_type": "display_data"
    }
   ],
   "source": [
    "fit_w0 = lmer(weight_norm ~ CLASS + date+Treatment + (1|HenID), data=df_W)\n",
    "anova(fit_w, fit_w0)"
   ]
  },
  {
   "cell_type": "code",
   "execution_count": 29,
   "id": "7d294173",
   "metadata": {},
   "outputs": [
    {
     "name": "stderr",
     "output_type": "stream",
     "text": [
      "refitting model(s) with ML (instead of REML)\n",
      "\n"
     ]
    },
    {
     "data": {
      "text/html": [
       "<table class=\"dataframe\">\n",
       "<caption>A anova: 2 × 8</caption>\n",
       "<thead>\n",
       "\t<tr><th></th><th scope=col>npar</th><th scope=col>AIC</th><th scope=col>BIC</th><th scope=col>logLik</th><th scope=col>deviance</th><th scope=col>Chisq</th><th scope=col>Df</th><th scope=col>Pr(&gt;Chisq)</th></tr>\n",
       "\t<tr><th></th><th scope=col>&lt;dbl&gt;</th><th scope=col>&lt;dbl&gt;</th><th scope=col>&lt;dbl&gt;</th><th scope=col>&lt;dbl&gt;</th><th scope=col>&lt;dbl&gt;</th><th scope=col>&lt;dbl&gt;</th><th scope=col>&lt;dbl&gt;</th><th scope=col>&lt;dbl&gt;</th></tr>\n",
       "</thead>\n",
       "<tbody>\n",
       "\t<tr><th scope=row>fit_w00</th><td>11</td><td>-1249.140</td><td>-1193.898</td><td>635.5701</td><td>-1271.140</td><td>     NA</td><td>NA</td><td>       NA</td></tr>\n",
       "\t<tr><th scope=row>fit_w0</th><td>12</td><td>-1249.088</td><td>-1188.824</td><td>636.5439</td><td>-1273.088</td><td>1.94755</td><td> 1</td><td>0.1628511</td></tr>\n",
       "</tbody>\n",
       "</table>\n"
      ],
      "text/latex": [
       "A anova: 2 × 8\n",
       "\\begin{tabular}{r|llllllll}\n",
       "  & npar & AIC & BIC & logLik & deviance & Chisq & Df & Pr(>Chisq)\\\\\n",
       "  & <dbl> & <dbl> & <dbl> & <dbl> & <dbl> & <dbl> & <dbl> & <dbl>\\\\\n",
       "\\hline\n",
       "\tfit\\_w00 & 11 & -1249.140 & -1193.898 & 635.5701 & -1271.140 &      NA & NA &        NA\\\\\n",
       "\tfit\\_w0 & 12 & -1249.088 & -1188.824 & 636.5439 & -1273.088 & 1.94755 &  1 & 0.1628511\\\\\n",
       "\\end{tabular}\n"
      ],
      "text/markdown": [
       "\n",
       "A anova: 2 × 8\n",
       "\n",
       "| <!--/--> | npar &lt;dbl&gt; | AIC &lt;dbl&gt; | BIC &lt;dbl&gt; | logLik &lt;dbl&gt; | deviance &lt;dbl&gt; | Chisq &lt;dbl&gt; | Df &lt;dbl&gt; | Pr(&gt;Chisq) &lt;dbl&gt; |\n",
       "|---|---|---|---|---|---|---|---|---|\n",
       "| fit_w00 | 11 | -1249.140 | -1193.898 | 635.5701 | -1271.140 |      NA | NA |        NA |\n",
       "| fit_w0 | 12 | -1249.088 | -1188.824 | 636.5439 | -1273.088 | 1.94755 |  1 | 0.1628511 |\n",
       "\n"
      ],
      "text/plain": [
       "        npar AIC       BIC       logLik   deviance  Chisq   Df Pr(>Chisq)\n",
       "fit_w00 11   -1249.140 -1193.898 635.5701 -1271.140      NA NA        NA \n",
       "fit_w0  12   -1249.088 -1188.824 636.5439 -1273.088 1.94755  1 0.1628511 "
      ]
     },
     "metadata": {},
     "output_type": "display_data"
    }
   ],
   "source": [
    "fit_w00 = lmer(weight_norm ~ CLASS + date + (1|HenID), data=df_W)\n",
    "anova(fit_w0, fit_w00)"
   ]
  },
  {
   "cell_type": "code",
   "execution_count": 23,
   "id": "a69f7b49",
   "metadata": {},
   "outputs": [
    {
     "data": {
      "text/html": [
       "<table class=\"dataframe\">\n",
       "<caption>A anova: 3 × 6</caption>\n",
       "<thead>\n",
       "\t<tr><th></th><th scope=col>Sum Sq</th><th scope=col>Mean Sq</th><th scope=col>NumDF</th><th scope=col>DenDF</th><th scope=col>F value</th><th scope=col>Pr(&gt;F)</th></tr>\n",
       "\t<tr><th></th><th scope=col>&lt;dbl&gt;</th><th scope=col>&lt;dbl&gt;</th><th scope=col>&lt;int&gt;</th><th scope=col>&lt;dbl&gt;</th><th scope=col>&lt;dbl&gt;</th><th scope=col>&lt;dbl&gt;</th></tr>\n",
       "</thead>\n",
       "<tbody>\n",
       "\t<tr><th scope=row>CLASS</th><td>0.005430231</td><td>0.002715116</td><td>2</td><td>207.2888</td><td> 0.2146692</td><td>8.069874e-01</td></tr>\n",
       "\t<tr><th scope=row>date</th><td>3.073958263</td><td>0.512326377</td><td>6</td><td>913.9964</td><td>40.5068180</td><td>7.507743e-44</td></tr>\n",
       "\t<tr><th scope=row>Treatment</th><td>0.024297637</td><td>0.024297637</td><td>1</td><td>225.1156</td><td> 1.9210800</td><td>1.671090e-01</td></tr>\n",
       "</tbody>\n",
       "</table>\n"
      ],
      "text/latex": [
       "A anova: 3 × 6\n",
       "\\begin{tabular}{r|llllll}\n",
       "  & Sum Sq & Mean Sq & NumDF & DenDF & F value & Pr(>F)\\\\\n",
       "  & <dbl> & <dbl> & <int> & <dbl> & <dbl> & <dbl>\\\\\n",
       "\\hline\n",
       "\tCLASS & 0.005430231 & 0.002715116 & 2 & 207.2888 &  0.2146692 & 8.069874e-01\\\\\n",
       "\tdate & 3.073958263 & 0.512326377 & 6 & 913.9964 & 40.5068180 & 7.507743e-44\\\\\n",
       "\tTreatment & 0.024297637 & 0.024297637 & 1 & 225.1156 &  1.9210800 & 1.671090e-01\\\\\n",
       "\\end{tabular}\n"
      ],
      "text/markdown": [
       "\n",
       "A anova: 3 × 6\n",
       "\n",
       "| <!--/--> | Sum Sq &lt;dbl&gt; | Mean Sq &lt;dbl&gt; | NumDF &lt;int&gt; | DenDF &lt;dbl&gt; | F value &lt;dbl&gt; | Pr(&gt;F) &lt;dbl&gt; |\n",
       "|---|---|---|---|---|---|---|\n",
       "| CLASS | 0.005430231 | 0.002715116 | 2 | 207.2888 |  0.2146692 | 8.069874e-01 |\n",
       "| date | 3.073958263 | 0.512326377 | 6 | 913.9964 | 40.5068180 | 7.507743e-44 |\n",
       "| Treatment | 0.024297637 | 0.024297637 | 1 | 225.1156 |  1.9210800 | 1.671090e-01 |\n",
       "\n"
      ],
      "text/plain": [
       "          Sum Sq      Mean Sq     NumDF DenDF    F value    Pr(>F)      \n",
       "CLASS     0.005430231 0.002715116 2     207.2888  0.2146692 8.069874e-01\n",
       "date      3.073958263 0.512326377 6     913.9964 40.5068180 7.507743e-44\n",
       "Treatment 0.024297637 0.024297637 1     225.1156  1.9210800 1.671090e-01"
      ]
     },
     "metadata": {},
     "output_type": "display_data"
    }
   ],
   "source": [
    "anova(fit_w0)"
   ]
  },
  {
   "cell_type": "code",
   "execution_count": 21,
   "id": "869c1abd",
   "metadata": {},
   "outputs": [
    {
     "data": {
      "text/html": [
       "<style>\n",
       ".list-inline {list-style: none; margin:0; padding: 0}\n",
       ".list-inline>li {display: inline-block}\n",
       ".list-inline>li:not(:last-child)::after {content: \"\\00b7\"; padding: 0 .5ex}\n",
       "</style>\n",
       "<ol class=list-inline><li>1121</li><li>10</li></ol>\n"
      ],
      "text/latex": [
       "\\begin{enumerate*}\n",
       "\\item 1121\n",
       "\\item 10\n",
       "\\end{enumerate*}\n"
      ],
      "text/markdown": [
       "1. 1121\n",
       "2. 10\n",
       "\n",
       "\n"
      ],
      "text/plain": [
       "[1] 1121   10"
      ]
     },
     "metadata": {},
     "output_type": "display_data"
    }
   ],
   "source": [
    "dim(df_W)"
   ]
  },
  {
   "cell_type": "code",
   "execution_count": null,
   "id": "90eb4f43",
   "metadata": {},
   "outputs": [],
   "source": []
  },
  {
   "cell_type": "code",
   "execution_count": null,
   "id": "bd1288a0",
   "metadata": {},
   "outputs": [],
   "source": []
  },
  {
   "cell_type": "code",
   "execution_count": 26,
   "id": "c9d53593",
   "metadata": {},
   "outputs": [],
   "source": [
    "tab_model(c(fit_s0, fit_f0,fit_w0), collapse.ci = TRUE, p.style = \"numeric_stars\", file=file.path(path_save,'Models_HA.doc'))"
   ]
  },
  {
   "cell_type": "code",
   "execution_count": null,
   "id": "e20b9ef5",
   "metadata": {},
   "outputs": [],
   "source": []
  },
  {
   "cell_type": "code",
   "execution_count": null,
   "id": "43e51ed7",
   "metadata": {},
   "outputs": [],
   "source": []
  },
  {
   "cell_type": "code",
   "execution_count": null,
   "id": "59b69d58",
   "metadata": {},
   "outputs": [],
   "source": []
  },
  {
   "cell_type": "code",
   "execution_count": null,
   "id": "f858dbd5",
   "metadata": {},
   "outputs": [],
   "source": []
  }
 ],
 "metadata": {
  "kernelspec": {
   "display_name": " Rkernel ",
   "language": "R",
   "name": "rkernel"
  },
  "language_info": {
   "codemirror_mode": "r",
   "file_extension": ".r",
   "mimetype": "text/x-r-source",
   "name": "R",
   "pygments_lexer": "r",
   "version": "3.6.1"
  }
 },
 "nbformat": 4,
 "nbformat_minor": 5
}
