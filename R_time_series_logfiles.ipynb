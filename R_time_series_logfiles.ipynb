{
 "cells": [
  {
   "cell_type": "code",
   "execution_count": 1,
   "metadata": {},
   "outputs": [
    {
     "name": "stderr",
     "output_type": "stream",
     "text": [
      "\n",
      "Attaching package: 'purrr'\n",
      "\n",
      "The following object is masked from 'package:data.table':\n",
      "\n",
      "    transpose\n",
      "\n",
      "\n",
      "Attaching package: 'dplyr'\n",
      "\n",
      "The following objects are masked from 'package:data.table':\n",
      "\n",
      "    between, first, last\n",
      "\n",
      "The following objects are masked from 'package:stats':\n",
      "\n",
      "    filter, lag\n",
      "\n",
      "The following objects are masked from 'package:base':\n",
      "\n",
      "    intersect, setdiff, setequal, union\n",
      "\n",
      "hash-2.2.6 provided by Decision Patterns\n",
      "\n",
      "\n",
      "Attaching package: 'hash'\n",
      "\n",
      "The following object is masked from 'package:data.table':\n",
      "\n",
      "    copy\n",
      "\n"
     ]
    }
   ],
   "source": [
    "library(stringr)\n",
    "library(data.table) #rbindlist\n",
    "library(purrr) #map\n",
    "library(dplyr)\n",
    "library(hash) #dico"
   ]
  },
  {
   "cell_type": "code",
   "execution_count": 2,
   "metadata": {},
   "outputs": [],
   "source": [
    "path_extracted_data = 'data/extracted_data_R'"
   ]
  },
  {
   "cell_type": "raw",
   "metadata": {},
   "source": [
    "start = Sys.time()\n",
    "\n",
    "end = Sys.time()\n",
    "print(paste0(\"Total running time: \", (end-start)/60,\" mn\"))"
   ]
  },
  {
   "cell_type": "code",
   "execution_count": 3,
   "metadata": {},
   "outputs": [],
   "source": [
    "START_ALL = Sys.time()"
   ]
  },
  {
   "cell_type": "markdown",
   "metadata": {},
   "source": [
    "# Define parameters"
   ]
  },
  {
   "cell_type": "code",
   "execution_count": 4,
   "metadata": {},
   "outputs": [],
   "source": [
    "#number of seconds that a hens needs to stay at least in a zone to count as a true transition\n",
    "#note that if nbr_sec =3, then from 2019-07-07 22:09:32 to 2019-07-07 22:09:35 , there is at least 2 seconds so its consider\n",
    "#as a transition, but not 32 - 34 \n",
    "nbr_sec = 3\n",
    "\n",
    "#choose folder names\n",
    "#path to initial data\n",
    "path_initial_data = \"data/initial_data\"\n",
    "#define & create path to extracted data\n",
    "path_extracted_data = \"data/extracted_data\""
   ]
  },
  {
   "cell_type": "markdown",
   "metadata": {},
   "source": [
    "# Download initial data"
   ]
  },
  {
   "cell_type": "code",
   "execution_count": 5,
   "metadata": {},
   "outputs": [
    {
     "name": "stderr",
     "output_type": "stream",
     "text": [
      "Warning message in read.table(file = file, header = header, sep = sep, quote = quote, :\n",
      "\"line 1 appears to contain embedded nulls\"Warning message in read.table(file = file, header = header, sep = sep, quote = quote, :\n",
      "\"incomplete final line found by readTableHeader on 'data/initial_data/Video_logfiles_Comparison.xlsx'\""
     ]
    },
    {
     "name": "stdout",
     "output_type": "stream",
     "text": [
      "[1] \"Total running time: 0.533348651727041 mn\"\n"
     ]
    }
   ],
   "source": [
    "start = Sys.time()\n",
    "temp = list.files(path=\"data/initial_data\",pattern=\"log_*\", full.names=TRUE) \n",
    "df = lapply(temp, function(x){read.csv(file=x, header=FALSE, sep=';')}) \n",
    "#add the order of each csv\n",
    "#df_ = lapply(df_, function(x) {cbind(x, ts_order = seq.int(nrow(x)))})\n",
    "end = Sys.time()\n",
    "print(paste0(\"Total running time: \", (end-start)/60,\" mn\"))"
   ]
  },
  {
   "cell_type": "code",
   "execution_count": 6,
   "metadata": {},
   "outputs": [
    {
     "name": "stdout",
     "output_type": "stream",
     "text": [
      "[1] \"Total running time: 0.0802405476570129 mn\"\n"
     ]
    }
   ],
   "source": [
    "#merge each csv\n",
    "start = Sys.time()\n",
    "df = rbindlist(df, fill=TRUE)\n",
    "end = Sys.time()\n",
    "print(paste0(\"Total running time: \", (end-start)/60,\" mn\"))"
   ]
  },
  {
   "cell_type": "code",
   "execution_count": 7,
   "metadata": {},
   "outputs": [],
   "source": [
    "#add column names\n",
    "names(df) = c('Timestamp','Serialnumber_Tag','TagID_Pen_HenID','Zone','Signal','U1','U2')"
   ]
  },
  {
   "cell_type": "code",
   "execution_count": 8,
   "metadata": {},
   "outputs": [
    {
     "name": "stdout",
     "output_type": "stream",
     "text": [
      "[1] 6971572       7\n"
     ]
    },
    {
     "data": {
      "text/html": [
       "<table>\n",
       "<thead><tr><th scope=col>Timestamp</th><th scope=col>Serialnumber_Tag</th><th scope=col>TagID_Pen_HenID</th><th scope=col>Zone</th><th scope=col>Signal</th><th scope=col>U1</th><th scope=col>U2</th></tr></thead>\n",
       "<tbody>\n",
       "\t<tr><td>07.07.2019 22:09:28</td><td>02001560           </td><td>060 4B             </td><td>Rampe 1-5          </td><td>12                 </td><td>2                  </td><td>2                  </td></tr>\n",
       "\t<tr><td>07.07.2019 22:09:28</td><td>020015C6           </td><td>067 4L             </td><td>Rampe 1-5          </td><td>14                 </td><td>2                  </td><td>2                  </td></tr>\n",
       "\t<tr><td>07.07.2019 22:09:29</td><td>02001560           </td><td>060 4B             </td><td>Einstreu 1-5       </td><td>12                 </td><td>2                  </td><td>1                  </td></tr>\n",
       "\t<tr><td>07.07.2019 22:09:29</td><td>020015C6           </td><td>067 4L             </td><td>Einstreu 1-5       </td><td>14                 </td><td>2                  </td><td>1                  </td></tr>\n",
       "\t<tr><td>07.07.2019 22:09:29</td><td>02001560           </td><td>060 4B             </td><td>Rampe 1-5          </td><td>12                 </td><td>2                  </td><td>2                  </td></tr>\n",
       "\t<tr><td>07.07.2019 22:09:29</td><td>020015C6           </td><td>067 4L             </td><td>Rampe 1-5          </td><td>14                 </td><td>2                  </td><td>2                  </td></tr>\n",
       "</tbody>\n",
       "</table>\n"
      ],
      "text/latex": [
       "\\begin{tabular}{r|lllllll}\n",
       " Timestamp & Serialnumber\\_Tag & TagID\\_Pen\\_HenID & Zone & Signal & U1 & U2\\\\\n",
       "\\hline\n",
       "\t 07.07.2019 22:09:28 & 02001560            & 060 4B              & Rampe 1-5           & 12                  & 2                   & 2                  \\\\\n",
       "\t 07.07.2019 22:09:28 & 020015C6            & 067 4L              & Rampe 1-5           & 14                  & 2                   & 2                  \\\\\n",
       "\t 07.07.2019 22:09:29 & 02001560            & 060 4B              & Einstreu 1-5        & 12                  & 2                   & 1                  \\\\\n",
       "\t 07.07.2019 22:09:29 & 020015C6            & 067 4L              & Einstreu 1-5        & 14                  & 2                   & 1                  \\\\\n",
       "\t 07.07.2019 22:09:29 & 02001560            & 060 4B              & Rampe 1-5           & 12                  & 2                   & 2                  \\\\\n",
       "\t 07.07.2019 22:09:29 & 020015C6            & 067 4L              & Rampe 1-5           & 14                  & 2                   & 2                  \\\\\n",
       "\\end{tabular}\n"
      ],
      "text/markdown": [
       "\n",
       "Timestamp | Serialnumber_Tag | TagID_Pen_HenID | Zone | Signal | U1 | U2 | \n",
       "|---|---|---|---|---|---|\n",
       "| 07.07.2019 22:09:28 | 02001560            | 060 4B              | Rampe 1-5           | 12                  | 2                   | 2                   | \n",
       "| 07.07.2019 22:09:28 | 020015C6            | 067 4L              | Rampe 1-5           | 14                  | 2                   | 2                   | \n",
       "| 07.07.2019 22:09:29 | 02001560            | 060 4B              | Einstreu 1-5        | 12                  | 2                   | 1                   | \n",
       "| 07.07.2019 22:09:29 | 020015C6            | 067 4L              | Einstreu 1-5        | 14                  | 2                   | 1                   | \n",
       "| 07.07.2019 22:09:29 | 02001560            | 060 4B              | Rampe 1-5           | 12                  | 2                   | 2                   | \n",
       "| 07.07.2019 22:09:29 | 020015C6            | 067 4L              | Rampe 1-5           | 14                  | 2                   | 2                   | \n",
       "\n",
       "\n"
      ],
      "text/plain": [
       "  Timestamp           Serialnumber_Tag TagID_Pen_HenID Zone         Signal U1\n",
       "1 07.07.2019 22:09:28 02001560         060 4B          Rampe 1-5    12     2 \n",
       "2 07.07.2019 22:09:28 020015C6         067 4L          Rampe 1-5    14     2 \n",
       "3 07.07.2019 22:09:29 02001560         060 4B          Einstreu 1-5 12     2 \n",
       "4 07.07.2019 22:09:29 020015C6         067 4L          Einstreu 1-5 14     2 \n",
       "5 07.07.2019 22:09:29 02001560         060 4B          Rampe 1-5    12     2 \n",
       "6 07.07.2019 22:09:29 020015C6         067 4L          Rampe 1-5    14     2 \n",
       "  U2\n",
       "1 2 \n",
       "2 2 \n",
       "3 1 \n",
       "4 1 \n",
       "5 2 \n",
       "6 2 "
      ]
     },
     "metadata": {},
     "output_type": "display_data"
    }
   ],
   "source": [
    "print(dim(df))\n",
    "head(df)"
   ]
  },
  {
   "cell_type": "markdown",
   "metadata": {},
   "source": [
    "# Data preprocessing"
   ]
  },
  {
   "cell_type": "markdown",
   "metadata": {},
   "source": [
    "#### Remove dates with health care"
   ]
  },
  {
   "cell_type": "code",
   "execution_count": 9,
   "metadata": {},
   "outputs": [
    {
     "name": "stdout",
     "output_type": "stream",
     "text": [
      "[1] \"Total running time: 0.028956330815951 mn\"\n"
     ]
    }
   ],
   "source": [
    "#add day variable and put date into as.POSIXct format\n",
    "start = Sys.time()\n",
    "df$day = as.Date(df$Timestamp, format=\"%d.%m.%Y %H:%M:%S\")\n",
    "df$Timestamp = as.POSIXct(df$Timestamp, format=\"%d.%m.%Y %H:%M:%S\")\n",
    "end = Sys.time()\n",
    "print(paste0(\"Total running time: \", (end-start)/60,\" mn\"))"
   ]
  },
  {
   "cell_type": "code",
   "execution_count": 10,
   "metadata": {},
   "outputs": [
    {
     "name": "stdout",
     "output_type": "stream",
     "text": [
      "[1] 6971572       8\n"
     ]
    },
    {
     "data": {
      "text/html": [
       "<table>\n",
       "<thead><tr><th scope=col>Timestamp</th><th scope=col>Serialnumber_Tag</th><th scope=col>TagID_Pen_HenID</th><th scope=col>Zone</th><th scope=col>Signal</th><th scope=col>U1</th><th scope=col>U2</th><th scope=col>day</th></tr></thead>\n",
       "<tbody>\n",
       "\t<tr><td>2019-07-07 22:09:28</td><td>02001560           </td><td>060 4B             </td><td>Rampe 1-5          </td><td>12                 </td><td>2                  </td><td>2                  </td><td>2019-07-07         </td></tr>\n",
       "\t<tr><td>2019-07-07 22:09:28</td><td>020015C6           </td><td>067 4L             </td><td>Rampe 1-5          </td><td>14                 </td><td>2                  </td><td>2                  </td><td>2019-07-07         </td></tr>\n",
       "\t<tr><td>2019-07-07 22:09:29</td><td>02001560           </td><td>060 4B             </td><td>Einstreu 1-5       </td><td>12                 </td><td>2                  </td><td>1                  </td><td>2019-07-07         </td></tr>\n",
       "\t<tr><td>2019-07-07 22:09:29</td><td>020015C6           </td><td>067 4L             </td><td>Einstreu 1-5       </td><td>14                 </td><td>2                  </td><td>1                  </td><td>2019-07-07         </td></tr>\n",
       "\t<tr><td>2019-07-07 22:09:29</td><td>02001560           </td><td>060 4B             </td><td>Rampe 1-5          </td><td>12                 </td><td>2                  </td><td>2                  </td><td>2019-07-07         </td></tr>\n",
       "\t<tr><td>2019-07-07 22:09:29</td><td>020015C6           </td><td>067 4L             </td><td>Rampe 1-5          </td><td>14                 </td><td>2                  </td><td>2                  </td><td>2019-07-07         </td></tr>\n",
       "</tbody>\n",
       "</table>\n"
      ],
      "text/latex": [
       "\\begin{tabular}{r|llllllll}\n",
       " Timestamp & Serialnumber\\_Tag & TagID\\_Pen\\_HenID & Zone & Signal & U1 & U2 & day\\\\\n",
       "\\hline\n",
       "\t 2019-07-07 22:09:28 & 02001560            & 060 4B              & Rampe 1-5           & 12                  & 2                   & 2                   & 2019-07-07         \\\\\n",
       "\t 2019-07-07 22:09:28 & 020015C6            & 067 4L              & Rampe 1-5           & 14                  & 2                   & 2                   & 2019-07-07         \\\\\n",
       "\t 2019-07-07 22:09:29 & 02001560            & 060 4B              & Einstreu 1-5        & 12                  & 2                   & 1                   & 2019-07-07         \\\\\n",
       "\t 2019-07-07 22:09:29 & 020015C6            & 067 4L              & Einstreu 1-5        & 14                  & 2                   & 1                   & 2019-07-07         \\\\\n",
       "\t 2019-07-07 22:09:29 & 02001560            & 060 4B              & Rampe 1-5           & 12                  & 2                   & 2                   & 2019-07-07         \\\\\n",
       "\t 2019-07-07 22:09:29 & 020015C6            & 067 4L              & Rampe 1-5           & 14                  & 2                   & 2                   & 2019-07-07         \\\\\n",
       "\\end{tabular}\n"
      ],
      "text/markdown": [
       "\n",
       "Timestamp | Serialnumber_Tag | TagID_Pen_HenID | Zone | Signal | U1 | U2 | day | \n",
       "|---|---|---|---|---|---|\n",
       "| 2019-07-07 22:09:28 | 02001560            | 060 4B              | Rampe 1-5           | 12                  | 2                   | 2                   | 2019-07-07          | \n",
       "| 2019-07-07 22:09:28 | 020015C6            | 067 4L              | Rampe 1-5           | 14                  | 2                   | 2                   | 2019-07-07          | \n",
       "| 2019-07-07 22:09:29 | 02001560            | 060 4B              | Einstreu 1-5        | 12                  | 2                   | 1                   | 2019-07-07          | \n",
       "| 2019-07-07 22:09:29 | 020015C6            | 067 4L              | Einstreu 1-5        | 14                  | 2                   | 1                   | 2019-07-07          | \n",
       "| 2019-07-07 22:09:29 | 02001560            | 060 4B              | Rampe 1-5           | 12                  | 2                   | 2                   | 2019-07-07          | \n",
       "| 2019-07-07 22:09:29 | 020015C6            | 067 4L              | Rampe 1-5           | 14                  | 2                   | 2                   | 2019-07-07          | \n",
       "\n",
       "\n"
      ],
      "text/plain": [
       "  Timestamp           Serialnumber_Tag TagID_Pen_HenID Zone         Signal U1\n",
       "1 2019-07-07 22:09:28 02001560         060 4B          Rampe 1-5    12     2 \n",
       "2 2019-07-07 22:09:28 020015C6         067 4L          Rampe 1-5    14     2 \n",
       "3 2019-07-07 22:09:29 02001560         060 4B          Einstreu 1-5 12     2 \n",
       "4 2019-07-07 22:09:29 020015C6         067 4L          Einstreu 1-5 14     2 \n",
       "5 2019-07-07 22:09:29 02001560         060 4B          Rampe 1-5    12     2 \n",
       "6 2019-07-07 22:09:29 020015C6         067 4L          Rampe 1-5    14     2 \n",
       "  U2 day       \n",
       "1 2  2019-07-07\n",
       "2 2  2019-07-07\n",
       "3 1  2019-07-07\n",
       "4 1  2019-07-07\n",
       "5 2  2019-07-07\n",
       "6 2  2019-07-07"
      ]
     },
     "metadata": {},
     "output_type": "display_data"
    }
   ],
   "source": [
    "print(dim(df))\n",
    "head(df)"
   ]
  },
  {
   "cell_type": "code",
   "execution_count": 11,
   "metadata": {},
   "outputs": [],
   "source": [
    "#create list of date to be removed given by Yamenah\n",
    "li_date2remove = c(as.Date('2019-07-09'), as.Date('2019-07-10'), as.Date('2019-07-16'), as.Date('2019-07-17'), \n",
    "                   as.Date('2019-07-23'), as.Date('2019-07-24'), as.Date('2019-07-30'), as.Date('2019-07-31'), \n",
    "                   as.Date('2019-08-06'), as.Date('2019-08-07'), as.Date('2019-08-13'), as.Date('2019-08-14'), \n",
    "                   as.Date('2019-08-19'), as.Date('2019-08-20'), as.Date('2019-08-21'))"
   ]
  },
  {
   "cell_type": "code",
   "execution_count": 12,
   "metadata": {},
   "outputs": [],
   "source": [
    "#filter the dates\n",
    "df = filter(df, !(day %in% li_date2remove))"
   ]
  },
  {
   "cell_type": "code",
   "execution_count": 13,
   "metadata": {},
   "outputs": [
    {
     "name": "stdout",
     "output_type": "stream",
     "text": [
      "[1] 4650744       8\n"
     ]
    },
    {
     "data": {
      "text/html": [
       "<table>\n",
       "<thead><tr><th scope=col>Timestamp</th><th scope=col>Serialnumber_Tag</th><th scope=col>TagID_Pen_HenID</th><th scope=col>Zone</th><th scope=col>Signal</th><th scope=col>U1</th><th scope=col>U2</th><th scope=col>day</th></tr></thead>\n",
       "<tbody>\n",
       "\t<tr><td>2019-07-07 22:09:28</td><td>02001560           </td><td>060 4B             </td><td>Rampe 1-5          </td><td>12                 </td><td>2                  </td><td>2                  </td><td>2019-07-07         </td></tr>\n",
       "\t<tr><td>2019-07-07 22:09:28</td><td>020015C6           </td><td>067 4L             </td><td>Rampe 1-5          </td><td>14                 </td><td>2                  </td><td>2                  </td><td>2019-07-07         </td></tr>\n",
       "\t<tr><td>2019-07-07 22:09:29</td><td>02001560           </td><td>060 4B             </td><td>Einstreu 1-5       </td><td>12                 </td><td>2                  </td><td>1                  </td><td>2019-07-07         </td></tr>\n",
       "\t<tr><td>2019-07-07 22:09:29</td><td>020015C6           </td><td>067 4L             </td><td>Einstreu 1-5       </td><td>14                 </td><td>2                  </td><td>1                  </td><td>2019-07-07         </td></tr>\n",
       "\t<tr><td>2019-07-07 22:09:29</td><td>02001560           </td><td>060 4B             </td><td>Rampe 1-5          </td><td>12                 </td><td>2                  </td><td>2                  </td><td>2019-07-07         </td></tr>\n",
       "\t<tr><td>2019-07-07 22:09:29</td><td>020015C6           </td><td>067 4L             </td><td>Rampe 1-5          </td><td>14                 </td><td>2                  </td><td>2                  </td><td>2019-07-07         </td></tr>\n",
       "</tbody>\n",
       "</table>\n"
      ],
      "text/latex": [
       "\\begin{tabular}{r|llllllll}\n",
       " Timestamp & Serialnumber\\_Tag & TagID\\_Pen\\_HenID & Zone & Signal & U1 & U2 & day\\\\\n",
       "\\hline\n",
       "\t 2019-07-07 22:09:28 & 02001560            & 060 4B              & Rampe 1-5           & 12                  & 2                   & 2                   & 2019-07-07         \\\\\n",
       "\t 2019-07-07 22:09:28 & 020015C6            & 067 4L              & Rampe 1-5           & 14                  & 2                   & 2                   & 2019-07-07         \\\\\n",
       "\t 2019-07-07 22:09:29 & 02001560            & 060 4B              & Einstreu 1-5        & 12                  & 2                   & 1                   & 2019-07-07         \\\\\n",
       "\t 2019-07-07 22:09:29 & 020015C6            & 067 4L              & Einstreu 1-5        & 14                  & 2                   & 1                   & 2019-07-07         \\\\\n",
       "\t 2019-07-07 22:09:29 & 02001560            & 060 4B              & Rampe 1-5           & 12                  & 2                   & 2                   & 2019-07-07         \\\\\n",
       "\t 2019-07-07 22:09:29 & 020015C6            & 067 4L              & Rampe 1-5           & 14                  & 2                   & 2                   & 2019-07-07         \\\\\n",
       "\\end{tabular}\n"
      ],
      "text/markdown": [
       "\n",
       "Timestamp | Serialnumber_Tag | TagID_Pen_HenID | Zone | Signal | U1 | U2 | day | \n",
       "|---|---|---|---|---|---|\n",
       "| 2019-07-07 22:09:28 | 02001560            | 060 4B              | Rampe 1-5           | 12                  | 2                   | 2                   | 2019-07-07          | \n",
       "| 2019-07-07 22:09:28 | 020015C6            | 067 4L              | Rampe 1-5           | 14                  | 2                   | 2                   | 2019-07-07          | \n",
       "| 2019-07-07 22:09:29 | 02001560            | 060 4B              | Einstreu 1-5        | 12                  | 2                   | 1                   | 2019-07-07          | \n",
       "| 2019-07-07 22:09:29 | 020015C6            | 067 4L              | Einstreu 1-5        | 14                  | 2                   | 1                   | 2019-07-07          | \n",
       "| 2019-07-07 22:09:29 | 02001560            | 060 4B              | Rampe 1-5           | 12                  | 2                   | 2                   | 2019-07-07          | \n",
       "| 2019-07-07 22:09:29 | 020015C6            | 067 4L              | Rampe 1-5           | 14                  | 2                   | 2                   | 2019-07-07          | \n",
       "\n",
       "\n"
      ],
      "text/plain": [
       "  Timestamp           Serialnumber_Tag TagID_Pen_HenID Zone         Signal U1\n",
       "1 2019-07-07 22:09:28 02001560         060 4B          Rampe 1-5    12     2 \n",
       "2 2019-07-07 22:09:28 020015C6         067 4L          Rampe 1-5    14     2 \n",
       "3 2019-07-07 22:09:29 02001560         060 4B          Einstreu 1-5 12     2 \n",
       "4 2019-07-07 22:09:29 020015C6         067 4L          Einstreu 1-5 14     2 \n",
       "5 2019-07-07 22:09:29 02001560         060 4B          Rampe 1-5    12     2 \n",
       "6 2019-07-07 22:09:29 020015C6         067 4L          Rampe 1-5    14     2 \n",
       "  U2 day       \n",
       "1 2  2019-07-07\n",
       "2 2  2019-07-07\n",
       "3 1  2019-07-07\n",
       "4 1  2019-07-07\n",
       "5 2  2019-07-07\n",
       "6 2  2019-07-07"
      ]
     },
     "metadata": {},
     "output_type": "display_data"
    }
   ],
   "source": [
    "print(dim(df))\n",
    "head(df)"
   ]
  },
  {
   "cell_type": "markdown",
   "metadata": {},
   "source": [
    "#### TagID_Pen_HenID variable"
   ]
  },
  {
   "cell_type": "code",
   "execution_count": 14,
   "metadata": {},
   "outputs": [
    {
     "name": "stdout",
     "output_type": "stream",
     "text": [
      "[1] \"Total running time: 0.025981818901168 mn\"\n"
     ]
    },
    {
     "data": {
      "text/html": [
       "'we lost 5766 records due to TagID_Pen_HenID correction, we are left with 4644978 records'"
      ],
      "text/latex": [
       "'we lost 5766 records due to TagID\\_Pen\\_HenID correction, we are left with 4644978 records'"
      ],
      "text/markdown": [
       "'we lost 5766 records due to TagID_Pen_HenID correction, we are left with 4644978 records'"
      ],
      "text/plain": [
       "[1] \"we lost 5766 records due to TagID_Pen_HenID correction, we are left with 4644978 records\""
      ]
     },
     "metadata": {},
     "output_type": "display_data"
    }
   ],
   "source": [
    "#remove records associated to '15C3' HenID\n",
    "start = Sys.time()\n",
    "#replace'_' by ''\n",
    "df$TagID_Pen_HenID = lapply(df$TagID_Pen_HenID, function(x){gsub(\"_\", \" \", x)})\n",
    "x0 = dim(df)\n",
    "df = df[df$TagID_Pen_HenID!='15C3', ]\n",
    "#remove record associated to wrong HenID\n",
    "end = Sys.time()\n",
    "print(paste0(\"Total running time: \", (end-start)/60,\" mn\"))\n",
    "paste0(\"we lost \", x0[[1]]-dim(df)[[1]], \" records due to TagID_Pen_HenID correction, we are left with \", \n",
    "       dim(df)[[1]], ' records')"
   ]
  },
  {
   "cell_type": "code",
   "execution_count": 15,
   "metadata": {
    "scrolled": true
   },
   "outputs": [
    {
     "name": "stdout",
     "output_type": "stream",
     "text": [
      "[1] 4644978       8\n"
     ]
    },
    {
     "data": {
      "text/html": [
       "<table>\n",
       "<thead><tr><th scope=col>Timestamp</th><th scope=col>Serialnumber_Tag</th><th scope=col>TagID_Pen_HenID</th><th scope=col>Zone</th><th scope=col>Signal</th><th scope=col>U1</th><th scope=col>U2</th><th scope=col>day</th></tr></thead>\n",
       "<tbody>\n",
       "\t<tr><td>2019-07-07 22:09:28</td><td>02001560           </td><td>060 4B             </td><td>Rampe 1-5          </td><td>12                 </td><td>2                  </td><td>2                  </td><td>2019-07-07         </td></tr>\n",
       "\t<tr><td>2019-07-07 22:09:28</td><td>020015C6           </td><td>067 4L             </td><td>Rampe 1-5          </td><td>14                 </td><td>2                  </td><td>2                  </td><td>2019-07-07         </td></tr>\n",
       "\t<tr><td>2019-07-07 22:09:29</td><td>02001560           </td><td>060 4B             </td><td>Einstreu 1-5       </td><td>12                 </td><td>2                  </td><td>1                  </td><td>2019-07-07         </td></tr>\n",
       "\t<tr><td>2019-07-07 22:09:29</td><td>020015C6           </td><td>067 4L             </td><td>Einstreu 1-5       </td><td>14                 </td><td>2                  </td><td>1                  </td><td>2019-07-07         </td></tr>\n",
       "\t<tr><td>2019-07-07 22:09:29</td><td>02001560           </td><td>060 4B             </td><td>Rampe 1-5          </td><td>12                 </td><td>2                  </td><td>2                  </td><td>2019-07-07         </td></tr>\n",
       "\t<tr><td>2019-07-07 22:09:29</td><td>020015C6           </td><td>067 4L             </td><td>Rampe 1-5          </td><td>14                 </td><td>2                  </td><td>2                  </td><td>2019-07-07         </td></tr>\n",
       "</tbody>\n",
       "</table>\n"
      ],
      "text/latex": [
       "\\begin{tabular}{r|llllllll}\n",
       " Timestamp & Serialnumber\\_Tag & TagID\\_Pen\\_HenID & Zone & Signal & U1 & U2 & day\\\\\n",
       "\\hline\n",
       "\t 2019-07-07 22:09:28 & 02001560            & 060 4B              & Rampe 1-5           & 12                  & 2                   & 2                   & 2019-07-07         \\\\\n",
       "\t 2019-07-07 22:09:28 & 020015C6            & 067 4L              & Rampe 1-5           & 14                  & 2                   & 2                   & 2019-07-07         \\\\\n",
       "\t 2019-07-07 22:09:29 & 02001560            & 060 4B              & Einstreu 1-5        & 12                  & 2                   & 1                   & 2019-07-07         \\\\\n",
       "\t 2019-07-07 22:09:29 & 020015C6            & 067 4L              & Einstreu 1-5        & 14                  & 2                   & 1                   & 2019-07-07         \\\\\n",
       "\t 2019-07-07 22:09:29 & 02001560            & 060 4B              & Rampe 1-5           & 12                  & 2                   & 2                   & 2019-07-07         \\\\\n",
       "\t 2019-07-07 22:09:29 & 020015C6            & 067 4L              & Rampe 1-5           & 14                  & 2                   & 2                   & 2019-07-07         \\\\\n",
       "\\end{tabular}\n"
      ],
      "text/markdown": [
       "\n",
       "Timestamp | Serialnumber_Tag | TagID_Pen_HenID | Zone | Signal | U1 | U2 | day | \n",
       "|---|---|---|---|---|---|\n",
       "| 2019-07-07 22:09:28 | 02001560            | 060 4B              | Rampe 1-5           | 12                  | 2                   | 2                   | 2019-07-07          | \n",
       "| 2019-07-07 22:09:28 | 020015C6            | 067 4L              | Rampe 1-5           | 14                  | 2                   | 2                   | 2019-07-07          | \n",
       "| 2019-07-07 22:09:29 | 02001560            | 060 4B              | Einstreu 1-5        | 12                  | 2                   | 1                   | 2019-07-07          | \n",
       "| 2019-07-07 22:09:29 | 020015C6            | 067 4L              | Einstreu 1-5        | 14                  | 2                   | 1                   | 2019-07-07          | \n",
       "| 2019-07-07 22:09:29 | 02001560            | 060 4B              | Rampe 1-5           | 12                  | 2                   | 2                   | 2019-07-07          | \n",
       "| 2019-07-07 22:09:29 | 020015C6            | 067 4L              | Rampe 1-5           | 14                  | 2                   | 2                   | 2019-07-07          | \n",
       "\n",
       "\n"
      ],
      "text/plain": [
       "  Timestamp           Serialnumber_Tag TagID_Pen_HenID Zone         Signal U1\n",
       "1 2019-07-07 22:09:28 02001560         060 4B          Rampe 1-5    12     2 \n",
       "2 2019-07-07 22:09:28 020015C6         067 4L          Rampe 1-5    14     2 \n",
       "3 2019-07-07 22:09:29 02001560         060 4B          Einstreu 1-5 12     2 \n",
       "4 2019-07-07 22:09:29 020015C6         067 4L          Einstreu 1-5 14     2 \n",
       "5 2019-07-07 22:09:29 02001560         060 4B          Rampe 1-5    12     2 \n",
       "6 2019-07-07 22:09:29 020015C6         067 4L          Rampe 1-5    14     2 \n",
       "  U2 day       \n",
       "1 2  2019-07-07\n",
       "2 2  2019-07-07\n",
       "3 1  2019-07-07\n",
       "4 1  2019-07-07\n",
       "5 2  2019-07-07\n",
       "6 2  2019-07-07"
      ]
     },
     "metadata": {},
     "output_type": "display_data"
    }
   ],
   "source": [
    "print(dim(df))\n",
    "head(df)"
   ]
  },
  {
   "cell_type": "code",
   "execution_count": 16,
   "metadata": {},
   "outputs": [
    {
     "data": {
      "text/html": [
       "<table>\n",
       "<thead><tr><th></th><th scope=col>Timestamp</th><th scope=col>Serialnumber_Tag</th><th scope=col>TagID_Pen_HenID</th><th scope=col>Zone</th><th scope=col>Signal</th><th scope=col>U1</th><th scope=col>U2</th><th scope=col>day</th></tr></thead>\n",
       "<tbody>\n",
       "\t<tr><th scope=row>NA</th><td>NA  </td><td>NA  </td><td>NULL</td><td>NA  </td><td>NA  </td><td>NA  </td><td>NA  </td><td>NA  </td></tr>\n",
       "</tbody>\n",
       "</table>\n"
      ],
      "text/latex": [
       "\\begin{tabular}{r|llllllll}\n",
       "  & Timestamp & Serialnumber\\_Tag & TagID\\_Pen\\_HenID & Zone & Signal & U1 & U2 & day\\\\\n",
       "\\hline\n",
       "\tNA & NA   & NA   & NULL & NA   & NA   & NA   & NA   & NA  \\\\\n",
       "\\end{tabular}\n"
      ],
      "text/markdown": [
       "\n",
       "| <!--/--> | Timestamp | Serialnumber_Tag | TagID_Pen_HenID | Zone | Signal | U1 | U2 | day | \n",
       "|---|\n",
       "| NA | NA   | NA   | NULL | NA   | NA   | NA   | NA   | NA   | \n",
       "\n",
       "\n"
      ],
      "text/plain": [
       "   Timestamp Serialnumber_Tag TagID_Pen_HenID Zone Signal U1 U2 day \n",
       "NA <NA>      NA               NULL            NA   NA     NA NA <NA>"
      ]
     },
     "metadata": {},
     "output_type": "display_data"
    }
   ],
   "source": [
    "df[rowSums(is.na(df)) == ncol(df)-1, ]"
   ]
  },
  {
   "cell_type": "code",
   "execution_count": 17,
   "metadata": {},
   "outputs": [],
   "source": [
    "df = df[rowSums(is.na(df)) != ncol(df)-1, ]"
   ]
  },
  {
   "cell_type": "code",
   "execution_count": 18,
   "metadata": {},
   "outputs": [],
   "source": [
    "#add henID and PenID\n",
    "df$HenID = lapply(df$TagID_Pen_HenID, function(x){paste('hen',strsplit(x,' ')[[1]][2],sep='_')})\n",
    "df$PenID = lapply(df$TagID_Pen_HenID, function(x){substring( strsplit(x,' ')[[1]][2], 1, \n",
    "                                                                    str_length( strsplit(x,' ')[[1]][2])-1)})"
   ]
  },
  {
   "cell_type": "code",
   "execution_count": 19,
   "metadata": {},
   "outputs": [
    {
     "name": "stdout",
     "output_type": "stream",
     "text": [
      "[1] 4644977      10\n"
     ]
    },
    {
     "data": {
      "text/html": [
       "<table>\n",
       "<thead><tr><th scope=col>Timestamp</th><th scope=col>Serialnumber_Tag</th><th scope=col>TagID_Pen_HenID</th><th scope=col>Zone</th><th scope=col>Signal</th><th scope=col>U1</th><th scope=col>U2</th><th scope=col>day</th><th scope=col>HenID</th><th scope=col>PenID</th></tr></thead>\n",
       "<tbody>\n",
       "\t<tr><td>2019-07-07 22:09:28</td><td>02001560           </td><td>060 4B             </td><td>Rampe 1-5          </td><td>12                 </td><td>2                  </td><td>2                  </td><td>2019-07-07         </td><td>hen_4B             </td><td>4                  </td></tr>\n",
       "\t<tr><td>2019-07-07 22:09:28</td><td>020015C6           </td><td>067 4L             </td><td>Rampe 1-5          </td><td>14                 </td><td>2                  </td><td>2                  </td><td>2019-07-07         </td><td>hen_4L             </td><td>4                  </td></tr>\n",
       "\t<tr><td>2019-07-07 22:09:29</td><td>02001560           </td><td>060 4B             </td><td>Einstreu 1-5       </td><td>12                 </td><td>2                  </td><td>1                  </td><td>2019-07-07         </td><td>hen_4B             </td><td>4                  </td></tr>\n",
       "\t<tr><td>2019-07-07 22:09:29</td><td>020015C6           </td><td>067 4L             </td><td>Einstreu 1-5       </td><td>14                 </td><td>2                  </td><td>1                  </td><td>2019-07-07         </td><td>hen_4L             </td><td>4                  </td></tr>\n",
       "\t<tr><td>2019-07-07 22:09:29</td><td>02001560           </td><td>060 4B             </td><td>Rampe 1-5          </td><td>12                 </td><td>2                  </td><td>2                  </td><td>2019-07-07         </td><td>hen_4B             </td><td>4                  </td></tr>\n",
       "\t<tr><td>2019-07-07 22:09:29</td><td>020015C6           </td><td>067 4L             </td><td>Rampe 1-5          </td><td>14                 </td><td>2                  </td><td>2                  </td><td>2019-07-07         </td><td>hen_4L             </td><td>4                  </td></tr>\n",
       "</tbody>\n",
       "</table>\n"
      ],
      "text/latex": [
       "\\begin{tabular}{r|llllllllll}\n",
       " Timestamp & Serialnumber\\_Tag & TagID\\_Pen\\_HenID & Zone & Signal & U1 & U2 & day & HenID & PenID\\\\\n",
       "\\hline\n",
       "\t 2019-07-07 22:09:28 & 02001560            & 060 4B              & Rampe 1-5           & 12                  & 2                   & 2                   & 2019-07-07          & hen\\_4B            & 4                  \\\\\n",
       "\t 2019-07-07 22:09:28 & 020015C6            & 067 4L              & Rampe 1-5           & 14                  & 2                   & 2                   & 2019-07-07          & hen\\_4L            & 4                  \\\\\n",
       "\t 2019-07-07 22:09:29 & 02001560            & 060 4B              & Einstreu 1-5        & 12                  & 2                   & 1                   & 2019-07-07          & hen\\_4B            & 4                  \\\\\n",
       "\t 2019-07-07 22:09:29 & 020015C6            & 067 4L              & Einstreu 1-5        & 14                  & 2                   & 1                   & 2019-07-07          & hen\\_4L            & 4                  \\\\\n",
       "\t 2019-07-07 22:09:29 & 02001560            & 060 4B              & Rampe 1-5           & 12                  & 2                   & 2                   & 2019-07-07          & hen\\_4B            & 4                  \\\\\n",
       "\t 2019-07-07 22:09:29 & 020015C6            & 067 4L              & Rampe 1-5           & 14                  & 2                   & 2                   & 2019-07-07          & hen\\_4L            & 4                  \\\\\n",
       "\\end{tabular}\n"
      ],
      "text/markdown": [
       "\n",
       "Timestamp | Serialnumber_Tag | TagID_Pen_HenID | Zone | Signal | U1 | U2 | day | HenID | PenID | \n",
       "|---|---|---|---|---|---|\n",
       "| 2019-07-07 22:09:28 | 02001560            | 060 4B              | Rampe 1-5           | 12                  | 2                   | 2                   | 2019-07-07          | hen_4B              | 4                   | \n",
       "| 2019-07-07 22:09:28 | 020015C6            | 067 4L              | Rampe 1-5           | 14                  | 2                   | 2                   | 2019-07-07          | hen_4L              | 4                   | \n",
       "| 2019-07-07 22:09:29 | 02001560            | 060 4B              | Einstreu 1-5        | 12                  | 2                   | 1                   | 2019-07-07          | hen_4B              | 4                   | \n",
       "| 2019-07-07 22:09:29 | 020015C6            | 067 4L              | Einstreu 1-5        | 14                  | 2                   | 1                   | 2019-07-07          | hen_4L              | 4                   | \n",
       "| 2019-07-07 22:09:29 | 02001560            | 060 4B              | Rampe 1-5           | 12                  | 2                   | 2                   | 2019-07-07          | hen_4B              | 4                   | \n",
       "| 2019-07-07 22:09:29 | 020015C6            | 067 4L              | Rampe 1-5           | 14                  | 2                   | 2                   | 2019-07-07          | hen_4L              | 4                   | \n",
       "\n",
       "\n"
      ],
      "text/plain": [
       "  Timestamp           Serialnumber_Tag TagID_Pen_HenID Zone         Signal U1\n",
       "1 2019-07-07 22:09:28 02001560         060 4B          Rampe 1-5    12     2 \n",
       "2 2019-07-07 22:09:28 020015C6         067 4L          Rampe 1-5    14     2 \n",
       "3 2019-07-07 22:09:29 02001560         060 4B          Einstreu 1-5 12     2 \n",
       "4 2019-07-07 22:09:29 020015C6         067 4L          Einstreu 1-5 14     2 \n",
       "5 2019-07-07 22:09:29 02001560         060 4B          Rampe 1-5    12     2 \n",
       "6 2019-07-07 22:09:29 020015C6         067 4L          Rampe 1-5    14     2 \n",
       "  U2 day        HenID  PenID\n",
       "1 2  2019-07-07 hen_4B 4    \n",
       "2 2  2019-07-07 hen_4L 4    \n",
       "3 1  2019-07-07 hen_4B 4    \n",
       "4 1  2019-07-07 hen_4L 4    \n",
       "5 2  2019-07-07 hen_4B 4    \n",
       "6 2  2019-07-07 hen_4L 4    "
      ]
     },
     "metadata": {},
     "output_type": "display_data"
    }
   ],
   "source": [
    "print(dim(df))\n",
    "head(df)"
   ]
  },
  {
   "cell_type": "markdown",
   "metadata": {},
   "source": [
    "#### keep only usefull variables"
   ]
  },
  {
   "cell_type": "code",
   "execution_count": 20,
   "metadata": {},
   "outputs": [
    {
     "name": "stdout",
     "output_type": "stream",
     "text": [
      "[1] 4644977       5\n"
     ]
    },
    {
     "data": {
      "text/html": [
       "<table>\n",
       "<thead><tr><th scope=col>Timestamp</th><th scope=col>HenID</th><th scope=col>Zone</th><th scope=col>PenID</th><th scope=col>day</th></tr></thead>\n",
       "<tbody>\n",
       "\t<tr><td>2019-07-07 22:09:28</td><td>hen_4B             </td><td>Rampe 1-5          </td><td>4                  </td><td>2019-07-07         </td></tr>\n",
       "\t<tr><td>2019-07-07 22:09:28</td><td>hen_4L             </td><td>Rampe 1-5          </td><td>4                  </td><td>2019-07-07         </td></tr>\n",
       "\t<tr><td>2019-07-07 22:09:29</td><td>hen_4B             </td><td>Einstreu 1-5       </td><td>4                  </td><td>2019-07-07         </td></tr>\n",
       "\t<tr><td>2019-07-07 22:09:29</td><td>hen_4L             </td><td>Einstreu 1-5       </td><td>4                  </td><td>2019-07-07         </td></tr>\n",
       "\t<tr><td>2019-07-07 22:09:29</td><td>hen_4B             </td><td>Rampe 1-5          </td><td>4                  </td><td>2019-07-07         </td></tr>\n",
       "\t<tr><td>2019-07-07 22:09:29</td><td>hen_4L             </td><td>Rampe 1-5          </td><td>4                  </td><td>2019-07-07         </td></tr>\n",
       "</tbody>\n",
       "</table>\n"
      ],
      "text/latex": [
       "\\begin{tabular}{r|lllll}\n",
       " Timestamp & HenID & Zone & PenID & day\\\\\n",
       "\\hline\n",
       "\t 2019-07-07 22:09:28 & hen\\_4B            & Rampe 1-5           & 4                   & 2019-07-07         \\\\\n",
       "\t 2019-07-07 22:09:28 & hen\\_4L            & Rampe 1-5           & 4                   & 2019-07-07         \\\\\n",
       "\t 2019-07-07 22:09:29 & hen\\_4B            & Einstreu 1-5        & 4                   & 2019-07-07         \\\\\n",
       "\t 2019-07-07 22:09:29 & hen\\_4L            & Einstreu 1-5        & 4                   & 2019-07-07         \\\\\n",
       "\t 2019-07-07 22:09:29 & hen\\_4B            & Rampe 1-5           & 4                   & 2019-07-07         \\\\\n",
       "\t 2019-07-07 22:09:29 & hen\\_4L            & Rampe 1-5           & 4                   & 2019-07-07         \\\\\n",
       "\\end{tabular}\n"
      ],
      "text/markdown": [
       "\n",
       "Timestamp | HenID | Zone | PenID | day | \n",
       "|---|---|---|---|---|---|\n",
       "| 2019-07-07 22:09:28 | hen_4B              | Rampe 1-5           | 4                   | 2019-07-07          | \n",
       "| 2019-07-07 22:09:28 | hen_4L              | Rampe 1-5           | 4                   | 2019-07-07          | \n",
       "| 2019-07-07 22:09:29 | hen_4B              | Einstreu 1-5        | 4                   | 2019-07-07          | \n",
       "| 2019-07-07 22:09:29 | hen_4L              | Einstreu 1-5        | 4                   | 2019-07-07          | \n",
       "| 2019-07-07 22:09:29 | hen_4B              | Rampe 1-5           | 4                   | 2019-07-07          | \n",
       "| 2019-07-07 22:09:29 | hen_4L              | Rampe 1-5           | 4                   | 2019-07-07          | \n",
       "\n",
       "\n"
      ],
      "text/plain": [
       "  Timestamp           HenID  Zone         PenID day       \n",
       "1 2019-07-07 22:09:28 hen_4B Rampe 1-5    4     2019-07-07\n",
       "2 2019-07-07 22:09:28 hen_4L Rampe 1-5    4     2019-07-07\n",
       "3 2019-07-07 22:09:29 hen_4B Einstreu 1-5 4     2019-07-07\n",
       "4 2019-07-07 22:09:29 hen_4L Einstreu 1-5 4     2019-07-07\n",
       "5 2019-07-07 22:09:29 hen_4B Rampe 1-5    4     2019-07-07\n",
       "6 2019-07-07 22:09:29 hen_4L Rampe 1-5    4     2019-07-07"
      ]
     },
     "metadata": {},
     "output_type": "display_data"
    }
   ],
   "source": [
    "df = select(df, Timestamp, HenID, Zone, PenID, day)\n",
    "print(dim(df))\n",
    "head(df)"
   ]
  },
  {
   "cell_type": "markdown",
   "metadata": {},
   "source": [
    "#### sort by date (timestamp), in case the log files were not open in the right order"
   ]
  },
  {
   "cell_type": "code",
   "execution_count": 21,
   "metadata": {},
   "outputs": [
    {
     "name": "stdout",
     "output_type": "stream",
     "text": [
      "[1] 4644977       5\n"
     ]
    },
    {
     "data": {
      "text/html": [
       "<table>\n",
       "<thead><tr><th scope=col>Timestamp</th><th scope=col>HenID</th><th scope=col>Zone</th><th scope=col>PenID</th><th scope=col>day</th></tr></thead>\n",
       "<tbody>\n",
       "\t<tr><td>2019-07-07 22:09:28</td><td>hen_4B             </td><td>Rampe 1-5          </td><td>4                  </td><td>2019-07-07         </td></tr>\n",
       "\t<tr><td>2019-07-07 22:09:28</td><td>hen_4L             </td><td>Rampe 1-5          </td><td>4                  </td><td>2019-07-07         </td></tr>\n",
       "\t<tr><td>2019-07-07 22:09:29</td><td>hen_4B             </td><td>Einstreu 1-5       </td><td>4                  </td><td>2019-07-07         </td></tr>\n",
       "\t<tr><td>2019-07-07 22:09:29</td><td>hen_4L             </td><td>Einstreu 1-5       </td><td>4                  </td><td>2019-07-07         </td></tr>\n",
       "\t<tr><td>2019-07-07 22:09:29</td><td>hen_4B             </td><td>Rampe 1-5          </td><td>4                  </td><td>2019-07-07         </td></tr>\n",
       "\t<tr><td>2019-07-07 22:09:29</td><td>hen_4L             </td><td>Rampe 1-5          </td><td>4                  </td><td>2019-07-07         </td></tr>\n",
       "</tbody>\n",
       "</table>\n"
      ],
      "text/latex": [
       "\\begin{tabular}{r|lllll}\n",
       " Timestamp & HenID & Zone & PenID & day\\\\\n",
       "\\hline\n",
       "\t 2019-07-07 22:09:28 & hen\\_4B            & Rampe 1-5           & 4                   & 2019-07-07         \\\\\n",
       "\t 2019-07-07 22:09:28 & hen\\_4L            & Rampe 1-5           & 4                   & 2019-07-07         \\\\\n",
       "\t 2019-07-07 22:09:29 & hen\\_4B            & Einstreu 1-5        & 4                   & 2019-07-07         \\\\\n",
       "\t 2019-07-07 22:09:29 & hen\\_4L            & Einstreu 1-5        & 4                   & 2019-07-07         \\\\\n",
       "\t 2019-07-07 22:09:29 & hen\\_4B            & Rampe 1-5           & 4                   & 2019-07-07         \\\\\n",
       "\t 2019-07-07 22:09:29 & hen\\_4L            & Rampe 1-5           & 4                   & 2019-07-07         \\\\\n",
       "\\end{tabular}\n"
      ],
      "text/markdown": [
       "\n",
       "Timestamp | HenID | Zone | PenID | day | \n",
       "|---|---|---|---|---|---|\n",
       "| 2019-07-07 22:09:28 | hen_4B              | Rampe 1-5           | 4                   | 2019-07-07          | \n",
       "| 2019-07-07 22:09:28 | hen_4L              | Rampe 1-5           | 4                   | 2019-07-07          | \n",
       "| 2019-07-07 22:09:29 | hen_4B              | Einstreu 1-5        | 4                   | 2019-07-07          | \n",
       "| 2019-07-07 22:09:29 | hen_4L              | Einstreu 1-5        | 4                   | 2019-07-07          | \n",
       "| 2019-07-07 22:09:29 | hen_4B              | Rampe 1-5           | 4                   | 2019-07-07          | \n",
       "| 2019-07-07 22:09:29 | hen_4L              | Rampe 1-5           | 4                   | 2019-07-07          | \n",
       "\n",
       "\n"
      ],
      "text/plain": [
       "  Timestamp           HenID  Zone         PenID day       \n",
       "1 2019-07-07 22:09:28 hen_4B Rampe 1-5    4     2019-07-07\n",
       "2 2019-07-07 22:09:28 hen_4L Rampe 1-5    4     2019-07-07\n",
       "3 2019-07-07 22:09:29 hen_4B Einstreu 1-5 4     2019-07-07\n",
       "4 2019-07-07 22:09:29 hen_4L Einstreu 1-5 4     2019-07-07\n",
       "5 2019-07-07 22:09:29 hen_4B Rampe 1-5    4     2019-07-07\n",
       "6 2019-07-07 22:09:29 hen_4L Rampe 1-5    4     2019-07-07"
      ]
     },
     "metadata": {},
     "output_type": "display_data"
    }
   ],
   "source": [
    "#sort by date (timestamp), in case the log files were not open in the right order\n",
    "df = df[order(df$Timestamp),]\n",
    "print(dim(df))\n",
    "head(df)"
   ]
  },
  {
   "cell_type": "markdown",
   "metadata": {},
   "source": [
    "#### remove zone associated to wrong pen"
   ]
  },
  {
   "cell_type": "code",
   "execution_count": 22,
   "metadata": {},
   "outputs": [],
   "source": [
    "dico_zone_matching <- hash()\n",
    "dico_zone_matching$'Rampe 1-5' = c('1','2','3','4','5')\n",
    "dico_zone_matching$'Rampe 6-10' = c('6','7','8','9','10')\n",
    "dico_zone_matching$'Einstreu 1-5' = c('1','2','3','4','5')\n",
    "dico_zone_matching$'Einstreu 6-10' = c('6','7','8','9','10')\n",
    "dico_zone_matching$'Box1' = c('1')\n",
    "dico_zone_matching$'Box2' = c('1')\n",
    "dico_zone_matching$'Box3' = c('2')\n",
    "dico_zone_matching$'Box4' = c('2')\n",
    "dico_zone_matching$'Box5' = c('3')\n",
    "dico_zone_matching$'Box6' = c('3')\n",
    "dico_zone_matching$'Box7' = c('4')\n",
    "dico_zone_matching$'Box8' = c('4')\n",
    "dico_zone_matching$'Box9' = c('5')\n",
    "dico_zone_matching$'Box10' = c('5')\n",
    "dico_zone_matching$'Box11' = c('6')\n",
    "dico_zone_matching$'Box12' = c('6')\n",
    "dico_zone_matching$'Box13' = c('7')\n",
    "dico_zone_matching$'Box14' = c('7')\n",
    "dico_zone_matching$'Box15' = c('8')\n",
    "dico_zone_matching$'Box16' = c('8')\n",
    "dico_zone_matching$'Box17' = c('9')\n",
    "dico_zone_matching$'Box18' = c('9')\n",
    "dico_zone_matching$'Box19' = c('10')\n",
    "dico_zone_matching$'Box20' = c('10')\n",
    "dico_zone_matching$' ' = c('1','2','3','4','5','6','7','8','9','10')"
   ]
  },
  {
   "cell_type": "code",
   "execution_count": 23,
   "metadata": {},
   "outputs": [
    {
     "data": {
      "text/html": [],
      "text/latex": [],
      "text/markdown": [],
      "text/plain": [
       "logical(0)"
      ]
     },
     "metadata": {},
     "output_type": "display_data"
    },
    {
     "data": {
      "text/html": [
       "<table>\n",
       "<thead><tr><th scope=col>Timestamp</th><th scope=col>HenID</th><th scope=col>Zone</th><th scope=col>PenID</th><th scope=col>day</th></tr></thead>\n",
       "<tbody>\n",
       "\t<tr><td>2019-07-07 22:09:28</td><td>hen_4B             </td><td>Rampe 1-5          </td><td>4                  </td><td>2019-07-07         </td></tr>\n",
       "\t<tr><td>2019-07-07 22:09:28</td><td>hen_4L             </td><td>Rampe 1-5          </td><td>4                  </td><td>2019-07-07         </td></tr>\n",
       "\t<tr><td>2019-07-07 22:09:29</td><td>hen_4B             </td><td>Einstreu 1-5       </td><td>4                  </td><td>2019-07-07         </td></tr>\n",
       "\t<tr><td>2019-07-07 22:09:29</td><td>hen_4L             </td><td>Einstreu 1-5       </td><td>4                  </td><td>2019-07-07         </td></tr>\n",
       "\t<tr><td>2019-07-07 22:09:29</td><td>hen_4B             </td><td>Rampe 1-5          </td><td>4                  </td><td>2019-07-07         </td></tr>\n",
       "\t<tr><td>2019-07-07 22:09:29</td><td>hen_4L             </td><td>Rampe 1-5          </td><td>4                  </td><td>2019-07-07         </td></tr>\n",
       "</tbody>\n",
       "</table>\n"
      ],
      "text/latex": [
       "\\begin{tabular}{r|lllll}\n",
       " Timestamp & HenID & Zone & PenID & day\\\\\n",
       "\\hline\n",
       "\t 2019-07-07 22:09:28 & hen\\_4B            & Rampe 1-5           & 4                   & 2019-07-07         \\\\\n",
       "\t 2019-07-07 22:09:28 & hen\\_4L            & Rampe 1-5           & 4                   & 2019-07-07         \\\\\n",
       "\t 2019-07-07 22:09:29 & hen\\_4B            & Einstreu 1-5        & 4                   & 2019-07-07         \\\\\n",
       "\t 2019-07-07 22:09:29 & hen\\_4L            & Einstreu 1-5        & 4                   & 2019-07-07         \\\\\n",
       "\t 2019-07-07 22:09:29 & hen\\_4B            & Rampe 1-5           & 4                   & 2019-07-07         \\\\\n",
       "\t 2019-07-07 22:09:29 & hen\\_4L            & Rampe 1-5           & 4                   & 2019-07-07         \\\\\n",
       "\\end{tabular}\n"
      ],
      "text/markdown": [
       "\n",
       "Timestamp | HenID | Zone | PenID | day | \n",
       "|---|---|---|---|---|---|\n",
       "| 2019-07-07 22:09:28 | hen_4B              | Rampe 1-5           | 4                   | 2019-07-07          | \n",
       "| 2019-07-07 22:09:28 | hen_4L              | Rampe 1-5           | 4                   | 2019-07-07          | \n",
       "| 2019-07-07 22:09:29 | hen_4B              | Einstreu 1-5        | 4                   | 2019-07-07          | \n",
       "| 2019-07-07 22:09:29 | hen_4L              | Einstreu 1-5        | 4                   | 2019-07-07          | \n",
       "| 2019-07-07 22:09:29 | hen_4B              | Rampe 1-5           | 4                   | 2019-07-07          | \n",
       "| 2019-07-07 22:09:29 | hen_4L              | Rampe 1-5           | 4                   | 2019-07-07          | \n",
       "\n",
       "\n"
      ],
      "text/plain": [
       "  Timestamp           HenID  Zone         PenID day       \n",
       "1 2019-07-07 22:09:28 hen_4B Rampe 1-5    4     2019-07-07\n",
       "2 2019-07-07 22:09:28 hen_4L Rampe 1-5    4     2019-07-07\n",
       "3 2019-07-07 22:09:29 hen_4B Einstreu 1-5 4     2019-07-07\n",
       "4 2019-07-07 22:09:29 hen_4L Einstreu 1-5 4     2019-07-07\n",
       "5 2019-07-07 22:09:29 hen_4B Rampe 1-5    4     2019-07-07\n",
       "6 2019-07-07 22:09:29 hen_4L Rampe 1-5    4     2019-07-07"
      ]
     },
     "metadata": {},
     "output_type": "display_data"
    }
   ],
   "source": [
    "df$Zone[is.na(df$Zone)] == ' '\n",
    "head(df)"
   ]
  },
  {
   "cell_type": "code",
   "execution_count": 24,
   "metadata": {},
   "outputs": [
    {
     "name": "stdout",
     "output_type": "stream",
     "text": [
      "[1] \"Total running time: 0.0355405024687449 mn\"\n"
     ]
    }
   ],
   "source": [
    "start = Sys.time()\n",
    "df$test = apply( df[ , c('PenID', 'Zone') ] , 1 , paste , collapse = \"/-/\" )\n",
    "df$is_correct_pen4zone = lapply(df$test, \n",
    "                                function(x){strsplit(x,'/-/')[[1]][1] %in% dico_zone_matching[[strsplit(x,'/-/')[[1]][2]]]})\n",
    "df = select(df, -test)\n",
    "end = Sys.time()\n",
    "print(paste0(\"Total running time: \", (end-start)/60,\" mn\"))"
   ]
  },
  {
   "cell_type": "code",
   "execution_count": 25,
   "metadata": {},
   "outputs": [
    {
     "name": "stdout",
     "output_type": "stream",
     "text": [
      "[1] 2718    6\n"
     ]
    },
    {
     "data": {
      "text/html": [
       "<table>\n",
       "<thead><tr><th scope=col>Timestamp</th><th scope=col>HenID</th><th scope=col>Zone</th><th scope=col>PenID</th><th scope=col>day</th><th scope=col>is_correct_pen4zone</th></tr></thead>\n",
       "<tbody>\n",
       "\t<tr><td>2019-07-08 05:23:28</td><td>hen_1H             </td><td>Rampe 6-10         </td><td>1                  </td><td>2019-07-08         </td><td>FALSE              </td></tr>\n",
       "\t<tr><td>2019-07-08 08:01:01</td><td>hen_6C             </td><td>Rampe 1-5          </td><td>6                  </td><td>2019-07-08         </td><td>FALSE              </td></tr>\n",
       "\t<tr><td>2019-07-08 08:35:01</td><td>hen_9H             </td><td>Rampe 1-5          </td><td>9                  </td><td>2019-07-08         </td><td>FALSE              </td></tr>\n",
       "\t<tr><td>2019-07-08 08:56:57</td><td>hen_9M             </td><td>Rampe 1-5          </td><td>9                  </td><td>2019-07-08         </td><td>FALSE              </td></tr>\n",
       "\t<tr><td>2019-07-08 09:35:26</td><td>hen_9M             </td><td>Rampe 1-5          </td><td>9                  </td><td>2019-07-08         </td><td>FALSE              </td></tr>\n",
       "\t<tr><td>2019-07-08 10:11:09</td><td>hen_8X             </td><td>Rampe 1-5          </td><td>8                  </td><td>2019-07-08         </td><td>FALSE              </td></tr>\n",
       "</tbody>\n",
       "</table>\n"
      ],
      "text/latex": [
       "\\begin{tabular}{r|llllll}\n",
       " Timestamp & HenID & Zone & PenID & day & is\\_correct\\_pen4zone\\\\\n",
       "\\hline\n",
       "\t 2019-07-08 05:23:28 & hen\\_1H            & Rampe 6-10          & 1                   & 2019-07-08          & FALSE              \\\\\n",
       "\t 2019-07-08 08:01:01 & hen\\_6C            & Rampe 1-5           & 6                   & 2019-07-08          & FALSE              \\\\\n",
       "\t 2019-07-08 08:35:01 & hen\\_9H            & Rampe 1-5           & 9                   & 2019-07-08          & FALSE              \\\\\n",
       "\t 2019-07-08 08:56:57 & hen\\_9M            & Rampe 1-5           & 9                   & 2019-07-08          & FALSE              \\\\\n",
       "\t 2019-07-08 09:35:26 & hen\\_9M            & Rampe 1-5           & 9                   & 2019-07-08          & FALSE              \\\\\n",
       "\t 2019-07-08 10:11:09 & hen\\_8X            & Rampe 1-5           & 8                   & 2019-07-08          & FALSE              \\\\\n",
       "\\end{tabular}\n"
      ],
      "text/markdown": [
       "\n",
       "Timestamp | HenID | Zone | PenID | day | is_correct_pen4zone | \n",
       "|---|---|---|---|---|---|\n",
       "| 2019-07-08 05:23:28 | hen_1H              | Rampe 6-10          | 1                   | 2019-07-08          | FALSE               | \n",
       "| 2019-07-08 08:01:01 | hen_6C              | Rampe 1-5           | 6                   | 2019-07-08          | FALSE               | \n",
       "| 2019-07-08 08:35:01 | hen_9H              | Rampe 1-5           | 9                   | 2019-07-08          | FALSE               | \n",
       "| 2019-07-08 08:56:57 | hen_9M              | Rampe 1-5           | 9                   | 2019-07-08          | FALSE               | \n",
       "| 2019-07-08 09:35:26 | hen_9M              | Rampe 1-5           | 9                   | 2019-07-08          | FALSE               | \n",
       "| 2019-07-08 10:11:09 | hen_8X              | Rampe 1-5           | 8                   | 2019-07-08          | FALSE               | \n",
       "\n",
       "\n"
      ],
      "text/plain": [
       "  Timestamp           HenID  Zone       PenID day        is_correct_pen4zone\n",
       "1 2019-07-08 05:23:28 hen_1H Rampe 6-10 1     2019-07-08 FALSE              \n",
       "2 2019-07-08 08:01:01 hen_6C Rampe 1-5  6     2019-07-08 FALSE              \n",
       "3 2019-07-08 08:35:01 hen_9H Rampe 1-5  9     2019-07-08 FALSE              \n",
       "4 2019-07-08 08:56:57 hen_9M Rampe 1-5  9     2019-07-08 FALSE              \n",
       "5 2019-07-08 09:35:26 hen_9M Rampe 1-5  9     2019-07-08 FALSE              \n",
       "6 2019-07-08 10:11:09 hen_8X Rampe 1-5  8     2019-07-08 FALSE              "
      ]
     },
     "metadata": {},
     "output_type": "display_data"
    }
   ],
   "source": [
    "df[,c('HenID','PenID','is_correct_pen4zone')] = sapply(df[,c('HenID','PenID','is_correct_pen4zone')],unlist)\n",
    "df_corr = filter(df, is_correct_pen4zone==FALSE)\n",
    "write.csv(df_corr, file.path(path_extracted_data, \"df_Zone_associated_to_wrong_Pen_all_situation.csv\"))\n",
    "print(dim(df_corr))\n",
    "head(df_corr)"
   ]
  },
  {
   "cell_type": "code",
   "execution_count": 26,
   "metadata": {},
   "outputs": [
    {
     "name": "stdout",
     "output_type": "stream",
     "text": [
      "[1] \"We removed 2718 records which zone was associated to a wrong pen\"\n",
      "[1] 4642259       5\n"
     ]
    },
    {
     "data": {
      "text/html": [
       "<table>\n",
       "<thead><tr><th scope=col>Timestamp</th><th scope=col>HenID</th><th scope=col>Zone</th><th scope=col>PenID</th><th scope=col>day</th></tr></thead>\n",
       "<tbody>\n",
       "\t<tr><td>2019-07-07 22:09:28</td><td>hen_4B             </td><td>Rampe 1-5          </td><td>4                  </td><td>2019-07-07         </td></tr>\n",
       "\t<tr><td>2019-07-07 22:09:28</td><td>hen_4L             </td><td>Rampe 1-5          </td><td>4                  </td><td>2019-07-07         </td></tr>\n",
       "\t<tr><td>2019-07-07 22:09:29</td><td>hen_4B             </td><td>Einstreu 1-5       </td><td>4                  </td><td>2019-07-07         </td></tr>\n",
       "\t<tr><td>2019-07-07 22:09:29</td><td>hen_4L             </td><td>Einstreu 1-5       </td><td>4                  </td><td>2019-07-07         </td></tr>\n",
       "\t<tr><td>2019-07-07 22:09:29</td><td>hen_4B             </td><td>Rampe 1-5          </td><td>4                  </td><td>2019-07-07         </td></tr>\n",
       "\t<tr><td>2019-07-07 22:09:29</td><td>hen_4L             </td><td>Rampe 1-5          </td><td>4                  </td><td>2019-07-07         </td></tr>\n",
       "</tbody>\n",
       "</table>\n"
      ],
      "text/latex": [
       "\\begin{tabular}{r|lllll}\n",
       " Timestamp & HenID & Zone & PenID & day\\\\\n",
       "\\hline\n",
       "\t 2019-07-07 22:09:28 & hen\\_4B            & Rampe 1-5           & 4                   & 2019-07-07         \\\\\n",
       "\t 2019-07-07 22:09:28 & hen\\_4L            & Rampe 1-5           & 4                   & 2019-07-07         \\\\\n",
       "\t 2019-07-07 22:09:29 & hen\\_4B            & Einstreu 1-5        & 4                   & 2019-07-07         \\\\\n",
       "\t 2019-07-07 22:09:29 & hen\\_4L            & Einstreu 1-5        & 4                   & 2019-07-07         \\\\\n",
       "\t 2019-07-07 22:09:29 & hen\\_4B            & Rampe 1-5           & 4                   & 2019-07-07         \\\\\n",
       "\t 2019-07-07 22:09:29 & hen\\_4L            & Rampe 1-5           & 4                   & 2019-07-07         \\\\\n",
       "\\end{tabular}\n"
      ],
      "text/markdown": [
       "\n",
       "Timestamp | HenID | Zone | PenID | day | \n",
       "|---|---|---|---|---|---|\n",
       "| 2019-07-07 22:09:28 | hen_4B              | Rampe 1-5           | 4                   | 2019-07-07          | \n",
       "| 2019-07-07 22:09:28 | hen_4L              | Rampe 1-5           | 4                   | 2019-07-07          | \n",
       "| 2019-07-07 22:09:29 | hen_4B              | Einstreu 1-5        | 4                   | 2019-07-07          | \n",
       "| 2019-07-07 22:09:29 | hen_4L              | Einstreu 1-5        | 4                   | 2019-07-07          | \n",
       "| 2019-07-07 22:09:29 | hen_4B              | Rampe 1-5           | 4                   | 2019-07-07          | \n",
       "| 2019-07-07 22:09:29 | hen_4L              | Rampe 1-5           | 4                   | 2019-07-07          | \n",
       "\n",
       "\n"
      ],
      "text/plain": [
       "  Timestamp           HenID  Zone         PenID day       \n",
       "1 2019-07-07 22:09:28 hen_4B Rampe 1-5    4     2019-07-07\n",
       "2 2019-07-07 22:09:28 hen_4L Rampe 1-5    4     2019-07-07\n",
       "3 2019-07-07 22:09:29 hen_4B Einstreu 1-5 4     2019-07-07\n",
       "4 2019-07-07 22:09:29 hen_4L Einstreu 1-5 4     2019-07-07\n",
       "5 2019-07-07 22:09:29 hen_4B Rampe 1-5    4     2019-07-07\n",
       "6 2019-07-07 22:09:29 hen_4L Rampe 1-5    4     2019-07-07"
      ]
     },
     "metadata": {},
     "output_type": "display_data"
    }
   ],
   "source": [
    "print(paste0('We removed ',dim(df_corr)[[1]],' records which zone was associated to a wrong pen'))\n",
    "df = filter(df, is_correct_pen4zone==TRUE)\n",
    "df = select(df, -is_correct_pen4zone)\n",
    "print(dim(df))\n",
    "head(df)"
   ]
  },
  {
   "cell_type": "code",
   "execution_count": 27,
   "metadata": {},
   "outputs": [
    {
     "name": "stdout",
     "output_type": "stream",
     "text": [
      "[1] 4642259       5\n"
     ]
    },
    {
     "data": {
      "text/html": [
       "<table>\n",
       "<thead><tr><th scope=col>Timestamp</th><th scope=col>HenID</th><th scope=col>Zone</th><th scope=col>PenID</th><th scope=col>day</th></tr></thead>\n",
       "<tbody>\n",
       "\t<tr><td>2019-07-07 22:09:28</td><td>hen_4B             </td><td>Rampe 1-5          </td><td>4                  </td><td>2019-07-07         </td></tr>\n",
       "\t<tr><td>2019-07-07 22:09:28</td><td>hen_4L             </td><td>Rampe 1-5          </td><td>4                  </td><td>2019-07-07         </td></tr>\n",
       "\t<tr><td>2019-07-07 22:09:29</td><td>hen_4B             </td><td>Einstreu 1-5       </td><td>4                  </td><td>2019-07-07         </td></tr>\n",
       "\t<tr><td>2019-07-07 22:09:29</td><td>hen_4L             </td><td>Einstreu 1-5       </td><td>4                  </td><td>2019-07-07         </td></tr>\n",
       "\t<tr><td>2019-07-07 22:09:29</td><td>hen_4B             </td><td>Rampe 1-5          </td><td>4                  </td><td>2019-07-07         </td></tr>\n",
       "\t<tr><td>2019-07-07 22:09:29</td><td>hen_4L             </td><td>Rampe 1-5          </td><td>4                  </td><td>2019-07-07         </td></tr>\n",
       "</tbody>\n",
       "</table>\n"
      ],
      "text/latex": [
       "\\begin{tabular}{r|lllll}\n",
       " Timestamp & HenID & Zone & PenID & day\\\\\n",
       "\\hline\n",
       "\t 2019-07-07 22:09:28 & hen\\_4B            & Rampe 1-5           & 4                   & 2019-07-07         \\\\\n",
       "\t 2019-07-07 22:09:28 & hen\\_4L            & Rampe 1-5           & 4                   & 2019-07-07         \\\\\n",
       "\t 2019-07-07 22:09:29 & hen\\_4B            & Einstreu 1-5        & 4                   & 2019-07-07         \\\\\n",
       "\t 2019-07-07 22:09:29 & hen\\_4L            & Einstreu 1-5        & 4                   & 2019-07-07         \\\\\n",
       "\t 2019-07-07 22:09:29 & hen\\_4B            & Rampe 1-5           & 4                   & 2019-07-07         \\\\\n",
       "\t 2019-07-07 22:09:29 & hen\\_4L            & Rampe 1-5           & 4                   & 2019-07-07         \\\\\n",
       "\\end{tabular}\n"
      ],
      "text/markdown": [
       "\n",
       "Timestamp | HenID | Zone | PenID | day | \n",
       "|---|---|---|---|---|---|\n",
       "| 2019-07-07 22:09:28 | hen_4B              | Rampe 1-5           | 4                   | 2019-07-07          | \n",
       "| 2019-07-07 22:09:28 | hen_4L              | Rampe 1-5           | 4                   | 2019-07-07          | \n",
       "| 2019-07-07 22:09:29 | hen_4B              | Einstreu 1-5        | 4                   | 2019-07-07          | \n",
       "| 2019-07-07 22:09:29 | hen_4L              | Einstreu 1-5        | 4                   | 2019-07-07          | \n",
       "| 2019-07-07 22:09:29 | hen_4B              | Rampe 1-5           | 4                   | 2019-07-07          | \n",
       "| 2019-07-07 22:09:29 | hen_4L              | Rampe 1-5           | 4                   | 2019-07-07          | \n",
       "\n",
       "\n"
      ],
      "text/plain": [
       "  Timestamp           HenID  Zone         PenID day       \n",
       "1 2019-07-07 22:09:28 hen_4B Rampe 1-5    4     2019-07-07\n",
       "2 2019-07-07 22:09:28 hen_4L Rampe 1-5    4     2019-07-07\n",
       "3 2019-07-07 22:09:29 hen_4B Einstreu 1-5 4     2019-07-07\n",
       "4 2019-07-07 22:09:29 hen_4L Einstreu 1-5 4     2019-07-07\n",
       "5 2019-07-07 22:09:29 hen_4B Rampe 1-5    4     2019-07-07\n",
       "6 2019-07-07 22:09:29 hen_4L Rampe 1-5    4     2019-07-07"
      ]
     },
     "metadata": {},
     "output_type": "display_data"
    }
   ],
   "source": [
    "#df[,c('HenID','PenID')] = sapply(df[,c('HenID','PenID')],unlist)\n",
    "print(dim(df))\n",
    "head(df)"
   ]
  },
  {
   "cell_type": "markdown",
   "metadata": {},
   "source": [
    "#### handle flickering situations"
   ]
  },
  {
   "cell_type": "raw",
   "metadata": {},
   "source": [
    "A flickering situation happens when a hen change zone within strictly less than 2seconds, in which case we name these situations \"Interzone\" and keep only the first timestamp of cosnecutively less than 2sec interzone timestamp."
   ]
  },
  {
   "cell_type": "code",
   "execution_count": 28,
   "metadata": {},
   "outputs": [
    {
     "name": "stdout",
     "output_type": "stream",
     "text": [
      "[1] 4642259       9\n"
     ]
    },
    {
     "data": {
      "text/html": [
       "<table>\n",
       "<thead><tr><th scope=col>Timestamp</th><th scope=col>HenID</th><th scope=col>Zone</th><th scope=col>PenID</th><th scope=col>day</th><th scope=col>next_record_date</th><th scope=col>duration</th><th scope=col>previous_record_date</th><th scope=col>previous_duration</th></tr></thead>\n",
       "<tbody>\n",
       "\t<tr><td>2019-07-07 22:09:28</td><td>hen_4B             </td><td>Rampe 1-5          </td><td>4                  </td><td>2019-07-07         </td><td>2019-07-07 22:09:29</td><td>1                  </td><td>1999-01-01 00:00:00</td><td>NA                 </td></tr>\n",
       "\t<tr><td>2019-07-07 22:09:29</td><td>hen_4B             </td><td>Einstreu 1-5       </td><td>4                  </td><td>2019-07-07         </td><td>2019-07-07 22:09:29</td><td>0                  </td><td>2019-07-07 22:09:28</td><td> 1                 </td></tr>\n",
       "\t<tr><td>2019-07-07 22:09:29</td><td>hen_4B             </td><td>Rampe 1-5          </td><td>4                  </td><td>2019-07-07         </td><td>2019-07-07 22:09:30</td><td>1                  </td><td>2019-07-07 22:09:29</td><td> 0                 </td></tr>\n",
       "\t<tr><td>2019-07-07 22:09:30</td><td>hen_4B             </td><td>Einstreu 1-5       </td><td>4                  </td><td>2019-07-07         </td><td>2019-07-07 22:09:31</td><td>1                  </td><td>2019-07-07 22:09:29</td><td> 1                 </td></tr>\n",
       "\t<tr><td>2019-07-07 22:09:31</td><td>hen_4B             </td><td>Rampe 1-5          </td><td>4                  </td><td>2019-07-07         </td><td>2019-07-07 22:09:32</td><td>1                  </td><td>2019-07-07 22:09:30</td><td> 1                 </td></tr>\n",
       "\t<tr><td>2019-07-07 22:09:32</td><td>hen_4B             </td><td>Einstreu 1-5       </td><td>4                  </td><td>2019-07-07         </td><td>2019-07-07 22:09:32</td><td>0                  </td><td>2019-07-07 22:09:31</td><td> 1                 </td></tr>\n",
       "</tbody>\n",
       "</table>\n"
      ],
      "text/latex": [
       "\\begin{tabular}{r|lllllllll}\n",
       " Timestamp & HenID & Zone & PenID & day & next\\_record\\_date & duration & previous\\_record\\_date & previous\\_duration\\\\\n",
       "\\hline\n",
       "\t 2019-07-07 22:09:28 & hen\\_4B            & Rampe 1-5           & 4                   & 2019-07-07          & 2019-07-07 22:09:29 & 1                   & 1999-01-01 00:00:00 & NA                 \\\\\n",
       "\t 2019-07-07 22:09:29 & hen\\_4B            & Einstreu 1-5        & 4                   & 2019-07-07          & 2019-07-07 22:09:29 & 0                   & 2019-07-07 22:09:28 &  1                 \\\\\n",
       "\t 2019-07-07 22:09:29 & hen\\_4B            & Rampe 1-5           & 4                   & 2019-07-07          & 2019-07-07 22:09:30 & 1                   & 2019-07-07 22:09:29 &  0                 \\\\\n",
       "\t 2019-07-07 22:09:30 & hen\\_4B            & Einstreu 1-5        & 4                   & 2019-07-07          & 2019-07-07 22:09:31 & 1                   & 2019-07-07 22:09:29 &  1                 \\\\\n",
       "\t 2019-07-07 22:09:31 & hen\\_4B            & Rampe 1-5           & 4                   & 2019-07-07          & 2019-07-07 22:09:32 & 1                   & 2019-07-07 22:09:30 &  1                 \\\\\n",
       "\t 2019-07-07 22:09:32 & hen\\_4B            & Einstreu 1-5        & 4                   & 2019-07-07          & 2019-07-07 22:09:32 & 0                   & 2019-07-07 22:09:31 &  1                 \\\\\n",
       "\\end{tabular}\n"
      ],
      "text/markdown": [
       "\n",
       "Timestamp | HenID | Zone | PenID | day | next_record_date | duration | previous_record_date | previous_duration | \n",
       "|---|---|---|---|---|---|\n",
       "| 2019-07-07 22:09:28 | hen_4B              | Rampe 1-5           | 4                   | 2019-07-07          | 2019-07-07 22:09:29 | 1                   | 1999-01-01 00:00:00 | NA                  | \n",
       "| 2019-07-07 22:09:29 | hen_4B              | Einstreu 1-5        | 4                   | 2019-07-07          | 2019-07-07 22:09:29 | 0                   | 2019-07-07 22:09:28 |  1                  | \n",
       "| 2019-07-07 22:09:29 | hen_4B              | Rampe 1-5           | 4                   | 2019-07-07          | 2019-07-07 22:09:30 | 1                   | 2019-07-07 22:09:29 |  0                  | \n",
       "| 2019-07-07 22:09:30 | hen_4B              | Einstreu 1-5        | 4                   | 2019-07-07          | 2019-07-07 22:09:31 | 1                   | 2019-07-07 22:09:29 |  1                  | \n",
       "| 2019-07-07 22:09:31 | hen_4B              | Rampe 1-5           | 4                   | 2019-07-07          | 2019-07-07 22:09:32 | 1                   | 2019-07-07 22:09:30 |  1                  | \n",
       "| 2019-07-07 22:09:32 | hen_4B              | Einstreu 1-5        | 4                   | 2019-07-07          | 2019-07-07 22:09:32 | 0                   | 2019-07-07 22:09:31 |  1                  | \n",
       "\n",
       "\n"
      ],
      "text/plain": [
       "  Timestamp           HenID  Zone         PenID day        next_record_date   \n",
       "1 2019-07-07 22:09:28 hen_4B Rampe 1-5    4     2019-07-07 2019-07-07 22:09:29\n",
       "2 2019-07-07 22:09:29 hen_4B Einstreu 1-5 4     2019-07-07 2019-07-07 22:09:29\n",
       "3 2019-07-07 22:09:29 hen_4B Rampe 1-5    4     2019-07-07 2019-07-07 22:09:30\n",
       "4 2019-07-07 22:09:30 hen_4B Einstreu 1-5 4     2019-07-07 2019-07-07 22:09:31\n",
       "5 2019-07-07 22:09:31 hen_4B Rampe 1-5    4     2019-07-07 2019-07-07 22:09:32\n",
       "6 2019-07-07 22:09:32 hen_4B Einstreu 1-5 4     2019-07-07 2019-07-07 22:09:32\n",
       "  duration previous_record_date previous_duration\n",
       "1 1        1999-01-01 00:00:00  NA               \n",
       "2 0        2019-07-07 22:09:28   1               \n",
       "3 1        2019-07-07 22:09:29   0               \n",
       "4 1        2019-07-07 22:09:29   1               \n",
       "5 1        2019-07-07 22:09:30   1               \n",
       "6 0        2019-07-07 22:09:31   1               "
      ]
     },
     "metadata": {},
     "output_type": "display_data"
    }
   ],
   "source": [
    "#add next duration variable\n",
    "li_df = list()\n",
    "for (h in unique(df$HenID)){\n",
    "    df_hen = filter(df, HenID==h)\n",
    "    #as the next record date (sort by date, then simply shift by one row and add nan at then end)\n",
    "    df_hen = df_hen[order(df_hen$Timestamp),]\n",
    "    #same date, one must take the last recorded one & sorting by date might change it. Also it already should be sorted by date\n",
    "    df_hen$next_record_date = append(as.vector(df_hen['Timestamp'])[[1]][2:dim(df_hen)[1]], \n",
    "                                     as.POSIXct('1999-01-01 00:00:00', format=\"%Y-%m-%d %H:%M:%S\"))\n",
    "    df_hen$duration = df_hen$next_record_date-df_hen$Timestamp\n",
    "    df_hen$duration = as.integer(df_hen$duration)\n",
    "\n",
    "    #compute the last record date in order to put interzone also when the duration is >=nbr_sec\n",
    "    #NA induce numeric instead os POSIXct format for rows starting with NA\n",
    "    df_hen$previous_record_date = append(as.POSIXct('1999-01-01 00:00:00', format=\"%Y-%m-%d %H:%M:%S\"), \n",
    "                                         as.vector(df_hen['Timestamp'])[[1]][1:(dim(df_hen)[1]-1)])\n",
    "\n",
    "    #compute previous duration in order to put interzone also when the duration is >=nbr_sec\n",
    "    df_hen$previous_duration = append(c(NA), as.vector(df_hen['duration'])[[1]][1:(dim(df_hen)[1]-1)])\n",
    "    df_hen$previous_duration = as.integer(df_hen$previous_duration)\n",
    "    li_df = append(li_df,list(df_hen))\n",
    "}\n",
    "\n",
    "#put again in one dataframe\n",
    "df = bind_rows(li_df)\n",
    "print(dim(df))\n",
    "#dont care about the false positive warning\n",
    "head(df)"
   ]
  },
  {
   "cell_type": "code",
   "execution_count": 29,
   "metadata": {},
   "outputs": [
    {
     "data": {
      "text/html": [
       "<table>\n",
       "<thead><tr><th></th><th scope=col>Timestamp</th><th scope=col>HenID</th><th scope=col>Zone</th><th scope=col>PenID</th><th scope=col>day</th><th scope=col>next_record_date</th><th scope=col>duration</th><th scope=col>previous_record_date</th><th scope=col>previous_duration</th></tr></thead>\n",
       "<tbody>\n",
       "\t<tr><th scope=row>4642254</th><td>2019-08-22 11:30:35</td><td>hen_3L             </td><td>Rampe 1-5          </td><td>3                  </td><td>2019-08-22         </td><td>2019-08-22 11:30:36</td><td>         1         </td><td>2019-08-22 11:30:35</td><td>0                  </td></tr>\n",
       "\t<tr><th scope=row>4642255</th><td>2019-08-22 11:30:36</td><td>hen_3L             </td><td>Einstreu 1-5       </td><td>3                  </td><td>2019-08-22         </td><td>2019-08-22 11:30:37</td><td>         1         </td><td>2019-08-22 11:30:35</td><td>1                  </td></tr>\n",
       "\t<tr><th scope=row>4642256</th><td>2019-08-22 11:30:37</td><td>hen_3L             </td><td>Rampe 1-5          </td><td>3                  </td><td>2019-08-22         </td><td>2019-08-22 11:30:38</td><td>         1         </td><td>2019-08-22 11:30:36</td><td>1                  </td></tr>\n",
       "\t<tr><th scope=row>4642257</th><td>2019-08-22 11:30:38</td><td>hen_3L             </td><td>Einstreu 1-5       </td><td>3                  </td><td>2019-08-22         </td><td>2019-08-22 11:30:38</td><td>         0         </td><td>2019-08-22 11:30:37</td><td>1                  </td></tr>\n",
       "\t<tr><th scope=row>4642258</th><td>2019-08-22 11:30:38</td><td>hen_3L             </td><td>Rampe 1-5          </td><td>3                  </td><td>2019-08-22         </td><td>2019-08-22 11:30:39</td><td>         1         </td><td>2019-08-22 11:30:38</td><td>0                  </td></tr>\n",
       "\t<tr><th scope=row>4642259</th><td>2019-08-22 11:30:39</td><td>hen_3L             </td><td>Einstreu 1-5       </td><td>3                  </td><td>2019-08-22         </td><td>1999-01-01 00:00:00</td><td>-651321039         </td><td>2019-08-22 11:30:38</td><td>1                  </td></tr>\n",
       "</tbody>\n",
       "</table>\n"
      ],
      "text/latex": [
       "\\begin{tabular}{r|lllllllll}\n",
       "  & Timestamp & HenID & Zone & PenID & day & next\\_record\\_date & duration & previous\\_record\\_date & previous\\_duration\\\\\n",
       "\\hline\n",
       "\t4642254 & 2019-08-22 11:30:35 & hen\\_3L            & Rampe 1-5           & 3                   & 2019-08-22          & 2019-08-22 11:30:36 &          1          & 2019-08-22 11:30:35 & 0                  \\\\\n",
       "\t4642255 & 2019-08-22 11:30:36 & hen\\_3L            & Einstreu 1-5        & 3                   & 2019-08-22          & 2019-08-22 11:30:37 &          1          & 2019-08-22 11:30:35 & 1                  \\\\\n",
       "\t4642256 & 2019-08-22 11:30:37 & hen\\_3L            & Rampe 1-5           & 3                   & 2019-08-22          & 2019-08-22 11:30:38 &          1          & 2019-08-22 11:30:36 & 1                  \\\\\n",
       "\t4642257 & 2019-08-22 11:30:38 & hen\\_3L            & Einstreu 1-5        & 3                   & 2019-08-22          & 2019-08-22 11:30:38 &          0          & 2019-08-22 11:30:37 & 1                  \\\\\n",
       "\t4642258 & 2019-08-22 11:30:38 & hen\\_3L            & Rampe 1-5           & 3                   & 2019-08-22          & 2019-08-22 11:30:39 &          1          & 2019-08-22 11:30:38 & 0                  \\\\\n",
       "\t4642259 & 2019-08-22 11:30:39 & hen\\_3L            & Einstreu 1-5        & 3                   & 2019-08-22          & 1999-01-01 00:00:00 & -651321039          & 2019-08-22 11:30:38 & 1                  \\\\\n",
       "\\end{tabular}\n"
      ],
      "text/markdown": [
       "\n",
       "| <!--/--> | Timestamp | HenID | Zone | PenID | day | next_record_date | duration | previous_record_date | previous_duration | \n",
       "|---|---|---|---|---|---|\n",
       "| 4642254 | 2019-08-22 11:30:35 | hen_3L              | Rampe 1-5           | 3                   | 2019-08-22          | 2019-08-22 11:30:36 |          1          | 2019-08-22 11:30:35 | 0                   | \n",
       "| 4642255 | 2019-08-22 11:30:36 | hen_3L              | Einstreu 1-5        | 3                   | 2019-08-22          | 2019-08-22 11:30:37 |          1          | 2019-08-22 11:30:35 | 1                   | \n",
       "| 4642256 | 2019-08-22 11:30:37 | hen_3L              | Rampe 1-5           | 3                   | 2019-08-22          | 2019-08-22 11:30:38 |          1          | 2019-08-22 11:30:36 | 1                   | \n",
       "| 4642257 | 2019-08-22 11:30:38 | hen_3L              | Einstreu 1-5        | 3                   | 2019-08-22          | 2019-08-22 11:30:38 |          0          | 2019-08-22 11:30:37 | 1                   | \n",
       "| 4642258 | 2019-08-22 11:30:38 | hen_3L              | Rampe 1-5           | 3                   | 2019-08-22          | 2019-08-22 11:30:39 |          1          | 2019-08-22 11:30:38 | 0                   | \n",
       "| 4642259 | 2019-08-22 11:30:39 | hen_3L              | Einstreu 1-5        | 3                   | 2019-08-22          | 1999-01-01 00:00:00 | -651321039          | 2019-08-22 11:30:38 | 1                   | \n",
       "\n",
       "\n"
      ],
      "text/plain": [
       "        Timestamp           HenID  Zone         PenID day       \n",
       "4642254 2019-08-22 11:30:35 hen_3L Rampe 1-5    3     2019-08-22\n",
       "4642255 2019-08-22 11:30:36 hen_3L Einstreu 1-5 3     2019-08-22\n",
       "4642256 2019-08-22 11:30:37 hen_3L Rampe 1-5    3     2019-08-22\n",
       "4642257 2019-08-22 11:30:38 hen_3L Einstreu 1-5 3     2019-08-22\n",
       "4642258 2019-08-22 11:30:38 hen_3L Rampe 1-5    3     2019-08-22\n",
       "4642259 2019-08-22 11:30:39 hen_3L Einstreu 1-5 3     2019-08-22\n",
       "        next_record_date    duration   previous_record_date previous_duration\n",
       "4642254 2019-08-22 11:30:36          1 2019-08-22 11:30:35  0                \n",
       "4642255 2019-08-22 11:30:37          1 2019-08-22 11:30:35  1                \n",
       "4642256 2019-08-22 11:30:38          1 2019-08-22 11:30:36  1                \n",
       "4642257 2019-08-22 11:30:38          0 2019-08-22 11:30:37  1                \n",
       "4642258 2019-08-22 11:30:39          1 2019-08-22 11:30:38  0                \n",
       "4642259 1999-01-01 00:00:00 -651321039 2019-08-22 11:30:38  1                "
      ]
     },
     "metadata": {},
     "output_type": "display_data"
    }
   ],
   "source": [
    "tail(df)"
   ]
  },
  {
   "cell_type": "code",
   "execution_count": 30,
   "metadata": {},
   "outputs": [
    {
     "data": {
      "text/html": [
       "<table>\n",
       "<thead><tr><th scope=col>Timestamp</th><th scope=col>HenID</th><th scope=col>Zone</th><th scope=col>PenID</th><th scope=col>day</th><th scope=col>next_record_date</th><th scope=col>duration</th><th scope=col>previous_record_date</th><th scope=col>previous_duration</th><th scope=col>Zone_without_flickering</th></tr></thead>\n",
       "<tbody>\n",
       "\t<tr><td>2019-07-07 22:09:28</td><td>hen_4B             </td><td>Rampe 1-5          </td><td>4                  </td><td>2019-07-07         </td><td>2019-07-07 22:09:29</td><td>1                  </td><td>1999-01-01 00:00:00</td><td>NA                 </td><td>Interzone          </td></tr>\n",
       "\t<tr><td>2019-07-07 22:09:29</td><td>hen_4B             </td><td>Einstreu 1-5       </td><td>4                  </td><td>2019-07-07         </td><td>2019-07-07 22:09:29</td><td>0                  </td><td>2019-07-07 22:09:28</td><td> 1                 </td><td>Interzone          </td></tr>\n",
       "\t<tr><td>2019-07-07 22:09:29</td><td>hen_4B             </td><td>Rampe 1-5          </td><td>4                  </td><td>2019-07-07         </td><td>2019-07-07 22:09:30</td><td>1                  </td><td>2019-07-07 22:09:29</td><td> 0                 </td><td>Interzone          </td></tr>\n",
       "\t<tr><td>2019-07-07 22:09:30</td><td>hen_4B             </td><td>Einstreu 1-5       </td><td>4                  </td><td>2019-07-07         </td><td>2019-07-07 22:09:31</td><td>1                  </td><td>2019-07-07 22:09:29</td><td> 1                 </td><td>Interzone          </td></tr>\n",
       "\t<tr><td>2019-07-07 22:09:31</td><td>hen_4B             </td><td>Rampe 1-5          </td><td>4                  </td><td>2019-07-07         </td><td>2019-07-07 22:09:32</td><td>1                  </td><td>2019-07-07 22:09:30</td><td> 1                 </td><td>Interzone          </td></tr>\n",
       "\t<tr><td>2019-07-07 22:09:32</td><td>hen_4B             </td><td>Einstreu 1-5       </td><td>4                  </td><td>2019-07-07         </td><td>2019-07-07 22:09:32</td><td>0                  </td><td>2019-07-07 22:09:31</td><td> 1                 </td><td>Interzone          </td></tr>\n",
       "</tbody>\n",
       "</table>\n"
      ],
      "text/latex": [
       "\\begin{tabular}{r|llllllllll}\n",
       " Timestamp & HenID & Zone & PenID & day & next\\_record\\_date & duration & previous\\_record\\_date & previous\\_duration & Zone\\_without\\_flickering\\\\\n",
       "\\hline\n",
       "\t 2019-07-07 22:09:28 & hen\\_4B            & Rampe 1-5           & 4                   & 2019-07-07          & 2019-07-07 22:09:29 & 1                   & 1999-01-01 00:00:00 & NA                  & Interzone          \\\\\n",
       "\t 2019-07-07 22:09:29 & hen\\_4B            & Einstreu 1-5        & 4                   & 2019-07-07          & 2019-07-07 22:09:29 & 0                   & 2019-07-07 22:09:28 &  1                  & Interzone          \\\\\n",
       "\t 2019-07-07 22:09:29 & hen\\_4B            & Rampe 1-5           & 4                   & 2019-07-07          & 2019-07-07 22:09:30 & 1                   & 2019-07-07 22:09:29 &  0                  & Interzone          \\\\\n",
       "\t 2019-07-07 22:09:30 & hen\\_4B            & Einstreu 1-5        & 4                   & 2019-07-07          & 2019-07-07 22:09:31 & 1                   & 2019-07-07 22:09:29 &  1                  & Interzone          \\\\\n",
       "\t 2019-07-07 22:09:31 & hen\\_4B            & Rampe 1-5           & 4                   & 2019-07-07          & 2019-07-07 22:09:32 & 1                   & 2019-07-07 22:09:30 &  1                  & Interzone          \\\\\n",
       "\t 2019-07-07 22:09:32 & hen\\_4B            & Einstreu 1-5        & 4                   & 2019-07-07          & 2019-07-07 22:09:32 & 0                   & 2019-07-07 22:09:31 &  1                  & Interzone          \\\\\n",
       "\\end{tabular}\n"
      ],
      "text/markdown": [
       "\n",
       "Timestamp | HenID | Zone | PenID | day | next_record_date | duration | previous_record_date | previous_duration | Zone_without_flickering | \n",
       "|---|---|---|---|---|---|\n",
       "| 2019-07-07 22:09:28 | hen_4B              | Rampe 1-5           | 4                   | 2019-07-07          | 2019-07-07 22:09:29 | 1                   | 1999-01-01 00:00:00 | NA                  | Interzone           | \n",
       "| 2019-07-07 22:09:29 | hen_4B              | Einstreu 1-5        | 4                   | 2019-07-07          | 2019-07-07 22:09:29 | 0                   | 2019-07-07 22:09:28 |  1                  | Interzone           | \n",
       "| 2019-07-07 22:09:29 | hen_4B              | Rampe 1-5           | 4                   | 2019-07-07          | 2019-07-07 22:09:30 | 1                   | 2019-07-07 22:09:29 |  0                  | Interzone           | \n",
       "| 2019-07-07 22:09:30 | hen_4B              | Einstreu 1-5        | 4                   | 2019-07-07          | 2019-07-07 22:09:31 | 1                   | 2019-07-07 22:09:29 |  1                  | Interzone           | \n",
       "| 2019-07-07 22:09:31 | hen_4B              | Rampe 1-5           | 4                   | 2019-07-07          | 2019-07-07 22:09:32 | 1                   | 2019-07-07 22:09:30 |  1                  | Interzone           | \n",
       "| 2019-07-07 22:09:32 | hen_4B              | Einstreu 1-5        | 4                   | 2019-07-07          | 2019-07-07 22:09:32 | 0                   | 2019-07-07 22:09:31 |  1                  | Interzone           | \n",
       "\n",
       "\n"
      ],
      "text/plain": [
       "  Timestamp           HenID  Zone         PenID day        next_record_date   \n",
       "1 2019-07-07 22:09:28 hen_4B Rampe 1-5    4     2019-07-07 2019-07-07 22:09:29\n",
       "2 2019-07-07 22:09:29 hen_4B Einstreu 1-5 4     2019-07-07 2019-07-07 22:09:29\n",
       "3 2019-07-07 22:09:29 hen_4B Rampe 1-5    4     2019-07-07 2019-07-07 22:09:30\n",
       "4 2019-07-07 22:09:30 hen_4B Einstreu 1-5 4     2019-07-07 2019-07-07 22:09:31\n",
       "5 2019-07-07 22:09:31 hen_4B Rampe 1-5    4     2019-07-07 2019-07-07 22:09:32\n",
       "6 2019-07-07 22:09:32 hen_4B Einstreu 1-5 4     2019-07-07 2019-07-07 22:09:32\n",
       "  duration previous_record_date previous_duration Zone_without_flickering\n",
       "1 1        1999-01-01 00:00:00  NA                Interzone              \n",
       "2 0        2019-07-07 22:09:28   1                Interzone              \n",
       "3 1        2019-07-07 22:09:29   0                Interzone              \n",
       "4 1        2019-07-07 22:09:29   1                Interzone              \n",
       "5 1        2019-07-07 22:09:30   1                Interzone              \n",
       "6 0        2019-07-07 22:09:31   1                Interzone              "
      ]
     },
     "metadata": {},
     "output_type": "display_data"
    }
   ],
   "source": [
    "#name it interzone when duration is less than 2 seconds\n",
    "#note that there is no need to merge interzone in one timestamp as we will in any case extend to a time serie for analysis and\n",
    "#keep only one second over two\n",
    "df$Zone_without_flickering = df$Zone\n",
    "df$Zone_without_flickering = as.character(df$Zone_without_flickering)\n",
    "df[(!is.na(df$duration)) & (df$duration<nbr_sec), 'Zone_without_flickering'] = 'Interzone'\n",
    "#if its not interzone (i.e. its duration is longer than 3 seconds) and its previous duration is shorter than 3 seconds,\n",
    "#then its the end of a flickering situation\n",
    "df[(!is.na(df$previous_duration)) & (df$previous_duration<nbr_sec) & (df$Zone_without_flickering!='Interzone'),\n",
    "       'Zone_without_flickering'] = 'Interzone_f'\n",
    "#df$Zone_without_flickering = factor(df$Zone_without_flickering)\n",
    "                                                                            \n",
    "#we wont be doing this, as otherwise if the lasst timestamp are flickering situation, we will miss a zone\n",
    "    #replace 'Zone_without_flickering' by np.nan if the duration is nan (i.e. if last observation)\n",
    "#df.loc[pd.isnull(df['duration']),'Zone_without_flickering'] = np.nan\n",
    "\n",
    "head(df)"
   ]
  },
  {
   "cell_type": "code",
   "execution_count": 31,
   "metadata": {},
   "outputs": [
    {
     "data": {
      "text/html": [
       "<table>\n",
       "<thead><tr><th></th><th scope=col>Timestamp</th><th scope=col>HenID</th><th scope=col>Zone</th><th scope=col>PenID</th><th scope=col>day</th><th scope=col>next_record_date</th><th scope=col>duration</th><th scope=col>previous_record_date</th><th scope=col>previous_duration</th><th scope=col>Zone_without_flickering</th></tr></thead>\n",
       "<tbody>\n",
       "\t<tr><th scope=row>4642254</th><td>2019-08-22 11:30:35</td><td>hen_3L             </td><td>Rampe 1-5          </td><td>3                  </td><td>2019-08-22         </td><td>2019-08-22 11:30:36</td><td>         1         </td><td>2019-08-22 11:30:35</td><td>0                  </td><td>Interzone          </td></tr>\n",
       "\t<tr><th scope=row>4642255</th><td>2019-08-22 11:30:36</td><td>hen_3L             </td><td>Einstreu 1-5       </td><td>3                  </td><td>2019-08-22         </td><td>2019-08-22 11:30:37</td><td>         1         </td><td>2019-08-22 11:30:35</td><td>1                  </td><td>Interzone          </td></tr>\n",
       "\t<tr><th scope=row>4642256</th><td>2019-08-22 11:30:37</td><td>hen_3L             </td><td>Rampe 1-5          </td><td>3                  </td><td>2019-08-22         </td><td>2019-08-22 11:30:38</td><td>         1         </td><td>2019-08-22 11:30:36</td><td>1                  </td><td>Interzone          </td></tr>\n",
       "\t<tr><th scope=row>4642257</th><td>2019-08-22 11:30:38</td><td>hen_3L             </td><td>Einstreu 1-5       </td><td>3                  </td><td>2019-08-22         </td><td>2019-08-22 11:30:38</td><td>         0         </td><td>2019-08-22 11:30:37</td><td>1                  </td><td>Interzone          </td></tr>\n",
       "\t<tr><th scope=row>4642258</th><td>2019-08-22 11:30:38</td><td>hen_3L             </td><td>Rampe 1-5          </td><td>3                  </td><td>2019-08-22         </td><td>2019-08-22 11:30:39</td><td>         1         </td><td>2019-08-22 11:30:38</td><td>0                  </td><td>Interzone          </td></tr>\n",
       "\t<tr><th scope=row>4642259</th><td>2019-08-22 11:30:39</td><td>hen_3L             </td><td>Einstreu 1-5       </td><td>3                  </td><td>2019-08-22         </td><td>1999-01-01 00:00:00</td><td>-651321039         </td><td>2019-08-22 11:30:38</td><td>1                  </td><td>Interzone          </td></tr>\n",
       "</tbody>\n",
       "</table>\n"
      ],
      "text/latex": [
       "\\begin{tabular}{r|llllllllll}\n",
       "  & Timestamp & HenID & Zone & PenID & day & next\\_record\\_date & duration & previous\\_record\\_date & previous\\_duration & Zone\\_without\\_flickering\\\\\n",
       "\\hline\n",
       "\t4642254 & 2019-08-22 11:30:35 & hen\\_3L            & Rampe 1-5           & 3                   & 2019-08-22          & 2019-08-22 11:30:36 &          1          & 2019-08-22 11:30:35 & 0                   & Interzone          \\\\\n",
       "\t4642255 & 2019-08-22 11:30:36 & hen\\_3L            & Einstreu 1-5        & 3                   & 2019-08-22          & 2019-08-22 11:30:37 &          1          & 2019-08-22 11:30:35 & 1                   & Interzone          \\\\\n",
       "\t4642256 & 2019-08-22 11:30:37 & hen\\_3L            & Rampe 1-5           & 3                   & 2019-08-22          & 2019-08-22 11:30:38 &          1          & 2019-08-22 11:30:36 & 1                   & Interzone          \\\\\n",
       "\t4642257 & 2019-08-22 11:30:38 & hen\\_3L            & Einstreu 1-5        & 3                   & 2019-08-22          & 2019-08-22 11:30:38 &          0          & 2019-08-22 11:30:37 & 1                   & Interzone          \\\\\n",
       "\t4642258 & 2019-08-22 11:30:38 & hen\\_3L            & Rampe 1-5           & 3                   & 2019-08-22          & 2019-08-22 11:30:39 &          1          & 2019-08-22 11:30:38 & 0                   & Interzone          \\\\\n",
       "\t4642259 & 2019-08-22 11:30:39 & hen\\_3L            & Einstreu 1-5        & 3                   & 2019-08-22          & 1999-01-01 00:00:00 & -651321039          & 2019-08-22 11:30:38 & 1                   & Interzone          \\\\\n",
       "\\end{tabular}\n"
      ],
      "text/markdown": [
       "\n",
       "| <!--/--> | Timestamp | HenID | Zone | PenID | day | next_record_date | duration | previous_record_date | previous_duration | Zone_without_flickering | \n",
       "|---|---|---|---|---|---|\n",
       "| 4642254 | 2019-08-22 11:30:35 | hen_3L              | Rampe 1-5           | 3                   | 2019-08-22          | 2019-08-22 11:30:36 |          1          | 2019-08-22 11:30:35 | 0                   | Interzone           | \n",
       "| 4642255 | 2019-08-22 11:30:36 | hen_3L              | Einstreu 1-5        | 3                   | 2019-08-22          | 2019-08-22 11:30:37 |          1          | 2019-08-22 11:30:35 | 1                   | Interzone           | \n",
       "| 4642256 | 2019-08-22 11:30:37 | hen_3L              | Rampe 1-5           | 3                   | 2019-08-22          | 2019-08-22 11:30:38 |          1          | 2019-08-22 11:30:36 | 1                   | Interzone           | \n",
       "| 4642257 | 2019-08-22 11:30:38 | hen_3L              | Einstreu 1-5        | 3                   | 2019-08-22          | 2019-08-22 11:30:38 |          0          | 2019-08-22 11:30:37 | 1                   | Interzone           | \n",
       "| 4642258 | 2019-08-22 11:30:38 | hen_3L              | Rampe 1-5           | 3                   | 2019-08-22          | 2019-08-22 11:30:39 |          1          | 2019-08-22 11:30:38 | 0                   | Interzone           | \n",
       "| 4642259 | 2019-08-22 11:30:39 | hen_3L              | Einstreu 1-5        | 3                   | 2019-08-22          | 1999-01-01 00:00:00 | -651321039          | 2019-08-22 11:30:38 | 1                   | Interzone           | \n",
       "\n",
       "\n"
      ],
      "text/plain": [
       "        Timestamp           HenID  Zone         PenID day       \n",
       "4642254 2019-08-22 11:30:35 hen_3L Rampe 1-5    3     2019-08-22\n",
       "4642255 2019-08-22 11:30:36 hen_3L Einstreu 1-5 3     2019-08-22\n",
       "4642256 2019-08-22 11:30:37 hen_3L Rampe 1-5    3     2019-08-22\n",
       "4642257 2019-08-22 11:30:38 hen_3L Einstreu 1-5 3     2019-08-22\n",
       "4642258 2019-08-22 11:30:38 hen_3L Rampe 1-5    3     2019-08-22\n",
       "4642259 2019-08-22 11:30:39 hen_3L Einstreu 1-5 3     2019-08-22\n",
       "        next_record_date    duration   previous_record_date previous_duration\n",
       "4642254 2019-08-22 11:30:36          1 2019-08-22 11:30:35  0                \n",
       "4642255 2019-08-22 11:30:37          1 2019-08-22 11:30:35  1                \n",
       "4642256 2019-08-22 11:30:38          1 2019-08-22 11:30:36  1                \n",
       "4642257 2019-08-22 11:30:38          0 2019-08-22 11:30:37  1                \n",
       "4642258 2019-08-22 11:30:39          1 2019-08-22 11:30:38  0                \n",
       "4642259 1999-01-01 00:00:00 -651321039 2019-08-22 11:30:38  1                \n",
       "        Zone_without_flickering\n",
       "4642254 Interzone              \n",
       "4642255 Interzone              \n",
       "4642256 Interzone              \n",
       "4642257 Interzone              \n",
       "4642258 Interzone              \n",
       "4642259 Interzone              "
      ]
     },
     "metadata": {},
     "output_type": "display_data"
    }
   ],
   "source": [
    "tail(df)"
   ]
  },
  {
   "cell_type": "code",
   "execution_count": 32,
   "metadata": {
    "scrolled": true
   },
   "outputs": [
    {
     "data": {
      "text/html": [
       "<table>\n",
       "<thead><tr><th scope=col>Timestamp</th><th scope=col>HenID</th><th scope=col>Zone</th><th scope=col>PenID</th><th scope=col>day</th><th scope=col>next_record_date</th><th scope=col>duration</th><th scope=col>previous_record_date</th><th scope=col>previous_duration</th></tr></thead>\n",
       "<tbody>\n",
       "\t<tr><td>2019-07-08 07:05:53</td><td>hen_3L             </td><td>Rampe 1-5          </td><td>3                  </td><td>2019-07-08         </td><td>2019-07-08 07:05:56</td><td>3                  </td><td>1999-01-01 00:00:00</td><td>NA                 </td></tr>\n",
       "\t<tr><td>2019-07-08 07:05:56</td><td>hen_3L             </td><td>Einstreu 1-5       </td><td>3                  </td><td>2019-07-08         </td><td>2019-07-08 07:05:57</td><td>1                  </td><td>2019-07-08 07:05:53</td><td> 3                 </td></tr>\n",
       "\t<tr><td>2019-07-08 07:05:57</td><td>hen_3L             </td><td>Rampe 1-5          </td><td>3                  </td><td>2019-07-08         </td><td>2019-07-08 07:05:57</td><td>0                  </td><td>2019-07-08 07:05:56</td><td> 1                 </td></tr>\n",
       "\t<tr><td>2019-07-08 07:05:57</td><td>hen_3L             </td><td>Einstreu 1-5       </td><td>3                  </td><td>2019-07-08         </td><td>2019-07-08 07:05:58</td><td>1                  </td><td>2019-07-08 07:05:57</td><td> 0                 </td></tr>\n",
       "\t<tr><td>2019-07-08 07:05:58</td><td>hen_3L             </td><td>Rampe 1-5          </td><td>3                  </td><td>2019-07-08         </td><td>2019-07-08 07:05:59</td><td>1                  </td><td>2019-07-08 07:05:57</td><td> 1                 </td></tr>\n",
       "\t<tr><td>2019-07-08 07:05:59</td><td>hen_3L             </td><td>Einstreu 1-5       </td><td>3                  </td><td>2019-07-08         </td><td>2019-07-08 07:06:02</td><td>3                  </td><td>2019-07-08 07:05:58</td><td> 1                 </td></tr>\n",
       "</tbody>\n",
       "</table>\n"
      ],
      "text/latex": [
       "\\begin{tabular}{r|lllllllll}\n",
       " Timestamp & HenID & Zone & PenID & day & next\\_record\\_date & duration & previous\\_record\\_date & previous\\_duration\\\\\n",
       "\\hline\n",
       "\t 2019-07-08 07:05:53 & hen\\_3L            & Rampe 1-5           & 3                   & 2019-07-08          & 2019-07-08 07:05:56 & 3                   & 1999-01-01 00:00:00 & NA                 \\\\\n",
       "\t 2019-07-08 07:05:56 & hen\\_3L            & Einstreu 1-5        & 3                   & 2019-07-08          & 2019-07-08 07:05:57 & 1                   & 2019-07-08 07:05:53 &  3                 \\\\\n",
       "\t 2019-07-08 07:05:57 & hen\\_3L            & Rampe 1-5           & 3                   & 2019-07-08          & 2019-07-08 07:05:57 & 0                   & 2019-07-08 07:05:56 &  1                 \\\\\n",
       "\t 2019-07-08 07:05:57 & hen\\_3L            & Einstreu 1-5        & 3                   & 2019-07-08          & 2019-07-08 07:05:58 & 1                   & 2019-07-08 07:05:57 &  0                 \\\\\n",
       "\t 2019-07-08 07:05:58 & hen\\_3L            & Rampe 1-5           & 3                   & 2019-07-08          & 2019-07-08 07:05:59 & 1                   & 2019-07-08 07:05:57 &  1                 \\\\\n",
       "\t 2019-07-08 07:05:59 & hen\\_3L            & Einstreu 1-5        & 3                   & 2019-07-08          & 2019-07-08 07:06:02 & 3                   & 2019-07-08 07:05:58 &  1                 \\\\\n",
       "\\end{tabular}\n"
      ],
      "text/markdown": [
       "\n",
       "Timestamp | HenID | Zone | PenID | day | next_record_date | duration | previous_record_date | previous_duration | \n",
       "|---|---|---|---|---|---|\n",
       "| 2019-07-08 07:05:53 | hen_3L              | Rampe 1-5           | 3                   | 2019-07-08          | 2019-07-08 07:05:56 | 3                   | 1999-01-01 00:00:00 | NA                  | \n",
       "| 2019-07-08 07:05:56 | hen_3L              | Einstreu 1-5        | 3                   | 2019-07-08          | 2019-07-08 07:05:57 | 1                   | 2019-07-08 07:05:53 |  3                  | \n",
       "| 2019-07-08 07:05:57 | hen_3L              | Rampe 1-5           | 3                   | 2019-07-08          | 2019-07-08 07:05:57 | 0                   | 2019-07-08 07:05:56 |  1                  | \n",
       "| 2019-07-08 07:05:57 | hen_3L              | Einstreu 1-5        | 3                   | 2019-07-08          | 2019-07-08 07:05:58 | 1                   | 2019-07-08 07:05:57 |  0                  | \n",
       "| 2019-07-08 07:05:58 | hen_3L              | Rampe 1-5           | 3                   | 2019-07-08          | 2019-07-08 07:05:59 | 1                   | 2019-07-08 07:05:57 |  1                  | \n",
       "| 2019-07-08 07:05:59 | hen_3L              | Einstreu 1-5        | 3                   | 2019-07-08          | 2019-07-08 07:06:02 | 3                   | 2019-07-08 07:05:58 |  1                  | \n",
       "\n",
       "\n"
      ],
      "text/plain": [
       "  Timestamp           HenID  Zone         PenID day        next_record_date   \n",
       "1 2019-07-08 07:05:53 hen_3L Rampe 1-5    3     2019-07-08 2019-07-08 07:05:56\n",
       "2 2019-07-08 07:05:56 hen_3L Einstreu 1-5 3     2019-07-08 2019-07-08 07:05:57\n",
       "3 2019-07-08 07:05:57 hen_3L Rampe 1-5    3     2019-07-08 2019-07-08 07:05:57\n",
       "4 2019-07-08 07:05:57 hen_3L Einstreu 1-5 3     2019-07-08 2019-07-08 07:05:58\n",
       "5 2019-07-08 07:05:58 hen_3L Rampe 1-5    3     2019-07-08 2019-07-08 07:05:59\n",
       "6 2019-07-08 07:05:59 hen_3L Einstreu 1-5 3     2019-07-08 2019-07-08 07:06:02\n",
       "  duration previous_record_date previous_duration\n",
       "1 3        1999-01-01 00:00:00  NA               \n",
       "2 1        2019-07-08 07:05:53   3               \n",
       "3 0        2019-07-08 07:05:56   1               \n",
       "4 1        2019-07-08 07:05:57   0               \n",
       "5 1        2019-07-08 07:05:57   1               \n",
       "6 3        2019-07-08 07:05:58   1               "
      ]
     },
     "metadata": {},
     "output_type": "display_data"
    }
   ],
   "source": [
    "head(df_hen)"
   ]
  },
  {
   "cell_type": "code",
   "execution_count": 33,
   "metadata": {},
   "outputs": [
    {
     "data": {
      "text/html": [
       "<ol class=list-inline>\n",
       "\t<li>'Interzone'</li>\n",
       "\t<li>'Interzone_f'</li>\n",
       "\t<li>'Rampe 1-5'</li>\n",
       "\t<li>'Einstreu 1-5'</li>\n",
       "\t<li>'Box8'</li>\n",
       "\t<li>'Box7'</li>\n",
       "\t<li>'Box1'</li>\n",
       "\t<li>'Box2'</li>\n",
       "\t<li>'Box3'</li>\n",
       "\t<li>'Box4'</li>\n",
       "\t<li>'Rampe 6-10'</li>\n",
       "\t<li>'Einstreu 6-10'</li>\n",
       "\t<li>'Box12'</li>\n",
       "\t<li>'Box11'</li>\n",
       "\t<li>'Box16'</li>\n",
       "\t<li>'Box15'</li>\n",
       "\t<li>'Box13'</li>\n",
       "\t<li>'Box14'</li>\n",
       "\t<li>'Box20'</li>\n",
       "\t<li>'Box19'</li>\n",
       "\t<li>'Box5'</li>\n",
       "\t<li>'Box6'</li>\n",
       "\t<li>'Box18'</li>\n",
       "\t<li>'Box17'</li>\n",
       "\t<li>'Box9'</li>\n",
       "\t<li>'Box10'</li>\n",
       "</ol>\n"
      ],
      "text/latex": [
       "\\begin{enumerate*}\n",
       "\\item 'Interzone'\n",
       "\\item 'Interzone\\_f'\n",
       "\\item 'Rampe 1-5'\n",
       "\\item 'Einstreu 1-5'\n",
       "\\item 'Box8'\n",
       "\\item 'Box7'\n",
       "\\item 'Box1'\n",
       "\\item 'Box2'\n",
       "\\item 'Box3'\n",
       "\\item 'Box4'\n",
       "\\item 'Rampe 6-10'\n",
       "\\item 'Einstreu 6-10'\n",
       "\\item 'Box12'\n",
       "\\item 'Box11'\n",
       "\\item 'Box16'\n",
       "\\item 'Box15'\n",
       "\\item 'Box13'\n",
       "\\item 'Box14'\n",
       "\\item 'Box20'\n",
       "\\item 'Box19'\n",
       "\\item 'Box5'\n",
       "\\item 'Box6'\n",
       "\\item 'Box18'\n",
       "\\item 'Box17'\n",
       "\\item 'Box9'\n",
       "\\item 'Box10'\n",
       "\\end{enumerate*}\n"
      ],
      "text/markdown": [
       "1. 'Interzone'\n",
       "2. 'Interzone_f'\n",
       "3. 'Rampe 1-5'\n",
       "4. 'Einstreu 1-5'\n",
       "5. 'Box8'\n",
       "6. 'Box7'\n",
       "7. 'Box1'\n",
       "8. 'Box2'\n",
       "9. 'Box3'\n",
       "10. 'Box4'\n",
       "11. 'Rampe 6-10'\n",
       "12. 'Einstreu 6-10'\n",
       "13. 'Box12'\n",
       "14. 'Box11'\n",
       "15. 'Box16'\n",
       "16. 'Box15'\n",
       "17. 'Box13'\n",
       "18. 'Box14'\n",
       "19. 'Box20'\n",
       "20. 'Box19'\n",
       "21. 'Box5'\n",
       "22. 'Box6'\n",
       "23. 'Box18'\n",
       "24. 'Box17'\n",
       "25. 'Box9'\n",
       "26. 'Box10'\n",
       "\n",
       "\n"
      ],
      "text/plain": [
       " [1] \"Interzone\"     \"Interzone_f\"   \"Rampe 1-5\"     \"Einstreu 1-5\" \n",
       " [5] \"Box8\"          \"Box7\"          \"Box1\"          \"Box2\"         \n",
       " [9] \"Box3\"          \"Box4\"          \"Rampe 6-10\"    \"Einstreu 6-10\"\n",
       "[13] \"Box12\"         \"Box11\"         \"Box16\"         \"Box15\"        \n",
       "[17] \"Box13\"         \"Box14\"         \"Box20\"         \"Box19\"        \n",
       "[21] \"Box5\"          \"Box6\"          \"Box18\"         \"Box17\"        \n",
       "[25] \"Box9\"          \"Box10\"        "
      ]
     },
     "metadata": {},
     "output_type": "display_data"
    }
   ],
   "source": [
    "unique(df$Zone_without_flickering)"
   ]
  },
  {
   "cell_type": "code",
   "execution_count": 34,
   "metadata": {
    "scrolled": true
   },
   "outputs": [
    {
     "name": "stdout",
     "output_type": "stream",
     "text": [
      "[1] 4642259      12\n"
     ]
    },
    {
     "data": {
      "text/html": [
       "<table>\n",
       "<thead><tr><th scope=col>Timestamp</th><th scope=col>HenID</th><th scope=col>Zone</th><th scope=col>PenID</th><th scope=col>day</th><th scope=col>next_record_date</th><th scope=col>duration</th><th scope=col>previous_record_date</th><th scope=col>previous_duration</th><th scope=col>Zone_without_flickering</th><th scope=col>interzone_info</th><th scope=col>ToRemove</th></tr></thead>\n",
       "<tbody>\n",
       "\t<tr><td>2019-07-07 22:09:28                                                                                                                                                                                                                          </td><td>hen_4B                                                                                                                                                                                                                                       </td><td>Rampe 1-5                                                                                                                                                                                                                                    </td><td>4                                                                                                                                                                                                                                            </td><td>2019-07-07                                                                                                                                                                                                                                   </td><td>2019-07-07 22:09:29                                                                                                                                                                                                                          </td><td>1                                                                                                                                                                                                                                            </td><td>1999-01-01 00:00:00                                                                                                                                                                                                                          </td><td>NA                                                                                                                                                                                                                                           </td><td>Interzone                                                                                                                                                                                                                                    </td><td>Rampe 1-5                                                                                                                                                                                                                                    </td><td>FALSE                                                                                                                                                                                                                                        </td></tr>\n",
       "\t<tr><td>2019-07-07 22:09:29                                                                                                                                                                                                                          </td><td>hen_4B                                                                                                                                                                                                                                       </td><td>Einstreu 1-5                                                                                                                                                                                                                                 </td><td>4                                                                                                                                                                                                                                            </td><td>2019-07-07                                                                                                                                                                                                                                   </td><td>2019-07-07 22:09:29                                                                                                                                                                                                                          </td><td>0                                                                                                                                                                                                                                            </td><td>2019-07-07 22:09:28                                                                                                                                                                                                                          </td><td> 1                                                                                                                                                                                                                                           </td><td>Interzone                                                                                                                                                                                                                                    </td><td>Einstreu 1-5, Rampe 1-5, Einstreu 1-5, Rampe 1-5, Einstreu 1-5, Rampe 1-5, Einstreu 1-5, Rampe 1-5, Einstreu 1-5, Rampe 1-5, Einstreu 1-5, Rampe 1-5, Einstreu 1-5, Rampe 1-5, Einstreu 1-5, Rampe 1-5, Einstreu 1-5, Rampe 1-5, Einstreu 1-5</td><td> TRUE                                                                                                                                                                                                                                        </td></tr>\n",
       "\t<tr><td>2019-07-07 22:09:29                                                                                                                                                                                                                          </td><td>hen_4B                                                                                                                                                                                                                                       </td><td>Rampe 1-5                                                                                                                                                                                                                                    </td><td>4                                                                                                                                                                                                                                            </td><td>2019-07-07                                                                                                                                                                                                                                   </td><td>2019-07-07 22:09:30                                                                                                                                                                                                                          </td><td>1                                                                                                                                                                                                                                            </td><td>2019-07-07 22:09:29                                                                                                                                                                                                                          </td><td> 0                                                                                                                                                                                                                                           </td><td>Interzone                                                                                                                                                                                                                                    </td><td>Rampe 1-5, Einstreu 1-5, Rampe 1-5, Einstreu 1-5, Rampe 1-5, Einstreu 1-5, Rampe 1-5, Einstreu 1-5, Rampe 1-5, Einstreu 1-5, Rampe 1-5, Einstreu 1-5, Rampe 1-5, Einstreu 1-5, Rampe 1-5, Einstreu 1-5, Rampe 1-5, Einstreu 1-5              </td><td> TRUE                                                                                                                                                                                                                                        </td></tr>\n",
       "\t<tr><td>2019-07-07 22:09:30                                                                                                                                                                                                                          </td><td>hen_4B                                                                                                                                                                                                                                       </td><td>Einstreu 1-5                                                                                                                                                                                                                                 </td><td>4                                                                                                                                                                                                                                            </td><td>2019-07-07                                                                                                                                                                                                                                   </td><td>2019-07-07 22:09:31                                                                                                                                                                                                                          </td><td>1                                                                                                                                                                                                                                            </td><td>2019-07-07 22:09:29                                                                                                                                                                                                                          </td><td> 1                                                                                                                                                                                                                                           </td><td>Interzone                                                                                                                                                                                                                                    </td><td>Einstreu 1-5, Rampe 1-5, Einstreu 1-5, Rampe 1-5, Einstreu 1-5, Rampe 1-5, Einstreu 1-5, Rampe 1-5, Einstreu 1-5, Rampe 1-5, Einstreu 1-5, Rampe 1-5, Einstreu 1-5, Rampe 1-5, Einstreu 1-5, Rampe 1-5, Einstreu 1-5                         </td><td> TRUE                                                                                                                                                                                                                                        </td></tr>\n",
       "\t<tr><td>2019-07-07 22:09:31                                                                                                                                                                                                                          </td><td>hen_4B                                                                                                                                                                                                                                       </td><td>Rampe 1-5                                                                                                                                                                                                                                    </td><td>4                                                                                                                                                                                                                                            </td><td>2019-07-07                                                                                                                                                                                                                                   </td><td>2019-07-07 22:09:32                                                                                                                                                                                                                          </td><td>1                                                                                                                                                                                                                                            </td><td>2019-07-07 22:09:30                                                                                                                                                                                                                          </td><td> 1                                                                                                                                                                                                                                           </td><td>Interzone                                                                                                                                                                                                                                    </td><td>Rampe 1-5, Einstreu 1-5, Rampe 1-5, Einstreu 1-5, Rampe 1-5, Einstreu 1-5, Rampe 1-5, Einstreu 1-5, Rampe 1-5, Einstreu 1-5, Rampe 1-5, Einstreu 1-5, Rampe 1-5, Einstreu 1-5, Rampe 1-5, Einstreu 1-5                                       </td><td> TRUE                                                                                                                                                                                                                                        </td></tr>\n",
       "\t<tr><td>2019-07-07 22:09:32                                                                                                                                                                                                                          </td><td>hen_4B                                                                                                                                                                                                                                       </td><td>Einstreu 1-5                                                                                                                                                                                                                                 </td><td>4                                                                                                                                                                                                                                            </td><td>2019-07-07                                                                                                                                                                                                                                   </td><td>2019-07-07 22:09:32                                                                                                                                                                                                                          </td><td>0                                                                                                                                                                                                                                            </td><td>2019-07-07 22:09:31                                                                                                                                                                                                                          </td><td> 1                                                                                                                                                                                                                                           </td><td>Interzone                                                                                                                                                                                                                                    </td><td>Einstreu 1-5, Rampe 1-5, Einstreu 1-5, Rampe 1-5, Einstreu 1-5, Rampe 1-5, Einstreu 1-5, Rampe 1-5, Einstreu 1-5, Rampe 1-5, Einstreu 1-5, Rampe 1-5, Einstreu 1-5, Rampe 1-5, Einstreu 1-5                                                  </td><td> TRUE                                                                                                                                                                                                                                        </td></tr>\n",
       "</tbody>\n",
       "</table>\n"
      ],
      "text/latex": [
       "\\begin{tabular}{r|llllllllllll}\n",
       " Timestamp & HenID & Zone & PenID & day & next\\_record\\_date & duration & previous\\_record\\_date & previous\\_duration & Zone\\_without\\_flickering & interzone\\_info & ToRemove\\\\\n",
       "\\hline\n",
       "\t 2019-07-07 22:09:28                                                                                                                                                                                                                           & hen\\_4B                                                                                                                                                                                                                                      & Rampe 1-5                                                                                                                                                                                                                                     & 4                                                                                                                                                                                                                                             & 2019-07-07                                                                                                                                                                                                                                    & 2019-07-07 22:09:29                                                                                                                                                                                                                           & 1                                                                                                                                                                                                                                             & 1999-01-01 00:00:00                                                                                                                                                                                                                           & NA                                                                                                                                                                                                                                            & Interzone                                                                                                                                                                                                                                     & Rampe 1-5                                                                                                                                                                                                                                     & FALSE                                                                                                                                                                                                                                        \\\\\n",
       "\t 2019-07-07 22:09:29                                                                                                                                                                                                                           & hen\\_4B                                                                                                                                                                                                                                      & Einstreu 1-5                                                                                                                                                                                                                                  & 4                                                                                                                                                                                                                                             & 2019-07-07                                                                                                                                                                                                                                    & 2019-07-07 22:09:29                                                                                                                                                                                                                           & 0                                                                                                                                                                                                                                             & 2019-07-07 22:09:28                                                                                                                                                                                                                           &  1                                                                                                                                                                                                                                            & Interzone                                                                                                                                                                                                                                     & Einstreu 1-5, Rampe 1-5, Einstreu 1-5, Rampe 1-5, Einstreu 1-5, Rampe 1-5, Einstreu 1-5, Rampe 1-5, Einstreu 1-5, Rampe 1-5, Einstreu 1-5, Rampe 1-5, Einstreu 1-5, Rampe 1-5, Einstreu 1-5, Rampe 1-5, Einstreu 1-5, Rampe 1-5, Einstreu 1-5 &  TRUE                                                                                                                                                                                                                                        \\\\\n",
       "\t 2019-07-07 22:09:29                                                                                                                                                                                                                           & hen\\_4B                                                                                                                                                                                                                                      & Rampe 1-5                                                                                                                                                                                                                                     & 4                                                                                                                                                                                                                                             & 2019-07-07                                                                                                                                                                                                                                    & 2019-07-07 22:09:30                                                                                                                                                                                                                           & 1                                                                                                                                                                                                                                             & 2019-07-07 22:09:29                                                                                                                                                                                                                           &  0                                                                                                                                                                                                                                            & Interzone                                                                                                                                                                                                                                     & Rampe 1-5, Einstreu 1-5, Rampe 1-5, Einstreu 1-5, Rampe 1-5, Einstreu 1-5, Rampe 1-5, Einstreu 1-5, Rampe 1-5, Einstreu 1-5, Rampe 1-5, Einstreu 1-5, Rampe 1-5, Einstreu 1-5, Rampe 1-5, Einstreu 1-5, Rampe 1-5, Einstreu 1-5               &  TRUE                                                                                                                                                                                                                                        \\\\\n",
       "\t 2019-07-07 22:09:30                                                                                                                                                                                                                           & hen\\_4B                                                                                                                                                                                                                                      & Einstreu 1-5                                                                                                                                                                                                                                  & 4                                                                                                                                                                                                                                             & 2019-07-07                                                                                                                                                                                                                                    & 2019-07-07 22:09:31                                                                                                                                                                                                                           & 1                                                                                                                                                                                                                                             & 2019-07-07 22:09:29                                                                                                                                                                                                                           &  1                                                                                                                                                                                                                                            & Interzone                                                                                                                                                                                                                                     & Einstreu 1-5, Rampe 1-5, Einstreu 1-5, Rampe 1-5, Einstreu 1-5, Rampe 1-5, Einstreu 1-5, Rampe 1-5, Einstreu 1-5, Rampe 1-5, Einstreu 1-5, Rampe 1-5, Einstreu 1-5, Rampe 1-5, Einstreu 1-5, Rampe 1-5, Einstreu 1-5                          &  TRUE                                                                                                                                                                                                                                        \\\\\n",
       "\t 2019-07-07 22:09:31                                                                                                                                                                                                                           & hen\\_4B                                                                                                                                                                                                                                      & Rampe 1-5                                                                                                                                                                                                                                     & 4                                                                                                                                                                                                                                             & 2019-07-07                                                                                                                                                                                                                                    & 2019-07-07 22:09:32                                                                                                                                                                                                                           & 1                                                                                                                                                                                                                                             & 2019-07-07 22:09:30                                                                                                                                                                                                                           &  1                                                                                                                                                                                                                                            & Interzone                                                                                                                                                                                                                                     & Rampe 1-5, Einstreu 1-5, Rampe 1-5, Einstreu 1-5, Rampe 1-5, Einstreu 1-5, Rampe 1-5, Einstreu 1-5, Rampe 1-5, Einstreu 1-5, Rampe 1-5, Einstreu 1-5, Rampe 1-5, Einstreu 1-5, Rampe 1-5, Einstreu 1-5                                        &  TRUE                                                                                                                                                                                                                                        \\\\\n",
       "\t 2019-07-07 22:09:32                                                                                                                                                                                                                           & hen\\_4B                                                                                                                                                                                                                                      & Einstreu 1-5                                                                                                                                                                                                                                  & 4                                                                                                                                                                                                                                             & 2019-07-07                                                                                                                                                                                                                                    & 2019-07-07 22:09:32                                                                                                                                                                                                                           & 0                                                                                                                                                                                                                                             & 2019-07-07 22:09:31                                                                                                                                                                                                                           &  1                                                                                                                                                                                                                                            & Interzone                                                                                                                                                                                                                                     & Einstreu 1-5, Rampe 1-5, Einstreu 1-5, Rampe 1-5, Einstreu 1-5, Rampe 1-5, Einstreu 1-5, Rampe 1-5, Einstreu 1-5, Rampe 1-5, Einstreu 1-5, Rampe 1-5, Einstreu 1-5, Rampe 1-5, Einstreu 1-5                                                   &  TRUE                                                                                                                                                                                                                                        \\\\\n",
       "\\end{tabular}\n"
      ],
      "text/markdown": [
       "\n",
       "Timestamp | HenID | Zone | PenID | day | next_record_date | duration | previous_record_date | previous_duration | Zone_without_flickering | interzone_info | ToRemove | \n",
       "|---|---|---|---|---|---|\n",
       "| 2019-07-07 22:09:28                                                                                                                                                                                                                           | hen_4B                                                                                                                                                                                                                                        | Rampe 1-5                                                                                                                                                                                                                                     | 4                                                                                                                                                                                                                                             | 2019-07-07                                                                                                                                                                                                                                    | 2019-07-07 22:09:29                                                                                                                                                                                                                           | 1                                                                                                                                                                                                                                             | 1999-01-01 00:00:00                                                                                                                                                                                                                           | NA                                                                                                                                                                                                                                            | Interzone                                                                                                                                                                                                                                     | Rampe 1-5                                                                                                                                                                                                                                     | FALSE                                                                                                                                                                                                                                         | \n",
       "| 2019-07-07 22:09:29                                                                                                                                                                                                                           | hen_4B                                                                                                                                                                                                                                        | Einstreu 1-5                                                                                                                                                                                                                                  | 4                                                                                                                                                                                                                                             | 2019-07-07                                                                                                                                                                                                                                    | 2019-07-07 22:09:29                                                                                                                                                                                                                           | 0                                                                                                                                                                                                                                             | 2019-07-07 22:09:28                                                                                                                                                                                                                           |  1                                                                                                                                                                                                                                            | Interzone                                                                                                                                                                                                                                     | Einstreu 1-5, Rampe 1-5, Einstreu 1-5, Rampe 1-5, Einstreu 1-5, Rampe 1-5, Einstreu 1-5, Rampe 1-5, Einstreu 1-5, Rampe 1-5, Einstreu 1-5, Rampe 1-5, Einstreu 1-5, Rampe 1-5, Einstreu 1-5, Rampe 1-5, Einstreu 1-5, Rampe 1-5, Einstreu 1-5 |  TRUE                                                                                                                                                                                                                                         | \n",
       "| 2019-07-07 22:09:29                                                                                                                                                                                                                           | hen_4B                                                                                                                                                                                                                                        | Rampe 1-5                                                                                                                                                                                                                                     | 4                                                                                                                                                                                                                                             | 2019-07-07                                                                                                                                                                                                                                    | 2019-07-07 22:09:30                                                                                                                                                                                                                           | 1                                                                                                                                                                                                                                             | 2019-07-07 22:09:29                                                                                                                                                                                                                           |  0                                                                                                                                                                                                                                            | Interzone                                                                                                                                                                                                                                     | Rampe 1-5, Einstreu 1-5, Rampe 1-5, Einstreu 1-5, Rampe 1-5, Einstreu 1-5, Rampe 1-5, Einstreu 1-5, Rampe 1-5, Einstreu 1-5, Rampe 1-5, Einstreu 1-5, Rampe 1-5, Einstreu 1-5, Rampe 1-5, Einstreu 1-5, Rampe 1-5, Einstreu 1-5               |  TRUE                                                                                                                                                                                                                                         | \n",
       "| 2019-07-07 22:09:30                                                                                                                                                                                                                           | hen_4B                                                                                                                                                                                                                                        | Einstreu 1-5                                                                                                                                                                                                                                  | 4                                                                                                                                                                                                                                             | 2019-07-07                                                                                                                                                                                                                                    | 2019-07-07 22:09:31                                                                                                                                                                                                                           | 1                                                                                                                                                                                                                                             | 2019-07-07 22:09:29                                                                                                                                                                                                                           |  1                                                                                                                                                                                                                                            | Interzone                                                                                                                                                                                                                                     | Einstreu 1-5, Rampe 1-5, Einstreu 1-5, Rampe 1-5, Einstreu 1-5, Rampe 1-5, Einstreu 1-5, Rampe 1-5, Einstreu 1-5, Rampe 1-5, Einstreu 1-5, Rampe 1-5, Einstreu 1-5, Rampe 1-5, Einstreu 1-5, Rampe 1-5, Einstreu 1-5                          |  TRUE                                                                                                                                                                                                                                         | \n",
       "| 2019-07-07 22:09:31                                                                                                                                                                                                                           | hen_4B                                                                                                                                                                                                                                        | Rampe 1-5                                                                                                                                                                                                                                     | 4                                                                                                                                                                                                                                             | 2019-07-07                                                                                                                                                                                                                                    | 2019-07-07 22:09:32                                                                                                                                                                                                                           | 1                                                                                                                                                                                                                                             | 2019-07-07 22:09:30                                                                                                                                                                                                                           |  1                                                                                                                                                                                                                                            | Interzone                                                                                                                                                                                                                                     | Rampe 1-5, Einstreu 1-5, Rampe 1-5, Einstreu 1-5, Rampe 1-5, Einstreu 1-5, Rampe 1-5, Einstreu 1-5, Rampe 1-5, Einstreu 1-5, Rampe 1-5, Einstreu 1-5, Rampe 1-5, Einstreu 1-5, Rampe 1-5, Einstreu 1-5                                        |  TRUE                                                                                                                                                                                                                                         | \n",
       "| 2019-07-07 22:09:32                                                                                                                                                                                                                           | hen_4B                                                                                                                                                                                                                                        | Einstreu 1-5                                                                                                                                                                                                                                  | 4                                                                                                                                                                                                                                             | 2019-07-07                                                                                                                                                                                                                                    | 2019-07-07 22:09:32                                                                                                                                                                                                                           | 0                                                                                                                                                                                                                                             | 2019-07-07 22:09:31                                                                                                                                                                                                                           |  1                                                                                                                                                                                                                                            | Interzone                                                                                                                                                                                                                                     | Einstreu 1-5, Rampe 1-5, Einstreu 1-5, Rampe 1-5, Einstreu 1-5, Rampe 1-5, Einstreu 1-5, Rampe 1-5, Einstreu 1-5, Rampe 1-5, Einstreu 1-5, Rampe 1-5, Einstreu 1-5, Rampe 1-5, Einstreu 1-5                                                   |  TRUE                                                                                                                                                                                                                                         | \n",
       "\n",
       "\n"
      ],
      "text/plain": [
       "  Timestamp           HenID  Zone         PenID day        next_record_date   \n",
       "1 2019-07-07 22:09:28 hen_4B Rampe 1-5    4     2019-07-07 2019-07-07 22:09:29\n",
       "2 2019-07-07 22:09:29 hen_4B Einstreu 1-5 4     2019-07-07 2019-07-07 22:09:29\n",
       "3 2019-07-07 22:09:29 hen_4B Rampe 1-5    4     2019-07-07 2019-07-07 22:09:30\n",
       "4 2019-07-07 22:09:30 hen_4B Einstreu 1-5 4     2019-07-07 2019-07-07 22:09:31\n",
       "5 2019-07-07 22:09:31 hen_4B Rampe 1-5    4     2019-07-07 2019-07-07 22:09:32\n",
       "6 2019-07-07 22:09:32 hen_4B Einstreu 1-5 4     2019-07-07 2019-07-07 22:09:32\n",
       "  duration previous_record_date previous_duration Zone_without_flickering\n",
       "1 1        1999-01-01 00:00:00  NA                Interzone              \n",
       "2 0        2019-07-07 22:09:28   1                Interzone              \n",
       "3 1        2019-07-07 22:09:29   0                Interzone              \n",
       "4 1        2019-07-07 22:09:29   1                Interzone              \n",
       "5 1        2019-07-07 22:09:30   1                Interzone              \n",
       "6 0        2019-07-07 22:09:31   1                Interzone              \n",
       "  interzone_info                                                                                                                                                                                                                               \n",
       "1 Rampe 1-5                                                                                                                                                                                                                                    \n",
       "2 Einstreu 1-5, Rampe 1-5, Einstreu 1-5, Rampe 1-5, Einstreu 1-5, Rampe 1-5, Einstreu 1-5, Rampe 1-5, Einstreu 1-5, Rampe 1-5, Einstreu 1-5, Rampe 1-5, Einstreu 1-5, Rampe 1-5, Einstreu 1-5, Rampe 1-5, Einstreu 1-5, Rampe 1-5, Einstreu 1-5\n",
       "3 Rampe 1-5, Einstreu 1-5, Rampe 1-5, Einstreu 1-5, Rampe 1-5, Einstreu 1-5, Rampe 1-5, Einstreu 1-5, Rampe 1-5, Einstreu 1-5, Rampe 1-5, Einstreu 1-5, Rampe 1-5, Einstreu 1-5, Rampe 1-5, Einstreu 1-5, Rampe 1-5, Einstreu 1-5              \n",
       "4 Einstreu 1-5, Rampe 1-5, Einstreu 1-5, Rampe 1-5, Einstreu 1-5, Rampe 1-5, Einstreu 1-5, Rampe 1-5, Einstreu 1-5, Rampe 1-5, Einstreu 1-5, Rampe 1-5, Einstreu 1-5, Rampe 1-5, Einstreu 1-5, Rampe 1-5, Einstreu 1-5                         \n",
       "5 Rampe 1-5, Einstreu 1-5, Rampe 1-5, Einstreu 1-5, Rampe 1-5, Einstreu 1-5, Rampe 1-5, Einstreu 1-5, Rampe 1-5, Einstreu 1-5, Rampe 1-5, Einstreu 1-5, Rampe 1-5, Einstreu 1-5, Rampe 1-5, Einstreu 1-5                                       \n",
       "6 Einstreu 1-5, Rampe 1-5, Einstreu 1-5, Rampe 1-5, Einstreu 1-5, Rampe 1-5, Einstreu 1-5, Rampe 1-5, Einstreu 1-5, Rampe 1-5, Einstreu 1-5, Rampe 1-5, Einstreu 1-5, Rampe 1-5, Einstreu 1-5                                                  \n",
       "  ToRemove\n",
       "1 FALSE   \n",
       "2  TRUE   \n",
       "3  TRUE   \n",
       "4  TRUE   \n",
       "5  TRUE   \n",
       "6  TRUE   "
      ]
     },
     "metadata": {},
     "output_type": "display_data"
    },
    {
     "name": "stdout",
     "output_type": "stream",
     "text": [
      "[1] \"Total running time: 0.0233528860056842 mn\"\n"
     ]
    }
   ],
   "source": [
    "#differentiate between different interzones\n",
    "#very long as we need to look at the next zone only once we have changed the next row\n",
    "start = Sys.time()\n",
    "li_df = list()\n",
    "for (h in unique(df$HenID)){\n",
    "    df_hen = filter(df, HenID==h)\n",
    "    df_hen$Zone = as.character(df_hen$Zone)\n",
    "    df_hen$interzone_info = df_hen$Zone\n",
    "    df_hen$interzone_info = as.character(df_hen$interzone_info)\n",
    "    df_hen$Zone_without_flickering = as.character(df_hen$Zone_without_flickering)\n",
    "    df_hen$ToRemove = FALSE\n",
    "    #as we will keep the first entry of consecutives equal zones, we will take the value from the next record to the previous \n",
    "    #one (and not the opposite way)\n",
    "    #idea: keep the first interzone entry, and put all info about these interzones in the interzone_info column\n",
    "    #start with the last row, and put the rule: if row is not the same as the one after then just add the actual zone as info,\n",
    "    #otherwise if its the same then add the interzone info of now and after\n",
    "    for (i in rev(2:(dim(df_hen)[1]-1))){\n",
    "        xp = df_hen[i-1,]\n",
    "        x0 = df_hen[i,]\n",
    "        x1 = df_hen[i+1,]\n",
    "        if ((x0$Zone_without_flickering!=x1$Zone_without_flickering) & (x1$Zone_without_flickering!='Interzone_f')){\n",
    "            df_hen[i,'interzone_info'] = x0$Zone\n",
    "        }\n",
    "        else {\n",
    "            df_hen[i,'interzone_info'] = paste0(x0$interzone_info,', ',x1$interzone_info)\n",
    "        }\n",
    "        #if its interzone and the previous one is interzone then remove it\n",
    "        if (((x0$Zone_without_flickering=='Interzone')|(x0$Zone_without_flickering=='Interzone_f')) & (xp$Zone_without_flickering=='Interzone')){\n",
    "            df_hen[i,'ToRemove'] = TRUE\n",
    "        }\n",
    "    }\n",
    "    \n",
    "    #df_hen$interzone_info = factor(df_hen$interzone_info)\n",
    "    li_df = append(li_df,list(df_hen))\n",
    "}\n",
    "    \n",
    "#put again in one dataframe\n",
    "df = bind_rows(li_df)\n",
    "print(dim(df))\n",
    "#dont care about the false positive warning\n",
    "head(df)\n",
    "end = Sys.time()\n",
    "print(paste0(\"Total running time: \", (end-start)/60,\" mn\"))"
   ]
  },
  {
   "cell_type": "code",
   "execution_count": 35,
   "metadata": {},
   "outputs": [
    {
     "data": {
      "text/html": [
       "<table>\n",
       "<thead><tr><th></th><th scope=col>Timestamp</th><th scope=col>HenID</th><th scope=col>Zone</th><th scope=col>PenID</th><th scope=col>day</th><th scope=col>next_record_date</th><th scope=col>duration</th><th scope=col>previous_record_date</th><th scope=col>previous_duration</th><th scope=col>Zone_without_flickering</th><th scope=col>interzone_info</th><th scope=col>ToRemove</th></tr></thead>\n",
       "<tbody>\n",
       "\t<tr><th scope=row>4642254</th><td>2019-08-22 11:30:35                                                      </td><td>hen_3L                                                                   </td><td>Rampe 1-5                                                                </td><td>3                                                                        </td><td>2019-08-22                                                               </td><td>2019-08-22 11:30:36                                                      </td><td>         1                                                               </td><td>2019-08-22 11:30:35                                                      </td><td>0                                                                        </td><td>Interzone                                                                </td><td>Rampe 1-5, Einstreu 1-5, Rampe 1-5, Einstreu 1-5, Rampe 1-5, Einstreu 1-5</td><td> TRUE                                                                    </td></tr>\n",
       "\t<tr><th scope=row>4642255</th><td>2019-08-22 11:30:36                                                      </td><td>hen_3L                                                                   </td><td>Einstreu 1-5                                                             </td><td>3                                                                        </td><td>2019-08-22                                                               </td><td>2019-08-22 11:30:37                                                      </td><td>         1                                                               </td><td>2019-08-22 11:30:35                                                      </td><td>1                                                                        </td><td>Interzone                                                                </td><td>Einstreu 1-5, Rampe 1-5, Einstreu 1-5, Rampe 1-5, Einstreu 1-5           </td><td> TRUE                                                                    </td></tr>\n",
       "\t<tr><th scope=row>4642256</th><td>2019-08-22 11:30:37                                                      </td><td>hen_3L                                                                   </td><td>Rampe 1-5                                                                </td><td>3                                                                        </td><td>2019-08-22                                                               </td><td>2019-08-22 11:30:38                                                      </td><td>         1                                                               </td><td>2019-08-22 11:30:36                                                      </td><td>1                                                                        </td><td>Interzone                                                                </td><td>Rampe 1-5, Einstreu 1-5, Rampe 1-5, Einstreu 1-5                         </td><td> TRUE                                                                    </td></tr>\n",
       "\t<tr><th scope=row>4642257</th><td>2019-08-22 11:30:38                                                      </td><td>hen_3L                                                                   </td><td>Einstreu 1-5                                                             </td><td>3                                                                        </td><td>2019-08-22                                                               </td><td>2019-08-22 11:30:38                                                      </td><td>         0                                                               </td><td>2019-08-22 11:30:37                                                      </td><td>1                                                                        </td><td>Interzone                                                                </td><td>Einstreu 1-5, Rampe 1-5, Einstreu 1-5                                    </td><td> TRUE                                                                    </td></tr>\n",
       "\t<tr><th scope=row>4642258</th><td>2019-08-22 11:30:38                                                      </td><td>hen_3L                                                                   </td><td>Rampe 1-5                                                                </td><td>3                                                                        </td><td>2019-08-22                                                               </td><td>2019-08-22 11:30:39                                                      </td><td>         1                                                               </td><td>2019-08-22 11:30:38                                                      </td><td>0                                                                        </td><td>Interzone                                                                </td><td>Rampe 1-5, Einstreu 1-5                                                  </td><td> TRUE                                                                    </td></tr>\n",
       "\t<tr><th scope=row>4642259</th><td>2019-08-22 11:30:39                                                      </td><td>hen_3L                                                                   </td><td>Einstreu 1-5                                                             </td><td>3                                                                        </td><td>2019-08-22                                                               </td><td>1999-01-01 00:00:00                                                      </td><td>-651321039                                                               </td><td>2019-08-22 11:30:38                                                      </td><td>1                                                                        </td><td>Interzone                                                                </td><td>Einstreu 1-5                                                             </td><td>FALSE                                                                    </td></tr>\n",
       "</tbody>\n",
       "</table>\n"
      ],
      "text/latex": [
       "\\begin{tabular}{r|llllllllllll}\n",
       "  & Timestamp & HenID & Zone & PenID & day & next\\_record\\_date & duration & previous\\_record\\_date & previous\\_duration & Zone\\_without\\_flickering & interzone\\_info & ToRemove\\\\\n",
       "\\hline\n",
       "\t4642254 & 2019-08-22 11:30:35                                                       & hen\\_3L                                                                  & Rampe 1-5                                                                 & 3                                                                         & 2019-08-22                                                                & 2019-08-22 11:30:36                                                       &          1                                                                & 2019-08-22 11:30:35                                                       & 0                                                                         & Interzone                                                                 & Rampe 1-5, Einstreu 1-5, Rampe 1-5, Einstreu 1-5, Rampe 1-5, Einstreu 1-5 &  TRUE                                                                    \\\\\n",
       "\t4642255 & 2019-08-22 11:30:36                                                       & hen\\_3L                                                                  & Einstreu 1-5                                                              & 3                                                                         & 2019-08-22                                                                & 2019-08-22 11:30:37                                                       &          1                                                                & 2019-08-22 11:30:35                                                       & 1                                                                         & Interzone                                                                 & Einstreu 1-5, Rampe 1-5, Einstreu 1-5, Rampe 1-5, Einstreu 1-5            &  TRUE                                                                    \\\\\n",
       "\t4642256 & 2019-08-22 11:30:37                                                       & hen\\_3L                                                                  & Rampe 1-5                                                                 & 3                                                                         & 2019-08-22                                                                & 2019-08-22 11:30:38                                                       &          1                                                                & 2019-08-22 11:30:36                                                       & 1                                                                         & Interzone                                                                 & Rampe 1-5, Einstreu 1-5, Rampe 1-5, Einstreu 1-5                          &  TRUE                                                                    \\\\\n",
       "\t4642257 & 2019-08-22 11:30:38                                                       & hen\\_3L                                                                  & Einstreu 1-5                                                              & 3                                                                         & 2019-08-22                                                                & 2019-08-22 11:30:38                                                       &          0                                                                & 2019-08-22 11:30:37                                                       & 1                                                                         & Interzone                                                                 & Einstreu 1-5, Rampe 1-5, Einstreu 1-5                                     &  TRUE                                                                    \\\\\n",
       "\t4642258 & 2019-08-22 11:30:38                                                       & hen\\_3L                                                                  & Rampe 1-5                                                                 & 3                                                                         & 2019-08-22                                                                & 2019-08-22 11:30:39                                                       &          1                                                                & 2019-08-22 11:30:38                                                       & 0                                                                         & Interzone                                                                 & Rampe 1-5, Einstreu 1-5                                                   &  TRUE                                                                    \\\\\n",
       "\t4642259 & 2019-08-22 11:30:39                                                       & hen\\_3L                                                                  & Einstreu 1-5                                                              & 3                                                                         & 2019-08-22                                                                & 1999-01-01 00:00:00                                                       & -651321039                                                                & 2019-08-22 11:30:38                                                       & 1                                                                         & Interzone                                                                 & Einstreu 1-5                                                              & FALSE                                                                    \\\\\n",
       "\\end{tabular}\n"
      ],
      "text/markdown": [
       "\n",
       "| <!--/--> | Timestamp | HenID | Zone | PenID | day | next_record_date | duration | previous_record_date | previous_duration | Zone_without_flickering | interzone_info | ToRemove | \n",
       "|---|---|---|---|---|---|\n",
       "| 4642254 | 2019-08-22 11:30:35                                                       | hen_3L                                                                    | Rampe 1-5                                                                 | 3                                                                         | 2019-08-22                                                                | 2019-08-22 11:30:36                                                       |          1                                                                | 2019-08-22 11:30:35                                                       | 0                                                                         | Interzone                                                                 | Rampe 1-5, Einstreu 1-5, Rampe 1-5, Einstreu 1-5, Rampe 1-5, Einstreu 1-5 |  TRUE                                                                     | \n",
       "| 4642255 | 2019-08-22 11:30:36                                                       | hen_3L                                                                    | Einstreu 1-5                                                              | 3                                                                         | 2019-08-22                                                                | 2019-08-22 11:30:37                                                       |          1                                                                | 2019-08-22 11:30:35                                                       | 1                                                                         | Interzone                                                                 | Einstreu 1-5, Rampe 1-5, Einstreu 1-5, Rampe 1-5, Einstreu 1-5            |  TRUE                                                                     | \n",
       "| 4642256 | 2019-08-22 11:30:37                                                       | hen_3L                                                                    | Rampe 1-5                                                                 | 3                                                                         | 2019-08-22                                                                | 2019-08-22 11:30:38                                                       |          1                                                                | 2019-08-22 11:30:36                                                       | 1                                                                         | Interzone                                                                 | Rampe 1-5, Einstreu 1-5, Rampe 1-5, Einstreu 1-5                          |  TRUE                                                                     | \n",
       "| 4642257 | 2019-08-22 11:30:38                                                       | hen_3L                                                                    | Einstreu 1-5                                                              | 3                                                                         | 2019-08-22                                                                | 2019-08-22 11:30:38                                                       |          0                                                                | 2019-08-22 11:30:37                                                       | 1                                                                         | Interzone                                                                 | Einstreu 1-5, Rampe 1-5, Einstreu 1-5                                     |  TRUE                                                                     | \n",
       "| 4642258 | 2019-08-22 11:30:38                                                       | hen_3L                                                                    | Rampe 1-5                                                                 | 3                                                                         | 2019-08-22                                                                | 2019-08-22 11:30:39                                                       |          1                                                                | 2019-08-22 11:30:38                                                       | 0                                                                         | Interzone                                                                 | Rampe 1-5, Einstreu 1-5                                                   |  TRUE                                                                     | \n",
       "| 4642259 | 2019-08-22 11:30:39                                                       | hen_3L                                                                    | Einstreu 1-5                                                              | 3                                                                         | 2019-08-22                                                                | 1999-01-01 00:00:00                                                       | -651321039                                                                | 2019-08-22 11:30:38                                                       | 1                                                                         | Interzone                                                                 | Einstreu 1-5                                                              | FALSE                                                                     | \n",
       "\n",
       "\n"
      ],
      "text/plain": [
       "        Timestamp           HenID  Zone         PenID day       \n",
       "4642254 2019-08-22 11:30:35 hen_3L Rampe 1-5    3     2019-08-22\n",
       "4642255 2019-08-22 11:30:36 hen_3L Einstreu 1-5 3     2019-08-22\n",
       "4642256 2019-08-22 11:30:37 hen_3L Rampe 1-5    3     2019-08-22\n",
       "4642257 2019-08-22 11:30:38 hen_3L Einstreu 1-5 3     2019-08-22\n",
       "4642258 2019-08-22 11:30:38 hen_3L Rampe 1-5    3     2019-08-22\n",
       "4642259 2019-08-22 11:30:39 hen_3L Einstreu 1-5 3     2019-08-22\n",
       "        next_record_date    duration   previous_record_date previous_duration\n",
       "4642254 2019-08-22 11:30:36          1 2019-08-22 11:30:35  0                \n",
       "4642255 2019-08-22 11:30:37          1 2019-08-22 11:30:35  1                \n",
       "4642256 2019-08-22 11:30:38          1 2019-08-22 11:30:36  1                \n",
       "4642257 2019-08-22 11:30:38          0 2019-08-22 11:30:37  1                \n",
       "4642258 2019-08-22 11:30:39          1 2019-08-22 11:30:38  0                \n",
       "4642259 1999-01-01 00:00:00 -651321039 2019-08-22 11:30:38  1                \n",
       "        Zone_without_flickering\n",
       "4642254 Interzone              \n",
       "4642255 Interzone              \n",
       "4642256 Interzone              \n",
       "4642257 Interzone              \n",
       "4642258 Interzone              \n",
       "4642259 Interzone              \n",
       "        interzone_info                                                           \n",
       "4642254 Rampe 1-5, Einstreu 1-5, Rampe 1-5, Einstreu 1-5, Rampe 1-5, Einstreu 1-5\n",
       "4642255 Einstreu 1-5, Rampe 1-5, Einstreu 1-5, Rampe 1-5, Einstreu 1-5           \n",
       "4642256 Rampe 1-5, Einstreu 1-5, Rampe 1-5, Einstreu 1-5                         \n",
       "4642257 Einstreu 1-5, Rampe 1-5, Einstreu 1-5                                    \n",
       "4642258 Rampe 1-5, Einstreu 1-5                                                  \n",
       "4642259 Einstreu 1-5                                                             \n",
       "        ToRemove\n",
       "4642254  TRUE   \n",
       "4642255  TRUE   \n",
       "4642256  TRUE   \n",
       "4642257  TRUE   \n",
       "4642258  TRUE   \n",
       "4642259 FALSE   "
      ]
     },
     "metadata": {},
     "output_type": "display_data"
    }
   ],
   "source": [
    "tail(df)"
   ]
  },
  {
   "cell_type": "code",
   "execution_count": 37,
   "metadata": {},
   "outputs": [],
   "source": [
    "#correct names and keep the first interzone row\n",
    "df$Zone_without_flickering_nodiff = df$Zone_without_flickering\n",
    "df$interzone_name = lapply(df$interzone_info, function(x){paste0('Interzone_', paste(sort(unlist(lapply(unique(lapply(strsplit(x,','), function(x){trimws(x)})[[1]]),\n",
    "      function(x){substr(x, start = 1, stop = 1)}))), collapse = ''))})\n",
    "df$Zone_without_flickering = ifelse(df$Zone_without_flickering=='Interzone', df$interzone_name, df$Zone_without_flickering)"
   ]
  },
  {
   "cell_type": "code",
   "execution_count": 39,
   "metadata": {},
   "outputs": [
    {
     "name": "stdout",
     "output_type": "stream",
     "text": [
      "[1] \"We remove 3291327 records due to flickering situations, we are left now with 1350932 records\"\n"
     ]
    }
   ],
   "source": [
    "#we remove NOW the interzones record that are not the first record and NOT BEFOREHAND, in order to verify things all together\n",
    "#remove interzone that are not the first one\n",
    "x0 = dim(df)[1]\n",
    "df = filter(df, df$ToRemove==FALSE)\n",
    "#Now, duration/previous_record_date/next_record_date makes no more sense for interzone and consecutives equal records, so lets \n",
    "#remove it\n",
    "df = select(df, -duration,-previous_duration,-previous_record_date,-ToRemove,-Zone_without_flickering_nodiff,\n",
    "       -interzone_name)\n",
    "#SHOULD BE: We remove 3291327 records due to flickering situations, we are left now with 1350932 records\n",
    "print(paste0('We remove ',x0-dim(df)[1],' records due to flickering situations, we are left now with ',dim(df)[1], ' records'))"
   ]
  },
  {
   "cell_type": "markdown",
   "metadata": {},
   "source": [
    "#### remove consecutives equal Zone for same hens at (not strictly) more than nbr_second second duration ?"
   ]
  },
  {
   "cell_type": "code",
   "execution_count": 40,
   "metadata": {},
   "outputs": [
    {
     "name": "stdout",
     "output_type": "stream",
     "text": [
      "[1] 1350932       9\n"
     ]
    },
    {
     "data": {
      "text/html": [
       "<table>\n",
       "<thead><tr><th></th><th scope=col>Timestamp</th><th scope=col>HenID</th><th scope=col>Zone</th><th scope=col>PenID</th><th scope=col>day</th><th scope=col>next_record_date</th><th scope=col>Zone_without_flickering</th><th scope=col>interzone_info</th><th scope=col>next_zone</th></tr></thead>\n",
       "<tbody>\n",
       "\t<tr><th scope=row>1350927</th><td>2019-08-22 11:29:52                                                                                                                                 </td><td>hen_3L                                                                                                                                              </td><td>Rampe 1-5                                                                                                                                           </td><td>3                                                                                                                                                   </td><td>2019-08-22                                                                                                                                          </td><td>2019-08-22 11:30:02                                                                                                                                 </td><td>Rampe 1-5                                                                                                                                           </td><td>Rampe 1-5                                                                                                                                           </td><td>Interzone_ER                                                                                                                                        </td></tr>\n",
       "\t<tr><th scope=row>1350928</th><td>2019-08-22 11:30:02                                                                                                                                 </td><td>hen_3L                                                                                                                                              </td><td>Einstreu 1-5                                                                                                                                        </td><td>3                                                                                                                                                   </td><td>2019-08-22                                                                                                                                          </td><td>2019-08-22 11:30:02                                                                                                                                 </td><td>Interzone_ER                                                                                                                                        </td><td>Einstreu 1-5, Rampe 1-5, Einstreu 1-5, Rampe 1-5, Einstreu 1-5, Rampe 1-5                                                                           </td><td>Interzone_ER                                                                                                                                        </td></tr>\n",
       "\t<tr><th scope=row>1350929</th><td>2019-08-22 11:30:21                                                                                                                                 </td><td>hen_3L                                                                                                                                              </td><td>Einstreu 1-5                                                                                                                                        </td><td>3                                                                                                                                                   </td><td>2019-08-22                                                                                                                                          </td><td>2019-08-22 11:30:21                                                                                                                                 </td><td>Interzone_ER                                                                                                                                        </td><td>Einstreu 1-5, Rampe 1-5                                                                                                                             </td><td>Einstreu 1-5                                                                                                                                        </td></tr>\n",
       "\t<tr><th scope=row>1350930</th><td>2019-08-22 11:30:27                                                                                                                                 </td><td>hen_3L                                                                                                                                              </td><td>Einstreu 1-5                                                                                                                                        </td><td>3                                                                                                                                                   </td><td>2019-08-22                                                                                                                                          </td><td>2019-08-22 11:30:32                                                                                                                                 </td><td>Einstreu 1-5                                                                                                                                        </td><td>Einstreu 1-5                                                                                                                                        </td><td>Interzone_ER                                                                                                                                        </td></tr>\n",
       "\t<tr><th scope=row>1350931</th><td>2019-08-22 11:30:32                                                                                                                                 </td><td>hen_3L                                                                                                                                              </td><td>Rampe 1-5                                                                                                                                           </td><td>3                                                                                                                                                   </td><td>2019-08-22                                                                                                                                          </td><td>2019-08-22 11:30:32                                                                                                                                 </td><td>Interzone_ER                                                                                                                                        </td><td>Rampe 1-5, Einstreu 1-5, Rampe 1-5, Einstreu 1-5, Rampe 1-5, Einstreu 1-5, Rampe 1-5, Einstreu 1-5, Rampe 1-5, Einstreu 1-5, Rampe 1-5, Einstreu 1-5</td><td>Interzone_E                                                                                                                                         </td></tr>\n",
       "\t<tr><th scope=row>1350932</th><td>2019-08-22 11:30:39                                                                                                                                 </td><td>hen_3L                                                                                                                                              </td><td>Einstreu 1-5                                                                                                                                        </td><td>3                                                                                                                                                   </td><td>2019-08-22                                                                                                                                          </td><td>1999-01-01 00:00:00                                                                                                                                 </td><td>Interzone_E                                                                                                                                         </td><td>Einstreu 1-5                                                                                                                                        </td><td>                                                                                                                                                    </td></tr>\n",
       "</tbody>\n",
       "</table>\n"
      ],
      "text/latex": [
       "\\begin{tabular}{r|lllllllll}\n",
       "  & Timestamp & HenID & Zone & PenID & day & next\\_record\\_date & Zone\\_without\\_flickering & interzone\\_info & next\\_zone\\\\\n",
       "\\hline\n",
       "\t1350927 & 2019-08-22 11:29:52                                                                                                                                  & hen\\_3L                                                                                                                                             & Rampe 1-5                                                                                                                                            & 3                                                                                                                                                    & 2019-08-22                                                                                                                                           & 2019-08-22 11:30:02                                                                                                                                  & Rampe 1-5                                                                                                                                            & Rampe 1-5                                                                                                                                            & Interzone\\_ER                                                                                                                                      \\\\\n",
       "\t1350928 & 2019-08-22 11:30:02                                                                                                                                  & hen\\_3L                                                                                                                                             & Einstreu 1-5                                                                                                                                         & 3                                                                                                                                                    & 2019-08-22                                                                                                                                           & 2019-08-22 11:30:02                                                                                                                                  & Interzone\\_ER                                                                                                                                       & Einstreu 1-5, Rampe 1-5, Einstreu 1-5, Rampe 1-5, Einstreu 1-5, Rampe 1-5                                                                            & Interzone\\_ER                                                                                                                                      \\\\\n",
       "\t1350929 & 2019-08-22 11:30:21                                                                                                                                  & hen\\_3L                                                                                                                                             & Einstreu 1-5                                                                                                                                         & 3                                                                                                                                                    & 2019-08-22                                                                                                                                           & 2019-08-22 11:30:21                                                                                                                                  & Interzone\\_ER                                                                                                                                       & Einstreu 1-5, Rampe 1-5                                                                                                                              & Einstreu 1-5                                                                                                                                        \\\\\n",
       "\t1350930 & 2019-08-22 11:30:27                                                                                                                                  & hen\\_3L                                                                                                                                             & Einstreu 1-5                                                                                                                                         & 3                                                                                                                                                    & 2019-08-22                                                                                                                                           & 2019-08-22 11:30:32                                                                                                                                  & Einstreu 1-5                                                                                                                                         & Einstreu 1-5                                                                                                                                         & Interzone\\_ER                                                                                                                                      \\\\\n",
       "\t1350931 & 2019-08-22 11:30:32                                                                                                                                  & hen\\_3L                                                                                                                                             & Rampe 1-5                                                                                                                                            & 3                                                                                                                                                    & 2019-08-22                                                                                                                                           & 2019-08-22 11:30:32                                                                                                                                  & Interzone\\_ER                                                                                                                                       & Rampe 1-5, Einstreu 1-5, Rampe 1-5, Einstreu 1-5, Rampe 1-5, Einstreu 1-5, Rampe 1-5, Einstreu 1-5, Rampe 1-5, Einstreu 1-5, Rampe 1-5, Einstreu 1-5 & Interzone\\_E                                                                                                                                       \\\\\n",
       "\t1350932 & 2019-08-22 11:30:39                                                                                                                                  & hen\\_3L                                                                                                                                             & Einstreu 1-5                                                                                                                                         & 3                                                                                                                                                    & 2019-08-22                                                                                                                                           & 1999-01-01 00:00:00                                                                                                                                  & Interzone\\_E                                                                                                                                        & Einstreu 1-5                                                                                                                                         &                                                                                                                                                     \\\\\n",
       "\\end{tabular}\n"
      ],
      "text/markdown": [
       "\n",
       "| <!--/--> | Timestamp | HenID | Zone | PenID | day | next_record_date | Zone_without_flickering | interzone_info | next_zone | \n",
       "|---|---|---|---|---|---|\n",
       "| 1350927 | 2019-08-22 11:29:52                                                                                                                                  | hen_3L                                                                                                                                               | Rampe 1-5                                                                                                                                            | 3                                                                                                                                                    | 2019-08-22                                                                                                                                           | 2019-08-22 11:30:02                                                                                                                                  | Rampe 1-5                                                                                                                                            | Rampe 1-5                                                                                                                                            | Interzone_ER                                                                                                                                         | \n",
       "| 1350928 | 2019-08-22 11:30:02                                                                                                                                  | hen_3L                                                                                                                                               | Einstreu 1-5                                                                                                                                         | 3                                                                                                                                                    | 2019-08-22                                                                                                                                           | 2019-08-22 11:30:02                                                                                                                                  | Interzone_ER                                                                                                                                         | Einstreu 1-5, Rampe 1-5, Einstreu 1-5, Rampe 1-5, Einstreu 1-5, Rampe 1-5                                                                            | Interzone_ER                                                                                                                                         | \n",
       "| 1350929 | 2019-08-22 11:30:21                                                                                                                                  | hen_3L                                                                                                                                               | Einstreu 1-5                                                                                                                                         | 3                                                                                                                                                    | 2019-08-22                                                                                                                                           | 2019-08-22 11:30:21                                                                                                                                  | Interzone_ER                                                                                                                                         | Einstreu 1-5, Rampe 1-5                                                                                                                              | Einstreu 1-5                                                                                                                                         | \n",
       "| 1350930 | 2019-08-22 11:30:27                                                                                                                                  | hen_3L                                                                                                                                               | Einstreu 1-5                                                                                                                                         | 3                                                                                                                                                    | 2019-08-22                                                                                                                                           | 2019-08-22 11:30:32                                                                                                                                  | Einstreu 1-5                                                                                                                                         | Einstreu 1-5                                                                                                                                         | Interzone_ER                                                                                                                                         | \n",
       "| 1350931 | 2019-08-22 11:30:32                                                                                                                                  | hen_3L                                                                                                                                               | Rampe 1-5                                                                                                                                            | 3                                                                                                                                                    | 2019-08-22                                                                                                                                           | 2019-08-22 11:30:32                                                                                                                                  | Interzone_ER                                                                                                                                         | Rampe 1-5, Einstreu 1-5, Rampe 1-5, Einstreu 1-5, Rampe 1-5, Einstreu 1-5, Rampe 1-5, Einstreu 1-5, Rampe 1-5, Einstreu 1-5, Rampe 1-5, Einstreu 1-5 | Interzone_E                                                                                                                                          | \n",
       "| 1350932 | 2019-08-22 11:30:39                                                                                                                                  | hen_3L                                                                                                                                               | Einstreu 1-5                                                                                                                                         | 3                                                                                                                                                    | 2019-08-22                                                                                                                                           | 1999-01-01 00:00:00                                                                                                                                  | Interzone_E                                                                                                                                          | Einstreu 1-5                                                                                                                                         |                                                                                                                                                      | \n",
       "\n",
       "\n"
      ],
      "text/plain": [
       "        Timestamp           HenID  Zone         PenID day       \n",
       "1350927 2019-08-22 11:29:52 hen_3L Rampe 1-5    3     2019-08-22\n",
       "1350928 2019-08-22 11:30:02 hen_3L Einstreu 1-5 3     2019-08-22\n",
       "1350929 2019-08-22 11:30:21 hen_3L Einstreu 1-5 3     2019-08-22\n",
       "1350930 2019-08-22 11:30:27 hen_3L Einstreu 1-5 3     2019-08-22\n",
       "1350931 2019-08-22 11:30:32 hen_3L Rampe 1-5    3     2019-08-22\n",
       "1350932 2019-08-22 11:30:39 hen_3L Einstreu 1-5 3     2019-08-22\n",
       "        next_record_date    Zone_without_flickering\n",
       "1350927 2019-08-22 11:30:02 Rampe 1-5              \n",
       "1350928 2019-08-22 11:30:02 Interzone_ER           \n",
       "1350929 2019-08-22 11:30:21 Interzone_ER           \n",
       "1350930 2019-08-22 11:30:32 Einstreu 1-5           \n",
       "1350931 2019-08-22 11:30:32 Interzone_ER           \n",
       "1350932 1999-01-01 00:00:00 Interzone_E            \n",
       "        interzone_info                                                                                                                                      \n",
       "1350927 Rampe 1-5                                                                                                                                           \n",
       "1350928 Einstreu 1-5, Rampe 1-5, Einstreu 1-5, Rampe 1-5, Einstreu 1-5, Rampe 1-5                                                                           \n",
       "1350929 Einstreu 1-5, Rampe 1-5                                                                                                                             \n",
       "1350930 Einstreu 1-5                                                                                                                                        \n",
       "1350931 Rampe 1-5, Einstreu 1-5, Rampe 1-5, Einstreu 1-5, Rampe 1-5, Einstreu 1-5, Rampe 1-5, Einstreu 1-5, Rampe 1-5, Einstreu 1-5, Rampe 1-5, Einstreu 1-5\n",
       "1350932 Einstreu 1-5                                                                                                                                        \n",
       "        next_zone   \n",
       "1350927 Interzone_ER\n",
       "1350928 Interzone_ER\n",
       "1350929 Einstreu 1-5\n",
       "1350930 Interzone_ER\n",
       "1350931 Interzone_E \n",
       "1350932             "
      ]
     },
     "metadata": {},
     "output_type": "display_data"
    }
   ],
   "source": [
    "#add next zone based on Zone_without_flickering (for quality verification)\n",
    "li_df = list()\n",
    "for (h in unique(df$HenID)){\n",
    "    df_hen = filter(df, HenID==h)\n",
    "    #as the next record date (sort by date, then simply shift by one row and add nan at then end)\n",
    "    df_hen = df_hen[order(df_hen$Timestamp),]\n",
    "    #same date, one must take the last recorded one & sorting by date might change it. Also it already shoul dbe sorted by date\n",
    "    df_hen$next_zone = append(as.vector(df_hen['Zone_without_flickering'])[[1]][2:dim(df_hen)[1]], '')\n",
    "    li_df = append(li_df,list(df_hen))\n",
    "}\n",
    "   \n",
    "#put again in one dataframe\n",
    "df = bind_rows(li_df)\n",
    "print(dim(df))\n",
    "#dont care about the false positive warning\n",
    "tail(df)"
   ]
  },
  {
   "cell_type": "code",
   "execution_count": 43,
   "metadata": {},
   "outputs": [
    {
     "data": {
      "text/html": [
       "<table>\n",
       "<thead><tr><th scope=col>Timestamp</th><th scope=col>HenID</th><th scope=col>Zone</th><th scope=col>PenID</th><th scope=col>day</th><th scope=col>next_record_date</th><th scope=col>Zone_without_flickering</th><th scope=col>interzone_info</th><th scope=col>next_zone</th><th scope=col>correction_is_consecutive_equal_zone</th><th scope=col>is_flick</th></tr></thead>\n",
       "<tbody>\n",
       "\t<tr><td>2019-07-07 22:09:28    </td><td>hen_4B                 </td><td>Rampe 1-5              </td><td>4                      </td><td>2019-07-07             </td><td>2019-07-07 22:09:29    </td><td>Interzone_R            </td><td>Rampe 1-5              </td><td>Interzone_ER           </td><td>FALSE                  </td><td> TRUE                  </td></tr>\n",
       "\t<tr><td>2019-07-07 22:10:15    </td><td>hen_4B                 </td><td>Rampe 1-5              </td><td>4                      </td><td>2019-07-07             </td><td>2019-07-07 22:10:16    </td><td>Interzone_ER           </td><td>Rampe 1-5, Einstreu 1-5</td><td>Interzone_ER           </td><td>FALSE                  </td><td> TRUE                  </td></tr>\n",
       "\t<tr><td>2019-07-07 22:11:06    </td><td>hen_4B                 </td><td>Rampe 1-5              </td><td>4                      </td><td>2019-07-07             </td><td>2019-07-07 22:11:07    </td><td>Interzone_ER           </td><td>Rampe 1-5, Einstreu 1-5</td><td>Interzone_ER           </td><td>FALSE                  </td><td> TRUE                  </td></tr>\n",
       "\t<tr><td>2019-07-07 22:11:57    </td><td>hen_4B                 </td><td>Rampe 1-5              </td><td>4                      </td><td>2019-07-07             </td><td>2019-07-07 22:11:58    </td><td>Interzone_ER           </td><td>Rampe 1-5, Einstreu 1-5</td><td>Rampe 1-5              </td><td>FALSE                  </td><td> TRUE                  </td></tr>\n",
       "\t<tr><td>2019-07-07 22:17:23    </td><td>hen_4B                 </td><td>Rampe 1-5              </td><td>4                      </td><td>2019-07-07             </td><td>2019-07-07 22:17:29    </td><td>Rampe 1-5              </td><td>Rampe 1-5              </td><td>Einstreu 1-5           </td><td>FALSE                  </td><td>FALSE                  </td></tr>\n",
       "\t<tr><td>2019-07-07 22:17:29    </td><td>hen_4B                 </td><td>Einstreu 1-5           </td><td>4                      </td><td>2019-07-07             </td><td>2019-07-07 22:18:49    </td><td>Einstreu 1-5           </td><td>Einstreu 1-5           </td><td>Interzone_ER           </td><td>FALSE                  </td><td>FALSE                  </td></tr>\n",
       "</tbody>\n",
       "</table>\n"
      ],
      "text/latex": [
       "\\begin{tabular}{r|lllllllllll}\n",
       " Timestamp & HenID & Zone & PenID & day & next\\_record\\_date & Zone\\_without\\_flickering & interzone\\_info & next\\_zone & correction\\_is\\_consecutive\\_equal\\_zone & is\\_flick\\\\\n",
       "\\hline\n",
       "\t 2019-07-07 22:09:28     & hen\\_4B                & Rampe 1-5               & 4                       & 2019-07-07              & 2019-07-07 22:09:29     & Interzone\\_R           & Rampe 1-5               & Interzone\\_ER          & FALSE                   &  TRUE                  \\\\\n",
       "\t 2019-07-07 22:10:15     & hen\\_4B                & Rampe 1-5               & 4                       & 2019-07-07              & 2019-07-07 22:10:16     & Interzone\\_ER          & Rampe 1-5, Einstreu 1-5 & Interzone\\_ER          & FALSE                   &  TRUE                  \\\\\n",
       "\t 2019-07-07 22:11:06     & hen\\_4B                & Rampe 1-5               & 4                       & 2019-07-07              & 2019-07-07 22:11:07     & Interzone\\_ER          & Rampe 1-5, Einstreu 1-5 & Interzone\\_ER          & FALSE                   &  TRUE                  \\\\\n",
       "\t 2019-07-07 22:11:57     & hen\\_4B                & Rampe 1-5               & 4                       & 2019-07-07              & 2019-07-07 22:11:58     & Interzone\\_ER          & Rampe 1-5, Einstreu 1-5 & Rampe 1-5               & FALSE                   &  TRUE                  \\\\\n",
       "\t 2019-07-07 22:17:23     & hen\\_4B                & Rampe 1-5               & 4                       & 2019-07-07              & 2019-07-07 22:17:29     & Rampe 1-5               & Rampe 1-5               & Einstreu 1-5            & FALSE                   & FALSE                  \\\\\n",
       "\t 2019-07-07 22:17:29     & hen\\_4B                & Einstreu 1-5            & 4                       & 2019-07-07              & 2019-07-07 22:18:49     & Einstreu 1-5            & Einstreu 1-5            & Interzone\\_ER          & FALSE                   & FALSE                  \\\\\n",
       "\\end{tabular}\n"
      ],
      "text/markdown": [
       "\n",
       "Timestamp | HenID | Zone | PenID | day | next_record_date | Zone_without_flickering | interzone_info | next_zone | correction_is_consecutive_equal_zone | is_flick | \n",
       "|---|---|---|---|---|---|\n",
       "| 2019-07-07 22:09:28     | hen_4B                  | Rampe 1-5               | 4                       | 2019-07-07              | 2019-07-07 22:09:29     | Interzone_R             | Rampe 1-5               | Interzone_ER            | FALSE                   |  TRUE                   | \n",
       "| 2019-07-07 22:10:15     | hen_4B                  | Rampe 1-5               | 4                       | 2019-07-07              | 2019-07-07 22:10:16     | Interzone_ER            | Rampe 1-5, Einstreu 1-5 | Interzone_ER            | FALSE                   |  TRUE                   | \n",
       "| 2019-07-07 22:11:06     | hen_4B                  | Rampe 1-5               | 4                       | 2019-07-07              | 2019-07-07 22:11:07     | Interzone_ER            | Rampe 1-5, Einstreu 1-5 | Interzone_ER            | FALSE                   |  TRUE                   | \n",
       "| 2019-07-07 22:11:57     | hen_4B                  | Rampe 1-5               | 4                       | 2019-07-07              | 2019-07-07 22:11:58     | Interzone_ER            | Rampe 1-5, Einstreu 1-5 | Rampe 1-5               | FALSE                   |  TRUE                   | \n",
       "| 2019-07-07 22:17:23     | hen_4B                  | Rampe 1-5               | 4                       | 2019-07-07              | 2019-07-07 22:17:29     | Rampe 1-5               | Rampe 1-5               | Einstreu 1-5            | FALSE                   | FALSE                   | \n",
       "| 2019-07-07 22:17:29     | hen_4B                  | Einstreu 1-5            | 4                       | 2019-07-07              | 2019-07-07 22:18:49     | Einstreu 1-5            | Einstreu 1-5            | Interzone_ER            | FALSE                   | FALSE                   | \n",
       "\n",
       "\n"
      ],
      "text/plain": [
       "  Timestamp           HenID  Zone         PenID day        next_record_date   \n",
       "1 2019-07-07 22:09:28 hen_4B Rampe 1-5    4     2019-07-07 2019-07-07 22:09:29\n",
       "2 2019-07-07 22:10:15 hen_4B Rampe 1-5    4     2019-07-07 2019-07-07 22:10:16\n",
       "3 2019-07-07 22:11:06 hen_4B Rampe 1-5    4     2019-07-07 2019-07-07 22:11:07\n",
       "4 2019-07-07 22:11:57 hen_4B Rampe 1-5    4     2019-07-07 2019-07-07 22:11:58\n",
       "5 2019-07-07 22:17:23 hen_4B Rampe 1-5    4     2019-07-07 2019-07-07 22:17:29\n",
       "6 2019-07-07 22:17:29 hen_4B Einstreu 1-5 4     2019-07-07 2019-07-07 22:18:49\n",
       "  Zone_without_flickering interzone_info          next_zone   \n",
       "1 Interzone_R             Rampe 1-5               Interzone_ER\n",
       "2 Interzone_ER            Rampe 1-5, Einstreu 1-5 Interzone_ER\n",
       "3 Interzone_ER            Rampe 1-5, Einstreu 1-5 Interzone_ER\n",
       "4 Interzone_ER            Rampe 1-5, Einstreu 1-5 Rampe 1-5   \n",
       "5 Rampe 1-5               Rampe 1-5               Einstreu 1-5\n",
       "6 Einstreu 1-5            Einstreu 1-5            Interzone_ER\n",
       "  correction_is_consecutive_equal_zone is_flick\n",
       "1 FALSE                                 TRUE   \n",
       "2 FALSE                                 TRUE   \n",
       "3 FALSE                                 TRUE   \n",
       "4 FALSE                                 TRUE   \n",
       "5 FALSE                                FALSE   \n",
       "6 FALSE                                FALSE   "
      ]
     },
     "metadata": {},
     "output_type": "display_data"
    }
   ],
   "source": [
    "head(df)"
   ]
  },
  {
   "cell_type": "code",
   "execution_count": null,
   "metadata": {},
   "outputs": [],
   "source": [
    "#True if next zone is equal to the actual zone (Zone_without_flickering) \n",
    "df$correction_is_consecutive_equal_zone = FALSE\n",
    "#df$Zone_without_flickering[is.na(df$Zone_without_flickering)] = ''\n",
    "df$Zone_without_flickering = as.character(df$Zone_without_flickering)\n",
    "df$is_flick = ifelse(df$Zone_without_flickering!='',startsWith(df$Zone_without_flickering,'Interzone'), FALSE)\n",
    "df[(df$next_zone==df$Zone_without_flickering) & (df$is_flick==FALSE), 'correction_is_consecutive_equal_zone'] = TRUE\n",
    "df$next_zone = as.character(df$next_zone)"
   ]
  },
  {
   "cell_type": "code",
   "execution_count": 52,
   "metadata": {},
   "outputs": [
    {
     "name": "stdout",
     "output_type": "stream",
     "text": [
      "[1] \"There is 1852 records that has same zone than the previous one without being a flickering situation, \\nwe wont remove these records from the clean_record file as it wont change anything for the time serie\"\n"
     ]
    },
    {
     "data": {
      "text/html": [
       "<table>\n",
       "<thead><tr><th scope=col>Timestamp</th><th scope=col>HenID</th><th scope=col>Zone</th><th scope=col>PenID</th><th scope=col>day</th><th scope=col>next_record_date</th><th scope=col>Zone_without_flickering</th><th scope=col>interzone_info</th><th scope=col>next_zone</th><th scope=col>correction_is_consecutive_equal_zone</th><th scope=col>is_flick</th></tr></thead>\n",
       "<tbody>\n",
       "\t<tr><td>2019-07-13 14:45:12       </td><td>hen_4B                    </td><td>Rampe 1-5                 </td><td>4                         </td><td>2019-07-13                </td><td>2019-07-13 14:45:15       </td><td>Rampe 1-5                 </td><td>Rampe 1-5, Rampe 1-5      </td><td>Rampe 1-5                 </td><td>TRUE                      </td><td>FALSE                     </td></tr>\n",
       "\t<tr><td>2019-07-14 06:22:10       </td><td>hen_4B                    </td><td>Einstreu 1-5              </td><td>4                         </td><td>2019-07-14                </td><td>2019-07-14 06:24:40       </td><td>Einstreu 1-5              </td><td>Einstreu 1-5, Einstreu 1-5</td><td>Einstreu 1-5              </td><td>TRUE                      </td><td>FALSE                     </td></tr>\n",
       "\t<tr><td>2019-07-28 08:11:26       </td><td>hen_4B                    </td><td>Einstreu 1-5              </td><td>4                         </td><td>2019-07-28                </td><td>2019-07-28 08:11:59       </td><td>Einstreu 1-5              </td><td>Einstreu 1-5, Einstreu 1-5</td><td>Einstreu 1-5              </td><td>TRUE                      </td><td>FALSE                     </td></tr>\n",
       "\t<tr><td>2019-07-28 13:08:55       </td><td>hen_4B                    </td><td>Einstreu 1-5              </td><td>4                         </td><td>2019-07-28                </td><td>2019-07-28 13:19:15       </td><td>Einstreu 1-5              </td><td>Einstreu 1-5, Einstreu 1-5</td><td>Einstreu 1-5              </td><td>TRUE                      </td><td>FALSE                     </td></tr>\n",
       "\t<tr><td>2019-07-29 01:53:22       </td><td>hen_4B                    </td><td>Einstreu 1-5              </td><td>4                         </td><td>2019-07-29                </td><td>2019-07-29 01:53:26       </td><td>Einstreu 1-5              </td><td>Einstreu 1-5, Einstreu 1-5</td><td>Einstreu 1-5              </td><td>TRUE                      </td><td>FALSE                     </td></tr>\n",
       "\t<tr><td>2019-08-02 17:30:18       </td><td>hen_4B                    </td><td>Einstreu 1-5              </td><td>4                         </td><td>2019-08-02                </td><td>2019-08-02 17:30:48       </td><td>Einstreu 1-5              </td><td>Einstreu 1-5, Einstreu 1-5</td><td>Einstreu 1-5              </td><td>TRUE                      </td><td>FALSE                     </td></tr>\n",
       "\t<tr><td>2019-08-10 12:12:47       </td><td>hen_4B                    </td><td>Einstreu 1-5              </td><td>4                         </td><td>2019-08-10                </td><td>2019-08-10 12:14:07       </td><td>Einstreu 1-5              </td><td>Einstreu 1-5, Einstreu 1-5</td><td>Einstreu 1-5              </td><td>TRUE                      </td><td>FALSE                     </td></tr>\n",
       "\t<tr><td>2019-08-15 11:55:11       </td><td>hen_4B                    </td><td>Einstreu 1-5              </td><td>4                         </td><td>2019-08-15                </td><td>2019-08-15 11:56:50       </td><td>Einstreu 1-5              </td><td>Einstreu 1-5, Einstreu 1-5</td><td>Einstreu 1-5              </td><td>TRUE                      </td><td>FALSE                     </td></tr>\n",
       "\t<tr><td>2019-08-16 12:07:00       </td><td>hen_4B                    </td><td>Rampe 1-5                 </td><td>4                         </td><td>2019-08-16                </td><td>2019-08-16 12:07:04       </td><td>Rampe 1-5                 </td><td>Rampe 1-5, Rampe 1-5      </td><td>Rampe 1-5                 </td><td>TRUE                      </td><td>FALSE                     </td></tr>\n",
       "\t<tr><td>2019-07-08 02:20:06       </td><td>hen_4L                    </td><td>Rampe 1-5                 </td><td>4                         </td><td>2019-07-08                </td><td>2019-07-08 02:20:10       </td><td>Rampe 1-5                 </td><td>Rampe 1-5, Rampe 1-5      </td><td>Rampe 1-5                 </td><td>TRUE                      </td><td>FALSE                     </td></tr>\n",
       "\t<tr><td>2019-07-08 06:15:13       </td><td>hen_4L                    </td><td>Einstreu 1-5              </td><td>4                         </td><td>2019-07-08                </td><td>2019-07-08 06:33:46       </td><td>Einstreu 1-5              </td><td>Einstreu 1-5, Einstreu 1-5</td><td>Einstreu 1-5              </td><td>TRUE                      </td><td>FALSE                     </td></tr>\n",
       "\t<tr><td>2019-07-08 07:35:40       </td><td>hen_4L                    </td><td>Einstreu 1-5              </td><td>4                         </td><td>2019-07-08                </td><td>2019-07-08 07:35:44       </td><td>Einstreu 1-5              </td><td>Einstreu 1-5, Einstreu 1-5</td><td>Einstreu 1-5              </td><td>TRUE                      </td><td>FALSE                     </td></tr>\n",
       "\t<tr><td>2019-07-11 12:25:17       </td><td>hen_4L                    </td><td>Einstreu 1-5              </td><td>4                         </td><td>2019-07-11                </td><td>2019-07-11 12:27:51       </td><td>Einstreu 1-5              </td><td>Einstreu 1-5, Einstreu 1-5</td><td>Einstreu 1-5              </td><td>TRUE                      </td><td>FALSE                     </td></tr>\n",
       "\t<tr><td>2019-07-18 05:35:30       </td><td>hen_4L                    </td><td>Rampe 1-5                 </td><td>4                         </td><td>2019-07-18                </td><td>2019-07-18 05:35:34       </td><td>Rampe 1-5                 </td><td>Rampe 1-5, Rampe 1-5      </td><td>Rampe 1-5                 </td><td>TRUE                      </td><td>FALSE                     </td></tr>\n",
       "\t<tr><td>2019-07-21 21:52:24       </td><td>hen_4L                    </td><td>Rampe 1-5                 </td><td>4                         </td><td>2019-07-21                </td><td>2019-07-21 21:52:49       </td><td>Rampe 1-5                 </td><td>Rampe 1-5, Rampe 1-5      </td><td>Rampe 1-5                 </td><td>TRUE                      </td><td>FALSE                     </td></tr>\n",
       "\t<tr><td>2019-07-22 02:09:20       </td><td>hen_4L                    </td><td>Rampe 1-5                 </td><td>4                         </td><td>2019-07-22                </td><td>2019-07-22 02:09:25       </td><td>Rampe 1-5                 </td><td>Rampe 1-5, Rampe 1-5      </td><td>Rampe 1-5                 </td><td>TRUE                      </td><td>FALSE                     </td></tr>\n",
       "\t<tr><td>2019-07-22 18:47:04       </td><td>hen_4L                    </td><td>Einstreu 1-5              </td><td>4                         </td><td>2019-07-22                </td><td>2019-07-22 18:47:33       </td><td>Einstreu 1-5              </td><td>Einstreu 1-5, Einstreu 1-5</td><td>Einstreu 1-5              </td><td>TRUE                      </td><td>FALSE                     </td></tr>\n",
       "\t<tr><td>2019-07-22 21:24:52       </td><td>hen_4L                    </td><td>Rampe 1-5                 </td><td>4                         </td><td>2019-07-22                </td><td>2019-07-22 21:25:06       </td><td>Rampe 1-5                 </td><td>Rampe 1-5, Rampe 1-5      </td><td>Rampe 1-5                 </td><td>TRUE                      </td><td>FALSE                     </td></tr>\n",
       "\t<tr><td>2019-07-28 06:20:38       </td><td>hen_4L                    </td><td>Einstreu 1-5              </td><td>4                         </td><td>2019-07-28                </td><td>2019-07-28 06:27:39       </td><td>Einstreu 1-5              </td><td>Einstreu 1-5, Einstreu 1-5</td><td>Einstreu 1-5              </td><td>TRUE                      </td><td>FALSE                     </td></tr>\n",
       "\t<tr><td>2019-08-02 09:26:10       </td><td>hen_4L                    </td><td>Einstreu 1-5              </td><td>4                         </td><td>2019-08-02                </td><td>2019-08-03 00:15:59       </td><td>Einstreu 1-5              </td><td>Einstreu 1-5, Einstreu 1-5</td><td>Einstreu 1-5              </td><td>TRUE                      </td><td>FALSE                     </td></tr>\n",
       "\t<tr><td>2019-08-03 03:21:53       </td><td>hen_4L                    </td><td>Einstreu 1-5              </td><td>4                         </td><td>2019-08-03                </td><td>2019-08-03 03:23:44       </td><td>Einstreu 1-5              </td><td>Einstreu 1-5, Einstreu 1-5</td><td>Einstreu 1-5              </td><td>TRUE                      </td><td>FALSE                     </td></tr>\n",
       "\t<tr><td>2019-08-03 04:23:56       </td><td>hen_4L                    </td><td>Einstreu 1-5              </td><td>4                         </td><td>2019-08-03                </td><td>2019-08-03 04:31:12       </td><td>Einstreu 1-5              </td><td>Einstreu 1-5, Einstreu 1-5</td><td>Einstreu 1-5              </td><td>TRUE                      </td><td>FALSE                     </td></tr>\n",
       "\t<tr><td>2019-08-04 04:51:23       </td><td>hen_4L                    </td><td>Einstreu 1-5              </td><td>4                         </td><td>2019-08-04                </td><td>2019-08-04 04:51:55       </td><td>Einstreu 1-5              </td><td>Einstreu 1-5, Einstreu 1-5</td><td>Einstreu 1-5              </td><td>TRUE                      </td><td>FALSE                     </td></tr>\n",
       "\t<tr><td>2019-08-04 13:52:39       </td><td>hen_4L                    </td><td>Rampe 1-5                 </td><td>4                         </td><td>2019-08-04                </td><td>2019-08-04 13:54:57       </td><td>Rampe 1-5                 </td><td>Rampe 1-5, Rampe 1-5      </td><td>Rampe 1-5                 </td><td>TRUE                      </td><td>FALSE                     </td></tr>\n",
       "\t<tr><td>2019-08-05 07:40:42       </td><td>hen_4L                    </td><td>Rampe 1-5                 </td><td>4                         </td><td>2019-08-05                </td><td>2019-08-05 07:49:34       </td><td>Rampe 1-5                 </td><td>Rampe 1-5, Rampe 1-5      </td><td>Rampe 1-5                 </td><td>TRUE                      </td><td>FALSE                     </td></tr>\n",
       "\t<tr><td>2019-08-09 08:28:43       </td><td>hen_4L                    </td><td>Rampe 1-5                 </td><td>4                         </td><td>2019-08-09                </td><td>2019-08-09 08:29:32       </td><td>Rampe 1-5                 </td><td>Rampe 1-5, Rampe 1-5      </td><td>Rampe 1-5                 </td><td>TRUE                      </td><td>FALSE                     </td></tr>\n",
       "\t<tr><td>2019-08-15 14:18:48       </td><td>hen_4L                    </td><td>Rampe 1-5                 </td><td>4                         </td><td>2019-08-15                </td><td>2019-08-15 14:19:13       </td><td>Rampe 1-5                 </td><td>Rampe 1-5, Rampe 1-5      </td><td>Rampe 1-5                 </td><td>TRUE                      </td><td>FALSE                     </td></tr>\n",
       "\t<tr><td>2019-08-15 14:19:18       </td><td>hen_4L                    </td><td>Einstreu 1-5              </td><td>4                         </td><td>2019-08-15                </td><td>2019-08-15 14:19:26       </td><td>Einstreu 1-5              </td><td>Einstreu 1-5, Einstreu 1-5</td><td>Einstreu 1-5              </td><td>TRUE                      </td><td>FALSE                     </td></tr>\n",
       "\t<tr><td>2019-08-18 16:25:22       </td><td>hen_4L                    </td><td>Einstreu 1-5              </td><td>4                         </td><td>2019-08-18                </td><td>2019-08-18 16:26:09       </td><td>Einstreu 1-5              </td><td>Einstreu 1-5, Einstreu 1-5</td><td>Einstreu 1-5              </td><td>TRUE                      </td><td>FALSE                     </td></tr>\n",
       "\t<tr><td>2019-08-22 06:49:49       </td><td>hen_4L                    </td><td>Einstreu 1-5              </td><td>4                         </td><td>2019-08-22                </td><td>2019-08-22 06:50:19       </td><td>Einstreu 1-5              </td><td>Einstreu 1-5, Einstreu 1-5</td><td>Einstreu 1-5              </td><td>TRUE                      </td><td>FALSE                     </td></tr>\n",
       "\t<tr><td>...</td><td>...</td><td>...</td><td>...</td><td>...</td><td>...</td><td>...</td><td>...</td><td>...</td><td>...</td><td>...</td></tr>\n",
       "\t<tr><td>2019-08-15 07:11:22         </td><td>hen_1F                      </td><td>Box1                        </td><td>1                           </td><td>2019-08-15                  </td><td>2019-08-15 07:12:37         </td><td>Box1                        </td><td>Box1, Box1                  </td><td>Box1                        </td><td>TRUE                        </td><td>FALSE                       </td></tr>\n",
       "\t<tr><td>2019-08-17 06:45:06         </td><td>hen_1F                      </td><td>Einstreu 1-5                </td><td>1                           </td><td>2019-08-17                  </td><td>2019-08-17 06:45:58         </td><td>Einstreu 1-5                </td><td>Einstreu 1-5, Einstreu 1-5  </td><td>Einstreu 1-5                </td><td>TRUE                        </td><td>FALSE                       </td></tr>\n",
       "\t<tr><td>2019-07-13 12:04:41         </td><td>hen_10S                     </td><td>Einstreu 6-10               </td><td>10                          </td><td>2019-07-13                  </td><td>2019-07-13 12:07:23         </td><td>Einstreu 6-10               </td><td>Einstreu 6-10, Einstreu 6-10</td><td>Einstreu 6-10               </td><td>TRUE                        </td><td>FALSE                       </td></tr>\n",
       "\t<tr><td>2019-07-15 06:07:32         </td><td>hen_10S                     </td><td>Box19                       </td><td>10                          </td><td>2019-07-15                  </td><td>2019-07-15 06:08:03         </td><td>Box19                       </td><td>Box19, Box19                </td><td>Box19                       </td><td>TRUE                        </td><td>FALSE                       </td></tr>\n",
       "\t<tr><td>2019-07-19 14:20:27         </td><td>hen_10S                     </td><td>Einstreu 6-10               </td><td>10                          </td><td>2019-07-19                  </td><td>2019-07-19 14:30:42         </td><td>Einstreu 6-10               </td><td>Einstreu 6-10, Einstreu 6-10</td><td>Einstreu 6-10               </td><td>TRUE                        </td><td>FALSE                       </td></tr>\n",
       "\t<tr><td>2019-08-02 09:52:19         </td><td>hen_10S                     </td><td>Rampe 6-10                  </td><td>10                          </td><td>2019-08-02                  </td><td>2019-08-03 00:16:14         </td><td>Rampe 6-10                  </td><td>Rampe 6-10, Rampe 6-10      </td><td>Rampe 6-10                  </td><td>TRUE                        </td><td>FALSE                       </td></tr>\n",
       "\t<tr><td>2019-08-03 03:52:22         </td><td>hen_10S                     </td><td>Einstreu 6-10               </td><td>10                          </td><td>2019-08-03                  </td><td>2019-08-03 03:53:46         </td><td>Einstreu 6-10               </td><td>Einstreu 6-10, Einstreu 6-10</td><td>Einstreu 6-10               </td><td>TRUE                        </td><td>FALSE                       </td></tr>\n",
       "\t<tr><td>2019-08-04 15:05:03         </td><td>hen_10S                     </td><td>Einstreu 6-10               </td><td>10                          </td><td>2019-08-04                  </td><td>2019-08-04 15:16:10         </td><td>Einstreu 6-10               </td><td>Einstreu 6-10, Einstreu 6-10</td><td>Einstreu 6-10               </td><td>TRUE                        </td><td>FALSE                       </td></tr>\n",
       "\t<tr><td>2019-08-09 14:36:04         </td><td>hen_10S                     </td><td>Einstreu 6-10               </td><td>10                          </td><td>2019-08-09                  </td><td>2019-08-09 15:19:02         </td><td>Einstreu 6-10               </td><td>Einstreu 6-10, Einstreu 6-10</td><td>Einstreu 6-10               </td><td>TRUE                        </td><td>FALSE                       </td></tr>\n",
       "\t<tr><td>2019-08-10 05:45:41         </td><td>hen_10S                     </td><td>Einstreu 6-10               </td><td>10                          </td><td>2019-08-10                  </td><td>2019-08-10 05:46:45         </td><td>Einstreu 6-10               </td><td>Einstreu 6-10, Einstreu 6-10</td><td>Einstreu 6-10               </td><td>TRUE                        </td><td>FALSE                       </td></tr>\n",
       "\t<tr><td>2019-08-16 16:43:25         </td><td>hen_10S                     </td><td>Einstreu 6-10               </td><td>10                          </td><td>2019-08-16                  </td><td>2019-08-16 16:48:03         </td><td>Einstreu 6-10               </td><td>Einstreu 6-10, Einstreu 6-10</td><td>Einstreu 6-10               </td><td>TRUE                        </td><td>FALSE                       </td></tr>\n",
       "\t<tr><td>2019-08-18 04:36:04         </td><td>hen_10S                     </td><td>Einstreu 6-10               </td><td>10                          </td><td>2019-08-18                  </td><td>2019-08-18 04:37:36         </td><td>Einstreu 6-10               </td><td>Einstreu 6-10, Einstreu 6-10</td><td>Einstreu 6-10               </td><td>TRUE                        </td><td>FALSE                       </td></tr>\n",
       "\t<tr><td>2019-08-18 06:31:13         </td><td>hen_10S                     </td><td>Box19                       </td><td>10                          </td><td>2019-08-18                  </td><td>2019-08-18 06:32:45         </td><td>Box19                       </td><td>Box19, Box19                </td><td>Box19                       </td><td>TRUE                        </td><td>FALSE                       </td></tr>\n",
       "\t<tr><td>2019-08-18 09:17:24         </td><td>hen_10S                     </td><td>Einstreu 6-10               </td><td>10                          </td><td>2019-08-18                  </td><td>2019-08-18 09:37:43         </td><td>Einstreu 6-10               </td><td>Einstreu 6-10, Einstreu 6-10</td><td>Einstreu 6-10               </td><td>TRUE                        </td><td>FALSE                       </td></tr>\n",
       "\t<tr><td>2019-08-22 10:21:05         </td><td>hen_10S                     </td><td>Einstreu 6-10               </td><td>10                          </td><td>2019-08-22                  </td><td>2019-08-22 10:29:50         </td><td>Einstreu 6-10               </td><td>Einstreu 6-10, Einstreu 6-10</td><td>Einstreu 6-10               </td><td>TRUE                        </td><td>FALSE                       </td></tr>\n",
       "\t<tr><td>2019-07-20 06:22:00         </td><td>hen_7C                      </td><td>Box13                       </td><td>7                           </td><td>2019-07-20                  </td><td>2019-07-20 06:23:10         </td><td>Box13                       </td><td>Box13, Box13                </td><td>Box13                       </td><td>TRUE                        </td><td>FALSE                       </td></tr>\n",
       "\t<tr><td>2019-07-26 05:05:43         </td><td>hen_7C                      </td><td>Box14                       </td><td>7                           </td><td>2019-07-26                  </td><td>2019-07-26 05:06:32         </td><td>Box14                       </td><td>Box14, Box14                </td><td>Box14                       </td><td>TRUE                        </td><td>FALSE                       </td></tr>\n",
       "\t<tr><td>2019-07-26 09:25:51         </td><td>hen_7C                      </td><td>Einstreu 6-10               </td><td>7                           </td><td>2019-07-26                  </td><td>2019-07-26 09:51:23         </td><td>Einstreu 6-10               </td><td>Einstreu 6-10, Einstreu 6-10</td><td>Einstreu 6-10               </td><td>TRUE                        </td><td>FALSE                       </td></tr>\n",
       "\t<tr><td>2019-08-09 11:42:55         </td><td>hen_7C                      </td><td>Einstreu 6-10               </td><td>7                           </td><td>2019-08-09                  </td><td>2019-08-09 11:49:14         </td><td>Einstreu 6-10               </td><td>Einstreu 6-10, Einstreu 6-10</td><td>Einstreu 6-10               </td><td>TRUE                        </td><td>FALSE                       </td></tr>\n",
       "\t<tr><td>2019-08-12 10:11:33         </td><td>hen_7C                      </td><td>Einstreu 6-10               </td><td>7                           </td><td>2019-08-12                  </td><td>2019-08-12 10:12:03         </td><td>Einstreu 6-10               </td><td>Einstreu 6-10, Einstreu 6-10</td><td>Einstreu 6-10               </td><td>TRUE                        </td><td>FALSE                       </td></tr>\n",
       "\t<tr><td>2019-07-13 10:15:27         </td><td>hen_3L                      </td><td>Einstreu 1-5                </td><td>3                           </td><td>2019-07-13                  </td><td>2019-07-13 11:06:06         </td><td>Einstreu 1-5                </td><td>Einstreu 1-5, Einstreu 1-5  </td><td>Einstreu 1-5                </td><td>TRUE                        </td><td>FALSE                       </td></tr>\n",
       "\t<tr><td>2019-07-18 11:45:24         </td><td>hen_3L                      </td><td>Einstreu 1-5                </td><td>3                           </td><td>2019-07-18                  </td><td>2019-07-18 11:49:06         </td><td>Einstreu 1-5                </td><td>Einstreu 1-5, Einstreu 1-5  </td><td>Einstreu 1-5                </td><td>TRUE                        </td><td>FALSE                       </td></tr>\n",
       "\t<tr><td>2019-08-01 05:22:45         </td><td>hen_3L                      </td><td>Einstreu 1-5                </td><td>3                           </td><td>2019-08-01                  </td><td>2019-08-01 05:23:17         </td><td>Einstreu 1-5                </td><td>Einstreu 1-5, Einstreu 1-5  </td><td>Einstreu 1-5                </td><td>TRUE                        </td><td>FALSE                       </td></tr>\n",
       "\t<tr><td>2019-08-02 04:57:47         </td><td>hen_3L                      </td><td>Einstreu 1-5                </td><td>3                           </td><td>2019-08-02                  </td><td>2019-08-02 05:00:01         </td><td>Einstreu 1-5                </td><td>Einstreu 1-5, Einstreu 1-5  </td><td>Einstreu 1-5                </td><td>TRUE                        </td><td>FALSE                       </td></tr>\n",
       "\t<tr><td>2019-08-04 06:09:42         </td><td>hen_3L                      </td><td>Einstreu 1-5                </td><td>3                           </td><td>2019-08-04                  </td><td>2019-08-04 06:10:55         </td><td>Einstreu 1-5                </td><td>Einstreu 1-5, Einstreu 1-5  </td><td>Einstreu 1-5                </td><td>TRUE                        </td><td>FALSE                       </td></tr>\n",
       "\t<tr><td>2019-08-05 06:43:23         </td><td>hen_3L                      </td><td>Einstreu 1-5                </td><td>3                           </td><td>2019-08-05                  </td><td>2019-08-05 07:06:33         </td><td>Einstreu 1-5                </td><td>Einstreu 1-5, Einstreu 1-5  </td><td>Einstreu 1-5                </td><td>TRUE                        </td><td>FALSE                       </td></tr>\n",
       "\t<tr><td>2019-08-08 14:16:46         </td><td>hen_3L                      </td><td>Rampe 1-5                   </td><td>3                           </td><td>2019-08-08                  </td><td>2019-08-08 14:17:47         </td><td>Rampe 1-5                   </td><td>Rampe 1-5, Rampe 1-5        </td><td>Rampe 1-5                   </td><td>TRUE                        </td><td>FALSE                       </td></tr>\n",
       "\t<tr><td>2019-08-11 15:45:05         </td><td>hen_3L                      </td><td>Einstreu 1-5                </td><td>3                           </td><td>2019-08-11                  </td><td>2019-08-12 03:02:10         </td><td>Einstreu 1-5                </td><td>Einstreu 1-5, Einstreu 1-5  </td><td>Einstreu 1-5                </td><td>TRUE                        </td><td>FALSE                       </td></tr>\n",
       "\t<tr><td>2019-08-17 10:24:09         </td><td>hen_3L                      </td><td>Einstreu 1-5                </td><td>3                           </td><td>2019-08-17                  </td><td>2019-08-17 10:24:36         </td><td>Einstreu 1-5                </td><td>Einstreu 1-5, Einstreu 1-5  </td><td>Einstreu 1-5                </td><td>TRUE                        </td><td>FALSE                       </td></tr>\n",
       "\t<tr><td>2019-08-18 08:24:27         </td><td>hen_3L                      </td><td>Einstreu 1-5                </td><td>3                           </td><td>2019-08-18                  </td><td>2019-08-18 08:27:07         </td><td>Einstreu 1-5                </td><td>Einstreu 1-5, Einstreu 1-5  </td><td>Einstreu 1-5                </td><td>TRUE                        </td><td>FALSE                       </td></tr>\n",
       "</tbody>\n",
       "</table>\n"
      ],
      "text/latex": [
       "\\begin{tabular}{r|lllllllllll}\n",
       " Timestamp & HenID & Zone & PenID & day & next\\_record\\_date & Zone\\_without\\_flickering & interzone\\_info & next\\_zone & correction\\_is\\_consecutive\\_equal\\_zone & is\\_flick\\\\\n",
       "\\hline\n",
       "\t 2019-07-13 14:45:12        & hen\\_4B                   & Rampe 1-5                  & 4                          & 2019-07-13                 & 2019-07-13 14:45:15        & Rampe 1-5                  & Rampe 1-5, Rampe 1-5       & Rampe 1-5                  & TRUE                       & FALSE                     \\\\\n",
       "\t 2019-07-14 06:22:10        & hen\\_4B                   & Einstreu 1-5               & 4                          & 2019-07-14                 & 2019-07-14 06:24:40        & Einstreu 1-5               & Einstreu 1-5, Einstreu 1-5 & Einstreu 1-5               & TRUE                       & FALSE                     \\\\\n",
       "\t 2019-07-28 08:11:26        & hen\\_4B                   & Einstreu 1-5               & 4                          & 2019-07-28                 & 2019-07-28 08:11:59        & Einstreu 1-5               & Einstreu 1-5, Einstreu 1-5 & Einstreu 1-5               & TRUE                       & FALSE                     \\\\\n",
       "\t 2019-07-28 13:08:55        & hen\\_4B                   & Einstreu 1-5               & 4                          & 2019-07-28                 & 2019-07-28 13:19:15        & Einstreu 1-5               & Einstreu 1-5, Einstreu 1-5 & Einstreu 1-5               & TRUE                       & FALSE                     \\\\\n",
       "\t 2019-07-29 01:53:22        & hen\\_4B                   & Einstreu 1-5               & 4                          & 2019-07-29                 & 2019-07-29 01:53:26        & Einstreu 1-5               & Einstreu 1-5, Einstreu 1-5 & Einstreu 1-5               & TRUE                       & FALSE                     \\\\\n",
       "\t 2019-08-02 17:30:18        & hen\\_4B                   & Einstreu 1-5               & 4                          & 2019-08-02                 & 2019-08-02 17:30:48        & Einstreu 1-5               & Einstreu 1-5, Einstreu 1-5 & Einstreu 1-5               & TRUE                       & FALSE                     \\\\\n",
       "\t 2019-08-10 12:12:47        & hen\\_4B                   & Einstreu 1-5               & 4                          & 2019-08-10                 & 2019-08-10 12:14:07        & Einstreu 1-5               & Einstreu 1-5, Einstreu 1-5 & Einstreu 1-5               & TRUE                       & FALSE                     \\\\\n",
       "\t 2019-08-15 11:55:11        & hen\\_4B                   & Einstreu 1-5               & 4                          & 2019-08-15                 & 2019-08-15 11:56:50        & Einstreu 1-5               & Einstreu 1-5, Einstreu 1-5 & Einstreu 1-5               & TRUE                       & FALSE                     \\\\\n",
       "\t 2019-08-16 12:07:00        & hen\\_4B                   & Rampe 1-5                  & 4                          & 2019-08-16                 & 2019-08-16 12:07:04        & Rampe 1-5                  & Rampe 1-5, Rampe 1-5       & Rampe 1-5                  & TRUE                       & FALSE                     \\\\\n",
       "\t 2019-07-08 02:20:06        & hen\\_4L                   & Rampe 1-5                  & 4                          & 2019-07-08                 & 2019-07-08 02:20:10        & Rampe 1-5                  & Rampe 1-5, Rampe 1-5       & Rampe 1-5                  & TRUE                       & FALSE                     \\\\\n",
       "\t 2019-07-08 06:15:13        & hen\\_4L                   & Einstreu 1-5               & 4                          & 2019-07-08                 & 2019-07-08 06:33:46        & Einstreu 1-5               & Einstreu 1-5, Einstreu 1-5 & Einstreu 1-5               & TRUE                       & FALSE                     \\\\\n",
       "\t 2019-07-08 07:35:40        & hen\\_4L                   & Einstreu 1-5               & 4                          & 2019-07-08                 & 2019-07-08 07:35:44        & Einstreu 1-5               & Einstreu 1-5, Einstreu 1-5 & Einstreu 1-5               & TRUE                       & FALSE                     \\\\\n",
       "\t 2019-07-11 12:25:17        & hen\\_4L                   & Einstreu 1-5               & 4                          & 2019-07-11                 & 2019-07-11 12:27:51        & Einstreu 1-5               & Einstreu 1-5, Einstreu 1-5 & Einstreu 1-5               & TRUE                       & FALSE                     \\\\\n",
       "\t 2019-07-18 05:35:30        & hen\\_4L                   & Rampe 1-5                  & 4                          & 2019-07-18                 & 2019-07-18 05:35:34        & Rampe 1-5                  & Rampe 1-5, Rampe 1-5       & Rampe 1-5                  & TRUE                       & FALSE                     \\\\\n",
       "\t 2019-07-21 21:52:24        & hen\\_4L                   & Rampe 1-5                  & 4                          & 2019-07-21                 & 2019-07-21 21:52:49        & Rampe 1-5                  & Rampe 1-5, Rampe 1-5       & Rampe 1-5                  & TRUE                       & FALSE                     \\\\\n",
       "\t 2019-07-22 02:09:20        & hen\\_4L                   & Rampe 1-5                  & 4                          & 2019-07-22                 & 2019-07-22 02:09:25        & Rampe 1-5                  & Rampe 1-5, Rampe 1-5       & Rampe 1-5                  & TRUE                       & FALSE                     \\\\\n",
       "\t 2019-07-22 18:47:04        & hen\\_4L                   & Einstreu 1-5               & 4                          & 2019-07-22                 & 2019-07-22 18:47:33        & Einstreu 1-5               & Einstreu 1-5, Einstreu 1-5 & Einstreu 1-5               & TRUE                       & FALSE                     \\\\\n",
       "\t 2019-07-22 21:24:52        & hen\\_4L                   & Rampe 1-5                  & 4                          & 2019-07-22                 & 2019-07-22 21:25:06        & Rampe 1-5                  & Rampe 1-5, Rampe 1-5       & Rampe 1-5                  & TRUE                       & FALSE                     \\\\\n",
       "\t 2019-07-28 06:20:38        & hen\\_4L                   & Einstreu 1-5               & 4                          & 2019-07-28                 & 2019-07-28 06:27:39        & Einstreu 1-5               & Einstreu 1-5, Einstreu 1-5 & Einstreu 1-5               & TRUE                       & FALSE                     \\\\\n",
       "\t 2019-08-02 09:26:10        & hen\\_4L                   & Einstreu 1-5               & 4                          & 2019-08-02                 & 2019-08-03 00:15:59        & Einstreu 1-5               & Einstreu 1-5, Einstreu 1-5 & Einstreu 1-5               & TRUE                       & FALSE                     \\\\\n",
       "\t 2019-08-03 03:21:53        & hen\\_4L                   & Einstreu 1-5               & 4                          & 2019-08-03                 & 2019-08-03 03:23:44        & Einstreu 1-5               & Einstreu 1-5, Einstreu 1-5 & Einstreu 1-5               & TRUE                       & FALSE                     \\\\\n",
       "\t 2019-08-03 04:23:56        & hen\\_4L                   & Einstreu 1-5               & 4                          & 2019-08-03                 & 2019-08-03 04:31:12        & Einstreu 1-5               & Einstreu 1-5, Einstreu 1-5 & Einstreu 1-5               & TRUE                       & FALSE                     \\\\\n",
       "\t 2019-08-04 04:51:23        & hen\\_4L                   & Einstreu 1-5               & 4                          & 2019-08-04                 & 2019-08-04 04:51:55        & Einstreu 1-5               & Einstreu 1-5, Einstreu 1-5 & Einstreu 1-5               & TRUE                       & FALSE                     \\\\\n",
       "\t 2019-08-04 13:52:39        & hen\\_4L                   & Rampe 1-5                  & 4                          & 2019-08-04                 & 2019-08-04 13:54:57        & Rampe 1-5                  & Rampe 1-5, Rampe 1-5       & Rampe 1-5                  & TRUE                       & FALSE                     \\\\\n",
       "\t 2019-08-05 07:40:42        & hen\\_4L                   & Rampe 1-5                  & 4                          & 2019-08-05                 & 2019-08-05 07:49:34        & Rampe 1-5                  & Rampe 1-5, Rampe 1-5       & Rampe 1-5                  & TRUE                       & FALSE                     \\\\\n",
       "\t 2019-08-09 08:28:43        & hen\\_4L                   & Rampe 1-5                  & 4                          & 2019-08-09                 & 2019-08-09 08:29:32        & Rampe 1-5                  & Rampe 1-5, Rampe 1-5       & Rampe 1-5                  & TRUE                       & FALSE                     \\\\\n",
       "\t 2019-08-15 14:18:48        & hen\\_4L                   & Rampe 1-5                  & 4                          & 2019-08-15                 & 2019-08-15 14:19:13        & Rampe 1-5                  & Rampe 1-5, Rampe 1-5       & Rampe 1-5                  & TRUE                       & FALSE                     \\\\\n",
       "\t 2019-08-15 14:19:18        & hen\\_4L                   & Einstreu 1-5               & 4                          & 2019-08-15                 & 2019-08-15 14:19:26        & Einstreu 1-5               & Einstreu 1-5, Einstreu 1-5 & Einstreu 1-5               & TRUE                       & FALSE                     \\\\\n",
       "\t 2019-08-18 16:25:22        & hen\\_4L                   & Einstreu 1-5               & 4                          & 2019-08-18                 & 2019-08-18 16:26:09        & Einstreu 1-5               & Einstreu 1-5, Einstreu 1-5 & Einstreu 1-5               & TRUE                       & FALSE                     \\\\\n",
       "\t 2019-08-22 06:49:49        & hen\\_4L                   & Einstreu 1-5               & 4                          & 2019-08-22                 & 2019-08-22 06:50:19        & Einstreu 1-5               & Einstreu 1-5, Einstreu 1-5 & Einstreu 1-5               & TRUE                       & FALSE                     \\\\\n",
       "\t ... & ... & ... & ... & ... & ... & ... & ... & ... & ... & ...\\\\\n",
       "\t 2019-08-15 07:11:22          & hen\\_1F                     & Box1                         & 1                            & 2019-08-15                   & 2019-08-15 07:12:37          & Box1                         & Box1, Box1                   & Box1                         & TRUE                         & FALSE                       \\\\\n",
       "\t 2019-08-17 06:45:06          & hen\\_1F                     & Einstreu 1-5                 & 1                            & 2019-08-17                   & 2019-08-17 06:45:58          & Einstreu 1-5                 & Einstreu 1-5, Einstreu 1-5   & Einstreu 1-5                 & TRUE                         & FALSE                       \\\\\n",
       "\t 2019-07-13 12:04:41          & hen\\_10S                    & Einstreu 6-10                & 10                           & 2019-07-13                   & 2019-07-13 12:07:23          & Einstreu 6-10                & Einstreu 6-10, Einstreu 6-10 & Einstreu 6-10                & TRUE                         & FALSE                       \\\\\n",
       "\t 2019-07-15 06:07:32          & hen\\_10S                    & Box19                        & 10                           & 2019-07-15                   & 2019-07-15 06:08:03          & Box19                        & Box19, Box19                 & Box19                        & TRUE                         & FALSE                       \\\\\n",
       "\t 2019-07-19 14:20:27          & hen\\_10S                    & Einstreu 6-10                & 10                           & 2019-07-19                   & 2019-07-19 14:30:42          & Einstreu 6-10                & Einstreu 6-10, Einstreu 6-10 & Einstreu 6-10                & TRUE                         & FALSE                       \\\\\n",
       "\t 2019-08-02 09:52:19          & hen\\_10S                    & Rampe 6-10                   & 10                           & 2019-08-02                   & 2019-08-03 00:16:14          & Rampe 6-10                   & Rampe 6-10, Rampe 6-10       & Rampe 6-10                   & TRUE                         & FALSE                       \\\\\n",
       "\t 2019-08-03 03:52:22          & hen\\_10S                    & Einstreu 6-10                & 10                           & 2019-08-03                   & 2019-08-03 03:53:46          & Einstreu 6-10                & Einstreu 6-10, Einstreu 6-10 & Einstreu 6-10                & TRUE                         & FALSE                       \\\\\n",
       "\t 2019-08-04 15:05:03          & hen\\_10S                    & Einstreu 6-10                & 10                           & 2019-08-04                   & 2019-08-04 15:16:10          & Einstreu 6-10                & Einstreu 6-10, Einstreu 6-10 & Einstreu 6-10                & TRUE                         & FALSE                       \\\\\n",
       "\t 2019-08-09 14:36:04          & hen\\_10S                    & Einstreu 6-10                & 10                           & 2019-08-09                   & 2019-08-09 15:19:02          & Einstreu 6-10                & Einstreu 6-10, Einstreu 6-10 & Einstreu 6-10                & TRUE                         & FALSE                       \\\\\n",
       "\t 2019-08-10 05:45:41          & hen\\_10S                    & Einstreu 6-10                & 10                           & 2019-08-10                   & 2019-08-10 05:46:45          & Einstreu 6-10                & Einstreu 6-10, Einstreu 6-10 & Einstreu 6-10                & TRUE                         & FALSE                       \\\\\n",
       "\t 2019-08-16 16:43:25          & hen\\_10S                    & Einstreu 6-10                & 10                           & 2019-08-16                   & 2019-08-16 16:48:03          & Einstreu 6-10                & Einstreu 6-10, Einstreu 6-10 & Einstreu 6-10                & TRUE                         & FALSE                       \\\\\n",
       "\t 2019-08-18 04:36:04          & hen\\_10S                    & Einstreu 6-10                & 10                           & 2019-08-18                   & 2019-08-18 04:37:36          & Einstreu 6-10                & Einstreu 6-10, Einstreu 6-10 & Einstreu 6-10                & TRUE                         & FALSE                       \\\\\n",
       "\t 2019-08-18 06:31:13          & hen\\_10S                    & Box19                        & 10                           & 2019-08-18                   & 2019-08-18 06:32:45          & Box19                        & Box19, Box19                 & Box19                        & TRUE                         & FALSE                       \\\\\n",
       "\t 2019-08-18 09:17:24          & hen\\_10S                    & Einstreu 6-10                & 10                           & 2019-08-18                   & 2019-08-18 09:37:43          & Einstreu 6-10                & Einstreu 6-10, Einstreu 6-10 & Einstreu 6-10                & TRUE                         & FALSE                       \\\\\n",
       "\t 2019-08-22 10:21:05          & hen\\_10S                    & Einstreu 6-10                & 10                           & 2019-08-22                   & 2019-08-22 10:29:50          & Einstreu 6-10                & Einstreu 6-10, Einstreu 6-10 & Einstreu 6-10                & TRUE                         & FALSE                       \\\\\n",
       "\t 2019-07-20 06:22:00          & hen\\_7C                     & Box13                        & 7                            & 2019-07-20                   & 2019-07-20 06:23:10          & Box13                        & Box13, Box13                 & Box13                        & TRUE                         & FALSE                       \\\\\n",
       "\t 2019-07-26 05:05:43          & hen\\_7C                     & Box14                        & 7                            & 2019-07-26                   & 2019-07-26 05:06:32          & Box14                        & Box14, Box14                 & Box14                        & TRUE                         & FALSE                       \\\\\n",
       "\t 2019-07-26 09:25:51          & hen\\_7C                     & Einstreu 6-10                & 7                            & 2019-07-26                   & 2019-07-26 09:51:23          & Einstreu 6-10                & Einstreu 6-10, Einstreu 6-10 & Einstreu 6-10                & TRUE                         & FALSE                       \\\\\n",
       "\t 2019-08-09 11:42:55          & hen\\_7C                     & Einstreu 6-10                & 7                            & 2019-08-09                   & 2019-08-09 11:49:14          & Einstreu 6-10                & Einstreu 6-10, Einstreu 6-10 & Einstreu 6-10                & TRUE                         & FALSE                       \\\\\n",
       "\t 2019-08-12 10:11:33          & hen\\_7C                     & Einstreu 6-10                & 7                            & 2019-08-12                   & 2019-08-12 10:12:03          & Einstreu 6-10                & Einstreu 6-10, Einstreu 6-10 & Einstreu 6-10                & TRUE                         & FALSE                       \\\\\n",
       "\t 2019-07-13 10:15:27          & hen\\_3L                     & Einstreu 1-5                 & 3                            & 2019-07-13                   & 2019-07-13 11:06:06          & Einstreu 1-5                 & Einstreu 1-5, Einstreu 1-5   & Einstreu 1-5                 & TRUE                         & FALSE                       \\\\\n",
       "\t 2019-07-18 11:45:24          & hen\\_3L                     & Einstreu 1-5                 & 3                            & 2019-07-18                   & 2019-07-18 11:49:06          & Einstreu 1-5                 & Einstreu 1-5, Einstreu 1-5   & Einstreu 1-5                 & TRUE                         & FALSE                       \\\\\n",
       "\t 2019-08-01 05:22:45          & hen\\_3L                     & Einstreu 1-5                 & 3                            & 2019-08-01                   & 2019-08-01 05:23:17          & Einstreu 1-5                 & Einstreu 1-5, Einstreu 1-5   & Einstreu 1-5                 & TRUE                         & FALSE                       \\\\\n",
       "\t 2019-08-02 04:57:47          & hen\\_3L                     & Einstreu 1-5                 & 3                            & 2019-08-02                   & 2019-08-02 05:00:01          & Einstreu 1-5                 & Einstreu 1-5, Einstreu 1-5   & Einstreu 1-5                 & TRUE                         & FALSE                       \\\\\n",
       "\t 2019-08-04 06:09:42          & hen\\_3L                     & Einstreu 1-5                 & 3                            & 2019-08-04                   & 2019-08-04 06:10:55          & Einstreu 1-5                 & Einstreu 1-5, Einstreu 1-5   & Einstreu 1-5                 & TRUE                         & FALSE                       \\\\\n",
       "\t 2019-08-05 06:43:23          & hen\\_3L                     & Einstreu 1-5                 & 3                            & 2019-08-05                   & 2019-08-05 07:06:33          & Einstreu 1-5                 & Einstreu 1-5, Einstreu 1-5   & Einstreu 1-5                 & TRUE                         & FALSE                       \\\\\n",
       "\t 2019-08-08 14:16:46          & hen\\_3L                     & Rampe 1-5                    & 3                            & 2019-08-08                   & 2019-08-08 14:17:47          & Rampe 1-5                    & Rampe 1-5, Rampe 1-5         & Rampe 1-5                    & TRUE                         & FALSE                       \\\\\n",
       "\t 2019-08-11 15:45:05          & hen\\_3L                     & Einstreu 1-5                 & 3                            & 2019-08-11                   & 2019-08-12 03:02:10          & Einstreu 1-5                 & Einstreu 1-5, Einstreu 1-5   & Einstreu 1-5                 & TRUE                         & FALSE                       \\\\\n",
       "\t 2019-08-17 10:24:09          & hen\\_3L                     & Einstreu 1-5                 & 3                            & 2019-08-17                   & 2019-08-17 10:24:36          & Einstreu 1-5                 & Einstreu 1-5, Einstreu 1-5   & Einstreu 1-5                 & TRUE                         & FALSE                       \\\\\n",
       "\t 2019-08-18 08:24:27          & hen\\_3L                     & Einstreu 1-5                 & 3                            & 2019-08-18                   & 2019-08-18 08:27:07          & Einstreu 1-5                 & Einstreu 1-5, Einstreu 1-5   & Einstreu 1-5                 & TRUE                         & FALSE                       \\\\\n",
       "\\end{tabular}\n"
      ],
      "text/markdown": [
       "\n",
       "Timestamp | HenID | Zone | PenID | day | next_record_date | Zone_without_flickering | interzone_info | next_zone | correction_is_consecutive_equal_zone | is_flick | \n",
       "|---|---|---|---|---|---|---|---|---|---|---|---|---|---|---|---|---|---|---|---|---|---|---|---|---|---|---|---|---|---|---|---|---|---|---|---|---|---|---|---|---|---|---|---|---|---|---|---|---|---|---|---|---|---|---|---|---|---|---|---|---|\n",
       "| 2019-07-13 14:45:12        | hen_4B                     | Rampe 1-5                  | 4                          | 2019-07-13                 | 2019-07-13 14:45:15        | Rampe 1-5                  | Rampe 1-5, Rampe 1-5       | Rampe 1-5                  | TRUE                       | FALSE                      | \n",
       "| 2019-07-14 06:22:10        | hen_4B                     | Einstreu 1-5               | 4                          | 2019-07-14                 | 2019-07-14 06:24:40        | Einstreu 1-5               | Einstreu 1-5, Einstreu 1-5 | Einstreu 1-5               | TRUE                       | FALSE                      | \n",
       "| 2019-07-28 08:11:26        | hen_4B                     | Einstreu 1-5               | 4                          | 2019-07-28                 | 2019-07-28 08:11:59        | Einstreu 1-5               | Einstreu 1-5, Einstreu 1-5 | Einstreu 1-5               | TRUE                       | FALSE                      | \n",
       "| 2019-07-28 13:08:55        | hen_4B                     | Einstreu 1-5               | 4                          | 2019-07-28                 | 2019-07-28 13:19:15        | Einstreu 1-5               | Einstreu 1-5, Einstreu 1-5 | Einstreu 1-5               | TRUE                       | FALSE                      | \n",
       "| 2019-07-29 01:53:22        | hen_4B                     | Einstreu 1-5               | 4                          | 2019-07-29                 | 2019-07-29 01:53:26        | Einstreu 1-5               | Einstreu 1-5, Einstreu 1-5 | Einstreu 1-5               | TRUE                       | FALSE                      | \n",
       "| 2019-08-02 17:30:18        | hen_4B                     | Einstreu 1-5               | 4                          | 2019-08-02                 | 2019-08-02 17:30:48        | Einstreu 1-5               | Einstreu 1-5, Einstreu 1-5 | Einstreu 1-5               | TRUE                       | FALSE                      | \n",
       "| 2019-08-10 12:12:47        | hen_4B                     | Einstreu 1-5               | 4                          | 2019-08-10                 | 2019-08-10 12:14:07        | Einstreu 1-5               | Einstreu 1-5, Einstreu 1-5 | Einstreu 1-5               | TRUE                       | FALSE                      | \n",
       "| 2019-08-15 11:55:11        | hen_4B                     | Einstreu 1-5               | 4                          | 2019-08-15                 | 2019-08-15 11:56:50        | Einstreu 1-5               | Einstreu 1-5, Einstreu 1-5 | Einstreu 1-5               | TRUE                       | FALSE                      | \n",
       "| 2019-08-16 12:07:00        | hen_4B                     | Rampe 1-5                  | 4                          | 2019-08-16                 | 2019-08-16 12:07:04        | Rampe 1-5                  | Rampe 1-5, Rampe 1-5       | Rampe 1-5                  | TRUE                       | FALSE                      | \n",
       "| 2019-07-08 02:20:06        | hen_4L                     | Rampe 1-5                  | 4                          | 2019-07-08                 | 2019-07-08 02:20:10        | Rampe 1-5                  | Rampe 1-5, Rampe 1-5       | Rampe 1-5                  | TRUE                       | FALSE                      | \n",
       "| 2019-07-08 06:15:13        | hen_4L                     | Einstreu 1-5               | 4                          | 2019-07-08                 | 2019-07-08 06:33:46        | Einstreu 1-5               | Einstreu 1-5, Einstreu 1-5 | Einstreu 1-5               | TRUE                       | FALSE                      | \n",
       "| 2019-07-08 07:35:40        | hen_4L                     | Einstreu 1-5               | 4                          | 2019-07-08                 | 2019-07-08 07:35:44        | Einstreu 1-5               | Einstreu 1-5, Einstreu 1-5 | Einstreu 1-5               | TRUE                       | FALSE                      | \n",
       "| 2019-07-11 12:25:17        | hen_4L                     | Einstreu 1-5               | 4                          | 2019-07-11                 | 2019-07-11 12:27:51        | Einstreu 1-5               | Einstreu 1-5, Einstreu 1-5 | Einstreu 1-5               | TRUE                       | FALSE                      | \n",
       "| 2019-07-18 05:35:30        | hen_4L                     | Rampe 1-5                  | 4                          | 2019-07-18                 | 2019-07-18 05:35:34        | Rampe 1-5                  | Rampe 1-5, Rampe 1-5       | Rampe 1-5                  | TRUE                       | FALSE                      | \n",
       "| 2019-07-21 21:52:24        | hen_4L                     | Rampe 1-5                  | 4                          | 2019-07-21                 | 2019-07-21 21:52:49        | Rampe 1-5                  | Rampe 1-5, Rampe 1-5       | Rampe 1-5                  | TRUE                       | FALSE                      | \n",
       "| 2019-07-22 02:09:20        | hen_4L                     | Rampe 1-5                  | 4                          | 2019-07-22                 | 2019-07-22 02:09:25        | Rampe 1-5                  | Rampe 1-5, Rampe 1-5       | Rampe 1-5                  | TRUE                       | FALSE                      | \n",
       "| 2019-07-22 18:47:04        | hen_4L                     | Einstreu 1-5               | 4                          | 2019-07-22                 | 2019-07-22 18:47:33        | Einstreu 1-5               | Einstreu 1-5, Einstreu 1-5 | Einstreu 1-5               | TRUE                       | FALSE                      | \n",
       "| 2019-07-22 21:24:52        | hen_4L                     | Rampe 1-5                  | 4                          | 2019-07-22                 | 2019-07-22 21:25:06        | Rampe 1-5                  | Rampe 1-5, Rampe 1-5       | Rampe 1-5                  | TRUE                       | FALSE                      | \n",
       "| 2019-07-28 06:20:38        | hen_4L                     | Einstreu 1-5               | 4                          | 2019-07-28                 | 2019-07-28 06:27:39        | Einstreu 1-5               | Einstreu 1-5, Einstreu 1-5 | Einstreu 1-5               | TRUE                       | FALSE                      | \n",
       "| 2019-08-02 09:26:10        | hen_4L                     | Einstreu 1-5               | 4                          | 2019-08-02                 | 2019-08-03 00:15:59        | Einstreu 1-5               | Einstreu 1-5, Einstreu 1-5 | Einstreu 1-5               | TRUE                       | FALSE                      | \n",
       "| 2019-08-03 03:21:53        | hen_4L                     | Einstreu 1-5               | 4                          | 2019-08-03                 | 2019-08-03 03:23:44        | Einstreu 1-5               | Einstreu 1-5, Einstreu 1-5 | Einstreu 1-5               | TRUE                       | FALSE                      | \n",
       "| 2019-08-03 04:23:56        | hen_4L                     | Einstreu 1-5               | 4                          | 2019-08-03                 | 2019-08-03 04:31:12        | Einstreu 1-5               | Einstreu 1-5, Einstreu 1-5 | Einstreu 1-5               | TRUE                       | FALSE                      | \n",
       "| 2019-08-04 04:51:23        | hen_4L                     | Einstreu 1-5               | 4                          | 2019-08-04                 | 2019-08-04 04:51:55        | Einstreu 1-5               | Einstreu 1-5, Einstreu 1-5 | Einstreu 1-5               | TRUE                       | FALSE                      | \n",
       "| 2019-08-04 13:52:39        | hen_4L                     | Rampe 1-5                  | 4                          | 2019-08-04                 | 2019-08-04 13:54:57        | Rampe 1-5                  | Rampe 1-5, Rampe 1-5       | Rampe 1-5                  | TRUE                       | FALSE                      | \n",
       "| 2019-08-05 07:40:42        | hen_4L                     | Rampe 1-5                  | 4                          | 2019-08-05                 | 2019-08-05 07:49:34        | Rampe 1-5                  | Rampe 1-5, Rampe 1-5       | Rampe 1-5                  | TRUE                       | FALSE                      | \n",
       "| 2019-08-09 08:28:43        | hen_4L                     | Rampe 1-5                  | 4                          | 2019-08-09                 | 2019-08-09 08:29:32        | Rampe 1-5                  | Rampe 1-5, Rampe 1-5       | Rampe 1-5                  | TRUE                       | FALSE                      | \n",
       "| 2019-08-15 14:18:48        | hen_4L                     | Rampe 1-5                  | 4                          | 2019-08-15                 | 2019-08-15 14:19:13        | Rampe 1-5                  | Rampe 1-5, Rampe 1-5       | Rampe 1-5                  | TRUE                       | FALSE                      | \n",
       "| 2019-08-15 14:19:18        | hen_4L                     | Einstreu 1-5               | 4                          | 2019-08-15                 | 2019-08-15 14:19:26        | Einstreu 1-5               | Einstreu 1-5, Einstreu 1-5 | Einstreu 1-5               | TRUE                       | FALSE                      | \n",
       "| 2019-08-18 16:25:22        | hen_4L                     | Einstreu 1-5               | 4                          | 2019-08-18                 | 2019-08-18 16:26:09        | Einstreu 1-5               | Einstreu 1-5, Einstreu 1-5 | Einstreu 1-5               | TRUE                       | FALSE                      | \n",
       "| 2019-08-22 06:49:49        | hen_4L                     | Einstreu 1-5               | 4                          | 2019-08-22                 | 2019-08-22 06:50:19        | Einstreu 1-5               | Einstreu 1-5, Einstreu 1-5 | Einstreu 1-5               | TRUE                       | FALSE                      | \n",
       "| ... | ... | ... | ... | ... | ... | ... | ... | ... | ... | ... | \n",
       "| 2019-08-15 07:11:22          | hen_1F                       | Box1                         | 1                            | 2019-08-15                   | 2019-08-15 07:12:37          | Box1                         | Box1, Box1                   | Box1                         | TRUE                         | FALSE                        | \n",
       "| 2019-08-17 06:45:06          | hen_1F                       | Einstreu 1-5                 | 1                            | 2019-08-17                   | 2019-08-17 06:45:58          | Einstreu 1-5                 | Einstreu 1-5, Einstreu 1-5   | Einstreu 1-5                 | TRUE                         | FALSE                        | \n",
       "| 2019-07-13 12:04:41          | hen_10S                      | Einstreu 6-10                | 10                           | 2019-07-13                   | 2019-07-13 12:07:23          | Einstreu 6-10                | Einstreu 6-10, Einstreu 6-10 | Einstreu 6-10                | TRUE                         | FALSE                        | \n",
       "| 2019-07-15 06:07:32          | hen_10S                      | Box19                        | 10                           | 2019-07-15                   | 2019-07-15 06:08:03          | Box19                        | Box19, Box19                 | Box19                        | TRUE                         | FALSE                        | \n",
       "| 2019-07-19 14:20:27          | hen_10S                      | Einstreu 6-10                | 10                           | 2019-07-19                   | 2019-07-19 14:30:42          | Einstreu 6-10                | Einstreu 6-10, Einstreu 6-10 | Einstreu 6-10                | TRUE                         | FALSE                        | \n",
       "| 2019-08-02 09:52:19          | hen_10S                      | Rampe 6-10                   | 10                           | 2019-08-02                   | 2019-08-03 00:16:14          | Rampe 6-10                   | Rampe 6-10, Rampe 6-10       | Rampe 6-10                   | TRUE                         | FALSE                        | \n",
       "| 2019-08-03 03:52:22          | hen_10S                      | Einstreu 6-10                | 10                           | 2019-08-03                   | 2019-08-03 03:53:46          | Einstreu 6-10                | Einstreu 6-10, Einstreu 6-10 | Einstreu 6-10                | TRUE                         | FALSE                        | \n",
       "| 2019-08-04 15:05:03          | hen_10S                      | Einstreu 6-10                | 10                           | 2019-08-04                   | 2019-08-04 15:16:10          | Einstreu 6-10                | Einstreu 6-10, Einstreu 6-10 | Einstreu 6-10                | TRUE                         | FALSE                        | \n",
       "| 2019-08-09 14:36:04          | hen_10S                      | Einstreu 6-10                | 10                           | 2019-08-09                   | 2019-08-09 15:19:02          | Einstreu 6-10                | Einstreu 6-10, Einstreu 6-10 | Einstreu 6-10                | TRUE                         | FALSE                        | \n",
       "| 2019-08-10 05:45:41          | hen_10S                      | Einstreu 6-10                | 10                           | 2019-08-10                   | 2019-08-10 05:46:45          | Einstreu 6-10                | Einstreu 6-10, Einstreu 6-10 | Einstreu 6-10                | TRUE                         | FALSE                        | \n",
       "| 2019-08-16 16:43:25          | hen_10S                      | Einstreu 6-10                | 10                           | 2019-08-16                   | 2019-08-16 16:48:03          | Einstreu 6-10                | Einstreu 6-10, Einstreu 6-10 | Einstreu 6-10                | TRUE                         | FALSE                        | \n",
       "| 2019-08-18 04:36:04          | hen_10S                      | Einstreu 6-10                | 10                           | 2019-08-18                   | 2019-08-18 04:37:36          | Einstreu 6-10                | Einstreu 6-10, Einstreu 6-10 | Einstreu 6-10                | TRUE                         | FALSE                        | \n",
       "| 2019-08-18 06:31:13          | hen_10S                      | Box19                        | 10                           | 2019-08-18                   | 2019-08-18 06:32:45          | Box19                        | Box19, Box19                 | Box19                        | TRUE                         | FALSE                        | \n",
       "| 2019-08-18 09:17:24          | hen_10S                      | Einstreu 6-10                | 10                           | 2019-08-18                   | 2019-08-18 09:37:43          | Einstreu 6-10                | Einstreu 6-10, Einstreu 6-10 | Einstreu 6-10                | TRUE                         | FALSE                        | \n",
       "| 2019-08-22 10:21:05          | hen_10S                      | Einstreu 6-10                | 10                           | 2019-08-22                   | 2019-08-22 10:29:50          | Einstreu 6-10                | Einstreu 6-10, Einstreu 6-10 | Einstreu 6-10                | TRUE                         | FALSE                        | \n",
       "| 2019-07-20 06:22:00          | hen_7C                       | Box13                        | 7                            | 2019-07-20                   | 2019-07-20 06:23:10          | Box13                        | Box13, Box13                 | Box13                        | TRUE                         | FALSE                        | \n",
       "| 2019-07-26 05:05:43          | hen_7C                       | Box14                        | 7                            | 2019-07-26                   | 2019-07-26 05:06:32          | Box14                        | Box14, Box14                 | Box14                        | TRUE                         | FALSE                        | \n",
       "| 2019-07-26 09:25:51          | hen_7C                       | Einstreu 6-10                | 7                            | 2019-07-26                   | 2019-07-26 09:51:23          | Einstreu 6-10                | Einstreu 6-10, Einstreu 6-10 | Einstreu 6-10                | TRUE                         | FALSE                        | \n",
       "| 2019-08-09 11:42:55          | hen_7C                       | Einstreu 6-10                | 7                            | 2019-08-09                   | 2019-08-09 11:49:14          | Einstreu 6-10                | Einstreu 6-10, Einstreu 6-10 | Einstreu 6-10                | TRUE                         | FALSE                        | \n",
       "| 2019-08-12 10:11:33          | hen_7C                       | Einstreu 6-10                | 7                            | 2019-08-12                   | 2019-08-12 10:12:03          | Einstreu 6-10                | Einstreu 6-10, Einstreu 6-10 | Einstreu 6-10                | TRUE                         | FALSE                        | \n",
       "| 2019-07-13 10:15:27          | hen_3L                       | Einstreu 1-5                 | 3                            | 2019-07-13                   | 2019-07-13 11:06:06          | Einstreu 1-5                 | Einstreu 1-5, Einstreu 1-5   | Einstreu 1-5                 | TRUE                         | FALSE                        | \n",
       "| 2019-07-18 11:45:24          | hen_3L                       | Einstreu 1-5                 | 3                            | 2019-07-18                   | 2019-07-18 11:49:06          | Einstreu 1-5                 | Einstreu 1-5, Einstreu 1-5   | Einstreu 1-5                 | TRUE                         | FALSE                        | \n",
       "| 2019-08-01 05:22:45          | hen_3L                       | Einstreu 1-5                 | 3                            | 2019-08-01                   | 2019-08-01 05:23:17          | Einstreu 1-5                 | Einstreu 1-5, Einstreu 1-5   | Einstreu 1-5                 | TRUE                         | FALSE                        | \n",
       "| 2019-08-02 04:57:47          | hen_3L                       | Einstreu 1-5                 | 3                            | 2019-08-02                   | 2019-08-02 05:00:01          | Einstreu 1-5                 | Einstreu 1-5, Einstreu 1-5   | Einstreu 1-5                 | TRUE                         | FALSE                        | \n",
       "| 2019-08-04 06:09:42          | hen_3L                       | Einstreu 1-5                 | 3                            | 2019-08-04                   | 2019-08-04 06:10:55          | Einstreu 1-5                 | Einstreu 1-5, Einstreu 1-5   | Einstreu 1-5                 | TRUE                         | FALSE                        | \n",
       "| 2019-08-05 06:43:23          | hen_3L                       | Einstreu 1-5                 | 3                            | 2019-08-05                   | 2019-08-05 07:06:33          | Einstreu 1-5                 | Einstreu 1-5, Einstreu 1-5   | Einstreu 1-5                 | TRUE                         | FALSE                        | \n",
       "| 2019-08-08 14:16:46          | hen_3L                       | Rampe 1-5                    | 3                            | 2019-08-08                   | 2019-08-08 14:17:47          | Rampe 1-5                    | Rampe 1-5, Rampe 1-5         | Rampe 1-5                    | TRUE                         | FALSE                        | \n",
       "| 2019-08-11 15:45:05          | hen_3L                       | Einstreu 1-5                 | 3                            | 2019-08-11                   | 2019-08-12 03:02:10          | Einstreu 1-5                 | Einstreu 1-5, Einstreu 1-5   | Einstreu 1-5                 | TRUE                         | FALSE                        | \n",
       "| 2019-08-17 10:24:09          | hen_3L                       | Einstreu 1-5                 | 3                            | 2019-08-17                   | 2019-08-17 10:24:36          | Einstreu 1-5                 | Einstreu 1-5, Einstreu 1-5   | Einstreu 1-5                 | TRUE                         | FALSE                        | \n",
       "| 2019-08-18 08:24:27          | hen_3L                       | Einstreu 1-5                 | 3                            | 2019-08-18                   | 2019-08-18 08:27:07          | Einstreu 1-5                 | Einstreu 1-5, Einstreu 1-5   | Einstreu 1-5                 | TRUE                         | FALSE                        | \n",
       "\n",
       "\n"
      ],
      "text/plain": [
       "     Timestamp           HenID   Zone          PenID day       \n",
       "1    2019-07-13 14:45:12 hen_4B  Rampe 1-5     4     2019-07-13\n",
       "2    2019-07-14 06:22:10 hen_4B  Einstreu 1-5  4     2019-07-14\n",
       "3    2019-07-28 08:11:26 hen_4B  Einstreu 1-5  4     2019-07-28\n",
       "4    2019-07-28 13:08:55 hen_4B  Einstreu 1-5  4     2019-07-28\n",
       "5    2019-07-29 01:53:22 hen_4B  Einstreu 1-5  4     2019-07-29\n",
       "6    2019-08-02 17:30:18 hen_4B  Einstreu 1-5  4     2019-08-02\n",
       "7    2019-08-10 12:12:47 hen_4B  Einstreu 1-5  4     2019-08-10\n",
       "8    2019-08-15 11:55:11 hen_4B  Einstreu 1-5  4     2019-08-15\n",
       "9    2019-08-16 12:07:00 hen_4B  Rampe 1-5     4     2019-08-16\n",
       "10   2019-07-08 02:20:06 hen_4L  Rampe 1-5     4     2019-07-08\n",
       "11   2019-07-08 06:15:13 hen_4L  Einstreu 1-5  4     2019-07-08\n",
       "12   2019-07-08 07:35:40 hen_4L  Einstreu 1-5  4     2019-07-08\n",
       "13   2019-07-11 12:25:17 hen_4L  Einstreu 1-5  4     2019-07-11\n",
       "14   2019-07-18 05:35:30 hen_4L  Rampe 1-5     4     2019-07-18\n",
       "15   2019-07-21 21:52:24 hen_4L  Rampe 1-5     4     2019-07-21\n",
       "16   2019-07-22 02:09:20 hen_4L  Rampe 1-5     4     2019-07-22\n",
       "17   2019-07-22 18:47:04 hen_4L  Einstreu 1-5  4     2019-07-22\n",
       "18   2019-07-22 21:24:52 hen_4L  Rampe 1-5     4     2019-07-22\n",
       "19   2019-07-28 06:20:38 hen_4L  Einstreu 1-5  4     2019-07-28\n",
       "20   2019-08-02 09:26:10 hen_4L  Einstreu 1-5  4     2019-08-02\n",
       "21   2019-08-03 03:21:53 hen_4L  Einstreu 1-5  4     2019-08-03\n",
       "22   2019-08-03 04:23:56 hen_4L  Einstreu 1-5  4     2019-08-03\n",
       "23   2019-08-04 04:51:23 hen_4L  Einstreu 1-5  4     2019-08-04\n",
       "24   2019-08-04 13:52:39 hen_4L  Rampe 1-5     4     2019-08-04\n",
       "25   2019-08-05 07:40:42 hen_4L  Rampe 1-5     4     2019-08-05\n",
       "26   2019-08-09 08:28:43 hen_4L  Rampe 1-5     4     2019-08-09\n",
       "27   2019-08-15 14:18:48 hen_4L  Rampe 1-5     4     2019-08-15\n",
       "28   2019-08-15 14:19:18 hen_4L  Einstreu 1-5  4     2019-08-15\n",
       "29   2019-08-18 16:25:22 hen_4L  Einstreu 1-5  4     2019-08-18\n",
       "30   2019-08-22 06:49:49 hen_4L  Einstreu 1-5  4     2019-08-22\n",
       "...  ...                 ...     ...           ...   ...       \n",
       "1823 2019-08-15 07:11:22 hen_1F  Box1          1     2019-08-15\n",
       "1824 2019-08-17 06:45:06 hen_1F  Einstreu 1-5  1     2019-08-17\n",
       "1825 2019-07-13 12:04:41 hen_10S Einstreu 6-10 10    2019-07-13\n",
       "1826 2019-07-15 06:07:32 hen_10S Box19         10    2019-07-15\n",
       "1827 2019-07-19 14:20:27 hen_10S Einstreu 6-10 10    2019-07-19\n",
       "1828 2019-08-02 09:52:19 hen_10S Rampe 6-10    10    2019-08-02\n",
       "1829 2019-08-03 03:52:22 hen_10S Einstreu 6-10 10    2019-08-03\n",
       "1830 2019-08-04 15:05:03 hen_10S Einstreu 6-10 10    2019-08-04\n",
       "1831 2019-08-09 14:36:04 hen_10S Einstreu 6-10 10    2019-08-09\n",
       "1832 2019-08-10 05:45:41 hen_10S Einstreu 6-10 10    2019-08-10\n",
       "1833 2019-08-16 16:43:25 hen_10S Einstreu 6-10 10    2019-08-16\n",
       "1834 2019-08-18 04:36:04 hen_10S Einstreu 6-10 10    2019-08-18\n",
       "1835 2019-08-18 06:31:13 hen_10S Box19         10    2019-08-18\n",
       "1836 2019-08-18 09:17:24 hen_10S Einstreu 6-10 10    2019-08-18\n",
       "1837 2019-08-22 10:21:05 hen_10S Einstreu 6-10 10    2019-08-22\n",
       "1838 2019-07-20 06:22:00 hen_7C  Box13         7     2019-07-20\n",
       "1839 2019-07-26 05:05:43 hen_7C  Box14         7     2019-07-26\n",
       "1840 2019-07-26 09:25:51 hen_7C  Einstreu 6-10 7     2019-07-26\n",
       "1841 2019-08-09 11:42:55 hen_7C  Einstreu 6-10 7     2019-08-09\n",
       "1842 2019-08-12 10:11:33 hen_7C  Einstreu 6-10 7     2019-08-12\n",
       "1843 2019-07-13 10:15:27 hen_3L  Einstreu 1-5  3     2019-07-13\n",
       "1844 2019-07-18 11:45:24 hen_3L  Einstreu 1-5  3     2019-07-18\n",
       "1845 2019-08-01 05:22:45 hen_3L  Einstreu 1-5  3     2019-08-01\n",
       "1846 2019-08-02 04:57:47 hen_3L  Einstreu 1-5  3     2019-08-02\n",
       "1847 2019-08-04 06:09:42 hen_3L  Einstreu 1-5  3     2019-08-04\n",
       "1848 2019-08-05 06:43:23 hen_3L  Einstreu 1-5  3     2019-08-05\n",
       "1849 2019-08-08 14:16:46 hen_3L  Rampe 1-5     3     2019-08-08\n",
       "1850 2019-08-11 15:45:05 hen_3L  Einstreu 1-5  3     2019-08-11\n",
       "1851 2019-08-17 10:24:09 hen_3L  Einstreu 1-5  3     2019-08-17\n",
       "1852 2019-08-18 08:24:27 hen_3L  Einstreu 1-5  3     2019-08-18\n",
       "     next_record_date    Zone_without_flickering interzone_info              \n",
       "1    2019-07-13 14:45:15 Rampe 1-5               Rampe 1-5, Rampe 1-5        \n",
       "2    2019-07-14 06:24:40 Einstreu 1-5            Einstreu 1-5, Einstreu 1-5  \n",
       "3    2019-07-28 08:11:59 Einstreu 1-5            Einstreu 1-5, Einstreu 1-5  \n",
       "4    2019-07-28 13:19:15 Einstreu 1-5            Einstreu 1-5, Einstreu 1-5  \n",
       "5    2019-07-29 01:53:26 Einstreu 1-5            Einstreu 1-5, Einstreu 1-5  \n",
       "6    2019-08-02 17:30:48 Einstreu 1-5            Einstreu 1-5, Einstreu 1-5  \n",
       "7    2019-08-10 12:14:07 Einstreu 1-5            Einstreu 1-5, Einstreu 1-5  \n",
       "8    2019-08-15 11:56:50 Einstreu 1-5            Einstreu 1-5, Einstreu 1-5  \n",
       "9    2019-08-16 12:07:04 Rampe 1-5               Rampe 1-5, Rampe 1-5        \n",
       "10   2019-07-08 02:20:10 Rampe 1-5               Rampe 1-5, Rampe 1-5        \n",
       "11   2019-07-08 06:33:46 Einstreu 1-5            Einstreu 1-5, Einstreu 1-5  \n",
       "12   2019-07-08 07:35:44 Einstreu 1-5            Einstreu 1-5, Einstreu 1-5  \n",
       "13   2019-07-11 12:27:51 Einstreu 1-5            Einstreu 1-5, Einstreu 1-5  \n",
       "14   2019-07-18 05:35:34 Rampe 1-5               Rampe 1-5, Rampe 1-5        \n",
       "15   2019-07-21 21:52:49 Rampe 1-5               Rampe 1-5, Rampe 1-5        \n",
       "16   2019-07-22 02:09:25 Rampe 1-5               Rampe 1-5, Rampe 1-5        \n",
       "17   2019-07-22 18:47:33 Einstreu 1-5            Einstreu 1-5, Einstreu 1-5  \n",
       "18   2019-07-22 21:25:06 Rampe 1-5               Rampe 1-5, Rampe 1-5        \n",
       "19   2019-07-28 06:27:39 Einstreu 1-5            Einstreu 1-5, Einstreu 1-5  \n",
       "20   2019-08-03 00:15:59 Einstreu 1-5            Einstreu 1-5, Einstreu 1-5  \n",
       "21   2019-08-03 03:23:44 Einstreu 1-5            Einstreu 1-5, Einstreu 1-5  \n",
       "22   2019-08-03 04:31:12 Einstreu 1-5            Einstreu 1-5, Einstreu 1-5  \n",
       "23   2019-08-04 04:51:55 Einstreu 1-5            Einstreu 1-5, Einstreu 1-5  \n",
       "24   2019-08-04 13:54:57 Rampe 1-5               Rampe 1-5, Rampe 1-5        \n",
       "25   2019-08-05 07:49:34 Rampe 1-5               Rampe 1-5, Rampe 1-5        \n",
       "26   2019-08-09 08:29:32 Rampe 1-5               Rampe 1-5, Rampe 1-5        \n",
       "27   2019-08-15 14:19:13 Rampe 1-5               Rampe 1-5, Rampe 1-5        \n",
       "28   2019-08-15 14:19:26 Einstreu 1-5            Einstreu 1-5, Einstreu 1-5  \n",
       "29   2019-08-18 16:26:09 Einstreu 1-5            Einstreu 1-5, Einstreu 1-5  \n",
       "30   2019-08-22 06:50:19 Einstreu 1-5            Einstreu 1-5, Einstreu 1-5  \n",
       "...  ...                 ...                     ...                         \n",
       "1823 2019-08-15 07:12:37 Box1                    Box1, Box1                  \n",
       "1824 2019-08-17 06:45:58 Einstreu 1-5            Einstreu 1-5, Einstreu 1-5  \n",
       "1825 2019-07-13 12:07:23 Einstreu 6-10           Einstreu 6-10, Einstreu 6-10\n",
       "1826 2019-07-15 06:08:03 Box19                   Box19, Box19                \n",
       "1827 2019-07-19 14:30:42 Einstreu 6-10           Einstreu 6-10, Einstreu 6-10\n",
       "1828 2019-08-03 00:16:14 Rampe 6-10              Rampe 6-10, Rampe 6-10      \n",
       "1829 2019-08-03 03:53:46 Einstreu 6-10           Einstreu 6-10, Einstreu 6-10\n",
       "1830 2019-08-04 15:16:10 Einstreu 6-10           Einstreu 6-10, Einstreu 6-10\n",
       "1831 2019-08-09 15:19:02 Einstreu 6-10           Einstreu 6-10, Einstreu 6-10\n",
       "1832 2019-08-10 05:46:45 Einstreu 6-10           Einstreu 6-10, Einstreu 6-10\n",
       "1833 2019-08-16 16:48:03 Einstreu 6-10           Einstreu 6-10, Einstreu 6-10\n",
       "1834 2019-08-18 04:37:36 Einstreu 6-10           Einstreu 6-10, Einstreu 6-10\n",
       "1835 2019-08-18 06:32:45 Box19                   Box19, Box19                \n",
       "1836 2019-08-18 09:37:43 Einstreu 6-10           Einstreu 6-10, Einstreu 6-10\n",
       "1837 2019-08-22 10:29:50 Einstreu 6-10           Einstreu 6-10, Einstreu 6-10\n",
       "1838 2019-07-20 06:23:10 Box13                   Box13, Box13                \n",
       "1839 2019-07-26 05:06:32 Box14                   Box14, Box14                \n",
       "1840 2019-07-26 09:51:23 Einstreu 6-10           Einstreu 6-10, Einstreu 6-10\n",
       "1841 2019-08-09 11:49:14 Einstreu 6-10           Einstreu 6-10, Einstreu 6-10\n",
       "1842 2019-08-12 10:12:03 Einstreu 6-10           Einstreu 6-10, Einstreu 6-10\n",
       "1843 2019-07-13 11:06:06 Einstreu 1-5            Einstreu 1-5, Einstreu 1-5  \n",
       "1844 2019-07-18 11:49:06 Einstreu 1-5            Einstreu 1-5, Einstreu 1-5  \n",
       "1845 2019-08-01 05:23:17 Einstreu 1-5            Einstreu 1-5, Einstreu 1-5  \n",
       "1846 2019-08-02 05:00:01 Einstreu 1-5            Einstreu 1-5, Einstreu 1-5  \n",
       "1847 2019-08-04 06:10:55 Einstreu 1-5            Einstreu 1-5, Einstreu 1-5  \n",
       "1848 2019-08-05 07:06:33 Einstreu 1-5            Einstreu 1-5, Einstreu 1-5  \n",
       "1849 2019-08-08 14:17:47 Rampe 1-5               Rampe 1-5, Rampe 1-5        \n",
       "1850 2019-08-12 03:02:10 Einstreu 1-5            Einstreu 1-5, Einstreu 1-5  \n",
       "1851 2019-08-17 10:24:36 Einstreu 1-5            Einstreu 1-5, Einstreu 1-5  \n",
       "1852 2019-08-18 08:27:07 Einstreu 1-5            Einstreu 1-5, Einstreu 1-5  \n",
       "     next_zone     correction_is_consecutive_equal_zone is_flick\n",
       "1    Rampe 1-5     TRUE                                 FALSE   \n",
       "2    Einstreu 1-5  TRUE                                 FALSE   \n",
       "3    Einstreu 1-5  TRUE                                 FALSE   \n",
       "4    Einstreu 1-5  TRUE                                 FALSE   \n",
       "5    Einstreu 1-5  TRUE                                 FALSE   \n",
       "6    Einstreu 1-5  TRUE                                 FALSE   \n",
       "7    Einstreu 1-5  TRUE                                 FALSE   \n",
       "8    Einstreu 1-5  TRUE                                 FALSE   \n",
       "9    Rampe 1-5     TRUE                                 FALSE   \n",
       "10   Rampe 1-5     TRUE                                 FALSE   \n",
       "11   Einstreu 1-5  TRUE                                 FALSE   \n",
       "12   Einstreu 1-5  TRUE                                 FALSE   \n",
       "13   Einstreu 1-5  TRUE                                 FALSE   \n",
       "14   Rampe 1-5     TRUE                                 FALSE   \n",
       "15   Rampe 1-5     TRUE                                 FALSE   \n",
       "16   Rampe 1-5     TRUE                                 FALSE   \n",
       "17   Einstreu 1-5  TRUE                                 FALSE   \n",
       "18   Rampe 1-5     TRUE                                 FALSE   \n",
       "19   Einstreu 1-5  TRUE                                 FALSE   \n",
       "20   Einstreu 1-5  TRUE                                 FALSE   \n",
       "21   Einstreu 1-5  TRUE                                 FALSE   \n",
       "22   Einstreu 1-5  TRUE                                 FALSE   \n",
       "23   Einstreu 1-5  TRUE                                 FALSE   \n",
       "24   Rampe 1-5     TRUE                                 FALSE   \n",
       "25   Rampe 1-5     TRUE                                 FALSE   \n",
       "26   Rampe 1-5     TRUE                                 FALSE   \n",
       "27   Rampe 1-5     TRUE                                 FALSE   \n",
       "28   Einstreu 1-5  TRUE                                 FALSE   \n",
       "29   Einstreu 1-5  TRUE                                 FALSE   \n",
       "30   Einstreu 1-5  TRUE                                 FALSE   \n",
       "...  ...           ...                                  ...     \n",
       "1823 Box1          TRUE                                 FALSE   \n",
       "1824 Einstreu 1-5  TRUE                                 FALSE   \n",
       "1825 Einstreu 6-10 TRUE                                 FALSE   \n",
       "1826 Box19         TRUE                                 FALSE   \n",
       "1827 Einstreu 6-10 TRUE                                 FALSE   \n",
       "1828 Rampe 6-10    TRUE                                 FALSE   \n",
       "1829 Einstreu 6-10 TRUE                                 FALSE   \n",
       "1830 Einstreu 6-10 TRUE                                 FALSE   \n",
       "1831 Einstreu 6-10 TRUE                                 FALSE   \n",
       "1832 Einstreu 6-10 TRUE                                 FALSE   \n",
       "1833 Einstreu 6-10 TRUE                                 FALSE   \n",
       "1834 Einstreu 6-10 TRUE                                 FALSE   \n",
       "1835 Box19         TRUE                                 FALSE   \n",
       "1836 Einstreu 6-10 TRUE                                 FALSE   \n",
       "1837 Einstreu 6-10 TRUE                                 FALSE   \n",
       "1838 Box13         TRUE                                 FALSE   \n",
       "1839 Box14         TRUE                                 FALSE   \n",
       "1840 Einstreu 6-10 TRUE                                 FALSE   \n",
       "1841 Einstreu 6-10 TRUE                                 FALSE   \n",
       "1842 Einstreu 6-10 TRUE                                 FALSE   \n",
       "1843 Einstreu 1-5  TRUE                                 FALSE   \n",
       "1844 Einstreu 1-5  TRUE                                 FALSE   \n",
       "1845 Einstreu 1-5  TRUE                                 FALSE   \n",
       "1846 Einstreu 1-5  TRUE                                 FALSE   \n",
       "1847 Einstreu 1-5  TRUE                                 FALSE   \n",
       "1848 Einstreu 1-5  TRUE                                 FALSE   \n",
       "1849 Rampe 1-5     TRUE                                 FALSE   \n",
       "1850 Einstreu 1-5  TRUE                                 FALSE   \n",
       "1851 Einstreu 1-5  TRUE                                 FALSE   \n",
       "1852 Einstreu 1-5  TRUE                                 FALSE   "
      ]
     },
     "metadata": {},
     "output_type": "display_data"
    }
   ],
   "source": [
    "df_test = filter(df, df$correction_is_consecutive_equal_zone==TRUE)\n",
    "print(paste0('There is ',dim(df_test)[1],' records that has same zone than the previous one without being a flickering situation, \\\n",
    "we wont remove these records from the clean_record file as it wont change anything for the time serie'))\n",
    "#should be: There is 1863 records that has same zone than the previous one without being a flickering situation, ....\n",
    "#TODO: why not the same as in python? check nan et 1999 date\n",
    "df_test"
   ]
  },
  {
   "cell_type": "code",
   "execution_count": 53,
   "metadata": {},
   "outputs": [],
   "source": [
    "#save\n",
    "write.csv(select(df_test, HenID, Timestamp, Zone_without_flickering, next_record_date, next_zone),\n",
    "          file.path(path_extracted_data, \"df_consecutives_equal_zone.csv\"))"
   ]
  },
  {
   "cell_type": "markdown",
   "metadata": {},
   "source": [
    "### Save"
   ]
  },
  {
   "cell_type": "code",
   "execution_count": 55,
   "metadata": {},
   "outputs": [],
   "source": [
    "write.csv(select(df, -next_record_date, -next_zone), file.path(path_extracted_data, \"df_clean_records.csv\"))"
   ]
  },
  {
   "cell_type": "code",
   "execution_count": 56,
   "metadata": {},
   "outputs": [
    {
     "name": "stdout",
     "output_type": "stream",
     "text": [
      "[1] \"TOTAL RUNNING TIME: 0.035206996642881 mn\"\n"
     ]
    }
   ],
   "source": [
    "END_ALL = Sys.time()\n",
    "print(paste0(\"TOTAL RUNNING TIME: \", (END_ALL-START_ALL)/60,\" mn\"))"
   ]
  },
  {
   "cell_type": "markdown",
   "metadata": {},
   "source": [
    "# Time series"
   ]
  },
  {
   "cell_type": "code",
   "execution_count": null,
   "metadata": {},
   "outputs": [],
   "source": []
  },
  {
   "cell_type": "code",
   "execution_count": null,
   "metadata": {},
   "outputs": [],
   "source": []
  },
  {
   "cell_type": "code",
   "execution_count": null,
   "metadata": {},
   "outputs": [],
   "source": []
  },
  {
   "cell_type": "code",
   "execution_count": null,
   "metadata": {},
   "outputs": [],
   "source": []
  },
  {
   "cell_type": "code",
   "execution_count": null,
   "metadata": {},
   "outputs": [],
   "source": []
  },
  {
   "cell_type": "code",
   "execution_count": null,
   "metadata": {},
   "outputs": [],
   "source": []
  },
  {
   "cell_type": "code",
   "execution_count": null,
   "metadata": {},
   "outputs": [],
   "source": []
  },
  {
   "cell_type": "code",
   "execution_count": null,
   "metadata": {},
   "outputs": [],
   "source": []
  },
  {
   "cell_type": "code",
   "execution_count": null,
   "metadata": {},
   "outputs": [],
   "source": []
  }
 ],
 "metadata": {
  "kernelspec": {
   "display_name": "R",
   "language": "R",
   "name": "ir"
  },
  "language_info": {
   "codemirror_mode": "r",
   "file_extension": ".r",
   "mimetype": "text/x-r-source",
   "name": "R",
   "pygments_lexer": "r",
   "version": "3.4.3"
  }
 },
 "nbformat": 4,
 "nbformat_minor": 2
}
