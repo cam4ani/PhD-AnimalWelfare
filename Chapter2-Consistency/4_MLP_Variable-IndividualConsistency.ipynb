{
 "cells": [
  {
   "cell_type": "code",
   "execution_count": 1,
   "metadata": {},
   "outputs": [],
   "source": [
    "#basic package\n",
    "import json\n",
    "import tqdm\n",
    "import os\n",
    "import numpy as np\n",
    "import glob\n",
    "import pandas as pd\n",
    "import sys\n",
    "import shutil\n",
    "import time\n",
    "import datetime as dt\n",
    "import itertools\n",
    "import re\n",
    "import math\n",
    "import random\n",
    "from sklearn.manifold import Isomap\n",
    "\n",
    "#0-1 normalisation\n",
    "from sklearn import preprocessing\n",
    "#modelling\n",
    "from sklearn.discriminant_analysis import LinearDiscriminantAnalysis\n",
    "from sklearn.preprocessing import StandardScaler\n",
    "\n",
    "#PCA\n",
    "import plotly.express as px\n",
    "from sklearn.decomposition import PCA\n",
    "\n",
    "#plot\n",
    "import cv2\n",
    "import matplotlib.pyplot as plt\n",
    "from matplotlib import offsetbox\n",
    "from matplotlib.backends.backend_agg import FigureCanvasAgg as FigureCanvas\n",
    "from matplotlib.figure import Figure\n",
    "import seaborn as sns"
   ]
  },
  {
   "cell_type": "code",
   "execution_count": 2,
   "metadata": {},
   "outputs": [
    {
     "name": "stderr",
     "output_type": "stream",
     "text": [
      "C:\\Users\\camil\\anaconda3\\lib\\site-packages\\scipy\\sparse\\sparsetools.py:21: DeprecationWarning: `scipy.sparse.sparsetools` is deprecated!\n",
      "scipy.sparse.sparsetools is a private module for scipy.sparse, and should not be used.\n",
      "  _deprecated()\n"
     ]
    }
   ],
   "source": [
    "PACKAGE_PARENT = '../'\n",
    "SCRIPT_DIR = os.path.dirname(os.path.realpath(os.path.join(os.getcwd(), os.path.expanduser('__file__'))))\n",
    "sys.path.append(os.path.normpath(os.path.join(SCRIPT_DIR, PACKAGE_PARENT)))\n",
    "from UTILS import cleaning_processing, HenDailyVariable_Origins, plot_scikit_lda, explained_var, sampen, kmeans_clustering,\\\n",
    "time_series_henColumn_tsRow\n",
    "import config_origins as config"
   ]
  },
  {
   "cell_type": "code",
   "execution_count": 3,
   "metadata": {},
   "outputs": [
    {
     "name": "stderr",
     "output_type": "stream",
     "text": [
      "C:\\Users\\camil\\anaconda3\\lib\\site-packages\\ipykernel\\ipkernel.py:283: DeprecationWarning: `should_run_async` will not call `transform_cell` automatically in the future. Please pass the result to `transformed_cell` argument and any exception that happen during thetransform in `preprocessing_exc_tuple` in IPython 7.17 and above.\n",
      "  and should_run_async(code)\n"
     ]
    }
   ],
   "source": [
    "#initialise parameters\n",
    "path_extracted_data = config.path_extracted_data\n",
    "path_initial_data = config.path_initial_data\n",
    "id_run = config.id_run\n",
    "pal_ = config.pal_\n",
    "dico_matching = config.dico_matching\n",
    "dico_zone_order = config.dico_zone_order\n",
    "dico_night_hour = config.dico_night_hour\n",
    "dico_garden_opening_hour = config.dico_garden_opening_hour\n",
    "path_extracted_data_visual_cons = os.path.join(path_extracted_data,'visual','IndividualConsistency')\n",
    "#create a director if not existing\n",
    "if not os.path.exists(path_extracted_data_visual_cons):\n",
    "    os.makedirs(path_extracted_data_visual_cons)\n",
    "\n",
    "path_extracted_data_visual_treatmentclass = os.path.join(path_extracted_data,'visual','Treatment&Classs')\n",
    "#create a director if not existing\n",
    "if not os.path.exists(path_extracted_data_visual_treatmentclass):\n",
    "    os.makedirs(path_extracted_data_visual_treatmentclass)"
   ]
  },
  {
   "cell_type": "markdown",
   "metadata": {},
   "source": [
    "# Download data"
   ]
  },
  {
   "cell_type": "code",
   "execution_count": 6,
   "metadata": {},
   "outputs": [
    {
     "name": "stdout",
     "output_type": "stream",
     "text": [
      "(27214, 198)\n"
     ]
    },
    {
     "name": "stderr",
     "output_type": "stream",
     "text": [
      "C:\\Users\\camil\\anaconda3\\lib\\site-packages\\ipykernel\\ipkernel.py:283: DeprecationWarning: `should_run_async` will not call `transform_cell` automatically in the future. Please pass the result to `transformed_cell` argument and any exception that happen during thetransform in `preprocessing_exc_tuple` in IPython 7.17 and above.\n",
      "  and should_run_async(code)\n"
     ]
    },
    {
     "data": {
      "text/html": [
       "<div>\n",
       "<style scoped>\n",
       "    .dataframe tbody tr th:only-of-type {\n",
       "        vertical-align: middle;\n",
       "    }\n",
       "\n",
       "    .dataframe tbody tr th {\n",
       "        vertical-align: top;\n",
       "    }\n",
       "\n",
       "    .dataframe thead th {\n",
       "        text-align: right;\n",
       "    }\n",
       "</style>\n",
       "<table border=\"1\" class=\"dataframe\">\n",
       "  <thead>\n",
       "    <tr style=\"text-align: right;\">\n",
       "      <th></th>\n",
       "      <th>HenID</th>\n",
       "      <th>level</th>\n",
       "      <th>duration_1_Zone</th>\n",
       "      <th>duration_2_Zone</th>\n",
       "      <th>duration_3_Zone</th>\n",
       "      <th>duration_4_Zone</th>\n",
       "      <th>duration_5_Zone</th>\n",
       "      <th>verification_daily_total_duration</th>\n",
       "      <th>dur_values</th>\n",
       "      <th>dur_values_normalized</th>\n",
       "      <th>...</th>\n",
       "      <th>clustering_WG</th>\n",
       "      <th>PC0</th>\n",
       "      <th>PC1</th>\n",
       "      <th>PC2</th>\n",
       "      <th>PC3</th>\n",
       "      <th>PC4</th>\n",
       "      <th>PC5</th>\n",
       "      <th>PC6</th>\n",
       "      <th>PC7</th>\n",
       "      <th>clustering_ALL</th>\n",
       "    </tr>\n",
       "  </thead>\n",
       "  <tbody>\n",
       "    <tr>\n",
       "      <th>0</th>\n",
       "      <td>hen_1</td>\n",
       "      <td>2020-09-30</td>\n",
       "      <td>0.0</td>\n",
       "      <td>18886.0</td>\n",
       "      <td>3488.0</td>\n",
       "      <td>518.0</td>\n",
       "      <td>5908.0</td>\n",
       "      <td>28800.0</td>\n",
       "      <td>[0.0, 18886.0, 3488.0, 518.0, 5908.0]</td>\n",
       "      <td>[0.0, 0.6557638888888889, 0.12111111111111111,...</td>\n",
       "      <td>...</td>\n",
       "      <td>0.0</td>\n",
       "      <td>NaN</td>\n",
       "      <td>NaN</td>\n",
       "      <td>NaN</td>\n",
       "      <td>NaN</td>\n",
       "      <td>NaN</td>\n",
       "      <td>NaN</td>\n",
       "      <td>NaN</td>\n",
       "      <td>NaN</td>\n",
       "      <td>NaN</td>\n",
       "    </tr>\n",
       "    <tr>\n",
       "      <th>1</th>\n",
       "      <td>hen_1</td>\n",
       "      <td>2020-10-01</td>\n",
       "      <td>0.0</td>\n",
       "      <td>9310.0</td>\n",
       "      <td>5636.0</td>\n",
       "      <td>0.0</td>\n",
       "      <td>17454.0</td>\n",
       "      <td>32400.0</td>\n",
       "      <td>[0.0, 9310.0, 5636.0, 0.0, 17454.0]</td>\n",
       "      <td>[0.0, 0.2873456790123457, 0.17395061728395061,...</td>\n",
       "      <td>...</td>\n",
       "      <td>0.0</td>\n",
       "      <td>NaN</td>\n",
       "      <td>NaN</td>\n",
       "      <td>NaN</td>\n",
       "      <td>NaN</td>\n",
       "      <td>NaN</td>\n",
       "      <td>NaN</td>\n",
       "      <td>NaN</td>\n",
       "      <td>NaN</td>\n",
       "      <td>NaN</td>\n",
       "    </tr>\n",
       "    <tr>\n",
       "      <th>2</th>\n",
       "      <td>hen_1</td>\n",
       "      <td>2020-10-02</td>\n",
       "      <td>0.0</td>\n",
       "      <td>0.0</td>\n",
       "      <td>551.0</td>\n",
       "      <td>0.0</td>\n",
       "      <td>31849.0</td>\n",
       "      <td>32400.0</td>\n",
       "      <td>[0.0, 0.0, 551.0, 0.0, 31849.0]</td>\n",
       "      <td>[0.0, 0.0, 0.017006172839506173, 0.0, 0.982993...</td>\n",
       "      <td>...</td>\n",
       "      <td>0.0</td>\n",
       "      <td>NaN</td>\n",
       "      <td>NaN</td>\n",
       "      <td>NaN</td>\n",
       "      <td>NaN</td>\n",
       "      <td>NaN</td>\n",
       "      <td>NaN</td>\n",
       "      <td>NaN</td>\n",
       "      <td>NaN</td>\n",
       "      <td>NaN</td>\n",
       "    </tr>\n",
       "  </tbody>\n",
       "</table>\n",
       "<p>3 rows × 198 columns</p>\n",
       "</div>"
      ],
      "text/plain": [
       "   HenID      level  duration_1_Zone  duration_2_Zone  duration_3_Zone  \\\n",
       "0  hen_1 2020-09-30              0.0          18886.0           3488.0   \n",
       "1  hen_1 2020-10-01              0.0           9310.0           5636.0   \n",
       "2  hen_1 2020-10-02              0.0              0.0            551.0   \n",
       "\n",
       "   duration_4_Zone  duration_5_Zone  verification_daily_total_duration  \\\n",
       "0            518.0           5908.0                            28800.0   \n",
       "1              0.0          17454.0                            32400.0   \n",
       "2              0.0          31849.0                            32400.0   \n",
       "\n",
       "                              dur_values  \\\n",
       "0  [0.0, 18886.0, 3488.0, 518.0, 5908.0]   \n",
       "1    [0.0, 9310.0, 5636.0, 0.0, 17454.0]   \n",
       "2        [0.0, 0.0, 551.0, 0.0, 31849.0]   \n",
       "\n",
       "                               dur_values_normalized  ... clustering_WG PC0  \\\n",
       "0  [0.0, 0.6557638888888889, 0.12111111111111111,...  ...           0.0 NaN   \n",
       "1  [0.0, 0.2873456790123457, 0.17395061728395061,...  ...           0.0 NaN   \n",
       "2  [0.0, 0.0, 0.017006172839506173, 0.0, 0.982993...  ...           0.0 NaN   \n",
       "\n",
       "  PC1 PC2 PC3  PC4 PC5 PC6 PC7 clustering_ALL  \n",
       "0 NaN NaN NaN  NaN NaN NaN NaN            NaN  \n",
       "1 NaN NaN NaN  NaN NaN NaN NaN            NaN  \n",
       "2 NaN NaN NaN  NaN NaN NaN NaN            NaN  \n",
       "\n",
       "[3 rows x 198 columns]"
      ]
     },
     "execution_count": 6,
     "metadata": {},
     "output_type": "execute_result"
    }
   ],
   "source": [
    "#for being more reproductible, we open the file that was saved from cleaning\n",
    "df_daily = pd.read_csv(os.path.join(path_extracted_data, 'daily_ALL_Variable_Tranformed.csv'), sep=';',\n",
    "                     parse_dates=['level'], dayfirst=True) \n",
    "df_daily['in_WG_15mnAfterOpening'] = df_daily['in_WG_15mnAfterOpening'].map(lambda x: float(x))\n",
    "df_daily['Consistent_Night_Zone5Days'] = df_daily['Consistent_Night_Zone5Days'].map(lambda x: float(x))\n",
    "print(df_daily.shape)\n",
    "df_daily.head(3)"
   ]
  },
  {
   "cell_type": "code",
   "execution_count": 63,
   "metadata": {},
   "outputs": [
    {
     "name": "stdout",
     "output_type": "stream",
     "text": [
      "(211, 11)\n"
     ]
    },
    {
     "name": "stderr",
     "output_type": "stream",
     "text": [
      "C:\\Users\\camil\\anaconda3\\lib\\site-packages\\ipykernel\\ipkernel.py:283: DeprecationWarning: `should_run_async` will not call `transform_cell` automatically in the future. Please pass the result to `transformed_cell` argument and any exception that happen during thetransform in `preprocessing_exc_tuple` in IPython 7.17 and above.\n",
      "  and should_run_async(code)\n"
     ]
    },
    {
     "data": {
      "text/html": [
       "<div>\n",
       "<style scoped>\n",
       "    .dataframe tbody tr th:only-of-type {\n",
       "        vertical-align: middle;\n",
       "    }\n",
       "\n",
       "    .dataframe tbody tr th {\n",
       "        vertical-align: top;\n",
       "    }\n",
       "\n",
       "    .dataframe thead th {\n",
       "        text-align: right;\n",
       "    }\n",
       "</style>\n",
       "<table border=\"1\" class=\"dataframe\">\n",
       "  <thead>\n",
       "    <tr style=\"text-align: right;\">\n",
       "      <th></th>\n",
       "      <th>HenID</th>\n",
       "      <th>PenID</th>\n",
       "      <th>CLASS</th>\n",
       "      <th>R-Pen</th>\n",
       "      <th>InitialStartDate</th>\n",
       "      <th>29-09 weight</th>\n",
       "      <th>10-12 juin weight</th>\n",
       "      <th>weight 23-11-2020</th>\n",
       "      <th>weight 04-01-2021</th>\n",
       "      <th>weight 01-02-21</th>\n",
       "      <th>Treatment</th>\n",
       "    </tr>\n",
       "  </thead>\n",
       "  <tbody>\n",
       "    <tr>\n",
       "      <th>0</th>\n",
       "      <td>hen_1</td>\n",
       "      <td>9</td>\n",
       "      <td>EPI</td>\n",
       "      <td>1.0</td>\n",
       "      <td>10.06.2020</td>\n",
       "      <td>1134.0</td>\n",
       "      <td>57.0</td>\n",
       "      <td>1696.5</td>\n",
       "      <td>1787.8</td>\n",
       "      <td>1800.9</td>\n",
       "      <td>OFH</td>\n",
       "    </tr>\n",
       "    <tr>\n",
       "      <th>1</th>\n",
       "      <td>hen_10</td>\n",
       "      <td>11</td>\n",
       "      <td>LEXP</td>\n",
       "      <td>1.0</td>\n",
       "      <td>10.06.2020</td>\n",
       "      <td>1070.0</td>\n",
       "      <td>70.4</td>\n",
       "      <td>1488.3</td>\n",
       "      <td>1628.4</td>\n",
       "      <td>1602.1</td>\n",
       "      <td>OFH</td>\n",
       "    </tr>\n",
       "    <tr>\n",
       "      <th>2</th>\n",
       "      <td>hen_100</td>\n",
       "      <td>5</td>\n",
       "      <td>EPI</td>\n",
       "      <td>3.0</td>\n",
       "      <td>10.06.2020</td>\n",
       "      <td>1182.0</td>\n",
       "      <td>80.5</td>\n",
       "      <td>1642.5</td>\n",
       "      <td>NaN</td>\n",
       "      <td>NaN</td>\n",
       "      <td>OFH</td>\n",
       "    </tr>\n",
       "  </tbody>\n",
       "</table>\n",
       "</div>"
      ],
      "text/plain": [
       "     HenID  PenID CLASS  R-Pen InitialStartDate  29-09 weight  \\\n",
       "0    hen_1      9   EPI    1.0       10.06.2020        1134.0   \n",
       "1   hen_10     11  LEXP    1.0       10.06.2020        1070.0   \n",
       "2  hen_100      5   EPI    3.0       10.06.2020        1182.0   \n",
       "\n",
       "   10-12 juin weight  weight 23-11-2020  weight 04-01-2021  weight 01-02-21  \\\n",
       "0               57.0             1696.5             1787.8           1800.9   \n",
       "1               70.4             1488.3             1628.4           1602.1   \n",
       "2               80.5             1642.5                NaN              NaN   \n",
       "\n",
       "  Treatment  \n",
       "0       OFH  \n",
       "1       OFH  \n",
       "2       OFH  "
      ]
     },
     "execution_count": 63,
     "metadata": {},
     "output_type": "execute_result"
    }
   ],
   "source": [
    "df_FB = pd.read_csv(os.path.join(path_extracted_data, id_run+'df_FOCALBIRDS.csv'), sep=';') \n",
    "print(df_FB.shape)\n",
    "df_FB.head(3)"
   ]
  },
  {
   "cell_type": "raw",
   "metadata": {},
   "source": [
    "TODO: THINK: Perhaps one should normalize with the each observations in a way to include all animals except outliers?\n",
    "CHECK TRUE DOA"
   ]
  },
  {
   "cell_type": "code",
   "execution_count": 26,
   "metadata": {},
   "outputs": [
    {
     "name": "stdout",
     "output_type": "stream",
     "text": [
      "(22867, 183)\n",
      "(18138, 183)\n"
     ]
    },
    {
     "name": "stderr",
     "output_type": "stream",
     "text": [
      "C:\\Users\\camil\\anaconda3\\lib\\site-packages\\ipykernel\\ipkernel.py:283: DeprecationWarning: `should_run_async` will not call `transform_cell` automatically in the future. Please pass the result to `transformed_cell` argument and any exception that happen during thetransform in `preprocessing_exc_tuple` in IPython 7.17 and above.\n",
      "  and should_run_async(code)\n"
     ]
    }
   ],
   "source": [
    "print(df_daily.shape)\n",
    "df_daily = df_daily[df_daily['DOA']>=150]\n",
    "print(df_daily.shape)"
   ]
  },
  {
   "cell_type": "code",
   "execution_count": 54,
   "metadata": {},
   "outputs": [
    {
     "name": "stderr",
     "output_type": "stream",
     "text": [
      "C:\\Users\\camil\\anaconda3\\lib\\site-packages\\ipykernel\\ipkernel.py:283: DeprecationWarning: `should_run_async` will not call `transform_cell` automatically in the future. Please pass the result to `transformed_cell` argument and any exception that happen during thetransform in `preprocessing_exc_tuple` in IPython 7.17 and above.\n",
      "  and should_run_async(code)\n"
     ]
    }
   ],
   "source": [
    "li_var = ['duration_5_Zone','nbr_stays_1_Zone','nbr_stays_4_Zone',\n",
    "          'sucessIntrusion_9','in_WG_15mnAfterOpening','Max_duration_WG','night_Total_number_transition',\n",
    "          'vertical_travel_distance']"
   ]
  },
  {
   "cell_type": "code",
   "execution_count": 55,
   "metadata": {},
   "outputs": [
    {
     "name": "stdout",
     "output_type": "stream",
     "text": [
      "(18138, 10)\n",
      "(14084, 10)\n"
     ]
    },
    {
     "name": "stderr",
     "output_type": "stream",
     "text": [
      "C:\\Users\\camil\\anaconda3\\lib\\site-packages\\ipykernel\\ipkernel.py:283: DeprecationWarning: `should_run_async` will not call `transform_cell` automatically in the future. Please pass the result to `transformed_cell` argument and any exception that happen during thetransform in `preprocessing_exc_tuple` in IPython 7.17 and above.\n",
      "  and should_run_async(code)\n"
     ]
    }
   ],
   "source": [
    "#keep hens that have more than \"min_nbr_days\" days\n",
    "df = df_daily[li_var+['HenID','level']].copy()\n",
    "print(df.shape)\n",
    "df = df[~df.isnull().any(axis=1)]\n",
    "print(df.shape)"
   ]
  },
  {
   "cell_type": "code",
   "execution_count": 56,
   "metadata": {},
   "outputs": [
    {
     "name": "stderr",
     "output_type": "stream",
     "text": [
      "C:\\Users\\camil\\anaconda3\\lib\\site-packages\\ipykernel\\ipkernel.py:283: DeprecationWarning: `should_run_async` will not call `transform_cell` automatically in the future. Please pass the result to `transformed_cell` argument and any exception that happen during thetransform in `preprocessing_exc_tuple` in IPython 7.17 and above.\n",
      "  and should_run_async(code)\n"
     ]
    },
    {
     "data": {
      "text/html": [
       "<div>\n",
       "<style scoped>\n",
       "    .dataframe tbody tr th:only-of-type {\n",
       "        vertical-align: middle;\n",
       "    }\n",
       "\n",
       "    .dataframe tbody tr th {\n",
       "        vertical-align: top;\n",
       "    }\n",
       "\n",
       "    .dataframe thead th {\n",
       "        text-align: right;\n",
       "    }\n",
       "</style>\n",
       "<table border=\"1\" class=\"dataframe\">\n",
       "  <thead>\n",
       "    <tr style=\"text-align: right;\">\n",
       "      <th></th>\n",
       "      <th>HenID</th>\n",
       "      <th>duration_5_Zone</th>\n",
       "      <th>has_more_80days</th>\n",
       "    </tr>\n",
       "  </thead>\n",
       "  <tbody>\n",
       "    <tr>\n",
       "      <th>0</th>\n",
       "      <td>hen_1</td>\n",
       "      <td>83</td>\n",
       "      <td>True</td>\n",
       "    </tr>\n",
       "    <tr>\n",
       "      <th>1</th>\n",
       "      <td>hen_10</td>\n",
       "      <td>90</td>\n",
       "      <td>True</td>\n",
       "    </tr>\n",
       "    <tr>\n",
       "      <th>2</th>\n",
       "      <td>hen_100</td>\n",
       "      <td>17</td>\n",
       "      <td>False</td>\n",
       "    </tr>\n",
       "  </tbody>\n",
       "</table>\n",
       "</div>"
      ],
      "text/plain": [
       "     HenID  duration_5_Zone  has_more_80days\n",
       "0    hen_1               83             True\n",
       "1   hen_10               90             True\n",
       "2  hen_100               17            False"
      ]
     },
     "metadata": {},
     "output_type": "display_data"
    },
    {
     "name": "stdout",
     "output_type": "stream",
     "text": [
      "(12145, 10) 136\n",
      "(12145, 10)\n"
     ]
    },
    {
     "data": {
      "text/html": [
       "<div>\n",
       "<style scoped>\n",
       "    .dataframe tbody tr th:only-of-type {\n",
       "        vertical-align: middle;\n",
       "    }\n",
       "\n",
       "    .dataframe tbody tr th {\n",
       "        vertical-align: top;\n",
       "    }\n",
       "\n",
       "    .dataframe thead th {\n",
       "        text-align: right;\n",
       "    }\n",
       "</style>\n",
       "<table border=\"1\" class=\"dataframe\">\n",
       "  <thead>\n",
       "    <tr style=\"text-align: right;\">\n",
       "      <th></th>\n",
       "      <th>duration_5_Zone</th>\n",
       "      <th>nbr_stays_1_Zone</th>\n",
       "      <th>nbr_stays_4_Zone</th>\n",
       "      <th>sucessIntrusion_9</th>\n",
       "      <th>in_WG_15mnAfterOpening</th>\n",
       "      <th>Max_duration_WG</th>\n",
       "      <th>night_Total_number_transition</th>\n",
       "      <th>vertical_travel_distance</th>\n",
       "      <th>HenID</th>\n",
       "      <th>level</th>\n",
       "    </tr>\n",
       "  </thead>\n",
       "  <tbody>\n",
       "    <tr>\n",
       "      <th>32</th>\n",
       "      <td>3539.0</td>\n",
       "      <td>11.0</td>\n",
       "      <td>12.0</td>\n",
       "      <td>0.125000</td>\n",
       "      <td>0.0</td>\n",
       "      <td>1086.0</td>\n",
       "      <td>0.0</td>\n",
       "      <td>53.0</td>\n",
       "      <td>hen_131</td>\n",
       "      <td>2020-10-31</td>\n",
       "    </tr>\n",
       "    <tr>\n",
       "      <th>33</th>\n",
       "      <td>1903.0</td>\n",
       "      <td>8.0</td>\n",
       "      <td>12.0</td>\n",
       "      <td>0.142857</td>\n",
       "      <td>1.0</td>\n",
       "      <td>785.0</td>\n",
       "      <td>0.0</td>\n",
       "      <td>68.0</td>\n",
       "      <td>hen_131</td>\n",
       "      <td>2020-11-01</td>\n",
       "    </tr>\n",
       "    <tr>\n",
       "      <th>34</th>\n",
       "      <td>2673.0</td>\n",
       "      <td>5.0</td>\n",
       "      <td>8.0</td>\n",
       "      <td>0.250000</td>\n",
       "      <td>0.0</td>\n",
       "      <td>521.0</td>\n",
       "      <td>0.0</td>\n",
       "      <td>64.0</td>\n",
       "      <td>hen_131</td>\n",
       "      <td>2020-11-02</td>\n",
       "    </tr>\n",
       "  </tbody>\n",
       "</table>\n",
       "</div>"
      ],
      "text/plain": [
       "    duration_5_Zone  nbr_stays_1_Zone  nbr_stays_4_Zone  sucessIntrusion_9  \\\n",
       "32           3539.0              11.0              12.0           0.125000   \n",
       "33           1903.0               8.0              12.0           0.142857   \n",
       "34           2673.0               5.0               8.0           0.250000   \n",
       "\n",
       "    in_WG_15mnAfterOpening  Max_duration_WG  night_Total_number_transition  \\\n",
       "32                     0.0           1086.0                            0.0   \n",
       "33                     1.0            785.0                            0.0   \n",
       "34                     0.0            521.0                            0.0   \n",
       "\n",
       "    vertical_travel_distance    HenID      level  \n",
       "32                      53.0  hen_131 2020-10-31  \n",
       "33                      68.0  hen_131 2020-11-01  \n",
       "34                      64.0  hen_131 2020-11-02  "
      ]
     },
     "execution_count": 56,
     "metadata": {},
     "output_type": "execute_result"
    }
   ],
   "source": [
    "#select hens\n",
    "min_nbr_days = 80\n",
    "df_ = df.groupby(['HenID'])['duration_5_Zone'].count().reset_index()\n",
    "df_['has_more_'+str(min_nbr_days)+'days'] = df_['duration_5_Zone'].map(lambda x: x>min_nbr_days)\n",
    "display(df_.head(3))\n",
    "li_hen2keep = df_[df_['has_more_'+str(min_nbr_days)+'days']]['HenID'].unique()\n",
    "print(df[df['HenID'].isin(li_hen2keep)].shape, len(li_hen2keep))\n",
    "df = df[df['HenID'].isin(li_hen2keep)].copy()\n",
    "print(df.shape)\n",
    "df.head(3)"
   ]
  },
  {
   "cell_type": "code",
   "execution_count": 57,
   "metadata": {},
   "outputs": [
    {
     "name": "stderr",
     "output_type": "stream",
     "text": [
      "C:\\Users\\camil\\anaconda3\\lib\\site-packages\\ipykernel\\ipkernel.py:283: DeprecationWarning: `should_run_async` will not call `transform_cell` automatically in the future. Please pass the result to `transformed_cell` argument and any exception that happen during thetransform in `preprocessing_exc_tuple` in IPython 7.17 and above.\n",
      "  and should_run_async(code)\n",
      "C:\\Users\\camil\\Desktop\\animals_code\\PhD\\UTILS.py:2885: RuntimeWarning: divide by zero encountered in log\n",
      "  return -np.log(A/B)\n"
     ]
    },
    {
     "name": "stdout",
     "output_type": "stream",
     "text": [
      "(136, 9)\n"
     ]
    },
    {
     "data": {
      "text/html": [
       "<div>\n",
       "<style scoped>\n",
       "    .dataframe tbody tr th:only-of-type {\n",
       "        vertical-align: middle;\n",
       "    }\n",
       "\n",
       "    .dataframe tbody tr th {\n",
       "        vertical-align: top;\n",
       "    }\n",
       "\n",
       "    .dataframe thead th {\n",
       "        text-align: right;\n",
       "    }\n",
       "</style>\n",
       "<table border=\"1\" class=\"dataframe\">\n",
       "  <thead>\n",
       "    <tr style=\"text-align: right;\">\n",
       "      <th></th>\n",
       "      <th>HenID</th>\n",
       "      <th>duration_5_Zone</th>\n",
       "      <th>nbr_stays_1_Zone</th>\n",
       "      <th>nbr_stays_4_Zone</th>\n",
       "      <th>sucessIntrusion_9</th>\n",
       "      <th>in_WG_15mnAfterOpening</th>\n",
       "      <th>Max_duration_WG</th>\n",
       "      <th>night_Total_number_transition</th>\n",
       "      <th>vertical_travel_distance</th>\n",
       "    </tr>\n",
       "  </thead>\n",
       "  <tbody>\n",
       "    <tr>\n",
       "      <th>0</th>\n",
       "      <td>hen_1</td>\n",
       "      <td>0.988217</td>\n",
       "      <td>1.812379</td>\n",
       "      <td>1.909543</td>\n",
       "      <td>0.747470</td>\n",
       "      <td>0.700948</td>\n",
       "      <td>1.782457</td>\n",
       "      <td>0.095168</td>\n",
       "      <td>2.374906</td>\n",
       "    </tr>\n",
       "    <tr>\n",
       "      <th>1</th>\n",
       "      <td>hen_10</td>\n",
       "      <td>0.702252</td>\n",
       "      <td>0.879813</td>\n",
       "      <td>1.914161</td>\n",
       "      <td>1.297945</td>\n",
       "      <td>0.060129</td>\n",
       "      <td>1.110447</td>\n",
       "      <td>1.183770</td>\n",
       "      <td>1.632695</td>\n",
       "    </tr>\n",
       "  </tbody>\n",
       "</table>\n",
       "</div>"
      ],
      "text/plain": [
       "    HenID  duration_5_Zone  nbr_stays_1_Zone  nbr_stays_4_Zone  \\\n",
       "0   hen_1         0.988217          1.812379          1.909543   \n",
       "1  hen_10         0.702252          0.879813          1.914161   \n",
       "\n",
       "   sucessIntrusion_9  in_WG_15mnAfterOpening  Max_duration_WG  \\\n",
       "0           0.747470                0.700948         1.782457   \n",
       "1           1.297945                0.060129         1.110447   \n",
       "\n",
       "   night_Total_number_transition  vertical_travel_distance  \n",
       "0                       0.095168                  2.374906  \n",
       "1                       1.183770                  1.632695  "
      ]
     },
     "execution_count": 57,
     "metadata": {},
     "output_type": "execute_result"
    }
   ],
   "source": [
    "#compute sample entropy for each va, for each hen\n",
    "#TODO care about consecutives days\n",
    "df_hen = df.sort_values(['level']).groupby(['HenID'])[li_var].agg(lambda x: sampen(x)).reset_index()\n",
    "print(df_hen.shape)\n",
    "df_hen.head(2)"
   ]
  },
  {
   "cell_type": "code",
   "execution_count": 58,
   "metadata": {},
   "outputs": [
    {
     "name": "stdout",
     "output_type": "stream",
     "text": [
      "(136, 9)\n",
      "(131, 9)\n"
     ]
    },
    {
     "name": "stderr",
     "output_type": "stream",
     "text": [
      "C:\\Users\\camil\\anaconda3\\lib\\site-packages\\ipykernel\\ipkernel.py:283: DeprecationWarning: `should_run_async` will not call `transform_cell` automatically in the future. Please pass the result to `transformed_cell` argument and any exception that happen during thetransform in `preprocessing_exc_tuple` in IPython 7.17 and above.\n",
      "  and should_run_async(code)\n"
     ]
    }
   ],
   "source": [
    "df_hen = df_hen.replace(np.inf, np.nan)\n",
    "print(df_hen.shape)\n",
    "df_hen = df_hen[~df_hen.isnull().any(axis=1)]\n",
    "print(df_hen.shape)"
   ]
  },
  {
   "cell_type": "code",
   "execution_count": 59,
   "metadata": {},
   "outputs": [
    {
     "name": "stdout",
     "output_type": "stream",
     "text": [
      "For n_clusters = 2 The average silhouette_score is : 0.2937055945856042\n",
      "For n_clusters = 3 The average silhouette_score is : 0.2262701811064756\n",
      "For n_clusters = 4 The average silhouette_score is : 0.1754767937956275\n",
      "For n_clusters = 5 The average silhouette_score is : 0.17025342944555918\n"
     ]
    },
    {
     "name": "stderr",
     "output_type": "stream",
     "text": [
      "C:\\Users\\camil\\anaconda3\\lib\\site-packages\\ipykernel\\ipkernel.py:283: DeprecationWarning: `should_run_async` will not call `transform_cell` automatically in the future. Please pass the result to `transformed_cell` argument and any exception that happen during thetransform in `preprocessing_exc_tuple` in IPython 7.17 and above.\n",
      "  and should_run_async(code)\n"
     ]
    },
    {
     "name": "stdout",
     "output_type": "stream",
     "text": [
      "For n_clusters = 6 The average silhouette_score is : 0.1567193433615688\n",
      "For n_clusters = 7 The average silhouette_score is : 0.15273014319187203\n",
      "For n_clusters = 8 The average silhouette_score is : 0.16012393043217804\n",
      "For n_clusters = 9 The average silhouette_score is : 0.16393933377479636\n",
      "Please let me know the numbers of clusters you want to search for 3\n",
      "(131, 8)\n",
      "(131, 10)\n"
     ]
    },
    {
     "data": {
      "text/html": [
       "<div>\n",
       "<style scoped>\n",
       "    .dataframe tbody tr th:only-of-type {\n",
       "        vertical-align: middle;\n",
       "    }\n",
       "\n",
       "    .dataframe tbody tr th {\n",
       "        vertical-align: top;\n",
       "    }\n",
       "\n",
       "    .dataframe thead th {\n",
       "        text-align: right;\n",
       "    }\n",
       "</style>\n",
       "<table border=\"1\" class=\"dataframe\">\n",
       "  <thead>\n",
       "    <tr style=\"text-align: right;\">\n",
       "      <th></th>\n",
       "      <th>HenID</th>\n",
       "      <th>duration_5_Zone</th>\n",
       "      <th>nbr_stays_1_Zone</th>\n",
       "      <th>nbr_stays_4_Zone</th>\n",
       "      <th>sucessIntrusion_9</th>\n",
       "      <th>in_WG_15mnAfterOpening</th>\n",
       "      <th>Max_duration_WG</th>\n",
       "      <th>night_Total_number_transition</th>\n",
       "      <th>vertical_travel_distance</th>\n",
       "      <th>clustering_consistency</th>\n",
       "    </tr>\n",
       "  </thead>\n",
       "  <tbody>\n",
       "    <tr>\n",
       "      <th>0</th>\n",
       "      <td>hen_1</td>\n",
       "      <td>0.988217</td>\n",
       "      <td>1.812379</td>\n",
       "      <td>1.909543</td>\n",
       "      <td>0.747470</td>\n",
       "      <td>0.700948</td>\n",
       "      <td>1.782457</td>\n",
       "      <td>0.095168</td>\n",
       "      <td>2.374906</td>\n",
       "      <td>1</td>\n",
       "    </tr>\n",
       "    <tr>\n",
       "      <th>1</th>\n",
       "      <td>hen_10</td>\n",
       "      <td>0.702252</td>\n",
       "      <td>0.879813</td>\n",
       "      <td>1.914161</td>\n",
       "      <td>1.297945</td>\n",
       "      <td>0.060129</td>\n",
       "      <td>1.110447</td>\n",
       "      <td>1.183770</td>\n",
       "      <td>1.632695</td>\n",
       "      <td>0</td>\n",
       "    </tr>\n",
       "    <tr>\n",
       "      <th>2</th>\n",
       "      <td>hen_101</td>\n",
       "      <td>0.538997</td>\n",
       "      <td>1.148284</td>\n",
       "      <td>0.951832</td>\n",
       "      <td>2.045208</td>\n",
       "      <td>0.370819</td>\n",
       "      <td>0.825907</td>\n",
       "      <td>0.445547</td>\n",
       "      <td>1.446919</td>\n",
       "      <td>0</td>\n",
       "    </tr>\n",
       "  </tbody>\n",
       "</table>\n",
       "</div>"
      ],
      "text/plain": [
       "     HenID  duration_5_Zone  nbr_stays_1_Zone  nbr_stays_4_Zone  \\\n",
       "0    hen_1         0.988217          1.812379          1.909543   \n",
       "1   hen_10         0.702252          0.879813          1.914161   \n",
       "2  hen_101         0.538997          1.148284          0.951832   \n",
       "\n",
       "   sucessIntrusion_9  in_WG_15mnAfterOpening  Max_duration_WG  \\\n",
       "0           0.747470                0.700948         1.782457   \n",
       "1           1.297945                0.060129         1.110447   \n",
       "2           2.045208                0.370819         0.825907   \n",
       "\n",
       "   night_Total_number_transition  vertical_travel_distance  \\\n",
       "0                       0.095168                  2.374906   \n",
       "1                       1.183770                  1.632695   \n",
       "2                       0.445547                  1.446919   \n",
       "\n",
       "   clustering_consistency  \n",
       "0                       1  \n",
       "1                       0  \n",
       "2                       0  "
      ]
     },
     "execution_count": 59,
     "metadata": {},
     "output_type": "execute_result"
    }
   ],
   "source": [
    "#clustering\n",
    "li_2keep = ['HenID']\n",
    "li_ = range(2,10)\n",
    "r, center_ = kmeans_clustering(df=df_hen, range_n_clusters=li_, drop_col_list=li_2keep)\n",
    "if len(r)!=df_hen.shape[0]:\n",
    "    print('ERROR')\n",
    "    sys.exit()\n",
    "df_hen['clustering_consistency'] = r\n",
    "print(df_hen.shape)\n",
    "df_hen.head(3)"
   ]
  },
  {
   "cell_type": "code",
   "execution_count": 60,
   "metadata": {},
   "outputs": [
    {
     "name": "stdout",
     "output_type": "stream",
     "text": [
      "(8, 3)\n"
     ]
    },
    {
     "name": "stderr",
     "output_type": "stream",
     "text": [
      "C:\\Users\\camil\\anaconda3\\lib\\site-packages\\ipykernel\\ipkernel.py:283: DeprecationWarning: `should_run_async` will not call `transform_cell` automatically in the future. Please pass the result to `transformed_cell` argument and any exception that happen during thetransform in `preprocessing_exc_tuple` in IPython 7.17 and above.\n",
      "  and should_run_async(code)\n"
     ]
    },
    {
     "data": {
      "text/html": [
       "<div>\n",
       "<style scoped>\n",
       "    .dataframe tbody tr th:only-of-type {\n",
       "        vertical-align: middle;\n",
       "    }\n",
       "\n",
       "    .dataframe tbody tr th {\n",
       "        vertical-align: top;\n",
       "    }\n",
       "\n",
       "    .dataframe thead th {\n",
       "        text-align: right;\n",
       "    }\n",
       "</style>\n",
       "<table border=\"1\" class=\"dataframe\">\n",
       "  <thead>\n",
       "    <tr style=\"text-align: right;\">\n",
       "      <th></th>\n",
       "      <th>0</th>\n",
       "      <th>1</th>\n",
       "      <th>2</th>\n",
       "    </tr>\n",
       "  </thead>\n",
       "  <tbody>\n",
       "    <tr>\n",
       "      <th>duration_5_Zone</th>\n",
       "      <td>1.501809</td>\n",
       "      <td>1.056574</td>\n",
       "      <td>1.682456</td>\n",
       "    </tr>\n",
       "    <tr>\n",
       "      <th>nbr_stays_1_Zone</th>\n",
       "      <td>1.792496</td>\n",
       "      <td>0.508854</td>\n",
       "      <td>0.592509</td>\n",
       "    </tr>\n",
       "    <tr>\n",
       "      <th>nbr_stays_4_Zone</th>\n",
       "      <td>2.066522</td>\n",
       "      <td>1.280535</td>\n",
       "      <td>2.291022</td>\n",
       "    </tr>\n",
       "    <tr>\n",
       "      <th>sucessIntrusion_9</th>\n",
       "      <td>1.457270</td>\n",
       "      <td>1.061503</td>\n",
       "      <td>1.529070</td>\n",
       "    </tr>\n",
       "    <tr>\n",
       "      <th>in_WG_15mnAfterOpening</th>\n",
       "      <td>0.350609</td>\n",
       "      <td>0.099446</td>\n",
       "      <td>0.089339</td>\n",
       "    </tr>\n",
       "    <tr>\n",
       "      <th>Max_duration_WG</th>\n",
       "      <td>1.647864</td>\n",
       "      <td>0.466887</td>\n",
       "      <td>0.574901</td>\n",
       "    </tr>\n",
       "    <tr>\n",
       "      <th>night_Total_number_transition</th>\n",
       "      <td>0.457571</td>\n",
       "      <td>0.498309</td>\n",
       "      <td>0.400325</td>\n",
       "    </tr>\n",
       "    <tr>\n",
       "      <th>vertical_travel_distance</th>\n",
       "      <td>1.926734</td>\n",
       "      <td>1.588452</td>\n",
       "      <td>1.909748</td>\n",
       "    </tr>\n",
       "  </tbody>\n",
       "</table>\n",
       "</div>"
      ],
      "text/plain": [
       "                                      0         1         2\n",
       "duration_5_Zone                1.501809  1.056574  1.682456\n",
       "nbr_stays_1_Zone               1.792496  0.508854  0.592509\n",
       "nbr_stays_4_Zone               2.066522  1.280535  2.291022\n",
       "sucessIntrusion_9              1.457270  1.061503  1.529070\n",
       "in_WG_15mnAfterOpening         0.350609  0.099446  0.089339\n",
       "Max_duration_WG                1.647864  0.466887  0.574901\n",
       "night_Total_number_transition  0.457571  0.498309  0.400325\n",
       "vertical_travel_distance       1.926734  1.588452  1.909748"
      ]
     },
     "execution_count": 60,
     "metadata": {},
     "output_type": "execute_result"
    }
   ],
   "source": [
    "#### one table with mean for each variable within each clusters\n",
    "li_df = []#\n",
    "for k in df_hen['clustering_consistency'].unique():\n",
    "    df0 = df_hen[df_hen['clustering_consistency']==k][li_var]\n",
    "    li_df.append(df0.mean())\n",
    "df_m = pd.concat(li_df,axis=1)\n",
    "df_m.to_csv(os.path.join(path_extracted_data_visual_cons, 'clusters_properties.csv'))\n",
    "print(df_m.shape)\n",
    "df_m"
   ]
  },
  {
   "cell_type": "code",
   "execution_count": 61,
   "metadata": {
    "scrolled": true
   },
   "outputs": [
    {
     "name": "stderr",
     "output_type": "stream",
     "text": [
      "C:\\Users\\camil\\anaconda3\\lib\\site-packages\\ipykernel\\ipkernel.py:283: DeprecationWarning: `should_run_async` will not call `transform_cell` automatically in the future. Please pass the result to `transformed_cell` argument and any exception that happen during thetransform in `preprocessing_exc_tuple` in IPython 7.17 and above.\n",
      "  and should_run_async(code)\n"
     ]
    },
    {
     "data": {
      "image/png": "[encoded data removed]",
      "text/plain": [
       "<Figure size 432x288 with 1 Axes>"
      ]
     },
     "metadata": {
      "needs_background": "light"
     },
     "output_type": "display_data"
    },
    {
     "data": {
      "image/png": "[encoded data removed]",
      "text/plain": [
       "<Figure size 432x288 with 1 Axes>"
      ]
     },
     "metadata": {
      "needs_background": "light"
     },
     "output_type": "display_data"
    },
    {
     "data": {
      "image/png": "[encoded data removed]",
      "text/plain": [
       "<Figure size 432x288 with 1 Axes>"
      ]
     },
     "metadata": {
      "needs_background": "light"
     },
     "output_type": "display_data"
    },
    {
     "data": {
      "image/png": "[encoded data removed]",
      "text/plain": [
       "<Figure size 432x288 with 1 Axes>"
      ]
     },
     "metadata": {
      "needs_background": "light"
     },
     "output_type": "display_data"
    },
    {
     "data": {
      "image/png": "[encoded data removed]",
      "text/plain": [
       "<Figure size 432x288 with 1 Axes>"
      ]
     },
     "metadata": {
      "needs_background": "light"
     },
     "output_type": "display_data"
    },
    {
     "data": {
      "image/png": "[encoded data removed]",
      "text/plain": [
       "<Figure size 432x288 with 1 Axes>"
      ]
     },
     "metadata": {
      "needs_background": "light"
     },
     "output_type": "display_data"
    },
    {
     "data": {
      "image/png": "[encoded data removed]",
      "text/plain": [
       "<Figure size 432x288 with 1 Axes>"
      ]
     },
     "metadata": {
      "needs_background": "light"
     },
     "output_type": "display_data"
    },
    {
     "data": {
      "image/png": "[encoded data removed]",
      "text/plain": [
       "<Figure size 432x288 with 1 Axes>"
      ]
     },
     "metadata": {
      "needs_background": "light"
     },
     "output_type": "display_data"
    }
   ],
   "source": [
    "#### plot boxplot for each x variable\n",
    "for x in li_var:\n",
    "    df_plt = pd.melt(df_hen, id_vars=['clustering_consistency','HenID'], value_vars=x).reset_index(drop=True)\n",
    "    #display(df_plt.head(3))\n",
    "    ax = sns.boxplot(x=\"variable\", y=\"value\", hue=\"clustering_consistency\",data=df_plt, palette=\"Set3\")\n",
    "    plt.savefig(os.path.join(path_extracted_data_visual_cons,'cluster_'+x.replace('/','')+'.png'), bbox_inches='tight')\n",
    "    plt.show();\n",
    "#group 1: that are less consistent regarding their litter and winter garden usage\n",
    "#group 0: specially consistent regarding its duration in top tier, nestbox and successfullintrusion but less regarding the \n",
    "#number of transitions at night: less healthy?\n",
    "#group 2: more inconsistent regarding the duration in top tier, nestbox, successfullintrusion: more healthy?"
   ]
  },
  {
   "cell_type": "code",
   "execution_count": 64,
   "metadata": {},
   "outputs": [
    {
     "name": "stderr",
     "output_type": "stream",
     "text": [
      "C:\\Users\\camil\\anaconda3\\lib\\site-packages\\ipykernel\\ipkernel.py:283: DeprecationWarning: `should_run_async` will not call `transform_cell` automatically in the future. Please pass the result to `transformed_cell` argument and any exception that happen during thetransform in `preprocessing_exc_tuple` in IPython 7.17 and above.\n",
      "  and should_run_async(code)\n"
     ]
    },
    {
     "data": {
      "text/html": [
       "<div>\n",
       "<style scoped>\n",
       "    .dataframe tbody tr th:only-of-type {\n",
       "        vertical-align: middle;\n",
       "    }\n",
       "\n",
       "    .dataframe tbody tr th {\n",
       "        vertical-align: top;\n",
       "    }\n",
       "\n",
       "    .dataframe thead th {\n",
       "        text-align: right;\n",
       "    }\n",
       "</style>\n",
       "<table border=\"1\" class=\"dataframe\">\n",
       "  <thead>\n",
       "    <tr style=\"text-align: right;\">\n",
       "      <th></th>\n",
       "      <th>HenID</th>\n",
       "      <th>PenID</th>\n",
       "      <th>CLASS</th>\n",
       "      <th>R-Pen</th>\n",
       "      <th>InitialStartDate</th>\n",
       "      <th>29-09 weight</th>\n",
       "      <th>10-12 juin weight</th>\n",
       "      <th>weight 23-11-2020</th>\n",
       "      <th>weight 04-01-2021</th>\n",
       "      <th>weight 01-02-21</th>\n",
       "      <th>Treatment</th>\n",
       "    </tr>\n",
       "  </thead>\n",
       "  <tbody>\n",
       "    <tr>\n",
       "      <th>0</th>\n",
       "      <td>hen_1</td>\n",
       "      <td>9</td>\n",
       "      <td>EPI</td>\n",
       "      <td>1.0</td>\n",
       "      <td>10.06.2020</td>\n",
       "      <td>1134.0</td>\n",
       "      <td>57.0</td>\n",
       "      <td>1696.5</td>\n",
       "      <td>1787.8</td>\n",
       "      <td>1800.9</td>\n",
       "      <td>OFH</td>\n",
       "    </tr>\n",
       "    <tr>\n",
       "      <th>1</th>\n",
       "      <td>hen_10</td>\n",
       "      <td>11</td>\n",
       "      <td>LEXP</td>\n",
       "      <td>1.0</td>\n",
       "      <td>10.06.2020</td>\n",
       "      <td>1070.0</td>\n",
       "      <td>70.4</td>\n",
       "      <td>1488.3</td>\n",
       "      <td>1628.4</td>\n",
       "      <td>1602.1</td>\n",
       "      <td>OFH</td>\n",
       "    </tr>\n",
       "    <tr>\n",
       "      <th>2</th>\n",
       "      <td>hen_100</td>\n",
       "      <td>5</td>\n",
       "      <td>EPI</td>\n",
       "      <td>3.0</td>\n",
       "      <td>10.06.2020</td>\n",
       "      <td>1182.0</td>\n",
       "      <td>80.5</td>\n",
       "      <td>1642.5</td>\n",
       "      <td>NaN</td>\n",
       "      <td>NaN</td>\n",
       "      <td>OFH</td>\n",
       "    </tr>\n",
       "  </tbody>\n",
       "</table>\n",
       "</div>"
      ],
      "text/plain": [
       "     HenID  PenID CLASS  R-Pen InitialStartDate  29-09 weight  \\\n",
       "0    hen_1      9   EPI    1.0       10.06.2020        1134.0   \n",
       "1   hen_10     11  LEXP    1.0       10.06.2020        1070.0   \n",
       "2  hen_100      5   EPI    3.0       10.06.2020        1182.0   \n",
       "\n",
       "   10-12 juin weight  weight 23-11-2020  weight 04-01-2021  weight 01-02-21  \\\n",
       "0               57.0             1696.5             1787.8           1800.9   \n",
       "1               70.4             1488.3             1628.4           1602.1   \n",
       "2               80.5             1642.5                NaN              NaN   \n",
       "\n",
       "  Treatment  \n",
       "0       OFH  \n",
       "1       OFH  \n",
       "2       OFH  "
      ]
     },
     "execution_count": 64,
     "metadata": {},
     "output_type": "execute_result"
    }
   ],
   "source": [
    "df_FB.head(3)"
   ]
  },
  {
   "cell_type": "code",
   "execution_count": 65,
   "metadata": {},
   "outputs": [
    {
     "name": "stdout",
     "output_type": "stream",
     "text": [
      "(131, 20)\n"
     ]
    },
    {
     "name": "stderr",
     "output_type": "stream",
     "text": [
      "C:\\Users\\camil\\anaconda3\\lib\\site-packages\\ipykernel\\ipkernel.py:283: DeprecationWarning: `should_run_async` will not call `transform_cell` automatically in the future. Please pass the result to `transformed_cell` argument and any exception that happen during thetransform in `preprocessing_exc_tuple` in IPython 7.17 and above.\n",
      "  and should_run_async(code)\n"
     ]
    },
    {
     "data": {
      "text/html": [
       "<div>\n",
       "<style scoped>\n",
       "    .dataframe tbody tr th:only-of-type {\n",
       "        vertical-align: middle;\n",
       "    }\n",
       "\n",
       "    .dataframe tbody tr th {\n",
       "        vertical-align: top;\n",
       "    }\n",
       "\n",
       "    .dataframe thead th {\n",
       "        text-align: right;\n",
       "    }\n",
       "</style>\n",
       "<table border=\"1\" class=\"dataframe\">\n",
       "  <thead>\n",
       "    <tr style=\"text-align: right;\">\n",
       "      <th></th>\n",
       "      <th>HenID</th>\n",
       "      <th>duration_5_Zone</th>\n",
       "      <th>nbr_stays_1_Zone</th>\n",
       "      <th>nbr_stays_4_Zone</th>\n",
       "      <th>sucessIntrusion_9</th>\n",
       "      <th>in_WG_15mnAfterOpening</th>\n",
       "      <th>Max_duration_WG</th>\n",
       "      <th>night_Total_number_transition</th>\n",
       "      <th>vertical_travel_distance</th>\n",
       "      <th>clustering_consistency</th>\n",
       "      <th>PenID</th>\n",
       "      <th>CLASS</th>\n",
       "      <th>R-Pen</th>\n",
       "      <th>InitialStartDate</th>\n",
       "      <th>29-09 weight</th>\n",
       "      <th>10-12 juin weight</th>\n",
       "      <th>weight 23-11-2020</th>\n",
       "      <th>weight 04-01-2021</th>\n",
       "      <th>weight 01-02-21</th>\n",
       "      <th>Treatment</th>\n",
       "    </tr>\n",
       "  </thead>\n",
       "  <tbody>\n",
       "    <tr>\n",
       "      <th>0</th>\n",
       "      <td>hen_1</td>\n",
       "      <td>0.988217</td>\n",
       "      <td>1.812379</td>\n",
       "      <td>1.909543</td>\n",
       "      <td>0.747470</td>\n",
       "      <td>0.700948</td>\n",
       "      <td>1.782457</td>\n",
       "      <td>0.095168</td>\n",
       "      <td>2.374906</td>\n",
       "      <td>1</td>\n",
       "      <td>9</td>\n",
       "      <td>EPI</td>\n",
       "      <td>1.0</td>\n",
       "      <td>10.06.2020</td>\n",
       "      <td>1134.0</td>\n",
       "      <td>57.0</td>\n",
       "      <td>1696.5</td>\n",
       "      <td>1787.8</td>\n",
       "      <td>1800.9</td>\n",
       "      <td>OFH</td>\n",
       "    </tr>\n",
       "    <tr>\n",
       "      <th>1</th>\n",
       "      <td>hen_10</td>\n",
       "      <td>0.702252</td>\n",
       "      <td>0.879813</td>\n",
       "      <td>1.914161</td>\n",
       "      <td>1.297945</td>\n",
       "      <td>0.060129</td>\n",
       "      <td>1.110447</td>\n",
       "      <td>1.183770</td>\n",
       "      <td>1.632695</td>\n",
       "      <td>0</td>\n",
       "      <td>11</td>\n",
       "      <td>LEXP</td>\n",
       "      <td>1.0</td>\n",
       "      <td>10.06.2020</td>\n",
       "      <td>1070.0</td>\n",
       "      <td>70.4</td>\n",
       "      <td>1488.3</td>\n",
       "      <td>1628.4</td>\n",
       "      <td>1602.1</td>\n",
       "      <td>OFH</td>\n",
       "    </tr>\n",
       "    <tr>\n",
       "      <th>2</th>\n",
       "      <td>hen_101</td>\n",
       "      <td>0.538997</td>\n",
       "      <td>1.148284</td>\n",
       "      <td>0.951832</td>\n",
       "      <td>2.045208</td>\n",
       "      <td>0.370819</td>\n",
       "      <td>0.825907</td>\n",
       "      <td>0.445547</td>\n",
       "      <td>1.446919</td>\n",
       "      <td>0</td>\n",
       "      <td>5</td>\n",
       "      <td>MEXP</td>\n",
       "      <td>3.0</td>\n",
       "      <td>10.06.2020</td>\n",
       "      <td>1082.0</td>\n",
       "      <td>66.0</td>\n",
       "      <td>1625.7</td>\n",
       "      <td>1751.1</td>\n",
       "      <td>1723.4</td>\n",
       "      <td>OFH</td>\n",
       "    </tr>\n",
       "  </tbody>\n",
       "</table>\n",
       "</div>"
      ],
      "text/plain": [
       "     HenID  duration_5_Zone  nbr_stays_1_Zone  nbr_stays_4_Zone  \\\n",
       "0    hen_1         0.988217          1.812379          1.909543   \n",
       "1   hen_10         0.702252          0.879813          1.914161   \n",
       "2  hen_101         0.538997          1.148284          0.951832   \n",
       "\n",
       "   sucessIntrusion_9  in_WG_15mnAfterOpening  Max_duration_WG  \\\n",
       "0           0.747470                0.700948         1.782457   \n",
       "1           1.297945                0.060129         1.110447   \n",
       "2           2.045208                0.370819         0.825907   \n",
       "\n",
       "   night_Total_number_transition  vertical_travel_distance  \\\n",
       "0                       0.095168                  2.374906   \n",
       "1                       1.183770                  1.632695   \n",
       "2                       0.445547                  1.446919   \n",
       "\n",
       "   clustering_consistency  PenID CLASS  R-Pen InitialStartDate  29-09 weight  \\\n",
       "0                       1      9   EPI    1.0       10.06.2020        1134.0   \n",
       "1                       0     11  LEXP    1.0       10.06.2020        1070.0   \n",
       "2                       0      5  MEXP    3.0       10.06.2020        1082.0   \n",
       "\n",
       "   10-12 juin weight  weight 23-11-2020  weight 04-01-2021  weight 01-02-21  \\\n",
       "0               57.0             1696.5             1787.8           1800.9   \n",
       "1               70.4             1488.3             1628.4           1602.1   \n",
       "2               66.0             1625.7             1751.1           1723.4   \n",
       "\n",
       "  Treatment  \n",
       "0       OFH  \n",
       "1       OFH  \n",
       "2       OFH  "
      ]
     },
     "execution_count": 65,
     "metadata": {},
     "output_type": "execute_result"
    }
   ],
   "source": [
    "df_explore = pd.merge(df_hen, df_FB, on='HenID', how='left')\n",
    "print(df_explore.shape)\n",
    "df_explore.head(3)"
   ]
  },
  {
   "cell_type": "code",
   "execution_count": 78,
   "metadata": {},
   "outputs": [
    {
     "name": "stderr",
     "output_type": "stream",
     "text": [
      "C:\\Users\\camil\\anaconda3\\lib\\site-packages\\ipykernel\\ipkernel.py:283: DeprecationWarning: `should_run_async` will not call `transform_cell` automatically in the future. Please pass the result to `transformed_cell` argument and any exception that happen during thetransform in `preprocessing_exc_tuple` in IPython 7.17 and above.\n",
      "  and should_run_async(code)\n"
     ]
    },
    {
     "data": {
      "image/png": "[encoded data removed]",
      "text/plain": [
       "<Figure size 432x288 with 1 Axes>"
      ]
     },
     "metadata": {
      "needs_background": "light"
     },
     "output_type": "display_data"
    }
   ],
   "source": [
    "sns.boxplot(x=\"clustering_consistency\", y=\"29-09 weight\", hue='Treatment', data=df_explore, palette=\"Set3\");"
   ]
  },
  {
   "cell_type": "code",
   "execution_count": 69,
   "metadata": {},
   "outputs": [
    {
     "name": "stderr",
     "output_type": "stream",
     "text": [
      "C:\\Users\\camil\\anaconda3\\lib\\site-packages\\ipykernel\\ipkernel.py:283: DeprecationWarning: `should_run_async` will not call `transform_cell` automatically in the future. Please pass the result to `transformed_cell` argument and any exception that happen during thetransform in `preprocessing_exc_tuple` in IPython 7.17 and above.\n",
      "  and should_run_async(code)\n"
     ]
    },
    {
     "data": {
      "text/plain": [
       "Treatment  clustering_consistency\n",
       "OFH        1                         0.402985\n",
       "           2                         0.328358\n",
       "           0                         0.268657\n",
       "TRAN       1                         0.546875\n",
       "           2                         0.250000\n",
       "           0                         0.203125\n",
       "Name: clustering_consistency, dtype: float64"
      ]
     },
     "metadata": {},
     "output_type": "display_data"
    },
    {
     "data": {
      "text/plain": [
       "CLASS        clustering_consistency\n",
       "EPI          1                         0.441860\n",
       "             2                         0.325581\n",
       "             0                         0.232558\n",
       "LEXP         1                         0.433333\n",
       "             0                         0.366667\n",
       "             2                         0.200000\n",
       "LEXPLOST     2                         0.428571\n",
       "             0                         0.285714\n",
       "             1                         0.285714\n",
       "MEXP         1                         0.555556\n",
       "             2                         0.250000\n",
       "             0                         0.194444\n",
       "MEXPLOST     2                         1.000000\n",
       "NewAfterEpi  1                         0.571429\n",
       "             2                         0.357143\n",
       "             0                         0.071429\n",
       "Name: clustering_consistency, dtype: float64"
      ]
     },
     "metadata": {},
     "output_type": "display_data"
    }
   ],
   "source": [
    "#treatment and class\n",
    "for t in ['Treatment','CLASS']:\n",
    "    display(df_explore.groupby(t)['clustering_consistency'].value_counts(normalize=True))"
   ]
  },
  {
   "cell_type": "code",
   "execution_count": 152,
   "metadata": {},
   "outputs": [
    {
     "name": "stderr",
     "output_type": "stream",
     "text": [
      "C:\\Users\\camil\\anaconda3\\lib\\site-packages\\ipykernel\\ipkernel.py:283: DeprecationWarning: `should_run_async` will not call `transform_cell` automatically in the future. Please pass the result to `transformed_cell` argument and any exception that happen during thetransform in `preprocessing_exc_tuple` in IPython 7.17 and above.\n",
      "  and should_run_async(code)\n"
     ]
    },
    {
     "data": {
      "text/plain": [
       "20"
      ]
     },
     "execution_count": 152,
     "metadata": {},
     "output_type": "execute_result"
    }
   ],
   "source": [
    "5*2*2 #at maximum"
   ]
  },
  {
   "cell_type": "raw",
   "metadata": {},
   "source": [
    "#https://stats.stackexchange.com/questions/237440/influence-of-number-of-observations-on-entropy-calculation\n",
    "123,121\n",
    "212,232,234\n",
    "323,321,343,345\n",
    "432,434,454\n",
    "545,543 \n",
    "14 options in reality! 14*3=42 min of values per observations (i.e. 126 mvt ich one mvt in a unique value... likely to be optimale with 3 days /chicken)\n",
    "\n",
    "perhaps we should analyse the chicken that does not move separtely!"
   ]
  },
  {
   "cell_type": "code",
   "execution_count": null,
   "metadata": {},
   "outputs": [],
   "source": [
    "1,2,3,4,5"
   ]
  },
  {
   "cell_type": "markdown",
   "metadata": {},
   "source": [
    "# zone-wise Prediction of binary time series"
   ]
  },
  {
   "cell_type": "code",
   "execution_count": 196,
   "metadata": {},
   "outputs": [
    {
     "name": "stderr",
     "output_type": "stream",
     "text": [
      "C:\\Users\\camil\\anaconda3\\lib\\site-packages\\ipykernel\\ipkernel.py:283: DeprecationWarning: `should_run_async` will not call `transform_cell` automatically in the future. Please pass the result to `transformed_cell` argument and any exception that happen during thetransform in `preprocessing_exc_tuple` in IPython 7.17 and above.\n",
      "  and should_run_async(code)\n"
     ]
    },
    {
     "name": "stdout",
     "output_type": "stream",
     "text": [
      "(1104217, 16)\n"
     ]
    },
    {
     "data": {
      "text/html": [
       "<div>\n",
       "<style scoped>\n",
       "    .dataframe tbody tr th:only-of-type {\n",
       "        vertical-align: middle;\n",
       "    }\n",
       "\n",
       "    .dataframe tbody tr th {\n",
       "        vertical-align: top;\n",
       "    }\n",
       "\n",
       "    .dataframe thead th {\n",
       "        text-align: right;\n",
       "    }\n",
       "</style>\n",
       "<table border=\"1\" class=\"dataframe\">\n",
       "  <thead>\n",
       "    <tr style=\"text-align: right;\">\n",
       "      <th></th>\n",
       "      <th>HenID</th>\n",
       "      <th>PenID</th>\n",
       "      <th>system</th>\n",
       "      <th>Zone</th>\n",
       "      <th>model_prediction</th>\n",
       "      <th>Timestamp</th>\n",
       "      <th>date</th>\n",
       "      <th>next_record_date</th>\n",
       "      <th>duration</th>\n",
       "      <th>previous_record_date</th>\n",
       "      <th>previous_duration</th>\n",
       "      <th>next_zone</th>\n",
       "      <th>previous_zone</th>\n",
       "      <th>previous_previous_zone</th>\n",
       "      <th>correction_is_consecutive_equal_initial_zone</th>\n",
       "      <th>is_WG_open</th>\n",
       "    </tr>\n",
       "  </thead>\n",
       "  <tbody>\n",
       "    <tr>\n",
       "      <th>0</th>\n",
       "      <td>hen_111</td>\n",
       "      <td>pen11</td>\n",
       "      <td>10 - 12</td>\n",
       "      <td>3_Zone</td>\n",
       "      <td>1.0</td>\n",
       "      <td>2020-09-30 00:01:25</td>\n",
       "      <td>2020-09-30</td>\n",
       "      <td>2020-09-30 00:01:38.000</td>\n",
       "      <td>0 days 00:00:13</td>\n",
       "      <td>NaN</td>\n",
       "      <td>NaN</td>\n",
       "      <td>2_Zone</td>\n",
       "      <td>NaN</td>\n",
       "      <td>NaN</td>\n",
       "      <td>False</td>\n",
       "      <td>False</td>\n",
       "    </tr>\n",
       "    <tr>\n",
       "      <th>1</th>\n",
       "      <td>hen_111</td>\n",
       "      <td>pen11</td>\n",
       "      <td>10 - 12</td>\n",
       "      <td>2_Zone</td>\n",
       "      <td>1.0</td>\n",
       "      <td>2020-09-30 00:01:38</td>\n",
       "      <td>2020-09-30</td>\n",
       "      <td>2020-09-30 00:14:38.000</td>\n",
       "      <td>0 days 00:13:00</td>\n",
       "      <td>2020-09-30 00:01:25.000</td>\n",
       "      <td>0 days 00:00:13</td>\n",
       "      <td>2_Zone</td>\n",
       "      <td>3_Zone</td>\n",
       "      <td>NaN</td>\n",
       "      <td>False</td>\n",
       "      <td>False</td>\n",
       "    </tr>\n",
       "    <tr>\n",
       "      <th>2</th>\n",
       "      <td>hen_147</td>\n",
       "      <td>pen8</td>\n",
       "      <td>8 - 9</td>\n",
       "      <td>5_Zone</td>\n",
       "      <td>1.0</td>\n",
       "      <td>2020-09-30 00:30:49</td>\n",
       "      <td>2020-09-30</td>\n",
       "      <td>2020-09-30 00:33:26.000</td>\n",
       "      <td>0 days 00:02:37</td>\n",
       "      <td>NaN</td>\n",
       "      <td>NaN</td>\n",
       "      <td>5_Zone</td>\n",
       "      <td>NaN</td>\n",
       "      <td>NaN</td>\n",
       "      <td>False</td>\n",
       "      <td>False</td>\n",
       "    </tr>\n",
       "  </tbody>\n",
       "</table>\n",
       "</div>"
      ],
      "text/plain": [
       "     HenID  PenID   system    Zone  model_prediction           Timestamp  \\\n",
       "0  hen_111  pen11  10 - 12  3_Zone               1.0 2020-09-30 00:01:25   \n",
       "1  hen_111  pen11  10 - 12  2_Zone               1.0 2020-09-30 00:01:38   \n",
       "2  hen_147   pen8    8 - 9  5_Zone               1.0 2020-09-30 00:30:49   \n",
       "\n",
       "        date         next_record_date         duration  \\\n",
       "0 2020-09-30  2020-09-30 00:01:38.000  0 days 00:00:13   \n",
       "1 2020-09-30  2020-09-30 00:14:38.000  0 days 00:13:00   \n",
       "2 2020-09-30  2020-09-30 00:33:26.000  0 days 00:02:37   \n",
       "\n",
       "      previous_record_date previous_duration next_zone previous_zone  \\\n",
       "0                      NaN               NaN    2_Zone           NaN   \n",
       "1  2020-09-30 00:01:25.000   0 days 00:00:13    2_Zone        3_Zone   \n",
       "2                      NaN               NaN    5_Zone           NaN   \n",
       "\n",
       "  previous_previous_zone  correction_is_consecutive_equal_initial_zone  \\\n",
       "0                    NaN                                         False   \n",
       "1                    NaN                                         False   \n",
       "2                    NaN                                         False   \n",
       "\n",
       "   is_WG_open  \n",
       "0       False  \n",
       "1       False  \n",
       "2       False  "
      ]
     },
     "execution_count": 196,
     "metadata": {},
     "output_type": "execute_result"
    }
   ],
   "source": [
    "df = pd.read_csv(os.path.join(path_extracted_data, id_run+'_CLEANEDDATA.csv'), sep=';', parse_dates=['Timestamp', 'date']) \n",
    "print(df.shape)\n",
    "df.head(3)"
   ]
  },
  {
   "cell_type": "code",
   "execution_count": 202,
   "metadata": {},
   "outputs": [
    {
     "name": "stderr",
     "output_type": "stream",
     "text": [
      "C:\\Users\\camil\\anaconda3\\lib\\site-packages\\ipykernel\\ipkernel.py:283: DeprecationWarning: `should_run_async` will not call `transform_cell` automatically in the future. Please pass the result to `transformed_cell` argument and any exception that happen during thetransform in `preprocessing_exc_tuple` in IPython 7.17 and above.\n",
      "  and should_run_async(code)\n"
     ]
    }
   ],
   "source": [
    "#TODO: remove disturbance days!"
   ]
  },
  {
   "cell_type": "code",
   "execution_count": 205,
   "metadata": {},
   "outputs": [
    {
     "name": "stderr",
     "output_type": "stream",
     "text": [
      "C:\\Users\\camil\\anaconda3\\lib\\site-packages\\ipykernel\\ipkernel.py:283: DeprecationWarning: `should_run_async` will not call `transform_cell` automatically in the future. Please pass the result to `transformed_cell` argument and any exception that happen during thetransform in `preprocessing_exc_tuple` in IPython 7.17 and above.\n",
      "  and should_run_async(code)\n"
     ]
    },
    {
     "name": "stdout",
     "output_type": "stream",
     "text": [
      "----------------- Create time serie\n",
      "in this time series there is 26 hens\n",
      "The initial starting date in over all is: 2020-09-30 00:01:25, and the ending date will be: 2021-02-09 16:24:45\n",
      "But note that birds may have different ending and starting date which should be taken into account when computing variables\n",
      "and after ending the last day at midnight : 2020-09-30 00:01:25, and the ending date will be: 2021-02-09 23:59:59\n",
      "Total running time: 2.34 mn\n"
     ]
    }
   ],
   "source": [
    "#remove milliseconds now taht we cleaned the data (ie.e the records with less than 1seconds duration\n",
    "#sort by timestamp\n",
    "df.sort_values(['Timestamp'], inplace=True)\n",
    "#use up to the second level only\n",
    "df['Timestamp'] = df['Timestamp'].map(lambda x: dt.datetime(x.year,x.month,x.day,x.hour,x.minute, x.second))\n",
    "#remove the first record\n",
    "df = df.drop_duplicates(subset=['HenID','Timestamp'], keep='last')\n",
    "df_init = df.copy()\n",
    "print('----------------- Create time serie')\n",
    "df_ts = time_series_henColumn_tsRow(df[df['PenID']=='pen11'], config, col_ts='Zone', ts_with_all_hen_value=False, save=False, hen_time_series=False)"
   ]
  },
  {
   "cell_type": "code",
   "execution_count": 217,
   "metadata": {},
   "outputs": [
    {
     "name": "stderr",
     "output_type": "stream",
     "text": [
      "C:\\Users\\camil\\anaconda3\\lib\\site-packages\\ipykernel\\ipkernel.py:283: DeprecationWarning: `should_run_async` will not call `transform_cell` automatically in the future. Please pass the result to `transformed_cell` argument and any exception that happen during thetransform in `preprocessing_exc_tuple` in IPython 7.17 and above.\n",
      "  and should_run_async(code)\n"
     ]
    },
    {
     "data": {
      "text/plain": [
       "Timestamp('2020-09-30 00:01:25')"
      ]
     },
     "execution_count": 217,
     "metadata": {},
     "output_type": "execute_result"
    }
   ],
   "source": [
    "min(df['Timestamp'].tolist())"
   ]
  },
  {
   "cell_type": "code",
   "execution_count": 209,
   "metadata": {},
   "outputs": [
    {
     "name": "stderr",
     "output_type": "stream",
     "text": [
      "C:\\Users\\camil\\anaconda3\\lib\\site-packages\\ipykernel\\ipkernel.py:283: DeprecationWarning: `should_run_async` will not call `transform_cell` automatically in the future. Please pass the result to `transformed_cell` argument and any exception that happen during thetransform in `preprocessing_exc_tuple` in IPython 7.17 and above.\n",
      "  and should_run_async(code)\n"
     ]
    },
    {
     "ename": "SystemExit",
     "evalue": "",
     "output_type": "error",
     "traceback": [
      "An exception has occurred, use %tb to see the full traceback.\n",
      "\u001b[1;31mSystemExit\u001b[0m\n"
     ]
    },
    {
     "name": "stderr",
     "output_type": "stream",
     "text": [
      "C:\\Users\\camil\\anaconda3\\lib\\site-packages\\IPython\\core\\interactiveshell.py:3426: UserWarning: To exit: use 'exit', 'quit', or Ctrl-D.\n",
      "  warn(\"To exit: use 'exit', 'quit', or Ctrl-D.\", stacklevel=1)\n"
     ]
    }
   ],
   "source": [
    "li_z = df['Zone'].unique()\n",
    "for zone in li_z:\n",
    "    df_ts_ = df_ts.copy()\n",
    "    li_ = [i for i in li_z if i!=zone]\n",
    "    df_ts_ = df_ts_.replace(zone,1)\n",
    "    df_ts_ = df_ts_.replace(li_,0)\n",
    "    sys.exit()"
   ]
  },
  {
   "cell_type": "code",
   "execution_count": 211,
   "metadata": {},
   "outputs": [
    {
     "name": "stderr",
     "output_type": "stream",
     "text": [
      "C:\\Users\\camil\\anaconda3\\lib\\site-packages\\ipykernel\\ipkernel.py:283: DeprecationWarning: `should_run_async` will not call `transform_cell` automatically in the future. Please pass the result to `transformed_cell` argument and any exception that happen during thetransform in `preprocessing_exc_tuple` in IPython 7.17 and above.\n",
      "  and should_run_async(code)\n"
     ]
    },
    {
     "data": {
      "text/html": [
       "<div>\n",
       "<style scoped>\n",
       "    .dataframe tbody tr th:only-of-type {\n",
       "        vertical-align: middle;\n",
       "    }\n",
       "\n",
       "    .dataframe tbody tr th {\n",
       "        vertical-align: top;\n",
       "    }\n",
       "\n",
       "    .dataframe thead th {\n",
       "        text-align: right;\n",
       "    }\n",
       "</style>\n",
       "<table border=\"1\" class=\"dataframe\">\n",
       "  <thead>\n",
       "    <tr style=\"text-align: right;\">\n",
       "      <th>HenID</th>\n",
       "      <th>Timestamp</th>\n",
       "      <th>hen_10</th>\n",
       "      <th>hen_108</th>\n",
       "      <th>hen_111</th>\n",
       "      <th>hen_112</th>\n",
       "      <th>hen_117</th>\n",
       "      <th>hen_118</th>\n",
       "      <th>hen_14</th>\n",
       "      <th>hen_165</th>\n",
       "      <th>hen_168</th>\n",
       "      <th>...</th>\n",
       "      <th>hen_39</th>\n",
       "      <th>hen_6</th>\n",
       "      <th>hen_7</th>\n",
       "      <th>hen_84</th>\n",
       "      <th>hen_87</th>\n",
       "      <th>hen_9</th>\n",
       "      <th>hen_91</th>\n",
       "      <th>hen_95</th>\n",
       "      <th>hen_99</th>\n",
       "      <th>date</th>\n",
       "    </tr>\n",
       "  </thead>\n",
       "  <tbody>\n",
       "    <tr>\n",
       "      <th>11491110</th>\n",
       "      <td>2021-02-09 23:59:55</td>\n",
       "      <td>1.0</td>\n",
       "      <td>0.0</td>\n",
       "      <td>0</td>\n",
       "      <td>0.0</td>\n",
       "      <td>0.0</td>\n",
       "      <td>0.0</td>\n",
       "      <td>0.0</td>\n",
       "      <td>0.0</td>\n",
       "      <td>0.0</td>\n",
       "      <td>...</td>\n",
       "      <td>0.0</td>\n",
       "      <td>0.0</td>\n",
       "      <td>0.0</td>\n",
       "      <td>0.0</td>\n",
       "      <td>0.0</td>\n",
       "      <td>0.0</td>\n",
       "      <td>0.0</td>\n",
       "      <td>1.0</td>\n",
       "      <td>0.0</td>\n",
       "      <td>2021-02-09</td>\n",
       "    </tr>\n",
       "    <tr>\n",
       "      <th>11491111</th>\n",
       "      <td>2021-02-09 23:59:56</td>\n",
       "      <td>1.0</td>\n",
       "      <td>0.0</td>\n",
       "      <td>0</td>\n",
       "      <td>0.0</td>\n",
       "      <td>0.0</td>\n",
       "      <td>0.0</td>\n",
       "      <td>0.0</td>\n",
       "      <td>0.0</td>\n",
       "      <td>0.0</td>\n",
       "      <td>...</td>\n",
       "      <td>0.0</td>\n",
       "      <td>0.0</td>\n",
       "      <td>0.0</td>\n",
       "      <td>0.0</td>\n",
       "      <td>0.0</td>\n",
       "      <td>0.0</td>\n",
       "      <td>0.0</td>\n",
       "      <td>1.0</td>\n",
       "      <td>0.0</td>\n",
       "      <td>2021-02-09</td>\n",
       "    </tr>\n",
       "    <tr>\n",
       "      <th>11491112</th>\n",
       "      <td>2021-02-09 23:59:57</td>\n",
       "      <td>1.0</td>\n",
       "      <td>0.0</td>\n",
       "      <td>0</td>\n",
       "      <td>0.0</td>\n",
       "      <td>0.0</td>\n",
       "      <td>0.0</td>\n",
       "      <td>0.0</td>\n",
       "      <td>0.0</td>\n",
       "      <td>0.0</td>\n",
       "      <td>...</td>\n",
       "      <td>0.0</td>\n",
       "      <td>0.0</td>\n",
       "      <td>0.0</td>\n",
       "      <td>0.0</td>\n",
       "      <td>0.0</td>\n",
       "      <td>0.0</td>\n",
       "      <td>0.0</td>\n",
       "      <td>1.0</td>\n",
       "      <td>0.0</td>\n",
       "      <td>2021-02-09</td>\n",
       "    </tr>\n",
       "    <tr>\n",
       "      <th>11491113</th>\n",
       "      <td>2021-02-09 23:59:58</td>\n",
       "      <td>1.0</td>\n",
       "      <td>0.0</td>\n",
       "      <td>0</td>\n",
       "      <td>0.0</td>\n",
       "      <td>0.0</td>\n",
       "      <td>0.0</td>\n",
       "      <td>0.0</td>\n",
       "      <td>0.0</td>\n",
       "      <td>0.0</td>\n",
       "      <td>...</td>\n",
       "      <td>0.0</td>\n",
       "      <td>0.0</td>\n",
       "      <td>0.0</td>\n",
       "      <td>0.0</td>\n",
       "      <td>0.0</td>\n",
       "      <td>0.0</td>\n",
       "      <td>0.0</td>\n",
       "      <td>1.0</td>\n",
       "      <td>0.0</td>\n",
       "      <td>2021-02-09</td>\n",
       "    </tr>\n",
       "    <tr>\n",
       "      <th>11491114</th>\n",
       "      <td>2021-02-09 23:59:59</td>\n",
       "      <td>1.0</td>\n",
       "      <td>0.0</td>\n",
       "      <td>0</td>\n",
       "      <td>0.0</td>\n",
       "      <td>0.0</td>\n",
       "      <td>0.0</td>\n",
       "      <td>0.0</td>\n",
       "      <td>0.0</td>\n",
       "      <td>0.0</td>\n",
       "      <td>...</td>\n",
       "      <td>0.0</td>\n",
       "      <td>0.0</td>\n",
       "      <td>0.0</td>\n",
       "      <td>0.0</td>\n",
       "      <td>0.0</td>\n",
       "      <td>0.0</td>\n",
       "      <td>0.0</td>\n",
       "      <td>1.0</td>\n",
       "      <td>0.0</td>\n",
       "      <td>2021-02-09</td>\n",
       "    </tr>\n",
       "  </tbody>\n",
       "</table>\n",
       "<p>5 rows × 28 columns</p>\n",
       "</div>"
      ],
      "text/plain": [
       "HenID              Timestamp  hen_10  hen_108  hen_111  hen_112  hen_117  \\\n",
       "11491110 2021-02-09 23:59:55     1.0      0.0        0      0.0      0.0   \n",
       "11491111 2021-02-09 23:59:56     1.0      0.0        0      0.0      0.0   \n",
       "11491112 2021-02-09 23:59:57     1.0      0.0        0      0.0      0.0   \n",
       "11491113 2021-02-09 23:59:58     1.0      0.0        0      0.0      0.0   \n",
       "11491114 2021-02-09 23:59:59     1.0      0.0        0      0.0      0.0   \n",
       "\n",
       "HenID     hen_118  hen_14  hen_165  hen_168  ...  hen_39  hen_6  hen_7  \\\n",
       "11491110      0.0     0.0      0.0      0.0  ...     0.0    0.0    0.0   \n",
       "11491111      0.0     0.0      0.0      0.0  ...     0.0    0.0    0.0   \n",
       "11491112      0.0     0.0      0.0      0.0  ...     0.0    0.0    0.0   \n",
       "11491113      0.0     0.0      0.0      0.0  ...     0.0    0.0    0.0   \n",
       "11491114      0.0     0.0      0.0      0.0  ...     0.0    0.0    0.0   \n",
       "\n",
       "HenID     hen_84  hen_87  hen_9  hen_91  hen_95  hen_99       date  \n",
       "11491110     0.0     0.0    0.0     0.0     1.0     0.0 2021-02-09  \n",
       "11491111     0.0     0.0    0.0     0.0     1.0     0.0 2021-02-09  \n",
       "11491112     0.0     0.0    0.0     0.0     1.0     0.0 2021-02-09  \n",
       "11491113     0.0     0.0    0.0     0.0     1.0     0.0 2021-02-09  \n",
       "11491114     0.0     0.0    0.0     0.0     1.0     0.0 2021-02-09  \n",
       "\n",
       "[5 rows x 28 columns]"
      ]
     },
     "execution_count": 211,
     "metadata": {},
     "output_type": "execute_result"
    }
   ],
   "source": [
    "df_ts_.tail(5)"
   ]
  },
  {
   "cell_type": "code",
   "execution_count": 219,
   "metadata": {},
   "outputs": [
    {
     "name": "stderr",
     "output_type": "stream",
     "text": [
      "C:\\Users\\camil\\anaconda3\\lib\\site-packages\\ipykernel\\ipkernel.py:283: DeprecationWarning: `should_run_async` will not call `transform_cell` automatically in the future. Please pass the result to `transformed_cell` argument and any exception that happen during thetransform in `preprocessing_exc_tuple` in IPython 7.17 and above.\n",
      "  and should_run_async(code)\n"
     ]
    },
    {
     "data": {
      "text/plain": [
       "[Timestamp('2020-09-30 00:01:25'),\n",
       " Timestamp('2020-09-30 00:01:26'),\n",
       " Timestamp('2020-09-30 00:01:27'),\n",
       " Timestamp('2020-09-30 00:01:28'),\n",
       " Timestamp('2020-09-30 00:01:29')]"
      ]
     },
     "execution_count": 219,
     "metadata": {},
     "output_type": "execute_result"
    }
   ],
   "source": [
    "df_ts_['Timestamp'].tolist()[0:5]"
   ]
  },
  {
   "cell_type": "code",
   "execution_count": 224,
   "metadata": {},
   "outputs": [
    {
     "name": "stderr",
     "output_type": "stream",
     "text": [
      "C:\\Users\\camil\\anaconda3\\lib\\site-packages\\ipykernel\\ipkernel.py:283: DeprecationWarning: `should_run_async` will not call `transform_cell` automatically in the future. Please pass the result to `transformed_cell` argument and any exception that happen during thetransform in `preprocessing_exc_tuple` in IPython 7.17 and above.\n",
      "  and should_run_async(code)\n"
     ]
    },
    {
     "data": {
      "text/plain": [
       "[<matplotlib.lines.Line2D at 0x2ae21e52520>]"
      ]
     },
     "execution_count": 224,
     "metadata": {},
     "output_type": "execute_result"
    },
    {
     "data": {
      "image/png": "[encoded data removed]",
      "text/plain": [
       "<Figure size 432x288 with 1 Axes>"
      ]
     },
     "metadata": {
      "needs_background": "light"
     },
     "output_type": "display_data"
    }
   ],
   "source": [
    "plt.plot(df_ts_[henID].tolist()[0:100000])"
   ]
  },
  {
   "cell_type": "markdown",
   "metadata": {},
   "source": [
    "## Accelerometer data"
   ]
  },
  {
   "cell_type": "code",
   "execution_count": 7,
   "metadata": {},
   "outputs": [
    {
     "name": "stderr",
     "output_type": "stream",
     "text": [
      "C:\\Users\\camil\\anaconda3\\lib\\site-packages\\ipykernel\\ipkernel.py:283: DeprecationWarning: `should_run_async` will not call `transform_cell` automatically in the future. Please pass the result to `transformed_cell` argument and any exception that happen during thetransform in `preprocessing_exc_tuple` in IPython 7.17 and above.\n",
      "  and should_run_async(code)\n"
     ]
    },
    {
     "data": {
      "text/html": [
       "<div>\n",
       "<style scoped>\n",
       "    .dataframe tbody tr th:only-of-type {\n",
       "        vertical-align: middle;\n",
       "    }\n",
       "\n",
       "    .dataframe tbody tr th {\n",
       "        vertical-align: top;\n",
       "    }\n",
       "\n",
       "    .dataframe thead th {\n",
       "        text-align: right;\n",
       "    }\n",
       "</style>\n",
       "<table border=\"1\" class=\"dataframe\">\n",
       "  <thead>\n",
       "    <tr style=\"text-align: right;\">\n",
       "      <th></th>\n",
       "      <th>level</th>\n",
       "      <th>HenID</th>\n",
       "      <th>list_of_MovementCounter_day</th>\n",
       "    </tr>\n",
       "  </thead>\n",
       "  <tbody>\n",
       "    <tr>\n",
       "      <th>27209</th>\n",
       "      <td>2021-02-24</td>\n",
       "      <td>hen_99</td>\n",
       "      <td>[9.0, 46.0, 55.0, 82.0, 63.0, 83.0, 72.0, 87.0...</td>\n",
       "    </tr>\n",
       "    <tr>\n",
       "      <th>27210</th>\n",
       "      <td>2021-02-25</td>\n",
       "      <td>hen_99</td>\n",
       "      <td>[54.0, 77.0, 79.0, 78.0, 81.0, 50.0, 81.0, 69....</td>\n",
       "    </tr>\n",
       "    <tr>\n",
       "      <th>27211</th>\n",
       "      <td>2021-02-26</td>\n",
       "      <td>hen_99</td>\n",
       "      <td>[3.0, 37.0, 73.0, 76.0, 55.0, 72.0, 74.0, 83.0...</td>\n",
       "    </tr>\n",
       "    <tr>\n",
       "      <th>27212</th>\n",
       "      <td>2021-02-27</td>\n",
       "      <td>hen_99</td>\n",
       "      <td>[17.0, 67.0, 75.0, 78.0, 72.0, 79.0, 80.0, 56....</td>\n",
       "    </tr>\n",
       "    <tr>\n",
       "      <th>27213</th>\n",
       "      <td>2021-02-28</td>\n",
       "      <td>hen_99</td>\n",
       "      <td>[14.0, 85.0, 83.0, 79.0, 57.0, 54.0, 46.0, 30....</td>\n",
       "    </tr>\n",
       "  </tbody>\n",
       "</table>\n",
       "</div>"
      ],
      "text/plain": [
       "           level   HenID                        list_of_MovementCounter_day\n",
       "27209 2021-02-24  hen_99  [9.0, 46.0, 55.0, 82.0, 63.0, 83.0, 72.0, 87.0...\n",
       "27210 2021-02-25  hen_99  [54.0, 77.0, 79.0, 78.0, 81.0, 50.0, 81.0, 69....\n",
       "27211 2021-02-26  hen_99  [3.0, 37.0, 73.0, 76.0, 55.0, 72.0, 74.0, 83.0...\n",
       "27212 2021-02-27  hen_99  [17.0, 67.0, 75.0, 78.0, 72.0, 79.0, 80.0, 56....\n",
       "27213 2021-02-28  hen_99  [14.0, 85.0, 83.0, 79.0, 57.0, 54.0, 46.0, 30...."
      ]
     },
     "execution_count": 7,
     "metadata": {},
     "output_type": "execute_result"
    }
   ],
   "source": [
    "li_acc = ['len_MovementCounter_day',\n",
    " 'MovementCounter_day_amount_nnactivity',\n",
    " 'MovementCounter_day_max',\n",
    " 'MovementCounter_day_mean']\n",
    "df_daily[['level','HenID','list_of_MovementCounter_day']].tail(5)"
   ]
  },
  {
   "cell_type": "code",
   "execution_count": 8,
   "metadata": {},
   "outputs": [
    {
     "name": "stderr",
     "output_type": "stream",
     "text": [
      "C:\\Users\\camil\\anaconda3\\lib\\site-packages\\ipykernel\\ipkernel.py:283: DeprecationWarning: `should_run_async` will not call `transform_cell` automatically in the future. Please pass the result to `transformed_cell` argument and any exception that happen during thetransform in `preprocessing_exc_tuple` in IPython 7.17 and above.\n",
      "  and should_run_async(code)\n"
     ]
    }
   ],
   "source": [
    "#add sum of mvt!!! vertical mvt & total mvt!"
   ]
  },
  {
   "cell_type": "code",
   "execution_count": 9,
   "metadata": {},
   "outputs": [
    {
     "name": "stderr",
     "output_type": "stream",
     "text": [
      "C:\\Users\\camil\\anaconda3\\lib\\site-packages\\ipykernel\\ipkernel.py:283: DeprecationWarning: `should_run_async` will not call `transform_cell` automatically in the future. Please pass the result to `transformed_cell` argument and any exception that happen during thetransform in `preprocessing_exc_tuple` in IPython 7.17 and above.\n",
      "  and should_run_async(code)\n"
     ]
    },
    {
     "data": {
      "image/png": "[encoded data removed]",
      "text/plain": [
       "<Figure size 1440x432 with 1 Axes>"
      ]
     },
     "metadata": {
      "needs_background": "light"
     },
     "output_type": "display_data"
    },
    {
     "data": {
      "image/png": "[encoded data removed]",
      "text/plain": [
       "<Figure size 1440x432 with 1 Axes>"
      ]
     },
     "metadata": {
      "needs_background": "light"
     },
     "output_type": "display_data"
    },
    {
     "data": {
      "image/png": "[encoded data removed]",
      "text/plain": [
       "<Figure size 1440x432 with 1 Axes>"
      ]
     },
     "metadata": {
      "needs_background": "light"
     },
     "output_type": "display_data"
    }
   ],
   "source": [
    "for v in ['MovementCounter_day_amount_nnactivity','MovementCounter_day_mean', 'MovementCounter_day_max']:\n",
    "    df_order = df_daily.groupby(['HenID'])[v].agg(lambda x: np.mean(x)).reset_index()\n",
    "    li_hen_order = df_order.sort_values([v])['HenID'].tolist()\n",
    "    df_plt = df_daily.copy()\n",
    "    df_plt['hen_order'] = df_plt['HenID'].map(lambda x: li_hen_order.index(x))\n",
    "    df_plt = df_plt.sort_values(['hen_order'])\n",
    "    plt.figure(figsize = (20, 6))\n",
    "    sns.boxplot(x='HenID',y=v,data=df_plt);\n",
    "    plt.title(v);"
   ]
  },
  {
   "cell_type": "code",
   "execution_count": null,
   "metadata": {},
   "outputs": [],
   "source": []
  },
  {
   "cell_type": "code",
   "execution_count": null,
   "metadata": {},
   "outputs": [],
   "source": []
  },
  {
   "cell_type": "code",
   "execution_count": null,
   "metadata": {},
   "outputs": [],
   "source": []
  },
  {
   "cell_type": "code",
   "execution_count": null,
   "metadata": {},
   "outputs": [],
   "source": []
  }
 ],
 "metadata": {
  "kernelspec": {
   "display_name": "Python 3",
   "language": "python",
   "name": "python3"
  },
  "language_info": {
   "codemirror_mode": {
    "name": "ipython",
    "version": 3
   },
   "file_extension": ".py",
   "mimetype": "text/x-python",
   "name": "python",
   "nbconvert_exporter": "python",
   "pygments_lexer": "ipython3",
   "version": "3.8.5"
  }
 },
 "nbformat": 4,
 "nbformat_minor": 2
}
