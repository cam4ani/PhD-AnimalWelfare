{
 "cells": [
  {
   "cell_type": "code",
   "execution_count": 1,
   "metadata": {},
   "outputs": [],
   "source": [
    "#basic package\n",
    "import tqdm\n",
    "import os\n",
    "import numpy as np\n",
    "import glob\n",
    "import pandas as pd\n",
    "import sys\n",
    "import time\n",
    "import datetime as dt\n",
    "import itertools\n",
    "import re\n",
    "import math\n",
    "from collections import Counter\n",
    "import operator\n",
    "from scipy import stats\n",
    "from numpy import inf\n",
    "import networkx as nx\n",
    "\n",
    "#scaling\n",
    "from sklearn.preprocessing import StandardScaler, MinMaxScaler\n",
    "\n",
    "#PCA\n",
    "from sklearn import decomposition\n",
    "\n",
    "#clustering\n",
    "from sklearn.cluster import KMeans #only numerical var\n",
    "from sklearn.metrics import silhouette_samples, silhouette_score\n",
    "import kmodes\n",
    "from kmodes.kmodes import KModes #with categorical var as well\n",
    "\n",
    "#plot\n",
    "import matplotlib.pyplot as plt\n",
    "import seaborn as sns\n",
    "from mpl_toolkits.mplot3d import Axes3D"
   ]
  },
  {
   "cell_type": "code",
   "execution_count": 2,
   "metadata": {},
   "outputs": [
    {
     "name": "stderr",
     "output_type": "stream",
     "text": [
      "C:\\Users\\camil\\anaconda3\\lib\\site-packages\\scipy\\sparse\\sparsetools.py:21: DeprecationWarning: `scipy.sparse.sparsetools` is deprecated!\n",
      "scipy.sparse.sparsetools is a private module for scipy.sparse, and should not be used.\n",
      "  _deprecated()\n"
     ]
    }
   ],
   "source": [
    "PACKAGE_PARENT = '../'\n",
    "SCRIPT_DIR = os.path.dirname(os.path.realpath(os.path.join(os.getcwd(), os.path.expanduser('__file__'))))\n",
    "sys.path.append(os.path.normpath(os.path.join(SCRIPT_DIR, PACKAGE_PARENT)))\n",
    "from UTILS import kmeans_clustering, ZoneVariable, time_series_henColumn_tsRow, FB_daily, corr_from_dep2feature,\\\n",
    "corr_from_feature2feature, correlationGraph, ZoneVariable, DataRepresentation1, sampen, chi2_distance\n",
    "import config_origins as config"
   ]
  },
  {
   "cell_type": "markdown",
   "metadata": {},
   "source": [
    "# Define parameters"
   ]
  },
  {
   "cell_type": "code",
   "execution_count": 3,
   "metadata": {
    "scrolled": true
   },
   "outputs": [
    {
     "name": "stdout",
     "output_type": "stream",
     "text": [
      "change the configuration file if not done yet!\n"
     ]
    },
    {
     "name": "stderr",
     "output_type": "stream",
     "text": [
      "C:\\Users\\camil\\anaconda3\\lib\\site-packages\\ipykernel\\ipkernel.py:283: DeprecationWarning: `should_run_async` will not call `transform_cell` automatically in the future. Please pass the result to `transformed_cell` argument and any exception that happen during thetransform in `preprocessing_exc_tuple` in IPython 7.17 and above.\n",
      "  and should_run_async(code)\n"
     ]
    }
   ],
   "source": [
    "print('change the configuration file if not done yet!')\n",
    "path_extracted_data = config.path_extracted_data\n",
    "path_initial_data = config.path_initial_data\n",
    "id_run = config.id_run\n",
    "dico_matching = config.dico_matching\n",
    "dico_garden_opening_hour = config.dico_garden_opening_hour\n",
    "pal_class_treat = config.pal_class_treat\n",
    "pal_treat = config.pal_treat\n",
    "pal_class = config.pal_class\n",
    "pal_interintre_treatment = config.pal_interintre_treatment\n",
    "path_cluster = os.path.join(path_extracted_data,'clustering')\n",
    "#create a director if not existing\n",
    "if not os.path.exists(path_cluster):\n",
    "    os.makedirs(path_cluster)\n",
    "path_extracted_data_visual = os.path.join(path_extracted_data,'visual')\n",
    "#create a director if not existing\n",
    "if not os.path.exists(path_extracted_data_visual):\n",
    "    os.makedirs(path_extracted_data_visual)\n",
    "path_extracted_data_visual_corr = os.path.join(path_extracted_data,'visual','correlation')\n",
    "#create a director if not existing\n",
    "if not os.path.exists(path_extracted_data_visual_corr):\n",
    "    os.makedirs(path_extracted_data_visual_corr)\n",
    "    \n",
    "path_extracted_data_visual_treatmentclass = os.path.join(path_extracted_data,'visual','Treatment&Classs')\n",
    "#create a director if not existing\n",
    "if not os.path.exists(path_extracted_data_visual_treatmentclass):\n",
    "    os.makedirs(path_extracted_data_visual_treatmentclass)"
   ]
  },
  {
   "cell_type": "markdown",
   "metadata": {},
   "source": [
    "# Download variables"
   ]
  },
  {
   "cell_type": "markdown",
   "metadata": {},
   "source": [
    "#for being more reproductible, we open the file that was saved from cleaning\n",
    "df_daily = pd.read_csv(os.path.join(path_extracted_data, id_run+'_daily_ALL_variables.csv'), sep=';', \n",
    "                 parse_dates=['level', 'FirstTimestamp_1_Zone', 'FirstTimestamp_2_Zone', 'FirstTimestamp_3_Zone',\n",
    "                              'FirstTimestamp_4_Zone', 'FirstTimestamp_5_Zone', \n",
    "                              'Nestbox_time_of_first_staid_longer_than900sec',\n",
    "                              'duration_last-firsttransition_mn']) \n",
    "#TODO: remove the duraiton transiotnation!! adn form the parse_dates to!!!!!\n",
    "#df_daily['duration_last-firsttransition_mn'] = df_daily['duration_last-firsttransition_mn'].map(lambda x: round(x.hour*60+x.minute+x.second/60,0))\n",
    "#remove last day\n",
    "df_daily = df_daily[~df_daily['level'].isin([max(df_daily['level'].unique())])]\n",
    "#add DOA, WOA\n",
    "#x = day of age, y_i = % of birds that have same cluster ID as i day(s) before\n",
    "df_daily['DOA'] = df_daily['level'].map(lambda x: (x-dt.datetime(2020,6,3)).days) \n",
    "df_daily['WOA'] = df_daily['DOA'].map(lambda x: math.ceil(x/7))\n",
    "display(df_daily[['level','DOA','WOA']].tail(3))\n",
    "print(df_daily.shape)\n",
    "df_daily.head(3)"
   ]
  },
  {
   "cell_type": "code",
   "execution_count": 4,
   "metadata": {},
   "outputs": [
    {
     "name": "stderr",
     "output_type": "stream",
     "text": [
      "C:\\Users\\camil\\anaconda3\\lib\\site-packages\\ipykernel\\ipkernel.py:283: DeprecationWarning: `should_run_async` will not call `transform_cell` automatically in the future. Please pass the result to `transformed_cell` argument and any exception that happen during thetransform in `preprocessing_exc_tuple` in IPython 7.17 and above.\n",
      "  and should_run_async(code)\n"
     ]
    },
    {
     "data": {
      "text/html": [
       "<div>\n",
       "<style scoped>\n",
       "    .dataframe tbody tr th:only-of-type {\n",
       "        vertical-align: middle;\n",
       "    }\n",
       "\n",
       "    .dataframe tbody tr th {\n",
       "        vertical-align: top;\n",
       "    }\n",
       "\n",
       "    .dataframe thead th {\n",
       "        text-align: right;\n",
       "    }\n",
       "</style>\n",
       "<table border=\"1\" class=\"dataframe\">\n",
       "  <thead>\n",
       "    <tr style=\"text-align: right;\">\n",
       "      <th></th>\n",
       "      <th>level</th>\n",
       "      <th>DOA</th>\n",
       "      <th>WOA</th>\n",
       "    </tr>\n",
       "  </thead>\n",
       "  <tbody>\n",
       "    <tr>\n",
       "      <th>27201</th>\n",
       "      <td>2021-02-26</td>\n",
       "      <td>268</td>\n",
       "      <td>39</td>\n",
       "    </tr>\n",
       "    <tr>\n",
       "      <th>27202</th>\n",
       "      <td>2021-02-27</td>\n",
       "      <td>269</td>\n",
       "      <td>39</td>\n",
       "    </tr>\n",
       "    <tr>\n",
       "      <th>27203</th>\n",
       "      <td>2021-02-28</td>\n",
       "      <td>270</td>\n",
       "      <td>39</td>\n",
       "    </tr>\n",
       "  </tbody>\n",
       "</table>\n",
       "</div>"
      ],
      "text/plain": [
       "           level  DOA  WOA\n",
       "27201 2021-02-26  268   39\n",
       "27202 2021-02-27  269   39\n",
       "27203 2021-02-28  270   39"
      ]
     },
     "metadata": {},
     "output_type": "display_data"
    },
    {
     "name": "stdout",
     "output_type": "stream",
     "text": [
      "(27204, 196)\n"
     ]
    },
    {
     "data": {
      "text/html": [
       "<div>\n",
       "<style scoped>\n",
       "    .dataframe tbody tr th:only-of-type {\n",
       "        vertical-align: middle;\n",
       "    }\n",
       "\n",
       "    .dataframe tbody tr th {\n",
       "        vertical-align: top;\n",
       "    }\n",
       "\n",
       "    .dataframe thead th {\n",
       "        text-align: right;\n",
       "    }\n",
       "</style>\n",
       "<table border=\"1\" class=\"dataframe\">\n",
       "  <thead>\n",
       "    <tr style=\"text-align: right;\">\n",
       "      <th></th>\n",
       "      <th>HenID</th>\n",
       "      <th>level</th>\n",
       "      <th>duration_1_Zone</th>\n",
       "      <th>duration_2_Zone</th>\n",
       "      <th>duration_3_Zone</th>\n",
       "      <th>duration_4_Zone</th>\n",
       "      <th>duration_5_Zone</th>\n",
       "      <th>verification_daily_total_duration</th>\n",
       "      <th>dur_values</th>\n",
       "      <th>dur_values_normalized</th>\n",
       "      <th>...</th>\n",
       "      <th>clustering_WG</th>\n",
       "      <th>PC0</th>\n",
       "      <th>PC1</th>\n",
       "      <th>PC2</th>\n",
       "      <th>PC3</th>\n",
       "      <th>PC4</th>\n",
       "      <th>PC5</th>\n",
       "      <th>PC6</th>\n",
       "      <th>PC7</th>\n",
       "      <th>clustering_ALL</th>\n",
       "    </tr>\n",
       "  </thead>\n",
       "  <tbody>\n",
       "    <tr>\n",
       "      <th>0</th>\n",
       "      <td>hen_1</td>\n",
       "      <td>2020-09-29</td>\n",
       "      <td>NaN</td>\n",
       "      <td>NaN</td>\n",
       "      <td>NaN</td>\n",
       "      <td>NaN</td>\n",
       "      <td>NaN</td>\n",
       "      <td>NaN</td>\n",
       "      <td>NaN</td>\n",
       "      <td>[nan, nan, nan, nan, nan]</td>\n",
       "      <td>...</td>\n",
       "      <td>NaN</td>\n",
       "      <td>NaN</td>\n",
       "      <td>NaN</td>\n",
       "      <td>NaN</td>\n",
       "      <td>NaN</td>\n",
       "      <td>NaN</td>\n",
       "      <td>NaN</td>\n",
       "      <td>NaN</td>\n",
       "      <td>NaN</td>\n",
       "      <td>NaN</td>\n",
       "    </tr>\n",
       "    <tr>\n",
       "      <th>1</th>\n",
       "      <td>hen_1</td>\n",
       "      <td>2020-09-30</td>\n",
       "      <td>0.0</td>\n",
       "      <td>18886.0</td>\n",
       "      <td>3488.0</td>\n",
       "      <td>518.0</td>\n",
       "      <td>5908.0</td>\n",
       "      <td>28800.0</td>\n",
       "      <td>[0.0, 18886.0, 3488.0, 518.0, 5908.0]</td>\n",
       "      <td>[0.0, 0.6557638888888889, 0.12111111111111111,...</td>\n",
       "      <td>...</td>\n",
       "      <td>0.0</td>\n",
       "      <td>NaN</td>\n",
       "      <td>NaN</td>\n",
       "      <td>NaN</td>\n",
       "      <td>NaN</td>\n",
       "      <td>NaN</td>\n",
       "      <td>NaN</td>\n",
       "      <td>NaN</td>\n",
       "      <td>NaN</td>\n",
       "      <td>NaN</td>\n",
       "    </tr>\n",
       "    <tr>\n",
       "      <th>2</th>\n",
       "      <td>hen_1</td>\n",
       "      <td>2020-10-01</td>\n",
       "      <td>0.0</td>\n",
       "      <td>9310.0</td>\n",
       "      <td>5636.0</td>\n",
       "      <td>0.0</td>\n",
       "      <td>17454.0</td>\n",
       "      <td>32400.0</td>\n",
       "      <td>[0.0, 9310.0, 5636.0, 0.0, 17454.0]</td>\n",
       "      <td>[0.0, 0.2873456790123457, 0.17395061728395061,...</td>\n",
       "      <td>...</td>\n",
       "      <td>0.0</td>\n",
       "      <td>NaN</td>\n",
       "      <td>NaN</td>\n",
       "      <td>NaN</td>\n",
       "      <td>NaN</td>\n",
       "      <td>NaN</td>\n",
       "      <td>NaN</td>\n",
       "      <td>NaN</td>\n",
       "      <td>NaN</td>\n",
       "      <td>NaN</td>\n",
       "    </tr>\n",
       "  </tbody>\n",
       "</table>\n",
       "<p>3 rows × 196 columns</p>\n",
       "</div>"
      ],
      "text/plain": [
       "   HenID      level  duration_1_Zone  duration_2_Zone  duration_3_Zone  \\\n",
       "0  hen_1 2020-09-29              NaN              NaN              NaN   \n",
       "1  hen_1 2020-09-30              0.0          18886.0           3488.0   \n",
       "2  hen_1 2020-10-01              0.0           9310.0           5636.0   \n",
       "\n",
       "   duration_4_Zone  duration_5_Zone  verification_daily_total_duration  \\\n",
       "0              NaN              NaN                                NaN   \n",
       "1            518.0           5908.0                            28800.0   \n",
       "2              0.0          17454.0                            32400.0   \n",
       "\n",
       "                              dur_values  \\\n",
       "0                                    NaN   \n",
       "1  [0.0, 18886.0, 3488.0, 518.0, 5908.0]   \n",
       "2    [0.0, 9310.0, 5636.0, 0.0, 17454.0]   \n",
       "\n",
       "                               dur_values_normalized  ... clustering_WG PC0  \\\n",
       "0                          [nan, nan, nan, nan, nan]  ...           NaN NaN   \n",
       "1  [0.0, 0.6557638888888889, 0.12111111111111111,...  ...           0.0 NaN   \n",
       "2  [0.0, 0.2873456790123457, 0.17395061728395061,...  ...           0.0 NaN   \n",
       "\n",
       "  PC1 PC2 PC3  PC4 PC5 PC6 PC7 clustering_ALL  \n",
       "0 NaN NaN NaN  NaN NaN NaN NaN            NaN  \n",
       "1 NaN NaN NaN  NaN NaN NaN NaN            NaN  \n",
       "2 NaN NaN NaN  NaN NaN NaN NaN            NaN  \n",
       "\n",
       "[3 rows x 196 columns]"
      ]
     },
     "execution_count": 4,
     "metadata": {},
     "output_type": "execute_result"
    }
   ],
   "source": [
    "#for being more reproductible, we open the file that was saved from cleaning\n",
    "df_daily = pd.read_csv(os.path.join(path_extracted_data, 'daily_ALL_Variable_Tranformed.csv'), sep=';',\n",
    "                     parse_dates=['level'], dayfirst=True) \n",
    "df_daily['DOA'] = df_daily['level'].map(lambda x: (x-dt.datetime(2020,6,3)).days) \n",
    "df_daily['WOA'] = df_daily['DOA'].map(lambda x: math.ceil(x/7))\n",
    "display(df_daily[['level','DOA','WOA']].tail(3))\n",
    "print(df_daily.shape)\n",
    "df_daily.head(3)"
   ]
  },
  {
   "cell_type": "code",
   "execution_count": 5,
   "metadata": {},
   "outputs": [
    {
     "name": "stderr",
     "output_type": "stream",
     "text": [
      "C:\\Users\\camil\\anaconda3\\lib\\site-packages\\ipykernel\\ipkernel.py:283: DeprecationWarning: `should_run_async` will not call `transform_cell` automatically in the future. Please pass the result to `transformed_cell` argument and any exception that happen during thetransform in `preprocessing_exc_tuple` in IPython 7.17 and above.\n",
      "  and should_run_async(code)\n"
     ]
    }
   ],
   "source": [
    "#remove last day\n",
    "df_daily = df_daily[~df_daily['level'].isin([max(df_daily['level'].unique())])]"
   ]
  },
  {
   "cell_type": "code",
   "execution_count": 6,
   "metadata": {},
   "outputs": [
    {
     "name": "stderr",
     "output_type": "stream",
     "text": [
      "C:\\Users\\camil\\anaconda3\\lib\\site-packages\\ipykernel\\ipkernel.py:283: DeprecationWarning: `should_run_async` will not call `transform_cell` automatically in the future. Please pass the result to `transformed_cell` argument and any exception that happen during thetransform in `preprocessing_exc_tuple` in IPython 7.17 and above.\n",
      "  and should_run_async(code)\n"
     ]
    }
   ],
   "source": [
    "#list(df_daily.columns)"
   ]
  },
  {
   "cell_type": "code",
   "execution_count": 7,
   "metadata": {},
   "outputs": [
    {
     "name": "stderr",
     "output_type": "stream",
     "text": [
      "C:\\Users\\camil\\anaconda3\\lib\\site-packages\\ipykernel\\ipkernel.py:283: DeprecationWarning: `should_run_async` will not call `transform_cell` automatically in the future. Please pass the result to `transformed_cell` argument and any exception that happen during thetransform in `preprocessing_exc_tuple` in IPython 7.17 and above.\n",
      "  and should_run_async(code)\n"
     ]
    }
   ],
   "source": [
    "#OK :)\n",
    "#df_daily[['HenID','level','dur_values','dur_values_normalized','perc_duration_1_Zone', 'perc_duration_2_Zone',\n",
    "# 'perc_duration_3_Zone', 'perc_duration_4_Zone', 'perc_duration_5_Zone']]"
   ]
  },
  {
   "cell_type": "markdown",
   "metadata": {},
   "source": [
    "# Data representation 1"
   ]
  },
  {
   "cell_type": "markdown",
   "metadata": {},
   "source": [
    "#choose a subset of the data if we want\n",
    "#todo\n",
    "x = DataRepresentation1(df_daily, config)"
   ]
  },
  {
   "cell_type": "markdown",
   "metadata": {},
   "source": [
    "x = eval(df_daily['list_of_durations'].iloc[100])\n",
    "print(len(x))\n",
    "print(x[0:10])\n",
    "sampen(L=x)"
   ]
  },
  {
   "cell_type": "code",
   "execution_count": 8,
   "metadata": {},
   "outputs": [
    {
     "name": "stderr",
     "output_type": "stream",
     "text": [
      "C:\\Users\\camil\\anaconda3\\lib\\site-packages\\ipykernel\\ipkernel.py:283: DeprecationWarning: `should_run_async` will not call `transform_cell` automatically in the future. Please pass the result to `transformed_cell` argument and any exception that happen during thetransform in `preprocessing_exc_tuple` in IPython 7.17 and above.\n",
      "  and should_run_async(code)\n"
     ]
    }
   ],
   "source": [
    "#df_daily[['HenID','level','list_of_zones','list_of_durations']].iloc[2360:2370]"
   ]
  },
  {
   "cell_type": "markdown",
   "metadata": {},
   "source": [
    "# Weight"
   ]
  },
  {
   "cell_type": "code",
   "execution_count": 9,
   "metadata": {},
   "outputs": [
    {
     "name": "stderr",
     "output_type": "stream",
     "text": [
      "C:\\Users\\camil\\anaconda3\\lib\\site-packages\\ipykernel\\ipkernel.py:283: DeprecationWarning: `should_run_async` will not call `transform_cell` automatically in the future. Please pass the result to `transformed_cell` argument and any exception that happen during thetransform in `preprocessing_exc_tuple` in IPython 7.17 and above.\n",
      "  and should_run_async(code)\n"
     ]
    },
    {
     "data": {
      "text/plain": [
       "['29-09 weight',\n",
       " '10-12 juin weight',\n",
       " 'weight 23-11-2020',\n",
       " 'weight 04-01-2021',\n",
       " 'weight 01-02-21',\n",
       " 'weight_DOA37-39_div_DOA118',\n",
       " 'weight_DOA37-39_div_DOA243',\n",
       " 'weight_DOA118_div_DOA173',\n",
       " 'weight_DOA118_div_DOA243',\n",
       " 'weight_DOA173_div_DOA243']"
      ]
     },
     "execution_count": 9,
     "metadata": {},
     "output_type": "execute_result"
    }
   ],
   "source": [
    "li_weight = [x for x in df_daily.columns if 'weight' in x]\n",
    "li_weight"
   ]
  },
  {
   "cell_type": "code",
   "execution_count": 10,
   "metadata": {
    "scrolled": true
   },
   "outputs": [
    {
     "name": "stdout",
     "output_type": "stream",
     "text": [
      "(26994, 3)\n",
      "(212, 3)\n",
      "(159, 3)\n"
     ]
    },
    {
     "name": "stderr",
     "output_type": "stream",
     "text": [
      "C:\\Users\\camil\\anaconda3\\lib\\site-packages\\ipykernel\\ipkernel.py:283: DeprecationWarning: `should_run_async` will not call `transform_cell` automatically in the future. Please pass the result to `transformed_cell` argument and any exception that happen during thetransform in `preprocessing_exc_tuple` in IPython 7.17 and above.\n",
      "  and should_run_async(code)\n"
     ]
    },
    {
     "data": {
      "text/html": [
       "<div>\n",
       "<style scoped>\n",
       "    .dataframe tbody tr th:only-of-type {\n",
       "        vertical-align: middle;\n",
       "    }\n",
       "\n",
       "    .dataframe tbody tr th {\n",
       "        vertical-align: top;\n",
       "    }\n",
       "\n",
       "    .dataframe thead th {\n",
       "        text-align: right;\n",
       "    }\n",
       "</style>\n",
       "<table border=\"1\" class=\"dataframe\">\n",
       "  <thead>\n",
       "    <tr style=\"text-align: right;\">\n",
       "      <th></th>\n",
       "      <th>HenID</th>\n",
       "      <th>Treatment</th>\n",
       "      <th>29-09 weight</th>\n",
       "    </tr>\n",
       "  </thead>\n",
       "  <tbody>\n",
       "    <tr>\n",
       "      <th>0</th>\n",
       "      <td>hen_1</td>\n",
       "      <td>OFH</td>\n",
       "      <td>1134.0</td>\n",
       "    </tr>\n",
       "    <tr>\n",
       "      <th>147</th>\n",
       "      <td>hen_10</td>\n",
       "      <td>OFH</td>\n",
       "      <td>1070.0</td>\n",
       "    </tr>\n",
       "    <tr>\n",
       "      <th>292</th>\n",
       "      <td>hen_100</td>\n",
       "      <td>OFH</td>\n",
       "      <td>1182.0</td>\n",
       "    </tr>\n",
       "  </tbody>\n",
       "</table>\n",
       "</div>"
      ],
      "text/plain": [
       "       HenID Treatment  29-09 weight\n",
       "0      hen_1       OFH        1134.0\n",
       "147   hen_10       OFH        1070.0\n",
       "292  hen_100       OFH        1182.0"
      ]
     },
     "metadata": {},
     "output_type": "display_data"
    },
    {
     "name": "stdout",
     "output_type": "stream",
     "text": [
      "t = 1.9978463581037411\n",
      "p = 0.04746040105015063\n"
     ]
    },
    {
     "data": {
      "image/png": "[encoded data removed]",
      "text/plain": [
       "<Figure size 432x288 with 1 Axes>"
      ]
     },
     "metadata": {
      "needs_background": "light"
     },
     "output_type": "display_data"
    },
    {
     "name": "stdout",
     "output_type": "stream",
     "text": [
      "(26994, 3)\n",
      "(212, 3)\n",
      "(131, 3)\n"
     ]
    },
    {
     "data": {
      "text/html": [
       "<div>\n",
       "<style scoped>\n",
       "    .dataframe tbody tr th:only-of-type {\n",
       "        vertical-align: middle;\n",
       "    }\n",
       "\n",
       "    .dataframe tbody tr th {\n",
       "        vertical-align: top;\n",
       "    }\n",
       "\n",
       "    .dataframe thead th {\n",
       "        text-align: right;\n",
       "    }\n",
       "</style>\n",
       "<table border=\"1\" class=\"dataframe\">\n",
       "  <thead>\n",
       "    <tr style=\"text-align: right;\">\n",
       "      <th></th>\n",
       "      <th>HenID</th>\n",
       "      <th>Treatment</th>\n",
       "      <th>10-12 juin weight</th>\n",
       "    </tr>\n",
       "  </thead>\n",
       "  <tbody>\n",
       "    <tr>\n",
       "      <th>0</th>\n",
       "      <td>hen_1</td>\n",
       "      <td>OFH</td>\n",
       "      <td>57.0</td>\n",
       "    </tr>\n",
       "    <tr>\n",
       "      <th>147</th>\n",
       "      <td>hen_10</td>\n",
       "      <td>OFH</td>\n",
       "      <td>70.4</td>\n",
       "    </tr>\n",
       "    <tr>\n",
       "      <th>292</th>\n",
       "      <td>hen_100</td>\n",
       "      <td>OFH</td>\n",
       "      <td>80.5</td>\n",
       "    </tr>\n",
       "  </tbody>\n",
       "</table>\n",
       "</div>"
      ],
      "text/plain": [
       "       HenID Treatment  10-12 juin weight\n",
       "0      hen_1       OFH               57.0\n",
       "147   hen_10       OFH               70.4\n",
       "292  hen_100       OFH               80.5"
      ]
     },
     "metadata": {},
     "output_type": "display_data"
    },
    {
     "name": "stdout",
     "output_type": "stream",
     "text": [
      "t = 1.3420254975256471\n",
      "p = 0.18194504024355443\n"
     ]
    },
    {
     "data": {
      "image/png": "[encoded data removed]",
      "text/plain": [
       "<Figure size 432x288 with 1 Axes>"
      ]
     },
     "metadata": {
      "needs_background": "light"
     },
     "output_type": "display_data"
    },
    {
     "name": "stdout",
     "output_type": "stream",
     "text": [
      "(26994, 3)\n",
      "(212, 3)\n",
      "(176, 3)\n"
     ]
    },
    {
     "data": {
      "text/html": [
       "<div>\n",
       "<style scoped>\n",
       "    .dataframe tbody tr th:only-of-type {\n",
       "        vertical-align: middle;\n",
       "    }\n",
       "\n",
       "    .dataframe tbody tr th {\n",
       "        vertical-align: top;\n",
       "    }\n",
       "\n",
       "    .dataframe thead th {\n",
       "        text-align: right;\n",
       "    }\n",
       "</style>\n",
       "<table border=\"1\" class=\"dataframe\">\n",
       "  <thead>\n",
       "    <tr style=\"text-align: right;\">\n",
       "      <th></th>\n",
       "      <th>HenID</th>\n",
       "      <th>Treatment</th>\n",
       "      <th>weight 23-11-2020</th>\n",
       "    </tr>\n",
       "  </thead>\n",
       "  <tbody>\n",
       "    <tr>\n",
       "      <th>0</th>\n",
       "      <td>hen_1</td>\n",
       "      <td>OFH</td>\n",
       "      <td>1696.5</td>\n",
       "    </tr>\n",
       "    <tr>\n",
       "      <th>147</th>\n",
       "      <td>hen_10</td>\n",
       "      <td>OFH</td>\n",
       "      <td>1488.3</td>\n",
       "    </tr>\n",
       "    <tr>\n",
       "      <th>292</th>\n",
       "      <td>hen_100</td>\n",
       "      <td>OFH</td>\n",
       "      <td>1642.5</td>\n",
       "    </tr>\n",
       "  </tbody>\n",
       "</table>\n",
       "</div>"
      ],
      "text/plain": [
       "       HenID Treatment  weight 23-11-2020\n",
       "0      hen_1       OFH             1696.5\n",
       "147   hen_10       OFH             1488.3\n",
       "292  hen_100       OFH             1642.5"
      ]
     },
     "metadata": {},
     "output_type": "display_data"
    },
    {
     "name": "stdout",
     "output_type": "stream",
     "text": [
      "t = 1.2908355426813136\n",
      "p = 0.1984731719987154\n"
     ]
    },
    {
     "data": {
      "image/png": "[encoded data removed]",
      "text/plain": [
       "<Figure size 432x288 with 1 Axes>"
      ]
     },
     "metadata": {
      "needs_background": "light"
     },
     "output_type": "display_data"
    },
    {
     "name": "stdout",
     "output_type": "stream",
     "text": [
      "(26994, 3)\n",
      "(212, 3)\n",
      "(140, 3)\n"
     ]
    },
    {
     "data": {
      "text/html": [
       "<div>\n",
       "<style scoped>\n",
       "    .dataframe tbody tr th:only-of-type {\n",
       "        vertical-align: middle;\n",
       "    }\n",
       "\n",
       "    .dataframe tbody tr th {\n",
       "        vertical-align: top;\n",
       "    }\n",
       "\n",
       "    .dataframe thead th {\n",
       "        text-align: right;\n",
       "    }\n",
       "</style>\n",
       "<table border=\"1\" class=\"dataframe\">\n",
       "  <thead>\n",
       "    <tr style=\"text-align: right;\">\n",
       "      <th></th>\n",
       "      <th>HenID</th>\n",
       "      <th>Treatment</th>\n",
       "      <th>weight 04-01-2021</th>\n",
       "    </tr>\n",
       "  </thead>\n",
       "  <tbody>\n",
       "    <tr>\n",
       "      <th>0</th>\n",
       "      <td>hen_1</td>\n",
       "      <td>OFH</td>\n",
       "      <td>1787.8</td>\n",
       "    </tr>\n",
       "    <tr>\n",
       "      <th>147</th>\n",
       "      <td>hen_10</td>\n",
       "      <td>OFH</td>\n",
       "      <td>1628.4</td>\n",
       "    </tr>\n",
       "    <tr>\n",
       "      <th>413</th>\n",
       "      <td>hen_101</td>\n",
       "      <td>OFH</td>\n",
       "      <td>1751.1</td>\n",
       "    </tr>\n",
       "  </tbody>\n",
       "</table>\n",
       "</div>"
      ],
      "text/plain": [
       "       HenID Treatment  weight 04-01-2021\n",
       "0      hen_1       OFH             1787.8\n",
       "147   hen_10       OFH             1628.4\n",
       "413  hen_101       OFH             1751.1"
      ]
     },
     "metadata": {},
     "output_type": "display_data"
    },
    {
     "name": "stdout",
     "output_type": "stream",
     "text": [
      "t = -0.543366377229898\n",
      "p = 0.5877542163931475\n"
     ]
    },
    {
     "data": {
      "image/png": "[encoded data removed]",
      "text/plain": [
       "<Figure size 432x288 with 1 Axes>"
      ]
     },
     "metadata": {
      "needs_background": "light"
     },
     "output_type": "display_data"
    },
    {
     "name": "stdout",
     "output_type": "stream",
     "text": [
      "(26994, 3)\n",
      "(212, 3)\n",
      "(176, 3)\n"
     ]
    },
    {
     "data": {
      "text/html": [
       "<div>\n",
       "<style scoped>\n",
       "    .dataframe tbody tr th:only-of-type {\n",
       "        vertical-align: middle;\n",
       "    }\n",
       "\n",
       "    .dataframe tbody tr th {\n",
       "        vertical-align: top;\n",
       "    }\n",
       "\n",
       "    .dataframe thead th {\n",
       "        text-align: right;\n",
       "    }\n",
       "</style>\n",
       "<table border=\"1\" class=\"dataframe\">\n",
       "  <thead>\n",
       "    <tr style=\"text-align: right;\">\n",
       "      <th></th>\n",
       "      <th>HenID</th>\n",
       "      <th>Treatment</th>\n",
       "      <th>weight 01-02-21</th>\n",
       "    </tr>\n",
       "  </thead>\n",
       "  <tbody>\n",
       "    <tr>\n",
       "      <th>0</th>\n",
       "      <td>hen_1</td>\n",
       "      <td>OFH</td>\n",
       "      <td>1800.9</td>\n",
       "    </tr>\n",
       "    <tr>\n",
       "      <th>147</th>\n",
       "      <td>hen_10</td>\n",
       "      <td>OFH</td>\n",
       "      <td>1602.1</td>\n",
       "    </tr>\n",
       "    <tr>\n",
       "      <th>413</th>\n",
       "      <td>hen_101</td>\n",
       "      <td>OFH</td>\n",
       "      <td>1723.4</td>\n",
       "    </tr>\n",
       "  </tbody>\n",
       "</table>\n",
       "</div>"
      ],
      "text/plain": [
       "       HenID Treatment  weight 01-02-21\n",
       "0      hen_1       OFH           1800.9\n",
       "147   hen_10       OFH           1602.1\n",
       "413  hen_101       OFH           1723.4"
      ]
     },
     "metadata": {},
     "output_type": "display_data"
    },
    {
     "name": "stdout",
     "output_type": "stream",
     "text": [
      "t = 1.3695575448668196\n",
      "p = 0.17258999447863002\n"
     ]
    },
    {
     "data": {
      "image/png": "[encoded data removed]",
      "text/plain": [
       "<Figure size 432x288 with 1 Axes>"
      ]
     },
     "metadata": {
      "needs_background": "light"
     },
     "output_type": "display_data"
    },
    {
     "name": "stdout",
     "output_type": "stream",
     "text": [
      "(26994, 3)\n",
      "(212, 3)\n",
      "(131, 3)\n"
     ]
    },
    {
     "data": {
      "text/html": [
       "<div>\n",
       "<style scoped>\n",
       "    .dataframe tbody tr th:only-of-type {\n",
       "        vertical-align: middle;\n",
       "    }\n",
       "\n",
       "    .dataframe tbody tr th {\n",
       "        vertical-align: top;\n",
       "    }\n",
       "\n",
       "    .dataframe thead th {\n",
       "        text-align: right;\n",
       "    }\n",
       "</style>\n",
       "<table border=\"1\" class=\"dataframe\">\n",
       "  <thead>\n",
       "    <tr style=\"text-align: right;\">\n",
       "      <th></th>\n",
       "      <th>HenID</th>\n",
       "      <th>Treatment</th>\n",
       "      <th>weight_DOA37-39_div_DOA118</th>\n",
       "    </tr>\n",
       "  </thead>\n",
       "  <tbody>\n",
       "    <tr>\n",
       "      <th>0</th>\n",
       "      <td>hen_1</td>\n",
       "      <td>OFH</td>\n",
       "      <td>0.050265</td>\n",
       "    </tr>\n",
       "    <tr>\n",
       "      <th>147</th>\n",
       "      <td>hen_10</td>\n",
       "      <td>OFH</td>\n",
       "      <td>0.065794</td>\n",
       "    </tr>\n",
       "    <tr>\n",
       "      <th>292</th>\n",
       "      <td>hen_100</td>\n",
       "      <td>OFH</td>\n",
       "      <td>0.068105</td>\n",
       "    </tr>\n",
       "  </tbody>\n",
       "</table>\n",
       "</div>"
      ],
      "text/plain": [
       "       HenID Treatment  weight_DOA37-39_div_DOA118\n",
       "0      hen_1       OFH                    0.050265\n",
       "147   hen_10       OFH                    0.065794\n",
       "292  hen_100       OFH                    0.068105"
      ]
     },
     "metadata": {},
     "output_type": "display_data"
    },
    {
     "name": "stdout",
     "output_type": "stream",
     "text": [
      "t = 0.5745452118331705\n",
      "p = 0.5665995042795897\n"
     ]
    },
    {
     "data": {
      "image/png": "[encoded data removed]",
      "text/plain": [
       "<Figure size 432x288 with 1 Axes>"
      ]
     },
     "metadata": {
      "needs_background": "light"
     },
     "output_type": "display_data"
    },
    {
     "name": "stdout",
     "output_type": "stream",
     "text": [
      "(26994, 3)\n",
      "(212, 3)\n",
      "(107, 3)\n"
     ]
    },
    {
     "data": {
      "text/html": [
       "<div>\n",
       "<style scoped>\n",
       "    .dataframe tbody tr th:only-of-type {\n",
       "        vertical-align: middle;\n",
       "    }\n",
       "\n",
       "    .dataframe tbody tr th {\n",
       "        vertical-align: top;\n",
       "    }\n",
       "\n",
       "    .dataframe thead th {\n",
       "        text-align: right;\n",
       "    }\n",
       "</style>\n",
       "<table border=\"1\" class=\"dataframe\">\n",
       "  <thead>\n",
       "    <tr style=\"text-align: right;\">\n",
       "      <th></th>\n",
       "      <th>HenID</th>\n",
       "      <th>Treatment</th>\n",
       "      <th>weight_DOA37-39_div_DOA243</th>\n",
       "    </tr>\n",
       "  </thead>\n",
       "  <tbody>\n",
       "    <tr>\n",
       "      <th>0</th>\n",
       "      <td>hen_1</td>\n",
       "      <td>OFH</td>\n",
       "      <td>0.031651</td>\n",
       "    </tr>\n",
       "    <tr>\n",
       "      <th>147</th>\n",
       "      <td>hen_10</td>\n",
       "      <td>OFH</td>\n",
       "      <td>0.043942</td>\n",
       "    </tr>\n",
       "    <tr>\n",
       "      <th>413</th>\n",
       "      <td>hen_101</td>\n",
       "      <td>OFH</td>\n",
       "      <td>0.038296</td>\n",
       "    </tr>\n",
       "  </tbody>\n",
       "</table>\n",
       "</div>"
      ],
      "text/plain": [
       "       HenID Treatment  weight_DOA37-39_div_DOA243\n",
       "0      hen_1       OFH                    0.031651\n",
       "147   hen_10       OFH                    0.043942\n",
       "413  hen_101       OFH                    0.038296"
      ]
     },
     "metadata": {},
     "output_type": "display_data"
    },
    {
     "name": "stdout",
     "output_type": "stream",
     "text": [
      "t = 0.37121614261799424\n",
      "p = 0.711224508854837\n"
     ]
    },
    {
     "data": {
      "image/png": "[encoded data removed]",
      "text/plain": [
       "<Figure size 432x288 with 1 Axes>"
      ]
     },
     "metadata": {
      "needs_background": "light"
     },
     "output_type": "display_data"
    },
    {
     "name": "stdout",
     "output_type": "stream",
     "text": [
      "(26994, 3)\n",
      "(212, 3)\n",
      "(142, 3)\n"
     ]
    },
    {
     "data": {
      "text/html": [
       "<div>\n",
       "<style scoped>\n",
       "    .dataframe tbody tr th:only-of-type {\n",
       "        vertical-align: middle;\n",
       "    }\n",
       "\n",
       "    .dataframe tbody tr th {\n",
       "        vertical-align: top;\n",
       "    }\n",
       "\n",
       "    .dataframe thead th {\n",
       "        text-align: right;\n",
       "    }\n",
       "</style>\n",
       "<table border=\"1\" class=\"dataframe\">\n",
       "  <thead>\n",
       "    <tr style=\"text-align: right;\">\n",
       "      <th></th>\n",
       "      <th>HenID</th>\n",
       "      <th>Treatment</th>\n",
       "      <th>weight_DOA118_div_DOA173</th>\n",
       "    </tr>\n",
       "  </thead>\n",
       "  <tbody>\n",
       "    <tr>\n",
       "      <th>0</th>\n",
       "      <td>hen_1</td>\n",
       "      <td>OFH</td>\n",
       "      <td>0.668435</td>\n",
       "    </tr>\n",
       "    <tr>\n",
       "      <th>147</th>\n",
       "      <td>hen_10</td>\n",
       "      <td>OFH</td>\n",
       "      <td>0.718941</td>\n",
       "    </tr>\n",
       "    <tr>\n",
       "      <th>292</th>\n",
       "      <td>hen_100</td>\n",
       "      <td>OFH</td>\n",
       "      <td>0.719635</td>\n",
       "    </tr>\n",
       "  </tbody>\n",
       "</table>\n",
       "</div>"
      ],
      "text/plain": [
       "       HenID Treatment  weight_DOA118_div_DOA173\n",
       "0      hen_1       OFH                  0.668435\n",
       "147   hen_10       OFH                  0.718941\n",
       "292  hen_100       OFH                  0.719635"
      ]
     },
     "metadata": {},
     "output_type": "display_data"
    },
    {
     "name": "stdout",
     "output_type": "stream",
     "text": [
      "t = 0.619414280604572\n",
      "p = 0.5366502002698442\n"
     ]
    },
    {
     "data": {
      "image/png": "[encoded data removed]",
      "text/plain": [
       "<Figure size 432x288 with 1 Axes>"
      ]
     },
     "metadata": {
      "needs_background": "light"
     },
     "output_type": "display_data"
    },
    {
     "name": "stdout",
     "output_type": "stream",
     "text": [
      "(26994, 3)\n",
      "(212, 3)\n",
      "(126, 3)\n"
     ]
    },
    {
     "data": {
      "text/html": [
       "<div>\n",
       "<style scoped>\n",
       "    .dataframe tbody tr th:only-of-type {\n",
       "        vertical-align: middle;\n",
       "    }\n",
       "\n",
       "    .dataframe tbody tr th {\n",
       "        vertical-align: top;\n",
       "    }\n",
       "\n",
       "    .dataframe thead th {\n",
       "        text-align: right;\n",
       "    }\n",
       "</style>\n",
       "<table border=\"1\" class=\"dataframe\">\n",
       "  <thead>\n",
       "    <tr style=\"text-align: right;\">\n",
       "      <th></th>\n",
       "      <th>HenID</th>\n",
       "      <th>Treatment</th>\n",
       "      <th>weight_DOA118_div_DOA243</th>\n",
       "    </tr>\n",
       "  </thead>\n",
       "  <tbody>\n",
       "    <tr>\n",
       "      <th>0</th>\n",
       "      <td>hen_1</td>\n",
       "      <td>OFH</td>\n",
       "      <td>0.629685</td>\n",
       "    </tr>\n",
       "    <tr>\n",
       "      <th>147</th>\n",
       "      <td>hen_10</td>\n",
       "      <td>OFH</td>\n",
       "      <td>0.667873</td>\n",
       "    </tr>\n",
       "    <tr>\n",
       "      <th>413</th>\n",
       "      <td>hen_101</td>\n",
       "      <td>OFH</td>\n",
       "      <td>0.627829</td>\n",
       "    </tr>\n",
       "  </tbody>\n",
       "</table>\n",
       "</div>"
      ],
      "text/plain": [
       "       HenID Treatment  weight_DOA118_div_DOA243\n",
       "0      hen_1       OFH                  0.629685\n",
       "147   hen_10       OFH                  0.667873\n",
       "413  hen_101       OFH                  0.627829"
      ]
     },
     "metadata": {},
     "output_type": "display_data"
    },
    {
     "name": "stdout",
     "output_type": "stream",
     "text": [
      "t = 0.8596450023987962\n",
      "p = 0.3916436642329991\n"
     ]
    },
    {
     "data": {
      "image/png": "[encoded data removed]",
      "text/plain": [
       "<Figure size 432x288 with 1 Axes>"
      ]
     },
     "metadata": {
      "needs_background": "light"
     },
     "output_type": "display_data"
    },
    {
     "name": "stdout",
     "output_type": "stream",
     "text": [
      "(26994, 3)\n",
      "(212, 3)\n",
      "(160, 3)\n"
     ]
    },
    {
     "data": {
      "text/html": [
       "<div>\n",
       "<style scoped>\n",
       "    .dataframe tbody tr th:only-of-type {\n",
       "        vertical-align: middle;\n",
       "    }\n",
       "\n",
       "    .dataframe tbody tr th {\n",
       "        vertical-align: top;\n",
       "    }\n",
       "\n",
       "    .dataframe thead th {\n",
       "        text-align: right;\n",
       "    }\n",
       "</style>\n",
       "<table border=\"1\" class=\"dataframe\">\n",
       "  <thead>\n",
       "    <tr style=\"text-align: right;\">\n",
       "      <th></th>\n",
       "      <th>HenID</th>\n",
       "      <th>Treatment</th>\n",
       "      <th>weight_DOA173_div_DOA243</th>\n",
       "    </tr>\n",
       "  </thead>\n",
       "  <tbody>\n",
       "    <tr>\n",
       "      <th>0</th>\n",
       "      <td>hen_1</td>\n",
       "      <td>OFH</td>\n",
       "      <td>0.942029</td>\n",
       "    </tr>\n",
       "    <tr>\n",
       "      <th>147</th>\n",
       "      <td>hen_10</td>\n",
       "      <td>OFH</td>\n",
       "      <td>0.928968</td>\n",
       "    </tr>\n",
       "    <tr>\n",
       "      <th>413</th>\n",
       "      <td>hen_101</td>\n",
       "      <td>OFH</td>\n",
       "      <td>0.943310</td>\n",
       "    </tr>\n",
       "  </tbody>\n",
       "</table>\n",
       "</div>"
      ],
      "text/plain": [
       "       HenID Treatment  weight_DOA173_div_DOA243\n",
       "0      hen_1       OFH                  0.942029\n",
       "147   hen_10       OFH                  0.928968\n",
       "413  hen_101       OFH                  0.943310"
      ]
     },
     "metadata": {},
     "output_type": "display_data"
    },
    {
     "name": "stdout",
     "output_type": "stream",
     "text": [
      "t = 0.2302084638489563\n",
      "p = 0.8182275704575612\n"
     ]
    },
    {
     "data": {
      "image/png": "[encoded data removed]",
      "text/plain": [
       "<Figure size 432x288 with 1 Axes>"
      ]
     },
     "metadata": {
      "needs_background": "light"
     },
     "output_type": "display_data"
    }
   ],
   "source": [
    "for wei in li_weight:\n",
    "    df_plt = df_daily[['HenID','Treatment',wei]].copy()\n",
    "    print(df_plt.shape)\n",
    "    df_plt.drop_duplicates(subset=None, keep='first', inplace=True)\n",
    "    print(df_plt.shape)\n",
    "    df_plt.dropna(axis=0,inplace=True)\n",
    "    print(df_plt.shape)\n",
    "    display(df_plt.head(3))\n",
    "    a = np.array(df_plt[df_plt['Treatment']=='OFH'][wei].tolist())\n",
    "    b = np.array(df_plt[df_plt['Treatment']=='TRAN'][wei].tolist())\n",
    "    t2, p2 = stats.ttest_ind(a,b)\n",
    "    print(\"t = \" + str(t2))\n",
    "    print(\"p = \" + str(p2))\n",
    "    sns.histplot(df_plt, x=wei, hue=\"Treatment\", element='step', kde=True, stat=\"density\", common_norm=False);\n",
    "    #plt.xlabel('weight on DOA 118')\n",
    "    plt.savefig(os.path.join(path_extracted_data_visual_treatmentclass,wei+'.png'),dpi=300,format='png',bbox_inches='tight')\n",
    "    plt.show()"
   ]
  },
  {
   "cell_type": "markdown",
   "metadata": {},
   "source": [
    "# Transitions"
   ]
  },
  {
   "cell_type": "code",
   "execution_count": 11,
   "metadata": {},
   "outputs": [
    {
     "name": "stderr",
     "output_type": "stream",
     "text": [
      "C:\\Users\\camil\\anaconda3\\lib\\site-packages\\ipykernel\\ipkernel.py:283: DeprecationWarning: `should_run_async` will not call `transform_cell` automatically in the future. Please pass the result to `transformed_cell` argument and any exception that happen during thetransform in `preprocessing_exc_tuple` in IPython 7.17 and above.\n",
      "  and should_run_async(code)\n"
     ]
    },
    {
     "data": {
      "text/html": [
       "<div>\n",
       "<style scoped>\n",
       "    .dataframe tbody tr th:only-of-type {\n",
       "        vertical-align: middle;\n",
       "    }\n",
       "\n",
       "    .dataframe tbody tr th {\n",
       "        vertical-align: top;\n",
       "    }\n",
       "\n",
       "    .dataframe thead th {\n",
       "        text-align: right;\n",
       "    }\n",
       "</style>\n",
       "<table border=\"1\" class=\"dataframe\">\n",
       "  <thead>\n",
       "    <tr style=\"text-align: right;\">\n",
       "      <th></th>\n",
       "      <th>HenID</th>\n",
       "      <th>PenID</th>\n",
       "      <th>level</th>\n",
       "      <th>nbr_days_with_no_transition</th>\n",
       "    </tr>\n",
       "  </thead>\n",
       "  <tbody>\n",
       "    <tr>\n",
       "      <th>70</th>\n",
       "      <td>hen_56</td>\n",
       "      <td>8</td>\n",
       "      <td>[2020-10-02 00:00:00, 2020-10-12 00:00:00, 202...</td>\n",
       "      <td>38</td>\n",
       "    </tr>\n",
       "    <tr>\n",
       "      <th>62</th>\n",
       "      <td>hen_39</td>\n",
       "      <td>11</td>\n",
       "      <td>[2020-10-05 00:00:00, 2020-10-06 00:00:00, 202...</td>\n",
       "      <td>21</td>\n",
       "    </tr>\n",
       "    <tr>\n",
       "      <th>0</th>\n",
       "      <td>hen_1</td>\n",
       "      <td>9</td>\n",
       "      <td>[2020-10-10 00:00:00, 2020-10-11 00:00:00, 202...</td>\n",
       "      <td>18</td>\n",
       "    </tr>\n",
       "  </tbody>\n",
       "</table>\n",
       "</div>"
      ],
      "text/plain": [
       "     HenID  PenID                                              level  \\\n",
       "70  hen_56      8  [2020-10-02 00:00:00, 2020-10-12 00:00:00, 202...   \n",
       "62  hen_39     11  [2020-10-05 00:00:00, 2020-10-06 00:00:00, 202...   \n",
       "0    hen_1      9  [2020-10-10 00:00:00, 2020-10-11 00:00:00, 202...   \n",
       "\n",
       "    nbr_days_with_no_transition  \n",
       "70                           38  \n",
       "62                           21  \n",
       "0                            18  "
      ]
     },
     "metadata": {},
     "output_type": "display_data"
    }
   ],
   "source": [
    "#save level with 0 transition per hen, for verification\n",
    "df_hen_0transition = df_daily[df_daily['Total_number_transition']==0].groupby(['HenID',\n",
    "                                                                'PenID'])['level'].agg(lambda x: list(x)).reset_index()\n",
    "df_hen_0transition['nbr_days_with_no_transition'] = df_hen_0transition['level'].map(lambda x: len(x))\n",
    "df_hen_0transition.sort_values(['nbr_days_with_no_transition'], inplace=True, ascending=False)\n",
    "df_hen_0transition.to_csv(os.path.join(path_extracted_data,id_run+'df_hen_0transition.csv'), sep=';', index=False)\n",
    "display(df_hen_0transition.head(3))"
   ]
  },
  {
   "cell_type": "code",
   "execution_count": 12,
   "metadata": {},
   "outputs": [
    {
     "name": "stderr",
     "output_type": "stream",
     "text": [
      "C:\\Users\\camil\\anaconda3\\lib\\site-packages\\ipykernel\\ipkernel.py:283: DeprecationWarning: `should_run_async` will not call `transform_cell` automatically in the future. Please pass the result to `transformed_cell` argument and any exception that happen during thetransform in `preprocessing_exc_tuple` in IPython 7.17 and above.\n",
      "  and should_run_async(code)\n",
      "<ipython-input-12-06a7fdf65fd4>:2: FutureWarning: Indexing with multiple keys (implicitly converted to a tuple of keys) will be deprecated, use a list instead.\n",
      "  df_hen_nbrtransition = df_daily.groupby(['HenID','PenID','29-09 weight','Treatment'])['level',\n"
     ]
    },
    {
     "data": {
      "text/html": [
       "<div>\n",
       "<style scoped>\n",
       "    .dataframe tbody tr th:only-of-type {\n",
       "        vertical-align: middle;\n",
       "    }\n",
       "\n",
       "    .dataframe tbody tr th {\n",
       "        vertical-align: top;\n",
       "    }\n",
       "\n",
       "    .dataframe thead th {\n",
       "        text-align: right;\n",
       "    }\n",
       "</style>\n",
       "<table border=\"1\" class=\"dataframe\">\n",
       "  <thead>\n",
       "    <tr style=\"text-align: right;\">\n",
       "      <th></th>\n",
       "      <th>HenID</th>\n",
       "      <th>PenID</th>\n",
       "      <th>29-09 weight</th>\n",
       "      <th>Treatment</th>\n",
       "      <th>level</th>\n",
       "      <th>Total_number_transition</th>\n",
       "      <th>nbr_days_with_no_transition</th>\n",
       "      <th>%days_with_no_transition</th>\n",
       "    </tr>\n",
       "  </thead>\n",
       "  <tbody>\n",
       "    <tr>\n",
       "      <th>111</th>\n",
       "      <td>hen_56</td>\n",
       "      <td>8</td>\n",
       "      <td>1200.0</td>\n",
       "      <td>TRAN</td>\n",
       "      <td>[2020-10-01 00:00:00, 2020-10-02 00:00:00, 202...</td>\n",
       "      <td>[13.0, 0.0, nan, nan, nan, 17.0, 6.0, 28.0, 13...</td>\n",
       "      <td>38</td>\n",
       "      <td>26.760563</td>\n",
       "    </tr>\n",
       "    <tr>\n",
       "      <th>92</th>\n",
       "      <td>hen_39</td>\n",
       "      <td>11</td>\n",
       "      <td>1070.0</td>\n",
       "      <td>OFH</td>\n",
       "      <td>[2020-10-01 00:00:00, 2020-10-02 00:00:00, 202...</td>\n",
       "      <td>[1.0, 2.0, nan, 12.0, 0.0, 0.0, 1.0, 0.0, 0.0,...</td>\n",
       "      <td>21</td>\n",
       "      <td>14.383562</td>\n",
       "    </tr>\n",
       "    <tr>\n",
       "      <th>20</th>\n",
       "      <td>hen_117</td>\n",
       "      <td>11</td>\n",
       "      <td>1158.0</td>\n",
       "      <td>OFH</td>\n",
       "      <td>[2020-10-01 00:00:00, 2020-10-02 00:00:00, 202...</td>\n",
       "      <td>[8.0, 8.0, nan, 13.0, 0.0, 0.0, 0.0, 8.0, 0.0,...</td>\n",
       "      <td>18</td>\n",
       "      <td>12.328767</td>\n",
       "    </tr>\n",
       "  </tbody>\n",
       "</table>\n",
       "</div>"
      ],
      "text/plain": [
       "       HenID  PenID  29-09 weight Treatment  \\\n",
       "111   hen_56      8        1200.0      TRAN   \n",
       "92    hen_39     11        1070.0       OFH   \n",
       "20   hen_117     11        1158.0       OFH   \n",
       "\n",
       "                                                 level  \\\n",
       "111  [2020-10-01 00:00:00, 2020-10-02 00:00:00, 202...   \n",
       "92   [2020-10-01 00:00:00, 2020-10-02 00:00:00, 202...   \n",
       "20   [2020-10-01 00:00:00, 2020-10-02 00:00:00, 202...   \n",
       "\n",
       "                               Total_number_transition  \\\n",
       "111  [13.0, 0.0, nan, nan, nan, 17.0, 6.0, 28.0, 13...   \n",
       "92   [1.0, 2.0, nan, 12.0, 0.0, 0.0, 1.0, 0.0, 0.0,...   \n",
       "20   [8.0, 8.0, nan, 13.0, 0.0, 0.0, 0.0, 8.0, 0.0,...   \n",
       "\n",
       "     nbr_days_with_no_transition  %days_with_no_transition  \n",
       "111                           38                 26.760563  \n",
       "92                            21                 14.383562  \n",
       "20                            18                 12.328767  "
      ]
     },
     "metadata": {},
     "output_type": "display_data"
    },
    {
     "data": {
      "image/png": "[encoded data removed]",
      "text/plain": [
       "<Figure size 432x288 with 1 Axes>"
      ]
     },
     "metadata": {
      "needs_background": "light"
     },
     "output_type": "display_data"
    }
   ],
   "source": [
    "#histogram of percentage of days with no transition\n",
    "df_hen_nbrtransition = df_daily.groupby(['HenID','PenID','29-09 weight','Treatment'])['level',\n",
    "                                                           'Total_number_transition'].agg(lambda x: list(x)).reset_index()\n",
    "df_hen_nbrtransition['nbr_days_with_no_transition'] = df_hen_nbrtransition['Total_number_transition'].map(lambda x: sum([i==0 for i in x]))\n",
    "df_hen_nbrtransition['%days_with_no_transition'] = df_hen_nbrtransition['Total_number_transition'].map(lambda x: sum([i==0 for i in x])/len(x)*100)\n",
    "df_hen_nbrtransition.sort_values(['%days_with_no_transition'], inplace=True, ascending=False)\n",
    "#df_hen_nbrtransition['Treatment'] = df_hen_nbrtransition['PenID'].map(lambda x: 'OFH' if x in [3,5,9,11] else 'TRAN')\n",
    "df_hen_nbrtransition.to_csv(os.path.join(path_extracted_data,id_run+'df_hen_nbrtransition.csv'), sep=';', index=False)\n",
    "display(df_hen_nbrtransition.head(3))\n",
    "plt.hist(df_hen_nbrtransition[df_hen_nbrtransition['%days_with_no_transition']!=0.0]['%days_with_no_transition'].dropna(),bins='auto')\n",
    "#return: [0]: vector of length bins with #elements in each bins\n",
    "#and [1]: when the vectors starts (for plot)\n",
    "plt.xlabel('%days with no transition during the day')\n",
    "plt.ylabel('number of hens')\n",
    "plt.title('Hens with at least one day with no transition')\n",
    "plt.savefig(os.path.join(path_extracted_data_visual,'Histogram#Hensversus%DaysNoTransition.png'),dpi=300,format='png',bbox_inches='tight')\n",
    "plt.show()"
   ]
  },
  {
   "cell_type": "code",
   "execution_count": 13,
   "metadata": {},
   "outputs": [
    {
     "name": "stderr",
     "output_type": "stream",
     "text": [
      "C:\\Users\\camil\\anaconda3\\lib\\site-packages\\ipykernel\\ipkernel.py:283: DeprecationWarning: `should_run_async` will not call `transform_cell` automatically in the future. Please pass the result to `transformed_cell` argument and any exception that happen during thetransform in `preprocessing_exc_tuple` in IPython 7.17 and above.\n",
      "  and should_run_async(code)\n"
     ]
    },
    {
     "data": {
      "image/png": "[encoded data removed]",
      "text/plain": [
       "<Figure size 432x288 with 1 Axes>"
      ]
     },
     "metadata": {
      "needs_background": "light"
     },
     "output_type": "display_data"
    }
   ],
   "source": [
    "plt.hist(df_hen_nbrtransition['%days_with_no_transition'].dropna(),bins='auto') #bins=15: into 15 equal parts  #auto\n",
    "#return: [0]: vector of length bins with #elements in each bins\n",
    "#and [1]: when the vectors starts (for plot)\n",
    "plt.xlabel('%days with no transition during the day')\n",
    "plt.ylabel('number of hens')\n",
    "plt.title('All hens')\n",
    "plt.savefig(os.path.join(path_extracted_data_visual,'Histogram#Hensversus%DaysNoTransitionAllhens.png'),dpi=300,format='png',bbox_inches='tight')\n",
    "plt.show()"
   ]
  },
  {
   "cell_type": "code",
   "execution_count": 14,
   "metadata": {},
   "outputs": [
    {
     "name": "stderr",
     "output_type": "stream",
     "text": [
      "C:\\Users\\camil\\anaconda3\\lib\\site-packages\\ipykernel\\ipkernel.py:283: DeprecationWarning: `should_run_async` will not call `transform_cell` automatically in the future. Please pass the result to `transformed_cell` argument and any exception that happen during thetransform in `preprocessing_exc_tuple` in IPython 7.17 and above.\n",
      "  and should_run_async(code)\n"
     ]
    },
    {
     "data": {
      "image/png": "[encoded data removed]",
      "text/plain": [
       "<Figure size 432x288 with 1 Axes>"
      ]
     },
     "metadata": {
      "needs_background": "light"
     },
     "output_type": "display_data"
    }
   ],
   "source": [
    "sns.histplot(df_hen_nbrtransition, x=\"%days_with_no_transition\", hue=\"Treatment\", element=\"step\", hue_order=['TRAN','OFH'],\n",
    "             stat=\"density\",  palette=pal_treat, common_norm=False); #stat='count': less good as not the same numebr of animals\n",
    "plt.savefig(os.path.join(path_extracted_data_visual_treatmentclass,'density_hen_per_%days_with_no_transition.png'),dpi=300,format='png',bbox_inches='tight')\n",
    "plt.show()"
   ]
  },
  {
   "cell_type": "code",
   "execution_count": 15,
   "metadata": {},
   "outputs": [
    {
     "name": "stderr",
     "output_type": "stream",
     "text": [
      "C:\\Users\\camil\\anaconda3\\lib\\site-packages\\ipykernel\\ipkernel.py:283: DeprecationWarning: `should_run_async` will not call `transform_cell` automatically in the future. Please pass the result to `transformed_cell` argument and any exception that happen during thetransform in `preprocessing_exc_tuple` in IPython 7.17 and above.\n",
      "  and should_run_async(code)\n"
     ]
    },
    {
     "data": {
      "text/html": [
       "<div>\n",
       "<style scoped>\n",
       "    .dataframe tbody tr th:only-of-type {\n",
       "        vertical-align: middle;\n",
       "    }\n",
       "\n",
       "    .dataframe tbody tr th {\n",
       "        vertical-align: top;\n",
       "    }\n",
       "\n",
       "    .dataframe thead th {\n",
       "        text-align: right;\n",
       "    }\n",
       "</style>\n",
       "<table border=\"1\" class=\"dataframe\">\n",
       "  <thead>\n",
       "    <tr style=\"text-align: right;\">\n",
       "      <th></th>\n",
       "      <th>HenID</th>\n",
       "      <th>PenID</th>\n",
       "      <th>29-09 weight</th>\n",
       "      <th>Treatment</th>\n",
       "      <th>level</th>\n",
       "      <th>Total_number_transition</th>\n",
       "      <th>nbr_days_with_no_transition</th>\n",
       "      <th>%days_with_no_transition</th>\n",
       "    </tr>\n",
       "  </thead>\n",
       "  <tbody>\n",
       "    <tr>\n",
       "      <th>111</th>\n",
       "      <td>hen_56</td>\n",
       "      <td>8</td>\n",
       "      <td>1200.0</td>\n",
       "      <td>TRAN</td>\n",
       "      <td>[2020-10-01 00:00:00, 2020-10-02 00:00:00, 202...</td>\n",
       "      <td>[13.0, 0.0, nan, nan, nan, 17.0, 6.0, 28.0, 13...</td>\n",
       "      <td>38</td>\n",
       "      <td>26.760563</td>\n",
       "    </tr>\n",
       "    <tr>\n",
       "      <th>92</th>\n",
       "      <td>hen_39</td>\n",
       "      <td>11</td>\n",
       "      <td>1070.0</td>\n",
       "      <td>OFH</td>\n",
       "      <td>[2020-10-01 00:00:00, 2020-10-02 00:00:00, 202...</td>\n",
       "      <td>[1.0, 2.0, nan, 12.0, 0.0, 0.0, 1.0, 0.0, 0.0,...</td>\n",
       "      <td>21</td>\n",
       "      <td>14.383562</td>\n",
       "    </tr>\n",
       "    <tr>\n",
       "      <th>20</th>\n",
       "      <td>hen_117</td>\n",
       "      <td>11</td>\n",
       "      <td>1158.0</td>\n",
       "      <td>OFH</td>\n",
       "      <td>[2020-10-01 00:00:00, 2020-10-02 00:00:00, 202...</td>\n",
       "      <td>[8.0, 8.0, nan, 13.0, 0.0, 0.0, 0.0, 8.0, 0.0,...</td>\n",
       "      <td>18</td>\n",
       "      <td>12.328767</td>\n",
       "    </tr>\n",
       "  </tbody>\n",
       "</table>\n",
       "</div>"
      ],
      "text/plain": [
       "       HenID  PenID  29-09 weight Treatment  \\\n",
       "111   hen_56      8        1200.0      TRAN   \n",
       "92    hen_39     11        1070.0       OFH   \n",
       "20   hen_117     11        1158.0       OFH   \n",
       "\n",
       "                                                 level  \\\n",
       "111  [2020-10-01 00:00:00, 2020-10-02 00:00:00, 202...   \n",
       "92   [2020-10-01 00:00:00, 2020-10-02 00:00:00, 202...   \n",
       "20   [2020-10-01 00:00:00, 2020-10-02 00:00:00, 202...   \n",
       "\n",
       "                               Total_number_transition  \\\n",
       "111  [13.0, 0.0, nan, nan, nan, 17.0, 6.0, 28.0, 13...   \n",
       "92   [1.0, 2.0, nan, 12.0, 0.0, 0.0, 1.0, 0.0, 0.0,...   \n",
       "20   [8.0, 8.0, nan, 13.0, 0.0, 0.0, 0.0, 8.0, 0.0,...   \n",
       "\n",
       "     nbr_days_with_no_transition  %days_with_no_transition  \n",
       "111                           38                 26.760563  \n",
       "92                            21                 14.383562  \n",
       "20                            18                 12.328767  "
      ]
     },
     "execution_count": 15,
     "metadata": {},
     "output_type": "execute_result"
    }
   ],
   "source": [
    "df_hen_nbrtransition.head(3)"
   ]
  },
  {
   "cell_type": "code",
   "execution_count": 16,
   "metadata": {},
   "outputs": [
    {
     "name": "stderr",
     "output_type": "stream",
     "text": [
      "C:\\Users\\camil\\anaconda3\\lib\\site-packages\\ipykernel\\ipkernel.py:283: DeprecationWarning: `should_run_async` will not call `transform_cell` automatically in the future. Please pass the result to `transformed_cell` argument and any exception that happen during thetransform in `preprocessing_exc_tuple` in IPython 7.17 and above.\n",
      "  and should_run_async(code)\n",
      "<ipython-input-16-eadfbe08fe76>:2: FutureWarning: Indexing with multiple keys (implicitly converted to a tuple of keys) will be deprecated, use a list instead.\n",
      "  df_hen_nbrtransition = df_daily.groupby(['HenID','PenID','29-09 weight','CLASS','Treatment'])['level',\n"
     ]
    },
    {
     "data": {
      "text/html": [
       "<div>\n",
       "<style scoped>\n",
       "    .dataframe tbody tr th:only-of-type {\n",
       "        vertical-align: middle;\n",
       "    }\n",
       "\n",
       "    .dataframe tbody tr th {\n",
       "        vertical-align: top;\n",
       "    }\n",
       "\n",
       "    .dataframe thead th {\n",
       "        text-align: right;\n",
       "    }\n",
       "</style>\n",
       "<table border=\"1\" class=\"dataframe\">\n",
       "  <thead>\n",
       "    <tr style=\"text-align: right;\">\n",
       "      <th></th>\n",
       "      <th>HenID</th>\n",
       "      <th>PenID</th>\n",
       "      <th>29-09 weight</th>\n",
       "      <th>CLASS</th>\n",
       "      <th>Treatment</th>\n",
       "      <th>level</th>\n",
       "      <th>Total_number_transition</th>\n",
       "      <th>nbr_days_with_no_transition</th>\n",
       "      <th>%days_with_no_transition</th>\n",
       "    </tr>\n",
       "  </thead>\n",
       "  <tbody>\n",
       "    <tr>\n",
       "      <th>111</th>\n",
       "      <td>hen_56</td>\n",
       "      <td>8</td>\n",
       "      <td>1200.0</td>\n",
       "      <td>LEXP</td>\n",
       "      <td>TRAN</td>\n",
       "      <td>[2020-10-01 00:00:00, 2020-10-02 00:00:00, 202...</td>\n",
       "      <td>[13.0, 0.0, nan, nan, nan, 17.0, 6.0, 28.0, 13...</td>\n",
       "      <td>38</td>\n",
       "      <td>26.760563</td>\n",
       "    </tr>\n",
       "    <tr>\n",
       "      <th>92</th>\n",
       "      <td>hen_39</td>\n",
       "      <td>11</td>\n",
       "      <td>1070.0</td>\n",
       "      <td>EPI</td>\n",
       "      <td>OFH</td>\n",
       "      <td>[2020-10-01 00:00:00, 2020-10-02 00:00:00, 202...</td>\n",
       "      <td>[1.0, 2.0, nan, 12.0, 0.0, 0.0, 1.0, 0.0, 0.0,...</td>\n",
       "      <td>21</td>\n",
       "      <td>14.383562</td>\n",
       "    </tr>\n",
       "    <tr>\n",
       "      <th>20</th>\n",
       "      <td>hen_117</td>\n",
       "      <td>11</td>\n",
       "      <td>1158.0</td>\n",
       "      <td>EPI</td>\n",
       "      <td>OFH</td>\n",
       "      <td>[2020-10-01 00:00:00, 2020-10-02 00:00:00, 202...</td>\n",
       "      <td>[8.0, 8.0, nan, 13.0, 0.0, 0.0, 0.0, 8.0, 0.0,...</td>\n",
       "      <td>18</td>\n",
       "      <td>12.328767</td>\n",
       "    </tr>\n",
       "  </tbody>\n",
       "</table>\n",
       "</div>"
      ],
      "text/plain": [
       "       HenID  PenID  29-09 weight CLASS Treatment  \\\n",
       "111   hen_56      8        1200.0  LEXP      TRAN   \n",
       "92    hen_39     11        1070.0   EPI       OFH   \n",
       "20   hen_117     11        1158.0   EPI       OFH   \n",
       "\n",
       "                                                 level  \\\n",
       "111  [2020-10-01 00:00:00, 2020-10-02 00:00:00, 202...   \n",
       "92   [2020-10-01 00:00:00, 2020-10-02 00:00:00, 202...   \n",
       "20   [2020-10-01 00:00:00, 2020-10-02 00:00:00, 202...   \n",
       "\n",
       "                               Total_number_transition  \\\n",
       "111  [13.0, 0.0, nan, nan, nan, 17.0, 6.0, 28.0, 13...   \n",
       "92   [1.0, 2.0, nan, 12.0, 0.0, 0.0, 1.0, 0.0, 0.0,...   \n",
       "20   [8.0, 8.0, nan, 13.0, 0.0, 0.0, 0.0, 8.0, 0.0,...   \n",
       "\n",
       "     nbr_days_with_no_transition  %days_with_no_transition  \n",
       "111                           38                 26.760563  \n",
       "92                            21                 14.383562  \n",
       "20                            18                 12.328767  "
      ]
     },
     "metadata": {},
     "output_type": "display_data"
    },
    {
     "data": {
      "image/png": "[encoded data removed]",
      "text/plain": [
       "<Figure size 432x288 with 1 Axes>"
      ]
     },
     "metadata": {
      "needs_background": "light"
     },
     "output_type": "display_data"
    }
   ],
   "source": [
    "#histogram of percentage of days with no transition\n",
    "df_hen_nbrtransition = df_daily.groupby(['HenID','PenID','29-09 weight','CLASS','Treatment'])['level',\n",
    "                                                           'Total_number_transition'].agg(lambda x: list(x)).reset_index()\n",
    "df_hen_nbrtransition['nbr_days_with_no_transition'] = df_hen_nbrtransition['Total_number_transition'].map(lambda x: sum([i==0 for i in x]))\n",
    "df_hen_nbrtransition['%days_with_no_transition'] = df_hen_nbrtransition['Total_number_transition'].map(lambda x: sum([i==0 for i in x])/len(x)*100)\n",
    "df_hen_nbrtransition.sort_values(['%days_with_no_transition'], inplace=True, ascending=False)\n",
    "#df_hen_nbrtransition['Treatment'] = df_hen_nbrtransition['PenID'].map(lambda x: 'OFH' if x in [3,5,9,11] else 'TRAN')\n",
    "df_hen_nbrtransition.to_csv(os.path.join(path_extracted_data,id_run+'df_hen_nbrtransition.csv'), sep=';', index=False)\n",
    "display(df_hen_nbrtransition.head(3))\n",
    "plt.hist(df_hen_nbrtransition[df_hen_nbrtransition['%days_with_no_transition']!=0.0]['%days_with_no_transition'].dropna(),bins='auto')\n",
    "#return: [0]: vector of length bins with #elements in each bins\n",
    "#and [1]: when the vectors starts (for plot)\n",
    "plt.xlabel('%days with no transition during the day')\n",
    "plt.ylabel('number of hens')\n",
    "plt.title('Hens with at least one day with no transition')\n",
    "plt.savefig(os.path.join(path_extracted_data_visual,'Histogram#Hensversus%DaysNoTransition.png'),dpi=300,format='png',bbox_inches='tight')\n",
    "plt.show()"
   ]
  },
  {
   "cell_type": "code",
   "execution_count": 17,
   "metadata": {},
   "outputs": [
    {
     "name": "stderr",
     "output_type": "stream",
     "text": [
      "C:\\Users\\camil\\anaconda3\\lib\\site-packages\\ipykernel\\ipkernel.py:283: DeprecationWarning: `should_run_async` will not call `transform_cell` automatically in the future. Please pass the result to `transformed_cell` argument and any exception that happen during thetransform in `preprocessing_exc_tuple` in IPython 7.17 and above.\n",
      "  and should_run_async(code)\n"
     ]
    },
    {
     "data": {
      "image/png": "[encoded data removed]",
      "text/plain": [
       "<Figure size 432x288 with 1 Axes>"
      ]
     },
     "metadata": {
      "needs_background": "light"
     },
     "output_type": "display_data"
    }
   ],
   "source": [
    "ax = sns.regplot(x=\"29-09 weight\", y=\"%days_with_no_transition\", \n",
    "                 data=df_hen_nbrtransition[(df_hen_nbrtransition['Treatment']=='TRAN')&\\\n",
    "                                           (df_hen_nbrtransition['%days_with_no_transition']<=30)]) #remove one outlier!\n",
    "plt.savefig(os.path.join(path_extracted_data_visual_treatmentclass,'%DaysNoTransition_Weight_TRAN.png'),dpi=300,format='png',bbox_inches='tight')"
   ]
  },
  {
   "cell_type": "code",
   "execution_count": 18,
   "metadata": {},
   "outputs": [
    {
     "name": "stderr",
     "output_type": "stream",
     "text": [
      "C:\\Users\\camil\\anaconda3\\lib\\site-packages\\ipykernel\\ipkernel.py:283: DeprecationWarning: `should_run_async` will not call `transform_cell` automatically in the future. Please pass the result to `transformed_cell` argument and any exception that happen during thetransform in `preprocessing_exc_tuple` in IPython 7.17 and above.\n",
      "  and should_run_async(code)\n"
     ]
    },
    {
     "data": {
      "image/png": "[encoded data removed]",
      "text/plain": [
       "<Figure size 432x288 with 1 Axes>"
      ]
     },
     "metadata": {
      "needs_background": "light"
     },
     "output_type": "display_data"
    }
   ],
   "source": [
    "ax = sns.regplot(x=\"29-09 weight\", y=\"%days_with_no_transition\", \n",
    "                 data=df_hen_nbrtransition[df_hen_nbrtransition['Treatment']=='OFH'], color='orange')\n",
    "plt.savefig(os.path.join(path_extracted_data_visual_treatmentclass,'%DaysNoTransition_Weight_OHF.png'),dpi=300,format='png',bbox_inches='tight')"
   ]
  },
  {
   "cell_type": "code",
   "execution_count": 19,
   "metadata": {},
   "outputs": [
    {
     "name": "stderr",
     "output_type": "stream",
     "text": [
      "C:\\Users\\camil\\anaconda3\\lib\\site-packages\\ipykernel\\ipkernel.py:283: DeprecationWarning: `should_run_async` will not call `transform_cell` automatically in the future. Please pass the result to `transformed_cell` argument and any exception that happen during thetransform in `preprocessing_exc_tuple` in IPython 7.17 and above.\n",
      "  and should_run_async(code)\n"
     ]
    },
    {
     "data": {
      "image/png": "[encoded data removed]",
      "text/plain": [
       "<Figure size 432x288 with 1 Axes>"
      ]
     },
     "metadata": {
      "needs_background": "light"
     },
     "output_type": "display_data"
    }
   ],
   "source": [
    "ax = sns.boxplot(x=\"Treatment\", y=\"%days_with_no_transition\", data=df_hen_nbrtransition, palette=pal_treat)"
   ]
  },
  {
   "cell_type": "markdown",
   "metadata": {},
   "source": [
    "# Weight per highest duration on a day"
   ]
  },
  {
   "cell_type": "code",
   "execution_count": 20,
   "metadata": {},
   "outputs": [
    {
     "name": "stderr",
     "output_type": "stream",
     "text": [
      "C:\\Users\\camil\\anaconda3\\lib\\site-packages\\ipykernel\\ipkernel.py:283: DeprecationWarning: `should_run_async` will not call `transform_cell` automatically in the future. Please pass the result to `transformed_cell` argument and any exception that happen during thetransform in `preprocessing_exc_tuple` in IPython 7.17 and above.\n",
      "  and should_run_async(code)\n"
     ]
    },
    {
     "ename": "NameError",
     "evalue": "name 'nan' is not defined",
     "output_type": "error",
     "traceback": [
      "\u001b[1;31m---------------------------------------------------------------------------\u001b[0m",
      "\u001b[1;31mNameError\u001b[0m                                 Traceback (most recent call last)",
      "\u001b[1;32m<ipython-input-20-d0bb39f6f7b9>\u001b[0m in \u001b[0;36m<module>\u001b[1;34m\u001b[0m\n\u001b[0;32m      1\u001b[0m \u001b[0mdf_daily\u001b[0m\u001b[1;33m[\u001b[0m\u001b[1;34m'list_of_durations'\u001b[0m\u001b[1;33m]\u001b[0m\u001b[1;33m.\u001b[0m\u001b[0mfillna\u001b[0m\u001b[1;33m(\u001b[0m\u001b[1;34m'empty'\u001b[0m\u001b[1;33m,\u001b[0m \u001b[0minplace\u001b[0m\u001b[1;33m=\u001b[0m\u001b[1;32mTrue\u001b[0m\u001b[1;33m)\u001b[0m\u001b[1;33m\u001b[0m\u001b[1;33m\u001b[0m\u001b[0m\n\u001b[1;32m----> 2\u001b[1;33m \u001b[0mdf_daily\u001b[0m\u001b[1;33m[\u001b[0m\u001b[1;34m'list_of_durations'\u001b[0m\u001b[1;33m]\u001b[0m \u001b[1;33m=\u001b[0m \u001b[0mdf_daily\u001b[0m\u001b[1;33m[\u001b[0m\u001b[1;34m'list_of_durations'\u001b[0m\u001b[1;33m]\u001b[0m\u001b[1;33m.\u001b[0m\u001b[0mmap\u001b[0m\u001b[1;33m(\u001b[0m\u001b[1;32mlambda\u001b[0m \u001b[0mx\u001b[0m\u001b[1;33m:\u001b[0m \u001b[0meval\u001b[0m\u001b[1;33m(\u001b[0m\u001b[0mx\u001b[0m\u001b[1;33m)\u001b[0m \u001b[1;32mif\u001b[0m \u001b[0mx\u001b[0m\u001b[1;33m!=\u001b[0m\u001b[1;34m'empty'\u001b[0m \u001b[1;32melse\u001b[0m \u001b[0mnp\u001b[0m\u001b[1;33m.\u001b[0m\u001b[0mnan\u001b[0m\u001b[1;33m)\u001b[0m\u001b[1;33m\u001b[0m\u001b[1;33m\u001b[0m\u001b[0m\n\u001b[0m\u001b[0;32m      3\u001b[0m \u001b[0mdf_daily\u001b[0m\u001b[1;33m[\u001b[0m\u001b[1;34m'max_duration_of_stay'\u001b[0m\u001b[1;33m]\u001b[0m \u001b[1;33m=\u001b[0m \u001b[0mdf_daily\u001b[0m\u001b[1;33m[\u001b[0m\u001b[1;34m'list_of_durations'\u001b[0m\u001b[1;33m]\u001b[0m\u001b[1;33m.\u001b[0m\u001b[0mmap\u001b[0m\u001b[1;33m(\u001b[0m\u001b[1;32mlambda\u001b[0m \u001b[0mx\u001b[0m\u001b[1;33m:\u001b[0m \u001b[0mnp\u001b[0m\u001b[1;33m.\u001b[0m\u001b[0mnanmax\u001b[0m\u001b[1;33m(\u001b[0m\u001b[0mx\u001b[0m\u001b[1;33m)\u001b[0m\u001b[1;33m)\u001b[0m\u001b[1;33m\u001b[0m\u001b[1;33m\u001b[0m\u001b[0m\n\u001b[0;32m      4\u001b[0m \u001b[0mdf_daily\u001b[0m\u001b[1;33m[\u001b[0m\u001b[1;33m[\u001b[0m\u001b[1;34m'Max_duration_zones'\u001b[0m\u001b[1;33m,\u001b[0m \u001b[1;34m'list_of_durations'\u001b[0m\u001b[1;33m,\u001b[0m \u001b[1;34m'dico_zone_sortedduration'\u001b[0m\u001b[1;33m,\u001b[0m \u001b[1;34m'max_duration_of_stay'\u001b[0m\u001b[1;33m]\u001b[0m\u001b[1;33m]\u001b[0m\u001b[1;33m.\u001b[0m\u001b[0mhead\u001b[0m\u001b[1;33m(\u001b[0m\u001b[1;36m3\u001b[0m\u001b[1;33m)\u001b[0m\u001b[1;33m\u001b[0m\u001b[1;33m\u001b[0m\u001b[0m\n",
      "\u001b[1;32m~\\anaconda3\\lib\\site-packages\\pandas\\core\\series.py\u001b[0m in \u001b[0;36mmap\u001b[1;34m(self, arg, na_action)\u001b[0m\n\u001b[0;32m   3968\u001b[0m         \u001b[0mdtype\u001b[0m\u001b[1;33m:\u001b[0m \u001b[0mobject\u001b[0m\u001b[1;33m\u001b[0m\u001b[1;33m\u001b[0m\u001b[0m\n\u001b[0;32m   3969\u001b[0m         \"\"\"\n\u001b[1;32m-> 3970\u001b[1;33m         \u001b[0mnew_values\u001b[0m \u001b[1;33m=\u001b[0m \u001b[0msuper\u001b[0m\u001b[1;33m(\u001b[0m\u001b[1;33m)\u001b[0m\u001b[1;33m.\u001b[0m\u001b[0m_map_values\u001b[0m\u001b[1;33m(\u001b[0m\u001b[0marg\u001b[0m\u001b[1;33m,\u001b[0m \u001b[0mna_action\u001b[0m\u001b[1;33m=\u001b[0m\u001b[0mna_action\u001b[0m\u001b[1;33m)\u001b[0m\u001b[1;33m\u001b[0m\u001b[1;33m\u001b[0m\u001b[0m\n\u001b[0m\u001b[0;32m   3971\u001b[0m         return self._constructor(new_values, index=self.index).__finalize__(\n\u001b[0;32m   3972\u001b[0m             \u001b[0mself\u001b[0m\u001b[1;33m,\u001b[0m \u001b[0mmethod\u001b[0m\u001b[1;33m=\u001b[0m\u001b[1;34m\"map\"\u001b[0m\u001b[1;33m\u001b[0m\u001b[1;33m\u001b[0m\u001b[0m\n",
      "\u001b[1;32m~\\anaconda3\\lib\\site-packages\\pandas\\core\\base.py\u001b[0m in \u001b[0;36m_map_values\u001b[1;34m(self, mapper, na_action)\u001b[0m\n\u001b[0;32m   1158\u001b[0m \u001b[1;33m\u001b[0m\u001b[0m\n\u001b[0;32m   1159\u001b[0m         \u001b[1;31m# mapper is a function\u001b[0m\u001b[1;33m\u001b[0m\u001b[1;33m\u001b[0m\u001b[1;33m\u001b[0m\u001b[0m\n\u001b[1;32m-> 1160\u001b[1;33m         \u001b[0mnew_values\u001b[0m \u001b[1;33m=\u001b[0m \u001b[0mmap_f\u001b[0m\u001b[1;33m(\u001b[0m\u001b[0mvalues\u001b[0m\u001b[1;33m,\u001b[0m \u001b[0mmapper\u001b[0m\u001b[1;33m)\u001b[0m\u001b[1;33m\u001b[0m\u001b[1;33m\u001b[0m\u001b[0m\n\u001b[0m\u001b[0;32m   1161\u001b[0m \u001b[1;33m\u001b[0m\u001b[0m\n\u001b[0;32m   1162\u001b[0m         \u001b[1;32mreturn\u001b[0m \u001b[0mnew_values\u001b[0m\u001b[1;33m\u001b[0m\u001b[1;33m\u001b[0m\u001b[0m\n",
      "\u001b[1;32mpandas\\_libs\\lib.pyx\u001b[0m in \u001b[0;36mpandas._libs.lib.map_infer\u001b[1;34m()\u001b[0m\n",
      "\u001b[1;32m<ipython-input-20-d0bb39f6f7b9>\u001b[0m in \u001b[0;36m<lambda>\u001b[1;34m(x)\u001b[0m\n\u001b[0;32m      1\u001b[0m \u001b[0mdf_daily\u001b[0m\u001b[1;33m[\u001b[0m\u001b[1;34m'list_of_durations'\u001b[0m\u001b[1;33m]\u001b[0m\u001b[1;33m.\u001b[0m\u001b[0mfillna\u001b[0m\u001b[1;33m(\u001b[0m\u001b[1;34m'empty'\u001b[0m\u001b[1;33m,\u001b[0m \u001b[0minplace\u001b[0m\u001b[1;33m=\u001b[0m\u001b[1;32mTrue\u001b[0m\u001b[1;33m)\u001b[0m\u001b[1;33m\u001b[0m\u001b[1;33m\u001b[0m\u001b[0m\n\u001b[1;32m----> 2\u001b[1;33m \u001b[0mdf_daily\u001b[0m\u001b[1;33m[\u001b[0m\u001b[1;34m'list_of_durations'\u001b[0m\u001b[1;33m]\u001b[0m \u001b[1;33m=\u001b[0m \u001b[0mdf_daily\u001b[0m\u001b[1;33m[\u001b[0m\u001b[1;34m'list_of_durations'\u001b[0m\u001b[1;33m]\u001b[0m\u001b[1;33m.\u001b[0m\u001b[0mmap\u001b[0m\u001b[1;33m(\u001b[0m\u001b[1;32mlambda\u001b[0m \u001b[0mx\u001b[0m\u001b[1;33m:\u001b[0m \u001b[0meval\u001b[0m\u001b[1;33m(\u001b[0m\u001b[0mx\u001b[0m\u001b[1;33m)\u001b[0m \u001b[1;32mif\u001b[0m \u001b[0mx\u001b[0m\u001b[1;33m!=\u001b[0m\u001b[1;34m'empty'\u001b[0m \u001b[1;32melse\u001b[0m \u001b[0mnp\u001b[0m\u001b[1;33m.\u001b[0m\u001b[0mnan\u001b[0m\u001b[1;33m)\u001b[0m\u001b[1;33m\u001b[0m\u001b[1;33m\u001b[0m\u001b[0m\n\u001b[0m\u001b[0;32m      3\u001b[0m \u001b[0mdf_daily\u001b[0m\u001b[1;33m[\u001b[0m\u001b[1;34m'max_duration_of_stay'\u001b[0m\u001b[1;33m]\u001b[0m \u001b[1;33m=\u001b[0m \u001b[0mdf_daily\u001b[0m\u001b[1;33m[\u001b[0m\u001b[1;34m'list_of_durations'\u001b[0m\u001b[1;33m]\u001b[0m\u001b[1;33m.\u001b[0m\u001b[0mmap\u001b[0m\u001b[1;33m(\u001b[0m\u001b[1;32mlambda\u001b[0m \u001b[0mx\u001b[0m\u001b[1;33m:\u001b[0m \u001b[0mnp\u001b[0m\u001b[1;33m.\u001b[0m\u001b[0mnanmax\u001b[0m\u001b[1;33m(\u001b[0m\u001b[0mx\u001b[0m\u001b[1;33m)\u001b[0m\u001b[1;33m)\u001b[0m\u001b[1;33m\u001b[0m\u001b[1;33m\u001b[0m\u001b[0m\n\u001b[0;32m      4\u001b[0m \u001b[0mdf_daily\u001b[0m\u001b[1;33m[\u001b[0m\u001b[1;33m[\u001b[0m\u001b[1;34m'Max_duration_zones'\u001b[0m\u001b[1;33m,\u001b[0m \u001b[1;34m'list_of_durations'\u001b[0m\u001b[1;33m,\u001b[0m \u001b[1;34m'dico_zone_sortedduration'\u001b[0m\u001b[1;33m,\u001b[0m \u001b[1;34m'max_duration_of_stay'\u001b[0m\u001b[1;33m]\u001b[0m\u001b[1;33m]\u001b[0m\u001b[1;33m.\u001b[0m\u001b[0mhead\u001b[0m\u001b[1;33m(\u001b[0m\u001b[1;36m3\u001b[0m\u001b[1;33m)\u001b[0m\u001b[1;33m\u001b[0m\u001b[1;33m\u001b[0m\u001b[0m\n",
      "\u001b[1;32m<string>\u001b[0m in \u001b[0;36m<module>\u001b[1;34m\u001b[0m\n",
      "\u001b[1;31mNameError\u001b[0m: name 'nan' is not defined"
     ]
    }
   ],
   "source": [
    "df_daily['list_of_durations'].fillna('empty', inplace=True)\n",
    "df_daily['list_of_durations'] = df_daily['list_of_durations'].map(lambda x: eval(x) if x!='empty' else np.nan)\n",
    "df_daily['max_duration_of_stay'] = df_daily['list_of_durations'].map(lambda x: np.nanmax(x))\n",
    "df_daily[['Max_duration_zones', 'list_of_durations', 'dico_zone_sortedduration', 'max_duration_of_stay']].head(3)"
   ]
  },
  {
   "cell_type": "code",
   "execution_count": null,
   "metadata": {},
   "outputs": [],
   "source": [
    "df_plt = df_daily.groupby(['HenID','29-09 weight','Treatment'])['sucessIntrusion_9'].agg(lambda x: np.mean(x)).reset_index()\n",
    "ax = sns.regplot(x=\"29-09 weight\", y=\"sucessIntrusion_9\", data=df_plt[df_plt['Treatment']=='OFH'], color='orange')\n",
    "plt.savefig(os.path.join(path_extracted_data_visual,'sucessIntrusion_9_Weight_OHF.png'),dpi=300,format='png',bbox_inches='tight')\n",
    "plt.show()\n",
    "ax = sns.regplot(x=\"29-09 weight\", y=\"sucessIntrusion_9\", data=df_plt[df_plt['Treatment']=='TRAN'], color='blue')\n",
    "plt.savefig(os.path.join(path_extracted_data_visual_treatmentclass,'sucessIntrusion_9_Weight_TRAN.png'),dpi=300,format='png',bbox_inches='tight')"
   ]
  },
  {
   "cell_type": "code",
   "execution_count": null,
   "metadata": {},
   "outputs": [],
   "source": [
    "ax = sns.regplot(x=\"29-09 weight\", y=\"Max_duration_zone_4\", data=df_plt[df_plt['Treatment']=='OFH'])"
   ]
  },
  {
   "cell_type": "code",
   "execution_count": null,
   "metadata": {},
   "outputs": [],
   "source": [
    "ax = sns.regplot(x=\"29-09 weight\", y=\"Max_duration_zone_4\", data=df_plt[df_plt['Treatment']=='TRAN'])"
   ]
  },
  {
   "cell_type": "markdown",
   "metadata": {},
   "source": [
    "# Correlation Graph"
   ]
  },
  {
   "cell_type": "markdown",
   "metadata": {},
   "source": [
    "### correlations"
   ]
  },
  {
   "cell_type": "code",
   "execution_count": 29,
   "metadata": {},
   "outputs": [
    {
     "name": "stderr",
     "output_type": "stream",
     "text": [
      "C:\\Users\\camil\\anaconda3\\lib\\site-packages\\ipykernel\\ipkernel.py:283: DeprecationWarning: `should_run_async` will not call `transform_cell` automatically in the future. Please pass the result to `transformed_cell` argument and any exception that happen during thetransform in `preprocessing_exc_tuple` in IPython 7.17 and above.\n",
      "  and should_run_async(code)\n"
     ]
    }
   ],
   "source": [
    "#define sets of variables\n",
    "last_x_days = 5\n",
    "li_clustering = ['clustering_WG', 'clustering_general_activity', 'clustering_nestbox', 'clustering_ALL']\n",
    "li_dur = ['duration_1_Zone', 'duration_2_Zone', 'duration_3_Zone', 'duration_4_Zone', 'duration_5_Zone']\n",
    "li_tr = ['nbr_stays_3_Zone','nbr_stays_4_Zone', 'nbr_stays_5_Zone', 'nbr_stays_2_Zone', 'nbr_stays_1_Zone']\n",
    "li_missingtzone = ['down_missingZone_mvtPerc', 'up_missingZone_mvtPerc']\n",
    "li_chaotic = ['chaoticmvt_Middle1_Zone_nbr_180mn', 'chaoticmvt_Middle2_Zone_nbr_180mn', 'chaoticmvt_Middle3_Zone_nbr_180mn', \n",
    "              'chaoticmvt_Middle4_Zone_nbr_180mn']\n",
    "li_activity = ['activity_25percentile_sec', 'activity_50percentile_sec', 'activity_5percentile_sec','activity_95percentile_sec']\n",
    "li_maxzone = ['is_max_zone_duration_zone2','is_max_zone_duration_zone3',\n",
    "                       'is_max_zone_duration_zone4', 'is_max_zone_duration_zone5']\n",
    "li_maxnightzone = ['is_max_nightzone_duration_zone2',  'is_max_nightzone_duration_zone3', \n",
    "                   'is_max_nightzone_duration_zone4', 'is_max_nightzone_duration_zone5']\n",
    "li_gali = [li_dur, li_tr, li_missingtzone, li_chaotic, li_activity, li_maxzone, li_maxnightzone]\n",
    "li_general_activity = ['variance_duration', 'median_duration', 'max_duration','Total_number_zone','#trnight/#totaltr',\n",
    "                       'vertical_travel_distance','duration_last-firsttransition_mn', 'night_Total_number_transition',\n",
    "                       'Consistent_Night_Zone'+str(last_x_days)+'Days']\n",
    "li_staylonger900 = ['Nestbox1staylonger900_None', 'Nestbox1staylonger900_Afternoon', 'Nestbox1staylonger900_b8',\n",
    "                    'Nestbox1staylonger900_8-9', 'Nestbox1staylonger900_9-10', 'Nestbox1staylonger900_10-12']\n",
    "li_nestbox_usage = ['sucessIntrusion_9','TimeFirstVisitLonger15mn-TimeFirstVisit_mn','B10h_Nestbox_nbrvisit', \n",
    "                    'B10h_Nestbox_Longestduration', 'A12h_Nestbox_nbrvisit', 'A12h_Nestbox_Longestduration']\n",
    "li_WG_usage = ['nbr_stays_1_Zone', 'in_WG_15mnAfterOpening', 'Max_duration_WG', 'duration_1_Zone']"
   ]
  },
  {
   "cell_type": "code",
   "execution_count": 30,
   "metadata": {},
   "outputs": [
    {
     "name": "stderr",
     "output_type": "stream",
     "text": [
      "C:\\Users\\camil\\anaconda3\\lib\\site-packages\\ipykernel\\ipkernel.py:283: DeprecationWarning: `should_run_async` will not call `transform_cell` automatically in the future. Please pass the result to `transformed_cell` argument and any exception that happen during thetransform in `preprocessing_exc_tuple` in IPython 7.17 and above.\n",
      "  and should_run_async(code)\n"
     ]
    }
   ],
   "source": [
    "#li_cat = []\n",
    "li_cont = ['duration_5_Zone','nbr_stays_1_Zone','nbr_stays_4_Zone','distribution_entropy',\n",
    "          'sucessIntrusion_9','in_WG_15mnAfterOpening','night_Total_number_transition','vertical_travel_distance']\n",
    "li_cont = list(set(li_dur+li_tr+li_missingtzone+li_chaotic+li_activity+li_maxzone+li_maxnightzone+li_general_activity+li_staylonger900+li_nestbox_usage+li_WG_usage))"
   ]
  },
  {
   "cell_type": "code",
   "execution_count": 31,
   "metadata": {},
   "outputs": [
    {
     "name": "stderr",
     "output_type": "stream",
     "text": [
      "C:\\Users\\camil\\anaconda3\\lib\\site-packages\\ipykernel\\ipkernel.py:283: DeprecationWarning: `should_run_async` will not call `transform_cell` automatically in the future. Please pass the result to `transformed_cell` argument and any exception that happen during thetransform in `preprocessing_exc_tuple` in IPython 7.17 and above.\n",
      "  and should_run_async(code)\n"
     ]
    },
    {
     "data": {
      "text/html": [
       "<div>\n",
       "<style scoped>\n",
       "    .dataframe tbody tr th:only-of-type {\n",
       "        vertical-align: middle;\n",
       "    }\n",
       "\n",
       "    .dataframe tbody tr th {\n",
       "        vertical-align: top;\n",
       "    }\n",
       "\n",
       "    .dataframe thead th {\n",
       "        text-align: right;\n",
       "    }\n",
       "</style>\n",
       "<table border=\"1\" class=\"dataframe\">\n",
       "  <thead>\n",
       "    <tr style=\"text-align: right;\">\n",
       "      <th></th>\n",
       "      <th>activity_50percentile_sec</th>\n",
       "      <th>is_max_nightzone_duration_zone2</th>\n",
       "      <th>median_duration</th>\n",
       "      <th>B10h_Nestbox_Longestduration</th>\n",
       "      <th>vertical_travel_distance</th>\n",
       "      <th>is_max_nightzone_duration_zone4</th>\n",
       "      <th>A12h_Nestbox_Longestduration</th>\n",
       "      <th>nbr_stays_3_Zone</th>\n",
       "      <th>Max_duration_WG</th>\n",
       "      <th>duration_last-firsttransition_mn</th>\n",
       "      <th>...</th>\n",
       "      <th>TimeFirstVisitLonger15mn-TimeFirstVisit_mn</th>\n",
       "      <th>variance_duration</th>\n",
       "      <th>Consistent_Night_Zone5Days</th>\n",
       "      <th>night_Total_number_transition</th>\n",
       "      <th>up_missingZone_mvtPerc</th>\n",
       "      <th>Nestbox1staylonger900_9-10</th>\n",
       "      <th>Total_number_zone</th>\n",
       "      <th>duration_1_Zone</th>\n",
       "      <th>is_max_zone_duration_zone3</th>\n",
       "      <th>down_missingZone_mvtPerc</th>\n",
       "    </tr>\n",
       "  </thead>\n",
       "  <tbody>\n",
       "    <tr>\n",
       "      <th>0</th>\n",
       "      <td>NaN</td>\n",
       "      <td>False</td>\n",
       "      <td>NaN</td>\n",
       "      <td>NaN</td>\n",
       "      <td>NaN</td>\n",
       "      <td>False</td>\n",
       "      <td>NaN</td>\n",
       "      <td>NaN</td>\n",
       "      <td>NaN</td>\n",
       "      <td>NaN</td>\n",
       "      <td>...</td>\n",
       "      <td>NaN</td>\n",
       "      <td>NaN</td>\n",
       "      <td>NaN</td>\n",
       "      <td>1.0</td>\n",
       "      <td>NaN</td>\n",
       "      <td>False</td>\n",
       "      <td>NaN</td>\n",
       "      <td>NaN</td>\n",
       "      <td>False</td>\n",
       "      <td>NaN</td>\n",
       "    </tr>\n",
       "    <tr>\n",
       "      <th>1</th>\n",
       "      <td>41290.0</td>\n",
       "      <td>False</td>\n",
       "      <td>515.0</td>\n",
       "      <td>0.0</td>\n",
       "      <td>9.0</td>\n",
       "      <td>False</td>\n",
       "      <td>58426.0</td>\n",
       "      <td>2.0</td>\n",
       "      <td>0.0</td>\n",
       "      <td>415.0</td>\n",
       "      <td>...</td>\n",
       "      <td>323.0</td>\n",
       "      <td>4.006536e+07</td>\n",
       "      <td>NaN</td>\n",
       "      <td>4.0</td>\n",
       "      <td>16.666667</td>\n",
       "      <td>False</td>\n",
       "      <td>4.0</td>\n",
       "      <td>0.0</td>\n",
       "      <td>False</td>\n",
       "      <td>16.666667</td>\n",
       "    </tr>\n",
       "  </tbody>\n",
       "</table>\n",
       "<p>2 rows × 51 columns</p>\n",
       "</div>"
      ],
      "text/plain": [
       "   activity_50percentile_sec  is_max_nightzone_duration_zone2  \\\n",
       "0                        NaN                            False   \n",
       "1                    41290.0                            False   \n",
       "\n",
       "   median_duration  B10h_Nestbox_Longestduration  vertical_travel_distance  \\\n",
       "0              NaN                           NaN                       NaN   \n",
       "1            515.0                           0.0                       9.0   \n",
       "\n",
       "   is_max_nightzone_duration_zone4  A12h_Nestbox_Longestduration  \\\n",
       "0                            False                           NaN   \n",
       "1                            False                       58426.0   \n",
       "\n",
       "   nbr_stays_3_Zone  Max_duration_WG  duration_last-firsttransition_mn  ...  \\\n",
       "0               NaN              NaN                               NaN  ...   \n",
       "1               2.0              0.0                             415.0  ...   \n",
       "\n",
       "   TimeFirstVisitLonger15mn-TimeFirstVisit_mn  variance_duration  \\\n",
       "0                                         NaN                NaN   \n",
       "1                                       323.0       4.006536e+07   \n",
       "\n",
       "   Consistent_Night_Zone5Days  night_Total_number_transition  \\\n",
       "0                         NaN                            1.0   \n",
       "1                         NaN                            4.0   \n",
       "\n",
       "   up_missingZone_mvtPerc  Nestbox1staylonger900_9-10  Total_number_zone  \\\n",
       "0                     NaN                       False                NaN   \n",
       "1               16.666667                       False                4.0   \n",
       "\n",
       "   duration_1_Zone  is_max_zone_duration_zone3  down_missingZone_mvtPerc  \n",
       "0              NaN                       False                       NaN  \n",
       "1              0.0                       False                 16.666667  \n",
       "\n",
       "[2 rows x 51 columns]"
      ]
     },
     "execution_count": 31,
     "metadata": {},
     "output_type": "execute_result"
    }
   ],
   "source": [
    "df_daily[li_cont].head(2)"
   ]
  },
  {
   "cell_type": "code",
   "execution_count": 32,
   "metadata": {
    "scrolled": false
   },
   "outputs": [
    {
     "name": "stderr",
     "output_type": "stream",
     "text": [
      "C:\\Users\\camil\\anaconda3\\lib\\site-packages\\ipykernel\\ipkernel.py:283: DeprecationWarning: `should_run_async` will not call `transform_cell` automatically in the future. Please pass the result to `transformed_cell` argument and any exception that happen during thetransform in `preprocessing_exc_tuple` in IPython 7.17 and above.\n",
      "  and should_run_async(code)\n",
      "  0%|                                                                                            | 0/1 [00:00<?, ?it/s]C:\\Users\\camil\\anaconda3\\lib\\site-packages\\scipy\\stats\\stats.py:4196: SpearmanRConstantInputWarning: An input array is constant; the correlation coefficent is not defined.\n",
      "  warnings.warn(SpearmanRConstantInputWarning())\n",
      "C:\\Users\\camil\\anaconda3\\lib\\site-packages\\scipy\\stats\\stats.py:3845: PearsonRConstantInputWarning: An input array is constant; the correlation coefficent is not defined.\n",
      "  warnings.warn(PearsonRConstantInputWarning())\n",
      "C:\\Users\\camil\\anaconda3\\lib\\site-packages\\scipy\\stats\\stats.py:4196: SpearmanRConstantInputWarning: An input array is constant; the correlation coefficent is not defined.\n",
      "  warnings.warn(SpearmanRConstantInputWarning())\n",
      "C:\\Users\\camil\\anaconda3\\lib\\site-packages\\scipy\\stats\\stats.py:3845: PearsonRConstantInputWarning: An input array is constant; the correlation coefficent is not defined.\n",
      "  warnings.warn(PearsonRConstantInputWarning())\n",
      "C:\\Users\\camil\\anaconda3\\lib\\site-packages\\scipy\\stats\\stats.py:4196: SpearmanRConstantInputWarning: An input array is constant; the correlation coefficent is not defined.\n",
      "  warnings.warn(SpearmanRConstantInputWarning())\n",
      "C:\\Users\\camil\\anaconda3\\lib\\site-packages\\scipy\\stats\\stats.py:3845: PearsonRConstantInputWarning: An input array is constant; the correlation coefficent is not defined.\n",
      "  warnings.warn(PearsonRConstantInputWarning())\n",
      "C:\\Users\\camil\\anaconda3\\lib\\site-packages\\scipy\\stats\\stats.py:4196: SpearmanRConstantInputWarning: An input array is constant; the correlation coefficent is not defined.\n",
      "  warnings.warn(SpearmanRConstantInputWarning())\n",
      "C:\\Users\\camil\\anaconda3\\lib\\site-packages\\scipy\\stats\\stats.py:3845: PearsonRConstantInputWarning: An input array is constant; the correlation coefficent is not defined.\n",
      "  warnings.warn(PearsonRConstantInputWarning())\n",
      "C:\\Users\\camil\\anaconda3\\lib\\site-packages\\scipy\\stats\\stats.py:4196: SpearmanRConstantInputWarning: An input array is constant; the correlation coefficent is not defined.\n",
      "  warnings.warn(SpearmanRConstantInputWarning())\n",
      "C:\\Users\\camil\\anaconda3\\lib\\site-packages\\scipy\\stats\\stats.py:3845: PearsonRConstantInputWarning: An input array is constant; the correlation coefficent is not defined.\n",
      "  warnings.warn(PearsonRConstantInputWarning())\n",
      "100%|████████████████████████████████████████████████████████████████████████████████████| 1/1 [00:00<00:00,  1.91it/s]"
     ]
    },
    {
     "name": "stdout",
     "output_type": "stream",
     "text": [
      "there might be an issue\n",
      "['Illumination_percentage', 'nbr_transition_at_h4']\n",
      "there might be an issue\n",
      "['Illumination_percentage', 'nbr_transition_at_h5']\n",
      "there might be an issue\n",
      "['Illumination_percentage', 'nbr_transition_at_h6']\n",
      "there might be an issue\n",
      "['Illumination_percentage', 'nbr_transition_at_h7']\n",
      "there might be an issue\n",
      "['Illumination_percentage', 'nbr_transition_at_h8']\n",
      "-------------------------------------------------------------------\n",
      "There is 5 potential issues, and 19 significant correlation out of 63\n",
      "(63, 6)\n"
     ]
    },
    {
     "name": "stderr",
     "output_type": "stream",
     "text": [
      "\n"
     ]
    },
    {
     "data": {
      "text/html": [
       "<div>\n",
       "<style scoped>\n",
       "    .dataframe tbody tr th:only-of-type {\n",
       "        vertical-align: middle;\n",
       "    }\n",
       "\n",
       "    .dataframe tbody tr th {\n",
       "        vertical-align: top;\n",
       "    }\n",
       "\n",
       "    .dataframe thead th {\n",
       "        text-align: right;\n",
       "    }\n",
       "</style>\n",
       "<table border=\"1\" class=\"dataframe\">\n",
       "  <thead>\n",
       "    <tr style=\"text-align: right;\">\n",
       "      <th></th>\n",
       "      <th>var1</th>\n",
       "      <th>var2</th>\n",
       "      <th>val_spear</th>\n",
       "      <th>pval_spear</th>\n",
       "      <th>val_pers</th>\n",
       "      <th>pval_pers</th>\n",
       "    </tr>\n",
       "  </thead>\n",
       "  <tbody>\n",
       "    <tr>\n",
       "      <th>22</th>\n",
       "      <td>Illumination_percentage</td>\n",
       "      <td>activity_5percentile_sec</td>\n",
       "      <td>0.181450</td>\n",
       "      <td>1.280381e-09</td>\n",
       "      <td>0.167309</td>\n",
       "      <td>2.274210e-08</td>\n",
       "    </tr>\n",
       "    <tr>\n",
       "      <th>9</th>\n",
       "      <td>Illumination_percentage</td>\n",
       "      <td>duration_last-firsttransition_mn</td>\n",
       "      <td>-0.159459</td>\n",
       "      <td>9.500666e-08</td>\n",
       "      <td>-0.079980</td>\n",
       "      <td>7.732617e-03</td>\n",
       "    </tr>\n",
       "    <tr>\n",
       "      <th>3</th>\n",
       "      <td>Illumination_percentage</td>\n",
       "      <td>B10h_Nestbox_Longestduration</td>\n",
       "      <td>-0.110277</td>\n",
       "      <td>2.352183e-04</td>\n",
       "      <td>-0.054378</td>\n",
       "      <td>7.039426e-02</td>\n",
       "    </tr>\n",
       "    <tr>\n",
       "      <th>32</th>\n",
       "      <td>Illumination_percentage</td>\n",
       "      <td>Nestbox1staylonger900_b8</td>\n",
       "      <td>-0.098074</td>\n",
       "      <td>3.427895e-04</td>\n",
       "      <td>-0.088827</td>\n",
       "      <td>1.188595e-03</td>\n",
       "    </tr>\n",
       "    <tr>\n",
       "      <th>25</th>\n",
       "      <td>Illumination_percentage</td>\n",
       "      <td>sucessIntrusion_9</td>\n",
       "      <td>-0.104802</td>\n",
       "      <td>4.754672e-04</td>\n",
       "      <td>-0.062145</td>\n",
       "      <td>3.861437e-02</td>\n",
       "    </tr>\n",
       "    <tr>\n",
       "      <th>54</th>\n",
       "      <td>Illumination_percentage</td>\n",
       "      <td>nbr_transition_at_h3</td>\n",
       "      <td>0.083730</td>\n",
       "      <td>2.251203e-03</td>\n",
       "      <td>0.062149</td>\n",
       "      <td>2.346911e-02</td>\n",
       "    </tr>\n",
       "    <tr>\n",
       "      <th>16</th>\n",
       "      <td>Illumination_percentage</td>\n",
       "      <td>chaoticmvt_Middle1_Zone_nbr_180mn</td>\n",
       "      <td>-0.082398</td>\n",
       "      <td>6.063488e-03</td>\n",
       "      <td>-0.055141</td>\n",
       "      <td>6.653871e-02</td>\n",
       "    </tr>\n",
       "    <tr>\n",
       "      <th>6</th>\n",
       "      <td>Illumination_percentage</td>\n",
       "      <td>A12h_Nestbox_Longestduration</td>\n",
       "      <td>0.079472</td>\n",
       "      <td>8.131705e-03</td>\n",
       "      <td>0.056805</td>\n",
       "      <td>5.872756e-02</td>\n",
       "    </tr>\n",
       "    <tr>\n",
       "      <th>17</th>\n",
       "      <td>Illumination_percentage</td>\n",
       "      <td>in_WG_15mnAfterOpening</td>\n",
       "      <td>-0.079304</td>\n",
       "      <td>8.267704e-03</td>\n",
       "      <td>-0.093209</td>\n",
       "      <td>1.897077e-03</td>\n",
       "    </tr>\n",
       "    <tr>\n",
       "      <th>44</th>\n",
       "      <td>Illumination_percentage</td>\n",
       "      <td>night_Total_number_transition</td>\n",
       "      <td>-0.065957</td>\n",
       "      <td>1.617987e-02</td>\n",
       "      <td>-0.019608</td>\n",
       "      <td>4.750998e-01</td>\n",
       "    </tr>\n",
       "  </tbody>\n",
       "</table>\n",
       "</div>"
      ],
      "text/plain": [
       "                       var1                               var2  val_spear  \\\n",
       "22  Illumination_percentage           activity_5percentile_sec   0.181450   \n",
       "9   Illumination_percentage   duration_last-firsttransition_mn  -0.159459   \n",
       "3   Illumination_percentage       B10h_Nestbox_Longestduration  -0.110277   \n",
       "32  Illumination_percentage           Nestbox1staylonger900_b8  -0.098074   \n",
       "25  Illumination_percentage                  sucessIntrusion_9  -0.104802   \n",
       "54  Illumination_percentage               nbr_transition_at_h3   0.083730   \n",
       "16  Illumination_percentage  chaoticmvt_Middle1_Zone_nbr_180mn  -0.082398   \n",
       "6   Illumination_percentage       A12h_Nestbox_Longestduration   0.079472   \n",
       "17  Illumination_percentage             in_WG_15mnAfterOpening  -0.079304   \n",
       "44  Illumination_percentage      night_Total_number_transition  -0.065957   \n",
       "\n",
       "      pval_spear  val_pers     pval_pers  \n",
       "22  1.280381e-09  0.167309  2.274210e-08  \n",
       "9   9.500666e-08 -0.079980  7.732617e-03  \n",
       "3   2.352183e-04 -0.054378  7.039426e-02  \n",
       "32  3.427895e-04 -0.088827  1.188595e-03  \n",
       "25  4.754672e-04 -0.062145  3.861437e-02  \n",
       "54  2.251203e-03  0.062149  2.346911e-02  \n",
       "16  6.063488e-03 -0.055141  6.653871e-02  \n",
       "6   8.131705e-03  0.056805  5.872756e-02  \n",
       "17  8.267704e-03 -0.093209  1.897077e-03  \n",
       "44  1.617987e-02 -0.019608  4.750998e-01  "
      ]
     },
     "execution_count": 32,
     "metadata": {},
     "output_type": "execute_result"
    }
   ],
   "source": [
    "li_night = ['nbr_transition_at_h0',\n",
    " 'nbr_transition_at_h1',\n",
    " 'nbr_transition_at_h2',\n",
    " 'nbr_transition_at_h3',\n",
    " 'nbr_transition_at_h4',\n",
    " 'nbr_transition_at_h5',\n",
    " 'nbr_transition_at_h6',\n",
    " 'nbr_transition_at_h7',\n",
    " 'nbr_transition_at_h8',\n",
    " 'nbr_transition_at_h21',\n",
    " 'nbr_transition_at_h22',\n",
    " 'nbr_transition_at_h23']\n",
    "li_output =  ['Illumination_percentage'] #li_weight.copy()+['DOA'] 'moon_name', \n",
    "df_significance = corr_from_dep2feature(li_output, li_cont+li_night, df_daily[df_daily['moon_name'].isin(['full moon','new moon'])], p_val=0.05)\n",
    "#df_significance.to_csv(os.path.join(path_save_LDA, 'correlation_cont_cont.csv'),sep=';')\n",
    "print(df_significance.shape)\n",
    "df_significance.sort_values(['pval_spear'], ascending=True).head(10)"
   ]
  },
  {
   "cell_type": "code",
   "execution_count": 33,
   "metadata": {},
   "outputs": [
    {
     "name": "stderr",
     "output_type": "stream",
     "text": [
      "C:\\Users\\camil\\anaconda3\\lib\\site-packages\\ipykernel\\ipkernel.py:283: DeprecationWarning: `should_run_async` will not call `transform_cell` automatically in the future. Please pass the result to `transformed_cell` argument and any exception that happen during thetransform in `preprocessing_exc_tuple` in IPython 7.17 and above.\n",
      "  and should_run_async(code)\n",
      "100%|████████████████████████████████████████████████████████████████████████████████████| 1/1 [00:03<00:00,  3.88s/it]"
     ]
    },
    {
     "name": "stdout",
     "output_type": "stream",
     "text": [
      "-------------------------------------------------------------------\n",
      "There is 0 potential issues, and 43 significant correlation out of 51\n",
      "(51, 6)\n"
     ]
    },
    {
     "name": "stderr",
     "output_type": "stream",
     "text": [
      "\n"
     ]
    },
    {
     "data": {
      "text/html": [
       "<div>\n",
       "<style scoped>\n",
       "    .dataframe tbody tr th:only-of-type {\n",
       "        vertical-align: middle;\n",
       "    }\n",
       "\n",
       "    .dataframe tbody tr th {\n",
       "        vertical-align: top;\n",
       "    }\n",
       "\n",
       "    .dataframe thead th {\n",
       "        text-align: right;\n",
       "    }\n",
       "</style>\n",
       "<table border=\"1\" class=\"dataframe\">\n",
       "  <thead>\n",
       "    <tr style=\"text-align: right;\">\n",
       "      <th></th>\n",
       "      <th>var1</th>\n",
       "      <th>var2</th>\n",
       "      <th>val_spear</th>\n",
       "      <th>pval_spear</th>\n",
       "      <th>val_pers</th>\n",
       "      <th>pval_pers</th>\n",
       "    </tr>\n",
       "  </thead>\n",
       "  <tbody>\n",
       "    <tr>\n",
       "      <th>32</th>\n",
       "      <td>had_rainorsnow</td>\n",
       "      <td>Nestbox1staylonger900_b8</td>\n",
       "      <td>0.114424</td>\n",
       "      <td>3.843258e-78</td>\n",
       "      <td>0.114424</td>\n",
       "      <td>3.843258e-78</td>\n",
       "    </tr>\n",
       "    <tr>\n",
       "      <th>13</th>\n",
       "      <td>had_rainorsnow</td>\n",
       "      <td>Nestbox1staylonger900_None</td>\n",
       "      <td>-0.104788</td>\n",
       "      <td>9.115707e-66</td>\n",
       "      <td>-0.104788</td>\n",
       "      <td>9.115707e-66</td>\n",
       "    </tr>\n",
       "    <tr>\n",
       "      <th>9</th>\n",
       "      <td>had_rainorsnow</td>\n",
       "      <td>duration_last-firsttransition_mn</td>\n",
       "      <td>0.084546</td>\n",
       "      <td>3.881672e-34</td>\n",
       "      <td>0.099662</td>\n",
       "      <td>7.985449e-47</td>\n",
       "    </tr>\n",
       "    <tr>\n",
       "      <th>22</th>\n",
       "      <td>had_rainorsnow</td>\n",
       "      <td>activity_5percentile_sec</td>\n",
       "      <td>-0.081504</td>\n",
       "      <td>4.263724e-31</td>\n",
       "      <td>-0.109044</td>\n",
       "      <td>1.976613e-54</td>\n",
       "    </tr>\n",
       "    <tr>\n",
       "      <th>47</th>\n",
       "      <td>had_rainorsnow</td>\n",
       "      <td>Total_number_zone</td>\n",
       "      <td>0.076927</td>\n",
       "      <td>1.556066e-28</td>\n",
       "      <td>0.083490</td>\n",
       "      <td>2.493442e-33</td>\n",
       "    </tr>\n",
       "    <tr>\n",
       "      <th>38</th>\n",
       "      <td>had_rainorsnow</td>\n",
       "      <td>B10h_Nestbox_nbrvisit</td>\n",
       "      <td>0.075391</td>\n",
       "      <td>1.809965e-27</td>\n",
       "      <td>0.062034</td>\n",
       "      <td>4.229246e-19</td>\n",
       "    </tr>\n",
       "    <tr>\n",
       "      <th>7</th>\n",
       "      <td>had_rainorsnow</td>\n",
       "      <td>nbr_stays_3_Zone</td>\n",
       "      <td>0.075264</td>\n",
       "      <td>2.212424e-27</td>\n",
       "      <td>0.074889</td>\n",
       "      <td>3.997642e-27</td>\n",
       "    </tr>\n",
       "    <tr>\n",
       "      <th>31</th>\n",
       "      <td>had_rainorsnow</td>\n",
       "      <td>nbr_stays_2_Zone</td>\n",
       "      <td>0.074447</td>\n",
       "      <td>7.981074e-27</td>\n",
       "      <td>0.071271</td>\n",
       "      <td>1.025707e-24</td>\n",
       "    </tr>\n",
       "    <tr>\n",
       "      <th>4</th>\n",
       "      <td>had_rainorsnow</td>\n",
       "      <td>vertical_travel_distance</td>\n",
       "      <td>0.072691</td>\n",
       "      <td>1.201332e-25</td>\n",
       "      <td>0.076479</td>\n",
       "      <td>3.201083e-28</td>\n",
       "    </tr>\n",
       "    <tr>\n",
       "      <th>15</th>\n",
       "      <td>had_rainorsnow</td>\n",
       "      <td>nbr_stays_1_Zone</td>\n",
       "      <td>0.071033</td>\n",
       "      <td>1.462618e-24</td>\n",
       "      <td>0.054389</td>\n",
       "      <td>4.938758e-15</td>\n",
       "    </tr>\n",
       "  </tbody>\n",
       "</table>\n",
       "</div>"
      ],
      "text/plain": [
       "              var1                              var2  val_spear    pval_spear  \\\n",
       "32  had_rainorsnow          Nestbox1staylonger900_b8   0.114424  3.843258e-78   \n",
       "13  had_rainorsnow        Nestbox1staylonger900_None  -0.104788  9.115707e-66   \n",
       "9   had_rainorsnow  duration_last-firsttransition_mn   0.084546  3.881672e-34   \n",
       "22  had_rainorsnow          activity_5percentile_sec  -0.081504  4.263724e-31   \n",
       "47  had_rainorsnow                 Total_number_zone   0.076927  1.556066e-28   \n",
       "38  had_rainorsnow             B10h_Nestbox_nbrvisit   0.075391  1.809965e-27   \n",
       "7   had_rainorsnow                  nbr_stays_3_Zone   0.075264  2.212424e-27   \n",
       "31  had_rainorsnow                  nbr_stays_2_Zone   0.074447  7.981074e-27   \n",
       "4   had_rainorsnow          vertical_travel_distance   0.072691  1.201332e-25   \n",
       "15  had_rainorsnow                  nbr_stays_1_Zone   0.071033  1.462618e-24   \n",
       "\n",
       "    val_pers     pval_pers  \n",
       "32  0.114424  3.843258e-78  \n",
       "13 -0.104788  9.115707e-66  \n",
       "9   0.099662  7.985449e-47  \n",
       "22 -0.109044  1.976613e-54  \n",
       "47  0.083490  2.493442e-33  \n",
       "38  0.062034  4.229246e-19  \n",
       "7   0.074889  3.997642e-27  \n",
       "31  0.071271  1.025707e-24  \n",
       "4   0.076479  3.201083e-28  \n",
       "15  0.054389  4.938758e-15  "
      ]
     },
     "execution_count": 33,
     "metadata": {},
     "output_type": "execute_result"
    }
   ],
   "source": [
    "li_output =  ['had_rainorsnow'] #li_weight.copy()+['DOA'] 'moon_name', \n",
    "df_significance = corr_from_dep2feature(li_output, li_cont, df_daily, p_val=0.05)\n",
    "#df_significance.to_csv(os.path.join(path_save_LDA, 'correlation_cont_cont.csv'),sep=';')\n",
    "print(df_significance.shape)\n",
    "df_significance.sort_values(['pval_spear'], ascending=True).head(10)"
   ]
  },
  {
   "cell_type": "markdown",
   "metadata": {},
   "source": [
    "## Moon"
   ]
  },
  {
   "cell_type": "markdown",
   "metadata": {},
   "source": [
    "ax = plt.subplots(figsize=(18,3))\n",
    "ax = sns.boxplot(x=\"moon_name\", y=\"night_Total_number_transition\", data=df_daily) \n",
    "#[df_daily['moon_name'].isin(['full moon','new moon'])]) #trnight/#totaltr\n",
    "#ax = sns.boxplot(x=\"moon_name\", y=\"#trnight/#totaltr\", data=df_daily[df_daily['moon_name'].isin(['full moon','new moon'])])"
   ]
  },
  {
   "cell_type": "code",
   "execution_count": 21,
   "metadata": {},
   "outputs": [
    {
     "name": "stderr",
     "output_type": "stream",
     "text": [
      "C:\\Users\\camil\\anaconda3\\lib\\site-packages\\ipykernel\\ipkernel.py:283: DeprecationWarning: `should_run_async` will not call `transform_cell` automatically in the future. Please pass the result to `transformed_cell` argument and any exception that happen during thetransform in `preprocessing_exc_tuple` in IPython 7.17 and above.\n",
      "  and should_run_async(code)\n"
     ]
    },
    {
     "data": {
      "text/plain": [
       "42    2020-11-12\n",
       "187   2020-11-12\n",
       "Name: level, dtype: datetime64[ns]"
      ]
     },
     "execution_count": 21,
     "metadata": {},
     "output_type": "execute_result"
    }
   ],
   "source": [
    "df_daily[df_daily['DOA']==162]['level'].head(2)"
   ]
  },
  {
   "cell_type": "code",
   "execution_count": 22,
   "metadata": {},
   "outputs": [
    {
     "name": "stderr",
     "output_type": "stream",
     "text": [
      "C:\\Users\\camil\\anaconda3\\lib\\site-packages\\ipykernel\\ipkernel.py:283: DeprecationWarning: `should_run_async` will not call `transform_cell` automatically in the future. Please pass the result to `transformed_cell` argument and any exception that happen during thetransform in `preprocessing_exc_tuple` in IPython 7.17 and above.\n",
      "  and should_run_async(code)\n"
     ]
    },
    {
     "data": {
      "text/plain": [
       "<AxesSubplot:xlabel='DOA', ylabel='Illumination_percentage'>"
      ]
     },
     "execution_count": 22,
     "metadata": {},
     "output_type": "execute_result"
    },
    {
     "data": {
      "image/png": "[encoded data removed]",
      "text/plain": [
       "<Figure size 3600x216 with 1 Axes>"
      ]
     },
     "metadata": {
      "needs_background": "light"
     },
     "output_type": "display_data"
    },
    {
     "data": {
      "image/png": "[encoded data removed]",
      "text/plain": [
       "<Figure size 3600x216 with 1 Axes>"
      ]
     },
     "metadata": {
      "needs_background": "light"
     },
     "output_type": "display_data"
    }
   ],
   "source": [
    "ax = plt.subplots(figsize=(50,3))\n",
    "sns.boxplot(x=\"DOA\", y=\"nbr_transition_at_h2\", fliersize=0.1, data=df_daily) \n",
    "ax = plt.subplots(figsize=(50,3))\n",
    "sns.lineplot(data=df_daily, x=\"DOA\", y=\"Illumination_percentage\")"
   ]
  },
  {
   "cell_type": "markdown",
   "metadata": {},
   "source": [
    "ax = plt.subplots(figsize=(50,3))\n",
    "sns.boxplot(x=\"DOA\", y=\"#trnight/#totaltr\", fliersize=0.1, data=df_daily) \n",
    "ax = plt.subplots(figsize=(50,3))\n",
    "sns.lineplot(data=df_daily, x=\"DOA\", y=\"Illumination_percentage\")"
   ]
  },
  {
   "cell_type": "markdown",
   "metadata": {},
   "source": [
    "#night_Total_number_transition better than #night/#total\n",
    "ax = plt.subplots(figsize=(4,3))\n",
    "ax = sns.boxplot(x=\"moon_name\", y=\"night_Total_number_transition\", data=df_daily[df_daily['moon_name'].isin(['full moon','new moon'])]) \n",
    "plt.savefig(os.path.join(path_extracted_data_visual,'Moon.png'),dpi=300,format='png',bbox_inches='tight')"
   ]
  },
  {
   "cell_type": "markdown",
   "metadata": {},
   "source": [
    "def illum_type(x):\n",
    "    if x<=45:\n",
    "        return 'NM'\n",
    "    elif x>=55:\n",
    "        return 'FM'\n",
    "    else:\n",
    "        return None\n",
    "df_daily['Illumination_percentage_cat'] = df_daily['Illumination_percentage'].map(lambda x: illum_type(x))\n",
    "ax = plt.subplots(figsize=(4,3))\n",
    "ax = sns.boxplot(x=\"Illumination_percentage_cat\", y=\"night_Total_number_transition\", data=df_daily[df_daily['night_Total_number_transition']<10]) \n",
    "#[df_daily['moon_name'].isin(['full moon','new moon'])]) #trnight/#totaltr\n",
    "#ax = sns.boxplot(x=\"moon_name\", y=\"#trnight/#totaltr\", data=df_daily[df_daily['moon_name'].isin(['full moon','new moon'])])"
   ]
  },
  {
   "cell_type": "markdown",
   "metadata": {},
   "source": [
    "t = 'Illumination_percentage_cat' #moon_name\n",
    "df_plt = df_daily[df_daily['moon_name'].isin(['full moon','new moon'])][['moon_name','night_Total_number_transition']]\n",
    "print(df_plt.shape)\n",
    "df_plt.dropna(axis=0,inplace=True)\n",
    "print(df_plt.shape)\n",
    "display(df_plt.head(3))\n",
    "#no ttest as clearly not normally distr.\n",
    "#todo: #dependant sample! on esch month you compare same birds to full and new moon\n",
    "#df_daily[df_daily['moon_name'].isin(['full moon','new moon'])].sort_values('level').\n",
    "#also make it normally distributed and homogeneity of variance\n",
    "sns.histplot(df_plt, x='night_Total_number_transition', hue=\"moon_name\", element='step', kde=True, stat=\"density\", common_norm=False);\n",
    "#plt.xlabel('weight on DOA 118')\n",
    "#plt.savefig(os.path.join(path_extracted_data_visual,wei+'.png'),dpi=300,format='png',bbox_inches='tight')\n",
    "plt.show()"
   ]
  },
  {
   "cell_type": "code",
   "execution_count": null,
   "metadata": {},
   "outputs": [],
   "source": [
    "df_plt = df_daily[['had_rainorsnow','night_Total_number_transition']]\n",
    "print(df_plt.shape)\n",
    "df_plt.dropna(axis=0,inplace=True)\n",
    "print(df_plt.shape)\n",
    "display(df_plt.head(3))\n",
    "#no ttest as clearly not normal!\n",
    "sns.histplot(df_plt, x='night_Total_number_transition', hue=\"had_rainorsnow\", element='step', kde=True, stat=\"density\", common_norm=False);\n",
    "#plt.xlabel('weight on DOA 118')\n",
    "#plt.savefig(os.path.join(path_extracted_data_visual,wei+'.png'),dpi=300,format='png',bbox_inches='tight')\n",
    "plt.show()"
   ]
  },
  {
   "cell_type": "markdown",
   "metadata": {},
   "source": [
    "df_plt = df_daily[['Illumination_percentage_cat','night_Total_number_transition']]\n",
    "print(df_plt.shape)\n",
    "df_plt.dropna(axis=0,inplace=True)\n",
    "print(df_plt.shape)\n",
    "display(df_plt.head(3))\n",
    "##no ttest as clearly not normal!\n",
    "sns.histplot(df_plt, x='night_Total_number_transition', hue=\"Illumination_percentage_cat\", element='step', kde=True, stat=\"density\", common_norm=False);\n",
    "#plt.xlabel('weight on DOA 118')\n",
    "#plt.savefig(os.path.join(path_extracted_data_visual,wei+'.png'),dpi=300,format='png',bbox_inches='tight')\n",
    "plt.show()"
   ]
  },
  {
   "cell_type": "code",
   "execution_count": null,
   "metadata": {},
   "outputs": [],
   "source": [
    "df_feature_feature = corr_from_feature2feature(li_cont, df_daily, p_val=0.01) #not 0.05 as by def they are all somehow correlate\n",
    "df_feature_feature.to_csv(os.path.join(path_extracted_data_visual_corr, 'correlation_feature_feature.csv'),sep=';')\n",
    "print(df_feature_feature.shape)\n",
    "df_feature_feature.head(3)"
   ]
  },
  {
   "cell_type": "markdown",
   "metadata": {},
   "source": [
    "### graph"
   ]
  },
  {
   "cell_type": "code",
   "execution_count": null,
   "metadata": {},
   "outputs": [],
   "source": [
    "correlationGraph(df_feature_feature, path_extracted_data_visual_corr, name_='all_variable')"
   ]
  },
  {
   "cell_type": "markdown",
   "metadata": {},
   "source": [
    "# Location per hour of the day"
   ]
  },
  {
   "cell_type": "code",
   "execution_count": null,
   "metadata": {},
   "outputs": [],
   "source": [
    "#for being more reproductible, we open the file that was saved from cleaning\n",
    "df = pd.read_csv(os.path.join(path_extracted_data, id_run+'_CLEANEDDATA.csv'), sep=';', parse_dates=['Timestamp', 'date'],\n",
    "                dayfirst=True) \n",
    "print(df.shape)\n",
    "df.head(3)"
   ]
  },
  {
   "cell_type": "code",
   "execution_count": null,
   "metadata": {},
   "outputs": [],
   "source": [
    "START_TIME = time.perf_counter()\n",
    "for p in tqdm.tqdm(df['PenID'].unique()):\n",
    "    ZoneVariable(df=df[df['PenID']==p], config=config, timestamp_name='Timestamp', save=True, red_dot_for_each_hen=False, \n",
    "                 nbr_bird_per_square_meter=False, name_=p)\n",
    "END_TIME = time.perf_counter()\n",
    "print (\"Total running time: %.2f mn\" %((END_TIME-START_TIME)/60))  "
   ]
  },
  {
   "cell_type": "code",
   "execution_count": null,
   "metadata": {},
   "outputs": [],
   "source": []
  },
  {
   "cell_type": "code",
   "execution_count": null,
   "metadata": {},
   "outputs": [],
   "source": []
  },
  {
   "cell_type": "code",
   "execution_count": null,
   "metadata": {},
   "outputs": [],
   "source": []
  },
  {
   "cell_type": "code",
   "execution_count": null,
   "metadata": {},
   "outputs": [],
   "source": []
  },
  {
   "cell_type": "code",
   "execution_count": null,
   "metadata": {},
   "outputs": [],
   "source": []
  },
  {
   "cell_type": "code",
   "execution_count": null,
   "metadata": {},
   "outputs": [],
   "source": []
  },
  {
   "cell_type": "code",
   "execution_count": null,
   "metadata": {},
   "outputs": [],
   "source": []
  }
 ],
 "metadata": {
  "kernelspec": {
   "display_name": "Python 3",
   "language": "python",
   "name": "python3"
  },
  "language_info": {
   "codemirror_mode": {
    "name": "ipython",
    "version": 3
   },
   "file_extension": ".py",
   "mimetype": "text/x-python",
   "name": "python",
   "nbconvert_exporter": "python",
   "pygments_lexer": "ipython3",
   "version": "3.8.5"
  }
 },
 "nbformat": 4,
 "nbformat_minor": 2
}
