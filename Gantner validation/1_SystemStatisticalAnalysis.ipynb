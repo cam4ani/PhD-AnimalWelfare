{
 "cells": [
  {
   "cell_type": "code",
   "execution_count": 1,
   "metadata": {},
   "outputs": [
    {
     "name": "stderr",
     "output_type": "stream",
     "text": [
      "Loading required package: lpSolve\n",
      "\n",
      "-- \u001b[1mAttaching packages\u001b[22m --------------------------------------- tidyverse 1.3.0 --\n",
      "\n",
      "\u001b[32mv\u001b[39m \u001b[34mggplot2\u001b[39m 3.3.2     \u001b[32mv\u001b[39m \u001b[34mdplyr  \u001b[39m 1.0.1\n",
      "\u001b[32mv\u001b[39m \u001b[34mtibble \u001b[39m 3.0.3     \u001b[32mv\u001b[39m \u001b[34mstringr\u001b[39m 1.4.0\n",
      "\u001b[32mv\u001b[39m \u001b[34mpurrr  \u001b[39m 0.3.4     \u001b[32mv\u001b[39m \u001b[34mforcats\u001b[39m 0.5.0\n",
      "\n",
      "-- \u001b[1mConflicts\u001b[22m ------------------------------------------ tidyverse_conflicts() --\n",
      "\u001b[31mx\u001b[39m \u001b[34mdplyr\u001b[39m::\u001b[32mfilter()\u001b[39m masks \u001b[34mstats\u001b[39m::filter()\n",
      "\u001b[31mx\u001b[39m \u001b[34mdplyr\u001b[39m::\u001b[32mlag()\u001b[39m    masks \u001b[34mstats\u001b[39m::lag()\n",
      "\n",
      "Loading required package: lattice\n",
      "\n",
      "Registered S3 method overwritten by 'caret':\n",
      "  method    from\n",
      "  print.icr icr \n",
      "\n",
      "\n",
      "Attaching package: 'caret'\n",
      "\n",
      "\n",
      "The following object is masked from 'package:purrr':\n",
      "\n",
      "    lift\n",
      "\n",
      "\n",
      "------------------------------------------------------------------------------\n",
      "\n",
      "You have loaded plyr after dplyr - this is likely to cause problems.\n",
      "If you need functions from both plyr and dplyr, please load plyr first, then dplyr:\n",
      "library(plyr); library(dplyr)\n",
      "\n",
      "------------------------------------------------------------------------------\n",
      "\n",
      "\n",
      "Attaching package: 'plyr'\n",
      "\n",
      "\n",
      "The following objects are masked from 'package:dplyr':\n",
      "\n",
      "    arrange, count, desc, failwith, id, mutate, rename, summarise,\n",
      "    summarize\n",
      "\n",
      "\n",
      "The following object is masked from 'package:purrr':\n",
      "\n",
      "    compact\n",
      "\n",
      "\n"
     ]
    }
   ],
   "source": [
    "#install.packages(\"lubridate\")\n",
    "#install.packages(\"irr\")\n",
    "#install.packages(\"readr\")\n",
    "library ('irr')\n",
    "library(\"readr\")\n",
    "library(\"tidyr\")\n",
    "library ('tidyverse')\n",
    "library (\"icr\")\n",
    "library('caret')\n",
    "library('plyr') #for mapping fct"
   ]
  },
  {
   "cell_type": "raw",
   "metadata": {},
   "source": [
    "#https://www.datanovia.com/en/courses/inter-rater-reliability-measures-in-r/\n",
    "The inter-rater reliability consists of statistical measures for assessing the extent of agreement among two or more raters (i.e., “judges”, “observers”). Other synonyms are: inter-rater agreement, inter-observer agreement or inter-rater concordance.\n",
    "\n",
    "In this course, you will learn the basics and how to compute the different statistical measures for analyzing the inter-rater reliability. These include:\n",
    "\n",
    "Cohen’s Kappa: It can be used for either two nominal or two ordinal variables. It accounts for strict agreements between observers. It is most appropriate for two nominal variables.\n",
    "Weighted Kappa: It should be considered for two ordinal variables only. It allows partial agreement.\n",
    "Light’s Kappa, which is the average of Cohen’s Kappa if using more than two categorical variables.\n",
    "Fleiss Kappa: for two or more categorical variables (nominal or ordinal)\n",
    "Intraclass correlation coefficient (ICC) for continuous or ordinal data"
   ]
  },
  {
   "cell_type": "code",
   "execution_count": 2,
   "metadata": {},
   "outputs": [],
   "source": [
    "#TODO ADD DETAILS\n",
    "#Kappa it is unweighed because it is not worse having a mismatch between e.g. location 1 and 2 in comparison between other locations\n",
    "#level of agreement is percentage of same data entry; kappa considers the fact that some might be the same due to chance    \n",
    "#agree with tolerance 0: o not accept deviation from 0, there must be either perfect match or else it is not matching at all, we do not consider a difference of 1 zone level less mismatching than a difference of 2 or 3 zone levels "
   ]
  },
  {
   "cell_type": "code",
   "execution_count": 3,
   "metadata": {},
   "outputs": [],
   "source": [
    "path_records = \"R:\\\\VPHI\\\\Welfare\\\\2- Research Projects\\\\OFHE2.OriginsE2\\\\Ganter system validation\\\\RECORDS\"\n",
    "path_analysis = \"R:\\\\VPHI\\\\Welfare\\\\2- Research Projects\\\\OFHE2.OriginsE2\\\\Ganter system validation\\\\Analysis\\\\Results\"\n",
    "sink(file.path(path_analysis,'GantnerStatisticalAnalysisSummary.txt'))"
   ]
  },
  {
   "cell_type": "markdown",
   "metadata": {},
   "source": [
    "# Video Raters reliability"
   ]
  },
  {
   "cell_type": "markdown",
   "metadata": {},
   "source": [
    "### 5 raters reliability"
   ]
  },
  {
   "cell_type": "code",
   "execution_count": 4,
   "metadata": {},
   "outputs": [],
   "source": [
    "cat('------------------------------------------------------------------\\n',\n",
    "    file=file.path(path_analysis,'GantnerStatisticalAnalysisSummary.txt'), append=TRUE)\n",
    "cat(\"-------------video observation reliability 5 workers--------------\\n\",\n",
    "    file=file.path(path_analysis,'GantnerStatisticalAnalysisSummary.txt'), append=TRUE)\n",
    "cat('------------------------------------------------------------------\\n',\n",
    "    file=file.path(path_analysis,'GantnerStatisticalAnalysisSummary.txt'), append=TRUE)"
   ]
  },
  {
   "cell_type": "code",
   "execution_count": 5,
   "metadata": {},
   "outputs": [
    {
     "name": "stderr",
     "output_type": "stream",
     "text": [
      "Parsed with column specification:\n",
      "cols(\n",
      "  Date = \u001b[31mcol_character()\u001b[39m,\n",
      "  Heure = \u001b[34mcol_time(format = \"\")\u001b[39m,\n",
      "  BirdID = \u001b[32mcol_double()\u001b[39m,\n",
      "  trackZone = \u001b[31mcol_character()\u001b[39m,\n",
      "  Pen = \u001b[32mcol_double()\u001b[39m,\n",
      "  Ana = \u001b[32mcol_double()\u001b[39m,\n",
      "  charlene = \u001b[32mcol_double()\u001b[39m,\n",
      "  doriana = \u001b[32mcol_double()\u001b[39m,\n",
      "  jonas = \u001b[32mcol_double()\u001b[39m,\n",
      "  nabila = \u001b[32mcol_double()\u001b[39m,\n",
      "  li_workers = \u001b[31mcol_character()\u001b[39m,\n",
      "  nbr_workers = \u001b[32mcol_double()\u001b[39m\n",
      ")\n",
      "\n"
     ]
    },
    {
     "name": "stdout",
     "output_type": "stream",
     "text": [
      "     Date              Heure              BirdID    trackZone        \n",
      " Length:24          Length:24         Min.   :14   Length:24         \n",
      " Class :character   Class1:hms        1st Qu.:14   Class :character  \n",
      " Mode  :character   Class2:difftime   Median :14   Mode  :character  \n",
      "                    Mode  :numeric    Mean   :14                     \n",
      "                                      3rd Qu.:14                     \n",
      "                                      Max.   :14                     \n",
      "      Pen    Ana    charlene doriana jonas  nabila  li_workers       \n",
      " Min.   :3   0: 1   0: 1     0: 1    0: 1   0: 2   Length:24         \n",
      " 1st Qu.:3   1:23   1:23     1:23    1:23   1:22   Class :character  \n",
      " Median :3                                         Mode  :character  \n",
      " Mean   :3                                                           \n",
      " 3rd Qu.:3                                                           \n",
      " Max.   :3                                                           \n",
      "  nbr_workers\n",
      " Min.   :5   \n",
      " 1st Qu.:5   \n",
      " Median :5   \n",
      " Mean   :5   \n",
      " 3rd Qu.:5   \n",
      " Max.   :5   \n"
     ]
    },
    {
     "data": {
      "text/html": [
       "<table>\n",
       "<caption>A tibble: 6 × 12</caption>\n",
       "<thead>\n",
       "\t<tr><th scope=col>Date</th><th scope=col>Heure</th><th scope=col>BirdID</th><th scope=col>trackZone</th><th scope=col>Pen</th><th scope=col>Ana</th><th scope=col>charlene</th><th scope=col>doriana</th><th scope=col>jonas</th><th scope=col>nabila</th><th scope=col>li_workers</th><th scope=col>nbr_workers</th></tr>\n",
       "\t<tr><th scope=col>&lt;chr&gt;</th><th scope=col>&lt;time&gt;</th><th scope=col>&lt;dbl&gt;</th><th scope=col>&lt;chr&gt;</th><th scope=col>&lt;dbl&gt;</th><th scope=col>&lt;fct&gt;</th><th scope=col>&lt;fct&gt;</th><th scope=col>&lt;fct&gt;</th><th scope=col>&lt;fct&gt;</th><th scope=col>&lt;fct&gt;</th><th scope=col>&lt;chr&gt;</th><th scope=col>&lt;dbl&gt;</th></tr>\n",
       "</thead>\n",
       "<tbody>\n",
       "\t<tr><td>04.08.2020</td><td>02:17:34</td><td>14</td><td>Tier 2 + untere Stange</td><td>3</td><td>1</td><td>1</td><td>1</td><td>1</td><td>1</td><td>Ana_charlene_doriana_jonas_nabila</td><td>5</td></tr>\n",
       "\t<tr><td>04.08.2020</td><td>02:19:55</td><td>14</td><td>Tier 2 (mini 3)       </td><td>3</td><td>1</td><td>1</td><td>1</td><td>1</td><td>1</td><td>Ana_charlene_doriana_jonas_nabila</td><td>5</td></tr>\n",
       "\t<tr><td>04.08.2020</td><td>02:20:40</td><td>14</td><td>Tier 1                </td><td>3</td><td>1</td><td>1</td><td>1</td><td>1</td><td>1</td><td>Ana_charlene_doriana_jonas_nabila</td><td>5</td></tr>\n",
       "\t<tr><td>04.08.2020</td><td>02:35:47</td><td>14</td><td>Tier 2 + untere Stange</td><td>3</td><td>1</td><td>1</td><td>1</td><td>1</td><td>1</td><td>Ana_charlene_doriana_jonas_nabila</td><td>5</td></tr>\n",
       "\t<tr><td>04.08.2020</td><td>02:36:16</td><td>14</td><td>Tier 2 (mini 3)       </td><td>3</td><td>1</td><td>1</td><td>1</td><td>1</td><td>1</td><td>Ana_charlene_doriana_jonas_nabila</td><td>5</td></tr>\n",
       "\t<tr><td>04.08.2020</td><td>02:41:36</td><td>14</td><td>Tier 1                </td><td>3</td><td>1</td><td>1</td><td>1</td><td>1</td><td>1</td><td>Ana_charlene_doriana_jonas_nabila</td><td>5</td></tr>\n",
       "</tbody>\n",
       "</table>\n"
      ],
      "text/latex": [
       "A tibble: 6 × 12\n",
       "\\begin{tabular}{llllllllllll}\n",
       " Date & Heure & BirdID & trackZone & Pen & Ana & charlene & doriana & jonas & nabila & li\\_workers & nbr\\_workers\\\\\n",
       " <chr> & <time> & <dbl> & <chr> & <dbl> & <fct> & <fct> & <fct> & <fct> & <fct> & <chr> & <dbl>\\\\\n",
       "\\hline\n",
       "\t 04.08.2020 & 02:17:34 & 14 & Tier 2 + untere Stange & 3 & 1 & 1 & 1 & 1 & 1 & Ana\\_charlene\\_doriana\\_jonas\\_nabila & 5\\\\\n",
       "\t 04.08.2020 & 02:19:55 & 14 & Tier 2 (mini 3)        & 3 & 1 & 1 & 1 & 1 & 1 & Ana\\_charlene\\_doriana\\_jonas\\_nabila & 5\\\\\n",
       "\t 04.08.2020 & 02:20:40 & 14 & Tier 1                 & 3 & 1 & 1 & 1 & 1 & 1 & Ana\\_charlene\\_doriana\\_jonas\\_nabila & 5\\\\\n",
       "\t 04.08.2020 & 02:35:47 & 14 & Tier 2 + untere Stange & 3 & 1 & 1 & 1 & 1 & 1 & Ana\\_charlene\\_doriana\\_jonas\\_nabila & 5\\\\\n",
       "\t 04.08.2020 & 02:36:16 & 14 & Tier 2 (mini 3)        & 3 & 1 & 1 & 1 & 1 & 1 & Ana\\_charlene\\_doriana\\_jonas\\_nabila & 5\\\\\n",
       "\t 04.08.2020 & 02:41:36 & 14 & Tier 1                 & 3 & 1 & 1 & 1 & 1 & 1 & Ana\\_charlene\\_doriana\\_jonas\\_nabila & 5\\\\\n",
       "\\end{tabular}\n"
      ],
      "text/markdown": [
       "\n",
       "A tibble: 6 × 12\n",
       "\n",
       "| Date &lt;chr&gt; | Heure &lt;time&gt; | BirdID &lt;dbl&gt; | trackZone &lt;chr&gt; | Pen &lt;dbl&gt; | Ana &lt;fct&gt; | charlene &lt;fct&gt; | doriana &lt;fct&gt; | jonas &lt;fct&gt; | nabila &lt;fct&gt; | li_workers &lt;chr&gt; | nbr_workers &lt;dbl&gt; |\n",
       "|---|---|---|---|---|---|---|---|---|---|---|---|\n",
       "| 04.08.2020 | 02:17:34 | 14 | Tier 2 + untere Stange | 3 | 1 | 1 | 1 | 1 | 1 | Ana_charlene_doriana_jonas_nabila | 5 |\n",
       "| 04.08.2020 | 02:19:55 | 14 | Tier 2 (mini 3)        | 3 | 1 | 1 | 1 | 1 | 1 | Ana_charlene_doriana_jonas_nabila | 5 |\n",
       "| 04.08.2020 | 02:20:40 | 14 | Tier 1                 | 3 | 1 | 1 | 1 | 1 | 1 | Ana_charlene_doriana_jonas_nabila | 5 |\n",
       "| 04.08.2020 | 02:35:47 | 14 | Tier 2 + untere Stange | 3 | 1 | 1 | 1 | 1 | 1 | Ana_charlene_doriana_jonas_nabila | 5 |\n",
       "| 04.08.2020 | 02:36:16 | 14 | Tier 2 (mini 3)        | 3 | 1 | 1 | 1 | 1 | 1 | Ana_charlene_doriana_jonas_nabila | 5 |\n",
       "| 04.08.2020 | 02:41:36 | 14 | Tier 1                 | 3 | 1 | 1 | 1 | 1 | 1 | Ana_charlene_doriana_jonas_nabila | 5 |\n",
       "\n"
      ],
      "text/plain": [
       "  Date       Heure    BirdID trackZone              Pen Ana charlene doriana\n",
       "1 04.08.2020 02:17:34 14     Tier 2 + untere Stange 3   1   1        1      \n",
       "2 04.08.2020 02:19:55 14     Tier 2 (mini 3)        3   1   1        1      \n",
       "3 04.08.2020 02:20:40 14     Tier 1                 3   1   1        1      \n",
       "4 04.08.2020 02:35:47 14     Tier 2 + untere Stange 3   1   1        1      \n",
       "5 04.08.2020 02:36:16 14     Tier 2 (mini 3)        3   1   1        1      \n",
       "6 04.08.2020 02:41:36 14     Tier 1                 3   1   1        1      \n",
       "  jonas nabila li_workers                        nbr_workers\n",
       "1 1     1      Ana_charlene_doriana_jonas_nabila 5          \n",
       "2 1     1      Ana_charlene_doriana_jonas_nabila 5          \n",
       "3 1     1      Ana_charlene_doriana_jonas_nabila 5          \n",
       "4 1     1      Ana_charlene_doriana_jonas_nabila 5          \n",
       "5 1     1      Ana_charlene_doriana_jonas_nabila 5          \n",
       "6 1     1      Ana_charlene_doriana_jonas_nabila 5          "
      ]
     },
     "metadata": {},
     "output_type": "display_data"
    }
   ],
   "source": [
    "df_5raters = read_delim(file.path(path_records,'VideoObservation','df_reliability_5workers.csv'),';',trim_ws = TRUE)\n",
    "c_5student = c('jonas', 'doriana', 'Ana', 'charlene', 'nabila')\n",
    "df_5raters[c_5student] <- lapply(df_5raters[c_5student], factor)\n",
    "print(summary(df_5raters))\n",
    "head(df_5raters)"
   ]
  },
  {
   "cell_type": "code",
   "execution_count": 6,
   "metadata": {},
   "outputs": [],
   "source": [
    "#kappa for >2 raters: Fleiss' Kappa\n",
    "capture.output( kappam.fleiss(df_5raters[,c_5student], exact=FALSE), \n",
    "               file=file.path(path_analysis,'GantnerStatisticalAnalysisSummary.txt'), append=TRUE)\n",
    "capture.output( agree(df_5raters[,c_5student], tolerance=0), \n",
    "               file=file.path(path_analysis,'GantnerStatisticalAnalysisSummary.txt'), append=TRUE)"
   ]
  },
  {
   "cell_type": "code",
   "execution_count": 7,
   "metadata": {},
   "outputs": [],
   "source": [
    "#calculate Krippendorff's alpha\n",
    "capture.output( krippalpha(t(df_5raters[,c_5student]), metric = \"nominal\"), \n",
    "               file=file.path(path_analysis,'GantnerStatisticalAnalysisSummary.txt'), append=TRUE)"
   ]
  },
  {
   "cell_type": "markdown",
   "metadata": {},
   "source": [
    "### 2 raters reliability"
   ]
  },
  {
   "cell_type": "code",
   "execution_count": 8,
   "metadata": {},
   "outputs": [],
   "source": [
    "cat('------------------------------------------------------------------\\n',\n",
    "    file=file.path(path_analysis,'GantnerStatisticalAnalysisSummary.txt'), append=TRUE)\n",
    "cat(\"--------------video observation reliability 2 workers-------------\\n\",\n",
    "    file=file.path(path_analysis,'GantnerStatisticalAnalysisSummary.txt'), append=TRUE)\n",
    "cat('------------------------------------------------------------------\\n',\n",
    "    file=file.path(path_analysis,'GantnerStatisticalAnalysisSummary.txt'), append=TRUE)"
   ]
  },
  {
   "cell_type": "code",
   "execution_count": 9,
   "metadata": {
    "scrolled": true
   },
   "outputs": [
    {
     "name": "stderr",
     "output_type": "stream",
     "text": [
      "Parsed with column specification:\n",
      "cols(\n",
      "  Date = \u001b[31mcol_character()\u001b[39m,\n",
      "  Heure = \u001b[34mcol_time(format = \"\")\u001b[39m,\n",
      "  BirdID = \u001b[32mcol_double()\u001b[39m,\n",
      "  trackZone = \u001b[31mcol_character()\u001b[39m,\n",
      "  Pen = \u001b[32mcol_double()\u001b[39m,\n",
      "  Ana = \u001b[32mcol_double()\u001b[39m,\n",
      "  charlene = \u001b[32mcol_double()\u001b[39m,\n",
      "  doriana = \u001b[33mcol_logical()\u001b[39m,\n",
      "  jonas = \u001b[33mcol_logical()\u001b[39m,\n",
      "  nabila = \u001b[33mcol_logical()\u001b[39m,\n",
      "  li_workers = \u001b[31mcol_character()\u001b[39m,\n",
      "  nbr_workers = \u001b[32mcol_double()\u001b[39m\n",
      ")\n",
      "\n",
      "Parsed with column specification:\n",
      "cols(\n",
      "  Date = \u001b[31mcol_character()\u001b[39m,\n",
      "  Heure = \u001b[34mcol_time(format = \"\")\u001b[39m,\n",
      "  BirdID = \u001b[32mcol_double()\u001b[39m,\n",
      "  trackZone = \u001b[31mcol_character()\u001b[39m,\n",
      "  Pen = \u001b[32mcol_double()\u001b[39m,\n",
      "  Ana = \u001b[33mcol_logical()\u001b[39m,\n",
      "  charlene = \u001b[32mcol_double()\u001b[39m,\n",
      "  doriana = \u001b[32mcol_double()\u001b[39m,\n",
      "  jonas = \u001b[33mcol_logical()\u001b[39m,\n",
      "  nabila = \u001b[33mcol_logical()\u001b[39m,\n",
      "  li_workers = \u001b[31mcol_character()\u001b[39m,\n",
      "  nbr_workers = \u001b[32mcol_double()\u001b[39m\n",
      ")\n",
      "\n",
      "Parsed with column specification:\n",
      "cols(\n",
      "  Date = \u001b[31mcol_character()\u001b[39m,\n",
      "  Heure = \u001b[34mcol_time(format = \"\")\u001b[39m,\n",
      "  BirdID = \u001b[32mcol_double()\u001b[39m,\n",
      "  trackZone = \u001b[31mcol_character()\u001b[39m,\n",
      "  Pen = \u001b[32mcol_double()\u001b[39m,\n",
      "  Ana = \u001b[33mcol_logical()\u001b[39m,\n",
      "  charlene = \u001b[32mcol_double()\u001b[39m,\n",
      "  doriana = \u001b[33mcol_logical()\u001b[39m,\n",
      "  jonas = \u001b[32mcol_double()\u001b[39m,\n",
      "  nabila = \u001b[33mcol_logical()\u001b[39m,\n",
      "  li_workers = \u001b[31mcol_character()\u001b[39m,\n",
      "  nbr_workers = \u001b[32mcol_double()\u001b[39m\n",
      ")\n",
      "\n",
      "Parsed with column specification:\n",
      "cols(\n",
      "  Date = \u001b[31mcol_character()\u001b[39m,\n",
      "  Heure = \u001b[34mcol_time(format = \"\")\u001b[39m,\n",
      "  BirdID = \u001b[32mcol_double()\u001b[39m,\n",
      "  trackZone = \u001b[31mcol_character()\u001b[39m,\n",
      "  Pen = \u001b[32mcol_double()\u001b[39m,\n",
      "  Ana = \u001b[33mcol_logical()\u001b[39m,\n",
      "  charlene = \u001b[32mcol_double()\u001b[39m,\n",
      "  doriana = \u001b[33mcol_logical()\u001b[39m,\n",
      "  jonas = \u001b[33mcol_logical()\u001b[39m,\n",
      "  nabila = \u001b[32mcol_double()\u001b[39m,\n",
      "  li_workers = \u001b[31mcol_character()\u001b[39m,\n",
      "  nbr_workers = \u001b[32mcol_double()\u001b[39m\n",
      ")\n",
      "\n"
     ]
    }
   ],
   "source": [
    "#### reliability for two helpers ####\n",
    "c_2worker = c('Ana_charlene','charlene_doriana','charlene_jonas','charlene_nabila')\n",
    "for (i in c_2worker){\n",
    "    cat('------------------------\\n',file=file.path(path_analysis,'GantnerStatisticalAnalysisSummary.txt'), append=TRUE)\n",
    "    cat(paste0(i,'\\n'), file=file.path(path_analysis,'GantnerStatisticalAnalysisSummary.txt'), append=TRUE)\n",
    "    cat('------------------------\\n',file=file.path(path_analysis,'GantnerStatisticalAnalysisSummary.txt'), append=TRUE)\n",
    "    \n",
    "    #open data\n",
    "    df_2raters = read_delim(file.path(path_records,'VideoObservation',paste0('df_reliability_2workers_',i,'.csv')),';',\n",
    "                            trim_ws=TRUE)\n",
    "    c_2student = c(strsplit(i, '_')[[1]][1], strsplit(i, '_')[[1]][2])\n",
    "    df_2raters[c_2student] = lapply(df_2raters[c_2student], factor)\n",
    "    \n",
    "    #kappa test\n",
    "    capture.output(kappa2(df_2raters[,c_2student], \"unweighted\"),\n",
    "                  file=file.path(path_analysis,'GantnerStatisticalAnalysisSummary.txt'), append=TRUE)\n",
    "    capture.output(agree(df_2raters[,c_2student], tolerance=0),\n",
    "                  file=file.path(path_analysis,'GantnerStatisticalAnalysisSummary.txt'), append=TRUE) \n",
    "    \n",
    "    #binom test: Performs an exact test of a simple null hypothesis about the probability of success in a Bernoulli experiment\n",
    "    capture.output(binom.test(sum(df_2raters[,c_2student[[1]]]==df_2raters[,c_2student[[2]]]), \n",
    "                              dim(df_2raters[,c_2student])[[1]], p=0.5),\n",
    "                  file=file.path(path_analysis,'GantnerStatisticalAnalysisSummary.txt'), append=TRUE)\n",
    "\n",
    "    #calculate Krippendorff's alpha\n",
    "    #print(krippalpha(t(df_2raters[,c_2student]), metric = \"nominal\"))\n",
    "    }"
   ]
  },
  {
   "cell_type": "code",
   "execution_count": 10,
   "metadata": {},
   "outputs": [],
   "source": [
    "sink()"
   ]
  },
  {
   "cell_type": "code",
   "execution_count": null,
   "metadata": {},
   "outputs": [],
   "source": []
  },
  {
   "cell_type": "code",
   "execution_count": null,
   "metadata": {},
   "outputs": [],
   "source": []
  },
  {
   "cell_type": "code",
   "execution_count": null,
   "metadata": {},
   "outputs": [],
   "source": []
  },
  {
   "cell_type": "code",
   "execution_count": null,
   "metadata": {},
   "outputs": [],
   "source": []
  },
  {
   "cell_type": "code",
   "execution_count": null,
   "metadata": {},
   "outputs": [],
   "source": []
  },
  {
   "cell_type": "code",
   "execution_count": null,
   "metadata": {},
   "outputs": [],
   "source": []
  }
 ],
 "metadata": {
  "kernelspec": {
   "display_name": "R",
   "language": "R",
   "name": "ir"
  },
  "language_info": {
   "codemirror_mode": "r",
   "file_extension": ".r",
   "mimetype": "text/x-r-source",
   "name": "R",
   "pygments_lexer": "r",
   "version": "4.0.2"
  }
 },
 "nbformat": 4,
 "nbformat_minor": 2
}
