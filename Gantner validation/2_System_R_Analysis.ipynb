{
 "cells": [
  {
   "cell_type": "code",
   "execution_count": 1,
   "metadata": {},
   "outputs": [
    {
     "name": "stderr",
     "output_type": "stream",
     "text": [
      "Loading required package: lpSolve\n",
      "\n",
      "-- \u001b[1mAttaching packages\u001b[22m --------------------------------------- tidyverse 1.3.0 --\n",
      "\n",
      "\u001b[32mv\u001b[39m \u001b[34mggplot2\u001b[39m 3.3.2     \u001b[32mv\u001b[39m \u001b[34mdplyr  \u001b[39m 1.0.1\n",
      "\u001b[32mv\u001b[39m \u001b[34mtibble \u001b[39m 3.0.3     \u001b[32mv\u001b[39m \u001b[34mstringr\u001b[39m 1.4.0\n",
      "\u001b[32mv\u001b[39m \u001b[34mpurrr  \u001b[39m 0.3.4     \u001b[32mv\u001b[39m \u001b[34mforcats\u001b[39m 0.5.0\n",
      "\n",
      "-- \u001b[1mConflicts\u001b[22m ------------------------------------------ tidyverse_conflicts() --\n",
      "\u001b[31mx\u001b[39m \u001b[34mdplyr\u001b[39m::\u001b[32mfilter()\u001b[39m masks \u001b[34mstats\u001b[39m::filter()\n",
      "\u001b[31mx\u001b[39m \u001b[34mdplyr\u001b[39m::\u001b[32mlag()\u001b[39m    masks \u001b[34mstats\u001b[39m::lag()\n",
      "\n",
      "Loading required package: lattice\n",
      "\n",
      "Registered S3 method overwritten by 'caret':\n",
      "  method    from\n",
      "  print.icr icr \n",
      "\n",
      "\n",
      "Attaching package: 'caret'\n",
      "\n",
      "\n",
      "The following object is masked from 'package:purrr':\n",
      "\n",
      "    lift\n",
      "\n",
      "\n",
      "------------------------------------------------------------------------------\n",
      "\n",
      "You have loaded plyr after dplyr - this is likely to cause problems.\n",
      "If you need functions from both plyr and dplyr, please load plyr first, then dplyr:\n",
      "library(plyr); library(dplyr)\n",
      "\n",
      "------------------------------------------------------------------------------\n",
      "\n",
      "\n",
      "Attaching package: 'plyr'\n",
      "\n",
      "\n",
      "The following objects are masked from 'package:dplyr':\n",
      "\n",
      "    arrange, count, desc, failwith, id, mutate, rename, summarise,\n",
      "    summarize\n",
      "\n",
      "\n",
      "The following object is masked from 'package:purrr':\n",
      "\n",
      "    compact\n",
      "\n",
      "\n"
     ]
    }
   ],
   "source": [
    "#install.packages(\"lubridate\")\n",
    "#install.packages(\"irr\")\n",
    "#install.packages(\"readr\")\n",
    "library ('irr')\n",
    "library(\"readr\")\n",
    "library(\"tidyr\")\n",
    "library ('tidyverse')\n",
    "library (\"icr\")\n",
    "library('caret')\n",
    "library('plyr') #for mapping fct"
   ]
  },
  {
   "cell_type": "code",
   "execution_count": 2,
   "metadata": {},
   "outputs": [],
   "source": [
    "#TODO ADD DETAILS\n",
    "#Kappa it is unweighed because it is not worse having a mismatch between e.g. location 1 and 2 in comparison between other locations\n",
    "#level of agreement is percentage of same data entry; kappa considers the fact that some might be the same due to chance    \n",
    "#agree with tolerance 0: o not accept deviation from 0, there must be either perfect match or else it is not matching at all, we do not consider a difference of 1 zone level less mismatching than a difference of 2 or 3 zone levels "
   ]
  },
  {
   "cell_type": "code",
   "execution_count": 3,
   "metadata": {},
   "outputs": [],
   "source": [
    "path_records = \"R:\\\\VPHI\\\\Welfare\\\\2- Research Projects\\\\OFHE2.OriginsE2\\\\Ganter system validation\\\\RECORDS\"\n",
    "path_analysis = \"R:\\\\VPHI\\\\Welfare\\\\2- Research Projects\\\\OFHE2.OriginsE2\\\\Ganter system validation\\\\Analysis\\\\Results\"\n",
    "sink(file.path(path_analysis,'GantnerAnalysisSummary.txt'))"
   ]
  },
  {
   "cell_type": "markdown",
   "metadata": {},
   "source": [
    "# Video & Focals & Scan observations systems statistics"
   ]
  },
  {
   "cell_type": "code",
   "execution_count": 4,
   "metadata": {},
   "outputs": [],
   "source": [
    "c_uniform_naming_from = c('Tier 1', 'Tier 3 Rampe + Nestbox', 'Tier 2 (mini 12)','Tier 2 (mini 11)', 'Wintergarten', \n",
    "                          'Tier 2 (mini 10)','Tier 2 + untere Stange', 'Tier 4 + obere Stange','Tier 2 (mini 4)', \n",
    "                          'Tier 2 (mini 5)', 'Tier 2 (mini 3)','Tier 2 (mini 8)','Tier 2 (mini 9)','Tier 2',\n",
    "                          'Tier 1','Tier 3', 'Tier 4','1','2','3','4','Wg','N/A', NA)\n",
    "c_uniform_naming_to = c('zone_1', 'zone_3','zone_2','zone_2','zone_wg', 'zone_2','zone_2', 'zone_4','zone_2', 'zone_2', \n",
    "                        'zone_2','zone_2', 'zone_2','zone_2','zone_1','zone_3','zone_4','zone_1','zone_2','zone_3','zone_4',\n",
    "                        'zone_wg',NA,NA)"
   ]
  },
  {
   "cell_type": "code",
   "execution_count": 5,
   "metadata": {
    "scrolled": false
   },
   "outputs": [
    {
     "name": "stderr",
     "output_type": "stream",
     "text": [
      "Parsed with column specification:\n",
      "cols(\n",
      "  Date = \u001b[31mcol_character()\u001b[39m,\n",
      "  Time = \u001b[34mcol_time(format = \"\")\u001b[39m,\n",
      "  Pen = \u001b[32mcol_double()\u001b[39m,\n",
      "  Side = \u001b[31mcol_character()\u001b[39m,\n",
      "  Bird = \u001b[31mcol_character()\u001b[39m,\n",
      "  obsZone = \u001b[31mcol_character()\u001b[39m,\n",
      "  `Position / Comments` = \u001b[31mcol_character()\u001b[39m,\n",
      "  TrackingTag = \u001b[32mcol_double()\u001b[39m,\n",
      "  trackZone = \u001b[31mcol_character()\u001b[39m,\n",
      "  trackZone_automatic = \u001b[31mcol_character()\u001b[39m,\n",
      "  automatic_comment = \u001b[31mcol_character()\u001b[39m,\n",
      "  SecondsBefore = \u001b[32mcol_double()\u001b[39m,\n",
      "  SecondsAfter = \u001b[32mcol_double()\u001b[39m,\n",
      "  is_correct = \u001b[33mcol_logical()\u001b[39m,\n",
      "  Comments = \u001b[31mcol_character()\u001b[39m,\n",
      "  New_is_correct = \u001b[31mcol_character()\u001b[39m\n",
      ")\n",
      "\n",
      "The following `from` values were not present in `x`: Tier 1, Tier 3 Rampe + Nestbox, Tier 2 (mini 12), Tier 2 (mini 11), Wintergarten, Tier 2 (mini 10), Tier 2 + untere Stange, Tier 4 + obere Stange, Tier 2 (mini 4), Tier 2 (mini 5), Tier 2 (mini 3), Tier 2 (mini 8), Tier 2 (mini 9), Tier 2, Tier 1, Tier 3, Tier 4, 1, 2, 3, 4, Wg, N/A, NA\n",
      "\n",
      "The following `from` values were not present in `x`: Tier 1, Tier 3 Rampe + Nestbox, Tier 2 (mini 12), Tier 2 (mini 11), Wintergarten, Tier 2 (mini 10), Tier 2 + untere Stange, Tier 4 + obere Stange, Tier 2 (mini 4), Tier 2 (mini 5), Tier 2 (mini 3), Tier 2 (mini 8), Tier 2 (mini 9), Tier 2, Tier 1, Tier 3, Tier 4, 1, 2, 3, 4, Wg, N/A\n",
      "\n"
     ]
    },
    {
     "name": "stdout",
     "output_type": "stream",
     "text": [
      "[1] 215  16\n",
      "[1] 204  16\n"
     ]
    },
    {
     "name": "stderr",
     "output_type": "stream",
     "text": [
      "Parsed with column specification:\n",
      "cols(\n",
      "  Date = \u001b[31mcol_character()\u001b[39m,\n",
      "  Pen = \u001b[32mcol_double()\u001b[39m,\n",
      "  Tag = \u001b[32mcol_double()\u001b[39m,\n",
      "  ObservationAnalysis = \u001b[32mcol_double()\u001b[39m,\n",
      "  obsTime = \u001b[31mcol_character()\u001b[39m,\n",
      "  obsZone = \u001b[31mcol_character()\u001b[39m,\n",
      "  TrackingAnalysis = \u001b[32mcol_double()\u001b[39m,\n",
      "  trackTime = \u001b[31mcol_character()\u001b[39m,\n",
      "  trackZone = \u001b[31mcol_character()\u001b[39m,\n",
      "  realTrackZone = \u001b[31mcol_character()\u001b[39m,\n",
      "  Comments = \u001b[31mcol_character()\u001b[39m\n",
      ")\n",
      "\n",
      "The following `from` values were not present in `x`: Tier 1, Tier 3 Rampe + Nestbox, Tier 2 (mini 12), Tier 2 (mini 11), Wintergarten, Tier 2 (mini 10), Tier 2 + untere Stange, Tier 4 + obere Stange, Tier 2 (mini 4), Tier 2 (mini 5), Tier 2 (mini 3), Tier 2 (mini 8), Tier 2 (mini 9), Tier 2, Tier 1, Tier 3, Tier 4, NA\n",
      "\n",
      "The following `from` values were not present in `x`: Tier 1, Tier 3 Rampe + Nestbox, Tier 2 (mini 12), Tier 2 (mini 11), Wintergarten, Tier 2 (mini 10), Tier 2 + untere Stange, Tier 4 + obere Stange, Tier 2 (mini 4), Tier 2 (mini 5), Tier 2 (mini 3), Tier 2 (mini 8), Tier 2 (mini 9), Tier 2, Tier 1, Tier 3, Tier 4, NA\n",
      "\n"
     ]
    },
    {
     "name": "stdout",
     "output_type": "stream",
     "text": [
      "[1] 215  11\n",
      "[1] 208  11\n"
     ]
    },
    {
     "name": "stderr",
     "output_type": "stream",
     "text": [
      "Parsed with column specification:\n",
      "cols(\n",
      "  Date = \u001b[31mcol_character()\u001b[39m,\n",
      "  batch = \u001b[32mcol_double()\u001b[39m,\n",
      "  Heure = \u001b[34mcol_time(format = \"\")\u001b[39m,\n",
      "  TagID = \u001b[31mcol_character()\u001b[39m,\n",
      "  BirdID = \u001b[32mcol_double()\u001b[39m,\n",
      "  trackZone = \u001b[31mcol_character()\u001b[39m,\n",
      "  signalstrength = \u001b[32mcol_double()\u001b[39m,\n",
      "  VideoAnalyse = \u001b[32mcol_double()\u001b[39m,\n",
      "  Comment = \u001b[31mcol_character()\u001b[39m,\n",
      "  worker = \u001b[31mcol_character()\u001b[39m,\n",
      "  Pen = \u001b[32mcol_double()\u001b[39m,\n",
      "  backpackID = \u001b[31mcol_character()\u001b[39m,\n",
      "  Obszone_whenWrong = \u001b[31mcol_character()\u001b[39m,\n",
      "  obsZone = \u001b[31mcol_character()\u001b[39m\n",
      ")\n",
      "\n",
      "The following `from` values were not present in `x`: Tier 1, Tier 3, 1, 2, 3, 4, Wg, N/A\n",
      "\n",
      "The following `from` values were not present in `x`: Tier 2, Tier 1, Tier 3, Tier 4, 1, 2, 3, 4, Wg, N/A\n",
      "\n"
     ]
    },
    {
     "name": "stdout",
     "output_type": "stream",
     "text": [
      "[1] 1025   14\n",
      "[1] 923  14\n",
      "[1] 923  14\n",
      "[1] 869  14\n",
      "[1] 638  14\n"
     ]
    }
   ],
   "source": [
    "c_csv = c('scan_automatic_matching.csv','ValidationAllFocals.csv','VideoObservation\\\\VideoObservationAllStudents.csv')\n",
    "for (x in c_csv){\n",
    "        \n",
    "    #open file\n",
    "    df = read_delim(file.path(path_records,x),';',trim_ws = TRUE)\n",
    "    \n",
    "    #map values to uniform way of naming\n",
    "    df$obsZone = mapvalues(df$obsZone, from=c_uniform_naming_from, to=c_uniform_naming_to)\n",
    "    df$trackZone = mapvalues(df$trackZone, from=c_uniform_naming_from, to=c_uniform_naming_to)\n",
    "\n",
    "    #remove nan. focals/video/scans: missed trackzone has the name of the zone where the animal is in. If we dont have \n",
    "    #(and have NA) it might be due to something else\n",
    "    print(dim(df))\n",
    "    df = df[complete.cases(df[ , c('obsZone','trackZone')]),]\n",
    "    print(dim(df))\n",
    "    \n",
    "    #into factor for confusion matrix and test\n",
    "    df[c('obsZone','trackZone')] = lapply(df[c('obsZone','trackZone')], factor)\n",
    "    \n",
    "    #for video observation remove duplicates rows that have same outcome for same observations but different workers\n",
    "    #keep only the rows that are true are false: 0,1\n",
    "    #remove nabila\n",
    "    if (x=='VideoObservation\\\\VideoObservationAllStudents.csv'){\n",
    "        print(dim(df))\n",
    "        df = subset(df, (df$VideoAnalyse == 0 | df$VideoAnalyse == 1) & (df$worker!='nabila')) \n",
    "        print(dim(df))\n",
    "        #df$Heure = as.POSIXct(df$Heure,format=\"%H:%M:%S\")\n",
    "        #df[c('BirdID','VideoAnalyse')] = lapply(df[c('BirdID','VideoAnalyse')], factor)\n",
    "        df = distinct(df, Date, Heure, trackZone, BirdID, VideoAnalyse, .keep_all = TRUE)\n",
    "        #distinct(df, Date, .keep_all = TRUE)\n",
    "        print(dim(df))\n",
    "    }\n",
    "\n",
    "    ################ reliability ################\n",
    "    cat('------------------------------------------------------------------\\n',\n",
    "        file=file.path(path_analysis,'GantnerAnalysisSummary.txt'), append=TRUE)\n",
    "    cat(paste0('-----------------',x,'reliability -------------------\\n'),\n",
    "        file=file.path(path_analysis,'GantnerAnalysisSummary.txt'), append=TRUE)\n",
    "    cat('------------------------------------------------------------------\\n',\n",
    "        file=file.path(path_analysis,'GantnerAnalysisSummary.txt'), append=TRUE)\n",
    "\n",
    "    #general reliability\n",
    "    cat('------------------------\\n',file=file.path(path_analysis,'GantnerAnalysisSummary.txt'), append=TRUE)\n",
    "    cat('-------all pen --------\\n', file=file.path(path_analysis,'GantnerAnalysisSummary.txt'), append=TRUE)\n",
    "    cat('------------------------\\n',file=file.path(path_analysis,'GantnerAnalysisSummary.txt'), append=TRUE)    #reliability all systems together\n",
    "    capture.output(kappa2(df[,c('obsZone','trackZone')], \"unweighted\"),\n",
    "                   file=file.path(path_analysis,'GantnerAnalysisSummary.txt'), append=TRUE)\n",
    "    capture.output(agree(df[,c('obsZone','trackZone')], tolerance=0),\n",
    "                   file=file.path(path_analysis,'GantnerAnalysisSummary.txt'), append=TRUE)\n",
    "\n",
    "    #reliability for each systems separately\n",
    "    c_pens = list(c(3,4,5),c(8,9),c(10,11,12))\n",
    "    for (c_pen in c_pens){\n",
    "        df_ = subset(df, df$Pen %in% c_pen)\n",
    "        cat('------------------------\\n',file=file.path(path_analysis,'GantnerAnalysisSummary.txt'), append=TRUE)\n",
    "        cat(paste0('pen: \\n ',c_pen,'\\n'), file=file.path(path_analysis,'GantnerAnalysisSummary.txt'), append=TRUE)\n",
    "        cat('------------------------\\n',file=file.path(path_analysis,'GantnerAnalysisSummary.txt'), append=TRUE)\n",
    "        capture.output(kappa2(df_[,c('obsZone','trackZone')], \"unweighted\") ,\n",
    "                   file=file.path(path_analysis,'GantnerAnalysisSummary.txt'), append=TRUE)\n",
    "        capture.output(agree(df_[,c('obsZone','trackZone')], tolerance=0) ,\n",
    "                   file=file.path(path_analysis,'GantnerAnalysisSummary.txt'), append=TRUE)\n",
    "        }\n",
    "    \n",
    "    ################ mismatch ################\n",
    "    cat('\\n------------------------------------------------------------------\\n',\n",
    "        file=file.path(path_analysis,'GantnerAnalysisSummary.txt'), append=TRUE)\n",
    "    cat(paste0('-----------------',x,'Mismatch -------------------\\n'),\n",
    "        file=file.path(path_analysis,'GantnerAnalysisSummary.txt'), append=TRUE)\n",
    "    cat('------------------------------------------------------------------\\n',\n",
    "        file=file.path(path_analysis,'GantnerAnalysisSummary.txt'), append=TRUE)\n",
    "    #mismatch all pens\n",
    "    cat('------------------------\\n',file=file.path(path_analysis,'GantnerAnalysisSummary.txt'), append=TRUE)\n",
    "    cat('-------all pen --------\\n', file=file.path(path_analysis,'GantnerAnalysisSummary.txt'), append=TRUE)\n",
    "    cat('------------------------\\n',file=file.path(path_analysis,'GantnerAnalysisSummary.txt'), append=TRUE)    #reliability all systems together\n",
    "    #confusion matrix: prediccted than reference: predicted is trackobs\n",
    "    capture.output(confusionMatrix(df$trackZone, df$obsZone),\n",
    "                   file=file.path(path_analysis,'GantnerAnalysisSummary.txt'), append=TRUE)\n",
    "    #mismatch for each systems separately\n",
    "    c_pens = list(c(3,4,5),c(8,9),c(10,11,12))\n",
    "    for (c_pen in c_pens){\n",
    "        df_ = subset(df, df$Pen %in% c_pen)\n",
    "        cat('------------------------\\n',file=file.path(path_analysis,'GantnerAnalysisSummary.txt'), append=TRUE)\n",
    "        cat(paste0('pen: \\n ',c_pen,'\\n'), file=file.path(path_analysis,'GantnerAnalysisSummary.txt'), append=TRUE)\n",
    "        cat('------------------------\\n',file=file.path(path_analysis,'GantnerAnalysisSummary.txt'), append=TRUE)\n",
    "        capture.output(confusionMatrix(df_$trackZone, df_$obsZone),\n",
    "                   file=file.path(path_analysis,'GantnerAnalysisSummary.txt'), append=TRUE)\n",
    "        }        \n",
    "}"
   ]
  },
  {
   "cell_type": "markdown",
   "metadata": {},
   "source": [
    "# Time lag"
   ]
  },
  {
   "cell_type": "code",
   "execution_count": 6,
   "metadata": {},
   "outputs": [
    {
     "name": "stderr",
     "output_type": "stream",
     "text": [
      "Parsed with column specification:\n",
      "cols(\n",
      "  Date = \u001b[31mcol_character()\u001b[39m,\n",
      "  Pen = \u001b[32mcol_double()\u001b[39m,\n",
      "  Tag = \u001b[32mcol_double()\u001b[39m,\n",
      "  ObservationAnalysis = \u001b[32mcol_double()\u001b[39m,\n",
      "  obsTime = \u001b[31mcol_character()\u001b[39m,\n",
      "  obsZone = \u001b[31mcol_character()\u001b[39m,\n",
      "  TrackingAnalysis = \u001b[32mcol_double()\u001b[39m,\n",
      "  trackTime = \u001b[31mcol_character()\u001b[39m,\n",
      "  trackZone = \u001b[31mcol_character()\u001b[39m,\n",
      "  realTrackZone = \u001b[31mcol_character()\u001b[39m,\n",
      "  Comments = \u001b[31mcol_character()\u001b[39m\n",
      ")\n",
      "\n"
     ]
    },
    {
     "name": "stdout",
     "output_type": "stream",
     "text": [
      "[1] 215  11\n"
     ]
    },
    {
     "data": {
      "text/html": [
       "<table>\n",
       "<caption>A tibble: 3 × 11</caption>\n",
       "<thead>\n",
       "\t<tr><th scope=col>Date</th><th scope=col>Pen</th><th scope=col>Tag</th><th scope=col>ObservationAnalysis</th><th scope=col>obsTime</th><th scope=col>obsZone</th><th scope=col>TrackingAnalysis</th><th scope=col>trackTime</th><th scope=col>trackZone</th><th scope=col>realTrackZone</th><th scope=col>Comments</th></tr>\n",
       "\t<tr><th scope=col>&lt;chr&gt;</th><th scope=col>&lt;dbl&gt;</th><th scope=col>&lt;dbl&gt;</th><th scope=col>&lt;dbl&gt;</th><th scope=col>&lt;chr&gt;</th><th scope=col>&lt;fct&gt;</th><th scope=col>&lt;dbl&gt;</th><th scope=col>&lt;chr&gt;</th><th scope=col>&lt;fct&gt;</th><th scope=col>&lt;chr&gt;</th><th scope=col>&lt;chr&gt;</th></tr>\n",
       "</thead>\n",
       "<tbody>\n",
       "\t<tr><td>31.07.2020</td><td>10</td><td>22</td><td>1</td><td>15:08:27</td><td>Wg</td><td>1</td><td>15:09:13</td><td>Wg</td><td>Wintergarten</td><td>delay 00:00:46</td></tr>\n",
       "\t<tr><td>31.07.2020</td><td>10</td><td>22</td><td>1</td><td>15:09:41</td><td>1 </td><td>1</td><td>15:09:58</td><td>1 </td><td>Tier 1      </td><td>NA            </td></tr>\n",
       "\t<tr><td>31.07.2020</td><td>10</td><td>22</td><td>1</td><td>15:16:55</td><td>Wg</td><td>1</td><td>15:22:22</td><td>Wg</td><td>Wintergarten</td><td>delay 00:05:27</td></tr>\n",
       "</tbody>\n",
       "</table>\n"
      ],
      "text/latex": [
       "A tibble: 3 × 11\n",
       "\\begin{tabular}{lllllllllll}\n",
       " Date & Pen & Tag & ObservationAnalysis & obsTime & obsZone & TrackingAnalysis & trackTime & trackZone & realTrackZone & Comments\\\\\n",
       " <chr> & <dbl> & <dbl> & <dbl> & <chr> & <fct> & <dbl> & <chr> & <fct> & <chr> & <chr>\\\\\n",
       "\\hline\n",
       "\t 31.07.2020 & 10 & 22 & 1 & 15:08:27 & Wg & 1 & 15:09:13 & Wg & Wintergarten & delay 00:00:46\\\\\n",
       "\t 31.07.2020 & 10 & 22 & 1 & 15:09:41 & 1  & 1 & 15:09:58 & 1  & Tier 1       & NA            \\\\\n",
       "\t 31.07.2020 & 10 & 22 & 1 & 15:16:55 & Wg & 1 & 15:22:22 & Wg & Wintergarten & delay 00:05:27\\\\\n",
       "\\end{tabular}\n"
      ],
      "text/markdown": [
       "\n",
       "A tibble: 3 × 11\n",
       "\n",
       "| Date &lt;chr&gt; | Pen &lt;dbl&gt; | Tag &lt;dbl&gt; | ObservationAnalysis &lt;dbl&gt; | obsTime &lt;chr&gt; | obsZone &lt;fct&gt; | TrackingAnalysis &lt;dbl&gt; | trackTime &lt;chr&gt; | trackZone &lt;fct&gt; | realTrackZone &lt;chr&gt; | Comments &lt;chr&gt; |\n",
       "|---|---|---|---|---|---|---|---|---|---|---|\n",
       "| 31.07.2020 | 10 | 22 | 1 | 15:08:27 | Wg | 1 | 15:09:13 | Wg | Wintergarten | delay 00:00:46 |\n",
       "| 31.07.2020 | 10 | 22 | 1 | 15:09:41 | 1  | 1 | 15:09:58 | 1  | Tier 1       | NA             |\n",
       "| 31.07.2020 | 10 | 22 | 1 | 15:16:55 | Wg | 1 | 15:22:22 | Wg | Wintergarten | delay 00:05:27 |\n",
       "\n"
      ],
      "text/plain": [
       "  Date       Pen Tag ObservationAnalysis obsTime  obsZone TrackingAnalysis\n",
       "1 31.07.2020 10  22  1                   15:08:27 Wg      1               \n",
       "2 31.07.2020 10  22  1                   15:09:41 1       1               \n",
       "3 31.07.2020 10  22  1                   15:16:55 Wg      1               \n",
       "  trackTime trackZone realTrackZone Comments      \n",
       "1 15:09:13  Wg        Wintergarten  delay 00:00:46\n",
       "2 15:09:58  1         Tier 1        NA            \n",
       "3 15:22:22  Wg        Wintergarten  delay 00:05:27"
      ]
     },
     "metadata": {},
     "output_type": "display_data"
    }
   ],
   "source": [
    "df_focals = read_delim(file.path(path_records,'ValidationAllFocals.csv'),';',trim_ws = TRUE)\n",
    "df_focals[c('obsZone','trackZone')] = lapply(df_focals[c('obsZone','trackZone')], factor)\n",
    "print(dim(df_focals))\n",
    "head(df_focals,3)"
   ]
  },
  {
   "cell_type": "code",
   "execution_count": 7,
   "metadata": {
    "scrolled": true
   },
   "outputs": [],
   "source": [
    "df_focals = subset(df_focals, df_focals$obsTime != \"N/A\")\n",
    "df_focals = subset(df_focals, df_focals$trackTime != \"N/A\")\n",
    "df_focals$obsTime = as.POSIXct(df_focals$obsTime,format=\"%H:%M:%S\")\n",
    "df_focals$trackTime = as.POSIXct(df_focals$trackTime,format=\"%H:%M:%S\")\n",
    "# time difference in seconds between Tracking and Obs\n",
    "df_focals = mutate(df_focals, timediff=difftime(df_focals$trackTime, df_focals$obsTime ,units=\"secs\"))\n",
    "df_focals$timediff = as.numeric(df_focals$timediff)"
   ]
  },
  {
   "cell_type": "markdown",
   "metadata": {},
   "source": [
    "### all pens together"
   ]
  },
  {
   "cell_type": "code",
   "execution_count": 8,
   "metadata": {},
   "outputs": [],
   "source": [
    "#info\n",
    "cat('------------------- percentage of data within the 2s frame (<= 2 / >= -2)\\n',\n",
    "    file=file.path(path_analysis,'GantnerAnalysisSummary.txt'), append=TRUE)\n",
    "cat(100/nrow(df_focals)*nrow(subset(df_focals, df_focals$timediff<= 2 & df_focals$timediff >= -2)),\n",
    "    file=file.path(path_analysis,'GantnerAnalysisSummary.txt'), append=TRUE)\n",
    "#paste(max(df_focals$timediff), min(df_focals$timediff), mean(df_focals$timediff), median(df_focals$timediff), sep='   ')"
   ]
  },
  {
   "cell_type": "code",
   "execution_count": 9,
   "metadata": {},
   "outputs": [
    {
     "data": {
      "text/html": [
       "<strong>png:</strong> 2"
      ],
      "text/latex": [
       "\\textbf{png:} 2"
      ],
      "text/markdown": [
       "**png:** 2"
      ],
      "text/plain": [
       "png \n",
       "  2 "
      ]
     },
     "metadata": {},
     "output_type": "display_data"
    }
   ],
   "source": [
    "#histogram\n",
    "png(file.path(path_analysis,'TimeLagHistogram_allpens.png')) #TODO: height=2, width=8\n",
    "hist(df_focals$timediff, main=\"Histogram of time difference all pens\", breaks=20)\n",
    "dev.off()"
   ]
  },
  {
   "cell_type": "code",
   "execution_count": 10,
   "metadata": {},
   "outputs": [
    {
     "data": {
      "text/html": [
       "<strong>png:</strong> 2"
      ],
      "text/latex": [
       "\\textbf{png:} 2"
      ],
      "text/markdown": [
       "**png:** 2"
      ],
      "text/plain": [
       "png \n",
       "  2 "
      ]
     },
     "metadata": {},
     "output_type": "display_data"
    }
   ],
   "source": [
    "png(file.path(path_analysis,'TimeLagBoxplot_allpens.png')) #TODO: height=2, width=8\n",
    "boxplot(df_focals$timediff, staplewex=1)\n",
    "text(y=fivenum(df_focals$timediff), labels=fivenum(df_focals$timediff), x=1.25)\n",
    "title('Boxplot of time difference all pens')\n",
    "dev.off()"
   ]
  },
  {
   "cell_type": "markdown",
   "metadata": {},
   "source": [
    "### for each pen"
   ]
  },
  {
   "cell_type": "code",
   "execution_count": 11,
   "metadata": {},
   "outputs": [
    {
     "data": {
      "text/html": [
       "<strong>png:</strong> 2"
      ],
      "text/latex": [
       "\\textbf{png:} 2"
      ],
      "text/markdown": [
       "**png:** 2"
      ],
      "text/plain": [
       "png \n",
       "  2 "
      ]
     },
     "metadata": {},
     "output_type": "display_data"
    }
   ],
   "source": [
    "#histogram\n",
    "df_focals$timediff = as.numeric(df_focals$timediff)\n",
    "png(file.path(path_analysis,'TimeLagHistoGram.png')) #TODO: height=2, width=8\n",
    "layout(mat = matrix(c(1,2,3,4,5,6,7,8), nrow=2, ncol=4),\n",
    "       heights = c(1,1), # Heights of the rows\n",
    "       widths = c(3,3,3,3)) # Widths of the columns\n",
    "for (i in unique(df_focals$Pen)){\n",
    "    df_focals_ = subset(df_focals, df_focals$Pen==i)\n",
    "    #ylim=c(max(df_focals$timediff), min(df_focals$timediff))\n",
    "    hist(df_focals_$timediff, breaks=20, main=paste0('Pen ',i))\n",
    "}\n",
    "#1=bottom, 2=left, 3=top, 4=right\n",
    "#mtext(\"Time difference per pen\", side=3, line=0, outer=TRUE)#doe snot work\n",
    "dev.off()"
   ]
  },
  {
   "cell_type": "code",
   "execution_count": 12,
   "metadata": {},
   "outputs": [
    {
     "data": {
      "text/html": [
       "<strong>png:</strong> 2"
      ],
      "text/latex": [
       "\\textbf{png:} 2"
      ],
      "text/markdown": [
       "**png:** 2"
      ],
      "text/plain": [
       "png \n",
       "  2 "
      ]
     },
     "metadata": {},
     "output_type": "display_data"
    }
   ],
   "source": [
    "png(file.path(path_analysis,'TimeLagBoxplot.png')) #TODO: height=2, width=8\n",
    "layout(mat = matrix(c(1,2,3,4,5,6,7,8), nrow=2, ncol=4),\n",
    "       heights = c(1,1), # Heights of the rows\n",
    "       widths = c(2,2,2,2)) # Widths of the columns\n",
    "for (i in unique(df_focals$Pen)){\n",
    "    df_focals_ = subset(df_focals, df_focals$Pen==i)\n",
    "    #ylim=c(max(df_focals$timediff), min(df_focals$timediff))\n",
    "    boxplot(df_focals_$timediff, staplewex=1)\n",
    "    text(y=fivenum(df_focals_$timediff), labels=fivenum(df_focals_$timediff), x=1.25)\n",
    "    title(paste0('Pen ',i))\n",
    "}\n",
    "dev.off()"
   ]
  },
  {
   "cell_type": "code",
   "execution_count": 13,
   "metadata": {},
   "outputs": [],
   "source": [
    "sink()"
   ]
  },
  {
   "cell_type": "code",
   "execution_count": null,
   "metadata": {},
   "outputs": [],
   "source": []
  },
  {
   "cell_type": "code",
   "execution_count": null,
   "metadata": {},
   "outputs": [],
   "source": []
  },
  {
   "cell_type": "code",
   "execution_count": null,
   "metadata": {},
   "outputs": [],
   "source": []
  },
  {
   "cell_type": "code",
   "execution_count": null,
   "metadata": {},
   "outputs": [],
   "source": []
  },
  {
   "cell_type": "code",
   "execution_count": null,
   "metadata": {},
   "outputs": [],
   "source": []
  },
  {
   "cell_type": "code",
   "execution_count": null,
   "metadata": {},
   "outputs": [],
   "source": []
  },
  {
   "cell_type": "code",
   "execution_count": null,
   "metadata": {},
   "outputs": [],
   "source": []
  }
 ],
 "metadata": {
  "kernelspec": {
   "display_name": "R",
   "language": "R",
   "name": "ir"
  },
  "language_info": {
   "codemirror_mode": "r",
   "file_extension": ".r",
   "mimetype": "text/x-r-source",
   "name": "R",
   "pygments_lexer": "r",
   "version": "3.6.1"
  }
 },
 "nbformat": 4,
 "nbformat_minor": 2
}
