{
 "cells": [
  {
   "cell_type": "code",
   "execution_count": 1,
   "metadata": {},
   "outputs": [],
   "source": [
    "#basic package\n",
    "import json\n",
    "import tqdm\n",
    "import os\n",
    "import numpy as np\n",
    "import glob\n",
    "import pandas as pd\n",
    "import sys\n",
    "import shutil\n",
    "import time\n",
    "import datetime as dt\n",
    "import itertools\n",
    "import time\n",
    "import re\n",
    "from collections import Counter\n",
    "from collections import defaultdict\n",
    "import operator\n",
    "import math\n",
    "#plot\n",
    "import matplotlib.pyplot as plt\n",
    "import seaborn as sns"
   ]
  },
  {
   "cell_type": "code",
   "execution_count": 2,
   "metadata": {},
   "outputs": [
    {
     "name": "stdout",
     "output_type": "stream",
     "text": [
      "we restrict the time series to one value per 60 seconds \n",
      "we compute the complexity variables each 30 minutes \n",
      "each variables includes the values of at least the last 120.00 minutes (i.e. are using 120.00 values)\n"
     ]
    }
   ],
   "source": [
    "from UTILS import time_series_henColumn_tsRow, ts_compare_session, TimeSeriesPlot\n",
    "import config_mobility as config"
   ]
  },
  {
   "cell_type": "code",
   "execution_count": 3,
   "metadata": {},
   "outputs": [],
   "source": [
    "path_extracted_data = config.path_extracted_data\n",
    "path_initial_data = config.path_initial_data\n",
    "id_run = config.id_run\n",
    "nbr_sec = config.nbr_sec"
   ]
  },
  {
   "cell_type": "markdown",
   "metadata": {},
   "source": [
    "## Download data"
   ]
  },
  {
   "cell_type": "code",
   "execution_count": 4,
   "metadata": {},
   "outputs": [
    {
     "name": "stdout",
     "output_type": "stream",
     "text": [
      "(7920, 43)\n"
     ]
    },
    {
     "data": {
      "text/html": [
       "<div>\n",
       "<style scoped>\n",
       "    .dataframe tbody tr th:only-of-type {\n",
       "        vertical-align: middle;\n",
       "    }\n",
       "\n",
       "    .dataframe tbody tr th {\n",
       "        vertical-align: top;\n",
       "    }\n",
       "\n",
       "    .dataframe thead th {\n",
       "        text-align: right;\n",
       "    }\n",
       "</style>\n",
       "<table border=\"1\" class=\"dataframe\">\n",
       "  <thead>\n",
       "    <tr style=\"text-align: right;\">\n",
       "      <th></th>\n",
       "      <th>HenID</th>\n",
       "      <th>timepoint</th>\n",
       "      <th>group</th>\n",
       "      <th>age</th>\n",
       "      <th>DayID</th>\n",
       "      <th>day</th>\n",
       "      <th>file</th>\n",
       "      <th>severity</th>\n",
       "      <th>pen</th>\n",
       "      <th>hybrid</th>\n",
       "      <th>...</th>\n",
       "      <th>meanchange</th>\n",
       "      <th>mean1</th>\n",
       "      <th>medianchange</th>\n",
       "      <th>transitions</th>\n",
       "      <th>real0</th>\n",
       "      <th>sumdur</th>\n",
       "      <th>nest_vs_total</th>\n",
       "      <th>severity_diff</th>\n",
       "      <th>KBF_new</th>\n",
       "      <th>indicator</th>\n",
       "    </tr>\n",
       "  </thead>\n",
       "  <tbody>\n",
       "    <tr>\n",
       "      <th>0</th>\n",
       "      <td>1</td>\n",
       "      <td>1</td>\n",
       "      <td>A</td>\n",
       "      <td>21</td>\n",
       "      <td>1</td>\n",
       "      <td>2016-10-27</td>\n",
       "      <td>1A01</td>\n",
       "      <td>0.0</td>\n",
       "      <td>1</td>\n",
       "      <td>LSL</td>\n",
       "      <td>...</td>\n",
       "      <td>1.23</td>\n",
       "      <td>1.0</td>\n",
       "      <td>1.0</td>\n",
       "      <td>91.0</td>\n",
       "      <td>NaN</td>\n",
       "      <td>57067.0</td>\n",
       "      <td>0.177419</td>\n",
       "      <td>NaN</td>\n",
       "      <td>0.0</td>\n",
       "      <td>NaN</td>\n",
       "    </tr>\n",
       "    <tr>\n",
       "      <th>1</th>\n",
       "      <td>1</td>\n",
       "      <td>1</td>\n",
       "      <td>A</td>\n",
       "      <td>21</td>\n",
       "      <td>2</td>\n",
       "      <td>2016-10-28</td>\n",
       "      <td>1A01</td>\n",
       "      <td>0.0</td>\n",
       "      <td>1</td>\n",
       "      <td>LSL</td>\n",
       "      <td>...</td>\n",
       "      <td>1.28</td>\n",
       "      <td>1.0</td>\n",
       "      <td>1.0</td>\n",
       "      <td>108.0</td>\n",
       "      <td>NaN</td>\n",
       "      <td>56854.0</td>\n",
       "      <td>0.171053</td>\n",
       "      <td>0.0</td>\n",
       "      <td>0.0</td>\n",
       "      <td>NaN</td>\n",
       "    </tr>\n",
       "    <tr>\n",
       "      <th>2</th>\n",
       "      <td>1</td>\n",
       "      <td>1</td>\n",
       "      <td>A</td>\n",
       "      <td>21</td>\n",
       "      <td>3</td>\n",
       "      <td>2016-10-29</td>\n",
       "      <td>1A01</td>\n",
       "      <td>0.0</td>\n",
       "      <td>1</td>\n",
       "      <td>LSL</td>\n",
       "      <td>...</td>\n",
       "      <td>1.17</td>\n",
       "      <td>1.0</td>\n",
       "      <td>1.0</td>\n",
       "      <td>128.0</td>\n",
       "      <td>NaN</td>\n",
       "      <td>56721.0</td>\n",
       "      <td>0.255319</td>\n",
       "      <td>0.0</td>\n",
       "      <td>0.0</td>\n",
       "      <td>NaN</td>\n",
       "    </tr>\n",
       "  </tbody>\n",
       "</table>\n",
       "<p>3 rows × 43 columns</p>\n",
       "</div>"
      ],
      "text/plain": [
       "  HenID  timepoint group  age DayID        day  file  severity  pen hybrid  \\\n",
       "0     1          1     A   21     1 2016-10-27  1A01       0.0    1    LSL   \n",
       "1     1          1     A   21     2 2016-10-28  1A01       0.0    1    LSL   \n",
       "2     1          1     A   21     3 2016-10-29  1A01       0.0    1    LSL   \n",
       "\n",
       "     ...      meanchange  mean1  medianchange  transitions  real0   sumdur  \\\n",
       "0    ...            1.23    1.0           1.0         91.0    NaN  57067.0   \n",
       "1    ...            1.28    1.0           1.0        108.0    NaN  56854.0   \n",
       "2    ...            1.17    1.0           1.0        128.0    NaN  56721.0   \n",
       "\n",
       "   nest_vs_total  severity_diff  KBF_new  indicator  \n",
       "0       0.177419            NaN      0.0        NaN  \n",
       "1       0.171053            0.0      0.0        NaN  \n",
       "2       0.255319            0.0      0.0        NaN  \n",
       "\n",
       "[3 rows x 43 columns]"
      ]
     },
     "execution_count": 4,
     "metadata": {},
     "output_type": "execute_result"
    }
   ],
   "source": [
    "df_master = pd.read_csv(os.path.join(path_initial_data,'Mo_Masterfile.csv'), sep=';') #, parse_dates=['date']) wrong!\n",
    "df_master.rename(columns={'time':'Timestamp','day':'DayID','hen':'HenID','date':'day'}, inplace=True)\n",
    "#dico or join by hen (not day as some are nan but we actually know then)\n",
    "df_master['day'] = df_master['day'].map(lambda x: dt.datetime.strptime(x, \"%d.%m.%Y\"))\n",
    "df_master['HenID'] = df_master['HenID'].map(str)\n",
    "dico_hen_group = dict(zip(df_master['HenID'].tolist(), df_master['group'].tolist()))\n",
    "#df_master.filter(['HenID','group'])\n",
    "print(df_master.shape)\n",
    "df_master.head(3)"
   ]
  },
  {
   "cell_type": "code",
   "execution_count": 5,
   "metadata": {},
   "outputs": [
    {
     "data": {
      "text/html": [
       "<div>\n",
       "<style scoped>\n",
       "    .dataframe tbody tr th:only-of-type {\n",
       "        vertical-align: middle;\n",
       "    }\n",
       "\n",
       "    .dataframe tbody tr th {\n",
       "        vertical-align: top;\n",
       "    }\n",
       "\n",
       "    .dataframe thead th {\n",
       "        text-align: right;\n",
       "    }\n",
       "</style>\n",
       "<table border=\"1\" class=\"dataframe\">\n",
       "  <thead>\n",
       "    <tr style=\"text-align: right;\">\n",
       "      <th></th>\n",
       "      <th>group</th>\n",
       "      <th>hybrid</th>\n",
       "    </tr>\n",
       "  </thead>\n",
       "  <tbody>\n",
       "    <tr>\n",
       "      <th>0</th>\n",
       "      <td>A</td>\n",
       "      <td>{'LSL': 2640, 'LB': 1320}</td>\n",
       "    </tr>\n",
       "    <tr>\n",
       "      <th>1</th>\n",
       "      <td>B</td>\n",
       "      <td>{'LSL': 1320, 'LB': 2640}</td>\n",
       "    </tr>\n",
       "  </tbody>\n",
       "</table>\n",
       "</div>"
      ],
      "text/plain": [
       "  group                     hybrid\n",
       "0     A  {'LSL': 2640, 'LB': 1320}\n",
       "1     B  {'LSL': 1320, 'LB': 2640}"
      ]
     },
     "execution_count": 5,
     "metadata": {},
     "output_type": "execute_result"
    }
   ],
   "source": [
    "df_master.groupby(['group'])['hybrid'].agg(lambda x: Counter(x)).reset_index()"
   ]
  },
  {
   "cell_type": "code",
   "execution_count": 23,
   "metadata": {},
   "outputs": [
    {
     "name": "stdout",
     "output_type": "stream",
     "text": [
      "(362612, 7)\n"
     ]
    },
    {
     "data": {
      "text/html": [
       "<div>\n",
       "<style scoped>\n",
       "    .dataframe tbody tr th:only-of-type {\n",
       "        vertical-align: middle;\n",
       "    }\n",
       "\n",
       "    .dataframe tbody tr th {\n",
       "        vertical-align: top;\n",
       "    }\n",
       "\n",
       "    .dataframe thead th {\n",
       "        text-align: right;\n",
       "    }\n",
       "</style>\n",
       "<table border=\"1\" class=\"dataframe\">\n",
       "  <thead>\n",
       "    <tr style=\"text-align: right;\">\n",
       "      <th></th>\n",
       "      <th>Timestamp</th>\n",
       "      <th>zone</th>\n",
       "      <th>HenID</th>\n",
       "      <th>sessionNumber</th>\n",
       "      <th>day</th>\n",
       "      <th>group</th>\n",
       "      <th>SessionID</th>\n",
       "    </tr>\n",
       "  </thead>\n",
       "  <tbody>\n",
       "    <tr>\n",
       "      <th>0</th>\n",
       "      <td>2016-10-27 01:30:00</td>\n",
       "      <td>zone_4</td>\n",
       "      <td>1</td>\n",
       "      <td>1</td>\n",
       "      <td>2016-10-27</td>\n",
       "      <td>A</td>\n",
       "      <td>1A</td>\n",
       "    </tr>\n",
       "    <tr>\n",
       "      <th>1</th>\n",
       "      <td>2016-10-27 04:29:17</td>\n",
       "      <td>zone_5</td>\n",
       "      <td>1</td>\n",
       "      <td>1</td>\n",
       "      <td>2016-10-27</td>\n",
       "      <td>A</td>\n",
       "      <td>1A</td>\n",
       "    </tr>\n",
       "    <tr>\n",
       "      <th>2</th>\n",
       "      <td>2016-10-27 04:38:59</td>\n",
       "      <td>zone_4</td>\n",
       "      <td>1</td>\n",
       "      <td>1</td>\n",
       "      <td>2016-10-27</td>\n",
       "      <td>A</td>\n",
       "      <td>1A</td>\n",
       "    </tr>\n",
       "  </tbody>\n",
       "</table>\n",
       "</div>"
      ],
      "text/plain": [
       "            Timestamp    zone HenID  sessionNumber        day group SessionID\n",
       "0 2016-10-27 01:30:00  zone_4     1              1 2016-10-27     A        1A\n",
       "1 2016-10-27 04:29:17  zone_5     1              1 2016-10-27     A        1A\n",
       "2 2016-10-27 04:38:59  zone_4     1              1 2016-10-27     A        1A"
      ]
     },
     "execution_count": 23,
     "metadata": {},
     "output_type": "execute_result"
    }
   ],
   "source": [
    "df = pd.read_csv(os.path.join(path_initial_data,'movements_timeseries.csv'), sep=';') #, parse_dates=['time'])\n",
    "df.rename(columns={'time':'Timestamp','chicken':'HenID','current_Level':'zone'}, inplace=True)\n",
    "df['Timestamp'] = df['Timestamp'].map(lambda x: dt.datetime.strptime(x, \"%Y-%m-%d %H:%M:%S\"))\n",
    "df['day'] = df['Timestamp'].map(lambda x: dt.datetime(x.year, x.month, x.day))\n",
    "df['HenID'] = df['HenID'].map(str)\n",
    "df['zone'] = df['zone'].map(str)\n",
    "df['group'] = df['HenID'].map(dico_hen_group)\n",
    "df['SessionID'] = df['sessionNumber'].map(str)+df['group']\n",
    "df['zone'] = df['zone'].map(lambda x: 'zone_'+x)\n",
    "print(df.shape)\n",
    "df.head(3)"
   ]
  },
  {
   "cell_type": "markdown",
   "metadata": {},
   "source": [
    "## Save Movement record csv"
   ]
  },
  {
   "cell_type": "code",
   "execution_count": 24,
   "metadata": {},
   "outputs": [
    {
     "name": "stdout",
     "output_type": "stream",
     "text": [
      "(362612, 7) (7920, 43)\n",
      "(362612, 9)\n"
     ]
    },
    {
     "data": {
      "text/html": [
       "<div>\n",
       "<style scoped>\n",
       "    .dataframe tbody tr th:only-of-type {\n",
       "        vertical-align: middle;\n",
       "    }\n",
       "\n",
       "    .dataframe tbody tr th {\n",
       "        vertical-align: top;\n",
       "    }\n",
       "\n",
       "    .dataframe thead th {\n",
       "        text-align: right;\n",
       "    }\n",
       "</style>\n",
       "<table border=\"1\" class=\"dataframe\">\n",
       "  <thead>\n",
       "    <tr style=\"text-align: right;\">\n",
       "      <th></th>\n",
       "      <th>Timestamp</th>\n",
       "      <th>zone</th>\n",
       "      <th>HenID</th>\n",
       "      <th>sessionNumber</th>\n",
       "      <th>day</th>\n",
       "      <th>group</th>\n",
       "      <th>SessionID</th>\n",
       "      <th>severity</th>\n",
       "      <th>hybrid</th>\n",
       "    </tr>\n",
       "  </thead>\n",
       "  <tbody>\n",
       "    <tr>\n",
       "      <th>0</th>\n",
       "      <td>2016-10-27 01:30:00</td>\n",
       "      <td>zone_4</td>\n",
       "      <td>hen_1</td>\n",
       "      <td>1</td>\n",
       "      <td>2016-10-27</td>\n",
       "      <td>A</td>\n",
       "      <td>1A</td>\n",
       "      <td>0.0</td>\n",
       "      <td>LSL</td>\n",
       "    </tr>\n",
       "    <tr>\n",
       "      <th>1</th>\n",
       "      <td>2016-10-27 04:29:17</td>\n",
       "      <td>zone_5</td>\n",
       "      <td>hen_1</td>\n",
       "      <td>1</td>\n",
       "      <td>2016-10-27</td>\n",
       "      <td>A</td>\n",
       "      <td>1A</td>\n",
       "      <td>0.0</td>\n",
       "      <td>LSL</td>\n",
       "    </tr>\n",
       "    <tr>\n",
       "      <th>2</th>\n",
       "      <td>2016-10-27 04:38:59</td>\n",
       "      <td>zone_4</td>\n",
       "      <td>hen_1</td>\n",
       "      <td>1</td>\n",
       "      <td>2016-10-27</td>\n",
       "      <td>A</td>\n",
       "      <td>1A</td>\n",
       "      <td>0.0</td>\n",
       "      <td>LSL</td>\n",
       "    </tr>\n",
       "  </tbody>\n",
       "</table>\n",
       "</div>"
      ],
      "text/plain": [
       "            Timestamp    zone  HenID  sessionNumber        day group  \\\n",
       "0 2016-10-27 01:30:00  zone_4  hen_1              1 2016-10-27     A   \n",
       "1 2016-10-27 04:29:17  zone_5  hen_1              1 2016-10-27     A   \n",
       "2 2016-10-27 04:38:59  zone_4  hen_1              1 2016-10-27     A   \n",
       "\n",
       "  SessionID  severity hybrid  \n",
       "0        1A       0.0    LSL  \n",
       "1        1A       0.0    LSL  \n",
       "2        1A       0.0    LSL  "
      ]
     },
     "execution_count": 24,
     "metadata": {},
     "output_type": "execute_result"
    }
   ],
   "source": [
    "#merge to get the severity link to sessionNumber\n",
    "print(df.shape, df_master.shape)\n",
    "df = pd.merge(df, df_master.filter(['HenID','day','severity','hybrid']), how='left', on=['HenID','day'])\n",
    "df['HenID'] = df['HenID'].map(lambda x: 'hen_'+x)\n",
    "print(df.shape)\n",
    "df.head(3)"
   ]
  },
  {
   "cell_type": "code",
   "execution_count": 25,
   "metadata": {
    "scrolled": true
   },
   "outputs": [
    {
     "data": {
      "text/plain": [
       "(5086, 9)"
      ]
     },
     "execution_count": 25,
     "metadata": {},
     "output_type": "execute_result"
    }
   ],
   "source": [
    "#show rows with at least one nan\n",
    "df[df.isna().any(axis=1)].shape"
   ]
  },
  {
   "cell_type": "code",
   "execution_count": 27,
   "metadata": {},
   "outputs": [],
   "source": [
    "df.to_csv(os.path.join(path_extracted_data, 'df_movement.csv'), sep=';', index=False)"
   ]
  },
  {
   "cell_type": "markdown",
   "metadata": {},
   "source": [
    "## Extract time series"
   ]
  },
  {
   "cell_type": "code",
   "execution_count": 5,
   "metadata": {},
   "outputs": [
    {
     "name": "stdout",
     "output_type": "stream",
     "text": [
      "(362612, 8)\n"
     ]
    },
    {
     "data": {
      "text/html": [
       "<div>\n",
       "<style scoped>\n",
       "    .dataframe tbody tr th:only-of-type {\n",
       "        vertical-align: middle;\n",
       "    }\n",
       "\n",
       "    .dataframe tbody tr th {\n",
       "        vertical-align: top;\n",
       "    }\n",
       "\n",
       "    .dataframe thead th {\n",
       "        text-align: right;\n",
       "    }\n",
       "</style>\n",
       "<table border=\"1\" class=\"dataframe\">\n",
       "  <thead>\n",
       "    <tr style=\"text-align: right;\">\n",
       "      <th></th>\n",
       "      <th>Timestamp</th>\n",
       "      <th>zone</th>\n",
       "      <th>HenID</th>\n",
       "      <th>sessionNumber</th>\n",
       "      <th>day</th>\n",
       "      <th>group</th>\n",
       "      <th>SessionID</th>\n",
       "      <th>severity</th>\n",
       "    </tr>\n",
       "  </thead>\n",
       "  <tbody>\n",
       "    <tr>\n",
       "      <th>0</th>\n",
       "      <td>2016-10-27 01:30:00</td>\n",
       "      <td>zone_4</td>\n",
       "      <td>hen_1</td>\n",
       "      <td>1</td>\n",
       "      <td>2016-10-27 00:00:00</td>\n",
       "      <td>A</td>\n",
       "      <td>1A</td>\n",
       "      <td>0.0</td>\n",
       "    </tr>\n",
       "    <tr>\n",
       "      <th>1</th>\n",
       "      <td>2016-10-27 04:29:17</td>\n",
       "      <td>zone_5</td>\n",
       "      <td>hen_1</td>\n",
       "      <td>1</td>\n",
       "      <td>2016-10-27 00:00:00</td>\n",
       "      <td>A</td>\n",
       "      <td>1A</td>\n",
       "      <td>0.0</td>\n",
       "    </tr>\n",
       "    <tr>\n",
       "      <th>2</th>\n",
       "      <td>2016-10-27 04:38:59</td>\n",
       "      <td>zone_4</td>\n",
       "      <td>hen_1</td>\n",
       "      <td>1</td>\n",
       "      <td>2016-10-27 00:00:00</td>\n",
       "      <td>A</td>\n",
       "      <td>1A</td>\n",
       "      <td>0.0</td>\n",
       "    </tr>\n",
       "  </tbody>\n",
       "</table>\n",
       "</div>"
      ],
      "text/plain": [
       "            Timestamp    zone  HenID  sessionNumber                  day  \\\n",
       "0 2016-10-27 01:30:00  zone_4  hen_1              1  2016-10-27 00:00:00   \n",
       "1 2016-10-27 04:29:17  zone_5  hen_1              1  2016-10-27 00:00:00   \n",
       "2 2016-10-27 04:38:59  zone_4  hen_1              1  2016-10-27 00:00:00   \n",
       "\n",
       "  group SessionID  severity  \n",
       "0     A        1A       0.0  \n",
       "1     A        1A       0.0  \n",
       "2     A        1A       0.0  "
      ]
     },
     "execution_count": 5,
     "metadata": {},
     "output_type": "execute_result"
    }
   ],
   "source": [
    "df = pd.read_csv(os.path.join(path_extracted_data,'df_movement.csv'), sep=';', parse_dates=['Timestamp'])\n",
    "print(df.shape)\n",
    "df.head(3)"
   ]
  },
  {
   "cell_type": "code",
   "execution_count": 10,
   "metadata": {
    "scrolled": true
   },
   "outputs": [
    {
     "name": "stderr",
     "output_type": "stream",
     "text": [
      "\r",
      "  0%|                                                                                           | 0/22 [00:00<?, ?it/s]"
     ]
    },
    {
     "name": "stdout",
     "output_type": "stream",
     "text": [
      "----------------------------- 10A\n",
      "in this time series there is 49 hens\n",
      "The initial starting date of the time series is: 2017-07-06 01:30:00, and the ending date will be: 2017-07-11 17:08:29\n",
      "and after ending the last day at midnight : 2017-07-06 01:30:00, and the ending date will be: 2017-07-11 23:59:59\n",
      "[0]\n"
     ]
    },
    {
     "name": "stderr",
     "output_type": "stream",
     "text": [
      "\r",
      "  5%|███▋                                                                              | 1/22 [01:43<36:13, 103.52s/it]"
     ]
    },
    {
     "name": "stdout",
     "output_type": "stream",
     "text": [
      "----------------------------- 10B\n",
      "in this time series there is 49 hens\n",
      "The initial starting date of the time series is: 2017-07-14 01:30:00, and the ending date will be: 2017-07-19 17:08:22\n",
      "and after ending the last day at midnight : 2017-07-14 01:30:00, and the ending date will be: 2017-07-19 23:59:59\n",
      "[48  0]\n"
     ]
    },
    {
     "name": "stderr",
     "output_type": "stream",
     "text": [
      "\r",
      "  9%|███████▍                                                                          | 2/22 [03:25<34:19, 102.98s/it]"
     ]
    },
    {
     "name": "stdout",
     "output_type": "stream",
     "text": [
      "----------------------------- 11A\n",
      "in this time series there is 41 hens\n",
      "The initial starting date of the time series is: 2017-08-03 01:30:00, and the ending date will be: 2017-08-08 16:59:52\n",
      "and after ending the last day at midnight : 2017-08-03 01:30:00, and the ending date will be: 2017-08-08 23:59:59\n",
      "[0]\n"
     ]
    },
    {
     "name": "stderr",
     "output_type": "stream",
     "text": [
      "\r",
      " 14%|███████████▎                                                                       | 3/22 [04:55<31:21, 99.02s/it]"
     ]
    },
    {
     "name": "stdout",
     "output_type": "stream",
     "text": [
      "----------------------------- 11B\n",
      "in this time series there is 43 hens\n",
      "The initial starting date of the time series is: 2017-08-12 01:30:00, and the ending date will be: 2017-08-17 17:25:09\n",
      "and after ending the last day at midnight : 2017-08-12 01:30:00, and the ending date will be: 2017-08-17 23:59:59\n",
      "[0]\n"
     ]
    },
    {
     "name": "stderr",
     "output_type": "stream",
     "text": [
      "\r",
      " 18%|███████████████                                                                    | 4/22 [06:25<28:56, 96.49s/it]"
     ]
    },
    {
     "name": "stdout",
     "output_type": "stream",
     "text": [
      "----------------------------- 1A\n",
      "in this time series there is 59 hens\n",
      "The initial starting date of the time series is: 2016-10-27 01:30:00, and the ending date will be: 2016-11-01 17:29:54\n",
      "and after ending the last day at midnight : 2016-10-27 01:30:00, and the ending date will be: 2016-11-01 23:59:59\n",
      "[0]\n"
     ]
    },
    {
     "name": "stderr",
     "output_type": "stream",
     "text": [
      "\r",
      " 23%|██████████████████▋                                                               | 5/22 [08:24<29:14, 103.22s/it]"
     ]
    },
    {
     "name": "stdout",
     "output_type": "stream",
     "text": [
      "----------------------------- 1B\n",
      "in this time series there is 58 hens\n",
      "The initial starting date of the time series is: 2016-11-04 01:30:00, and the ending date will be: 2016-11-09 17:29:37\n",
      "and after ending the last day at midnight : 2016-11-04 01:30:00, and the ending date will be: 2016-11-09 23:59:59\n",
      "[0]\n"
     ]
    },
    {
     "name": "stderr",
     "output_type": "stream",
     "text": [
      "\r",
      " 27%|██████████████████████▎                                                           | 6/22 [10:22<28:43, 107.72s/it]"
     ]
    },
    {
     "name": "stdout",
     "output_type": "stream",
     "text": [
      "----------------------------- 2A\n",
      "in this time series there is 55 hens\n",
      "The initial starting date of the time series is: 2016-11-17 01:30:00, and the ending date will be: 2016-11-22 17:17:43\n",
      "and after ending the last day at midnight : 2016-11-17 01:30:00, and the ending date will be: 2016-11-22 23:59:59\n",
      "[0]\n"
     ]
    },
    {
     "name": "stderr",
     "output_type": "stream",
     "text": [
      "\r",
      " 32%|██████████████████████████                                                        | 7/22 [12:16<27:24, 109.64s/it]"
     ]
    },
    {
     "name": "stdout",
     "output_type": "stream",
     "text": [
      "----------------------------- 2B\n",
      "in this time series there is 60 hens\n",
      "The initial starting date of the time series is: 2016-11-25 01:30:00, and the ending date will be: 2016-11-30 17:05:50\n",
      "and after ending the last day at midnight : 2016-11-25 01:30:00, and the ending date will be: 2016-11-30 23:59:59\n",
      "[0]\n"
     ]
    },
    {
     "name": "stderr",
     "output_type": "stream",
     "text": [
      "\r",
      " 36%|█████████████████████████████▊                                                    | 8/22 [14:20<26:34, 113.86s/it]"
     ]
    },
    {
     "name": "stdout",
     "output_type": "stream",
     "text": [
      "----------------------------- 3A\n",
      "in this time series there is 58 hens\n",
      "The initial starting date of the time series is: 2016-12-08 01:30:00, and the ending date will be: 2016-12-13 17:04:51\n",
      "and after ending the last day at midnight : 2016-12-08 01:30:00, and the ending date will be: 2016-12-13 23:59:59\n",
      "[0]\n"
     ]
    },
    {
     "name": "stderr",
     "output_type": "stream",
     "text": [
      "\r",
      " 41%|█████████████████████████████████▌                                                | 9/22 [16:21<25:07, 115.94s/it]"
     ]
    },
    {
     "name": "stdout",
     "output_type": "stream",
     "text": [
      "----------------------------- 3B\n",
      "in this time series there is 59 hens\n",
      "The initial starting date of the time series is: 2016-12-16 01:30:00, and the ending date will be: 2016-12-21 17:20:58\n",
      "and after ending the last day at midnight : 2016-12-16 01:30:00, and the ending date will be: 2016-12-21 23:59:59\n",
      "[0]\n"
     ]
    },
    {
     "name": "stderr",
     "output_type": "stream",
     "text": [
      "\r",
      " 45%|████████████████████████████████████▊                                            | 10/22 [18:22<23:30, 117.51s/it]"
     ]
    },
    {
     "name": "stdout",
     "output_type": "stream",
     "text": [
      "----------------------------- 4A\n",
      "in this time series there is 54 hens\n",
      "The initial starting date of the time series is: 2017-01-05 01:30:00, and the ending date will be: 2017-01-10 17:16:44\n",
      "and after ending the last day at midnight : 2017-01-05 01:30:00, and the ending date will be: 2017-01-10 23:59:59\n",
      "[0]\n"
     ]
    },
    {
     "name": "stderr",
     "output_type": "stream",
     "text": [
      "\r",
      " 50%|████████████████████████████████████████▌                                        | 11/22 [20:13<21:10, 115.54s/it]"
     ]
    },
    {
     "name": "stdout",
     "output_type": "stream",
     "text": [
      "----------------------------- 4B\n",
      "in this time series there is 59 hens\n",
      "The initial starting date of the time series is: 2017-01-13 01:30:00, and the ending date will be: 2017-01-18 17:16:43\n",
      "and after ending the last day at midnight : 2017-01-13 01:30:00, and the ending date will be: 2017-01-18 23:59:59\n",
      "[0]\n"
     ]
    },
    {
     "name": "stderr",
     "output_type": "stream",
     "text": [
      "\r",
      " 55%|████████████████████████████████████████████▏                                    | 12/22 [22:12<19:26, 116.70s/it]"
     ]
    },
    {
     "name": "stdout",
     "output_type": "stream",
     "text": [
      "----------------------------- 5A\n",
      "in this time series there is 54 hens\n",
      "The initial starting date of the time series is: 2017-02-02 01:30:00, and the ending date will be: 2017-02-07 16:56:44\n",
      "and after ending the last day at midnight : 2017-02-02 01:30:00, and the ending date will be: 2017-02-07 23:59:59\n",
      "[0]\n"
     ]
    },
    {
     "name": "stderr",
     "output_type": "stream",
     "text": [
      "\r",
      " 59%|███████████████████████████████████████████████▊                                 | 13/22 [24:04<17:16, 115.16s/it]"
     ]
    },
    {
     "name": "stdout",
     "output_type": "stream",
     "text": [
      "----------------------------- 5B\n",
      "in this time series there is 58 hens\n",
      "The initial starting date of the time series is: 2017-02-10 01:30:00, and the ending date will be: 2017-02-15 17:08:07\n",
      "and after ending the last day at midnight : 2017-02-10 01:30:00, and the ending date will be: 2017-02-15 23:59:59\n",
      "[0]\n"
     ]
    },
    {
     "name": "stderr",
     "output_type": "stream",
     "text": [
      "\r",
      " 64%|███████████████████████████████████████████████████▌                             | 14/22 [26:07<15:40, 117.50s/it]"
     ]
    },
    {
     "name": "stdout",
     "output_type": "stream",
     "text": [
      "----------------------------- 6A\n",
      "in this time series there is 55 hens\n",
      "The initial starting date of the time series is: 2017-03-02 01:30:00, and the ending date will be: 2017-03-07 17:13:56\n",
      "and after ending the last day at midnight : 2017-03-02 01:30:00, and the ending date will be: 2017-03-07 23:59:59\n",
      "[0]\n"
     ]
    },
    {
     "name": "stderr",
     "output_type": "stream",
     "text": [
      "\r",
      " 68%|███████████████████████████████████████████████████████▏                         | 15/22 [28:04<13:40, 117.22s/it]"
     ]
    },
    {
     "name": "stdout",
     "output_type": "stream",
     "text": [
      "----------------------------- 6B\n",
      "in this time series there is 58 hens\n",
      "The initial starting date of the time series is: 2017-03-10 01:30:00, and the ending date will be: 2017-03-15 17:28:19\n",
      "and after ending the last day at midnight : 2017-03-10 01:30:00, and the ending date will be: 2017-03-15 23:59:59\n",
      "[0]\n"
     ]
    },
    {
     "name": "stderr",
     "output_type": "stream",
     "text": [
      "\r",
      " 73%|██████████████████████████████████████████████████████████▉                      | 16/22 [30:06<11:52, 118.77s/it]"
     ]
    },
    {
     "name": "stdout",
     "output_type": "stream",
     "text": [
      "----------------------------- 7A\n",
      "in this time series there is 52 hens\n",
      "The initial starting date of the time series is: 2017-04-14 01:30:00, and the ending date will be: 2017-04-19 17:02:19\n",
      "and after ending the last day at midnight : 2017-04-14 01:30:00, and the ending date will be: 2017-04-19 23:59:59\n",
      "[0]\n"
     ]
    },
    {
     "name": "stderr",
     "output_type": "stream",
     "text": [
      "\r",
      " 77%|██████████████████████████████████████████████████████████████▌                  | 17/22 [31:59<09:44, 116.98s/it]"
     ]
    },
    {
     "name": "stdout",
     "output_type": "stream",
     "text": [
      "----------------------------- 7B\n",
      "in this time series there is 56 hens\n",
      "The initial starting date of the time series is: 2017-04-22 01:30:00, and the ending date will be: 2017-04-27 17:25:09\n",
      "and after ending the last day at midnight : 2017-04-22 01:30:00, and the ending date will be: 2017-04-27 23:59:59\n",
      "[0]\n"
     ]
    },
    {
     "name": "stderr",
     "output_type": "stream",
     "text": [
      "\r",
      " 82%|██████████████████████████████████████████████████████████████████▎              | 18/22 [33:59<07:51, 117.93s/it]"
     ]
    },
    {
     "name": "stdout",
     "output_type": "stream",
     "text": [
      "----------------------------- 8A\n",
      "in this time series there is 51 hens\n",
      "The initial starting date of the time series is: 2017-05-04 01:30:00, and the ending date will be: 2017-05-09 17:13:57\n",
      "and after ending the last day at midnight : 2017-05-04 01:30:00, and the ending date will be: 2017-05-09 23:59:59\n",
      "[0]\n"
     ]
    },
    {
     "name": "stderr",
     "output_type": "stream",
     "text": [
      "\r",
      " 86%|█████████████████████████████████████████████████████████████████████▉           | 19/22 [35:50<05:47, 115.88s/it]"
     ]
    },
    {
     "name": "stdout",
     "output_type": "stream",
     "text": [
      "----------------------------- 8B\n",
      "in this time series there is 57 hens\n",
      "The initial starting date of the time series is: 2017-05-12 01:30:00, and the ending date will be: 2017-05-17 17:25:38\n",
      "and after ending the last day at midnight : 2017-05-12 01:30:00, and the ending date will be: 2017-05-17 23:59:59\n",
      "[0]\n"
     ]
    },
    {
     "name": "stderr",
     "output_type": "stream",
     "text": [
      "\r",
      " 91%|█████████████████████████████████████████████████████████████████████████▋       | 20/22 [37:45<03:51, 115.53s/it]"
     ]
    },
    {
     "name": "stdout",
     "output_type": "stream",
     "text": [
      "----------------------------- 9A\n",
      "in this time series there is 50 hens\n",
      "The initial starting date of the time series is: 2017-06-01 01:30:00, and the ending date will be: 2017-06-06 17:06:40\n",
      "and after ending the last day at midnight : 2017-06-01 01:30:00, and the ending date will be: 2017-06-06 23:59:59\n",
      "[1 0]\n"
     ]
    },
    {
     "name": "stderr",
     "output_type": "stream",
     "text": [
      "\r",
      " 95%|█████████████████████████████████████████████████████████████████████████████▎   | 21/22 [39:30<01:52, 112.46s/it]"
     ]
    },
    {
     "name": "stdout",
     "output_type": "stream",
     "text": [
      "----------------------------- 9B\n",
      "in this time series there is 50 hens\n",
      "The initial starting date of the time series is: 2017-06-09 01:30:00, and the ending date will be: 2017-06-14 17:28:12\n",
      "and after ending the last day at midnight : 2017-06-09 01:30:00, and the ending date will be: 2017-06-14 23:59:59\n",
      "[0]\n"
     ]
    },
    {
     "name": "stderr",
     "output_type": "stream",
     "text": [
      "100%|█████████████████████████████████████████████████████████████████████████████████| 22/22 [41:13<00:00, 109.55s/it]\n"
     ]
    }
   ],
   "source": [
    "for i,df_ in tqdm.tqdm(df.groupby(['SessionID'])):\n",
    "    print('-----------------------------', i)\n",
    "    time_series_henColumn_tsRow(df_, config, col_ts='zone', name_=i, ts_with_all_hen_value=False, save=True, \n",
    "                                hen_time_series=True)"
   ]
  },
  {
   "cell_type": "markdown",
   "metadata": {},
   "source": [
    "## Extract event csv and Flag interesting/not-interesting ones"
   ]
  },
  {
   "cell_type": "code",
   "execution_count": 6,
   "metadata": {},
   "outputs": [
    {
     "name": "stdout",
     "output_type": "stream",
     "text": [
      "(362612, 8)\n"
     ]
    },
    {
     "data": {
      "text/html": [
       "<div>\n",
       "<style scoped>\n",
       "    .dataframe tbody tr th:only-of-type {\n",
       "        vertical-align: middle;\n",
       "    }\n",
       "\n",
       "    .dataframe tbody tr th {\n",
       "        vertical-align: top;\n",
       "    }\n",
       "\n",
       "    .dataframe thead th {\n",
       "        text-align: right;\n",
       "    }\n",
       "</style>\n",
       "<table border=\"1\" class=\"dataframe\">\n",
       "  <thead>\n",
       "    <tr style=\"text-align: right;\">\n",
       "      <th></th>\n",
       "      <th>Timestamp</th>\n",
       "      <th>zone</th>\n",
       "      <th>HenID</th>\n",
       "      <th>sessionNumber</th>\n",
       "      <th>day</th>\n",
       "      <th>group</th>\n",
       "      <th>SessionID</th>\n",
       "      <th>severity</th>\n",
       "    </tr>\n",
       "  </thead>\n",
       "  <tbody>\n",
       "    <tr>\n",
       "      <th>0</th>\n",
       "      <td>2016-10-27 01:30:00</td>\n",
       "      <td>zone_4</td>\n",
       "      <td>hen_1</td>\n",
       "      <td>1</td>\n",
       "      <td>2016-10-27 00:00:00</td>\n",
       "      <td>A</td>\n",
       "      <td>1A</td>\n",
       "      <td>0.0</td>\n",
       "    </tr>\n",
       "    <tr>\n",
       "      <th>1</th>\n",
       "      <td>2016-10-27 04:29:17</td>\n",
       "      <td>zone_5</td>\n",
       "      <td>hen_1</td>\n",
       "      <td>1</td>\n",
       "      <td>2016-10-27 00:00:00</td>\n",
       "      <td>A</td>\n",
       "      <td>1A</td>\n",
       "      <td>0.0</td>\n",
       "    </tr>\n",
       "    <tr>\n",
       "      <th>2</th>\n",
       "      <td>2016-10-27 04:38:59</td>\n",
       "      <td>zone_4</td>\n",
       "      <td>hen_1</td>\n",
       "      <td>1</td>\n",
       "      <td>2016-10-27 00:00:00</td>\n",
       "      <td>A</td>\n",
       "      <td>1A</td>\n",
       "      <td>0.0</td>\n",
       "    </tr>\n",
       "  </tbody>\n",
       "</table>\n",
       "</div>"
      ],
      "text/plain": [
       "            Timestamp    zone  HenID  sessionNumber                  day  \\\n",
       "0 2016-10-27 01:30:00  zone_4  hen_1              1  2016-10-27 00:00:00   \n",
       "1 2016-10-27 04:29:17  zone_5  hen_1              1  2016-10-27 00:00:00   \n",
       "2 2016-10-27 04:38:59  zone_4  hen_1              1  2016-10-27 00:00:00   \n",
       "\n",
       "  group SessionID  severity  \n",
       "0     A        1A       0.0  \n",
       "1     A        1A       0.0  \n",
       "2     A        1A       0.0  "
      ]
     },
     "execution_count": 6,
     "metadata": {},
     "output_type": "execute_result"
    }
   ],
   "source": [
    "df = pd.read_csv(os.path.join(path_extracted_data,'df_movement.csv'), sep=';', parse_dates=['Timestamp'])\n",
    "print(df.shape)\n",
    "df.head(3)"
   ]
  },
  {
   "cell_type": "code",
   "execution_count": 10,
   "metadata": {},
   "outputs": [
    {
     "data": {
      "text/html": [
       "<div>\n",
       "<style scoped>\n",
       "    .dataframe tbody tr th:only-of-type {\n",
       "        vertical-align: middle;\n",
       "    }\n",
       "\n",
       "    .dataframe tbody tr th {\n",
       "        vertical-align: top;\n",
       "    }\n",
       "\n",
       "    .dataframe thead th {\n",
       "        text-align: right;\n",
       "    }\n",
       "</style>\n",
       "<table border=\"1\" class=\"dataframe\">\n",
       "  <thead>\n",
       "    <tr style=\"text-align: right;\">\n",
       "      <th></th>\n",
       "      <th>SessionID</th>\n",
       "      <th>day</th>\n",
       "    </tr>\n",
       "  </thead>\n",
       "  <tbody>\n",
       "    <tr>\n",
       "      <th>0</th>\n",
       "      <td>10A</td>\n",
       "      <td>{2017-07-07 00:00:00, 2017-07-09 00:00:00, 201...</td>\n",
       "    </tr>\n",
       "    <tr>\n",
       "      <th>1</th>\n",
       "      <td>11A</td>\n",
       "      <td>{2017-08-03 00:00:00, 2017-08-05 00:00:00, 201...</td>\n",
       "    </tr>\n",
       "    <tr>\n",
       "      <th>2</th>\n",
       "      <td>1A</td>\n",
       "      <td>{2016-11-01 00:00:00, 2016-10-29 00:00:00, 201...</td>\n",
       "    </tr>\n",
       "    <tr>\n",
       "      <th>3</th>\n",
       "      <td>2A</td>\n",
       "      <td>{2016-11-19 00:00:00, 2016-11-17 00:00:00, 201...</td>\n",
       "    </tr>\n",
       "    <tr>\n",
       "      <th>4</th>\n",
       "      <td>3A</td>\n",
       "      <td>{2016-12-09 00:00:00, 2016-12-08 00:00:00, 201...</td>\n",
       "    </tr>\n",
       "    <tr>\n",
       "      <th>5</th>\n",
       "      <td>4A</td>\n",
       "      <td>{2017-01-06 00:00:00, 2017-01-07 00:00:00, 201...</td>\n",
       "    </tr>\n",
       "    <tr>\n",
       "      <th>6</th>\n",
       "      <td>5A</td>\n",
       "      <td>{2017-02-03 00:00:00, 2017-02-06 00:00:00, 201...</td>\n",
       "    </tr>\n",
       "    <tr>\n",
       "      <th>7</th>\n",
       "      <td>6A</td>\n",
       "      <td>{2017-03-05 00:00:00, 2017-03-07 00:00:00, 201...</td>\n",
       "    </tr>\n",
       "    <tr>\n",
       "      <th>8</th>\n",
       "      <td>7A</td>\n",
       "      <td>{2017-04-14 00:00:00, 2017-04-19 00:00:00, 201...</td>\n",
       "    </tr>\n",
       "    <tr>\n",
       "      <th>9</th>\n",
       "      <td>8A</td>\n",
       "      <td>{2017-05-07 00:00:00, 2017-05-08 00:00:00, 201...</td>\n",
       "    </tr>\n",
       "    <tr>\n",
       "      <th>10</th>\n",
       "      <td>9A</td>\n",
       "      <td>{2017-06-03 00:00:00, 2017-06-05 00:00:00, 201...</td>\n",
       "    </tr>\n",
       "  </tbody>\n",
       "</table>\n",
       "</div>"
      ],
      "text/plain": [
       "   SessionID                                                day\n",
       "0        10A  {2017-07-07 00:00:00, 2017-07-09 00:00:00, 201...\n",
       "1        11A  {2017-08-03 00:00:00, 2017-08-05 00:00:00, 201...\n",
       "2         1A  {2016-11-01 00:00:00, 2016-10-29 00:00:00, 201...\n",
       "3         2A  {2016-11-19 00:00:00, 2016-11-17 00:00:00, 201...\n",
       "4         3A  {2016-12-09 00:00:00, 2016-12-08 00:00:00, 201...\n",
       "5         4A  {2017-01-06 00:00:00, 2017-01-07 00:00:00, 201...\n",
       "6         5A  {2017-02-03 00:00:00, 2017-02-06 00:00:00, 201...\n",
       "7         6A  {2017-03-05 00:00:00, 2017-03-07 00:00:00, 201...\n",
       "8         7A  {2017-04-14 00:00:00, 2017-04-19 00:00:00, 201...\n",
       "9         8A  {2017-05-07 00:00:00, 2017-05-08 00:00:00, 201...\n",
       "10        9A  {2017-06-03 00:00:00, 2017-06-05 00:00:00, 201..."
      ]
     },
     "execution_count": 10,
     "metadata": {},
     "output_type": "execute_result"
    }
   ],
   "source": [
    "#info on days per session\n",
    "df[df['HenID']=='hen_6'].groupby(['SessionID'])['day'].agg(lambda x: set(x)).reset_index()"
   ]
  },
  {
   "cell_type": "code",
   "execution_count": 12,
   "metadata": {},
   "outputs": [
    {
     "name": "stdout",
     "output_type": "stream",
     "text": [
      "(1169, 10)\n"
     ]
    },
    {
     "data": {
      "text/html": [
       "<div>\n",
       "<style scoped>\n",
       "    .dataframe tbody tr th:only-of-type {\n",
       "        vertical-align: middle;\n",
       "    }\n",
       "\n",
       "    .dataframe tbody tr th {\n",
       "        vertical-align: top;\n",
       "    }\n",
       "\n",
       "    .dataframe thead th {\n",
       "        text-align: right;\n",
       "    }\n",
       "</style>\n",
       "<table border=\"1\" class=\"dataframe\">\n",
       "  <thead>\n",
       "    <tr style=\"text-align: right;\">\n",
       "      <th></th>\n",
       "      <th>HenID</th>\n",
       "      <th>sessionNumber</th>\n",
       "      <th>severity</th>\n",
       "      <th>group</th>\n",
       "      <th>HenID_sessionNumber</th>\n",
       "      <th>previous_sessionNumber</th>\n",
       "      <th>previous_HenID_sessionNumber</th>\n",
       "      <th>previous_severity</th>\n",
       "      <th>sum_previous_severity</th>\n",
       "      <th>severity-previousSeverity</th>\n",
       "    </tr>\n",
       "  </thead>\n",
       "  <tbody>\n",
       "    <tr>\n",
       "      <th>0</th>\n",
       "      <td>hen_1</td>\n",
       "      <td>1</td>\n",
       "      <td>0.0</td>\n",
       "      <td>A</td>\n",
       "      <td>hen_1_1</td>\n",
       "      <td>NaN</td>\n",
       "      <td>hen_1_0</td>\n",
       "      <td>NaN</td>\n",
       "      <td>0.0</td>\n",
       "      <td>NaN</td>\n",
       "    </tr>\n",
       "    <tr>\n",
       "      <th>720</th>\n",
       "      <td>hen_1</td>\n",
       "      <td>2</td>\n",
       "      <td>0.0</td>\n",
       "      <td>A</td>\n",
       "      <td>hen_1_2</td>\n",
       "      <td>1.0</td>\n",
       "      <td>hen_1_1</td>\n",
       "      <td>0.0</td>\n",
       "      <td>0.0</td>\n",
       "      <td>0.0</td>\n",
       "    </tr>\n",
       "    <tr>\n",
       "      <th>1520</th>\n",
       "      <td>hen_1</td>\n",
       "      <td>3</td>\n",
       "      <td>0.8</td>\n",
       "      <td>A</td>\n",
       "      <td>hen_1_3</td>\n",
       "      <td>2.0</td>\n",
       "      <td>hen_1_2</td>\n",
       "      <td>0.0</td>\n",
       "      <td>0.0</td>\n",
       "      <td>0.8</td>\n",
       "    </tr>\n",
       "    <tr>\n",
       "      <th>2328</th>\n",
       "      <td>hen_1</td>\n",
       "      <td>4</td>\n",
       "      <td>0.3</td>\n",
       "      <td>A</td>\n",
       "      <td>hen_1_4</td>\n",
       "      <td>3.0</td>\n",
       "      <td>hen_1_3</td>\n",
       "      <td>0.8</td>\n",
       "      <td>0.8</td>\n",
       "      <td>-0.5</td>\n",
       "    </tr>\n",
       "    <tr>\n",
       "      <th>2828</th>\n",
       "      <td>hen_1</td>\n",
       "      <td>5</td>\n",
       "      <td>0.2</td>\n",
       "      <td>A</td>\n",
       "      <td>hen_1_5</td>\n",
       "      <td>4.0</td>\n",
       "      <td>hen_1_4</td>\n",
       "      <td>0.3</td>\n",
       "      <td>1.1</td>\n",
       "      <td>-0.1</td>\n",
       "    </tr>\n",
       "    <tr>\n",
       "      <th>3248</th>\n",
       "      <td>hen_1</td>\n",
       "      <td>6</td>\n",
       "      <td>1.5</td>\n",
       "      <td>A</td>\n",
       "      <td>hen_1_6</td>\n",
       "      <td>5.0</td>\n",
       "      <td>hen_1_5</td>\n",
       "      <td>0.2</td>\n",
       "      <td>1.3</td>\n",
       "      <td>1.3</td>\n",
       "    </tr>\n",
       "    <tr>\n",
       "      <th>3476</th>\n",
       "      <td>hen_1</td>\n",
       "      <td>7</td>\n",
       "      <td>1.6</td>\n",
       "      <td>A</td>\n",
       "      <td>hen_1_7</td>\n",
       "      <td>6.0</td>\n",
       "      <td>hen_1_6</td>\n",
       "      <td>1.5</td>\n",
       "      <td>2.8</td>\n",
       "      <td>0.1</td>\n",
       "    </tr>\n",
       "    <tr>\n",
       "      <th>3694</th>\n",
       "      <td>hen_1</td>\n",
       "      <td>8</td>\n",
       "      <td>1.5</td>\n",
       "      <td>A</td>\n",
       "      <td>hen_1_8</td>\n",
       "      <td>7.0</td>\n",
       "      <td>hen_1_7</td>\n",
       "      <td>1.6</td>\n",
       "      <td>4.4</td>\n",
       "      <td>-0.1</td>\n",
       "    </tr>\n",
       "    <tr>\n",
       "      <th>4412</th>\n",
       "      <td>hen_1</td>\n",
       "      <td>9</td>\n",
       "      <td>1.5</td>\n",
       "      <td>A</td>\n",
       "      <td>hen_1_9</td>\n",
       "      <td>8.0</td>\n",
       "      <td>hen_1_8</td>\n",
       "      <td>1.5</td>\n",
       "      <td>5.9</td>\n",
       "      <td>0.0</td>\n",
       "    </tr>\n",
       "    <tr>\n",
       "      <th>4666</th>\n",
       "      <td>hen_1</td>\n",
       "      <td>10</td>\n",
       "      <td>1.8</td>\n",
       "      <td>A</td>\n",
       "      <td>hen_1_10</td>\n",
       "      <td>9.0</td>\n",
       "      <td>hen_1_9</td>\n",
       "      <td>1.5</td>\n",
       "      <td>7.4</td>\n",
       "      <td>0.3</td>\n",
       "    </tr>\n",
       "  </tbody>\n",
       "</table>\n",
       "</div>"
      ],
      "text/plain": [
       "      HenID  sessionNumber  severity group HenID_sessionNumber  \\\n",
       "0     hen_1              1       0.0     A             hen_1_1   \n",
       "720   hen_1              2       0.0     A             hen_1_2   \n",
       "1520  hen_1              3       0.8     A             hen_1_3   \n",
       "2328  hen_1              4       0.3     A             hen_1_4   \n",
       "2828  hen_1              5       0.2     A             hen_1_5   \n",
       "3248  hen_1              6       1.5     A             hen_1_6   \n",
       "3476  hen_1              7       1.6     A             hen_1_7   \n",
       "3694  hen_1              8       1.5     A             hen_1_8   \n",
       "4412  hen_1              9       1.5     A             hen_1_9   \n",
       "4666  hen_1             10       1.8     A            hen_1_10   \n",
       "\n",
       "      previous_sessionNumber previous_HenID_sessionNumber  previous_severity  \\\n",
       "0                        NaN                      hen_1_0                NaN   \n",
       "720                      1.0                      hen_1_1                0.0   \n",
       "1520                     2.0                      hen_1_2                0.0   \n",
       "2328                     3.0                      hen_1_3                0.8   \n",
       "2828                     4.0                      hen_1_4                0.3   \n",
       "3248                     5.0                      hen_1_5                0.2   \n",
       "3476                     6.0                      hen_1_6                1.5   \n",
       "3694                     7.0                      hen_1_7                1.6   \n",
       "4412                     8.0                      hen_1_8                1.5   \n",
       "4666                     9.0                      hen_1_9                1.5   \n",
       "\n",
       "      sum_previous_severity  severity-previousSeverity  \n",
       "0                       0.0                        NaN  \n",
       "720                     0.0                        0.0  \n",
       "1520                    0.0                        0.8  \n",
       "2328                    0.8                       -0.5  \n",
       "2828                    1.1                       -0.1  \n",
       "3248                    1.3                        1.3  \n",
       "3476                    2.8                        0.1  \n",
       "3694                    4.4                       -0.1  \n",
       "4412                    5.9                        0.0  \n",
       "4666                    7.4                        0.3  "
      ]
     },
     "execution_count": 12,
     "metadata": {},
     "output_type": "execute_result"
    }
   ],
   "source": [
    "#create an event table by taking all possible henid and sessionnumber combination that has a severity value\n",
    "df_event = df[~df['severity'].isnull()][['HenID','sessionNumber','severity','group']].copy()\n",
    "df_event.drop_duplicates(subset=None, keep='first', inplace=True)\n",
    "#compute previous info\n",
    "df_event['HenID_sessionNumber'] = df_event['HenID']+'_'+df_event['sessionNumber'].map(str)\n",
    "df_event['previous_sessionNumber'] = df_event['sessionNumber'].map(lambda x: x-1)\n",
    "df_event['previous_HenID_sessionNumber'] = df_event['HenID']+'_'+df_event['previous_sessionNumber'].map(str)\n",
    "dico_id_sev = dict(zip(df_event['HenID_sessionNumber'].tolist(), df_event['severity'].tolist()))\n",
    "df_event['previous_severity'] = df_event['previous_HenID_sessionNumber'].map(lambda x: dico_id_sev[x] if x in dico_id_sev \\\n",
    "                                                                             else np.nan)\n",
    "df_event['sum_previous_severity'] = df_event.apply(lambda x: sum(df_event[(df_event['HenID']==x['HenID']) & \\\n",
    "                                                  (df_event['sessionNumber']<x['sessionNumber'])]['severity'].tolist()), axis=1)\n",
    "df_event['previous_sessionNumber']= df_event['previous_sessionNumber'].replace(0, np.nan)\n",
    "df_event['severity-previousSeverity'] = df_event['severity'] - df_event['previous_severity']\n",
    "print(df_event.shape)\n",
    "df_event.head(10)"
   ]
  },
  {
   "cell_type": "code",
   "execution_count": 13,
   "metadata": {},
   "outputs": [
    {
     "data": {
      "text/plain": [
       "False    1061\n",
       "True      108\n",
       "Name: is_interesting_event, dtype: int64"
      ]
     },
     "execution_count": 13,
     "metadata": {},
     "output_type": "execute_result"
    }
   ],
   "source": [
    "#define interesting event flag\n",
    "gap = 6\n",
    "df_event['is_interesting_event'] = df_event.apply(lambda x: (x['severity']-x['previous_severity'])>=gap, axis=1)\n",
    "df_event['is_interesting_event'] = df_event.apply(lambda x: (x['sum_previous_severity']==0) & (x['severity']>=1), axis=1)\n",
    "df_event['is_interesting_event'].value_counts()"
   ]
  },
  {
   "cell_type": "code",
   "execution_count": 14,
   "metadata": {},
   "outputs": [
    {
     "data": {
      "text/plain": [
       "False    921\n",
       "True     248\n",
       "Name: is_not_interesting_event, dtype: int64"
      ]
     },
     "execution_count": 14,
     "metadata": {},
     "output_type": "execute_result"
    }
   ],
   "source": [
    "#define not-interesting event flag\n",
    "df_event['is_not_interesting_event'] = df_event.apply(lambda x: (x['sum_previous_severity']==0) & (x['severity']==0), axis=1)\n",
    "df_event['is_not_interesting_event'].value_counts()"
   ]
  },
  {
   "cell_type": "code",
   "execution_count": 15,
   "metadata": {},
   "outputs": [
    {
     "name": "stdout",
     "output_type": "stream",
     "text": [
      "(989, 12)\n",
      "(78, 12)\n",
      "(146, 12)\n"
     ]
    }
   ],
   "source": [
    "#remove event with no previous sessionnumber or no previous severity(i.e. not ebale to compare) and save\n",
    "df_event = df_event[(~df_event['previous_sessionNumber'].isnull()) & (~df_event['previous_severity'].isnull())]\n",
    "#save event table\n",
    "print(df_event.shape)\n",
    "df_event.to_csv(os.path.join(path_extracted_data, 'df_event.csv'), sep=';', index=False)\n",
    "#save interesting events\n",
    "df_int_event = df_event[df_event['is_interesting_event']].copy()\n",
    "print(df_int_event.shape)\n",
    "df_int_event.to_csv(os.path.join(path_extracted_data, 'df_int_event.csv'), sep=';', index=False)\n",
    "#save not interesting events\n",
    "df_not_int_event = df_event[df_event['is_not_interesting_event']].copy()\n",
    "print(df_not_int_event.shape)\n",
    "df_not_int_event.to_csv(os.path.join(path_extracted_data, 'df_not_int_event.csv'), sep=';', index=False)"
   ]
  },
  {
   "cell_type": "code",
   "execution_count": null,
   "metadata": {},
   "outputs": [],
   "source": []
  },
  {
   "cell_type": "code",
   "execution_count": null,
   "metadata": {},
   "outputs": [],
   "source": []
  },
  {
   "cell_type": "code",
   "execution_count": null,
   "metadata": {},
   "outputs": [],
   "source": []
  },
  {
   "cell_type": "code",
   "execution_count": null,
   "metadata": {},
   "outputs": [],
   "source": []
  },
  {
   "cell_type": "code",
   "execution_count": null,
   "metadata": {},
   "outputs": [],
   "source": []
  },
  {
   "cell_type": "code",
   "execution_count": null,
   "metadata": {},
   "outputs": [],
   "source": []
  },
  {
   "cell_type": "code",
   "execution_count": null,
   "metadata": {},
   "outputs": [],
   "source": []
  }
 ],
 "metadata": {
  "kernelspec": {
   "display_name": "Python 3",
   "language": "python",
   "name": "python3"
  },
  "language_info": {
   "codemirror_mode": {
    "name": "ipython",
    "version": 3
   },
   "file_extension": ".py",
   "mimetype": "text/x-python",
   "name": "python",
   "nbconvert_exporter": "python",
   "pygments_lexer": "ipython3",
   "version": "3.6.4"
  }
 },
 "nbformat": 4,
 "nbformat_minor": 2
}
